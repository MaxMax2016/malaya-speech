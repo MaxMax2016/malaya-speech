{
 "cells": [
  {
   "cell_type": "code",
   "execution_count": 1,
   "metadata": {},
   "outputs": [],
   "source": [
    "import os\n",
    "import warnings\n",
    "\n",
    "os.environ['CUDA_VISIBLE_DEVICES'] = ''\n",
    "warnings.filterwarnings('ignore')"
   ]
  },
  {
   "cell_type": "code",
   "execution_count": 2,
   "metadata": {},
   "outputs": [],
   "source": [
    "import malaya_speech.augmentation.waveform as augmentation\n",
    "import malaya_speech\n",
    "from glob import glob\n",
    "from itertools import cycle\n",
    "from multiprocessing import Pool\n",
    "import itertools\n",
    "import numpy as np\n",
    "import random\n",
    "\n",
    "\n",
    "def chunks(l, n):\n",
    "    for i in range(0, len(l), n):\n",
    "        yield (l[i : i + n], i // n)\n",
    "        \n",
    "def multiprocessing(strings, function, cores = 6, returned = True):\n",
    "    df_split = chunks(strings, len(strings) // cores)\n",
    "    pool = Pool(cores)\n",
    "    print('initiate pool map')\n",
    "    pooled = pool.map(function, df_split)\n",
    "    print('gather from pool')\n",
    "    pool.close()\n",
    "    pool.join()\n",
    "    print('closed pool')\n",
    "\n",
    "    if returned:\n",
    "        return list(itertools.chain(*pooled))\n",
    "    \n",
    "files = glob('/home/husein/youtube/clean-wav-22k/*.wav')\n",
    "random.shuffle(files)\n",
    "file_cycle = cycle(files)\n",
    "\n",
    "noises = glob('/home/husein/youtube/noise-22k/*.wav')\n",
    "random.shuffle(noises)\n",
    "\n",
    "Y_files = glob('output-noise-reduction/*-y.wav')\n",
    "Y_files = cycle(Y_files)\n",
    "\n",
    "sr = 22050\n",
    "partition_size = 4096\n",
    "\n",
    "\n",
    "def get_pair(f):\n",
    "    return f.split('/')[-1].split('-')[0]\n",
    "\n",
    "\n",
    "def read_wav(f):\n",
    "    return malaya_speech.load(f, sr = sr)\n",
    "\n",
    "\n",
    "def random_sampling(s, length):\n",
    "    return augmentation.random_sampling(s, sr = sr, length = length)\n",
    "\n",
    "\n",
    "def random_amplitude(sample, low = 3, high = 5):\n",
    "    y_aug = sample.copy()\n",
    "    dyn_change = np.random.uniform(low = low, high = high)\n",
    "    y_aug = y_aug * dyn_change\n",
    "    return np.clip(y_aug, -1, 1)\n",
    "\n",
    "\n",
    "def random_amplitude_threshold(sample, low = 1, high = 2, threshold = 0.4):\n",
    "    y_aug = sample.copy()\n",
    "    dyn_change = np.random.uniform(low = low, high = high)\n",
    "    y_aug[np.abs(y_aug) >= threshold] = (\n",
    "        y_aug[np.abs(y_aug) >= threshold] * dyn_change\n",
    "    )\n",
    "    return np.clip(y_aug, -1, 1)\n",
    "\n",
    "def add_uniform_noise(sample, power = 0.01, return_noise = False, scale = False):\n",
    "    y_noise = sample.copy()\n",
    "    noise_amp = power * np.random.uniform() * np.amax(y_noise)\n",
    "    noise = noise_amp * np.random.normal(size = y_noise.shape[0])\n",
    "    y_noise = y_noise + noise\n",
    "    if scale:\n",
    "        y_noise = y_noise / (np.max(np.abs(y_noise)) + 1e-9)\n",
    "    if return_noise:\n",
    "        if scale:\n",
    "            noise = noise / (np.max(np.abs(y_noise)) + 1e-9)\n",
    "        return y_noise, noise\n",
    "    else:\n",
    "        return y_noise\n",
    "\n",
    "\n",
    "def calc(signal, seed, add_uniform = False):\n",
    "    random.seed(seed)\n",
    "\n",
    "    choice = random.randint(0, 9)\n",
    "    print('choice', choice)\n",
    "    if choice == 0:\n",
    "\n",
    "        x = augmentation.sox_augment_high(\n",
    "            signal,\n",
    "            min_bass_gain = random.randint(25, 50),\n",
    "            reverberance = random.randint(0, 80),\n",
    "            hf_damping = 10,\n",
    "            room_scale = random.randint(0, 50),\n",
    "            negate = 1,\n",
    "        )\n",
    "    if choice == 1:\n",
    "        x = augmentation.sox_augment_high(\n",
    "            signal,\n",
    "            min_bass_gain = random.randint(25, 70),\n",
    "            reverberance = random.randint(0, 80),\n",
    "            hf_damping = 10,\n",
    "            room_scale = random.randint(0, 50),\n",
    "            negate = 0,\n",
    "        )\n",
    "    if choice == 2:\n",
    "        x = augmentation.sox_augment_low(\n",
    "            signal,\n",
    "            min_bass_gain = random.randint(5, 30),\n",
    "            reverberance = random.randint(0, 80),\n",
    "            hf_damping = 10,\n",
    "            room_scale = random.randint(0, 50),\n",
    "            negate = random.randint(0, 1),\n",
    "        )\n",
    "    if choice == 3:\n",
    "        x = augmentation.sox_augment_combine(\n",
    "            signal,\n",
    "            min_bass_gain_high = random.randint(25, 70),\n",
    "            min_bass_gain_low = random.randint(5, 30),\n",
    "            reverberance = random.randint(0, 80),\n",
    "            hf_damping = 10,\n",
    "            room_scale = random.randint(0, 90),\n",
    "        )\n",
    "    if choice == 4:\n",
    "        x = augmentation.sox_reverb(\n",
    "            signal,\n",
    "            reverberance = random.randint(10, 80),\n",
    "            hf_damping = 10,\n",
    "            room_scale = random.randint(10, 90),\n",
    "        )\n",
    "    if choice == 5:\n",
    "        x = random_amplitude_threshold(\n",
    "            signal, threshold = random.uniform(0.35, 0.8)\n",
    "        )\n",
    "    if choice == 6:\n",
    "        x = augmentation.lowpass_filter(\n",
    "            signal, sr = sr, cutoff = random.randint(200, 551)\n",
    "        )\n",
    "    if choice == 7:\n",
    "        x = augmentation.highpass_filter(\n",
    "            signal, sr = sr, cutoff = random.randint(551, 1653)\n",
    "        )\n",
    "    if choice == 8:\n",
    "        x = augmentation.bandpass_filter(\n",
    "            signal,\n",
    "            sr = sr,\n",
    "            cutoff_low = random.randint(200, 551),\n",
    "            cutoff_high = random.randint(551, 1653),\n",
    "        )\n",
    "    if choice == 9:\n",
    "        x = signal\n",
    "\n",
    "    if choice not in [5] and random.gauss(0.5, 0.14) > 0.6:\n",
    "        x = random_amplitude_threshold(\n",
    "            x, low = 1.0, high = 2.0, threshold = random.uniform(0.6, 0.9)\n",
    "        )\n",
    "\n",
    "    if random.gauss(0.5, 0.14) > 0.6 and add_uniform:\n",
    "        x = add_uniform_noise(\n",
    "            x, power = random.uniform(0.005, 0.015)\n",
    "        )\n",
    "\n",
    "    return x\n",
    "\n",
    "\n",
    "def combine_speakers(files, n = 5):\n",
    "    w_samples = random.sample(files, n)\n",
    "    w_samples = [\n",
    "        random_sampling(read_wav(f)[0], length = 500) for f in w_samples\n",
    "    ]\n",
    "    y = [w_samples[0]]\n",
    "    left = w_samples[0].copy() * random.uniform(0.5, 1.0)\n",
    "    for i in range(1, n):\n",
    "\n",
    "        right = w_samples[i].copy() * random.uniform(0.5, 1.0)\n",
    "\n",
    "        overlap = random.uniform(0.01, 1.25)\n",
    "        left_len = int(overlap * len(left))\n",
    "\n",
    "        padded_right = np.pad(right, (left_len, 0))\n",
    "\n",
    "        if len(left) > len(padded_right):\n",
    "            padded_right = np.pad(\n",
    "                padded_right, (0, len(left) - len(padded_right))\n",
    "            )\n",
    "        else:\n",
    "            left = np.pad(left, (0, len(padded_right) - len(left)))\n",
    "\n",
    "        y.append(padded_right)\n",
    "        left = left + padded_right\n",
    "    return left, y\n",
    "\n",
    "\n",
    "def parallel(f):\n",
    "    y = random_sampling(read_wav(f)[0], length = 5000)\n",
    "    seed = random.randint(0, 100_000_000)\n",
    "    x = calc(y, seed)\n",
    "    if random.gauss(0.5, 0.14) > 0.6:\n",
    "        print('add small noise')\n",
    "        n = combine_speakers(noises, random.randint(1, 20))[0]\n",
    "        n = calc(n, seed, True)\n",
    "        combined, noise = augmentation.add_noise(\n",
    "            x,\n",
    "            n,\n",
    "            factor = random.uniform(0.01, 0.1),\n",
    "            return_noise = True,\n",
    "            rescale = False,\n",
    "        )\n",
    "    else:\n",
    "        combined = x\n",
    "    noise = combined - y\n",
    "    return combined, y, noise\n",
    "\n",
    "\n",
    "def parallel_semisupervised(f):\n",
    "    f_ = get_pair(f)\n",
    "    f_ = f'output-noise-reduction/{f_}-y_.wav'\n",
    "    y = read_wav(f)[0]\n",
    "    combined = read_wav(f_)[0]\n",
    "    length = 5000\n",
    "    sr_ = int(sr / 1000)\n",
    "    up = len(y) - (sr_ * length)\n",
    "    if up < 1:\n",
    "        r = 0\n",
    "    else:\n",
    "        r = np.random.randint(0, up)\n",
    "    y = y[r : r + sr_ * length]\n",
    "    combined = combined[r : r + sr_ * length]\n",
    "    noise = combined - y\n",
    "    return combined, y, noise\n",
    "\n",
    "\n",
    "def loop(files):\n",
    "    files = files[0]\n",
    "    results = []\n",
    "    for f in files:\n",
    "        results.append(parallel(f))\n",
    "    return results\n",
    "\n",
    "\n",
    "def loop_semisupervised(files):\n",
    "    files = files[0]\n",
    "    results = []\n",
    "    for f in files:\n",
    "        results.append(parallel_semisupervised(f))\n",
    "    return results"
   ]
  },
  {
   "cell_type": "code",
   "execution_count": 3,
   "metadata": {},
   "outputs": [],
   "source": [
    "def generate(batch_size = 10, repeat = 1):\n",
    "    while True:\n",
    "        fs = [next(file_cycle) for _ in range(batch_size)]\n",
    "        results = multiprocessing(fs, loop, cores = len(fs))\n",
    "        fs = [next(Y_files) for _ in range(batch_size)]\n",
    "        results.extend(\n",
    "            multiprocessing(fs, loop_semisupervised, cores = len(fs))\n",
    "        )\n",
    "        for _ in range(repeat):\n",
    "            random.shuffle(results)\n",
    "            for r in results:\n",
    "                if (\n",
    "                    not np.isnan(r[0]).any()\n",
    "                    and not np.isnan(r[1]).any()\n",
    "                    and not np.isnan(r[2]).any()\n",
    "                ):\n",
    "                    yield {'combined': r[0], 'y': r[1], 'noise': r[2]}"
   ]
  },
  {
   "cell_type": "code",
   "execution_count": 4,
   "metadata": {},
   "outputs": [],
   "source": [
    "g = generate()"
   ]
  },
  {
   "cell_type": "code",
   "execution_count": 6,
   "metadata": {},
   "outputs": [],
   "source": [
    "import soundfile as sf\n",
    "\n",
    "directory = 'testset-speech-enhancement'\n",
    "!mkdir {directory}"
   ]
  },
  {
   "cell_type": "code",
   "execution_count": 7,
   "metadata": {},
   "outputs": [
    {
     "name": "stderr",
     "output_type": "stream",
     "text": [
      "  0%|          | 0/500 [00:00<?, ?it/s]"
     ]
    },
    {
     "name": "stdout",
     "output_type": "stream",
     "text": [
      "choice 1\n",
      "add small noise\n",
      "choice 9\n",
      "choice 2\n",
      "choice 5\n",
      "choice 9\n",
      "choice 3\n",
      "choice 3\n",
      "choice 7\n",
      "choice 4\n",
      "choice 8\n",
      "add small noise\n",
      "initiate pool map\n",
      "add small noise\n",
      "choice 8\n",
      "choice 1\n",
      "choice 4\n",
      "gather from pool\n",
      "closed pool\n",
      "initiate pool map\n",
      "gather from pool\n"
     ]
    },
    {
     "name": "stderr",
     "output_type": "stream",
     "text": [
      "  0%|          | 1/500 [00:03<27:27,  3.30s/it]"
     ]
    },
    {
     "name": "stdout",
     "output_type": "stream",
     "text": [
      "closed pool\n",
      "initiate pool map\n",
      "choice 3\n",
      "choice 2\n",
      "choice 7\n",
      "choice 7\n",
      "choice 8\n",
      "choice 9\n",
      "choice 6\n",
      "choice 8\n",
      "choice 6\n",
      "choice 5\n",
      "add small noise\n",
      "add small noise\n",
      "add small noise\n",
      "add small noise\n",
      "choice 2\n",
      "choice 6\n",
      "choice 9\n",
      "choice 8\n",
      "gather from pool\n",
      "closed pool\n"
     ]
    },
    {
     "name": "stderr",
     "output_type": "stream",
     "text": [
      "  4%|▍         | 21/500 [00:05<18:41,  2.34s/it]"
     ]
    },
    {
     "name": "stdout",
     "output_type": "stream",
     "text": [
      "initiate pool map\n",
      "gather from pool\n",
      "closed pool\n",
      "choice 3\n",
      "add small noise\n",
      "initiate pool map\n",
      "choice 7\n",
      "choice 5\n",
      "choice 5\n",
      "choice 8\n",
      "choice 6\n",
      "choice 9\n",
      "choice 7\n",
      "choice 7\n",
      "add small noise\n",
      "add small noise\n",
      "choice 8\n",
      "choice 7\n",
      "choice 7\n",
      "choice 3\n",
      "gather from pool\n",
      "closed pool\n",
      "initiate pool map\n"
     ]
    },
    {
     "name": "stderr",
     "output_type": "stream",
     "text": [
      "  8%|▊         | 41/500 [00:07<12:44,  1.67s/it]"
     ]
    },
    {
     "name": "stdout",
     "output_type": "stream",
     "text": [
      "gather from pool\n",
      "closed pool\n"
     ]
    },
    {
     "name": "stderr",
     "output_type": "stream",
     "text": [
      " 11%|█         | 53/500 [00:07<08:42,  1.17s/it]"
     ]
    },
    {
     "name": "stdout",
     "output_type": "stream",
     "text": [
      "choice 3\n",
      "choice 8\n",
      "add small noise\n",
      "choice 3\n",
      "choice 8\n",
      "choice 7\n",
      "choice 6\n",
      "choice 2\n",
      "choice 1\n",
      "choice 8\n",
      "choice 5\n",
      "initiate pool map\n",
      "add small noise\n",
      "add small noise\n",
      "choice 1\n",
      "choice 3\n",
      "choice 8\n",
      "gather from pool\n",
      "closed pool\n",
      "initiate pool map\n"
     ]
    },
    {
     "name": "stderr",
     "output_type": "stream",
     "text": [
      " 12%|█▏        | 61/500 [00:08<06:20,  1.15it/s]"
     ]
    },
    {
     "name": "stdout",
     "output_type": "stream",
     "text": [
      "gather from pool\n",
      "closed pool\n",
      "choice 4\n",
      "add small noise\n",
      "choice 6\n",
      "choice 0\n",
      "add small noise\n",
      "choice 4\n",
      "choice 4\n",
      "choice 4\n",
      "choice 6\n",
      "choice 9\n",
      "choice 5\n",
      "add small noise\n",
      "choice 3\n",
      "initiate pool map\n",
      "add small noise\n",
      "add small noise\n",
      "add small noise\n",
      "choice 4\n",
      "choice 4\n",
      "choice 4\n",
      "choice 5\n",
      "choice 3\n",
      "choice 6\n",
      "gather from pool\n",
      "closed pool\n",
      "initiate pool map\n"
     ]
    },
    {
     "name": "stderr",
     "output_type": "stream",
     "text": [
      " 16%|█▌        | 81/500 [00:10<04:25,  1.58it/s]"
     ]
    },
    {
     "name": "stdout",
     "output_type": "stream",
     "text": [
      "gather from pool\n",
      "closed pool\n",
      "choice 6\n",
      "choice 7\n",
      "choice 4\n",
      "choice 1\n",
      "choice 7\n",
      "choice 5\n",
      "choice 9\n",
      "choice 0\n",
      "add small noise\n",
      "choice 3\n",
      "choice 3\n",
      "initiate pool map\n",
      "add small noise\n",
      "choice 9\n",
      "choice 3\n",
      "gather from pool\n",
      "closed pool\n",
      "initiate pool map\n"
     ]
    },
    {
     "name": "stderr",
     "output_type": "stream",
     "text": [
      " 20%|██        | 101/500 [00:11<03:03,  2.18it/s]"
     ]
    },
    {
     "name": "stdout",
     "output_type": "stream",
     "text": [
      "gather from pool\n",
      "closed pool\n",
      "choice 5\n",
      "choice 7\n",
      "choice 2\n",
      "choice 2\n",
      "add small noise\n",
      "choice 9\n",
      "choice 6\n",
      "choice 6\n",
      "choice 4\n",
      "choice 3\n",
      "choice 4\n",
      "add small noise\n",
      "initiate pool map\n",
      "add small noise\n",
      "choice 7\n",
      "choice 9\n",
      "choice 3\n",
      "gather from pool\n",
      "closed pool\n",
      "initiate pool map\n"
     ]
    },
    {
     "name": "stderr",
     "output_type": "stream",
     "text": [
      " 24%|██▍       | 121/500 [00:13<02:11,  2.87it/s]"
     ]
    },
    {
     "name": "stdout",
     "output_type": "stream",
     "text": [
      "gather from pool\n",
      "closed pool\n",
      "initiate pool map\n",
      "choice 9\n",
      "choice 8\n",
      "choice 2\n",
      "choice 9\n",
      "choice 3\n",
      "choice 2\n",
      "choice 2\n",
      "choice 3\n",
      "choice 7\n",
      "choice 7\n",
      "add small noise\n",
      "choice 3\n",
      "gather from pool\n",
      "closed pool\n",
      "initiate pool map\n",
      "gather from pool\n"
     ]
    },
    {
     "name": "stderr",
     "output_type": "stream",
     "text": [
      " 28%|██▊       | 141/500 [00:14<01:34,  3.81it/s]"
     ]
    },
    {
     "name": "stdout",
     "output_type": "stream",
     "text": [
      "closed pool\n",
      "initiate pool map\n",
      "choice 3\n",
      "choice 6\n",
      "choice 6\n",
      "choice 0\n",
      "choice 6\n",
      "choice 2\n",
      "choice 4\n",
      "choice 6\n",
      "choice 3\n",
      "choice 6\n",
      "gather from pool\n",
      "closed pool\n",
      "initiate pool map\n"
     ]
    },
    {
     "name": "stderr",
     "output_type": "stream",
     "text": [
      " 32%|███▏      | 161/500 [00:15<01:05,  5.16it/s]"
     ]
    },
    {
     "name": "stdout",
     "output_type": "stream",
     "text": [
      "gather from pool\n",
      "closed pool\n",
      "choice 3\n",
      "choice 6\n",
      "choice 5\n",
      "add small noise\n",
      "choice 9\n",
      "choice 5\n",
      "choice 0\n",
      "choice 8\n",
      "choice 2\n",
      "choice 1\n",
      "choice 2\n",
      "initiate pool map\n",
      "add small noise\n",
      "add small noise\n",
      "choice 6\n",
      "choice 1\n",
      "choice 2\n",
      "gather from pool\n",
      "closed pool\n",
      "initiate pool map\n",
      "gather from pool\n"
     ]
    },
    {
     "name": "stderr",
     "output_type": "stream",
     "text": [
      " 36%|███▌      | 181/500 [00:16<00:51,  6.20it/s]"
     ]
    },
    {
     "name": "stdout",
     "output_type": "stream",
     "text": [
      "closed pool\n",
      "initiate pool map\n",
      "choice 1\n",
      "add small noise\n",
      "choice 5\n",
      "choice 8\n",
      "choice 9\n",
      "choice 0\n",
      "choice 9\n",
      "add small noise\n",
      "choice 1\n",
      "choice 8\n",
      "choice 5\n",
      "choice 9\n",
      "add small noise\n",
      "add small noise\n",
      "choice 9\n",
      "choice 9\n",
      "choice 5\n",
      "choice 1\n",
      "gather from pool\n",
      "closed pool\n",
      "initiate pool map\n",
      "gather from pool\n"
     ]
    },
    {
     "name": "stderr",
     "output_type": "stream",
     "text": [
      " 40%|████      | 201/500 [00:18<00:41,  7.16it/s]"
     ]
    },
    {
     "name": "stdout",
     "output_type": "stream",
     "text": [
      "closed pool\n",
      "initiate pool map\n",
      "choice 9\n",
      "choice 1\n",
      "choice 7\n",
      "choice 4\n",
      "choice 2\n",
      "choice 6\n",
      "choice 5\n",
      "choice 0\n",
      "choice 6\n",
      "choice 2\n",
      "add small noise\n",
      "add small noise\n",
      "choice 6\n",
      "choice 5\n",
      "gather from pool\n",
      "closed pool\n",
      "initiate pool map\n"
     ]
    },
    {
     "name": "stderr",
     "output_type": "stream",
     "text": [
      " 44%|████▍     | 221/500 [00:21<00:37,  7.46it/s]"
     ]
    },
    {
     "name": "stdout",
     "output_type": "stream",
     "text": [
      "gather from pool\n",
      "closed pool\n",
      "choice 2\n",
      "choice 6\n",
      "choice 0\n",
      "choice 8\n",
      "choice 9\n",
      "choice 1\n",
      "choice 4\n",
      "choice 0\n",
      "choice 5\n",
      "choice 8\n",
      "initiate pool map\n",
      "gather from pool\n",
      "closed pool\n",
      "initiate pool map\n"
     ]
    },
    {
     "name": "stderr",
     "output_type": "stream",
     "text": [
      " 48%|████▊     | 241/500 [00:21<00:26,  9.60it/s]"
     ]
    },
    {
     "name": "stdout",
     "output_type": "stream",
     "text": [
      "gather from pool\n",
      "closed pool\n",
      "choice 0\n",
      "choice 8\n",
      "choice 9\n",
      "choice 6\n",
      "choice 4\n",
      "choice 7\n",
      "choice 7\n",
      "choice 6\n",
      "choice 5\n",
      "choice 4\n",
      "add small noise\n",
      "initiate pool map\n",
      "add small noise\n",
      "add small noise\n",
      "choice 4\n",
      "choice 6\n",
      "choice 4\n",
      "gather from pool\n",
      "closed pool\n",
      "initiate pool map\n"
     ]
    },
    {
     "name": "stderr",
     "output_type": "stream",
     "text": [
      " 52%|█████▏    | 261/500 [00:23<00:23, 10.27it/s]"
     ]
    },
    {
     "name": "stdout",
     "output_type": "stream",
     "text": [
      "gather from pool\n",
      "closed pool\n",
      "choice 5\n",
      "choice 4\n",
      "choice 0\n",
      "choice 2\n",
      "choice 0\n",
      "choice 5\n",
      "choice 1\n",
      "choice 1\n",
      "choice 4\n",
      "choice 9\n",
      "add small noise\n",
      "initiate pool map\n",
      "add small noise\n",
      "add small noise\n",
      "choice 5\n",
      "choice 2\n",
      "choice 1\n",
      "gather from pool\n",
      "closed pool\n",
      "initiate pool map\n"
     ]
    },
    {
     "name": "stderr",
     "output_type": "stream",
     "text": [
      " 56%|█████▌    | 281/500 [00:25<00:22,  9.61it/s]"
     ]
    },
    {
     "name": "stdout",
     "output_type": "stream",
     "text": [
      "gather from pool\n",
      "closed pool\n",
      "choice 7\n",
      "choice 8\n",
      "choice 6\n",
      "choice 9\n",
      "choice 6\n",
      "choice 8\n",
      "choice 1\n",
      "choice 0\n",
      "choice 4\n",
      "choice 5\n",
      "add small noise\n",
      "initiate pool map\n",
      "add small noise\n",
      "choice 6\n",
      "choice 0\n",
      "gather from pool\n",
      "closed pool\n"
     ]
    },
    {
     "name": "stderr",
     "output_type": "stream",
     "text": [
      " 60%|██████    | 301/500 [00:26<00:18, 10.94it/s]"
     ]
    },
    {
     "name": "stdout",
     "output_type": "stream",
     "text": [
      "initiate pool map\n",
      "gather from pool\n",
      "closed pool\n",
      "choice 1\n",
      "choice 7\n",
      "choice 7\n",
      "choice 7\n",
      "choice 0\n",
      "choice 5\n",
      "choice 9\n",
      "choice 5\n",
      "choice 7\n",
      "choice 2\n",
      "add small noise\n",
      "add small noise\n",
      "initiate pool map\n",
      "add small noise\n",
      "choice 9\n",
      "choice 0\n",
      "choice 7\n",
      "gather from pool\n",
      "closed pool\n",
      "initiate pool map\n"
     ]
    },
    {
     "name": "stderr",
     "output_type": "stream",
     "text": [
      " 64%|██████▍   | 321/500 [00:28<00:15, 11.41it/s]"
     ]
    },
    {
     "name": "stdout",
     "output_type": "stream",
     "text": [
      "gather from pool\n",
      "closed pool\n",
      "choice 0\n",
      "choice 5\n",
      "choice 0\n",
      "choice 9\n",
      "choice 9\n",
      "choice 5\n",
      "choice 0\n",
      "choice 7\n",
      "choice 2\n",
      "choice 8\n",
      "add small noise\n",
      "add small noise\n",
      "initiate pool map\n",
      "choice 5\n",
      "choice 9\n",
      "gather from pool\n",
      "closed pool\n"
     ]
    },
    {
     "name": "stderr",
     "output_type": "stream",
     "text": [
      " 68%|██████▊   | 341/500 [00:29<00:12, 12.82it/s]"
     ]
    },
    {
     "name": "stdout",
     "output_type": "stream",
     "text": [
      "initiate pool map\n",
      "gather from pool\n",
      "closed pool\n"
     ]
    },
    {
     "name": "stderr",
     "output_type": "stream",
     "text": [
      " 72%|███████▏  | 359/500 [00:29<00:08, 17.57it/s]"
     ]
    },
    {
     "name": "stdout",
     "output_type": "stream",
     "text": [
      "initiate pool map\n",
      "choice 2\n",
      "choice 8\n",
      "choice 5\n",
      "choice 9\n",
      "choice 4\n",
      "choice 7\n",
      "choice 6\n",
      "choice 3\n",
      "choice 0\n",
      "choice 6\n",
      "add small noise\n",
      "choice 8\n",
      "gather from pool\n",
      "closed pool\n",
      "initiate pool map\n",
      "gather from pool\n"
     ]
    },
    {
     "name": "stderr",
     "output_type": "stream",
     "text": [
      " 73%|███████▎  | 364/500 [00:30<00:13,  9.99it/s]"
     ]
    },
    {
     "name": "stdout",
     "output_type": "stream",
     "text": [
      "closed pool\n",
      "initiate pool map\n",
      "choice 6\n",
      "add small noise\n",
      "choice 0\n",
      "choice 7\n",
      "choice 7\n",
      "choice 6\n",
      "choice 1\n",
      "choice 4\n",
      "choice 5\n",
      "choice 1\n",
      "choice 1\n",
      "add small noise\n",
      "choice 6\n",
      "choice 5\n",
      "gather from pool\n",
      "closed pool\n",
      "initiate pool map\n",
      "gather from pool\n"
     ]
    },
    {
     "name": "stderr",
     "output_type": "stream",
     "text": [
      " 76%|███████▌  | 381/500 [00:33<00:14,  8.42it/s]"
     ]
    },
    {
     "name": "stdout",
     "output_type": "stream",
     "text": [
      "closed pool\n"
     ]
    },
    {
     "name": "stderr",
     "output_type": "stream",
     "text": [
      " 80%|███████▉  | 399/500 [00:33<00:08, 11.78it/s]"
     ]
    },
    {
     "name": "stdout",
     "output_type": "stream",
     "text": [
      "choice 2\n",
      "choice 2\n",
      "choice 9\n",
      "choice 1\n",
      "add small noise\n",
      "choice 4\n",
      "choice 3\n",
      "choice 7\n",
      "choice 5\n",
      "choice 0\n",
      "choice 4\n",
      "add small noise\n",
      "add small noise\n",
      "choice 5\n",
      "initiate pool map\n",
      "add small noise\n",
      "add small noise\n",
      "choice 4\n",
      "choice 9\n",
      "choice 1\n",
      "choice 7\n",
      "gather from pool\n",
      "closed pool\n",
      "initiate pool map\n",
      "gather from pool\n"
     ]
    },
    {
     "name": "stderr",
     "output_type": "stream",
     "text": [
      " 81%|████████▏ | 407/500 [00:35<00:10,  8.81it/s]"
     ]
    },
    {
     "name": "stdout",
     "output_type": "stream",
     "text": [
      "closed pool\n",
      "initiate pool map\n",
      "choice 3\n",
      "choice 3\n",
      "choice 5\n",
      "choice 8\n",
      "choice 5\n",
      "choice 4\n",
      "choice 8\n",
      "choice 4\n",
      "choice 9\n",
      "choice 8\n",
      "add small noise\n",
      "add small noise\n",
      "choice 9\n",
      "choice 4\n",
      "gather from pool\n",
      "closed pool\n",
      "initiate pool map\n"
     ]
    },
    {
     "name": "stderr",
     "output_type": "stream",
     "text": [
      " 84%|████████▍ | 421/500 [00:36<00:08,  9.73it/s]"
     ]
    },
    {
     "name": "stdout",
     "output_type": "stream",
     "text": [
      "gather from pool\n",
      "closed pool\n",
      "choice 6\n",
      "choice 2\n",
      "choice 3\n",
      "choice 4\n",
      "choice 8\n",
      "choice 3\n",
      "choice 4\n",
      "choice 0\n",
      "choice 8\n",
      "choice 6\n",
      "add small noise\n",
      "add small noise\n",
      "add small noise\n",
      "initiate pool map\n",
      "choice 8\n",
      "choice 6\n",
      "choice 4\n",
      "gather from pool\n",
      "closed pool\n",
      "initiate pool map\n",
      "gather from pool\n"
     ]
    },
    {
     "name": "stderr",
     "output_type": "stream",
     "text": [
      " 88%|████████▊ | 441/500 [00:37<00:05, 10.28it/s]"
     ]
    },
    {
     "name": "stdout",
     "output_type": "stream",
     "text": [
      "closed pool\n",
      "choice 1\n",
      "initiate pool map\n",
      "add small noise\n",
      "choice 4\n",
      "choice 2\n",
      "choice 5\n",
      "choice 0\n",
      "choice 6\n",
      "choice 7\n",
      "choice 7\n",
      "choice 7\n",
      "choice 5\n",
      "add small noise\n",
      "add small noise\n",
      "add small noise\n",
      "choice 1\n",
      "choice 2\n",
      "choice 7\n",
      "choice 0\n",
      "gather from pool\n",
      "closed pool\n",
      "initiate pool map\n",
      "gather from pool\n"
     ]
    },
    {
     "name": "stderr",
     "output_type": "stream",
     "text": [
      " 92%|█████████▏| 461/500 [00:39<00:03, 11.61it/s]"
     ]
    },
    {
     "name": "stdout",
     "output_type": "stream",
     "text": [
      "closed pool\n",
      "choice 3\n",
      "choice 6\n",
      "choice 1\n",
      "initiate pool map\n",
      "choice 1\n",
      "choice 3\n",
      "choice 7\n",
      "choice 5\n",
      "choice 7\n",
      "choice 2\n",
      "choice 1\n",
      "gather from pool\n",
      "closed pool\n",
      "initiate pool map\n"
     ]
    },
    {
     "name": "stderr",
     "output_type": "stream",
     "text": [
      " 96%|█████████▌| 481/500 [00:39<00:01, 13.92it/s]"
     ]
    },
    {
     "name": "stdout",
     "output_type": "stream",
     "text": [
      "gather from pool\n",
      "closed pool\n"
     ]
    },
    {
     "name": "stderr",
     "output_type": "stream",
     "text": [
      "100%|██████████| 500/500 [00:39<00:00, 12.52it/s]\n"
     ]
    }
   ],
   "source": [
    "from tqdm import tqdm\n",
    "\n",
    "for i in tqdm(range(500)):\n",
    "    r = next(g)\n",
    "    sf.write(f'{directory}/{i}-y_.wav', r['combined'], 22050)\n",
    "    sf.write(f'{directory}/{i}-y.wav', r['y'], 22050)"
   ]
  },
  {
   "cell_type": "code",
   "execution_count": 8,
   "metadata": {},
   "outputs": [
    {
     "name": "stdout",
     "output_type": "stream",
     "text": [
      "211M\ttestset-speech-enhancement\r\n"
     ]
    }
   ],
   "source": [
    "!du -hs {directory}"
   ]
  }
 ],
 "metadata": {
  "kernelspec": {
   "display_name": "Python 3",
   "language": "python",
   "name": "python3"
  },
  "language_info": {
   "codemirror_mode": {
    "name": "ipython",
    "version": 3
   },
   "file_extension": ".py",
   "mimetype": "text/x-python",
   "name": "python",
   "nbconvert_exporter": "python",
   "pygments_lexer": "ipython3",
   "version": "3.6.9"
  }
 },
 "nbformat": 4,
 "nbformat_minor": 2
}

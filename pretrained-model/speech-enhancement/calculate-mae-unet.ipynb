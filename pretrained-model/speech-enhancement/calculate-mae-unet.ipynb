{
 "cells": [
  {
   "cell_type": "code",
   "execution_count": 1,
   "metadata": {},
   "outputs": [],
   "source": [
    "import os\n",
    "\n",
    "os.environ['CUDA_VISIBLE_DEVICES'] = '1'"
   ]
  },
  {
   "cell_type": "code",
   "execution_count": 2,
   "metadata": {},
   "outputs": [
    {
     "name": "stdout",
     "output_type": "stream",
     "text": [
      "WARNING:tensorflow:From /home/husein/malaya-speech/malaya_speech/train/model/quartznet/layer.py:6: The name tf.layers.Conv1D is deprecated. Please use tf.compat.v1.layers.Conv1D instead.\n",
      "\n",
      "WARNING:tensorflow:\n",
      "The TensorFlow contrib module will not be included in TensorFlow 2.0.\n",
      "For more information, please see:\n",
      "  * https://github.com/tensorflow/community/blob/master/rfcs/20180907-contrib-sunset.md\n",
      "  * https://github.com/tensorflow/addons\n",
      "  * https://github.com/tensorflow/io (for I/O related ops)\n",
      "If you depend on functionality not listed there, please file an issue.\n",
      "\n"
     ]
    }
   ],
   "source": [
    "import tensorflow as tf\n",
    "import malaya_speech\n",
    "import malaya_speech.train\n",
    "from malaya_speech.train.model import unet\n",
    "from malaya_speech.utils import tf_featurization\n",
    "import malaya_speech.augmentation.waveform as augmentation\n",
    "import IPython.display as ipd\n",
    "import numpy as np\n",
    "from malaya_speech.utils.tf_featurization import separation_exponent, EPSILON"
   ]
  },
  {
   "cell_type": "code",
   "execution_count": 3,
   "metadata": {},
   "outputs": [],
   "source": [
    "# !pip3 install museval\n",
    "import museval"
   ]
  },
  {
   "cell_type": "code",
   "execution_count": 4,
   "metadata": {},
   "outputs": [],
   "source": [
    "class Model:\n",
    "    def __init__(self, size = 2):\n",
    "        self.X = tf.placeholder(tf.float32, (None))\n",
    "        self.Y = tf.placeholder(tf.float32, (size, None))\n",
    "        \n",
    "        stft_X, D_X = tf_featurization.get_stft(self.X)\n",
    "        \n",
    "        self.stft = []\n",
    "        for i in range(size):\n",
    "            self.stft.append(tf_featurization.get_stft(self.Y[i]))\n",
    "        \n",
    "        self.outputs = []\n",
    "        for i in range(size):\n",
    "            with tf.variable_scope(f'model_{i}'):\n",
    "                self.outputs.append(unet.Model(D_X).logits)\n",
    "        \n",
    "        self.loss = []\n",
    "        for i in range(size):\n",
    "            self.loss.append(\n",
    "                tf.reduce_mean(tf.abs(self.outputs[i] - self.stft[i][1]))\n",
    "            )\n",
    "\n",
    "        self.cost = tf.reduce_sum(self.loss)\n",
    "        \n",
    "        output_sum = tf.reduce_sum([o ** separation_exponent for o in self.outputs], axis=0) + EPSILON\n",
    "        \n",
    "        self.istft = []\n",
    "        for no, D in enumerate(self.outputs):\n",
    "\n",
    "            instrument_mask = (D ** separation_exponent + (EPSILON / size)) / output_sum\n",
    "            instrument_mask = tf_featurization.extend_mask(instrument_mask)\n",
    "            old_shape = tf.shape(instrument_mask)\n",
    "            new_shape = tf.concat(\n",
    "                [[old_shape[0] * old_shape[1]], old_shape[2:]],\n",
    "                axis=0)\n",
    "            instrument_mask = tf.reshape(instrument_mask, new_shape)\n",
    "\n",
    "            instrument_mask = instrument_mask[:tf.shape(stft_X)[0]]\n",
    "            masked_stft = tf.cast(instrument_mask, dtype=tf.complex64) * stft_X\n",
    "            self.istft.append(tf_featurization.istft(masked_stft, self.X)[:,0])\n",
    "        \n",
    "        for i in range(size):\n",
    "            tf.identity(self.istft[i], name = f'logits_{i}')"
   ]
  },
  {
   "cell_type": "code",
   "execution_count": 5,
   "metadata": {
    "scrolled": true
   },
   "outputs": [
    {
     "name": "stdout",
     "output_type": "stream",
     "text": [
      "WARNING:tensorflow:From /home/husein/.local/lib/python3.6/site-packages/tensorflow_core/python/ops/resource_variable_ops.py:1630: calling BaseResourceVariable.__init__ (from tensorflow.python.ops.resource_variable_ops) with constraint is deprecated and will be removed in a future version.\n",
      "Instructions for updating:\n",
      "If using Keras pass *_constraint arguments to layers.\n"
     ]
    }
   ],
   "source": [
    "tf.compat.v1.reset_default_graph()\n",
    "model = Model()\n",
    "sess = tf.InteractiveSession()\n",
    "sess.run(tf.global_variables_initializer())"
   ]
  },
  {
   "cell_type": "code",
   "execution_count": 6,
   "metadata": {},
   "outputs": [
    {
     "name": "stdout",
     "output_type": "stream",
     "text": [
      "INFO:tensorflow:Restoring parameters from speech-enhancement-unet/model.ckpt-500000\n"
     ]
    }
   ],
   "source": [
    "var_lists = tf.get_collection(tf.GraphKeys.GLOBAL_VARIABLES)\n",
    "saver = tf.train.Saver(var_list = var_lists)\n",
    "saver.restore(sess, 'speech-enhancement-unet/model.ckpt-500000')"
   ]
  },
  {
   "cell_type": "code",
   "execution_count": 7,
   "metadata": {},
   "outputs": [],
   "source": [
    "import pickle\n",
    "\n",
    "with open('test-set-speech-enhancement.pkl', 'rb') as fopen:\n",
    "    results = pickle.load(fopen)"
   ]
  },
  {
   "cell_type": "code",
   "execution_count": 8,
   "metadata": {},
   "outputs": [
    {
     "data": {
      "text/plain": [
       "(array([ 0.01514318,  0.01278879,  0.00750327, ..., -0.21006574,\n",
       "        -0.21571529, -0.21963991]),\n",
       " array([0.01038297, 0.00744865, 0.00195621, ..., 0.00248288, 0.00225717,\n",
       "        0.00489053]),\n",
       " array([ 0.00476021,  0.00534014,  0.00554706, ..., -0.21254863,\n",
       "        -0.21797246, -0.22453044]))"
      ]
     },
     "execution_count": 8,
     "metadata": {},
     "output_type": "execute_result"
    }
   ],
   "source": [
    "results[0]"
   ]
  },
  {
   "cell_type": "code",
   "execution_count": 9,
   "metadata": {},
   "outputs": [
    {
     "data": {
      "text/plain": [
       "[0.9264984, [0.50170124, 0.42479718]]"
      ]
     },
     "execution_count": 9,
     "metadata": {},
     "output_type": "execute_result"
    }
   ],
   "source": [
    "sess.run([model.cost, model.loss], feed_dict = {model.X: results[0][0],\n",
    "                                               model.Y: results[0][1:]})"
   ]
  },
  {
   "cell_type": "code",
   "execution_count": 10,
   "metadata": {},
   "outputs": [
    {
     "name": "stderr",
     "output_type": "stream",
     "text": [
      "100%|██████████| 100/100 [03:49<00:00,  2.30s/it]\n"
     ]
    }
   ],
   "source": [
    "from tqdm import tqdm\n",
    "\n",
    "total, voice, noise = [], [], []\n",
    "\n",
    "SDR, ISR, SAR = [], [], []\n",
    "\n",
    "for i in tqdm(range(len(results))):\n",
    "    c, l = sess.run([model.cost, model.loss], feed_dict = {model.X: results[i][0],\n",
    "                                               model.Y: results[i][1:]})\n",
    "    total.append(c)\n",
    "    voice.append(l[0])\n",
    "    noise.append(l[1])\n",
    "    \n",
    "    y_ = sess.run(model.istft, feed_dict = {model.X: results[i][0]})[0]\n",
    "    sdr, isr, _, sar = museval.evaluate(np.reshape(results[i][1], (1, -1)), \n",
    "                                        np.reshape(y_, (1, -1)))\n",
    "    SDR.append(np.nanmean(sdr))\n",
    "    ISR.append(np.nanmean(isr))\n",
    "    SAR.append(np.nanmean(sar))"
   ]
  },
  {
   "cell_type": "code",
   "execution_count": 11,
   "metadata": {},
   "outputs": [
    {
     "data": {
      "text/plain": [
       "0.85896146"
      ]
     },
     "execution_count": 11,
     "metadata": {},
     "output_type": "execute_result"
    }
   ],
   "source": [
    "np.mean(total)"
   ]
  },
  {
   "cell_type": "code",
   "execution_count": 12,
   "metadata": {},
   "outputs": [
    {
     "data": {
      "text/plain": [
       "0.46849293"
      ]
     },
     "execution_count": 12,
     "metadata": {},
     "output_type": "execute_result"
    }
   ],
   "source": [
    "np.mean(voice)"
   ]
  },
  {
   "cell_type": "code",
   "execution_count": 13,
   "metadata": {},
   "outputs": [
    {
     "data": {
      "text/plain": [
       "0.39046836"
      ]
     },
     "execution_count": 13,
     "metadata": {},
     "output_type": "execute_result"
    }
   ],
   "source": [
    "np.mean(noise)"
   ]
  },
  {
   "cell_type": "code",
   "execution_count": 14,
   "metadata": {},
   "outputs": [
    {
     "data": {
      "text/plain": [
       "12.128058507584178"
      ]
     },
     "execution_count": 14,
     "metadata": {},
     "output_type": "execute_result"
    }
   ],
   "source": [
    "np.mean(SDR)"
   ]
  },
  {
   "cell_type": "code",
   "execution_count": 15,
   "metadata": {},
   "outputs": [
    {
     "data": {
      "text/plain": [
       "14.670673275971492"
      ]
     },
     "execution_count": 15,
     "metadata": {},
     "output_type": "execute_result"
    }
   ],
   "source": [
    "np.mean(ISR)"
   ]
  },
  {
   "cell_type": "code",
   "execution_count": 16,
   "metadata": {},
   "outputs": [
    {
     "data": {
      "text/plain": [
       "15.019682991750814"
      ]
     },
     "execution_count": 16,
     "metadata": {},
     "output_type": "execute_result"
    }
   ],
   "source": [
    "np.mean(SAR)"
   ]
  }
 ],
 "metadata": {
  "kernelspec": {
   "display_name": "Python 3",
   "language": "python",
   "name": "python3"
  },
  "language_info": {
   "codemirror_mode": {
    "name": "ipython",
    "version": 3
   },
   "file_extension": ".py",
   "mimetype": "text/x-python",
   "name": "python",
   "nbconvert_exporter": "python",
   "pygments_lexer": "ipython3",
   "version": "3.6.8"
  }
 },
 "nbformat": 4,
 "nbformat_minor": 2
}

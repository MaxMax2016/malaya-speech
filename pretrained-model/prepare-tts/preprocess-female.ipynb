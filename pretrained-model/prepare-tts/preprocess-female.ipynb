{
 "cells": [
  {
   "cell_type": "code",
   "execution_count": 1,
   "metadata": {},
   "outputs": [],
   "source": [
    "# !wget https://f000.backblazeb2.com/file/malaya-speech-model/data/salina.gz\n",
    "# !tar -xf salina.gz\n",
    "# !wget https://f000.backblazeb2.com/file/malaya-speech-model/data/salina-short.gz\n",
    "# !tar -xf salina-short.gz"
   ]
  },
  {
   "cell_type": "code",
   "execution_count": 2,
   "metadata": {},
   "outputs": [],
   "source": [
    "import parselmouth\n",
    "import librosa\n",
    "import pyworld as pw\n",
    "from sklearn.preprocessing import StandardScaler\n",
    "import numpy as np\n",
    "import os"
   ]
  },
  {
   "cell_type": "code",
   "execution_count": 3,
   "metadata": {},
   "outputs": [],
   "source": [
    "# !pip3 install malaya-gpu -U --no-deps"
   ]
  },
  {
   "cell_type": "code",
   "execution_count": 4,
   "metadata": {},
   "outputs": [
    {
     "name": "stderr",
     "output_type": "stream",
     "text": [
      "/home/husein/.local/lib/python3.6/site-packages/ipykernel_launcher.py:4: YAMLLoadWarning: calling yaml.load() without Loader=... is deprecated, as the default Loader is unsafe. Please read https://msg.pyyaml.org/load for full details.\n",
      "  after removing the cwd from sys.path.\n"
     ]
    },
    {
     "data": {
      "text/plain": [
       "{'sampling_rate': 22050,\n",
       " 'fft_size': 1024,\n",
       " 'hop_size': 256,\n",
       " 'win_length': None,\n",
       " 'window': 'hann',\n",
       " 'num_mels': 80,\n",
       " 'fmin': 80,\n",
       " 'fmax': 7600,\n",
       " 'global_gain_scale': 1.0,\n",
       " 'trim_silence': True,\n",
       " 'trim_threshold_in_db': 20,\n",
       " 'trim_frame_size': 2048,\n",
       " 'trim_hop_size': 512}"
      ]
     },
     "execution_count": 4,
     "metadata": {},
     "output_type": "execute_result"
    }
   ],
   "source": [
    "import yaml\n",
    "\n",
    "with open('config.yaml') as fopen:\n",
    "    config = yaml.load(fopen)\n",
    "    \n",
    "config"
   ]
  },
  {
   "cell_type": "code",
   "execution_count": 5,
   "metadata": {},
   "outputs": [],
   "source": [
    "import numpy as np\n",
    "\n",
    "# https://github.com/TensorSpeech/TensorFlowTTS/blob/master/tensorflow_tts/utils/outliers.py\n",
    "def is_outlier(x, p25, p75):\n",
    "    \"\"\"Check if value is an outlier.\"\"\"\n",
    "    lower = p25 - 1.5 * (p75 - p25)\n",
    "    upper = p75 + 1.5 * (p75 - p25)\n",
    "    return x <= lower or x >= upper\n",
    "\n",
    "\n",
    "def remove_outlier(x, p_bottom: int = 25, p_top: int = 75):\n",
    "    \"\"\"Remove outlier from x.\"\"\"\n",
    "    p_bottom = np.percentile(x, p_bottom)\n",
    "    p_top = np.percentile(x, p_top)\n",
    "\n",
    "    indices_of_outliers = []\n",
    "    for ind, value in enumerate(x):\n",
    "        if is_outlier(value, p_bottom, p_top):\n",
    "            indices_of_outliers.append(ind)\n",
    "\n",
    "    x[indices_of_outliers] = 0.0\n",
    "    x[indices_of_outliers] = np.max(x)\n",
    "    return x"
   ]
  },
  {
   "cell_type": "code",
   "execution_count": 6,
   "metadata": {},
   "outputs": [],
   "source": [
    "import re\n",
    "\n",
    "_pad = 'pad'\n",
    "_start = 'start'\n",
    "_eos = 'eos'\n",
    "_punctuation = \"!'(),.:;? \"\n",
    "_special = '-'\n",
    "_letters = 'ABCDEFGHIJKLMNOPQRSTUVWXYZabcdefghijklmnopqrstuvwxyz'\n",
    "\n",
    "MALAYA_SPEECH_SYMBOLS = (\n",
    "    [_pad, _start, _eos] + list(_special) + list(_punctuation) + list(_letters)\n",
    ")"
   ]
  },
  {
   "cell_type": "code",
   "execution_count": 7,
   "metadata": {},
   "outputs": [],
   "source": [
    "def tts_encode(string: str, add_eos: bool = True):\n",
    "    r = [MALAYA_SPEECH_SYMBOLS.index(c) for c in string if c in MALAYA_SPEECH_SYMBOLS]\n",
    "    if add_eos:\n",
    "        r = r + [MALAYA_SPEECH_SYMBOLS.index('eos')]\n",
    "    return r"
   ]
  },
  {
   "cell_type": "code",
   "execution_count": 8,
   "metadata": {},
   "outputs": [],
   "source": [
    "from unidecode import unidecode\n",
    "import malaya\n",
    "\n",
    "normalizer = malaya.normalize.normalizer(date = False, time = False, money = False)\n",
    "\n",
    "def put_spacing_num(string):\n",
    "    string = re.sub('[A-Za-z]+', lambda ele: ' ' + ele[0] + ' ', string)\n",
    "    return re.sub(r'[ ]+', ' ', string).strip()\n",
    "\n",
    "def convert_to_ascii(string):\n",
    "    return unidecode(string)\n",
    "\n",
    "def collapse_whitespace(string):\n",
    "    return re.sub(_whitespace_re, ' ', string)\n",
    "\n",
    "def cleaning(string, normalize = True, add_eos = False):\n",
    "    sequence = []\n",
    "    string = convert_to_ascii(string)\n",
    "    string = string.replace('&', ' dan ')\n",
    "    string = re.sub(r'[ ]+', ' ', string).strip()\n",
    "    if string[-1] in ['-', ',']:\n",
    "        string = string[:-1]\n",
    "    if string[-1] != '.':\n",
    "        string = string + '.'\n",
    "    if normalize:\n",
    "        string = normalizer.normalize(string, \n",
    "                                      check_english = False, \n",
    "                                      normalize_entity = False, \n",
    "                                      normalize_text = False,\n",
    "                                      normalize_url = True,\n",
    "                                      normalize_email = True,\n",
    "                                      normalize_year = True,)\n",
    "        string = string['normalize']\n",
    "    else:\n",
    "        string = string\n",
    "    string = put_spacing_num(string)\n",
    "    string = ''.join([c for c in string if c in MALAYA_SPEECH_SYMBOLS])\n",
    "    string = re.sub(r'[ ]+', ' ', string).strip()\n",
    "    string = string.lower()\n",
    "    return string, tts_encode(string, add_eos = add_eos)"
   ]
  },
  {
   "cell_type": "code",
   "execution_count": 9,
   "metadata": {},
   "outputs": [],
   "source": [
    "# from glob import glob\n",
    "# from tqdm import tqdm\n",
    "\n",
    "# txts = glob('salina/*salina*/*.txt')\n",
    "# txts.extend(glob('../youtube/malay2/*salina-short*/*salina*/*.txt'))\n",
    "# len(txts)"
   ]
  },
  {
   "cell_type": "code",
   "execution_count": 10,
   "metadata": {},
   "outputs": [],
   "source": [
    "# r = []\n",
    "# for t in txts:\n",
    "#     with open(t) as fopen:\n",
    "#         r.append(fopen.read())"
   ]
  },
  {
   "cell_type": "code",
   "execution_count": 11,
   "metadata": {
    "scrolled": true
   },
   "outputs": [
    {
     "data": {
      "text/plain": [
       "(39482,\n",
       " ['salina/output-text-salina/tiga-4.mp3-441.wav.txt',\n",
       "  'bila hendak ketawa berlanjutan memandang ibunya sambil berkata',\n",
       "  'Bila hendak ketawa berlanjutan memandang ibunya sambil berkata,'])"
      ]
     },
     "execution_count": 11,
     "metadata": {},
     "output_type": "execute_result"
    }
   ],
   "source": [
    "import json\n",
    "from glob import glob\n",
    "from tqdm import tqdm\n",
    "\n",
    "with open('true-case-female.json') as fopen:\n",
    "    txts = json.load(fopen)\n",
    "    \n",
    "len(txts), txts[0]"
   ]
  },
  {
   "cell_type": "code",
   "execution_count": 12,
   "metadata": {},
   "outputs": [],
   "source": [
    "import matplotlib.pyplot as plt\n",
    "import IPython.display as ipd"
   ]
  },
  {
   "cell_type": "code",
   "execution_count": 13,
   "metadata": {},
   "outputs": [],
   "source": [
    "silent = np.load('silent-female.npy')"
   ]
  },
  {
   "cell_type": "code",
   "execution_count": 14,
   "metadata": {},
   "outputs": [],
   "source": [
    "import malaya_speech\n",
    "from malaya_speech import Pipeline\n",
    "vad = malaya_speech.vad.webrtc()\n",
    "\n",
    "def process(txts, silent_trail = int(0.05 * config['sampling_rate']), maxlen = 25):\n",
    "    txts = txts[0]\n",
    "    audios, mels, text_ids, f0s, energies, pitches = [], [], [], [], [], []\n",
    "\n",
    "    for f in tqdm(txts):\n",
    "        text = f[2]\n",
    "        f = f[0]\n",
    "        f = f.replace('../youtube/malay/', '').replace('../youtube/malay2/', '')\n",
    "        if re.match('^.*(RM|rm)[0-9]+.*$', text):\n",
    "            continue\n",
    "        text = cleaning(text)\n",
    "        r = f.replace('output-text', 'output-wav').replace('.txt', '')\n",
    "\n",
    "        audio, _ = malaya_speech.load(r, sr = config['sampling_rate'])\n",
    "\n",
    "        if (len(audio) / config['sampling_rate']) > maxlen:\n",
    "            print('skipped, audio too long')\n",
    "            continue\n",
    "\n",
    "        if config['trim_silence']:\n",
    "            y_= malaya_speech.resample(audio, config['sampling_rate'], 16000)\n",
    "            y_ = malaya_speech.astype.float_to_int(y_)\n",
    "            frames = list(malaya_speech.generator.frames(audio, 30, config['sampling_rate']))\n",
    "            frames_ = list(malaya_speech.generator.frames(y_, 30, 16000, append_ending_trail = False))\n",
    "            frames_webrtc = [(frames[no], vad(frame)) for no, frame in enumerate(frames_)]\n",
    "            grouped_deep = malaya_speech.group.group_frames(frames_webrtc)\n",
    "            grouped_deep = malaya_speech.group.group_frames_threshold(grouped_deep, 0.1)\n",
    "            r = []\n",
    "            for no, g in enumerate(grouped_deep):\n",
    "                if g[1]:\n",
    "                    g = g[0].array\n",
    "                else:\n",
    "                    if no == 0:\n",
    "                        g = silent[:200]\n",
    "                    # elif no == (len(grouped_deep) - 1):\n",
    "                        # g = g[0].array[:silent_trail]\n",
    "                    else:\n",
    "                        # g = np.concatenate([g[0].array[:silent_trail], g[0].array[-silent_trail:]])\n",
    "                        g = np.tile(silent, (silent_trail // len(silent)))\n",
    "                        \n",
    "                r.append(g)\n",
    "            audio = np.concatenate(r)\n",
    "\n",
    "        D = librosa.stft(\n",
    "            audio,\n",
    "            n_fft=config['fft_size'],\n",
    "            hop_length=config['hop_size'],\n",
    "            win_length=config['win_length'],\n",
    "            window=config['window'],\n",
    "            pad_mode='reflect',\n",
    "        )\n",
    "        S, _ = librosa.magphase(D) \n",
    "        fmin = 0 if config[\"fmin\"] is None else config[\"fmin\"]\n",
    "        fmax = sampling_rate // 2 if config[\"fmax\"] is None else config[\"fmax\"]\n",
    "        mel_basis = librosa.filters.mel(\n",
    "            sr=config['sampling_rate'],\n",
    "            n_fft=config[\"fft_size\"],\n",
    "            n_mels=config[\"num_mels\"],\n",
    "            fmin=fmin,\n",
    "            fmax=fmax,\n",
    "        )\n",
    "        mel = np.log10(np.maximum(np.dot(mel_basis, S), 1e-10)).T\n",
    "        audio = np.pad(audio, (0, config[\"fft_size\"]), mode=\"edge\")\n",
    "        audio = audio[: len(mel) * config['hop_size']]\n",
    "\n",
    "        _f0, t = pw.dio(\n",
    "            audio.astype(np.double),\n",
    "            fs=config['sampling_rate'],\n",
    "            f0_ceil=fmax,\n",
    "            frame_period=1000 * config['hop_size'] / config['sampling_rate'],\n",
    "        )\n",
    "        f0 = pw.stonemask(audio.astype(np.double), _f0, t, config['sampling_rate'])\n",
    "        if len(f0) >= len(mel):\n",
    "            f0 = f0[: len(mel)]\n",
    "        else:\n",
    "            f0 = np.pad(f0, (0, len(mel) - len(f0)))\n",
    "\n",
    "        # extract energy\n",
    "        energy = np.sqrt(np.sum(S ** 2, axis=0))\n",
    "        f0 = remove_outlier(f0)\n",
    "        energy = remove_outlier(energy)\n",
    "        \n",
    "        mel_len = len(mel)\n",
    "        snd = parselmouth.Sound(audio,sampling_frequency=22050)\n",
    "        pitch = snd.to_pitch(time_step=snd.duration / (mel_len + 3)\n",
    "                         ).selected_array['frequency']\n",
    "\n",
    "        if config[\"global_gain_scale\"] > 0.0:\n",
    "            audio *= config[\"global_gain_scale\"]\n",
    "\n",
    "        if len(energy[energy != 0]) == 0 or len(f0[f0 != 0]) == 0:\n",
    "            print('skipped')\n",
    "            continue\n",
    "\n",
    "        audios.append(audio)\n",
    "        mels.append(mel)\n",
    "        text_ids.append(text)\n",
    "        f0s.append(f0)\n",
    "        energies.append(energy)\n",
    "        pitches.append(pitch)\n",
    "    \n",
    "    return [[audios, mels, text_ids, f0s, energies, pitches]]"
   ]
  },
  {
   "cell_type": "code",
   "execution_count": 15,
   "metadata": {
    "scrolled": true
   },
   "outputs": [
    {
     "name": "stderr",
     "output_type": "stream",
     "text": [
      "100%|██████████| 10/10 [00:00<00:00, 13.17it/s]\n"
     ]
    }
   ],
   "source": [
    "i = 36000\n",
    "r = process((txts[i: i + 10],))[0]"
   ]
  },
  {
   "cell_type": "code",
   "execution_count": 24,
   "metadata": {},
   "outputs": [],
   "source": [
    "k = -3"
   ]
  },
  {
   "cell_type": "code",
   "execution_count": 25,
   "metadata": {},
   "outputs": [
    {
     "data": {
      "text/html": [
       "\n",
       "                <audio  controls=\"controls\" >\n",
       "                    <source src=\"data:audio/wav;base64,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\" type=\"audio/wav\" />\n",
       "                    Your browser does not support the audio element.\n",
       "                </audio>\n",
       "              "
      ],
      "text/plain": [
       "<IPython.lib.display.Audio object>"
      ]
     },
     "execution_count": 25,
     "metadata": {},
     "output_type": "execute_result"
    }
   ],
   "source": [
    "ipd.Audio(r[0][k], rate = 22050)"
   ]
  },
  {
   "cell_type": "code",
   "execution_count": 18,
   "metadata": {},
   "outputs": [
    {
     "name": "stdout",
     "output_type": "stream",
     "text": [
      "lalu pergi dari situ dengan tangisan tangisan - nya .\n",
      "salah .\n",
      "apakah ? .\n",
      "kenapa ni ? .\n",
      "makan hasil .\n",
      "abdul fakar .\n",
      "siti salina .\n",
      "satu .\n",
      "dan tidak baik .\n",
      "bangsat .\n"
     ]
    }
   ],
   "source": [
    "for k in range(10):\n",
    "    print(r[2][k][0])"
   ]
  },
  {
   "cell_type": "code",
   "execution_count": 19,
   "metadata": {},
   "outputs": [
    {
     "data": {
      "text/plain": [
       "'bangsat .'"
      ]
     },
     "execution_count": 19,
     "metadata": {},
     "output_type": "execute_result"
    }
   ],
   "source": [
    "r[2][k][0]"
   ]
  },
  {
   "cell_type": "code",
   "execution_count": 26,
   "metadata": {},
   "outputs": [
    {
     "data": {
      "image/png": "[encoded data removed]",
      "text/plain": [
       "<Figure size 720x432 with 3 Axes>"
      ]
     },
     "metadata": {
      "needs_background": "light"
     },
     "output_type": "display_data"
    }
   ],
   "source": [
    "nrows = 2\n",
    "fig, ax = plt.subplots(nrows = nrows, ncols = 1)\n",
    "fig.set_figwidth(10)\n",
    "fig.set_figheight(nrows * 3)\n",
    "mel_outputs_ = np.reshape(r[1][k], [-1, 80])\n",
    "im = ax[0].imshow(np.rot90(mel_outputs_), aspect='auto', interpolation='none')\n",
    "fig.colorbar(mappable=im, shrink=0.65, orientation='horizontal', ax=ax[0])\n",
    "ax[1].plot(r[0][k])\n",
    "plt.show()"
   ]
  },
  {
   "cell_type": "code",
   "execution_count": 27,
   "metadata": {},
   "outputs": [],
   "source": [
    "import mp\n",
    "\n",
    "audios, mels, text_ids, f0s, energies, pitches = [], [], [], [], [], []"
   ]
  },
  {
   "cell_type": "code",
   "execution_count": 28,
   "metadata": {},
   "outputs": [
    {
     "name": "stderr",
     "output_type": "stream",
     "text": [
      " 76%|███████▌  | 76/100 [00:37<00:09,  2.55it/s]"
     ]
    },
    {
     "name": "stdout",
     "output_type": "stream",
     "text": [
      "skipped\n"
     ]
    },
    {
     "name": "stderr",
     "output_type": "stream",
     "text": [
      "100%|██████████| 100/100 [00:49<00:00,  2.02it/s]\n",
      "100%|██████████| 100/100 [00:50<00:00,  2.00it/s]\n",
      "100%|██████████| 100/100 [00:50<00:00,  1.99it/s]\n",
      "100%|██████████| 100/100 [00:51<00:00,  1.94it/s]\n",
      "100%|██████████| 100/100 [00:51<00:00,  1.93it/s]\n",
      "100%|██████████| 100/100 [00:52<00:00,  1.90it/s]\n",
      "100%|██████████| 100/100 [00:52<00:00,  1.89it/s]\n",
      "100%|██████████| 100/100 [00:53<00:00,  1.87it/s]\n",
      "100%|██████████| 100/100 [00:54<00:00,  1.84it/s]\n",
      "100%|██████████| 100/100 [00:54<00:00,  1.83it/s]\n",
      "100%|██████████| 100/100 [00:59<00:00,  1.69it/s]\n",
      "100%|██████████| 100/100 [00:59<00:00,  1.68it/s]\n",
      "100%|██████████| 100/100 [01:00<00:00,  1.66it/s]\n",
      "100%|██████████| 100/100 [01:00<00:00,  1.65it/s]\n",
      "100%|██████████| 100/100 [01:01<00:00,  1.62it/s]\n",
      "100%|██████████| 100/100 [01:03<00:00,  1.58it/s]\n",
      "100%|██████████| 100/100 [01:03<00:00,  1.58it/s]\n",
      "100%|██████████| 100/100 [01:03<00:00,  1.57it/s]\n",
      "100%|██████████| 100/100 [01:04<00:00,  1.54it/s]\n",
      "100%|██████████| 100/100 [01:06<00:00,  1.51it/s]\n",
      "100%|██████████| 100/100 [00:58<00:00,  1.72it/s]\n",
      "100%|██████████| 100/100 [00:59<00:00,  1.67it/s]\n",
      "100%|██████████| 100/100 [01:01<00:00,  1.64it/s]\n",
      "100%|██████████| 100/100 [01:02<00:00,  1.61it/s]\n",
      "100%|██████████| 100/100 [01:02<00:00,  1.61it/s]\n",
      "100%|██████████| 100/100 [01:03<00:00,  1.58it/s]\n",
      "100%|██████████| 100/100 [01:03<00:00,  1.57it/s]\n",
      "100%|██████████| 100/100 [01:06<00:00,  1.51it/s]\n",
      "100%|██████████| 100/100 [01:07<00:00,  1.47it/s]\n",
      "100%|██████████| 100/100 [01:08<00:00,  1.47it/s]\n",
      "100%|██████████| 100/100 [00:59<00:00,  1.68it/s]\n",
      "100%|██████████| 100/100 [01:03<00:00,  1.58it/s]\n",
      "100%|██████████| 100/100 [01:03<00:00,  1.57it/s]\n",
      "100%|██████████| 100/100 [01:03<00:00,  1.57it/s]\n",
      "100%|██████████| 100/100 [01:04<00:00,  1.55it/s]\n",
      "100%|██████████| 100/100 [01:04<00:00,  1.54it/s]\n",
      "100%|██████████| 100/100 [01:05<00:00,  1.53it/s]\n",
      "100%|██████████| 100/100 [01:05<00:00,  1.53it/s]\n",
      "100%|██████████| 100/100 [01:06<00:00,  1.51it/s]\n",
      "100%|██████████| 100/100 [01:07<00:00,  1.49it/s]\n",
      "100%|██████████| 100/100 [00:58<00:00,  1.72it/s]\n",
      "100%|██████████| 100/100 [01:01<00:00,  1.62it/s]\n",
      "100%|██████████| 100/100 [01:02<00:00,  1.60it/s]\n",
      "100%|██████████| 100/100 [01:03<00:00,  1.59it/s]\n",
      "100%|██████████| 100/100 [01:03<00:00,  1.58it/s]\n",
      "100%|██████████| 100/100 [01:03<00:00,  1.58it/s]\n",
      "100%|██████████| 100/100 [01:03<00:00,  1.58it/s]\n",
      "100%|██████████| 100/100 [01:05<00:00,  1.53it/s]\n",
      "100%|██████████| 100/100 [01:06<00:00,  1.50it/s]\n",
      "100%|██████████| 100/100 [01:10<00:00,  1.43it/s]\n",
      "100%|██████████| 100/100 [01:00<00:00,  1.65it/s]\n",
      "100%|██████████| 100/100 [01:02<00:00,  1.61it/s]\n",
      "100%|██████████| 100/100 [01:03<00:00,  1.58it/s]\n",
      "100%|██████████| 100/100 [01:04<00:00,  1.55it/s]\n",
      "100%|██████████| 100/100 [01:04<00:00,  1.55it/s]\n",
      "100%|██████████| 100/100 [01:04<00:00,  1.54it/s]\n",
      "100%|██████████| 100/100 [01:05<00:00,  1.53it/s]\n",
      "100%|██████████| 100/100 [01:06<00:00,  1.50it/s]\n",
      "100%|██████████| 100/100 [01:06<00:00,  1.50it/s]\n",
      "100%|██████████| 100/100 [01:07<00:00,  1.49it/s]\n",
      "100%|██████████| 100/100 [01:00<00:00,  1.65it/s]\n",
      "100%|██████████| 100/100 [01:00<00:00,  1.64it/s]\n",
      "100%|██████████| 100/100 [01:01<00:00,  1.63it/s]\n",
      "100%|██████████| 100/100 [01:01<00:00,  1.62it/s]\n",
      "100%|██████████| 100/100 [01:02<00:00,  1.60it/s]\n",
      "100%|██████████| 100/100 [01:03<00:00,  1.58it/s]\n",
      "100%|██████████| 100/100 [01:03<00:00,  1.57it/s]\n",
      "100%|██████████| 100/100 [01:04<00:00,  1.55it/s]\n",
      "100%|██████████| 100/100 [01:06<00:00,  1.51it/s]\n",
      "100%|██████████| 100/100 [01:06<00:00,  1.50it/s]\n",
      "100%|██████████| 100/100 [00:57<00:00,  1.75it/s]\n",
      "100%|██████████| 100/100 [00:59<00:00,  1.69it/s]\n",
      "100%|██████████| 100/100 [00:59<00:00,  1.68it/s]\n",
      "100%|██████████| 100/100 [01:01<00:00,  1.62it/s]\n",
      "100%|██████████| 100/100 [01:01<00:00,  1.61it/s]\n",
      "100%|██████████| 100/100 [01:02<00:00,  1.61it/s]\n",
      "100%|██████████| 100/100 [01:03<00:00,  1.57it/s]\n",
      "100%|██████████| 100/100 [01:04<00:00,  1.55it/s]\n",
      "100%|██████████| 100/100 [01:05<00:00,  1.53it/s]\n",
      "100%|██████████| 100/100 [01:05<00:00,  1.52it/s]\n",
      "100%|██████████| 100/100 [00:57<00:00,  1.74it/s]\n",
      "100%|██████████| 100/100 [00:58<00:00,  1.70it/s]\n",
      "100%|██████████| 100/100 [00:59<00:00,  1.69it/s]\n",
      "100%|██████████| 100/100 [00:59<00:00,  1.68it/s]\n",
      "100%|██████████| 100/100 [01:00<00:00,  1.65it/s]\n",
      "100%|██████████| 100/100 [01:01<00:00,  1.64it/s]\n",
      "100%|██████████| 100/100 [01:01<00:00,  1.63it/s]\n",
      "100%|██████████| 100/100 [01:01<00:00,  1.62it/s]\n",
      "100%|██████████| 100/100 [01:03<00:00,  1.58it/s]\n",
      "100%|██████████| 100/100 [01:03<00:00,  1.58it/s]\n",
      "100%|██████████| 100/100 [01:01<00:00,  1.63it/s]\n",
      "100%|██████████| 100/100 [01:01<00:00,  1.61it/s]\n",
      "100%|██████████| 100/100 [01:01<00:00,  1.61it/s]\n",
      "100%|██████████| 100/100 [01:02<00:00,  1.60it/s]\n",
      "100%|██████████| 100/100 [01:02<00:00,  1.60it/s]\n",
      " 99%|█████████▉| 99/100 [01:02<00:00,  1.64it/s]]\n",
      "100%|██████████| 100/100 [01:03<00:00,  1.58it/s]\n",
      "100%|██████████| 100/100 [01:03<00:00,  1.58it/s]\n",
      "100%|██████████| 100/100 [01:04<00:00,  1.56it/s]\n",
      "100%|██████████| 100/100 [01:04<00:00,  1.55it/s]\n",
      "100%|██████████| 100/100 [00:59<00:00,  1.68it/s]\n",
      "100%|██████████| 100/100 [01:00<00:00,  1.66it/s]\n",
      "100%|██████████| 100/100 [01:01<00:00,  1.63it/s]\n",
      "100%|██████████| 100/100 [01:01<00:00,  1.62it/s]\n",
      "\n",
      "100%|██████████| 100/100 [01:01<00:00,  1.61it/s]\n",
      "100%|██████████| 100/100 [01:02<00:00,  1.60it/s]\n",
      "100%|██████████| 100/100 [01:03<00:00,  1.59it/s]\n",
      "100%|██████████| 100/100 [01:03<00:00,  1.58it/s]\n",
      "100%|██████████| 100/100 [01:03<00:00,  1.57it/s]\n",
      "100%|██████████| 100/100 [01:00<00:00,  1.64it/s]\n",
      "100%|██████████| 100/100 [01:00<00:00,  1.64it/s]\n",
      "100%|██████████| 100/100 [01:01<00:00,  1.62it/s]\n",
      "100%|██████████| 100/100 [01:02<00:00,  1.61it/s]\n",
      "100%|██████████| 100/100 [01:02<00:00,  1.60it/s]\n",
      "100%|██████████| 100/100 [01:02<00:00,  1.59it/s]\n",
      "100%|██████████| 100/100 [01:03<00:00,  1.56it/s]\n",
      "100%|██████████| 100/100 [01:05<00:00,  1.52it/s]\n",
      "100%|██████████| 100/100 [01:07<00:00,  1.49it/s]\n",
      "100%|██████████| 100/100 [01:07<00:00,  1.48it/s]\n",
      "100%|██████████| 100/100 [00:29<00:00,  3.39it/s]\n",
      "100%|██████████| 100/100 [00:30<00:00,  3.31it/s]\n",
      "100%|██████████| 100/100 [00:30<00:00,  3.26it/s]\n",
      "100%|██████████| 100/100 [00:31<00:00,  3.20it/s]\n",
      "100%|██████████| 100/100 [00:50<00:00,  1.98it/s]\n",
      "100%|██████████| 100/100 [00:55<00:00,  1.81it/s]\n",
      "100%|██████████| 100/100 [00:55<00:00,  1.79it/s]\n",
      "100%|██████████| 100/100 [00:57<00:00,  1.75it/s]\n",
      "100%|██████████| 100/100 [00:58<00:00,  1.70it/s]\n",
      "100%|██████████| 100/100 [01:00<00:00,  1.66it/s]\n",
      "100%|██████████| 100/100 [00:31<00:00,  3.22it/s]\n",
      "100%|██████████| 100/100 [00:31<00:00,  3.20it/s]\n",
      "100%|██████████| 100/100 [00:31<00:00,  3.19it/s]\n",
      "100%|██████████| 100/100 [00:32<00:00,  3.08it/s]\n",
      "100%|██████████| 100/100 [00:32<00:00,  3.06it/s]\n",
      "100%|██████████| 100/100 [00:32<00:00,  3.03it/s]\n",
      "100%|██████████| 100/100 [00:33<00:00,  3.02it/s]\n",
      "100%|██████████| 100/100 [00:33<00:00,  2.95it/s]\n",
      "100%|██████████| 100/100 [00:34<00:00,  2.91it/s]\n",
      "100%|██████████| 100/100 [00:35<00:00,  2.85it/s]\n",
      " 21%|██        | 21/100 [00:05<00:19,  4.11it/s]"
     ]
    },
    {
     "name": "stdout",
     "output_type": "stream",
     "text": [
      "skipped\n"
     ]
    },
    {
     "name": "stderr",
     "output_type": "stream",
     "text": [
      " 38%|███▊      | 38/100 [00:09<00:12,  4.82it/s]"
     ]
    },
    {
     "name": "stdout",
     "output_type": "stream",
     "text": [
      "skipped\n"
     ]
    },
    {
     "name": "stderr",
     "output_type": "stream",
     "text": [
      "100%|██████████| 100/100 [00:25<00:00,  3.87it/s]\n",
      "100%|██████████| 100/100 [00:25<00:00,  3.85it/s]\n",
      "100%|██████████| 100/100 [00:26<00:00,  3.83it/s]\n",
      "100%|██████████| 100/100 [00:27<00:00,  3.63it/s]\n",
      "100%|██████████| 100/100 [00:28<00:00,  3.55it/s]\n",
      "100%|██████████| 100/100 [00:28<00:00,  3.55it/s]\n",
      "100%|██████████| 100/100 [00:28<00:00,  3.52it/s]\n",
      "100%|██████████| 100/100 [00:28<00:00,  3.51it/s]\n",
      "100%|██████████| 100/100 [00:28<00:00,  3.50it/s]\n",
      "100%|██████████| 100/100 [00:29<00:00,  3.44it/s]\n",
      "  5%|▌         | 5/100 [00:01<00:31,  3.01it/s]"
     ]
    },
    {
     "name": "stdout",
     "output_type": "stream",
     "text": [
      "skipped\n"
     ]
    },
    {
     "name": "stderr",
     "output_type": "stream",
     "text": [
      " 15%|█▌        | 15/100 [00:04<00:24,  3.49it/s]"
     ]
    },
    {
     "name": "stdout",
     "output_type": "stream",
     "text": [
      "skipped\n"
     ]
    },
    {
     "name": "stderr",
     "output_type": "stream",
     "text": [
      " 92%|█████████▏| 92/100 [00:29<00:03,  2.36it/s]"
     ]
    },
    {
     "name": "stdout",
     "output_type": "stream",
     "text": [
      "skipped\n"
     ]
    },
    {
     "name": "stderr",
     "output_type": "stream",
     "text": [
      "100%|██████████| 100/100 [00:30<00:00,  3.32it/s]\n",
      "100%|██████████| 100/100 [00:30<00:00,  3.25it/s]\n",
      "100%|██████████| 100/100 [00:31<00:00,  3.22it/s]\n",
      "100%|██████████| 100/100 [00:31<00:00,  3.22it/s]\n",
      "\n",
      "100%|██████████| 100/100 [00:31<00:00,  3.20it/s]\n",
      "100%|██████████| 100/100 [00:31<00:00,  3.18it/s]\n",
      "100%|██████████| 100/100 [00:31<00:00,  3.16it/s]\n",
      "100%|██████████| 100/100 [00:31<00:00,  3.15it/s]\n",
      "100%|██████████| 100/100 [00:32<00:00,  3.09it/s]\n",
      "100%|██████████| 100/100 [00:29<00:00,  3.42it/s]\n",
      "100%|██████████| 100/100 [00:29<00:00,  3.40it/s]\n",
      "100%|██████████| 100/100 [00:29<00:00,  3.34it/s]\n",
      "100%|██████████| 100/100 [00:29<00:00,  3.35it/s]\n",
      "100%|██████████| 100/100 [00:30<00:00,  3.25it/s]\n",
      "100%|██████████| 100/100 [00:31<00:00,  3.22it/s]\n",
      "100%|██████████| 100/100 [00:31<00:00,  3.22it/s]\n",
      "100%|██████████| 100/100 [00:31<00:00,  3.18it/s]\n",
      "100%|██████████| 100/100 [00:31<00:00,  3.17it/s]\n",
      "100%|██████████| 100/100 [00:32<00:00,  3.05it/s]\n",
      " 51%|█████     | 51/100 [00:13<00:14,  3.44it/s]"
     ]
    },
    {
     "name": "stdout",
     "output_type": "stream",
     "text": [
      "skipped\n"
     ]
    },
    {
     "name": "stderr",
     "output_type": "stream",
     "text": [
      "100%|██████████| 100/100 [00:25<00:00,  3.96it/s]\n",
      "100%|██████████| 100/100 [00:27<00:00,  3.66it/s]\n",
      "100%|██████████| 100/100 [00:28<00:00,  3.51it/s]\n",
      "100%|██████████| 100/100 [00:29<00:00,  3.43it/s]\n",
      "100%|██████████| 100/100 [00:29<00:00,  3.41it/s]\n",
      "100%|██████████| 100/100 [00:29<00:00,  3.37it/s]\n",
      "100%|██████████| 100/100 [00:29<00:00,  3.35it/s]\n",
      "100%|██████████| 100/100 [00:29<00:00,  3.34it/s]\n",
      "100%|██████████| 100/100 [00:30<00:00,  3.33it/s]\n",
      "100%|██████████| 100/100 [00:30<00:00,  3.32it/s]\n",
      " 88%|████████▊ | 88/100 [00:23<00:03,  3.71it/s]"
     ]
    },
    {
     "name": "stdout",
     "output_type": "stream",
     "text": [
      "skipped\n"
     ]
    },
    {
     "name": "stderr",
     "output_type": "stream",
     "text": [
      "100%|██████████| 100/100 [00:27<00:00,  3.63it/s]\n",
      "100%|██████████| 100/100 [00:27<00:00,  3.59it/s]\n",
      "100%|██████████| 100/100 [00:29<00:00,  3.45it/s]\n",
      "100%|██████████| 100/100 [00:29<00:00,  3.42it/s]\n",
      "100%|██████████| 100/100 [00:29<00:00,  3.38it/s]\n",
      "100%|██████████| 100/100 [00:29<00:00,  3.35it/s]\n",
      "100%|██████████| 100/100 [00:29<00:00,  3.33it/s]\n",
      "100%|██████████| 100/100 [00:30<00:00,  3.29it/s]\n",
      "100%|██████████| 100/100 [00:30<00:00,  3.24it/s]\n",
      "100%|██████████| 100/100 [00:30<00:00,  3.23it/s]\n",
      "100%|██████████| 100/100 [00:30<00:00,  3.33it/s]\n",
      "100%|██████████| 100/100 [00:30<00:00,  3.25it/s]\n",
      "100%|██████████| 100/100 [00:30<00:00,  3.26it/s]\n",
      "100%|██████████| 100/100 [00:31<00:00,  3.19it/s]\n",
      "100%|██████████| 100/100 [00:31<00:00,  3.19it/s]\n",
      "100%|██████████| 100/100 [00:31<00:00,  3.13it/s]\n",
      "100%|██████████| 100/100 [00:32<00:00,  3.12it/s]\n",
      "100%|██████████| 100/100 [00:32<00:00,  3.12it/s]\n",
      "100%|██████████| 100/100 [00:32<00:00,  3.08it/s]\n",
      "100%|██████████| 100/100 [00:32<00:00,  3.03it/s]\n",
      "100%|██████████| 100/100 [00:29<00:00,  3.35it/s]\n",
      "100%|██████████| 100/100 [00:31<00:00,  3.20it/s]\n",
      "100%|██████████| 100/100 [00:31<00:00,  3.15it/s]\n",
      "100%|██████████| 100/100 [00:31<00:00,  3.13it/s]\n",
      "100%|██████████| 100/100 [00:32<00:00,  3.11it/s]\n",
      "100%|██████████| 100/100 [00:32<00:00,  3.10it/s]\n",
      "100%|██████████| 100/100 [00:32<00:00,  3.08it/s]\n",
      "100%|██████████| 100/100 [00:32<00:00,  3.07it/s]\n",
      "100%|██████████| 100/100 [00:33<00:00,  3.02it/s]\n",
      "100%|██████████| 100/100 [00:33<00:00,  3.00it/s]\n",
      " 30%|███       | 30/100 [00:08<00:14,  4.81it/s]"
     ]
    },
    {
     "name": "stdout",
     "output_type": "stream",
     "text": [
      "skipped\n"
     ]
    },
    {
     "name": "stderr",
     "output_type": "stream",
     "text": [
      "100%|██████████| 100/100 [00:27<00:00,  3.68it/s]\n",
      "100%|██████████| 100/100 [00:27<00:00,  3.61it/s]\n",
      "100%|██████████| 100/100 [00:27<00:00,  3.59it/s]\n",
      "100%|██████████| 100/100 [00:28<00:00,  3.53it/s]\n",
      "100%|██████████| 100/100 [00:28<00:00,  3.49it/s]\n",
      "100%|██████████| 100/100 [00:28<00:00,  3.47it/s]\n",
      "100%|██████████| 100/100 [00:28<00:00,  3.93it/s]\n",
      "100%|██████████| 100/100 [00:29<00:00,  3.36it/s]\n",
      "100%|██████████| 100/100 [00:29<00:00,  3.34it/s]\n",
      "100%|██████████| 100/100 [00:30<00:00,  3.28it/s]\n",
      " 31%|███       | 31/100 [00:11<00:20,  3.29it/s]"
     ]
    },
    {
     "name": "stdout",
     "output_type": "stream",
     "text": [
      "skipped\n"
     ]
    },
    {
     "name": "stderr",
     "output_type": "stream",
     "text": [
      " 39%|███▉      | 39/100 [00:14<00:22,  2.77it/s]"
     ]
    },
    {
     "name": "stdout",
     "output_type": "stream",
     "text": [
      "skipped\n"
     ]
    },
    {
     "name": "stderr",
     "output_type": "stream",
     "text": [
      " 74%|███████▍  | 74/100 [00:23<00:05,  4.58it/s]"
     ]
    },
    {
     "name": "stdout",
     "output_type": "stream",
     "text": [
      "skipped\n"
     ]
    },
    {
     "name": "stderr",
     "output_type": "stream",
     "text": [
      "100%|██████████| 100/100 [00:26<00:00,  3.71it/s]\n",
      "100%|██████████| 100/100 [00:28<00:00,  3.57it/s]\n",
      "100%|██████████| 100/100 [00:28<00:00,  3.55it/s]\n",
      "100%|██████████| 100/100 [00:28<00:00,  3.53it/s]\n",
      "100%|██████████| 100/100 [00:28<00:00,  3.53it/s]\n",
      "100%|██████████| 100/100 [00:28<00:00,  3.45it/s]\n",
      "100%|██████████| 100/100 [00:29<00:00,  3.42it/s]\n",
      "100%|██████████| 100/100 [00:29<00:00,  3.34it/s]\n",
      "100%|██████████| 100/100 [00:29<00:00,  3.34it/s]\n",
      "100%|██████████| 100/100 [00:30<00:00,  3.31it/s]\n",
      "100%|██████████| 100/100 [00:30<00:00,  3.29it/s]\n",
      "100%|██████████| 100/100 [00:31<00:00,  3.19it/s]\n",
      "100%|██████████| 100/100 [00:31<00:00,  3.18it/s]\n",
      "100%|██████████| 100/100 [00:31<00:00,  3.16it/s]\n",
      "100%|██████████| 100/100 [00:31<00:00,  3.15it/s]\n",
      "100%|██████████| 100/100 [00:32<00:00,  3.11it/s]\n",
      "100%|██████████| 100/100 [00:32<00:00,  3.11it/s]\n",
      "100%|██████████| 100/100 [00:32<00:00,  3.10it/s]\n",
      "100%|██████████| 100/100 [00:32<00:00,  3.07it/s]\n",
      "100%|██████████| 100/100 [00:32<00:00,  4.31it/s]\n",
      " 24%|██▍       | 24/100 [00:06<00:20,  3.68it/s]]"
     ]
    },
    {
     "name": "stdout",
     "output_type": "stream",
     "text": [
      "skipped\n"
     ]
    },
    {
     "name": "stderr",
     "output_type": "stream",
     "text": [
      "100%|██████████| 100/100 [00:28<00:00,  3.50it/s]\n",
      "100%|██████████| 100/100 [00:28<00:00,  3.47it/s]\n",
      "100%|██████████| 100/100 [00:28<00:00,  3.45it/s]\n",
      "100%|██████████| 100/100 [00:29<00:00,  3.40it/s]\n",
      "100%|██████████| 100/100 [00:29<00:00,  3.35it/s]\n",
      "100%|██████████| 100/100 [00:30<00:00,  3.29it/s]\n",
      "100%|██████████| 100/100 [00:30<00:00,  3.29it/s]\n",
      "100%|██████████| 100/100 [00:30<00:00,  3.28it/s]\n",
      "100%|██████████| 100/100 [00:30<00:00,  3.25it/s]\n",
      "100%|██████████| 100/100 [00:31<00:00,  3.19it/s]\n",
      " 83%|████████▎ | 83/100 [00:19<00:04,  4.01it/s]"
     ]
    },
    {
     "name": "stdout",
     "output_type": "stream",
     "text": [
      "skipped\n"
     ]
    },
    {
     "name": "stderr",
     "output_type": "stream",
     "text": [
      "100%|██████████| 100/100 [00:24<00:00,  4.13it/s]\n",
      "100%|██████████| 100/100 [00:25<00:00,  3.95it/s]\n",
      "100%|██████████| 100/100 [00:26<00:00,  3.80it/s]\n",
      "100%|██████████| 100/100 [00:26<00:00,  3.72it/s]\n",
      "100%|██████████| 100/100 [00:27<00:00,  3.69it/s]\n",
      "100%|██████████| 100/100 [00:26<00:00,  3.70it/s]\n",
      "100%|██████████| 100/100 [00:27<00:00,  3.61it/s]\n",
      "100%|██████████| 100/100 [00:27<00:00,  3.60it/s]\n",
      "100%|██████████| 100/100 [00:28<00:00,  3.48it/s]\n",
      "100%|██████████| 100/100 [00:29<00:00,  3.43it/s]\n",
      "100%|██████████| 100/100 [00:26<00:00,  3.80it/s]\n",
      "100%|██████████| 100/100 [00:27<00:00,  3.63it/s]\n",
      "100%|██████████| 100/100 [00:28<00:00,  3.56it/s]\n",
      " 99%|█████████▉| 99/100 [00:28<00:00,  3.05it/s]]\n",
      "100%|██████████| 100/100 [00:28<00:00,  3.50it/s]\n",
      "100%|██████████| 100/100 [00:28<00:00,  3.51it/s]\n",
      "100%|██████████| 100/100 [00:28<00:00,  3.46it/s]\n",
      "100%|██████████| 100/100 [00:29<00:00,  3.35it/s]\n",
      "100%|██████████| 100/100 [00:30<00:00,  3.32it/s]\n",
      "100%|██████████| 100/100 [00:30<00:00,  3.26it/s]\n",
      " 86%|████████▌ | 86/100 [00:23<00:03,  4.45it/s]"
     ]
    },
    {
     "name": "stdout",
     "output_type": "stream",
     "text": [
      "skipped\n"
     ]
    },
    {
     "name": "stderr",
     "output_type": "stream",
     "text": [
      "100%|██████████| 100/100 [00:27<00:00,  3.69it/s]\n",
      "100%|██████████| 100/100 [00:27<00:00,  3.66it/s]\n",
      "100%|██████████| 100/100 [00:27<00:00,  3.62it/s]\n",
      "100%|██████████| 100/100 [00:27<00:00,  3.59it/s]\n",
      "100%|██████████| 100/100 [00:27<00:00,  3.59it/s]\n",
      " 98%|█████████▊| 98/100 [00:28<00:00,  4.54it/s]\n",
      "100%|██████████| 100/100 [00:28<00:00,  3.55it/s]\n",
      "100%|██████████| 100/100 [00:28<00:00,  3.53it/s]\n",
      "100%|██████████| 100/100 [00:28<00:00,  3.49it/s]\n",
      "100%|██████████| 100/100 [00:29<00:00,  3.45it/s]\n",
      "100%|██████████| 100/100 [00:28<00:00,  3.53it/s]\n",
      "100%|██████████| 100/100 [00:28<00:00,  3.54it/s]\n",
      "100%|██████████| 100/100 [00:28<00:00,  3.47it/s]\n",
      "100%|██████████| 100/100 [00:29<00:00,  3.42it/s]\n",
      "100%|██████████| 100/100 [00:29<00:00,  3.37it/s]\n",
      "100%|██████████| 100/100 [00:29<00:00,  3.36it/s]\n",
      "100%|██████████| 100/100 [00:29<00:00,  3.36it/s]\n",
      "100%|██████████| 100/100 [00:29<00:00,  3.34it/s]\n",
      "100%|██████████| 100/100 [00:29<00:00,  3.34it/s]\n",
      "100%|██████████| 100/100 [00:30<00:00,  3.31it/s]\n",
      "100%|██████████| 100/100 [00:30<00:00,  3.28it/s]\n",
      "100%|██████████| 100/100 [00:30<00:00,  3.26it/s]\n",
      "100%|██████████| 100/100 [00:30<00:00,  3.23it/s]\n",
      "100%|██████████| 100/100 [00:31<00:00,  3.22it/s]\n",
      "100%|██████████| 100/100 [00:31<00:00,  3.13it/s]\n",
      "100%|██████████| 100/100 [00:31<00:00,  3.14it/s]\n",
      "100%|██████████| 100/100 [00:32<00:00,  3.09it/s]\n",
      "100%|██████████| 100/100 [00:32<00:00,  3.08it/s]\n",
      "100%|██████████| 100/100 [00:32<00:00,  3.08it/s]\n",
      "100%|██████████| 100/100 [00:33<00:00,  3.02it/s]\n",
      "  5%|▌         | 5/100 [00:02<00:51,  1.83it/s]"
     ]
    },
    {
     "name": "stdout",
     "output_type": "stream",
     "text": [
      "skipped\n"
     ]
    },
    {
     "name": "stderr",
     "output_type": "stream",
     "text": [
      " 15%|█▌        | 15/100 [00:04<00:27,  3.08it/s]"
     ]
    },
    {
     "name": "stdout",
     "output_type": "stream",
     "text": [
      "skipped\n"
     ]
    },
    {
     "name": "stderr",
     "output_type": "stream",
     "text": [
      "100%|██████████| 100/100 [00:30<00:00,  3.28it/s]\n",
      "100%|██████████| 100/100 [00:31<00:00,  3.21it/s]\n",
      "100%|██████████| 100/100 [00:31<00:00,  3.20it/s]\n",
      "100%|██████████| 100/100 [00:31<00:00,  3.18it/s]\n",
      "100%|██████████| 100/100 [00:31<00:00,  3.18it/s]\n",
      "100%|██████████| 100/100 [00:31<00:00,  3.18it/s]\n",
      "100%|██████████| 100/100 [00:31<00:00,  3.17it/s]\n",
      "100%|██████████| 100/100 [00:31<00:00,  3.15it/s]\n",
      "100%|██████████| 100/100 [00:32<00:00,  3.11it/s]\n",
      "100%|██████████| 100/100 [00:32<00:00,  3.10it/s]\n",
      "100%|██████████| 100/100 [00:30<00:00,  3.33it/s]\n",
      "100%|██████████| 100/100 [00:30<00:00,  3.27it/s]\n",
      " 93%|█████████▎| 93/100 [00:30<00:02,  3.26it/s]]\n",
      "100%|██████████| 100/100 [00:31<00:00,  3.22it/s]\n",
      "100%|██████████| 100/100 [00:31<00:00,  3.20it/s]\n",
      "100%|██████████| 100/100 [00:31<00:00,  3.20it/s]\n",
      "100%|██████████| 100/100 [00:31<00:00,  3.14it/s]\n",
      "100%|██████████| 100/100 [00:32<00:00,  3.12it/s]\n",
      "100%|██████████| 100/100 [00:32<00:00,  3.07it/s]\n",
      "100%|██████████| 100/100 [00:32<00:00,  3.04it/s]\n",
      "100%|██████████| 100/100 [00:28<00:00,  3.49it/s]\n",
      "100%|██████████| 100/100 [00:28<00:00,  3.47it/s]\n",
      "100%|██████████| 100/100 [00:28<00:00,  3.46it/s]\n",
      "100%|██████████| 100/100 [00:29<00:00,  3.45it/s]\n",
      "100%|██████████| 100/100 [00:29<00:00,  3.38it/s]\n",
      "100%|██████████| 100/100 [00:29<00:00,  3.54it/s]\n",
      "100%|██████████| 100/100 [00:29<00:00,  3.34it/s]\n",
      "100%|██████████| 100/100 [00:30<00:00,  3.33it/s]\n",
      "100%|██████████| 100/100 [00:30<00:00,  3.29it/s]\n",
      "100%|██████████| 100/100 [00:30<00:00,  3.28it/s]\n",
      " 75%|███████▌  | 75/100 [00:22<00:08,  3.04it/s]"
     ]
    },
    {
     "name": "stdout",
     "output_type": "stream",
     "text": [
      "skipped\n"
     ]
    },
    {
     "name": "stderr",
     "output_type": "stream",
     "text": [
      "100%|██████████| 100/100 [00:27<00:00,  3.59it/s]\n",
      "100%|██████████| 100/100 [00:27<00:00,  3.59it/s]\n",
      "100%|██████████| 100/100 [00:28<00:00,  3.50it/s]\n",
      "100%|██████████| 100/100 [00:28<00:00,  3.49it/s]\n",
      "100%|██████████| 100/100 [00:28<00:00,  3.46it/s]\n",
      "100%|██████████| 100/100 [00:29<00:00,  3.42it/s]\n",
      "100%|██████████| 100/100 [00:29<00:00,  3.39it/s]\n",
      "100%|██████████| 100/100 [00:29<00:00,  3.38it/s]\n",
      "100%|██████████| 100/100 [00:30<00:00,  3.25it/s]\n",
      "100%|██████████| 100/100 [00:31<00:00,  3.19it/s]\n",
      " 53%|█████▎    | 53/100 [00:14<00:16,  2.82it/s]"
     ]
    },
    {
     "name": "stdout",
     "output_type": "stream",
     "text": [
      "skipped\n"
     ]
    },
    {
     "name": "stderr",
     "output_type": "stream",
     "text": [
      "100%|██████████| 100/100 [00:23<00:00,  4.26it/s]\n",
      "100%|██████████| 100/100 [00:25<00:00,  3.99it/s]\n",
      "100%|██████████| 100/100 [00:26<00:00,  3.83it/s]\n",
      "100%|██████████| 100/100 [00:26<00:00,  3.80it/s]\n",
      "100%|██████████| 100/100 [00:26<00:00,  3.78it/s]\n",
      "100%|██████████| 100/100 [00:28<00:00,  3.46it/s]\n",
      "100%|██████████| 100/100 [00:29<00:00,  3.45it/s]\n",
      "100%|██████████| 100/100 [00:29<00:00,  3.43it/s]\n",
      "100%|██████████| 100/100 [00:29<00:00,  3.40it/s]\n",
      "100%|██████████| 100/100 [00:29<00:00,  3.37it/s]\n",
      "100%|██████████| 100/100 [00:24<00:00,  4.13it/s]\n",
      "100%|██████████| 100/100 [00:24<00:00,  4.02it/s]\n",
      "100%|██████████| 100/100 [00:25<00:00,  4.00it/s]\n",
      "100%|██████████| 100/100 [00:25<00:00,  3.92it/s]\n",
      "100%|██████████| 100/100 [00:25<00:00,  3.86it/s]\n",
      "100%|██████████| 100/100 [00:26<00:00,  3.84it/s]\n",
      "100%|██████████| 100/100 [00:26<00:00,  3.73it/s]\n",
      "100%|██████████| 100/100 [00:27<00:00,  3.67it/s]\n",
      "100%|██████████| 100/100 [00:27<00:00,  3.62it/s]\n",
      "100%|██████████| 100/100 [00:27<00:00,  3.62it/s]\n",
      " 19%|█▉        | 19/100 [00:06<00:25,  3.17it/s]"
     ]
    },
    {
     "name": "stdout",
     "output_type": "stream",
     "text": [
      "skipped\n"
     ]
    },
    {
     "name": "stderr",
     "output_type": "stream",
     "text": [
      " 57%|█████▋    | 57/100 [00:14<00:08,  4.85it/s]"
     ]
    },
    {
     "name": "stdout",
     "output_type": "stream",
     "text": [
      "skipped\n"
     ]
    },
    {
     "name": "stderr",
     "output_type": "stream",
     "text": [
      "100%|██████████| 100/100 [00:25<00:00,  3.92it/s]\n",
      "100%|██████████| 100/100 [00:26<00:00,  3.80it/s]\n",
      "100%|██████████| 100/100 [00:26<00:00,  3.80it/s]\n",
      "100%|██████████| 100/100 [00:27<00:00,  3.70it/s]\n",
      "100%|██████████| 100/100 [00:27<00:00,  3.66it/s]\n",
      "100%|██████████| 100/100 [00:27<00:00,  3.59it/s]\n",
      "100%|██████████| 100/100 [00:27<00:00,  3.57it/s]\n",
      "100%|██████████| 100/100 [00:28<00:00,  3.53it/s]\n",
      "100%|██████████| 100/100 [00:28<00:00,  3.46it/s]\n",
      "100%|██████████| 100/100 [00:29<00:00,  3.40it/s]\n",
      " 40%|████      | 40/100 [00:12<00:21,  2.74it/s]"
     ]
    },
    {
     "name": "stdout",
     "output_type": "stream",
     "text": [
      "skipped\n"
     ]
    },
    {
     "name": "stderr",
     "output_type": "stream",
     "text": [
      "100%|██████████| 100/100 [00:26<00:00,  3.82it/s]\n",
      "100%|██████████| 100/100 [00:26<00:00,  3.80it/s]\n",
      "100%|██████████| 100/100 [00:26<00:00,  3.72it/s]\n",
      " 98%|█████████▊| 98/100 [00:27<00:00,  3.69it/s]]"
     ]
    },
    {
     "name": "stdout",
     "output_type": "stream",
     "text": [
      "skipped\n"
     ]
    },
    {
     "name": "stderr",
     "output_type": "stream",
     "text": [
      "100%|██████████| 100/100 [00:27<00:00,  3.58it/s]\n",
      "100%|██████████| 100/100 [00:27<00:00,  3.58it/s]\n",
      "100%|██████████| 100/100 [00:27<00:00,  3.57it/s]\n",
      "100%|██████████| 100/100 [00:28<00:00,  3.54it/s]\n",
      "100%|██████████| 100/100 [00:29<00:00,  3.43it/s]\n",
      "100%|██████████| 100/100 [00:29<00:00,  3.44it/s]\n",
      "100%|██████████| 100/100 [00:29<00:00,  3.43it/s]\n",
      " 64%|██████▍   | 64/100 [00:19<00:10,  3.58it/s]"
     ]
    },
    {
     "name": "stdout",
     "output_type": "stream",
     "text": [
      "skipped\n"
     ]
    },
    {
     "name": "stderr",
     "output_type": "stream",
     "text": [
      " 74%|███████▍  | 74/100 [00:20<00:05,  4.81it/s]"
     ]
    },
    {
     "name": "stdout",
     "output_type": "stream",
     "text": [
      "skipped\n"
     ]
    },
    {
     "name": "stderr",
     "output_type": "stream",
     "text": [
      "100%|██████████| 100/100 [00:26<00:00,  3.73it/s]\n",
      "100%|██████████| 100/100 [00:26<00:00,  3.72it/s]\n",
      "100%|██████████| 100/100 [00:26<00:00,  3.70it/s]\n",
      "100%|██████████| 100/100 [00:27<00:00,  3.62it/s]\n",
      "100%|██████████| 100/100 [00:28<00:00,  3.52it/s]\n",
      "100%|██████████| 100/100 [00:28<00:00,  3.52it/s]\n",
      "100%|██████████| 100/100 [00:28<00:00,  3.51it/s]\n",
      "100%|██████████| 100/100 [00:28<00:00,  3.47it/s]\n",
      "100%|██████████| 100/100 [00:28<00:00,  3.45it/s]\n",
      "100%|██████████| 100/100 [00:29<00:00,  3.42it/s]\n",
      " 35%|███▌      | 17/48 [00:05<00:11,  2.72it/s]"
     ]
    },
    {
     "name": "stdout",
     "output_type": "stream",
     "text": [
      "skipped\n"
     ]
    },
    {
     "name": "stderr",
     "output_type": "stream",
     "text": [
      "100%|██████████| 48/48 [00:13<00:00,  3.69it/s]\n",
      "100%|██████████| 48/48 [00:13<00:00,  3.48it/s]\n",
      "100%|██████████| 2/2 [00:00<00:00,  2.62it/s]s]\n",
      "100%|██████████| 48/48 [00:14<00:00,  3.27it/s]\n",
      "100%|██████████| 48/48 [00:14<00:00,  3.24it/s]\n",
      "100%|██████████| 48/48 [00:15<00:00,  3.16it/s]\n",
      "100%|██████████| 48/48 [00:15<00:00,  3.12it/s]\n",
      "100%|██████████| 48/48 [00:15<00:00,  3.05it/s]\n",
      "100%|██████████| 48/48 [00:15<00:00,  3.03it/s]\n",
      "100%|██████████| 48/48 [00:16<00:00,  2.99it/s]\n",
      "100%|██████████| 48/48 [00:16<00:00,  2.90it/s]\n"
     ]
    }
   ],
   "source": [
    "for i in range(0, len(txts), 1000):\n",
    "    index = min(i + 1000, len(txts))\n",
    "    b = txts[i: index]\n",
    "    results = mp.multiprocessing(b, process, cores = 10, returned = True)\n",
    "    for result in results:\n",
    "        audios.extend(result[0])\n",
    "        mels.extend(result[1])\n",
    "        text_ids.extend(result[2])\n",
    "        f0s.extend(result[3])\n",
    "        energies.extend(result[4])\n",
    "        pitches.extend(result[5])"
   ]
  },
  {
   "cell_type": "code",
   "execution_count": 29,
   "metadata": {},
   "outputs": [],
   "source": [
    "scaler_mel = StandardScaler(copy=False)\n",
    "scaler_energy = StandardScaler(copy=False)\n",
    "scaler_f0 = StandardScaler(copy=False)\n",
    "scaler_pitch = StandardScaler(copy=False)\n",
    "\n",
    "for mel, f0, energy, pitch in zip(mels, f0s, energies, pitches):\n",
    "\n",
    "    scaler_mel.partial_fit(mel)\n",
    "    scaler_energy.partial_fit(energy[energy != 0].reshape(-1, 1))\n",
    "    scaler_f0.partial_fit(f0[f0 != 0].reshape(-1, 1))\n",
    "    scaler_pitch.partial_fit(pitch[pitch != 0].reshape(-1, 1))"
   ]
  },
  {
   "cell_type": "code",
   "execution_count": 30,
   "metadata": {},
   "outputs": [
    {
     "name": "stderr",
     "output_type": "stream",
     "text": [
      "100%|██████████| 39449/39449 [00:10<00:00, 3840.77it/s]\n"
     ]
    }
   ],
   "source": [
    "for i in tqdm(range(len(mels))):\n",
    "    mels[i] = scaler_mel.transform(mels[i])"
   ]
  },
  {
   "cell_type": "code",
   "execution_count": 31,
   "metadata": {},
   "outputs": [],
   "source": [
    "directory_stats = 'female-stats-v3'"
   ]
  },
  {
   "cell_type": "code",
   "execution_count": 32,
   "metadata": {},
   "outputs": [],
   "source": [
    "def save_statistics_to_file(scaler_list, config):\n",
    "    os.system(f'mkdir {directory_stats}')\n",
    "    for scaler, name in scaler_list:\n",
    "        stats = np.stack((scaler.mean_, scaler.scale_))\n",
    "        np.save(\n",
    "            os.path.join(f\"{directory_stats}/stats{name}.npy\"),\n",
    "            stats.astype(np.float32),\n",
    "            allow_pickle=False,\n",
    "        )"
   ]
  },
  {
   "cell_type": "code",
   "execution_count": 33,
   "metadata": {},
   "outputs": [],
   "source": [
    "scaler_list = [(scaler_mel, \"\"), (scaler_energy, \"_energy\"), (scaler_f0, \"_f0\"),\n",
    "              (scaler_pitch, \"_pitch\")]\n",
    "save_statistics_to_file(scaler_list, config)"
   ]
  },
  {
   "cell_type": "code",
   "execution_count": 34,
   "metadata": {},
   "outputs": [],
   "source": [
    "directory = 'output-female-v3'"
   ]
  },
  {
   "cell_type": "code",
   "execution_count": 35,
   "metadata": {},
   "outputs": [],
   "source": [
    "!rm -rf {directory}"
   ]
  },
  {
   "cell_type": "code",
   "execution_count": 36,
   "metadata": {},
   "outputs": [],
   "source": [
    "os.system(f'mkdir {directory}')\n",
    "directories = ['audios', 'mels', 'text_ids', 'f0s', 'energies', 'pitches']\n",
    "for d in directories:\n",
    "    os.system(f'mkdir {directory}/{d}')"
   ]
  },
  {
   "cell_type": "code",
   "execution_count": 37,
   "metadata": {},
   "outputs": [
    {
     "name": "stderr",
     "output_type": "stream",
     "text": [
      "100%|██████████| 39449/39449 [09:43<00:00, 67.65it/s] \n"
     ]
    }
   ],
   "source": [
    "for i in tqdm(range(len(mels))):\n",
    "    np.save(f'{directory}/audios/{i}.npy', audios[i])\n",
    "    np.save(f'{directory}/mels/{i}.npy', mels[i])\n",
    "    np.save(f'{directory}/text_ids/{i}.npy', text_ids[i])\n",
    "    np.save(f'{directory}/f0s/{i}.npy', f0s[i])\n",
    "    np.save(f'{directory}/energies/{i}.npy', energies[i])\n",
    "    np.save(f'{directory}/pitches/{i}.npy', pitches[i])"
   ]
  },
  {
   "cell_type": "code",
   "execution_count": null,
   "metadata": {},
   "outputs": [],
   "source": []
  }
 ],
 "metadata": {
  "kernelspec": {
   "display_name": "Python 3",
   "language": "python",
   "name": "python3"
  },
  "language_info": {
   "codemirror_mode": {
    "name": "ipython",
    "version": 3
   },
   "file_extension": ".py",
   "mimetype": "text/x-python",
   "name": "python",
   "nbconvert_exporter": "python",
   "pygments_lexer": "ipython3",
   "version": "3.6.9"
  }
 },
 "nbformat": 4,
 "nbformat_minor": 2
}

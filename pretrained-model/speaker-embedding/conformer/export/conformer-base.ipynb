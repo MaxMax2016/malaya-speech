{
 "cells": [
  {
   "cell_type": "code",
   "execution_count": 1,
   "metadata": {},
   "outputs": [],
   "source": [
    "import os\n",
    "\n",
    "os.environ['CUDA_VISIBLE_DEVICES'] = ''\n",
    "os.environ['MALAYA_USE_HUGGINGFACE'] = 'true'"
   ]
  },
  {
   "cell_type": "code",
   "execution_count": 2,
   "metadata": {},
   "outputs": [],
   "source": [
    "import malaya_speech\n",
    "import tensorflow as tf\n",
    "import malaya_speech.train.model.conformer as conformer"
   ]
  },
  {
   "cell_type": "code",
   "execution_count": 3,
   "metadata": {},
   "outputs": [
    {
     "data": {
      "text/plain": [
       "(<tf.Tensor 'ExpandDims:0' shape=(?, ?, 80, 1) dtype=float32>,\n",
       " <tf.Tensor 'TensorArrayStack_2/TensorArrayGatherV3:0' shape=(?,) dtype=int32>)"
      ]
     },
     "execution_count": 3,
     "metadata": {},
     "output_type": "execute_result"
    }
   ],
   "source": [
    "featurizer = malaya_speech.tf_featurization.STTFeaturizer(\n",
    "    normalize_per_feature = True\n",
    ")\n",
    "X = tf.compat.v1.placeholder(tf.float32, [None, None], name = 'X_placeholder')\n",
    "X_len = tf.compat.v1.placeholder(tf.int32, [None], name = 'X_len_placeholder')\n",
    "batch_size = tf.shape(X)[0]\n",
    "features = tf.TensorArray(dtype = tf.float32, size = batch_size, dynamic_size = True, infer_shape = False)\n",
    "features_len = tf.TensorArray(dtype = tf.int32, size = batch_size)\n",
    "\n",
    "init_state = (0, features, features_len)\n",
    "\n",
    "def condition(i, features, features_len):\n",
    "    return i < batch_size\n",
    "\n",
    "def body(i, features, features_len):\n",
    "    f = featurizer(X[i, :X_len[i]])\n",
    "    f_len = tf.shape(f)[0]\n",
    "    return i + 1, features.write(i, f), features_len.write(i, f_len)\n",
    "\n",
    "_, features, features_len = tf.while_loop(condition, body, init_state)\n",
    "features_len = features_len.stack()\n",
    "padded_features = tf.TensorArray(dtype = tf.float32, size = batch_size)\n",
    "padded_lens = tf.TensorArray(dtype = tf.int32, size = batch_size)\n",
    "maxlen = tf.reduce_max(features_len)\n",
    "\n",
    "init_state = (0, padded_features, padded_lens)\n",
    "\n",
    "def condition(i, padded_features, padded_lens):\n",
    "    return i < batch_size\n",
    "\n",
    "def body(i, padded_features, padded_lens):\n",
    "    f = features.read(i)\n",
    "    len_f = tf.shape(f)[0]\n",
    "    f = tf.pad(f, [[0, maxlen - tf.shape(f)[0]], [0,0]])\n",
    "    return i + 1, padded_features.write(i, f), padded_lens.write(i, len_f)\n",
    "\n",
    "_, padded_features, padded_lens = tf.while_loop(condition, body, init_state)\n",
    "padded_features = padded_features.stack()\n",
    "padded_lens = padded_lens.stack()\n",
    "padded_lens.set_shape((None,))\n",
    "padded_features.set_shape((None, None, 80))\n",
    "padded_features = tf.expand_dims(padded_features, -1)\n",
    "padded_features, padded_lens"
   ]
  },
  {
   "cell_type": "code",
   "execution_count": 4,
   "metadata": {},
   "outputs": [],
   "source": [
    "padded_features = tf.identity(padded_features, name = 'padded_features')\n",
    "padded_lens = tf.identity(padded_lens, name = 'padded_lens')"
   ]
  },
  {
   "cell_type": "code",
   "execution_count": 5,
   "metadata": {},
   "outputs": [],
   "source": [
    "config = malaya_speech.config.conformer_base_encoder_config\n",
    "conformer_model = conformer.Model(\n",
    "    kernel_regularizer=None, bias_regularizer=None, **config\n",
    ")"
   ]
  },
  {
   "cell_type": "code",
   "execution_count": 6,
   "metadata": {},
   "outputs": [
    {
     "name": "stdout",
     "output_type": "stream",
     "text": [
      "WARNING:tensorflow:From /home/husein/.local/lib/python3.6/site-packages/tensorflow_core/python/ops/resource_variable_ops.py:1630: calling BaseResourceVariable.__init__ (from tensorflow.python.ops.resource_variable_ops) with constraint is deprecated and will be removed in a future version.\n",
      "Instructions for updating:\n",
      "If using Keras pass *_constraint arguments to layers.\n"
     ]
    }
   ],
   "source": [
    "seq = conformer_model(padded_features)"
   ]
  },
  {
   "cell_type": "code",
   "execution_count": 7,
   "metadata": {},
   "outputs": [
    {
     "data": {
      "text/plain": [
       "<tf.Tensor 'dense/BiasAdd:0' shape=(?, 512) dtype=float32>"
      ]
     },
     "execution_count": 7,
     "metadata": {},
     "output_type": "execute_result"
    }
   ],
   "source": [
    "embedding_dim = 512\n",
    "first_token_tensor = tf.squeeze(seq[:, 0:1, :], axis=1)\n",
    "pooled_output = tf.keras.layers.Dense(embedding_dim, activation=None,\n",
    "                                   use_bias=True, trainable=True)(first_token_tensor)\n",
    "pooled_output"
   ]
  },
  {
   "cell_type": "code",
   "execution_count": 8,
   "metadata": {},
   "outputs": [
    {
     "data": {
      "text/plain": [
       "<tf.Tensor 'lambda/l2_normalize:0' shape=(?, 512) dtype=float32>"
      ]
     },
     "execution_count": 8,
     "metadata": {},
     "output_type": "execute_result"
    }
   ],
   "source": [
    "y = tf.keras.layers.Lambda(lambda x: tf.keras.backend.l2_normalize(x, 1))(pooled_output)\n",
    "y"
   ]
  },
  {
   "cell_type": "code",
   "execution_count": 9,
   "metadata": {},
   "outputs": [
    {
     "data": {
      "text/plain": [
       "<tf.Tensor 'logits:0' shape=(?, 512) dtype=float32>"
      ]
     },
     "execution_count": 9,
     "metadata": {},
     "output_type": "execute_result"
    }
   ],
   "source": [
    "y = tf.identity(y, name = 'logits')\n",
    "y"
   ]
  },
  {
   "cell_type": "code",
   "execution_count": 10,
   "metadata": {},
   "outputs": [],
   "source": [
    "sess = tf.Session()\n",
    "sess.run(tf.global_variables_initializer())"
   ]
  },
  {
   "cell_type": "code",
   "execution_count": 11,
   "metadata": {},
   "outputs": [
    {
     "name": "stdout",
     "output_type": "stream",
     "text": [
      "INFO:tensorflow:Restoring parameters from conformer-base-voxceleb/model.ckpt-1675000\n"
     ]
    }
   ],
   "source": [
    "var_list = tf.get_collection(tf.GraphKeys.GLOBAL_VARIABLES)\n",
    "saver = tf.train.Saver(var_list = var_list)\n",
    "saver.restore(sess, 'conformer-base-voxceleb/model.ckpt-1675000')"
   ]
  },
  {
   "cell_type": "code",
   "execution_count": 13,
   "metadata": {},
   "outputs": [],
   "source": [
    "f = '1.wav'\n",
    "y_, _ = malaya_speech.load(f)"
   ]
  },
  {
   "cell_type": "code",
   "execution_count": 15,
   "metadata": {},
   "outputs": [
    {
     "name": "stdout",
     "output_type": "stream",
     "text": [
      "CPU times: user 473 ms, sys: 125 ms, total: 598 ms\n",
      "Wall time: 128 ms\n"
     ]
    },
    {
     "data": {
      "text/plain": [
       "array([-3.42943408e-02,  1.74337998e-02, -5.96995614e-02,  5.15927970e-02,\n",
       "        3.78360674e-02,  1.11374259e-02, -1.16238995e-02, -2.29922291e-02,\n",
       "       -4.52205613e-02, -3.83505672e-02, -4.44434397e-02,  3.16496752e-02,\n",
       "        7.34405369e-02, -1.33032724e-02, -3.65533531e-02,  3.79834063e-02,\n",
       "        1.60339251e-02,  8.20604563e-02, -3.70756001e-03,  7.90271536e-02,\n",
       "        2.28232960e-03, -1.27660821e-03, -3.98752540e-02, -3.08089145e-03,\n",
       "        1.07098734e-02, -2.10002940e-02, -1.23413485e-02,  1.56773627e-02,\n",
       "        4.62571941e-02, -6.75439695e-03,  1.66410021e-02, -1.38333337e-02,\n",
       "        1.52159669e-02,  3.68148647e-02, -5.00210002e-02, -2.63048355e-02,\n",
       "        5.99954370e-03, -3.39824910e-04, -4.28575762e-02, -9.72654521e-02,\n",
       "        5.74219273e-03, -1.09113203e-02, -5.23459502e-02,  9.86790359e-02,\n",
       "        8.79026800e-02,  3.51844132e-02,  3.17510590e-02,  2.14424580e-02,\n",
       "        1.88377630e-02, -3.91232520e-02,  5.81526197e-02, -7.44219869e-02,\n",
       "        8.56701937e-03, -2.65801139e-02, -4.66304645e-02, -6.00895137e-02,\n",
       "        8.70673079e-03, -2.22599152e-02, -4.98650596e-03, -1.89755503e-02,\n",
       "        1.99101400e-02,  7.15758950e-02, -1.52024738e-02, -1.08391419e-02,\n",
       "       -2.97455713e-02,  3.68315610e-03,  3.58408727e-02, -6.94458792e-03,\n",
       "        7.26818992e-03, -6.44892454e-02, -7.73858428e-02,  9.79154743e-03,\n",
       "        3.78517136e-02, -5.80172753e-03, -3.19925360e-02,  8.25065300e-02,\n",
       "       -3.17915007e-02, -6.65426552e-02, -1.11661879e-02, -2.43418328e-02,\n",
       "       -2.15276685e-02,  3.72390263e-02,  1.25616021e-03, -3.29939723e-02,\n",
       "       -3.47458534e-02,  4.12730919e-03, -5.65844476e-02, -3.80443782e-02,\n",
       "       -1.93482134e-02,  6.06953092e-02,  1.40649723e-02,  4.58738245e-02,\n",
       "        1.78891364e-02, -4.16284055e-03, -3.37387584e-02, -7.92865306e-02,\n",
       "       -6.95930794e-02,  2.99085937e-02,  1.84255429e-02, -8.96275342e-02,\n",
       "        2.30419710e-02, -4.84392643e-02, -6.38204366e-02, -2.45404039e-02,\n",
       "        2.90468391e-02, -1.00807787e-03,  2.19055787e-02,  2.65072938e-02,\n",
       "        3.95729020e-02,  9.95394960e-02, -4.27729413e-02, -7.59225562e-02,\n",
       "        3.50340717e-02, -3.22876200e-02,  8.42846744e-03, -2.97107790e-02,\n",
       "        7.16608809e-03,  4.55907844e-02,  9.05249938e-02, -4.99504730e-02,\n",
       "        1.20867863e-02, -4.68122289e-02,  3.23174782e-02, -7.13694617e-02,\n",
       "       -9.95324925e-03, -4.65002954e-02,  4.22161147e-02,  1.13401958e-03,\n",
       "       -6.47706911e-02,  8.09670091e-02, -3.82625498e-02, -9.18709952e-03,\n",
       "        3.05614658e-02, -5.19764498e-02, -9.82200075e-03,  2.41415836e-02,\n",
       "       -1.98569670e-02,  6.86862366e-03,  4.41345610e-02,  3.51668661e-03,\n",
       "        2.25917511e-02,  1.01303421e-02, -1.28503377e-02, -9.14245320e-04,\n",
       "       -2.53768201e-04,  3.10903471e-02,  1.22667151e-02, -4.32175165e-03,\n",
       "        2.52878584e-04,  5.95423318e-02,  3.76082584e-02,  1.21413087e-02,\n",
       "        3.91388424e-02,  5.58909290e-02,  1.38487564e-02, -2.66668219e-02,\n",
       "       -1.05218314e-01,  2.16223504e-02, -5.59209995e-02,  1.77353453e-02,\n",
       "        3.84728350e-02,  4.01418284e-02,  4.62463461e-02, -2.98063196e-02,\n",
       "        7.00482875e-02, -7.22996891e-02,  7.46405646e-02, -1.12955786e-01,\n",
       "        4.59990418e-03, -8.10077861e-02,  4.81043607e-02, -1.18442038e-02,\n",
       "       -2.83534229e-02, -5.88044152e-02,  7.31782690e-02,  5.54763563e-02,\n",
       "        4.33944017e-02,  2.15548109e-02,  2.73830490e-03, -2.96880789e-02,\n",
       "       -4.67676371e-02, -2.58185863e-02,  5.79425804e-02, -1.10434880e-02,\n",
       "       -8.37791562e-02, -1.62530430e-02, -8.94181989e-03, -8.64068884e-03,\n",
       "        4.91410755e-02,  1.64767727e-02, -5.26325442e-02, -8.87130275e-02,\n",
       "        1.68428496e-02, -2.92325001e-02, -2.01233905e-02,  7.21087456e-02,\n",
       "       -3.74231599e-02, -3.09834946e-02,  4.63744800e-04, -1.02479560e-02,\n",
       "        2.48632561e-02,  2.04246584e-02,  2.79092640e-02,  3.88335064e-02,\n",
       "       -7.50648454e-02,  6.25344589e-02,  1.91081001e-03, -2.10801028e-02,\n",
       "       -1.26623409e-02, -2.13916954e-02, -4.77188192e-02, -7.22884387e-02,\n",
       "        2.10538879e-02, -2.55801603e-02, -1.16413860e-02, -5.45721352e-02,\n",
       "       -5.00471815e-02,  3.85720730e-02,  1.84847787e-02,  8.76455531e-02,\n",
       "       -4.49729199e-03,  4.07201275e-02,  2.44867112e-02, -5.84659427e-02,\n",
       "       -3.17638665e-02,  8.55171084e-02, -1.34659121e-02, -2.54250728e-02,\n",
       "       -8.55515525e-03, -2.83770338e-02,  3.51434457e-03, -6.59074187e-02,\n",
       "        7.44478554e-02,  7.61924370e-04,  2.80931517e-02,  8.62845802e-04,\n",
       "        2.47056708e-02, -6.32123351e-02, -2.49804966e-02,  3.68434489e-02,\n",
       "        4.64721844e-02,  9.60708931e-02,  4.87272802e-04, -4.54039872e-02,\n",
       "        4.40827012e-02, -3.39234993e-02, -7.83131341e-04,  1.14887580e-02,\n",
       "        7.25077093e-02, -9.87815438e-05, -3.78886871e-02,  9.59521458e-02,\n",
       "       -4.78567667e-02, -2.09618602e-02, -3.38300020e-02,  4.85527841e-03,\n",
       "       -5.24721108e-02,  2.50374582e-02, -2.07886975e-02,  7.55890086e-02,\n",
       "        7.53071457e-02, -8.16438273e-02,  7.71382079e-02,  6.10118359e-03,\n",
       "        5.72453402e-02, -5.80179617e-02,  1.74741037e-02, -8.21004361e-02,\n",
       "       -2.25292053e-02, -3.57564189e-03, -4.25901562e-02, -2.13411022e-02,\n",
       "        3.48646715e-02,  6.42408133e-02, -3.63072492e-02,  5.63919656e-02,\n",
       "        4.52694222e-02,  1.55705949e-02,  3.08650695e-02,  3.28646153e-02,\n",
       "       -6.51362762e-02,  6.10249825e-02,  5.89205697e-02,  3.96068022e-02,\n",
       "       -8.99974816e-03, -3.54251303e-02, -1.55154467e-02, -4.64442484e-02,\n",
       "       -9.20481887e-03,  2.16050576e-02,  3.17109609e-03, -9.61976200e-02,\n",
       "        2.23349929e-02, -5.72468117e-02, -9.09447111e-03, -7.38651901e-02,\n",
       "       -5.12017049e-02,  6.02920773e-03, -1.53353577e-03,  2.06457041e-02,\n",
       "       -3.65942866e-02, -9.71235409e-02,  7.18298405e-02,  7.86476943e-04,\n",
       "        1.11763431e-02, -2.70526335e-02, -4.80570570e-02, -6.72102720e-02,\n",
       "        4.13758345e-02, -1.16906352e-02,  1.30315330e-02,  5.30406944e-02,\n",
       "       -3.84488292e-02, -2.24961434e-03,  1.52547406e-02,  3.60215120e-02,\n",
       "        9.19610858e-02,  2.08646841e-02,  5.06652221e-02,  5.17157018e-02,\n",
       "        5.27137816e-02,  6.63609058e-02,  2.96915565e-02,  2.72001456e-02,\n",
       "        5.77494912e-02, -2.11936068e-02, -6.70091361e-02,  4.73530311e-03,\n",
       "       -2.30831653e-02, -5.26432879e-04, -5.36061563e-02, -4.07636650e-02,\n",
       "        2.05558855e-02, -4.81970422e-02,  1.40699772e-02, -3.22908349e-02,\n",
       "        8.39254186e-02, -4.68474142e-02,  2.46170759e-02,  4.72495769e-04,\n",
       "        8.19233130e-04, -4.74018119e-02,  3.49029899e-02, -3.50910276e-02,\n",
       "       -1.01866700e-01,  8.12739283e-02, -3.62674184e-02, -5.70130255e-03,\n",
       "       -9.73978359e-03, -2.62547247e-02, -4.03145701e-02, -2.84775142e-02,\n",
       "        1.78579073e-02,  1.72814708e-02, -2.62227077e-02,  2.99466103e-02,\n",
       "        3.45446914e-02,  4.78509292e-02, -7.17117786e-02,  3.66709288e-03,\n",
       "        7.88687468e-02,  1.05035298e-01, -1.90974604e-02,  2.52926387e-02,\n",
       "        4.08190675e-02, -5.75655140e-02, -3.02448589e-02,  3.37751508e-02,\n",
       "        2.95421928e-02,  4.34120148e-02, -3.57552990e-02, -5.23313135e-02,\n",
       "       -4.40976880e-02, -3.73680480e-02,  2.08026618e-02,  9.21395142e-03,\n",
       "       -7.66544789e-02, -2.08912734e-02,  8.76151994e-02,  6.78205788e-02,\n",
       "        7.48387128e-02, -9.43742469e-02,  2.73641516e-02, -2.28923876e-02,\n",
       "        2.34112013e-02,  5.07983305e-02,  2.03632307e-03,  3.09831016e-02,\n",
       "       -2.40155421e-02, -2.52946727e-02,  3.81642096e-02,  1.02246329e-02,\n",
       "        2.36790944e-02,  6.79502711e-02, -1.87177155e-02, -2.21656710e-02,\n",
       "        1.94367506e-02, -2.96175033e-02, -9.95251071e-03, -4.71904874e-02,\n",
       "       -1.35646798e-02,  7.18229786e-02, -2.89419368e-02, -3.04653272e-02,\n",
       "        7.08451644e-02,  1.69135388e-02,  2.13141646e-02,  2.72517782e-02,\n",
       "        2.40664985e-02, -6.90199882e-02, -1.88077390e-02,  5.93834147e-02,\n",
       "       -6.85465932e-02,  1.11156426e-01,  1.76200103e-02, -1.22913923e-02,\n",
       "       -9.10861194e-02,  5.66874258e-02, -2.83412896e-02, -7.93884415e-03,\n",
       "        7.27355666e-03, -3.27171683e-02,  5.65601848e-02,  2.64796298e-02,\n",
       "       -4.49099019e-02, -1.19807748e-02,  1.37433028e-02, -7.39044249e-02,\n",
       "       -3.21882591e-02, -3.57495062e-02,  4.65749111e-03,  1.58963446e-02,\n",
       "        3.39784399e-02,  3.10538951e-02, -1.20009542e-01, -5.58863170e-02,\n",
       "       -4.30090204e-02,  4.35730368e-02,  1.72247570e-02, -4.40781936e-03,\n",
       "        1.75069515e-02,  1.07878540e-02,  4.30485085e-02, -3.88800502e-02,\n",
       "        2.04470325e-02, -4.10183938e-03,  5.40001057e-02,  4.48600315e-02,\n",
       "       -8.62620845e-02,  6.59319535e-02,  2.80652214e-02, -5.57812862e-02,\n",
       "       -6.49188692e-03, -3.95094194e-02, -4.07394161e-03, -1.88879352e-02,\n",
       "       -1.07636824e-01,  4.07506898e-02,  1.41710052e-02, -1.84190385e-02,\n",
       "       -5.33833355e-02, -7.10795969e-02, -3.83596569e-02, -2.91998554e-02,\n",
       "        6.39994023e-03, -2.32168268e-02,  4.58561629e-03,  1.39276227e-02,\n",
       "        2.73114499e-02,  1.35858245e-02,  8.44477341e-02, -4.77276370e-02,\n",
       "        2.50516143e-02, -2.60792747e-02, -1.94508862e-02,  3.48453112e-02,\n",
       "        3.19120958e-02, -1.79407783e-02, -5.57368156e-03,  2.96311099e-02,\n",
       "       -3.81151773e-02,  2.94997878e-02, -7.55620301e-02, -3.39375809e-03,\n",
       "       -1.78290978e-02, -6.49513602e-02, -1.24977576e-02, -5.29704336e-03,\n",
       "        2.94232108e-02, -2.71064918e-02,  1.98541349e-03, -3.33982483e-02,\n",
       "       -1.59140974e-02,  8.54916219e-03, -1.04399053e-02,  1.88406296e-02,\n",
       "        8.87723044e-02, -5.60848489e-02,  1.09464889e-02, -2.41170060e-02,\n",
       "       -2.20207386e-02,  5.64247705e-02,  6.80681020e-02,  2.39372421e-02,\n",
       "        1.02765881e-01,  3.81157175e-02, -1.18988995e-02, -3.89496312e-02,\n",
       "        6.92014471e-02, -3.48217152e-02, -4.85251285e-02,  2.84258053e-02],\n",
       "      dtype=float32)"
      ]
     },
     "execution_count": 15,
     "metadata": {},
     "output_type": "execute_result"
    }
   ],
   "source": [
    "%%time\n",
    "\n",
    "sess.run(y, feed_dict = {X: [y_], X_len: [len(y_)]})[0]"
   ]
  },
  {
   "cell_type": "code",
   "execution_count": 16,
   "metadata": {},
   "outputs": [
    {
     "data": {
      "text/plain": [
       "'output-conformer-base/model.ckpt'"
      ]
     },
     "execution_count": 16,
     "metadata": {},
     "output_type": "execute_result"
    }
   ],
   "source": [
    "saver = tf.train.Saver()\n",
    "saver.save(sess, 'output-conformer-base/model.ckpt')"
   ]
  },
  {
   "cell_type": "code",
   "execution_count": 17,
   "metadata": {},
   "outputs": [
    {
     "data": {
      "text/plain": [
       "['X_placeholder', 'X_len_placeholder', 'logits']"
      ]
     },
     "execution_count": 17,
     "metadata": {},
     "output_type": "execute_result"
    }
   ],
   "source": [
    "strings = ','.join(\n",
    "    [\n",
    "        n.name\n",
    "        for n in tf.get_default_graph().as_graph_def().node\n",
    "        if ('Variable' in n.op\n",
    "        or 'gather' in n.op.lower()\n",
    "        or 'placeholder' in n.name\n",
    "        or 'logits' in n.name)\n",
    "        and 'adam' not in n.name\n",
    "        and 'global_step' not in n.name\n",
    "        and 'Assign' not in n.name\n",
    "        and 'ReadVariableOp' not in n.name\n",
    "        and 'Gather' not in n.name\n",
    "    ]\n",
    ")\n",
    "strings.split(',')"
   ]
  },
  {
   "cell_type": "code",
   "execution_count": 18,
   "metadata": {},
   "outputs": [],
   "source": [
    "def freeze_graph(model_dir, output_node_names):\n",
    "\n",
    "    if not tf.gfile.Exists(model_dir):\n",
    "        raise AssertionError(\n",
    "            \"Export directory doesn't exists. Please specify an export \"\n",
    "            'directory: %s' % model_dir\n",
    "        )\n",
    "\n",
    "    checkpoint = tf.train.get_checkpoint_state(model_dir)\n",
    "    input_checkpoint = checkpoint.model_checkpoint_path\n",
    "\n",
    "    absolute_model_dir = '/'.join(input_checkpoint.split('/')[:-1])\n",
    "    output_graph = absolute_model_dir + '/frozen_model.pb'\n",
    "    clear_devices = True\n",
    "    with tf.Session(graph = tf.Graph()) as sess:\n",
    "        saver = tf.train.import_meta_graph(\n",
    "            input_checkpoint + '.meta', clear_devices = clear_devices\n",
    "        )\n",
    "        saver.restore(sess, input_checkpoint)\n",
    "        output_graph_def = tf.graph_util.convert_variables_to_constants(\n",
    "            sess,\n",
    "            tf.get_default_graph().as_graph_def(),\n",
    "            output_node_names.split(','),\n",
    "        )\n",
    "        with tf.gfile.GFile(output_graph, 'wb') as f:\n",
    "            f.write(output_graph_def.SerializeToString())\n",
    "        print('%d ops in the final graph.' % len(output_graph_def.node))"
   ]
  },
  {
   "cell_type": "code",
   "execution_count": 19,
   "metadata": {},
   "outputs": [
    {
     "name": "stdout",
     "output_type": "stream",
     "text": [
      "INFO:tensorflow:Restoring parameters from output-conformer-base/model.ckpt\n",
      "WARNING:tensorflow:From <ipython-input-18-9a7215a4e58a>:23: convert_variables_to_constants (from tensorflow.python.framework.graph_util_impl) is deprecated and will be removed in a future version.\n",
      "Instructions for updating:\n",
      "Use `tf.compat.v1.graph_util.convert_variables_to_constants`\n",
      "WARNING:tensorflow:From /home/husein/.local/lib/python3.6/site-packages/tensorflow_core/python/framework/graph_util_impl.py:277: extract_sub_graph (from tensorflow.python.framework.graph_util_impl) is deprecated and will be removed in a future version.\n",
      "Instructions for updating:\n",
      "Use `tf.compat.v1.graph_util.extract_sub_graph`\n",
      "INFO:tensorflow:Froze 584 variables.\n",
      "INFO:tensorflow:Converted 584 variables to const ops.\n",
      "9608 ops in the final graph.\n"
     ]
    }
   ],
   "source": [
    "freeze_graph('output-conformer-base', strings)"
   ]
  },
  {
   "cell_type": "code",
   "execution_count": 20,
   "metadata": {},
   "outputs": [],
   "source": [
    "def load_graph(frozen_graph_filename):\n",
    "    with tf.gfile.GFile(frozen_graph_filename, 'rb') as f:\n",
    "        graph_def = tf.GraphDef()\n",
    "        graph_def.ParseFromString(f.read())\n",
    "                \n",
    "    with tf.Graph().as_default() as graph:\n",
    "        tf.import_graph_def(graph_def)\n",
    "        \n",
    "    return graph"
   ]
  },
  {
   "cell_type": "code",
   "execution_count": 21,
   "metadata": {},
   "outputs": [],
   "source": [
    "g = load_graph('output-conformer-base/frozen_model.pb')"
   ]
  },
  {
   "cell_type": "code",
   "execution_count": 22,
   "metadata": {},
   "outputs": [],
   "source": [
    "input_nodes = [\n",
    "    'X_placeholder',\n",
    "    'X_len_placeholder',\n",
    "]\n",
    "output_nodes = [\n",
    "    'logits'\n",
    "]\n",
    "inputs = {n: g.get_tensor_by_name(f'import/{n}:0') for n in input_nodes}\n",
    "outputs = {n: g.get_tensor_by_name(f'import/{n}:0') for n in output_nodes}"
   ]
  },
  {
   "cell_type": "code",
   "execution_count": 25,
   "metadata": {},
   "outputs": [],
   "source": [
    "test_sess = tf.Session(graph = g)"
   ]
  },
  {
   "cell_type": "code",
   "execution_count": 26,
   "metadata": {},
   "outputs": [
    {
     "data": {
      "text/plain": [
       "array([[-3.42765599e-02,  1.76603459e-02, -5.95744103e-02,\n",
       "         5.17317727e-02,  3.78416143e-02,  1.10196769e-02,\n",
       "        -1.17707234e-02, -2.30666585e-02, -4.52118404e-02,\n",
       "        -3.82358618e-02, -4.45492789e-02,  3.14630568e-02,\n",
       "         7.36526474e-02, -1.33846123e-02, -3.66452113e-02,\n",
       "         3.78675610e-02,  1.59521252e-02,  8.21145326e-02,\n",
       "        -3.83047829e-03,  7.90980905e-02,  2.30665226e-03,\n",
       "        -1.29932910e-03, -3.99338938e-02, -3.07450001e-03,\n",
       "         1.08003030e-02, -2.09528394e-02, -1.24771409e-02,\n",
       "         1.57241803e-02,  4.62129563e-02, -6.75419858e-03,\n",
       "         1.66078005e-02, -1.38759408e-02,  1.53301060e-02,\n",
       "         3.68314274e-02, -5.01642451e-02, -2.62113549e-02,\n",
       "         5.97903179e-03, -2.13958847e-04, -4.28931899e-02,\n",
       "        -9.74427089e-02,  5.56918001e-03, -1.08987261e-02,\n",
       "        -5.24564758e-02,  9.87501815e-02,  8.78688022e-02,\n",
       "         3.53347510e-02,  3.18520144e-02,  2.14252993e-02,\n",
       "         1.89526957e-02, -3.92914526e-02,  5.82395568e-02,\n",
       "        -7.44337440e-02,  8.50384496e-03, -2.64768358e-02,\n",
       "        -4.64184433e-02, -5.99881709e-02,  8.57981853e-03,\n",
       "        -2.22587865e-02, -5.12539595e-03, -1.88420191e-02,\n",
       "         2.00555678e-02,  7.16230124e-02, -1.50125520e-02,\n",
       "        -1.08199306e-02, -2.97159720e-02,  3.59332981e-03,\n",
       "         3.57297398e-02, -6.95326831e-03,  7.34155625e-03,\n",
       "        -6.46143854e-02, -7.72801265e-02,  9.88039281e-03,\n",
       "         3.78859974e-02, -5.74329309e-03, -3.18726003e-02,\n",
       "         8.24486911e-02, -3.20061967e-02, -6.65348545e-02,\n",
       "        -1.10487435e-02, -2.44090632e-02, -2.14638412e-02,\n",
       "         3.72216851e-02,  1.49915460e-03, -3.28521170e-02,\n",
       "        -3.46789658e-02,  4.09408472e-03, -5.65143749e-02,\n",
       "        -3.80557440e-02, -1.92777608e-02,  6.05314597e-02,\n",
       "         1.41303288e-02,  4.56250347e-02,  1.77831594e-02,\n",
       "        -4.29483596e-03, -3.36966366e-02, -7.92026296e-02,\n",
       "        -6.95942342e-02,  2.99336631e-02,  1.80642959e-02,\n",
       "        -8.95914882e-02,  2.30375398e-02, -4.83992472e-02,\n",
       "        -6.39035627e-02, -2.44849790e-02,  2.89824996e-02,\n",
       "        -1.16221176e-03,  2.19612513e-02,  2.64406726e-02,\n",
       "         3.95823643e-02,  9.96063650e-02, -4.28890064e-02,\n",
       "        -7.57801831e-02,  3.49031799e-02, -3.23730148e-02,\n",
       "         8.38694628e-03, -2.97678448e-02,  7.22034741e-03,\n",
       "         4.54057753e-02,  9.06263217e-02, -5.00646345e-02,\n",
       "         1.23038143e-02, -4.70259041e-02,  3.22301500e-02,\n",
       "        -7.14445487e-02, -9.85738356e-03, -4.65952903e-02,\n",
       "         4.20840494e-02,  1.21395779e-03, -6.47266060e-02,\n",
       "         8.07756558e-02, -3.82972546e-02, -9.01184697e-03,\n",
       "         3.06366608e-02, -5.21114692e-02, -9.89142153e-03,\n",
       "         2.40605995e-02, -1.97978057e-02,  6.80778641e-03,\n",
       "         4.40634042e-02,  3.34764505e-03,  2.28180550e-02,\n",
       "         1.02173788e-02, -1.28870895e-02, -5.88719035e-04,\n",
       "        -1.87613099e-04,  3.10271420e-02,  1.21377474e-02,\n",
       "        -4.35111392e-03,  6.81589518e-05,  5.94793707e-02,\n",
       "         3.75958495e-02,  1.21630952e-02,  3.90568413e-02,\n",
       "         5.60973845e-02,  1.37303350e-02, -2.67405137e-02,\n",
       "        -1.05288625e-01,  2.16888580e-02, -5.58075346e-02,\n",
       "         1.77558232e-02,  3.84618379e-02,  3.99433635e-02,\n",
       "         4.62347604e-02, -2.98833437e-02,  7.02322051e-02,\n",
       "        -7.21173733e-02,  7.47766048e-02, -1.13077022e-01,\n",
       "         4.52939374e-03, -8.09533373e-02,  4.82238755e-02,\n",
       "        -1.20120095e-02, -2.81954482e-02, -5.87123446e-02,\n",
       "         7.29165748e-02,  5.53350449e-02,  4.32658978e-02,\n",
       "         2.16957852e-02,  2.78428313e-03, -2.96780206e-02,\n",
       "        -4.66723628e-02, -2.56721359e-02,  5.81001081e-02,\n",
       "        -1.12101119e-02, -8.36732686e-02, -1.62887294e-02,\n",
       "        -8.69051740e-03, -8.72758310e-03,  4.91565466e-02,\n",
       "         1.63849555e-02, -5.26878126e-02, -8.86506736e-02,\n",
       "         1.69290882e-02, -2.90293656e-02, -1.99407302e-02,\n",
       "         7.21845254e-02, -3.76386307e-02, -3.09994817e-02,\n",
       "         5.72302088e-04, -1.02568334e-02,  2.48542670e-02,\n",
       "         2.03165505e-02,  2.79966667e-02,  3.87091711e-02,\n",
       "        -7.51446784e-02,  6.24730848e-02,  1.68592157e-03,\n",
       "        -2.12444160e-02, -1.24417273e-02, -2.15512142e-02,\n",
       "        -4.76985835e-02, -7.22115710e-02,  2.11846232e-02,\n",
       "        -2.56986506e-02, -1.15816966e-02, -5.45144565e-02,\n",
       "        -5.01477756e-02,  3.85155231e-02,  1.86880901e-02,\n",
       "         8.76593068e-02, -4.30731056e-03,  4.05863263e-02,\n",
       "         2.44772136e-02, -5.84159642e-02, -3.16201150e-02,\n",
       "         8.54183137e-02, -1.33371940e-02, -2.54362896e-02,\n",
       "        -8.61861371e-03, -2.82728877e-02,  3.38095264e-03,\n",
       "        -6.58017471e-02,  7.42809400e-02,  9.60766629e-04,\n",
       "         2.81513743e-02,  7.57568167e-04,  2.50042006e-02,\n",
       "        -6.32856563e-02, -2.50501987e-02,  3.68140005e-02,\n",
       "         4.65321653e-02,  9.60998163e-02,  3.78984929e-04,\n",
       "        -4.54985015e-02,  4.41259816e-02, -3.39408964e-02,\n",
       "        -5.62363653e-04,  1.13542276e-02,  7.25717470e-02,\n",
       "        -1.45707614e-04, -3.78435664e-02,  9.59855095e-02,\n",
       "        -4.78567295e-02, -2.08403580e-02, -3.38057280e-02,\n",
       "         4.93606646e-03, -5.22359796e-02,  2.52141058e-02,\n",
       "        -2.05940213e-02,  7.55380169e-02,  7.53447339e-02,\n",
       "        -8.15298408e-02,  7.69700706e-02,  6.32113032e-03,\n",
       "         5.71975037e-02, -5.79173043e-02,  1.74363162e-02,\n",
       "        -8.20072815e-02, -2.25896332e-02, -3.57875391e-03,\n",
       "        -4.27337587e-02, -2.14228965e-02,  3.47532220e-02,\n",
       "         6.44142926e-02, -3.63742672e-02,  5.64794429e-02,\n",
       "         4.51823510e-02,  1.54435327e-02,  3.07906549e-02,\n",
       "         3.27387676e-02, -6.48986623e-02,  6.09591790e-02,\n",
       "         5.90025112e-02,  3.95870805e-02, -8.94510746e-03,\n",
       "        -3.55548114e-02, -1.54000064e-02, -4.64308225e-02,\n",
       "        -9.25124995e-03,  2.15869695e-02,  3.32822022e-03,\n",
       "        -9.63667780e-02,  2.24658195e-02, -5.75452559e-02,\n",
       "        -9.39003006e-03, -7.38095865e-02, -5.11435010e-02,\n",
       "         6.14725193e-03, -1.39079837e-03,  2.04960946e-02,\n",
       "        -3.65986601e-02, -9.68428627e-02,  7.18587562e-02,\n",
       "         8.01056682e-04,  1.10011362e-02, -2.70167310e-02,\n",
       "        -4.81238887e-02, -6.75014928e-02,  4.13554087e-02,\n",
       "        -1.16121722e-02,  1.29445381e-02,  5.30105680e-02,\n",
       "        -3.85279767e-02, -2.40059895e-03,  1.50062861e-02,\n",
       "         3.58709283e-02,  9.20099691e-02,  2.12153364e-02,\n",
       "         5.06969020e-02,  5.17309569e-02,  5.26115857e-02,\n",
       "         6.61794096e-02,  2.94854362e-02,  2.69861780e-02,\n",
       "         5.77033348e-02, -2.10620556e-02, -6.69699162e-02,\n",
       "         4.77928948e-03, -2.31067985e-02, -5.31825295e-04,\n",
       "        -5.36795110e-02, -4.06295508e-02,  2.05245540e-02,\n",
       "        -4.80263680e-02,  1.40499091e-02, -3.23023647e-02,\n",
       "         8.39389265e-02, -4.69644256e-02,  2.48029307e-02,\n",
       "         5.50497789e-04,  8.68871924e-04, -4.71556671e-02,\n",
       "         3.48699391e-02, -3.52023393e-02, -1.01826377e-01,\n",
       "         8.13190043e-02, -3.63464057e-02, -5.63751999e-03,\n",
       "        -9.71789286e-03, -2.62087546e-02, -4.04266976e-02,\n",
       "        -2.84836162e-02,  1.79875307e-02,  1.73432212e-02,\n",
       "        -2.62777824e-02,  2.99698673e-02,  3.45503651e-02,\n",
       "         4.78499010e-02, -7.17441067e-02,  3.72633804e-03,\n",
       "         7.90476799e-02,  1.05083399e-01, -1.90718751e-02,\n",
       "         2.50989478e-02,  4.08081338e-02, -5.74549213e-02,\n",
       "        -3.02165002e-02,  3.36955823e-02,  2.96626240e-02,\n",
       "         4.31394987e-02, -3.57830636e-02, -5.25073037e-02,\n",
       "        -4.41004373e-02, -3.73170413e-02,  2.05288250e-02,\n",
       "         9.13029443e-03, -7.66199976e-02, -2.10128222e-02,\n",
       "         8.75415206e-02,  6.79273903e-02,  7.46638179e-02,\n",
       "        -9.43128541e-02,  2.76198108e-02, -2.27777269e-02,\n",
       "         2.36346032e-02,  5.05649671e-02,  2.07158318e-03,\n",
       "         3.12210470e-02, -2.39784382e-02, -2.52346918e-02,\n",
       "         3.81376222e-02,  1.01305256e-02,  2.34859083e-02,\n",
       "         6.79037571e-02, -1.86793748e-02, -2.20945403e-02,\n",
       "         1.95362456e-02, -2.94813849e-02, -1.00734951e-02,\n",
       "        -4.73493822e-02, -1.36129390e-02,  7.19715133e-02,\n",
       "        -2.89045647e-02, -3.01985275e-02,  7.09542856e-02,\n",
       "         1.73158552e-02,  2.12919097e-02,  2.73007676e-02,\n",
       "         2.40465812e-02, -6.91461340e-02, -1.86353866e-02,\n",
       "         5.92998639e-02, -6.82535246e-02,  1.11017264e-01,\n",
       "         1.75237916e-02, -1.22332266e-02, -9.11149979e-02,\n",
       "         5.68756349e-02, -2.82643270e-02, -7.71511113e-03,\n",
       "         7.33232964e-03, -3.28583568e-02,  5.66140413e-02,\n",
       "         2.66060028e-02, -4.49950434e-02, -1.19607393e-02,\n",
       "         1.39523903e-02, -7.38431066e-02, -3.23207974e-02,\n",
       "        -3.58092040e-02,  4.57535079e-03,  1.57359708e-02,\n",
       "         3.41112763e-02,  3.09415217e-02, -1.19977981e-01,\n",
       "        -5.58157489e-02, -4.29127812e-02,  4.37694266e-02,\n",
       "         1.71376821e-02, -4.28534253e-03,  1.76324639e-02,\n",
       "         1.06215095e-02,  4.31825519e-02, -3.88537049e-02,\n",
       "         2.04078965e-02, -3.93857388e-03,  5.40029369e-02,\n",
       "         4.48504947e-02, -8.63210484e-02,  6.58775494e-02,\n",
       "         2.80925203e-02, -5.58720902e-02, -6.50688307e-03,\n",
       "        -3.95000167e-02, -3.86400148e-03, -1.90162156e-02,\n",
       "        -1.07792079e-01,  4.07216549e-02,  1.41198914e-02,\n",
       "        -1.85773000e-02, -5.35175502e-02, -7.11445883e-02,\n",
       "        -3.83357778e-02, -2.94322353e-02,  6.22739084e-03,\n",
       "        -2.33045612e-02,  4.48178919e-03,  1.38734076e-02,\n",
       "         2.72161309e-02,  1.36807542e-02,  8.44284520e-02,\n",
       "        -4.77949940e-02,  2.50868332e-02, -2.59922761e-02,\n",
       "        -1.94690153e-02,  3.48142982e-02,  3.19715030e-02,\n",
       "        -1.80842038e-02, -5.45951072e-03,  2.94489972e-02,\n",
       "        -3.81231979e-02,  2.95179300e-02, -7.55692720e-02,\n",
       "        -3.37873283e-03, -1.79534964e-02, -6.50337860e-02,\n",
       "        -1.25411442e-02, -5.41487569e-03,  2.93442402e-02,\n",
       "        -2.73426678e-02,  1.69491523e-03, -3.33280191e-02,\n",
       "        -1.58880297e-02,  8.49049818e-03, -1.03664594e-02,\n",
       "         1.88492965e-02,  8.86903629e-02, -5.61219715e-02,\n",
       "         1.09403664e-02, -2.41283793e-02, -2.20416691e-02,\n",
       "         5.65778092e-02,  6.82449564e-02,  2.41434593e-02,\n",
       "         1.02836683e-01,  3.79515924e-02, -1.17861694e-02,\n",
       "        -3.91767062e-02,  6.92307651e-02, -3.48802060e-02,\n",
       "        -4.84934300e-02,  2.85864528e-02]], dtype=float32)"
      ]
     },
     "execution_count": 26,
     "metadata": {},
     "output_type": "execute_result"
    }
   ],
   "source": [
    "test_sess.run(outputs['logits'], feed_dict = {inputs['X_placeholder']: [y_], \n",
    "                                                          inputs['X_len_placeholder']: [len(y_)]})"
   ]
  },
  {
   "cell_type": "code",
   "execution_count": 23,
   "metadata": {},
   "outputs": [],
   "source": [
    "from tensorflow.tools.graph_transforms import TransformGraph"
   ]
  },
  {
   "cell_type": "code",
   "execution_count": 24,
   "metadata": {},
   "outputs": [
    {
     "name": "stdout",
     "output_type": "stream",
     "text": [
      "WARNING:tensorflow:From <ipython-input-24-764118a9d0e9>:20: FastGFile.__init__ (from tensorflow.python.platform.gfile) is deprecated and will be removed in a future version.\n",
      "Instructions for updating:\n",
      "Use tf.gfile.GFile.\n"
     ]
    }
   ],
   "source": [
    "transforms = ['add_default_attributes',\n",
    "             'remove_nodes(op=Identity, op=CheckNumerics, op=Dropout)',\n",
    "             'fold_batch_norms',\n",
    "             'fold_old_batch_norms',\n",
    "             'quantize_weights(fallback_min=-10, fallback_max=10)',\n",
    "             'strip_unused_nodes',\n",
    "             'sort_by_execution_order']\n",
    "\n",
    "input_nodes = [\n",
    "    'X_placeholder',\n",
    "    'X_len_placeholder',\n",
    "]\n",
    "output_nodes = [\n",
    "    'logits'\n",
    "]\n",
    "\n",
    "pb = 'output-conformer-base/frozen_model.pb'\n",
    "\n",
    "input_graph_def = tf.GraphDef()\n",
    "with tf.gfile.FastGFile(pb, 'rb') as f:\n",
    "    input_graph_def.ParseFromString(f.read())\n",
    "\n",
    "transformed_graph_def = TransformGraph(input_graph_def, \n",
    "                                           input_nodes,\n",
    "                                           output_nodes, transforms)\n",
    "    \n",
    "with tf.gfile.GFile(f'{pb}.quantized', 'wb') as f:\n",
    "    f.write(transformed_graph_def.SerializeToString())"
   ]
  },
  {
   "cell_type": "code",
   "execution_count": 29,
   "metadata": {},
   "outputs": [],
   "source": [
    "b2_application_key_id = os.environ['b2_application_key_id']\n",
    "b2_application_key = os.environ['b2_application_key']"
   ]
  },
  {
   "cell_type": "code",
   "execution_count": 30,
   "metadata": {},
   "outputs": [],
   "source": [
    "from b2sdk.v1 import *\n",
    "info = InMemoryAccountInfo()\n",
    "b2_api = B2Api(info)\n",
    "application_key_id = b2_application_key_id\n",
    "application_key = b2_application_key\n",
    "b2_api.authorize_account(\"production\", application_key_id, application_key)\n",
    "file_info = {'how': 'good-file'}\n",
    "b2_bucket = b2_api.get_bucket_by_name('malaya-speech-model')"
   ]
  },
  {
   "cell_type": "code",
   "execution_count": 27,
   "metadata": {},
   "outputs": [],
   "source": [
    "!tar -cf output-conformer-base.tar output-conformer-base"
   ]
  },
  {
   "cell_type": "code",
   "execution_count": 31,
   "metadata": {},
   "outputs": [
    {
     "data": {
      "text/plain": [
       "<b2sdk.file_version.FileVersionInfo at 0x7f33bc3dceb8>"
      ]
     },
     "execution_count": 31,
     "metadata": {},
     "output_type": "execute_result"
    }
   ],
   "source": [
    "file = 'output-conformer-base.tar'\n",
    "outPutname = 'pretrained/output-conformer-base-speaker-embedding.tar'\n",
    "b2_bucket.upload_local_file(\n",
    "    local_file=file,\n",
    "    file_name=outPutname,\n",
    "    file_infos=file_info,\n",
    ")"
   ]
  },
  {
   "cell_type": "code",
   "execution_count": 32,
   "metadata": {},
   "outputs": [
    {
     "data": {
      "text/plain": [
       "<b2sdk.file_version.FileVersionInfo at 0x7f33bc3930f0>"
      ]
     },
     "execution_count": 32,
     "metadata": {},
     "output_type": "execute_result"
    }
   ],
   "source": [
    "file = 'output-conformer-base/frozen_model.pb'\n",
    "outPutname = 'speaker-vector/conformer-base/model.pb'\n",
    "b2_bucket.upload_local_file(\n",
    "    local_file=file,\n",
    "    file_name=outPutname,\n",
    "    file_infos=file_info,\n",
    ")\n"
   ]
  },
  {
   "cell_type": "code",
   "execution_count": 33,
   "metadata": {},
   "outputs": [
    {
     "data": {
      "text/plain": [
       "<b2sdk.file_version.FileVersionInfo at 0x7f33bc5863c8>"
      ]
     },
     "execution_count": 33,
     "metadata": {},
     "output_type": "execute_result"
    }
   ],
   "source": [
    "file = 'output-conformer-base/frozen_model.pb.quantized'\n",
    "outPutname = 'speaker-vector/conformer-base-quantized/model.pb'\n",
    "b2_bucket.upload_local_file(\n",
    "    local_file=file,\n",
    "    file_name=outPutname,\n",
    "    file_infos=file_info,\n",
    ")\n"
   ]
  },
  {
   "cell_type": "code",
   "execution_count": 34,
   "metadata": {},
   "outputs": [],
   "source": [
    "from malaya_boilerplate.huggingface import upload_dict"
   ]
  },
  {
   "cell_type": "code",
   "execution_count": 35,
   "metadata": {},
   "outputs": [],
   "source": [
    "files_mapping = {'output-conformer-base.tar': 'output-conformer-base.tar'}\n",
    "upload_dict(model = 'pretrained-speaker-embedding', files_mapping = files_mapping)"
   ]
  },
  {
   "cell_type": "code",
   "execution_count": 36,
   "metadata": {},
   "outputs": [],
   "source": [
    "files_mapping = {'output-conformer-base/frozen_model.pb': 'model.pb'}\n",
    "upload_dict(model = 'speaker-vector-conformer-base', files_mapping = files_mapping)"
   ]
  },
  {
   "cell_type": "code",
   "execution_count": 37,
   "metadata": {},
   "outputs": [],
   "source": [
    "files_mapping = {'output-conformer-base/frozen_model.pb.quantized': 'model.pb'}\n",
    "upload_dict(model = 'speaker-vector-conformer-base-quantized', files_mapping = files_mapping)"
   ]
  },
  {
   "cell_type": "code",
   "execution_count": null,
   "metadata": {},
   "outputs": [],
   "source": []
  }
 ],
 "metadata": {
  "kernelspec": {
   "display_name": "Python 3",
   "language": "python",
   "name": "python3"
  },
  "language_info": {
   "codemirror_mode": {
    "name": "ipython",
    "version": 3
   },
   "file_extension": ".py",
   "mimetype": "text/x-python",
   "name": "python",
   "nbconvert_exporter": "python",
   "pygments_lexer": "ipython3",
   "version": "3.6.9"
  }
 },
 "nbformat": 4,
 "nbformat_minor": 2
}

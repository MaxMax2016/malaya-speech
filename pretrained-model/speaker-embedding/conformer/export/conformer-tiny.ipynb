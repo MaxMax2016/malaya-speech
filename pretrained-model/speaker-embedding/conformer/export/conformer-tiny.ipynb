{
 "cells": [
  {
   "cell_type": "code",
   "execution_count": 1,
   "metadata": {},
   "outputs": [],
   "source": [
    "import os\n",
    "\n",
    "os.environ['CUDA_VISIBLE_DEVICES'] = ''\n",
    "os.environ['MALAYA_USE_HUGGINGFACE'] = 'true'"
   ]
  },
  {
   "cell_type": "code",
   "execution_count": 2,
   "metadata": {},
   "outputs": [],
   "source": [
    "import malaya_speech\n",
    "import tensorflow as tf\n",
    "import malaya_speech.train.model.conformer as conformer"
   ]
  },
  {
   "cell_type": "code",
   "execution_count": 3,
   "metadata": {},
   "outputs": [
    {
     "data": {
      "text/plain": [
       "(<tf.Tensor 'ExpandDims:0' shape=(?, ?, 80, 1) dtype=float32>,\n",
       " <tf.Tensor 'TensorArrayStack_2/TensorArrayGatherV3:0' shape=(?,) dtype=int32>)"
      ]
     },
     "execution_count": 3,
     "metadata": {},
     "output_type": "execute_result"
    }
   ],
   "source": [
    "featurizer = malaya_speech.tf_featurization.STTFeaturizer(\n",
    "    normalize_per_feature = True\n",
    ")\n",
    "X = tf.compat.v1.placeholder(tf.float32, [None, None], name = 'X_placeholder')\n",
    "X_len = tf.compat.v1.placeholder(tf.int32, [None], name = 'X_len_placeholder')\n",
    "batch_size = tf.shape(X)[0]\n",
    "features = tf.TensorArray(dtype = tf.float32, size = batch_size, dynamic_size = True, infer_shape = False)\n",
    "features_len = tf.TensorArray(dtype = tf.int32, size = batch_size)\n",
    "\n",
    "init_state = (0, features, features_len)\n",
    "\n",
    "def condition(i, features, features_len):\n",
    "    return i < batch_size\n",
    "\n",
    "def body(i, features, features_len):\n",
    "    f = featurizer(X[i, :X_len[i]])\n",
    "    f_len = tf.shape(f)[0]\n",
    "    return i + 1, features.write(i, f), features_len.write(i, f_len)\n",
    "\n",
    "_, features, features_len = tf.while_loop(condition, body, init_state)\n",
    "features_len = features_len.stack()\n",
    "padded_features = tf.TensorArray(dtype = tf.float32, size = batch_size)\n",
    "padded_lens = tf.TensorArray(dtype = tf.int32, size = batch_size)\n",
    "maxlen = tf.reduce_max(features_len)\n",
    "\n",
    "init_state = (0, padded_features, padded_lens)\n",
    "\n",
    "def condition(i, padded_features, padded_lens):\n",
    "    return i < batch_size\n",
    "\n",
    "def body(i, padded_features, padded_lens):\n",
    "    f = features.read(i)\n",
    "    len_f = tf.shape(f)[0]\n",
    "    f = tf.pad(f, [[0, maxlen - tf.shape(f)[0]], [0,0]])\n",
    "    return i + 1, padded_features.write(i, f), padded_lens.write(i, len_f)\n",
    "\n",
    "_, padded_features, padded_lens = tf.while_loop(condition, body, init_state)\n",
    "padded_features = padded_features.stack()\n",
    "padded_lens = padded_lens.stack()\n",
    "padded_lens.set_shape((None,))\n",
    "padded_features.set_shape((None, None, 80))\n",
    "padded_features = tf.expand_dims(padded_features, -1)\n",
    "padded_features, padded_lens"
   ]
  },
  {
   "cell_type": "code",
   "execution_count": 4,
   "metadata": {},
   "outputs": [],
   "source": [
    "padded_features = tf.identity(padded_features, name = 'padded_features')\n",
    "padded_lens = tf.identity(padded_lens, name = 'padded_lens')"
   ]
  },
  {
   "cell_type": "code",
   "execution_count": 5,
   "metadata": {},
   "outputs": [],
   "source": [
    "config = malaya_speech.config.conformer_tiny_encoder_config\n",
    "conformer_model = conformer.Model(\n",
    "    kernel_regularizer=None, bias_regularizer=None, **config\n",
    ")"
   ]
  },
  {
   "cell_type": "code",
   "execution_count": 6,
   "metadata": {},
   "outputs": [
    {
     "name": "stdout",
     "output_type": "stream",
     "text": [
      "WARNING:tensorflow:From /home/husein/.local/lib/python3.6/site-packages/tensorflow_core/python/ops/resource_variable_ops.py:1630: calling BaseResourceVariable.__init__ (from tensorflow.python.ops.resource_variable_ops) with constraint is deprecated and will be removed in a future version.\n",
      "Instructions for updating:\n",
      "If using Keras pass *_constraint arguments to layers.\n"
     ]
    }
   ],
   "source": [
    "seq = conformer_model(padded_features)"
   ]
  },
  {
   "cell_type": "code",
   "execution_count": 7,
   "metadata": {},
   "outputs": [
    {
     "data": {
      "text/plain": [
       "<tf.Tensor 'dense/BiasAdd:0' shape=(?, 512) dtype=float32>"
      ]
     },
     "execution_count": 7,
     "metadata": {},
     "output_type": "execute_result"
    }
   ],
   "source": [
    "embedding_dim = 512\n",
    "first_token_tensor = tf.squeeze(seq[:, 0:1, :], axis=1)\n",
    "pooled_output = tf.keras.layers.Dense(embedding_dim, activation=None,\n",
    "                                   use_bias=True, trainable=True)(first_token_tensor)\n",
    "pooled_output"
   ]
  },
  {
   "cell_type": "code",
   "execution_count": 8,
   "metadata": {},
   "outputs": [
    {
     "data": {
      "text/plain": [
       "<tf.Tensor 'lambda/l2_normalize:0' shape=(?, 512) dtype=float32>"
      ]
     },
     "execution_count": 8,
     "metadata": {},
     "output_type": "execute_result"
    }
   ],
   "source": [
    "y = tf.keras.layers.Lambda(lambda x: tf.keras.backend.l2_normalize(x, 1))(pooled_output)\n",
    "y"
   ]
  },
  {
   "cell_type": "code",
   "execution_count": 9,
   "metadata": {},
   "outputs": [
    {
     "data": {
      "text/plain": [
       "<tf.Tensor 'logits:0' shape=(?, 512) dtype=float32>"
      ]
     },
     "execution_count": 9,
     "metadata": {},
     "output_type": "execute_result"
    }
   ],
   "source": [
    "y = tf.identity(y, name = 'logits')\n",
    "y"
   ]
  },
  {
   "cell_type": "code",
   "execution_count": 10,
   "metadata": {},
   "outputs": [],
   "source": [
    "sess = tf.Session()\n",
    "sess.run(tf.global_variables_initializer())"
   ]
  },
  {
   "cell_type": "code",
   "execution_count": 13,
   "metadata": {},
   "outputs": [
    {
     "name": "stdout",
     "output_type": "stream",
     "text": [
      "INFO:tensorflow:Restoring parameters from conformer-tiny-voxceleb/model.ckpt-1250002\n"
     ]
    }
   ],
   "source": [
    "var_list = tf.get_collection(tf.GraphKeys.GLOBAL_VARIABLES)\n",
    "saver = tf.train.Saver(var_list = var_list)\n",
    "saver.restore(sess, 'conformer-tiny-voxceleb/model.ckpt-1250002')"
   ]
  },
  {
   "cell_type": "code",
   "execution_count": 14,
   "metadata": {},
   "outputs": [],
   "source": [
    "f = '1.wav'\n",
    "y_, _ = malaya_speech.load(f)"
   ]
  },
  {
   "cell_type": "code",
   "execution_count": 15,
   "metadata": {},
   "outputs": [
    {
     "name": "stdout",
     "output_type": "stream",
     "text": [
      "CPU times: user 2.15 s, sys: 39.9 ms, total: 2.19 s\n",
      "Wall time: 2.02 s\n"
     ]
    },
    {
     "data": {
      "text/plain": [
       "array([ 0.03484458, -0.01998513, -0.00710905,  0.07466675, -0.02841696,\n",
       "       -0.00868465,  0.01289403, -0.0312736 ,  0.05596884,  0.00380661,\n",
       "        0.00341373,  0.0500209 , -0.02445722,  0.00545035,  0.01686173,\n",
       "        0.01573677,  0.05881055, -0.04549103,  0.04015015, -0.02866226,\n",
       "       -0.01152191, -0.03644461,  0.05127164, -0.02407388,  0.02928791,\n",
       "        0.00653268,  0.02991817, -0.00261496,  0.07868502, -0.06669214,\n",
       "       -0.05935227,  0.02547841, -0.08400825, -0.05166451,  0.10441592,\n",
       "        0.04643709, -0.09213266, -0.0584141 , -0.11615202,  0.03479329,\n",
       "       -0.0708966 , -0.0216461 ,  0.04703213, -0.01165836,  0.04350013,\n",
       "        0.07851542,  0.08677597,  0.05299966, -0.08006323,  0.02643891,\n",
       "       -0.00730029,  0.03158351, -0.01471287,  0.03444113, -0.04655893,\n",
       "       -0.00236137, -0.01712618,  0.0173832 ,  0.06266257, -0.02172057,\n",
       "       -0.00300325, -0.05793135, -0.03559558,  0.0459433 , -0.01044114,\n",
       "        0.04623517, -0.08776169,  0.00990042, -0.06199295, -0.06531385,\n",
       "       -0.00751317, -0.0035926 ,  0.00957626,  0.02586172,  0.0188748 ,\n",
       "       -0.08532549,  0.02911403,  0.00325101, -0.00997934, -0.03378351,\n",
       "       -0.01595372,  0.0040157 ,  0.00059089, -0.05343268,  0.06105908,\n",
       "       -0.06151745,  0.00165601, -0.0058936 ,  0.00363937, -0.03084115,\n",
       "       -0.01723477, -0.11842961, -0.01796757, -0.01948167,  0.01444847,\n",
       "        0.00235795, -0.02288656,  0.14499676,  0.00517356, -0.01561147,\n",
       "       -0.01831953,  0.00738828,  0.05625811, -0.06446797,  0.05928878,\n",
       "       -0.00254877,  0.0656467 ,  0.01638856, -0.06044301,  0.00385862,\n",
       "        0.03147992,  0.10771495, -0.03200719, -0.01097451,  0.02106811,\n",
       "        0.06511854,  0.0055551 , -0.04437319,  0.01710425,  0.01891246,\n",
       "        0.07626725,  0.01898073, -0.0042915 ,  0.04304885, -0.04814241,\n",
       "       -0.07659589, -0.03560949, -0.00735287,  0.02582099,  0.01126438,\n",
       "        0.06489322, -0.01352403,  0.05104555,  0.03394179, -0.02294532,\n",
       "       -0.01475505, -0.04032605,  0.01166228,  0.04708758,  0.03338592,\n",
       "       -0.01761237,  0.0254507 ,  0.01324359, -0.03211493, -0.03933953,\n",
       "       -0.02863667, -0.07942876,  0.03686268, -0.00402886,  0.05189673,\n",
       "       -0.04354437,  0.00828238, -0.02643075, -0.03979787,  0.02650181,\n",
       "        0.03556329,  0.0099743 , -0.06671673, -0.08617502,  0.0061669 ,\n",
       "       -0.04538377, -0.03770309,  0.02129777, -0.02635532,  0.00081367,\n",
       "        0.03376602,  0.06075327,  0.03738638,  0.0247225 , -0.0718267 ,\n",
       "       -0.05604409, -0.03117863,  0.03254354,  0.08339736, -0.07053384,\n",
       "       -0.0481376 , -0.0619738 ,  0.00531783, -0.00274486,  0.00517494,\n",
       "       -0.04781296,  0.0589754 ,  0.05148851,  0.01169317,  0.0559379 ,\n",
       "        0.07525152,  0.0184796 , -0.06129677,  0.03204347, -0.00055827,\n",
       "        0.01089969, -0.04295107,  0.00181949,  0.09831545, -0.0142799 ,\n",
       "       -0.00243212, -0.04285354, -0.03756043,  0.04414783, -0.02864347,\n",
       "       -0.07261235,  0.01852655,  0.02386555, -0.03298658, -0.04246879,\n",
       "       -0.05640786, -0.04588922, -0.06782304, -0.03647913,  0.0361985 ,\n",
       "       -0.02437938, -0.00585396,  0.06751234, -0.00492995,  0.03975298,\n",
       "        0.0092887 , -0.04854487, -0.0287968 , -0.09443449,  0.04709592,\n",
       "        0.00562117, -0.06662868, -0.03049336, -0.04323259,  0.037682  ,\n",
       "        0.05915374,  0.07996547, -0.01306733,  0.01696965,  0.05107192,\n",
       "        0.03916851,  0.05598962, -0.02211309,  0.0071748 , -0.01640941,\n",
       "       -0.01261057,  0.00682911, -0.00366794, -0.06157288,  0.00194581,\n",
       "        0.02084288, -0.04865356, -0.07253306, -0.02588118,  0.0207902 ,\n",
       "       -0.01980216,  0.06373244,  0.04802743, -0.02272902,  0.00248664,\n",
       "       -0.01581183,  0.02116921, -0.01058262,  0.0325078 , -0.04610788,\n",
       "        0.06183331, -0.00535341, -0.02066966,  0.02255612,  0.0405465 ,\n",
       "       -0.09694185,  0.01316152, -0.03687622,  0.01456635,  0.06403285,\n",
       "       -0.029891  , -0.12878098, -0.0765516 ,  0.05134949,  0.0274237 ,\n",
       "        0.01942763, -0.07239045, -0.00765881, -0.07347133, -0.00375424,\n",
       "       -0.00499227,  0.01922067, -0.02401923,  0.02944257,  0.01721974,\n",
       "       -0.01695856,  0.05298912,  0.03935888, -0.02411269,  0.01835328,\n",
       "       -0.01362114, -0.04869832, -0.01036465,  0.01471225, -0.07637726,\n",
       "       -0.06101147, -0.05569059, -0.08055031,  0.05492907, -0.03162063,\n",
       "       -0.00689248,  0.02757992, -0.06024921, -0.0040832 ,  0.00608495,\n",
       "       -0.02709107, -0.03428487, -0.04573381,  0.04579583, -0.00687306,\n",
       "       -0.01540771,  0.1261198 ,  0.03845137, -0.04516102,  0.05194771,\n",
       "       -0.01413206,  0.02599329,  0.11587691,  0.04551822,  0.0213044 ,\n",
       "        0.04130036,  0.03688878,  0.05707311,  0.02770758,  0.0192293 ,\n",
       "       -0.03341509, -0.05900342,  0.0550777 ,  0.02670026,  0.00911657,\n",
       "        0.01055033,  0.0261315 , -0.01614748, -0.00248574, -0.03189277,\n",
       "       -0.0661969 ,  0.02789088,  0.00897129, -0.01247178,  0.01632494,\n",
       "        0.0260746 ,  0.03698451, -0.04705972, -0.0033865 ,  0.08651269,\n",
       "        0.03313074,  0.01419564,  0.05015427, -0.04988389, -0.03336887,\n",
       "        0.05443   , -0.0592548 , -0.06373717,  0.01957969,  0.0130638 ,\n",
       "       -0.02044821, -0.07370152,  0.0543595 , -0.03669494,  0.02739436,\n",
       "        0.00527792, -0.07279092, -0.09784946,  0.00127629,  0.0783383 ,\n",
       "       -0.01794872, -0.05663611, -0.03330429, -0.03632095,  0.03619185,\n",
       "        0.01464411,  0.06865043, -0.08848308,  0.02534476, -0.05124022,\n",
       "       -0.02339431,  0.00064358, -0.03986385,  0.01502915,  0.06951784,\n",
       "        0.03148206, -0.06436596,  0.05413677, -0.0444629 , -0.02127721,\n",
       "       -0.03244031, -0.01090686,  0.04091161, -0.03105502, -0.04220249,\n",
       "       -0.04660912, -0.06155539, -0.00107742, -0.01435242,  0.01526155,\n",
       "       -0.03352467,  0.02607354,  0.05106749, -0.03414977, -0.04465835,\n",
       "        0.07977536, -0.02263037, -0.04812408, -0.022146  , -0.00322897,\n",
       "       -0.01569107, -0.05462796,  0.02144153,  0.06570967, -0.04243111,\n",
       "        0.0389099 , -0.02955035, -0.01001992,  0.06977702,  0.01248535,\n",
       "       -0.07655571, -0.03277842,  0.0331258 , -0.06537455,  0.02385867,\n",
       "        0.00423254, -0.05679108, -0.01462643, -0.00613002,  0.03865867,\n",
       "        0.01114311, -0.07537554,  0.00755527, -0.07144797, -0.00082831,\n",
       "       -0.00222607, -0.00896804,  0.00082822,  0.00927897,  0.03510088,\n",
       "        0.02579159,  0.00417813,  0.03344599, -0.0256651 , -0.07721915,\n",
       "        0.00123952, -0.07314427,  0.03102945, -0.03495035, -0.04546203,\n",
       "        0.01854102,  0.0723348 ,  0.00815272, -0.01528787,  0.01921383,\n",
       "        0.07375498, -0.09573147, -0.0490596 ,  0.03724323,  0.01202984,\n",
       "        0.01397401, -0.0129241 , -0.04562944, -0.00257616,  0.01347048,\n",
       "       -0.03421095,  0.09069487,  0.05517162, -0.0463208 , -0.03117888,\n",
       "       -0.01583237, -0.01200951, -0.09670544, -0.0651741 , -0.05457477,\n",
       "       -0.01808626, -0.0040013 , -0.02262217,  0.0324184 ,  0.0098752 ,\n",
       "       -0.06326915,  0.0473613 , -0.08855992,  0.00711818, -0.00554017,\n",
       "       -0.00769506, -0.03801022, -0.0173238 , -0.00919962, -0.07457138,\n",
       "        0.029971  ,  0.03416544,  0.04352773,  0.02152026, -0.02485069,\n",
       "       -0.01433229, -0.04706957,  0.05538733, -0.00203615, -0.04401769,\n",
       "       -0.01137543,  0.05782626,  0.05136226, -0.04389442,  0.02168892,\n",
       "        0.03761368, -0.01724997, -0.01662222,  0.05946836, -0.03185051,\n",
       "       -0.03185498, -0.02251117,  0.00813666,  0.0633471 , -0.00679593,\n",
       "       -0.04703486, -0.07012457, -0.02987996, -0.05220229, -0.06251448,\n",
       "       -0.00522046,  0.03617217], dtype=float32)"
      ]
     },
     "execution_count": 15,
     "metadata": {},
     "output_type": "execute_result"
    }
   ],
   "source": [
    "%%time\n",
    "\n",
    "sess.run(y, feed_dict = {X: [y_], X_len: [len(y_)]})[0]"
   ]
  },
  {
   "cell_type": "code",
   "execution_count": 16,
   "metadata": {},
   "outputs": [
    {
     "data": {
      "text/plain": [
       "'output-conformer-tiny/model.ckpt'"
      ]
     },
     "execution_count": 16,
     "metadata": {},
     "output_type": "execute_result"
    }
   ],
   "source": [
    "saver = tf.train.Saver()\n",
    "saver.save(sess, 'output-conformer-tiny/model.ckpt')"
   ]
  },
  {
   "cell_type": "code",
   "execution_count": 17,
   "metadata": {},
   "outputs": [
    {
     "data": {
      "text/plain": [
       "['X_placeholder', 'X_len_placeholder', 'logits']"
      ]
     },
     "execution_count": 17,
     "metadata": {},
     "output_type": "execute_result"
    }
   ],
   "source": [
    "strings = ','.join(\n",
    "    [\n",
    "        n.name\n",
    "        for n in tf.get_default_graph().as_graph_def().node\n",
    "        if ('Variable' in n.op\n",
    "        or 'gather' in n.op.lower()\n",
    "        or 'placeholder' in n.name\n",
    "        or 'logits' in n.name)\n",
    "        and 'adam' not in n.name\n",
    "        and 'global_step' not in n.name\n",
    "        and 'Assign' not in n.name\n",
    "        and 'ReadVariableOp' not in n.name\n",
    "        and 'Gather' not in n.name\n",
    "    ]\n",
    ")\n",
    "strings.split(',')"
   ]
  },
  {
   "cell_type": "code",
   "execution_count": 18,
   "metadata": {},
   "outputs": [],
   "source": [
    "def freeze_graph(model_dir, output_node_names):\n",
    "\n",
    "    if not tf.gfile.Exists(model_dir):\n",
    "        raise AssertionError(\n",
    "            \"Export directory doesn't exists. Please specify an export \"\n",
    "            'directory: %s' % model_dir\n",
    "        )\n",
    "\n",
    "    checkpoint = tf.train.get_checkpoint_state(model_dir)\n",
    "    input_checkpoint = checkpoint.model_checkpoint_path\n",
    "\n",
    "    absolute_model_dir = '/'.join(input_checkpoint.split('/')[:-1])\n",
    "    output_graph = absolute_model_dir + '/frozen_model.pb'\n",
    "    clear_devices = True\n",
    "    with tf.Session(graph = tf.Graph()) as sess:\n",
    "        saver = tf.train.import_meta_graph(\n",
    "            input_checkpoint + '.meta', clear_devices = clear_devices\n",
    "        )\n",
    "        saver.restore(sess, input_checkpoint)\n",
    "        output_graph_def = tf.graph_util.convert_variables_to_constants(\n",
    "            sess,\n",
    "            tf.get_default_graph().as_graph_def(),\n",
    "            output_node_names.split(','),\n",
    "        )\n",
    "        with tf.gfile.GFile(output_graph, 'wb') as f:\n",
    "            f.write(output_graph_def.SerializeToString())\n",
    "        print('%d ops in the final graph.' % len(output_graph_def.node))"
   ]
  },
  {
   "cell_type": "code",
   "execution_count": 19,
   "metadata": {},
   "outputs": [
    {
     "name": "stdout",
     "output_type": "stream",
     "text": [
      "INFO:tensorflow:Restoring parameters from output-conformer-tiny/model.ckpt\n",
      "WARNING:tensorflow:From <ipython-input-18-9a7215a4e58a>:23: convert_variables_to_constants (from tensorflow.python.framework.graph_util_impl) is deprecated and will be removed in a future version.\n",
      "Instructions for updating:\n",
      "Use `tf.compat.v1.graph_util.convert_variables_to_constants`\n",
      "WARNING:tensorflow:From /home/husein/.local/lib/python3.6/site-packages/tensorflow_core/python/framework/graph_util_impl.py:277: extract_sub_graph (from tensorflow.python.framework.graph_util_impl) is deprecated and will be removed in a future version.\n",
      "Instructions for updating:\n",
      "Use `tf.compat.v1.graph_util.extract_sub_graph`\n",
      "INFO:tensorflow:Froze 296 variables.\n",
      "INFO:tensorflow:Converted 296 variables to const ops.\n",
      "5056 ops in the final graph.\n"
     ]
    }
   ],
   "source": [
    "freeze_graph('output-conformer-tiny', strings)"
   ]
  },
  {
   "cell_type": "code",
   "execution_count": 20,
   "metadata": {},
   "outputs": [],
   "source": [
    "def load_graph(frozen_graph_filename):\n",
    "    with tf.gfile.GFile(frozen_graph_filename, 'rb') as f:\n",
    "        graph_def = tf.GraphDef()\n",
    "        graph_def.ParseFromString(f.read())\n",
    "                \n",
    "    with tf.Graph().as_default() as graph:\n",
    "        tf.import_graph_def(graph_def)\n",
    "        \n",
    "    return graph"
   ]
  },
  {
   "cell_type": "code",
   "execution_count": 21,
   "metadata": {},
   "outputs": [],
   "source": [
    "g = load_graph('output-conformer-tiny/frozen_model.pb')"
   ]
  },
  {
   "cell_type": "code",
   "execution_count": 22,
   "metadata": {},
   "outputs": [],
   "source": [
    "input_nodes = [\n",
    "    'X_placeholder',\n",
    "    'X_len_placeholder',\n",
    "]\n",
    "output_nodes = [\n",
    "    'logits'\n",
    "]\n",
    "inputs = {n: g.get_tensor_by_name(f'import/{n}:0') for n in input_nodes}\n",
    "outputs = {n: g.get_tensor_by_name(f'import/{n}:0') for n in output_nodes}"
   ]
  },
  {
   "cell_type": "code",
   "execution_count": 23,
   "metadata": {},
   "outputs": [],
   "source": [
    "test_sess = tf.Session(graph = g)"
   ]
  },
  {
   "cell_type": "code",
   "execution_count": 24,
   "metadata": {},
   "outputs": [
    {
     "data": {
      "text/plain": [
       "array([[ 0.0348338 , -0.01990655, -0.00705371,  0.074632  , -0.02843177,\n",
       "        -0.00884296,  0.01292641, -0.03096639,  0.05625195,  0.00367646,\n",
       "         0.00350613,  0.04992089, -0.02470116,  0.00547091,  0.0167574 ,\n",
       "         0.01596049,  0.05897055, -0.04543317,  0.04011566, -0.02861482,\n",
       "        -0.01147247, -0.03657398,  0.05145307, -0.02401252,  0.0293633 ,\n",
       "         0.00651208,  0.02995388, -0.00277792,  0.07844449, -0.06677869,\n",
       "        -0.0593472 ,  0.02557779, -0.08402275, -0.05179776,  0.1044316 ,\n",
       "         0.04645899, -0.09193722, -0.05837262, -0.11606829,  0.03469423,\n",
       "        -0.07100603, -0.02180051,  0.04694816, -0.0117168 ,  0.04367796,\n",
       "         0.07852592,  0.0868068 ,  0.05292723, -0.0802034 ,  0.02657255,\n",
       "        -0.00730873,  0.03148327, -0.01475812,  0.03437043, -0.04651646,\n",
       "        -0.00243126, -0.0169327 ,  0.01729014,  0.0628133 , -0.02188044,\n",
       "        -0.00301995, -0.05804709, -0.03552859,  0.0458205 , -0.01032988,\n",
       "         0.04621391, -0.08759291,  0.00990863, -0.0619289 , -0.06529205,\n",
       "        -0.00735972, -0.00351473,  0.00972098,  0.02585656,  0.01893007,\n",
       "        -0.08540741,  0.02910199,  0.0033474 , -0.01000405, -0.03370503,\n",
       "        -0.01580765,  0.00382926,  0.00053498, -0.05359489,  0.06126603,\n",
       "        -0.06143708,  0.00176071, -0.00573823,  0.00347007, -0.03073705,\n",
       "        -0.01749998, -0.11833752, -0.01784491, -0.01943993,  0.01432806,\n",
       "         0.00228786, -0.02285053,  0.14491989,  0.00514891, -0.01574047,\n",
       "        -0.01840016,  0.00757591,  0.05637304, -0.06448986,  0.05914928,\n",
       "        -0.00229695,  0.06548232,  0.01625841, -0.06030019,  0.00376535,\n",
       "         0.03150792,  0.10755102, -0.03193742, -0.01098589,  0.02096831,\n",
       "         0.06502768,  0.00544087, -0.04449849,  0.01724386,  0.01895893,\n",
       "         0.07635722,  0.01870377, -0.00429902,  0.04316903, -0.04813064,\n",
       "        -0.07667524, -0.03550674, -0.00747931,  0.0257204 ,  0.01116698,\n",
       "         0.06486048, -0.01327043,  0.05133905,  0.03409079, -0.02302643,\n",
       "        -0.01484674, -0.04043682,  0.01165291,  0.04720379,  0.03324153,\n",
       "        -0.01753549,  0.0254423 ,  0.01312714, -0.03194626, -0.03937557,\n",
       "        -0.02885173, -0.07948782,  0.03682722, -0.00397601,  0.05188522,\n",
       "        -0.04335885,  0.00822727, -0.02651227, -0.03977053,  0.02656844,\n",
       "         0.03549458,  0.01011015, -0.06687409, -0.08614907,  0.00618211,\n",
       "        -0.04560153, -0.03770836,  0.02150624, -0.02620603,  0.00068155,\n",
       "         0.033808  ,  0.06082067,  0.03725623,  0.02453739, -0.07196932,\n",
       "        -0.05601129, -0.03120112,  0.03276642,  0.08326855, -0.07062884,\n",
       "        -0.04823996, -0.06188736,  0.00509731, -0.0026183 ,  0.00506015,\n",
       "        -0.04772186,  0.0588866 ,  0.05127515,  0.01154985,  0.05605577,\n",
       "         0.07515699,  0.01855476, -0.06116703,  0.03223338, -0.0005347 ,\n",
       "         0.0108958 , -0.04307614,  0.00196582,  0.0985398 , -0.01435646,\n",
       "        -0.00235722, -0.04277361, -0.0376479 ,  0.04421059, -0.02845535,\n",
       "        -0.07254567,  0.01841609,  0.0239437 , -0.03301339, -0.04239147,\n",
       "        -0.05671   , -0.04585228, -0.06792206, -0.03634177,  0.03614614,\n",
       "        -0.02438855, -0.00604002,  0.06762873, -0.00480379,  0.03991947,\n",
       "         0.00928255, -0.04860232, -0.02902993, -0.09459923,  0.04703227,\n",
       "         0.00541088, -0.06653038, -0.03048266, -0.04336566,  0.03787   ,\n",
       "         0.05903476,  0.08005752, -0.01319694,  0.01708096,  0.05098359,\n",
       "         0.03909336,  0.05604079, -0.02206206,  0.00715603, -0.01624227,\n",
       "        -0.0125946 ,  0.00692889, -0.00365191, -0.06157324,  0.00197546,\n",
       "         0.02078472, -0.04886422, -0.07250652, -0.02554572,  0.02092567,\n",
       "        -0.01971807,  0.0637584 ,  0.04824932, -0.02291415,  0.00237727,\n",
       "        -0.01595157,  0.02125989, -0.01065576,  0.03256356, -0.04606969,\n",
       "         0.06192246, -0.00540806, -0.02073113,  0.02258965,  0.04031194,\n",
       "        -0.09691388,  0.01305287, -0.03693152,  0.01455488,  0.06401701,\n",
       "        -0.03010052, -0.12884475, -0.076613  ,  0.05136696,  0.02741014,\n",
       "         0.01950051, -0.07235193, -0.00752818, -0.07337718, -0.00390911,\n",
       "        -0.00502795,  0.0190837 , -0.02421419,  0.02940529,  0.01718445,\n",
       "        -0.0170039 ,  0.05294365,  0.03923453, -0.02404714,  0.01843007,\n",
       "        -0.01347614, -0.04874291, -0.01020398,  0.01470758, -0.07648046,\n",
       "        -0.06082707, -0.05568522, -0.08066133,  0.05455688, -0.03188896,\n",
       "        -0.0067034 ,  0.02755934, -0.06018814, -0.00401516,  0.00610366,\n",
       "        -0.02701447, -0.03447153, -0.04557489,  0.04595082, -0.00703724,\n",
       "        -0.01523902,  0.126199  ,  0.03852936, -0.04494553,  0.05178994,\n",
       "        -0.01398082,  0.02593207,  0.11581469,  0.04519688,  0.02134289,\n",
       "         0.0412806 ,  0.03693012,  0.0569531 ,  0.02788237,  0.01937122,\n",
       "        -0.0336863 , -0.05898439,  0.05514222,  0.02671862,  0.00912987,\n",
       "         0.01065047,  0.02627631, -0.0159534 , -0.00245325, -0.0319777 ,\n",
       "        -0.06633131,  0.02796957,  0.00909855, -0.0123988 ,  0.01635181,\n",
       "         0.02610736,  0.03690353, -0.04692806, -0.00342173,  0.0865123 ,\n",
       "         0.03329534,  0.01426327,  0.05019299, -0.04996635, -0.03342776,\n",
       "         0.05431052, -0.05952886, -0.06372429,  0.01957034,  0.01294258,\n",
       "        -0.02060606, -0.07383732,  0.05415025, -0.03675588,  0.02730611,\n",
       "         0.00541244, -0.07291096, -0.09789174,  0.00142995,  0.0781128 ,\n",
       "        -0.01773334, -0.05678815, -0.03332007, -0.03631378,  0.03616968,\n",
       "         0.0144885 ,  0.06874705, -0.08855359,  0.02537766, -0.05133739,\n",
       "        -0.02355522,  0.00050384, -0.03991864,  0.01507384,  0.06963196,\n",
       "         0.03159582, -0.06424791,  0.0541503 , -0.04452791, -0.02119869,\n",
       "        -0.03232554, -0.01090685,  0.04100396, -0.0310436 , -0.0421486 ,\n",
       "        -0.04645886, -0.06147252, -0.00098479, -0.01420459,  0.01512112,\n",
       "        -0.03352665,  0.02595441,  0.05086327, -0.03419827, -0.04467755,\n",
       "         0.07966792, -0.02278441, -0.04823979, -0.02202036, -0.00338915,\n",
       "        -0.01563907, -0.05456197,  0.02141314,  0.06577918, -0.04253263,\n",
       "         0.0389441 , -0.02956971, -0.00996836,  0.06978982,  0.01252148,\n",
       "        -0.07652343, -0.03267337,  0.03334664, -0.06519308,  0.02369961,\n",
       "         0.00412371, -0.05675213, -0.01479823, -0.0061052 ,  0.03873042,\n",
       "         0.01117505, -0.07524662,  0.00762932, -0.07154354, -0.00090786,\n",
       "        -0.00219025, -0.00889057,  0.00058563,  0.00928463,  0.03515996,\n",
       "         0.02573534,  0.0042164 ,  0.03332471, -0.02577282, -0.0772422 ,\n",
       "         0.00115076, -0.07309292,  0.03116847, -0.0347374 , -0.04549584,\n",
       "         0.01864408,  0.07228447,  0.00823628, -0.01515709,  0.01926422,\n",
       "         0.07375206, -0.09587655, -0.04922013,  0.03714743,  0.01177225,\n",
       "         0.01393708, -0.01294835, -0.04544846, -0.00247652,  0.01336421,\n",
       "        -0.03423007,  0.09062248,  0.05529127, -0.04621844, -0.03098769,\n",
       "        -0.01571485, -0.01173757, -0.09670349, -0.0651223 , -0.0543805 ,\n",
       "        -0.01820034, -0.00418651, -0.02248637,  0.03250906,  0.00998163,\n",
       "        -0.0633117 ,  0.04764241, -0.08863812,  0.00720852, -0.00562163,\n",
       "        -0.00768203, -0.0378254 , -0.01732324, -0.00903259, -0.07440595,\n",
       "         0.02976349,  0.03394714,  0.04332984,  0.02157102, -0.02489536,\n",
       "        -0.01421849, -0.04708824,  0.05547302, -0.00209268, -0.04411236,\n",
       "        -0.01149159,  0.05764467,  0.0514445 , -0.04380608,  0.02151618,\n",
       "         0.03759831, -0.01727383, -0.0165865 ,  0.05943664, -0.03192249,\n",
       "        -0.03165144, -0.02243131,  0.00807645,  0.06313393, -0.00679034,\n",
       "        -0.04724641, -0.06989494, -0.02998701, -0.05219297, -0.06261744,\n",
       "        -0.00528306,  0.03618604]], dtype=float32)"
      ]
     },
     "execution_count": 24,
     "metadata": {},
     "output_type": "execute_result"
    }
   ],
   "source": [
    "test_sess.run(outputs['logits'], feed_dict = {inputs['X_placeholder']: [y_], \n",
    "                                                          inputs['X_len_placeholder']: [len(y_)]})"
   ]
  },
  {
   "cell_type": "code",
   "execution_count": 25,
   "metadata": {},
   "outputs": [],
   "source": [
    "from tensorflow.tools.graph_transforms import TransformGraph"
   ]
  },
  {
   "cell_type": "code",
   "execution_count": 26,
   "metadata": {},
   "outputs": [
    {
     "name": "stdout",
     "output_type": "stream",
     "text": [
      "WARNING:tensorflow:From <ipython-input-26-818c3292fe1a>:20: FastGFile.__init__ (from tensorflow.python.platform.gfile) is deprecated and will be removed in a future version.\n",
      "Instructions for updating:\n",
      "Use tf.gfile.GFile.\n"
     ]
    }
   ],
   "source": [
    "transforms = ['add_default_attributes',\n",
    "             'remove_nodes(op=Identity, op=CheckNumerics, op=Dropout)',\n",
    "             'fold_batch_norms',\n",
    "             'fold_old_batch_norms',\n",
    "             'quantize_weights(fallback_min=-10, fallback_max=10)',\n",
    "             'strip_unused_nodes',\n",
    "             'sort_by_execution_order']\n",
    "\n",
    "input_nodes = [\n",
    "    'X_placeholder',\n",
    "    'X_len_placeholder',\n",
    "]\n",
    "output_nodes = [\n",
    "    'logits'\n",
    "]\n",
    "\n",
    "pb = 'output-conformer-tiny/frozen_model.pb'\n",
    "\n",
    "input_graph_def = tf.GraphDef()\n",
    "with tf.gfile.FastGFile(pb, 'rb') as f:\n",
    "    input_graph_def.ParseFromString(f.read())\n",
    "\n",
    "transformed_graph_def = TransformGraph(input_graph_def, \n",
    "                                           input_nodes,\n",
    "                                           output_nodes, transforms)\n",
    "    \n",
    "with tf.gfile.GFile(f'{pb}.quantized', 'wb') as f:\n",
    "    f.write(transformed_graph_def.SerializeToString())"
   ]
  },
  {
   "cell_type": "code",
   "execution_count": 27,
   "metadata": {},
   "outputs": [],
   "source": [
    "b2_application_key_id = os.environ['b2_application_key_id']\n",
    "b2_application_key = os.environ['b2_application_key']"
   ]
  },
  {
   "cell_type": "code",
   "execution_count": 28,
   "metadata": {},
   "outputs": [],
   "source": [
    "from b2sdk.v1 import *\n",
    "info = InMemoryAccountInfo()\n",
    "b2_api = B2Api(info)\n",
    "application_key_id = b2_application_key_id\n",
    "application_key = b2_application_key\n",
    "b2_api.authorize_account(\"production\", application_key_id, application_key)\n",
    "file_info = {'how': 'good-file'}\n",
    "b2_bucket = b2_api.get_bucket_by_name('malaya-speech-model')"
   ]
  },
  {
   "cell_type": "code",
   "execution_count": 29,
   "metadata": {},
   "outputs": [],
   "source": [
    "!tar -cf output-conformer-tiny.tar output-conformer-tiny"
   ]
  },
  {
   "cell_type": "code",
   "execution_count": 30,
   "metadata": {},
   "outputs": [
    {
     "data": {
      "text/plain": [
       "<b2sdk.file_version.FileVersionInfo at 0x7efc386cfb38>"
      ]
     },
     "execution_count": 30,
     "metadata": {},
     "output_type": "execute_result"
    }
   ],
   "source": [
    "file = 'output-conformer-tiny.tar'\n",
    "outPutname = 'pretrained/output-conformer-tiny-speaker-embedding.tar'\n",
    "b2_bucket.upload_local_file(\n",
    "    local_file=file,\n",
    "    file_name=outPutname,\n",
    "    file_infos=file_info,\n",
    ")"
   ]
  },
  {
   "cell_type": "code",
   "execution_count": 31,
   "metadata": {},
   "outputs": [
    {
     "data": {
      "text/plain": [
       "<b2sdk.file_version.FileVersionInfo at 0x7efc387156a0>"
      ]
     },
     "execution_count": 31,
     "metadata": {},
     "output_type": "execute_result"
    }
   ],
   "source": [
    "file = 'output-conformer-tiny/frozen_model.pb'\n",
    "outPutname = 'speaker-vector/conformer-tiny/model.pb'\n",
    "b2_bucket.upload_local_file(\n",
    "    local_file=file,\n",
    "    file_name=outPutname,\n",
    "    file_infos=file_info,\n",
    ")\n"
   ]
  },
  {
   "cell_type": "code",
   "execution_count": 32,
   "metadata": {},
   "outputs": [
    {
     "data": {
      "text/plain": [
       "<b2sdk.file_version.FileVersionInfo at 0x7efc70281668>"
      ]
     },
     "execution_count": 32,
     "metadata": {},
     "output_type": "execute_result"
    }
   ],
   "source": [
    "file = 'output-conformer-tiny/frozen_model.pb.quantized'\n",
    "outPutname = 'speaker-vector/conformer-tiny-quantized/model.pb'\n",
    "b2_bucket.upload_local_file(\n",
    "    local_file=file,\n",
    "    file_name=outPutname,\n",
    "    file_infos=file_info,\n",
    ")\n"
   ]
  },
  {
   "cell_type": "code",
   "execution_count": 33,
   "metadata": {},
   "outputs": [],
   "source": [
    "from malaya_boilerplate.huggingface import upload_dict"
   ]
  },
  {
   "cell_type": "code",
   "execution_count": 34,
   "metadata": {},
   "outputs": [
    {
     "name": "stderr",
     "output_type": "stream",
     "text": [
      "409 Client Error: Conflict for url: https://huggingface.co/api/repos/create - You already created this model repo\n"
     ]
    }
   ],
   "source": [
    "files_mapping = {'output-conformer-tiny.tar': 'output-conformer-tiny.tar'}\n",
    "upload_dict(model = 'pretrained-speaker-embedding', files_mapping = files_mapping)"
   ]
  },
  {
   "cell_type": "code",
   "execution_count": null,
   "metadata": {},
   "outputs": [],
   "source": [
    "files_mapping = {'output-conformer-tiny/frozen_model.pb': 'model.pb'}\n",
    "upload_dict(model = 'speaker-vector-conformer-tiny', files_mapping = files_mapping)"
   ]
  },
  {
   "cell_type": "code",
   "execution_count": null,
   "metadata": {},
   "outputs": [],
   "source": [
    "files_mapping = {'output-conformer-tiny/frozen_model.pb.quantized': 'model.pb'}\n",
    "upload_dict(model = 'speaker-vector-conformer-tiny-quantized', files_mapping = files_mapping)"
   ]
  }
 ],
 "metadata": {
  "kernelspec": {
   "display_name": "Python 3",
   "language": "python",
   "name": "python3"
  },
  "language_info": {
   "codemirror_mode": {
    "name": "ipython",
    "version": 3
   },
   "file_extension": ".py",
   "mimetype": "text/x-python",
   "name": "python",
   "nbconvert_exporter": "python",
   "pygments_lexer": "ipython3",
   "version": "3.6.9"
  }
 },
 "nbformat": 4,
 "nbformat_minor": 2
}

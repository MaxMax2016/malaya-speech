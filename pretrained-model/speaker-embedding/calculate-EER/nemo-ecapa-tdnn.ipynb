{
 "cells": [
  {
   "cell_type": "code",
   "execution_count": 1,
   "metadata": {},
   "outputs": [],
   "source": [
    "# !wget https://f000.backblazeb2.com/file/malay-dataset/voxceleb/voxceleb2-test-sample.json\n",
    "# !wget https://f000.backblazeb2.com/file/malay-dataset/voxceleb/voxceleb2-test-labels.pkl\n",
    "# !wget https://f000.backblazeb2.com/file/malay-dataset/voxceleb/voxceleb2-test-wav.tar"
   ]
  },
  {
   "cell_type": "code",
   "execution_count": 2,
   "metadata": {},
   "outputs": [],
   "source": [
    "import os\n",
    "\n",
    "os.environ['CUDA_VISIBLE_DEVICES'] = '1'"
   ]
  },
  {
   "cell_type": "code",
   "execution_count": 3,
   "metadata": {},
   "outputs": [
    {
     "name": "stderr",
     "output_type": "stream",
     "text": [
      "`pyaudio` is not available, `malaya_speech.streaming.stream` is not able to use.\n"
     ]
    },
    {
     "data": {
      "text/plain": [
       "<module 'malaya_speech' from '/home/husein/dev/malaya-speech/malaya_speech/__init__.py'>"
      ]
     },
     "execution_count": 3,
     "metadata": {},
     "output_type": "execute_result"
    }
   ],
   "source": [
    "import malaya_speech\n",
    "malaya_speech"
   ]
  },
  {
   "cell_type": "code",
   "execution_count": 4,
   "metadata": {},
   "outputs": [],
   "source": [
    "model = malaya_speech.speaker_vector.nemo('huseinzol05/nemo-ecapa-tdnn')"
   ]
  },
  {
   "cell_type": "code",
   "execution_count": 5,
   "metadata": {},
   "outputs": [
    {
     "data": {
      "text/plain": [
       "Model(\n",
       "  (preprocessor): AudioToMelSpectrogramPreprocessor(\n",
       "    (featurizer): FilterbankFeatures()\n",
       "  )\n",
       "  (encoder): ECAPAEncoder(\n",
       "    (layers): ModuleList(\n",
       "      (0): TDNNModule(\n",
       "        (conv_layer): Conv1d(80, 1024, kernel_size=(5,), stride=(1,), padding=(2,))\n",
       "        (activation): ReLU()\n",
       "        (bn): BatchNorm1d(1024, eps=1e-05, momentum=0.1, affine=True, track_running_stats=True)\n",
       "      )\n",
       "      (1): TDNNSEModule(\n",
       "        (group_tdnn_block): Sequential(\n",
       "          (0): TDNNModule(\n",
       "            (conv_layer): Conv1d(1024, 1024, kernel_size=(1,), stride=(1,))\n",
       "            (activation): ReLU()\n",
       "            (bn): BatchNorm1d(1024, eps=1e-05, momentum=0.1, affine=True, track_running_stats=True)\n",
       "          )\n",
       "          (1): Conv1d(1024, 1024, kernel_size=(3,), stride=(1,), padding=(1,), groups=8)\n",
       "          (2): ReLU()\n",
       "          (3): BatchNorm1d(1024, eps=1e-05, momentum=0.1, affine=True, track_running_stats=True)\n",
       "          (4): TDNNModule(\n",
       "            (conv_layer): Conv1d(1024, 1024, kernel_size=(1,), stride=(1,))\n",
       "            (activation): ReLU()\n",
       "            (bn): BatchNorm1d(1024, eps=1e-05, momentum=0.1, affine=True, track_running_stats=True)\n",
       "          )\n",
       "        )\n",
       "        (se_layer): MaskedSEModule(\n",
       "          (se_layer): Sequential(\n",
       "            (0): Conv1d(1024, 128, kernel_size=(1,), stride=(1,))\n",
       "            (1): ReLU()\n",
       "            (2): BatchNorm1d(128, eps=1e-05, momentum=0.1, affine=True, track_running_stats=True)\n",
       "            (3): Conv1d(128, 1024, kernel_size=(1,), stride=(1,))\n",
       "            (4): Sigmoid()\n",
       "          )\n",
       "        )\n",
       "      )\n",
       "      (2): TDNNSEModule(\n",
       "        (group_tdnn_block): Sequential(\n",
       "          (0): TDNNModule(\n",
       "            (conv_layer): Conv1d(1024, 1024, kernel_size=(1,), stride=(1,))\n",
       "            (activation): ReLU()\n",
       "            (bn): BatchNorm1d(1024, eps=1e-05, momentum=0.1, affine=True, track_running_stats=True)\n",
       "          )\n",
       "          (1): Conv1d(1024, 1024, kernel_size=(3,), stride=(1,), padding=(1,), groups=8)\n",
       "          (2): ReLU()\n",
       "          (3): BatchNorm1d(1024, eps=1e-05, momentum=0.1, affine=True, track_running_stats=True)\n",
       "          (4): TDNNModule(\n",
       "            (conv_layer): Conv1d(1024, 1024, kernel_size=(1,), stride=(1,))\n",
       "            (activation): ReLU()\n",
       "            (bn): BatchNorm1d(1024, eps=1e-05, momentum=0.1, affine=True, track_running_stats=True)\n",
       "          )\n",
       "        )\n",
       "        (se_layer): MaskedSEModule(\n",
       "          (se_layer): Sequential(\n",
       "            (0): Conv1d(1024, 128, kernel_size=(1,), stride=(1,))\n",
       "            (1): ReLU()\n",
       "            (2): BatchNorm1d(128, eps=1e-05, momentum=0.1, affine=True, track_running_stats=True)\n",
       "            (3): Conv1d(128, 1024, kernel_size=(1,), stride=(1,))\n",
       "            (4): Sigmoid()\n",
       "          )\n",
       "        )\n",
       "      )\n",
       "      (3): TDNNSEModule(\n",
       "        (group_tdnn_block): Sequential(\n",
       "          (0): TDNNModule(\n",
       "            (conv_layer): Conv1d(1024, 1024, kernel_size=(1,), stride=(1,))\n",
       "            (activation): ReLU()\n",
       "            (bn): BatchNorm1d(1024, eps=1e-05, momentum=0.1, affine=True, track_running_stats=True)\n",
       "          )\n",
       "          (1): Conv1d(1024, 1024, kernel_size=(3,), stride=(1,), padding=(1,), groups=8)\n",
       "          (2): ReLU()\n",
       "          (3): BatchNorm1d(1024, eps=1e-05, momentum=0.1, affine=True, track_running_stats=True)\n",
       "          (4): TDNNModule(\n",
       "            (conv_layer): Conv1d(1024, 1024, kernel_size=(1,), stride=(1,))\n",
       "            (activation): ReLU()\n",
       "            (bn): BatchNorm1d(1024, eps=1e-05, momentum=0.1, affine=True, track_running_stats=True)\n",
       "          )\n",
       "        )\n",
       "        (se_layer): MaskedSEModule(\n",
       "          (se_layer): Sequential(\n",
       "            (0): Conv1d(1024, 128, kernel_size=(1,), stride=(1,))\n",
       "            (1): ReLU()\n",
       "            (2): BatchNorm1d(128, eps=1e-05, momentum=0.1, affine=True, track_running_stats=True)\n",
       "            (3): Conv1d(128, 1024, kernel_size=(1,), stride=(1,))\n",
       "            (4): Sigmoid()\n",
       "          )\n",
       "        )\n",
       "      )\n",
       "    )\n",
       "    (feature_agg): TDNNModule(\n",
       "      (conv_layer): Conv1d(3072, 3072, kernel_size=(1,), stride=(1,))\n",
       "      (activation): ReLU()\n",
       "      (bn): BatchNorm1d(3072, eps=1e-05, momentum=0.1, affine=True, track_running_stats=True)\n",
       "    )\n",
       "  )\n",
       "  (decoder): SpeakerDecoder(\n",
       "    (_pooling): AttentivePoolLayer(\n",
       "      (attention_layer): Sequential(\n",
       "        (0): TDNNModule(\n",
       "          (conv_layer): Conv1d(9216, 128, kernel_size=(1,), stride=(1,))\n",
       "          (activation): ReLU()\n",
       "          (bn): BatchNorm1d(128, eps=1e-05, momentum=0.1, affine=True, track_running_stats=True)\n",
       "        )\n",
       "        (1): Tanh()\n",
       "        (2): Conv1d(128, 3072, kernel_size=(1,), stride=(1,))\n",
       "      )\n",
       "    )\n",
       "    (emb_layers): ModuleList(\n",
       "      (0): Sequential(\n",
       "        (0): BatchNorm1d(6144, eps=1e-05, momentum=0.1, affine=True, track_running_stats=True)\n",
       "        (1): Conv1d(6144, 192, kernel_size=(1,), stride=(1,))\n",
       "      )\n",
       "    )\n",
       "    (final): Linear(in_features=192, out_features=16681, bias=False)\n",
       "  )\n",
       ")"
      ]
     },
     "execution_count": 5,
     "metadata": {},
     "output_type": "execute_result"
    }
   ],
   "source": [
    "model.eval()"
   ]
  },
  {
   "cell_type": "code",
   "execution_count": 6,
   "metadata": {},
   "outputs": [],
   "source": [
    "_ = model.cuda()"
   ]
  },
  {
   "cell_type": "code",
   "execution_count": 7,
   "metadata": {},
   "outputs": [],
   "source": [
    "import json\n",
    "import pickle\n",
    "from tqdm import tqdm"
   ]
  },
  {
   "cell_type": "code",
   "execution_count": 8,
   "metadata": {},
   "outputs": [],
   "source": [
    "with open('voxceleb2-test-sample.json') as fopen:\n",
    "    sample_files = json.load(fopen)"
   ]
  },
  {
   "cell_type": "code",
   "execution_count": 9,
   "metadata": {},
   "outputs": [],
   "source": [
    "with open('voxceleb2-test-labels.pkl', 'rb') as fopen:\n",
    "    labels = pickle.load(fopen)"
   ]
  },
  {
   "cell_type": "code",
   "execution_count": 10,
   "metadata": {},
   "outputs": [],
   "source": [
    "unique_files = []\n",
    "for l in labels:\n",
    "    unique_files.extend(l[1:])\n",
    "    \n",
    "unique_files = list(set(unique_files))"
   ]
  },
  {
   "cell_type": "code",
   "execution_count": 11,
   "metadata": {},
   "outputs": [
    {
     "data": {
      "text/plain": [
       "36237"
      ]
     },
     "execution_count": 11,
     "metadata": {},
     "output_type": "execute_result"
    }
   ],
   "source": [
    "len(unique_files)"
   ]
  },
  {
   "cell_type": "code",
   "execution_count": 12,
   "metadata": {},
   "outputs": [],
   "source": [
    "import torch\n",
    "import numpy as np"
   ]
  },
  {
   "cell_type": "code",
   "execution_count": 16,
   "metadata": {},
   "outputs": [
    {
     "name": "stderr",
     "output_type": "stream",
     "text": [
      "100%|█████████████████████████████████████| 36237/36237 [08:08<00:00, 74.11it/s]\n"
     ]
    }
   ],
   "source": [
    "vectors = {}\n",
    "for f in tqdm(unique_files):\n",
    "    y_, _ = malaya_speech.load(f.replace('/home/husein/youtube/', '/home/husein/'))\n",
    "    try:\n",
    "        v = model([y_])[0]\n",
    "        vectors[f] = v\n",
    "    except:\n",
    "        torch.cuda.empty_cache()"
   ]
  },
  {
   "cell_type": "code",
   "execution_count": 17,
   "metadata": {},
   "outputs": [
    {
     "name": "stderr",
     "output_type": "stream",
     "text": [
      "100%|█████████████████████████████| 5900000/5900000 [00:15<00:00, 374078.90it/s]\n"
     ]
    }
   ],
   "source": [
    "import numpy as np\n",
    "\n",
    "scores, ls = [], []\n",
    "\n",
    "for i in tqdm(range(len(labels))):\n",
    "    if labels[i][1] in vectors and labels[i][2] in vectors:\n",
    "        ls.append(labels[i][0])\n",
    "        scores.append(np.sum(vectors[labels[i][1]] * vectors[labels[i][2]]))"
   ]
  },
  {
   "cell_type": "code",
   "execution_count": 18,
   "metadata": {},
   "outputs": [
    {
     "data": {
      "text/plain": [
       "(5900000, 36237)"
      ]
     },
     "execution_count": 18,
     "metadata": {},
     "output_type": "execute_result"
    }
   ],
   "source": [
    "len(scores), len(vectors)"
   ]
  },
  {
   "cell_type": "code",
   "execution_count": 19,
   "metadata": {},
   "outputs": [],
   "source": [
    "def calculate_eer(y, y_score):\n",
    "    \n",
    "    from scipy.optimize import brentq\n",
    "    from sklearn.metrics import roc_curve\n",
    "    from scipy.interpolate import interp1d\n",
    "\n",
    "    fpr, tpr, thresholds = roc_curve(y, y_score, pos_label=1)\n",
    "    eer = brentq(lambda x : 1. - x - interp1d(fpr, tpr)(x), 0., 1.)\n",
    "    thresh = interp1d(fpr, thresholds)(eer)\n",
    "    return eer, thresh"
   ]
  },
  {
   "cell_type": "code",
   "execution_count": 20,
   "metadata": {},
   "outputs": [
    {
     "data": {
      "text/plain": [
       "(0.024920000000000775, array(0.03515405))"
      ]
     },
     "execution_count": 20,
     "metadata": {},
     "output_type": "execute_result"
    }
   ],
   "source": [
    "calculate_eer(ls, scores)"
   ]
  },
  {
   "cell_type": "code",
   "execution_count": 21,
   "metadata": {},
   "outputs": [
    {
     "data": {
      "text/plain": [
       "(192,)"
      ]
     },
     "execution_count": 21,
     "metadata": {},
     "output_type": "execute_result"
    }
   ],
   "source": [
    "v.shape"
   ]
  }
 ],
 "metadata": {
  "kernelspec": {
   "display_name": "Python 3 (ipykernel)",
   "language": "python",
   "name": "python3"
  },
  "language_info": {
   "codemirror_mode": {
    "name": "ipython",
    "version": 3
   },
   "file_extension": ".py",
   "mimetype": "text/x-python",
   "name": "python",
   "nbconvert_exporter": "python",
   "pygments_lexer": "ipython3",
   "version": "3.8.10"
  }
 },
 "nbformat": 4,
 "nbformat_minor": 4
}

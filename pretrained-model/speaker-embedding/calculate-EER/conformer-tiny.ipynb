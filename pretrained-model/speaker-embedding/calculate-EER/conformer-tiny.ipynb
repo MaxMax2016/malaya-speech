{
 "cells": [
  {
   "cell_type": "code",
   "execution_count": 1,
   "metadata": {},
   "outputs": [],
   "source": [
    "# !wget https://f000.backblazeb2.com/file/malay-dataset/voxceleb/voxceleb2-test-sample.json\n",
    "# !wget https://f000.backblazeb2.com/file/malay-dataset/voxceleb/voxceleb2-test-labels.pkl"
   ]
  },
  {
   "cell_type": "code",
   "execution_count": 2,
   "metadata": {},
   "outputs": [],
   "source": [
    "import os\n",
    "\n",
    "os.environ['CUDA_VISIBLE_DEVICES'] = ''\n",
    "os.environ['MALAYA_USE_HUGGINGFACE'] = 'true'"
   ]
  },
  {
   "cell_type": "code",
   "execution_count": 3,
   "metadata": {},
   "outputs": [],
   "source": [
    "import malaya_speech\n",
    "import json\n",
    "import pickle\n",
    "from tqdm import tqdm\n",
    "import tensorflow as tf\n",
    "import malaya_speech.train.model.conformer as conformer"
   ]
  },
  {
   "cell_type": "code",
   "execution_count": 4,
   "metadata": {},
   "outputs": [],
   "source": [
    "with open('/home/husein/youtube/voxceleb2-test-sample.json') as fopen:\n",
    "    sample_files = json.load(fopen)"
   ]
  },
  {
   "cell_type": "code",
   "execution_count": 5,
   "metadata": {},
   "outputs": [],
   "source": [
    "with open('/home/husein/youtube/voxceleb2-test-labels.pkl', 'rb') as fopen:\n",
    "    labels = pickle.load(fopen)"
   ]
  },
  {
   "cell_type": "code",
   "execution_count": 6,
   "metadata": {},
   "outputs": [
    {
     "data": {
      "text/plain": [
       "(<tf.Tensor 'ExpandDims:0' shape=(?, ?, 80, 1) dtype=float32>,\n",
       " <tf.Tensor 'TensorArrayStack_2/TensorArrayGatherV3:0' shape=(?,) dtype=int32>)"
      ]
     },
     "execution_count": 6,
     "metadata": {},
     "output_type": "execute_result"
    }
   ],
   "source": [
    "featurizer = malaya_speech.tf_featurization.STTFeaturizer(\n",
    "    normalize_per_feature = True\n",
    ")\n",
    "X = tf.compat.v1.placeholder(tf.float32, [None, None], name = 'X_placeholder')\n",
    "X_len = tf.compat.v1.placeholder(tf.int32, [None], name = 'X_len_placeholder')\n",
    "batch_size = tf.shape(X)[0]\n",
    "features = tf.TensorArray(dtype = tf.float32, size = batch_size, dynamic_size = True, infer_shape = False)\n",
    "features_len = tf.TensorArray(dtype = tf.int32, size = batch_size)\n",
    "\n",
    "init_state = (0, features, features_len)\n",
    "\n",
    "def condition(i, features, features_len):\n",
    "    return i < batch_size\n",
    "\n",
    "def body(i, features, features_len):\n",
    "    f = featurizer(X[i, :X_len[i]])\n",
    "    f_len = tf.shape(f)[0]\n",
    "    return i + 1, features.write(i, f), features_len.write(i, f_len)\n",
    "\n",
    "_, features, features_len = tf.while_loop(condition, body, init_state)\n",
    "features_len = features_len.stack()\n",
    "padded_features = tf.TensorArray(dtype = tf.float32, size = batch_size)\n",
    "padded_lens = tf.TensorArray(dtype = tf.int32, size = batch_size)\n",
    "maxlen = tf.reduce_max(features_len)\n",
    "\n",
    "init_state = (0, padded_features, padded_lens)\n",
    "\n",
    "def condition(i, padded_features, padded_lens):\n",
    "    return i < batch_size\n",
    "\n",
    "def body(i, padded_features, padded_lens):\n",
    "    f = features.read(i)\n",
    "    len_f = tf.shape(f)[0]\n",
    "    f = tf.pad(f, [[0, maxlen - tf.shape(f)[0]], [0,0]])\n",
    "    return i + 1, padded_features.write(i, f), padded_lens.write(i, len_f)\n",
    "\n",
    "_, padded_features, padded_lens = tf.while_loop(condition, body, init_state)\n",
    "padded_features = padded_features.stack()\n",
    "padded_lens = padded_lens.stack()\n",
    "padded_lens.set_shape((None,))\n",
    "padded_features.set_shape((None, None, 80))\n",
    "padded_features = tf.expand_dims(padded_features, -1)\n",
    "padded_features, padded_lens"
   ]
  },
  {
   "cell_type": "code",
   "execution_count": 7,
   "metadata": {},
   "outputs": [],
   "source": [
    "padded_features = tf.identity(padded_features, name = 'padded_features')\n",
    "padded_lens = tf.identity(padded_lens, name = 'padded_lens')"
   ]
  },
  {
   "cell_type": "code",
   "execution_count": 8,
   "metadata": {},
   "outputs": [],
   "source": [
    "config = malaya_speech.config.conformer_tiny_encoder_config\n",
    "conformer_model = conformer.Model(\n",
    "    kernel_regularizer=None, bias_regularizer=None, **config\n",
    ")"
   ]
  },
  {
   "cell_type": "code",
   "execution_count": 9,
   "metadata": {},
   "outputs": [
    {
     "name": "stdout",
     "output_type": "stream",
     "text": [
      "WARNING:tensorflow:From /home/husein/.local/lib/python3.6/site-packages/tensorflow_core/python/ops/resource_variable_ops.py:1630: calling BaseResourceVariable.__init__ (from tensorflow.python.ops.resource_variable_ops) with constraint is deprecated and will be removed in a future version.\n",
      "Instructions for updating:\n",
      "If using Keras pass *_constraint arguments to layers.\n"
     ]
    }
   ],
   "source": [
    "seq = conformer_model(padded_features)"
   ]
  },
  {
   "cell_type": "code",
   "execution_count": 10,
   "metadata": {},
   "outputs": [
    {
     "data": {
      "text/plain": [
       "<tf.Tensor 'dense/BiasAdd:0' shape=(?, 512) dtype=float32>"
      ]
     },
     "execution_count": 10,
     "metadata": {},
     "output_type": "execute_result"
    }
   ],
   "source": [
    "embedding_dim = 512\n",
    "first_token_tensor = tf.squeeze(seq[:, 0:1, :], axis=1)\n",
    "pooled_output = tf.keras.layers.Dense(embedding_dim, activation=None,\n",
    "                                   use_bias=True, trainable=True)(first_token_tensor)\n",
    "pooled_output"
   ]
  },
  {
   "cell_type": "code",
   "execution_count": 11,
   "metadata": {},
   "outputs": [
    {
     "data": {
      "text/plain": [
       "<tf.Tensor 'lambda/l2_normalize:0' shape=(?, 512) dtype=float32>"
      ]
     },
     "execution_count": 11,
     "metadata": {},
     "output_type": "execute_result"
    }
   ],
   "source": [
    "y = tf.keras.layers.Lambda(lambda x: tf.keras.backend.l2_normalize(x, 1))(pooled_output)\n",
    "y"
   ]
  },
  {
   "cell_type": "code",
   "execution_count": 12,
   "metadata": {},
   "outputs": [],
   "source": [
    "sess = tf.Session()\n",
    "sess.run(tf.global_variables_initializer())"
   ]
  },
  {
   "cell_type": "code",
   "execution_count": 13,
   "metadata": {},
   "outputs": [
    {
     "name": "stdout",
     "output_type": "stream",
     "text": [
      "INFO:tensorflow:Restoring parameters from conformer-tiny-voxceleb/model.ckpt-1250002\n"
     ]
    }
   ],
   "source": [
    "var_list = tf.get_collection(tf.GraphKeys.GLOBAL_VARIABLES)\n",
    "saver = tf.train.Saver(var_list = var_list)\n",
    "saver.restore(sess, 'conformer-tiny-voxceleb/model.ckpt-1250002')"
   ]
  },
  {
   "cell_type": "code",
   "execution_count": 14,
   "metadata": {},
   "outputs": [],
   "source": [
    "unique_files = []\n",
    "for l in labels:\n",
    "    unique_files.extend(l[1:])\n",
    "    \n",
    "unique_files = list(set(unique_files))  "
   ]
  },
  {
   "cell_type": "code",
   "execution_count": 15,
   "metadata": {},
   "outputs": [],
   "source": [
    "f = unique_files[0]\n",
    "y_, _ = malaya_speech.load(f)"
   ]
  },
  {
   "cell_type": "code",
   "execution_count": 16,
   "metadata": {},
   "outputs": [
    {
     "name": "stdout",
     "output_type": "stream",
     "text": [
      "CPU times: user 2.05 s, sys: 71.3 ms, total: 2.12 s\n",
      "Wall time: 1.83 s\n"
     ]
    },
    {
     "data": {
      "text/plain": [
       "[array([[-0.27380615,  1.607637  , -3.288402  ,  5.8010764 , -3.437999  ,\n",
       "         -1.6338171 , -4.731016  ,  1.6971414 , -0.32794702, -2.806893  ,\n",
       "          1.2548681 , -0.25408542,  3.234968  ,  1.2450624 , -0.59769577,\n",
       "         -0.27951103,  1.6363953 , -1.9033945 ,  6.985413  , -5.0791793 ,\n",
       "         -2.2417417 ,  1.174528  ,  1.3528355 , -2.1078784 ,  3.1129322 ,\n",
       "          3.296452  ,  4.5632777 ,  8.034816  ,  3.383371  , -6.3480396 ,\n",
       "         -1.6283656 ,  2.9684076 , -5.8292046 , -4.7081738 ,  1.6194836 ,\n",
       "         10.09145   , -8.597065  , -1.7172351 ,  1.8048071 , -0.7224511 ,\n",
       "         -0.07827301, -1.9072077 , -0.22544223, -1.5183424 , -3.5404978 ,\n",
       "          4.245466  , -1.0593115 ,  1.9407766 , -0.7766394 , -8.006143  ,\n",
       "         -7.1185207 , -0.30076015, -3.4765565 , -5.9257374 , -6.3389893 ,\n",
       "         -2.4199643 ,  0.633995  ,  4.055876  , -0.75152355,  6.7704477 ,\n",
       "          3.3773806 ,  0.23319803,  4.494203  ,  1.4519562 , -1.4837874 ,\n",
       "         -2.5624576 , -3.3343213 ,  4.2004485 , -2.2708063 , -4.768316  ,\n",
       "          3.9789343 , -0.08554289, -1.2092512 ,  7.146039  , -5.0794125 ,\n",
       "         -4.611047  ,  2.0709705 , -1.340433  , -0.61814547, -5.4462757 ,\n",
       "          0.606291  ,  0.11653909, -7.0472198 , -2.9049368 ,  6.921558  ,\n",
       "         -2.665556  , -0.46816543, -0.88972974,  1.2064445 , -4.9182715 ,\n",
       "          1.9604481 , -1.7182944 ,  3.3169107 , -5.012413  , -3.4219756 ,\n",
       "         -3.5176892 , -4.4775977 ,  4.4055395 ,  3.0588717 , -5.2088013 ,\n",
       "         -2.0179734 ,  4.5049973 ,  2.6554441 , -5.850655  , -1.749929  ,\n",
       "         -0.7787135 ,  2.7853448 ,  3.9765482 , -2.164379  ,  0.25857478,\n",
       "          3.6936133 ,  3.017335  ,  2.6421356 , -0.47429737,  0.2841476 ,\n",
       "          3.822557  ,  1.4158514 ,  4.719043  , -2.257844  , -0.657631  ,\n",
       "          0.9969874 ,  1.8290812 ,  4.9217777 ,  2.759258  , -1.1371759 ,\n",
       "         -3.9358597 , -4.695174  ,  2.6007547 , -5.4381423 ,  3.3130898 ,\n",
       "          0.59319586, -0.51484007,  4.57349   , -0.19033901, -2.3112    ,\n",
       "         -4.265749  , -2.2852504 ,  0.56453526,  0.6650752 ,  0.353034  ,\n",
       "         -3.9465833 ,  2.917044  ,  0.8066283 , -5.386674  , -5.5763664 ,\n",
       "         -3.012879  ,  0.93281484, -6.5177855 , -2.0046902 , -0.34730777,\n",
       "          0.5780825 , -4.0824795 , -1.5255611 ,  0.39951646, -2.4081292 ,\n",
       "          2.1075296 ,  0.08514003, -5.774017  , -1.8648732 , -1.1173596 ,\n",
       "          1.2736943 ,  3.6888945 , -0.09051056,  0.38309398, -1.7529347 ,\n",
       "         -1.6452159 , -1.4911857 ,  3.5992632 ,  6.05044   , -3.0634768 ,\n",
       "         -3.3226342 ,  1.6241608 , -1.1115547 ,  1.015386  , -5.0846834 ,\n",
       "         -0.35068494, -0.9538344 ,  2.3500204 , -8.459345  , -1.5954126 ,\n",
       "         -7.0765533 ,  2.8298976 ,  1.6770122 ,  5.6615925 ,  2.6111534 ,\n",
       "         -2.2950425 ,  3.2476368 ,  2.9616315 ,  2.9550185 ,  2.0220582 ,\n",
       "         -0.4147788 , -3.3577962 ,  2.7679608 , -1.7306256 , -4.004497  ,\n",
       "         -5.485567  , -0.40848696,  1.865109  , -2.2441525 , -3.0089085 ,\n",
       "         -0.84864205, -1.7185936 , -2.3922467 ,  1.4064153 , -7.3098397 ,\n",
       "          0.5884872 , -3.9140253 , -2.2387712 , -4.778616  ,  1.502963  ,\n",
       "         -0.5579358 ,  3.3732128 ,  4.0644665 , -5.158286  , -3.0862305 ,\n",
       "          2.3472874 , -1.9760932 , -2.4699647 , -4.4542937 ,  0.813155  ,\n",
       "          2.7025254 ,  4.0594015 , -0.42147788, -2.9772336 , -2.7173276 ,\n",
       "          0.22367947,  0.04909866, -2.3786037 ,  3.3477595 , -1.3879094 ,\n",
       "          0.1448802 , -1.3421739 , -0.456249  , -0.59798443, -1.0983094 ,\n",
       "          2.2092397 , -1.028004  ,  1.7674674 , -0.5614914 ,  3.5120566 ,\n",
       "          6.0328774 ,  1.8649775 , -0.05304487, -5.77189   , -2.9005604 ,\n",
       "         -4.0430245 ,  0.6263386 , -2.5884902 ,  3.7199    ,  7.0817723 ,\n",
       "          2.733808  ,  2.749882  , -5.6211886 ,  0.4803774 ,  2.1352913 ,\n",
       "          1.9337013 , -3.655373  , -3.174103  , -3.147498  ,  4.841791  ,\n",
       "          0.21077505, -3.8350616 , -3.587993  ,  3.0173028 ,  2.365432  ,\n",
       "          5.3207064 , -3.3749907 ,  0.6172693 , -7.330264  ,  4.4397345 ,\n",
       "          3.370657  , -1.0560278 , -3.6332145 , -3.0810947 , -4.4959173 ,\n",
       "         -0.2466639 , -0.5458905 ,  3.5605705 ,  0.9627156 ,  3.252647  ,\n",
       "         -3.6572952 , -3.6180646 ,  2.068896  , -2.0524192 ,  2.7619612 ,\n",
       "          2.7271073 , -2.3771472 ,  2.1608448 , -4.3326445 ,  0.13186848,\n",
       "         -4.826913  ,  0.84241   ,  1.7572702 ,  1.3858149 , -0.8640611 ,\n",
       "          0.73250365,  1.6534897 , -4.3994064 , -2.1724956 ,  0.11502121,\n",
       "          1.0003777 ,  1.099869  , -4.12874   ,  0.64133096, -4.920659  ,\n",
       "          4.520045  ,  3.2945065 ,  0.91355556, -4.60109   , -0.33824432,\n",
       "         -2.0177    ,  1.8316592 ,  4.472519  , -2.1335762 ,  7.458144  ,\n",
       "         -0.9590248 , -0.81886536,  2.5649328 , -4.585236  ,  4.564274  ,\n",
       "          2.5489926 , -5.855384  ,  3.5038686 , -1.1902654 , -1.7621413 ,\n",
       "         -5.236128  ,  0.755355  ,  0.92784745,  0.405743  , -0.7475348 ,\n",
       "         -1.2148077 , -1.8298544 ,  1.859306  , -3.3680665 ,  1.390643  ,\n",
       "         -3.9065442 ,  2.4151206 , -6.928911  ,  2.435132  ,  2.469167  ,\n",
       "          1.4781542 ,  2.1239245 ,  1.2407954 ,  0.21064234,  2.1126492 ,\n",
       "          4.678135  , -3.4323678 ,  5.0906563 , -1.9629036 ,  0.8710327 ,\n",
       "          0.64165777, -3.4481587 ,  5.3974257 , -5.384282  ,  0.78987163,\n",
       "         -5.019007  , -0.90542126,  4.079061  ,  4.8821793 ,  7.302633  ,\n",
       "          0.85836583,  0.39604115,  0.8208472 , -2.6061482 ,  8.035513  ,\n",
       "         -4.1989408 ,  1.9456673 , -0.9229466 , -1.3095582 , -0.14685445,\n",
       "          1.918279  ,  1.3665949 ,  3.7016313 , -0.55586594, -3.343266  ,\n",
       "         -2.7735941 , -0.18589704, -2.037377  ,  6.439308  , -3.6201146 ,\n",
       "         -1.8687496 , -0.9211553 , -2.0317433 , -0.06905687,  2.220253  ,\n",
       "         -5.0932145 , -4.005624  , -6.0933304 , -6.1691756 , -4.6226907 ,\n",
       "         -4.863274  , -3.106663  ,  3.062787  , -1.5156573 ,  0.34227487,\n",
       "          4.680578  ,  1.5857366 , -3.435491  , -6.11974   ,  2.5523946 ,\n",
       "          5.2474174 ,  2.5764682 ,  1.7539817 ,  5.888913  , -1.5563061 ,\n",
       "          3.9972422 , -4.404488  , -1.4403443 ,  2.138503  ,  0.6397295 ,\n",
       "         -4.319356  ,  0.30806917, -2.5891538 , -1.4921141 ,  0.75545526,\n",
       "         -1.1901104 , -3.941213  , -5.596666  , -0.02958673,  5.305366  ,\n",
       "         -1.414966  , -6.9461117 ,  2.5146906 , -3.51424   ,  1.7542757 ,\n",
       "          2.6507998 , -2.1252837 ,  1.6912265 , -0.42244494,  4.29983   ,\n",
       "          9.258425  ,  3.523618  , -0.19025749,  2.0367446 ,  1.1207172 ,\n",
       "          4.829116  , -0.40960827,  0.28323615, -1.4509193 , -1.0710856 ,\n",
       "         -7.234535  ,  1.5309793 ,  6.319955  ,  2.51549   , -2.8817968 ,\n",
       "          6.152887  , -0.55271703, -0.27217788,  4.438304  ,  4.5613985 ,\n",
       "          4.402557  ,  3.101307  , -4.1609006 ,  0.07581262,  0.7177615 ,\n",
       "         -2.2516828 ,  1.9576945 ,  4.162451  , -4.96857   ,  2.0220702 ,\n",
       "         -3.835091  , -1.0083026 , -1.9029864 ,  0.21878953, -7.2937694 ,\n",
       "         -1.811987  ,  0.6835774 ,  6.4212728 ,  1.4126381 , -2.9331532 ,\n",
       "         -0.21903776,  2.0740836 ,  0.18365681, -4.1600504 ,  1.0941838 ,\n",
       "          0.37527978, -5.0736065 ,  3.7101338 ,  4.0940228 , -2.2090855 ,\n",
       "          1.3743557 , -3.6322396 ,  0.43529135,  0.23643629, -4.668035  ,\n",
       "          0.6190539 , -1.4451407 , -2.9507527 ,  8.210404  ,  4.500418  ,\n",
       "         -1.1014582 ,  3.5319936 , -4.6613817 , -5.600881  ,  2.4965405 ,\n",
       "          0.7774535 ,  0.6389857 , -5.528175  ,  5.8826084 ,  0.31476265,\n",
       "         -0.42589897,  0.03663759,  3.6168044 ,  3.8608086 , -4.6128583 ,\n",
       "          2.382049  , -1.7996724 ,  6.139375  , -2.3671758 ,  0.94633096,\n",
       "          2.4309306 ,  0.37430513]], dtype=float32),\n",
       " array([[-0.00356521,  0.02093292, -0.04281804,  0.07553539, -0.04476593,\n",
       "         -0.02127381, -0.06160222,  0.02209835, -0.00427017, -0.03654835,\n",
       "          0.01633955, -0.00330843,  0.04212228,  0.01621187, -0.00778255,\n",
       "         -0.00363949,  0.02130738, -0.02478396,  0.09095655, -0.06613562,\n",
       "         -0.02918955,  0.01529344,  0.01761517, -0.02744653,  0.04053326,\n",
       "          0.04292286,  0.05941811,  0.10462075,  0.04405463, -0.08265736,\n",
       "         -0.02120283,  0.03865142, -0.07590165, -0.06130479,  0.02108718,\n",
       "          0.13140003, -0.11194175, -0.02235999,  0.02350026, -0.00940698,\n",
       "         -0.00101919, -0.02483361, -0.00293547, -0.01977023, -0.04610056,\n",
       "          0.05527991, -0.01379322,  0.02527071, -0.01011257, -0.1042474 ,\n",
       "         -0.09268974, -0.00391618, -0.04526799, -0.07715859, -0.08253951,\n",
       "         -0.03151018,  0.0082552 ,  0.05281126, -0.00978553,  0.0881575 ,\n",
       "          0.04397663,  0.00303645,  0.05851869,  0.01890581, -0.01932029,\n",
       "         -0.03336557, -0.04341595,  0.05469373, -0.029568  , -0.06208789,\n",
       "          0.05180941, -0.00111385, -0.01574557,  0.09304805, -0.06613866,\n",
       "         -0.06004011,  0.02696596, -0.01745368, -0.00804883, -0.07091556,\n",
       "          0.00789447,  0.00151745, -0.09176134, -0.03782497,  0.0901251 ,\n",
       "         -0.03470801, -0.00609595, -0.01158511,  0.01570903, -0.06404045,\n",
       "          0.02552685, -0.02237379,  0.04318925, -0.06526627, -0.0445573 ,\n",
       "         -0.04580358, -0.05830247,  0.05736421,  0.03982935, -0.06782342,\n",
       "         -0.02627588,  0.05865924,  0.03457635, -0.07618095, -0.0227857 ,\n",
       "         -0.01013957,  0.03626777,  0.05177834, -0.02818222,  0.00336688,\n",
       "          0.04809427,  0.0392885 ,  0.03440306, -0.00617579,  0.00369986,\n",
       "          0.04977323,  0.0184357 ,  0.06144631, -0.02939922, -0.00856297,\n",
       "          0.0129817 ,  0.02381633,  0.06408611,  0.0359281 , -0.01480708,\n",
       "         -0.05124854, -0.06113552,  0.03386424, -0.07080965,  0.0431395 ,\n",
       "          0.00772396, -0.00670369,  0.05955108, -0.00247839, -0.03009397,\n",
       "         -0.05554401, -0.02975608,  0.00735077,  0.0086599 ,  0.00459683,\n",
       "         -0.05138817,  0.03798262,  0.01050305, -0.07013949, -0.07260946,\n",
       "         -0.03923048,  0.01214611, -0.08486761, -0.02610292, -0.00452227,\n",
       "          0.00752717, -0.05315767, -0.01986422,  0.00520207, -0.03135607,\n",
       "          0.02744199,  0.0011086 , -0.07518305, -0.02428238, -0.01454906,\n",
       "          0.01658468,  0.04803283, -0.00117853,  0.00498824, -0.02282484,\n",
       "         -0.02142224, -0.01941662,  0.04686574,  0.07878233, -0.03988931,\n",
       "         -0.04326378,  0.02114808, -0.01447347,  0.01322127, -0.06620729,\n",
       "         -0.00456624, -0.01241981,  0.03059945, -0.11014851, -0.02077375,\n",
       "         -0.09214328,  0.03684789,  0.02183625,  0.07371918,  0.03399964,\n",
       "         -0.02988358,  0.04228724,  0.03856319,  0.03847708,  0.02632907,\n",
       "         -0.0054008 , -0.04372162,  0.03604142, -0.02253435, -0.05214226,\n",
       "         -0.07142717, -0.00531888,  0.02428545, -0.02922095, -0.03917878,\n",
       "         -0.01105011, -0.02237768, -0.03114927,  0.01831283, -0.09518089,\n",
       "          0.00766265, -0.05096424, -0.02915088, -0.06222201,  0.01956997,\n",
       "         -0.00726484,  0.04392236,  0.05292312, -0.06716567, -0.04018558,\n",
       "          0.03056386, -0.02573057, -0.03216123, -0.05799903,  0.01058803,\n",
       "          0.03518939,  0.05285717, -0.00548803, -0.03876634, -0.03538213,\n",
       "          0.00291251,  0.00063931, -0.03097163,  0.04359093, -0.01807187,\n",
       "          0.00188647, -0.01747635, -0.00594079, -0.00778631, -0.01430101,\n",
       "          0.02876635, -0.01338557,  0.02301406, -0.00731114,  0.04573023,\n",
       "          0.07855365,  0.02428374, -0.00069069, -0.07515536, -0.03776798,\n",
       "         -0.05264393,  0.00815551, -0.03370454,  0.04843654,  0.09221124,\n",
       "          0.03559671,  0.03580601, -0.07319309,  0.00625496,  0.02780347,\n",
       "          0.02517858, -0.04759635, -0.04132976, -0.04098334,  0.06304461,\n",
       "          0.00274449, -0.04993606, -0.04671899,  0.03928808,  0.03080012,\n",
       "          0.06928053, -0.04394551,  0.00803742, -0.09544683,  0.05780946,\n",
       "          0.04388908, -0.01375046, -0.04730782, -0.04011871, -0.05854101,\n",
       "         -0.00321179, -0.007108  ,  0.04636193,  0.01253545,  0.04235248,\n",
       "         -0.04762137, -0.04711056,  0.02693895, -0.0267244 ,  0.0359633 ,\n",
       "          0.03550946, -0.03095266,  0.0281362 , -0.05641505,  0.00171705,\n",
       "         -0.06285088,  0.01096896,  0.02288129,  0.01804459, -0.01125088,\n",
       "          0.00953788,  0.02152997, -0.05728435, -0.02828791,  0.00149768,\n",
       "          0.01302584,  0.01432131, -0.05376002,  0.00835072, -0.06407154,\n",
       "          0.05885517,  0.04289753,  0.01189534, -0.05991046, -0.00440425,\n",
       "         -0.02627232,  0.0238499 ,  0.05823634, -0.02778114,  0.09711196,\n",
       "         -0.01248739, -0.01066239,  0.0333978 , -0.05970402,  0.05943108,\n",
       "          0.03319025, -0.07624253,  0.04562362, -0.01549836, -0.02294471,\n",
       "         -0.06817924,  0.00983542,  0.01208143,  0.00528315, -0.0097336 ,\n",
       "         -0.01581792, -0.0238264 ,  0.02420989, -0.04385535,  0.01810746,\n",
       "         -0.05086683,  0.03144711, -0.09022085,  0.03170768,  0.03215084,\n",
       "          0.01924694,  0.02765547,  0.01615631,  0.00274276,  0.02750865,\n",
       "          0.06091365, -0.04469261,  0.06628507, -0.02555883,  0.01134165,\n",
       "          0.00835498, -0.04489822,  0.07027949, -0.07010835,  0.01028486,\n",
       "         -0.06535213, -0.01178942,  0.05311316,  0.0635705 ,  0.09508705,\n",
       "          0.01117672,  0.00515682,  0.01068819, -0.03393447,  0.10462983,\n",
       "         -0.0546741 ,  0.02533439, -0.01201762, -0.01705166, -0.00191218,\n",
       "          0.02497777,  0.01779433,  0.04819867, -0.00723789, -0.04353242,\n",
       "         -0.03611477, -0.00242055, -0.02652854,  0.08384576, -0.04713725,\n",
       "         -0.02433285, -0.0119943 , -0.02645518, -0.00089918,  0.02890975,\n",
       "         -0.06631838, -0.05215694, -0.07934081, -0.08032838, -0.06019172,\n",
       "         -0.06332434, -0.04045163,  0.03988033, -0.01973526,  0.00445674,\n",
       "          0.06094547,  0.02064776, -0.04473328, -0.07968469,  0.03323454,\n",
       "          0.06832624,  0.033548  ,  0.02283847,  0.07667911, -0.02026455,\n",
       "          0.0520478 , -0.05735052, -0.01875462,  0.02784529,  0.00832987,\n",
       "         -0.05624202,  0.00401135, -0.03371318, -0.01942871,  0.00983673,\n",
       "         -0.01549634, -0.05131825, -0.07287378, -0.00038525,  0.06908078,\n",
       "         -0.01842417, -0.09044481,  0.0327436 , -0.04575866,  0.0228423 ,\n",
       "          0.03451587, -0.02767316,  0.02202134, -0.00550062,  0.05598777,\n",
       "          0.12055328,  0.04588077, -0.00247733,  0.0265203 ,  0.01459278,\n",
       "          0.06287956, -0.00533348,  0.003688  , -0.01889231, -0.01394653,\n",
       "         -0.09420036,  0.01993477,  0.08229167,  0.03275401, -0.03752367,\n",
       "          0.08011629, -0.00719689, -0.00354401,  0.05779083,  0.05939364,\n",
       "          0.05732537,  0.04038189, -0.05417878,  0.00098715,  0.00934592,\n",
       "         -0.029319  ,  0.025491  ,  0.05419897, -0.06469539,  0.02632923,\n",
       "         -0.04993644, -0.01312903, -0.02477865,  0.00284884, -0.09497164,\n",
       "         -0.02359375,  0.00890081,  0.08361092,  0.01839386, -0.03819237,\n",
       "         -0.00285207,  0.02700649,  0.00239138, -0.05416771,  0.01424729,\n",
       "          0.00488649, -0.06606306,  0.04830938,  0.05330797, -0.02876434,\n",
       "          0.01789539, -0.04729513,  0.0056679 ,  0.00307862, -0.06078214,\n",
       "          0.00806066, -0.01881707, -0.03842154,  0.10690708,  0.05859962,\n",
       "         -0.01434201,  0.04598983, -0.06069551, -0.07292867,  0.03250727,\n",
       "          0.01012317,  0.00832019, -0.07198196,  0.07659701,  0.0040985 ,\n",
       "         -0.0055456 ,  0.00047706,  0.04709415,  0.05027131, -0.06006369,\n",
       "          0.03101649, -0.0234334 ,  0.07994036, -0.03082282,  0.01232211,\n",
       "          0.03165297,  0.0048738 ]], dtype=float32)]"
      ]
     },
     "execution_count": 16,
     "metadata": {},
     "output_type": "execute_result"
    }
   ],
   "source": [
    "%%time\n",
    "\n",
    "sess.run([pooled_output, y], feed_dict = {X: [y_], X_len: [len(y_)]})"
   ]
  },
  {
   "cell_type": "code",
   "execution_count": 17,
   "metadata": {},
   "outputs": [
    {
     "name": "stderr",
     "output_type": "stream",
     "text": [
      " 19%|█▊        | 6737/36237 [14:13<1:14:02,  6.64it/s]IOPub message rate exceeded.\n",
      "The notebook server will temporarily stop sending output\n",
      "to the client in order to avoid crashing it.\n",
      "To change this limit, set the config variable\n",
      "`--NotebookApp.iopub_msg_rate_limit`.\n",
      "\n",
      "Current values:\n",
      "NotebookApp.iopub_msg_rate_limit=1000.0 (msgs/sec)\n",
      "NotebookApp.rate_limit_window=3.0 (secs)\n",
      "\n",
      " 45%|████▍     | 16128/36237 [34:33<47:05,  7.12it/s]  IOPub message rate exceeded.\n",
      "The notebook server will temporarily stop sending output\n",
      "to the client in order to avoid crashing it.\n",
      "To change this limit, set the config variable\n",
      "`--NotebookApp.iopub_msg_rate_limit`.\n",
      "\n",
      "Current values:\n",
      "NotebookApp.iopub_msg_rate_limit=1000.0 (msgs/sec)\n",
      "NotebookApp.rate_limit_window=3.0 (secs)\n",
      "\n",
      " 63%|██████▎   | 22742/36237 [48:29<28:53,  7.79it/s]  IOPub message rate exceeded.\n",
      "The notebook server will temporarily stop sending output\n",
      "to the client in order to avoid crashing it.\n",
      "To change this limit, set the config variable\n",
      "`--NotebookApp.iopub_msg_rate_limit`.\n",
      "\n",
      "Current values:\n",
      "NotebookApp.iopub_msg_rate_limit=1000.0 (msgs/sec)\n",
      "NotebookApp.rate_limit_window=3.0 (secs)\n",
      "\n",
      " 85%|████████▍ | 30790/36237 [1:05:40<13:37,  6.66it/s]IOPub message rate exceeded.\n",
      "The notebook server will temporarily stop sending output\n",
      "to the client in order to avoid crashing it.\n",
      "To change this limit, set the config variable\n",
      "`--NotebookApp.iopub_msg_rate_limit`.\n",
      "\n",
      "Current values:\n",
      "NotebookApp.iopub_msg_rate_limit=1000.0 (msgs/sec)\n",
      "NotebookApp.rate_limit_window=3.0 (secs)\n",
      "\n",
      "100%|██████████| 36237/36237 [1:17:07<00:00,  7.83it/s]\n"
     ]
    }
   ],
   "source": [
    "vectors = {}\n",
    "for f in tqdm(unique_files):\n",
    "    y_, _ = malaya_speech.load(f)\n",
    "    v = sess.run(y, feed_dict = {X: [y_], X_len: [len(y_)]})[0]\n",
    "    # v = model.vectorize([y])[0]\n",
    "    vectors[f] = v"
   ]
  },
  {
   "cell_type": "code",
   "execution_count": 18,
   "metadata": {},
   "outputs": [
    {
     "name": "stderr",
     "output_type": "stream",
     "text": [
      "100%|██████████| 5900000/5900000 [01:07<00:00, 87852.55it/s] \n"
     ]
    }
   ],
   "source": [
    "import numpy as np\n",
    "\n",
    "scores, ls = [], []\n",
    "\n",
    "for i in tqdm(range(len(labels))):\n",
    "    if labels[i][1] in vectors and labels[i][2] in vectors:\n",
    "        ls.append(labels[i][0])\n",
    "        scores.append(np.sum(vectors[labels[i][1]] * vectors[labels[i][2]]))"
   ]
  },
  {
   "cell_type": "code",
   "execution_count": 19,
   "metadata": {},
   "outputs": [
    {
     "data": {
      "text/plain": [
       "5900000"
      ]
     },
     "execution_count": 19,
     "metadata": {},
     "output_type": "execute_result"
    }
   ],
   "source": [
    "len(scores)"
   ]
  },
  {
   "cell_type": "code",
   "execution_count": 20,
   "metadata": {},
   "outputs": [],
   "source": [
    "def calculate_eer(y, y_score):\n",
    "    \n",
    "    from scipy.optimize import brentq\n",
    "    from sklearn.metrics import roc_curve\n",
    "    from scipy.interpolate import interp1d\n",
    "\n",
    "    fpr, tpr, thresholds = roc_curve(y, y_score, pos_label=1)\n",
    "    eer = brentq(lambda x : 1. - x - interp1d(fpr, tpr)(x), 0., 1.)\n",
    "    thresh = interp1d(fpr, thresholds)(eer)\n",
    "    return eer, thresh"
   ]
  },
  {
   "cell_type": "code",
   "execution_count": 21,
   "metadata": {},
   "outputs": [
    {
     "data": {
      "text/plain": [
       "(0.08687999999999804, array(0.40151393))"
      ]
     },
     "execution_count": 21,
     "metadata": {},
     "output_type": "execute_result"
    }
   ],
   "source": [
    "calculate_eer(ls, scores)"
   ]
  }
 ],
 "metadata": {
  "kernelspec": {
   "display_name": "Python 3",
   "language": "python",
   "name": "python3"
  },
  "language_info": {
   "codemirror_mode": {
    "name": "ipython",
    "version": 3
   },
   "file_extension": ".py",
   "mimetype": "text/x-python",
   "name": "python",
   "nbconvert_exporter": "python",
   "pygments_lexer": "ipython3",
   "version": "3.6.9"
  }
 },
 "nbformat": 4,
 "nbformat_minor": 2
}

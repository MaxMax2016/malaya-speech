{
 "cells": [
  {
   "cell_type": "code",
   "execution_count": 1,
   "metadata": {},
   "outputs": [],
   "source": [
    "# !wget https://f000.backblazeb2.com/file/malay-dataset/voxceleb/voxceleb2-test-sample.json\n",
    "# !wget https://f000.backblazeb2.com/file/malay-dataset/voxceleb/voxceleb2-test-labels.pkl"
   ]
  },
  {
   "cell_type": "code",
   "execution_count": 2,
   "metadata": {},
   "outputs": [],
   "source": [
    "import os\n",
    "\n",
    "os.environ['CUDA_VISIBLE_DEVICES'] = ''\n",
    "os.environ['MALAYA_USE_HUGGINGFACE'] = 'true'"
   ]
  },
  {
   "cell_type": "code",
   "execution_count": 3,
   "metadata": {},
   "outputs": [],
   "source": [
    "import malaya_speech\n",
    "import json\n",
    "import pickle\n",
    "from tqdm import tqdm\n",
    "import tensorflow as tf\n",
    "import malaya_speech.train.model.conformer as conformer"
   ]
  },
  {
   "cell_type": "code",
   "execution_count": 4,
   "metadata": {},
   "outputs": [],
   "source": [
    "with open('/home/husein/youtube/voxceleb2-test-sample.json') as fopen:\n",
    "    sample_files = json.load(fopen)"
   ]
  },
  {
   "cell_type": "code",
   "execution_count": 5,
   "metadata": {},
   "outputs": [],
   "source": [
    "with open('/home/husein/youtube/voxceleb2-test-labels.pkl', 'rb') as fopen:\n",
    "    labels = pickle.load(fopen)"
   ]
  },
  {
   "cell_type": "code",
   "execution_count": 6,
   "metadata": {},
   "outputs": [
    {
     "data": {
      "text/plain": [
       "(<tf.Tensor 'ExpandDims:0' shape=(?, ?, 80, 1) dtype=float32>,\n",
       " <tf.Tensor 'TensorArrayStack_2/TensorArrayGatherV3:0' shape=(?,) dtype=int32>)"
      ]
     },
     "execution_count": 6,
     "metadata": {},
     "output_type": "execute_result"
    }
   ],
   "source": [
    "featurizer = malaya_speech.tf_featurization.STTFeaturizer(\n",
    "    normalize_per_feature = True\n",
    ")\n",
    "X = tf.compat.v1.placeholder(tf.float32, [None, None], name = 'X_placeholder')\n",
    "X_len = tf.compat.v1.placeholder(tf.int32, [None], name = 'X_len_placeholder')\n",
    "batch_size = tf.shape(X)[0]\n",
    "features = tf.TensorArray(dtype = tf.float32, size = batch_size, dynamic_size = True, infer_shape = False)\n",
    "features_len = tf.TensorArray(dtype = tf.int32, size = batch_size)\n",
    "\n",
    "init_state = (0, features, features_len)\n",
    "\n",
    "def condition(i, features, features_len):\n",
    "    return i < batch_size\n",
    "\n",
    "def body(i, features, features_len):\n",
    "    f = featurizer(X[i, :X_len[i]])\n",
    "    f_len = tf.shape(f)[0]\n",
    "    return i + 1, features.write(i, f), features_len.write(i, f_len)\n",
    "\n",
    "_, features, features_len = tf.while_loop(condition, body, init_state)\n",
    "features_len = features_len.stack()\n",
    "padded_features = tf.TensorArray(dtype = tf.float32, size = batch_size)\n",
    "padded_lens = tf.TensorArray(dtype = tf.int32, size = batch_size)\n",
    "maxlen = tf.reduce_max(features_len)\n",
    "\n",
    "init_state = (0, padded_features, padded_lens)\n",
    "\n",
    "def condition(i, padded_features, padded_lens):\n",
    "    return i < batch_size\n",
    "\n",
    "def body(i, padded_features, padded_lens):\n",
    "    f = features.read(i)\n",
    "    len_f = tf.shape(f)[0]\n",
    "    f = tf.pad(f, [[0, maxlen - tf.shape(f)[0]], [0,0]])\n",
    "    return i + 1, padded_features.write(i, f), padded_lens.write(i, len_f)\n",
    "\n",
    "_, padded_features, padded_lens = tf.while_loop(condition, body, init_state)\n",
    "padded_features = padded_features.stack()\n",
    "padded_lens = padded_lens.stack()\n",
    "padded_lens.set_shape((None,))\n",
    "padded_features.set_shape((None, None, 80))\n",
    "padded_features = tf.expand_dims(padded_features, -1)\n",
    "padded_features, padded_lens"
   ]
  },
  {
   "cell_type": "code",
   "execution_count": 7,
   "metadata": {},
   "outputs": [],
   "source": [
    "padded_features = tf.identity(padded_features, name = 'padded_features')\n",
    "padded_lens = tf.identity(padded_lens, name = 'padded_lens')"
   ]
  },
  {
   "cell_type": "code",
   "execution_count": 8,
   "metadata": {},
   "outputs": [],
   "source": [
    "config = malaya_speech.config.conformer_base_encoder_config\n",
    "conformer_model = conformer.Model(\n",
    "    kernel_regularizer=None, bias_regularizer=None, **config\n",
    ")"
   ]
  },
  {
   "cell_type": "code",
   "execution_count": 9,
   "metadata": {},
   "outputs": [
    {
     "name": "stdout",
     "output_type": "stream",
     "text": [
      "WARNING:tensorflow:From /home/husein/.local/lib/python3.6/site-packages/tensorflow_core/python/ops/resource_variable_ops.py:1630: calling BaseResourceVariable.__init__ (from tensorflow.python.ops.resource_variable_ops) with constraint is deprecated and will be removed in a future version.\n",
      "Instructions for updating:\n",
      "If using Keras pass *_constraint arguments to layers.\n"
     ]
    }
   ],
   "source": [
    "seq = conformer_model(padded_features)"
   ]
  },
  {
   "cell_type": "code",
   "execution_count": 10,
   "metadata": {},
   "outputs": [
    {
     "data": {
      "text/plain": [
       "<tf.Tensor 'dense/BiasAdd:0' shape=(?, 512) dtype=float32>"
      ]
     },
     "execution_count": 10,
     "metadata": {},
     "output_type": "execute_result"
    }
   ],
   "source": [
    "embedding_dim = 512\n",
    "first_token_tensor = tf.squeeze(seq[:, 0:1, :], axis=1)\n",
    "pooled_output = tf.keras.layers.Dense(embedding_dim, activation=None,\n",
    "                                   use_bias=True, trainable=True)(first_token_tensor)\n",
    "pooled_output"
   ]
  },
  {
   "cell_type": "code",
   "execution_count": 11,
   "metadata": {},
   "outputs": [
    {
     "data": {
      "text/plain": [
       "<tf.Tensor 'lambda/l2_normalize:0' shape=(?, 512) dtype=float32>"
      ]
     },
     "execution_count": 11,
     "metadata": {},
     "output_type": "execute_result"
    }
   ],
   "source": [
    "y = tf.keras.layers.Lambda(lambda x: tf.keras.backend.l2_normalize(x, 1))(pooled_output)\n",
    "y"
   ]
  },
  {
   "cell_type": "code",
   "execution_count": 12,
   "metadata": {},
   "outputs": [],
   "source": [
    "sess = tf.Session()\n",
    "sess.run(tf.global_variables_initializer())"
   ]
  },
  {
   "cell_type": "code",
   "execution_count": 13,
   "metadata": {},
   "outputs": [
    {
     "name": "stdout",
     "output_type": "stream",
     "text": [
      "INFO:tensorflow:Restoring parameters from conformer-base-voxceleb/model.ckpt-1675000\n"
     ]
    }
   ],
   "source": [
    "var_list = tf.get_collection(tf.GraphKeys.GLOBAL_VARIABLES)\n",
    "saver = tf.train.Saver(var_list = var_list)\n",
    "saver.restore(sess, 'conformer-base-voxceleb/model.ckpt-1675000')"
   ]
  },
  {
   "cell_type": "code",
   "execution_count": 14,
   "metadata": {},
   "outputs": [],
   "source": [
    "unique_files = []\n",
    "for l in labels:\n",
    "    unique_files.extend(l[1:])\n",
    "    \n",
    "unique_files = list(set(unique_files))"
   ]
  },
  {
   "cell_type": "code",
   "execution_count": 15,
   "metadata": {},
   "outputs": [],
   "source": [
    "f = unique_files[0]\n",
    "y_, _ = malaya_speech.load(f)"
   ]
  },
  {
   "cell_type": "code",
   "execution_count": 16,
   "metadata": {},
   "outputs": [
    {
     "name": "stdout",
     "output_type": "stream",
     "text": [
      "CPU times: user 3.67 s, sys: 209 ms, total: 3.88 s\n",
      "Wall time: 3 s\n"
     ]
    },
    {
     "data": {
      "text/plain": [
       "array([-6.89724609e-02, -3.41668800e-02,  1.17649697e-02, -1.69185493e-02,\n",
       "       -5.91135807e-02, -2.39978246e-02,  5.83983085e-04,  4.95173261e-02,\n",
       "       -1.70719624e-02, -1.10947946e-02,  4.80053276e-02, -3.50449383e-02,\n",
       "        5.55856079e-02,  4.35475670e-02, -2.47186664e-02, -1.64312571e-02,\n",
       "        8.25982243e-02, -5.65200374e-02,  2.26350799e-02, -3.72865200e-02,\n",
       "       -2.73708701e-02,  3.23672295e-02, -1.50604751e-02,  4.46702018e-02,\n",
       "        2.56585553e-02, -2.41122022e-02,  3.23291798e-03, -5.92382066e-02,\n",
       "        4.89351638e-02,  1.85456909e-02, -3.37917097e-02,  5.19451462e-02,\n",
       "       -3.47043835e-02, -8.33684206e-03, -2.23122630e-02,  6.37616357e-03,\n",
       "        4.61544609e-04,  1.05786426e-02,  7.47852549e-02,  2.40048976e-03,\n",
       "        3.59942131e-02,  7.58860633e-02,  7.15874061e-02, -7.22227395e-02,\n",
       "       -3.76559794e-02,  6.61615357e-02,  3.20036970e-02, -2.82124709e-02,\n",
       "        4.59266976e-02,  8.52411555e-04,  2.66959537e-02,  3.37800793e-02,\n",
       "       -1.07908081e-02, -7.65643492e-02,  6.82975864e-03,  1.45469350e-03,\n",
       "       -8.04349482e-02, -4.99488637e-02,  2.84191128e-02,  2.93230545e-02,\n",
       "       -1.98008418e-02,  1.17552942e-02, -1.02804676e-02,  2.54519731e-02,\n",
       "        1.04142994e-01,  2.99433749e-02, -1.43083930e-02,  8.41393508e-03,\n",
       "       -1.16418265e-01,  9.29868892e-02,  2.48321220e-02,  3.04328967e-02,\n",
       "       -4.49662618e-02,  8.73112772e-03, -5.77805378e-02, -1.89914685e-02,\n",
       "       -2.15366930e-02,  5.24537712e-02,  1.43715302e-02,  4.25866619e-02,\n",
       "       -6.89613223e-02,  3.57610919e-02,  3.93151753e-02, -3.54374498e-02,\n",
       "       -3.18781026e-02,  6.45755678e-02,  9.49705206e-03, -1.11862011e-02,\n",
       "       -2.19099894e-02,  3.65355313e-02, -4.67473231e-02,  1.82291977e-02,\n",
       "        7.14192390e-02,  2.79306062e-02, -3.84967662e-02, -1.26338983e-02,\n",
       "        6.25900999e-02,  1.13557111e-02,  1.12792877e-02,  1.78675652e-02,\n",
       "        2.92578153e-03,  5.61677031e-02,  4.41759117e-02,  1.97466332e-02,\n",
       "        3.07101272e-02,  5.06547978e-04,  3.48204859e-02, -1.34609165e-02,\n",
       "        4.25389819e-02, -7.33868182e-02, -2.69253086e-02, -4.78452295e-02,\n",
       "        6.35694563e-02, -2.71795839e-02, -4.27663103e-02, -2.11347044e-02,\n",
       "       -4.50041480e-02, -7.50384703e-02, -3.27600464e-02,  2.94997506e-02,\n",
       "        1.28496531e-02,  5.05635031e-02,  3.48140225e-02,  4.91298251e-02,\n",
       "        2.95115216e-03, -4.95243073e-03,  1.13006430e-02,  7.10151717e-02,\n",
       "       -4.01749909e-02, -4.72492278e-02, -7.90646765e-03, -8.14343989e-02,\n",
       "        4.38938923e-02,  1.89264268e-02,  3.74777578e-02,  1.71793811e-02,\n",
       "        1.03188410e-01, -5.70944231e-03, -5.67959696e-02,  2.01123655e-02,\n",
       "       -3.19509283e-02, -1.67694967e-02, -1.04931798e-02,  5.49314581e-02,\n",
       "       -3.68046984e-02, -5.75975291e-02, -1.24296108e-02,  5.11222705e-02,\n",
       "        7.32201710e-02,  2.17767525e-02, -6.97728321e-02,  2.62551499e-03,\n",
       "       -4.49563703e-03,  1.68339312e-02, -1.24301389e-02, -7.89493322e-03,\n",
       "        1.22466788e-01, -5.23298047e-02, -1.57037172e-02, -8.20002705e-02,\n",
       "        3.32681760e-02,  1.23426376e-03, -4.87337075e-02, -1.74492765e-02,\n",
       "       -4.89750393e-02, -1.86801590e-02, -8.56599398e-03,  1.02248080e-02,\n",
       "        5.97293675e-03, -1.27123501e-02, -2.72174273e-02, -2.63398886e-02,\n",
       "        1.29681649e-02, -1.21193947e-02, -4.77539413e-02,  2.15003826e-02,\n",
       "       -5.94644062e-02,  2.56587714e-02,  7.89863896e-03,  8.10676429e-04,\n",
       "       -3.09203882e-02,  2.79629882e-03, -3.65243182e-02,  7.06650838e-02,\n",
       "        1.90889295e-02,  3.83137390e-02,  2.14842111e-02,  1.14963586e-02,\n",
       "        1.13090025e-02, -5.59502142e-03,  3.60704400e-02, -2.46921889e-02,\n",
       "       -1.65322740e-02,  3.71466912e-02, -5.15324250e-02, -9.05248448e-02,\n",
       "        1.04990462e-02,  4.80336733e-02, -2.45747302e-04,  5.77262677e-02,\n",
       "       -2.05535237e-02, -2.12039724e-02,  3.48922871e-02,  4.52896953e-03,\n",
       "       -1.95634980e-02,  3.84018943e-03, -5.22661693e-02, -8.96917433e-02,\n",
       "        1.84531230e-02,  2.94868629e-02, -4.01453348e-03,  6.81727519e-03,\n",
       "       -4.18037027e-02,  5.97933866e-03,  2.40175705e-02,  1.30725894e-02,\n",
       "        5.43644167e-02,  4.93073650e-02, -1.33792320e-02, -5.82076199e-02,\n",
       "       -1.33885711e-04, -8.21836758e-03, -1.00371033e-01, -6.66821152e-02,\n",
       "       -2.98227579e-03,  2.31816643e-03, -7.91697055e-02,  8.18271264e-02,\n",
       "       -1.22604640e-02,  3.13697010e-02, -3.54411826e-02, -6.16596527e-02,\n",
       "       -7.36131892e-02,  2.66271294e-03,  1.50316190e-02,  8.63124505e-02,\n",
       "       -1.27819665e-02, -4.65113670e-04,  9.99336839e-02,  2.36269794e-02,\n",
       "        2.85032149e-02, -2.39585862e-02, -1.34559795e-02,  5.98240197e-02,\n",
       "        3.76943536e-02,  2.27906294e-02,  6.98288297e-03,  2.21686409e-04,\n",
       "       -1.03987359e-01, -1.21349227e-02,  6.20089658e-02, -2.85990741e-02,\n",
       "       -1.94684751e-02, -5.82360476e-03,  3.51661048e-03, -7.77326971e-02,\n",
       "        4.21184786e-02, -7.15722144e-02,  1.36874174e-03,  3.42736319e-02,\n",
       "       -2.72218212e-02, -4.73368131e-02, -1.06879892e-02,  3.58049162e-02,\n",
       "       -8.91858861e-02,  2.60748882e-02,  3.86999398e-02,  1.67481005e-02,\n",
       "        2.01394521e-02,  8.36652443e-02, -7.15392977e-02,  2.97514554e-02,\n",
       "       -9.87666473e-03,  7.92558715e-02, -5.63021973e-02, -5.52837327e-02,\n",
       "       -4.98169009e-03, -1.29752588e-02, -1.97623521e-02,  7.32831145e-03,\n",
       "        8.43113959e-02,  3.61940786e-02, -7.88132325e-02, -1.44678140e-02,\n",
       "       -2.66751274e-02,  3.39199267e-02, -5.24180122e-02, -2.77125612e-02,\n",
       "        4.97282622e-03,  2.54173949e-02,  3.37834954e-02, -7.22595528e-02,\n",
       "        5.01575842e-02,  2.64202640e-03, -4.73975167e-02, -2.36301706e-03,\n",
       "        7.29975849e-02, -1.75535597e-03,  1.03784185e-02, -2.55638566e-02,\n",
       "        4.56552906e-03, -1.74067989e-02, -3.05424258e-02,  9.50006954e-03,\n",
       "        8.54205415e-02, -8.24523717e-02, -3.34528573e-02,  2.51036435e-02,\n",
       "        5.80246374e-02,  9.53437109e-03, -3.75842266e-02, -4.65732664e-02,\n",
       "        6.61460459e-02, -2.10250486e-02,  3.63754034e-02,  6.35228902e-02,\n",
       "       -8.19747970e-02,  2.29934752e-02,  2.02210173e-02,  2.75273584e-02,\n",
       "        3.64436433e-02, -7.31215775e-02, -3.62080671e-02,  1.87835582e-02,\n",
       "       -4.12303023e-03,  3.55285220e-02,  7.76992142e-02, -3.02299056e-02,\n",
       "       -4.72399630e-02,  6.53172135e-02,  6.50181472e-02, -4.19978648e-02,\n",
       "        6.95761964e-02,  3.10726184e-02, -5.26838787e-02,  6.70398166e-03,\n",
       "       -4.51368392e-02,  7.23007619e-02,  2.88411621e-02,  5.05664460e-02,\n",
       "       -5.09636775e-02, -3.43450122e-02, -4.46873903e-02,  6.92550614e-02,\n",
       "        8.76517072e-02, -7.04949051e-02,  2.03228835e-02, -1.95637215e-02,\n",
       "       -2.83837467e-02, -3.82128209e-02,  8.73573869e-02,  2.89167035e-02,\n",
       "        1.50811719e-02,  5.28110974e-02,  1.07414993e-02, -3.86840962e-02,\n",
       "        3.02932039e-02,  6.52523860e-02,  2.90845148e-02,  2.58068405e-02,\n",
       "       -2.77998787e-03, -4.98970039e-02,  1.00405337e-02, -4.38098498e-02,\n",
       "       -7.92162716e-02,  3.95515673e-02, -4.11178879e-02,  2.22098231e-02,\n",
       "        3.81289311e-02,  6.43207952e-02,  6.45973906e-02, -4.21296470e-02,\n",
       "       -4.02943976e-02,  2.03786828e-02, -3.50172482e-02, -3.32128592e-02,\n",
       "       -3.36158611e-02, -5.64220035e-03, -3.40330079e-02, -1.66922603e-02,\n",
       "       -3.42381150e-02, -2.21421048e-02, -5.09428512e-03,  3.89679801e-03,\n",
       "       -1.87584795e-02,  2.58681402e-02,  3.86329293e-02,  1.96056105e-02,\n",
       "        1.87990330e-02,  3.29781659e-02,  2.23104507e-02, -2.89871655e-02,\n",
       "        7.74833839e-03,  3.04449871e-02,  9.35423970e-02, -1.61305943e-03,\n",
       "       -2.15044487e-02, -1.27668306e-02,  2.77295057e-02,  1.43310549e-02,\n",
       "        1.40520381e-02, -3.68831754e-02,  4.96107386e-03, -4.63144109e-02,\n",
       "       -8.49415064e-02, -4.24604565e-02,  1.81124527e-02, -2.54181959e-02,\n",
       "       -8.18183199e-02,  5.74652143e-02, -2.79064216e-02, -2.91893855e-02,\n",
       "       -1.70453507e-02,  2.95453928e-02,  5.86676225e-02,  8.69998056e-03,\n",
       "        5.31152524e-02, -1.14581399e-01,  3.14178295e-03,  4.54009809e-02,\n",
       "        4.09840941e-02,  2.46758247e-03, -2.37424560e-02, -1.14896357e-01,\n",
       "        4.06794585e-02,  1.64512321e-02, -6.89478219e-02,  4.86609153e-02,\n",
       "        7.34198689e-02,  5.10684699e-02,  1.40724098e-03,  5.08641526e-02,\n",
       "        3.70172076e-02,  4.76261824e-02,  1.85735077e-02, -4.57649119e-02,\n",
       "       -1.98226050e-02, -7.83931836e-02,  2.76499353e-02, -3.70589420e-02,\n",
       "       -4.40117531e-02, -4.65206951e-02, -4.71647037e-03, -1.50252050e-02,\n",
       "       -6.78820685e-02,  1.89422127e-02, -1.12629971e-02, -4.09871116e-02,\n",
       "        5.66534922e-02, -2.85628103e-02,  1.70579497e-02,  5.25482446e-02,\n",
       "       -4.35793353e-03,  2.01005079e-02, -1.99638251e-02,  1.71065200e-02,\n",
       "        3.50401290e-02,  1.66673250e-02,  4.75622043e-02,  5.02459100e-03,\n",
       "        5.72176948e-02,  4.48721088e-02, -1.53313344e-02,  1.23313889e-01,\n",
       "        4.11432497e-02,  1.94624845e-05, -6.74265772e-02,  4.90533281e-03,\n",
       "       -8.01758468e-03, -6.71361759e-02, -2.30695736e-02,  3.00356559e-02,\n",
       "        5.31847216e-02, -2.01559532e-03,  7.21020028e-02, -3.13162990e-02,\n",
       "        9.27366763e-02,  6.10989146e-02, -5.82841560e-02,  5.68408631e-02,\n",
       "       -1.40602970e-02,  1.44712208e-02,  6.60115033e-02,  5.92314862e-02,\n",
       "       -7.63476044e-02,  7.59996250e-02, -3.18283439e-02,  2.51672603e-02,\n",
       "        5.78828529e-02,  8.86383504e-02, -3.99290361e-02, -8.63856170e-03,\n",
       "        3.20469178e-02,  6.08575344e-02, -3.18994522e-02,  1.04983680e-01,\n",
       "        4.38399166e-02,  9.55217052e-03, -5.03145754e-02,  1.78150516e-02,\n",
       "        3.86610590e-02, -6.11698106e-02,  1.50449220e-02, -6.45228177e-02,\n",
       "       -1.62662007e-02, -3.06522124e-03,  1.93582997e-02,  6.78432360e-02,\n",
       "        8.95669044e-04, -5.20918379e-03, -7.81542808e-02, -3.37212123e-02],\n",
       "      dtype=float32)"
      ]
     },
     "execution_count": 16,
     "metadata": {},
     "output_type": "execute_result"
    }
   ],
   "source": [
    "%%time\n",
    "\n",
    "sess.run(y, feed_dict = {X: [y_], X_len: [len(y_)]})[0]"
   ]
  },
  {
   "cell_type": "code",
   "execution_count": 17,
   "metadata": {},
   "outputs": [
    {
     "name": "stderr",
     "output_type": "stream",
     "text": [
      " 28%|██▊       | 9982/36237 [39:33<1:49:35,  3.99it/s]IOPub message rate exceeded.\n",
      "The notebook server will temporarily stop sending output\n",
      "to the client in order to avoid crashing it.\n",
      "To change this limit, set the config variable\n",
      "`--NotebookApp.iopub_msg_rate_limit`.\n",
      "\n",
      "Current values:\n",
      "NotebookApp.iopub_msg_rate_limit=1000.0 (msgs/sec)\n",
      "NotebookApp.rate_limit_window=3.0 (secs)\n",
      "\n",
      " 50%|████▉     | 17975/36237 [1:10:30<1:09:22,  4.39it/s]IOPub message rate exceeded.\n",
      "The notebook server will temporarily stop sending output\n",
      "to the client in order to avoid crashing it.\n",
      "To change this limit, set the config variable\n",
      "`--NotebookApp.iopub_msg_rate_limit`.\n",
      "\n",
      "Current values:\n",
      "NotebookApp.iopub_msg_rate_limit=1000.0 (msgs/sec)\n",
      "NotebookApp.rate_limit_window=3.0 (secs)\n",
      "\n",
      " 67%|██████▋   | 24402/36237 [1:35:07<41:16,  4.78it/s]  IOPub message rate exceeded.\n",
      "The notebook server will temporarily stop sending output\n",
      "to the client in order to avoid crashing it.\n",
      "To change this limit, set the config variable\n",
      "`--NotebookApp.iopub_msg_rate_limit`.\n",
      "\n",
      "Current values:\n",
      "NotebookApp.iopub_msg_rate_limit=1000.0 (msgs/sec)\n",
      "NotebookApp.rate_limit_window=3.0 (secs)\n",
      "\n",
      " 85%|████████▌ | 30836/36237 [1:59:03<21:17,  4.23it/s]IOPub message rate exceeded.\n",
      "The notebook server will temporarily stop sending output\n",
      "to the client in order to avoid crashing it.\n",
      "To change this limit, set the config variable\n",
      "`--NotebookApp.iopub_msg_rate_limit`.\n",
      "\n",
      "Current values:\n",
      "NotebookApp.iopub_msg_rate_limit=1000.0 (msgs/sec)\n",
      "NotebookApp.rate_limit_window=3.0 (secs)\n",
      "\n",
      "100%|██████████| 36237/36237 [2:19:22<00:00,  4.33it/s]\n"
     ]
    }
   ],
   "source": [
    "vectors = {}\n",
    "for f in tqdm(unique_files):\n",
    "    y_, _ = malaya_speech.load(f)\n",
    "    v = sess.run(y, feed_dict = {X: [y_], X_len: [len(y_)]})[0]\n",
    "    # v = model.vectorize([y])[0]///\n",
    "    vectors[f] = v"
   ]
  },
  {
   "cell_type": "code",
   "execution_count": 18,
   "metadata": {},
   "outputs": [
    {
     "name": "stderr",
     "output_type": "stream",
     "text": [
      "100%|██████████| 5900000/5900000 [00:51<00:00, 114230.16it/s]\n"
     ]
    }
   ],
   "source": [
    "import numpy as np\n",
    "\n",
    "scores, ls = [], []\n",
    "\n",
    "for i in tqdm(range(len(labels))):\n",
    "    if labels[i][1] in vectors and labels[i][2] in vectors:\n",
    "        ls.append(labels[i][0])\n",
    "        scores.append(np.sum(vectors[labels[i][1]] * vectors[labels[i][2]]))"
   ]
  },
  {
   "cell_type": "code",
   "execution_count": 19,
   "metadata": {},
   "outputs": [
    {
     "data": {
      "text/plain": [
       "(5900000, 36237)"
      ]
     },
     "execution_count": 19,
     "metadata": {},
     "output_type": "execute_result"
    }
   ],
   "source": [
    "len(scores), len(vectors)"
   ]
  },
  {
   "cell_type": "code",
   "execution_count": 20,
   "metadata": {},
   "outputs": [],
   "source": [
    "def calculate_eer(y, y_score):\n",
    "    \n",
    "    from scipy.optimize import brentq\n",
    "    from sklearn.metrics import roc_curve\n",
    "    from scipy.interpolate import interp1d\n",
    "\n",
    "    fpr, tpr, thresholds = roc_curve(y, y_score, pos_label=1)\n",
    "    eer = brentq(lambda x : 1. - x - interp1d(fpr, tpr)(x), 0., 1.)\n",
    "    thresh = interp1d(fpr, thresholds)(eer)\n",
    "    return eer, thresh"
   ]
  },
  {
   "cell_type": "code",
   "execution_count": 21,
   "metadata": {},
   "outputs": [
    {
     "data": {
      "text/plain": [
       "(0.06906000000015512, array(0.46428116))"
      ]
     },
     "execution_count": 21,
     "metadata": {},
     "output_type": "execute_result"
    }
   ],
   "source": [
    "calculate_eer(ls, scores)"
   ]
  }
 ],
 "metadata": {
  "kernelspec": {
   "display_name": "Python 3",
   "language": "python",
   "name": "python3"
  },
  "language_info": {
   "codemirror_mode": {
    "name": "ipython",
    "version": 3
   },
   "file_extension": ".py",
   "mimetype": "text/x-python",
   "name": "python",
   "nbconvert_exporter": "python",
   "pygments_lexer": "ipython3",
   "version": "3.6.9"
  }
 },
 "nbformat": 4,
 "nbformat_minor": 2
}

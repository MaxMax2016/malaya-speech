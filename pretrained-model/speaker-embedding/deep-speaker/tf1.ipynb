{
 "cells": [
  {
   "cell_type": "code",
   "execution_count": 1,
   "metadata": {},
   "outputs": [],
   "source": [
    "from constants import NUM_FBANKS, NUM_FRAMES"
   ]
  },
  {
   "cell_type": "code",
   "execution_count": 8,
   "metadata": {},
   "outputs": [],
   "source": [
    "import numpy as np\n",
    "import tensorflow.keras.backend as K\n",
    "from tensorflow.keras import layers\n",
    "from tensorflow.keras import regularizers\n",
    "from tensorflow.keras.layers import BatchNormalization\n",
    "from tensorflow.keras.layers import Conv2D\n",
    "from tensorflow.keras.layers import Dropout\n",
    "from tensorflow.keras.layers import Input\n",
    "from tensorflow.keras.layers import Lambda, Dense\n",
    "from tensorflow.keras.layers import Reshape\n",
    "from tensorflow.keras.models import Model\n",
    "from tensorflow.keras.optimizers import Adam\n",
    "import tensorflow as tf"
   ]
  },
  {
   "cell_type": "code",
   "execution_count": 12,
   "metadata": {},
   "outputs": [],
   "source": [
    "class DeepSpeakerModel:\n",
    "\n",
    "    # I thought it was 3 but maybe energy is added at a 4th dimension.\n",
    "    # would be better to have 4 dimensions:\n",
    "    # MFCC, DIFF(MFCC), DIFF(DIFF(MFCC)), ENERGIES (probably tiled across the frequency domain).\n",
    "    # this seems to help match the parameter counts.\n",
    "    \n",
    "    def __init__(self):\n",
    "        self.clipped_relu_count = 0\n",
    "\n",
    "    def keras_model(self):\n",
    "        return self.m\n",
    "\n",
    "    def get_weights(self):\n",
    "        w = self.m.get_weights()\n",
    "        if self.include_softmax:\n",
    "            w.pop()  # last 2 are the W_softmax and b_softmax.\n",
    "            w.pop()\n",
    "        return w\n",
    "\n",
    "    def clipped_relu(self, inputs):\n",
    "        relu = Lambda(lambda y: K.minimum(K.maximum(y, 0), 20), name=f'clipped_relu_{self.clipped_relu_count}')(inputs)\n",
    "        self.clipped_relu_count += 1\n",
    "        return relu\n",
    "\n",
    "    def identity_block(self, input_tensor, kernel_size, filters, stage, block):\n",
    "        conv_name_base = f'res{stage}_{block}_branch'\n",
    "\n",
    "        x = Conv2D(filters,\n",
    "                   kernel_size=kernel_size,\n",
    "                   strides=1,\n",
    "                   activation=None,\n",
    "                   padding='same',\n",
    "                   kernel_initializer='glorot_uniform',\n",
    "                   kernel_regularizer=regularizers.l2(l=0.0001),\n",
    "                   name=conv_name_base + '_2a')(input_tensor)\n",
    "        x = BatchNormalization(name=conv_name_base + '_2a_bn')(x)\n",
    "        x = self.clipped_relu(x)\n",
    "\n",
    "        x = Conv2D(filters,\n",
    "                   kernel_size=kernel_size,\n",
    "                   strides=1,\n",
    "                   activation=None,\n",
    "                   padding='same',\n",
    "                   kernel_initializer='glorot_uniform',\n",
    "                   kernel_regularizer=regularizers.l2(l=0.0001),\n",
    "                   name=conv_name_base + '_2b')(x)\n",
    "        x = BatchNormalization(name=conv_name_base + '_2b_bn')(x)\n",
    "\n",
    "        x = self.clipped_relu(x)\n",
    "\n",
    "        x = layers.add([x, input_tensor])\n",
    "        x = self.clipped_relu(x)\n",
    "        return x\n",
    "\n",
    "    def conv_and_res_block(self, inp, filters, stage):\n",
    "        conv_name = 'conv{}-s'.format(filters)\n",
    "        # TODO: why kernel_regularizer?\n",
    "        o = Conv2D(filters,\n",
    "                   kernel_size=5,\n",
    "                   strides=2,\n",
    "                   activation=None,\n",
    "                   padding='same',\n",
    "                   kernel_initializer='glorot_uniform',\n",
    "                   kernel_regularizer=regularizers.l2(l=0.0001), name=conv_name)(inp)\n",
    "        o = BatchNormalization(name=conv_name + '_bn')(o)\n",
    "        o = self.clipped_relu(o)\n",
    "        for i in range(3):\n",
    "            o = self.identity_block(o, kernel_size=3, filters=filters, stage=stage, block=i)\n",
    "        return o\n",
    "\n",
    "    def cnn_component(self, inp):\n",
    "        x = self.conv_and_res_block(inp, 64, stage=1)\n",
    "        x = self.conv_and_res_block(x, 128, stage=2)\n",
    "        x = self.conv_and_res_block(x, 256, stage=3)\n",
    "        x = self.conv_and_res_block(x, 512, stage=4)\n",
    "        return x\n",
    "\n",
    "    def set_weights(self, w):\n",
    "        for layer, layer_w in zip(self.m.layers, w):\n",
    "            layer.set_weights(layer_w)\n",
    "            logger.info(f'Setting weights for [{layer.name}]...')\n",
    "            \n",
    "deepspeaker = DeepSpeakerModel()"
   ]
  },
  {
   "cell_type": "code",
   "execution_count": 13,
   "metadata": {},
   "outputs": [],
   "source": [
    "class Model:\n",
    "    def __init__(self):\n",
    "        self.X = tf.placeholder(tf.float32, (None, None, NUM_FBANKS, 1))\n",
    "        x = deepspeaker.cnn_component(self.X)\n",
    "        x = Reshape((-1, 2048))(x)\n",
    "        x = Lambda(lambda y: K.mean(y, axis=1), name='average')(x)\n",
    "        x = Dense(512, name='affine')(x)\n",
    "        x = Lambda(lambda y: K.l2_normalize(y, axis=1), name='ln')(x)\n",
    "        self.logits = x\n",
    "        print(self.logits)"
   ]
  },
  {
   "cell_type": "code",
   "execution_count": 14,
   "metadata": {},
   "outputs": [
    {
     "name": "stdout",
     "output_type": "stream",
     "text": [
      "Tensor(\"ln/l2_normalize:0\", shape=(?, 512), dtype=float32)\n"
     ]
    }
   ],
   "source": [
    "tf.reset_default_graph()\n",
    "sess = tf.InteractiveSession()\n",
    "model = Model()\n",
    "sess.run(tf.global_variables_initializer())\n",
    "var_lists = tf.get_collection(tf.GraphKeys.GLOBAL_VARIABLES)"
   ]
  },
  {
   "cell_type": "code",
   "execution_count": 15,
   "metadata": {},
   "outputs": [
    {
     "name": "stdout",
     "output_type": "stream",
     "text": [
      "INFO:tensorflow:Restoring parameters from out/vggvox.ckpt\n"
     ]
    }
   ],
   "source": [
    "saver = tf.train.Saver(var_list = var_lists)\n",
    "saver.restore(sess, 'out/vggvox.ckpt')"
   ]
  },
  {
   "cell_type": "code",
   "execution_count": 16,
   "metadata": {},
   "outputs": [
    {
     "data": {
      "text/plain": [
       "['khalil-nooh.wav',\n",
       " 'husein-zolkepli.wav',\n",
       " 'mas-aisyah.wav',\n",
       " 'shafiqah-idayu.wav']"
      ]
     },
     "execution_count": 16,
     "metadata": {},
     "output_type": "execute_result"
    }
   ],
   "source": [
    "from glob import glob\n",
    "\n",
    "wavs = glob('*.wav')\n",
    "wavs"
   ]
  },
  {
   "cell_type": "code",
   "execution_count": 18,
   "metadata": {},
   "outputs": [
    {
     "data": {
      "text/plain": [
       "(183, 64)"
      ]
     },
     "execution_count": 18,
     "metadata": {},
     "output_type": "execute_result"
    }
   ],
   "source": [
    "from audio import read_mfcc\n",
    "import numpy as np\n",
    "from constants import SAMPLE_RATE, NUM_FRAMES\n",
    "SAMPLE_RATE, NUM_FRAMES\n",
    "\n",
    "read_mfcc(wavs[0], SAMPLE_RATE).shape"
   ]
  },
  {
   "cell_type": "code",
   "execution_count": 19,
   "metadata": {},
   "outputs": [],
   "source": [
    "def f(file):\n",
    "    return np.array([np.expand_dims(read_mfcc(file, SAMPLE_RATE), -1)])"
   ]
  },
  {
   "cell_type": "code",
   "execution_count": 20,
   "metadata": {},
   "outputs": [],
   "source": [
    "mfccs = [f(file) for file in wavs]"
   ]
  },
  {
   "cell_type": "code",
   "execution_count": 23,
   "metadata": {},
   "outputs": [],
   "source": [
    "def pred(mfcc):\n",
    "    return sess.run(model.logits, feed_dict = {model.X: mfcc})"
   ]
  },
  {
   "cell_type": "code",
   "execution_count": 24,
   "metadata": {},
   "outputs": [],
   "source": [
    "r = [pred(mfcc) for mfcc in mfccs]"
   ]
  },
  {
   "cell_type": "code",
   "execution_count": 25,
   "metadata": {},
   "outputs": [
    {
     "data": {
      "text/plain": [
       "(4, 512)"
      ]
     },
     "execution_count": 25,
     "metadata": {},
     "output_type": "execute_result"
    }
   ],
   "source": [
    "r = np.concatenate(r)\n",
    "r.shape"
   ]
  },
  {
   "cell_type": "code",
   "execution_count": 28,
   "metadata": {},
   "outputs": [
    {
     "data": {
      "text/plain": [
       "array([[0.        , 0.66157947, 0.76123523, 0.76110501],\n",
       "       [0.66157947, 0.        , 0.80538329, 0.75902755],\n",
       "       [0.76123523, 0.80538329, 0.        , 0.678087  ],\n",
       "       [0.76110501, 0.75902755, 0.678087  , 0.        ]])"
      ]
     },
     "execution_count": 28,
     "metadata": {},
     "output_type": "execute_result"
    }
   ],
   "source": [
    "from scipy.spatial.distance import cdist\n",
    "\n",
    "cdist(r, r, metric='cosine')"
   ]
  },
  {
   "cell_type": "code",
   "execution_count": 29,
   "metadata": {},
   "outputs": [],
   "source": [
    "!tar -zcf deep-speaker.tar.gz out"
   ]
  }
 ],
 "metadata": {
  "kernelspec": {
   "display_name": "Python 3",
   "language": "python",
   "name": "python3"
  },
  "language_info": {
   "codemirror_mode": {
    "name": "ipython",
    "version": 3
   },
   "file_extension": ".py",
   "mimetype": "text/x-python",
   "name": "python",
   "nbconvert_exporter": "python",
   "pygments_lexer": "ipython3",
   "version": "3.6.9"
  }
 },
 "nbformat": 4,
 "nbformat_minor": 4
}

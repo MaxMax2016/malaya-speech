{
 "cells": [
  {
   "cell_type": "code",
   "execution_count": 3,
   "metadata": {},
   "outputs": [],
   "source": [
    "from collections import defaultdict\n",
    "from glob import glob\n",
    "import random\n",
    "\n",
    "speakers = defaultdict(list)\n",
    "\n",
    "files = glob('../voxceleb/wav/*.wav')\n",
    "random.shuffle(files)\n",
    "len(files)\n",
    "\n",
    "def get_id(file):\n",
    "    return file.split('/')[-1].split('-')[1]\n",
    "\n",
    "for no, file in enumerate(files):\n",
    "    speaker = get_id(file)\n",
    "    speakers[speaker].append(no)\n",
    "\n",
    "unique_speakers = sorted(list(speakers.keys()))"
   ]
  },
  {
   "cell_type": "code",
   "execution_count": 4,
   "metadata": {},
   "outputs": [],
   "source": [
    "import json\n",
    "\n",
    "with open('indices.json', 'w') as fopen:\n",
    "    json.dump({'files': files, 'speakers': speakers}, fopen)"
   ]
  }
 ],
 "metadata": {
  "kernelspec": {
   "display_name": "Python 3",
   "language": "python",
   "name": "python3"
  },
  "language_info": {
   "codemirror_mode": {
    "name": "ipython",
    "version": 3
   },
   "file_extension": ".py",
   "mimetype": "text/x-python",
   "name": "python",
   "nbconvert_exporter": "python",
   "pygments_lexer": "ipython3",
   "version": "3.6.8"
  }
 },
 "nbformat": 4,
 "nbformat_minor": 2
}

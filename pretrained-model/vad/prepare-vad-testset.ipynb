{
 "cells": [
  {
   "cell_type": "code",
   "execution_count": 1,
   "metadata": {},
   "outputs": [],
   "source": [
    "# !wget https://raw.githubusercontent.com/pyannote/AMI-diarization-setup/5182c80724f7a21d06aad4f373f2ae6d1da9d8ea/pyannote/download_ami.sh\n",
    "# !mkdir ami\n",
    "# !bash download_ami.sh ami"
   ]
  },
  {
   "cell_type": "code",
   "execution_count": 2,
   "metadata": {},
   "outputs": [
    {
     "name": "stderr",
     "output_type": "stream",
     "text": [
      "`pyaudio` is not available, `malaya_speech.streaming.pyaudio_vad.stream` is not able to use.\n"
     ]
    }
   ],
   "source": [
    "from glob import glob\n",
    "import numpy as np\n",
    "import malaya_speech\n",
    "import os\n",
    "import random"
   ]
  },
  {
   "cell_type": "code",
   "execution_count": 3,
   "metadata": {},
   "outputs": [
    {
     "data": {
      "text/plain": [
       "(171, 2)"
      ]
     },
     "execution_count": 3,
     "metadata": {},
     "output_type": "execute_result"
    }
   ],
   "source": [
    "ami = glob('ami/amicorpus/*/*/*.wav')\n",
    "ami = {os.path.split(f)[1].replace('.wav', ''): f for f in ami}\n",
    "rttm = glob('*.rttm')\n",
    "len(ami), len(rttm)"
   ]
  },
  {
   "cell_type": "code",
   "execution_count": 4,
   "metadata": {},
   "outputs": [],
   "source": [
    "file = rttm[0]\n",
    "annotations = malaya_speech.extra.rttm.load(file)"
   ]
  },
  {
   "cell_type": "code",
   "execution_count": 5,
   "metadata": {},
   "outputs": [],
   "source": [
    "from tqdm import tqdm"
   ]
  },
  {
   "cell_type": "code",
   "execution_count": 18,
   "metadata": {},
   "outputs": [
    {
     "name": "stdout",
     "output_type": "stream",
     "text": [
      "TS3003d.Mix-Headset\n"
     ]
    },
    {
     "name": "stderr",
     "output_type": "stream",
     "text": [
      "100%|███████████████████████████████████| 87273/87273 [00:42<00:00, 2071.46it/s]\n"
     ]
    }
   ],
   "source": [
    "labels = []\n",
    "for mix in random.sample(annotations.keys(), 10):\n",
    "    if mix not in ami:\n",
    "        continue\n",
    "    print(mix)\n",
    "    sample = annotations[mix]\n",
    "    y, sr = malaya_speech.load(ami[mix])\n",
    "    frames = malaya_speech.generator.frames(y, 30, sr, False)\n",
    "\n",
    "    for i in tqdm(range(len(frames))):\n",
    "        if len(sample.crop(frames[i].timestamp, frames[i].timestamp + frames[i].duration)._labelNeedsUpdate):\n",
    "            label = 1\n",
    "        else:\n",
    "            label = 0\n",
    "        labels.append({\n",
    "            'waveforms': frames[i].array,\n",
    "            'targets': label,\n",
    "        })\n",
    "    break"
   ]
  },
  {
   "cell_type": "code",
   "execution_count": 19,
   "metadata": {},
   "outputs": [
    {
     "data": {
      "text/plain": [
       "87273"
      ]
     },
     "execution_count": 19,
     "metadata": {},
     "output_type": "execute_result"
    }
   ],
   "source": [
    "len(labels)"
   ]
  },
  {
   "cell_type": "code",
   "execution_count": 21,
   "metadata": {},
   "outputs": [],
   "source": [
    "import pickle\n",
    "\n",
    "with open('vad-test.pkl', 'wb') as fopen:\n",
    "    pickle.dump(labels, fopen)"
   ]
  }
 ],
 "metadata": {
  "kernelspec": {
   "display_name": "Python 3 (ipykernel)",
   "language": "python",
   "name": "python3"
  },
  "language_info": {
   "codemirror_mode": {
    "name": "ipython",
    "version": 3
   },
   "file_extension": ".py",
   "mimetype": "text/x-python",
   "name": "python",
   "nbconvert_exporter": "python",
   "pygments_lexer": "ipython3",
   "version": "3.8.10"
  }
 },
 "nbformat": 4,
 "nbformat_minor": 4
}

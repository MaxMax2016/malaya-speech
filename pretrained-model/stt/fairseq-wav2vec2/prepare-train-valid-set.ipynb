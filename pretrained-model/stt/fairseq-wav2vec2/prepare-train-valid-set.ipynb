{
 "cells": [
  {
   "cell_type": "code",
   "execution_count": 1,
   "metadata": {},
   "outputs": [],
   "source": [
    "import glob\n",
    "import os\n",
    "import random\n",
    "import soundfile\n",
    "from tqdm import tqdm"
   ]
  },
  {
   "cell_type": "code",
   "execution_count": 2,
   "metadata": {},
   "outputs": [],
   "source": [
    "seed = 42\n",
    "valid_percent = 0.01\n",
    "dest = 'wav2vec2-malay'\n",
    "os.makedirs(dest, exist_ok = True)"
   ]
  },
  {
   "cell_type": "code",
   "execution_count": 3,
   "metadata": {},
   "outputs": [],
   "source": [
    "rand = random.Random(seed)"
   ]
  },
  {
   "cell_type": "code",
   "execution_count": 4,
   "metadata": {},
   "outputs": [
    {
     "data": {
      "text/plain": [
       "1612455"
      ]
     },
     "execution_count": 4,
     "metadata": {},
     "output_type": "execute_result"
    }
   ],
   "source": [
    "with open('malay-audio.txt') as fopen:\n",
    "    files = fopen.read().split('\\n')\n",
    "    \n",
    "files = [f for f in files if f.endswith('.wav')]\n",
    "len(files)"
   ]
  },
  {
   "cell_type": "code",
   "execution_count": 5,
   "metadata": {},
   "outputs": [
    {
     "name": "stderr",
     "output_type": "stream",
     "text": [
      "100%|███████████████████████████████████████████████████████████████████████████████████| 1612455/1612455 [26:41<00:00, 1006.67it/s]\n"
     ]
    }
   ],
   "source": [
    "dir_path = ''\n",
    "\n",
    "valid_f = (\n",
    "    open(os.path.join(dest, \"valid.tsv\"), \"w\")\n",
    "    if valid_percent > 0\n",
    "    else None\n",
    ")\n",
    "\n",
    "with open(os.path.join(dest, \"train.tsv\"), \"w\") as train_f:\n",
    "    print(dir_path, file=train_f)\n",
    "\n",
    "    if valid_f is not None:\n",
    "        print(dir_path, file=valid_f)\n",
    "\n",
    "    for fname in tqdm(files):\n",
    "        file_path = os.path.realpath(fname)\n",
    "        s = soundfile.info(fname)\n",
    "\n",
    "        frames = s.frames\n",
    "        sr = s.samplerate\n",
    "        if sr != 16000:\n",
    "            continue\n",
    "        dest = train_f if rand.random() > valid_percent else valid_f\n",
    "        print(\n",
    "            \"{}\\t{}\".format(file_path, frames), file=dest\n",
    "        )\n",
    "if valid_f is not None:\n",
    "    valid_f.close()"
   ]
  },
  {
   "cell_type": "code",
   "execution_count": null,
   "metadata": {},
   "outputs": [],
   "source": [
    "011-1000-1000"
   ]
  }
 ],
 "metadata": {
  "kernelspec": {
   "display_name": "Python 3 (ipykernel)",
   "language": "python",
   "name": "python3"
  },
  "language_info": {
   "codemirror_mode": {
    "name": "ipython",
    "version": 3
   },
   "file_extension": ".py",
   "mimetype": "text/x-python",
   "name": "python",
   "nbconvert_exporter": "python",
   "pygments_lexer": "ipython3",
   "version": "3.8.10"
  }
 },
 "nbformat": 4,
 "nbformat_minor": 4
}

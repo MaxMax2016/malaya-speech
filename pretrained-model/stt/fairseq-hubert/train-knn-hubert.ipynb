{
 "cells": [
  {
   "cell_type": "code",
   "execution_count": 1,
   "metadata": {},
   "outputs": [],
   "source": [
    "import numpy as np\n",
    "from sklearn.cluster import MiniBatchKMeans\n",
    "from sklearn.utils.extmath import row_norms, stable_cumsum\n",
    "\n",
    "import joblib"
   ]
  },
  {
   "cell_type": "code",
   "execution_count": 2,
   "metadata": {},
   "outputs": [
    {
     "name": "stdout",
     "output_type": "stream",
     "text": [
      "train_0_1.len  train_0_1.npy  valid_0_1.len  valid_0_1.npy\r\n"
     ]
    }
   ],
   "source": [
    "!ls /home/husein/ssd1/mfcc"
   ]
  },
  {
   "cell_type": "code",
   "execution_count": 3,
   "metadata": {},
   "outputs": [
    {
     "data": {
      "text/plain": [
       "(945862258, 39)"
      ]
     },
     "execution_count": 3,
     "metadata": {},
     "output_type": "execute_result"
    }
   ],
   "source": [
    "feat = np.load('/home/husein/ssd1/mfcc/train_0_1.npy', mmap_mode=\"r\")\n",
    "feat.shape"
   ]
  },
  {
   "cell_type": "code",
   "execution_count": 4,
   "metadata": {},
   "outputs": [],
   "source": [
    "def get_km_model(\n",
    "    n_clusters,\n",
    "    init,\n",
    "    max_iter,\n",
    "    batch_size,\n",
    "    tol,\n",
    "    max_no_improvement,\n",
    "    n_init,\n",
    "    reassignment_ratio,\n",
    "):\n",
    "    return MiniBatchKMeans(\n",
    "        n_clusters=n_clusters,\n",
    "        init=init,\n",
    "        max_iter=max_iter,\n",
    "        batch_size=batch_size,\n",
    "        verbose=1,\n",
    "        compute_labels=False,\n",
    "        tol=tol,\n",
    "        max_no_improvement=max_no_improvement,\n",
    "        init_size=None,\n",
    "        n_init=n_init,\n",
    "        reassignment_ratio=reassignment_ratio,\n",
    "    )"
   ]
  },
  {
   "cell_type": "code",
   "execution_count": 5,
   "metadata": {},
   "outputs": [],
   "source": [
    "n_clusters = 100\n",
    "init = 'k-means++'\n",
    "max_iter = 10\n",
    "batch_size = 10000\n",
    "tol = 0.0\n",
    "max_no_improvement = 5\n",
    "n_init = 20\n",
    "reassignment_ratio = 0.0"
   ]
  },
  {
   "cell_type": "code",
   "execution_count": 6,
   "metadata": {},
   "outputs": [],
   "source": [
    "km_model = get_km_model(\n",
    "    n_clusters,\n",
    "    init,\n",
    "    max_iter,\n",
    "    batch_size,\n",
    "    tol,\n",
    "    max_no_improvement,\n",
    "    n_init,\n",
    "    reassignment_ratio,\n",
    ")"
   ]
  },
  {
   "cell_type": "code",
   "execution_count": 7,
   "metadata": {},
   "outputs": [],
   "source": [
    "# km_model = get_km_model(\n",
    "#     n_clusters,\n",
    "#     init,\n",
    "#     max_iter,\n",
    "#     batch_size,\n",
    "#     tol,\n",
    "#     max_no_improvement,\n",
    "#     n_init,\n",
    "#     reassignment_ratio,\n",
    "# )\n",
    "# km_model.fit(feat)"
   ]
  },
  {
   "cell_type": "code",
   "execution_count": 8,
   "metadata": {},
   "outputs": [],
   "source": [
    "# %%time\n",
    "\n",
    "# x_squared_norms = row_norms(feat, squared=True)"
   ]
  },
  {
   "cell_type": "code",
   "execution_count": 9,
   "metadata": {
    "scrolled": true
   },
   "outputs": [
    {
     "name": "stderr",
     "output_type": "stream",
     "text": [
      "100%|██████████████████████████████████████████████████████████████████████████████████████████████| 94587/94587 [5:21:26<00:00,  4.90it/s]\n"
     ]
    }
   ],
   "source": [
    "from tqdm import tqdm\n",
    "\n",
    "batch_size = 10000\n",
    "for i in tqdm(range(0, feat.shape[0], batch_size)):\n",
    "    km_model.partial_fit(feat[i:i + batch_size])"
   ]
  },
  {
   "cell_type": "code",
   "execution_count": 14,
   "metadata": {},
   "outputs": [
    {
     "data": {
      "text/plain": [
       "['train-partial-fit.km']"
      ]
     },
     "execution_count": 14,
     "metadata": {},
     "output_type": "execute_result"
    }
   ],
   "source": [
    "joblib.dump(km_model, 'train-partial-fit.km')"
   ]
  },
  {
   "cell_type": "code",
   "execution_count": 12,
   "metadata": {},
   "outputs": [
    {
     "data": {
      "text/plain": [
       "array([18, 31, 31, 31, 33,  9, 47, 47, 47, 47, 47, 47,  9,  9, 12, 12, 12,\n",
       "       12, 12, 65,  0, 19,  9,  9,  9, 65, 12, 75, 75, 33, 93, 93, 19,  0,\n",
       "        0, 99, 99, 99, 67, 99, 76, 51, 51, 37, 76, 67, 27, 27, 67, 21, 27,\n",
       "       76, 76, 77, 99,  7, 75, 75, 76,  0,  0, 27,  0,  9, 91, 91, 31, 31,\n",
       "       31, 31, 31, 31, 31, 31, 31, 31, 31, 31, 31, 33, 33,  9,  9,  9,  9,\n",
       "        9,  9,  8,  8, 33, 89, 21, 21, 21,  9, 47, 47, 33, 31, 31],\n",
       "      dtype=int32)"
      ]
     },
     "execution_count": 12,
     "metadata": {},
     "output_type": "execute_result"
    }
   ],
   "source": [
    "km_model.predict(feat[:100])"
   ]
  },
  {
   "cell_type": "code",
   "execution_count": 13,
   "metadata": {},
   "outputs": [
    {
     "data": {
      "text/plain": [
       "array([18, 31, 31, 31, 33,  9, 47, 47, 47, 47, 47, 47,  9,  9, 12, 12, 12,\n",
       "       12, 12, 65,  0, 19,  9,  9,  9, 65, 12, 75, 75, 33, 93, 93, 19,  0,\n",
       "        0, 99, 99, 99, 67, 99, 76, 51, 51, 37, 76, 67, 27, 27, 67, 21, 27,\n",
       "       76, 76, 77, 99,  7, 75, 75, 76,  0,  0, 27,  0,  9, 91, 91, 31, 31,\n",
       "       31, 31, 31, 31, 31, 31, 31, 31, 31, 31, 31, 33, 33,  9,  9,  9,  9,\n",
       "        9,  9,  8,  8, 33, 89, 21, 21, 21,  9, 47, 47, 33, 31, 31],\n",
       "      dtype=int32)"
      ]
     },
     "execution_count": 13,
     "metadata": {},
     "output_type": "execute_result"
    }
   ],
   "source": [
    "km_model.predict(feat[:100])"
   ]
  },
  {
   "cell_type": "code",
   "execution_count": null,
   "metadata": {},
   "outputs": [],
   "source": []
  }
 ],
 "metadata": {
  "kernelspec": {
   "display_name": "Python 3 (ipykernel)",
   "language": "python",
   "name": "python3"
  },
  "language_info": {
   "codemirror_mode": {
    "name": "ipython",
    "version": 3
   },
   "file_extension": ".py",
   "mimetype": "text/x-python",
   "name": "python",
   "nbconvert_exporter": "python",
   "pygments_lexer": "ipython3",
   "version": "3.8.10"
  }
 },
 "nbformat": 4,
 "nbformat_minor": 4
}

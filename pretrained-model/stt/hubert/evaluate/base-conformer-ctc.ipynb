{
 "cells": [
  {
   "cell_type": "code",
   "execution_count": 1,
   "metadata": {},
   "outputs": [],
   "source": [
    "import os\n",
    "\n",
    "os.environ['CUDA_VISIBLE_DEVICES'] = ''"
   ]
  },
  {
   "cell_type": "code",
   "execution_count": 2,
   "metadata": {},
   "outputs": [],
   "source": [
    "from malaya_speech.train.model import hubert, ctc\n",
    "from malaya_speech.train.model.conformer.model import Model as ConformerModel\n",
    "import malaya_speech\n",
    "import tensorflow as tf\n",
    "import numpy as np\n",
    "import json\n",
    "from glob import glob\n",
    "import string"
   ]
  },
  {
   "cell_type": "code",
   "execution_count": 3,
   "metadata": {},
   "outputs": [
    {
     "data": {
      "text/plain": [
       "38"
      ]
     },
     "execution_count": 3,
     "metadata": {},
     "output_type": "execute_result"
    }
   ],
   "source": [
    "unique_vocab = [''] + list(\n",
    "    string.ascii_lowercase + string.digits\n",
    ") + [' ']\n",
    "len(unique_vocab)"
   ]
  },
  {
   "cell_type": "code",
   "execution_count": 4,
   "metadata": {},
   "outputs": [],
   "source": [
    "# !wget https://f000.backblazeb2.com/file/malaya-speech-model/language-model/dump-combined/model.trie.klm\n",
    "# !wget https://f000.backblazeb2.com/file/malaya-speech-model/ctc-decoder/ctc_decoders-1.0-cp36-cp36m-linux_x86_64.whl\n",
    "# !pip3 install ctc_decoders-1.0-cp36-cp36m-linux_x86_64.whl "
   ]
  },
  {
   "cell_type": "code",
   "execution_count": 5,
   "metadata": {},
   "outputs": [],
   "source": [
    "from ctc_decoders import Scorer\n",
    "from ctc_decoders import ctc_beam_search_decoder"
   ]
  },
  {
   "cell_type": "code",
   "execution_count": 6,
   "metadata": {},
   "outputs": [],
   "source": [
    "n_mels = 80\n",
    "sr = 16000\n",
    "maxlen = 18\n",
    "minlen_text = 1\n",
    "\n",
    "def mp3_to_wav(file, sr = sr):\n",
    "    audio = AudioSegment.from_file(file)\n",
    "    audio = audio.set_frame_rate(sr).set_channels(1)\n",
    "    sample = np.array(audio.get_array_of_samples())\n",
    "    return malaya_speech.astype.int_to_float(sample), sr\n",
    "\n",
    "\n",
    "def generate(file):\n",
    "    with open(file) as fopen:\n",
    "        dataset = json.load(fopen)\n",
    "    audios, cleaned_texts = dataset['X'], dataset['Y']\n",
    "    for i in range(len(audios)):\n",
    "        try:\n",
    "            if audios[i].endswith('.mp3'):\n",
    "                # print('found mp3', audios[i])\n",
    "                wav_data, _ = mp3_to_wav(audios[i])\n",
    "            else:\n",
    "                wav_data, _ = malaya_speech.load(audios[i], sr = sr)\n",
    "\n",
    "            if (len(wav_data) / sr) > maxlen:\n",
    "                # print(f'skipped audio too long {audios[i]}')\n",
    "                continue\n",
    "\n",
    "            if len(cleaned_texts[i]) < minlen_text:\n",
    "                # print(f'skipped text too short {audios[i]}')\n",
    "                continue\n",
    "\n",
    "            t = [unique_vocab.index(c) for c in cleaned_texts[i]]\n",
    "\n",
    "            yield {\n",
    "                    'waveforms': wav_data,\n",
    "                    'waveforms_length': [len(wav_data)],\n",
    "                    'targets': t,\n",
    "                    'targets_length': [len(t)],\n",
    "                }\n",
    "        except Exception as e:\n",
    "            print(e)\n",
    "\n",
    "\n",
    "def get_dataset(\n",
    "    file,\n",
    "    batch_size = 2,\n",
    "    shuffle_size = 20,\n",
    "    thread_count = 24,\n",
    "    maxlen_feature = 1800,\n",
    "):\n",
    "    def get():\n",
    "        dataset = tf.data.Dataset.from_generator(\n",
    "            generate,\n",
    "            {\n",
    "                'waveforms': tf.float32,\n",
    "                'waveforms_length': tf.int32,\n",
    "                'targets': tf.int32,\n",
    "                'targets_length': tf.int32,\n",
    "            },\n",
    "            output_shapes = {\n",
    "                'waveforms': tf.TensorShape([None]),\n",
    "                'waveforms_length': tf.TensorShape([None]),\n",
    "                'targets': tf.TensorShape([None]),\n",
    "                'targets_length': tf.TensorShape([None]),\n",
    "            },\n",
    "            args = (file,),\n",
    "        )\n",
    "        dataset = dataset.prefetch(tf.contrib.data.AUTOTUNE)\n",
    "        dataset = dataset.padded_batch(\n",
    "            batch_size,\n",
    "            padded_shapes = {\n",
    "                'waveforms': tf.TensorShape([None]),\n",
    "                'waveforms_length': tf.TensorShape([None]),\n",
    "                'targets': tf.TensorShape([None]),\n",
    "                'targets_length': tf.TensorShape([None]),\n",
    "            },\n",
    "            padding_values = {\n",
    "                'waveforms': tf.constant(0, dtype = tf.float32),\n",
    "                'waveforms_length': tf.constant(0, dtype = tf.int32),\n",
    "                'targets': tf.constant(0, dtype = tf.int32),\n",
    "                'targets_length': tf.constant(0, dtype = tf.int32),\n",
    "            },\n",
    "        )\n",
    "        return dataset\n",
    "\n",
    "    return get"
   ]
  },
  {
   "cell_type": "code",
   "execution_count": 7,
   "metadata": {},
   "outputs": [
    {
     "name": "stdout",
     "output_type": "stream",
     "text": [
      "WARNING:tensorflow:\n",
      "The TensorFlow contrib module will not be included in TensorFlow 2.0.\n",
      "For more information, please see:\n",
      "  * https://github.com/tensorflow/community/blob/master/rfcs/20180907-contrib-sunset.md\n",
      "  * https://github.com/tensorflow/addons\n",
      "  * https://github.com/tensorflow/io (for I/O related ops)\n",
      "If you depend on functionality not listed there, please file an issue.\n",
      "\n",
      "WARNING:tensorflow:From <ipython-input-7-46e0896f9ad9>:2: DatasetV1.make_one_shot_iterator (from tensorflow.python.data.ops.dataset_ops) is deprecated and will be removed in a future version.\n",
      "Instructions for updating:\n",
      "Use `for ... in dataset:` to iterate over a dataset. If using `tf.estimator`, return the `Dataset` object directly from your input function. As a last resort, you can use `tf.compat.v1.data.make_one_shot_iterator(dataset)`.\n"
     ]
    },
    {
     "data": {
      "text/plain": [
       "{'waveforms': <tf.Tensor 'IteratorGetNext:2' shape=(?, ?) dtype=float32>,\n",
       " 'waveforms_length': <tf.Tensor 'IteratorGetNext:3' shape=(?, ?) dtype=int32>,\n",
       " 'targets': <tf.Tensor 'IteratorGetNext:0' shape=(?, ?) dtype=int32>,\n",
       " 'targets_length': <tf.Tensor 'IteratorGetNext:1' shape=(?, ?) dtype=int32>}"
      ]
     },
     "execution_count": 7,
     "metadata": {},
     "output_type": "execute_result"
    }
   ],
   "source": [
    "dev_dataset = get_dataset('bahasa-asr-test.json')()\n",
    "features = dev_dataset.make_one_shot_iterator().get_next()\n",
    "features"
   ]
  },
  {
   "cell_type": "code",
   "execution_count": 8,
   "metadata": {},
   "outputs": [],
   "source": [
    "training = True"
   ]
  },
  {
   "cell_type": "code",
   "execution_count": 9,
   "metadata": {},
   "outputs": [],
   "source": [
    "class Encoder:\n",
    "    def __init__(self, config):\n",
    "        self.config = config\n",
    "        self.encoder = ConformerModel(**self.config)\n",
    "\n",
    "    def __call__(self, x, input_mask, training = True):\n",
    "        return self.encoder(x, training = training)"
   ]
  },
  {
   "cell_type": "code",
   "execution_count": 10,
   "metadata": {},
   "outputs": [
    {
     "name": "stdout",
     "output_type": "stream",
     "text": [
      "WARNING:tensorflow:From /home/husein/malaya-speech/malaya_speech/train/model/hubert/model.py:59: The name tf.get_variable is deprecated. Please use tf.compat.v1.get_variable instead.\n",
      "\n",
      "WARNING:tensorflow:From /home/husein/.local/lib/python3.6/site-packages/tensorflow_core/python/ops/resource_variable_ops.py:1630: calling BaseResourceVariable.__init__ (from tensorflow.python.ops.resource_variable_ops) with constraint is deprecated and will be removed in a future version.\n",
      "Instructions for updating:\n",
      "If using Keras pass *_constraint arguments to layers.\n",
      "WARNING:tensorflow:From <ipython-input-10-b1e56ba7ab2c>:18: dense (from tensorflow.python.layers.core) is deprecated and will be removed in a future version.\n",
      "Instructions for updating:\n",
      "Use keras.layers.Dense instead.\n",
      "WARNING:tensorflow:From /home/husein/.local/lib/python3.6/site-packages/tensorflow_core/python/layers/core.py:187: Layer.apply (from tensorflow.python.keras.engine.base_layer) is deprecated and will be removed in a future version.\n",
      "Instructions for updating:\n",
      "Please use `layer.__call__` method instead.\n"
     ]
    }
   ],
   "source": [
    "config_conformer = malaya_speech.config.conformer_base_encoder_config\n",
    "config_conformer['subsampling']['type'] = 'none'\n",
    "config_conformer['dropout'] = 0.0\n",
    "encoder = Encoder(config_conformer)\n",
    "cfg = hubert.HuBERTConfig(\n",
    "    extractor_mode='layer_norm',\n",
    "    dropout=0.0,\n",
    "    attention_dropout=0.0,\n",
    "    encoder_layerdrop=0.0,\n",
    "    dropout_input=0.0,\n",
    "    dropout_features=0.0,\n",
    "    final_dim=256,\n",
    ")\n",
    "model = hubert.Model(cfg, encoder, ['pad', 'eos', 'unk'] + [str(i) for i in range(100)])\n",
    "X = features['waveforms']\n",
    "X_len = features['waveforms_length'][:, 0]\n",
    "r = model(X, padding_mask = X_len, features_only = True, mask = False)\n",
    "logits = tf.layers.dense(r['x'], len(unique_vocab) + 1)\n",
    "log_probs = tf.nn.log_softmax(logits)\n",
    "seq_lens = tf.reduce_sum(\n",
    "    tf.cast(tf.logical_not(r['padding_mask']), tf.int32), axis = 1\n",
    ")"
   ]
  },
  {
   "cell_type": "code",
   "execution_count": 11,
   "metadata": {},
   "outputs": [],
   "source": [
    "logits = tf.transpose(logits, [1, 0, 2])\n",
    "logits = tf.identity(logits, name = 'logits')\n",
    "seq_lens = tf.identity(seq_lens, name = 'seq_lens')"
   ]
  },
  {
   "cell_type": "code",
   "execution_count": 12,
   "metadata": {},
   "outputs": [],
   "source": [
    "# decoded = tf.nn.ctc_beam_search_decoder(\n",
    "#     logits,\n",
    "#     seq_lens,\n",
    "#     beam_width = beam_size,\n",
    "#     top_paths = 1,\n",
    "#     merge_repeated = True)[0][0]\n",
    "# decoded._indices, decoded._values"
   ]
  },
  {
   "cell_type": "code",
   "execution_count": 13,
   "metadata": {},
   "outputs": [
    {
     "data": {
      "text/plain": [
       "(<tf.Tensor 'logits:0' shape=(?, ?, 39) dtype=float32>,\n",
       " <tf.Tensor 'seq_lens:0' shape=(?,) dtype=int32>,\n",
       " <tf.Tensor 'LogSoftmax:0' shape=(?, ?, 39) dtype=float32>)"
      ]
     },
     "execution_count": 13,
     "metadata": {},
     "output_type": "execute_result"
    }
   ],
   "source": [
    "logits, seq_lens, log_probs"
   ]
  },
  {
   "cell_type": "code",
   "execution_count": 14,
   "metadata": {},
   "outputs": [
    {
     "name": "stdout",
     "output_type": "stream",
     "text": [
      "WARNING:tensorflow:From <ipython-input-14-eb95b5c33627>:2: to_int32 (from tensorflow.python.ops.math_ops) is deprecated and will be removed in a future version.\n",
      "Instructions for updating:\n",
      "Use `tf.cast` instead.\n"
     ]
    },
    {
     "data": {
      "text/plain": [
       "(<tf.Tensor 'preds:0' shape=(?, ?) dtype=int32>,\n",
       " <tf.Tensor 'log_probs:0' shape=(?, ?, 39) dtype=float32>)"
      ]
     },
     "execution_count": 14,
     "metadata": {},
     "output_type": "execute_result"
    }
   ],
   "source": [
    "decoded = tf.nn.ctc_beam_search_decoder(logits, seq_lens, beam_width=10, top_paths=1, merge_repeated=True)\n",
    "preds = tf.sparse.to_dense(tf.to_int32(decoded[0][0]))\n",
    "preds = tf.identity(preds, 'preds')\n",
    "log_probs = tf.identity(log_probs, 'log_probs')\n",
    "preds, log_probs"
   ]
  },
  {
   "cell_type": "code",
   "execution_count": 15,
   "metadata": {
    "scrolled": true
   },
   "outputs": [
    {
     "name": "stdout",
     "output_type": "stream",
     "text": [
      "INFO:tensorflow:Restoring parameters from hubert-conformer-base-ctc-char/model.ckpt-2000000\n"
     ]
    }
   ],
   "source": [
    "sess = tf.Session()\n",
    "sess.run(tf.global_variables_initializer())\n",
    "var_list = tf.get_collection(tf.GraphKeys.GLOBAL_VARIABLES)\n",
    "saver = tf.train.Saver(var_list = var_list)\n",
    "saver.restore(sess, 'hubert-conformer-base-ctc-char/model.ckpt-2000000')"
   ]
  },
  {
   "cell_type": "code",
   "execution_count": 16,
   "metadata": {},
   "outputs": [],
   "source": [
    "import six\n",
    "import string\n",
    "from typing import List\n",
    "\n",
    "def decode(ids, lookup: List[str] = None):\n",
    "    \"\"\"\n",
    "    Decode integer representation to string based on ascii table or lookup variable.\n",
    "\n",
    "    Parameters\n",
    "    -----------\n",
    "    ids: List[int]\n",
    "    lookup: List[str], optional (default=None)\n",
    "        list of unique strings.\n",
    "\n",
    "    Returns\n",
    "    --------\n",
    "    result: str\n",
    "    \"\"\"\n",
    "    decoded_ids = []\n",
    "    int2byte = six.int2byte\n",
    "    for id_ in ids:\n",
    "        if lookup:\n",
    "            decoded_ids.append(lookup[id_])\n",
    "        else:\n",
    "            decoded_ids.append(\n",
    "                int2byte(id_ - NUM_RESERVED_TOKENS).decode('utf-8')\n",
    "            )\n",
    "\n",
    "    return ''.join(decoded_ids)"
   ]
  },
  {
   "cell_type": "code",
   "execution_count": 17,
   "metadata": {
    "scrolled": true
   },
   "outputs": [],
   "source": [
    "# %%time\n",
    "\n",
    "# kenlm_model = kenlm.Model('model.trie.klm')\n",
    "# decoder = build_ctcdecoder(\n",
    "#     unique_vocab + ['_'],\n",
    "#     kenlm_model,\n",
    "#     alpha=0.1,\n",
    "#     beta=3.0,\n",
    "#     ctc_token_idx=len(unique_vocab)\n",
    "# )"
   ]
  },
  {
   "cell_type": "code",
   "execution_count": 18,
   "metadata": {},
   "outputs": [
    {
     "name": "stdout",
     "output_type": "stream",
     "text": [
      "CPU times: user 6.69 ms, sys: 19.8 ms, total: 26.5 ms\n",
      "Wall time: 27.6 ms\n"
     ]
    }
   ],
   "source": [
    "%%time\n",
    "\n",
    "from pyctcdecode import build_ctcdecoder\n",
    "import kenlm\n",
    "\n",
    "kenlm_model = kenlm.Model('out.trie.klm')\n",
    "decoder = build_ctcdecoder(\n",
    "    unique_vocab + ['_'],\n",
    "    kenlm_model,\n",
    "    alpha=0.2,\n",
    "    beta=1.0,\n",
    "    ctc_token_idx=len(unique_vocab)\n",
    ")"
   ]
  },
  {
   "cell_type": "code",
   "execution_count": 19,
   "metadata": {},
   "outputs": [],
   "source": [
    "scorer = Scorer(0.5, 1.0, 'out.trie.klm', unique_vocab)"
   ]
  },
  {
   "cell_type": "code",
   "execution_count": 20,
   "metadata": {},
   "outputs": [],
   "source": [
    "logits_t = tf.nn.softmax(tf.transpose(logits, [1, 0, 2]))"
   ]
  },
  {
   "cell_type": "code",
   "execution_count": 21,
   "metadata": {},
   "outputs": [],
   "source": [
    "# r = sess.run([preds, logits_t, seq_lens, features['targets']])\n",
    "# out = decoder2.decode_beams(r[1][1,:r[2][1]], \n",
    "#                            prune_history=True)\n",
    "# text, lm_state, timesteps, logit_score, lm_score = out[0]\n",
    "\n",
    "# text, ctc_beam_search_decoder(r[1][1,:r[2][1]], unique_vocab, 20, ext_scoring_func = scorer)[0][1]"
   ]
  },
  {
   "cell_type": "code",
   "execution_count": 22,
   "metadata": {},
   "outputs": [],
   "source": [
    "# out = decoder.decode_beams(np.pad(r[1][:,0], [[0,0], [1,0]], constant_values = -13.0), \n",
    "#                            prune_history=True)\n",
    "# text, lm_state, timesteps, logit_score, lm_score = out[0]\n",
    "# text"
   ]
  },
  {
   "cell_type": "code",
   "execution_count": 23,
   "metadata": {},
   "outputs": [],
   "source": [
    "# out = decoder2.decode_beams(np.pad(r[1][:,0], [[0,0], [1,0]], constant_values = -13.0), \n",
    "#                            prune_history=True)\n",
    "# text, lm_state, timesteps, logit_score, lm_score = out[0]\n",
    "# text"
   ]
  },
  {
   "cell_type": "code",
   "execution_count": 24,
   "metadata": {},
   "outputs": [],
   "source": [
    "# decode(r[0][1], unique_vocab), decode(r[-1][1], unique_vocab)"
   ]
  },
  {
   "cell_type": "code",
   "execution_count": 25,
   "metadata": {},
   "outputs": [],
   "source": [
    "# %%time\n",
    "\n",
    "# ctc_beam_search_decoder(r[1][0,:r[2][0]], unique_vocab, 20, ext_scoring_func = scorer)[0][1]"
   ]
  },
  {
   "cell_type": "code",
   "execution_count": 26,
   "metadata": {
    "scrolled": true
   },
   "outputs": [],
   "source": [
    "# %%time\n",
    "\n",
    "# ctc_beam_search_decoder(r[1][1,:r[2][1]], unique_vocab, 20, ext_scoring_func = scorer)[0]"
   ]
  },
  {
   "cell_type": "code",
   "execution_count": 27,
   "metadata": {},
   "outputs": [],
   "source": [
    "from malaya_speech.utils import metrics, char\n",
    "\n",
    "wer, cer, wer_lm, cer_lm = [], [], [], []\n",
    "wer_lm2, cer_lm2 = [], []\n",
    "index = 0\n",
    "while True:\n",
    "    try:\n",
    "        r = sess.run([preds, logits_t, seq_lens, features['targets']])\n",
    "        for no, row in enumerate(r[0]):\n",
    "            d = decode(row, lookup = unique_vocab).replace('<PAD>', '')\n",
    "            t = decode(r[-1][no], lookup = unique_vocab).replace('<PAD>', '')\n",
    "            wer.append(malaya_speech.metrics.calculate_wer(t, d))\n",
    "            cer.append(malaya_speech.metrics.calculate_cer(t, d))\n",
    "            \n",
    "            d_lm = ctc_beam_search_decoder(r[1][no,:r[2][no]], \n",
    "                                           unique_vocab, 20, ext_scoring_func = scorer)[0][1]\n",
    "            wer_lm.append(malaya_speech.metrics.calculate_wer(t, d_lm))\n",
    "            cer_lm.append(malaya_speech.metrics.calculate_cer(t, d_lm))\n",
    "            \n",
    "            out = decoder.decode_beams(r[1][no,:r[2][no]], prune_history=True)\n",
    "            d_lm2, lm_state, timesteps, logit_score, lm_score = out[0]\n",
    "            wer_lm2.append(malaya_speech.metrics.calculate_wer(t, d_lm2))\n",
    "            cer_lm2.append(malaya_speech.metrics.calculate_cer(t, d_lm2))\n",
    "            \n",
    "        index += 1\n",
    "    except Exception as e:\n",
    "        break"
   ]
  },
  {
   "cell_type": "code",
   "execution_count": 28,
   "metadata": {},
   "outputs": [
    {
     "data": {
      "text/plain": [
       "(0.23871400816641347,\n",
       " 0.06089981404967854,\n",
       " 0.14147911604534796,\n",
       " 0.04507517237844968,\n",
       " 0.1456196894458469,\n",
       " 0.043937028321459626)"
      ]
     },
     "execution_count": 28,
     "metadata": {},
     "output_type": "execute_result"
    }
   ],
   "source": [
    "np.mean(wer), np.mean(cer), np.mean(wer_lm), np.mean(cer_lm), np.mean(wer_lm2), np.mean(cer_lm2)"
   ]
  },
  {
   "cell_type": "code",
   "execution_count": 29,
   "metadata": {},
   "outputs": [
    {
     "data": {
      "text/plain": [
       "('saji tempat bangdik menarutumi s buatanya itu piring saji yang isinya',\n",
       " 'saji tempat bangdik menaruh tumis tahu buatannya itu piring saji yang isinya',\n",
       " 'saji tempat bangdik menaruh tumis buatannya itu piring saji yang isinya',\n",
       " 'saji tempat bangdik menaruh tumis buatannya itu piring saji yang isinya')"
      ]
     },
     "execution_count": 29,
     "metadata": {},
     "output_type": "execute_result"
    }
   ],
   "source": [
    "d, t, d_lm, d_lm2"
   ]
  },
  {
   "cell_type": "code",
   "execution_count": 30,
   "metadata": {},
   "outputs": [
    {
     "name": "stdout",
     "output_type": "stream",
     "text": [
      "CPU times: user 8.12 ms, sys: 0 ns, total: 8.12 ms\n",
      "Wall time: 8.08 ms\n"
     ]
    }
   ],
   "source": [
    "%%time\n",
    "\n",
    "d_lm = ctc_beam_search_decoder(r[1][no,:r[2][no]], \n",
    "                                           unique_vocab, 20, ext_scoring_func = scorer)[0][1]"
   ]
  },
  {
   "cell_type": "code",
   "execution_count": 31,
   "metadata": {},
   "outputs": [
    {
     "name": "stdout",
     "output_type": "stream",
     "text": [
      "CPU times: user 168 ms, sys: 4.18 ms, total: 173 ms\n",
      "Wall time: 170 ms\n"
     ]
    }
   ],
   "source": [
    "%%time\n",
    "\n",
    "out = decoder.decode_beams(r[1][no,:r[2][no]], prune_history=True)"
   ]
  },
  {
   "cell_type": "code",
   "execution_count": null,
   "metadata": {},
   "outputs": [],
   "source": []
  }
 ],
 "metadata": {
  "kernelspec": {
   "display_name": "Python 3",
   "language": "python",
   "name": "python3"
  },
  "language_info": {
   "codemirror_mode": {
    "name": "ipython",
    "version": 3
   },
   "file_extension": ".py",
   "mimetype": "text/x-python",
   "name": "python",
   "nbconvert_exporter": "python",
   "pygments_lexer": "ipython3",
   "version": "3.6.9"
  }
 },
 "nbformat": 4,
 "nbformat_minor": 2
}

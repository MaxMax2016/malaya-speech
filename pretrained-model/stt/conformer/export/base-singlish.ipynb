{
 "cells": [
  {
   "cell_type": "code",
   "execution_count": 1,
   "metadata": {},
   "outputs": [],
   "source": [
    "import os\n",
    "\n",
    "os.environ['CUDA_VISIBLE_DEVICES'] = ''"
   ]
  },
  {
   "cell_type": "code",
   "execution_count": 2,
   "metadata": {},
   "outputs": [
    {
     "name": "stdout",
     "output_type": "stream",
     "text": [
      "WARNING:tensorflow:From /home/husein/malaya-speech/malaya_speech/train/optimizer/__init__.py:39: The name tf.train.AdagradOptimizer is deprecated. Please use tf.compat.v1.train.AdagradOptimizer instead.\n",
      "\n",
      "WARNING:tensorflow:From /home/husein/malaya-speech/malaya_speech/train/optimizer/__init__.py:40: The name tf.train.AdamOptimizer is deprecated. Please use tf.compat.v1.train.AdamOptimizer instead.\n",
      "\n",
      "WARNING:tensorflow:From /home/husein/malaya-speech/malaya_speech/train/optimizer/__init__.py:41: The name tf.train.FtrlOptimizer is deprecated. Please use tf.compat.v1.train.FtrlOptimizer instead.\n",
      "\n",
      "WARNING:tensorflow:From /home/husein/malaya-speech/malaya_speech/train/optimizer/__init__.py:43: The name tf.train.RMSPropOptimizer is deprecated. Please use tf.compat.v1.train.RMSPropOptimizer instead.\n",
      "\n",
      "WARNING:tensorflow:From /home/husein/malaya-speech/malaya_speech/train/optimizer/__init__.py:44: The name tf.train.GradientDescentOptimizer is deprecated. Please use tf.compat.v1.train.GradientDescentOptimizer instead.\n",
      "\n",
      "WARNING:tensorflow:\n",
      "The TensorFlow contrib module will not be included in TensorFlow 2.0.\n",
      "For more information, please see:\n",
      "  * https://github.com/tensorflow/community/blob/master/rfcs/20180907-contrib-sunset.md\n",
      "  * https://github.com/tensorflow/addons\n",
      "  * https://github.com/tensorflow/io (for I/O related ops)\n",
      "If you depend on functionality not listed there, please file an issue.\n",
      "\n"
     ]
    }
   ],
   "source": [
    "import malaya_speech.train.model.conformer as conformer\n",
    "import malaya_speech.train.model.transducer as transducer\n",
    "import malaya_speech\n",
    "import tensorflow as tf\n",
    "import numpy as np"
   ]
  },
  {
   "cell_type": "code",
   "execution_count": 3,
   "metadata": {},
   "outputs": [],
   "source": [
    "subwords = malaya_speech.subword.load('transducer-singlish.subword')"
   ]
  },
  {
   "cell_type": "code",
   "execution_count": 4,
   "metadata": {},
   "outputs": [],
   "source": [
    "featurizer = malaya_speech.tf_featurization.STTFeaturizer(\n",
    "    normalize_per_feature = True\n",
    ")"
   ]
  },
  {
   "cell_type": "code",
   "execution_count": 5,
   "metadata": {},
   "outputs": [],
   "source": [
    "X = tf.compat.v1.placeholder(tf.float32, [None, None], name = 'X_placeholder')\n",
    "X_len = tf.compat.v1.placeholder(tf.int32, [None], name = 'X_len_placeholder')"
   ]
  },
  {
   "cell_type": "code",
   "execution_count": 6,
   "metadata": {},
   "outputs": [
    {
     "data": {
      "text/plain": [
       "(<tf.Tensor 'ExpandDims:0' shape=(?, ?, 80, 1) dtype=float32>,\n",
       " <tf.Tensor 'TensorArrayStack_2/TensorArrayGatherV3:0' shape=(?,) dtype=int32>)"
      ]
     },
     "execution_count": 6,
     "metadata": {},
     "output_type": "execute_result"
    }
   ],
   "source": [
    "batch_size = tf.shape(X)[0]\n",
    "features = tf.TensorArray(dtype = tf.float32, size = batch_size, dynamic_size = True, infer_shape = False)\n",
    "features_len = tf.TensorArray(dtype = tf.int32, size = batch_size)\n",
    "\n",
    "init_state = (0, features, features_len)\n",
    "\n",
    "def condition(i, features, features_len):\n",
    "    return i < batch_size\n",
    "\n",
    "def body(i, features, features_len):\n",
    "    f = featurizer(X[i, :X_len[i]])\n",
    "    f_len = tf.shape(f)[0]\n",
    "    return i + 1, features.write(i, f), features_len.write(i, f_len)\n",
    "\n",
    "_, features, features_len = tf.while_loop(condition, body, init_state)\n",
    "features_len = features_len.stack()\n",
    "padded_features = tf.TensorArray(dtype = tf.float32, size = batch_size)\n",
    "padded_lens = tf.TensorArray(dtype = tf.int32, size = batch_size)\n",
    "maxlen = tf.reduce_max(features_len)\n",
    "\n",
    "init_state = (0, padded_features, padded_lens)\n",
    "\n",
    "def condition(i, padded_features, padded_lens):\n",
    "    return i < batch_size\n",
    "\n",
    "def body(i, padded_features, padded_lens):\n",
    "    f = features.read(i)\n",
    "    len_f = tf.shape(f)[0]\n",
    "    f = tf.pad(f, [[0, maxlen - tf.shape(f)[0]], [0,0]])\n",
    "    return i + 1, padded_features.write(i, f), padded_lens.write(i, len_f)\n",
    "\n",
    "_, padded_features, padded_lens = tf.while_loop(condition, body, init_state)\n",
    "padded_features = padded_features.stack()\n",
    "padded_lens = padded_lens.stack()\n",
    "padded_lens.set_shape((None,))\n",
    "padded_features.set_shape((None, None, 80))\n",
    "padded_features = tf.expand_dims(padded_features, -1)\n",
    "padded_features, padded_lens"
   ]
  },
  {
   "cell_type": "code",
   "execution_count": 7,
   "metadata": {},
   "outputs": [],
   "source": [
    "padded_features = tf.identity(padded_features, name = 'padded_features')\n",
    "padded_lens = tf.identity(padded_lens, name = 'padded_lens')"
   ]
  },
  {
   "cell_type": "code",
   "execution_count": 8,
   "metadata": {},
   "outputs": [],
   "source": [
    "config = malaya_speech.config.conformer_base_encoder_config\n",
    "config['dropout'] = 0.0\n",
    "conformer_model = conformer.Model(**config)\n",
    "decoder_config = malaya_speech.config.conformer_base_decoder_config\n",
    "decoder_config['embed_dropout'] = 0.0\n",
    "transducer_model = transducer.rnn.Model(\n",
    "    conformer_model, vocabulary_size = subwords.vocab_size, **decoder_config\n",
    ")"
   ]
  },
  {
   "cell_type": "code",
   "execution_count": 9,
   "metadata": {},
   "outputs": [
    {
     "data": {
      "text/plain": [
       "<tf.Tensor 'concat:0' shape=(?, ?) dtype=int32>"
      ]
     },
     "execution_count": 9,
     "metadata": {},
     "output_type": "execute_result"
    }
   ],
   "source": [
    "p = tf.compat.v1.placeholder(tf.int32, [None, None])\n",
    "z = tf.zeros((tf.shape(p)[0], 1),dtype=tf.int32)\n",
    "c = tf.concat([z, p], axis = 1)\n",
    "p_len = tf.compat.v1.placeholder(tf.int32, [None])\n",
    "c"
   ]
  },
  {
   "cell_type": "code",
   "execution_count": 10,
   "metadata": {},
   "outputs": [],
   "source": [
    "training = True"
   ]
  },
  {
   "cell_type": "code",
   "execution_count": 11,
   "metadata": {
    "scrolled": true
   },
   "outputs": [
    {
     "name": "stdout",
     "output_type": "stream",
     "text": [
      "WARNING:tensorflow:From /home/husein/.local/lib/python3.6/site-packages/tensorflow_core/python/ops/resource_variable_ops.py:1630: calling BaseResourceVariable.__init__ (from tensorflow.python.ops.resource_variable_ops) with constraint is deprecated and will be removed in a future version.\n",
      "Instructions for updating:\n",
      "If using Keras pass *_constraint arguments to layers.\n",
      "WARNING:tensorflow:From /home/husein/malaya-speech/malaya_speech/train/model/transducer/layer.py:37: The name tf.get_variable is deprecated. Please use tf.compat.v1.get_variable instead.\n",
      "\n",
      "WARNING:tensorflow:From /home/husein/.local/lib/python3.6/site-packages/tensorflow_core/python/keras/backend.py:3994: where (from tensorflow.python.ops.array_ops) is deprecated and will be removed in a future version.\n",
      "Instructions for updating:\n",
      "Use tf.where in 2.0, which has the same broadcast rule as np.where\n"
     ]
    },
    {
     "data": {
      "text/plain": [
       "<tf.Tensor 'transducer/transducer_joint/transducer_joint_vocab/BiasAdd:0' shape=(?, ?, ?, 1019) dtype=float32>"
      ]
     },
     "execution_count": 11,
     "metadata": {},
     "output_type": "execute_result"
    }
   ],
   "source": [
    "logits = transducer_model([padded_features, c, p_len], training = training)\n",
    "logits"
   ]
  },
  {
   "cell_type": "code",
   "execution_count": 12,
   "metadata": {},
   "outputs": [],
   "source": [
    "sess = tf.Session()\n",
    "sess.run(tf.global_variables_initializer())"
   ]
  },
  {
   "cell_type": "code",
   "execution_count": 13,
   "metadata": {},
   "outputs": [
    {
     "name": "stdout",
     "output_type": "stream",
     "text": [
      "INFO:tensorflow:Restoring parameters from asr-base-conformer-transducer-singlish/model.ckpt-800000\n"
     ]
    }
   ],
   "source": [
    "var_list = tf.get_collection(tf.GraphKeys.GLOBAL_VARIABLES)\n",
    "saver = tf.train.Saver(var_list = var_list)\n",
    "saver.restore(sess, 'asr-base-conformer-transducer-singlish/model.ckpt-800000')"
   ]
  },
  {
   "cell_type": "code",
   "execution_count": 14,
   "metadata": {},
   "outputs": [
    {
     "data": {
      "text/plain": [
       "<tf.Tensor 'greedy_decoder:0' shape=(?, ?) dtype=int32>"
      ]
     },
     "execution_count": 14,
     "metadata": {},
     "output_type": "execute_result"
    }
   ],
   "source": [
    "decoded = transducer_model.greedy_decoder(padded_features, padded_lens, training = training)\n",
    "decoded = tf.identity(decoded, name = 'greedy_decoder')\n",
    "decoded"
   ]
  },
  {
   "cell_type": "code",
   "execution_count": 15,
   "metadata": {},
   "outputs": [
    {
     "data": {
      "text/plain": [
       "(<tf.Tensor 'ytu:0' shape=(1019,) dtype=float32>,\n",
       " <tf.Tensor 'new_states:0' shape=(1, 2, 1, 640) dtype=float32>)"
      ]
     },
     "execution_count": 15,
     "metadata": {},
     "output_type": "execute_result"
    }
   ],
   "source": [
    "encoded = transducer_model.encoder(padded_features, training = training)\n",
    "encoded = tf.identity(encoded, name = 'encoded')\n",
    "encoded_placeholder = tf.placeholder(tf.float32, [config['dmodel']], name = 'encoded_placeholder')\n",
    "predicted_placeholder = tf.placeholder(tf.int32, None, name = 'predicted_placeholder')\n",
    "t = transducer_model.predict_net.get_initial_state().shape\n",
    "states_placeholder = tf.placeholder(tf.float32, [int(i) for i in t], name = 'states_placeholder')\n",
    "\n",
    "ytu, new_states = transducer_model.decoder_inference(\n",
    "    encoded=encoded_placeholder,\n",
    "    predicted=predicted_placeholder,\n",
    "    states=states_placeholder,\n",
    "    training = training\n",
    ")\n",
    "\n",
    "ytu = tf.identity(ytu, name = 'ytu')\n",
    "new_states = tf.identity(new_states, name = 'new_states')\n",
    "ytu, new_states"
   ]
  },
  {
   "cell_type": "code",
   "execution_count": 16,
   "metadata": {},
   "outputs": [],
   "source": [
    "initial_states = transducer_model.predict_net.get_initial_state()\n",
    "initial_states = tf.identity(initial_states, name = 'initial_states')"
   ]
  },
  {
   "cell_type": "code",
   "execution_count": 17,
   "metadata": {},
   "outputs": [],
   "source": [
    "# sess = tf.Session()\n",
    "# sess.run(tf.global_variables_initializer())"
   ]
  },
  {
   "cell_type": "code",
   "execution_count": 18,
   "metadata": {},
   "outputs": [],
   "source": [
    "# var_list = tf.get_collection(tf.GraphKeys.GLOBAL_VARIABLES)\n",
    "# saver = tf.train.Saver(var_list = var_list)\n",
    "# saver.restore(sess, 'asr-small-conformer-transducer/model.ckpt-325000')"
   ]
  },
  {
   "cell_type": "code",
   "execution_count": 19,
   "metadata": {},
   "outputs": [],
   "source": [
    "files = [\n",
    "    'singlish0.wav',\n",
    "    'singlish1.wav',\n",
    "    'singlish2.wav',\n",
    "    'singlish3.wav',\n",
    "    'singlish4.wav'\n",
    "]\n",
    "\n",
    "front_pad = 200\n",
    "back_pad = 2000\n",
    "inputs = [malaya_speech.load(f)[0] for f in files]\n",
    "padded, lens = malaya_speech.padding.sequence_1d(inputs, return_len = True)\n",
    "back = np.zeros(shape = (len(inputs), back_pad))\n",
    "front = np.zeros(shape = (len(inputs), front_pad))\n",
    "padded = np.concatenate([front, padded, back], axis = -1)\n",
    "lens = [l + front_pad + back_pad for l in lens]"
   ]
  },
  {
   "cell_type": "code",
   "execution_count": 20,
   "metadata": {},
   "outputs": [],
   "source": [
    "import collections\n",
    "import numpy as np\n",
    "import tensorflow as tf\n",
    "\n",
    "BeamHypothesis = collections.namedtuple(\n",
    "    'BeamHypothesis', ('score', 'prediction', 'states')\n",
    ")\n",
    "\n",
    "\n",
    "def transducer(\n",
    "    enc,\n",
    "    total,\n",
    "    initial_states,\n",
    "    encoded_placeholder,\n",
    "    predicted_placeholder,\n",
    "    states_placeholder,\n",
    "    ytu,\n",
    "    new_states,\n",
    "    sess,\n",
    "    beam_width = 10,\n",
    "    norm_score = True,\n",
    "):\n",
    "    kept_hyps = [\n",
    "        BeamHypothesis(score = 0.0, prediction = [0], states = initial_states)\n",
    "    ]\n",
    "    B = kept_hyps\n",
    "    for i in range(total):\n",
    "        A = B\n",
    "        B = []\n",
    "        while True:\n",
    "            y_hat = max(A, key = lambda x: x.score)\n",
    "            A.remove(y_hat)\n",
    "            ytu_, new_states_ = sess.run(\n",
    "                [ytu, new_states],\n",
    "                feed_dict = {\n",
    "                    encoded_placeholder: enc[i],\n",
    "                    predicted_placeholder: y_hat.prediction[-1],\n",
    "                    states_placeholder: y_hat.states,\n",
    "                },\n",
    "            )\n",
    "            for k in range(ytu_.shape[0]):\n",
    "                beam_hyp = BeamHypothesis(\n",
    "                    score = (y_hat.score + float(ytu_[k])),\n",
    "                    prediction = y_hat.prediction,\n",
    "                    states = y_hat.states,\n",
    "                )\n",
    "                if k == 0:\n",
    "                    B.append(beam_hyp)\n",
    "                else:\n",
    "                    beam_hyp = BeamHypothesis(\n",
    "                        score = beam_hyp.score,\n",
    "                        prediction = (beam_hyp.prediction + [int(k)]),\n",
    "                        states = new_states_,\n",
    "                    )\n",
    "                    A.append(beam_hyp)\n",
    "            if len(B) > beam_width:\n",
    "                break\n",
    "    if norm_score:\n",
    "        kept_hyps = sorted(\n",
    "            B, key = lambda x: x.score / len(x.prediction), reverse = True\n",
    "        )[:beam_width]\n",
    "    else:\n",
    "        kept_hyps = sorted(B, key = lambda x: x.score, reverse = True)[\n",
    "            :beam_width\n",
    "        ]\n",
    "    return kept_hyps[0].prediction"
   ]
  },
  {
   "cell_type": "code",
   "execution_count": 21,
   "metadata": {},
   "outputs": [
    {
     "name": "stdout",
     "output_type": "stream",
     "text": [
      "and then see how they roll it in film okay actually\n",
      "then you tap to your eyes\n",
      "seven seven in mall\n",
      "international shipping floor\n",
      "then after that a few months later they read someone then\n",
      "CPU times: user 17 s, sys: 2.35 s, total: 19.4 s\n",
      "Wall time: 9.45 s\n"
     ]
    }
   ],
   "source": [
    "%%time\n",
    "\n",
    "r = sess.run(decoded, feed_dict = {X: padded, X_len: lens})\n",
    "for row in r:\n",
    "    print(malaya_speech.subword.decode(subwords, row[row > 0]))"
   ]
  },
  {
   "cell_type": "code",
   "execution_count": 22,
   "metadata": {},
   "outputs": [
    {
     "data": {
      "text/html": [
       "\n",
       "                <audio  controls=\"controls\" >\n",
       "                    <source src=\"data:audio/x-wav;base64,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\" type=\"audio/x-wav\" />\n",
       "                    Your browser does not support the audio element.\n",
       "                </audio>\n",
       "              "
      ],
      "text/plain": [
       "<IPython.lib.display.Audio object>"
      ]
     },
     "execution_count": 22,
     "metadata": {},
     "output_type": "execute_result"
    }
   ],
   "source": [
    "import IPython.display as ipd\n",
    "ipd.Audio(files[4])"
   ]
  },
  {
   "cell_type": "code",
   "execution_count": 23,
   "metadata": {
    "scrolled": false
   },
   "outputs": [
    {
     "name": "stdout",
     "output_type": "stream",
     "text": [
      "and then see how they roll it in film okay actually\n",
      "then you tap to your eyes\n",
      "seven seven in male\n",
      "international shipping floor\n",
      "then after a few months someone then\n",
      "CPU times: user 27.4 s, sys: 1.42 s, total: 28.8 s\n",
      "Wall time: 16 s\n"
     ]
    }
   ],
   "source": [
    "%%time\n",
    "\n",
    "encoded_, padded_lens_  = sess.run([encoded, padded_lens], feed_dict = {X: padded, X_len: lens})\n",
    "padded_lens_ = padded_lens_ // conformer_model.conv_subsampling.time_reduction_factor\n",
    "s = sess.run(initial_states)\n",
    "\n",
    "for i in range(len(encoded_)):\n",
    "    r = transducer(\n",
    "        enc = encoded_[i],\n",
    "        total = padded_lens_[i],\n",
    "        initial_states = s,\n",
    "        encoded_placeholder = encoded_placeholder,\n",
    "        predicted_placeholder = predicted_placeholder,\n",
    "        states_placeholder = states_placeholder,\n",
    "        ytu = ytu,\n",
    "        new_states = new_states,\n",
    "        sess = sess,\n",
    "        beam_width = 1,\n",
    "    )\n",
    "\n",
    "    print(malaya_speech.subword.decode(subwords, r))"
   ]
  },
  {
   "cell_type": "code",
   "execution_count": 24,
   "metadata": {},
   "outputs": [
    {
     "data": {
      "text/plain": [
       "Hypothesis(index=<tf.Tensor 'while_3/Exit_1:0' shape=() dtype=int32>, prediction=<tf.Tensor 'TensorArrayStack_3/TensorArrayGatherV3:0' shape=(?,) dtype=int32>, states=<tf.Tensor 'while_3/Exit_3:0' shape=(1, 2, 1, 640) dtype=float32>)"
      ]
     },
     "execution_count": 24,
     "metadata": {},
     "output_type": "execute_result"
    }
   ],
   "source": [
    "l = padded_lens // transducer_model.encoder.conv_subsampling.time_reduction_factor\n",
    "encoded = transducer_model.encoder(padded_features, training = training)\n",
    "g = transducer_model._perform_greedy(encoded[0], l[0],\n",
    "                                tf.constant(0, dtype = tf.int32),\n",
    "                                transducer_model.predict_net.get_initial_state())\n",
    "g"
   ]
  },
  {
   "cell_type": "code",
   "execution_count": 25,
   "metadata": {},
   "outputs": [],
   "source": [
    "indices = g.prediction\n",
    "minus_one = -1 * tf.ones_like(indices, dtype=tf.int32)\n",
    "blank_like = 0 * tf.ones_like(indices, dtype=tf.int32)\n",
    "indices = tf.where(indices == minus_one, blank_like, indices)\n",
    "num_samples = tf.cast(X_len[0], dtype=tf.float32)\n",
    "total_time_reduction_factor = featurizer.frame_step\n",
    "stime = tf.range(0, num_samples, delta=total_time_reduction_factor, dtype=tf.float32)\n",
    "stime /= tf.cast(featurizer.sample_rate, dtype=tf.float32)\n",
    "stime = stime[::tf.shape(stime)[0] // tf.shape(indices)[0]]\n",
    "stime.set_shape((None,))\n",
    "non_blank = tf.where(tf.not_equal(indices, 0))\n",
    "non_blank_transcript = tf.gather_nd(indices, non_blank)\n",
    "non_blank_stime = tf.gather_nd(stime, non_blank)\n",
    "non_blank_transcript = tf.identity(non_blank_transcript, name = 'non_blank_transcript')\n",
    "non_blank_stime = tf.identity(non_blank_stime, name = 'non_blank_stime')"
   ]
  },
  {
   "cell_type": "code",
   "execution_count": 26,
   "metadata": {},
   "outputs": [
    {
     "name": "stdout",
     "output_type": "stream",
     "text": [
      "CPU times: user 13.1 s, sys: 524 ms, total: 13.6 s\n",
      "Wall time: 8.98 s\n"
     ]
    }
   ],
   "source": [
    "%%time\n",
    "\n",
    "r = sess.run([non_blank_transcript, non_blank_stime], feed_dict = {X: padded, X_len: lens})"
   ]
  },
  {
   "cell_type": "code",
   "execution_count": 27,
   "metadata": {},
   "outputs": [],
   "source": [
    "words, indices = [], []\n",
    "for no, ids in enumerate(r[0]):\n",
    "    w = subwords._id_to_subword(ids - 1)\n",
    "    if type(w) == bytes:\n",
    "        w = w.decode()\n",
    "    words.extend([w, None])\n",
    "    indices.extend([no, None])"
   ]
  },
  {
   "cell_type": "code",
   "execution_count": 28,
   "metadata": {},
   "outputs": [
    {
     "data": {
      "text/plain": [
       "(28, 28)"
      ]
     },
     "execution_count": 28,
     "metadata": {},
     "output_type": "execute_result"
    }
   ],
   "source": [
    "import six\n",
    "from malaya_speech.utils import text_encoder\n",
    "\n",
    "def _trim_underscore_and_tell(token):\n",
    "    if token.endswith('_'):\n",
    "        return token[:-1], True\n",
    "    return token, False\n",
    "\n",
    "def decode(ids):\n",
    "    ids = text_encoder.pad_decr(ids)\n",
    "    subword_ids = ids\n",
    "    del ids\n",
    "\n",
    "    subwords_ = []\n",
    "    prev_bytes = []\n",
    "    prev_ids = []\n",
    "    ids = []\n",
    "\n",
    "    def consume_prev_bytes():\n",
    "        if prev_bytes:\n",
    "            subwords_.extend(prev_bytes)\n",
    "            ids.extend(prev_ids)\n",
    "        return [], []\n",
    "\n",
    "    for no, subword_id in enumerate(subword_ids):\n",
    "        subword = subwords._id_to_subword(subword_id)\n",
    "        if isinstance(subword, six.binary_type):\n",
    "            # Byte-encoded\n",
    "            prev_bytes.append(subword.decode('utf-8', 'replace'))\n",
    "            if subword == b' ':\n",
    "                prev_ids.append(None)\n",
    "            else:\n",
    "                prev_ids.append(no)\n",
    "        else:\n",
    "            # If there were bytes previously, convert to unicode.\n",
    "            prev_bytes, prev_ids = consume_prev_bytes()\n",
    "            trimmed, add_space = _trim_underscore_and_tell(subword)\n",
    "            ids.append(no)\n",
    "            subwords_.append(trimmed)\n",
    "            if add_space:\n",
    "                subwords_.append(' ')\n",
    "                ids.append(None)\n",
    "    prev_bytes = consume_prev_bytes()\n",
    "\n",
    "    return subwords_, ids\n",
    "\n",
    "words, indices = decode(r[0])\n",
    "len(words), len(indices)"
   ]
  },
  {
   "cell_type": "code",
   "execution_count": 29,
   "metadata": {},
   "outputs": [],
   "source": [
    "def combined_indices(subwords, ids, l, reduction_factor = 160, sample_rate = 16000):\n",
    "    result, temp_l, temp_r = [], [], []\n",
    "    for i in range(len(subwords)):\n",
    "        if ids[i] is not None:\n",
    "            temp_l.append(subwords[i])\n",
    "            temp_r.append(l[ids[i]])\n",
    "        else:\n",
    "            data = {'text': ''.join(temp_l), \n",
    "                    'start': round(temp_r[0],4), \n",
    "                    'end': round(temp_r[-1] + (reduction_factor / sample_rate), 4)}\n",
    "            result.append(data)\n",
    "            temp_l, temp_r = [], []\n",
    "    \n",
    "    if len(temp_l):\n",
    "        data = {'text': ''.join(temp_l), \n",
    "                'start': round(temp_r[0],4), \n",
    "                'end': round(temp_r[-1] + (reduction_factor / sample_rate), 4)}\n",
    "        result.append(data)\n",
    "    \n",
    "    return result"
   ]
  },
  {
   "cell_type": "code",
   "execution_count": 30,
   "metadata": {},
   "outputs": [
    {
     "data": {
      "text/plain": [
       "[{'text': 'and', 'start': 0.2, 'end': 0.21},\n",
       " {'text': 'then', 'start': 0.36, 'end': 0.45},\n",
       " {'text': 'see', 'start': 0.6, 'end': 0.61},\n",
       " {'text': 'how', 'start': 0.88, 'end': 0.89},\n",
       " {'text': 'they', 'start': 1.36, 'end': 1.49},\n",
       " {'text': 'roll', 'start': 1.96, 'end': 2.09},\n",
       " {'text': 'it', 'start': 2.2, 'end': 2.21},\n",
       " {'text': 'in', 'start': 2.4, 'end': 2.41},\n",
       " {'text': 'film', 'start': 2.6, 'end': 2.85},\n",
       " {'text': 'okay', 'start': 3.68, 'end': 3.85},\n",
       " {'text': 'actually', 'start': 3.92, 'end': 4.21}]"
      ]
     },
     "execution_count": 30,
     "metadata": {},
     "output_type": "execute_result"
    }
   ],
   "source": [
    "combined_indices(words, indices, r[1])"
   ]
  },
  {
   "cell_type": "code",
   "execution_count": 31,
   "metadata": {},
   "outputs": [
    {
     "data": {
      "text/plain": [
       "'output-base-singlish-conformer/model.ckpt'"
      ]
     },
     "execution_count": 31,
     "metadata": {},
     "output_type": "execute_result"
    }
   ],
   "source": [
    "saver = tf.train.Saver()\n",
    "saver.save(sess, 'output-base-singlish-conformer/model.ckpt')"
   ]
  },
  {
   "cell_type": "code",
   "execution_count": 32,
   "metadata": {},
   "outputs": [
    {
     "data": {
      "text/plain": [
       "['X_placeholder',\n",
       " 'X_len_placeholder',\n",
       " 'padded_features',\n",
       " 'padded_lens',\n",
       " 'transducer/transducer_prediction/transducer_prediction_embedding/embeddings',\n",
       " 'greedy_decoder',\n",
       " 'encoded',\n",
       " 'encoded_placeholder',\n",
       " 'predicted_placeholder',\n",
       " 'states_placeholder',\n",
       " 'ytu',\n",
       " 'new_states',\n",
       " 'initial_states',\n",
       " 'non_blank_transcript',\n",
       " 'non_blank_stime']"
      ]
     },
     "execution_count": 32,
     "metadata": {},
     "output_type": "execute_result"
    }
   ],
   "source": [
    "strings = ','.join(\n",
    "    [\n",
    "        n.name\n",
    "        for n in tf.get_default_graph().as_graph_def().node\n",
    "        if ('Variable' in n.op\n",
    "        or 'gather' in n.op.lower()\n",
    "        or 'placeholder' in n.name\n",
    "        or 'encoded' in n.name\n",
    "        or 'decoder' in n.name\n",
    "        or 'ytu' in n.name\n",
    "        or 'new_states' in n.name\n",
    "        or 'padded_' in n.name\n",
    "        or 'initial_states' in n.name\n",
    "        or 'non_blank' in n.name)\n",
    "        and 'adam' not in n.name\n",
    "        and 'global_step' not in n.name\n",
    "        and 'Assign' not in n.name\n",
    "        and 'ReadVariableOp' not in n.name\n",
    "        and 'Gather' not in n.name\n",
    "    ]\n",
    ")\n",
    "strings.split(',')"
   ]
  },
  {
   "cell_type": "code",
   "execution_count": 33,
   "metadata": {},
   "outputs": [],
   "source": [
    "def freeze_graph(model_dir, output_node_names):\n",
    "\n",
    "    if not tf.gfile.Exists(model_dir):\n",
    "        raise AssertionError(\n",
    "            \"Export directory doesn't exists. Please specify an export \"\n",
    "            'directory: %s' % model_dir\n",
    "        )\n",
    "\n",
    "    checkpoint = tf.train.get_checkpoint_state(model_dir)\n",
    "    input_checkpoint = checkpoint.model_checkpoint_path\n",
    "\n",
    "    absolute_model_dir = '/'.join(input_checkpoint.split('/')[:-1])\n",
    "    output_graph = absolute_model_dir + '/frozen_model.pb'\n",
    "    clear_devices = True\n",
    "    with tf.Session(graph = tf.Graph()) as sess:\n",
    "        saver = tf.train.import_meta_graph(\n",
    "            input_checkpoint + '.meta', clear_devices = clear_devices\n",
    "        )\n",
    "        saver.restore(sess, input_checkpoint)\n",
    "        output_graph_def = tf.graph_util.convert_variables_to_constants(\n",
    "            sess,\n",
    "            tf.get_default_graph().as_graph_def(),\n",
    "            output_node_names.split(','),\n",
    "        )\n",
    "        with tf.gfile.GFile(output_graph, 'wb') as f:\n",
    "            f.write(output_graph_def.SerializeToString())\n",
    "        print('%d ops in the final graph.' % len(output_graph_def.node))"
   ]
  },
  {
   "cell_type": "code",
   "execution_count": 34,
   "metadata": {},
   "outputs": [
    {
     "name": "stdout",
     "output_type": "stream",
     "text": [
      "INFO:tensorflow:Restoring parameters from output-base-singlish-conformer/model.ckpt\n",
      "WARNING:tensorflow:From <ipython-input-33-9a7215a4e58a>:23: convert_variables_to_constants (from tensorflow.python.framework.graph_util_impl) is deprecated and will be removed in a future version.\n",
      "Instructions for updating:\n",
      "Use `tf.compat.v1.graph_util.convert_variables_to_constants`\n",
      "WARNING:tensorflow:From /home/husein/.local/lib/python3.6/site-packages/tensorflow_core/python/framework/graph_util_impl.py:277: extract_sub_graph (from tensorflow.python.framework.graph_util_impl) is deprecated and will be removed in a future version.\n",
      "Instructions for updating:\n",
      "Use `tf.compat.v1.graph_util.extract_sub_graph`\n",
      "INFO:tensorflow:Froze 561 variables.\n",
      "INFO:tensorflow:Converted 561 variables to const ops.\n",
      "27400 ops in the final graph.\n"
     ]
    }
   ],
   "source": [
    "freeze_graph('output-base-singlish-conformer', strings)"
   ]
  },
  {
   "cell_type": "code",
   "execution_count": 35,
   "metadata": {},
   "outputs": [],
   "source": [
    "def load_graph(frozen_graph_filename):\n",
    "    with tf.gfile.GFile(frozen_graph_filename, 'rb') as f:\n",
    "        graph_def = tf.GraphDef()\n",
    "        graph_def.ParseFromString(f.read())\n",
    "                \n",
    "    with tf.Graph().as_default() as graph:\n",
    "        tf.import_graph_def(graph_def)\n",
    "        \n",
    "    return graph"
   ]
  },
  {
   "cell_type": "code",
   "execution_count": 41,
   "metadata": {},
   "outputs": [],
   "source": [
    "g = load_graph('output-base-singlish-conformer/frozen_model.pb')"
   ]
  },
  {
   "cell_type": "code",
   "execution_count": null,
   "metadata": {},
   "outputs": [],
   "source": [
    "input_nodes = [\n",
    "    'X_placeholder',\n",
    "    'X_len_placeholder',\n",
    "    'encoded_placeholder',\n",
    "    'predicted_placeholder',\n",
    "    'states_placeholder',\n",
    "]\n",
    "output_nodes = [\n",
    "    'greedy_decoder',\n",
    "    'encoded',\n",
    "    'ytu',\n",
    "    'new_states',\n",
    "    'padded_features',\n",
    "    'padded_lens',\n",
    "    'initial_states',\n",
    "    'non_blank_transcript',\n",
    "    'non_blank_stime'\n",
    "]\n",
    "inputs = {n: g.get_tensor_by_name(f'import/{n}:0') for n in input_nodes}\n",
    "outputs = {n: g.get_tensor_by_name(f'import/{n}:0') for n in output_nodes}"
   ]
  },
  {
   "cell_type": "code",
   "execution_count": null,
   "metadata": {},
   "outputs": [],
   "source": [
    "test_sess = tf.Session(graph = g)"
   ]
  },
  {
   "cell_type": "code",
   "execution_count": null,
   "metadata": {},
   "outputs": [],
   "source": [
    "r = test_sess.run(outputs['greedy_decoder'], feed_dict = {inputs['X_placeholder']: padded, \n",
    "                                                          inputs['X_len_placeholder']: lens})"
   ]
  },
  {
   "cell_type": "code",
   "execution_count": null,
   "metadata": {},
   "outputs": [],
   "source": [
    "for row in r:\n",
    "    print(malaya_speech.subword.decode(subwords, row[row > 0]))"
   ]
  },
  {
   "cell_type": "code",
   "execution_count": null,
   "metadata": {},
   "outputs": [],
   "source": [
    "encoded_, padded_lens_, s  = test_sess.run([outputs['encoded'], outputs['padded_lens'], outputs['initial_states']], \n",
    "                                        feed_dict = {inputs['X_placeholder']: padded, \n",
    "                                                     inputs['X_len_placeholder']: lens})\n",
    "\n",
    "padded_lens_ = padded_lens_ // conformer_model.conv_subsampling.time_reduction_factor"
   ]
  },
  {
   "cell_type": "code",
   "execution_count": null,
   "metadata": {},
   "outputs": [],
   "source": [
    "i = 0\n",
    "r = transducer(\n",
    "    enc = encoded_[i],\n",
    "    total = padded_lens_[i],\n",
    "    initial_states = s,\n",
    "    encoded_placeholder = inputs['encoded_placeholder'],\n",
    "    predicted_placeholder = inputs['predicted_placeholder'],\n",
    "    states_placeholder = inputs['states_placeholder'],\n",
    "    ytu = outputs['ytu'],\n",
    "    new_states = outputs['new_states'],\n",
    "    sess = test_sess,\n",
    "    beam_width = 1,\n",
    ")\n",
    "\n",
    "malaya_speech.subword.decode(subwords, r)"
   ]
  },
  {
   "cell_type": "code",
   "execution_count": 36,
   "metadata": {},
   "outputs": [],
   "source": [
    "from tensorflow.tools.graph_transforms import TransformGraph"
   ]
  },
  {
   "cell_type": "code",
   "execution_count": 37,
   "metadata": {},
   "outputs": [
    {
     "name": "stdout",
     "output_type": "stream",
     "text": [
      "WARNING:tensorflow:From <ipython-input-37-b1479121e037>:31: FastGFile.__init__ (from tensorflow.python.platform.gfile) is deprecated and will be removed in a future version.\n",
      "Instructions for updating:\n",
      "Use tf.gfile.GFile.\n"
     ]
    }
   ],
   "source": [
    "transforms = ['add_default_attributes',\n",
    "             'remove_nodes(op=Identity, op=CheckNumerics, op=Dropout)',\n",
    "             'fold_batch_norms',\n",
    "             'fold_old_batch_norms',\n",
    "             'quantize_weights(fallback_min=-10, fallback_max=10)',\n",
    "             'strip_unused_nodes',\n",
    "             'sort_by_execution_order']\n",
    "\n",
    "input_nodes = [\n",
    "    'X_placeholder',\n",
    "    'X_len_placeholder',\n",
    "    'encoded_placeholder',\n",
    "    'predicted_placeholder',\n",
    "    'states_placeholder',\n",
    "]\n",
    "output_nodes = [\n",
    "    'greedy_decoder',\n",
    "    'encoded',\n",
    "    'ytu',\n",
    "    'new_states',\n",
    "    'padded_features',\n",
    "    'padded_lens',\n",
    "    'initial_states',\n",
    "    'non_blank_transcript',\n",
    "    'non_blank_stime'\n",
    "]\n",
    "\n",
    "pb = 'output-base-singlish-conformer/frozen_model.pb'\n",
    "\n",
    "input_graph_def = tf.GraphDef()\n",
    "with tf.gfile.FastGFile(pb, 'rb') as f:\n",
    "    input_graph_def.ParseFromString(f.read())\n",
    "\n",
    "transformed_graph_def = TransformGraph(input_graph_def, \n",
    "                                           input_nodes,\n",
    "                                           output_nodes, transforms)\n",
    "    \n",
    "with tf.gfile.GFile(f'{pb}.quantized', 'wb') as f:\n",
    "    f.write(transformed_graph_def.SerializeToString())"
   ]
  },
  {
   "cell_type": "code",
   "execution_count": null,
   "metadata": {},
   "outputs": [],
   "source": [
    "g = load_graph('output-base-singlish-conformer/frozen_model.pb.quantized')"
   ]
  },
  {
   "cell_type": "code",
   "execution_count": null,
   "metadata": {},
   "outputs": [],
   "source": [
    "# inputs = {n: g.get_tensor_by_name(f'import/{n}:0') for n in input_nodes}\n",
    "# outputs = {n: g.get_tensor_by_name(f'import/{n}:0') for n in output_nodes}\n",
    "# test_sess = tf.Session(graph = g)"
   ]
  },
  {
   "cell_type": "code",
   "execution_count": null,
   "metadata": {},
   "outputs": [],
   "source": [
    "# r = test_sess.run(outputs['greedy_decoder'], feed_dict = {inputs['X_placeholder']: padded, \n",
    "#                                                           inputs['X_len_placeholder']: lens})"
   ]
  },
  {
   "cell_type": "code",
   "execution_count": null,
   "metadata": {},
   "outputs": [],
   "source": [
    "# for row in r:\n",
    "#     print(malaya_speech.subword.decode(subwords, row[row > 0]))"
   ]
  },
  {
   "cell_type": "code",
   "execution_count": null,
   "metadata": {},
   "outputs": [],
   "source": [
    "# encoded_, padded_lens_, s  = test_sess.run([outputs['encoded'], outputs['padded_lens'], outputs['initial_states']], \n",
    "#                                         feed_dict = {inputs['X_placeholder']: padded, \n",
    "#                                                      inputs['X_len_placeholder']: lens})\n",
    "\n",
    "# padded_lens_ = padded_lens_ // conformer_model.conv_subsampling.time_reduction_factor"
   ]
  },
  {
   "cell_type": "code",
   "execution_count": null,
   "metadata": {},
   "outputs": [],
   "source": [
    "# i = 0\n",
    "# r = transducer(\n",
    "#     enc = encoded_[i],\n",
    "#     total = padded_lens_[i],\n",
    "#     initial_states = s,\n",
    "#     encoded_placeholder = inputs['encoded_placeholder'],\n",
    "#     predicted_placeholder = inputs['predicted_placeholder'],\n",
    "#     states_placeholder = inputs['states_placeholder'],\n",
    "#     ytu = outputs['ytu'],\n",
    "#     new_states = outputs['new_states'],\n",
    "#     sess = test_sess,\n",
    "#     beam_width = 1,\n",
    "# )\n",
    "\n",
    "# malaya_speech.subword.decode(subwords, r)"
   ]
  },
  {
   "cell_type": "code",
   "execution_count": 38,
   "metadata": {},
   "outputs": [],
   "source": [
    "b2_application_key_id = os.environ['b2_application_key_id']\n",
    "b2_application_key = os.environ['b2_application_key']"
   ]
  },
  {
   "cell_type": "code",
   "execution_count": 39,
   "metadata": {},
   "outputs": [],
   "source": [
    "from b2sdk.v1 import *\n",
    "info = InMemoryAccountInfo()\n",
    "b2_api = B2Api(info)\n",
    "application_key_id = b2_application_key_id\n",
    "application_key = b2_application_key\n",
    "b2_api.authorize_account(\"production\", application_key_id, application_key)\n",
    "file_info = {'how': 'good-file'}\n",
    "b2_bucket = b2_api.get_bucket_by_name('malaya-speech-model')"
   ]
  },
  {
   "cell_type": "code",
   "execution_count": 40,
   "metadata": {},
   "outputs": [
    {
     "data": {
      "text/plain": [
       "0"
      ]
     },
     "execution_count": 40,
     "metadata": {},
     "output_type": "execute_result"
    }
   ],
   "source": [
    "directory = 'output-base-singlish-conformer'\n",
    "tar = 'output-base-singlish-conformer-v1.tar.gz'\n",
    "os.system(f'tar -czvf {tar} {directory}')"
   ]
  },
  {
   "cell_type": "code",
   "execution_count": 42,
   "metadata": {},
   "outputs": [
    {
     "data": {
      "text/plain": [
       "<b2sdk.file_version.FileVersionInfo at 0x7f22377b8a20>"
      ]
     },
     "execution_count": 42,
     "metadata": {},
     "output_type": "execute_result"
    }
   ],
   "source": [
    "outPutname = f'pretrained/{tar}'\n",
    "b2_bucket.upload_local_file(\n",
    "    local_file=tar,\n",
    "    file_name=outPutname,\n",
    "    file_infos=file_info,\n",
    ")"
   ]
  },
  {
   "cell_type": "code",
   "execution_count": 43,
   "metadata": {},
   "outputs": [],
   "source": [
    "!rm {tar}"
   ]
  },
  {
   "cell_type": "code",
   "execution_count": 44,
   "metadata": {},
   "outputs": [
    {
     "data": {
      "text/plain": [
       "<b2sdk.file_version.FileVersionInfo at 0x7f22377b8da0>"
      ]
     },
     "execution_count": 44,
     "metadata": {},
     "output_type": "execute_result"
    }
   ],
   "source": [
    "file = 'output-base-singlish-conformer/frozen_model.pb'\n",
    "outPutname = 'speech-to-text-transducer/conformer-singlish/model.pb'\n",
    "b2_bucket.upload_local_file(\n",
    "    local_file=file,\n",
    "    file_name=outPutname,\n",
    "    file_infos=file_info,\n",
    ")"
   ]
  },
  {
   "cell_type": "code",
   "execution_count": 45,
   "metadata": {},
   "outputs": [
    {
     "data": {
      "text/plain": [
       "<b2sdk.file_version.FileVersionInfo at 0x7f22375fca58>"
      ]
     },
     "execution_count": 45,
     "metadata": {},
     "output_type": "execute_result"
    }
   ],
   "source": [
    "file = 'output-base-singlish-conformer/frozen_model.pb.quantized'\n",
    "outPutname = 'speech-to-text-transducer/conformer-singlish-quantized/model.pb'\n",
    "b2_bucket.upload_local_file(\n",
    "    local_file=file,\n",
    "    file_name=outPutname,\n",
    "    file_infos=file_info,\n",
    ")"
   ]
  }
 ],
 "metadata": {
  "kernelspec": {
   "display_name": "Python 3",
   "language": "python",
   "name": "python3"
  },
  "language_info": {
   "codemirror_mode": {
    "name": "ipython",
    "version": 3
   },
   "file_extension": ".py",
   "mimetype": "text/x-python",
   "name": "python",
   "nbconvert_exporter": "python",
   "pygments_lexer": "ipython3",
   "version": "3.6.9"
  }
 },
 "nbformat": 4,
 "nbformat_minor": 2
}

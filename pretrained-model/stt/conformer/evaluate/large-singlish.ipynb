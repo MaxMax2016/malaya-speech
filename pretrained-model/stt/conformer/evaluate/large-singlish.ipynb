{
 "cells": [
  {
   "cell_type": "code",
   "execution_count": 1,
   "id": "dd8a780e",
   "metadata": {},
   "outputs": [],
   "source": [
    "# !pip3 install malaya-speech -U --no-deps"
   ]
  },
  {
   "cell_type": "code",
   "execution_count": 2,
   "id": "928fac3b",
   "metadata": {},
   "outputs": [],
   "source": [
    "import os\n",
    "\n",
    "os.environ['CUDA_VISIBLE_DEVICES'] = ''"
   ]
  },
  {
   "cell_type": "code",
   "execution_count": 3,
   "id": "4987606d",
   "metadata": {},
   "outputs": [
    {
     "name": "stderr",
     "output_type": "stream",
     "text": [
      "/home/ubuntu/.local/lib/python3.8/site-packages/tensorflow_addons/utils/ensure_tf_install.py:53: UserWarning: Tensorflow Addons supports using Python ops for all Tensorflow versions above or equal to 2.3.0 and strictly below 2.5.0 (nightly versions are not supported). \n",
      " The versions of TensorFlow you are currently using is 2.6.0 and is not supported. \n",
      "Some things might work, some things might not.\n",
      "If you were to encounter a bug, do not file an issue.\n",
      "If you want to make sure you're using a tested and supported configuration, either change the TensorFlow version or the TensorFlow Addons's version. \n",
      "You can find the compatibility matrix in TensorFlow Addon's readme:\n",
      "https://github.com/tensorflow/addons\n",
      "  warnings.warn(\n",
      "/home/ubuntu/.local/lib/python3.8/site-packages/tensorflow_addons/utils/resource_loader.py:72: UserWarning: You are currently using TensorFlow 2.6.0 and trying to load a custom op (custom_ops/seq2seq/_beam_search_ops.so).\n",
      "TensorFlow Addons has compiled its custom ops against TensorFlow 2.4.0, and there are no compatibility guarantees between the two versions. \n",
      "This means that you might get segfaults when loading the custom op, or other kind of low-level errors.\n",
      " If you do, do not file an issue on Github. This is a known limitation.\n",
      "\n",
      "It might help you to fallback to pure Python ops with TF_ADDONS_PY_OPS . To do that, see https://github.com/tensorflow/addons#gpucpu-custom-ops \n",
      "\n",
      "You can also change the TensorFlow version installed on your system. You would need a TensorFlow version equal to or above 2.4.0 and strictly below 2.5.0.\n",
      " Note that nightly versions of TensorFlow, as well as non-pip TensorFlow like `conda install tensorflow` or compiled from source are not supported.\n",
      "\n",
      "The last solution is to find the TensorFlow Addons version that has custom ops compatible with the TensorFlow installed on your system. To do that, refer to the readme: https://github.com/tensorflow/addons\n",
      "  warnings.warn(\n",
      "/home/ubuntu/.local/lib/python3.8/site-packages/malaya_boilerplate/frozen_graph.py:28: UserWarning: Cannot import beam_search_ops from Tensorflow Addons, `deep_model` for stemmer will not available to use, make sure Tensorflow Addons version >= 0.12.0\n",
      "  warnings.warn(\n"
     ]
    },
    {
     "data": {
      "text/plain": [
       "'1.2.6.1'"
      ]
     },
     "execution_count": 3,
     "metadata": {},
     "output_type": "execute_result"
    }
   ],
   "source": [
    "import malaya_speech\n",
    "import json\n",
    "\n",
    "malaya_speech.__version__"
   ]
  },
  {
   "cell_type": "code",
   "execution_count": 4,
   "id": "7187367f",
   "metadata": {},
   "outputs": [
    {
     "data": {
      "text/plain": [
       "3579"
      ]
     },
     "execution_count": 4,
     "metadata": {},
     "output_type": "execute_result"
    }
   ],
   "source": [
    "from glob import glob\n",
    "singlish = sorted(glob('/home/ubuntu/wav2vec2/singlish-test/*.wav'), key = lambda x: int(x.split('/')[-1].replace('.wav', '')))\n",
    "len(singlish)"
   ]
  },
  {
   "cell_type": "code",
   "execution_count": 5,
   "id": "1f3da4f2",
   "metadata": {},
   "outputs": [
    {
     "data": {
      "text/plain": [
       "3579"
      ]
     },
     "execution_count": 5,
     "metadata": {},
     "output_type": "execute_result"
    }
   ],
   "source": [
    "with open('/home/ubuntu/wav2vec2/singlish-test.json') as fopen:\n",
    "    singlish_label = json.load(fopen)\n",
    "    \n",
    "len(singlish_label)"
   ]
  },
  {
   "cell_type": "code",
   "execution_count": 6,
   "id": "38707301",
   "metadata": {},
   "outputs": [
    {
     "data": {
      "text/plain": [
       "[('/home/ubuntu/wav2vec2/singlish-test/669.wav',\n",
       "  'for good reasons each distrusts the other'),\n",
       " ('/home/ubuntu/wav2vec2/singlish-test/2175.wav',\n",
       "  'boeing denied the trade case was motivated by those talks'),\n",
       " ('/home/ubuntu/wav2vec2/singlish-test/39.wav',\n",
       "  'he was elected after winning the mandate of the people'),\n",
       " ('/home/ubuntu/wav2vec2/singlish-test/2044.wav',\n",
       "  'we watched the drama unfold before our eyes'),\n",
       " ('/home/ubuntu/wav2vec2/singlish-test/2073.wav',\n",
       "  'the witch put a spell on the prince but it was the wrong one'),\n",
       " ('/home/ubuntu/wav2vec2/singlish-test/799.wav',\n",
       "  'this kind of packaging can pose a danger to animals'),\n",
       " ('/home/ubuntu/wav2vec2/singlish-test/796.wav',\n",
       "  'the couple went on an enriching adventure together'),\n",
       " ('/home/ubuntu/wav2vec2/singlish-test/622.wav',\n",
       "  'he has crawled into them mirror and torch in hand to ensure that they are ready'),\n",
       " ('/home/ubuntu/wav2vec2/singlish-test/2114.wav',\n",
       "  'the student skated onto the stage to receive his certificate'),\n",
       " ('/home/ubuntu/wav2vec2/singlish-test/3305.wav',\n",
       "  'are singaporean really in trouble')]"
      ]
     },
     "execution_count": 6,
     "metadata": {},
     "output_type": "execute_result"
    }
   ],
   "source": [
    "from sklearn.utils import shuffle\n",
    "\n",
    "audio = singlish\n",
    "labels = singlish_label\n",
    "audio, labels = shuffle(audio, labels)\n",
    "test_set = list(zip(audio, labels))\n",
    "test_set[:10]"
   ]
  },
  {
   "cell_type": "code",
   "execution_count": 7,
   "id": "2d1f2d16",
   "metadata": {},
   "outputs": [],
   "source": [
    "import kenlm\n",
    "from pyctcdecode.language_model import LanguageModel"
   ]
  },
  {
   "cell_type": "code",
   "execution_count": 8,
   "id": "9cc63748",
   "metadata": {},
   "outputs": [],
   "source": [
    "lm = malaya_speech.stt.language_model(model = 'bahasa-manglish-combined')"
   ]
  },
  {
   "cell_type": "code",
   "execution_count": 9,
   "id": "efb4936c",
   "metadata": {},
   "outputs": [],
   "source": [
    "kenlm_model = kenlm.Model(lm)\n",
    "language_model = LanguageModel(kenlm_model, alpha = 0.01, beta = 0.5)"
   ]
  },
  {
   "cell_type": "code",
   "execution_count": 10,
   "id": "100e5a81",
   "metadata": {},
   "outputs": [],
   "source": [
    "y, _ = malaya_speech.load(test_set[0][0])\n",
    "y1, _ = malaya_speech.load(test_set[1][0])"
   ]
  },
  {
   "cell_type": "code",
   "execution_count": 11,
   "id": "d39d610f",
   "metadata": {},
   "outputs": [
    {
     "data": {
      "application/vnd.jupyter.widget-view+json": {
       "model_id": "4a006679973946d7bde7f53ee3aac0d8",
       "version_major": 2,
       "version_minor": 0
      },
      "text/plain": [
       "Downloading:   0%|          | 0.00/404M [00:00<?, ?B/s]"
      ]
     },
     "metadata": {},
     "output_type": "display_data"
    },
    {
     "name": "stderr",
     "output_type": "stream",
     "text": [
      "2022-06-12 11:21:56.477913: I tensorflow/core/platform/cpu_feature_guard.cc:142] This TensorFlow binary is optimized with oneAPI Deep Neural Network Library (oneDNN) to use the following CPU instructions in performance-critical operations:  AVX2 AVX512F FMA\n",
      "To enable them in other operations, rebuild TensorFlow with the appropriate compiler flags.\n",
      "2022-06-12 11:21:56.482067: E tensorflow/stream_executor/cuda/cuda_driver.cc:271] failed call to cuInit: CUDA_ERROR_NO_DEVICE: no CUDA-capable device is detected\n",
      "2022-06-12 11:21:56.482090: I tensorflow/stream_executor/cuda/cuda_diagnostics.cc:169] retrieving CUDA diagnostic information for host: huseincomel-desktop\n",
      "2022-06-12 11:21:56.482095: I tensorflow/stream_executor/cuda/cuda_diagnostics.cc:176] hostname: huseincomel-desktop\n",
      "2022-06-12 11:21:56.482174: I tensorflow/stream_executor/cuda/cuda_diagnostics.cc:200] libcuda reported version is: Not found: was unable to find libcuda.so DSO loaded into this program\n",
      "2022-06-12 11:21:56.482207: I tensorflow/stream_executor/cuda/cuda_diagnostics.cc:204] kernel reported version is: 470.129.6\n"
     ]
    }
   ],
   "source": [
    "model = malaya_speech.stt.deep_transducer(model = 'large-conformer-singlish')"
   ]
  },
  {
   "cell_type": "code",
   "execution_count": 12,
   "id": "5e2b4ae3",
   "metadata": {},
   "outputs": [
    {
     "name": "stdout",
     "output_type": "stream",
     "text": [
      "CPU times: user 11.1 s, sys: 567 ms, total: 11.7 s\n",
      "Wall time: 7.37 s\n"
     ]
    },
    {
     "data": {
      "text/plain": [
       "['for good reasons it distrust the other',\n",
       " 'boeing denied the trade case was motivated by those talks']"
      ]
     },
     "execution_count": 12,
     "metadata": {},
     "output_type": "execute_result"
    }
   ],
   "source": [
    "%%time\n",
    "\n",
    "model.beam_decoder_lm([y, y1], language_model)"
   ]
  },
  {
   "cell_type": "code",
   "execution_count": 13,
   "id": "51aab95a",
   "metadata": {},
   "outputs": [],
   "source": [
    "def calculate_cer(actual, hyp):\n",
    "    \"\"\"\n",
    "    Calculate CER using `python-Levenshtein`.\n",
    "    \"\"\"\n",
    "    import Levenshtein as Lev\n",
    "\n",
    "    actual = actual.replace(' ', '')\n",
    "    hyp = hyp.replace(' ', '')\n",
    "    return Lev.distance(actual, hyp) / len(actual)\n",
    "\n",
    "\n",
    "def calculate_wer(actual, hyp):\n",
    "    \"\"\"\n",
    "    Calculate WER using `python-Levenshtein`.\n",
    "    \"\"\"\n",
    "    import Levenshtein as Lev\n",
    "\n",
    "    b = set(actual.split() + hyp.split())\n",
    "    word2char = dict(zip(b, range(len(b))))\n",
    "\n",
    "    w1 = [chr(word2char[w]) for w in actual.split()]\n",
    "    w2 = [chr(word2char[w]) for w in hyp.split()]\n",
    "\n",
    "    return Lev.distance(''.join(w1), ''.join(w2)) / len(actual.split())"
   ]
  },
  {
   "cell_type": "code",
   "execution_count": 14,
   "id": "2bd3929f",
   "metadata": {},
   "outputs": [
    {
     "name": "stderr",
     "output_type": "stream",
     "text": [
      "  1%|          | 5/895 [00:47<2:18:12,  9.32s/it]2022-06-12 11:23:05.757435: W tensorflow/core/framework/cpu_allocator_impl.cc:80] Allocation of 35758080 exceeds 10% of free system memory.\n",
      "2022-06-12 11:23:09.072205: W tensorflow/core/framework/cpu_allocator_impl.cc:80] Allocation of 35758080 exceeds 10% of free system memory.\n",
      "  1%|          | 7/895 [01:09<2:31:20, 10.23s/it]2022-06-12 11:23:27.789107: W tensorflow/core/framework/cpu_allocator_impl.cc:80] Allocation of 33454080 exceeds 10% of free system memory.\n",
      "2022-06-12 11:23:31.372088: W tensorflow/core/framework/cpu_allocator_impl.cc:80] Allocation of 33454080 exceeds 10% of free system memory.\n",
      "  1%|          | 11/895 [01:48<2:18:45,  9.42s/it]2022-06-12 11:24:06.371266: W tensorflow/core/framework/cpu_allocator_impl.cc:80] Allocation of 33177600 exceeds 10% of free system memory.\n",
      "100%|██████████| 895/895 [2:23:18<00:00,  9.61s/it]  \n"
     ]
    }
   ],
   "source": [
    "from tqdm import tqdm\n",
    "\n",
    "wer, cer = [], []\n",
    "wer_lm, cer_lm = [], []\n",
    "\n",
    "batch_size = 4\n",
    "for i in tqdm(range(0, len(audio), batch_size)):\n",
    "    \n",
    "    batch_x = audio[i: i + batch_size]\n",
    "    batch_y = labels[i: i + batch_size]\n",
    "    \n",
    "    ys = [malaya_speech.load(b)[0] for b in batch_x]\n",
    "    pred = model.beam_decoder(ys)\n",
    "    pred_lm = model.beam_decoder_lm(ys, language_model)\n",
    "    \n",
    "    for k in range(len(pred)):\n",
    "        \n",
    "        wer.append(calculate_wer(batch_y[k], pred[k]))\n",
    "        cer.append(calculate_cer(batch_y[k], pred[k]))\n",
    "        \n",
    "        wer_lm.append(calculate_wer(batch_y[k], pred_lm[k]))\n",
    "        cer_lm.append(calculate_cer(batch_y[k], pred_lm[k]))"
   ]
  },
  {
   "cell_type": "code",
   "execution_count": 15,
   "id": "419bb86e",
   "metadata": {},
   "outputs": [
    {
     "data": {
      "text/plain": [
       "(0.070147337953737,\n",
       " 0.035872015761097734,\n",
       " 0.06981206558101838,\n",
       " 0.03572307118016766)"
      ]
     },
     "execution_count": 15,
     "metadata": {},
     "output_type": "execute_result"
    }
   ],
   "source": [
    "import numpy as np\n",
    "\n",
    "np.mean(wer), np.mean(cer), np.mean(wer_lm), np.mean(cer_lm)"
   ]
  },
  {
   "cell_type": "code",
   "execution_count": null,
   "id": "0724bea9",
   "metadata": {},
   "outputs": [],
   "source": []
  }
 ],
 "metadata": {
  "kernelspec": {
   "display_name": "Python 3 (ipykernel)",
   "language": "python",
   "name": "python3"
  },
  "language_info": {
   "codemirror_mode": {
    "name": "ipython",
    "version": 3
   },
   "file_extension": ".py",
   "mimetype": "text/x-python",
   "name": "python",
   "nbconvert_exporter": "python",
   "pygments_lexer": "ipython3",
   "version": "3.8.10"
  }
 },
 "nbformat": 4,
 "nbformat_minor": 5
}

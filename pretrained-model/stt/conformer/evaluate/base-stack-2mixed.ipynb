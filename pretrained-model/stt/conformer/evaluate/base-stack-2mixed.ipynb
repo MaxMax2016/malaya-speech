{
 "cells": [
  {
   "cell_type": "code",
   "execution_count": 1,
   "id": "da777bd7",
   "metadata": {},
   "outputs": [],
   "source": [
    "import os\n",
    "\n",
    "os.environ['CUDA_VISIBLE_DEVICES'] = '1'\n",
    "os.environ['TF_FORCE_GPU_ALLOW_GROWTH'] = 'true'"
   ]
  },
  {
   "cell_type": "code",
   "execution_count": 2,
   "id": "830e5940",
   "metadata": {},
   "outputs": [
    {
     "data": {
      "text/plain": [
       "'0.0.24rc1'"
      ]
     },
     "execution_count": 2,
     "metadata": {},
     "output_type": "execute_result"
    }
   ],
   "source": [
    "import malaya_speech\n",
    "import json\n",
    "import tensorflow as tf\n",
    "import malaya_boilerplate\n",
    "\n",
    "malaya_boilerplate.__version__"
   ]
  },
  {
   "cell_type": "code",
   "execution_count": 3,
   "id": "0cb95527",
   "metadata": {
    "scrolled": true
   },
   "outputs": [
    {
     "data": {
      "application/vnd.jupyter.widget-view+json": {
       "model_id": "b66760a0467d4b49b92c2cf43f8e38b0",
       "version_major": 2,
       "version_minor": 0
      },
      "text/plain": [
       "Downloading:   0%|          | 0.00/125M [00:00<?, ?B/s]"
      ]
     },
     "metadata": {},
     "output_type": "display_data"
    },
    {
     "data": {
      "application/vnd.jupyter.widget-view+json": {
       "model_id": "76f754ddedc0451b82e1e0baf54bb834",
       "version_major": 2,
       "version_minor": 0
      },
      "text/plain": [
       "Downloading:   0%|          | 0.00/1.47k [00:00<?, ?B/s]"
      ]
     },
     "metadata": {},
     "output_type": "display_data"
    },
    {
     "data": {
      "application/vnd.jupyter.widget-view+json": {
       "model_id": "4aa33c9ebbdf4b9da2926eca0d04804d",
       "version_major": 2,
       "version_minor": 0
      },
      "text/plain": [
       "Downloading:   0%|          | 0.00/1.42k [00:00<?, ?B/s]"
      ]
     },
     "metadata": {},
     "output_type": "display_data"
    },
    {
     "name": "stderr",
     "output_type": "stream",
     "text": [
      "2023-01-27 15:34:46.017561: I tensorflow/core/platform/cpu_feature_guard.cc:142] This TensorFlow binary is optimized with oneAPI Deep Neural Network Library (oneDNN) to use the following CPU instructions in performance-critical operations:  AVX2 FMA\n",
      "To enable them in other operations, rebuild TensorFlow with the appropriate compiler flags.\n",
      "2023-01-27 15:34:46.023533: I tensorflow/stream_executor/cuda/cuda_gpu_executor.cc:937] successful NUMA node read from SysFS had negative value (-1), but there must be at least one NUMA node, so returning NUMA node zero\n",
      "2023-01-27 15:34:46.027590: I tensorflow/stream_executor/cuda/cuda_gpu_executor.cc:937] successful NUMA node read from SysFS had negative value (-1), but there must be at least one NUMA node, so returning NUMA node zero\n",
      "2023-01-27 15:34:46.028355: I tensorflow/stream_executor/cuda/cuda_gpu_executor.cc:937] successful NUMA node read from SysFS had negative value (-1), but there must be at least one NUMA node, so returning NUMA node zero\n",
      "2023-01-27 15:34:46.390685: I tensorflow/stream_executor/cuda/cuda_gpu_executor.cc:937] successful NUMA node read from SysFS had negative value (-1), but there must be at least one NUMA node, so returning NUMA node zero\n",
      "2023-01-27 15:34:46.391506: I tensorflow/stream_executor/cuda/cuda_gpu_executor.cc:937] successful NUMA node read from SysFS had negative value (-1), but there must be at least one NUMA node, so returning NUMA node zero\n",
      "2023-01-27 15:34:46.392131: I tensorflow/stream_executor/cuda/cuda_gpu_executor.cc:937] successful NUMA node read from SysFS had negative value (-1), but there must be at least one NUMA node, so returning NUMA node zero\n",
      "2023-01-27 15:34:46.392529: W tensorflow/core/common_runtime/gpu/gpu_bfc_allocator.cc:39] Overriding allow_growth setting because the TF_FORCE_GPU_ALLOW_GROWTH environment variable is set. Original config value was 0.\n",
      "2023-01-27 15:34:46.392545: I tensorflow/core/common_runtime/gpu/gpu_device.cc:1510] Created device /device:GPU:0 with 19101 MB memory:  -> device: 0, name: NVIDIA GeForce RTX 3090 Ti, pci bus id: 0000:07:00.0, compute capability: 8.6\n",
      "2023-01-27 15:34:55.643374: I tensorflow/stream_executor/cuda/cuda_gpu_executor.cc:937] successful NUMA node read from SysFS had negative value (-1), but there must be at least one NUMA node, so returning NUMA node zero\n",
      "2023-01-27 15:34:55.644190: I tensorflow/stream_executor/cuda/cuda_gpu_executor.cc:937] successful NUMA node read from SysFS had negative value (-1), but there must be at least one NUMA node, so returning NUMA node zero\n",
      "2023-01-27 15:34:55.644861: I tensorflow/stream_executor/cuda/cuda_gpu_executor.cc:937] successful NUMA node read from SysFS had negative value (-1), but there must be at least one NUMA node, so returning NUMA node zero\n",
      "2023-01-27 15:34:55.645310: I tensorflow/stream_executor/cuda/cuda_gpu_executor.cc:937] successful NUMA node read from SysFS had negative value (-1), but there must be at least one NUMA node, so returning NUMA node zero\n",
      "2023-01-27 15:34:55.645812: I tensorflow/stream_executor/cuda/cuda_gpu_executor.cc:937] successful NUMA node read from SysFS had negative value (-1), but there must be at least one NUMA node, so returning NUMA node zero\n",
      "2023-01-27 15:34:55.646303: I tensorflow/core/common_runtime/gpu/gpu_device.cc:1510] Created device /job:localhost/replica:0/task:0/device:GPU:0 with 19101 MB memory:  -> device: 0, name: NVIDIA GeForce RTX 3090 Ti, pci bus id: 0000:07:00.0, compute capability: 8.6\n"
     ]
    }
   ],
   "source": [
    "model = malaya_speech.stt.deep_transducer(model = 'conformer-stack-2mixed', device = 'gpu:0')"
   ]
  },
  {
   "cell_type": "code",
   "execution_count": 4,
   "id": "db5d486b",
   "metadata": {},
   "outputs": [],
   "source": [
    "import malaya_speech\n",
    "import json\n",
    "\n",
    "with open('/home/husein/ssd1/speech-bahasa/malay-asr-test.json') as fopen:\n",
    "    test_set = json.load(fopen)"
   ]
  },
  {
   "cell_type": "code",
   "execution_count": 5,
   "id": "54eff29c",
   "metadata": {},
   "outputs": [],
   "source": [
    "y, sr = malaya_speech.load(test_set['X'][0])\n",
    "y1, sr = malaya_speech.load(test_set['X'][1])"
   ]
  },
  {
   "cell_type": "code",
   "execution_count": 6,
   "id": "7f686417",
   "metadata": {},
   "outputs": [
    {
     "name": "stderr",
     "output_type": "stream",
     "text": [
      "2023-01-27 15:34:58.894854: I tensorflow/stream_executor/cuda/cuda_blas.cc:1760] TensorFloat-32 will be used for the matrix multiplication. This will only be logged once.\n",
      "2023-01-27 15:34:59.284557: I tensorflow/stream_executor/cuda/cuda_dnn.cc:369] Loaded cuDNN version 8101\n",
      "2023-01-27 15:34:59.766172: I tensorflow/core/platform/default/subprocess.cc:304] Start cannot spawn child process: No such file or directory\n"
     ]
    },
    {
     "data": {
      "text/plain": [
       "['ms ialah penyakit yang mempengaruhi sistem saraf pusat yang dibentuk daripada otak saraf tunjang dan saraf optik',\n",
       " 'msla penyakit yang mempengaruhi sistem saraf yang dibentuk daripada kota saraf tunjang dan saraf optik']"
      ]
     },
     "execution_count": 6,
     "metadata": {},
     "output_type": "execute_result"
    }
   ],
   "source": [
    "model.greedy_decoder([y, y1])"
   ]
  },
  {
   "cell_type": "code",
   "execution_count": 7,
   "id": "afb85c4c",
   "metadata": {},
   "outputs": [],
   "source": [
    "batch_size = 3"
   ]
  },
  {
   "cell_type": "code",
   "execution_count": 8,
   "id": "0d68d5aa",
   "metadata": {},
   "outputs": [],
   "source": [
    "import kenlm\n",
    "from pyctcdecode.language_model import LanguageModel"
   ]
  },
  {
   "cell_type": "code",
   "execution_count": 9,
   "id": "cc737778",
   "metadata": {},
   "outputs": [],
   "source": [
    "kenlm_model = kenlm.Model('model.klm')\n",
    "language_model = LanguageModel(kenlm_model, alpha = 0.01, beta = 0.5)"
   ]
  },
  {
   "cell_type": "code",
   "execution_count": 10,
   "id": "40ee9e62",
   "metadata": {},
   "outputs": [
    {
     "data": {
      "text/plain": [
       "['ms ialah penyakit yang mempengaruhi sistem saraf pusat yang dibentuk daripada otak saraf tunjang dan zarah optik',\n",
       " 'ms ialah penyakit yang mempengaruhi sistem saraf yang dibentuk daripada kota saraf tunjang dan saraf optik']"
      ]
     },
     "execution_count": 10,
     "metadata": {},
     "output_type": "execute_result"
    }
   ],
   "source": [
    "model.beam_decoder_lm([y, y1], language_model)"
   ]
  },
  {
   "cell_type": "code",
   "execution_count": 11,
   "id": "8966daf4",
   "metadata": {
    "scrolled": true
   },
   "outputs": [
    {
     "data": {
      "text/plain": [
       "(<function malaya_speech.utils.metrics.calculate_wer(actual, hyp)>,\n",
       " <function malaya_speech.utils.metrics.calculate_cer(actual, hyp)>)"
      ]
     },
     "execution_count": 11,
     "metadata": {},
     "output_type": "execute_result"
    }
   ],
   "source": [
    "malaya_speech.metrics.calculate_wer, malaya_speech.metrics.calculate_cer"
   ]
  },
  {
   "cell_type": "code",
   "execution_count": 12,
   "id": "5c4c3b88",
   "metadata": {},
   "outputs": [
    {
     "name": "stderr",
     "output_type": "stream",
     "text": [
      "100%|██████████████████████████████████████████████████████████████████████████████████████████████████| 247/247 [41:43<00:00, 10.14s/it]\n"
     ]
    }
   ],
   "source": [
    "from tqdm import tqdm\n",
    "\n",
    "wer, cer = [], []\n",
    "wer_lm, cer_lm = [], []\n",
    "\n",
    "for i in tqdm(range(0, len(test_set['X']), batch_size)):\n",
    "    batch = test_set['X'][i: i + batch_size]\n",
    "    ys = [malaya_speech.load(k)[0] for k in batch]\n",
    "    greedy_decoded = model.greedy_decoder(ys)\n",
    "    lm_decoded = model.beam_decoder_lm(ys, language_model)\n",
    "    \n",
    "    texts = test_set['Y'][i: i + batch_size]\n",
    "    \n",
    "    for d, t in zip(greedy_decoded, texts):\n",
    "        wer.append(malaya_speech.metrics.calculate_wer(t, d))\n",
    "        cer.append(malaya_speech.metrics.calculate_cer(t, d))\n",
    "        \n",
    "    for d, t in zip(lm_decoded, texts):\n",
    "        wer_lm.append(malaya_speech.metrics.calculate_wer(t, d))\n",
    "        cer_lm.append(malaya_speech.metrics.calculate_cer(t, d))"
   ]
  },
  {
   "cell_type": "code",
   "execution_count": 15,
   "id": "05d80a41",
   "metadata": {
    "scrolled": true
   },
   "outputs": [],
   "source": [
    "import numpy as np"
   ]
  },
  {
   "cell_type": "code",
   "execution_count": 16,
   "id": "9d659f1a",
   "metadata": {},
   "outputs": [
    {
     "data": {
      "text/plain": [
       "(0.24483694813923196,\n",
       " 0.11740932775605861,\n",
       " 0.2224221577664085,\n",
       " 0.10805900747363882)"
      ]
     },
     "execution_count": 16,
     "metadata": {},
     "output_type": "execute_result"
    }
   ],
   "source": [
    "np.mean(wer), np.mean(cer), np.mean(wer_lm), np.mean(cer_lm)"
   ]
  },
  {
   "cell_type": "code",
   "execution_count": null,
   "metadata": {},
   "outputs": [],
   "source": []
  }
 ],
 "metadata": {
  "kernelspec": {
   "display_name": "Python 3 (ipykernel)",
   "language": "python",
   "name": "python3"
  },
  "language_info": {
   "codemirror_mode": {
    "name": "ipython",
    "version": 3
   },
   "file_extension": ".py",
   "mimetype": "text/x-python",
   "name": "python",
   "nbconvert_exporter": "python",
   "pygments_lexer": "ipython3",
   "version": "3.8.10"
  }
 },
 "nbformat": 4,
 "nbformat_minor": 5
}

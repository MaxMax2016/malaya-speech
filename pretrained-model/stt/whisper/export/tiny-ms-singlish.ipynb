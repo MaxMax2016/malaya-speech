{
 "cells": [
  {
   "cell_type": "code",
   "execution_count": 1,
   "metadata": {},
   "outputs": [],
   "source": [
    "import os\n",
    "\n",
    "os.environ['CUDA_VISIBLE_DEVICES'] = '1'"
   ]
  },
  {
   "cell_type": "code",
   "execution_count": 2,
   "metadata": {},
   "outputs": [],
   "source": [
    "from transformers import (\n",
    "    AutoConfig,\n",
    "    AutoFeatureExtractor,\n",
    "    AutoModelForSpeechSeq2Seq,\n",
    "    AutoProcessor,\n",
    "    AutoTokenizer,\n",
    "    HfArgumentParser,\n",
    "    Seq2SeqTrainer,\n",
    "    Seq2SeqTrainingArguments,\n",
    "    set_seed,\n",
    ")"
   ]
  },
  {
   "cell_type": "code",
   "execution_count": 3,
   "metadata": {},
   "outputs": [],
   "source": [
    "model_name = 'openai/whisper-tiny'"
   ]
  },
  {
   "cell_type": "code",
   "execution_count": 4,
   "metadata": {},
   "outputs": [],
   "source": [
    "from pytorch_lightning import LightningDataModule, LightningModule, Trainer, seed_everything\n",
    "\n",
    "class Model(LightningModule):\n",
    "    def __init__(\n",
    "        self,\n",
    "        model_name_or_path: str,\n",
    "        learning_rate: float = 2e-5,\n",
    "        adam_epsilon: float = 1e-8,\n",
    "        warmup_steps: int = 1000,\n",
    "        weight_decay: float = 0.0,\n",
    "        eval_splits=None,\n",
    "        **kwargs,\n",
    "    ):\n",
    "        super().__init__()\n",
    "\n",
    "        self.save_hyperparameters()\n",
    "        self.config = AutoConfig.from_pretrained(model_name_or_path)\n",
    "        self.model = AutoModelForSpeechSeq2Seq.from_pretrained(model_name_or_path, config=self.config)\n",
    "\n",
    "    def forward(self, **inputs):\n",
    "        return self.model(**inputs)"
   ]
  },
  {
   "cell_type": "code",
   "execution_count": 5,
   "metadata": {},
   "outputs": [
    {
     "name": "stdout",
     "output_type": "stream",
     "text": [
      "'model-epoch=05-step=880500.ckpt'  'model-epoch=05-step=882000.ckpt'\r\n",
      "'model-epoch=05-step=881000.ckpt'  'model-epoch=05-step=882500.ckpt'\r\n",
      "'model-epoch=05-step=881500.ckpt'\r\n"
     ]
    }
   ],
   "source": [
    "!ls openai-whisper-tiny-16"
   ]
  },
  {
   "cell_type": "code",
   "execution_count": 6,
   "metadata": {},
   "outputs": [],
   "source": [
    "model = Model.load_from_checkpoint(\"openai-whisper-tiny-16/model-epoch=05-step=882500.ckpt\")"
   ]
  },
  {
   "cell_type": "code",
   "execution_count": 7,
   "metadata": {},
   "outputs": [],
   "source": [
    "model.model.save_pretrained('./ms-tiny')"
   ]
  },
  {
   "cell_type": "code",
   "execution_count": null,
   "metadata": {},
   "outputs": [],
   "source": [
    "feature_extractor = AutoFeatureExtractor.from_pretrained(model_name)\n",
    "tokenizer = AutoTokenizer.from_pretrained(model_name)"
   ]
  },
  {
   "cell_type": "code",
   "execution_count": null,
   "metadata": {},
   "outputs": [],
   "source": [
    "feature_extractor.save_pretrained('./ms-tiny')\n",
    "tokenizer.save_pretrained('./ms-tiny')"
   ]
  },
  {
   "cell_type": "code",
   "execution_count": null,
   "metadata": {},
   "outputs": [],
   "source": [
    "processor = AutoProcessor.from_pretrained('./ms-tiny')"
   ]
  },
  {
   "cell_type": "code",
   "execution_count": null,
   "metadata": {},
   "outputs": [],
   "source": [
    "processor.push_to_hub('finetune-whisper-tiny-ms-singlish', organization='mesolitica')"
   ]
  },
  {
   "cell_type": "code",
   "execution_count": null,
   "metadata": {},
   "outputs": [],
   "source": [
    "model.model.push_to_hub('finetune-whisper-tiny-ms-singlish', organization='mesolitica')"
   ]
  },
  {
   "cell_type": "code",
   "execution_count": null,
   "metadata": {},
   "outputs": [],
   "source": [
    "feature_extractor.push_to_hub('finetune-whisper-tiny-ms-singlish', organization='mesolitica')"
   ]
  },
  {
   "cell_type": "code",
   "execution_count": null,
   "metadata": {
    "scrolled": true
   },
   "outputs": [],
   "source": [
    "tokenizer.push_to_hub('finetune-whisper-tiny-ms-singlish', organization='mesolitica')"
   ]
  },
  {
   "cell_type": "code",
   "execution_count": 8,
   "metadata": {},
   "outputs": [],
   "source": [
    "from transformers import AutoProcessor, AutoModelForSpeechSeq2Seq, WhisperProcessor"
   ]
  },
  {
   "cell_type": "code",
   "execution_count": 9,
   "metadata": {},
   "outputs": [],
   "source": [
    "new_model = AutoModelForSpeechSeq2Seq.from_pretrained('ms-tiny')"
   ]
  },
  {
   "cell_type": "code",
   "execution_count": 10,
   "metadata": {},
   "outputs": [],
   "source": [
    "processor = AutoProcessor.from_pretrained('ms-tiny')"
   ]
  },
  {
   "cell_type": "code",
   "execution_count": 11,
   "metadata": {},
   "outputs": [],
   "source": [
    "import malaya_speech\n",
    "import json\n",
    "\n",
    "with open('/home/husein/ssd1/speech-bahasa/malay-asr-test.json') as fopen:\n",
    "    test_set = json.load(fopen)"
   ]
  },
  {
   "cell_type": "code",
   "execution_count": 12,
   "metadata": {},
   "outputs": [],
   "source": [
    "ys = [malaya_speech.load(f)[0] for f in test_set['X'][:3] + ['singlish0.wav', 'husein-zolkepli.wav']]"
   ]
  },
  {
   "cell_type": "code",
   "execution_count": 13,
   "metadata": {},
   "outputs": [
    {
     "name": "stderr",
     "output_type": "stream",
     "text": [
      "It is strongly recommended to pass the `sampling_rate` argument to this function. Failing to do so can result in silent errors that might be hard to debug.\n"
     ]
    },
    {
     "data": {
      "text/plain": [
       "torch.Size([5, 80, 3000])"
      ]
     },
     "execution_count": 13,
     "metadata": {},
     "output_type": "execute_result"
    }
   ],
   "source": [
    "input_features = processor(ys, return_tensors=\"pt\").input_features\n",
    "input_features.shape"
   ]
  },
  {
   "cell_type": "code",
   "execution_count": 14,
   "metadata": {},
   "outputs": [
    {
     "data": {
      "text/plain": [
       "['ms ialah penyakit yang mempengaruhi sistem saraf pusat yang dibentuk daripada otak saraf tunjang dan saraf optik',\n",
       " 'msial penyakit yang mempengaruhi sistem saraf pesat yang dibentuk daripada otak saraf punjang dan saraf otak',\n",
       " 'genistik s dan joash mempunyai matlamat yang sama menjadikan sukan jimnas tik dan lain lain selamat bagi para atlet untuk mengejar impian mereka dalam persekitaran yang selamat positif dan berdaya maju',\n",
       " 'and then see how they roll it in film okay actually',\n",
       " 'testing nama saya hussein bin zulkifli']"
      ]
     },
     "execution_count": 14,
     "metadata": {},
     "output_type": "execute_result"
    }
   ],
   "source": [
    "o = new_model.generate(input_features, max_length = 256)\n",
    "processor.tokenizer.batch_decode(o, skip_special_tokens = True)"
   ]
  },
  {
   "cell_type": "code",
   "execution_count": 15,
   "metadata": {},
   "outputs": [
    {
     "data": {
      "text/plain": [
       "['ms ialah penyakit yang mempengaruhi sistem saraf pusat yang dibentuk daripada otak saraf tunjang dan saraf optik',\n",
       " 'ms ialah penyakit yang mempengaruhi sistem saraf pusat yang dibentuk daripada otak saraf tunjang dan saraf optik',\n",
       " 'gimnastik as dan joas mempunyai matlamat yang sama menjadikan sukan gimnastik dan lain lain selamat bagi para atlet untuk mengejar impian mereka dalam persekitaran yang selamat positif dan berdaya maju']"
      ]
     },
     "execution_count": 15,
     "metadata": {},
     "output_type": "execute_result"
    }
   ],
   "source": [
    "test_set['Y'][:3]"
   ]
  },
  {
   "cell_type": "code",
   "execution_count": 16,
   "metadata": {},
   "outputs": [],
   "source": [
    "def calculate_cer(actual, hyp):\n",
    "    \"\"\"\n",
    "    Calculate CER using `python-Levenshtein`.\n",
    "    \"\"\"\n",
    "    import Levenshtein as Lev\n",
    "\n",
    "    actual = actual.replace(' ', '')\n",
    "    hyp = hyp.replace(' ', '')\n",
    "    return Lev.distance(actual, hyp) / len(actual)\n",
    "\n",
    "\n",
    "def calculate_wer(actual, hyp):\n",
    "    \"\"\"\n",
    "    Calculate WER using `python-Levenshtein`.\n",
    "    \"\"\"\n",
    "    import Levenshtein as Lev\n",
    "\n",
    "    b = set(actual.split() + hyp.split())\n",
    "    word2char = dict(zip(b, range(len(b))))\n",
    "\n",
    "    w1 = [chr(word2char[w]) for w in actual.split()]\n",
    "    w2 = [chr(word2char[w]) for w in hyp.split()]\n",
    "\n",
    "    return Lev.distance(''.join(w1), ''.join(w2)) / len(actual.split())"
   ]
  },
  {
   "cell_type": "code",
   "execution_count": 19,
   "metadata": {},
   "outputs": [],
   "source": [
    "import whisper\n",
    "import numpy as np"
   ]
  },
  {
   "cell_type": "code",
   "execution_count": 20,
   "metadata": {},
   "outputs": [
    {
     "name": "stdout",
     "output_type": "stream",
     "text": [
      "CPU times: user 148 ms, sys: 33.1 ms, total: 182 ms\n",
      "Wall time: 20.9 ms\n"
     ]
    },
    {
     "data": {
      "text/plain": [
       "tensor([[[-0.0516,  0.4085,  0.3821,  ..., -0.5135, -0.5135, -0.5135],\n",
       "         [-0.1247,  0.4903,  0.4155,  ..., -0.5135, -0.5135, -0.5135],\n",
       "         [-0.1859,  0.4564,  0.4616,  ..., -0.5135, -0.5135, -0.5135],\n",
       "         ...,\n",
       "         [-0.3687, -0.2347, -0.3009,  ..., -0.5135, -0.5135, -0.5135],\n",
       "         [-0.3810, -0.2193, -0.2694,  ..., -0.5135, -0.5135, -0.5135],\n",
       "         [-0.5135, -0.4485, -0.4505,  ..., -0.5135, -0.5135, -0.5135]],\n",
       "\n",
       "        [[-0.1295,  0.4186,  0.3930,  ..., -0.6736, -0.6736, -0.6736],\n",
       "         [-0.3456,  0.3302,  0.2207,  ..., -0.6736, -0.6736, -0.6736],\n",
       "         [-0.1814,  0.1878,  0.0392,  ..., -0.6736, -0.6736, -0.6736],\n",
       "         ...,\n",
       "         [-0.3620, -0.1888, -0.4334,  ..., -0.6736, -0.6736, -0.6736],\n",
       "         [-0.3190, -0.1748, -0.3538,  ..., -0.6736, -0.6736, -0.6736],\n",
       "         [-0.4876, -0.3338, -0.4731,  ..., -0.6736, -0.6736, -0.6736]],\n",
       "\n",
       "        [[ 0.7996,  1.2242,  1.1701,  ..., -0.6703, -0.6703, -0.6703],\n",
       "         [ 0.7265,  1.0669,  0.9106,  ..., -0.6703, -0.6703, -0.6703],\n",
       "         [ 0.8751,  0.9612,  0.5848,  ..., -0.6703, -0.6703, -0.6703],\n",
       "         ...,\n",
       "         [-0.0873, -0.0216, -0.2241,  ..., -0.6703, -0.6703, -0.6703],\n",
       "         [-0.1048, -0.0167, -0.3157,  ..., -0.6703, -0.6703, -0.6703],\n",
       "         [-0.2290, -0.1409, -0.4212,  ..., -0.6703, -0.6703, -0.6703]],\n",
       "\n",
       "        [[ 0.6132,  0.4435,  0.4571,  ..., -0.6065, -0.6065, -0.6065],\n",
       "         [ 0.5801,  0.3650,  0.4413,  ..., -0.6065, -0.6065, -0.6065],\n",
       "         [ 0.4686,  0.2726,  0.4171,  ..., -0.6065, -0.6065, -0.6065],\n",
       "         ...,\n",
       "         [-0.4272, -0.4377, -0.5185,  ..., -0.6065, -0.6065, -0.6065],\n",
       "         [-0.5136, -0.4754, -0.4674,  ..., -0.6065, -0.6065, -0.6065],\n",
       "         [-0.6065, -0.6065, -0.6065,  ..., -0.6065, -0.6065, -0.6065]],\n",
       "\n",
       "        [[-0.5442, -0.2304,  0.1866,  ..., -0.5442, -0.5442, -0.5442],\n",
       "         [-0.3911,  0.0378,  0.2688,  ..., -0.5442, -0.5442, -0.5442],\n",
       "         [-0.1252,  0.1827,  0.3911,  ..., -0.5442, -0.5442, -0.5442],\n",
       "         ...,\n",
       "         [-0.2986, -0.2739, -0.3483,  ..., -0.5442, -0.5442, -0.5442],\n",
       "         [-0.3236, -0.3582, -0.4355,  ..., -0.5442, -0.5442, -0.5442],\n",
       "         [-0.2814, -0.2840, -0.3256,  ..., -0.5442, -0.5442, -0.5442]]])"
      ]
     },
     "execution_count": 20,
     "metadata": {},
     "output_type": "execute_result"
    }
   ],
   "source": [
    "%%time\n",
    "\n",
    "mels = []\n",
    "inputs = ys\n",
    "for k in range(len(inputs)):\n",
    "    audio = whisper.pad_or_trim(inputs[k].astype(np.float32).flatten())\n",
    "    mel = whisper.log_mel_spectrogram(audio)\n",
    "    mels.append({'input_features': mel})\n",
    "    \n",
    "batch = processor.feature_extractor.pad(mels, return_tensors=\"pt\")\n",
    "batch.input_features"
   ]
  },
  {
   "cell_type": "code",
   "execution_count": 21,
   "metadata": {},
   "outputs": [],
   "source": [
    "_ = new_model.cuda()"
   ]
  },
  {
   "cell_type": "code",
   "execution_count": 24,
   "metadata": {},
   "outputs": [
    {
     "name": "stderr",
     "output_type": "stream",
     "text": [
      "100%|██████████████████████████████████████████████████████████████████████████████████████████████████| 370/370 [00:52<00:00,  6.99it/s]\n"
     ]
    }
   ],
   "source": [
    "from tqdm import tqdm\n",
    "\n",
    "wer, cer = [], []\n",
    "\n",
    "batch_size = 2\n",
    "for i in tqdm(range(0, len(test_set['X']), batch_size)):\n",
    "    batch_y = test_set['Y'][i: i + batch_size]\n",
    "    ys = [malaya_speech.load(f)[0] for f in test_set['X'][i: i + batch_size]]\n",
    "    mels = []\n",
    "    for k in range(len(ys)):\n",
    "        audio = whisper.pad_or_trim(ys[k].astype(np.float32))\n",
    "        mel = whisper.log_mel_spectrogram(audio)\n",
    "        mels.append({'input_features': mel})\n",
    "\n",
    "    batch = processor.feature_extractor.pad(mels, return_tensors=\"pt\")\n",
    "    input_features = batch.input_features\n",
    "    o = new_model.generate(input_features.cuda(), max_length = 256)\n",
    "    pred = processor.tokenizer.batch_decode(o, skip_special_tokens = True)\n",
    "    \n",
    "    for k in range(len(pred)):\n",
    "        wer.append(calculate_wer(batch_y[k], pred[k]))\n",
    "        cer.append(calculate_cer(batch_y[k], pred[k]))"
   ]
  },
  {
   "cell_type": "code",
   "execution_count": 25,
   "metadata": {},
   "outputs": [
    {
     "data": {
      "text/plain": [
       "(0.23568097573673807, 0.09868808772213333)"
      ]
     },
     "execution_count": 25,
     "metadata": {},
     "output_type": "execute_result"
    }
   ],
   "source": [
    "np.mean(wer), np.mean(cer)"
   ]
  },
  {
   "cell_type": "code",
   "execution_count": 26,
   "metadata": {},
   "outputs": [],
   "source": [
    "with open('postprocess-malaya-malay-test-set.json') as fopen:\n",
    "    malaya_malay = json.load(fopen)"
   ]
  },
  {
   "cell_type": "code",
   "execution_count": 30,
   "metadata": {},
   "outputs": [
    {
     "name": "stderr",
     "output_type": "stream",
     "text": [
      "100%|██████████████████████████████████████████████████████████████████████████████████████████████████| 765/765 [00:26<00:00, 28.53it/s]\n"
     ]
    }
   ],
   "source": [
    "wer, cer = [], []\n",
    "\n",
    "for i in tqdm(range(len(malaya_malay))):\n",
    "    if not malaya_malay[i]['accept']:\n",
    "        continue\n",
    "    \n",
    "    batch_y = [malaya_malay[i]['cleaned']]\n",
    "    ys = [malaya_speech.load(f)[0] for f in [f'malay-test/{i}.wav']]\n",
    "    mels = []\n",
    "    for k in range(len(ys)):\n",
    "        audio = whisper.pad_or_trim(ys[k].astype(np.float32))\n",
    "        mel = whisper.log_mel_spectrogram(audio)\n",
    "        mels.append({'input_features': mel})\n",
    "\n",
    "    batch = processor.feature_extractor.pad(mels, return_tensors=\"pt\")\n",
    "    input_features = batch.input_features\n",
    "    o = new_model.generate(input_features.cuda(), max_length = 256)\n",
    "    pred = processor.tokenizer.batch_decode(o, skip_special_tokens = True)\n",
    "    \n",
    "    for k in range(len(pred)):\n",
    "        wer.append(calculate_wer(batch_y[k], pred[k]))\n",
    "        cer.append(calculate_cer(batch_y[k], pred[k]))"
   ]
  },
  {
   "cell_type": "code",
   "execution_count": 31,
   "metadata": {},
   "outputs": [
    {
     "data": {
      "text/plain": [
       "(0.20141585284865918, 0.0719649087284043)"
      ]
     },
     "execution_count": 31,
     "metadata": {},
     "output_type": "execute_result"
    }
   ],
   "source": [
    "np.mean(wer), np.mean(cer)"
   ]
  },
  {
   "cell_type": "code",
   "execution_count": 32,
   "metadata": {},
   "outputs": [],
   "source": [
    "with open('singlish-test.json') as fopen:\n",
    "    singlish = json.load(fopen)"
   ]
  },
  {
   "cell_type": "code",
   "execution_count": 33,
   "metadata": {},
   "outputs": [
    {
     "name": "stderr",
     "output_type": "stream",
     "text": [
      "100%|████████████████████████████████████████████████████████████████████████████████████████████████| 3579/3579 [02:04<00:00, 28.85it/s]\n"
     ]
    }
   ],
   "source": [
    "wer, cer = [], []\n",
    "\n",
    "for i in tqdm(range(len(singlish))):\n",
    "    \n",
    "    batch_y = [singlish[i]]\n",
    "    ys = [malaya_speech.load(f)[0] for f in [f'singlish-test/{i}.wav']]\n",
    "    mels = []\n",
    "    for k in range(len(ys)):\n",
    "        audio = whisper.pad_or_trim(ys[k].astype(np.float32))\n",
    "        mel = whisper.log_mel_spectrogram(audio)\n",
    "        mels.append({'input_features': mel})\n",
    "\n",
    "    batch = processor.feature_extractor.pad(mels, return_tensors=\"pt\")\n",
    "    input_features = batch.input_features\n",
    "    o = new_model.generate(input_features.cuda(), max_length = 256)\n",
    "    pred = processor.tokenizer.batch_decode(o, skip_special_tokens = True)\n",
    "    \n",
    "    for k in range(len(pred)):\n",
    "        wer.append(calculate_wer(batch_y[k], pred[k]))\n",
    "        cer.append(calculate_cer(batch_y[k], pred[k]))"
   ]
  },
  {
   "cell_type": "code",
   "execution_count": 34,
   "metadata": {},
   "outputs": [
    {
     "data": {
      "text/plain": [
       "(0.09045121293531239, 0.0481965006993222)"
      ]
     },
     "execution_count": 34,
     "metadata": {},
     "output_type": "execute_result"
    }
   ],
   "source": [
    "np.mean(wer), np.mean(cer)"
   ]
  }
 ],
 "metadata": {
  "kernelspec": {
   "display_name": "Python 3 (ipykernel)",
   "language": "python",
   "name": "python3"
  },
  "language_info": {
   "codemirror_mode": {
    "name": "ipython",
    "version": 3
   },
   "file_extension": ".py",
   "mimetype": "text/x-python",
   "name": "python",
   "nbconvert_exporter": "python",
   "pygments_lexer": "ipython3",
   "version": "3.8.10"
  }
 },
 "nbformat": 4,
 "nbformat_minor": 4
}

{
 "cells": [
  {
   "cell_type": "code",
   "execution_count": 1,
   "id": "da777bd7",
   "metadata": {},
   "outputs": [],
   "source": [
    "import os\n",
    "\n",
    "os.environ['CUDA_VISIBLE_DEVICES'] = ''"
   ]
  },
  {
   "cell_type": "code",
   "execution_count": 2,
   "id": "830e5940",
   "metadata": {},
   "outputs": [
    {
     "name": "stdout",
     "output_type": "stream",
     "text": [
      "WARNING:tensorflow:Deprecation warnings have been disabled. Set TF_ENABLE_DEPRECATION_WARNINGS=1 to re-enable them.\n"
     ]
    },
    {
     "name": "stderr",
     "output_type": "stream",
     "text": [
      "2022-08-13 15:53:23.028089: I tensorflow/stream_executor/platform/default/dso_loader.cc:49] Successfully opened dynamic library libcudart.so.11.0\n",
      "/home/husein/tf-nvidia/lib/python3.8/site-packages/tqdm/auto.py:22: TqdmWarning: IProgress not found. Please update jupyter and ipywidgets. See https://ipywidgets.readthedocs.io/en/stable/user_install.html\n",
      "  from .autonotebook import tqdm as notebook_tqdm\n"
     ]
    }
   ],
   "source": [
    "import malaya_speech\n",
    "import json"
   ]
  },
  {
   "cell_type": "code",
   "execution_count": 3,
   "id": "0cb95527",
   "metadata": {},
   "outputs": [
    {
     "name": "stderr",
     "output_type": "stream",
     "text": [
      "Downloading: 100%|██████████████████████████████████████████████████████████████████████████████| 51.9M/51.9M [00:05<00:00, 9.42MB/s]\n",
      "2022-08-13 15:53:37.962497: I tensorflow/core/platform/profile_utils/cpu_utils.cc:109] CPU Frequency: 2112000000 Hz\n",
      "2022-08-13 15:53:37.962981: I tensorflow/compiler/xla/service/service.cc:168] XLA service 0x6fe6a20 initialized for platform Host (this does not guarantee that XLA will be used). Devices:\n",
      "2022-08-13 15:53:37.962996: I tensorflow/compiler/xla/service/service.cc:176]   StreamExecutor device (0): Host, Default Version\n",
      "2022-08-13 15:53:37.964478: I tensorflow/stream_executor/platform/default/dso_loader.cc:49] Successfully opened dynamic library libcuda.so.1\n",
      "2022-08-13 15:53:37.972784: E tensorflow/stream_executor/cuda/cuda_driver.cc:282] failed call to cuInit: CUDA_ERROR_NO_DEVICE: no CUDA-capable device is detected\n",
      "2022-08-13 15:53:37.973105: I tensorflow/stream_executor/cuda/cuda_diagnostics.cc:169] retrieving CUDA diagnostic information for host: husein-MS-7D31\n",
      "2022-08-13 15:53:37.973155: I tensorflow/stream_executor/cuda/cuda_diagnostics.cc:176] hostname: husein-MS-7D31\n",
      "2022-08-13 15:53:37.973785: I tensorflow/stream_executor/cuda/cuda_diagnostics.cc:200] libcuda reported version is: 470.141.3\n",
      "2022-08-13 15:53:37.974359: I tensorflow/stream_executor/cuda/cuda_diagnostics.cc:204] kernel reported version is: 470.141.3\n",
      "2022-08-13 15:53:37.974587: I tensorflow/stream_executor/cuda/cuda_diagnostics.cc:310] kernel version seems to match DSO: 470.141.3\n"
     ]
    }
   ],
   "source": [
    "model = malaya_speech.stt.deep_transducer(model = 'xs-squeezeformer')"
   ]
  },
  {
   "cell_type": "code",
   "execution_count": 4,
   "id": "db5d486b",
   "metadata": {},
   "outputs": [],
   "source": [
    "from glob import glob\n",
    "malay = sorted(glob('malay-test/*.wav'), key = lambda x: int(x.split('/')[1].replace('.wav', '')))"
   ]
  },
  {
   "cell_type": "code",
   "execution_count": 5,
   "id": "9cac2521",
   "metadata": {},
   "outputs": [],
   "source": [
    "with open('malay-test.json') as fopen:\n",
    "    malay_label = json.load(fopen)"
   ]
  },
  {
   "cell_type": "code",
   "execution_count": 6,
   "id": "8d51f818",
   "metadata": {},
   "outputs": [
    {
     "data": {
      "text/plain": [
       "[('malay-test/0.wav', 'tangan aku disentuh lembut'),\n",
       " ('malay-test/1.wav', 'kenapa tidak kita mengusir obummer'),\n",
       " ('malay-test/2.wav',\n",
       "  'sama kalau kekasih kau ikut jantan lain kan saving duit hantaran 20k kau tu'),\n",
       " ('malay-test/3.wav',\n",
       "  'laki laki bernama andra itu segera mengalihkan pandangannya ke libra kemudian'),\n",
       " ('malay-test/4.wav',\n",
       "  'kenapa saya berurusan dengan atheis internet biasanya meninggalkan keputusan yang tidak baik'),\n",
       " ('malay-test/5.wav', 'dan perlukan duit untuk operation dalam kadar segera'),\n",
       " ('malay-test/6.wav',\n",
       "  'tokong adalah bukti bahawa umno tidak ada belas kasihan'),\n",
       " ('malay-test/7.wav',\n",
       "  'ditengah tengah nikmatnya aku menyantap makanan bangdik tiba tiba si chef'),\n",
       " ('malay-test/8.wav',\n",
       "  'kenapa lelaki lebih bijak daripada gadis dalam setiap aspek'),\n",
       " ('malay-test/9.wav', 'waktu siang buka siaran yang anak kau suka')]"
      ]
     },
     "execution_count": 6,
     "metadata": {},
     "output_type": "execute_result"
    }
   ],
   "source": [
    "audio = malay\n",
    "labels = malay_label\n",
    "test_set = list(zip(audio, labels))\n",
    "test_set[:10]"
   ]
  },
  {
   "cell_type": "code",
   "execution_count": 7,
   "id": "54eff29c",
   "metadata": {},
   "outputs": [],
   "source": [
    "y, sr = malaya_speech.load(test_set[2][0])\n",
    "y1, sr = malaya_speech.load(test_set[3][0])"
   ]
  },
  {
   "cell_type": "code",
   "execution_count": 8,
   "id": "7f686417",
   "metadata": {},
   "outputs": [
    {
     "data": {
      "text/plain": [
       "['sama kalau kekasih kau ikut jantan lain kan saya minum antara dua puluh kau tu',\n",
       " 'laki laki bernama anda itu segera mengalirkan pandangannya kelibran kemudian']"
      ]
     },
     "execution_count": 8,
     "metadata": {},
     "output_type": "execute_result"
    }
   ],
   "source": [
    "model.greedy_decoder([y, y1])"
   ]
  },
  {
   "cell_type": "code",
   "execution_count": 9,
   "id": "afb85c4c",
   "metadata": {},
   "outputs": [],
   "source": [
    "batch_size = 3"
   ]
  },
  {
   "cell_type": "code",
   "execution_count": 10,
   "id": "0d68d5aa",
   "metadata": {},
   "outputs": [],
   "source": [
    "import kenlm\n",
    "from pyctcdecode.language_model import LanguageModel"
   ]
  },
  {
   "cell_type": "code",
   "execution_count": 11,
   "id": "cc737778",
   "metadata": {},
   "outputs": [],
   "source": [
    "kenlm_model = kenlm.Model('model.klm')\n",
    "language_model = LanguageModel(kenlm_model, alpha = 0.01, beta = 0.5)"
   ]
  },
  {
   "cell_type": "code",
   "execution_count": 12,
   "id": "40ee9e62",
   "metadata": {},
   "outputs": [
    {
     "data": {
      "text/plain": [
       "['sama kalau kekasih kau ikut jantan lain kan saya minum antara dua puluh kau tu',\n",
       " 'laki laki bernama anda itu segera mengalirkan pandangannya kelibaran kemudian']"
      ]
     },
     "execution_count": 12,
     "metadata": {},
     "output_type": "execute_result"
    }
   ],
   "source": [
    "model.beam_decoder_lm([y, y1], language_model)"
   ]
  },
  {
   "cell_type": "code",
   "execution_count": 13,
   "id": "8966daf4",
   "metadata": {},
   "outputs": [
    {
     "data": {
      "text/plain": [
       "(<function malaya_speech.utils.metrics.calculate_wer(actual, hyp)>,\n",
       " <function malaya_speech.utils.metrics.calculate_cer(actual, hyp)>)"
      ]
     },
     "execution_count": 13,
     "metadata": {},
     "output_type": "execute_result"
    }
   ],
   "source": [
    "malaya_speech.metrics.calculate_wer, malaya_speech.metrics.calculate_cer"
   ]
  },
  {
   "cell_type": "code",
   "execution_count": 17,
   "id": "5c4c3b88",
   "metadata": {},
   "outputs": [
    {
     "name": "stderr",
     "output_type": "stream",
     "text": [
      "100%|██████████████████████████████████████████████████████████████████████████████████████████████| 255/255 [12:38<00:00,  2.98s/it]\n"
     ]
    }
   ],
   "source": [
    "from tqdm import tqdm\n",
    "\n",
    "wer, cer = [], []\n",
    "wer_lm, cer_lm = [], []\n",
    "\n",
    "for i in tqdm(range(0, len(test_set), batch_size)):\n",
    "    batch = test_set[i: i + batch_size]\n",
    "    ys = [malaya_speech.load(k[0])[0] for k in batch]\n",
    "    greedy_decoded = model.greedy_decoder(ys)\n",
    "    lm_decoded = model.beam_decoder_lm(ys, language_model)\n",
    "    \n",
    "    texts = [k[1] for k in batch]\n",
    "    \n",
    "    for d, t in zip(greedy_decoded, texts):\n",
    "        wer.append(malaya_speech.metrics.calculate_wer(t, d))\n",
    "        cer.append(malaya_speech.metrics.calculate_cer(t, d))\n",
    "        \n",
    "    for d, t in zip(lm_decoded, texts):\n",
    "        wer_lm.append(malaya_speech.metrics.calculate_wer(t, d))\n",
    "        cer_lm.append(malaya_speech.metrics.calculate_cer(t, d))"
   ]
  },
  {
   "cell_type": "code",
   "execution_count": 18,
   "id": "05d80a41",
   "metadata": {
    "scrolled": true
   },
   "outputs": [],
   "source": [
    "import numpy as np"
   ]
  },
  {
   "cell_type": "code",
   "execution_count": 19,
   "id": "9d659f1a",
   "metadata": {},
   "outputs": [
    {
     "data": {
      "text/plain": [
       "(0.19809173760154153,\n",
       " 0.07903460903406852,\n",
       " 0.19884239036199822,\n",
       " 0.07812183177823712)"
      ]
     },
     "execution_count": 19,
     "metadata": {},
     "output_type": "execute_result"
    }
   ],
   "source": [
    "np.mean(wer), np.mean(cer), np.mean(wer_lm), np.mean(cer_lm)"
   ]
  },
  {
   "cell_type": "code",
   "execution_count": null,
   "id": "0e6c21c6",
   "metadata": {},
   "outputs": [],
   "source": []
  }
 ],
 "metadata": {
  "kernelspec": {
   "display_name": "tf1",
   "language": "python",
   "name": "tf1"
  },
  "language_info": {
   "codemirror_mode": {
    "name": "ipython",
    "version": 3
   },
   "file_extension": ".py",
   "mimetype": "text/x-python",
   "name": "python",
   "nbconvert_exporter": "python",
   "pygments_lexer": "ipython3",
   "version": "3.8.10"
  }
 },
 "nbformat": 4,
 "nbformat_minor": 5
}

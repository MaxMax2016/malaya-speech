{
 "cells": [
  {
   "cell_type": "code",
   "execution_count": 1,
   "metadata": {
    "scrolled": true
   },
   "outputs": [
    {
     "data": {
      "text/plain": [
       "[('beta1_power', []),\n",
       " ('beta2_power', []),\n",
       " ('transducer/transducer_prediction/transducer_prediction_embedding/embeddings',\n",
       "  [1030, 640]),\n",
       " ('transducer/transducer_prediction/transducer_prediction_embedding/embeddings/Adam',\n",
       "  [1030, 640]),\n",
       " ('transducer/transducer_prediction/transducer_prediction_embedding/embeddings/Adam_1',\n",
       "  [1030, 640]),\n",
       " ('transducer_prediction/transducer_prediction_ln_0/beta', [640]),\n",
       " ('transducer_prediction/transducer_prediction_ln_0/beta/Adam', [640]),\n",
       " ('transducer_prediction/transducer_prediction_ln_0/beta/Adam_1', [640]),\n",
       " ('transducer_prediction/transducer_prediction_ln_0/gamma', [640]),\n",
       " ('transducer_prediction/transducer_prediction_ln_0/gamma/Adam', [640]),\n",
       " ('transducer_prediction/transducer_prediction_ln_0/gamma/Adam_1', [640]),\n",
       " ('transducer_prediction/transducer_prediction_lstm_0/bias', [2560]),\n",
       " ('transducer_prediction/transducer_prediction_lstm_0/bias/Adam', [2560]),\n",
       " ('transducer_prediction/transducer_prediction_lstm_0/bias/Adam_1', [2560]),\n",
       " ('transducer_prediction/transducer_prediction_lstm_0/kernel', [640, 2560]),\n",
       " ('transducer_prediction/transducer_prediction_lstm_0/kernel/Adam',\n",
       "  [640, 2560]),\n",
       " ('transducer_prediction/transducer_prediction_lstm_0/kernel/Adam_1',\n",
       "  [640, 2560]),\n",
       " ('transducer_prediction/transducer_prediction_lstm_0/recurrent_kernel',\n",
       "  [640, 2560]),\n",
       " ('transducer_prediction/transducer_prediction_lstm_0/recurrent_kernel/Adam',\n",
       "  [640, 2560]),\n",
       " ('transducer_prediction/transducer_prediction_lstm_0/recurrent_kernel/Adam_1',\n",
       "  [640, 2560])]"
      ]
     },
     "execution_count": 1,
     "metadata": {},
     "output_type": "execute_result"
    }
   ],
   "source": [
    "import tensorflow as tf\n",
    "\n",
    "variables_in_checkpoint = tf.train.list_variables('transducer-rnn-base/model.ckpt')\n",
    "variables_in_checkpoint"
   ]
  },
  {
   "cell_type": "code",
   "execution_count": 2,
   "metadata": {},
   "outputs": [],
   "source": [
    "reader = tf.train.NewCheckpointReader('transducer-rnn-base/model.ckpt')"
   ]
  },
  {
   "cell_type": "code",
   "execution_count": 3,
   "metadata": {
    "scrolled": true
   },
   "outputs": [
    {
     "name": "stdout",
     "output_type": "stream",
     "text": [
      "transducer_prediction/transducer_prediction_lstm_0/recurrent_kernel/Adam_1\n",
      "transducer_prediction/transducer_prediction_lstm_0/recurrent_kernel/Adam\n",
      "transducer_prediction/transducer_prediction_lstm_0/recurrent_kernel\n",
      "transducer_prediction/transducer_prediction_lstm_0/kernel/Adam_1\n",
      "transducer_prediction/transducer_prediction_ln_0/beta\n",
      "transducer/transducer_prediction/transducer_prediction_embedding/embeddings\n",
      "beta1_power\n",
      "transducer/transducer_prediction/transducer_prediction_embedding/embeddings/Adam\n",
      "beta2_power\n",
      "transducer_prediction/transducer_prediction_lstm_0/kernel/Adam\n",
      "transducer_prediction/transducer_prediction_lstm_0/kernel\n",
      "transducer_prediction/transducer_prediction_ln_0/beta/Adam\n",
      "transducer_prediction/transducer_prediction_ln_0/beta/Adam_1\n",
      "transducer/transducer_prediction/transducer_prediction_embedding/embeddings/Adam_1\n",
      "transducer_prediction/transducer_prediction_ln_0/gamma/Adam\n",
      "transducer_prediction/transducer_prediction_ln_0/gamma/Adam_1\n",
      "transducer_prediction/transducer_prediction_lstm_0/bias\n",
      "transducer_prediction/transducer_prediction_lstm_0/bias/Adam\n",
      "transducer_prediction/transducer_prediction_ln_0/gamma\n",
      "transducer_prediction/transducer_prediction_lstm_0/bias/Adam_1\n"
     ]
    }
   ],
   "source": [
    "new_checkpoint_vars = {}\n",
    "\n",
    "for old_name in reader.get_variable_to_shape_map():\n",
    "    print(old_name)\n",
    "    if 'transducer/' not in old_name:\n",
    "        new_name = 'transducer/' + old_name\n",
    "    else:\n",
    "        new_name = old_name\n",
    "    new_checkpoint_vars[new_name] = tf.Variable(reader.get_tensor(old_name))"
   ]
  },
  {
   "cell_type": "code",
   "execution_count": 4,
   "metadata": {},
   "outputs": [
    {
     "data": {
      "text/plain": [
       "{'transducer/transducer_prediction/transducer_prediction_lstm_0/recurrent_kernel/Adam_1': <tf.Variable 'Variable:0' shape=(640, 2560) dtype=float32_ref>,\n",
       " 'transducer/transducer_prediction/transducer_prediction_lstm_0/recurrent_kernel/Adam': <tf.Variable 'Variable_1:0' shape=(640, 2560) dtype=float32_ref>,\n",
       " 'transducer/transducer_prediction/transducer_prediction_lstm_0/recurrent_kernel': <tf.Variable 'Variable_2:0' shape=(640, 2560) dtype=float32_ref>,\n",
       " 'transducer/transducer_prediction/transducer_prediction_lstm_0/kernel/Adam_1': <tf.Variable 'Variable_3:0' shape=(640, 2560) dtype=float32_ref>,\n",
       " 'transducer/transducer_prediction/transducer_prediction_ln_0/beta': <tf.Variable 'Variable_4:0' shape=(640,) dtype=float32_ref>,\n",
       " 'transducer/transducer_prediction/transducer_prediction_embedding/embeddings': <tf.Variable 'Variable_5:0' shape=(1030, 640) dtype=float32_ref>,\n",
       " 'transducer/beta1_power': <tf.Variable 'Variable_6:0' shape=() dtype=float32_ref>,\n",
       " 'transducer/transducer_prediction/transducer_prediction_embedding/embeddings/Adam': <tf.Variable 'Variable_7:0' shape=(1030, 640) dtype=float32_ref>,\n",
       " 'transducer/beta2_power': <tf.Variable 'Variable_8:0' shape=() dtype=float32_ref>,\n",
       " 'transducer/transducer_prediction/transducer_prediction_lstm_0/kernel/Adam': <tf.Variable 'Variable_9:0' shape=(640, 2560) dtype=float32_ref>,\n",
       " 'transducer/transducer_prediction/transducer_prediction_lstm_0/kernel': <tf.Variable 'Variable_10:0' shape=(640, 2560) dtype=float32_ref>,\n",
       " 'transducer/transducer_prediction/transducer_prediction_ln_0/beta/Adam': <tf.Variable 'Variable_11:0' shape=(640,) dtype=float32_ref>,\n",
       " 'transducer/transducer_prediction/transducer_prediction_ln_0/beta/Adam_1': <tf.Variable 'Variable_12:0' shape=(640,) dtype=float32_ref>,\n",
       " 'transducer/transducer_prediction/transducer_prediction_embedding/embeddings/Adam_1': <tf.Variable 'Variable_13:0' shape=(1030, 640) dtype=float32_ref>,\n",
       " 'transducer/transducer_prediction/transducer_prediction_ln_0/gamma/Adam': <tf.Variable 'Variable_14:0' shape=(640,) dtype=float32_ref>,\n",
       " 'transducer/transducer_prediction/transducer_prediction_ln_0/gamma/Adam_1': <tf.Variable 'Variable_15:0' shape=(640,) dtype=float32_ref>,\n",
       " 'transducer/transducer_prediction/transducer_prediction_lstm_0/bias': <tf.Variable 'Variable_16:0' shape=(2560,) dtype=float32_ref>,\n",
       " 'transducer/transducer_prediction/transducer_prediction_lstm_0/bias/Adam': <tf.Variable 'Variable_17:0' shape=(2560,) dtype=float32_ref>,\n",
       " 'transducer/transducer_prediction/transducer_prediction_ln_0/gamma': <tf.Variable 'Variable_18:0' shape=(640,) dtype=float32_ref>,\n",
       " 'transducer/transducer_prediction/transducer_prediction_lstm_0/bias/Adam_1': <tf.Variable 'Variable_19:0' shape=(2560,) dtype=float32_ref>}"
      ]
     },
     "execution_count": 4,
     "metadata": {},
     "output_type": "execute_result"
    }
   ],
   "source": [
    "new_checkpoint_vars"
   ]
  },
  {
   "cell_type": "code",
   "execution_count": 5,
   "metadata": {},
   "outputs": [],
   "source": [
    "init = tf.global_variables_initializer()\n",
    "saver = tf.train.Saver(new_checkpoint_vars)\n",
    "\n",
    "with tf.Session() as sess:\n",
    "    sess.run(init)\n",
    "    saver.save(sess, 'transducer-rnn-base/model-rename.ckpt')"
   ]
  }
 ],
 "metadata": {
  "kernelspec": {
   "display_name": "Python 3",
   "language": "python",
   "name": "python3"
  },
  "language_info": {
   "codemirror_mode": {
    "name": "ipython",
    "version": 3
   },
   "file_extension": ".py",
   "mimetype": "text/x-python",
   "name": "python",
   "nbconvert_exporter": "python",
   "pygments_lexer": "ipython3",
   "version": "3.6.9"
  }
 },
 "nbformat": 4,
 "nbformat_minor": 2
}

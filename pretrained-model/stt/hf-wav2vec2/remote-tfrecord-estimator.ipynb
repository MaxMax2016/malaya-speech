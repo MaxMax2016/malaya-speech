{
 "cells": [
  {
   "cell_type": "code",
   "execution_count": 1,
   "id": "48524239",
   "metadata": {},
   "outputs": [],
   "source": [
    "import os\n",
    "\n",
    "os.environ['CUDA_VISIBLE_DEVICES'] = ''"
   ]
  },
  {
   "cell_type": "code",
   "execution_count": 2,
   "id": "a51582b5",
   "metadata": {},
   "outputs": [
    {
     "name": "stdout",
     "output_type": "stream",
     "text": [
      "WARNING:tensorflow:Deprecation warnings have been disabled. Set TF_ENABLE_DEPRECATION_WARNINGS=1 to re-enable them.\n"
     ]
    },
    {
     "name": "stderr",
     "output_type": "stream",
     "text": [
      "2022-06-10 14:54:12.954543: I tensorflow/stream_executor/platform/default/dso_loader.cc:49] Successfully opened dynamic library libcudart.so.11.0\n"
     ]
    }
   ],
   "source": [
    "import tensorflow as tf\n",
    "from glob import glob\n",
    "import string\n",
    "import requests\n",
    "import shutil\n",
    "import random\n",
    "import json\n",
    "from multiprocessing import Pool\n",
    "\n",
    "CTC_VOCAB = [''] + list(string.ascii_lowercase + string.digits) + [' ']"
   ]
  },
  {
   "cell_type": "code",
   "execution_count": 3,
   "id": "f4dced33",
   "metadata": {},
   "outputs": [],
   "source": [
    "def download_file_cloud(url, filename):\n",
    "    r = requests.get(url, stream=True)\n",
    "    total_size = int(r.headers['content-length'])\n",
    "    version = int(r.headers.get('X-Bz-Upload-Timestamp', 0))\n",
    "    try:\n",
    "        local_size = os.path.getsize(filename)\n",
    "        if local_size == total_size:\n",
    "            print(f'{filename} local size matched with cloud size')\n",
    "            return version\n",
    "    except Exception as e:\n",
    "        print(e)\n",
    "    os.makedirs(os.path.dirname(filename), exist_ok=True)\n",
    "    with open(filename, 'wb') as f:\n",
    "        for data in r.iter_content(chunk_size=1_048_576):\n",
    "            f.write(data)"
   ]
  },
  {
   "cell_type": "code",
   "execution_count": 4,
   "id": "4c13bcfd",
   "metadata": {},
   "outputs": [],
   "source": [
    "def get_dataset(files, directory='tfrecord', overwrite_directory=True):\n",
    "    os.makedirs(directory, exist_ok=True)\n",
    "    if overwrite_directory:\n",
    "        shutil.rmtree(directory)\n",
    "    files_to_download = []\n",
    "    for f in files:\n",
    "        filename = os.path.join(directory, '-'.join(f.split('/')[-2:]))\n",
    "        files_to_download.append((f, filename))\n",
    "\n",
    "    pool = Pool(processes=len(files))\n",
    "    pool.starmap(download_file_cloud, files_to_download)\n",
    "    pool.close()\n",
    "    pool.join()\n",
    "    tfrecords = glob(f'{directory}/*.tfrecord')\n",
    "    return tfrecords"
   ]
  },
  {
   "cell_type": "code",
   "execution_count": 5,
   "id": "f406add6",
   "metadata": {},
   "outputs": [],
   "source": [
    "def preprocess_inputs(example):\n",
    "    length = tf.cast(tf.shape(example['waveforms'])[0], tf.int32)\n",
    "    length = tf.expand_dims(length, 0)\n",
    "    example['waveforms_length'] = length\n",
    "    example['targets'] = tf.cast(example['targets'], tf.int32)\n",
    "    example['targets_length'] = tf.cast(example['targets_length'], tf.int32)\n",
    "    return example\n",
    "\n",
    "\n",
    "def parse(serialized_example):\n",
    "\n",
    "    data_fields = {\n",
    "        'waveforms': tf.compat.v1.VarLenFeature(tf.float32),\n",
    "        'targets': tf.compat.v1.VarLenFeature(tf.int64),\n",
    "        'targets_length': tf.compat.v1.VarLenFeature(tf.int64),\n",
    "        'lang': tf.compat.v1.VarLenFeature(tf.int64),\n",
    "    }\n",
    "    features = tf.compat.v1.parse_single_example(\n",
    "        serialized_example, features=data_fields\n",
    "    )\n",
    "    for k in features.keys():\n",
    "        features[k] = features[k].values\n",
    "\n",
    "    features = preprocess_inputs(features)\n",
    "\n",
    "    keys = list(features.keys())\n",
    "    for k in keys:\n",
    "        if k not in ['waveforms', 'waveforms_length', 'targets', 'targets_length']:\n",
    "            features.pop(k, None)\n",
    "\n",
    "    return features"
   ]
  },
  {
   "cell_type": "code",
   "execution_count": 6,
   "id": "c82f02ce",
   "metadata": {},
   "outputs": [
    {
     "data": {
      "text/plain": [
       "['tfrecord-300m-test/malay-2-25.tfrecord']"
      ]
     },
     "execution_count": 6,
     "metadata": {},
     "output_type": "execute_result"
    }
   ],
   "source": [
    "files = glob('tfrecord-300m-test/*.tfrecord')\n",
    "files"
   ]
  },
  {
   "cell_type": "code",
   "execution_count": 7,
   "id": "22f55774",
   "metadata": {},
   "outputs": [
    {
     "name": "stdout",
     "output_type": "stream",
     "text": [
      "[Errno 2] No such file or directory: 'tfrecord/mandarin-0-35.tfrecord'\n"
     ]
    },
    {
     "data": {
      "text/plain": [
       "['tfrecord/mandarin-0-35.tfrecord']"
      ]
     },
     "execution_count": 7,
     "metadata": {},
     "output_type": "execute_result"
    }
   ],
   "source": [
    "get_dataset(['https://huggingface.co/huseinzol05/STT-Mixed-TFRecord/resolve/main/mandarin/0-35.tfrecord'])"
   ]
  },
  {
   "cell_type": "code",
   "execution_count": 8,
   "id": "57d3ea88",
   "metadata": {},
   "outputs": [],
   "source": [
    "batch_files = 10\n",
    "\n",
    "def generate(files, directory):\n",
    "    while True:\n",
    "        random.shuffle(files)\n",
    "        for i in range(0, len(files), batch_files):\n",
    "            batch = files[i: i + batch_files]\n",
    "            batch = [b.decode() if isinstance(b, bytes) else b for b in batch]\n",
    "            directory = directory.decode() if isinstance(directory, bytes) else directory\n",
    "            r = get_dataset(batch, directory = directory)\n",
    "            print(r)\n",
    "            yield r"
   ]
  },
  {
   "cell_type": "code",
   "execution_count": 9,
   "id": "cc618e19",
   "metadata": {},
   "outputs": [],
   "source": [
    "def get_datasets(files, directory, batch_size=2, shuffle_size=32, num_cpu_threads = 4, thread_count=24):\n",
    "    def get():\n",
    "        d = tf.data.Dataset.from_generator(\n",
    "            generate, tf.string, output_shapes=tf.TensorShape([None]), args=(files,directory),\n",
    "        )\n",
    "        d = d.repeat(3)\n",
    "        d = d.interleave(\n",
    "            tf.data.TFRecordDataset,\n",
    "            cycle_length=num_cpu_threads,\n",
    "            block_length=thread_count)\n",
    "        d = d.shuffle(buffer_size=100)\n",
    "        d = d.map(parse, num_parallel_calls=num_cpu_threads)\n",
    "        d = d.padded_batch(\n",
    "            batch_size,\n",
    "            padded_shapes={\n",
    "                'waveforms': tf.TensorShape([None]),\n",
    "                'waveforms_length': tf.TensorShape([None]),\n",
    "                'targets': tf.TensorShape([None]),\n",
    "                'targets_length': tf.TensorShape([None]),\n",
    "            },\n",
    "            padding_values={\n",
    "                'waveforms': tf.constant(0, dtype=tf.float32),\n",
    "                'waveforms_length': tf.constant(0, dtype=tf.int32),\n",
    "                'targets': tf.constant(0, dtype=tf.int32),\n",
    "                'targets_length': tf.constant(0, dtype=tf.int32),\n",
    "            },\n",
    "        )\n",
    "        return d\n",
    "    return get"
   ]
  },
  {
   "cell_type": "code",
   "execution_count": 10,
   "id": "45026e99",
   "metadata": {},
   "outputs": [
    {
     "data": {
      "text/plain": [
       "['https://huggingface.co/huseinzol05/STT-Mixed-TFRecord/resolve/main/mandarin/0-35.tfrecord',\n",
       " 'https://huggingface.co/huseinzol05/STT-Mixed-TFRecord/resolve/main/mandarin/0-97.tfrecord',\n",
       " 'https://huggingface.co/huseinzol05/STT-Mixed-TFRecord/resolve/main/singlish/3-7.tfrecord',\n",
       " 'https://huggingface.co/huseinzol05/STT-Mixed-TFRecord/resolve/main/singlish/0-17.tfrecord',\n",
       " 'https://huggingface.co/huseinzol05/STT-Mixed-TFRecord/resolve/main/mandarin/2-103.tfrecord']"
      ]
     },
     "execution_count": 10,
     "metadata": {},
     "output_type": "execute_result"
    }
   ],
   "source": [
    "with open('huggingface-3mixed-train-test.json') as fopen:\n",
    "    dataset = json.load(fopen)['train'][:5]\n",
    "dataset"
   ]
  },
  {
   "cell_type": "code",
   "execution_count": 11,
   "id": "9eeb4ea3",
   "metadata": {},
   "outputs": [
    {
     "data": {
      "text/plain": [
       "{'targets': <tf.Tensor 'IteratorGetNext:0' shape=(?, ?) dtype=int32>,\n",
       " 'targets_length': <tf.Tensor 'IteratorGetNext:1' shape=(?, ?) dtype=int32>,\n",
       " 'waveforms': <tf.Tensor 'IteratorGetNext:2' shape=(?, ?) dtype=float32>,\n",
       " 'waveforms_length': <tf.Tensor 'IteratorGetNext:3' shape=(?, ?) dtype=int32>}"
      ]
     },
     "execution_count": 11,
     "metadata": {},
     "output_type": "execute_result"
    }
   ],
   "source": [
    "d = get_datasets(dataset, 'tfrecord-test')()\n",
    "d = d.make_one_shot_iterator().get_next()\n",
    "d"
   ]
  },
  {
   "cell_type": "code",
   "execution_count": 12,
   "id": "6e298f4e",
   "metadata": {},
   "outputs": [
    {
     "name": "stdout",
     "output_type": "stream",
     "text": [
      "WARNING:tensorflow:From /tmp/ipykernel_288658/3496270443.py:1: The name tf.Session is deprecated. Please use tf.compat.v1.Session instead.\n",
      "\n"
     ]
    },
    {
     "name": "stderr",
     "output_type": "stream",
     "text": [
      "2022-06-10 14:54:24.927370: I tensorflow/stream_executor/platform/default/dso_loader.cc:49] Successfully opened dynamic library libcuda.so.1\n",
      "2022-06-10 14:54:24.929981: E tensorflow/stream_executor/cuda/cuda_driver.cc:282] failed call to cuInit: CUDA_ERROR_NO_DEVICE: no CUDA-capable device is detected\n",
      "2022-06-10 14:54:24.930002: I tensorflow/stream_executor/cuda/cuda_diagnostics.cc:169] retrieving CUDA diagnostic information for host: huseincomel-desktop\n",
      "2022-06-10 14:54:24.930006: I tensorflow/stream_executor/cuda/cuda_diagnostics.cc:176] hostname: huseincomel-desktop\n",
      "2022-06-10 14:54:24.930049: I tensorflow/stream_executor/cuda/cuda_diagnostics.cc:200] libcuda reported version is: 470.129.6\n",
      "2022-06-10 14:54:24.930072: I tensorflow/stream_executor/cuda/cuda_diagnostics.cc:204] kernel reported version is: 470.129.6\n",
      "2022-06-10 14:54:24.930075: I tensorflow/stream_executor/cuda/cuda_diagnostics.cc:310] kernel version seems to match DSO: 470.129.6\n",
      "2022-06-10 14:54:24.935473: I tensorflow/core/platform/profile_utils/cpu_utils.cc:109] CPU Frequency: 2496000000 Hz\n",
      "2022-06-10 14:54:24.935819: I tensorflow/compiler/xla/service/service.cc:168] XLA service 0x387ef50 initialized for platform Host (this does not guarantee that XLA will be used). Devices:\n",
      "2022-06-10 14:54:24.935831: I tensorflow/compiler/xla/service/service.cc:176]   StreamExecutor device (0): Host, Default Version\n"
     ]
    }
   ],
   "source": [
    "sess = tf.Session()"
   ]
  },
  {
   "cell_type": "code",
   "execution_count": 14,
   "id": "5d142639",
   "metadata": {},
   "outputs": [
    {
     "data": {
      "text/plain": [
       "{'targets': array([[ 6,  1, 14,  7, 37, 25,  9, 37, 19,  8, 15, 21, 37, 12,  9, 21,\n",
       "         37,  2, 15, 37,  4,  5, 37,  7,  5,  0,  0,  0,  0,  0,  0,  0,\n",
       "          0,  0,  0,  0,  0,  0,  0,  0,  0,  0,  0,  0,  0,  0,  0,  0,\n",
       "          0,  0,  0,  0],\n",
       "        [24,  9,  5, 37,  7,  5, 37, 19,  8,  9, 37, 24,  9,  1, 14, 37,\n",
       "         24,  9,  5, 37,  7,  5, 37,  3,  9, 37,  8, 21,  1, 14, 37, 19,\n",
       "          8,  9, 37, 24,  9,  1, 14, 37, 24,  9,  5, 37, 17, 21, 37, 26,\n",
       "          9, 37, 14,  9]], dtype=int32),\n",
       " 'targets_length': array([[25],\n",
       "        [52]], dtype=int32),\n",
       " 'waveforms': array([[ 0.        , -0.00655022, -0.00436681, ...,  0.        ,\n",
       "          0.        ,  0.        ],\n",
       "        [ 0.00215983, -0.00431965, -0.00431965, ..., -0.00215983,\n",
       "          0.        ,  0.        ]], dtype=float32),\n",
       " 'waveforms_length': array([[69632],\n",
       "        [96939]], dtype=int32)}"
      ]
     },
     "execution_count": 14,
     "metadata": {},
     "output_type": "execute_result"
    }
   ],
   "source": [
    "sess.run(d)"
   ]
  },
  {
   "cell_type": "code",
   "execution_count": null,
   "id": "afcf67c3",
   "metadata": {},
   "outputs": [],
   "source": []
  }
 ],
 "metadata": {
  "kernelspec": {
   "display_name": "tf1",
   "language": "python",
   "name": "tf1"
  },
  "language_info": {
   "codemirror_mode": {
    "name": "ipython",
    "version": 3
   },
   "file_extension": ".py",
   "mimetype": "text/x-python",
   "name": "python",
   "nbconvert_exporter": "python",
   "pygments_lexer": "ipython3",
   "version": "3.8.10"
  }
 },
 "nbformat": 4,
 "nbformat_minor": 5
}

{
 "cells": [
  {
   "cell_type": "code",
   "execution_count": 1,
   "metadata": {},
   "outputs": [],
   "source": [
    "import os\n",
    "os.environ['CUDA_VISIBLE_DEVICES'] = ''"
   ]
  },
  {
   "cell_type": "code",
   "execution_count": 2,
   "metadata": {},
   "outputs": [
    {
     "name": "stdout",
     "output_type": "stream",
     "text": [
      "WARNING:tensorflow:From /home/husein/malaya-speech/malaya_speech/train/optimizer/__init__.py:39: The name tf.train.AdagradOptimizer is deprecated. Please use tf.compat.v1.train.AdagradOptimizer instead.\n",
      "\n",
      "WARNING:tensorflow:From /home/husein/malaya-speech/malaya_speech/train/optimizer/__init__.py:40: The name tf.train.AdamOptimizer is deprecated. Please use tf.compat.v1.train.AdamOptimizer instead.\n",
      "\n",
      "WARNING:tensorflow:From /home/husein/malaya-speech/malaya_speech/train/optimizer/__init__.py:41: The name tf.train.FtrlOptimizer is deprecated. Please use tf.compat.v1.train.FtrlOptimizer instead.\n",
      "\n",
      "WARNING:tensorflow:From /home/husein/malaya-speech/malaya_speech/train/optimizer/__init__.py:43: The name tf.train.RMSPropOptimizer is deprecated. Please use tf.compat.v1.train.RMSPropOptimizer instead.\n",
      "\n",
      "WARNING:tensorflow:From /home/husein/malaya-speech/malaya_speech/train/optimizer/__init__.py:44: The name tf.train.GradientDescentOptimizer is deprecated. Please use tf.compat.v1.train.GradientDescentOptimizer instead.\n",
      "\n",
      "WARNING:tensorflow:\n",
      "The TensorFlow contrib module will not be included in TensorFlow 2.0.\n",
      "For more information, please see:\n",
      "  * https://github.com/tensorflow/community/blob/master/rfcs/20180907-contrib-sunset.md\n",
      "  * https://github.com/tensorflow/addons\n",
      "  * https://github.com/tensorflow/io (for I/O related ops)\n",
      "If you depend on functionality not listed there, please file an issue.\n",
      "\n"
     ]
    }
   ],
   "source": [
    "import numpy as np\n",
    "import malaya_speech.train as train\n",
    "import malaya_speech.config\n",
    "import malaya_speech\n",
    "import tensorflow as tf\n",
    "from glob import glob"
   ]
  },
  {
   "cell_type": "code",
   "execution_count": 3,
   "metadata": {},
   "outputs": [
    {
     "name": "stderr",
     "output_type": "stream",
     "text": [
      "/home/husein/.local/lib/python3.6/site-packages/ipykernel_launcher.py:6: YAMLLoadWarning: calling yaml.load() without Loader=... is deprecated, as the default Loader is unsafe. Please read https://msg.pyyaml.org/load for full details.\n",
      "  \n"
     ]
    },
    {
     "data": {
      "text/plain": [
       "{'sampling_rate': 22050,\n",
       " 'fft_size': 1024,\n",
       " 'hop_size': 256,\n",
       " 'win_length': None,\n",
       " 'window': 'hann',\n",
       " 'num_mels': 80,\n",
       " 'fmin': 80,\n",
       " 'fmax': 7600,\n",
       " 'global_gain_scale': 1.0,\n",
       " 'trim_silence': True,\n",
       " 'trim_threshold_in_db': 20,\n",
       " 'trim_frame_size': 2048,\n",
       " 'trim_hop_size': 512}"
      ]
     },
     "execution_count": 3,
     "metadata": {},
     "output_type": "execute_result"
    }
   ],
   "source": [
    "import yaml\n",
    "\n",
    "directory = '/home/husein/speech-bahasa'\n",
    "\n",
    "with open(os.path.join(directory, 'config.yaml')) as fopen:\n",
    "    config = yaml.load(fopen)\n",
    "    \n",
    "config"
   ]
  },
  {
   "cell_type": "code",
   "execution_count": 4,
   "metadata": {},
   "outputs": [],
   "source": [
    "import re\n",
    "\n",
    "_pad = 'pad'\n",
    "_start = 'start'\n",
    "_eos = 'eos'\n",
    "_punctuation = \"!'(),.:;? \"\n",
    "_special = '-'\n",
    "_letters = 'ABCDEFGHIJKLMNOPQRSTUVWXYZabcdefghijklmnopqrstuvwxyz'\n",
    "\n",
    "MALAYA_SPEECH_SYMBOLS = (\n",
    "    [_pad, _start, _eos] + list(_special) + list(_punctuation) + list(_letters)\n",
    ")"
   ]
  },
  {
   "cell_type": "code",
   "execution_count": 5,
   "metadata": {},
   "outputs": [],
   "source": [
    "def tts_encode(string: str, add_eos: bool = True):\n",
    "    r = [MALAYA_SPEECH_SYMBOLS.index(c) for c in string if c in MALAYA_SPEECH_SYMBOLS]\n",
    "    if add_eos:\n",
    "        r = r + [MALAYA_SPEECH_SYMBOLS.index('eos')]\n",
    "    return r"
   ]
  },
  {
   "cell_type": "code",
   "execution_count": 6,
   "metadata": {},
   "outputs": [],
   "source": [
    "from unidecode import unidecode\n",
    "import malaya\n",
    "\n",
    "normalizer = malaya.normalize.normalizer(date = False, time = False, money = False)\n",
    "\n",
    "def put_spacing_num(string):\n",
    "    string = re.sub('[A-Za-z]+', lambda ele: ' ' + ele[0] + ' ', string)\n",
    "    return re.sub(r'[ ]+', ' ', string).strip()\n",
    "\n",
    "def convert_to_ascii(string):\n",
    "    return unidecode(string)\n",
    "\n",
    "def collapse_whitespace(string):\n",
    "    return re.sub(_whitespace_re, ' ', string)\n",
    "\n",
    "def cleaning(string, normalize = True, add_eos = False):\n",
    "    sequence = []\n",
    "    string = convert_to_ascii(string)\n",
    "    string = string.replace('&', ' dan ')\n",
    "    string = re.sub(r'[ ]+', ' ', string).strip()\n",
    "    if string[-1] in ['-', ',']:\n",
    "        string = string[:-1]\n",
    "    if string[-1] != '.':\n",
    "        string = string + '.'\n",
    "    if normalize:\n",
    "        string = normalizer.normalize(string, \n",
    "                                      check_english = False, \n",
    "                                      normalize_entity = False, \n",
    "                                      normalize_text = False,\n",
    "                                      normalize_url = True,\n",
    "                                      normalize_email = True,\n",
    "                                      normalize_year = True)\n",
    "        string = string['normalize']\n",
    "    else:\n",
    "        string = string\n",
    "    string = put_spacing_num(string)\n",
    "    string = ''.join([c for c in string if c in MALAYA_SPEECH_SYMBOLS])\n",
    "    string = re.sub(r'[ ]+', ' ', string).strip()\n",
    "    string = string.lower()\n",
    "    return string, tts_encode(string, add_eos = add_eos)"
   ]
  },
  {
   "cell_type": "code",
   "execution_count": 7,
   "metadata": {},
   "outputs": [],
   "source": [
    "import pandas as pd\n",
    "\n",
    "df = pd.read_csv(os.path.join(directory, 'haqkiem/metadata.csv'), header = None, sep = '|')\n",
    "txts = df.values.tolist()"
   ]
  },
  {
   "cell_type": "code",
   "execution_count": 8,
   "metadata": {},
   "outputs": [],
   "source": [
    "f = txts[0]\n",
    "text = f[1]\n",
    "text = text.split('.,,')[0]\n",
    "text = f'{text} .'\n",
    "f = f[0]"
   ]
  },
  {
   "cell_type": "code",
   "execution_count": 9,
   "metadata": {},
   "outputs": [],
   "source": [
    "r = os.path.join(directory, 'haqkiem', f'{f}.wav')\n",
    "audio, _ = malaya_speech.load(r, sr = config['sampling_rate'])"
   ]
  },
  {
   "cell_type": "code",
   "execution_count": 10,
   "metadata": {},
   "outputs": [],
   "source": [
    "# string, cleaning(text)"
   ]
  },
  {
   "cell_type": "code",
   "execution_count": 11,
   "metadata": {},
   "outputs": [],
   "source": [
    "universal_mel = malaya_speech.featurization.universal_mel(audio)"
   ]
  },
  {
   "cell_type": "code",
   "execution_count": 12,
   "metadata": {},
   "outputs": [
    {
     "data": {
      "text/plain": [
       "<Figure size 1000x600 with 3 Axes>"
      ]
     },
     "metadata": {},
     "output_type": "display_data"
    }
   ],
   "source": [
    "import matplotlib.pyplot as plt\n",
    "\n",
    "nrows = 2\n",
    "fig, ax = plt.subplots(nrows = nrows, ncols = 1)\n",
    "fig.set_figwidth(10)\n",
    "fig.set_figheight(nrows * 3)\n",
    "mel_outputs_ = np.reshape(universal_mel, [-1, 80])\n",
    "im = ax[0].imshow(np.rot90(mel_outputs_), aspect='auto', interpolation='none')\n",
    "fig.colorbar(mappable=im, shrink=0.65, orientation='horizontal', ax=ax[0])\n",
    "ax[1].plot(audio)\n",
    "plt.show()"
   ]
  },
  {
   "cell_type": "code",
   "execution_count": 13,
   "metadata": {},
   "outputs": [
    {
     "data": {
      "text/plain": [
       "[('/home/husein/speech-bahasa/haqkiem/LJ001-000001.wav',\n",
       "  'Sultan Johor Sultan Ibrahim Iskandar selamat tiba di Lapangan Terbang Antarabangsa Senai malam tadi .'),\n",
       " ('/home/husein/speech-bahasa/haqkiem/LJ002-000001.wav',\n",
       "  'Menerusi entri terbaharu dalam laman Facebook rasminya Sultan Ibrahim tiba pada jam lapan sepuluh malam tadi .'),\n",
       " ('/home/husein/speech-bahasa/haqkiem/LJ003-000001.wav',\n",
       "  'Kepulangan Sultan Ibrahim disambut oleh Tunku Bendahara Johor Tunku Abdul Majid Idris Iskandar .'),\n",
       " ('/home/husein/speech-bahasa/haqkiem/LJ004-000001.wav',\n",
       "  'Sultan Ibrahim berlepas ke luar negara pada minggu lalu atas lawatan peribadi .'),\n",
       " ('/home/husein/speech-bahasa/haqkiem/LJ005-000001.wav',\n",
       "  'Kepulangan Sultan Ibrahim dijangka dapat menyelesaikan polemik jawatan Menteri Besar .'),\n",
       " ('/home/husein/speech-bahasa/haqkiem/LJ006-000001.wav',\n",
       "  'Tun Dr Mahathir Mohamad memaklumkan Datuk Osman Sapian sudah meletakkan jawatan berkuat kuasa Isnin lalu .'),\n",
       " ('/home/husein/speech-bahasa/haqkiem/LJ007-000001.wav',\n",
       "  'Pemain badminton sensasi negara Datuk Lee Chong Wei berjaya menundukkan seteru utama dari China, Lin Dan .'),\n",
       " ('/home/husein/speech-bahasa/haqkiem/LJ008-000001.wav',\n",
       "  'Kekalahan ini bermakna mereka juga gagal menebus kehampaan pada Kejohanan Dunia pada bulan lepas .'),\n",
       " ('/home/husein/speech-bahasa/haqkiem/LJ009-000001.wav',\n",
       "  'Kejayaan Lee Chong Wei yang juga pilihan pertama kejohanan gagal diiringi oleh satu lagi finalis .'),\n",
       " ('/home/husein/speech-bahasa/haqkiem/LJ010-000001.wav',\n",
       "  'Koo Kien Kiat dan Tan Boon Heong yang tewas kepada beregu China Fu Hai feng dan Can Yun .')]"
      ]
     },
     "execution_count": 13,
     "metadata": {},
     "output_type": "execute_result"
    }
   ],
   "source": [
    "dataset = []\n",
    "for f in txts:\n",
    "    text = f[1]\n",
    "    text = text.split('.,,')[0]\n",
    "    text = f'{text} .'\n",
    "    f = f[0]\n",
    "    r = os.path.join(directory, 'haqkiem', f'{f}.wav')\n",
    "    dataset.append((r, text))\n",
    "dataset[:10]"
   ]
  },
  {
   "cell_type": "code",
   "execution_count": 14,
   "metadata": {},
   "outputs": [],
   "source": [
    "import json\n",
    "\n",
    "with open(os.path.join(directory, 'true-case-female.json')) as fopen:\n",
    "    txts = json.load(fopen)\n",
    "    \n",
    "for t in txts:\n",
    "    f = t[0]\n",
    "    f = f.replace('../youtube/malay/', '').replace('../youtube/malay2/', '')\n",
    "    if re.match('^.*(RM|rm)[0-9]+.*$', text):\n",
    "        continue\n",
    "    r = f.replace('output-text', 'output-wav').replace('.txt', '')\n",
    "    r = os.path.join(directory, r)\n",
    "    dataset.append((r, t[2]))"
   ]
  },
  {
   "cell_type": "code",
   "execution_count": 15,
   "metadata": {},
   "outputs": [
    {
     "data": {
      "text/plain": [
       "('/home/husein/speech-bahasa/salina-short/output-wav-salina/dua-puluh-tujuh-28.mp3-735.wav',\n",
       " 'Sehingga menampakkan bentuk badannya yang menggiurkan.')"
      ]
     },
     "execution_count": 15,
     "metadata": {},
     "output_type": "execute_result"
    }
   ],
   "source": [
    "dataset[-1]"
   ]
  },
  {
   "cell_type": "code",
   "execution_count": 16,
   "metadata": {},
   "outputs": [],
   "source": [
    "with open(os.path.join(directory, 'true-case-male.json')) as fopen:\n",
    "    txts = json.load(fopen)\n",
    "    \n",
    "for t in txts:\n",
    "    f = t[0]\n",
    "    f = f.replace('../youtube/malay/', '').replace('../youtube/malay2/', '')\n",
    "    if re.match('^.*(RM|rm)[0-9]+.*$', text):\n",
    "        continue\n",
    "    r = f.replace('output-text', 'output-wav').replace('.txt', '')\n",
    "    r = os.path.join(directory, r)\n",
    "    dataset.append((r, t[2]))"
   ]
  },
  {
   "cell_type": "code",
   "execution_count": 17,
   "metadata": {
    "scrolled": true
   },
   "outputs": [
    {
     "data": {
      "text/plain": [
       "('/home/husein/speech-bahasa/dari-pasentran-ke-istana-short/output-wav-dari-pasentran-ke-istana/islam-politik-dan-pilihanraya-10.mp3-1579.wav',\n",
       " 'Dapat dirasakan')"
      ]
     },
     "execution_count": 17,
     "metadata": {},
     "output_type": "execute_result"
    }
   ],
   "source": [
    "dataset[-1]"
   ]
  },
  {
   "cell_type": "code",
   "execution_count": 18,
   "metadata": {},
   "outputs": [],
   "source": [
    "with open(os.path.join(directory, 'transcript-news.json')) as fopen:\n",
    "    transcribe = json.load(fopen)\n",
    "    \n",
    "audios = glob(os.path.join(directory, 'audio/*.wav'))\n",
    "\n",
    "txts = []\n",
    "for f in audios:\n",
    "    t = transcribe[int(f.split('/')[-1].replace('.wav', ''))]\n",
    "    txts.append(t)\n",
    "    \n",
    "news = list(zip(audios, txts))"
   ]
  },
  {
   "cell_type": "code",
   "execution_count": 21,
   "metadata": {},
   "outputs": [],
   "source": [
    "audios = glob(os.path.join(directory, 'audio-iium/*.wav'))\n",
    "with open(os.path.join(directory, 'shuffled-iium.json')) as fopen:\n",
    "    transcribe = json.load(fopen)\n",
    "    \n",
    "txts = []\n",
    "for f in audios:\n",
    "    t = transcribe[int(f.split('/')[-1].replace('.wav', ''))]\n",
    "    txts.append(t)\n",
    "    \n",
    "iium = list(zip(audios, txts))"
   ]
  },
  {
   "cell_type": "code",
   "execution_count": 24,
   "metadata": {},
   "outputs": [],
   "source": [
    "audios = glob(os.path.join(directory, 'audio-wattpad/*.wav'))\n",
    "with open(os.path.join(directory, 'transcript-wattpad.json')) as fopen:\n",
    "    transcribe = json.load(fopen)\n",
    "    \n",
    "txts = []\n",
    "for f in audios:\n",
    "    t = transcribe[int(f.split('/')[-1].replace('.wav', ''))]\n",
    "    txts.append(t)\n",
    "    \n",
    "wattpad = list(zip(audios, txts))"
   ]
  },
  {
   "cell_type": "code",
   "execution_count": 26,
   "metadata": {},
   "outputs": [],
   "source": [
    "dataset.extend(news)\n",
    "dataset.extend(iium)\n",
    "dataset.extend(wattpad)"
   ]
  },
  {
   "cell_type": "code",
   "execution_count": 27,
   "metadata": {},
   "outputs": [
    {
     "data": {
      "text/plain": [
       "84437"
      ]
     },
     "execution_count": 27,
     "metadata": {},
     "output_type": "execute_result"
    }
   ],
   "source": [
    "len(dataset)"
   ]
  },
  {
   "cell_type": "code",
   "execution_count": 28,
   "metadata": {
    "scrolled": true
   },
   "outputs": [
    {
     "data": {
      "text/plain": [
       "[('/home/husein/speech-bahasa/haqkiem/LJ001-000001.wav',\n",
       "  'Sultan Johor Sultan Ibrahim Iskandar selamat tiba di Lapangan Terbang Antarabangsa Senai malam tadi .'),\n",
       " ('/home/husein/speech-bahasa/haqkiem/LJ002-000001.wav',\n",
       "  'Menerusi entri terbaharu dalam laman Facebook rasminya Sultan Ibrahim tiba pada jam lapan sepuluh malam tadi .'),\n",
       " ('/home/husein/speech-bahasa/haqkiem/LJ003-000001.wav',\n",
       "  'Kepulangan Sultan Ibrahim disambut oleh Tunku Bendahara Johor Tunku Abdul Majid Idris Iskandar .'),\n",
       " ('/home/husein/speech-bahasa/haqkiem/LJ004-000001.wav',\n",
       "  'Sultan Ibrahim berlepas ke luar negara pada minggu lalu atas lawatan peribadi .'),\n",
       " ('/home/husein/speech-bahasa/haqkiem/LJ005-000001.wav',\n",
       "  'Kepulangan Sultan Ibrahim dijangka dapat menyelesaikan polemik jawatan Menteri Besar .'),\n",
       " ('/home/husein/speech-bahasa/haqkiem/LJ006-000001.wav',\n",
       "  'Tun Dr Mahathir Mohamad memaklumkan Datuk Osman Sapian sudah meletakkan jawatan berkuat kuasa Isnin lalu .'),\n",
       " ('/home/husein/speech-bahasa/haqkiem/LJ007-000001.wav',\n",
       "  'Pemain badminton sensasi negara Datuk Lee Chong Wei berjaya menundukkan seteru utama dari China, Lin Dan .'),\n",
       " ('/home/husein/speech-bahasa/haqkiem/LJ008-000001.wav',\n",
       "  'Kekalahan ini bermakna mereka juga gagal menebus kehampaan pada Kejohanan Dunia pada bulan lepas .'),\n",
       " ('/home/husein/speech-bahasa/haqkiem/LJ009-000001.wav',\n",
       "  'Kejayaan Lee Chong Wei yang juga pilihan pertama kejohanan gagal diiringi oleh satu lagi finalis .'),\n",
       " ('/home/husein/speech-bahasa/haqkiem/LJ010-000001.wav',\n",
       "  'Koo Kien Kiat dan Tan Boon Heong yang tewas kepada beregu China Fu Hai feng dan Can Yun .')]"
      ]
     },
     "execution_count": 28,
     "metadata": {},
     "output_type": "execute_result"
    }
   ],
   "source": [
    "dataset[:10]"
   ]
  },
  {
   "cell_type": "code",
   "execution_count": 30,
   "metadata": {},
   "outputs": [],
   "source": [
    "with open('force-alignment-malay-tts-dataset.json', 'w') as fopen:\n",
    "    json.dump(dataset, fopen)"
   ]
  }
 ],
 "metadata": {
  "kernelspec": {
   "display_name": "Python 3",
   "language": "python",
   "name": "python3"
  },
  "language_info": {
   "codemirror_mode": {
    "name": "ipython",
    "version": 3
   },
   "file_extension": ".py",
   "mimetype": "text/x-python",
   "name": "python",
   "nbconvert_exporter": "python",
   "pygments_lexer": "ipython3",
   "version": "3.6.9"
  }
 },
 "nbformat": 4,
 "nbformat_minor": 2
}

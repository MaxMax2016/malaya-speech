{
 "cells": [
  {
   "cell_type": "code",
   "execution_count": 4,
   "id": "cff48619",
   "metadata": {},
   "outputs": [],
   "source": [
    "from malaya_speech.utils import subword\n",
    "import pandas as pd"
   ]
  },
  {
   "cell_type": "code",
   "execution_count": 2,
   "id": "671cfb60",
   "metadata": {},
   "outputs": [],
   "source": [
    "with open('train/TRANS.txt') as fopen:\n",
    "    data = fopen.read().split('\\n')"
   ]
  },
  {
   "cell_type": "code",
   "execution_count": 5,
   "id": "29c2af96",
   "metadata": {},
   "outputs": [],
   "source": [
    "df = pd.read_csv('train/TRANS.txt', sep = '\\t')"
   ]
  },
  {
   "cell_type": "code",
   "execution_count": 6,
   "id": "83febca7",
   "metadata": {},
   "outputs": [
    {
     "data": {
      "text/html": [
       "<div>\n",
       "<style scoped>\n",
       "    .dataframe tbody tr th:only-of-type {\n",
       "        vertical-align: middle;\n",
       "    }\n",
       "\n",
       "    .dataframe tbody tr th {\n",
       "        vertical-align: top;\n",
       "    }\n",
       "\n",
       "    .dataframe thead th {\n",
       "        text-align: right;\n",
       "    }\n",
       "</style>\n",
       "<table border=\"1\" class=\"dataframe\">\n",
       "  <thead>\n",
       "    <tr style=\"text-align: right;\">\n",
       "      <th></th>\n",
       "      <th>UtteranceID</th>\n",
       "      <th>SpeakerID</th>\n",
       "      <th>Transcription</th>\n",
       "    </tr>\n",
       "  </thead>\n",
       "  <tbody>\n",
       "    <tr>\n",
       "      <th>0</th>\n",
       "      <td>14_3466_20170826171159.wav</td>\n",
       "      <td>14_3466</td>\n",
       "      <td>请语言播放小说</td>\n",
       "    </tr>\n",
       "    <tr>\n",
       "      <th>1</th>\n",
       "      <td>14_3466_20170826171236.wav</td>\n",
       "      <td>14_3466</td>\n",
       "      <td>这里</td>\n",
       "    </tr>\n",
       "    <tr>\n",
       "      <th>2</th>\n",
       "      <td>14_3466_20170826171323.wav</td>\n",
       "      <td>14_3466</td>\n",
       "      <td>全民唱吧</td>\n",
       "    </tr>\n",
       "    <tr>\n",
       "      <th>3</th>\n",
       "      <td>14_3466_20170826171404.wav</td>\n",
       "      <td>14_3466</td>\n",
       "      <td>请搜索我附近的超市</td>\n",
       "    </tr>\n",
       "    <tr>\n",
       "      <th>4</th>\n",
       "      <td>14_3466_20170826171424.wav</td>\n",
       "      <td>14_3466</td>\n",
       "      <td>帮我搜三生三世十里桃花电影预告片</td>\n",
       "    </tr>\n",
       "  </tbody>\n",
       "</table>\n",
       "</div>"
      ],
      "text/plain": [
       "                  UtteranceID SpeakerID     Transcription\n",
       "0  14_3466_20170826171159.wav   14_3466           请语言播放小说\n",
       "1  14_3466_20170826171236.wav   14_3466                这里\n",
       "2  14_3466_20170826171323.wav   14_3466              全民唱吧\n",
       "3  14_3466_20170826171404.wav   14_3466         请搜索我附近的超市\n",
       "4  14_3466_20170826171424.wav   14_3466  帮我搜三生三世十里桃花电影预告片"
      ]
     },
     "execution_count": 6,
     "metadata": {},
     "output_type": "execute_result"
    }
   ],
   "source": [
    "df.head()"
   ]
  },
  {
   "cell_type": "code",
   "execution_count": 13,
   "id": "8a604f35",
   "metadata": {},
   "outputs": [],
   "source": [
    "import pinyin\n",
    "from tqdm import tqdm"
   ]
  },
  {
   "cell_type": "code",
   "execution_count": 14,
   "id": "e8ae4c9d",
   "metadata": {},
   "outputs": [
    {
     "name": "stderr",
     "output_type": "stream",
     "text": [
      "100%|██████████| 585273/585273 [00:05<00:00, 100211.62it/s]\n"
     ]
    }
   ],
   "source": [
    "texts = df['Transcription'].tolist()\n",
    "texts = [pinyin.get(t, format=\"strip\", delimiter=\" \") for t in tqdm(texts)]"
   ]
  },
  {
   "cell_type": "code",
   "execution_count": 15,
   "id": "538fd928",
   "metadata": {},
   "outputs": [],
   "source": [
    "tokenizer = subword.generate_tokenizer(texts, target_vocab_size = 512, max_subword_length = 3)"
   ]
  },
  {
   "cell_type": "code",
   "execution_count": 16,
   "id": "99945228",
   "metadata": {},
   "outputs": [],
   "source": [
    "subword.save(tokenizer, 'mandarin-512.subword')"
   ]
  },
  {
   "cell_type": "code",
   "execution_count": null,
   "id": "c1f67b43",
   "metadata": {},
   "outputs": [],
   "source": []
  }
 ],
 "metadata": {
  "kernelspec": {
   "display_name": "Python 3",
   "language": "python",
   "name": "python3"
  },
  "language_info": {
   "codemirror_mode": {
    "name": "ipython",
    "version": 3
   },
   "file_extension": ".py",
   "mimetype": "text/x-python",
   "name": "python",
   "nbconvert_exporter": "python",
   "pygments_lexer": "ipython3",
   "version": "3.7.10"
  }
 },
 "nbformat": 4,
 "nbformat_minor": 5
}

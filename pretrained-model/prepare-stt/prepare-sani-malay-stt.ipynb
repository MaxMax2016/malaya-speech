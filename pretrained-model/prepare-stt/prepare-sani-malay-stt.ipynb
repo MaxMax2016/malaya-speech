{
 "cells": [
  {
   "cell_type": "code",
   "execution_count": 9,
   "metadata": {},
   "outputs": [],
   "source": [
    "import pandas as pd\n",
    "from glob import glob\n",
    "from tqdm import tqdm\n",
    "import json\n",
    "import string\n",
    "import IPython.display as ipd"
   ]
  },
  {
   "cell_type": "code",
   "execution_count": 14,
   "metadata": {},
   "outputs": [
    {
     "data": {
      "text/plain": [
       "37"
      ]
     },
     "execution_count": 14,
     "metadata": {},
     "output_type": "execute_result"
    }
   ],
   "source": [
    "vocabs = list(string.ascii_lowercase + string.digits) + [' ']\n",
    "len(vocabs)"
   ]
  },
  {
   "cell_type": "code",
   "execution_count": 3,
   "metadata": {},
   "outputs": [],
   "source": [
    "base_directory = '/home/husein/speech-bahasa'"
   ]
  },
  {
   "cell_type": "code",
   "execution_count": 6,
   "metadata": {},
   "outputs": [
    {
     "data": {
      "text/plain": [
       "329515"
      ]
     },
     "execution_count": 6,
     "metadata": {},
     "output_type": "execute_result"
    }
   ],
   "source": [
    "sani = glob(f'{base_directory}/clean/**/*.wav', recursive = True)\n",
    "len(sani)"
   ]
  },
  {
   "cell_type": "code",
   "execution_count": 23,
   "metadata": {},
   "outputs": [
    {
     "name": "stderr",
     "output_type": "stream",
     "text": [
      "100%|██████████| 329515/329515 [00:08<00:00, 38847.13it/s]\n"
     ]
    },
    {
     "data": {
      "text/plain": [
       "329359"
      ]
     },
     "execution_count": 23,
     "metadata": {},
     "output_type": "execute_result"
    }
   ],
   "source": [
    "sanis = []\n",
    "for i in tqdm(sani):\n",
    "    with open(i[:-4] + '.txt') as fopen:\n",
    "        text = fopen.read()\n",
    "    if len(text):\n",
    "        sanis.append((i, text))\n",
    "    \n",
    "len(sanis)"
   ]
  },
  {
   "cell_type": "code",
   "execution_count": 24,
   "metadata": {},
   "outputs": [],
   "source": [
    "audios, texts = zip(*sanis)"
   ]
  },
  {
   "cell_type": "code",
   "execution_count": 25,
   "metadata": {},
   "outputs": [
    {
     "data": {
      "text/plain": [
       "329359"
      ]
     },
     "execution_count": 25,
     "metadata": {},
     "output_type": "execute_result"
    }
   ],
   "source": [
    "len(texts)"
   ]
  },
  {
   "cell_type": "code",
   "execution_count": 26,
   "metadata": {},
   "outputs": [],
   "source": [
    "import unicodedata\n",
    "import re\n",
    "import itertools\n",
    "\n",
    "def preprocessing_text(string):\n",
    "        \n",
    "    string = unicodedata.normalize('NFC', string.lower())\n",
    "    string = ''.join([c if c in vocabs else ' ' for c in string])\n",
    "    string = re.sub(r'[ ]+', ' ', string).strip()\n",
    "    string = (\n",
    "        ''.join(''.join(s)[:2] for _, s in itertools.groupby(string))\n",
    "    )\n",
    "    return string"
   ]
  },
  {
   "cell_type": "code",
   "execution_count": 27,
   "metadata": {},
   "outputs": [
    {
     "name": "stderr",
     "output_type": "stream",
     "text": [
      "100%|██████████| 329359/329359 [00:13<00:00, 24620.62it/s]\n"
     ]
    }
   ],
   "source": [
    "processed_text = [preprocessing_text(t) for t in tqdm(texts)]"
   ]
  },
  {
   "cell_type": "code",
   "execution_count": 29,
   "metadata": {},
   "outputs": [
    {
     "data": {
      "text/plain": [
       "1404435"
      ]
     },
     "execution_count": 29,
     "metadata": {},
     "output_type": "execute_result"
    }
   ],
   "source": [
    "with open('bahasa-asr-train.json') as fopen:\n",
    "    train = json.load(fopen)\n",
    "    \n",
    "len(train['X'])"
   ]
  },
  {
   "cell_type": "code",
   "execution_count": 31,
   "metadata": {},
   "outputs": [
    {
     "data": {
      "text/plain": [
       "['/home/husein/speech-bahasa/cv-corpus-5.1-2020-06-22/id/clips/common_voice_id_20425643.mp3',\n",
       " '/home/husein/speech-bahasa/cv-corpus-5.1-2020-06-22/id/clips/common_voice_id_19424182.mp3',\n",
       " '/home/husein/speech-bahasa/cv-corpus-5.1-2020-06-22/id/clips/common_voice_id_21080203.mp3',\n",
       " '/home/husein/speech-bahasa/cv-corpus-5.1-2020-06-22/id/clips/common_voice_id_20483314.mp3',\n",
       " '/home/husein/speech-bahasa/cv-corpus-5.1-2020-06-22/id/clips/common_voice_id_20483312.mp3',\n",
       " '/home/husein/speech-bahasa/cv-corpus-5.1-2020-06-22/id/clips/common_voice_id_20483313.mp3',\n",
       " '/home/husein/speech-bahasa/cv-corpus-5.1-2020-06-22/id/clips/common_voice_id_20211965.mp3',\n",
       " '/home/husein/speech-bahasa/cv-corpus-5.1-2020-06-22/id/clips/common_voice_id_20211967.mp3',\n",
       " '/home/husein/speech-bahasa/cv-corpus-5.1-2020-06-22/id/clips/common_voice_id_20211969.mp3',\n",
       " '/home/husein/speech-bahasa/cv-corpus-5.1-2020-06-22/id/clips/common_voice_id_19376535.mp3']"
      ]
     },
     "execution_count": 31,
     "metadata": {},
     "output_type": "execute_result"
    }
   ],
   "source": [
    "train['X'][:10]"
   ]
  },
  {
   "cell_type": "code",
   "execution_count": 34,
   "metadata": {},
   "outputs": [
    {
     "data": {
      "text/plain": [
       "(1733794, 1733794)"
      ]
     },
     "execution_count": 34,
     "metadata": {},
     "output_type": "execute_result"
    }
   ],
   "source": [
    "X = train['X'] + list(audios)\n",
    "Y = train['Y'] + processed_text\n",
    "len(X), len(Y)"
   ]
  },
  {
   "cell_type": "code",
   "execution_count": 36,
   "metadata": {},
   "outputs": [],
   "source": [
    "import os"
   ]
  },
  {
   "cell_type": "code",
   "execution_count": 39,
   "metadata": {},
   "outputs": [
    {
     "name": "stderr",
     "output_type": "stream",
     "text": [
      "100%|██████████| 1733794/1733794 [00:11<00:00, 145618.91it/s]\n"
     ]
    }
   ],
   "source": [
    "exists = [os.path.exists(f) for f in tqdm(X)]"
   ]
  },
  {
   "cell_type": "code",
   "execution_count": 43,
   "metadata": {},
   "outputs": [
    {
     "data": {
      "text/plain": [
       "True"
      ]
     },
     "execution_count": 43,
     "metadata": {},
     "output_type": "execute_result"
    }
   ],
   "source": [
    "sum(exists) / len(exists) == 1.0"
   ]
  },
  {
   "cell_type": "code",
   "execution_count": 46,
   "metadata": {},
   "outputs": [],
   "source": [
    "from sklearn.utils import shuffle\n",
    "\n",
    "X, Y = shuffle(X, Y)"
   ]
  },
  {
   "cell_type": "code",
   "execution_count": 47,
   "metadata": {},
   "outputs": [],
   "source": [
    "with open('bahasa-asr-train-combined.json', 'w') as fopen:\n",
    "    json.dump({'X': X, 'Y':Y}, fopen)"
   ]
  },
  {
   "cell_type": "code",
   "execution_count": 35,
   "metadata": {},
   "outputs": [],
   "source": [
    "# import malaya_speech"
   ]
  },
  {
   "cell_type": "code",
   "execution_count": 36,
   "metadata": {},
   "outputs": [],
   "source": [
    "# tokenizer = malaya_speech.subword.generate_tokenizer(processed_text, max_subword_length = 3)"
   ]
  },
  {
   "cell_type": "code",
   "execution_count": 37,
   "metadata": {},
   "outputs": [],
   "source": [
    "# malaya_speech.subword.save(tokenizer, 'transducer.subword')"
   ]
  },
  {
   "cell_type": "code",
   "execution_count": 38,
   "metadata": {},
   "outputs": [],
   "source": [
    "# tokenizer = malaya_speech.subword.load('transducer.subword')\n",
    "# malaya_speech.subword.encode(tokenizer, 'i hate', add_blank = True)"
   ]
  },
  {
   "cell_type": "code",
   "execution_count": 39,
   "metadata": {
    "scrolled": true
   },
   "outputs": [],
   "source": [
    "# malaya_speech.subword.decode(tokenizer, [0, 2, 133, 875])"
   ]
  },
  {
   "cell_type": "code",
   "execution_count": 40,
   "metadata": {},
   "outputs": [],
   "source": [
    "# from pydub import AudioSegment\n",
    "# import numpy as np\n",
    "\n",
    "# sr = 16000\n",
    "\n",
    "# def mp3_to_wav(file, sr = sr):\n",
    "#     audio = AudioSegment.from_file(file)\n",
    "#     audio = audio.set_frame_rate(sr).set_channels(1)\n",
    "#     sample = np.array(audio.get_array_of_samples())\n",
    "#     return malaya_speech.astype.int_to_float(sample), sr\n",
    "\n",
    "# def generator(maxlen = 18, min_length_text = 2):\n",
    "#     for i in tqdm(range(len(audios))):\n",
    "#         try:\n",
    "#             if audios[i].endswith('.mp3'):\n",
    "#                 wav_data, _ = mp3_to_wav(audios[i])\n",
    "#             else:\n",
    "#                 wav_data, _ = malaya_speech.load(audios[i])\n",
    "                \n",
    "#             if (len(wav_data) / sr) > maxlen:\n",
    "#                 # print(f'skipped audio too long {audios[i]}')\n",
    "#                 continue\n",
    "                \n",
    "#             if len(processed_text[i]) < min_length_text:\n",
    "#                 print(f'skipped text too short {audios[i]}')\n",
    "#                 continue    \n",
    "\n",
    "#             yield {\n",
    "#                 'waveforms': wav_data.tolist(),\n",
    "#                 'waveform_lens': [len(wav_data)],\n",
    "#                 'targets': malaya_speech.subword.encode(tokenizer, processed_text[i], add_blank = False),\n",
    "#             }\n",
    "#         except Exception as e:\n",
    "#             print(e)\n",
    "            \n",
    "# generator = generator()"
   ]
  },
  {
   "cell_type": "code",
   "execution_count": 41,
   "metadata": {},
   "outputs": [],
   "source": [
    "# import os\n",
    "# import tensorflow as tf\n",
    "\n",
    "# os.system('rm bahasa-asr/data/*')\n",
    "# DATA_DIR = os.path.expanduser('bahasa-asr/data')\n",
    "# tf.gfile.MakeDirs(DATA_DIR)"
   ]
  },
  {
   "cell_type": "code",
   "execution_count": 42,
   "metadata": {},
   "outputs": [],
   "source": [
    "# shards = [{'split': 'train', 'shards': 1000}]"
   ]
  },
  {
   "cell_type": "code",
   "execution_count": 43,
   "metadata": {
    "scrolled": true
   },
   "outputs": [],
   "source": [
    "# import malaya_speech.train as train\n",
    "\n",
    "# train.prepare_dataset(generator, DATA_DIR, shards, prefix = 'bahasa-asr')"
   ]
  }
 ],
 "metadata": {
  "kernelspec": {
   "display_name": "Python 3",
   "language": "python",
   "name": "python3"
  },
  "language_info": {
   "codemirror_mode": {
    "name": "ipython",
    "version": 3
   },
   "file_extension": ".py",
   "mimetype": "text/x-python",
   "name": "python",
   "nbconvert_exporter": "python",
   "pygments_lexer": "ipython3",
   "version": "3.6.9"
  }
 },
 "nbformat": 4,
 "nbformat_minor": 2
}

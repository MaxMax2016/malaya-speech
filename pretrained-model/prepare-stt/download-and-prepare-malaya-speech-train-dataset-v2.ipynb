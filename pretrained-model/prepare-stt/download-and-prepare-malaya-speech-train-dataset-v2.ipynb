{
 "cells": [
  {
   "cell_type": "code",
   "execution_count": 1,
   "metadata": {},
   "outputs": [],
   "source": [
    "# !wget https://cdn.commonvoice.mozilla.org/cv-corpus-5.1-2020-06-22/id.tar.gz\n",
    "# !tar -zxf id.tar.gz"
   ]
  },
  {
   "cell_type": "code",
   "execution_count": 2,
   "metadata": {},
   "outputs": [],
   "source": [
    "# !wget https://f000.backblazeb2.com/file/malay-dataset/speech/semisupervised-26-02-2021-part3.tar\n",
    "# !mkdir part1-v2\n",
    "# !tar -xf semisupervised-26-02-2021-part3.tar -C part1-v2"
   ]
  },
  {
   "cell_type": "code",
   "execution_count": 1,
   "metadata": {},
   "outputs": [],
   "source": [
    "# !wget https://f000.backblazeb2.com/file/malay-dataset/speech/semisupervised-26-02-2021-part4.tar\n",
    "# !mkdir part2-v2\n",
    "# !tar -xf semisupervised-26-02-2021-part4.tar -C part2-v2"
   ]
  },
  {
   "cell_type": "code",
   "execution_count": null,
   "metadata": {},
   "outputs": [],
   "source": [
    "# !wget https://f000.backblazeb2.com/file/malay-dataset/speech/semisupervised-24-03-2021-part1.tar\n",
    "# !tar -xf semisupervised-24-03-2021-part1.tar"
   ]
  },
  {
   "cell_type": "code",
   "execution_count": null,
   "metadata": {},
   "outputs": [],
   "source": [
    "# !wget https://f000.backblazeb2.com/file/malay-dataset/speech/semisupervised-24-03-2021-part2.tar\n",
    "# !tar -xf semisupervised-24-03-2021-part2.tar"
   ]
  },
  {
   "cell_type": "code",
   "execution_count": null,
   "metadata": {},
   "outputs": [],
   "source": [
    "# !wget https://f000.backblazeb2.com/file/malay-dataset/speech/semisupervised-24-03-2021-part3.tar\n",
    "# !tar -xf semisupervised-24-03-2021-part3.tar"
   ]
  },
  {
   "cell_type": "code",
   "execution_count": 6,
   "metadata": {},
   "outputs": [],
   "source": [
    "# !wget https://f000.backblazeb2.com/file/malay-dataset/streaming.zip -O wikipedia-asr.zip\n",
    "# !unzip wikipedia-asr.zip"
   ]
  },
  {
   "cell_type": "code",
   "execution_count": 7,
   "metadata": {},
   "outputs": [],
   "source": [
    "# wget https://f000.backblazeb2.com/file/malaya-speech-model/data/news-speech.zip\n",
    "# wget https://f000.backblazeb2.com/file/malaya-speech-model/collections/transcript-news.json\n",
    "# unzip news-speech.zip -d news"
   ]
  },
  {
   "cell_type": "code",
   "execution_count": 8,
   "metadata": {},
   "outputs": [],
   "source": [
    "# !wget https://f000.backblazeb2.com/file/malaya-speech-model/data/trainset-audiobook.tar.gz\n",
    "# !wget https://f000.backblazeb2.com/file/malaya-speech-model/data/text-audiobook.tar.gz\n",
    "# !tar -xf trainset-audiobook.tar.gz\n",
    "# !tar -zxf text-audiobook.tar.gz"
   ]
  },
  {
   "cell_type": "code",
   "execution_count": 9,
   "metadata": {},
   "outputs": [],
   "source": [
    "import os\n",
    "\n",
    "os.environ['CUDA_VISIBLE_DEVICES'] = ''"
   ]
  },
  {
   "cell_type": "code",
   "execution_count": 10,
   "metadata": {},
   "outputs": [],
   "source": [
    "import pandas as pd\n",
    "from glob import glob\n",
    "from tqdm import tqdm\n",
    "import json"
   ]
  },
  {
   "cell_type": "code",
   "execution_count": 11,
   "metadata": {},
   "outputs": [],
   "source": [
    "base_directory = '/home/husein/speech-bahasa'"
   ]
  },
  {
   "cell_type": "code",
   "execution_count": 12,
   "metadata": {},
   "outputs": [
    {
     "name": "stdout",
     "output_type": "stream",
     "text": [
      "(7490, 10)\n"
     ]
    }
   ],
   "source": [
    "df = pd.read_csv(f'{base_directory}/cv-corpus-5.1-2020-06-22/id/validated.tsv', sep = '\\t')\n",
    "df = df[(df['sentence'].str.len() > 5) & (df['sentence'].str.count(' ') > 0)]\n",
    "print(df.shape)"
   ]
  },
  {
   "cell_type": "code",
   "execution_count": 13,
   "metadata": {},
   "outputs": [
    {
     "data": {
      "text/plain": [
       "7490"
      ]
     },
     "execution_count": 13,
     "metadata": {},
     "output_type": "execute_result"
    }
   ],
   "source": [
    "id_commonvoice = []\n",
    "for i in range(len(df)):\n",
    "    p = f\"{base_directory}/cv-corpus-5.1-2020-06-22/id/clips/{df['path'].iloc[i]}\"\n",
    "    t = df['sentence'].iloc[i]\n",
    "    if len(t) < 5:\n",
    "        continue\n",
    "    id_commonvoice.append((p, t))\n",
    "\n",
    "len(id_commonvoice)"
   ]
  },
  {
   "cell_type": "code",
   "execution_count": 14,
   "metadata": {},
   "outputs": [
    {
     "data": {
      "text/plain": [
       "1008453"
      ]
     },
     "execution_count": 14,
     "metadata": {},
     "output_type": "execute_result"
    }
   ],
   "source": [
    "malay = glob(f'{base_directory}/part*/output-wav/*.wav')\n",
    "len(malay)"
   ]
  },
  {
   "cell_type": "code",
   "execution_count": 15,
   "metadata": {},
   "outputs": [
    {
     "data": {
      "text/plain": [
       "1322836"
      ]
     },
     "execution_count": 15,
     "metadata": {},
     "output_type": "execute_result"
    }
   ],
   "source": [
    "malay.extend(glob(f'{base_directory}/part*/semisupervised/output-wav/*.wav'))\n",
    "len(malay)"
   ]
  },
  {
   "cell_type": "code",
   "execution_count": 16,
   "metadata": {},
   "outputs": [
    {
     "name": "stderr",
     "output_type": "stream",
     "text": [
      "100%|██████████| 1322836/1322836 [07:28<00:00, 2946.80it/s]\n"
     ]
    }
   ],
   "source": [
    "malays = []\n",
    "for i in tqdm(malay):\n",
    "    try:\n",
    "        p = i.replace('output-wav','output-text')\n",
    "        with open(f'{p}.txt') as fopen:\n",
    "            text = fopen.read()\n",
    "        if len(text) < 3:\n",
    "            continue\n",
    "        malays.append((i, text))\n",
    "    except Exception as e:\n",
    "        print(e)"
   ]
  },
  {
   "cell_type": "code",
   "execution_count": 17,
   "metadata": {},
   "outputs": [
    {
     "name": "stderr",
     "output_type": "stream",
     "text": [
      "100%|██████████| 2887/2887 [00:00<00:00, 247212.36it/s]\n"
     ]
    },
    {
     "data": {
      "text/plain": [
       "2887"
      ]
     },
     "execution_count": 17,
     "metadata": {},
     "output_type": "execute_result"
    }
   ],
   "source": [
    "wikipedia = []\n",
    "wavs = glob(f'{base_directory}/streaming/*wav')\n",
    "for i in tqdm(wavs):\n",
    "    text = os.path.split(i)[1].replace('.wav', '')\n",
    "    wikipedia.append((i, text))\n",
    "    \n",
    "len(wikipedia)"
   ]
  },
  {
   "cell_type": "code",
   "execution_count": 18,
   "metadata": {},
   "outputs": [
    {
     "name": "stderr",
     "output_type": "stream",
     "text": [
      "100%|██████████| 2151/2151 [00:00<00:00, 29117.05it/s]\n"
     ]
    }
   ],
   "source": [
    "news = []\n",
    "wavs = glob(f'{base_directory}/news/audio/*wav')\n",
    "\n",
    "with open(f'{base_directory}/transcript-news.json') as fopen:\n",
    "    transcript_news = json.load(fopen)\n",
    "    \n",
    "for i in tqdm(wavs):\n",
    "    index = i.split('/')[-1].replace('.wav','')\n",
    "    text = transcript_news[int(index)]\n",
    "    news.append((i, text))"
   ]
  },
  {
   "cell_type": "code",
   "execution_count": 19,
   "metadata": {},
   "outputs": [
    {
     "name": "stderr",
     "output_type": "stream",
     "text": [
      "100%|██████████| 64341/64341 [00:06<00:00, 10594.83it/s]\n"
     ]
    }
   ],
   "source": [
    "audiobook = []\n",
    "wavs = glob(f'{base_directory}/combined/*wav')\n",
    "for i in tqdm(wavs):\n",
    "    t = '/'.join(i.split('<>')[1:])\n",
    "    t = t.split('.wav')[0]\n",
    "    t = t.replace('output-wav', 'output-text')\n",
    "    with open(f'{base_directory}/text-audiobook/{t}.wav.txt') as fopen:\n",
    "        text = fopen.read()\n",
    "    audiobook.append((i, text))"
   ]
  },
  {
   "cell_type": "code",
   "execution_count": 20,
   "metadata": {},
   "outputs": [
    {
     "name": "stderr",
     "output_type": "stream",
     "text": [
      "100%|██████████| 4294/4294 [00:00<00:00, 642331.80it/s]\n"
     ]
    }
   ],
   "source": [
    "df = pd.read_csv(f'{base_directory}/haqkiem/metadata.csv', header = None, sep = '|')\n",
    "txts = df.values.tolist()\n",
    "haqkiem = []\n",
    "for f in tqdm(txts):\n",
    "    text = f[1]\n",
    "    text = text.split('.,,')[0]\n",
    "    f = f[0]\n",
    "    r = f'{base_directory}/haqkiem/{f}.wav'\n",
    "    haqkiem.append((r, text))"
   ]
  },
  {
   "cell_type": "code",
   "execution_count": 21,
   "metadata": {},
   "outputs": [],
   "source": [
    "# import IPython.display as ipd\n",
    "\n",
    "# ipd.Audio(audiobook[0][0])"
   ]
  },
  {
   "cell_type": "code",
   "execution_count": 22,
   "metadata": {},
   "outputs": [],
   "source": [
    "audios = id_commonvoice + malays + wikipedia + news + audiobook + haqkiem\n",
    "audios, texts = zip(*audios)"
   ]
  },
  {
   "cell_type": "code",
   "execution_count": 23,
   "metadata": {},
   "outputs": [
    {
     "data": {
      "text/plain": [
       "1403509"
      ]
     },
     "execution_count": 23,
     "metadata": {},
     "output_type": "execute_result"
    }
   ],
   "source": [
    "len(texts)"
   ]
  },
  {
   "cell_type": "code",
   "execution_count": 24,
   "metadata": {},
   "outputs": [],
   "source": [
    "import unicodedata\n",
    "import re\n",
    "\n",
    "vocabs = [\" \", \"a\", \"e\", \"n\", \"i\", \"t\", \"o\", \"u\", \"s\", \"k\", \"r\", \"l\", \"h\", \"d\", \"m\", \"g\", \"y\", \"b\", \"p\", \"w\", \"c\", \"f\", \"j\", \"v\", \"'\", \"-\", \"z\", \"0\", \"1\", \"x\", \"2\", \"q\", \"*\", \"5\", \"3\", \"4\", \"6\", \"9\", \"8\", \"7\", \"%\", \"$\", \"\\\"\", \"/\", \"&\", \":\", \"+\"]\n",
    "def preprocessing_text(string):\n",
    "        \n",
    "    string = unicodedata.normalize('NFC', string.lower())\n",
    "    string = ''.join([c for c in string if c in vocabs])\n",
    "    return re.sub(r'[ ]+', ' ', string).strip()"
   ]
  },
  {
   "cell_type": "code",
   "execution_count": 25,
   "metadata": {},
   "outputs": [
    {
     "name": "stderr",
     "output_type": "stream",
     "text": [
      "100%|██████████| 1403509/1403509 [00:29<00:00, 47381.15it/s]\n"
     ]
    }
   ],
   "source": [
    "processed_text = [preprocessing_text(t) for t in tqdm(texts)]"
   ]
  },
  {
   "cell_type": "code",
   "execution_count": 26,
   "metadata": {},
   "outputs": [
    {
     "data": {
      "text/plain": [
       "('/home/husein/speech-bahasa/cv-corpus-5.1-2020-06-22/id/clips/common_voice_id_20425643.mp3',\n",
       " 'inilah dunia kecil')"
      ]
     },
     "execution_count": 26,
     "metadata": {},
     "output_type": "execute_result"
    }
   ],
   "source": [
    "audios[0], processed_text[0]"
   ]
  },
  {
   "cell_type": "code",
   "execution_count": 27,
   "metadata": {},
   "outputs": [],
   "source": [
    "with open('bahasa-asr-train.json', 'w') as fopen:\n",
    "    json.dump({'X': audios, 'Y':processed_text}, fopen)"
   ]
  },
  {
   "cell_type": "code",
   "execution_count": null,
   "metadata": {},
   "outputs": [],
   "source": [
    "# import malaya_speech"
   ]
  },
  {
   "cell_type": "code",
   "execution_count": null,
   "metadata": {},
   "outputs": [],
   "source": [
    "# tokenizer = malaya_speech.subword.generate_tokenizer(processed_text, max_subword_length = 3)"
   ]
  },
  {
   "cell_type": "code",
   "execution_count": null,
   "metadata": {},
   "outputs": [],
   "source": [
    "# malaya_speech.subword.save(tokenizer, 'transducer.subword')"
   ]
  },
  {
   "cell_type": "code",
   "execution_count": null,
   "metadata": {},
   "outputs": [],
   "source": [
    "# tokenizer = malaya_speech.subword.load('transducer.subword')\n",
    "# malaya_speech.subword.encode(tokenizer, 'i hate', add_blank = True)"
   ]
  },
  {
   "cell_type": "code",
   "execution_count": null,
   "metadata": {
    "scrolled": true
   },
   "outputs": [],
   "source": [
    "# malaya_speech.subword.decode(tokenizer, [0, 2, 133, 875])"
   ]
  },
  {
   "cell_type": "code",
   "execution_count": null,
   "metadata": {},
   "outputs": [],
   "source": [
    "# from pydub import AudioSegment\n",
    "# import numpy as np\n",
    "\n",
    "# sr = 16000\n",
    "\n",
    "# def mp3_to_wav(file, sr = sr):\n",
    "#     audio = AudioSegment.from_file(file)\n",
    "#     audio = audio.set_frame_rate(sr).set_channels(1)\n",
    "#     sample = np.array(audio.get_array_of_samples())\n",
    "#     return malaya_speech.astype.int_to_float(sample), sr\n",
    "\n",
    "# def generator(maxlen = 18, min_length_text = 2):\n",
    "#     for i in tqdm(range(len(audios))):\n",
    "#         try:\n",
    "#             if audios[i].endswith('.mp3'):\n",
    "#                 wav_data, _ = mp3_to_wav(audios[i])\n",
    "#             else:\n",
    "#                 wav_data, _ = malaya_speech.load(audios[i])\n",
    "                \n",
    "#             if (len(wav_data) / sr) > maxlen:\n",
    "#                 # print(f'skipped audio too long {audios[i]}')\n",
    "#                 continue\n",
    "                \n",
    "#             if len(processed_text[i]) < min_length_text:\n",
    "#                 print(f'skipped text too short {audios[i]}')\n",
    "#                 continue    \n",
    "\n",
    "#             yield {\n",
    "#                 'waveforms': wav_data.tolist(),\n",
    "#                 'waveform_lens': [len(wav_data)],\n",
    "#                 'targets': malaya_speech.subword.encode(tokenizer, processed_text[i], add_blank = False),\n",
    "#             }\n",
    "#         except Exception as e:\n",
    "#             print(e)\n",
    "            \n",
    "# generator = generator()"
   ]
  },
  {
   "cell_type": "code",
   "execution_count": null,
   "metadata": {},
   "outputs": [],
   "source": [
    "# import os\n",
    "# import tensorflow as tf\n",
    "\n",
    "# os.system('rm bahasa-asr/data/*')\n",
    "# DATA_DIR = os.path.expanduser('bahasa-asr/data')\n",
    "# tf.gfile.MakeDirs(DATA_DIR)"
   ]
  },
  {
   "cell_type": "code",
   "execution_count": null,
   "metadata": {},
   "outputs": [],
   "source": [
    "# shards = [{'split': 'train', 'shards': 1000}]"
   ]
  },
  {
   "cell_type": "code",
   "execution_count": null,
   "metadata": {
    "scrolled": true
   },
   "outputs": [],
   "source": [
    "# import malaya_speech.train as train\n",
    "\n",
    "# train.prepare_dataset(generator, DATA_DIR, shards, prefix = 'bahasa-asr')"
   ]
  }
 ],
 "metadata": {
  "kernelspec": {
   "display_name": "Python 3",
   "language": "python",
   "name": "python3"
  },
  "language_info": {
   "codemirror_mode": {
    "name": "ipython",
    "version": 3
   },
   "file_extension": ".py",
   "mimetype": "text/x-python",
   "name": "python",
   "nbconvert_exporter": "python",
   "pygments_lexer": "ipython3",
   "version": "3.6.9"
  }
 },
 "nbformat": 4,
 "nbformat_minor": 2
}

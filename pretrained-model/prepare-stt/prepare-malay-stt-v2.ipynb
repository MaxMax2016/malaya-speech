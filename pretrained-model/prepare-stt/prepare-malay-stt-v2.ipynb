{
 "cells": [
  {
   "cell_type": "code",
   "execution_count": 1,
   "id": "2d868f40",
   "metadata": {},
   "outputs": [],
   "source": [
    "# download from https://commonvoice.mozilla.org/en/datasets\n",
    "# !tar -zxf cv-corpus-10.0-2022-07-04-id.tar.gz\n",
    "# !rm cv-corpus-10.0-2022-07-04-id.tar.gz"
   ]
  },
  {
   "cell_type": "code",
   "execution_count": 2,
   "id": "839e1b36",
   "metadata": {},
   "outputs": [],
   "source": [
    "# !wget https://f000.backblazeb2.com/file/malay-dataset/speech/semisupervised-26-02-2021-part2.tar\n",
    "# !mkdir part1-v2\n",
    "# !tar -xf semisupervised-26-02-2021-part2.tar -C part1-v2\n",
    "# !rm semisupervised-26-02-2021-part2.tar"
   ]
  },
  {
   "cell_type": "code",
   "execution_count": 3,
   "id": "3f04a655",
   "metadata": {},
   "outputs": [],
   "source": [
    "# !wget https://f000.backblazeb2.com/file/malay-dataset/speech/semisupervised-26-02-2021-part3.tar\n",
    "# !mkdir part2-v2\n",
    "# !tar -xf semisupervised-26-02-2021-part3.tar -C part2-v2\n",
    "# !rm semisupervised-26-02-2021-part3.tar"
   ]
  },
  {
   "cell_type": "code",
   "execution_count": 4,
   "id": "d9f2d12c",
   "metadata": {},
   "outputs": [],
   "source": [
    "# !wget https://f000.backblazeb2.com/file/malay-dataset/speech/semisupervised-26-02-2021-part4.tar\n",
    "# !mkdir part3-v2\n",
    "# !tar -xf semisupervised-26-02-2021-part4.tar -C part3-v2\n",
    "# !rm semisupervised-26-02-2021-part4.tar"
   ]
  },
  {
   "cell_type": "code",
   "execution_count": 5,
   "id": "fe9982ce",
   "metadata": {},
   "outputs": [],
   "source": [
    "# !wget https://f000.backblazeb2.com/file/malay-dataset/speech/semisupervised-24-03-2021-part1.tar\n",
    "# !tar -xf semisupervised-24-03-2021-part1.tar\n",
    "# !rm semisupervised-24-03-2021-part1.tar"
   ]
  },
  {
   "cell_type": "code",
   "execution_count": 6,
   "id": "1362dce3",
   "metadata": {},
   "outputs": [],
   "source": [
    "# !wget https://f000.backblazeb2.com/file/malay-dataset/speech/semisupervised-24-03-2021-part2.tar\n",
    "# !tar -xf semisupervised-24-03-2021-part2.tar\n",
    "# !rm semisupervised-24-03-2021-part2.tar"
   ]
  },
  {
   "cell_type": "code",
   "execution_count": 7,
   "id": "ad22a8c2",
   "metadata": {
    "scrolled": true
   },
   "outputs": [],
   "source": [
    "# !wget https://f000.backblazeb2.com/file/malay-dataset/speech/semisupervised-24-03-2021-part3.tar\n",
    "# !tar -xf semisupervised-24-03-2021-part3.tar\n",
    "# !rm semisupervised-24-03-2021-part3.tar"
   ]
  },
  {
   "cell_type": "code",
   "execution_count": 8,
   "id": "93f7b9f5",
   "metadata": {},
   "outputs": [],
   "source": [
    "# !tar -zxf sani-clean.tar.gz\n",
    "# !tar -xf sani-clean.tar.gz\n",
    "# !rm sani-clean.tar.gz"
   ]
  },
  {
   "cell_type": "code",
   "execution_count": 9,
   "metadata": {},
   "outputs": [],
   "source": [
    "# https://huggingface.co/datasets/google/fleurs/blob/main/fleurs.py\n",
    "\n",
    "# !wget https://storage.googleapis.com/xtreme_translations/FLEURS102/ms_my.tar.gz\n",
    "# !tar -zxf ms_my.tar.gz\n",
    "# !rm ms_my.tar.gz"
   ]
  },
  {
   "cell_type": "code",
   "execution_count": 10,
   "metadata": {},
   "outputs": [],
   "source": [
    "# https://huggingface.co/datasets/google/fleurs/blob/main/fleurs.py\n",
    "\n",
    "# !wget https://storage.googleapis.com/xtreme_translations/FLEURS102/id_id.tar.gz\n",
    "# !tar -zxf id_id.tar.gz\n",
    "# !rm id_id.tar.gz"
   ]
  },
  {
   "cell_type": "code",
   "execution_count": 11,
   "id": "fd7fad96",
   "metadata": {},
   "outputs": [],
   "source": [
    "# !wget https://f000.backblazeb2.com/file/malay-dataset/speech-bahasa.zip\n",
    "# !unzip speech-bahasa.zip\n",
    "# !rm speech-bahasa.zip"
   ]
  },
  {
   "cell_type": "code",
   "execution_count": 12,
   "id": "a38a5e0d",
   "metadata": {},
   "outputs": [],
   "source": [
    "# !wget https://f000.backblazeb2.com/file/malay-dataset/streaming.zip -O wikipedia-asr.zip\n",
    "# !unzip wikipedia-asr.zip\n",
    "# !rm wikipedia-asr.zip"
   ]
  },
  {
   "cell_type": "code",
   "execution_count": 13,
   "id": "599eb27e",
   "metadata": {},
   "outputs": [],
   "source": [
    "# !wget https://f000.backblazeb2.com/file/malaya-speech-model/data/news-speech.zip\n",
    "# !wget https://f000.backblazeb2.com/file/malaya-speech-model/collections/transcript-news.json\n",
    "# !unzip news-speech.zip -d news\n",
    "# !rm news-speech.zip"
   ]
  },
  {
   "cell_type": "code",
   "execution_count": 14,
   "id": "c3769e83",
   "metadata": {},
   "outputs": [],
   "source": [
    "# !wget https://f000.backblazeb2.com/file/malaya-speech-model/data/trainset-audiobook.tar.gz\n",
    "# !wget https://f000.backblazeb2.com/file/malaya-speech-model/data/text-audiobook.tar.gz\n",
    "# !tar -xf trainset-audiobook.tar.gz\n",
    "# !tar -zxf text-audiobook.tar.gz\n",
    "# !rm trainset-audiobook.tar.gz text-audiobook.tar.gz"
   ]
  },
  {
   "cell_type": "code",
   "execution_count": 15,
   "id": "56521939",
   "metadata": {},
   "outputs": [],
   "source": [
    "# !wget https://f000.backblazeb2.com/file/malaya-speech-model/asr-dataset/malay-test.json\n",
    "# !wget https://f000.backblazeb2.com/file/malaya-speech-model/asr-dataset/malay-test.tar.gz\n",
    "# !tar -zxf malay-test.tar.gz\n",
    "# !rm malay-test.tar.gz"
   ]
  },
  {
   "cell_type": "code",
   "execution_count": 16,
   "metadata": {},
   "outputs": [],
   "source": [
    "# !wget https://f000.backblazeb2.com/file/malaya-speech-model/data/Haqkiem_8hour_audio_text.zip\n",
    "# !mkdir haqkiem\n",
    "# !unzip Haqkiem_8hour_audio_text.zip -d haqkiem"
   ]
  },
  {
   "cell_type": "code",
   "execution_count": 17,
   "metadata": {},
   "outputs": [],
   "source": [
    "import os\n",
    "\n",
    "os.environ['CUDA_VISIBLE_DEVICES'] = ''"
   ]
  },
  {
   "cell_type": "code",
   "execution_count": 18,
   "metadata": {},
   "outputs": [],
   "source": [
    "import pandas as pd\n",
    "from glob import glob\n",
    "from tqdm import tqdm\n",
    "import json"
   ]
  },
  {
   "cell_type": "code",
   "execution_count": 19,
   "id": "5db6fe97",
   "metadata": {},
   "outputs": [],
   "source": [
    "with open('malay-test.json') as fopen:\n",
    "    malay_test = json.load(fopen)"
   ]
  },
  {
   "cell_type": "code",
   "execution_count": 20,
   "id": "242b7abc",
   "metadata": {},
   "outputs": [],
   "source": [
    "base_directory = os.getcwd()"
   ]
  },
  {
   "cell_type": "code",
   "execution_count": 21,
   "metadata": {},
   "outputs": [
    {
     "name": "stdout",
     "output_type": "stream",
     "text": [
      "audio-iium.zip\t\t      part1\r\n",
      "audio-wattpad.zip\t      part1-v2\r\n",
      "bahasa-asr-train.json\t      part2\r\n",
      "clean\t\t\t      part2-v2\r\n",
      "combined\t\t      part3\r\n",
      "convert-16k.ipynb\t      part3-v2\r\n",
      "cv-corpus-10.0-2022-07-04     prepare-stt.ipynb\r\n",
      "haqkiem\t\t\t      prepare-train-valid-set-fairseq-wav2vec2.ipynb\r\n",
      "Haqkiem_8hour_audio_text.zip  sebut-perkataan-man\r\n",
      "id\t\t\t      sebut-perkataan-woman\r\n",
      "id_id\t\t\t      semisupervised-voxlingua107.ipynb\r\n",
      "iium\t\t\t      shuffled-iium.json\r\n",
      "__MACOSX\t\t      streaming\r\n",
      "malay-audio.txt\t\t      text-audiobook\r\n",
      "malay-test\t\t      tolong-sebut\r\n",
      "malay-test.json\t\t      transcript-news.json\r\n",
      "ms\t\t\t      transcript-wattpad.json\r\n",
      "ms_my\t\t\t      wattpad\r\n",
      "news\t\t\t      wav2vec2-malay\r\n"
     ]
    }
   ],
   "source": [
    "!ls"
   ]
  },
  {
   "cell_type": "code",
   "execution_count": 22,
   "metadata": {},
   "outputs": [
    {
     "name": "stdout",
     "output_type": "stream",
     "text": [
      "dev  test  train\r\n"
     ]
    }
   ],
   "source": [
    "!ls ms_my/audio"
   ]
  },
  {
   "cell_type": "code",
   "execution_count": 23,
   "metadata": {},
   "outputs": [],
   "source": [
    "ms_my_train = pd.read_csv('ms_my/train.tsv', sep = '\\t', header=None)\n",
    "ms_my_dev = pd.read_csv('ms_my/dev.tsv', sep = '\\t', header=None)"
   ]
  },
  {
   "cell_type": "code",
   "execution_count": 24,
   "metadata": {},
   "outputs": [
    {
     "name": "stderr",
     "output_type": "stream",
     "text": [
      "/home/husein/.local/lib/python3.8/site-packages/malaya/tokenizer.py:202: FutureWarning: Possible nested set at position 3361\n",
      "  self.tok = re.compile(r'({})'.format('|'.join(pipeline)))\n",
      "/home/husein/.local/lib/python3.8/site-packages/malaya/tokenizer.py:202: FutureWarning: Possible nested set at position 3879\n",
      "  self.tok = re.compile(r'({})'.format('|'.join(pipeline)))\n"
     ]
    },
    {
     "data": {
      "text/plain": [
       "['dalam',\n",
       " 'tahun',\n",
       " '-',\n",
       " 'tahun',\n",
       " 'terakhir',\n",
       " 'abad',\n",
       " 'ke',\n",
       " '-',\n",
       " '18',\n",
       " 'vietnam',\n",
       " 'juga',\n",
       " 'telah',\n",
       " 'menjajah',\n",
       " 'kemboja']"
      ]
     },
     "execution_count": 24,
     "metadata": {},
     "output_type": "execute_result"
    }
   ],
   "source": [
    "import malaya\n",
    "from malaya.text.normalization import cardinal\n",
    "\n",
    "tokenizer = malaya.tokenizer.Tokenizer(hypen = False, parliament = False)\n",
    "tokenizer.tokenize(ms_my_train.iloc[3, 3])"
   ]
  },
  {
   "cell_type": "code",
   "execution_count": 25,
   "metadata": {},
   "outputs": [
    {
     "data": {
      "text/plain": [
       "'dalam tahun - tahun terakhir abad ke - lapan belas vietnam juga telah menjajah kemboja'"
      ]
     },
     "execution_count": 25,
     "metadata": {},
     "output_type": "execute_result"
    }
   ],
   "source": [
    "def tokenize_and_replace(t):\n",
    "    tokenized = tokenizer.tokenize(t)\n",
    "    for i in range(len(tokenized)):\n",
    "        c = cardinal(tokenized[i])\n",
    "        if c != tokenized[i]:\n",
    "            tokenized[i] = c\n",
    "    return ' '.join(tokenized)\n",
    "\n",
    "tokenize_and_replace(ms_my_train.iloc[3, 3])"
   ]
  },
  {
   "cell_type": "code",
   "execution_count": 26,
   "metadata": {},
   "outputs": [],
   "source": [
    "ms_my = []\n",
    "for i in range(len(ms_my_train)):\n",
    "    a = ms_my_train.iloc[i, 1]\n",
    "    t = ms_my_train.iloc[i, 3]\n",
    "    t = tokenize_and_replace(t)\n",
    "    \n",
    "    ms_my.append((f'{base_directory}/ms_my/audio/train/{a}', t))\n",
    "    \n",
    "for i in range(len(ms_my_dev)):\n",
    "    a = ms_my_dev.iloc[i, 1]\n",
    "    t = ms_my_dev.iloc[i, 3]\n",
    "    t = tokenize_and_replace(t)\n",
    "    \n",
    "    ms_my.append((f'{base_directory}/ms_my/audio/dev/{a}', t))"
   ]
  },
  {
   "cell_type": "code",
   "execution_count": 27,
   "metadata": {},
   "outputs": [
    {
     "data": {
      "text/plain": [
       "2991"
      ]
     },
     "execution_count": 27,
     "metadata": {},
     "output_type": "execute_result"
    }
   ],
   "source": [
    "len(ms_my)"
   ]
  },
  {
   "cell_type": "code",
   "execution_count": 28,
   "id": "9015850d",
   "metadata": {},
   "outputs": [
    {
     "name": "stdout",
     "output_type": "stream",
     "text": [
      "(22995, 10)\n"
     ]
    }
   ],
   "source": [
    "df = pd.read_csv(f'{base_directory}/cv-corpus-10.0-2022-07-04/id/validated.tsv', sep = '\\t')\n",
    "df = df[(df['sentence'].str.len() > 5) & (df['sentence'].str.count(' ') > 0)]\n",
    "print(df.shape)"
   ]
  },
  {
   "cell_type": "code",
   "execution_count": 29,
   "id": "a6b90ab3",
   "metadata": {},
   "outputs": [
    {
     "data": {
      "text/plain": [
       "22995"
      ]
     },
     "execution_count": 29,
     "metadata": {},
     "output_type": "execute_result"
    }
   ],
   "source": [
    "id_commonvoice = []\n",
    "for i in range(len(df)):\n",
    "    p = f\"{base_directory}/cv-corpus-10.0-2022-07-04/id/clips/{df['path'].iloc[i]}\"\n",
    "    t = df['sentence'].iloc[i]\n",
    "    if len(t) < 5:\n",
    "        continue\n",
    "    id_commonvoice.append((p, t))\n",
    "\n",
    "len(id_commonvoice)"
   ]
  },
  {
   "cell_type": "code",
   "execution_count": 30,
   "id": "42d701ac",
   "metadata": {},
   "outputs": [
    {
     "data": {
      "text/plain": [
       "1008453"
      ]
     },
     "execution_count": 30,
     "metadata": {},
     "output_type": "execute_result"
    }
   ],
   "source": [
    "malay = glob(f'{base_directory}/part*/output-wav/*.wav')\n",
    "len(malay)"
   ]
  },
  {
   "cell_type": "code",
   "execution_count": 31,
   "id": "5346b232",
   "metadata": {},
   "outputs": [
    {
     "data": {
      "text/plain": [
       "1364344"
      ]
     },
     "execution_count": 31,
     "metadata": {},
     "output_type": "execute_result"
    }
   ],
   "source": [
    "malay.extend(glob(f'{base_directory}/part*/semisupervised/output-wav/*.wav'))\n",
    "len(malay)"
   ]
  },
  {
   "cell_type": "code",
   "execution_count": 32,
   "metadata": {},
   "outputs": [],
   "source": [
    "import re"
   ]
  },
  {
   "cell_type": "code",
   "execution_count": 33,
   "id": "0586ef0b",
   "metadata": {},
   "outputs": [
    {
     "data": {
      "text/plain": [
       "(565, 200, 698)"
      ]
     },
     "execution_count": 33,
     "metadata": {},
     "output_type": "execute_result"
    }
   ],
   "source": [
    "khalil = glob(f'{base_directory}/tolong-sebut/*.wav')\n",
    "mas = glob(f'{base_directory}/sebut-perkataan-woman/*.wav')\n",
    "husein = glob(f'{base_directory}/sebut-perkataan-man/*.wav')\n",
    "len(khalil), len(mas), len(husein)"
   ]
  },
  {
   "cell_type": "code",
   "execution_count": 34,
   "id": "8dda65a5",
   "metadata": {},
   "outputs": [
    {
     "name": "stderr",
     "output_type": "stream",
     "text": [
      "100%|██████████████████████████████████████████████████████████████████████████████████████████| 565/565 [00:00<00:00, 19861.39it/s]\n"
     ]
    }
   ],
   "source": [
    "khalils = []\n",
    "for i in tqdm(khalil):\n",
    "    try:\n",
    "        t = i.split('/')[-1].replace('.wav','')\n",
    "        text = f'tolong sebut {t}'\n",
    "        khalils.append((i, text))\n",
    "    except Exception as e:\n",
    "        print(e)"
   ]
  },
  {
   "cell_type": "code",
   "execution_count": 35,
   "id": "e93e691b",
   "metadata": {},
   "outputs": [
    {
     "name": "stderr",
     "output_type": "stream",
     "text": [
      "100%|████████████████████████████████████████████████████████████████████████████████████████| 200/200 [00:00<00:00, 1530767.88it/s]\n"
     ]
    }
   ],
   "source": [
    "mass = []\n",
    "for i in tqdm(mas):\n",
    "    try:\n",
    "        t = i.split('/')[-1].replace('.wav','')\n",
    "        text = f'sebut perkataan {t}'\n",
    "        mass.append((i, text))\n",
    "    except Exception as e:\n",
    "        print(e)\n"
   ]
  },
  {
   "cell_type": "code",
   "execution_count": 36,
   "id": "b34421cb",
   "metadata": {},
   "outputs": [
    {
     "name": "stderr",
     "output_type": "stream",
     "text": [
      "100%|████████████████████████████████████████████████████████████████████████████████████████| 698/698 [00:00<00:00, 1845916.89it/s]\n"
     ]
    }
   ],
   "source": [
    "huseins = []\n",
    "for i in tqdm(husein):\n",
    "    try:\n",
    "        t = i.split('/')[-1].replace('.wav','')\n",
    "        text = f'sebut perkataan {t}'\n",
    "        huseins.append((i, text))\n",
    "    except Exception as e:\n",
    "        print(e)"
   ]
  },
  {
   "cell_type": "code",
   "execution_count": 37,
   "id": "b6997f37",
   "metadata": {},
   "outputs": [
    {
     "name": "stderr",
     "output_type": "stream",
     "text": [
      "100%|███████████████████████████████████████████████████████████████████████████████████| 1364344/1364344 [07:11<00:00, 3159.20it/s]\n"
     ]
    }
   ],
   "source": [
    "malays = []\n",
    "for i in tqdm(malay):\n",
    "    try:\n",
    "        p = i.replace('output-wav','output-text')\n",
    "        with open(f'{p}.txt') as fopen:\n",
    "            text = fopen.read()\n",
    "        if len(text) < 3:\n",
    "            continue\n",
    "        malays.append((i, text))\n",
    "    except Exception as e:\n",
    "        print(e)"
   ]
  },
  {
   "cell_type": "code",
   "execution_count": 38,
   "id": "e75706cc",
   "metadata": {},
   "outputs": [
    {
     "name": "stderr",
     "output_type": "stream",
     "text": [
      "100%|██████████████████████████████████████████████████████████████████████████████████████| 2887/2887 [00:00<00:00, 1297156.47it/s]\n"
     ]
    },
    {
     "data": {
      "text/plain": [
       "2887"
      ]
     },
     "execution_count": 38,
     "metadata": {},
     "output_type": "execute_result"
    }
   ],
   "source": [
    "wikipedia = []\n",
    "wavs = glob(f'{base_directory}/streaming/*wav')\n",
    "for i in tqdm(wavs):\n",
    "    text = os.path.split(i)[1].replace('.wav', '')\n",
    "    wikipedia.append((i, text))\n",
    "    \n",
    "len(wikipedia)"
   ]
  },
  {
   "cell_type": "code",
   "execution_count": 39,
   "id": "700093c5",
   "metadata": {},
   "outputs": [
    {
     "name": "stderr",
     "output_type": "stream",
     "text": [
      "100%|████████████████████████████████████████████████████████████████████████████████████████| 2151/2151 [00:00<00:00, 57606.63it/s]\n"
     ]
    }
   ],
   "source": [
    "news = []\n",
    "wavs = glob(f'{base_directory}/news/audio/*wav')\n",
    "\n",
    "with open(f'{base_directory}/transcript-news.json') as fopen:\n",
    "    transcript_news = json.load(fopen)\n",
    "    \n",
    "for i in tqdm(wavs):\n",
    "    index = i.split('/')[-1].replace('.wav','')\n",
    "    text = transcript_news[int(index)]\n",
    "    news.append((i, text))"
   ]
  },
  {
   "cell_type": "code",
   "execution_count": 40,
   "id": "ada15af3",
   "metadata": {},
   "outputs": [
    {
     "name": "stderr",
     "output_type": "stream",
     "text": [
      "100%|██████████████████████████████████████████████████████████████████████████████████████| 64341/64341 [00:04<00:00, 14528.51it/s]\n"
     ]
    }
   ],
   "source": [
    "audiobook = []\n",
    "wavs = glob(f'{base_directory}/combined/*wav')\n",
    "for i in tqdm(wavs):\n",
    "    t = '/'.join(i.split('<>')[1:])\n",
    "    t = t.split('.wav')[0]\n",
    "    t = t.replace('output-wav', 'output-text')\n",
    "    with open(f'{base_directory}/text-audiobook/{t}.wav.txt') as fopen:\n",
    "        text = fopen.read()\n",
    "    audiobook.append((i, text))"
   ]
  },
  {
   "cell_type": "code",
   "execution_count": 41,
   "id": "0e7e3b95",
   "metadata": {},
   "outputs": [
    {
     "name": "stderr",
     "output_type": "stream",
     "text": [
      "100%|██████████████████████████████████████████████████████████████████████████████████████| 4294/4294 [00:00<00:00, 2095444.02it/s]\n"
     ]
    }
   ],
   "source": [
    "df = pd.read_csv(f'{base_directory}/haqkiem/metadata.csv', header = None, sep = '|')\n",
    "txts = df.values.tolist()\n",
    "haqkiem = []\n",
    "for f in tqdm(txts):\n",
    "    text = f[1]\n",
    "    text = text.split('.,,')[0]\n",
    "    f = f[0]\n",
    "    r = f'{base_directory}/haqkiem/{f}.wav'\n",
    "    haqkiem.append((r, text))"
   ]
  },
  {
   "cell_type": "code",
   "execution_count": 42,
   "metadata": {},
   "outputs": [
    {
     "name": "stderr",
     "output_type": "stream",
     "text": [
      "100%|█████████████████████████████████████████████████████████████████████████████████████| 329515/329515 [01:30<00:00, 3652.34it/s]\n"
     ]
    },
    {
     "data": {
      "text/plain": [
       "329359"
      ]
     },
     "execution_count": 42,
     "metadata": {},
     "output_type": "execute_result"
    }
   ],
   "source": [
    "sani = glob(f'{base_directory}/clean/**/*.wav', recursive = True)\n",
    "sanis = []\n",
    "for i in tqdm(sani):\n",
    "    with open(i[:-4] + '.txt') as fopen:\n",
    "        text = fopen.read()\n",
    "    if len(text):\n",
    "        sanis.append((i, text))\n",
    "    \n",
    "len(sanis)"
   ]
  },
  {
   "cell_type": "code",
   "execution_count": 43,
   "metadata": {},
   "outputs": [
    {
     "name": "stderr",
     "output_type": "stream",
     "text": [
      "100%|████████████████████████████████████████████████████████████████████████████████████████| 146/146 [00:00<00:00, 1215016.63it/s]\n"
     ]
    },
    {
     "data": {
      "text/plain": [
       "146"
      ]
     },
     "execution_count": 43,
     "metadata": {},
     "output_type": "execute_result"
    }
   ],
   "source": [
    "wattpad = []\n",
    "wavs = glob(f'{base_directory}/wattpad/audio-wattpad/*wav')\n",
    "\n",
    "with open(f'{base_directory}/transcript-wattpad.json') as fopen:\n",
    "    transcript = json.load(fopen)\n",
    "    \n",
    "for i in tqdm(wavs):\n",
    "    index = i.split('/')[-1].replace('.wav','')\n",
    "    text = transcript[int(index)]\n",
    "    wattpad.append((i, text))\n",
    "    \n",
    "len(wattpad)"
   ]
  },
  {
   "cell_type": "code",
   "execution_count": 44,
   "metadata": {},
   "outputs": [
    {
     "name": "stderr",
     "output_type": "stream",
     "text": [
      "100%|██████████████████████████████████████████████████████████████████████████████████████████| 97/97 [00:00<00:00, 1056746.72it/s]\n"
     ]
    },
    {
     "data": {
      "text/plain": [
       "97"
      ]
     },
     "execution_count": 44,
     "metadata": {},
     "output_type": "execute_result"
    }
   ],
   "source": [
    "iium = []\n",
    "wavs = glob(f'{base_directory}/iium/audio-iium/*wav')\n",
    "\n",
    "with open(f'{base_directory}/shuffled-iium.json') as fopen:\n",
    "    transcript = json.load(fopen)\n",
    "    \n",
    "for i in tqdm(wavs):\n",
    "    index = i.split('/')[-1].replace('.wav','')\n",
    "    text = transcript[int(index)]\n",
    "    iium.append((i, text))\n",
    "    \n",
    "len(iium)"
   ]
  },
  {
   "cell_type": "code",
   "execution_count": 45,
   "id": "16eb2115",
   "metadata": {},
   "outputs": [],
   "source": [
    "audios = id_commonvoice + malays + wikipedia + news + audiobook + haqkiem + khalils + mass + huseins + ms_my + sanis\n",
    "audios, texts = zip(*audios)"
   ]
  },
  {
   "cell_type": "code",
   "execution_count": 46,
   "metadata": {},
   "outputs": [
    {
     "data": {
      "text/plain": [
       "1794303"
      ]
     },
     "execution_count": 46,
     "metadata": {},
     "output_type": "execute_result"
    }
   ],
   "source": [
    "len(texts)"
   ]
  },
  {
   "cell_type": "code",
   "execution_count": 47,
   "id": "81c0eac5",
   "metadata": {},
   "outputs": [],
   "source": [
    "import unicodedata\n",
    "import re\n",
    "import itertools\n",
    "\n",
    "vocabs = [\" \", \"a\", \"e\", \"n\", \"i\", \"t\", \"o\", \"u\", \"s\", \"k\", \"r\", \"l\", \"h\", \"d\", \"m\", \"g\", \"y\", \"b\", \"p\", \"w\", \"c\", \"f\", \"j\", \"v\", \"z\", \"0\", \"1\", \"x\", \"2\", \"q\", \"5\", \"3\", \"4\", \"6\", \"9\", \"8\", \"7\"]\n",
    "\n",
    "def preprocessing_text(string):\n",
    "    \n",
    "    tokenized = tokenizer.tokenize(string)\n",
    "    string = ' '.join(tokenized)\n",
    "    string = unicodedata.normalize('NFC', string.lower())\n",
    "    string = ''.join([c if c in vocabs else ' ' for c in string])\n",
    "    string = re.sub(r'[ ]+', ' ', string).strip()\n",
    "    string = (\n",
    "        ''.join(''.join(s)[:2] for _, s in itertools.groupby(string))\n",
    "    )\n",
    "    return string"
   ]
  },
  {
   "cell_type": "code",
   "execution_count": 48,
   "id": "e6c0c9f2",
   "metadata": {},
   "outputs": [
    {
     "name": "stderr",
     "output_type": "stream",
     "text": [
      "100%|██████████████████████████████████████████████████████████████████████████████████| 1794303/1794303 [01:33<00:00, 19130.73it/s]\n"
     ]
    }
   ],
   "source": [
    "processed_text = [preprocessing_text(t) for t in tqdm(texts)]"
   ]
  },
  {
   "cell_type": "code",
   "execution_count": 49,
   "metadata": {},
   "outputs": [
    {
     "name": "stderr",
     "output_type": "stream",
     "text": [
      "100%|█████████████████████████████████████████████████████████████████████████████████| 1794303/1794303 [00:02<00:00, 895530.95it/s]\n"
     ]
    }
   ],
   "source": [
    "filtered_audios, filtered_texts = [], []\n",
    "for i in tqdm(range(len(processed_text))):\n",
    "    if len(processed_text[i]) and not len(re.findall(r'\\d+', processed_text[i])):\n",
    "        filtered_audios.append(audios[i])\n",
    "        filtered_texts.append(texts[i])"
   ]
  },
  {
   "cell_type": "code",
   "execution_count": 50,
   "metadata": {},
   "outputs": [
    {
     "data": {
      "text/plain": [
       "(1635450, 0.9114681299646715)"
      ]
     },
     "execution_count": 50,
     "metadata": {},
     "output_type": "execute_result"
    }
   ],
   "source": [
    "len(filtered_audios), len(filtered_audios) / len(audios)"
   ]
  },
  {
   "cell_type": "code",
   "execution_count": 51,
   "id": "90935a4b",
   "metadata": {},
   "outputs": [],
   "source": [
    "with open('bahasa-asr-train.json', 'w') as fopen:\n",
    "    json.dump({'X': filtered_audios, 'Y':filtered_texts}, fopen)"
   ]
  },
  {
   "cell_type": "code",
   "execution_count": 52,
   "metadata": {},
   "outputs": [
    {
     "data": {
      "text/plain": [
       "'/home/husein/ssd1/speech-bahasa/cv-corpus-10.0-2022-07-04/id/clips/common_voice_id_23033570.mp3'"
      ]
     },
     "execution_count": 52,
     "metadata": {},
     "output_type": "execute_result"
    }
   ],
   "source": [
    "filtered_audios[0]"
   ]
  },
  {
   "cell_type": "code",
   "execution_count": 53,
   "metadata": {},
   "outputs": [],
   "source": [
    "with open('malay-audio.txt', 'w') as fopen:\n",
    "    fopen.write('\\n'.join(filtered_audios))"
   ]
  },
  {
   "cell_type": "code",
   "execution_count": 54,
   "metadata": {},
   "outputs": [
    {
     "name": "stdout",
     "output_type": "stream",
     "text": [
      "/home/husein/ssd1/speech-bahasa\r\n"
     ]
    }
   ],
   "source": [
    "!pwd"
   ]
  }
 ],
 "metadata": {
  "kernelspec": {
   "display_name": "Python 3 (ipykernel)",
   "language": "python",
   "name": "python3"
  },
  "language_info": {
   "codemirror_mode": {
    "name": "ipython",
    "version": 3
   },
   "file_extension": ".py",
   "mimetype": "text/x-python",
   "name": "python",
   "nbconvert_exporter": "python",
   "pygments_lexer": "ipython3",
   "version": "3.8.10"
  }
 },
 "nbformat": 4,
 "nbformat_minor": 5
}

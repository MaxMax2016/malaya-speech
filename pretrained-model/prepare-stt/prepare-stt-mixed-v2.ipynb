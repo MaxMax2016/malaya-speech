{
 "cells": [
  {
   "cell_type": "code",
   "execution_count": 1,
   "metadata": {},
   "outputs": [
    {
     "data": {
      "text/plain": [
       "2"
      ]
     },
     "execution_count": 1,
     "metadata": {},
     "output_type": "execute_result"
    }
   ],
   "source": [
    "import json\n",
    "from glob import glob\n",
    "from tqdm import tqdm\n",
    "\n",
    "with open('/home/husein/dev/malaya-speech/pretrained-model/prepare-stt/malay-asr-train-shuffled-combined-semi.json') as fopen:\n",
    "    data = json.load(fopen)\n",
    "    \n",
    "len(data)"
   ]
  },
  {
   "cell_type": "code",
   "execution_count": 2,
   "metadata": {},
   "outputs": [
    {
     "data": {
      "text/plain": [
       "3284901"
      ]
     },
     "execution_count": 2,
     "metadata": {},
     "output_type": "execute_result"
    }
   ],
   "source": [
    "singlish = glob('/home/husein/ssd2/imda/wav/*.wav')\n",
    "len(singlish)"
   ]
  },
  {
   "cell_type": "code",
   "execution_count": 4,
   "metadata": {},
   "outputs": [
    {
     "data": {
      "text/plain": [
       "1979747"
      ]
     },
     "execution_count": 4,
     "metadata": {},
     "output_type": "execute_result"
    }
   ],
   "source": [
    "X = data['X'][:]\n",
    "Y = data['Y'][:]\n",
    "len(X)"
   ]
  },
  {
   "cell_type": "code",
   "execution_count": 5,
   "metadata": {},
   "outputs": [
    {
     "name": "stderr",
     "output_type": "stream",
     "text": [
      "100%|███████████████████████████████| 1000000/1000000 [03:01<00:00, 5510.34it/s]\n"
     ]
    }
   ],
   "source": [
    "import random\n",
    "\n",
    "for f in tqdm(random.sample(singlish, int(1e6))):\n",
    "    with open(f.replace('/wav', '/text').replace('.wav', '.txt')) as fopen:\n",
    "        data = fopen.read()\n",
    "    X.append(f)\n",
    "    Y.append(data)"
   ]
  },
  {
   "cell_type": "code",
   "execution_count": 6,
   "metadata": {},
   "outputs": [],
   "source": [
    "from sklearn.utils import shuffle"
   ]
  },
  {
   "cell_type": "code",
   "execution_count": 7,
   "metadata": {},
   "outputs": [
    {
     "data": {
      "text/plain": [
       "['/home/husein/ssd2/imda/wav/1-113-tfrecord-2440.wav',\n",
       " '/home/husein/ssd2/imda/wav/1-44-tfrecord-1328.wav',\n",
       " '/home/husein/ssd2/imda/wav/5-49-tfrecord-2955.wav',\n",
       " '/home/husein/ssd2/imda/wav/5-59-tfrecord-534.wav',\n",
       " '/home/husein/ssd2/imda/wav/5-39-tfrecord-674.wav',\n",
       " '/home/husein/ssd2/imda/wav/6-15-tfrecord-1675.wav',\n",
       " '/home/husein/ssd2/imda/wav/3-41-tfrecord-3711.wav',\n",
       " '/home/husein/ssd2/imda/wav/5-107-tfrecord-2610.wav',\n",
       " '/home/husein/ssd2/imda/wav/3-18-tfrecord-2013.wav',\n",
       " '/home/husein/ssd2/imda/wav/2-57-tfrecord-178.wav']"
      ]
     },
     "execution_count": 7,
     "metadata": {},
     "output_type": "execute_result"
    }
   ],
   "source": [
    "X[-10:]"
   ]
  },
  {
   "cell_type": "code",
   "execution_count": 8,
   "metadata": {},
   "outputs": [
    {
     "data": {
      "text/plain": [
       "['nine eight seven six five four',\n",
       " 'army museum blair road and jalan arif',\n",
       " 'george quek fong sip chee james richard logan',\n",
       " 'its expensive',\n",
       " 'lim siong guan hossan leong and ong siong kai',\n",
       " 'for a chance to win',\n",
       " 'find the fastest way to primary dispute resolution centre',\n",
       " 'press',\n",
       " 'he is a lightweight in alcohol',\n",
       " 'know']"
      ]
     },
     "execution_count": 8,
     "metadata": {},
     "output_type": "execute_result"
    }
   ],
   "source": [
    "Y[-10:]"
   ]
  },
  {
   "cell_type": "code",
   "execution_count": 9,
   "metadata": {},
   "outputs": [],
   "source": [
    "X, Y = shuffle(X, Y)"
   ]
  },
  {
   "cell_type": "code",
   "execution_count": 12,
   "metadata": {},
   "outputs": [
    {
     "data": {
      "text/plain": [
       "2979747"
      ]
     },
     "execution_count": 12,
     "metadata": {},
     "output_type": "execute_result"
    }
   ],
   "source": [
    "len(X)"
   ]
  },
  {
   "cell_type": "code",
   "execution_count": null,
   "metadata": {},
   "outputs": [],
   "source": [
    "with open('mixed-stt-train-v2.json', 'w') as fopen:\n",
    "    json.dump({'X': X, 'Y': Y}, fopen)"
   ]
  },
  {
   "cell_type": "code",
   "execution_count": null,
   "metadata": {},
   "outputs": [],
   "source": []
  }
 ],
 "metadata": {
  "kernelspec": {
   "display_name": "Python 3 (ipykernel)",
   "language": "python",
   "name": "python3"
  },
  "language_info": {
   "codemirror_mode": {
    "name": "ipython",
    "version": 3
   },
   "file_extension": ".py",
   "mimetype": "text/x-python",
   "name": "python",
   "nbconvert_exporter": "python",
   "pygments_lexer": "ipython3",
   "version": "3.8.10"
  }
 },
 "nbformat": 4,
 "nbformat_minor": 4
}

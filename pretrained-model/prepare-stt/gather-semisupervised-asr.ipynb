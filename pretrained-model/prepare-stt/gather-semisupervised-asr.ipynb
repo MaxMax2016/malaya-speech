{
 "cells": [
  {
   "cell_type": "code",
   "execution_count": 1,
   "metadata": {},
   "outputs": [
    {
     "data": {
      "text/plain": [
       "1274994"
      ]
     },
     "execution_count": 1,
     "metadata": {},
     "output_type": "execute_result"
    }
   ],
   "source": [
    "from glob import glob\n",
    "\n",
    "mp3s = glob('/home/husein/ssd2/processed-youtube-asr-v2/*/*.mp3')\n",
    "mp3s.extend(glob('/home/husein/ssd2/processed-youtube-asr/*/*.mp3'))\n",
    "len(mp3s)"
   ]
  },
  {
   "cell_type": "code",
   "execution_count": 2,
   "metadata": {},
   "outputs": [
    {
     "name": "stderr",
     "output_type": "stream",
     "text": [
      "100%|█████████████████████████████████████████████████████████████████████████████████████████| 1274994/1274994 [56:10<00:00, 378.32it/s]\n"
     ]
    }
   ],
   "source": [
    "from datasets import Audio\n",
    "from tqdm import tqdm\n",
    "\n",
    "sr = 16000\n",
    "audio = Audio(sampling_rate=sr)\n",
    "\n",
    "ls = 0\n",
    "for x in tqdm(mp3s):\n",
    "    ls += (len(audio.decode_example(audio.encode_example(x))['array']) / sr)"
   ]
  },
  {
   "cell_type": "code",
   "execution_count": 4,
   "metadata": {},
   "outputs": [
    {
     "data": {
      "text/plain": [
       "853.6751974646041"
      ]
     },
     "execution_count": 4,
     "metadata": {},
     "output_type": "execute_result"
    }
   ],
   "source": [
    "ls / 60 / 60"
   ]
  },
  {
   "cell_type": "code",
   "execution_count": 2,
   "metadata": {},
   "outputs": [
    {
     "data": {
      "text/plain": [
       "[{'wav_data': '/home/husein/ssd2/processed-youtube-asr-v2/Majlis_Perhimpunan_Dwi_Bulanan_Dan_Pelancaran_Buku_Digital_Pelan_Antirasuah_Organisasi_(OACP)_[oy89sdoYtG8]/5.mp3',\n",
       "  'start': 700.44,\n",
       "  'asr_model': (('dari tiada', [0.5978784426634116], [186, 638]),\n",
       "   ('dari utiara', [0.06576148581927052], [186, 140, 49, 24, 43])),\n",
       "  'end': 701.94},\n",
       " {'wav_data': '/home/husein/ssd2/processed-youtube-asr-v2/Majlis_Perhimpunan_Dwi_Bulanan_Dan_Pelancaran_Buku_Digital_Pelan_Antirasuah_Organisasi_(OACP)_[oy89sdoYtG8]/6.mp3',\n",
       "  'start': 702.86,\n",
       "  'asr_model': (('pemanis kata selamat datang awal bismi',\n",
       "    [0.7002086713961541],\n",
       "    [411, 5, 233, 92, 662, 238, 608, 245, 17, 222]),\n",
       "   ('pemanis kata selamat datang awal bismi',\n",
       "    [0.3254911285461269],\n",
       "    [411, 5, 233, 92, 662, 238, 608, 245, 17, 222])),\n",
       "  'end': 705.9}]"
      ]
     },
     "execution_count": 2,
     "metadata": {},
     "output_type": "execute_result"
    }
   ],
   "source": [
    "import pickle\n",
    "\n",
    "files = glob('/home/husein/ssd2/processed-youtube-asr-v2/*.pkl')\n",
    "with open(files[0], 'rb') as fopen:\n",
    "    data = pickle.load(fopen)\n",
    "    \n",
    "data[5:7]"
   ]
  },
  {
   "cell_type": "code",
   "execution_count": 6,
   "metadata": {},
   "outputs": [
    {
     "data": {
      "text/plain": [
       "{'wav_data': '/home/husein/ssd2/processed-youtube-asr-v2/Majlis_Perhimpunan_Dwi_Bulanan_Dan_Pelancaran_Buku_Digital_Pelan_Antirasuah_Organisasi_(OACP)_[oy89sdoYtG8]/3.mp3',\n",
       " 'start': 697.62,\n",
       " 'asr_model': (('sirih berlipat',\n",
       "   [0.30114838606776057],\n",
       "   [153, 47, 20, 25, 51, 50, 46]),\n",
       "  ('sirih berlipat', [0.35491282997028284], [153, 47, 20, 25, 51, 50, 46])),\n",
       " 'end': 698.94}"
      ]
     },
     "execution_count": 6,
     "metadata": {},
     "output_type": "execute_result"
    }
   ],
   "source": [
    "data[3]"
   ]
  },
  {
   "cell_type": "code",
   "execution_count": 7,
   "metadata": {},
   "outputs": [
    {
     "data": {
      "text/html": [
       "\n",
       "                <audio  controls=\"controls\" >\n",
       "                    <source src=\"data:audio/mpeg;base64,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\" type=\"audio/mpeg\" />\n",
       "                    Your browser does not support the audio element.\n",
       "                </audio>\n",
       "              "
      ],
      "text/plain": [
       "<IPython.lib.display.Audio object>"
      ]
     },
     "execution_count": 7,
     "metadata": {},
     "output_type": "execute_result"
    }
   ],
   "source": [
    "import IPython.display as ipd\n",
    "ipd.Audio(data[3]['wav_data'])"
   ]
  },
  {
   "cell_type": "code",
   "execution_count": 9,
   "metadata": {},
   "outputs": [
    {
     "name": "stderr",
     "output_type": "stream",
     "text": [
      "100%|██████████████████████████████████████| 5344/5344 [00:06<00:00, 772.45it/s]\n"
     ]
    }
   ],
   "source": [
    "from tqdm import tqdm\n",
    "import numpy as np\n",
    "import pickle\n",
    "\n",
    "files = glob('/home/husein/ssd2/processed-youtube-asr-v2/*.pkl')\n",
    "scores = []\n",
    "\n",
    "for f in tqdm(files):\n",
    "    with open(f, 'rb') as fopen:\n",
    "        data = pickle.load(fopen)\n",
    "        \n",
    "    for row in data:\n",
    "        \n",
    "        s0 = row['asr_model'][0][1][0]\n",
    "        s1 = row['asr_model'][1][1][0]\n",
    "        ss = [s0, s1]\n",
    "        \n",
    "        i = np.argmax(ss)\n",
    "        scores.append(ss[i])"
   ]
  },
  {
   "cell_type": "code",
   "execution_count": 10,
   "metadata": {},
   "outputs": [
    {
     "data": {
      "text/plain": [
       "841120"
      ]
     },
     "execution_count": 10,
     "metadata": {},
     "output_type": "execute_result"
    }
   ],
   "source": [
    "len(scores)"
   ]
  },
  {
   "cell_type": "code",
   "execution_count": 11,
   "metadata": {},
   "outputs": [
    {
     "data": {
      "text/plain": [
       "<seaborn.axisgrid.FacetGrid at 0x7f5d10579eb0>"
      ]
     },
     "execution_count": 11,
     "metadata": {},
     "output_type": "execute_result"
    },
    {
     "data": {
      "image/png": "[encoded data removed]",
      "text/plain": [
       "<Figure size 360x360 with 1 Axes>"
      ]
     },
     "metadata": {
      "needs_background": "light"
     },
     "output_type": "display_data"
    }
   ],
   "source": [
    "import seaborn as sns\n",
    "\n",
    "sns.displot(scores)"
   ]
  },
  {
   "cell_type": "code",
   "execution_count": 14,
   "metadata": {},
   "outputs": [
    {
     "name": "stderr",
     "output_type": "stream",
     "text": [
      "100%|██████████████████████████████████████| 5344/5344 [00:07<00:00, 708.30it/s]\n"
     ]
    }
   ],
   "source": [
    "files = glob('/home/husein/ssd2/processed-youtube-asr-v2/*.pkl')\n",
    "X, Y = [], []\n",
    "\n",
    "for f in tqdm(files):\n",
    "    with open(f, 'rb') as fopen:\n",
    "        data = pickle.load(fopen)\n",
    "        \n",
    "    for row in data:\n",
    "        \n",
    "        X.append(row['wav_data'])\n",
    "        \n",
    "        s0 = row['asr_model'][0][1][0]\n",
    "        s1 = row['asr_model'][1][1][0]\n",
    "        ss = [s0, s1]\n",
    "        \n",
    "        i = np.argmax(ss)\n",
    "        \n",
    "        Y.append((row['asr_model'][i][0], ss[i]))"
   ]
  },
  {
   "cell_type": "code",
   "execution_count": 17,
   "metadata": {},
   "outputs": [
    {
     "data": {
      "text/plain": [
       "841120"
      ]
     },
     "execution_count": 17,
     "metadata": {},
     "output_type": "execute_result"
    }
   ],
   "source": [
    "len(X)"
   ]
  },
  {
   "cell_type": "code",
   "execution_count": 15,
   "metadata": {},
   "outputs": [],
   "source": [
    "import json\n",
    "\n",
    "with open('semisupervised-transducer-v2.json', 'w') as fopen:\n",
    "    json.dump({'X': X, 'Y': Y}, fopen)"
   ]
  },
  {
   "cell_type": "code",
   "execution_count": 19,
   "metadata": {},
   "outputs": [
    {
     "data": {
      "text/plain": [
       "(841120, 480431)"
      ]
     },
     "execution_count": 19,
     "metadata": {},
     "output_type": "execute_result"
    }
   ],
   "source": [
    "len(Y), len([y for y in Y if y[1] > 0.4])"
   ]
  },
  {
   "cell_type": "code",
   "execution_count": 20,
   "metadata": {},
   "outputs": [],
   "source": [
    "with open('/home/husein/speech-bahasa/malay-asr-train-shuffled.json') as fopen:\n",
    "    malay = json.load(fopen)"
   ]
  },
  {
   "cell_type": "code",
   "execution_count": 21,
   "metadata": {},
   "outputs": [
    {
     "data": {
      "text/plain": [
       "dict_keys(['X', 'Y'])"
      ]
     },
     "execution_count": 21,
     "metadata": {},
     "output_type": "execute_result"
    }
   ],
   "source": [
    "malay.keys()"
   ]
  },
  {
   "cell_type": "code",
   "execution_count": 22,
   "metadata": {},
   "outputs": [
    {
     "data": {
      "text/plain": [
       "1635599"
      ]
     },
     "execution_count": 22,
     "metadata": {},
     "output_type": "execute_result"
    }
   ],
   "source": [
    "len(malay['X'])"
   ]
  },
  {
   "cell_type": "code",
   "execution_count": 45,
   "metadata": {},
   "outputs": [],
   "source": [
    "with open('semisupervised-transducer-v2.json') as fopen:\n",
    "    semi = json.load(fopen)\n",
    "    \n",
    "filtered_X, filtered_Y = [], []\n",
    "for i in range(len(semi['X'])):\n",
    "    if semi['Y'][i][1] > 0.6 and len(semi['Y'][i][0]) > 2:\n",
    "        filtered_X.append(semi['X'][i])\n",
    "        filtered_Y.append(semi['Y'][i][0])"
   ]
  },
  {
   "cell_type": "code",
   "execution_count": 46,
   "metadata": {},
   "outputs": [
    {
     "data": {
      "text/plain": [
       "(344148, 344148)"
      ]
     },
     "execution_count": 46,
     "metadata": {},
     "output_type": "execute_result"
    }
   ],
   "source": [
    "len(filtered_X), len(filtered_Y)"
   ]
  },
  {
   "cell_type": "code",
   "execution_count": 47,
   "metadata": {},
   "outputs": [
    {
     "data": {
      "text/plain": [
       "['/home/husein/ssd2/processed-youtube-asr-v2/Majlis_Perhimpunan_Dwi_Bulanan_Dan_Pelancaran_Buku_Digital_Pelan_Antirasuah_Organisasi_(OACP)_[oy89sdoYtG8]/4.mp3',\n",
       " '/home/husein/ssd2/processed-youtube-asr-v2/Majlis_Perhimpunan_Dwi_Bulanan_Dan_Pelancaran_Buku_Digital_Pelan_Antirasuah_Organisasi_(OACP)_[oy89sdoYtG8]/6.mp3',\n",
       " '/home/husein/ssd2/processed-youtube-asr-v2/Majlis_Perhimpunan_Dwi_Bulanan_Dan_Pelancaran_Buku_Digital_Pelan_Antirasuah_Organisasi_(OACP)_[oy89sdoYtG8]/12.mp3',\n",
       " '/home/husein/ssd2/processed-youtube-asr-v2/Majlis_Perhimpunan_Dwi_Bulanan_Dan_Pelancaran_Buku_Digital_Pelan_Antirasuah_Organisasi_(OACP)_[oy89sdoYtG8]/14.mp3',\n",
       " '/home/husein/ssd2/processed-youtube-asr-v2/Majlis_Perhimpunan_Dwi_Bulanan_Dan_Pelancaran_Buku_Digital_Pelan_Antirasuah_Organisasi_(OACP)_[oy89sdoYtG8]/15.mp3']"
      ]
     },
     "execution_count": 47,
     "metadata": {},
     "output_type": "execute_result"
    }
   ],
   "source": [
    "filtered_X[:5]"
   ]
  },
  {
   "cell_type": "code",
   "execution_count": 48,
   "metadata": {},
   "outputs": [
    {
     "data": {
      "text/html": [
       "\n",
       "                <audio  controls=\"controls\" >\n",
       "                    <source src=\"data:audio/mpeg;base64,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\" type=\"audio/mpeg\" />\n",
       "                    Your browser does not support the audio element.\n",
       "                </audio>\n",
       "              "
      ],
      "text/plain": [
       "<IPython.lib.display.Audio object>"
      ]
     },
     "execution_count": 48,
     "metadata": {},
     "output_type": "execute_result"
    }
   ],
   "source": [
    "ipd.Audio(filtered_X[1])"
   ]
  },
  {
   "cell_type": "code",
   "execution_count": 49,
   "metadata": {},
   "outputs": [
    {
     "data": {
      "text/plain": [
       "['pinang',\n",
       " 'pemanis kata selamat datang awal bismi',\n",
       " 'yang berusaha azmi bin ahmad ketua',\n",
       " 'warga parlimen malaysia',\n",
       " 'assalamualaikum warahmatullahi wabarakatuh']"
      ]
     },
     "execution_count": 49,
     "metadata": {},
     "output_type": "execute_result"
    }
   ],
   "source": [
    "filtered_Y[:5]"
   ]
  },
  {
   "cell_type": "code",
   "execution_count": 50,
   "metadata": {},
   "outputs": [
    {
     "data": {
      "text/plain": [
       "(1979747, 1979747)"
      ]
     },
     "execution_count": 50,
     "metadata": {},
     "output_type": "execute_result"
    }
   ],
   "source": [
    "X = malay['X'] + filtered_X\n",
    "Y = malay['Y'] + filtered_Y\n",
    "\n",
    "len(X), len(Y)"
   ]
  },
  {
   "cell_type": "code",
   "execution_count": 51,
   "metadata": {},
   "outputs": [],
   "source": [
    "from sklearn.utils import shuffle\n",
    "\n",
    "X, Y = shuffle(X, Y)"
   ]
  },
  {
   "cell_type": "code",
   "execution_count": null,
   "metadata": {},
   "outputs": [],
   "source": [
    "with open('malay-asr-train-shuffled-combined-semi.json', 'w') as fopen:\n",
    "    json.dump({'X': X, 'Y': Y}, fopen)"
   ]
  }
 ],
 "metadata": {
  "kernelspec": {
   "display_name": "Python 3 (ipykernel)",
   "language": "python",
   "name": "python3"
  },
  "language_info": {
   "codemirror_mode": {
    "name": "ipython",
    "version": 3
   },
   "file_extension": ".py",
   "mimetype": "text/x-python",
   "name": "python",
   "nbconvert_exporter": "python",
   "pygments_lexer": "ipython3",
   "version": "3.8.10"
  }
 },
 "nbformat": 4,
 "nbformat_minor": 4
}

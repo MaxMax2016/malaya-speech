{
 "cells": [
  {
   "cell_type": "code",
   "execution_count": 1,
   "id": "93921f2d",
   "metadata": {},
   "outputs": [],
   "source": [
    "import os\n",
    "os.environ['GOOGLE_APPLICATION_CREDENTIALS'] = '/home/ubuntu/mesolitica-tpu.json'"
   ]
  },
  {
   "cell_type": "code",
   "execution_count": 2,
   "id": "d38949bf",
   "metadata": {},
   "outputs": [],
   "source": [
    "import string\n",
    "\n",
    "char_vocabs = [''] + list(string.ascii_lowercase + string.digits) + [' ']"
   ]
  },
  {
   "cell_type": "code",
   "execution_count": 3,
   "id": "be41bb94",
   "metadata": {},
   "outputs": [],
   "source": [
    "sr = 16000\n",
    "maxlen = 18\n",
    "maxlen_subwords = 100\n",
    "minlen_text = 1\n",
    "global_count = 0"
   ]
  },
  {
   "cell_type": "code",
   "execution_count": 4,
   "id": "d81331ad",
   "metadata": {},
   "outputs": [],
   "source": [
    "from google.cloud import storage\n",
    "import numpy as np\n",
    "import six\n",
    "\n",
    "def to_example(dictionary):\n",
    "    \"\"\"Helper: build tf.Example from (string -> int/float/str list) dictionary.\"\"\"\n",
    "    features = {}\n",
    "    for (k, v) in six.iteritems(dictionary):\n",
    "        if not v:\n",
    "            raise ValueError('Empty generated field: %s' % str((k, v)))\n",
    "        # Subtly in PY2 vs PY3, map is not scriptable in py3. As a result,\n",
    "        # map objects will fail with TypeError, unless converted to a list.\n",
    "        if six.PY3 and isinstance(v, map):\n",
    "            v = list(v)\n",
    "        if isinstance(v[0], six.integer_types) or np.issubdtype(\n",
    "            type(v[0]), np.integer\n",
    "        ):\n",
    "            features[k] = tf.train.Feature(\n",
    "                int64_list=tf.train.Int64List(value=v)\n",
    "            )\n",
    "        elif isinstance(v[0], float):\n",
    "            features[k] = tf.train.Feature(\n",
    "                float_list=tf.train.FloatList(value=v)\n",
    "            )\n",
    "        elif isinstance(v[0], six.string_types):\n",
    "            if not six.PY2:  # Convert in python 3.\n",
    "                v = [bytes(x, 'utf-8') for x in v]\n",
    "            features[k] = tf.train.Feature(\n",
    "                bytes_list=tf.train.BytesList(value=v)\n",
    "            )\n",
    "        elif isinstance(v[0], bytes):\n",
    "            features[k] = tf.train.Feature(\n",
    "                bytes_list=tf.train.BytesList(value=v)\n",
    "            )\n",
    "        else:\n",
    "            raise ValueError(\n",
    "                'Value for %s is not a recognized type; v: %s type: %s'\n",
    "                % (k, str(v[0]), str(type(v[0])))\n",
    "            )\n",
    "    return tf.train.Example(features=tf.train.Features(feature=features))"
   ]
  },
  {
   "cell_type": "code",
   "execution_count": 6,
   "id": "a88248e7",
   "metadata": {},
   "outputs": [
    {
     "data": {
      "text/plain": [
       "102600"
      ]
     },
     "execution_count": 6,
     "metadata": {},
     "output_type": "execute_result"
    }
   ],
   "source": [
    "from glob import glob\n",
    "from tqdm import tqdm\n",
    "\n",
    "files = glob('ST-CMDS-20170001_1-OS/*.txt')\n",
    "len(files)"
   ]
  },
  {
   "cell_type": "code",
   "execution_count": 7,
   "id": "4300d4af",
   "metadata": {},
   "outputs": [
    {
     "name": "stderr",
     "output_type": "stream",
     "text": [
      "100%|██████████| 102600/102600 [00:23<00:00, 4451.23it/s]\n"
     ]
    }
   ],
   "source": [
    "texts = []\n",
    "for f in tqdm(files):\n",
    "    with open(f) as fopen:\n",
    "        data = fopen.read()\n",
    "        texts.append(data)"
   ]
  },
  {
   "cell_type": "code",
   "execution_count": 8,
   "id": "45e7415a",
   "metadata": {},
   "outputs": [],
   "source": [
    "files = list(zip(files, texts))"
   ]
  },
  {
   "cell_type": "code",
   "execution_count": 9,
   "id": "1d65e051",
   "metadata": {},
   "outputs": [
    {
     "data": {
      "text/plain": [
       "('ST-CMDS-20170001_1-OS/20170001P00053I0110.txt', '你不是拐着弯的损我吧')"
      ]
     },
     "execution_count": 9,
     "metadata": {},
     "output_type": "execute_result"
    }
   ],
   "source": [
    "files[0]"
   ]
  },
  {
   "cell_type": "code",
   "execution_count": 10,
   "id": "909bf0dd",
   "metadata": {},
   "outputs": [
    {
     "name": "stderr",
     "output_type": "stream",
     "text": [
      "/home/ubuntu/.local/lib/python3.7/site-packages/malaya_boilerplate/frozen_graph.py:25: UserWarning: Cannot import beam_search_ops from Tensorflow Addons, `deep_model` for stemmer will not available to use, make sure Tensorflow Addons version >= 0.12.0\n",
      "  'Cannot import beam_search_ops from Tensorflow Addons, `deep_model` for stemmer will not available to use, make sure Tensorflow Addons version >= 0.12.0'\n"
     ]
    }
   ],
   "source": [
    "import tensorflow as tf\n",
    "import malaya_speech"
   ]
  },
  {
   "cell_type": "code",
   "execution_count": 12,
   "id": "75c76187",
   "metadata": {},
   "outputs": [
    {
     "data": {
      "text/plain": [
       "'ni bu shi guai zhao wan de sun wo ba'"
      ]
     },
     "execution_count": 12,
     "metadata": {},
     "output_type": "execute_result"
    }
   ],
   "source": [
    "pinyin.get(files[0][1], format=\"strip\", delimiter=\" \")"
   ]
  },
  {
   "cell_type": "code",
   "execution_count": 15,
   "id": "0fd2ef85",
   "metadata": {},
   "outputs": [
    {
     "data": {
      "text/plain": [
       "True"
      ]
     },
     "execution_count": 15,
     "metadata": {},
     "output_type": "execute_result"
    }
   ],
   "source": [
    "os.path.exists(files[0][0].replace('.txt', '.wav'))"
   ]
  },
  {
   "cell_type": "code",
   "execution_count": 16,
   "id": "75004186",
   "metadata": {},
   "outputs": [],
   "source": [
    "import re\n",
    "\n",
    "def loop(files):\n",
    "    import pinyin\n",
    "    \n",
    "    client = storage.Client()\n",
    "    bucket = client.bucket('mesolitica-tpu-general')\n",
    "    files, index = files\n",
    "    output_file = f'{index}-{global_count}.tfrecord'\n",
    "    writer = tf.io.TFRecordWriter(output_file)\n",
    "    for s in tqdm(files):\n",
    "        try:\n",
    "            t = pinyin.get(s[1], format=\"strip\", delimiter=\" \")\n",
    "            f = s[0].replace('.txt', '.wav')\n",
    "            if len(s[1]) < minlen_text:\n",
    "                continue\n",
    "            y, _ = malaya_speech.load(f)\n",
    "            if (len(y) / sr) > maxlen:\n",
    "                continue\n",
    "            \n",
    "            t = ''.join([c if c in char_vocabs else ' ' for c in t])\n",
    "            t = re.sub(r'[ ]+', ' ', t).strip()\n",
    "            \n",
    "            new_t = [char_vocabs.index(c) for c in t]\n",
    "            example = to_example({'waveforms': y.tolist(), \n",
    "                                  'targets': new_t, \n",
    "                                  'targets_length': [len(new_t)],\n",
    "                                 'lang': [2]})\n",
    "            writer.write(example.SerializeToString())\n",
    "        except Exception as e:\n",
    "            print(e)\n",
    "            pass\n",
    "    writer.close()\n",
    "    blob = bucket.blob(f'mandarin-v2/{output_file}')\n",
    "    blob.upload_from_filename(output_file)\n",
    "    os.system(f'rm {output_file}')"
   ]
  },
  {
   "cell_type": "code",
   "execution_count": 17,
   "id": "47792555",
   "metadata": {},
   "outputs": [],
   "source": [
    "# loop((files[:100], 0))"
   ]
  },
  {
   "cell_type": "code",
   "execution_count": 18,
   "id": "90f2b497",
   "metadata": {},
   "outputs": [
    {
     "name": "stderr",
     "output_type": "stream",
     "text": [
      "100%|██████████| 625/625 [00:22<00:00, 27.33it/s]\n",
      "100%|██████████| 625/625 [00:23<00:00, 27.09it/s]\n",
      "100%|██████████| 625/625 [00:23<00:00, 27.00it/s]\n",
      "100%|██████████| 625/625 [00:23<00:00, 26.93it/s]\n",
      "100%|██████████| 625/625 [00:23<00:00, 26.89it/s]\n",
      "100%|██████████| 625/625 [00:23<00:00, 26.87it/s]\n",
      "100%|██████████| 625/625 [00:23<00:00, 26.87it/s]\n",
      "100%|██████████| 625/625 [00:23<00:00, 26.69it/s]\n",
      "100%|██████████| 625/625 [00:15<00:00, 39.66it/s]\n",
      "100%|██████████| 625/625 [00:15<00:00, 39.69it/s]\n",
      "100%|██████████| 625/625 [00:15<00:00, 39.50it/s]\n",
      "100%|██████████| 625/625 [00:15<00:00, 39.44it/s]\n",
      "100%|██████████| 625/625 [00:15<00:00, 39.36it/s]\n",
      "100%|██████████| 625/625 [00:15<00:00, 39.32it/s]\n",
      "100%|██████████| 625/625 [00:15<00:00, 39.19it/s]\n",
      "100%|██████████| 625/625 [00:16<00:00, 39.00it/s]\n",
      "100%|██████████| 625/625 [00:15<00:00, 39.31it/s]\n",
      "100%|██████████| 625/625 [00:16<00:00, 39.03it/s]\n",
      "100%|██████████| 625/625 [00:15<00:00, 39.12it/s]\n",
      "100%|██████████| 625/625 [00:16<00:00, 38.96it/s]\n",
      "100%|██████████| 625/625 [00:16<00:00, 38.80it/s]\n",
      "100%|██████████| 625/625 [00:16<00:00, 38.87it/s]\n",
      "100%|██████████| 625/625 [00:16<00:00, 38.64it/s]\n",
      "100%|██████████| 625/625 [00:16<00:00, 38.07it/s]\n",
      "100%|██████████| 625/625 [00:15<00:00, 39.12it/s]\n",
      "100%|██████████| 625/625 [00:15<00:00, 39.07it/s]\n",
      "100%|██████████| 625/625 [00:16<00:00, 38.81it/s]\n",
      "100%|██████████| 625/625 [00:16<00:00, 38.73it/s]\n",
      "100%|██████████| 625/625 [00:16<00:00, 38.61it/s]\n",
      "100%|██████████| 625/625 [00:16<00:00, 38.55it/s]\n",
      "100%|██████████| 625/625 [00:16<00:00, 38.58it/s]\n",
      "100%|██████████| 625/625 [00:16<00:00, 38.01it/s]\n",
      "100%|██████████| 625/625 [00:15<00:00, 39.63it/s]\n",
      "100%|██████████| 625/625 [00:15<00:00, 39.66it/s]\n",
      "100%|██████████| 625/625 [00:15<00:00, 39.44it/s]\n",
      "100%|██████████| 625/625 [00:15<00:00, 39.40it/s]\n",
      "100%|██████████| 625/625 [00:15<00:00, 39.37it/s]\n",
      "100%|██████████| 625/625 [00:15<00:00, 39.24it/s]\n",
      "100%|██████████| 625/625 [00:15<00:00, 39.17it/s]\n",
      "100%|██████████| 625/625 [00:15<00:00, 39.14it/s]\n",
      "100%|██████████| 625/625 [00:16<00:00, 39.06it/s]\n",
      "100%|██████████| 625/625 [00:16<00:00, 38.65it/s]\n",
      "100%|██████████| 625/625 [00:16<00:00, 38.55it/s]\n",
      "100%|██████████| 625/625 [00:16<00:00, 38.42it/s]\n",
      "100%|██████████| 625/625 [00:16<00:00, 38.28it/s]\n",
      "100%|██████████| 625/625 [00:16<00:00, 38.18it/s]\n",
      "100%|██████████| 625/625 [00:16<00:00, 38.03it/s]\n",
      "100%|██████████| 625/625 [00:16<00:00, 38.08it/s]\n",
      "100%|██████████| 625/625 [00:16<00:00, 38.10it/s]\n",
      "100%|██████████| 625/625 [00:16<00:00, 37.98it/s]\n",
      "100%|██████████| 625/625 [00:16<00:00, 37.98it/s]\n",
      "100%|██████████| 625/625 [00:16<00:00, 37.86it/s]\n",
      "100%|██████████| 625/625 [00:16<00:00, 37.69it/s]\n",
      "100%|██████████| 625/625 [00:16<00:00, 37.72it/s]\n",
      "100%|██████████| 625/625 [00:16<00:00, 37.67it/s]\n",
      "100%|██████████| 625/625 [00:16<00:00, 37.54it/s]\n",
      "100%|██████████| 625/625 [00:16<00:00, 38.15it/s]\n",
      "100%|██████████| 625/625 [00:16<00:00, 37.94it/s]\n",
      "100%|██████████| 625/625 [00:16<00:00, 37.83it/s]\n",
      "100%|██████████| 625/625 [00:16<00:00, 37.92it/s]\n",
      "100%|██████████| 625/625 [00:16<00:00, 37.80it/s]\n",
      "100%|██████████| 625/625 [00:16<00:00, 37.76it/s]\n",
      "100%|██████████| 625/625 [00:16<00:00, 37.67it/s]\n",
      "100%|██████████| 625/625 [00:16<00:00, 37.47it/s]\n",
      "100%|██████████| 625/625 [00:16<00:00, 38.01it/s]\n",
      "100%|██████████| 625/625 [00:16<00:00, 37.75it/s]\n",
      "100%|██████████| 625/625 [00:16<00:00, 37.70it/s]\n",
      "100%|██████████| 625/625 [00:16<00:00, 37.54it/s]\n",
      "100%|██████████| 625/625 [00:16<00:00, 37.49it/s]\n",
      "100%|██████████| 625/625 [00:16<00:00, 37.38it/s]\n",
      "100%|██████████| 625/625 [00:16<00:00, 37.26it/s]\n",
      "100%|██████████| 625/625 [00:16<00:00, 37.23it/s]\n",
      "100%|██████████| 625/625 [00:16<00:00, 38.52it/s]\n",
      "100%|██████████| 625/625 [00:16<00:00, 38.20it/s]\n",
      "100%|██████████| 625/625 [00:16<00:00, 38.11it/s]\n",
      "100%|██████████| 625/625 [00:16<00:00, 37.99it/s]\n",
      "100%|██████████| 625/625 [00:16<00:00, 37.86it/s]\n",
      "100%|██████████| 625/625 [00:16<00:00, 37.83it/s]\n",
      "100%|██████████| 625/625 [00:16<00:00, 37.85it/s]\n",
      "100%|██████████| 625/625 [00:16<00:00, 37.74it/s]\n",
      "100%|██████████| 625/625 [00:16<00:00, 37.58it/s]\n",
      "100%|██████████| 625/625 [00:16<00:00, 37.15it/s]\n",
      "100%|██████████| 625/625 [00:16<00:00, 36.99it/s]\n",
      "100%|██████████| 625/625 [00:16<00:00, 36.87it/s]\n",
      "100%|██████████| 625/625 [00:16<00:00, 36.84it/s]\n",
      "100%|██████████| 625/625 [00:16<00:00, 36.88it/s]\n",
      "100%|██████████| 625/625 [00:16<00:00, 36.77it/s]\n",
      "100%|██████████| 625/625 [00:17<00:00, 36.63it/s]\n",
      "100%|██████████| 625/625 [00:16<00:00, 37.67it/s]\n",
      "100%|██████████| 625/625 [00:16<00:00, 37.66it/s]\n",
      "100%|██████████| 625/625 [00:16<00:00, 37.56it/s]\n",
      "100%|██████████| 625/625 [00:16<00:00, 37.49it/s]\n",
      "100%|██████████| 625/625 [00:16<00:00, 37.44it/s]\n",
      "100%|██████████| 625/625 [00:16<00:00, 37.29it/s]\n",
      "100%|██████████| 625/625 [00:16<00:00, 37.10it/s]\n",
      "100%|██████████| 625/625 [00:16<00:00, 37.10it/s]\n",
      "100%|██████████| 625/625 [00:16<00:00, 38.94it/s]\n",
      "100%|██████████| 625/625 [00:16<00:00, 38.69it/s]\n",
      "100%|██████████| 625/625 [00:16<00:00, 38.56it/s]\n",
      "100%|██████████| 625/625 [00:16<00:00, 38.47it/s]\n",
      "100%|██████████| 625/625 [00:16<00:00, 38.33it/s]\n",
      "100%|██████████| 625/625 [00:16<00:00, 38.19it/s]\n",
      "100%|██████████| 625/625 [00:16<00:00, 38.10it/s]\n",
      "100%|██████████| 625/625 [00:16<00:00, 37.57it/s]\n",
      "100%|██████████| 625/625 [00:16<00:00, 38.72it/s]\n",
      "100%|██████████| 625/625 [00:16<00:00, 38.50it/s]\n",
      "100%|██████████| 625/625 [00:16<00:00, 38.47it/s]\n",
      "100%|██████████| 625/625 [00:16<00:00, 38.30it/s]\n",
      "100%|██████████| 625/625 [00:16<00:00, 37.99it/s]\n",
      "100%|██████████| 625/625 [00:16<00:00, 37.89it/s]\n",
      "100%|██████████| 625/625 [00:16<00:00, 37.79it/s]\n",
      "100%|██████████| 625/625 [00:16<00:00, 37.65it/s]\n",
      "100%|██████████| 625/625 [00:15<00:00, 40.00it/s]\n",
      "100%|██████████| 625/625 [00:15<00:00, 39.78it/s]\n",
      "100%|██████████| 625/625 [00:15<00:00, 39.64it/s]\n",
      "100%|██████████| 625/625 [00:15<00:00, 39.49it/s]\n",
      "100%|██████████| 625/625 [00:15<00:00, 39.40it/s]\n",
      "100%|██████████| 625/625 [00:15<00:00, 39.99it/s]\n",
      "100%|██████████| 625/625 [00:16<00:00, 39.04it/s]\n",
      "100%|██████████| 625/625 [00:16<00:00, 38.76it/s]\n",
      "100%|██████████| 625/625 [00:16<00:00, 38.35it/s]\n",
      "100%|██████████| 625/625 [00:16<00:00, 39.02it/s]\n",
      "100%|██████████| 625/625 [00:16<00:00, 38.25it/s]\n",
      "100%|██████████| 625/625 [00:16<00:00, 38.17it/s]\n",
      "100%|██████████| 625/625 [00:16<00:00, 38.81it/s]\n",
      "100%|██████████| 625/625 [00:16<00:00, 38.12it/s]\n",
      "100%|██████████| 625/625 [00:16<00:00, 38.04it/s]\n",
      "100%|██████████| 625/625 [00:15<00:00, 39.06it/s]\n",
      "100%|██████████| 625/625 [00:15<00:00, 41.03it/s]\n",
      "100%|██████████| 625/625 [00:15<00:00, 39.51it/s]\n",
      "100%|██████████| 625/625 [00:15<00:00, 40.01it/s]\n",
      "100%|██████████| 625/625 [00:16<00:00, 38.19it/s]\n",
      "100%|██████████| 625/625 [00:16<00:00, 37.84it/s]\n",
      "100%|██████████| 625/625 [00:16<00:00, 37.83it/s]\n",
      "100%|██████████| 625/625 [00:16<00:00, 37.85it/s]\n",
      "100%|██████████| 625/625 [00:15<00:00, 40.35it/s]\n",
      "100%|██████████| 625/625 [00:16<00:00, 38.91it/s]\n",
      "100%|██████████| 625/625 [00:15<00:00, 40.24it/s]\n",
      "100%|██████████| 625/625 [00:15<00:00, 39.94it/s]\n",
      "100%|██████████| 625/625 [00:16<00:00, 38.59it/s]\n",
      "100%|██████████| 625/625 [00:15<00:00, 40.48it/s]\n",
      "100%|██████████| 625/625 [00:15<00:00, 40.44it/s]\n",
      "100%|██████████| 625/625 [00:16<00:00, 37.80it/s]\n",
      "100%|██████████| 625/625 [00:16<00:00, 37.76it/s]\n",
      "100%|██████████| 625/625 [00:16<00:00, 38.72it/s]\n",
      "100%|██████████| 625/625 [00:16<00:00, 38.85it/s]\n",
      "100%|██████████| 625/625 [00:15<00:00, 40.11it/s]\n",
      "100%|██████████| 625/625 [00:16<00:00, 38.74it/s]\n",
      "100%|██████████| 625/625 [00:15<00:00, 39.39it/s]\n",
      "100%|██████████| 625/625 [00:16<00:00, 38.49it/s]\n",
      "100%|██████████| 625/625 [00:15<00:00, 39.86it/s]\n",
      "100%|██████████| 625/625 [00:16<00:00, 37.00it/s]\n",
      "100%|██████████| 625/625 [00:15<00:00, 39.54it/s]\n",
      "100%|██████████| 625/625 [00:15<00:00, 40.22it/s]\n",
      "100%|██████████| 625/625 [00:15<00:00, 40.91it/s]\n",
      "100%|██████████| 625/625 [00:16<00:00, 38.69it/s]\n",
      "100%|██████████| 625/625 [00:16<00:00, 37.87it/s]\n",
      "100%|██████████| 625/625 [00:15<00:00, 39.46it/s]\n",
      "100%|██████████| 625/625 [00:15<00:00, 40.12it/s]\n",
      "100%|██████████| 625/625 [00:16<00:00, 36.79it/s]\n",
      "100%|██████████| 325/325 [00:09<00:00, 34.07it/s]\n",
      "100%|██████████| 325/325 [00:09<00:00, 33.86it/s]\n",
      "100%|██████████| 325/325 [00:09<00:00, 33.94it/s]\n",
      "100%|██████████| 325/325 [00:09<00:00, 33.88it/s]\n",
      "100%|██████████| 325/325 [00:09<00:00, 33.53it/s]\n",
      "100%|██████████| 325/325 [00:09<00:00, 33.20it/s]\n",
      "100%|██████████| 325/325 [00:09<00:00, 33.11it/s]\n",
      "100%|██████████| 325/325 [00:09<00:00, 32.97it/s]\n"
     ]
    }
   ],
   "source": [
    "import mp\n",
    "\n",
    "batch_size = 5000\n",
    "for i in range(0, len(files), batch_size):\n",
    "    batch = files[i: i + batch_size]\n",
    "    mp.multiprocessing(batch, loop, cores = 8, returned = False)\n",
    "    global_count += 1"
   ]
  },
  {
   "cell_type": "code",
   "execution_count": null,
   "id": "880e7835",
   "metadata": {},
   "outputs": [],
   "source": []
  }
 ],
 "metadata": {
  "kernelspec": {
   "display_name": "Python 3",
   "language": "python",
   "name": "python3"
  },
  "language_info": {
   "codemirror_mode": {
    "name": "ipython",
    "version": 3
   },
   "file_extension": ".py",
   "mimetype": "text/x-python",
   "name": "python",
   "nbconvert_exporter": "python",
   "pygments_lexer": "ipython3",
   "version": "3.7.10"
  }
 },
 "nbformat": 4,
 "nbformat_minor": 5
}

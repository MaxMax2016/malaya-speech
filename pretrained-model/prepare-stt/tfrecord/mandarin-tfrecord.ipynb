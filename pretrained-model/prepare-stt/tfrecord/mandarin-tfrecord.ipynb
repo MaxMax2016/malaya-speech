{
 "cells": [
  {
   "cell_type": "code",
   "execution_count": 1,
   "id": "93921f2d",
   "metadata": {},
   "outputs": [],
   "source": [
    "import os\n",
    "os.environ['GOOGLE_APPLICATION_CREDENTIALS'] = '/home/ubuntu/mesolitica-tpu.json'"
   ]
  },
  {
   "cell_type": "code",
   "execution_count": 2,
   "id": "d38949bf",
   "metadata": {},
   "outputs": [],
   "source": [
    "import string\n",
    "\n",
    "char_vocabs = [''] + list(string.ascii_lowercase + string.digits) + [' ']"
   ]
  },
  {
   "cell_type": "code",
   "execution_count": 3,
   "id": "be41bb94",
   "metadata": {},
   "outputs": [],
   "source": [
    "sr = 16000\n",
    "maxlen = 18\n",
    "maxlen_subwords = 100\n",
    "minlen_text = 1\n",
    "global_count = 0"
   ]
  },
  {
   "cell_type": "code",
   "execution_count": 4,
   "id": "d81331ad",
   "metadata": {},
   "outputs": [],
   "source": [
    "from google.cloud import storage\n",
    "import numpy as np\n",
    "import six\n",
    "\n",
    "def to_example(dictionary):\n",
    "    \"\"\"Helper: build tf.Example from (string -> int/float/str list) dictionary.\"\"\"\n",
    "    features = {}\n",
    "    for (k, v) in six.iteritems(dictionary):\n",
    "        if not v:\n",
    "            raise ValueError('Empty generated field: %s' % str((k, v)))\n",
    "        # Subtly in PY2 vs PY3, map is not scriptable in py3. As a result,\n",
    "        # map objects will fail with TypeError, unless converted to a list.\n",
    "        if six.PY3 and isinstance(v, map):\n",
    "            v = list(v)\n",
    "        if isinstance(v[0], six.integer_types) or np.issubdtype(\n",
    "            type(v[0]), np.integer\n",
    "        ):\n",
    "            features[k] = tf.train.Feature(\n",
    "                int64_list=tf.train.Int64List(value=v)\n",
    "            )\n",
    "        elif isinstance(v[0], float):\n",
    "            features[k] = tf.train.Feature(\n",
    "                float_list=tf.train.FloatList(value=v)\n",
    "            )\n",
    "        elif isinstance(v[0], six.string_types):\n",
    "            if not six.PY2:  # Convert in python 3.\n",
    "                v = [bytes(x, 'utf-8') for x in v]\n",
    "            features[k] = tf.train.Feature(\n",
    "                bytes_list=tf.train.BytesList(value=v)\n",
    "            )\n",
    "        elif isinstance(v[0], bytes):\n",
    "            features[k] = tf.train.Feature(\n",
    "                bytes_list=tf.train.BytesList(value=v)\n",
    "            )\n",
    "        else:\n",
    "            raise ValueError(\n",
    "                'Value for %s is not a recognized type; v: %s type: %s'\n",
    "                % (k, str(v[0]), str(type(v[0])))\n",
    "            )\n",
    "    return tf.train.Example(features=tf.train.Features(feature=features))"
   ]
  },
  {
   "cell_type": "code",
   "execution_count": 5,
   "id": "a88248e7",
   "metadata": {},
   "outputs": [],
   "source": [
    "import pandas as pd\n",
    "\n",
    "df = pd.read_csv('train/TRANS.txt', sep = '\\t')\n",
    "files = df.iloc[:,[0,2]].values.tolist()"
   ]
  },
  {
   "cell_type": "code",
   "execution_count": 6,
   "id": "909bf0dd",
   "metadata": {},
   "outputs": [
    {
     "name": "stderr",
     "output_type": "stream",
     "text": [
      "/home/ubuntu/.local/lib/python3.7/site-packages/malaya_boilerplate/frozen_graph.py:25: UserWarning: Cannot import beam_search_ops from Tensorflow Addons, `deep_model` for stemmer will not available to use, make sure Tensorflow Addons version >= 0.12.0\n",
      "  'Cannot import beam_search_ops from Tensorflow Addons, `deep_model` for stemmer will not available to use, make sure Tensorflow Addons version >= 0.12.0'\n"
     ]
    }
   ],
   "source": [
    "import tensorflow as tf\n",
    "import malaya_speech\n",
    "from tqdm import tqdm"
   ]
  },
  {
   "cell_type": "code",
   "execution_count": 7,
   "id": "75004186",
   "metadata": {},
   "outputs": [],
   "source": [
    "import re\n",
    "\n",
    "def loop(files):\n",
    "    import pinyin\n",
    "    \n",
    "    client = storage.Client()\n",
    "    bucket = client.bucket('mesolitica-tpu-general')\n",
    "    files, index = files\n",
    "    output_file = f'{index}-{global_count}.tfrecord'\n",
    "    writer = tf.io.TFRecordWriter(output_file)\n",
    "    for s in tqdm(files):\n",
    "        try:\n",
    "            t = pinyin.get(s[1], format=\"strip\", delimiter=\" \")\n",
    "            splitted = s[0].split('_')\n",
    "            folder = '_'.join(splitted[:-1])\n",
    "            f = os.path.join('train', folder, s[0])\n",
    "            if len(s[1]) < minlen_text:\n",
    "                continue\n",
    "            y, _ = malaya_speech.load(f)\n",
    "            if (len(y) / sr) > maxlen:\n",
    "                continue\n",
    "            \n",
    "            t = ''.join([c if c in char_vocabs else ' ' for c in t])\n",
    "            t = re.sub(r'[ ]+', ' ', t).strip()\n",
    "            \n",
    "            new_t = [char_vocabs.index(c) for c in t]\n",
    "            example = to_example({'waveforms': y.tolist(), \n",
    "                                  'targets': new_t, \n",
    "                                  'targets_length': [len(new_t)],\n",
    "                                 'lang': [2]})\n",
    "            writer.write(example.SerializeToString())\n",
    "        except Exception as e:\n",
    "            print(e)\n",
    "            pass\n",
    "    writer.close()\n",
    "    blob = bucket.blob(f'mandarin/{output_file}')\n",
    "    blob.upload_from_filename(output_file)\n",
    "    os.system(f'rm {output_file}')"
   ]
  },
  {
   "cell_type": "code",
   "execution_count": 8,
   "id": "47792555",
   "metadata": {},
   "outputs": [],
   "source": [
    "# loop((files[:100], 0))"
   ]
  },
  {
   "cell_type": "code",
   "execution_count": null,
   "id": "90f2b497",
   "metadata": {},
   "outputs": [
    {
     "name": "stderr",
     "output_type": "stream",
     "text": [
      "100%|██████████| 625/625 [00:17<00:00, 35.03it/s]\n",
      "100%|██████████| 625/625 [00:18<00:00, 34.25it/s]\n",
      " 87%|████████▋ | 541/625 [00:18<00:02, 32.60it/s]\n",
      "100%|██████████| 625/625 [00:18<00:00, 33.40it/s]\n",
      "100%|██████████| 625/625 [00:19<00:00, 32.57it/s]\n",
      "100%|██████████| 625/625 [00:19<00:00, 31.52it/s]\n",
      "100%|██████████| 625/625 [00:20<00:00, 30.09it/s]\n",
      "100%|██████████| 625/625 [00:21<00:00, 29.41it/s]\n",
      "100%|██████████| 625/625 [00:15<00:00, 39.28it/s]\n",
      " 86%|████████▌ | 536/625 [00:15<00:02, 33.88it/s]\n",
      "100%|██████████| 625/625 [00:16<00:00, 38.57it/s]\n",
      "100%|██████████| 625/625 [00:16<00:00, 37.78it/s]\n",
      "100%|██████████| 625/625 [00:16<00:00, 37.47it/s]\n",
      "100%|██████████| 625/625 [00:16<00:00, 36.97it/s]\n",
      "100%|██████████| 625/625 [00:17<00:00, 35.11it/s]\n",
      "100%|██████████| 625/625 [00:18<00:00, 34.58it/s]\n",
      "100%|██████████| 625/625 [00:15<00:00, 40.99it/s]\n",
      "100%|██████████| 625/625 [00:15<00:00, 40.92it/s]\n",
      "100%|██████████| 625/625 [00:15<00:00, 40.35it/s]\n",
      "100%|██████████| 625/625 [00:15<00:00, 39.44it/s]\n",
      "100%|██████████| 625/625 [00:17<00:00, 35.90it/s]\n",
      "100%|██████████| 625/625 [00:18<00:00, 34.60it/s]\n",
      "100%|██████████| 625/625 [00:19<00:00, 32.70it/s]\n",
      "100%|██████████| 625/625 [00:19<00:00, 31.60it/s]\n",
      "100%|██████████| 625/625 [00:14<00:00, 43.08it/s]\n",
      "100%|██████████| 625/625 [00:15<00:00, 40.56it/s]\n",
      "100%|██████████| 625/625 [00:17<00:00, 36.58it/s]\n",
      "100%|██████████| 625/625 [00:17<00:00, 34.76it/s]\n",
      "100%|██████████| 625/625 [00:18<00:00, 34.37it/s]\n",
      "100%|██████████| 625/625 [00:19<00:00, 32.50it/s]\n",
      "100%|██████████| 625/625 [00:19<00:00, 31.35it/s]\n",
      "100%|██████████| 625/625 [00:20<00:00, 31.19it/s]\n",
      " 49%|████▉     | 305/625 [00:09<00:08, 36.11it/s]"
     ]
    },
    {
     "name": "stdout",
     "output_type": "stream",
     "text": [
      "Empty generated field: ('targets', [])\n"
     ]
    },
    {
     "name": "stderr",
     "output_type": "stream",
     "text": [
      "100%|██████████| 625/625 [00:14<00:00, 42.76it/s]\n",
      " 85%|████████▍ | 531/625 [00:15<00:03, 28.51it/s]\n",
      "100%|██████████| 625/625 [00:16<00:00, 36.93it/s]\n",
      "100%|██████████| 625/625 [00:17<00:00, 35.88it/s]\n",
      "100%|██████████| 625/625 [00:17<00:00, 35.04it/s]\n",
      "100%|██████████| 625/625 [00:18<00:00, 34.69it/s]\n",
      "100%|██████████| 625/625 [00:18<00:00, 34.38it/s]\n",
      "100%|██████████| 625/625 [00:19<00:00, 32.88it/s]\n",
      "100%|██████████| 625/625 [00:18<00:00, 34.39it/s]\n",
      "100%|██████████| 625/625 [00:20<00:00, 30.32it/s]\n",
      "100%|██████████| 625/625 [00:21<00:00, 28.66it/s]\n",
      "100%|██████████| 625/625 [00:22<00:00, 28.08it/s]\n",
      "100%|██████████| 625/625 [00:22<00:00, 27.67it/s]\n",
      "100%|██████████| 625/625 [00:22<00:00, 27.19it/s]\n",
      "100%|██████████| 625/625 [00:23<00:00, 26.52it/s]\n",
      "100%|██████████| 625/625 [00:23<00:00, 26.24it/s]\n",
      "100%|██████████| 625/625 [00:15<00:00, 40.95it/s]\n",
      " 97%|█████████▋| 605/625 [00:17<00:00, 26.27it/s]\n",
      " 89%|████████▉ | 555/625 [00:18<00:01, 43.80it/s]\n",
      "100%|██████████| 625/625 [00:19<00:00, 32.46it/s]\n",
      "100%|██████████| 625/625 [00:20<00:00, 30.80it/s]\n",
      "100%|██████████| 625/625 [00:21<00:00, 29.03it/s]\n",
      "100%|██████████| 625/625 [00:21<00:00, 28.44it/s]\n",
      "100%|██████████| 625/625 [00:23<00:00, 27.17it/s]\n",
      "100%|██████████| 625/625 [00:13<00:00, 44.94it/s]\n",
      "100%|██████████| 625/625 [00:14<00:00, 43.26it/s]\n",
      "100%|██████████| 625/625 [00:15<00:00, 39.54it/s]\n",
      "100%|██████████| 625/625 [00:16<00:00, 37.45it/s]\n",
      "100%|██████████| 625/625 [00:17<00:00, 36.38it/s]\n",
      "100%|██████████| 625/625 [00:18<00:00, 34.33it/s]\n",
      "100%|██████████| 625/625 [00:18<00:00, 33.41it/s]\n",
      "100%|██████████| 625/625 [00:19<00:00, 32.74it/s]\n",
      " 74%|███████▍  | 465/625 [00:13<00:04, 32.90it/s]\n",
      "100%|██████████| 625/625 [00:15<00:00, 41.01it/s]\n",
      "100%|██████████| 625/625 [00:16<00:00, 37.21it/s]\n",
      "100%|██████████| 625/625 [00:17<00:00, 35.06it/s]\n",
      "100%|██████████| 625/625 [00:19<00:00, 31.57it/s]\n",
      "100%|██████████| 625/625 [00:19<00:00, 31.39it/s]\n",
      "100%|██████████| 625/625 [00:20<00:00, 30.41it/s]\n",
      "100%|██████████| 625/625 [00:21<00:00, 29.03it/s]\n",
      " 76%|███████▌  | 474/625 [00:15<00:05, 28.80it/s]\n",
      "100%|██████████| 625/625 [00:16<00:00, 38.97it/s]\n",
      "100%|██████████| 625/625 [00:17<00:00, 35.81it/s]\n",
      "100%|██████████| 625/625 [00:17<00:00, 34.73it/s]\n",
      "100%|██████████| 625/625 [00:18<00:00, 34.27it/s]\n",
      "100%|██████████| 625/625 [00:18<00:00, 33.21it/s]\n",
      "100%|██████████| 625/625 [00:19<00:00, 32.69it/s]\n",
      "100%|██████████| 625/625 [00:22<00:00, 28.23it/s]\n",
      "100%|██████████| 625/625 [00:12<00:00, 48.54it/s]\n",
      "100%|██████████| 625/625 [00:15<00:00, 40.60it/s]\n",
      "100%|██████████| 625/625 [00:16<00:00, 38.81it/s]\n",
      "100%|██████████| 625/625 [00:18<00:00, 34.57it/s]\n",
      "100%|██████████| 625/625 [00:18<00:00, 34.18it/s]\n",
      "100%|██████████| 625/625 [00:18<00:00, 33.27it/s]\n",
      "100%|██████████| 625/625 [00:19<00:00, 31.54it/s]\n",
      "100%|██████████| 625/625 [00:20<00:00, 30.45it/s]\n",
      "100%|██████████| 625/625 [00:14<00:00, 42.48it/s]\n",
      "100%|██████████| 625/625 [00:15<00:00, 39.71it/s]\n",
      "100%|██████████| 625/625 [00:15<00:00, 39.60it/s]\n",
      "100%|██████████| 625/625 [00:16<00:00, 39.02it/s]\n",
      "100%|██████████| 625/625 [00:16<00:00, 37.70it/s]\n",
      "100%|██████████| 625/625 [00:16<00:00, 37.63it/s]\n",
      "100%|██████████| 625/625 [00:17<00:00, 35.84it/s]\n",
      "100%|██████████| 625/625 [00:18<00:00, 33.40it/s]\n",
      "100%|██████████| 625/625 [00:14<00:00, 42.44it/s]\n",
      "100%|██████████| 625/625 [00:16<00:00, 38.17it/s]\n",
      "100%|██████████| 625/625 [00:16<00:00, 37.44it/s]\n",
      "100%|██████████| 625/625 [00:17<00:00, 36.14it/s]\n",
      "100%|██████████| 625/625 [00:17<00:00, 36.07it/s]\n",
      "100%|██████████| 625/625 [00:18<00:00, 34.57it/s]\n",
      "100%|██████████| 625/625 [00:18<00:00, 32.90it/s]\n",
      "100%|██████████| 625/625 [00:20<00:00, 30.50it/s]\n",
      " 84%|████████▍ | 524/625 [00:15<00:02, 46.01it/s]\n",
      "100%|██████████| 625/625 [00:16<00:00, 37.74it/s]\n",
      "100%|██████████| 625/625 [00:16<00:00, 37.61it/s]\n",
      "100%|██████████| 625/625 [00:16<00:00, 37.46it/s]\n",
      "100%|██████████| 625/625 [00:17<00:00, 36.50it/s]\n",
      "100%|██████████| 625/625 [00:17<00:00, 35.90it/s]\n",
      "100%|██████████| 625/625 [00:18<00:00, 34.23it/s]\n",
      "100%|██████████| 625/625 [00:18<00:00, 32.93it/s]\n",
      "100%|██████████| 625/625 [00:13<00:00, 46.21it/s]\n",
      " 99%|█████████▉| 619/625 [00:15<00:00, 31.61it/s]\n",
      "100%|██████████| 625/625 [00:15<00:00, 40.76it/s]\n",
      "100%|██████████| 625/625 [00:16<00:00, 38.83it/s]\n",
      "100%|██████████| 625/625 [00:17<00:00, 35.11it/s]\n",
      "100%|██████████| 625/625 [00:17<00:00, 35.14it/s]\n",
      "100%|██████████| 625/625 [00:17<00:00, 34.93it/s]\n",
      "100%|██████████| 625/625 [00:18<00:00, 34.55it/s]\n",
      "100%|██████████| 625/625 [00:13<00:00, 48.06it/s]\n",
      "100%|██████████| 625/625 [00:15<00:00, 41.59it/s]\n",
      "100%|██████████| 625/625 [00:16<00:00, 39.01it/s]\n",
      "100%|█████████▉| 622/625 [00:17<00:00, 42.30it/s]\n",
      "100%|██████████| 625/625 [00:17<00:00, 36.39it/s]\n",
      "100%|██████████| 625/625 [00:18<00:00, 33.32it/s]\n",
      "100%|██████████| 625/625 [00:19<00:00, 31.87it/s]\n",
      "100%|██████████| 625/625 [00:19<00:00, 31.59it/s]\n",
      "100%|██████████| 625/625 [00:15<00:00, 40.70it/s]\n",
      "100%|██████████| 625/625 [00:15<00:00, 39.30it/s]\n",
      "100%|██████████| 625/625 [00:15<00:00, 39.21it/s]\n",
      "100%|██████████| 625/625 [00:16<00:00, 38.65it/s]\n",
      "100%|██████████| 625/625 [00:16<00:00, 38.05it/s]\n",
      "100%|██████████| 625/625 [00:17<00:00, 35.19it/s]\n",
      "100%|██████████| 625/625 [00:18<00:00, 33.10it/s]\n",
      "100%|██████████| 625/625 [00:19<00:00, 31.80it/s]\n",
      "100%|██████████| 625/625 [00:12<00:00, 51.32it/s]\n",
      "100%|██████████| 625/625 [00:12<00:00, 49.49it/s]\n",
      "100%|██████████| 625/625 [00:13<00:00, 46.40it/s]\n",
      "100%|██████████| 625/625 [00:14<00:00, 42.93it/s]\n",
      "100%|██████████| 625/625 [00:15<00:00, 39.52it/s]\n",
      "100%|██████████| 625/625 [00:16<00:00, 38.76it/s]\n",
      "100%|██████████| 625/625 [00:17<00:00, 36.06it/s]\n",
      "100%|██████████| 625/625 [00:18<00:00, 34.52it/s]\n",
      "100%|██████████| 625/625 [00:12<00:00, 50.52it/s]\n",
      "100%|██████████| 625/625 [00:12<00:00, 49.16it/s]\n",
      " 87%|████████▋ | 543/625 [00:13<00:01, 45.83it/s]IOPub message rate exceeded.\n",
      "The notebook server will temporarily stop sending output\n",
      "to the client in order to avoid crashing it.\n",
      "To change this limit, set the config variable\n",
      "`--NotebookApp.iopub_msg_rate_limit`.\n",
      "\n",
      "Current values:\n",
      "NotebookApp.iopub_msg_rate_limit=1000.0 (msgs/sec)\n",
      "NotebookApp.rate_limit_window=3.0 (secs)\n",
      "\n",
      "100%|██████████| 625/625 [00:12<00:00, 49.44it/s]\n",
      "100%|██████████| 625/625 [00:13<00:00, 47.99it/s]\n",
      "100%|██████████| 625/625 [00:16<00:00, 38.93it/s]\n",
      " 96%|█████████▋| 602/625 [00:16<00:00, 49.38it/s]\n",
      "100%|██████████| 625/625 [00:16<00:00, 36.89it/s]\n",
      "100%|██████████| 625/625 [00:17<00:00, 35.16it/s]\n",
      "100%|██████████| 625/625 [00:18<00:00, 33.55it/s]\n",
      "100%|██████████| 625/625 [00:19<00:00, 32.45it/s]\n",
      "100%|██████████| 625/625 [00:14<00:00, 43.39it/s]\n",
      "100%|██████████| 625/625 [00:14<00:00, 42.93it/s]\n",
      "100%|██████████| 625/625 [00:14<00:00, 42.52it/s]\n",
      "100%|██████████| 625/625 [00:14<00:00, 42.07it/s]\n",
      "100%|██████████| 625/625 [00:17<00:00, 36.68it/s]\n",
      "100%|██████████| 625/625 [00:17<00:00, 34.94it/s]\n",
      "100%|██████████| 625/625 [00:18<00:00, 34.00it/s]\n",
      "100%|██████████| 625/625 [00:18<00:00, 33.22it/s]\n",
      "100%|██████████| 625/625 [00:15<00:00, 39.79it/s]\n",
      "100%|██████████| 625/625 [00:15<00:00, 39.51it/s]\n",
      "100%|██████████| 625/625 [00:16<00:00, 37.58it/s]\n",
      "100%|██████████| 625/625 [00:18<00:00, 33.38it/s]\n",
      "100%|██████████| 625/625 [00:20<00:00, 30.65it/s]\n",
      "100%|██████████| 625/625 [00:20<00:00, 30.46it/s]\n",
      "100%|██████████| 625/625 [00:21<00:00, 29.75it/s]\n",
      "100%|██████████| 625/625 [00:21<00:00, 29.60it/s]\n",
      "100%|██████████| 625/625 [00:16<00:00, 37.57it/s]\n",
      "100%|██████████| 625/625 [00:16<00:00, 36.79it/s]\n",
      "100%|██████████| 625/625 [00:17<00:00, 36.21it/s]\n",
      "100%|██████████| 625/625 [00:18<00:00, 34.05it/s]\n",
      "100%|██████████| 625/625 [00:18<00:00, 33.00it/s]\n",
      "100%|██████████| 625/625 [00:19<00:00, 31.66it/s]\n",
      "100%|██████████| 625/625 [00:20<00:00, 30.29it/s]\n",
      "100%|██████████| 625/625 [00:21<00:00, 28.98it/s]\n",
      " 46%|████▌     | 288/625 [00:08<00:10, 33.16it/s]IOPub message rate exceeded.\n",
      "The notebook server will temporarily stop sending output\n",
      "to the client in order to avoid crashing it.\n",
      "To change this limit, set the config variable\n",
      "`--NotebookApp.iopub_msg_rate_limit`.\n",
      "\n",
      "Current values:\n",
      "NotebookApp.iopub_msg_rate_limit=1000.0 (msgs/sec)\n",
      "NotebookApp.rate_limit_window=3.0 (secs)\n",
      "\n",
      "100%|██████████| 625/625 [00:16<00:00, 38.07it/s]\n",
      "100%|██████████| 625/625 [00:16<00:00, 37.70it/s]\n"
     ]
    },
    {
     "name": "stderr",
     "output_type": "stream",
     "text": [
      " 82%|████████▏ | 512/625 [00:17<00:02, 39.33it/s]\n",
      "100%|██████████| 625/625 [00:17<00:00, 35.00it/s]\n",
      "100%|██████████| 625/625 [00:18<00:00, 33.14it/s]\n",
      " 94%|█████████▍| 588/625 [00:19<00:00, 43.74it/s]"
     ]
    },
    {
     "name": "stdout",
     "output_type": "stream",
     "text": [
      "Empty generated field: ('targets', [])\n"
     ]
    },
    {
     "name": "stderr",
     "output_type": "stream",
     "text": [
      "100%|██████████| 625/625 [00:19<00:00, 31.56it/s]\n",
      "100%|██████████| 625/625 [00:19<00:00, 31.30it/s]\n",
      "100%|██████████| 625/625 [00:20<00:00, 30.54it/s]\n",
      "100%|██████████| 625/625 [00:12<00:00, 51.63it/s]\n",
      "100%|██████████| 625/625 [00:13<00:00, 47.66it/s]\n",
      "100%|██████████| 625/625 [00:13<00:00, 46.29it/s]\n",
      "100%|██████████| 625/625 [00:13<00:00, 44.89it/s]\n",
      "100%|██████████| 625/625 [00:14<00:00, 41.76it/s]\n",
      "100%|██████████| 625/625 [00:15<00:00, 40.28it/s]\n",
      "100%|██████████| 625/625 [00:15<00:00, 39.06it/s]\n",
      "100%|██████████| 625/625 [00:17<00:00, 35.61it/s]\n",
      " 74%|███████▎  | 460/625 [00:14<00:04, 33.34it/s]\n",
      "100%|██████████| 625/625 [00:16<00:00, 38.75it/s]\n",
      "100%|██████████| 625/625 [00:17<00:00, 35.76it/s]\n",
      "100%|██████████| 625/625 [00:17<00:00, 34.99it/s]\n",
      "100%|██████████| 625/625 [00:17<00:00, 34.95it/s]\n",
      "100%|██████████| 625/625 [00:18<00:00, 34.46it/s]\n",
      "100%|██████████| 625/625 [00:18<00:00, 34.06it/s]\n",
      "100%|██████████| 625/625 [00:20<00:00, 30.96it/s]\n",
      " 31%|███▏      | 196/625 [00:04<00:09, 46.99it/s]IOPub message rate exceeded.\n",
      "The notebook server will temporarily stop sending output\n",
      "to the client in order to avoid crashing it.\n",
      "To change this limit, set the config variable\n",
      "`--NotebookApp.iopub_msg_rate_limit`.\n",
      "\n",
      "Current values:\n",
      "NotebookApp.iopub_msg_rate_limit=1000.0 (msgs/sec)\n",
      "NotebookApp.rate_limit_window=3.0 (secs)\n",
      "\n",
      "100%|██████████| 625/625 [00:14<00:00, 42.76it/s]\n",
      " 90%|█████████ | 563/625 [00:15<00:01, 52.54it/s]\n",
      " 89%|████████▉ | 555/625 [00:16<00:01, 39.13it/s]\n",
      "100%|██████████| 625/625 [00:17<00:00, 36.55it/s]\n",
      "100%|██████████| 625/625 [00:18<00:00, 34.65it/s]\n",
      "100%|██████████| 625/625 [00:18<00:00, 34.11it/s]\n",
      "100%|██████████| 625/625 [00:18<00:00, 33.23it/s]\n",
      "100%|██████████| 625/625 [00:18<00:00, 32.96it/s]\n",
      "100%|██████████| 625/625 [00:14<00:00, 43.25it/s]\n",
      "100%|██████████| 625/625 [00:14<00:00, 42.10it/s]\n",
      "100%|██████████| 625/625 [00:15<00:00, 39.92it/s]\n",
      "100%|██████████| 625/625 [00:15<00:00, 39.53it/s]\n",
      "100%|██████████| 625/625 [00:16<00:00, 37.96it/s]\n",
      "100%|██████████| 625/625 [00:17<00:00, 36.54it/s]\n",
      "100%|██████████| 625/625 [00:17<00:00, 35.70it/s]\n",
      "100%|██████████| 625/625 [00:18<00:00, 34.20it/s]\n",
      "100%|██████████| 625/625 [00:14<00:00, 42.37it/s]\n",
      "100%|██████████| 625/625 [00:17<00:00, 36.12it/s]\n",
      "100%|██████████| 625/625 [00:18<00:00, 33.39it/s]\n",
      " 95%|█████████▌| 595/625 [00:18<00:00, 37.21it/s]IOPub message rate exceeded.\n",
      "The notebook server will temporarily stop sending output\n",
      "to the client in order to avoid crashing it.\n",
      "To change this limit, set the config variable\n",
      "`--NotebookApp.iopub_msg_rate_limit`.\n",
      "\n",
      "Current values:\n",
      "NotebookApp.iopub_msg_rate_limit=1000.0 (msgs/sec)\n",
      "NotebookApp.rate_limit_window=3.0 (secs)\n",
      "\n",
      "100%|██████████| 625/625 [00:16<00:00, 39.00it/s]\n",
      "100%|██████████| 625/625 [00:17<00:00, 36.72it/s]\n",
      "100%|██████████| 625/625 [00:17<00:00, 35.05it/s]\n",
      "100%|██████████| 625/625 [00:18<00:00, 33.84it/s]\n",
      "100%|██████████| 625/625 [00:18<00:00, 32.96it/s]\n",
      "100%|██████████| 625/625 [00:20<00:00, 30.98it/s]\n",
      "100%|██████████| 625/625 [00:20<00:00, 30.87it/s]\n",
      "100%|██████████| 625/625 [00:21<00:00, 29.62it/s]\n",
      "100%|██████████| 625/625 [00:13<00:00, 45.00it/s]\n",
      "100%|██████████| 625/625 [00:14<00:00, 43.27it/s]\n",
      "100%|██████████| 625/625 [00:14<00:00, 43.06it/s]\n",
      "100%|██████████| 625/625 [00:15<00:00, 41.00it/s]\n",
      "100%|██████████| 625/625 [00:15<00:00, 40.08it/s]\n",
      "100%|██████████| 625/625 [00:15<00:00, 39.62it/s]\n",
      "100%|██████████| 625/625 [00:17<00:00, 36.69it/s]\n",
      "100%|██████████| 625/625 [00:18<00:00, 34.64it/s]\n",
      "  9%|▉         | 58/625 [00:01<00:12, 46.98it/s]"
     ]
    },
    {
     "name": "stdout",
     "output_type": "stream",
     "text": [
      "Empty generated field: ('targets', [])\n"
     ]
    },
    {
     "name": "stderr",
     "output_type": "stream",
     "text": [
      "100%|██████████| 625/625 [00:12<00:00, 48.53it/s]\n",
      " 92%|█████████▏| 578/625 [00:13<00:00, 48.46it/s]\n",
      "100%|██████████| 625/625 [00:13<00:00, 46.59it/s]\n",
      "100%|██████████| 625/625 [00:13<00:00, 46.02it/s]\n",
      "100%|██████████| 625/625 [00:13<00:00, 45.40it/s]\n",
      "100%|██████████| 625/625 [00:13<00:00, 45.22it/s]\n",
      "100%|██████████| 625/625 [00:14<00:00, 44.31it/s]\n",
      "100%|██████████| 625/625 [00:14<00:00, 43.67it/s]\n",
      " 31%|███       | 191/625 [00:04<00:09, 43.44it/s]IOPub message rate exceeded.\n",
      "The notebook server will temporarily stop sending output\n",
      "to the client in order to avoid crashing it.\n",
      "To change this limit, set the config variable\n",
      "`--NotebookApp.iopub_msg_rate_limit`.\n",
      "\n",
      "Current values:\n",
      "NotebookApp.iopub_msg_rate_limit=1000.0 (msgs/sec)\n",
      "NotebookApp.rate_limit_window=3.0 (secs)\n",
      "\n",
      "100%|██████████| 625/625 [00:14<00:00, 43.07it/s]\n",
      "100%|██████████| 625/625 [00:14<00:00, 43.05it/s]\n",
      "100%|██████████| 625/625 [00:15<00:00, 41.20it/s]\n",
      "100%|██████████| 625/625 [00:15<00:00, 40.42it/s]\n",
      "100%|██████████| 625/625 [00:15<00:00, 39.91it/s]\n",
      "100%|██████████| 625/625 [00:16<00:00, 38.69it/s]\n",
      "100%|██████████| 625/625 [00:17<00:00, 36.32it/s]\n",
      "100%|██████████| 625/625 [00:19<00:00, 32.05it/s]\n",
      "100%|██████████| 625/625 [00:14<00:00, 41.69it/s]\n",
      "100%|██████████| 625/625 [00:15<00:00, 39.68it/s]\n",
      "100%|██████████| 625/625 [00:17<00:00, 36.28it/s]\n",
      "100%|██████████| 625/625 [00:17<00:00, 35.70it/s]\n",
      "100%|██████████| 625/625 [00:18<00:00, 34.42it/s]\n",
      "100%|██████████| 625/625 [00:19<00:00, 32.42it/s]\n",
      "100%|██████████| 625/625 [00:19<00:00, 32.34it/s]\n",
      "100%|██████████| 625/625 [00:19<00:00, 31.40it/s]\n",
      "100%|██████████| 625/625 [00:14<00:00, 43.14it/s]\n",
      "100%|██████████| 625/625 [00:14<00:00, 42.64it/s]\n",
      "100%|██████████| 625/625 [00:15<00:00, 39.88it/s]\n",
      "100%|██████████| 625/625 [00:15<00:00, 39.65it/s]\n",
      "100%|██████████| 625/625 [00:16<00:00, 37.81it/s]\n",
      "100%|██████████| 625/625 [00:17<00:00, 35.56it/s]\n",
      "100%|██████████| 625/625 [00:18<00:00, 34.33it/s]\n",
      "100%|██████████| 625/625 [00:19<00:00, 32.48it/s]\n",
      "  8%|▊         | 48/625 [00:01<00:20, 28.19it/s]IOPub message rate exceeded.\n",
      "The notebook server will temporarily stop sending output\n",
      "to the client in order to avoid crashing it.\n",
      "To change this limit, set the config variable\n",
      "`--NotebookApp.iopub_msg_rate_limit`.\n",
      "\n",
      "Current values:\n",
      "NotebookApp.iopub_msg_rate_limit=1000.0 (msgs/sec)\n",
      "NotebookApp.rate_limit_window=3.0 (secs)\n",
      "\n",
      "100%|██████████| 625/625 [00:13<00:00, 47.91it/s]\n",
      "100%|██████████| 625/625 [00:14<00:00, 43.73it/s]\n",
      "100%|██████████| 625/625 [00:14<00:00, 42.36it/s]\n",
      "100%|██████████| 625/625 [00:15<00:00, 39.94it/s]\n",
      "100%|██████████| 625/625 [00:16<00:00, 38.69it/s]\n",
      "100%|██████████| 625/625 [00:17<00:00, 36.56it/s]\n",
      "100%|██████████| 625/625 [00:17<00:00, 36.01it/s]\n",
      "100%|██████████| 625/625 [00:21<00:00, 29.66it/s]\n",
      "  0%|          | 0/625 [00:00<?, ?it/s]"
     ]
    },
    {
     "name": "stdout",
     "output_type": "stream",
     "text": [
      "Error opening 'train/5_2296/5_2296_20170701164250.wav': System error.\n",
      "Error opening 'train/5_2296/5_2296_20170701164312.wav': System error.\n",
      "Error opening 'train/5_2296/5_2296_20170701164322.wav': System error.\n",
      "Error opening 'train/5_2296/5_2296_20170701164331.wav': System error.\n",
      "Error opening 'train/5_2296/5_2296_20170701164354.wav': System error.\n",
      "Error opening 'train/5_2296/5_2296_20170701164401.wav': System error.\n",
      "Error opening 'train/5_2296/5_2296_20170701164417.wav': System error.\n",
      "Error opening 'train/5_2296/5_2296_20170701164424.wav': System error.\n",
      "Error opening 'train/5_2296/5_2296_20170701164432.wav': System error.\n",
      "Error opening 'train/5_2296/5_2296_20170701164439.wav': System error.\n"
     ]
    },
    {
     "name": "stderr",
     "output_type": "stream",
     "text": [
      "\r",
      "  0%|          | 3/625 [00:00<00:21, 28.36it/s]"
     ]
    },
    {
     "name": "stdout",
     "output_type": "stream",
     "text": [
      "Error opening 'train/5_2296/5_2296_20170701164445.wav': System error.\n"
     ]
    },
    {
     "name": "stderr",
     "output_type": "stream",
     "text": [
      "\r",
      "  1%|          | 6/625 [00:00<00:11, 53.58it/s]"
     ]
    },
    {
     "name": "stdout",
     "output_type": "stream",
     "text": [
      "Error opening 'train/5_2296/5_2296_20170701164455.wav': System error."
     ]
    },
    {
     "name": "stderr",
     "output_type": "stream",
     "text": [
      "\r",
      "  1%|          | 4/625 [00:00<00:17, 34.96it/s]"
     ]
    },
    {
     "name": "stdout",
     "output_type": "stream",
     "text": [
      "\n",
      "Error opening 'train/5_2296/5_2296_20170701164502.wav': System error.\n",
      "Error opening 'train/5_2296/5_2296_20170701164508.wav': System error.\n"
     ]
    },
    {
     "name": "stderr",
     "output_type": "stream",
     "text": [
      "  2%|▏         | 14/625 [00:00<00:04, 129.51it/s]"
     ]
    },
    {
     "name": "stdout",
     "output_type": "stream",
     "text": [
      "Error opening 'train/5_2296/5_2296_20170701164518.wav': System error.\n",
      "Error opening 'train/5_2296/5_2296_20170701164531.wav': System error."
     ]
    },
    {
     "name": "stderr",
     "output_type": "stream",
     "text": [
      "\r",
      "  0%|          | 3/625 [00:00<00:24, 25.65it/s]"
     ]
    },
    {
     "name": "stdout",
     "output_type": "stream",
     "text": [
      "\n"
     ]
    },
    {
     "name": "stderr",
     "output_type": "stream",
     "text": [
      "\r",
      "  1%|          | 4/625 [00:00<00:19, 31.52it/s]"
     ]
    },
    {
     "name": "stdout",
     "output_type": "stream",
     "text": [
      "Error opening 'train/5_2296/5_2296_20170701164537.wav': System error.\n",
      "Error opening 'train/5_2296/5_2296_20170701164544.wav': System error.\n",
      "Error opening 'train/5_2296/5_2296_20170701164551.wav': System error.\n",
      "Error opening 'train/5_2296/5_2296_20170701164612.wav': System error.\n",
      "Error opening 'train/5_2296/5_2296_20170701164619.wav': System error.\n",
      "Error opening 'train/5_2296/5_2296_20170701164634.wav': System error."
     ]
    },
    {
     "name": "stderr",
     "output_type": "stream",
     "text": [
      "  1%|          | 7/625 [00:00<00:18, 32.71it/s]]"
     ]
    },
    {
     "name": "stdout",
     "output_type": "stream",
     "text": [
      "\n",
      "Error opening 'train/5_2296/5_2296_20170701164649.wav': System error.\n",
      "Error opening 'train/5_2296/5_2296_20170701164708.wav': System error.\n",
      "Error opening 'train/5_2296/5_2296_20170701164716.wav': System error.\n",
      "Error opening 'train/5_2296/5_2296_20170701164820.wav': System error.\n",
      "Error opening 'train/5_2296/5_2296_20170701164826.wav': System error."
     ]
    },
    {
     "name": "stderr",
     "output_type": "stream",
     "text": [
      "\r",
      "  1%|          | 6/625 [00:00<00:22, 27.57it/s]"
     ]
    },
    {
     "name": "stdout",
     "output_type": "stream",
     "text": [
      "\n"
     ]
    },
    {
     "name": "stderr",
     "output_type": "stream",
     "text": [
      "\r",
      "  4%|▍         | 27/625 [00:00<00:05, 117.06it/s]"
     ]
    },
    {
     "name": "stdout",
     "output_type": "stream",
     "text": [
      "Error opening 'train/5_2296/5_2296_20170701164843.wav': System error.\n"
     ]
    },
    {
     "name": "stderr",
     "output_type": "stream",
     "text": [
      "\r",
      "  1%|          | 7/625 [00:00<00:21, 29.04it/s]"
     ]
    },
    {
     "name": "stdout",
     "output_type": "stream",
     "text": [
      "Error opening 'train/5_2296/5_2296_20170701164852.wav': System error."
     ]
    },
    {
     "name": "stderr",
     "output_type": "stream",
     "text": [
      "\r",
      "  1%|          | 7/625 [00:00<00:22, 27.49it/s]"
     ]
    },
    {
     "name": "stdout",
     "output_type": "stream",
     "text": [
      "\n",
      "Error opening 'train/5_2296/5_2296_20170701164858.wav': System error.\n"
     ]
    },
    {
     "name": "stderr",
     "output_type": "stream",
     "text": [
      "\r",
      "  1%|▏         | 8/625 [00:00<00:19, 31.99it/s]"
     ]
    },
    {
     "name": "stdout",
     "output_type": "stream",
     "text": [
      "Error opening 'train/5_2296/5_2296_20170701164904.wav': System error.\n",
      "Error opening 'train/5_2296/5_2296_20170701164909.wav': System error.\n",
      "Error opening 'train/5_2296/5_2296_20170701164916.wav': System error.\n",
      "Error opening 'train/5_2296/5_2296_20170701164921.wav': System error.\n",
      "Error opening 'train/5_2296/5_2296_20170701164929.wav': System error.\n",
      "Error opening 'train/5_2296/5_2296_20170701165010.wav': System error.\n",
      "Error opening 'train/5_2296/5_2296_20170701165021.wav': System error.\n",
      "Error opening 'train/5_2296/5_2296_20170701165028.wav': System error.\n"
     ]
    },
    {
     "name": "stderr",
     "output_type": "stream",
     "text": [
      "\r",
      "  2%|▏         | 12/625 [00:00<00:17, 35.00it/s]"
     ]
    },
    {
     "name": "stdout",
     "output_type": "stream",
     "text": [
      "Error opening 'train/5_2296/5_2296_20170701165034.wav': System error."
     ]
    },
    {
     "name": "stderr",
     "output_type": "stream",
     "text": [
      "\r",
      "  2%|▏         | 11/625 [00:00<00:19, 32.15it/s]"
     ]
    },
    {
     "name": "stdout",
     "output_type": "stream",
     "text": [
      "\n"
     ]
    },
    {
     "name": "stderr",
     "output_type": "stream",
     "text": [
      "\r",
      "  3%|▎         | 20/625 [00:00<00:10, 58.24it/s]"
     ]
    },
    {
     "name": "stdout",
     "output_type": "stream",
     "text": [
      "Error opening 'train/5_2296/5_2296_20170701165040.wav': System error.\n"
     ]
    },
    {
     "name": "stderr",
     "output_type": "stream",
     "text": [
      "\r",
      "  6%|▋         | 40/625 [00:00<00:04, 121.45it/s]"
     ]
    },
    {
     "name": "stdout",
     "output_type": "stream",
     "text": [
      "Error opening 'train/5_2296/5_2296_20170701165046.wav': System error.\n",
      "Error opening 'train/5_2296/5_2296_20170701165052.wav': System error.\n",
      "Error opening 'train/5_2296/5_2296_20170701165102.wav': System error.\n"
     ]
    },
    {
     "name": "stderr",
     "output_type": "stream",
     "text": [
      "\r",
      "  1%|▏         | 9/625 [00:00<00:23, 25.70it/s]"
     ]
    },
    {
     "name": "stdout",
     "output_type": "stream",
     "text": [
      "Error opening 'train/5_2296/5_2296_20170701165115.wav': System error."
     ]
    },
    {
     "name": "stderr",
     "output_type": "stream",
     "text": [
      "\r",
      "  2%|▏         | 12/625 [00:00<00:17, 34.88it/s]"
     ]
    },
    {
     "name": "stdout",
     "output_type": "stream",
     "text": [
      "\n"
     ]
    },
    {
     "name": "stderr",
     "output_type": "stream",
     "text": [
      "\r",
      "  2%|▏         | 11/625 [00:00<00:20, 29.25it/s]"
     ]
    },
    {
     "name": "stdout",
     "output_type": "stream",
     "text": [
      "Error opening 'train/5_2296/5_2296_20170701165121.wav': System error.\n"
     ]
    },
    {
     "name": "stderr",
     "output_type": "stream",
     "text": [
      "\r",
      "  2%|▏         | 11/625 [00:00<00:20, 29.45it/s]"
     ]
    },
    {
     "name": "stdout",
     "output_type": "stream",
     "text": [
      "Error opening 'train/5_2296/5_2296_20170701165129.wav': System error.\n",
      "Error opening 'train/5_2296/5_2296_20170701165220.wav': System error.\n",
      "Error opening 'train/5_2296/5_2296_20170701165251.wav': System error.\n",
      "Error opening 'train/5_2296/5_2296_20170701165256.wav': System error.\n"
     ]
    },
    {
     "name": "stderr",
     "output_type": "stream",
     "text": [
      "\r",
      "  3%|▎         | 16/625 [00:00<00:16, 36.65it/s]"
     ]
    },
    {
     "name": "stdout",
     "output_type": "stream",
     "text": [
      "Error opening 'train/5_2296/5_2296_20170701165319.wav': System error.\n"
     ]
    },
    {
     "name": "stderr",
     "output_type": "stream",
     "text": [
      "\r",
      "  4%|▍         | 26/625 [00:00<00:10, 57.68it/s]"
     ]
    },
    {
     "name": "stdout",
     "output_type": "stream",
     "text": [
      "Error opening 'train/5_2296/5_2296_20170701165324.wav': System error.\n",
      "Error opening 'train/5_2296/5_2296_20170701165343.wav': System error.\n",
      "Error opening 'train/5_2296/5_2296_20170701165418.wav': System error.\n"
     ]
    },
    {
     "name": "stderr",
     "output_type": "stream",
     "text": [
      "\r",
      "  8%|▊         | 53/625 [00:00<00:04, 117.87it/s]"
     ]
    },
    {
     "name": "stdout",
     "output_type": "stream",
     "text": [
      "Error opening 'train/5_2296/5_2296_20170701165432.wav': System error.\n",
      "Error opening 'train/5_2296/5_2296_20170701165442.wav': System error."
     ]
    },
    {
     "name": "stderr",
     "output_type": "stream",
     "text": [
      "\r",
      "  2%|▏         | 15/625 [00:00<00:20, 30.43it/s]"
     ]
    },
    {
     "name": "stdout",
     "output_type": "stream",
     "text": [
      "\n"
     ]
    },
    {
     "name": "stderr",
     "output_type": "stream",
     "text": [
      "  2%|▏         | 14/625 [00:00<00:20, 29.12it/s]"
     ]
    },
    {
     "name": "stdout",
     "output_type": "stream",
     "text": [
      "Error opening 'train/5_2296/5_2296_20170701165453.wav': System error.\n",
      "Error opening 'train/5_2296/5_2296_20170701165502.wav': System error.\n"
     ]
    },
    {
     "name": "stderr",
     "output_type": "stream",
     "text": [
      "\r",
      "  3%|▎         | 17/625 [00:00<00:16, 37.30it/s]"
     ]
    },
    {
     "name": "stdout",
     "output_type": "stream",
     "text": [
      "Error opening 'train/5_2296/5_2296_20170701165522.wav': System error.\n",
      "Error opening 'train/5_2296/5_2296_20170701165534.wav': System error.\n"
     ]
    },
    {
     "name": "stderr",
     "output_type": "stream",
     "text": [
      "\r",
      "  2%|▏         | 15/625 [00:00<00:19, 30.53it/s]"
     ]
    },
    {
     "name": "stdout",
     "output_type": "stream",
     "text": [
      "Error opening 'train/5_2296/5_2296_20170701165543.wav': System error.\n",
      "Error opening 'train/5_2296/5_2296_20170701165549.wav': System error.\n"
     ]
    },
    {
     "name": "stderr",
     "output_type": "stream",
     "text": [
      "\r",
      "  3%|▎         | 20/625 [00:00<00:16, 37.74it/s]"
     ]
    },
    {
     "name": "stdout",
     "output_type": "stream",
     "text": [
      "Error opening 'train/5_2296/5_2296_20170701165556.wav': System error.\n",
      "Error opening 'train/5_2296/5_2296_20170701165601.wav': System error.\n",
      "Error opening 'train/5_2296/5_2296_20170701165623.wav': System error."
     ]
    },
    {
     "name": "stderr",
     "output_type": "stream",
     "text": [
      "\r",
      "  5%|▌         | 32/625 [00:00<00:10, 56.37it/s]"
     ]
    },
    {
     "name": "stdout",
     "output_type": "stream",
     "text": [
      "\n",
      "Error opening 'train/5_2296/5_2296_20170701165631.wav': System error.\n",
      "Error opening 'train/5_2296/5_2296_20170701165636.wav': System error.\n"
     ]
    },
    {
     "name": "stderr",
     "output_type": "stream",
     "text": [
      "\r",
      " 11%|█         | 66/625 [00:00<00:04, 115.61it/s]"
     ]
    },
    {
     "name": "stdout",
     "output_type": "stream",
     "text": [
      "Error opening 'train/5_2296/5_2296_20170701165655.wav': System error.\n"
     ]
    },
    {
     "name": "stderr",
     "output_type": "stream",
     "text": [
      "\r",
      "  3%|▎         | 17/625 [00:00<00:20, 29.23it/s]"
     ]
    },
    {
     "name": "stdout",
     "output_type": "stream",
     "text": [
      "Error opening 'train/5_2296/5_2296_20170701165852.wav': System error.\n",
      "Error opening 'train/5_2296/5_2296_20170701165905.wav': System error.\n",
      "Error opening 'train/5_2296/5_2296_20170701170041.wav': System error.\n",
      "Error opening 'train/5_2296/5_2296_20170701170047.wav': System error.\n",
      "Error opening 'train/5_2296/5_2296_20170701170055.wav': System error."
     ]
    },
    {
     "name": "stderr",
     "output_type": "stream",
     "text": [
      "\r",
      "  3%|▎         | 19/625 [00:00<00:20, 30.13it/s]"
     ]
    },
    {
     "name": "stdout",
     "output_type": "stream",
     "text": [
      "\n",
      "Error opening 'train/5_2296/5_2296_20170701170101.wav': System error.\n"
     ]
    },
    {
     "name": "stderr",
     "output_type": "stream",
     "text": [
      "  2%|▏         | 15/625 [00:00<00:24, 24.65it/s]"
     ]
    },
    {
     "name": "stdout",
     "output_type": "stream",
     "text": [
      "Error opening 'train/5_2296/5_2296_20170701170109.wav': System error.\n",
      "Error opening 'train/5_2296/5_2296_20170701170124.wav': System error.\n"
     ]
    },
    {
     "name": "stderr",
     "output_type": "stream",
     "text": [
      "  3%|▎         | 20/625 [00:00<00:17, 33.89it/s]"
     ]
    },
    {
     "name": "stdout",
     "output_type": "stream",
     "text": [
      "Error opening 'train/5_2296/5_2296_20170701170139.wav': System error.\n",
      "Error opening 'train/5_2296/5_2296_20170701170145.wav': System error."
     ]
    },
    {
     "name": "stderr",
     "output_type": "stream",
     "text": [
      "\r",
      "  6%|▌         | 38/625 [00:00<00:10, 56.85it/s]"
     ]
    },
    {
     "name": "stdout",
     "output_type": "stream",
     "text": [
      "\n",
      "Error opening 'train/5_2296/5_2296_20170701170152.wav': System error.\n",
      "Error opening 'train/5_2296/5_2296_20170701170158.wav': System error.\n"
     ]
    },
    {
     "name": "stderr",
     "output_type": "stream",
     "text": [
      "\r",
      " 13%|█▎        | 79/625 [00:00<00:04, 117.25it/s]"
     ]
    },
    {
     "name": "stdout",
     "output_type": "stream",
     "text": [
      "Error opening 'train/5_2296/5_2296_20170701170213.wav': System error.\n",
      "Error opening 'train/5_2296/5_2296_20170701170235.wav': System error.\n",
      "Error opening 'train/5_2296/5_2296_20170701170241.wav': System error."
     ]
    },
    {
     "name": "stderr",
     "output_type": "stream",
     "text": [
      "\r",
      "  3%|▎         | 20/625 [00:00<00:22, 27.06it/s]"
     ]
    },
    {
     "name": "stdout",
     "output_type": "stream",
     "text": [
      "\n",
      "Error opening 'train/5_2296/5_2296_20170701170248.wav': System error.\n",
      "Error opening 'train/5_2296/5_2296_20170701170254.wav': System error.\n",
      "Error opening 'train/5_2296/5_2296_20170701170312.wav': System error."
     ]
    },
    {
     "name": "stderr",
     "output_type": "stream",
     "text": [
      "\r",
      "  4%|▍         | 26/625 [00:00<00:15, 37.76it/s]"
     ]
    },
    {
     "name": "stdout",
     "output_type": "stream",
     "text": [
      "\n"
     ]
    },
    {
     "name": "stderr",
     "output_type": "stream",
     "text": [
      "\r",
      "  4%|▍         | 24/625 [00:00<00:16, 35.64it/s]"
     ]
    },
    {
     "name": "stdout",
     "output_type": "stream",
     "text": [
      "Error opening 'train/5_2296/5_2296_20170701170326.wav': System error.\n"
     ]
    },
    {
     "name": "stderr",
     "output_type": "stream",
     "text": [
      "\r",
      "  3%|▎         | 19/625 [00:00<00:22, 27.32it/s]"
     ]
    },
    {
     "name": "stdout",
     "output_type": "stream",
     "text": [
      "Error opening 'train/5_2296/5_2296_20170701170332.wav': System error.\n"
     ]
    },
    {
     "name": "stderr",
     "output_type": "stream",
     "text": [
      "  4%|▍         | 28/625 [00:00<00:16, 36.88it/s]"
     ]
    },
    {
     "name": "stdout",
     "output_type": "stream",
     "text": [
      "Error opening 'train/5_2296/5_2296_20170701170338.wav': System error.\n",
      "Error opening 'train/5_2296/5_2296_20170701170345.wav': System error.\n",
      "Error opening 'train/5_2296/5_2296_20170701170404.wav': System error.\n",
      "Error opening 'train/5_2296/5_2296_20170701170409.wav': System error.\n",
      "Error opening 'train/5_2296/5_2296_20170701170415.wav': System error.\n"
     ]
    },
    {
     "name": "stderr",
     "output_type": "stream",
     "text": [
      "\r",
      " 15%|█▍        | 92/625 [00:00<00:04, 118.11it/s]"
     ]
    },
    {
     "name": "stdout",
     "output_type": "stream",
     "text": [
      "Error opening 'train/5_2296/5_2296_20170701170424.wav': System error.\n",
      "Error opening 'train/5_2296/5_2296_20170701170441.wav': System error."
     ]
    },
    {
     "name": "stderr",
     "output_type": "stream",
     "text": [
      "\r",
      "  7%|▋         | 44/625 [00:00<00:11, 50.19it/s]"
     ]
    },
    {
     "name": "stdout",
     "output_type": "stream",
     "text": [
      "\n",
      "Error opening 'train/5_2296/5_2296_20170701170446.wav': System error.\n",
      "Error opening 'train/5_2296/5_2296_20170701170502.wav': System error.\n",
      "Error opening 'train/5_2296/5_2296_20170701170515.wav': System error."
     ]
    },
    {
     "name": "stderr",
     "output_type": "stream",
     "text": [
      "\r",
      "  5%|▍         | 31/625 [00:00<00:14, 40.49it/s]"
     ]
    },
    {
     "name": "stdout",
     "output_type": "stream",
     "text": [
      "\n",
      "Error opening 'train/5_2296/5_2296_20170701170524.wav': System error.\n"
     ]
    },
    {
     "name": "stderr",
     "output_type": "stream",
     "text": [
      "  5%|▌         | 32/625 [00:00<00:15, 37.32it/s]"
     ]
    },
    {
     "name": "stdout",
     "output_type": "stream",
     "text": [
      "Error opening 'train/5_2296/5_2296_20170701170531.wav': System error."
     ]
    },
    {
     "name": "stderr",
     "output_type": "stream",
     "text": [
      "\r",
      "  4%|▍         | 27/625 [00:00<00:18, 31.73it/s]"
     ]
    },
    {
     "name": "stdout",
     "output_type": "stream",
     "text": [
      "\n",
      "Error opening 'train/5_2296/5_2296_20170701170538.wav': System error.\n",
      "Error opening 'train/5_2296/5_2296_20170701170544.wav': System error.\n",
      "Error opening 'train/5_2296/5_2296_20170701170554.wav': System error.\n"
     ]
    },
    {
     "name": "stderr",
     "output_type": "stream",
     "text": [
      "\r",
      "  4%|▎         | 22/625 [00:00<00:24, 24.96it/s]"
     ]
    },
    {
     "name": "stdout",
     "output_type": "stream",
     "text": [
      "Error opening 'train/5_2296/5_2296_20170701170602.wav': System error.\n",
      "Error opening 'train/5_2296/5_2296_20170701170607.wav': System error.\n"
     ]
    },
    {
     "name": "stderr",
     "output_type": "stream",
     "text": [
      " 17%|█▋        | 104/625 [00:00<00:04, 115.27it/s]"
     ]
    },
    {
     "name": "stdout",
     "output_type": "stream",
     "text": [
      "Error opening 'train/5_2296/5_2296_20170701170620.wav': System error.\n",
      "Error opening 'train/5_2296/5_2296_20170701170626.wav': System error.\n",
      "Error opening 'train/5_2296/5_2296_20170701170633.wav': System error."
     ]
    },
    {
     "name": "stderr",
     "output_type": "stream",
     "text": [
      "\r",
      "  8%|▊         | 50/625 [00:00<00:11, 48.17it/s]"
     ]
    },
    {
     "name": "stdout",
     "output_type": "stream",
     "text": [
      "\n",
      "Error opening 'train/5_2296/5_2296_20170701170638.wav': System error.\n",
      "Error opening 'train/5_2296/5_2296_20170701170643.wav': System error.\n",
      "Error opening 'train/5_2296/5_2296_20170701170656.wav': System error.\n"
     ]
    },
    {
     "name": "stderr",
     "output_type": "stream",
     "text": [
      "  6%|▌         | 36/625 [00:00<00:14, 39.88it/s]"
     ]
    },
    {
     "name": "stdout",
     "output_type": "stream",
     "text": [
      "Error opening 'train/5_2296/5_2296_20170701170703.wav': System error."
     ]
    },
    {
     "name": "stderr",
     "output_type": "stream",
     "text": [
      "\r",
      "  4%|▍         | 27/625 [00:00<00:22, 26.76it/s]"
     ]
    },
    {
     "name": "stdout",
     "output_type": "stream",
     "text": [
      "\n",
      "Error opening 'train/5_2296/5_2296_20170701170709.wav': System error.\n",
      "Error opening 'train/5_2296/5_2296_20170701170714.wav': System error.\n"
     ]
    },
    {
     "name": "stderr",
     "output_type": "stream",
     "text": [
      "\r",
      "  5%|▍         | 31/625 [00:00<00:18, 31.51it/s]"
     ]
    },
    {
     "name": "stdout",
     "output_type": "stream",
     "text": [
      "Error opening 'train/5_2296/5_2296_20170701170721.wav': System error."
     ]
    },
    {
     "name": "stderr",
     "output_type": "stream",
     "text": [
      "\r",
      "  4%|▍         | 25/625 [00:00<00:23, 25.75it/s]"
     ]
    },
    {
     "name": "stdout",
     "output_type": "stream",
     "text": [
      "\n",
      "Error opening 'train/5_2296/5_2296_20170701170730.wav': System error.\n",
      "Error opening 'train/5_2296/5_2296_20170701170740.wav': System error."
     ]
    },
    {
     "name": "stderr",
     "output_type": "stream",
     "text": [
      "\r",
      "  5%|▌         | 33/625 [00:01<00:17, 34.82it/s]"
     ]
    },
    {
     "name": "stdout",
     "output_type": "stream",
     "text": [
      "\n"
     ]
    },
    {
     "name": "stderr",
     "output_type": "stream",
     "text": [
      "\r",
      " 19%|█▊        | 116/625 [00:01<00:04, 109.85it/s]"
     ]
    },
    {
     "name": "stdout",
     "output_type": "stream",
     "text": [
      "Error opening 'train/5_2296/5_2296_20170701170753.wav': System error.\n",
      "Error opening 'train/5_2296/5_2296_20170701170759.wav': System error.\n",
      "Error opening 'train/5_2296/5_2296_20170701170805.wav': System error.\n"
     ]
    },
    {
     "name": "stderr",
     "output_type": "stream",
     "text": [
      "\r",
      "  9%|▉         | 55/625 [00:01<00:11, 47.92it/s]"
     ]
    },
    {
     "name": "stdout",
     "output_type": "stream",
     "text": [
      "Error opening 'train/5_2296/5_2296_20170701170819.wav': System error.\n",
      "Error opening 'train/5_2296/5_2296_20170701170827.wav': System error.\n",
      "Error opening 'train/5_2296/5_2296_20170701170840.wav': System error.\n",
      "Error opening 'train/5_2296/5_2296_20170701170852.wav': System error.\n",
      "Error opening 'train/5_2296/5_2296_20170701170858.wav': System error."
     ]
    },
    {
     "name": "stderr",
     "output_type": "stream",
     "text": [
      "\r",
      "  6%|▋         | 40/625 [00:01<00:15, 37.38it/s]"
     ]
    },
    {
     "name": "stdout",
     "output_type": "stream",
     "text": [
      "\n",
      "Error opening 'train/5_2296/5_2296_20170701170908.wav': System error.\n",
      "Error opening 'train/5_2296/5_2296_20170701170913.wav': System error."
     ]
    },
    {
     "name": "stderr",
     "output_type": "stream",
     "text": [
      "\r",
      "  5%|▍         | 30/625 [00:01<00:22, 26.70it/s]"
     ]
    },
    {
     "name": "stdout",
     "output_type": "stream",
     "text": [
      "\n",
      "Error opening 'train/5_2296/5_2296_20170701170924.wav': System error."
     ]
    },
    {
     "name": "stderr",
     "output_type": "stream",
     "text": [
      "\r",
      "  7%|▋         | 41/625 [00:01<00:14, 38.98it/s]"
     ]
    },
    {
     "name": "stdout",
     "output_type": "stream",
     "text": [
      "\n",
      "Error opening 'train/5_2296/5_2296_20170701170932.wav': System error.\n"
     ]
    },
    {
     "name": "stderr",
     "output_type": "stream",
     "text": [
      "\r",
      "  5%|▍         | 29/625 [00:01<00:21, 28.03it/s]"
     ]
    },
    {
     "name": "stdout",
     "output_type": "stream",
     "text": [
      "Error opening 'train/5_2296/5_2296_20170701170937.wav': System error.\n"
     ]
    },
    {
     "name": "stderr",
     "output_type": "stream",
     "text": [
      " 21%|██        | 129/625 [00:01<00:04, 115.14it/s]"
     ]
    },
    {
     "name": "stdout",
     "output_type": "stream",
     "text": [
      "Error opening 'train/5_2296/5_2296_20170701170947.wav': System error."
     ]
    },
    {
     "name": "stderr",
     "output_type": "stream",
     "text": [
      "\r",
      "  6%|▌         | 35/625 [00:01<00:19, 29.95it/s]"
     ]
    },
    {
     "name": "stdout",
     "output_type": "stream",
     "text": [
      "\n",
      "Error opening 'train/5_2296/5_2296_20170701170955.wav': System error.\n",
      "Error opening 'train/5_2296/5_2296_20170701171001.wav': System error.\n",
      "Error opening 'train/5_2296/5_2296_20170701171007.wav': System error.\n",
      "Error opening 'train/5_2296/5_2296_20170701171015.wav': System error.\n",
      "Error opening 'train/5_2296/5_2296_20170701171022.wav': System error.\n"
     ]
    },
    {
     "name": "stderr",
     "output_type": "stream",
     "text": [
      "\r",
      " 10%|▉         | 60/625 [00:01<00:12, 44.81it/s]"
     ]
    },
    {
     "name": "stdout",
     "output_type": "stream",
     "text": [
      "Error opening 'train/5_2296/5_2296_20170701171028.wav': System error."
     ]
    },
    {
     "name": "stderr",
     "output_type": "stream",
     "text": [
      "\r",
      "  7%|▋         | 44/625 [00:01<00:15, 36.86it/s]"
     ]
    },
    {
     "name": "stdout",
     "output_type": "stream",
     "text": [
      "\n",
      "Error opening 'train/5_2296/5_2296_20170701171038.wav': System error.\n",
      "Error opening 'train/5_2296/5_2296_20170701171045.wav': System error.\n",
      "Error opening 'train/5_2296/5_2296_20170701171051.wav': System error."
     ]
    },
    {
     "name": "stderr",
     "output_type": "stream",
     "text": [
      "\r",
      "  5%|▌         | 34/625 [00:01<00:20, 28.47it/s]"
     ]
    },
    {
     "name": "stdout",
     "output_type": "stream",
     "text": [
      "\n"
     ]
    },
    {
     "name": "stderr",
     "output_type": "stream",
     "text": [
      "\r",
      "  5%|▌         | 32/625 [00:01<00:20, 28.29it/s]"
     ]
    },
    {
     "name": "stdout",
     "output_type": "stream",
     "text": [
      "Error opening 'train/5_2296/5_2296_20170701171104.wav': System error.\n",
      "Error opening 'train/5_2296/5_2296_20170701171110.wav': System error."
     ]
    },
    {
     "name": "stderr",
     "output_type": "stream",
     "text": [
      "\r",
      "  7%|▋         | 46/625 [00:01<00:14, 39.53it/s]"
     ]
    },
    {
     "name": "stdout",
     "output_type": "stream",
     "text": [
      "\n"
     ]
    },
    {
     "name": "stderr",
     "output_type": "stream",
     "text": [
      " 23%|██▎       | 141/625 [00:01<00:04, 114.89it/s]"
     ]
    },
    {
     "name": "stdout",
     "output_type": "stream",
     "text": [
      "Error opening 'train/5_2296/5_2296_20170701171116.wav': System error.\n",
      "Error opening 'train/5_2296/5_2296_20170701171121.wav': System error.\n",
      "Error opening 'train/5_2296/5_2296_20170701171131.wav': System error.\n",
      "Error opening 'train/5_2296/5_2296_20170701171136.wav': System error.\n",
      "Error opening 'train/5_2296/5_2296_20170701171145.wav': System error.\n",
      "Error opening 'train/5_2296/5_2296_20170701171152.wav': System error.\n",
      "Error opening 'train/5_2296/5_2296_20170701171157.wav': System error.\n"
     ]
    },
    {
     "name": "stderr",
     "output_type": "stream",
     "text": [
      "\r",
      " 11%|█         | 66/625 [00:01<00:11, 47.68it/s]"
     ]
    },
    {
     "name": "stdout",
     "output_type": "stream",
     "text": [
      "Error opening 'train/5_2296/5_2296_20170701171216.wav': System error."
     ]
    },
    {
     "name": "stderr",
     "output_type": "stream",
     "text": [
      "  8%|▊         | 48/625 [00:01<00:15, 37.41it/s]"
     ]
    },
    {
     "name": "stdout",
     "output_type": "stream",
     "text": [
      "\n",
      "Error opening 'train/5_2296/5_2296_20170701171254.wav': System error.\n",
      "Error opening 'train/5_2296/5_2296_20170701171300.wav': System error.\n",
      "Error opening 'train/5_2296/5_2296_20170701171312.wav': System error.\n"
     ]
    },
    {
     "name": "stderr",
     "output_type": "stream",
     "text": [
      "\r",
      "  6%|▌         | 38/625 [00:01<00:19, 30.42it/s]"
     ]
    },
    {
     "name": "stdout",
     "output_type": "stream",
     "text": [
      "Error opening 'train/5_2296/5_2296_20170701171332.wav': System error.\n",
      "Error opening 'train/5_2296/5_2296_20170701171341.wav': System error."
     ]
    },
    {
     "name": "stderr",
     "output_type": "stream",
     "text": [
      "  6%|▌         | 36/625 [00:01<00:19, 29.72it/s]"
     ]
    },
    {
     "name": "stdout",
     "output_type": "stream",
     "text": [
      "\n"
     ]
    },
    {
     "name": "stderr",
     "output_type": "stream",
     "text": [
      "\r",
      " 25%|██▍       | 154/625 [00:01<00:04, 116.11it/s]"
     ]
    },
    {
     "name": "stdout",
     "output_type": "stream",
     "text": [
      "Error opening 'train/5_2296/5_2296_20170701171346.wav': System error.\n"
     ]
    },
    {
     "name": "stderr",
     "output_type": "stream",
     "text": [
      "\r",
      "  7%|▋         | 45/625 [00:01<00:16, 34.40it/s]"
     ]
    },
    {
     "name": "stdout",
     "output_type": "stream",
     "text": [
      "Error opening 'train/5_2296/5_2296_20170701171354.wav': System error.\n",
      "Error opening 'train/5_2296/5_2296_20170701171359.wav': System error.\n",
      "Error opening 'train/5_2296/5_2296_20170701171408.wav': System error.\n",
      "Error opening 'train/5_2296/5_2296_20170701171413.wav': System error.\n",
      "Error opening 'train/5_2296/5_2296_20170701171427.wav': System error.\n",
      "Error opening 'train/5_2296/5_2296_20170701171433.wav': System error.\n",
      "Error opening 'train/5_2296/5_2296_20170701171445.wav': System error.\n"
     ]
    },
    {
     "name": "stderr",
     "output_type": "stream",
     "text": [
      "\r",
      " 12%|█▏        | 72/625 [00:01<00:11, 47.86it/s]"
     ]
    },
    {
     "name": "stdout",
     "output_type": "stream",
     "text": [
      "Error opening 'train/5_2296/5_2296_20170701171450.wav': System error.\n",
      "Error opening 'train/5_2296/5_2296_20170701171514.wav': System error."
     ]
    },
    {
     "name": "stderr",
     "output_type": "stream",
     "text": [
      "\r",
      "  7%|▋         | 42/625 [00:01<00:21, 27.17it/s]"
     ]
    },
    {
     "name": "stdout",
     "output_type": "stream",
     "text": [
      "\n",
      "Error opening 'train/5_2296/5_2296_20170701171522.wav': System error.\n",
      "Error opening 'train/5_2296/5_2296_20170701171538.wav': System error.\n",
      "Error opening 'train/5_2296/5_2296_20170701171550.wav': System error."
     ]
    },
    {
     "name": "stderr",
     "output_type": "stream",
     "text": [
      "\r",
      "  6%|▌         | 39/625 [00:01<00:19, 29.36it/s]"
     ]
    },
    {
     "name": "stdout",
     "output_type": "stream",
     "text": [
      "\n"
     ]
    },
    {
     "name": "stderr",
     "output_type": "stream",
     "text": [
      "  7%|▋         | 42/625 [00:01<00:18, 31.12it/s]s]"
     ]
    },
    {
     "name": "stdout",
     "output_type": "stream",
     "text": [
      "Error opening 'train/5_2296/5_2296_20170701171559.wav': System error."
     ]
    },
    {
     "name": "stderr",
     "output_type": "stream",
     "text": [
      "\r",
      "  8%|▊         | 53/625 [00:01<00:16, 33.68it/s]"
     ]
    },
    {
     "name": "stdout",
     "output_type": "stream",
     "text": [
      "\n",
      "Error opening 'train/5_2296/5_2296_20170701171617.wav': System error.\n",
      "Error opening 'train/5_2296/5_2296_20170701171627.wav': System error.\n",
      "Error opening 'train/5_2296/5_2296_20170701171643.wav': System error.\n",
      "Error opening 'train/5_2296/5_2296_20170701171657.wav': System error."
     ]
    },
    {
     "name": "stderr",
     "output_type": "stream",
     "text": [
      "\r",
      "  8%|▊         | 50/625 [00:01<00:16, 35.19it/s]"
     ]
    },
    {
     "name": "stdout",
     "output_type": "stream",
     "text": [
      "\n",
      "Error opening 'train/5_2296/5_2296_20170701171703.wav': System error."
     ]
    },
    {
     "name": "stderr",
     "output_type": "stream",
     "text": [
      "\r",
      "  9%|▉         | 56/625 [00:01<00:15, 36.81it/s]"
     ]
    },
    {
     "name": "stdout",
     "output_type": "stream",
     "text": [
      "\n",
      "Error opening 'train/5_2296/5_2296_20170701171709.wav': System error.\n",
      "Error opening 'train/5_2296/5_2296_20170701171717.wav': System error.\n",
      "Error opening 'train/5_2296/5_2296_20170701171731.wav': System error.\n",
      "Error opening 'train/5_2296/5_2296_20170701171744.wav': System error.\n",
      "Error opening 'train/5_2296/5_2296_20170701171756.wav': System error."
     ]
    },
    {
     "name": "stderr",
     "output_type": "stream",
     "text": [
      "\r",
      "  7%|▋         | 45/625 [00:01<00:22, 25.79it/s]"
     ]
    },
    {
     "name": "stdout",
     "output_type": "stream",
     "text": [
      "\n"
     ]
    },
    {
     "name": "stderr",
     "output_type": "stream",
     "text": [
      "\r",
      "  7%|▋         | 42/625 [00:01<00:20, 28.64it/s]"
     ]
    },
    {
     "name": "stdout",
     "output_type": "stream",
     "text": [
      "Error opening 'train/5_2296/5_2296_20170701171803.wav': System error."
     ]
    },
    {
     "name": "stderr",
     "output_type": "stream",
     "text": [
      "\r",
      " 12%|█▏        | 77/625 [00:01<00:12, 42.33it/s]"
     ]
    },
    {
     "name": "stdout",
     "output_type": "stream",
     "text": [
      "\n"
     ]
    },
    {
     "name": "stderr",
     "output_type": "stream",
     "text": [
      "\r",
      " 29%|██▊       | 179/625 [00:01<00:04, 111.01it/s]"
     ]
    },
    {
     "name": "stdout",
     "output_type": "stream",
     "text": [
      "Error opening 'train/5_2296/5_2296_20170701171843.wav': System error.\n",
      "Error opening 'train/5_2296/5_2296_20170701171851.wav': System error.\n",
      "Error opening 'train/5_2296/5_2296_20170701171917.wav': System error."
     ]
    },
    {
     "name": "stderr",
     "output_type": "stream",
     "text": [
      "\r",
      "  7%|▋         | 46/625 [00:01<00:18, 30.49it/s]"
     ]
    },
    {
     "name": "stdout",
     "output_type": "stream",
     "text": [
      "\n",
      "Error opening 'train/5_2296/5_2296_20170701171945.wav': System error.\n",
      "Error opening 'train/5_2296/5_2296_20170701171957.wav': System error."
     ]
    },
    {
     "name": "stderr",
     "output_type": "stream",
     "text": [
      " 10%|▉         | 61/625 [00:01<00:14, 39.20it/s]"
     ]
    },
    {
     "name": "stdout",
     "output_type": "stream",
     "text": [
      "\n"
     ]
    },
    {
     "name": "stderr",
     "output_type": "stream",
     "text": [
      "\r",
      "  9%|▉         | 55/625 [00:01<00:15, 37.26it/s]"
     ]
    },
    {
     "name": "stdout",
     "output_type": "stream",
     "text": [
      "Error opening 'train/5_2296/5_2296_20170701172005.wav': System error.\n",
      "Error opening 'train/5_2296/5_2296_20170701172011.wav': System error.\n",
      "Error opening 'train/5_2296/5_2296_20170701172017.wav': System error.\n",
      "Error opening 'train/5_2296/5_2296_20170701172022.wav': System error.\n",
      "Error opening 'train/5_2296/5_2296_20170701172028.wav': System error.\n",
      "Error opening 'train/5_2296/5_2296_20170701172040.wav': System error.\n"
     ]
    },
    {
     "name": "stderr",
     "output_type": "stream",
     "text": [
      "\r",
      "  8%|▊         | 48/625 [00:01<00:21, 26.50it/s]"
     ]
    },
    {
     "name": "stdout",
     "output_type": "stream",
     "text": [
      "Error opening 'train/5_2296/5_2296_20170701172047.wav': System error.\n",
      "Error opening 'train/5_2296/5_2296_20170701172052.wav': System error."
     ]
    },
    {
     "name": "stderr",
     "output_type": "stream",
     "text": [
      "\r",
      "  7%|▋         | 45/625 [00:01<00:20, 28.29it/s]"
     ]
    },
    {
     "name": "stdout",
     "output_type": "stream",
     "text": [
      "\n"
     ]
    },
    {
     "name": "stderr",
     "output_type": "stream",
     "text": [
      "\r",
      " 31%|███       | 192/625 [00:01<00:03, 114.96it/s]"
     ]
    },
    {
     "name": "stdout",
     "output_type": "stream",
     "text": [
      "Error opening 'train/5_2296/5_2296_20170701172058.wav': System error.\n"
     ]
    },
    {
     "name": "stderr",
     "output_type": "stream",
     "text": [
      "\r",
      " 13%|█▎        | 82/625 [00:01<00:12, 42.21it/s]"
     ]
    },
    {
     "name": "stdout",
     "output_type": "stream",
     "text": [
      "Error opening 'train/5_2296/5_2296_20170701172107.wav': System error.\n",
      "Error opening 'train/5_2296/5_2296_20170706212753.wav': System error.\n"
     ]
    },
    {
     "name": "stderr",
     "output_type": "stream",
     "text": [
      " 40%|████      | 250/625 [00:06<00:08, 42.69it/s] "
     ]
    },
    {
     "name": "stdout",
     "output_type": "stream",
     "text": [
      "Error opening 'train/5_2296/5_2296_20170630171901.wav': System error."
     ]
    },
    {
     "name": "stderr",
     "output_type": "stream",
     "text": [
      "\r",
      " 50%|█████     | 313/625 [00:06<00:15, 20.54it/s]"
     ]
    },
    {
     "name": "stdout",
     "output_type": "stream",
     "text": [
      "\n",
      "Error opening 'train/5_2296/5_2296_20170630171957.wav': System error.\n",
      "Error opening 'train/5_2296/5_2296_20170630172045.wav': System error.\n"
     ]
    },
    {
     "name": "stderr",
     "output_type": "stream",
     "text": [
      " 38%|███▊      | 238/625 [00:06<00:08, 45.11it/s]"
     ]
    },
    {
     "name": "stdout",
     "output_type": "stream",
     "text": [
      "Error opening 'train/5_2296/5_2296_20170630172103.wav': System error."
     ]
    },
    {
     "name": "stderr",
     "output_type": "stream",
     "text": [
      "\r",
      " 27%|██▋       | 171/625 [00:06<00:15, 30.13it/s]"
     ]
    },
    {
     "name": "stdout",
     "output_type": "stream",
     "text": [
      "\n"
     ]
    },
    {
     "name": "stderr",
     "output_type": "stream",
     "text": [
      "\r",
      " 27%|██▋       | 169/625 [00:06<00:16, 27.26it/s]"
     ]
    },
    {
     "name": "stdout",
     "output_type": "stream",
     "text": [
      "Error opening 'train/5_2296/5_2296_20170630172143.wav': System error.\n",
      "Error opening 'train/5_2296/5_2296_20170630172159.wav': System error.\n",
      "Error opening 'train/5_2296/5_2296_20170630172223.wav': System error.\n",
      "Error opening 'train/5_2296/5_2296_20170630172255.wav': System error.\n",
      "Error opening 'train/5_2296/5_2296_20170630172319.wav': System error.\n"
     ]
    },
    {
     "name": "stderr",
     "output_type": "stream",
     "text": [
      " 41%|████      | 256/625 [00:06<00:08, 45.83it/s]"
     ]
    },
    {
     "name": "stdout",
     "output_type": "stream",
     "text": [
      "Error opening 'train/5_2296/5_2296_20170630172339.wav': System error.\n",
      "Error opening 'train/5_2296/5_2296_20170630172359.wav': System error.\n",
      "Error opening 'train/5_2296/5_2296_20170630172427.wav': System error.\n",
      "Error opening 'train/5_2296/5_2296_20170630172446.wav': System error.\n",
      "Error opening 'train/5_2296/5_2296_20170630172504.wav': System error."
     ]
    },
    {
     "name": "stderr",
     "output_type": "stream",
     "text": [
      "\r",
      " 34%|███▍      | 215/625 [00:06<00:13, 31.23it/s]"
     ]
    },
    {
     "name": "stdout",
     "output_type": "stream",
     "text": [
      "\n"
     ]
    },
    {
     "name": "stderr",
     "output_type": "stream",
     "text": [
      " 40%|███▉      | 249/625 [00:06<00:06, 61.28it/s]"
     ]
    },
    {
     "name": "stdout",
     "output_type": "stream",
     "text": [
      "Error opening 'train/5_2296/5_2296_20170630172524.wav': System error."
     ]
    },
    {
     "name": "stderr",
     "output_type": "stream",
     "text": [
      "\r",
      " 51%|█████     | 316/625 [00:06<00:14, 20.63it/s]"
     ]
    },
    {
     "name": "stdout",
     "output_type": "stream",
     "text": [
      "\n",
      "Error opening 'train/5_2296/5_2296_20170630172540.wav': System error.\n",
      "Error opening 'train/5_2296/5_2296_20170630172615.wav': System error."
     ]
    },
    {
     "name": "stderr",
     "output_type": "stream",
     "text": [
      "\r",
      " 33%|███▎      | 205/625 [00:06<00:13, 30.65it/s]"
     ]
    },
    {
     "name": "stdout",
     "output_type": "stream",
     "text": [
      "\n"
     ]
    },
    {
     "name": "stderr",
     "output_type": "stream",
     "text": [
      "\r",
      " 28%|██▊       | 175/625 [00:06<00:15, 29.28it/s]"
     ]
    },
    {
     "name": "stdout",
     "output_type": "stream",
     "text": [
      "Error opening 'train/5_2296/5_2296_20170630172632.wav': System error."
     ]
    },
    {
     "name": "stderr",
     "output_type": "stream",
     "text": [
      "\r",
      " 36%|███▋      | 227/625 [00:06<00:11, 35.77it/s]"
     ]
    },
    {
     "name": "stdout",
     "output_type": "stream",
     "text": [
      "\n",
      "Error opening 'train/5_2296/5_2296_20170630172708.wav': System error.\n"
     ]
    },
    {
     "name": "stderr",
     "output_type": "stream",
     "text": [
      "\r",
      " 42%|████▏     | 262/625 [00:06<00:07, 47.43it/s]"
     ]
    },
    {
     "name": "stdout",
     "output_type": "stream",
     "text": [
      "Error opening 'train/5_2296/5_2296_20170630172727.wav': System error.\n",
      "Error opening 'train/5_2296/5_2296_20170630172746.wav': System error.\n",
      "Error opening 'train/5_2296/5_2296_20170630172804.wav': System error.\n",
      "Error opening 'train/5_2296/5_2296_20170630172822.wav': System error.\n",
      "Error opening 'train/5_2296/5_2296_20170630172840.wav': System error.\n"
     ]
    },
    {
     "name": "stderr",
     "output_type": "stream",
     "text": [
      "\r",
      " 41%|████▏     | 259/625 [00:06<00:05, 71.09it/s]"
     ]
    },
    {
     "name": "stdout",
     "output_type": "stream",
     "text": [
      "Error opening 'train/5_2296/5_2296_20170630172857.wav': System error.\n"
     ]
    },
    {
     "name": "stderr",
     "output_type": "stream",
     "text": [
      "\r",
      " 35%|███▌      | 219/625 [00:06<00:12, 32.51it/s]"
     ]
    },
    {
     "name": "stdout",
     "output_type": "stream",
     "text": [
      "Error opening 'train/5_2296/5_2296_20170630172911.wav': System error.\n",
      "Error opening 'train/5_2296/5_2296_20170630172930.wav': System error.\n",
      "Error opening 'train/5_2296/5_2296_20170630172945.wav': System error.\n",
      "Error opening 'train/5_2296/5_2296_20170630172959.wav': System error.\n",
      "Error opening 'train/5_2296/5_2296_20170630173011.wav': System error."
     ]
    },
    {
     "name": "stderr",
     "output_type": "stream",
     "text": [
      " 51%|█████     | 319/625 [00:06<00:14, 21.68it/s]"
     ]
    },
    {
     "name": "stdout",
     "output_type": "stream",
     "text": [
      "\n",
      "Error opening 'train/5_2296/5_2296_20170630173025.wav': System error.\n",
      "Error opening 'train/5_2296/5_2296_20170630173039.wav': System error.\n",
      "Error opening 'train/5_2296/5_2296_20170630173112.wav': System error.\n"
     ]
    },
    {
     "name": "stderr",
     "output_type": "stream",
     "text": [
      "\r",
      " 37%|███▋      | 232/625 [00:06<00:10, 37.82it/s]"
     ]
    },
    {
     "name": "stdout",
     "output_type": "stream",
     "text": [
      "Error opening 'train/5_2296/5_2296_20170630173127.wav': System error.\n"
     ]
    },
    {
     "name": "stderr",
     "output_type": "stream",
     "text": [
      "\r",
      " 33%|███▎      | 209/625 [00:06<00:13, 30.30it/s]"
     ]
    },
    {
     "name": "stdout",
     "output_type": "stream",
     "text": [
      "Error opening 'train/5_2296/5_2296_20170630173144.wav': System error."
     ]
    },
    {
     "name": "stderr",
     "output_type": "stream",
     "text": [
      "\r",
      " 29%|██▊       | 179/625 [00:06<00:15, 29.44it/s]"
     ]
    },
    {
     "name": "stdout",
     "output_type": "stream",
     "text": [
      "\n"
     ]
    },
    {
     "name": "stderr",
     "output_type": "stream",
     "text": [
      "\r",
      " 43%|████▎     | 267/625 [00:06<00:07, 46.15it/s]"
     ]
    },
    {
     "name": "stdout",
     "output_type": "stream",
     "text": [
      "Error opening 'train/5_2296/5_2296_20170630173212.wav': System error.\n",
      "Error opening 'train/5_2296/5_2296_20170630173235.wav': System error.\n",
      "Error opening 'train/5_2296/5_2296_20170630173300.wav': System error.\n"
     ]
    },
    {
     "name": "stderr",
     "output_type": "stream",
     "text": [
      "\r",
      " 44%|████▎     | 273/625 [00:06<00:03, 89.51it/s]"
     ]
    },
    {
     "name": "stdout",
     "output_type": "stream",
     "text": [
      "Error opening 'train/5_2296/5_2296_20170630173316.wav': System error.\n",
      "Error opening 'train/5_2296/5_2296_20170630173336.wav': System error.\n",
      "Error opening 'train/5_2296/5_2296_20170630173351.wav': System error.\n",
      "Error opening 'train/5_2296/5_2296_20170630173428.wav': System error.\n",
      "Error opening 'train/5_2296/5_2296_20170630173441.wav': System error.\n",
      "Error opening 'train/5_2296/5_2296_20170630173454.wav': System error."
     ]
    },
    {
     "name": "stderr",
     "output_type": "stream",
     "text": [
      "\r",
      " 36%|███▌      | 224/625 [00:06<00:12, 33.18it/s]"
     ]
    },
    {
     "name": "stdout",
     "output_type": "stream",
     "text": [
      "\n"
     ]
    },
    {
     "name": "stderr",
     "output_type": "stream",
     "text": [
      "\r",
      " 29%|██▉       | 180/625 [00:06<00:15, 29.34it/s]"
     ]
    },
    {
     "name": "stdout",
     "output_type": "stream",
     "text": [
      "Error opening 'train/5_2296/5_2296_20170630173519.wav': System error.\n",
      "Error opening 'train/5_2296/5_2296_20170630173545.wav': System error.\n"
     ]
    },
    {
     "name": "stderr",
     "output_type": "stream",
     "text": [
      "\r",
      " 29%|██▉       | 182/625 [00:06<00:15, 29.33it/s]"
     ]
    },
    {
     "name": "stdout",
     "output_type": "stream",
     "text": [
      "Error opening 'train/5_2296/5_2296_20170630173557.wav': System error.\n"
     ]
    },
    {
     "name": "stderr",
     "output_type": "stream",
     "text": [
      " 38%|███▊      | 236/625 [00:06<00:10, 36.82it/s]"
     ]
    },
    {
     "name": "stdout",
     "output_type": "stream",
     "text": [
      "Error opening 'train/5_2296/5_2296_20170630173612.wav': System error.\n",
      "Error opening 'train/5_2296/5_2296_20170630173626.wav': System error."
     ]
    },
    {
     "name": "stderr",
     "output_type": "stream",
     "text": [
      "\r",
      " 52%|█████▏    | 322/625 [00:06<00:14, 20.44it/s]"
     ]
    },
    {
     "name": "stdout",
     "output_type": "stream",
     "text": [
      "\n",
      "Error opening 'train/5_2296/5_2296_20170630173642.wav': System error.\n"
     ]
    },
    {
     "name": "stderr",
     "output_type": "stream",
     "text": [
      "\r",
      " 46%|████▌     | 285/625 [00:06<00:03, 96.18it/s]"
     ]
    },
    {
     "name": "stdout",
     "output_type": "stream",
     "text": [
      "Error opening 'train/5_2296/5_2296_20170630173708.wav': System error.\n",
      "Error opening 'train/5_2296/5_2296_20170630174754.wav': System error.\n",
      "Error opening 'train/5_2296/5_2296_20170630174817.wav': System error.\n"
     ]
    },
    {
     "name": "stderr",
     "output_type": "stream",
     "text": [
      "\r",
      " 34%|███▍      | 213/625 [00:06<00:14, 28.47it/s]"
     ]
    },
    {
     "name": "stdout",
     "output_type": "stream",
     "text": [
      "Error opening 'train/5_2296/5_2296_20170630174841.wav': System error.\n",
      "Error opening 'train/5_2296/5_2296_20170630174905.wav': System error.\n",
      "Error opening 'train/5_2296/5_2296_20170630175150.wav': System error.\n"
     ]
    },
    {
     "name": "stderr",
     "output_type": "stream",
     "text": [
      "\r",
      " 37%|███▋      | 229/625 [00:06<00:10, 36.01it/s]"
     ]
    },
    {
     "name": "stdout",
     "output_type": "stream",
     "text": [
      "Error opening 'train/5_2296/5_2296_20170630175223.wav': System error.\n",
      "Error opening 'train/5_2296/5_2296_20170630175238.wav': System error.\n"
     ]
    },
    {
     "name": "stderr",
     "output_type": "stream",
     "text": [
      "\r",
      " 29%|██▉       | 184/625 [00:06<00:14, 29.67it/s]"
     ]
    },
    {
     "name": "stdout",
     "output_type": "stream",
     "text": [
      "Error opening 'train/5_2296/5_2296_20170630175309.wav': System error.\n"
     ]
    },
    {
     "name": "stderr",
     "output_type": "stream",
     "text": [
      " 30%|██▉       | 186/625 [00:06<00:14, 30.41it/s]"
     ]
    },
    {
     "name": "stdout",
     "output_type": "stream",
     "text": [
      "Error opening 'train/5_2296/5_2296_20170630175335.wav': System error.\n"
     ]
    },
    {
     "name": "stderr",
     "output_type": "stream",
     "text": [
      "\r",
      " 52%|█████▏    | 325/625 [00:06<00:13, 22.24it/s]"
     ]
    },
    {
     "name": "stdout",
     "output_type": "stream",
     "text": [
      "Error opening 'train/5_2296/5_2296_20170630175424.wav': System error.\n"
     ]
    },
    {
     "name": "stderr",
     "output_type": "stream",
     "text": [
      "\r",
      " 47%|████▋     | 296/625 [00:06<00:03, 97.93it/s]"
     ]
    },
    {
     "name": "stdout",
     "output_type": "stream",
     "text": [
      "Error opening 'train/5_2296/5_2296_20170630175526.wav': System error.\n",
      "Error opening 'train/5_2296/5_2296_20170630175624.wav': System error.\n",
      "Error opening 'train/5_2296/5_2296_20170630175655.wav': System error.\n",
      "Error opening 'train/5_2296/5_2296_20170630175720.wav': System error.\n",
      "Error opening 'train/5_2296/5_2296_20170630175734.wav': System error.\n",
      "Error opening 'train/5_2296/5_2296_20170630175813.wav': System error.\n",
      "Error opening 'train/5_2296/5_2296_20170630180343.wav': System error.\n"
     ]
    },
    {
     "name": "stderr",
     "output_type": "stream",
     "text": [
      "\r",
      " 35%|███▍      | 216/625 [00:06<00:15, 25.77it/s]"
     ]
    },
    {
     "name": "stdout",
     "output_type": "stream",
     "text": [
      "Error opening 'train/5_2296/5_2296_20170630180506.wav': System error."
     ]
    },
    {
     "name": "stderr",
     "output_type": "stream",
     "text": [
      "\r",
      " 37%|███▋      | 233/625 [00:06<00:11, 35.52it/s]"
     ]
    },
    {
     "name": "stdout",
     "output_type": "stream",
     "text": [
      "\n",
      "Error opening 'train/5_2296/5_2296_20170630180610.wav': System error.\n",
      "Error opening 'train/5_2296/5_2296_20170630180655.wav': System error.\n"
     ]
    },
    {
     "name": "stderr",
     "output_type": "stream",
     "text": [
      "\r",
      " 39%|███▉      | 245/625 [00:06<00:09, 38.89it/s]"
     ]
    },
    {
     "name": "stdout",
     "output_type": "stream",
     "text": [
      "Error opening 'train/5_2296/5_2296_20170630180717.wav': System error."
     ]
    },
    {
     "name": "stderr",
     "output_type": "stream",
     "text": [
      "\r",
      " 45%|████▌     | 282/625 [00:06<00:07, 45.60it/s]"
     ]
    },
    {
     "name": "stdout",
     "output_type": "stream",
     "text": [
      "\n"
     ]
    },
    {
     "name": "stderr",
     "output_type": "stream",
     "text": [
      " 49%|████▉     | 307/625 [00:06<00:03, 101.26it/s]"
     ]
    },
    {
     "name": "stdout",
     "output_type": "stream",
     "text": [
      "Error opening 'train/5_2296/5_2296_20170630180738.wav': System error.\n"
     ]
    },
    {
     "name": "stderr",
     "output_type": "stream",
     "text": [
      "\r",
      " 30%|███       | 190/625 [00:06<00:14, 30.40it/s]"
     ]
    },
    {
     "name": "stdout",
     "output_type": "stream",
     "text": [
      "Error opening 'train/5_2296/5_2296_20170630180757.wav': System error.\n",
      "Error opening 'train/5_2296/5_2296_20170630180813.wav': System error.\n",
      "Error opening 'train/5_2296/5_2296_20170630180828.wav': System error.\n",
      "Error opening 'train/5_2296/5_2296_20170630180849.wav': System error.\n",
      "Error opening 'train/5_2296/5_2296_20170630180906.wav': System error.\n",
      "Error opening 'train/5_2296/5_2296_20170630180921.wav': System error.\n",
      "Error opening 'train/5_2296/5_2296_20170630180932.wav': System error.\n",
      "Error opening 'train/5_2296/5_2296_20170630180945.wav': System error.\n"
     ]
    },
    {
     "name": "stderr",
     "output_type": "stream",
     "text": [
      "\r",
      " 52%|█████▏    | 328/625 [00:06<00:14, 20.11it/s]"
     ]
    },
    {
     "name": "stdout",
     "output_type": "stream",
     "text": [
      "Error opening 'train/5_2296/5_2296_20170630181023.wav': System error.\n",
      "Error opening 'train/5_2296/5_2296_20170630182331.wav': System error."
     ]
    },
    {
     "name": "stderr",
     "output_type": "stream",
     "text": [
      " 35%|███▌      | 220/625 [00:06<00:14, 27.42it/s]"
     ]
    },
    {
     "name": "stdout",
     "output_type": "stream",
     "text": [
      "\n",
      "Error opening 'train/5_2296/5_2296_20170630182404.wav': System error.\n",
      "Error opening 'train/5_2296/5_2296_20170630182451.wav': System error.\n",
      "Error opening 'train/5_2296/5_2296_20170630183342.wav': System error.\n"
     ]
    },
    {
     "name": "stderr",
     "output_type": "stream",
     "text": [
      " 51%|█████▏    | 321/625 [00:06<00:02, 111.43it/s]"
     ]
    },
    {
     "name": "stdout",
     "output_type": "stream",
     "text": [
      "Error opening 'train/5_2296/5_2296_20170630183353.wav': System error.\n"
     ]
    },
    {
     "name": "stderr",
     "output_type": "stream",
     "text": [
      "\r",
      " 31%|███       | 192/625 [00:06<00:14, 30.25it/s]"
     ]
    },
    {
     "name": "stdout",
     "output_type": "stream",
     "text": [
      "Error opening 'train/5_2296/5_2296_20170630214740.wav': System error.\n",
      "Error opening 'train/5_2296/5_2296_20170630214919.wav': System error.\n",
      "Error opening 'train/5_2296/5_2296_20170630215428.wav': System error.\n"
     ]
    },
    {
     "name": "stderr",
     "output_type": "stream",
     "text": [
      "\r",
      " 31%|███       | 194/625 [00:06<00:14, 29.31it/s]"
     ]
    },
    {
     "name": "stdout",
     "output_type": "stream",
     "text": [
      "Error opening 'train/5_2296/5_2296_20170630215447.wav': System error.\n",
      "Error opening 'train/5_2296/5_2296_20170630215857.wav': System error.\n",
      "Error opening 'train/5_2296/5_2296_20170630215925.wav': System error.\n",
      "Error opening 'train/5_2296/5_2296_20170630215940.wav': System error.\n",
      "Error opening 'train/5_2296/5_2296_20170630220012.wav': System error."
     ]
    },
    {
     "name": "stderr",
     "output_type": "stream",
     "text": [
      " 36%|███▌      | 223/625 [00:06<00:14, 27.47it/s]"
     ]
    },
    {
     "name": "stdout",
     "output_type": "stream",
     "text": [
      "\n"
     ]
    },
    {
     "name": "stderr",
     "output_type": "stream",
     "text": [
      "\r",
      " 40%|████      | 253/625 [00:06<00:09, 38.42it/s]"
     ]
    },
    {
     "name": "stdout",
     "output_type": "stream",
     "text": [
      "Error opening 'train/5_2296/5_2296_20170630220044.wav': System error.\n",
      "Error opening 'train/5_2296/5_2296_20170630220055.wav': System error.\n"
     ]
    },
    {
     "name": "stderr",
     "output_type": "stream",
     "text": [
      "\r",
      " 39%|███▊      | 241/625 [00:07<00:11, 33.97it/s]"
     ]
    },
    {
     "name": "stdout",
     "output_type": "stream",
     "text": [
      "Error opening 'train/5_2296/5_2296_20170630220113.wav': System error.\n"
     ]
    },
    {
     "name": "stderr",
     "output_type": "stream",
     "text": [
      " 53%|█████▎    | 333/625 [00:07<00:02, 106.71it/s]"
     ]
    },
    {
     "name": "stdout",
     "output_type": "stream",
     "text": [
      "Error opening 'train/5_2296/5_2296_20170630220124.wav': System error.\n",
      "Error opening 'train/5_2296/5_2296_20170630220134.wav': System error.\n",
      "Error opening 'train/5_2296/5_2296_20170630220153.wav': System error.\n",
      "Error opening 'train/5_2296/5_2296_20170630220206.wav': System error."
     ]
    },
    {
     "name": "stderr",
     "output_type": "stream",
     "text": [
      " 32%|███▏      | 197/625 [00:07<00:14, 29.13it/s]"
     ]
    },
    {
     "name": "stdout",
     "output_type": "stream",
     "text": [
      "\n",
      "Error opening 'train/5_2296/5_2296_20170630220217.wav': System error.\n",
      "Error opening 'train/5_2296/5_2296_20170630220227.wav': System error.\n",
      "Error opening 'train/5_2296/5_2296_20170630220235.wav': System error.\n",
      "Error opening 'train/5_2296/5_2296_20170630220244.wav': System error.\n",
      "Error opening 'train/5_2296/5_2296_20170630220447.wav': System error.\n",
      "Error opening 'train/5_2296/5_2296_20170630220513.wav': System error.\n",
      "Error opening 'train/5_2296/5_2296_20170630220553.wav': System error."
     ]
    },
    {
     "name": "stderr",
     "output_type": "stream",
     "text": [
      "\r",
      " 36%|███▋      | 228/625 [00:07<00:12, 31.07it/s]"
     ]
    },
    {
     "name": "stdout",
     "output_type": "stream",
     "text": [
      "\n",
      "Error opening 'train/5_2296/5_2296_20170630220601.wav': System error.\n"
     ]
    },
    {
     "name": "stderr",
     "output_type": "stream",
     "text": [
      "\r",
      " 55%|█████▌    | 345/625 [00:07<00:02, 109.04it/s]"
     ]
    },
    {
     "name": "stdout",
     "output_type": "stream",
     "text": [
      "Error opening 'train/5_2296/5_2296_20170630220621.wav': System error."
     ]
    },
    {
     "name": "stderr",
     "output_type": "stream",
     "text": [
      "\r",
      " 39%|███▉      | 246/625 [00:07<00:10, 35.55it/s]"
     ]
    },
    {
     "name": "stdout",
     "output_type": "stream",
     "text": [
      "\n"
     ]
    },
    {
     "name": "stderr",
     "output_type": "stream",
     "text": [
      "\r",
      " 41%|████      | 257/625 [00:07<00:10, 34.18it/s]"
     ]
    },
    {
     "name": "stdout",
     "output_type": "stream",
     "text": [
      "Error opening 'train/5_2296/5_2296_20170630220629.wav': System error.\n"
     ]
    },
    {
     "name": "stderr",
     "output_type": "stream",
     "text": [
      "\r",
      " 48%|████▊     | 298/625 [00:07<00:07, 43.69it/s]"
     ]
    },
    {
     "name": "stdout",
     "output_type": "stream",
     "text": [
      "Error opening 'train/5_2296/5_2296_20170630220641.wav': System error."
     ]
    },
    {
     "name": "stderr",
     "output_type": "stream",
     "text": [
      "\r",
      " 54%|█████▎    | 335/625 [00:07<00:13, 21.80it/s]"
     ]
    },
    {
     "name": "stdout",
     "output_type": "stream",
     "text": [
      "\n",
      "Error opening 'train/5_2296/5_2296_20170630220652.wav': System error.\n",
      "Error opening 'train/5_2296/5_2296_20170630220701.wav': System error.\n",
      "Error opening 'train/5_2296/5_2296_20170630220722.wav': System error.\n"
     ]
    },
    {
     "name": "stderr",
     "output_type": "stream",
     "text": [
      "\r",
      " 32%|███▏      | 200/625 [00:07<00:15, 28.32it/s]"
     ]
    },
    {
     "name": "stdout",
     "output_type": "stream",
     "text": [
      "Error opening 'train/5_2296/5_2296_20170630220731.wav': System error."
     ]
    },
    {
     "name": "stderr",
     "output_type": "stream",
     "text": [
      "\r",
      " 32%|███▏      | 200/625 [00:07<00:13, 30.76it/s]"
     ]
    },
    {
     "name": "stdout",
     "output_type": "stream",
     "text": [
      "\n",
      "Error opening 'train/5_2296/5_2296_20170630220740.wav': System error.\n",
      "Error opening 'train/5_2296/5_2296_20170630220755.wav': System error.\n",
      "Error opening 'train/5_2296/5_2296_20170630220816.wav': System error.\n",
      "Error opening 'train/5_2296/5_2296_20170630220854.wav': System error.\n",
      "Error opening 'train/5_2296/5_2296_20170630220903.wav': System error.\n"
     ]
    },
    {
     "name": "stderr",
     "output_type": "stream",
     "text": [
      "\r",
      " 57%|█████▋    | 357/625 [00:07<00:02, 111.51it/s]"
     ]
    },
    {
     "name": "stdout",
     "output_type": "stream",
     "text": [
      "Error opening 'train/5_2296/5_2296_20170630220917.wav': System error.\n",
      "Error opening 'train/5_2296/5_2296_20170630220930.wav': System error.\n",
      "Error opening 'train/5_2296/5_2296_20170630220939.wav': System error."
     ]
    },
    {
     "name": "stderr",
     "output_type": "stream",
     "text": [
      "\r",
      " 42%|████▏     | 261/625 [00:07<00:10, 34.01it/s]"
     ]
    },
    {
     "name": "stdout",
     "output_type": "stream",
     "text": [
      "\n"
     ]
    },
    {
     "name": "stderr",
     "output_type": "stream",
     "text": [
      " 37%|███▋      | 232/625 [00:07<00:13, 29.77it/s]"
     ]
    },
    {
     "name": "stdout",
     "output_type": "stream",
     "text": [
      "Error opening 'train/5_2296/5_2296_20170630221001.wav': System error.\n"
     ]
    },
    {
     "name": "stderr",
     "output_type": "stream",
     "text": [
      "\r",
      " 40%|████      | 250/625 [00:07<00:11, 33.76it/s]"
     ]
    },
    {
     "name": "stdout",
     "output_type": "stream",
     "text": [
      "Error opening 'train/5_2296/5_2296_20170630221013.wav': System error.\n",
      "Error opening 'train/5_2296/5_2296_20170630221022.wav': System error.\n"
     ]
    },
    {
     "name": "stderr",
     "output_type": "stream",
     "text": [
      "\r",
      " 54%|█████▍    | 338/625 [00:07<00:12, 22.22it/s]"
     ]
    },
    {
     "name": "stdout",
     "output_type": "stream",
     "text": [
      "Error opening 'train/5_2296/5_2296_20170630221042.wav': System error.\n",
      "Error opening 'train/5_2296/5_2296_20170630221053.wav': System error.\n",
      "Error opening 'train/5_2296/5_2296_20170630221100.wav': System error.\n",
      "Error opening 'train/5_2296/5_2296_20170630221109.wav': System error."
     ]
    },
    {
     "name": "stderr",
     "output_type": "stream",
     "text": [
      "\r",
      " 33%|███▎      | 204/625 [00:07<00:13, 30.50it/s]"
     ]
    },
    {
     "name": "stdout",
     "output_type": "stream",
     "text": [
      "\n",
      "Error opening 'train/5_2296/5_2296_20170630221150.wav': System error.\n",
      "Error opening 'train/5_2296/5_2296_20170630221258.wav': System error."
     ]
    },
    {
     "name": "stderr",
     "output_type": "stream",
     "text": [
      "\r",
      " 33%|███▎      | 204/625 [00:07<00:15, 27.68it/s]"
     ]
    },
    {
     "name": "stdout",
     "output_type": "stream",
     "text": [
      "\n",
      "Error opening 'train/5_2296/5_2296_20170630221307.wav': System error.\n"
     ]
    },
    {
     "name": "stderr",
     "output_type": "stream",
     "text": [
      "\r",
      " 59%|█████▉    | 370/625 [00:07<00:02, 115.64it/s]"
     ]
    },
    {
     "name": "stdout",
     "output_type": "stream",
     "text": [
      "Error opening 'train/5_2296/5_2296_20170630221355.wav': System error."
     ]
    },
    {
     "name": "stderr",
     "output_type": "stream",
     "text": [
      "\r",
      " 42%|████▏     | 265/625 [00:07<00:10, 35.13it/s]"
     ]
    },
    {
     "name": "stdout",
     "output_type": "stream",
     "text": [
      "\n"
     ]
    },
    {
     "name": "stderr",
     "output_type": "stream",
     "text": [
      "\r",
      " 50%|████▉     | 310/625 [00:07<00:06, 48.98it/s]"
     ]
    },
    {
     "name": "stdout",
     "output_type": "stream",
     "text": [
      "Error opening 'train/5_2296/5_2296_20170630221405.wav': System error.\n",
      "Error opening 'train/5_2296/5_2296_20170630221415.wav': System error."
     ]
    },
    {
     "name": "stderr",
     "output_type": "stream",
     "text": [
      "\r",
      " 55%|█████▍    | 341/625 [00:07<00:12, 22.92it/s]"
     ]
    },
    {
     "name": "stdout",
     "output_type": "stream",
     "text": [
      "\n"
     ]
    },
    {
     "name": "stderr",
     "output_type": "stream",
     "text": [
      "\r",
      " 41%|████      | 254/625 [00:07<00:11, 32.35it/s]"
     ]
    },
    {
     "name": "stdout",
     "output_type": "stream",
     "text": [
      "Error opening 'train/5_2296/5_2296_20170630221422.wav': System error."
     ]
    },
    {
     "name": "stderr",
     "output_type": "stream",
     "text": [
      "\r",
      " 38%|███▊      | 236/625 [00:07<00:13, 29.12it/s]"
     ]
    },
    {
     "name": "stdout",
     "output_type": "stream",
     "text": [
      "\n",
      "Error opening 'train/5_2296/5_2296_20170630221431.wav': System error.\n",
      "Error opening 'train/5_2296/5_2296_20170630221441.wav': System error.\n"
     ]
    },
    {
     "name": "stderr",
     "output_type": "stream",
     "text": [
      "\r",
      " 33%|███▎      | 208/625 [00:07<00:12, 32.37it/s]"
     ]
    },
    {
     "name": "stdout",
     "output_type": "stream",
     "text": [
      "Error opening 'train/5_2296/5_2296_20170630221454.wav': System error.\n",
      "Error opening 'train/5_2296/5_2296_20170630221511.wav': System error.\n"
     ]
    },
    {
     "name": "stderr",
     "output_type": "stream",
     "text": [
      "\r",
      " 33%|███▎      | 208/625 [00:07<00:14, 29.33it/s]"
     ]
    },
    {
     "name": "stdout",
     "output_type": "stream",
     "text": [
      "Error opening 'train/5_2296/5_2296_20170630221538.wav': System error.\n",
      "Error opening 'train/5_2296/5_2296_20170630221627.wav': System error.\n",
      "Error opening 'train/5_2296/5_2296_20170630222005.wav': System error.\n"
     ]
    },
    {
     "name": "stderr",
     "output_type": "stream",
     "text": [
      "\r",
      " 43%|████▎     | 269/625 [00:07<00:09, 36.04it/s]"
     ]
    },
    {
     "name": "stdout",
     "output_type": "stream",
     "text": [
      "Error opening 'train/5_2296/5_2296_20170630222016.wav': System error.\n"
     ]
    },
    {
     "name": "stderr",
     "output_type": "stream",
     "text": [
      " 50%|█████     | 315/625 [00:07<00:06, 47.95it/s]]"
     ]
    },
    {
     "name": "stdout",
     "output_type": "stream",
     "text": [
      "Error opening 'train/5_2296/5_2296_20170630222025.wav': System error.\n",
      "Error opening 'train/5_2296/5_2296_20170630222038.wav': System error.\n",
      "Error opening 'train/5_2296/5_2296_20170630222232.wav': System error.\n"
     ]
    },
    {
     "name": "stderr",
     "output_type": "stream",
     "text": [
      " 55%|█████▌    | 344/625 [00:07<00:11, 23.91it/s]"
     ]
    },
    {
     "name": "stdout",
     "output_type": "stream",
     "text": [
      "Error opening 'train/5_2296/5_2296_20170630222246.wav': System error.\n"
     ]
    },
    {
     "name": "stderr",
     "output_type": "stream",
     "text": [
      "\r",
      " 38%|███▊      | 240/625 [00:07<00:12, 30.62it/s]"
     ]
    },
    {
     "name": "stdout",
     "output_type": "stream",
     "text": [
      "Error opening 'train/5_2296/5_2296_20170630222425.wav': System error.\n",
      "Error opening 'train/5_2296/5_2296_20170630222451.wav': System error.\n",
      "Error opening 'train/5_2296/5_2296_20170630222501.wav': System error.\n",
      "Error opening 'train/5_2296/5_2296_20170630222511.wav': System error."
     ]
    },
    {
     "name": "stderr",
     "output_type": "stream",
     "text": [
      "\r",
      " 34%|███▍      | 211/625 [00:07<00:14, 29.10it/s]"
     ]
    },
    {
     "name": "stdout",
     "output_type": "stream",
     "text": [
      "\n"
     ]
    },
    {
     "name": "stderr",
     "output_type": "stream",
     "text": [
      "\r",
      " 34%|███▍      | 212/625 [00:07<00:13, 31.67it/s]"
     ]
    },
    {
     "name": "stdout",
     "output_type": "stream",
     "text": [
      "Error opening 'train/5_2296/5_2296_20170630222834.wav': System error.\n",
      "Error opening 'train/5_2296/5_2296_20170630222856.wav': System error.\n",
      "Error opening 'train/5_2296/5_2296_20170630222909.wav': System error.\n"
     ]
    },
    {
     "name": "stderr",
     "output_type": "stream",
     "text": [
      "\r",
      " 44%|████▎     | 273/625 [00:07<00:09, 36.25it/s]"
     ]
    },
    {
     "name": "stdout",
     "output_type": "stream",
     "text": [
      "Error opening 'train/5_2296/5_2296_20170630222927.wav': System error.\n",
      "Error opening 'train/5_2296/5_2296_20170630222947.wav': System error.\n"
     ]
    },
    {
     "name": "stderr",
     "output_type": "stream",
     "text": [
      " 51%|█████     | 320/625 [00:07<00:06, 47.38it/s]]"
     ]
    },
    {
     "name": "stdout",
     "output_type": "stream",
     "text": [
      "Error opening 'train/5_2296/5_2296_20170630222955.wav': System error.\n",
      "Error opening 'train/5_2296/5_2296_20170630223016.wav': System error.\n",
      "Error opening 'train/5_2296/5_2296_20170630223036.wav': System error.\n",
      "Error opening 'train/5_2296/5_2296_20170630223101.wav': System error.\n",
      "Error opening 'train/5_2296/5_2296_20170630223111.wav': System error.\n"
     ]
    },
    {
     "name": "stderr",
     "output_type": "stream",
     "text": [
      "\r",
      " 42%|████▏     | 262/625 [00:07<00:10, 33.74it/s]"
     ]
    },
    {
     "name": "stdout",
     "output_type": "stream",
     "text": [
      "Error opening 'train/5_2296/5_2296_20170630223123.wav': System error.\n",
      "Error opening 'train/5_2296/5_2296_20170630223141.wav': System error.\n"
     ]
    },
    {
     "name": "stderr",
     "output_type": "stream",
     "text": [
      "\r",
      " 56%|█████▌    | 347/625 [00:07<00:11, 23.59it/s]"
     ]
    },
    {
     "name": "stdout",
     "output_type": "stream",
     "text": [
      "Error opening 'train/5_2296/5_2296_20170630223155.wav': System error."
     ]
    },
    {
     "name": "stderr",
     "output_type": "stream",
     "text": [
      "\r",
      " 39%|███▉      | 244/625 [00:07<00:12, 31.47it/s]"
     ]
    },
    {
     "name": "stdout",
     "output_type": "stream",
     "text": [
      "\n"
     ]
    },
    {
     "name": "stderr",
     "output_type": "stream",
     "text": [
      "\r",
      " 34%|███▍      | 214/625 [00:07<00:14, 28.86it/s]"
     ]
    },
    {
     "name": "stdout",
     "output_type": "stream",
     "text": [
      "Error opening 'train/5_2296/5_2296_20170630223205.wav': System error.\n",
      "Error opening 'train/5_2296/5_2296_20170630223216.wav': System error.\n",
      "Error opening 'train/5_2296/5_2296_20170630223236.wav': System error.\n"
     ]
    },
    {
     "name": "stderr",
     "output_type": "stream",
     "text": [
      " 35%|███▍      | 216/625 [00:07<00:13, 31.34it/s]"
     ]
    },
    {
     "name": "stdout",
     "output_type": "stream",
     "text": [
      "Error opening 'train/5_2296/5_2296_20170630223326.wav': System error.\n"
     ]
    },
    {
     "name": "stderr",
     "output_type": "stream",
     "text": [
      "\r",
      " 65%|██████▌   | 407/625 [00:07<00:02, 108.60it/s]"
     ]
    },
    {
     "name": "stdout",
     "output_type": "stream",
     "text": [
      "Error opening 'train/5_2296/5_2296_20170630223405.wav': System error.\n",
      "Error opening 'train/5_2296/5_2296_20170630223438.wav': System error.\n",
      "Error opening 'train/5_2296/5_2296_20170630223447.wav': System error.\n"
     ]
    },
    {
     "name": "stderr",
     "output_type": "stream",
     "text": [
      "\r",
      " 52%|█████▏    | 326/625 [00:07<00:06, 48.16it/s]"
     ]
    },
    {
     "name": "stdout",
     "output_type": "stream",
     "text": [
      "Error opening 'train/5_2296/5_2296_20170630223459.wav': System error.\n",
      "Error opening 'train/5_2296/5_2296_20170630223509.wav': System error.\n"
     ]
    },
    {
     "name": "stderr",
     "output_type": "stream",
     "text": [
      "\r",
      " 43%|████▎     | 266/625 [00:07<00:10, 35.32it/s]"
     ]
    },
    {
     "name": "stdout",
     "output_type": "stream",
     "text": [
      "Error opening 'train/5_2296/5_2296_20170630223923.wav': System error.\n",
      "Error opening 'train/5_2296/5_2296_20170630223930.wav': System error.\n",
      "Error opening 'train/5_2296/5_2296_20170630223938.wav': System error."
     ]
    },
    {
     "name": "stderr",
     "output_type": "stream",
     "text": [
      "\r",
      " 40%|███▉      | 248/625 [00:07<00:11, 32.52it/s]"
     ]
    },
    {
     "name": "stdout",
     "output_type": "stream",
     "text": [
      "\n",
      "Error opening 'train/5_2296/5_2296_20170630223949.wav': System error."
     ]
    },
    {
     "name": "stderr",
     "output_type": "stream",
     "text": [
      "\r",
      " 56%|█████▌    | 350/625 [00:07<00:11, 24.28it/s]"
     ]
    },
    {
     "name": "stdout",
     "output_type": "stream",
     "text": [
      "\n",
      "Error opening 'train/5_2296/5_2296_20170630224607.wav': System error.\n",
      "Error opening 'train/5_2296/5_2296_20170630224617.wav': System error.\n",
      "Error opening 'train/5_2296/5_2296_20170630224626.wav': System error."
     ]
    },
    {
     "name": "stderr",
     "output_type": "stream",
     "text": [
      "\r",
      " 35%|███▍      | 218/625 [00:07<00:13, 29.51it/s]"
     ]
    },
    {
     "name": "stdout",
     "output_type": "stream",
     "text": [
      "\n",
      "Error opening 'train/5_2296/5_2296_20170630224634.wav': System error.\n",
      "Error opening 'train/5_2296/5_2296_20170630224648.wav': System error."
     ]
    },
    {
     "name": "stderr",
     "output_type": "stream",
     "text": [
      "\r",
      " 45%|████▌     | 282/625 [00:07<00:08, 38.81it/s]"
     ]
    },
    {
     "name": "stdout",
     "output_type": "stream",
     "text": [
      "\n"
     ]
    },
    {
     "name": "stderr",
     "output_type": "stream",
     "text": [
      " 35%|███▌      | 220/625 [00:07<00:12, 31.94it/s]]"
     ]
    },
    {
     "name": "stdout",
     "output_type": "stream",
     "text": [
      "Error opening 'train/5_2296/5_2296_20170630224702.wav': System error.\n",
      "Error opening 'train/5_2296/5_2296_20170630224915.wav': System error.\n",
      "Error opening 'train/5_2296/5_2296_20170630224922.wav': System error.\n",
      "Error opening 'train/5_2296/5_2296_20170630224930.wav': System error."
     ]
    },
    {
     "name": "stderr",
     "output_type": "stream",
     "text": [
      "\r",
      " 53%|█████▎    | 332/625 [00:07<00:06, 48.72it/s]"
     ]
    },
    {
     "name": "stdout",
     "output_type": "stream",
     "text": [
      "\n"
     ]
    },
    {
     "name": "stderr",
     "output_type": "stream",
     "text": [
      "\r",
      " 43%|████▎     | 271/625 [00:07<00:09, 37.60it/s]"
     ]
    },
    {
     "name": "stdout",
     "output_type": "stream",
     "text": [
      "Error opening 'train/5_2296/5_2296_20170630224939.wav': System error.\n",
      "Error opening 'train/5_2296/5_2296_20170630224955.wav': System error.\n",
      "Error opening 'train/5_2296/5_2296_20170630225002.wav': System error.\n",
      "Error opening 'train/5_2296/5_2296_20170630225105.wav': System error.\n",
      "Error opening 'train/5_2296/5_2296_20170630225157.wav': System error."
     ]
    },
    {
     "name": "stderr",
     "output_type": "stream",
     "text": [
      "\r",
      " 40%|████      | 252/625 [00:07<00:11, 32.94it/s]"
     ]
    },
    {
     "name": "stdout",
     "output_type": "stream",
     "text": [
      "\n",
      "Error opening 'train/5_2296/5_2296_20170630225211.wav': System error.\n",
      "Error opening 'train/5_2296/5_2296_20170630225220.wav': System error."
     ]
    },
    {
     "name": "stderr",
     "output_type": "stream",
     "text": [
      "\r",
      " 35%|███▌      | 221/625 [00:07<00:13, 29.10it/s]"
     ]
    },
    {
     "name": "stdout",
     "output_type": "stream",
     "text": [
      "\n"
     ]
    },
    {
     "name": "stderr",
     "output_type": "stream",
     "text": [
      "\r",
      " 56%|█████▋    | 353/625 [00:07<00:11, 23.43it/s]"
     ]
    },
    {
     "name": "stdout",
     "output_type": "stream",
     "text": [
      "Error opening 'train/5_2296/5_2296_20170630225228.wav': System error.\n"
     ]
    },
    {
     "name": "stderr",
     "output_type": "stream",
     "text": [
      " 69%|██████▉   | 433/625 [00:07<00:01, 114.97it/s]"
     ]
    },
    {
     "name": "stdout",
     "output_type": "stream",
     "text": [
      "Error opening 'train/5_2296/5_2296_20170630225241.wav': System error.\n",
      "Error opening 'train/5_2296/5_2296_20170630225253.wav': System error.\n",
      "Error opening 'train/5_2296/5_2296_20170630225304.wav': System error."
     ]
    },
    {
     "name": "stderr",
     "output_type": "stream",
     "text": [
      "\r",
      " 54%|█████▍    | 337/625 [00:07<00:05, 48.86it/s]"
     ]
    },
    {
     "name": "stdout",
     "output_type": "stream",
     "text": [
      "\n",
      "Error opening 'train/5_2296/5_2296_20170630225314.wav': System error.\n",
      "Error opening 'train/5_2296/5_2296_20170630225323.wav': System error."
     ]
    },
    {
     "name": "stderr",
     "output_type": "stream",
     "text": [
      "\r",
      " 36%|███▌      | 224/625 [00:07<00:12, 31.01it/s]"
     ]
    },
    {
     "name": "stdout",
     "output_type": "stream",
     "text": [
      "\n",
      "Error opening 'train/5_2296/5_2296_20170630225342.wav': System error.\n",
      "Error opening 'train/5_2296/5_2296_20170630225351.wav': System error.\n",
      "Error opening 'train/5_2296/5_2296_20170630225358.wav': System error.\n",
      "Error opening 'train/5_2296/5_2296_20170701100611.wav': System error.\n",
      "Error opening 'train/5_2296/5_2296_20170701140346.wav': System error.\n",
      "Error opening 'train/5_2296/5_2296_20170701140426.wav': System error.\n"
     ]
    },
    {
     "name": "stderr",
     "output_type": "stream",
     "text": [
      "\r",
      " 36%|███▌      | 224/625 [00:08<00:13, 29.32it/s]"
     ]
    },
    {
     "name": "stdout",
     "output_type": "stream",
     "text": [
      "Error opening 'train/5_2296/5_2296_20170701140442.wav': System error.\n",
      "Error opening 'train/5_2296/5_2296_20170701140613.wav': System error."
     ]
    },
    {
     "name": "stderr",
     "output_type": "stream",
     "text": [
      "\r",
      " 44%|████▍     | 275/625 [00:08<00:10, 33.23it/s]"
     ]
    },
    {
     "name": "stdout",
     "output_type": "stream",
     "text": [
      "\n"
     ]
    },
    {
     "name": "stderr",
     "output_type": "stream",
     "text": [
      "\r",
      " 71%|███████▏  | 446/625 [00:07<00:01, 118.72it/s]"
     ]
    },
    {
     "name": "stdout",
     "output_type": "stream",
     "text": [
      "Error opening 'train/5_2296/5_2296_20170701140636.wav': System error."
     ]
    },
    {
     "name": "stderr",
     "output_type": "stream",
     "text": [
      " 46%|████▋     | 290/625 [00:08<00:08, 37.90it/s]"
     ]
    },
    {
     "name": "stdout",
     "output_type": "stream",
     "text": [
      "\n",
      "Error opening 'train/5_2296/5_2296_20170701140648.wav': System error.\n",
      "Error opening 'train/5_2296/5_2296_20170701140713.wav': System error."
     ]
    },
    {
     "name": "stderr",
     "output_type": "stream",
     "text": [
      "\r",
      " 57%|█████▋    | 356/625 [00:08<00:11, 23.13it/s]"
     ]
    },
    {
     "name": "stdout",
     "output_type": "stream",
     "text": [
      "\n"
     ]
    },
    {
     "name": "stderr",
     "output_type": "stream",
     "text": [
      "\r",
      " 55%|█████▍    | 342/625 [00:08<00:05, 47.88it/s]"
     ]
    },
    {
     "name": "stdout",
     "output_type": "stream",
     "text": [
      "Error opening 'train/5_2296/5_2296_20170701140731.wav': System error.\n",
      "Error opening 'train/5_2296/5_2296_20170701140739.wav': System error.\n",
      "Error opening 'train/5_2296/5_2296_20170701140823.wav': System error.\n",
      "Error opening 'train/5_2296/5_2296_20170701140831.wav': System error.\n",
      "Error opening 'train/5_2296/5_2296_20170701140839.wav': System error.\n",
      "Error opening 'train/5_2296/5_2296_20170701140849.wav': System error.\n"
     ]
    },
    {
     "name": "stderr",
     "output_type": "stream",
     "text": [
      "\r",
      " 36%|███▋      | 228/625 [00:08<00:12, 30.79it/s]"
     ]
    },
    {
     "name": "stdout",
     "output_type": "stream",
     "text": [
      "Error opening 'train/5_2296/5_2296_20170701140907.wav': System error.\n",
      "Error opening 'train/5_2296/5_2296_20170701140917.wav': System error.\n",
      "Error opening 'train/5_2296/5_2296_20170701140937.wav': System error.\n"
     ]
    },
    {
     "name": "stderr",
     "output_type": "stream",
     "text": [
      "\r",
      " 36%|███▋      | 228/625 [00:08<00:12, 30.75it/s]"
     ]
    },
    {
     "name": "stdout",
     "output_type": "stream",
     "text": [
      "Error opening 'train/5_2296/5_2296_20170701140956.wav': System error.\n"
     ]
    },
    {
     "name": "stderr",
     "output_type": "stream",
     "text": [
      " 42%|████▏     | 260/625 [00:08<00:11, 31.29it/s]]"
     ]
    },
    {
     "name": "stdout",
     "output_type": "stream",
     "text": [
      "Error opening 'train/5_2296/5_2296_20170701141021.wav': System error."
     ]
    },
    {
     "name": "stderr",
     "output_type": "stream",
     "text": [
      "\r",
      " 56%|█████▌    | 347/625 [00:08<00:05, 47.06it/s]"
     ]
    },
    {
     "name": "stdout",
     "output_type": "stream",
     "text": [
      "\n"
     ]
    },
    {
     "name": "stderr",
     "output_type": "stream",
     "text": [
      "\r",
      " 57%|█████▋    | 359/625 [00:08<00:11, 23.14it/s]"
     ]
    },
    {
     "name": "stdout",
     "output_type": "stream",
     "text": [
      "Error opening 'train/5_2296/5_2296_20170701141029.wav': System error.\n",
      "Error opening 'train/5_2296/5_2296_20170701141038.wav': System error.\n",
      "Error opening 'train/5_2296/5_2296_20170701141057.wav': System error.\n",
      "Error opening 'train/5_2296/5_2296_20170701141108.wav': System error.\n",
      "Error opening 'train/5_2296/5_2296_20170701141124.wav': System error.\n",
      "Error opening 'train/5_2296/5_2296_20170701141134.wav': System error.\n",
      "Error opening 'train/5_2296/5_2296_20170701141159.wav': System error.\n"
     ]
    },
    {
     "name": "stderr",
     "output_type": "stream",
     "text": [
      "\r",
      " 37%|███▋      | 232/625 [00:08<00:12, 30.30it/s]"
     ]
    },
    {
     "name": "stdout",
     "output_type": "stream",
     "text": [
      "Error opening 'train/5_2296/5_2296_20170701141209.wav': System error.\n"
     ]
    },
    {
     "name": "stderr",
     "output_type": "stream",
     "text": [
      "\r",
      " 37%|███▋      | 232/625 [00:08<00:12, 31.85it/s]"
     ]
    },
    {
     "name": "stdout",
     "output_type": "stream",
     "text": [
      "Error opening 'train/5_2296/5_2296_20170701141219.wav': System error.\n",
      "Error opening 'train/5_2296/5_2296_20170701141231.wav': System error."
     ]
    },
    {
     "name": "stderr",
     "output_type": "stream",
     "text": [
      "\r",
      " 48%|████▊     | 298/625 [00:08<00:08, 37.50it/s]"
     ]
    },
    {
     "name": "stdout",
     "output_type": "stream",
     "text": [
      "\n",
      "Error opening 'train/5_2296/5_2296_20170701141243.wav': System error.\n"
     ]
    },
    {
     "name": "stderr",
     "output_type": "stream",
     "text": [
      " 45%|████▌     | 284/625 [00:08<00:10, 33.80it/s]]"
     ]
    },
    {
     "name": "stdout",
     "output_type": "stream",
     "text": [
      "Error opening 'train/5_2296/5_2296_20170701141302.wav': System error.\n",
      "Error opening 'train/5_2296/5_2296_20170701141314.wav': System error.\n"
     ]
    },
    {
     "name": "stderr",
     "output_type": "stream",
     "text": [
      "\r",
      " 42%|████▏     | 264/625 [00:08<00:11, 31.42it/s]"
     ]
    },
    {
     "name": "stdout",
     "output_type": "stream",
     "text": [
      "Error opening 'train/5_2296/5_2296_20170701141355.wav': System error."
     ]
    },
    {
     "name": "stderr",
     "output_type": "stream",
     "text": [
      "\r",
      " 56%|█████▋    | 353/625 [00:08<00:05, 48.59it/s]"
     ]
    },
    {
     "name": "stdout",
     "output_type": "stream",
     "text": [
      "\n",
      "Error opening 'train/5_2296/5_2296_20170701141403.wav': System error.\n",
      "Error opening 'train/5_2296/5_2296_20170701141419.wav': System error.\n",
      "Error opening 'train/5_2296/5_2296_20170701141431.wav': System error.\n",
      "Error opening 'train/5_2296/5_2296_20170701141450.wav': System error.\n"
     ]
    },
    {
     "name": "stderr",
     "output_type": "stream",
     "text": [
      "\r",
      " 58%|█████▊    | 362/625 [00:08<00:11, 22.42it/s]"
     ]
    },
    {
     "name": "stdout",
     "output_type": "stream",
     "text": [
      "Error opening 'train/5_2296/5_2296_20170701144714.wav': System error.\n",
      "Error opening 'train/5_2296/5_2296_20170701144806.wav': System error.\n",
      "Error opening 'train/5_2296/5_2296_20170701144837.wav': System error.\n"
     ]
    },
    {
     "name": "stderr",
     "output_type": "stream",
     "text": [
      "\r",
      " 38%|███▊      | 236/625 [00:08<00:12, 30.51it/s]"
     ]
    },
    {
     "name": "stdout",
     "output_type": "stream",
     "text": [
      "Error opening 'train/5_2296/5_2296_20170701144850.wav': System error.\n"
     ]
    },
    {
     "name": "stderr",
     "output_type": "stream",
     "text": [
      "\r",
      " 38%|███▊      | 236/625 [00:08<00:11, 32.69it/s]"
     ]
    },
    {
     "name": "stdout",
     "output_type": "stream",
     "text": [
      "Error opening 'train/5_2296/5_2296_20170701144903.wav': System error.\n",
      "Error opening 'train/5_2296/5_2296_20170701144939.wav': System error.\n"
     ]
    },
    {
     "name": "stderr",
     "output_type": "stream",
     "text": [
      "\r",
      " 77%|███████▋  | 484/625 [00:08<00:01, 114.84it/s]"
     ]
    },
    {
     "name": "stdout",
     "output_type": "stream",
     "text": [
      "Error opening 'train/5_2296/5_2296_20170701145304.wav': System error.\n",
      "Error opening 'train/5_2296/5_2296_20170701145324.wav': System error.\n",
      "Error opening 'train/5_2296/5_2296_20170701145332.wav': System error.\n",
      "Error opening 'train/5_2296/5_2296_20170701145450.wav': System error.\n",
      "Error opening 'train/5_2296/5_2296_20170701145458.wav': System error."
     ]
    },
    {
     "name": "stderr",
     "output_type": "stream",
     "text": [
      " 48%|████▊     | 303/625 [00:08<00:09, 35.75it/s]"
     ]
    },
    {
     "name": "stdout",
     "output_type": "stream",
     "text": [
      "\n",
      "Error opening 'train/5_2296/5_2296_20170701145551.wav': System error.\n"
     ]
    },
    {
     "name": "stderr",
     "output_type": "stream",
     "text": [
      "\r",
      " 43%|████▎     | 268/625 [00:08<00:11, 31.30it/s]"
     ]
    },
    {
     "name": "stdout",
     "output_type": "stream",
     "text": [
      "Error opening 'train/5_2296/5_2296_20170701145608.wav': System error.\n",
      "Error opening 'train/5_2296/5_2296_20170701145617.wav': System error.\n",
      "Error opening 'train/5_2296/5_2296_20170701145803.wav': System error.\n"
     ]
    },
    {
     "name": "stderr",
     "output_type": "stream",
     "text": [
      "\r",
      " 59%|█████▊    | 366/625 [00:08<00:10, 25.69it/s]"
     ]
    },
    {
     "name": "stdout",
     "output_type": "stream",
     "text": [
      "Error opening 'train/5_2296/5_2296_20170701145820.wav': System error.\n",
      "Error opening 'train/5_2296/5_2296_20170701155508.wav': System error.\n",
      "Error opening 'train/5_2296/5_2296_20170701155530.wav': System error.\n",
      "Error opening 'train/5_2296/5_2296_20170701155546.wav': System error.\n"
     ]
    },
    {
     "name": "stderr",
     "output_type": "stream",
     "text": [
      "\r",
      " 80%|███████▉  | 497/625 [00:08<00:01, 117.12it/s]"
     ]
    },
    {
     "name": "stdout",
     "output_type": "stream",
     "text": [
      "Error opening 'train/5_2296/5_2296_20170701155629.wav': System error.\n",
      "Error opening 'train/5_2296/5_2296_20170701155702.wav': System error.\n",
      "Error opening 'train/5_2296/5_2296_20170701155718.wav': System error.\n"
     ]
    },
    {
     "name": "stderr",
     "output_type": "stream",
     "text": [
      "\r",
      " 38%|███▊      | 240/625 [00:08<00:12, 29.89it/s]"
     ]
    },
    {
     "name": "stdout",
     "output_type": "stream",
     "text": [
      "Error opening 'train/5_2296/5_2296_20170701155735.wav': System error."
     ]
    },
    {
     "name": "stderr",
     "output_type": "stream",
     "text": [
      "\r",
      " 38%|███▊      | 240/625 [00:08<00:12, 31.20it/s]"
     ]
    },
    {
     "name": "stdout",
     "output_type": "stream",
     "text": [
      "\n"
     ]
    },
    {
     "name": "stderr",
     "output_type": "stream",
     "text": [
      "\r",
      " 58%|█████▊    | 363/625 [00:08<00:05, 46.59it/s]"
     ]
    },
    {
     "name": "stdout",
     "output_type": "stream",
     "text": [
      "Error opening 'train/5_2296/5_2296_20170701155743.wav': System error."
     ]
    },
    {
     "name": "stderr",
     "output_type": "stream",
     "text": [
      " 44%|████▎     | 272/625 [00:08<00:10, 32.80it/s]"
     ]
    },
    {
     "name": "stdout",
     "output_type": "stream",
     "text": [
      "\n",
      "Error opening 'train/5_2296/5_2296_20170701155753.wav': System error.\n",
      "Error opening 'train/5_2296/5_2296_20170701160204.wav': System error.\n",
      "Error opening 'train/5_2296/5_2296_20170701160211.wav': System error."
     ]
    },
    {
     "name": "stderr",
     "output_type": "stream",
     "text": [
      "\r",
      " 59%|█████▉    | 369/625 [00:08<00:09, 26.10it/s]"
     ]
    },
    {
     "name": "stdout",
     "output_type": "stream",
     "text": [
      "\n",
      "Error opening 'train/5_2296/5_2296_20170701160617.wav': System error.\n",
      "Error opening 'train/5_2296/5_2296_20170701160632.wav': System error.\n",
      "Error opening 'train/5_2296/5_2296_20170701161232.wav': System error.\n",
      "Error opening 'train/5_2296/5_2296_20170701161243.wav': System error.\n"
     ]
    },
    {
     "name": "stderr",
     "output_type": "stream",
     "text": [
      "\r",
      " 81%|████████▏ | 509/625 [00:08<00:00, 116.83it/s]"
     ]
    },
    {
     "name": "stdout",
     "output_type": "stream",
     "text": [
      "Error opening 'train/5_2296/5_2296_20170701161302.wav': System error.\n",
      "Error opening 'train/5_2296/5_2296_20170701161323.wav': System error.\n",
      "Error opening 'train/5_2296/5_2296_20170701161334.wav': System error.\n",
      "Error opening 'train/5_2296/5_2296_20170701161351.wav': System error.\n",
      "Error opening 'train/5_2296/5_2296_20170701161406.wav': System error."
     ]
    },
    {
     "name": "stderr",
     "output_type": "stream",
     "text": [
      "\r",
      " 39%|███▉      | 244/625 [00:08<00:12, 31.10it/s]"
     ]
    },
    {
     "name": "stdout",
     "output_type": "stream",
     "text": [
      "\n",
      "Error opening 'train/5_2296/5_2296_20170701161445.wav': System error.\n"
     ]
    },
    {
     "name": "stderr",
     "output_type": "stream",
     "text": [
      "\r",
      " 50%|█████     | 313/625 [00:08<00:07, 40.73it/s]"
     ]
    },
    {
     "name": "stdout",
     "output_type": "stream",
     "text": [
      "Error opening 'train/5_2296/5_2296_20170701161502.wav': System error.\n",
      "Error opening 'train/5_2296/5_2296_20170701161511.wav': System error.\n"
     ]
    },
    {
     "name": "stderr",
     "output_type": "stream",
     "text": [
      "\r",
      " 48%|████▊     | 300/625 [00:08<00:08, 40.55it/s]"
     ]
    },
    {
     "name": "stdout",
     "output_type": "stream",
     "text": [
      "Error opening 'train/5_2296/5_2296_20170701161528.wav': System error."
     ]
    },
    {
     "name": "stderr",
     "output_type": "stream",
     "text": [
      "\r",
      " 59%|█████▉    | 368/625 [00:08<00:05, 44.61it/s]"
     ]
    },
    {
     "name": "stdout",
     "output_type": "stream",
     "text": [
      "\n",
      "Error opening 'train/5_2296/5_2296_20170701161537.wav': System error."
     ]
    },
    {
     "name": "stderr",
     "output_type": "stream",
     "text": [
      "\r",
      " 39%|███▉      | 244/625 [00:08<00:12, 29.90it/s]"
     ]
    },
    {
     "name": "stdout",
     "output_type": "stream",
     "text": [
      "\n",
      "Error opening 'train/5_2296/5_2296_20170701161546.wav': System error.\n"
     ]
    },
    {
     "name": "stderr",
     "output_type": "stream",
     "text": [
      "\r",
      " 44%|████▍     | 276/625 [00:08<00:11, 31.65it/s]"
     ]
    },
    {
     "name": "stdout",
     "output_type": "stream",
     "text": [
      "Error opening 'train/5_2296/5_2296_20170701161555.wav': System error.\n",
      "Error opening 'train/5_2296/5_2296_20170701161605.wav': System error.\n",
      "Error opening 'train/5_2296/5_2296_20170701161614.wav': System error.\n"
     ]
    },
    {
     "name": "stderr",
     "output_type": "stream",
     "text": [
      " 60%|█████▉    | 372/625 [00:08<00:10, 23.72it/s]]"
     ]
    },
    {
     "name": "stdout",
     "output_type": "stream",
     "text": [
      "Error opening 'train/5_2296/5_2296_20170701161622.wav': System error.\n",
      "Error opening 'train/5_2296/5_2296_20170701161648.wav': System error.\n",
      "Error opening 'train/5_2296/5_2296_20170701161710.wav': System error.\n",
      "Error opening 'train/5_2296/5_2296_20170701161721.wav': System error.\n",
      "Error opening 'train/5_2296/5_2296_20170701161730.wav': System error.\n",
      "Error opening 'train/5_2296/5_2296_20170701161747.wav': System error."
     ]
    },
    {
     "name": "stderr",
     "output_type": "stream",
     "text": [
      " 51%|█████     | 318/625 [00:08<00:07, 40.75it/s]"
     ]
    },
    {
     "name": "stdout",
     "output_type": "stream",
     "text": [
      "\n",
      "Error opening 'train/5_2296/5_2296_20170701161803.wav': System error."
     ]
    },
    {
     "name": "stderr",
     "output_type": "stream",
     "text": [
      "\r",
      " 60%|██████    | 375/625 [00:08<00:05, 49.91it/s]"
     ]
    },
    {
     "name": "stdout",
     "output_type": "stream",
     "text": [
      "\n",
      "Error opening 'train/5_2296/5_2296_20170701161818.wav': System error."
     ]
    },
    {
     "name": "stderr",
     "output_type": "stream",
     "text": [
      "\r",
      " 45%|████▍     | 280/625 [00:08<00:10, 33.52it/s]"
     ]
    },
    {
     "name": "stdout",
     "output_type": "stream",
     "text": [
      "\n"
     ]
    },
    {
     "name": "stderr",
     "output_type": "stream",
     "text": [
      "\r",
      " 49%|████▉     | 305/625 [00:08<00:07, 40.13it/s]"
     ]
    },
    {
     "name": "stdout",
     "output_type": "stream",
     "text": [
      "Error opening 'train/5_2296/5_2296_20170701161827.wav': System error.\n",
      "Error opening 'train/5_2296/5_2296_20170701161846.wav': System error.\n",
      "Error opening 'train/5_2296/5_2296_20170701161858.wav': System error.\n"
     ]
    },
    {
     "name": "stderr",
     "output_type": "stream",
     "text": [
      "\r",
      " 40%|███▉      | 248/625 [00:08<00:12, 29.69it/s]"
     ]
    },
    {
     "name": "stdout",
     "output_type": "stream",
     "text": [
      "Error opening 'train/5_2296/5_2296_20170701161909.wav': System error.\n",
      "Error opening 'train/5_2296/5_2296_20170701161920.wav': System error.\n"
     ]
    },
    {
     "name": "stderr",
     "output_type": "stream",
     "text": [
      "\r",
      " 86%|████████▌ | 536/625 [00:08<00:00, 120.38it/s]"
     ]
    },
    {
     "name": "stdout",
     "output_type": "stream",
     "text": [
      "Error opening 'train/5_2296/5_2296_20170701161932.wav': System error.\n"
     ]
    },
    {
     "name": "stderr",
     "output_type": "stream",
     "text": [
      "\r",
      " 60%|██████    | 375/625 [00:08<00:09, 25.20it/s]"
     ]
    },
    {
     "name": "stdout",
     "output_type": "stream",
     "text": [
      "Error opening 'train/5_2296/5_2296_20170701161941.wav': System error.\n",
      "Error opening 'train/5_2296/5_2296_20170701161950.wav': System error.\n",
      "Error opening 'train/5_2296/5_2296_20170701161957.wav': System error.\n",
      "Error opening 'train/5_2296/5_2296_20170701162008.wav': System error.\n",
      "Error opening 'train/5_2296/5_2296_20170701162022.wav': System error.\n",
      "Error opening 'train/5_2296/5_2296_20170701162056.wav': System error.\n",
      "Error opening 'train/5_2296/5_2296_20170701162108.wav': System error.\n",
      "Error opening 'train/5_2296/5_2296_20170701162120.wav': System error.\n",
      "Error opening 'train/5_2296/5_2296_20170701162135.wav': System error.\n"
     ]
    },
    {
     "name": "stderr",
     "output_type": "stream",
     "text": [
      "\r",
      " 50%|████▉     | 310/625 [00:08<00:07, 41.70it/s]"
     ]
    },
    {
     "name": "stdout",
     "output_type": "stream",
     "text": [
      "Error opening 'train/5_2296/5_2296_20170701162142.wav': System error.\n"
     ]
    },
    {
     "name": "stderr",
     "output_type": "stream",
     "text": [
      "\r",
      " 40%|████      | 252/625 [00:08<00:12, 30.88it/s]"
     ]
    },
    {
     "name": "stdout",
     "output_type": "stream",
     "text": [
      "Error opening 'train/5_2296/5_2296_20170701162201.wav': System error.\n"
     ]
    },
    {
     "name": "stderr",
     "output_type": "stream",
     "text": [
      "\r",
      " 52%|█████▏    | 323/625 [00:08<00:07, 39.60it/s]"
     ]
    },
    {
     "name": "stdout",
     "output_type": "stream",
     "text": [
      "Error opening 'train/5_2296/5_2296_20170701162210.wav': System error.\n",
      "Error opening 'train/5_2296/5_2296_20170701162225.wav': System error."
     ]
    },
    {
     "name": "stderr",
     "output_type": "stream",
     "text": [
      " 61%|██████    | 381/625 [00:08<00:05, 47.44it/s]"
     ]
    },
    {
     "name": "stdout",
     "output_type": "stream",
     "text": [
      "\n"
     ]
    },
    {
     "name": "stderr",
     "output_type": "stream",
     "text": [
      "\r",
      " 46%|████▌     | 285/625 [00:08<00:09, 34.77it/s]"
     ]
    },
    {
     "name": "stdout",
     "output_type": "stream",
     "text": [
      "Error opening 'train/5_2296/5_2296_20170701162243.wav': System error.\n"
     ]
    },
    {
     "name": "stderr",
     "output_type": "stream",
     "text": [
      "\r",
      " 88%|████████▊ | 551/625 [00:08<00:00, 128.76it/s]"
     ]
    },
    {
     "name": "stdout",
     "output_type": "stream",
     "text": [
      "Error opening 'train/5_2296/5_2296_20170701162308.wav': System error.\n",
      "Error opening 'train/5_2296/5_2296_20170701162315.wav': System error.\n",
      "Error opening 'train/5_2296/5_2296_20170701162327.wav': System error.\n",
      "Error opening 'train/5_2296/5_2296_20170701162335.wav': System error.\n",
      "Error opening 'train/5_2296/5_2296_20170701162346.wav': System error.\n"
     ]
    },
    {
     "name": "stderr",
     "output_type": "stream",
     "text": [
      "\r",
      " 60%|██████    | 378/625 [00:08<00:10, 23.70it/s]"
     ]
    },
    {
     "name": "stdout",
     "output_type": "stream",
     "text": [
      "Error opening 'train/5_2296/5_2296_20170701162408.wav': System error.\n",
      "Error opening 'train/5_2296/5_2296_20170701162418.wav': System error.\n",
      "Error opening 'train/5_2296/5_2296_20170701162432.wav': System error.\n",
      "Error opening 'train/5_2296/5_2296_20170701162538.wav': System error.\n"
     ]
    },
    {
     "name": "stderr",
     "output_type": "stream",
     "text": [
      "\r",
      " 41%|████      | 256/625 [00:08<00:11, 31.62it/s]"
     ]
    },
    {
     "name": "stdout",
     "output_type": "stream",
     "text": [
      "Error opening 'train/5_2296/5_2296_20170701162547.wav': System error."
     ]
    },
    {
     "name": "stderr",
     "output_type": "stream",
     "text": [
      "\r",
      " 52%|█████▏    | 328/625 [00:08<00:07, 40.50it/s]"
     ]
    },
    {
     "name": "stdout",
     "output_type": "stream",
     "text": [
      "\n",
      "Error opening 'train/5_2296/5_2296_20170701162558.wav': System error."
     ]
    },
    {
     "name": "stderr",
     "output_type": "stream",
     "text": [
      "\r",
      " 50%|█████     | 315/625 [00:08<00:07, 40.37it/s]"
     ]
    },
    {
     "name": "stdout",
     "output_type": "stream",
     "text": [
      "\n"
     ]
    },
    {
     "name": "stderr",
     "output_type": "stream",
     "text": [
      "\r",
      " 62%|██████▏   | 387/625 [00:08<00:04, 49.10it/s]"
     ]
    },
    {
     "name": "stdout",
     "output_type": "stream",
     "text": [
      "Error opening 'train/5_2296/5_2296_20170701162609.wav': System error.\n"
     ]
    },
    {
     "name": "stderr",
     "output_type": "stream",
     "text": [
      "\r",
      " 41%|████      | 255/625 [00:09<00:12, 30.24it/s]"
     ]
    },
    {
     "name": "stdout",
     "output_type": "stream",
     "text": [
      "Error opening 'train/5_2296/5_2296_20170701162618.wav': System error."
     ]
    },
    {
     "name": "stderr",
     "output_type": "stream",
     "text": [
      "\r",
      " 46%|████▌     | 289/625 [00:08<00:09, 33.83it/s]"
     ]
    },
    {
     "name": "stdout",
     "output_type": "stream",
     "text": [
      "\n"
     ]
    },
    {
     "name": "stderr",
     "output_type": "stream",
     "text": [
      "\r",
      " 90%|█████████ | 564/625 [00:08<00:00, 119.74it/s]"
     ]
    },
    {
     "name": "stdout",
     "output_type": "stream",
     "text": [
      "Error opening 'train/5_2296/5_2296_20170701162649.wav': System error.\n",
      "Error opening 'train/5_2296/5_2296_20170701162657.wav': System error.\n",
      "Error opening 'train/5_2296/5_2296_20170701162708.wav': System error.\n",
      "Error opening 'train/5_2296/5_2296_20170701162723.wav': System error.\n",
      "Error opening 'train/5_2296/5_2296_20170701162756.wav': System error.\n",
      "Error opening 'train/5_2296/5_2296_20170701162809.wav': System error.\n",
      "Error opening 'train/5_2296/5_2296_20170701162817.wav': System error.\n",
      "Error opening 'train/5_2296/5_2296_20170701162829.wav': System error.\n",
      "Error opening 'train/5_2296/5_2296_20170701162840.wav': System error.\n"
     ]
    },
    {
     "name": "stderr",
     "output_type": "stream",
     "text": [
      " 42%|████▏     | 260/625 [00:09<00:11, 31.77it/s]"
     ]
    },
    {
     "name": "stdout",
     "output_type": "stream",
     "text": [
      "Error opening 'train/5_2296/5_2296_20170701162852.wav': System error."
     ]
    },
    {
     "name": "stderr",
     "output_type": "stream",
     "text": [
      " 63%|██████▎   | 393/625 [00:09<00:04, 51.27it/s]"
     ]
    },
    {
     "name": "stdout",
     "output_type": "stream",
     "text": [
      "\n",
      "Error opening 'train/5_2296/5_2296_20170701162901.wav': System error.\n",
      "Error opening 'train/5_2296/5_2296_20170701162919.wav': System error.\n",
      "Error opening 'train/5_2296/5_2296_20170701162927.wav': System error."
     ]
    },
    {
     "name": "stderr",
     "output_type": "stream",
     "text": [
      "\r",
      " 47%|████▋     | 293/625 [00:09<00:09, 33.45it/s]"
     ]
    },
    {
     "name": "stdout",
     "output_type": "stream",
     "text": [
      "\n"
     ]
    },
    {
     "name": "stderr",
     "output_type": "stream",
     "text": [
      "\r",
      " 92%|█████████▏| 577/625 [00:09<00:00, 116.18it/s]"
     ]
    },
    {
     "name": "stdout",
     "output_type": "stream",
     "text": [
      "Error opening 'train/5_2296/5_2296_20170701162945.wav': System error.\n"
     ]
    },
    {
     "name": "stderr",
     "output_type": "stream",
     "text": [
      "\r",
      " 41%|████▏     | 259/625 [00:09<00:12, 29.41it/s]"
     ]
    },
    {
     "name": "stdout",
     "output_type": "stream",
     "text": [
      "Error opening 'train/5_2296/5_2296_20170701162952.wav': System error.\n",
      "Error opening 'train/5_2296/5_2296_20170701163013.wav': System error.\n",
      "Error opening 'train/5_2296/5_2296_20170701163020.wav': System error.\n",
      "Error opening 'train/5_2296/5_2296_20170701163046.wav': System error.\n",
      "Error opening 'train/5_2296/5_2296_20170701163055.wav': System error.\n",
      "Error opening 'train/5_2296/5_2296_20170701163107.wav': System error.\n",
      "Error opening 'train/5_2296/5_2296_20170701163131.wav': System error.\n"
     ]
    },
    {
     "name": "stderr",
     "output_type": "stream",
     "text": [
      "\r",
      " 54%|█████▍    | 338/625 [00:09<00:06, 44.06it/s]"
     ]
    },
    {
     "name": "stdout",
     "output_type": "stream",
     "text": [
      "Error opening 'train/5_2296/5_2296_20170701163145.wav': System error.\n",
      "Error opening 'train/5_2296/5_2296_20170701163155.wav': System error."
     ]
    },
    {
     "name": "stderr",
     "output_type": "stream",
     "text": [
      "\r",
      " 52%|█████▏    | 326/625 [00:09<00:06, 46.25it/s]"
     ]
    },
    {
     "name": "stdout",
     "output_type": "stream",
     "text": [
      "\n",
      "Error opening 'train/5_2296/5_2296_20170701163215.wav': System error.\n",
      "Error opening 'train/5_2296/5_2296_20170701163230.wav': System error."
     ]
    },
    {
     "name": "stderr",
     "output_type": "stream",
     "text": [
      "\r",
      " 64%|██████▍   | 399/625 [00:09<00:04, 50.88it/s]"
     ]
    },
    {
     "name": "stdout",
     "output_type": "stream",
     "text": [
      "\n",
      "Error opening 'train/5_2296/5_2296_20170701163243.wav': System error."
     ]
    },
    {
     "name": "stderr",
     "output_type": "stream",
     "text": [
      "\r",
      " 42%|████▏     | 264/625 [00:09<00:11, 32.15it/s]"
     ]
    },
    {
     "name": "stdout",
     "output_type": "stream",
     "text": [
      "\n",
      "Error opening 'train/5_2296/5_2296_20170701163253.wav': System error."
     ]
    },
    {
     "name": "stderr",
     "output_type": "stream",
     "text": [
      "\r",
      " 61%|██████▏   | 384/625 [00:09<00:10, 21.97it/s]"
     ]
    },
    {
     "name": "stdout",
     "output_type": "stream",
     "text": [
      "\n"
     ]
    },
    {
     "name": "stderr",
     "output_type": "stream",
     "text": [
      " 48%|████▊     | 297/625 [00:09<00:09, 33.66it/s]]"
     ]
    },
    {
     "name": "stdout",
     "output_type": "stream",
     "text": [
      "Error opening 'train/5_2296/5_2296_20170701163308.wav': System error.\n",
      "Error opening 'train/5_2296/5_2296_20170701163317.wav': System error.\n",
      "Error opening 'train/5_2296/5_2296_20170701163337.wav': System error.\n",
      "Error opening 'train/5_2296/5_2296_20170701163412.wav': System error.\n",
      "Error opening 'train/5_2296/5_2296_20170701163440.wav': System error.\n",
      "Error opening 'train/5_2296/5_2296_20170701163448.wav': System error.\n",
      "Error opening 'train/5_2296/5_2296_20170701163457.wav': System error.\n"
     ]
    },
    {
     "name": "stderr",
     "output_type": "stream",
     "text": [
      "\r",
      " 55%|█████▌    | 344/625 [00:09<00:06, 46.55it/s]"
     ]
    },
    {
     "name": "stdout",
     "output_type": "stream",
     "text": [
      "Error opening 'train/5_2296/5_2296_20170701163506.wav': System error.\n"
     ]
    },
    {
     "name": "stderr",
     "output_type": "stream",
     "text": [
      "\r",
      " 53%|█████▎    | 331/625 [00:09<00:06, 45.92it/s]"
     ]
    },
    {
     "name": "stdout",
     "output_type": "stream",
     "text": [
      "Error opening 'train/5_2296/5_2296_20170701163515.wav': System error.\n",
      "Error opening 'train/5_2296/5_2296_20170701163526.wav': System error.\n",
      "Error opening 'train/5_2296/5_2296_20170701163533.wav': System error."
     ]
    },
    {
     "name": "stderr",
     "output_type": "stream",
     "text": [
      "\r",
      " 43%|████▎     | 268/625 [00:09<00:10, 33.00it/s]"
     ]
    },
    {
     "name": "stdout",
     "output_type": "stream",
     "text": [
      "\n",
      "Error opening 'train/5_2296/5_2296_20170701163612.wav': System error.\n"
     ]
    },
    {
     "name": "stderr",
     "output_type": "stream",
     "text": [
      " 62%|██████▏   | 388/625 [00:09<00:09, 25.17it/s]]"
     ]
    },
    {
     "name": "stdout",
     "output_type": "stream",
     "text": [
      "Error opening 'train/5_2296/5_2296_20170701163621.wav': System error.\n",
      "Error opening 'train/5_2296/5_2296_20170701163632.wav': System error."
     ]
    },
    {
     "name": "stderr",
     "output_type": "stream",
     "text": [
      "\r",
      " 43%|████▎     | 266/625 [00:09<00:11, 30.70it/s]"
     ]
    },
    {
     "name": "stdout",
     "output_type": "stream",
     "text": [
      "\n",
      "Error opening 'train/5_2296/5_2296_20170701163641.wav': System error.\n",
      "Error opening 'train/5_2296/5_2296_20170701163649.wav': System error.\n",
      "Error opening 'train/5_2296/5_2296_20170701163656.wav': System error.\n",
      "Error opening 'train/5_2296/5_2296_20170701163709.wav': System error."
     ]
    },
    {
     "name": "stderr",
     "output_type": "stream",
     "text": [
      "\r",
      " 48%|████▊     | 301/625 [00:09<00:10, 32.04it/s]"
     ]
    },
    {
     "name": "stdout",
     "output_type": "stream",
     "text": [
      "\n",
      "Error opening 'train/5_2296/5_2296_20170701163718.wav': System error."
     ]
    },
    {
     "name": "stderr",
     "output_type": "stream",
     "text": [
      "\r",
      " 65%|██████▍   | 405/625 [00:09<00:05, 43.95it/s]"
     ]
    },
    {
     "name": "stdout",
     "output_type": "stream",
     "text": [
      "\n",
      "Error opening 'train/5_2296/5_2296_20170701163740.wav': System error.\n",
      "Error opening 'train/5_2296/5_2296_20170701163759.wav': System error.\n",
      "Error opening 'train/5_2296/5_2296_20170701163927.wav': System error.\n"
     ]
    },
    {
     "name": "stderr",
     "output_type": "stream",
     "text": [
      "\r",
      " 54%|█████▍    | 336/625 [00:09<00:06, 45.45it/s]"
     ]
    },
    {
     "name": "stdout",
     "output_type": "stream",
     "text": [
      "Error opening 'train/5_2296/5_2296_20170701163935.wav': System error.\n",
      "Error opening 'train/5_2296/5_2296_20170701163943.wav': System error.\n"
     ]
    },
    {
     "name": "stderr",
     "output_type": "stream",
     "text": [
      "\r",
      " 56%|█████▌    | 349/625 [00:09<00:06, 42.69it/s]"
     ]
    },
    {
     "name": "stdout",
     "output_type": "stream",
     "text": [
      "Error opening 'train/5_2296/5_2296_20170701163955.wav': System error.\n"
     ]
    },
    {
     "name": "stderr",
     "output_type": "stream",
     "text": [
      "\r",
      " 99%|█████████▊| 616/625 [00:09<00:00, 118.73it/s]"
     ]
    },
    {
     "name": "stdout",
     "output_type": "stream",
     "text": [
      "Error opening 'train/5_2296/5_2296_20170701164011.wav': System error.\n",
      "Error opening 'train/5_2296/5_2296_20170701164021.wav': System error."
     ]
    },
    {
     "name": "stderr",
     "output_type": "stream",
     "text": [
      "\r",
      " 63%|██████▎   | 391/625 [00:09<00:09, 25.38it/s]"
     ]
    },
    {
     "name": "stdout",
     "output_type": "stream",
     "text": [
      "\n",
      "Error opening 'train/5_2296/5_2296_20170701164029.wav': System error."
     ]
    },
    {
     "name": "stderr",
     "output_type": "stream",
     "text": [
      "\r",
      " 44%|████▎     | 272/625 [00:09<00:11, 31.91it/s]"
     ]
    },
    {
     "name": "stdout",
     "output_type": "stream",
     "text": [
      "\n",
      "Error opening 'train/5_2296/5_2296_20170701164037.wav': System error.\n",
      "Error opening 'train/5_2296/5_2296_20170701164054.wav': System error.\n",
      "Error opening 'train/5_2296/5_2296_20170701164112.wav': System error.\n",
      "Error opening 'train/5_2296/5_2296_20170701164131.wav': System error.\n"
     ]
    },
    {
     "name": "stderr",
     "output_type": "stream",
     "text": [
      " 43%|████▎     | 270/625 [00:09<00:11, 30.04it/s]"
     ]
    },
    {
     "name": "stdout",
     "output_type": "stream",
     "text": [
      "Error opening 'train/5_2296/5_2296_20170701164138.wav': System error.\n",
      "Error opening 'train/5_2296/5_2296_20170701164154.wav': System error."
     ]
    },
    {
     "name": "stderr",
     "output_type": "stream",
     "text": [
      "\r",
      " 55%|█████▍    | 341/625 [00:09<00:06, 46.38it/s]"
     ]
    },
    {
     "name": "stdout",
     "output_type": "stream",
     "text": [
      "\n"
     ]
    },
    {
     "name": "stderr",
     "output_type": "stream",
     "text": [
      "100%|██████████| 625/625 [00:09<00:00, 65.72it/s] \n",
      "100%|██████████| 625/625 [00:13<00:00, 45.97it/s]\n",
      " 81%|████████  | 504/625 [00:14<00:02, 46.29it/s]IOPub message rate exceeded.\n",
      "The notebook server will temporarily stop sending output\n",
      "to the client in order to avoid crashing it.\n",
      "To change this limit, set the config variable\n",
      "`--NotebookApp.iopub_msg_rate_limit`.\n",
      "\n",
      "Current values:\n",
      "NotebookApp.iopub_msg_rate_limit=1000.0 (msgs/sec)\n",
      "NotebookApp.rate_limit_window=3.0 (secs)\n",
      "\n"
     ]
    },
    {
     "name": "stdout",
     "output_type": "stream",
     "text": [
      "\n",
      "Error opening 'train/5_2399/5_2399_20170630161649.wav': System error.\n",
      "Error opening 'train/5_2399/5_2399_20170630161702.wav': System error.\n",
      "Error opening 'train/5_2399/5_2399_20170630161722.wav': System error."
     ]
    },
    {
     "name": "stderr",
     "output_type": "stream",
     "text": [
      "\r",
      " 56%|█████▌    | 350/625 [00:09<00:07, 35.48it/s]"
     ]
    },
    {
     "name": "stdout",
     "output_type": "stream",
     "text": [
      "\n",
      "Error opening 'train/5_2399/5_2399_20170630161738.wav': System error.\n",
      "Error opening 'train/5_2399/5_2399_20170630161756.wav': System error."
     ]
    },
    {
     "name": "stderr",
     "output_type": "stream",
     "text": [
      "\r",
      " 43%|████▎     | 268/625 [00:09<00:09, 36.08it/s]"
     ]
    },
    {
     "name": "stdout",
     "output_type": "stream",
     "text": [
      "\n",
      "Error opening 'train/5_2399/5_2399_20170630161807.wav': System error.\n"
     ]
    },
    {
     "name": "stderr",
     "output_type": "stream",
     "text": [
      "\r",
      " 85%|████████▍ | 531/625 [00:09<00:00, 113.66it/s]"
     ]
    },
    {
     "name": "stdout",
     "output_type": "stream",
     "text": [
      "Error opening 'train/5_2399/5_2399_20170630161824.wav': System error.\n",
      "Error opening 'train/5_2399/5_2399_20170630161835.wav': System error.\n",
      "Error opening 'train/5_2399/5_2399_20170630161852.wav': System error."
     ]
    },
    {
     "name": "stderr",
     "output_type": "stream",
     "text": [
      "\r",
      " 51%|█████     | 316/625 [00:09<00:10, 30.39it/s]"
     ]
    },
    {
     "name": "stdout",
     "output_type": "stream",
     "text": [
      "\n",
      "Error opening 'train/5_2399/5_2399_20170630161902.wav': System error."
     ]
    },
    {
     "name": "stderr",
     "output_type": "stream",
     "text": [
      " 54%|█████▍    | 339/625 [00:09<00:06, 43.34it/s]"
     ]
    },
    {
     "name": "stdout",
     "output_type": "stream",
     "text": [
      "\n",
      "Error opening 'train/5_2399/5_2399_20170630161918.wav': System error.\n",
      "Error opening 'train/5_2399/5_2399_20170630161935.wav': System error."
     ]
    },
    {
     "name": "stderr",
     "output_type": "stream",
     "text": [
      "\r",
      " 71%|███████▏  | 446/625 [00:09<00:05, 33.07it/s]"
     ]
    },
    {
     "name": "stdout",
     "output_type": "stream",
     "text": [
      "\n",
      "Error opening 'train/5_2399/5_2399_20170630161953.wav': System error.\n",
      "Error opening 'train/5_2399/5_2399_20170630162003.wav': System error.\n",
      "Error opening 'train/5_2399/5_2399_20170630162015.wav': System error."
     ]
    },
    {
     "name": "stderr",
     "output_type": "stream",
     "text": [
      "\r",
      " 45%|████▍     | 279/625 [00:09<00:11, 29.61it/s]"
     ]
    },
    {
     "name": "stdout",
     "output_type": "stream",
     "text": [
      "\n",
      "Error opening 'train/5_2399/5_2399_20170630162033.wav': System error.\n",
      "Error opening 'train/5_2399/5_2399_20170630162043.wav': System error."
     ]
    },
    {
     "name": "stderr",
     "output_type": "stream",
     "text": [
      "\r",
      " 57%|█████▋    | 354/625 [00:09<00:07, 35.08it/s]"
     ]
    },
    {
     "name": "stdout",
     "output_type": "stream",
     "text": [
      "\n",
      "Error opening 'train/5_2399/5_2399_20170630162107.wav': System error.\n"
     ]
    },
    {
     "name": "stderr",
     "output_type": "stream",
     "text": [
      "\r",
      " 87%|████████▋ | 543/625 [00:09<00:00, 114.96it/s]"
     ]
    },
    {
     "name": "stdout",
     "output_type": "stream",
     "text": [
      "Error opening 'train/5_2399/5_2399_20170630162124.wav': System error.\n",
      "Error opening 'train/5_2399/5_2399_20170630162141.wav': System error."
     ]
    },
    {
     "name": "stderr",
     "output_type": "stream",
     "text": [
      "\r",
      " 44%|████▎     | 272/625 [00:09<00:09, 35.72it/s]"
     ]
    },
    {
     "name": "stdout",
     "output_type": "stream",
     "text": [
      "\n",
      "Error opening 'train/5_2399/5_2399_20170630162151.wav': System error.\n",
      "Error opening 'train/5_2399/5_2399_20170630162209.wav': System error.\n",
      "Error opening 'train/5_2399/5_2399_20170630162227.wav': System error."
     ]
    },
    {
     "name": "stderr",
     "output_type": "stream",
     "text": [
      "\r",
      " 51%|█████     | 320/625 [00:09<00:09, 31.90it/s]"
     ]
    },
    {
     "name": "stdout",
     "output_type": "stream",
     "text": [
      "\n"
     ]
    },
    {
     "name": "stderr",
     "output_type": "stream",
     "text": [
      "\r",
      " 55%|█████▌    | 344/625 [00:09<00:06, 44.98it/s]"
     ]
    },
    {
     "name": "stdout",
     "output_type": "stream",
     "text": [
      "Error opening 'train/5_2399/5_2399_20170630162246.wav': System error."
     ]
    },
    {
     "name": "stderr",
     "output_type": "stream",
     "text": [
      "\r",
      " 45%|████▍     | 281/625 [00:09<00:10, 33.22it/s]"
     ]
    },
    {
     "name": "stdout",
     "output_type": "stream",
     "text": [
      "\n",
      "Error opening 'train/5_2399/5_2399_20170630162316.wav': System error.\n"
     ]
    },
    {
     "name": "stderr",
     "output_type": "stream",
     "text": [
      "\r",
      " 72%|███████▏  | 450/625 [00:09<00:05, 33.91it/s]"
     ]
    },
    {
     "name": "stdout",
     "output_type": "stream",
     "text": [
      "Error opening 'train/5_2399/5_2399_20170630162333.wav': System error.\n"
     ]
    },
    {
     "name": "stderr",
     "output_type": "stream",
     "text": [
      "\r",
      " 45%|████▌     | 283/625 [00:09<00:10, 31.60it/s]"
     ]
    },
    {
     "name": "stdout",
     "output_type": "stream",
     "text": [
      "Error opening 'train/5_2399/5_2399_20170630162356.wav': System error.\n",
      "Error opening 'train/5_2399/5_2399_20170630162407.wav': System error.\n",
      "Error opening 'train/5_2399/5_2399_20170630162424.wav': System error.\n",
      "Error opening 'train/5_2399/5_2399_20170630162434.wav': System error.\n"
     ]
    },
    {
     "name": "stderr",
     "output_type": "stream",
     "text": [
      " 89%|████████▉ | 555/625 [00:09<00:00, 114.99it/s]"
     ]
    },
    {
     "name": "stdout",
     "output_type": "stream",
     "text": [
      "Error opening 'train/5_2399/5_2399_20170630162449.wav': System error.\n",
      "Error opening 'train/5_2399/5_2399_20170630162556.wav': System error."
     ]
    },
    {
     "name": "stderr",
     "output_type": "stream",
     "text": [
      "\r",
      " 44%|████▍     | 276/625 [00:09<00:10, 34.56it/s]"
     ]
    },
    {
     "name": "stdout",
     "output_type": "stream",
     "text": [
      "\n",
      "Error opening 'train/5_2399/5_2399_20170630162612.wav': System error.\n",
      "Error opening 'train/5_2399/5_2399_20170630162640.wav': System error.\n",
      "Error opening 'train/5_2399/5_2399_20170630162653.wav': System error."
     ]
    },
    {
     "name": "stderr",
     "output_type": "stream",
     "text": [
      "\r",
      " 56%|█████▌    | 349/625 [00:09<00:06, 44.49it/s]"
     ]
    },
    {
     "name": "stdout",
     "output_type": "stream",
     "text": [
      "\n",
      "Error opening 'train/5_2399/5_2399_20170630162711.wav': System error."
     ]
    },
    {
     "name": "stderr",
     "output_type": "stream",
     "text": [
      "\r",
      " 46%|████▌     | 285/625 [00:09<00:10, 33.89it/s]"
     ]
    },
    {
     "name": "stdout",
     "output_type": "stream",
     "text": [
      "\n",
      "Error opening 'train/5_2399/5_2399_20170630162729.wav': System error.\n"
     ]
    },
    {
     "name": "stderr",
     "output_type": "stream",
     "text": [
      "\r",
      " 52%|█████▏    | 324/625 [00:09<00:09, 31.12it/s]"
     ]
    },
    {
     "name": "stdout",
     "output_type": "stream",
     "text": [
      "Error opening 'train/5_2399/5_2399_20170630162739.wav': System error.\n"
     ]
    },
    {
     "name": "stderr",
     "output_type": "stream",
     "text": [
      "\r",
      " 73%|███████▎  | 456/625 [00:09<00:04, 39.12it/s]"
     ]
    },
    {
     "name": "stdout",
     "output_type": "stream",
     "text": [
      "Error opening 'train/5_2399/5_2399_20170630162749.wav': System error.\n",
      "Error opening 'train/5_2399/5_2399_20170630162805.wav': System error.\n",
      "Error opening 'train/5_2399/5_2399_20170630162815.wav': System error.\n",
      "Error opening 'train/5_2399/5_2399_20170630162825.wav': System error.\n"
     ]
    },
    {
     "name": "stderr",
     "output_type": "stream",
     "text": [
      "\r",
      " 91%|█████████ | 567/625 [00:09<00:00, 115.39it/s]"
     ]
    },
    {
     "name": "stdout",
     "output_type": "stream",
     "text": [
      "Error opening 'train/5_2399/5_2399_20170630162839.wav': System error.\n",
      "Error opening 'train/5_2399/5_2399_20170630162854.wav': System error.\n"
     ]
    },
    {
     "name": "stderr",
     "output_type": "stream",
     "text": [
      "\r",
      " 58%|█████▊    | 363/625 [00:09<00:07, 37.10it/s]"
     ]
    },
    {
     "name": "stdout",
     "output_type": "stream",
     "text": [
      "Error opening 'train/5_2399/5_2399_20170630162904.wav': System error."
     ]
    },
    {
     "name": "stderr",
     "output_type": "stream",
     "text": [
      "\r",
      " 45%|████▍     | 280/625 [00:09<00:09, 35.38it/s]"
     ]
    },
    {
     "name": "stdout",
     "output_type": "stream",
     "text": [
      "\n",
      "Error opening 'train/5_2399/5_2399_20170630162919.wav': System error.\n",
      "Error opening 'train/5_2399/5_2399_20170630162929.wav': System error.\n",
      "Error opening 'train/5_2399/5_2399_20170630162938.wav': System error.\n"
     ]
    },
    {
     "name": "stderr",
     "output_type": "stream",
     "text": [
      "\r",
      " 57%|█████▋    | 354/625 [00:09<00:06, 44.79it/s]"
     ]
    },
    {
     "name": "stdout",
     "output_type": "stream",
     "text": [
      "Error opening 'train/5_2399/5_2399_20170630162952.wav': System error.\n",
      "Error opening 'train/5_2399/5_2399_20170630163004.wav': System error.\n"
     ]
    },
    {
     "name": "stderr",
     "output_type": "stream",
     "text": [
      "\r",
      " 52%|█████▏    | 328/625 [00:09<00:08, 33.09it/s]"
     ]
    },
    {
     "name": "stdout",
     "output_type": "stream",
     "text": [
      "Error opening 'train/5_2399/5_2399_20170630163014.wav': System error."
     ]
    },
    {
     "name": "stderr",
     "output_type": "stream",
     "text": [
      " 46%|████▌     | 287/625 [00:09<00:12, 26.33it/s]"
     ]
    },
    {
     "name": "stdout",
     "output_type": "stream",
     "text": [
      "\n",
      "Error opening 'train/5_2399/5_2399_20170630163032.wav': System error.\n",
      "Error opening 'train/5_2399/5_2399_20170630163042.wav': System error.\n",
      "Error opening 'train/5_2399/5_2399_20170630163058.wav': System error.\n",
      "Error opening 'train/5_2399/5_2399_20170630163107.wav': System error.\n"
     ]
    },
    {
     "name": "stderr",
     "output_type": "stream",
     "text": [
      "\r",
      " 93%|█████████▎| 580/625 [00:09<00:00, 119.46it/s]"
     ]
    },
    {
     "name": "stdout",
     "output_type": "stream",
     "text": [
      "Error opening 'train/5_2399/5_2399_20170630163133.wav': System error.\n",
      "Error opening 'train/5_2399/5_2399_20170630163150.wav': System error.\n",
      "Error opening 'train/5_2399/5_2399_20170630163159.wav': System error.\n",
      "Error opening 'train/5_2399/5_2399_20170630163211.wav': System error.\n"
     ]
    },
    {
     "name": "stderr",
     "output_type": "stream",
     "text": [
      "\r",
      " 46%|████▌     | 285/625 [00:09<00:08, 37.96it/s]"
     ]
    },
    {
     "name": "stdout",
     "output_type": "stream",
     "text": [
      "Error opening 'train/5_2399/5_2399_20170630163222.wav': System error."
     ]
    },
    {
     "name": "stderr",
     "output_type": "stream",
     "text": [
      "\r",
      " 59%|█████▊    | 367/625 [00:09<00:07, 35.13it/s]"
     ]
    },
    {
     "name": "stdout",
     "output_type": "stream",
     "text": [
      "\n",
      "Error opening 'train/5_2399/5_2399_20170630163248.wav': System error."
     ]
    },
    {
     "name": "stderr",
     "output_type": "stream",
     "text": [
      "\r",
      " 57%|█████▋    | 359/625 [00:09<00:05, 45.74it/s]"
     ]
    },
    {
     "name": "stdout",
     "output_type": "stream",
     "text": [
      "\n",
      "Error opening 'train/5_2399/5_2399_20170630163304.wav': System error.\n",
      "Error opening 'train/5_2399/5_2399_20170630163320.wav': System error.\n"
     ]
    },
    {
     "name": "stderr",
     "output_type": "stream",
     "text": [
      "\r",
      " 74%|███████▍  | 464/625 [00:09<00:04, 38.74it/s]"
     ]
    },
    {
     "name": "stdout",
     "output_type": "stream",
     "text": [
      "Error opening 'train/5_2399/5_2399_20170630163329.wav': System error.\n",
      "Error opening 'train/5_2399/5_2399_20170630163344.wav': System error.\n",
      "Error opening 'train/5_2399/5_2399_20170630163400.wav': System error."
     ]
    },
    {
     "name": "stderr",
     "output_type": "stream",
     "text": [
      "\r",
      " 47%|████▋     | 293/625 [00:09<00:09, 33.20it/s]"
     ]
    },
    {
     "name": "stdout",
     "output_type": "stream",
     "text": [
      "\n",
      "Error opening 'train/5_2399/5_2399_20170630163427.wav': System error.\n",
      "Error opening 'train/5_2399/5_2399_20170630163443.wav': System error."
     ]
    },
    {
     "name": "stderr",
     "output_type": "stream",
     "text": [
      "\r",
      " 53%|█████▎    | 332/625 [00:09<00:09, 31.18it/s]"
     ]
    },
    {
     "name": "stdout",
     "output_type": "stream",
     "text": [
      "\n"
     ]
    },
    {
     "name": "stderr",
     "output_type": "stream",
     "text": [
      "\r",
      " 95%|█████████▍| 593/625 [00:09<00:00, 119.73it/s]"
     ]
    },
    {
     "name": "stdout",
     "output_type": "stream",
     "text": [
      "Error opening 'train/5_2399/5_2399_20170630163503.wav': System error.\n",
      "Error opening 'train/5_2399/5_2399_20170630163519.wav': System error.\n"
     ]
    },
    {
     "name": "stderr",
     "output_type": "stream",
     "text": [
      "\r",
      " 46%|████▋     | 290/625 [00:09<00:13, 24.01it/s]"
     ]
    },
    {
     "name": "stdout",
     "output_type": "stream",
     "text": [
      "Error opening 'train/5_2399/5_2399_20170630163549.wav': System error.\n",
      "Error opening 'train/5_2399/5_2399_20170630163606.wav': System error.\n",
      "Error opening 'train/5_2399/5_2399_20170630163621.wav': System error.\n",
      "Error opening 'train/5_2399/5_2399_20170630163632.wav': System error."
     ]
    },
    {
     "name": "stderr",
     "output_type": "stream",
     "text": [
      " 60%|█████▉    | 372/625 [00:09<00:06, 37.32it/s]"
     ]
    },
    {
     "name": "stdout",
     "output_type": "stream",
     "text": [
      "\n"
     ]
    },
    {
     "name": "stderr",
     "output_type": "stream",
     "text": [
      "\r",
      " 46%|████▌     | 289/625 [00:09<00:09, 35.94it/s]"
     ]
    },
    {
     "name": "stdout",
     "output_type": "stream",
     "text": [
      "Error opening 'train/5_2399/5_2399_20170630163649.wav': System error.\n",
      "Error opening 'train/5_2399/5_2399_20170630163709.wav': System error.\n"
     ]
    },
    {
     "name": "stderr",
     "output_type": "stream",
     "text": [
      "\r",
      " 75%|███████▌  | 469/625 [00:09<00:03, 40.73it/s]"
     ]
    },
    {
     "name": "stdout",
     "output_type": "stream",
     "text": [
      "Error opening 'train/5_2399/5_2399_20170630163738.wav': System error.\n",
      "Error opening 'train/5_2399/5_2399_20170630163800.wav': System error.\n",
      "Error opening 'train/5_2399/5_2399_20170630163810.wav': System error.\n",
      "Error opening 'train/5_2399/5_2399_20170630163825.wav': System error.\n",
      "Error opening 'train/5_2399/5_2399_20170630163840.wav': System error.\n"
     ]
    },
    {
     "name": "stderr",
     "output_type": "stream",
     "text": [
      "\r",
      " 97%|█████████▋| 606/625 [00:10<00:00, 119.71it/s]"
     ]
    },
    {
     "name": "stdout",
     "output_type": "stream",
     "text": [
      "Error opening 'train/5_2399/5_2399_20170630163856.wav': System error."
     ]
    },
    {
     "name": "stderr",
     "output_type": "stream",
     "text": [
      "\r",
      " 48%|████▊     | 297/625 [00:09<00:10, 32.59it/s]"
     ]
    },
    {
     "name": "stdout",
     "output_type": "stream",
     "text": [
      "\n",
      "Error opening 'train/5_2399/5_2399_20170630163911.wav': System error.\n",
      "Error opening 'train/5_2399/5_2399_20170630163929.wav': System error."
     ]
    },
    {
     "name": "stderr",
     "output_type": "stream",
     "text": [
      "\r",
      " 47%|████▋     | 293/625 [00:09<00:13, 25.07it/s]"
     ]
    },
    {
     "name": "stdout",
     "output_type": "stream",
     "text": [
      "\n",
      "Error opening 'train/5_2399/5_2399_20170630163946.wav': System error."
     ]
    },
    {
     "name": "stderr",
     "output_type": "stream",
     "text": [
      "\r",
      " 54%|█████▍    | 336/625 [00:10<00:09, 29.92it/s]"
     ]
    },
    {
     "name": "stdout",
     "output_type": "stream",
     "text": [
      "\n",
      "Error opening 'train/5_2399/5_2399_20170630164014.wav': System error.\n",
      "Error opening 'train/5_2399/5_2399_20170630164027.wav': System error.\n"
     ]
    },
    {
     "name": "stderr",
     "output_type": "stream",
     "text": [
      "\r",
      " 59%|█████▉    | 369/625 [00:10<00:05, 45.07it/s]"
     ]
    },
    {
     "name": "stdout",
     "output_type": "stream",
     "text": [
      "Error opening 'train/5_2399/5_2399_20170630164055.wav': System error."
     ]
    },
    {
     "name": "stderr",
     "output_type": "stream",
     "text": [
      "\r",
      " 47%|████▋     | 293/625 [00:10<00:09, 36.14it/s]"
     ]
    },
    {
     "name": "stdout",
     "output_type": "stream",
     "text": [
      "\n",
      "Error opening 'train/5_2399/5_2399_20170630164131.wav': System error.\n",
      "Error opening 'train/5_2399/5_2399_20170630164149.wav': System error.\n",
      "Error opening 'train/5_2399/5_2399_20170630164203.wav': System error."
     ]
    },
    {
     "name": "stderr",
     "output_type": "stream",
     "text": [
      "\r",
      " 60%|██████    | 376/625 [00:10<00:07, 35.02it/s]"
     ]
    },
    {
     "name": "stdout",
     "output_type": "stream",
     "text": [
      "\n"
     ]
    },
    {
     "name": "stderr",
     "output_type": "stream",
     "text": [
      "\r",
      " 76%|███████▌  | 474/625 [00:10<00:03, 41.17it/s]"
     ]
    },
    {
     "name": "stdout",
     "output_type": "stream",
     "text": [
      "Error opening 'train/5_2399/5_2399_20170630164229.wav': System error.\n",
      "Error opening 'train/5_2399/5_2399_20170630164244.wav': System error.\n",
      "Error opening 'train/5_2399/5_2399_20170630164319.wav': System error.\n"
     ]
    },
    {
     "name": "stderr",
     "output_type": "stream",
     "text": [
      "\r",
      " 99%|█████████▉| 619/625 [00:10<00:00, 120.46it/s]"
     ]
    },
    {
     "name": "stdout",
     "output_type": "stream",
     "text": [
      "Error opening 'train/5_2399/5_2399_20170630164339.wav': System error.\n",
      "Error opening 'train/5_2399/5_2399_20170630164405.wav': System error.\n",
      "Error opening 'train/5_2399/5_2399_20170630164421.wav': System error.\n",
      "Error opening 'train/5_2399/5_2399_20170630164456.wav': System error."
     ]
    },
    {
     "name": "stderr",
     "output_type": "stream",
     "text": [
      " 48%|████▊     | 297/625 [00:10<00:11, 27.87it/s]"
     ]
    },
    {
     "name": "stdout",
     "output_type": "stream",
     "text": [
      "\n",
      "Error opening 'train/5_2399/5_2399_20170630164512.wav': System error.\n",
      "Error opening 'train/5_2399/5_2399_20170630164618.wav': System error."
     ]
    },
    {
     "name": "stderr",
     "output_type": "stream",
     "text": [
      "\r",
      " 54%|█████▍    | 340/625 [00:10<00:09, 30.66it/s]"
     ]
    },
    {
     "name": "stdout",
     "output_type": "stream",
     "text": [
      "\n"
     ]
    },
    {
     "name": "stderr",
     "output_type": "stream",
     "text": [
      "100%|██████████| 625/625 [00:10<00:00, 61.46it/s] \n",
      "100%|██████████| 625/625 [00:13<00:00, 45.34it/s]\n",
      "100%|██████████| 625/625 [00:15<00:00, 41.05it/s]\n",
      "100%|██████████| 625/625 [00:16<00:00, 37.31it/s]\n",
      "100%|██████████| 625/625 [00:17<00:00, 36.75it/s]\n",
      "100%|██████████| 625/625 [00:17<00:00, 35.35it/s]\n",
      "100%|██████████| 625/625 [00:18<00:00, 34.57it/s]\n",
      "100%|██████████| 625/625 [00:18<00:00, 34.38it/s]\n",
      " 74%|███████▍  | 464/625 [00:12<00:04, 37.24it/s]\n",
      " 78%|███████▊  | 485/625 [00:14<00:03, 35.97it/s]\n",
      "100%|██████████| 625/625 [00:15<00:00, 39.31it/s]\n",
      "100%|██████████| 625/625 [00:15<00:00, 39.22it/s]\n",
      "100%|██████████| 625/625 [00:16<00:00, 37.52it/s]\n",
      "100%|██████████| 625/625 [00:16<00:00, 37.30it/s]\n",
      "100%|██████████| 625/625 [00:17<00:00, 35.40it/s]\n",
      "100%|██████████| 625/625 [00:17<00:00, 35.15it/s]\n",
      "100%|██████████| 625/625 [00:16<00:00, 37.00it/s]\n",
      "100%|██████████| 625/625 [00:18<00:00, 34.50it/s]\n",
      " 95%|█████████▌| 595/625 [00:18<00:01, 28.35it/s]\n",
      "100%|██████████| 625/625 [00:18<00:00, 33.74it/s]\n",
      "100%|██████████| 625/625 [00:18<00:00, 33.30it/s]\n",
      "100%|██████████| 625/625 [00:18<00:00, 33.31it/s]\n",
      "100%|██████████| 625/625 [00:18<00:00, 32.91it/s]\n",
      "100%|██████████| 625/625 [00:20<00:00, 30.89it/s]\n",
      "  2%|▏         | 14/625 [00:00<00:24, 25.19it/s]IOPub message rate exceeded.\n",
      "The notebook server will temporarily stop sending output\n",
      "to the client in order to avoid crashing it.\n",
      "To change this limit, set the config variable\n",
      "`--NotebookApp.iopub_msg_rate_limit`.\n",
      "\n",
      "Current values:\n",
      "NotebookApp.iopub_msg_rate_limit=1000.0 (msgs/sec)\n",
      "NotebookApp.rate_limit_window=3.0 (secs)\n",
      "\n"
     ]
    },
    {
     "name": "stdout",
     "output_type": "stream",
     "text": [
      "Error opening 'train/5_2595/5_2595_20170701123234.wav': System error.\n",
      "Error opening 'train/5_2595/5_2595_20170701123305.wav': System error.\n",
      "Error opening 'train/5_2595/5_2595_20170701123325.wav': System error.\n",
      "Error opening 'train/5_2595/5_2595_20170701123629.wav': System error.\n",
      "Error opening 'train/5_2595/5_2595_20170701123649.wav': System error."
     ]
    },
    {
     "name": "stderr",
     "output_type": "stream",
     "text": [
      "\r",
      "  3%|▎         | 16/625 [00:00<00:11, 52.30it/s]"
     ]
    },
    {
     "name": "stdout",
     "output_type": "stream",
     "text": [
      "\n",
      "Error opening 'train/5_2595/5_2595_20170701123716.wav': System error.\n"
     ]
    },
    {
     "name": "stderr",
     "output_type": "stream",
     "text": [
      "  6%|▋         | 40/625 [00:00<00:05, 112.75it/s]"
     ]
    },
    {
     "name": "stdout",
     "output_type": "stream",
     "text": [
      "Error opening 'train/5_2595/5_2595_20170701123810.wav': System error.\n",
      "Error opening 'train/5_2595/5_2595_20170701123856.wav': System error.\n",
      "Error opening 'train/5_2595/5_2595_20170701123912.wav': System error."
     ]
    },
    {
     "name": "stderr",
     "output_type": "stream",
     "text": [
      "  2%|▏         | 11/625 [00:00<00:19, 32.05it/s]"
     ]
    },
    {
     "name": "stdout",
     "output_type": "stream",
     "text": [
      "\n"
     ]
    },
    {
     "name": "stderr",
     "output_type": "stream",
     "text": [
      "\r",
      "  2%|▏         | 11/625 [00:00<00:18, 34.02it/s]"
     ]
    },
    {
     "name": "stdout",
     "output_type": "stream",
     "text": [
      "Error opening 'train/5_2595/5_2595_20170701124016.wav': System error.\n"
     ]
    },
    {
     "name": "stderr",
     "output_type": "stream",
     "text": [
      "\r",
      "  3%|▎         | 19/625 [00:00<00:10, 55.63it/s]"
     ]
    },
    {
     "name": "stdout",
     "output_type": "stream",
     "text": [
      "Error opening 'train/5_2595/5_2595_20170701124036.wav': System error.\n",
      "Error opening 'train/5_2595/5_2595_20170701124058.wav': System error.\n",
      "Error opening 'train/5_2595/5_2595_20170701124120.wav': System error.\n",
      "Error opening 'train/5_2595/5_2595_20170701124140.wav': System error.\n",
      "Error opening 'train/5_2595/5_2595_20170701124209.wav': System error.\n",
      "Error opening 'train/5_2595/5_2595_20170701124308.wav': System error.\n"
     ]
    },
    {
     "name": "stderr",
     "output_type": "stream",
     "text": [
      "\r",
      "  4%|▎         | 23/625 [00:00<00:10, 56.25it/s]"
     ]
    },
    {
     "name": "stdout",
     "output_type": "stream",
     "text": [
      "Error opening 'train/5_2595/5_2595_20170701124328.wav': System error.\n",
      "Error opening 'train/5_2595/5_2595_20170701124346.wav': System error.\n"
     ]
    },
    {
     "name": "stderr",
     "output_type": "stream",
     "text": [
      "\r",
      "  8%|▊         | 52/625 [00:00<00:05, 113.04it/s]"
     ]
    },
    {
     "name": "stdout",
     "output_type": "stream",
     "text": [
      "Error opening 'train/5_2595/5_2595_20170701124539.wav': System error.\n"
     ]
    },
    {
     "name": "stderr",
     "output_type": "stream",
     "text": [
      "\r",
      "  2%|▏         | 13/625 [00:00<00:22, 27.48it/s]"
     ]
    },
    {
     "name": "stdout",
     "output_type": "stream",
     "text": [
      "Error opening 'train/5_2595/5_2595_20170701124657.wav': System error."
     ]
    },
    {
     "name": "stderr",
     "output_type": "stream",
     "text": [
      "  2%|▏         | 13/625 [00:00<00:21, 28.58it/s]"
     ]
    },
    {
     "name": "stdout",
     "output_type": "stream",
     "text": [
      "\n"
     ]
    },
    {
     "name": "stderr",
     "output_type": "stream",
     "text": [
      "  2%|▏         | 15/625 [00:00<00:18, 33.17it/s]"
     ]
    },
    {
     "name": "stdout",
     "output_type": "stream",
     "text": [
      "Error opening 'train/5_2595/5_2595_20170701124719.wav': System error.\n",
      "Error opening 'train/5_2595/5_2595_20170701124738.wav': System error.\n",
      "Error opening 'train/5_2595/5_2595_20170701124752.wav': System error.\n"
     ]
    },
    {
     "name": "stderr",
     "output_type": "stream",
     "text": [
      "\r",
      "  2%|▏         | 15/625 [00:00<00:19, 31.79it/s]"
     ]
    },
    {
     "name": "stdout",
     "output_type": "stream",
     "text": [
      "Error opening 'train/5_2595/5_2595_20170701124806.wav': System error.\n",
      "Error opening 'train/5_2595/5_2595_20170701124834.wav': System error.\n",
      "Error opening 'train/5_2595/5_2595_20170701124850.wav': System error.\n",
      "Error opening 'train/5_2595/5_2595_20170701125129.wav': System error.\n",
      "Error opening 'train/5_2595/5_2595_20170701125156.wav': System error.\n",
      "Error opening 'train/5_2595/5_2595_20170701125216.wav': System error."
     ]
    },
    {
     "name": "stderr",
     "output_type": "stream",
     "text": [
      "\r",
      "  5%|▍         | 29/625 [00:00<00:10, 54.95it/s]"
     ]
    },
    {
     "name": "stdout",
     "output_type": "stream",
     "text": [
      "\n",
      "Error opening 'train/5_2595/5_2595_20170701125229.wav': System error.\n"
     ]
    },
    {
     "name": "stderr",
     "output_type": "stream",
     "text": [
      "\r",
      " 10%|█         | 64/625 [00:00<00:05, 111.27it/s]"
     ]
    },
    {
     "name": "stdout",
     "output_type": "stream",
     "text": [
      "Error opening 'train/5_2595/5_2595_20170701125244.wav': System error."
     ]
    },
    {
     "name": "stderr",
     "output_type": "stream",
     "text": [
      "\r",
      "  3%|▎         | 16/625 [00:00<00:21, 28.79it/s]"
     ]
    },
    {
     "name": "stdout",
     "output_type": "stream",
     "text": [
      "\n",
      "Error opening 'train/5_2595/5_2595_20170701125309.wav': System error.\n"
     ]
    },
    {
     "name": "stderr",
     "output_type": "stream",
     "text": [
      "\r",
      "  3%|▎         | 17/625 [00:00<00:20, 29.62it/s]"
     ]
    },
    {
     "name": "stdout",
     "output_type": "stream",
     "text": [
      "Error opening 'train/5_2595/5_2595_20170701125351.wav': System error.\n"
     ]
    },
    {
     "name": "stderr",
     "output_type": "stream",
     "text": [
      "\r",
      "  3%|▎         | 19/625 [00:00<00:17, 34.37it/s]"
     ]
    },
    {
     "name": "stdout",
     "output_type": "stream",
     "text": [
      "Error opening 'train/5_2595/5_2595_20170701125417.wav': System error.\n"
     ]
    },
    {
     "name": "stderr",
     "output_type": "stream",
     "text": [
      "  4%|▎         | 23/625 [00:00<00:15, 38.99it/s]"
     ]
    },
    {
     "name": "stdout",
     "output_type": "stream",
     "text": [
      "Error opening 'train/5_2595/5_2595_20170701125428.wav': System error.\n"
     ]
    },
    {
     "name": "stderr",
     "output_type": "stream",
     "text": [
      "\r",
      "  3%|▎         | 19/625 [00:00<00:18, 33.49it/s]"
     ]
    },
    {
     "name": "stdout",
     "output_type": "stream",
     "text": [
      "Error opening 'train/5_2595/5_2595_20170701125450.wav': System error.\n",
      "Error opening 'train/5_2595/5_2595_20170701125526.wav': System error.\n",
      "Error opening 'train/5_2595/5_2595_20170701125538.wav': System error.\n",
      "Error opening 'train/5_2595/5_2595_20170701125552.wav': System error.\n",
      "Error opening 'train/5_2595/5_2595_20170701125604.wav': System error.\n",
      "Error opening 'train/5_2595/5_2595_20170701125617.wav': System error.\n",
      "Error opening 'train/5_2595/5_2595_20170701125632.wav': System error.\n",
      "Error opening 'train/5_2595/5_2595_20170701125647.wav': System error.\n"
     ]
    },
    {
     "name": "stderr",
     "output_type": "stream",
     "text": [
      "  6%|▌         | 35/625 [00:00<00:11, 53.16it/s]]"
     ]
    },
    {
     "name": "stdout",
     "output_type": "stream",
     "text": [
      "Error opening 'train/5_2595/5_2595_20170701125719.wav': System error.\n",
      "Error opening 'train/5_2595/5_2595_20170701125747.wav': System error."
     ]
    },
    {
     "name": "stderr",
     "output_type": "stream",
     "text": [
      "\r",
      "  3%|▎         | 20/625 [00:00<00:20, 29.34it/s]"
     ]
    },
    {
     "name": "stdout",
     "output_type": "stream",
     "text": [
      "\n",
      "Error opening 'train/5_2595/5_2595_20170701125824.wav': System error.\n",
      "Error opening 'train/5_2595/5_2595_20170701125838.wav': System error.\n",
      "Error opening 'train/5_2595/5_2595_20170701125851.wav': System error."
     ]
    },
    {
     "name": "stderr",
     "output_type": "stream",
     "text": [
      "\r",
      "  4%|▎         | 23/625 [00:00<00:17, 35.40it/s]"
     ]
    },
    {
     "name": "stdout",
     "output_type": "stream",
     "text": [
      "\n"
     ]
    },
    {
     "name": "stderr",
     "output_type": "stream",
     "text": [
      "\r",
      "  3%|▎         | 19/625 [00:00<00:23, 25.54it/s]"
     ]
    },
    {
     "name": "stdout",
     "output_type": "stream",
     "text": [
      "Error opening 'train/5_2595/5_2595_20170701125911.wav': System error."
     ]
    },
    {
     "name": "stderr",
     "output_type": "stream",
     "text": [
      "\r",
      "  4%|▎         | 23/625 [00:00<00:18, 32.77it/s]"
     ]
    },
    {
     "name": "stdout",
     "output_type": "stream",
     "text": [
      "\n",
      "Error opening 'train/5_2595/5_2595_20170701125925.wav': System error.\n"
     ]
    },
    {
     "name": "stderr",
     "output_type": "stream",
     "text": [
      "\r",
      "  4%|▍         | 27/625 [00:00<00:16, 36.14it/s]"
     ]
    },
    {
     "name": "stdout",
     "output_type": "stream",
     "text": [
      "Error opening 'train/5_2595/5_2595_20170701125937.wav': System error.\n",
      "Error opening 'train/5_2595/5_2595_20170701130022.wav': System error.\n",
      "Error opening 'train/5_2595/5_2595_20170701130043.wav': System error.\n",
      "Error opening 'train/5_2595/5_2595_20170701130139.wav': System error.\n",
      "Error opening 'train/5_2595/5_2595_20170701130240.wav': System error.\n"
     ]
    },
    {
     "name": "stderr",
     "output_type": "stream",
     "text": [
      " 14%|█▍        | 89/625 [00:00<00:04, 112.39it/s]"
     ]
    },
    {
     "name": "stdout",
     "output_type": "stream",
     "text": [
      "Error opening 'train/5_2595/5_2595_20170701130311.wav': System error."
     ]
    },
    {
     "name": "stderr",
     "output_type": "stream",
     "text": [
      "\r",
      "  7%|▋         | 41/625 [00:00<00:10, 53.25it/s]"
     ]
    },
    {
     "name": "stdout",
     "output_type": "stream",
     "text": [
      "\n",
      "Error opening 'train/5_2595/5_2595_20170701130351.wav': System error."
     ]
    },
    {
     "name": "stderr",
     "output_type": "stream",
     "text": [
      "\r",
      "  4%|▍         | 24/625 [00:00<00:18, 31.69it/s]"
     ]
    },
    {
     "name": "stdout",
     "output_type": "stream",
     "text": [
      "\n",
      "Error opening 'train/5_2595/5_2595_20170701130437.wav': System error.\n",
      "Error opening 'train/5_2595/5_2595_20170701130505.wav': System error."
     ]
    },
    {
     "name": "stderr",
     "output_type": "stream",
     "text": [
      "\r",
      "  4%|▎         | 22/625 [00:00<00:22, 26.57it/s]"
     ]
    },
    {
     "name": "stdout",
     "output_type": "stream",
     "text": [
      "\n",
      "Error opening 'train/5_2595/5_2595_20170701130515.wav': System error.\n"
     ]
    },
    {
     "name": "stderr",
     "output_type": "stream",
     "text": [
      "\r",
      "  4%|▍         | 28/625 [00:00<00:15, 37.51it/s]"
     ]
    },
    {
     "name": "stdout",
     "output_type": "stream",
     "text": [
      "Error opening 'train/5_2595/5_2595_20170701130530.wav': System error."
     ]
    },
    {
     "name": "stderr",
     "output_type": "stream",
     "text": [
      "\r",
      "  5%|▍         | 31/625 [00:00<00:16, 36.56it/s]"
     ]
    },
    {
     "name": "stdout",
     "output_type": "stream",
     "text": [
      "\n",
      "Error opening 'train/5_2595/5_2595_20170701130601.wav': System error.\n",
      "Error opening 'train/5_2595/5_2595_20170701130623.wav': System error.\n"
     ]
    },
    {
     "name": "stderr",
     "output_type": "stream",
     "text": [
      "\r",
      "  4%|▍         | 27/625 [00:00<00:18, 31.66it/s]"
     ]
    },
    {
     "name": "stdout",
     "output_type": "stream",
     "text": [
      "Error opening 'train/5_2595/5_2595_20170701130636.wav': System error.\n",
      "Error opening 'train/5_2595/5_2595_20170701130655.wav': System error.\n",
      "Error opening 'train/5_2595/5_2595_20170701135223.wav': System error.\n",
      "Error opening 'train/5_2595/5_2595_20170701135309.wav': System error.\n"
     ]
    },
    {
     "name": "stderr",
     "output_type": "stream",
     "text": [
      "\r",
      " 16%|█▌        | 101/625 [00:00<00:04, 114.08it/s]"
     ]
    },
    {
     "name": "stdout",
     "output_type": "stream",
     "text": [
      "Error opening 'train/5_2595/5_2595_20170701135323.wav': System error.\n",
      "Error opening 'train/5_2595/5_2595_20170701135336.wav': System error.\n",
      "Error opening 'train/5_2595/5_2595_20170701135411.wav': System error."
     ]
    },
    {
     "name": "stderr",
     "output_type": "stream",
     "text": [
      "\r",
      "  8%|▊         | 47/625 [00:00<00:10, 53.08it/s]"
     ]
    },
    {
     "name": "stdout",
     "output_type": "stream",
     "text": [
      "\n",
      "Error opening 'train/5_2595/5_2595_20170701135430.wav': System error.\n",
      "Error opening 'train/5_2595/5_2595_20170701135504.wav': System error.\n",
      "Error opening 'train/5_2595/5_2595_20170701135523.wav': System error.\n"
     ]
    },
    {
     "name": "stderr",
     "output_type": "stream",
     "text": [
      "\r",
      "  7%|▋         | 43/625 [00:00<00:13, 42.50it/s]"
     ]
    },
    {
     "name": "stdout",
     "output_type": "stream",
     "text": [
      "Error opening 'train/5_2595/5_2595_20170701135648.wav': System error."
     ]
    },
    {
     "name": "stderr",
     "output_type": "stream",
     "text": [
      "\r",
      "  4%|▍         | 28/625 [00:00<00:18, 31.63it/s]"
     ]
    },
    {
     "name": "stdout",
     "output_type": "stream",
     "text": [
      "\n",
      "Error opening 'train/5_2595/5_2595_20170701135706.wav': System error.\n"
     ]
    },
    {
     "name": "stderr",
     "output_type": "stream",
     "text": [
      "\r",
      "  4%|▍         | 26/625 [00:00<00:20, 28.99it/s]"
     ]
    },
    {
     "name": "stdout",
     "output_type": "stream",
     "text": [
      "Error opening 'train/5_2595/5_2595_20170701135736.wav': System error.\n",
      "Error opening 'train/5_2595/5_2595_20170701135809.wav': System error."
     ]
    },
    {
     "name": "stderr",
     "output_type": "stream",
     "text": [
      "\r",
      "  6%|▌         | 36/625 [00:00<00:14, 39.83it/s]"
     ]
    },
    {
     "name": "stdout",
     "output_type": "stream",
     "text": [
      "\n",
      "Error opening 'train/5_2595/5_2595_20170701135838.wav': System error.\n",
      "Error opening 'train/5_2595/5_2595_20170701140014.wav': System error.\n",
      "Error opening 'train/5_2595/5_2595_20170701140053.wav': System error.\n",
      "Error opening 'train/5_2595/5_2595_20170701140118.wav': System error.\n",
      "Error opening 'train/5_2595/5_2595_20170701140142.wav': System error.\n",
      "Error opening 'train/5_2595/5_2595_20170701140234.wav': System error."
     ]
    },
    {
     "name": "stderr",
     "output_type": "stream",
     "text": [
      "\r",
      "  5%|▌         | 32/625 [00:00<00:17, 33.84it/s]"
     ]
    },
    {
     "name": "stdout",
     "output_type": "stream",
     "text": [
      "\n"
     ]
    },
    {
     "name": "stderr",
     "output_type": "stream",
     "text": [
      " 19%|█▊        | 117/625 [00:00<00:04, 122.01it/s]"
     ]
    },
    {
     "name": "stdout",
     "output_type": "stream",
     "text": [
      "Error opening 'train/5_2595/5_2595_20170701140301.wav': System error.\n",
      "Error opening 'train/5_2595/5_2595_20170701140316.wav': System error."
     ]
    },
    {
     "name": "stderr",
     "output_type": "stream",
     "text": [
      "\r",
      "  9%|▊         | 54/625 [00:01<00:10, 55.63it/s]"
     ]
    },
    {
     "name": "stdout",
     "output_type": "stream",
     "text": [
      "\n",
      "Error opening 'train/5_2595/5_2595_20170701140347.wav': System error.\n",
      "Error opening 'train/5_2595/5_2595_20170701140409.wav': System error.\n",
      "Error opening 'train/5_2595/5_2595_20170701140803.wav': System error."
     ]
    },
    {
     "name": "stderr",
     "output_type": "stream",
     "text": [
      "\r",
      "  5%|▍         | 30/625 [00:01<00:19, 30.48it/s]"
     ]
    },
    {
     "name": "stdout",
     "output_type": "stream",
     "text": [
      "\n",
      "Error opening 'train/5_2595/5_2595_20170701140850.wav': System error."
     ]
    },
    {
     "name": "stderr",
     "output_type": "stream",
     "text": [
      "  8%|▊         | 48/625 [00:01<00:14, 40.12it/s]"
     ]
    },
    {
     "name": "stdout",
     "output_type": "stream",
     "text": [
      "\n",
      "Error opening 'train/5_2595/5_2595_20170701140905.wav': System error.\n",
      "Error opening 'train/5_2595/5_2595_20170701140942.wav': System error.\n",
      "Error opening 'train/5_2595/5_2595_20170701140957.wav': System error.\n",
      "Error opening 'train/5_2595/5_2595_20170701141012.wav': System error.\n",
      "Error opening 'train/5_2595/5_2595_20170701141057.wav': System error."
     ]
    },
    {
     "name": "stderr",
     "output_type": "stream",
     "text": [
      "\r",
      "  6%|▌         | 36/625 [00:01<00:17, 33.64it/s]"
     ]
    },
    {
     "name": "stdout",
     "output_type": "stream",
     "text": [
      "\n",
      "Error opening 'train/5_2595/5_2595_20170701141112.wav': System error.\n",
      "Error opening 'train/5_2595/5_2595_20170701141159.wav': System error.\n"
     ]
    },
    {
     "name": "stderr",
     "output_type": "stream",
     "text": [
      "  6%|▌         | 35/625 [00:01<00:19, 31.04it/s]s]"
     ]
    },
    {
     "name": "stdout",
     "output_type": "stream",
     "text": [
      "Error opening 'train/5_2595/5_2595_20170701141221.wav': System error.\n",
      "Error opening 'train/5_2595/5_2595_20170701141239.wav': System error.\n",
      "Error opening 'train/5_2595/5_2595_20170701141252.wav': System error.\n",
      "Error opening 'train/5_2595/5_2595_20170701141305.wav': System error.\n"
     ]
    },
    {
     "name": "stderr",
     "output_type": "stream",
     "text": [
      "\r",
      " 10%|▉         | 61/625 [00:01<00:10, 56.34it/s]"
     ]
    },
    {
     "name": "stdout",
     "output_type": "stream",
     "text": [
      "Error opening 'train/5_2595/5_2595_20170701141318.wav': System error.\n",
      "Error opening 'train/5_2595/5_2595_20170701141347.wav': System error.\n",
      "Error opening 'train/5_2595/5_2595_20170701141412.wav': System error.\n",
      "Error opening 'train/5_2595/5_2595_20170701141521.wav': System error.\n"
     ]
    },
    {
     "name": "stderr",
     "output_type": "stream",
     "text": [
      "\r",
      "  6%|▌         | 37/625 [00:01<00:16, 34.68it/s]"
     ]
    },
    {
     "name": "stdout",
     "output_type": "stream",
     "text": [
      "Error opening 'train/5_2595/5_2595_20170701141539.wav': System error.\n"
     ]
    },
    {
     "name": "stderr",
     "output_type": "stream",
     "text": [
      "\r",
      "  8%|▊         | 53/625 [00:01<00:14, 40.40it/s]"
     ]
    },
    {
     "name": "stdout",
     "output_type": "stream",
     "text": [
      "Error opening 'train/5_2595/5_2595_20170701141551.wav': System error."
     ]
    },
    {
     "name": "stderr",
     "output_type": "stream",
     "text": [
      "\r",
      "  8%|▊         | 47/625 [00:01<00:13, 41.43it/s]"
     ]
    },
    {
     "name": "stdout",
     "output_type": "stream",
     "text": [
      "\n",
      "Error opening 'train/5_2595/5_2595_20170701141605.wav': System error.\n",
      "Error opening 'train/5_2595/5_2595_20170701141617.wav': System error.\n",
      "Error opening 'train/5_2595/5_2595_20170701141632.wav': System error.\n"
     ]
    },
    {
     "name": "stderr",
     "output_type": "stream",
     "text": [
      "\r",
      " 23%|██▎       | 143/625 [00:01<00:03, 121.15it/s]"
     ]
    },
    {
     "name": "stdout",
     "output_type": "stream",
     "text": [
      "Error opening 'train/5_2595/5_2595_20170701141645.wav': System error."
     ]
    },
    {
     "name": "stderr",
     "output_type": "stream",
     "text": [
      "\r",
      "  5%|▌         | 34/625 [00:01<00:20, 28.43it/s]"
     ]
    },
    {
     "name": "stdout",
     "output_type": "stream",
     "text": [
      "\n",
      "Error opening 'train/5_2595/5_2595_20170701141655.wav': System error.\n"
     ]
    },
    {
     "name": "stderr",
     "output_type": "stream",
     "text": [
      " 11%|█         | 67/625 [00:01<00:10, 55.63it/s]"
     ]
    },
    {
     "name": "stdout",
     "output_type": "stream",
     "text": [
      "Error opening 'train/5_2595/5_2595_20170701141707.wav': System error.\n",
      "Error opening 'train/5_2595/5_2595_20170701141738.wav': System error."
     ]
    },
    {
     "name": "stderr",
     "output_type": "stream",
     "text": [
      "\r",
      "  6%|▌         | 39/625 [00:01<00:19, 29.84it/s]"
     ]
    },
    {
     "name": "stdout",
     "output_type": "stream",
     "text": [
      "\n",
      "Error opening 'train/5_2595/5_2595_20170701141807.wav': System error.\n",
      "Error opening 'train/5_2595/5_2595_20170701141834.wav': System error.\n"
     ]
    },
    {
     "name": "stderr",
     "output_type": "stream",
     "text": [
      "\r",
      "  7%|▋         | 41/625 [00:01<00:16, 35.65it/s]"
     ]
    },
    {
     "name": "stdout",
     "output_type": "stream",
     "text": [
      "Error opening 'train/5_2595/5_2595_20170701141847.wav': System error.\n",
      "Error opening 'train/5_2595/5_2595_20170701141858.wav': System error.\n",
      "Error opening 'train/5_2595/5_2595_20170701141907.wav': System error.\n",
      "Error opening 'train/5_2595/5_2595_20170701141917.wav': System error."
     ]
    },
    {
     "name": "stderr",
     "output_type": "stream",
     "text": [
      "\r",
      "  9%|▉         | 58/625 [00:01<00:13, 41.11it/s]"
     ]
    },
    {
     "name": "stdout",
     "output_type": "stream",
     "text": [
      "\n",
      "Error opening 'train/5_2595/5_2595_20170701141932.wav': System error.\n"
     ]
    },
    {
     "name": "stderr",
     "output_type": "stream",
     "text": [
      "\r",
      "  8%|▊         | 52/625 [00:01<00:13, 41.41it/s]"
     ]
    },
    {
     "name": "stdout",
     "output_type": "stream",
     "text": [
      "Error opening 'train/5_2595/5_2595_20170701141948.wav': System error.\n",
      "Error opening 'train/5_2595/5_2595_20170701142032.wav': System error.\n"
     ]
    },
    {
     "name": "stderr",
     "output_type": "stream",
     "text": [
      "\r",
      " 25%|██▍       | 156/625 [00:01<00:03, 118.86it/s]"
     ]
    },
    {
     "name": "stdout",
     "output_type": "stream",
     "text": [
      "Error opening 'train/5_2595/5_2595_20170701142044.wav': System error.\n",
      "Error opening 'train/5_2595/5_2595_20170701142200.wav': System error.\n",
      "Error opening 'train/5_2595/5_2595_20170701142241.wav': System error."
     ]
    },
    {
     "name": "stderr",
     "output_type": "stream",
     "text": [
      " 12%|█▏        | 73/625 [00:01<00:09, 56.06it/s]"
     ]
    },
    {
     "name": "stdout",
     "output_type": "stream",
     "text": [
      "\n"
     ]
    },
    {
     "name": "stderr",
     "output_type": "stream",
     "text": [
      "\r",
      "  7%|▋         | 45/625 [00:01<00:16, 34.82it/s]"
     ]
    },
    {
     "name": "stdout",
     "output_type": "stream",
     "text": [
      "Error opening 'train/5_2595/5_2595_20170701142328.wav': System error.\n",
      "Error opening 'train/5_2595/5_2595_20170701142345.wav': System error.\n",
      "Error opening 'train/5_2595/5_2595_20170701142406.wav': System error.\n",
      "Error opening 'train/5_2595/5_2595_20170701142525.wav': System error.\n",
      "Error opening 'train/5_2595/5_2595_20170701142541.wav': System error.\n",
      "Error opening 'train/5_2595/5_2595_20170701142553.wav': System error."
     ]
    },
    {
     "name": "stderr",
     "output_type": "stream",
     "text": [
      "  9%|▉         | 57/625 [00:01<00:13, 42.14it/s]"
     ]
    },
    {
     "name": "stdout",
     "output_type": "stream",
     "text": [
      "\n"
     ]
    },
    {
     "name": "stderr",
     "output_type": "stream",
     "text": [
      "\r",
      "  7%|▋         | 45/625 [00:01<00:17, 32.36it/s]"
     ]
    },
    {
     "name": "stdout",
     "output_type": "stream",
     "text": [
      "Error opening 'train/5_2595/5_2595_20170701142602.wav': System error.\n",
      "Error opening 'train/5_2595/5_2595_20170701142629.wav': System error.\n",
      "Error opening 'train/5_2595/5_2595_20170701142642.wav': System error.\n"
     ]
    },
    {
     "name": "stderr",
     "output_type": "stream",
     "text": [
      "\r",
      " 27%|██▋       | 168/625 [00:01<00:04, 111.93it/s]"
     ]
    },
    {
     "name": "stdout",
     "output_type": "stream",
     "text": [
      "Error opening 'train/5_2595/5_2595_20170701142654.wav': System error.\n",
      "Error opening 'train/5_2595/5_2595_20170701142704.wav': System error.\n"
     ]
    },
    {
     "name": "stderr",
     "output_type": "stream",
     "text": [
      "\r",
      "  6%|▋         | 40/625 [00:01<00:22, 26.27it/s]"
     ]
    },
    {
     "name": "stdout",
     "output_type": "stream",
     "text": [
      "Error opening 'train/5_2595/5_2595_20170701142813.wav': System error.\n",
      "Error opening 'train/5_2595/5_2595_20170701142825.wav': System error."
     ]
    },
    {
     "name": "stderr",
     "output_type": "stream",
     "text": [
      "\r",
      "  8%|▊         | 50/625 [00:01<00:15, 36.83it/s]"
     ]
    },
    {
     "name": "stdout",
     "output_type": "stream",
     "text": [
      "\n",
      "Error opening 'train/5_2595/5_2595_20170701142842.wav': System error.\n",
      "Error opening 'train/5_2595/5_2595_20170701142853.wav': System error.\n",
      "Error opening 'train/5_2595/5_2595_20170701142904.wav': System error.\n",
      "Error opening 'train/5_2595/5_2595_20170701142915.wav': System error.\n",
      "Error opening 'train/5_2595/5_2595_20170701142929.wav': System error.\n"
     ]
    },
    {
     "name": "stderr",
     "output_type": "stream",
     "text": [
      " 10%|▉         | 62/625 [00:01<00:12, 43.72it/s]"
     ]
    },
    {
     "name": "stdout",
     "output_type": "stream",
     "text": [
      "Error opening 'train/5_2595/5_2595_20170701142940.wav': System error."
     ]
    },
    {
     "name": "stderr",
     "output_type": "stream",
     "text": [
      "\r",
      "  8%|▊         | 49/625 [00:01<00:17, 33.39it/s]"
     ]
    },
    {
     "name": "stdout",
     "output_type": "stream",
     "text": [
      "\n"
     ]
    },
    {
     "name": "stderr",
     "output_type": "stream",
     "text": [
      "  8%|▊         | 47/625 [00:01<00:19, 29.20it/s]"
     ]
    },
    {
     "name": "stdout",
     "output_type": "stream",
     "text": [
      "Error opening 'train/5_2595/5_2595_20170701145027.wav': System error.\n",
      "Error opening 'train/5_2595/5_2595_20170701145042.wav': System error.\n"
     ]
    },
    {
     "name": "stderr",
     "output_type": "stream",
     "text": [
      "\r",
      " 29%|██▉       | 180/625 [00:01<00:04, 109.00it/s]"
     ]
    },
    {
     "name": "stdout",
     "output_type": "stream",
     "text": [
      "Error opening 'train/5_2595/5_2595_20170701145156.wav': System error.\n"
     ]
    },
    {
     "name": "stderr",
     "output_type": "stream",
     "text": [
      "\r",
      "  9%|▊         | 54/625 [00:01<00:15, 37.35it/s]"
     ]
    },
    {
     "name": "stdout",
     "output_type": "stream",
     "text": [
      "Error opening 'train/5_2595/5_2595_20170701145208.wav': System error.\n",
      "Error opening 'train/5_2595/5_2595_20170701145223.wav': System error.\n",
      "Error opening 'train/5_2595/5_2595_20170701145238.wav': System error."
     ]
    },
    {
     "name": "stderr",
     "output_type": "stream",
     "text": [
      "\r",
      "  7%|▋         | 43/625 [00:01<00:23, 24.76it/s]"
     ]
    },
    {
     "name": "stdout",
     "output_type": "stream",
     "text": [
      "\n",
      "Error opening 'train/5_2595/5_2595_20170701145249.wav': System error.\n",
      "Error opening 'train/5_2595/5_2595_20170701145320.wav': System error.\n",
      "Error opening 'train/5_2595/5_2595_20170701145330.wav': System error."
     ]
    },
    {
     "name": "stderr",
     "output_type": "stream",
     "text": [
      " 11%|█         | 68/625 [00:01<00:11, 47.88it/s]"
     ]
    },
    {
     "name": "stdout",
     "output_type": "stream",
     "text": [
      "\n"
     ]
    },
    {
     "name": "stderr",
     "output_type": "stream",
     "text": [
      "\r",
      "  8%|▊         | 53/625 [00:01<00:16, 34.90it/s]"
     ]
    },
    {
     "name": "stdout",
     "output_type": "stream",
     "text": [
      "\n"
     ]
    },
    {
     "name": "stderr",
     "output_type": "stream",
     "text": [
      "\r",
      " 13%|█▎        | 84/625 [00:01<00:11, 46.48it/s]"
     ]
    },
    {
     "name": "stdout",
     "output_type": "stream",
     "text": [
      "Error opening 'train/5_2595/5_2595_20170701145344.wav': System error."
     ]
    },
    {
     "name": "stderr",
     "output_type": "stream",
     "text": [
      "\r",
      "  8%|▊         | 50/625 [00:01<00:19, 28.98it/s]"
     ]
    },
    {
     "name": "stdout",
     "output_type": "stream",
     "text": [
      "Error opening 'train/5_2595/5_2595_20170701145354.wav': System error.\n",
      "Error opening 'train/5_2595/5_2595_20170701145404.wav': System error.\n",
      "Error opening 'train/5_2595/5_2595_20170701145505.wav': System error.\n"
     ]
    },
    {
     "name": "stderr",
     "output_type": "stream",
     "text": [
      "\r",
      " 31%|███       | 191/625 [00:01<00:04, 107.27it/s]"
     ]
    },
    {
     "name": "stdout",
     "output_type": "stream",
     "text": [
      "Error opening 'train/5_2595/5_2595_20170701145519.wav': System error.\n",
      "Error opening 'train/5_2595/5_2595_20170701145530.wav': System error."
     ]
    },
    {
     "name": "stderr",
     "output_type": "stream",
     "text": [
      "\r",
      "  9%|▉         | 59/625 [00:01<00:14, 40.23it/s]"
     ]
    },
    {
     "name": "stdout",
     "output_type": "stream",
     "text": [
      "\n",
      "Error opening 'train/5_2595/5_2595_20170701145546.wav': System error.\n",
      "Error opening 'train/5_2595/5_2595_20170701145603.wav': System error.\n",
      "Error opening 'train/5_2595/5_2595_20170701145613.wav': System error."
     ]
    },
    {
     "name": "stderr",
     "output_type": "stream",
     "text": [
      "\r",
      "  7%|▋         | 46/625 [00:01<00:22, 25.92it/s]"
     ]
    },
    {
     "name": "stdout",
     "output_type": "stream",
     "text": [
      "\n",
      "Error opening 'train/5_2595/5_2595_20170701145659.wav': System error.\n",
      "Error opening 'train/5_2595/5_2595_20170701145749.wav': System error.\n",
      "Error opening 'train/5_2595/5_2595_20170701145800.wav': System error.\n",
      "Error opening 'train/5_2595/5_2595_20170701145838.wav': System error."
     ]
    },
    {
     "name": "stderr",
     "output_type": "stream",
     "text": [
      "\r",
      " 13%|█▎        | 80/625 [00:01<00:11, 46.66it/s]"
     ]
    },
    {
     "name": "stdout",
     "output_type": "stream",
     "text": [
      "\n"
     ]
    },
    {
     "name": "stderr",
     "output_type": "stream",
     "text": [
      "\r",
      "  8%|▊         | 53/625 [00:01<00:19, 28.85it/s]"
     ]
    },
    {
     "name": "stdout",
     "output_type": "stream",
     "text": [
      "Error opening 'train/5_2595/5_2595_20170701145850.wav': System error."
     ]
    },
    {
     "name": "stderr",
     "output_type": "stream",
     "text": [
      " 15%|█▍        | 91/625 [00:01<00:10, 50.76it/s]"
     ]
    },
    {
     "name": "stdout",
     "output_type": "stream",
     "text": [
      "\n",
      "Error opening 'train/5_2595/5_2595_20170701145859.wav': System error.\n",
      "Error opening 'train/5_2595/5_2595_20170701145913.wav': System error.\n",
      "Error opening 'train/5_2595/5_2595_20170701145933.wav': System error.\n"
     ]
    },
    {
     "name": "stderr",
     "output_type": "stream",
     "text": [
      "  9%|▉         | 57/625 [00:01<00:17, 32.09it/s]s]"
     ]
    },
    {
     "name": "stdout",
     "output_type": "stream",
     "text": [
      "Error opening 'train/5_2595/5_2595_20170701145943.wav': System error.\n",
      "Error opening 'train/5_2595/5_2595_20170701145959.wav': System error.\n",
      "Error opening 'train/5_2595/5_2595_20170701150034.wav': System error.\n",
      "Error opening 'train/5_2595/5_2595_20170701150053.wav': System error.\n",
      "Error opening 'train/5_2595/5_2595_20170701150104.wav': System error.\n"
     ]
    },
    {
     "name": "stderr",
     "output_type": "stream",
     "text": [
      "\r",
      " 10%|█         | 64/625 [00:01<00:14, 39.62it/s]"
     ]
    },
    {
     "name": "stdout",
     "output_type": "stream",
     "text": [
      "Error opening 'train/5_2595/5_2595_20170701150116.wav': System error.\n",
      "Error opening 'train/5_2595/5_2595_20170701150126.wav': System error."
     ]
    },
    {
     "name": "stderr",
     "output_type": "stream",
     "text": [
      "\r",
      "  8%|▊         | 50/625 [00:01<00:20, 27.74it/s]"
     ]
    },
    {
     "name": "stdout",
     "output_type": "stream",
     "text": [
      "\n",
      "Error opening 'train/5_2595/5_2595_20170701150136.wav': System error.\n",
      "Error opening 'train/5_2595/5_2595_20170701150152.wav': System error.\n",
      "Error opening 'train/5_2595/5_2595_20170701150205.wav': System error."
     ]
    },
    {
     "name": "stderr",
     "output_type": "stream",
     "text": [
      "\r",
      "  9%|▉         | 56/625 [00:01<00:19, 29.08it/s]"
     ]
    },
    {
     "name": "stdout",
     "output_type": "stream",
     "text": [
      "\n"
     ]
    },
    {
     "name": "stderr",
     "output_type": "stream",
     "text": [
      " 13%|█▎        | 80/625 [00:01<00:10, 49.70it/s]"
     ]
    },
    {
     "name": "stdout",
     "output_type": "stream",
     "text": [
      "Error opening 'train/5_2595/5_2595_20170701150237.wav': System error.\n",
      "Error opening 'train/5_2595/5_2595_20170701150253.wav': System error.\n",
      "Error opening 'train/5_2595/5_2595_20170701150317.wav': System error.\n"
     ]
    },
    {
     "name": "stderr",
     "output_type": "stream",
     "text": [
      "\r",
      " 35%|███▍      | 217/625 [00:01<00:03, 114.15it/s]"
     ]
    },
    {
     "name": "stdout",
     "output_type": "stream",
     "text": [
      "Error opening 'train/5_2595/5_2595_20170701150330.wav': System error.\n",
      "Error opening 'train/5_2595/5_2595_20170701150340.wav': System error.\n"
     ]
    },
    {
     "name": "stderr",
     "output_type": "stream",
     "text": [
      "\r",
      " 10%|▉         | 61/625 [00:01<00:17, 32.10it/s]"
     ]
    },
    {
     "name": "stdout",
     "output_type": "stream",
     "text": [
      "Error opening 'train/5_2595/5_2595_20170701150350.wav': System error.\n"
     ]
    },
    {
     "name": "stderr",
     "output_type": "stream",
     "text": [
      " 11%|█         | 69/625 [00:01<00:13, 40.62it/s]"
     ]
    },
    {
     "name": "stdout",
     "output_type": "stream",
     "text": [
      "Error opening 'train/5_2595/5_2595_20170701150410.wav': System error.\n",
      "Error opening 'train/5_2595/5_2595_20170701150424.wav': System error.\n",
      "Error opening 'train/5_2595/5_2595_20170701150436.wav': System error.\n"
     ]
    },
    {
     "name": "stderr",
     "output_type": "stream",
     "text": [
      "\r",
      "  9%|▉         | 59/625 [00:01<00:19, 29.18it/s]"
     ]
    },
    {
     "name": "stdout",
     "output_type": "stream",
     "text": [
      "Error opening 'train/5_2595/5_2595_20170701150455.wav': System error.\n",
      "Error opening 'train/5_2595/5_2595_20170701150523.wav': System error.\n",
      "Error opening 'train/5_2595/5_2595_20170701150538.wav': System error."
     ]
    },
    {
     "name": "stderr",
     "output_type": "stream",
     "text": [
      "\r",
      "  9%|▊         | 54/625 [00:01<00:20, 27.98it/s]"
     ]
    },
    {
     "name": "stdout",
     "output_type": "stream",
     "text": [
      "\n"
     ]
    },
    {
     "name": "stderr",
     "output_type": "stream",
     "text": [
      "\r",
      " 14%|█▍        | 86/625 [00:01<00:10, 51.03it/s]"
     ]
    },
    {
     "name": "stdout",
     "output_type": "stream",
     "text": [
      "Error opening 'train/5_2595/5_2595_20170701150558.wav': System error.\n"
     ]
    },
    {
     "name": "stderr",
     "output_type": "stream",
     "text": [
      "\r",
      " 14%|█▍        | 90/625 [00:01<00:12, 41.47it/s]"
     ]
    },
    {
     "name": "stdout",
     "output_type": "stream",
     "text": [
      "Error opening 'train/5_2595/5_2595_20170701150609.wav': System error.\n",
      "Error opening 'train/5_2595/5_2595_20170701150620.wav': System error.\n"
     ]
    },
    {
     "name": "stderr",
     "output_type": "stream",
     "text": [
      "\r",
      " 37%|███▋      | 229/625 [00:02<00:03, 107.27it/s]"
     ]
    },
    {
     "name": "stdout",
     "output_type": "stream",
     "text": [
      "Error opening 'train/5_2595/5_2595_20170701150632.wav': System error.\n",
      "Error opening 'train/5_2595/5_2595_20170701150645.wav': System error.\n",
      "Error opening 'train/5_2595/5_2595_20170701150657.wav': System error.\n",
      "Error opening 'train/5_2595/5_2595_20170701150707.wav': System error.\n",
      "Error opening 'train/5_2595/5_2595_20170701150718.wav': System error."
     ]
    },
    {
     "name": "stderr",
     "output_type": "stream",
     "text": [
      "\r",
      " 17%|█▋        | 105/625 [00:02<00:10, 51.57it/s]"
     ]
    },
    {
     "name": "stdout",
     "output_type": "stream",
     "text": [
      "\n",
      "Error opening 'train/5_2595/5_2595_20170701150730.wav': System error."
     ]
    },
    {
     "name": "stderr",
     "output_type": "stream",
     "text": [
      "\r",
      " 10%|█         | 65/625 [00:02<00:18, 30.68it/s]"
     ]
    },
    {
     "name": "stdout",
     "output_type": "stream",
     "text": [
      "\n",
      "Error opening 'train/5_2595/5_2595_20170701150740.wav': System error."
     ]
    },
    {
     "name": "stderr",
     "output_type": "stream",
     "text": [
      "\r",
      " 12%|█▏        | 74/625 [00:02<00:13, 39.74it/s]"
     ]
    },
    {
     "name": "stdout",
     "output_type": "stream",
     "text": [
      "\n",
      "Error opening 'train/5_2595/5_2595_20170701150753.wav': System error.\n",
      "Error opening 'train/5_2595/5_2595_20170701150804.wav': System error."
     ]
    },
    {
     "name": "stderr",
     "output_type": "stream",
     "text": [
      "\r",
      " 15%|█▍        | 92/625 [00:02<00:10, 52.01it/s]"
     ]
    },
    {
     "name": "stdout",
     "output_type": "stream",
     "text": [
      "\n",
      "Error opening 'train/5_2595/5_2595_20170701150814.wav': System error."
     ]
    },
    {
     "name": "stderr",
     "output_type": "stream",
     "text": [
      "\r",
      " 10%|█         | 63/625 [00:02<00:19, 29.41it/s]"
     ]
    },
    {
     "name": "stdout",
     "output_type": "stream",
     "text": [
      "\n",
      "Error opening 'train/5_2595/5_2595_20170701150826.wav': System error."
     ]
    },
    {
     "name": "stderr",
     "output_type": "stream",
     "text": [
      "\r",
      "  9%|▉         | 57/625 [00:02<00:21, 26.34it/s]"
     ]
    },
    {
     "name": "stdout",
     "output_type": "stream",
     "text": [
      "\n",
      "Error opening 'train/5_2595/5_2595_20170701150836.wav': System error.\n",
      "Error opening 'train/5_2595/5_2595_20170701150848.wav': System error.\n"
     ]
    },
    {
     "name": "stderr",
     "output_type": "stream",
     "text": [
      "\r",
      " 39%|███▊      | 242/625 [00:02<00:03, 111.04it/s]"
     ]
    },
    {
     "name": "stdout",
     "output_type": "stream",
     "text": [
      "Error opening 'train/5_2595/5_2595_20170701150859.wav': System error.\n",
      "Error opening 'train/5_2595/5_2595_20170701150912.wav': System error.\n",
      "Error opening 'train/5_2595/5_2595_20170701150922.wav': System error.\n",
      "Error opening 'train/5_2595/5_2595_20170701150934.wav': System error.\n",
      "Error opening 'train/5_2595/5_2595_20170701150945.wav': System error.\n",
      "Error opening 'train/5_2595/5_2595_20170701150958.wav': System error.\n",
      "Error opening 'train/5_2595/5_2595_20170701151008.wav': System error.\n",
      "Error opening 'train/5_2595/5_2595_20170701151019.wav': System error."
     ]
    },
    {
     "name": "stderr",
     "output_type": "stream",
     "text": [
      "\r",
      " 11%|█         | 69/625 [00:02<00:17, 31.57it/s]"
     ]
    },
    {
     "name": "stdout",
     "output_type": "stream",
     "text": [
      "\n",
      "Error opening 'train/5_2595/5_2595_20170701151028.wav': System error.\n"
     ]
    },
    {
     "name": "stderr",
     "output_type": "stream",
     "text": [
      "\r",
      " 18%|█▊        | 111/625 [00:02<00:10, 47.77it/s]"
     ]
    },
    {
     "name": "stdout",
     "output_type": "stream",
     "text": [
      "Error opening 'train/5_2595/5_2595_20170701151040.wav': System error."
     ]
    },
    {
     "name": "stderr",
     "output_type": "stream",
     "text": [
      "\r",
      " 13%|█▎        | 79/625 [00:02<00:14, 38.88it/s]"
     ]
    },
    {
     "name": "stdout",
     "output_type": "stream",
     "text": [
      "\n",
      "Error opening 'train/5_2595/5_2595_20170701151053.wav': System error."
     ]
    },
    {
     "name": "stderr",
     "output_type": "stream",
     "text": [
      "\r",
      " 11%|█         | 66/625 [00:02<00:19, 28.42it/s]"
     ]
    },
    {
     "name": "stdout",
     "output_type": "stream",
     "text": [
      "\n"
     ]
    },
    {
     "name": "stderr",
     "output_type": "stream",
     "text": [
      "\r",
      " 15%|█▌        | 95/625 [00:02<00:15, 34.52it/s]"
     ]
    },
    {
     "name": "stdout",
     "output_type": "stream",
     "text": [
      "Error opening 'train/5_2595/5_2595_20170701151104.wav': System error.\n",
      "Error opening 'train/5_2595/5_2595_20170701151118.wav': System error.\n"
     ]
    },
    {
     "name": "stderr",
     "output_type": "stream",
     "text": [
      "\r",
      " 10%|▉         | 60/625 [00:02<00:21, 25.90it/s]"
     ]
    },
    {
     "name": "stdout",
     "output_type": "stream",
     "text": [
      "Error opening 'train/5_2595/5_2595_20170701151128.wav': System error.\n"
     ]
    },
    {
     "name": "stderr",
     "output_type": "stream",
     "text": [
      "\r",
      " 41%|████      | 256/625 [00:02<00:03, 116.65it/s]"
     ]
    },
    {
     "name": "stdout",
     "output_type": "stream",
     "text": [
      "Error opening 'train/5_2595/5_2595_20170701151140.wav': System error.\n",
      "Error opening 'train/5_2595/5_2595_20170701151154.wav': System error.\n",
      "Error opening 'train/5_2595/5_2595_20170701151213.wav': System error."
     ]
    },
    {
     "name": "stderr",
     "output_type": "stream",
     "text": [
      "\r",
      " 16%|█▌        | 98/625 [00:02<00:11, 45.56it/s]"
     ]
    },
    {
     "name": "stdout",
     "output_type": "stream",
     "text": [
      "\n",
      "Error opening 'train/5_2595/5_2595_20170701151225.wav': System error.\n",
      "Error opening 'train/5_2595/5_2595_20170701151236.wav': System error.\n",
      "Error opening 'train/5_2595/5_2595_20170701151247.wav': System error."
     ]
    },
    {
     "name": "stderr",
     "output_type": "stream",
     "text": [
      "\r",
      " 12%|█▏        | 73/625 [00:02<00:16, 32.97it/s]"
     ]
    },
    {
     "name": "stdout",
     "output_type": "stream",
     "text": [
      "\n",
      "Error opening 'train/5_2595/5_2595_20170701151343.wav': System error.\n",
      "Error opening 'train/5_2595/5_2595_20170701151400.wav': System error.\n",
      "Error opening 'train/5_2595/5_2595_20170701151413.wav': System error."
     ]
    },
    {
     "name": "stderr",
     "output_type": "stream",
     "text": [
      "\r",
      " 19%|█▊        | 117/625 [00:02<00:10, 49.64it/s]"
     ]
    },
    {
     "name": "stdout",
     "output_type": "stream",
     "text": [
      "\n",
      "Error opening 'train/5_2595/5_2595_20170701151556.wav': System error.\n"
     ]
    },
    {
     "name": "stderr",
     "output_type": "stream",
     "text": [
      "\r",
      " 13%|█▎        | 84/625 [00:02<00:13, 39.44it/s]"
     ]
    },
    {
     "name": "stdout",
     "output_type": "stream",
     "text": [
      "Error opening 'train/5_2595/5_2595_20170701151622.wav': System error."
     ]
    },
    {
     "name": "stderr",
     "output_type": "stream",
     "text": [
      "\r",
      " 16%|█▌        | 99/625 [00:02<00:15, 35.02it/s]"
     ]
    },
    {
     "name": "stdout",
     "output_type": "stream",
     "text": [
      "\n"
     ]
    },
    {
     "name": "stderr",
     "output_type": "stream",
     "text": [
      "\r",
      " 11%|█         | 70/625 [00:02<00:18, 29.59it/s]"
     ]
    },
    {
     "name": "stdout",
     "output_type": "stream",
     "text": [
      "Error opening 'train/5_2595/5_2595_20170701151634.wav': System error.\n"
     ]
    },
    {
     "name": "stderr",
     "output_type": "stream",
     "text": [
      " 43%|████▎     | 268/625 [00:02<00:03, 113.28it/s]"
     ]
    },
    {
     "name": "stdout",
     "output_type": "stream",
     "text": [
      "Error opening 'train/5_2595/5_2595_20170701151645.wav': System error.\n",
      "Error opening 'train/5_2595/5_2595_20170701151657.wav': System error."
     ]
    },
    {
     "name": "stderr",
     "output_type": "stream",
     "text": [
      "\r",
      " 17%|█▋        | 104/625 [00:02<00:10, 47.99it/s]"
     ]
    },
    {
     "name": "stdout",
     "output_type": "stream",
     "text": [
      "\n",
      "Error opening 'train/5_2595/5_2595_20170701151719.wav': System error.\n",
      "Error opening 'train/5_2595/5_2595_20170701151731.wav': System error.\n",
      "Error opening 'train/5_2595/5_2595_20170701151744.wav': System error.\n",
      "Error opening 'train/5_2595/5_2595_20170701151755.wav': System error.\n"
     ]
    },
    {
     "name": "stderr",
     "output_type": "stream",
     "text": [
      "\r",
      " 12%|█▏        | 77/625 [00:02<00:16, 32.67it/s]"
     ]
    },
    {
     "name": "stdout",
     "output_type": "stream",
     "text": [
      "Error opening 'train/5_2595/5_2595_20170701151806.wav': System error.\n",
      "Error opening 'train/5_2595/5_2595_20170701151820.wav': System error."
     ]
    },
    {
     "name": "stderr",
     "output_type": "stream",
     "text": [
      "\r",
      " 20%|█▉        | 123/625 [00:02<00:10, 49.31it/s]"
     ]
    },
    {
     "name": "stdout",
     "output_type": "stream",
     "text": [
      "\n",
      "Error opening 'train/5_2595/5_2595_20170701151831.wav': System error.\n"
     ]
    },
    {
     "name": "stderr",
     "output_type": "stream",
     "text": [
      "\r",
      " 12%|█▏        | 73/625 [00:02<00:18, 29.45it/s]"
     ]
    },
    {
     "name": "stdout",
     "output_type": "stream",
     "text": [
      "Error opening 'train/5_2595/5_2595_20170701151844.wav': System error.\n",
      "Error opening 'train/5_2595/5_2595_20170701151857.wav': System error.\n"
     ]
    },
    {
     "name": "stderr",
     "output_type": "stream",
     "text": [
      " 16%|█▋        | 103/625 [00:02<00:15, 33.88it/s]"
     ]
    },
    {
     "name": "stdout",
     "output_type": "stream",
     "text": [
      "Error opening 'train/5_2595/5_2595_20170701151912.wav': System error.\n"
     ]
    },
    {
     "name": "stderr",
     "output_type": "stream",
     "text": [
      "\r",
      " 45%|████▍     | 280/625 [00:02<00:03, 112.86it/s]"
     ]
    },
    {
     "name": "stdout",
     "output_type": "stream",
     "text": [
      "Error opening 'train/5_2595/5_2595_20170701151922.wav': System error.\n",
      "Error opening 'train/5_2595/5_2595_20170701151933.wav': System error.\n",
      "Error opening 'train/5_2595/5_2595_20170701151944.wav': System error.\n"
     ]
    },
    {
     "name": "stderr",
     "output_type": "stream",
     "text": [
      "\r",
      " 11%|█         | 67/625 [00:02<00:21, 26.33it/s]"
     ]
    },
    {
     "name": "stdout",
     "output_type": "stream",
     "text": [
      "Error opening 'train/5_2595/5_2595_20170701152005.wav': System error.\n",
      "Error opening 'train/5_2595/5_2595_20170701152018.wav': System error.\n",
      "Error opening 'train/5_2595/5_2595_20170701152053.wav': System error.\n",
      "Error opening 'train/5_2595/5_2595_20170701152106.wav': System error.\n",
      "Error opening 'train/5_2595/5_2595_20170701152118.wav': System error.\n",
      "Error opening 'train/5_2595/5_2595_20170701152131.wav': System error.\n",
      "Error opening 'train/5_2595/5_2595_20170701152148.wav': System error.\n",
      "Error opening 'train/5_2595/5_2595_20170701152201.wav': System error."
     ]
    },
    {
     "name": "stderr",
     "output_type": "stream",
     "text": [
      " 21%|██        | 131/625 [00:02<00:08, 55.72it/s]"
     ]
    },
    {
     "name": "stdout",
     "output_type": "stream",
     "text": [
      "\n",
      "Error opening 'train/5_2595/5_2595_20170701152215.wav': System error.\n"
     ]
    },
    {
     "name": "stderr",
     "output_type": "stream",
     "text": [
      "\r",
      " 12%|█▏        | 76/625 [00:02<00:18, 29.16it/s]"
     ]
    },
    {
     "name": "stdout",
     "output_type": "stream",
     "text": [
      "Error opening 'train/5_2595/5_2595_20170701152231.wav': System error.\n"
     ]
    },
    {
     "name": "stderr",
     "output_type": "stream",
     "text": [
      "\r",
      " 13%|█▎        | 81/625 [00:02<00:17, 31.21it/s]"
     ]
    },
    {
     "name": "stdout",
     "output_type": "stream",
     "text": [
      "Error opening 'train/5_2595/5_2595_20170701152248.wav': System error.\n",
      "Error opening 'train/5_2595/5_2595_20170701152300.wav': System error.\n"
     ]
    },
    {
     "name": "stderr",
     "output_type": "stream",
     "text": [
      "\r",
      " 47%|████▋     | 295/625 [00:02<00:02, 119.52it/s]"
     ]
    },
    {
     "name": "stdout",
     "output_type": "stream",
     "text": [
      "Error opening 'train/5_2595/5_2595_20170701152312.wav': System error."
     ]
    },
    {
     "name": "stderr",
     "output_type": "stream",
     "text": [
      "\r",
      " 15%|█▍        | 92/625 [00:02<00:14, 35.97it/s]"
     ]
    },
    {
     "name": "stdout",
     "output_type": "stream",
     "text": [
      "\n"
     ]
    },
    {
     "name": "stderr",
     "output_type": "stream",
     "text": [
      "\r",
      " 17%|█▋        | 107/625 [00:02<00:15, 33.02it/s]"
     ]
    },
    {
     "name": "stdout",
     "output_type": "stream",
     "text": [
      "Error opening 'train/5_2595/5_2595_20170701152329.wav': System error.\n",
      "Error opening 'train/5_2595/5_2595_20170701152345.wav': System error.\n"
     ]
    },
    {
     "name": "stderr",
     "output_type": "stream",
     "text": [
      "\r",
      " 11%|█         | 70/625 [00:02<00:20, 26.57it/s]"
     ]
    },
    {
     "name": "stdout",
     "output_type": "stream",
     "text": [
      "Error opening 'train/5_2595/5_2595_20170701152410.wav': System error.\n",
      "Error opening 'train/5_2595/5_2595_20170701152422.wav': System error.\n",
      "Error opening 'train/5_2595/5_2595_20170701152442.wav': System error.\n",
      "Error opening 'train/5_2595/5_2595_20170701152454.wav': System error.\n"
     ]
    },
    {
     "name": "stderr",
     "output_type": "stream",
     "text": [
      "\r",
      " 13%|█▎        | 79/625 [00:02<00:18, 29.37it/s]"
     ]
    },
    {
     "name": "stdout",
     "output_type": "stream",
     "text": [
      "Error opening 'train/5_2595/5_2595_20170701152504.wav': System error.\n"
     ]
    },
    {
     "name": "stderr",
     "output_type": "stream",
     "text": [
      "\r",
      " 18%|█▊        | 115/625 [00:02<00:11, 44.93it/s]"
     ]
    },
    {
     "name": "stdout",
     "output_type": "stream",
     "text": [
      "Error opening 'train/5_2595/5_2595_20170701152518.wav': System error.\n"
     ]
    },
    {
     "name": "stderr",
     "output_type": "stream",
     "text": [
      "\r",
      " 22%|██▏       | 137/625 [00:02<00:08, 54.47it/s]"
     ]
    },
    {
     "name": "stdout",
     "output_type": "stream",
     "text": [
      "Error opening 'train/5_2595/5_2595_20170701152530.wav': System error.\n",
      "Error opening 'train/5_2595/5_2595_20170701152551.wav': System error.\n",
      "Error opening 'train/5_2595/5_2595_20170701152619.wav': System error.\n"
     ]
    },
    {
     "name": "stderr",
     "output_type": "stream",
     "text": [
      "\r",
      " 49%|████▉     | 307/625 [00:02<00:02, 118.06it/s]"
     ]
    },
    {
     "name": "stdout",
     "output_type": "stream",
     "text": [
      "Error opening 'train/5_2595/5_2595_20170701152628.wav': System error."
     ]
    },
    {
     "name": "stderr",
     "output_type": "stream",
     "text": [
      " 18%|█▊        | 111/625 [00:02<00:15, 34.12it/s]"
     ]
    },
    {
     "name": "stdout",
     "output_type": "stream",
     "text": [
      "\n",
      "Error opening 'train/5_2595/5_2595_20170701152644.wav': System error.\n",
      "Error opening 'train/5_2595/5_2595_20170701152722.wav': System error.\n",
      "Error opening 'train/5_2595/5_2595_20170701152735.wav': System error.\n"
     ]
    },
    {
     "name": "stderr",
     "output_type": "stream",
     "text": [
      "\r",
      " 12%|█▏        | 73/625 [00:02<00:21, 26.06it/s]"
     ]
    },
    {
     "name": "stdout",
     "output_type": "stream",
     "text": [
      "Error opening 'train/5_2595/5_2595_20170701152758.wav': System error.\n",
      "Error opening 'train/5_2595/5_2595_20170701152817.wav': System error.\n",
      "Error opening 'train/5_2595/5_2595_20170701152843.wav': System error.\n",
      "Error opening 'train/5_2595/5_2595_20170701152901.wav': System error."
     ]
    },
    {
     "name": "stderr",
     "output_type": "stream",
     "text": [
      "\r",
      " 19%|█▉        | 121/625 [00:02<00:10, 48.00it/s]"
     ]
    },
    {
     "name": "stdout",
     "output_type": "stream",
     "text": [
      "\n",
      "Error opening 'train/5_2595/5_2595_20170701152913.wav': System error."
     ]
    },
    {
     "name": "stderr",
     "output_type": "stream",
     "text": [
      "\r",
      " 23%|██▎       | 143/625 [00:02<00:08, 55.59it/s]"
     ]
    },
    {
     "name": "stdout",
     "output_type": "stream",
     "text": [
      "\n",
      "Error opening 'train/5_2595/5_2595_20170701152952.wav': System error."
     ]
    },
    {
     "name": "stderr",
     "output_type": "stream",
     "text": [
      "\r",
      " 13%|█▎        | 83/625 [00:02<00:17, 30.44it/s]"
     ]
    },
    {
     "name": "stdout",
     "output_type": "stream",
     "text": [
      "\n",
      "Error opening 'train/5_2595/5_2595_20170701153005.wav': System error.\n",
      "Error opening 'train/5_2595/5_2595_20170701153022.wav': System error.\n"
     ]
    },
    {
     "name": "stderr",
     "output_type": "stream",
     "text": [
      "\r",
      " 51%|█████     | 319/625 [00:02<00:02, 117.44it/s]"
     ]
    },
    {
     "name": "stdout",
     "output_type": "stream",
     "text": [
      "Error opening 'train/5_2595/5_2595_20170701153036.wav': System error.\n",
      "Error opening 'train/5_2595/5_2595_20170701153049.wav': System error.\n",
      "Error opening 'train/5_2595/5_2595_20170701153102.wav': System error.\n"
     ]
    },
    {
     "name": "stderr",
     "output_type": "stream",
     "text": [
      "\r",
      " 16%|█▌        | 100/625 [00:02<00:14, 35.13it/s]"
     ]
    },
    {
     "name": "stdout",
     "output_type": "stream",
     "text": [
      "Error opening 'train/5_2595/5_2595_20170701153114.wav': System error.\n",
      "Error opening 'train/5_2595/5_2595_20170701153126.wav': System error.\n"
     ]
    },
    {
     "name": "stderr",
     "output_type": "stream",
     "text": [
      " 14%|█▍        | 89/625 [00:02<00:17, 30.63it/s]]"
     ]
    },
    {
     "name": "stdout",
     "output_type": "stream",
     "text": [
      "Error opening 'train/5_2595/5_2595_20170701153151.wav': System error.\n",
      "Error opening 'train/5_2595/5_2595_20170701153202.wav': System error.\n",
      "Error opening 'train/5_2595/5_2595_20170701153216.wav': System error.\n"
     ]
    },
    {
     "name": "stderr",
     "output_type": "stream",
     "text": [
      "\r",
      " 20%|██        | 127/625 [00:02<00:09, 50.34it/s]"
     ]
    },
    {
     "name": "stdout",
     "output_type": "stream",
     "text": [
      "Error opening 'train/5_2595/5_2595_20170701153227.wav': System error.\n",
      "Error opening 'train/5_2595/5_2595_20170701153238.wav': System error.\n"
     ]
    },
    {
     "name": "stderr",
     "output_type": "stream",
     "text": [
      "\r",
      " 24%|██▍       | 150/625 [00:02<00:08, 57.69it/s]"
     ]
    },
    {
     "name": "stdout",
     "output_type": "stream",
     "text": [
      "Error opening 'train/5_2595/5_2595_20170701153250.wav': System error.\n",
      "Error opening 'train/5_2595/5_2595_20170701153302.wav': System error.\n"
     ]
    },
    {
     "name": "stderr",
     "output_type": "stream",
     "text": [
      "\r",
      " 53%|█████▎    | 331/625 [00:02<00:02, 113.71it/s]"
     ]
    },
    {
     "name": "stdout",
     "output_type": "stream",
     "text": [
      "Error opening 'train/5_2595/5_2595_20170701153312.wav': System error."
     ]
    },
    {
     "name": "stderr",
     "output_type": "stream",
     "text": [
      "\r",
      " 14%|█▍        | 87/625 [00:02<00:17, 30.49it/s]"
     ]
    },
    {
     "name": "stdout",
     "output_type": "stream",
     "text": [
      "\n",
      "Error opening 'train/5_2595/5_2595_20170701153326.wav': System error.\n",
      "Error opening 'train/5_2595/5_2595_20170701153340.wav': System error."
     ]
    },
    {
     "name": "stderr",
     "output_type": "stream",
     "text": [
      "\r",
      " 17%|█▋        | 104/625 [00:02<00:14, 35.20it/s]"
     ]
    },
    {
     "name": "stdout",
     "output_type": "stream",
     "text": [
      "\n",
      "Error opening 'train/5_2595/5_2595_20170701153352.wav': System error.\n",
      "Error opening 'train/5_2595/5_2595_20170701153406.wav': System error."
     ]
    },
    {
     "name": "stderr",
     "output_type": "stream",
     "text": [
      "\r",
      " 15%|█▍        | 93/625 [00:02<00:16, 31.50it/s]"
     ]
    },
    {
     "name": "stdout",
     "output_type": "stream",
     "text": [
      "\n",
      "Error opening 'train/5_2595/5_2595_20170701153415.wav': System error.\n",
      "Error opening 'train/5_2595/5_2595_20170701153425.wav': System error.\n",
      "Error opening 'train/5_2595/5_2595_20170701153437.wav': System error.\n",
      "Error opening 'train/5_2595/5_2595_20170701153447.wav': System error.\n"
     ]
    },
    {
     "name": "stderr",
     "output_type": "stream",
     "text": [
      "\r",
      " 21%|██▏       | 133/625 [00:02<00:09, 52.32it/s]"
     ]
    },
    {
     "name": "stdout",
     "output_type": "stream",
     "text": [
      "Error opening 'train/5_2595/5_2595_20170701153509.wav': System error."
     ]
    },
    {
     "name": "stderr",
     "output_type": "stream",
     "text": [
      " 13%|█▎        | 81/625 [00:02<00:19, 27.79it/s]]"
     ]
    },
    {
     "name": "stdout",
     "output_type": "stream",
     "text": [
      "\n",
      "Error opening 'train/5_2595/5_2595_20170701153519.wav': System error."
     ]
    },
    {
     "name": "stderr",
     "output_type": "stream",
     "text": [
      "\r",
      " 19%|█▉        | 119/625 [00:02<00:17, 29.19it/s]"
     ]
    },
    {
     "name": "stdout",
     "output_type": "stream",
     "text": [
      "\n",
      "Error opening 'train/5_2595/5_2595_20170701153533.wav': System error.\n"
     ]
    },
    {
     "name": "stderr",
     "output_type": "stream",
     "text": [
      "\r",
      " 55%|█████▍    | 343/625 [00:03<00:02, 110.63it/s]"
     ]
    },
    {
     "name": "stdout",
     "output_type": "stream",
     "text": [
      "Error opening 'train/5_2595/5_2595_20170701153543.wav': System error.\n",
      "Error opening 'train/5_2595/5_2595_20170701153554.wav': System error.\n",
      "Error opening 'train/5_2595/5_2595_20170701153604.wav': System error.\n",
      "Error opening 'train/5_2595/5_2595_20170701153614.wav': System error.\n"
     ]
    },
    {
     "name": "stderr",
     "output_type": "stream",
     "text": [
      "\r",
      " 17%|█▋        | 108/625 [00:03<00:14, 34.82it/s]"
     ]
    },
    {
     "name": "stdout",
     "output_type": "stream",
     "text": [
      "Error opening 'train/5_2595/5_2595_20170701153623.wav': System error.\n",
      "Error opening 'train/5_2595/5_2595_20170701153633.wav': System error."
     ]
    },
    {
     "name": "stderr",
     "output_type": "stream",
     "text": [
      "\r",
      " 15%|█▍        | 91/625 [00:03<00:18, 29.60it/s]"
     ]
    },
    {
     "name": "stdout",
     "output_type": "stream",
     "text": [
      "\n"
     ]
    },
    {
     "name": "stderr",
     "output_type": "stream",
     "text": [
      "\r",
      " 16%|█▌        | 97/625 [00:03<00:16, 32.85it/s]"
     ]
    },
    {
     "name": "stdout",
     "output_type": "stream",
     "text": [
      "Error opening 'train/5_2595/5_2595_20170701153644.wav': System error.\n",
      "Error opening 'train/5_2595/5_2595_20170701153655.wav': System error.\n",
      "Error opening 'train/5_2595/5_2595_20170701153705.wav': System error.\n",
      "Error opening 'train/5_2595/5_2595_20170701153717.wav': System error.\n",
      "Error opening 'train/5_2595/5_2595_20170701153728.wav': System error.\n",
      "Error opening 'train/5_2595/5_2595_20170701153738.wav': System error."
     ]
    },
    {
     "name": "stderr",
     "output_type": "stream",
     "text": [
      "\r",
      " 26%|██▌       | 163/625 [00:03<00:08, 57.49it/s]"
     ]
    },
    {
     "name": "stdout",
     "output_type": "stream",
     "text": [
      "\n"
     ]
    },
    {
     "name": "stderr",
     "output_type": "stream",
     "text": [
      "\r",
      " 22%|██▏       | 139/625 [00:03<00:09, 49.70it/s]"
     ]
    },
    {
     "name": "stdout",
     "output_type": "stream",
     "text": [
      "Error opening 'train/5_2595/5_2595_20170701153749.wav': System error.\n"
     ]
    },
    {
     "name": "stderr",
     "output_type": "stream",
     "text": [
      " 14%|█▎        | 85/625 [00:03<00:18, 28.43it/s]s]"
     ]
    },
    {
     "name": "stdout",
     "output_type": "stream",
     "text": [
      "Error opening 'train/5_2595/5_2595_20170701153800.wav': System error.\n",
      "Error opening 'train/5_2595/5_2595_20170701153815.wav': System error.\n",
      "Error opening 'train/5_2595/5_2595_20170701153825.wav': System error.\n",
      "Error opening 'train/5_2595/5_2595_20170701153837.wav': System error."
     ]
    },
    {
     "name": "stderr",
     "output_type": "stream",
     "text": [
      "\r",
      " 20%|█▉        | 123/625 [00:03<00:17, 29.07it/s]"
     ]
    },
    {
     "name": "stdout",
     "output_type": "stream",
     "text": [
      "\n",
      "Error opening 'train/5_2595/5_2595_20170701153851.wav': System error.\n",
      "Error opening 'train/5_2595/5_2595_20170701153900.wav': System error."
     ]
    },
    {
     "name": "stderr",
     "output_type": "stream",
     "text": [
      " 18%|█▊        | 113/625 [00:03<00:13, 36.88it/s]"
     ]
    },
    {
     "name": "stdout",
     "output_type": "stream",
     "text": [
      "\n",
      "Error opening 'train/5_2595/5_2595_20170701153912.wav': System error.\n",
      "Error opening 'train/5_2595/5_2595_20170701153922.wav': System error.\n",
      "Error opening 'train/5_2595/5_2595_20170701153935.wav': System error.\n",
      "Error opening 'train/5_2595/5_2595_20170701153955.wav': System error.\n",
      "Error opening 'train/5_2595/5_2595_20170701154004.wav': System error."
     ]
    },
    {
     "name": "stderr",
     "output_type": "stream",
     "text": [
      "\r",
      " 16%|█▌        | 101/625 [00:03<00:16, 31.28it/s]"
     ]
    },
    {
     "name": "stdout",
     "output_type": "stream",
     "text": [
      "\n",
      "Error opening 'train/5_2595/5_2595_20170701154013.wav': System error.\n",
      "Error opening 'train/5_2595/5_2595_20170701154032.wav': System error.\n",
      "Error opening 'train/5_2595/5_2595_20170701154045.wav': System error.\n",
      "Error opening 'train/5_2595/5_2595_20170701154109.wav': System error.\n"
     ]
    },
    {
     "name": "stderr",
     "output_type": "stream",
     "text": [
      " 20%|██        | 127/625 [00:03<00:15, 31.52it/s]]"
     ]
    },
    {
     "name": "stdout",
     "output_type": "stream",
     "text": [
      "Error opening 'train/5_2595/5_2595_20170701154122.wav': System error.\n",
      "Error opening 'train/5_2595/5_2595_20170701154131.wav': System error."
     ]
    },
    {
     "name": "stderr",
     "output_type": "stream",
     "text": [
      "\r",
      " 14%|█▍        | 89/625 [00:03<00:18, 29.02it/s]"
     ]
    },
    {
     "name": "stdout",
     "output_type": "stream",
     "text": [
      "\n"
     ]
    },
    {
     "name": "stderr",
     "output_type": "stream",
     "text": [
      "\r",
      " 16%|█▌        | 98/625 [00:03<00:16, 31.27it/s]"
     ]
    },
    {
     "name": "stdout",
     "output_type": "stream",
     "text": [
      "Error opening 'train/5_2595/5_2595_20170701154145.wav': System error.\n"
     ]
    },
    {
     "name": "stderr",
     "output_type": "stream",
     "text": [
      "\r",
      " 23%|██▎       | 145/625 [00:03<00:10, 43.75it/s]"
     ]
    },
    {
     "name": "stdout",
     "output_type": "stream",
     "text": [
      "Error opening 'train/5_2595/5_2595_20170701154155.wav': System error.\n",
      "Error opening 'train/5_2595/5_2595_20170701154231.wav': System error."
     ]
    },
    {
     "name": "stderr",
     "output_type": "stream",
     "text": [
      "\r",
      " 19%|█▉        | 118/625 [00:03<00:13, 37.57it/s]"
     ]
    },
    {
     "name": "stdout",
     "output_type": "stream",
     "text": [
      "\n",
      "Error opening 'train/5_2595/5_2595_20170701154327.wav': System error.\n"
     ]
    },
    {
     "name": "stderr",
     "output_type": "stream",
     "text": [
      "\r",
      " 17%|█▋        | 105/625 [00:03<00:15, 32.72it/s]"
     ]
    },
    {
     "name": "stdout",
     "output_type": "stream",
     "text": [
      "Error opening 'train/5_2595/5_2595_20170701154337.wav': System error.\n",
      "Error opening 'train/5_2595/5_2595_20170701154349.wav': System error.\n"
     ]
    },
    {
     "name": "stderr",
     "output_type": "stream",
     "text": [
      "\r",
      " 28%|██▊       | 177/625 [00:03<00:07, 60.85it/s]"
     ]
    },
    {
     "name": "stdout",
     "output_type": "stream",
     "text": [
      "Error opening 'train/5_2595/5_2595_20170701154400.wav': System error.\n",
      "Error opening 'train/5_2595/5_2595_20170701154408.wav': System error.\n",
      "Error opening 'train/5_2595/5_2595_20170701154907.wav': System error.\n",
      "Error opening 'train/5_2595/5_2595_20170701155053.wav': System error."
     ]
    },
    {
     "name": "stderr",
     "output_type": "stream",
     "text": [
      "\r",
      " 21%|██        | 131/625 [00:03<00:15, 32.47it/s]"
     ]
    },
    {
     "name": "stdout",
     "output_type": "stream",
     "text": [
      "\n",
      "Error opening 'train/5_2595/5_2595_20170701155140.wav': System error.\n"
     ]
    },
    {
     "name": "stderr",
     "output_type": "stream",
     "text": [
      "\r",
      " 61%|██████▏   | 384/625 [00:03<00:02, 111.23it/s]"
     ]
    },
    {
     "name": "stdout",
     "output_type": "stream",
     "text": [
      "Error opening 'train/5_2595/5_2595_20170701155148.wav': System error."
     ]
    },
    {
     "name": "stderr",
     "output_type": "stream",
     "text": [
      "\r",
      " 15%|█▍        | 93/625 [00:03<00:17, 29.77it/s]"
     ]
    },
    {
     "name": "stdout",
     "output_type": "stream",
     "text": [
      "\n"
     ]
    },
    {
     "name": "stderr",
     "output_type": "stream",
     "text": [
      "\r",
      " 24%|██▍       | 150/625 [00:03<00:10, 44.98it/s]"
     ]
    },
    {
     "name": "stdout",
     "output_type": "stream",
     "text": [
      "Error opening 'train/5_2595/5_2595_20170701155201.wav': System error.\n",
      "Error opening 'train/5_2595/5_2595_20170701155211.wav': System error.\n"
     ]
    },
    {
     "name": "stderr",
     "output_type": "stream",
     "text": [
      "\r",
      " 20%|█▉        | 122/625 [00:03<00:13, 38.01it/s]"
     ]
    },
    {
     "name": "stdout",
     "output_type": "stream",
     "text": [
      "Error opening 'train/5_2595/5_2595_20170701155233.wav': System error.\n"
     ]
    },
    {
     "name": "stderr",
     "output_type": "stream",
     "text": [
      "\r",
      " 16%|█▋        | 102/625 [00:03<00:17, 30.53it/s]"
     ]
    },
    {
     "name": "stdout",
     "output_type": "stream",
     "text": [
      "Error opening 'train/5_2595/5_2595_20170701155246.wav': System error.\n",
      "Error opening 'train/5_2595/5_2595_20170701155255.wav': System error.\n",
      "Error opening 'train/5_2595/5_2595_20170701155309.wav': System error.\n",
      "Error opening 'train/5_2595/5_2595_20170701155323.wav': System error.\n",
      "Error opening 'train/5_2595/5_2595_20170701155417.wav': System error.\n",
      "Error opening 'train/5_2595/5_2595_20170701161832.wav': System error.\n",
      "Error opening 'train/5_2595/5_2595_20170701161858.wav': System error.\n",
      "Error opening 'train/5_2595/5_2595_20170701161928.wav': System error.\n"
     ]
    },
    {
     "name": "stderr",
     "output_type": "stream",
     "text": [
      " 29%|██▉       | 184/625 [00:03<00:07, 56.78it/s]"
     ]
    },
    {
     "name": "stdout",
     "output_type": "stream",
     "text": [
      "Error opening 'train/5_2595/5_2595_20170701161938.wav': System error.\n"
     ]
    },
    {
     "name": "stderr",
     "output_type": "stream",
     "text": [
      "\r",
      " 64%|██████▎   | 397/625 [00:03<00:01, 114.01it/s]"
     ]
    },
    {
     "name": "stdout",
     "output_type": "stream",
     "text": [
      "Error opening 'train/5_2595/5_2595_20170701161958.wav': System error.\n",
      "Error opening 'train/5_2595/5_2595_20170701162011.wav': System error.\n",
      "Error opening 'train/5_2595/5_2595_20170701162022.wav': System error.\n"
     ]
    },
    {
     "name": "stderr",
     "output_type": "stream",
     "text": [
      " 16%|█▌        | 97/625 [00:03<00:16, 31.29it/s]]"
     ]
    },
    {
     "name": "stdout",
     "output_type": "stream",
     "text": [
      "Error opening 'train/5_2595/5_2595_20170701162032.wav': System error.\n",
      "Error opening 'train/5_2595/5_2595_20170701162042.wav': System error."
     ]
    },
    {
     "name": "stderr",
     "output_type": "stream",
     "text": [
      "\r",
      " 22%|██▏       | 135/625 [00:03<00:16, 30.53it/s]"
     ]
    },
    {
     "name": "stdout",
     "output_type": "stream",
     "text": [
      "\n",
      "Error opening 'train/5_2595/5_2595_20170701162053.wav': System error."
     ]
    },
    {
     "name": "stderr",
     "output_type": "stream",
     "text": [
      "\r",
      " 17%|█▋        | 106/625 [00:03<00:16, 31.54it/s]"
     ]
    },
    {
     "name": "stdout",
     "output_type": "stream",
     "text": [
      "\n",
      "Error opening 'train/5_2595/5_2595_20170701162141.wav': System error.\n",
      "Error opening 'train/5_2595/5_2595_20170701162156.wav': System error.\n",
      "Error opening 'train/5_2595/5_2595_20170701162207.wav': System error.\n",
      "Error opening 'train/5_2595/5_2595_20170701162222.wav': System error.\n",
      "Error opening 'train/5_2595/5_2595_20170701162231.wav': System error.\n",
      "Error opening 'train/5_2595/5_2595_20170701162254.wav': System error.\n",
      "Error opening 'train/5_2595/5_2595_20170701162304.wav': System error."
     ]
    },
    {
     "name": "stderr",
     "output_type": "stream",
     "text": [
      " 30%|███       | 190/625 [00:03<00:07, 56.64it/s]"
     ]
    },
    {
     "name": "stdout",
     "output_type": "stream",
     "text": [
      "\n"
     ]
    },
    {
     "name": "stderr",
     "output_type": "stream",
     "text": [
      "\r",
      " 66%|██████▌   | 410/625 [00:03<00:01, 113.56it/s]"
     ]
    },
    {
     "name": "stdout",
     "output_type": "stream",
     "text": [
      "Error opening 'train/5_2595/5_2595_20170701162315.wav': System error.\n",
      "Error opening 'train/5_2595/5_2595_20170701162325.wav': System error.\n",
      "Error opening 'train/5_2595/5_2595_20170701162354.wav': System error."
     ]
    },
    {
     "name": "stderr",
     "output_type": "stream",
     "text": [
      " 21%|██        | 131/625 [00:03<00:12, 39.44it/s]"
     ]
    },
    {
     "name": "stdout",
     "output_type": "stream",
     "text": [
      "\n",
      "Error opening 'train/5_2595/5_2595_20170701162408.wav': System error.\n",
      "Error opening 'train/5_2595/5_2595_20170701162419.wav': System error.\n"
     ]
    },
    {
     "name": "stderr",
     "output_type": "stream",
     "text": [
      "\r",
      " 18%|█▊        | 110/625 [00:03<00:15, 32.81it/s]"
     ]
    },
    {
     "name": "stdout",
     "output_type": "stream",
     "text": [
      "Error opening 'train/5_2595/5_2595_20170701162431.wav': System error."
     ]
    },
    {
     "name": "stderr",
     "output_type": "stream",
     "text": [
      "\r",
      " 16%|█▌        | 101/625 [00:03<00:17, 30.01it/s]"
     ]
    },
    {
     "name": "stdout",
     "output_type": "stream",
     "text": [
      "\n",
      "Error opening 'train/5_2595/5_2595_20170701162442.wav': System error.\n",
      "Error opening 'train/5_2595/5_2595_20170701162451.wav': System error.\n",
      "Error opening 'train/5_2595/5_2595_20170701162518.wav': System error.\n",
      "Error opening 'train/5_2595/5_2595_20170701162530.wav': System error.\n",
      "Error opening 'train/5_2595/5_2595_20170701162556.wav': System error."
     ]
    },
    {
     "name": "stderr",
     "output_type": "stream",
     "text": [
      "\r",
      " 22%|██▏       | 139/625 [00:03<00:16, 28.99it/s]"
     ]
    },
    {
     "name": "stdout",
     "output_type": "stream",
     "text": [
      "\n",
      "Error opening 'train/5_2595/5_2595_20170701162623.wav': System error.\n",
      "Error opening 'train/5_2595/5_2595_20170701162634.wav': System error.\n",
      "Error opening 'train/5_2595/5_2595_20170701162651.wav': System error.\n"
     ]
    },
    {
     "name": "stderr",
     "output_type": "stream",
     "text": [
      " 31%|███▏      | 196/625 [00:03<00:08, 52.43it/s]]"
     ]
    },
    {
     "name": "stdout",
     "output_type": "stream",
     "text": [
      "Error opening 'train/5_2595/5_2595_20170701162735.wav': System error."
     ]
    },
    {
     "name": "stderr",
     "output_type": "stream",
     "text": [
      "\r",
      " 19%|█▊        | 117/625 [00:03<00:16, 30.81it/s]"
     ]
    },
    {
     "name": "stdout",
     "output_type": "stream",
     "text": [
      "\n",
      "Error opening 'train/5_2595/5_2595_20170701162757.wav': System error."
     ]
    },
    {
     "name": "stderr",
     "output_type": "stream",
     "text": [
      "\r",
      " 26%|██▋       | 165/625 [00:03<00:10, 44.94it/s]"
     ]
    },
    {
     "name": "stdout",
     "output_type": "stream",
     "text": [
      "\n",
      "Error opening 'train/5_2595/5_2595_20170701162807.wav': System error.\n",
      "Error opening 'train/5_2595/5_2595_20170701162823.wav': System error.\n"
     ]
    },
    {
     "name": "stderr",
     "output_type": "stream",
     "text": [
      "\r",
      " 22%|██▏       | 136/625 [00:03<00:12, 39.85it/s]"
     ]
    },
    {
     "name": "stdout",
     "output_type": "stream",
     "text": [
      "Error opening 'train/5_2595/5_2595_20170701162842.wav': System error.\n",
      "Error opening 'train/5_2595/5_2595_20170701162854.wav': System error.\n",
      "Error opening 'train/5_2595/5_2595_20170701162947.wav': System error.\n",
      "Error opening 'train/5_2595/5_2595_20170701162957.wav': System error.\n",
      "Error opening 'train/5_2595/5_2595_20170701163019.wav': System error."
     ]
    },
    {
     "name": "stderr",
     "output_type": "stream",
     "text": [
      "\r",
      " 23%|██▎       | 144/625 [00:03<00:14, 32.77it/s]"
     ]
    },
    {
     "name": "stdout",
     "output_type": "stream",
     "text": [
      "\n",
      "Error opening 'train/5_2595/5_2595_20170701163032.wav': System error."
     ]
    },
    {
     "name": "stderr",
     "output_type": "stream",
     "text": [
      "\r",
      " 17%|█▋        | 105/625 [00:03<00:17, 29.48it/s]"
     ]
    },
    {
     "name": "stdout",
     "output_type": "stream",
     "text": [
      "\n",
      "Error opening 'train/5_2595/5_2595_20170701163105.wav': System error.\n"
     ]
    },
    {
     "name": "stderr",
     "output_type": "stream",
     "text": [
      "\r",
      " 18%|█▊        | 114/625 [00:03<00:17, 29.32it/s]"
     ]
    },
    {
     "name": "stdout",
     "output_type": "stream",
     "text": [
      "Error opening 'train/5_2595/5_2595_20170701163120.wav': System error.\n",
      "Error opening 'train/5_2595/5_2595_20170701163134.wav': System error.\n"
     ]
    },
    {
     "name": "stderr",
     "output_type": "stream",
     "text": [
      "\r",
      " 70%|██████▉   | 437/625 [00:03<00:01, 116.30it/s]"
     ]
    },
    {
     "name": "stdout",
     "output_type": "stream",
     "text": [
      "Error opening 'train/5_2595/5_2595_20170701163152.wav': System error.\n",
      "Error opening 'train/5_2595/5_2595_20170701163238.wav': System error."
     ]
    },
    {
     "name": "stderr",
     "output_type": "stream",
     "text": [
      " 19%|█▉        | 121/625 [00:03<00:16, 31.37it/s]"
     ]
    },
    {
     "name": "stdout",
     "output_type": "stream",
     "text": [
      "\n",
      "Error opening 'train/5_2595/5_2595_20170701163252.wav': System error.\n",
      "Error opening 'train/5_2595/5_2595_20170701163306.wav': System error."
     ]
    },
    {
     "name": "stderr",
     "output_type": "stream",
     "text": [
      "\r",
      " 22%|██▏       | 140/625 [00:03<00:12, 38.21it/s]"
     ]
    },
    {
     "name": "stdout",
     "output_type": "stream",
     "text": [
      "\n",
      "Error opening 'train/5_2595/5_2595_20170701163339.wav': System error.\n"
     ]
    },
    {
     "name": "stderr",
     "output_type": "stream",
     "text": [
      "\r",
      " 32%|███▏      | 202/625 [00:03<00:08, 48.08it/s]"
     ]
    },
    {
     "name": "stdout",
     "output_type": "stream",
     "text": [
      "Error opening 'train/5_2595/5_2595_20170701163347.wav': System error.\n",
      "Error opening 'train/5_2595/5_2595_20170701163405.wav': System error.\n",
      "Error opening 'train/5_2595/5_2595_20170701163418.wav': System error.\n",
      "Error opening 'train/5_2595/5_2595_20170701163447.wav': System error.\n",
      "Error opening 'train/5_2595/5_2595_20170701163507.wav': System error.\n",
      "Error opening 'train/5_2595/5_2595_20170701163541.wav': System error.\n",
      "Error opening 'train/5_2595/5_2595_20170701163552.wav': System error.\n",
      "Error opening 'train/5_2595/5_2595_20170701163606.wav': System error.\n"
     ]
    },
    {
     "name": "stderr",
     "output_type": "stream",
     "text": [
      "\r",
      " 17%|█▋        | 109/625 [00:03<00:17, 29.81it/s]"
     ]
    },
    {
     "name": "stdout",
     "output_type": "stream",
     "text": [
      "Error opening 'train/5_2595/5_2595_20170701163615.wav': System error.\n"
     ]
    },
    {
     "name": "stderr",
     "output_type": "stream",
     "text": [
      "\r",
      " 72%|███████▏  | 451/625 [00:03<00:01, 119.73it/s]"
     ]
    },
    {
     "name": "stdout",
     "output_type": "stream",
     "text": [
      "Error opening 'train/5_2595/5_2595_20170701163627.wav': System error.\n"
     ]
    },
    {
     "name": "stderr",
     "output_type": "stream",
     "text": [
      "\r",
      " 19%|█▉        | 118/625 [00:03<00:16, 29.96it/s]"
     ]
    },
    {
     "name": "stdout",
     "output_type": "stream",
     "text": [
      "Error opening 'train/5_2595/5_2595_20170701163634.wav': System error.\n"
     ]
    },
    {
     "name": "stderr",
     "output_type": "stream",
     "text": [
      "\r",
      " 28%|██▊       | 176/625 [00:03<00:09, 47.01it/s]"
     ]
    },
    {
     "name": "stdout",
     "output_type": "stream",
     "text": [
      "Error opening 'train/5_2595/5_2595_20170701163642.wav': System error.\n"
     ]
    },
    {
     "name": "stderr",
     "output_type": "stream",
     "text": [
      " 24%|██▎       | 148/625 [00:03<00:16, 29.41it/s]"
     ]
    },
    {
     "name": "stdout",
     "output_type": "stream",
     "text": [
      "Error opening 'train/5_2595/5_2595_20170701163651.wav': System error.\n",
      "Error opening 'train/5_2595/5_2595_20170701163701.wav': System error."
     ]
    },
    {
     "name": "stderr",
     "output_type": "stream",
     "text": [
      "\r",
      " 23%|██▎       | 145/625 [00:03<00:11, 40.70it/s]"
     ]
    },
    {
     "name": "stdout",
     "output_type": "stream",
     "text": [
      "\n",
      "Error opening 'train/5_2595/5_2595_20170701163712.wav': System error.\n",
      "Error opening 'train/5_2595/5_2595_20170701163723.wav': System error.\n",
      "Error opening 'train/5_2595/5_2595_20170701163744.wav': System error.\n",
      "Error opening 'train/5_2595/5_2595_20170701163807.wav': System error.\n"
     ]
    },
    {
     "name": "stderr",
     "output_type": "stream",
     "text": [
      "\r",
      " 33%|███▎      | 207/625 [00:03<00:09, 44.90it/s]"
     ]
    },
    {
     "name": "stdout",
     "output_type": "stream",
     "text": [
      "Error opening 'train/5_2595/5_2595_20170701163816.wav': System error.\n",
      "Error opening 'train/5_2595/5_2595_20170701163847.wav': System error.\n",
      "Error opening 'train/5_2595/5_2595_20170701163918.wav': System error.\n",
      "Error opening 'train/5_2595/5_2595_20170701164000.wav': System error.\n"
     ]
    },
    {
     "name": "stderr",
     "output_type": "stream",
     "text": [
      "\r",
      " 74%|███████▍  | 464/625 [00:04<00:01, 120.09it/s]"
     ]
    },
    {
     "name": "stdout",
     "output_type": "stream",
     "text": [
      "Error opening 'train/5_2595/5_2595_20170701164010.wav': System error."
     ]
    },
    {
     "name": "stderr",
     "output_type": "stream",
     "text": [
      "\r",
      " 18%|█▊        | 113/625 [00:04<00:17, 30.02it/s]"
     ]
    },
    {
     "name": "stdout",
     "output_type": "stream",
     "text": [
      "\n"
     ]
    },
    {
     "name": "stderr",
     "output_type": "stream",
     "text": [
      "\r",
      " 20%|█▉        | 122/625 [00:04<00:16, 31.32it/s]"
     ]
    },
    {
     "name": "stdout",
     "output_type": "stream",
     "text": [
      "Error opening 'train/5_2595/5_2595_20170701164021.wav': System error.\n",
      "Error opening 'train/5_2595/5_2595_20170701164052.wav': System error.\n"
     ]
    },
    {
     "name": "stderr",
     "output_type": "stream",
     "text": [
      "\r",
      " 29%|██▉       | 182/625 [00:04<00:09, 48.03it/s]"
     ]
    },
    {
     "name": "stdout",
     "output_type": "stream",
     "text": [
      "Error opening 'train/5_2595/5_2595_20170701164102.wav': System error."
     ]
    },
    {
     "name": "stderr",
     "output_type": "stream",
     "text": [
      " 24%|██▍       | 150/625 [00:04<00:11, 41.70it/s]"
     ]
    },
    {
     "name": "stdout",
     "output_type": "stream",
     "text": [
      "\n",
      "Error opening 'train/5_2595/5_2595_20170701164112.wav': System error.\n"
     ]
    },
    {
     "name": "stderr",
     "output_type": "stream",
     "text": [
      "\r",
      " 24%|██▍       | 152/625 [00:04<00:16, 29.30it/s]"
     ]
    },
    {
     "name": "stdout",
     "output_type": "stream",
     "text": [
      "Error opening 'train/5_2595/5_2595_20170701164129.wav': System error.\n",
      "Error opening 'train/5_2595/5_2595_20170701164246.wav': System error.\n",
      "Error opening 'train/5_2595/5_2595_20170701164257.wav': System error.\n",
      "Error opening 'train/5_2595/5_2595_20170701164435.wav': System error.\n",
      "Error opening 'train/5_2595/5_2595_20170701164512.wav': System error.\n"
     ]
    },
    {
     "name": "stderr",
     "output_type": "stream",
     "text": [
      "\r",
      " 34%|███▍      | 212/625 [00:04<00:09, 42.53it/s]"
     ]
    },
    {
     "name": "stdout",
     "output_type": "stream",
     "text": [
      "Error opening 'train/5_2595/5_2595_20170701164537.wav': System error.\n",
      "Error opening 'train/5_2595/5_2595_20170701164550.wav': System error.\n",
      "Error opening 'train/5_2595/5_2595_20170701164632.wav': System error.\n"
     ]
    },
    {
     "name": "stderr",
     "output_type": "stream",
     "text": [
      "\r",
      " 76%|███████▋  | 477/625 [00:04<00:01, 117.29it/s]"
     ]
    },
    {
     "name": "stdout",
     "output_type": "stream",
     "text": [
      "Error opening 'train/5_2595/5_2595_20170701164642.wav': System error.\n"
     ]
    },
    {
     "name": "stderr",
     "output_type": "stream",
     "text": [
      "\r",
      " 30%|██▉       | 187/625 [00:04<00:09, 48.09it/s]"
     ]
    },
    {
     "name": "stdout",
     "output_type": "stream",
     "text": [
      "Error opening 'train/5_2595/5_2595_20170701164654.wav': System error.\n",
      "Error opening 'train/5_2595/5_2595_20170701164711.wav': System error."
     ]
    },
    {
     "name": "stderr",
     "output_type": "stream",
     "text": [
      " 21%|██▏       | 133/625 [00:04<00:14, 34.01it/s]"
     ]
    },
    {
     "name": "stdout",
     "output_type": "stream",
     "text": [
      "\n",
      "Error opening 'train/5_2595/5_2595_20170701164720.wav': System error.\n",
      "Error opening 'train/5_2595/5_2595_20170701164729.wav': System error."
     ]
    },
    {
     "name": "stderr",
     "output_type": "stream",
     "text": [
      "\r",
      " 19%|█▊        | 117/625 [00:04<00:17, 29.34it/s]"
     ]
    },
    {
     "name": "stdout",
     "output_type": "stream",
     "text": [
      "\n",
      "Error opening 'train/5_2595/5_2595_20170701164739.wav': System error.\n",
      "Error opening 'train/5_2595/5_2595_20170701164757.wav': System error.\n"
     ]
    },
    {
     "name": "stderr",
     "output_type": "stream",
     "text": [
      " 25%|██▍       | 156/625 [00:04<00:15, 29.98it/s]"
     ]
    },
    {
     "name": "stdout",
     "output_type": "stream",
     "text": [
      "Error opening 'train/5_2595/5_2595_20170701164818.wav': System error.\n",
      "Error opening 'train/5_2595/5_2595_20170701164827.wav': System error.\n",
      "Error opening 'train/5_2595/5_2595_20170701164837.wav': System error.\n",
      "Error opening 'train/5_2595/5_2595_20170701164847.wav': System error.\n"
     ]
    },
    {
     "name": "stderr",
     "output_type": "stream",
     "text": [
      "\r",
      " 35%|███▍      | 217/625 [00:04<00:09, 41.54it/s]"
     ]
    },
    {
     "name": "stdout",
     "output_type": "stream",
     "text": [
      "Error opening 'train/5_2595/5_2595_20170701164859.wav': System error.\n"
     ]
    },
    {
     "name": "stderr",
     "output_type": "stream",
     "text": [
      "\r",
      " 78%|███████▊  | 489/625 [00:04<00:01, 114.84it/s]"
     ]
    },
    {
     "name": "stdout",
     "output_type": "stream",
     "text": [
      "Error opening 'train/5_2595/5_2595_20170701164912.wav': System error.\n",
      "Error opening 'train/5_2595/5_2595_20170701164923.wav': System error.\n"
     ]
    },
    {
     "name": "stderr",
     "output_type": "stream",
     "text": [
      "\r",
      " 22%|██▏       | 137/625 [00:04<00:13, 35.58it/s]"
     ]
    },
    {
     "name": "stdout",
     "output_type": "stream",
     "text": [
      "Error opening 'train/5_2595/5_2595_20170701164935.wav': System error."
     ]
    },
    {
     "name": "stderr",
     "output_type": "stream",
     "text": [
      "\r",
      " 31%|███       | 194/625 [00:04<00:08, 52.29it/s]"
     ]
    },
    {
     "name": "stdout",
     "output_type": "stream",
     "text": [
      "\n",
      "Error opening 'train/5_2595/5_2595_20170701164953.wav': System error."
     ]
    },
    {
     "name": "stderr",
     "output_type": "stream",
     "text": [
      "\r",
      " 19%|█▉        | 120/625 [00:04<00:17, 29.04it/s]"
     ]
    },
    {
     "name": "stdout",
     "output_type": "stream",
     "text": [
      "\n",
      "Error opening 'train/5_2595/5_2595_20170701165003.wav': System error.\n",
      "Error opening 'train/5_2595/5_2595_20170701165013.wav': System error.\n",
      "Error opening 'train/5_2595/5_2595_20170701165037.wav': System error.\n",
      "Error opening 'train/5_2595/5_2595_20170701165046.wav': System error.\n",
      "Error opening 'train/5_2595/5_2595_20170701165055.wav': System error."
     ]
    },
    {
     "name": "stderr",
     "output_type": "stream",
     "text": [
      "\r",
      " 21%|██        | 130/625 [00:04<00:16, 29.78it/s]"
     ]
    },
    {
     "name": "stdout",
     "output_type": "stream",
     "text": [
      "\n",
      "Error opening 'train/5_2595/5_2595_20170701165108.wav': System error.\n"
     ]
    },
    {
     "name": "stderr",
     "output_type": "stream",
     "text": [
      "\r",
      " 26%|██▌       | 160/625 [00:04<00:11, 39.75it/s]"
     ]
    },
    {
     "name": "stdout",
     "output_type": "stream",
     "text": [
      "Error opening 'train/5_2595/5_2595_20170701165123.wav': System error.\n",
      "Error opening 'train/5_2595/5_2595_20170701165145.wav': System error.\n"
     ]
    },
    {
     "name": "stderr",
     "output_type": "stream",
     "text": [
      "\r",
      " 26%|██▌       | 160/625 [00:04<00:15, 29.41it/s]"
     ]
    },
    {
     "name": "stdout",
     "output_type": "stream",
     "text": [
      "Error opening 'train/5_2595/5_2595_20170701165154.wav': System error.\n"
     ]
    },
    {
     "name": "stderr",
     "output_type": "stream",
     "text": [
      " 32%|███▏      | 200/625 [00:04<00:07, 53.56it/s]]"
     ]
    },
    {
     "name": "stdout",
     "output_type": "stream",
     "text": [
      "Error opening 'train/5_2595/5_2595_20170701165203.wav': System error."
     ]
    },
    {
     "name": "stderr",
     "output_type": "stream",
     "text": [
      "\r",
      " 36%|███▌      | 222/625 [00:04<00:09, 41.53it/s]"
     ]
    },
    {
     "name": "stdout",
     "output_type": "stream",
     "text": [
      "\n",
      "Error opening 'train/5_2595/5_2595_20170701165212.wav': System error."
     ]
    },
    {
     "name": "stderr",
     "output_type": "stream",
     "text": [
      "\r",
      " 20%|█▉        | 123/625 [00:04<00:17, 29.27it/s]"
     ]
    },
    {
     "name": "stdout",
     "output_type": "stream",
     "text": [
      "\n",
      "Error opening 'train/5_2595/5_2595_20170701165221.wav': System error.\n",
      "Error opening 'train/5_2595/5_2595_20170701165230.wav': System error.\n"
     ]
    },
    {
     "name": "stderr",
     "output_type": "stream",
     "text": [
      "\r",
      " 23%|██▎       | 141/625 [00:04<00:14, 33.02it/s]"
     ]
    },
    {
     "name": "stdout",
     "output_type": "stream",
     "text": [
      "Error opening 'train/5_2595/5_2595_20170701165239.wav': System error.\n",
      "Error opening 'train/5_2595/5_2595_20170701165248.wav': System error.\n",
      "Error opening 'train/5_2595/5_2595_20170701165322.wav': System error.\n",
      "Error opening 'train/5_2595/5_2595_20170701165336.wav': System error.\n",
      "Error opening 'train/5_2595/5_2595_20170701165347.wav': System error.\n",
      "Error opening 'train/5_2595/5_2595_20170701165404.wav': System error.\n",
      "Error opening 'train/5_2595/5_2595_20170701165417.wav': System error."
     ]
    },
    {
     "name": "stderr",
     "output_type": "stream",
     "text": [
      " 26%|██▌       | 163/625 [00:04<00:15, 29.35it/s]"
     ]
    },
    {
     "name": "stdout",
     "output_type": "stream",
     "text": [
      "\n",
      "Error opening 'train/5_2595/5_2595_20170701165425.wav': System error.\n",
      "Error opening 'train/5_2595/5_2595_20170701165434.wav': System error.\n"
     ]
    },
    {
     "name": "stderr",
     "output_type": "stream",
     "text": [
      " 82%|████████▏ | 515/625 [00:04<00:00, 118.77it/s]"
     ]
    },
    {
     "name": "stdout",
     "output_type": "stream",
     "text": [
      "Error opening 'train/5_2595/5_2595_20170701165443.wav': System error.\n",
      "Error opening 'train/5_2595/5_2595_20170701165454.wav': System error.\n",
      "Error opening 'train/5_2595/5_2595_20170701165504.wav': System error.\n",
      "Error opening 'train/5_2595/5_2595_20170701165515.wav': System error.\n",
      "Error opening 'train/5_2595/5_2595_20170701165530.wav': System error.\n",
      "Error opening 'train/5_2595/5_2595_20170701165541.wav': System error."
     ]
    },
    {
     "name": "stderr",
     "output_type": "stream",
     "text": [
      "\r",
      " 20%|██        | 127/625 [00:04<00:16, 30.01it/s]"
     ]
    },
    {
     "name": "stdout",
     "output_type": "stream",
     "text": [
      "\n"
     ]
    },
    {
     "name": "stderr",
     "output_type": "stream",
     "text": [
      " 33%|███▎      | 206/625 [00:04<00:08, 48.73it/s]"
     ]
    },
    {
     "name": "stdout",
     "output_type": "stream",
     "text": [
      "Error opening 'train/5_2595/5_2595_20170701165550.wav': System error.\n",
      "Error opening 'train/5_2595/5_2595_20170701165629.wav': System error.\n",
      "Error opening 'train/5_2595/5_2595_20170701165645.wav': System error.\n"
     ]
    },
    {
     "name": "stderr",
     "output_type": "stream",
     "text": [
      "\r",
      " 23%|██▎       | 145/625 [00:04<00:15, 31.66it/s]"
     ]
    },
    {
     "name": "stdout",
     "output_type": "stream",
     "text": [
      "Error opening 'train/5_2595/5_2595_20170701165656.wav': System error.\n",
      "Error opening 'train/5_2595/5_2595_20170701165704.wav': System error."
     ]
    },
    {
     "name": "stderr",
     "output_type": "stream",
     "text": [
      "\r",
      " 27%|██▋       | 170/625 [00:04<00:11, 41.24it/s]"
     ]
    },
    {
     "name": "stdout",
     "output_type": "stream",
     "text": [
      "\n"
     ]
    },
    {
     "name": "stderr",
     "output_type": "stream",
     "text": [
      "\r",
      " 27%|██▋       | 167/625 [00:04<00:15, 30.40it/s]"
     ]
    },
    {
     "name": "stdout",
     "output_type": "stream",
     "text": [
      "Error opening 'train/5_2595/5_2595_20170701165725.wav': System error.\n"
     ]
    },
    {
     "name": "stderr",
     "output_type": "stream",
     "text": [
      "\r",
      " 84%|████████▍ | 527/625 [00:04<00:00, 115.49it/s]"
     ]
    },
    {
     "name": "stdout",
     "output_type": "stream",
     "text": [
      "Error opening 'train/5_2595/5_2595_20170701165737.wav': System error.\n",
      "Error opening 'train/5_2595/5_2595_20170701165746.wav': System error."
     ]
    },
    {
     "name": "stderr",
     "output_type": "stream",
     "text": [
      "\r",
      " 22%|██▏       | 139/625 [00:04<00:15, 32.00it/s]"
     ]
    },
    {
     "name": "stdout",
     "output_type": "stream",
     "text": [
      "\n",
      "Error opening 'train/5_2595/5_2595_20170701165825.wav': System error.Error opening 'train/5_2595/5_2595_20170701165816.wav': System error.\n",
      "\n",
      "Error opening 'train/5_2595/5_2595_20170701165835.wav': System error.\n",
      "Error opening 'train/5_2595/5_2595_20170701170018.wav': System error.\n",
      "Error opening 'train/5_2595/5_2595_20170701170046.wav': System error.\n"
     ]
    },
    {
     "name": "stderr",
     "output_type": "stream",
     "text": [
      " 34%|███▍      | 212/625 [00:04<00:08, 51.06it/s]"
     ]
    },
    {
     "name": "stdout",
     "output_type": "stream",
     "text": [
      "Error opening 'train/5_2595/5_2595_20170701170059.wav': System error.\n",
      "Error opening 'train/5_2595/5_2595_20170701170123.wav': System error.\n",
      "Error opening 'train/5_2595/5_2595_20170701170131.wav': System error.\n",
      "Error opening 'train/5_2595/5_2595_20170701170145.wav': System error.\n",
      "Error opening 'train/5_2595/5_2595_20170701170154.wav': System error."
     ]
    },
    {
     "name": "stderr",
     "output_type": "stream",
     "text": [
      "\r",
      " 27%|██▋       | 171/625 [00:04<00:13, 32.74it/s]"
     ]
    },
    {
     "name": "stdout",
     "output_type": "stream",
     "text": [
      "\n",
      "Error opening 'train/5_2595/5_2595_20170701170201.wav': System error.\n"
     ]
    },
    {
     "name": "stderr",
     "output_type": "stream",
     "text": [
      " 86%|████████▋ | 540/625 [00:04<00:00, 118.25it/s]"
     ]
    },
    {
     "name": "stdout",
     "output_type": "stream",
     "text": [
      "Error opening 'train/5_2595/5_2595_20170701170211.wav': System error.\n",
      "Error opening 'train/5_2595/5_2595_20170701170220.wav': System error."
     ]
    },
    {
     "name": "stderr",
     "output_type": "stream",
     "text": [
      "\r",
      " 28%|██▊       | 175/625 [00:04<00:11, 40.62it/s]"
     ]
    },
    {
     "name": "stdout",
     "output_type": "stream",
     "text": [
      "\n"
     ]
    },
    {
     "name": "stderr",
     "output_type": "stream",
     "text": [
      "\r",
      " 23%|██▎       | 143/625 [00:04<00:14, 32.90it/s]"
     ]
    },
    {
     "name": "stdout",
     "output_type": "stream",
     "text": [
      "Error opening 'train/5_2595/5_2595_20170701170255.wav': System error.\n",
      "Error opening 'train/5_2595/5_2595_20170701170307.wav': System error.\n",
      "Error opening 'train/5_2595/5_2595_20170701170325.wav': System error.\n",
      "Error opening 'train/5_2595/5_2595_20170701170414.wav': System error."
     ]
    },
    {
     "name": "stderr",
     "output_type": "stream",
     "text": [
      " 38%|███▊      | 235/625 [00:04<00:10, 37.51it/s]"
     ]
    },
    {
     "name": "stdout",
     "output_type": "stream",
     "text": [
      "\n",
      "Error opening 'train/5_2595/5_2595_20170701170427.wav': System error."
     ]
    },
    {
     "name": "stderr",
     "output_type": "stream",
     "text": [
      "\r",
      " 22%|██▏       | 135/625 [00:04<00:15, 31.81it/s]"
     ]
    },
    {
     "name": "stdout",
     "output_type": "stream",
     "text": [
      "\n",
      "Error opening 'train/5_2595/5_2595_20170701170437.wav': System error.\n",
      "Error opening 'train/5_2595/5_2595_20170701170449.wav': System error.\n",
      "Error opening 'train/5_2595/5_2595_20170701170505.wav': System error.\n",
      "Error opening 'train/5_2595/5_2595_20170701170518.wav': System error.\n"
     ]
    },
    {
     "name": "stderr",
     "output_type": "stream",
     "text": [
      "\r",
      " 24%|██▍       | 153/625 [00:04<00:14, 33.10it/s]"
     ]
    },
    {
     "name": "stdout",
     "output_type": "stream",
     "text": [
      "Error opening 'train/5_2595/5_2595_20170701170529.wav': System error.\n"
     ]
    },
    {
     "name": "stderr",
     "output_type": "stream",
     "text": [
      "\r",
      " 88%|████████▊ | 552/625 [00:04<00:00, 116.32it/s]"
     ]
    },
    {
     "name": "stdout",
     "output_type": "stream",
     "text": [
      "Error opening 'train/5_2595/5_2595_20170701170602.wav': System error.\n"
     ]
    },
    {
     "name": "stderr",
     "output_type": "stream",
     "text": [
      "\r",
      " 28%|██▊       | 176/625 [00:04<00:12, 35.16it/s]"
     ]
    },
    {
     "name": "stdout",
     "output_type": "stream",
     "text": [
      "Error opening 'train/5_2595/5_2595_20170701170611.wav': System error."
     ]
    },
    {
     "name": "stderr",
     "output_type": "stream",
     "text": [
      "\r",
      " 29%|██▉       | 180/625 [00:04<00:10, 42.06it/s]"
     ]
    },
    {
     "name": "stdout",
     "output_type": "stream",
     "text": [
      "\n",
      "Error opening 'train/5_2595/5_2595_20170701170644.wav': System error.\n",
      "Error opening 'train/5_2595/5_2595_20170701170656.wav': System error.\n",
      "Error opening 'train/5_2595/5_2595_20170701170706.wav': System error.\n",
      "Error opening 'train/5_2595/5_2595_20170701170717.wav': System error.\n",
      "Error opening 'train/5_2595/5_2595_20170701170730.wav': System error.\n",
      "Error opening 'train/5_2595/5_2595_20170701170815.wav': System error."
     ]
    },
    {
     "name": "stderr",
     "output_type": "stream",
     "text": [
      "\r",
      " 38%|███▊      | 239/625 [00:04<00:10, 37.22it/s]"
     ]
    },
    {
     "name": "stdout",
     "output_type": "stream",
     "text": [
      "\n"
     ]
    },
    {
     "name": "stderr",
     "output_type": "stream",
     "text": [
      "\r",
      " 24%|██▎       | 147/625 [00:04<00:15, 30.75it/s]"
     ]
    },
    {
     "name": "stdout",
     "output_type": "stream",
     "text": [
      "Error opening 'train/5_2595/5_2595_20170701170826.wav': System error.\n",
      "Error opening 'train/5_2595/5_2595_20170701170931.wav': System error."
     ]
    },
    {
     "name": "stderr",
     "output_type": "stream",
     "text": [
      " 22%|██▏       | 139/625 [00:04<00:15, 31.71it/s]"
     ]
    },
    {
     "name": "stdout",
     "output_type": "stream",
     "text": [
      "\n",
      "Error opening 'train/5_2595/5_2595_20170701170952.wav': System error.\n"
     ]
    },
    {
     "name": "stderr",
     "output_type": "stream",
     "text": [
      "\r",
      " 25%|██▌       | 157/625 [00:04<00:13, 34.43it/s]"
     ]
    },
    {
     "name": "stdout",
     "output_type": "stream",
     "text": [
      "Error opening 'train/5_2595/5_2595_20170701171003.wav': System error.\n"
     ]
    },
    {
     "name": "stderr",
     "output_type": "stream",
     "text": [
      "\r",
      " 90%|█████████ | 564/625 [00:04<00:00, 112.04it/s]"
     ]
    },
    {
     "name": "stdout",
     "output_type": "stream",
     "text": [
      "Error opening 'train/5_2595/5_2595_20170701171019.wav': System error.\n",
      "Error opening 'train/5_2595/5_2595_20170701171030.wav': System error.\n"
     ]
    },
    {
     "name": "stderr",
     "output_type": "stream",
     "text": [
      "\r",
      " 29%|██▉       | 180/625 [00:04<00:12, 34.84it/s]"
     ]
    },
    {
     "name": "stdout",
     "output_type": "stream",
     "text": [
      "Error opening 'train/5_2595/5_2595_20170701171049.wav': System error.\n"
     ]
    },
    {
     "name": "stderr",
     "output_type": "stream",
     "text": [
      "\r",
      " 30%|██▉       | 186/625 [00:04<00:09, 44.61it/s]"
     ]
    },
    {
     "name": "stdout",
     "output_type": "stream",
     "text": [
      "Error opening 'train/5_2595/5_2595_20170701171101.wav': System error.\n",
      "Error opening 'train/5_2595/5_2595_20170701171115.wav': System error.\n",
      "Error opening 'train/5_2595/5_2595_20170701171126.wav': System error.\n",
      "Error opening 'train/5_2595/5_2595_20170701171136.wav': System error.\n",
      "Error opening 'train/5_2595/5_2595_20170701171146.wav': System error.\n",
      "Error opening 'train/5_2595/5_2595_20170701171155.wav': System error.\n"
     ]
    },
    {
     "name": "stderr",
     "output_type": "stream",
     "text": [
      "\r",
      " 39%|███▉      | 243/625 [00:04<00:10, 35.92it/s]"
     ]
    },
    {
     "name": "stdout",
     "output_type": "stream",
     "text": [
      "Error opening 'train/5_2595/5_2595_20170701171206.wav': System error.\n",
      "Error opening 'train/5_2595/5_2595_20170701171220.wav': System error.\n"
     ]
    },
    {
     "name": "stderr",
     "output_type": "stream",
     "text": [
      "100%|██████████| 625/625 [00:06<00:00, 98.72it/s] \n",
      "100%|██████████| 625/625 [00:12<00:00, 48.68it/s]\n",
      "100%|██████████| 625/625 [00:14<00:00, 43.03it/s]\n",
      "100%|██████████| 625/625 [00:14<00:00, 41.93it/s]\n",
      "100%|██████████| 625/625 [00:15<00:00, 40.61it/s]\n",
      "100%|██████████| 625/625 [00:15<00:00, 39.36it/s]\n",
      "100%|██████████| 625/625 [00:16<00:00, 38.80it/s]\n",
      "100%|██████████| 625/625 [00:17<00:00, 35.82it/s]\n",
      " 70%|███████   | 440/625 [00:13<00:04, 40.98it/s]\n",
      " 80%|████████  | 503/625 [00:15<00:04, 29.96it/s]IOPub message rate exceeded.\n",
      "The notebook server will temporarily stop sending output\n",
      "to the client in order to avoid crashing it.\n",
      "To change this limit, set the config variable\n",
      "`--NotebookApp.iopub_msg_rate_limit`.\n",
      "\n",
      "Current values:\n",
      "NotebookApp.iopub_msg_rate_limit=1000.0 (msgs/sec)\n",
      "NotebookApp.rate_limit_window=3.0 (secs)\n",
      "\n"
     ]
    }
   ],
   "source": [
    "import mp\n",
    "\n",
    "batch_size = 5000\n",
    "for i in range(0, len(files), batch_size):\n",
    "    batch = files[i: i + batch_size]\n",
    "    mp.multiprocessing(batch, loop, cores = 8, returned = False)\n",
    "    global_count += 1"
   ]
  },
  {
   "cell_type": "code",
   "execution_count": null,
   "id": "880e7835",
   "metadata": {},
   "outputs": [],
   "source": []
  }
 ],
 "metadata": {
  "kernelspec": {
   "display_name": "Python 3",
   "language": "python",
   "name": "python3"
  },
  "language_info": {
   "codemirror_mode": {
    "name": "ipython",
    "version": 3
   },
   "file_extension": ".py",
   "mimetype": "text/x-python",
   "name": "python",
   "nbconvert_exporter": "python",
   "pygments_lexer": "ipython3",
   "version": "3.7.10"
  }
 },
 "nbformat": 4,
 "nbformat_minor": 5
}

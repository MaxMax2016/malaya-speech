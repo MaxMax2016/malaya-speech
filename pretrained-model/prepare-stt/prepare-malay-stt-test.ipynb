{
 "cells": [
  {
   "cell_type": "code",
   "execution_count": 1,
   "metadata": {},
   "outputs": [],
   "source": [
    "# https://huggingface.co/datasets/google/fleurs/blob/main/fleurs.py\n",
    "\n",
    "# !wget https://storage.googleapis.com/xtreme_translations/FLEURS102/ms_my.tar.gz\n",
    "# !tar -zxf ms_my.tar.gz\n",
    "# !rm ms_my.tar.gz"
   ]
  },
  {
   "cell_type": "code",
   "execution_count": 2,
   "metadata": {},
   "outputs": [],
   "source": [
    "import os\n",
    "\n",
    "os.environ['CUDA_VISIBLE_DEVICES'] = ''"
   ]
  },
  {
   "cell_type": "code",
   "execution_count": 3,
   "metadata": {},
   "outputs": [],
   "source": [
    "import pandas as pd\n",
    "from glob import glob\n",
    "from tqdm import tqdm\n",
    "import json"
   ]
  },
  {
   "cell_type": "code",
   "execution_count": 4,
   "id": "242b7abc",
   "metadata": {},
   "outputs": [],
   "source": [
    "base_directory = os.getcwd()"
   ]
  },
  {
   "cell_type": "code",
   "execution_count": 5,
   "metadata": {},
   "outputs": [],
   "source": [
    "ms_my_test = pd.read_csv('ms_my/test.tsv', sep = '\\t', header=None)"
   ]
  },
  {
   "cell_type": "code",
   "execution_count": 6,
   "metadata": {},
   "outputs": [
    {
     "name": "stderr",
     "output_type": "stream",
     "text": [
      "/home/husein/.local/lib/python3.8/site-packages/malaya/tokenizer.py:202: FutureWarning: Possible nested set at position 3361\n",
      "  self.tok = re.compile(r'({})'.format('|'.join(pipeline)))\n",
      "/home/husein/.local/lib/python3.8/site-packages/malaya/tokenizer.py:202: FutureWarning: Possible nested set at position 3879\n",
      "  self.tok = re.compile(r'({})'.format('|'.join(pipeline)))\n"
     ]
    },
    {
     "data": {
      "text/plain": [
       "['gimnastik',\n",
       " 'as',\n",
       " 'dan',\n",
       " 'joas',\n",
       " 'mempunyai',\n",
       " 'matlamat',\n",
       " 'yang',\n",
       " 'sama',\n",
       " 'menjadikan',\n",
       " 'sukan',\n",
       " 'gimnastik',\n",
       " 'dan',\n",
       " 'lain',\n",
       " '-',\n",
       " 'lain',\n",
       " 'selamat',\n",
       " 'bagi',\n",
       " 'para',\n",
       " 'atlet',\n",
       " 'untuk',\n",
       " 'mengejar',\n",
       " 'impian',\n",
       " 'mereka',\n",
       " 'dalam',\n",
       " 'persekitaran',\n",
       " 'yang',\n",
       " 'selamat',\n",
       " 'positif',\n",
       " 'dan',\n",
       " 'berdaya',\n",
       " 'maju']"
      ]
     },
     "execution_count": 6,
     "metadata": {},
     "output_type": "execute_result"
    }
   ],
   "source": [
    "import malaya\n",
    "from malaya.text.normalization import cardinal\n",
    "\n",
    "tokenizer = malaya.tokenizer.Tokenizer(hypen = False, parliament = False, time = False, time_pukul = False,\n",
    "                                      temperature = False, distance = False, volume = False, duration = False,\n",
    "                                      weight = False, date = False, money = False)\n",
    "tokenizer.tokenize(ms_my_test.iloc[3, 3])"
   ]
  },
  {
   "cell_type": "code",
   "execution_count": 7,
   "metadata": {},
   "outputs": [
    {
     "data": {
      "text/plain": [
       "'pada lima belas ogos seribu sembilan ratus empat puluh pihak berikat menyerang perancis selatan serangan ini dipanggil operation dragoon'"
      ]
     },
     "execution_count": 7,
     "metadata": {},
     "output_type": "execute_result"
    }
   ],
   "source": [
    "def tokenize_and_replace(t):\n",
    "    tokenized = tokenizer.tokenize(t)\n",
    "    for i in range(len(tokenized)):\n",
    "        c = cardinal(tokenized[i])\n",
    "        if c != tokenized[i]:\n",
    "            tokenized[i] = c\n",
    "    return ' '.join(tokenized)\n",
    "\n",
    "tokenize_and_replace('pada 15 ogos 1940 pihak berikat menyerang perancis selatan serangan ini dipanggil operation dragoon')"
   ]
  },
  {
   "cell_type": "code",
   "execution_count": 8,
   "metadata": {},
   "outputs": [],
   "source": [
    "ms_my = []\n",
    "for i in range(len(ms_my_test)):\n",
    "    a = ms_my_test.iloc[i, 1]\n",
    "    t = ms_my_test.iloc[i, 3]\n",
    "    t = tokenize_and_replace(t)\n",
    "    \n",
    "    ms_my.append((f'{base_directory}/ms_my/audio/test/{a}', t))"
   ]
  },
  {
   "cell_type": "code",
   "execution_count": 9,
   "metadata": {},
   "outputs": [
    {
     "data": {
      "text/plain": [
       "749"
      ]
     },
     "execution_count": 9,
     "metadata": {},
     "output_type": "execute_result"
    }
   ],
   "source": [
    "len(ms_my)"
   ]
  },
  {
   "cell_type": "code",
   "execution_count": 10,
   "id": "16eb2115",
   "metadata": {},
   "outputs": [],
   "source": [
    "audios = ms_my\n",
    "audios, texts = zip(*audios)"
   ]
  },
  {
   "cell_type": "code",
   "execution_count": 11,
   "metadata": {},
   "outputs": [
    {
     "data": {
      "text/plain": [
       "749"
      ]
     },
     "execution_count": 11,
     "metadata": {},
     "output_type": "execute_result"
    }
   ],
   "source": [
    "len(texts)"
   ]
  },
  {
   "cell_type": "code",
   "execution_count": 12,
   "id": "81c0eac5",
   "metadata": {},
   "outputs": [],
   "source": [
    "import unicodedata\n",
    "import re\n",
    "import itertools\n",
    "\n",
    "vocabs = [\" \", \"a\", \"e\", \"n\", \"i\", \"t\", \"o\", \"u\", \"s\", \"k\", \"r\", \"l\", \"h\", \"d\", \"m\", \"g\", \"y\", \"b\", \"p\", \"w\", \"c\", \"f\", \"j\", \"v\", \"z\", \"0\", \"1\", \"x\", \"2\", \"q\", \"5\", \"3\", \"4\", \"6\", \"9\", \"8\", \"7\"]\n",
    "\n",
    "def preprocessing_text(string):\n",
    "    \n",
    "    tokenized = tokenizer.tokenize(string)\n",
    "    string = ' '.join(tokenized)\n",
    "    string = unicodedata.normalize('NFC', string.lower())\n",
    "    string = ''.join([c if c in vocabs else ' ' for c in string])\n",
    "    string = re.sub(r'[ ]+', ' ', string).strip()\n",
    "    string = (\n",
    "        ''.join(''.join(s)[:2] for _, s in itertools.groupby(string))\n",
    "    )\n",
    "    return string"
   ]
  },
  {
   "cell_type": "code",
   "execution_count": 13,
   "id": "e6c0c9f2",
   "metadata": {},
   "outputs": [
    {
     "name": "stderr",
     "output_type": "stream",
     "text": [
      "100%|██████████████████████████████████████████████████████████████████████████████████████████████████| 749/749 [00:00<00:00, 8715.66it/s]\n"
     ]
    }
   ],
   "source": [
    "processed_text = [preprocessing_text(t) for t in tqdm(texts)]"
   ]
  },
  {
   "cell_type": "code",
   "execution_count": 14,
   "metadata": {},
   "outputs": [
    {
     "name": "stderr",
     "output_type": "stream",
     "text": [
      "100%|████████████████████████████████████████████████████████████████████████████████████████████████| 749/749 [00:00<00:00, 650421.06it/s]\n"
     ]
    }
   ],
   "source": [
    "filtered_audios, filtered_texts, rejected = [], [], []\n",
    "for i in tqdm(range(len(processed_text))):\n",
    "    if len(processed_text[i]) and not len(re.findall(r'\\d+', processed_text[i])):\n",
    "        filtered_audios.append(audios[i])\n",
    "        filtered_texts.append(processed_text[i])\n",
    "    else:\n",
    "        rejected.append(i)"
   ]
  },
  {
   "cell_type": "code",
   "execution_count": 15,
   "metadata": {},
   "outputs": [
    {
     "data": {
      "text/plain": [
       "(739, 0.986648865153538)"
      ]
     },
     "execution_count": 15,
     "metadata": {},
     "output_type": "execute_result"
    }
   ],
   "source": [
    "len(filtered_audios), len(filtered_audios) / len(audios)"
   ]
  },
  {
   "cell_type": "code",
   "execution_count": 16,
   "metadata": {},
   "outputs": [],
   "source": [
    "import soundfile as sf\n",
    "import numpy as np"
   ]
  },
  {
   "cell_type": "code",
   "execution_count": 17,
   "metadata": {},
   "outputs": [
    {
     "name": "stderr",
     "output_type": "stream",
     "text": [
      "100%|██████████████████████████████████████████████████████████████████████████████████████████████████| 739/739 [00:00<00:00, 4267.57it/s]\n"
     ]
    },
    {
     "data": {
      "text/plain": [
       "2.226116666666667"
      ]
     },
     "execution_count": 17,
     "metadata": {},
     "output_type": "execute_result"
    }
   ],
   "source": [
    "lengths = []\n",
    "for f in tqdm(filtered_audios):\n",
    "    y, sr = sf.read(f)\n",
    "    lengths.append(len(y) / sr)\n",
    "    \n",
    "np.sum(lengths) / 60 / 60"
   ]
  },
  {
   "cell_type": "code",
   "execution_count": 18,
   "id": "90935a4b",
   "metadata": {},
   "outputs": [],
   "source": [
    "with open('malay-asr-test.json', 'w') as fopen:\n",
    "    json.dump({'X': filtered_audios, 'Y':filtered_texts}, fopen)"
   ]
  },
  {
   "cell_type": "code",
   "execution_count": 19,
   "metadata": {},
   "outputs": [],
   "source": [
    "with open('malay-audio-test.txt', 'w') as fopen:\n",
    "    fopen.write('\\n'.join(filtered_audios))"
   ]
  }
 ],
 "metadata": {
  "kernelspec": {
   "display_name": "Python 3 (ipykernel)",
   "language": "python",
   "name": "python3"
  },
  "language_info": {
   "codemirror_mode": {
    "name": "ipython",
    "version": 3
   },
   "file_extension": ".py",
   "mimetype": "text/x-python",
   "name": "python",
   "nbconvert_exporter": "python",
   "pygments_lexer": "ipython3",
   "version": "3.8.10"
  }
 },
 "nbformat": 4,
 "nbformat_minor": 5
}

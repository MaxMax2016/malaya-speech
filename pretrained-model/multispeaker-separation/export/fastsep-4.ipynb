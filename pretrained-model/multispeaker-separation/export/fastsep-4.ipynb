{
 "cells": [
  {
   "cell_type": "code",
   "execution_count": 1,
   "metadata": {},
   "outputs": [],
   "source": [
    "import os\n",
    "\n",
    "os.environ['CUDA_VISIBLE_DEVICES'] = '3'"
   ]
  },
  {
   "cell_type": "code",
   "execution_count": 2,
   "metadata": {},
   "outputs": [
    {
     "name": "stdout",
     "output_type": "stream",
     "text": [
      "WARNING:tensorflow:From /home/husein/malaya-speech/malaya_speech/train/optimizer/__init__.py:38: The name tf.train.AdagradOptimizer is deprecated. Please use tf.compat.v1.train.AdagradOptimizer instead.\n",
      "\n",
      "WARNING:tensorflow:From /home/husein/malaya-speech/malaya_speech/train/optimizer/__init__.py:39: The name tf.train.AdamOptimizer is deprecated. Please use tf.compat.v1.train.AdamOptimizer instead.\n",
      "\n",
      "WARNING:tensorflow:From /home/husein/malaya-speech/malaya_speech/train/optimizer/__init__.py:40: The name tf.train.FtrlOptimizer is deprecated. Please use tf.compat.v1.train.FtrlOptimizer instead.\n",
      "\n",
      "WARNING:tensorflow:From /home/husein/malaya-speech/malaya_speech/train/optimizer/__init__.py:42: The name tf.train.RMSPropOptimizer is deprecated. Please use tf.compat.v1.train.RMSPropOptimizer instead.\n",
      "\n",
      "WARNING:tensorflow:From /home/husein/malaya-speech/malaya_speech/train/optimizer/__init__.py:43: The name tf.train.GradientDescentOptimizer is deprecated. Please use tf.compat.v1.train.GradientDescentOptimizer instead.\n",
      "\n",
      "WARNING:tensorflow:\n",
      "The TensorFlow contrib module will not be included in TensorFlow 2.0.\n",
      "For more information, please see:\n",
      "  * https://github.com/tensorflow/community/blob/master/rfcs/20180907-contrib-sunset.md\n",
      "  * https://github.com/tensorflow/addons\n",
      "  * https://github.com/tensorflow/io (for I/O related ops)\n",
      "If you depend on functionality not listed there, please file an issue.\n",
      "\n"
     ]
    }
   ],
   "source": [
    "import malaya_speech\n",
    "import tensorflow as tf\n",
    "from malaya_speech.train.model import fastsplit, fastspeech, sepformer\n",
    "import malaya_speech.augmentation.waveform as augmentation\n",
    "import numpy as np"
   ]
  },
  {
   "cell_type": "code",
   "execution_count": 3,
   "metadata": {},
   "outputs": [
    {
     "data": {
      "text/plain": [
       "8"
      ]
     },
     "execution_count": 3,
     "metadata": {},
     "output_type": "execute_result"
    }
   ],
   "source": [
    "from glob import glob\n",
    "\n",
    "wavs = glob('speech/example-speaker/*.wav')\n",
    "len(wavs)"
   ]
  },
  {
   "cell_type": "code",
   "execution_count": 4,
   "metadata": {},
   "outputs": [],
   "source": [
    "from collections import defaultdict\n",
    "\n",
    "librispeech = glob('../speech-bahasa/LibriSpeech/*/*/*/*.flac')\n",
    "len(librispeech)\n",
    "\n",
    "\n",
    "def get_speaker_librispeech(file):\n",
    "    return file.split('/')[-1].split('-')[0]\n",
    "\n",
    "\n",
    "speakers = defaultdict(list)\n",
    "for f in librispeech:\n",
    "    speakers[get_speaker_librispeech(f)].append(f)\n",
    "\n",
    "vctk = glob('vtck/**/*.flac', recursive = True)\n",
    "vctk_speakers = defaultdict(list)\n",
    "for f in vctk:\n",
    "    s = f.split('/')[-1].split('_')[0]\n",
    "    vctk_speakers[s].append(f)\n",
    "\n",
    "files = glob('../speech-bahasa/ST-CMDS-20170001_1-OS/*.wav')\n",
    "speakers_mandarin = defaultdict(list)\n",
    "for f in files:\n",
    "    speakers_mandarin[f[:-9]].append(f)\n",
    "len(speakers_mandarin)\n",
    "\n",
    "speakers_malay = {}\n",
    "speakers_malay['salina'] = glob(\n",
    "    '../youtube/malay2/salina/output-wav-salina/*.wav'\n",
    ")\n",
    "male = glob('../youtube/malay2/turki/output-wav-turki/*.wav')\n",
    "male.extend(\n",
    "    glob(\n",
    "        '../youtube/malay/dari-pasentran-ke-istana/output-wav-dari-pasentran-ke-istana/*.wav'\n",
    "    )\n",
    ")\n",
    "speakers_malay['male'] = male\n",
    "speakers_malay['haqkiem'] = glob('/home/husein/speech-bahasa/haqkiem/*.wav')\n",
    "husein = glob('/home/husein/speech-bahasa/audio-wattpad/*.wav')\n",
    "husein.extend(glob('/home/husein/speech-bahasa/audio-iium/*.wav'))\n",
    "husein.extend(glob('/home/husein/speech-bahasa/audio/*.wav'))\n",
    "speakers_malay['husein'] = husein\n",
    "\n",
    "s = {**speakers}\n",
    "\n",
    "\n",
    "keys = list(s.keys())\n",
    "\n",
    "\n",
    "def random_speakers(n):\n",
    "    ks = random.sample(keys, n)\n",
    "    r = []\n",
    "    for k in ks:\n",
    "        r.append(random.choice(s[k]))\n",
    "    return r"
   ]
  },
  {
   "cell_type": "code",
   "execution_count": 5,
   "metadata": {},
   "outputs": [],
   "source": [
    "import random\n",
    "\n",
    "sr = 8000\n",
    "speakers_size = 4\n",
    "\n",
    "# noise = malaya_speech.load('noise.wav', sr = sr)[0]\n",
    "\n",
    "def read_wav(f):\n",
    "    return malaya_speech.load(f, sr = sr)\n",
    "\n",
    "\n",
    "def random_sampling(s, length):\n",
    "    return augmentation.random_sampling(s, sr = sr, length = length)\n",
    "\n",
    "def to_mel(y):\n",
    "    mel = malaya_speech.featurization.universal_mel(y)\n",
    "    mel[mel <= np.log(1e-2)] = np.log(1e-2)\n",
    "    return mel\n",
    "\n",
    "def combine_speakers(files, n = 5, limit = 4):\n",
    "    w_samples = random.sample(files, n)\n",
    "    w_samples = [read_wav(f)[0] for f in w_samples]\n",
    "    w_lens = [len(w) / sr for w in w_samples]\n",
    "    print(w_lens)\n",
    "    w_lens = int(min(min(w_lens) * 1000, random.randint(1000, 5000)))\n",
    "    w_samples = [random_sampling(w, length = w_lens) for w in w_samples]\n",
    "    y = [w_samples[0]]\n",
    "    left = w_samples[0].copy()\n",
    "\n",
    "    combined = None\n",
    "\n",
    "    for i in range(1, n):\n",
    "        right = w_samples[i].copy()\n",
    "        overlap = random.uniform(0.98, 1.0)\n",
    "        print(i, overlap)\n",
    "        len_overlap = int(overlap * len(right))\n",
    "        minus = len(left) - len_overlap\n",
    "        if minus < 0:\n",
    "            minus = 0\n",
    "        padded_right = np.pad(right, (minus, 0))\n",
    "        left = np.pad(left, (0, len(padded_right) - len(left)))\n",
    "\n",
    "        left = left + padded_right\n",
    "\n",
    "        if i >= (limit - 1):\n",
    "            if combined is None:\n",
    "                combined = padded_right\n",
    "            else:\n",
    "                combined = np.pad(\n",
    "                    combined, (0, len(padded_right) - len(combined))\n",
    "                )\n",
    "                combined += padded_right\n",
    "\n",
    "        else:\n",
    "            y.append(padded_right)\n",
    "\n",
    "    if combined is not None:\n",
    "        y.append(combined)\n",
    "        \n",
    "    maxs = [max(left)]\n",
    "    for i in range(len(y)):\n",
    "        if len(y[i]) != len(left):\n",
    "            y[i] = np.pad(y[i], (0, len(left) - len(y[i])))\n",
    "            maxs.append(max(y[i]))\n",
    "            \n",
    "    max_amp = max(maxs)\n",
    "    mix_scaling = 1 / max_amp * 0.95\n",
    "    left = left * mix_scaling\n",
    "    \n",
    "    for i in range(len(y)):\n",
    "        y[i] = y[i] * mix_scaling\n",
    "\n",
    "#     for i in range(len(y)):\n",
    "#         if len(y[i]) != len(left):\n",
    "#             y[i] = np.pad(y[i], (0, len(left) - len(y[i])))\n",
    "#             y[i] = y[i] / np.max(np.abs(y[i]))\n",
    "\n",
    "#     left = left / np.max(np.abs(left))\n",
    "        \n",
    "    return left, y\n",
    "\n",
    "# y, _ = malaya_speech.load('../speech/example-speaker/husein-zolkepli.wav')\n",
    "# y = np.expand_dims(y, 0).astype(np.float32)\n",
    "# y.shape"
   ]
  },
  {
   "cell_type": "code",
   "execution_count": 6,
   "metadata": {},
   "outputs": [
    {
     "name": "stdout",
     "output_type": "stream",
     "text": [
      "[8.92, 15.685, 14.755, 15.555]\n",
      "1 0.9888203676809841\n",
      "2 0.9868842528667883\n",
      "3 0.984018020025046\n"
     ]
    },
    {
     "data": {
      "text/plain": [
       "(4.15925, 4)"
      ]
     },
     "execution_count": 6,
     "metadata": {},
     "output_type": "execute_result"
    }
   ],
   "source": [
    "count = 4\n",
    "left, y = combine_speakers(random_speakers(count), count)\n",
    "len(left) / sr, len(y)"
   ]
  },
  {
   "cell_type": "code",
   "execution_count": 7,
   "metadata": {},
   "outputs": [],
   "source": [
    "config = malaya_speech.config.fastspeech_config\n",
    "dim = 256\n",
    "config['encoder_hidden_size'] = dim\n",
    "config['decoder_hidden_size'] = dim\n",
    "config['encoder_num_hidden_layers'] = 4\n",
    "config['encoder_num_attention_heads'] = 4\n",
    "config = fastspeech.Config(vocab_size = 1, **config)"
   ]
  },
  {
   "cell_type": "code",
   "execution_count": 8,
   "metadata": {},
   "outputs": [],
   "source": [
    "transformer = lambda: sepformer.Encoder_FastSpeech(config.encoder_self_attention_params)"
   ]
  },
  {
   "cell_type": "code",
   "execution_count": 9,
   "metadata": {},
   "outputs": [
    {
     "name": "stdout",
     "output_type": "stream",
     "text": [
      "WARNING:tensorflow:From /home/husein/malaya-speech/malaya_speech/train/model/fastspeech/layer.py:11: The name tf.keras.initializers.TruncatedNormal is deprecated. Please use tf.compat.v1.keras.initializers.TruncatedNormal instead.\n",
      "\n",
      "WARNING:tensorflow:From /home/husein/.local/lib/python3.6/site-packages/tensorflow_core/python/keras/initializers.py:94: calling TruncatedNormal.__init__ (from tensorflow.python.ops.init_ops) with dtype is deprecated and will be removed in a future version.\n",
      "Instructions for updating:\n",
      "Call initializer instance with the dtype argument instead of passing it to the constructor\n"
     ]
    }
   ],
   "source": [
    "model = sepformer.Model(transformer, transformer)"
   ]
  },
  {
   "cell_type": "code",
   "execution_count": 10,
   "metadata": {},
   "outputs": [
    {
     "name": "stdout",
     "output_type": "stream",
     "text": [
      "WARNING:tensorflow:From /home/husein/.local/lib/python3.6/site-packages/tensorflow_core/python/ops/resource_variable_ops.py:1630: calling BaseResourceVariable.__init__ (from tensorflow.python.ops.resource_variable_ops) with constraint is deprecated and will be removed in a future version.\n",
      "Instructions for updating:\n",
      "If using Keras pass *_constraint arguments to layers.\n"
     ]
    }
   ],
   "source": [
    "X = tf.placeholder(tf.float32, [None, None, 1])\n",
    "len_X = tf.placeholder(tf.int32, [None])\n",
    "logits = model(X)"
   ]
  },
  {
   "cell_type": "code",
   "execution_count": 11,
   "metadata": {},
   "outputs": [],
   "source": [
    "logits = tf.identity(logits, name = 'logits')"
   ]
  },
  {
   "cell_type": "code",
   "execution_count": 12,
   "metadata": {},
   "outputs": [
    {
     "name": "stdout",
     "output_type": "stream",
     "text": [
      "WARNING:tensorflow:From /home/husein/malaya-speech/malaya_speech/train/model/utils.py:32: The name tf.log is deprecated. Please use tf.math.log instead.\n",
      "\n"
     ]
    }
   ],
   "source": [
    "Y = tf.placeholder(tf.float32, [None, speakers_size, None])\n",
    "estimate_source = tf.transpose(logits[:, :, :, 0], [1, 0, 2])\n",
    "loss, max_snr, _ = sepformer.calculate_loss(\n",
    "    Y, estimate_source, len_X, C = speakers_size\n",
    ")"
   ]
  },
  {
   "cell_type": "code",
   "execution_count": 13,
   "metadata": {},
   "outputs": [],
   "source": [
    "sess = tf.InteractiveSession()\n",
    "sess.run(tf.global_variables_initializer())"
   ]
  },
  {
   "cell_type": "code",
   "execution_count": 14,
   "metadata": {},
   "outputs": [
    {
     "data": {
      "text/plain": [
       "'split-speaker-sepformer/model.ckpt-3522028'"
      ]
     },
     "execution_count": 14,
     "metadata": {},
     "output_type": "execute_result"
    }
   ],
   "source": [
    "path = 'split-speaker-sepformer'\n",
    "ckpt_path = tf.train.latest_checkpoint(path)\n",
    "ckpt_path"
   ]
  },
  {
   "cell_type": "code",
   "execution_count": 15,
   "metadata": {},
   "outputs": [
    {
     "name": "stdout",
     "output_type": "stream",
     "text": [
      "INFO:tensorflow:Restoring parameters from split-speaker-sepformer/model.ckpt-3522028\n"
     ]
    }
   ],
   "source": [
    "var_list = tf.get_collection(tf.GraphKeys.GLOBAL_VARIABLES)\n",
    "saver = tf.train.Saver(var_list = var_list)\n",
    "saver.restore(sess, ckpt_path)"
   ]
  },
  {
   "cell_type": "code",
   "execution_count": 16,
   "metadata": {},
   "outputs": [
    {
     "name": "stdout",
     "output_type": "stream",
     "text": [
      "[3.9295, 9.42725, 9.63625, 5.630625]\n",
      "1 0.9819298103606807\n",
      "2 0.9915476835371698\n",
      "3 0.9806398889779804\n"
     ]
    },
    {
     "data": {
      "text/plain": [
       "(2.752875, 4)"
      ]
     },
     "execution_count": 16,
     "metadata": {},
     "output_type": "execute_result"
    }
   ],
   "source": [
    "count = 4\n",
    "left, y = combine_speakers(wavs, count)\n",
    "len(left) / sr, len(y)"
   ]
  },
  {
   "cell_type": "code",
   "execution_count": 17,
   "metadata": {},
   "outputs": [
    {
     "name": "stdout",
     "output_type": "stream",
     "text": [
      "CPU times: user 2.33 s, sys: 690 ms, total: 3.02 s\n",
      "Wall time: 3.1 s\n"
     ]
    },
    {
     "data": {
      "text/plain": [
       "(4, 1, 22023, 1)"
      ]
     },
     "execution_count": 17,
     "metadata": {},
     "output_type": "execute_result"
    }
   ],
   "source": [
    "%%time\n",
    "\n",
    "l = sess.run(logits, feed_dict = {X: np.expand_dims([left], axis = -1)})\n",
    "l.shape"
   ]
  },
  {
   "cell_type": "code",
   "execution_count": 18,
   "metadata": {},
   "outputs": [
    {
     "data": {
      "text/plain": [
       "(1, 4, 22023)"
      ]
     },
     "execution_count": 18,
     "metadata": {},
     "output_type": "execute_result"
    }
   ],
   "source": [
    "np.array([y]).shape"
   ]
  },
  {
   "cell_type": "code",
   "execution_count": 19,
   "metadata": {},
   "outputs": [
    {
     "data": {
      "text/plain": [
       "[2.3875208, array([[-9.550083]], dtype=float32)]"
      ]
     },
     "execution_count": 19,
     "metadata": {},
     "output_type": "execute_result"
    }
   ],
   "source": [
    "sess.run([loss, max_snr * count], feed_dict = {X: np.expand_dims([left], axis = -1),\n",
    "                              len_X: [len(left)], Y: [y]})"
   ]
  },
  {
   "cell_type": "code",
   "execution_count": 20,
   "metadata": {},
   "outputs": [],
   "source": [
    "# def get_data(combined_path, speakers_size = 4, sr = 8000):\n",
    "#     combined, _ = malaya_speech.load(combined_path, sr = sr, scale = False)\n",
    "#     y = []\n",
    "#     for i in range(speakers_size):\n",
    "#         y_, _ = malaya_speech.load(combined_path.replace('combined', str(i)), sr = sr, scale = False)\n",
    "#         y.append(y_)\n",
    "#     return combined, y\n",
    "\n",
    "# combined = glob('split-speaker-8k-test/combined/*.wav')\n",
    "# len(combined)"
   ]
  },
  {
   "cell_type": "code",
   "execution_count": 21,
   "metadata": {},
   "outputs": [],
   "source": [
    "# from tqdm import tqdm\n",
    "\n",
    "# snrs = []\n",
    "\n",
    "# for i in tqdm(range(len(combined))):\n",
    "#     x, y = get_data(combined[i])\n",
    "#     s = sess.run(max_snr * count, feed_dict = {X: np.expand_dims([x], -1), \n",
    "#                                                len_X: [len(x)], Y: [y]})[0,0]\n",
    "#     snrs.append(s)"
   ]
  },
  {
   "cell_type": "code",
   "execution_count": 22,
   "metadata": {},
   "outputs": [],
   "source": [
    "# np.mean(snrs) # 18.645731"
   ]
  },
  {
   "cell_type": "code",
   "execution_count": 23,
   "metadata": {},
   "outputs": [
    {
     "data": {
      "text/plain": [
       "'sepformer-4/model.ckpt'"
      ]
     },
     "execution_count": 23,
     "metadata": {},
     "output_type": "execute_result"
    }
   ],
   "source": [
    "saver = tf.train.Saver()\n",
    "saver.save(sess, 'sepformer-4/model.ckpt')"
   ]
  },
  {
   "cell_type": "code",
   "execution_count": 24,
   "metadata": {},
   "outputs": [
    {
     "data": {
      "text/plain": [
       "['Placeholder', 'Placeholder_1', 'logits', 'Placeholder_2']"
      ]
     },
     "execution_count": 24,
     "metadata": {},
     "output_type": "execute_result"
    }
   ],
   "source": [
    "strings = ','.join(\n",
    "    [\n",
    "        n.name\n",
    "        for n in tf.get_default_graph().as_graph_def().node\n",
    "        if ('Variable' in n.op\n",
    "        or 'gather' in n.op.lower()\n",
    "        or 'Placeholder' in n.name\n",
    "        or 'logits' in n.name)\n",
    "        and 'adam' not in n.name\n",
    "        and 'global_step' not in n.name\n",
    "        and 'Assign' not in n.name\n",
    "        and 'ReadVariableOp' not in n.name\n",
    "        and 'Gather' not in n.name\n",
    "        and 'IsVariableInitialized' not in n.name\n",
    "    ]\n",
    ")\n",
    "strings.split(',')"
   ]
  },
  {
   "cell_type": "code",
   "execution_count": 25,
   "metadata": {},
   "outputs": [],
   "source": [
    "def freeze_graph(model_dir, output_node_names):\n",
    "\n",
    "    if not tf.gfile.Exists(model_dir):\n",
    "        raise AssertionError(\n",
    "            \"Export directory doesn't exists. Please specify an export \"\n",
    "            'directory: %s' % model_dir\n",
    "        )\n",
    "\n",
    "    checkpoint = tf.train.get_checkpoint_state(model_dir)\n",
    "    input_checkpoint = checkpoint.model_checkpoint_path\n",
    "\n",
    "    absolute_model_dir = '/'.join(input_checkpoint.split('/')[:-1])\n",
    "    output_graph = absolute_model_dir + '/frozen_model.pb'\n",
    "    clear_devices = True\n",
    "    with tf.Session(graph = tf.Graph()) as sess:\n",
    "        saver = tf.train.import_meta_graph(\n",
    "            input_checkpoint + '.meta', clear_devices = clear_devices\n",
    "        )\n",
    "        saver.restore(sess, input_checkpoint)\n",
    "        output_graph_def = tf.graph_util.convert_variables_to_constants(\n",
    "            sess,\n",
    "            tf.get_default_graph().as_graph_def(),\n",
    "            output_node_names.split(','),\n",
    "        )\n",
    "        with tf.gfile.GFile(output_graph, 'wb') as f:\n",
    "            f.write(output_graph_def.SerializeToString())\n",
    "        print('%d ops in the final graph.' % len(output_graph_def.node))"
   ]
  },
  {
   "cell_type": "code",
   "execution_count": 26,
   "metadata": {},
   "outputs": [
    {
     "name": "stdout",
     "output_type": "stream",
     "text": [
      "INFO:tensorflow:Restoring parameters from sepformer-4/model.ckpt\n",
      "WARNING:tensorflow:From <ipython-input-25-9a7215a4e58a>:23: convert_variables_to_constants (from tensorflow.python.framework.graph_util_impl) is deprecated and will be removed in a future version.\n",
      "Instructions for updating:\n",
      "Use `tf.compat.v1.graph_util.convert_variables_to_constants`\n",
      "WARNING:tensorflow:From /home/husein/.local/lib/python3.6/site-packages/tensorflow_core/python/framework/graph_util_impl.py:277: extract_sub_graph (from tensorflow.python.framework.graph_util_impl) is deprecated and will be removed in a future version.\n",
      "Instructions for updating:\n",
      "Use `tf.compat.v1.graph_util.extract_sub_graph`\n",
      "INFO:tensorflow:Froze 278 variables.\n",
      "INFO:tensorflow:Converted 278 variables to const ops.\n",
      "5587 ops in the final graph.\n"
     ]
    }
   ],
   "source": [
    "freeze_graph('sepformer-4', strings)"
   ]
  },
  {
   "cell_type": "code",
   "execution_count": 27,
   "metadata": {},
   "outputs": [],
   "source": [
    "def load_graph(frozen_graph_filename):\n",
    "    with tf.gfile.GFile(frozen_graph_filename, 'rb') as f:\n",
    "        graph_def = tf.GraphDef()\n",
    "        graph_def.ParseFromString(f.read())\n",
    "                \n",
    "    with tf.Graph().as_default() as graph:\n",
    "        tf.import_graph_def(graph_def)\n",
    "        \n",
    "    return graph"
   ]
  },
  {
   "cell_type": "code",
   "execution_count": 28,
   "metadata": {},
   "outputs": [],
   "source": [
    "g = load_graph('sepformer-4/frozen_model.pb')"
   ]
  },
  {
   "cell_type": "code",
   "execution_count": 29,
   "metadata": {},
   "outputs": [],
   "source": [
    "test_sess = tf.Session(graph = g)"
   ]
  },
  {
   "cell_type": "code",
   "execution_count": 30,
   "metadata": {},
   "outputs": [],
   "source": [
    "X = g.get_tensor_by_name('import/Placeholder:0')\n",
    "X_len = g.get_tensor_by_name('import/Placeholder_1:0')\n",
    "logits = g.get_tensor_by_name('import/logits:0')"
   ]
  },
  {
   "cell_type": "code",
   "execution_count": 41,
   "metadata": {},
   "outputs": [
    {
     "name": "stdout",
     "output_type": "stream",
     "text": [
      "[3.61, 13.885, 15.1, 15.045]\n",
      "1 0.9870830960487033\n",
      "2 0.9952149705499818\n",
      "3 0.982222059802885\n"
     ]
    },
    {
     "data": {
      "text/plain": [
       "(1.430125, 4)"
      ]
     },
     "execution_count": 41,
     "metadata": {},
     "output_type": "execute_result"
    }
   ],
   "source": [
    "count = 4\n",
    "left, y = combine_speakers(random_speakers(count), count)\n",
    "len(left) / sr, len(y)"
   ]
  },
  {
   "cell_type": "code",
   "execution_count": 42,
   "metadata": {},
   "outputs": [
    {
     "name": "stdout",
     "output_type": "stream",
     "text": [
      "CPU times: user 164 ms, sys: 59.8 ms, total: 223 ms\n",
      "Wall time: 173 ms\n"
     ]
    },
    {
     "data": {
      "text/plain": [
       "(4, 1, 11441, 1)"
      ]
     },
     "execution_count": 42,
     "metadata": {},
     "output_type": "execute_result"
    }
   ],
   "source": [
    "%%time\n",
    "\n",
    "l = test_sess.run(logits, feed_dict = {X: np.expand_dims([left], axis = -1)})\n",
    "l.shape"
   ]
  },
  {
   "cell_type": "code",
   "execution_count": 46,
   "metadata": {},
   "outputs": [
    {
     "data": {
      "text/html": [
       "\n",
       "                <audio  controls=\"controls\" >\n",
       "                    <source src=\"data:audio/wav;base64,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\" type=\"audio/wav\" />\n",
       "                    Your browser does not support the audio element.\n",
       "                </audio>\n",
       "              "
      ],
      "text/plain": [
       "<IPython.lib.display.Audio object>"
      ]
     },
     "execution_count": 46,
     "metadata": {},
     "output_type": "execute_result"
    }
   ],
   "source": [
    "import IPython.display as ipd\n",
    "\n",
    "ipd.Audio(l[3,0,:,0], rate = sr)"
   ]
  },
  {
   "cell_type": "code",
   "execution_count": 48,
   "metadata": {},
   "outputs": [],
   "source": [
    "from tensorflow.tools.graph_transforms import TransformGraph"
   ]
  },
  {
   "cell_type": "code",
   "execution_count": 49,
   "metadata": {},
   "outputs": [],
   "source": [
    "transforms = ['add_default_attributes',\n",
    "             'remove_nodes(op=Identity, op=CheckNumerics)',\n",
    "             'fold_batch_norms',\n",
    "             'fold_old_batch_norms',\n",
    "             'quantize_weights(fallback_min=-1024, fallback_max=1024)',\n",
    "             'strip_unused_nodes',\n",
    "             'sort_by_execution_order']"
   ]
  },
  {
   "cell_type": "code",
   "execution_count": 50,
   "metadata": {},
   "outputs": [],
   "source": [
    "pb = 'sepformer-4/frozen_model.pb'"
   ]
  },
  {
   "cell_type": "code",
   "execution_count": 51,
   "metadata": {},
   "outputs": [
    {
     "name": "stdout",
     "output_type": "stream",
     "text": [
      "WARNING:tensorflow:From <ipython-input-51-cb3e89a69de3>:2: FastGFile.__init__ (from tensorflow.python.platform.gfile) is deprecated and will be removed in a future version.\n",
      "Instructions for updating:\n",
      "Use tf.gfile.GFile.\n"
     ]
    }
   ],
   "source": [
    "input_graph_def = tf.GraphDef()\n",
    "with tf.gfile.FastGFile(pb, 'rb') as f:\n",
    "    input_graph_def.ParseFromString(f.read())\n",
    "\n",
    "transformed_graph_def = TransformGraph(input_graph_def, \n",
    "                                           ['Placeholder'],\n",
    "                                           ['logits'], transforms)\n",
    "    \n",
    "with tf.gfile.GFile(f'{pb}.quantized', 'wb') as f:\n",
    "    f.write(transformed_graph_def.SerializeToString())"
   ]
  },
  {
   "cell_type": "code",
   "execution_count": 52,
   "metadata": {},
   "outputs": [],
   "source": [
    "g = load_graph('sepformer-4/frozen_model.pb.quantized')"
   ]
  },
  {
   "cell_type": "code",
   "execution_count": 53,
   "metadata": {},
   "outputs": [],
   "source": [
    "test_sess = tf.Session(graph = g)"
   ]
  },
  {
   "cell_type": "code",
   "execution_count": 55,
   "metadata": {},
   "outputs": [],
   "source": [
    "X = g.get_tensor_by_name('import/Placeholder:0')\n",
    "logits = g.get_tensor_by_name('import/logits:0')"
   ]
  },
  {
   "cell_type": "code",
   "execution_count": 56,
   "metadata": {},
   "outputs": [
    {
     "name": "stdout",
     "output_type": "stream",
     "text": [
      "CPU times: user 3.71 s, sys: 101 ms, total: 3.81 s\n",
      "Wall time: 3.58 s\n"
     ]
    },
    {
     "data": {
      "text/plain": [
       "(4, 1, 11441, 1)"
      ]
     },
     "execution_count": 56,
     "metadata": {},
     "output_type": "execute_result"
    }
   ],
   "source": [
    "%%time\n",
    "\n",
    "l = test_sess.run(logits, feed_dict = {X: np.expand_dims([left], axis = -1)})\n",
    "l.shape"
   ]
  },
  {
   "cell_type": "code",
   "execution_count": 59,
   "metadata": {},
   "outputs": [
    {
     "data": {
      "text/html": [
       "\n",
       "                <audio  controls=\"controls\" >\n",
       "                    <source src=\"data:audio/wav;base64,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\" type=\"audio/wav\" />\n",
       "                    Your browser does not support the audio element.\n",
       "                </audio>\n",
       "              "
      ],
      "text/plain": [
       "<IPython.lib.display.Audio object>"
      ]
     },
     "execution_count": 59,
     "metadata": {},
     "output_type": "execute_result"
    }
   ],
   "source": [
    "ipd.Audio(l[1,0,:,0], rate = sr)"
   ]
  }
 ],
 "metadata": {
  "kernelspec": {
   "display_name": "Python 3",
   "language": "python",
   "name": "python3"
  },
  "language_info": {
   "codemirror_mode": {
    "name": "ipython",
    "version": 3
   },
   "file_extension": ".py",
   "mimetype": "text/x-python",
   "name": "python",
   "nbconvert_exporter": "python",
   "pygments_lexer": "ipython3",
   "version": "3.6.9"
  }
 },
 "nbformat": 4,
 "nbformat_minor": 2
}

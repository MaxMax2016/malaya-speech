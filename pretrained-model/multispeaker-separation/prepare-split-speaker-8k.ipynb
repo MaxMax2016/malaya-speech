{
 "cells": [
  {
   "cell_type": "code",
   "execution_count": 1,
   "metadata": {},
   "outputs": [],
   "source": [
    "import os\n",
    "import warnings\n",
    "\n",
    "os.environ['CUDA_VISIBLE_DEVICES'] = ''\n",
    "warnings.filterwarnings('ignore')"
   ]
  },
  {
   "cell_type": "code",
   "execution_count": 2,
   "metadata": {},
   "outputs": [],
   "source": [
    "import malaya_speech\n",
    "import numpy as np\n",
    "import IPython.display as ipd\n",
    "import matplotlib.pyplot as plt\n",
    "import malaya_speech.augmentation.waveform as augmentation\n",
    "import random\n",
    "import pandas as pd"
   ]
  },
  {
   "cell_type": "code",
   "execution_count": 3,
   "metadata": {},
   "outputs": [],
   "source": [
    "from glob import glob\n",
    "from collections import defaultdict"
   ]
  },
  {
   "cell_type": "code",
   "execution_count": 15,
   "metadata": {},
   "outputs": [
    {
     "data": {
      "text/plain": [
       "42370"
      ]
     },
     "execution_count": 15,
     "metadata": {},
     "output_type": "execute_result"
    }
   ],
   "source": [
    "combined = glob('split-speaker-8k-train/combined/*.wav')\n",
    "len(combined)"
   ]
  },
  {
   "cell_type": "code",
   "execution_count": 5,
   "metadata": {},
   "outputs": [],
   "source": [
    "def get_data(combined_path, speakers_size = 4, sr = 8000):\n",
    "    combined, _ = malaya_speech.load(combined_path, sr = sr, scale = False)\n",
    "    y = []\n",
    "    for i in range(speakers_size):\n",
    "        y_, _ = malaya_speech.load(combined_path.replace('combined', str(i)), sr = sr, scale = False)\n",
    "        y.append(y_)\n",
    "    return combined, y"
   ]
  },
  {
   "cell_type": "code",
   "execution_count": 6,
   "metadata": {},
   "outputs": [],
   "source": [
    "# combined, y = get_data(combined[0])\n",
    "# plt.plot(combined)\n",
    "# plt.plot(y[2])"
   ]
  },
  {
   "cell_type": "code",
   "execution_count": 7,
   "metadata": {},
   "outputs": [],
   "source": [
    "librispeech = glob('../speech-bahasa/LibriSpeech/*/*/*/*.flac')\n",
    "\n",
    "def get_speaker_librispeech(file):\n",
    "    return file.split('/')[-1].split('-')[0]\n",
    "\n",
    "speakers = defaultdict(list)\n",
    "for f in librispeech:\n",
    "    speakers[get_speaker_librispeech(f)].append(f)\n",
    "\n",
    "vctk = glob('vtck/**/*.flac', recursive = True)\n",
    "vctk_speakers = defaultdict(list)\n",
    "for f in vctk:\n",
    "    s = f.split('/')[-1].split('_')[0]\n",
    "    vctk_speakers[s].append(f)\n",
    "\n",
    "files = glob('../speech-bahasa/ST-CMDS-20170001_1-OS/*.wav')\n",
    "speakers_mandarin = defaultdict(list)\n",
    "for f in files:\n",
    "    speakers_mandarin[f[:-9]].append(f)\n",
    "len(speakers_mandarin)\n",
    "\n",
    "speakers_malay = {}\n",
    "speakers_malay['salina'] = glob(\n",
    "    '/home/husein/speech-bahasa/salina/output-wav-salina/*.wav'\n",
    ")\n",
    "male = glob('/home/husein/speech-bahasa/turki/output-wav-turki/*.wav')\n",
    "male.extend(\n",
    "    glob('/home/husein/speech-bahasa/output-wav-dari-pasentran-ke-istana/*.wav')\n",
    ")\n",
    "speakers_malay['male'] = male\n",
    "speakers_malay['haqkiem'] = glob('/home/husein/speech-bahasa/haqkiem/*.wav')\n",
    "speakers_malay['khalil'] = glob('/home/husein/speech-bahasa/tolong-sebut/*.wav')\n",
    "speakers_malay['mas'] = glob(\n",
    "    '/home/husein/speech-bahasa/sebut-perkataan-woman/*.wav'\n",
    ")\n",
    "husein = glob('/home/husein/speech-bahasa/audio-wattpad/*.wav')\n",
    "husein.extend(glob('/home/husein/speech-bahasa/audio-iium/*.wav'))\n",
    "husein.extend(glob('/home/husein/speech-bahasa/audio/*.wav'))\n",
    "husein.extend(glob('/home/husein/speech-bahasa/sebut-perkataan-man/*.wav'))\n",
    "speakers_malay['husein'] = husein\n",
    "\n",
    "df_nepali = pd.read_csv(\n",
    "    '/home/husein/speech-bahasa/nepali_0/asr_nepali/utt_spk_text.tsv',\n",
    "    sep = '\\t',\n",
    "    header = None,\n",
    ")\n",
    "asr_nepali = glob('/home/husein/speech-bahasa/*/asr_nepali/data/*/*.flac')\n",
    "asr_nepali_replaced = {\n",
    "    f.split('/')[-1].replace('.flac', ''): f for f in asr_nepali\n",
    "}\n",
    "df_nepali = df_nepali[df_nepali[0].isin(asr_nepali_replaced.keys())]\n",
    "\n",
    "speakers_nepali = defaultdict(list)\n",
    "for i in range(len(df_nepali)):\n",
    "    speakers_nepali[df_nepali.iloc[i, 1]].append(\n",
    "        asr_nepali_replaced[df_nepali.iloc[i, 0]]\n",
    "    )\n",
    "    \n",
    "sr = 8000\n",
    "speakers_size = 4\n",
    "\n",
    "s = {\n",
    "    **speakers,\n",
    "    **vctk_speakers,\n",
    "    **speakers_malay,\n",
    "    **speakers_mandarin,\n",
    "    **speakers_nepali,\n",
    "}\n",
    "\n",
    "keys = list(s.keys())"
   ]
  },
  {
   "cell_type": "code",
   "execution_count": 8,
   "metadata": {},
   "outputs": [],
   "source": [
    "def random_speakers(n):\n",
    "    ks = random.sample(keys, n)\n",
    "    r = []\n",
    "    for k in ks:\n",
    "        r.append(random.choice(s[k]))\n",
    "    return r\n",
    "\n",
    "\n",
    "def read_wav(f):\n",
    "    return malaya_speech.load(f, sr = sr)\n",
    "\n",
    "\n",
    "def random_sampling(s, length):\n",
    "    return augmentation.random_sampling(s, sr = sr, length = length)\n",
    "\n",
    "\n",
    "def to_mel(y):\n",
    "    mel = malaya_speech.featurization.universal_mel(y)\n",
    "    mel[mel <= np.log(1e-2)] = np.log(1e-2)\n",
    "    return mel\n",
    "\n",
    "\n",
    "def combine_speakers(files, n = 5, limit = 4):\n",
    "    w_samples = random.sample(files, n)\n",
    "    w_samples = [read_wav(f)[0] for f in w_samples]\n",
    "    w_lens = [len(w) / sr for w in w_samples]\n",
    "    w_lens = int(min(min(w_lens) * 1000, random.randint(1000, 5000)))\n",
    "    w_samples = [random_sampling(w, length = w_lens) for w in w_samples]\n",
    "    y = [w_samples[0]]\n",
    "    left = w_samples[0].copy()\n",
    "\n",
    "    combined = None\n",
    "\n",
    "    for i in range(1, n):\n",
    "        right = w_samples[i].copy()\n",
    "        overlap = random.uniform(0.98, 1.0)\n",
    "        len_overlap = int(overlap * len(right))\n",
    "        minus = len(left) - len_overlap\n",
    "        if minus < 0:\n",
    "            minus = 0\n",
    "        padded_right = np.pad(right, (minus, 0))\n",
    "        left = np.pad(left, (0, len(padded_right) - len(left)))\n",
    "\n",
    "        left = left + padded_right\n",
    "\n",
    "        if i >= (limit - 1):\n",
    "            if combined is None:\n",
    "                combined = padded_right\n",
    "            else:\n",
    "                combined = np.pad(\n",
    "                    combined, (0, len(padded_right) - len(combined))\n",
    "                )\n",
    "                combined += padded_right\n",
    "\n",
    "        else:\n",
    "            y.append(padded_right)\n",
    "\n",
    "    if combined is not None:\n",
    "        y.append(combined)\n",
    "\n",
    "    # for i in range(len(y)):\n",
    "    #     if len(y[i]) != len(left):\n",
    "    #         y[i] = np.pad(y[i], (0, len(left) - len(y[i])))\n",
    "    #         y[i] = y[i] / np.max(np.abs(y[i]))\n",
    "\n",
    "    # left = left / np.max(np.abs(left))\n",
    "    \n",
    "    maxs = [max(left)]\n",
    "    for i in range(len(y)):\n",
    "        if len(y[i]) != len(left):\n",
    "            y[i] = np.pad(y[i], (0, len(left) - len(y[i])))\n",
    "            maxs.append(max(y[i]))\n",
    "\n",
    "    max_amp = max(maxs)\n",
    "    mix_scaling = 1 / max_amp * 0.90\n",
    "    left = left * mix_scaling\n",
    "\n",
    "    for i in range(len(y)):\n",
    "        y[i] = y[i] * mix_scaling\n",
    "\n",
    "    return left, y"
   ]
  },
  {
   "cell_type": "code",
   "execution_count": 9,
   "metadata": {},
   "outputs": [],
   "source": [
    "count = speakers_size\n",
    "combined, y = combine_speakers(random_speakers(count), count)"
   ]
  },
  {
   "cell_type": "code",
   "execution_count": 10,
   "metadata": {},
   "outputs": [
    {
     "data": {
      "text/plain": [
       "4"
      ]
     },
     "execution_count": 10,
     "metadata": {},
     "output_type": "execute_result"
    }
   ],
   "source": [
    "len(y)"
   ]
  },
  {
   "cell_type": "code",
   "execution_count": 11,
   "metadata": {},
   "outputs": [
    {
     "data": {
      "text/plain": [
       "[<matplotlib.lines.Line2D at 0x7f0c7232bb00>]"
      ]
     },
     "execution_count": 11,
     "metadata": {},
     "output_type": "execute_result"
    },
    {
     "data": {
      "image/png": "[encoded data removed]",
      "text/plain": [
       "<Figure size 432x288 with 1 Axes>"
      ]
     },
     "metadata": {
      "needs_background": "light"
     },
     "output_type": "display_data"
    }
   ],
   "source": [
    "plt.plot(combined)\n",
    "plt.plot(y[0])\n",
    "plt.plot(y[1])"
   ]
  },
  {
   "cell_type": "code",
   "execution_count": 12,
   "metadata": {},
   "outputs": [
    {
     "name": "stdout",
     "output_type": "stream",
     "text": [
      "mkdir: cannot create directory ‘split-speaker-8k-train’: File exists\n",
      "mkdir: cannot create directory ‘split-speaker-8k-train/combined’: File exists\n"
     ]
    }
   ],
   "source": [
    "directory = 'split-speaker-8k-train'\n",
    "!mkdir {directory}\n",
    "!mkdir {directory}/combined"
   ]
  },
  {
   "cell_type": "code",
   "execution_count": 13,
   "metadata": {},
   "outputs": [],
   "source": [
    "for i in range(speakers_size):\n",
    "    os.system(f'mkdir {directory}/{i}')"
   ]
  },
  {
   "cell_type": "code",
   "execution_count": 14,
   "metadata": {
    "scrolled": true
   },
   "outputs": [],
   "source": [
    "from tqdm import tqdm\n",
    "import soundfile as sf\n",
    "\n",
    "def loop(files):\n",
    "    files = files[0]\n",
    "    for i in tqdm(files):\n",
    "        try:\n",
    "            combined, y = combine_speakers(random_speakers(count), count)\n",
    "            sf.write(f'{directory}/combined/{i}.wav', combined, samplerate = sr)\n",
    "            for k in range(speakers_size):\n",
    "                sf.write(f'{directory}/{k}/{i}.wav', y[k], samplerate = sr)\n",
    "        except:\n",
    "            pass"
   ]
  },
  {
   "cell_type": "code",
   "execution_count": 16,
   "metadata": {},
   "outputs": [
    {
     "name": "stderr",
     "output_type": "stream",
     "text": [
      "100%|██████████| 5000/5000 [10:54<00:00,  7.64it/s]\n",
      "100%|█████████▉| 4975/5000 [10:56<00:02,  9.95it/s]\n",
      "100%|██████████| 5000/5000 [10:56<00:00,  7.61it/s]\n",
      " 99%|█████████▉| 4950/5000 [10:56<00:06,  8.22it/s]\n",
      "100%|██████████| 5000/5000 [10:57<00:00,  7.60it/s]\n",
      " 99%|█████████▉| 4963/5000 [10:58<00:04,  9.06it/s]\n",
      "100%|██████████| 5000/5000 [10:58<00:00,  7.60it/s]\n",
      "100%|██████████| 5000/5000 [10:58<00:00,  7.59it/s]\n",
      "100%|██████████| 5000/5000 [10:59<00:00,  7.59it/s]\n",
      "100%|██████████| 5000/5000 [10:59<00:00,  7.59it/s]\n",
      "100%|██████████| 5000/5000 [10:59<00:00,  7.59it/s]\n",
      " 99%|█████████▉| 4962/5000 [10:59<00:03,  9.62it/s]\n",
      "100%|██████████| 5000/5000 [11:00<00:00,  7.57it/s]\n",
      "100%|██████████| 5000/5000 [11:01<00:00,  7.56it/s]\n",
      "100%|██████████| 5000/5000 [11:01<00:00,  7.56it/s]\n",
      "100%|██████████| 5000/5000 [11:01<00:00,  7.56it/s]\n",
      "100%|██████████| 5000/5000 [11:02<00:00,  7.55it/s]\n",
      "100%|██████████| 5000/5000 [11:02<00:00,  7.55it/s]\n",
      "100%|██████████| 5000/5000 [11:02<00:00,  7.54it/s]\n",
      "100%|██████████| 5000/5000 [11:04<00:00,  7.52it/s]\n"
     ]
    }
   ],
   "source": [
    "import mp\n",
    "\n",
    "mp.multiprocessing(range(100000), loop, cores = 20, returned = False)"
   ]
  },
  {
   "cell_type": "code",
   "execution_count": null,
   "metadata": {},
   "outputs": [],
   "source": [
    "directory = 'split-speaker-8k-test'\n",
    "!rm -rf {directory}\n",
    "!mkdir {directory}\n",
    "!mkdir {directory}/combined"
   ]
  },
  {
   "cell_type": "code",
   "execution_count": null,
   "metadata": {},
   "outputs": [],
   "source": [
    "for i in range(speakers_size):\n",
    "    os.system(f'mkdir {directory}/{i}')"
   ]
  },
  {
   "cell_type": "code",
   "execution_count": null,
   "metadata": {},
   "outputs": [],
   "source": [
    "from tqdm import tqdm\n",
    "import soundfile as sf\n",
    "\n",
    "for i in tqdm(range(100)):\n",
    "    try:\n",
    "        combined, y = combine_speakers(random_speakers(count), count)\n",
    "        sf.write(f'{directory}/combined/{i}.wav', combined, samplerate = sr)\n",
    "        for k in range(speakers_size):\n",
    "            sf.write(f'{directory}/{k}/{i}.wav', y[k], samplerate = sr)\n",
    "    except:\n",
    "        pass"
   ]
  }
 ],
 "metadata": {
  "kernelspec": {
   "display_name": "Python 3",
   "language": "python",
   "name": "python3"
  },
  "language_info": {
   "codemirror_mode": {
    "name": "ipython",
    "version": 3
   },
   "file_extension": ".py",
   "mimetype": "text/x-python",
   "name": "python",
   "nbconvert_exporter": "python",
   "pygments_lexer": "ipython3",
   "version": "3.6.9"
  }
 },
 "nbformat": 4,
 "nbformat_minor": 2
}

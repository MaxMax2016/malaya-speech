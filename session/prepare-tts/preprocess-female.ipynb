{
 "cells": [
  {
   "cell_type": "code",
   "execution_count": 1,
   "metadata": {},
   "outputs": [],
   "source": [
    "# !wget https://f000.backblazeb2.com/file/malaya-speech-model/data/salina.gz\n",
    "# !tar -xf salina.gz"
   ]
  },
  {
   "cell_type": "code",
   "execution_count": 2,
   "metadata": {},
   "outputs": [],
   "source": [
    "import librosa\n",
    "import pyworld as pw\n",
    "from sklearn.preprocessing import StandardScaler\n",
    "import numpy as np\n",
    "import os"
   ]
  },
  {
   "cell_type": "code",
   "execution_count": 3,
   "metadata": {},
   "outputs": [],
   "source": [
    "# !pip3 install malaya-gpu -U --no-deps"
   ]
  },
  {
   "cell_type": "code",
   "execution_count": 4,
   "metadata": {},
   "outputs": [
    {
     "name": "stderr",
     "output_type": "stream",
     "text": [
      "/home/husein/.local/lib/python3.6/site-packages/ipykernel_launcher.py:4: YAMLLoadWarning: calling yaml.load() without Loader=... is deprecated, as the default Loader is unsafe. Please read https://msg.pyyaml.org/load for full details.\n",
      "  after removing the cwd from sys.path.\n"
     ]
    },
    {
     "data": {
      "text/plain": [
       "{'sampling_rate': 22050,\n",
       " 'fft_size': 1024,\n",
       " 'hop_size': 256,\n",
       " 'win_length': None,\n",
       " 'window': 'hann',\n",
       " 'num_mels': 80,\n",
       " 'fmin': 80,\n",
       " 'fmax': 7600,\n",
       " 'global_gain_scale': 1.0,\n",
       " 'trim_silence': True,\n",
       " 'trim_threshold_in_db': 60,\n",
       " 'trim_frame_size': 2048,\n",
       " 'trim_hop_size': 512}"
      ]
     },
     "execution_count": 4,
     "metadata": {},
     "output_type": "execute_result"
    }
   ],
   "source": [
    "import yaml\n",
    "\n",
    "with open('config.yaml') as fopen:\n",
    "    config = yaml.load(fopen)\n",
    "    \n",
    "config"
   ]
  },
  {
   "cell_type": "code",
   "execution_count": 5,
   "metadata": {},
   "outputs": [],
   "source": [
    "import numpy as np\n",
    "\n",
    "# https://github.com/TensorSpeech/TensorFlowTTS/blob/master/tensorflow_tts/utils/outliers.py\n",
    "def is_outlier(x, p25, p75):\n",
    "    \"\"\"Check if value is an outlier.\"\"\"\n",
    "    lower = p25 - 1.5 * (p75 - p25)\n",
    "    upper = p75 + 1.5 * (p75 - p25)\n",
    "    return x <= lower or x >= upper\n",
    "\n",
    "\n",
    "def remove_outlier(x, p_bottom: int = 25, p_top: int = 75):\n",
    "    \"\"\"Remove outlier from x.\"\"\"\n",
    "    p_bottom = np.percentile(x, p_bottom)\n",
    "    p_top = np.percentile(x, p_top)\n",
    "\n",
    "    indices_of_outliers = []\n",
    "    for ind, value in enumerate(x):\n",
    "        if is_outlier(value, p_bottom, p_top):\n",
    "            indices_of_outliers.append(ind)\n",
    "\n",
    "    x[indices_of_outliers] = 0.0\n",
    "    x[indices_of_outliers] = np.max(x)\n",
    "    return x"
   ]
  },
  {
   "cell_type": "code",
   "execution_count": 6,
   "metadata": {},
   "outputs": [],
   "source": [
    "import re\n",
    "\n",
    "_pad = \"pad\"\n",
    "_eos = \"eos\"\n",
    "_punctuation = \"!'(),.:;? \"\n",
    "_special = \"-\"\n",
    "_letters = \"ABCDEFGHIJKLMNOPQRSTUVWXYZabcdefghijklmnopqrstuvwxyz\"\n",
    "\n",
    "# Export all symbols:\n",
    "MALAYA_SPEECH_SYMBOLS = (\n",
    "    [_pad] + list(_special) + list(_punctuation) + list(_letters) + [_eos]\n",
    ")\n",
    "\n",
    "# Regular expression matching text enclosed in curly braces:\n",
    "_curly_re = re.compile(r\"(.*?)\\{(.+?)\\}(.*)\")"
   ]
  },
  {
   "cell_type": "code",
   "execution_count": 7,
   "metadata": {},
   "outputs": [],
   "source": [
    "def tts_encode(string: str, add_eos: bool = True):\n",
    "    r = [MALAYA_SPEECH_SYMBOLS.index(c) for c in string if c in MALAYA_SPEECH_SYMBOLS]\n",
    "    if add_eos:\n",
    "        r = r + [MALAYA_SPEECH_SYMBOLS.index('eos')]\n",
    "    return r"
   ]
  },
  {
   "cell_type": "code",
   "execution_count": 8,
   "metadata": {},
   "outputs": [],
   "source": [
    "from unidecode import unidecode\n",
    "import malaya\n",
    "\n",
    "normalizer = malaya.normalize.normalizer(date = False, time = False)\n",
    "\n",
    "def put_spacing_num(string):\n",
    "    string = re.sub('[A-Za-z]+', lambda ele: ' ' + ele[0] + ' ', string)\n",
    "    return re.sub(r'[ ]+', ' ', string).strip()\n",
    "\n",
    "def convert_to_ascii(string):\n",
    "    return unidecode(string)\n",
    "\n",
    "def collapse_whitespace(string):\n",
    "    return re.sub(_whitespace_re, ' ', string)\n",
    "\n",
    "def cleaning(string, normalize = True, add_eos = True):\n",
    "    sequence = []\n",
    "    string = convert_to_ascii(string)\n",
    "    string = string.replace('&', ' dan ')\n",
    "    string = put_spacing_num(string)\n",
    "    if normalize:\n",
    "        string = normalizer.normalize(string, \n",
    "                                      check_english = False, \n",
    "                                      normalize_entity = False, \n",
    "                                      normalize_text = False,\n",
    "                                      normalize_url = True,\n",
    "                                      normalize_email = True)\n",
    "        string = string['normalize']\n",
    "    else:\n",
    "        string = string\n",
    "    string = string.lower()\n",
    "    return string, tts_encode(string, add_eos = add_eos)"
   ]
  },
  {
   "cell_type": "code",
   "execution_count": 9,
   "metadata": {},
   "outputs": [
    {
     "data": {
      "text/plain": [
       "12579"
      ]
     },
     "execution_count": 9,
     "metadata": {},
     "output_type": "execute_result"
    }
   ],
   "source": [
    "from glob import glob\n",
    "from tqdm import tqdm\n",
    "\n",
    "txts = glob('salina/*salina*/*.txt')\n",
    "len(txts)"
   ]
  },
  {
   "cell_type": "code",
   "execution_count": 10,
   "metadata": {},
   "outputs": [
    {
     "name": "stderr",
     "output_type": "stream",
     "text": [
      "100%|██████████| 12579/12579 [00:00<00:00, 44212.39it/s]\n"
     ]
    }
   ],
   "source": [
    "texts = []\n",
    "for t in tqdm(txts):\n",
    "    with open(t) as fopen:\n",
    "        texts.append(fopen.read())"
   ]
  },
  {
   "cell_type": "code",
   "execution_count": 11,
   "metadata": {},
   "outputs": [
    {
     "data": {
      "text/plain": [
       "'salina/output-wav-salina/tiga-4.mp3-441.wav'"
      ]
     },
     "execution_count": 11,
     "metadata": {},
     "output_type": "execute_result"
    }
   ],
   "source": [
    "txts[0].replace('output-text', 'output-wav').replace('.txt', '')"
   ]
  },
  {
   "cell_type": "code",
   "execution_count": 12,
   "metadata": {},
   "outputs": [],
   "source": [
    "import malaya_speech\n",
    "\n",
    "def process(txts):\n",
    "    txts = txts[0]\n",
    "    audios, mels, text_ids, f0s, energies = [], [], [], [], []\n",
    "\n",
    "    for f in tqdm(txts):\n",
    "        with open(f) as fopen:\n",
    "            text = fopen.read()\n",
    "        if re.match('^.*(RM|rm)[0-9]+.*$', text):\n",
    "            continue\n",
    "        text = cleaning(text)\n",
    "        r = f.replace('output-text', 'output-wav').replace('.txt', '')\n",
    "\n",
    "        audio, _ = malaya_speech.load(r, sr = config['sampling_rate'])\n",
    "\n",
    "        if (len(audio) / config['sampling_rate']) > 25:\n",
    "            print('skipped, audio too long')\n",
    "            continue\n",
    "\n",
    "        if config['trim_silence']:\n",
    "            audio, _ = librosa.effects.trim(\n",
    "                audio,\n",
    "                top_db = config['trim_threshold_in_db'],\n",
    "                frame_length = config['trim_frame_size'],\n",
    "                hop_length = config['trim_hop_size'],\n",
    "            )\n",
    "\n",
    "        D = librosa.stft(\n",
    "            audio,\n",
    "            n_fft=config['fft_size'],\n",
    "            hop_length=config['hop_size'],\n",
    "            win_length=config['win_length'],\n",
    "            window=config['window'],\n",
    "            pad_mode='reflect',\n",
    "        )\n",
    "        S, _ = librosa.magphase(D) \n",
    "        fmin = 0 if config[\"fmin\"] is None else config[\"fmin\"]\n",
    "        fmax = sampling_rate // 2 if config[\"fmax\"] is None else config[\"fmax\"]\n",
    "        mel_basis = librosa.filters.mel(\n",
    "            sr=config['sampling_rate'],\n",
    "            n_fft=config[\"fft_size\"],\n",
    "            n_mels=config[\"num_mels\"],\n",
    "            fmin=fmin,\n",
    "            fmax=fmax,\n",
    "        )\n",
    "        mel = np.log10(np.maximum(np.dot(mel_basis, S), 1e-10)).T\n",
    "        audio = np.pad(audio, (0, config[\"fft_size\"]), mode=\"edge\")\n",
    "        audio = audio[: len(mel) * config['hop_size']]\n",
    "\n",
    "        _f0, t = pw.dio(\n",
    "            audio.astype(np.double),\n",
    "            fs=config['sampling_rate'],\n",
    "            f0_ceil=fmax,\n",
    "            frame_period=1000 * config['hop_size'] / config['sampling_rate'],\n",
    "        )\n",
    "        f0 = pw.stonemask(audio.astype(np.double), _f0, t, config['sampling_rate'])\n",
    "        if len(f0) >= len(mel):\n",
    "            f0 = f0[: len(mel)]\n",
    "        else:\n",
    "            f0 = np.pad(f0, (0, len(mel) - len(f0)))\n",
    "\n",
    "        # extract energy\n",
    "        energy = np.sqrt(np.sum(S ** 2, axis=0))\n",
    "        f0 = remove_outlier(f0)\n",
    "        energy = remove_outlier(energy)\n",
    "\n",
    "        if config[\"global_gain_scale\"] > 0.0:\n",
    "            audio *= config[\"global_gain_scale\"]\n",
    "\n",
    "        if len(energy[energy != 0]) == 0 or len(f0[f0 != 0]) == 0:\n",
    "            print('skipped')\n",
    "            continue\n",
    "\n",
    "        audios.append(audio)\n",
    "        mels.append(mel)\n",
    "        text_ids.append(text)\n",
    "        f0s.append(f0)\n",
    "        energies.append(energy)\n",
    "    \n",
    "    return [[audios, mels, text_ids, f0s, energies]]"
   ]
  },
  {
   "cell_type": "code",
   "execution_count": 13,
   "metadata": {},
   "outputs": [],
   "source": [
    "import mp\n",
    "\n",
    "audios, mels, text_ids, f0s, energies = [], [], [], [], []"
   ]
  },
  {
   "cell_type": "code",
   "execution_count": 14,
   "metadata": {},
   "outputs": [
    {
     "name": "stderr",
     "output_type": "stream",
     "text": [
      "  7%|▋         | 7/100 [00:03<00:41,  2.22it/s]"
     ]
    },
    {
     "name": "stdout",
     "output_type": "stream",
     "text": [
      "skipped\n"
     ]
    },
    {
     "name": "stderr",
     "output_type": "stream",
     "text": [
      " 29%|██▉       | 29/100 [00:13<00:29,  2.39it/s]"
     ]
    },
    {
     "name": "stdout",
     "output_type": "stream",
     "text": [
      "skipped\n"
     ]
    },
    {
     "name": "stderr",
     "output_type": "stream",
     "text": [
      " 36%|███▌      | 36/100 [00:14<00:26,  2.42it/s]"
     ]
    },
    {
     "name": "stdout",
     "output_type": "stream",
     "text": [
      "skipped\n"
     ]
    },
    {
     "name": "stderr",
     "output_type": "stream",
     "text": [
      " 87%|████████▋ | 87/100 [00:35<00:04,  2.73it/s]"
     ]
    },
    {
     "name": "stdout",
     "output_type": "stream",
     "text": [
      "skipped\n"
     ]
    },
    {
     "name": "stderr",
     "output_type": "stream",
     "text": [
      "100%|██████████| 100/100 [00:40<00:00,  2.50it/s]\n",
      "100%|██████████| 100/100 [00:43<00:00,  2.28it/s]\n",
      "100%|██████████| 100/100 [00:44<00:00,  2.26it/s]\n",
      "100%|██████████| 100/100 [00:44<00:00,  2.25it/s]\n",
      "100%|██████████| 100/100 [00:44<00:00,  2.23it/s]\n",
      "100%|██████████| 100/100 [00:44<00:00,  2.23it/s]\n",
      "100%|██████████| 100/100 [00:45<00:00,  2.20it/s]\n",
      "100%|██████████| 100/100 [00:45<00:00,  2.20it/s]\n",
      "100%|██████████| 100/100 [00:46<00:00,  2.16it/s]\n",
      "100%|██████████| 100/100 [00:46<00:00,  2.16it/s]\n",
      " 83%|████████▎ | 83/100 [00:37<00:08,  1.99it/s]"
     ]
    },
    {
     "name": "stdout",
     "output_type": "stream",
     "text": [
      "skipped\n"
     ]
    },
    {
     "name": "stderr",
     "output_type": "stream",
     "text": [
      "100%|██████████| 100/100 [00:44<00:00,  2.26it/s]\n",
      "100%|██████████| 100/100 [00:44<00:00,  2.26it/s]\n",
      "100%|██████████| 100/100 [00:44<00:00,  2.25it/s]\n",
      "100%|██████████| 100/100 [00:44<00:00,  2.25it/s]\n",
      "100%|██████████| 100/100 [00:45<00:00,  2.21it/s]\n",
      "100%|██████████| 100/100 [00:45<00:00,  2.20it/s]\n",
      "100%|██████████| 100/100 [00:45<00:00,  2.19it/s]\n",
      " 97%|█████████▋| 97/100 [00:46<00:01,  2.47it/s]\n",
      "100%|██████████| 100/100 [00:47<00:00,  2.10it/s]\n",
      "100%|██████████| 100/100 [00:47<00:00,  2.10it/s]\n",
      " 49%|████▉     | 49/100 [00:23<00:20,  2.48it/s]"
     ]
    },
    {
     "name": "stdout",
     "output_type": "stream",
     "text": [
      "skipped\n"
     ]
    },
    {
     "name": "stderr",
     "output_type": "stream",
     "text": [
      "100%|██████████| 100/100 [00:41<00:00,  2.40it/s]\n",
      "100%|██████████| 100/100 [00:42<00:00,  2.37it/s]\n",
      "100%|██████████| 100/100 [00:44<00:00,  2.25it/s]\n",
      "100%|██████████| 100/100 [00:44<00:00,  2.25it/s]\n",
      "100%|██████████| 100/100 [00:45<00:00,  2.22it/s]\n",
      "100%|██████████| 100/100 [00:45<00:00,  2.18it/s]\n",
      "100%|██████████| 100/100 [00:46<00:00,  2.16it/s]\n",
      "100%|██████████| 100/100 [00:46<00:00,  2.15it/s]\n",
      "100%|██████████| 100/100 [00:47<00:00,  2.11it/s]\n",
      "100%|██████████| 100/100 [00:48<00:00,  2.05it/s]\n",
      " 13%|█▎        | 13/100 [00:06<00:44,  1.96it/s]"
     ]
    },
    {
     "name": "stdout",
     "output_type": "stream",
     "text": [
      "skipped\n"
     ]
    },
    {
     "name": "stderr",
     "output_type": "stream",
     "text": [
      " 24%|██▍       | 24/100 [00:12<00:41,  1.81it/s]"
     ]
    },
    {
     "name": "stdout",
     "output_type": "stream",
     "text": [
      "skipped\n"
     ]
    },
    {
     "name": "stderr",
     "output_type": "stream",
     "text": [
      " 55%|█████▌    | 55/100 [00:24<00:16,  2.65it/s]"
     ]
    },
    {
     "name": "stdout",
     "output_type": "stream",
     "text": [
      "skipped\n"
     ]
    },
    {
     "name": "stderr",
     "output_type": "stream",
     "text": [
      " 57%|█████▋    | 57/100 [00:26<00:17,  2.40it/s]"
     ]
    },
    {
     "name": "stdout",
     "output_type": "stream",
     "text": [
      "skipped\n"
     ]
    },
    {
     "name": "stderr",
     "output_type": "stream",
     "text": [
      " 64%|██████▍   | 64/100 [00:29<00:14,  2.52it/s]"
     ]
    },
    {
     "name": "stdout",
     "output_type": "stream",
     "text": [
      "skipped\n"
     ]
    },
    {
     "name": "stderr",
     "output_type": "stream",
     "text": [
      "100%|██████████| 100/100 [00:42<00:00,  2.33it/s]\n",
      "100%|██████████| 100/100 [00:43<00:00,  2.29it/s]\n",
      "100%|██████████| 100/100 [00:43<00:00,  2.28it/s]\n",
      "100%|██████████| 100/100 [00:44<00:00,  2.26it/s]\n",
      "100%|██████████| 100/100 [00:45<00:00,  2.21it/s]\n",
      "100%|██████████| 100/100 [00:45<00:00,  2.18it/s]\n",
      "100%|██████████| 100/100 [00:45<00:00,  2.18it/s]\n",
      "100%|██████████| 100/100 [00:46<00:00,  2.14it/s]\n",
      "100%|██████████| 100/100 [00:47<00:00,  2.13it/s]\n",
      "100%|██████████| 100/100 [00:47<00:00,  2.13it/s]\n",
      "  2%|▏         | 2/100 [00:01<01:03,  1.55it/s]"
     ]
    },
    {
     "name": "stdout",
     "output_type": "stream",
     "text": [
      "skipped\n"
     ]
    },
    {
     "name": "stderr",
     "output_type": "stream",
     "text": [
      "  3%|▎         | 3/100 [00:02<01:26,  1.12it/s]"
     ]
    },
    {
     "name": "stdout",
     "output_type": "stream",
     "text": [
      "skipped\n"
     ]
    },
    {
     "name": "stderr",
     "output_type": "stream",
     "text": [
      " 24%|██▍       | 24/100 [00:09<00:22,  3.34it/s]"
     ]
    },
    {
     "name": "stdout",
     "output_type": "stream",
     "text": [
      "skipped\n"
     ]
    },
    {
     "name": "stderr",
     "output_type": "stream",
     "text": [
      "100%|██████████| 100/100 [00:41<00:00,  2.40it/s]\n",
      "100%|██████████| 100/100 [00:41<00:00,  2.38it/s]\n",
      "100%|██████████| 100/100 [00:42<00:00,  2.34it/s]\n",
      "100%|██████████| 100/100 [00:43<00:00,  2.30it/s]\n",
      "100%|██████████| 100/100 [00:43<00:00,  2.28it/s]\n",
      "100%|██████████| 100/100 [00:44<00:00,  2.27it/s]\n",
      "100%|██████████| 100/100 [00:44<00:00,  2.23it/s]\n",
      "100%|██████████| 100/100 [00:45<00:00,  2.19it/s]\n",
      "100%|██████████| 100/100 [00:45<00:00,  2.18it/s]\n",
      "100%|██████████| 100/100 [00:48<00:00,  2.07it/s]\n",
      " 29%|██▉       | 29/100 [00:12<00:30,  2.34it/s]"
     ]
    },
    {
     "name": "stdout",
     "output_type": "stream",
     "text": [
      "skipped\n"
     ]
    },
    {
     "name": "stderr",
     "output_type": "stream",
     "text": [
      " 82%|████████▏ | 82/100 [00:36<00:09,  1.82it/s]"
     ]
    },
    {
     "name": "stdout",
     "output_type": "stream",
     "text": [
      "skipped\n"
     ]
    },
    {
     "name": "stderr",
     "output_type": "stream",
     "text": [
      "100%|██████████| 100/100 [00:43<00:00,  2.27it/s]\n",
      "100%|██████████| 100/100 [00:44<00:00,  2.25it/s]\n",
      "100%|██████████| 100/100 [00:44<00:00,  2.24it/s]\n",
      "100%|██████████| 100/100 [00:45<00:00,  2.19it/s]\n",
      "100%|██████████| 100/100 [00:45<00:00,  2.19it/s]\n",
      "100%|██████████| 100/100 [00:46<00:00,  2.17it/s]\n",
      "100%|██████████| 100/100 [00:46<00:00,  2.16it/s]\n",
      "100%|██████████| 100/100 [00:46<00:00,  2.16it/s]\n",
      "100%|██████████| 100/100 [00:46<00:00,  2.16it/s]\n",
      "100%|██████████| 100/100 [00:46<00:00,  2.13it/s]\n",
      " 21%|██        | 21/100 [00:11<00:32,  2.47it/s]"
     ]
    },
    {
     "name": "stdout",
     "output_type": "stream",
     "text": [
      "skipped\n"
     ]
    },
    {
     "name": "stderr",
     "output_type": "stream",
     "text": [
      "100%|██████████| 100/100 [00:43<00:00,  2.30it/s]\n",
      "100%|██████████| 100/100 [00:43<00:00,  2.30it/s]\n",
      "100%|██████████| 100/100 [00:43<00:00,  2.29it/s]\n",
      "100%|██████████| 100/100 [00:43<00:00,  2.28it/s]\n",
      "100%|██████████| 100/100 [00:44<00:00,  2.22it/s]\n",
      "100%|██████████| 100/100 [00:45<00:00,  2.21it/s]\n",
      "100%|██████████| 100/100 [00:45<00:00,  2.19it/s]\n",
      "100%|██████████| 100/100 [00:46<00:00,  2.13it/s]\n",
      "100%|██████████| 100/100 [00:47<00:00,  2.09it/s]\n",
      "100%|██████████| 100/100 [00:47<00:00,  2.09it/s]\n",
      " 10%|█         | 10/100 [00:05<00:45,  1.96it/s]"
     ]
    },
    {
     "name": "stdout",
     "output_type": "stream",
     "text": [
      "skipped\n"
     ]
    },
    {
     "name": "stderr",
     "output_type": "stream",
     "text": [
      " 78%|███████▊  | 78/100 [00:39<00:10,  2.11it/s]"
     ]
    },
    {
     "name": "stdout",
     "output_type": "stream",
     "text": [
      "skipped\n"
     ]
    },
    {
     "name": "stderr",
     "output_type": "stream",
     "text": [
      "100%|██████████| 100/100 [00:41<00:00,  2.39it/s]\n",
      "100%|██████████| 100/100 [00:42<00:00,  2.34it/s]\n",
      "100%|██████████| 100/100 [00:43<00:00,  2.29it/s]\n",
      "100%|██████████| 100/100 [00:45<00:00,  2.21it/s]\n",
      "100%|██████████| 100/100 [00:46<00:00,  2.17it/s]\n",
      "100%|██████████| 100/100 [00:46<00:00,  2.16it/s]\n",
      "100%|██████████| 100/100 [00:46<00:00,  2.16it/s]\n",
      "100%|██████████| 100/100 [00:46<00:00,  2.16it/s]\n",
      "100%|██████████| 100/100 [00:46<00:00,  2.14it/s]\n",
      "100%|██████████| 100/100 [00:47<00:00,  2.11it/s]\n",
      " 29%|██▉       | 29/100 [00:14<00:30,  2.30it/s]"
     ]
    },
    {
     "name": "stdout",
     "output_type": "stream",
     "text": [
      "skipped\n"
     ]
    },
    {
     "name": "stderr",
     "output_type": "stream",
     "text": [
      " 79%|███████▉  | 79/100 [00:36<00:08,  2.43it/s]"
     ]
    },
    {
     "name": "stdout",
     "output_type": "stream",
     "text": [
      "skipped\n"
     ]
    },
    {
     "name": "stderr",
     "output_type": "stream",
     "text": [
      "100%|██████████| 100/100 [00:42<00:00,  2.33it/s]\n",
      "100%|██████████| 100/100 [00:43<00:00,  2.30it/s]\n",
      "100%|██████████| 100/100 [00:44<00:00,  2.27it/s]\n",
      "100%|██████████| 100/100 [00:44<00:00,  2.25it/s]\n",
      "100%|██████████| 100/100 [00:44<00:00,  2.24it/s]\n",
      "100%|██████████| 100/100 [00:45<00:00,  2.21it/s]\n",
      "100%|██████████| 100/100 [00:45<00:00,  2.20it/s]\n",
      "100%|██████████| 100/100 [00:46<00:00,  2.16it/s]\n",
      "100%|██████████| 100/100 [00:46<00:00,  2.15it/s]\n",
      "100%|██████████| 100/100 [00:46<00:00,  2.14it/s]\n",
      " 89%|████████▉ | 89/100 [00:41<00:04,  2.26it/s]"
     ]
    },
    {
     "name": "stdout",
     "output_type": "stream",
     "text": [
      "skipped\n"
     ]
    },
    {
     "name": "stderr",
     "output_type": "stream",
     "text": [
      "100%|██████████| 100/100 [00:44<00:00,  2.26it/s]\n",
      "100%|██████████| 100/100 [00:44<00:00,  2.24it/s]\n",
      "100%|██████████| 100/100 [00:45<00:00,  2.21it/s]\n",
      "100%|██████████| 100/100 [00:45<00:00,  2.20it/s]\n",
      "100%|██████████| 100/100 [00:45<00:00,  2.18it/s]\n",
      "100%|██████████| 100/100 [00:46<00:00,  2.16it/s]\n",
      "100%|██████████| 100/100 [00:46<00:00,  2.15it/s]\n",
      "100%|██████████| 100/100 [00:46<00:00,  2.15it/s]\n",
      "100%|██████████| 100/100 [00:46<00:00,  2.14it/s]\n",
      "100%|██████████| 100/100 [00:47<00:00,  2.13it/s]\n",
      " 16%|█▌        | 16/100 [00:07<00:43,  1.95it/s]"
     ]
    },
    {
     "name": "stdout",
     "output_type": "stream",
     "text": [
      "skipped\n"
     ]
    },
    {
     "name": "stderr",
     "output_type": "stream",
     "text": [
      " 48%|████▊     | 48/100 [00:22<00:22,  2.31it/s]"
     ]
    },
    {
     "name": "stdout",
     "output_type": "stream",
     "text": [
      "skipped\n"
     ]
    },
    {
     "name": "stderr",
     "output_type": "stream",
     "text": [
      " 83%|████████▎ | 83/100 [00:39<00:05,  3.18it/s]"
     ]
    },
    {
     "name": "stdout",
     "output_type": "stream",
     "text": [
      "skipped\n"
     ]
    },
    {
     "name": "stderr",
     "output_type": "stream",
     "text": [
      "100%|██████████| 100/100 [00:43<00:00,  2.32it/s]\n",
      "100%|██████████| 100/100 [00:44<00:00,  2.25it/s]\n",
      "100%|██████████| 100/100 [00:45<00:00,  2.21it/s]\n",
      "100%|██████████| 100/100 [00:45<00:00,  2.20it/s]\n",
      "100%|██████████| 100/100 [00:45<00:00,  2.19it/s]\n",
      "100%|██████████| 100/100 [00:45<00:00,  2.18it/s]\n",
      "100%|██████████| 100/100 [00:46<00:00,  2.17it/s]\n",
      "100%|██████████| 100/100 [00:46<00:00,  2.16it/s]\n",
      "100%|██████████| 100/100 [00:46<00:00,  2.16it/s]\n",
      "100%|██████████| 100/100 [00:46<00:00,  2.14it/s]\n",
      " 36%|███▌      | 36/100 [00:15<00:29,  2.18it/s]"
     ]
    },
    {
     "name": "stdout",
     "output_type": "stream",
     "text": [
      "skipped\n"
     ]
    },
    {
     "name": "stderr",
     "output_type": "stream",
     "text": [
      " 40%|████      | 40/100 [00:19<00:34,  1.72it/s]"
     ]
    },
    {
     "name": "stdout",
     "output_type": "stream",
     "text": [
      "skipped\n"
     ]
    },
    {
     "name": "stderr",
     "output_type": "stream",
     "text": [
      "100%|██████████| 100/100 [00:42<00:00,  2.37it/s]\n",
      "100%|██████████| 100/100 [00:43<00:00,  2.31it/s]\n",
      " 99%|█████████▉| 99/100 [00:43<00:00,  2.17it/s]"
     ]
    },
    {
     "name": "stdout",
     "output_type": "stream",
     "text": [
      "skipped\n"
     ]
    },
    {
     "name": "stderr",
     "output_type": "stream",
     "text": [
      "100%|██████████| 100/100 [00:43<00:00,  2.28it/s]\n",
      "100%|██████████| 100/100 [00:44<00:00,  2.25it/s]\n",
      "100%|██████████| 100/100 [00:45<00:00,  2.22it/s]\n",
      "100%|██████████| 100/100 [00:45<00:00,  2.18it/s]\n",
      "100%|██████████| 100/100 [00:45<00:00,  2.18it/s]\n",
      "100%|██████████| 100/100 [00:46<00:00,  2.13it/s]\n",
      "100%|██████████| 100/100 [00:47<00:00,  2.11it/s]\n",
      "100%|██████████| 100/100 [00:48<00:00,  2.07it/s]\n",
      "100%|██████████| 57/57 [00:23<00:00,  2.46it/s]\n",
      "100%|██████████| 57/57 [00:24<00:00,  2.34it/s]\n",
      "100%|██████████| 57/57 [00:25<00:00,  2.24it/s]\n",
      "100%|██████████| 57/57 [00:25<00:00,  2.22it/s]\n",
      "100%|██████████| 57/57 [00:25<00:00,  2.20it/s]\n",
      "100%|██████████| 57/57 [00:25<00:00,  2.20it/s]\n",
      "100%|██████████| 57/57 [00:25<00:00,  2.20it/s]\n",
      "100%|██████████| 57/57 [00:26<00:00,  2.19it/s]\n",
      "100%|██████████| 57/57 [00:26<00:00,  2.15it/s]\n",
      "100%|██████████| 9/9 [00:03<00:00,  2.95it/s]\n",
      "100%|██████████| 57/57 [00:26<00:00,  2.13it/s]\n"
     ]
    }
   ],
   "source": [
    "for i in range(0, len(txts), 1000):\n",
    "    index = min(i + 1000, len(txts))\n",
    "    b = txts[i: index]\n",
    "    results = mp.multiprocessing(b, process, cores = 10, returned = True)\n",
    "    for result in results:\n",
    "        audios.extend(result[0])\n",
    "        mels.extend(result[1])\n",
    "        text_ids.extend(result[2])\n",
    "        f0s.extend(result[3])\n",
    "        energies.extend(result[4])"
   ]
  },
  {
   "cell_type": "code",
   "execution_count": 15,
   "metadata": {},
   "outputs": [],
   "source": [
    "scaler_mel = StandardScaler(copy=False)\n",
    "scaler_energy = StandardScaler(copy=False)\n",
    "scaler_f0 = StandardScaler(copy=False)\n",
    "\n",
    "for mel, f0, energy in zip(mels, f0s, energies):\n",
    "\n",
    "    scaler_mel.partial_fit(mel)\n",
    "    scaler_energy.partial_fit(energy[energy != 0].reshape(-1, 1))\n",
    "    scaler_f0.partial_fit(f0[f0 != 0].reshape(-1, 1))"
   ]
  },
  {
   "cell_type": "code",
   "execution_count": 16,
   "metadata": {},
   "outputs": [
    {
     "name": "stderr",
     "output_type": "stream",
     "text": [
      "100%|██████████| 12547/12547 [00:05<00:00, 2285.21it/s]\n"
     ]
    }
   ],
   "source": [
    "for i in tqdm(range(len(mels))):\n",
    "    mels[i] = scaler_mel.transform(mels[i])"
   ]
  },
  {
   "cell_type": "code",
   "execution_count": 17,
   "metadata": {},
   "outputs": [],
   "source": [
    "def save_statistics_to_file(scaler_list, config):\n",
    "    os.system('mkdir stats-female')\n",
    "    for scaler, name in scaler_list:\n",
    "        stats = np.stack((scaler.mean_, scaler.scale_))\n",
    "        np.save(\n",
    "            os.path.join(f\"stats-female/stats{name}.npy\"),\n",
    "            stats.astype(np.float32),\n",
    "            allow_pickle=False,\n",
    "        )"
   ]
  },
  {
   "cell_type": "code",
   "execution_count": 18,
   "metadata": {},
   "outputs": [],
   "source": [
    "scaler_list = [(scaler_mel, \"\"), (scaler_energy, \"_energy\"), (scaler_f0, \"_f0\")]\n",
    "save_statistics_to_file(scaler_list, config)"
   ]
  },
  {
   "cell_type": "code",
   "execution_count": 19,
   "metadata": {},
   "outputs": [],
   "source": [
    "!rm -rf output-female"
   ]
  },
  {
   "cell_type": "code",
   "execution_count": 20,
   "metadata": {},
   "outputs": [],
   "source": [
    "os.system('mkdir output-female')\n",
    "directories = ['audios', 'mels', 'text_ids', 'f0s', 'energies']\n",
    "for d in directories:\n",
    "    os.system(f'mkdir output-female/{d}')"
   ]
  },
  {
   "cell_type": "code",
   "execution_count": 21,
   "metadata": {},
   "outputs": [
    {
     "name": "stderr",
     "output_type": "stream",
     "text": [
      "100%|██████████| 12547/12547 [01:49<00:00, 114.45it/s]\n"
     ]
    }
   ],
   "source": [
    "for i in tqdm(range(len(mels))):\n",
    "    np.save(f'output-female/audios/{i}.npy', audios[i])\n",
    "    np.save(f'output-female/mels/{i}.npy', mels[i])\n",
    "    np.save(f'output-female/text_ids/{i}.npy', text_ids[i])\n",
    "    np.save(f'output-female/f0s/{i}.npy', f0s[i])\n",
    "    np.save(f'output-female/energies/{i}.npy', energies[i])"
   ]
  }
 ],
 "metadata": {
  "kernelspec": {
   "display_name": "Python 3",
   "language": "python",
   "name": "python3"
  },
  "language_info": {
   "codemirror_mode": {
    "name": "ipython",
    "version": 3
   },
   "file_extension": ".py",
   "mimetype": "text/x-python",
   "name": "python",
   "nbconvert_exporter": "python",
   "pygments_lexer": "ipython3",
   "version": "3.6.8"
  }
 },
 "nbformat": 4,
 "nbformat_minor": 2
}

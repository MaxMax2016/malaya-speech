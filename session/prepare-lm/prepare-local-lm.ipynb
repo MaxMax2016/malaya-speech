{
 "cells": [
  {
   "cell_type": "code",
   "execution_count": 1,
   "metadata": {},
   "outputs": [],
   "source": [
    "# !wget https://f000.backblazeb2.com/file/malaya-speech-model/v1/vocab/iium.json"
   ]
  },
  {
   "cell_type": "code",
   "execution_count": 1,
   "metadata": {},
   "outputs": [],
   "source": [
    "import json\n",
    "\n",
    "with open('iium.json') as fopen:\n",
    "    iium = json.load(fopen)"
   ]
  },
  {
   "cell_type": "code",
   "execution_count": 2,
   "metadata": {},
   "outputs": [
    {
     "data": {
      "text/plain": [
       "['Assalammualaikum. Aku, wanita yang telah 5 tahun berkahwin dan masih belum mempunyai zuriat.',\n",
       " 'Siapa kahwin tak nak anak kan?',\n",
       " 'Begitu jugak aku dan suami.',\n",
       " 'Aku kesian kat suami aku yang sangat ingin zuriat.',\n",
       " 'Tapi dia tak pernah bersuara hal zuriat sebab tak nak aku tertekan.',\n",
       " 'Aku tahu semuanya berpunca daripada aku.',\n",
       " 'Aku tak mampu memberikan zuriat pada suami sebab penyakit yang aku deritai iaitu SLE.',\n",
       " 'Terasa tidak sempurna diri ini, bukan saja mempunyai penyakit yang tiada ubat penyembuh,terpaksa bergantung pada ubat dan lebih menyedihkan aku masih tak mampu memberikan zuriat pada suami aku.',\n",
       " 'SLE adalah penyakit kronik \"autoimmune\" di mana antibodi seseorang bertindakbalas dengan tisu badan seseorang pesakit itu sendiri.',\n",
       " 'Ini menjejaskan beberapa bahagian sistem tubuh seperti kulit, sendi, buah pinggang, paru-paru, sistem saraf, atau organ-organ lain di dalam badan.']"
      ]
     },
     "execution_count": 2,
     "metadata": {},
     "output_type": "execute_result"
    }
   ],
   "source": [
    "iium[:10]"
   ]
  },
  {
   "cell_type": "code",
   "execution_count": 3,
   "metadata": {},
   "outputs": [],
   "source": [
    "import unicodedata\n",
    "import re\n",
    "\n",
    "\n",
    "def preprocessing_text(string, reject = ',.!?#@\\U0001f9da_，é)^🍪❤！' + '️'):\n",
    "    for c in reject:\n",
    "        string = string.replace(c, ' ')\n",
    "        \n",
    "    string = unicodedata.normalize('NFC', string.lower())\n",
    "    return re.sub(r'[ ]+', ' ', string).strip()"
   ]
  },
  {
   "cell_type": "code",
   "execution_count": 4,
   "metadata": {},
   "outputs": [],
   "source": [
    "cleaned_text = [preprocessing_text(s) for s in iium]"
   ]
  },
  {
   "cell_type": "code",
   "execution_count": 7,
   "metadata": {},
   "outputs": [
    {
     "data": {
      "text/plain": [
       "169830"
      ]
     },
     "execution_count": 7,
     "metadata": {},
     "output_type": "execute_result"
    }
   ],
   "source": [
    "combined = set((' '.join(cleaned_text)).split())\n",
    "len(combined)"
   ]
  },
  {
   "cell_type": "code",
   "execution_count": 9,
   "metadata": {},
   "outputs": [],
   "source": [
    "with open('local.json', 'w') as fopen:\n",
    "    json.dump(list(combined), fopen)"
   ]
  },
  {
   "cell_type": "code",
   "execution_count": 11,
   "metadata": {},
   "outputs": [],
   "source": [
    "with open('cleaned-local.txt', 'w') as fopen:\n",
    "    fopen.write('\\n'.join(cleaned_text))"
   ]
  }
 ],
 "metadata": {
  "kernelspec": {
   "display_name": "Python 3",
   "language": "python",
   "name": "python3"
  },
  "language_info": {
   "codemirror_mode": {
    "name": "ipython",
    "version": 3
   },
   "file_extension": ".py",
   "mimetype": "text/x-python",
   "name": "python",
   "nbconvert_exporter": "python",
   "pygments_lexer": "ipython3",
   "version": "3.6.8"
  }
 },
 "nbformat": 4,
 "nbformat_minor": 2
}

{
 "cells": [
  {
   "cell_type": "code",
   "execution_count": 1,
   "metadata": {},
   "outputs": [
    {
     "data": {
      "text/plain": [
       "{'divide': 'warn', 'over': 'warn', 'under': 'ignore', 'invalid': 'warn'}"
      ]
     },
     "execution_count": 1,
     "metadata": {},
     "output_type": "execute_result"
    }
   ],
   "source": [
    "import tensorflow as tf\n",
    "import malaya_speech.augmentation.waveform as augmentation\n",
    "import malaya_speech\n",
    "from glob import glob\n",
    "import random\n",
    "import numpy as np\n",
    "import IPython.display as ipd\n",
    "\n",
    "np.seterr(all='raise')"
   ]
  },
  {
   "cell_type": "code",
   "execution_count": 2,
   "metadata": {},
   "outputs": [],
   "source": [
    "files = glob('../youtube/clean-wav/*.wav')\n",
    "random.shuffle(files)\n",
    "len(files)\n",
    "\n",
    "noises = glob('../noise-44k/noise/*.wav') + glob('../noise-44k/clean-wav/*.wav')\n",
    "basses = glob('HHDS/Sources/**/*bass.wav', recursive = True)\n",
    "drums = glob('HHDS/Sources/**/*drums.wav', recursive = True)\n",
    "others = glob('HHDS/Sources/**/*other.wav', recursive = True)\n",
    "noises = noises + basses + drums + others\n",
    "random.shuffle(noises)"
   ]
  },
  {
   "cell_type": "code",
   "execution_count": 3,
   "metadata": {},
   "outputs": [],
   "source": [
    "def read_wav(f):\n",
    "    return malaya_speech.load(f, sr = 44100)\n",
    "\n",
    "\n",
    "def random_sampling(s, length):\n",
    "    return augmentation.random_sampling(s, sr = 44100, length = length)\n",
    "\n",
    "\n",
    "def combine_speakers(files, n = 5):\n",
    "    w_samples = random.sample(files, n)\n",
    "    w_samples = [\n",
    "        random_sampling(\n",
    "            read_wav(f)[0],\n",
    "            length = min(\n",
    "                random.randint(20000 // n, 240_000 // n), 100_000 // n\n",
    "            ),\n",
    "        )\n",
    "        for f in w_samples\n",
    "    ]\n",
    "    y = [w_samples[0]]\n",
    "    left = w_samples[0].copy() * random.uniform(0.5, 1.0)\n",
    "    for i in range(1, n):\n",
    "\n",
    "        right = w_samples[i].copy() * random.uniform(0.5, 1.0)\n",
    "\n",
    "        overlap = random.uniform(0.01, 1.25)\n",
    "        left_len = int(overlap * len(left))\n",
    "\n",
    "        padded_right = np.pad(right, (left_len, 0))\n",
    "\n",
    "        if len(left) > len(padded_right):\n",
    "            padded_right = np.pad(\n",
    "                padded_right, (0, len(left) - len(padded_right))\n",
    "            )\n",
    "        else:\n",
    "            left = np.pad(left, (0, len(padded_right) - len(left)))\n",
    "\n",
    "        y.append(padded_right)\n",
    "        left = left + padded_right\n",
    "    return left, y\n",
    "\n",
    "\n",
    "def calc(signal, seed, add_uniform = False):\n",
    "    random.seed(seed)\n",
    "\n",
    "    choice = random.randint(0, 12)\n",
    "    if choice == 0:\n",
    "\n",
    "        x = augmentation.sox_augment_high(\n",
    "            signal,\n",
    "            min_bass_gain = random.randint(25, 50),\n",
    "            reverberance = random.randint(0, 80),\n",
    "            hf_damping = 10,\n",
    "            room_scale = random.randint(0, 50),\n",
    "            negate = 1,\n",
    "        )\n",
    "    if choice == 1:\n",
    "        x = augmentation.sox_augment_high(\n",
    "            signal,\n",
    "            min_bass_gain = random.randint(25, 70),\n",
    "            reverberance = random.randint(0, 80),\n",
    "            hf_damping = 10,\n",
    "            room_scale = random.randint(0, 50),\n",
    "            negate = 0,\n",
    "        )\n",
    "    if choice == 2:\n",
    "        x = augmentation.sox_augment_low(\n",
    "            signal,\n",
    "            min_bass_gain = random.randint(5, 30),\n",
    "            reverberance = random.randint(0, 80),\n",
    "            hf_damping = 10,\n",
    "            room_scale = random.randint(0, 50),\n",
    "            negate = random.randint(0, 1),\n",
    "        )\n",
    "    if choice == 3:\n",
    "        x = augmentation.sox_augment_combine(\n",
    "            signal,\n",
    "            min_bass_gain_high = random.randint(25, 70),\n",
    "            min_bass_gain_low = random.randint(5, 30),\n",
    "            reverberance = random.randint(0, 80),\n",
    "            hf_damping = 10,\n",
    "            room_scale = random.randint(0, 90),\n",
    "        )\n",
    "    if choice == 4:\n",
    "        x = augmentation.sox_reverb(\n",
    "            signal,\n",
    "            reverberance = random.randint(10, 80),\n",
    "            hf_damping = 10,\n",
    "            room_scale = random.randint(10, 90),\n",
    "        )\n",
    "    if choice > 4:\n",
    "        x = signal\n",
    "\n",
    "    if random.random() > 0.7 and add_uniform:\n",
    "        x = augmentation.add_uniform_noise(\n",
    "            x, power = random.uniform(0.005, 0.015)\n",
    "        )\n",
    "\n",
    "    return x"
   ]
  },
  {
   "cell_type": "code",
   "execution_count": 4,
   "metadata": {},
   "outputs": [],
   "source": [
    "def parallel(f):\n",
    "    y = random_sampling(\n",
    "        read_wav(f)[0], length = random.randint(30000, 100_000)\n",
    "    )\n",
    "\n",
    "    n = combine_speakers(noises, random.randint(1, 20))[0]\n",
    "    seed = random.randint(0, 100_000_000)\n",
    "    y = calc(y, seed)\n",
    "    n = calc(n, seed, True)\n",
    "    combined, noise = augmentation.add_noise(\n",
    "        y, n, factor = random.uniform(0.1, 0.9), return_noise = True\n",
    "    )\n",
    "    return combined, y, noise"
   ]
  },
  {
   "cell_type": "code",
   "execution_count": 5,
   "metadata": {},
   "outputs": [],
   "source": [
    "r = parallel(files[0])"
   ]
  },
  {
   "cell_type": "code",
   "execution_count": 6,
   "metadata": {},
   "outputs": [],
   "source": [
    "# sr = 44100\n",
    "# ipd.Audio(r[0][:10 * sr], rate = sr)"
   ]
  },
  {
   "cell_type": "code",
   "execution_count": 7,
   "metadata": {},
   "outputs": [],
   "source": [
    "# ipd.Audio(r[1][:10 * sr], rate = sr)"
   ]
  },
  {
   "cell_type": "code",
   "execution_count": 8,
   "metadata": {},
   "outputs": [],
   "source": [
    "# ipd.Audio(r[2][:10 * sr], rate = sr)"
   ]
  },
  {
   "cell_type": "code",
   "execution_count": 9,
   "metadata": {},
   "outputs": [
    {
     "name": "stderr",
     "output_type": "stream",
     "text": [
      "100%|██████████| 100/100 [02:32<00:00,  1.53s/it]\n"
     ]
    }
   ],
   "source": [
    "from tqdm import tqdm\n",
    "\n",
    "results = []\n",
    "for i in tqdm(range(100)):\n",
    "    try:\n",
    "        results.append(parallel(files[i]))\n",
    "    except:\n",
    "        pass"
   ]
  },
  {
   "cell_type": "code",
   "execution_count": 10,
   "metadata": {},
   "outputs": [],
   "source": [
    "import pickle\n",
    "\n",
    "with open('test-set-noise-reduction.pkl', 'wb') as fopen:\n",
    "    pickle.dump(results, fopen)"
   ]
  }
 ],
 "metadata": {
  "kernelspec": {
   "display_name": "Python 3",
   "language": "python",
   "name": "python3"
  },
  "language_info": {
   "codemirror_mode": {
    "name": "ipython",
    "version": 3
   },
   "file_extension": ".py",
   "mimetype": "text/x-python",
   "name": "python",
   "nbconvert_exporter": "python",
   "pygments_lexer": "ipython3",
   "version": "3.6.8"
  }
 },
 "nbformat": 4,
 "nbformat_minor": 2
}

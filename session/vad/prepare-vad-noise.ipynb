{
 "cells": [
  {
   "cell_type": "code",
   "execution_count": 1,
   "metadata": {},
   "outputs": [],
   "source": [
    "# %matplotlib\n",
    "# !git reset master --hard && git pull"
   ]
  },
  {
   "cell_type": "code",
   "execution_count": 2,
   "metadata": {},
   "outputs": [],
   "source": [
    "# !wget http://www.openslr.org/resources/12/dev-clean.tar.gz\n",
    "# !tar -zxf dev-clean.tar.gz"
   ]
  },
  {
   "cell_type": "code",
   "execution_count": 3,
   "metadata": {},
   "outputs": [],
   "source": [
    "# !wget https://raw.githubusercontent.com/pyannote/pyannote-audio/develop/tutorials/data_preparation/download_ami.sh\n",
    "# !mkdir ami\n",
    "# !bash download_ami.sh ami"
   ]
  },
  {
   "cell_type": "code",
   "execution_count": 4,
   "metadata": {},
   "outputs": [],
   "source": [
    "# !wget https://raw.githubusercontent.com/pyannote/pyannote-audio/develop/tutorials/data_preparation/AMI/MixHeadset.development.rttm\n",
    "# !wget https://raw.githubusercontent.com/pyannote/pyannote-audio/develop/tutorials/data_preparation/AMI/MixHeadset.test.rttm\n",
    "# !wget https://raw.githubusercontent.com/pyannote/pyannote-audio/develop/tutorials/data_preparation/AMI/MixHeadset.train.rttm"
   ]
  },
  {
   "cell_type": "code",
   "execution_count": 5,
   "metadata": {},
   "outputs": [
    {
     "data": {
      "text/plain": [
       "{'divide': 'warn', 'over': 'warn', 'under': 'ignore', 'invalid': 'warn'}"
      ]
     },
     "execution_count": 5,
     "metadata": {},
     "output_type": "execute_result"
    }
   ],
   "source": [
    "import malaya_speech.train as train\n",
    "import numpy as np\n",
    "import malaya_speech\n",
    "from tqdm import tqdm\n",
    "import random\n",
    "\n",
    "np.seterr(divide='raise', invalid='raise')"
   ]
  },
  {
   "cell_type": "code",
   "execution_count": 6,
   "metadata": {},
   "outputs": [],
   "source": [
    "import librosa\n",
    "\n",
    "def random_stretch(samples, low = 0.5, high = 1.3):\n",
    "    input_length = len(samples)\n",
    "    stretching = samples.copy()\n",
    "    random_stretch = np.random.uniform(low = low, high = high)\n",
    "    stretching = librosa.effects.time_stretch(\n",
    "        stretching.astype('float'), random_stretch\n",
    "    )\n",
    "    return stretching\n",
    "\n",
    "def random_pitch(samples, low = 0.5, high = 1.0):\n",
    "    y_pitch_speed = samples.copy()\n",
    "    length_change = np.random.uniform(low = low, high = high)\n",
    "    speed_fac = 1.0 / length_change\n",
    "    tmp = np.interp(\n",
    "        np.arange(0, len(y_pitch_speed), speed_fac),\n",
    "        np.arange(0, len(y_pitch_speed)),\n",
    "        y_pitch_speed,\n",
    "    )\n",
    "    minlen = min(y_pitch_speed.shape[0], tmp.shape[0])\n",
    "    y_pitch_speed *= 0\n",
    "    y_pitch_speed[:minlen] = tmp[:minlen]\n",
    "    return y_pitch_speed"
   ]
  },
  {
   "cell_type": "code",
   "execution_count": 7,
   "metadata": {},
   "outputs": [],
   "source": [
    "import pandas as pd\n",
    "import random\n",
    "from tqdm import tqdm\n",
    "from glob import glob\n",
    "\n",
    "maxlen = 0.3\n",
    "selected_frames = [30, 90]\n",
    "functions = [random_pitch, random_stretch]"
   ]
  },
  {
   "cell_type": "code",
   "execution_count": 8,
   "metadata": {},
   "outputs": [
    {
     "name": "stderr",
     "output_type": "stream",
     "text": [
      "100%|██████████| 182/182 [00:37<00:00,  4.86it/s]\n"
     ]
    },
    {
     "data": {
      "text/plain": [
       "182"
      ]
     },
     "execution_count": 8,
     "metadata": {},
     "output_type": "execute_result"
    }
   ],
   "source": [
    "noises_files = glob('../noise/noise/*.wav')\n",
    "noises = [malaya_speech.astype.int_to_float(malaya_speech.utils.read.wav(n)[0]) for n in tqdm(noises_files)]\n",
    "noises = [n for n in noises]\n",
    "len(noises)"
   ]
  },
  {
   "cell_type": "code",
   "execution_count": 9,
   "metadata": {},
   "outputs": [],
   "source": [
    "def generator(sr = 16000):\n",
    "        \n",
    "    for i in tqdm(range(len(noises))):\n",
    "        print(noises_files[i])\n",
    "        x, y = [], []\n",
    "        \n",
    "        fs = malaya_speech.utils.generator.frames(noises[i], int(maxlen * 100), sr, False)\n",
    "        x.extend([f.array for f in fs])\n",
    "        y.extend([0] * len(fs))\n",
    "        \n",
    "        for s in selected_frames:\n",
    "            fs = malaya_speech.utils.generator.frames(noises[i], s, sr, False)\n",
    "            x.extend([f.array for f in fs])\n",
    "            y.extend([0] * len(fs))\n",
    "            \n",
    "        print(len(x))\n",
    "            \n",
    "#         for k in range(len(x)):\n",
    "#             for _ in range(random.randint(0, 3)):\n",
    "#                 for f in functions:\n",
    "#                     x.append(f(x[k]))\n",
    "#                     y.append(y[k])\n",
    "                    \n",
    "#         print(len(x))\n",
    "                    \n",
    "        for k in range(len(x)):\n",
    "\n",
    "            yield {\n",
    "                'waveforms': x[k].tolist(),\n",
    "                'targets': [int(y[k])],\n",
    "            }\n",
    "            \n",
    "        \n",
    "generator = generator()"
   ]
  },
  {
   "cell_type": "code",
   "execution_count": 10,
   "metadata": {},
   "outputs": [],
   "source": [
    "import os\n",
    "import tensorflow as tf\n",
    "\n",
    "os.system('rm noise/data/*')\n",
    "DATA_DIR = os.path.expanduser('noise/data')\n",
    "tf.gfile.MakeDirs(DATA_DIR)"
   ]
  },
  {
   "cell_type": "code",
   "execution_count": 11,
   "metadata": {
    "scrolled": true
   },
   "outputs": [
    {
     "name": "stdout",
     "output_type": "stream",
     "text": [
      "WARNING:tensorflow:From /home/husein/malaya-speech/malaya_speech/train/prepare_data.py:89: The name tf.gfile.Exists is deprecated. Please use tf.io.gfile.exists instead.\n",
      "\n",
      "WARNING:tensorflow:From /home/husein/malaya-speech/malaya_speech/train/prepare_data.py:199: The name tf.python_io.TFRecordWriter is deprecated. Please use tf.io.TFRecordWriter instead.\n",
      "\n"
     ]
    },
    {
     "name": "stderr",
     "output_type": "stream",
     "text": [
      "  0%|          | 0/182 [00:00<?, ?it/s]"
     ]
    },
    {
     "name": "stdout",
     "output_type": "stream",
     "text": [
      "../noise/noise/TOP-10-INTRO-SONGSBest-Intro-Music-2018-(mp3cut.net)-(10).wav\n",
      "763\n",
      "WARNING:tensorflow:From /home/husein/malaya-speech/malaya_speech/train/prepare_data.py:205: The name tf.logging.info is deprecated. Please use tf.compat.v1.logging.info instead.\n",
      "\n",
      "INFO:tensorflow:Generating case 0.\n"
     ]
    },
    {
     "name": "stderr",
     "output_type": "stream",
     "text": [
      "  1%|          | 1/182 [00:00<00:22,  8.01it/s]"
     ]
    },
    {
     "name": "stdout",
     "output_type": "stream",
     "text": [
      "../noise/noise/n72.wav\n",
      "310\n",
      "../noise/noise/Wind-Mic-Distortion-Violent-11.wav\n",
      "749\n"
     ]
    },
    {
     "name": "stderr",
     "output_type": "stream",
     "text": [
      "  2%|▏         | 3/182 [00:00<00:20,  8.76it/s]"
     ]
    },
    {
     "name": "stdout",
     "output_type": "stream",
     "text": [
      "../noise/noise/n80.wav\n",
      "95\n",
      "../noise/noise/Intro-Music-Top-10-Best-Intro-Songs-2017-No-Copyright-Intro-Music-(mp3cut.net)-(9).wav\n",
      "1502\n"
     ]
    },
    {
     "name": "stderr",
     "output_type": "stream",
     "text": [
      "  3%|▎         | 5/182 [00:00<00:21,  8.39it/s]"
     ]
    },
    {
     "name": "stdout",
     "output_type": "stream",
     "text": [
      "../noise/noise/Movement-Noise-Collection.wav\n",
      "1964\n"
     ]
    },
    {
     "name": "stderr",
     "output_type": "stream",
     "text": [
      "  3%|▎         | 6/182 [00:00<00:31,  5.56it/s]"
     ]
    },
    {
     "name": "stdout",
     "output_type": "stream",
     "text": [
      "../noise/noise/n68.wav\n",
      "310\n",
      "../noise/noise/n50.wav\n",
      "182\n",
      "../noise/noise/RE201-017C-CNTCT-MOTOR-Med-Rate-On-Off-Pinch-Roller-Clunk-H1A.wav\n",
      "9044\n"
     ]
    },
    {
     "name": "stderr",
     "output_type": "stream",
     "text": [
      "  5%|▍         | 9/182 [00:02<00:48,  3.55it/s]"
     ]
    },
    {
     "name": "stdout",
     "output_type": "stream",
     "text": [
      "../noise/noise/aXLsound-lo-fi-mic-handling-noise-WIND-ON-MEMBRANE-2.wav\n",
      "2345\n"
     ]
    },
    {
     "name": "stderr",
     "output_type": "stream",
     "text": [
      "  7%|▋         | 12/182 [00:02<00:41,  4.14it/s]"
     ]
    },
    {
     "name": "stdout",
     "output_type": "stream",
     "text": [
      "../noise/noise/n86.wav\n",
      "88\n",
      "../noise/noise/TOP-10-INTRO-SONGSBest-Intro-Music-2018-(mp3cut.net)-(1).wav\n",
      "833\n",
      "../noise/noise/n87.wav\n",
      "259\n",
      "../noise/noise/Free-Music-Intro-Cinematic-2020-(mp3cut.net).wav\n",
      "352\n"
     ]
    },
    {
     "name": "stderr",
     "output_type": "stream",
     "text": [
      "  8%|▊         | 14/182 [00:03<00:30,  5.42it/s]"
     ]
    },
    {
     "name": "stdout",
     "output_type": "stream",
     "text": [
      "../noise/noise/RE201-017B-CNTCT-MOTOR-Low-Rate-On-Off-Pinch-Roller-Clunk-H1A.wav\n",
      "9340\n"
     ]
    },
    {
     "name": "stderr",
     "output_type": "stream",
     "text": [
      "  9%|▉         | 16/182 [00:04<01:02,  2.66it/s]"
     ]
    },
    {
     "name": "stdout",
     "output_type": "stream",
     "text": [
      "../noise/noise/n82.wav\n",
      "140\n",
      "../noise/noise/Mic-ScratchesScratch.wav\n",
      "1439\n"
     ]
    },
    {
     "name": "stderr",
     "output_type": "stream",
     "text": [
      "  9%|▉         | 17/182 [00:04<00:55,  3.00it/s]"
     ]
    },
    {
     "name": "stdout",
     "output_type": "stream",
     "text": [
      "../noise/noise/2-A.M-Study-Session-[lofi-hip-hopchill-beats].wav\n",
      "290752\n",
      "INFO:tensorflow:Generating case 100000.\n",
      "INFO:tensorflow:Generating case 200000.\n",
      "INFO:tensorflow:Generating case 300000.\n"
     ]
    },
    {
     "name": "stderr",
     "output_type": "stream",
     "text": [
      " 10%|█         | 19/182 [00:56<30:05, 11.08s/it]"
     ]
    },
    {
     "name": "stdout",
     "output_type": "stream",
     "text": [
      "../noise/noise/Free-Music-Intro-Cinematic-2020-(mp3cut.net)-(5).wav\n",
      "585\n",
      "../noise/noise/n28.wav\n",
      "268\n",
      "../noise/noise/Free-Music-Intro-Cinematic-2020-(mp3cut.net)-(3).wav\n",
      "865\n"
     ]
    },
    {
     "name": "stderr",
     "output_type": "stream",
     "text": [
      " 12%|█▏        | 21/182 [00:57<20:53,  7.78s/it]"
     ]
    },
    {
     "name": "stdout",
     "output_type": "stream",
     "text": [
      "../noise/noise/n48.wav\n",
      "228\n",
      "../noise/noise/n66.wav\n",
      "72\n",
      "../noise/noise/Intro-Music-Top-10-Best-Intro-Songs-2017-No-Copyright-Intro-Music-(mp3cut.net)-(7).wav\n",
      "1526\n"
     ]
    },
    {
     "name": "stderr",
     "output_type": "stream",
     "text": [
      " 13%|█▎        | 24/182 [00:57<14:25,  5.48s/it]"
     ]
    },
    {
     "name": "stdout",
     "output_type": "stream",
     "text": [
      "../noise/noise/flag-pole-screeching-with-contact-mic-01.wav\n",
      "93681\n",
      "INFO:tensorflow:Generating case 400000.\n"
     ]
    },
    {
     "name": "stderr",
     "output_type": "stream",
     "text": [
      " 14%|█▎        | 25/182 [01:13<22:59,  8.79s/it]"
     ]
    },
    {
     "name": "stdout",
     "output_type": "stream",
     "text": [
      "../noise/noise/RE201-015-CNTCT-CASE-SURFACE-Run-Motor-Engage-H1A.wav\n",
      "10934\n"
     ]
    },
    {
     "name": "stderr",
     "output_type": "stream",
     "text": [
      " 14%|█▍        | 26/182 [01:15<17:32,  6.75s/it]"
     ]
    },
    {
     "name": "stdout",
     "output_type": "stream",
     "text": [
      "../noise/noise/n75.wav\n",
      "163\n",
      "../noise/noise/n56.wav\n",
      "289\n",
      "../noise/noise/Michandlingwalkinginpocket01-MS.wav\n",
      "1180\n"
     ]
    },
    {
     "name": "stderr",
     "output_type": "stream",
     "text": [
      " 16%|█▌        | 29/182 [01:16<12:06,  4.75s/it]"
     ]
    },
    {
     "name": "stdout",
     "output_type": "stream",
     "text": [
      "../noise/noise/Intro-Music-Top-10-Best-Intro-Songs-2017-No-Copyright-Intro-Music-(mp3cut.net)-(2).wav\n",
      "1486\n"
     ]
    },
    {
     "name": "stderr",
     "output_type": "stream",
     "text": [
      " 16%|█▋        | 30/182 [01:16<08:36,  3.40s/it]"
     ]
    },
    {
     "name": "stdout",
     "output_type": "stream",
     "text": [
      "../noise/noise/n43.wav\n",
      "88\n",
      "../noise/noise/n30.wav\n",
      "310\n",
      "../noise/noise/EFX-EXT-Mic-Cable-Coil-Actions.wav\n",
      "2258\n"
     ]
    },
    {
     "name": "stderr",
     "output_type": "stream",
     "text": [
      " 18%|█▊        | 33/182 [01:16<06:00,  2.42s/it]"
     ]
    },
    {
     "name": "stdout",
     "output_type": "stream",
     "text": [
      "../noise/noise/Intro-Music-Top-10-Best-Intro-Songs-2017-No-Copyright-Intro-Music-(mp3cut.net)-(1).wav\n",
      "1425\n"
     ]
    },
    {
     "name": "stderr",
     "output_type": "stream",
     "text": [
      " 19%|█▊        | 34/182 [01:17<04:21,  1.76s/it]"
     ]
    },
    {
     "name": "stdout",
     "output_type": "stream",
     "text": [
      "../noise/noise/Wind-Mic-Distortion-Violent-10.wav\n",
      "2370\n"
     ]
    },
    {
     "name": "stderr",
     "output_type": "stream",
     "text": [
      " 20%|██        | 37/182 [01:17<02:23,  1.01it/s]"
     ]
    },
    {
     "name": "stdout",
     "output_type": "stream",
     "text": [
      "../noise/noise/n78.wav\n",
      "310\n",
      "../noise/noise/TOP-10-INTRO-SONGSBest-Intro-Music-2018-(mp3cut.net)-(2).wav\n",
      "322\n",
      "../noise/noise/n88.wav\n",
      "270\n",
      "../noise/noise/n40.wav\n",
      "200\n",
      "../noise/noise/n16.wav\n",
      "168\n"
     ]
    },
    {
     "name": "stderr",
     "output_type": "stream",
     "text": [
      " 22%|██▏       | 40/182 [01:17<01:40,  1.42it/s]"
     ]
    },
    {
     "name": "stdout",
     "output_type": "stream",
     "text": [
      "../noise/noise/n61.wav\n",
      "149\n",
      "../noise/noise/n18.wav\n",
      "310\n",
      "../noise/noise/RE201-017D-CNTCT-MOTOR-On-Off-High-Rate-Pinch-Roller-Clunk-H1A.wav\n",
      "3420\n"
     ]
    },
    {
     "name": "stderr",
     "output_type": "stream",
     "text": [
      " 25%|██▌       | 46/182 [01:18<00:54,  2.50it/s]"
     ]
    },
    {
     "name": "stdout",
     "output_type": "stream",
     "text": [
      "../noise/noise/n14.wav\n",
      "137\n",
      "../noise/noise/n59.wav\n",
      "310\n",
      "../noise/noise/Microphone_Touch_and_Movement_2.wav\n",
      "156\n",
      "../noise/noise/n76.wav\n",
      "224\n",
      "../noise/noise/Intro-Music-Top-10-Best-Intro-Songs-2017-No-Copyright-Intro-Music-(mp3cut.net)-(3).wav\n",
      "809\n"
     ]
    },
    {
     "name": "stderr",
     "output_type": "stream",
     "text": [
      " 26%|██▋       | 48/182 [01:18<00:40,  3.28it/s]"
     ]
    },
    {
     "name": "stdout",
     "output_type": "stream",
     "text": [
      "../noise/noise/n9.wav\n",
      "191\n",
      "../noise/noise/15-FREE-Cinematic-Sound-Effects-(Opener)-(mp3cut.net).wav\n",
      "2039\n"
     ]
    },
    {
     "name": "stderr",
     "output_type": "stream",
     "text": [
      " 27%|██▋       | 50/182 [01:19<00:35,  3.73it/s]"
     ]
    },
    {
     "name": "stdout",
     "output_type": "stream",
     "text": [
      "../noise/noise/n54.wav\n",
      "135\n",
      "../noise/noise/n53.wav\n",
      "81\n",
      "../noise/noise/n85.wav\n",
      "121\n",
      "../noise/noise/n11.wav\n",
      "128\n",
      "../noise/noise/aXLsound-lo-fi-mic-handling-noise-GUITARTUNER-4.wav\n",
      "1052\n"
     ]
    },
    {
     "name": "stderr",
     "output_type": "stream",
     "text": [
      " 30%|███       | 55/182 [01:19<00:26,  4.73it/s]"
     ]
    },
    {
     "name": "stdout",
     "output_type": "stream",
     "text": [
      "../noise/noise/n35.wav\n",
      "95\n",
      "../noise/noise/Microphone-Handling-Noise-From-Camcorder.wav\n",
      "1600\n"
     ]
    },
    {
     "name": "stderr",
     "output_type": "stream",
     "text": [
      " 33%|███▎      | 60/182 [01:19<00:17,  6.88it/s]"
     ]
    },
    {
     "name": "stdout",
     "output_type": "stream",
     "text": [
      "../noise/noise/n81.wav\n",
      "198\n",
      "../noise/noise/n97.wav\n",
      "261\n",
      "../noise/noise/n21.wav\n",
      "310\n",
      "../noise/noise/Wind-Mic-Distortion-Violent-8.wav\n",
      "1939\n"
     ]
    },
    {
     "name": "stderr",
     "output_type": "stream",
     "text": [
      " 34%|███▍      | 62/182 [01:20<00:18,  6.62it/s]"
     ]
    },
    {
     "name": "stdout",
     "output_type": "stream",
     "text": [
      "../noise/noise/15-FREE-Cinematic-Sound-Effects-(Opener)-(mp3cut.net)-(1).wav\n",
      "72\n",
      "../noise/noise/aXLsound-lo-fi-mic-handling-noise-GUITARTUNER1.wav\n",
      "3455\n",
      "../noise/noise/Intro-Music-Top-10-Best-Intro-Songs-2017-No-Copyright-Intro-Music-(mp3cut.net)-(8).wav\n",
      "1481\n"
     ]
    },
    {
     "name": "stderr",
     "output_type": "stream",
     "text": [
      " 36%|███▋      | 66/182 [01:21<00:20,  5.77it/s]"
     ]
    },
    {
     "name": "stdout",
     "output_type": "stream",
     "text": [
      "../noise/noise/n51.wav\n",
      "310\n",
      "../noise/noise/n24.wav\n",
      "310\n",
      "../noise/noise/n27.wav\n",
      "464\n",
      "../noise/noise/Microphone-Movement-Noise-Collection-3.wav\n",
      "1036\n"
     ]
    },
    {
     "name": "stderr",
     "output_type": "stream",
     "text": [
      " 37%|███▋      | 68/182 [01:21<00:20,  5.55it/s]"
     ]
    },
    {
     "name": "stdout",
     "output_type": "stream",
     "text": [
      "../noise/noise/n79.wav\n",
      "156\n",
      "../noise/noise/[-Peaceful-Relaxing-Soothing-]-Meditation-Monoman.wav\n",
      "345006\n",
      "INFO:tensorflow:Generating case 500000.\n"
     ]
    },
    {
     "name": "stderr",
     "output_type": "stream",
     "text": [
      " 37%|███▋      | 68/182 [01:40<00:20,  5.55it/s]"
     ]
    },
    {
     "name": "stdout",
     "output_type": "stream",
     "text": [
      "INFO:tensorflow:Generating case 600000.\n",
      "INFO:tensorflow:Generating case 700000.\n",
      "INFO:tensorflow:Generating case 800000.\n"
     ]
    },
    {
     "name": "stderr",
     "output_type": "stream",
     "text": [
      " 40%|████      | 73/182 [02:22<11:44,  6.46s/it]"
     ]
    },
    {
     "name": "stdout",
     "output_type": "stream",
     "text": [
      "../noise/noise/n17.wav\n",
      "168\n",
      "../noise/noise/n13.wav\n",
      "121\n",
      "../noise/noise/n29.wav\n",
      "156\n",
      "../noise/noise/Beautiful-Piano-Music,-Vol.-1-Relaxing-Music-for-Studying,-Relaxation-or-Sleeping.wav\n",
      "273849\n",
      "INFO:tensorflow:Generating case 900000.\n",
      "INFO:tensorflow:Generating case 1000000.\n"
     ]
    },
    {
     "name": "stderr",
     "output_type": "stream",
     "text": [
      " 42%|████▏     | 77/182 [03:10<23:15, 13.29s/it]"
     ]
    },
    {
     "name": "stdout",
     "output_type": "stream",
     "text": [
      "../noise/noise/n12.wav\n",
      "158\n",
      "../noise/noise/n47.wav\n",
      "212\n",
      "../noise/noise/n94.wav\n",
      "310\n",
      "../noise/noise/n4.wav\n",
      "112\n",
      "../noise/noise/Free-Music-Intro-Cinematic-2020-(mp3cut.net)-(2).wav\n",
      "779\n"
     ]
    },
    {
     "name": "stderr",
     "output_type": "stream",
     "text": [
      " 44%|████▍     | 80/182 [03:10<11:09,  6.56s/it]"
     ]
    },
    {
     "name": "stdout",
     "output_type": "stream",
     "text": [
      "../noise/noise/Microphone-Pop-Hits-Noise-Collection-2.wav\n",
      "739\n",
      "../noise/noise/n77.wav\n",
      "310\n",
      "../noise/noise/n38.wav\n",
      "681\n"
     ]
    },
    {
     "name": "stderr",
     "output_type": "stream",
     "text": [
      " 45%|████▌     | 82/182 [03:10<07:41,  4.62s/it]"
     ]
    },
    {
     "name": "stdout",
     "output_type": "stream",
     "text": [
      "../noise/noise/n83.wav\n",
      "137\n",
      "../noise/noise/Free-Music-Intro-Cinematic-2020.wav\n",
      "8705\n"
     ]
    },
    {
     "name": "stderr",
     "output_type": "stream",
     "text": [
      " 46%|████▌     | 84/182 [03:12<05:41,  3.48s/it]"
     ]
    },
    {
     "name": "stdout",
     "output_type": "stream",
     "text": [
      "../noise/noise/n8.wav\n",
      "310\n",
      "../noise/noise/Wind-Mic-Distortion-Violent-12.wav\n",
      "2247\n"
     ]
    },
    {
     "name": "stderr",
     "output_type": "stream",
     "text": [
      " 47%|████▋     | 86/182 [03:12<03:59,  2.50s/it]"
     ]
    },
    {
     "name": "stdout",
     "output_type": "stream",
     "text": [
      "../noise/noise/RE201-017E-CNTCT-MOTOR-Run-Rear-Cable-Port-Internal-H1A.wav\n",
      "10733\n",
      "INFO:tensorflow:Generating case 1100000.\n"
     ]
    },
    {
     "name": "stderr",
     "output_type": "stream",
     "text": [
      " 50%|█████     | 91/182 [03:15<02:28,  1.64s/it]"
     ]
    },
    {
     "name": "stdout",
     "output_type": "stream",
     "text": [
      "../noise/noise/n92.wav\n",
      "93\n",
      "../noise/noise/n19.wav\n",
      "254\n",
      "../noise/noise/n93.wav\n",
      "233\n",
      "../noise/noise/n58.wav\n",
      "289\n",
      "../noise/noise/n34.wav\n",
      "203\n",
      "../noise/noise/n6.wav\n",
      "310\n"
     ]
    },
    {
     "name": "stderr",
     "output_type": "stream",
     "text": [
      " 52%|█████▏    | 94/182 [03:15<01:41,  1.16s/it]"
     ]
    },
    {
     "name": "stdout",
     "output_type": "stream",
     "text": [
      "../noise/noise/n5.wav\n",
      "203\n",
      "../noise/noise/RE201-017F-CNTCT-MOTOR-Varied-Fast-Rate-Sweeps-H1A.wav\n",
      "2730\n"
     ]
    },
    {
     "name": "stderr",
     "output_type": "stream",
     "text": [
      " 53%|█████▎    | 96/182 [03:15<01:17,  1.10it/s]"
     ]
    },
    {
     "name": "stdout",
     "output_type": "stream",
     "text": [
      "../noise/noise/Microphone-Pops-Hits-Noise-Collection.wav\n",
      "1206\n",
      "../noise/noise/n91.wav\n",
      "70\n"
     ]
    },
    {
     "name": "stderr",
     "output_type": "stream",
     "text": [
      " 54%|█████▍    | 99/182 [03:15<00:53,  1.55it/s]"
     ]
    },
    {
     "name": "stdout",
     "output_type": "stream",
     "text": [
      "../noise/noise/n25.wav\n",
      "310\n",
      "../noise/noise/n63.wav\n",
      "303\n",
      "../noise/noise/TOP-10-INTRO-SONGSBest-Intro-Music-2018-(mp3cut.net)-(6).wav\n",
      "280\n",
      "../noise/noise/n52.wav\n",
      "310\n"
     ]
    },
    {
     "name": "stderr",
     "output_type": "stream",
     "text": [
      " 55%|█████▌    | 101/182 [03:16<00:39,  2.05it/s]"
     ]
    },
    {
     "name": "stdout",
     "output_type": "stream",
     "text": [
      "../noise/noise/n95.wav\n",
      "259\n",
      "../noise/noise/aXLsound-lo-fi-mic-handling-noise-TV-REMOTE-1.wav\n",
      "2809\n"
     ]
    },
    {
     "name": "stderr",
     "output_type": "stream",
     "text": [
      " 57%|█████▋    | 103/182 [03:16<00:32,  2.40it/s]"
     ]
    },
    {
     "name": "stdout",
     "output_type": "stream",
     "text": [
      "../noise/noise/Wind-Mic-Distortion-Violent-3.wav\n",
      "1542\n"
     ]
    },
    {
     "name": "stderr",
     "output_type": "stream",
     "text": [
      " 59%|█████▉    | 107/182 [03:17<00:18,  4.02it/s]"
     ]
    },
    {
     "name": "stdout",
     "output_type": "stream",
     "text": [
      "../noise/noise/n96.wav\n",
      "168\n",
      "../noise/noise/n99.wav\n",
      "310\n",
      "../noise/noise/n22.wav\n",
      "310\n",
      "../noise/noise/aXLsound-lo-fi-mic-handling-noise-HUB-USB-02.wav\n",
      "3931\n"
     ]
    },
    {
     "name": "stderr",
     "output_type": "stream",
     "text": [
      " 61%|██████    | 111/182 [03:17<00:15,  4.61it/s]"
     ]
    },
    {
     "name": "stdout",
     "output_type": "stream",
     "text": [
      "../noise/noise/n2.wav\n",
      "263\n",
      "../noise/noise/n20.wav\n",
      "310\n",
      "../noise/noise/Wind-Mic-Distortion-Violent-9.wav\n",
      "662\n",
      "../noise/noise/n69.wav\n",
      "305\n"
     ]
    },
    {
     "name": "stderr",
     "output_type": "stream",
     "text": [
      " 62%|██████▏   | 113/182 [03:18<00:13,  5.30it/s]"
     ]
    },
    {
     "name": "stdout",
     "output_type": "stream",
     "text": [
      "../noise/noise/n70.wav\n",
      "261\n",
      "../noise/noise/RE201-016-CNTCT-CASSETTE-Tray-Tape-Movement-Motor-Engage-H1A.wav\n",
      "10516\n"
     ]
    },
    {
     "name": "stderr",
     "output_type": "stream",
     "text": [
      " 63%|██████▎   | 114/182 [03:19<00:43,  1.56it/s]"
     ]
    },
    {
     "name": "stdout",
     "output_type": "stream",
     "text": [
      "../noise/noise/RE201-017A-CNTCT-MOTOR-High-Rate-On-Off-Pinch-Roller-Clunk-H1A.wav\n",
      "9697\n"
     ]
    },
    {
     "name": "stderr",
     "output_type": "stream",
     "text": [
      " 64%|██████▎   | 116/182 [03:21<00:47,  1.38it/s]"
     ]
    },
    {
     "name": "stdout",
     "output_type": "stream",
     "text": [
      "../noise/noise/TOP-10-INTRO-SONGSBest-Intro-Music-2018-(mp3cut.net)-(5).wav\n",
      "819\n",
      "../noise/noise/Wind-Mic-Distortion-Violent-2.wav\n",
      "5196\n"
     ]
    },
    {
     "name": "stderr",
     "output_type": "stream",
     "text": [
      " 66%|██████▌   | 120/182 [03:22<00:36,  1.72it/s]"
     ]
    },
    {
     "name": "stdout",
     "output_type": "stream",
     "text": [
      "../noise/noise/n42.wav\n",
      "109\n",
      "../noise/noise/n3.wav\n",
      "77\n",
      "../noise/noise/TOP-10-INTRO-SONGSBest-Intro-Music-2018-(mp3cut.net)-(11).wav\n",
      "819\n",
      "../noise/noise/n46.wav\n",
      "310\n",
      "../noise/noise/n60.wav\n",
      "277\n",
      "../noise/noise/aXLsound-lo-fi-mic-handling-noise-PLASTIC-01.wav\n",
      "2746\n"
     ]
    },
    {
     "name": "stderr",
     "output_type": "stream",
     "text": [
      " 68%|██████▊   | 124/182 [03:23<00:20,  2.77it/s]"
     ]
    },
    {
     "name": "stdout",
     "output_type": "stream",
     "text": [
      "../noise/noise/TOP-10-INTRO-SONGSBest-Intro-Music-2018-(mp3cut.net)-(7).wav\n",
      "786\n",
      "../noise/noise/n73.wav\n",
      "310\n",
      "../noise/noise/n74.wav\n",
      "205\n",
      "../noise/noise/Intro-Music-Top-10-Best-Intro-Songs-2017-No-Copyright-Intro-Music.wav\n",
      "17364\n"
     ]
    },
    {
     "name": "stderr",
     "output_type": "stream",
     "text": [
      " 71%|███████   | 129/182 [03:26<00:21,  2.41it/s]"
     ]
    },
    {
     "name": "stdout",
     "output_type": "stream",
     "text": [
      "../noise/noise/Intro-Music-Top-10-Best-Intro-Songs-2017-No-Copyright-Intro-Music-(mp3cut.net)-(4).wav\n",
      "448\n",
      "../noise/noise/n44.wav\n",
      "161\n",
      "../noise/noise/RE201-018-CNTCT-TRANSFORMER-HUM-Sustained-H1A.wav\n",
      "9158\n"
     ]
    },
    {
     "name": "stderr",
     "output_type": "stream",
     "text": [
      " 74%|███████▎  | 134/182 [03:28<00:26,  1.78it/s]"
     ]
    },
    {
     "name": "stdout",
     "output_type": "stream",
     "text": [
      "../noise/noise/n55.wav\n",
      "98\n",
      "../noise/noise/n1.wav\n",
      "310\n",
      "../noise/noise/n41.wav\n",
      "105\n",
      "../noise/noise/n36.wav\n",
      "427\n",
      "../noise/noise/Free-Music-Intro-Cinematic-2020-(mp3cut.net)-(1).wav\n",
      "2303\n"
     ]
    },
    {
     "name": "stderr",
     "output_type": "stream",
     "text": [
      " 75%|███████▍  | 136/182 [03:29<00:20,  2.20it/s]"
     ]
    },
    {
     "name": "stdout",
     "output_type": "stream",
     "text": [
      "../noise/noise/n37.wav\n",
      "182\n",
      "../noise/noise/n7.wav\n",
      "191\n",
      "../noise/noise/n90.wav\n",
      "77\n",
      "../noise/noise/Intro-Music-Top-10-Best-Intro-Songs-2017-No-Copyright-Intro-Music-(mp3cut.net)-(10).wav\n",
      "1449\n"
     ]
    },
    {
     "name": "stderr",
     "output_type": "stream",
     "text": [
      " 77%|███████▋  | 141/182 [03:29<00:10,  3.81it/s]"
     ]
    },
    {
     "name": "stdout",
     "output_type": "stream",
     "text": [
      "../noise/noise/n33.wav\n",
      "273\n",
      "../noise/noise/n26.wav\n",
      "548\n",
      "../noise/noise/Wind-Mic-Distortion-Violent-6.wav\n",
      "525\n",
      "../noise/noise/aXLsound-lo-fi-mic-handling-noise-PHONE-HANDSET-.wav\n",
      "5870\n"
     ]
    },
    {
     "name": "stderr",
     "output_type": "stream",
     "text": [
      " 79%|███████▊  | 143/182 [03:30<00:14,  2.78it/s]"
     ]
    },
    {
     "name": "stdout",
     "output_type": "stream",
     "text": [
      "../noise/noise/TOP-10-INTRO-SONGSBest-Intro-Music-2018-(mp3cut.net).wav\n",
      "1276\n"
     ]
    },
    {
     "name": "stderr",
     "output_type": "stream",
     "text": [
      " 79%|███████▉  | 144/182 [03:30<00:11,  3.18it/s]"
     ]
    },
    {
     "name": "stdout",
     "output_type": "stream",
     "text": [
      "../noise/noise/n49.wav\n",
      "277\n",
      "../noise/noise/Intro-Music-Top-10-Best-Intro-Songs-2017-No-Copyright-Intro-Music-(mp3cut.net)-(11).wav\n",
      "1470\n"
     ]
    },
    {
     "name": "stderr",
     "output_type": "stream",
     "text": [
      " 81%|████████▏ | 148/182 [03:31<00:06,  5.02it/s]"
     ]
    },
    {
     "name": "stdout",
     "output_type": "stream",
     "text": [
      "../noise/noise/n98.wav\n",
      "310\n",
      "../noise/noise/n84.wav\n",
      "310\n",
      "../noise/noise/n89.wav\n",
      "151\n",
      "../noise/noise/n65.wav\n",
      "86\n",
      "../noise/noise/Intro-Music-Top-10-Best-Intro-Songs-2017-No-Copyright-Intro-Music-(mp3cut.net).wav\n",
      "438\n"
     ]
    },
    {
     "name": "stderr",
     "output_type": "stream",
     "text": [
      " 83%|████████▎ | 151/182 [03:31<00:04,  6.63it/s]"
     ]
    },
    {
     "name": "stdout",
     "output_type": "stream",
     "text": [
      "../noise/noise/TOP-10-INTRO-SONGSBest-Intro-Music-2018-(mp3cut.net)-(9).wav\n",
      "793\n",
      "../noise/noise/aXLsound-lo-fi-mic-handling-noise-GUITARTUNER3.wav\n",
      "4375\n",
      "INFO:tensorflow:Generating case 1200000.\n"
     ]
    },
    {
     "name": "stderr",
     "output_type": "stream",
     "text": [
      " 85%|████████▌ | 155/182 [03:32<00:05,  5.03it/s]"
     ]
    },
    {
     "name": "stdout",
     "output_type": "stream",
     "text": [
      "../noise/noise/n64.wav\n",
      "79\n",
      "../noise/noise/TOP-10-INTRO-SONGSBest-Intro-Music-2018-(mp3cut.net)-(8).wav\n",
      "779\n",
      "../noise/noise/Wind-Mic-Distortion-Violent-1.wav\n",
      "938\n"
     ]
    },
    {
     "name": "stderr",
     "output_type": "stream",
     "text": [
      " 86%|████████▋ | 157/182 [03:32<00:04,  5.21it/s]"
     ]
    },
    {
     "name": "stdout",
     "output_type": "stream",
     "text": [
      "../noise/noise/TOP-10-INTRO-SONGSBest-Intro-Music-2018-(mp3cut.net)-(13).wav\n",
      "1227\n",
      "../noise/noise/n67.wav\n",
      "175\n",
      "../noise/noise/code-fi-lofi-beats-to-coderelax-to.wav\n",
      "281558\n",
      "INFO:tensorflow:Generating case 1300000.\n"
     ]
    },
    {
     "name": "stderr",
     "output_type": "stream",
     "text": [
      " 86%|████████▋ | 157/182 [03:50<00:04,  5.21it/s]"
     ]
    },
    {
     "name": "stdout",
     "output_type": "stream",
     "text": [
      "INFO:tensorflow:Generating case 1400000.\n"
     ]
    },
    {
     "name": "stderr",
     "output_type": "stream",
     "text": [
      " 89%|████████▉ | 162/182 [04:22<01:45,  5.29s/it]"
     ]
    },
    {
     "name": "stdout",
     "output_type": "stream",
     "text": [
      "../noise/noise/n23.wav\n",
      "116\n",
      "../noise/noise/n45.wav\n",
      "247\n",
      "../noise/noise/microphone-handles-roughly_01.wav\n",
      "130\n",
      "../noise/noise/n39.wav\n",
      "149\n",
      "../noise/noise/n57.wav\n",
      "310\n",
      "../noise/noise/n10.wav\n",
      "310\n"
     ]
    },
    {
     "name": "stderr",
     "output_type": "stream",
     "text": [
      " 91%|█████████ | 165/182 [04:22<01:03,  3.72s/it]"
     ]
    },
    {
     "name": "stdout",
     "output_type": "stream",
     "text": [
      "../noise/noise/n100.wav\n",
      "163\n",
      "../noise/noise/n62.wav\n",
      "310\n",
      "../noise/noise/Free-Music-Intro-Cinematic-2020-(mp3cut.net)-(4).wav\n",
      "3276\n"
     ]
    },
    {
     "name": "stderr",
     "output_type": "stream",
     "text": [
      " 92%|█████████▏| 168/182 [04:23<00:37,  2.66s/it]"
     ]
    },
    {
     "name": "stdout",
     "output_type": "stream",
     "text": [
      "../noise/noise/Intro-Music-Top-10-Best-Intro-Songs-2017-No-Copyright-Intro-Music-(mp3cut.net)-(5).wav\n",
      "1481\n",
      "../noise/noise/15-FREE-Cinematic-Sound-Effects-(Opener).wav\n",
      "8873\n",
      "INFO:tensorflow:Generating case 1500000.\n"
     ]
    },
    {
     "name": "stderr",
     "output_type": "stream",
     "text": [
      " 93%|█████████▎| 170/182 [04:24<00:25,  2.15s/it]"
     ]
    },
    {
     "name": "stdout",
     "output_type": "stream",
     "text": [
      "../noise/noise/n31.wav\n",
      "263\n",
      "../noise/noise/TOP-10-INTRO-SONGSBest-Intro-Music-2018-(mp3cut.net)-(4).wav\n",
      "305\n",
      "../noise/noise/TOP-10-INTRO-SONGSBest-Intro-Music-2018-(mp3cut.net)-(3).wav\n",
      "840\n"
     ]
    },
    {
     "name": "stderr",
     "output_type": "stream",
     "text": [
      " 95%|█████████▌| 173/182 [04:25<00:13,  1.53s/it]"
     ]
    },
    {
     "name": "stdout",
     "output_type": "stream",
     "text": [
      "../noise/noise/n32.wav\n",
      "350\n",
      "../noise/noise/Intro-Music-Top-10-Best-Intro-Songs-2017-No-Copyright-Intro-Music-(mp3cut.net)-(6).wav\n",
      "1393\n"
     ]
    },
    {
     "name": "stderr",
     "output_type": "stream",
     "text": [
      " 96%|█████████▌| 175/182 [04:25<00:07,  1.11s/it]"
     ]
    },
    {
     "name": "stdout",
     "output_type": "stream",
     "text": [
      "../noise/noise/Microphone-Movement-Noise-Collection.wav\n",
      "2639\n"
     ]
    },
    {
     "name": "stderr",
     "output_type": "stream",
     "text": [
      " 97%|█████████▋| 176/182 [04:26<00:05,  1.05it/s]"
     ]
    },
    {
     "name": "stdout",
     "output_type": "stream",
     "text": [
      "../noise/noise/aXLsound-lo-fi-mic-handling-noise-GUITARTUNER2.wav\n",
      "1950\n"
     ]
    },
    {
     "name": "stderr",
     "output_type": "stream",
     "text": [
      " 97%|█████████▋| 177/182 [04:26<00:03,  1.31it/s]"
     ]
    },
    {
     "name": "stdout",
     "output_type": "stream",
     "text": [
      "../noise/noise/TOP-10-INTRO-SONGSBest-Intro-Music-2018.wav\n",
      "13071\n"
     ]
    },
    {
     "name": "stderr",
     "output_type": "stream",
     "text": [
      " 98%|█████████▊| 179/182 [04:28<00:02,  1.12it/s]"
     ]
    },
    {
     "name": "stdout",
     "output_type": "stream",
     "text": [
      "../noise/noise/Wind-Mic-Distortion-Violent-4.wav\n",
      "826\n",
      "../noise/noise/n15.wav\n",
      "175\n",
      "../noise/noise/n71.wav\n",
      "149\n",
      "../noise/noise/TOP-10-INTRO-SONGSBest-Intro-Music-2018-(mp3cut.net)-(12).wav\n",
      "826\n"
     ]
    },
    {
     "name": "stderr",
     "output_type": "stream",
     "text": [
      "100%|██████████| 182/182 [04:28<00:00,  1.48s/it]"
     ]
    },
    {
     "name": "stdout",
     "output_type": "stream",
     "text": [
      "WARNING:tensorflow:From /home/husein/malaya-speech/malaya_speech/train/prepare_data.py:218: The name tf.gfile.Rename is deprecated. Please use tf.io.gfile.rename instead.\n",
      "\n",
      "INFO:tensorflow:Generated 1526821 Examples\n"
     ]
    },
    {
     "name": "stderr",
     "output_type": "stream",
     "text": [
      "\n"
     ]
    },
    {
     "name": "stdout",
     "output_type": "stream",
     "text": [
      "INFO:tensorflow:Shuffling data...\n",
      "WARNING:tensorflow:From /home/husein/malaya-speech/malaya_speech/train/prepare_data.py:26: tf_record_iterator (from tensorflow.python.lib.io.tf_record) is deprecated and will be removed in a future version.\n",
      "Instructions for updating:\n",
      "Use eager execution and: \n",
      "`tf.data.TFRecordDataset(path)`\n",
      "WARNING:tensorflow:From /home/husein/malaya-speech/malaya_speech/train/prepare_data.py:57: The name tf.gfile.Remove is deprecated. Please use tf.io.gfile.remove instead.\n",
      "\n",
      "INFO:tensorflow:Data shuffled.\n"
     ]
    }
   ],
   "source": [
    "shards = [{'split': 'train', 'shards': 200}, {'split': 'dev', 'shards': 1}]\n",
    "train.prepare_dataset(generator, DATA_DIR, shards, prefix = 'vad')"
   ]
  },
  {
   "cell_type": "code",
   "execution_count": null,
   "metadata": {},
   "outputs": [],
   "source": []
  }
 ],
 "metadata": {
  "kernelspec": {
   "display_name": "Python 3",
   "language": "python",
   "name": "python3"
  },
  "language_info": {
   "codemirror_mode": {
    "name": "ipython",
    "version": 3
   },
   "file_extension": ".py",
   "mimetype": "text/x-python",
   "name": "python",
   "nbconvert_exporter": "python",
   "pygments_lexer": "ipython3",
   "version": "3.6.8"
  }
 },
 "nbformat": 4,
 "nbformat_minor": 2
}

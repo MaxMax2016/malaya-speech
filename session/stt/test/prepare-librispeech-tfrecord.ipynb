{
 "cells": [
  {
   "cell_type": "code",
   "execution_count": 1,
   "metadata": {},
   "outputs": [],
   "source": [
    "# !git pull"
   ]
  },
  {
   "cell_type": "code",
   "execution_count": 2,
   "metadata": {},
   "outputs": [
    {
     "name": "stdout",
     "output_type": "stream",
     "text": [
      "WARNING:tensorflow:From /home/husein/malaya-speech/malaya_speech/train/optimizer.py:34: The name tf.train.AdagradOptimizer is deprecated. Please use tf.compat.v1.train.AdagradOptimizer instead.\n",
      "\n",
      "WARNING:tensorflow:From /home/husein/malaya-speech/malaya_speech/train/optimizer.py:35: The name tf.train.AdamOptimizer is deprecated. Please use tf.compat.v1.train.AdamOptimizer instead.\n",
      "\n",
      "WARNING:tensorflow:From /home/husein/malaya-speech/malaya_speech/train/optimizer.py:36: The name tf.train.FtrlOptimizer is deprecated. Please use tf.compat.v1.train.FtrlOptimizer instead.\n",
      "\n",
      "WARNING:tensorflow:From /home/husein/malaya-speech/malaya_speech/train/optimizer.py:38: The name tf.train.RMSPropOptimizer is deprecated. Please use tf.compat.v1.train.RMSPropOptimizer instead.\n",
      "\n",
      "WARNING:tensorflow:From /home/husein/malaya-speech/malaya_speech/train/optimizer.py:39: The name tf.train.GradientDescentOptimizer is deprecated. Please use tf.compat.v1.train.GradientDescentOptimizer instead.\n",
      "\n",
      "WARNING:tensorflow:\n",
      "The TensorFlow contrib module will not be included in TensorFlow 2.0.\n",
      "For more information, please see:\n",
      "  * https://github.com/tensorflow/community/blob/master/rfcs/20180907-contrib-sunset.md\n",
      "  * https://github.com/tensorflow/addons\n",
      "  * https://github.com/tensorflow/io (for I/O related ops)\n",
      "If you depend on functionality not listed there, please file an issue.\n",
      "\n"
     ]
    }
   ],
   "source": [
    "import malaya_speech.train as train\n",
    "import malaya_speech"
   ]
  },
  {
   "cell_type": "code",
   "execution_count": 3,
   "metadata": {},
   "outputs": [
    {
     "data": {
      "text/plain": [
       "672"
      ]
     },
     "execution_count": 3,
     "metadata": {},
     "output_type": "execute_result"
    }
   ],
   "source": [
    "from glob import glob\n",
    "import os\n",
    "\n",
    "files = glob('../speech-bahasa/LibriSpeech/*/*/*/*.trans.txt')\n",
    "len(files)"
   ]
  },
  {
   "cell_type": "code",
   "execution_count": 4,
   "metadata": {},
   "outputs": [
    {
     "data": {
      "text/plain": [
       "(31159, 31159)"
      ]
     },
     "execution_count": 4,
     "metadata": {},
     "output_type": "execute_result"
    }
   ],
   "source": [
    "audios, texts = [], []\n",
    "\n",
    "for file in files:\n",
    "    \n",
    "    p = os.path.split(file)[0]\n",
    "    with open(file) as fopen:\n",
    "        d = list(filter(None, fopen.read().split('\\n')))\n",
    "    \n",
    "    for row in d:\n",
    "        splitted = row.split()\n",
    "        s = os.path.join(p, splitted[0] + '.flac')\n",
    "        text = ' '.join(splitted[1:])\n",
    "        if not os.path.exists(s):\n",
    "            print(s, 'not exist')\n",
    "            continue\n",
    "        \n",
    "        audios.append(s)\n",
    "        texts.append(text)\n",
    "\n",
    "    \n",
    "len(audios), len(texts)"
   ]
  },
  {
   "cell_type": "code",
   "execution_count": 5,
   "metadata": {},
   "outputs": [],
   "source": [
    "import unicodedata\n",
    "import re\n",
    "\n",
    "\n",
    "def preprocessing_text(string, reject = ',.!?#@\\U0001f9da_，é)^🍪❤！' + '️'):\n",
    "    for c in reject:\n",
    "        string = string.replace(c, ' ')\n",
    "        \n",
    "    string = unicodedata.normalize('NFC', string.lower())\n",
    "    return re.sub(r'[ ]+', ' ', string).strip()"
   ]
  },
  {
   "cell_type": "code",
   "execution_count": 6,
   "metadata": {},
   "outputs": [],
   "source": [
    "cleaned_texts = [preprocessing_text(t) for t in texts]"
   ]
  },
  {
   "cell_type": "code",
   "execution_count": 7,
   "metadata": {},
   "outputs": [
    {
     "data": {
      "text/plain": [
       "['<PAD>',\n",
       " '<EOS>',\n",
       " ' ',\n",
       " 'e',\n",
       " 't',\n",
       " 'a',\n",
       " 'o',\n",
       " 'n',\n",
       " 'i',\n",
       " 'h',\n",
       " 's',\n",
       " 'r',\n",
       " 'd',\n",
       " 'l',\n",
       " 'u',\n",
       " 'm',\n",
       " 'c',\n",
       " 'w',\n",
       " 'f',\n",
       " 'g',\n",
       " 'y',\n",
       " 'p',\n",
       " 'b',\n",
       " 'v',\n",
       " 'k',\n",
       " \"'\",\n",
       " 'x',\n",
       " 'j',\n",
       " 'q',\n",
       " 'z']"
      ]
     },
     "execution_count": 7,
     "metadata": {},
     "output_type": "execute_result"
    }
   ],
   "source": [
    "unique_chars = malaya_speech.char.generate_vocab(cleaned_texts)\n",
    "unique_chars"
   ]
  },
  {
   "cell_type": "code",
   "execution_count": 8,
   "metadata": {},
   "outputs": [],
   "source": [
    "import json\n",
    "\n",
    "with open('librispeech-sst-vocab.json', 'w') as fopen:\n",
    "    json.dump(unique_chars, fopen)"
   ]
  },
  {
   "cell_type": "code",
   "execution_count": 9,
   "metadata": {},
   "outputs": [],
   "source": [
    "from tqdm import tqdm\n",
    "\n",
    "def generator(maxlen = 16):\n",
    "    for i in tqdm(range(len(audios))):\n",
    "        try:\n",
    "            if '.mp3' in audios[i]:\n",
    "                wav_data, sr = mp3_to_wav(audios[i])\n",
    "            else:\n",
    "                wav_data, sr = malaya_speech.load(audios[i])\n",
    "                \n",
    "            if (len(wav_data) / sr) > maxlen or len(cleaned_texts[i]) < 5:\n",
    "                print(f'skipped {audios[i]}')\n",
    "                continue\n",
    "\n",
    "            yield {\n",
    "                'waveforms': wav_data.tolist(),\n",
    "                'waveform_lens': [len(wav_data)],\n",
    "                'targets': malaya_speech.char.encode(cleaned_texts[i], add_eos = False,\n",
    "                                                     lookup = unique_chars),\n",
    "                'raw_transcript': [cleaned_texts[i]],\n",
    "            }\n",
    "        except Exception as e:\n",
    "            print(e)\n",
    "            \n",
    "generator = generator()"
   ]
  },
  {
   "cell_type": "code",
   "execution_count": 10,
   "metadata": {},
   "outputs": [],
   "source": [
    "import os\n",
    "import tensorflow as tf\n",
    "\n",
    "os.system('rm training-librispeech/data/*')\n",
    "DATA_DIR = os.path.expanduser('training-librispeech/data')\n",
    "tf.gfile.MakeDirs(DATA_DIR)"
   ]
  },
  {
   "cell_type": "code",
   "execution_count": 11,
   "metadata": {},
   "outputs": [],
   "source": [
    "shards = [{'split': 'train', 'shards': 999}, {'split': 'dev', 'shards': 1}]"
   ]
  },
  {
   "cell_type": "code",
   "execution_count": 12,
   "metadata": {},
   "outputs": [
    {
     "name": "stdout",
     "output_type": "stream",
     "text": [
      "WARNING:tensorflow:From /home/husein/malaya-speech/malaya_speech/train/prepare_data.py:89: The name tf.gfile.Exists is deprecated. Please use tf.io.gfile.exists instead.\n",
      "\n",
      "WARNING:tensorflow:From /home/husein/malaya-speech/malaya_speech/train/prepare_data.py:199: The name tf.python_io.TFRecordWriter is deprecated. Please use tf.io.TFRecordWriter instead.\n",
      "\n"
     ]
    },
    {
     "name": "stderr",
     "output_type": "stream",
     "text": [
      "  0%|          | 0/31159 [00:00<?, ?it/s]"
     ]
    },
    {
     "name": "stdout",
     "output_type": "stream",
     "text": [
      "WARNING:tensorflow:From /home/husein/malaya-speech/malaya_speech/train/prepare_data.py:205: The name tf.logging.info is deprecated. Please use tf.compat.v1.logging.info instead.\n",
      "\n",
      "INFO:tensorflow:Generating case 0.\n"
     ]
    },
    {
     "name": "stderr",
     "output_type": "stream",
     "text": [
      "  0%|          | 3/31159 [00:00<20:20, 25.52it/s]"
     ]
    },
    {
     "name": "stdout",
     "output_type": "stream",
     "text": [
      "skipped ../speech-bahasa/LibriSpeech/train-clean-100/3664/178355/3664-178355-0001.flac\n"
     ]
    },
    {
     "name": "stderr",
     "output_type": "stream",
     "text": [
      "  0%|          | 16/31159 [00:00<22:04, 23.50it/s]"
     ]
    },
    {
     "name": "stdout",
     "output_type": "stream",
     "text": [
      "skipped ../speech-bahasa/LibriSpeech/train-clean-100/3664/178355/3664-178355-0011.flac\n"
     ]
    },
    {
     "name": "stderr",
     "output_type": "stream",
     "text": [
      "  0%|          | 33/31159 [00:01<20:31, 25.28it/s]"
     ]
    },
    {
     "name": "stdout",
     "output_type": "stream",
     "text": [
      "skipped ../speech-bahasa/LibriSpeech/train-clean-100/3664/178355/3664-178355-0028.flac\n"
     ]
    },
    {
     "name": "stderr",
     "output_type": "stream",
     "text": [
      "  0%|          | 40/31159 [00:01<20:00, 25.92it/s]"
     ]
    },
    {
     "name": "stdout",
     "output_type": "stream",
     "text": [
      "skipped ../speech-bahasa/LibriSpeech/train-clean-100/3664/178355/3664-178355-0034.flac\n"
     ]
    },
    {
     "name": "stderr",
     "output_type": "stream",
     "text": [
      "  0%|          | 55/31159 [00:02<16:54, 30.66it/s]"
     ]
    },
    {
     "name": "stdout",
     "output_type": "stream",
     "text": [
      "skipped ../speech-bahasa/LibriSpeech/train-clean-100/3664/178366/3664-178366-0011.flac\n",
      "skipped ../speech-bahasa/LibriSpeech/train-clean-100/3664/178366/3664-178366-0014.flac\n",
      "skipped ../speech-bahasa/LibriSpeech/train-clean-100/3664/178366/3664-178366-0016.flac\n"
     ]
    },
    {
     "name": "stderr",
     "output_type": "stream",
     "text": [
      "  0%|          | 69/31159 [00:02<18:28, 28.03it/s]"
     ]
    },
    {
     "name": "stdout",
     "output_type": "stream",
     "text": [
      "skipped ../speech-bahasa/LibriSpeech/train-clean-100/3664/178366/3664-178366-0029.flac\n"
     ]
    },
    {
     "name": "stderr",
     "output_type": "stream",
     "text": [
      "  0%|          | 86/31159 [00:03<19:07, 27.07it/s]"
     ]
    },
    {
     "name": "stdout",
     "output_type": "stream",
     "text": [
      "skipped ../speech-bahasa/LibriSpeech/train-clean-100/3664/11714/3664-11714-0005.flac\n",
      "skipped ../speech-bahasa/LibriSpeech/train-clean-100/3664/11714/3664-11714-0006.flac\n"
     ]
    },
    {
     "name": "stderr",
     "output_type": "stream",
     "text": [
      "  0%|          | 103/31159 [00:03<18:36, 27.81it/s]"
     ]
    },
    {
     "name": "stdout",
     "output_type": "stream",
     "text": [
      "skipped ../speech-bahasa/LibriSpeech/train-clean-100/3664/11714/3664-11714-0023.flac\n"
     ]
    },
    {
     "name": "stderr",
     "output_type": "stream",
     "text": [
      "  0%|          | 136/31159 [00:05<22:25, 23.05it/s]"
     ]
    },
    {
     "name": "stdout",
     "output_type": "stream",
     "text": [
      "skipped ../speech-bahasa/LibriSpeech/train-clean-100/3879/174923/3879-174923-0025.flac\n"
     ]
    },
    {
     "name": "stderr",
     "output_type": "stream",
     "text": [
      "  1%|          | 166/31159 [00:06<18:13, 28.34it/s]"
     ]
    },
    {
     "name": "stdout",
     "output_type": "stream",
     "text": [
      "skipped ../speech-bahasa/LibriSpeech/train-clean-100/3879/174923/3879-174923-0053.flac\n"
     ]
    },
    {
     "name": "stderr",
     "output_type": "stream",
     "text": [
      "  1%|          | 260/31159 [00:09<17:46, 28.96it/s]"
     ]
    },
    {
     "name": "stdout",
     "output_type": "stream",
     "text": [
      "skipped ../speech-bahasa/LibriSpeech/train-clean-100/2289/152254/2289-152254-0005.flac\n"
     ]
    },
    {
     "name": "stderr",
     "output_type": "stream",
     "text": [
      "  1%|          | 296/31159 [00:11<14:50, 34.65it/s]"
     ]
    },
    {
     "name": "stdout",
     "output_type": "stream",
     "text": [
      "skipped ../speech-bahasa/LibriSpeech/train-clean-100/2289/152258/2289-152258-0005.flac\n",
      "skipped ../speech-bahasa/LibriSpeech/train-clean-100/2289/152258/2289-152258-0008.flac\n"
     ]
    },
    {
     "name": "stderr",
     "output_type": "stream",
     "text": [
      "  1%|          | 367/31159 [00:13<18:13, 28.16it/s]"
     ]
    },
    {
     "name": "stdout",
     "output_type": "stream",
     "text": [
      "skipped ../speech-bahasa/LibriSpeech/train-clean-100/250/142286/250-142286-0006.flac\n",
      "skipped ../speech-bahasa/LibriSpeech/train-clean-100/250/142286/250-142286-0007.flac\n"
     ]
    },
    {
     "name": "stderr",
     "output_type": "stream",
     "text": [
      "  1%|▏         | 395/31159 [00:14<16:37, 30.83it/s]"
     ]
    },
    {
     "name": "stdout",
     "output_type": "stream",
     "text": [
      "skipped ../speech-bahasa/LibriSpeech/train-clean-100/250/142276/250-142276-0002.flac\n"
     ]
    },
    {
     "name": "stderr",
     "output_type": "stream",
     "text": [
      "  1%|▏         | 403/31159 [00:14<17:59, 28.49it/s]"
     ]
    },
    {
     "name": "stdout",
     "output_type": "stream",
     "text": [
      "skipped ../speech-bahasa/LibriSpeech/train-clean-100/250/142276/250-142276-0011.flac\n",
      "skipped ../speech-bahasa/LibriSpeech/train-clean-100/250/142276/250-142276-0016.flac\n"
     ]
    },
    {
     "name": "stderr",
     "output_type": "stream",
     "text": [
      "  1%|▏         | 412/31159 [00:15<23:29, 21.82it/s]"
     ]
    },
    {
     "name": "stdout",
     "output_type": "stream",
     "text": [
      "skipped ../speech-bahasa/LibriSpeech/train-clean-100/250/142276/250-142276-0020.flac\n"
     ]
    },
    {
     "name": "stderr",
     "output_type": "stream",
     "text": [
      "  1%|▏         | 444/31159 [00:16<18:19, 27.92it/s]"
     ]
    },
    {
     "name": "stdout",
     "output_type": "stream",
     "text": [
      "skipped ../speech-bahasa/LibriSpeech/train-clean-100/250/142276/250-142276-0050.flac\n"
     ]
    },
    {
     "name": "stderr",
     "output_type": "stream",
     "text": [
      "  2%|▏         | 494/31159 [00:18<23:06, 22.12it/s]"
     ]
    },
    {
     "name": "stdout",
     "output_type": "stream",
     "text": [
      "skipped ../speech-bahasa/LibriSpeech/train-clean-100/4898/20016/4898-20016-0020.flac\n"
     ]
    },
    {
     "name": "stderr",
     "output_type": "stream",
     "text": [
      "  2%|▏         | 502/31159 [00:19<20:40, 24.71it/s]"
     ]
    },
    {
     "name": "stdout",
     "output_type": "stream",
     "text": [
      "skipped ../speech-bahasa/LibriSpeech/train-clean-100/4898/20016/4898-20016-0029.flac\n"
     ]
    },
    {
     "name": "stderr",
     "output_type": "stream",
     "text": [
      "  2%|▏         | 516/31159 [00:19<19:25, 26.29it/s]"
     ]
    },
    {
     "name": "stdout",
     "output_type": "stream",
     "text": [
      "skipped ../speech-bahasa/LibriSpeech/train-clean-100/4898/28461/4898-28461-0002.flac\n"
     ]
    },
    {
     "name": "stderr",
     "output_type": "stream",
     "text": [
      "  2%|▏         | 528/31159 [00:20<28:13, 18.09it/s]"
     ]
    },
    {
     "name": "stdout",
     "output_type": "stream",
     "text": [
      "skipped ../speech-bahasa/LibriSpeech/train-clean-100/4898/28461/4898-28461-0017.flac\n"
     ]
    },
    {
     "name": "stderr",
     "output_type": "stream",
     "text": [
      "  2%|▏         | 544/31159 [00:20<21:46, 23.42it/s]"
     ]
    },
    {
     "name": "stdout",
     "output_type": "stream",
     "text": [
      "skipped ../speech-bahasa/LibriSpeech/train-clean-100/4898/28461/4898-28461-0030.flac\n"
     ]
    },
    {
     "name": "stderr",
     "output_type": "stream",
     "text": [
      "  2%|▏         | 550/31159 [00:21<23:03, 22.12it/s]"
     ]
    },
    {
     "name": "stdout",
     "output_type": "stream",
     "text": [
      "skipped ../speech-bahasa/LibriSpeech/train-clean-100/4898/28461/4898-28461-0038.flac\n"
     ]
    },
    {
     "name": "stderr",
     "output_type": "stream",
     "text": [
      "  2%|▏         | 575/31159 [00:22<20:26, 24.94it/s]"
     ]
    },
    {
     "name": "stdout",
     "output_type": "stream",
     "text": [
      "skipped ../speech-bahasa/LibriSpeech/train-clean-100/4898/28461/4898-28461-0062.flac\n"
     ]
    },
    {
     "name": "stderr",
     "output_type": "stream",
     "text": [
      "  2%|▏         | 595/31159 [00:22<18:01, 28.26it/s]"
     ]
    },
    {
     "name": "stdout",
     "output_type": "stream",
     "text": [
      "skipped ../speech-bahasa/LibriSpeech/train-clean-100/78/369/78-369-0011.flac\n"
     ]
    },
    {
     "name": "stderr",
     "output_type": "stream",
     "text": [
      "  2%|▏         | 605/31159 [00:23<17:30, 29.09it/s]"
     ]
    },
    {
     "name": "stdout",
     "output_type": "stream",
     "text": [
      "skipped ../speech-bahasa/LibriSpeech/train-clean-100/78/369/78-369-0023.flac\n",
      "skipped ../speech-bahasa/LibriSpeech/train-clean-100/78/369/78-369-0027.flac\n"
     ]
    },
    {
     "name": "stderr",
     "output_type": "stream",
     "text": [
      "  2%|▏         | 646/31159 [00:24<17:48, 28.55it/s]"
     ]
    },
    {
     "name": "stdout",
     "output_type": "stream",
     "text": [
      "skipped ../speech-bahasa/LibriSpeech/train-clean-100/78/369/78-369-0062.flac\n"
     ]
    },
    {
     "name": "stderr",
     "output_type": "stream",
     "text": [
      "  2%|▏         | 654/31159 [00:25<16:47, 30.27it/s]"
     ]
    },
    {
     "name": "stdout",
     "output_type": "stream",
     "text": [
      "skipped ../speech-bahasa/LibriSpeech/train-clean-100/78/368/78-368-0008.flac\n"
     ]
    },
    {
     "name": "stderr",
     "output_type": "stream",
     "text": [
      "  2%|▏         | 665/31159 [00:25<19:47, 25.67it/s]"
     ]
    },
    {
     "name": "stdout",
     "output_type": "stream",
     "text": [
      "skipped ../speech-bahasa/LibriSpeech/train-clean-100/78/368/78-368-0019.flac\n",
      "skipped ../speech-bahasa/LibriSpeech/train-clean-100/78/368/78-368-0026.flac\n"
     ]
    },
    {
     "name": "stderr",
     "output_type": "stream",
     "text": [
      "  2%|▏         | 676/31159 [00:25<15:35, 32.59it/s]"
     ]
    },
    {
     "name": "stdout",
     "output_type": "stream",
     "text": [
      "skipped ../speech-bahasa/LibriSpeech/train-clean-100/78/368/78-368-0029.flac\n",
      "skipped ../speech-bahasa/LibriSpeech/train-clean-100/78/368/78-368-0032.flac\n"
     ]
    },
    {
     "name": "stderr",
     "output_type": "stream",
     "text": [
      "  2%|▏         | 697/31159 [00:26<14:59, 33.88it/s]"
     ]
    },
    {
     "name": "stdout",
     "output_type": "stream",
     "text": [
      "skipped ../speech-bahasa/LibriSpeech/train-clean-100/78/368/78-368-0051.flac\n"
     ]
    },
    {
     "name": "stderr",
     "output_type": "stream",
     "text": [
      "  2%|▏         | 730/31159 [00:27<16:26, 30.84it/s]"
     ]
    },
    {
     "name": "stdout",
     "output_type": "stream",
     "text": [
      "skipped ../speech-bahasa/LibriSpeech/train-clean-100/2893/139310/2893-139310-0027.flac\n"
     ]
    },
    {
     "name": "stderr",
     "output_type": "stream",
     "text": [
      "  2%|▏         | 738/31159 [00:28<18:02, 28.11it/s]"
     ]
    },
    {
     "name": "stdout",
     "output_type": "stream",
     "text": [
      "skipped ../speech-bahasa/LibriSpeech/train-clean-100/2893/139310/2893-139310-0037.flac\n"
     ]
    },
    {
     "name": "stderr",
     "output_type": "stream",
     "text": [
      "  2%|▏         | 763/31159 [00:29<20:09, 25.13it/s]"
     ]
    },
    {
     "name": "stdout",
     "output_type": "stream",
     "text": [
      "skipped ../speech-bahasa/LibriSpeech/train-clean-100/2893/139322/2893-139322-0009.flac\n"
     ]
    },
    {
     "name": "stderr",
     "output_type": "stream",
     "text": [
      "  2%|▏         | 778/31159 [00:29<17:49, 28.41it/s]"
     ]
    },
    {
     "name": "stdout",
     "output_type": "stream",
     "text": [
      "skipped ../speech-bahasa/LibriSpeech/train-clean-100/2893/139322/2893-139322-0023.flac\n",
      "skipped ../speech-bahasa/LibriSpeech/train-clean-100/2893/139322/2893-139322-0026.flac\n"
     ]
    },
    {
     "name": "stderr",
     "output_type": "stream",
     "text": [
      "  3%|▎         | 786/31159 [00:29<17:20, 29.19it/s]"
     ]
    },
    {
     "name": "stdout",
     "output_type": "stream",
     "text": [
      "skipped ../speech-bahasa/LibriSpeech/train-clean-100/2893/139322/2893-139322-0031.flac\n",
      "skipped ../speech-bahasa/LibriSpeech/train-clean-100/2893/139322/2893-139322-0034.flac\n"
     ]
    },
    {
     "name": "stderr",
     "output_type": "stream",
     "text": [
      "  3%|▎         | 795/31159 [00:30<20:38, 24.51it/s]"
     ]
    },
    {
     "name": "stdout",
     "output_type": "stream",
     "text": [
      "skipped ../speech-bahasa/LibriSpeech/train-clean-100/2893/139322/2893-139322-0041.flac\n",
      "skipped ../speech-bahasa/LibriSpeech/train-clean-100/2893/139322/2893-139322-0043.flac\n"
     ]
    },
    {
     "name": "stderr",
     "output_type": "stream",
     "text": [
      "  3%|▎         | 805/31159 [00:30<18:56, 26.72it/s]"
     ]
    },
    {
     "name": "stdout",
     "output_type": "stream",
     "text": [
      "skipped ../speech-bahasa/LibriSpeech/train-clean-100/2893/139322/2893-139322-0050.flac\n"
     ]
    },
    {
     "name": "stderr",
     "output_type": "stream",
     "text": [
      "  3%|▎         | 812/31159 [00:30<18:37, 27.16it/s]"
     ]
    },
    {
     "name": "stdout",
     "output_type": "stream",
     "text": [
      "skipped ../speech-bahasa/LibriSpeech/train-clean-100/1363/139304/1363-139304-0003.flac\n"
     ]
    },
    {
     "name": "stderr",
     "output_type": "stream",
     "text": [
      "  3%|▎         | 843/31159 [00:32<22:08, 22.82it/s]"
     ]
    },
    {
     "name": "stdout",
     "output_type": "stream",
     "text": [
      "skipped ../speech-bahasa/LibriSpeech/train-clean-100/1363/139304/1363-139304-0036.flac\n"
     ]
    },
    {
     "name": "stderr",
     "output_type": "stream",
     "text": [
      "  3%|▎         | 863/31159 [00:33<16:44, 30.16it/s]"
     ]
    },
    {
     "name": "stdout",
     "output_type": "stream",
     "text": [
      "skipped ../speech-bahasa/LibriSpeech/train-clean-100/1363/135842/1363-135842-0010.flac\n"
     ]
    },
    {
     "name": "stderr",
     "output_type": "stream",
     "text": [
      "  3%|▎         | 895/31159 [00:34<16:34, 30.44it/s]"
     ]
    },
    {
     "name": "stdout",
     "output_type": "stream",
     "text": [
      "skipped ../speech-bahasa/LibriSpeech/train-clean-100/1363/135842/1363-135842-0042.flac\n",
      "skipped ../speech-bahasa/LibriSpeech/train-clean-100/1363/135842/1363-135842-0043.flac\n"
     ]
    },
    {
     "name": "stderr",
     "output_type": "stream",
     "text": [
      "  3%|▎         | 910/31159 [00:34<20:05, 25.09it/s]"
     ]
    },
    {
     "name": "stdout",
     "output_type": "stream",
     "text": [
      "skipped ../speech-bahasa/LibriSpeech/train-clean-100/7226/86964/7226-86964-0003.flac\n",
      "skipped ../speech-bahasa/LibriSpeech/train-clean-100/7226/86964/7226-86964-0004.flac\n"
     ]
    },
    {
     "name": "stderr",
     "output_type": "stream",
     "text": [
      "  3%|▎         | 923/31159 [00:35<18:56, 26.61it/s]"
     ]
    },
    {
     "name": "stdout",
     "output_type": "stream",
     "text": [
      "skipped ../speech-bahasa/LibriSpeech/train-clean-100/7226/86964/7226-86964-0019.flac\n"
     ]
    },
    {
     "name": "stderr",
     "output_type": "stream",
     "text": [
      "  3%|▎         | 930/31159 [00:35<18:33, 27.14it/s]"
     ]
    },
    {
     "name": "stdout",
     "output_type": "stream",
     "text": [
      "skipped ../speech-bahasa/LibriSpeech/train-clean-100/7226/86964/7226-86964-0025.flac\n",
      "skipped ../speech-bahasa/LibriSpeech/train-clean-100/7226/86964/7226-86964-0029.flac\n"
     ]
    },
    {
     "name": "stderr",
     "output_type": "stream",
     "text": [
      "  3%|▎         | 964/31159 [00:36<17:27, 28.84it/s]"
     ]
    },
    {
     "name": "stdout",
     "output_type": "stream",
     "text": [
      "skipped ../speech-bahasa/LibriSpeech/train-clean-100/7226/86964/7226-86964-0058.flac\n"
     ]
    },
    {
     "name": "stderr",
     "output_type": "stream",
     "text": [
      "  3%|▎         | 972/31159 [00:37<17:22, 28.95it/s]"
     ]
    },
    {
     "name": "stdout",
     "output_type": "stream",
     "text": [
      "skipped ../speech-bahasa/LibriSpeech/train-clean-100/7226/86965/7226-86965-0005.flac\n"
     ]
    },
    {
     "name": "stderr",
     "output_type": "stream",
     "text": [
      "  3%|▎         | 997/31159 [00:38<19:47, 25.39it/s]"
     ]
    },
    {
     "name": "stdout",
     "output_type": "stream",
     "text": [
      "skipped ../speech-bahasa/LibriSpeech/train-clean-100/7226/86965/7226-86965-0031.flac\n"
     ]
    },
    {
     "name": "stderr",
     "output_type": "stream",
     "text": [
      "  3%|▎         | 1006/31159 [00:38<17:11, 29.22it/s]"
     ]
    },
    {
     "name": "stdout",
     "output_type": "stream",
     "text": [
      "skipped ../speech-bahasa/LibriSpeech/train-clean-100/7226/86965/7226-86965-0037.flac\n",
      "skipped ../speech-bahasa/LibriSpeech/train-clean-100/7226/86965/7226-86965-0039.flac\n",
      "skipped ../speech-bahasa/LibriSpeech/train-clean-100/7226/86965/7226-86965-0040.flac\n"
     ]
    },
    {
     "name": "stderr",
     "output_type": "stream",
     "text": [
      "  3%|▎         | 1015/31159 [00:38<16:21, 30.71it/s]"
     ]
    },
    {
     "name": "stdout",
     "output_type": "stream",
     "text": [
      "skipped ../speech-bahasa/LibriSpeech/train-clean-100/6529/62556/6529-62556-0000.flac\n"
     ]
    },
    {
     "name": "stderr",
     "output_type": "stream",
     "text": [
      "  3%|▎         | 1049/31159 [00:40<21:53, 22.93it/s]"
     ]
    },
    {
     "name": "stdout",
     "output_type": "stream",
     "text": [
      "skipped ../speech-bahasa/LibriSpeech/train-clean-100/6529/62556/6529-62556-0032.flac\n"
     ]
    },
    {
     "name": "stderr",
     "output_type": "stream",
     "text": [
      "  3%|▎         | 1072/31159 [00:41<23:21, 21.46it/s]"
     ]
    },
    {
     "name": "stdout",
     "output_type": "stream",
     "text": [
      "skipped ../speech-bahasa/LibriSpeech/train-clean-100/6529/62554/6529-62554-0007.flac\n"
     ]
    },
    {
     "name": "stderr",
     "output_type": "stream",
     "text": [
      "  3%|▎         | 1079/31159 [00:41<20:24, 24.57it/s]"
     ]
    },
    {
     "name": "stdout",
     "output_type": "stream",
     "text": [
      "skipped ../speech-bahasa/LibriSpeech/train-clean-100/6529/62554/6529-62554-0013.flac\n"
     ]
    },
    {
     "name": "stderr",
     "output_type": "stream",
     "text": [
      "  4%|▎         | 1095/31159 [00:42<18:40, 26.84it/s]"
     ]
    },
    {
     "name": "stdout",
     "output_type": "stream",
     "text": [
      "skipped ../speech-bahasa/LibriSpeech/train-clean-100/6529/62554/6529-62554-0029.flac\n"
     ]
    },
    {
     "name": "stderr",
     "output_type": "stream",
     "text": [
      "  4%|▎         | 1139/31159 [00:44<19:27, 25.70it/s]"
     ]
    },
    {
     "name": "stdout",
     "output_type": "stream",
     "text": [
      "skipped ../speech-bahasa/LibriSpeech/train-clean-100/5703/47212/5703-47212-0016.flac\n"
     ]
    },
    {
     "name": "stderr",
     "output_type": "stream",
     "text": [
      "  4%|▍         | 1169/31159 [00:45<18:44, 26.68it/s]"
     ]
    },
    {
     "name": "stdout",
     "output_type": "stream",
     "text": [
      "skipped ../speech-bahasa/LibriSpeech/train-clean-100/5703/47212/5703-47212-0045.flac\n"
     ]
    },
    {
     "name": "stderr",
     "output_type": "stream",
     "text": [
      "  4%|▍         | 1185/31159 [00:46<19:49, 25.19it/s]"
     ]
    },
    {
     "name": "stdout",
     "output_type": "stream",
     "text": [
      "skipped ../speech-bahasa/LibriSpeech/train-clean-100/5703/47198/5703-47198-0009.flac\n"
     ]
    },
    {
     "name": "stderr",
     "output_type": "stream",
     "text": [
      "  4%|▍         | 1188/31159 [00:46<20:09, 24.79it/s]"
     ]
    },
    {
     "name": "stdout",
     "output_type": "stream",
     "text": [
      "skipped ../speech-bahasa/LibriSpeech/train-clean-100/5703/47198/5703-47198-0015.flac\n",
      "skipped ../speech-bahasa/LibriSpeech/train-clean-100/5703/47198/5703-47198-0016.flac\n",
      "skipped ../speech-bahasa/LibriSpeech/train-clean-100/5703/47198/5703-47198-0018.flac\n",
      "skipped ../speech-bahasa/LibriSpeech/train-clean-100/5703/47198/5703-47198-0019.flac\n"
     ]
    },
    {
     "name": "stderr",
     "output_type": "stream",
     "text": [
      "  4%|▍         | 1228/31159 [00:47<17:22, 28.71it/s]"
     ]
    },
    {
     "name": "stdout",
     "output_type": "stream",
     "text": [
      "skipped ../speech-bahasa/LibriSpeech/train-clean-100/5703/47198/5703-47198-0053.flac\n"
     ]
    },
    {
     "name": "stderr",
     "output_type": "stream",
     "text": [
      "  4%|▍         | 1242/31159 [00:48<19:33, 25.49it/s]"
     ]
    },
    {
     "name": "stdout",
     "output_type": "stream",
     "text": [
      "skipped ../speech-bahasa/LibriSpeech/train-clean-100/1502/122619/1502-122619-0004.flac\n"
     ]
    },
    {
     "name": "stderr",
     "output_type": "stream",
     "text": [
      "  4%|▍         | 1258/31159 [00:48<15:34, 31.99it/s]"
     ]
    },
    {
     "name": "stdout",
     "output_type": "stream",
     "text": [
      "skipped ../speech-bahasa/LibriSpeech/train-clean-100/1502/122619/1502-122619-0021.flac\n"
     ]
    },
    {
     "name": "stderr",
     "output_type": "stream",
     "text": [
      "  4%|▍         | 1332/31159 [00:51<13:53, 35.77it/s]"
     ]
    },
    {
     "name": "stdout",
     "output_type": "stream",
     "text": [
      "skipped ../speech-bahasa/LibriSpeech/train-clean-100/1502/122615/1502-122615-0003.flac\n"
     ]
    },
    {
     "name": "stderr",
     "output_type": "stream",
     "text": [
      "  4%|▍         | 1350/31159 [00:51<19:39, 25.27it/s]"
     ]
    },
    {
     "name": "stdout",
     "output_type": "stream",
     "text": [
      "skipped ../speech-bahasa/LibriSpeech/train-clean-100/1502/122615/1502-122615-0018.flac\n",
      "skipped ../speech-bahasa/LibriSpeech/train-clean-100/1502/122615/1502-122615-0024.flac\n"
     ]
    },
    {
     "name": "stderr",
     "output_type": "stream",
     "text": [
      "  4%|▍         | 1395/31159 [00:53<18:08, 27.35it/s]"
     ]
    },
    {
     "name": "stdout",
     "output_type": "stream",
     "text": [
      "skipped ../speech-bahasa/LibriSpeech/train-clean-100/4018/107312/4018-107312-0021.flac\n",
      "skipped ../speech-bahasa/LibriSpeech/train-clean-100/4018/107312/4018-107312-0023.flac\n",
      "skipped ../speech-bahasa/LibriSpeech/train-clean-100/4018/107312/4018-107312-0025.flac\n"
     ]
    },
    {
     "name": "stderr",
     "output_type": "stream",
     "text": [
      "  5%|▍         | 1431/31159 [00:55<23:02, 21.51it/s]"
     ]
    },
    {
     "name": "stdout",
     "output_type": "stream",
     "text": [
      "skipped ../speech-bahasa/LibriSpeech/train-clean-100/4018/107338/4018-107338-0021.flac\n",
      "skipped ../speech-bahasa/LibriSpeech/train-clean-100/4018/107338/4018-107338-0026.flac\n"
     ]
    },
    {
     "name": "stderr",
     "output_type": "stream",
     "text": [
      "  5%|▍         | 1445/31159 [00:55<19:16, 25.70it/s]"
     ]
    },
    {
     "name": "stdout",
     "output_type": "stream",
     "text": [
      "skipped ../speech-bahasa/LibriSpeech/train-clean-100/4018/103416/4018-103416-0003.flac\n"
     ]
    },
    {
     "name": "stderr",
     "output_type": "stream",
     "text": [
      "  5%|▍         | 1484/31159 [00:57<18:27, 26.80it/s]"
     ]
    },
    {
     "name": "stdout",
     "output_type": "stream",
     "text": [
      "skipped ../speech-bahasa/LibriSpeech/train-clean-100/3240/131231/3240-131231-0000.flac\n"
     ]
    },
    {
     "name": "stderr",
     "output_type": "stream",
     "text": [
      "  5%|▍         | 1498/31159 [00:57<15:08, 32.64it/s]"
     ]
    },
    {
     "name": "stdout",
     "output_type": "stream",
     "text": [
      "skipped ../speech-bahasa/LibriSpeech/train-clean-100/3240/131231/3240-131231-0015.flac\n",
      "skipped ../speech-bahasa/LibriSpeech/train-clean-100/3240/131231/3240-131231-0017.flac\n"
     ]
    },
    {
     "name": "stderr",
     "output_type": "stream",
     "text": [
      "  5%|▍         | 1506/31159 [00:57<15:44, 31.39it/s]"
     ]
    },
    {
     "name": "stdout",
     "output_type": "stream",
     "text": [
      "skipped ../speech-bahasa/LibriSpeech/train-clean-100/3240/131231/3240-131231-0023.flac\n"
     ]
    },
    {
     "name": "stderr",
     "output_type": "stream",
     "text": [
      "  5%|▍         | 1517/31159 [00:58<19:20, 25.53it/s]"
     ]
    },
    {
     "name": "stdout",
     "output_type": "stream",
     "text": [
      "skipped ../speech-bahasa/LibriSpeech/train-clean-100/3240/131231/3240-131231-0034.flac\n"
     ]
    },
    {
     "name": "stderr",
     "output_type": "stream",
     "text": [
      "  5%|▍         | 1525/31159 [00:58<17:07, 28.85it/s]"
     ]
    },
    {
     "name": "stdout",
     "output_type": "stream",
     "text": [
      "skipped ../speech-bahasa/LibriSpeech/train-clean-100/3240/131231/3240-131231-0044.flac\n"
     ]
    },
    {
     "name": "stderr",
     "output_type": "stream",
     "text": [
      "  5%|▍         | 1544/31159 [00:59<15:15, 32.36it/s]"
     ]
    },
    {
     "name": "stdout",
     "output_type": "stream",
     "text": [
      "skipped ../speech-bahasa/LibriSpeech/train-clean-100/3240/131231/3240-131231-0064.flac\n"
     ]
    },
    {
     "name": "stderr",
     "output_type": "stream",
     "text": [
      "  5%|▌         | 1577/31159 [01:00<19:48, 24.90it/s]"
     ]
    },
    {
     "name": "stdout",
     "output_type": "stream",
     "text": [
      "skipped ../speech-bahasa/LibriSpeech/train-clean-100/3240/131232/3240-131232-0010.flac\n"
     ]
    },
    {
     "name": "stderr",
     "output_type": "stream",
     "text": [
      "  5%|▌         | 1589/31159 [01:00<16:04, 30.66it/s]"
     ]
    },
    {
     "name": "stdout",
     "output_type": "stream",
     "text": [
      "skipped ../speech-bahasa/LibriSpeech/train-clean-100/3240/131232/3240-131232-0019.flac\n",
      "skipped ../speech-bahasa/LibriSpeech/train-clean-100/3240/131232/3240-131232-0021.flac\n"
     ]
    },
    {
     "name": "stderr",
     "output_type": "stream",
     "text": [
      "  5%|▌         | 1615/31159 [01:01<20:24, 24.13it/s]"
     ]
    },
    {
     "name": "stdout",
     "output_type": "stream",
     "text": [
      "skipped ../speech-bahasa/LibriSpeech/train-clean-100/2514/149482/2514-149482-0005.flac\n"
     ]
    },
    {
     "name": "stderr",
     "output_type": "stream",
     "text": [
      "  5%|▌         | 1620/31159 [01:02<17:41, 27.83it/s]"
     ]
    },
    {
     "name": "stdout",
     "output_type": "stream",
     "text": [
      "skipped ../speech-bahasa/LibriSpeech/train-clean-100/2514/149482/2514-149482-0011.flac\n",
      "skipped ../speech-bahasa/LibriSpeech/train-clean-100/2514/149482/2514-149482-0013.flac\n"
     ]
    },
    {
     "name": "stderr",
     "output_type": "stream",
     "text": [
      "  5%|▌         | 1637/31159 [01:02<18:28, 26.64it/s]"
     ]
    },
    {
     "name": "stdout",
     "output_type": "stream",
     "text": [
      "skipped ../speech-bahasa/LibriSpeech/train-clean-100/2514/149482/2514-149482-0028.flac\n",
      "skipped ../speech-bahasa/LibriSpeech/train-clean-100/2514/149482/2514-149482-0032.flac\n",
      "skipped ../speech-bahasa/LibriSpeech/train-clean-100/2514/149482/2514-149482-0033.flac\n",
      "skipped ../speech-bahasa/LibriSpeech/train-clean-100/2514/149482/2514-149482-0035.flac\n"
     ]
    },
    {
     "name": "stderr",
     "output_type": "stream",
     "text": [
      "  5%|▌         | 1648/31159 [01:02<14:48, 33.22it/s]"
     ]
    },
    {
     "name": "stdout",
     "output_type": "stream",
     "text": [
      "skipped ../speech-bahasa/LibriSpeech/train-clean-100/2514/149482/2514-149482-0039.flac\n",
      "skipped ../speech-bahasa/LibriSpeech/train-clean-100/2514/149482/2514-149482-0040.flac\n"
     ]
    },
    {
     "name": "stderr",
     "output_type": "stream",
     "text": [
      "  5%|▌         | 1658/31159 [01:03<20:34, 23.89it/s]"
     ]
    },
    {
     "name": "stdout",
     "output_type": "stream",
     "text": [
      "skipped ../speech-bahasa/LibriSpeech/train-clean-100/2514/149482/2514-149482-0050.flac\n"
     ]
    },
    {
     "name": "stderr",
     "output_type": "stream",
     "text": [
      "  5%|▌         | 1684/31159 [01:04<19:38, 25.02it/s]"
     ]
    },
    {
     "name": "stdout",
     "output_type": "stream",
     "text": [
      "skipped ../speech-bahasa/LibriSpeech/train-clean-100/2514/149482/2514-149482-0074.flac\n",
      "skipped ../speech-bahasa/LibriSpeech/train-clean-100/2514/149482/2514-149482-0075.flac\n"
     ]
    },
    {
     "name": "stderr",
     "output_type": "stream",
     "text": [
      "  5%|▌         | 1694/31159 [01:04<18:19, 26.81it/s]"
     ]
    },
    {
     "name": "stdout",
     "output_type": "stream",
     "text": [
      "skipped ../speech-bahasa/LibriSpeech/train-clean-100/2514/149482/2514-149482-0087.flac\n"
     ]
    },
    {
     "name": "stderr",
     "output_type": "stream",
     "text": [
      "  5%|▌         | 1712/31159 [01:05<21:49, 22.48it/s]"
     ]
    },
    {
     "name": "stdout",
     "output_type": "stream",
     "text": [
      "skipped ../speech-bahasa/LibriSpeech/train-clean-100/2514/149482/2514-149482-0103.flac\n",
      "skipped ../speech-bahasa/LibriSpeech/train-clean-100/2514/149482/2514-149482-0107.flac\n"
     ]
    },
    {
     "name": "stderr",
     "output_type": "stream",
     "text": [
      "  6%|▌         | 1725/31159 [01:06<16:46, 29.23it/s]"
     ]
    },
    {
     "name": "stdout",
     "output_type": "stream",
     "text": [
      "skipped ../speech-bahasa/LibriSpeech/train-clean-100/625/132112/625-132112-0007.flac\n",
      "skipped ../speech-bahasa/LibriSpeech/train-clean-100/625/132112/625-132112-0009.flac\n"
     ]
    },
    {
     "name": "stderr",
     "output_type": "stream",
     "text": [
      "  6%|▌         | 1729/31159 [01:06<16:40, 29.41it/s]"
     ]
    },
    {
     "name": "stdout",
     "output_type": "stream",
     "text": [
      "skipped ../speech-bahasa/LibriSpeech/train-clean-100/625/132112/625-132112-0014.flac\n"
     ]
    },
    {
     "name": "stderr",
     "output_type": "stream",
     "text": [
      "  6%|▌         | 1750/31159 [01:07<20:34, 23.82it/s]"
     ]
    },
    {
     "name": "stdout",
     "output_type": "stream",
     "text": [
      "skipped ../speech-bahasa/LibriSpeech/train-clean-100/625/132112/625-132112-0032.flac\n"
     ]
    },
    {
     "name": "stderr",
     "output_type": "stream",
     "text": [
      "  6%|▌         | 1765/31159 [01:07<19:39, 24.92it/s]"
     ]
    },
    {
     "name": "stdout",
     "output_type": "stream",
     "text": [
      "skipped ../speech-bahasa/LibriSpeech/train-clean-100/625/132112/625-132112-0049.flac\n"
     ]
    },
    {
     "name": "stderr",
     "output_type": "stream",
     "text": [
      "  6%|▌         | 1845/31159 [01:11<18:03, 27.05it/s]"
     ]
    },
    {
     "name": "stdout",
     "output_type": "stream",
     "text": [
      "skipped ../speech-bahasa/LibriSpeech/train-clean-100/909/131041/909-131041-0019.flac\n"
     ]
    },
    {
     "name": "stderr",
     "output_type": "stream",
     "text": [
      "  6%|▌         | 1852/31159 [01:11<18:24, 26.53it/s]"
     ]
    },
    {
     "name": "stdout",
     "output_type": "stream",
     "text": [
      "skipped ../speech-bahasa/LibriSpeech/train-clean-100/909/131041/909-131041-0026.flac\n"
     ]
    },
    {
     "name": "stderr",
     "output_type": "stream",
     "text": [
      "  6%|▌         | 1874/31159 [01:12<20:16, 24.08it/s]"
     ]
    },
    {
     "name": "stdout",
     "output_type": "stream",
     "text": [
      "skipped ../speech-bahasa/LibriSpeech/train-clean-100/909/131044/909-131044-0015.flac\n"
     ]
    },
    {
     "name": "stderr",
     "output_type": "stream",
     "text": [
      "  6%|▌         | 1923/31159 [01:14<18:58, 25.68it/s]"
     ]
    },
    {
     "name": "stdout",
     "output_type": "stream",
     "text": [
      "skipped ../speech-bahasa/LibriSpeech/train-clean-100/909/131045/909-131045-0029.flac\n"
     ]
    },
    {
     "name": "stderr",
     "output_type": "stream",
     "text": [
      "  6%|▋         | 1954/31159 [01:15<20:16, 24.00it/s]"
     ]
    },
    {
     "name": "stdout",
     "output_type": "stream",
     "text": [
      "skipped ../speech-bahasa/LibriSpeech/train-clean-100/6437/66173/6437-66173-0017.flac\n"
     ]
    },
    {
     "name": "stderr",
     "output_type": "stream",
     "text": [
      "  6%|▋         | 1990/31159 [01:17<18:32, 26.21it/s]"
     ]
    },
    {
     "name": "stdout",
     "output_type": "stream",
     "text": [
      "skipped ../speech-bahasa/LibriSpeech/train-clean-100/6437/66173/6437-66173-0052.flac\n",
      "skipped ../speech-bahasa/LibriSpeech/train-clean-100/6437/66173/6437-66173-0054.flac\n",
      "skipped ../speech-bahasa/LibriSpeech/train-clean-100/6437/66173/6437-66173-0058.flac\n"
     ]
    },
    {
     "name": "stderr",
     "output_type": "stream",
     "text": [
      "  6%|▋         | 2001/31159 [01:17<17:22, 27.98it/s]"
     ]
    },
    {
     "name": "stdout",
     "output_type": "stream",
     "text": [
      "skipped ../speech-bahasa/LibriSpeech/train-clean-100/6437/66173/6437-66173-0062.flac\n"
     ]
    },
    {
     "name": "stderr",
     "output_type": "stream",
     "text": [
      "  6%|▋         | 2023/31159 [01:18<22:48, 21.29it/s]"
     ]
    },
    {
     "name": "stdout",
     "output_type": "stream",
     "text": [
      "skipped ../speech-bahasa/LibriSpeech/train-clean-100/6437/66172/6437-66172-0024.flac\n"
     ]
    },
    {
     "name": "stderr",
     "output_type": "stream",
     "text": [
      "  7%|▋         | 2030/31159 [01:19<20:09, 24.08it/s]"
     ]
    },
    {
     "name": "stdout",
     "output_type": "stream",
     "text": [
      "skipped ../speech-bahasa/LibriSpeech/train-clean-100/6437/66172/6437-66172-0031.flac\n"
     ]
    },
    {
     "name": "stderr",
     "output_type": "stream",
     "text": [
      "  7%|▋         | 2046/31159 [01:19<18:32, 26.16it/s]"
     ]
    },
    {
     "name": "stdout",
     "output_type": "stream",
     "text": [
      "skipped ../speech-bahasa/LibriSpeech/train-clean-100/6437/66172/6437-66172-0044.flac\n"
     ]
    },
    {
     "name": "stderr",
     "output_type": "stream",
     "text": [
      "  7%|▋         | 2051/31159 [01:19<16:34, 29.26it/s]"
     ]
    },
    {
     "name": "stdout",
     "output_type": "stream",
     "text": [
      "skipped ../speech-bahasa/LibriSpeech/train-clean-100/6081/42010/6081-42010-0006.flac\n"
     ]
    },
    {
     "name": "stderr",
     "output_type": "stream",
     "text": [
      "  7%|▋         | 2124/31159 [01:22<15:33, 31.10it/s]"
     ]
    },
    {
     "name": "stdout",
     "output_type": "stream",
     "text": [
      "skipped ../speech-bahasa/LibriSpeech/train-clean-100/6081/41998/6081-41998-0037.flac\n",
      "skipped ../speech-bahasa/LibriSpeech/train-clean-100/6081/41998/6081-41998-0038.flac\n"
     ]
    },
    {
     "name": "stderr",
     "output_type": "stream",
     "text": [
      "  7%|▋         | 2140/31159 [01:23<15:48, 30.59it/s]"
     ]
    },
    {
     "name": "stdout",
     "output_type": "stream",
     "text": [
      "skipped ../speech-bahasa/LibriSpeech/train-clean-100/6081/41997/6081-41997-0011.flac\n",
      "skipped ../speech-bahasa/LibriSpeech/train-clean-100/6081/41997/6081-41997-0013.flac\n"
     ]
    },
    {
     "name": "stderr",
     "output_type": "stream",
     "text": [
      "  7%|▋         | 2168/31159 [01:24<17:46, 27.19it/s]"
     ]
    },
    {
     "name": "stdout",
     "output_type": "stream",
     "text": [
      "skipped ../speech-bahasa/LibriSpeech/train-clean-100/6081/41997/6081-41997-0038.flac\n",
      "skipped ../speech-bahasa/LibriSpeech/train-clean-100/412/126975/412-126975-0004.flac\n"
     ]
    },
    {
     "name": "stderr",
     "output_type": "stream",
     "text": [
      "  7%|▋         | 2178/31159 [01:24<18:28, 26.14it/s]"
     ]
    },
    {
     "name": "stdout",
     "output_type": "stream",
     "text": [
      "skipped ../speech-bahasa/LibriSpeech/train-clean-100/412/126975/412-126975-0011.flac\n"
     ]
    },
    {
     "name": "stderr",
     "output_type": "stream",
     "text": [
      "  7%|▋         | 2197/31159 [01:25<23:06, 20.89it/s]"
     ]
    },
    {
     "name": "stdout",
     "output_type": "stream",
     "text": [
      "skipped ../speech-bahasa/LibriSpeech/train-clean-100/412/126975/412-126975-0031.flac\n"
     ]
    },
    {
     "name": "stderr",
     "output_type": "stream",
     "text": [
      "  7%|▋         | 2210/31159 [01:26<19:16, 25.04it/s]"
     ]
    },
    {
     "name": "stdout",
     "output_type": "stream",
     "text": [
      "skipped ../speech-bahasa/LibriSpeech/train-clean-100/412/126975/412-126975-0044.flac\n"
     ]
    },
    {
     "name": "stderr",
     "output_type": "stream",
     "text": [
      "  7%|▋         | 2220/31159 [01:26<18:34, 25.96it/s]"
     ]
    },
    {
     "name": "stdout",
     "output_type": "stream",
     "text": [
      "skipped ../speech-bahasa/LibriSpeech/train-clean-100/412/126975/412-126975-0053.flac\n"
     ]
    },
    {
     "name": "stderr",
     "output_type": "stream",
     "text": [
      "  7%|▋         | 2260/31159 [01:28<20:05, 23.97it/s]"
     ]
    },
    {
     "name": "stdout",
     "output_type": "stream",
     "text": [
      "skipped ../speech-bahasa/LibriSpeech/train-clean-100/412/126975/412-126975-0093.flac\n"
     ]
    },
    {
     "name": "stderr",
     "output_type": "stream",
     "text": [
      "  7%|▋         | 2270/31159 [01:28<19:16, 24.97it/s]"
     ]
    },
    {
     "name": "stdout",
     "output_type": "stream",
     "text": [
      "skipped ../speech-bahasa/LibriSpeech/train-clean-100/2196/170151/2196-170151-0009.flac\n"
     ]
    },
    {
     "name": "stderr",
     "output_type": "stream",
     "text": [
      "  7%|▋         | 2280/31159 [01:29<23:36, 20.39it/s]"
     ]
    },
    {
     "name": "stdout",
     "output_type": "stream",
     "text": [
      "skipped ../speech-bahasa/LibriSpeech/train-clean-100/2196/170151/2196-170151-0020.flac\n",
      "skipped ../speech-bahasa/LibriSpeech/train-clean-100/2196/170151/2196-170151-0024.flac\n"
     ]
    },
    {
     "name": "stderr",
     "output_type": "stream",
     "text": [
      "  7%|▋         | 2323/31159 [01:31<23:44, 20.24it/s]"
     ]
    },
    {
     "name": "stdout",
     "output_type": "stream",
     "text": [
      "skipped ../speech-bahasa/LibriSpeech/train-clean-100/2196/170379/2196-170379-0027.flac\n"
     ]
    },
    {
     "name": "stderr",
     "output_type": "stream",
     "text": [
      "  8%|▊         | 2349/31159 [01:32<19:16, 24.91it/s]"
     ]
    },
    {
     "name": "stdout",
     "output_type": "stream",
     "text": [
      "skipped ../speech-bahasa/LibriSpeech/train-clean-100/2196/174172/2196-174172-0017.flac\n"
     ]
    },
    {
     "name": "stderr",
     "output_type": "stream",
     "text": [
      "  8%|▊         | 2423/31159 [01:35<18:33, 25.80it/s]"
     ]
    },
    {
     "name": "stdout",
     "output_type": "stream",
     "text": [
      "skipped ../speech-bahasa/LibriSpeech/train-clean-100/403/126855/403-126855-0018.flac\n"
     ]
    },
    {
     "name": "stderr",
     "output_type": "stream",
     "text": [
      "  8%|▊         | 2435/31159 [01:35<16:05, 29.75it/s]"
     ]
    },
    {
     "name": "stdout",
     "output_type": "stream",
     "text": [
      "skipped ../speech-bahasa/LibriSpeech/train-clean-100/403/126855/403-126855-0031.flac\n"
     ]
    },
    {
     "name": "stderr",
     "output_type": "stream",
     "text": [
      "  8%|▊         | 2442/31159 [01:36<21:39, 22.10it/s]"
     ]
    },
    {
     "name": "stdout",
     "output_type": "stream",
     "text": [
      "skipped ../speech-bahasa/LibriSpeech/train-clean-100/403/128339/403-128339-0006.flac\n"
     ]
    },
    {
     "name": "stderr",
     "output_type": "stream",
     "text": [
      "  8%|▊         | 2458/31159 [01:36<18:07, 26.38it/s]"
     ]
    },
    {
     "name": "stdout",
     "output_type": "stream",
     "text": [
      "skipped ../speech-bahasa/LibriSpeech/train-clean-100/403/128339/403-128339-0022.flac\n"
     ]
    },
    {
     "name": "stderr",
     "output_type": "stream",
     "text": [
      "  8%|▊         | 2468/31159 [01:37<17:39, 27.07it/s]"
     ]
    },
    {
     "name": "stdout",
     "output_type": "stream",
     "text": [
      "skipped ../speech-bahasa/LibriSpeech/train-clean-100/403/128339/403-128339-0033.flac\n"
     ]
    },
    {
     "name": "stderr",
     "output_type": "stream",
     "text": [
      "  8%|▊         | 2511/31159 [01:39<16:28, 28.99it/s]"
     ]
    },
    {
     "name": "stdout",
     "output_type": "stream",
     "text": [
      "skipped ../speech-bahasa/LibriSpeech/train-clean-100/7078/271888/7078-271888-0023.flac\n",
      "skipped ../speech-bahasa/LibriSpeech/train-clean-100/7078/271888/7078-271888-0024.flac\n",
      "skipped ../speech-bahasa/LibriSpeech/train-clean-100/7078/271888/7078-271888-0025.flac\n"
     ]
    },
    {
     "name": "stderr",
     "output_type": "stream",
     "text": [
      "  8%|▊         | 2643/31159 [01:44<15:33, 30.55it/s]"
     ]
    },
    {
     "name": "stdout",
     "output_type": "stream",
     "text": [
      "skipped ../speech-bahasa/LibriSpeech/train-clean-100/7178/34644/7178-34644-0000.flac\n",
      "skipped ../speech-bahasa/LibriSpeech/train-clean-100/7178/34644/7178-34644-0004.flac\n",
      "skipped ../speech-bahasa/LibriSpeech/train-clean-100/7178/34644/7178-34644-0005.flac\n"
     ]
    },
    {
     "name": "stderr",
     "output_type": "stream",
     "text": [
      "  9%|▊         | 2657/31159 [01:44<18:43, 25.37it/s]"
     ]
    },
    {
     "name": "stdout",
     "output_type": "stream",
     "text": [
      "skipped ../speech-bahasa/LibriSpeech/train-clean-100/7178/34644/7178-34644-0014.flac\n"
     ]
    },
    {
     "name": "stderr",
     "output_type": "stream",
     "text": [
      "  9%|▊         | 2676/31159 [01:45<15:21, 30.91it/s]"
     ]
    },
    {
     "name": "stdout",
     "output_type": "stream",
     "text": [
      "skipped ../speech-bahasa/LibriSpeech/train-clean-100/7178/34644/7178-34644-0031.flac\n",
      "skipped ../speech-bahasa/LibriSpeech/train-clean-100/7178/34644/7178-34644-0034.flac\n"
     ]
    },
    {
     "name": "stderr",
     "output_type": "stream",
     "text": [
      "  9%|▊         | 2692/31159 [01:46<21:56, 21.62it/s]"
     ]
    },
    {
     "name": "stdout",
     "output_type": "stream",
     "text": [
      "skipped ../speech-bahasa/LibriSpeech/train-clean-100/7178/34644/7178-34644-0050.flac\n"
     ]
    },
    {
     "name": "stderr",
     "output_type": "stream",
     "text": [
      "  9%|▊         | 2699/31159 [01:46<19:36, 24.20it/s]"
     ]
    },
    {
     "name": "stdout",
     "output_type": "stream",
     "text": [
      "skipped ../speech-bahasa/LibriSpeech/train-clean-100/7178/34644/7178-34644-0058.flac\n"
     ]
    },
    {
     "name": "stderr",
     "output_type": "stream",
     "text": [
      "  9%|▊         | 2719/31159 [01:47<16:33, 28.63it/s]"
     ]
    },
    {
     "name": "stdout",
     "output_type": "stream",
     "text": [
      "skipped ../speech-bahasa/LibriSpeech/train-clean-100/1334/135589/1334-135589-0002.flac\n",
      "skipped ../speech-bahasa/LibriSpeech/train-clean-100/1334/135589/1334-135589-0005.flac\n"
     ]
    },
    {
     "name": "stderr",
     "output_type": "stream",
     "text": [
      "  9%|▉         | 2728/31159 [01:47<15:23, 30.78it/s]"
     ]
    },
    {
     "name": "stdout",
     "output_type": "stream",
     "text": [
      "skipped ../speech-bahasa/LibriSpeech/train-clean-100/1334/135589/1334-135589-0010.flac\n",
      "skipped ../speech-bahasa/LibriSpeech/train-clean-100/1334/135589/1334-135589-0015.flac\n",
      "skipped ../speech-bahasa/LibriSpeech/train-clean-100/1334/135589/1334-135589-0016.flac\n"
     ]
    },
    {
     "name": "stderr",
     "output_type": "stream",
     "text": [
      "  9%|▉         | 2733/31159 [01:47<13:57, 33.93it/s]"
     ]
    },
    {
     "name": "stdout",
     "output_type": "stream",
     "text": [
      "skipped ../speech-bahasa/LibriSpeech/train-clean-100/1334/135589/1334-135589-0019.flac\n"
     ]
    },
    {
     "name": "stderr",
     "output_type": "stream",
     "text": [
      "  9%|▉         | 2744/31159 [01:48<19:04, 24.82it/s]"
     ]
    },
    {
     "name": "stdout",
     "output_type": "stream",
     "text": [
      "skipped ../speech-bahasa/LibriSpeech/train-clean-100/1334/135589/1334-135589-0024.flac\n"
     ]
    },
    {
     "name": "stderr",
     "output_type": "stream",
     "text": [
      "  9%|▉         | 2757/31159 [01:48<16:23, 28.87it/s]"
     ]
    },
    {
     "name": "stdout",
     "output_type": "stream",
     "text": [
      "skipped ../speech-bahasa/LibriSpeech/train-clean-100/1334/135589/1334-135589-0037.flac\n",
      "skipped ../speech-bahasa/LibriSpeech/train-clean-100/1334/135589/1334-135589-0039.flac\n"
     ]
    },
    {
     "name": "stderr",
     "output_type": "stream",
     "text": [
      "  9%|▉         | 2766/31159 [01:48<16:01, 29.52it/s]"
     ]
    },
    {
     "name": "stdout",
     "output_type": "stream",
     "text": [
      "skipped ../speech-bahasa/LibriSpeech/train-clean-100/1334/135589/1334-135589-0047.flac\n",
      "skipped ../speech-bahasa/LibriSpeech/train-clean-100/1334/135589/1334-135589-0049.flac\n"
     ]
    },
    {
     "name": "stderr",
     "output_type": "stream",
     "text": [
      "  9%|▉         | 2796/31159 [01:50<19:59, 23.64it/s]"
     ]
    },
    {
     "name": "stdout",
     "output_type": "stream",
     "text": [
      "skipped ../speech-bahasa/LibriSpeech/train-clean-100/1334/135589/1334-135589-0077.flac\n"
     ]
    },
    {
     "name": "stderr",
     "output_type": "stream",
     "text": [
      "  9%|▉         | 2830/31159 [01:51<24:26, 19.31it/s]"
     ]
    },
    {
     "name": "stdout",
     "output_type": "stream",
     "text": [
      "skipped ../speech-bahasa/LibriSpeech/train-clean-100/3526/176653/3526-176653-0006.flac\n"
     ]
    },
    {
     "name": "stderr",
     "output_type": "stream",
     "text": [
      "  9%|▉         | 2854/31159 [01:52<16:16, 29.00it/s]"
     ]
    },
    {
     "name": "stdout",
     "output_type": "stream",
     "text": [
      "skipped ../speech-bahasa/LibriSpeech/train-clean-100/3526/176653/3526-176653-0027.flac\n",
      "skipped ../speech-bahasa/LibriSpeech/train-clean-100/3526/176653/3526-176653-0031.flac\n"
     ]
    },
    {
     "name": "stderr",
     "output_type": "stream",
     "text": [
      "  9%|▉         | 2878/31159 [01:53<18:18, 25.75it/s]"
     ]
    },
    {
     "name": "stdout",
     "output_type": "stream",
     "text": [
      "skipped ../speech-bahasa/LibriSpeech/train-clean-100/3526/176653/3526-176653-0053.flac\n"
     ]
    },
    {
     "name": "stderr",
     "output_type": "stream",
     "text": [
      "  9%|▉         | 2907/31159 [01:54<17:08, 27.48it/s]"
     ]
    },
    {
     "name": "stdout",
     "output_type": "stream",
     "text": [
      "skipped ../speech-bahasa/LibriSpeech/train-clean-100/3526/175658/3526-175658-0027.flac\n"
     ]
    },
    {
     "name": "stderr",
     "output_type": "stream",
     "text": [
      "  9%|▉         | 2929/31159 [01:55<19:14, 24.46it/s]"
     ]
    },
    {
     "name": "stdout",
     "output_type": "stream",
     "text": [
      "skipped ../speech-bahasa/LibriSpeech/train-clean-100/3526/176651/3526-176651-0012.flac\n"
     ]
    },
    {
     "name": "stderr",
     "output_type": "stream",
     "text": [
      "  9%|▉         | 2936/31159 [01:56<18:12, 25.84it/s]"
     ]
    },
    {
     "name": "stdout",
     "output_type": "stream",
     "text": [
      "skipped ../speech-bahasa/LibriSpeech/train-clean-100/3526/176651/3526-176651-0019.flac\n"
     ]
    },
    {
     "name": "stderr",
     "output_type": "stream",
     "text": [
      " 10%|▉         | 2967/31159 [01:57<18:52, 24.90it/s]"
     ]
    },
    {
     "name": "stdout",
     "output_type": "stream",
     "text": [
      "skipped ../speech-bahasa/LibriSpeech/train-clean-100/6064/300880/6064-300880-0029.flac\n"
     ]
    },
    {
     "name": "stderr",
     "output_type": "stream",
     "text": [
      " 10%|▉         | 2987/31159 [01:58<17:20, 27.07it/s]"
     ]
    },
    {
     "name": "stdout",
     "output_type": "stream",
     "text": [
      "skipped ../speech-bahasa/LibriSpeech/train-clean-100/6064/56165/6064-56165-0009.flac\n"
     ]
    },
    {
     "name": "stderr",
     "output_type": "stream",
     "text": [
      " 10%|▉         | 2993/31159 [01:58<21:29, 21.84it/s]"
     ]
    },
    {
     "name": "stdout",
     "output_type": "stream",
     "text": [
      "skipped ../speech-bahasa/LibriSpeech/train-clean-100/6064/56165/6064-56165-0014.flac\n",
      "skipped ../speech-bahasa/LibriSpeech/train-clean-100/6064/56165/6064-56165-0020.flac\n"
     ]
    },
    {
     "name": "stderr",
     "output_type": "stream",
     "text": [
      " 10%|▉         | 3015/31159 [01:59<18:46, 24.99it/s]"
     ]
    },
    {
     "name": "stdout",
     "output_type": "stream",
     "text": [
      "skipped ../speech-bahasa/LibriSpeech/train-clean-100/6064/56168/6064-56168-0001.flac\n",
      "skipped ../speech-bahasa/LibriSpeech/train-clean-100/6064/56168/6064-56168-0005.flac\n"
     ]
    },
    {
     "name": "stderr",
     "output_type": "stream",
     "text": [
      " 10%|▉         | 3029/31159 [01:59<17:03, 27.48it/s]"
     ]
    },
    {
     "name": "stdout",
     "output_type": "stream",
     "text": [
      "skipped ../speech-bahasa/LibriSpeech/train-clean-100/6064/56168/6064-56168-0016.flac\n"
     ]
    },
    {
     "name": "stderr",
     "output_type": "stream",
     "text": [
      " 10%|▉         | 3036/31159 [02:00<21:09, 22.16it/s]"
     ]
    },
    {
     "name": "stdout",
     "output_type": "stream",
     "text": [
      "skipped ../speech-bahasa/LibriSpeech/train-clean-100/6064/56168/6064-56168-0021.flac\n",
      "skipped ../speech-bahasa/LibriSpeech/train-clean-100/6064/56168/6064-56168-0023.flac\n"
     ]
    },
    {
     "name": "stderr",
     "output_type": "stream",
     "text": [
      " 10%|▉         | 3046/31159 [02:00<18:04, 25.93it/s]"
     ]
    },
    {
     "name": "stdout",
     "output_type": "stream",
     "text": [
      "skipped ../speech-bahasa/LibriSpeech/train-clean-100/6064/56168/6064-56168-0031.flac\n",
      "skipped ../speech-bahasa/LibriSpeech/train-clean-100/7148/7763/7148-7763-0001.flac\n"
     ]
    },
    {
     "name": "stderr",
     "output_type": "stream",
     "text": [
      " 10%|▉         | 3057/31159 [02:00<17:32, 26.69it/s]"
     ]
    },
    {
     "name": "stdout",
     "output_type": "stream",
     "text": [
      "skipped ../speech-bahasa/LibriSpeech/train-clean-100/7148/7763/7148-7763-0008.flac\n"
     ]
    },
    {
     "name": "stderr",
     "output_type": "stream",
     "text": [
      " 10%|▉         | 3085/31159 [02:02<21:55, 21.35it/s]"
     ]
    },
    {
     "name": "stdout",
     "output_type": "stream",
     "text": [
      "skipped ../speech-bahasa/LibriSpeech/train-clean-100/7148/7763/7148-7763-0034.flac\n"
     ]
    },
    {
     "name": "stderr",
     "output_type": "stream",
     "text": [
      " 10%|▉         | 3092/31159 [02:02<17:46, 26.32it/s]"
     ]
    },
    {
     "name": "stdout",
     "output_type": "stream",
     "text": [
      "skipped ../speech-bahasa/LibriSpeech/train-clean-100/7148/59157/7148-59157-0007.flac\n",
      "skipped ../speech-bahasa/LibriSpeech/train-clean-100/7148/59157/7148-59157-0008.flac\n"
     ]
    },
    {
     "name": "stderr",
     "output_type": "stream",
     "text": [
      " 10%|▉         | 3100/31159 [02:02<16:05, 29.07it/s]"
     ]
    },
    {
     "name": "stdout",
     "output_type": "stream",
     "text": [
      "skipped ../speech-bahasa/LibriSpeech/train-clean-100/7148/59157/7148-59157-0015.flac\n",
      "skipped ../speech-bahasa/LibriSpeech/train-clean-100/7148/59157/7148-59157-0017.flac\n",
      "skipped ../speech-bahasa/LibriSpeech/train-clean-100/7148/59157/7148-59157-0021.flac\n"
     ]
    },
    {
     "name": "stderr",
     "output_type": "stream",
     "text": [
      " 10%|█         | 3122/31159 [02:03<14:58, 31.20it/s]"
     ]
    },
    {
     "name": "stdout",
     "output_type": "stream",
     "text": [
      "skipped ../speech-bahasa/LibriSpeech/train-clean-100/7148/59157/7148-59157-0037.flac\n",
      "skipped ../speech-bahasa/LibriSpeech/train-clean-100/7148/59157/7148-59157-0038.flac\n"
     ]
    },
    {
     "name": "stderr",
     "output_type": "stream",
     "text": [
      " 10%|█         | 3141/31159 [02:04<17:30, 26.68it/s]"
     ]
    },
    {
     "name": "stdout",
     "output_type": "stream",
     "text": [
      "skipped ../speech-bahasa/LibriSpeech/train-clean-100/7148/82991/7148-82991-0013.flac\n",
      "skipped ../speech-bahasa/LibriSpeech/train-clean-100/7148/82991/7148-82991-0020.flac\n"
     ]
    },
    {
     "name": "stderr",
     "output_type": "stream",
     "text": [
      " 10%|█         | 3149/31159 [02:04<15:31, 30.08it/s]"
     ]
    },
    {
     "name": "stdout",
     "output_type": "stream",
     "text": [
      "skipped ../speech-bahasa/LibriSpeech/train-clean-100/7148/82991/7148-82991-0022.flac\n"
     ]
    },
    {
     "name": "stderr",
     "output_type": "stream",
     "text": [
      " 10%|█         | 3157/31159 [02:04<16:27, 28.36it/s]"
     ]
    },
    {
     "name": "stdout",
     "output_type": "stream",
     "text": [
      "skipped ../speech-bahasa/LibriSpeech/train-clean-100/7148/82991/7148-82991-0029.flac\n"
     ]
    },
    {
     "name": "stderr",
     "output_type": "stream",
     "text": [
      " 10%|█         | 3168/31159 [02:05<16:54, 27.59it/s]"
     ]
    },
    {
     "name": "stdout",
     "output_type": "stream",
     "text": [
      "skipped ../speech-bahasa/LibriSpeech/train-clean-100/2843/152918/2843-152918-0004.flac\n"
     ]
    },
    {
     "name": "stderr",
     "output_type": "stream",
     "text": [
      " 10%|█         | 3183/31159 [02:05<22:08, 21.06it/s]"
     ]
    },
    {
     "name": "stdout",
     "output_type": "stream",
     "text": [
      "skipped ../speech-bahasa/LibriSpeech/train-clean-100/2843/152918/2843-152918-0019.flac\n",
      "skipped ../speech-bahasa/LibriSpeech/train-clean-100/2843/152918/2843-152918-0020.flac\n"
     ]
    },
    {
     "name": "stderr",
     "output_type": "stream",
     "text": [
      " 10%|█         | 3197/31159 [02:06<17:55, 25.99it/s]"
     ]
    },
    {
     "name": "stdout",
     "output_type": "stream",
     "text": [
      "skipped ../speech-bahasa/LibriSpeech/train-clean-100/2843/152918/2843-152918-0031.flac\n"
     ]
    },
    {
     "name": "stderr",
     "output_type": "stream",
     "text": [
      " 10%|█         | 3250/31159 [02:08<15:14, 30.52it/s]"
     ]
    },
    {
     "name": "stdout",
     "output_type": "stream",
     "text": [
      "skipped ../speech-bahasa/LibriSpeech/train-clean-100/2843/152918/2843-152918-0084.flac\n",
      "skipped ../speech-bahasa/LibriSpeech/train-clean-100/2843/152918/2843-152918-0086.flac\n"
     ]
    },
    {
     "name": "stderr",
     "output_type": "stream",
     "text": [
      " 11%|█         | 3279/31159 [02:09<19:21, 23.99it/s]"
     ]
    },
    {
     "name": "stdout",
     "output_type": "stream",
     "text": [
      "skipped ../speech-bahasa/LibriSpeech/train-clean-100/8425/291444/8425-291444-0000.flac\n"
     ]
    },
    {
     "name": "stderr",
     "output_type": "stream",
     "text": [
      " 11%|█         | 3305/31159 [02:10<23:19, 19.91it/s]"
     ]
    },
    {
     "name": "stdout",
     "output_type": "stream",
     "text": [
      "skipped ../speech-bahasa/LibriSpeech/train-clean-100/8425/292520/8425-292520-0004.flac\n"
     ]
    },
    {
     "name": "stderr",
     "output_type": "stream",
     "text": [
      " 11%|█         | 3315/31159 [02:11<19:02, 24.36it/s]"
     ]
    },
    {
     "name": "stdout",
     "output_type": "stream",
     "text": [
      "skipped ../speech-bahasa/LibriSpeech/train-clean-100/8425/292520/8425-292520-0014.flac\n"
     ]
    },
    {
     "name": "stderr",
     "output_type": "stream",
     "text": [
      " 11%|█         | 3325/31159 [02:11<17:37, 26.32it/s]"
     ]
    },
    {
     "name": "stdout",
     "output_type": "stream",
     "text": [
      "skipped ../speech-bahasa/LibriSpeech/train-clean-100/8425/292520/8425-292520-0024.flac\n"
     ]
    },
    {
     "name": "stderr",
     "output_type": "stream",
     "text": [
      " 11%|█         | 3329/31159 [02:11<16:49, 27.57it/s]"
     ]
    },
    {
     "name": "stdout",
     "output_type": "stream",
     "text": [
      "skipped ../speech-bahasa/LibriSpeech/train-clean-100/8425/287387/8425-287387-0000.flac\n",
      "skipped ../speech-bahasa/LibriSpeech/train-clean-100/8425/287387/8425-287387-0003.flac\n"
     ]
    },
    {
     "name": "stderr",
     "output_type": "stream",
     "text": [
      " 11%|█         | 3377/31159 [02:13<16:59, 27.26it/s]"
     ]
    },
    {
     "name": "stdout",
     "output_type": "stream",
     "text": [
      "skipped ../speech-bahasa/LibriSpeech/train-clean-100/8425/246962/8425-246962-0014.flac\n"
     ]
    },
    {
     "name": "stderr",
     "output_type": "stream",
     "text": [
      " 11%|█         | 3399/31159 [02:14<19:55, 23.22it/s]"
     ]
    },
    {
     "name": "stdout",
     "output_type": "stream",
     "text": [
      "skipped ../speech-bahasa/LibriSpeech/train-clean-100/150/126107/150-126107-0006.flac\n"
     ]
    },
    {
     "name": "stderr",
     "output_type": "stream",
     "text": [
      " 11%|█         | 3420/31159 [02:15<15:41, 29.48it/s]"
     ]
    },
    {
     "name": "stdout",
     "output_type": "stream",
     "text": [
      "skipped ../speech-bahasa/LibriSpeech/train-clean-100/150/126107/150-126107-0022.flac\n",
      "skipped ../speech-bahasa/LibriSpeech/train-clean-100/150/126107/150-126107-0026.flac\n",
      "skipped ../speech-bahasa/LibriSpeech/train-clean-100/150/126107/150-126107-0028.flac\n"
     ]
    },
    {
     "name": "stderr",
     "output_type": "stream",
     "text": [
      " 11%|█         | 3428/31159 [02:15<17:12, 26.87it/s]"
     ]
    },
    {
     "name": "stdout",
     "output_type": "stream",
     "text": [
      "skipped ../speech-bahasa/LibriSpeech/train-clean-100/150/126107/150-126107-0035.flac\n"
     ]
    },
    {
     "name": "stderr",
     "output_type": "stream",
     "text": [
      " 11%|█         | 3435/31159 [02:16<23:15, 19.87it/s]"
     ]
    },
    {
     "name": "stdout",
     "output_type": "stream",
     "text": [
      "skipped ../speech-bahasa/LibriSpeech/train-clean-100/150/126107/150-126107-0039.flac\n",
      "skipped ../speech-bahasa/LibriSpeech/train-clean-100/150/126112/150-126112-0001.flac\n"
     ]
    },
    {
     "name": "stderr",
     "output_type": "stream",
     "text": [
      " 11%|█         | 3451/31159 [02:16<19:18, 23.92it/s]"
     ]
    },
    {
     "name": "stdout",
     "output_type": "stream",
     "text": [
      "skipped ../speech-bahasa/LibriSpeech/train-clean-100/150/126112/150-126112-0015.flac\n"
     ]
    },
    {
     "name": "stderr",
     "output_type": "stream",
     "text": [
      " 11%|█         | 3464/31159 [02:17<18:36, 24.81it/s]"
     ]
    },
    {
     "name": "stdout",
     "output_type": "stream",
     "text": [
      "skipped ../speech-bahasa/LibriSpeech/train-clean-100/150/126112/150-126112-0028.flac\n"
     ]
    },
    {
     "name": "stderr",
     "output_type": "stream",
     "text": [
      " 11%|█         | 3489/31159 [02:18<16:46, 27.48it/s]"
     ]
    },
    {
     "name": "stdout",
     "output_type": "stream",
     "text": [
      "skipped ../speech-bahasa/LibriSpeech/train-clean-100/150/132655/150-132655-0017.flac\n",
      "skipped ../speech-bahasa/LibriSpeech/train-clean-100/150/132655/150-132655-0018.flac\n",
      "skipped ../speech-bahasa/LibriSpeech/train-clean-100/150/132655/150-132655-0023.flac\n"
     ]
    },
    {
     "name": "stderr",
     "output_type": "stream",
     "text": [
      " 11%|█▏        | 3506/31159 [02:18<13:10, 34.98it/s]"
     ]
    },
    {
     "name": "stdout",
     "output_type": "stream",
     "text": [
      "skipped ../speech-bahasa/LibriSpeech/train-clean-100/446/123501/446-123501-0000.flac\n"
     ]
    },
    {
     "name": "stderr",
     "output_type": "stream",
     "text": [
      " 11%|█▏        | 3519/31159 [02:19<14:35, 31.56it/s]"
     ]
    },
    {
     "name": "stdout",
     "output_type": "stream",
     "text": [
      "skipped ../speech-bahasa/LibriSpeech/train-clean-100/446/123501/446-123501-0013.flac\n"
     ]
    },
    {
     "name": "stderr",
     "output_type": "stream",
     "text": [
      " 11%|█▏        | 3536/31159 [02:20<18:25, 25.00it/s]"
     ]
    },
    {
     "name": "stdout",
     "output_type": "stream",
     "text": [
      "skipped ../speech-bahasa/LibriSpeech/train-clean-100/446/123501/446-123501-0028.flac\n"
     ]
    },
    {
     "name": "stderr",
     "output_type": "stream",
     "text": [
      " 11%|█▏        | 3543/31159 [02:20<17:22, 26.49it/s]"
     ]
    },
    {
     "name": "stdout",
     "output_type": "stream",
     "text": [
      "skipped ../speech-bahasa/LibriSpeech/train-clean-100/446/123501/446-123501-0036.flac\n",
      "skipped ../speech-bahasa/LibriSpeech/train-clean-100/446/123501/446-123501-0041.flac\n",
      "skipped ../speech-bahasa/LibriSpeech/train-clean-100/446/123501/446-123501-0042.flac\n"
     ]
    },
    {
     "name": "stderr",
     "output_type": "stream",
     "text": [
      " 12%|█▏        | 3594/31159 [02:22<17:46, 25.85it/s]"
     ]
    },
    {
     "name": "stdout",
     "output_type": "stream",
     "text": [
      "skipped ../speech-bahasa/LibriSpeech/train-clean-100/446/123502/446-123502-0024.flac\n"
     ]
    },
    {
     "name": "stderr",
     "output_type": "stream",
     "text": [
      " 12%|█▏        | 3601/31159 [02:22<16:48, 27.34it/s]"
     ]
    },
    {
     "name": "stdout",
     "output_type": "stream",
     "text": [
      "skipped ../speech-bahasa/LibriSpeech/train-clean-100/446/123502/446-123502-0032.flac\n"
     ]
    },
    {
     "name": "stderr",
     "output_type": "stream",
     "text": [
      " 12%|█▏        | 3622/31159 [02:23<17:44, 25.86it/s]"
     ]
    },
    {
     "name": "stdout",
     "output_type": "stream",
     "text": [
      "skipped ../speech-bahasa/LibriSpeech/train-clean-100/2764/36617/2764-36617-0003.flac\n"
     ]
    },
    {
     "name": "stderr",
     "output_type": "stream",
     "text": [
      " 12%|█▏        | 3637/31159 [02:24<15:16, 30.02it/s]"
     ]
    },
    {
     "name": "stdout",
     "output_type": "stream",
     "text": [
      "skipped ../speech-bahasa/LibriSpeech/train-clean-100/2764/36617/2764-36617-0016.flac\n"
     ]
    },
    {
     "name": "stderr",
     "output_type": "stream",
     "text": [
      " 12%|█▏        | 3659/31159 [02:25<18:28, 24.80it/s]"
     ]
    },
    {
     "name": "stdout",
     "output_type": "stream",
     "text": [
      "skipped ../speech-bahasa/LibriSpeech/train-clean-100/2764/36617/2764-36617-0038.flac\n",
      "skipped ../speech-bahasa/LibriSpeech/train-clean-100/2764/36619/2764-36619-0003.flac\n"
     ]
    },
    {
     "name": "stderr",
     "output_type": "stream",
     "text": [
      " 12%|█▏        | 3684/31159 [02:26<16:21, 28.00it/s]"
     ]
    },
    {
     "name": "stdout",
     "output_type": "stream",
     "text": [
      "skipped ../speech-bahasa/LibriSpeech/train-clean-100/2764/36619/2764-36619-0024.flac\n"
     ]
    },
    {
     "name": "stderr",
     "output_type": "stream",
     "text": [
      " 12%|█▏        | 3702/31159 [02:26<20:38, 22.18it/s]"
     ]
    },
    {
     "name": "stdout",
     "output_type": "stream",
     "text": [
      "skipped ../speech-bahasa/LibriSpeech/train-clean-100/2764/36616/2764-36616-0001.flac\n"
     ]
    },
    {
     "name": "stderr",
     "output_type": "stream",
     "text": [
      " 12%|█▏        | 3710/31159 [02:27<16:11, 28.26it/s]"
     ]
    },
    {
     "name": "stdout",
     "output_type": "stream",
     "text": [
      "skipped ../speech-bahasa/LibriSpeech/train-clean-100/2764/36616/2764-36616-0012.flac\n"
     ]
    },
    {
     "name": "stderr",
     "output_type": "stream",
     "text": [
      " 12%|█▏        | 3734/31159 [02:28<16:42, 27.36it/s]"
     ]
    },
    {
     "name": "stdout",
     "output_type": "stream",
     "text": [
      "skipped ../speech-bahasa/LibriSpeech/train-clean-100/2764/36616/2764-36616-0036.flac\n",
      "skipped ../speech-bahasa/LibriSpeech/train-clean-100/2764/36616/2764-36616-0038.flac\n"
     ]
    },
    {
     "name": "stderr",
     "output_type": "stream",
     "text": [
      " 12%|█▏        | 3792/31159 [02:30<19:12, 23.74it/s]"
     ]
    },
    {
     "name": "stdout",
     "output_type": "stream",
     "text": [
      "skipped ../speech-bahasa/LibriSpeech/train-clean-100/7859/102519/7859-102519-0050.flac\n",
      "skipped ../speech-bahasa/LibriSpeech/train-clean-100/7859/102521/7859-102521-0001.flac\n"
     ]
    },
    {
     "name": "stderr",
     "output_type": "stream",
     "text": [
      " 12%|█▏        | 3801/31159 [02:30<15:55, 28.64it/s]"
     ]
    },
    {
     "name": "stdout",
     "output_type": "stream",
     "text": [
      "skipped ../speech-bahasa/LibriSpeech/train-clean-100/7859/102521/7859-102521-0006.flac\n"
     ]
    },
    {
     "name": "stderr",
     "output_type": "stream",
     "text": [
      " 12%|█▏        | 3814/31159 [02:30<13:52, 32.86it/s]"
     ]
    },
    {
     "name": "stdout",
     "output_type": "stream",
     "text": [
      "skipped ../speech-bahasa/LibriSpeech/train-clean-100/7859/102521/7859-102521-0017.flac\n",
      "skipped ../speech-bahasa/LibriSpeech/train-clean-100/7859/102518/7859-102518-0001.flac\n"
     ]
    },
    {
     "name": "stderr",
     "output_type": "stream",
     "text": [
      " 12%|█▏        | 3831/31159 [02:31<13:55, 32.70it/s]"
     ]
    },
    {
     "name": "stdout",
     "output_type": "stream",
     "text": [
      "skipped ../speech-bahasa/LibriSpeech/train-clean-100/7859/102518/7859-102518-0015.flac\n",
      "skipped ../speech-bahasa/LibriSpeech/train-clean-100/7859/102518/7859-102518-0021.flac\n"
     ]
    },
    {
     "name": "stderr",
     "output_type": "stream",
     "text": [
      " 12%|█▏        | 3844/31159 [02:32<17:48, 25.56it/s]"
     ]
    },
    {
     "name": "stdout",
     "output_type": "stream",
     "text": [
      "skipped ../speech-bahasa/LibriSpeech/train-clean-100/7859/102518/7859-102518-0028.flac\n"
     ]
    },
    {
     "name": "stderr",
     "output_type": "stream",
     "text": [
      " 12%|█▏        | 3854/31159 [02:32<14:33, 31.26it/s]"
     ]
    },
    {
     "name": "stdout",
     "output_type": "stream",
     "text": [
      "skipped ../speech-bahasa/LibriSpeech/train-clean-100/5514/19193/5514-19193-0004.flac\n"
     ]
    },
    {
     "name": "stderr",
     "output_type": "stream",
     "text": [
      " 12%|█▏        | 3882/31159 [02:33<17:00, 26.73it/s]"
     ]
    },
    {
     "name": "stdout",
     "output_type": "stream",
     "text": [
      "skipped ../speech-bahasa/LibriSpeech/train-clean-100/5514/19193/5514-19193-0035.flac\n"
     ]
    },
    {
     "name": "stderr",
     "output_type": "stream",
     "text": [
      " 13%|█▎        | 3948/31159 [02:35<16:05, 28.17it/s]"
     ]
    },
    {
     "name": "stdout",
     "output_type": "stream",
     "text": [
      "skipped ../speech-bahasa/LibriSpeech/train-clean-100/7312/92432/7312-92432-0013.flac\n"
     ]
    },
    {
     "name": "stderr",
     "output_type": "stream",
     "text": [
      " 13%|█▎        | 3972/31159 [02:36<16:54, 26.79it/s]"
     ]
    },
    {
     "name": "stdout",
     "output_type": "stream",
     "text": [
      "skipped ../speech-bahasa/LibriSpeech/train-clean-100/6272/70171/6272-70171-0007.flac\n",
      "skipped ../speech-bahasa/LibriSpeech/train-clean-100/6272/70171/6272-70171-0008.flac\n"
     ]
    },
    {
     "name": "stderr",
     "output_type": "stream",
     "text": [
      " 13%|█▎        | 3988/31159 [02:37<17:36, 25.71it/s]"
     ]
    },
    {
     "name": "stdout",
     "output_type": "stream",
     "text": [
      "skipped ../speech-bahasa/LibriSpeech/train-clean-100/6272/70171/6272-70171-0024.flac\n",
      "skipped ../speech-bahasa/LibriSpeech/train-clean-100/6272/70171/6272-70171-0025.flac\n",
      "skipped ../speech-bahasa/LibriSpeech/train-clean-100/6272/70171/6272-70171-0030.flac\n"
     ]
    },
    {
     "name": "stderr",
     "output_type": "stream",
     "text": [
      " 13%|█▎        | 4021/31159 [02:38<15:19, 29.50it/s]"
     ]
    },
    {
     "name": "stdout",
     "output_type": "stream",
     "text": [
      "skipped ../speech-bahasa/LibriSpeech/train-clean-100/6272/70168/6272-70168-0015.flac\n",
      "skipped ../speech-bahasa/LibriSpeech/train-clean-100/6272/70168/6272-70168-0018.flac\n"
     ]
    },
    {
     "name": "stderr",
     "output_type": "stream",
     "text": [
      " 13%|█▎        | 4025/31159 [02:38<14:48, 30.53it/s]"
     ]
    },
    {
     "name": "stdout",
     "output_type": "stream",
     "text": [
      "skipped ../speech-bahasa/LibriSpeech/train-clean-100/6272/70168/6272-70168-0023.flac\n"
     ]
    },
    {
     "name": "stderr",
     "output_type": "stream",
     "text": [
      " 13%|█▎        | 4032/31159 [02:39<18:31, 24.41it/s]"
     ]
    },
    {
     "name": "stdout",
     "output_type": "stream",
     "text": [
      "skipped ../speech-bahasa/LibriSpeech/train-clean-100/6272/70168/6272-70168-0026.flac\n"
     ]
    },
    {
     "name": "stderr",
     "output_type": "stream",
     "text": [
      " 13%|█▎        | 4066/31159 [02:40<18:06, 24.93it/s]"
     ]
    },
    {
     "name": "stdout",
     "output_type": "stream",
     "text": [
      "skipped ../speech-bahasa/LibriSpeech/train-clean-100/6272/70191/6272-70191-0031.flac\n"
     ]
    },
    {
     "name": "stderr",
     "output_type": "stream",
     "text": [
      " 13%|█▎        | 4085/31159 [02:41<17:30, 25.78it/s]"
     ]
    },
    {
     "name": "stdout",
     "output_type": "stream",
     "text": [
      "skipped ../speech-bahasa/LibriSpeech/train-clean-100/8609/283227/8609-283227-0007.flac\n"
     ]
    },
    {
     "name": "stderr",
     "output_type": "stream",
     "text": [
      " 13%|█▎        | 4127/31159 [02:43<17:35, 25.61it/s]"
     ]
    },
    {
     "name": "stdout",
     "output_type": "stream",
     "text": [
      "skipped ../speech-bahasa/LibriSpeech/train-clean-100/8609/283227/8609-283227-0049.flac\n"
     ]
    },
    {
     "name": "stderr",
     "output_type": "stream",
     "text": [
      " 13%|█▎        | 4141/31159 [02:43<16:40, 27.00it/s]"
     ]
    },
    {
     "name": "stdout",
     "output_type": "stream",
     "text": [
      "skipped ../speech-bahasa/LibriSpeech/train-clean-100/8609/283227/8609-283227-0064.flac\n"
     ]
    },
    {
     "name": "stderr",
     "output_type": "stream",
     "text": [
      " 13%|█▎        | 4149/31159 [02:43<15:41, 28.69it/s]"
     ]
    },
    {
     "name": "stdout",
     "output_type": "stream",
     "text": [
      "skipped ../speech-bahasa/LibriSpeech/train-clean-100/8609/283227/8609-283227-0070.flac\n",
      "skipped ../speech-bahasa/LibriSpeech/train-clean-100/8609/262281/8609-262281-0000.flac\n",
      "skipped ../speech-bahasa/LibriSpeech/train-clean-100/8609/262281/8609-262281-0002.flac\n"
     ]
    },
    {
     "name": "stderr",
     "output_type": "stream",
     "text": [
      " 13%|█▎        | 4160/31159 [02:44<20:32, 21.90it/s]"
     ]
    },
    {
     "name": "stdout",
     "output_type": "stream",
     "text": [
      "skipped ../speech-bahasa/LibriSpeech/train-clean-100/8609/262281/8609-262281-0010.flac\n"
     ]
    },
    {
     "name": "stderr",
     "output_type": "stream",
     "text": [
      " 13%|█▎        | 4184/31159 [02:45<15:27, 29.08it/s]"
     ]
    },
    {
     "name": "stdout",
     "output_type": "stream",
     "text": [
      "skipped ../speech-bahasa/LibriSpeech/train-clean-100/8609/262281/8609-262281-0034.flac\n"
     ]
    },
    {
     "name": "stderr",
     "output_type": "stream",
     "text": [
      " 13%|█▎        | 4193/31159 [02:45<14:16, 31.49it/s]"
     ]
    },
    {
     "name": "stdout",
     "output_type": "stream",
     "text": [
      "skipped ../speech-bahasa/LibriSpeech/train-clean-100/7505/83618/7505-83618-0001.flac\n"
     ]
    },
    {
     "name": "stderr",
     "output_type": "stream",
     "text": [
      " 13%|█▎        | 4197/31159 [02:45<14:27, 31.08it/s]"
     ]
    },
    {
     "name": "stdout",
     "output_type": "stream",
     "text": [
      "skipped ../speech-bahasa/LibriSpeech/train-clean-100/7505/83618/7505-83618-0008.flac\n",
      "skipped ../speech-bahasa/LibriSpeech/train-clean-100/7505/83618/7505-83618-0012.flac\n"
     ]
    },
    {
     "name": "stderr",
     "output_type": "stream",
     "text": [
      " 14%|█▎        | 4213/31159 [02:46<14:38, 30.68it/s]"
     ]
    },
    {
     "name": "stdout",
     "output_type": "stream",
     "text": [
      "skipped ../speech-bahasa/LibriSpeech/train-clean-100/7505/83618/7505-83618-0018.flac\n",
      "skipped ../speech-bahasa/LibriSpeech/train-clean-100/7505/83618/7505-83618-0023.flac\n"
     ]
    },
    {
     "name": "stderr",
     "output_type": "stream",
     "text": [
      " 14%|█▎        | 4221/31159 [02:46<14:21, 31.26it/s]"
     ]
    },
    {
     "name": "stdout",
     "output_type": "stream",
     "text": [
      "skipped ../speech-bahasa/LibriSpeech/train-clean-100/7505/258964/7505-258964-0000.flac\n",
      "skipped ../speech-bahasa/LibriSpeech/train-clean-100/7505/258964/7505-258964-0003.flac\n"
     ]
    },
    {
     "name": "stderr",
     "output_type": "stream",
     "text": [
      " 14%|█▎        | 4229/31159 [02:46<14:32, 30.88it/s]"
     ]
    },
    {
     "name": "stdout",
     "output_type": "stream",
     "text": [
      "skipped ../speech-bahasa/LibriSpeech/train-clean-100/7505/258964/7505-258964-0010.flac\n"
     ]
    },
    {
     "name": "stderr",
     "output_type": "stream",
     "text": [
      " 14%|█▎        | 4240/31159 [02:47<16:08, 27.79it/s]"
     ]
    },
    {
     "name": "stdout",
     "output_type": "stream",
     "text": [
      "skipped ../speech-bahasa/LibriSpeech/train-clean-100/7505/258964/7505-258964-0020.flac\n"
     ]
    },
    {
     "name": "stderr",
     "output_type": "stream",
     "text": [
      " 14%|█▎        | 4263/31159 [02:48<19:29, 23.01it/s]"
     ]
    },
    {
     "name": "stdout",
     "output_type": "stream",
     "text": [
      "skipped ../speech-bahasa/LibriSpeech/train-clean-100/7505/258964/7505-258964-0043.flac\n"
     ]
    },
    {
     "name": "stderr",
     "output_type": "stream",
     "text": [
      " 14%|█▎        | 4275/31159 [02:48<15:17, 29.29it/s]"
     ]
    },
    {
     "name": "stdout",
     "output_type": "stream",
     "text": [
      "skipped ../speech-bahasa/LibriSpeech/train-clean-100/7505/258958/7505-258958-0002.flac\n",
      "skipped ../speech-bahasa/LibriSpeech/train-clean-100/7505/258958/7505-258958-0005.flac\n",
      "skipped ../speech-bahasa/LibriSpeech/train-clean-100/7505/258958/7505-258958-0006.flac\n"
     ]
    },
    {
     "name": "stderr",
     "output_type": "stream",
     "text": [
      " 14%|█▍        | 4289/31159 [02:49<16:22, 27.34it/s]"
     ]
    },
    {
     "name": "stdout",
     "output_type": "stream",
     "text": [
      "skipped ../speech-bahasa/LibriSpeech/train-clean-100/7505/258958/7505-258958-0018.flac\n"
     ]
    },
    {
     "name": "stderr",
     "output_type": "stream",
     "text": [
      " 14%|█▍        | 4304/31159 [02:49<19:23, 23.08it/s]"
     ]
    },
    {
     "name": "stdout",
     "output_type": "stream",
     "text": [
      "skipped ../speech-bahasa/LibriSpeech/train-clean-100/7505/258958/7505-258958-0032.flac\n",
      "skipped ../speech-bahasa/LibriSpeech/train-clean-100/7505/258958/7505-258958-0035.flac\n",
      "skipped ../speech-bahasa/LibriSpeech/train-clean-100/3857/182317/3857-182317-0000.flac\n"
     ]
    },
    {
     "name": "stderr",
     "output_type": "stream",
     "text": [
      " 14%|█▍        | 4313/31159 [02:50<16:58, 26.36it/s]"
     ]
    },
    {
     "name": "stdout",
     "output_type": "stream",
     "text": [
      "skipped ../speech-bahasa/LibriSpeech/train-clean-100/3857/182317/3857-182317-0005.flac\n",
      "skipped ../speech-bahasa/LibriSpeech/train-clean-100/3857/182317/3857-182317-0006.flac\n"
     ]
    },
    {
     "name": "stderr",
     "output_type": "stream",
     "text": [
      " 14%|█▍        | 4365/31159 [02:52<16:20, 27.33it/s]"
     ]
    },
    {
     "name": "stdout",
     "output_type": "stream",
     "text": [
      "skipped ../speech-bahasa/LibriSpeech/train-clean-100/3857/180923/3857-180923-0024.flac\n"
     ]
    },
    {
     "name": "stderr",
     "output_type": "stream",
     "text": [
      " 14%|█▍        | 4390/31159 [02:53<18:51, 23.65it/s]"
     ]
    },
    {
     "name": "stdout",
     "output_type": "stream",
     "text": [
      "skipped ../speech-bahasa/LibriSpeech/train-clean-100/3857/182315/3857-182315-0019.flac\n",
      "skipped ../speech-bahasa/LibriSpeech/train-clean-100/3857/182315/3857-182315-0023.flac\n"
     ]
    },
    {
     "name": "stderr",
     "output_type": "stream",
     "text": [
      " 14%|█▍        | 4430/31159 [02:55<19:29, 22.86it/s]"
     ]
    },
    {
     "name": "stdout",
     "output_type": "stream",
     "text": [
      "skipped ../speech-bahasa/LibriSpeech/train-clean-100/4406/16882/4406-16882-0012.flac\n",
      "skipped ../speech-bahasa/LibriSpeech/train-clean-100/4406/16882/4406-16882-0017.flac\n"
     ]
    },
    {
     "name": "stderr",
     "output_type": "stream",
     "text": [
      " 14%|█▍        | 4450/31159 [02:55<12:18, 36.15it/s]"
     ]
    },
    {
     "name": "stdout",
     "output_type": "stream",
     "text": [
      "skipped ../speech-bahasa/LibriSpeech/train-clean-100/4406/16882/4406-16882-0028.flac\n",
      "skipped ../speech-bahasa/LibriSpeech/train-clean-100/4406/16882/4406-16882-0030.flac\n"
     ]
    },
    {
     "name": "stderr",
     "output_type": "stream",
     "text": [
      " 14%|█▍        | 4455/31159 [02:55<12:47, 34.78it/s]"
     ]
    },
    {
     "name": "stdout",
     "output_type": "stream",
     "text": [
      "skipped ../speech-bahasa/LibriSpeech/train-clean-100/4406/16882/4406-16882-0039.flac\n"
     ]
    },
    {
     "name": "stderr",
     "output_type": "stream",
     "text": [
      " 14%|█▍        | 4512/31159 [02:57<12:41, 34.98it/s]"
     ]
    },
    {
     "name": "stdout",
     "output_type": "stream",
     "text": [
      "skipped ../speech-bahasa/LibriSpeech/train-clean-100/4406/16883/4406-16883-0021.flac\n",
      "skipped ../speech-bahasa/LibriSpeech/train-clean-100/4406/16883/4406-16883-0026.flac\n"
     ]
    },
    {
     "name": "stderr",
     "output_type": "stream",
     "text": [
      " 15%|█▍        | 4523/31159 [02:58<20:48, 21.34it/s]"
     ]
    },
    {
     "name": "stdout",
     "output_type": "stream",
     "text": [
      "skipped ../speech-bahasa/LibriSpeech/train-clean-100/4406/16883/4406-16883-0037.flac\n"
     ]
    },
    {
     "name": "stderr",
     "output_type": "stream",
     "text": [
      " 15%|█▍        | 4553/31159 [02:59<16:34, 26.74it/s]"
     ]
    },
    {
     "name": "stdout",
     "output_type": "stream",
     "text": [
      "skipped ../speech-bahasa/LibriSpeech/train-clean-100/4297/13006/4297-13006-0006.flac\n"
     ]
    },
    {
     "name": "stderr",
     "output_type": "stream",
     "text": [
      " 15%|█▍        | 4598/31159 [03:01<16:59, 26.04it/s]"
     ]
    },
    {
     "name": "stdout",
     "output_type": "stream",
     "text": [
      "skipped ../speech-bahasa/LibriSpeech/train-clean-100/4297/13009/4297-13009-0005.flac\n"
     ]
    },
    {
     "name": "stderr",
     "output_type": "stream",
     "text": [
      " 15%|█▍        | 4614/31159 [03:02<19:01, 23.26it/s]"
     ]
    },
    {
     "name": "stdout",
     "output_type": "stream",
     "text": [
      "skipped ../speech-bahasa/LibriSpeech/train-clean-100/4297/13009/4297-13009-0023.flac\n"
     ]
    },
    {
     "name": "stderr",
     "output_type": "stream",
     "text": [
      " 15%|█▍        | 4636/31159 [03:03<15:03, 29.36it/s]"
     ]
    },
    {
     "name": "stdout",
     "output_type": "stream",
     "text": [
      "skipped ../speech-bahasa/LibriSpeech/train-clean-100/4297/13009/4297-13009-0043.flac\n"
     ]
    },
    {
     "name": "stderr",
     "output_type": "stream",
     "text": [
      " 15%|█▍        | 4647/31159 [03:03<22:51, 19.33it/s]"
     ]
    },
    {
     "name": "stdout",
     "output_type": "stream",
     "text": [
      "skipped ../speech-bahasa/LibriSpeech/train-clean-100/4297/13009/4297-13009-0055.flac\n"
     ]
    },
    {
     "name": "stderr",
     "output_type": "stream",
     "text": [
      " 15%|█▍        | 4663/31159 [03:04<15:37, 28.27it/s]"
     ]
    },
    {
     "name": "stdout",
     "output_type": "stream",
     "text": [
      "skipped ../speech-bahasa/LibriSpeech/train-clean-100/3486/166446/3486-166446-0005.flac\n"
     ]
    },
    {
     "name": "stderr",
     "output_type": "stream",
     "text": [
      " 15%|█▌        | 4685/31159 [03:04<15:14, 28.94it/s]"
     ]
    },
    {
     "name": "stdout",
     "output_type": "stream",
     "text": [
      "skipped ../speech-bahasa/LibriSpeech/train-clean-100/3486/166446/3486-166446-0028.flac\n",
      "skipped ../speech-bahasa/LibriSpeech/train-clean-100/3486/166446/3486-166446-0029.flac\n",
      "skipped ../speech-bahasa/LibriSpeech/train-clean-100/3486/166446/3486-166446-0033.flac\n"
     ]
    },
    {
     "name": "stderr",
     "output_type": "stream",
     "text": [
      " 15%|█▌        | 4700/31159 [03:05<16:57, 26.00it/s]"
     ]
    },
    {
     "name": "stdout",
     "output_type": "stream",
     "text": [
      "skipped ../speech-bahasa/LibriSpeech/train-clean-100/3486/166446/3486-166446-0040.flac\n"
     ]
    },
    {
     "name": "stderr",
     "output_type": "stream",
     "text": [
      " 15%|█▌        | 4721/31159 [03:06<17:17, 25.49it/s]"
     ]
    },
    {
     "name": "stdout",
     "output_type": "stream",
     "text": [
      "skipped ../speech-bahasa/LibriSpeech/train-clean-100/3486/166424/3486-166424-0020.flac\n"
     ]
    },
    {
     "name": "stderr",
     "output_type": "stream",
     "text": [
      " 15%|█▌        | 4753/31159 [03:07<15:32, 28.31it/s]"
     ]
    },
    {
     "name": "stdout",
     "output_type": "stream",
     "text": [
      "skipped ../speech-bahasa/LibriSpeech/train-clean-100/3486/166424/3486-166424-0048.flac\n"
     ]
    },
    {
     "name": "stderr",
     "output_type": "stream",
     "text": [
      " 15%|█▌        | 4795/31159 [03:09<15:21, 28.62it/s]"
     ]
    },
    {
     "name": "stdout",
     "output_type": "stream",
     "text": [
      "skipped ../speech-bahasa/LibriSpeech/train-clean-100/2182/181183/2182-181183-0016.flac\n",
      "skipped ../speech-bahasa/LibriSpeech/train-clean-100/2182/181183/2182-181183-0018.flac\n",
      "skipped ../speech-bahasa/LibriSpeech/train-clean-100/2182/181183/2182-181183-0019.flac\n"
     ]
    },
    {
     "name": "stderr",
     "output_type": "stream",
     "text": [
      " 16%|█▌        | 4830/31159 [03:10<20:41, 21.21it/s]"
     ]
    },
    {
     "name": "stdout",
     "output_type": "stream",
     "text": [
      "skipped ../speech-bahasa/LibriSpeech/train-clean-100/2182/150130/2182-150130-0015.flac\n"
     ]
    },
    {
     "name": "stderr",
     "output_type": "stream",
     "text": [
      " 16%|█▌        | 4842/31159 [03:11<18:12, 24.08it/s]"
     ]
    },
    {
     "name": "stdout",
     "output_type": "stream",
     "text": [
      "skipped ../speech-bahasa/LibriSpeech/train-clean-100/2182/150130/2182-150130-0028.flac\n"
     ]
    },
    {
     "name": "stderr",
     "output_type": "stream",
     "text": [
      " 16%|█▌        | 4852/31159 [03:11<17:22, 25.23it/s]"
     ]
    },
    {
     "name": "stdout",
     "output_type": "stream",
     "text": [
      "skipped ../speech-bahasa/LibriSpeech/train-clean-100/2182/150130/2182-150130-0036.flac\n"
     ]
    },
    {
     "name": "stderr",
     "output_type": "stream",
     "text": [
      " 16%|█▌        | 4883/31159 [03:13<17:56, 24.41it/s]"
     ]
    },
    {
     "name": "stdout",
     "output_type": "stream",
     "text": [
      "skipped ../speech-bahasa/LibriSpeech/train-clean-100/2182/181173/2182-181173-0027.flac\n",
      "skipped ../speech-bahasa/LibriSpeech/train-clean-100/2182/181173/2182-181173-0033.flac\n"
     ]
    },
    {
     "name": "stderr",
     "output_type": "stream",
     "text": [
      " 16%|█▌        | 4896/31159 [03:13<14:21, 30.47it/s]"
     ]
    },
    {
     "name": "stdout",
     "output_type": "stream",
     "text": [
      "skipped ../speech-bahasa/LibriSpeech/train-clean-100/307/127535/307-127535-0000.flac\n",
      "skipped ../speech-bahasa/LibriSpeech/train-clean-100/307/127535/307-127535-0001.flac\n",
      "skipped ../speech-bahasa/LibriSpeech/train-clean-100/307/127535/307-127535-0005.flac\n"
     ]
    },
    {
     "name": "stderr",
     "output_type": "stream",
     "text": [
      " 16%|█▌        | 4924/31159 [03:14<14:54, 29.33it/s]"
     ]
    },
    {
     "name": "stdout",
     "output_type": "stream",
     "text": [
      "skipped ../speech-bahasa/LibriSpeech/train-clean-100/307/127535/307-127535-0031.flac\n"
     ]
    },
    {
     "name": "stderr",
     "output_type": "stream",
     "text": [
      " 16%|█▌        | 4941/31159 [03:15<12:43, 34.34it/s]"
     ]
    },
    {
     "name": "stdout",
     "output_type": "stream",
     "text": [
      "skipped ../speech-bahasa/LibriSpeech/train-clean-100/307/127535/307-127535-0044.flac\n",
      "skipped ../speech-bahasa/LibriSpeech/train-clean-100/307/127539/307-127539-0006.flac\n"
     ]
    },
    {
     "name": "stderr",
     "output_type": "stream",
     "text": [
      " 16%|█▌        | 4950/31159 [03:15<12:34, 34.72it/s]"
     ]
    },
    {
     "name": "stdout",
     "output_type": "stream",
     "text": [
      "skipped ../speech-bahasa/LibriSpeech/train-clean-100/307/127539/307-127539-0008.flac\n"
     ]
    },
    {
     "name": "stderr",
     "output_type": "stream",
     "text": [
      " 16%|█▌        | 4970/31159 [03:16<17:11, 25.39it/s]"
     ]
    },
    {
     "name": "stdout",
     "output_type": "stream",
     "text": [
      "skipped ../speech-bahasa/LibriSpeech/train-clean-100/307/127539/307-127539-0030.flac\n"
     ]
    },
    {
     "name": "stderr",
     "output_type": "stream",
     "text": [
      " 16%|█▌        | 4996/31159 [03:17<16:11, 26.94it/s]"
     ]
    },
    {
     "name": "stdout",
     "output_type": "stream",
     "text": [
      "skipped ../speech-bahasa/LibriSpeech/train-clean-100/307/127540/307-127540-0015.flac\n"
     ]
    },
    {
     "name": "stderr",
     "output_type": "stream",
     "text": [
      " 16%|█▌        | 5018/31159 [03:18<17:03, 25.55it/s]"
     ]
    },
    {
     "name": "stdout",
     "output_type": "stream",
     "text": [
      "skipped ../speech-bahasa/LibriSpeech/train-clean-100/2817/142380/2817-142380-0000.flac\n"
     ]
    },
    {
     "name": "stderr",
     "output_type": "stream",
     "text": [
      " 16%|█▌        | 5049/31159 [03:19<22:41, 19.18it/s]"
     ]
    },
    {
     "name": "stdout",
     "output_type": "stream",
     "text": [
      "skipped ../speech-bahasa/LibriSpeech/train-clean-100/2817/142380/2817-142380-0032.flac\n"
     ]
    },
    {
     "name": "stderr",
     "output_type": "stream",
     "text": [
      " 16%|█▋        | 5131/31159 [03:22<14:34, 29.78it/s]"
     ]
    },
    {
     "name": "stdout",
     "output_type": "stream",
     "text": [
      "skipped ../speech-bahasa/LibriSpeech/train-clean-100/2817/142371/2817-142371-0069.flac\n"
     ]
    },
    {
     "name": "stderr",
     "output_type": "stream",
     "text": [
      " 17%|█▋        | 5150/31159 [03:23<15:31, 27.94it/s]"
     ]
    },
    {
     "name": "stdout",
     "output_type": "stream",
     "text": [
      "skipped ../speech-bahasa/LibriSpeech/train-clean-100/8063/274112/8063-274112-0013.flac\n"
     ]
    },
    {
     "name": "stderr",
     "output_type": "stream",
     "text": [
      " 17%|█▋        | 5183/31159 [03:24<12:51, 33.68it/s]"
     ]
    },
    {
     "name": "stdout",
     "output_type": "stream",
     "text": [
      "skipped ../speech-bahasa/LibriSpeech/train-clean-100/8063/274116/8063-274116-0003.flac\n"
     ]
    },
    {
     "name": "stderr",
     "output_type": "stream",
     "text": [
      " 17%|█▋        | 5198/31159 [03:24<14:19, 30.20it/s]"
     ]
    },
    {
     "name": "stdout",
     "output_type": "stream",
     "text": [
      "skipped ../speech-bahasa/LibriSpeech/train-clean-100/8063/274116/8063-274116-0012.flac\n",
      "skipped ../speech-bahasa/LibriSpeech/train-clean-100/8063/274116/8063-274116-0013.flac\n"
     ]
    },
    {
     "name": "stderr",
     "output_type": "stream",
     "text": [
      " 17%|█▋        | 5263/31159 [03:26<13:22, 32.28it/s]"
     ]
    },
    {
     "name": "stdout",
     "output_type": "stream",
     "text": [
      "skipped ../speech-bahasa/LibriSpeech/train-clean-100/8063/274115/8063-274115-0002.flac\n",
      "skipped ../speech-bahasa/LibriSpeech/train-clean-100/8063/274115/8063-274115-0004.flac\n"
     ]
    },
    {
     "name": "stderr",
     "output_type": "stream",
     "text": [
      " 17%|█▋        | 5289/31159 [03:27<11:54, 36.19it/s]"
     ]
    },
    {
     "name": "stdout",
     "output_type": "stream",
     "text": [
      "skipped ../speech-bahasa/LibriSpeech/train-clean-100/8063/274115/8063-274115-0031.flac\n"
     ]
    },
    {
     "name": "stderr",
     "output_type": "stream",
     "text": [
      " 17%|█▋        | 5339/31159 [03:29<14:59, 28.71it/s]"
     ]
    },
    {
     "name": "stdout",
     "output_type": "stream",
     "text": [
      "skipped ../speech-bahasa/LibriSpeech/train-clean-100/481/123720/481-123720-0003.flac\n"
     ]
    },
    {
     "name": "stderr",
     "output_type": "stream",
     "text": [
      " 17%|█▋        | 5359/31159 [03:30<18:27, 23.29it/s]"
     ]
    },
    {
     "name": "stdout",
     "output_type": "stream",
     "text": [
      "skipped ../speech-bahasa/LibriSpeech/train-clean-100/481/123720/481-123720-0023.flac\n"
     ]
    },
    {
     "name": "stderr",
     "output_type": "stream",
     "text": [
      " 17%|█▋        | 5368/31159 [03:30<15:18, 28.08it/s]"
     ]
    },
    {
     "name": "stdout",
     "output_type": "stream",
     "text": [
      "skipped ../speech-bahasa/LibriSpeech/train-clean-100/481/123720/481-123720-0032.flac\n"
     ]
    },
    {
     "name": "stderr",
     "output_type": "stream",
     "text": [
      " 17%|█▋        | 5430/31159 [03:33<15:35, 27.49it/s]"
     ]
    },
    {
     "name": "stdout",
     "output_type": "stream",
     "text": [
      "skipped ../speech-bahasa/LibriSpeech/train-clean-100/7800/283478/7800-283478-0008.flac\n"
     ]
    },
    {
     "name": "stderr",
     "output_type": "stream",
     "text": [
      " 17%|█▋        | 5451/31159 [03:34<18:19, 23.39it/s]"
     ]
    },
    {
     "name": "stdout",
     "output_type": "stream",
     "text": [
      "skipped ../speech-bahasa/LibriSpeech/train-clean-100/7800/283478/7800-283478-0030.flac\n",
      "skipped ../speech-bahasa/LibriSpeech/train-clean-100/7800/283478/7800-283478-0033.flac\n",
      "skipped ../speech-bahasa/LibriSpeech/train-clean-100/7800/283493/7800-283493-0001.flac\n"
     ]
    },
    {
     "name": "stderr",
     "output_type": "stream",
     "text": [
      " 18%|█▊        | 5463/31159 [03:34<15:53, 26.95it/s]"
     ]
    },
    {
     "name": "stdout",
     "output_type": "stream",
     "text": [
      "skipped ../speech-bahasa/LibriSpeech/train-clean-100/7800/283493/7800-283493-0004.flac\n"
     ]
    },
    {
     "name": "stderr",
     "output_type": "stream",
     "text": [
      " 18%|█▊        | 5470/31159 [03:34<14:36, 29.30it/s]"
     ]
    },
    {
     "name": "stdout",
     "output_type": "stream",
     "text": [
      "skipped ../speech-bahasa/LibriSpeech/train-clean-100/7800/283493/7800-283493-0013.flac\n",
      "skipped ../speech-bahasa/LibriSpeech/train-clean-100/7800/283493/7800-283493-0014.flac\n"
     ]
    },
    {
     "name": "stderr",
     "output_type": "stream",
     "text": [
      " 18%|█▊        | 5529/31159 [03:37<21:53, 19.52it/s]"
     ]
    },
    {
     "name": "stdout",
     "output_type": "stream",
     "text": [
      "skipped ../speech-bahasa/LibriSpeech/train-clean-100/7800/283492/7800-283492-0034.flac\n"
     ]
    },
    {
     "name": "stderr",
     "output_type": "stream",
     "text": [
      " 18%|█▊        | 5643/31159 [03:41<13:10, 32.26it/s]"
     ]
    },
    {
     "name": "stdout",
     "output_type": "stream",
     "text": [
      "skipped ../speech-bahasa/LibriSpeech/train-clean-100/2989/138035/2989-138035-0028.flac\n"
     ]
    },
    {
     "name": "stderr",
     "output_type": "stream",
     "text": [
      " 18%|█▊        | 5662/31159 [03:41<12:33, 33.84it/s]"
     ]
    },
    {
     "name": "stdout",
     "output_type": "stream",
     "text": [
      "skipped ../speech-bahasa/LibriSpeech/train-clean-100/2989/138035/2989-138035-0043.flac\n"
     ]
    },
    {
     "name": "stderr",
     "output_type": "stream",
     "text": [
      " 18%|█▊        | 5679/31159 [03:42<11:40, 36.39it/s]"
     ]
    },
    {
     "name": "stdout",
     "output_type": "stream",
     "text": [
      "skipped ../speech-bahasa/LibriSpeech/train-clean-100/2989/138035/2989-138035-0070.flac\n"
     ]
    },
    {
     "name": "stderr",
     "output_type": "stream",
     "text": [
      " 18%|█▊        | 5694/31159 [03:42<13:32, 31.34it/s]"
     ]
    },
    {
     "name": "stdout",
     "output_type": "stream",
     "text": [
      "skipped ../speech-bahasa/LibriSpeech/train-clean-100/7511/102420/7511-102420-0002.flac\n",
      "skipped ../speech-bahasa/LibriSpeech/train-clean-100/7511/102420/7511-102420-0003.flac\n"
     ]
    },
    {
     "name": "stderr",
     "output_type": "stream",
     "text": [
      " 18%|█▊        | 5706/31159 [03:43<13:51, 30.60it/s]"
     ]
    },
    {
     "name": "stdout",
     "output_type": "stream",
     "text": [
      "skipped ../speech-bahasa/LibriSpeech/train-clean-100/7511/102420/7511-102420-0011.flac\n",
      "skipped ../speech-bahasa/LibriSpeech/train-clean-100/7511/102420/7511-102420-0014.flac\n",
      "skipped ../speech-bahasa/LibriSpeech/train-clean-100/7511/102420/7511-102420-0015.flac\n",
      "skipped ../speech-bahasa/LibriSpeech/train-clean-100/7511/102420/7511-102420-0018.flac\n"
     ]
    },
    {
     "name": "stderr",
     "output_type": "stream",
     "text": [
      " 18%|█▊        | 5715/31159 [03:43<13:26, 31.53it/s]"
     ]
    },
    {
     "name": "stdout",
     "output_type": "stream",
     "text": [
      "skipped ../speech-bahasa/LibriSpeech/train-clean-100/7511/102420/7511-102420-0022.flac\n",
      "skipped ../speech-bahasa/LibriSpeech/train-clean-100/7511/102420/7511-102420-0023.flac\n"
     ]
    },
    {
     "name": "stderr",
     "output_type": "stream",
     "text": [
      " 18%|█▊        | 5736/31159 [03:44<21:50, 19.39it/s]"
     ]
    },
    {
     "name": "stdout",
     "output_type": "stream",
     "text": [
      "skipped ../speech-bahasa/LibriSpeech/train-clean-100/7511/102420/7511-102420-0044.flac\n"
     ]
    },
    {
     "name": "stderr",
     "output_type": "stream",
     "text": [
      " 19%|█▊        | 5800/31159 [03:47<15:19, 27.58it/s]"
     ]
    },
    {
     "name": "stdout",
     "output_type": "stream",
     "text": [
      "skipped ../speech-bahasa/LibriSpeech/train-clean-100/8098/278252/8098-278252-0000.flac\n"
     ]
    },
    {
     "name": "stderr",
     "output_type": "stream",
     "text": [
      " 19%|█▊        | 5841/31159 [03:48<15:36, 27.02it/s]"
     ]
    },
    {
     "name": "stdout",
     "output_type": "stream",
     "text": [
      "skipped ../speech-bahasa/LibriSpeech/train-clean-100/8098/278252/8098-278252-0039.flac\n"
     ]
    },
    {
     "name": "stderr",
     "output_type": "stream",
     "text": [
      " 19%|█▉        | 5848/31159 [03:48<16:17, 25.90it/s]"
     ]
    },
    {
     "name": "stdout",
     "output_type": "stream",
     "text": [
      "skipped ../speech-bahasa/LibriSpeech/train-clean-100/8098/278278/8098-278278-0006.flac\n"
     ]
    },
    {
     "name": "stderr",
     "output_type": "stream",
     "text": [
      " 19%|█▉        | 5873/31159 [03:50<16:35, 25.39it/s]"
     ]
    },
    {
     "name": "stdout",
     "output_type": "stream",
     "text": [
      "skipped ../speech-bahasa/LibriSpeech/train-clean-100/8098/278278/8098-278278-0032.flac\n"
     ]
    },
    {
     "name": "stderr",
     "output_type": "stream",
     "text": [
      " 19%|█▉        | 5890/31159 [03:50<15:59, 26.34it/s]"
     ]
    },
    {
     "name": "stdout",
     "output_type": "stream",
     "text": [
      "skipped ../speech-bahasa/LibriSpeech/train-clean-100/8098/275181/8098-275181-0008.flac\n"
     ]
    },
    {
     "name": "stderr",
     "output_type": "stream",
     "text": [
      " 19%|█▉        | 5906/31159 [03:51<17:42, 23.77it/s]"
     ]
    },
    {
     "name": "stdout",
     "output_type": "stream",
     "text": [
      "skipped ../speech-bahasa/LibriSpeech/train-clean-100/8098/275181/8098-275181-0024.flac\n"
     ]
    },
    {
     "name": "stderr",
     "output_type": "stream",
     "text": [
      " 19%|█▉        | 5917/31159 [03:51<15:02, 27.97it/s]"
     ]
    },
    {
     "name": "stdout",
     "output_type": "stream",
     "text": [
      "skipped ../speech-bahasa/LibriSpeech/train-clean-100/4788/91208/4788-91208-0000.flac\n",
      "skipped ../speech-bahasa/LibriSpeech/train-clean-100/4788/91208/4788-91208-0001.flac\n"
     ]
    },
    {
     "name": "stderr",
     "output_type": "stream",
     "text": [
      " 19%|█▉        | 5929/31159 [03:52<16:17, 25.80it/s]"
     ]
    },
    {
     "name": "stdout",
     "output_type": "stream",
     "text": [
      "skipped ../speech-bahasa/LibriSpeech/train-clean-100/4788/91208/4788-91208-0013.flac\n"
     ]
    },
    {
     "name": "stderr",
     "output_type": "stream",
     "text": [
      " 19%|█▉        | 5960/31159 [03:53<17:05, 24.58it/s]"
     ]
    },
    {
     "name": "stdout",
     "output_type": "stream",
     "text": [
      "skipped ../speech-bahasa/LibriSpeech/train-clean-100/4788/294466/4788-294466-0008.flac\n"
     ]
    },
    {
     "name": "stderr",
     "output_type": "stream",
     "text": [
      " 19%|█▉        | 5964/31159 [03:53<16:14, 25.86it/s]"
     ]
    },
    {
     "name": "stdout",
     "output_type": "stream",
     "text": [
      "skipped ../speech-bahasa/LibriSpeech/train-clean-100/4788/294466/4788-294466-0014.flac\n"
     ]
    },
    {
     "name": "stderr",
     "output_type": "stream",
     "text": [
      " 19%|█▉        | 5980/31159 [03:54<12:55, 32.49it/s]"
     ]
    },
    {
     "name": "stdout",
     "output_type": "stream",
     "text": [
      "skipped ../speech-bahasa/LibriSpeech/train-clean-100/4788/294466/4788-294466-0024.flac\n",
      "skipped ../speech-bahasa/LibriSpeech/train-clean-100/4788/294466/4788-294466-0028.flac\n",
      "skipped ../speech-bahasa/LibriSpeech/train-clean-100/4788/294466/4788-294466-0029.flac\n",
      "skipped ../speech-bahasa/LibriSpeech/train-clean-100/4788/294466/4788-294466-0031.flac\n"
     ]
    },
    {
     "name": "stderr",
     "output_type": "stream",
     "text": [
      " 19%|█▉        | 6003/31159 [03:55<16:12, 25.88it/s]"
     ]
    },
    {
     "name": "stdout",
     "output_type": "stream",
     "text": [
      "skipped ../speech-bahasa/LibriSpeech/train-clean-100/4788/94904/4788-94904-0021.flac\n"
     ]
    },
    {
     "name": "stderr",
     "output_type": "stream",
     "text": [
      " 19%|█▉        | 6025/31159 [03:56<15:58, 26.23it/s]"
     ]
    },
    {
     "name": "stdout",
     "output_type": "stream",
     "text": [
      "skipped ../speech-bahasa/LibriSpeech/train-clean-100/196/122150/196-122150-0001.flac\n",
      "skipped ../speech-bahasa/LibriSpeech/train-clean-100/196/122150/196-122150-0006.flac\n",
      "skipped ../speech-bahasa/LibriSpeech/train-clean-100/196/122150/196-122150-0007.flac\n"
     ]
    },
    {
     "name": "stderr",
     "output_type": "stream",
     "text": [
      " 19%|█▉        | 6034/31159 [03:56<14:08, 29.60it/s]"
     ]
    },
    {
     "name": "stdout",
     "output_type": "stream",
     "text": [
      "skipped ../speech-bahasa/LibriSpeech/train-clean-100/196/122150/196-122150-0011.flac\n"
     ]
    },
    {
     "name": "stderr",
     "output_type": "stream",
     "text": [
      " 19%|█▉        | 6041/31159 [03:57<20:15, 20.67it/s]"
     ]
    },
    {
     "name": "stdout",
     "output_type": "stream",
     "text": [
      "skipped ../speech-bahasa/LibriSpeech/train-clean-100/196/122150/196-122150-0018.flac\n",
      "skipped ../speech-bahasa/LibriSpeech/train-clean-100/196/122150/196-122150-0020.flac\n"
     ]
    },
    {
     "name": "stderr",
     "output_type": "stream",
     "text": [
      " 19%|█▉        | 6053/31159 [03:57<19:15, 21.73it/s]"
     ]
    },
    {
     "name": "stdout",
     "output_type": "stream",
     "text": [
      "skipped ../speech-bahasa/LibriSpeech/train-clean-100/196/122150/196-122150-0032.flac\n",
      "skipped ../speech-bahasa/LibriSpeech/train-clean-100/196/122150/196-122150-0036.flac\n"
     ]
    },
    {
     "name": "stderr",
     "output_type": "stream",
     "text": [
      " 20%|█▉        | 6103/31159 [03:59<16:16, 25.66it/s]"
     ]
    },
    {
     "name": "stdout",
     "output_type": "stream",
     "text": [
      "skipped ../speech-bahasa/LibriSpeech/train-clean-100/196/122152/196-122152-0007.flac\n"
     ]
    },
    {
     "name": "stderr",
     "output_type": "stream",
     "text": [
      " 20%|█▉        | 6113/31159 [04:00<15:34, 26.80it/s]"
     ]
    },
    {
     "name": "stdout",
     "output_type": "stream",
     "text": [
      "skipped ../speech-bahasa/LibriSpeech/train-clean-100/196/122152/196-122152-0015.flac\n"
     ]
    },
    {
     "name": "stderr",
     "output_type": "stream",
     "text": [
      " 20%|█▉        | 6123/31159 [04:00<23:30, 17.75it/s]"
     ]
    },
    {
     "name": "stdout",
     "output_type": "stream",
     "text": [
      "skipped ../speech-bahasa/LibriSpeech/train-clean-100/196/122152/196-122152-0026.flac\n"
     ]
    },
    {
     "name": "stderr",
     "output_type": "stream",
     "text": [
      " 20%|█▉        | 6130/31159 [04:01<19:59, 20.87it/s]"
     ]
    },
    {
     "name": "stdout",
     "output_type": "stream",
     "text": [
      "skipped ../speech-bahasa/LibriSpeech/train-clean-100/196/122152/196-122152-0033.flac\n"
     ]
    },
    {
     "name": "stderr",
     "output_type": "stream",
     "text": [
      " 20%|█▉        | 6166/31159 [04:02<21:29, 19.39it/s]"
     ]
    },
    {
     "name": "stdout",
     "output_type": "stream",
     "text": [
      "skipped ../speech-bahasa/LibriSpeech/train-clean-100/5463/39174/5463-39174-0035.flac\n",
      "skipped ../speech-bahasa/LibriSpeech/train-clean-100/5463/39174/5463-39174-0036.flac\n"
     ]
    },
    {
     "name": "stderr",
     "output_type": "stream",
     "text": [
      " 20%|█▉        | 6197/31159 [04:03<14:01, 29.68it/s]"
     ]
    },
    {
     "name": "stdout",
     "output_type": "stream",
     "text": [
      "skipped ../speech-bahasa/LibriSpeech/train-clean-100/5463/39173/5463-39173-0013.flac\n"
     ]
    },
    {
     "name": "stderr",
     "output_type": "stream",
     "text": [
      " 20%|██        | 6273/31159 [04:07<14:26, 28.73it/s]"
     ]
    },
    {
     "name": "stdout",
     "output_type": "stream",
     "text": [
      "skipped ../speech-bahasa/LibriSpeech/train-clean-100/4640/19187/4640-19187-0025.flac\n"
     ]
    },
    {
     "name": "stderr",
     "output_type": "stream",
     "text": [
      " 20%|██        | 6287/31159 [04:07<12:57, 31.98it/s]"
     ]
    },
    {
     "name": "stdout",
     "output_type": "stream",
     "text": [
      "skipped ../speech-bahasa/LibriSpeech/train-clean-100/4640/19189/4640-19189-0001.flac\n"
     ]
    },
    {
     "name": "stderr",
     "output_type": "stream",
     "text": [
      " 20%|██        | 6295/31159 [04:07<17:47, 23.29it/s]"
     ]
    },
    {
     "name": "stdout",
     "output_type": "stream",
     "text": [
      "skipped ../speech-bahasa/LibriSpeech/train-clean-100/4640/19189/4640-19189-0007.flac\n"
     ]
    },
    {
     "name": "stderr",
     "output_type": "stream",
     "text": [
      " 20%|██        | 6310/31159 [04:08<14:38, 28.30it/s]"
     ]
    },
    {
     "name": "stdout",
     "output_type": "stream",
     "text": [
      "skipped ../speech-bahasa/LibriSpeech/train-clean-100/4640/19189/4640-19189-0020.flac\n",
      "skipped ../speech-bahasa/LibriSpeech/train-clean-100/4640/19189/4640-19189-0021.flac\n",
      "skipped ../speech-bahasa/LibriSpeech/train-clean-100/4640/19189/4640-19189-0023.flac\n"
     ]
    },
    {
     "name": "stderr",
     "output_type": "stream",
     "text": [
      " 20%|██        | 6354/31159 [04:10<16:53, 24.46it/s]"
     ]
    },
    {
     "name": "stdout",
     "output_type": "stream",
     "text": [
      "skipped ../speech-bahasa/LibriSpeech/train-clean-100/4640/19188/4640-19188-0021.flac\n"
     ]
    },
    {
     "name": "stderr",
     "output_type": "stream",
     "text": [
      " 20%|██        | 6380/31159 [04:10<12:55, 31.95it/s]"
     ]
    },
    {
     "name": "stdout",
     "output_type": "stream",
     "text": [
      "skipped ../speech-bahasa/LibriSpeech/train-clean-100/4680/16026/4680-16026-0004.flac\n"
     ]
    },
    {
     "name": "stderr",
     "output_type": "stream",
     "text": [
      " 21%|██        | 6428/31159 [04:12<14:44, 27.96it/s]"
     ]
    },
    {
     "name": "stdout",
     "output_type": "stream",
     "text": [
      "skipped ../speech-bahasa/LibriSpeech/train-clean-100/4680/16041/4680-16041-0011.flac\n"
     ]
    },
    {
     "name": "stderr",
     "output_type": "stream",
     "text": [
      " 21%|██        | 6439/31159 [04:13<14:28, 28.47it/s]"
     ]
    },
    {
     "name": "stdout",
     "output_type": "stream",
     "text": [
      "skipped ../speech-bahasa/LibriSpeech/train-clean-100/4680/16041/4680-16041-0025.flac\n"
     ]
    },
    {
     "name": "stderr",
     "output_type": "stream",
     "text": [
      " 21%|██        | 6505/31159 [04:16<15:13, 27.00it/s]"
     ]
    },
    {
     "name": "stdout",
     "output_type": "stream",
     "text": [
      "skipped ../speech-bahasa/LibriSpeech/train-clean-100/8419/293469/8419-293469-0009.flac\n"
     ]
    },
    {
     "name": "stderr",
     "output_type": "stream",
     "text": [
      " 21%|██        | 6549/31159 [04:18<16:33, 24.77it/s]"
     ]
    },
    {
     "name": "stdout",
     "output_type": "stream",
     "text": [
      "skipped ../speech-bahasa/LibriSpeech/train-clean-100/8419/286667/8419-286667-0025.flac\n"
     ]
    },
    {
     "name": "stderr",
     "output_type": "stream",
     "text": [
      " 21%|██        | 6574/31159 [04:19<18:19, 22.36it/s]"
     ]
    },
    {
     "name": "stdout",
     "output_type": "stream",
     "text": [
      "skipped ../speech-bahasa/LibriSpeech/train-clean-100/8419/286676/8419-286676-0021.flac\n"
     ]
    },
    {
     "name": "stderr",
     "output_type": "stream",
     "text": [
      " 21%|██        | 6593/31159 [04:19<13:01, 31.42it/s]"
     ]
    },
    {
     "name": "stdout",
     "output_type": "stream",
     "text": [
      "skipped ../speech-bahasa/LibriSpeech/train-clean-100/8419/293473/8419-293473-0003.flac\n",
      "skipped ../speech-bahasa/LibriSpeech/train-clean-100/8419/293473/8419-293473-0005.flac\n",
      "skipped ../speech-bahasa/LibriSpeech/train-clean-100/8419/293473/8419-293473-0006.flac\n"
     ]
    },
    {
     "name": "stderr",
     "output_type": "stream",
     "text": [
      " 21%|██        | 6601/31159 [04:20<13:20, 30.68it/s]"
     ]
    },
    {
     "name": "stdout",
     "output_type": "stream",
     "text": [
      "skipped ../speech-bahasa/LibriSpeech/train-clean-100/8419/293473/8419-293473-0012.flac\n",
      "skipped ../speech-bahasa/LibriSpeech/train-clean-100/8419/293473/8419-293473-0014.flac\n"
     ]
    },
    {
     "name": "stderr",
     "output_type": "stream",
     "text": [
      " 21%|██        | 6620/31159 [04:21<15:59, 25.57it/s]"
     ]
    },
    {
     "name": "stdout",
     "output_type": "stream",
     "text": [
      "skipped ../speech-bahasa/LibriSpeech/train-clean-100/1963/142393/1963-142393-0011.flac\n"
     ]
    },
    {
     "name": "stderr",
     "output_type": "stream",
     "text": [
      " 22%|██▏       | 6769/31159 [04:26<15:22, 26.43it/s]"
     ]
    },
    {
     "name": "stdout",
     "output_type": "stream",
     "text": [
      "skipped ../speech-bahasa/LibriSpeech/train-clean-100/6000/55211/6000-55211-0030.flac\n"
     ]
    },
    {
     "name": "stderr",
     "output_type": "stream",
     "text": [
      " 22%|██▏       | 6783/31159 [04:27<14:20, 28.32it/s]"
     ]
    },
    {
     "name": "stdout",
     "output_type": "stream",
     "text": [
      "skipped ../speech-bahasa/LibriSpeech/train-clean-100/6000/55211/6000-55211-0047.flac\n"
     ]
    },
    {
     "name": "stderr",
     "output_type": "stream",
     "text": [
      " 22%|██▏       | 6796/31159 [04:27<18:45, 21.65it/s]"
     ]
    },
    {
     "name": "stdout",
     "output_type": "stream",
     "text": [
      "skipped ../speech-bahasa/LibriSpeech/train-clean-100/6000/55211/6000-55211-0057.flac\n"
     ]
    },
    {
     "name": "stderr",
     "output_type": "stream",
     "text": [
      " 22%|██▏       | 6870/31159 [04:30<13:10, 30.74it/s]"
     ]
    },
    {
     "name": "stdout",
     "output_type": "stream",
     "text": [
      "skipped ../speech-bahasa/LibriSpeech/train-clean-100/1098/133695/1098-133695-0042.flac\n"
     ]
    },
    {
     "name": "stderr",
     "output_type": "stream",
     "text": [
      " 22%|██▏       | 6916/31159 [04:32<13:12, 30.60it/s]"
     ]
    },
    {
     "name": "stdout",
     "output_type": "stream",
     "text": [
      "skipped ../speech-bahasa/LibriSpeech/train-clean-100/1098/133695/1098-133695-0090.flac\n"
     ]
    },
    {
     "name": "stderr",
     "output_type": "stream",
     "text": [
      " 22%|██▏       | 6921/31159 [04:32<12:26, 32.47it/s]"
     ]
    },
    {
     "name": "stdout",
     "output_type": "stream",
     "text": [
      "skipped ../speech-bahasa/LibriSpeech/train-clean-100/3830/12535/3830-12535-0007.flac\n"
     ]
    },
    {
     "name": "stderr",
     "output_type": "stream",
     "text": [
      " 22%|██▏       | 6949/31159 [04:33<13:07, 30.75it/s]"
     ]
    },
    {
     "name": "stdout",
     "output_type": "stream",
     "text": [
      "skipped ../speech-bahasa/LibriSpeech/train-clean-100/3830/12535/3830-12535-0028.flac\n",
      "skipped ../speech-bahasa/LibriSpeech/train-clean-100/3830/12535/3830-12535-0029.flac\n"
     ]
    },
    {
     "name": "stderr",
     "output_type": "stream",
     "text": [
      " 22%|██▏       | 6961/31159 [04:34<13:01, 30.97it/s]"
     ]
    },
    {
     "name": "stdout",
     "output_type": "stream",
     "text": [
      "skipped ../speech-bahasa/LibriSpeech/train-clean-100/3830/12530/3830-12530-0003.flac\n"
     ]
    },
    {
     "name": "stderr",
     "output_type": "stream",
     "text": [
      " 22%|██▏       | 6981/31159 [04:35<16:43, 24.10it/s]"
     ]
    },
    {
     "name": "stdout",
     "output_type": "stream",
     "text": [
      "skipped ../speech-bahasa/LibriSpeech/train-clean-100/3830/12530/3830-12530-0019.flac\n",
      "skipped ../speech-bahasa/LibriSpeech/train-clean-100/3830/12530/3830-12530-0023.flac\n",
      "skipped ../speech-bahasa/LibriSpeech/train-clean-100/3830/12530/3830-12530-0025.flac\n"
     ]
    },
    {
     "name": "stderr",
     "output_type": "stream",
     "text": [
      " 23%|██▎       | 7011/31159 [04:36<12:59, 30.99it/s]"
     ]
    },
    {
     "name": "stdout",
     "output_type": "stream",
     "text": [
      "skipped ../speech-bahasa/LibriSpeech/train-clean-100/3830/12531/3830-12531-0007.flac\n",
      "skipped ../speech-bahasa/LibriSpeech/train-clean-100/3830/12531/3830-12531-0009.flac\n"
     ]
    },
    {
     "name": "stderr",
     "output_type": "stream",
     "text": [
      " 23%|██▎       | 7112/31159 [04:40<17:11, 23.32it/s]"
     ]
    },
    {
     "name": "stdout",
     "output_type": "stream",
     "text": [
      "skipped ../speech-bahasa/LibriSpeech/train-clean-100/8797/294123/8797-294123-0074.flac\n"
     ]
    },
    {
     "name": "stderr",
     "output_type": "stream",
     "text": [
      " 23%|██▎       | 7128/31159 [04:41<15:49, 25.32it/s]"
     ]
    },
    {
     "name": "stdout",
     "output_type": "stream",
     "text": [
      "skipped ../speech-bahasa/LibriSpeech/train-clean-100/8797/294123/8797-294123-0091.flac\n"
     ]
    },
    {
     "name": "stderr",
     "output_type": "stream",
     "text": [
      " 23%|██▎       | 7143/31159 [04:41<15:13, 26.30it/s]"
     ]
    },
    {
     "name": "stdout",
     "output_type": "stream",
     "text": [
      "skipped ../speech-bahasa/LibriSpeech/train-clean-100/3983/5371/3983-5371-0004.flac\n"
     ]
    },
    {
     "name": "stderr",
     "output_type": "stream",
     "text": [
      " 23%|██▎       | 7203/31159 [04:44<16:21, 24.40it/s]"
     ]
    },
    {
     "name": "stdout",
     "output_type": "stream",
     "text": [
      "skipped ../speech-bahasa/LibriSpeech/train-clean-100/3983/5331/3983-5331-0004.flac\n"
     ]
    },
    {
     "name": "stderr",
     "output_type": "stream",
     "text": [
      " 23%|██▎       | 7213/31159 [04:44<16:09, 24.69it/s]"
     ]
    },
    {
     "name": "stdout",
     "output_type": "stream",
     "text": [
      "skipped ../speech-bahasa/LibriSpeech/train-clean-100/3983/5331/3983-5331-0013.flac\n"
     ]
    },
    {
     "name": "stderr",
     "output_type": "stream",
     "text": [
      " 23%|██▎       | 7228/31159 [04:45<22:21, 17.83it/s]"
     ]
    },
    {
     "name": "stdout",
     "output_type": "stream",
     "text": [
      "skipped ../speech-bahasa/LibriSpeech/train-clean-100/3983/5331/3983-5331-0029.flac\n"
     ]
    },
    {
     "name": "stderr",
     "output_type": "stream",
     "text": [
      " 23%|██▎       | 7247/31159 [04:46<15:32, 25.65it/s]"
     ]
    },
    {
     "name": "stdout",
     "output_type": "stream",
     "text": [
      "skipped ../speech-bahasa/LibriSpeech/train-clean-100/3983/5331/3983-5331-0047.flac\n"
     ]
    },
    {
     "name": "stderr",
     "output_type": "stream",
     "text": [
      " 23%|██▎       | 7266/31159 [04:46<12:40, 31.41it/s]"
     ]
    },
    {
     "name": "stdout",
     "output_type": "stream",
     "text": [
      "skipped ../speech-bahasa/LibriSpeech/train-clean-100/2391/145015/2391-145015-0013.flac\n"
     ]
    },
    {
     "name": "stderr",
     "output_type": "stream",
     "text": [
      " 23%|██▎       | 7277/31159 [04:47<16:01, 24.83it/s]"
     ]
    },
    {
     "name": "stdout",
     "output_type": "stream",
     "text": [
      "skipped ../speech-bahasa/LibriSpeech/train-clean-100/2391/145015/2391-145015-0024.flac\n"
     ]
    },
    {
     "name": "stderr",
     "output_type": "stream",
     "text": [
      " 23%|██▎       | 7306/31159 [04:48<13:29, 29.48it/s]"
     ]
    },
    {
     "name": "stdout",
     "output_type": "stream",
     "text": [
      "skipped ../speech-bahasa/LibriSpeech/train-clean-100/2391/145015/2391-145015-0055.flac\n"
     ]
    },
    {
     "name": "stderr",
     "output_type": "stream",
     "text": [
      " 23%|██▎       | 7310/31159 [04:48<14:36, 27.21it/s]"
     ]
    },
    {
     "name": "stdout",
     "output_type": "stream",
     "text": [
      "skipped ../speech-bahasa/LibriSpeech/train-clean-100/2391/145015/2391-145015-0064.flac\n"
     ]
    },
    {
     "name": "stderr",
     "output_type": "stream",
     "text": [
      " 24%|██▍       | 7403/31159 [04:52<11:02, 35.87it/s]"
     ]
    },
    {
     "name": "stdout",
     "output_type": "stream",
     "text": [
      "skipped ../speech-bahasa/LibriSpeech/train-clean-100/2136/5143/2136-5143-0024.flac\n",
      "skipped ../speech-bahasa/LibriSpeech/train-clean-100/2136/5143/2136-5143-0025.flac\n",
      "skipped ../speech-bahasa/LibriSpeech/train-clean-100/2136/5143/2136-5143-0028.flac\n"
     ]
    },
    {
     "name": "stderr",
     "output_type": "stream",
     "text": [
      " 24%|██▍       | 7437/31159 [04:53<12:20, 32.03it/s]"
     ]
    },
    {
     "name": "stdout",
     "output_type": "stream",
     "text": [
      "skipped ../speech-bahasa/LibriSpeech/train-clean-100/2136/5147/2136-5147-0016.flac\n"
     ]
    },
    {
     "name": "stderr",
     "output_type": "stream",
     "text": [
      " 24%|██▍       | 7454/31159 [04:53<12:54, 30.59it/s]"
     ]
    },
    {
     "name": "stdout",
     "output_type": "stream",
     "text": [
      "skipped ../speech-bahasa/LibriSpeech/train-clean-100/2136/5147/2136-5147-0033.flac\n",
      "skipped ../speech-bahasa/LibriSpeech/train-clean-100/2136/5147/2136-5147-0038.flac\n",
      "skipped ../speech-bahasa/LibriSpeech/train-clean-100/2136/5147/2136-5147-0039.flac\n"
     ]
    },
    {
     "name": "stderr",
     "output_type": "stream",
     "text": [
      " 24%|██▍       | 7466/31159 [04:54<18:11, 21.71it/s]"
     ]
    },
    {
     "name": "stdout",
     "output_type": "stream",
     "text": [
      "skipped ../speech-bahasa/LibriSpeech/train-clean-100/2136/5140/2136-5140-0003.flac\n"
     ]
    },
    {
     "name": "stderr",
     "output_type": "stream",
     "text": [
      " 24%|██▍       | 7499/31159 [04:55<14:17, 27.60it/s]"
     ]
    },
    {
     "name": "stdout",
     "output_type": "stream",
     "text": [
      "skipped ../speech-bahasa/LibriSpeech/train-clean-100/2136/5140/2136-5140-0036.flac\n"
     ]
    },
    {
     "name": "stderr",
     "output_type": "stream",
     "text": [
      " 24%|██▍       | 7511/31159 [04:56<16:56, 23.27it/s]"
     ]
    },
    {
     "name": "stdout",
     "output_type": "stream",
     "text": [
      "skipped ../speech-bahasa/LibriSpeech/train-clean-100/1088/134318/1088-134318-0006.flac\n",
      "skipped ../speech-bahasa/LibriSpeech/train-clean-100/1088/134318/1088-134318-0007.flac\n"
     ]
    },
    {
     "name": "stderr",
     "output_type": "stream",
     "text": [
      " 24%|██▍       | 7526/31159 [04:56<15:44, 25.01it/s]"
     ]
    },
    {
     "name": "stdout",
     "output_type": "stream",
     "text": [
      "skipped ../speech-bahasa/LibriSpeech/train-clean-100/1088/134315/1088-134315-0000.flac\n"
     ]
    },
    {
     "name": "stderr",
     "output_type": "stream",
     "text": [
      " 24%|██▍       | 7536/31159 [04:57<14:44, 26.71it/s]"
     ]
    },
    {
     "name": "stdout",
     "output_type": "stream",
     "text": [
      "skipped ../speech-bahasa/LibriSpeech/train-clean-100/1088/134315/1088-134315-0010.flac\n"
     ]
    },
    {
     "name": "stderr",
     "output_type": "stream",
     "text": [
      " 24%|██▍       | 7569/31159 [04:58<14:28, 27.15it/s]"
     ]
    },
    {
     "name": "stdout",
     "output_type": "stream",
     "text": [
      "skipped ../speech-bahasa/LibriSpeech/train-clean-100/1088/134315/1088-134315-0042.flac\n"
     ]
    },
    {
     "name": "stderr",
     "output_type": "stream",
     "text": [
      " 24%|██▍       | 7586/31159 [04:59<13:29, 29.12it/s]"
     ]
    },
    {
     "name": "stdout",
     "output_type": "stream",
     "text": [
      "skipped ../speech-bahasa/LibriSpeech/train-clean-100/1088/129236/1088-129236-0003.flac\n"
     ]
    },
    {
     "name": "stderr",
     "output_type": "stream",
     "text": [
      " 24%|██▍       | 7597/31159 [04:59<17:03, 23.02it/s]"
     ]
    },
    {
     "name": "stdout",
     "output_type": "stream",
     "text": [
      "skipped ../speech-bahasa/LibriSpeech/train-clean-100/1088/129236/1088-129236-0011.flac\n",
      "skipped ../speech-bahasa/LibriSpeech/train-clean-100/1088/129236/1088-129236-0013.flac\n"
     ]
    },
    {
     "name": "stderr",
     "output_type": "stream",
     "text": [
      " 24%|██▍       | 7616/31159 [05:00<14:58, 26.20it/s]"
     ]
    },
    {
     "name": "stdout",
     "output_type": "stream",
     "text": [
      "skipped ../speech-bahasa/LibriSpeech/train-clean-100/7190/90543/7190-90543-0000.flac\n"
     ]
    },
    {
     "name": "stderr",
     "output_type": "stream",
     "text": [
      " 25%|██▍       | 7647/31159 [05:01<14:36, 26.81it/s]"
     ]
    },
    {
     "name": "stdout",
     "output_type": "stream",
     "text": [
      "skipped ../speech-bahasa/LibriSpeech/train-clean-100/7190/90543/7190-90543-0032.flac\n"
     ]
    },
    {
     "name": "stderr",
     "output_type": "stream",
     "text": [
      " 25%|██▍       | 7713/31159 [05:03<12:37, 30.95it/s]"
     ]
    },
    {
     "name": "stdout",
     "output_type": "stream",
     "text": [
      "skipped ../speech-bahasa/LibriSpeech/train-clean-100/7190/90542/7190-90542-0048.flac\n",
      "skipped ../speech-bahasa/LibriSpeech/train-clean-100/7190/90542/7190-90542-0050.flac\n"
     ]
    },
    {
     "name": "stderr",
     "output_type": "stream",
     "text": [
      " 25%|██▍       | 7752/31159 [05:05<15:46, 24.72it/s]"
     ]
    },
    {
     "name": "stdout",
     "output_type": "stream",
     "text": [
      "skipped ../speech-bahasa/LibriSpeech/train-clean-100/4160/14187/4160-14187-0006.flac\n"
     ]
    },
    {
     "name": "stderr",
     "output_type": "stream",
     "text": [
      " 25%|██▍       | 7789/31159 [05:07<15:55, 24.46it/s]"
     ]
    },
    {
     "name": "stdout",
     "output_type": "stream",
     "text": [
      "skipped ../speech-bahasa/LibriSpeech/train-clean-100/4160/11550/4160-11550-0013.flac\n",
      "skipped ../speech-bahasa/LibriSpeech/train-clean-100/4160/11550/4160-11550-0018.flac\n"
     ]
    },
    {
     "name": "stderr",
     "output_type": "stream",
     "text": [
      " 25%|██▌       | 7801/31159 [05:07<13:36, 28.60it/s]"
     ]
    },
    {
     "name": "stdout",
     "output_type": "stream",
     "text": [
      "skipped ../speech-bahasa/LibriSpeech/train-clean-100/4160/11550/4160-11550-0025.flac\n",
      "skipped ../speech-bahasa/LibriSpeech/train-clean-100/4160/11550/4160-11550-0027.flac\n",
      "skipped ../speech-bahasa/LibriSpeech/train-clean-100/4160/11550/4160-11550-0031.flac\n"
     ]
    },
    {
     "name": "stderr",
     "output_type": "stream",
     "text": [
      " 25%|██▌       | 7832/31159 [05:09<16:21, 23.76it/s]"
     ]
    },
    {
     "name": "stdout",
     "output_type": "stream",
     "text": [
      "skipped ../speech-bahasa/LibriSpeech/train-clean-100/4160/11549/4160-11549-0016.flac\n"
     ]
    },
    {
     "name": "stderr",
     "output_type": "stream",
     "text": [
      " 25%|██▌       | 7854/31159 [05:10<19:38, 19.77it/s]"
     ]
    },
    {
     "name": "stdout",
     "output_type": "stream",
     "text": [
      "skipped ../speech-bahasa/LibriSpeech/train-clean-100/6476/57446/6476-57446-0000.flac\n"
     ]
    },
    {
     "name": "stderr",
     "output_type": "stream",
     "text": [
      " 25%|██▌       | 7861/31159 [05:10<17:34, 22.10it/s]"
     ]
    },
    {
     "name": "stdout",
     "output_type": "stream",
     "text": [
      "skipped ../speech-bahasa/LibriSpeech/train-clean-100/6476/57446/6476-57446-0006.flac\n"
     ]
    },
    {
     "name": "stderr",
     "output_type": "stream",
     "text": [
      " 25%|██▌       | 7871/31159 [05:10<15:05, 25.72it/s]"
     ]
    },
    {
     "name": "stdout",
     "output_type": "stream",
     "text": [
      "skipped ../speech-bahasa/LibriSpeech/train-clean-100/6476/57446/6476-57446-0018.flac\n"
     ]
    },
    {
     "name": "stderr",
     "output_type": "stream",
     "text": [
      " 25%|██▌       | 7878/31159 [05:11<14:33, 26.64it/s]"
     ]
    },
    {
     "name": "stdout",
     "output_type": "stream",
     "text": [
      "skipped ../speech-bahasa/LibriSpeech/train-clean-100/6476/57446/6476-57446-0024.flac\n",
      "skipped ../speech-bahasa/LibriSpeech/train-clean-100/6476/57446/6476-57446-0029.flac\n"
     ]
    },
    {
     "name": "stderr",
     "output_type": "stream",
     "text": [
      " 25%|██▌       | 7929/31159 [05:13<14:54, 25.98it/s]"
     ]
    },
    {
     "name": "stdout",
     "output_type": "stream",
     "text": [
      "skipped ../speech-bahasa/LibriSpeech/train-clean-100/6476/57446/6476-57446-0073.flac\n"
     ]
    },
    {
     "name": "stderr",
     "output_type": "stream",
     "text": [
      " 26%|██▌       | 7949/31159 [05:14<16:36, 23.30it/s]"
     ]
    },
    {
     "name": "stdout",
     "output_type": "stream",
     "text": [
      "skipped ../speech-bahasa/LibriSpeech/train-clean-100/6476/96661/6476-96661-0008.flac\n"
     ]
    },
    {
     "name": "stderr",
     "output_type": "stream",
     "text": [
      " 26%|██▌       | 7973/31159 [05:14<12:15, 31.54it/s]"
     ]
    },
    {
     "name": "stdout",
     "output_type": "stream",
     "text": [
      "skipped ../speech-bahasa/LibriSpeech/train-clean-100/6476/96661/6476-96661-0029.flac\n",
      "skipped ../speech-bahasa/LibriSpeech/train-clean-100/6181/216552/6181-216552-0003.flac\n"
     ]
    },
    {
     "name": "stderr",
     "output_type": "stream",
     "text": [
      " 26%|██▌       | 8001/31159 [05:16<14:52, 25.95it/s]"
     ]
    },
    {
     "name": "stdout",
     "output_type": "stream",
     "text": [
      "skipped ../speech-bahasa/LibriSpeech/train-clean-100/6181/216552/6181-216552-0030.flac\n"
     ]
    },
    {
     "name": "stderr",
     "output_type": "stream",
     "text": [
      " 26%|██▌       | 8018/31159 [05:16<14:14, 27.08it/s]"
     ]
    },
    {
     "name": "stdout",
     "output_type": "stream",
     "text": [
      "skipped ../speech-bahasa/LibriSpeech/train-clean-100/6181/216552/6181-216552-0044.flac\n"
     ]
    },
    {
     "name": "stderr",
     "output_type": "stream",
     "text": [
      " 26%|██▌       | 8028/31159 [05:17<19:33, 19.70it/s]"
     ]
    },
    {
     "name": "stdout",
     "output_type": "stream",
     "text": [
      "skipped ../speech-bahasa/LibriSpeech/train-clean-100/6181/216552/6181-216552-0056.flac\n"
     ]
    },
    {
     "name": "stderr",
     "output_type": "stream",
     "text": [
      " 26%|██▌       | 8038/31159 [05:17<15:22, 25.07it/s]"
     ]
    },
    {
     "name": "stdout",
     "output_type": "stream",
     "text": [
      "skipped ../speech-bahasa/LibriSpeech/train-clean-100/6181/216552/6181-216552-0066.flac\n"
     ]
    },
    {
     "name": "stderr",
     "output_type": "stream",
     "text": [
      " 26%|██▌       | 8045/31159 [05:17<14:27, 26.63it/s]"
     ]
    },
    {
     "name": "stdout",
     "output_type": "stream",
     "text": [
      "skipped ../speech-bahasa/LibriSpeech/train-clean-100/6181/216552/6181-216552-0074.flac\n"
     ]
    },
    {
     "name": "stderr",
     "output_type": "stream",
     "text": [
      " 26%|██▌       | 8065/31159 [05:18<14:30, 26.53it/s]"
     ]
    },
    {
     "name": "stdout",
     "output_type": "stream",
     "text": [
      "skipped ../speech-bahasa/LibriSpeech/train-clean-100/6181/216552/6181-216552-0094.flac\n"
     ]
    },
    {
     "name": "stderr",
     "output_type": "stream",
     "text": [
      " 26%|██▌       | 8095/31159 [05:20<14:49, 25.94it/s]"
     ]
    },
    {
     "name": "stdout",
     "output_type": "stream",
     "text": [
      "skipped ../speech-bahasa/LibriSpeech/train-clean-100/1235/135884/1235-135884-0009.flac\n",
      "skipped ../speech-bahasa/LibriSpeech/train-clean-100/1235/135884/1235-135884-0012.flac\n"
     ]
    },
    {
     "name": "stderr",
     "output_type": "stream",
     "text": [
      " 26%|██▌       | 8120/31159 [05:21<15:43, 24.41it/s]"
     ]
    },
    {
     "name": "stdout",
     "output_type": "stream",
     "text": [
      "skipped ../speech-bahasa/LibriSpeech/train-clean-100/1235/135884/1235-135884-0034.flac\n"
     ]
    },
    {
     "name": "stderr",
     "output_type": "stream",
     "text": [
      " 26%|██▌       | 8153/31159 [05:22<12:59, 29.51it/s]"
     ]
    },
    {
     "name": "stdout",
     "output_type": "stream",
     "text": [
      "skipped ../speech-bahasa/LibriSpeech/train-clean-100/1235/135887/1235-135887-0025.flac\n"
     ]
    },
    {
     "name": "stderr",
     "output_type": "stream",
     "text": [
      " 26%|██▋       | 8183/31159 [05:23<12:05, 31.68it/s]"
     ]
    },
    {
     "name": "stdout",
     "output_type": "stream",
     "text": [
      "skipped ../speech-bahasa/LibriSpeech/train-clean-100/1235/135883/1235-135883-0020.flac\n",
      "skipped ../speech-bahasa/LibriSpeech/train-clean-100/1235/135883/1235-135883-0023.flac\n"
     ]
    },
    {
     "name": "stderr",
     "output_type": "stream",
     "text": [
      " 26%|██▋       | 8221/31159 [05:24<12:40, 30.15it/s]"
     ]
    },
    {
     "name": "stdout",
     "output_type": "stream",
     "text": [
      "skipped ../speech-bahasa/LibriSpeech/train-clean-100/730/360/730-360-0012.flac\n"
     ]
    },
    {
     "name": "stderr",
     "output_type": "stream",
     "text": [
      " 26%|██▋       | 8234/31159 [05:25<11:58, 31.92it/s]"
     ]
    },
    {
     "name": "stdout",
     "output_type": "stream",
     "text": [
      "skipped ../speech-bahasa/LibriSpeech/train-clean-100/730/360/730-360-0022.flac\n"
     ]
    },
    {
     "name": "stderr",
     "output_type": "stream",
     "text": [
      " 27%|██▋       | 8297/31159 [05:27<09:29, 40.14it/s]"
     ]
    },
    {
     "name": "stdout",
     "output_type": "stream",
     "text": [
      "skipped ../speech-bahasa/LibriSpeech/train-clean-100/730/358/730-358-0037.flac\n"
     ]
    },
    {
     "name": "stderr",
     "output_type": "stream",
     "text": [
      " 27%|██▋       | 8312/31159 [05:27<09:03, 42.03it/s]"
     ]
    },
    {
     "name": "stdout",
     "output_type": "stream",
     "text": [
      "skipped ../speech-bahasa/LibriSpeech/train-clean-100/730/358/730-358-0052.flac\n",
      "skipped ../speech-bahasa/LibriSpeech/train-clean-100/730/358/730-358-0061.flac\n"
     ]
    },
    {
     "name": "stderr",
     "output_type": "stream",
     "text": [
      " 27%|██▋       | 8354/31159 [05:28<09:15, 41.09it/s]"
     ]
    },
    {
     "name": "stdout",
     "output_type": "stream",
     "text": [
      "skipped ../speech-bahasa/LibriSpeech/train-clean-100/730/359/730-359-0027.flac\n",
      "skipped ../speech-bahasa/LibriSpeech/train-clean-100/730/359/730-359-0034.flac\n"
     ]
    },
    {
     "name": "stderr",
     "output_type": "stream",
     "text": [
      " 27%|██▋       | 8369/31159 [05:29<08:46, 43.25it/s]"
     ]
    },
    {
     "name": "stdout",
     "output_type": "stream",
     "text": [
      "skipped ../speech-bahasa/LibriSpeech/train-clean-100/730/359/730-359-0047.flac\n"
     ]
    },
    {
     "name": "stderr",
     "output_type": "stream",
     "text": [
      " 27%|██▋       | 8386/31159 [05:30<14:16, 26.59it/s]"
     ]
    },
    {
     "name": "stdout",
     "output_type": "stream",
     "text": [
      "skipped ../speech-bahasa/LibriSpeech/train-clean-100/1992/141719/1992-141719-0012.flac\n",
      "skipped ../speech-bahasa/LibriSpeech/train-clean-100/1992/141719/1992-141719-0017.flac\n"
     ]
    },
    {
     "name": "stderr",
     "output_type": "stream",
     "text": [
      " 27%|██▋       | 8406/31159 [05:30<13:15, 28.59it/s]"
     ]
    },
    {
     "name": "stdout",
     "output_type": "stream",
     "text": [
      "skipped ../speech-bahasa/LibriSpeech/train-clean-100/1992/141719/1992-141719-0031.flac\n"
     ]
    },
    {
     "name": "stderr",
     "output_type": "stream",
     "text": [
      " 27%|██▋       | 8410/31159 [05:30<13:43, 27.64it/s]"
     ]
    },
    {
     "name": "stdout",
     "output_type": "stream",
     "text": [
      "skipped ../speech-bahasa/LibriSpeech/train-clean-100/1992/141719/1992-141719-0038.flac\n"
     ]
    },
    {
     "name": "stderr",
     "output_type": "stream",
     "text": [
      " 27%|██▋       | 8415/31159 [05:31<12:07, 31.26it/s]"
     ]
    },
    {
     "name": "stdout",
     "output_type": "stream",
     "text": [
      "skipped ../speech-bahasa/LibriSpeech/train-clean-100/1992/141719/1992-141719-0043.flac\n"
     ]
    },
    {
     "name": "stderr",
     "output_type": "stream",
     "text": [
      " 27%|██▋       | 8436/31159 [05:32<14:55, 25.38it/s]"
     ]
    },
    {
     "name": "stdout",
     "output_type": "stream",
     "text": [
      "skipped ../speech-bahasa/LibriSpeech/train-clean-100/887/123291/887-123291-0006.flac\n"
     ]
    },
    {
     "name": "stderr",
     "output_type": "stream",
     "text": [
      " 27%|██▋       | 8462/31159 [05:32<11:52, 31.84it/s]"
     ]
    },
    {
     "name": "stdout",
     "output_type": "stream",
     "text": [
      "skipped ../speech-bahasa/LibriSpeech/train-clean-100/887/123291/887-123291-0035.flac\n"
     ]
    },
    {
     "name": "stderr",
     "output_type": "stream",
     "text": [
      " 27%|██▋       | 8493/31159 [05:34<12:41, 29.75it/s]"
     ]
    },
    {
     "name": "stdout",
     "output_type": "stream",
     "text": [
      "skipped ../speech-bahasa/LibriSpeech/train-clean-100/887/123289/887-123289-0020.flac\n",
      "skipped ../speech-bahasa/LibriSpeech/train-clean-100/887/123289/887-123289-0024.flac\n",
      "skipped ../speech-bahasa/LibriSpeech/train-clean-100/887/123289/887-123289-0025.flac\n"
     ]
    },
    {
     "name": "stderr",
     "output_type": "stream",
     "text": [
      " 27%|██▋       | 8512/31159 [05:35<18:14, 20.69it/s]"
     ]
    },
    {
     "name": "stdout",
     "output_type": "stream",
     "text": [
      "skipped ../speech-bahasa/LibriSpeech/train-clean-100/887/123290/887-123290-0001.flac\n"
     ]
    },
    {
     "name": "stderr",
     "output_type": "stream",
     "text": [
      " 27%|██▋       | 8529/31159 [05:35<14:19, 26.34it/s]"
     ]
    },
    {
     "name": "stdout",
     "output_type": "stream",
     "text": [
      "skipped ../speech-bahasa/LibriSpeech/train-clean-100/887/123290/887-123290-0019.flac\n"
     ]
    },
    {
     "name": "stderr",
     "output_type": "stream",
     "text": [
      " 27%|██▋       | 8540/31159 [05:36<13:10, 28.63it/s]"
     ]
    },
    {
     "name": "stdout",
     "output_type": "stream",
     "text": [
      "skipped ../speech-bahasa/LibriSpeech/train-clean-100/887/123290/887-123290-0028.flac\n",
      "skipped ../speech-bahasa/LibriSpeech/train-clean-100/229/130880/229-130880-0000.flac\n"
     ]
    },
    {
     "name": "stderr",
     "output_type": "stream",
     "text": [
      " 27%|██▋       | 8549/31159 [05:36<12:21, 30.48it/s]"
     ]
    },
    {
     "name": "stdout",
     "output_type": "stream",
     "text": [
      "skipped ../speech-bahasa/LibriSpeech/train-clean-100/229/130880/229-130880-0011.flac\n"
     ]
    },
    {
     "name": "stderr",
     "output_type": "stream",
     "text": [
      " 28%|██▊       | 8591/31159 [05:38<13:32, 27.76it/s]"
     ]
    },
    {
     "name": "stdout",
     "output_type": "stream",
     "text": [
      "skipped ../speech-bahasa/LibriSpeech/train-clean-100/229/130880/229-130880-0049.flac\n"
     ]
    },
    {
     "name": "stderr",
     "output_type": "stream",
     "text": [
      " 28%|██▊       | 8635/31159 [05:40<13:56, 26.92it/s]"
     ]
    },
    {
     "name": "stdout",
     "output_type": "stream",
     "text": [
      "skipped ../speech-bahasa/LibriSpeech/train-clean-100/3607/135982/3607-135982-0003.flac\n"
     ]
    },
    {
     "name": "stderr",
     "output_type": "stream",
     "text": [
      " 28%|██▊       | 8661/31159 [05:41<14:35, 25.70it/s]"
     ]
    },
    {
     "name": "stdout",
     "output_type": "stream",
     "text": [
      "skipped ../speech-bahasa/LibriSpeech/train-clean-100/3607/135982/3607-135982-0023.flac\n",
      "skipped ../speech-bahasa/LibriSpeech/train-clean-100/3607/135982/3607-135982-0026.flac\n"
     ]
    },
    {
     "name": "stderr",
     "output_type": "stream",
     "text": [
      " 28%|██▊       | 8671/31159 [05:41<14:28, 25.89it/s]"
     ]
    },
    {
     "name": "stdout",
     "output_type": "stream",
     "text": [
      "skipped ../speech-bahasa/LibriSpeech/train-clean-100/3607/135982/3607-135982-0034.flac\n",
      "skipped ../speech-bahasa/LibriSpeech/train-clean-100/3607/135982/3607-135982-0040.flac\n"
     ]
    },
    {
     "name": "stderr",
     "output_type": "stream",
     "text": [
      " 28%|██▊       | 8697/31159 [05:42<14:26, 25.91it/s]"
     ]
    },
    {
     "name": "stdout",
     "output_type": "stream",
     "text": [
      "skipped ../speech-bahasa/LibriSpeech/train-clean-100/3607/29116/3607-29116-0008.flac\n"
     ]
    },
    {
     "name": "stderr",
     "output_type": "stream",
     "text": [
      " 28%|██▊       | 8712/31159 [05:43<14:40, 25.51it/s]"
     ]
    },
    {
     "name": "stdout",
     "output_type": "stream",
     "text": [
      "skipped ../speech-bahasa/LibriSpeech/train-clean-100/3607/29116/3607-29116-0025.flac\n"
     ]
    },
    {
     "name": "stderr",
     "output_type": "stream",
     "text": [
      " 28%|██▊       | 8744/31159 [05:44<15:01, 24.87it/s]"
     ]
    },
    {
     "name": "stdout",
     "output_type": "stream",
     "text": [
      "skipped ../speech-bahasa/LibriSpeech/train-clean-100/3374/298032/3374-298032-0008.flac\n"
     ]
    },
    {
     "name": "stderr",
     "output_type": "stream",
     "text": [
      " 28%|██▊       | 8777/31159 [05:46<14:11, 26.28it/s]"
     ]
    },
    {
     "name": "stdout",
     "output_type": "stream",
     "text": [
      "skipped ../speech-bahasa/LibriSpeech/train-clean-100/3374/298032/3374-298032-0040.flac\n"
     ]
    },
    {
     "name": "stderr",
     "output_type": "stream",
     "text": [
      " 28%|██▊       | 8789/31159 [05:46<13:27, 27.71it/s]"
     ]
    },
    {
     "name": "stdout",
     "output_type": "stream",
     "text": [
      "skipped ../speech-bahasa/LibriSpeech/train-clean-100/3374/298026/3374-298026-0011.flac\n"
     ]
    },
    {
     "name": "stderr",
     "output_type": "stream",
     "text": [
      " 28%|██▊       | 8803/31159 [05:47<13:15, 28.11it/s]"
     ]
    },
    {
     "name": "stdout",
     "output_type": "stream",
     "text": [
      "skipped ../speech-bahasa/LibriSpeech/train-clean-100/3374/298026/3374-298026-0023.flac\n"
     ]
    },
    {
     "name": "stderr",
     "output_type": "stream",
     "text": [
      " 28%|██▊       | 8826/31159 [05:48<14:02, 26.50it/s]"
     ]
    },
    {
     "name": "stdout",
     "output_type": "stream",
     "text": [
      "skipped ../speech-bahasa/LibriSpeech/train-clean-100/3374/298025/3374-298025-0000.flac\n",
      "skipped ../speech-bahasa/LibriSpeech/train-clean-100/3374/298025/3374-298025-0006.flac\n"
     ]
    },
    {
     "name": "stderr",
     "output_type": "stream",
     "text": [
      " 28%|██▊       | 8835/31159 [05:48<12:11, 30.50it/s]"
     ]
    },
    {
     "name": "stdout",
     "output_type": "stream",
     "text": [
      "skipped ../speech-bahasa/LibriSpeech/train-clean-100/3374/298025/3374-298025-0010.flac\n"
     ]
    },
    {
     "name": "stderr",
     "output_type": "stream",
     "text": [
      " 28%|██▊       | 8844/31159 [05:48<10:39, 34.88it/s]"
     ]
    },
    {
     "name": "stdout",
     "output_type": "stream",
     "text": [
      "skipped ../speech-bahasa/LibriSpeech/train-clean-100/3374/298025/3374-298025-0016.flac\n",
      "skipped ../speech-bahasa/LibriSpeech/train-clean-100/3374/298025/3374-298025-0019.flac\n"
     ]
    },
    {
     "name": "stderr",
     "output_type": "stream",
     "text": [
      " 28%|██▊       | 8852/31159 [05:48<12:17, 30.24it/s]"
     ]
    },
    {
     "name": "stdout",
     "output_type": "stream",
     "text": [
      "skipped ../speech-bahasa/LibriSpeech/train-clean-100/3374/298025/3374-298025-0026.flac\n"
     ]
    },
    {
     "name": "stderr",
     "output_type": "stream",
     "text": [
      " 29%|██▊       | 8895/31159 [05:50<12:44, 29.13it/s]"
     ]
    },
    {
     "name": "stdout",
     "output_type": "stream",
     "text": [
      "skipped ../speech-bahasa/LibriSpeech/train-clean-100/4853/27671/4853-27671-0037.flac\n"
     ]
    },
    {
     "name": "stderr",
     "output_type": "stream",
     "text": [
      " 29%|██▊       | 8912/31159 [05:51<16:45, 22.13it/s]"
     ]
    },
    {
     "name": "stdout",
     "output_type": "stream",
     "text": [
      "skipped ../speech-bahasa/LibriSpeech/train-clean-100/4853/29413/4853-29413-0012.flac\n"
     ]
    },
    {
     "name": "stderr",
     "output_type": "stream",
     "text": [
      " 29%|██▊       | 8919/31159 [05:51<15:10, 24.42it/s]"
     ]
    },
    {
     "name": "stdout",
     "output_type": "stream",
     "text": [
      "skipped ../speech-bahasa/LibriSpeech/train-clean-100/4853/29413/4853-29413-0018.flac\n"
     ]
    },
    {
     "name": "stderr",
     "output_type": "stream",
     "text": [
      " 29%|██▉       | 8960/31159 [05:53<13:49, 26.75it/s]"
     ]
    },
    {
     "name": "stdout",
     "output_type": "stream",
     "text": [
      "skipped ../speech-bahasa/LibriSpeech/train-clean-100/4853/27670/4853-27670-0028.flac\n",
      "skipped ../speech-bahasa/LibriSpeech/train-clean-100/4853/27670/4853-27670-0032.flac\n"
     ]
    },
    {
     "name": "stderr",
     "output_type": "stream",
     "text": [
      " 29%|██▉       | 8991/31159 [05:54<16:49, 21.97it/s]"
     ]
    },
    {
     "name": "stdout",
     "output_type": "stream",
     "text": [
      "skipped ../speech-bahasa/LibriSpeech/train-clean-100/6531/61334/6531-61334-0022.flac\n"
     ]
    },
    {
     "name": "stderr",
     "output_type": "stream",
     "text": [
      " 29%|██▉       | 9003/31159 [05:55<12:43, 29.03it/s]"
     ]
    },
    {
     "name": "stdout",
     "output_type": "stream",
     "text": [
      "skipped ../speech-bahasa/LibriSpeech/train-clean-100/6531/61334/6531-61334-0032.flac\n"
     ]
    },
    {
     "name": "stderr",
     "output_type": "stream",
     "text": [
      " 29%|██▉       | 9116/31159 [05:58<11:51, 30.96it/s]"
     ]
    },
    {
     "name": "stdout",
     "output_type": "stream",
     "text": [
      "skipped ../speech-bahasa/LibriSpeech/train-clean-100/7278/104730/7278-104730-0014.flac\n"
     ]
    },
    {
     "name": "stderr",
     "output_type": "stream",
     "text": [
      " 29%|██▉       | 9157/31159 [06:00<15:28, 23.70it/s]"
     ]
    },
    {
     "name": "stdout",
     "output_type": "stream",
     "text": [
      "skipped ../speech-bahasa/LibriSpeech/train-clean-100/7278/246956/7278-246956-0011.flac\n"
     ]
    },
    {
     "name": "stderr",
     "output_type": "stream",
     "text": [
      " 29%|██▉       | 9173/31159 [06:01<14:45, 24.83it/s]"
     ]
    },
    {
     "name": "stdout",
     "output_type": "stream",
     "text": [
      "skipped ../speech-bahasa/LibriSpeech/train-clean-100/7278/246956/7278-246956-0029.flac\n",
      "skipped ../speech-bahasa/LibriSpeech/train-clean-100/7278/246956/7278-246956-0032.flac\n"
     ]
    },
    {
     "name": "stderr",
     "output_type": "stream",
     "text": [
      " 29%|██▉       | 9182/31159 [06:01<12:21, 29.66it/s]"
     ]
    },
    {
     "name": "stdout",
     "output_type": "stream",
     "text": [
      "skipped ../speech-bahasa/LibriSpeech/train-clean-100/7278/91083/7278-91083-0001.flac\n"
     ]
    },
    {
     "name": "stderr",
     "output_type": "stream",
     "text": [
      " 30%|██▉       | 9196/31159 [06:02<17:54, 20.43it/s]"
     ]
    },
    {
     "name": "stdout",
     "output_type": "stream",
     "text": [
      "skipped ../speech-bahasa/LibriSpeech/train-clean-100/7278/91083/7278-91083-0013.flac\n"
     ]
    },
    {
     "name": "stderr",
     "output_type": "stream",
     "text": [
      " 30%|██▉       | 9226/31159 [06:03<11:52, 30.79it/s]"
     ]
    },
    {
     "name": "stdout",
     "output_type": "stream",
     "text": [
      "skipped ../speech-bahasa/LibriSpeech/train-clean-100/4267/72637/4267-72637-0002.flac\n",
      "skipped ../speech-bahasa/LibriSpeech/train-clean-100/4267/72637/4267-72637-0003.flac\n"
     ]
    },
    {
     "name": "stderr",
     "output_type": "stream",
     "text": [
      " 30%|██▉       | 9240/31159 [06:03<15:14, 23.96it/s]"
     ]
    },
    {
     "name": "stdout",
     "output_type": "stream",
     "text": [
      "skipped ../speech-bahasa/LibriSpeech/train-clean-100/4267/72637/4267-72637-0015.flac\n",
      "skipped ../speech-bahasa/LibriSpeech/train-clean-100/4267/72637/4267-72637-0021.flac\n",
      "skipped ../speech-bahasa/LibriSpeech/train-clean-100/4267/72637/4267-72637-0023.flac\n"
     ]
    },
    {
     "name": "stderr",
     "output_type": "stream",
     "text": [
      " 30%|██▉       | 9258/31159 [06:04<12:41, 28.78it/s]"
     ]
    },
    {
     "name": "stdout",
     "output_type": "stream",
     "text": [
      "skipped ../speech-bahasa/LibriSpeech/train-clean-100/4267/72637/4267-72637-0034.flac\n"
     ]
    },
    {
     "name": "stderr",
     "output_type": "stream",
     "text": [
      " 30%|██▉       | 9287/31159 [06:05<16:40, 21.86it/s]"
     ]
    },
    {
     "name": "stdout",
     "output_type": "stream",
     "text": [
      "skipped ../speech-bahasa/LibriSpeech/train-clean-100/4267/78186/4267-78186-0025.flac\n",
      "skipped ../speech-bahasa/LibriSpeech/train-clean-100/4267/78186/4267-78186-0030.flac\n"
     ]
    },
    {
     "name": "stderr",
     "output_type": "stream",
     "text": [
      " 30%|██▉       | 9307/31159 [06:06<13:31, 26.93it/s]"
     ]
    },
    {
     "name": "stdout",
     "output_type": "stream",
     "text": [
      "skipped ../speech-bahasa/LibriSpeech/train-clean-100/4267/287369/4267-287369-0011.flac\n"
     ]
    },
    {
     "name": "stderr",
     "output_type": "stream",
     "text": [
      " 30%|██▉       | 9346/31159 [06:08<14:45, 24.62it/s]"
     ]
    },
    {
     "name": "stdout",
     "output_type": "stream",
     "text": [
      "skipped ../speech-bahasa/LibriSpeech/train-clean-100/332/128985/332-128985-0012.flac\n"
     ]
    },
    {
     "name": "stderr",
     "output_type": "stream",
     "text": [
      " 30%|███       | 9384/31159 [06:09<13:49, 26.24it/s]"
     ]
    },
    {
     "name": "stdout",
     "output_type": "stream",
     "text": [
      "skipped ../speech-bahasa/LibriSpeech/train-clean-100/332/128985/332-128985-0048.flac\n"
     ]
    },
    {
     "name": "stderr",
     "output_type": "stream",
     "text": [
      " 30%|███       | 9392/31159 [06:10<12:41, 28.58it/s]"
     ]
    },
    {
     "name": "stdout",
     "output_type": "stream",
     "text": [
      "skipped ../speech-bahasa/LibriSpeech/train-clean-100/332/128985/332-128985-0056.flac\n",
      "skipped ../speech-bahasa/LibriSpeech/train-clean-100/332/128985/332-128985-0058.flac\n"
     ]
    },
    {
     "name": "stderr",
     "output_type": "stream",
     "text": [
      " 30%|███       | 9410/31159 [06:10<15:35, 23.24it/s]"
     ]
    },
    {
     "name": "stdout",
     "output_type": "stream",
     "text": [
      "skipped ../speech-bahasa/LibriSpeech/train-clean-100/332/128985/332-128985-0073.flac\n"
     ]
    },
    {
     "name": "stderr",
     "output_type": "stream",
     "text": [
      " 30%|███       | 9433/31159 [06:11<13:56, 25.97it/s]"
     ]
    },
    {
     "name": "stdout",
     "output_type": "stream",
     "text": [
      "skipped ../speech-bahasa/LibriSpeech/train-clean-100/5022/29411/5022-29411-0008.flac\n"
     ]
    },
    {
     "name": "stderr",
     "output_type": "stream",
     "text": [
      " 30%|███       | 9437/31159 [06:11<12:43, 28.45it/s]"
     ]
    },
    {
     "name": "stdout",
     "output_type": "stream",
     "text": [
      "skipped ../speech-bahasa/LibriSpeech/train-clean-100/5022/29411/5022-29411-0014.flac\n",
      "skipped ../speech-bahasa/LibriSpeech/train-clean-100/5022/29411/5022-29411-0019.flac\n",
      "skipped ../speech-bahasa/LibriSpeech/train-clean-100/5022/29411/5022-29411-0020.flac\n"
     ]
    },
    {
     "name": "stderr",
     "output_type": "stream",
     "text": [
      " 30%|███       | 9455/31159 [06:12<16:38, 21.74it/s]"
     ]
    },
    {
     "name": "stdout",
     "output_type": "stream",
     "text": [
      "skipped ../speech-bahasa/LibriSpeech/train-clean-100/5022/29411/5022-29411-0029.flac\n",
      "skipped ../speech-bahasa/LibriSpeech/train-clean-100/5022/29411/5022-29411-0033.flac\n"
     ]
    },
    {
     "name": "stderr",
     "output_type": "stream",
     "text": [
      " 30%|███       | 9459/31159 [06:12<15:25, 23.44it/s]"
     ]
    },
    {
     "name": "stdout",
     "output_type": "stream",
     "text": [
      "skipped ../speech-bahasa/LibriSpeech/train-clean-100/5022/29411/5022-29411-0036.flac\n"
     ]
    },
    {
     "name": "stderr",
     "output_type": "stream",
     "text": [
      " 30%|███       | 9468/31159 [06:13<15:15, 23.68it/s]"
     ]
    },
    {
     "name": "stdout",
     "output_type": "stream",
     "text": [
      "skipped ../speech-bahasa/LibriSpeech/train-clean-100/5022/29411/5022-29411-0043.flac\n",
      "skipped ../speech-bahasa/LibriSpeech/train-clean-100/5022/29411/5022-29411-0048.flac\n"
     ]
    },
    {
     "name": "stderr",
     "output_type": "stream",
     "text": [
      " 30%|███       | 9491/31159 [06:14<12:50, 28.13it/s]"
     ]
    },
    {
     "name": "stdout",
     "output_type": "stream",
     "text": [
      "skipped ../speech-bahasa/LibriSpeech/train-clean-100/5022/29411/5022-29411-0068.flac\n"
     ]
    },
    {
     "name": "stderr",
     "output_type": "stream",
     "text": [
      " 31%|███       | 9518/31159 [06:15<12:36, 28.62it/s]"
     ]
    },
    {
     "name": "stdout",
     "output_type": "stream",
     "text": [
      "skipped ../speech-bahasa/LibriSpeech/train-clean-100/5022/29405/5022-29405-0021.flac\n",
      "skipped ../speech-bahasa/LibriSpeech/train-clean-100/5022/29405/5022-29405-0027.flac\n"
     ]
    },
    {
     "name": "stderr",
     "output_type": "stream",
     "text": [
      " 31%|███       | 9523/31159 [06:15<11:47, 30.57it/s]"
     ]
    },
    {
     "name": "stdout",
     "output_type": "stream",
     "text": [
      "skipped ../speech-bahasa/LibriSpeech/train-clean-100/5022/29405/5022-29405-0029.flac\n"
     ]
    },
    {
     "name": "stderr",
     "output_type": "stream",
     "text": [
      " 31%|███       | 9572/31159 [06:17<11:15, 31.95it/s]"
     ]
    },
    {
     "name": "stdout",
     "output_type": "stream",
     "text": [
      "skipped ../speech-bahasa/LibriSpeech/train-clean-100/839/130898/839-130898-0031.flac\n",
      "skipped ../speech-bahasa/LibriSpeech/train-clean-100/839/130898/839-130898-0035.flac\n"
     ]
    },
    {
     "name": "stderr",
     "output_type": "stream",
     "text": [
      " 31%|███       | 9580/31159 [06:17<11:27, 31.38it/s]"
     ]
    },
    {
     "name": "stdout",
     "output_type": "stream",
     "text": [
      "skipped ../speech-bahasa/LibriSpeech/train-clean-100/839/130898/839-130898-0040.flac\n"
     ]
    },
    {
     "name": "stderr",
     "output_type": "stream",
     "text": [
      " 31%|███       | 9601/31159 [06:18<12:32, 28.65it/s]"
     ]
    },
    {
     "name": "stdout",
     "output_type": "stream",
     "text": [
      "skipped ../speech-bahasa/LibriSpeech/train-clean-100/839/130898/839-130898-0058.flac\n"
     ]
    },
    {
     "name": "stderr",
     "output_type": "stream",
     "text": [
      " 31%|███       | 9609/31159 [06:18<12:59, 27.66it/s]"
     ]
    },
    {
     "name": "stdout",
     "output_type": "stream",
     "text": [
      "skipped ../speech-bahasa/LibriSpeech/train-clean-100/839/130898/839-130898-0069.flac\n"
     ]
    },
    {
     "name": "stderr",
     "output_type": "stream",
     "text": [
      " 31%|███       | 9613/31159 [06:18<12:17, 29.21it/s]"
     ]
    },
    {
     "name": "stdout",
     "output_type": "stream",
     "text": [
      "skipped ../speech-bahasa/LibriSpeech/train-clean-100/839/130898/839-130898-0076.flac\n"
     ]
    },
    {
     "name": "stderr",
     "output_type": "stream",
     "text": [
      " 31%|███       | 9650/31159 [06:20<14:51, 24.14it/s]"
     ]
    },
    {
     "name": "stdout",
     "output_type": "stream",
     "text": [
      "skipped ../speech-bahasa/LibriSpeech/train-clean-100/3982/182255/3982-182255-0009.flac\n",
      "skipped ../speech-bahasa/LibriSpeech/train-clean-100/3982/182255/3982-182255-0010.flac\n"
     ]
    },
    {
     "name": "stderr",
     "output_type": "stream",
     "text": [
      " 31%|███       | 9664/31159 [06:20<13:00, 27.56it/s]"
     ]
    },
    {
     "name": "stdout",
     "output_type": "stream",
     "text": [
      "skipped ../speech-bahasa/LibriSpeech/train-clean-100/3982/182255/3982-182255-0024.flac\n"
     ]
    },
    {
     "name": "stderr",
     "output_type": "stream",
     "text": [
      " 31%|███       | 9676/31159 [06:21<12:47, 28.00it/s]"
     ]
    },
    {
     "name": "stdout",
     "output_type": "stream",
     "text": [
      "skipped ../speech-bahasa/LibriSpeech/train-clean-100/3982/182255/3982-182255-0035.flac\n",
      "skipped ../speech-bahasa/LibriSpeech/train-clean-100/3982/182255/3982-182255-0037.flac\n"
     ]
    },
    {
     "name": "stderr",
     "output_type": "stream",
     "text": [
      " 31%|███       | 9695/31159 [06:22<14:02, 25.47it/s]"
     ]
    },
    {
     "name": "stdout",
     "output_type": "stream",
     "text": [
      "skipped ../speech-bahasa/LibriSpeech/train-clean-100/3982/178459/3982-178459-0011.flac\n",
      "skipped ../speech-bahasa/LibriSpeech/train-clean-100/3982/178459/3982-178459-0015.flac\n"
     ]
    },
    {
     "name": "stderr",
     "output_type": "stream",
     "text": [
      " 31%|███       | 9713/31159 [06:22<12:58, 27.54it/s]"
     ]
    },
    {
     "name": "stdout",
     "output_type": "stream",
     "text": [
      "skipped ../speech-bahasa/LibriSpeech/train-clean-100/3982/178459/3982-178459-0026.flac\n",
      "skipped ../speech-bahasa/LibriSpeech/train-clean-100/3982/178459/3982-178459-0030.flac\n"
     ]
    },
    {
     "name": "stderr",
     "output_type": "stream",
     "text": [
      " 31%|███       | 9730/31159 [06:23<17:26, 20.48it/s]"
     ]
    },
    {
     "name": "stdout",
     "output_type": "stream",
     "text": [
      "skipped ../speech-bahasa/LibriSpeech/train-clean-100/3982/178459/3982-178459-0044.flac\n"
     ]
    },
    {
     "name": "stderr",
     "output_type": "stream",
     "text": [
      " 31%|███▏      | 9749/31159 [06:24<12:26, 28.68it/s]"
     ]
    },
    {
     "name": "stdout",
     "output_type": "stream",
     "text": [
      "skipped ../speech-bahasa/LibriSpeech/train-clean-100/3982/178459/3982-178459-0065.flac\n"
     ]
    },
    {
     "name": "stderr",
     "output_type": "stream",
     "text": [
      " 31%|███▏      | 9761/31159 [06:24<11:52, 30.05it/s]"
     ]
    },
    {
     "name": "stdout",
     "output_type": "stream",
     "text": [
      "skipped ../speech-bahasa/LibriSpeech/train-clean-100/1355/39947/1355-39947-0008.flac\n",
      "skipped ../speech-bahasa/LibriSpeech/train-clean-100/1355/39947/1355-39947-0009.flac\n",
      "skipped ../speech-bahasa/LibriSpeech/train-clean-100/1355/39947/1355-39947-0010.flac\n"
     ]
    },
    {
     "name": "stderr",
     "output_type": "stream",
     "text": [
      " 31%|███▏      | 9765/31159 [06:24<11:29, 31.03it/s]"
     ]
    },
    {
     "name": "stdout",
     "output_type": "stream",
     "text": [
      "skipped ../speech-bahasa/LibriSpeech/train-clean-100/1355/39947/1355-39947-0016.flac\n"
     ]
    },
    {
     "name": "stderr",
     "output_type": "stream",
     "text": [
      " 31%|███▏      | 9772/31159 [06:25<16:29, 21.62it/s]"
     ]
    },
    {
     "name": "stdout",
     "output_type": "stream",
     "text": [
      "skipped ../speech-bahasa/LibriSpeech/train-clean-100/1355/39947/1355-39947-0020.flac\n"
     ]
    },
    {
     "name": "stderr",
     "output_type": "stream",
     "text": [
      " 31%|███▏      | 9788/31159 [06:25<14:19, 24.87it/s]"
     ]
    },
    {
     "name": "stdout",
     "output_type": "stream",
     "text": [
      "skipped ../speech-bahasa/LibriSpeech/train-clean-100/1355/39947/1355-39947-0035.flac\n"
     ]
    },
    {
     "name": "stderr",
     "output_type": "stream",
     "text": [
      " 31%|███▏      | 9800/31159 [06:26<11:42, 30.41it/s]"
     ]
    },
    {
     "name": "stdout",
     "output_type": "stream",
     "text": [
      "skipped ../speech-bahasa/LibriSpeech/train-clean-100/1355/39947/1355-39947-0050.flac\n"
     ]
    },
    {
     "name": "stderr",
     "output_type": "stream",
     "text": [
      " 32%|███▏      | 9819/31159 [06:27<18:44, 18.98it/s]"
     ]
    },
    {
     "name": "stdout",
     "output_type": "stream",
     "text": [
      "skipped ../speech-bahasa/LibriSpeech/train-clean-100/1355/39947/1355-39947-0066.flac\n"
     ]
    },
    {
     "name": "stderr",
     "output_type": "stream",
     "text": [
      " 32%|███▏      | 9853/31159 [06:28<12:58, 27.38it/s]"
     ]
    },
    {
     "name": "stdout",
     "output_type": "stream",
     "text": [
      "skipped ../speech-bahasa/LibriSpeech/train-clean-100/2007/149877/2007-149877-0003.flac\n"
     ]
    },
    {
     "name": "stderr",
     "output_type": "stream",
     "text": [
      " 32%|███▏      | 9868/31159 [06:29<15:01, 23.60it/s]"
     ]
    },
    {
     "name": "stdout",
     "output_type": "stream",
     "text": [
      "skipped ../speech-bahasa/LibriSpeech/train-clean-100/2007/149877/2007-149877-0019.flac\n"
     ]
    },
    {
     "name": "stderr",
     "output_type": "stream",
     "text": [
      " 32%|███▏      | 9885/31159 [06:29<11:43, 30.23it/s]"
     ]
    },
    {
     "name": "stdout",
     "output_type": "stream",
     "text": [
      "skipped ../speech-bahasa/LibriSpeech/train-clean-100/2007/149877/2007-149877-0032.flac\n",
      "skipped ../speech-bahasa/LibriSpeech/train-clean-100/2007/149877/2007-149877-0033.flac\n"
     ]
    },
    {
     "name": "stderr",
     "output_type": "stream",
     "text": [
      " 32%|███▏      | 9918/31159 [06:30<10:49, 32.72it/s]"
     ]
    },
    {
     "name": "stdout",
     "output_type": "stream",
     "text": [
      "skipped ../speech-bahasa/LibriSpeech/train-clean-100/2007/132570/2007-132570-0004.flac\n",
      "skipped ../speech-bahasa/LibriSpeech/train-clean-100/2007/132570/2007-132570-0006.flac\n"
     ]
    },
    {
     "name": "stderr",
     "output_type": "stream",
     "text": [
      " 32%|███▏      | 9939/31159 [06:31<10:47, 32.75it/s]"
     ]
    },
    {
     "name": "stdout",
     "output_type": "stream",
     "text": [
      "skipped ../speech-bahasa/LibriSpeech/train-clean-100/2007/132570/2007-132570-0025.flac\n",
      "skipped ../speech-bahasa/LibriSpeech/train-clean-100/2007/132570/2007-132570-0029.flac\n"
     ]
    },
    {
     "name": "stderr",
     "output_type": "stream",
     "text": [
      " 32%|███▏      | 9949/31159 [06:31<10:06, 34.97it/s]"
     ]
    },
    {
     "name": "stdout",
     "output_type": "stream",
     "text": [
      "skipped ../speech-bahasa/LibriSpeech/train-clean-100/2007/132570/2007-132570-0037.flac\n",
      "skipped ../speech-bahasa/LibriSpeech/train-clean-100/2007/132570/2007-132570-0038.flac\n"
     ]
    },
    {
     "name": "stderr",
     "output_type": "stream",
     "text": [
      " 32%|███▏      | 9970/31159 [06:32<14:36, 24.16it/s]"
     ]
    },
    {
     "name": "stdout",
     "output_type": "stream",
     "text": [
      "skipped ../speech-bahasa/LibriSpeech/train-clean-100/2007/132570/2007-132570-0059.flac\n",
      "skipped ../speech-bahasa/LibriSpeech/train-clean-100/2416/152137/2416-152137-0002.flac\n"
     ]
    },
    {
     "name": "stderr",
     "output_type": "stream",
     "text": [
      " 32%|███▏      | 9978/31159 [06:33<13:00, 27.13it/s]"
     ]
    },
    {
     "name": "stdout",
     "output_type": "stream",
     "text": [
      "skipped ../speech-bahasa/LibriSpeech/train-clean-100/2416/152137/2416-152137-0006.flac\n"
     ]
    },
    {
     "name": "stderr",
     "output_type": "stream",
     "text": [
      " 32%|███▏      | 9994/31159 [06:33<12:42, 27.76it/s]"
     ]
    },
    {
     "name": "stdout",
     "output_type": "stream",
     "text": [
      "skipped ../speech-bahasa/LibriSpeech/train-clean-100/2416/152137/2416-152137-0021.flac\n"
     ]
    },
    {
     "name": "stderr",
     "output_type": "stream",
     "text": [
      " 32%|███▏      | 10007/31159 [06:34<15:50, 22.25it/s]"
     ]
    },
    {
     "name": "stdout",
     "output_type": "stream",
     "text": [
      "skipped ../speech-bahasa/LibriSpeech/train-clean-100/2416/152137/2416-152137-0034.flac\n"
     ]
    },
    {
     "name": "stderr",
     "output_type": "stream",
     "text": [
      " 32%|███▏      | 10052/31159 [06:36<13:36, 25.85it/s]"
     ]
    },
    {
     "name": "stdout",
     "output_type": "stream",
     "text": [
      "skipped ../speech-bahasa/LibriSpeech/train-clean-100/2416/152139/2416-152139-0041.flac\n"
     ]
    },
    {
     "name": "stderr",
     "output_type": "stream",
     "text": [
      " 32%|███▏      | 10063/31159 [06:36<12:47, 27.49it/s]"
     ]
    },
    {
     "name": "stdout",
     "output_type": "stream",
     "text": [
      "skipped ../speech-bahasa/LibriSpeech/train-clean-100/2416/152139/2416-152139-0053.flac\n"
     ]
    },
    {
     "name": "stderr",
     "output_type": "stream",
     "text": [
      " 32%|███▏      | 10079/31159 [06:37<16:26, 21.36it/s]"
     ]
    },
    {
     "name": "stdout",
     "output_type": "stream",
     "text": [
      "skipped ../speech-bahasa/LibriSpeech/train-clean-100/2416/152139/2416-152139-0070.flac\n"
     ]
    },
    {
     "name": "stderr",
     "output_type": "stream",
     "text": [
      " 32%|███▏      | 10105/31159 [06:38<11:37, 30.19it/s]"
     ]
    },
    {
     "name": "stdout",
     "output_type": "stream",
     "text": [
      "skipped ../speech-bahasa/LibriSpeech/train-clean-100/5750/35690/5750-35690-0020.flac\n"
     ]
    },
    {
     "name": "stderr",
     "output_type": "stream",
     "text": [
      " 32%|███▏      | 10119/31159 [06:38<15:27, 22.68it/s]"
     ]
    },
    {
     "name": "stdout",
     "output_type": "stream",
     "text": [
      "skipped ../speech-bahasa/LibriSpeech/train-clean-100/5750/100289/5750-100289-0003.flac\n"
     ]
    },
    {
     "name": "stderr",
     "output_type": "stream",
     "text": [
      " 32%|███▏      | 10126/31159 [06:39<14:36, 23.98it/s]"
     ]
    },
    {
     "name": "stdout",
     "output_type": "stream",
     "text": [
      "skipped ../speech-bahasa/LibriSpeech/train-clean-100/5750/100289/5750-100289-0009.flac\n"
     ]
    },
    {
     "name": "stderr",
     "output_type": "stream",
     "text": [
      " 33%|███▎      | 10142/31159 [06:39<12:51, 27.24it/s]"
     ]
    },
    {
     "name": "stdout",
     "output_type": "stream",
     "text": [
      "skipped ../speech-bahasa/LibriSpeech/train-clean-100/5750/100289/5750-100289-0025.flac\n"
     ]
    },
    {
     "name": "stderr",
     "output_type": "stream",
     "text": [
      " 33%|███▎      | 10163/31159 [06:40<17:19, 20.21it/s]"
     ]
    },
    {
     "name": "stdout",
     "output_type": "stream",
     "text": [
      "skipped ../speech-bahasa/LibriSpeech/train-clean-100/5750/100289/5750-100289-0048.flac\n",
      "skipped ../speech-bahasa/LibriSpeech/train-clean-100/5750/100289/5750-100289-0051.flac\n"
     ]
    },
    {
     "name": "stderr",
     "output_type": "stream",
     "text": [
      " 33%|███▎      | 10197/31159 [06:42<12:50, 27.22it/s]"
     ]
    },
    {
     "name": "stdout",
     "output_type": "stream",
     "text": [
      "skipped ../speech-bahasa/LibriSpeech/train-clean-100/5750/100289/5750-100289-0083.flac\n"
     ]
    },
    {
     "name": "stderr",
     "output_type": "stream",
     "text": [
      " 33%|███▎      | 10207/31159 [06:42<17:36, 19.84it/s]"
     ]
    },
    {
     "name": "stdout",
     "output_type": "stream",
     "text": [
      "skipped ../speech-bahasa/LibriSpeech/train-clean-100/2910/131096/2910-131096-0003.flac\n"
     ]
    },
    {
     "name": "stderr",
     "output_type": "stream",
     "text": [
      " 33%|███▎      | 10239/31159 [06:44<13:13, 26.35it/s]"
     ]
    },
    {
     "name": "stdout",
     "output_type": "stream",
     "text": [
      "skipped ../speech-bahasa/LibriSpeech/train-clean-100/2910/131096/2910-131096-0036.flac\n"
     ]
    },
    {
     "name": "stderr",
     "output_type": "stream",
     "text": [
      " 33%|███▎      | 10246/31159 [06:44<19:14, 18.12it/s]"
     ]
    },
    {
     "name": "stdout",
     "output_type": "stream",
     "text": [
      "skipped ../speech-bahasa/LibriSpeech/train-clean-100/2910/131096/2910-131096-0042.flac\n"
     ]
    },
    {
     "name": "stderr",
     "output_type": "stream",
     "text": [
      " 33%|███▎      | 10267/31159 [06:45<12:31, 27.80it/s]"
     ]
    },
    {
     "name": "stdout",
     "output_type": "stream",
     "text": [
      "skipped ../speech-bahasa/LibriSpeech/train-clean-100/2910/131096/2910-131096-0061.flac\n",
      "skipped ../speech-bahasa/LibriSpeech/train-clean-100/2910/131096/2910-131096-0063.flac\n",
      "skipped ../speech-bahasa/LibriSpeech/train-clean-100/2910/131096/2910-131096-0065.flac\n",
      "skipped ../speech-bahasa/LibriSpeech/train-clean-100/2910/131096/2910-131096-0067.flac\n"
     ]
    },
    {
     "name": "stderr",
     "output_type": "stream",
     "text": [
      " 33%|███▎      | 10284/31159 [06:45<11:57, 29.11it/s]"
     ]
    },
    {
     "name": "stdout",
     "output_type": "stream",
     "text": [
      "skipped ../speech-bahasa/LibriSpeech/train-clean-100/2910/131096/2910-131096-0078.flac\n",
      "skipped ../speech-bahasa/LibriSpeech/train-clean-100/2910/131096/2910-131096-0080.flac\n"
     ]
    },
    {
     "name": "stderr",
     "output_type": "stream",
     "text": [
      " 33%|███▎      | 10295/31159 [06:46<15:59, 21.75it/s]"
     ]
    },
    {
     "name": "stdout",
     "output_type": "stream",
     "text": [
      "skipped ../speech-bahasa/LibriSpeech/train-clean-100/2910/131096/2910-131096-0090.flac\n"
     ]
    },
    {
     "name": "stderr",
     "output_type": "stream",
     "text": [
      " 33%|███▎      | 10323/31159 [06:47<14:09, 24.53it/s]"
     ]
    },
    {
     "name": "stdout",
     "output_type": "stream",
     "text": [
      "skipped ../speech-bahasa/LibriSpeech/train-clean-100/5678/43302/5678-43302-0022.flac\n",
      "skipped ../speech-bahasa/LibriSpeech/train-clean-100/5678/43302/5678-43302-0023.flac\n"
     ]
    },
    {
     "name": "stderr",
     "output_type": "stream",
     "text": [
      " 33%|███▎      | 10336/31159 [06:48<16:38, 20.86it/s]"
     ]
    },
    {
     "name": "stdout",
     "output_type": "stream",
     "text": [
      "skipped ../speech-bahasa/LibriSpeech/train-clean-100/5678/43302/5678-43302-0036.flac\n"
     ]
    },
    {
     "name": "stderr",
     "output_type": "stream",
     "text": [
      " 33%|███▎      | 10358/31159 [06:49<13:10, 26.33it/s]"
     ]
    },
    {
     "name": "stdout",
     "output_type": "stream",
     "text": [
      "skipped ../speech-bahasa/LibriSpeech/train-clean-100/5678/43301/5678-43301-0015.flac\n"
     ]
    },
    {
     "name": "stderr",
     "output_type": "stream",
     "text": [
      " 33%|███▎      | 10362/31159 [06:49<12:50, 26.98it/s]"
     ]
    },
    {
     "name": "stdout",
     "output_type": "stream",
     "text": [
      "skipped ../speech-bahasa/LibriSpeech/train-clean-100/5678/43301/5678-43301-0022.flac\n"
     ]
    },
    {
     "name": "stderr",
     "output_type": "stream",
     "text": [
      " 33%|███▎      | 10375/31159 [06:50<14:50, 23.34it/s]"
     ]
    },
    {
     "name": "stdout",
     "output_type": "stream",
     "text": [
      "skipped ../speech-bahasa/LibriSpeech/train-clean-100/5678/43303/5678-43303-0006.flac\n"
     ]
    },
    {
     "name": "stderr",
     "output_type": "stream",
     "text": [
      " 33%|███▎      | 10415/31159 [06:51<15:30, 22.30it/s]"
     ]
    },
    {
     "name": "stdout",
     "output_type": "stream",
     "text": [
      "skipped ../speech-bahasa/LibriSpeech/train-clean-100/3242/67168/3242-67168-0007.flac\n",
      "skipped ../speech-bahasa/LibriSpeech/train-clean-100/3242/67168/3242-67168-0009.flac\n"
     ]
    },
    {
     "name": "stderr",
     "output_type": "stream",
     "text": [
      " 33%|███▎      | 10427/31159 [06:52<11:53, 29.05it/s]"
     ]
    },
    {
     "name": "stdout",
     "output_type": "stream",
     "text": [
      "skipped ../speech-bahasa/LibriSpeech/train-clean-100/3242/67168/3242-67168-0017.flac\n"
     ]
    },
    {
     "name": "stderr",
     "output_type": "stream",
     "text": [
      " 33%|███▎      | 10435/31159 [06:52<11:22, 30.38it/s]"
     ]
    },
    {
     "name": "stdout",
     "output_type": "stream",
     "text": [
      "skipped ../speech-bahasa/LibriSpeech/train-clean-100/3242/67168/3242-67168-0027.flac\n"
     ]
    },
    {
     "name": "stderr",
     "output_type": "stream",
     "text": [
      " 34%|███▎      | 10451/31159 [06:53<11:31, 29.96it/s]"
     ]
    },
    {
     "name": "stdout",
     "output_type": "stream",
     "text": [
      "skipped ../speech-bahasa/LibriSpeech/train-clean-100/3242/67153/3242-67153-0004.flac\n",
      "skipped ../speech-bahasa/LibriSpeech/train-clean-100/3242/67153/3242-67153-0007.flac\n"
     ]
    },
    {
     "name": "stderr",
     "output_type": "stream",
     "text": [
      " 34%|███▍      | 10557/31159 [06:57<12:22, 27.76it/s]"
     ]
    },
    {
     "name": "stdout",
     "output_type": "stream",
     "text": [
      "skipped ../speech-bahasa/LibriSpeech/train-clean-100/1737/142397/1737-142397-0024.flac\n"
     ]
    },
    {
     "name": "stderr",
     "output_type": "stream",
     "text": [
      " 34%|███▍      | 10605/31159 [06:59<13:05, 26.17it/s]"
     ]
    },
    {
     "name": "stdout",
     "output_type": "stream",
     "text": [
      "skipped ../speech-bahasa/LibriSpeech/train-clean-100/1737/148989/1737-148989-0004.flac\n",
      "skipped ../speech-bahasa/LibriSpeech/train-clean-100/1737/148989/1737-148989-0008.flac\n"
     ]
    },
    {
     "name": "stderr",
     "output_type": "stream",
     "text": [
      " 34%|███▍      | 10641/31159 [07:01<16:22, 20.89it/s]"
     ]
    },
    {
     "name": "stdout",
     "output_type": "stream",
     "text": [
      "skipped ../speech-bahasa/LibriSpeech/train-clean-100/1737/146161/1737-146161-0001.flac\n",
      "skipped ../speech-bahasa/LibriSpeech/train-clean-100/1737/146161/1737-146161-0002.flac\n"
     ]
    },
    {
     "name": "stderr",
     "output_type": "stream",
     "text": [
      " 34%|███▍      | 10659/31159 [07:01<11:30, 29.71it/s]"
     ]
    },
    {
     "name": "stdout",
     "output_type": "stream",
     "text": [
      "skipped ../speech-bahasa/LibriSpeech/train-clean-100/5778/12761/5778-12761-0002.flac\n"
     ]
    },
    {
     "name": "stderr",
     "output_type": "stream",
     "text": [
      " 34%|███▍      | 10674/31159 [07:02<12:32, 27.22it/s]"
     ]
    },
    {
     "name": "stdout",
     "output_type": "stream",
     "text": [
      "skipped ../speech-bahasa/LibriSpeech/train-clean-100/5778/12761/5778-12761-0015.flac\n"
     ]
    },
    {
     "name": "stderr",
     "output_type": "stream",
     "text": [
      " 34%|███▍      | 10709/31159 [07:03<11:30, 29.63it/s]"
     ]
    },
    {
     "name": "stdout",
     "output_type": "stream",
     "text": [
      "skipped ../speech-bahasa/LibriSpeech/train-clean-100/5778/54535/5778-54535-0001.flac\n",
      "skipped ../speech-bahasa/LibriSpeech/train-clean-100/5778/54535/5778-54535-0002.flac\n"
     ]
    },
    {
     "name": "stderr",
     "output_type": "stream",
     "text": [
      " 34%|███▍      | 10733/31159 [07:04<14:29, 23.50it/s]"
     ]
    },
    {
     "name": "stdout",
     "output_type": "stream",
     "text": [
      "skipped ../speech-bahasa/LibriSpeech/train-clean-100/5778/54535/5778-54535-0026.flac\n"
     ]
    },
    {
     "name": "stderr",
     "output_type": "stream",
     "text": [
      " 35%|███▍      | 10782/31159 [07:07<14:19, 23.70it/s]"
     ]
    },
    {
     "name": "stdout",
     "output_type": "stream",
     "text": [
      "skipped ../speech-bahasa/LibriSpeech/train-clean-100/8838/298545/8838-298545-0027.flac\n"
     ]
    },
    {
     "name": "stderr",
     "output_type": "stream",
     "text": [
      " 35%|███▍      | 10805/31159 [07:08<15:36, 21.73it/s]"
     ]
    },
    {
     "name": "stdout",
     "output_type": "stream",
     "text": [
      "skipped ../speech-bahasa/LibriSpeech/train-clean-100/8838/298545/8838-298545-0049.flac\n",
      "skipped ../speech-bahasa/LibriSpeech/train-clean-100/8838/298545/8838-298545-0050.flac\n"
     ]
    },
    {
     "name": "stderr",
     "output_type": "stream",
     "text": [
      " 35%|███▍      | 10822/31159 [07:08<13:35, 24.95it/s]"
     ]
    },
    {
     "name": "stdout",
     "output_type": "stream",
     "text": [
      "skipped ../speech-bahasa/LibriSpeech/train-clean-100/8838/298546/8838-298546-0012.flac\n"
     ]
    },
    {
     "name": "stderr",
     "output_type": "stream",
     "text": [
      " 35%|███▍      | 10829/31159 [07:09<13:26, 25.19it/s]"
     ]
    },
    {
     "name": "stdout",
     "output_type": "stream",
     "text": [
      "skipped ../speech-bahasa/LibriSpeech/train-clean-100/8838/298546/8838-298546-0019.flac\n"
     ]
    },
    {
     "name": "stderr",
     "output_type": "stream",
     "text": [
      " 35%|███▍      | 10836/31159 [07:09<13:43, 24.67it/s]"
     ]
    },
    {
     "name": "stdout",
     "output_type": "stream",
     "text": [
      "skipped ../speech-bahasa/LibriSpeech/train-clean-100/8838/298546/8838-298546-0026.flac\n",
      "skipped ../speech-bahasa/LibriSpeech/train-clean-100/8838/298546/8838-298546-0032.flac\n"
     ]
    },
    {
     "name": "stderr",
     "output_type": "stream",
     "text": [
      " 35%|███▍      | 10869/31159 [07:10<13:02, 25.92it/s]"
     ]
    },
    {
     "name": "stdout",
     "output_type": "stream",
     "text": [
      "skipped ../speech-bahasa/LibriSpeech/train-clean-100/7794/295955/7794-295955-0006.flac\n",
      "skipped ../speech-bahasa/LibriSpeech/train-clean-100/7794/295955/7794-295955-0008.flac\n"
     ]
    },
    {
     "name": "stderr",
     "output_type": "stream",
     "text": [
      " 35%|███▍      | 10875/31159 [07:11<13:26, 25.15it/s]"
     ]
    },
    {
     "name": "stdout",
     "output_type": "stream",
     "text": [
      "skipped ../speech-bahasa/LibriSpeech/train-clean-100/7794/295955/7794-295955-0016.flac\n"
     ]
    },
    {
     "name": "stderr",
     "output_type": "stream",
     "text": [
      " 35%|███▍      | 10883/31159 [07:11<16:50, 20.07it/s]"
     ]
    },
    {
     "name": "stdout",
     "output_type": "stream",
     "text": [
      "skipped ../speech-bahasa/LibriSpeech/train-clean-100/7794/295955/7794-295955-0021.flac\n",
      "skipped ../speech-bahasa/LibriSpeech/train-clean-100/7794/295955/7794-295955-0025.flac\n",
      "skipped ../speech-bahasa/LibriSpeech/train-clean-100/7794/295955/7794-295955-0026.flac\n"
     ]
    },
    {
     "name": "stderr",
     "output_type": "stream",
     "text": [
      " 35%|███▍      | 10894/31159 [07:11<12:35, 26.84it/s]"
     ]
    },
    {
     "name": "stdout",
     "output_type": "stream",
     "text": [
      "skipped ../speech-bahasa/LibriSpeech/train-clean-100/7794/295955/7794-295955-0031.flac\n"
     ]
    },
    {
     "name": "stderr",
     "output_type": "stream",
     "text": [
      " 35%|███▌      | 10921/31159 [07:12<12:18, 27.39it/s]"
     ]
    },
    {
     "name": "stdout",
     "output_type": "stream",
     "text": [
      "skipped ../speech-bahasa/LibriSpeech/train-clean-100/7794/295947/7794-295947-0001.flac\n",
      "skipped ../speech-bahasa/LibriSpeech/train-clean-100/7794/295947/7794-295947-0004.flac\n"
     ]
    },
    {
     "name": "stderr",
     "output_type": "stream",
     "text": [
      " 35%|███▌      | 10931/31159 [07:13<15:40, 21.51it/s]"
     ]
    },
    {
     "name": "stdout",
     "output_type": "stream",
     "text": [
      "skipped ../speech-bahasa/LibriSpeech/train-clean-100/7794/295947/7794-295947-0009.flac\n",
      "skipped ../speech-bahasa/LibriSpeech/train-clean-100/7794/295947/7794-295947-0012.flac\n"
     ]
    },
    {
     "name": "stderr",
     "output_type": "stream",
     "text": [
      " 35%|███▌      | 10945/31159 [07:14<13:28, 24.99it/s]"
     ]
    },
    {
     "name": "stdout",
     "output_type": "stream",
     "text": [
      "skipped ../speech-bahasa/LibriSpeech/train-clean-100/7794/295947/7794-295947-0022.flac\n",
      "skipped ../speech-bahasa/LibriSpeech/train-clean-100/7794/295947/7794-295947-0024.flac\n",
      "skipped ../speech-bahasa/LibriSpeech/train-clean-100/7794/295947/7794-295947-0028.flac\n"
     ]
    },
    {
     "name": "stderr",
     "output_type": "stream",
     "text": [
      " 35%|███▌      | 10963/31159 [07:14<13:13, 25.45it/s]"
     ]
    },
    {
     "name": "stdout",
     "output_type": "stream",
     "text": [
      "skipped ../speech-bahasa/LibriSpeech/train-clean-100/7794/295947/7794-295947-0046.flac\n"
     ]
    },
    {
     "name": "stderr",
     "output_type": "stream",
     "text": [
      " 35%|███▌      | 10983/31159 [07:15<13:31, 24.86it/s]"
     ]
    },
    {
     "name": "stdout",
     "output_type": "stream",
     "text": [
      "skipped ../speech-bahasa/LibriSpeech/train-clean-100/26/496/26-496-0012.flac\n"
     ]
    },
    {
     "name": "stderr",
     "output_type": "stream",
     "text": [
      " 35%|███▌      | 11005/31159 [07:16<10:14, 32.81it/s]"
     ]
    },
    {
     "name": "stdout",
     "output_type": "stream",
     "text": [
      "skipped ../speech-bahasa/LibriSpeech/train-clean-100/26/495/26-495-0005.flac\n",
      "skipped ../speech-bahasa/LibriSpeech/train-clean-100/26/495/26-495-0008.flac\n",
      "skipped ../speech-bahasa/LibriSpeech/train-clean-100/26/495/26-495-0011.flac\n"
     ]
    },
    {
     "name": "stderr",
     "output_type": "stream",
     "text": [
      " 35%|███▌      | 11019/31159 [07:16<12:26, 26.99it/s]"
     ]
    },
    {
     "name": "stdout",
     "output_type": "stream",
     "text": [
      "skipped ../speech-bahasa/LibriSpeech/train-clean-100/26/495/26-495-0023.flac\n"
     ]
    },
    {
     "name": "stderr",
     "output_type": "stream",
     "text": [
      " 35%|███▌      | 11050/31159 [07:18<12:35, 26.61it/s]"
     ]
    },
    {
     "name": "stdout",
     "output_type": "stream",
     "text": [
      "skipped ../speech-bahasa/LibriSpeech/train-clean-100/26/495/26-495-0055.flac\n"
     ]
    },
    {
     "name": "stderr",
     "output_type": "stream",
     "text": [
      " 36%|███▌      | 11075/31159 [07:19<13:13, 25.30it/s]"
     ]
    },
    {
     "name": "stdout",
     "output_type": "stream",
     "text": [
      "skipped ../speech-bahasa/LibriSpeech/train-clean-100/26/495/26-495-0077.flac\n"
     ]
    },
    {
     "name": "stderr",
     "output_type": "stream",
     "text": [
      " 36%|███▌      | 11087/31159 [07:19<11:02, 30.31it/s]"
     ]
    },
    {
     "name": "stdout",
     "output_type": "stream",
     "text": [
      "skipped ../speech-bahasa/LibriSpeech/train-clean-100/5163/18515/5163-18515-0000.flac\n",
      "skipped ../speech-bahasa/LibriSpeech/train-clean-100/5163/18515/5163-18515-0007.flac\n"
     ]
    },
    {
     "name": "stderr",
     "output_type": "stream",
     "text": [
      " 36%|███▌      | 11100/31159 [07:20<10:08, 32.95it/s]"
     ]
    },
    {
     "name": "stdout",
     "output_type": "stream",
     "text": [
      "skipped ../speech-bahasa/LibriSpeech/train-clean-100/5163/18515/5163-18515-0014.flac\n"
     ]
    },
    {
     "name": "stderr",
     "output_type": "stream",
     "text": [
      " 36%|███▌      | 11114/31159 [07:20<14:07, 23.66it/s]"
     ]
    },
    {
     "name": "stdout",
     "output_type": "stream",
     "text": [
      "skipped ../speech-bahasa/LibriSpeech/train-clean-100/5163/18515/5163-18515-0026.flac\n"
     ]
    },
    {
     "name": "stderr",
     "output_type": "stream",
     "text": [
      " 36%|███▌      | 11138/31159 [07:21<11:37, 28.69it/s]"
     ]
    },
    {
     "name": "stdout",
     "output_type": "stream",
     "text": [
      "skipped ../speech-bahasa/LibriSpeech/train-clean-100/5163/39921/5163-39921-0000.flac\n",
      "skipped ../speech-bahasa/LibriSpeech/train-clean-100/5163/39921/5163-39921-0002.flac\n"
     ]
    },
    {
     "name": "stderr",
     "output_type": "stream",
     "text": [
      " 36%|███▌      | 11182/31159 [07:23<13:30, 24.64it/s]"
     ]
    },
    {
     "name": "stdout",
     "output_type": "stream",
     "text": [
      "skipped ../speech-bahasa/LibriSpeech/train-clean-100/5163/39921/5163-39921-0043.flac\n"
     ]
    },
    {
     "name": "stderr",
     "output_type": "stream",
     "text": [
      " 36%|███▌      | 11207/31159 [07:24<11:58, 27.77it/s]"
     ]
    },
    {
     "name": "stdout",
     "output_type": "stream",
     "text": [
      "skipped ../speech-bahasa/LibriSpeech/train-clean-100/3259/158083/3259-158083-0010.flac\n"
     ]
    },
    {
     "name": "stderr",
     "output_type": "stream",
     "text": [
      " 36%|███▌      | 11214/31159 [07:24<11:42, 28.41it/s]"
     ]
    },
    {
     "name": "stdout",
     "output_type": "stream",
     "text": [
      "skipped ../speech-bahasa/LibriSpeech/train-clean-100/3259/158083/3259-158083-0019.flac\n",
      "skipped ../speech-bahasa/LibriSpeech/train-clean-100/3259/158083/3259-158083-0024.flac\n"
     ]
    },
    {
     "name": "stderr",
     "output_type": "stream",
     "text": [
      " 36%|███▌      | 11247/31159 [07:26<12:07, 27.37it/s]"
     ]
    },
    {
     "name": "stdout",
     "output_type": "stream",
     "text": [
      "skipped ../speech-bahasa/LibriSpeech/train-clean-100/3259/158083/3259-158083-0053.flac\n",
      "skipped ../speech-bahasa/LibriSpeech/train-clean-100/3259/158083/3259-158083-0056.flac\n"
     ]
    },
    {
     "name": "stderr",
     "output_type": "stream",
     "text": [
      " 36%|███▌      | 11259/31159 [07:26<12:05, 27.43it/s]"
     ]
    },
    {
     "name": "stdout",
     "output_type": "stream",
     "text": [
      "skipped ../speech-bahasa/LibriSpeech/train-clean-100/3259/158083/3259-158083-0063.flac\n",
      "skipped ../speech-bahasa/LibriSpeech/train-clean-100/3259/158083/3259-158083-0068.flac\n"
     ]
    },
    {
     "name": "stderr",
     "output_type": "stream",
     "text": [
      " 36%|███▌      | 11283/31159 [07:27<10:59, 30.13it/s]"
     ]
    },
    {
     "name": "stdout",
     "output_type": "stream",
     "text": [
      "skipped ../speech-bahasa/LibriSpeech/train-clean-100/3259/158083/3259-158083-0089.flac\n"
     ]
    },
    {
     "name": "stderr",
     "output_type": "stream",
     "text": [
      " 36%|███▋      | 11313/31159 [07:28<10:53, 30.35it/s]"
     ]
    },
    {
     "name": "stdout",
     "output_type": "stream",
     "text": [
      "skipped ../speech-bahasa/LibriSpeech/train-clean-100/3259/158083/3259-158083-0115.flac\n",
      "skipped ../speech-bahasa/LibriSpeech/train-clean-100/3259/158083/3259-158083-0119.flac\n",
      "skipped ../speech-bahasa/LibriSpeech/train-clean-100/3259/158083/3259-158083-0120.flac\n"
     ]
    },
    {
     "name": "stderr",
     "output_type": "stream",
     "text": [
      " 36%|███▋      | 11336/31159 [07:29<15:22, 21.50it/s]"
     ]
    },
    {
     "name": "stdout",
     "output_type": "stream",
     "text": [
      "skipped ../speech-bahasa/LibriSpeech/train-clean-100/5688/15787/5688-15787-0013.flac\n"
     ]
    },
    {
     "name": "stderr",
     "output_type": "stream",
     "text": [
      " 36%|███▋      | 11344/31159 [07:29<13:14, 24.93it/s]"
     ]
    },
    {
     "name": "stdout",
     "output_type": "stream",
     "text": [
      "skipped ../speech-bahasa/LibriSpeech/train-clean-100/5688/15787/5688-15787-0021.flac\n"
     ]
    },
    {
     "name": "stderr",
     "output_type": "stream",
     "text": [
      " 36%|███▋      | 11353/31159 [07:30<11:23, 29.00it/s]"
     ]
    },
    {
     "name": "stdout",
     "output_type": "stream",
     "text": [
      "skipped ../speech-bahasa/LibriSpeech/train-clean-100/5688/15787/5688-15787-0029.flac\n"
     ]
    },
    {
     "name": "stderr",
     "output_type": "stream",
     "text": [
      " 36%|███▋      | 11361/31159 [07:30<10:25, 31.65it/s]"
     ]
    },
    {
     "name": "stdout",
     "output_type": "stream",
     "text": [
      "skipped ../speech-bahasa/LibriSpeech/train-clean-100/5688/15787/5688-15787-0037.flac\n"
     ]
    },
    {
     "name": "stderr",
     "output_type": "stream",
     "text": [
      " 37%|███▋      | 11430/31159 [07:33<14:34, 22.56it/s]"
     ]
    },
    {
     "name": "stdout",
     "output_type": "stream",
     "text": [
      "skipped ../speech-bahasa/LibriSpeech/train-clean-100/5688/41232/5688-41232-0062.flac\n"
     ]
    },
    {
     "name": "stderr",
     "output_type": "stream",
     "text": [
      " 37%|███▋      | 11446/31159 [07:33<12:43, 25.83it/s]"
     ]
    },
    {
     "name": "stdout",
     "output_type": "stream",
     "text": [
      "skipped ../speech-bahasa/LibriSpeech/train-clean-100/374/180298/374-180298-0001.flac\n"
     ]
    },
    {
     "name": "stderr",
     "output_type": "stream",
     "text": [
      " 37%|███▋      | 11485/31159 [07:35<12:36, 26.02it/s]"
     ]
    },
    {
     "name": "stdout",
     "output_type": "stream",
     "text": [
      "skipped ../speech-bahasa/LibriSpeech/train-clean-100/374/180298/374-180298-0041.flac\n",
      "skipped ../speech-bahasa/LibriSpeech/train-clean-100/374/180298/374-180298-0047.flac\n",
      "skipped ../speech-bahasa/LibriSpeech/train-clean-100/374/180298/374-180298-0048.flac\n"
     ]
    },
    {
     "name": "stderr",
     "output_type": "stream",
     "text": [
      " 37%|███▋      | 11542/31159 [07:38<13:04, 24.99it/s]"
     ]
    },
    {
     "name": "stdout",
     "output_type": "stream",
     "text": [
      "skipped ../speech-bahasa/LibriSpeech/train-clean-100/374/180299/374-180299-0034.flac\n"
     ]
    },
    {
     "name": "stderr",
     "output_type": "stream",
     "text": [
      " 37%|███▋      | 11549/31159 [07:38<18:01, 18.14it/s]"
     ]
    },
    {
     "name": "stdout",
     "output_type": "stream",
     "text": [
      "skipped ../speech-bahasa/LibriSpeech/train-clean-100/374/180299/374-180299-0040.flac\n"
     ]
    },
    {
     "name": "stderr",
     "output_type": "stream",
     "text": [
      " 37%|███▋      | 11560/31159 [07:38<13:32, 24.11it/s]"
     ]
    },
    {
     "name": "stdout",
     "output_type": "stream",
     "text": [
      "skipped ../speech-bahasa/LibriSpeech/train-clean-100/8975/270782/8975-270782-0003.flac\n"
     ]
    },
    {
     "name": "stderr",
     "output_type": "stream",
     "text": [
      " 37%|███▋      | 11584/31159 [07:39<11:46, 27.71it/s]"
     ]
    },
    {
     "name": "stdout",
     "output_type": "stream",
     "text": [
      "skipped ../speech-bahasa/LibriSpeech/train-clean-100/8975/270782/8975-270782-0032.flac\n"
     ]
    },
    {
     "name": "stderr",
     "output_type": "stream",
     "text": [
      " 37%|███▋      | 11610/31159 [07:40<12:19, 26.43it/s]"
     ]
    },
    {
     "name": "stdout",
     "output_type": "stream",
     "text": [
      "skipped ../speech-bahasa/LibriSpeech/train-clean-100/8975/270782/8975-270782-0053.flac\n",
      "skipped ../speech-bahasa/LibriSpeech/train-clean-100/8975/270782/8975-270782-0059.flac\n"
     ]
    },
    {
     "name": "stderr",
     "output_type": "stream",
     "text": [
      " 37%|███▋      | 11622/31159 [07:41<11:21, 28.67it/s]"
     ]
    },
    {
     "name": "stdout",
     "output_type": "stream",
     "text": [
      "skipped ../speech-bahasa/LibriSpeech/train-clean-100/8975/270782/8975-270782-0063.flac\n",
      "skipped ../speech-bahasa/LibriSpeech/train-clean-100/8975/270782/8975-270782-0067.flac\n"
     ]
    },
    {
     "name": "stderr",
     "output_type": "stream",
     "text": [
      " 37%|███▋      | 11658/31159 [07:42<11:28, 28.34it/s]"
     ]
    },
    {
     "name": "stdout",
     "output_type": "stream",
     "text": [
      "skipped ../speech-bahasa/LibriSpeech/train-clean-100/8975/270782/8975-270782-0098.flac\n",
      "skipped ../speech-bahasa/LibriSpeech/train-clean-100/8975/270782/8975-270782-0103.flac\n"
     ]
    },
    {
     "name": "stderr",
     "output_type": "stream",
     "text": [
      " 37%|███▋      | 11683/31159 [07:44<13:41, 23.71it/s]"
     ]
    },
    {
     "name": "stdout",
     "output_type": "stream",
     "text": [
      "skipped ../speech-bahasa/LibriSpeech/train-clean-100/6385/220959/6385-220959-0009.flac\n"
     ]
    },
    {
     "name": "stderr",
     "output_type": "stream",
     "text": [
      " 38%|███▊      | 11696/31159 [07:44<11:52, 27.31it/s]"
     ]
    },
    {
     "name": "stdout",
     "output_type": "stream",
     "text": [
      "skipped ../speech-bahasa/LibriSpeech/train-clean-100/6385/220959/6385-220959-0025.flac\n"
     ]
    },
    {
     "name": "stderr",
     "output_type": "stream",
     "text": [
      " 38%|███▊      | 11703/31159 [07:44<11:50, 27.39it/s]"
     ]
    },
    {
     "name": "stdout",
     "output_type": "stream",
     "text": [
      "skipped ../speech-bahasa/LibriSpeech/train-clean-100/6385/220959/6385-220959-0032.flac\n",
      "skipped ../speech-bahasa/LibriSpeech/train-clean-100/6385/220959/6385-220959-0035.flac\n"
     ]
    },
    {
     "name": "stderr",
     "output_type": "stream",
     "text": [
      " 38%|███▊      | 11715/31159 [07:45<11:41, 27.72it/s]"
     ]
    },
    {
     "name": "stdout",
     "output_type": "stream",
     "text": [
      "skipped ../speech-bahasa/LibriSpeech/train-clean-100/6385/34669/6385-34669-0003.flac\n",
      "skipped ../speech-bahasa/LibriSpeech/train-clean-100/6385/34669/6385-34669-0005.flac\n",
      "skipped ../speech-bahasa/LibriSpeech/train-clean-100/6385/34669/6385-34669-0006.flac\n"
     ]
    },
    {
     "name": "stderr",
     "output_type": "stream",
     "text": [
      " 38%|███▊      | 11732/31159 [07:45<11:33, 28.00it/s]"
     ]
    },
    {
     "name": "stdout",
     "output_type": "stream",
     "text": [
      "skipped ../speech-bahasa/LibriSpeech/train-clean-100/6385/34669/6385-34669-0016.flac\n",
      "skipped ../speech-bahasa/LibriSpeech/train-clean-100/6385/34669/6385-34669-0017.flac\n",
      "skipped ../speech-bahasa/LibriSpeech/train-clean-100/6385/34669/6385-34669-0019.flac\n"
     ]
    },
    {
     "name": "stderr",
     "output_type": "stream",
     "text": [
      " 38%|███▊      | 11744/31159 [07:46<11:46, 27.50it/s]"
     ]
    },
    {
     "name": "stdout",
     "output_type": "stream",
     "text": [
      "skipped ../speech-bahasa/LibriSpeech/train-clean-100/6385/34669/6385-34669-0028.flac\n"
     ]
    },
    {
     "name": "stderr",
     "output_type": "stream",
     "text": [
      " 38%|███▊      | 11771/31159 [07:47<15:45, 20.50it/s]"
     ]
    },
    {
     "name": "stdout",
     "output_type": "stream",
     "text": [
      "skipped ../speech-bahasa/LibriSpeech/train-clean-100/6385/34655/6385-34655-0022.flac\n"
     ]
    },
    {
     "name": "stderr",
     "output_type": "stream",
     "text": [
      " 38%|███▊      | 11782/31159 [07:47<12:07, 26.62it/s]"
     ]
    },
    {
     "name": "stdout",
     "output_type": "stream",
     "text": [
      "skipped ../speech-bahasa/LibriSpeech/train-clean-100/6385/34655/6385-34655-0033.flac\n"
     ]
    },
    {
     "name": "stderr",
     "output_type": "stream",
     "text": [
      " 38%|███▊      | 11795/31159 [07:48<10:19, 31.28it/s]"
     ]
    },
    {
     "name": "stdout",
     "output_type": "stream",
     "text": [
      "skipped ../speech-bahasa/LibriSpeech/train-clean-100/5652/19215/5652-19215-0009.flac\n",
      "skipped ../speech-bahasa/LibriSpeech/train-clean-100/5652/19215/5652-19215-0014.flac\n"
     ]
    },
    {
     "name": "stderr",
     "output_type": "stream",
     "text": [
      " 38%|███▊      | 11858/31159 [07:50<11:32, 27.88it/s]"
     ]
    },
    {
     "name": "stdout",
     "output_type": "stream",
     "text": [
      "skipped ../speech-bahasa/LibriSpeech/train-clean-100/5652/39938/5652-39938-0010.flac\n"
     ]
    },
    {
     "name": "stderr",
     "output_type": "stream",
     "text": [
      " 38%|███▊      | 11866/31159 [07:51<15:55, 20.20it/s]"
     ]
    },
    {
     "name": "stdout",
     "output_type": "stream",
     "text": [
      "skipped ../speech-bahasa/LibriSpeech/train-clean-100/5652/39938/5652-39938-0017.flac\n",
      "skipped ../speech-bahasa/LibriSpeech/train-clean-100/5652/39938/5652-39938-0020.flac\n",
      "skipped ../speech-bahasa/LibriSpeech/train-clean-100/5652/39938/5652-39938-0025.flac\n",
      "skipped ../speech-bahasa/LibriSpeech/train-clean-100/5652/39938/5652-39938-0026.flac\n"
     ]
    },
    {
     "name": "stderr",
     "output_type": "stream",
     "text": [
      " 38%|███▊      | 11878/31159 [07:51<11:07, 28.87it/s]"
     ]
    },
    {
     "name": "stdout",
     "output_type": "stream",
     "text": [
      "skipped ../speech-bahasa/LibriSpeech/train-clean-100/5652/39938/5652-39938-0029.flac\n",
      "skipped ../speech-bahasa/LibriSpeech/train-clean-100/5652/39938/5652-39938-0031.flac\n"
     ]
    },
    {
     "name": "stderr",
     "output_type": "stream",
     "text": [
      " 38%|███▊      | 11890/31159 [07:51<10:32, 30.44it/s]"
     ]
    },
    {
     "name": "stdout",
     "output_type": "stream",
     "text": [
      "skipped ../speech-bahasa/LibriSpeech/train-clean-100/5652/39938/5652-39938-0039.flac\n"
     ]
    },
    {
     "name": "stderr",
     "output_type": "stream",
     "text": [
      " 38%|███▊      | 11899/31159 [07:51<10:08, 31.66it/s]"
     ]
    },
    {
     "name": "stdout",
     "output_type": "stream",
     "text": [
      "skipped ../speech-bahasa/LibriSpeech/train-clean-100/5652/39938/5652-39938-0049.flac\n"
     ]
    },
    {
     "name": "stderr",
     "output_type": "stream",
     "text": [
      " 38%|███▊      | 11907/31159 [07:52<10:05, 31.79it/s]"
     ]
    },
    {
     "name": "stdout",
     "output_type": "stream",
     "text": [
      "skipped ../speech-bahasa/LibriSpeech/train-clean-100/5652/39938/5652-39938-0058.flac\n"
     ]
    },
    {
     "name": "stderr",
     "output_type": "stream",
     "text": [
      " 38%|███▊      | 11929/31159 [07:53<11:44, 27.31it/s]"
     ]
    },
    {
     "name": "stdout",
     "output_type": "stream",
     "text": [
      "skipped ../speech-bahasa/LibriSpeech/train-clean-100/4014/186179/4014-186179-0011.flac\n"
     ]
    },
    {
     "name": "stderr",
     "output_type": "stream",
     "text": [
      " 38%|███▊      | 11960/31159 [07:53<09:14, 34.65it/s]"
     ]
    },
    {
     "name": "stdout",
     "output_type": "stream",
     "text": [
      "skipped ../speech-bahasa/LibriSpeech/train-clean-100/4014/186179/4014-186179-0045.flac\n"
     ]
    },
    {
     "name": "stderr",
     "output_type": "stream",
     "text": [
      " 39%|███▊      | 12001/31159 [07:55<10:00, 31.90it/s]"
     ]
    },
    {
     "name": "stdout",
     "output_type": "stream",
     "text": [
      "skipped ../speech-bahasa/LibriSpeech/train-clean-100/4014/186175/4014-186175-0006.flac\n",
      "skipped ../speech-bahasa/LibriSpeech/train-clean-100/4014/186175/4014-186175-0012.flac\n"
     ]
    },
    {
     "name": "stderr",
     "output_type": "stream",
     "text": [
      " 39%|███▊      | 12025/31159 [07:55<07:03, 45.21it/s]"
     ]
    },
    {
     "name": "stdout",
     "output_type": "stream",
     "text": [
      "skipped ../speech-bahasa/LibriSpeech/train-clean-100/4014/186175/4014-186175-0027.flac\n",
      "skipped ../speech-bahasa/LibriSpeech/train-clean-100/4014/186175/4014-186175-0033.flac\n"
     ]
    },
    {
     "name": "stderr",
     "output_type": "stream",
     "text": [
      " 39%|███▉      | 12108/31159 [07:58<10:20, 30.69it/s]"
     ]
    },
    {
     "name": "stdout",
     "output_type": "stream",
     "text": [
      "skipped ../speech-bahasa/LibriSpeech/train-clean-100/4195/186236/4195-186236-0023.flac\n"
     ]
    },
    {
     "name": "stderr",
     "output_type": "stream",
     "text": [
      " 39%|███▉      | 12114/31159 [07:58<09:18, 34.07it/s]"
     ]
    },
    {
     "name": "stdout",
     "output_type": "stream",
     "text": [
      "skipped ../speech-bahasa/LibriSpeech/train-clean-100/4195/17507/4195-17507-0004.flac\n",
      "skipped ../speech-bahasa/LibriSpeech/train-clean-100/4195/17507/4195-17507-0007.flac\n"
     ]
    },
    {
     "name": "stderr",
     "output_type": "stream",
     "text": [
      " 39%|███▉      | 12168/31159 [08:00<11:42, 27.03it/s]"
     ]
    },
    {
     "name": "stdout",
     "output_type": "stream",
     "text": [
      "skipped ../speech-bahasa/LibriSpeech/train-clean-100/4195/186237/4195-186237-0011.flac\n"
     ]
    },
    {
     "name": "stderr",
     "output_type": "stream",
     "text": [
      " 39%|███▉      | 12196/31159 [08:01<10:06, 31.27it/s]"
     ]
    },
    {
     "name": "stdout",
     "output_type": "stream",
     "text": [
      "skipped ../speech-bahasa/LibriSpeech/train-clean-100/4195/186238/4195-186238-0001.flac\n",
      "skipped ../speech-bahasa/LibriSpeech/train-clean-100/4195/186238/4195-186238-0004.flac\n"
     ]
    },
    {
     "name": "stderr",
     "output_type": "stream",
     "text": [
      " 39%|███▉      | 12229/31159 [08:02<10:09, 31.04it/s]"
     ]
    },
    {
     "name": "stdout",
     "output_type": "stream",
     "text": [
      "skipped ../speech-bahasa/LibriSpeech/train-clean-100/6880/216547/6880-216547-0006.flac\n",
      "skipped ../speech-bahasa/LibriSpeech/train-clean-100/6880/216547/6880-216547-0007.flac\n"
     ]
    },
    {
     "name": "stderr",
     "output_type": "stream",
     "text": [
      " 39%|███▉      | 12250/31159 [08:03<16:25, 19.19it/s]"
     ]
    },
    {
     "name": "stdout",
     "output_type": "stream",
     "text": [
      "skipped ../speech-bahasa/LibriSpeech/train-clean-100/6880/216547/6880-216547-0031.flac\n",
      "skipped ../speech-bahasa/LibriSpeech/train-clean-100/6880/216547/6880-216547-0035.flac\n",
      "skipped ../speech-bahasa/LibriSpeech/train-clean-100/6880/216547/6880-216547-0036.flac\n"
     ]
    },
    {
     "name": "stderr",
     "output_type": "stream",
     "text": [
      " 39%|███▉      | 12268/31159 [08:04<11:52, 26.52it/s]"
     ]
    },
    {
     "name": "stdout",
     "output_type": "stream",
     "text": [
      "skipped ../speech-bahasa/LibriSpeech/train-clean-100/6880/216547/6880-216547-0048.flac\n"
     ]
    },
    {
     "name": "stderr",
     "output_type": "stream",
     "text": [
      " 39%|███▉      | 12299/31159 [08:05<15:29, 20.29it/s]"
     ]
    },
    {
     "name": "stdout",
     "output_type": "stream",
     "text": [
      "skipped ../speech-bahasa/LibriSpeech/train-clean-100/6880/216547/6880-216547-0080.flac\n"
     ]
    },
    {
     "name": "stderr",
     "output_type": "stream",
     "text": [
      " 40%|███▉      | 12314/31159 [08:06<12:25, 25.29it/s]"
     ]
    },
    {
     "name": "stdout",
     "output_type": "stream",
     "text": [
      "skipped ../speech-bahasa/LibriSpeech/train-clean-100/6880/216547/6880-216547-0095.flac\n"
     ]
    },
    {
     "name": "stderr",
     "output_type": "stream",
     "text": [
      " 40%|███▉      | 12320/31159 [08:06<12:20, 25.46it/s]"
     ]
    },
    {
     "name": "stdout",
     "output_type": "stream",
     "text": [
      "skipped ../speech-bahasa/LibriSpeech/train-clean-100/6880/216547/6880-216547-0101.flac\n"
     ]
    },
    {
     "name": "stderr",
     "output_type": "stream",
     "text": [
      " 40%|███▉      | 12344/31159 [08:07<13:30, 23.21it/s]"
     ]
    },
    {
     "name": "stdout",
     "output_type": "stream",
     "text": [
      "skipped ../speech-bahasa/LibriSpeech/train-clean-100/460/172357/460-172357-0008.flac\n"
     ]
    },
    {
     "name": "stderr",
     "output_type": "stream",
     "text": [
      " 40%|███▉      | 12359/31159 [08:07<10:42, 29.26it/s]"
     ]
    },
    {
     "name": "stdout",
     "output_type": "stream",
     "text": [
      "skipped ../speech-bahasa/LibriSpeech/train-clean-100/460/172357/460-172357-0019.flac\n"
     ]
    },
    {
     "name": "stderr",
     "output_type": "stream",
     "text": [
      " 40%|███▉      | 12378/31159 [08:08<10:07, 30.94it/s]"
     ]
    },
    {
     "name": "stdout",
     "output_type": "stream",
     "text": [
      "skipped ../speech-bahasa/LibriSpeech/train-clean-100/460/172359/460-172359-0016.flac\n",
      "skipped ../speech-bahasa/LibriSpeech/train-clean-100/460/172359/460-172359-0019.flac\n"
     ]
    },
    {
     "name": "stderr",
     "output_type": "stream",
     "text": [
      " 40%|███▉      | 12393/31159 [08:09<12:23, 25.26it/s]"
     ]
    },
    {
     "name": "stdout",
     "output_type": "stream",
     "text": [
      "skipped ../speech-bahasa/LibriSpeech/train-clean-100/460/172359/460-172359-0029.flac\n",
      "skipped ../speech-bahasa/LibriSpeech/train-clean-100/460/172359/460-172359-0036.flac\n"
     ]
    },
    {
     "name": "stderr",
     "output_type": "stream",
     "text": [
      " 40%|███▉      | 12414/31159 [08:09<10:10, 30.69it/s]"
     ]
    },
    {
     "name": "stdout",
     "output_type": "stream",
     "text": [
      "skipped ../speech-bahasa/LibriSpeech/train-clean-100/460/172359/460-172359-0049.flac\n"
     ]
    },
    {
     "name": "stderr",
     "output_type": "stream",
     "text": [
      " 40%|███▉      | 12434/31159 [08:10<13:24, 23.28it/s]"
     ]
    },
    {
     "name": "stdout",
     "output_type": "stream",
     "text": [
      "skipped ../speech-bahasa/LibriSpeech/train-clean-100/460/172359/460-172359-0072.flac\n"
     ]
    },
    {
     "name": "stderr",
     "output_type": "stream",
     "text": [
      " 40%|███▉      | 12443/31159 [08:11<11:21, 27.45it/s]"
     ]
    },
    {
     "name": "stdout",
     "output_type": "stream",
     "text": [
      "skipped ../speech-bahasa/LibriSpeech/train-clean-100/460/172359/460-172359-0080.flac\n"
     ]
    },
    {
     "name": "stderr",
     "output_type": "stream",
     "text": [
      " 40%|████      | 12473/31159 [08:12<10:16, 30.30it/s]"
     ]
    },
    {
     "name": "stdout",
     "output_type": "stream",
     "text": [
      "skipped ../speech-bahasa/LibriSpeech/train-clean-100/4051/10927/4051-10927-0013.flac\n"
     ]
    },
    {
     "name": "stderr",
     "output_type": "stream",
     "text": [
      " 40%|████      | 12481/31159 [08:12<14:01, 22.21it/s]"
     ]
    },
    {
     "name": "stdout",
     "output_type": "stream",
     "text": [
      "skipped ../speech-bahasa/LibriSpeech/train-clean-100/4051/10927/4051-10927-0019.flac\n"
     ]
    },
    {
     "name": "stderr",
     "output_type": "stream",
     "text": [
      " 40%|████      | 12561/31159 [08:15<10:10, 30.48it/s]"
     ]
    },
    {
     "name": "stdout",
     "output_type": "stream",
     "text": [
      "skipped ../speech-bahasa/LibriSpeech/train-clean-100/4051/11218/4051-11218-0030.flac\n"
     ]
    },
    {
     "name": "stderr",
     "output_type": "stream",
     "text": [
      " 41%|████      | 12654/31159 [08:19<09:20, 33.00it/s]"
     ]
    },
    {
     "name": "stdout",
     "output_type": "stream",
     "text": [
      "skipped ../speech-bahasa/LibriSpeech/train-clean-100/1743/142914/1743-142914-0024.flac\n",
      "skipped ../speech-bahasa/LibriSpeech/train-clean-100/1743/142914/1743-142914-0025.flac\n",
      "skipped ../speech-bahasa/LibriSpeech/train-clean-100/1743/142914/1743-142914-0029.flac\n"
     ]
    },
    {
     "name": "stderr",
     "output_type": "stream",
     "text": [
      " 41%|████      | 12690/31159 [08:20<10:08, 30.34it/s]"
     ]
    },
    {
     "name": "stdout",
     "output_type": "stream",
     "text": [
      "skipped ../speech-bahasa/LibriSpeech/train-clean-100/1743/142912/1743-142912-0028.flac\n",
      "skipped ../speech-bahasa/LibriSpeech/train-clean-100/1743/142912/1743-142912-0030.flac\n"
     ]
    },
    {
     "name": "stderr",
     "output_type": "stream",
     "text": [
      " 41%|████      | 12710/31159 [08:21<16:11, 18.98it/s]"
     ]
    },
    {
     "name": "stdout",
     "output_type": "stream",
     "text": [
      "skipped ../speech-bahasa/LibriSpeech/train-clean-100/302/123516/302-123516-0013.flac\n"
     ]
    },
    {
     "name": "stderr",
     "output_type": "stream",
     "text": [
      " 41%|████      | 12759/31159 [08:23<13:45, 22.28it/s]"
     ]
    },
    {
     "name": "stdout",
     "output_type": "stream",
     "text": [
      "skipped ../speech-bahasa/LibriSpeech/train-clean-100/302/123523/302-123523-0025.flac\n",
      "skipped ../speech-bahasa/LibriSpeech/train-clean-100/302/123523/302-123523-0030.flac\n"
     ]
    },
    {
     "name": "stderr",
     "output_type": "stream",
     "text": [
      " 41%|████      | 12773/31159 [08:24<11:51, 25.86it/s]"
     ]
    },
    {
     "name": "stdout",
     "output_type": "stream",
     "text": [
      "skipped ../speech-bahasa/LibriSpeech/train-clean-100/302/123523/302-123523-0037.flac\n"
     ]
    },
    {
     "name": "stderr",
     "output_type": "stream",
     "text": [
      " 41%|████      | 12804/31159 [08:25<13:34, 22.55it/s]"
     ]
    },
    {
     "name": "stdout",
     "output_type": "stream",
     "text": [
      "skipped ../speech-bahasa/LibriSpeech/train-clean-100/302/123504/302-123504-0030.flac\n"
     ]
    },
    {
     "name": "stderr",
     "output_type": "stream",
     "text": [
      " 41%|████      | 12847/31159 [08:27<12:37, 24.17it/s]"
     ]
    },
    {
     "name": "stdout",
     "output_type": "stream",
     "text": [
      "skipped ../speech-bahasa/LibriSpeech/train-clean-100/6454/93938/6454-93938-0034.flac\n"
     ]
    },
    {
     "name": "stderr",
     "output_type": "stream",
     "text": [
      " 41%|████▏     | 12854/31159 [08:27<11:46, 25.90it/s]"
     ]
    },
    {
     "name": "stdout",
     "output_type": "stream",
     "text": [
      "skipped ../speech-bahasa/LibriSpeech/train-clean-100/6454/107462/6454-107462-0008.flac\n",
      "skipped ../speech-bahasa/LibriSpeech/train-clean-100/6454/107462/6454-107462-0013.flac\n"
     ]
    },
    {
     "name": "stderr",
     "output_type": "stream",
     "text": [
      " 41%|████▏     | 12874/31159 [08:28<16:07, 18.90it/s]"
     ]
    },
    {
     "name": "stdout",
     "output_type": "stream",
     "text": [
      "skipped ../speech-bahasa/LibriSpeech/train-clean-100/6454/107462/6454-107462-0026.flac\n"
     ]
    },
    {
     "name": "stderr",
     "output_type": "stream",
     "text": [
      " 41%|████▏     | 12928/31159 [08:31<11:48, 25.72it/s]"
     ]
    },
    {
     "name": "stdout",
     "output_type": "stream",
     "text": [
      "skipped ../speech-bahasa/LibriSpeech/train-clean-100/1926/147979/1926-147979-0005.flac\n"
     ]
    },
    {
     "name": "stderr",
     "output_type": "stream",
     "text": [
      " 42%|████▏     | 12932/31159 [08:31<11:14, 27.01it/s]"
     ]
    },
    {
     "name": "stdout",
     "output_type": "stream",
     "text": [
      "skipped ../speech-bahasa/LibriSpeech/train-clean-100/1926/147979/1926-147979-0011.flac\n"
     ]
    },
    {
     "name": "stderr",
     "output_type": "stream",
     "text": [
      " 42%|████▏     | 12957/31159 [08:32<15:03, 20.15it/s]"
     ]
    },
    {
     "name": "stdout",
     "output_type": "stream",
     "text": [
      "skipped ../speech-bahasa/LibriSpeech/train-clean-100/1926/147979/1926-147979-0036.flac\n"
     ]
    },
    {
     "name": "stderr",
     "output_type": "stream",
     "text": [
      " 42%|████▏     | 12995/31159 [08:33<08:53, 34.04it/s]"
     ]
    },
    {
     "name": "stdout",
     "output_type": "stream",
     "text": [
      "skipped ../speech-bahasa/LibriSpeech/train-clean-100/1926/143879/1926-143879-0024.flac\n"
     ]
    },
    {
     "name": "stderr",
     "output_type": "stream",
     "text": [
      " 42%|████▏     | 13041/31159 [08:35<10:44, 28.09it/s]"
     ]
    },
    {
     "name": "stdout",
     "output_type": "stream",
     "text": [
      "skipped ../speech-bahasa/LibriSpeech/train-clean-100/1926/147987/1926-147987-0019.flac\n"
     ]
    },
    {
     "name": "stderr",
     "output_type": "stream",
     "text": [
      " 42%|████▏     | 13056/31159 [08:35<10:53, 27.70it/s]"
     ]
    },
    {
     "name": "stdout",
     "output_type": "stream",
     "text": [
      "skipped ../speech-bahasa/LibriSpeech/train-clean-100/200/124140/200-124140-0001.flac\n"
     ]
    },
    {
     "name": "stderr",
     "output_type": "stream",
     "text": [
      " 42%|████▏     | 13076/31159 [08:36<09:57, 30.29it/s]"
     ]
    },
    {
     "name": "stdout",
     "output_type": "stream",
     "text": [
      "skipped ../speech-bahasa/LibriSpeech/train-clean-100/200/124140/200-124140-0022.flac\n"
     ]
    },
    {
     "name": "stderr",
     "output_type": "stream",
     "text": [
      " 42%|████▏     | 13109/31159 [08:38<11:46, 25.54it/s]"
     ]
    },
    {
     "name": "stdout",
     "output_type": "stream",
     "text": [
      "skipped ../speech-bahasa/LibriSpeech/train-clean-100/200/124139/200-124139-0016.flac\n"
     ]
    },
    {
     "name": "stderr",
     "output_type": "stream",
     "text": [
      " 42%|████▏     | 13121/31159 [08:38<09:48, 30.67it/s]"
     ]
    },
    {
     "name": "stdout",
     "output_type": "stream",
     "text": [
      "skipped ../speech-bahasa/LibriSpeech/train-clean-100/200/124139/200-124139-0025.flac\n",
      "skipped ../speech-bahasa/LibriSpeech/train-clean-100/200/124139/200-124139-0029.flac\n"
     ]
    },
    {
     "name": "stderr",
     "output_type": "stream",
     "text": [
      " 42%|████▏     | 13133/31159 [08:38<10:16, 29.22it/s]"
     ]
    },
    {
     "name": "stdout",
     "output_type": "stream",
     "text": [
      "skipped ../speech-bahasa/LibriSpeech/train-clean-100/200/126784/200-126784-0001.flac\n",
      "skipped ../speech-bahasa/LibriSpeech/train-clean-100/200/126784/200-126784-0003.flac\n"
     ]
    },
    {
     "name": "stderr",
     "output_type": "stream",
     "text": [
      " 42%|████▏     | 13145/31159 [08:39<13:16, 22.62it/s]"
     ]
    },
    {
     "name": "stdout",
     "output_type": "stream",
     "text": [
      "skipped ../speech-bahasa/LibriSpeech/train-clean-100/200/126784/200-126784-0010.flac\n"
     ]
    },
    {
     "name": "stderr",
     "output_type": "stream",
     "text": [
      " 42%|████▏     | 13158/31159 [08:40<11:26, 26.23it/s]"
     ]
    },
    {
     "name": "stdout",
     "output_type": "stream",
     "text": [
      "skipped ../speech-bahasa/LibriSpeech/train-clean-100/200/126784/200-126784-0026.flac\n"
     ]
    },
    {
     "name": "stderr",
     "output_type": "stream",
     "text": [
      " 42%|████▏     | 13176/31159 [08:40<10:11, 29.40it/s]"
     ]
    },
    {
     "name": "stdout",
     "output_type": "stream",
     "text": [
      "skipped ../speech-bahasa/LibriSpeech/train-clean-100/4088/158077/4088-158077-0007.flac\n"
     ]
    },
    {
     "name": "stderr",
     "output_type": "stream",
     "text": [
      " 42%|████▏     | 13183/31159 [08:41<15:18, 19.57it/s]"
     ]
    },
    {
     "name": "stdout",
     "output_type": "stream",
     "text": [
      "skipped ../speech-bahasa/LibriSpeech/train-clean-100/4088/158077/4088-158077-0013.flac\n"
     ]
    },
    {
     "name": "stderr",
     "output_type": "stream",
     "text": [
      " 42%|████▏     | 13190/31159 [08:41<12:48, 23.39it/s]"
     ]
    },
    {
     "name": "stdout",
     "output_type": "stream",
     "text": [
      "skipped ../speech-bahasa/LibriSpeech/train-clean-100/4088/158077/4088-158077-0019.flac\n"
     ]
    },
    {
     "name": "stderr",
     "output_type": "stream",
     "text": [
      " 42%|████▏     | 13216/31159 [08:42<10:05, 29.66it/s]"
     ]
    },
    {
     "name": "stdout",
     "output_type": "stream",
     "text": [
      "skipped ../speech-bahasa/LibriSpeech/train-clean-100/4088/158077/4088-158077-0045.flac\n"
     ]
    },
    {
     "name": "stderr",
     "output_type": "stream",
     "text": [
      " 42%|████▏     | 13234/31159 [08:43<13:27, 22.19it/s]"
     ]
    },
    {
     "name": "stdout",
     "output_type": "stream",
     "text": [
      "skipped ../speech-bahasa/LibriSpeech/train-clean-100/4088/158077/4088-158077-0062.flac\n",
      "skipped ../speech-bahasa/LibriSpeech/train-clean-100/4088/158077/4088-158077-0066.flac\n"
     ]
    },
    {
     "name": "stderr",
     "output_type": "stream",
     "text": [
      " 43%|████▎     | 13253/31159 [08:43<10:15, 29.11it/s]"
     ]
    },
    {
     "name": "stdout",
     "output_type": "stream",
     "text": [
      "skipped ../speech-bahasa/LibriSpeech/train-clean-100/4088/158077/4088-158077-0080.flac\n",
      "skipped ../speech-bahasa/LibriSpeech/train-clean-100/4088/158077/4088-158077-0081.flac\n"
     ]
    },
    {
     "name": "stderr",
     "output_type": "stream",
     "text": [
      " 43%|████▎     | 13265/31159 [08:44<09:46, 30.50it/s]"
     ]
    },
    {
     "name": "stdout",
     "output_type": "stream",
     "text": [
      "skipped ../speech-bahasa/LibriSpeech/train-clean-100/4088/158077/4088-158077-0094.flac\n",
      "skipped ../speech-bahasa/LibriSpeech/train-clean-100/4088/158079/4088-158079-0000.flac\n"
     ]
    },
    {
     "name": "stderr",
     "output_type": "stream",
     "text": [
      " 43%|████▎     | 13270/31159 [08:44<09:17, 32.07it/s]"
     ]
    },
    {
     "name": "stdout",
     "output_type": "stream",
     "text": [
      "skipped ../speech-bahasa/LibriSpeech/train-clean-100/4088/158079/4088-158079-0003.flac\n"
     ]
    },
    {
     "name": "stderr",
     "output_type": "stream",
     "text": [
      " 43%|████▎     | 13278/31159 [08:44<13:31, 22.04it/s]"
     ]
    },
    {
     "name": "stdout",
     "output_type": "stream",
     "text": [
      "skipped ../speech-bahasa/LibriSpeech/train-clean-100/4088/158079/4088-158079-0009.flac\n"
     ]
    },
    {
     "name": "stderr",
     "output_type": "stream",
     "text": [
      " 43%|████▎     | 13288/31159 [08:45<11:43, 25.40it/s]"
     ]
    },
    {
     "name": "stdout",
     "output_type": "stream",
     "text": [
      "skipped ../speech-bahasa/LibriSpeech/train-clean-100/4340/15220/4340-15220-0001.flac\n"
     ]
    },
    {
     "name": "stderr",
     "output_type": "stream",
     "text": [
      " 43%|████▎     | 13298/31159 [08:45<11:27, 26.00it/s]"
     ]
    },
    {
     "name": "stdout",
     "output_type": "stream",
     "text": [
      "skipped ../speech-bahasa/LibriSpeech/train-clean-100/4340/15220/4340-15220-0011.flac\n"
     ]
    },
    {
     "name": "stderr",
     "output_type": "stream",
     "text": [
      " 43%|████▎     | 13311/31159 [08:46<11:42, 25.42it/s]"
     ]
    },
    {
     "name": "stdout",
     "output_type": "stream",
     "text": [
      "skipped ../speech-bahasa/LibriSpeech/train-clean-100/4340/15220/4340-15220-0029.flac\n"
     ]
    },
    {
     "name": "stderr",
     "output_type": "stream",
     "text": [
      " 43%|████▎     | 13319/31159 [08:46<14:29, 20.51it/s]"
     ]
    },
    {
     "name": "stdout",
     "output_type": "stream",
     "text": [
      "skipped ../speech-bahasa/LibriSpeech/train-clean-100/4340/15220/4340-15220-0032.flac\n"
     ]
    },
    {
     "name": "stderr",
     "output_type": "stream",
     "text": [
      " 43%|████▎     | 13331/31159 [08:47<11:26, 25.97it/s]"
     ]
    },
    {
     "name": "stdout",
     "output_type": "stream",
     "text": [
      "skipped ../speech-bahasa/LibriSpeech/train-clean-100/4340/15220/4340-15220-0040.flac\n",
      "skipped ../speech-bahasa/LibriSpeech/train-clean-100/4340/15220/4340-15220-0041.flac\n"
     ]
    },
    {
     "name": "stderr",
     "output_type": "stream",
     "text": [
      " 43%|████▎     | 13380/31159 [08:49<11:41, 25.33it/s]"
     ]
    },
    {
     "name": "stdout",
     "output_type": "stream",
     "text": [
      "skipped ../speech-bahasa/LibriSpeech/train-clean-100/4340/15220/4340-15220-0092.flac\n"
     ]
    },
    {
     "name": "stderr",
     "output_type": "stream",
     "text": [
      " 43%|████▎     | 13392/31159 [08:49<09:47, 30.24it/s]"
     ]
    },
    {
     "name": "stdout",
     "output_type": "stream",
     "text": [
      "skipped ../speech-bahasa/LibriSpeech/train-clean-100/233/155990/233-155990-0003.flac\n"
     ]
    },
    {
     "name": "stderr",
     "output_type": "stream",
     "text": [
      " 43%|████▎     | 13434/31159 [08:51<11:03, 26.72it/s]"
     ]
    },
    {
     "name": "stdout",
     "output_type": "stream",
     "text": [
      "skipped ../speech-bahasa/LibriSpeech/train-clean-100/233/155990/233-155990-0045.flac\n"
     ]
    },
    {
     "name": "stderr",
     "output_type": "stream",
     "text": [
      " 43%|████▎     | 13447/31159 [08:52<15:07, 19.52it/s]"
     ]
    },
    {
     "name": "stdout",
     "output_type": "stream",
     "text": [
      "skipped ../speech-bahasa/LibriSpeech/train-clean-100/233/134440/233-134440-0010.flac\n"
     ]
    },
    {
     "name": "stderr",
     "output_type": "stream",
     "text": [
      " 43%|████▎     | 13484/31159 [08:53<13:55, 21.15it/s]"
     ]
    },
    {
     "name": "stdout",
     "output_type": "stream",
     "text": [
      "skipped ../speech-bahasa/LibriSpeech/train-clean-100/233/134440/233-134440-0048.flac\n"
     ]
    },
    {
     "name": "stderr",
     "output_type": "stream",
     "text": [
      " 43%|████▎     | 13499/31159 [08:54<10:29, 28.07it/s]"
     ]
    },
    {
     "name": "stdout",
     "output_type": "stream",
     "text": [
      "skipped ../speech-bahasa/LibriSpeech/train-clean-100/441/128982/441-128982-0000.flac\n",
      "skipped ../speech-bahasa/LibriSpeech/train-clean-100/441/128982/441-128982-0005.flac\n"
     ]
    },
    {
     "name": "stderr",
     "output_type": "stream",
     "text": [
      " 43%|████▎     | 13516/31159 [08:54<09:12, 31.95it/s]"
     ]
    },
    {
     "name": "stdout",
     "output_type": "stream",
     "text": [
      "skipped ../speech-bahasa/LibriSpeech/train-clean-100/441/128982/441-128982-0017.flac\n",
      "skipped ../speech-bahasa/LibriSpeech/train-clean-100/441/128982/441-128982-0018.flac\n",
      "skipped ../speech-bahasa/LibriSpeech/train-clean-100/441/128982/441-128982-0020.flac\n"
     ]
    },
    {
     "name": "stderr",
     "output_type": "stream",
     "text": [
      " 43%|████▎     | 13534/31159 [08:55<12:26, 23.60it/s]"
     ]
    },
    {
     "name": "stdout",
     "output_type": "stream",
     "text": [
      "skipped ../speech-bahasa/LibriSpeech/train-clean-100/441/128982/441-128982-0035.flac\n",
      "skipped ../speech-bahasa/LibriSpeech/train-clean-100/441/128982/441-128982-0036.flac\n"
     ]
    },
    {
     "name": "stderr",
     "output_type": "stream",
     "text": [
      " 43%|████▎     | 13542/31159 [08:55<11:13, 26.16it/s]"
     ]
    },
    {
     "name": "stdout",
     "output_type": "stream",
     "text": [
      "skipped ../speech-bahasa/LibriSpeech/train-clean-100/441/128988/441-128988-0006.flac\n"
     ]
    },
    {
     "name": "stderr",
     "output_type": "stream",
     "text": [
      " 44%|████▎     | 13582/31159 [08:57<12:25, 23.58it/s]"
     ]
    },
    {
     "name": "stdout",
     "output_type": "stream",
     "text": [
      "skipped ../speech-bahasa/LibriSpeech/train-clean-100/441/130108/441-130108-0009.flac\n",
      "skipped ../speech-bahasa/LibriSpeech/train-clean-100/441/130108/441-130108-0010.flac\n",
      "skipped ../speech-bahasa/LibriSpeech/train-clean-100/441/130108/441-130108-0015.flac\n"
     ]
    },
    {
     "name": "stderr",
     "output_type": "stream",
     "text": [
      " 44%|████▎     | 13592/31159 [08:57<09:52, 29.64it/s]"
     ]
    },
    {
     "name": "stdout",
     "output_type": "stream",
     "text": [
      "skipped ../speech-bahasa/LibriSpeech/train-clean-100/441/130108/441-130108-0019.flac\n",
      "skipped ../speech-bahasa/LibriSpeech/train-clean-100/441/130108/441-130108-0020.flac\n"
     ]
    },
    {
     "name": "stderr",
     "output_type": "stream",
     "text": [
      " 44%|████▎     | 13604/31159 [08:58<09:02, 32.34it/s]"
     ]
    },
    {
     "name": "stdout",
     "output_type": "stream",
     "text": [
      "skipped ../speech-bahasa/LibriSpeech/train-clean-100/441/130108/441-130108-0029.flac\n"
     ]
    },
    {
     "name": "stderr",
     "output_type": "stream",
     "text": [
      " 44%|████▎     | 13616/31159 [08:58<09:21, 31.26it/s]"
     ]
    },
    {
     "name": "stdout",
     "output_type": "stream",
     "text": [
      "skipped ../speech-bahasa/LibriSpeech/train-clean-100/669/129074/669-129074-0007.flac\n",
      "skipped ../speech-bahasa/LibriSpeech/train-clean-100/669/129074/669-129074-0008.flac\n"
     ]
    },
    {
     "name": "stderr",
     "output_type": "stream",
     "text": [
      " 44%|████▍     | 13677/31159 [09:00<12:32, 23.25it/s]"
     ]
    },
    {
     "name": "stdout",
     "output_type": "stream",
     "text": [
      "skipped ../speech-bahasa/LibriSpeech/train-clean-100/669/129061/669-129061-0029.flac\n"
     ]
    },
    {
     "name": "stderr",
     "output_type": "stream",
     "text": [
      " 44%|████▍     | 13701/31159 [09:01<10:42, 27.19it/s]"
     ]
    },
    {
     "name": "stdout",
     "output_type": "stream",
     "text": [
      "skipped ../speech-bahasa/LibriSpeech/train-clean-100/669/129061/669-129061-0053.flac\n",
      "skipped ../speech-bahasa/LibriSpeech/train-clean-100/669/129061/669-129061-0057.flac\n"
     ]
    },
    {
     "name": "stderr",
     "output_type": "stream",
     "text": [
      " 44%|████▍     | 13730/31159 [09:03<10:49, 26.83it/s]"
     ]
    },
    {
     "name": "stdout",
     "output_type": "stream",
     "text": [
      "skipped ../speech-bahasa/LibriSpeech/train-clean-100/669/129061/669-129061-0083.flac\n",
      "skipped ../speech-bahasa/LibriSpeech/train-clean-100/669/129061/669-129061-0085.flac\n"
     ]
    },
    {
     "name": "stderr",
     "output_type": "stream",
     "text": [
      " 44%|████▍     | 13789/31159 [09:05<11:09, 25.95it/s]"
     ]
    },
    {
     "name": "stdout",
     "output_type": "stream",
     "text": [
      "skipped ../speech-bahasa/LibriSpeech/train-clean-100/831/130739/831-130739-0057.flac\n"
     ]
    },
    {
     "name": "stderr",
     "output_type": "stream",
     "text": [
      " 44%|████▍     | 13806/31159 [09:06<12:51, 22.48it/s]"
     ]
    },
    {
     "name": "stdout",
     "output_type": "stream",
     "text": [
      "skipped ../speech-bahasa/LibriSpeech/train-clean-100/831/130746/831-130746-0010.flac\n",
      "skipped ../speech-bahasa/LibriSpeech/train-clean-100/831/130746/831-130746-0011.flac\n"
     ]
    },
    {
     "name": "stderr",
     "output_type": "stream",
     "text": [
      " 44%|████▍     | 13833/31159 [09:07<09:44, 29.66it/s]"
     ]
    },
    {
     "name": "stdout",
     "output_type": "stream",
     "text": [
      "skipped ../speech-bahasa/LibriSpeech/train-clean-100/831/130746/831-130746-0038.flac\n",
      "skipped ../speech-bahasa/LibriSpeech/train-clean-100/831/130746/831-130746-0042.flac\n"
     ]
    },
    {
     "name": "stderr",
     "output_type": "stream",
     "text": [
      " 45%|████▍     | 13874/31159 [09:09<11:08, 25.86it/s]"
     ]
    },
    {
     "name": "stdout",
     "output_type": "stream",
     "text": [
      "skipped ../speech-bahasa/LibriSpeech/train-clean-100/3807/4955/3807-4955-0016.flac\n"
     ]
    },
    {
     "name": "stderr",
     "output_type": "stream",
     "text": [
      " 45%|████▍     | 13878/31159 [09:09<10:43, 26.85it/s]"
     ]
    },
    {
     "name": "stdout",
     "output_type": "stream",
     "text": [
      "skipped ../speech-bahasa/LibriSpeech/train-clean-100/3807/4955/3807-4955-0022.flac\n"
     ]
    },
    {
     "name": "stderr",
     "output_type": "stream",
     "text": [
      " 45%|████▍     | 13894/31159 [09:10<12:41, 22.68it/s]"
     ]
    },
    {
     "name": "stdout",
     "output_type": "stream",
     "text": [
      "skipped ../speech-bahasa/LibriSpeech/train-clean-100/3807/4955/3807-4955-0036.flac\n"
     ]
    },
    {
     "name": "stderr",
     "output_type": "stream",
     "text": [
      " 45%|████▍     | 13908/31159 [09:10<10:40, 26.95it/s]"
     ]
    },
    {
     "name": "stdout",
     "output_type": "stream",
     "text": [
      "skipped ../speech-bahasa/LibriSpeech/train-clean-100/3807/4923/3807-4923-0011.flac\n"
     ]
    },
    {
     "name": "stderr",
     "output_type": "stream",
     "text": [
      " 45%|████▍     | 13950/31159 [09:12<11:14, 25.52it/s]"
     ]
    },
    {
     "name": "stdout",
     "output_type": "stream",
     "text": [
      "skipped ../speech-bahasa/LibriSpeech/train-clean-100/3807/4923/3807-4923-0053.flac\n"
     ]
    },
    {
     "name": "stderr",
     "output_type": "stream",
     "text": [
      " 45%|████▍     | 13963/31159 [09:12<10:45, 26.65it/s]"
     ]
    },
    {
     "name": "stdout",
     "output_type": "stream",
     "text": [
      "skipped ../speech-bahasa/LibriSpeech/train-clean-100/1624/142933/1624-142933-0009.flac\n"
     ]
    },
    {
     "name": "stderr",
     "output_type": "stream",
     "text": [
      " 45%|████▍     | 13973/31159 [09:13<10:28, 27.34it/s]"
     ]
    },
    {
     "name": "stdout",
     "output_type": "stream",
     "text": [
      "skipped ../speech-bahasa/LibriSpeech/train-clean-100/1624/142933/1624-142933-0019.flac\n",
      "skipped ../speech-bahasa/LibriSpeech/train-clean-100/1624/142933/1624-142933-0022.flac\n"
     ]
    },
    {
     "name": "stderr",
     "output_type": "stream",
     "text": [
      " 45%|████▍     | 13988/31159 [09:14<13:31, 21.16it/s]"
     ]
    },
    {
     "name": "stdout",
     "output_type": "stream",
     "text": [
      "skipped ../speech-bahasa/LibriSpeech/train-clean-100/1624/142933/1624-142933-0033.flac\n"
     ]
    },
    {
     "name": "stderr",
     "output_type": "stream",
     "text": [
      " 45%|████▌     | 14039/31159 [09:16<11:03, 25.82it/s]"
     ]
    },
    {
     "name": "stdout",
     "output_type": "stream",
     "text": [
      "skipped ../speech-bahasa/LibriSpeech/train-clean-100/1624/168623/1624-168623-0036.flac\n"
     ]
    },
    {
     "name": "stderr",
     "output_type": "stream",
     "text": [
      " 45%|████▌     | 14046/31159 [09:16<09:55, 28.74it/s]"
     ]
    },
    {
     "name": "stdout",
     "output_type": "stream",
     "text": [
      "skipped ../speech-bahasa/LibriSpeech/train-clean-100/1624/168623/1624-168623-0045.flac\n"
     ]
    },
    {
     "name": "stderr",
     "output_type": "stream",
     "text": [
      " 45%|████▌     | 14141/31159 [09:20<10:10, 27.87it/s]"
     ]
    },
    {
     "name": "stdout",
     "output_type": "stream",
     "text": [
      "skipped ../speech-bahasa/LibriSpeech/train-clean-100/201/122255/201-122255-0001.flac\n"
     ]
    },
    {
     "name": "stderr",
     "output_type": "stream",
     "text": [
      " 45%|████▌     | 14171/31159 [09:21<10:04, 28.12it/s]"
     ]
    },
    {
     "name": "stdout",
     "output_type": "stream",
     "text": [
      "skipped ../speech-bahasa/LibriSpeech/train-clean-100/201/122255/201-122255-0030.flac\n"
     ]
    },
    {
     "name": "stderr",
     "output_type": "stream",
     "text": [
      " 46%|████▌     | 14190/31159 [09:22<10:13, 27.65it/s]"
     ]
    },
    {
     "name": "stdout",
     "output_type": "stream",
     "text": [
      "skipped ../speech-bahasa/LibriSpeech/train-clean-100/3440/171009/3440-171009-0005.flac\n"
     ]
    },
    {
     "name": "stderr",
     "output_type": "stream",
     "text": [
      " 46%|████▌     | 14225/31159 [09:23<11:07, 25.35it/s]"
     ]
    },
    {
     "name": "stdout",
     "output_type": "stream",
     "text": [
      "skipped ../speech-bahasa/LibriSpeech/train-clean-100/3440/171009/3440-171009-0040.flac\n"
     ]
    },
    {
     "name": "stderr",
     "output_type": "stream",
     "text": [
      " 46%|████▌     | 14253/31159 [09:25<12:22, 22.76it/s]"
     ]
    },
    {
     "name": "stdout",
     "output_type": "stream",
     "text": [
      "skipped ../speech-bahasa/LibriSpeech/train-clean-100/3440/171009/3440-171009-0071.flac\n"
     ]
    },
    {
     "name": "stderr",
     "output_type": "stream",
     "text": [
      " 46%|████▌     | 14264/31159 [09:25<09:33, 29.45it/s]"
     ]
    },
    {
     "name": "stdout",
     "output_type": "stream",
     "text": [
      "skipped ../speech-bahasa/LibriSpeech/train-clean-100/3440/171006/3440-171006-0000.flac\n"
     ]
    },
    {
     "name": "stderr",
     "output_type": "stream",
     "text": [
      " 46%|████▌     | 14275/31159 [09:25<10:40, 26.34it/s]"
     ]
    },
    {
     "name": "stdout",
     "output_type": "stream",
     "text": [
      "skipped ../speech-bahasa/LibriSpeech/train-clean-100/3440/171006/3440-171006-0008.flac\n"
     ]
    },
    {
     "name": "stderr",
     "output_type": "stream",
     "text": [
      " 46%|████▌     | 14313/31159 [09:27<09:14, 30.36it/s]"
     ]
    },
    {
     "name": "stdout",
     "output_type": "stream",
     "text": [
      "skipped ../speech-bahasa/LibriSpeech/train-clean-100/1447/17506/1447-17506-0014.flac\n"
     ]
    },
    {
     "name": "stderr",
     "output_type": "stream",
     "text": [
      " 46%|████▌     | 14334/31159 [09:28<12:13, 22.94it/s]"
     ]
    },
    {
     "name": "stdout",
     "output_type": "stream",
     "text": [
      "skipped ../speech-bahasa/LibriSpeech/train-clean-100/1447/17506/1447-17506-0034.flac\n",
      "skipped ../speech-bahasa/LibriSpeech/train-clean-100/1447/130550/1447-130550-0003.flac\n"
     ]
    },
    {
     "name": "stderr",
     "output_type": "stream",
     "text": [
      " 46%|████▌     | 14370/31159 [09:29<08:37, 32.47it/s]"
     ]
    },
    {
     "name": "stdout",
     "output_type": "stream",
     "text": [
      "skipped ../speech-bahasa/LibriSpeech/train-clean-100/1447/130551/1447-130551-0006.flac\n"
     ]
    },
    {
     "name": "stderr",
     "output_type": "stream",
     "text": [
      " 46%|████▌     | 14374/31159 [09:29<08:39, 32.31it/s]"
     ]
    },
    {
     "name": "stdout",
     "output_type": "stream",
     "text": [
      "skipped ../speech-bahasa/LibriSpeech/train-clean-100/1447/130551/1447-130551-0014.flac\n"
     ]
    },
    {
     "name": "stderr",
     "output_type": "stream",
     "text": [
      " 46%|████▋     | 14447/31159 [09:32<09:42, 28.71it/s]"
     ]
    },
    {
     "name": "stdout",
     "output_type": "stream",
     "text": [
      "skipped ../speech-bahasa/LibriSpeech/train-clean-100/103/1241/103-1241-0022.flac\n",
      "skipped ../speech-bahasa/LibriSpeech/train-clean-100/103/1241/103-1241-0023.flac\n"
     ]
    },
    {
     "name": "stderr",
     "output_type": "stream",
     "text": [
      " 46%|████▋     | 14458/31159 [09:33<10:23, 26.77it/s]"
     ]
    },
    {
     "name": "stdout",
     "output_type": "stream",
     "text": [
      "skipped ../speech-bahasa/LibriSpeech/train-clean-100/103/1241/103-1241-0034.flac\n"
     ]
    },
    {
     "name": "stderr",
     "output_type": "stream",
     "text": [
      " 46%|████▋     | 14464/31159 [09:33<15:08, 18.37it/s]"
     ]
    },
    {
     "name": "stdout",
     "output_type": "stream",
     "text": [
      "skipped ../speech-bahasa/LibriSpeech/train-clean-100/103/1241/103-1241-0039.flac\n"
     ]
    },
    {
     "name": "stderr",
     "output_type": "stream",
     "text": [
      " 47%|████▋     | 14492/31159 [09:34<10:26, 26.59it/s]"
     ]
    },
    {
     "name": "stdout",
     "output_type": "stream",
     "text": [
      "skipped ../speech-bahasa/LibriSpeech/train-clean-100/103/1240/103-1240-0022.flac\n"
     ]
    },
    {
     "name": "stderr",
     "output_type": "stream",
     "text": [
      " 47%|████▋     | 14499/31159 [09:34<10:20, 26.85it/s]"
     ]
    },
    {
     "name": "stdout",
     "output_type": "stream",
     "text": [
      "skipped ../speech-bahasa/LibriSpeech/train-clean-100/103/1240/103-1240-0031.flac\n",
      "skipped ../speech-bahasa/LibriSpeech/train-clean-100/103/1240/103-1240-0035.flac\n"
     ]
    },
    {
     "name": "stderr",
     "output_type": "stream",
     "text": [
      " 47%|████▋     | 14512/31159 [09:35<12:06, 22.92it/s]"
     ]
    },
    {
     "name": "stdout",
     "output_type": "stream",
     "text": [
      "skipped ../speech-bahasa/LibriSpeech/train-clean-100/103/1240/103-1240-0044.flac\n"
     ]
    },
    {
     "name": "stderr",
     "output_type": "stream",
     "text": [
      " 47%|████▋     | 14526/31159 [09:36<10:11, 27.19it/s]"
     ]
    },
    {
     "name": "stdout",
     "output_type": "stream",
     "text": [
      "skipped ../speech-bahasa/LibriSpeech/train-clean-100/103/1240/103-1240-0054.flac\n"
     ]
    },
    {
     "name": "stderr",
     "output_type": "stream",
     "text": [
      " 47%|████▋     | 14547/31159 [09:36<08:10, 33.89it/s]"
     ]
    },
    {
     "name": "stdout",
     "output_type": "stream",
     "text": [
      "skipped ../speech-bahasa/LibriSpeech/train-clean-100/118/121721/118-121721-0024.flac\n"
     ]
    },
    {
     "name": "stderr",
     "output_type": "stream",
     "text": [
      " 47%|████▋     | 14554/31159 [09:37<11:46, 23.49it/s]"
     ]
    },
    {
     "name": "stdout",
     "output_type": "stream",
     "text": [
      "skipped ../speech-bahasa/LibriSpeech/train-clean-100/118/121721/118-121721-0026.flac\n"
     ]
    },
    {
     "name": "stderr",
     "output_type": "stream",
     "text": [
      " 47%|████▋     | 14574/31159 [09:37<09:42, 28.45it/s]"
     ]
    },
    {
     "name": "stdout",
     "output_type": "stream",
     "text": [
      "skipped ../speech-bahasa/LibriSpeech/train-clean-100/118/124588/118-124588-0019.flac\n"
     ]
    },
    {
     "name": "stderr",
     "output_type": "stream",
     "text": [
      " 47%|████▋     | 14583/31159 [09:38<08:53, 31.08it/s]"
     ]
    },
    {
     "name": "stdout",
     "output_type": "stream",
     "text": [
      "skipped ../speech-bahasa/LibriSpeech/train-clean-100/118/47824/118-47824-0006.flac\n",
      "skipped ../speech-bahasa/LibriSpeech/train-clean-100/118/47824/118-47824-0008.flac\n"
     ]
    },
    {
     "name": "stderr",
     "output_type": "stream",
     "text": [
      " 47%|████▋     | 14629/31159 [09:39<09:05, 30.32it/s]"
     ]
    },
    {
     "name": "stdout",
     "output_type": "stream",
     "text": [
      "skipped ../speech-bahasa/LibriSpeech/train-clean-100/118/47824/118-47824-0051.flac\n"
     ]
    },
    {
     "name": "stderr",
     "output_type": "stream",
     "text": [
      " 47%|████▋     | 14642/31159 [09:40<08:10, 33.66it/s]"
     ]
    },
    {
     "name": "stdout",
     "output_type": "stream",
     "text": [
      "skipped ../speech-bahasa/LibriSpeech/train-clean-100/118/47824/118-47824-0066.flac\n",
      "skipped ../speech-bahasa/LibriSpeech/train-clean-100/118/47824/118-47824-0070.flac\n"
     ]
    },
    {
     "name": "stderr",
     "output_type": "stream",
     "text": [
      " 47%|████▋     | 14652/31159 [09:40<07:37, 36.09it/s]"
     ]
    },
    {
     "name": "stdout",
     "output_type": "stream",
     "text": [
      "skipped ../speech-bahasa/LibriSpeech/train-clean-100/118/47824/118-47824-0077.flac\n"
     ]
    },
    {
     "name": "stderr",
     "output_type": "stream",
     "text": [
      " 47%|████▋     | 14687/31159 [09:41<10:38, 25.78it/s]"
     ]
    },
    {
     "name": "stdout",
     "output_type": "stream",
     "text": [
      "skipped ../speech-bahasa/LibriSpeech/train-clean-100/2952/408/2952-408-0023.flac\n"
     ]
    },
    {
     "name": "stderr",
     "output_type": "stream",
     "text": [
      " 47%|████▋     | 14696/31159 [09:42<09:09, 29.96it/s]"
     ]
    },
    {
     "name": "stdout",
     "output_type": "stream",
     "text": [
      "skipped ../speech-bahasa/LibriSpeech/train-clean-100/2952/407/2952-407-0001.flac\n",
      "skipped ../speech-bahasa/LibriSpeech/train-clean-100/2952/407/2952-407-0002.flac\n",
      "skipped ../speech-bahasa/LibriSpeech/train-clean-100/2952/407/2952-407-0003.flac\n"
     ]
    },
    {
     "name": "stderr",
     "output_type": "stream",
     "text": [
      " 47%|████▋     | 14709/31159 [09:42<11:18, 24.26it/s]"
     ]
    },
    {
     "name": "stdout",
     "output_type": "stream",
     "text": [
      "skipped ../speech-bahasa/LibriSpeech/train-clean-100/2952/407/2952-407-0013.flac\n"
     ]
    },
    {
     "name": "stderr",
     "output_type": "stream",
     "text": [
      " 47%|████▋     | 14742/31159 [09:43<08:39, 31.62it/s]"
     ]
    },
    {
     "name": "stdout",
     "output_type": "stream",
     "text": [
      "skipped ../speech-bahasa/LibriSpeech/train-clean-100/2952/410/2952-410-0020.flac\n",
      "skipped ../speech-bahasa/LibriSpeech/train-clean-100/2952/410/2952-410-0026.flac\n"
     ]
    },
    {
     "name": "stderr",
     "output_type": "stream",
     "text": [
      " 47%|████▋     | 14746/31159 [09:43<08:30, 32.18it/s]"
     ]
    },
    {
     "name": "stdout",
     "output_type": "stream",
     "text": [
      "skipped ../speech-bahasa/LibriSpeech/train-clean-100/2952/410/2952-410-0028.flac\n"
     ]
    },
    {
     "name": "stderr",
     "output_type": "stream",
     "text": [
      " 47%|████▋     | 14770/31159 [09:44<09:58, 27.38it/s]"
     ]
    },
    {
     "name": "stdout",
     "output_type": "stream",
     "text": [
      "skipped ../speech-bahasa/LibriSpeech/train-clean-100/2952/410/2952-410-0047.flac\n"
     ]
    },
    {
     "name": "stderr",
     "output_type": "stream",
     "text": [
      " 47%|████▋     | 14785/31159 [09:45<09:00, 30.28it/s]"
     ]
    },
    {
     "name": "stdout",
     "output_type": "stream",
     "text": [
      "skipped ../speech-bahasa/LibriSpeech/train-clean-100/2691/156750/2691-156750-0002.flac\n"
     ]
    },
    {
     "name": "stderr",
     "output_type": "stream",
     "text": [
      " 47%|████▋     | 14797/31159 [09:45<12:23, 22.02it/s]"
     ]
    },
    {
     "name": "stdout",
     "output_type": "stream",
     "text": [
      "skipped ../speech-bahasa/LibriSpeech/train-clean-100/2691/156750/2691-156750-0014.flac\n"
     ]
    },
    {
     "name": "stderr",
     "output_type": "stream",
     "text": [
      " 48%|████▊     | 14808/31159 [09:46<10:28, 26.00it/s]"
     ]
    },
    {
     "name": "stdout",
     "output_type": "stream",
     "text": [
      "skipped ../speech-bahasa/LibriSpeech/train-clean-100/2691/156750/2691-156750-0023.flac\n"
     ]
    },
    {
     "name": "stderr",
     "output_type": "stream",
     "text": [
      " 48%|████▊     | 14815/31159 [09:46<10:04, 27.01it/s]"
     ]
    },
    {
     "name": "stdout",
     "output_type": "stream",
     "text": [
      "skipped ../speech-bahasa/LibriSpeech/train-clean-100/2691/156750/2691-156750-0032.flac\n"
     ]
    },
    {
     "name": "stderr",
     "output_type": "stream",
     "text": [
      " 48%|████▊     | 14845/31159 [09:47<11:12, 24.27it/s]"
     ]
    },
    {
     "name": "stdout",
     "output_type": "stream",
     "text": [
      "skipped ../speech-bahasa/LibriSpeech/train-clean-100/2691/156755/2691-156755-0027.flac\n",
      "skipped ../speech-bahasa/LibriSpeech/train-clean-100/2691/156755/2691-156755-0030.flac\n"
     ]
    },
    {
     "name": "stderr",
     "output_type": "stream",
     "text": [
      " 48%|████▊     | 14853/31159 [09:48<09:29, 28.65it/s]"
     ]
    },
    {
     "name": "stdout",
     "output_type": "stream",
     "text": [
      "skipped ../speech-bahasa/LibriSpeech/train-clean-100/2691/156755/2691-156755-0035.flac\n",
      "skipped ../speech-bahasa/LibriSpeech/train-clean-100/2691/156745/2691-156745-0002.flac\n"
     ]
    },
    {
     "name": "stderr",
     "output_type": "stream",
     "text": [
      " 48%|████▊     | 14876/31159 [09:48<09:43, 27.90it/s]"
     ]
    },
    {
     "name": "stdout",
     "output_type": "stream",
     "text": [
      "skipped ../speech-bahasa/LibriSpeech/train-clean-100/2691/156745/2691-156745-0027.flac\n"
     ]
    },
    {
     "name": "stderr",
     "output_type": "stream",
     "text": [
      " 48%|████▊     | 14893/31159 [09:49<10:00, 27.07it/s]"
     ]
    },
    {
     "name": "stdout",
     "output_type": "stream",
     "text": [
      "skipped ../speech-bahasa/LibriSpeech/train-clean-100/2691/156745/2691-156745-0037.flac\n"
     ]
    },
    {
     "name": "stderr",
     "output_type": "stream",
     "text": [
      " 48%|████▊     | 14925/31159 [09:50<08:27, 31.99it/s]"
     ]
    },
    {
     "name": "stdout",
     "output_type": "stream",
     "text": [
      "skipped ../speech-bahasa/LibriSpeech/train-clean-100/5049/25947/5049-25947-0026.flac\n",
      "skipped ../speech-bahasa/LibriSpeech/train-clean-100/5049/25947/5049-25947-0027.flac\n",
      "skipped ../speech-bahasa/LibriSpeech/train-clean-100/5049/25947/5049-25947-0028.flac\n"
     ]
    },
    {
     "name": "stderr",
     "output_type": "stream",
     "text": [
      " 48%|████▊     | 14936/31159 [09:51<11:34, 23.37it/s]"
     ]
    },
    {
     "name": "stdout",
     "output_type": "stream",
     "text": [
      "skipped ../speech-bahasa/LibriSpeech/train-clean-100/5049/25947/5049-25947-0037.flac\n"
     ]
    },
    {
     "name": "stderr",
     "output_type": "stream",
     "text": [
      " 48%|████▊     | 14951/31159 [09:51<08:58, 30.09it/s]"
     ]
    },
    {
     "name": "stdout",
     "output_type": "stream",
     "text": [
      "skipped ../speech-bahasa/LibriSpeech/train-clean-100/5049/25947/5049-25947-0051.flac\n",
      "skipped ../speech-bahasa/LibriSpeech/train-clean-100/5049/25947/5049-25947-0052.flac\n",
      "skipped ../speech-bahasa/LibriSpeech/train-clean-100/5049/25947/5049-25947-0053.flac\n"
     ]
    },
    {
     "name": "stderr",
     "output_type": "stream",
     "text": [
      " 48%|████▊     | 15001/31159 [09:53<09:55, 27.12it/s]"
     ]
    },
    {
     "name": "stdout",
     "output_type": "stream",
     "text": [
      "skipped ../speech-bahasa/LibriSpeech/train-clean-100/5049/25947/5049-25947-0101.flac\n"
     ]
    },
    {
     "name": "stderr",
     "output_type": "stream",
     "text": [
      " 48%|████▊     | 15032/31159 [09:54<12:58, 20.71it/s]"
     ]
    },
    {
     "name": "stdout",
     "output_type": "stream",
     "text": [
      "skipped ../speech-bahasa/LibriSpeech/train-clean-100/8051/119902/8051-119902-0007.flac\n"
     ]
    },
    {
     "name": "stderr",
     "output_type": "stream",
     "text": [
      " 48%|████▊     | 15052/31159 [09:55<09:40, 27.74it/s]"
     ]
    },
    {
     "name": "stdout",
     "output_type": "stream",
     "text": [
      "skipped ../speech-bahasa/LibriSpeech/train-clean-100/8051/119902/8051-119902-0024.flac\n"
     ]
    },
    {
     "name": "stderr",
     "output_type": "stream",
     "text": [
      " 48%|████▊     | 15071/31159 [09:56<14:43, 18.21it/s]"
     ]
    },
    {
     "name": "stdout",
     "output_type": "stream",
     "text": [
      "skipped ../speech-bahasa/LibriSpeech/train-clean-100/8051/295385/8051-295385-0006.flac\n"
     ]
    },
    {
     "name": "stderr",
     "output_type": "stream",
     "text": [
      " 48%|████▊     | 15078/31159 [09:56<11:44, 22.81it/s]"
     ]
    },
    {
     "name": "stdout",
     "output_type": "stream",
     "text": [
      "skipped ../speech-bahasa/LibriSpeech/train-clean-100/8051/295385/8051-295385-0013.flac\n",
      "skipped ../speech-bahasa/LibriSpeech/train-clean-100/8051/295385/8051-295385-0017.flac\n"
     ]
    },
    {
     "name": "stderr",
     "output_type": "stream",
     "text": [
      " 48%|████▊     | 15091/31159 [09:57<10:45, 24.89it/s]"
     ]
    },
    {
     "name": "stdout",
     "output_type": "stream",
     "text": [
      "skipped ../speech-bahasa/LibriSpeech/train-clean-100/8051/295385/8051-295385-0025.flac\n",
      "skipped ../speech-bahasa/LibriSpeech/train-clean-100/8051/295385/8051-295385-0030.flac\n"
     ]
    },
    {
     "name": "stderr",
     "output_type": "stream",
     "text": [
      " 48%|████▊     | 15103/31159 [09:57<09:32, 28.02it/s]"
     ]
    },
    {
     "name": "stdout",
     "output_type": "stream",
     "text": [
      "skipped ../speech-bahasa/LibriSpeech/train-clean-100/8051/295385/8051-295385-0036.flac\n"
     ]
    },
    {
     "name": "stderr",
     "output_type": "stream",
     "text": [
      " 49%|████▊     | 15125/31159 [09:58<11:10, 23.91it/s]"
     ]
    },
    {
     "name": "stdout",
     "output_type": "stream",
     "text": [
      "skipped ../speech-bahasa/LibriSpeech/train-clean-100/8051/118101/8051-118101-0020.flac\n"
     ]
    },
    {
     "name": "stderr",
     "output_type": "stream",
     "text": [
      " 49%|████▊     | 15133/31159 [09:58<09:52, 27.03it/s]"
     ]
    },
    {
     "name": "stdout",
     "output_type": "stream",
     "text": [
      "skipped ../speech-bahasa/LibriSpeech/train-clean-100/8051/118101/8051-118101-0026.flac\n"
     ]
    },
    {
     "name": "stderr",
     "output_type": "stream",
     "text": [
      " 49%|████▊     | 15142/31159 [09:59<08:33, 31.19it/s]"
     ]
    },
    {
     "name": "stdout",
     "output_type": "stream",
     "text": [
      "skipped ../speech-bahasa/LibriSpeech/train-clean-100/8051/118101/8051-118101-0035.flac\n"
     ]
    },
    {
     "name": "stderr",
     "output_type": "stream",
     "text": [
      " 49%|████▊     | 15148/31159 [09:59<07:49, 34.08it/s]"
     ]
    },
    {
     "name": "stdout",
     "output_type": "stream",
     "text": [
      "skipped ../speech-bahasa/LibriSpeech/train-clean-100/3214/167606/3214-167606-0005.flac\n",
      "skipped ../speech-bahasa/LibriSpeech/train-clean-100/3214/167606/3214-167606-0006.flac\n",
      "skipped ../speech-bahasa/LibriSpeech/train-clean-100/3214/167606/3214-167606-0008.flac\n",
      "skipped ../speech-bahasa/LibriSpeech/train-clean-100/3214/167606/3214-167606-0012.flac\n"
     ]
    },
    {
     "name": "stderr",
     "output_type": "stream",
     "text": [
      " 49%|████▊     | 15164/31159 [10:00<12:56, 20.61it/s]"
     ]
    },
    {
     "name": "stdout",
     "output_type": "stream",
     "text": [
      "skipped ../speech-bahasa/LibriSpeech/train-clean-100/3214/167606/3214-167606-0023.flac\n",
      "skipped ../speech-bahasa/LibriSpeech/train-clean-100/3214/167606/3214-167606-0026.flac\n",
      "skipped ../speech-bahasa/LibriSpeech/train-clean-100/3214/167606/3214-167606-0027.flac\n"
     ]
    },
    {
     "name": "stderr",
     "output_type": "stream",
     "text": [
      " 49%|████▊     | 15174/31159 [10:00<09:59, 26.66it/s]"
     ]
    },
    {
     "name": "stdout",
     "output_type": "stream",
     "text": [
      "skipped ../speech-bahasa/LibriSpeech/train-clean-100/3214/167606/3214-167606-0032.flac\n",
      "skipped ../speech-bahasa/LibriSpeech/train-clean-100/3214/167606/3214-167606-0036.flac\n"
     ]
    },
    {
     "name": "stderr",
     "output_type": "stream",
     "text": [
      " 49%|████▉     | 15211/31159 [10:01<07:45, 34.27it/s]"
     ]
    },
    {
     "name": "stdout",
     "output_type": "stream",
     "text": [
      "skipped ../speech-bahasa/LibriSpeech/train-clean-100/3214/167602/3214-167602-0032.flac\n",
      "skipped ../speech-bahasa/LibriSpeech/train-clean-100/3214/167602/3214-167602-0033.flac\n",
      "skipped ../speech-bahasa/LibriSpeech/train-clean-100/3214/167602/3214-167602-0034.flac\n"
     ]
    },
    {
     "name": "stderr",
     "output_type": "stream",
     "text": [
      " 49%|████▉     | 15218/31159 [10:02<12:47, 20.77it/s]"
     ]
    },
    {
     "name": "stdout",
     "output_type": "stream",
     "text": [
      "skipped ../speech-bahasa/LibriSpeech/train-clean-100/3214/167607/3214-167607-0001.flac\n"
     ]
    },
    {
     "name": "stderr",
     "output_type": "stream",
     "text": [
      " 49%|████▉     | 15229/31159 [10:02<10:32, 25.17it/s]"
     ]
    },
    {
     "name": "stdout",
     "output_type": "stream",
     "text": [
      "skipped ../speech-bahasa/LibriSpeech/train-clean-100/3214/167607/3214-167607-0012.flac\n"
     ]
    },
    {
     "name": "stderr",
     "output_type": "stream",
     "text": [
      " 49%|████▉     | 15260/31159 [10:03<12:22, 21.41it/s]"
     ]
    },
    {
     "name": "stdout",
     "output_type": "stream",
     "text": [
      "skipped ../speech-bahasa/LibriSpeech/train-clean-100/2384/152900/2384-152900-0002.flac\n"
     ]
    },
    {
     "name": "stderr",
     "output_type": "stream",
     "text": [
      " 49%|████▉     | 15267/31159 [10:04<10:39, 24.87it/s]"
     ]
    },
    {
     "name": "stdout",
     "output_type": "stream",
     "text": [
      "skipped ../speech-bahasa/LibriSpeech/train-clean-100/2384/152900/2384-152900-0009.flac\n"
     ]
    },
    {
     "name": "stderr",
     "output_type": "stream",
     "text": [
      " 49%|████▉     | 15316/31159 [10:06<09:38, 27.39it/s]"
     ]
    },
    {
     "name": "stdout",
     "output_type": "stream",
     "text": [
      "skipped ../speech-bahasa/LibriSpeech/train-clean-100/2384/152900/2384-152900-0056.flac\n",
      "skipped ../speech-bahasa/LibriSpeech/train-clean-100/2384/152900/2384-152900-0059.flac\n"
     ]
    },
    {
     "name": "stderr",
     "output_type": "stream",
     "text": [
      " 49%|████▉     | 15336/31159 [10:06<08:44, 30.15it/s]"
     ]
    },
    {
     "name": "stdout",
     "output_type": "stream",
     "text": [
      "skipped ../speech-bahasa/LibriSpeech/train-clean-100/2384/152900/2384-152900-0080.flac\n"
     ]
    },
    {
     "name": "stderr",
     "output_type": "stream",
     "text": [
      " 49%|████▉     | 15343/31159 [10:07<12:39, 20.82it/s]"
     ]
    },
    {
     "name": "stdout",
     "output_type": "stream",
     "text": [
      "skipped ../speech-bahasa/LibriSpeech/train-clean-100/2384/152900/2384-152900-0085.flac\n",
      "skipped ../speech-bahasa/LibriSpeech/train-clean-100/32/21631/32-21631-0000.flac\n"
     ]
    },
    {
     "name": "stderr",
     "output_type": "stream",
     "text": [
      " 49%|████▉     | 15399/31159 [10:09<10:18, 25.48it/s]"
     ]
    },
    {
     "name": "stdout",
     "output_type": "stream",
     "text": [
      "skipped ../speech-bahasa/LibriSpeech/train-clean-100/32/4137/32-4137-0007.flac\n",
      "skipped ../speech-bahasa/LibriSpeech/train-clean-100/32/4137/32-4137-0010.flac\n"
     ]
    },
    {
     "name": "stderr",
     "output_type": "stream",
     "text": [
      " 49%|████▉     | 15423/31159 [10:10<08:21, 31.36it/s]"
     ]
    },
    {
     "name": "stdout",
     "output_type": "stream",
     "text": [
      "skipped ../speech-bahasa/LibriSpeech/train-clean-100/32/4137/32-4137-0035.flac\n"
     ]
    },
    {
     "name": "stderr",
     "output_type": "stream",
     "text": [
      " 50%|████▉     | 15467/31159 [10:12<08:52, 29.48it/s]"
     ]
    },
    {
     "name": "stdout",
     "output_type": "stream",
     "text": [
      "skipped ../speech-bahasa/LibriSpeech/train-clean-100/8014/280382/8014-280382-0002.flac\n",
      "skipped ../speech-bahasa/LibriSpeech/train-clean-100/8014/280382/8014-280382-0006.flac\n"
     ]
    },
    {
     "name": "stderr",
     "output_type": "stream",
     "text": [
      " 50%|████▉     | 15494/31159 [10:13<09:21, 27.91it/s]"
     ]
    },
    {
     "name": "stdout",
     "output_type": "stream",
     "text": [
      "skipped ../speech-bahasa/LibriSpeech/train-clean-100/8014/112586/8014-112586-0012.flac\n",
      "skipped ../speech-bahasa/LibriSpeech/train-clean-100/8014/112586/8014-112586-0016.flac\n"
     ]
    },
    {
     "name": "stderr",
     "output_type": "stream",
     "text": [
      " 50%|████▉     | 15514/31159 [10:13<08:33, 30.47it/s]"
     ]
    },
    {
     "name": "stdout",
     "output_type": "stream",
     "text": [
      "skipped ../speech-bahasa/LibriSpeech/train-clean-100/8014/112602/8014-112602-0014.flac\n"
     ]
    },
    {
     "name": "stderr",
     "output_type": "stream",
     "text": [
      " 50%|████▉     | 15534/31159 [10:14<08:59, 28.97it/s]"
     ]
    },
    {
     "name": "stdout",
     "output_type": "stream",
     "text": [
      "skipped ../speech-bahasa/LibriSpeech/train-clean-100/8014/112602/8014-112602-0032.flac\n",
      "skipped ../speech-bahasa/LibriSpeech/train-clean-100/8014/112602/8014-112602-0036.flac\n"
     ]
    },
    {
     "name": "stderr",
     "output_type": "stream",
     "text": [
      " 50%|████▉     | 15560/31159 [10:15<09:35, 27.10it/s]"
     ]
    },
    {
     "name": "stdout",
     "output_type": "stream",
     "text": [
      "skipped ../speech-bahasa/LibriSpeech/train-clean-100/8630/305213/8630-305213-0017.flac\n"
     ]
    },
    {
     "name": "stderr",
     "output_type": "stream",
     "text": [
      " 50%|████▉     | 15563/31159 [10:15<09:42, 26.76it/s]"
     ]
    },
    {
     "name": "stdout",
     "output_type": "stream",
     "text": [
      "skipped ../speech-bahasa/LibriSpeech/train-clean-100/8630/305213/8630-305213-0026.flac\n",
      "skipped ../speech-bahasa/LibriSpeech/train-clean-100/8630/305213/8630-305213-0029.flac\n",
      "skipped ../speech-bahasa/LibriSpeech/train-clean-100/8630/305213/8630-305213-0030.flac\n"
     ]
    },
    {
     "name": "stderr",
     "output_type": "stream",
     "text": [
      " 50%|████▉     | 15578/31159 [10:16<10:40, 24.33it/s]"
     ]
    },
    {
     "name": "stdout",
     "output_type": "stream",
     "text": [
      "skipped ../speech-bahasa/LibriSpeech/train-clean-100/8630/305213/8630-305213-0037.flac\n"
     ]
    },
    {
     "name": "stderr",
     "output_type": "stream",
     "text": [
      " 50%|█████     | 15594/31159 [10:17<10:00, 25.93it/s]"
     ]
    },
    {
     "name": "stdout",
     "output_type": "stream",
     "text": [
      "skipped ../speech-bahasa/LibriSpeech/train-clean-100/8630/305213/8630-305213-0053.flac\n"
     ]
    },
    {
     "name": "stderr",
     "output_type": "stream",
     "text": [
      " 50%|█████     | 15604/31159 [10:17<09:35, 27.03it/s]"
     ]
    },
    {
     "name": "stdout",
     "output_type": "stream",
     "text": [
      "skipped ../speech-bahasa/LibriSpeech/train-clean-100/8630/305212/8630-305212-0007.flac\n",
      "skipped ../speech-bahasa/LibriSpeech/train-clean-100/8630/305212/8630-305212-0008.flac\n",
      "skipped ../speech-bahasa/LibriSpeech/train-clean-100/8630/305212/8630-305212-0013.flac\n"
     ]
    },
    {
     "name": "stderr",
     "output_type": "stream",
     "text": [
      " 50%|█████     | 15608/31159 [10:17<09:25, 27.52it/s]"
     ]
    },
    {
     "name": "stdout",
     "output_type": "stream",
     "text": [
      "skipped ../speech-bahasa/LibriSpeech/train-clean-100/8630/305212/8630-305212-0017.flac\n"
     ]
    },
    {
     "name": "stderr",
     "output_type": "stream",
     "text": [
      " 50%|█████     | 15618/31159 [10:18<12:57, 19.99it/s]"
     ]
    },
    {
     "name": "stdout",
     "output_type": "stream",
     "text": [
      "skipped ../speech-bahasa/LibriSpeech/train-clean-100/8630/305212/8630-305212-0022.flac\n"
     ]
    },
    {
     "name": "stderr",
     "output_type": "stream",
     "text": [
      " 50%|█████     | 15649/31159 [10:19<09:57, 25.97it/s]"
     ]
    },
    {
     "name": "stdout",
     "output_type": "stream",
     "text": [
      "skipped ../speech-bahasa/LibriSpeech/train-clean-100/458/126290/458-126290-0012.flac\n"
     ]
    },
    {
     "name": "stderr",
     "output_type": "stream",
     "text": [
      " 50%|█████     | 15659/31159 [10:20<12:48, 20.17it/s]"
     ]
    },
    {
     "name": "stdout",
     "output_type": "stream",
     "text": [
      "skipped ../speech-bahasa/LibriSpeech/train-clean-100/458/126290/458-126290-0017.flac\n"
     ]
    },
    {
     "name": "stderr",
     "output_type": "stream",
     "text": [
      " 50%|█████     | 15669/31159 [10:20<10:28, 24.66it/s]"
     ]
    },
    {
     "name": "stdout",
     "output_type": "stream",
     "text": [
      "skipped ../speech-bahasa/LibriSpeech/train-clean-100/458/126305/458-126305-0009.flac\n"
     ]
    },
    {
     "name": "stderr",
     "output_type": "stream",
     "text": [
      " 50%|█████     | 15708/31159 [10:22<11:04, 23.24it/s]"
     ]
    },
    {
     "name": "stdout",
     "output_type": "stream",
     "text": [
      "skipped ../speech-bahasa/LibriSpeech/train-clean-100/458/126294/458-126294-0003.flac\n"
     ]
    },
    {
     "name": "stderr",
     "output_type": "stream",
     "text": [
      " 50%|█████     | 15720/31159 [10:22<09:19, 27.61it/s]"
     ]
    },
    {
     "name": "stdout",
     "output_type": "stream",
     "text": [
      "skipped ../speech-bahasa/LibriSpeech/train-clean-100/458/126294/458-126294-0014.flac\n",
      "skipped ../speech-bahasa/LibriSpeech/train-clean-100/8226/274371/8226-274371-0000.flac\n"
     ]
    },
    {
     "name": "stderr",
     "output_type": "stream",
     "text": [
      " 50%|█████     | 15725/31159 [10:22<08:38, 29.75it/s]"
     ]
    },
    {
     "name": "stdout",
     "output_type": "stream",
     "text": [
      "skipped ../speech-bahasa/LibriSpeech/train-clean-100/8226/274371/8226-274371-0002.flac\n",
      "skipped ../speech-bahasa/LibriSpeech/train-clean-100/8226/274371/8226-274371-0003.flac\n"
     ]
    },
    {
     "name": "stderr",
     "output_type": "stream",
     "text": [
      " 51%|█████     | 15801/31159 [10:25<09:57, 25.68it/s]"
     ]
    },
    {
     "name": "stdout",
     "output_type": "stream",
     "text": [
      "skipped ../speech-bahasa/LibriSpeech/train-clean-100/8226/274369/8226-274369-0024.flac\n"
     ]
    },
    {
     "name": "stderr",
     "output_type": "stream",
     "text": [
      " 51%|█████     | 15824/31159 [10:26<09:24, 27.15it/s]"
     ]
    },
    {
     "name": "stdout",
     "output_type": "stream",
     "text": [
      "skipped ../speech-bahasa/LibriSpeech/train-clean-100/8226/274369/8226-274369-0052.flac\n"
     ]
    },
    {
     "name": "stderr",
     "output_type": "stream",
     "text": [
      " 51%|█████     | 15864/31159 [10:28<10:35, 24.07it/s]"
     ]
    },
    {
     "name": "stdout",
     "output_type": "stream",
     "text": [
      "skipped ../speech-bahasa/LibriSpeech/train-clean-100/2836/5354/2836-5354-0024.flac\n"
     ]
    },
    {
     "name": "stderr",
     "output_type": "stream",
     "text": [
      " 51%|█████     | 15889/31159 [10:29<09:21, 27.21it/s]"
     ]
    },
    {
     "name": "stdout",
     "output_type": "stream",
     "text": [
      "skipped ../speech-bahasa/LibriSpeech/train-clean-100/2836/5354/2836-5354-0046.flac\n"
     ]
    },
    {
     "name": "stderr",
     "output_type": "stream",
     "text": [
      " 51%|█████     | 15901/31159 [10:30<09:08, 27.81it/s]"
     ]
    },
    {
     "name": "stdout",
     "output_type": "stream",
     "text": [
      "skipped ../speech-bahasa/LibriSpeech/train-clean-100/2836/5355/2836-5355-0005.flac\n",
      "skipped ../speech-bahasa/LibriSpeech/train-clean-100/2836/5355/2836-5355-0006.flac\n",
      "skipped ../speech-bahasa/LibriSpeech/train-clean-100/2836/5355/2836-5355-0009.flac\n"
     ]
    },
    {
     "name": "stderr",
     "output_type": "stream",
     "text": [
      " 51%|█████     | 15918/31159 [10:31<11:49, 21.49it/s]"
     ]
    },
    {
     "name": "stdout",
     "output_type": "stream",
     "text": [
      "skipped ../speech-bahasa/LibriSpeech/train-clean-100/2836/5355/2836-5355-0022.flac\n"
     ]
    },
    {
     "name": "stderr",
     "output_type": "stream",
     "text": [
      " 51%|█████     | 15931/31159 [10:31<11:52, 21.37it/s]"
     ]
    },
    {
     "name": "stdout",
     "output_type": "stream",
     "text": [
      "skipped ../speech-bahasa/LibriSpeech/train-clean-100/2836/5355/2836-5355-0035.flac\n"
     ]
    },
    {
     "name": "stderr",
     "output_type": "stream",
     "text": [
      " 51%|█████     | 15946/31159 [10:32<10:01, 25.29it/s]"
     ]
    },
    {
     "name": "stdout",
     "output_type": "stream",
     "text": [
      "skipped ../speech-bahasa/LibriSpeech/train-clean-100/226/131533/226-131533-0002.flac\n"
     ]
    },
    {
     "name": "stderr",
     "output_type": "stream",
     "text": [
      " 51%|█████     | 15957/31159 [10:32<12:04, 20.98it/s]"
     ]
    },
    {
     "name": "stdout",
     "output_type": "stream",
     "text": [
      "skipped ../speech-bahasa/LibriSpeech/train-clean-100/226/131533/226-131533-0006.flac\n"
     ]
    },
    {
     "name": "stderr",
     "output_type": "stream",
     "text": [
      " 51%|█████▏    | 15970/31159 [10:33<10:02, 25.20it/s]"
     ]
    },
    {
     "name": "stdout",
     "output_type": "stream",
     "text": [
      "skipped ../speech-bahasa/LibriSpeech/train-clean-100/226/131533/226-131533-0021.flac\n"
     ]
    },
    {
     "name": "stderr",
     "output_type": "stream",
     "text": [
      " 51%|█████▏    | 15990/31159 [10:34<09:31, 26.55it/s]"
     ]
    },
    {
     "name": "stdout",
     "output_type": "stream",
     "text": [
      "skipped ../speech-bahasa/LibriSpeech/train-clean-100/226/122538/226-122538-0002.flac\n",
      "skipped ../speech-bahasa/LibriSpeech/train-clean-100/226/122538/226-122538-0005.flac\n"
     ]
    },
    {
     "name": "stderr",
     "output_type": "stream",
     "text": [
      " 51%|█████▏    | 15997/31159 [10:34<13:24, 18.85it/s]"
     ]
    },
    {
     "name": "stdout",
     "output_type": "stream",
     "text": [
      "skipped ../speech-bahasa/LibriSpeech/train-clean-100/226/122538/226-122538-0010.flac\n",
      "skipped ../speech-bahasa/LibriSpeech/train-clean-100/226/122538/226-122538-0014.flac\n"
     ]
    },
    {
     "name": "stderr",
     "output_type": "stream",
     "text": [
      " 51%|█████▏    | 16010/31159 [10:35<10:32, 23.96it/s]"
     ]
    },
    {
     "name": "stdout",
     "output_type": "stream",
     "text": [
      "skipped ../speech-bahasa/LibriSpeech/train-clean-100/226/122538/226-122538-0024.flac\n"
     ]
    },
    {
     "name": "stderr",
     "output_type": "stream",
     "text": [
      " 51%|█████▏    | 16024/31159 [10:35<11:02, 22.85it/s]"
     ]
    },
    {
     "name": "stdout",
     "output_type": "stream",
     "text": [
      "skipped ../speech-bahasa/LibriSpeech/train-clean-100/226/131532/226-131532-0001.flac\n",
      "skipped ../speech-bahasa/LibriSpeech/train-clean-100/226/131532/226-131532-0003.flac\n"
     ]
    },
    {
     "name": "stderr",
     "output_type": "stream",
     "text": [
      " 51%|█████▏    | 16034/31159 [10:36<10:02, 25.10it/s]"
     ]
    },
    {
     "name": "stdout",
     "output_type": "stream",
     "text": [
      "skipped ../speech-bahasa/LibriSpeech/train-clean-100/226/131532/226-131532-0012.flac\n"
     ]
    },
    {
     "name": "stderr",
     "output_type": "stream",
     "text": [
      " 52%|█████▏    | 16051/31159 [10:36<09:06, 27.64it/s]"
     ]
    },
    {
     "name": "stdout",
     "output_type": "stream",
     "text": [
      "skipped ../speech-bahasa/LibriSpeech/train-clean-100/226/131532/226-131532-0027.flac\n",
      "skipped ../speech-bahasa/LibriSpeech/train-clean-100/226/131532/226-131532-0030.flac\n"
     ]
    },
    {
     "name": "stderr",
     "output_type": "stream",
     "text": [
      " 52%|█████▏    | 16099/31159 [10:39<09:52, 25.41it/s]"
     ]
    },
    {
     "name": "stdout",
     "output_type": "stream",
     "text": [
      "skipped ../speech-bahasa/LibriSpeech/train-clean-100/2518/154825/2518-154825-0041.flac\n"
     ]
    },
    {
     "name": "stderr",
     "output_type": "stream",
     "text": [
      " 52%|█████▏    | 16103/31159 [10:39<09:32, 26.29it/s]"
     ]
    },
    {
     "name": "stdout",
     "output_type": "stream",
     "text": [
      "skipped ../speech-bahasa/LibriSpeech/train-clean-100/2518/154825/2518-154825-0047.flac\n",
      "skipped ../speech-bahasa/LibriSpeech/train-clean-100/2518/154825/2518-154825-0051.flac\n"
     ]
    },
    {
     "name": "stderr",
     "output_type": "stream",
     "text": [
      " 52%|█████▏    | 16147/31159 [10:41<09:08, 27.37it/s]"
     ]
    },
    {
     "name": "stdout",
     "output_type": "stream",
     "text": [
      "skipped ../speech-bahasa/LibriSpeech/train-clean-100/2518/154826/2518-154826-0030.flac\n",
      "skipped ../speech-bahasa/LibriSpeech/train-clean-100/2518/154826/2518-154826-0031.flac\n",
      "skipped ../speech-bahasa/LibriSpeech/train-clean-100/2518/154826/2518-154826-0037.flac\n"
     ]
    },
    {
     "name": "stderr",
     "output_type": "stream",
     "text": [
      " 52%|█████▏    | 16167/31159 [10:42<10:06, 24.72it/s]"
     ]
    },
    {
     "name": "stdout",
     "output_type": "stream",
     "text": [
      "skipped ../speech-bahasa/LibriSpeech/train-clean-100/2518/154826/2518-154826-0051.flac\n"
     ]
    },
    {
     "name": "stderr",
     "output_type": "stream",
     "text": [
      " 52%|█████▏    | 16224/31159 [10:44<08:46, 28.35it/s]"
     ]
    },
    {
     "name": "stdout",
     "output_type": "stream",
     "text": [
      "skipped ../speech-bahasa/LibriSpeech/train-clean-100/4830/25898/4830-25898-0055.flac\n"
     ]
    },
    {
     "name": "stderr",
     "output_type": "stream",
     "text": [
      " 52%|█████▏    | 16231/31159 [10:44<08:28, 29.35it/s]"
     ]
    },
    {
     "name": "stdout",
     "output_type": "stream",
     "text": [
      "skipped ../speech-bahasa/LibriSpeech/train-clean-100/4830/25904/4830-25904-0008.flac\n"
     ]
    },
    {
     "name": "stderr",
     "output_type": "stream",
     "text": [
      " 52%|█████▏    | 16253/31159 [10:45<09:21, 26.56it/s]"
     ]
    },
    {
     "name": "stdout",
     "output_type": "stream",
     "text": [
      "skipped ../speech-bahasa/LibriSpeech/train-clean-100/4830/25904/4830-25904-0028.flac\n",
      "skipped ../speech-bahasa/LibriSpeech/train-clean-100/4830/25904/4830-25904-0029.flac\n"
     ]
    },
    {
     "name": "stderr",
     "output_type": "stream",
     "text": [
      " 52%|█████▏    | 16262/31159 [10:46<09:40, 25.65it/s]"
     ]
    },
    {
     "name": "stdout",
     "output_type": "stream",
     "text": [
      "skipped ../speech-bahasa/LibriSpeech/train-clean-100/4830/25904/4830-25904-0037.flac\n",
      "skipped ../speech-bahasa/LibriSpeech/train-clean-100/4830/25904/4830-25904-0041.flac\n"
     ]
    },
    {
     "name": "stderr",
     "output_type": "stream",
     "text": [
      " 52%|█████▏    | 16286/31159 [10:47<11:04, 22.37it/s]"
     ]
    },
    {
     "name": "stdout",
     "output_type": "stream",
     "text": [
      "skipped ../speech-bahasa/LibriSpeech/train-clean-100/4137/11701/4137-11701-0010.flac\n"
     ]
    },
    {
     "name": "stderr",
     "output_type": "stream",
     "text": [
      " 52%|█████▏    | 16301/31159 [10:47<08:58, 27.61it/s]"
     ]
    },
    {
     "name": "stdout",
     "output_type": "stream",
     "text": [
      "skipped ../speech-bahasa/LibriSpeech/train-clean-100/4137/11701/4137-11701-0026.flac\n"
     ]
    },
    {
     "name": "stderr",
     "output_type": "stream",
     "text": [
      " 52%|█████▏    | 16316/31159 [10:48<08:16, 29.88it/s]"
     ]
    },
    {
     "name": "stdout",
     "output_type": "stream",
     "text": [
      "skipped ../speech-bahasa/LibriSpeech/train-clean-100/4137/11701/4137-11701-0041.flac\n"
     ]
    },
    {
     "name": "stderr",
     "output_type": "stream",
     "text": [
      " 52%|█████▏    | 16336/31159 [10:49<09:39, 25.58it/s]"
     ]
    },
    {
     "name": "stdout",
     "output_type": "stream",
     "text": [
      "skipped ../speech-bahasa/LibriSpeech/train-clean-100/4137/11702/4137-11702-0005.flac\n"
     ]
    },
    {
     "name": "stderr",
     "output_type": "stream",
     "text": [
      " 52%|█████▏    | 16340/31159 [10:49<09:21, 26.40it/s]"
     ]
    },
    {
     "name": "stdout",
     "output_type": "stream",
     "text": [
      "skipped ../speech-bahasa/LibriSpeech/train-clean-100/4137/11702/4137-11702-0012.flac\n"
     ]
    },
    {
     "name": "stderr",
     "output_type": "stream",
     "text": [
      " 52%|█████▏    | 16355/31159 [10:49<08:09, 30.23it/s]"
     ]
    },
    {
     "name": "stdout",
     "output_type": "stream",
     "text": [
      "skipped ../speech-bahasa/LibriSpeech/train-clean-100/4137/11702/4137-11702-0023.flac\n"
     ]
    },
    {
     "name": "stderr",
     "output_type": "stream",
     "text": [
      " 53%|█████▎    | 16366/31159 [10:50<13:11, 18.69it/s]"
     ]
    },
    {
     "name": "stdout",
     "output_type": "stream",
     "text": [
      "skipped ../speech-bahasa/LibriSpeech/train-clean-100/4137/11702/4137-11702-0038.flac\n"
     ]
    },
    {
     "name": "stderr",
     "output_type": "stream",
     "text": [
      " 53%|█████▎    | 16412/31159 [10:52<11:11, 21.95it/s]"
     ]
    },
    {
     "name": "stdout",
     "output_type": "stream",
     "text": [
      "skipped ../speech-bahasa/LibriSpeech/train-clean-100/4397/15678/4397-15678-0021.flac\n"
     ]
    },
    {
     "name": "stderr",
     "output_type": "stream",
     "text": [
      " 53%|█████▎    | 16441/31159 [10:53<08:15, 29.69it/s]"
     ]
    },
    {
     "name": "stdout",
     "output_type": "stream",
     "text": [
      "skipped ../speech-bahasa/LibriSpeech/train-clean-100/4397/15666/4397-15666-0006.flac\n",
      "skipped ../speech-bahasa/LibriSpeech/train-clean-100/4397/15666/4397-15666-0007.flac\n"
     ]
    },
    {
     "name": "stderr",
     "output_type": "stream",
     "text": [
      " 53%|█████▎    | 16456/31159 [10:54<10:02, 24.40it/s]"
     ]
    },
    {
     "name": "stdout",
     "output_type": "stream",
     "text": [
      "skipped ../speech-bahasa/LibriSpeech/train-clean-100/4397/15666/4397-15666-0020.flac\n",
      "skipped ../speech-bahasa/LibriSpeech/train-clean-100/4397/15666/4397-15666-0023.flac\n"
     ]
    },
    {
     "name": "stderr",
     "output_type": "stream",
     "text": [
      " 53%|█████▎    | 16475/31159 [10:55<09:20, 26.21it/s]"
     ]
    },
    {
     "name": "stdout",
     "output_type": "stream",
     "text": [
      "skipped ../speech-bahasa/LibriSpeech/train-clean-100/4397/15668/4397-15668-0012.flac\n",
      "skipped ../speech-bahasa/LibriSpeech/train-clean-100/4397/15668/4397-15668-0018.flac\n"
     ]
    },
    {
     "name": "stderr",
     "output_type": "stream",
     "text": [
      " 53%|█████▎    | 16482/31159 [10:55<09:26, 25.89it/s]"
     ]
    },
    {
     "name": "stdout",
     "output_type": "stream",
     "text": [
      "skipped ../speech-bahasa/LibriSpeech/train-clean-100/4397/15668/4397-15668-0025.flac\n"
     ]
    },
    {
     "name": "stderr",
     "output_type": "stream",
     "text": [
      " 53%|█████▎    | 16500/31159 [10:56<09:35, 25.46it/s]"
     ]
    },
    {
     "name": "stdout",
     "output_type": "stream",
     "text": [
      "skipped ../speech-bahasa/LibriSpeech/train-clean-100/4397/15668/4397-15668-0039.flac\n"
     ]
    },
    {
     "name": "stderr",
     "output_type": "stream",
     "text": [
      " 53%|█████▎    | 16535/31159 [10:57<11:44, 20.76it/s]"
     ]
    },
    {
     "name": "stdout",
     "output_type": "stream",
     "text": [
      "skipped ../speech-bahasa/LibriSpeech/train-clean-100/7067/76048/7067-76048-0032.flac\n"
     ]
    },
    {
     "name": "stderr",
     "output_type": "stream",
     "text": [
      " 53%|█████▎    | 16549/31159 [10:58<08:48, 27.63it/s]"
     ]
    },
    {
     "name": "stdout",
     "output_type": "stream",
     "text": [
      "skipped ../speech-bahasa/LibriSpeech/train-clean-100/7067/76048/7067-76048-0046.flac\n"
     ]
    },
    {
     "name": "stderr",
     "output_type": "stream",
     "text": [
      " 53%|█████▎    | 16557/31159 [10:58<08:42, 27.96it/s]"
     ]
    },
    {
     "name": "stdout",
     "output_type": "stream",
     "text": [
      "skipped ../speech-bahasa/LibriSpeech/train-clean-100/7067/76048/7067-76048-0055.flac\n"
     ]
    },
    {
     "name": "stderr",
     "output_type": "stream",
     "text": [
      " 53%|█████▎    | 16577/31159 [10:59<12:24, 19.59it/s]"
     ]
    },
    {
     "name": "stdout",
     "output_type": "stream",
     "text": [
      "skipped ../speech-bahasa/LibriSpeech/train-clean-100/7067/76047/7067-76047-0015.flac\n",
      "skipped ../speech-bahasa/LibriSpeech/train-clean-100/7067/76047/7067-76047-0016.flac\n"
     ]
    },
    {
     "name": "stderr",
     "output_type": "stream",
     "text": [
      " 53%|█████▎    | 16594/31159 [11:00<08:47, 27.62it/s]"
     ]
    },
    {
     "name": "stdout",
     "output_type": "stream",
     "text": [
      "skipped ../speech-bahasa/LibriSpeech/train-clean-100/7067/76047/7067-76047-0031.flac\n",
      "skipped ../speech-bahasa/LibriSpeech/train-clean-100/7067/76047/7067-76047-0032.flac\n",
      "skipped ../speech-bahasa/LibriSpeech/train-clean-100/7067/76047/7067-76047-0033.flac\n"
     ]
    },
    {
     "name": "stderr",
     "output_type": "stream",
     "text": [
      " 53%|█████▎    | 16602/31159 [11:00<08:56, 27.11it/s]"
     ]
    },
    {
     "name": "stdout",
     "output_type": "stream",
     "text": [
      "skipped ../speech-bahasa/LibriSpeech/train-clean-100/7067/76047/7067-76047-0039.flac\n"
     ]
    },
    {
     "name": "stderr",
     "output_type": "stream",
     "text": [
      " 53%|█████▎    | 16628/31159 [11:01<10:04, 24.02it/s]"
     ]
    },
    {
     "name": "stdout",
     "output_type": "stream",
     "text": [
      "skipped ../speech-bahasa/LibriSpeech/train-clean-100/1069/133699/1069-133699-0016.flac\n"
     ]
    },
    {
     "name": "stderr",
     "output_type": "stream",
     "text": [
      " 53%|█████▎    | 16638/31159 [11:01<09:48, 24.66it/s]"
     ]
    },
    {
     "name": "stdout",
     "output_type": "stream",
     "text": [
      "skipped ../speech-bahasa/LibriSpeech/train-clean-100/1069/133699/1069-133699-0025.flac\n"
     ]
    },
    {
     "name": "stderr",
     "output_type": "stream",
     "text": [
      " 53%|█████▎    | 16645/31159 [11:02<08:52, 27.24it/s]"
     ]
    },
    {
     "name": "stdout",
     "output_type": "stream",
     "text": [
      "skipped ../speech-bahasa/LibriSpeech/train-clean-100/1069/133699/1069-133699-0032.flac\n",
      "skipped ../speech-bahasa/LibriSpeech/train-clean-100/1069/133699/1069-133699-0033.flac\n",
      "skipped ../speech-bahasa/LibriSpeech/train-clean-100/1069/133699/1069-133699-0037.flac\n"
     ]
    },
    {
     "name": "stderr",
     "output_type": "stream",
     "text": [
      " 54%|█████▎    | 16683/31159 [11:03<09:06, 26.50it/s]"
     ]
    },
    {
     "name": "stdout",
     "output_type": "stream",
     "text": [
      "skipped ../speech-bahasa/LibriSpeech/train-clean-100/1069/133709/1069-133709-0016.flac\n",
      "skipped ../speech-bahasa/LibriSpeech/train-clean-100/1069/133709/1069-133709-0021.flac\n"
     ]
    },
    {
     "name": "stderr",
     "output_type": "stream",
     "text": [
      " 54%|█████▎    | 16691/31159 [11:04<08:31, 28.31it/s]"
     ]
    },
    {
     "name": "stdout",
     "output_type": "stream",
     "text": [
      "skipped ../speech-bahasa/LibriSpeech/train-clean-100/1069/133709/1069-133709-0025.flac\n",
      "skipped ../speech-bahasa/LibriSpeech/train-clean-100/1069/133709/1069-133709-0030.flac\n"
     ]
    },
    {
     "name": "stderr",
     "output_type": "stream",
     "text": [
      " 54%|█████▎    | 16711/31159 [11:05<10:06, 23.83it/s]"
     ]
    },
    {
     "name": "stdout",
     "output_type": "stream",
     "text": [
      "skipped ../speech-bahasa/LibriSpeech/train-clean-100/1069/133709/1069-133709-0043.flac\n"
     ]
    },
    {
     "name": "stderr",
     "output_type": "stream",
     "text": [
      " 54%|█████▎    | 16734/31159 [11:05<08:04, 29.80it/s]"
     ]
    },
    {
     "name": "stdout",
     "output_type": "stream",
     "text": [
      "skipped ../speech-bahasa/LibriSpeech/train-clean-100/4441/76263/4441-76263-0010.flac\n"
     ]
    },
    {
     "name": "stderr",
     "output_type": "stream",
     "text": [
      " 54%|█████▍    | 16774/31159 [11:07<07:57, 30.14it/s]"
     ]
    },
    {
     "name": "stdout",
     "output_type": "stream",
     "text": [
      "skipped ../speech-bahasa/LibriSpeech/train-clean-100/4441/76250/4441-76250-0004.flac\n"
     ]
    },
    {
     "name": "stderr",
     "output_type": "stream",
     "text": [
      " 54%|█████▍    | 16806/31159 [11:08<08:34, 27.91it/s]"
     ]
    },
    {
     "name": "stdout",
     "output_type": "stream",
     "text": [
      "skipped ../speech-bahasa/LibriSpeech/train-clean-100/4441/76250/4441-76250-0035.flac\n",
      "skipped ../speech-bahasa/LibriSpeech/train-clean-100/4441/76250/4441-76250-0038.flac\n"
     ]
    },
    {
     "name": "stderr",
     "output_type": "stream",
     "text": [
      " 54%|█████▍    | 16826/31159 [11:09<07:26, 32.07it/s]"
     ]
    },
    {
     "name": "stdout",
     "output_type": "stream",
     "text": [
      "skipped ../speech-bahasa/LibriSpeech/train-clean-100/4441/76262/4441-76262-0018.flac\n",
      "skipped ../speech-bahasa/LibriSpeech/train-clean-100/4441/76262/4441-76262-0020.flac\n"
     ]
    },
    {
     "name": "stderr",
     "output_type": "stream",
     "text": [
      " 54%|█████▍    | 16890/31159 [11:11<09:33, 24.89it/s]"
     ]
    },
    {
     "name": "stdout",
     "output_type": "stream",
     "text": [
      "skipped ../speech-bahasa/LibriSpeech/train-clean-100/1081/125237/1081-125237-0030.flac\n"
     ]
    },
    {
     "name": "stderr",
     "output_type": "stream",
     "text": [
      " 54%|█████▍    | 16903/31159 [11:12<08:25, 28.18it/s]"
     ]
    },
    {
     "name": "stdout",
     "output_type": "stream",
     "text": [
      "skipped ../speech-bahasa/LibriSpeech/train-clean-100/1081/125237/1081-125237-0046.flac\n"
     ]
    },
    {
     "name": "stderr",
     "output_type": "stream",
     "text": [
      " 54%|█████▍    | 16911/31159 [11:12<07:52, 30.16it/s]"
     ]
    },
    {
     "name": "stdout",
     "output_type": "stream",
     "text": [
      "skipped ../speech-bahasa/LibriSpeech/train-clean-100/1081/125237/1081-125237-0053.flac\n"
     ]
    },
    {
     "name": "stderr",
     "output_type": "stream",
     "text": [
      " 54%|█████▍    | 16923/31159 [11:13<08:12, 28.90it/s]"
     ]
    },
    {
     "name": "stdout",
     "output_type": "stream",
     "text": [
      "skipped ../speech-bahasa/LibriSpeech/train-clean-100/1081/125237/1081-125237-0069.flac\n"
     ]
    },
    {
     "name": "stderr",
     "output_type": "stream",
     "text": [
      " 54%|█████▍    | 16945/31159 [11:14<08:50, 26.81it/s]"
     ]
    },
    {
     "name": "stdout",
     "output_type": "stream",
     "text": [
      "skipped ../speech-bahasa/LibriSpeech/train-clean-100/1081/125237/1081-125237-0085.flac\n"
     ]
    },
    {
     "name": "stderr",
     "output_type": "stream",
     "text": [
      " 54%|█████▍    | 16963/31159 [11:14<07:01, 33.69it/s]"
     ]
    },
    {
     "name": "stdout",
     "output_type": "stream",
     "text": [
      "skipped ../speech-bahasa/LibriSpeech/train-clean-100/1081/125237/1081-125237-0104.flac\n"
     ]
    },
    {
     "name": "stderr",
     "output_type": "stream",
     "text": [
      " 54%|█████▍    | 16971/31159 [11:14<07:20, 32.23it/s]"
     ]
    },
    {
     "name": "stdout",
     "output_type": "stream",
     "text": [
      "skipped ../speech-bahasa/LibriSpeech/train-clean-100/5867/48852/5867-48852-0002.flac\n"
     ]
    },
    {
     "name": "stderr",
     "output_type": "stream",
     "text": [
      " 55%|█████▍    | 17015/31159 [11:16<09:08, 25.80it/s]"
     ]
    },
    {
     "name": "stdout",
     "output_type": "stream",
     "text": [
      "skipped ../speech-bahasa/LibriSpeech/train-clean-100/5867/48852/5867-48852-0045.flac\n"
     ]
    },
    {
     "name": "stderr",
     "output_type": "stream",
     "text": [
      " 55%|█████▍    | 17033/31159 [11:17<09:35, 24.56it/s]"
     ]
    },
    {
     "name": "stdout",
     "output_type": "stream",
     "text": [
      "skipped ../speech-bahasa/LibriSpeech/train-clean-100/5867/48852/5867-48852-0057.flac\n"
     ]
    },
    {
     "name": "stderr",
     "output_type": "stream",
     "text": [
      " 55%|█████▍    | 17060/31159 [11:18<07:55, 29.64it/s]"
     ]
    },
    {
     "name": "stdout",
     "output_type": "stream",
     "text": [
      "skipped ../speech-bahasa/LibriSpeech/train-clean-100/5867/48852/5867-48852-0085.flac\n"
     ]
    },
    {
     "name": "stderr",
     "output_type": "stream",
     "text": [
      " 55%|█████▍    | 17081/31159 [11:19<08:38, 27.14it/s]"
     ]
    },
    {
     "name": "stdout",
     "output_type": "stream",
     "text": [
      "skipped ../speech-bahasa/LibriSpeech/train-clean-100/5867/48852/5867-48852-0107.flac\n"
     ]
    },
    {
     "name": "stderr",
     "output_type": "stream",
     "text": [
      " 55%|█████▍    | 17089/31159 [11:19<07:45, 30.21it/s]"
     ]
    },
    {
     "name": "stdout",
     "output_type": "stream",
     "text": [
      "skipped ../speech-bahasa/LibriSpeech/train-clean-100/6415/116629/6415-116629-0003.flac\n"
     ]
    },
    {
     "name": "stderr",
     "output_type": "stream",
     "text": [
      " 55%|█████▍    | 17123/31159 [11:21<09:14, 25.32it/s]"
     ]
    },
    {
     "name": "stdout",
     "output_type": "stream",
     "text": [
      "skipped ../speech-bahasa/LibriSpeech/train-clean-100/6415/116629/6415-116629-0034.flac\n"
     ]
    },
    {
     "name": "stderr",
     "output_type": "stream",
     "text": [
      " 55%|█████▌    | 17140/31159 [11:21<08:12, 28.49it/s]"
     ]
    },
    {
     "name": "stdout",
     "output_type": "stream",
     "text": [
      "skipped ../speech-bahasa/LibriSpeech/train-clean-100/6415/100596/6415-100596-0010.flac\n"
     ]
    },
    {
     "name": "stderr",
     "output_type": "stream",
     "text": [
      " 55%|█████▌    | 17148/31159 [11:21<07:24, 31.52it/s]"
     ]
    },
    {
     "name": "stdout",
     "output_type": "stream",
     "text": [
      "skipped ../speech-bahasa/LibriSpeech/train-clean-100/6415/100596/6415-100596-0023.flac\n"
     ]
    },
    {
     "name": "stderr",
     "output_type": "stream",
     "text": [
      " 55%|█████▌    | 17176/31159 [11:23<08:09, 28.56it/s]"
     ]
    },
    {
     "name": "stdout",
     "output_type": "stream",
     "text": [
      "skipped ../speech-bahasa/LibriSpeech/train-clean-100/6415/111615/6415-111615-0011.flac\n",
      "skipped ../speech-bahasa/LibriSpeech/train-clean-100/6415/111615/6415-111615-0015.flac\n"
     ]
    },
    {
     "name": "stderr",
     "output_type": "stream",
     "text": [
      " 55%|█████▌    | 17189/31159 [11:23<08:16, 28.11it/s]"
     ]
    },
    {
     "name": "stdout",
     "output_type": "stream",
     "text": [
      "skipped ../speech-bahasa/LibriSpeech/train-clean-100/6415/111615/6415-111615-0024.flac\n"
     ]
    },
    {
     "name": "stderr",
     "output_type": "stream",
     "text": [
      " 55%|█████▌    | 17214/31159 [11:24<08:47, 26.45it/s]"
     ]
    },
    {
     "name": "stdout",
     "output_type": "stream",
     "text": [
      "skipped ../speech-bahasa/LibriSpeech/train-clean-100/6367/74004/6367-74004-0009.flac\n"
     ]
    },
    {
     "name": "stderr",
     "output_type": "stream",
     "text": [
      " 55%|█████▌    | 17221/31159 [11:25<08:35, 27.03it/s]"
     ]
    },
    {
     "name": "stdout",
     "output_type": "stream",
     "text": [
      "skipped ../speech-bahasa/LibriSpeech/train-clean-100/6367/74004/6367-74004-0018.flac\n"
     ]
    },
    {
     "name": "stderr",
     "output_type": "stream",
     "text": [
      " 55%|█████▌    | 17260/31159 [11:26<09:12, 25.15it/s]"
     ]
    },
    {
     "name": "stdout",
     "output_type": "stream",
     "text": [
      "skipped ../speech-bahasa/LibriSpeech/train-clean-100/6367/65536/6367-65536-0019.flac\n",
      "skipped ../speech-bahasa/LibriSpeech/train-clean-100/6367/65536/6367-65536-0024.flac\n"
     ]
    },
    {
     "name": "stderr",
     "output_type": "stream",
     "text": [
      " 55%|█████▌    | 17277/31159 [11:27<09:09, 25.25it/s]"
     ]
    },
    {
     "name": "stdout",
     "output_type": "stream",
     "text": [
      "skipped ../speech-bahasa/LibriSpeech/train-clean-100/6367/65536/6367-65536-0035.flac\n"
     ]
    },
    {
     "name": "stderr",
     "output_type": "stream",
     "text": [
      " 56%|█████▌    | 17294/31159 [11:28<10:09, 22.73it/s]"
     ]
    },
    {
     "name": "stdout",
     "output_type": "stream",
     "text": [
      "skipped ../speech-bahasa/LibriSpeech/train-clean-100/6367/65536/6367-65536-0053.flac\n"
     ]
    },
    {
     "name": "stderr",
     "output_type": "stream",
     "text": [
      " 56%|█████▌    | 17301/31159 [11:28<09:15, 24.95it/s]"
     ]
    },
    {
     "name": "stdout",
     "output_type": "stream",
     "text": [
      "skipped ../speech-bahasa/LibriSpeech/train-clean-100/6367/65536/6367-65536-0061.flac\n"
     ]
    },
    {
     "name": "stderr",
     "output_type": "stream",
     "text": [
      " 56%|█████▌    | 17314/31159 [11:28<08:30, 27.13it/s]"
     ]
    },
    {
     "name": "stdout",
     "output_type": "stream",
     "text": [
      "skipped ../speech-bahasa/LibriSpeech/train-clean-100/6367/65536/6367-65536-0073.flac\n"
     ]
    },
    {
     "name": "stderr",
     "output_type": "stream",
     "text": [
      " 56%|█████▌    | 17329/31159 [11:29<10:37, 21.70it/s]"
     ]
    },
    {
     "name": "stdout",
     "output_type": "stream",
     "text": [
      "skipped ../speech-bahasa/LibriSpeech/train-clean-100/298/126791/298-126791-0012.flac\n",
      "skipped ../speech-bahasa/LibriSpeech/train-clean-100/298/126791/298-126791-0016.flac\n"
     ]
    },
    {
     "name": "stderr",
     "output_type": "stream",
     "text": [
      " 56%|█████▌    | 17336/31159 [11:29<09:26, 24.40it/s]"
     ]
    },
    {
     "name": "stdout",
     "output_type": "stream",
     "text": [
      "skipped ../speech-bahasa/LibriSpeech/train-clean-100/298/126791/298-126791-0020.flac\n"
     ]
    },
    {
     "name": "stderr",
     "output_type": "stream",
     "text": [
      " 56%|█████▌    | 17369/31159 [11:31<11:59, 19.16it/s]"
     ]
    },
    {
     "name": "stdout",
     "output_type": "stream",
     "text": [
      "skipped ../speech-bahasa/LibriSpeech/train-clean-100/298/126791/298-126791-0053.flac\n"
     ]
    },
    {
     "name": "stderr",
     "output_type": "stream",
     "text": [
      " 56%|█████▌    | 17381/31159 [11:31<08:32, 26.90it/s]"
     ]
    },
    {
     "name": "stdout",
     "output_type": "stream",
     "text": [
      "skipped ../speech-bahasa/LibriSpeech/train-clean-100/298/126791/298-126791-0064.flac\n",
      "skipped ../speech-bahasa/LibriSpeech/train-clean-100/298/126791/298-126791-0067.flac\n"
     ]
    },
    {
     "name": "stderr",
     "output_type": "stream",
     "text": [
      " 56%|█████▌    | 17389/31159 [11:32<08:41, 26.41it/s]"
     ]
    },
    {
     "name": "stdout",
     "output_type": "stream",
     "text": [
      "skipped ../speech-bahasa/LibriSpeech/train-clean-100/298/126790/298-126790-0005.flac\n"
     ]
    },
    {
     "name": "stderr",
     "output_type": "stream",
     "text": [
      " 56%|█████▌    | 17400/31159 [11:32<07:51, 29.19it/s]"
     ]
    },
    {
     "name": "stdout",
     "output_type": "stream",
     "text": [
      "skipped ../speech-bahasa/LibriSpeech/train-clean-100/298/126790/298-126790-0014.flac\n",
      "skipped ../speech-bahasa/LibriSpeech/train-clean-100/298/126790/298-126790-0017.flac\n",
      "skipped ../speech-bahasa/LibriSpeech/train-clean-100/298/126790/298-126790-0020.flac\n"
     ]
    },
    {
     "name": "stderr",
     "output_type": "stream",
     "text": [
      " 56%|█████▌    | 17407/31159 [11:32<08:38, 26.50it/s]"
     ]
    },
    {
     "name": "stdout",
     "output_type": "stream",
     "text": [
      "skipped ../speech-bahasa/LibriSpeech/train-clean-100/298/126790/298-126790-0028.flac\n",
      "skipped ../speech-bahasa/LibriSpeech/train-clean-100/298/126790/298-126790-0029.flac\n"
     ]
    },
    {
     "name": "stderr",
     "output_type": "stream",
     "text": [
      " 56%|█████▌    | 17423/31159 [11:33<08:51, 25.82it/s]"
     ]
    },
    {
     "name": "stdout",
     "output_type": "stream",
     "text": [
      "skipped ../speech-bahasa/LibriSpeech/train-clean-100/298/126790/298-126790-0038.flac\n"
     ]
    },
    {
     "name": "stderr",
     "output_type": "stream",
     "text": [
      " 56%|█████▌    | 17439/31159 [11:33<08:37, 26.50it/s]"
     ]
    },
    {
     "name": "stdout",
     "output_type": "stream",
     "text": [
      "skipped ../speech-bahasa/LibriSpeech/train-clean-100/1578/140045/1578-140045-0009.flac\n"
     ]
    },
    {
     "name": "stderr",
     "output_type": "stream",
     "text": [
      " 56%|█████▌    | 17491/31159 [11:36<07:53, 28.88it/s]"
     ]
    },
    {
     "name": "stdout",
     "output_type": "stream",
     "text": [
      "skipped ../speech-bahasa/LibriSpeech/train-clean-100/1578/6379/1578-6379-0032.flac\n"
     ]
    },
    {
     "name": "stderr",
     "output_type": "stream",
     "text": [
      " 56%|█████▌    | 17513/31159 [11:37<08:48, 25.84it/s]"
     ]
    },
    {
     "name": "stdout",
     "output_type": "stream",
     "text": [
      "skipped ../speech-bahasa/LibriSpeech/train-clean-100/1578/140049/1578-140049-0004.flac\n"
     ]
    },
    {
     "name": "stderr",
     "output_type": "stream",
     "text": [
      " 56%|█████▋    | 17533/31159 [11:37<08:06, 28.00it/s]"
     ]
    },
    {
     "name": "stdout",
     "output_type": "stream",
     "text": [
      "skipped ../speech-bahasa/LibriSpeech/train-clean-100/1578/140049/1578-140049-0024.flac\n"
     ]
    },
    {
     "name": "stderr",
     "output_type": "stream",
     "text": [
      " 56%|█████▋    | 17541/31159 [11:38<07:08, 31.79it/s]"
     ]
    },
    {
     "name": "stdout",
     "output_type": "stream",
     "text": [
      "skipped ../speech-bahasa/LibriSpeech/train-clean-100/1578/140049/1578-140049-0031.flac\n",
      "skipped ../speech-bahasa/LibriSpeech/train-clean-100/1578/140049/1578-140049-0035.flac\n",
      "skipped ../speech-bahasa/LibriSpeech/train-clean-100/1578/140049/1578-140049-0036.flac\n"
     ]
    },
    {
     "name": "stderr",
     "output_type": "stream",
     "text": [
      " 56%|█████▋    | 17599/31159 [11:40<10:14, 22.08it/s]"
     ]
    },
    {
     "name": "stdout",
     "output_type": "stream",
     "text": [
      "skipped ../speech-bahasa/LibriSpeech/train-clean-100/7367/86737/7367-86737-0051.flac\n"
     ]
    },
    {
     "name": "stderr",
     "output_type": "stream",
     "text": [
      " 57%|█████▋    | 17612/31159 [11:41<09:07, 24.73it/s]"
     ]
    },
    {
     "name": "stdout",
     "output_type": "stream",
     "text": [
      "skipped ../speech-bahasa/LibriSpeech/train-clean-100/7367/86737/7367-86737-0065.flac\n"
     ]
    },
    {
     "name": "stderr",
     "output_type": "stream",
     "text": [
      " 57%|█████▋    | 17626/31159 [11:41<08:02, 28.06it/s]"
     ]
    },
    {
     "name": "stdout",
     "output_type": "stream",
     "text": [
      "skipped ../speech-bahasa/LibriSpeech/train-clean-100/7367/86737/7367-86737-0077.flac\n"
     ]
    },
    {
     "name": "stderr",
     "output_type": "stream",
     "text": [
      " 57%|█████▋    | 17689/31159 [11:44<07:31, 29.83it/s]"
     ]
    },
    {
     "name": "stdout",
     "output_type": "stream",
     "text": [
      "skipped ../speech-bahasa/LibriSpeech/train-clean-100/6078/54013/6078-54013-0021.flac\n"
     ]
    },
    {
     "name": "stderr",
     "output_type": "stream",
     "text": [
      " 57%|█████▋    | 17697/31159 [11:44<07:05, 31.61it/s]"
     ]
    },
    {
     "name": "stdout",
     "output_type": "stream",
     "text": [
      "skipped ../speech-bahasa/LibriSpeech/train-clean-100/6078/54013/6078-54013-0029.flac\n"
     ]
    },
    {
     "name": "stderr",
     "output_type": "stream",
     "text": [
      " 57%|█████▋    | 17725/31159 [11:45<06:08, 36.46it/s]"
     ]
    },
    {
     "name": "stdout",
     "output_type": "stream",
     "text": [
      "skipped ../speech-bahasa/LibriSpeech/train-clean-100/6078/54013/6078-54013-0056.flac\n",
      "skipped ../speech-bahasa/LibriSpeech/train-clean-100/6078/54013/6078-54013-0061.flac\n"
     ]
    },
    {
     "name": "stderr",
     "output_type": "stream",
     "text": [
      " 57%|█████▋    | 17754/31159 [11:46<06:49, 32.72it/s]"
     ]
    },
    {
     "name": "stdout",
     "output_type": "stream",
     "text": [
      "skipped ../speech-bahasa/LibriSpeech/train-clean-100/6078/54007/6078-54007-0006.flac\n"
     ]
    },
    {
     "name": "stderr",
     "output_type": "stream",
     "text": [
      " 57%|█████▋    | 17762/31159 [11:46<07:33, 29.56it/s]"
     ]
    },
    {
     "name": "stdout",
     "output_type": "stream",
     "text": [
      "skipped ../speech-bahasa/LibriSpeech/train-clean-100/6078/54007/6078-54007-0018.flac\n"
     ]
    },
    {
     "name": "stderr",
     "output_type": "stream",
     "text": [
      " 57%|█████▋    | 17774/31159 [11:47<07:42, 28.93it/s]"
     ]
    },
    {
     "name": "stdout",
     "output_type": "stream",
     "text": [
      "skipped ../speech-bahasa/LibriSpeech/train-clean-100/6078/54007/6078-54007-0033.flac\n"
     ]
    },
    {
     "name": "stderr",
     "output_type": "stream",
     "text": [
      " 57%|█████▋    | 17796/31159 [11:48<08:39, 25.70it/s]"
     ]
    },
    {
     "name": "stdout",
     "output_type": "stream",
     "text": [
      "skipped ../speech-bahasa/LibriSpeech/train-clean-100/6078/54007/6078-54007-0048.flac\n"
     ]
    },
    {
     "name": "stderr",
     "output_type": "stream",
     "text": [
      " 57%|█████▋    | 17814/31159 [11:48<07:50, 28.37it/s]"
     ]
    },
    {
     "name": "stdout",
     "output_type": "stream",
     "text": [
      "skipped ../speech-bahasa/LibriSpeech/train-clean-100/6019/3185/6019-3185-0016.flac\n",
      "skipped ../speech-bahasa/LibriSpeech/train-clean-100/6019/3185/6019-3185-0018.flac\n"
     ]
    },
    {
     "name": "stderr",
     "output_type": "stream",
     "text": [
      " 57%|█████▋    | 17844/31159 [11:50<08:49, 25.13it/s]"
     ]
    },
    {
     "name": "stdout",
     "output_type": "stream",
     "text": [
      "skipped ../speech-bahasa/LibriSpeech/train-clean-100/6019/3185/6019-3185-0046.flac\n",
      "skipped ../speech-bahasa/LibriSpeech/train-clean-100/6019/3185/6019-3185-0051.flac\n"
     ]
    },
    {
     "name": "stderr",
     "output_type": "stream",
     "text": [
      " 57%|█████▋    | 17855/31159 [11:50<08:19, 26.62it/s]"
     ]
    },
    {
     "name": "stdout",
     "output_type": "stream",
     "text": [
      "skipped ../speech-bahasa/LibriSpeech/train-clean-100/6019/3185/6019-3185-0057.flac\n"
     ]
    },
    {
     "name": "stderr",
     "output_type": "stream",
     "text": [
      " 57%|█████▋    | 17889/31159 [11:52<08:13, 26.91it/s]"
     ]
    },
    {
     "name": "stdout",
     "output_type": "stream",
     "text": [
      "skipped ../speech-bahasa/LibriSpeech/train-clean-100/6019/3185/6019-3185-0089.flac\n"
     ]
    },
    {
     "name": "stderr",
     "output_type": "stream",
     "text": [
      " 57%|█████▋    | 17909/31159 [11:52<09:54, 22.27it/s]"
     ]
    },
    {
     "name": "stdout",
     "output_type": "stream",
     "text": [
      "skipped ../speech-bahasa/LibriSpeech/train-clean-100/6019/3185/6019-3185-0108.flac\n",
      "skipped ../speech-bahasa/LibriSpeech/train-clean-100/6019/3185/6019-3185-0110.flac\n"
     ]
    },
    {
     "name": "stderr",
     "output_type": "stream",
     "text": [
      " 57%|█████▋    | 17914/31159 [11:52<08:16, 26.67it/s]"
     ]
    },
    {
     "name": "stdout",
     "output_type": "stream",
     "text": [
      "skipped ../speech-bahasa/LibriSpeech/train-clean-100/7517/100442/7517-100442-0003.flac\n",
      "skipped ../speech-bahasa/LibriSpeech/train-clean-100/7517/100442/7517-100442-0004.flac\n",
      "skipped ../speech-bahasa/LibriSpeech/train-clean-100/7517/100442/7517-100442-0007.flac\n",
      "skipped ../speech-bahasa/LibriSpeech/train-clean-100/7517/100442/7517-100442-0008.flac\n"
     ]
    },
    {
     "name": "stderr",
     "output_type": "stream",
     "text": [
      " 58%|█████▊    | 17939/31159 [11:53<08:36, 25.61it/s]"
     ]
    },
    {
     "name": "stdout",
     "output_type": "stream",
     "text": [
      "skipped ../speech-bahasa/LibriSpeech/train-clean-100/7517/100442/7517-100442-0029.flac\n"
     ]
    },
    {
     "name": "stderr",
     "output_type": "stream",
     "text": [
      " 58%|█████▊    | 17943/31159 [11:54<07:41, 28.65it/s]"
     ]
    },
    {
     "name": "stdout",
     "output_type": "stream",
     "text": [
      "skipped ../speech-bahasa/LibriSpeech/train-clean-100/7517/100437/7517-100437-0000.flac\n",
      "skipped ../speech-bahasa/LibriSpeech/train-clean-100/7517/100437/7517-100437-0001.flac\n"
     ]
    },
    {
     "name": "stderr",
     "output_type": "stream",
     "text": [
      " 58%|█████▊    | 17961/31159 [11:54<09:16, 23.72it/s]"
     ]
    },
    {
     "name": "stdout",
     "output_type": "stream",
     "text": [
      "skipped ../speech-bahasa/LibriSpeech/train-clean-100/7517/100437/7517-100437-0017.flac\n"
     ]
    },
    {
     "name": "stderr",
     "output_type": "stream",
     "text": [
      " 58%|█████▊    | 17973/31159 [11:55<08:58, 24.49it/s]"
     ]
    },
    {
     "name": "stdout",
     "output_type": "stream",
     "text": [
      "skipped ../speech-bahasa/LibriSpeech/train-clean-100/7517/100437/7517-100437-0029.flac\n"
     ]
    },
    {
     "name": "stderr",
     "output_type": "stream",
     "text": [
      " 58%|█████▊    | 18012/31159 [11:57<08:00, 27.34it/s]"
     ]
    },
    {
     "name": "stdout",
     "output_type": "stream",
     "text": [
      "skipped ../speech-bahasa/LibriSpeech/train-clean-100/7517/100429/7517-100429-0029.flac\n",
      "skipped ../speech-bahasa/LibriSpeech/train-clean-100/7780/274562/7780-274562-0001.flac\n"
     ]
    },
    {
     "name": "stderr",
     "output_type": "stream",
     "text": [
      " 58%|█████▊    | 18022/31159 [11:57<08:11, 26.72it/s]"
     ]
    },
    {
     "name": "stdout",
     "output_type": "stream",
     "text": [
      "skipped ../speech-bahasa/LibriSpeech/train-clean-100/7780/274562/7780-274562-0009.flac\n",
      "skipped ../speech-bahasa/LibriSpeech/train-clean-100/7780/274562/7780-274562-0016.flac\n"
     ]
    },
    {
     "name": "stderr",
     "output_type": "stream",
     "text": [
      " 58%|█████▊    | 18031/31159 [11:58<09:01, 24.25it/s]"
     ]
    },
    {
     "name": "stdout",
     "output_type": "stream",
     "text": [
      "skipped ../speech-bahasa/LibriSpeech/train-clean-100/7780/274562/7780-274562-0018.flac\n"
     ]
    },
    {
     "name": "stderr",
     "output_type": "stream",
     "text": [
      " 58%|█████▊    | 18040/31159 [11:58<07:44, 28.24it/s]"
     ]
    },
    {
     "name": "stdout",
     "output_type": "stream",
     "text": [
      "skipped ../speech-bahasa/LibriSpeech/train-clean-100/7780/274562/7780-274562-0026.flac\n",
      "skipped ../speech-bahasa/LibriSpeech/train-clean-100/7780/274562/7780-274562-0027.flac\n"
     ]
    },
    {
     "name": "stderr",
     "output_type": "stream",
     "text": [
      " 58%|█████▊    | 18087/31159 [12:00<08:47, 24.77it/s]"
     ]
    },
    {
     "name": "stdout",
     "output_type": "stream",
     "text": [
      "skipped ../speech-bahasa/LibriSpeech/train-clean-100/7780/274562/7780-274562-0072.flac\n",
      "skipped ../speech-bahasa/LibriSpeech/train-clean-100/7780/274562/7780-274562-0075.flac\n"
     ]
    },
    {
     "name": "stderr",
     "output_type": "stream",
     "text": [
      " 58%|█████▊    | 18212/31159 [12:05<11:28, 18.81it/s]"
     ]
    },
    {
     "name": "stdout",
     "output_type": "stream",
     "text": [
      "skipped ../speech-bahasa/LibriSpeech/train-clean-100/7302/86814/7302-86814-0008.flac\n"
     ]
    },
    {
     "name": "stderr",
     "output_type": "stream",
     "text": [
      " 59%|█████▊    | 18247/31159 [12:06<06:33, 32.79it/s]"
     ]
    },
    {
     "name": "stdout",
     "output_type": "stream",
     "text": [
      "skipped ../speech-bahasa/LibriSpeech/train-clean-100/7302/86814/7302-86814-0043.flac\n"
     ]
    },
    {
     "name": "stderr",
     "output_type": "stream",
     "text": [
      " 59%|█████▊    | 18266/31159 [12:07<08:08, 26.37it/s]"
     ]
    },
    {
     "name": "stdout",
     "output_type": "stream",
     "text": [
      "skipped ../speech-bahasa/LibriSpeech/train-clean-100/8095/274346/8095-274346-0010.flac\n",
      "skipped ../speech-bahasa/LibriSpeech/train-clean-100/8095/274346/8095-274346-0013.flac\n",
      "skipped ../speech-bahasa/LibriSpeech/train-clean-100/8095/274346/8095-274346-0016.flac\n"
     ]
    },
    {
     "name": "stderr",
     "output_type": "stream",
     "text": [
      " 59%|█████▊    | 18282/31159 [12:07<07:43, 27.79it/s]"
     ]
    },
    {
     "name": "stdout",
     "output_type": "stream",
     "text": [
      "skipped ../speech-bahasa/LibriSpeech/train-clean-100/8095/274346/8095-274346-0027.flac\n"
     ]
    },
    {
     "name": "stderr",
     "output_type": "stream",
     "text": [
      " 59%|█████▉    | 18327/31159 [12:09<08:40, 24.65it/s]"
     ]
    },
    {
     "name": "stdout",
     "output_type": "stream",
     "text": [
      "skipped ../speech-bahasa/LibriSpeech/train-clean-100/8095/274345/8095-274345-0016.flac\n"
     ]
    },
    {
     "name": "stderr",
     "output_type": "stream",
     "text": [
      " 59%|█████▉    | 18337/31159 [12:10<08:06, 26.37it/s]"
     ]
    },
    {
     "name": "stdout",
     "output_type": "stream",
     "text": [
      "skipped ../speech-bahasa/LibriSpeech/train-clean-100/8095/274345/8095-274345-0025.flac\n"
     ]
    },
    {
     "name": "stderr",
     "output_type": "stream",
     "text": [
      " 59%|█████▉    | 18347/31159 [12:10<11:04, 19.28it/s]"
     ]
    },
    {
     "name": "stdout",
     "output_type": "stream",
     "text": [
      "skipped ../speech-bahasa/LibriSpeech/train-clean-100/8095/274345/8095-274345-0033.flac\n"
     ]
    },
    {
     "name": "stderr",
     "output_type": "stream",
     "text": [
      " 59%|█████▉    | 18376/31159 [12:11<07:59, 26.66it/s]"
     ]
    },
    {
     "name": "stdout",
     "output_type": "stream",
     "text": [
      "skipped ../speech-bahasa/LibriSpeech/train-clean-100/3947/13260/3947-13260-0009.flac\n"
     ]
    },
    {
     "name": "stderr",
     "output_type": "stream",
     "text": [
      " 59%|█████▉    | 18389/31159 [12:12<09:44, 21.84it/s]"
     ]
    },
    {
     "name": "stdout",
     "output_type": "stream",
     "text": [
      "skipped ../speech-bahasa/LibriSpeech/train-clean-100/3947/13260/3947-13260-0022.flac\n"
     ]
    },
    {
     "name": "stderr",
     "output_type": "stream",
     "text": [
      " 59%|█████▉    | 18400/31159 [12:12<07:57, 26.70it/s]"
     ]
    },
    {
     "name": "stdout",
     "output_type": "stream",
     "text": [
      "skipped ../speech-bahasa/LibriSpeech/train-clean-100/3947/13260/3947-13260-0033.flac\n",
      "skipped ../speech-bahasa/LibriSpeech/train-clean-100/3947/13260/3947-13260-0035.flac\n"
     ]
    },
    {
     "name": "stderr",
     "output_type": "stream",
     "text": [
      " 59%|█████▉    | 18419/31159 [12:13<07:42, 27.53it/s]"
     ]
    },
    {
     "name": "stdout",
     "output_type": "stream",
     "text": [
      "skipped ../speech-bahasa/LibriSpeech/train-clean-100/3947/13262/3947-13262-0000.flac\n"
     ]
    },
    {
     "name": "stderr",
     "output_type": "stream",
     "text": [
      " 59%|█████▉    | 18426/31159 [12:14<10:36, 20.02it/s]"
     ]
    },
    {
     "name": "stdout",
     "output_type": "stream",
     "text": [
      "skipped ../speech-bahasa/LibriSpeech/train-clean-100/3947/13262/3947-13262-0009.flac\n"
     ]
    },
    {
     "name": "stderr",
     "output_type": "stream",
     "text": [
      " 59%|█████▉    | 18438/31159 [12:14<08:03, 26.33it/s]"
     ]
    },
    {
     "name": "stdout",
     "output_type": "stream",
     "text": [
      "skipped ../speech-bahasa/LibriSpeech/train-clean-100/3947/13262/3947-13262-0018.flac\n",
      "skipped ../speech-bahasa/LibriSpeech/train-clean-100/3947/13262/3947-13262-0022.flac\n"
     ]
    },
    {
     "name": "stderr",
     "output_type": "stream",
     "text": [
      " 59%|█████▉    | 18468/31159 [12:15<07:13, 29.27it/s]"
     ]
    },
    {
     "name": "stdout",
     "output_type": "stream",
     "text": [
      "skipped ../speech-bahasa/LibriSpeech/train-clean-100/3947/13262/3947-13262-0051.flac\n"
     ]
    },
    {
     "name": "stderr",
     "output_type": "stream",
     "text": [
      " 59%|█████▉    | 18475/31159 [12:15<10:42, 19.73it/s]"
     ]
    },
    {
     "name": "stdout",
     "output_type": "stream",
     "text": [
      "skipped ../speech-bahasa/LibriSpeech/train-clean-100/2436/2476/2436-2476-0006.flac\n"
     ]
    },
    {
     "name": "stderr",
     "output_type": "stream",
     "text": [
      " 59%|█████▉    | 18493/31159 [12:16<07:53, 26.73it/s]"
     ]
    },
    {
     "name": "stdout",
     "output_type": "stream",
     "text": [
      "skipped ../speech-bahasa/LibriSpeech/train-clean-100/2436/2476/2436-2476-0024.flac\n",
      "skipped ../speech-bahasa/LibriSpeech/train-clean-100/2436/2476/2436-2476-0029.flac\n"
     ]
    },
    {
     "name": "stderr",
     "output_type": "stream",
     "text": [
      " 59%|█████▉    | 18506/31159 [12:16<06:57, 30.33it/s]"
     ]
    },
    {
     "name": "stdout",
     "output_type": "stream",
     "text": [
      "skipped ../speech-bahasa/LibriSpeech/train-clean-100/2436/2476/2436-2476-0039.flac\n"
     ]
    },
    {
     "name": "stderr",
     "output_type": "stream",
     "text": [
      " 59%|█████▉    | 18523/31159 [12:17<09:03, 23.26it/s]"
     ]
    },
    {
     "name": "stdout",
     "output_type": "stream",
     "text": [
      "skipped ../speech-bahasa/LibriSpeech/train-clean-100/2436/2481/2436-2481-0013.flac\n"
     ]
    },
    {
     "name": "stderr",
     "output_type": "stream",
     "text": [
      " 59%|█████▉    | 18534/31159 [12:18<07:30, 28.04it/s]"
     ]
    },
    {
     "name": "stdout",
     "output_type": "stream",
     "text": [
      "skipped ../speech-bahasa/LibriSpeech/train-clean-100/2436/2481/2436-2481-0021.flac\n",
      "skipped ../speech-bahasa/LibriSpeech/train-clean-100/2436/2481/2436-2481-0027.flac\n"
     ]
    },
    {
     "name": "stderr",
     "output_type": "stream",
     "text": [
      " 60%|█████▉    | 18556/31159 [12:18<07:18, 28.72it/s]"
     ]
    },
    {
     "name": "stdout",
     "output_type": "stream",
     "text": [
      "skipped ../speech-bahasa/LibriSpeech/train-clean-100/2436/2477/2436-2477-0007.flac\n",
      "skipped ../speech-bahasa/LibriSpeech/train-clean-100/2436/2477/2436-2477-0010.flac\n"
     ]
    },
    {
     "name": "stderr",
     "output_type": "stream",
     "text": [
      " 60%|█████▉    | 18592/31159 [12:20<08:09, 25.65it/s]"
     ]
    },
    {
     "name": "stdout",
     "output_type": "stream",
     "text": [
      "skipped ../speech-bahasa/LibriSpeech/train-clean-100/1263/141777/1263-141777-0008.flac\n"
     ]
    },
    {
     "name": "stderr",
     "output_type": "stream",
     "text": [
      " 60%|█████▉    | 18649/31159 [12:23<09:14, 22.57it/s]"
     ]
    },
    {
     "name": "stdout",
     "output_type": "stream",
     "text": [
      "skipped ../speech-bahasa/LibriSpeech/train-clean-100/1263/139804/1263-139804-0021.flac\n",
      "skipped ../speech-bahasa/LibriSpeech/train-clean-100/1263/139804/1263-139804-0023.flac\n",
      "skipped ../speech-bahasa/LibriSpeech/train-clean-100/1263/139804/1263-139804-0027.flac\n"
     ]
    },
    {
     "name": "stderr",
     "output_type": "stream",
     "text": [
      " 60%|█████▉    | 18667/31159 [12:23<07:22, 28.21it/s]"
     ]
    },
    {
     "name": "stdout",
     "output_type": "stream",
     "text": [
      "skipped ../speech-bahasa/LibriSpeech/train-clean-100/1263/138246/1263-138246-0010.flac\n"
     ]
    },
    {
     "name": "stderr",
     "output_type": "stream",
     "text": [
      " 60%|█████▉    | 18687/31159 [12:24<09:28, 21.92it/s]"
     ]
    },
    {
     "name": "stdout",
     "output_type": "stream",
     "text": [
      "skipped ../speech-bahasa/LibriSpeech/train-clean-100/1263/138246/1263-138246-0030.flac\n",
      "skipped ../speech-bahasa/LibriSpeech/train-clean-100/1263/138246/1263-138246-0032.flac\n"
     ]
    },
    {
     "name": "stderr",
     "output_type": "stream",
     "text": [
      " 60%|██████    | 18706/31159 [12:25<06:51, 30.23it/s]"
     ]
    },
    {
     "name": "stdout",
     "output_type": "stream",
     "text": [
      "skipped ../speech-bahasa/LibriSpeech/train-clean-100/328/129766/328-129766-0011.flac\n",
      "skipped ../speech-bahasa/LibriSpeech/train-clean-100/328/129766/328-129766-0012.flac\n"
     ]
    },
    {
     "name": "stderr",
     "output_type": "stream",
     "text": [
      " 60%|██████    | 18714/31159 [12:25<06:27, 32.08it/s]"
     ]
    },
    {
     "name": "stdout",
     "output_type": "stream",
     "text": [
      "skipped ../speech-bahasa/LibriSpeech/train-clean-100/328/129766/328-129766-0021.flac\n"
     ]
    },
    {
     "name": "stderr",
     "output_type": "stream",
     "text": [
      " 60%|██████    | 18727/31159 [12:25<06:05, 34.01it/s]"
     ]
    },
    {
     "name": "stdout",
     "output_type": "stream",
     "text": [
      "skipped ../speech-bahasa/LibriSpeech/train-clean-100/328/129766/328-129766-0035.flac\n"
     ]
    },
    {
     "name": "stderr",
     "output_type": "stream",
     "text": [
      " 60%|██████    | 18744/31159 [12:26<07:51, 26.34it/s]"
     ]
    },
    {
     "name": "stdout",
     "output_type": "stream",
     "text": [
      "skipped ../speech-bahasa/LibriSpeech/train-clean-100/328/129766/328-129766-0048.flac\n"
     ]
    },
    {
     "name": "stderr",
     "output_type": "stream",
     "text": [
      " 60%|██████    | 18809/31159 [12:29<06:58, 29.49it/s]"
     ]
    },
    {
     "name": "stdout",
     "output_type": "stream",
     "text": [
      "skipped ../speech-bahasa/LibriSpeech/train-clean-100/6147/34607/6147-34607-0016.flac\n",
      "skipped ../speech-bahasa/LibriSpeech/train-clean-100/6147/34607/6147-34607-0017.flac\n"
     ]
    },
    {
     "name": "stderr",
     "output_type": "stream",
     "text": [
      " 60%|██████    | 18821/31159 [12:29<06:49, 30.14it/s]"
     ]
    },
    {
     "name": "stdout",
     "output_type": "stream",
     "text": [
      "skipped ../speech-bahasa/LibriSpeech/train-clean-100/6147/34607/6147-34607-0031.flac\n"
     ]
    },
    {
     "name": "stderr",
     "output_type": "stream",
     "text": [
      " 61%|██████    | 18862/31159 [12:31<07:33, 27.14it/s]"
     ]
    },
    {
     "name": "stdout",
     "output_type": "stream",
     "text": [
      "skipped ../speech-bahasa/LibriSpeech/train-clean-100/6147/34606/6147-34606-0032.flac\n",
      "skipped ../speech-bahasa/LibriSpeech/train-clean-100/6147/34606/6147-34606-0033.flac\n"
     ]
    },
    {
     "name": "stderr",
     "output_type": "stream",
     "text": [
      " 61%|██████    | 18901/31159 [12:32<07:40, 26.62it/s]"
     ]
    },
    {
     "name": "stdout",
     "output_type": "stream",
     "text": [
      "skipped ../speech-bahasa/LibriSpeech/train-clean-100/6147/34605/6147-34605-0030.flac\n"
     ]
    },
    {
     "name": "stderr",
     "output_type": "stream",
     "text": [
      " 61%|██████    | 18904/31159 [12:33<07:29, 27.24it/s]"
     ]
    },
    {
     "name": "stdout",
     "output_type": "stream",
     "text": [
      "skipped ../speech-bahasa/LibriSpeech/train-clean-100/6147/34605/6147-34605-0039.flac\n"
     ]
    },
    {
     "name": "stderr",
     "output_type": "stream",
     "text": [
      " 61%|██████    | 18931/31159 [12:34<06:58, 29.23it/s]"
     ]
    },
    {
     "name": "stdout",
     "output_type": "stream",
     "text": [
      "skipped ../speech-bahasa/LibriSpeech/train-clean-100/1040/133433/1040-133433-0016.flac\n",
      "skipped ../speech-bahasa/LibriSpeech/train-clean-100/1040/133433/1040-133433-0017.flac\n"
     ]
    },
    {
     "name": "stderr",
     "output_type": "stream",
     "text": [
      " 61%|██████    | 18935/31159 [12:34<06:34, 30.98it/s]"
     ]
    },
    {
     "name": "stdout",
     "output_type": "stream",
     "text": [
      "skipped ../speech-bahasa/LibriSpeech/train-clean-100/1040/133433/1040-133433-0026.flac\n"
     ]
    },
    {
     "name": "stderr",
     "output_type": "stream",
     "text": [
      " 61%|██████    | 18964/31159 [12:35<07:45, 26.18it/s]"
     ]
    },
    {
     "name": "stdout",
     "output_type": "stream",
     "text": [
      "skipped ../speech-bahasa/LibriSpeech/train-clean-100/1040/133433/1040-133433-0055.flac\n"
     ]
    },
    {
     "name": "stderr",
     "output_type": "stream",
     "text": [
      " 61%|██████    | 18989/31159 [12:36<06:30, 31.15it/s]"
     ]
    },
    {
     "name": "stdout",
     "output_type": "stream",
     "text": [
      "skipped ../speech-bahasa/LibriSpeech/train-clean-100/1040/133433/1040-133433-0080.flac\n",
      "skipped ../speech-bahasa/LibriSpeech/train-clean-100/5789/57158/5789-57158-0004.flac\n"
     ]
    },
    {
     "name": "stderr",
     "output_type": "stream",
     "text": [
      " 61%|██████    | 18998/31159 [12:36<07:10, 28.25it/s]"
     ]
    },
    {
     "name": "stdout",
     "output_type": "stream",
     "text": [
      "skipped ../speech-bahasa/LibriSpeech/train-clean-100/5789/57158/5789-57158-0008.flac\n",
      "skipped ../speech-bahasa/LibriSpeech/train-clean-100/5789/57158/5789-57158-0013.flac\n"
     ]
    },
    {
     "name": "stderr",
     "output_type": "stream",
     "text": [
      " 61%|██████    | 19031/31159 [12:38<08:29, 23.82it/s]"
     ]
    },
    {
     "name": "stdout",
     "output_type": "stream",
     "text": [
      "skipped ../speech-bahasa/LibriSpeech/train-clean-100/5789/57195/5789-57195-0002.flac\n"
     ]
    },
    {
     "name": "stderr",
     "output_type": "stream",
     "text": [
      " 61%|██████    | 19044/31159 [12:38<08:04, 24.99it/s]"
     ]
    },
    {
     "name": "stdout",
     "output_type": "stream",
     "text": [
      "skipped ../speech-bahasa/LibriSpeech/train-clean-100/5789/57195/5789-57195-0015.flac\n"
     ]
    },
    {
     "name": "stderr",
     "output_type": "stream",
     "text": [
      " 61%|██████    | 19054/31159 [12:39<09:48, 20.57it/s]"
     ]
    },
    {
     "name": "stdout",
     "output_type": "stream",
     "text": [
      "skipped ../speech-bahasa/LibriSpeech/train-clean-100/5789/57195/5789-57195-0025.flac\n"
     ]
    },
    {
     "name": "stderr",
     "output_type": "stream",
     "text": [
      " 61%|██████    | 19068/31159 [12:39<07:46, 25.91it/s]"
     ]
    },
    {
     "name": "stdout",
     "output_type": "stream",
     "text": [
      "skipped ../speech-bahasa/LibriSpeech/train-clean-100/5789/70653/5789-70653-0000.flac\n"
     ]
    },
    {
     "name": "stderr",
     "output_type": "stream",
     "text": [
      " 61%|██████▏   | 19098/31159 [12:40<09:37, 20.89it/s]"
     ]
    },
    {
     "name": "stdout",
     "output_type": "stream",
     "text": [
      "skipped ../speech-bahasa/LibriSpeech/train-clean-100/5789/70653/5789-70653-0031.flac\n"
     ]
    },
    {
     "name": "stderr",
     "output_type": "stream",
     "text": [
      " 61%|██████▏   | 19125/31159 [12:42<08:05, 24.80it/s]"
     ]
    },
    {
     "name": "stdout",
     "output_type": "stream",
     "text": [
      "skipped ../speech-bahasa/LibriSpeech/train-clean-100/6563/63821/6563-63821-0027.flac\n"
     ]
    },
    {
     "name": "stderr",
     "output_type": "stream",
     "text": [
      " 61%|██████▏   | 19139/31159 [12:42<09:11, 21.78it/s]"
     ]
    },
    {
     "name": "stdout",
     "output_type": "stream",
     "text": [
      "skipped ../speech-bahasa/LibriSpeech/train-clean-100/6563/63821/6563-63821-0037.flac\n"
     ]
    },
    {
     "name": "stderr",
     "output_type": "stream",
     "text": [
      " 62%|██████▏   | 19164/31159 [12:43<08:10, 24.46it/s]"
     ]
    },
    {
     "name": "stdout",
     "output_type": "stream",
     "text": [
      "skipped ../speech-bahasa/LibriSpeech/train-clean-100/6563/285357/6563-285357-0013.flac\n"
     ]
    },
    {
     "name": "stderr",
     "output_type": "stream",
     "text": [
      " 62%|██████▏   | 19192/31159 [12:45<07:50, 25.45it/s]"
     ]
    },
    {
     "name": "stdout",
     "output_type": "stream",
     "text": [
      "skipped ../speech-bahasa/LibriSpeech/train-clean-100/6563/285357/6563-285357-0041.flac\n"
     ]
    },
    {
     "name": "stderr",
     "output_type": "stream",
     "text": [
      " 62%|██████▏   | 19200/31159 [12:45<07:06, 28.01it/s]"
     ]
    },
    {
     "name": "stdout",
     "output_type": "stream",
     "text": [
      "skipped ../speech-bahasa/LibriSpeech/train-clean-100/5339/14134/5339-14134-0003.flac\n"
     ]
    },
    {
     "name": "stderr",
     "output_type": "stream",
     "text": [
      " 62%|██████▏   | 19228/31159 [12:46<06:37, 30.02it/s]"
     ]
    },
    {
     "name": "stdout",
     "output_type": "stream",
     "text": [
      "skipped ../speech-bahasa/LibriSpeech/train-clean-100/5339/14134/5339-14134-0031.flac\n"
     ]
    },
    {
     "name": "stderr",
     "output_type": "stream",
     "text": [
      " 62%|██████▏   | 19246/31159 [12:47<05:59, 33.15it/s]"
     ]
    },
    {
     "name": "stdout",
     "output_type": "stream",
     "text": [
      "skipped ../speech-bahasa/LibriSpeech/train-clean-100/5339/14134/5339-14134-0047.flac\n"
     ]
    },
    {
     "name": "stderr",
     "output_type": "stream",
     "text": [
      " 62%|██████▏   | 19271/31159 [12:47<07:05, 27.97it/s]"
     ]
    },
    {
     "name": "stdout",
     "output_type": "stream",
     "text": [
      "skipped ../speech-bahasa/LibriSpeech/train-clean-100/5339/14134/5339-14134-0075.flac\n",
      "skipped ../speech-bahasa/LibriSpeech/train-clean-100/5339/14133/5339-14133-0002.flac\n"
     ]
    },
    {
     "name": "stderr",
     "output_type": "stream",
     "text": [
      " 62%|██████▏   | 19295/31159 [12:48<06:19, 31.28it/s]"
     ]
    },
    {
     "name": "stdout",
     "output_type": "stream",
     "text": [
      "skipped ../speech-bahasa/LibriSpeech/train-clean-100/5339/14133/5339-14133-0020.flac\n"
     ]
    },
    {
     "name": "stderr",
     "output_type": "stream",
     "text": [
      " 62%|██████▏   | 19315/31159 [12:49<09:01, 21.89it/s]"
     ]
    },
    {
     "name": "stdout",
     "output_type": "stream",
     "text": [
      "skipped ../speech-bahasa/LibriSpeech/train-clean-100/5339/14133/5339-14133-0039.flac\n"
     ]
    },
    {
     "name": "stderr",
     "output_type": "stream",
     "text": [
      " 62%|██████▏   | 19333/31159 [12:50<06:37, 29.72it/s]"
     ]
    },
    {
     "name": "stdout",
     "output_type": "stream",
     "text": [
      "skipped ../speech-bahasa/LibriSpeech/train-clean-100/7264/92314/7264-92314-0002.flac\n"
     ]
    },
    {
     "name": "stderr",
     "output_type": "stream",
     "text": [
      " 62%|██████▏   | 19350/31159 [12:50<06:32, 30.12it/s]"
     ]
    },
    {
     "name": "stdout",
     "output_type": "stream",
     "text": [
      "skipped ../speech-bahasa/LibriSpeech/train-clean-100/7264/92314/7264-92314-0015.flac\n",
      "skipped ../speech-bahasa/LibriSpeech/train-clean-100/7264/92314/7264-92314-0016.flac\n"
     ]
    },
    {
     "name": "stderr",
     "output_type": "stream",
     "text": [
      " 62%|██████▏   | 19354/31159 [12:50<06:30, 30.22it/s]"
     ]
    },
    {
     "name": "stdout",
     "output_type": "stream",
     "text": [
      "skipped ../speech-bahasa/LibriSpeech/train-clean-100/7264/92314/7264-92314-0024.flac\n"
     ]
    },
    {
     "name": "stderr",
     "output_type": "stream",
     "text": [
      " 62%|██████▏   | 19368/31159 [12:51<09:10, 21.41it/s]"
     ]
    },
    {
     "name": "stdout",
     "output_type": "stream",
     "text": [
      "skipped ../speech-bahasa/LibriSpeech/train-clean-100/7264/92310/7264-92310-0003.flac\n",
      "skipped ../speech-bahasa/LibriSpeech/train-clean-100/7264/92310/7264-92310-0009.flac\n"
     ]
    },
    {
     "name": "stderr",
     "output_type": "stream",
     "text": [
      " 62%|██████▏   | 19420/31159 [12:53<07:37, 25.67it/s]"
     ]
    },
    {
     "name": "stdout",
     "output_type": "stream",
     "text": [
      "skipped ../speech-bahasa/LibriSpeech/train-clean-100/7264/92316/7264-92316-0021.flac\n"
     ]
    },
    {
     "name": "stderr",
     "output_type": "stream",
     "text": [
      " 62%|██████▏   | 19424/31159 [12:53<07:07, 27.42it/s]"
     ]
    },
    {
     "name": "stdout",
     "output_type": "stream",
     "text": [
      "skipped ../speech-bahasa/LibriSpeech/train-clean-100/7264/92316/7264-92316-0028.flac\n"
     ]
    },
    {
     "name": "stderr",
     "output_type": "stream",
     "text": [
      " 63%|██████▎   | 19552/31159 [12:58<07:38, 25.34it/s]"
     ]
    },
    {
     "name": "stdout",
     "output_type": "stream",
     "text": [
      "skipped ../speech-bahasa/LibriSpeech/train-clean-100/3723/171631/3723-171631-0049.flac\n"
     ]
    },
    {
     "name": "stderr",
     "output_type": "stream",
     "text": [
      " 63%|██████▎   | 19577/31159 [12:59<06:59, 27.58it/s]"
     ]
    },
    {
     "name": "stdout",
     "output_type": "stream",
     "text": [
      "skipped ../speech-bahasa/LibriSpeech/train-clean-100/3723/171115/3723-171115-0013.flac\n"
     ]
    },
    {
     "name": "stderr",
     "output_type": "stream",
     "text": [
      " 63%|██████▎   | 19619/31159 [13:01<06:56, 27.73it/s]"
     ]
    },
    {
     "name": "stdout",
     "output_type": "stream",
     "text": [
      "skipped ../speech-bahasa/LibriSpeech/train-clean-100/3723/171115/3723-171115-0053.flac\n"
     ]
    },
    {
     "name": "stderr",
     "output_type": "stream",
     "text": [
      " 63%|██████▎   | 19622/31159 [13:01<07:04, 27.19it/s]"
     ]
    },
    {
     "name": "stdout",
     "output_type": "stream",
     "text": [
      "skipped ../speech-bahasa/LibriSpeech/train-clean-100/5322/7679/5322-7679-0004.flac\n"
     ]
    },
    {
     "name": "stderr",
     "output_type": "stream",
     "text": [
      " 63%|██████▎   | 19631/31159 [13:02<08:13, 23.34it/s]"
     ]
    },
    {
     "name": "stdout",
     "output_type": "stream",
     "text": [
      "skipped ../speech-bahasa/LibriSpeech/train-clean-100/5322/7679/5322-7679-0008.flac\n"
     ]
    },
    {
     "name": "stderr",
     "output_type": "stream",
     "text": [
      " 63%|██████▎   | 19637/31159 [13:02<07:36, 25.27it/s]"
     ]
    },
    {
     "name": "stdout",
     "output_type": "stream",
     "text": [
      "skipped ../speech-bahasa/LibriSpeech/train-clean-100/5322/7679/5322-7679-0016.flac\n"
     ]
    },
    {
     "name": "stderr",
     "output_type": "stream",
     "text": [
      " 63%|██████▎   | 19665/31159 [13:03<08:19, 23.02it/s]"
     ]
    },
    {
     "name": "stdout",
     "output_type": "stream",
     "text": [
      "skipped ../speech-bahasa/LibriSpeech/train-clean-100/5322/7680/5322-7680-0010.flac\n",
      "skipped ../speech-bahasa/LibriSpeech/train-clean-100/5322/7680/5322-7680-0011.flac\n"
     ]
    },
    {
     "name": "stderr",
     "output_type": "stream",
     "text": [
      " 63%|██████▎   | 19677/31159 [13:04<08:15, 23.16it/s]"
     ]
    },
    {
     "name": "stdout",
     "output_type": "stream",
     "text": [
      "skipped ../speech-bahasa/LibriSpeech/train-clean-100/5322/7680/5322-7680-0014.flac\n"
     ]
    },
    {
     "name": "stderr",
     "output_type": "stream",
     "text": [
      " 63%|██████▎   | 19685/31159 [13:04<07:16, 26.27it/s]"
     ]
    },
    {
     "name": "stdout",
     "output_type": "stream",
     "text": [
      "skipped ../speech-bahasa/LibriSpeech/train-clean-100/5322/7680/5322-7680-0022.flac\n"
     ]
    },
    {
     "name": "stderr",
     "output_type": "stream",
     "text": [
      " 63%|██████▎   | 19697/31159 [13:04<06:50, 27.90it/s]"
     ]
    },
    {
     "name": "stdout",
     "output_type": "stream",
     "text": [
      "skipped ../speech-bahasa/LibriSpeech/train-clean-100/5322/7678/5322-7678-0000.flac\n",
      "skipped ../speech-bahasa/LibriSpeech/train-clean-100/5322/7678/5322-7678-0002.flac\n"
     ]
    },
    {
     "name": "stderr",
     "output_type": "stream",
     "text": [
      " 63%|██████▎   | 19721/31159 [13:05<09:09, 20.81it/s]"
     ]
    },
    {
     "name": "stdout",
     "output_type": "stream",
     "text": [
      "skipped ../speech-bahasa/LibriSpeech/train-clean-100/5322/7678/5322-7678-0026.flac\n"
     ]
    },
    {
     "name": "stderr",
     "output_type": "stream",
     "text": [
      " 63%|██████▎   | 19744/31159 [13:06<06:53, 27.63it/s]"
     ]
    },
    {
     "name": "stdout",
     "output_type": "stream",
     "text": [
      "skipped ../speech-bahasa/LibriSpeech/train-clean-100/587/41611/587-41611-0007.flac\n"
     ]
    },
    {
     "name": "stderr",
     "output_type": "stream",
     "text": [
      " 63%|██████▎   | 19751/31159 [13:06<07:00, 27.14it/s]"
     ]
    },
    {
     "name": "stdout",
     "output_type": "stream",
     "text": [
      "skipped ../speech-bahasa/LibriSpeech/train-clean-100/587/41611/587-41611-0015.flac\n",
      "skipped ../speech-bahasa/LibriSpeech/train-clean-100/587/41611/587-41611-0020.flac\n"
     ]
    },
    {
     "name": "stderr",
     "output_type": "stream",
     "text": [
      " 63%|██████▎   | 19769/31159 [13:07<08:21, 22.72it/s]"
     ]
    },
    {
     "name": "stdout",
     "output_type": "stream",
     "text": [
      "skipped ../speech-bahasa/LibriSpeech/train-clean-100/587/41619/587-41619-0001.flac\n",
      "skipped ../speech-bahasa/LibriSpeech/train-clean-100/587/41619/587-41619-0002.flac\n"
     ]
    },
    {
     "name": "stderr",
     "output_type": "stream",
     "text": [
      " 63%|██████▎   | 19780/31159 [13:08<06:47, 27.89it/s]"
     ]
    },
    {
     "name": "stdout",
     "output_type": "stream",
     "text": [
      "skipped ../speech-bahasa/LibriSpeech/train-clean-100/587/41619/587-41619-0016.flac\n"
     ]
    },
    {
     "name": "stderr",
     "output_type": "stream",
     "text": [
      " 64%|██████▎   | 19858/31159 [13:11<07:36, 24.73it/s]"
     ]
    },
    {
     "name": "stdout",
     "output_type": "stream",
     "text": [
      "skipped ../speech-bahasa/LibriSpeech/train-clean-100/696/92939/696-92939-0006.flac\n"
     ]
    },
    {
     "name": "stderr",
     "output_type": "stream",
     "text": [
      " 64%|██████▍   | 19868/31159 [13:11<07:35, 24.78it/s]"
     ]
    },
    {
     "name": "stdout",
     "output_type": "stream",
     "text": [
      "skipped ../speech-bahasa/LibriSpeech/train-clean-100/696/92939/696-92939-0015.flac\n"
     ]
    },
    {
     "name": "stderr",
     "output_type": "stream",
     "text": [
      " 64%|██████▍   | 19880/31159 [13:12<07:36, 24.69it/s]"
     ]
    },
    {
     "name": "stdout",
     "output_type": "stream",
     "text": [
      "skipped ../speech-bahasa/LibriSpeech/train-clean-100/696/92939/696-92939-0032.flac\n"
     ]
    },
    {
     "name": "stderr",
     "output_type": "stream",
     "text": [
      " 64%|██████▍   | 19890/31159 [13:13<08:58, 20.94it/s]"
     ]
    },
    {
     "name": "stdout",
     "output_type": "stream",
     "text": [
      "skipped ../speech-bahasa/LibriSpeech/train-clean-100/696/92939/696-92939-0037.flac\n"
     ]
    },
    {
     "name": "stderr",
     "output_type": "stream",
     "text": [
      " 64%|██████▍   | 19900/31159 [13:13<07:29, 25.05it/s]"
     ]
    },
    {
     "name": "stdout",
     "output_type": "stream",
     "text": [
      "skipped ../speech-bahasa/LibriSpeech/train-clean-100/696/93314/696-93314-0008.flac\n"
     ]
    },
    {
     "name": "stderr",
     "output_type": "stream",
     "text": [
      " 64%|██████▍   | 19917/31159 [13:13<06:55, 27.03it/s]"
     ]
    },
    {
     "name": "stdout",
     "output_type": "stream",
     "text": [
      "skipped ../speech-bahasa/LibriSpeech/train-clean-100/696/93314/696-93314-0023.flac\n",
      "skipped ../speech-bahasa/LibriSpeech/train-clean-100/696/93314/696-93314-0025.flac\n",
      "skipped ../speech-bahasa/LibriSpeech/train-clean-100/696/93314/696-93314-0029.flac\n"
     ]
    },
    {
     "name": "stderr",
     "output_type": "stream",
     "text": [
      " 64%|██████▍   | 19973/31159 [13:16<09:01, 20.64it/s]"
     ]
    },
    {
     "name": "stdout",
     "output_type": "stream",
     "text": [
      "skipped ../speech-bahasa/LibriSpeech/train-clean-100/5393/19219/5393-19219-0013.flac\n"
     ]
    },
    {
     "name": "stderr",
     "output_type": "stream",
     "text": [
      " 64%|██████▍   | 20006/31159 [13:17<06:24, 29.02it/s]"
     ]
    },
    {
     "name": "stdout",
     "output_type": "stream",
     "text": [
      "skipped ../speech-bahasa/LibriSpeech/train-clean-100/5393/19219/5393-19219-0046.flac\n"
     ]
    },
    {
     "name": "stderr",
     "output_type": "stream",
     "text": [
      " 64%|██████▍   | 20018/31159 [13:18<07:53, 23.52it/s]"
     ]
    },
    {
     "name": "stdout",
     "output_type": "stream",
     "text": [
      "skipped ../speech-bahasa/LibriSpeech/train-clean-100/5393/19219/5393-19219-0058.flac\n",
      "skipped ../speech-bahasa/LibriSpeech/train-clean-100/5393/19219/5393-19219-0060.flac\n"
     ]
    },
    {
     "name": "stderr",
     "output_type": "stream",
     "text": [
      " 64%|██████▍   | 20048/31159 [13:19<06:01, 30.76it/s]"
     ]
    },
    {
     "name": "stdout",
     "output_type": "stream",
     "text": [
      "skipped ../speech-bahasa/LibriSpeech/train-clean-100/5393/19218/5393-19218-0025.flac\n"
     ]
    },
    {
     "name": "stderr",
     "output_type": "stream",
     "text": [
      " 64%|██████▍   | 20063/31159 [13:20<09:34, 19.31it/s]"
     ]
    },
    {
     "name": "stdout",
     "output_type": "stream",
     "text": [
      "skipped ../speech-bahasa/LibriSpeech/train-clean-100/5393/19218/5393-19218-0041.flac\n"
     ]
    },
    {
     "name": "stderr",
     "output_type": "stream",
     "text": [
      " 65%|██████▍   | 20109/31159 [13:22<08:39, 21.26it/s]"
     ]
    },
    {
     "name": "stdout",
     "output_type": "stream",
     "text": [
      "skipped ../speech-bahasa/LibriSpeech/train-clean-100/5390/30096/5390-30096-0025.flac\n"
     ]
    },
    {
     "name": "stderr",
     "output_type": "stream",
     "text": [
      " 65%|██████▍   | 20134/31159 [13:22<05:38, 32.60it/s]"
     ]
    },
    {
     "name": "stdout",
     "output_type": "stream",
     "text": [
      "skipped ../speech-bahasa/LibriSpeech/train-clean-100/5390/24512/5390-24512-0014.flac\n",
      "skipped ../speech-bahasa/LibriSpeech/train-clean-100/5390/24512/5390-24512-0017.flac\n"
     ]
    },
    {
     "name": "stderr",
     "output_type": "stream",
     "text": [
      " 65%|██████▍   | 20142/31159 [13:23<06:16, 29.28it/s]"
     ]
    },
    {
     "name": "stdout",
     "output_type": "stream",
     "text": [
      "skipped ../speech-bahasa/LibriSpeech/train-clean-100/5390/24512/5390-24512-0025.flac\n"
     ]
    },
    {
     "name": "stderr",
     "output_type": "stream",
     "text": [
      " 65%|██████▍   | 20164/31159 [13:24<07:03, 25.95it/s]"
     ]
    },
    {
     "name": "stdout",
     "output_type": "stream",
     "text": [
      "skipped ../speech-bahasa/LibriSpeech/train-clean-100/5390/24512/5390-24512-0043.flac\n",
      "skipped ../speech-bahasa/LibriSpeech/train-clean-100/5390/24512/5390-24512-0045.flac\n"
     ]
    },
    {
     "name": "stderr",
     "output_type": "stream",
     "text": [
      " 65%|██████▍   | 20184/31159 [13:24<07:56, 23.03it/s]"
     ]
    },
    {
     "name": "stdout",
     "output_type": "stream",
     "text": [
      "skipped ../speech-bahasa/LibriSpeech/train-clean-100/5390/30102/5390-30102-0019.flac\n"
     ]
    },
    {
     "name": "stderr",
     "output_type": "stream",
     "text": [
      " 65%|██████▌   | 20261/31159 [13:28<07:23, 24.56it/s]"
     ]
    },
    {
     "name": "stdout",
     "output_type": "stream",
     "text": [
      "skipped ../speech-bahasa/LibriSpeech/train-clean-100/7635/105409/7635-105409-0057.flac\n",
      "skipped ../speech-bahasa/LibriSpeech/train-clean-100/7635/105409/7635-105409-0061.flac\n"
     ]
    },
    {
     "name": "stderr",
     "output_type": "stream",
     "text": [
      " 65%|██████▌   | 20318/31159 [13:30<06:27, 27.97it/s]"
     ]
    },
    {
     "name": "stdout",
     "output_type": "stream",
     "text": [
      "skipped ../speech-bahasa/LibriSpeech/train-clean-100/7635/105661/7635-105661-0044.flac\n"
     ]
    },
    {
     "name": "stderr",
     "output_type": "stream",
     "text": [
      " 65%|██████▌   | 20357/31159 [13:31<06:59, 25.75it/s]"
     ]
    },
    {
     "name": "stdout",
     "output_type": "stream",
     "text": [
      "skipped ../speech-bahasa/LibriSpeech/train-clean-100/3112/9555/3112-9555-0034.flac\n"
     ]
    },
    {
     "name": "stderr",
     "output_type": "stream",
     "text": [
      " 65%|██████▌   | 20370/31159 [13:32<06:31, 27.55it/s]"
     ]
    },
    {
     "name": "stdout",
     "output_type": "stream",
     "text": [
      "skipped ../speech-bahasa/LibriSpeech/train-clean-100/3112/9555/3112-9555-0047.flac\n",
      "skipped ../speech-bahasa/LibriSpeech/train-clean-100/3112/9555/3112-9555-0052.flac\n"
     ]
    },
    {
     "name": "stderr",
     "output_type": "stream",
     "text": [
      " 65%|██████▌   | 20381/31159 [13:32<06:24, 28.02it/s]"
     ]
    },
    {
     "name": "stdout",
     "output_type": "stream",
     "text": [
      "skipped ../speech-bahasa/LibriSpeech/train-clean-100/3112/9555/3112-9555-0060.flac\n"
     ]
    },
    {
     "name": "stderr",
     "output_type": "stream",
     "text": [
      " 65%|██████▌   | 20408/31159 [13:33<06:29, 27.61it/s]"
     ]
    },
    {
     "name": "stdout",
     "output_type": "stream",
     "text": [
      "skipped ../speech-bahasa/LibriSpeech/train-clean-100/3112/9555/3112-9555-0084.flac\n"
     ]
    },
    {
     "name": "stderr",
     "output_type": "stream",
     "text": [
      " 66%|██████▌   | 20425/31159 [13:34<06:19, 28.32it/s]"
     ]
    },
    {
     "name": "stdout",
     "output_type": "stream",
     "text": [
      "skipped ../speech-bahasa/LibriSpeech/train-clean-100/3112/9554/3112-9554-0006.flac\n",
      "skipped ../speech-bahasa/LibriSpeech/train-clean-100/3112/9554/3112-9554-0010.flac\n"
     ]
    },
    {
     "name": "stderr",
     "output_type": "stream",
     "text": [
      " 66%|██████▌   | 20436/31159 [13:35<08:24, 21.27it/s]"
     ]
    },
    {
     "name": "stdout",
     "output_type": "stream",
     "text": [
      "skipped ../speech-bahasa/LibriSpeech/train-clean-100/3112/9554/3112-9554-0017.flac\n"
     ]
    },
    {
     "name": "stderr",
     "output_type": "stream",
     "text": [
      " 66%|██████▌   | 20444/31159 [13:35<06:40, 26.78it/s]"
     ]
    },
    {
     "name": "stdout",
     "output_type": "stream",
     "text": [
      "skipped ../speech-bahasa/LibriSpeech/train-clean-100/1970/10594/1970-10594-0003.flac\n"
     ]
    },
    {
     "name": "stderr",
     "output_type": "stream",
     "text": [
      " 66%|██████▌   | 20470/31159 [13:36<05:52, 30.29it/s]"
     ]
    },
    {
     "name": "stdout",
     "output_type": "stream",
     "text": [
      "skipped ../speech-bahasa/LibriSpeech/train-clean-100/1970/10594/1970-10594-0033.flac\n"
     ]
    },
    {
     "name": "stderr",
     "output_type": "stream",
     "text": [
      " 66%|██████▌   | 20481/31159 [13:36<07:33, 23.56it/s]"
     ]
    },
    {
     "name": "stdout",
     "output_type": "stream",
     "text": [
      "skipped ../speech-bahasa/LibriSpeech/train-clean-100/1970/10594/1970-10594-0039.flac\n"
     ]
    },
    {
     "name": "stderr",
     "output_type": "stream",
     "text": [
      " 66%|██████▌   | 20500/31159 [13:37<05:57, 29.82it/s]"
     ]
    },
    {
     "name": "stdout",
     "output_type": "stream",
     "text": [
      "skipped ../speech-bahasa/LibriSpeech/train-clean-100/1970/26100/1970-26100-0012.flac\n",
      "skipped ../speech-bahasa/LibriSpeech/train-clean-100/1970/26100/1970-26100-0015.flac\n"
     ]
    },
    {
     "name": "stderr",
     "output_type": "stream",
     "text": [
      " 66%|██████▌   | 20517/31159 [13:38<06:10, 28.71it/s]"
     ]
    },
    {
     "name": "stdout",
     "output_type": "stream",
     "text": [
      "skipped ../speech-bahasa/LibriSpeech/train-clean-100/1970/26100/1970-26100-0035.flac\n"
     ]
    },
    {
     "name": "stderr",
     "output_type": "stream",
     "text": [
      " 66%|██████▌   | 20555/31159 [13:39<06:01, 29.37it/s]"
     ]
    },
    {
     "name": "stdout",
     "output_type": "stream",
     "text": [
      "skipped ../speech-bahasa/LibriSpeech/train-clean-100/1970/28415/1970-28415-0033.flac\n"
     ]
    },
    {
     "name": "stderr",
     "output_type": "stream",
     "text": [
      " 66%|██████▌   | 20572/31159 [13:40<08:22, 21.05it/s]"
     ]
    },
    {
     "name": "stdout",
     "output_type": "stream",
     "text": [
      "skipped ../speech-bahasa/LibriSpeech/train-clean-100/7402/90848/7402-90848-0009.flac\n",
      "skipped ../speech-bahasa/LibriSpeech/train-clean-100/7402/90848/7402-90848-0013.flac\n",
      "skipped ../speech-bahasa/LibriSpeech/train-clean-100/7402/90848/7402-90848-0014.flac\n",
      "skipped ../speech-bahasa/LibriSpeech/train-clean-100/7402/90848/7402-90848-0016.flac\n"
     ]
    },
    {
     "name": "stderr",
     "output_type": "stream",
     "text": [
      " 66%|██████▌   | 20597/31159 [13:41<06:42, 26.21it/s]"
     ]
    },
    {
     "name": "stdout",
     "output_type": "stream",
     "text": [
      "skipped ../speech-bahasa/LibriSpeech/train-clean-100/7402/90848/7402-90848-0034.flac\n"
     ]
    },
    {
     "name": "stderr",
     "output_type": "stream",
     "text": [
      " 66%|██████▌   | 20619/31159 [13:42<08:19, 21.10it/s]"
     ]
    },
    {
     "name": "stdout",
     "output_type": "stream",
     "text": [
      "skipped ../speech-bahasa/LibriSpeech/train-clean-100/7402/90848/7402-90848-0055.flac\n"
     ]
    },
    {
     "name": "stderr",
     "output_type": "stream",
     "text": [
      " 66%|██████▌   | 20630/31159 [13:42<06:34, 26.66it/s]"
     ]
    },
    {
     "name": "stdout",
     "output_type": "stream",
     "text": [
      "skipped ../speech-bahasa/LibriSpeech/train-clean-100/7402/59171/7402-59171-0004.flac\n"
     ]
    },
    {
     "name": "stderr",
     "output_type": "stream",
     "text": [
      " 66%|██████▌   | 20640/31159 [13:43<06:31, 26.86it/s]"
     ]
    },
    {
     "name": "stdout",
     "output_type": "stream",
     "text": [
      "skipped ../speech-bahasa/LibriSpeech/train-clean-100/7402/59171/7402-59171-0013.flac\n",
      "skipped ../speech-bahasa/LibriSpeech/train-clean-100/7402/59171/7402-59171-0018.flac\n"
     ]
    },
    {
     "name": "stderr",
     "output_type": "stream",
     "text": [
      " 66%|██████▋   | 20649/31159 [13:43<05:57, 29.38it/s]"
     ]
    },
    {
     "name": "stdout",
     "output_type": "stream",
     "text": [
      "skipped ../speech-bahasa/LibriSpeech/train-clean-100/7402/59171/7402-59171-0021.flac\n"
     ]
    },
    {
     "name": "stderr",
     "output_type": "stream",
     "text": [
      " 66%|██████▋   | 20661/31159 [13:44<07:13, 24.22it/s]"
     ]
    },
    {
     "name": "stdout",
     "output_type": "stream",
     "text": [
      "skipped ../speech-bahasa/LibriSpeech/train-clean-100/7402/59171/7402-59171-0036.flac\n"
     ]
    },
    {
     "name": "stderr",
     "output_type": "stream",
     "text": [
      " 66%|██████▋   | 20677/31159 [13:44<06:02, 28.96it/s]"
     ]
    },
    {
     "name": "stdout",
     "output_type": "stream",
     "text": [
      "skipped ../speech-bahasa/LibriSpeech/train-clean-100/8465/246942/8465-246942-0002.flac\n",
      "skipped ../speech-bahasa/LibriSpeech/train-clean-100/8465/246942/8465-246942-0003.flac\n"
     ]
    },
    {
     "name": "stderr",
     "output_type": "stream",
     "text": [
      " 66%|██████▋   | 20703/31159 [13:45<07:29, 23.26it/s]"
     ]
    },
    {
     "name": "stdout",
     "output_type": "stream",
     "text": [
      "skipped ../speech-bahasa/LibriSpeech/train-clean-100/8465/246942/8465-246942-0026.flac\n",
      "skipped ../speech-bahasa/LibriSpeech/train-clean-100/8465/246943/8465-246943-0002.flac\n"
     ]
    },
    {
     "name": "stderr",
     "output_type": "stream",
     "text": [
      " 66%|██████▋   | 20716/31159 [13:46<05:58, 29.13it/s]"
     ]
    },
    {
     "name": "stdout",
     "output_type": "stream",
     "text": [
      "skipped ../speech-bahasa/LibriSpeech/train-clean-100/8465/246943/8465-246943-0013.flac\n"
     ]
    },
    {
     "name": "stderr",
     "output_type": "stream",
     "text": [
      " 67%|██████▋   | 20732/31159 [13:46<05:22, 32.31it/s]"
     ]
    },
    {
     "name": "stdout",
     "output_type": "stream",
     "text": [
      "skipped ../speech-bahasa/LibriSpeech/train-clean-100/8465/246940/8465-246940-0000.flac\n"
     ]
    },
    {
     "name": "stderr",
     "output_type": "stream",
     "text": [
      " 67%|██████▋   | 20753/31159 [13:47<07:32, 23.02it/s]"
     ]
    },
    {
     "name": "stdout",
     "output_type": "stream",
     "text": [
      "skipped ../speech-bahasa/LibriSpeech/train-clean-100/8465/246940/8465-246940-0019.flac\n"
     ]
    },
    {
     "name": "stderr",
     "output_type": "stream",
     "text": [
      " 67%|██████▋   | 20769/31159 [13:48<06:42, 25.82it/s]"
     ]
    },
    {
     "name": "stdout",
     "output_type": "stream",
     "text": [
      "skipped ../speech-bahasa/LibriSpeech/train-clean-100/8465/246947/8465-246947-0002.flac\n"
     ]
    },
    {
     "name": "stderr",
     "output_type": "stream",
     "text": [
      " 67%|██████▋   | 20788/31159 [13:48<05:46, 29.89it/s]"
     ]
    },
    {
     "name": "stdout",
     "output_type": "stream",
     "text": [
      "skipped ../speech-bahasa/LibriSpeech/train-clean-100/8465/246947/8465-246947-0019.flac\n",
      "skipped ../speech-bahasa/LibriSpeech/train-clean-100/8465/246947/8465-246947-0022.flac\n",
      "skipped ../speech-bahasa/LibriSpeech/train-clean-100/8465/246947/8465-246947-0024.flac\n",
      "skipped ../speech-bahasa/LibriSpeech/train-clean-100/8465/246947/8465-246947-0025.flac\n"
     ]
    },
    {
     "name": "stderr",
     "output_type": "stream",
     "text": [
      " 67%|██████▋   | 20826/31159 [13:50<06:21, 27.09it/s]"
     ]
    },
    {
     "name": "stdout",
     "output_type": "stream",
     "text": [
      "skipped ../speech-bahasa/LibriSpeech/train-clean-100/2002/139469/2002-139469-0034.flac\n",
      "skipped ../speech-bahasa/LibriSpeech/train-clean-100/2002/139469/2002-139469-0039.flac\n"
     ]
    },
    {
     "name": "stderr",
     "output_type": "stream",
     "text": [
      " 67%|██████▋   | 20856/31159 [13:51<06:21, 27.00it/s]"
     ]
    },
    {
     "name": "stdout",
     "output_type": "stream",
     "text": [
      "skipped ../speech-bahasa/LibriSpeech/train-clean-100/2002/139469/2002-139469-0063.flac\n"
     ]
    },
    {
     "name": "stderr",
     "output_type": "stream",
     "text": [
      " 67%|██████▋   | 20888/31159 [13:53<07:43, 22.15it/s]"
     ]
    },
    {
     "name": "stdout",
     "output_type": "stream",
     "text": [
      "skipped ../speech-bahasa/LibriSpeech/train-clean-100/2002/139469/2002-139469-0093.flac\n",
      "skipped ../speech-bahasa/LibriSpeech/train-clean-100/2002/139469/2002-139469-0097.flac\n"
     ]
    },
    {
     "name": "stderr",
     "output_type": "stream",
     "text": [
      " 67%|██████▋   | 20928/31159 [13:54<07:14, 23.55it/s]"
     ]
    },
    {
     "name": "stdout",
     "output_type": "stream",
     "text": [
      "skipped ../speech-bahasa/LibriSpeech/train-clean-100/6209/34601/6209-34601-0017.flac\n",
      "skipped ../speech-bahasa/LibriSpeech/train-clean-100/6209/34601/6209-34601-0021.flac\n"
     ]
    },
    {
     "name": "stderr",
     "output_type": "stream",
     "text": [
      " 67%|██████▋   | 20945/31159 [13:55<06:11, 27.52it/s]"
     ]
    },
    {
     "name": "stdout",
     "output_type": "stream",
     "text": [
      "skipped ../speech-bahasa/LibriSpeech/train-clean-100/6209/34601/6209-34601-0035.flac\n"
     ]
    },
    {
     "name": "stderr",
     "output_type": "stream",
     "text": [
      " 67%|██████▋   | 20954/31159 [13:55<05:25, 31.37it/s]"
     ]
    },
    {
     "name": "stdout",
     "output_type": "stream",
     "text": [
      "skipped ../speech-bahasa/LibriSpeech/train-clean-100/6209/34600/6209-34600-0003.flac\n",
      "skipped ../speech-bahasa/LibriSpeech/train-clean-100/6209/34600/6209-34600-0007.flac\n"
     ]
    },
    {
     "name": "stderr",
     "output_type": "stream",
     "text": [
      " 67%|██████▋   | 20969/31159 [13:56<08:31, 19.91it/s]"
     ]
    },
    {
     "name": "stdout",
     "output_type": "stream",
     "text": [
      "skipped ../speech-bahasa/LibriSpeech/train-clean-100/6209/34600/6209-34600-0021.flac\n"
     ]
    },
    {
     "name": "stderr",
     "output_type": "stream",
     "text": [
      " 67%|██████▋   | 20983/31159 [13:56<06:47, 24.97it/s]"
     ]
    },
    {
     "name": "stdout",
     "output_type": "stream",
     "text": [
      "skipped ../speech-bahasa/LibriSpeech/train-clean-100/6209/34600/6209-34600-0033.flac\n"
     ]
    },
    {
     "name": "stderr",
     "output_type": "stream",
     "text": [
      " 67%|██████▋   | 20991/31159 [13:57<05:54, 28.71it/s]"
     ]
    },
    {
     "name": "stdout",
     "output_type": "stream",
     "text": [
      "skipped ../speech-bahasa/LibriSpeech/train-clean-100/6209/34599/6209-34599-0007.flac\n",
      "skipped ../speech-bahasa/LibriSpeech/train-clean-100/6209/34599/6209-34599-0012.flac\n"
     ]
    },
    {
     "name": "stderr",
     "output_type": "stream",
     "text": [
      " 67%|██████▋   | 21003/31159 [13:57<05:29, 30.82it/s]"
     ]
    },
    {
     "name": "stdout",
     "output_type": "stream",
     "text": [
      "skipped ../speech-bahasa/LibriSpeech/train-clean-100/6209/34599/6209-34599-0020.flac\n",
      "skipped ../speech-bahasa/LibriSpeech/train-clean-100/6209/34599/6209-34599-0021.flac\n"
     ]
    },
    {
     "name": "stderr",
     "output_type": "stream",
     "text": [
      " 68%|██████▊   | 21039/31159 [13:58<05:37, 29.98it/s]"
     ]
    },
    {
     "name": "stdout",
     "output_type": "stream",
     "text": [
      "skipped ../speech-bahasa/LibriSpeech/train-clean-100/1867/148436/1867-148436-0016.flac\n"
     ]
    },
    {
     "name": "stderr",
     "output_type": "stream",
     "text": [
      " 68%|██████▊   | 21087/31159 [14:00<05:35, 30.04it/s]"
     ]
    },
    {
     "name": "stdout",
     "output_type": "stream",
     "text": [
      "skipped ../speech-bahasa/LibriSpeech/train-clean-100/1867/154075/1867-154075-0018.flac\n"
     ]
    },
    {
     "name": "stderr",
     "output_type": "stream",
     "text": [
      " 68%|██████▊   | 21099/31159 [14:01<05:45, 29.08it/s]"
     ]
    },
    {
     "name": "stdout",
     "output_type": "stream",
     "text": [
      "skipped ../speech-bahasa/LibriSpeech/train-clean-100/1867/154075/1867-154075-0028.flac\n",
      "skipped ../speech-bahasa/LibriSpeech/train-clean-100/1867/154075/1867-154075-0032.flac\n"
     ]
    },
    {
     "name": "stderr",
     "output_type": "stream",
     "text": [
      " 68%|██████▊   | 21135/31159 [14:02<05:05, 32.81it/s]"
     ]
    },
    {
     "name": "stdout",
     "output_type": "stream",
     "text": [
      "skipped ../speech-bahasa/LibriSpeech/train-clean-100/1867/154071/1867-154071-0017.flac\n"
     ]
    },
    {
     "name": "stderr",
     "output_type": "stream",
     "text": [
      " 68%|██████▊   | 21154/31159 [14:02<05:02, 33.06it/s]"
     ]
    },
    {
     "name": "stdout",
     "output_type": "stream",
     "text": [
      "skipped ../speech-bahasa/LibriSpeech/train-clean-100/1867/154071/1867-154071-0043.flac\n"
     ]
    },
    {
     "name": "stderr",
     "output_type": "stream",
     "text": [
      " 68%|██████▊   | 21182/31159 [14:04<05:54, 28.17it/s]"
     ]
    },
    {
     "name": "stdout",
     "output_type": "stream",
     "text": [
      "skipped ../speech-bahasa/LibriSpeech/train-clean-100/1898/145715/1898-145715-0022.flac\n",
      "skipped ../speech-bahasa/LibriSpeech/train-clean-100/1898/145715/1898-145715-0026.flac\n"
     ]
    },
    {
     "name": "stderr",
     "output_type": "stream",
     "text": [
      " 68%|██████▊   | 21220/31159 [14:05<05:59, 27.64it/s]"
     ]
    },
    {
     "name": "stdout",
     "output_type": "stream",
     "text": [
      "skipped ../speech-bahasa/LibriSpeech/train-clean-100/1898/145720/1898-145720-0006.flac\n",
      "skipped ../speech-bahasa/LibriSpeech/train-clean-100/1898/145720/1898-145720-0013.flac\n",
      "skipped ../speech-bahasa/LibriSpeech/train-clean-100/1898/145720/1898-145720-0014.flac\n"
     ]
    },
    {
     "name": "stderr",
     "output_type": "stream",
     "text": [
      " 68%|██████▊   | 21275/31159 [14:07<05:50, 28.20it/s]"
     ]
    },
    {
     "name": "stdout",
     "output_type": "stream",
     "text": [
      "skipped ../speech-bahasa/LibriSpeech/train-clean-100/1898/145702/1898-145702-0006.flac\n"
     ]
    },
    {
     "name": "stderr",
     "output_type": "stream",
     "text": [
      " 68%|██████▊   | 21307/31159 [14:08<06:42, 24.50it/s]"
     ]
    },
    {
     "name": "stdout",
     "output_type": "stream",
     "text": [
      "skipped ../speech-bahasa/LibriSpeech/train-clean-100/254/127705/254-127705-0016.flac\n",
      "skipped ../speech-bahasa/LibriSpeech/train-clean-100/254/127705/254-127705-0019.flac\n"
     ]
    },
    {
     "name": "stderr",
     "output_type": "stream",
     "text": [
      " 68%|██████▊   | 21317/31159 [14:09<05:40, 28.91it/s]"
     ]
    },
    {
     "name": "stdout",
     "output_type": "stream",
     "text": [
      "skipped ../speech-bahasa/LibriSpeech/train-clean-100/254/127705/254-127705-0029.flac\n",
      "skipped ../speech-bahasa/LibriSpeech/train-clean-100/254/127705/254-127705-0031.flac\n"
     ]
    },
    {
     "name": "stderr",
     "output_type": "stream",
     "text": [
      " 68%|██████▊   | 21325/31159 [14:09<05:25, 30.23it/s]"
     ]
    },
    {
     "name": "stdout",
     "output_type": "stream",
     "text": [
      "skipped ../speech-bahasa/LibriSpeech/train-clean-100/254/127705/254-127705-0038.flac\n"
     ]
    },
    {
     "name": "stderr",
     "output_type": "stream",
     "text": [
      " 69%|██████▊   | 21359/31159 [14:10<07:20, 22.24it/s]"
     ]
    },
    {
     "name": "stdout",
     "output_type": "stream",
     "text": [
      "skipped ../speech-bahasa/LibriSpeech/train-clean-100/254/27760/254-27760-0027.flac\n"
     ]
    },
    {
     "name": "stderr",
     "output_type": "stream",
     "text": [
      " 69%|██████▊   | 21385/31159 [14:11<05:35, 29.14it/s]"
     ]
    },
    {
     "name": "stdout",
     "output_type": "stream",
     "text": [
      "skipped ../speech-bahasa/LibriSpeech/train-clean-100/254/12312/254-12312-0020.flac\n"
     ]
    },
    {
     "name": "stderr",
     "output_type": "stream",
     "text": [
      " 69%|██████▊   | 21393/31159 [14:11<05:43, 28.43it/s]"
     ]
    },
    {
     "name": "stdout",
     "output_type": "stream",
     "text": [
      "skipped ../speech-bahasa/LibriSpeech/train-clean-100/254/145458/254-145458-0007.flac\n"
     ]
    },
    {
     "name": "stderr",
     "output_type": "stream",
     "text": [
      " 69%|██████▊   | 21403/31159 [14:12<07:39, 21.24it/s]"
     ]
    },
    {
     "name": "stdout",
     "output_type": "stream",
     "text": [
      "skipped ../speech-bahasa/LibriSpeech/train-clean-100/254/145458/254-145458-0014.flac\n"
     ]
    },
    {
     "name": "stderr",
     "output_type": "stream",
     "text": [
      " 69%|██████▊   | 21413/31159 [14:12<06:22, 25.46it/s]"
     ]
    },
    {
     "name": "stdout",
     "output_type": "stream",
     "text": [
      "skipped ../speech-bahasa/LibriSpeech/train-clean-100/322/124147/322-124147-0003.flac\n"
     ]
    },
    {
     "name": "stderr",
     "output_type": "stream",
     "text": [
      " 69%|██████▉   | 21427/31159 [14:13<05:34, 29.08it/s]"
     ]
    },
    {
     "name": "stdout",
     "output_type": "stream",
     "text": [
      "skipped ../speech-bahasa/LibriSpeech/train-clean-100/322/124147/322-124147-0015.flac\n"
     ]
    },
    {
     "name": "stderr",
     "output_type": "stream",
     "text": [
      " 69%|██████▉   | 21451/31159 [14:14<06:56, 23.33it/s]"
     ]
    },
    {
     "name": "stdout",
     "output_type": "stream",
     "text": [
      "skipped ../speech-bahasa/LibriSpeech/train-clean-100/322/124147/322-124147-0039.flac\n"
     ]
    },
    {
     "name": "stderr",
     "output_type": "stream",
     "text": [
      " 69%|██████▉   | 21462/31159 [14:14<05:47, 27.92it/s]"
     ]
    },
    {
     "name": "stdout",
     "output_type": "stream",
     "text": [
      "skipped ../speech-bahasa/LibriSpeech/train-clean-100/322/124147/322-124147-0052.flac\n",
      "skipped ../speech-bahasa/LibriSpeech/train-clean-100/322/124147/322-124147-0053.flac\n"
     ]
    },
    {
     "name": "stderr",
     "output_type": "stream",
     "text": [
      " 69%|██████▉   | 21509/31159 [14:16<06:00, 26.79it/s]"
     ]
    },
    {
     "name": "stdout",
     "output_type": "stream",
     "text": [
      "skipped ../speech-bahasa/LibriSpeech/train-clean-100/322/124146/322-124146-0015.flac\n"
     ]
    },
    {
     "name": "stderr",
     "output_type": "stream",
     "text": [
      " 69%|██████▉   | 21522/31159 [14:17<04:51, 33.05it/s]"
     ]
    },
    {
     "name": "stdout",
     "output_type": "stream",
     "text": [
      "skipped ../speech-bahasa/LibriSpeech/train-clean-100/322/124146/322-124146-0029.flac\n"
     ]
    },
    {
     "name": "stderr",
     "output_type": "stream",
     "text": [
      " 69%|██████▉   | 21533/31159 [14:17<07:19, 21.89it/s]"
     ]
    },
    {
     "name": "stdout",
     "output_type": "stream",
     "text": [
      "skipped ../speech-bahasa/LibriSpeech/train-clean-100/8468/286673/8468-286673-0002.flac\n",
      "skipped ../speech-bahasa/LibriSpeech/train-clean-100/8468/286673/8468-286673-0005.flac\n"
     ]
    },
    {
     "name": "stderr",
     "output_type": "stream",
     "text": [
      " 69%|██████▉   | 21545/31159 [14:18<05:53, 27.16it/s]"
     ]
    },
    {
     "name": "stdout",
     "output_type": "stream",
     "text": [
      "skipped ../speech-bahasa/LibriSpeech/train-clean-100/8468/286673/8468-286673-0012.flac\n"
     ]
    },
    {
     "name": "stderr",
     "output_type": "stream",
     "text": [
      " 69%|██████▉   | 21570/31159 [14:19<05:26, 29.34it/s]"
     ]
    },
    {
     "name": "stdout",
     "output_type": "stream",
     "text": [
      "skipped ../speech-bahasa/LibriSpeech/train-clean-100/8468/295198/8468-295198-0001.flac\n"
     ]
    },
    {
     "name": "stderr",
     "output_type": "stream",
     "text": [
      " 69%|██████▉   | 21580/31159 [14:19<07:32, 21.18it/s]"
     ]
    },
    {
     "name": "stdout",
     "output_type": "stream",
     "text": [
      "skipped ../speech-bahasa/LibriSpeech/train-clean-100/8468/295198/8468-295198-0006.flac\n"
     ]
    },
    {
     "name": "stderr",
     "output_type": "stream",
     "text": [
      " 69%|██████▉   | 21603/31159 [14:20<05:57, 26.74it/s]"
     ]
    },
    {
     "name": "stdout",
     "output_type": "stream",
     "text": [
      "skipped ../speech-bahasa/LibriSpeech/train-clean-100/8468/295198/8468-295198-0029.flac\n"
     ]
    },
    {
     "name": "stderr",
     "output_type": "stream",
     "text": [
      " 70%|██████▉   | 21673/31159 [14:23<06:06, 25.91it/s]"
     ]
    },
    {
     "name": "stdout",
     "output_type": "stream",
     "text": [
      "skipped ../speech-bahasa/LibriSpeech/train-clean-100/5456/62043/5456-62043-0023.flac\n",
      "skipped ../speech-bahasa/LibriSpeech/train-clean-100/5456/62043/5456-62043-0024.flac\n"
     ]
    },
    {
     "name": "stderr",
     "output_type": "stream",
     "text": [
      " 70%|██████▉   | 21719/31159 [14:24<04:35, 34.25it/s]"
     ]
    },
    {
     "name": "stdout",
     "output_type": "stream",
     "text": [
      "skipped ../speech-bahasa/LibriSpeech/train-clean-100/5456/24741/5456-24741-0011.flac\n"
     ]
    },
    {
     "name": "stderr",
     "output_type": "stream",
     "text": [
      " 70%|██████▉   | 21762/31159 [14:26<04:54, 31.96it/s]"
     ]
    },
    {
     "name": "stdout",
     "output_type": "stream",
     "text": [
      "skipped ../speech-bahasa/LibriSpeech/train-clean-100/5456/58161/5456-58161-0027.flac\n",
      "skipped ../speech-bahasa/LibriSpeech/train-clean-100/405/130894/405-130894-0000.flac\n",
      "skipped ../speech-bahasa/LibriSpeech/train-clean-100/405/130894/405-130894-0002.flac\n"
     ]
    },
    {
     "name": "stderr",
     "output_type": "stream",
     "text": [
      " 70%|██████▉   | 21804/31159 [14:27<05:31, 28.18it/s]"
     ]
    },
    {
     "name": "stdout",
     "output_type": "stream",
     "text": [
      "skipped ../speech-bahasa/LibriSpeech/train-clean-100/405/130894/405-130894-0041.flac\n"
     ]
    },
    {
     "name": "stderr",
     "output_type": "stream",
     "text": [
      " 70%|███████   | 21818/31159 [14:28<06:25, 24.23it/s]"
     ]
    },
    {
     "name": "stdout",
     "output_type": "stream",
     "text": [
      "skipped ../speech-bahasa/LibriSpeech/train-clean-100/405/130894/405-130894-0056.flac\n"
     ]
    },
    {
     "name": "stderr",
     "output_type": "stream",
     "text": [
      " 70%|███████   | 21838/31159 [14:29<05:31, 28.11it/s]"
     ]
    },
    {
     "name": "stdout",
     "output_type": "stream",
     "text": [
      "skipped ../speech-bahasa/LibriSpeech/train-clean-100/405/130894/405-130894-0073.flac\n",
      "skipped ../speech-bahasa/LibriSpeech/train-clean-100/405/130895/405-130895-0001.flac\n"
     ]
    },
    {
     "name": "stderr",
     "output_type": "stream",
     "text": [
      " 70%|███████   | 21843/31159 [14:29<05:10, 30.01it/s]"
     ]
    },
    {
     "name": "stdout",
     "output_type": "stream",
     "text": [
      "skipped ../speech-bahasa/LibriSpeech/train-clean-100/405/130895/405-130895-0003.flac\n",
      "skipped ../speech-bahasa/LibriSpeech/train-clean-100/405/130895/405-130895-0007.flac\n"
     ]
    },
    {
     "name": "stderr",
     "output_type": "stream",
     "text": [
      " 70%|███████   | 21887/31159 [14:31<05:19, 29.02it/s]"
     ]
    },
    {
     "name": "stdout",
     "output_type": "stream",
     "text": [
      "skipped ../speech-bahasa/LibriSpeech/train-clean-100/8238/274553/8238-274553-0007.flac\n"
     ]
    },
    {
     "name": "stderr",
     "output_type": "stream",
     "text": [
      " 70%|███████   | 21891/31159 [14:31<05:31, 27.98it/s]"
     ]
    },
    {
     "name": "stdout",
     "output_type": "stream",
     "text": [
      "skipped ../speech-bahasa/LibriSpeech/train-clean-100/8238/274553/8238-274553-0018.flac\n"
     ]
    },
    {
     "name": "stderr",
     "output_type": "stream",
     "text": [
      " 70%|███████   | 21918/31159 [14:32<05:21, 28.77it/s]"
     ]
    },
    {
     "name": "stdout",
     "output_type": "stream",
     "text": [
      "skipped ../speech-bahasa/LibriSpeech/train-clean-100/8238/274553/8238-274553-0038.flac\n"
     ]
    },
    {
     "name": "stderr",
     "output_type": "stream",
     "text": [
      " 70%|███████   | 21938/31159 [14:32<04:41, 32.74it/s]"
     ]
    },
    {
     "name": "stdout",
     "output_type": "stream",
     "text": [
      "skipped ../speech-bahasa/LibriSpeech/train-clean-100/8238/274553/8238-274553-0057.flac\n",
      "skipped ../speech-bahasa/LibriSpeech/train-clean-100/8238/274553/8238-274553-0063.flac\n"
     ]
    },
    {
     "name": "stderr",
     "output_type": "stream",
     "text": [
      " 70%|███████   | 21943/31159 [14:33<04:26, 34.53it/s]"
     ]
    },
    {
     "name": "stdout",
     "output_type": "stream",
     "text": [
      "skipped ../speech-bahasa/LibriSpeech/train-clean-100/8238/274553/8238-274553-0065.flac\n"
     ]
    },
    {
     "name": "stderr",
     "output_type": "stream",
     "text": [
      " 71%|███████   | 21971/31159 [14:34<05:46, 26.48it/s]"
     ]
    },
    {
     "name": "stdout",
     "output_type": "stream",
     "text": [
      "skipped ../speech-bahasa/LibriSpeech/train-clean-100/8238/283452/8238-283452-0017.flac\n"
     ]
    },
    {
     "name": "stderr",
     "output_type": "stream",
     "text": [
      " 71%|███████   | 22016/31159 [14:36<05:22, 28.39it/s]"
     ]
    },
    {
     "name": "stdout",
     "output_type": "stream",
     "text": [
      "skipped ../speech-bahasa/LibriSpeech/train-clean-100/163/122947/163-122947-0013.flac\n"
     ]
    },
    {
     "name": "stderr",
     "output_type": "stream",
     "text": [
      " 71%|███████   | 22024/31159 [14:36<05:04, 30.00it/s]"
     ]
    },
    {
     "name": "stdout",
     "output_type": "stream",
     "text": [
      "skipped ../speech-bahasa/LibriSpeech/train-clean-100/163/122947/163-122947-0024.flac\n"
     ]
    },
    {
     "name": "stderr",
     "output_type": "stream",
     "text": [
      " 71%|███████   | 22032/31159 [14:36<05:20, 28.49it/s]"
     ]
    },
    {
     "name": "stdout",
     "output_type": "stream",
     "text": [
      "skipped ../speech-bahasa/LibriSpeech/train-clean-100/163/122947/163-122947-0030.flac\n"
     ]
    },
    {
     "name": "stderr",
     "output_type": "stream",
     "text": [
      " 71%|███████   | 22039/31159 [14:36<05:18, 28.59it/s]"
     ]
    },
    {
     "name": "stdout",
     "output_type": "stream",
     "text": [
      "skipped ../speech-bahasa/LibriSpeech/train-clean-100/163/122947/163-122947-0037.flac\n"
     ]
    },
    {
     "name": "stderr",
     "output_type": "stream",
     "text": [
      " 71%|███████   | 22067/31159 [14:38<06:56, 21.85it/s]"
     ]
    },
    {
     "name": "stdout",
     "output_type": "stream",
     "text": [
      "skipped ../speech-bahasa/LibriSpeech/train-clean-100/163/122947/163-122947-0066.flac\n",
      "skipped ../speech-bahasa/LibriSpeech/train-clean-100/163/122947/163-122947-0071.flac\n"
     ]
    },
    {
     "name": "stderr",
     "output_type": "stream",
     "text": [
      " 71%|███████   | 22103/31159 [14:39<07:20, 20.56it/s]"
     ]
    },
    {
     "name": "stdout",
     "output_type": "stream",
     "text": [
      "skipped ../speech-bahasa/LibriSpeech/train-clean-100/163/121908/163-121908-0001.flac\n"
     ]
    },
    {
     "name": "stderr",
     "output_type": "stream",
     "text": [
      " 71%|███████   | 22122/31159 [14:40<05:54, 25.46it/s]"
     ]
    },
    {
     "name": "stdout",
     "output_type": "stream",
     "text": [
      "skipped ../speech-bahasa/LibriSpeech/train-clean-100/1841/159771/1841-159771-0008.flac\n"
     ]
    },
    {
     "name": "stderr",
     "output_type": "stream",
     "text": [
      " 71%|███████   | 22142/31159 [14:41<08:28, 17.73it/s]"
     ]
    },
    {
     "name": "stdout",
     "output_type": "stream",
     "text": [
      "skipped ../speech-bahasa/LibriSpeech/train-clean-100/1841/159771/1841-159771-0029.flac\n"
     ]
    },
    {
     "name": "stderr",
     "output_type": "stream",
     "text": [
      " 71%|███████   | 22156/31159 [14:42<06:08, 24.41it/s]"
     ]
    },
    {
     "name": "stdout",
     "output_type": "stream",
     "text": [
      "skipped ../speech-bahasa/LibriSpeech/train-clean-100/1841/159771/1841-159771-0042.flac\n"
     ]
    },
    {
     "name": "stderr",
     "output_type": "stream",
     "text": [
      " 71%|███████▏  | 22215/31159 [14:44<05:26, 27.39it/s]"
     ]
    },
    {
     "name": "stdout",
     "output_type": "stream",
     "text": [
      "skipped ../speech-bahasa/LibriSpeech/train-clean-100/1841/150351/1841-150351-0023.flac\n"
     ]
    },
    {
     "name": "stderr",
     "output_type": "stream",
     "text": [
      " 71%|███████▏  | 22259/31159 [14:46<05:30, 26.89it/s]"
     ]
    },
    {
     "name": "stdout",
     "output_type": "stream",
     "text": [
      "skipped ../speech-bahasa/LibriSpeech/train-clean-100/8629/261139/8629-261139-0032.flac\n"
     ]
    },
    {
     "name": "stderr",
     "output_type": "stream",
     "text": [
      " 72%|███████▏  | 22299/31159 [14:48<04:53, 30.21it/s]"
     ]
    },
    {
     "name": "stdout",
     "output_type": "stream",
     "text": [
      "skipped ../speech-bahasa/LibriSpeech/train-clean-100/8629/261139/8629-261139-0069.flac\n"
     ]
    },
    {
     "name": "stderr",
     "output_type": "stream",
     "text": [
      " 72%|███████▏  | 22304/31159 [14:48<04:43, 31.24it/s]"
     ]
    },
    {
     "name": "stdout",
     "output_type": "stream",
     "text": [
      "skipped ../speech-bahasa/LibriSpeech/train-clean-100/8629/261140/8629-261140-0000.flac\n"
     ]
    },
    {
     "name": "stderr",
     "output_type": "stream",
     "text": [
      " 72%|███████▏  | 22360/31159 [14:50<06:59, 20.96it/s]"
     ]
    },
    {
     "name": "stdout",
     "output_type": "stream",
     "text": [
      "skipped ../speech-bahasa/LibriSpeech/train-clean-100/87/121553/87-121553-0005.flac\n"
     ]
    },
    {
     "name": "stderr",
     "output_type": "stream",
     "text": [
      " 72%|███████▏  | 22369/31159 [14:50<06:28, 22.65it/s]"
     ]
    },
    {
     "name": "stdout",
     "output_type": "stream",
     "text": [
      "skipped ../speech-bahasa/LibriSpeech/train-clean-100/87/121553/87-121553-0011.flac\n"
     ]
    },
    {
     "name": "stderr",
     "output_type": "stream",
     "text": [
      " 72%|███████▏  | 22393/31159 [14:51<05:17, 27.62it/s]"
     ]
    },
    {
     "name": "stdout",
     "output_type": "stream",
     "text": [
      "skipped ../speech-bahasa/LibriSpeech/train-clean-100/87/121553/87-121553-0035.flac\n"
     ]
    },
    {
     "name": "stderr",
     "output_type": "stream",
     "text": [
      " 72%|███████▏  | 22397/31159 [14:51<05:09, 28.34it/s]"
     ]
    },
    {
     "name": "stdout",
     "output_type": "stream",
     "text": [
      "skipped ../speech-bahasa/LibriSpeech/train-clean-100/87/121553/87-121553-0042.flac\n"
     ]
    },
    {
     "name": "stderr",
     "output_type": "stream",
     "text": [
      " 72%|███████▏  | 22407/31159 [14:52<07:15, 20.11it/s]"
     ]
    },
    {
     "name": "stdout",
     "output_type": "stream",
     "text": [
      "skipped ../speech-bahasa/LibriSpeech/train-clean-100/87/121553/87-121553-0051.flac\n",
      "skipped ../speech-bahasa/LibriSpeech/train-clean-100/87/121553/87-121553-0054.flac\n"
     ]
    },
    {
     "name": "stderr",
     "output_type": "stream",
     "text": [
      " 72%|███████▏  | 22430/31159 [14:53<05:42, 25.47it/s]"
     ]
    },
    {
     "name": "stdout",
     "output_type": "stream",
     "text": [
      "skipped ../speech-bahasa/LibriSpeech/train-clean-100/87/121553/87-121553-0072.flac\n",
      "skipped ../speech-bahasa/LibriSpeech/train-clean-100/87/121553/87-121553-0073.flac\n"
     ]
    },
    {
     "name": "stderr",
     "output_type": "stream",
     "text": [
      " 72%|███████▏  | 22435/31159 [14:53<05:10, 28.06it/s]"
     ]
    },
    {
     "name": "stdout",
     "output_type": "stream",
     "text": [
      "skipped ../speech-bahasa/LibriSpeech/train-clean-100/87/121553/87-121553-0080.flac\n"
     ]
    },
    {
     "name": "stderr",
     "output_type": "stream",
     "text": [
      " 72%|███████▏  | 22452/31159 [14:54<06:08, 23.62it/s]"
     ]
    },
    {
     "name": "stdout",
     "output_type": "stream",
     "text": [
      "skipped ../speech-bahasa/LibriSpeech/train-clean-100/87/121553/87-121553-0094.flac\n"
     ]
    },
    {
     "name": "stderr",
     "output_type": "stream",
     "text": [
      " 72%|███████▏  | 22468/31159 [14:55<05:22, 26.97it/s]"
     ]
    },
    {
     "name": "stdout",
     "output_type": "stream",
     "text": [
      "skipped ../speech-bahasa/LibriSpeech/train-clean-100/7059/77897/7059-77897-0004.flac\n",
      "skipped ../speech-bahasa/LibriSpeech/train-clean-100/7059/77897/7059-77897-0007.flac\n"
     ]
    },
    {
     "name": "stderr",
     "output_type": "stream",
     "text": [
      " 72%|███████▏  | 22480/31159 [14:55<06:08, 23.54it/s]"
     ]
    },
    {
     "name": "stdout",
     "output_type": "stream",
     "text": [
      "skipped ../speech-bahasa/LibriSpeech/train-clean-100/7059/77897/7059-77897-0015.flac\n"
     ]
    },
    {
     "name": "stderr",
     "output_type": "stream",
     "text": [
      " 72%|███████▏  | 22506/31159 [14:56<05:51, 24.61it/s]"
     ]
    },
    {
     "name": "stdout",
     "output_type": "stream",
     "text": [
      "skipped ../speech-bahasa/LibriSpeech/train-clean-100/7059/88364/7059-88364-0008.flac\n"
     ]
    },
    {
     "name": "stderr",
     "output_type": "stream",
     "text": [
      " 72%|███████▏  | 22513/31159 [14:57<05:27, 26.38it/s]"
     ]
    },
    {
     "name": "stdout",
     "output_type": "stream",
     "text": [
      "skipped ../speech-bahasa/LibriSpeech/train-clean-100/7059/88364/7059-88364-0015.flac\n"
     ]
    },
    {
     "name": "stderr",
     "output_type": "stream",
     "text": [
      " 72%|███████▏  | 22552/31159 [14:58<05:28, 26.20it/s]"
     ]
    },
    {
     "name": "stdout",
     "output_type": "stream",
     "text": [
      "skipped ../speech-bahasa/LibriSpeech/train-clean-100/7059/77900/7059-77900-0018.flac\n"
     ]
    },
    {
     "name": "stderr",
     "output_type": "stream",
     "text": [
      " 72%|███████▏  | 22566/31159 [14:59<07:03, 20.30it/s]"
     ]
    },
    {
     "name": "stdout",
     "output_type": "stream",
     "text": [
      "skipped ../speech-bahasa/LibriSpeech/train-clean-100/7059/77900/7059-77900-0033.flac\n",
      "skipped ../speech-bahasa/LibriSpeech/train-clean-100/7059/77900/7059-77900-0035.flac\n"
     ]
    },
    {
     "name": "stderr",
     "output_type": "stream",
     "text": [
      " 72%|███████▏  | 22581/31159 [14:59<05:13, 27.38it/s]"
     ]
    },
    {
     "name": "stdout",
     "output_type": "stream",
     "text": [
      "skipped ../speech-bahasa/LibriSpeech/train-clean-100/4859/26870/4859-26870-0005.flac\n"
     ]
    },
    {
     "name": "stderr",
     "output_type": "stream",
     "text": [
      " 73%|███████▎  | 22597/31159 [15:00<04:31, 31.57it/s]"
     ]
    },
    {
     "name": "stdout",
     "output_type": "stream",
     "text": [
      "skipped ../speech-bahasa/LibriSpeech/train-clean-100/4859/26870/4859-26870-0018.flac\n",
      "skipped ../speech-bahasa/LibriSpeech/train-clean-100/4859/26870/4859-26870-0023.flac\n"
     ]
    },
    {
     "name": "stderr",
     "output_type": "stream",
     "text": [
      " 73%|███████▎  | 22618/31159 [15:01<06:25, 22.13it/s]"
     ]
    },
    {
     "name": "stdout",
     "output_type": "stream",
     "text": [
      "skipped ../speech-bahasa/LibriSpeech/train-clean-100/4859/22176/4859-22176-0016.flac\n",
      "skipped ../speech-bahasa/LibriSpeech/train-clean-100/4859/22176/4859-22176-0020.flac\n"
     ]
    },
    {
     "name": "stderr",
     "output_type": "stream",
     "text": [
      " 73%|███████▎  | 22653/31159 [15:03<07:38, 18.54it/s]"
     ]
    },
    {
     "name": "stdout",
     "output_type": "stream",
     "text": [
      "skipped ../speech-bahasa/LibriSpeech/train-clean-100/4859/29340/4859-29340-0026.flac\n"
     ]
    },
    {
     "name": "stderr",
     "output_type": "stream",
     "text": [
      " 73%|███████▎  | 22668/31159 [15:03<05:06, 27.74it/s]"
     ]
    },
    {
     "name": "stdout",
     "output_type": "stream",
     "text": [
      "skipped ../speech-bahasa/LibriSpeech/train-clean-100/6925/80680/6925-80680-0001.flac\n"
     ]
    },
    {
     "name": "stderr",
     "output_type": "stream",
     "text": [
      " 73%|███████▎  | 22681/31159 [15:03<04:59, 28.29it/s]"
     ]
    },
    {
     "name": "stdout",
     "output_type": "stream",
     "text": [
      "skipped ../speech-bahasa/LibriSpeech/train-clean-100/6925/80680/6925-80680-0010.flac\n"
     ]
    },
    {
     "name": "stderr",
     "output_type": "stream",
     "text": [
      " 73%|███████▎  | 22693/31159 [15:04<04:38, 30.37it/s]"
     ]
    },
    {
     "name": "stdout",
     "output_type": "stream",
     "text": [
      "skipped ../speech-bahasa/LibriSpeech/train-clean-100/6925/80680/6925-80680-0023.flac\n"
     ]
    },
    {
     "name": "stderr",
     "output_type": "stream",
     "text": [
      " 73%|███████▎  | 22747/31159 [15:06<06:57, 20.13it/s]"
     ]
    },
    {
     "name": "stdout",
     "output_type": "stream",
     "text": [
      "skipped ../speech-bahasa/LibriSpeech/train-clean-100/6925/80680/6925-80680-0079.flac\n"
     ]
    },
    {
     "name": "stderr",
     "output_type": "stream",
     "text": [
      " 73%|███████▎  | 22817/31159 [15:08<04:41, 29.66it/s]"
     ]
    },
    {
     "name": "stdout",
     "output_type": "stream",
     "text": [
      "skipped ../speech-bahasa/LibriSpeech/train-clean-100/5561/41616/5561-41616-0013.flac\n"
     ]
    },
    {
     "name": "stderr",
     "output_type": "stream",
     "text": [
      " 73%|███████▎  | 22825/31159 [15:09<04:40, 29.67it/s]"
     ]
    },
    {
     "name": "stdout",
     "output_type": "stream",
     "text": [
      "skipped ../speech-bahasa/LibriSpeech/train-clean-100/5561/41616/5561-41616-0024.flac\n"
     ]
    },
    {
     "name": "stderr",
     "output_type": "stream",
     "text": [
      " 73%|███████▎  | 22834/31159 [15:09<04:09, 33.34it/s]"
     ]
    },
    {
     "name": "stdout",
     "output_type": "stream",
     "text": [
      "skipped ../speech-bahasa/LibriSpeech/train-clean-100/5561/41616/5561-41616-0032.flac\n",
      "skipped ../speech-bahasa/LibriSpeech/train-clean-100/5561/41616/5561-41616-0033.flac\n"
     ]
    },
    {
     "name": "stderr",
     "output_type": "stream",
     "text": [
      " 73%|███████▎  | 22854/31159 [15:10<05:32, 25.01it/s]"
     ]
    },
    {
     "name": "stdout",
     "output_type": "stream",
     "text": [
      "skipped ../speech-bahasa/LibriSpeech/train-clean-100/5561/41615/5561-41615-0014.flac\n"
     ]
    },
    {
     "name": "stderr",
     "output_type": "stream",
     "text": [
      " 74%|███████▎  | 22911/31159 [15:12<04:56, 27.79it/s]"
     ]
    },
    {
     "name": "stdout",
     "output_type": "stream",
     "text": [
      "skipped ../speech-bahasa/LibriSpeech/train-clean-100/211/122425/211-122425-0019.flac\n"
     ]
    },
    {
     "name": "stderr",
     "output_type": "stream",
     "text": [
      " 74%|███████▎  | 22936/31159 [15:13<03:48, 35.96it/s]"
     ]
    },
    {
     "name": "stdout",
     "output_type": "stream",
     "text": [
      "skipped ../speech-bahasa/LibriSpeech/train-clean-100/211/122425/211-122425-0044.flac\n",
      "skipped ../speech-bahasa/LibriSpeech/train-clean-100/211/122425/211-122425-0045.flac\n",
      "skipped ../speech-bahasa/LibriSpeech/train-clean-100/211/122425/211-122425-0047.flac\n"
     ]
    },
    {
     "name": "stderr",
     "output_type": "stream",
     "text": [
      " 74%|███████▍  | 23010/31159 [15:15<03:27, 39.33it/s]"
     ]
    },
    {
     "name": "stdout",
     "output_type": "stream",
     "text": [
      "skipped ../speech-bahasa/LibriSpeech/train-clean-100/211/122442/211-122442-0038.flac\n"
     ]
    },
    {
     "name": "stderr",
     "output_type": "stream",
     "text": [
      " 74%|███████▍  | 23064/31159 [15:16<04:10, 32.35it/s]"
     ]
    },
    {
     "name": "stdout",
     "output_type": "stream",
     "text": [
      "skipped ../speech-bahasa/LibriSpeech/train-clean-100/5808/54425/5808-54425-0009.flac\n",
      "skipped ../speech-bahasa/LibriSpeech/train-clean-100/5808/54425/5808-54425-0011.flac\n",
      "skipped ../speech-bahasa/LibriSpeech/train-clean-100/5808/54425/5808-54425-0016.flac\n"
     ]
    },
    {
     "name": "stderr",
     "output_type": "stream",
     "text": [
      " 74%|███████▍  | 23115/31159 [15:18<04:05, 32.82it/s]"
     ]
    },
    {
     "name": "stdout",
     "output_type": "stream",
     "text": [
      "skipped ../speech-bahasa/LibriSpeech/train-clean-100/5808/48608/5808-48608-0003.flac\n"
     ]
    },
    {
     "name": "stderr",
     "output_type": "stream",
     "text": [
      " 74%|███████▍  | 23126/31159 [15:19<05:43, 23.37it/s]"
     ]
    },
    {
     "name": "stdout",
     "output_type": "stream",
     "text": [
      "skipped ../speech-bahasa/LibriSpeech/train-clean-100/5808/48608/5808-48608-0012.flac\n"
     ]
    },
    {
     "name": "stderr",
     "output_type": "stream",
     "text": [
      " 74%|███████▍  | 23140/31159 [15:19<05:09, 25.94it/s]"
     ]
    },
    {
     "name": "stdout",
     "output_type": "stream",
     "text": [
      "skipped ../speech-bahasa/LibriSpeech/train-clean-100/5808/48608/5808-48608-0025.flac\n"
     ]
    },
    {
     "name": "stderr",
     "output_type": "stream",
     "text": [
      " 74%|███████▍  | 23161/31159 [15:20<07:14, 18.39it/s]"
     ]
    },
    {
     "name": "stdout",
     "output_type": "stream",
     "text": [
      "skipped ../speech-bahasa/LibriSpeech/train-clean-100/5808/48608/5808-48608-0047.flac\n"
     ]
    },
    {
     "name": "stderr",
     "output_type": "stream",
     "text": [
      " 75%|███████▍  | 23223/31159 [15:23<04:34, 28.95it/s]"
     ]
    },
    {
     "name": "stdout",
     "output_type": "stream",
     "text": [
      "skipped ../speech-bahasa/LibriSpeech/train-clean-100/1034/121119/1034-121119-0049.flac\n"
     ]
    },
    {
     "name": "stderr",
     "output_type": "stream",
     "text": [
      " 75%|███████▍  | 23280/31159 [15:25<04:27, 29.49it/s]"
     ]
    },
    {
     "name": "stdout",
     "output_type": "stream",
     "text": [
      "skipped ../speech-bahasa/LibriSpeech/train-clean-100/60/121082/60-121082-0009.flac\n"
     ]
    },
    {
     "name": "stderr",
     "output_type": "stream",
     "text": [
      " 75%|███████▍  | 23298/31159 [15:25<04:33, 28.72it/s]"
     ]
    },
    {
     "name": "stdout",
     "output_type": "stream",
     "text": [
      "skipped ../speech-bahasa/LibriSpeech/train-clean-100/60/121082/60-121082-0029.flac\n"
     ]
    },
    {
     "name": "stderr",
     "output_type": "stream",
     "text": [
      " 75%|███████▍  | 23308/31159 [15:26<06:28, 20.23it/s]"
     ]
    },
    {
     "name": "stdout",
     "output_type": "stream",
     "text": [
      "skipped ../speech-bahasa/LibriSpeech/train-clean-100/60/121082/60-121082-0036.flac\n"
     ]
    },
    {
     "name": "stderr",
     "output_type": "stream",
     "text": [
      " 75%|███████▍  | 23319/31159 [15:26<04:42, 27.79it/s]"
     ]
    },
    {
     "name": "stdout",
     "output_type": "stream",
     "text": [
      "skipped ../speech-bahasa/LibriSpeech/train-clean-100/60/121082/60-121082-0048.flac\n"
     ]
    },
    {
     "name": "stderr",
     "output_type": "stream",
     "text": [
      " 75%|███████▍  | 23369/31159 [15:28<04:36, 28.20it/s]"
     ]
    },
    {
     "name": "stdout",
     "output_type": "stream",
     "text": [
      "skipped ../speech-bahasa/LibriSpeech/train-clean-100/8770/295465/8770-295465-0003.flac\n"
     ]
    },
    {
     "name": "stderr",
     "output_type": "stream",
     "text": [
      " 75%|███████▌  | 23380/31159 [15:29<04:46, 27.18it/s]"
     ]
    },
    {
     "name": "stdout",
     "output_type": "stream",
     "text": [
      "skipped ../speech-bahasa/LibriSpeech/train-clean-100/8770/295465/8770-295465-0012.flac\n"
     ]
    },
    {
     "name": "stderr",
     "output_type": "stream",
     "text": [
      " 75%|███████▌  | 23399/31159 [15:29<05:57, 21.69it/s]"
     ]
    },
    {
     "name": "stdout",
     "output_type": "stream",
     "text": [
      "skipped ../speech-bahasa/LibriSpeech/train-clean-100/8770/295465/8770-295465-0029.flac\n"
     ]
    },
    {
     "name": "stderr",
     "output_type": "stream",
     "text": [
      " 75%|███████▌  | 23409/31159 [15:30<05:14, 24.63it/s]"
     ]
    },
    {
     "name": "stdout",
     "output_type": "stream",
     "text": [
      "skipped ../speech-bahasa/LibriSpeech/train-clean-100/8770/295465/8770-295465-0040.flac\n",
      "skipped ../speech-bahasa/LibriSpeech/train-clean-100/8770/295462/8770-295462-0000.flac\n"
     ]
    },
    {
     "name": "stderr",
     "output_type": "stream",
     "text": [
      " 75%|███████▌  | 23512/31159 [15:34<06:41, 19.03it/s]"
     ]
    },
    {
     "name": "stdout",
     "output_type": "stream",
     "text": [
      "skipped ../speech-bahasa/LibriSpeech/train-clean-100/8580/287363/8580-287363-0032.flac\n"
     ]
    },
    {
     "name": "stderr",
     "output_type": "stream",
     "text": [
      " 76%|███████▌  | 23538/31159 [15:35<04:38, 27.37it/s]"
     ]
    },
    {
     "name": "stdout",
     "output_type": "stream",
     "text": [
      "skipped ../speech-bahasa/LibriSpeech/train-clean-100/8580/287364/8580-287364-0021.flac\n",
      "skipped ../speech-bahasa/LibriSpeech/train-clean-100/8580/287364/8580-287364-0023.flac\n"
     ]
    },
    {
     "name": "stderr",
     "output_type": "stream",
     "text": [
      " 76%|███████▌  | 23544/31159 [15:36<04:51, 26.17it/s]"
     ]
    },
    {
     "name": "stdout",
     "output_type": "stream",
     "text": [
      "skipped ../speech-bahasa/LibriSpeech/train-clean-100/8580/287364/8580-287364-0032.flac\n"
     ]
    },
    {
     "name": "stderr",
     "output_type": "stream",
     "text": [
      " 76%|███████▌  | 23555/31159 [15:36<05:43, 22.12it/s]"
     ]
    },
    {
     "name": "stdout",
     "output_type": "stream",
     "text": [
      "skipped ../speech-bahasa/LibriSpeech/train-clean-100/8580/287364/8580-287364-0039.flac\n",
      "skipped ../speech-bahasa/LibriSpeech/train-clean-100/8580/287364/8580-287364-0044.flac\n"
     ]
    },
    {
     "name": "stderr",
     "output_type": "stream",
     "text": [
      " 76%|███████▌  | 23591/31159 [15:37<04:05, 30.85it/s]"
     ]
    },
    {
     "name": "stdout",
     "output_type": "stream",
     "text": [
      "skipped ../speech-bahasa/LibriSpeech/train-clean-100/1455/138263/1455-138263-0026.flac\n"
     ]
    },
    {
     "name": "stderr",
     "output_type": "stream",
     "text": [
      " 76%|███████▌  | 23611/31159 [15:38<04:39, 27.01it/s]"
     ]
    },
    {
     "name": "stdout",
     "output_type": "stream",
     "text": [
      "skipped ../speech-bahasa/LibriSpeech/train-clean-100/1455/138263/1455-138263-0042.flac\n",
      "skipped ../speech-bahasa/LibriSpeech/train-clean-100/1455/138263/1455-138263-0049.flac\n"
     ]
    },
    {
     "name": "stderr",
     "output_type": "stream",
     "text": [
      " 76%|███████▌  | 23621/31159 [15:38<03:50, 32.74it/s]"
     ]
    },
    {
     "name": "stdout",
     "output_type": "stream",
     "text": [
      "skipped ../speech-bahasa/LibriSpeech/train-clean-100/1455/138263/1455-138263-0052.flac\n",
      "skipped ../speech-bahasa/LibriSpeech/train-clean-100/1455/138263/1455-138263-0056.flac\n"
     ]
    },
    {
     "name": "stderr",
     "output_type": "stream",
     "text": [
      " 76%|███████▌  | 23670/31159 [15:40<03:54, 31.89it/s]"
     ]
    },
    {
     "name": "stdout",
     "output_type": "stream",
     "text": [
      "skipped ../speech-bahasa/LibriSpeech/train-clean-100/1455/134435/1455-134435-0042.flac\n",
      "skipped ../speech-bahasa/LibriSpeech/train-clean-100/1455/134435/1455-134435-0047.flac\n",
      "skipped ../speech-bahasa/LibriSpeech/train-clean-100/1455/134435/1455-134435-0048.flac\n",
      "skipped ../speech-bahasa/LibriSpeech/train-clean-100/1455/134435/1455-134435-0049.flac\n"
     ]
    },
    {
     "name": "stderr",
     "output_type": "stream",
     "text": [
      " 76%|███████▌  | 23690/31159 [15:41<03:50, 32.39it/s]"
     ]
    },
    {
     "name": "stdout",
     "output_type": "stream",
     "text": [
      "skipped ../speech-bahasa/LibriSpeech/train-clean-100/1455/134435/1455-134435-0068.flac\n",
      "skipped ../speech-bahasa/LibriSpeech/train-clean-100/3436/172162/3436-172162-0000.flac\n"
     ]
    },
    {
     "name": "stderr",
     "output_type": "stream",
     "text": [
      " 76%|███████▌  | 23716/31159 [15:42<04:33, 27.19it/s]"
     ]
    },
    {
     "name": "stdout",
     "output_type": "stream",
     "text": [
      "skipped ../speech-bahasa/LibriSpeech/train-clean-100/3436/172162/3436-172162-0018.flac\n"
     ]
    },
    {
     "name": "stderr",
     "output_type": "stream",
     "text": [
      " 76%|███████▌  | 23727/31159 [15:42<04:17, 28.85it/s]"
     ]
    },
    {
     "name": "stdout",
     "output_type": "stream",
     "text": [
      "skipped ../speech-bahasa/LibriSpeech/train-clean-100/3436/172162/3436-172162-0032.flac\n"
     ]
    },
    {
     "name": "stderr",
     "output_type": "stream",
     "text": [
      " 76%|███████▌  | 23737/31159 [15:43<04:59, 24.82it/s]"
     ]
    },
    {
     "name": "stdout",
     "output_type": "stream",
     "text": [
      "skipped ../speech-bahasa/LibriSpeech/train-clean-100/3436/172162/3436-172162-0045.flac\n"
     ]
    },
    {
     "name": "stderr",
     "output_type": "stream",
     "text": [
      " 76%|███████▋  | 23790/31159 [15:45<06:04, 20.22it/s]"
     ]
    },
    {
     "name": "stdout",
     "output_type": "stream",
     "text": [
      "skipped ../speech-bahasa/LibriSpeech/train-clean-100/3436/172171/3436-172171-0041.flac\n"
     ]
    },
    {
     "name": "stderr",
     "output_type": "stream",
     "text": [
      " 76%|███████▋  | 23835/31159 [15:47<06:00, 20.34it/s]"
     ]
    },
    {
     "name": "stdout",
     "output_type": "stream",
     "text": [
      "skipped ../speech-bahasa/LibriSpeech/train-clean-100/198/129977/198-129977-0020.flac\n"
     ]
    },
    {
     "name": "stderr",
     "output_type": "stream",
     "text": [
      " 77%|███████▋  | 23858/31159 [15:48<04:19, 28.13it/s]"
     ]
    },
    {
     "name": "stdout",
     "output_type": "stream",
     "text": [
      "skipped ../speech-bahasa/LibriSpeech/train-clean-100/198/209/198-209-0010.flac\n"
     ]
    },
    {
     "name": "stderr",
     "output_type": "stream",
     "text": [
      " 77%|███████▋  | 23871/31159 [15:48<03:48, 31.86it/s]"
     ]
    },
    {
     "name": "stdout",
     "output_type": "stream",
     "text": [
      "skipped ../speech-bahasa/LibriSpeech/train-clean-100/198/209/198-209-0021.flac\n",
      "skipped ../speech-bahasa/LibriSpeech/train-clean-100/198/209/198-209-0023.flac\n"
     ]
    },
    {
     "name": "stderr",
     "output_type": "stream",
     "text": [
      " 77%|███████▋  | 23887/31159 [15:49<04:41, 25.79it/s]"
     ]
    },
    {
     "name": "stdout",
     "output_type": "stream",
     "text": [
      "skipped ../speech-bahasa/LibriSpeech/train-clean-100/198/126831/198-126831-0000.flac\n"
     ]
    },
    {
     "name": "stderr",
     "output_type": "stream",
     "text": [
      " 77%|███████▋  | 23907/31159 [15:49<03:50, 31.47it/s]"
     ]
    },
    {
     "name": "stdout",
     "output_type": "stream",
     "text": [
      "skipped ../speech-bahasa/LibriSpeech/train-clean-100/198/126831/198-126831-0015.flac\n",
      "skipped ../speech-bahasa/LibriSpeech/train-clean-100/198/126831/198-126831-0021.flac\n"
     ]
    },
    {
     "name": "stderr",
     "output_type": "stream",
     "text": [
      " 77%|███████▋  | 23919/31159 [15:50<04:01, 29.97it/s]"
     ]
    },
    {
     "name": "stdout",
     "output_type": "stream",
     "text": [
      "skipped ../speech-bahasa/LibriSpeech/train-clean-100/198/126831/198-126831-0029.flac\n"
     ]
    },
    {
     "name": "stderr",
     "output_type": "stream",
     "text": [
      " 77%|███████▋  | 23948/31159 [15:51<04:09, 28.90it/s]"
     ]
    },
    {
     "name": "stdout",
     "output_type": "stream",
     "text": [
      "skipped ../speech-bahasa/LibriSpeech/train-clean-100/8312/279790/8312-279790-0006.flac\n"
     ]
    },
    {
     "name": "stderr",
     "output_type": "stream",
     "text": [
      " 77%|███████▋  | 23956/31159 [15:51<04:04, 29.42it/s]"
     ]
    },
    {
     "name": "stdout",
     "output_type": "stream",
     "text": [
      "skipped ../speech-bahasa/LibriSpeech/train-clean-100/8312/279790/8312-279790-0014.flac\n",
      "skipped ../speech-bahasa/LibriSpeech/train-clean-100/8312/279790/8312-279790-0019.flac\n"
     ]
    },
    {
     "name": "stderr",
     "output_type": "stream",
     "text": [
      " 77%|███████▋  | 23968/31159 [15:52<04:09, 28.87it/s]"
     ]
    },
    {
     "name": "stdout",
     "output_type": "stream",
     "text": [
      "skipped ../speech-bahasa/LibriSpeech/train-clean-100/8312/279790/8312-279790-0030.flac\n",
      "skipped ../speech-bahasa/LibriSpeech/train-clean-100/8312/279790/8312-279790-0031.flac\n"
     ]
    },
    {
     "name": "stderr",
     "output_type": "stream",
     "text": [
      " 77%|███████▋  | 23988/31159 [15:53<04:45, 25.15it/s]"
     ]
    },
    {
     "name": "stdout",
     "output_type": "stream",
     "text": [
      "skipped ../speech-bahasa/LibriSpeech/train-clean-100/8312/279790/8312-279790-0046.flac\n"
     ]
    },
    {
     "name": "stderr",
     "output_type": "stream",
     "text": [
      " 77%|███████▋  | 23996/31159 [15:53<04:22, 27.24it/s]"
     ]
    },
    {
     "name": "stdout",
     "output_type": "stream",
     "text": [
      "skipped ../speech-bahasa/LibriSpeech/train-clean-100/8312/279791/8312-279791-0000.flac\n",
      "skipped ../speech-bahasa/LibriSpeech/train-clean-100/8312/279791/8312-279791-0004.flac\n"
     ]
    },
    {
     "name": "stderr",
     "output_type": "stream",
     "text": [
      " 77%|███████▋  | 24000/31159 [15:53<04:09, 28.68it/s]"
     ]
    },
    {
     "name": "stdout",
     "output_type": "stream",
     "text": [
      "skipped ../speech-bahasa/LibriSpeech/train-clean-100/8312/279791/8312-279791-0007.flac\n"
     ]
    },
    {
     "name": "stderr",
     "output_type": "stream",
     "text": [
      " 77%|███████▋  | 24010/31159 [15:53<04:17, 27.71it/s]"
     ]
    },
    {
     "name": "stdout",
     "output_type": "stream",
     "text": [
      "skipped ../speech-bahasa/LibriSpeech/train-clean-100/8312/279791/8312-279791-0017.flac\n"
     ]
    },
    {
     "name": "stderr",
     "output_type": "stream",
     "text": [
      " 77%|███████▋  | 24036/31159 [15:55<04:37, 25.70it/s]"
     ]
    },
    {
     "name": "stdout",
     "output_type": "stream",
     "text": [
      "skipped ../speech-bahasa/LibriSpeech/train-clean-100/8312/279791/8312-279791-0043.flac\n"
     ]
    },
    {
     "name": "stderr",
     "output_type": "stream",
     "text": [
      " 77%|███████▋  | 24046/31159 [15:55<04:35, 25.84it/s]"
     ]
    },
    {
     "name": "stdout",
     "output_type": "stream",
     "text": [
      "skipped ../speech-bahasa/LibriSpeech/train-clean-100/8312/279791/8312-279791-0051.flac\n"
     ]
    },
    {
     "name": "stderr",
     "output_type": "stream",
     "text": [
      " 77%|███████▋  | 24049/31159 [15:55<04:39, 25.47it/s]"
     ]
    },
    {
     "name": "stdout",
     "output_type": "stream",
     "text": [
      "skipped ../speech-bahasa/LibriSpeech/train-clean-100/1246/124550/1246-124550-0005.flac\n"
     ]
    },
    {
     "name": "stderr",
     "output_type": "stream",
     "text": [
      " 77%|███████▋  | 24059/31159 [15:56<05:37, 21.03it/s]"
     ]
    },
    {
     "name": "stdout",
     "output_type": "stream",
     "text": [
      "skipped ../speech-bahasa/LibriSpeech/train-clean-100/1246/124550/1246-124550-0011.flac\n"
     ]
    },
    {
     "name": "stderr",
     "output_type": "stream",
     "text": [
      " 77%|███████▋  | 24078/31159 [15:56<04:38, 25.39it/s]"
     ]
    },
    {
     "name": "stdout",
     "output_type": "stream",
     "text": [
      "skipped ../speech-bahasa/LibriSpeech/train-clean-100/1246/124550/1246-124550-0029.flac\n"
     ]
    },
    {
     "name": "stderr",
     "output_type": "stream",
     "text": [
      " 77%|███████▋  | 24124/31159 [15:58<04:08, 28.26it/s]"
     ]
    },
    {
     "name": "stdout",
     "output_type": "stream",
     "text": [
      "skipped ../speech-bahasa/LibriSpeech/train-clean-100/1246/124548/1246-124548-0034.flac\n"
     ]
    },
    {
     "name": "stderr",
     "output_type": "stream",
     "text": [
      " 78%|███████▊  | 24173/31159 [16:00<04:00, 29.07it/s]"
     ]
    },
    {
     "name": "stdout",
     "output_type": "stream",
     "text": [
      "skipped ../speech-bahasa/LibriSpeech/train-clean-100/4481/17498/4481-17498-0007.flac\n"
     ]
    },
    {
     "name": "stderr",
     "output_type": "stream",
     "text": [
      " 78%|███████▊  | 24181/31159 [16:00<03:56, 29.53it/s]"
     ]
    },
    {
     "name": "stdout",
     "output_type": "stream",
     "text": [
      "skipped ../speech-bahasa/LibriSpeech/train-clean-100/4481/17498/4481-17498-0014.flac\n",
      "skipped ../speech-bahasa/LibriSpeech/train-clean-100/4481/17498/4481-17498-0018.flac\n",
      "skipped ../speech-bahasa/LibriSpeech/train-clean-100/4481/17498/4481-17498-0020.flac\n"
     ]
    },
    {
     "name": "stderr",
     "output_type": "stream",
     "text": [
      " 78%|███████▊  | 24189/31159 [16:01<03:49, 30.32it/s]"
     ]
    },
    {
     "name": "stdout",
     "output_type": "stream",
     "text": [
      "skipped ../speech-bahasa/LibriSpeech/train-clean-100/4481/17498/4481-17498-0025.flac\n"
     ]
    },
    {
     "name": "stderr",
     "output_type": "stream",
     "text": [
      " 78%|███████▊  | 24200/31159 [16:01<05:00, 23.19it/s]"
     ]
    },
    {
     "name": "stdout",
     "output_type": "stream",
     "text": [
      "skipped ../speech-bahasa/LibriSpeech/train-clean-100/4481/17498/4481-17498-0034.flac\n"
     ]
    },
    {
     "name": "stderr",
     "output_type": "stream",
     "text": [
      " 78%|███████▊  | 24210/31159 [16:02<04:25, 26.15it/s]"
     ]
    },
    {
     "name": "stdout",
     "output_type": "stream",
     "text": [
      "skipped ../speech-bahasa/LibriSpeech/train-clean-100/4481/17498/4481-17498-0043.flac\n"
     ]
    },
    {
     "name": "stderr",
     "output_type": "stream",
     "text": [
      " 78%|███████▊  | 24224/31159 [16:02<03:58, 29.02it/s]"
     ]
    },
    {
     "name": "stdout",
     "output_type": "stream",
     "text": [
      "skipped ../speech-bahasa/LibriSpeech/train-clean-100/4481/17499/4481-17499-0012.flac\n"
     ]
    },
    {
     "name": "stderr",
     "output_type": "stream",
     "text": [
      " 78%|███████▊  | 24238/31159 [16:03<05:30, 20.97it/s]"
     ]
    },
    {
     "name": "stdout",
     "output_type": "stream",
     "text": [
      "skipped ../speech-bahasa/LibriSpeech/train-clean-100/4481/17499/4481-17499-0022.flac\n",
      "skipped ../speech-bahasa/LibriSpeech/train-clean-100/4481/17499/4481-17499-0025.flac\n"
     ]
    },
    {
     "name": "stderr",
     "output_type": "stream",
     "text": [
      " 78%|███████▊  | 24260/31159 [16:04<04:25, 26.02it/s]"
     ]
    },
    {
     "name": "stdout",
     "output_type": "stream",
     "text": [
      "skipped ../speech-bahasa/LibriSpeech/train-clean-100/4481/17499/4481-17499-0045.flac\n"
     ]
    },
    {
     "name": "stderr",
     "output_type": "stream",
     "text": [
      " 78%|███████▊  | 24281/31159 [16:05<05:06, 22.43it/s]"
     ]
    },
    {
     "name": "stdout",
     "output_type": "stream",
     "text": [
      "skipped ../speech-bahasa/LibriSpeech/train-clean-100/311/124404/311-124404-0020.flac\n",
      "skipped ../speech-bahasa/LibriSpeech/train-clean-100/311/124404/311-124404-0021.flac\n"
     ]
    },
    {
     "name": "stderr",
     "output_type": "stream",
     "text": [
      " 78%|███████▊  | 24315/31159 [16:06<04:18, 26.43it/s]"
     ]
    },
    {
     "name": "stdout",
     "output_type": "stream",
     "text": [
      "skipped ../speech-bahasa/LibriSpeech/train-clean-100/311/124404/311-124404-0057.flac\n"
     ]
    },
    {
     "name": "stderr",
     "output_type": "stream",
     "text": [
      " 78%|███████▊  | 24374/31159 [16:08<04:41, 24.10it/s]"
     ]
    },
    {
     "name": "stdout",
     "output_type": "stream",
     "text": [
      "skipped ../speech-bahasa/LibriSpeech/train-clean-100/311/124404/311-124404-0112.flac\n"
     ]
    },
    {
     "name": "stderr",
     "output_type": "stream",
     "text": [
      " 78%|███████▊  | 24388/31159 [16:09<04:03, 27.83it/s]"
     ]
    },
    {
     "name": "stdout",
     "output_type": "stream",
     "text": [
      "skipped ../speech-bahasa/LibriSpeech/train-clean-100/40/222/40-222-0005.flac\n"
     ]
    },
    {
     "name": "stderr",
     "output_type": "stream",
     "text": [
      " 78%|███████▊  | 24427/31159 [16:10<04:23, 25.50it/s]"
     ]
    },
    {
     "name": "stdout",
     "output_type": "stream",
     "text": [
      "skipped ../speech-bahasa/LibriSpeech/train-clean-100/40/222/40-222-0044.flac\n",
      "skipped ../speech-bahasa/LibriSpeech/train-clean-100/40/222/40-222-0047.flac\n"
     ]
    },
    {
     "name": "stderr",
     "output_type": "stream",
     "text": [
      " 79%|███████▊  | 24483/31159 [16:12<03:45, 29.64it/s]"
     ]
    },
    {
     "name": "stdout",
     "output_type": "stream",
     "text": [
      "skipped ../speech-bahasa/LibriSpeech/train-clean-100/40/121026/40-121026-0029.flac\n"
     ]
    },
    {
     "name": "stderr",
     "output_type": "stream",
     "text": [
      " 79%|███████▊  | 24496/31159 [16:13<04:24, 25.21it/s]"
     ]
    },
    {
     "name": "stdout",
     "output_type": "stream",
     "text": [
      "skipped ../speech-bahasa/LibriSpeech/train-clean-100/40/121026/40-121026-0039.flac\n",
      "skipped ../speech-bahasa/LibriSpeech/train-clean-100/40/121026/40-121026-0042.flac\n",
      "skipped ../speech-bahasa/LibriSpeech/train-clean-100/40/121026/40-121026-0044.flac\n"
     ]
    },
    {
     "name": "stderr",
     "output_type": "stream",
     "text": [
      " 79%|███████▊  | 24500/31159 [16:13<04:07, 26.86it/s]"
     ]
    },
    {
     "name": "stdout",
     "output_type": "stream",
     "text": [
      "skipped ../speech-bahasa/LibriSpeech/train-clean-100/911/130578/911-130578-0002.flac\n"
     ]
    },
    {
     "name": "stderr",
     "output_type": "stream",
     "text": [
      " 79%|███████▊  | 24520/31159 [16:14<03:23, 32.62it/s]"
     ]
    },
    {
     "name": "stdout",
     "output_type": "stream",
     "text": [
      "skipped ../speech-bahasa/LibriSpeech/train-clean-100/911/128684/911-128684-0000.flac\n",
      "skipped ../speech-bahasa/LibriSpeech/train-clean-100/911/128684/911-128684-0001.flac\n",
      "skipped ../speech-bahasa/LibriSpeech/train-clean-100/911/128684/911-128684-0006.flac\n"
     ]
    },
    {
     "name": "stderr",
     "output_type": "stream",
     "text": [
      " 79%|███████▉  | 24568/31159 [16:16<03:47, 28.95it/s]"
     ]
    },
    {
     "name": "stdout",
     "output_type": "stream",
     "text": [
      "skipped ../speech-bahasa/LibriSpeech/train-clean-100/911/128684/911-128684-0048.flac\n"
     ]
    },
    {
     "name": "stderr",
     "output_type": "stream",
     "text": [
      " 79%|███████▉  | 24576/31159 [16:16<03:39, 29.99it/s]"
     ]
    },
    {
     "name": "stdout",
     "output_type": "stream",
     "text": [
      "skipped ../speech-bahasa/LibriSpeech/train-clean-100/911/128684/911-128684-0055.flac\n"
     ]
    },
    {
     "name": "stderr",
     "output_type": "stream",
     "text": [
      " 79%|███████▉  | 24587/31159 [16:17<04:57, 22.08it/s]"
     ]
    },
    {
     "name": "stdout",
     "output_type": "stream",
     "text": [
      "skipped ../speech-bahasa/LibriSpeech/train-clean-100/911/128684/911-128684-0066.flac\n"
     ]
    },
    {
     "name": "stderr",
     "output_type": "stream",
     "text": [
      " 79%|███████▉  | 24597/31159 [16:17<04:06, 26.65it/s]"
     ]
    },
    {
     "name": "stdout",
     "output_type": "stream",
     "text": [
      "skipped ../speech-bahasa/LibriSpeech/train-clean-100/911/128684/911-128684-0079.flac\n"
     ]
    },
    {
     "name": "stderr",
     "output_type": "stream",
     "text": [
      " 79%|███████▉  | 24610/31159 [16:17<03:36, 30.31it/s]"
     ]
    },
    {
     "name": "stdout",
     "output_type": "stream",
     "text": [
      "skipped ../speech-bahasa/LibriSpeech/train-clean-100/911/128684/911-128684-0091.flac\n",
      "skipped ../speech-bahasa/LibriSpeech/train-clean-100/5104/33406/5104-33406-0001.flac\n",
      "skipped ../speech-bahasa/LibriSpeech/train-clean-100/5104/33406/5104-33406-0003.flac\n"
     ]
    },
    {
     "name": "stderr",
     "output_type": "stream",
     "text": [
      " 79%|███████▉  | 24634/31159 [16:18<04:55, 22.11it/s]"
     ]
    },
    {
     "name": "stdout",
     "output_type": "stream",
     "text": [
      "skipped ../speech-bahasa/LibriSpeech/train-clean-100/5104/33406/5104-33406-0023.flac\n"
     ]
    },
    {
     "name": "stderr",
     "output_type": "stream",
     "text": [
      " 79%|███████▉  | 24683/31159 [16:20<04:40, 23.10it/s]"
     ]
    },
    {
     "name": "stdout",
     "output_type": "stream",
     "text": [
      "skipped ../speech-bahasa/LibriSpeech/train-clean-100/5104/33407/5104-33407-0011.flac\n"
     ]
    },
    {
     "name": "stderr",
     "output_type": "stream",
     "text": [
      " 79%|███████▉  | 24697/31159 [16:21<03:42, 29.00it/s]"
     ]
    },
    {
     "name": "stdout",
     "output_type": "stream",
     "text": [
      "skipped ../speech-bahasa/LibriSpeech/train-clean-100/5104/33407/5104-33407-0023.flac\n",
      "skipped ../speech-bahasa/LibriSpeech/train-clean-100/5104/33407/5104-33407-0024.flac\n",
      "skipped ../speech-bahasa/LibriSpeech/train-clean-100/5104/33407/5104-33407-0025.flac\n",
      "skipped ../speech-bahasa/LibriSpeech/train-clean-100/5104/33407/5104-33407-0028.flac\n",
      "skipped ../speech-bahasa/LibriSpeech/train-clean-100/5104/33407/5104-33407-0029.flac\n"
     ]
    },
    {
     "name": "stderr",
     "output_type": "stream",
     "text": [
      " 79%|███████▉  | 24710/31159 [16:21<03:42, 29.05it/s]"
     ]
    },
    {
     "name": "stdout",
     "output_type": "stream",
     "text": [
      "skipped ../speech-bahasa/LibriSpeech/train-clean-100/5104/33407/5104-33407-0040.flac\n"
     ]
    },
    {
     "name": "stderr",
     "output_type": "stream",
     "text": [
      " 79%|███████▉  | 24736/31159 [16:23<04:03, 26.41it/s]"
     ]
    },
    {
     "name": "stdout",
     "output_type": "stream",
     "text": [
      "skipped ../speech-bahasa/LibriSpeech/train-clean-100/1553/140048/1553-140048-0013.flac\n"
     ]
    },
    {
     "name": "stderr",
     "output_type": "stream",
     "text": [
      " 79%|███████▉  | 24763/31159 [16:24<04:44, 22.47it/s]"
     ]
    },
    {
     "name": "stdout",
     "output_type": "stream",
     "text": [
      "skipped ../speech-bahasa/LibriSpeech/train-clean-100/1553/140048/1553-140048-0040.flac\n",
      "skipped ../speech-bahasa/LibriSpeech/train-clean-100/1553/140048/1553-140048-0041.flac\n",
      "skipped ../speech-bahasa/LibriSpeech/train-clean-100/1553/140048/1553-140048-0044.flac\n"
     ]
    },
    {
     "name": "stderr",
     "output_type": "stream",
     "text": [
      " 80%|███████▉  | 24843/31159 [16:27<05:12, 20.18it/s]"
     ]
    },
    {
     "name": "stdout",
     "output_type": "stream",
     "text": [
      "skipped ../speech-bahasa/LibriSpeech/train-clean-100/426/122821/426-122821-0018.flac\n"
     ]
    },
    {
     "name": "stderr",
     "output_type": "stream",
     "text": [
      " 80%|███████▉  | 24853/31159 [16:28<04:17, 24.45it/s]"
     ]
    },
    {
     "name": "stdout",
     "output_type": "stream",
     "text": [
      "skipped ../speech-bahasa/LibriSpeech/train-clean-100/426/122821/426-122821-0027.flac\n"
     ]
    },
    {
     "name": "stderr",
     "output_type": "stream",
     "text": [
      " 80%|███████▉  | 24890/31159 [16:29<04:20, 24.10it/s]"
     ]
    },
    {
     "name": "stdout",
     "output_type": "stream",
     "text": [
      "skipped ../speech-bahasa/LibriSpeech/train-clean-100/426/122819/426-122819-0022.flac\n"
     ]
    },
    {
     "name": "stderr",
     "output_type": "stream",
     "text": [
      " 80%|███████▉  | 24900/31159 [16:30<03:46, 27.59it/s]"
     ]
    },
    {
     "name": "stdout",
     "output_type": "stream",
     "text": [
      "skipped ../speech-bahasa/LibriSpeech/train-clean-100/426/122819/426-122819-0033.flac\n"
     ]
    },
    {
     "name": "stderr",
     "output_type": "stream",
     "text": [
      " 80%|███████▉  | 24908/31159 [16:30<03:41, 28.24it/s]"
     ]
    },
    {
     "name": "stdout",
     "output_type": "stream",
     "text": [
      "skipped ../speech-bahasa/LibriSpeech/train-clean-100/426/122822/426-122822-0003.flac\n"
     ]
    },
    {
     "name": "stderr",
     "output_type": "stream",
     "text": [
      " 80%|███████▉  | 24926/31159 [16:31<04:50, 21.46it/s]"
     ]
    },
    {
     "name": "stdout",
     "output_type": "stream",
     "text": [
      "skipped ../speech-bahasa/LibriSpeech/train-clean-100/426/122822/426-122822-0021.flac\n"
     ]
    },
    {
     "name": "stderr",
     "output_type": "stream",
     "text": [
      " 80%|████████  | 24951/31159 [16:32<04:18, 24.05it/s]"
     ]
    },
    {
     "name": "stdout",
     "output_type": "stream",
     "text": [
      "skipped ../speech-bahasa/LibriSpeech/train-clean-100/248/130644/248-130644-0010.flac\n"
     ]
    },
    {
     "name": "stderr",
     "output_type": "stream",
     "text": [
      " 80%|████████  | 24962/31159 [16:32<03:35, 28.72it/s]"
     ]
    },
    {
     "name": "stdout",
     "output_type": "stream",
     "text": [
      "skipped ../speech-bahasa/LibriSpeech/train-clean-100/248/130644/248-130644-0019.flac\n",
      "skipped ../speech-bahasa/LibriSpeech/train-clean-100/248/130644/248-130644-0021.flac\n"
     ]
    },
    {
     "name": "stderr",
     "output_type": "stream",
     "text": [
      " 80%|████████  | 24982/31159 [16:33<04:04, 25.25it/s]"
     ]
    },
    {
     "name": "stdout",
     "output_type": "stream",
     "text": [
      "skipped ../speech-bahasa/LibriSpeech/train-clean-100/248/130697/248-130697-0003.flac\n"
     ]
    },
    {
     "name": "stderr",
     "output_type": "stream",
     "text": [
      " 80%|████████  | 24991/31159 [16:33<03:31, 29.11it/s]"
     ]
    },
    {
     "name": "stdout",
     "output_type": "stream",
     "text": [
      "skipped ../speech-bahasa/LibriSpeech/train-clean-100/248/130697/248-130697-0010.flac\n",
      "skipped ../speech-bahasa/LibriSpeech/train-clean-100/248/130697/248-130697-0011.flac\n",
      "skipped ../speech-bahasa/LibriSpeech/train-clean-100/248/130697/248-130697-0016.flac\n"
     ]
    },
    {
     "name": "stderr",
     "output_type": "stream",
     "text": [
      " 80%|████████  | 24995/31159 [16:34<03:29, 29.48it/s]"
     ]
    },
    {
     "name": "stdout",
     "output_type": "stream",
     "text": [
      "skipped ../speech-bahasa/LibriSpeech/train-clean-100/248/130697/248-130697-0018.flac\n"
     ]
    },
    {
     "name": "stderr",
     "output_type": "stream",
     "text": [
      " 80%|████████  | 25017/31159 [16:35<04:56, 20.73it/s]"
     ]
    },
    {
     "name": "stdout",
     "output_type": "stream",
     "text": [
      "skipped ../speech-bahasa/LibriSpeech/train-clean-100/248/130652/248-130652-0002.flac\n"
     ]
    },
    {
     "name": "stderr",
     "output_type": "stream",
     "text": [
      " 80%|████████  | 25037/31159 [16:35<04:11, 24.36it/s]"
     ]
    },
    {
     "name": "stdout",
     "output_type": "stream",
     "text": [
      "skipped ../speech-bahasa/LibriSpeech/train-clean-100/248/130652/248-130652-0024.flac\n"
     ]
    },
    {
     "name": "stderr",
     "output_type": "stream",
     "text": [
      " 80%|████████  | 25061/31159 [16:36<04:07, 24.62it/s]"
     ]
    },
    {
     "name": "stdout",
     "output_type": "stream",
     "text": [
      "skipped ../speech-bahasa/LibriSpeech/train-clean-100/8747/293952/8747-293952-0005.flac\n",
      "skipped ../speech-bahasa/LibriSpeech/train-clean-100/8747/293952/8747-293952-0008.flac\n"
     ]
    },
    {
     "name": "stderr",
     "output_type": "stream",
     "text": [
      " 81%|████████  | 25092/31159 [16:37<03:28, 29.09it/s]"
     ]
    },
    {
     "name": "stdout",
     "output_type": "stream",
     "text": [
      "skipped ../speech-bahasa/LibriSpeech/train-clean-100/8747/293952/8747-293952-0041.flac\n"
     ]
    },
    {
     "name": "stderr",
     "output_type": "stream",
     "text": [
      " 81%|████████  | 25123/31159 [16:39<03:42, 27.15it/s]"
     ]
    },
    {
     "name": "stdout",
     "output_type": "stream",
     "text": [
      "skipped ../speech-bahasa/LibriSpeech/train-clean-100/8747/293952/8747-293952-0066.flac\n"
     ]
    },
    {
     "name": "stderr",
     "output_type": "stream",
     "text": [
      " 81%|████████  | 25132/31159 [16:39<03:44, 26.85it/s]"
     ]
    },
    {
     "name": "stdout",
     "output_type": "stream",
     "text": [
      "skipped ../speech-bahasa/LibriSpeech/train-clean-100/8747/293952/8747-293952-0078.flac\n",
      "skipped ../speech-bahasa/LibriSpeech/train-clean-100/8747/293952/8747-293952-0082.flac\n"
     ]
    },
    {
     "name": "stderr",
     "output_type": "stream",
     "text": [
      " 81%|████████  | 25137/31159 [16:39<03:28, 28.95it/s]"
     ]
    },
    {
     "name": "stdout",
     "output_type": "stream",
     "text": [
      "skipped ../speech-bahasa/LibriSpeech/train-clean-100/8747/293952/8747-293952-0087.flac\n"
     ]
    },
    {
     "name": "stderr",
     "output_type": "stream",
     "text": [
      " 81%|████████  | 25146/31159 [16:40<04:09, 24.11it/s]"
     ]
    },
    {
     "name": "stdout",
     "output_type": "stream",
     "text": [
      "skipped ../speech-bahasa/LibriSpeech/train-clean-100/8747/293952/8747-293952-0091.flac\n",
      "skipped ../speech-bahasa/LibriSpeech/train-clean-100/8747/293952/8747-293952-0093.flac\n"
     ]
    },
    {
     "name": "stderr",
     "output_type": "stream",
     "text": [
      " 81%|████████  | 25179/31159 [16:41<03:51, 25.82it/s]"
     ]
    },
    {
     "name": "stdout",
     "output_type": "stream",
     "text": [
      "skipped ../speech-bahasa/LibriSpeech/train-clean-100/8123/275209/8123-275209-0019.flac\n",
      "skipped ../speech-bahasa/LibriSpeech/train-clean-100/8123/275209/8123-275209-0020.flac\n"
     ]
    },
    {
     "name": "stderr",
     "output_type": "stream",
     "text": [
      " 81%|████████  | 25192/31159 [16:41<04:01, 24.75it/s]"
     ]
    },
    {
     "name": "stdout",
     "output_type": "stream",
     "text": [
      "skipped ../speech-bahasa/LibriSpeech/train-clean-100/8123/275209/8123-275209-0026.flac\n"
     ]
    },
    {
     "name": "stderr",
     "output_type": "stream",
     "text": [
      " 81%|████████  | 25220/31159 [16:43<03:38, 27.12it/s]"
     ]
    },
    {
     "name": "stdout",
     "output_type": "stream",
     "text": [
      "skipped ../speech-bahasa/LibriSpeech/train-clean-100/8123/275193/8123-275193-0021.flac\n"
     ]
    },
    {
     "name": "stderr",
     "output_type": "stream",
     "text": [
      " 81%|████████  | 25223/31159 [16:43<03:45, 26.35it/s]"
     ]
    },
    {
     "name": "stdout",
     "output_type": "stream",
     "text": [
      "skipped ../speech-bahasa/LibriSpeech/train-clean-100/8123/275193/8123-275193-0027.flac\n"
     ]
    },
    {
     "name": "stderr",
     "output_type": "stream",
     "text": [
      " 81%|████████  | 25235/31159 [16:43<04:18, 22.88it/s]"
     ]
    },
    {
     "name": "stdout",
     "output_type": "stream",
     "text": [
      "skipped ../speech-bahasa/LibriSpeech/train-clean-100/8123/275216/8123-275216-0005.flac\n",
      "skipped ../speech-bahasa/LibriSpeech/train-clean-100/8123/275216/8123-275216-0006.flac\n"
     ]
    },
    {
     "name": "stderr",
     "output_type": "stream",
     "text": [
      " 81%|████████  | 25251/31159 [16:44<03:51, 25.47it/s]"
     ]
    },
    {
     "name": "stdout",
     "output_type": "stream",
     "text": [
      "skipped ../speech-bahasa/LibriSpeech/train-clean-100/8123/275216/8123-275216-0021.flac\n"
     ]
    },
    {
     "name": "stderr",
     "output_type": "stream",
     "text": [
      " 81%|████████  | 25279/31159 [16:45<04:28, 21.88it/s]"
     ]
    },
    {
     "name": "stdout",
     "output_type": "stream",
     "text": [
      "skipped ../speech-bahasa/LibriSpeech/train-clean-100/7113/86041/7113-86041-0006.flac\n",
      "skipped ../speech-bahasa/LibriSpeech/train-clean-100/7113/86041/7113-86041-0010.flac\n"
     ]
    },
    {
     "name": "stderr",
     "output_type": "stream",
     "text": [
      " 81%|████████  | 25305/31159 [16:46<03:32, 27.56it/s]"
     ]
    },
    {
     "name": "stdout",
     "output_type": "stream",
     "text": [
      "skipped ../speech-bahasa/LibriSpeech/train-clean-100/7113/86041/7113-86041-0029.flac\n",
      "skipped ../speech-bahasa/LibriSpeech/train-clean-100/7113/86041/7113-86041-0033.flac\n"
     ]
    },
    {
     "name": "stderr",
     "output_type": "stream",
     "text": [
      " 81%|████████▏ | 25325/31159 [16:47<03:31, 27.64it/s]"
     ]
    },
    {
     "name": "stdout",
     "output_type": "stream",
     "text": [
      "skipped ../speech-bahasa/LibriSpeech/train-clean-100/7113/86041/7113-86041-0047.flac\n",
      "skipped ../speech-bahasa/LibriSpeech/train-clean-100/7113/86041/7113-86041-0052.flac\n",
      "skipped ../speech-bahasa/LibriSpeech/train-clean-100/7113/86041/7113-86041-0053.flac\n",
      "skipped ../speech-bahasa/LibriSpeech/train-clean-100/7113/86041/7113-86041-0056.flac\n"
     ]
    },
    {
     "name": "stderr",
     "output_type": "stream",
     "text": [
      " 81%|████████▏ | 25330/31159 [16:47<03:11, 30.46it/s]"
     ]
    },
    {
     "name": "stdout",
     "output_type": "stream",
     "text": [
      "skipped ../speech-bahasa/LibriSpeech/train-clean-100/7113/86041/7113-86041-0058.flac\n"
     ]
    },
    {
     "name": "stderr",
     "output_type": "stream",
     "text": [
      " 81%|████████▏ | 25338/31159 [16:47<03:19, 29.17it/s]"
     ]
    },
    {
     "name": "stdout",
     "output_type": "stream",
     "text": [
      "skipped ../speech-bahasa/LibriSpeech/train-clean-100/7113/86041/7113-86041-0065.flac\n",
      "skipped ../speech-bahasa/LibriSpeech/train-clean-100/7113/86041/7113-86041-0069.flac\n"
     ]
    },
    {
     "name": "stderr",
     "output_type": "stream",
     "text": [
      " 81%|████████▏ | 25346/31159 [16:48<03:04, 31.56it/s]"
     ]
    },
    {
     "name": "stdout",
     "output_type": "stream",
     "text": [
      "skipped ../speech-bahasa/LibriSpeech/train-clean-100/7113/86041/7113-86041-0072.flac\n",
      "skipped ../speech-bahasa/LibriSpeech/train-clean-100/7113/86041/7113-86041-0074.flac\n"
     ]
    },
    {
     "name": "stderr",
     "output_type": "stream",
     "text": [
      " 81%|████████▏ | 25358/31159 [16:48<02:56, 32.85it/s]"
     ]
    },
    {
     "name": "stdout",
     "output_type": "stream",
     "text": [
      "skipped ../speech-bahasa/LibriSpeech/train-clean-100/7113/86041/7113-86041-0082.flac\n"
     ]
    },
    {
     "name": "stderr",
     "output_type": "stream",
     "text": [
      " 81%|████████▏ | 25365/31159 [16:49<04:39, 20.75it/s]"
     ]
    },
    {
     "name": "stdout",
     "output_type": "stream",
     "text": [
      "skipped ../speech-bahasa/LibriSpeech/train-clean-100/7113/86041/7113-86041-0090.flac\n"
     ]
    },
    {
     "name": "stderr",
     "output_type": "stream",
     "text": [
      " 82%|████████▏ | 25397/31159 [16:50<03:33, 27.01it/s]"
     ]
    },
    {
     "name": "stdout",
     "output_type": "stream",
     "text": [
      "skipped ../speech-bahasa/LibriSpeech/train-clean-100/3699/19402/3699-19402-0012.flac\n",
      "skipped ../speech-bahasa/LibriSpeech/train-clean-100/3699/19402/3699-19402-0017.flac\n"
     ]
    },
    {
     "name": "stderr",
     "output_type": "stream",
     "text": [
      " 82%|████████▏ | 25416/31159 [16:51<03:45, 25.51it/s]"
     ]
    },
    {
     "name": "stdout",
     "output_type": "stream",
     "text": [
      "skipped ../speech-bahasa/LibriSpeech/train-clean-100/3699/47246/3699-47246-0000.flac\n"
     ]
    },
    {
     "name": "stderr",
     "output_type": "stream",
     "text": [
      " 82%|████████▏ | 25423/31159 [16:51<03:27, 27.58it/s]"
     ]
    },
    {
     "name": "stdout",
     "output_type": "stream",
     "text": [
      "skipped ../speech-bahasa/LibriSpeech/train-clean-100/3699/47246/3699-47246-0007.flac\n",
      "skipped ../speech-bahasa/LibriSpeech/train-clean-100/3699/47246/3699-47246-0011.flac\n",
      "skipped ../speech-bahasa/LibriSpeech/train-clean-100/3699/47246/3699-47246-0012.flac\n"
     ]
    },
    {
     "name": "stderr",
     "output_type": "stream",
     "text": [
      " 82%|████████▏ | 25465/31159 [16:53<04:09, 22.80it/s]"
     ]
    },
    {
     "name": "stdout",
     "output_type": "stream",
     "text": [
      "skipped ../speech-bahasa/LibriSpeech/train-clean-100/3699/175950/3699-175950-0015.flac\n",
      "skipped ../speech-bahasa/LibriSpeech/train-clean-100/3699/175950/3699-175950-0018.flac\n"
     ]
    },
    {
     "name": "stderr",
     "output_type": "stream",
     "text": [
      " 82%|████████▏ | 25513/31159 [16:55<03:27, 27.15it/s]"
     ]
    },
    {
     "name": "stdout",
     "output_type": "stream",
     "text": [
      "skipped ../speech-bahasa/LibriSpeech/train-clean-100/3235/28452/3235-28452-0009.flac\n",
      "skipped ../speech-bahasa/LibriSpeech/train-clean-100/3235/28452/3235-28452-0013.flac\n"
     ]
    },
    {
     "name": "stderr",
     "output_type": "stream",
     "text": [
      " 82%|████████▏ | 25539/31159 [16:56<04:27, 21.00it/s]"
     ]
    },
    {
     "name": "stdout",
     "output_type": "stream",
     "text": [
      "skipped ../speech-bahasa/LibriSpeech/train-clean-100/3235/28433/3235-28433-0003.flac\n",
      "skipped ../speech-bahasa/LibriSpeech/train-clean-100/3235/28433/3235-28433-0007.flac\n"
     ]
    },
    {
     "name": "stderr",
     "output_type": "stream",
     "text": [
      " 82%|████████▏ | 25553/31159 [16:56<03:53, 24.00it/s]"
     ]
    },
    {
     "name": "stdout",
     "output_type": "stream",
     "text": [
      "skipped ../speech-bahasa/LibriSpeech/train-clean-100/3235/28433/3235-28433-0017.flac\n",
      "skipped ../speech-bahasa/LibriSpeech/train-clean-100/3235/28433/3235-28433-0021.flac\n"
     ]
    },
    {
     "name": "stderr",
     "output_type": "stream",
     "text": [
      " 82%|████████▏ | 25595/31159 [16:58<03:26, 26.93it/s]"
     ]
    },
    {
     "name": "stdout",
     "output_type": "stream",
     "text": [
      "skipped ../speech-bahasa/LibriSpeech/train-clean-100/3235/11599/3235-11599-0009.flac\n"
     ]
    },
    {
     "name": "stderr",
     "output_type": "stream",
     "text": [
      " 82%|████████▏ | 25624/31159 [16:59<04:02, 22.82it/s]"
     ]
    },
    {
     "name": "stdout",
     "output_type": "stream",
     "text": [
      "skipped ../speech-bahasa/LibriSpeech/train-clean-100/5192/19396/5192-19396-0007.flac\n",
      "skipped ../speech-bahasa/LibriSpeech/train-clean-100/5192/19396/5192-19396-0013.flac\n"
     ]
    },
    {
     "name": "stderr",
     "output_type": "stream",
     "text": [
      " 82%|████████▏ | 25663/31159 [17:01<03:05, 29.59it/s]"
     ]
    },
    {
     "name": "stdout",
     "output_type": "stream",
     "text": [
      "skipped ../speech-bahasa/LibriSpeech/train-clean-100/5192/19397/5192-19397-0015.flac\n",
      "skipped ../speech-bahasa/LibriSpeech/train-clean-100/5192/19397/5192-19397-0017.flac\n",
      "skipped ../speech-bahasa/LibriSpeech/train-clean-100/5192/19397/5192-19397-0020.flac\n",
      "skipped ../speech-bahasa/LibriSpeech/train-clean-100/5192/19397/5192-19397-0021.flac\n"
     ]
    },
    {
     "name": "stderr",
     "output_type": "stream",
     "text": [
      " 82%|████████▏ | 25671/31159 [17:01<04:02, 22.59it/s]"
     ]
    },
    {
     "name": "stdout",
     "output_type": "stream",
     "text": [
      "skipped ../speech-bahasa/LibriSpeech/train-clean-100/5192/19397/5192-19397-0023.flac\n",
      "skipped ../speech-bahasa/LibriSpeech/train-clean-100/5192/19397/5192-19397-0027.flac\n"
     ]
    },
    {
     "name": "stderr",
     "output_type": "stream",
     "text": [
      " 82%|████████▏ | 25684/31159 [17:02<03:16, 27.87it/s]"
     ]
    },
    {
     "name": "stdout",
     "output_type": "stream",
     "text": [
      "skipped ../speech-bahasa/LibriSpeech/train-clean-100/5192/19397/5192-19397-0034.flac\n"
     ]
    },
    {
     "name": "stderr",
     "output_type": "stream",
     "text": [
      " 83%|████████▎ | 25712/31159 [17:02<02:51, 31.78it/s]"
     ]
    },
    {
     "name": "stdout",
     "output_type": "stream",
     "text": [
      "skipped ../speech-bahasa/LibriSpeech/train-clean-100/5192/19397/5192-19397-0065.flac\n"
     ]
    },
    {
     "name": "stderr",
     "output_type": "stream",
     "text": [
      " 83%|████████▎ | 25749/31159 [17:04<03:15, 27.73it/s]"
     ]
    },
    {
     "name": "stdout",
     "output_type": "stream",
     "text": [
      "skipped ../speech-bahasa/LibriSpeech/train-clean-100/4214/7146/4214-7146-0015.flac\n"
     ]
    },
    {
     "name": "stderr",
     "output_type": "stream",
     "text": [
      " 83%|████████▎ | 25778/31159 [17:05<03:08, 28.60it/s]"
     ]
    },
    {
     "name": "stdout",
     "output_type": "stream",
     "text": [
      "skipped ../speech-bahasa/LibriSpeech/train-clean-100/4214/7146/4214-7146-0041.flac\n",
      "skipped ../speech-bahasa/LibriSpeech/train-clean-100/4214/7146/4214-7146-0045.flac\n",
      "skipped ../speech-bahasa/LibriSpeech/train-clean-100/4214/7146/4214-7146-0046.flac\n"
     ]
    },
    {
     "name": "stderr",
     "output_type": "stream",
     "text": [
      " 83%|████████▎ | 25796/31159 [17:06<03:03, 29.28it/s]"
     ]
    },
    {
     "name": "stdout",
     "output_type": "stream",
     "text": [
      "skipped ../speech-bahasa/LibriSpeech/train-clean-100/4214/7146/4214-7146-0062.flac\n",
      "skipped ../speech-bahasa/LibriSpeech/train-clean-100/4214/7146/4214-7146-0064.flac\n"
     ]
    },
    {
     "name": "stderr",
     "output_type": "stream",
     "text": [
      " 83%|████████▎ | 25809/31159 [17:07<05:07, 17.39it/s]"
     ]
    },
    {
     "name": "stdout",
     "output_type": "stream",
     "text": [
      "skipped ../speech-bahasa/LibriSpeech/train-clean-100/4214/7146/4214-7146-0075.flac\n",
      "skipped ../speech-bahasa/LibriSpeech/train-clean-100/4214/7146/4214-7146-0079.flac\n"
     ]
    },
    {
     "name": "stderr",
     "output_type": "stream",
     "text": [
      " 83%|████████▎ | 25887/31159 [17:10<03:30, 25.02it/s]"
     ]
    },
    {
     "name": "stdout",
     "output_type": "stream",
     "text": [
      "skipped ../speech-bahasa/LibriSpeech/train-clean-100/2911/7601/2911-7601-0045.flac\n"
     ]
    },
    {
     "name": "stderr",
     "output_type": "stream",
     "text": [
      " 83%|████████▎ | 25896/31159 [17:10<04:56, 17.77it/s]"
     ]
    },
    {
     "name": "stdout",
     "output_type": "stream",
     "text": [
      "skipped ../speech-bahasa/LibriSpeech/train-clean-100/2911/15045/2911-15045-0003.flac\n"
     ]
    },
    {
     "name": "stderr",
     "output_type": "stream",
     "text": [
      " 83%|████████▎ | 25904/31159 [17:10<03:51, 22.68it/s]"
     ]
    },
    {
     "name": "stdout",
     "output_type": "stream",
     "text": [
      "skipped ../speech-bahasa/LibriSpeech/train-clean-100/2911/15045/2911-15045-0011.flac\n"
     ]
    },
    {
     "name": "stderr",
     "output_type": "stream",
     "text": [
      " 83%|████████▎ | 25916/31159 [17:11<02:59, 29.19it/s]"
     ]
    },
    {
     "name": "stdout",
     "output_type": "stream",
     "text": [
      "skipped ../speech-bahasa/LibriSpeech/train-clean-100/2911/15045/2911-15045-0022.flac\n"
     ]
    },
    {
     "name": "stderr",
     "output_type": "stream",
     "text": [
      " 83%|████████▎ | 25932/31159 [17:11<02:58, 29.35it/s]"
     ]
    },
    {
     "name": "stdout",
     "output_type": "stream",
     "text": [
      "skipped ../speech-bahasa/LibriSpeech/train-clean-100/2911/15084/2911-15084-0007.flac\n",
      "skipped ../speech-bahasa/LibriSpeech/train-clean-100/2911/15084/2911-15084-0011.flac\n"
     ]
    },
    {
     "name": "stderr",
     "output_type": "stream",
     "text": [
      " 83%|████████▎ | 25959/31159 [17:12<03:21, 25.79it/s]"
     ]
    },
    {
     "name": "stdout",
     "output_type": "stream",
     "text": [
      "skipped ../speech-bahasa/LibriSpeech/train-clean-100/8088/284756/8088-284756-0020.flac\n",
      "skipped ../speech-bahasa/LibriSpeech/train-clean-100/8088/284756/8088-284756-0021.flac\n"
     ]
    },
    {
     "name": "stderr",
     "output_type": "stream",
     "text": [
      " 83%|████████▎ | 25966/31159 [17:13<03:08, 27.51it/s]"
     ]
    },
    {
     "name": "stdout",
     "output_type": "stream",
     "text": [
      "skipped ../speech-bahasa/LibriSpeech/train-clean-100/8088/284756/8088-284756-0029.flac\n"
     ]
    },
    {
     "name": "stderr",
     "output_type": "stream",
     "text": [
      " 83%|████████▎ | 25980/31159 [17:13<02:59, 28.79it/s]"
     ]
    },
    {
     "name": "stdout",
     "output_type": "stream",
     "text": [
      "skipped ../speech-bahasa/LibriSpeech/train-clean-100/8088/284756/8088-284756-0043.flac\n"
     ]
    },
    {
     "name": "stderr",
     "output_type": "stream",
     "text": [
      " 83%|████████▎ | 25993/31159 [17:14<04:12, 20.49it/s]"
     ]
    },
    {
     "name": "stdout",
     "output_type": "stream",
     "text": [
      "skipped ../speech-bahasa/LibriSpeech/train-clean-100/8088/284756/8088-284756-0056.flac\n"
     ]
    },
    {
     "name": "stderr",
     "output_type": "stream",
     "text": [
      " 83%|████████▎ | 26003/31159 [17:14<03:33, 24.17it/s]"
     ]
    },
    {
     "name": "stdout",
     "output_type": "stream",
     "text": [
      "skipped ../speech-bahasa/LibriSpeech/train-clean-100/8088/284756/8088-284756-0065.flac\n"
     ]
    },
    {
     "name": "stderr",
     "output_type": "stream",
     "text": [
      " 84%|████████▎ | 26022/31159 [17:15<02:49, 30.25it/s]"
     ]
    },
    {
     "name": "stdout",
     "output_type": "stream",
     "text": [
      "skipped ../speech-bahasa/LibriSpeech/train-clean-100/8088/284756/8088-284756-0084.flac\n"
     ]
    },
    {
     "name": "stderr",
     "output_type": "stream",
     "text": [
      " 84%|████████▎ | 26045/31159 [17:16<03:32, 24.04it/s]"
     ]
    },
    {
     "name": "stdout",
     "output_type": "stream",
     "text": [
      "skipped ../speech-bahasa/LibriSpeech/train-clean-100/8088/284756/8088-284756-0108.flac\n",
      "skipped ../speech-bahasa/LibriSpeech/train-clean-100/8088/284756/8088-284756-0114.flac\n"
     ]
    },
    {
     "name": "stderr",
     "output_type": "stream",
     "text": [
      " 84%|████████▎ | 26065/31159 [17:17<03:06, 27.29it/s]"
     ]
    },
    {
     "name": "stdout",
     "output_type": "stream",
     "text": [
      "skipped ../speech-bahasa/LibriSpeech/train-clean-100/125/121342/125-121342-0009.flac\n"
     ]
    },
    {
     "name": "stderr",
     "output_type": "stream",
     "text": [
      " 84%|████████▍ | 26158/31159 [17:20<02:49, 29.47it/s]"
     ]
    },
    {
     "name": "stdout",
     "output_type": "stream",
     "text": [
      "skipped ../speech-bahasa/LibriSpeech/train-clean-100/125/121124/125-121124-0050.flac\n",
      "skipped ../speech-bahasa/LibriSpeech/train-clean-100/125/121124/125-121124-0053.flac\n"
     ]
    },
    {
     "name": "stderr",
     "output_type": "stream",
     "text": [
      " 84%|████████▍ | 26185/31159 [17:21<03:16, 25.28it/s]"
     ]
    },
    {
     "name": "stdout",
     "output_type": "stream",
     "text": [
      "skipped ../speech-bahasa/LibriSpeech/train-clean-100/125/121124/125-121124-0076.flac\n"
     ]
    },
    {
     "name": "stderr",
     "output_type": "stream",
     "text": [
      " 84%|████████▍ | 26195/31159 [17:21<02:44, 30.22it/s]"
     ]
    },
    {
     "name": "stdout",
     "output_type": "stream",
     "text": [
      "skipped ../speech-bahasa/LibriSpeech/train-clean-100/2092/145709/2092-145709-0000.flac\n"
     ]
    },
    {
     "name": "stderr",
     "output_type": "stream",
     "text": [
      " 84%|████████▍ | 26203/31159 [17:22<02:52, 28.78it/s]"
     ]
    },
    {
     "name": "stdout",
     "output_type": "stream",
     "text": [
      "skipped ../speech-bahasa/LibriSpeech/train-clean-100/2092/145709/2092-145709-0009.flac\n"
     ]
    },
    {
     "name": "stderr",
     "output_type": "stream",
     "text": [
      " 84%|████████▍ | 26247/31159 [17:24<03:19, 24.61it/s]"
     ]
    },
    {
     "name": "stdout",
     "output_type": "stream",
     "text": [
      "skipped ../speech-bahasa/LibriSpeech/train-clean-100/2092/145706/2092-145706-0029.flac\n"
     ]
    },
    {
     "name": "stderr",
     "output_type": "stream",
     "text": [
      " 84%|████████▍ | 26256/31159 [17:24<03:21, 24.28it/s]"
     ]
    },
    {
     "name": "stdout",
     "output_type": "stream",
     "text": [
      "skipped ../speech-bahasa/LibriSpeech/train-clean-100/2092/145706/2092-145706-0044.flac\n",
      "skipped ../speech-bahasa/LibriSpeech/train-clean-100/2092/145706/2092-145706-0045.flac\n"
     ]
    },
    {
     "name": "stderr",
     "output_type": "stream",
     "text": [
      " 84%|████████▍ | 26274/31159 [17:25<03:11, 25.55it/s]"
     ]
    },
    {
     "name": "stdout",
     "output_type": "stream",
     "text": [
      "skipped ../speech-bahasa/LibriSpeech/train-clean-100/2092/145706/2092-145706-0055.flac\n"
     ]
    },
    {
     "name": "stderr",
     "output_type": "stream",
     "text": [
      " 84%|████████▍ | 26285/31159 [17:25<02:51, 28.44it/s]"
     ]
    },
    {
     "name": "stdout",
     "output_type": "stream",
     "text": [
      "skipped ../speech-bahasa/LibriSpeech/train-clean-100/2092/145706/2092-145706-0067.flac\n",
      "skipped ../speech-bahasa/LibriSpeech/train-clean-100/2092/145706/2092-145706-0070.flac\n"
     ]
    },
    {
     "name": "stderr",
     "output_type": "stream",
     "text": [
      " 84%|████████▍ | 26293/31159 [17:25<02:46, 29.28it/s]"
     ]
    },
    {
     "name": "stdout",
     "output_type": "stream",
     "text": [
      "skipped ../speech-bahasa/LibriSpeech/train-clean-100/2092/145706/2092-145706-0074.flac\n",
      "skipped ../speech-bahasa/LibriSpeech/train-clean-100/2092/145706/2092-145706-0076.flac\n"
     ]
    },
    {
     "name": "stderr",
     "output_type": "stream",
     "text": [
      " 84%|████████▍ | 26300/31159 [17:26<03:11, 25.42it/s]"
     ]
    },
    {
     "name": "stdout",
     "output_type": "stream",
     "text": [
      "skipped ../speech-bahasa/LibriSpeech/train-clean-100/289/121665/289-121665-0005.flac\n"
     ]
    },
    {
     "name": "stderr",
     "output_type": "stream",
     "text": [
      " 85%|████████▍ | 26332/31159 [17:27<03:07, 25.74it/s]"
     ]
    },
    {
     "name": "stdout",
     "output_type": "stream",
     "text": [
      "skipped ../speech-bahasa/LibriSpeech/train-clean-100/289/121665/289-121665-0032.flac\n",
      "skipped ../speech-bahasa/LibriSpeech/train-clean-100/289/121665/289-121665-0037.flac\n"
     ]
    },
    {
     "name": "stderr",
     "output_type": "stream",
     "text": [
      " 85%|████████▍ | 26366/31159 [17:29<02:56, 27.10it/s]"
     ]
    },
    {
     "name": "stdout",
     "output_type": "stream",
     "text": [
      "skipped ../speech-bahasa/LibriSpeech/train-clean-100/289/121652/289-121652-0017.flac\n",
      "skipped ../speech-bahasa/LibriSpeech/train-clean-100/289/121652/289-121652-0018.flac\n"
     ]
    },
    {
     "name": "stderr",
     "output_type": "stream",
     "text": [
      " 85%|████████▍ | 26379/31159 [17:29<02:49, 28.21it/s]"
     ]
    },
    {
     "name": "stdout",
     "output_type": "stream",
     "text": [
      "skipped ../speech-bahasa/LibriSpeech/train-clean-100/289/121652/289-121652-0030.flac\n",
      "skipped ../speech-bahasa/LibriSpeech/train-clean-100/289/121652/289-121652-0036.flac\n"
     ]
    },
    {
     "name": "stderr",
     "output_type": "stream",
     "text": [
      " 85%|████████▍ | 26408/31159 [17:30<03:08, 25.25it/s]"
     ]
    },
    {
     "name": "stdout",
     "output_type": "stream",
     "text": [
      "skipped ../speech-bahasa/LibriSpeech/train-clean-100/19/198/19-198-0021.flac\n"
     ]
    },
    {
     "name": "stderr",
     "output_type": "stream",
     "text": [
      " 85%|████████▍ | 26421/31159 [17:31<02:50, 27.81it/s]"
     ]
    },
    {
     "name": "stdout",
     "output_type": "stream",
     "text": [
      "skipped ../speech-bahasa/LibriSpeech/train-clean-100/19/198/19-198-0034.flac\n"
     ]
    },
    {
     "name": "stderr",
     "output_type": "stream",
     "text": [
      " 85%|████████▍ | 26433/31159 [17:32<04:27, 17.69it/s]"
     ]
    },
    {
     "name": "stdout",
     "output_type": "stream",
     "text": [
      "skipped ../speech-bahasa/LibriSpeech/train-clean-100/19/227/19-227-0008.flac\n"
     ]
    },
    {
     "name": "stderr",
     "output_type": "stream",
     "text": [
      " 85%|████████▍ | 26467/31159 [17:33<03:00, 25.99it/s]"
     ]
    },
    {
     "name": "stdout",
     "output_type": "stream",
     "text": [
      "skipped ../speech-bahasa/LibriSpeech/train-clean-100/19/227/19-227-0041.flac\n"
     ]
    },
    {
     "name": "stderr",
     "output_type": "stream",
     "text": [
      " 85%|████████▌ | 26522/31159 [17:36<03:22, 22.93it/s]"
     ]
    },
    {
     "name": "stdout",
     "output_type": "stream",
     "text": [
      "skipped ../speech-bahasa/LibriSpeech/train-clean-100/4813/248641/4813-248641-0025.flac\n"
     ]
    },
    {
     "name": "stderr",
     "output_type": "stream",
     "text": [
      " 85%|████████▌ | 26544/31159 [17:36<02:55, 26.27it/s]"
     ]
    },
    {
     "name": "stdout",
     "output_type": "stream",
     "text": [
      "skipped ../speech-bahasa/LibriSpeech/train-clean-100/4813/248641/4813-248641-0048.flac\n"
     ]
    },
    {
     "name": "stderr",
     "output_type": "stream",
     "text": [
      " 85%|████████▌ | 26558/31159 [17:37<03:24, 22.53it/s]"
     ]
    },
    {
     "name": "stdout",
     "output_type": "stream",
     "text": [
      "skipped ../speech-bahasa/LibriSpeech/train-clean-100/4813/248638/4813-248638-0006.flac\n"
     ]
    },
    {
     "name": "stderr",
     "output_type": "stream",
     "text": [
      " 85%|████████▌ | 26576/31159 [17:38<02:51, 26.67it/s]"
     ]
    },
    {
     "name": "stdout",
     "output_type": "stream",
     "text": [
      "skipped ../speech-bahasa/LibriSpeech/train-clean-100/4813/248638/4813-248638-0022.flac\n"
     ]
    },
    {
     "name": "stderr",
     "output_type": "stream",
     "text": [
      " 85%|████████▌ | 26585/31159 [17:38<02:51, 26.61it/s]"
     ]
    },
    {
     "name": "stdout",
     "output_type": "stream",
     "text": [
      "skipped ../speech-bahasa/LibriSpeech/train-clean-100/4813/248638/4813-248638-0038.flac\n"
     ]
    },
    {
     "name": "stderr",
     "output_type": "stream",
     "text": [
      " 85%|████████▌ | 26593/31159 [17:39<03:33, 21.41it/s]"
     ]
    },
    {
     "name": "stdout",
     "output_type": "stream",
     "text": [
      "skipped ../speech-bahasa/LibriSpeech/train-clean-100/4813/248638/4813-248638-0040.flac\n"
     ]
    },
    {
     "name": "stderr",
     "output_type": "stream",
     "text": [
      " 85%|████████▌ | 26607/31159 [17:39<02:47, 27.16it/s]"
     ]
    },
    {
     "name": "stdout",
     "output_type": "stream",
     "text": [
      "skipped ../speech-bahasa/LibriSpeech/train-clean-100/4813/248638/4813-248638-0053.flac\n"
     ]
    },
    {
     "name": "stderr",
     "output_type": "stream",
     "text": [
      " 85%|████████▌ | 26630/31159 [17:40<02:24, 31.45it/s]"
     ]
    },
    {
     "name": "stdout",
     "output_type": "stream",
     "text": [
      "skipped ../speech-bahasa/LibriSpeech/train-clean-100/7447/91186/7447-91186-0022.flac\n"
     ]
    },
    {
     "name": "stderr",
     "output_type": "stream",
     "text": [
      " 86%|████████▌ | 26645/31159 [17:41<02:58, 25.26it/s]"
     ]
    },
    {
     "name": "stdout",
     "output_type": "stream",
     "text": [
      "skipped ../speech-bahasa/LibriSpeech/train-clean-100/7447/91186/7447-91186-0036.flac\n"
     ]
    },
    {
     "name": "stderr",
     "output_type": "stream",
     "text": [
      " 86%|████████▌ | 26658/31159 [17:41<02:46, 27.03it/s]"
     ]
    },
    {
     "name": "stdout",
     "output_type": "stream",
     "text": [
      "skipped ../speech-bahasa/LibriSpeech/train-clean-100/7447/91187/7447-91187-0003.flac\n"
     ]
    },
    {
     "name": "stderr",
     "output_type": "stream",
     "text": [
      " 86%|████████▌ | 26672/31159 [17:41<02:34, 29.09it/s]"
     ]
    },
    {
     "name": "stdout",
     "output_type": "stream",
     "text": [
      "skipped ../speech-bahasa/LibriSpeech/train-clean-100/7447/91187/7447-91187-0020.flac\n"
     ]
    },
    {
     "name": "stderr",
     "output_type": "stream",
     "text": [
      " 86%|████████▌ | 26695/31159 [17:43<02:46, 26.77it/s]"
     ]
    },
    {
     "name": "stdout",
     "output_type": "stream",
     "text": [
      "skipped ../speech-bahasa/LibriSpeech/train-clean-100/7447/91187/7447-91187-0040.flac\n",
      "skipped ../speech-bahasa/LibriSpeech/train-clean-100/7447/91187/7447-91187-0046.flac\n"
     ]
    },
    {
     "name": "stderr",
     "output_type": "stream",
     "text": [
      " 86%|████████▌ | 26712/31159 [17:43<02:39, 27.93it/s]"
     ]
    },
    {
     "name": "stdout",
     "output_type": "stream",
     "text": [
      "skipped ../speech-bahasa/LibriSpeech/train-clean-100/7447/91187/7447-91187-0057.flac\n"
     ]
    },
    {
     "name": "stderr",
     "output_type": "stream",
     "text": [
      " 86%|████████▌ | 26724/31159 [17:44<03:16, 22.53it/s]"
     ]
    },
    {
     "name": "stdout",
     "output_type": "stream",
     "text": [
      "skipped ../speech-bahasa/LibriSpeech/train-clean-100/89/219/89-219-0000.flac\n",
      "skipped ../speech-bahasa/LibriSpeech/train-clean-100/89/219/89-219-0003.flac\n",
      "skipped ../speech-bahasa/LibriSpeech/train-clean-100/89/219/89-219-0006.flac\n"
     ]
    },
    {
     "name": "stderr",
     "output_type": "stream",
     "text": [
      " 86%|████████▌ | 26764/31159 [17:45<02:15, 32.42it/s]"
     ]
    },
    {
     "name": "stdout",
     "output_type": "stream",
     "text": [
      "skipped ../speech-bahasa/LibriSpeech/train-clean-100/89/219/89-219-0042.flac\n"
     ]
    },
    {
     "name": "stderr",
     "output_type": "stream",
     "text": [
      " 86%|████████▌ | 26797/31159 [17:46<02:30, 29.00it/s]"
     ]
    },
    {
     "name": "stdout",
     "output_type": "stream",
     "text": [
      "skipped ../speech-bahasa/LibriSpeech/train-clean-100/89/218/89-218-0009.flac\n"
     ]
    },
    {
     "name": "stderr",
     "output_type": "stream",
     "text": [
      " 86%|████████▌ | 26809/31159 [17:47<02:24, 30.16it/s]"
     ]
    },
    {
     "name": "stdout",
     "output_type": "stream",
     "text": [
      "skipped ../speech-bahasa/LibriSpeech/train-clean-100/89/218/89-218-0026.flac\n",
      "skipped ../speech-bahasa/LibriSpeech/train-clean-100/89/218/89-218-0027.flac\n"
     ]
    },
    {
     "name": "stderr",
     "output_type": "stream",
     "text": [
      " 86%|████████▌ | 26837/31159 [17:48<02:35, 27.77it/s]"
     ]
    },
    {
     "name": "stdout",
     "output_type": "stream",
     "text": [
      "skipped ../speech-bahasa/LibriSpeech/train-clean-100/89/218/89-218-0047.flac\n"
     ]
    },
    {
     "name": "stderr",
     "output_type": "stream",
     "text": [
      " 86%|████████▌ | 26845/31159 [17:48<02:26, 29.47it/s]"
     ]
    },
    {
     "name": "stdout",
     "output_type": "stream",
     "text": [
      "skipped ../speech-bahasa/LibriSpeech/train-clean-100/89/218/89-218-0056.flac\n"
     ]
    },
    {
     "name": "stderr",
     "output_type": "stream",
     "text": [
      " 86%|████████▋ | 26905/31159 [17:50<03:39, 19.34it/s]"
     ]
    },
    {
     "name": "stdout",
     "output_type": "stream",
     "text": [
      "skipped ../speech-bahasa/LibriSpeech/train-clean-100/1116/137572/1116-137572-0019.flac\n"
     ]
    },
    {
     "name": "stderr",
     "output_type": "stream",
     "text": [
      " 86%|████████▋ | 26935/31159 [17:52<02:30, 28.10it/s]"
     ]
    },
    {
     "name": "stdout",
     "output_type": "stream",
     "text": [
      "skipped ../speech-bahasa/LibriSpeech/train-clean-100/1116/137572/1116-137572-0048.flac\n"
     ]
    },
    {
     "name": "stderr",
     "output_type": "stream",
     "text": [
      " 87%|████████▋ | 26987/31159 [17:54<02:30, 27.81it/s]"
     ]
    },
    {
     "name": "stdout",
     "output_type": "stream",
     "text": [
      "skipped ../speech-bahasa/LibriSpeech/train-clean-100/39/121915/39-121915-0017.flac\n"
     ]
    },
    {
     "name": "stderr",
     "output_type": "stream",
     "text": [
      " 87%|████████▋ | 27005/31159 [17:54<02:33, 26.98it/s]"
     ]
    },
    {
     "name": "stdout",
     "output_type": "stream",
     "text": [
      "skipped ../speech-bahasa/LibriSpeech/train-clean-100/39/121916/39-121916-0000.flac\n"
     ]
    },
    {
     "name": "stderr",
     "output_type": "stream",
     "text": [
      " 87%|████████▋ | 27020/31159 [17:55<02:23, 28.89it/s]"
     ]
    },
    {
     "name": "stdout",
     "output_type": "stream",
     "text": [
      "skipped ../speech-bahasa/LibriSpeech/train-clean-100/39/121916/39-121916-0013.flac\n",
      "skipped ../speech-bahasa/LibriSpeech/train-clean-100/39/121916/39-121916-0016.flac\n"
     ]
    },
    {
     "name": "stderr",
     "output_type": "stream",
     "text": [
      " 87%|████████▋ | 27033/31159 [17:55<02:12, 31.03it/s]"
     ]
    },
    {
     "name": "stdout",
     "output_type": "stream",
     "text": [
      "skipped ../speech-bahasa/LibriSpeech/train-clean-100/39/121916/39-121916-0023.flac\n"
     ]
    },
    {
     "name": "stderr",
     "output_type": "stream",
     "text": [
      " 87%|████████▋ | 27051/31159 [17:56<02:24, 28.52it/s]"
     ]
    },
    {
     "name": "stdout",
     "output_type": "stream",
     "text": [
      "skipped ../speech-bahasa/LibriSpeech/train-clean-100/39/121914/39-121914-0013.flac\n",
      "skipped ../speech-bahasa/LibriSpeech/train-clean-100/39/121914/39-121914-0020.flac\n"
     ]
    },
    {
     "name": "stderr",
     "output_type": "stream",
     "text": [
      " 87%|████████▋ | 27109/31159 [17:58<02:23, 28.15it/s]"
     ]
    },
    {
     "name": "stdout",
     "output_type": "stream",
     "text": [
      "skipped ../speech-bahasa/LibriSpeech/train-clean-100/1723/141149/1723-141149-0014.flac\n",
      "skipped ../speech-bahasa/LibriSpeech/train-clean-100/1723/141149/1723-141149-0015.flac\n",
      "skipped ../speech-bahasa/LibriSpeech/train-clean-100/1723/141149/1723-141149-0018.flac\n"
     ]
    },
    {
     "name": "stderr",
     "output_type": "stream",
     "text": [
      " 87%|████████▋ | 27121/31159 [17:59<02:21, 28.63it/s]"
     ]
    },
    {
     "name": "stdout",
     "output_type": "stream",
     "text": [
      "skipped ../speech-bahasa/LibriSpeech/train-clean-100/1723/141149/1723-141149-0025.flac\n"
     ]
    },
    {
     "name": "stderr",
     "output_type": "stream",
     "text": [
      " 87%|████████▋ | 27151/31159 [18:00<02:16, 29.33it/s]"
     ]
    },
    {
     "name": "stdout",
     "output_type": "stream",
     "text": [
      "skipped ../speech-bahasa/LibriSpeech/train-clean-100/1723/141149/1723-141149-0052.flac\n",
      "skipped ../speech-bahasa/LibriSpeech/train-clean-100/1723/141149/1723-141149-0056.flac\n"
     ]
    },
    {
     "name": "stderr",
     "output_type": "stream",
     "text": [
      " 87%|████████▋ | 27159/31159 [18:00<02:16, 29.34it/s]"
     ]
    },
    {
     "name": "stdout",
     "output_type": "stream",
     "text": [
      "skipped ../speech-bahasa/LibriSpeech/train-clean-100/1723/141149/1723-141149-0064.flac\n"
     ]
    },
    {
     "name": "stderr",
     "output_type": "stream",
     "text": [
      " 87%|████████▋ | 27207/31159 [18:02<02:25, 27.17it/s]"
     ]
    },
    {
     "name": "stdout",
     "output_type": "stream",
     "text": [
      "skipped ../speech-bahasa/LibriSpeech/train-clean-100/3168/173565/3168-173565-0001.flac\n"
     ]
    },
    {
     "name": "stderr",
     "output_type": "stream",
     "text": [
      " 87%|████████▋ | 27226/31159 [18:03<02:39, 24.63it/s]"
     ]
    },
    {
     "name": "stdout",
     "output_type": "stream",
     "text": [
      "skipped ../speech-bahasa/LibriSpeech/train-clean-100/3168/173565/3168-173565-0019.flac\n"
     ]
    },
    {
     "name": "stderr",
     "output_type": "stream",
     "text": [
      " 87%|████████▋ | 27243/31159 [18:04<02:15, 28.90it/s]"
     ]
    },
    {
     "name": "stdout",
     "output_type": "stream",
     "text": [
      "skipped ../speech-bahasa/LibriSpeech/train-clean-100/3168/173565/3168-173565-0033.flac\n"
     ]
    },
    {
     "name": "stderr",
     "output_type": "stream",
     "text": [
      " 87%|████████▋ | 27262/31159 [18:05<02:35, 25.02it/s]"
     ]
    },
    {
     "name": "stdout",
     "output_type": "stream",
     "text": [
      "skipped ../speech-bahasa/LibriSpeech/train-clean-100/3168/173565/3168-173565-0055.flac\n"
     ]
    },
    {
     "name": "stderr",
     "output_type": "stream",
     "text": [
      " 88%|████████▊ | 27272/31159 [18:05<02:26, 26.57it/s]"
     ]
    },
    {
     "name": "stdout",
     "output_type": "stream",
     "text": [
      "skipped ../speech-bahasa/LibriSpeech/train-clean-100/3168/173564/3168-173564-0002.flac\n"
     ]
    },
    {
     "name": "stderr",
     "output_type": "stream",
     "text": [
      " 88%|████████▊ | 27280/31159 [18:05<02:14, 28.76it/s]"
     ]
    },
    {
     "name": "stdout",
     "output_type": "stream",
     "text": [
      "skipped ../speech-bahasa/LibriSpeech/train-clean-100/3168/173564/3168-173564-0012.flac\n",
      "skipped ../speech-bahasa/LibriSpeech/train-clean-100/3168/173564/3168-173564-0017.flac\n"
     ]
    },
    {
     "name": "stderr",
     "output_type": "stream",
     "text": [
      " 88%|████████▊ | 27291/31159 [18:06<02:10, 29.56it/s]"
     ]
    },
    {
     "name": "stdout",
     "output_type": "stream",
     "text": [
      "skipped ../speech-bahasa/LibriSpeech/train-clean-100/3168/173564/3168-173564-0023.flac\n"
     ]
    },
    {
     "name": "stderr",
     "output_type": "stream",
     "text": [
      " 88%|████████▊ | 27315/31159 [18:07<02:40, 23.91it/s]"
     ]
    },
    {
     "name": "stdout",
     "output_type": "stream",
     "text": [
      "skipped ../speech-bahasa/LibriSpeech/train-clean-100/6836/61804/6836-61804-0000.flac\n"
     ]
    },
    {
     "name": "stderr",
     "output_type": "stream",
     "text": [
      " 88%|████████▊ | 27326/31159 [18:07<02:29, 25.72it/s]"
     ]
    },
    {
     "name": "stdout",
     "output_type": "stream",
     "text": [
      "skipped ../speech-bahasa/LibriSpeech/train-clean-100/6836/61804/6836-61804-0010.flac\n"
     ]
    },
    {
     "name": "stderr",
     "output_type": "stream",
     "text": [
      " 88%|████████▊ | 27352/31159 [18:08<02:29, 25.46it/s]"
     ]
    },
    {
     "name": "stdout",
     "output_type": "stream",
     "text": [
      "skipped ../speech-bahasa/LibriSpeech/train-clean-100/6836/61804/6836-61804-0038.flac\n"
     ]
    },
    {
     "name": "stderr",
     "output_type": "stream",
     "text": [
      " 88%|████████▊ | 27360/31159 [18:09<02:14, 28.32it/s]"
     ]
    },
    {
     "name": "stdout",
     "output_type": "stream",
     "text": [
      "skipped ../speech-bahasa/LibriSpeech/train-clean-100/6836/76549/6836-76549-0006.flac\n"
     ]
    },
    {
     "name": "stderr",
     "output_type": "stream",
     "text": [
      " 88%|████████▊ | 27372/31159 [18:09<02:05, 30.28it/s]"
     ]
    },
    {
     "name": "stdout",
     "output_type": "stream",
     "text": [
      "skipped ../speech-bahasa/LibriSpeech/train-clean-100/6836/76549/6836-76549-0016.flac\n",
      "skipped ../speech-bahasa/LibriSpeech/train-clean-100/6836/76549/6836-76549-0018.flac\n",
      "skipped ../speech-bahasa/LibriSpeech/train-clean-100/6836/76549/6836-76549-0022.flac\n"
     ]
    },
    {
     "name": "stderr",
     "output_type": "stream",
     "text": [
      " 88%|████████▊ | 27380/31159 [18:09<02:02, 30.85it/s]"
     ]
    },
    {
     "name": "stdout",
     "output_type": "stream",
     "text": [
      "skipped ../speech-bahasa/LibriSpeech/train-clean-100/6836/76549/6836-76549-0028.flac\n"
     ]
    },
    {
     "name": "stderr",
     "output_type": "stream",
     "text": [
      " 88%|████████▊ | 27411/31159 [18:11<02:37, 23.80it/s]"
     ]
    },
    {
     "name": "stdout",
     "output_type": "stream",
     "text": [
      "skipped ../speech-bahasa/LibriSpeech/train-clean-100/6836/61803/6836-61803-0026.flac\n"
     ]
    },
    {
     "name": "stderr",
     "output_type": "stream",
     "text": [
      " 88%|████████▊ | 27443/31159 [18:12<02:30, 24.75it/s]"
     ]
    },
    {
     "name": "stdout",
     "output_type": "stream",
     "text": [
      "skipped ../speech-bahasa/LibriSpeech/train-clean-100/27/123349/27-123349-0011.flac\n"
     ]
    },
    {
     "name": "stderr",
     "output_type": "stream",
     "text": [
      " 88%|████████▊ | 27462/31159 [18:13<02:17, 26.84it/s]"
     ]
    },
    {
     "name": "stdout",
     "output_type": "stream",
     "text": [
      "skipped ../speech-bahasa/LibriSpeech/train-clean-100/27/123349/27-123349-0029.flac\n"
     ]
    },
    {
     "name": "stderr",
     "output_type": "stream",
     "text": [
      " 88%|████████▊ | 27474/31159 [18:13<02:06, 29.11it/s]"
     ]
    },
    {
     "name": "stdout",
     "output_type": "stream",
     "text": [
      "skipped ../speech-bahasa/LibriSpeech/train-clean-100/27/123349/27-123349-0041.flac\n",
      "skipped ../speech-bahasa/LibriSpeech/train-clean-100/27/123349/27-123349-0043.flac\n",
      "skipped ../speech-bahasa/LibriSpeech/train-clean-100/27/123349/27-123349-0044.flac\n"
     ]
    },
    {
     "name": "stderr",
     "output_type": "stream",
     "text": [
      " 88%|████████▊ | 27494/31159 [18:14<02:05, 29.27it/s]"
     ]
    },
    {
     "name": "stdout",
     "output_type": "stream",
     "text": [
      "skipped ../speech-bahasa/LibriSpeech/train-clean-100/27/124992/27-124992-0000.flac\n"
     ]
    },
    {
     "name": "stderr",
     "output_type": "stream",
     "text": [
      " 89%|████████▊ | 27583/31159 [18:16<01:46, 33.63it/s]"
     ]
    },
    {
     "name": "stdout",
     "output_type": "stream",
     "text": [
      "skipped ../speech-bahasa/LibriSpeech/train-clean-100/8108/280354/8108-280354-0012.flac\n"
     ]
    },
    {
     "name": "stderr",
     "output_type": "stream",
     "text": [
      " 89%|████████▊ | 27614/31159 [18:17<02:28, 23.92it/s]"
     ]
    },
    {
     "name": "stdout",
     "output_type": "stream",
     "text": [
      "skipped ../speech-bahasa/LibriSpeech/train-clean-100/8108/280359/8108-280359-0013.flac\n",
      "skipped ../speech-bahasa/LibriSpeech/train-clean-100/8108/280359/8108-280359-0017.flac\n"
     ]
    },
    {
     "name": "stderr",
     "output_type": "stream",
     "text": [
      " 89%|████████▊ | 27624/31159 [18:18<02:21, 24.92it/s]"
     ]
    },
    {
     "name": "stdout",
     "output_type": "stream",
     "text": [
      "skipped ../speech-bahasa/LibriSpeech/train-clean-100/8108/280359/8108-280359-0022.flac\n"
     ]
    },
    {
     "name": "stderr",
     "output_type": "stream",
     "text": [
      " 89%|████████▊ | 27631/31159 [18:18<02:13, 26.46it/s]"
     ]
    },
    {
     "name": "stdout",
     "output_type": "stream",
     "text": [
      "skipped ../speech-bahasa/LibriSpeech/train-clean-100/8108/274318/8108-274318-0001.flac\n",
      "skipped ../speech-bahasa/LibriSpeech/train-clean-100/8108/274318/8108-274318-0002.flac\n",
      "skipped ../speech-bahasa/LibriSpeech/train-clean-100/8108/274318/8108-274318-0005.flac\n"
     ]
    },
    {
     "name": "stderr",
     "output_type": "stream",
     "text": [
      " 89%|████████▊ | 27640/31159 [18:18<01:58, 29.60it/s]"
     ]
    },
    {
     "name": "stdout",
     "output_type": "stream",
     "text": [
      "skipped ../speech-bahasa/LibriSpeech/train-clean-100/8108/274318/8108-274318-0009.flac\n",
      "skipped ../speech-bahasa/LibriSpeech/train-clean-100/8108/274318/8108-274318-0010.flac\n"
     ]
    },
    {
     "name": "stderr",
     "output_type": "stream",
     "text": [
      " 89%|████████▉ | 27675/31159 [18:20<02:24, 24.07it/s]"
     ]
    },
    {
     "name": "stdout",
     "output_type": "stream",
     "text": [
      "skipped ../speech-bahasa/LibriSpeech/train-clean-100/8108/274318/8108-274318-0046.flac\n"
     ]
    },
    {
     "name": "stderr",
     "output_type": "stream",
     "text": [
      " 89%|████████▉ | 27709/31159 [18:22<02:29, 23.13it/s]"
     ]
    },
    {
     "name": "stdout",
     "output_type": "stream",
     "text": [
      "skipped ../speech-bahasa/LibriSpeech/train-clean-100/2159/179154/2159-179154-0030.flac\n"
     ]
    },
    {
     "name": "stderr",
     "output_type": "stream",
     "text": [
      " 89%|████████▉ | 27743/31159 [18:23<02:28, 22.98it/s]"
     ]
    },
    {
     "name": "stdout",
     "output_type": "stream",
     "text": [
      "skipped ../speech-bahasa/LibriSpeech/train-clean-100/2159/179157/2159-179157-0024.flac\n",
      "skipped ../speech-bahasa/LibriSpeech/train-clean-100/2159/179157/2159-179157-0028.flac\n"
     ]
    },
    {
     "name": "stderr",
     "output_type": "stream",
     "text": [
      " 89%|████████▉ | 27756/31159 [18:24<02:22, 23.81it/s]"
     ]
    },
    {
     "name": "stdout",
     "output_type": "stream",
     "text": [
      "skipped ../speech-bahasa/LibriSpeech/train-clean-100/2159/179156/2159-179156-0004.flac\n"
     ]
    },
    {
     "name": "stderr",
     "output_type": "stream",
     "text": [
      " 89%|████████▉ | 27762/31159 [18:24<02:27, 23.05it/s]"
     ]
    },
    {
     "name": "stdout",
     "output_type": "stream",
     "text": [
      "skipped ../speech-bahasa/LibriSpeech/train-clean-100/2159/179156/2159-179156-0013.flac\n"
     ]
    },
    {
     "name": "stderr",
     "output_type": "stream",
     "text": [
      " 89%|████████▉ | 27769/31159 [18:24<02:58, 19.00it/s]"
     ]
    },
    {
     "name": "stdout",
     "output_type": "stream",
     "text": [
      "skipped ../speech-bahasa/LibriSpeech/train-clean-100/2159/179156/2159-179156-0017.flac\n"
     ]
    },
    {
     "name": "stderr",
     "output_type": "stream",
     "text": [
      " 89%|████████▉ | 27783/31159 [18:25<02:05, 27.00it/s]"
     ]
    },
    {
     "name": "stdout",
     "output_type": "stream",
     "text": [
      "skipped ../speech-bahasa/LibriSpeech/train-clean-100/2159/179156/2159-179156-0028.flac\n"
     ]
    },
    {
     "name": "stderr",
     "output_type": "stream",
     "text": [
      " 89%|████████▉ | 27795/31159 [18:25<02:02, 27.36it/s]"
     ]
    },
    {
     "name": "stdout",
     "output_type": "stream",
     "text": [
      "skipped ../speech-bahasa/LibriSpeech/train-clean-100/83/9960/83-9960-0004.flac\n"
     ]
    },
    {
     "name": "stderr",
     "output_type": "stream",
     "text": [
      " 89%|████████▉ | 27826/31159 [18:27<02:07, 26.17it/s]"
     ]
    },
    {
     "name": "stdout",
     "output_type": "stream",
     "text": [
      "skipped ../speech-bahasa/LibriSpeech/train-clean-100/83/9960/83-9960-0037.flac\n",
      "skipped ../speech-bahasa/LibriSpeech/train-clean-100/83/9960/83-9960-0042.flac\n"
     ]
    },
    {
     "name": "stderr",
     "output_type": "stream",
     "text": [
      " 89%|████████▉ | 27847/31159 [18:27<01:58, 27.84it/s]"
     ]
    },
    {
     "name": "stdout",
     "output_type": "stream",
     "text": [
      "skipped ../speech-bahasa/LibriSpeech/train-clean-100/83/11691/83-11691-0002.flac\n"
     ]
    },
    {
     "name": "stderr",
     "output_type": "stream",
     "text": [
      " 89%|████████▉ | 27860/31159 [18:28<02:51, 19.21it/s]"
     ]
    },
    {
     "name": "stdout",
     "output_type": "stream",
     "text": [
      "skipped ../speech-bahasa/LibriSpeech/train-clean-100/83/11691/83-11691-0014.flac\n"
     ]
    },
    {
     "name": "stderr",
     "output_type": "stream",
     "text": [
      " 89%|████████▉ | 27875/31159 [18:28<01:50, 29.62it/s]"
     ]
    },
    {
     "name": "stdout",
     "output_type": "stream",
     "text": [
      "skipped ../speech-bahasa/LibriSpeech/train-clean-100/83/11691/83-11691-0026.flac\n",
      "skipped ../speech-bahasa/LibriSpeech/train-clean-100/83/11691/83-11691-0028.flac\n"
     ]
    },
    {
     "name": "stderr",
     "output_type": "stream",
     "text": [
      " 89%|████████▉ | 27883/31159 [18:29<01:46, 30.83it/s]"
     ]
    },
    {
     "name": "stdout",
     "output_type": "stream",
     "text": [
      "skipped ../speech-bahasa/LibriSpeech/train-clean-100/83/11691/83-11691-0035.flac\n"
     ]
    },
    {
     "name": "stderr",
     "output_type": "stream",
     "text": [
      " 90%|████████▉ | 27896/31159 [18:29<01:36, 33.91it/s]"
     ]
    },
    {
     "name": "stdout",
     "output_type": "stream",
     "text": [
      "skipped ../speech-bahasa/LibriSpeech/train-clean-100/83/3054/83-3054-0004.flac\n",
      "skipped ../speech-bahasa/LibriSpeech/train-clean-100/83/3054/83-3054-0005.flac\n"
     ]
    },
    {
     "name": "stderr",
     "output_type": "stream",
     "text": [
      " 90%|████████▉ | 27921/31159 [18:30<02:06, 25.56it/s]"
     ]
    },
    {
     "name": "stdout",
     "output_type": "stream",
     "text": [
      "skipped ../speech-bahasa/LibriSpeech/train-clean-100/6848/252323/6848-252323-0009.flac\n",
      "skipped ../speech-bahasa/LibriSpeech/train-clean-100/6848/252323/6848-252323-0012.flac\n"
     ]
    },
    {
     "name": "stderr",
     "output_type": "stream",
     "text": [
      " 90%|████████▉ | 27944/31159 [18:31<02:11, 24.40it/s]"
     ]
    },
    {
     "name": "stdout",
     "output_type": "stream",
     "text": [
      "skipped ../speech-bahasa/LibriSpeech/train-clean-100/6848/252323/6848-252323-0032.flac\n"
     ]
    },
    {
     "name": "stderr",
     "output_type": "stream",
     "text": [
      " 90%|████████▉ | 27996/31159 [18:34<02:22, 22.13it/s]"
     ]
    },
    {
     "name": "stdout",
     "output_type": "stream",
     "text": [
      "skipped ../speech-bahasa/LibriSpeech/train-clean-100/6848/252322/6848-252322-0006.flac\n",
      "skipped ../speech-bahasa/LibriSpeech/train-clean-100/6848/252322/6848-252322-0007.flac\n",
      "skipped ../speech-bahasa/LibriSpeech/train-clean-100/6848/252322/6848-252322-0009.flac\n",
      "skipped ../speech-bahasa/LibriSpeech/train-clean-100/6848/252322/6848-252322-0013.flac\n"
     ]
    },
    {
     "name": "stderr",
     "output_type": "stream",
     "text": [
      " 90%|████████▉ | 28008/31159 [18:34<01:52, 28.10it/s]"
     ]
    },
    {
     "name": "stdout",
     "output_type": "stream",
     "text": [
      "skipped ../speech-bahasa/LibriSpeech/train-clean-100/6848/252322/6848-252322-0018.flac\n",
      "skipped ../speech-bahasa/LibriSpeech/train-clean-100/6848/252322/6848-252322-0019.flac\n"
     ]
    },
    {
     "name": "stderr",
     "output_type": "stream",
     "text": [
      " 90%|████████▉ | 28016/31159 [18:34<01:49, 28.64it/s]"
     ]
    },
    {
     "name": "stdout",
     "output_type": "stream",
     "text": [
      "skipped ../speech-bahasa/LibriSpeech/train-clean-100/6848/252322/6848-252322-0027.flac\n"
     ]
    },
    {
     "name": "stderr",
     "output_type": "stream",
     "text": [
      " 90%|████████▉ | 28036/31159 [18:35<02:04, 25.07it/s]"
     ]
    },
    {
     "name": "stdout",
     "output_type": "stream",
     "text": [
      "skipped ../speech-bahasa/LibriSpeech/train-clean-100/4362/15663/4362-15663-0013.flac\n"
     ]
    },
    {
     "name": "stderr",
     "output_type": "stream",
     "text": [
      " 90%|█████████ | 28052/31159 [18:36<02:12, 23.44it/s]"
     ]
    },
    {
     "name": "stdout",
     "output_type": "stream",
     "text": [
      "skipped ../speech-bahasa/LibriSpeech/train-clean-100/4362/15663/4362-15663-0032.flac\n"
     ]
    },
    {
     "name": "stderr",
     "output_type": "stream",
     "text": [
      " 90%|█████████ | 28063/31159 [18:36<01:51, 27.66it/s]"
     ]
    },
    {
     "name": "stdout",
     "output_type": "stream",
     "text": [
      "skipped ../speech-bahasa/LibriSpeech/train-clean-100/4362/15663/4362-15663-0042.flac\n",
      "skipped ../speech-bahasa/LibriSpeech/train-clean-100/4362/15663/4362-15663-0044.flac\n"
     ]
    },
    {
     "name": "stderr",
     "output_type": "stream",
     "text": [
      " 90%|█████████ | 28087/31159 [18:37<02:40, 19.12it/s]"
     ]
    },
    {
     "name": "stdout",
     "output_type": "stream",
     "text": [
      "skipped ../speech-bahasa/LibriSpeech/train-clean-100/4362/15663/4362-15663-0065.flac\n"
     ]
    },
    {
     "name": "stderr",
     "output_type": "stream",
     "text": [
      " 90%|█████████ | 28106/31159 [18:38<02:00, 25.25it/s]"
     ]
    },
    {
     "name": "stdout",
     "output_type": "stream",
     "text": [
      "skipped ../speech-bahasa/LibriSpeech/train-clean-100/4362/15663/4362-15663-0083.flac\n"
     ]
    },
    {
     "name": "stderr",
     "output_type": "stream",
     "text": [
      " 90%|█████████ | 28128/31159 [18:39<02:32, 19.92it/s]"
     ]
    },
    {
     "name": "stdout",
     "output_type": "stream",
     "text": [
      "skipped ../speech-bahasa/LibriSpeech/train-clean-100/8324/286683/8324-286683-0000.flac\n"
     ]
    },
    {
     "name": "stderr",
     "output_type": "stream",
     "text": [
      " 90%|█████████ | 28162/31159 [18:41<01:39, 30.16it/s]"
     ]
    },
    {
     "name": "stdout",
     "output_type": "stream",
     "text": [
      "skipped ../speech-bahasa/LibriSpeech/train-clean-100/8324/286683/8324-286683-0034.flac\n",
      "skipped ../speech-bahasa/LibriSpeech/train-clean-100/8324/286683/8324-286683-0035.flac\n"
     ]
    },
    {
     "name": "stderr",
     "output_type": "stream",
     "text": [
      " 90%|█████████ | 28170/31159 [18:41<02:30, 19.80it/s]"
     ]
    },
    {
     "name": "stdout",
     "output_type": "stream",
     "text": [
      "skipped ../speech-bahasa/LibriSpeech/train-clean-100/8324/286682/8324-286682-0004.flac\n"
     ]
    },
    {
     "name": "stderr",
     "output_type": "stream",
     "text": [
      " 90%|█████████ | 28190/31159 [18:42<02:05, 23.60it/s]"
     ]
    },
    {
     "name": "stdout",
     "output_type": "stream",
     "text": [
      "skipped ../speech-bahasa/LibriSpeech/train-clean-100/8324/286682/8324-286682-0022.flac\n"
     ]
    },
    {
     "name": "stderr",
     "output_type": "stream",
     "text": [
      " 90%|█████████ | 28197/31159 [18:42<01:56, 25.40it/s]"
     ]
    },
    {
     "name": "stdout",
     "output_type": "stream",
     "text": [
      "skipped ../speech-bahasa/LibriSpeech/train-clean-100/8324/286682/8324-286682-0031.flac\n"
     ]
    },
    {
     "name": "stderr",
     "output_type": "stream",
     "text": [
      " 91%|█████████ | 28216/31159 [18:43<02:11, 22.31it/s]"
     ]
    },
    {
     "name": "stdout",
     "output_type": "stream",
     "text": [
      "skipped ../speech-bahasa/LibriSpeech/train-clean-100/8324/286681/8324-286681-0001.flac\n"
     ]
    },
    {
     "name": "stderr",
     "output_type": "stream",
     "text": [
      " 91%|█████████ | 28230/31159 [18:44<01:51, 26.21it/s]"
     ]
    },
    {
     "name": "stdout",
     "output_type": "stream",
     "text": [
      "skipped ../speech-bahasa/LibriSpeech/train-clean-100/8324/286681/8324-286681-0015.flac\n"
     ]
    },
    {
     "name": "stderr",
     "output_type": "stream",
     "text": [
      " 91%|█████████ | 28239/31159 [18:44<01:38, 29.70it/s]"
     ]
    },
    {
     "name": "stdout",
     "output_type": "stream",
     "text": [
      "skipped ../speech-bahasa/LibriSpeech/train-clean-100/8324/286681/8324-286681-0024.flac\n"
     ]
    },
    {
     "name": "stderr",
     "output_type": "stream",
     "text": [
      " 91%|█████████ | 28257/31159 [18:45<02:08, 22.55it/s]"
     ]
    },
    {
     "name": "stdout",
     "output_type": "stream",
     "text": [
      "skipped ../speech-bahasa/LibriSpeech/train-clean-100/6818/68772/6818-68772-0014.flac\n",
      "skipped ../speech-bahasa/LibriSpeech/train-clean-100/6818/68772/6818-68772-0017.flac\n"
     ]
    },
    {
     "name": "stderr",
     "output_type": "stream",
     "text": [
      " 91%|█████████ | 28266/31159 [18:45<02:02, 23.59it/s]"
     ]
    },
    {
     "name": "stdout",
     "output_type": "stream",
     "text": [
      "skipped ../speech-bahasa/LibriSpeech/train-clean-100/6818/68772/6818-68772-0025.flac\n"
     ]
    },
    {
     "name": "stderr",
     "output_type": "stream",
     "text": [
      " 91%|█████████ | 28285/31159 [18:46<01:46, 26.96it/s]"
     ]
    },
    {
     "name": "stdout",
     "output_type": "stream",
     "text": [
      "skipped ../speech-bahasa/LibriSpeech/train-clean-100/6818/68772/6818-68772-0042.flac\n",
      "skipped ../speech-bahasa/LibriSpeech/train-clean-100/6818/68772/6818-68772-0043.flac\n"
     ]
    },
    {
     "name": "stderr",
     "output_type": "stream",
     "text": [
      " 91%|█████████ | 28295/31159 [18:47<02:37, 18.20it/s]"
     ]
    },
    {
     "name": "stdout",
     "output_type": "stream",
     "text": [
      "skipped ../speech-bahasa/LibriSpeech/train-clean-100/6818/76332/6818-76332-0005.flac\n"
     ]
    },
    {
     "name": "stderr",
     "output_type": "stream",
     "text": [
      " 91%|█████████ | 28323/31159 [18:48<01:57, 24.05it/s]"
     ]
    },
    {
     "name": "stdout",
     "output_type": "stream",
     "text": [
      "skipped ../speech-bahasa/LibriSpeech/train-clean-100/6818/76332/6818-76332-0033.flac\n"
     ]
    },
    {
     "name": "stderr",
     "output_type": "stream",
     "text": [
      " 91%|█████████ | 28359/31159 [18:49<01:26, 32.23it/s]"
     ]
    },
    {
     "name": "stdout",
     "output_type": "stream",
     "text": [
      "skipped ../speech-bahasa/LibriSpeech/train-clean-100/1183/133256/1183-133256-0005.flac\n",
      "skipped ../speech-bahasa/LibriSpeech/train-clean-100/1183/133256/1183-133256-0007.flac\n",
      "skipped ../speech-bahasa/LibriSpeech/train-clean-100/1183/133256/1183-133256-0013.flac\n"
     ]
    },
    {
     "name": "stderr",
     "output_type": "stream",
     "text": [
      " 91%|█████████ | 28406/31159 [18:51<01:13, 37.67it/s]"
     ]
    },
    {
     "name": "stdout",
     "output_type": "stream",
     "text": [
      "skipped ../speech-bahasa/LibriSpeech/train-clean-100/1183/133255/1183-133255-0004.flac\n"
     ]
    },
    {
     "name": "stderr",
     "output_type": "stream",
     "text": [
      " 91%|█████████ | 28415/31159 [18:51<01:28, 30.97it/s]"
     ]
    },
    {
     "name": "stdout",
     "output_type": "stream",
     "text": [
      "skipped ../speech-bahasa/LibriSpeech/train-clean-100/1594/135914/1594-135914-0000.flac\n"
     ]
    },
    {
     "name": "stderr",
     "output_type": "stream",
     "text": [
      " 91%|█████████▏| 28440/31159 [18:52<02:04, 21.89it/s]"
     ]
    },
    {
     "name": "stdout",
     "output_type": "stream",
     "text": [
      "skipped ../speech-bahasa/LibriSpeech/train-clean-100/1594/135914/1594-135914-0026.flac\n"
     ]
    },
    {
     "name": "stderr",
     "output_type": "stream",
     "text": [
      " 91%|█████████▏| 28507/31159 [18:54<01:23, 31.80it/s]"
     ]
    },
    {
     "name": "stdout",
     "output_type": "stream",
     "text": [
      "skipped ../speech-bahasa/LibriSpeech/train-clean-100/1594/135914/1594-135914-0090.flac\n",
      "skipped ../speech-bahasa/LibriSpeech/train-clean-100/1594/135914/1594-135914-0094.flac\n",
      "skipped ../speech-bahasa/LibriSpeech/train-clean-100/1594/135914/1594-135914-0095.flac\n"
     ]
    },
    {
     "name": "stderr",
     "output_type": "stream",
     "text": [
      " 92%|█████████▏| 28521/31159 [18:55<01:11, 36.89it/s]"
     ]
    },
    {
     "name": "stdout",
     "output_type": "stream",
     "text": [
      "skipped ../speech-bahasa/LibriSpeech/train-clean-100/1594/135914/1594-135914-0107.flac\n",
      "skipped ../speech-bahasa/LibriSpeech/train-clean-100/1594/135914/1594-135914-0109.flac\n"
     ]
    },
    {
     "name": "stderr",
     "output_type": "stream",
     "text": [
      " 92%|█████████▏| 28553/31159 [18:56<01:15, 34.29it/s]"
     ]
    },
    {
     "name": "stdout",
     "output_type": "stream",
     "text": [
      "skipped ../speech-bahasa/LibriSpeech/test-clean/7021/79759/7021-79759-0004.flac\n",
      "skipped ../speech-bahasa/LibriSpeech/test-clean/7021/79730/7021-79730-0003.flac\n",
      "skipped ../speech-bahasa/LibriSpeech/test-clean/7021/79730/7021-79730-0004.flac\n"
     ]
    },
    {
     "name": "stderr",
     "output_type": "stream",
     "text": [
      " 92%|█████████▏| 28569/31159 [18:56<01:05, 39.62it/s]"
     ]
    },
    {
     "name": "stdout",
     "output_type": "stream",
     "text": [
      "skipped ../speech-bahasa/LibriSpeech/test-clean/7021/85628/7021-85628-0007.flac\n"
     ]
    },
    {
     "name": "stderr",
     "output_type": "stream",
     "text": [
      " 92%|█████████▏| 28601/31159 [18:57<00:51, 49.61it/s]"
     ]
    },
    {
     "name": "stdout",
     "output_type": "stream",
     "text": [
      "skipped ../speech-bahasa/LibriSpeech/test-clean/7021/79740/7021-79740-0008.flac\n",
      "skipped ../speech-bahasa/LibriSpeech/test-clean/7729/102255/7729-102255-0003.flac\n"
     ]
    },
    {
     "name": "stderr",
     "output_type": "stream",
     "text": [
      " 92%|█████████▏| 28609/31159 [18:57<00:48, 52.86it/s]"
     ]
    },
    {
     "name": "stdout",
     "output_type": "stream",
     "text": [
      "skipped ../speech-bahasa/LibriSpeech/test-clean/7729/102255/7729-102255-0004.flac\n",
      "skipped ../speech-bahasa/LibriSpeech/test-clean/7729/102255/7729-102255-0006.flac\n",
      "skipped ../speech-bahasa/LibriSpeech/test-clean/7729/102255/7729-102255-0008.flac\n",
      "skipped ../speech-bahasa/LibriSpeech/test-clean/7729/102255/7729-102255-0009.flac\n",
      "skipped ../speech-bahasa/LibriSpeech/test-clean/7729/102255/7729-102255-0011.flac\n"
     ]
    },
    {
     "name": "stderr",
     "output_type": "stream",
     "text": [
      " 92%|█████████▏| 28635/31159 [18:58<01:04, 39.04it/s]"
     ]
    },
    {
     "name": "stdout",
     "output_type": "stream",
     "text": [
      "skipped ../speech-bahasa/LibriSpeech/test-clean/7729/102255/7729-102255-0032.flac\n"
     ]
    },
    {
     "name": "stderr",
     "output_type": "stream",
     "text": [
      " 92%|█████████▏| 28651/31159 [18:58<01:00, 41.36it/s]"
     ]
    },
    {
     "name": "stdout",
     "output_type": "stream",
     "text": [
      "skipped ../speech-bahasa/LibriSpeech/test-clean/7729/102255/7729-102255-0044.flac\n",
      "skipped ../speech-bahasa/LibriSpeech/test-clean/7729/102255/7729-102255-0046.flac\n",
      "skipped ../speech-bahasa/LibriSpeech/test-clean/2300/131720/2300-131720-0003.flac\n",
      "skipped ../speech-bahasa/LibriSpeech/test-clean/2300/131720/2300-131720-0004.flac\n"
     ]
    },
    {
     "name": "stderr",
     "output_type": "stream",
     "text": [
      " 92%|█████████▏| 28666/31159 [18:59<01:05, 37.90it/s]"
     ]
    },
    {
     "name": "stdout",
     "output_type": "stream",
     "text": [
      "skipped ../speech-bahasa/LibriSpeech/test-clean/2300/131720/2300-131720-0016.flac\n",
      "skipped ../speech-bahasa/LibriSpeech/test-clean/2300/131720/2300-131720-0017.flac\n"
     ]
    },
    {
     "name": "stderr",
     "output_type": "stream",
     "text": [
      " 92%|█████████▏| 28670/31159 [18:59<01:08, 36.59it/s]"
     ]
    },
    {
     "name": "stdout",
     "output_type": "stream",
     "text": [
      "skipped ../speech-bahasa/LibriSpeech/test-clean/2300/131720/2300-131720-0026.flac\n",
      "skipped ../speech-bahasa/LibriSpeech/test-clean/2300/131720/2300-131720-0028.flac\n"
     ]
    },
    {
     "name": "stderr",
     "output_type": "stream",
     "text": [
      " 92%|█████████▏| 28687/31159 [18:59<01:09, 35.74it/s]"
     ]
    },
    {
     "name": "stdout",
     "output_type": "stream",
     "text": [
      "skipped ../speech-bahasa/LibriSpeech/test-clean/2300/131720/2300-131720-0031.flac\n",
      "skipped ../speech-bahasa/LibriSpeech/test-clean/2300/131720/2300-131720-0033.flac\n",
      "skipped ../speech-bahasa/LibriSpeech/test-clean/2300/131720/2300-131720-0035.flac\n"
     ]
    },
    {
     "name": "stderr",
     "output_type": "stream",
     "text": [
      " 92%|█████████▏| 28720/31159 [19:00<00:47, 51.77it/s]"
     ]
    },
    {
     "name": "stdout",
     "output_type": "stream",
     "text": [
      "skipped ../speech-bahasa/LibriSpeech/test-clean/1995/1837/1995-1837-0023.flac\n"
     ]
    },
    {
     "name": "stderr",
     "output_type": "stream",
     "text": [
      " 92%|█████████▏| 28726/31159 [19:00<00:48, 50.65it/s]"
     ]
    },
    {
     "name": "stdout",
     "output_type": "stream",
     "text": [
      "skipped ../speech-bahasa/LibriSpeech/test-clean/1995/1836/1995-1836-0004.flac\n",
      "skipped ../speech-bahasa/LibriSpeech/test-clean/1995/1836/1995-1836-0010.flac\n"
     ]
    },
    {
     "name": "stderr",
     "output_type": "stream",
     "text": [
      " 92%|█████████▏| 28765/31159 [19:01<00:44, 53.98it/s]"
     ]
    },
    {
     "name": "stdout",
     "output_type": "stream",
     "text": [
      "skipped ../speech-bahasa/LibriSpeech/test-clean/6930/81414/6930-81414-0001.flac\n"
     ]
    },
    {
     "name": "stderr",
     "output_type": "stream",
     "text": [
      " 92%|█████████▏| 28795/31159 [19:01<00:52, 45.03it/s]"
     ]
    },
    {
     "name": "stdout",
     "output_type": "stream",
     "text": [
      "skipped ../speech-bahasa/LibriSpeech/test-clean/6930/75918/6930-75918-0003.flac\n",
      "skipped ../speech-bahasa/LibriSpeech/test-clean/6930/75918/6930-75918-0014.flac\n"
     ]
    },
    {
     "name": "stderr",
     "output_type": "stream",
     "text": [
      " 93%|█████████▎| 28874/31159 [19:03<00:55, 41.54it/s]"
     ]
    },
    {
     "name": "stdout",
     "output_type": "stream",
     "text": [
      "skipped ../speech-bahasa/LibriSpeech/test-clean/1284/1180/1284-1180-0030.flac\n"
     ]
    },
    {
     "name": "stderr",
     "output_type": "stream",
     "text": [
      " 93%|█████████▎| 28903/31159 [19:04<00:51, 43.81it/s]"
     ]
    },
    {
     "name": "stdout",
     "output_type": "stream",
     "text": [
      "skipped ../speech-bahasa/LibriSpeech/test-clean/1284/134647/1284-134647-0003.flac\n",
      "skipped ../speech-bahasa/LibriSpeech/test-clean/1284/134647/1284-134647-0005.flac\n"
     ]
    },
    {
     "name": "stderr",
     "output_type": "stream",
     "text": [
      " 93%|█████████▎| 28931/31159 [19:04<00:45, 48.71it/s]"
     ]
    },
    {
     "name": "stdout",
     "output_type": "stream",
     "text": [
      "skipped ../speech-bahasa/LibriSpeech/test-clean/3575/170457/3575-170457-0026.flac\n"
     ]
    },
    {
     "name": "stderr",
     "output_type": "stream",
     "text": [
      " 93%|█████████▎| 28940/31159 [19:05<01:10, 31.45it/s]"
     ]
    },
    {
     "name": "stdout",
     "output_type": "stream",
     "text": [
      "skipped ../speech-bahasa/LibriSpeech/test-clean/3575/170457/3575-170457-0036.flac\n"
     ]
    },
    {
     "name": "stderr",
     "output_type": "stream",
     "text": [
      " 93%|█████████▎| 28952/31159 [19:05<00:55, 39.61it/s]"
     ]
    },
    {
     "name": "stdout",
     "output_type": "stream",
     "text": [
      "skipped ../speech-bahasa/LibriSpeech/test-clean/3575/170457/3575-170457-0043.flac\n",
      "skipped ../speech-bahasa/LibriSpeech/test-clean/3575/170457/3575-170457-0046.flac\n"
     ]
    },
    {
     "name": "stderr",
     "output_type": "stream",
     "text": [
      " 93%|█████████▎| 29054/31159 [19:07<00:47, 44.69it/s]"
     ]
    },
    {
     "name": "stdout",
     "output_type": "stream",
     "text": [
      "skipped ../speech-bahasa/LibriSpeech/test-clean/5639/40744/5639-40744-0003.flac\n"
     ]
    },
    {
     "name": "stderr",
     "output_type": "stream",
     "text": [
      " 93%|█████████▎| 29079/31159 [19:08<00:49, 41.83it/s]"
     ]
    },
    {
     "name": "stdout",
     "output_type": "stream",
     "text": [
      "skipped ../speech-bahasa/LibriSpeech/test-clean/5639/40744/5639-40744-0027.flac\n",
      "skipped ../speech-bahasa/LibriSpeech/test-clean/5639/40744/5639-40744-0030.flac\n",
      "skipped ../speech-bahasa/LibriSpeech/test-clean/5639/40744/5639-40744-0031.flac\n",
      "skipped ../speech-bahasa/LibriSpeech/test-clean/5639/40744/5639-40744-0032.flac\n",
      "skipped ../speech-bahasa/LibriSpeech/test-clean/5639/40744/5639-40744-0035.flac\n"
     ]
    },
    {
     "name": "stderr",
     "output_type": "stream",
     "text": [
      " 93%|█████████▎| 29089/31159 [19:08<00:51, 39.98it/s]"
     ]
    },
    {
     "name": "stdout",
     "output_type": "stream",
     "text": [
      "skipped ../speech-bahasa/LibriSpeech/test-clean/5639/40744/5639-40744-0041.flac\n",
      "skipped ../speech-bahasa/LibriSpeech/test-clean/2094/142345/2094-142345-0000.flac\n"
     ]
    },
    {
     "name": "stderr",
     "output_type": "stream",
     "text": [
      " 93%|█████████▎| 29101/31159 [19:08<01:08, 29.91it/s]"
     ]
    },
    {
     "name": "stdout",
     "output_type": "stream",
     "text": [
      "skipped ../speech-bahasa/LibriSpeech/test-clean/2094/142345/2094-142345-0008.flac\n",
      "skipped ../speech-bahasa/LibriSpeech/test-clean/2094/142345/2094-142345-0010.flac\n",
      "skipped ../speech-bahasa/LibriSpeech/test-clean/2094/142345/2094-142345-0011.flac\n",
      "skipped ../speech-bahasa/LibriSpeech/test-clean/2094/142345/2094-142345-0012.flac\n"
     ]
    },
    {
     "name": "stderr",
     "output_type": "stream",
     "text": [
      " 93%|█████████▎| 29126/31159 [19:09<00:45, 44.43it/s]"
     ]
    },
    {
     "name": "stdout",
     "output_type": "stream",
     "text": [
      "skipped ../speech-bahasa/LibriSpeech/test-clean/2094/142345/2094-142345-0030.flac\n",
      "skipped ../speech-bahasa/LibriSpeech/test-clean/2094/142345/2094-142345-0038.flac\n"
     ]
    },
    {
     "name": "stderr",
     "output_type": "stream",
     "text": [
      " 94%|█████████▎| 29185/31159 [19:10<00:35, 55.42it/s]"
     ]
    },
    {
     "name": "stdout",
     "output_type": "stream",
     "text": [
      "skipped ../speech-bahasa/LibriSpeech/test-clean/260/123288/260-123288-0015.flac\n"
     ]
    },
    {
     "name": "stderr",
     "output_type": "stream",
     "text": [
      " 94%|█████████▎| 29202/31159 [19:10<00:46, 42.54it/s]"
     ]
    },
    {
     "name": "stdout",
     "output_type": "stream",
     "text": [
      "skipped ../speech-bahasa/LibriSpeech/test-clean/260/123288/260-123288-0026.flac\n"
     ]
    },
    {
     "name": "stderr",
     "output_type": "stream",
     "text": [
      " 94%|█████████▍| 29238/31159 [19:11<00:33, 56.58it/s]"
     ]
    },
    {
     "name": "stdout",
     "output_type": "stream",
     "text": [
      "skipped ../speech-bahasa/LibriSpeech/test-clean/2830/3979/2830-3979-0001.flac\n"
     ]
    },
    {
     "name": "stderr",
     "output_type": "stream",
     "text": [
      " 94%|█████████▍| 29326/31159 [19:12<00:31, 57.30it/s]"
     ]
    },
    {
     "name": "stdout",
     "output_type": "stream",
     "text": [
      "skipped ../speech-bahasa/LibriSpeech/test-clean/2830/3980/2830-3980-0073.flac\n"
     ]
    },
    {
     "name": "stderr",
     "output_type": "stream",
     "text": [
      " 94%|█████████▍| 29345/31159 [19:13<00:45, 39.48it/s]"
     ]
    },
    {
     "name": "stdout",
     "output_type": "stream",
     "text": [
      "skipped ../speech-bahasa/LibriSpeech/test-clean/1089/134686/1089-134686-0020.flac\n"
     ]
    },
    {
     "name": "stderr",
     "output_type": "stream",
     "text": [
      " 94%|█████████▍| 29367/31159 [19:13<00:35, 50.66it/s]"
     ]
    },
    {
     "name": "stdout",
     "output_type": "stream",
     "text": [
      "skipped ../speech-bahasa/LibriSpeech/test-clean/1089/134691/1089-134691-0009.flac\n",
      "skipped ../speech-bahasa/LibriSpeech/test-clean/1089/134691/1089-134691-0011.flac\n"
     ]
    },
    {
     "name": "stderr",
     "output_type": "stream",
     "text": [
      " 94%|█████████▍| 29379/31159 [19:14<00:45, 38.91it/s]"
     ]
    },
    {
     "name": "stdout",
     "output_type": "stream",
     "text": [
      "skipped ../speech-bahasa/LibriSpeech/test-clean/1089/134691/1089-134691-0013.flac\n"
     ]
    },
    {
     "name": "stderr",
     "output_type": "stream",
     "text": [
      " 94%|█████████▍| 29392/31159 [19:14<00:39, 44.86it/s]"
     ]
    },
    {
     "name": "stdout",
     "output_type": "stream",
     "text": [
      "skipped ../speech-bahasa/LibriSpeech/test-clean/1221/135767/1221-135767-0000.flac\n",
      "skipped ../speech-bahasa/LibriSpeech/test-clean/1221/135767/1221-135767-0002.flac\n",
      "skipped ../speech-bahasa/LibriSpeech/test-clean/1221/135767/1221-135767-0003.flac\n",
      "skipped ../speech-bahasa/LibriSpeech/test-clean/1221/135767/1221-135767-0004.flac\n",
      "skipped ../speech-bahasa/LibriSpeech/test-clean/1221/135767/1221-135767-0006.flac\n"
     ]
    },
    {
     "name": "stderr",
     "output_type": "stream",
     "text": [
      " 94%|█████████▍| 29403/31159 [19:14<00:41, 42.64it/s]"
     ]
    },
    {
     "name": "stdout",
     "output_type": "stream",
     "text": [
      "skipped ../speech-bahasa/LibriSpeech/test-clean/1221/135767/1221-135767-0011.flac\n",
      "skipped ../speech-bahasa/LibriSpeech/test-clean/1221/135767/1221-135767-0017.flac\n"
     ]
    },
    {
     "name": "stderr",
     "output_type": "stream",
     "text": [
      " 94%|█████████▍| 29413/31159 [19:14<00:40, 43.45it/s]"
     ]
    },
    {
     "name": "stdout",
     "output_type": "stream",
     "text": [
      "skipped ../speech-bahasa/LibriSpeech/test-clean/1221/135767/1221-135767-0023.flac\n",
      "skipped ../speech-bahasa/LibriSpeech/test-clean/1221/135766/1221-135766-0001.flac\n",
      "skipped ../speech-bahasa/LibriSpeech/test-clean/1221/135766/1221-135766-0005.flac\n"
     ]
    },
    {
     "name": "stderr",
     "output_type": "stream",
     "text": [
      " 94%|█████████▍| 29424/31159 [19:15<00:38, 45.59it/s]"
     ]
    },
    {
     "name": "stdout",
     "output_type": "stream",
     "text": [
      "skipped ../speech-bahasa/LibriSpeech/test-clean/1221/135766/1221-135766-0011.flac\n",
      "skipped ../speech-bahasa/LibriSpeech/test-clean/1221/135766/1221-135766-0012.flac\n"
     ]
    },
    {
     "name": "stderr",
     "output_type": "stream",
     "text": [
      " 94%|█████████▍| 29445/31159 [19:15<00:40, 42.75it/s]"
     ]
    },
    {
     "name": "stdout",
     "output_type": "stream",
     "text": [
      "skipped ../speech-bahasa/LibriSpeech/test-clean/8555/284447/8555-284447-0015.flac\n"
     ]
    },
    {
     "name": "stderr",
     "output_type": "stream",
     "text": [
      " 95%|█████████▍| 29469/31159 [19:16<00:40, 41.88it/s]"
     ]
    },
    {
     "name": "stdout",
     "output_type": "stream",
     "text": [
      "skipped ../speech-bahasa/LibriSpeech/test-clean/8555/284449/8555-284449-0011.flac\n"
     ]
    },
    {
     "name": "stderr",
     "output_type": "stream",
     "text": [
      " 95%|█████████▍| 29480/31159 [19:16<00:38, 43.09it/s]"
     ]
    },
    {
     "name": "stdout",
     "output_type": "stream",
     "text": [
      "skipped ../speech-bahasa/LibriSpeech/test-clean/8555/292519/8555-292519-0001.flac\n",
      "skipped ../speech-bahasa/LibriSpeech/test-clean/8555/292519/8555-292519-0009.flac\n"
     ]
    },
    {
     "name": "stderr",
     "output_type": "stream",
     "text": [
      " 95%|█████████▌| 29723/31159 [19:20<00:27, 53.06it/s]"
     ]
    },
    {
     "name": "stdout",
     "output_type": "stream",
     "text": [
      "skipped ../speech-bahasa/LibriSpeech/test-clean/4507/16021/4507-16021-0016.flac\n",
      "skipped ../speech-bahasa/LibriSpeech/test-clean/4507/16021/4507-16021-0020.flac\n"
     ]
    },
    {
     "name": "stderr",
     "output_type": "stream",
     "text": [
      " 95%|█████████▌| 29730/31159 [19:20<00:26, 54.02it/s]"
     ]
    },
    {
     "name": "stdout",
     "output_type": "stream",
     "text": [
      "skipped ../speech-bahasa/LibriSpeech/test-clean/4507/16021/4507-16021-0026.flac\n",
      "skipped ../speech-bahasa/LibriSpeech/test-clean/4507/16021/4507-16021-0032.flac\n"
     ]
    },
    {
     "name": "stderr",
     "output_type": "stream",
     "text": [
      " 95%|█████████▌| 29756/31159 [19:21<00:26, 53.13it/s]"
     ]
    },
    {
     "name": "stdout",
     "output_type": "stream",
     "text": [
      "skipped ../speech-bahasa/LibriSpeech/test-clean/4507/16021/4507-16021-0047.flac\n"
     ]
    },
    {
     "name": "stderr",
     "output_type": "stream",
     "text": [
      " 96%|█████████▌| 29767/31159 [19:21<00:39, 35.06it/s]"
     ]
    },
    {
     "name": "stdout",
     "output_type": "stream",
     "text": [
      "skipped ../speech-bahasa/LibriSpeech/test-clean/1188/133604/1188-133604-0002.flac\n",
      "skipped ../speech-bahasa/LibriSpeech/test-clean/1188/133604/1188-133604-0008.flac\n",
      "skipped ../speech-bahasa/LibriSpeech/test-clean/1188/133604/1188-133604-0009.flac\n"
     ]
    },
    {
     "name": "stderr",
     "output_type": "stream",
     "text": [
      " 96%|█████████▌| 29779/31159 [19:21<00:33, 41.04it/s]"
     ]
    },
    {
     "name": "stdout",
     "output_type": "stream",
     "text": [
      "skipped ../speech-bahasa/LibriSpeech/test-clean/1188/133604/1188-133604-0015.flac\n",
      "skipped ../speech-bahasa/LibriSpeech/test-clean/1188/133604/1188-133604-0016.flac\n",
      "skipped ../speech-bahasa/LibriSpeech/test-clean/1188/133604/1188-133604-0023.flac\n"
     ]
    },
    {
     "name": "stderr",
     "output_type": "stream",
     "text": [
      " 96%|█████████▌| 29791/31159 [19:22<00:30, 44.34it/s]"
     ]
    },
    {
     "name": "stdout",
     "output_type": "stream",
     "text": [
      "skipped ../speech-bahasa/LibriSpeech/test-clean/1188/133604/1188-133604-0026.flac\n",
      "skipped ../speech-bahasa/LibriSpeech/test-clean/1188/133604/1188-133604-0028.flac\n",
      "skipped ../speech-bahasa/LibriSpeech/test-clean/1188/133604/1188-133604-0034.flac\n"
     ]
    },
    {
     "name": "stderr",
     "output_type": "stream",
     "text": [
      " 96%|█████████▌| 29809/31159 [19:22<00:27, 49.61it/s]"
     ]
    },
    {
     "name": "stdout",
     "output_type": "stream",
     "text": [
      "skipped ../speech-bahasa/LibriSpeech/test-clean/1188/133604/1188-133604-0044.flac\n"
     ]
    },
    {
     "name": "stderr",
     "output_type": "stream",
     "text": [
      " 96%|█████████▌| 29869/31159 [19:23<00:29, 43.24it/s]"
     ]
    },
    {
     "name": "stdout",
     "output_type": "stream",
     "text": [
      "skipped ../speech-bahasa/LibriSpeech/test-clean/6829/68771/6829-68771-0007.flac\n"
     ]
    },
    {
     "name": "stderr",
     "output_type": "stream",
     "text": [
      " 96%|█████████▌| 29908/31159 [19:24<00:21, 58.14it/s]"
     ]
    },
    {
     "name": "stdout",
     "output_type": "stream",
     "text": [
      "skipped ../speech-bahasa/LibriSpeech/test-clean/3729/6852/3729-6852-0003.flac\n",
      "skipped ../speech-bahasa/LibriSpeech/test-clean/3729/6852/3729-6852-0004.flac\n",
      "skipped ../speech-bahasa/LibriSpeech/test-clean/3729/6852/3729-6852-0005.flac\n",
      "skipped ../speech-bahasa/LibriSpeech/test-clean/3729/6852/3729-6852-0006.flac\n",
      "skipped ../speech-bahasa/LibriSpeech/test-clean/3729/6852/3729-6852-0008.flac\n",
      "skipped ../speech-bahasa/LibriSpeech/test-clean/3729/6852/3729-6852-0009.flac\n",
      "skipped ../speech-bahasa/LibriSpeech/test-clean/3729/6852/3729-6852-0017.flac\n"
     ]
    },
    {
     "name": "stderr",
     "output_type": "stream",
     "text": [
      " 96%|█████████▌| 29937/31159 [19:24<00:21, 55.86it/s]"
     ]
    },
    {
     "name": "stdout",
     "output_type": "stream",
     "text": [
      "skipped ../speech-bahasa/LibriSpeech/test-clean/3729/6852/3729-6852-0033.flac\n",
      "skipped ../speech-bahasa/LibriSpeech/test-clean/3729/6852/3729-6852-0034.flac\n",
      "skipped ../speech-bahasa/LibriSpeech/test-clean/3729/6852/3729-6852-0035.flac\n",
      "skipped ../speech-bahasa/LibriSpeech/test-clean/3729/6852/3729-6852-0045.flac\n"
     ]
    },
    {
     "name": "stderr",
     "output_type": "stream",
     "text": [
      " 96%|█████████▌| 29975/31159 [19:25<00:28, 41.19it/s]"
     ]
    },
    {
     "name": "stdout",
     "output_type": "stream",
     "text": [
      "skipped ../speech-bahasa/LibriSpeech/test-clean/1320/122617/1320-122617-0007.flac\n"
     ]
    },
    {
     "name": "stderr",
     "output_type": "stream",
     "text": [
      " 96%|█████████▋| 30002/31159 [19:26<00:25, 44.94it/s]"
     ]
    },
    {
     "name": "stdout",
     "output_type": "stream",
     "text": [
      "skipped ../speech-bahasa/LibriSpeech/test-clean/1320/122617/1320-122617-0035.flac\n",
      "skipped ../speech-bahasa/LibriSpeech/test-clean/4992/41797/4992-41797-0001.flac\n"
     ]
    },
    {
     "name": "stderr",
     "output_type": "stream",
     "text": [
      " 96%|█████████▋| 30044/31159 [19:27<00:24, 46.24it/s]"
     ]
    },
    {
     "name": "stdout",
     "output_type": "stream",
     "text": [
      "skipped ../speech-bahasa/LibriSpeech/test-clean/4992/23283/4992-23283-0012.flac\n"
     ]
    },
    {
     "name": "stderr",
     "output_type": "stream",
     "text": [
      " 96%|█████████▋| 30055/31159 [19:27<00:25, 43.60it/s]"
     ]
    },
    {
     "name": "stdout",
     "output_type": "stream",
     "text": [
      "skipped ../speech-bahasa/LibriSpeech/test-clean/4992/41806/4992-41806-0002.flac\n"
     ]
    },
    {
     "name": "stderr",
     "output_type": "stream",
     "text": [
      " 97%|█████████▋| 30119/31159 [19:29<00:21, 49.15it/s]"
     ]
    },
    {
     "name": "stdout",
     "output_type": "stream",
     "text": [
      "skipped ../speech-bahasa/LibriSpeech/test-clean/8463/294825/8463-294825-0007.flac\n",
      "skipped ../speech-bahasa/LibriSpeech/test-clean/8463/294825/8463-294825-0009.flac\n",
      "skipped ../speech-bahasa/LibriSpeech/test-clean/8463/294825/8463-294825-0013.flac\n"
     ]
    },
    {
     "name": "stderr",
     "output_type": "stream",
     "text": [
      " 97%|█████████▋| 30140/31159 [19:29<00:18, 53.73it/s]"
     ]
    },
    {
     "name": "stdout",
     "output_type": "stream",
     "text": [
      "skipped ../speech-bahasa/LibriSpeech/test-clean/8463/287645/8463-287645-0007.flac\n",
      "skipped ../speech-bahasa/LibriSpeech/test-clean/5105/28241/5105-28241-0001.flac\n",
      "skipped ../speech-bahasa/LibriSpeech/test-clean/5105/28241/5105-28241-0004.flac\n"
     ]
    },
    {
     "name": "stderr",
     "output_type": "stream",
     "text": [
      " 97%|█████████▋| 30159/31159 [19:29<00:19, 52.19it/s]"
     ]
    },
    {
     "name": "stdout",
     "output_type": "stream",
     "text": [
      "skipped ../speech-bahasa/LibriSpeech/test-clean/5105/28241/5105-28241-0015.flac\n",
      "skipped ../speech-bahasa/LibriSpeech/test-clean/5105/28240/5105-28240-0001.flac\n"
     ]
    },
    {
     "name": "stderr",
     "output_type": "stream",
     "text": [
      " 97%|█████████▋| 30177/31159 [19:30<00:19, 51.17it/s]"
     ]
    },
    {
     "name": "stdout",
     "output_type": "stream",
     "text": [
      "skipped ../speech-bahasa/LibriSpeech/test-clean/5105/28240/5105-28240-0023.flac\n"
     ]
    },
    {
     "name": "stderr",
     "output_type": "stream",
     "text": [
      " 97%|█████████▋| 30193/31159 [19:30<00:28, 33.53it/s]"
     ]
    },
    {
     "name": "stdout",
     "output_type": "stream",
     "text": [
      "skipped ../speech-bahasa/LibriSpeech/test-clean/5105/28233/5105-28233-0007.flac\n",
      "skipped ../speech-bahasa/LibriSpeech/test-clean/8455/210777/8455-210777-0001.flac\n"
     ]
    },
    {
     "name": "stderr",
     "output_type": "stream",
     "text": [
      " 97%|█████████▋| 30218/31159 [19:31<00:18, 51.10it/s]"
     ]
    },
    {
     "name": "stdout",
     "output_type": "stream",
     "text": [
      "skipped ../speech-bahasa/LibriSpeech/test-clean/8455/210777/8455-210777-0016.flac\n",
      "skipped ../speech-bahasa/LibriSpeech/test-clean/8455/210777/8455-210777-0022.flac\n"
     ]
    },
    {
     "name": "stderr",
     "output_type": "stream",
     "text": [
      " 97%|█████████▋| 30320/31159 [19:33<00:14, 56.58it/s]"
     ]
    },
    {
     "name": "stdout",
     "output_type": "stream",
     "text": [
      "skipped ../speech-bahasa/LibriSpeech/test-clean/5683/32866/5683-32866-0019.flac\n"
     ]
    },
    {
     "name": "stderr",
     "output_type": "stream",
     "text": [
      " 97%|█████████▋| 30342/31159 [19:33<00:14, 58.34it/s]"
     ]
    },
    {
     "name": "stdout",
     "output_type": "stream",
     "text": [
      "skipped ../speech-bahasa/LibriSpeech/test-clean/5683/32865/5683-32865-0012.flac\n"
     ]
    },
    {
     "name": "stderr",
     "output_type": "stream",
     "text": [
      " 98%|█████████▊| 30455/31159 [19:35<00:11, 63.79it/s]"
     ]
    },
    {
     "name": "stdout",
     "output_type": "stream",
     "text": [
      "skipped ../speech-bahasa/LibriSpeech/test-clean/7127/75946/7127-75946-0000.flac\n"
     ]
    },
    {
     "name": "stderr",
     "output_type": "stream",
     "text": [
      " 98%|█████████▊| 30485/31159 [19:36<00:13, 50.01it/s]"
     ]
    },
    {
     "name": "stdout",
     "output_type": "stream",
     "text": [
      "skipped ../speech-bahasa/LibriSpeech/test-clean/7127/75946/7127-75946-0026.flac\n",
      "skipped ../speech-bahasa/LibriSpeech/test-clean/7127/75946/7127-75946-0028.flac\n",
      "skipped ../speech-bahasa/LibriSpeech/test-clean/7127/75947/7127-75947-0000.flac\n",
      "skipped ../speech-bahasa/LibriSpeech/test-clean/7127/75947/7127-75947-0009.flac\n"
     ]
    },
    {
     "name": "stderr",
     "output_type": "stream",
     "text": [
      " 98%|█████████▊| 30535/31159 [19:37<00:10, 57.65it/s]"
     ]
    },
    {
     "name": "stdout",
     "output_type": "stream",
     "text": [
      "skipped ../speech-bahasa/LibriSpeech/test-clean/7176/92135/7176-92135-0012.flac\n",
      "skipped ../speech-bahasa/LibriSpeech/test-clean/7176/92135/7176-92135-0014.flac\n"
     ]
    },
    {
     "name": "stderr",
     "output_type": "stream",
     "text": [
      " 98%|█████████▊| 30570/31159 [19:38<00:13, 42.33it/s]"
     ]
    },
    {
     "name": "stdout",
     "output_type": "stream",
     "text": [
      "skipped ../speech-bahasa/LibriSpeech/test-clean/7176/88083/7176-88083-0001.flac\n"
     ]
    },
    {
     "name": "stderr",
     "output_type": "stream",
     "text": [
      " 98%|█████████▊| 30607/31159 [19:39<00:11, 48.36it/s]"
     ]
    },
    {
     "name": "stdout",
     "output_type": "stream",
     "text": [
      "skipped ../speech-bahasa/LibriSpeech/test-clean/908/157963/908-157963-0007.flac\n",
      "skipped ../speech-bahasa/LibriSpeech/test-clean/908/157963/908-157963-0008.flac\n"
     ]
    },
    {
     "name": "stderr",
     "output_type": "stream",
     "text": [
      " 98%|█████████▊| 30613/31159 [19:39<00:11, 48.86it/s]"
     ]
    },
    {
     "name": "stdout",
     "output_type": "stream",
     "text": [
      "skipped ../speech-bahasa/LibriSpeech/test-clean/908/157963/908-157963-0019.flac\n"
     ]
    },
    {
     "name": "stderr",
     "output_type": "stream",
     "text": [
      " 98%|█████████▊| 30641/31159 [19:39<00:14, 35.17it/s]"
     ]
    },
    {
     "name": "stdout",
     "output_type": "stream",
     "text": [
      "skipped ../speech-bahasa/LibriSpeech/test-clean/908/31957/908-31957-0015.flac\n"
     ]
    },
    {
     "name": "stderr",
     "output_type": "stream",
     "text": [
      " 98%|█████████▊| 30652/31159 [19:40<00:12, 40.01it/s]"
     ]
    },
    {
     "name": "stdout",
     "output_type": "stream",
     "text": [
      "skipped ../speech-bahasa/LibriSpeech/test-clean/908/31957/908-31957-0025.flac\n",
      "skipped ../speech-bahasa/LibriSpeech/test-clean/8230/279154/8230-279154-0001.flac\n",
      "skipped ../speech-bahasa/LibriSpeech/test-clean/8230/279154/8230-279154-0002.flac\n",
      "skipped ../speech-bahasa/LibriSpeech/test-clean/8230/279154/8230-279154-0009.flac\n"
     ]
    },
    {
     "name": "stderr",
     "output_type": "stream",
     "text": [
      " 98%|█████████▊| 30673/31159 [19:40<00:11, 43.98it/s]"
     ]
    },
    {
     "name": "stdout",
     "output_type": "stream",
     "text": [
      "skipped ../speech-bahasa/LibriSpeech/test-clean/8230/279154/8230-279154-0019.flac\n",
      "skipped ../speech-bahasa/LibriSpeech/test-clean/8230/279154/8230-279154-0025.flac\n"
     ]
    },
    {
     "name": "stderr",
     "output_type": "stream",
     "text": [
      " 98%|█████████▊| 30691/31159 [19:41<00:10, 45.83it/s]"
     ]
    },
    {
     "name": "stdout",
     "output_type": "stream",
     "text": [
      "skipped ../speech-bahasa/LibriSpeech/test-clean/8230/279154/8230-279154-0037.flac\n",
      "skipped ../speech-bahasa/LibriSpeech/test-clean/8230/279154/8230-279154-0038.flac\n",
      "skipped ../speech-bahasa/LibriSpeech/test-clean/8230/279154/8230-279154-0040.flac\n",
      "skipped ../speech-bahasa/LibriSpeech/test-clean/8230/279154/8230-279154-0042.flac\n",
      "skipped ../speech-bahasa/LibriSpeech/test-clean/8230/279154/8230-279154-0043.flac\n",
      "skipped ../speech-bahasa/LibriSpeech/test-clean/4077/13754/4077-13754-0002.flac\n",
      "skipped ../speech-bahasa/LibriSpeech/test-clean/4077/13754/4077-13754-0005.flac\n"
     ]
    },
    {
     "name": "stderr",
     "output_type": "stream",
     "text": [
      " 99%|█████████▊| 30704/31159 [19:41<00:10, 44.86it/s]"
     ]
    },
    {
     "name": "stdout",
     "output_type": "stream",
     "text": [
      "skipped ../speech-bahasa/LibriSpeech/test-clean/4077/13754/4077-13754-0008.flac\n",
      "skipped ../speech-bahasa/LibriSpeech/test-clean/4077/13754/4077-13754-0012.flac\n",
      "skipped ../speech-bahasa/LibriSpeech/test-clean/4077/13754/4077-13754-0015.flac\n"
     ]
    },
    {
     "name": "stderr",
     "output_type": "stream",
     "text": [
      " 99%|█████████▊| 30719/31159 [19:41<00:14, 30.30it/s]"
     ]
    },
    {
     "name": "stdout",
     "output_type": "stream",
     "text": [
      "skipped ../speech-bahasa/LibriSpeech/test-clean/4077/13751/4077-13751-0003.flac\n",
      "skipped ../speech-bahasa/LibriSpeech/test-clean/4077/13751/4077-13751-0004.flac\n",
      "skipped ../speech-bahasa/LibriSpeech/test-clean/4077/13751/4077-13751-0005.flac\n",
      "skipped ../speech-bahasa/LibriSpeech/test-clean/4077/13751/4077-13751-0007.flac\n"
     ]
    },
    {
     "name": "stderr",
     "output_type": "stream",
     "text": [
      " 99%|█████████▊| 30734/31159 [19:42<00:11, 37.94it/s]"
     ]
    },
    {
     "name": "stdout",
     "output_type": "stream",
     "text": [
      "skipped ../speech-bahasa/LibriSpeech/test-clean/4077/13751/4077-13751-0018.flac\n",
      "skipped ../speech-bahasa/LibriSpeech/test-clean/4077/13751/4077-13751-0021.flac\n",
      "skipped ../speech-bahasa/LibriSpeech/test-clean/2961/960/2961-960-0000.flac\n",
      "skipped ../speech-bahasa/LibriSpeech/test-clean/2961/960/2961-960-0003.flac\n"
     ]
    },
    {
     "name": "stderr",
     "output_type": "stream",
     "text": [
      " 99%|█████████▊| 30745/31159 [19:42<00:10, 38.04it/s]"
     ]
    },
    {
     "name": "stdout",
     "output_type": "stream",
     "text": [
      "skipped ../speech-bahasa/LibriSpeech/test-clean/2961/960/2961-960-0010.flac\n",
      "skipped ../speech-bahasa/LibriSpeech/test-clean/2961/960/2961-960-0011.flac\n"
     ]
    },
    {
     "name": "stderr",
     "output_type": "stream",
     "text": [
      " 99%|█████████▊| 30760/31159 [19:42<00:09, 41.26it/s]"
     ]
    },
    {
     "name": "stdout",
     "output_type": "stream",
     "text": [
      "skipped ../speech-bahasa/LibriSpeech/test-clean/2961/961/2961-961-0002.flac\n"
     ]
    },
    {
     "name": "stderr",
     "output_type": "stream",
     "text": [
      " 99%|█████████▉| 30776/31159 [19:43<00:08, 46.25it/s]"
     ]
    },
    {
     "name": "stdout",
     "output_type": "stream",
     "text": [
      "skipped ../speech-bahasa/LibriSpeech/test-clean/2961/961/2961-961-0022.flac\n"
     ]
    },
    {
     "name": "stderr",
     "output_type": "stream",
     "text": [
      " 99%|█████████▉| 30794/31159 [19:43<00:09, 36.64it/s]"
     ]
    },
    {
     "name": "stdout",
     "output_type": "stream",
     "text": [
      "skipped ../speech-bahasa/LibriSpeech/test-clean/672/122797/672-122797-0008.flac\n"
     ]
    },
    {
     "name": "stderr",
     "output_type": "stream",
     "text": [
      " 99%|█████████▉| 30808/31159 [19:44<00:07, 45.42it/s]"
     ]
    },
    {
     "name": "stdout",
     "output_type": "stream",
     "text": [
      "skipped ../speech-bahasa/LibriSpeech/test-clean/672/122797/672-122797-0022.flac\n"
     ]
    },
    {
     "name": "stderr",
     "output_type": "stream",
     "text": [
      " 99%|█████████▉| 30870/31159 [19:45<00:04, 59.86it/s]"
     ]
    },
    {
     "name": "stdout",
     "output_type": "stream",
     "text": [
      "skipped ../speech-bahasa/LibriSpeech/test-clean/5142/36377/5142-36377-0014.flac\n"
     ]
    },
    {
     "name": "stderr",
     "output_type": "stream",
     "text": [
      " 99%|█████████▉| 30877/31159 [19:45<00:07, 36.08it/s]"
     ]
    },
    {
     "name": "stdout",
     "output_type": "stream",
     "text": [
      "skipped ../speech-bahasa/LibriSpeech/test-clean/5142/36377/5142-36377-0021.flac\n",
      "skipped ../speech-bahasa/LibriSpeech/test-clean/5142/36600/5142-36600-0001.flac\n"
     ]
    },
    {
     "name": "stderr",
     "output_type": "stream",
     "text": [
      " 99%|█████████▉| 30960/31159 [19:46<00:03, 60.77it/s]"
     ]
    },
    {
     "name": "stdout",
     "output_type": "stream",
     "text": [
      "skipped ../speech-bahasa/LibriSpeech/test-clean/3570/5694/3570-5694-0003.flac\n"
     ]
    },
    {
     "name": "stderr",
     "output_type": "stream",
     "text": [
      " 99%|█████████▉| 30986/31159 [19:47<00:05, 34.06it/s]"
     ]
    },
    {
     "name": "stdout",
     "output_type": "stream",
     "text": [
      "skipped ../speech-bahasa/LibriSpeech/test-clean/3570/5696/3570-5696-0001.flac\n",
      "skipped ../speech-bahasa/LibriSpeech/test-clean/3570/5696/3570-5696-0003.flac\n"
     ]
    },
    {
     "name": "stderr",
     "output_type": "stream",
     "text": [
      " 99%|█████████▉| 30997/31159 [19:47<00:04, 39.40it/s]"
     ]
    },
    {
     "name": "stdout",
     "output_type": "stream",
     "text": [
      "skipped ../speech-bahasa/LibriSpeech/test-clean/3570/5695/3570-5695-0005.flac\n"
     ]
    },
    {
     "name": "stderr",
     "output_type": "stream",
     "text": [
      "100%|█████████▉| 31011/31159 [19:48<00:03, 45.43it/s]"
     ]
    },
    {
     "name": "stdout",
     "output_type": "stream",
     "text": [
      "skipped ../speech-bahasa/LibriSpeech/test-clean/121/123852/121-123852-0000.flac\n",
      "skipped ../speech-bahasa/LibriSpeech/test-clean/121/123852/121-123852-0002.flac\n",
      "skipped ../speech-bahasa/LibriSpeech/test-clean/121/123852/121-123852-0003.flac\n",
      "skipped ../speech-bahasa/LibriSpeech/test-clean/121/123852/121-123852-0004.flac\n"
     ]
    },
    {
     "name": "stderr",
     "output_type": "stream",
     "text": [
      "100%|█████████▉| 31027/31159 [19:48<00:02, 54.30it/s]"
     ]
    },
    {
     "name": "stdout",
     "output_type": "stream",
     "text": [
      "skipped ../speech-bahasa/LibriSpeech/test-clean/121/123859/121-123859-0000.flac\n",
      "skipped ../speech-bahasa/LibriSpeech/test-clean/121/123859/121-123859-0001.flac\n",
      "skipped ../speech-bahasa/LibriSpeech/test-clean/121/123859/121-123859-0002.flac\n"
     ]
    },
    {
     "name": "stderr",
     "output_type": "stream",
     "text": [
      "100%|█████████▉| 31058/31159 [19:48<00:01, 52.88it/s]"
     ]
    },
    {
     "name": "stdout",
     "output_type": "stream",
     "text": [
      "skipped ../speech-bahasa/LibriSpeech/test-clean/121/127105/121-127105-0025.flac\n"
     ]
    },
    {
     "name": "stderr",
     "output_type": "stream",
     "text": [
      "100%|█████████▉| 31075/31159 [19:49<00:02, 38.13it/s]"
     ]
    },
    {
     "name": "stdout",
     "output_type": "stream",
     "text": [
      "skipped ../speech-bahasa/LibriSpeech/test-clean/4970/29093/4970-29093-0005.flac\n",
      "skipped ../speech-bahasa/LibriSpeech/test-clean/4970/29093/4970-29093-0006.flac\n"
     ]
    },
    {
     "name": "stderr",
     "output_type": "stream",
     "text": [
      "100%|█████████▉| 31119/31159 [19:50<00:00, 48.42it/s]"
     ]
    },
    {
     "name": "stdout",
     "output_type": "stream",
     "text": [
      "skipped ../speech-bahasa/LibriSpeech/test-clean/4970/29095/4970-29095-0021.flac\n"
     ]
    },
    {
     "name": "stderr",
     "output_type": "stream",
     "text": [
      "100%|█████████▉| 31136/31159 [19:50<00:00, 47.67it/s]"
     ]
    },
    {
     "name": "stdout",
     "output_type": "stream",
     "text": [
      "skipped ../speech-bahasa/LibriSpeech/test-clean/8224/274384/8224-274384-0001.flac\n",
      "skipped ../speech-bahasa/LibriSpeech/test-clean/8224/274384/8224-274384-0004.flac\n"
     ]
    },
    {
     "name": "stderr",
     "output_type": "stream",
     "text": [
      "100%|█████████▉| 31143/31159 [19:50<00:00, 51.53it/s]"
     ]
    },
    {
     "name": "stdout",
     "output_type": "stream",
     "text": [
      "skipped ../speech-bahasa/LibriSpeech/test-clean/8224/274384/8224-274384-0011.flac\n",
      "skipped ../speech-bahasa/LibriSpeech/test-clean/8224/274384/8224-274384-0012.flac\n",
      "skipped ../speech-bahasa/LibriSpeech/test-clean/8224/274381/8224-274381-0000.flac\n",
      "skipped ../speech-bahasa/LibriSpeech/test-clean/8224/274381/8224-274381-0001.flac\n",
      "skipped ../speech-bahasa/LibriSpeech/test-clean/8224/274381/8224-274381-0002.flac\n"
     ]
    },
    {
     "name": "stderr",
     "output_type": "stream",
     "text": [
      "100%|█████████▉| 31155/31159 [19:51<00:00, 35.38it/s]"
     ]
    },
    {
     "name": "stdout",
     "output_type": "stream",
     "text": [
      "skipped ../speech-bahasa/LibriSpeech/test-clean/8224/274381/8224-274381-0004.flac\n",
      "skipped ../speech-bahasa/LibriSpeech/test-clean/8224/274381/8224-274381-0005.flac\n",
      "skipped ../speech-bahasa/LibriSpeech/test-clean/8224/274381/8224-274381-0006.flac\n",
      "skipped ../speech-bahasa/LibriSpeech/test-clean/8224/274381/8224-274381-0008.flac\n",
      "skipped ../speech-bahasa/LibriSpeech/test-clean/8224/274381/8224-274381-0009.flac\n",
      "skipped ../speech-bahasa/LibriSpeech/test-clean/8224/274381/8224-274381-0012.flac\n",
      "skipped ../speech-bahasa/LibriSpeech/test-clean/8224/274381/8224-274381-0014.flac\n"
     ]
    },
    {
     "name": "stderr",
     "output_type": "stream",
     "text": [
      "100%|██████████| 31159/31159 [19:51<00:00, 26.15it/s]"
     ]
    },
    {
     "name": "stdout",
     "output_type": "stream",
     "text": [
      "skipped ../speech-bahasa/LibriSpeech/test-clean/8224/274381/8224-274381-0016.flac\n",
      "skipped ../speech-bahasa/LibriSpeech/test-clean/8224/274381/8224-274381-0017.flac\n",
      "WARNING:tensorflow:From /home/husein/malaya-speech/malaya_speech/train/prepare_data.py:218: The name tf.gfile.Rename is deprecated. Please use tf.io.gfile.rename instead.\n",
      "\n"
     ]
    },
    {
     "name": "stderr",
     "output_type": "stream",
     "text": [
      "\n"
     ]
    },
    {
     "name": "stdout",
     "output_type": "stream",
     "text": [
      "INFO:tensorflow:Generated 29175 Examples\n",
      "INFO:tensorflow:Shuffling data...\n",
      "WARNING:tensorflow:From /home/husein/malaya-speech/malaya_speech/train/prepare_data.py:26: tf_record_iterator (from tensorflow.python.lib.io.tf_record) is deprecated and will be removed in a future version.\n",
      "Instructions for updating:\n",
      "Use eager execution and: \n",
      "`tf.data.TFRecordDataset(path)`\n",
      "WARNING:tensorflow:From /home/husein/malaya-speech/malaya_speech/train/prepare_data.py:57: The name tf.gfile.Remove is deprecated. Please use tf.io.gfile.remove instead.\n",
      "\n",
      "INFO:tensorflow:Data shuffled.\n"
     ]
    }
   ],
   "source": [
    "train.prepare_dataset(generator, DATA_DIR, shards, prefix = 'librispeech')"
   ]
  },
  {
   "cell_type": "code",
   "execution_count": null,
   "metadata": {},
   "outputs": [],
   "source": []
  }
 ],
 "metadata": {
  "kernelspec": {
   "display_name": "Python 3",
   "language": "python",
   "name": "python3"
  },
  "language_info": {
   "codemirror_mode": {
    "name": "ipython",
    "version": 3
   },
   "file_extension": ".py",
   "mimetype": "text/x-python",
   "name": "python",
   "nbconvert_exporter": "python",
   "pygments_lexer": "ipython3",
   "version": "3.6.8"
  }
 },
 "nbformat": 4,
 "nbformat_minor": 2
}

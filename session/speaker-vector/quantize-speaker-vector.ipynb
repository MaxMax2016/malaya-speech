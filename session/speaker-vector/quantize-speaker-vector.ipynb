{
 "cells": [
  {
   "cell_type": "code",
   "execution_count": 2,
   "metadata": {},
   "outputs": [],
   "source": [
    "import os\n",
    "os.environ['CUDA_VISIBLE_DEVICES'] = ''"
   ]
  },
  {
   "cell_type": "code",
   "execution_count": 1,
   "metadata": {},
   "outputs": [],
   "source": [
    "S3_PATH_SPEAKER_VECTOR = {\n",
    "    'vggvox-v1': {'model': 'v1/speaker-vector/pretrained-vggvox-v1.pb'},\n",
    "    'vggvox-v2': {'model': 'v1/speaker-vector/pretrained-vggvox-v2.pb'},\n",
    "    'deep-speaker': {'model': 'v1/speaker-vector/pretrained-deep-speaker.pb'},\n",
    "    'speakernet': {'model': 'v1/speaker-vector/pretrained-speakernet.pb'},\n",
    "}"
   ]
  },
  {
   "cell_type": "code",
   "execution_count": 3,
   "metadata": {},
   "outputs": [
    {
     "name": "stdout",
     "output_type": "stream",
     "text": [
      "vggvox-v1\n",
      "vggvox-v2\n",
      "deep-speaker\n",
      "speakernet\n"
     ]
    }
   ],
   "source": [
    "for k in S3_PATH_SPEAKER_VECTOR.keys():\n",
    "    if k not in ['multinomial']:\n",
    "        print(k)\n",
    "        os.system(f\"wget https://f000.backblazeb2.com/file/malaya-speech-model/{S3_PATH_SPEAKER_VECTOR[k]['model']}\")"
   ]
  },
  {
   "cell_type": "code",
   "execution_count": 4,
   "metadata": {},
   "outputs": [],
   "source": [
    "import tensorflow as tf\n",
    "from tensorflow.tools.graph_transforms import TransformGraph\n",
    "from glob import glob\n",
    "tf.set_random_seed(0)"
   ]
  },
  {
   "cell_type": "code",
   "execution_count": 7,
   "metadata": {},
   "outputs": [
    {
     "data": {
      "text/plain": [
       "['pretrained-speakernet.pb',\n",
       " 'pretrained-vggvox-v1.pb',\n",
       " 'pretrained-vggvox-v2.pb',\n",
       " 'pretrained-deep-speaker.pb']"
      ]
     },
     "execution_count": 7,
     "metadata": {},
     "output_type": "execute_result"
    }
   ],
   "source": [
    "pbs = glob('*.pb')\n",
    "pbs"
   ]
  },
  {
   "cell_type": "code",
   "execution_count": 6,
   "metadata": {},
   "outputs": [],
   "source": [
    "!rm albert-base-sentiment.pb alxlnet-base-sentiment.pb"
   ]
  },
  {
   "cell_type": "code",
   "execution_count": 8,
   "metadata": {},
   "outputs": [
    {
     "name": "stdout",
     "output_type": "stream",
     "text": [
      "WARNING:tensorflow:From <ipython-input-8-1f4a61022953>:11: FastGFile.__init__ (from tensorflow.python.platform.gfile) is deprecated and will be removed in a future version.\n",
      "Instructions for updating:\n",
      "Use tf.gfile.GFile.\n"
     ]
    }
   ],
   "source": [
    "transforms = ['add_default_attributes',\n",
    "             'remove_nodes(op=Identity, op=CheckNumerics, op=Dropout)',\n",
    "             'fold_batch_norms',\n",
    "             'fold_old_batch_norms',\n",
    "             'quantize_weights(fallback_min=-10, fallback_max=10)',\n",
    "             'strip_unused_nodes',\n",
    "             'sort_by_execution_order']\n",
    "\n",
    "for pb in pbs:\n",
    "    input_graph_def = tf.GraphDef()\n",
    "    with tf.gfile.FastGFile(pb, 'rb') as f:\n",
    "        input_graph_def.ParseFromString(f.read())\n",
    "        \n",
    "    if 'speakernet' in pb:\n",
    "        inputs = ['Placeholder', 'Placeholder_1']\n",
    "    else:\n",
    "        inputs = ['Placeholder']\n",
    "    \n",
    "    transformed_graph_def = TransformGraph(input_graph_def, \n",
    "                                           inputs,\n",
    "                                           ['logits'], transforms)\n",
    "    \n",
    "    with tf.gfile.GFile(f'{pb}.quantized', 'wb') as f:\n",
    "        f.write(transformed_graph_def.SerializeToString())"
   ]
  },
  {
   "cell_type": "code",
   "execution_count": 11,
   "metadata": {},
   "outputs": [
    {
     "data": {
      "text/plain": [
       "['pretrained-deep-speaker.pb.quantized',\n",
       " 'pretrained-speakernet.pb.quantized',\n",
       " 'pretrained-vggvox-v2.pb.quantized',\n",
       " 'pretrained-vggvox-v1.pb.quantized']"
      ]
     },
     "execution_count": 11,
     "metadata": {},
     "output_type": "execute_result"
    }
   ],
   "source": [
    "quantized = glob('*.pb.quantized')\n",
    "quantized"
   ]
  }
 ],
 "metadata": {
  "kernelspec": {
   "display_name": "Python 3",
   "language": "python",
   "name": "python3"
  },
  "language_info": {
   "codemirror_mode": {
    "name": "ipython",
    "version": 3
   },
   "file_extension": ".py",
   "mimetype": "text/x-python",
   "name": "python",
   "nbconvert_exporter": "python",
   "pygments_lexer": "ipython3",
   "version": "3.6.8"
  }
 },
 "nbformat": 4,
 "nbformat_minor": 2
}

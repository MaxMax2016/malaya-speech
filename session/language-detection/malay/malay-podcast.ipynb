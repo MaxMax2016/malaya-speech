{
 "cells": [
  {
   "cell_type": "code",
   "execution_count": 1,
   "metadata": {},
   "outputs": [
    {
     "data": {
      "text/plain": [
       "91"
      ]
     },
     "execution_count": 1,
     "metadata": {},
     "output_type": "execute_result"
    }
   ],
   "source": [
    "videos = \"\"\"\n",
    "https://www.youtube.com/watch?v=At-WKdApIhs&t=654s&ab_channel=SEISMIKTV\n",
    "\n",
    "https://www.youtube.com/watch?v=I9eEz2OvI0E&t=3s&ab_channel=SlowTalkPodcast\n",
    "\n",
    "https://www.youtube.com/watch?v=fQyh4O6Hp_E\n",
    "\n",
    "https://www.youtube.com/watch?v=rpbjezVZ2GI\n",
    "\n",
    "https://www.youtube.com/watch?v=fW1sUT-3VMM\n",
    "\n",
    "https://www.youtube.com/watch?v=neCmuMPg_IE\n",
    "\n",
    "https://www.youtube.com/channel/UCmBSFLogevWdrid3MM5xReg/videos\n",
    "\n",
    "https://www.youtube.com/watch?v=Sau4UqPjBBk\n",
    "\n",
    "https://www.youtube.com/watch?v=4DCkzN-pdyw\n",
    "\n",
    "https://www.youtube.com/watch?v=_gQ-uHjCdBs\n",
    "\n",
    "https://www.youtube.com/watch?v=Q5kDJPXJPbc\n",
    "\n",
    "https://www.youtube.com/watch?v=JIOEzlTO6Kg\n",
    "\n",
    "https://www.youtube.com/watch?v=kTrI0LaiY8U\n",
    "\n",
    "https://www.youtube.com/watch?v=JKnaHxIYHm8\n",
    "\n",
    "https://www.youtube.com/watch?v=RdqVSxXwQIg\n",
    "\n",
    "https://www.youtube.com/watch?v=l-NmUn-FLLI\n",
    "\n",
    "https://www.youtube.com/watch?v=-Lc21hhbAfE\n",
    "\n",
    "https://www.youtube.com/watch?v=I3hpV0ZnaNE&ab_channel=IdealystTV\n",
    "\n",
    "https://www.youtube.com/watch?v=OqNWrMU6mwQ&t=5s&ab_channel=AisKacang\n",
    "\n",
    "https://www.youtube.com/watch?v=OqNWrMU6mwQ&t=5s&ab_channel=AisKacang\n",
    "\n",
    "https://www.youtube.com/watch?v=QDL74a4Uibk&ab_channel=AisKacang\n",
    "\n",
    "https://www.youtube.com/watch?v=t_6UO2Vi5nk&ab_channel=AisKacang\n",
    "\n",
    "https://www.youtube.com/watch?v=f6H3ZsFy9dY&ab_channel=AisKacang\n",
    "\n",
    "https://www.youtube.com/watch?v=vjuFRuWXabc&ab_channel=AisKacang\n",
    "\n",
    "https://www.youtube.com/watch?v=SP77L5Z9JNw&ab_channel=AisKacang\n",
    "\n",
    "https://www.youtube.com/watch?v=GpGFouytwFA&ab_channel=AisKacang\n",
    "\n",
    "https://www.youtube.com/watch?v=2to1DeBZyiE&ab_channel=AisKacang\n",
    "\n",
    "https://www.youtube.com/watch?v=-GZZGYGPJGY&t=192s&ab_channel=AisKacang\n",
    "\n",
    "https://www.youtube.com/watch?v=VlmIyZllgz0\n",
    "\n",
    "https://www.youtube.com/watch?v=bRUjmsnE5ZU&ab_channel=PurePixels\n",
    "\n",
    "https://www.youtube.com/watch?v=BWU8IJBEjTk&ab_channel=PurePixels\n",
    "\n",
    "https://www.youtube.com/watch?v=nPsVmw-GF4A&ab_channel=PurePixels\n",
    "\n",
    "https://www.youtube.com/watch?v=bXVvXLHpmS8&t=87s&ab_channel=naddyepul\n",
    "\n",
    "https://www.youtube.com/watch?v=cOuIF6LuVmw&ab_channel=THELAKI\n",
    "\n",
    "https://www.youtube.com/watch?v=lcMZYdMnq-E&ab_channel=AmirArsad\n",
    "\n",
    "https://www.youtube.com/watch?v=uCg5WeQ34rM&ab_channel=AmirArsad\n",
    "\n",
    "https://www.youtube.com/watch?v=g95Rcydh0fs&t=5705s&ab_channel=MasBulan\n",
    "\n",
    "https://www.youtube.com/watch?v=cBcTg1xyQgM&ab_channel=SUSUTVC\n",
    "\n",
    "https://www.youtube.com/watch?v=aZcwqUZI2rA&t=989s&ab_channel=khairuljamain\n",
    "\n",
    "https://www.youtube.com/watch?v=_Zsx149RtiU&ab_channel=khairuljamain\n",
    "\n",
    "https://www.youtube.com/watch?v=tcqzySvke84&ab_channel=SkolarMalaysia\n",
    "\n",
    "https://www.youtube.com/watch?v=wQXgHxeeZ2c&ab_channel=SkolarMalaysia\n",
    "\n",
    "https://www.youtube.com/watch?v=lFr8JRu4Vj0\n",
    "\n",
    "https://www.youtube.com/watch?v=bUXOSgBduvo\n",
    "\n",
    "https://www.youtube.com/watch?v=GurzFbHVCI4\n",
    "\n",
    "https://www.youtube.com/watch?v=YutaPWokeiE\n",
    "\n",
    "https://www.youtube.com/watch?v=x0HhvgjUAjY\n",
    "\n",
    "https://www.youtube.com/watch?v=pwFJaiaHBmA\n",
    "\n",
    "https://www.youtube.com/watch?v=lyr89SJagaM\n",
    "\n",
    "https://www.youtube.com/watch?v=9Rm1omhPz7c\n",
    "\n",
    "https://www.youtube.com/watch?v=Vz3rCaQVarM\n",
    "\n",
    "https://www.youtube.com/watch?v=TGSfdP5JiTs&ab_channel=khairuljamain\n",
    "\n",
    "https://www.youtube.com/watch?v=Z1FpCckeSsk&ab_channel=khairuljamain\n",
    "\n",
    "https://www.youtube.com/watch?v=cEIf11YM6iU\n",
    "\n",
    "https://www.youtube.com/watch?v=riEwi1I6KKg\n",
    "\n",
    "https://www.youtube.com/watch?v=BoX_hMvaXWM\n",
    "\n",
    "https://www.youtube.com/watch?v=sSWZVKSsIlU\n",
    "\n",
    "https://www.youtube.com/watch?v=7aIM0DhAQMc\n",
    "\n",
    "https://www.youtube.com/watch?v=XJTfe7fVaGc&ab_channel=khairuljamain\n",
    "\n",
    "https://www.youtube.com/watch?v=ysC2rYKKt20&ab_channel=SUSUTVC\n",
    "\n",
    "https://www.youtube.com/watch?v=U7oaQ_tR8sQ\n",
    "\n",
    "https://www.youtube.com/watch?v=pB-1y9Zsrj4\n",
    "\n",
    "https://www.youtube.com/watch?v=eK3YtkMiqbM\n",
    "\n",
    "https://www.youtube.com/watch?v=HGdtUpZ8qpQ\n",
    "\n",
    "https://www.youtube.com/watch?v=F69FiR60K78\n",
    "\n",
    "https://www.youtube.com/watch?v=sw5h9hlityE&t=876s&ab_channel=TanahMelayu\n",
    "\n",
    "https://www.youtube.com/watch?v=4ZiC_Tg6hmU&t=768s&ab_channel=ONZZ\n",
    "\n",
    "https://www.youtube.com/watch?v=C0CVcdzfkuQ&t=1281s&ab_channel=ONZZ\n",
    "\n",
    "https://www.youtube.com/watch?v=C0CVcdzfkuQ&t=1281s&ab_channel=ONZZ\n",
    "\n",
    "https://www.youtube.com/watch?v=WSHL2nyN-wA\n",
    "\n",
    "https://www.youtube.com/watch?v=GSd5Tbo5fnE\n",
    "\n",
    "https://www.youtube.com/watch?v=wEZaPeMCLL4\n",
    "\n",
    "https://www.youtube.com/watch?v=2dlGt0FgmMo\n",
    "\n",
    "https://www.youtube.com/watch?v=WoM2j5bwxVk\n",
    "\n",
    "https://www.youtube.com/watch?v=KRDKcKiJbMc\n",
    "\n",
    "https://www.youtube.com/watch?v=bGmzcVR8ms0\n",
    "\n",
    "https://www.youtube.com/watch?v=OMk_Bb67lsk&t=860s\n",
    "\n",
    "https://www.youtube.com/watch?v=u9kyC-ObWWM\n",
    "\n",
    "https://www.youtube.com/watch?v=2EBDHR-7Rmw&t=1808s\n",
    "\n",
    "https://www.youtube.com/watch?v=UT9VX6udGf8&t=951s&ab_channel=SterkProduction\n",
    "\n",
    "https://www.youtube.com/watch?v=bMX6Nq8hveM&t=921s&ab_channel=SterkProduction\n",
    "\n",
    "https://www.youtube.com/watch?v=7uHpElfSpes&t=843s&ab_channel=SterkProduction\n",
    "\n",
    "https://www.youtube.com/watch?v=s0QwIMD123Y&t=2072s&ab_channel=SterkProduction\n",
    "\n",
    "https://www.youtube.com/watch?v=_QsLUdHUytY&t=1056s&ab_channel=SterkProduction\n",
    "\n",
    "https://www.youtube.com/watch?v=O_Mr_TG9aQs&t=546s&ab_channel=SterkProduction\n",
    "\n",
    "https://www.youtube.com/watch?v=zbWJgXwcRes&ab_channel=SterkProduction\n",
    "\n",
    "https://www.youtube.com/watch?v=hRUVMlq6PYk&ab_channel=SterkProduction\n",
    "\n",
    "https://www.youtube.com/watch?v=-PfFTGk6-WM&ab_channel=THELAKI\n",
    "\n",
    "https://www.youtube.com/watch?v=F1d0Huv54Ro&ab_channel=THELAKI\n",
    "\n",
    "https://www.youtube.com/watch?v=Q1oB0OtOGkE&ab_channel=THELAKI\n",
    "\n",
    "https://www.youtube.com/watch?v=2DqS7RigSLU\n",
    "\n",
    "https://www.youtube.com/watch?v=V91NKEeCurI&t=1064s\n",
    "\n",
    "https://www.youtube.com/watch?v=fcTQVSxcOf0&ab_channel=ERA\n",
    "\"\"\"\n",
    "videos = list(set(filter(None, videos.split('\\n'))))\n",
    "len(videos)"
   ]
  },
  {
   "cell_type": "code",
   "execution_count": 2,
   "metadata": {},
   "outputs": [],
   "source": [
    "import youtube_dl"
   ]
  },
  {
   "cell_type": "code",
   "execution_count": 3,
   "metadata": {},
   "outputs": [],
   "source": [
    "import mp\n",
    "from tqdm import tqdm\n",
    "\n",
    "def loop(urls):\n",
    "    urls = urls[0]\n",
    "    ydl_opts = {\n",
    "        'format': 'bestaudio/best',\n",
    "        'postprocessors': [{\n",
    "            'key': 'FFmpegExtractAudio',\n",
    "            'preferredcodec': 'mp3',\n",
    "            'preferredquality': '192',\n",
    "        }],\n",
    "        'no-check-certificate': True\n",
    "    }\n",
    "\n",
    "    for i in tqdm(range(len(urls))):\n",
    "        try:\n",
    "            with youtube_dl.YoutubeDL(ydl_opts) as ydl:\n",
    "                ydl.download([urls[i]])\n",
    "        except:\n",
    "            pass"
   ]
  },
  {
   "cell_type": "code",
   "execution_count": 4,
   "metadata": {
    "scrolled": false
   },
   "outputs": [
    {
     "name": "stderr",
     "output_type": "stream",
     "text": [
      "  0%|          | 0/7 [00:00<?, ?it/s]"
     ]
    },
    {
     "name": "stdout",
     "output_type": "stream",
     "text": [
      "[youtube] 9Rm1omhPz7c: Downloading webpage\n",
      "[youtube] fcTQVSxcOf0: Downloading webpage\n",
      "[youtube] f6H3ZsFy9dY: Downloading webpage\n",
      "[youtube] 4DCkzN-pdyw: Downloading webpage\n",
      "[youtube] bGmzcVR8ms0: Downloading webpage\n",
      "[youtube] cBcTg1xyQgM: Downloading webpage\n",
      "[youtube] s0QwIMD123Y: Downloading webpage\n",
      "[youtube] tcqzySvke84: Downloading webpage\n",
      "[youtube] TGSfdP5JiTs: Downloading webpage\n",
      "[youtube] neCmuMPg_IE: Downloading webpage\n",
      "[youtube] RdqVSxXwQIg: Downloading webpage\n",
      "[youtube] OqNWrMU6mwQ: Downloading webpage\n",
      "[youtube] neCmuMPg_IE: Downloading js player 4c375770\n",
      "[youtube] tcqzySvke84: Downloading MPD manifest\n",
      "[download] Destination: SEMBANG BARAI EP 5  - Judgemental terox!-f6H3ZsFy9dY.webm\n",
      "[download] Destination: Rashidi Ishak Suka Lari Tak Ingat Dunia _ Malam Jumaat _ Fify & Hydar-bGmzcVR8ms0.webm\n",
      "[download]   0.0% of 9.08MiB at 36.05KiB/s ETA 04:1801"
     ]
    },
    {
     "name": "stderr",
     "output_type": "stream",
     "text": [
      "ERROR: OqNWrMU6mwQ: YouTube said: Unable to extract video data\n",
      " 14%|█▍        | 1/7 [00:02<00:14,  2.49s/it]"
     ]
    },
    {
     "name": "stdout",
     "output_type": "stream",
     "text": [
      "[download]   0.0% of 31.09MiB at 238.36KiB/s ETA 02:13[youtube] 9Rm1omhPz7c: Downloading MPD manifest\n",
      "[download]   0.3% of 9.08MiB at 492.04KiB/s ETA 00:182[download] Destination: #ERATerjahStudio - Haniff Terjah Studio Kamar Seni-fcTQVSxcOf0.webm\n",
      "[download]   0.1% of 17.88MiB at 689.91KiB/s ETA 00:26[download] Destination: PodcaSTERK! - Acap Bentan Dan Kem Yang Tak Motivasi _ Sterk Production-s0QwIMD123Y.webm\n",
      "[download]   2.7% of 9.08MiB at  2.67MiB/s ETA 00:037[download] Destination: Kebakaran Kedua Hospital Sultanah Aminah _ SlowTalk Podcast #12-4DCkzN-pdyw.webm\n",
      "[download]   2.8% of 36.23MiB at  7.45MiB/s ETA 00:048[youtube] neCmuMPg_IE: Downloading js player 4c375770\n",
      "[download]   5.5% of 36.23MiB at 12.97MiB/s ETA 00:02[youtube] fW1sUT-3VMM: Downloading webpage\n",
      "[download] Destination: 𝐏𝐔𝐀𝐊𝐀 EP09 - Kisah Seram Asraf Amin-cBcTg1xyQgM.m4a\n",
      "[download]   1.0% of 25.49MiB at 13.86MiB/s ETA 00:010[download] Destination: WHY I SO HATE SOUTH KOREA _ KENAPA AKU TAK SUKA KOREA SELATAN-TGSfdP5JiTs.m4a\n",
      "[download] 100% of 9.08MiB in 00:00.02MiB/s ETA 00:006\n",
      "[download]  38.9% of 25.49MiB at 84.42MiB/s ETA 00:00[ffmpeg] Destination: SEMBANG BARAI EP 5  - Judgemental terox!-f6H3ZsFy9dY.mp3\n",
      "[download] 100% of 6.13MiB in 00:00.66MiB/s ETA 00:007nown ETA\n",
      "[download]  31.7% of 31.09MiB at  1.40MiB/s ETA 00:152nown ETA[ffmpeg] Destination: Kebakaran Kedua Hospital Sultanah Aminah _ SlowTalk Podcast #12-4DCkzN-pdyw.mp3\n",
      "[download]  32.9% of 31.09MiB at  4.35MiB/s ETA 00:049[dashsegments] Total fragments: 168\n",
      "[download]  77.9% of 25.49MiB at  1.21MiB/s ETA 00:04[download] Destination: INGIN TAHU  - PSIKOLOGI KLINIKAL & KESIHATAN MENTAL (PART1)-9Rm1omhPz7c.webm\n",
      "[download]  78.0% of 25.49MiB at  1.54MiB/s ETA 00:035[dashsegments] Total fragments: 129\n",
      "[download]  34.5% of 31.09MiB at  7.97MiB/s ETA 00:02[download] Destination: APA ERTI MENJADI SEORANG GURU (PART 4)-tcqzySvke84.m4a\n",
      "[download] 100% of 13.14MiB in 00:0025MiB/s ETA 00:000:12\n",
      "[download] 100% of 25.49MiB in 00:005.07KiB/s ETA 09:0046\n",
      "[download]   0.5% of ~12.46MiB at  1.17MiB/s ETA 00:3606[download] Destination: Hisap Jari Awek  SlowTalk Podcast #02-RdqVSxXwQIg.m4a\n",
      "[download]  13.1% of 3.82MiB at  3.73MiB/s ETA 00:000:17wn ETA[ffmpeg] Correcting container in \"WHY I SO HATE SOUTH KOREA _ KENAPA AKU TAK SUKA KOREA SELATAN-TGSfdP5JiTs.m4a\"\n",
      "[download]   2.2% of ~14.93MiB at 344.92KiB/s ETA 00:17own ETA[ffmpeg] Correcting container in \"𝐏𝐔𝐀𝐊𝐀 EP09 - Kisah Seram Asraf Amin-cBcTg1xyQgM.m4a\"\n",
      "[download]   2.5% of ~14.93MiB at 906.89KiB/s ETA 00:16[download] Destination: Drive-In Cinema Pertama Di Malaysia  SlowTalk Podcast #14-neCmuMPg_IE.webm\n",
      "[download]   3.0% of ~15.92MiB at 474.87KiB/s ETA 00:16[download] Destination: Bunuh Kucing Lagi  SlowTalk Podacast #15-fW1sUT-3VMM.webm\n",
      "[download]   4.7% of ~16.58MiB at  1.72MiB/s ETA 00:14nown ETA[ffmpeg] Destination: WHY I SO HATE SOUTH KOREA _ KENAPA AKU TAK SUKA KOREA SELATAN-TGSfdP5JiTs.mp3\n",
      "[download] 100% of 17.88MiB in 00:019.05KiB/s ETA 00:22\n",
      "[download] 100% of 6.14MiB in 00:001.83MiB/s ETA 00:20\n",
      "[download] 100% of 4.05MiB in 00:001.86MiB/s ETA 00:204\n",
      "[download]   4.2% of ~21.85MiB at 356.95KiB/s ETA 00:22own ETA[ffmpeg] Destination: #ERATerjahStudio - Haniff Terjah Studio Kamar Seni-fcTQVSxcOf0.mp3\n",
      "[download]   6.3% of ~17.68MiB at 514.53KiB/s ETA 00:15[ffmpeg] Destination: Drive-In Cinema Pertama Di Malaysia  SlowTalk Podcast #14-neCmuMPg_IE.mp3\n",
      "[download] 100.0% of 36.23MiB at 19.73MiB/s ETA 00:0034[ffmpeg] Destination: Bunuh Kucing Lagi  SlowTalk Podacast #15-fW1sUT-3VMM.mp3\n",
      "[download] 100% of 36.23MiB in 00:0121MiB/s ETA 00:012\n",
      "[download] 100% of 31.09MiB in 00:015MiB/s ETA 00:00212\n",
      "[download] 100% of 3.82MiB in 00:011.68MiB/s ETA 00:13\n",
      "[download]   5.4% of ~22.50MiB at 381.88KiB/s ETA 00:23[ffmpeg] Destination: PodcaSTERK! - Acap Bentan Dan Kem Yang Tak Motivasi _ Sterk Production-s0QwIMD123Y.mp3\n",
      "[download]   8.5% of ~18.23MiB at 303.18KiB/s ETA 00:14[ffmpeg] Destination: Rashidi Ishak Suka Lari Tak Ingat Dunia _ Malam Jumaat _ Fify & Hydar-bGmzcVR8ms0.mp3\n",
      "[download]   9.3% of ~18.23MiB at  1.09MiB/s ETA 00:143[ffmpeg] Correcting container in \"Hisap Jari Awek  SlowTalk Podcast #02-RdqVSxXwQIg.m4a\"\n",
      "[download]   9.4% of ~18.36MiB at 387.08KiB/s ETA 00:15[ffmpeg] Destination: 𝐏𝐔𝐀𝐊𝐀 EP09 - Kisah Seram Asraf Amin-cBcTg1xyQgM.mp3\n",
      "[download]  11.6% of ~18.64MiB at  1.03MiB/s ETA 00:164[ffmpeg] Destination: Hisap Jari Awek  SlowTalk Podcast #02-RdqVSxXwQIg.mp3\n",
      "[download]  62.3% of ~19.63MiB at 785.68KiB/s ETA 00:087Deleting original file Hisap Jari Awek  SlowTalk Podcast #02-RdqVSxXwQIg.m4a (pass -k to keep)\n",
      "[download]  62.6% of ~19.63MiB at  1.41MiB/s ETA 00:08"
     ]
    },
    {
     "name": "stderr",
     "output_type": "stream",
     "text": [
      "\r",
      " 14%|█▍        | 1/7 [00:17<01:44, 17.44s/it]"
     ]
    },
    {
     "name": "stdout",
     "output_type": "stream",
     "text": [
      "[download]  65.1% of ~19.65MiB at  1.13MiB/s ETA 00:0756[youtube] nPsVmw-GF4A: Downloading webpage\n",
      "[download]  52.0% of ~23.56MiB at 660.65KiB/s ETA 00:14[download] Destination: Kelaster - Movie Review-nPsVmw-GF4A.m4a\n",
      "[download] 100% of 15.42MiB in 00:00.13MiB/s ETA 00:064own ETA\n",
      "[download]  73.7% of ~19.67MiB at 275.77KiB/s ETA 00:06[ffmpeg] Correcting container in \"Kelaster - Movie Review-nPsVmw-GF4A.m4a\"\n",
      "[download]  78.3% of ~19.68MiB at  1.04MiB/s ETA 00:0505[ffmpeg] Destination: Kelaster - Movie Review-nPsVmw-GF4A.mp3\n",
      "[download] 100% of 19.59MiB in 00:23.25MiB/s ETA 00:0809\n",
      "[download]  75.0% of ~23.38MiB at 948.75KiB/s ETA 00:07[ffmpeg] Correcting container in \"APA ERTI MENJADI SEORANG GURU (PART 4)-tcqzySvke84.m4a\"\n",
      "[download]  78.0% of ~23.34MiB at 861.17KiB/s ETA 00:067[ffmpeg] Destination: APA ERTI MENJADI SEORANG GURU (PART 4)-tcqzySvke84.mp3\n",
      "[download]  81.0% of ~23.28MiB at 214.78KiB/s ETA 00:066Deleting original file Bunuh Kucing Lagi  SlowTalk Podacast #15-fW1sUT-3VMM.webm (pass -k to keep)\n",
      "[download]  81.0% of ~23.28MiB at 195.07KiB/s ETA 00:06"
     ]
    },
    {
     "name": "stderr",
     "output_type": "stream",
     "text": [
      "\r",
      " 29%|██▊       | 2/7 [00:28<00:48,  9.63s/it]"
     ]
    },
    {
     "name": "stdout",
     "output_type": "stream",
     "text": [
      "[download]  82.8% of ~23.24MiB at  1.12MiB/s ETA 00:055[youtube] U7oaQ_tR8sQ: Downloading webpage\n",
      "[download]  86.3% of ~23.26MiB at  1.12MiB/s ETA 00:0444[download] Destination: 𝐏𝐔𝐀𝐊𝐀 EP07 - Kisah Seram Amy Kecik & Endang Rahayu-U7oaQ_tR8sQ.m4a\n",
      "[download] 100% of 39.79MiB in 00:01.38MiB/s ETA 00:022own ETA\n",
      "[download]  94.0% of ~23.25MiB at  1.02MiB/s ETA 00:011[ffmpeg] Correcting container in \"𝐏𝐔𝐀𝐊𝐀 EP07 - Kisah Seram Amy Kecik & Endang Rahayu-U7oaQ_tR8sQ.m4a\"\n",
      "[download] 100% of 23.14MiB in 00:313.27KiB/s ETA 00:001\n",
      "[ffmpeg] Destination: INGIN TAHU  - PSIKOLOGI KLINIKAL & KESIHATAN MENTAL (PART1)-9Rm1omhPz7c.mp3\n",
      "[ffmpeg] Destination: 𝐏𝐔𝐀𝐊𝐀 EP07 - Kisah Seram Amy Kecik & Endang Rahayu-U7oaQ_tR8sQ.mp3\n",
      "Deleting original file Kebakaran Kedua Hospital Sultanah Aminah _ SlowTalk Podcast #12-4DCkzN-pdyw.webm (pass -k to keep)\n"
     ]
    },
    {
     "name": "stderr",
     "output_type": "stream",
     "text": [
      "\r",
      " 14%|█▍        | 1/7 [00:36<03:41, 36.88s/it]"
     ]
    },
    {
     "name": "stdout",
     "output_type": "stream",
     "text": [
      "[youtube] -GZZGYGPJGY: Downloading webpage\n",
      "[download] Destination: SEMBANG BARAI EP 10  - Victim blaming!--GZZGYGPJGY.webm\n",
      "[download] 100% of 10.74MiB in 00:0081MiB/s ETA 00:001nown ETA\n",
      "[ffmpeg] Destination: SEMBANG BARAI EP 10  - Victim blaming!--GZZGYGPJGY.mp3\n",
      "Deleting original file Drive-In Cinema Pertama Di Malaysia  SlowTalk Podcast #14-neCmuMPg_IE.webm (pass -k to keep)\n"
     ]
    },
    {
     "name": "stderr",
     "output_type": "stream",
     "text": [
      "\r",
      " 14%|█▍        | 1/7 [00:39<03:58, 39.74s/it]"
     ]
    },
    {
     "name": "stdout",
     "output_type": "stream",
     "text": [
      "[youtube] V91NKEeCurI: Downloading webpage\n",
      "[download] Destination: Thelaki Podcast _ Setahun Thelaki & Tipu Untuk Dapatkan Awek-V91NKEeCurI.webm\n",
      "[download] 100% of 23.01MiB in 00:0299MiB/s ETA 00:005nown ETA\n",
      "[ffmpeg] Destination: Thelaki Podcast _ Setahun Thelaki & Tipu Untuk Dapatkan Awek-V91NKEeCurI.mp3\n",
      "Deleting original file WHY I SO HATE SOUTH KOREA _ KENAPA AKU TAK SUKA KOREA SELATAN-TGSfdP5JiTs.m4a (pass -k to keep)\n"
     ]
    },
    {
     "name": "stderr",
     "output_type": "stream",
     "text": [
      "\r",
      " 14%|█▍        | 1/7 [00:54<05:24, 54.04s/it]"
     ]
    },
    {
     "name": "stdout",
     "output_type": "stream",
     "text": [
      "[youtube] 2EBDHR-7Rmw: Downloading webpage\n",
      "[download] Destination: Ara Johari Tak Boleh Dengan Lelaki Baran _ Fify & Hydar _ Malam Jumaat-2EBDHR-7Rmw.m4a\n",
      "[download] 100% of 37.06MiB in 00:0153MiB/s ETA 00:003nown ETA\n",
      "[ffmpeg] Correcting container in \"Ara Johari Tak Boleh Dengan Lelaki Baran _ Fify & Hydar _ Malam Jumaat-2EBDHR-7Rmw.m4a\"\n",
      "Deleting original file SEMBANG BARAI EP 5  - Judgemental terox!-f6H3ZsFy9dY.webm (pass -k to keep)\n"
     ]
    },
    {
     "name": "stderr",
     "output_type": "stream",
     "text": [
      "\r",
      " 14%|█▍        | 1/7 [00:58<05:51, 58.65s/it]"
     ]
    },
    {
     "name": "stdout",
     "output_type": "stream",
     "text": [
      "[youtube] Q5kDJPXJPbc: Downloading webpage\n",
      "[ffmpeg] Destination: Ara Johari Tak Boleh Dengan Lelaki Baran _ Fify & Hydar _ Malam Jumaat-2EBDHR-7Rmw.mp3\n",
      "[download] Destination: Nak Samun Ke Raba  SlowTalk Podcast #07-Q5kDJPXJPbc.webm\n",
      "[download] 100% of 10.62MiB in 00:0227MiB/s ETA 00:000nown ETA\n",
      "[ffmpeg] Destination: Nak Samun Ke Raba  SlowTalk Podcast #07-Q5kDJPXJPbc.mp3\n",
      "Deleting original file Kelaster - Movie Review-nPsVmw-GF4A.m4a (pass -k to keep)\n"
     ]
    },
    {
     "name": "stderr",
     "output_type": "stream",
     "text": [
      "\r",
      " 29%|██▊       | 2/7 [01:21<02:37, 31.49s/it]"
     ]
    },
    {
     "name": "stdout",
     "output_type": "stream",
     "text": [
      "[youtube] 2dlGt0FgmMo: Downloading webpage\n",
      "[download] Destination: Dari Budak Prank Ke Kaca TV, Jaa Suzuran Share Kisah Mula Dari Bawah _ Malam Jumaat _ Fify & Hydar-2dlGt0FgmMo.m4a\n",
      "[download] 100% of 48.61MiB in 00:0344MiB/s ETA 00:000nown ETA\n",
      "[ffmpeg] Correcting container in \"Dari Budak Prank Ke Kaca TV, Jaa Suzuran Share Kisah Mula Dari Bawah _ Malam Jumaat _ Fify & Hydar-2dlGt0FgmMo.m4a\"\n",
      "[ffmpeg] Destination: Dari Budak Prank Ke Kaca TV, Jaa Suzuran Share Kisah Mula Dari Bawah _ Malam Jumaat _ Fify & Hydar-2dlGt0FgmMo.mp3\n",
      "Deleting original file APA ERTI MENJADI SEORANG GURU (PART 4)-tcqzySvke84.m4a (pass -k to keep)\n"
     ]
    },
    {
     "name": "stderr",
     "output_type": "stream",
     "text": [
      "\r",
      " 14%|█▍        | 1/7 [01:45<10:35, 105.99s/it]"
     ]
    },
    {
     "name": "stdout",
     "output_type": "stream",
     "text": [
      "[youtube] bUXOSgBduvo: Downloading webpage\n",
      "[youtube] bUXOSgBduvo: Downloading MPD manifest\n",
      "[dashsegments] Total fragments: 175\n",
      "[download] Destination: Eps 005 - Adilkah Pendidikan Kita Kepada Pelajar Pedalaman (Part 1)-bUXOSgBduvo.m4a\n",
      "[download]   3.4% of ~23.13MiB at 134.27KiB/s ETA 00:36561Deleting original file SEMBANG BARAI EP 10  - Victim blaming!--GZZGYGPJGY.webm (pass -k to keep)\n",
      "[download]   3.4% of ~23.13MiB at 191.99KiB/s ETA 00:36"
     ]
    },
    {
     "name": "stderr",
     "output_type": "stream",
     "text": [
      "\r",
      " 29%|██▊       | 2/7 [01:49<03:57, 47.54s/it]"
     ]
    },
    {
     "name": "stdout",
     "output_type": "stream",
     "text": [
      "[download]   5.0% of ~23.99MiB at  1.08MiB/s ETA 00:3353[youtube] At-WKdApIhs: Downloading webpage\n",
      "[download]   7.3% of ~24.90MiB at 993.31KiB/s ETA 00:333[download] Destination: MANA NAK CARI CINTA _ SEISMIK PODCAST-At-WKdApIhs.m4a\n",
      "[download] 100% of 31.40MiB in 00:022.36KiB/s ETA 00:31own ETA\n",
      "[download]  14.3% of ~25.89MiB at 1003.57KiB/s ETA 00:30[ffmpeg] Correcting container in \"MANA NAK CARI CINTA _ SEISMIK PODCAST-At-WKdApIhs.m4a\"\n",
      "[download]  18.9% of ~26.15MiB at 922.12KiB/s ETA 00:291[ffmpeg] Destination: MANA NAK CARI CINTA _ SEISMIK PODCAST-At-WKdApIhs.mp3\n",
      "[download]  30.3% of ~26.47MiB at 253.02KiB/s ETA 00:268Deleting original file 𝐏𝐔𝐀𝐊𝐀 EP09 - Kisah Seram Asraf Amin-cBcTg1xyQgM.m4a (pass -k to keep)\n",
      "[download]  30.4% of ~26.47MiB at 402.17KiB/s ETA 00:25"
     ]
    },
    {
     "name": "stderr",
     "output_type": "stream",
     "text": [
      "\r",
      " 14%|█▍        | 1/7 [01:59<11:56, 119.41s/it]"
     ]
    },
    {
     "name": "stdout",
     "output_type": "stream",
     "text": [
      "[download]  32.0% of ~26.49MiB at 968.75KiB/s ETA 00:25[youtube] SP77L5Z9JNw: Downloading webpage\n",
      "[download]  35.5% of ~26.54MiB at 389.80KiB/s ETA 00:244[download] Destination: SEMBANG BARAI EP 7  - Transgender, terima-SP77L5Z9JNw.webm\n",
      "[download] 100% of 9.06MiB in 00:011.07MiB/s ETA 00:233\n",
      "[download]  37.8% of ~26.57MiB at 224.49KiB/s ETA 00:23[ffmpeg] Destination: SEMBANG BARAI EP 7  - Transgender, terima-SP77L5Z9JNw.mp3\n",
      "[download]  39.1% of ~26.58MiB at 888.44KiB/s ETA 00:223Deleting original file Nak Samun Ke Raba  SlowTalk Podcast #07-Q5kDJPXJPbc.webm (pass -k to keep)\n",
      "[download]  39.4% of ~26.58MiB at  1.57MiB/s ETA 00:22"
     ]
    },
    {
     "name": "stderr",
     "output_type": "stream",
     "text": [
      "\r",
      " 29%|██▊       | 2/7 [02:02<05:01, 60.29s/it]"
     ]
    },
    {
     "name": "stdout",
     "output_type": "stream",
     "text": [
      "[download]  40.6% of ~26.59MiB at  1.21MiB/s ETA 00:222[youtube] pB-1y9Zsrj4: Downloading webpage\n",
      "[download]  44.0% of ~26.62MiB at 225.11KiB/s ETA 00:201[download] Destination: 𝐏𝐔𝐀𝐊𝐀 EP06 - Kisah Seram Nur Farhana M. Noor-pB-1y9Zsrj4.m4a\n",
      "[download] 100% of 31.00MiB in 00:016.79KiB/s ETA 00:19own ETA\n",
      "[download]  49.7% of ~26.66MiB at 913.57KiB/s ETA 00:18[ffmpeg] Correcting container in \"𝐏𝐔𝐀𝐊𝐀 EP06 - Kisah Seram Nur Farhana M. Noor-pB-1y9Zsrj4.m4a\"\n",
      "[download]  52.5% of ~26.67MiB at  1.03MiB/s ETA 00:177Deleting original file #ERATerjahStudio - Haniff Terjah Studio Kamar Seni-fcTQVSxcOf0.webm (pass -k to keep)\n"
     ]
    },
    {
     "name": "stderr",
     "output_type": "stream",
     "text": [
      "\r",
      " 14%|█▍        | 1/7 [02:07<12:45, 127.52s/it]"
     ]
    },
    {
     "name": "stdout",
     "output_type": "stream",
     "text": [
      "[download]  53.7% of ~26.68MiB at 898.27KiB/s ETA 00:17[youtube] HGdtUpZ8qpQ: Downloading webpage\n",
      "[download]  53.9% of ~26.68MiB at 613.78KiB/s ETA 00:17[ffmpeg] Destination: 𝐏𝐔𝐀𝐊𝐀 EP06 - Kisah Seram Nur Farhana M. Noor-pB-1y9Zsrj4.mp3\n",
      "[download]  57.3% of ~26.70MiB at 392.63KiB/s ETA 00:156[download] Destination: 𝐏𝐔𝐀𝐊𝐀 EP03 - Kisah Seram Suhaillah Salam-HGdtUpZ8qpQ.m4a\n",
      "[download] 100% of 22.60MiB in 00:0199MiB/s ETA 00:003nown ETA\n",
      "[ffmpeg] Correcting container in \"𝐏𝐔𝐀𝐊𝐀 EP03 - Kisah Seram Suhaillah Salam-HGdtUpZ8qpQ.m4a\"\n",
      "[download]  62.3% of ~26.72MiB at 159.62KiB/s ETA 00:14[ffmpeg] Destination: 𝐏𝐔𝐀𝐊𝐀 EP03 - Kisah Seram Suhaillah Salam-HGdtUpZ8qpQ.mp3\n",
      "[download] 100% of 26.76MiB in 00:390.62KiB/s ETA 00:001\n",
      "[ffmpeg] Correcting container in \"Eps 005 - Adilkah Pendidikan Kita Kepada Pelajar Pedalaman (Part 1)-bUXOSgBduvo.m4a\"\n",
      "[ffmpeg] Destination: Eps 005 - Adilkah Pendidikan Kita Kepada Pelajar Pedalaman (Part 1)-bUXOSgBduvo.mp3\n",
      "Deleting original file INGIN TAHU  - PSIKOLOGI KLINIKAL & KESIHATAN MENTAL (PART1)-9Rm1omhPz7c.webm (pass -k to keep)\n"
     ]
    },
    {
     "name": "stderr",
     "output_type": "stream",
     "text": [
      "\r",
      " 14%|█▍        | 1/7 [02:54<17:25, 174.31s/it]"
     ]
    },
    {
     "name": "stdout",
     "output_type": "stream",
     "text": [
      "[youtube] rpbjezVZ2GI: Downloading webpage\n",
      "[download] Destination: Setakat Ini Jodoh Kami _ SlowTalk Podcast #16-rpbjezVZ2GI.webm\n",
      "[download] 100% of 3.75MiB in 00:0071MiB/s ETA 00:004\n",
      "[ffmpeg] Destination: Setakat Ini Jodoh Kami _ SlowTalk Podcast #16-rpbjezVZ2GI.mp3\n",
      "Deleting original file SEMBANG BARAI EP 7  - Transgender, terima-SP77L5Z9JNw.webm (pass -k to keep)\n"
     ]
    },
    {
     "name": "stderr",
     "output_type": "stream",
     "text": [
      "\r",
      " 29%|██▊       | 2/7 [03:00<08:29, 101.97s/it]"
     ]
    },
    {
     "name": "stdout",
     "output_type": "stream",
     "text": [
      "[youtube] bMX6Nq8hveM: Downloading webpage\n",
      "[download] Destination: PodcaSTERK! - Filem Sampah _ Sterk Production-bMX6Nq8hveM.webm\n",
      "[download] 100% of 31.17MiB in 00:0194MiB/s ETA 00:003nown ETA\n",
      "Deleting original file Rashidi Ishak Suka Lari Tak Ingat Dunia _ Malam Jumaat _ Fify & Hydar-bGmzcVR8ms0.webm (pass -k to keep)\n",
      "[ffmpeg] Destination: PodcaSTERK! - Filem Sampah _ Sterk Production-bMX6Nq8hveM.mp3\n"
     ]
    },
    {
     "name": "stderr",
     "output_type": "stream",
     "text": [
      "\r",
      " 14%|█▍        | 1/7 [03:03<18:23, 183.92s/it]"
     ]
    },
    {
     "name": "stdout",
     "output_type": "stream",
     "text": [
      "[youtube] sw5h9hlityE: Downloading webpage\n",
      "Deleting original file Thelaki Podcast _ Setahun Thelaki & Tipu Untuk Dapatkan Awek-V91NKEeCurI.webm (pass -k to keep)\n"
     ]
    },
    {
     "name": "stderr",
     "output_type": "stream",
     "text": [
      "\r",
      " 29%|██▊       | 2/7 [03:05<05:57, 71.41s/it]"
     ]
    },
    {
     "name": "stdout",
     "output_type": "stream",
     "text": [
      "[youtube] sw5h9hlityE: Downloading MPD manifest\n",
      "[youtube] wEZaPeMCLL4: Downloading webpage\n",
      "[dashsegments] Total fragments: 237\n",
      "[download] Destination: RAHSIA MELIHAT KE DALAM DIRI (PODCAST)-sw5h9hlityE.webm\n",
      "[download]   0.8% of ~21.26MiB at  1.32MiB/s ETA 00:29242[download] Destination: Shaza Bae kerap ke Indonesia untuk berjumpa seseorang _ Malam Jumaat Bersama Fify & Hydar-wEZaPeMCLL4.m4a\n",
      "[download] 100% of 51.19MiB in 00:030.44KiB/s ETA 00:41own ETA\n",
      "[download]   8.8% of ~31.78MiB at 1001.35KiB/s ETA 00:40[ffmpeg] Correcting container in \"Shaza Bae kerap ke Indonesia untuk berjumpa seseorang _ Malam Jumaat Bersama Fify & Hydar-wEZaPeMCLL4.m4a\"\n",
      "[download]   9.3% of ~31.85MiB at 224.24KiB/s ETA 00:41Deleting original file 𝐏𝐔𝐀𝐊𝐀 EP07 - Kisah Seram Amy Kecik & Endang Rahayu-U7oaQ_tR8sQ.m4a (pass -k to keep)\n",
      "[download]   9.3% of ~31.85MiB at 246.84KiB/s ETA 00:41"
     ]
    },
    {
     "name": "stderr",
     "output_type": "stream",
     "text": [
      "\r",
      " 43%|████▎     | 3/7 [03:10<03:40, 55.22s/it]"
     ]
    },
    {
     "name": "stdout",
     "output_type": "stream",
     "text": [
      "[download]  10.3% of ~31.82MiB at 542.10KiB/s ETA 00:40[youtube] lFr8JRu4Vj0: Downloading webpage\n",
      "[download]  11.4% of ~31.86MiB at  1.01MiB/s ETA 00:390[youtube] lFr8JRu4Vj0: Downloading MPD manifest\n",
      "[download]  13.1% of ~31.93MiB at 846.53KiB/s ETA 00:38[dashsegments] Total fragments: 115\n",
      "[download]  13.1% of ~31.93MiB at 846.53KiB/s ETA 00:38[download] Destination: Eps 004 - PERKAHWINAN CAMPUR, OK KE (PART 2)-lFr8JRu4Vj0.webm\n",
      "[download]  14.5% of ~31.92MiB at 400.21KiB/s ETA 00:3889[ffmpeg] Destination: Shaza Bae kerap ke Indonesia untuk berjumpa seseorang _ Malam Jumaat Bersama Fify & Hydar-wEZaPeMCLL4.mp3\n",
      "[download]  10.4% of ~13.83MiB at 167.31KiB/s ETA 00:207Deleting original file Ara Johari Tak Boleh Dengan Lelaki Baran _ Fify & Hydar _ Malam Jumaat-2EBDHR-7Rmw.m4a (pass -k to keep)\n",
      "[download]  10.6% of ~13.83MiB at 386.55KiB/s ETA 00:20"
     ]
    },
    {
     "name": "stderr",
     "output_type": "stream",
     "text": [
      "\r",
      " 29%|██▊       | 2/7 [03:14<06:39, 79.97s/it]"
     ]
    },
    {
     "name": "stdout",
     "output_type": "stream",
     "text": [
      "[download]  19.4% of ~31.99MiB at 197.82KiB/s ETA 00:369[youtube] 4ZiC_Tg6hmU: Downloading webpage\n",
      "[download]  22.4% of ~31.86MiB at 861.05KiB/s ETA 00:345[download] Destination: Sofyank aka Zach King Malaysia _ Malam Jumaat _ Fify & Hydar-4ZiC_Tg6hmU.webm\n",
      "[download] 100% of 32.17MiB in 00:01.20MiB/s ETA 00:1532wn ETA\n",
      "[download]  26.6% of ~31.81MiB at 201.56KiB/s ETA 00:322[ffmpeg] Destination: Sofyank aka Zach King Malaysia _ Malam Jumaat _ Fify & Hydar-4ZiC_Tg6hmU.mp3\n",
      "[download] 100% of 14.79MiB in 00:200.31KiB/s ETA 00:000\n",
      "[download]  61.3% of ~31.58MiB at 434.58KiB/s ETA 00:17[ffmpeg] Destination: Eps 004 - PERKAHWINAN CAMPUR, OK KE (PART 2)-lFr8JRu4Vj0.mp3\n",
      "[download]  61.8% of ~31.58MiB at 582.94KiB/s ETA 00:16Deleting original file PodcaSTERK! - Acap Bentan Dan Kem Yang Tak Motivasi _ Sterk Production-s0QwIMD123Y.webm (pass -k to keep)\n",
      "[download]  62.0% of ~31.58MiB at 873.80KiB/s ETA 00:16"
     ]
    },
    {
     "name": "stderr",
     "output_type": "stream",
     "text": [
      "\r",
      " 14%|█▍        | 1/7 [03:33<21:20, 213.43s/it]"
     ]
    },
    {
     "name": "stdout",
     "output_type": "stream",
     "text": [
      "[download]  63.0% of ~31.56MiB at 123.43KiB/s ETA 00:16[youtube] uCg5WeQ34rM: Downloading webpage\n",
      "[download]  63.4% of ~31.56MiB at 427.62KiB/s ETA 00:16Deleting original file Setakat Ini Jodoh Kami _ SlowTalk Podcast #16-rpbjezVZ2GI.webm (pass -k to keep)\n",
      "[download]  63.5% of ~31.56MiB at 649.26KiB/s ETA 00:16"
     ]
    },
    {
     "name": "stderr",
     "output_type": "stream",
     "text": [
      "\r",
      " 29%|██▊       | 2/7 [03:34<11:10, 134.02s/it]"
     ]
    },
    {
     "name": "stdout",
     "output_type": "stream",
     "text": [
      "[download]  64.6% of ~31.55MiB at 983.73KiB/s ETA 00:156[youtube] cEIf11YM6iU: Downloading webpage\n",
      "[download]  65.0% of ~31.54MiB at 116.22KiB/s ETA 00:15[download] Destination: Q & A (Jadi backpacker ni tak ada masa depan) _ Podcast Malaysia-uCg5WeQ34rM.webm\n",
      "[download] 100% of 24.00MiB in 00:01.14MiB/s ETA 00:1444wn ETA\n",
      "[download]  68.4% of ~31.56MiB at  1.16MiB/s ETA 00:144[ffmpeg] Destination: Q & A (Jadi backpacker ni tak ada masa depan) _ Podcast Malaysia-uCg5WeQ34rM.mp3\n",
      "[download]  69.2% of ~31.58MiB at 192.94KiB/s ETA 00:13[download] Destination: Isu Rohingya Di Malaysia Dari 3 Sisi Yang Berbeza-cEIf11YM6iU.m4a\n",
      "[download]  73.8% of ~31.51MiB at 156.52KiB/s ETA 00:11Deleting original file 𝐏𝐔𝐀𝐊𝐀 EP03 - Kisah Seram Suhaillah Salam-HGdtUpZ8qpQ.m4a (pass -k to keep)\n",
      "[download]  73.9% of ~31.51MiB at 176.82KiB/s ETA 00:11"
     ]
    },
    {
     "name": "stderr",
     "output_type": "stream",
     "text": [
      "\r",
      " 29%|██▊       | 2/7 [03:39<09:43, 116.73s/it]"
     ]
    },
    {
     "name": "stdout",
     "output_type": "stream",
     "text": [
      "[download]  74.8% of ~31.48MiB at 235.33KiB/s ETA 00:11[youtube] OMk_Bb67lsk: Downloading webpage\n",
      "[download] 100% of 9.43MiB in 00:0413.20KiB/s ETA 00:10\n",
      "[download]  76.8% of ~31.45MiB at 202.08KiB/s ETA 00:10[download] Destination: 3 Selebriti Yang Membuatkan Haniff ERA Kelu _ Malam Jumaat _ Fify & Hydar-OMk_Bb67lsk.m4a\n",
      "[download]  77.2% of ~31.45MiB at 176.77KiB/s ETA 00:10[ffmpeg] Correcting container in \"Isu Rohingya Di Malaysia Dari 3 Sisi Yang Berbeza-cEIf11YM6iU.m4a\"\n",
      "[download]  79.4% of ~31.43MiB at 269.02KiB/s ETA 00:09own ETA[ffmpeg] Destination: Isu Rohingya Di Malaysia Dari 3 Sisi Yang Berbeza-cEIf11YM6iU.mp3\n",
      "[download] 100% of 40.40MiB in 00:029.43KiB/s ETA 00:08own ETA\n",
      "[download]  82.8% of ~31.35MiB at 190.94KiB/s ETA 00:07[ffmpeg] Correcting container in \"3 Selebriti Yang Membuatkan Haniff ERA Kelu _ Malam Jumaat _ Fify & Hydar-OMk_Bb67lsk.m4a\"\n",
      "[download]  87.3% of ~31.37MiB at 746.20KiB/s ETA 00:05[ffmpeg] Destination: 3 Selebriti Yang Membuatkan Haniff ERA Kelu _ Malam Jumaat _ Fify & Hydar-OMk_Bb67lsk.mp3\n",
      "[download] 100% of 31.37MiB in 00:457.09KiB/s ETA 00:001\n",
      "[ffmpeg] Destination: RAHSIA MELIHAT KE DALAM DIRI (PODCAST)-sw5h9hlityE.mp3\n",
      "Deleting original file MANA NAK CARI CINTA _ SEISMIK PODCAST-At-WKdApIhs.m4a (pass -k to keep)\n"
     ]
    },
    {
     "name": "stderr",
     "output_type": "stream",
     "text": [
      "\r",
      " 43%|████▎     | 3/7 [03:52<04:41, 70.32s/it]"
     ]
    },
    {
     "name": "stdout",
     "output_type": "stream",
     "text": [
      "[youtube] VlmIyZllgz0: Downloading webpage\n",
      "[youtube] VlmIyZllgz0: Downloading MPD manifest\n",
      "[dashsegments] Total fragments: 100\n",
      "[download] Destination: PODCAST [Bahasa Malaysia]-VlmIyZllgz0.webm\n",
      "[download]  74.9% of ~14.91MiB at 885.22KiB/s ETA 00:0568Deleting original file Eps 005 - Adilkah Pendidikan Kita Kepada Pelajar Pedalaman (Part 1)-bUXOSgBduvo.m4a (pass -k to keep)\n",
      "[download]  75.0% of ~14.91MiB at 878.83KiB/s ETA 00:05"
     ]
    },
    {
     "name": "stderr",
     "output_type": "stream",
     "text": [
      "\r",
      " 29%|██▊       | 2/7 [04:09<09:46, 117.29s/it]"
     ]
    },
    {
     "name": "stdout",
     "output_type": "stream",
     "text": [
      "[download]  77.8% of ~14.90MiB at 998.09KiB/s ETA 00:044[youtube] WoM2j5bwxVk: Downloading webpage\n",
      "[download]  81.1% of ~14.90MiB at 237.65KiB/s ETA 00:033[download] Destination: Hydar Terkedu Dengar Hawa Baca News Face to Face _ Malam Jumaat _ Fify & Hydar-WoM2j5bwxVk.m4a\n",
      "[download] 100% of 31.82MiB in 00:01.00MiB/s ETA 00:022own ETA\n",
      "[download]  93.0% of ~14.85MiB at 875.38KiB/s ETA 00:01[ffmpeg] Correcting container in \"Hydar Terkedu Dengar Hawa Baca News Face to Face _ Malam Jumaat _ Fify & Hydar-WoM2j5bwxVk.m4a\"\n",
      "[download] 100% of 14.73MiB in 00:20.86KiB/s ETA 00:000\n",
      "[ffmpeg] Destination: PODCAST [Bahasa Malaysia]-VlmIyZllgz0.mp3\n",
      "[ffmpeg] Destination: Hydar Terkedu Dengar Hawa Baca News Face to Face _ Malam Jumaat _ Fify & Hydar-WoM2j5bwxVk.mp3\n",
      "Deleting original file Isu Rohingya Di Malaysia Dari 3 Sisi Yang Berbeza-cEIf11YM6iU.m4a (pass -k to keep)\n"
     ]
    },
    {
     "name": "stderr",
     "output_type": "stream",
     "text": [
      "\r",
      " 43%|████▎     | 3/7 [04:30<07:23, 110.81s/it]"
     ]
    },
    {
     "name": "stdout",
     "output_type": "stream",
     "text": [
      "[youtube] g95Rcydh0fs: Downloading webpage\n",
      "Deleting original file 𝐏𝐔𝐀𝐊𝐀 EP06 - Kisah Seram Nur Farhana M. Noor-pB-1y9Zsrj4.m4a (pass -k to keep)\n"
     ]
    },
    {
     "name": "stderr",
     "output_type": "stream",
     "text": [
      "\r",
      " 43%|████▎     | 3/7 [04:31<05:47, 86.88s/it]"
     ]
    },
    {
     "name": "stdout",
     "output_type": "stream",
     "text": [
      "[youtube] Sau4UqPjBBk: Downloading webpage\n",
      "[download] Destination: Al-Jazeera Batu Api _ SlowTalk Podcast #13-Sau4UqPjBBk.webm\n",
      "[download]  28.1% of 7.10MiB at  8.08MiB/s ETA 00:009[download] Destination: DODOIAN ANDA   [PODCAST MALAYSIA VERSI 2]-g95Rcydh0fs.webm\n",
      "[download] 100% of 7.10MiB in 00:0101MiB/s ETA 00:00121\n",
      "[download]   3.6% of 111.00MiB at  4.64MiB/s ETA 00:23[ffmpeg] Destination: Al-Jazeera Batu Api _ SlowTalk Podcast #13-Sau4UqPjBBk.mp3\n",
      "[download]   8.6% of 111.00MiB at  3.46MiB/s ETA 00:29Deleting original file Dari Budak Prank Ke Kaca TV, Jaa Suzuran Share Kisah Mula Dari Bawah _ Malam Jumaat _ Fify & Hydar-2dlGt0FgmMo.m4a (pass -k to keep)\n"
     ]
    },
    {
     "name": "stderr",
     "output_type": "stream",
     "text": [
      "\r",
      " 43%|████▎     | 3/7 [04:36<05:21, 80.39s/it]"
     ]
    },
    {
     "name": "stdout",
     "output_type": "stream",
     "text": [
      "[download]   8.6% of 111.00MiB at 130.71KiB/s ETA 13:15nown ETA[youtube] I9eEz2OvI0E: Downloading webpage\n",
      "[download]  10.2% of 111.00MiB at  2.26MiB/s ETA 00:442[download] Destination: Rakyat Malaysia Tiada Simpanan  SlowTalk Podcast #09-I9eEz2OvI0E.webm\n",
      "[download] 100% of 6.02MiB in 00:0046MiB/s ETA 00:000\n",
      "[download]  11.7% of 111.00MiB at  2.24MiB/s ETA 00:43[ffmpeg] Destination: Rakyat Malaysia Tiada Simpanan  SlowTalk Podcast #09-I9eEz2OvI0E.mp3\n",
      "[download]  62.8% of 111.00MiB at  1.66MiB/s ETA 00:246nown ETADeleting original file Eps 004 - PERKAHWINAN CAMPUR, OK KE (PART 2)-lFr8JRu4Vj0.webm (pass -k to keep)\n"
     ]
    },
    {
     "name": "stderr",
     "output_type": "stream",
     "text": [
      "\r",
      " 57%|█████▋    | 4/7 [04:59<03:33, 71.33s/it]"
     ]
    },
    {
     "name": "stdout",
     "output_type": "stream",
     "text": [
      "[download]  64.3% of 111.00MiB at  1.86MiB/s ETA 00:21[youtube:channel] UCmBSFLogevWdrid3MM5xReg: Downloading channel page\n",
      "[youtube:playlist] UUmBSFLogevWdrid3MM5xReg: Downloading webpage\n",
      "[download]  66.3% of 111.00MiB at  2.31MiB/s ETA 00:16[download] Downloading playlist: Uploads from SlowTalk Podcast\n",
      "[youtube:playlist] playlist Uploads from SlowTalk Podcast: Downloading 23 videos\n",
      "[download] Downloading video 1 of 23\n",
      "[youtube] Urdow_ps06E: Downloading webpage\n",
      "[download]  69.3% of 111.00MiB at  2.55MiB/s ETA 00:13[download] Destination: Hajat Tidak Kesampaian Abdulmanap Nurmagomedov _ SlowTalk Podcast #23-Urdow_ps06E.webm\n",
      "[download] 100% of 6.25MiB in 00:0080MiB/s ETA 00:007\n",
      "[download]  70.2% of 111.00MiB at  4.80MiB/s ETA 00:067nown ETA[ffmpeg] Destination: Hajat Tidak Kesampaian Abdulmanap Nurmagomedov _ SlowTalk Podcast #23-Urdow_ps06E.mp3\n",
      "[download]  87.6% of 111.00MiB at  4.51MiB/s ETA 00:036nown ETADeleting original file Rakyat Malaysia Tiada Simpanan  SlowTalk Podcast #09-I9eEz2OvI0E.webm (pass -k to keep)\n"
     ]
    },
    {
     "name": "stderr",
     "output_type": "stream",
     "text": [
      "\r",
      " 57%|█████▋    | 4/7 [05:09<03:18, 66.24s/it]"
     ]
    },
    {
     "name": "stdout",
     "output_type": "stream",
     "text": [
      "[download]  90.0% of 111.00MiB at  4.30MiB/s ETA 00:02[youtube] F1d0Huv54Ro: Downloading webpage\n",
      "[download]  93.0% of 111.00MiB at  3.20MiB/s ETA 00:02[download] Destination: Thelaki Podcast _ Top 3 Sarapan Pagi-F1d0Huv54Ro.webm\n",
      "[download]  97.4% of 111.00MiB at  2.42MiB/s ETA 00:015own ETAADeleting original file Al-Jazeera Batu Api _ SlowTalk Podcast #13-Sau4UqPjBBk.webm (pass -k to keep)\n"
     ]
    },
    {
     "name": "stderr",
     "output_type": "stream",
     "text": [
      "\r",
      " 57%|█████▋    | 4/7 [05:13<03:40, 73.43s/it]"
     ]
    },
    {
     "name": "stdout",
     "output_type": "stream",
     "text": [
      "[download]  85.5% of 39.13MiB at 14.34MiB/s ETA 00:0009own ETA[youtube] ysC2rYKKt20: Downloading webpage\n",
      "[download] 100% of 111.00MiB in 00:4157MiB/s ETA 00:00\n",
      "[download]  95.7% of 39.13MiB at 14.35MiB/s ETA 00:00[ffmpeg] Destination: DODOIAN ANDA   [PODCAST MALAYSIA VERSI 2]-g95Rcydh0fs.mp3\n",
      "[download] 100% of 39.13MiB in 00:03.82KiB/s ETA 00:00nown ETA\n",
      "[ffmpeg] Destination: Thelaki Podcast _ Top 3 Sarapan Pagi-F1d0Huv54Ro.mp3\n",
      "[download] Destination: 𝐏𝐔𝐀𝐊𝐀 EP08 - Kisah Seram Junaidi Sali-ysC2rYKKt20.m4a\n",
      "[download] 100% of 23.72MiB in 00:0132MiB/s ETA 00:004nown ETA\n",
      "[ffmpeg] Correcting container in \"𝐏𝐔𝐀𝐊𝐀 EP08 - Kisah Seram Junaidi Sali-ysC2rYKKt20.m4a\"\n",
      "[ffmpeg] Destination: 𝐏𝐔𝐀𝐊𝐀 EP08 - Kisah Seram Junaidi Sali-ysC2rYKKt20.mp3\n",
      "Deleting original file PODCAST [Bahasa Malaysia]-VlmIyZllgz0.webm (pass -k to keep)\n"
     ]
    },
    {
     "name": "stderr",
     "output_type": "stream",
     "text": [
      "\r",
      " 57%|█████▋    | 4/7 [05:37<04:01, 80.62s/it]"
     ]
    },
    {
     "name": "stdout",
     "output_type": "stream",
     "text": [
      "[youtube] kTrI0LaiY8U: Downloading webpage\n",
      "[download] Destination: Lepak Santai _ SlowTalk Podcast #05-kTrI0LaiY8U.webm\n",
      "[download]  94.1% of 4.25MiB at  5.29MiB/s ETA 00:005Deleting original file Hajat Tidak Kesampaian Abdulmanap Nurmagomedov _ SlowTalk Podcast #23-Urdow_ps06E.webm (pass -k to keep)\n",
      "[download] Downloading video 2 of 23\n",
      "[youtube] 4Ga8I27AFZg: Downloading webpage\n",
      "[download] 100% of 4.25MiB in 00:0186MiB/s ETA 00:00\n",
      "[ffmpeg] Destination: Lepak Santai _ SlowTalk Podcast #05-kTrI0LaiY8U.mp3\n",
      "[download] Destination: MIKE TYSON KEMBALI _ SlowTalk Podcast #22-4Ga8I27AFZg.webm\n",
      "[download] 100% of 4.52MiB in 00:0171MiB/s ETA 00:006\n",
      "[ffmpeg] Destination: MIKE TYSON KEMBALI _ SlowTalk Podcast #22-4Ga8I27AFZg.mp3\n",
      "Deleting original file PodcaSTERK! - Filem Sampah _ Sterk Production-bMX6Nq8hveM.webm (pass -k to keep)\n"
     ]
    },
    {
     "name": "stderr",
     "output_type": "stream",
     "text": [
      "\r",
      " 43%|████▎     | 3/7 [05:57<08:17, 124.44s/it]"
     ]
    },
    {
     "name": "stdout",
     "output_type": "stream",
     "text": [
      "[youtube] O_Mr_TG9aQs: Downloading webpage\n",
      "[download] Destination: PodcaSTERK! - Gadai Maruah Kerana 20K _ Sterk Production-O_Mr_TG9aQs.webm\n",
      "[download]  75.0% of 26.11MiB at 939.64KiB/s ETA 00:07nown ETADeleting original file Q & A (Jadi backpacker ni tak ada masa depan) _ Podcast Malaysia-uCg5WeQ34rM.webm (pass -k to keep)\n",
      "[download]  75.5% of 26.11MiB at  1.61MiB/s ETA 00:03"
     ]
    },
    {
     "name": "stderr",
     "output_type": "stream",
     "text": [
      "\r",
      " 29%|██▊       | 2/7 [06:01<16:09, 193.91s/it]"
     ]
    },
    {
     "name": "stdout",
     "output_type": "stream",
     "text": [
      "[download] 100% of 26.11MiB in 00:0303MiB/s ETA 00:00\n",
      "[youtube] fQyh4O6Hp_E: Downloading webpage\n",
      "[ffmpeg] Destination: PodcaSTERK! - Gadai Maruah Kerana 20K _ Sterk Production-O_Mr_TG9aQs.mp3\n",
      "[download] Destination: Gaduh Dengan Perempuan _ SlowTalk Podcast #17-fQyh4O6Hp_E.webm\n",
      "[download] 100% of 4.42MiB in 00:0094MiB/s ETA 00:004\n",
      "[ffmpeg] Destination: Gaduh Dengan Perempuan _ SlowTalk Podcast #17-fQyh4O6Hp_E.mp3\n",
      "Deleting original file Lepak Santai _ SlowTalk Podcast #05-kTrI0LaiY8U.webm (pass -k to keep)\n"
     ]
    },
    {
     "name": "stderr",
     "output_type": "stream",
     "text": [
      "\r",
      " 71%|███████▏  | 5/7 [06:04<02:09, 64.58s/it]"
     ]
    },
    {
     "name": "stdout",
     "output_type": "stream",
     "text": [
      "[youtube] aZcwqUZI2rA: Downloading webpage\n",
      "[download] Destination: Podcast Bekpek - Bercinta Dengan Awek Ukriane Dan Pernah Hampir Terbunuh Semasa Travel-aZcwqUZI2rA.m4a\n",
      "[download]  19.5% of 41.01MiB at  8.16MiB/s ETA 00:049Deleting original file MIKE TYSON KEMBALI _ SlowTalk Podcast #22-4Ga8I27AFZg.webm (pass -k to keep)\n",
      "[download] Downloading video 3 of 23\n",
      "[youtube] S8zARg4V6VM: Downloading webpage\n",
      "[download]  23.9% of 41.01MiB at  1.56MiB/s ETA 00:195nown ETA[download] Destination: Martial Arts Menipu _ SlowTalk Podcast #21-S8zARg4V6VM.webm\n",
      "[download] 100% of 5.38MiB in 00:0046MiB/s ETA 00:0093\n",
      "[ffmpeg] Destination: Martial Arts Menipu _ SlowTalk Podcast #21-S8zARg4V6VM.mp3\n",
      "[download] 100% of 41.01MiB in 00:0783MiB/s ETA 00:001nown ETA\n",
      "[ffmpeg] Correcting container in \"Podcast Bekpek - Bercinta Dengan Awek Ukriane Dan Pernah Hampir Terbunuh Semasa Travel-aZcwqUZI2rA.m4a\"\n",
      "Deleting original file Hydar Terkedu Dengar Hawa Baca News Face to Face _ Malam Jumaat _ Fify & Hydar-WoM2j5bwxVk.m4a (pass -k to keep)\n"
     ]
    },
    {
     "name": "stderr",
     "output_type": "stream",
     "text": [
      "\r",
      " 43%|████▎     | 3/7 [06:16<08:00, 120.11s/it]"
     ]
    },
    {
     "name": "stdout",
     "output_type": "stream",
     "text": [
      "[ffmpeg] Destination: Podcast Bekpek - Bercinta Dengan Awek Ukriane Dan Pernah Hampir Terbunuh Semasa Travel-aZcwqUZI2rA.mp3\n",
      "[youtube] YutaPWokeiE: Downloading webpage\n",
      "[youtube] YutaPWokeiE: Downloading MPD manifest\n",
      "[dashsegments] Total fragments: 149\n",
      "[download] Destination: INGIN TAHU - BAGAIMANA 30 TAHUN SETIA BERSAMA FELDA-YutaPWokeiE.m4a\n",
      "[download]   1.8% of ~17.26MiB at 878.27KiB/s ETA 01:5856:52Deleting original file 3 Selebriti Yang Membuatkan Haniff ERA Kelu _ Malam Jumaat _ Fify & Hydar-OMk_Bb67lsk.m4a (pass -k to keep)\n",
      "[download]   1.8% of ~17.26MiB at 232.77KiB/s ETA 01:58"
     ]
    },
    {
     "name": "stderr",
     "output_type": "stream",
     "text": [
      "\r",
      " 43%|████▎     | 3/7 [06:20<08:40, 130.06s/it]"
     ]
    },
    {
     "name": "stdout",
     "output_type": "stream",
     "text": [
      "[download]   2.7% of ~17.26MiB at  1.03MiB/s ETA 01:233[youtube] l-NmUn-FLLI: Downloading webpage\n",
      "[download]   3.2% of ~19.15MiB at 162.60KiB/s ETA 01:398Deleting original file Sofyank aka Zach King Malaysia _ Malam Jumaat _ Fify & Hydar-4ZiC_Tg6hmU.webm (pass -k to keep)\n",
      "[download]   3.3% of ~19.15MiB at 211.40KiB/s ETA 01:38"
     ]
    },
    {
     "name": "stderr",
     "output_type": "stream",
     "text": [
      "\r",
      " 43%|████▎     | 3/7 [06:21<07:28, 112.04s/it]"
     ]
    },
    {
     "name": "stdout",
     "output_type": "stream",
     "text": [
      "[download]   4.0% of ~19.15MiB at  1.14MiB/s ETA 01:212[download] Destination: Tesla Tak Bagos  SlowTalk Podcast #03-l-NmUn-FLLI.webm\n",
      "[download]   0.1% of 17.22MiB at 167.50KiB/s ETA 01:45[youtube] 2to1DeBZyiE: Downloading webpage\n",
      "[download]  23.2% of 17.22MiB at  8.48MiB/s ETA 00:0119[download] Destination: SEMBANG BARAI EP 9  - Physical punishment!-2to1DeBZyiE.webm\n",
      "[download] 100% of 10.38MiB in 00:00.13MiB/s ETA 01:206own ETA\n",
      "[download]  57.8% of 17.22MiB at  1.54MiB/s ETA 00:048nown ETA[ffmpeg] Destination: SEMBANG BARAI EP 9  - Physical punishment!-2to1DeBZyiE.mp3\n",
      "[download] 100% of 17.22MiB in 00:0309MiB/s ETA 00:00831\n",
      "[download]   7.3% of ~21.06MiB at 142.79KiB/s ETA 01:24[ffmpeg] Destination: Tesla Tak Bagos  SlowTalk Podcast #03-l-NmUn-FLLI.mp3\n",
      "[download]   9.6% of ~21.44MiB at 556.92KiB/s ETA 01:223Deleting original file Gaduh Dengan Perempuan _ SlowTalk Podcast #17-fQyh4O6Hp_E.webm (pass -k to keep)\n"
     ]
    },
    {
     "name": "stderr",
     "output_type": "stream",
     "text": [
      "\r",
      " 43%|████▎     | 3/7 [06:26<09:32, 143.25s/it]"
     ]
    },
    {
     "name": "stdout",
     "output_type": "stream",
     "text": [
      "[download]  10.1% of ~21.44MiB at 1016.60KiB/s ETA 01:18[youtube] JIOEzlTO6Kg: Downloading webpage\n",
      "[download]  11.4% of ~21.62MiB at  1.33MiB/s ETA 01:1603[download] Destination: Android VS iOS (Instagram) SlowTalk Podcast #06-JIOEzlTO6Kg.webm\n",
      "[download] 100% of 9.76MiB in 00:01.89KiB/s ETA 00:00617n ETA\n",
      "[ffmpeg] Destination: Android VS iOS (Instagram) SlowTalk Podcast #06-JIOEzlTO6Kg.mp3\n",
      "[download]  26.8% of ~22.39MiB at 402.94KiB/s ETA 01:047Deleting original file Martial Arts Menipu _ SlowTalk Podcast #21-S8zARg4V6VM.webm (pass -k to keep)\n",
      "[download] Downloading video 4 of 23\n",
      "[youtube] DCNRWKiahbE: Downloading webpage\n",
      "[download]  27.5% of ~22.40MiB at  1.07MiB/s ETA 01:045[download] Destination: Mural Agong Kena Conteng _ SlowTalk Podcast #20-DCNRWKiahbE.webm\n",
      "[download] 100% of 5.41MiB in 00:0061MiB/s ETA 00:00034\n",
      "[download]  28.3% of ~22.43MiB at 331.70KiB/s ETA 01:04[ffmpeg] Destination: Mural Agong Kena Conteng _ SlowTalk Podcast #20-DCNRWKiahbE.mp3\n",
      "[download]  38.9% of ~22.57MiB at 940.39KiB/s ETA 00:546Deleting original file 𝐏𝐔𝐀𝐊𝐀 EP08 - Kisah Seram Junaidi Sali-ysC2rYKKt20.m4a (pass -k to keep)\n"
     ]
    },
    {
     "name": "stderr",
     "output_type": "stream",
     "text": [
      "\r",
      " 71%|███████▏  | 5/7 [06:52<02:42, 81.08s/it]"
     ]
    },
    {
     "name": "stdout",
     "output_type": "stream",
     "text": [
      "[download]  38.9% of ~22.57MiB at 200.07KiB/s ETA 00:54[youtube] WSHL2nyN-wA: Downloading webpage\n",
      "[download]  39.7% of ~22.58MiB at 389.04KiB/s ETA 00:54[download] Destination: Malam Jumaat Bersama Johan & Ozlynn (Jozlynnhanania)-WSHL2nyN-wA.m4a\n",
      "[download]  56.4% of 90.83MiB at  9.08MiB/s ETA 00:0401own ETADeleting original file RAHSIA MELIHAT KE DALAM DIRI (PODCAST)-sw5h9hlityE.webm (pass -k to keep)\n"
     ]
    },
    {
     "name": "stderr",
     "output_type": "stream",
     "text": [
      "\r",
      " 29%|██▊       | 2/7 [06:56<16:31, 198.38s/it]"
     ]
    },
    {
     "name": "stdout",
     "output_type": "stream",
     "text": [
      "[download]  75.4% of 90.83MiB at 157.34KiB/s ETA 02:25nown ETA[youtube] 7uHpElfSpes: Downloading webpage\n",
      "[download]  86.2% of 90.83MiB at Unknown speed ETA Unknown ETA[download] Destination: PodcaSTERK! - Hadiah Berharga Untuk Keluarga _ Sterk Production-7uHpElfSpes.webm\n",
      "[download] 100% of 90.83MiB in 00:0479MiB/s ETA 00:006nown ETA\n",
      "[download] 100.0% of 28.25MiB at 26.71MiB/s ETA 00:003nown ETA[ffmpeg] Correcting container in \"Malam Jumaat Bersama Johan & Ozlynn (Jozlynnhanania)-WSHL2nyN-wA.m4a\"\n",
      "[download] 100% of 28.25MiB in 00:01.37MiB/s ETA 00:48\n",
      "[download]  46.3% of ~22.63MiB at 990.45KiB/s ETA 00:47[ffmpeg] Destination: PodcaSTERK! - Hadiah Berharga Untuk Keluarga _ Sterk Production-7uHpElfSpes.mp3\n",
      "[download]  50.3% of ~22.66MiB at 1001.21KiB/s ETA 00:43[ffmpeg] Destination: Malam Jumaat Bersama Johan & Ozlynn (Jozlynnhanania)-WSHL2nyN-wA.mp3\n",
      "[download]  61.1% of ~22.71MiB at  1.10MiB/s ETA 00:3442Deleting original file Mural Agong Kena Conteng _ SlowTalk Podcast #20-DCNRWKiahbE.webm (pass -k to keep)\n",
      "[download] Downloading video 5 of 23\n",
      "[youtube] LWDEe2fHJpk: Downloading webpage\n",
      "[download]  61.7% of ~22.71MiB at 373.17KiB/s ETA 00:33[download] Destination: Bakar Kucing _ SlowTalk Podcast #19-LWDEe2fHJpk.webm\n",
      "[download] 100% of 3.93MiB in 00:0037MiB/s ETA 00:00:33\n",
      "[download]  63.0% of ~22.72MiB at 837.03KiB/s ETA 00:32[ffmpeg] Destination: Bakar Kucing _ SlowTalk Podcast #19-LWDEe2fHJpk.mp3\n",
      "[download]  71.9% of ~22.75MiB at 311.55KiB/s ETA 00:259Deleting original file Android VS iOS (Instagram) SlowTalk Podcast #06-JIOEzlTO6Kg.webm (pass -k to keep)\n",
      "[download]  72.4% of ~22.75MiB at 908.52KiB/s ETA 00:24"
     ]
    },
    {
     "name": "stderr",
     "output_type": "stream",
     "text": [
      "\r",
      " 57%|█████▋    | 4/7 [07:22<05:50, 116.90s/it]"
     ]
    },
    {
     "name": "stdout",
     "output_type": "stream",
     "text": [
      "[download]  72.5% of ~22.75MiB at 989.65KiB/s ETA 00:24[youtube] bXVvXLHpmS8: Downloading webpage\n",
      "[download]  73.8% of ~22.75MiB at  1.02MiB/s ETA 00:233[download] Destination: DIA HISAP APA KAT TANDAS SEKOLAH!-bXVvXLHpmS8.webm\n",
      "[download]  42.6% of 27.41MiB at  9.20MiB/s ETA 00:016nown ETADeleting original file Shaza Bae kerap ke Indonesia untuk berjumpa seseorang _ Malam Jumaat Bersama Fify & Hydar-wEZaPeMCLL4.m4a (pass -k to keep)\n",
      "[download]  49.9% of 27.41MiB at 12.42MiB/s ETA 00:012"
     ]
    },
    {
     "name": "stderr",
     "output_type": "stream",
     "text": [
      "\r",
      " 43%|████▎     | 3/7 [07:24<08:31, 127.80s/it]"
     ]
    },
    {
     "name": "stdout",
     "output_type": "stream",
     "text": [
      "[download]  71.6% of 27.41MiB at  1.62MiB/s ETA 00:0407own ETA[youtube] wQXgHxeeZ2c: Downloading webpage\n",
      "[download]  75.3% of ~22.76MiB at 426.87KiB/s ETA 00:21Deleting original file SEMBANG BARAI EP 9  - Physical punishment!-2to1DeBZyiE.webm (pass -k to keep)\n",
      "[download]  75.4% of ~22.76MiB at 649.84KiB/s ETA 00:21"
     ]
    },
    {
     "name": "stderr",
     "output_type": "stream",
     "text": [
      "\r",
      " 57%|█████▋    | 4/7 [07:25<04:52, 97.55s/it] "
     ]
    },
    {
     "name": "stdout",
     "output_type": "stream",
     "text": [
      "[download] 100% of 27.41MiB in 00:01.12MiB/s ETA 00:21\n",
      "[ffmpeg] Destination: DIA HISAP APA KAT TANDAS SEKOLAH!-bXVvXLHpmS8.mp3\n",
      "[youtube] wQXgHxeeZ2c: Downloading MPD manifest\n",
      "[download]  75.9% of ~22.76MiB at 237.09KiB/s ETA 00:21[youtube] -PfFTGk6-WM: Downloading webpage\n",
      "[download]  76.5% of ~22.76MiB at  1.17MiB/s ETA 00:201[dashsegments] Total fragments: 178\n",
      "[download] Destination: Eps 004 - PERKAHWINAN CAMPUR, OK KE (PART 1)-wQXgHxeeZ2c.webm\n",
      "[download]  77.2% of ~22.76MiB at  1.38MiB/s ETA 00:200[download] Destination: THELAKI PODCAST _ TOP 3 Kenangan Zaman Universiti--PfFTGk6-WM.webm\n",
      "[download] 100% of 35.48MiB in 00:022.38KiB/s ETA 00:181wn ETA\n",
      "[download]   9.0% of ~23.59MiB at 1015.15KiB/s ETA 00:30[ffmpeg] Destination: THELAKI PODCAST _ TOP 3 Kenangan Zaman Universiti--PfFTGk6-WM.mp3\n",
      "[download]  28.1% of ~23.32MiB at 151.38KiB/s ETA 00:244Deleting original file Bakar Kucing _ SlowTalk Podcast #19-LWDEe2fHJpk.webm (pass -k to keep)\n",
      "[download]  28.1% of ~23.32MiB at 213.17KiB/s ETA 00:24[download] Downloading video 6 of 23\n",
      "[download]  28.2% of ~23.32MiB at 289.58KiB/s ETA 00:24[youtube] 8vLI4G3qC7w: Downloading webpage\n",
      "[download]  31.5% of ~23.27MiB at 881.64KiB/s ETA 00:233[download] Destination: Abang Rogol Adik Sendiri _ SlowTalk Podcast #18-8vLI4G3qC7w.webm\n",
      "[download] 100% of 5.32MiB in 00:011.29MiB/s ETA 00:2223\n",
      "[download]  34.3% of ~23.25MiB at 225.30KiB/s ETA 00:22[ffmpeg] Destination: Abang Rogol Adik Sendiri _ SlowTalk Podcast #18-8vLI4G3qC7w.mp3\n",
      "[download] 100% of 22.71MiB in 01:289.77KiB/s ETA 00:134\n",
      "[download]  61.4% of ~22.93MiB at 440.14KiB/s ETA 00:12[ffmpeg] Correcting container in \"INGIN TAHU - BAGAIMANA 30 TAHUN SETIA BERSAMA FELDA-YutaPWokeiE.m4a\"\n",
      "[download]  65.7% of ~22.91MiB at 172.40KiB/s ETA 00:11[ffmpeg] Destination: INGIN TAHU - BAGAIMANA 30 TAHUN SETIA BERSAMA FELDA-YutaPWokeiE.mp3\n",
      "[download]  91.5% of ~22.92MiB at 872.18KiB/s ETA 00:024Deleting original file Tesla Tak Bagos  SlowTalk Podcast #03-l-NmUn-FLLI.webm (pass -k to keep)\n",
      "[download]  91.6% of ~22.92MiB at 763.55KiB/s ETA 00:02"
     ]
    },
    {
     "name": "stderr",
     "output_type": "stream",
     "text": [
      "\r",
      " 57%|█████▋    | 4/7 [07:57<06:00, 120.13s/it]"
     ]
    },
    {
     "name": "stdout",
     "output_type": "stream",
     "text": [
      "[download]  92.8% of ~22.93MiB at 316.77KiB/s ETA 00:02[youtube] Q1oB0OtOGkE: Downloading webpage\n",
      "[download]  96.1% of ~22.94MiB at 786.81KiB/s ETA 00:01[download] Destination: THELAKI PODCAST _ TOP 3 Angan-Angan & Fantasi-Q1oB0OtOGkE.webm\n",
      "[download] 100% of 22.85MiB in 00:330.09KiB/s ETA 00:00own ETA\n",
      "[download]  54.4% of 32.38MiB at 13.71MiB/s ETA 00:01[ffmpeg] Destination: Eps 004 - PERKAHWINAN CAMPUR, OK KE (PART 1)-wQXgHxeeZ2c.mp3\n",
      "[download] 100% of 32.38MiB in 00:0239MiB/s ETA 00:005nown ETA\n",
      "[ffmpeg] Destination: THELAKI PODCAST _ TOP 3 Angan-Angan & Fantasi-Q1oB0OtOGkE.mp3\n",
      "Deleting original file Abang Rogol Adik Sendiri _ SlowTalk Podcast #18-8vLI4G3qC7w.webm (pass -k to keep)\n",
      "[download] Downloading video 7 of 23\n",
      "[youtube] fQyh4O6Hp_E: Downloading webpage\n",
      "[download] Destination: Gaduh Dengan Perempuan _ SlowTalk Podcast #17-fQyh4O6Hp_E.webm\n",
      "[download] 100% of 4.42MiB in 00:0088MiB/s ETA 00:006\n",
      "[ffmpeg] Destination: Gaduh Dengan Perempuan _ SlowTalk Podcast #17-fQyh4O6Hp_E.mp3\n",
      "Deleting original file PodcaSTERK! - Gadai Maruah Kerana 20K _ Sterk Production-O_Mr_TG9aQs.webm (pass -k to keep)\n"
     ]
    },
    {
     "name": "stderr",
     "output_type": "stream",
     "text": [
      "\r",
      " 57%|█████▋    | 4/7 [08:25<06:34, 131.45s/it]"
     ]
    },
    {
     "name": "stdout",
     "output_type": "stream",
     "text": [
      "[youtube] GpGFouytwFA: Downloading webpage\n",
      "[download] Destination: SEMBANG BARAI EP 8  - Freedom of speech!-GpGFouytwFA.webm\n",
      "[download] 100% of 9.78MiB in 00:01.52KiB/s ETA 00:00nown ETA\n",
      "[ffmpeg] Destination: SEMBANG BARAI EP 8  - Freedom of speech!-GpGFouytwFA.mp3\n",
      "Deleting original file Gaduh Dengan Perempuan _ SlowTalk Podcast #17-fQyh4O6Hp_E.webm (pass -k to keep)\n",
      "[download] Downloading video 8 of 23\n",
      "[youtube] rpbjezVZ2GI: Downloading webpage\n",
      "[download] Destination: Setakat Ini Jodoh Kami _ SlowTalk Podcast #16-rpbjezVZ2GI.webm\n",
      "[download] 100% of 3.75MiB in 00:0084MiB/s ETA 00:003\n",
      "[ffmpeg] Destination: Setakat Ini Jodoh Kami _ SlowTalk Podcast #16-rpbjezVZ2GI.mp3\n",
      "Deleting original file Podcast Bekpek - Bercinta Dengan Awek Ukriane Dan Pernah Hampir Terbunuh Semasa Travel-aZcwqUZI2rA.m4a (pass -k to keep)\n"
     ]
    },
    {
     "name": "stderr",
     "output_type": "stream",
     "text": [
      "\r",
      " 86%|████████▌ | 6/7 [08:49<01:34, 94.60s/it]"
     ]
    },
    {
     "name": "stdout",
     "output_type": "stream",
     "text": [
      "[youtube] Vz3rCaQVarM: Downloading webpage\n",
      "[youtube] Vz3rCaQVarM: Downloading MPD manifest\n",
      "[dashsegments] Total fragments: 199\n",
      "[download] Destination: INGIN TAHU  - PSIKOLOGI KLINIKAL & KESIHATAN MENTAL (PART 2)-Vz3rCaQVarM.webm\n",
      "[download]  51.4% of ~26.71MiB at 471.89KiB/s ETA 00:2019Deleting original file Setakat Ini Jodoh Kami _ SlowTalk Podcast #16-rpbjezVZ2GI.webm (pass -k to keep)\n",
      "[download] Downloading video 9 of 23\n",
      "[download]  51.5% of ~26.71MiB at 735.79KiB/s ETA 00:20[youtube] fW1sUT-3VMM: Downloading webpage\n",
      "[download]  52.9% of ~26.72MiB at 367.95KiB/s ETA 00:20[download] Destination: Bunuh Kucing Lagi  SlowTalk Podacast #15-fW1sUT-3VMM.webm\n",
      "[download] 100% of 4.05MiB in 00:0048.81KiB/s ETA 00:19\n",
      "[download]  54.2% of ~26.76MiB at 152.37KiB/s ETA 00:199[ffmpeg] Destination: Bunuh Kucing Lagi  SlowTalk Podacast #15-fW1sUT-3VMM.mp3\n",
      "[download]  59.3% of ~26.87MiB at 784.17KiB/s ETA 00:178Deleting original file INGIN TAHU - BAGAIMANA 30 TAHUN SETIA BERSAMA FELDA-YutaPWokeiE.m4a (pass -k to keep)\n",
      "[download]  59.3% of ~26.87MiB at 784.17KiB/s ETA 00:17"
     ]
    },
    {
     "name": "stderr",
     "output_type": "stream",
     "text": [
      "\r",
      " 57%|█████▋    | 4/7 [09:16<06:54, 138.13s/it]"
     ]
    },
    {
     "name": "stdout",
     "output_type": "stream",
     "text": [
      "[download]  60.6% of ~26.88MiB at 789.71KiB/s ETA 00:166[youtube] -Lc21hhbAfE: Downloading webpage\n",
      "[download]  63.8% of ~26.97MiB at  1.12MiB/s ETA 00:155[download] Destination: Perlu Ke Mintak Izin  SlowTalk Podcast #01--Lc21hhbAfE.m4a\n",
      "[download] 100% of 7.72MiB in 00:0259.94KiB/s ETA 00:123\n",
      "[download]  70.9% of ~26.91MiB at 197.32KiB/s ETA 00:12[ffmpeg] Correcting container in \"Perlu Ke Mintak Izin  SlowTalk Podcast #01--Lc21hhbAfE.m4a\"\n",
      "[download]  72.3% of ~26.91MiB at 884.39KiB/s ETA 00:111Deleting original file Thelaki Podcast _ Top 3 Sarapan Pagi-F1d0Huv54Ro.webm (pass -k to keep)\n",
      "[download]  72.4% of ~26.91MiB at 856.63KiB/s ETA 00:11"
     ]
    },
    {
     "name": "stderr",
     "output_type": "stream",
     "text": [
      "\r",
      " 71%|███████▏  | 5/7 [09:21<04:03, 121.99s/it]"
     ]
    },
    {
     "name": "stdout",
     "output_type": "stream",
     "text": [
      "[download]  73.1% of ~26.90MiB at 607.57KiB/s ETA 00:11[ffmpeg] Destination: Perlu Ke Mintak Izin  SlowTalk Podcast #01--Lc21hhbAfE.mp3\n",
      "[download]  73.6% of ~26.90MiB at 610.01KiB/s ETA 00:111[youtube] BWU8IJBEjTk: Downloading webpage\n",
      "[download]  75.4% of ~26.88MiB at 817.43KiB/s ETA 00:100[download] Destination: ZHAF BERSEMUKA DGN TOK AYAH NAMRON!-BWU8IJBEjTk.m4a\n",
      "[download] 100% of 24.01MiB in 00:019.41KiB/s ETA 00:08own ETA\n",
      "[download]  81.1% of ~26.88MiB at 660.13KiB/s ETA 00:07[ffmpeg] Correcting container in \"ZHAF BERSEMUKA DGN TOK AYAH NAMRON!-BWU8IJBEjTk.m4a\"\n",
      "[download]  84.4% of ~26.95MiB at 985.73KiB/s ETA 00:06[ffmpeg] Destination: ZHAF BERSEMUKA DGN TOK AYAH NAMRON!-BWU8IJBEjTk.mp3\n",
      "[download]  96.5% of ~26.98MiB at 186.02KiB/s ETA 00:015Deleting original file SEMBANG BARAI EP 8  - Freedom of speech!-GpGFouytwFA.webm (pass -k to keep)\n",
      "[download]  96.5% of ~26.98MiB at 522.33KiB/s ETA 00:01"
     ]
    },
    {
     "name": "stderr",
     "output_type": "stream",
     "text": [
      "\r",
      " 71%|███████▏  | 5/7 [09:31<03:43, 111.90s/it]"
     ]
    },
    {
     "name": "stdout",
     "output_type": "stream",
     "text": [
      "[download]  98.0% of ~27.03MiB at 962.93KiB/s ETA 00:00[youtube] C0CVcdzfkuQ: Downloading webpage\n",
      "[download] 100% of 27.04MiB in 00:418.17KiB/s ETA 00:00\n",
      "[ffmpeg] Destination: INGIN TAHU  - PSIKOLOGI KLINIKAL & KESIHATAN MENTAL (PART 2)-Vz3rCaQVarM.mp3\n",
      "[download] Destination: Malam Jumaat - The Best of Season 1-C0CVcdzfkuQ.webm\n",
      "[download] 100% of 32.27MiB in 00:0272MiB/s ETA 00:003nown ETA\n",
      "[ffmpeg] Destination: Malam Jumaat - The Best of Season 1-C0CVcdzfkuQ.mp3\n",
      "Deleting original file Bunuh Kucing Lagi  SlowTalk Podacast #15-fW1sUT-3VMM.webm (pass -k to keep)\n",
      "[download] Downloading video 10 of 23\n",
      "[youtube] neCmuMPg_IE: Downloading webpage\n",
      "[download] Destination: Drive-In Cinema Pertama Di Malaysia  SlowTalk Podcast #14-neCmuMPg_IE.webm\n",
      "[download] 100% of 6.14MiB in 00:0074MiB/s ETA 00:008\n",
      "[ffmpeg] Destination: Drive-In Cinema Pertama Di Malaysia  SlowTalk Podcast #14-neCmuMPg_IE.mp3\n",
      "Deleting original file PodcaSTERK! - Hadiah Berharga Untuk Keluarga _ Sterk Production-7uHpElfSpes.webm (pass -k to keep)\n"
     ]
    },
    {
     "name": "stderr",
     "output_type": "stream",
     "text": [
      "\r",
      " 43%|████▎     | 3/7 [09:41<12:34, 188.60s/it]"
     ]
    },
    {
     "name": "stdout",
     "output_type": "stream",
     "text": [
      "[youtube] 2DqS7RigSLU: Downloading webpage\n",
      "[download] Destination: Thelaki Podcast _ Top 3 Band Lokal Kegemaran-2DqS7RigSLU.webm\n",
      "[download] 100% of 49.34MiB in 00:0411MiB/s ETA 00:000nown ETA\n",
      "[ffmpeg] Destination: Thelaki Podcast _ Top 3 Band Lokal Kegemaran-2DqS7RigSLU.mp3\n",
      "Deleting original file Perlu Ke Mintak Izin  SlowTalk Podcast #01--Lc21hhbAfE.m4a (pass -k to keep)\n"
     ]
    },
    {
     "name": "stderr",
     "output_type": "stream",
     "text": [
      "\r",
      " 71%|███████▏  | 5/7 [09:51<03:34, 107.31s/it]"
     ]
    },
    {
     "name": "stdout",
     "output_type": "stream",
     "text": [
      "[youtube] u9kyC-ObWWM: Downloading webpage\n",
      "[download] Destination: Laki Sado Bukan Pilihan Hati Neeta Dari iamNEETA _ Malam Jumaat _ Fify & Hydar-u9kyC-ObWWM.webm\n",
      "[download] 100% of 29.92MiB in 00:0270MiB/s ETA 00:000nown ETA\n",
      "[ffmpeg] Destination: Laki Sado Bukan Pilihan Hati Neeta Dari iamNEETA _ Malam Jumaat _ Fify & Hydar-u9kyC-ObWWM.mp3\n",
      "Deleting original file DIA HISAP APA KAT TANDAS SEKOLAH!-bXVvXLHpmS8.webm (pass -k to keep)\n"
     ]
    },
    {
     "name": "stderr",
     "output_type": "stream",
     "text": [
      "\r",
      " 71%|███████▏  | 5/7 [10:03<04:20, 130.25s/it]"
     ]
    },
    {
     "name": "stdout",
     "output_type": "stream",
     "text": [
      "[youtube] lcMZYdMnq-E: Downloading webpage\n",
      "[download] Destination: Tak pernah kenal, tetapi boleh berbasikal bersama dari LONDON sampai MALAYSIA! _ PODCAST-lcMZYdMnq-E.webm\n",
      "[download] 100% of 24.70MiB in 00:0164MiB/s ETA 00:005nown ETA\n",
      "[ffmpeg] Destination: Tak pernah kenal, tetapi boleh berbasikal bersama dari LONDON sampai MALAYSIA! _ PODCAST-lcMZYdMnq-E.mp3\n",
      "Deleting original file Drive-In Cinema Pertama Di Malaysia  SlowTalk Podcast #14-neCmuMPg_IE.webm (pass -k to keep)\n",
      "[download] Downloading video 11 of 23\n",
      "[youtube] Sau4UqPjBBk: Downloading webpage\n",
      "[download] Destination: Al-Jazeera Batu Api _ SlowTalk Podcast #13-Sau4UqPjBBk.webm\n",
      "[download]   0.4% of 7.10MiB at 302.50KiB/s ETA 00:23Deleting original file Eps 004 - PERKAHWINAN CAMPUR, OK KE (PART 1)-wQXgHxeeZ2c.webm (pass -k to keep)\n",
      "[download]   0.9% of 7.10MiB at 494.92KiB/s ETA 00:14"
     ]
    },
    {
     "name": "stderr",
     "output_type": "stream",
     "text": [
      "\r",
      " 57%|█████▋    | 4/7 [10:17<07:03, 141.32s/it]"
     ]
    },
    {
     "name": "stdout",
     "output_type": "stream",
     "text": [
      "[download] 100% of 7.10MiB in 00:0053MiB/s ETA 00:008\n",
      "[youtube] eK3YtkMiqbM: Downloading webpage\n",
      "[ffmpeg] Destination: Al-Jazeera Batu Api _ SlowTalk Podcast #13-Sau4UqPjBBk.mp3\n",
      "[download] Destination: 𝐏𝐔𝐀𝐊𝐀 EP05 - Kisah Seram Fadhlur Rahman-eK3YtkMiqbM.m4a\n",
      "[download] 100% of 28.10MiB in 00:0367MiB/s ETA 00:0008own ETA\n",
      "[ffmpeg] Correcting container in \"𝐏𝐔𝐀𝐊𝐀 EP05 - Kisah Seram Fadhlur Rahman-eK3YtkMiqbM.m4a\"\n",
      "[ffmpeg] Destination: 𝐏𝐔𝐀𝐊𝐀 EP05 - Kisah Seram Fadhlur Rahman-eK3YtkMiqbM.mp3\n",
      "Deleting original file THELAKI PODCAST _ TOP 3 Kenangan Zaman Universiti--PfFTGk6-WM.webm (pass -k to keep)\n"
     ]
    },
    {
     "name": "stderr",
     "output_type": "stream",
     "text": [
      "\r",
      " 71%|███████▏  | 5/7 [10:55<04:22, 131.46s/it]"
     ]
    },
    {
     "name": "stdout",
     "output_type": "stream",
     "text": [
      "[youtube] GSd5Tbo5fnE: Downloading webpage\n",
      "[download] Destination: Malam Jumaat Bersama Zizi Kirana-GSd5Tbo5fnE.m4a\n",
      "[download]  67.5% of 50.03MiB at 11.28MiB/s ETA 00:0120own ETADeleting original file Al-Jazeera Batu Api _ SlowTalk Podcast #13-Sau4UqPjBBk.webm (pass -k to keep)\n",
      "[download]  75.5% of 50.03MiB at 15.59MiB/s ETA 00:00[download] Downloading video 12 of 23\n",
      "[download]  79.1% of 50.03MiB at 17.23MiB/s ETA 00:00[youtube] 4DCkzN-pdyw: Downloading webpage\n",
      "[download]  95.1% of 50.03MiB at 15.94MiB/s ETA 00:001nown ETA[download] Destination: Kebakaran Kedua Hospital Sultanah Aminah _ SlowTalk Podcast #12-4DCkzN-pdyw.webm\n",
      "[download] 100% of 50.03MiB in 00:0297MiB/s ETA 00:001nown ETA\n",
      "[download] 100% of 6.13MiB in 00:0051MiB/s ETA 00:00\n",
      "[ffmpeg] Destination: Kebakaran Kedua Hospital Sultanah Aminah _ SlowTalk Podcast #12-4DCkzN-pdyw.mp3\n",
      "[ffmpeg] Correcting container in \"Malam Jumaat Bersama Zizi Kirana-GSd5Tbo5fnE.m4a\"\n",
      "[ffmpeg] Destination: Malam Jumaat Bersama Zizi Kirana-GSd5Tbo5fnE.mp3\n",
      "Deleting original file ZHAF BERSEMUKA DGN TOK AYAH NAMRON!-BWU8IJBEjTk.m4a (pass -k to keep)\n"
     ]
    },
    {
     "name": "stderr",
     "output_type": "stream",
     "text": [
      "\r",
      " 86%|████████▌ | 6/7 [11:03<01:56, 116.09s/it]"
     ]
    },
    {
     "name": "stdout",
     "output_type": "stream",
     "text": [
      "[youtube] _QsLUdHUytY: Downloading webpage\n",
      "[download] Destination: PodcaSTERK! - Kentut Yang Luar Biasa _ Sterk Production-_QsLUdHUytY.webm\n",
      "[download] 100% of 29.47MiB in 00:02.58KiB/s ETA 00:00nown ETA\n",
      "Deleting original file THELAKI PODCAST _ TOP 3 Angan-Angan & Fantasi-Q1oB0OtOGkE.webm (pass -k to keep)\n"
     ]
    },
    {
     "name": "stderr",
     "output_type": "stream",
     "text": [
      "\r",
      " 71%|███████▏  | 5/7 [11:07<04:42, 141.07s/it]"
     ]
    },
    {
     "name": "stdout",
     "output_type": "stream",
     "text": [
      "[ffmpeg] Destination: PodcaSTERK! - Kentut Yang Luar Biasa _ Sterk Production-_QsLUdHUytY.mp3\n",
      "[youtube] t_6UO2Vi5nk: Downloading webpage\n",
      "[download] Destination: SEMBANG BARAI EP 4  - Lelaki boleh, perempuan tak boleh-t_6UO2Vi5nk.webm\n",
      "[download] 100% of 9.87MiB in 00:0213MiB/s ETA 00:0000own ETA\n",
      "[ffmpeg] Destination: SEMBANG BARAI EP 4  - Lelaki boleh, perempuan tak boleh-t_6UO2Vi5nk.mp3\n",
      "Deleting original file Kebakaran Kedua Hospital Sultanah Aminah _ SlowTalk Podcast #12-4DCkzN-pdyw.webm (pass -k to keep)\n",
      "[download] Downloading video 13 of 23\n",
      "[youtube] FQDcHVgZCTE: Downloading webpage\n",
      "[download] Destination: Masalah Warga Asing  SlowTalk Podcast #11-FQDcHVgZCTE.webm\n",
      "[download] 100% of 14.87MiB in 00:0480MiB/s ETA 00:007\n",
      "[ffmpeg] Destination: Masalah Warga Asing  SlowTalk Podcast #11-FQDcHVgZCTE.mp3\n",
      "Deleting original file SEMBANG BARAI EP 4  - Lelaki boleh, perempuan tak boleh-t_6UO2Vi5nk.webm (pass -k to keep)\n"
     ]
    },
    {
     "name": "stderr",
     "output_type": "stream",
     "text": [
      "\r",
      " 86%|████████▌ | 6/7 [12:15<01:59, 119.39s/it]"
     ]
    },
    {
     "name": "stdout",
     "output_type": "stream",
     "text": [
      "[youtube] lyr89SJagaM: Downloading webpage\n",
      "[youtube] lyr89SJagaM: Downloading MPD manifest\n",
      "[dashsegments] Total fragments: 178\n",
      "[download] Destination: ISI HATI PENSYARAH MUDA (PART 2)-lyr89SJagaM.webm\n",
      "[download]   2.8% of ~20.62MiB at 897.97KiB/s ETA 00:3905:03Deleting original file INGIN TAHU  - PSIKOLOGI KLINIKAL & KESIHATAN MENTAL (PART 2)-Vz3rCaQVarM.webm (pass -k to keep)\n",
      "[download]   2.6% of ~22.01MiB at 897.97KiB/s ETA 00:44"
     ]
    },
    {
     "name": "stderr",
     "output_type": "stream",
     "text": [
      "\r",
      "100%|██████████| 7/7 [12:18<00:00, 129.09s/it]"
     ]
    },
    {
     "name": "stdout",
     "output_type": "stream",
     "text": [
      "\r",
      "[download]   2.6% of ~22.01MiB at 158.21KiB/s ETA 00:44"
     ]
    },
    {
     "name": "stderr",
     "output_type": "stream",
     "text": [
      "\r",
      "100%|██████████| 7/7 [12:18<00:00, 105.54s/it]"
     ]
    },
    {
     "name": "stdout",
     "output_type": "stream",
     "text": [
      "\r",
      "[download]   2.7% of ~22.01MiB at 179.31KiB/s ETA 00:45"
     ]
    },
    {
     "name": "stderr",
     "output_type": "stream",
     "text": [
      "\n"
     ]
    },
    {
     "name": "stdout",
     "output_type": "stream",
     "text": [
      "\r",
      "[download]   2.7% of ~22.01MiB at 284.54KiB/s ETA 00:45"
     ]
    },
    {
     "name": "stderr",
     "output_type": "stream",
     "text": [
      "\r",
      "  0%|          | 0/7 [00:00<?, ?it/s]"
     ]
    },
    {
     "name": "stdout",
     "output_type": "stream",
     "text": [
      "[download]   4.3% of ~23.46MiB at 867.29KiB/s ETA 00:380[youtube] _Zsx149RtiU: Downloading webpage\n",
      "[download]   6.2% of ~24.45MiB at 133.12KiB/s ETA 00:367Deleting original file 𝐏𝐔𝐀𝐊𝐀 EP05 - Kisah Seram Fadhlur Rahman-eK3YtkMiqbM.m4a (pass -k to keep)\n",
      "[download]   6.2% of ~24.45MiB at 164.95KiB/s ETA 00:37"
     ]
    },
    {
     "name": "stderr",
     "output_type": "stream",
     "text": [
      "\r",
      " 71%|███████▏  | 5/7 [12:20<04:31, 135.75s/it]"
     ]
    },
    {
     "name": "stdout",
     "output_type": "stream",
     "text": [
      "[download]   7.3% of ~24.64MiB at  1.61MiB/s ETA 00:345[download] Destination: Podcast Bekpek  - Dikejar Yakuza Ketika Berbasikal Di Jepun Selama Sebulan-_Zsx149RtiU.m4a\n",
      "[download]   0.1% of 37.42MiB at 271.66KiB/s ETA 02:204[youtube] I3hpV0ZnaNE: Downloading webpage\n",
      "[download]  26.5% of 37.42MiB at 14.73MiB/s ETA 00:0134[youtube] I3hpV0ZnaNE: Downloading MPD manifest\n",
      "[download]  10.6% of ~24.90MiB at 938.13KiB/s ETA 00:32own ETA[dashsegments] Total fragments: 62\n",
      "[download]  10.7% of ~24.90MiB at 872.51KiB/s ETA 00:32[download] Destination: Podcast Ais Kacang Interview Dr Fadzlina bersama Yuyu Laser-I3hpV0ZnaNE.webm\n",
      "[download] 100% of 37.42MiB in 00:02.17MiB/s ETA 00:300own ETA\n",
      "[download]   9.5% of ~7.71MiB at 261.56KiB/s ETA 00:149[ffmpeg] Correcting container in \"Podcast Bekpek  - Dikejar Yakuza Ketika Berbasikal Di Jepun Selama Sebulan-_Zsx149RtiU.m4a\"\n",
      "[download]  23.0% of ~25.47MiB at 204.82KiB/s ETA 00:266[ffmpeg] Destination: Podcast Bekpek  - Dikejar Yakuza Ketika Berbasikal Di Jepun Selama Sebulan-_Zsx149RtiU.mp3\n",
      "[download] 100% of 8.83MiB in 00:1134.02KiB/s ETA 00:169\n",
      "[download]  48.9% of ~25.84MiB at 129.18KiB/s ETA 00:16[ffmpeg] Destination: Podcast Ais Kacang Interview Dr Fadzlina bersama Yuyu Laser-I3hpV0ZnaNE.mp3\n",
      "[download]  77.5% of ~25.53MiB at 183.33KiB/s ETA 00:070Deleting original file Malam Jumaat - The Best of Season 1-C0CVcdzfkuQ.webm (pass -k to keep)\n",
      "[download]  77.6% of ~25.53MiB at 242.15KiB/s ETA 00:07"
     ]
    },
    {
     "name": "stderr",
     "output_type": "stream",
     "text": [
      "\r",
      " 86%|████████▌ | 6/7 [12:44<02:16, 136.07s/it]"
     ]
    },
    {
     "name": "stdout",
     "output_type": "stream",
     "text": [
      "[download]  78.7% of ~25.53MiB at 167.32KiB/s ETA 00:07[youtube] sSWZVKSsIlU: Downloading webpage\n",
      "[download]  80.8% of ~25.53MiB at 998.04KiB/s ETA 00:06[download] Destination: Pengalaman Di Peluk Gadis Afrika Semasa Travel-sSWZVKSsIlU.m4a\n",
      "[download] 100% of 10.01MiB in 00:006.62KiB/s ETA 00:05own ETA\n",
      "[download]  84.3% of ~25.50MiB at 128.87KiB/s ETA 00:05[ffmpeg] Correcting container in \"Pengalaman Di Peluk Gadis Afrika Semasa Travel-sSWZVKSsIlU.m4a\"\n",
      "[download]  86.7% of ~25.48MiB at 326.69KiB/s ETA 00:04[ffmpeg] Destination: Pengalaman Di Peluk Gadis Afrika Semasa Travel-sSWZVKSsIlU.mp3\n",
      "[download] 100% of 25.40MiB in 00:349.39KiB/s ETA 00:002\n",
      "[ffmpeg] Destination: ISI HATI PENSYARAH MUDA (PART 2)-lyr89SJagaM.mp3\n",
      "Deleting original file Malam Jumaat Bersama Johan & Ozlynn (Jozlynnhanania)-WSHL2nyN-wA.m4a (pass -k to keep)\n"
     ]
    },
    {
     "name": "stderr",
     "output_type": "stream",
     "text": [
      "\r",
      " 86%|████████▌ | 6/7 [12:53<02:44, 164.87s/it]"
     ]
    },
    {
     "name": "stdout",
     "output_type": "stream",
     "text": [
      "[youtube] riEwi1I6KKg: Downloading webpage\n",
      "Deleting original file Laki Sado Bukan Pilihan Hati Neeta Dari iamNEETA _ Malam Jumaat _ Fify & Hydar-u9kyC-ObWWM.webm (pass -k to keep)\n"
     ]
    },
    {
     "name": "stderr",
     "output_type": "stream",
     "text": [
      "\r",
      " 86%|████████▌ | 6/7 [12:54<02:09, 129.90s/it]"
     ]
    },
    {
     "name": "stdout",
     "output_type": "stream",
     "text": [
      "[download] Destination: Afrika Ep 2 - Mitos-Mitos Afrika Yang Kita Perlu Tahu-riEwi1I6KKg.webm\n",
      "[download]  20.1% of 9.93MiB at  8.54MiB/s ETA 00:000[youtube] UT9VX6udGf8: Downloading webpage\n",
      "[download] 100% of 9.93MiB in 00:0065MiB/s ETA 00:000nown ETA\n",
      "[ffmpeg] Destination: Afrika Ep 2 - Mitos-Mitos Afrika Yang Kita Perlu Tahu-riEwi1I6KKg.mp3\n",
      "[download] Destination: PodcaSTERK! - Adib Nak Berhenti Buat Video _ Sterk Production-UT9VX6udGf8.webm\n",
      "[download]  27.6% of 36.39MiB at 1016.66KiB/s ETA 00:26own ETADeleting original file Tak pernah kenal, tetapi boleh berbasikal bersama dari LONDON sampai MALAYSIA! _ PODCAST-lcMZYdMnq-E.webm (pass -k to keep)\n",
      "[download]  28.0% of 36.39MiB at  1.67MiB/s ETA 00:15"
     ]
    },
    {
     "name": "stderr",
     "output_type": "stream",
     "text": [
      "\r",
      " 86%|████████▌ | 6/7 [12:56<02:23, 143.16s/it]"
     ]
    },
    {
     "name": "stdout",
     "output_type": "stream",
     "text": [
      "[download]  49.3% of 36.39MiB at 13.76MiB/s ETA 00:01[youtube] 7aIM0DhAQMc: Downloading webpage\n",
      "[download]  81.5% of 36.39MiB at  1.46MiB/s ETA 00:047nown ETA[download] Destination: Orang Sabah Sokong Veveonah M Menipu-7aIM0DhAQMc.webm\n",
      "[download]  82.2% of 36.39MiB at  2.64MiB/s ETA 00:02Deleting original file Masalah Warga Asing  SlowTalk Podcast #11-FQDcHVgZCTE.webm (pass -k to keep)\n",
      "[download]   0.0% of 6.45MiB at 74.14KiB/s ETA 01:29[download] Downloading video 14 of 23\n",
      "[download]   0.1% of 6.45MiB at 105.23KiB/s ETA 01:02[youtube] 57eBiLOQfmk: Downloading webpage\n",
      "[download] 100% of 36.39MiB in 00:0248MiB/s ETA 00:00\n",
      "[ffmpeg] Destination: PodcaSTERK! - Adib Nak Berhenti Buat Video _ Sterk Production-UT9VX6udGf8.mp3\n",
      "[download] 100% of 6.45MiB in 00:0086MiB/s ETA 00:00\n",
      "[ffmpeg] Destination: Orang Sabah Sokong Veveonah M Menipu-7aIM0DhAQMc.mp3\n",
      "[download] Destination: Makanan Viral Johor Bahru _ SlowTalk Podcast #10-57eBiLOQfmk.webm\n",
      "[download] 100% of 11.77MiB in 00:0175MiB/s ETA 00:001nown ETA\n",
      "[ffmpeg] Destination: Makanan Viral Johor Bahru _ SlowTalk Podcast #10-57eBiLOQfmk.mp3\n",
      "Deleting original file Pengalaman Di Peluk Gadis Afrika Semasa Travel-sSWZVKSsIlU.m4a (pass -k to keep)\n"
     ]
    },
    {
     "name": "stderr",
     "output_type": "stream",
     "text": [
      "100%|██████████| 7/7 [13:38<00:00, 117.00s/it]\n"
     ]
    },
    {
     "name": "stdout",
     "output_type": "stream",
     "text": [
      "Deleting original file Podcast Ais Kacang Interview Dr Fadzlina bersama Yuyu Laser-I3hpV0ZnaNE.webm (pass -k to keep)\n"
     ]
    },
    {
     "name": "stderr",
     "output_type": "stream",
     "text": [
      "\r",
      " 86%|████████▌ | 6/7 [13:41<01:59, 119.40s/it]"
     ]
    },
    {
     "name": "stdout",
     "output_type": "stream",
     "text": [
      "[youtube] BoX_hMvaXWM: Downloading webpage\n",
      "[download] Destination: Episod 3  - Makan Testis Telur Burung Unta Afrika-BoX_hMvaXWM.webm\n",
      "[download] 100% of 7.70MiB in 00:0063MiB/s ETA 00:008\n",
      "[ffmpeg] Destination: Episod 3  - Makan Testis Telur Burung Unta Afrika-BoX_hMvaXWM.mp3\n",
      "Deleting original file Orang Sabah Sokong Veveonah M Menipu-7aIM0DhAQMc.webm (pass -k to keep)\n"
     ]
    },
    {
     "name": "stderr",
     "output_type": "stream",
     "text": [
      "100%|██████████| 7/7 [13:45<00:00, 117.94s/it]\n"
     ]
    },
    {
     "name": "stdout",
     "output_type": "stream",
     "text": [
      "Deleting original file PodcaSTERK! - Kentut Yang Luar Biasa _ Sterk Production-_QsLUdHUytY.webm (pass -k to keep)\n"
     ]
    },
    {
     "name": "stderr",
     "output_type": "stream",
     "text": [
      "100%|██████████| 7/7 [14:00<00:00, 120.06s/it]\n"
     ]
    },
    {
     "name": "stdout",
     "output_type": "stream",
     "text": [
      "Deleting original file Afrika Ep 2 - Mitos-Mitos Afrika Yang Kita Perlu Tahu-riEwi1I6KKg.webm (pass -k to keep)\n"
     ]
    },
    {
     "name": "stderr",
     "output_type": "stream",
     "text": [
      "100%|██████████| 7/7 [14:01<00:00, 120.17s/it]\n"
     ]
    },
    {
     "name": "stdout",
     "output_type": "stream",
     "text": [
      "Deleting original file Makanan Viral Johor Bahru _ SlowTalk Podcast #10-57eBiLOQfmk.webm (pass -k to keep)\n",
      "[download] Downloading video 15 of 23\n",
      "[youtube] I9eEz2OvI0E: Downloading webpage\n",
      "[download] Destination: Rakyat Malaysia Tiada Simpanan  SlowTalk Podcast #09-I9eEz2OvI0E.webm\n",
      "[download] 100% of 6.02MiB in 00:0098MiB/s ETA 00:006\n",
      "[ffmpeg] Destination: Rakyat Malaysia Tiada Simpanan  SlowTalk Podcast #09-I9eEz2OvI0E.mp3\n",
      "Deleting original file Malam Jumaat Bersama Zizi Kirana-GSd5Tbo5fnE.m4a (pass -k to keep)\n"
     ]
    },
    {
     "name": "stderr",
     "output_type": "stream",
     "text": [
      "\r",
      " 86%|████████▌ | 6/7 [14:09<02:30, 150.18s/it]"
     ]
    },
    {
     "name": "stdout",
     "output_type": "stream",
     "text": [
      "[youtube] KRDKcKiJbMc: Downloading webpage\n",
      "[download] Destination: Fify dan Khalie Gaduh Teruk Hanya Sebab Colgate _ Malam Jumaat _ Fify & Hydar-KRDKcKiJbMc.m4a\n",
      "[download] 100% of 50.80MiB in 00:0624MiB/s ETA 00:003nown ETA\n",
      "[ffmpeg] Correcting container in \"Fify dan Khalie Gaduh Teruk Hanya Sebab Colgate _ Malam Jumaat _ Fify & Hydar-KRDKcKiJbMc.m4a\"\n",
      "[ffmpeg] Destination: Fify dan Khalie Gaduh Teruk Hanya Sebab Colgate _ Malam Jumaat _ Fify & Hydar-KRDKcKiJbMc.mp3\n",
      "Deleting original file Episod 3  - Makan Testis Telur Burung Unta Afrika-BoX_hMvaXWM.webm (pass -k to keep)\n"
     ]
    },
    {
     "name": "stderr",
     "output_type": "stream",
     "text": [
      "100%|██████████| 7/7 [14:22<00:00, 123.22s/it]\n"
     ]
    },
    {
     "name": "stdout",
     "output_type": "stream",
     "text": [
      "Deleting original file Rakyat Malaysia Tiada Simpanan  SlowTalk Podcast #09-I9eEz2OvI0E.webm (pass -k to keep)\n",
      "[download] Downloading video 16 of 23\n",
      "[youtube] _gQ-uHjCdBs: Downloading webpage\n",
      "[download] Destination: Naik Sekolah Baju Hilang  SlowTalk Podcast #08-_gQ-uHjCdBs.webm\n",
      "[download] 100% of 6.61MiB in 00:0127MiB/s ETA 00:000\n",
      "[ffmpeg] Destination: Naik Sekolah Baju Hilang  SlowTalk Podcast #08-_gQ-uHjCdBs.mp3\n",
      "Deleting original file Podcast Bekpek  - Dikejar Yakuza Ketika Berbasikal Di Jepun Selama Sebulan-_Zsx149RtiU.m4a (pass -k to keep)\n"
     ]
    },
    {
     "name": "stderr",
     "output_type": "stream",
     "text": [
      "\r",
      " 14%|█▍        | 1/7 [02:13<13:21, 133.59s/it]"
     ]
    },
    {
     "name": "stdout",
     "output_type": "stream",
     "text": [
      "[youtube] cOuIF6LuVmw: Downloading webpage\n",
      "[download] Destination: THELAKI PODCAST _ TOP 3 Kenangan Zaman Sekolah-cOuIF6LuVmw.webm\n",
      "[download]  42.4% of 32.95MiB at 19.59MiB/s ETA 00:007nown ETADeleting original file Thelaki Podcast _ Top 3 Band Lokal Kegemaran-2DqS7RigSLU.webm (pass -k to keep)\n"
     ]
    },
    {
     "name": "stderr",
     "output_type": "stream",
     "text": [
      "\r",
      " 57%|█████▋    | 4/7 [14:36<11:00, 220.28s/it]"
     ]
    },
    {
     "name": "stdout",
     "output_type": "stream",
     "text": [
      "[download]  54.5% of 32.95MiB at 12.83MiB/s ETA 00:01[youtube] _gQ-uHjCdBs: Downloading webpage\n",
      "[download]  60.7% of 32.95MiB at  4.17MiB/s ETA 00:036nown ETA[download] Naik Sekolah Baju Hilang  SlowTalk Podcast #08-_gQ-uHjCdBs.webm has already been downloaded\n",
      "[download] 100% of 6.61MiB\n",
      "[ffmpeg] Destination: Naik Sekolah Baju Hilang  SlowTalk Podcast #08-_gQ-uHjCdBs.mp3\n",
      "[download] 100% of 32.95MiB in 00:0512MiB/s ETA 00:004nown ETA\n",
      "[ffmpeg] Destination: THELAKI PODCAST _ TOP 3 Kenangan Zaman Sekolah-cOuIF6LuVmw.mp3\n",
      "Deleting original file Naik Sekolah Baju Hilang  SlowTalk Podcast #08-_gQ-uHjCdBs.webm (pass -k to keep)\n",
      "[download] Downloading video 17 of 23\n",
      "[youtube] Q5kDJPXJPbc: Downloading webpage\n",
      "[download] Destination: Nak Samun Ke Raba  SlowTalk Podcast #07-Q5kDJPXJPbc.webm\n",
      "[download]   1.2% of 10.62MiB at  1.41MiB/s ETA 00:072Deleting original file ISI HATI PENSYARAH MUDA (PART 2)-lyr89SJagaM.webm (pass -k to keep)\n",
      "[download]   2.3% of 10.62MiB at  2.50MiB/s ETA 00:04"
     ]
    },
    {
     "name": "stderr",
     "output_type": "stream",
     "text": [
      "\r",
      "100%|██████████| 7/7 [14:48<00:00, 129.46s/it]"
     ]
    },
    {
     "name": "stdout",
     "output_type": "stream",
     "text": [
      "\r",
      "[download]   4.7% of 10.62MiB at  4.37MiB/s ETA 00:02"
     ]
    },
    {
     "name": "stderr",
     "output_type": "stream",
     "text": [
      "\r",
      "100%|██████████| 7/7 [14:48<00:00, 126.99s/it]"
     ]
    },
    {
     "name": "stdout",
     "output_type": "stream",
     "text": [
      "[download]  18.8% of 10.62MiB at 12.19MiB/s ETA 00:00"
     ]
    },
    {
     "name": "stderr",
     "output_type": "stream",
     "text": [
      "\n"
     ]
    },
    {
     "name": "stdout",
     "output_type": "stream",
     "text": [
      "[download] 100% of 10.62MiB in 00:0112MiB/s ETA 00:001nown ETA\n",
      "[ffmpeg] Destination: Nak Samun Ke Raba  SlowTalk Podcast #07-Q5kDJPXJPbc.mp3\n",
      "Deleting original file Naik Sekolah Baju Hilang  SlowTalk Podcast #08-_gQ-uHjCdBs.webm (pass -k to keep)\n"
     ]
    },
    {
     "name": "stderr",
     "output_type": "stream",
     "text": [
      "WARNING: Unable to remove downloaded original file\n",
      " 71%|███████▏  | 5/7 [14:56<05:20, 160.26s/it]"
     ]
    },
    {
     "name": "stdout",
     "output_type": "stream",
     "text": [
      "[youtube] JKnaHxIYHm8: Downloading webpage\n",
      "[download] Destination: Mengamuk Sebab Tak Scan  SlowTalk Podcast #04-JKnaHxIYHm8.webm\n",
      "[download] 100% of 6.96MiB in 00:0196MiB/s ETA 00:000\n",
      "[ffmpeg] Destination: Mengamuk Sebab Tak Scan  SlowTalk Podcast #04-JKnaHxIYHm8.mp3\n",
      "Deleting original file Mengamuk Sebab Tak Scan  SlowTalk Podcast #04-JKnaHxIYHm8.webm (pass -k to keep)\n"
     ]
    },
    {
     "name": "stderr",
     "output_type": "stream",
     "text": [
      "\r",
      " 86%|████████▌ | 6/7 [15:18<01:58, 118.84s/it]"
     ]
    },
    {
     "name": "stdout",
     "output_type": "stream",
     "text": [
      "[youtube] XJTfe7fVaGc: Downloading webpage\n",
      "Deleting original file Nak Samun Ke Raba  SlowTalk Podcast #07-Q5kDJPXJPbc.webm (pass -k to keep)\n",
      "[download] Downloading video 18 of 23\n",
      "[youtube] JIOEzlTO6Kg: Downloading webpage\n",
      "[download] Destination: Kenapa Hashtag Rakyat Jaga Rakyat Trending Rakyat Meluat Dengan Double Standard Politik.-XJTfe7fVaGc.webm\n",
      "[download]  64.9% of 6.16MiB at 12.49MiB/s ETA 00:007[download] Destination: Android VS iOS (Instagram) SlowTalk Podcast #06-JIOEzlTO6Kg.webm\n",
      "[download] 100% of 6.16MiB in 00:00.71KiB/s ETA 01:27\n",
      "[download]  20.5% of 9.76MiB at 13.57MiB/s ETA 00:002[ffmpeg] Destination: Kenapa Hashtag Rakyat Jaga Rakyat Trending Rakyat Meluat Dengan Double Standard Politik.-XJTfe7fVaGc.mp3\n",
      "[download] 100% of 9.76MiB in 00:0080MiB/s ETA 00:000nown ETA\n",
      "[ffmpeg] Destination: Android VS iOS (Instagram) SlowTalk Podcast #06-JIOEzlTO6Kg.mp3\n",
      "Deleting original file PodcaSTERK! - Adib Nak Berhenti Buat Video _ Sterk Production-UT9VX6udGf8.webm (pass -k to keep)\n"
     ]
    },
    {
     "name": "stderr",
     "output_type": "stream",
     "text": [
      "100%|██████████| 7/7 [15:24<00:00, 132.03s/it]\n"
     ]
    },
    {
     "name": "stdout",
     "output_type": "stream",
     "text": [
      "Deleting original file Kenapa Hashtag Rakyat Jaga Rakyat Trending Rakyat Meluat Dengan Double Standard Politik.-XJTfe7fVaGc.webm (pass -k to keep)\n"
     ]
    },
    {
     "name": "stderr",
     "output_type": "stream",
     "text": [
      "100%|██████████| 7/7 [15:40<00:00, 134.39s/it]\n"
     ]
    },
    {
     "name": "stdout",
     "output_type": "stream",
     "text": [
      "Deleting original file DODOIAN ANDA   [PODCAST MALAYSIA VERSI 2]-g95Rcydh0fs.webm (pass -k to keep)\n"
     ]
    },
    {
     "name": "stderr",
     "output_type": "stream",
     "text": [
      "\r",
      " 57%|█████▋    | 4/7 [15:44<13:58, 279.65s/it]"
     ]
    },
    {
     "name": "stdout",
     "output_type": "stream",
     "text": [
      "[youtube] GurzFbHVCI4: Downloading webpage\n",
      "Deleting original file Android VS iOS (Instagram) SlowTalk Podcast #06-JIOEzlTO6Kg.webm (pass -k to keep)\n",
      "[download] Downloading video 19 of 23\n",
      "[youtube] kTrI0LaiY8U: Downloading webpage\n",
      "[youtube] GurzFbHVCI4: Downloading MPD manifest\n",
      "[dashsegments] Total fragments: 279\n",
      "[download] Destination: Eps 005 - Adilkah Pendidikan Kita Kepada Pelajar Pedalaman (Part 2)-GurzFbHVCI4.m4a\n",
      "[download] Destination: Lepak Santai _ SlowTalk Podcast #05-kTrI0LaiY8U.webm\n",
      "[download] 100% of 4.25MiB in 00:0168MiB/s ETA 00:00 02:06\n",
      "[download]   0.7% of ~21.61MiB at  5.98MiB/s ETA 02:00:10:23[ffmpeg] Destination: Lepak Santai _ SlowTalk Podcast #05-kTrI0LaiY8U.mp3\n",
      "[download]   3.9% of ~39.10MiB at  6.90MiB/s ETA 01:513Deleting original file Fify dan Khalie Gaduh Teruk Hanya Sebab Colgate _ Malam Jumaat _ Fify & Hydar-KRDKcKiJbMc.m4a (pass -k to keep)\n"
     ]
    },
    {
     "name": "stderr",
     "output_type": "stream",
     "text": [
      "100%|██████████| 7/7 [15:50<00:00, 135.76s/it]\n"
     ]
    },
    {
     "name": "stdout",
     "output_type": "stream",
     "text": [
      "[download]   6.5% of ~40.62MiB at 10.48MiB/s ETA 01:521Deleting original file Lepak Santai _ SlowTalk Podcast #05-kTrI0LaiY8U.webm (pass -k to keep)\n",
      "[download] Downloading video 20 of 23\n",
      "[youtube] JKnaHxIYHm8: Downloading webpage\n",
      "[download]   7.2% of ~40.85MiB at 14.84MiB/s ETA 01:51[download] Destination: Mengamuk Sebab Tak Scan  SlowTalk Podcast #04-JKnaHxIYHm8.webm\n",
      "[download] 100% of 6.96MiB in 00:0104MiB/s ETA 00:0049\n",
      "[ffmpeg] Destination: Mengamuk Sebab Tak Scan  SlowTalk Podcast #04-JKnaHxIYHm8.mp3\n",
      "[download]   9.6% of ~41.41MiB at  7.33MiB/s ETA 01:4701Deleting original file THELAKI PODCAST _ TOP 3 Kenangan Zaman Sekolah-cOuIF6LuVmw.webm (pass -k to keep)\n"
     ]
    },
    {
     "name": "stderr",
     "output_type": "stream",
     "text": [
      "\r",
      " 29%|██▊       | 2/7 [03:38<09:54, 118.91s/it]"
     ]
    },
    {
     "name": "stdout",
     "output_type": "stream",
     "text": [
      "[youtube] QDL74a4Uibk: Downloading webpage\n",
      "[download]   9.7% of ~41.41MiB at 382.69KiB/s ETA 01:50"
     ]
    },
    {
     "name": "stderr",
     "output_type": "stream",
     "text": [
      "ERROR: QDL74a4Uibk: YouTube said: Unable to extract video data\n",
      " 43%|████▎     | 3/7 [03:38<05:33, 83.41s/it] "
     ]
    },
    {
     "name": "stdout",
     "output_type": "stream",
     "text": [
      "[download]  10.0% of ~41.46MiB at 10.02MiB/s ETA 01:493[youtube] pwFJaiaHBmA: Downloading webpage\n",
      "[youtube] pwFJaiaHBmA: Downloading MPD manifest\n",
      "[download]  10.4% of ~41.52MiB at 15.79MiB/s ETA 01:48[dashsegments] Total fragments: 184\n",
      "[download] Destination: ISI HATI PENSYARAH MUDA (PART 1)-pwFJaiaHBmA.webm\n",
      "[download] 100% of 26.15MiB in 00:04.19MiB/s ETA 00:00047\n",
      "[download]  21.9% of ~42.29MiB at 10.20MiB/s ETA 01:03[ffmpeg] Destination: ISI HATI PENSYARAH MUDA (PART 1)-pwFJaiaHBmA.mp3\n",
      "[download]  24.4% of ~42.36MiB at  9.23MiB/s ETA 00:590Deleting original file Mengamuk Sebab Tak Scan  SlowTalk Podcast #04-JKnaHxIYHm8.webm (pass -k to keep)\n",
      "[download] Downloading video 21 of 23\n",
      "[youtube] l-NmUn-FLLI: Downloading webpage\n",
      "[download]  25.1% of ~42.38MiB at 13.47MiB/s ETA 00:59[download] Destination: Tesla Tak Bagos  SlowTalk Podcast #03-l-NmUn-FLLI.webm\n",
      "[download] 100% of 17.22MiB in 00:0119MiB/s ETA 00:000nown ETA\n",
      "[ffmpeg] Destination: Tesla Tak Bagos  SlowTalk Podcast #03-l-NmUn-FLLI.mp3\n",
      "[download]  44.1% of ~42.64MiB at  9.59MiB/s ETA 00:5457Deleting original file Tesla Tak Bagos  SlowTalk Podcast #03-l-NmUn-FLLI.webm (pass -k to keep)\n",
      "[download] Downloading video 22 of 23\n",
      "[youtube] RdqVSxXwQIg: Downloading webpage\n",
      "[download]  44.8% of ~42.65MiB at 12.48MiB/s ETA 00:545[download] Destination: Hisap Jari Awek  SlowTalk Podcast #02-RdqVSxXwQIg.m4a\n",
      "[download] 100% of 3.82MiB in 00:0125MiB/s ETA 00:0054own ETA\n",
      "[download]  45.5% of ~42.65MiB at  5.45MiB/s ETA 00:534[ffmpeg] Correcting container in \"Hisap Jari Awek  SlowTalk Podcast #02-RdqVSxXwQIg.m4a\"\n",
      "[ffmpeg] Destination: Hisap Jari Awek  SlowTalk Podcast #02-RdqVSxXwQIg.mp3\n",
      "[download]  47.7% of ~42.67MiB at  6.56MiB/s ETA 00:523Deleting original file Hisap Jari Awek  SlowTalk Podcast #02-RdqVSxXwQIg.m4a (pass -k to keep)\n",
      "[download] Downloading video 23 of 23\n",
      "[youtube] -Lc21hhbAfE: Downloading webpage\n",
      "[download]  48.4% of ~42.67MiB at 13.55MiB/s ETA 00:52[download] Destination: Perlu Ke Mintak Izin  SlowTalk Podcast #01--Lc21hhbAfE.m4a\n",
      "[download] 100% of 7.72MiB in 00:0178MiB/s ETA 00:0051\n",
      "[ffmpeg] Correcting container in \"Perlu Ke Mintak Izin  SlowTalk Podcast #01--Lc21hhbAfE.m4a\"\n",
      "[download]  49.8% of ~42.68MiB at  8.49MiB/s ETA 00:50[ffmpeg] Destination: Perlu Ke Mintak Izin  SlowTalk Podcast #01--Lc21hhbAfE.mp3\n",
      "[download]  51.6% of ~42.69MiB at 336.37KiB/s ETA 00:490Deleting original file ISI HATI PENSYARAH MUDA (PART 1)-pwFJaiaHBmA.webm (pass -k to keep)\n"
     ]
    },
    {
     "name": "stderr",
     "output_type": "stream",
     "text": [
      "\r",
      " 57%|█████▋    | 4/7 [04:19<03:31, 70.66s/it]"
     ]
    },
    {
     "name": "stdout",
     "output_type": "stream",
     "text": [
      "[youtube] x0HhvgjUAjY: Downloading webpage\n",
      "[download]  52.0% of ~42.70MiB at 13.73MiB/s ETA 00:490[youtube] x0HhvgjUAjY: Downloading MPD manifest\n",
      "[download]  52.3% of ~42.70MiB at 13.38MiB/s ETA 00:48[dashsegments] Total fragments: 268\n",
      "[download] Destination: INGIN TAHU - BAGAIMANA 30 TAHUN SETIA BERSAMA FELDA (PART 2)-x0HhvgjUAjY.m4a\n",
      "[download]  55.6% of ~42.72MiB at 12.28MiB/s ETA 00:45:44:33Deleting original file Perlu Ke Mintak Izin  SlowTalk Podcast #01--Lc21hhbAfE.m4a (pass -k to keep)\n",
      "[download] Finished downloading playlist: Uploads from SlowTalk Podcast\n"
     ]
    },
    {
     "name": "stderr",
     "output_type": "stream",
     "text": [
      "\r",
      " 71%|███████▏  | 5/7 [16:42<08:42, 261.01s/it]"
     ]
    },
    {
     "name": "stdout",
     "output_type": "stream",
     "text": [
      "[youtube] vjuFRuWXabc: Downloading webpage\n",
      "[download]   4.1% of ~37.56MiB at 19.58MiB/s ETA 01:42[download] Destination: SEMBANG BARAI EP 6  - Undi rosak!-vjuFRuWXabc.webm\n",
      "[download] 100% of 8.93MiB in 00:018.80MiB/s ETA 01:495wn ETA\n",
      "[download]   5.1% of ~38.36MiB at 13.17MiB/s ETA 01:42[ffmpeg] Destination: SEMBANG BARAI EP 6  - Undi rosak!-vjuFRuWXabc.mp3\n",
      "[download]  16.8% of ~40.38MiB at 13.64MiB/s ETA 01:338Deleting original file SEMBANG BARAI EP 6  - Undi rosak!-vjuFRuWXabc.webm (pass -k to keep)\n"
     ]
    },
    {
     "name": "stderr",
     "output_type": "stream",
     "text": [
      "\r",
      " 86%|████████▌ | 6/7 [16:58<03:07, 187.42s/it]"
     ]
    },
    {
     "name": "stdout",
     "output_type": "stream",
     "text": [
      "[youtube] bRUjmsnE5ZU: Downloading webpage\n",
      "[download]  68.8% of ~42.77MiB at 17.26MiB/s ETA 00:33[download] Destination: Pasal Kau - Movie Review-bRUjmsnE5ZU.webm\n",
      "[download] 100% of 8.54MiB in 00:00.63MiB/s ETA 00:0024wn ETA\n",
      "[ffmpeg] Destination: Pasal Kau - Movie Review-bRUjmsnE5ZU.mp3\n",
      "[download]  30.2% of ~40.79MiB at 10.99MiB/s ETA 01:189Deleting original file Pasal Kau - Movie Review-bRUjmsnE5ZU.webm (pass -k to keep)\n"
     ]
    },
    {
     "name": "stderr",
     "output_type": "stream",
     "text": [
      "100%|██████████| 7/7 [17:13<00:00, 147.66s/it]\n"
     ]
    },
    {
     "name": "stdout",
     "output_type": "stream",
     "text": [
      "[download] 100% of 42.82MiB in 01:50.77MiB/s ETA 00:001\n",
      "[ffmpeg] Correcting container in \"Eps 005 - Adilkah Pendidikan Kita Kepada Pelajar Pedalaman (Part 2)-GurzFbHVCI4.m4a\"\n",
      "[download]  51.5% of ~41.00MiB at 13.09MiB/s ETA 00:53[ffmpeg] Destination: Eps 005 - Adilkah Pendidikan Kita Kepada Pelajar Pedalaman (Part 2)-GurzFbHVCI4.mp3\n",
      "[download]  83.6% of ~41.11MiB at 15.68MiB/s ETA 00:189Deleting original file Eps 005 - Adilkah Pendidikan Kita Kepada Pelajar Pedalaman (Part 2)-GurzFbHVCI4.m4a (pass -k to keep)\n"
     ]
    },
    {
     "name": "stderr",
     "output_type": "stream",
     "text": [
      "\r",
      " 71%|███████▏  | 5/7 [18:13<08:00, 240.36s/it]"
     ]
    },
    {
     "name": "stdout",
     "output_type": "stream",
     "text": [
      "[youtube] hRUVMlq6PYk: Downloading webpage\n",
      "[download]  84.3% of ~41.11MiB at 16.75MiB/s ETA 00:17[download] Destination: PodcaSTERK! - Mirol Dah Kahwin! _ Sterk Production-hRUVMlq6PYk.webm\n",
      "[download] 100% of 30.74MiB in 00:0100MiB/s ETA 00:00known ETA\n",
      "[ffmpeg] Destination: PodcaSTERK! - Mirol Dah Kahwin! _ Sterk Production-hRUVMlq6PYk.mp3\n",
      "[download] 100% of 41.13MiB in 01:51.93MiB/s ETA 00:002\n",
      "[ffmpeg] Correcting container in \"INGIN TAHU - BAGAIMANA 30 TAHUN SETIA BERSAMA FELDA (PART 2)-x0HhvgjUAjY.m4a\"\n",
      "[ffmpeg] Destination: INGIN TAHU - BAGAIMANA 30 TAHUN SETIA BERSAMA FELDA (PART 2)-x0HhvgjUAjY.mp3\n",
      "Deleting original file PodcaSTERK! - Mirol Dah Kahwin! _ Sterk Production-hRUVMlq6PYk.webm (pass -k to keep)\n"
     ]
    },
    {
     "name": "stderr",
     "output_type": "stream",
     "text": [
      "\r",
      " 86%|████████▌ | 6/7 [19:05<03:03, 183.77s/it]"
     ]
    },
    {
     "name": "stdout",
     "output_type": "stream",
     "text": [
      "[youtube] F69FiR60K78: Downloading webpage\n",
      "[download] Destination: 𝐏𝐔𝐀𝐊𝐀 EP02 - Kisah Seram Haizad Imran-F69FiR60K78.m4a\n",
      "[download] 100% of 24.68MiB in 00:0073MiB/s ETA 00:00known ETA\n",
      "[ffmpeg] Correcting container in \"𝐏𝐔𝐀𝐊𝐀 EP02 - Kisah Seram Haizad Imran-F69FiR60K78.m4a\"\n",
      "Deleting original file INGIN TAHU - BAGAIMANA 30 TAHUN SETIA BERSAMA FELDA (PART 2)-x0HhvgjUAjY.m4a (pass -k to keep)\n"
     ]
    },
    {
     "name": "stderr",
     "output_type": "stream",
     "text": [
      "\r",
      " 71%|███████▏  | 5/7 [06:47<03:07, 93.93s/it]"
     ]
    },
    {
     "name": "stdout",
     "output_type": "stream",
     "text": [
      "[youtube] zbWJgXwcRes: Downloading webpage\n",
      "[ffmpeg] Destination: 𝐏𝐔𝐀𝐊𝐀 EP02 - Kisah Seram Haizad Imran-F69FiR60K78.mp3\n",
      "[download] Destination: PodcaSTERK! - Best Tak Intern _ Sterk Production-zbWJgXwcRes.webm\n",
      "[download] 100% of 34.66MiB in 00:0121MiB/s ETA 00:00known ETA\n",
      "[ffmpeg] Destination: PodcaSTERK! - Best Tak Intern _ Sterk Production-zbWJgXwcRes.mp3\n",
      "Deleting original file 𝐏𝐔𝐀𝐊𝐀 EP02 - Kisah Seram Haizad Imran-F69FiR60K78.m4a (pass -k to keep)\n"
     ]
    },
    {
     "name": "stderr",
     "output_type": "stream",
     "text": [
      "100%|██████████| 7/7 [19:32<00:00, 167.57s/it]\n"
     ]
    },
    {
     "name": "stdout",
     "output_type": "stream",
     "text": [
      "Deleting original file PodcaSTERK! - Best Tak Intern _ Sterk Production-zbWJgXwcRes.webm (pass -k to keep)\n"
     ]
    },
    {
     "name": "stderr",
     "output_type": "stream",
     "text": [
      "\r",
      " 86%|████████▌ | 6/7 [07:36<01:20, 80.17s/it]"
     ]
    },
    {
     "name": "stdout",
     "output_type": "stream",
     "text": [
      "[youtube] Z1FpCckeSsk: Downloading webpage\n",
      "[download] Destination: Viral mat salleh Russia mengemis di Malaysia sebab travel gaya backpacker.-Z1FpCckeSsk.webm\n",
      "[download] 100% of 8.50MiB in 00:0086MiB/s ETA 00:000\n",
      "[ffmpeg] Destination: Viral mat salleh Russia mengemis di Malaysia sebab travel gaya backpacker.-Z1FpCckeSsk.mp3\n",
      "Deleting original file Viral mat salleh Russia mengemis di Malaysia sebab travel gaya backpacker.-Z1FpCckeSsk.webm (pass -k to keep)\n"
     ]
    },
    {
     "name": "stderr",
     "output_type": "stream",
     "text": [
      "100%|██████████| 7/7 [07:50<00:00, 67.23s/it]\n"
     ]
    }
   ],
   "source": [
    "import mp\n",
    "mp.multiprocessing(videos, loop, cores = 12, returned = False)"
   ]
  },
  {
   "cell_type": "code",
   "execution_count": 8,
   "metadata": {},
   "outputs": [],
   "source": [
    "# !pip3 install pydub"
   ]
  },
  {
   "cell_type": "code",
   "execution_count": 9,
   "metadata": {},
   "outputs": [],
   "source": [
    "from pydub.silence import split_on_silence, detect_nonsilent\n",
    "from pydub import AudioSegment\n",
    "\n",
    "def split(file, min_silence_len=500, silence_thresh=-20, max_len = 7, keep_silence = 1000):\n",
    "    audio = AudioSegment.from_mp3(file)\n",
    "    audio_chunks = split_on_silence(audio, min_silence_len=min_silence_len, silence_thresh=silence_thresh,\n",
    "                                   keep_silence = keep_silence)\n",
    "    \n",
    "    audios, temp, length = [], [], 0\n",
    "    for i in range(len(audio_chunks)):\n",
    "        if length + audio_chunks[i].duration_seconds >= max_len and len(temp):\n",
    "            audios.append(sum(temp))\n",
    "            temp = []\n",
    "            length = 0\n",
    "        temp.append(audio_chunks[i])\n",
    "        length += audio_chunks[i].duration_seconds\n",
    "\n",
    "    if len(temp):\n",
    "        audios.append(sum(temp))\n",
    "        \n",
    "    return audios, audio"
   ]
  },
  {
   "cell_type": "code",
   "execution_count": 13,
   "metadata": {},
   "outputs": [],
   "source": [
    "import speech_recognition as sr\n",
    "import os\n",
    "import uuid\n",
    "\n",
    "r = sr.Recognizer()"
   ]
  },
  {
   "cell_type": "code",
   "execution_count": 14,
   "metadata": {},
   "outputs": [
    {
     "data": {
      "text/plain": [
       "['english',\n",
       " 'indonesian',\n",
       " 'malay',\n",
       " 'mandarin',\n",
       " 'manglish',\n",
       " 'not a language',\n",
       " 'others']"
      ]
     },
     "execution_count": 14,
     "metadata": {},
     "output_type": "execute_result"
    }
   ],
   "source": [
    "labels = [\n",
    "    'english',\n",
    "    'malay',\n",
    "    'mandarin',\n",
    "    'manglish',\n",
    "    'indonesian',\n",
    "    'others',\n",
    "    'not a language',\n",
    "]\n",
    "sorted(labels)"
   ]
  },
  {
   "cell_type": "code",
   "execution_count": null,
   "metadata": {},
   "outputs": [],
   "source": []
  }
 ],
 "metadata": {
  "kernelspec": {
   "display_name": "Python 3",
   "language": "python",
   "name": "python3"
  },
  "language_info": {
   "codemirror_mode": {
    "name": "ipython",
    "version": 3
   },
   "file_extension": ".py",
   "mimetype": "text/x-python",
   "name": "python",
   "nbconvert_exporter": "python",
   "pygments_lexer": "ipython3",
   "version": "3.6.9"
  }
 },
 "nbformat": 4,
 "nbformat_minor": 4
}

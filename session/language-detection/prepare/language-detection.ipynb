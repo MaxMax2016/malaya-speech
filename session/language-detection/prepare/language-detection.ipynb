{
 "cells": [
  {
   "cell_type": "code",
   "execution_count": 1,
   "metadata": {},
   "outputs": [
    {
     "name": "stderr",
     "output_type": "stream",
     "text": [
      "/home/ubuntu/.local/lib/python3.6/site-packages/numba/core/errors.py:149: UserWarning: Insufficiently recent colorama version found. Numba requires colorama >= 0.3.9\n",
      "  warnings.warn(msg)\n"
     ]
    }
   ],
   "source": [
    "import tensorflow as tf\n",
    "import numpy as np\n",
    "import librosa\n",
    "import soundfile as sf\n",
    "from pydub import AudioSegment\n",
    "from glob import glob\n",
    "import random"
   ]
  },
  {
   "cell_type": "code",
   "execution_count": 2,
   "metadata": {},
   "outputs": [],
   "source": [
    "def int_to_float(array, type = np.float32):\n",
    "    \"\"\"\n",
    "    Change np.array int16 into np.float32\n",
    "\n",
    "    Parameters\n",
    "    ----------\n",
    "    array: np.array\n",
    "    type: np.float32\n",
    "\n",
    "    Returns\n",
    "    -------\n",
    "    result : np.array\n",
    "    \"\"\"\n",
    "\n",
    "    if array.dtype == type:\n",
    "        return array\n",
    "\n",
    "    if array.dtype not in [np.float16, np.float32, np.float64]:\n",
    "        array = array.astype(np.float32) / np.max(np.abs(array))\n",
    "\n",
    "    return array"
   ]
  },
  {
   "cell_type": "code",
   "execution_count": 3,
   "metadata": {},
   "outputs": [],
   "source": [
    "from scipy import interpolate\n",
    "\n",
    "def change_samplerate(data, old_samplerate, new_samplerate):\n",
    "    old_audio = data\n",
    "    duration = data.shape[0] / old_samplerate\n",
    "    time_old = np.linspace(0, duration, old_audio.shape[0])\n",
    "    time_new = np.linspace(\n",
    "        0, duration, int(old_audio.shape[0] * new_samplerate / old_samplerate)\n",
    "    )\n",
    "\n",
    "    interpolator = interpolate.interp1d(time_old, old_audio.T)\n",
    "    data = interpolator(time_new).T\n",
    "    return data\n",
    "\n",
    "\n",
    "def read_flac(file, sample_rate = 16000):\n",
    "    data, old_samplerate = sf.read(file)\n",
    "    if len(data.shape) == 2:\n",
    "        data = data[:, 0]\n",
    "    if old_samplerate != sample_rate:\n",
    "        data = change_samplerate(data, old_samplerate, sample_rate)\n",
    "    return data, sample_rate\n",
    "\n",
    "\n",
    "def read_wav(file, sample_rate = 16000):\n",
    "    y, sr = librosa.load(file, sr = sample_rate)\n",
    "    return y, sr\n",
    "\n",
    "def read_mp3(file, sample_rate = 16000):\n",
    "    audio = AudioSegment.from_mp3(file)\n",
    "    a = np.array(audio.set_frame_rate(sample_rate).set_channels(1).get_array_of_samples())\n",
    "    return int_to_float(a), sample_rate\n",
    "\n",
    "def read_file(file):\n",
    "    if '.flac' in file:\n",
    "        y, sr = read_flac(file)\n",
    "    if '.wav' in file:\n",
    "        y, sr = read_wav(file)\n",
    "    if '.mp3' in file:\n",
    "        y, sr = read_mp3(file)\n",
    "    return y, sr"
   ]
  },
  {
   "cell_type": "code",
   "execution_count": 4,
   "metadata": {},
   "outputs": [],
   "source": [
    "def sampling(combined, frame_duration_ms = 700, sample_rate = 16000):\n",
    "    n = int(sample_rate * (frame_duration_ms / 1000.0))\n",
    "    offset = 0\n",
    "    while offset + n <= len(combined):\n",
    "        yield combined[offset : offset + n]\n",
    "        offset += n\n",
    "    if offset < len(combined):\n",
    "        yield combined[offset:]"
   ]
  },
  {
   "cell_type": "code",
   "execution_count": 5,
   "metadata": {},
   "outputs": [],
   "source": [
    "labels = [\n",
    "    'english',\n",
    "    'indonesian',\n",
    "    'malay',\n",
    "    'mandarin',\n",
    "    'manglish',\n",
    "    'others',\n",
    "    'not a language',\n",
    "]"
   ]
  },
  {
   "cell_type": "code",
   "execution_count": 6,
   "metadata": {},
   "outputs": [
    {
     "data": {
      "text/plain": [
       "936"
      ]
     },
     "execution_count": 6,
     "metadata": {},
     "output_type": "execute_result"
    }
   ],
   "source": [
    "len(glob('english/clean-wav/*.wav'))"
   ]
  },
  {
   "cell_type": "code",
   "execution_count": 7,
   "metadata": {},
   "outputs": [
    {
     "data": {
      "text/plain": [
       "1936"
      ]
     },
     "execution_count": 7,
     "metadata": {},
     "output_type": "execute_result"
    }
   ],
   "source": [
    "english = random.sample(glob('LibriSpeech/*/*/*/*.flac'), 1000) + glob('english/clean-wav/*.wav')\n",
    "english = [(m, 'english') for m in english]\n",
    "len(english)"
   ]
  },
  {
   "cell_type": "code",
   "execution_count": 8,
   "metadata": {},
   "outputs": [
    {
     "data": {
      "text/plain": [
       "366"
      ]
     },
     "execution_count": 8,
     "metadata": {},
     "output_type": "execute_result"
    }
   ],
   "source": [
    "len(glob('indon/clean-wav/*.wav'))"
   ]
  },
  {
   "cell_type": "code",
   "execution_count": 9,
   "metadata": {},
   "outputs": [
    {
     "data": {
      "text/plain": [
       "1366"
      ]
     },
     "execution_count": 9,
     "metadata": {},
     "output_type": "execute_result"
    }
   ],
   "source": [
    "indon = glob('indon/clean-wav/*.wav') + random.sample(glob('speech/cv-corpus-5.1-2020-06-22/id/clips/*.mp3'),\n",
    "                                                      1000)\n",
    "indon = [(m, 'indonesian') for m in indon]\n",
    "len(indon)"
   ]
  },
  {
   "cell_type": "code",
   "execution_count": 10,
   "metadata": {},
   "outputs": [
    {
     "data": {
      "text/plain": [
       "759"
      ]
     },
     "execution_count": 10,
     "metadata": {},
     "output_type": "execute_result"
    }
   ],
   "source": [
    "len(glob('malay/clean-wav/*.wav'))"
   ]
  },
  {
   "cell_type": "code",
   "execution_count": 11,
   "metadata": {
    "scrolled": true
   },
   "outputs": [
    {
     "data": {
      "text/plain": [
       "759"
      ]
     },
     "execution_count": 11,
     "metadata": {},
     "output_type": "execute_result"
    }
   ],
   "source": [
    "malay = glob('malay/clean-wav/*.wav')\n",
    "malay = [(m, 'malay') for m in malay]\n",
    "len(malay)"
   ]
  },
  {
   "cell_type": "code",
   "execution_count": 12,
   "metadata": {},
   "outputs": [
    {
     "data": {
      "text/plain": [
       "304"
      ]
     },
     "execution_count": 12,
     "metadata": {},
     "output_type": "execute_result"
    }
   ],
   "source": [
    "len(glob('mandarin/clean-wav/*.wav'))"
   ]
  },
  {
   "cell_type": "code",
   "execution_count": 13,
   "metadata": {},
   "outputs": [
    {
     "data": {
      "text/plain": [
       "1804"
      ]
     },
     "execution_count": 13,
     "metadata": {},
     "output_type": "execute_result"
    }
   ],
   "source": [
    "mandarin = glob('mandarin/clean-wav/*.wav') + random.sample(glob('speech/cv-corpus-5.1-2020-06-22/zh-CN/clips/*.mp3'), 500) \\\n",
    "+ random.sample(glob('speech/cv-corpus-5.1-2020-06-22/zh-HK/clips/*.mp3'), 500) \\\n",
    "+ random.sample(glob('speech/cv-corpus-5.1-2020-06-22/zh-TW/clips/*.mp3'), 500)\n",
    "mandarin = [(m, 'mandarin') for m in mandarin]\n",
    "len(mandarin)"
   ]
  },
  {
   "cell_type": "code",
   "execution_count": 14,
   "metadata": {},
   "outputs": [
    {
     "data": {
      "text/plain": [
       "1188"
      ]
     },
     "execution_count": 14,
     "metadata": {},
     "output_type": "execute_result"
    }
   ],
   "source": [
    "manglish = glob('manglish/clean-wav/*.wav')\n",
    "manglish = [(m, 'manglish') for m in manglish]\n",
    "len(manglish)"
   ]
  },
  {
   "cell_type": "code",
   "execution_count": 15,
   "metadata": {
    "scrolled": true
   },
   "outputs": [],
   "source": [
    "lang = {'en': 'English',\n",
    " 'de': 'German',\n",
    " 'fr': 'French',\n",
    " 'cy': 'Welsh',\n",
    " 'br': 'Breton',\n",
    " 'cv': 'Chuvash',\n",
    " 'tr': 'Turkish',\n",
    " 'tt': 'Tatar',\n",
    " 'ky': 'Kyrgyz',\n",
    " 'ga-IE': 'Irish',\n",
    " 'kab': 'Kabyle',\n",
    " 'ca': 'Catalan',\n",
    " 'zh-TW': 'Chinese (Taiwan)',\n",
    " 'sl': 'Slovenian',\n",
    " 'it': 'Italian',\n",
    " 'nl': 'Dutch',\n",
    " 'cnh': 'Hakha Chin',\n",
    " 'eo': 'Esperanto',\n",
    " 'et': 'Estonian',\n",
    " 'fa': 'Persian',\n",
    " 'eu': 'Basque',\n",
    " 'es': 'Spanish',\n",
    " 'zh-CN': 'Chinese (China)',\n",
    " 'mn': 'Mongolian',\n",
    " 'sah': 'Sakha',\n",
    " 'dv': 'Dhivehi',\n",
    " 'rw': 'Kinyarwanda',\n",
    " 'sv-SE': 'Swedish',\n",
    " 'ru': 'Russian',\n",
    " 'id': 'Indonesian',\n",
    " 'ar': 'Arabic',\n",
    " 'ta': 'Tamil',\n",
    " 'ia': 'Interlingua',\n",
    " 'pt': 'Portuguese',\n",
    " 'lv': 'Latvian',\n",
    " 'ja': 'Japanese',\n",
    " 'vot': 'Votic',\n",
    " 'ab': 'Abkhaz',\n",
    " 'zh-HK': 'Chinese (Hong Kong)',\n",
    " 'rm-sursilv': 'Romansh Sursilvan',\n",
    " 'hsb': 'Sorbian, Upper',\n",
    " 'ro': 'Romanian',\n",
    " 'fy-NL': 'Frisian',\n",
    " 'cs': 'Czech',\n",
    " 'el': 'Greek',\n",
    " 'rm-vallader': 'Romansh Vallader',\n",
    " 'pl': 'Polish',\n",
    " 'as': 'Assamese',\n",
    " 'uk': 'Ukrainian',\n",
    " 'mt': 'Maltese',\n",
    " 'ka': 'Georgian',\n",
    " 'pa-IN': 'Punjabi',\n",
    " 'or': 'Odia',\n",
    " 'vi': 'Vietnamese'}\n",
    "not_in = ['en', 'zh-TW', 'zh-CN', 'zh-HK', 'id']\n",
    "lang = list(set(lang.keys()) - set(not_in))"
   ]
  },
  {
   "cell_type": "code",
   "execution_count": 16,
   "metadata": {
    "scrolled": true
   },
   "outputs": [
    {
     "name": "stderr",
     "output_type": "stream",
     "text": [
      "100%|██████████| 49/49 [01:21<00:00,  1.67s/it]\n"
     ]
    }
   ],
   "source": [
    "from tqdm import tqdm\n",
    "\n",
    "others = []\n",
    "for l in tqdm(lang):\n",
    "    g = glob(f'speech/cv-corpus-5.1-2020-06-22/{l}/clips/*.mp3')\n",
    "    others.extend(random.sample(g, min(len(g), 1000)))\n",
    "    \n",
    "others = [(m, 'others') for m in others]"
   ]
  },
  {
   "cell_type": "code",
   "execution_count": 17,
   "metadata": {},
   "outputs": [
    {
     "data": {
      "text/plain": [
       "45951"
      ]
     },
     "execution_count": 17,
     "metadata": {},
     "output_type": "execute_result"
    }
   ],
   "source": [
    "len(others)"
   ]
  },
  {
   "cell_type": "code",
   "execution_count": 18,
   "metadata": {},
   "outputs": [
    {
     "data": {
      "text/plain": [
       "[('not-music/clean-wav/Relaxing-Background-Music_-relaxdaily-B-Sides-N°1-qycqF1CWcXg-part-006.wav',\n",
       "  'not a language'),\n",
       " ('not-music/clean-wav/Positive-Tropical-Vibes_-Happy-Music-Beats-to-Relax,-Work,-Study-o22uGQ-efQg-part-006.wav',\n",
       "  'not a language'),\n",
       " ('not-music/clean-wav/The-Best-Music-Collection-For-Studying🎵-(Concentration!),-Relaxing-Music,-composed-by-Tido-Kang-★1-nn-0rd2fDsU-part-008.wav',\n",
       "  'not a language'),\n",
       " ('not-music/clean-wav/Dark-Music_-Lucifers-Hymn-_-Choir-gfG9aJzFPd4.wav',\n",
       "  'not a language'),\n",
       " ('not-music/clean-wav/Peaceful-Piano-&-Soft-Rain_-Relaxing-Sleep-Music,-A-Bitter-Rain-hj83cwfOF3Y-part-012.wav',\n",
       "  'not a language'),\n",
       " ('not-music/clean-wav/Upbeat-Music_-Happy-Music-Beats-to-Relax,-Work,-Study-p1IChPfD2-s-part-010.wav',\n",
       "  'not a language'),\n",
       " ('not-music/clean-wav/Upbeat-Music_-Happy-Music-Beats-to-Relax,-Work,-Study-p1IChPfD2-s-part-002.wav',\n",
       "  'not a language'),\n",
       " ('not-music/clean-wav/Relaxing-Background-Music_-relaxdaily-B-Sides-N°1-qycqF1CWcXg-part-012.wav',\n",
       "  'not a language'),\n",
       " ('not-music/clean-wav/Cool-Motivating-Background-Music-for-Sports-&-Workout-Videos-wt8nzHv9Gn8.wav',\n",
       "  'not a language'),\n",
       " ('not-music/clean-wav/Light-Music_-soft,-uplifting,-work,-focus-NQKC24th90U-part-004.wav',\n",
       "  'not a language')]"
      ]
     },
     "execution_count": 18,
     "metadata": {},
     "output_type": "execute_result"
    }
   ],
   "source": [
    "not_music = glob('not-music/clean-wav/*.wav') + glob('musan/music/**/*.wav', recursive = True) \\\n",
    "+ glob('musan/noise/**/*.wav', recursive = True)\n",
    "not_music = [(m, 'not a language') for m in not_music]\n",
    "not_music[:10]"
   ]
  },
  {
   "cell_type": "code",
   "execution_count": 19,
   "metadata": {},
   "outputs": [
    {
     "data": {
      "text/plain": [
       "55030"
      ]
     },
     "execution_count": 19,
     "metadata": {},
     "output_type": "execute_result"
    }
   ],
   "source": [
    "combined_all = english + indon + malay + mandarin + manglish + others + not_music\n",
    "random.shuffle(combined_all)\n",
    "len(combined_all)"
   ]
  },
  {
   "cell_type": "code",
   "execution_count": 20,
   "metadata": {},
   "outputs": [],
   "source": [
    "import os\n",
    "\n",
    "for f in combined_all:\n",
    "    s = os.path.getsize(f[0]) / 1e6\n",
    "    if s > 50:\n",
    "        print(f, s)"
   ]
  },
  {
   "cell_type": "code",
   "execution_count": 21,
   "metadata": {},
   "outputs": [
    {
     "data": {
      "text/plain": [
       "4"
      ]
     },
     "execution_count": 21,
     "metadata": {},
     "output_type": "execute_result"
    }
   ],
   "source": [
    "labels.index(combined_all[-1][1])"
   ]
  },
  {
   "cell_type": "code",
   "execution_count": 22,
   "metadata": {},
   "outputs": [],
   "source": [
    "# y, sr = read_file(combined_all[0][0])"
   ]
  },
  {
   "cell_type": "code",
   "execution_count": 23,
   "metadata": {},
   "outputs": [],
   "source": [
    "# y, sr, combined_all[0][1]"
   ]
  },
  {
   "cell_type": "code",
   "execution_count": 24,
   "metadata": {},
   "outputs": [],
   "source": [
    "import os\n",
    "import tensorflow as tf\n",
    "\n",
    "os.system('rm language-detection/data/*')\n",
    "DATA_DIR = os.path.expanduser('language-detection/data')\n",
    "tf.gfile.MakeDirs(DATA_DIR)"
   ]
  },
  {
   "cell_type": "code",
   "execution_count": 25,
   "metadata": {},
   "outputs": [],
   "source": [
    "import malaya_speech\n",
    "\n",
    "vad = malaya_speech.vad.webrtc()"
   ]
  },
  {
   "cell_type": "code",
   "execution_count": 26,
   "metadata": {},
   "outputs": [],
   "source": [
    "from tqdm import tqdm\n",
    "from malaya_speech.train import prepare_data\n",
    "from collections import defaultdict\n",
    "import warnings\n",
    "warnings.filterwarnings('error')\n",
    "\n",
    "def loop(files, dupe_factor = 2):\n",
    "    files, no = files\n",
    "    fname = f'{DATA_DIR}/part-{no}.tfrecords'\n",
    "    writer = tf.python_io.TFRecordWriter(fname)\n",
    "    counts = defaultdict(int)\n",
    "    for file in tqdm(files):\n",
    "        try:\n",
    "            wav = read_file(file[0])[0]\n",
    "            for _ in range(dupe_factor):\n",
    "                fs = sampling(wav, random.randint(500, 2000))\n",
    "                for s in fs:\n",
    "                    try:\n",
    "                        if file[1] != 'not a language':\n",
    "                            n = malaya_speech.utils.astype.float_to_int(s)\n",
    "                            frames = malaya_speech.utils.generator.frames(n, 30, 16000, append_ending_trail=False)\n",
    "                            frames = [f.array for f in frames if vad(f)]\n",
    "                            n = malaya_speech.utils.astype.int_to_float(np.concatenate(frames))\n",
    "                        else:\n",
    "                            n = s\n",
    "                        if len(n) > 50:\n",
    "                            example = prepare_data.to_example({'inputs': n.tolist(), \n",
    "                                                               'targets': [labels.index(file[1])]})\n",
    "                            writer.write(example.SerializeToString())\n",
    "                            counts[file[1]] += 1\n",
    "                    except Exception as e:\n",
    "                        pass\n",
    "        except Exception as e:\n",
    "            pass\n",
    "\n",
    "    writer.close()\n",
    "    return [counts]"
   ]
  },
  {
   "cell_type": "code",
   "execution_count": 27,
   "metadata": {},
   "outputs": [
    {
     "name": "stderr",
     "output_type": "stream",
     "text": [
      " 26%|██▌       | 1425/5503 [17:23<29:25,  2.31it/s]t]IOPub message rate exceeded.\n",
      "The notebook server will temporarily stop sending output\n",
      "to the client in order to avoid crashing it.\n",
      "To change this limit, set the config variable\n",
      "`--NotebookApp.iopub_msg_rate_limit`.\n",
      "\n",
      "Current values:\n",
      "NotebookApp.iopub_msg_rate_limit=1000.0 (msgs/sec)\n",
      "NotebookApp.rate_limit_window=3.0 (secs)\n",
      "\n",
      " 44%|████▍     | 2430/5503 [30:38<33:35,  1.52it/s]t]IOPub message rate exceeded.\n",
      "The notebook server will temporarily stop sending output\n",
      "to the client in order to avoid crashing it.\n",
      "To change this limit, set the config variable\n",
      "`--NotebookApp.iopub_msg_rate_limit`.\n",
      "\n",
      "Current values:\n",
      "NotebookApp.iopub_msg_rate_limit=1000.0 (msgs/sec)\n",
      "NotebookApp.rate_limit_window=3.0 (secs)\n",
      "\n",
      " 62%|██████▏   | 3393/5503 [43:37<12:22,  2.84it/s]  IOPub message rate exceeded.\n",
      "The notebook server will temporarily stop sending output\n",
      "to the client in order to avoid crashing it.\n",
      "To change this limit, set the config variable\n",
      "`--NotebookApp.iopub_msg_rate_limit`.\n",
      "\n",
      "Current values:\n",
      "NotebookApp.iopub_msg_rate_limit=1000.0 (msgs/sec)\n",
      "NotebookApp.rate_limit_window=3.0 (secs)\n",
      "\n",
      " 80%|████████  | 4405/5503 [56:04<07:43,  2.37it/s]  IOPub message rate exceeded.\n",
      "The notebook server will temporarily stop sending output\n",
      "to the client in order to avoid crashing it.\n",
      "To change this limit, set the config variable\n",
      "`--NotebookApp.iopub_msg_rate_limit`.\n",
      "\n",
      "Current values:\n",
      "NotebookApp.iopub_msg_rate_limit=1000.0 (msgs/sec)\n",
      "NotebookApp.rate_limit_window=3.0 (secs)\n",
      "\n",
      "100%|██████████| 5503/5503 [1:05:25<00:00,  1.40it/s]\n",
      "100%|██████████| 5503/5503 [1:05:34<00:00,  1.40it/s]\n",
      "100%|██████████| 5503/5503 [1:06:18<00:00,  1.38it/s]\n",
      "100%|██████████| 5503/5503 [1:06:26<00:00,  1.38it/s]\n",
      "100%|██████████| 5503/5503 [1:06:38<00:00,  1.38it/s]\n",
      "100%|██████████| 5503/5503 [1:07:34<00:00,  1.36it/s]\n",
      "100%|██████████| 5503/5503 [1:07:40<00:00,  1.36it/s]\n",
      "100%|██████████| 5503/5503 [1:08:21<00:00,  1.34it/s]\n"
     ]
    }
   ],
   "source": [
    "import mp\n",
    "returned = mp.multiprocessing(combined_all, loop, cores = 10)"
   ]
  },
  {
   "cell_type": "code",
   "execution_count": 28,
   "metadata": {},
   "outputs": [
    {
     "data": {
      "text/plain": [
       "defaultdict(int,\n",
       "            {'others': 368462,\n",
       "             'not a language': 722172,\n",
       "             'indonesian': 270169,\n",
       "             'malay': 380161,\n",
       "             'manglish': 637166,\n",
       "             'english': 963546,\n",
       "             'mandarin': 171210})"
      ]
     },
     "execution_count": 28,
     "metadata": {},
     "output_type": "execute_result"
    }
   ],
   "source": [
    "combined_d = defaultdict(int)\n",
    "for d in returned:\n",
    "    for k, v in d.items():\n",
    "        combined_d[k] += v\n",
    "combined_d"
   ]
  },
  {
   "cell_type": "code",
   "execution_count": null,
   "metadata": {},
   "outputs": [],
   "source": []
  },
  {
   "cell_type": "code",
   "execution_count": null,
   "metadata": {},
   "outputs": [],
   "source": []
  }
 ],
 "metadata": {
  "kernelspec": {
   "display_name": "Python 3",
   "language": "python",
   "name": "python3"
  },
  "language_info": {
   "codemirror_mode": {
    "name": "ipython",
    "version": 3
   },
   "file_extension": ".py",
   "mimetype": "text/x-python",
   "name": "python",
   "nbconvert_exporter": "python",
   "pygments_lexer": "ipython3",
   "version": "3.6.9"
  }
 },
 "nbformat": 4,
 "nbformat_minor": 4
}

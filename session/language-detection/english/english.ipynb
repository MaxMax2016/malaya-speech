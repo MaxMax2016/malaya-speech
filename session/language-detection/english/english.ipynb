{
 "cells": [
  {
   "cell_type": "code",
   "execution_count": 1,
   "metadata": {},
   "outputs": [],
   "source": [
    "videos = \"\"\"\n",
    "https://www.youtube.com/watch?v=SwQhKFMxmDY&t=6743s\n",
    "https://www.youtube.com/watch?v=DniYqaKJIpU&ab_channel=DelMerrihew\n",
    "https://www.youtube.com/watch?v=by10xkaZOJ0&ab_channel=AmberlyWhiddon\n",
    "https://www.youtube.com/watch?v=EEPzn459L6M&ab_channel=LanelleRiggleman\n",
    "https://www.youtube.com/watch?v=T9JiCnb1dnM&ab_channel=DelaineHaveman\n",
    "https://www.youtube.com/watch?v=v-TgucmkS8Q&ab_channel=OzieCoke\n",
    "https://www.youtube.com/watch?v=djAbIHO4fZA&ab_channel=OzieCoke\n",
    "https://www.youtube.com/watch?v=U7QxzZkIB7I&ab_channel=JudeAudio\n",
    "https://www.youtube.com/watch?v=LIFK00vf8Y4&ab_channel=TopAudiobooks\n",
    "https://www.youtube.com/watch?v=z5gsdgArqaA&ab_channel=valentinetramble\n",
    "https://www.youtube.com/watch?v=OACcNj52KXo&ab_channel=valentinetramble\n",
    "https://www.youtube.com/watch?v=TEZkojZoz0I&ab_channel=valentinetramble\n",
    "https://www.youtube.com/watch?v=TtQvZgiuiLk&ab_channel=AlanaNiel\n",
    "https://www.youtube.com/watch?v=xK5YtTmvAPU&ab_channel=Scarlet%27sAudio\n",
    "https://www.youtube.com/watch?v=I0HE6gMhOjk&ab_channel=AlbertinaVictor\n",
    "https://www.youtube.com/watch?v=yXmOHP5sBxs\n",
    "https://www.youtube.com/watch?v=QNXQjq5RaFs\n",
    "https://www.youtube.com/watch?v=21JshfFFH7Q\n",
    "https://www.youtube.com/watch?v=X1C8uh-rcKM\n",
    "https://www.youtube.com/watch?v=2lhZsg7hjcc\n",
    "https://www.youtube.com/watch?v=sO9KE_HDZvI\n",
    "https://www.youtube.com/watch?v=6yjJKElk3mM\n",
    "https://www.youtube.com/watch?v=PEmaWdfUUuk\n",
    "https://www.youtube.com/watch?v=8wpOTkNOyqo\n",
    "https://www.youtube.com/watch?v=yaWVflQolmM\n",
    "https://www.youtube.com/watch?v=oLr5G5wcG3g\n",
    "https://www.youtube.com/watch?v=Aal1tzmnVIw\n",
    "https://www.youtube.com/watch?v=qw79r3Jc7Eo\n",
    "https://www.youtube.com/watch?v=97HiavAClUk\n",
    "https://www.youtube.com/watch?v=yQqlXBBFGos\n",
    "https://www.youtube.com/watch?v=j-bSjzIPRro\n",
    "https://www.youtube.com/watch?v=ikJq6wcgrXI\n",
    "https://www.youtube.com/watch?v=EED-LEWOCv0\n",
    "https://www.youtube.com/watch?v=t7uqHosIj4s\n",
    "https://www.youtube.com/watch?v=gzAQ7SklDxo\n",
    "https://www.youtube.com/watch?v=9iOGfAAticY\n",
    "https://www.youtube.com/watch?v=_Rl82OQDoOc\n",
    "https://www.youtube.com/watch?v=TDKYSLDq6es\n",
    "https://www.youtube.com/watch?v=1mgN8r1mwvM\n",
    "https://www.youtube.com/watch?v=j9NeQTkJjIs\n",
    "\"\"\"\n",
    "videos = list(set(filter(None, videos.split('\\n'))))\n",
    "len(videos)"
   ]
  },
  {
   "cell_type": "code",
   "execution_count": 2,
   "metadata": {},
   "outputs": [],
   "source": [
    "import youtube_dl"
   ]
  },
  {
   "cell_type": "code",
   "execution_count": 3,
   "metadata": {},
   "outputs": [],
   "source": [
    "import mp\n",
    "from tqdm import tqdm\n",
    "\n",
    "def loop(urls):\n",
    "    urls = urls[0]\n",
    "    ydl_opts = {\n",
    "        'format': 'bestaudio/best',\n",
    "        'postprocessors': [{\n",
    "            'key': 'FFmpegExtractAudio',\n",
    "            'preferredcodec': 'mp3',\n",
    "            'preferredquality': '192',\n",
    "        }],\n",
    "        'no-check-certificate': True\n",
    "    }\n",
    "\n",
    "    for i in tqdm(range(len(urls))):\n",
    "        try:\n",
    "            with youtube_dl.YoutubeDL(ydl_opts) as ydl:\n",
    "                ydl.download([urls[i]])\n",
    "        except:\n",
    "            pass"
   ]
  },
  {
   "cell_type": "code",
   "execution_count": 4,
   "metadata": {
    "scrolled": true
   },
   "outputs": [
    {
     "name": "stderr",
     "output_type": "stream",
     "text": [
      "  0%|          | 0/3 [00:00<?, ?it/s]"
     ]
    },
    {
     "name": "stdout",
     "output_type": "stream",
     "text": [
      "[youtube] EEPzn459L6M: Downloading webpage\n",
      "[youtube] by10xkaZOJ0: Downloading webpage\n",
      "[youtube] ikJq6wcgrXI: Downloading webpage\n",
      "[youtube] OACcNj52KXo: Downloading webpage\n",
      "[youtube] yQqlXBBFGos: Downloading webpage\n",
      "[youtube] Aal1tzmnVIw: Downloading webpage\n",
      "[youtube] SwQhKFMxmDY: Downloading webpage\n",
      "[youtube] djAbIHO4fZA: Downloading webpage\n",
      "[youtube] 6yjJKElk3mM: Downloading webpage\n",
      "[youtube] X1C8uh-rcKM: Downloading webpage\n",
      "[download] What I Talk about When I Talk about Running Audiobook-EEPzn459L6M.m4a has already been downloaded\n",
      "[youtube] 9iOGfAAticY: Downloading webpage\n",
      "[download] 100% of 245.55MiB\n",
      "[youtube] yaWVflQolmM: Downloading webpage\n",
      "[ffmpeg] Correcting container in \"What I Talk about When I Talk about Running Audiobook-EEPzn459L6M.m4a\"\n",
      "[download] Joe Rogan Experience #1544 - Tim Dillon-ikJq6wcgrXI.m4a has already been downloaded\n",
      "[download] 100% of 143.12MiB\n"
     ]
    },
    {
     "name": "stderr",
     "output_type": "stream",
     "text": [
      "ERROR: OACcNj52KXo: YouTube said: Unable to extract video data\n",
      " 33%|███▎      | 1/3 [00:02<00:04,  2.09s/it]"
     ]
    },
    {
     "name": "stdout",
     "output_type": "stream",
     "text": [
      "[download] Destination: Audiobook HD Audio The Obsession by Nora Roberts 1_2-by10xkaZOJ0.webm\n",
      "[download]   0.0% of 331.07MiB at 322.27KiB/s ETA 17:32[ffmpeg] Correcting container in \"Joe Rogan Experience #1544 - Tim Dillon-ikJq6wcgrXI.m4a\"\n",
      "[download]   0.6% of 331.07MiB at  9.71MiB/s ETA 00:334[youtube] TtQvZgiuiLk: Downloading webpage\n",
      "[download]   1.2% of 331.07MiB at 16.68MiB/s ETA 00:19[download] Purpose Is An Inside Job _ Rich Roll Podcast-yQqlXBBFGos.webm has already been downloaded\n",
      "[download] 100% of 96.06MiB\n",
      "[download]   2.4% of 331.07MiB at 22.84MiB/s ETA 00:14[download] Joe Rogan Experience #1537 - Lex Fridman-9iOGfAAticY.m4a has already been downloaded\n",
      "[download] Destination: Mindset Tactics For Olympic Success - Apolo Ohno _ Rich Roll Podcast-Aal1tzmnVIw.webm\n",
      "[download] 100% of 167.84MiB\n",
      "[download]   0.0% of 102.31MiB at 44.96KiB/s ETA 38:51[download] Destination: Audiobook HD Audio Cats Cradle by Kurt Vonnegut-djAbIHO4fZA.m4a\n",
      "[download]   0.0% of 102.31MiB at 324.59KiB/s ETA 05:22nown ETA[ffmpeg] Destination: Purpose Is An Inside Job _ Rich Roll Podcast-yQqlXBBFGos.mp3\n",
      "[download]   0.1% of 327.69MiB at  2.29MiB/s ETA 02:223[download] Is Your Drinking Water Safe Erin Brockovich _ Rich Roll Podcast-X1C8uh-rcKM.webm has already been downloaded\n",
      "[download]   3.0% of 331.07MiB at 234.77KiB/s ETA 23:21[download] Journey Inward - Jay Shetty _ Rich Roll Podcast-6yjJKElk3mM.m4a has already been downloaded\n",
      "[download] 100% of 92.18MiBMiB at 407.05KiB/s ETA 13:28\n",
      "[download] 100% of 111.27MiBiB at 694.64KiB/s ETA 07:53\n",
      "[download]   3.6% of 331.07MiB at  9.91MiB/s ETA 00:322[download] Change Your Brain - Neuroscientist Dr. Andrew Huberman _ Rich Roll Podcast-SwQhKFMxmDY.webm has already been downloaded\n",
      "[download] 100% of 123.43MiB\n",
      "[download]   5.9% of 331.07MiB at 31.12MiB/s ETA 00:104nown ETA[ffmpeg] Destination: Is Your Drinking Water Safe Erin Brockovich _ Rich Roll Podcast-X1C8uh-rcKM.mp3\n",
      "[download]   3.0% of 327.69MiB at 166.60KiB/s ETA 32:33nown ETA[ffmpeg] Correcting container in \"Joe Rogan Experience #1537 - Lex Fridman-9iOGfAAticY.m4a\"\n",
      "[download]  10.3% of 102.31MiB at  4.88MiB/s ETA 00:187[ffmpeg] Destination: Change Your Brain - Neuroscientist Dr. Andrew Huberman _ Rich Roll Podcast-SwQhKFMxmDY.mp3\n",
      "[download]   5.9% of 331.07MiB at  1.07MiB/s ETA 04:490[download] Destination: Audiobook HD Audio The Silent Waters Elements, #3 Brittainy C. Cherry-TtQvZgiuiLk.m4a\n",
      "[download]   3.6% of 327.69MiB at  9.87MiB/s ETA 00:315:57[download] The Insane Benefits of Water-Only Fasting - Dr. Alan Goldhamer _ Rich Roll Podcast-yaWVflQolmM.webm has already been downloaded\n",
      "[download] 100% of 95.40MiBMiB at 692.48KiB/s ETA 12:51\n",
      "[download]   8.8% of 331.07MiB at Unknown speed ETA Unknown ETA[ffmpeg] Correcting container in \"Journey Inward - Jay Shetty _ Rich Roll Podcast-6yjJKElk3mM.m4a\"\n",
      "[download]   9.0% of 331.07MiB at  2.67MiB/s ETA 01:522nown ETA[ffmpeg] Destination: The Insane Benefits of Water-Only Fasting - Dr. Alan Goldhamer _ Rich Roll Podcast-yaWVflQolmM.mp3\n",
      "[download]  38.6% of 331.07MiB at 160.16KiB/s ETA 21:40nown ETA[ffmpeg] Destination: Joe Rogan Experience #1544 - Tim Dillon-ikJq6wcgrXI.mp3\n",
      "[download]  44.8% of 327.69MiB at 25.69MiB/s ETA 00:077nown ETA[ffmpeg] Destination: Journey Inward - Jay Shetty _ Rich Roll Podcast-6yjJKElk3mM.mp3\n",
      "[download]  33.8% of 522.04MiB at  1.29MiB/s ETA 04:279nown ETA[ffmpeg] Destination: Joe Rogan Experience #1537 - Lex Fridman-9iOGfAAticY.mp3\n",
      "[download]  41.4% of 522.04MiB at  2.76MiB/s ETA 01:512nown ETA[ffmpeg] Destination: What I Talk about When I Talk about Running Audiobook-EEPzn459L6M.mp3\n",
      "[download] 100% of 102.31MiB in 00:11.35KiB/s ETA 03:42nown ETA\n",
      "[download]  58.5% of 522.04MiB at  9.51MiB/s ETA 00:227nown ETA[ffmpeg] Destination: Mindset Tactics For Olympic Success - Apolo Ohno _ Rich Roll Podcast-Aal1tzmnVIw.mp3\n",
      "[download] 100% of 327.69MiB in 00:1414MiB/s ETA 00:008nown ETA\n",
      "[download]  72.9% of 522.04MiB at 107.71KiB/s ETA 22:25nown ETA[ffmpeg] Correcting container in \"Audiobook HD Audio Cats Cradle by Kurt Vonnegut-djAbIHO4fZA.m4a\"\n",
      "[download] 100% of 331.07MiB in 00:1941MiB/s ETA 00:000nown ETA\n",
      "[download]  93.5% of 522.04MiB at 724.47KiB/s ETA 00:48nown ETA[ffmpeg] Destination: Audiobook HD Audio The Obsession by Nora Roberts 1_2-by10xkaZOJ0.mp3\n",
      "[download] 100% of 522.04MiB in 00:1981MiB/s ETA 00:0004own ETA\n",
      "[ffmpeg] Correcting container in \"Audiobook HD Audio The Silent Waters Elements, #3 Brittainy C. Cherry-TtQvZgiuiLk.m4a\"\n",
      "[ffmpeg] Destination: Audiobook HD Audio Cats Cradle by Kurt Vonnegut-djAbIHO4fZA.mp3\n",
      "[ffmpeg] Destination: Audiobook HD Audio The Silent Waters Elements, #3 Brittainy C. Cherry-TtQvZgiuiLk.mp3\n",
      "Deleting original file Journey Inward - Jay Shetty _ Rich Roll Podcast-6yjJKElk3mM.m4a (pass -k to keep)\n"
     ]
    },
    {
     "name": "stderr",
     "output_type": "stream",
     "text": [
      "\r",
      " 33%|███▎      | 1/3 [07:57<15:54, 477.00s/it]"
     ]
    },
    {
     "name": "stdout",
     "output_type": "stream",
     "text": [
      "[youtube] gzAQ7SklDxo: Downloading webpage\n",
      "[download] Destination: Joe Rogan Experience #1543 - Brian Muraresku & Graham Hancock-gzAQ7SklDxo.m4a\n",
      "[download] 100% of 143.25MiB in 00:1117MiB/s ETA 00:008nown ETA\n",
      "[ffmpeg] Correcting container in \"Joe Rogan Experience #1543 - Brian Muraresku & Graham Hancock-gzAQ7SklDxo.m4a\"\n",
      "[ffmpeg] Destination: Joe Rogan Experience #1543 - Brian Muraresku & Graham Hancock-gzAQ7SklDxo.mp3\n",
      "Deleting original file Is Your Drinking Water Safe Erin Brockovich _ Rich Roll Podcast-X1C8uh-rcKM.webm (pass -k to keep)\n"
     ]
    },
    {
     "name": "stderr",
     "output_type": "stream",
     "text": [
      "\r",
      " 33%|███▎      | 1/3 [10:01<20:03, 601.53s/it]"
     ]
    },
    {
     "name": "stdout",
     "output_type": "stream",
     "text": [
      "[youtube] EED-LEWOCv0: Downloading webpage\n",
      "[download] Joe Rogan Experience #1539 - Jenny Kleeman-EED-LEWOCv0.m4a has already been downloaded\n",
      "[download] 100% of 123.42MiB\n",
      "[ffmpeg] Correcting container in \"Joe Rogan Experience #1539 - Jenny Kleeman-EED-LEWOCv0.m4a\"\n",
      "Deleting original file Joe Rogan Experience #1544 - Tim Dillon-ikJq6wcgrXI.m4a (pass -k to keep)\n"
     ]
    },
    {
     "name": "stderr",
     "output_type": "stream",
     "text": [
      "\r",
      " 33%|███▎      | 1/3 [10:22<20:45, 622.75s/it]"
     ]
    },
    {
     "name": "stdout",
     "output_type": "stream",
     "text": [
      "[youtube] sO9KE_HDZvI: Downloading webpage\n",
      "[download] Destination: Habit Change Made Easy - Rangan Chatterjee, MD _ Rich Roll Podcast-sO9KE_HDZvI.webm\n",
      "[download]  52.7% of 108.25MiB at  8.57MiB/s ETA 00:053nown ETA[ffmpeg] Destination: Joe Rogan Experience #1539 - Jenny Kleeman-EED-LEWOCv0.mp3\n",
      "[download]  54.2% of 108.25MiB at 412.73KiB/s ETA 02:02nown ETADeleting original file The Insane Benefits of Water-Only Fasting - Dr. Alan Goldhamer _ Rich Roll Podcast-yaWVflQolmM.webm (pass -k to keep)\n",
      "[download]  54.3% of 108.25MiB at 711.02KiB/s ETA 01:11"
     ]
    },
    {
     "name": "stderr",
     "output_type": "stream",
     "text": [
      "\r",
      " 33%|███▎      | 1/3 [10:31<21:03, 631.51s/it]"
     ]
    },
    {
     "name": "stdout",
     "output_type": "stream",
     "text": [
      "[download]  57.9% of 108.25MiB at  8.99MiB/s ETA 00:05[youtube] TEZkojZoz0I: Downloading webpage\n",
      "[download]  64.2% of 108.25MiB at  6.04MiB/s ETA 00:066nown ETA[download] Destination: Audiobook HD Audio - Bernard Cornwell - The Winter King (The Warlord Chronicles, #1) vol2-TEZkojZoz0I.m4a\n",
      "[download] 100% of 108.25MiB in 00:1284MiB/s ETA 00:001nown ETA\n",
      "[download]   7.7% of 502.82MiB at 936.05KiB/s ETA 08:27nown ETA[ffmpeg] Destination: Habit Change Made Easy - Rangan Chatterjee, MD _ Rich Roll Podcast-sO9KE_HDZvI.mp3\n",
      "[download]  95.7% of 502.82MiB at 15.03MiB/s ETA 00:0125own ETADeleting original file Mindset Tactics For Olympic Success - Apolo Ohno _ Rich Roll Podcast-Aal1tzmnVIw.webm (pass -k to keep)\n"
     ]
    },
    {
     "name": "stderr",
     "output_type": "stream",
     "text": [
      "\r",
      " 33%|███▎      | 1/3 [11:20<22:40, 680.38s/it]"
     ]
    },
    {
     "name": "stdout",
     "output_type": "stream",
     "text": [
      "[download]  97.0% of 502.82MiB at  4.83MiB/s ETA 00:036nown ETA[youtube] DniYqaKJIpU: Downloading webpage\n",
      "[download]  98.8% of 502.82MiB at 912.60KiB/s ETA 00:06nown ETA[download] Destination: Audiobook HD Audio All I Want (Alabama Summer, #2) by J. Daniels-DniYqaKJIpU.webm\n",
      "[download] 100% of 502.82MiB in 00:4986MiB/s ETA 00:009:19\n",
      "[download]   1.0% of 397.99MiB at  8.60MiB/s ETA 00:45Deleting original file Purpose Is An Inside Job _ Rich Roll Podcast-yQqlXBBFGos.webm (pass -k to keep)\n",
      "[download]   2.0% of 397.99MiB at  9.93MiB/s ETA 00:39"
     ]
    },
    {
     "name": "stderr",
     "output_type": "stream",
     "text": [
      "\r",
      " 33%|███▎      | 1/3 [11:22<22:45, 682.50s/it]"
     ]
    },
    {
     "name": "stdout",
     "output_type": "stream",
     "text": [
      "[download]   2.5% of 397.99MiB at  9.93MiB/s ETA 00:39[ffmpeg] Correcting container in \"Audiobook HD Audio - Bernard Cornwell - The Winter King (The Warlord Chronicles, #1) vol2-TEZkojZoz0I.m4a\"\n",
      "[download]   3.0% of 397.99MiB at  9.14MiB/s ETA 00:427nown ETA[youtube] QNXQjq5RaFs: Downloading webpage\n",
      "[download]   4.5% of 397.99MiB at 10.78MiB/s ETA 00:35[download] Destination: A Planet Based Lifestyle _ Rich Roll Podcast-QNXQjq5RaFs.webm\n",
      "[download] 100% of 102.51MiB in 00:1040MiB/s ETA 00:006nown ETA\n",
      "[download]  31.4% of 397.99MiB at 10.78MiB/s ETA 00:25[ffmpeg] Destination: A Planet Based Lifestyle _ Rich Roll Podcast-QNXQjq5RaFs.mp3\n",
      "[download] 100% of 397.99MiB in 00:3884MiB/s ETA 00:008nown ETA\n",
      "[ffmpeg] Destination: Audiobook HD Audio All I Want (Alabama Summer, #2) by J. Daniels-DniYqaKJIpU.mp3\n",
      "Deleting original file Joe Rogan Experience #1537 - Lex Fridman-9iOGfAAticY.m4a (pass -k to keep)\n"
     ]
    },
    {
     "name": "stderr",
     "output_type": "stream",
     "text": [
      "\r",
      " 33%|███▎      | 1/3 [12:05<24:11, 725.69s/it]"
     ]
    },
    {
     "name": "stdout",
     "output_type": "stream",
     "text": [
      "[youtube] oLr5G5wcG3g: Downloading webpage\n",
      "[download] Destination: Beirut, Single Use Plastic, Mentors, City Flight + More _ AMA Rich Roll Podcast-oLr5G5wcG3g.webm\n",
      "[download]  50.1% of 105.19MiB at 13.12MiB/s ETA 00:0356own ETA[ffmpeg] Destination: Audiobook HD Audio - Bernard Cornwell - The Winter King (The Warlord Chronicles, #1) vol2-TEZkojZoz0I.mp3\n",
      "[download] 100% of 105.19MiB in 00:0924MiB/s ETA 00:000nown ETA\n",
      "[ffmpeg] Destination: Beirut, Single Use Plastic, Mentors, City Flight + More _ AMA Rich Roll Podcast-oLr5G5wcG3g.mp3\n",
      "Deleting original file Change Your Brain - Neuroscientist Dr. Andrew Huberman _ Rich Roll Podcast-SwQhKFMxmDY.webm (pass -k to keep)\n"
     ]
    },
    {
     "name": "stderr",
     "output_type": "stream",
     "text": [
      "\r",
      " 33%|███▎      | 1/3 [13:59<27:58, 839.25s/it]"
     ]
    },
    {
     "name": "stdout",
     "output_type": "stream",
     "text": [
      "[youtube] 1mgN8r1mwvM: Downloading webpage\n",
      "[download] Destination: Joe Rogan Experience #1534 - Ron White-1mgN8r1mwvM.webm\n",
      "[download] 100% of 142.85MiB in 00:0646MiB/s ETA 00:007nown ETA\n",
      "[ffmpeg] Destination: Joe Rogan Experience #1534 - Ron White-1mgN8r1mwvM.mp3\n",
      "Deleting original file What I Talk about When I Talk about Running Audiobook-EEPzn459L6M.m4a (pass -k to keep)\n"
     ]
    },
    {
     "name": "stderr",
     "output_type": "stream",
     "text": [
      "\r",
      " 33%|███▎      | 1/3 [16:41<33:22, 1001.18s/it]"
     ]
    },
    {
     "name": "stdout",
     "output_type": "stream",
     "text": [
      "[youtube] 8wpOTkNOyqo: Downloading webpage\n",
      "[download] Destination: Darin Olien Hunts More Than Superfoods _ Rich Roll Podcast-8wpOTkNOyqo.webm\n",
      "[download] 100% of 100.09MiB in 00:0955MiB/s ETA 00:004nown ETA\n",
      "[ffmpeg] Destination: Darin Olien Hunts More Than Superfoods _ Rich Roll Podcast-8wpOTkNOyqo.mp3\n",
      "Deleting original file Joe Rogan Experience #1543 - Brian Muraresku & Graham Hancock-gzAQ7SklDxo.m4a (pass -k to keep)\n"
     ]
    },
    {
     "name": "stderr",
     "output_type": "stream",
     "text": [
      "\r",
      " 67%|██████▋   | 2/3 [19:15<08:57, 537.57s/it]"
     ]
    },
    {
     "name": "stdout",
     "output_type": "stream",
     "text": [
      "[youtube] t7uqHosIj4s: Downloading webpage\n",
      "[download] Destination: Joe Rogan Experience #1538 - Douglas Murray-t7uqHosIj4s.m4a\n",
      "[download] 100% of 125.71MiB in 00:0452MiB/s ETA 00:000nown ETA\n",
      "[ffmpeg] Correcting container in \"Joe Rogan Experience #1538 - Douglas Murray-t7uqHosIj4s.m4a\"\n",
      "[ffmpeg] Destination: Joe Rogan Experience #1538 - Douglas Murray-t7uqHosIj4s.mp3\n",
      "Deleting original file Joe Rogan Experience #1539 - Jenny Kleeman-EED-LEWOCv0.m4a (pass -k to keep)\n"
     ]
    },
    {
     "name": "stderr",
     "output_type": "stream",
     "text": [
      "\r",
      " 67%|██████▋   | 2/3 [19:42<09:55, 595.42s/it]"
     ]
    },
    {
     "name": "stdout",
     "output_type": "stream",
     "text": [
      "[youtube] TDKYSLDq6es: Downloading webpage\n",
      "[download] Destination: Joe Rogan Experience #1535 - Tim Kennedy-TDKYSLDq6es.m4a\n",
      "[download] 100% of 167.21MiB in 00:0638MiB/s ETA 00:001nown ETA\n",
      "[ffmpeg] Correcting container in \"Joe Rogan Experience #1535 - Tim Kennedy-TDKYSLDq6es.m4a\"\n",
      "[ffmpeg] Destination: Joe Rogan Experience #1535 - Tim Kennedy-TDKYSLDq6es.mp3\n",
      "Deleting original file Habit Change Made Easy - Rangan Chatterjee, MD _ Rich Roll Podcast-sO9KE_HDZvI.webm (pass -k to keep)\n"
     ]
    },
    {
     "name": "stderr",
     "output_type": "stream",
     "text": [
      "\r",
      " 67%|██████▋   | 2/3 [21:48<10:41, 641.77s/it]"
     ]
    },
    {
     "name": "stdout",
     "output_type": "stream",
     "text": [
      "[youtube] z5gsdgArqaA: Downloading webpage\n",
      "[download] Destination: Audiobook HD Audio - Bernard Cornwell - The Winter King (The Warlord Chronicles, #1) vol1-z5gsdgArqaA.m4a\n",
      "[download] 100% of 532.48MiB in 00:3161MiB/s ETA 00:008nown ETA\n",
      "[ffmpeg] Correcting container in \"Audiobook HD Audio - Bernard Cornwell - The Winter King (The Warlord Chronicles, #1) vol1-z5gsdgArqaA.m4a\"\n",
      "Deleting original file A Planet Based Lifestyle _ Rich Roll Podcast-QNXQjq5RaFs.webm (pass -k to keep)\n"
     ]
    },
    {
     "name": "stderr",
     "output_type": "stream",
     "text": [
      "\r",
      " 67%|██████▋   | 2/3 [22:36<11:19, 679.83s/it]"
     ]
    },
    {
     "name": "stdout",
     "output_type": "stream",
     "text": [
      "[youtube] yXmOHP5sBxs: Downloading webpage\n"
     ]
    },
    {
     "name": "stderr",
     "output_type": "stream",
     "text": [
      "ERROR: yXmOHP5sBxs: YouTube said: Unable to extract video data\n",
      "100%|██████████| 3/3 [22:37<00:00, 452.46s/it]\n",
      "  0%|          | 0/3 [00:00<?, ?it/s]"
     ]
    },
    {
     "name": "stdout",
     "output_type": "stream",
     "text": [
      "[youtube] qw79r3Jc7Eo: Downloading webpage\n",
      "[download] Destination: How To Set & Achieve A Goal _ Rich Roll Podcast-qw79r3Jc7Eo.webm\n",
      "[download] 100% of 100.11MiB in 00:0477MiB/s ETA 00:002nown ETA\n",
      "[ffmpeg] Destination: How To Set & Achieve A Goal _ Rich Roll Podcast-qw79r3Jc7Eo.mp3\n",
      "[ffmpeg] Destination: Audiobook HD Audio - Bernard Cornwell - The Winter King (The Warlord Chronicles, #1) vol1-z5gsdgArqaA.mp3\n",
      "Deleting original file Audiobook HD Audio Cats Cradle by Kurt Vonnegut-djAbIHO4fZA.m4a (pass -k to keep)\n"
     ]
    },
    {
     "name": "stderr",
     "output_type": "stream",
     "text": [
      "\r",
      " 33%|███▎      | 1/3 [23:03<46:07, 1383.92s/it]"
     ]
    },
    {
     "name": "stdout",
     "output_type": "stream",
     "text": [
      "[youtube] LIFK00vf8Y4: Downloading webpage\n",
      "[download] Destination: George Orwell - Animal Farm (Audio book) Complete HD - Full Book.-LIFK00vf8Y4.m4a\n",
      "[download] 100% of 152.09MiB in 00:0612MiB/s ETA 00:007nown ETA\n",
      "[ffmpeg] Correcting container in \"George Orwell - Animal Farm (Audio book) Complete HD - Full Book.-LIFK00vf8Y4.m4a\"\n",
      "[ffmpeg] Destination: George Orwell - Animal Farm (Audio book) Complete HD - Full Book.-LIFK00vf8Y4.mp3\n",
      "Deleting original file Beirut, Single Use Plastic, Mentors, City Flight + More _ AMA Rich Roll Podcast-oLr5G5wcG3g.webm (pass -k to keep)\n"
     ]
    },
    {
     "name": "stderr",
     "output_type": "stream",
     "text": [
      "\r",
      " 67%|██████▋   | 2/3 [24:01<12:02, 722.70s/it]"
     ]
    },
    {
     "name": "stdout",
     "output_type": "stream",
     "text": [
      "[youtube] j9NeQTkJjIs: Downloading webpage\n",
      "[download] Destination: Joe Rogan Experience #1520 - Dr. Debra Soh-j9NeQTkJjIs.m4a\n",
      "[download] 100% of 112.86MiB in 00:0686MiB/s ETA 00:008nown ETA\n",
      "[ffmpeg] Correcting container in \"Joe Rogan Experience #1520 - Dr. Debra Soh-j9NeQTkJjIs.m4a\"\n",
      "[ffmpeg] Destination: Joe Rogan Experience #1520 - Dr. Debra Soh-j9NeQTkJjIs.mp3\n",
      "Deleting original file Darin Olien Hunts More Than Superfoods _ Rich Roll Podcast-8wpOTkNOyqo.webm (pass -k to keep)\n"
     ]
    },
    {
     "name": "stderr",
     "output_type": "stream",
     "text": [
      "\r",
      " 67%|██████▋   | 2/3 [28:43<15:17, 917.56s/it] "
     ]
    },
    {
     "name": "stdout",
     "output_type": "stream",
     "text": [
      "[youtube] 97HiavAClUk: Downloading webpage\n",
      "[download] All Your Coronavirus Questions Answered - Michael Greger, MD _ Rich Roll Podcast-97HiavAClUk.webm has already been downloaded\n",
      "[download] 100% of 94.14MiB\n",
      "Deleting original file Joe Rogan Experience #1538 - Douglas Murray-t7uqHosIj4s.m4a (pass -k to keep)\n"
     ]
    },
    {
     "name": "stderr",
     "output_type": "stream",
     "text": [
      "100%|██████████| 3/3 [28:45<00:00, 575.20s/it]"
     ]
    },
    {
     "name": "stdout",
     "output_type": "stream",
     "text": [
      "[ffmpeg] Destination: All Your Coronavirus Questions Answered - Michael Greger, MD _ Rich Roll Podcast-97HiavAClUk.mp3\n"
     ]
    },
    {
     "name": "stderr",
     "output_type": "stream",
     "text": [
      "\n",
      "  0%|          | 0/1 [00:00<?, ?it/s]"
     ]
    },
    {
     "name": "stdout",
     "output_type": "stream",
     "text": [
      "[youtube] T9JiCnb1dnM: Downloading webpage\n",
      "[youtube] T9JiCnb1dnM: Downloading MPD manifest\n",
      "[dashsegments] Total fragments: 6366\n",
      "[download] Destination: Audiobook HD Audio reasonable doubt AdFiction Eroti G.whitney-T9JiCnb1dnM.m4a\n",
      "[download]   7.4% of ~481.38MiB at 569.03KiB/s ETA 18:08:1810Deleting original file Joe Rogan Experience #1534 - Ron White-1mgN8r1mwvM.webm (pass -k to keep)\n",
      "[download]   7.4% of ~481.39MiB at 618.82KiB/s ETA 18:09"
     ]
    },
    {
     "name": "stderr",
     "output_type": "stream",
     "text": [
      "\r",
      " 67%|██████▋   | 2/3 [30:16<14:40, 880.79s/it]"
     ]
    },
    {
     "name": "stdout",
     "output_type": "stream",
     "text": [
      "[download]   7.5% of ~481.40MiB at 566.43KiB/s ETA 18:09[youtube] I0HE6gMhOjk: Downloading webpage\n",
      "[download]   7.6% of ~481.41MiB at 172.98KiB/s ETA 18:09[download] Destination: Audiobook HD Audio Thriller Fiction Mystery The Driver #3 by Mark DAWSON-I0HE6gMhOjk.m4a\n",
      "[download] 100% of 533.41MiB in 00:214.27KiB/s ETA 17:27own ETA\n",
      "[download]   9.6% of ~481.62MiB at 669.87KiB/s ETA 17:26[ffmpeg] Correcting container in \"Audiobook HD Audio Thriller Fiction Mystery The Driver #3 by Mark DAWSON-I0HE6gMhOjk.m4a\"\n",
      "[download]  11.6% of ~481.75MiB at 507.24KiB/s ETA 17:18[ffmpeg] Destination: Audiobook HD Audio Thriller Fiction Mystery The Driver #3 by Mark DAWSON-I0HE6gMhOjk.mp3\n",
      "[download]  17.5% of ~481.97MiB at 611.25KiB/s ETA 16:11Deleting original file Joe Rogan Experience #1520 - Dr. Debra Soh-j9NeQTkJjIs.m4a (pass -k to keep)\n",
      "[download]  17.5% of ~481.97MiB at 101.69KiB/s ETA 16:12"
     ]
    },
    {
     "name": "stderr",
     "output_type": "stream",
     "text": [
      "\r",
      "100%|██████████| 3/3 [32:16<00:00, 654.37s/it]"
     ]
    },
    {
     "name": "stdout",
     "output_type": "stream",
     "text": [
      "\r",
      "[download]  17.5% of ~481.97MiB at 138.89KiB/s ETA 16:12"
     ]
    },
    {
     "name": "stderr",
     "output_type": "stream",
     "text": [
      "\r",
      "100%|██████████| 3/3 [32:16<00:00, 645.46s/it]"
     ]
    },
    {
     "name": "stdout",
     "output_type": "stream",
     "text": [
      "\r",
      "[download]  17.5% of ~481.97MiB at 194.28KiB/s ETA 16:12"
     ]
    },
    {
     "name": "stderr",
     "output_type": "stream",
     "text": [
      "\n"
     ]
    },
    {
     "name": "stdout",
     "output_type": "stream",
     "text": [
      "[download]  25.9% of ~482.11MiB at 367.50KiB/s ETA 14:236Deleting original file How To Set & Achieve A Goal _ Rich Roll Podcast-qw79r3Jc7Eo.webm (pass -k to keep)\n",
      "[download]  25.9% of ~482.11MiB at 589.57KiB/s ETA 14:23"
     ]
    },
    {
     "name": "stderr",
     "output_type": "stream",
     "text": [
      "\r",
      " 33%|███▎      | 1/3 [11:14<22:29, 674.55s/it]"
     ]
    },
    {
     "name": "stdout",
     "output_type": "stream",
     "text": [
      "[download]  26.0% of ~482.11MiB at 583.63KiB/s ETA 14:22[youtube] xK5YtTmvAPU: Downloading webpage\n",
      "[download]  26.0% of ~482.11MiB at 647.60KiB/s ETA 14:22[download] Destination: Tower Of Dawn audiobook HD with chapter list by Sarah J  Maas part 1_2-xK5YtTmvAPU.m4a\n",
      "[download]  27.3% of ~482.12MiB at 430.97KiB/s ETA 13:59own ETADeleting original file George Orwell - Animal Farm (Audio book) Complete HD - Full Book.-LIFK00vf8Y4.m4a (pass -k to keep)\n",
      "[download]  39.5% of 628.52MiB at 22.32MiB/s ETA 00:1759"
     ]
    },
    {
     "name": "stderr",
     "output_type": "stream",
     "text": [
      "\r",
      " 67%|██████▋   | 2/3 [34:05<19:27, 1167.10s/it]"
     ]
    },
    {
     "name": "stdout",
     "output_type": "stream",
     "text": [
      "[download]  27.4% of ~482.12MiB at 663.80KiB/s ETA 13:58own ETA[youtube] 2lhZsg7hjcc: Downloading webpage\n",
      "[download]  45.1% of 628.52MiB at  3.56MiB/s ETA 01:3756own ETA[download] Destination: Our Social Dilemma _ Rich Roll Podcast-2lhZsg7hjcc.webm\n",
      "[download]  27.6% of ~482.13MiB at 182.58KiB/s ETA 13:533wn ETADeleting original file Audiobook HD Audio The Obsession by Nora Roberts 1_2-by10xkaZOJ0.webm (pass -k to keep)\n",
      "[download]  27.6% of ~482.13MiB at 268.31KiB/s ETA 13:53own ETA"
     ]
    },
    {
     "name": "stderr",
     "output_type": "stream",
     "text": [
      "\r",
      " 33%|███▎      | 1/3 [34:07<1:08:15, 2047.76s/it]"
     ]
    },
    {
     "name": "stdout",
     "output_type": "stream",
     "text": [
      "[download]  27.7% of ~482.13MiB at 401.70KiB/s ETA 13:52own ETA[youtube] _Rl82OQDoOc: Downloading webpage\n",
      "[download]  27.8% of ~482.13MiB at 830.46KiB/s ETA 13:50own ETA[download] Destination: Joe Rogan Experience #1536 - Edward Snowden-_Rl82OQDoOc.m4a\n",
      "[download] 100% of 137.67MiB in 00:04nown speed ETA Unknown ETA\n",
      "[download]  73.0% of 628.52MiB at  1.68MiB/s ETA 01:4141own ETA[ffmpeg] Correcting container in \"Joe Rogan Experience #1536 - Edward Snowden-_Rl82OQDoOc.m4a\"\n",
      "[download]  28.8% of ~482.14MiB at  1.03MiB/s ETA 13:334own ETA[ffmpeg] Destination: Joe Rogan Experience #1536 - Edward Snowden-_Rl82OQDoOc.mp3\n",
      "[download] 100% of 135.23MiB in 00:137.66KiB/s ETA 13:32own ETA\n",
      "[download]  28.9% of ~482.14MiB at 412.74KiB/s ETA 13:32own ETA[ffmpeg] Destination: Our Social Dilemma _ Rich Roll Podcast-2lhZsg7hjcc.mp3\n",
      "[download] 100% of 628.52MiB in 00:291.59KiB/s ETA 13:31own ETA\n",
      "[download]  29.1% of ~482.14MiB at 689.76KiB/s ETA 13:31[ffmpeg] Correcting container in \"Tower Of Dawn audiobook HD with chapter list by Sarah J  Maas part 1_2-xK5YtTmvAPU.m4a\"\n",
      "[download]  31.2% of ~482.16MiB at 380.80KiB/s ETA 13:10[ffmpeg] Destination: Tower Of Dawn audiobook HD with chapter list by Sarah J  Maas part 1_2-xK5YtTmvAPU.mp3\n",
      "[download]  32.0% of ~482.16MiB at 584.42KiB/s ETA 13:01Deleting original file Audiobook HD Audio The Silent Waters Elements, #3 Brittainy C. Cherry-TtQvZgiuiLk.m4a (pass -k to keep)\n",
      "[download]  32.0% of ~482.16MiB at 151.85KiB/s ETA 13:01"
     ]
    },
    {
     "name": "stderr",
     "output_type": "stream",
     "text": [
      "\r",
      " 67%|██████▋   | 2/3 [34:57<10:30, 630.21s/it]"
     ]
    },
    {
     "name": "stdout",
     "output_type": "stream",
     "text": [
      "[download]  32.1% of ~482.16MiB at 107.39KiB/s ETA 13:01[youtube] PEmaWdfUUuk: Downloading webpage\n",
      "[download]  32.2% of ~482.16MiB at 606.27KiB/s ETA 12:59[download] Destination: Searching For Light with Radhanath Swami _ Rich Roll Podcast-PEmaWdfUUuk.m4a\n",
      "[download] 100% of 90.47MiB in 00:0455.26KiB/s ETA 12:54wn ETA\n",
      "[download]  32.6% of ~482.17MiB at 195.41KiB/s ETA 12:54[ffmpeg] Correcting container in \"Searching For Light with Radhanath Swami _ Rich Roll Podcast-PEmaWdfUUuk.m4a\"\n",
      "[download]  33.0% of ~482.17MiB at 613.31KiB/s ETA 12:49[ffmpeg] Destination: Searching For Light with Radhanath Swami _ Rich Roll Podcast-PEmaWdfUUuk.mp3\n",
      "[download]  33.6% of ~482.17MiB at 630.79KiB/s ETA 12:42Deleting original file Joe Rogan Experience #1535 - Tim Kennedy-TDKYSLDq6es.m4a (pass -k to keep)\n",
      "[download]  33.7% of ~482.18MiB at 780.53KiB/s ETA 12:42"
     ]
    },
    {
     "name": "stderr",
     "output_type": "stream",
     "text": [
      "100%|██████████| 3/3 [35:16<00:00, 705.51s/it]\n"
     ]
    },
    {
     "name": "stdout",
     "output_type": "stream",
     "text": [
      "[download]  50.9% of ~482.25MiB at 661.19KiB/s ETA 09:090Deleting original file All Your Coronavirus Questions Answered - Michael Greger, MD _ Rich Roll Podcast-97HiavAClUk.webm (pass -k to keep)\n",
      "[download]  50.9% of ~482.25MiB at 661.19KiB/s ETA 09:09"
     ]
    },
    {
     "name": "stderr",
     "output_type": "stream",
     "text": [
      "\r",
      "100%|██████████| 3/3 [38:20<00:00, 815.24s/it]"
     ]
    },
    {
     "name": "stdout",
     "output_type": "stream",
     "text": [
      "\r",
      "[download]  50.9% of ~482.25MiB at 661.19KiB/s ETA 09:09"
     ]
    },
    {
     "name": "stderr",
     "output_type": "stream",
     "text": [
      "\r",
      "100%|██████████| 3/3 [38:20<00:00, 766.70s/it]"
     ]
    },
    {
     "name": "stdout",
     "output_type": "stream",
     "text": [
      "\r",
      "[download]  50.9% of ~482.25MiB at 152.97KiB/s ETA 09:09"
     ]
    },
    {
     "name": "stderr",
     "output_type": "stream",
     "text": [
      "\n"
     ]
    },
    {
     "name": "stdout",
     "output_type": "stream",
     "text": [
      "[download]  60.0% of ~482.27MiB at 650.63KiB/s ETA 07:226Deleting original file Searching For Light with Radhanath Swami _ Rich Roll Podcast-PEmaWdfUUuk.m4a (pass -k to keep)\n",
      "[download]  60.0% of ~482.27MiB at 287.48KiB/s ETA 07:22"
     ]
    },
    {
     "name": "stderr",
     "output_type": "stream",
     "text": [
      "100%|██████████| 3/3 [39:52<00:00, 797.59s/it]"
     ]
    },
    {
     "name": "stdout",
     "output_type": "stream",
     "text": [
      "\r",
      "[download]  60.0% of ~482.27MiB at 436.64KiB/s ETA 07:22"
     ]
    },
    {
     "name": "stderr",
     "output_type": "stream",
     "text": [
      "\n"
     ]
    },
    {
     "name": "stdout",
     "output_type": "stream",
     "text": [
      "[download]  74.2% of ~482.30MiB at 709.84KiB/s ETA 04:395Deleting original file Joe Rogan Experience #1536 - Edward Snowden-_Rl82OQDoOc.m4a (pass -k to keep)\n",
      "[download]  74.2% of ~482.30MiB at 702.31KiB/s ETA 04:39"
     ]
    },
    {
     "name": "stderr",
     "output_type": "stream",
     "text": [
      "\r",
      " 67%|██████▋   | 2/3 [42:11<26:18, 1578.52s/it]  "
     ]
    },
    {
     "name": "stdout",
     "output_type": "stream",
     "text": [
      "[download]  74.2% of ~482.30MiB at 219.28KiB/s ETA 04:38[youtube] 21JshfFFH7Q: Downloading webpage\n",
      "[download]  74.3% of ~482.30MiB at 360.10KiB/s ETA 04:37[download] Destination: Conversation Matters - Tom Scott _ Rich Roll Podcast-21JshfFFH7Q.webm\n",
      "[download] 100% of 90.30MiB in 00:041.18MiB/s ETA 04:300wn ETA\n",
      "[download]  74.9% of ~482.30MiB at 153.62KiB/s ETA 04:300[ffmpeg] Destination: Conversation Matters - Tom Scott _ Rich Roll Podcast-21JshfFFH7Q.mp3\n",
      "[download]  79.2% of ~482.30MiB at 270.72KiB/s ETA 03:434Deleting original file Audiobook HD Audio - Bernard Cornwell - The Winter King (The Warlord Chronicles, #1) vol2-TEZkojZoz0I.m4a (pass -k to keep)\n",
      "[download]  79.2% of ~482.30MiB at 752.34KiB/s ETA 03:43"
     ]
    },
    {
     "name": "stderr",
     "output_type": "stream",
     "text": [
      "\r",
      " 67%|██████▋   | 2/3 [42:59<17:06, 1026.40s/it]"
     ]
    },
    {
     "name": "stdout",
     "output_type": "stream",
     "text": [
      "[download]  79.2% of ~482.30MiB at 572.34KiB/s ETA 03:42[youtube] j-bSjzIPRro: Downloading webpage\n",
      "[download]  79.3% of ~482.30MiB at 183.00KiB/s ETA 03:411[download] Joe Rogan Experience #1545 - W. Keith Campbell-j-bSjzIPRro.webm has already been downloaded\n",
      "[download] 100% of 135.39MiBMiB at 335.68KiB/s ETA 03:41\n",
      "[download]  79.4% of ~482.30MiB at 898.25KiB/s ETA 03:41[ffmpeg] Destination: Joe Rogan Experience #1545 - W. Keith Campbell-j-bSjzIPRro.mp3\n",
      "[download]  80.8% of ~482.30MiB at 237.90KiB/s ETA 03:269Deleting original file Our Social Dilemma _ Rich Roll Podcast-2lhZsg7hjcc.webm (pass -k to keep)\n",
      "[download]  80.8% of ~482.30MiB at 632.81KiB/s ETA 03:25"
     ]
    },
    {
     "name": "stderr",
     "output_type": "stream",
     "text": [
      "\r",
      "100%|██████████| 3/3 [43:15<00:00, 982.15s/it] "
     ]
    },
    {
     "name": "stdout",
     "output_type": "stream",
     "text": [
      "\r",
      "[download]  80.8% of ~482.30MiB at 652.71KiB/s ETA 03:25"
     ]
    },
    {
     "name": "stderr",
     "output_type": "stream",
     "text": [
      "\r",
      "100%|██████████| 3/3 [43:15<00:00, 865.24s/it]"
     ]
    },
    {
     "name": "stdout",
     "output_type": "stream",
     "text": [
      "\r",
      "[download]  80.8% of ~482.30MiB at 652.71KiB/s ETA 03:25"
     ]
    },
    {
     "name": "stderr",
     "output_type": "stream",
     "text": [
      "\n"
     ]
    },
    {
     "name": "stdout",
     "output_type": "stream",
     "text": [
      "[download] 100% of 482.29MiB in 17:114.66KiB/s ETA 00:006\n",
      "[ffmpeg] Correcting container in \"Audiobook HD Audio reasonable doubt AdFiction Eroti G.whitney-T9JiCnb1dnM.m4a\"\n",
      "[ffmpeg] Destination: Audiobook HD Audio reasonable doubt AdFiction Eroti G.whitney-T9JiCnb1dnM.mp3\n",
      "Deleting original file Audiobook HD Audio All I Want (Alabama Summer, #2) by J. Daniels-DniYqaKJIpU.webm (pass -k to keep)\n"
     ]
    },
    {
     "name": "stderr",
     "output_type": "stream",
     "text": [
      "\r",
      " 67%|██████▋   | 2/3 [47:07<18:40, 1120.26s/it]"
     ]
    },
    {
     "name": "stdout",
     "output_type": "stream",
     "text": [
      "[youtube] U7QxzZkIB7I: Downloading webpage\n",
      "[download] Destination: Self Help Audiobook #6 _ Amazon Audible Free Audio Books - Best Audiobooks Audible Library Complete-U7QxzZkIB7I.webm\n",
      "[download] 100% of 141.72MiB in 00:0500MiB/s ETA 00:007nown ETA\n",
      "[ffmpeg] Destination: Self Help Audiobook #6 _ Amazon Audible Free Audio Books - Best Audiobooks Audible Library Complete-U7QxzZkIB7I.mp3\n",
      "Deleting original file Conversation Matters - Tom Scott _ Rich Roll Podcast-21JshfFFH7Q.webm (pass -k to keep)\n"
     ]
    },
    {
     "name": "stderr",
     "output_type": "stream",
     "text": [
      "100%|██████████| 3/3 [47:26<00:00, 948.92s/it] \n"
     ]
    },
    {
     "name": "stdout",
     "output_type": "stream",
     "text": [
      "Deleting original file Audiobook HD Audio - Bernard Cornwell - The Winter King (The Warlord Chronicles, #1) vol1-z5gsdgArqaA.m4a (pass -k to keep)\n"
     ]
    },
    {
     "name": "stderr",
     "output_type": "stream",
     "text": [
      "100%|██████████| 3/3 [49:09<00:00, 983.33s/it]\n"
     ]
    },
    {
     "name": "stdout",
     "output_type": "stream",
     "text": [
      "Deleting original file Joe Rogan Experience #1545 - W. Keith Campbell-j-bSjzIPRro.webm (pass -k to keep)\n"
     ]
    },
    {
     "name": "stderr",
     "output_type": "stream",
     "text": [
      "100%|██████████| 3/3 [50:22<00:00, 1007.42s/it]\n"
     ]
    },
    {
     "name": "stdout",
     "output_type": "stream",
     "text": [
      "Deleting original file Audiobook HD Audio Thriller Fiction Mystery The Driver #3 by Mark DAWSON-I0HE6gMhOjk.m4a (pass -k to keep)\n"
     ]
    },
    {
     "name": "stderr",
     "output_type": "stream",
     "text": [
      "100%|██████████| 3/3 [50:57<00:00, 1019.08s/it]\n"
     ]
    },
    {
     "name": "stdout",
     "output_type": "stream",
     "text": [
      "Deleting original file Self Help Audiobook #6 _ Amazon Audible Free Audio Books - Best Audiobooks Audible Library Complete-U7QxzZkIB7I.webm (pass -k to keep)\n"
     ]
    },
    {
     "name": "stderr",
     "output_type": "stream",
     "text": [
      "100%|██████████| 3/3 [53:32<00:00, 1070.81s/it]\n"
     ]
    },
    {
     "name": "stdout",
     "output_type": "stream",
     "text": [
      "Deleting original file Tower Of Dawn audiobook HD with chapter list by Sarah J  Maas part 1_2-xK5YtTmvAPU.m4a (pass -k to keep)\n"
     ]
    },
    {
     "name": "stderr",
     "output_type": "stream",
     "text": [
      "\r",
      " 67%|██████▋   | 2/3 [31:45<14:01, 841.59s/it]"
     ]
    },
    {
     "name": "stdout",
     "output_type": "stream",
     "text": [
      "[youtube] v-TgucmkS8Q: Downloading webpage\n",
      "[youtube] v-TgucmkS8Q: Downloading MPD manifest\n",
      "[dashsegments] Total fragments: 8437\n",
      "[download] Destination: Audiobook HD Audio The Dangerous Gentleman (Rogues of Regent Street, #1) by Julia London-v-TgucmkS8Q.m4a\n",
      "[download]  80.5% of ~639.24MiB at 12.77MiB/s ETA 00:29010:05Deleting original file Audiobook HD Audio reasonable doubt AdFiction Eroti G.whitney-T9JiCnb1dnM.m4a (pass -k to keep)\n",
      "[download]  80.5% of ~639.24MiB at  4.68MiB/s ETA 00:29"
     ]
    },
    {
     "name": "stderr",
     "output_type": "stream",
     "text": [
      "\r",
      "100%|██████████| 1/1 [27:42<00:00, 1662.61s/it]"
     ]
    },
    {
     "name": "stdout",
     "output_type": "stream",
     "text": [
      "[download]  80.5% of ~639.24MiB at 12.44MiB/s ETA 00:29"
     ]
    },
    {
     "name": "stderr",
     "output_type": "stream",
     "text": [
      "100%|██████████| 1/1 [27:42<00:00, 1662.61s/it]\n"
     ]
    },
    {
     "name": "stdout",
     "output_type": "stream",
     "text": [
      "[download] 100% of 639.20MiB in 02:37.02MiB/s ETA 00:0006\n",
      "[ffmpeg] Correcting container in \"Audiobook HD Audio The Dangerous Gentleman (Rogues of Regent Street, #1) by Julia London-v-TgucmkS8Q.m4a\"\n",
      "[ffmpeg] Destination: Audiobook HD Audio The Dangerous Gentleman (Rogues of Regent Street, #1) by Julia London-v-TgucmkS8Q.mp3\n",
      "Deleting original file Audiobook HD Audio The Dangerous Gentleman (Rogues of Regent Street, #1) by Julia London-v-TgucmkS8Q.m4a (pass -k to keep)\n"
     ]
    },
    {
     "name": "stderr",
     "output_type": "stream",
     "text": [
      "100%|██████████| 3/3 [42:59<00:00, 859.93s/it]\n"
     ]
    }
   ],
   "source": [
    "import mp\n",
    "mp.multiprocessing(videos, loop, cores = 12, returned = False)"
   ]
  },
  {
   "cell_type": "code",
   "execution_count": 5,
   "metadata": {},
   "outputs": [],
   "source": [
    "!mkdir english\n",
    "!mv *.mp3 english"
   ]
  }
 ],
 "metadata": {
  "kernelspec": {
   "display_name": "Python 3",
   "language": "python",
   "name": "python3"
  },
  "language_info": {
   "codemirror_mode": {
    "name": "ipython",
    "version": 3
   },
   "file_extension": ".py",
   "mimetype": "text/x-python",
   "name": "python",
   "nbconvert_exporter": "python",
   "pygments_lexer": "ipython3",
   "version": "3.6.9"
  }
 },
 "nbformat": 4,
 "nbformat_minor": 4
}

{
 "cells": [
  {
   "cell_type": "code",
   "execution_count": 1,
   "metadata": {},
   "outputs": [
    {
     "data": {
      "text/plain": [
       "55"
      ]
     },
     "execution_count": 1,
     "metadata": {},
     "output_type": "execute_result"
    }
   ],
   "source": [
    "videos = \"\"\"\n",
    "https://www.youtube.com/watch?v=fAqs-YC8irc\n",
    "https://www.youtube.com/watch?v=G2oPClnoJpg\n",
    "https://www.youtube.com/watch?v=unmCwK_9El8\n",
    "https://www.youtube.com/watch?v=JOL8sFYlBU4\n",
    "https://www.youtube.com/watch?v=T907QXqWeF0\n",
    "https://www.youtube.com/watch?v=VjzeR0xgQ8I\n",
    "https://www.youtube.com/watch?v=BQpcj10O8nA\n",
    "https://www.youtube.com/watch?v=I_E38TJpU6Q\n",
    "https://www.youtube.com/watch?v=VH7aC2lbg1c\n",
    "https://www.youtube.com/watch?v=ZoYg34o8rqI\n",
    "https://www.youtube.com/watch?v=b_d-Yf-Gzyw\n",
    "https://www.youtube.com/watch?v=IDg0E93eM2U\n",
    "https://www.youtube.com/watch?v=N-YoIbr6-1Q\n",
    "https://www.youtube.com/watch?v=WNIEhpPsfDk\n",
    "https://www.youtube.com/watch?v=ERPf3TbiK0E\n",
    "https://www.youtube.com/watch?v=qaGfP5sk7z8\n",
    "https://www.youtube.com/watch?v=obkefyOHKr4\n",
    "https://www.youtube.com/watch?v=NtnT4MmSFJw\n",
    "https://www.youtube.com/watch?v=IxR5I3HS2T8\n",
    "https://www.youtube.com/watch?v=YSwgyuUO2cU\n",
    "https://www.youtube.com/watch?v=l6kBSvtuc_8\n",
    "https://www.youtube.com/watch?v=0xSswYU5ZFE\n",
    "https://www.youtube.com/watch?v=8IoPsPVxxgs\n",
    "https://www.youtube.com/watch?v=rx9EW69Qtn8\n",
    "https://www.youtube.com/watch?v=jZ3_M9TkCX4\n",
    "https://www.youtube.com/watch?v=ylH-VEO5IbQ\n",
    "https://www.youtube.com/watch?v=6ZWiTtjSvj8\n",
    "https://www.youtube.com/watch?v=yXIDru3zM2w\n",
    "https://www.youtube.com/watch?v=IzL2lwkCDyc\n",
    "https://www.youtube.com/watch?v=mRCrxLUcVPk\n",
    "https://www.youtube.com/watch?v=bYjjQpP8FaM\n",
    "https://www.youtube.com/watch?v=H6W2uNuIm9o\n",
    "https://www.youtube.com/watch?v=JOI6naLEpMI\n",
    "https://www.youtube.com/watch?v=oqJny9Qze3k\n",
    "https://www.youtube.com/watch?v=V_XteZbz5pg\n",
    "https://www.youtube.com/watch?v=ttmqMaoMdVw&ab_channel=EverydayChinese\n",
    "https://www.youtube.com/watch?v=s8wA65b8hBs&ab_channel=EazyMandarin\n",
    "https://www.youtube.com/watch?v=gFE8L6aq1Gs&ab_channel=EazyMandarin\n",
    "https://www.youtube.com/watch?v=Wt5tmL9yex4&ab_channel=EazyMandarin\n",
    "https://www.youtube.com/watch?v=jWKfxkF0GVg&ab_channel=EazyMandarin\n",
    "https://www.youtube.com/watch?v=Wg56kS9gA50&ab_channel=GreatestAudioBooks\n",
    "https://www.youtube.com/watch?v=cUAlLdwwdYQ&ab_channel=GreatAudioBooksInPublicDomain\n",
    "https://www.youtube.com/watch?v=U1ywZGocjro&ab_channel=GreatAudioBooksInPublicDomain\n",
    "https://www.youtube.com/watch?v=DIP-Fgq27f4&ab_channel=GreatAudioBooksInPublicDomain\n",
    "https://www.youtube.com/watch?v=18zdf5uciVs&ab_channel=%E9%9B%AA%E8%9D%B6\n",
    "https://www.youtube.com/watch?v=Tmg6oERWyH4\n",
    "https://www.youtube.com/watch?v=5tH0odCiayo\n",
    "https://www.youtube.com/watch?v=j18SHgT4n3o\n",
    "https://www.youtube.com/watch?v=1uZs-xVpfHg\n",
    "https://www.youtube.com/watch?v=7or77vFZSa4&ab_channel=GreatAudioBooksInPublicDomain\n",
    "https://www.youtube.com/watch?v=DcPviW7husQ&ab_channel=LowmanWhitfield\n",
    "https://www.youtube.com/watch?v=NLu0JW6VtGM&ab_channel=EazyMandarin\n",
    "https://www.youtube.com/watch?v=BieUQR4skTk\n",
    "https://www.youtube.com/watch?v=Hvh21Ks2HEg\n",
    "https://www.youtube.com/watch?v=UKuT2XuZ7fM\n",
    "\"\"\"\n",
    "videos = list(set(filter(None, videos.split('\\n'))))\n",
    "len(videos)"
   ]
  },
  {
   "cell_type": "code",
   "execution_count": 2,
   "metadata": {},
   "outputs": [],
   "source": [
    "import youtube_dl"
   ]
  },
  {
   "cell_type": "code",
   "execution_count": 3,
   "metadata": {},
   "outputs": [],
   "source": [
    "import mp\n",
    "from tqdm import tqdm\n",
    "\n",
    "def loop(urls):\n",
    "    urls = urls[0]\n",
    "    ydl_opts = {\n",
    "        'format': 'bestaudio/best',\n",
    "        'postprocessors': [{\n",
    "            'key': 'FFmpegExtractAudio',\n",
    "            'preferredcodec': 'mp3',\n",
    "            'preferredquality': '192',\n",
    "        }],\n",
    "        'no-check-certificate': True\n",
    "    }\n",
    "\n",
    "    for i in tqdm(range(len(urls))):\n",
    "        try:\n",
    "            with youtube_dl.YoutubeDL(ydl_opts) as ydl:\n",
    "                ydl.download([urls[i]])\n",
    "        except:\n",
    "            pass"
   ]
  },
  {
   "cell_type": "code",
   "execution_count": 4,
   "metadata": {
    "scrolled": true
   },
   "outputs": [
    {
     "name": "stderr",
     "output_type": "stream",
     "text": [
      "  0%|          | 0/4 [00:00<?, ?it/s]"
     ]
    },
    {
     "name": "stdout",
     "output_type": "stream",
     "text": [
      "[youtube] 7or77vFZSa4: Downloading webpage\n",
      "[youtube] jWKfxkF0GVg: Downloading webpage\n",
      "[youtube] 18zdf5uciVs: Downloading webpage\n",
      "[youtube] T907QXqWeF0: Downloading webpage\n",
      "[youtube] Wg56kS9gA50: Downloading webpage\n",
      "[youtube] VH7aC2lbg1c: Downloading webpage\n",
      "[youtube] gFE8L6aq1Gs: Downloading webpage\n",
      "[youtube] NtnT4MmSFJw: Downloading webpage\n",
      "[youtube] yXIDru3zM2w: Downloading webpage\n",
      "[youtube] BieUQR4skTk: Downloading webpage\n",
      "[youtube] cUAlLdwwdYQ: Downloading webpage\n",
      "[youtube] IzL2lwkCDyc: Downloading webpage\n",
      "[youtube] 18zdf5uciVs: Downloading embed webpage\n",
      "[youtube] jWKfxkF0GVg: Downloading MPD manifest\n",
      "[download] Destination: China's Princess Syndrome - Intermediate Chinese - Chinese Conversation _ Level - HSK 4 - HSK 5-T907QXqWeF0.m4a\n",
      "[download]   2.9% of 17.33MiB at  6.77MiB/s ETA 00:0217[download] Destination: China's Alarming Divorce Rate - Intermediate Chinese - Chinese Conversation - Chinese Podcast-IzL2lwkCDyc.webm\n",
      "[download]  11.5% of 17.33MiB at 19.20MiB/s ETA 00:009[youtube] gFE8L6aq1Gs: Downloading MPD manifest\n",
      "[download]   1.4% of 18.38MiB at  3.92MiB/s ETA 00:045[download] Destination: China's Mama's Boy - Intermediate Chinese - Chinese Conversation - Level - HSK 4 - HSK 5-BieUQR4skTk.webm\n",
      "[download]   5.7% of 17.41MiB at 28.35MiB/s ETA 00:005[download] Destination: 【小王子Le Petit Prince】完整版（上部）-NJ雪蝶-18zdf5uciVs.webm\n",
      "[download] Destination: The Argument - Slow Chinese Stories _ Intermediate Chinese _ Chinese Conversation _ HSK 4 _ HSK 5-NtnT4MmSFJw.webm\n",
      "[download]  11.5% of 17.41MiB at 42.58MiB/s ETA 00:000[download] Destination: What Kind of Guys Do Chinese Girls Like - with English Translations _ Intermediate Chinese-VH7aC2lbg1c.m4a\n",
      "[download]  23.1% of 17.33MiB at 21.18MiB/s ETA 00:00[download] Destination: What Do Chinese Think About South Koreans - Intermediate Chinese - Chinese Conversation-yXIDru3zM2w.webm\n",
      "[download]   0.1% of 24.05MiB at 956.26KiB/s ETA 00:25[youtube] 7or77vFZSa4: Downloading MPD manifest\n",
      "[download]   1.1% of 22.07MiB at  4.06MiB/s ETA 00:059[download] Destination: 孫子兵法 (The Art of War) by 孙武 (Sun Tzu) - FULL Chinese Language AudioBook _ GreatestAudioBooks V1-Wg56kS9gA50.webm\n",
      "[download]  33.3% of 24.05MiB at 45.64MiB/s ETA 00:001[download] Destination: 热风 (Hot Wind) LU XUN HOT WIND FULL AUDIOBOOK IN CHINESE LANGUAGE-cUAlLdwwdYQ.m4a\n",
      "[download] 100% of 17.33MiB in 00:0040MiB/s ETA 00:035nown ETAA\n",
      "[download]  84.2% of 16.39MiB at 21.63MiB/s ETA 00:00[dashsegments] Total fragments: 167\n",
      "[download] Destination: Learn Chinese with Stories. The Monkey King - Havoc in Heaven. Audiobook with Text .-jWKfxkF0GVg.webm\n",
      "[download]  44.1% of 22.07MiB at  1.35MiB/s ETA 00:09known ETA[dashsegments] Total fragments: 157\n",
      "[download]  44.2% of 22.07MiB at  1.38MiB/s ETA 00:085[download] Destination: Learn Chinese with Stories - Harry Potter and the Philosopher's Stone. Chinese Audiobook.-gFE8L6aq1Gs.m4a\n",
      "[download] 100% of 16.39MiB in 00:0072MiB/s ETA 00:00\n",
      "[download]   1.5% of 130.87MiB at  6.01MiB/s ETA 00:21[ffmpeg] Correcting container in \"China's Princess Syndrome - Intermediate Chinese - Chinese Conversation _ Level - HSK 4 - HSK 5-T907QXqWeF0.m4a\"\n",
      "[download] 100% of 17.41MiB in 00:00.19KiB/s ETA 00:16nown ETA\n",
      "[download]   0.1% of ~13.49MiB at 764.18KiB/s ETA 02:50own ETA[ffmpeg] Destination: The Argument - Slow Chinese Stories _ Intermediate Chinese _ Chinese Conversation _ HSK 4 _ HSK 5-NtnT4MmSFJw.mp3\n",
      "[download] 100% of 24.05MiB in 00:00known speed ETA 00:36\n",
      "[download]   1.0% of ~17.04MiB at 179.59KiB/s ETA 00:31[ffmpeg] Destination: China's Mama's Boy - Intermediate Chinese - Chinese Conversation - Level - HSK 4 - HSK 5-BieUQR4skTk.mp3\n",
      "[download]  88.3% of 22.07MiB at 279.56KiB/s ETA 00:09136n ETA[dashsegments] Total fragments: 952\n",
      "[download]  88.3% of 22.07MiB at 568.70KiB/s ETA 00:048[download] Destination: GOSPEL OF MATTHEW IN CHINESE LANGUAGE FULL AUDIO BOOK-7or77vFZSa4.webm\n",
      "[download] 100% of 18.38MiB in 00:014.22KiB/s ETA 00:25:17\n",
      "[download] 100% of 22.07MiB in 00:00\n",
      "[download]   2.2% of ~21.23MiB at 237.36KiB/s ETA 00:23own ETA[ffmpeg] Correcting container in \"What Kind of Guys Do Chinese Girls Like - with English Translations _ Intermediate Chinese-VH7aC2lbg1c.m4a\"\n",
      "[download]   1.1% of ~16.19MiB at 555.80KiB/s ETA 00:47[ffmpeg] Destination: China's Alarming Divorce Rate - Intermediate Chinese - Chinese Conversation - Chinese Podcast-IzL2lwkCDyc.mp3\n",
      "[download]   2.8% of ~21.23MiB at  1.44MiB/s ETA 00:201[ffmpeg] Destination: China's Princess Syndrome - Intermediate Chinese - Chinese Conversation _ Level - HSK 4 - HSK 5-T907QXqWeF0.mp3\n",
      "[download]   0.2% of ~105.28MiB at  1.87MiB/s ETA 02:48[ffmpeg] Destination: What Do Chinese Think About South Koreans - Intermediate Chinese - Chinese Conversation-yXIDru3zM2w.mp3\n",
      "[download] 100% of 34.01MiB in 00:0134.99KiB/s ETA 02:17\n",
      "[download]   4.6% of ~23.15MiB at  2.05MiB/s ETA 00:1980own ETA[ffmpeg] Destination: 孫子兵法 (The Art of War) by 孙武 (Sun Tzu) - FULL Chinese Language AudioBook _ GreatestAudioBooks V1-Wg56kS9gA50.mp3\n",
      "[download]   7.9% of ~22.96MiB at 266.54KiB/s ETA 00:209wn ETA[ffmpeg] Destination: What Kind of Guys Do Chinese Girls Like - with English Translations _ Intermediate Chinese-VH7aC2lbg1c.mp3\n",
      "[download] 100% of 71.38MiB in 00:15.36MiB/s ETA 00:0941wn ETAA\n",
      "[download]  59.5% of ~23.94MiB at 879.62KiB/s ETA 00:101[ffmpeg] Destination: 【小王子Le Petit Prince】完整版（上部）-NJ雪蝶-18zdf5uciVs.mp3\n",
      "[download] 100% of 130.87MiB in 00:21.95KiB/s ETA 00:0446wn ETA\n",
      "[download]  82.2% of ~22.23MiB at 913.18KiB/s ETA 00:0435[ffmpeg] Correcting container in \"热风 (Hot Wind) LU XUN HOT WIND FULL AUDIOBOOK IN CHINESE LANGUAGE-cUAlLdwwdYQ.m4a\"\n",
      "[download]  93.7% of ~24.03MiB at 237.60KiB/s ETA 00:012[ffmpeg] Destination: 热风 (Hot Wind) LU XUN HOT WIND FULL AUDIOBOOK IN CHINESE LANGUAGE-cUAlLdwwdYQ.mp3\n",
      "[download] 100% of 22.14MiB in 00:2660.78KiB/s ETA 02:34\n",
      "[download]  14.7% of ~166.82MiB at  1.32MiB/s ETA 02:3333[ffmpeg] Destination: Learn Chinese with Stories. The Monkey King - Havoc in Heaven. Audiobook with Text .-jWKfxkF0GVg.mp3\n",
      "[download] 100% of 23.94MiB in 00:2763.88KiB/s ETA 02:32\n",
      "[download]  15.5% of ~167.33MiB at  1.01MiB/s ETA 02:322[ffmpeg] Correcting container in \"Learn Chinese with Stories - Harry Potter and the Philosopher's Stone. Chinese Audiobook.-gFE8L6aq1Gs.m4a\"\n",
      "[download]  16.1% of ~167.30MiB at 147.26KiB/s ETA 02:333[ffmpeg] Destination: Learn Chinese with Stories - Harry Potter and the Philosopher's Stone. Chinese Audiobook.-gFE8L6aq1Gs.mp3\n",
      "[download]  29.0% of ~168.35MiB at 804.71KiB/s ETA 02:246Deleting original file China's Princess Syndrome - Intermediate Chinese - Chinese Conversation _ Level - HSK 4 - HSK 5-T907QXqWeF0.m4a (pass -k to keep)\n",
      "[download]  29.0% of ~168.35MiB at  1.05MiB/s ETA 02:24"
     ]
    },
    {
     "name": "stderr",
     "output_type": "stream",
     "text": [
      "\r",
      " 25%|██▌       | 1/4 [01:02<03:06, 62.33s/it]"
     ]
    },
    {
     "name": "stdout",
     "output_type": "stream",
     "text": [
      "[download]  29.2% of ~168.39MiB at  1.13MiB/s ETA 02:244[youtube] fAqs-YC8irc: Downloading webpage\n",
      "[download]  29.6% of ~168.45MiB at 170.79KiB/s ETA 02:234[download] Destination: Are Chinese Workaholics _ The 996 Work Culture - Intermediate Chinese - Chinese Conversation-fAqs-YC8irc.m4a\n",
      "[download] 100% of 24.60MiB in 00:0175MiB/s ETA 00:00:22wn ETA\n",
      "[download]  30.6% of ~168.49MiB at  1.27MiB/s ETA 02:211[ffmpeg] Correcting container in \"Are Chinese Workaholics _ The 996 Work Culture - Intermediate Chinese - Chinese Conversation-fAqs-YC8irc.m4a\"\n",
      "[download]  31.2% of ~168.53MiB at  1.03MiB/s ETA 02:200[ffmpeg] Destination: Are Chinese Workaholics _ The 996 Work Culture - Intermediate Chinese - Chinese Conversation-fAqs-YC8irc.mp3\n",
      "[download]  39.4% of ~168.55MiB at 980.89KiB/s ETA 02:066Deleting original file What Kind of Guys Do Chinese Girls Like - with English Translations _ Intermediate Chinese-VH7aC2lbg1c.m4a (pass -k to keep)\n",
      "[download]  39.4% of ~168.55MiB at 980.89KiB/s ETA 02:06"
     ]
    },
    {
     "name": "stderr",
     "output_type": "stream",
     "text": [
      "\r",
      " 25%|██▌       | 1/4 [01:25<04:15, 85.19s/it]"
     ]
    },
    {
     "name": "stdout",
     "output_type": "stream",
     "text": [
      "[download]  39.7% of ~168.49MiB at  1.65MiB/s ETA 02:055[youtube] N-YoIbr6-1Q: Downloading webpage\n",
      "[download]  40.2% of ~168.48MiB at 498.09KiB/s ETA 02:04[download] Destination: Englishman Gets Chinese Green Card and More! - Intermediate Chinese _ Chinese Conversation-N-YoIbr6-1Q.webm\n",
      "[download] 100% of 63.73MiB in 00:0292.04KiB/s ETA 02:01wn ETA\n",
      "[download]  41.6% of ~168.20MiB at  1.13MiB/s ETA 02:0001[ffmpeg] Destination: Englishman Gets Chinese Green Card and More! - Intermediate Chinese _ Chinese Conversation-N-YoIbr6-1Q.mp3\n",
      "[download]  48.0% of ~167.27MiB at 199.55KiB/s ETA 01:489Deleting original file China's Mama's Boy - Intermediate Chinese - Chinese Conversation - Level - HSK 4 - HSK 5-BieUQR4skTk.webm (pass -k to keep)\n",
      "[download]  48.0% of ~167.27MiB at 230.68KiB/s ETA 01:48"
     ]
    },
    {
     "name": "stderr",
     "output_type": "stream",
     "text": [
      "\r",
      " 25%|██▌       | 1/4 [01:43<05:11, 103.93s/it]"
     ]
    },
    {
     "name": "stdout",
     "output_type": "stream",
     "text": [
      "[download]  48.4% of ~167.24MiB at  1.17MiB/s ETA 01:478[youtube] l6kBSvtuc_8: Downloading webpage\n",
      "[download]  48.8% of ~167.18MiB at 549.39KiB/s ETA 01:477[download] Destination: American Talks About His Life in China - Intermediate Chinese - Chinese Conversation _ HSK 4 - HSK 5-l6kBSvtuc_8.webm\n",
      "[download] 100% of 37.36MiB in 00:0118MiB/s ETA 00:00:45wn ETA\n",
      "[download]  49.9% of ~167.04MiB at 1001.04KiB/s ETA 01:44[ffmpeg] Destination: American Talks About His Life in China - Intermediate Chinese - Chinese Conversation _ HSK 4 - HSK 5-l6kBSvtuc_8.mp3\n",
      "[download]  56.0% of ~166.05MiB at 938.84KiB/s ETA 01:323Deleting original file China's Alarming Divorce Rate - Intermediate Chinese - Chinese Conversation - Chinese Podcast-IzL2lwkCDyc.webm (pass -k to keep)\n",
      "[download]  56.0% of ~166.05MiB at  1.03MiB/s ETA 01:32"
     ]
    },
    {
     "name": "stderr",
     "output_type": "stream",
     "text": [
      "\r",
      " 25%|██▌       | 1/4 [02:00<06:02, 120.69s/it]"
     ]
    },
    {
     "name": "stdout",
     "output_type": "stream",
     "text": [
      "[download]  56.2% of ~165.97MiB at 225.98KiB/s ETA 01:31[youtube] 1uZs-xVpfHg: Downloading webpage\n",
      "[download]  56.6% of ~165.93MiB at 564.41KiB/s ETA 01:31[youtube] 1uZs-xVpfHg: Downloading MPD manifest\n",
      "[download]  56.6% of ~165.93MiB at  1.23MiB/s ETA 01:301Deleting original file The Argument - Slow Chinese Stories _ Intermediate Chinese _ Chinese Conversation _ HSK 4 _ HSK 5-NtnT4MmSFJw.webm (pass -k to keep)\n",
      "[download]  56.6% of ~165.91MiB at  1.23MiB/s ETA 01:31"
     ]
    },
    {
     "name": "stderr",
     "output_type": "stream",
     "text": [
      "\r",
      " 25%|██▌       | 1/4 [02:02<06:06, 122.33s/it]"
     ]
    },
    {
     "name": "stdout",
     "output_type": "stream",
     "text": [
      "[download]  56.9% of ~165.80MiB at 786.19KiB/s ETA 01:300[youtube] YSwgyuUO2cU: Downloading webpage\n",
      "[download]  57.0% of ~165.79MiB at 926.56KiB/s ETA 01:30[dashsegments] Total fragments: 490\n",
      "[download]  57.0% of ~165.79MiB at  1.03MiB/s ETA 01:30[download] Destination: 海的女儿 I The Little Mermaid(A Chinese Audiobook)-1uZs-xVpfHg.m4a\n",
      "[download]  57.2% of ~165.76MiB at 200.91KiB/s ETA 01:30"
     ]
    },
    {
     "name": "stderr",
     "output_type": "stream",
     "text": [
      "ERROR: YSwgyuUO2cU: YouTube said: Unable to extract video data\n"
     ]
    },
    {
     "name": "stdout",
     "output_type": "stream",
     "text": [
      "\r",
      "[download]  57.2% of ~165.76MiB at 269.65KiB/s ETA 01:30"
     ]
    },
    {
     "name": "stderr",
     "output_type": "stream",
     "text": [
      "\r",
      " 50%|█████     | 2/4 [02:03<02:51, 85.97s/it] "
     ]
    },
    {
     "name": "stdout",
     "output_type": "stream",
     "text": [
      "[download]  57.5% of ~165.72MiB at  1.06MiB/s ETA 01:2929:32[youtube] NLu0JW6VtGM: Downloading webpage\n",
      "[download]  57.9% of ~165.69MiB at 963.09KiB/s ETA 01:28[youtube] NLu0JW6VtGM: Downloading MPD manifest\n",
      "[download]   2.2% of ~69.26MiB at  1.13MiB/s ETA 01:44278[dashsegments] Total fragments: 257\n",
      "[download]  58.2% of ~165.62MiB at 282.55KiB/s ETA 01:27[download] Destination: Chinese Audiobook with Text. Harry Potter and the Philosopher's Stone, Chapter 1.-NLu0JW6VtGM.webm\n",
      "[download]  20.7% of ~74.77MiB at 700.99KiB/s ETA 01:1191Deleting original file Learn Chinese with Stories - Harry Potter and the Philosopher's Stone. Chinese Audiobook.-gFE8L6aq1Gs.m4a (pass -k to keep)\n",
      "[download]  20.8% of ~74.77MiB at  1.27MiB/s ETA 01:115"
     ]
    },
    {
     "name": "stderr",
     "output_type": "stream",
     "text": [
      "\r",
      " 25%|██▌       | 1/4 [02:21<07:05, 141.87s/it]"
     ]
    },
    {
     "name": "stdout",
     "output_type": "stream",
     "text": [
      "[download]  40.5% of ~31.63MiB at 986.04KiB/s ETA 00:248[youtube] WNIEhpPsfDk: Downloading webpage\n",
      "[download]  22.0% of ~74.81MiB at  1.06MiB/s ETA 01:1007[download] Destination: The Payback - Slow Chinese Stories - Intermediate Chinese _ Chinese Conversation _ HSK 4 _ HSK 5-WNIEhpPsfDk.webm\n",
      "[download]  67.6% of ~164.79MiB at 105.23KiB/s ETA 01:07Deleting original file What Do Chinese Think About South Koreans - Intermediate Chinese - Chinese Conversation-yXIDru3zM2w.webm (pass -k to keep)\n",
      "[download]  22.5% of ~74.83MiB at 854.88KiB/s ETA 01:107"
     ]
    },
    {
     "name": "stderr",
     "output_type": "stream",
     "text": [
      "\r",
      " 25%|██▌       | 1/4 [02:23<07:10, 143.60s/it]"
     ]
    },
    {
     "name": "stdout",
     "output_type": "stream",
     "text": [
      "[download]  23.3% of ~74.85MiB at  1.14MiB/s ETA 01:0999wn ETA[youtube] IxR5I3HS2T8: Downloading webpage\n",
      "[download] 100% of 19.95MiB in 00:01.11MiB/s ETA 01:0806wn ETA\n",
      "[download]  23.9% of ~74.87MiB at 153.51KiB/s ETA 01:086[ffmpeg] Destination: The Payback - Slow Chinese Stories - Intermediate Chinese _ Chinese Conversation _ HSK 4 _ HSK 5-WNIEhpPsfDk.mp3\n",
      "[download]  24.1% of ~74.87MiB at 836.45KiB/s ETA 01:085[download] Destination: Love, Money or Health - Which One Do Chinese Choose - Intermediate Chinese _ Chinese Conversation-IxR5I3HS2T8.webm\n",
      "[download] 100% of 28.00MiB in 00:0156.56KiB/s ETA 01:03wn ETA\n",
      "[download]  26.0% of ~74.92MiB at 374.21KiB/s ETA 01:063[ffmpeg] Destination: Love, Money or Health - Which One Do Chinese Choose - Intermediate Chinese _ Chinese Conversation-IxR5I3HS2T8.mp3\n",
      "[download]  64.2% of ~31.80MiB at  1.10MiB/s ETA 00:1587Deleting original file Are Chinese Workaholics _ The 996 Work Culture - Intermediate Chinese - Chinese Conversation-fAqs-YC8irc.m4a (pass -k to keep)\n",
      "[download]  72.3% of ~164.36MiB at 357.29KiB/s ETA 00:57"
     ]
    },
    {
     "name": "stderr",
     "output_type": "stream",
     "text": [
      "\r",
      " 50%|█████     | 2/4 [02:32<02:21, 70.80s/it]"
     ]
    },
    {
     "name": "stdout",
     "output_type": "stream",
     "text": [
      "[download]  65.0% of ~31.81MiB at 236.86KiB/s ETA 00:146[youtube] V_XteZbz5pg: Downloading webpage\n",
      "[download]  66.5% of ~31.83MiB at 979.33KiB/s ETA 00:146[download] Destination: A Walk Around Macao - Intermediate Chinese - Chinese Listening Practice - Chinese Conversation-V_XteZbz5pg.webm\n",
      "[download] 100% of 38.80MiB in 00:01.11MiB/s ETA 00:1244wn ETA\n",
      "[download]  36.9% of ~75.09MiB at 216.51KiB/s ETA 00:554[ffmpeg] Destination: A Walk Around Macao - Intermediate Chinese - Chinese Listening Practice - Chinese Conversation-V_XteZbz5pg.mp3\n",
      "[download] 100% of 31.94MiB in 00:421.28MiB/s ETA 00:3900\n",
      "[download]  80.6% of ~164.63MiB at  1.08MiB/s ETA 00:399[ffmpeg] Destination: Chinese Audiobook with Text. Harry Potter and the Philosopher's Stone, Chapter 1.-NLu0JW6VtGM.mp3\n",
      "[download]  62.1% of ~75.26MiB at 582.90KiB/s ETA 00:3480Deleting original file Learn Chinese with Stories. The Monkey King - Havoc in Heaven. Audiobook with Text .-jWKfxkF0GVg.webm (pass -k to keep)\n",
      "[download]  86.1% of ~164.93MiB at 116.95KiB/s ETA 00:28"
     ]
    },
    {
     "name": "stderr",
     "output_type": "stream",
     "text": [
      "\r",
      " 25%|██▌       | 1/4 [02:59<08:58, 179.66s/it]"
     ]
    },
    {
     "name": "stdout",
     "output_type": "stream",
     "text": [
      "[download]  86.4% of ~164.98MiB at  1.00MiB/s ETA 00:277[youtube] VjzeR0xgQ8I: Downloading webpage\n",
      "[download]  63.7% of ~75.27MiB at 386.61KiB/s ETA 00:336[download] Destination: 3 Things Chinese Like and Dislike About Foreigners - Intermediate Chinese - Chinese Conversation-VjzeR0xgQ8I.m4a\n",
      "[download] 100% of 22.17MiB in 00:004.63KiB/s ETA 00:326wn ETA\n",
      "[download]  65.3% of ~75.27MiB at  1.11MiB/s ETA 00:3125[ffmpeg] Correcting container in \"3 Things Chinese Like and Dislike About Foreigners - Intermediate Chinese - Chinese Conversation-VjzeR0xgQ8I.m4a\"\n",
      "[download]  66.8% of ~75.28MiB at 517.92KiB/s ETA 00:303[ffmpeg] Destination: 3 Things Chinese Like and Dislike About Foreigners - Intermediate Chinese - Chinese Conversation-VjzeR0xgQ8I.mp3\n",
      "[download]  78.2% of ~75.31MiB at 998.29KiB/s ETA 00:2034Deleting original file 孫子兵法 (The Art of War) by 孙武 (Sun Tzu) - FULL Chinese Language AudioBook _ GreatestAudioBooks V1-Wg56kS9gA50.webm (pass -k to keep)\n",
      "[download]  93.5% of ~165.95MiB at 149.89KiB/s ETA 00:13"
     ]
    },
    {
     "name": "stderr",
     "output_type": "stream",
     "text": [
      "\r",
      " 25%|██▌       | 1/4 [03:14<09:44, 194.87s/it]"
     ]
    },
    {
     "name": "stdout",
     "output_type": "stream",
     "text": [
      "[download]  93.8% of ~166.00MiB at 348.78KiB/s ETA 00:12[youtube] 6ZWiTtjSvj8: Downloading webpage\n",
      "[download]  94.0% of ~166.02MiB at 610.42KiB/s ETA 00:12[download] Destination: What Do Chinese Think About Japanese - Intermediate Chinese - Chinese Conversation-6ZWiTtjSvj8.webm\n",
      "[download] 100% of 25.59MiB in 00:011.33MiB/s ETA 00:1001n ETA\n",
      "[download]  80.7% of ~75.32MiB at 516.23KiB/s ETA 00:170[ffmpeg] Destination: What Do Chinese Think About Japanese - Intermediate Chinese - Chinese Conversation-6ZWiTtjSvj8.mp3\n",
      "[download] 100% of 166.48MiB in 03:2408MiB/s ETA 00:07001\n",
      "[download]  92.2% of ~75.34MiB at 1011.70KiB/s ETA 00:07[ffmpeg] Destination: GOSPEL OF MATTHEW IN CHINESE LANGUAGE FULL AUDIO BOOK-7or77vFZSa4.mp3\n",
      "[download] 100% of 75.26MiB in 01:338.81KiB/s ETA 00:001\n",
      "[ffmpeg] Correcting container in \"海的女儿 I The Little Mermaid(A Chinese Audiobook)-1uZs-xVpfHg.m4a\"\n",
      "[ffmpeg] Destination: 海的女儿 I The Little Mermaid(A Chinese Audiobook)-1uZs-xVpfHg.mp3\n",
      "Deleting original file 3 Things Chinese Like and Dislike About Foreigners - Intermediate Chinese - Chinese Conversation-VjzeR0xgQ8I.m4a (pass -k to keep)\n"
     ]
    },
    {
     "name": "stderr",
     "output_type": "stream",
     "text": [
      "\r",
      " 50%|█████     | 2/4 [04:27<05:04, 152.23s/it]"
     ]
    },
    {
     "name": "stdout",
     "output_type": "stream",
     "text": [
      "Deleting original file The Payback - Slow Chinese Stories - Intermediate Chinese _ Chinese Conversation _ HSK 4 _ HSK 5-WNIEhpPsfDk.webm (pass -k to keep)\n"
     ]
    },
    {
     "name": "stderr",
     "output_type": "stream",
     "text": [
      "\r",
      " 50%|█████     | 2/4 [04:28<04:34, 137.21s/it]"
     ]
    },
    {
     "name": "stdout",
     "output_type": "stream",
     "text": [
      "[youtube] DIP-Fgq27f4: Downloading webpage\n",
      "[youtube] jZ3_M9TkCX4: Downloading webpage\n",
      "[download] Destination: Why is Getting a Wife So Expensive For Chinese Men - Intermediate Chinese - Chinese Conversation-jZ3_M9TkCX4.webm\n",
      "[download]  30.9% of 32.18MiB at 143.97KiB/s ETA 02:38nown ETA[download] Destination: 老殘遊記 Lao Can You Ji FULL AUDIOBOOK IN CHINESE LANGUAGE-DIP-Fgq27f4.m4a\n",
      "[download] 100% of 32.18MiB in 00:0101MiB/s ETA 00:004nown ETA\n",
      "[ffmpeg] Destination: Why is Getting a Wife So Expensive For Chinese Men - Intermediate Chinese - Chinese Conversation-jZ3_M9TkCX4.mp3\n",
      "[download]  47.8% of 447.77MiB at  4.48MiB/s ETA 00:525nown ETADeleting original file American Talks About His Life in China - Intermediate Chinese - Chinese Conversation _ HSK 4 - HSK 5-l6kBSvtuc_8.webm (pass -k to keep)\n"
     ]
    },
    {
     "name": "stderr",
     "output_type": "stream",
     "text": [
      "\r",
      " 50%|█████     | 2/4 [05:29<04:40, 140.35s/it]"
     ]
    },
    {
     "name": "stdout",
     "output_type": "stream",
     "text": [
      "[download]  48.0% of 447.77MiB at  4.81MiB/s ETA 00:487nown ETA[youtube] JOI6naLEpMI: Downloading webpage\n",
      "[download]  48.7% of 447.77MiB at  4.08MiB/s ETA 00:56[download] Destination: Chinese Girls Don't Have Freckles - Intermediate Chinese  - Chinese Conversation - Chinese Podcast-JOI6naLEpMI.webm\n",
      "[download] 100% of 12.33MiB in 00:0248MiB/s ETA 00:0072own ETAA\n",
      "[ffmpeg] Destination: Chinese Girls Don't Have Freckles - Intermediate Chinese  - Chinese Conversation - Chinese Podcast-JOI6naLEpMI.mp3\n",
      "[download]  58.2% of 447.77MiB at  3.48MiB/s ETA 00:534nown ETADeleting original file Love, Money or Health - Which One Do Chinese Choose - Intermediate Chinese _ Chinese Conversation-IxR5I3HS2T8.webm (pass -k to keep)\n"
     ]
    },
    {
     "name": "stderr",
     "output_type": "stream",
     "text": [
      "\r",
      " 50%|█████     | 2/4 [05:41<05:20, 160.02s/it]"
     ]
    },
    {
     "name": "stdout",
     "output_type": "stream",
     "text": [
      "[download]  58.7% of 447.77MiB at 135.96KiB/s ETA 23:12nown ETA[youtube] ylH-VEO5IbQ: Downloading webpage\n",
      "[download]  58.9% of 447.77MiB at  4.74MiB/s ETA 00:381[download] Destination: Import-Export Beauty Products Factory - Intermediate Chinese - Chinese Conversation _ HSK 4 - HSK 5-ylH-VEO5IbQ.webm\n",
      "[download] 100% of 47.04MiB in 00:0269MiB/s ETA 00:003nown ETA\n",
      "[download]  60.9% of 447.77MiB at  1.00MiB/s ETA 02:541nown ETA[ffmpeg] Destination: Import-Export Beauty Products Factory - Intermediate Chinese - Chinese Conversation _ HSK 4 - HSK 5-ylH-VEO5IbQ.mp3\n",
      "[download]  80.5% of 447.77MiB at 115.37KiB/s ETA 12:55nown ETADeleting original file What Do Chinese Think About Japanese - Intermediate Chinese - Chinese Conversation-6ZWiTtjSvj8.webm (pass -k to keep)\n",
      "[download]  80.5% of 447.77MiB at 152.11KiB/s ETA 09:47"
     ]
    },
    {
     "name": "stderr",
     "output_type": "stream",
     "text": [
      "\r",
      " 50%|█████     | 2/4 [06:12<06:19, 189.65s/it]"
     ]
    },
    {
     "name": "stdout",
     "output_type": "stream",
     "text": [
      "[download]  80.7% of 447.77MiB at  4.89MiB/s ETA 00:174[youtube] U1ywZGocjro: Downloading webpage\n",
      "[download]  81.2% of 447.77MiB at  3.23MiB/s ETA 00:26[download] Destination: 論語 Lun Yu Analects of Confucius  Full AudioBook in Chinese-U1ywZGocjro.webm\n",
      "[download]  61.3% of 112.54MiB at  3.20MiB/s ETA 00:136nown ETADeleting original file Chinese Audiobook with Text. Harry Potter and the Philosopher's Stone, Chapter 1.-NLu0JW6VtGM.webm (pass -k to keep)\n",
      "[download]  61.7% of 112.54MiB at  5.65MiB/s ETA 00:07"
     ]
    },
    {
     "name": "stderr",
     "output_type": "stream",
     "text": [
      "\r",
      " 75%|███████▌  | 3/4 [06:33<02:21, 141.24s/it]"
     ]
    },
    {
     "name": "stdout",
     "output_type": "stream",
     "text": [
      "[download]  96.4% of 447.77MiB at  2.84MiB/s ETA 00:05[youtube] qaGfP5sk7z8: Downloading webpage\n",
      "[download]  97.0% of 447.77MiB at  2.88MiB/s ETA 00:04[download] Destination: What Do Chinese Really Think About Leftover Women - Intermediate Chinese - Chinese Conversation-qaGfP5sk7z8.webm\n",
      "[download] 100% of 31.10MiB in 00:0117MiB/s ETA 00:002nown ETAA\n",
      "[download]  69.7% of 112.54MiB at  1.08MiB/s ETA 00:314nown ETA[ffmpeg] Destination: What Do Chinese Really Think About Leftover Women - Intermediate Chinese - Chinese Conversation-qaGfP5sk7z8.mp3\n",
      "[download] 100% of 447.77MiB in 02:0809MiB/s ETA 00:00\n",
      "[ffmpeg] Correcting container in \"老殘遊記 Lao Can You Ji FULL AUDIOBOOK IN CHINESE LANGUAGE-DIP-Fgq27f4.m4a\"\n",
      "[download]  83.3% of 112.54MiB at  4.91MiB/s ETA 00:034nown ETADeleting original file A Walk Around Macao - Intermediate Chinese - Chinese Listening Practice - Chinese Conversation-V_XteZbz5pg.webm (pass -k to keep)\n"
     ]
    },
    {
     "name": "stderr",
     "output_type": "stream",
     "text": [
      "\r",
      " 75%|███████▌  | 3/4 [06:41<02:04, 124.12s/it]"
     ]
    },
    {
     "name": "stdout",
     "output_type": "stream",
     "text": [
      "[download]  87.0% of 112.54MiB at  4.36MiB/s ETA 00:03[youtube] BQpcj10O8nA: Downloading webpage\n",
      "[download]  90.6% of 112.54MiB at 16.64MiB/s ETA 00:005nown ETA[download] Destination: He Lost 100 Pounds Doing The Keto Diet in China! - Intermediate Chinese - Chinese Conversation-BQpcj10O8nA.m4a\n",
      "[download] 100% of 112.54MiB in 00:2974KiB/s ETA 03:11nown ETAA\n",
      "[download]  35.6% of 39.23MiB at 14.15MiB/s ETA 00:012[ffmpeg] Destination: 論語 Lun Yu Analects of Confucius  Full AudioBook in Chinese-U1ywZGocjro.mp3\n",
      "[download] 100% of 39.23MiB in 00:0243MiB/s ETA 00:000nown ETA\n",
      "[ffmpeg] Correcting container in \"He Lost 100 Pounds Doing The Keto Diet in China! - Intermediate Chinese - Chinese Conversation-BQpcj10O8nA.m4a\"\n",
      "[ffmpeg] Destination: He Lost 100 Pounds Doing The Keto Diet in China! - Intermediate Chinese - Chinese Conversation-BQpcj10O8nA.mp3\n",
      "Deleting original file Chinese Girls Don't Have Freckles - Intermediate Chinese  - Chinese Conversation - Chinese Podcast-JOI6naLEpMI.webm (pass -k to keep)\n"
     ]
    },
    {
     "name": "stderr",
     "output_type": "stream",
     "text": [
      "\r",
      " 75%|███████▌  | 3/4 [06:50<02:02, 122.57s/it]"
     ]
    },
    {
     "name": "stdout",
     "output_type": "stream",
     "text": [
      "[youtube] Tmg6oERWyH4: Downloading webpage\n",
      "[youtube] Tmg6oERWyH4: Downloading MPD manifest\n",
      "[dashsegments] Total fragments: 207\n",
      "[download] Destination: Chinese Audiobook with Text. Harry Potter and the Philosopher's Stone, Chapter 3.-Tmg6oERWyH4.webm\n",
      "[download]  14.5% of ~26.41MiB at 932.92KiB/s ETA 00:3563[ffmpeg] Destination: 老殘遊記 Lao Can You Ji FULL AUDIOBOOK IN CHINESE LANGUAGE-DIP-Fgq27f4.mp3\n",
      "[download]  66.6% of ~26.29MiB at 937.81KiB/s ETA 00:156Deleting original file 【小王子Le Petit Prince】完整版（上部）-NJ雪蝶-18zdf5uciVs.webm (pass -k to keep)\n",
      "[download]  66.7% of ~26.29MiB at 866.96KiB/s ETA 00:15"
     ]
    },
    {
     "name": "stderr",
     "output_type": "stream",
     "text": [
      "\r",
      " 25%|██▌       | 1/4 [07:22<22:07, 442.39s/it]"
     ]
    },
    {
     "name": "stdout",
     "output_type": "stream",
     "text": [
      "[download]  67.9% of ~26.30MiB at 507.63KiB/s ETA 00:144[youtube] UKuT2XuZ7fM: Downloading webpage\n",
      "[download]  69.6% of ~26.31MiB at 163.10KiB/s ETA 00:13[download] Destination: Chinese Famous Actress Disappeared! - Intermediate Chinese _ Chinese Conversation _ HSK 4 - HSK 5-UKuT2XuZ7fM.webm\n",
      "[download] 100% of 17.14MiB in 00:003.52KiB/s ETA 00:13own ETA\n",
      "[download]  71.7% of ~26.33MiB at 488.92KiB/s ETA 00:12[ffmpeg] Destination: Chinese Famous Actress Disappeared! - Intermediate Chinese _ Chinese Conversation _ HSK 4 - HSK 5-UKuT2XuZ7fM.mp3\n",
      "[download] 100% of 26.35MiB in 00:441.47KiB/s ETA 00:001\n",
      "[ffmpeg] Destination: Chinese Audiobook with Text. Harry Potter and the Philosopher's Stone, Chapter 3.-Tmg6oERWyH4.mp3\n",
      "Deleting original file Why is Getting a Wife So Expensive For Chinese Men - Intermediate Chinese - Chinese Conversation-jZ3_M9TkCX4.webm (pass -k to keep)\n"
     ]
    },
    {
     "name": "stderr",
     "output_type": "stream",
     "text": [
      "\r",
      " 75%|███████▌  | 3/4 [07:44<02:34, 154.88s/it]"
     ]
    },
    {
     "name": "stdout",
     "output_type": "stream",
     "text": [
      "[youtube] obkefyOHKr4: Downloading webpage\n",
      "[download] Destination: Speaking Out - Slow Chinese Stories - Intermediate Chinese _ Chinese Conversation _ HSK 4 _ HSK 5-obkefyOHKr4.webm\n",
      "[download]   0.5% of 23.74MiB at 736.11KiB/s ETA 00:32Deleting original file 热风 (Hot Wind) LU XUN HOT WIND FULL AUDIOBOOK IN CHINESE LANGUAGE-cUAlLdwwdYQ.m4a (pass -k to keep)\n",
      "[download]   1.0% of 23.74MiB at  1.23MiB/s ETA 00:19"
     ]
    },
    {
     "name": "stderr",
     "output_type": "stream",
     "text": [
      "\r",
      " 25%|██▌       | 1/4 [07:45<23:17, 465.79s/it]"
     ]
    },
    {
     "name": "stdout",
     "output_type": "stream",
     "text": [
      "[download]  46.2% of 23.74MiB at  5.68MiB/s ETA 00:022nown ETA[youtube] unmCwK_9El8: Downloading webpage\n",
      "[download]  85.8% of 23.74MiB at  2.97MiB/s ETA 00:0103own ETA[download] Destination: Why Are Some Chinese Men So Feminine - Intermediate Chinese - Chinese Conversation - Audio Podcast-unmCwK_9El8.m4a\n",
      "[download] 100% of 23.74MiB in 00:01.34KiB/s ETA 05:10\n",
      "[download]  12.8% of 31.34MiB at 13.12MiB/s ETA 00:027[ffmpeg] Destination: Speaking Out - Slow Chinese Stories - Intermediate Chinese _ Chinese Conversation _ HSK 4 _ HSK 5-obkefyOHKr4.mp3\n",
      "[download] 100% of 31.34MiB in 00:0182MiB/s ETA 00:002nown ETA\n",
      "[ffmpeg] Correcting container in \"Why Are Some Chinese Men So Feminine - Intermediate Chinese - Chinese Conversation - Audio Podcast-unmCwK_9El8.m4a\"\n",
      "[ffmpeg] Destination: Why Are Some Chinese Men So Feminine - Intermediate Chinese - Chinese Conversation - Audio Podcast-unmCwK_9El8.mp3\n",
      "Deleting original file Englishman Gets Chinese Green Card and More! - Intermediate Chinese _ Chinese Conversation-N-YoIbr6-1Q.webm (pass -k to keep)\n"
     ]
    },
    {
     "name": "stderr",
     "output_type": "stream",
     "text": [
      "\r",
      " 50%|█████     | 2/4 [08:00<05:56, 178.20s/it]"
     ]
    },
    {
     "name": "stdout",
     "output_type": "stream",
     "text": [
      "[youtube] IDg0E93eM2U: Downloading webpage\n",
      "[download] Destination: Visit To Leshan Giant Buddha - Intermediate Chinese _ Chinese Conversation-IDg0E93eM2U.webm\n",
      "[download] 100% of 22.21MiB in 00:0155MiB/s ETA 00:004nown ETA\n",
      "[ffmpeg] Destination: Visit To Leshan Giant Buddha - Intermediate Chinese _ Chinese Conversation-IDg0E93eM2U.mp3\n",
      "Deleting original file Chinese Famous Actress Disappeared! - Intermediate Chinese _ Chinese Conversation _ HSK 4 - HSK 5-UKuT2XuZ7fM.webm (pass -k to keep)\n"
     ]
    },
    {
     "name": "stderr",
     "output_type": "stream",
     "text": [
      "\r",
      " 50%|█████     | 2/4 [09:13<11:26, 343.15s/it]"
     ]
    },
    {
     "name": "stdout",
     "output_type": "stream",
     "text": [
      "[youtube] rx9EW69Qtn8: Downloading webpage\n"
     ]
    },
    {
     "name": "stderr",
     "output_type": "stream",
     "text": [
      "ERROR: rx9EW69Qtn8: YouTube said: Unable to extract video data\n",
      " 75%|███████▌  | 3/4 [09:14<04:00, 240.48s/it]"
     ]
    },
    {
     "name": "stdout",
     "output_type": "stream",
     "text": [
      "[youtube] b_d-Yf-Gzyw: Downloading webpage\n",
      "[download] Destination: A Walk Around Hong Kong - with English Subtitles - Intermediate Chinese - Chinese Conversation-b_d-Yf-Gzyw.webm\n",
      "[download] 100% of 33.34MiB in 00:0208MiB/s ETA 00:003nown ETA\n",
      "[ffmpeg] Destination: A Walk Around Hong Kong - with English Subtitles - Intermediate Chinese - Chinese Conversation-b_d-Yf-Gzyw.mp3\n",
      "Deleting original file He Lost 100 Pounds Doing The Keto Diet in China! - Intermediate Chinese - Chinese Conversation-BQpcj10O8nA.m4a (pass -k to keep)\n"
     ]
    },
    {
     "name": "stderr",
     "output_type": "stream",
     "text": [
      "100%|██████████| 4/4 [09:19<00:00, 139.96s/it]\n",
      "  0%|          | 0/4 [00:00<?, ?it/s]"
     ]
    },
    {
     "name": "stdout",
     "output_type": "stream",
     "text": [
      "[youtube] ERPf3TbiK0E: Downloading webpage\n",
      "[download] Destination: Interview with American YouTuber AUSTIN IN CHINA - Intermediate Chinese _ Chinese Conversation-ERPf3TbiK0E.webm\n",
      "[download] 100% of 75.50MiB in 00:0381MiB/s ETA 00:007nown ETA\n",
      "[ffmpeg] Destination: Interview with American YouTuber AUSTIN IN CHINA - Intermediate Chinese _ Chinese Conversation-ERPf3TbiK0E.mp3\n",
      "Deleting original file 海的女儿 I The Little Mermaid(A Chinese Audiobook)-1uZs-xVpfHg.m4a (pass -k to keep)\n"
     ]
    },
    {
     "name": "stderr",
     "output_type": "stream",
     "text": [
      "\r",
      " 50%|█████     | 2/4 [09:42<07:26, 223.03s/it]"
     ]
    },
    {
     "name": "stdout",
     "output_type": "stream",
     "text": [
      "[youtube] 0xSswYU5ZFE: Downloading webpage\n",
      "[download] Destination: Rock Climbing Chinese Girl Talks About Her Life - Intermediate Chinese _ Chinese Conversation-0xSswYU5ZFE.webm\n",
      "[download] 100% of 37.70MiB in 00:0145MiB/s ETA 00:009nown ETA\n",
      "[ffmpeg] Destination: Rock Climbing Chinese Girl Talks About Her Life - Intermediate Chinese _ Chinese Conversation-0xSswYU5ZFE.mp3\n",
      "Deleting original file Why Are Some Chinese Men So Feminine - Intermediate Chinese - Chinese Conversation - Audio Podcast-unmCwK_9El8.m4a (pass -k to keep)\n"
     ]
    },
    {
     "name": "stderr",
     "output_type": "stream",
     "text": [
      "\r",
      " 50%|█████     | 2/4 [09:54<12:09, 364.76s/it]"
     ]
    },
    {
     "name": "stdout",
     "output_type": "stream",
     "text": [
      "[youtube] JOL8sFYlBU4: Downloading webpage\n",
      "[download] Destination: China's Mama's Boy - Intermediate Chinese - Chinese Conversation _ HSK 4 - HSK 5-JOL8sFYlBU4.webm\n",
      "[download] 100% of 16.84MiB in 00:0020MiB/s ETA 00:007nown ETA\n",
      "[ffmpeg] Destination: China's Mama's Boy - Intermediate Chinese - Chinese Conversation _ HSK 4 - HSK 5-JOL8sFYlBU4.mp3\n",
      "Deleting original file What Do Chinese Really Think About Leftover Women - Intermediate Chinese - Chinese Conversation-qaGfP5sk7z8.webm (pass -k to keep)\n"
     ]
    },
    {
     "name": "stderr",
     "output_type": "stream",
     "text": [
      "100%|██████████| 4/4 [10:07<00:00, 151.94s/it]\n",
      "  0%|          | 0/3 [00:00<?, ?it/s]"
     ]
    },
    {
     "name": "stdout",
     "output_type": "stream",
     "text": [
      "[youtube] mRCrxLUcVPk: Downloading webpage\n",
      "[download] Destination: Evidence - Slow Chinese Stories - Intermediate Chinese Listening Practice - Level - HSK 3 - HSK 4-mRCrxLUcVPk.webm\n",
      "[download] 100% of 17.53MiB in 00:0087MiB/s ETA 00:007nown ETA\n",
      "[ffmpeg] Destination: Evidence - Slow Chinese Stories - Intermediate Chinese Listening Practice - Level - HSK 3 - HSK 4-mRCrxLUcVPk.mp3\n",
      "Deleting original file Visit To Leshan Giant Buddha - Intermediate Chinese _ Chinese Conversation-IDg0E93eM2U.webm (pass -k to keep)\n"
     ]
    },
    {
     "name": "stderr",
     "output_type": "stream",
     "text": [
      "\r",
      " 75%|███████▌  | 3/4 [10:43<02:53, 173.63s/it]"
     ]
    },
    {
     "name": "stdout",
     "output_type": "stream",
     "text": [
      "[youtube] I_E38TJpU6Q: Downloading webpage\n",
      "[download] Destination: Would Chinese Date Foreigners - Intermediate Chinese _ Chinese Conversation _ Street Interviews-I_E38TJpU6Q.m4a\n",
      "[download] 100% of 22.11MiB in 00:0187MiB/s ETA 00:003nown ETA\n",
      "[ffmpeg] Correcting container in \"Would Chinese Date Foreigners - Intermediate Chinese _ Chinese Conversation _ Street Interviews-I_E38TJpU6Q.m4a\"\n",
      "[ffmpeg] Destination: Would Chinese Date Foreigners - Intermediate Chinese _ Chinese Conversation _ Street Interviews-I_E38TJpU6Q.mp3\n",
      "Deleting original file Chinese Audiobook with Text. Harry Potter and the Philosopher's Stone, Chapter 3.-Tmg6oERWyH4.webm (pass -k to keep)\n"
     ]
    },
    {
     "name": "stderr",
     "output_type": "stream",
     "text": [
      "100%|██████████| 4/4 [10:52<00:00, 163.14s/it]\n"
     ]
    },
    {
     "name": "stdout",
     "output_type": "stream",
     "text": [
      "Deleting original file Speaking Out - Slow Chinese Stories - Intermediate Chinese _ Chinese Conversation _ HSK 4 _ HSK 5-obkefyOHKr4.webm (pass -k to keep)\n"
     ]
    },
    {
     "name": "stderr",
     "output_type": "stream",
     "text": [
      "100%|██████████| 4/4 [10:53<00:00, 163.33s/it]\n"
     ]
    },
    {
     "name": "stdout",
     "output_type": "stream",
     "text": [
      "Deleting original file Import-Export Beauty Products Factory - Intermediate Chinese - Chinese Conversation _ HSK 4 - HSK 5-ylH-VEO5IbQ.webm (pass -k to keep)\n"
     ]
    },
    {
     "name": "stderr",
     "output_type": "stream",
     "text": [
      "\r",
      " 75%|███████▌  | 3/4 [11:03<03:28, 208.51s/it]"
     ]
    },
    {
     "name": "stdout",
     "output_type": "stream",
     "text": [
      "[youtube] bYjjQpP8FaM: Downloading webpage\n",
      "[download] Destination: Medicine - Slow Chinese Stories - Intermediate Chinese Listening Practice - Chinese Conversation-bYjjQpP8FaM.webm\n",
      "[download] 100% of 20.45MiB in 00:0130MiB/s ETA 00:001nown ETA\n",
      "[ffmpeg] Destination: Medicine - Slow Chinese Stories - Intermediate Chinese Listening Practice - Chinese Conversation-bYjjQpP8FaM.mp3\n",
      "Deleting original file China's Mama's Boy - Intermediate Chinese - Chinese Conversation _ HSK 4 - HSK 5-JOL8sFYlBU4.webm (pass -k to keep)\n"
     ]
    },
    {
     "name": "stderr",
     "output_type": "stream",
     "text": [
      "\r",
      " 75%|███████▌  | 3/4 [11:36<04:45, 285.85s/it]"
     ]
    },
    {
     "name": "stdout",
     "output_type": "stream",
     "text": [
      "[youtube] ttmqMaoMdVw: Downloading webpage\n",
      "[download] Destination: Chinese HSK 2 Vocabulary & Sentences - Full HSK 2 Word List & Lessons _ Beginner Chinese-ttmqMaoMdVw.webm\n",
      "[download] 100% of 96.87MiB in 00:0512MiB/s ETA 00:000nown ETA\n",
      "[ffmpeg] Destination: Chinese HSK 2 Vocabulary & Sentences - Full HSK 2 Word List & Lessons _ Beginner Chinese-ttmqMaoMdVw.mp3\n",
      "Deleting original file Would Chinese Date Foreigners - Intermediate Chinese _ Chinese Conversation _ Street Interviews-I_E38TJpU6Q.m4a (pass -k to keep)\n"
     ]
    },
    {
     "name": "stderr",
     "output_type": "stream",
     "text": [
      "100%|██████████| 4/4 [11:58<00:00, 179.63s/it]\n"
     ]
    },
    {
     "name": "stdout",
     "output_type": "stream",
     "text": [
      "Deleting original file A Walk Around Hong Kong - with English Subtitles - Intermediate Chinese - Chinese Conversation-b_d-Yf-Gzyw.webm (pass -k to keep)\n"
     ]
    },
    {
     "name": "stderr",
     "output_type": "stream",
     "text": [
      "100%|██████████| 4/4 [12:34<00:00, 188.64s/it]\n"
     ]
    },
    {
     "name": "stdout",
     "output_type": "stream",
     "text": [
      "Deleting original file Evidence - Slow Chinese Stories - Intermediate Chinese Listening Practice - Level - HSK 3 - HSK 4-mRCrxLUcVPk.webm (pass -k to keep)\n"
     ]
    },
    {
     "name": "stderr",
     "output_type": "stream",
     "text": [
      "\r",
      " 33%|███▎      | 1/3 [02:56<05:52, 176.28s/it]"
     ]
    },
    {
     "name": "stdout",
     "output_type": "stream",
     "text": [
      "[youtube] oqJny9Qze3k: Downloading webpage\n",
      "[download] Destination: Differences Between Northern And Southern Chinese - Intermediate Chinese - Chinese Podcast-oqJny9Qze3k.webm\n",
      "[download] 100% of 24.44MiB in 00:0167MiB/s ETA 00:005nown ETA\n",
      "[ffmpeg] Destination: Differences Between Northern And Southern Chinese - Intermediate Chinese - Chinese Podcast-oqJny9Qze3k.mp3\n",
      "Deleting original file Rock Climbing Chinese Girl Talks About Her Life - Intermediate Chinese _ Chinese Conversation-0xSswYU5ZFE.webm (pass -k to keep)\n"
     ]
    },
    {
     "name": "stderr",
     "output_type": "stream",
     "text": [
      "\r",
      " 75%|███████▌  | 3/4 [13:15<03:40, 220.01s/it]"
     ]
    },
    {
     "name": "stdout",
     "output_type": "stream",
     "text": [
      "[youtube] DcPviW7husQ: Downloading webpage\n",
      "[download] Destination: Chinese Mandarin Audio Bible book of John-DcPviW7husQ.webm\n",
      "[download] 100% of 146.44MiB in 00:3179MiB/s ETA 00:003nown ETA\n",
      "[ffmpeg] Destination: Chinese Mandarin Audio Bible book of John-DcPviW7husQ.mp3\n",
      "Deleting original file GOSPEL OF MATTHEW IN CHINESE LANGUAGE FULL AUDIO BOOK-7or77vFZSa4.webm (pass -k to keep)\n"
     ]
    },
    {
     "name": "stderr",
     "output_type": "stream",
     "text": [
      "\r",
      " 25%|██▌       | 1/4 [14:10<42:30, 850.28s/it]"
     ]
    },
    {
     "name": "stdout",
     "output_type": "stream",
     "text": [
      "[youtube] Hvh21Ks2HEg: Downloading webpage\n",
      "[download] Destination: Food Delivery Business in China - Intermediate Chinese _ Chinese Conversation _ Level - HSK 4 - HSK 5-Hvh21Ks2HEg.webm\n",
      "[download] 100% of 32.51MiB in 00:0144MiB/s ETA 00:003nown ETA\n",
      "[ffmpeg] Destination: Food Delivery Business in China - Intermediate Chinese _ Chinese Conversation _ Level - HSK 4 - HSK 5-Hvh21Ks2HEg.mp3\n",
      "Deleting original file Differences Between Northern And Southern Chinese - Intermediate Chinese - Chinese Podcast-oqJny9Qze3k.webm (pass -k to keep)\n"
     ]
    },
    {
     "name": "stderr",
     "output_type": "stream",
     "text": [
      "\r",
      " 67%|██████▋   | 2/3 [04:36<02:33, 153.56s/it]"
     ]
    },
    {
     "name": "stdout",
     "output_type": "stream",
     "text": [
      "[youtube] 5tH0odCiayo: Downloading webpage\n",
      "[download] Destination: 論語 Lun Yu (Analects) read in Chinese by 孔子 Confucius - FULL AudioBook _ Greatest Audio Books-5tH0odCiayo.webm\n",
      "[download] 100% of 106.24MiB in 00:0581MiB/s ETA 00:003nown ETA\n",
      "[ffmpeg] Destination: 論語 Lun Yu (Analects) read in Chinese by 孔子 Confucius - FULL AudioBook _ Greatest Audio Books-5tH0odCiayo.mp3\n",
      "Deleting original file Medicine - Slow Chinese Stories - Intermediate Chinese Listening Practice - Chinese Conversation-bYjjQpP8FaM.webm (pass -k to keep)\n"
     ]
    },
    {
     "name": "stderr",
     "output_type": "stream",
     "text": [
      "100%|██████████| 4/4 [15:24<00:00, 231.10s/it]\n"
     ]
    },
    {
     "name": "stdout",
     "output_type": "stream",
     "text": [
      "Deleting original file Interview with American YouTuber AUSTIN IN CHINA - Intermediate Chinese _ Chinese Conversation-ERPf3TbiK0E.webm (pass -k to keep)\n"
     ]
    },
    {
     "name": "stderr",
     "output_type": "stream",
     "text": [
      "\r",
      " 25%|██▌       | 1/4 [06:14<18:42, 374.32s/it]"
     ]
    },
    {
     "name": "stdout",
     "output_type": "stream",
     "text": [
      "[youtube] ZoYg34o8rqI: Downloading webpage\n",
      "[download] Destination: A Walk in a Chinese Wet Market - w_ English Subtitles - Intermediate Chinese - Chinese Conversation-ZoYg34o8rqI.m4a\n",
      "[download] 100% of 40.96MiB in 00:0287MiB/s ETA 00:002nown ETA\n",
      "[ffmpeg] Correcting container in \"A Walk in a Chinese Wet Market - w_ English Subtitles - Intermediate Chinese - Chinese Conversation-ZoYg34o8rqI.m4a\"\n",
      "[ffmpeg] Destination: A Walk in a Chinese Wet Market - w_ English Subtitles - Intermediate Chinese - Chinese Conversation-ZoYg34o8rqI.mp3\n",
      "Deleting original file 論語 Lun Yu Analects of Confucius  Full AudioBook in Chinese-U1ywZGocjro.webm (pass -k to keep)\n"
     ]
    },
    {
     "name": "stderr",
     "output_type": "stream",
     "text": [
      "\r",
      " 75%|███████▌  | 3/4 [15:55<05:07, 307.84s/it]"
     ]
    },
    {
     "name": "stdout",
     "output_type": "stream",
     "text": [
      "[youtube] G2oPClnoJpg: Downloading webpage\n",
      "[download] Destination: 6 Cultural Aspects You Must Consider When Doing Business In China - Intermediate Chinese-G2oPClnoJpg.m4a\n",
      "[download] 100% of 42.56MiB in 00:0214MiB/s ETA 00:004nown ETA\n",
      "[ffmpeg] Correcting container in \"6 Cultural Aspects You Must Consider When Doing Business In China - Intermediate Chinese-G2oPClnoJpg.m4a\"\n",
      "[ffmpeg] Destination: 6 Cultural Aspects You Must Consider When Doing Business In China - Intermediate Chinese-G2oPClnoJpg.mp3\n",
      "Deleting original file Food Delivery Business in China - Intermediate Chinese _ Chinese Conversation _ Level - HSK 4 - HSK 5-Hvh21Ks2HEg.webm (pass -k to keep)\n"
     ]
    },
    {
     "name": "stderr",
     "output_type": "stream",
     "text": [
      "\r",
      " 50%|█████     | 2/4 [16:24<21:11, 635.57s/it]"
     ]
    },
    {
     "name": "stdout",
     "output_type": "stream",
     "text": [
      "[youtube] s8wA65b8hBs: Downloading webpage\n",
      "[youtube] s8wA65b8hBs: Downloading MPD manifest\n",
      "[dashsegments] Total fragments: 100\n",
      "[download] Destination: Learn Chinese with Stories - Legend of the White Snake.  Audiobook with Text.-s8wA65b8hBs.webm\n",
      "[download] 100% of 13.04MiB in 00:15.44MiB/s ETA 00:00028\n",
      "[ffmpeg] Destination: Learn Chinese with Stories - Legend of the White Snake.  Audiobook with Text.-s8wA65b8hBs.mp3\n",
      "Deleting original file A Walk in a Chinese Wet Market - w_ English Subtitles - Intermediate Chinese - Chinese Conversation-ZoYg34o8rqI.m4a (pass -k to keep)\n"
     ]
    },
    {
     "name": "stderr",
     "output_type": "stream",
     "text": [
      "\r",
      " 50%|█████     | 2/4 [07:51<09:42, 291.19s/it]"
     ]
    },
    {
     "name": "stdout",
     "output_type": "stream",
     "text": [
      "[youtube] H6W2uNuIm9o: Downloading webpage\n",
      "[download] Destination: Nightmare - Slow Chinese Stories - Intermediate Chinese Listening Practice - Chinese Conversation-H6W2uNuIm9o.webm\n",
      "[download] 100% of 16.81MiB in 00:0096MiB/s ETA 00:000nown ETA\n",
      "[ffmpeg] Destination: Nightmare - Slow Chinese Stories - Intermediate Chinese Listening Practice - Chinese Conversation-H6W2uNuIm9o.mp3\n",
      "Deleting original file Learn Chinese with Stories - Legend of the White Snake.  Audiobook with Text.-s8wA65b8hBs.webm (pass -k to keep)\n"
     ]
    },
    {
     "name": "stderr",
     "output_type": "stream",
     "text": [
      "\r",
      " 75%|███████▌  | 3/4 [17:32<07:45, 465.11s/it]"
     ]
    },
    {
     "name": "stdout",
     "output_type": "stream",
     "text": [
      "[youtube] 8IoPsPVxxgs: Downloading webpage\n",
      "[download] Destination: China's Naked Spider-Man Talks About His Life - Intermediate Chinese - Chinese Conversation-8IoPsPVxxgs.webm\n",
      "[download]  36.6% of 38.00MiB at 15.10MiB/s ETA 00:014nown ETADeleting original file 6 Cultural Aspects You Must Consider When Doing Business In China - Intermediate Chinese-G2oPClnoJpg.m4a (pass -k to keep)\n"
     ]
    },
    {
     "name": "stderr",
     "output_type": "stream",
     "text": [
      "100%|██████████| 4/4 [17:33<00:00, 263.43s/it]"
     ]
    },
    {
     "name": "stdout",
     "output_type": "stream",
     "text": [
      "\r",
      "[download]  47.1% of 38.00MiB at 19.29MiB/s ETA 00:01"
     ]
    },
    {
     "name": "stderr",
     "output_type": "stream",
     "text": [
      "\n"
     ]
    },
    {
     "name": "stdout",
     "output_type": "stream",
     "text": [
      "[download] 100% of 38.00MiB in 00:0170MiB/s ETA 00:001nown ETA\n",
      "[ffmpeg] Destination: China's Naked Spider-Man Talks About His Life - Intermediate Chinese - Chinese Conversation-8IoPsPVxxgs.mp3\n",
      "Deleting original file Chinese HSK 2 Vocabulary & Sentences - Full HSK 2 Word List & Lessons _ Beginner Chinese-ttmqMaoMdVw.webm (pass -k to keep)\n"
     ]
    },
    {
     "name": "stderr",
     "output_type": "stream",
     "text": [
      "100%|██████████| 4/4 [17:46<00:00, 266.50s/it]\n"
     ]
    },
    {
     "name": "stdout",
     "output_type": "stream",
     "text": [
      "Deleting original file Nightmare - Slow Chinese Stories - Intermediate Chinese Listening Practice - Chinese Conversation-H6W2uNuIm9o.webm (pass -k to keep)\n"
     ]
    },
    {
     "name": "stderr",
     "output_type": "stream",
     "text": [
      "\r",
      " 75%|███████▌  | 3/4 [10:16<04:07, 247.26s/it]"
     ]
    },
    {
     "name": "stdout",
     "output_type": "stream",
     "text": [
      "[youtube] j18SHgT4n3o: Downloading webpage\n",
      "[download] Destination: The Four Friends - Learn Chinese (Mandarin) with subtitles - Story for Children 'BookBox.com'-j18SHgT4n3o.webm\n",
      "[download] 100% of 5.97MiB in 00:0076MiB/s ETA 00:009\n",
      "[ffmpeg] Destination: The Four Friends - Learn Chinese (Mandarin) with subtitles - Story for Children 'BookBox.com'-j18SHgT4n3o.mp3\n",
      "Deleting original file China's Naked Spider-Man Talks About His Life - Intermediate Chinese - Chinese Conversation-8IoPsPVxxgs.webm (pass -k to keep)\n"
     ]
    },
    {
     "name": "stderr",
     "output_type": "stream",
     "text": [
      "100%|██████████| 4/4 [19:40<00:00, 295.06s/it]\n"
     ]
    },
    {
     "name": "stdout",
     "output_type": "stream",
     "text": [
      "Deleting original file The Four Friends - Learn Chinese (Mandarin) with subtitles - Story for Children 'BookBox.com'-j18SHgT4n3o.webm (pass -k to keep)\n"
     ]
    },
    {
     "name": "stderr",
     "output_type": "stream",
     "text": [
      "100%|██████████| 4/4 [10:30<00:00, 157.74s/it]\n"
     ]
    },
    {
     "name": "stdout",
     "output_type": "stream",
     "text": [
      "Deleting original file Chinese Mandarin Audio Bible book of John-DcPviW7husQ.webm (pass -k to keep)\n"
     ]
    },
    {
     "name": "stderr",
     "output_type": "stream",
     "text": [
      "100%|██████████| 4/4 [20:08<00:00, 302.03s/it]\n"
     ]
    },
    {
     "name": "stdout",
     "output_type": "stream",
     "text": [
      "Deleting original file 論語 Lun Yu (Analects) read in Chinese by 孔子 Confucius - FULL AudioBook _ Greatest Audio Books-5tH0odCiayo.webm (pass -k to keep)\n"
     ]
    },
    {
     "name": "stderr",
     "output_type": "stream",
     "text": [
      "100%|██████████| 3/3 [10:02<00:00, 200.98s/it]\n"
     ]
    },
    {
     "name": "stdout",
     "output_type": "stream",
     "text": [
      "Deleting original file 老殘遊記 Lao Can You Ji FULL AUDIOBOOK IN CHINESE LANGUAGE-DIP-Fgq27f4.m4a (pass -k to keep)\n"
     ]
    },
    {
     "name": "stderr",
     "output_type": "stream",
     "text": [
      "\r",
      " 75%|███████▌  | 3/4 [21:38<06:55, 415.81s/it]"
     ]
    },
    {
     "name": "stdout",
     "output_type": "stream",
     "text": [
      "[youtube] Wt5tmL9yex4: Downloading webpage\n",
      "[youtube] Wt5tmL9yex4: Downloading MPD manifest\n",
      "[dashsegments] Total fragments: 206\n",
      "[download] Destination: Chinese Audiobook with Text. A Game of Thrones.-Wt5tmL9yex4.m4a\n",
      "[download] 100% of 31.53MiB in 01:25.05MiB/s ETA 00:00422:51\n",
      "[ffmpeg] Correcting container in \"Chinese Audiobook with Text. A Game of Thrones.-Wt5tmL9yex4.m4a\"\n",
      "[ffmpeg] Destination: Chinese Audiobook with Text. A Game of Thrones.-Wt5tmL9yex4.mp3\n",
      "Deleting original file Chinese Audiobook with Text. A Game of Thrones.-Wt5tmL9yex4.m4a (pass -k to keep)\n"
     ]
    },
    {
     "name": "stderr",
     "output_type": "stream",
     "text": [
      "100%|██████████| 4/4 [23:37<00:00, 354.43s/it]\n"
     ]
    }
   ],
   "source": [
    "import mp\n",
    "mp.multiprocessing(videos, loop, cores = 12, returned = False)"
   ]
  },
  {
   "cell_type": "code",
   "execution_count": 5,
   "metadata": {},
   "outputs": [],
   "source": [
    "!mkdir mandarin\n",
    "!mv *.mp3 mandarin"
   ]
  }
 ],
 "metadata": {
  "kernelspec": {
   "display_name": "Python 3",
   "language": "python",
   "name": "python3"
  },
  "language_info": {
   "codemirror_mode": {
    "name": "ipython",
    "version": 3
   },
   "file_extension": ".py",
   "mimetype": "text/x-python",
   "name": "python",
   "nbconvert_exporter": "python",
   "pygments_lexer": "ipython3",
   "version": "3.6.9"
  }
 },
 "nbformat": 4,
 "nbformat_minor": 4
}

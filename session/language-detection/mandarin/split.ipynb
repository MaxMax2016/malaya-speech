{
 "cells": [
  {
   "cell_type": "code",
   "execution_count": 2,
   "metadata": {},
   "outputs": [
    {
     "data": {
      "text/plain": [
       "53"
      ]
     },
     "execution_count": 2,
     "metadata": {},
     "output_type": "execute_result"
    }
   ],
   "source": [
    "from glob import glob\n",
    "\n",
    "mp3s = list(set(glob('*.mp3')))\n",
    "len(mp3s)"
   ]
  },
  {
   "cell_type": "code",
   "execution_count": 3,
   "metadata": {},
   "outputs": [],
   "source": [
    "!rm -rf clean-wav\n",
    "!mkdir clean-wav"
   ]
  },
  {
   "cell_type": "code",
   "execution_count": 4,
   "metadata": {},
   "outputs": [],
   "source": [
    "!cp ../mp.py ."
   ]
  },
  {
   "cell_type": "code",
   "execution_count": 5,
   "metadata": {},
   "outputs": [],
   "source": [
    "from pydub import AudioSegment\n",
    "from tqdm import tqdm\n",
    "import os"
   ]
  },
  {
   "cell_type": "code",
   "execution_count": 6,
   "metadata": {},
   "outputs": [],
   "source": [
    "def loop(mp3s):\n",
    "    mp3s = mp3s[0]\n",
    "    for f in tqdm(mp3s):\n",
    "        try:\n",
    "            replace = f.replace(' ', '-').replace('--', '_').replace('.mp3', '')\n",
    "            os.system(f'ffmpeg -ss {60 * 5} -i \"{f}\" -f segment -segment_time {60 * 10}  -c copy \"{replace}-part-%03d.mp3\"')\n",
    "            globed = glob(f'{replace}*')\n",
    "            for g in globed:\n",
    "                audio = AudioSegment.from_mp3(g)\n",
    "                audio.set_frame_rate(16000).set_channels(1).export(f\"clean-wav/{g.replace('.mp3','.wav')}\", format = 'wav')            \n",
    "        except Exception as e:\n",
    "            print(f, e)"
   ]
  },
  {
   "cell_type": "code",
   "execution_count": 7,
   "metadata": {},
   "outputs": [
    {
     "name": "stderr",
     "output_type": "stream",
     "text": [
      "100%|██████████| 10/10 [02:04<00:00, 12.46s/it]\n",
      "100%|██████████| 10/10 [02:47<00:00, 16.71s/it]\n",
      "100%|██████████| 3/3 [01:09<00:00, 23.32s/it]]\n",
      "100%|██████████| 10/10 [03:30<00:00, 21.09s/it]\n",
      "100%|██████████| 10/10 [03:35<00:00, 21.52s/it]\n",
      "100%|██████████| 10/10 [04:33<00:00, 27.30s/it]\n"
     ]
    }
   ],
   "source": [
    "from mp import multiprocessing\n",
    "multiprocessing(mp3s, loop, cores = 5, returned = False)"
   ]
  },
  {
   "cell_type": "code",
   "execution_count": 8,
   "metadata": {},
   "outputs": [],
   "source": [
    "!rm *-part-*.mp3"
   ]
  },
  {
   "cell_type": "code",
   "execution_count": null,
   "metadata": {},
   "outputs": [],
   "source": []
  }
 ],
 "metadata": {
  "kernelspec": {
   "display_name": "Python 3",
   "language": "python",
   "name": "python3"
  },
  "language_info": {
   "codemirror_mode": {
    "name": "ipython",
    "version": 3
   },
   "file_extension": ".py",
   "mimetype": "text/x-python",
   "name": "python",
   "nbconvert_exporter": "python",
   "pygments_lexer": "ipython3",
   "version": "3.6.9"
  }
 },
 "nbformat": 4,
 "nbformat_minor": 4
}

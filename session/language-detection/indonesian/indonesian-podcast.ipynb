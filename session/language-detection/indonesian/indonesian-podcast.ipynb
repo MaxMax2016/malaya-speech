{
 "cells": [
  {
   "cell_type": "code",
   "execution_count": 1,
   "metadata": {},
   "outputs": [
    {
     "data": {
      "text/plain": [
       "79"
      ]
     },
     "execution_count": 1,
     "metadata": {},
     "output_type": "execute_result"
    }
   ],
   "source": [
    "videos = \"\"\"\n",
    "https://www.youtube.com/watch?v=dZyn0m7Oms0&ab_channel=Kontekstual\n",
    "\n",
    "https://www.youtube.com/watch?v=dZyn0m7Oms0&ab_channel=Kontekstual\n",
    "\n",
    "https://www.youtube.com/watch?v=QqnIGT5vfo4\n",
    "\n",
    "https://www.youtube.com/watch?v=OcbmlpeJQzM\n",
    "\n",
    "https://www.youtube.com/watch?v=SOpanDUVms0\n",
    "\n",
    "https://www.youtube.com/watch?v=rcfrlD0Zsi0\n",
    "\n",
    "https://www.youtube.com/watch?v=tNkmYsaINbI\n",
    "\n",
    "https://www.youtube.com/watch?v=r6cb3nvETNs\n",
    "\n",
    "https://www.youtube.com/watch?v=FebkCslhwIE\n",
    "\n",
    "https://www.youtube.com/watch?v=oYt4J1tbjA8\n",
    "\n",
    "https://www.youtube.com/watch?v=pAPR2DQk5Iw\n",
    "\n",
    "https://www.youtube.com/watch?v=jkN31e1lXdY\n",
    "\n",
    "https://www.youtube.com/watch?v=7vB936RThHY\n",
    "\n",
    "https://www.youtube.com/watch?v=N9eHeQ5A0Mw\n",
    "\n",
    "https://www.youtube.com/watch?v=IZSOngH-9JE\n",
    "\n",
    "https://www.youtube.com/watch?v=8LH0ZG4PANM\n",
    "\n",
    "https://www.youtube.com/watch?v=mnKYgWt70tQ\n",
    "\n",
    "https://www.youtube.com/watch?v=IO3SCj8OaBU\n",
    "\n",
    "https://www.youtube.com/watch?v=QEdqa6nIOj8\n",
    "\n",
    "https://www.youtube.com/watch?v=ii-Qu4uf_iM\n",
    "\n",
    "https://www.youtube.com/watch?v=m_qH8rmESiQ\n",
    "\n",
    "https://www.youtube.com/watch?v=_CuTyr5_L0M\n",
    "\n",
    "https://www.youtube.com/watch?v=gC-NcgJTQ_A\n",
    "\n",
    "https://www.youtube.com/watch?v=-T8zNb0d6Mo\n",
    "\n",
    "https://www.youtube.com/watch?v=mIXj9NwRKAU\n",
    "\n",
    "https://www.youtube.com/watch?v=wAlABEuV3JY\n",
    "\n",
    "https://www.youtube.com/watch?v=ZnBTkczCN2k\n",
    "\n",
    "https://www.youtube.com/watch?v=z6q333G9_4o\n",
    "\n",
    "https://www.youtube.com/watch?v=rcoO2On9iyQ&ab_channel=DeddyCorbuzier\n",
    "\n",
    "https://www.youtube.com/watch?v=5viRfysfD9Q&ab_channel=DeddyCorbuzier\n",
    "\n",
    "https://www.youtube.com/watch?v=gNlirC9RCRM&ab_channel=DeddyCorbuzier\n",
    "\n",
    "https://www.youtube.com/watch?v=YHaBZmq6v4w&ab_channel=RansEntertainment\n",
    "\n",
    "https://www.youtube.com/watch?v=sm8jwNazXBk\n",
    "\n",
    "https://www.youtube.com/watch?v=e4ArwQOmtEs\n",
    "\n",
    "https://www.youtube.com/watch?v=CK7L4-dS4OA&t=5s\n",
    "\n",
    "https://www.youtube.com/watch?v=tRE70FZ_gWQ\n",
    "\n",
    "https://www.youtube.com/watch?v=rIIQhL9b6sA\n",
    "\n",
    "https://www.youtube.com/watch?v=xE9TlBpq4uQ\n",
    "\n",
    "https://www.youtube.com/watch?v=crQZFrGCzZI\n",
    "\n",
    "https://www.youtube.com/watch?v=vOys5VYObuc\n",
    "\n",
    "https://www.youtube.com/watch?v=kSZotGBivjo\n",
    "\n",
    "https://www.youtube.com/watch?v=Rw_U6j2eErs\n",
    "\n",
    "https://www.youtube.com/watch?v=kSZotGBivjo\n",
    "\n",
    "https://www.youtube.com/watch?v=Rw_U6j2eErs\n",
    "\n",
    "https://www.youtube.com/watch?v=vOys5VYObuc\n",
    "\n",
    "https://www.youtube.com/watch?v=3ZXY1k5DFfw\n",
    "\n",
    "https://www.youtube.com/watch?v=-UR1q7Crjjg\n",
    "\n",
    "https://www.youtube.com/watch?v=JC-zabjztSg\n",
    "\n",
    "https://www.youtube.com/watch?v=lXRu4kmy8IU\n",
    "\n",
    "https://www.youtube.com/watch?v=QwdqbrN_yGg\n",
    "\n",
    "https://www.youtube.com/watch?v=pRuzdbwOJWM\n",
    "\n",
    "https://www.youtube.com/watch?v=K71ZjHP_rWQ\n",
    "\n",
    "https://www.youtube.com/watch?v=rhDbUXoQHMA\n",
    "\n",
    "https://www.youtube.com/watch?v=ogWkuYVQ4qQ&ab_channel=AmelCarla\n",
    "\n",
    "https://www.youtube.com/watch?v=-4PlrQtv8_c\n",
    "\n",
    "https://www.youtube.com/watch?v=VjuM0xYvJ50\n",
    "\n",
    "https://www.youtube.com/watch?v=ddQnbAkjC98\n",
    "\n",
    "https://www.youtube.com/watch?v=FfkYQUEhjLw\n",
    "\n",
    "https://www.youtube.com/watch?v=3WbEUvkUbZk\n",
    "https://www.youtube.com/watch?v=2YiW6GX_2-Q&ab_channel=KUYEntertainment\n",
    "\n",
    "https://www.youtube.com/watch?v=4_3r_-4r96E\n",
    "https://www.youtube.com/watch?v=Cu5ddpxtqdk\n",
    "https://www.youtube.com/watch?v=Og8bk1S4hg4\n",
    "https://www.youtube.com/watch?v=B5tfQfYKBB4\n",
    "https://www.youtube.com/watch?v=mGRXg6gt1tg\n",
    "https://www.youtube.com/watch?v=bFukVqm9cLg\n",
    "https://www.youtube.com/watch?v=5YL2i5shC0M\n",
    "https://www.youtube.com/watch?v=9X9FTLiU2q8\n",
    "https://www.youtube.com/watch?v=FvgMAoyD2l8\n",
    "https://www.youtube.com/watch?v=ceVFcHfc8M4\n",
    "https://www.youtube.com/watch?v=B8facsOXv4E\n",
    "https://www.youtube.com/watch?v=np9MzJH6Pjk\n",
    "https://www.youtube.com/watch?v=tZ8fWV6r-Xs\n",
    "https://www.youtube.com/watch?v=KxKdQfUau34\n",
    "https://www.youtube.com/watch?v=4De3QEMRuAE\n",
    "https://www.youtube.com/watch?v=MROg6s7knCk\n",
    "https://www.youtube.com/watch?v=tc90rNm652I\n",
    "https://www.youtube.com/watch?v=3W1Er96CzXs\n",
    "https://www.youtube.com/watch?v=6DuILt5JLSY\n",
    "https://www.youtube.com/watch?v=N_3l4Zv0ErE\n",
    "https://www.youtube.com/watch?v=OrY0CfvY6TI\n",
    "https://www.youtube.com/watch?v=xTWS86Lz1Hg\n",
    "https://www.youtube.com/watch?v=zxWDM9k2IYY\n",
    "\"\"\"\n",
    "videos = list(set(filter(None, videos.split('\\n'))))\n",
    "len(videos)"
   ]
  },
  {
   "cell_type": "code",
   "execution_count": 2,
   "metadata": {},
   "outputs": [],
   "source": [
    "import youtube_dl"
   ]
  },
  {
   "cell_type": "code",
   "execution_count": 5,
   "metadata": {},
   "outputs": [],
   "source": [
    "import mp\n",
    "from tqdm import tqdm\n",
    "\n",
    "def loop(urls):\n",
    "    urls = urls[0]\n",
    "    ydl_opts = {\n",
    "        'format': 'bestaudio/best',\n",
    "        'postprocessors': [{\n",
    "            'key': 'FFmpegExtractAudio',\n",
    "            'preferredcodec': 'mp3',\n",
    "            'preferredquality': '192',\n",
    "        }],\n",
    "        'no-check-certificate': True\n",
    "    }\n",
    "\n",
    "    for i in tqdm(range(len(urls))):\n",
    "        try:\n",
    "            with youtube_dl.YoutubeDL(ydl_opts) as ydl:\n",
    "                ydl.download([urls[i]])\n",
    "        except:\n",
    "            pass"
   ]
  },
  {
   "cell_type": "code",
   "execution_count": 6,
   "metadata": {},
   "outputs": [
    {
     "name": "stderr",
     "output_type": "stream",
     "text": [
      "  0%|          | 0/6 [00:00<?, ?it/s]"
     ]
    },
    {
     "name": "stdout",
     "output_type": "stream",
     "text": [
      "[youtube] tc90rNm652I: Downloading webpage\n",
      "[youtube] ddQnbAkjC98: Downloading webpage\n",
      "[youtube] OcbmlpeJQzM: Downloading webpage\n",
      "[youtube] N9eHeQ5A0Mw: Downloading webpage\n",
      "[youtube] B8facsOXv4E: Downloading webpage\n",
      "[youtube] 4De3QEMRuAE: Downloading webpage\n",
      "[youtube] xE9TlBpq4uQ: Downloading webpage\n",
      "[youtube] tRE70FZ_gWQ: Downloading webpage\n",
      "[youtube] 8LH0ZG4PANM: Downloading webpage\n",
      "[youtube] MROg6s7knCk: Downloading webpage\n",
      "[youtube] YHaBZmq6v4w: Downloading webpage\n",
      "[youtube] 9X9FTLiU2q8: Downloading webpage\n",
      "[download] Destination: SEMPROD - KENAKALAN REMAJA, UUS & GADING ANAK BAIK DI SMA, TAPI ANDHIKA PERNAH BOLOS 4 BULAN _ Eps. 3-tc90rNm652I.m4a\n",
      "[download]   0.1% of 44.90MiB at  3.36MiB/s ETA 00:135[youtube] OcbmlpeJQzM: Downloading MPD manifest\n",
      "[download]  23.8% of 44.90MiB at 44.03MiB/s ETA 00:00known ETA[youtube] N9eHeQ5A0Mw: Downloading MPD manifest\n",
      "[download]  30.5% of 44.90MiB at 90.13MiB/s ETA 00:00[youtube] 8LH0ZG4PANM: Downloading MPD manifest\n",
      "[download]  43.7% of 44.90MiB at  4.79MiB/s ETA 00:05:08wn ETA[download] Destination: #26 NGOMEL _ Cerita Cinta Aaliyah Massaid! JANGAN DICONTOH!-ddQnbAkjC98.m4a\n",
      "[download]  44.2% of 44.90MiB at  5.76MiB/s ETA 00:040[download] Destination: SEMPROD  - ANDHIKA LEMES KETEMU LUNA MAYA SAMPE DIKETAWAIN GADING! UUS MAIN FILM GANTIIN VINO _PART 2-MROg6s7knCk.m4a\n",
      "[download]  65.4% of 44.90MiB at  4.19MiB/s ETA 00:035nown ETA[download] Destination: SEMPROD  - ANDHIKA ABSEN, BORIS GADING UUS RIZKY FOKUS UJIAN _ BARU PUTUS ANYA GERALDINE JADI REBUTAN-9X9FTLiU2q8.m4a\n",
      "[download]   0.1% of 54.64MiB at  1.28MiB/s ETA 00:427[download] Destination: SEMPROD - PUNYA BUKU SERBA TAU!! BONGKAR PENGELUARAN TERBOROS GADING ! ADA GURU BARU! SIAPA LAGI!-B8facsOXv4E.m4a\n",
      "[download]  18.2% of 54.64MiB at 480.14KiB/s ETA 01:35nown ETA[download] Destination: ADU MULUT RAFFI VS DEDDY CORBUZIER SALING JATUHIN & SALING BONGKAR AIB!!! TAPI TETEP RESPECT!!-YHaBZmq6v4w.webm\n",
      "[download]   0.7% of 18.58MiB at  1.13MiB/s ETA 00:166nown ETA[dashsegments] Total fragments: 340\n",
      "[download] Destination: RIDWAN KAMIL, ANDA GILA‼️ Deddy corbuzier Podcast-tRE70FZ_gWQ.webm\n",
      "[download]  20.7% of 47.80MiB at 751.46KiB/s ETA 00:51[download] Destination: Migrasi - Bertahan di Tanah Kelahiran, atau Berkelana Mencari Peruntungan - PBA x IM Eps. 3-OcbmlpeJQzM.webm\n",
      "[download] 100% of 44.90MiB in 00:0085MiB/s ETA 00:014\n",
      "[download]  29.0% of 47.80MiB at 21.90MiB/s ETA 00:015nown ETA[download] Destination: BONGKAR SETINGAN INDIGO ⁉️, EWING HD - Deddy Corbuzier Podcast-xE9TlBpq4uQ.webm\n",
      "[download]  85.6% of 34.42MiB at Unknown speed ETA Unknown ETA[dashsegments] Total fragments: 298\n",
      "[download]   0.0% of 38.18MiB at 108.87KiB/s ETA 05:59:50[download] Destination: Britania Raya Siap Terima 'Pengungsi' dari Hong Kong - Podcast Bebas Aktif Eps. 73-8LH0ZG4PANM.webm\n",
      "[download]  85.8% of 34.42MiB at 958.51KiB/s ETA 00:057own ETA[dashsegments] Total fragments: 378\n",
      "[download]  36.4% of 54.64MiB at  1.21MiB/s ETA 00:28[download] Destination: Juli Bulan Revolusi - Prancis Dulu dan Kini - Podcast Bebas Aktif Eps. 75-N9eHeQ5A0Mw.webm\n",
      "[download]  10.5% of 38.18MiB at 22.18MiB/s ETA 00:01known ETA[download] Destination: PODSKUY  - TIPE SUAMI IDAMAN FEBBY RASTANTY !! VERREL _ RIZA  ADA YANG AJAK NIKAH !! _ EPS. 9-4De3QEMRuAE.webm\n",
      "[download] 100% of 34.42MiB in 00:00.74KiB/s ETA 02:46\n",
      "[download]  56.5% of 18.58MiB at  9.25MiB/s ETA 00:0097[ffmpeg] Correcting container in \"SEMPROD - KENAKALAN REMAJA, UUS & GADING ANAK BAIK DI SMA, TAPI ANDHIKA PERNAH BOLOS 4 BULAN _ Eps. 3-tc90rNm652I.m4a\"\n",
      "[download] 100% of 18.58MiB in 00:0087MiB/s ETA 00:0150own ETA\n",
      "[download]  50.1% of 38.18MiB at 369.43KiB/s ETA 00:52nown ETA[ffmpeg] Destination: ADU MULUT RAFFI VS DEDDY CORBUZIER SALING JATUHIN & SALING BONGKAR AIB!!! TAPI TETEP RESPECT!!-YHaBZmq6v4w.mp3\n",
      "[download]  71.9% of 54.64MiB at Unknown speed ETA Unknown ETA[ffmpeg] Correcting container in \"SEMPROD  - ANDHIKA LEMES KETEMU LUNA MAYA SAMPE DIKETAWAIN GADING! UUS MAIN FILM GANTIIN VINO _PART 2-MROg6s7knCk.m4a\"\n",
      "[download] 100% of 22.71MiB in 00:0128MiB/s ETA 00:0076\n",
      "[download] 100% of 47.80MiB in 00:0148MiB/s ETA 00:0013:01 ETA\n",
      "[download] 100% of 37.34MiB in 00:002.33KiB/s ETA 39:51:47 ETA\n",
      "[download] 100% of 38.18MiB in 00:0067MiB/s ETA 00:0014\n",
      "[download] 100% of 54.64MiB in 00:012.86KiB/s ETA 00:43\n",
      "[download]  38.8% of 25.45MiB at 139.87KiB/s ETA 01:544own ETA[ffmpeg] Correcting container in \"#26 NGOMEL _ Cerita Cinta Aaliyah Massaid! JANGAN DICONTOH!-ddQnbAkjC98.m4a\"\n",
      "[download]  38.9% of 25.45MiB at 594.02KiB/s ETA 00:263[ffmpeg] Destination: RIDWAN KAMIL, ANDA GILA‼️ Deddy corbuzier Podcast-tRE70FZ_gWQ.mp3\n",
      "[download]   0.5% of ~37.26MiB at 386.57KiB/s ETA 03:17[ffmpeg] Destination: BONGKAR SETINGAN INDIGO ⁉️, EWING HD - Deddy Corbuzier Podcast-xE9TlBpq4uQ.mp3\n",
      "[download]   2.9% of ~40.08MiB at  1.17MiB/s ETA 00:434[ffmpeg] Correcting container in \"SEMPROD - PUNYA BUKU SERBA TAU!! BONGKAR PENGELUARAN TERBOROS GADING ! ADA GURU BARU! SIAPA LAGI!-B8facsOXv4E.m4a\"\n",
      "[download]   0.9% of ~32.24MiB at  1.25MiB/s ETA 02:21nown ETA[ffmpeg] Correcting container in \"SEMPROD  - ANDHIKA ABSEN, BORIS GADING UUS RIZKY FOKUS UJIAN _ BARU PUTUS ANYA GERALDINE JADI REBUTAN-9X9FTLiU2q8.m4a\"\n",
      "[download]   0.7% of ~40.69MiB at  1.08MiB/s ETA 02:582[ffmpeg] Destination: SEMPROD - KENAKALAN REMAJA, UUS & GADING ANAK BAIK DI SMA, TAPI ANDHIKA PERNAH BOLOS 4 BULAN _ Eps. 3-tc90rNm652I.mp3\n",
      "[download]  84.5% of 25.45MiB at 11.05MiB/s ETA 00:0056[ffmpeg] Destination: SEMPROD  - ANDHIKA LEMES KETEMU LUNA MAYA SAMPE DIKETAWAIN GADING! UUS MAIN FILM GANTIIN VINO _PART 2-MROg6s7knCk.mp3\n",
      "[download] 100% of 25.45MiB in 00:0182MiB/s ETA 00:0047\n",
      "[download]   3.9% of ~41.36MiB at 561.68KiB/s ETA 00:47[ffmpeg] Destination: PODSKUY  - TIPE SUAMI IDAMAN FEBBY RASTANTY !! VERREL _ RIZA  ADA YANG AJAK NIKAH !! _ EPS. 9-4De3QEMRuAE.mp3\n",
      "[download]   4.2% of ~41.53MiB at 492.61KiB/s ETA 00:47[ffmpeg] Destination: #26 NGOMEL _ Cerita Cinta Aaliyah Massaid! JANGAN DICONTOH!-ddQnbAkjC98.mp3\n",
      "[download]   5.6% of ~42.66MiB at 973.26KiB/s ETA 00:58[ffmpeg] Destination: SEMPROD - PUNYA BUKU SERBA TAU!! BONGKAR PENGELUARAN TERBOROS GADING ! ADA GURU BARU! SIAPA LAGI!-B8facsOXv4E.mp3\n",
      "[download]   2.4% of ~47.33MiB at 188.21KiB/s ETA 02:31[ffmpeg] Destination: SEMPROD  - ANDHIKA ABSEN, BORIS GADING UUS RIZKY FOKUS UJIAN _ BARU PUTUS ANYA GERALDINE JADI REBUTAN-9X9FTLiU2q8.mp3\n",
      "[download]   5.9% of ~42.68MiB at 159.06KiB/s ETA 01:05[download] Skipping fragment 11...\n",
      "[download]  25.6% of ~43.34MiB at 149.31KiB/s ETA 01:255[download] Skipping fragment 74...\n",
      "[download]  27.5% of ~43.26MiB at 146.21KiB/s ETA 01:244[download] Skipping fragment 82...\n",
      "[download]  50.3% of ~44.00MiB at  1.11MiB/s ETA 01:0226[download] Skipping fragment 158...\n",
      "[download]  53.0% of ~43.34MiB at  1.20MiB/s ETA 00:5666[download] Skipping fragment 159...\n",
      "[download]  48.1% of ~55.08MiB at 159.65KiB/s ETA 01:203Deleting original file #26 NGOMEL _ Cerita Cinta Aaliyah Massaid! JANGAN DICONTOH!-ddQnbAkjC98.m4a (pass -k to keep)\n",
      "[download]  48.2% of ~55.08MiB at 407.83KiB/s ETA 01:20"
     ]
    },
    {
     "name": "stderr",
     "output_type": "stream",
     "text": [
      "\r",
      " 17%|█▋        | 1/6 [01:17<06:28, 77.66s/it]"
     ]
    },
    {
     "name": "stdout",
     "output_type": "stream",
     "text": [
      "[download]  59.1% of ~44.07MiB at 516.42KiB/s ETA 00:51[youtube] ZnBTkczCN2k: Downloading webpage\n",
      "[download]  63.6% of ~43.13MiB at 827.96KiB/s ETA 00:43[youtube] ZnBTkczCN2k: Downloading MPD manifest\n",
      "[download]  49.5% of ~55.18MiB at 537.34KiB/s ETA 01:171[dashsegments] Total fragments: 207\n",
      "[download]  49.5% of ~55.18MiB at 537.34KiB/s ETA 01:17[download] Destination: Novel Baswedan dan Korupsi Global _ PIKIRIN PIKIRAN Ep. 2-ZnBTkczCN2k.webm\n",
      "[download]  67.1% of ~44.11MiB at 426.86KiB/s ETA 00:4222:00Deleting original file ADU MULUT RAFFI VS DEDDY CORBUZIER SALING JATUHIN & SALING BONGKAR AIB!!! TAPI TETEP RESPECT!!-YHaBZmq6v4w.webm (pass -k to keep)\n",
      "[download]  72.2% of ~42.89MiB at 480.06KiB/s ETA 00:32"
     ]
    },
    {
     "name": "stderr",
     "output_type": "stream",
     "text": [
      "\r",
      " 17%|█▋        | 1/6 [01:28<07:23, 88.64s/it]"
     ]
    },
    {
     "name": "stdout",
     "output_type": "stream",
     "text": [
      "[download]  55.8% of ~55.32MiB at 362.10KiB/s ETA 01:08[youtube] ogWkuYVQ4qQ: Downloading webpage\n",
      "[download]  68.5% of ~44.14MiB at 165.07KiB/s ETA 00:406[download] Destination: #9 NGOMEL _ Mari Kita Bicara Soal Insecurities and How To Be Positive.  -)-ogWkuYVQ4qQ.m4a\n",
      "[download] 100% of 21.18MiB in 00:012.16KiB/s ETA 00:29own ETA\n",
      "[download]  75.2% of ~42.80MiB at 234.41KiB/s ETA 00:29[ffmpeg] Correcting container in \"#9 NGOMEL _ Mari Kita Bicara Soal Insecurities and How To Be Positive.  -)-ogWkuYVQ4qQ.m4a\"\n",
      "[download]  58.2% of ~55.42MiB at  1.10MiB/s ETA 01:0484[ffmpeg] Destination: #9 NGOMEL _ Mari Kita Bicara Soal Insecurities and How To Be Positive.  -)-ogWkuYVQ4qQ.mp3\n",
      "[download]  87.1% of ~43.93MiB at 1013.09KiB/s ETA 00:16"
     ]
    },
    {
     "name": "stderr",
     "output_type": "stream",
     "text": [
      "ERROR: giving up after 0 retries\n"
     ]
    },
    {
     "name": "stdout",
     "output_type": "stream",
     "text": [
      "[download]  87.1% of ~43.93MiB at 1013.09KiB/s ETA 00:16[download] Skipping fragment 91...\n",
      "[download] 100% of 42.74MiB in 01:564.96KiB/s ETA 00:003\n",
      "[download]  50.7% of ~32.31MiB at  1.23MiB/s ETA 00:399[ffmpeg] Destination: Britania Raya Siap Terima 'Pengungsi' dari Hong Kong - Podcast Bebas Aktif Eps. 73-8LH0ZG4PANM.mp3\n",
      "[download] 100% of 43.95MiB in 02:08.29MiB/s ETA 00:2445\n",
      "[download]  63.9% of ~31.67MiB at 236.55KiB/s ETA 00:29[ffmpeg] Destination: Migrasi - Bertahan di Tanah Kelahiran, atau Berkelana Mencari Peruntungan - PBA x IM Eps. 3-OcbmlpeJQzM.mp3\n",
      "[download]  66.7% of ~31.59MiB at  1.09MiB/s ETA 00:2672[download] Skipping fragment 328...\n",
      "[download] Skipping fragment 329...\n",
      "[download]  90.5% of ~55.74MiB at  1.24MiB/s ETA 00:1441Deleting original file SEMPROD  - ANDHIKA LEMES KETEMU LUNA MAYA SAMPE DIKETAWAIN GADING! UUS MAIN FILM GANTIIN VINO _PART 2-MROg6s7knCk.m4a (pass -k to keep)\n"
     ]
    },
    {
     "name": "stderr",
     "output_type": "stream",
     "text": [
      "\r",
      " 17%|█▋        | 1/6 [02:22<11:50, 142.16s/it]"
     ]
    },
    {
     "name": "stdout",
     "output_type": "stream",
     "text": [
      "[download]  90.7% of ~55.75MiB at  1.21MiB/s ETA 00:144[youtube] rhDbUXoQHMA: Downloading webpage\n",
      "[download]  77.9% of ~31.10MiB at 239.04KiB/s ETA 00:18[download] Destination: BINTANG EMON HAI KEKEYI...-rhDbUXoQHMA.webm\n",
      "[download] 100% of 13.05MiB in 00:016.82KiB/s ETA 00:12own ETA\n",
      "[download]  79.7% of ~31.07MiB at  1.09MiB/s ETA 00:166[ffmpeg] Destination: BINTANG EMON HAI KEKEYI...-rhDbUXoQHMA.mp3\n",
      "[download]  81.2% of ~31.02MiB at  1.03MiB/s ETA 00:155[download] Skipping fragment 359...\n",
      "[download] 100% of 54.64MiB in 02:30.06MiB/s ETA 00:0338\n",
      "[download]  90.3% of ~30.83MiB at 661.70KiB/s ETA 00:07[ffmpeg] Destination: Juli Bulan Revolusi - Prancis Dulu dan Kini - Podcast Bebas Aktif Eps. 75-N9eHeQ5A0Mw.mp3\n",
      "[download]  90.8% of ~30.83MiB at 887.92KiB/s ETA 00:07Deleting original file PODSKUY  - TIPE SUAMI IDAMAN FEBBY RASTANTY !! VERREL _ RIZA  ADA YANG AJAK NIKAH !! _ EPS. 9-4De3QEMRuAE.webm (pass -k to keep)\n"
     ]
    },
    {
     "name": "stderr",
     "output_type": "stream",
     "text": [
      "\r",
      " 17%|█▋        | 1/6 [02:34<12:52, 154.42s/it]"
     ]
    },
    {
     "name": "stdout",
     "output_type": "stream",
     "text": [
      "[download]  91.3% of ~30.81MiB at 814.37KiB/s ETA 00:07[youtube] N_3l4Zv0ErE: Downloading webpage\n",
      "[download]  92.3% of ~30.80MiB at 864.73KiB/s ETA 00:06[download] Destination: Sharing Sharing Aja Live - Eps 1 - Cara Content Creator Dapat Duit-N_3l4Zv0ErE.m4a\n",
      "[download]  38.2% of 82.03MiB at  9.74MiB/s ETA 00:0544own ETADeleting original file #9 NGOMEL _ Mari Kita Bicara Soal Insecurities and How To Be Positive.  -)-ogWkuYVQ4qQ.m4a (pass -k to keep)\n",
      "[download]  40.6% of 82.03MiB at 15.29MiB/s ETA 00:03"
     ]
    },
    {
     "name": "stderr",
     "output_type": "stream",
     "text": [
      "\r",
      " 33%|███▎      | 2/6 [02:37<05:31, 82.80s/it]"
     ]
    },
    {
     "name": "stdout",
     "output_type": "stream",
     "text": [
      "[download]  48.1% of 82.03MiB at  3.08MiB/s ETA 00:131nown ETA[youtube] K71ZjHP_rWQ: Downloading webpage\n",
      "[download]  95.7% of ~30.78MiB at  1.13MiB/s ETA 00:033[download] Destination: YAKIN COWO⁉️ KOK MAKE UP‼️ RIBUT GUE AKHIRNYA‼️-IVAN GUNAWAN -Deddy Corbuzier Podcast-K71ZjHP_rWQ.m4a\n",
      "[download] 100% of 44.00MiB in 00:0176MiB/s ETA 00:0002own ETA\n",
      "[ffmpeg] Correcting container in \"YAKIN COWO⁉️ KOK MAKE UP‼️ RIBUT GUE AKHIRNYA‼️-IVAN GUNAWAN -Deddy Corbuzier Podcast-K71ZjHP_rWQ.m4a\"\n",
      "[download]  98.6% of ~30.77MiB at 961.16KiB/s ETA 00:01own ETA[ffmpeg] Destination: YAKIN COWO⁉️ KOK MAKE UP‼️ RIBUT GUE AKHIRNYA‼️-IVAN GUNAWAN -Deddy Corbuzier Podcast-K71ZjHP_rWQ.mp3\n",
      "[download] 100% of 30.61MiB in 01:245.66KiB/s ETA 00:00\n",
      "[ffmpeg] Destination: Novel Baswedan dan Korupsi Global _ PIKIRIN PIKIRAN Ep. 2-ZnBTkczCN2k.mp3\n",
      "[download] 100% of 82.03MiB in 00:1554MiB/s ETA 00:006nown ETA\n",
      "[ffmpeg] Correcting container in \"Sharing Sharing Aja Live - Eps 1 - Cara Content Creator Dapat Duit-N_3l4Zv0ErE.m4a\"\n",
      "[ffmpeg] Destination: Sharing Sharing Aja Live - Eps 1 - Cara Content Creator Dapat Duit-N_3l4Zv0ErE.mp3\n",
      "Deleting original file SEMPROD - KENAKALAN REMAJA, UUS & GADING ANAK BAIK DI SMA, TAPI ANDHIKA PERNAH BOLOS 4 BULAN _ Eps. 3-tc90rNm652I.m4a (pass -k to keep)\n"
     ]
    },
    {
     "name": "stderr",
     "output_type": "stream",
     "text": [
      "\r",
      " 17%|█▋        | 1/6 [03:17<16:27, 197.49s/it]"
     ]
    },
    {
     "name": "stdout",
     "output_type": "stream",
     "text": [
      "[youtube] mIXj9NwRKAU: Downloading webpage\n",
      "[youtube] mIXj9NwRKAU: Downloading MPD manifest\n",
      "[dashsegments] Total fragments: 309\n",
      "[download] Destination: Emang Bisa, Negara Ngasih Duit Ke Rakyat Cuma-Cuma - Pikirin Pikiran ft. Sonny Mumbunan-mIXj9NwRKAU.webm\n",
      "[download]  10.0% of ~43.86MiB at 866.78KiB/s ETA 01:5253205Deleting original file BONGKAR SETINGAN INDIGO ⁉️, EWING HD - Deddy Corbuzier Podcast-xE9TlBpq4uQ.webm (pass -k to keep)\n"
     ]
    },
    {
     "name": "stderr",
     "output_type": "stream",
     "text": [
      "\r",
      " 17%|█▋        | 1/6 [03:32<17:42, 212.46s/it]"
     ]
    },
    {
     "name": "stdout",
     "output_type": "stream",
     "text": [
      "[download]  10.4% of ~43.63MiB at 965.09KiB/s ETA 01:52[youtube] -4PlrQtv8_c: Downloading webpage\n",
      "[download]  10.7% of ~43.40MiB at  1.23MiB/s ETA 01:512Deleting original file RIDWAN KAMIL, ANDA GILA‼️ Deddy corbuzier Podcast-tRE70FZ_gWQ.webm (pass -k to keep)\n"
     ]
    },
    {
     "name": "stderr",
     "output_type": "stream",
     "text": [
      "\r",
      " 17%|█▋        | 1/6 [03:33<17:46, 213.23s/it]"
     ]
    },
    {
     "name": "stdout",
     "output_type": "stream",
     "text": [
      "[download]  11.0% of ~43.26MiB at 977.71KiB/s ETA 01:50[youtube] rIIQhL9b6sA: Downloading webpage\n",
      "[download]  11.3% of ~43.07MiB at  1.01MiB/s ETA 01:501Deleting original file SEMPROD - PUNYA BUKU SERBA TAU!! BONGKAR PENGELUARAN TERBOROS GADING ! ADA GURU BARU! SIAPA LAGI!-B8facsOXv4E.m4a (pass -k to keep)\n"
     ]
    },
    {
     "name": "stderr",
     "output_type": "stream",
     "text": [
      "\r",
      " 17%|█▋        | 1/6 [03:33<17:49, 213.96s/it]"
     ]
    },
    {
     "name": "stdout",
     "output_type": "stream",
     "text": [
      "[download] Destination: #28 NGOMEL _  Ajil Dito Sudah Merantau Sejak Umur 8 Tahun !--4PlrQtv8_c.m4a\n",
      "[download]  11.7% of ~42.70MiB at 177.33KiB/s ETA 01:50own ETA[youtube] np9MzJH6Pjk: Downloading webpage\n",
      "[download]  60.2% of 22.52MiB at 16.20MiB/s ETA 00:0089[download] Destination: NAH LOH.... GIMANA NIH. Deddy Corbuzier Podcast-rIIQhL9b6sA.webm\n",
      "[download] 100% of 22.52MiB in 00:012.07KiB/s ETA 01:48own ETA\n",
      "[download]  82.9% of 23.33MiB at Unknown speed ETA Unknown ETA[download] Destination: SEMPROD - UUS JADI ‘KESAYANGAN’ TONGKRONGAN! ANDHIKA-GADING KESEL TEMEN TOXIC_BORIS BOKIR BIKIN PECAH-np9MzJH6Pjk.webm\n",
      "[download] 100% of 23.33MiB in 00:0018MiB/s ETA 00:0267\n",
      "[download]  23.3% of 41.15MiB at 146.03KiB/s ETA 03:41nown ETA[ffmpeg] Correcting container in \"#28 NGOMEL _  Ajil Dito Sudah Merantau Sejak Umur 8 Tahun !--4PlrQtv8_c.m4a\"\n",
      "[download]  13.0% of ~42.10MiB at 152.36KiB/s ETA 01:47[ffmpeg] Destination: NAH LOH.... GIMANA NIH. Deddy Corbuzier Podcast-rIIQhL9b6sA.mp3\n",
      "[download] 100% of 41.15MiB in 00:0138MiB/s ETA 00:003nown ETA\n",
      "[download]  14.2% of ~41.80MiB at  1.34MiB/s ETA 01:434[ffmpeg] Destination: SEMPROD - UUS JADI ‘KESAYANGAN’ TONGKRONGAN! ANDHIKA-GADING KESEL TEMEN TOXIC_BORIS BOKIR BIKIN PECAH-np9MzJH6Pjk.mp3\n",
      "[ffmpeg] Destination: #28 NGOMEL _  Ajil Dito Sudah Merantau Sejak Umur 8 Tahun !--4PlrQtv8_c.mp3\n",
      "[download]  24.3% of ~40.24MiB at 956.22KiB/s ETA 01:336Deleting original file BINTANG EMON HAI KEKEYI...-rhDbUXoQHMA.webm (pass -k to keep)\n",
      "[download]  24.3% of ~40.24MiB at 956.22KiB/s ETA 01:33"
     ]
    },
    {
     "name": "stderr",
     "output_type": "stream",
     "text": [
      "\r",
      " 33%|███▎      | 2/6 [03:49<08:23, 125.79s/it]"
     ]
    },
    {
     "name": "stdout",
     "output_type": "stream",
     "text": [
      "[download]  24.6% of ~40.22MiB at 895.73KiB/s ETA 01:32[youtube] lXRu4kmy8IU: Downloading webpage\n",
      "[download]  25.6% of ~40.12MiB at 934.44KiB/s ETA 01:32[download] Destination: Anya Geraldine, Rizky Febian dan Setan (click bait) -Deddy Corbuzier Podcast-lXRu4kmy8IU.webm\n",
      "[download] 100% of 34.26MiB in 00:013.69KiB/s ETA 01:31own ETA\n",
      "[download]  26.9% of ~39.93MiB at 924.54KiB/s ETA 01:30[ffmpeg] Destination: Anya Geraldine, Rizky Febian dan Setan (click bait) -Deddy Corbuzier Podcast-lXRu4kmy8IU.mp3\n",
      "[download]  32.4% of ~39.73MiB at 779.40KiB/s ETA 01:24Deleting original file SEMPROD  - ANDHIKA ABSEN, BORIS GADING UUS RIZKY FOKUS UJIAN _ BARU PUTUS ANYA GERALDINE JADI REBUTAN-9X9FTLiU2q8.m4a (pass -k to keep)\n"
     ]
    },
    {
     "name": "stderr",
     "output_type": "stream",
     "text": [
      "\r",
      " 17%|█▋        | 1/6 [04:00<20:00, 240.10s/it]"
     ]
    },
    {
     "name": "stdout",
     "output_type": "stream",
     "text": [
      "[download]  32.7% of ~39.63MiB at 912.49KiB/s ETA 01:24[youtube] _CuTyr5_L0M: Downloading webpage\n",
      "[download]  33.3% of ~39.60MiB at 899.60KiB/s ETA 01:22[youtube] _CuTyr5_L0M: Downloading MPD manifest\n",
      "[download]  34.0% of ~39.53MiB at 873.88KiB/s ETA 01:21[dashsegments] Total fragments: 262\n",
      "[download] Destination: Indonesia kayak Israel Permintaan Maaf dalam Hubungan Internasional - Podcast Bebas Aktif Eps. 67-_CuTyr5_L0M.webm\n",
      "[download]  79.8% of ~38.82MiB at 603.56KiB/s ETA 00:2465822Deleting original file #28 NGOMEL _  Ajil Dito Sudah Merantau Sejak Umur 8 Tahun !--4PlrQtv8_c.m4a (pass -k to keep)\n",
      "[download]  79.9% of ~38.82MiB at 989.62KiB/s ETA 00:24"
     ]
    },
    {
     "name": "stderr",
     "output_type": "stream",
     "text": [
      "\r",
      " 33%|███▎      | 2/6 [04:57<11:36, 174.18s/it]"
     ]
    },
    {
     "name": "stdout",
     "output_type": "stream",
     "text": [
      "[download]  80.3% of ~38.80MiB at 915.85KiB/s ETA 00:24[youtube] B5tfQfYKBB4: Downloading webpage\n",
      "[download]  52.7% of ~38.52MiB at 228.19KiB/s ETA 00:503[download] Destination: ARI LESMANA FOURTWNTY SEORANG KOMEDIAN! _ PODSKUY PECAH DIBAJAK UUS!! PAPA GADING KEMANA-B5tfQfYKBB4.webm\n",
      "[download] 100% of 28.03MiB in 00:0174MiB/s ETA 00:0022own ETA\n",
      "[download]  82.2% of ~38.78MiB at 899.24KiB/s ETA 00:21[ffmpeg] Destination: ARI LESMANA FOURTWNTY SEORANG KOMEDIAN! _ PODSKUY PECAH DIBAJAK UUS!! PAPA GADING KEMANA-B5tfQfYKBB4.mp3\n",
      "[download] 100% of 38.92MiB in 02:01.07MiB/s ETA 00:2701\n",
      "[ffmpeg] Destination: Emang Bisa, Negara Ngasih Duit Ke Rakyat Cuma-Cuma - Pikirin Pikiran ft. Sonny Mumbunan-mIXj9NwRKAU.mp3\n",
      "[download]  89.3% of ~38.65MiB at  1.28MiB/s ETA 00:1112Deleting original file YAKIN COWO⁉️ KOK MAKE UP‼️ RIBUT GUE AKHIRNYA‼️-IVAN GUNAWAN -Deddy Corbuzier Podcast-K71ZjHP_rWQ.m4a (pass -k to keep)\n",
      "[download]  89.3% of ~38.65MiB at  1.18MiB/s ETA 00:11"
     ]
    },
    {
     "name": "stderr",
     "output_type": "stream",
     "text": [
      "\r",
      " 50%|█████     | 3/6 [05:38<05:36, 112.07s/it]"
     ]
    },
    {
     "name": "stdout",
     "output_type": "stream",
     "text": [
      "[download]  89.7% of ~38.63MiB at 788.82KiB/s ETA 00:11[youtube] KxKdQfUau34: Downloading webpage\n",
      "[download]  90.5% of ~38.60MiB at 826.93KiB/s ETA 00:10[download] Destination: SEMPROD  - SKINNYINDONESIAN24 DIKEROYOK ANDHIKA GADING UUS _ YOUTUBE VS TV!!! _ EPS. 6 - PART 1-KxKdQfUau34.m4a\n",
      "[download] 100% of 36.46MiB in 00:016.95KiB/s ETA 00:08own ETA\n",
      "[download]  92.4% of ~38.60MiB at  1.04MiB/s ETA 00:088[ffmpeg] Correcting container in \"SEMPROD  - SKINNYINDONESIAN24 DIKEROYOK ANDHIKA GADING UUS _ YOUTUBE VS TV!!! _ EPS. 6 - PART 1-KxKdQfUau34.m4a\"\n",
      "[download]  94.0% of ~38.62MiB at 572.37KiB/s ETA 00:067[ffmpeg] Destination: SEMPROD  - SKINNYINDONESIAN24 DIKEROYOK ANDHIKA GADING UUS _ YOUTUBE VS TV!!! _ EPS. 6 - PART 1-KxKdQfUau34.mp3\n",
      "[download] 100% of 38.56MiB in 01:470.41KiB/s ETA 00:000\n",
      "[ffmpeg] Destination: Indonesia kayak Israel Permintaan Maaf dalam Hubungan Internasional - Podcast Bebas Aktif Eps. 67-_CuTyr5_L0M.mp3\n",
      "Deleting original file Novel Baswedan dan Korupsi Global _ PIKIRIN PIKIRAN Ep. 2-ZnBTkczCN2k.webm (pass -k to keep)\n"
     ]
    },
    {
     "name": "stderr",
     "output_type": "stream",
     "text": [
      "\r",
      " 33%|███▎      | 2/6 [05:59<09:15, 138.98s/it]"
     ]
    },
    {
     "name": "stdout",
     "output_type": "stream",
     "text": [
      "[youtube] -T8zNb0d6Mo: Downloading webpage\n",
      "[youtube] -T8zNb0d6Mo: Downloading MPD manifest\n",
      "[dashsegments] Total fragments: 266\n",
      "[download] Destination: Luntang-Lantung Nasib ABK di Tengah Lautan - Podcast Bebas Aktif Eps. 65 (audio)--T8zNb0d6Mo.webm\n",
      "[download]   1.1% of ~26.78MiB at  1.01MiB/s ETA 01:363:2152Deleting original file NAH LOH.... GIMANA NIH. Deddy Corbuzier Podcast-rIIQhL9b6sA.webm (pass -k to keep)\n"
     ]
    },
    {
     "name": "stderr",
     "output_type": "stream",
     "text": [
      "\r",
      " 33%|███▎      | 2/6 [06:02<12:56, 194.13s/it]"
     ]
    },
    {
     "name": "stdout",
     "output_type": "stream",
     "text": [
      "[download]   1.5% of ~29.10MiB at 861.43KiB/s ETA 01:37[youtube] r6cb3nvETNs: Downloading webpage\n",
      "[download]   1.9% of ~30.64MiB at 957.65KiB/s ETA 01:39[youtube] r6cb3nvETNs: Downloading MPD manifest\n",
      "[download]   2.6% of ~33.25MiB at 147.91KiB/s ETA 01:52[dashsegments] Total fragments: 447\n",
      "[download]   2.6% of ~33.25MiB at 210.33KiB/s ETA 01:52[download] Destination: Yang Muda yang Mendunia! - Podcast Bebas Aktif x Indonesia Mengglobal Eps. 1-r6cb3nvETNs.webm\n",
      "[download]   4.5% of ~56.44MiB at 958.82KiB/s ETA 01:2674904Deleting original file Britania Raya Siap Terima 'Pengungsi' dari Hong Kong - Podcast Bebas Aktif Eps. 73-8LH0ZG4PANM.webm (pass -k to keep)\n",
      "[download]   6.4% of ~35.79MiB at 213.42KiB/s ETA 01:44"
     ]
    },
    {
     "name": "stderr",
     "output_type": "stream",
     "text": [
      "\r",
      " 17%|█▋        | 1/6 [06:08<30:43, 368.79s/it]"
     ]
    },
    {
     "name": "stdout",
     "output_type": "stream",
     "text": [
      "[download]   7.1% of ~35.83MiB at  1.02MiB/s ETA 01:3876[youtube] tNkmYsaINbI: Downloading webpage\n",
      "[download]   5.2% of ~56.65MiB at 137.33KiB/s ETA 01:26Deleting original file Migrasi - Bertahan di Tanah Kelahiran, atau Berkelana Mencari Peruntungan - PBA x IM Eps. 3-OcbmlpeJQzM.webm (pass -k to keep)\n",
      "[download]   5.2% of ~56.65MiB at 371.12KiB/s ETA 01:26"
     ]
    },
    {
     "name": "stderr",
     "output_type": "stream",
     "text": [
      "\r",
      " 17%|█▋        | 1/6 [06:09<30:46, 369.39s/it]"
     ]
    },
    {
     "name": "stdout",
     "output_type": "stream",
     "text": [
      "[download]   5.8% of ~56.62MiB at 920.42KiB/s ETA 01:21[youtube] wAlABEuV3JY: Downloading webpage\n",
      "[download]   7.5% of ~35.98MiB at 131.31KiB/s ETA 01:41[youtube] tNkmYsaINbI: Downloading MPD manifest\n",
      "[download]   6.7% of ~56.99MiB at  1.21MiB/s ETA 01:1891[youtube] wAlABEuV3JY: Downloading MPD manifest\n",
      "[download]   6.9% of ~57.03MiB at  2.05MiB/s ETA 01:1799[dashsegments] Total fragments: 279\n",
      "[download]   6.9% of ~57.03MiB at  2.08MiB/s ETA 01:17[download] Destination: Menerka Arah Politik Rusia Pasca Diracunnya Alexei Navalny - Podcast Bebas Aktif 82-tNkmYsaINbI.webm\n",
      "[download]   7.4% of ~57.10MiB at  1.76MiB/s ETA 01:18854[dashsegments] Total fragments: 374\n",
      "[download]   8.7% of ~36.25MiB at 250.87KiB/s ETA 01:38[download] Destination: Mencari Strategi Jitu Perangi Covid-19 - Pikirin Pikiran Live-wAlABEuV3JY.m4a\n",
      "[download]  82.1% of ~62.42MiB at 470.74KiB/s ETA 00:1355636Deleting original file Anya Geraldine, Rizky Febian dan Setan (click bait) -Deddy Corbuzier Podcast-lXRu4kmy8IU.webm (pass -k to keep)\n",
      "[download]  82.3% of ~62.42MiB at  1.49MiB/s ETA 00:133"
     ]
    },
    {
     "name": "stderr",
     "output_type": "stream",
     "text": [
      "\r",
      " 50%|█████     | 3/6 [07:07<07:21, 147.30s/it]"
     ]
    },
    {
     "name": "stdout",
     "output_type": "stream",
     "text": [
      "[download]  83.0% of ~62.43MiB at  1.12MiB/s ETA 00:123[youtube] 4_3r_-4r96E: Downloading webpage\n",
      "[download]  59.0% of ~35.63MiB at 983.16KiB/s ETA 00:40[download] Destination: TERNYATA RAFFI AHMAD PUNYA ADEK COWO JOIN KE KUY !! _ ADA YANG BARU JUGA NIH HOROR KUY TIAP KAMIS-4_3r_-4r96E.webm\n",
      "[download] 100% of 28.83MiB in 00:012.19KiB/s ETA 00:109wn ETA\n",
      "[download]  85.9% of ~62.41MiB at 386.63KiB/s ETA 00:10[ffmpeg] Destination: TERNYATA RAFFI AHMAD PUNYA ADEK COWO JOIN KE KUY !! _ ADA YANG BARU JUGA NIH HOROR KUY TIAP KAMIS-4_3r_-4r96E.mp3\n",
      "[download] 100% of 62.22MiB in 01:159.41KiB/s ETA 00:290\n",
      "[download]  77.1% of ~38.32MiB at  1.12MiB/s ETA 00:233[ffmpeg] Destination: Yang Muda yang Mendunia! - Podcast Bebas Aktif x Indonesia Mengglobal Eps. 1-r6cb3nvETNs.mp3\n",
      "[download]  89.5% of ~38.35MiB at 189.43KiB/s ETA 00:101Deleting original file Juli Bulan Revolusi - Prancis Dulu dan Kini - Podcast Bebas Aktif Eps. 75-N9eHeQ5A0Mw.webm (pass -k to keep)\n",
      "[download]  30.5% of ~57.13MiB at 180.73KiB/s ETA 03:09"
     ]
    },
    {
     "name": "stderr",
     "output_type": "stream",
     "text": [
      "\r",
      " 17%|█▋        | 1/6 [07:34<37:50, 454.08s/it]"
     ]
    },
    {
     "name": "stdout",
     "output_type": "stream",
     "text": [
      "[download]  83.3% of ~35.75MiB at 657.14KiB/s ETA 00:16[youtube] vOys5VYObuc: Downloading webpage\n",
      "[download]  83.9% of ~35.74MiB at 172.99KiB/s ETA 00:160[download] Destination: KALAU PAK JOKOWI KE PODCAST DEDDY CORBUZIER 🔴-vOys5VYObuc.m4a\n",
      "[download] 100% of 45.62MiB in 00:010.24KiB/s ETA 03:06own ETA\n",
      "[download]  92.8% of ~38.38MiB at  1.14MiB/s ETA 00:074[ffmpeg] Correcting container in \"KALAU PAK JOKOWI KE PODCAST DEDDY CORBUZIER 🔴-vOys5VYObuc.m4a\"\n",
      "[download]  87.8% of ~35.74MiB at 308.49KiB/s ETA 00:123[ffmpeg] Destination: KALAU PAK JOKOWI KE PODCAST DEDDY CORBUZIER 🔴-vOys5VYObuc.mp3\n",
      "[download] 100% of 38.21MiB in 01:422.20KiB/s ETA 00:000\n",
      "[download]  92.8% of ~35.87MiB at 155.63KiB/s ETA 00:07[ffmpeg] Destination: Luntang-Lantung Nasib ABK di Tengah Lautan - Podcast Bebas Aktif Eps. 65 (audio)--T8zNb0d6Mo.mp3\n",
      "[download]  93.5% of ~35.89MiB at 992.61KiB/s ETA 00:06Deleting original file Sharing Sharing Aja Live - Eps 1 - Cara Content Creator Dapat Duit-N_3l4Zv0ErE.m4a (pass -k to keep)\n"
     ]
    },
    {
     "name": "stderr",
     "output_type": "stream",
     "text": [
      "\r",
      " 33%|███▎      | 2/6 [07:45<13:25, 201.35s/it]"
     ]
    },
    {
     "name": "stdout",
     "output_type": "stream",
     "text": [
      "[download]  93.9% of ~35.90MiB at  1.00MiB/s ETA 00:066[youtube] zxWDM9k2IYY: Downloading webpage\n",
      "[download]  35.0% of ~57.19MiB at 265.10KiB/s ETA 02:56[download] Destination: Ngomongin Youtube Bareng Jovi Dovi-zxWDM9k2IYY.webm\n",
      "[download]  32.2% of 33.72MiB at  6.24MiB/s ETA 00:0365own ETA"
     ]
    },
    {
     "name": "stderr",
     "output_type": "stream",
     "text": [
      "ERROR: giving up after 0 retries\n"
     ]
    },
    {
     "name": "stdout",
     "output_type": "stream",
     "text": [
      "[download]  35.2% of 33.72MiB at 10.48MiB/s ETA 00:02[download] Skipping fragment 266...\n"
     ]
    },
    {
     "name": "stderr",
     "output_type": "stream",
     "text": [
      "ERROR: giving up after 0 retries\n"
     ]
    },
    {
     "name": "stdout",
     "output_type": "stream",
     "text": [
      "[download] Skipping fragment 267...\n",
      "[download]  41.1% of 33.72MiB at 14.22MiB/s ETA 00:01"
     ]
    },
    {
     "name": "stderr",
     "output_type": "stream",
     "text": [
      "ERROR: giving up after 0 retries\n"
     ]
    },
    {
     "name": "stdout",
     "output_type": "stream",
     "text": [
      "[download]  52.9% of 33.72MiB at 20.75MiB/s ETA 00:00[download] Skipping fragment 268...\n",
      "[download]  58.9% of 33.72MiB at Unknown speed ETA Unknown ETA"
     ]
    },
    {
     "name": "stderr",
     "output_type": "stream",
     "text": [
      "ERROR: giving up after 0 retries\n"
     ]
    },
    {
     "name": "stdout",
     "output_type": "stream",
     "text": [
      "[download]  58.9% of 33.72MiB at 160.51KiB/s ETA 01:28[download] Skipping fragment 269...\n",
      "[download]  59.0% of 33.72MiB at 611.52KiB/s ETA 00:23"
     ]
    },
    {
     "name": "stderr",
     "output_type": "stream",
     "text": [
      "ERROR: giving up after 0 retries\n"
     ]
    },
    {
     "name": "stdout",
     "output_type": "stream",
     "text": [
      "[download]  59.2% of 33.72MiB at  1.01MiB/s ETA 00:13[download] Skipping fragment 270...\n",
      "[download]  64.8% of 33.72MiB at 10.39MiB/s ETA 00:01"
     ]
    },
    {
     "name": "stderr",
     "output_type": "stream",
     "text": [
      "ERROR: giving up after 0 retries\n"
     ]
    },
    {
     "name": "stdout",
     "output_type": "stream",
     "text": [
      "[download]  35.3% of ~57.20MiB at 190.09KiB/s ETA 02:57[download] Skipping fragment 271...\n",
      "[download]  87.0% of 33.72MiB at 12.92MiB/s ETA 00:0004"
     ]
    },
    {
     "name": "stderr",
     "output_type": "stream",
     "text": [
      "ERROR: giving up after 0 retries\n"
     ]
    },
    {
     "name": "stdout",
     "output_type": "stream",
     "text": [
      "[download] Skipping fragment 273...\n",
      "[download]  87.1% of 33.72MiB at 259.58KiB/s ETA 00:17nown ETA"
     ]
    },
    {
     "name": "stderr",
     "output_type": "stream",
     "text": [
      "ERROR: giving up after 0 retries\n"
     ]
    },
    {
     "name": "stdout",
     "output_type": "stream",
     "text": [
      "[download]  87.2% of 33.72MiB at 635.18KiB/s ETA 00:06[download] Skipping fragment 274...\n",
      "[download]  88.5% of 33.72MiB at  3.16MiB/s ETA 00:0156"
     ]
    },
    {
     "name": "stderr",
     "output_type": "stream",
     "text": [
      "ERROR: giving up after 0 retries\n"
     ]
    },
    {
     "name": "stdout",
     "output_type": "stream",
     "text": [
      "[download]  35.6% of ~57.20MiB at 293.58KiB/s ETA 02:56[download] Skipping fragment 275...\n",
      "[download] 100% of 33.72MiB in 00:02.26MiB/s ETA 02:545\n",
      "[download]  95.4% of ~35.92MiB at 363.83KiB/s ETA 00:04[ffmpeg] Destination: Ngomongin Youtube Bareng Jovi Dovi-zxWDM9k2IYY.mp3\n",
      "[download]  96.1% of ~35.92MiB at 890.39KiB/s ETA 00:043"
     ]
    },
    {
     "name": "stderr",
     "output_type": "stream",
     "text": [
      "ERROR: giving up after 0 retries\n"
     ]
    },
    {
     "name": "stdout",
     "output_type": "stream",
     "text": [
      "[download] Skipping fragment 278...\n",
      "[download] 100% of 34.52MiB in 01:390.43KiB/s ETA 00:03\n",
      "[download]  36.4% of ~57.21MiB at  1.12MiB/s ETA 02:5244[ffmpeg] Destination: Menerka Arah Politik Rusia Pasca Diracunnya Alexei Navalny - Podcast Bebas Aktif 82-tNkmYsaINbI.mp3\n",
      "[download]  36.9% of ~57.21MiB at  1.00MiB/s ETA 02:5151Deleting original file ARI LESMANA FOURTWNTY SEORANG KOMEDIAN! _ PODSKUY PECAH DIBAJAK UUS!! PAPA GADING KEMANA-B5tfQfYKBB4.webm (pass -k to keep)\n"
     ]
    },
    {
     "name": "stderr",
     "output_type": "stream",
     "text": [
      "\r",
      " 50%|█████     | 3/6 [07:51<08:42, 174.19s/it]"
     ]
    },
    {
     "name": "stdout",
     "output_type": "stream",
     "text": [
      "[download]  37.2% of ~57.22MiB at  1.00MiB/s ETA 02:501[youtube] 7vB936RThHY: Downloading webpage\n",
      "[download]  37.2% of ~57.22MiB at 227.84KiB/s ETA 02:51[youtube] 7vB936RThHY: Downloading MPD manifest\n",
      "[download]  37.4% of ~57.22MiB at  1.01MiB/s ETA 02:5050[dashsegments] Total fragments: 287\n",
      "[download]  37.4% of ~57.22MiB at  1.01MiB/s ETA 02:51[download] Destination: Politik Dinasti - Fenomena Lintas Negeri feat. Yoes Kenawas - Podcast Bebas Aktif Eps. 76-7vB936RThHY.webm\n",
      "[download]  40.3% of ~57.25MiB at 869.15KiB/s ETA 02:4299:01Deleting original file SEMPROD - UUS JADI ‘KESAYANGAN’ TONGKRONGAN! ANDHIKA-GADING KESEL TEMEN TOXIC_BORIS BOKIR BIKIN PECAH-np9MzJH6Pjk.webm (pass -k to keep)\n",
      "[download]  13.6% of ~42.18MiB at  1.63MiB/s ETA 00:472"
     ]
    },
    {
     "name": "stderr",
     "output_type": "stream",
     "text": [
      "\r",
      " 33%|███▎      | 2/6 [08:00<15:19, 229.83s/it]"
     ]
    },
    {
     "name": "stdout",
     "output_type": "stream",
     "text": [
      "[download]  14.4% of ~42.45MiB at 570.29KiB/s ETA 00:47[youtube] z6q333G9_4o: Downloading webpage\n",
      "[download]  16.7% of ~42.33MiB at 168.63KiB/s ETA 00:456[download] Destination: Achmad Zaky dan Indonesia dalam Era Digital _ PIKIRIN PIKIRAN ep. 1-z6q333G9_4o.m4a\n",
      "[download]  44.2% of ~57.29MiB at 385.19KiB/s ETA 02:325wn ETADeleting original file SEMPROD  - SKINNYINDONESIAN24 DIKEROYOK ANDHIKA GADING UUS _ YOUTUBE VS TV!!! _ EPS. 6 - PART 1-KxKdQfUau34.m4a (pass -k to keep)\n",
      "[download]  44.3% of ~57.29MiB at  1.08MiB/s ETA 02:315"
     ]
    },
    {
     "name": "stderr",
     "output_type": "stream",
     "text": [
      "\r",
      " 67%|██████▋   | 4/6 [08:11<04:08, 124.43s/it]"
     ]
    },
    {
     "name": "stdout",
     "output_type": "stream",
     "text": [
      "[download]  34.2% of ~41.17MiB at 251.16KiB/s ETA 00:355[youtube] 6DuILt5JLSY: Downloading webpage\n",
      "[download]  98.1% of 23.74MiB at  1.63MiB/s ETA 00:0034[youtube] 6DuILt5JLSY: Downloading MPD manifest\n",
      "[download] 100% of 23.74MiB in 00:10.16MiB/s ETA 00:34\n",
      "[download]  36.3% of ~41.07MiB at 239.81KiB/s ETA 00:344[ffmpeg] Correcting container in \"Achmad Zaky dan Indonesia dalam Era Digital _ PIKIRIN PIKIRAN ep. 1-z6q333G9_4o.m4a\"\n",
      "[download]  38.0% of ~41.21MiB at 452.02KiB/s ETA 00:333[dashsegments] Total fragments: 585\n",
      "[download]  38.1% of ~41.21MiB at 681.66KiB/s ETA 00:33[download] Destination: Sharing Sharing Aja Live - Eps 3 - BAPER Bahas Perfotografian-6DuILt5JLSY.m4a\n",
      "[download]  38.7% of ~41.26MiB at 468.31KiB/s ETA 00:32043[ffmpeg] Destination: Achmad Zaky dan Indonesia dalam Era Digital _ PIKIRIN PIKIRAN ep. 1-z6q333G9_4o.mp3\n",
      "[download]  17.3% of ~89.26MiB at  1.32MiB/s ETA 01:2774Deleting original file Emang Bisa, Negara Ngasih Duit Ke Rakyat Cuma-Cuma - Pikirin Pikiran ft. Sonny Mumbunan-mIXj9NwRKAU.webm (pass -k to keep)\n",
      "[download]  74.2% of ~41.14MiB at  1.12MiB/s ETA 00:13"
     ]
    },
    {
     "name": "stderr",
     "output_type": "stream",
     "text": [
      "\r",
      " 33%|███▎      | 2/6 [08:32<15:30, 232.64s/it]"
     ]
    },
    {
     "name": "stdout",
     "output_type": "stream",
     "text": [
      "[download]  75.3% of ~41.10MiB at  1.11MiB/s ETA 00:1207[youtube] xTWS86Lz1Hg: Downloading webpage\n",
      "[download]  77.8% of ~41.05MiB at 250.40KiB/s ETA 00:111[download] Destination: Gini Lho Cara Beli Saham..-xTWS86Lz1Hg.m4a\n",
      "[download] 100% of 48.76MiB in 00:010.18KiB/s ETA 01:22own ETA\n",
      "[download]  21.1% of ~89.42MiB at 623.29KiB/s ETA 01:219[ffmpeg] Correcting container in \"Gini Lho Cara Beli Saham..-xTWS86Lz1Hg.m4a\"\n",
      "[download]  85.7% of ~40.89MiB at  1.05MiB/s ETA 00:0707[ffmpeg] Destination: Gini Lho Cara Beli Saham..-xTWS86Lz1Hg.mp3\n",
      "[download] 100% of 40.82MiB in 00:51.10MiB/s ETA 01:1333\n",
      "[download]  56.4% of ~57.36MiB at 294.96KiB/s ETA 01:593[ffmpeg] Destination: Politik Dinasti - Fenomena Lintas Negeri feat. Yoes Kenawas - Podcast Bebas Aktif Eps. 76-7vB936RThHY.mp3\n",
      "[download]  57.3% of ~89.88MiB at  1.20MiB/s ETA 00:4667Deleting original file Indonesia kayak Israel Permintaan Maaf dalam Hubungan Internasional - Podcast Bebas Aktif Eps. 67-_CuTyr5_L0M.webm (pass -k to keep)\n",
      "[download]  57.3% of ~89.88MiB at  1.20MiB/s ETA 00:46"
     ]
    },
    {
     "name": "stderr",
     "output_type": "stream",
     "text": [
      "\r",
      " 33%|███▎      | 2/6 [09:15<17:31, 262.76s/it]"
     ]
    },
    {
     "name": "stdout",
     "output_type": "stream",
     "text": [
      "[download]  57.6% of ~89.88MiB at 122.90KiB/s ETA 00:45[youtube] dZyn0m7Oms0: Downloading webpage\n",
      "[download]  68.1% of ~57.41MiB at  1.01MiB/s ETA 01:265[youtube] dZyn0m7Oms0: Downloading MPD manifest\n",
      "[download]  58.8% of ~89.88MiB at 159.89KiB/s ETA 00:445[dashsegments] Total fragments: 297\n",
      "[download] Destination: Podcast Bebas Aktif Episode 36 - Indonesia Malaysia-dZyn0m7Oms0.webm\n",
      "[download]  89.8% of ~89.97MiB at 356.95KiB/s ETA 00:1045Deleting original file TERNYATA RAFFI AHMAD PUNYA ADEK COWO JOIN KE KUY !! _ ADA YANG BARU JUGA NIH HOROR KUY TIAP KAMIS-4_3r_-4r96E.webm (pass -k to keep)\n",
      "[download]  59.6% of ~41.86MiB at 131.96KiB/s ETA 00:21"
     ]
    },
    {
     "name": "stderr",
     "output_type": "stream",
     "text": [
      "\r",
      " 67%|██████▋   | 4/6 [09:49<05:03, 151.78s/it]"
     ]
    },
    {
     "name": "stdout",
     "output_type": "stream",
     "text": [
      "[download]  60.7% of ~41.85MiB at 694.57KiB/s ETA 00:20[youtube] pAPR2DQk5Iw: Downloading webpage\n",
      "[download]  91.0% of ~89.98MiB at 241.77KiB/s ETA 00:09[youtube] pAPR2DQk5Iw: Downloading MPD manifest\n",
      "[download]  91.5% of ~89.98MiB at 437.60KiB/s ETA 00:092[dashsegments] Total fragments: 379\n",
      "[download]  62.8% of ~41.82MiB at 656.00KiB/s ETA 00:19[download] Destination: Pemilu Amerika Serikat 2020 - Kapabilitas vs Identitas ft. Nathaniel Rayestu - Podcast Bebas Aktif 79-pAPR2DQk5Iw.m4a\n",
      "[download]  74.8% of ~41.63MiB at 245.59KiB/s ETA 00:13581Deleting original file Achmad Zaky dan Indonesia dalam Era Digital _ PIKIRIN PIKIRAN ep. 1-z6q333G9_4o.m4a (pass -k to keep)\n",
      "[download]  98.0% of ~89.99MiB at 685.81KiB/s ETA 00:02"
     ]
    },
    {
     "name": "stderr",
     "output_type": "stream",
     "text": [
      "\r",
      " 50%|█████     | 3/6 [09:57<09:47, 195.86s/it]"
     ]
    },
    {
     "name": "stdout",
     "output_type": "stream",
     "text": [
      "[download]  75.8% of ~41.60MiB at  1.05MiB/s ETA 00:124[youtube] ii-Qu4uf_iM: Downloading webpage\n",
      "[download]  83.4% of ~57.45MiB at 171.52KiB/s ETA 00:45[youtube] ii-Qu4uf_iM: Downloading MPD manifest\n",
      "[download]  99.7% of ~89.99MiB at 524.68KiB/s ETA 00:00[dashsegments] Total fragments: 379\n",
      "[download]  99.7% of ~89.99MiB at 840.87KiB/s ETA 00:00[download] Destination: Debat Panas - Perusakan Patung-Patung Tokoh Bersejarah! (Part 1) - Podcast Bebas Aktif Eps. 69-ii-Qu4uf_iM.webm\n",
      "[download] 100% of 89.98MiB in 01:455.99KiB/s ETA 00:11\n",
      "[download]  79.5% of ~41.47MiB at 1009.18KiB/s ETA 00:103655[ffmpeg] Correcting container in \"Sharing Sharing Aja Live - Eps 3 - BAPER Bahas Perfotografian-6DuILt5JLSY.m4a\"\n",
      "[download]  82.9% of ~41.39MiB at 990.06KiB/s ETA 00:099"
     ]
    },
    {
     "name": "stderr",
     "output_type": "stream",
     "text": [
      "ERROR: giving up after 0 retries\n"
     ]
    },
    {
     "name": "stdout",
     "output_type": "stream",
     "text": [
      "[download]  84.8% of ~57.45MiB at  1.32MiB/s ETA 00:41[download] Skipping fragment 8...\n",
      "[download]  84.5% of ~41.33MiB at 926.54KiB/s ETA 00:088[ffmpeg] Destination: Sharing Sharing Aja Live - Eps 3 - BAPER Bahas Perfotografian-6DuILt5JLSY.mp3\n",
      "[download]  20.1% of ~57.65MiB at 352.52KiB/s ETA 00:48"
     ]
    },
    {
     "name": "stderr",
     "output_type": "stream",
     "text": [
      "ERROR: giving up after 0 retries\n"
     ]
    },
    {
     "name": "stdout",
     "output_type": "stream",
     "text": [
      "[download]  20.1% of ~57.65MiB at 670.38KiB/s ETA 00:48[download] Skipping fragment 14...\n",
      "[download]  86.8% of ~41.27MiB at 1016.87KiB/s ETA 00:06"
     ]
    },
    {
     "name": "stderr",
     "output_type": "stream",
     "text": [
      "ERROR: giving up after 0 retries\n"
     ]
    },
    {
     "name": "stdout",
     "output_type": "stream",
     "text": [
      "[download]  86.9% of ~41.27MiB at 974.40KiB/s ETA 00:06[download] Skipping fragment 15...\n",
      "[download]  20.3% of ~57.66MiB at 147.34KiB/s ETA 00:48"
     ]
    },
    {
     "name": "stderr",
     "output_type": "stream",
     "text": [
      "ERROR: giving up after 0 retries\n"
     ]
    },
    {
     "name": "stdout",
     "output_type": "stream",
     "text": [
      "[download]  86.9% of ~41.28MiB at 121.43KiB/s ETA 00:06[download] Skipping fragment 16...\n",
      "[download]  95.3% of ~41.15MiB at 344.87KiB/s ETA 00:027"
     ]
    },
    {
     "name": "stderr",
     "output_type": "stream",
     "text": [
      "ERROR: giving up after 0 retries\n"
     ]
    },
    {
     "name": "stdout",
     "output_type": "stream",
     "text": [
      "[download]  95.4% of ~41.15MiB at 488.89KiB/s ETA 00:02[download] Skipping fragment 28...\n",
      "[download]  27.5% of ~57.85MiB at 275.73KiB/s ETA 00:44"
     ]
    },
    {
     "name": "stderr",
     "output_type": "stream",
     "text": [
      "ERROR: giving up after 0 retries\n"
     ]
    },
    {
     "name": "stdout",
     "output_type": "stream",
     "text": [
      "[download]  95.6% of ~41.15MiB at 305.42KiB/s ETA 00:02[download] Skipping fragment 29...\n",
      "[download] 100% of 41.00MiB in 00:521.50KiB/s ETA 02:20\n",
      "[download]  31.4% of ~57.92MiB at 524.62KiB/s ETA 00:41[ffmpeg] Destination: Podcast Bebas Aktif Episode 36 - Indonesia Malaysia-dZyn0m7Oms0.mp3\n",
      "[download]  46.8% of ~58.07MiB at 455.76KiB/s ETA 00:327Deleting original file KALAU PAK JOKOWI KE PODCAST DEDDY CORBUZIER 🔴-vOys5VYObuc.m4a (pass -k to keep)\n",
      "[download]  46.9% of ~58.07MiB at  1.20MiB/s ETA 00:322"
     ]
    },
    {
     "name": "stderr",
     "output_type": "stream",
     "text": [
      "\r",
      " 33%|███▎      | 2/6 [10:20<24:30, 367.68s/it]"
     ]
    },
    {
     "name": "stdout",
     "output_type": "stream",
     "text": [
      "[download]  47.5% of ~58.08MiB at  1.14MiB/s ETA 00:322[youtube] 3W1Er96CzXs: Downloading webpage\n",
      "[download]  48.5% of ~58.09MiB at  1.14MiB/s ETA 00:3112[youtube] 3W1Er96CzXs: Downloading MPD manifest\n",
      "[download]  15.8% of ~51.40MiB at 479.34KiB/s ETA 02:043[dashsegments] Total fragments: 467\n",
      "[download]  49.9% of ~58.10MiB at 480.45KiB/s ETA 00:31[download] Destination: Sharing Sharing Aja Live - Eps 4 - CONTENT CREATOR DIBAYAR BRAND-3W1Er96CzXs.m4a\n",
      "[download] 100% of 57.46MiB in 04:31.28MiB/s ETA 00:122184\n",
      "[download]  80.5% of ~58.21MiB at  1.16MiB/s ETA 00:124[ffmpeg] Correcting container in \"Mencari Strategi Jitu Perangi Covid-19 - Pikirin Pikiran Live-wAlABEuV3JY.m4a\"\n",
      "[download]  83.7% of ~58.22MiB at 238.06KiB/s ETA 00:106[ffmpeg] Destination: Mencari Strategi Jitu Perangi Covid-19 - Pikirin Pikiran Live-wAlABEuV3JY.mp3\n",
      "[download]  31.7% of ~53.87MiB at 264.80KiB/s ETA 01:415Deleting original file Menerka Arah Politik Rusia Pasca Diracunnya Alexei Navalny - Podcast Bebas Aktif 82-tNkmYsaINbI.webm (pass -k to keep)\n",
      "[download]  31.7% of ~53.87MiB at 440.74KiB/s ETA 01:41"
     ]
    },
    {
     "name": "stderr",
     "output_type": "stream",
     "text": [
      "\r",
      " 33%|███▎      | 2/6 [10:46<22:45, 341.32s/it]"
     ]
    },
    {
     "name": "stdout",
     "output_type": "stream",
     "text": [
      "[download]  86.5% of ~58.22MiB at  1.23MiB/s ETA 00:081[youtube] jkN31e1lXdY: Downloading webpage\n",
      "[download]  31.3% of ~71.47MiB at 699.79KiB/s ETA 00:54[youtube] jkN31e1lXdY: Downloading MPD manifest\n",
      "[download]  88.7% of ~58.23MiB at 362.16KiB/s ETA 00:077[dashsegments] Total fragments: 333\n",
      "[download]  88.8% of ~58.23MiB at 621.42KiB/s ETA 00:07[download] Destination: Ledakan Beirut - Puncak Krisis Berkepanjangan Lebanon ft. Gilang Lukman - Podcast Bebas Aktif 78-jkN31e1lXdY.webm\n",
      "[download] 100% of 58.17MiB in 01:04.10MiB/s ETA 00:45906:58\n",
      "[download]  14.4% of ~46.65MiB at 865.82KiB/s ETA 00:48[ffmpeg] Correcting container in \"Pemilu Amerika Serikat 2020 - Kapabilitas vs Identitas ft. Nathaniel Rayestu - Podcast Bebas Aktif 79-pAPR2DQk5Iw.m4a\"\n",
      "[download]  19.2% of ~46.92MiB at  1.06MiB/s ETA 00:4626[ffmpeg] Destination: Pemilu Amerika Serikat 2020 - Kapabilitas vs Identitas ft. Nathaniel Rayestu - Podcast Bebas Aktif 79-pAPR2DQk5Iw.mp3\n",
      "[download]  60.7% of ~71.71MiB at 668.44KiB/s ETA 00:315Deleting original file Luntang-Lantung Nasib ABK di Tengah Lautan - Podcast Bebas Aktif Eps. 65 (audio)--T8zNb0d6Mo.webm (pass -k to keep)\n",
      "[download]  60.8% of ~71.71MiB at  1.09MiB/s ETA 00:314"
     ]
    },
    {
     "name": "stderr",
     "output_type": "stream",
     "text": [
      "\r",
      " 50%|█████     | 3/6 [11:10<09:31, 190.65s/it]"
     ]
    },
    {
     "name": "stdout",
     "output_type": "stream",
     "text": [
      "[download]  61.2% of ~71.71MiB at  1.36MiB/s ETA 00:304[youtube] pRuzdbwOJWM: Downloading webpage\n",
      "[download]  61.9% of ~71.71MiB at 132.20KiB/s ETA 00:30[download] Destination: GUE SUSAH TUHAN GA ADA⁉️.. -DENNY SUMARGO -Deddy Corbuzier Podcast-pRuzdbwOJWM.m4a\n",
      "[download] 100% of 44.22MiB in 00:017.40KiB/s ETA 00:28own ETA\n",
      "[download]  45.3% of ~47.58MiB at  1.72MiB/s ETA 00:312[ffmpeg] Correcting container in \"GUE SUSAH TUHAN GA ADA⁉️.. -DENNY SUMARGO -Deddy Corbuzier Podcast-pRuzdbwOJWM.m4a\"\n",
      "[download]  48.9% of ~47.61MiB at  2.10MiB/s ETA 00:2970[ffmpeg] Destination: GUE SUSAH TUHAN GA ADA⁉️.. -DENNY SUMARGO -Deddy Corbuzier Podcast-pRuzdbwOJWM.mp3\n",
      "[download]  54.2% of ~54.71MiB at 642.55KiB/s ETA 01:076Deleting original file Gini Lho Cara Beli Saham..-xTWS86Lz1Hg.m4a (pass -k to keep)\n",
      "[download]  70.2% of ~71.74MiB at  1.55MiB/s ETA 00:24"
     ]
    },
    {
     "name": "stderr",
     "output_type": "stream",
     "text": [
      "\r",
      " 50%|█████     | 3/6 [11:19<10:38, 212.97s/it]"
     ]
    },
    {
     "name": "stdout",
     "output_type": "stream",
     "text": [
      "[download]  70.7% of ~71.74MiB at 166.27KiB/s ETA 00:237[youtube] SOpanDUVms0: Downloading webpage\n",
      "[download]  55.9% of ~47.60MiB at  1.00MiB/s ETA 00:255[youtube] SOpanDUVms0: Downloading MPD manifest\n",
      "[download]  57.4% of ~47.58MiB at 517.95KiB/s ETA 00:242[dashsegments] Total fragments: 391\n",
      "[download]  72.4% of ~71.75MiB at 411.99KiB/s ETA 00:22[download] Destination: Afghanistan - Taliban, Siap Baikan - Podcast Bebas Aktif 83-SOpanDUVms0.webm\n",
      "[download]  83.3% of ~47.59MiB at 963.92KiB/s ETA 00:0998:01"
     ]
    },
    {
     "name": "stderr",
     "output_type": "stream",
     "text": [
      "ERROR: giving up after 0 retries\n"
     ]
    },
    {
     "name": "stdout",
     "output_type": "stream",
     "text": [
      "[download]  83.4% of ~47.59MiB at  1.48MiB/s ETA 00:091[download] Skipping fragment 256...\n",
      "[download]  90.6% of ~71.79MiB at 325.47KiB/s ETA 00:07"
     ]
    },
    {
     "name": "stderr",
     "output_type": "stream",
     "text": [
      "ERROR: giving up after 0 retries\n"
     ]
    },
    {
     "name": "stdout",
     "output_type": "stream",
     "text": [
      "[download]  90.6% of ~71.79MiB at 621.17KiB/s ETA 00:07[download] Skipping fragment 257...\n",
      "[download]  91.5% of ~71.79MiB at 355.04KiB/s ETA 00:068"
     ]
    },
    {
     "name": "stderr",
     "output_type": "stream",
     "text": [
      "ERROR: giving up after 0 retries\n"
     ]
    },
    {
     "name": "stdout",
     "output_type": "stream",
     "text": [
      "[download]  84.9% of ~47.59MiB at  1.16MiB/s ETA 00:083[download] Skipping fragment 260...\n",
      "[download]  92.3% of ~71.80MiB at 275.73KiB/s ETA 00:067"
     ]
    },
    {
     "name": "stderr",
     "output_type": "stream",
     "text": [
      "ERROR: giving up after 0 retries\n"
     ]
    },
    {
     "name": "stdout",
     "output_type": "stream",
     "text": [
      "[download]  92.3% of ~71.80MiB at 484.37KiB/s ETA 00:06[download] Skipping fragment 263...\n",
      "[download] 100% of 71.69MiB in 01:213.48KiB/s ETA 00:013\n",
      "[download]  17.3% of ~51.56MiB at 683.49KiB/s ETA 01:51[ffmpeg] Correcting container in \"Sharing Sharing Aja Live - Eps 4 - CONTENT CREATOR DIBAYAR BRAND-3W1Er96CzXs.m4a\"\n",
      "[download] 100% of 47.58MiB in 00:570.39KiB/s ETA 00:420\n",
      "[download]  71.8% of ~54.62MiB at  1.40MiB/s ETA 00:411[ffmpeg] Destination: Ledakan Beirut - Puncak Krisis Berkepanjangan Lebanon ft. Gilang Lukman - Podcast Bebas Aktif 78-jkN31e1lXdY.mp3\n",
      "[download]  19.2% of ~51.50MiB at 858.35KiB/s ETA 01:50[ffmpeg] Destination: Sharing Sharing Aja Live - Eps 4 - CONTENT CREATOR DIBAYAR BRAND-3W1Er96CzXs.mp3\n",
      "[download]  19.9% of ~51.45MiB at  1.18MiB/s ETA 01:5018Deleting original file Ngomongin Youtube Bareng Jovi Dovi-zxWDM9k2IYY.webm (pass -k to keep)\n",
      "[download]  19.9% of ~51.45MiB at  1.03MiB/s ETA 01:50"
     ]
    },
    {
     "name": "stderr",
     "output_type": "stream",
     "text": [
      "\r",
      " 50%|█████     | 3/6 [11:48<10:41, 213.96s/it]"
     ]
    },
    {
     "name": "stdout",
     "output_type": "stream",
     "text": [
      "[download]  20.2% of ~51.45MiB at 901.37KiB/s ETA 01:50[youtube] FvgMAoyD2l8: Downloading webpage\n",
      "[download]  74.7% of ~54.60MiB at 978.51KiB/s ETA 00:37[download] Destination: SEMPROD  - SERUNYA CERITA SEKOLAH! GURU-GURU GOKIL DI UPACARA BENDERA!!! _ ONAD BANDEL BANGET!!!-FvgMAoyD2l8.m4a\n",
      "[download] 100% of 45.58MiB in 00:0120MiB/s ETA 00:0066own ETA\n",
      "[download]  22.0% of ~51.57MiB at 150.13KiB/s ETA 01:49[ffmpeg] Correcting container in \"SEMPROD  - SERUNYA CERITA SEKOLAH! GURU-GURU GOKIL DI UPACARA BENDERA!!! _ ONAD BANDEL BANGET!!!-FvgMAoyD2l8.m4a\"\n",
      "[download]  23.3% of ~51.59MiB at 572.59KiB/s ETA 01:48[ffmpeg] Destination: SEMPROD  - SERUNYA CERITA SEKOLAH! GURU-GURU GOKIL DI UPACARA BENDERA!!! _ ONAD BANDEL BANGET!!!-FvgMAoyD2l8.mp3\n",
      "[download]  28.6% of ~51.73MiB at 987.41KiB/s ETA 01:429"
     ]
    },
    {
     "name": "stderr",
     "output_type": "stream",
     "text": [
      "ERROR: giving up after 0 retries\n"
     ]
    },
    {
     "name": "stdout",
     "output_type": "stream",
     "text": [
      "[download] Skipping fragment 324...\n",
      "[download]  41.9% of ~51.50MiB at 937.12KiB/s ETA 01:268Deleting original file Yang Muda yang Mendunia! - Podcast Bebas Aktif x Indonesia Mengglobal Eps. 1-r6cb3nvETNs.webm (pass -k to keep)\n"
     ]
    },
    {
     "name": "stderr",
     "output_type": "stream",
     "text": [
      "\r",
      " 50%|█████     | 3/6 [12:24<12:30, 250.26s/it]"
     ]
    },
    {
     "name": "stdout",
     "output_type": "stream",
     "text": [
      "[download]  42.2% of ~51.50MiB at 935.35KiB/s ETA 01:26[youtube] QEdqa6nIOj8: Downloading webpage\n",
      "[download]  96.9% of ~54.47MiB at 975.14KiB/s ETA 00:044[youtube] QEdqa6nIOj8: Downloading MPD manifest\n",
      "[download] 100% of 52.89MiB in 02:253.47KiB/s ETA 01:26\n",
      "[download]  42.7% of ~51.51MiB at 632.65KiB/s ETA 01:25[ffmpeg] Destination: Debat Panas - Perusakan Patung-Patung Tokoh Bersejarah! (Part 1) - Podcast Bebas Aktif Eps. 69-ii-Qu4uf_iM.mp3\n",
      "[download]  43.0% of ~51.52MiB at 887.13KiB/s ETA 01:25[dashsegments] Total fragments: 270\n",
      "[download] Destination: Debat Panas - Perusakan Patung-Patung Tokoh Bersejarah! (Part 2) - Podcast Bebas Aktif Eps. 69-QEdqa6nIOj8.webm\n",
      "[download]  10.5% of ~38.31MiB at 394.35KiB/s ETA 01:3742756Deleting original file Politik Dinasti - Fenomena Lintas Negeri feat. Yoes Kenawas - Podcast Bebas Aktif Eps. 76-7vB936RThHY.webm (pass -k to keep)\n",
      "[download]  10.5% of ~38.31MiB at 627.85KiB/s ETA 01:37"
     ]
    },
    {
     "name": "stderr",
     "output_type": "stream",
     "text": [
      "\r",
      " 67%|██████▋   | 4/6 [12:37<06:55, 207.61s/it]"
     ]
    },
    {
     "name": "stdout",
     "output_type": "stream",
     "text": [
      "[download]  11.1% of ~38.37MiB at 1006.94KiB/s ETA 01:35[youtube] sm8jwNazXBk: Downloading webpage\n",
      "[download]  11.9% of ~38.41MiB at  1.04MiB/s ETA 01:3356[download] Destination: KENALIN, YOUTUBER PALING KAYA,TARA ARTS‼️ -Deddy Corbuzier Podcast-sm8jwNazXBk.m4a\n",
      "[download] 100% of 52.54MiB in 00:0118MiB/s ETA 00:0012own ETA\n",
      "[download]  14.1% of ~38.68MiB at  1.29MiB/s ETA 01:322[ffmpeg] Correcting container in \"KENALIN, YOUTUBER PALING KAYA,TARA ARTS‼️ -Deddy Corbuzier Podcast-sm8jwNazXBk.m4a\"\n",
      "[download]  16.7% of ~38.90MiB at 995.66KiB/s ETA 01:28[ffmpeg] Destination: KENALIN, YOUTUBER PALING KAYA,TARA ARTS‼️ -Deddy Corbuzier Podcast-sm8jwNazXBk.mp3\n",
      "[download]  95.7% of ~51.71MiB at  1.01MiB/s ETA 00:0671Deleting original file Mencari Strategi Jitu Perangi Covid-19 - Pikirin Pikiran Live-wAlABEuV3JY.m4a (pass -k to keep)\n"
     ]
    },
    {
     "name": "stderr",
     "output_type": "stream",
     "text": [
      "\r",
      " 33%|███▎      | 2/6 [13:52<26:29, 397.48s/it]"
     ]
    },
    {
     "name": "stdout",
     "output_type": "stream",
     "text": [
      "[download]  95.9% of ~51.71MiB at  1.10MiB/s ETA 00:066[youtube] Rw_U6j2eErs: Downloading webpage\n",
      "[download]  96.4% of ~51.74MiB at  1.14MiB/s ETA 00:0556[download] Destination: Ade Rai akhirnya Buka Suara!! Ada apa dibalik Covid⁉️ Deddy corbuzier Podcast-Rw_U6j2eErs.webm\n",
      "[download] 100% of 41.75MiB in 00:015.59KiB/s ETA 00:18own ETA\n",
      "[download]  83.0% of ~41.59MiB at  1.07MiB/s ETA 00:188[ffmpeg] Destination: Ade Rai akhirnya Buka Suara!! Ada apa dibalik Covid⁉️ Deddy corbuzier Podcast-Rw_U6j2eErs.mp3\n",
      "[download] 100% of 51.71MiB in 02:388.61KiB/s ETA 00:145\n",
      "[download]  86.7% of ~41.51MiB at 936.74KiB/s ETA 00:14[ffmpeg] Destination: Afghanistan - Taliban, Siap Baikan - Podcast Bebas Aktif 83-SOpanDUVms0.mp3\n",
      "[download]  90.7% of ~41.62MiB at 119.01KiB/s ETA 00:100Deleting original file GUE SUSAH TUHAN GA ADA⁉️.. -DENNY SUMARGO -Deddy Corbuzier Podcast-pRuzdbwOJWM.m4a (pass -k to keep)\n",
      "[download]  90.7% of ~41.62MiB at 139.90KiB/s ETA 00:10"
     ]
    },
    {
     "name": "stderr",
     "output_type": "stream",
     "text": [
      "\r",
      " 67%|██████▋   | 4/6 [14:04<06:10, 185.46s/it]"
     ]
    },
    {
     "name": "stdout",
     "output_type": "stream",
     "text": [
      "[download]  91.1% of ~41.64MiB at 318.41KiB/s ETA 00:09[youtube] 2YiW6GX_2-Q: Downloading webpage\n",
      "[download]  92.2% of ~41.66MiB at  1.04MiB/s ETA 00:088[download] Destination: OMESH SURYA DARTO PODKESMAS GANDENG SEMPROD! ANDHIKA GADING UUS MAU JADI NO 1 DI ASIA TENGGARA!!!-2YiW6GX_2-Q.m4a\n",
      "[download] 100% of 55.52MiB in 00:026.88KiB/s ETA 00:055wn ETA\n",
      "[download]  95.6% of ~41.70MiB at 961.18KiB/s ETA 00:04[ffmpeg] Correcting container in \"OMESH SURYA DARTO PODKESMAS GANDENG SEMPROD! ANDHIKA GADING UUS MAU JADI NO 1 DI ASIA TENGGARA!!!-2YiW6GX_2-Q.m4a\"\n",
      "[download]  97.8% of ~41.64MiB at 200.81KiB/s ETA 00:02[ffmpeg] Destination: OMESH SURYA DARTO PODKESMAS GANDENG SEMPROD! ANDHIKA GADING UUS MAU JADI NO 1 DI ASIA TENGGARA!!!-2YiW6GX_2-Q.mp3\n",
      "[download]  99.6% of ~41.60MiB at 945.82KiB/s ETA 00:000Deleting original file Podcast Bebas Aktif Episode 36 - Indonesia Malaysia-dZyn0m7Oms0.webm (pass -k to keep)\n"
     ]
    },
    {
     "name": "stderr",
     "output_type": "stream",
     "text": [
      "\r",
      " 50%|█████     | 3/6 [14:13<13:40, 273.39s/it]"
     ]
    },
    {
     "name": "stdout",
     "output_type": "stream",
     "text": [
      "[download] 100% of 41.56MiB in 01:480.41KiB/s ETA 00:00\n",
      "[youtube] rcoO2On9iyQ: Downloading webpage\n",
      "[ffmpeg] Destination: Debat Panas - Perusakan Patung-Patung Tokoh Bersejarah! (Part 2) - Podcast Bebas Aktif Eps. 69-QEdqa6nIOj8.mp3\n",
      "[download] Destination: Dari Mimpi Basah sampai Rafathar _ RAFFI AHMAD - Deddy Corbuzier Podcast-rcoO2On9iyQ.m4a\n",
      "[download] 100% of 28.76MiB in 00:0100MiB/s ETA 00:000nown ETA\n",
      "[ffmpeg] Correcting container in \"Dari Mimpi Basah sampai Rafathar _ RAFFI AHMAD - Deddy Corbuzier Podcast-rcoO2On9iyQ.m4a\"\n",
      "[ffmpeg] Destination: Dari Mimpi Basah sampai Rafathar _ RAFFI AHMAD - Deddy Corbuzier Podcast-rcoO2On9iyQ.mp3\n",
      "Deleting original file Pemilu Amerika Serikat 2020 - Kapabilitas vs Identitas ft. Nathaniel Rayestu - Podcast Bebas Aktif 79-pAPR2DQk5Iw.m4a (pass -k to keep)\n"
     ]
    },
    {
     "name": "stderr",
     "output_type": "stream",
     "text": [
      "\r",
      " 83%|████████▎ | 5/6 [14:45<03:15, 195.15s/it]"
     ]
    },
    {
     "name": "stdout",
     "output_type": "stream",
     "text": [
      "[youtube] FfkYQUEhjLw: Downloading webpage\n",
      "[download] Destination: #24 NGOMEL _ Berkorearia Bareng Kak Michelle Joan!!!-FfkYQUEhjLw.m4a\n",
      "[download] 100% of 19.74MiB in 00:0146MiB/s ETA 00:000nown ETA\n",
      "[ffmpeg] Correcting container in \"#24 NGOMEL _ Berkorearia Bareng Kak Michelle Joan!!!-FfkYQUEhjLw.m4a\"\n",
      "[ffmpeg] Destination: #24 NGOMEL _ Berkorearia Bareng Kak Michelle Joan!!!-FfkYQUEhjLw.mp3\n",
      "Deleting original file Sharing Sharing Aja Live - Eps 3 - BAPER Bahas Perfotografian-6DuILt5JLSY.m4a (pass -k to keep)\n"
     ]
    },
    {
     "name": "stderr",
     "output_type": "stream",
     "text": [
      "\r",
      " 83%|████████▎ | 5/6 [15:10<03:32, 212.78s/it]"
     ]
    },
    {
     "name": "stdout",
     "output_type": "stream",
     "text": [
      "[youtube] IZSOngH-9JE: Downloading webpage\n",
      "[youtube] IZSOngH-9JE: Downloading MPD manifest\n",
      "[dashsegments] Total fragments: 351\n",
      "[download] Destination: Hagia Sophia - Erdogan Cari Gara-Gara - Podcast Bebas Aktif Eps. 74 ft. Agung Nurwijoyo-IZSOngH-9JE.webm\n",
      "[download]   5.1% of ~45.66MiB at 881.36KiB/s ETA 01:1960:05Deleting original file SEMPROD  - SERUNYA CERITA SEKOLAH! GURU-GURU GOKIL DI UPACARA BENDERA!!! _ ONAD BANDEL BANGET!!!-FvgMAoyD2l8.m4a (pass -k to keep)\n"
     ]
    },
    {
     "name": "stderr",
     "output_type": "stream",
     "text": [
      "\r",
      " 67%|██████▋   | 4/6 [15:16<07:04, 212.16s/it]"
     ]
    },
    {
     "name": "stdout",
     "output_type": "stream",
     "text": [
      "[download]   5.4% of ~45.85MiB at  1.02MiB/s ETA 01:224[youtube] mGRXg6gt1tg: Downloading webpage\n",
      "[download]   6.0% of ~46.04MiB at 917.67KiB/s ETA 01:27[download] Destination: SEKOLAH SEMPROD TETAP MASUK PAS PSBB! _ NANTANG VINCENT DESTA KE SEMPROD!!!-mGRXg6gt1tg.m4a\n",
      "[download] 100% of 51.63MiB in 00:0288MiB/s ETA 00:005nown ETA\n",
      "[download]   7.7% of ~46.79MiB at 854.64KiB/s ETA 01:38[ffmpeg] Correcting container in \"SEKOLAH SEMPROD TETAP MASUK PAS PSBB! _ NANTANG VINCENT DESTA KE SEMPROD!!!-mGRXg6gt1tg.m4a\"\n",
      "[download]   9.7% of ~47.56MiB at 912.98KiB/s ETA 01:42[ffmpeg] Destination: SEKOLAH SEMPROD TETAP MASUK PAS PSBB! _ NANTANG VINCENT DESTA KE SEMPROD!!!-mGRXg6gt1tg.mp3\n",
      "[download]  37.9% of ~49.81MiB at 311.68KiB/s ETA 01:279Deleting original file #24 NGOMEL _ Berkorearia Bareng Kak Michelle Joan!!!-FfkYQUEhjLw.m4a (pass -k to keep)\n",
      "[download]  38.0% of ~49.81MiB at 535.81KiB/s ETA 01:27"
     ]
    },
    {
     "name": "stderr",
     "output_type": "stream",
     "text": [
      "\r",
      "100%|██████████| 6/6 [16:05<00:00, 160.56s/it]"
     ]
    },
    {
     "name": "stdout",
     "output_type": "stream",
     "text": [
      "\r",
      "[download]  38.1% of ~49.81MiB at 921.08KiB/s ETA 01:26"
     ]
    },
    {
     "name": "stderr",
     "output_type": "stream",
     "text": [
      "100%|██████████| 6/6 [16:05<00:00, 160.95s/it]\n"
     ]
    },
    {
     "name": "stdout",
     "output_type": "stream",
     "text": [
      "\r",
      "[download]  38.2% of ~49.81MiB at 920.33KiB/s ETA 01:26"
     ]
    },
    {
     "name": "stderr",
     "output_type": "stream",
     "text": [
      "\r",
      "  0%|          | 0/6 [00:00<?, ?it/s]"
     ]
    },
    {
     "name": "stdout",
     "output_type": "stream",
     "text": [
      "[download]  38.5% of ~49.82MiB at 941.11KiB/s ETA 01:26[youtube] FebkCslhwIE: Downloading webpage\n",
      "[download]  39.0% of ~49.87MiB at 889.74KiB/s ETA 01:25[youtube] FebkCslhwIE: Downloading MPD manifest\n",
      "[download]  39.3% of ~49.87MiB at 834.08KiB/s ETA 01:25Deleting original file KENALIN, YOUTUBER PALING KAYA,TARA ARTS‼️ -Deddy Corbuzier Podcast-sm8jwNazXBk.m4a (pass -k to keep)\n"
     ]
    },
    {
     "name": "stderr",
     "output_type": "stream",
     "text": [
      "\r",
      " 83%|████████▎ | 5/6 [16:07<03:28, 208.45s/it]"
     ]
    },
    {
     "name": "stdout",
     "output_type": "stream",
     "text": [
      "[dashsegments] Total fragments: 337\n",
      "[download] Destination: Shinzo Abe Mundur, Politik Jepang Siap Regenerasi - Podcast Bebas Aktif 81-FebkCslhwIE.webm\n",
      "[download]   0.5% of ~33.15MiB at 111.82KiB/s ETA 01:0435[youtube] crQZFrGCzZI: Downloading webpage\n",
      "[download]   1.8% of ~39.25MiB at 954.29KiB/s ETA 00:574[download] Destination: TUTORIAL ADU DOMBA‼️IMAM DARTO - Deddy Corbuzier Podcast-crQZFrGCzZI.webm\n",
      "[download] 100% of 47.82MiB in 00:015.61KiB/s ETA 00:57own ETA\n",
      "[download]  41.3% of ~50.03MiB at 275.64KiB/s ETA 01:22[ffmpeg] Destination: TUTORIAL ADU DOMBA‼️IMAM DARTO - Deddy Corbuzier Podcast-crQZFrGCzZI.mp3\n",
      "[download]   8.7% of ~42.65MiB at 359.01KiB/s ETA 00:569Deleting original file Dari Mimpi Basah sampai Rafathar _ RAFFI AHMAD - Deddy Corbuzier Podcast-rcoO2On9iyQ.m4a (pass -k to keep)\n",
      "[download]   8.7% of ~42.65MiB at 582.35KiB/s ETA 00:55"
     ]
    },
    {
     "name": "stderr",
     "output_type": "stream",
     "text": [
      "\r",
      " 67%|██████▋   | 4/6 [16:12<07:34, 227.09s/it]"
     ]
    },
    {
     "name": "stdout",
     "output_type": "stream",
     "text": [
      "[download]   9.5% of ~42.91MiB at 260.02KiB/s ETA 00:56[youtube] ceVFcHfc8M4: Downloading webpage\n",
      "[download]  10.7% of ~43.37MiB at 149.39KiB/s ETA 00:55[download] Destination: PODSKUY  - ANYA GERALDINE CUEK KE RIZKY FEBIAN GADING DAPET BOCORAN SOAL KELANJUTAN  #GarisCinta-ceVFcHfc8M4.webm\n",
      "[download] 100% of 27.19MiB in 00:005.30KiB/s ETA 00:54own ETA\n",
      "[download]  12.6% of ~43.86MiB at 649.59KiB/s ETA 00:53[ffmpeg] Destination: PODSKUY  - ANYA GERALDINE CUEK KE RIZKY FEBIAN GADING DAPET BOCORAN SOAL KELANJUTAN  #GarisCinta-ceVFcHfc8M4.mp3\n",
      "[download]  18.7% of ~44.42MiB at 208.59KiB/s ETA 00:522Deleting original file Sharing Sharing Aja Live - Eps 4 - CONTENT CREATOR DIBAYAR BRAND-3W1Er96CzXs.m4a (pass -k to keep)\n",
      "[download]  19.0% of ~44.42MiB at 994.87KiB/s ETA 00:51"
     ]
    },
    {
     "name": "stderr",
     "output_type": "stream",
     "text": [
      "\r",
      " 50%|█████     | 3/6 [16:19<18:15, 365.25s/it]"
     ]
    },
    {
     "name": "stdout",
     "output_type": "stream",
     "text": [
      "[download]  19.6% of ~44.45MiB at 175.64KiB/s ETA 00:511[youtube] bFukVqm9cLg: Downloading webpage\n",
      "[download]  20.8% of ~44.61MiB at 1012.65KiB/s ETA 00:50[download] Destination: SEMPROD  - NONGKRONG BARENG NOAH!!! ANDHIKA MASUK LAGI, SEMPROD MAKIN PECAH!!!-bFukVqm9cLg.m4a\n",
      "[download] 100% of 53.75MiB in 00:012.58KiB/s ETA 00:48own ETA\n",
      "[download]  24.6% of ~44.32MiB at 842.73KiB/s ETA 00:47[ffmpeg] Correcting container in \"SEMPROD  - NONGKRONG BARENG NOAH!!! ANDHIKA MASUK LAGI, SEMPROD MAKIN PECAH!!!-bFukVqm9cLg.m4a\"\n",
      "[download]  28.6% of ~43.96MiB at 454.89KiB/s ETA 00:446[ffmpeg] Destination: SEMPROD  - NONGKRONG BARENG NOAH!!! ANDHIKA MASUK LAGI, SEMPROD MAKIN PECAH!!!-bFukVqm9cLg.mp3\n",
      "[download]  57.3% of ~50.51MiB at 229.11KiB/s ETA 01:006Deleting original file Ledakan Beirut - Puncak Krisis Berkepanjangan Lebanon ft. Gilang Lukman - Podcast Bebas Aktif 78-jkN31e1lXdY.webm (pass -k to keep)\n",
      "[download]  41.5% of ~43.25MiB at 1008.61KiB/s ETA 00:35"
     ]
    },
    {
     "name": "stderr",
     "output_type": "stream",
     "text": [
      "\r",
      " 50%|█████     | 3/6 [16:33<17:09, 343.04s/it]"
     ]
    },
    {
     "name": "stdout",
     "output_type": "stream",
     "text": [
      "[download]  42.2% of ~43.23MiB at 143.10KiB/s ETA 00:355[youtube] e4ArwQOmtEs: Downloading webpage\n",
      "[download]  58.5% of ~50.53MiB at 737.13KiB/s ETA 00:584[download] Destination: 3.4 MILLIAR GUE DI TAGIH PAJAK! ARGHHH - Deddy Corbuzier Podcast-e4ArwQOmtEs.webm\n",
      "[download] 100% of 23.18MiB in 00:016.39KiB/s ETA 00:32own ETA\n",
      "[download]  46.6% of ~43.12MiB at 1006.62KiB/s ETA 00:32[ffmpeg] Destination: 3.4 MILLIAR GUE DI TAGIH PAJAK! ARGHHH - Deddy Corbuzier Podcast-e4ArwQOmtEs.mp3\n",
      "[download] 100% of 42.89MiB in 01:01.14MiB/s ETA 00:2302\n",
      "[download]  83.2% of ~50.85MiB at  1.14MiB/s ETA 00:23[ffmpeg] Destination: Shinzo Abe Mundur, Politik Jepang Siap Regenerasi - Podcast Bebas Aktif 81-FebkCslhwIE.mp3\n",
      "[download] 100% of 50.94MiB in 02:218.21KiB/s ETA 00:000\n",
      "[ffmpeg] Destination: Hagia Sophia - Erdogan Cari Gara-Gara - Podcast Bebas Aktif Eps. 74 ft. Agung Nurwijoyo-IZSOngH-9JE.mp3\n",
      "Deleting original file Debat Panas - Perusakan Patung-Patung Tokoh Bersejarah! (Part 1) - Podcast Bebas Aktif Eps. 69-ii-Qu4uf_iM.webm (pass -k to keep)\n"
     ]
    },
    {
     "name": "stderr",
     "output_type": "stream",
     "text": [
      "\r",
      " 67%|██████▋   | 4/6 [17:49<09:17, 278.74s/it]"
     ]
    },
    {
     "name": "stdout",
     "output_type": "stream",
     "text": [
      "[youtube] rcfrlD0Zsi0: Downloading webpage\n",
      "[youtube] rcfrlD0Zsi0: Downloading MPD manifest\n",
      "[dashsegments] Total fragments: 353\n",
      "[download] Destination: Memperbarui Indonesia dengan Energi Terbarukan! - Podcast Bebas Aktif x Indonesia Mengglobal Eps. 2-rcfrlD0Zsi0.webm\n",
      "[download]   2.0% of ~41.01MiB at  1.04MiB/s ETA 01:04837Deleting original file OMESH SURYA DARTO PODKESMAS GANDENG SEMPROD! ANDHIKA GADING UUS MAU JADI NO 1 DI ASIA TENGGARA!!!-2YiW6GX_2-Q.m4a (pass -k to keep)\n",
      "[download]   2.0% of ~41.60MiB at 870.04KiB/s ETA 01:08"
     ]
    },
    {
     "name": "stderr",
     "output_type": "stream",
     "text": [
      "\r",
      " 83%|████████▎ | 5/6 [17:52<03:18, 198.31s/it]"
     ]
    },
    {
     "name": "stdout",
     "output_type": "stream",
     "text": [
      "[download]   2.8% of ~42.07MiB at 844.51KiB/s ETA 01:05[youtube] Og8bk1S4hg4: Downloading webpage\n",
      "[download]   3.7% of ~42.92MiB at 168.08KiB/s ETA 01:095[download] Destination: PASHA MANGGUNG LAGI SAMA UNGU!!! PUNYA SINGLE DUET SAMA UUS! _ SUMPAH DEMI APA!-Og8bk1S4hg4.webm\n",
      "[download] 100% of 31.31MiB in 00:019.40KiB/s ETA 01:05own ETA\n",
      "[download]   5.9% of ~44.23MiB at 131.18KiB/s ETA 01:06[ffmpeg] Destination: PASHA MANGGUNG LAGI SAMA UNGU!!! PUNYA SINGLE DUET SAMA UUS! _ SUMPAH DEMI APA!-Og8bk1S4hg4.mp3\n",
      "[download]  34.0% of ~46.44MiB at  1.04MiB/s ETA 00:4770Deleting original file Ade Rai akhirnya Buka Suara!! Ada apa dibalik Covid⁉️ Deddy corbuzier Podcast-Rw_U6j2eErs.webm (pass -k to keep)\n",
      "[download]  34.0% of ~46.46MiB at  1.04MiB/s ETA 00:47"
     ]
    },
    {
     "name": "stderr",
     "output_type": "stream",
     "text": [
      "\r",
      " 50%|█████     | 3/6 [18:15<17:51, 357.23s/it]"
     ]
    },
    {
     "name": "stdout",
     "output_type": "stream",
     "text": [
      "[download]  34.6% of ~46.44MiB at 163.95KiB/s ETA 00:47[youtube] 3WbEUvkUbZk: Downloading webpage\n",
      "[download]  35.7% of ~46.37MiB at 963.05KiB/s ETA 00:46[download] Destination: #25 NGOMEL _ BAHAS, Konten Podcast Viral Gritte Agatha !!!-3WbEUvkUbZk.webm\n",
      "[download]  35.7% of ~46.36MiB at 963.05KiB/s ETA 00:46Deleting original file Debat Panas - Perusakan Patung-Patung Tokoh Bersejarah! (Part 2) - Podcast Bebas Aktif Eps. 69-QEdqa6nIOj8.webm (pass -k to keep)\n",
      "[download]   0.0% of 26.01MiB at 224.41KiB/s ETA 01:586"
     ]
    },
    {
     "name": "stderr",
     "output_type": "stream",
     "text": [
      "\r",
      " 67%|██████▋   | 4/6 [18:17<09:22, 281.08s/it]"
     ]
    },
    {
     "name": "stdout",
     "output_type": "stream",
     "text": [
      "[download]  37.1% of 26.01MiB at  1.39MiB/s ETA 00:1155own ETA[youtube] gNlirC9RCRM: Downloading webpage\n",
      "[download] 100% of 26.01MiB in 00:011.12KiB/s ETA 00:44own ETA\n",
      "[download]  38.0% of ~46.36MiB at  1.01MiB/s ETA 00:444[download] Destination: Di Belakang JRX dan Rapid Test Palsu⁉️ Dr Tirta Bongkar semua. Deddy corbuzier Podcast-gNlirC9RCRM.m4a\n",
      "[download]  38.1% of ~46.36MiB at 838.63KiB/s ETA 00:44[ffmpeg] Destination: #25 NGOMEL _ BAHAS, Konten Podcast Viral Gritte Agatha !!!-3WbEUvkUbZk.mp3\n",
      "[download] 100% of 36.57MiB in 00:012.51KiB/s ETA 00:41own ETA\n",
      "[download]  41.6% of ~46.48MiB at 201.68KiB/s ETA 00:41[ffmpeg] Correcting container in \"Di Belakang JRX dan Rapid Test Palsu⁉️ Dr Tirta Bongkar semua. Deddy corbuzier Podcast-gNlirC9RCRM.m4a\"\n",
      "[download]  44.8% of ~46.48MiB at 897.76KiB/s ETA 00:38[ffmpeg] Destination: Di Belakang JRX dan Rapid Test Palsu⁉️ Dr Tirta Bongkar semua. Deddy corbuzier Podcast-gNlirC9RCRM.mp3\n",
      "[download]  50.8% of ~46.45MiB at 509.49KiB/s ETA 00:356Deleting original file SEKOLAH SEMPROD TETAP MASUK PAS PSBB! _ NANTANG VINCENT DESTA KE SEMPROD!!!-mGRXg6gt1tg.m4a (pass -k to keep)\n",
      "[download]  51.0% of ~46.45MiB at 892.20KiB/s ETA 00:34"
     ]
    },
    {
     "name": "stderr",
     "output_type": "stream",
     "text": [
      "\r",
      " 83%|████████▎ | 5/6 [18:27<03:25, 205.80s/it]"
     ]
    },
    {
     "name": "stdout",
     "output_type": "stream",
     "text": [
      "[download]  51.6% of ~46.45MiB at 876.85KiB/s ETA 00:34[youtube] 3ZXY1k5DFfw: Downloading webpage\n",
      "[download]  52.4% of ~46.42MiB at 131.84KiB/s ETA 00:34[download] Destination: RASANYA TIDUR SAMA MARIA VANIA‼️- Deddy Corbuzier Podcast-3ZXY1k5DFfw.m4a\n",
      "[download] 100% of 43.58MiB in 00:019.76KiB/s ETA 00:32own ETA\n",
      "[download]  55.6% of ~46.42MiB at 434.72KiB/s ETA 00:31[ffmpeg] Correcting container in \"RASANYA TIDUR SAMA MARIA VANIA‼️- Deddy Corbuzier Podcast-3ZXY1k5DFfw.m4a\"\n",
      "[download]  58.4% of ~46.49MiB at 130.86KiB/s ETA 00:29[ffmpeg] Destination: RASANYA TIDUR SAMA MARIA VANIA‼️- Deddy Corbuzier Podcast-3ZXY1k5DFfw.mp3\n",
      "[download]  70.3% of ~46.50MiB at 867.61KiB/s ETA 00:217Deleting original file Afghanistan - Taliban, Siap Baikan - Podcast Bebas Aktif 83-SOpanDUVms0.webm (pass -k to keep)\n"
     ]
    },
    {
     "name": "stderr",
     "output_type": "stream",
     "text": [
      "\r",
      " 67%|██████▋   | 4/6 [18:42<09:23, 281.96s/it]"
     ]
    },
    {
     "name": "stdout",
     "output_type": "stream",
     "text": [
      "[download]  71.1% of ~46.49MiB at 995.23KiB/s ETA 00:20[youtube] QqnIGT5vfo4: Downloading webpage\n",
      "[download]  71.7% of ~46.50MiB at 906.98KiB/s ETA 00:20[youtube] QqnIGT5vfo4: Downloading MPD manifest\n",
      "[download]  72.8% of ~46.49MiB at 834.07KiB/s ETA 00:19[dashsegments] Total fragments: 356\n",
      "[download]  72.8% of ~46.49MiB at 834.07KiB/s ETA 00:19[download] Destination: Cerita Mahasiswa Indonesia di Thailand tentang Demonstrasi Pro-Demokrasi - Podcast Bebas Aktif 84-QqnIGT5vfo4.m4a\n",
      "[download]  22.2% of ~54.17MiB at 942.34KiB/s ETA 00:50462Deleting original file 3.4 MILLIAR GUE DI TAGIH PAJAK! ARGHHH - Deddy Corbuzier Podcast-e4ArwQOmtEs.webm (pass -k to keep)\n",
      "[download]  93.8% of ~46.50MiB at 951.43KiB/s ETA 00:04"
     ]
    },
    {
     "name": "stderr",
     "output_type": "stream",
     "text": [
      "\r",
      " 67%|██████▋   | 4/6 [18:58<09:27, 283.74s/it]"
     ]
    },
    {
     "name": "stdout",
     "output_type": "stream",
     "text": [
      "[download]  23.0% of ~54.19MiB at  1.23MiB/s ETA 00:494[youtube] CK7L4-dS4OA: Downloading webpage\n",
      "[download]  95.2% of ~46.51MiB at  1.22MiB/s ETA 00:0339"
     ]
    },
    {
     "name": "stderr",
     "output_type": "stream",
     "text": [
      "ERROR: CK7L4-dS4OA: YouTube said: Unable to extract video data\n"
     ]
    },
    {
     "name": "stdout",
     "output_type": "stream",
     "text": [
      "\r",
      "[download]  95.2% of ~46.51MiB at  1.09MiB/s ETA 00:03"
     ]
    },
    {
     "name": "stderr",
     "output_type": "stream",
     "text": [
      "\r",
      " 83%|████████▎ | 5/6 [18:59<03:18, 198.95s/it]"
     ]
    },
    {
     "name": "stdout",
     "output_type": "stream",
     "text": [
      "[download]  24.7% of ~54.24MiB at  1.01MiB/s ETA 00:4888[youtube] Cu5ddpxtqdk: Downloading webpage\n",
      "[download]  96.9% of ~46.50MiB at  1.00MiB/s ETA 00:0282[download] Destination: BASTIAN STEEL PLAYBOY SENOPARTY!! _ PASANG SURUT ASMARANYA, BARU PUTUS MAU NGAJAK BALIKAN!-Cu5ddpxtqdk.webm\n",
      "[download] 100% of 32.73MiB in 00:01.54MiB/s ETA 00:466own ETA\n",
      "[download]  99.1% of ~46.49MiB at  1.01MiB/s ETA 00:006[ffmpeg] Destination: BASTIAN STEEL PLAYBOY SENOPARTY!! _ PASANG SURUT ASMARANYA, BARU PUTUS MAU NGAJAK BALIKAN!-Cu5ddpxtqdk.mp3\n",
      "[download] 100% of 46.38MiB in 01:115.14KiB/s ETA 00:450\n",
      "[download]  29.5% of ~54.34MiB at 971.78KiB/s ETA 00:45[ffmpeg] Destination: Memperbarui Indonesia dengan Energi Terbarukan! - Podcast Bebas Aktif x Indonesia Mengglobal Eps. 2-rcfrlD0Zsi0.mp3\n",
      "[download]  54.8% of ~54.58MiB at  1.07MiB/s ETA 00:3030Deleting original file PODSKUY  - ANYA GERALDINE CUEK KE RIZKY FEBIAN GADING DAPET BOCORAN SOAL KELANJUTAN  #GarisCinta-ceVFcHfc8M4.webm (pass -k to keep)\n"
     ]
    },
    {
     "name": "stderr",
     "output_type": "stream",
     "text": [
      "\r",
      " 83%|████████▎ | 5/6 [19:21<03:35, 215.48s/it]"
     ]
    },
    {
     "name": "stdout",
     "output_type": "stream",
     "text": [
      "[download]  55.4% of ~54.58MiB at 606.48KiB/s ETA 00:30[youtube] tZ8fWV6r-Xs: Downloading webpage\n",
      "[download]  56.5% of ~54.59MiB at  1.04MiB/s ETA 00:2929[download] Destination: SEMPROD  - SKINNYINDONESIAN24 DIKEROYOK ANDHIKA GADING UUS _ YOUTUBE VS TV!!! _ EPS. 6 - PART 2-tZ8fWV6r-Xs.m4a\n",
      "[download] 100% of 37.74MiB in 00:023.88KiB/s ETA 00:26own ETA\n",
      "[download]  61.5% of ~54.61MiB at 879.55KiB/s ETA 00:26[ffmpeg] Correcting container in \"SEMPROD  - SKINNYINDONESIAN24 DIKEROYOK ANDHIKA GADING UUS _ YOUTUBE VS TV!!! _ EPS. 6 - PART 2-tZ8fWV6r-Xs.m4a\"\n",
      "[download]  64.6% of ~54.62MiB at  1.13MiB/s ETA 00:244[ffmpeg] Destination: SEMPROD  - SKINNYINDONESIAN24 DIKEROYOK ANDHIKA GADING UUS _ YOUTUBE VS TV!!! _ EPS. 6 - PART 2-tZ8fWV6r-Xs.mp3\n",
      "[download] 100% of 54.69MiB in 01:100.46KiB/s ETA 00:001\n",
      "[ffmpeg] Correcting container in \"Cerita Mahasiswa Indonesia di Thailand tentang Demonstrasi Pro-Demokrasi - Podcast Bebas Aktif 84-QqnIGT5vfo4.m4a\"\n",
      "[ffmpeg] Destination: Cerita Mahasiswa Indonesia di Thailand tentang Demonstrasi Pro-Demokrasi - Podcast Bebas Aktif 84-QqnIGT5vfo4.mp3\n",
      "Deleting original file Di Belakang JRX dan Rapid Test Palsu⁉️ Dr Tirta Bongkar semua. Deddy corbuzier Podcast-gNlirC9RCRM.m4a (pass -k to keep)\n"
     ]
    },
    {
     "name": "stderr",
     "output_type": "stream",
     "text": [
      "\r",
      " 83%|████████▎ | 5/6 [20:49<04:02, 242.45s/it]"
     ]
    },
    {
     "name": "stdout",
     "output_type": "stream",
     "text": [
      "[youtube] 5viRfysfD9Q: Downloading webpage\n",
      "[download] Destination: Kami butuh MAKAN! Bukan MASKER⁉️ Dr Tirta - Deddy Corbuzier Podcast-5viRfysfD9Q.m4a\n",
      "[download]  50.3% of 40.67MiB at  4.62MiB/s ETA 00:043nown ETADeleting original file SEMPROD  - NONGKRONG BARENG NOAH!!! ANDHIKA MASUK LAGI, SEMPROD MAKIN PECAH!!!-bFukVqm9cLg.m4a (pass -k to keep)\n",
      "[download]  57.7% of 40.67MiB at 14.28MiB/s ETA 00:01"
     ]
    },
    {
     "name": "stderr",
     "output_type": "stream",
     "text": [
      "\r",
      " 67%|██████▋   | 4/6 [20:51<11:14, 337.27s/it]"
     ]
    },
    {
     "name": "stdout",
     "output_type": "stream",
     "text": [
      "[download]  94.9% of 40.67MiB at 226.44KiB/s ETA 00:09nown ETA[youtube] kSZotGBivjo: Downloading webpage\n",
      "[download] 100% of 40.67MiB in 00:0192MiB/s ETA 00:002\n",
      "[ffmpeg] Correcting container in \"Kami butuh MAKAN! Bukan MASKER⁉️ Dr Tirta - Deddy Corbuzier Podcast-5viRfysfD9Q.m4a\"\n",
      "Deleting original file #25 NGOMEL _ BAHAS, Konten Podcast Viral Gritte Agatha !!!-3WbEUvkUbZk.webm (pass -k to keep)\n"
     ]
    },
    {
     "name": "stderr",
     "output_type": "stream",
     "text": [
      "\r",
      " 67%|██████▋   | 4/6 [20:53<09:54, 297.26s/it]"
     ]
    },
    {
     "name": "stdout",
     "output_type": "stream",
     "text": [
      "[download] Destination: Ariel Noah, SEREM gue di Podcast loe.. BAHAYA BRO‼️- Deddy Corbuzier Podcast-kSZotGBivjo.m4a\n",
      "[download]  19.1% of 52.35MiB at 224.67KiB/s ETA 03:13nown ETA[youtube] 5YL2i5shC0M: Downloading webpage\n",
      "[download]  56.4% of 52.35MiB at 27.62MiB/s ETA 00:0032own ETA"
     ]
    },
    {
     "name": "stderr",
     "output_type": "stream",
     "text": [
      "ERROR: 5YL2i5shC0M: YouTube said: Unable to extract video data\n"
     ]
    },
    {
     "name": "stdout",
     "output_type": "stream",
     "text": [
      "\r",
      "[download]  56.4% of 52.35MiB at Unknown speed ETA Unknown ETA"
     ]
    },
    {
     "name": "stderr",
     "output_type": "stream",
     "text": [
      "\r",
      " 83%|████████▎ | 5/6 [20:54<03:28, 208.44s/it]"
     ]
    },
    {
     "name": "stdout",
     "output_type": "stream",
     "text": [
      "[download]  75.2% of 52.35MiB at 180.17KiB/s ETA 01:13nown ETA[youtube] VjuM0xYvJ50: Downloading webpage\n",
      "[download]  97.6% of 52.35MiB at  9.45MiB/s ETA 00:005nown ETA[ffmpeg] Destination: Kami butuh MAKAN! Bukan MASKER⁉️ Dr Tirta - Deddy Corbuzier Podcast-5viRfysfD9Q.mp3\n",
      "[download] 100% of 52.35MiB in 00:0268MiB/s ETA 00:00\n",
      "[ffmpeg] Correcting container in \"Ariel Noah, SEREM gue di Podcast loe.. BAHAYA BRO‼️- Deddy Corbuzier Podcast-kSZotGBivjo.m4a\"\n",
      "[download] Destination: #27 NGOMEL _ Tips Untuk MABA (Mahasiswa Baru)! Wajib Tau!-VjuM0xYvJ50.m4a\n",
      "[download]  60.5% of 66.77MiB at  8.97MiB/s ETA 00:029nown ETA[ffmpeg] Destination: Ariel Noah, SEREM gue di Podcast loe.. BAHAYA BRO‼️- Deddy Corbuzier Podcast-kSZotGBivjo.mp3\n",
      "[download] 100% of 66.77MiB in 00:0383MiB/s ETA 00:009nown ETA\n",
      "[ffmpeg] Correcting container in \"#27 NGOMEL _ Tips Untuk MABA (Mahasiswa Baru)! Wajib Tau!-VjuM0xYvJ50.m4a\"\n",
      "Deleting original file PASHA MANGGUNG LAGI SAMA UNGU!!! PUNYA SINGLE DUET SAMA UUS! _ SUMPAH DEMI APA!-Og8bk1S4hg4.webm (pass -k to keep)\n"
     ]
    },
    {
     "name": "stderr",
     "output_type": "stream",
     "text": [
      "100%|██████████| 6/6 [21:02<00:00, 210.45s/it]\n",
      "  0%|          | 0/1 [00:00<?, ?it/s]"
     ]
    },
    {
     "name": "stdout",
     "output_type": "stream",
     "text": [
      "[youtube] oYt4J1tbjA8: Downloading webpage\n",
      "[ffmpeg] Destination: #27 NGOMEL _ Tips Untuk MABA (Mahasiswa Baru)! Wajib Tau!-VjuM0xYvJ50.mp3\n",
      "[youtube] oYt4J1tbjA8: Downloading MPD manifest\n",
      "[dashsegments] Total fragments: 269\n",
      "[download] Destination: Trump Bukan Anak TikTok! - Podcast Bebas Aktif 80-oYt4J1tbjA8.webm\n",
      "[download]  11.9% of ~33.62MiB at 153.42KiB/s ETA 00:53:2313Deleting original file TUTORIAL ADU DOMBA‼️IMAM DARTO - Deddy Corbuzier Podcast-crQZFrGCzZI.webm (pass -k to keep)\n",
      "[download]  11.9% of ~33.62MiB at 157.08KiB/s ETA 00:54"
     ]
    },
    {
     "name": "stderr",
     "output_type": "stream",
     "text": [
      "\r",
      "100%|██████████| 6/6 [21:12<00:00, 237.26s/it]"
     ]
    },
    {
     "name": "stdout",
     "output_type": "stream",
     "text": [
      "\r",
      "[download]  11.9% of ~33.62MiB at 222.53KiB/s ETA 00:54"
     ]
    },
    {
     "name": "stderr",
     "output_type": "stream",
     "text": [
      "\r",
      "100%|██████████| 6/6 [21:12<00:00, 212.01s/it]"
     ]
    },
    {
     "name": "stdout",
     "output_type": "stream",
     "text": [
      "\r",
      "[download]  12.0% of ~33.62MiB at 310.88KiB/s ETA 00:54"
     ]
    },
    {
     "name": "stderr",
     "output_type": "stream",
     "text": [
      "\n"
     ]
    },
    {
     "name": "stdout",
     "output_type": "stream",
     "text": [
      "[download]  43.2% of ~34.25MiB at 298.30KiB/s ETA 00:311Deleting original file RASANYA TIDUR SAMA MARIA VANIA‼️- Deddy Corbuzier Podcast-3ZXY1k5DFfw.m4a (pass -k to keep)\n",
      "[download]  43.5% of ~34.25MiB at 887.26KiB/s ETA 00:30"
     ]
    },
    {
     "name": "stderr",
     "output_type": "stream",
     "text": [
      "\r",
      "100%|██████████| 6/6 [21:28<00:00, 198.33s/it]"
     ]
    },
    {
     "name": "stdout",
     "output_type": "stream",
     "text": [
      "\r",
      "[download]  43.5% of ~34.25MiB at 868.31KiB/s ETA 00:30"
     ]
    },
    {
     "name": "stderr",
     "output_type": "stream",
     "text": [
      "\r",
      "100%|██████████| 6/6 [21:28<00:00, 214.75s/it]"
     ]
    },
    {
     "name": "stdout",
     "output_type": "stream",
     "text": [
      "\r",
      "[download]  43.5% of ~34.25MiB at 868.31KiB/s ETA 00:30"
     ]
    },
    {
     "name": "stderr",
     "output_type": "stream",
     "text": [
      "\n"
     ]
    },
    {
     "name": "stdout",
     "output_type": "stream",
     "text": [
      "[download] 100% of 34.51MiB in 00:511.47KiB/s ETA 00:000\n",
      "[ffmpeg] Destination: Trump Bukan Anak TikTok! - Podcast Bebas Aktif 80-oYt4J1tbjA8.mp3\n",
      "Deleting original file Shinzo Abe Mundur, Politik Jepang Siap Regenerasi - Podcast Bebas Aktif 81-FebkCslhwIE.webm (pass -k to keep)\n"
     ]
    },
    {
     "name": "stderr",
     "output_type": "stream",
     "text": [
      "\r",
      " 17%|█▋        | 1/6 [05:56<29:41, 356.29s/it]"
     ]
    },
    {
     "name": "stdout",
     "output_type": "stream",
     "text": [
      "[youtube] gC-NcgJTQ_A: Downloading webpage\n",
      "[youtube] gC-NcgJTQ_A: Downloading MPD manifest\n",
      "[dashsegments] Total fragments: 297\n",
      "[download] Destination: Kiprah Pemimpin Perempuan di Seluruh Dunia - Podcast Bebas Aktif Eps. 66-gC-NcgJTQ_A.webm\n",
      "[download]  21.9% of ~44.73MiB at  1.10MiB/s ETA 00:42230Deleting original file BASTIAN STEEL PLAYBOY SENOPARTY!! _ PASANG SURUT ASMARANYA, BARU PUTUS MAU NGAJAK BALIKAN!-Cu5ddpxtqdk.webm (pass -k to keep)\n",
      "[download]  21.9% of ~44.73MiB at 111.49KiB/s ETA 00:42"
     ]
    },
    {
     "name": "stderr",
     "output_type": "stream",
     "text": [
      "\r",
      "100%|██████████| 6/6 [22:15<00:00, 198.14s/it]"
     ]
    },
    {
     "name": "stdout",
     "output_type": "stream",
     "text": [
      "\r",
      "[download]  21.9% of ~44.73MiB at 149.39KiB/s ETA 00:42"
     ]
    },
    {
     "name": "stderr",
     "output_type": "stream",
     "text": [
      "\r",
      "100%|██████████| 6/6 [22:15<00:00, 222.64s/it]"
     ]
    },
    {
     "name": "stdout",
     "output_type": "stream",
     "text": [
      "\r",
      "[download]  21.9% of ~44.73MiB at 224.07KiB/s ETA 00:42"
     ]
    },
    {
     "name": "stderr",
     "output_type": "stream",
     "text": [
      "\n"
     ]
    },
    {
     "name": "stdout",
     "output_type": "stream",
     "text": [
      "[download]  25.4% of ~44.94MiB at 740.68KiB/s ETA 00:39Deleting original file SEMPROD  - SKINNYINDONESIAN24 DIKEROYOK ANDHIKA GADING UUS _ YOUTUBE VS TV!!! _ EPS. 6 - PART 2-tZ8fWV6r-Xs.m4a (pass -k to keep)\n"
     ]
    },
    {
     "name": "stderr",
     "output_type": "stream",
     "text": [
      "\r",
      "100%|██████████| 6/6 [22:17<00:00, 203.66s/it]"
     ]
    },
    {
     "name": "stdout",
     "output_type": "stream",
     "text": [
      "[download]  25.6% of ~44.94MiB at  1.25MiB/s ETA 00:39"
     ]
    },
    {
     "name": "stderr",
     "output_type": "stream",
     "text": [
      "\r",
      "100%|██████████| 6/6 [22:17<00:00, 222.91s/it]"
     ]
    },
    {
     "name": "stdout",
     "output_type": "stream",
     "text": [
      "\r",
      "[download]  25.6% of ~44.94MiB at  1.25MiB/s ETA 00:39"
     ]
    },
    {
     "name": "stderr",
     "output_type": "stream",
     "text": [
      "\n"
     ]
    },
    {
     "name": "stdout",
     "output_type": "stream",
     "text": [
      "[download]  58.6% of ~45.80MiB at 178.80KiB/s ETA 00:213Deleting original file Hagia Sophia - Erdogan Cari Gara-Gara - Podcast Bebas Aktif Eps. 74 ft. Agung Nurwijoyo-IZSOngH-9JE.webm (pass -k to keep)\n",
      "[download]  58.6% of ~45.80MiB at 253.51KiB/s ETA 00:21"
     ]
    },
    {
     "name": "stderr",
     "output_type": "stream",
     "text": [
      "\r",
      "100%|██████████| 6/6 [22:34<00:00, 282.09s/it]"
     ]
    },
    {
     "name": "stdout",
     "output_type": "stream",
     "text": [
      "\r",
      "[download]  58.6% of ~45.80MiB at 392.36KiB/s ETA 00:21"
     ]
    },
    {
     "name": "stderr",
     "output_type": "stream",
     "text": [
      "100%|██████████| 6/6 [22:34<00:00, 225.70s/it]\n"
     ]
    },
    {
     "name": "stdout",
     "output_type": "stream",
     "text": [
      "[download]  86.6% of ~45.82MiB at 306.90KiB/s ETA 00:067Deleting original file Cerita Mahasiswa Indonesia di Thailand tentang Demonstrasi Pro-Demokrasi - Podcast Bebas Aktif 84-QqnIGT5vfo4.m4a (pass -k to keep)\n",
      "[download]  86.6% of ~45.82MiB at 351.82KiB/s ETA 00:06"
     ]
    },
    {
     "name": "stderr",
     "output_type": "stream",
     "text": [
      "\r",
      " 83%|████████▎ | 5/6 [22:47<04:31, 271.04s/it]"
     ]
    },
    {
     "name": "stdout",
     "output_type": "stream",
     "text": [
      "[download]  87.3% of ~45.81MiB at 690.67KiB/s ETA 00:06[youtube] OrY0CfvY6TI: Downloading webpage\n",
      "[download]  88.8% of ~45.84MiB at  1.21MiB/s ETA 00:055[download] Destination: Senggang Bersama Podcast 13 - Menjaga Kesehatan Mental-OrY0CfvY6TI.webm\n",
      "[download] 100% of 23.80MiB in 00:01.36MiB/s ETA 00:044own ETA\n",
      "[download]  91.9% of ~45.87MiB at  1.23MiB/s ETA 00:044[ffmpeg] Destination: Senggang Bersama Podcast 13 - Menjaga Kesehatan Mental-OrY0CfvY6TI.mp3\n",
      "[download]  97.0% of ~45.97MiB at  1.31MiB/s ETA 00:011Deleting original file Memperbarui Indonesia dengan Energi Terbarukan! - Podcast Bebas Aktif x Indonesia Mengglobal Eps. 2-rcfrlD0Zsi0.webm (pass -k to keep)\n",
      "[download]  97.0% of ~45.97MiB at 342.84KiB/s ETA 00:01"
     ]
    },
    {
     "name": "stderr",
     "output_type": "stream",
     "text": [
      "\r",
      " 83%|████████▎ | 5/6 [22:52<04:46, 286.01s/it]"
     ]
    },
    {
     "name": "stdout",
     "output_type": "stream",
     "text": [
      "[download]  98.0% of ~45.97MiB at  1.47MiB/s ETA 00:011[youtube] -UR1q7Crjjg: Downloading webpage\n",
      "[download]  99.8% of ~45.94MiB at  1.40MiB/s ETA 00:000[download] Destination: LUTFI ANJAY DI TANTANG YOUNG LEX‼️ - Deddy Corbuzier Podcast--UR1q7Crjjg.m4a\n",
      "[download] 100% of 45.94MiB in 00:4909MiB/s ETA 00:2400\n",
      "[download]  19.5% of 51.00MiB at 230.74KiB/s ETA 03:02nown ETA[ffmpeg] Destination: Kiprah Pemimpin Perempuan di Seluruh Dunia - Podcast Bebas Aktif Eps. 66-gC-NcgJTQ_A.mp3\n",
      "[download] 100% of 51.00MiB in 00:0136MiB/s ETA 00:002nown ETA\n",
      "[ffmpeg] Correcting container in \"LUTFI ANJAY DI TANTANG YOUNG LEX‼️ - Deddy Corbuzier Podcast--UR1q7Crjjg.m4a\"\n",
      "[ffmpeg] Destination: LUTFI ANJAY DI TANTANG YOUNG LEX‼️ - Deddy Corbuzier Podcast--UR1q7Crjjg.mp3\n",
      "Deleting original file Kami butuh MAKAN! Bukan MASKER⁉️ Dr Tirta - Deddy Corbuzier Podcast-5viRfysfD9Q.m4a (pass -k to keep)\n"
     ]
    },
    {
     "name": "stderr",
     "output_type": "stream",
     "text": [
      "100%|██████████| 6/6 [22:58<00:00, 229.71s/it]\n"
     ]
    },
    {
     "name": "stdout",
     "output_type": "stream",
     "text": [
      "Deleting original file Ariel Noah, SEREM gue di Podcast loe.. BAHAYA BRO‼️- Deddy Corbuzier Podcast-kSZotGBivjo.m4a (pass -k to keep)\n"
     ]
    },
    {
     "name": "stderr",
     "output_type": "stream",
     "text": [
      "\r",
      " 83%|████████▎ | 5/6 [23:25<04:42, 282.25s/it]"
     ]
    },
    {
     "name": "stdout",
     "output_type": "stream",
     "text": [
      "[youtube] QwdqbrN_yGg: Downloading webpage\n",
      "[download] Destination: RCTI SAYA DEBAT‼️RCTI MENJAWAB. -EXCLUSIVE Direktur RCTI -Deddy Corbuzier Podcast-QwdqbrN_yGg.webm\n",
      "[download] 100% of 33.04MiB in 00:0189MiB/s ETA 00:005nown ETA\n",
      "[ffmpeg] Destination: RCTI SAYA DEBAT‼️RCTI MENJAWAB. -EXCLUSIVE Direktur RCTI -Deddy Corbuzier Podcast-QwdqbrN_yGg.mp3\n",
      "Deleting original file #27 NGOMEL _ Tips Untuk MABA (Mahasiswa Baru)! Wajib Tau!-VjuM0xYvJ50.m4a (pass -k to keep)\n"
     ]
    },
    {
     "name": "stderr",
     "output_type": "stream",
     "text": [
      "100%|██████████| 6/6 [23:52<00:00, 238.74s/it]\n"
     ]
    },
    {
     "name": "stdout",
     "output_type": "stream",
     "text": [
      "Deleting original file Senggang Bersama Podcast 13 - Menjaga Kesehatan Mental-OrY0CfvY6TI.webm (pass -k to keep)\n"
     ]
    },
    {
     "name": "stderr",
     "output_type": "stream",
     "text": [
      "100%|██████████| 6/6 [24:00<00:00, 240.16s/it]\n"
     ]
    },
    {
     "name": "stdout",
     "output_type": "stream",
     "text": [
      "Deleting original file Trump Bukan Anak TikTok! - Podcast Bebas Aktif 80-oYt4J1tbjA8.webm (pass -k to keep)\n"
     ]
    },
    {
     "name": "stderr",
     "output_type": "stream",
     "text": [
      "100%|██████████| 1/1 [03:02<00:00, 182.45s/it]\n"
     ]
    },
    {
     "name": "stdout",
     "output_type": "stream",
     "text": [
      "Deleting original file LUTFI ANJAY DI TANTANG YOUNG LEX‼️ - Deddy Corbuzier Podcast--UR1q7Crjjg.m4a (pass -k to keep)\n"
     ]
    },
    {
     "name": "stderr",
     "output_type": "stream",
     "text": [
      "100%|██████████| 6/6 [24:27<00:00, 244.55s/it]\n"
     ]
    },
    {
     "name": "stdout",
     "output_type": "stream",
     "text": [
      "Deleting original file RCTI SAYA DEBAT‼️RCTI MENJAWAB. -EXCLUSIVE Direktur RCTI -Deddy Corbuzier Podcast-QwdqbrN_yGg.webm (pass -k to keep)\n"
     ]
    },
    {
     "name": "stderr",
     "output_type": "stream",
     "text": [
      "100%|██████████| 6/6 [24:35<00:00, 245.91s/it]\n"
     ]
    },
    {
     "name": "stdout",
     "output_type": "stream",
     "text": [
      "Deleting original file Kiprah Pemimpin Perempuan di Seluruh Dunia - Podcast Bebas Aktif Eps. 66-gC-NcgJTQ_A.webm (pass -k to keep)\n"
     ]
    },
    {
     "name": "stderr",
     "output_type": "stream",
     "text": [
      "\r",
      " 33%|███▎      | 2/6 [08:35<19:49, 297.26s/it]"
     ]
    },
    {
     "name": "stdout",
     "output_type": "stream",
     "text": [
      "[youtube] mnKYgWt70tQ: Downloading webpage\n",
      "[youtube] mnKYgWt70tQ: Downloading MPD manifest\n",
      "[dashsegments] Total fragments: 286\n",
      "[download] Destination: Dilema Pengungsi Rohingya - Kepentingan Negara atau Keadilan Sosial - Podcast Bebas Aktif Eps. 72-mnKYgWt70tQ.webm\n",
      "[download]  10.1% of ~39.47MiB at 715.41KiB/s ETA 01:0041:03"
     ]
    },
    {
     "name": "stderr",
     "output_type": "stream",
     "text": [
      "ERROR: giving up after 0 retries\n"
     ]
    },
    {
     "name": "stdout",
     "output_type": "stream",
     "text": [
      "[download] Skipping fragment 30...\n"
     ]
    },
    {
     "name": "stderr",
     "output_type": "stream",
     "text": [
      "ERROR: giving up after 0 retries\n"
     ]
    },
    {
     "name": "stdout",
     "output_type": "stream",
     "text": [
      "[download] Skipping fragment 31...\n"
     ]
    },
    {
     "name": "stderr",
     "output_type": "stream",
     "text": [
      "ERROR: giving up after 0 retries\n"
     ]
    },
    {
     "name": "stdout",
     "output_type": "stream",
     "text": [
      "[download] Skipping fragment 32...\n"
     ]
    },
    {
     "name": "stderr",
     "output_type": "stream",
     "text": [
      "ERROR: giving up after 0 retries\n"
     ]
    },
    {
     "name": "stdout",
     "output_type": "stream",
     "text": [
      "[download] Skipping fragment 33...\n",
      "[download]  12.2% of ~39.93MiB at 17.82MiB/s ETA 01:004"
     ]
    },
    {
     "name": "stderr",
     "output_type": "stream",
     "text": [
      "ERROR: giving up after 0 retries\n"
     ]
    },
    {
     "name": "stdout",
     "output_type": "stream",
     "text": [
      "[download] Skipping fragment 40...\n",
      "[download]  29.4% of ~41.18MiB at 18.10MiB/s ETA 00:488"
     ]
    },
    {
     "name": "stderr",
     "output_type": "stream",
     "text": [
      "ERROR: giving up after 0 retries\n"
     ]
    },
    {
     "name": "stdout",
     "output_type": "stream",
     "text": [
      "[download] Skipping fragment 90...\n"
     ]
    },
    {
     "name": "stderr",
     "output_type": "stream",
     "text": [
      "ERROR: giving up after 0 retries\n"
     ]
    },
    {
     "name": "stdout",
     "output_type": "stream",
     "text": [
      "[download] Skipping fragment 91...\n"
     ]
    },
    {
     "name": "stderr",
     "output_type": "stream",
     "text": [
      "ERROR: giving up after 0 retries\n"
     ]
    },
    {
     "name": "stdout",
     "output_type": "stream",
     "text": [
      "[download] Skipping fragment 92...\n"
     ]
    },
    {
     "name": "stderr",
     "output_type": "stream",
     "text": [
      "ERROR: giving up after 0 retries\n"
     ]
    },
    {
     "name": "stdout",
     "output_type": "stream",
     "text": [
      "[download] Skipping fragment 93...\n",
      "[download]  35.0% of ~41.31MiB at 18.28MiB/s ETA 00:448"
     ]
    },
    {
     "name": "stderr",
     "output_type": "stream",
     "text": [
      "ERROR: giving up after 0 retries\n"
     ]
    },
    {
     "name": "stdout",
     "output_type": "stream",
     "text": [
      "[download] Skipping fragment 110...\n",
      "[download]  60.5% of ~40.97MiB at 16.77MiB/s ETA 00:277"
     ]
    },
    {
     "name": "stderr",
     "output_type": "stream",
     "text": [
      "ERROR: giving up after 0 retries\n"
     ]
    },
    {
     "name": "stdout",
     "output_type": "stream",
     "text": [
      "[download] Skipping fragment 184...\n",
      "[download] 100% of 39.37MiB in 01:05.89MiB/s ETA 00:027\n",
      "[ffmpeg] Destination: Dilema Pengungsi Rohingya - Kepentingan Negara atau Keadilan Sosial - Podcast Bebas Aktif Eps. 72-mnKYgWt70tQ.mp3\n",
      "Deleting original file Dilema Pengungsi Rohingya - Kepentingan Negara atau Keadilan Sosial - Podcast Bebas Aktif Eps. 72-mnKYgWt70tQ.webm (pass -k to keep)\n"
     ]
    },
    {
     "name": "stderr",
     "output_type": "stream",
     "text": [
      "\r",
      " 50%|█████     | 3/6 [10:38<12:14, 244.96s/it]"
     ]
    },
    {
     "name": "stdout",
     "output_type": "stream",
     "text": [
      "[youtube] JC-zabjztSg: Downloading webpage\n",
      "[download] Destination: SI TYA SHOCK DIHIPNOTIS ROMY RAFAEL‼️ -Deddy Corbuzier Podcast-JC-zabjztSg.webm\n",
      "[download] 100% of 46.54MiB in 00:00.42MiB/s ETA 00:00nown ETA\n",
      "[ffmpeg] Destination: SI TYA SHOCK DIHIPNOTIS ROMY RAFAEL‼️ -Deddy Corbuzier Podcast-JC-zabjztSg.mp3\n",
      "Deleting original file SI TYA SHOCK DIHIPNOTIS ROMY RAFAEL‼️ -Deddy Corbuzier Podcast-JC-zabjztSg.webm (pass -k to keep)\n"
     ]
    },
    {
     "name": "stderr",
     "output_type": "stream",
     "text": [
      "\r",
      " 67%|██████▋   | 4/6 [11:43<06:22, 191.02s/it]"
     ]
    },
    {
     "name": "stdout",
     "output_type": "stream",
     "text": [
      "[youtube] IO3SCj8OaBU: Downloading webpage\n",
      "[youtube] IO3SCj8OaBU: Downloading MPD manifest\n",
      "[dashsegments] Total fragments: 238\n",
      "[download] Destination: Panas Dingin Hubungan India-Tiongkok di Himalaya - Podcast Bebas Aktif Eps. 71-IO3SCj8OaBU.webm\n",
      "[download] 100% of 34.16MiB in 00:56.97MiB/s ETA 00:00006:38\n",
      "[ffmpeg] Destination: Panas Dingin Hubungan India-Tiongkok di Himalaya - Podcast Bebas Aktif Eps. 71-IO3SCj8OaBU.mp3\n",
      "Deleting original file Panas Dingin Hubungan India-Tiongkok di Himalaya - Podcast Bebas Aktif Eps. 71-IO3SCj8OaBU.webm (pass -k to keep)\n"
     ]
    },
    {
     "name": "stderr",
     "output_type": "stream",
     "text": [
      "\r",
      " 83%|████████▎ | 5/6 [13:30<02:45, 165.68s/it]"
     ]
    },
    {
     "name": "stdout",
     "output_type": "stream",
     "text": [
      "[youtube] m_qH8rmESiQ: Downloading webpage\n",
      "[youtube] m_qH8rmESiQ: Downloading MPD manifest\n",
      "[dashsegments] Total fragments: 326\n",
      "[download] Destination: Masyarakat Indonesia - Dibentuk Penjajah, Dipertajam Perang Dingin - Podcast Bebas Aktif Eps. 68-m_qH8rmESiQ.webm\n",
      "[download] 100% of 48.48MiB in 01:15.68MiB/s ETA 00:00903:26\n",
      "[ffmpeg] Destination: Masyarakat Indonesia - Dibentuk Penjajah, Dipertajam Perang Dingin - Podcast Bebas Aktif Eps. 68-m_qH8rmESiQ.mp3\n",
      "Deleting original file Masyarakat Indonesia - Dibentuk Penjajah, Dipertajam Perang Dingin - Podcast Bebas Aktif Eps. 68-m_qH8rmESiQ.webm (pass -k to keep)\n"
     ]
    },
    {
     "name": "stderr",
     "output_type": "stream",
     "text": [
      "100%|██████████| 6/6 [15:53<00:00, 158.95s/it]\n"
     ]
    }
   ],
   "source": [
    "import mp\n",
    "mp.multiprocessing(videos, loop, cores = 12, returned = False)"
   ]
  },
  {
   "cell_type": "code",
   "execution_count": 8,
   "metadata": {},
   "outputs": [],
   "source": [
    "# !pip3 install pydub"
   ]
  },
  {
   "cell_type": "code",
   "execution_count": 9,
   "metadata": {},
   "outputs": [],
   "source": [
    "from pydub.silence import split_on_silence, detect_nonsilent\n",
    "from pydub import AudioSegment\n",
    "\n",
    "def split(file, min_silence_len=500, silence_thresh=-20, max_len = 7, keep_silence = 1000):\n",
    "    audio = AudioSegment.from_mp3(file)\n",
    "    audio_chunks = split_on_silence(audio, min_silence_len=min_silence_len, silence_thresh=silence_thresh,\n",
    "                                   keep_silence = keep_silence)\n",
    "    \n",
    "    audios, temp, length = [], [], 0\n",
    "    for i in range(len(audio_chunks)):\n",
    "        if length + audio_chunks[i].duration_seconds >= max_len and len(temp):\n",
    "            audios.append(sum(temp))\n",
    "            temp = []\n",
    "            length = 0\n",
    "        temp.append(audio_chunks[i])\n",
    "        length += audio_chunks[i].duration_seconds\n",
    "\n",
    "    if len(temp):\n",
    "        audios.append(sum(temp))\n",
    "        \n",
    "    return audios, audio"
   ]
  },
  {
   "cell_type": "code",
   "execution_count": 13,
   "metadata": {},
   "outputs": [],
   "source": [
    "import speech_recognition as sr\n",
    "import os\n",
    "import uuid\n",
    "\n",
    "r = sr.Recognizer()"
   ]
  },
  {
   "cell_type": "code",
   "execution_count": 14,
   "metadata": {},
   "outputs": [
    {
     "data": {
      "text/plain": [
       "['english',\n",
       " 'indonesian',\n",
       " 'malay',\n",
       " 'mandarin',\n",
       " 'manglish',\n",
       " 'not a language',\n",
       " 'others']"
      ]
     },
     "execution_count": 14,
     "metadata": {},
     "output_type": "execute_result"
    }
   ],
   "source": [
    "labels = [\n",
    "    'english',\n",
    "    'malay',\n",
    "    'mandarin',\n",
    "    'manglish',\n",
    "    'indonesian',\n",
    "    'others',\n",
    "    'not a language',\n",
    "]\n",
    "sorted(labels)"
   ]
  },
  {
   "cell_type": "code",
   "execution_count": null,
   "metadata": {},
   "outputs": [],
   "source": []
  }
 ],
 "metadata": {
  "kernelspec": {
   "display_name": "Python 3",
   "language": "python",
   "name": "python3"
  },
  "language_info": {
   "codemirror_mode": {
    "name": "ipython",
    "version": 3
   },
   "file_extension": ".py",
   "mimetype": "text/x-python",
   "name": "python",
   "nbconvert_exporter": "python",
   "pygments_lexer": "ipython3",
   "version": "3.6.9"
  }
 },
 "nbformat": 4,
 "nbformat_minor": 4
}

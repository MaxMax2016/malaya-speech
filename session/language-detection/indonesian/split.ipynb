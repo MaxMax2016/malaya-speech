{
 "cells": [
  {
   "cell_type": "code",
   "execution_count": 9,
   "metadata": {},
   "outputs": [
    {
     "data": {
      "text/plain": [
       "77"
      ]
     },
     "execution_count": 9,
     "metadata": {},
     "output_type": "execute_result"
    }
   ],
   "source": [
    "from glob import glob\n",
    "\n",
    "mp3s = list(set(glob('*.mp3')))\n",
    "len(mp3s)"
   ]
  },
  {
   "cell_type": "code",
   "execution_count": 10,
   "metadata": {},
   "outputs": [],
   "source": [
    "!rm -rf clean-wav\n",
    "!mkdir clean-wav"
   ]
  },
  {
   "cell_type": "code",
   "execution_count": 11,
   "metadata": {},
   "outputs": [],
   "source": [
    "from pydub import AudioSegment\n",
    "from tqdm import tqdm\n",
    "import os"
   ]
  },
  {
   "cell_type": "code",
   "execution_count": 12,
   "metadata": {},
   "outputs": [
    {
     "data": {
      "text/plain": [
       "('', 'Trump Bukan Anak TikTok! - Podcast Bebas Aktif 80-oYt4J1tbjA8.mp3')"
      ]
     },
     "execution_count": 12,
     "metadata": {},
     "output_type": "execute_result"
    }
   ],
   "source": [
    "os.path.split(mp3s[0])"
   ]
  },
  {
   "cell_type": "code",
   "execution_count": 13,
   "metadata": {},
   "outputs": [],
   "source": [
    "def loop(mp3s):\n",
    "    mp3s = mp3s[0]\n",
    "    for f in tqdm(mp3s):\n",
    "        try:\n",
    "            replace = f.replace(' ', '-').replace('--', '_').replace('.mp3', '')\n",
    "            os.system(f'ffmpeg -ss {60 * 5} -i \"{f}\" -f segment -segment_time {60 * 10}  -c copy \"{replace}-part-%03d.mp3\"')\n",
    "            globed = glob(f'{replace}*')\n",
    "            for g in globed:\n",
    "                audio = AudioSegment.from_mp3(g)\n",
    "                audio.set_frame_rate(16000).set_channels(1).export(f\"clean-wav/{g.replace('.mp3','.wav')}\", format = 'wav')            \n",
    "        except Exception as e:\n",
    "            print(f, e)"
   ]
  },
  {
   "cell_type": "code",
   "execution_count": 14,
   "metadata": {},
   "outputs": [
    {
     "name": "stderr",
     "output_type": "stream",
     "text": [
      "100%|██████████| 15/15 [03:38<00:00, 14.58s/it]\n",
      "100%|██████████| 15/15 [03:39<00:00, 14.63s/it]\n",
      "100%|██████████| 2/2 [00:17<00:00,  8.78s/it]t]\n",
      "100%|██████████| 15/15 [04:00<00:00, 16.00s/it]\n",
      "100%|██████████| 15/15 [04:02<00:00, 16.19s/it]\n",
      "100%|██████████| 15/15 [04:18<00:00, 17.24s/it]\n"
     ]
    }
   ],
   "source": [
    "from mp import multiprocessing\n",
    "multiprocessing(mp3s, loop, cores = 5, returned = False)"
   ]
  },
  {
   "cell_type": "code",
   "execution_count": null,
   "metadata": {},
   "outputs": [],
   "source": [
    "!cp ../mp.py ."
   ]
  },
  {
   "cell_type": "code",
   "execution_count": 15,
   "metadata": {},
   "outputs": [],
   "source": [
    "!rm *-part-*.mp3"
   ]
  }
 ],
 "metadata": {
  "kernelspec": {
   "display_name": "Python 3",
   "language": "python",
   "name": "python3"
  },
  "language_info": {
   "codemirror_mode": {
    "name": "ipython",
    "version": 3
   },
   "file_extension": ".py",
   "mimetype": "text/x-python",
   "name": "python",
   "nbconvert_exporter": "python",
   "pygments_lexer": "ipython3",
   "version": "3.6.9"
  }
 },
 "nbformat": 4,
 "nbformat_minor": 4
}

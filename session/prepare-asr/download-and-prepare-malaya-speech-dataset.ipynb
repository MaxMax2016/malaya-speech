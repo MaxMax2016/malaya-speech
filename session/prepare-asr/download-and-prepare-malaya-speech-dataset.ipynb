{
 "cells": [
  {
   "cell_type": "markdown",
   "metadata": {},
   "source": [
    "# Prepare Malaya-Speech Dataset"
   ]
  },
  {
   "cell_type": "markdown",
   "metadata": {},
   "source": [
    "We want our model able to understand Bahasa and local english slang (Manglish)."
   ]
  },
  {
   "cell_type": "markdown",
   "metadata": {},
   "source": [
    "### Download data\n",
    "\n",
    "Run command below to download all data,\n",
    "\n",
    "```bash\n",
    "wget https://f000.backblazeb2.com/file/malay-dataset/speech/semisupervised-manglish.tar.gz\n",
    "tar -xf semisupervised-manglish.tar.gz\n",
    "wget https://cdn.commonvoice.mozilla.org/cv-corpus-5.1-2020-06-22/id.tar.gz\n",
    "tar -zxf id.tar.gz\n",
    "wget https://f000.backblazeb2.com/file/malay-dataset/speech/semisupervised-malay.tar.gz\n",
    "tar -xf semisupervised-malay.tar.gz\n",
    "```\n",
    "\n",
    "Total samples length,\n",
    "\n",
    "1. Malay, ~93 hours.\n",
    "2. Manglish, ~107 hours.\n",
    "3. Indonesian, ~4 hours.\n",
    "\n",
    "All these data are not really clean."
   ]
  },
  {
   "cell_type": "code",
   "execution_count": 1,
   "metadata": {},
   "outputs": [],
   "source": [
    "# !pip3 install malaya-speech -U --no-deps"
   ]
  },
  {
   "cell_type": "markdown",
   "metadata": {},
   "source": [
    "### Read data"
   ]
  },
  {
   "cell_type": "code",
   "execution_count": 2,
   "metadata": {},
   "outputs": [
    {
     "name": "stdout",
     "output_type": "stream",
     "text": [
      "WARNING:tensorflow:From /home/husein/.local/lib/python3.6/site-packages/malaya_speech/train/optimizer.py:34: The name tf.train.AdagradOptimizer is deprecated. Please use tf.compat.v1.train.AdagradOptimizer instead.\n",
      "\n",
      "WARNING:tensorflow:From /home/husein/.local/lib/python3.6/site-packages/malaya_speech/train/optimizer.py:35: The name tf.train.AdamOptimizer is deprecated. Please use tf.compat.v1.train.AdamOptimizer instead.\n",
      "\n",
      "WARNING:tensorflow:From /home/husein/.local/lib/python3.6/site-packages/malaya_speech/train/optimizer.py:36: The name tf.train.FtrlOptimizer is deprecated. Please use tf.compat.v1.train.FtrlOptimizer instead.\n",
      "\n",
      "WARNING:tensorflow:From /home/husein/.local/lib/python3.6/site-packages/malaya_speech/train/optimizer.py:38: The name tf.train.RMSPropOptimizer is deprecated. Please use tf.compat.v1.train.RMSPropOptimizer instead.\n",
      "\n",
      "WARNING:tensorflow:From /home/husein/.local/lib/python3.6/site-packages/malaya_speech/train/optimizer.py:39: The name tf.train.GradientDescentOptimizer is deprecated. Please use tf.compat.v1.train.GradientDescentOptimizer instead.\n",
      "\n",
      "WARNING:tensorflow:\n",
      "The TensorFlow contrib module will not be included in TensorFlow 2.0.\n",
      "For more information, please see:\n",
      "  * https://github.com/tensorflow/community/blob/master/rfcs/20180907-contrib-sunset.md\n",
      "  * https://github.com/tensorflow/addons\n",
      "  * https://github.com/tensorflow/io (for I/O related ops)\n",
      "If you depend on functionality not listed there, please file an issue.\n",
      "\n"
     ]
    }
   ],
   "source": [
    "import pandas as pd\n",
    "import malaya_speech\n",
    "import malaya_speech.train as train\n",
    "import json"
   ]
  },
  {
   "cell_type": "code",
   "execution_count": 3,
   "metadata": {
    "scrolled": true
   },
   "outputs": [
    {
     "name": "stdout",
     "output_type": "stream",
     "text": [
      "(7490, 10)\n"
     ]
    }
   ],
   "source": [
    "df = pd.read_csv('cv-corpus-5.1-2020-06-22/id/validated.tsv', sep = '\\t')\n",
    "df = df[(df['sentence'].str.len() > 5) & (df['sentence'].str.count(' ') > 0)]\n",
    "print(df.shape)"
   ]
  },
  {
   "cell_type": "code",
   "execution_count": 4,
   "metadata": {},
   "outputs": [
    {
     "data": {
      "text/plain": [
       "7490"
      ]
     },
     "execution_count": 4,
     "metadata": {},
     "output_type": "execute_result"
    }
   ],
   "source": [
    "id_commonvoice = []\n",
    "for i in range(len(df)):\n",
    "    p = f\"cv-corpus-5.1-2020-06-22/id/clips/{df['path'].iloc[i]}\"\n",
    "    id_commonvoice.append((p, df['sentence'].iloc[i]))\n",
    "\n",
    "len(id_commonvoice)"
   ]
  },
  {
   "cell_type": "code",
   "execution_count": 5,
   "metadata": {},
   "outputs": [
    {
     "data": {
      "text/plain": [
       "(57895, 65277)"
      ]
     },
     "execution_count": 5,
     "metadata": {},
     "output_type": "execute_result"
    }
   ],
   "source": [
    "from glob import glob\n",
    "\n",
    "malay = glob('semisupervised-malay/output-wav/*.wav')\n",
    "manglish = glob('semisupervised-manglish/output-wav/*.wav')\n",
    "len(malay), len(manglish)"
   ]
  },
  {
   "cell_type": "code",
   "execution_count": 6,
   "metadata": {},
   "outputs": [],
   "source": [
    "import unicodedata\n",
    "import re\n",
    "\n",
    "\n",
    "def preprocessing_text(string, reject = ',.!?#@\\U0001f9da_，é)^🍪❤！' + '️'):\n",
    "    for c in reject:\n",
    "        string = string.replace(c, ' ')\n",
    "        \n",
    "    string = unicodedata.normalize('NFC', string.lower())\n",
    "    return re.sub(r'[ ]+', ' ', string).strip()"
   ]
  },
  {
   "cell_type": "code",
   "execution_count": 7,
   "metadata": {},
   "outputs": [
    {
     "name": "stderr",
     "output_type": "stream",
     "text": [
      "100%|██████████| 57895/57895 [00:10<00:00, 5298.84it/s]\n"
     ]
    }
   ],
   "source": [
    "from tqdm import tqdm\n",
    "\n",
    "malays = []\n",
    "for i in tqdm(malay):\n",
    "    try:\n",
    "        p = i.replace('output-wav','output-text')\n",
    "        with open(f'{p}.txt') as fopen:\n",
    "            text = fopen.read()\n",
    "        malays.append((i, text))\n",
    "    except Exception as e:\n",
    "        print(e)"
   ]
  },
  {
   "cell_type": "code",
   "execution_count": 8,
   "metadata": {},
   "outputs": [
    {
     "name": "stderr",
     "output_type": "stream",
     "text": [
      "100%|██████████| 65277/65277 [00:12<00:00, 5207.67it/s]\n"
     ]
    }
   ],
   "source": [
    "manglishs = []\n",
    "for i in tqdm(manglish):\n",
    "    try:\n",
    "        p = i.replace('output-wav','output-text')\n",
    "        with open(f'{p}.txt') as fopen:\n",
    "            text = fopen.read()\n",
    "        manglishs.append((i, text))\n",
    "    except Exception as e:\n",
    "        print(e)"
   ]
  },
  {
   "cell_type": "code",
   "execution_count": 9,
   "metadata": {},
   "outputs": [],
   "source": [
    "audios = id_commonvoice + malays + manglishs\n",
    "audios, texts = zip(*audios)"
   ]
  },
  {
   "cell_type": "code",
   "execution_count": 10,
   "metadata": {},
   "outputs": [],
   "source": [
    "from pydub import AudioSegment\n",
    "import numpy as np\n",
    "\n",
    "def mp3_to_wav(file, sr = 16000):\n",
    "    audio = AudioSegment.from_file(file)\n",
    "    audio = audio.set_frame_rate(sr).set_channels(1)\n",
    "    sample = np.array(audio.get_array_of_samples())\n",
    "    return malaya_speech.astype.int_to_float(sample), sr"
   ]
  },
  {
   "cell_type": "code",
   "execution_count": 11,
   "metadata": {},
   "outputs": [],
   "source": [
    "cleaned_texts = [preprocessing_text(t) for t in texts]"
   ]
  },
  {
   "cell_type": "code",
   "execution_count": 14,
   "metadata": {},
   "outputs": [],
   "source": [
    "with open('malaya-speech-transcript.json', 'w') as fopen:\n",
    "    json.dump(cleaned_texts, fopen)\n",
    "    \n",
    "with open('malaya-speech-transcript.txt', 'w') as fopen:\n",
    "    fopen.write('\\n'.join(cleaned_texts))"
   ]
  },
  {
   "cell_type": "code",
   "execution_count": 20,
   "metadata": {},
   "outputs": [
    {
     "data": {
      "text/plain": [
       "['<PAD>',\n",
       " '<EOS>',\n",
       " ' ',\n",
       " 'a',\n",
       " 'e',\n",
       " 'n',\n",
       " 'i',\n",
       " 't',\n",
       " 'o',\n",
       " 'u',\n",
       " 's',\n",
       " 'k',\n",
       " 'r',\n",
       " 'l',\n",
       " 'h',\n",
       " 'd',\n",
       " 'm',\n",
       " 'g',\n",
       " 'y',\n",
       " 'b',\n",
       " 'p',\n",
       " 'w',\n",
       " 'c',\n",
       " 'f',\n",
       " 'j',\n",
       " 'v',\n",
       " \"'\",\n",
       " '-',\n",
       " 'z',\n",
       " '0',\n",
       " '1',\n",
       " 'x',\n",
       " '2',\n",
       " 'q',\n",
       " '*',\n",
       " '5',\n",
       " '3',\n",
       " '4',\n",
       " '6',\n",
       " '9',\n",
       " '8',\n",
       " '7',\n",
       " '%',\n",
       " '$',\n",
       " '\"',\n",
       " '/',\n",
       " '&',\n",
       " ':',\n",
       " '+']"
      ]
     },
     "execution_count": 20,
     "metadata": {},
     "output_type": "execute_result"
    }
   ],
   "source": [
    "unique_chars = malaya_speech.char.generate_vocab(cleaned_texts)\n",
    "unique_chars"
   ]
  },
  {
   "cell_type": "code",
   "execution_count": 21,
   "metadata": {},
   "outputs": [],
   "source": [
    "with open('malaya-speech-sst-vocab.json', 'w') as fopen:\n",
    "    json.dump(unique_chars, fopen)"
   ]
  },
  {
   "cell_type": "markdown",
   "metadata": {},
   "source": [
    "### Change into TFRecord\n",
    "\n",
    "This is not necessary step, we recommend to use yield iterator to train the model, but we also can save our data into TFRecord to speed up data pipelines. To do that, we need to create a yield iterator."
   ]
  },
  {
   "cell_type": "code",
   "execution_count": 22,
   "metadata": {},
   "outputs": [],
   "source": [
    "def generator(maxlen = 16):\n",
    "    for i in tqdm(range(len(audios))):\n",
    "        try:\n",
    "            if '.mp3' in audios[i]:\n",
    "                wav_data, sr = mp3_to_wav(audios[i])\n",
    "            else:\n",
    "                wav_data, sr = malaya_speech.load(audios[i])\n",
    "                \n",
    "            if (len(wav_data) / sr) > maxlen or len(cleaned_texts[i]) < 5:\n",
    "                print(f'skipped {audios[i]}')\n",
    "                continue\n",
    "\n",
    "            yield {\n",
    "                'waveforms': wav_data.tolist(),\n",
    "                'waveform_lens': [len(wav_data)],\n",
    "                'targets': malaya_speech.char.encode(cleaned_texts[i], add_eos = False,\n",
    "                                                     lookup = unique_chars),\n",
    "                'raw_transcript': [cleaned_texts[i]],\n",
    "            }\n",
    "        except Exception as e:\n",
    "            print(e)\n",
    "            \n",
    "generator = generator()"
   ]
  },
  {
   "cell_type": "code",
   "execution_count": 23,
   "metadata": {},
   "outputs": [],
   "source": [
    "import os\n",
    "import tensorflow as tf\n",
    "\n",
    "os.system('rm bahasa-asr/data/*')\n",
    "DATA_DIR = os.path.expanduser('bahasa-asr/data')\n",
    "tf.gfile.MakeDirs(DATA_DIR)"
   ]
  },
  {
   "cell_type": "markdown",
   "metadata": {},
   "source": [
    "#### Define shards\n",
    "\n",
    "Like we defined below,\n",
    "\n",
    "```python\n",
    "shards = [{'split': 'train', 'shards': 999}, {'split': 'dev', 'shards': 1}]\n",
    "```"
   ]
  },
  {
   "cell_type": "code",
   "execution_count": 24,
   "metadata": {},
   "outputs": [],
   "source": [
    "shards = [{'split': 'train', 'shards': 999}, {'split': 'dev', 'shards': 1}]"
   ]
  },
  {
   "cell_type": "markdown",
   "metadata": {},
   "source": [
    "#### Save to TFRecord\n",
    "\n",
    "Just pass yield iterator to malaya_speech.train_prepare_dataset,\n",
    "\n",
    "```python\n",
    "def prepare_dataset(\n",
    "    generator,\n",
    "    data_dir: str,\n",
    "    shards: List[Dict],\n",
    "    prefix: str = 'dataset',\n",
    "    shuffle: bool = True,\n",
    "    already_shuffled: bool = False,\n",
    "):\n",
    "```"
   ]
  },
  {
   "cell_type": "code",
   "execution_count": 25,
   "metadata": {},
   "outputs": [
    {
     "name": "stdout",
     "output_type": "stream",
     "text": [
      "WARNING:tensorflow:From /home/husein/.local/lib/python3.6/site-packages/malaya_speech/train/prepare_data.py:89: The name tf.gfile.Exists is deprecated. Please use tf.io.gfile.exists instead.\n",
      "\n",
      "WARNING:tensorflow:From /home/husein/.local/lib/python3.6/site-packages/malaya_speech/train/prepare_data.py:199: The name tf.python_io.TFRecordWriter is deprecated. Please use tf.io.TFRecordWriter instead.\n",
      "\n"
     ]
    },
    {
     "name": "stderr",
     "output_type": "stream",
     "text": [
      "\r",
      "  0%|          | 0/130662 [00:00<?, ?it/s]"
     ]
    },
    {
     "name": "stdout",
     "output_type": "stream",
     "text": [
      "WARNING:tensorflow:From /home/husein/.local/lib/python3.6/site-packages/malaya_speech/train/prepare_data.py:205: The name tf.logging.info is deprecated. Please use tf.compat.v1.logging.info instead.\n",
      "\n",
      "INFO:tensorflow:Generating case 0.\n"
     ]
    },
    {
     "name": "stderr",
     "output_type": "stream",
     "text": [
      "  6%|▌         | 7513/130662 [11:00<1:12:46, 28.20it/s]"
     ]
    },
    {
     "name": "stdout",
     "output_type": "stream",
     "text": [
      "skipped semisupervised-malay/output-wav/Podcast-Bekpek---Berbasikal-Malaysia-Ke-Mekah(Ditahan-dan-dibawa-Kem-Askar-Pakistan-Semasa-Di-Gunung)-_bfH3pxuOoM.mp3-part-451.wav\n"
     ]
    },
    {
     "name": "stderr",
     "output_type": "stream",
     "text": [
      "  6%|▌         | 7750/130662 [11:03<30:43, 66.67it/s]  "
     ]
    },
    {
     "name": "stdout",
     "output_type": "stream",
     "text": [
      "skipped semisupervised-malay/output-wav/Bila-Mata-Bertentang-Mata-❤️-_-Ustaz-Mohd-Lukmanul-Hakim-Wm-8ZeLyux0.mp3-part-312.wav\n"
     ]
    },
    {
     "name": "stderr",
     "output_type": "stream",
     "text": [
      "  6%|▋         | 8206/130662 [11:11<31:55, 63.92it/s]"
     ]
    },
    {
     "name": "stdout",
     "output_type": "stream",
     "text": [
      "skipped semisupervised-malay/output-wav/IPGM----Cabaran-VUCA-Dari-Perspektif-Pendidikan-Guru-dan-PAK-21-QOCbT-XH36I.mp3-part-335.wav\n"
     ]
    },
    {
     "name": "stderr",
     "output_type": "stream",
     "text": [
      "  6%|▋         | 8250/130662 [11:12<34:16, 59.54it/s]"
     ]
    },
    {
     "name": "stdout",
     "output_type": "stream",
     "text": [
      "skipped semisupervised-malay/output-wav/92-_-Cuba-Renung-Kisah-Ini-_-Ustaz-Wadi-Annuar-AVt7WL-ZR4Y.mp3-part-9.wav\n"
     ]
    },
    {
     "name": "stderr",
     "output_type": "stream",
     "text": [
      "  7%|▋         | 8519/130662 [11:17<31:59, 63.64it/s]"
     ]
    },
    {
     "name": "stdout",
     "output_type": "stream",
     "text": [
      "skipped semisupervised-malay/output-wav/92-_-Cuba-Renung-Kisah-Ini-_-Ustaz-Wadi-Annuar-AVt7WL-ZR4Y.mp3-part-566.wav\n"
     ]
    },
    {
     "name": "stderr",
     "output_type": "stream",
     "text": [
      "  7%|▋         | 8596/130662 [11:18<31:56, 63.69it/s]"
     ]
    },
    {
     "name": "stdout",
     "output_type": "stream",
     "text": [
      "skipped semisupervised-malay/output-wav/Pengalaman-Pertama-Kali-Tidur-Dalam-Kereta-Api-Dari-Malaysia-Ke-Thailand-WKi6VUFzjuo.mp3-part-29.wav\n"
     ]
    },
    {
     "name": "stderr",
     "output_type": "stream",
     "text": [
      "  7%|▋         | 8790/130662 [11:21<32:06, 63.26it/s]"
     ]
    },
    {
     "name": "stdout",
     "output_type": "stream",
     "text": [
      "skipped semisupervised-malay/output-wav/Buang-BERHALA-Yang-Duduk-Di-Hati-Kita-😥-_-Ustaz-Ahmad-Rizam-EP2qcEFmFD8.mp3-part-246.wav\n"
     ]
    },
    {
     "name": "stderr",
     "output_type": "stream",
     "text": [
      "  7%|▋         | 8846/130662 [11:22<38:30, 52.73it/s]"
     ]
    },
    {
     "name": "stdout",
     "output_type": "stream",
     "text": [
      "skipped semisupervised-malay/output-wav/Sesi-3----Rahsia-Roh-Menggerakkan-Kita-glR3xP2HTS0.mp3-part-6.wav\n"
     ]
    },
    {
     "name": "stderr",
     "output_type": "stream",
     "text": [
      "  7%|▋         | 8889/130662 [11:23<32:42, 62.05it/s]"
     ]
    },
    {
     "name": "stdout",
     "output_type": "stream",
     "text": [
      "skipped semisupervised-malay/output-wav/Sesi-3----Rahsia-Roh-Menggerakkan-Kita-glR3xP2HTS0.mp3-part-22.wav\n"
     ]
    },
    {
     "name": "stderr",
     "output_type": "stream",
     "text": [
      "  7%|▋         | 9515/130662 [11:34<31:41, 63.70it/s]"
     ]
    },
    {
     "name": "stdout",
     "output_type": "stream",
     "text": [
      "skipped semisupervised-malay/output-wav/Ratu-Balqis-Anak-Dari-Golongan-JIN--😯-_-Ustaz-Auni-Mohamed-arZATVyf8j8.mp3-part-341.wav\n"
     ]
    },
    {
     "name": "stderr",
     "output_type": "stream",
     "text": [
      "  7%|▋         | 9595/130662 [11:35<31:28, 64.11it/s]"
     ]
    },
    {
     "name": "stdout",
     "output_type": "stream",
     "text": [
      "skipped semisupervised-malay/output-wav/Ruang-Masa-Hiperbolik-Wujud-Di-Dunia-Sebenar!-1v-n23HAi7M.mp3-part-15.wav\n"
     ]
    },
    {
     "name": "stderr",
     "output_type": "stream",
     "text": [
      "  7%|▋         | 9652/130662 [11:36<38:31, 52.36it/s]"
     ]
    },
    {
     "name": "stdout",
     "output_type": "stream",
     "text": [
      "skipped semisupervised-malay/output-wav/SEDEKAH-Bukan-Dengan-Harta-Semata-Mata-_-Ustaz-Mohd-Lukmanul-Hakim-QW3GndtSb1k.mp3-part-21.wav\n"
     ]
    },
    {
     "name": "stderr",
     "output_type": "stream",
     "text": [
      "  8%|▊         | 9839/130662 [11:39<38:43, 51.99it/s]"
     ]
    },
    {
     "name": "stdout",
     "output_type": "stream",
     "text": [
      "skipped semisupervised-malay/output-wav/Podcast-Bekpek---Berbasikal-Malaysia-Ke-Mekah(Ditahan-dan-dibawa-Kem-Askar-Pakistan-Semasa-Di-Gunung)-_bfH3pxuOoM.mp3-part-45.wav\n"
     ]
    },
    {
     "name": "stderr",
     "output_type": "stream",
     "text": [
      "  8%|▊         | 9981/130662 [11:42<30:53, 65.10it/s]"
     ]
    },
    {
     "name": "stdout",
     "output_type": "stream",
     "text": [
      "skipped semisupervised-malay/output-wav/Dunia-Tamat-2038-4sYNZ3vkIbg.mp3-part-19.wav\n"
     ]
    },
    {
     "name": "stderr",
     "output_type": "stream",
     "text": [
      "  8%|▊         | 10243/130662 [11:47<30:34, 65.65it/s]"
     ]
    },
    {
     "name": "stdout",
     "output_type": "stream",
     "text": [
      "skipped semisupervised-malay/output-wav/Buang-BERHALA-Yang-Duduk-Di-Hati-Kita-😥-_-Ustaz-Ahmad-Rizam-EP2qcEFmFD8.mp3-part-391.wav\n"
     ]
    },
    {
     "name": "stderr",
     "output_type": "stream",
     "text": [
      "  8%|▊         | 10547/130662 [11:52<30:26, 65.75it/s]"
     ]
    },
    {
     "name": "stdout",
     "output_type": "stream",
     "text": [
      "skipped semisupervised-malay/output-wav/65-_-Wahai-Anak,-Allah-Akan-Menguji-Kamu-!-_-Ustaz-Wadi-Annuar-0ZKxMaNusTA.mp3-part-275.wav\n"
     ]
    },
    {
     "name": "stderr",
     "output_type": "stream",
     "text": [
      "  8%|▊         | 10695/130662 [11:55<34:55, 57.26it/s]"
     ]
    },
    {
     "name": "stdout",
     "output_type": "stream",
     "text": [
      "skipped semisupervised-malay/output-wav/Besar-Jasa-Nabi-Musa-Kepada-Umat-Nabi-Muhammad-_-Ustaz-Mohd-Nazrul-Al-Azhari-xw2IYlEVSn8.mp3-part-360.wav\n"
     ]
    },
    {
     "name": "stderr",
     "output_type": "stream",
     "text": [
      "  9%|▊         | 11254/130662 [12:05<29:40, 67.07it/s]"
     ]
    },
    {
     "name": "stdout",
     "output_type": "stream",
     "text": [
      "skipped semisupervised-malay/output-wav/Kecil-Pada-Kita,-Besar-Nilainya-Di-Sisi-Allah-_-Ustaz-Mohd-Shaffi-Cno40z2_-oU.mp3-part-176.wav\n"
     ]
    },
    {
     "name": "stderr",
     "output_type": "stream",
     "text": [
      "  9%|▊         | 11295/130662 [12:05<35:31, 56.01it/s]"
     ]
    },
    {
     "name": "stdout",
     "output_type": "stream",
     "text": [
      "skipped semisupervised-malay/output-wav/Dunia-Tamat-2038-4sYNZ3vkIbg.mp3-part-30.wav\n"
     ]
    },
    {
     "name": "stderr",
     "output_type": "stream",
     "text": [
      "  9%|▉         | 11449/130662 [12:08<31:15, 63.56it/s]"
     ]
    },
    {
     "name": "stdout",
     "output_type": "stream",
     "text": [
      "skipped semisupervised-malay/output-wav/Ruang-Masa-Hiperbolik-Wujud-Di-Dunia-Sebenar!-1v-n23HAi7M.mp3-part-31.wav\n"
     ]
    },
    {
     "name": "stderr",
     "output_type": "stream",
     "text": [
      "  9%|▉         | 11759/130662 [12:13<35:05, 56.48it/s]"
     ]
    },
    {
     "name": "stdout",
     "output_type": "stream",
     "text": [
      "skipped semisupervised-malay/output-wav/Buang-BERHALA-Yang-Duduk-Di-Hati-Kita-😥-_-Ustaz-Ahmad-Rizam-EP2qcEFmFD8.mp3-part-312.wav\n"
     ]
    },
    {
     "name": "stderr",
     "output_type": "stream",
     "text": [
      "  9%|▉         | 11951/130662 [12:17<34:38, 57.12it/s]"
     ]
    },
    {
     "name": "stdout",
     "output_type": "stream",
     "text": [
      "skipped semisupervised-malay/output-wav/Manusia-Cukup-TAK-SUKA-Dua-Benda-Ini-😮-_-Ustaz-Dato-Kazim-Elias--t8sUAMQ94M.mp3-part-62.wav\n"
     ]
    },
    {
     "name": "stderr",
     "output_type": "stream",
     "text": [
      "  9%|▉         | 11987/130662 [12:17<30:16, 65.32it/s]"
     ]
    },
    {
     "name": "stdout",
     "output_type": "stream",
     "text": [
      "skipped semisupervised-malay/output-wav/Bila-Mata-Bertentang-Mata-❤️-_-Ustaz-Mohd-Lukmanul-Hakim-Wm-8ZeLyux0.mp3-part-198.wav\n"
     ]
    },
    {
     "name": "stderr",
     "output_type": "stream",
     "text": [
      "  9%|▉         | 12082/130662 [12:19<29:59, 65.88it/s]"
     ]
    },
    {
     "name": "stdout",
     "output_type": "stream",
     "text": [
      "skipped semisupervised-malay/output-wav/Ruang-Masa-Hiperbolik-Wujud-Di-Dunia-Sebenar!-1v-n23HAi7M.mp3-part-22.wav\n"
     ]
    },
    {
     "name": "stderr",
     "output_type": "stream",
     "text": [
      "  9%|▉         | 12170/130662 [12:21<29:22, 67.25it/s]"
     ]
    },
    {
     "name": "stdout",
     "output_type": "stream",
     "text": [
      "skipped semisupervised-malay/output-wav/Pengalaman-Pertama-Kali-Tidur-Dalam-Kereta-Api-Dari-Malaysia-Ke-Thailand-WKi6VUFzjuo.mp3-part-35.wav\n"
     ]
    },
    {
     "name": "stderr",
     "output_type": "stream",
     "text": [
      "  9%|▉         | 12343/130662 [12:24<29:04, 67.83it/s]"
     ]
    },
    {
     "name": "stdout",
     "output_type": "stream",
     "text": [
      "skipped semisupervised-malay/output-wav/WACANA-ILMU----KLIK-DENGAN-BIJAK-L9urGAc2084.mp3-part-310.wav\n"
     ]
    },
    {
     "name": "stderr",
     "output_type": "stream",
     "text": [
      "  9%|▉         | 12372/130662 [12:24<39:36, 49.78it/s]"
     ]
    },
    {
     "name": "stdout",
     "output_type": "stream",
     "text": [
      "skipped semisupervised-malay/output-wav/WACANA-ILMU----KERANGKA-STANDARD-BAHASA-MELAYU-(KSBM)-PENTAKSIRAN-DARIPADA-PERSPEKTIF-KSBM-qbFORSE48cQ.mp3-part-72.wav\n"
     ]
    },
    {
     "name": "stderr",
     "output_type": "stream",
     "text": [
      " 10%|▉         | 12574/130662 [12:28<32:57, 59.73it/s]"
     ]
    },
    {
     "name": "stdout",
     "output_type": "stream",
     "text": [
      "skipped semisupervised-malay/output-wav/RAHSIA-MELIHAT-KE-DALAM-DIRI-(PODCAST)-sw5h9hlityE.mp3-part-55.wav\n"
     ]
    },
    {
     "name": "stderr",
     "output_type": "stream",
     "text": [
      " 10%|▉         | 12733/130662 [12:31<43:24, 45.28it/s]"
     ]
    },
    {
     "name": "stdout",
     "output_type": "stream",
     "text": [
      "skipped semisupervised-malay/output-wav/WACANA-ILMU----VIA-KAUNSELOR---Kaunseling-Untuk-Semua--Sd927cAvnQ.mp3-part-377.wav\n"
     ]
    },
    {
     "name": "stderr",
     "output_type": "stream",
     "text": [
      " 10%|█         | 13069/130662 [12:37<30:05, 65.13it/s]"
     ]
    },
    {
     "name": "stdout",
     "output_type": "stream",
     "text": [
      "skipped semisupervised-malay/output-wav/Ratu-Balqis-Anak-Dari-Golongan-JIN--😯-_-Ustaz-Auni-Mohamed-arZATVyf8j8.mp3-part-35.wav\n"
     ]
    },
    {
     "name": "stderr",
     "output_type": "stream",
     "text": [
      " 10%|█         | 13140/130662 [12:38<31:24, 62.35it/s]"
     ]
    },
    {
     "name": "stdout",
     "output_type": "stream",
     "text": [
      "skipped semisupervised-malay/output-wav/Buang-BERHALA-Yang-Duduk-Di-Hati-Kita-😥-_-Ustaz-Ahmad-Rizam-EP2qcEFmFD8.mp3-part-345.wav\n"
     ]
    },
    {
     "name": "stderr",
     "output_type": "stream",
     "text": [
      " 10%|█         | 13188/130662 [12:39<43:34, 44.93it/s]"
     ]
    },
    {
     "name": "stdout",
     "output_type": "stream",
     "text": [
      "skipped semisupervised-malay/output-wav/Afrika-Ep1----Bergaduh-dengan-orang-Afrika-di-Airport-Nairobi-Kenya-mNZRQE-QDiM.mp3-part-22.wav\n"
     ]
    },
    {
     "name": "stderr",
     "output_type": "stream",
     "text": [
      " 10%|█         | 13230/130662 [12:40<31:01, 63.07it/s]"
     ]
    },
    {
     "name": "stdout",
     "output_type": "stream",
     "text": [
      "skipped semisupervised-malay/output-wav/Ini-Bukan-Kuning-iqxyI-eYK3M.mp3-part-26.wav\n"
     ]
    },
    {
     "name": "stderr",
     "output_type": "stream",
     "text": [
      " 10%|█         | 13486/130662 [12:44<32:56, 59.29it/s]"
     ]
    },
    {
     "name": "stdout",
     "output_type": "stream",
     "text": [
      "skipped semisupervised-malay/output-wav/Konsep-TAWASSUL-Dalam-Islam-_-Ustaz-Mohd-Anuar-mQuUzU8xQ44.mp3-part-180.wav\n"
     ]
    },
    {
     "name": "stderr",
     "output_type": "stream",
     "text": [
      " 11%|█         | 13912/130662 [12:52<37:57, 51.27it/s]"
     ]
    },
    {
     "name": "stdout",
     "output_type": "stream",
     "text": [
      "skipped semisupervised-malay/output-wav/Nak-Sambut-DEKAD-Baru-2020-Tengok-Video-Ni-Dulu.-QO-YWGQvb1Q.mp3-part-14.wav\n"
     ]
    },
    {
     "name": "stderr",
     "output_type": "stream",
     "text": [
      " 11%|█         | 13971/130662 [12:53<29:51, 65.15it/s]"
     ]
    },
    {
     "name": "stdout",
     "output_type": "stream",
     "text": [
      "skipped semisupervised-malay/output-wav/IPGM----Cabaran-VUCA-Dari-Perspektif-Pendidikan-Guru-dan-PAK-21-QOCbT-XH36I.mp3-part-192.wav\n"
     ]
    },
    {
     "name": "stderr",
     "output_type": "stream",
     "text": [
      " 11%|█         | 14015/130662 [12:54<32:47, 59.30it/s]"
     ]
    },
    {
     "name": "stdout",
     "output_type": "stream",
     "text": [
      "skipped semisupervised-malay/output-wav/65-_-Wahai-Anak,-Allah-Akan-Menguji-Kamu-!-_-Ustaz-Wadi-Annuar-0ZKxMaNusTA.mp3-part-260.wav\n"
     ]
    },
    {
     "name": "stderr",
     "output_type": "stream",
     "text": [
      " 11%|█         | 14183/130662 [12:57<40:08, 48.36it/s]"
     ]
    },
    {
     "name": "stdout",
     "output_type": "stream",
     "text": [
      "skipped semisupervised-malay/output-wav/Siapa-Buat-Soalan-IQ-Pelik-Ni-Kenapa-HGFCASE37OQ.mp3-part-1.wav\n"
     ]
    },
    {
     "name": "stderr",
     "output_type": "stream",
     "text": [
      " 11%|█         | 14596/130662 [13:04<31:24, 61.60it/s]"
     ]
    },
    {
     "name": "stdout",
     "output_type": "stream",
     "text": [
      "skipped semisupervised-malay/output-wav/Buang-BERHALA-Yang-Duduk-Di-Hati-Kita-😥-_-Ustaz-Ahmad-Rizam-EP2qcEFmFD8.mp3-part-453.wav\n"
     ]
    },
    {
     "name": "stderr",
     "output_type": "stream",
     "text": [
      " 11%|█▏        | 14844/130662 [13:09<30:50, 62.60it/s]"
     ]
    },
    {
     "name": "stdout",
     "output_type": "stream",
     "text": [
      "skipped semisupervised-malay/output-wav/WACANA-ILMU----KELESTARIAN-PROSPEN-IPG,-KECEMERLANGAN-ORGANISASI-t__QLuABpvw.mp3-part-600.wav\n"
     ]
    },
    {
     "name": "stderr",
     "output_type": "stream",
     "text": [
      " 12%|█▏        | 15030/130662 [13:12<31:07, 61.93it/s]"
     ]
    },
    {
     "name": "stdout",
     "output_type": "stream",
     "text": [
      "skipped semisupervised-malay/output-wav/WACANA-ILMU----MENJANA--EKONOMI-PASCA--COVID-19-gqo3pB3FVmg.mp3-part-513.wav\n",
      "skipped semisupervised-malay/output-wav/Buang-BERHALA-Yang-Duduk-Di-Hati-Kita-😥-_-Ustaz-Ahmad-Rizam-EP2qcEFmFD8.mp3-part-448.wav\n"
     ]
    },
    {
     "name": "stderr",
     "output_type": "stream",
     "text": [
      " 12%|█▏        | 15136/130662 [13:14<30:52, 62.35it/s]"
     ]
    },
    {
     "name": "stdout",
     "output_type": "stream",
     "text": [
      "skipped semisupervised-malay/output-wav/Doa-Orang-Yang-Dizalimi-Sangat-BERACUN-_-Ustaz-Mohd-Aslam-IFhlmN0bDyI.mp3-part-79.wav\n"
     ]
    },
    {
     "name": "stderr",
     "output_type": "stream",
     "text": [
      " 12%|█▏        | 15188/130662 [13:15<32:52, 58.53it/s]"
     ]
    },
    {
     "name": "stdout",
     "output_type": "stream",
     "text": [
      "skipped semisupervised-malay/output-wav/Ruang-Masa-Hiperbolik-Wujud-Di-Dunia-Sebenar!-1v-n23HAi7M.mp3-part-27.wav\n"
     ]
    },
    {
     "name": "stderr",
     "output_type": "stream",
     "text": [
      " 12%|█▏        | 15204/130662 [13:15<30:05, 63.94it/s]"
     ]
    },
    {
     "name": "stdout",
     "output_type": "stream",
     "text": [
      "skipped semisupervised-malay/output-wav/65-_-Wahai-Anak,-Allah-Akan-Menguji-Kamu-!-_-Ustaz-Wadi-Annuar-0ZKxMaNusTA.mp3-part-291.wav\n"
     ]
    },
    {
     "name": "stderr",
     "output_type": "stream",
     "text": [
      " 12%|█▏        | 15221/130662 [13:16<27:40, 69.52it/s]"
     ]
    },
    {
     "name": "stdout",
     "output_type": "stream",
     "text": [
      "skipped semisupervised-malay/output-wav/65-_-Wahai-Anak,-Allah-Akan-Menguji-Kamu-!-_-Ustaz-Wadi-Annuar-0ZKxMaNusTA.mp3-part-433.wav\n"
     ]
    },
    {
     "name": "stderr",
     "output_type": "stream",
     "text": [
      " 12%|█▏        | 15389/130662 [13:19<31:41, 60.61it/s]"
     ]
    },
    {
     "name": "stdout",
     "output_type": "stream",
     "text": [
      "skipped semisupervised-malay/output-wav/65-_-Wahai-Anak,-Allah-Akan-Menguji-Kamu-!-_-Ustaz-Wadi-Annuar-0ZKxMaNusTA.mp3-part-66.wav\n"
     ]
    },
    {
     "name": "stderr",
     "output_type": "stream",
     "text": [
      " 12%|█▏        | 15412/130662 [13:19<30:14, 63.51it/s]"
     ]
    },
    {
     "name": "stdout",
     "output_type": "stream",
     "text": [
      "skipped semisupervised-malay/output-wav/Buang-BERHALA-Yang-Duduk-Di-Hati-Kita-😥-_-Ustaz-Ahmad-Rizam-EP2qcEFmFD8.mp3-part-162.wav\n"
     ]
    },
    {
     "name": "stderr",
     "output_type": "stream",
     "text": [
      " 12%|█▏        | 15626/130662 [13:23<40:03, 47.86it/s]"
     ]
    },
    {
     "name": "stdout",
     "output_type": "stream",
     "text": [
      "skipped semisupervised-malay/output-wav/Podcast-Bekpek---Berbasikal-Malaysia-Ke-Mekah(Ditahan-dan-dibawa-Kem-Askar-Pakistan-Semasa-Di-Gunung)-_bfH3pxuOoM.mp3-part-464.wav\n"
     ]
    },
    {
     "name": "stderr",
     "output_type": "stream",
     "text": [
      " 12%|█▏        | 15679/130662 [13:24<28:43, 66.70it/s]"
     ]
    },
    {
     "name": "stdout",
     "output_type": "stream",
     "text": [
      "skipped semisupervised-malay/output-wav/Pengalaman-Pertama-Kali-Tidur-Dalam-Kereta-Api-Dari-Malaysia-Ke-Thailand-WKi6VUFzjuo.mp3-part-32.wav\n"
     ]
    },
    {
     "name": "stderr",
     "output_type": "stream",
     "text": [
      " 12%|█▏        | 15700/130662 [13:24<29:04, 65.91it/s]"
     ]
    },
    {
     "name": "stdout",
     "output_type": "stream",
     "text": [
      "skipped semisupervised-malay/output-wav/Nak-Sambut-DEKAD-Baru-2020-Tengok-Video-Ni-Dulu.-QO-YWGQvb1Q.mp3-part-16.wav\n"
     ]
    },
    {
     "name": "stderr",
     "output_type": "stream",
     "text": [
      " 12%|█▏        | 15876/130662 [13:27<29:32, 64.77it/s]"
     ]
    },
    {
     "name": "stdout",
     "output_type": "stream",
     "text": [
      "skipped semisupervised-malay/output-wav/Misteri-Panjang-Sebenar-Malaysia-Z2KnOKHBWFY.mp3-part-4.wav\n"
     ]
    },
    {
     "name": "stderr",
     "output_type": "stream",
     "text": [
      " 12%|█▏        | 15963/130662 [13:29<28:57, 66.01it/s]"
     ]
    },
    {
     "name": "stdout",
     "output_type": "stream",
     "text": [
      "skipped semisupervised-malay/output-wav/Ruang-Masa-Hiperbolik-Wujud-Di-Dunia-Sebenar!-1v-n23HAi7M.mp3-part-0.wav\n"
     ]
    },
    {
     "name": "stderr",
     "output_type": "stream",
     "text": [
      " 12%|█▏        | 16194/130662 [13:33<31:19, 60.92it/s]"
     ]
    },
    {
     "name": "stdout",
     "output_type": "stream",
     "text": [
      "skipped semisupervised-malay/output-wav/TAWASSUL-Dengan-Orang-Soleh-Yang-Masih-Hidup-🤔-_-Ustaz-Mohd-Anuar-ZFw2QoiRi68.mp3-part-79.wav\n"
     ]
    },
    {
     "name": "stderr",
     "output_type": "stream",
     "text": [
      " 12%|█▏        | 16245/130662 [13:34<29:32, 64.54it/s]"
     ]
    },
    {
     "name": "stdout",
     "output_type": "stream",
     "text": [
      "skipped semisupervised-malay/output-wav/Bila-Mata-Bertentang-Mata-❤️-_-Ustaz-Mohd-Lukmanul-Hakim-Wm-8ZeLyux0.mp3-part-219.wav\n"
     ]
    },
    {
     "name": "stderr",
     "output_type": "stream",
     "text": [
      " 12%|█▏        | 16316/130662 [13:35<31:46, 59.98it/s]"
     ]
    },
    {
     "name": "stdout",
     "output_type": "stream",
     "text": [
      "skipped semisupervised-malay/output-wav/IPGM----Cabaran-VUCA-Dari-Perspektif-Pendidikan-Guru-dan-PAK-21-QOCbT-XH36I.mp3-part-261.wav\n"
     ]
    },
    {
     "name": "stderr",
     "output_type": "stream",
     "text": [
      " 13%|█▎        | 16490/130662 [13:38<28:51, 65.95it/s]"
     ]
    },
    {
     "name": "stdout",
     "output_type": "stream",
     "text": [
      "skipped semisupervised-malay/output-wav/65-_-Wahai-Anak,-Allah-Akan-Menguji-Kamu-!-_-Ustaz-Wadi-Annuar-0ZKxMaNusTA.mp3-part-480.wav\n"
     ]
    },
    {
     "name": "stderr",
     "output_type": "stream",
     "text": [
      " 13%|█▎        | 16760/130662 [13:43<30:58, 61.30it/s]"
     ]
    },
    {
     "name": "stdout",
     "output_type": "stream",
     "text": [
      "skipped semisupervised-malay/output-wav/80-Peratus-Siswa-Matematik-UKM-Salah-Jawab-Soalan-Mudah-Ni!-Kenapa-YKe-mzGU0JU.mp3-part-14.wav\n"
     ]
    },
    {
     "name": "stderr",
     "output_type": "stream",
     "text": [
      " 13%|█▎        | 17224/130662 [13:51<30:30, 61.96it/s]"
     ]
    },
    {
     "name": "stdout",
     "output_type": "stream",
     "text": [
      "skipped semisupervised-malay/output-wav/Pengalaman-Pertama-Kali-Tidur-Dalam-Kereta-Api-Dari-Malaysia-Ke-Thailand-WKi6VUFzjuo.mp3-part-38.wav\n"
     ]
    },
    {
     "name": "stderr",
     "output_type": "stream",
     "text": [
      " 14%|█▎        | 17777/130662 [14:02<32:20, 58.17it/s]"
     ]
    },
    {
     "name": "stdout",
     "output_type": "stream",
     "text": [
      "skipped semisupervised-malay/output-wav/WACANA-ILMU-KPM---NORMA-BAHARU-PENJAWAT-AWAM-YNuLH_RP_v0.mp3-part-482.wav\n"
     ]
    },
    {
     "name": "stderr",
     "output_type": "stream",
     "text": [
      " 14%|█▎        | 17921/130662 [14:04<29:39, 63.36it/s]"
     ]
    },
    {
     "name": "stdout",
     "output_type": "stream",
     "text": [
      "skipped semisupervised-malay/output-wav/210-_-Operasi-SARIYYAH-😯-_-Ustaz-Auni-Mohamed-uZ4KTG1gQoI.mp3-part-156.wav\n"
     ]
    },
    {
     "name": "stderr",
     "output_type": "stream",
     "text": [
      " 14%|█▎        | 17964/130662 [14:05<31:21, 59.90it/s]"
     ]
    },
    {
     "name": "stdout",
     "output_type": "stream",
     "text": [
      "skipped semisupervised-malay/output-wav/IPGM----Cabaran-VUCA-Dari-Perspektif-Pendidikan-Guru-dan-PAK-21-QOCbT-XH36I.mp3-part-289.wav\n"
     ]
    },
    {
     "name": "stderr",
     "output_type": "stream",
     "text": [
      " 14%|█▍        | 18242/130662 [14:10<30:49, 60.79it/s]"
     ]
    },
    {
     "name": "stdout",
     "output_type": "stream",
     "text": [
      "skipped semisupervised-malay/output-wav/Ciri-Ciri-Nabi-Akhir-Zaman-Dalam-Kitab-TAURAT-😮-_-Ustaz-Auni-Mohamed-VFC4UDw8ju0.mp3-part-128.wav\n"
     ]
    },
    {
     "name": "stderr",
     "output_type": "stream",
     "text": [
      " 14%|█▍        | 18509/130662 [14:15<29:17, 63.80it/s]"
     ]
    },
    {
     "name": "stdout",
     "output_type": "stream",
     "text": [
      "skipped semisupervised-malay/output-wav/Konsep-TAWASSUL-Dalam-Islam-_-Ustaz-Mohd-Anuar-mQuUzU8xQ44.mp3-part-258.wav\n"
     ]
    },
    {
     "name": "stderr",
     "output_type": "stream",
     "text": [
      " 14%|█▍        | 18880/130662 [14:21<29:27, 63.24it/s]"
     ]
    },
    {
     "name": "stdout",
     "output_type": "stream",
     "text": [
      "skipped semisupervised-malay/output-wav/Ruang-Masa-Hiperbolik-Wujud-Di-Dunia-Sebenar!-1v-n23HAi7M.mp3-part-20.wav\n"
     ]
    },
    {
     "name": "stderr",
     "output_type": "stream",
     "text": [
      " 15%|█▍        | 18964/130662 [14:23<31:38, 58.83it/s]"
     ]
    },
    {
     "name": "stdout",
     "output_type": "stream",
     "text": [
      "skipped semisupervised-malay/output-wav/WACANA-ILMU----PSIKO-GAJET-oJ0xApNXRBo.mp3-part-101.wav\n"
     ]
    },
    {
     "name": "stderr",
     "output_type": "stream",
     "text": [
      " 15%|█▍        | 19117/130662 [14:26<36:00, 51.62it/s]"
     ]
    },
    {
     "name": "stdout",
     "output_type": "stream",
     "text": [
      "skipped semisupervised-malay/output-wav/214-_-Apa-Yang-Hud-Hud-Mahu-Khabarkan-🤔-_-Ustaz-Auni-Mohamed-rARJlDAJEgE.mp3-part-108.wav\n"
     ]
    },
    {
     "name": "stderr",
     "output_type": "stream",
     "text": [
      " 15%|█▍        | 19317/130662 [14:29<30:49, 60.21it/s]"
     ]
    },
    {
     "name": "stdout",
     "output_type": "stream",
     "text": [
      "skipped semisupervised-malay/output-wav/Bila-Mata-Bertentang-Mata-❤️-_-Ustaz-Mohd-Lukmanul-Hakim-Wm-8ZeLyux0.mp3-part-296.wav\n"
     ]
    },
    {
     "name": "stderr",
     "output_type": "stream",
     "text": [
      " 15%|█▍        | 19333/130662 [14:29<28:04, 66.09it/s]"
     ]
    },
    {
     "name": "stdout",
     "output_type": "stream",
     "text": [
      "skipped semisupervised-malay/output-wav/Buang-BERHALA-Yang-Duduk-Di-Hati-Kita-😥-_-Ustaz-Ahmad-Rizam-EP2qcEFmFD8.mp3-part-110.wav\n"
     ]
    },
    {
     "name": "stderr",
     "output_type": "stream",
     "text": [
      " 15%|█▍        | 19355/130662 [14:30<28:53, 64.22it/s]"
     ]
    },
    {
     "name": "stdout",
     "output_type": "stream",
     "text": [
      "skipped semisupervised-malay/output-wav/WACANA-ILMU----KERANGKA-STANDARD-BAHASA-MELAYU-(KSBM)-PENTAKSIRAN-DARIPADA-PERSPEKTIF-KSBM-qbFORSE48cQ.mp3-part-300.wav\n"
     ]
    },
    {
     "name": "stderr",
     "output_type": "stream",
     "text": [
      " 15%|█▍        | 19385/130662 [14:30<35:21, 52.46it/s]"
     ]
    },
    {
     "name": "stdout",
     "output_type": "stream",
     "text": [
      "skipped semisupervised-malay/output-wav/WACANA-ILMU----KERANGKA-STANDARD-BAHASA-MELAYU-(KSBM)-PENTAKSIRAN-DARIPADA-PERSPEKTIF-KSBM-qbFORSE48cQ.mp3-part-638.wav\n"
     ]
    },
    {
     "name": "stderr",
     "output_type": "stream",
     "text": [
      " 15%|█▌        | 19617/130662 [14:35<29:32, 62.66it/s]"
     ]
    },
    {
     "name": "stdout",
     "output_type": "stream",
     "text": [
      "skipped semisupervised-malay/output-wav/Buang-BERHALA-Yang-Duduk-Di-Hati-Kita-😥-_-Ustaz-Ahmad-Rizam-EP2qcEFmFD8.mp3-part-547.wav\n"
     ]
    },
    {
     "name": "stderr",
     "output_type": "stream",
     "text": [
      " 15%|█▌        | 19830/130662 [14:39<35:26, 52.11it/s]"
     ]
    },
    {
     "name": "stdout",
     "output_type": "stream",
     "text": [
      "skipped semisupervised-malay/output-wav/Pengintegrasian-Elemen-Pendidikan-Kewangan-Dalam-Kurikulum-Persekolahan.-NeiArFP2Itc.mp3-part-591.wav\n"
     ]
    },
    {
     "name": "stderr",
     "output_type": "stream",
     "text": [
      " 15%|█▌        | 20120/130662 [14:44<31:20, 58.79it/s]"
     ]
    },
    {
     "name": "stdout",
     "output_type": "stream",
     "text": [
      "skipped semisupervised-malay/output-wav/IPGM----Cabaran-VUCA-Dari-Perspektif-Pendidikan-Guru-dan-PAK-21-QOCbT-XH36I.mp3-part-551.wav\n"
     ]
    },
    {
     "name": "stderr",
     "output_type": "stream",
     "text": [
      " 15%|█▌        | 20224/130662 [14:46<31:16, 58.87it/s]"
     ]
    },
    {
     "name": "stdout",
     "output_type": "stream",
     "text": [
      "skipped semisupervised-malay/output-wav/65-_-Wahai-Anak,-Allah-Akan-Menguji-Kamu-!-_-Ustaz-Wadi-Annuar-0ZKxMaNusTA.mp3-part-106.wav\n"
     ]
    },
    {
     "name": "stderr",
     "output_type": "stream",
     "text": [
      " 15%|█▌        | 20239/130662 [14:46<28:47, 63.91it/s]"
     ]
    },
    {
     "name": "stdout",
     "output_type": "stream",
     "text": [
      "skipped semisupervised-malay/output-wav/Pengintegrasian-Elemen-Pendidikan-Kewangan-Dalam-Kurikulum-Persekolahan.-NeiArFP2Itc.mp3-part-971.wav\n"
     ]
    },
    {
     "name": "stderr",
     "output_type": "stream",
     "text": [
      " 16%|█▌        | 20328/130662 [14:47<28:16, 65.02it/s]"
     ]
    },
    {
     "name": "stdout",
     "output_type": "stream",
     "text": [
      "skipped semisupervised-malay/output-wav/Sesi-3----Rahsia-Roh-Menggerakkan-Kita-glR3xP2HTS0.mp3-part-13.wav\n"
     ]
    },
    {
     "name": "stderr",
     "output_type": "stream",
     "text": [
      " 16%|█▌        | 20357/130662 [14:48<28:05, 65.46it/s]"
     ]
    },
    {
     "name": "stdout",
     "output_type": "stream",
     "text": [
      "skipped semisupervised-malay/output-wav/Hantu---Hantu-Malaya-enDHYM-0INM.mp3-part-59.wav\n"
     ]
    },
    {
     "name": "stderr",
     "output_type": "stream",
     "text": [
      " 16%|█▌        | 20480/130662 [14:50<32:36, 56.30it/s]"
     ]
    },
    {
     "name": "stdout",
     "output_type": "stream",
     "text": [
      "skipped semisupervised-malay/output-wav/FORUM-PSIKOLOGI-KEPIMPINAN----Aplikasi-Psikologi-dan-Kaunseling-Dalam-Pengurusan-Sumber-Manusia-6G0N1OrIR4k.mp3-part-269.wav\n"
     ]
    },
    {
     "name": "stderr",
     "output_type": "stream",
     "text": [
      " 16%|█▌        | 20722/130662 [14:54<29:37, 61.85it/s]"
     ]
    },
    {
     "name": "stdout",
     "output_type": "stream",
     "text": [
      "skipped semisupervised-malay/output-wav/WACANA-ILMU----KELESTARIAN-PROSPEN-IPG,-KECEMERLANGAN-ORGANISASI-t__QLuABpvw.mp3-part-398.wav\n"
     ]
    },
    {
     "name": "stderr",
     "output_type": "stream",
     "text": [
      " 16%|█▌        | 21011/130662 [15:00<41:52, 43.65it/s]"
     ]
    },
    {
     "name": "stdout",
     "output_type": "stream",
     "text": [
      "skipped semisupervised-malay/output-wav/PODCAST-[Bahasa-Malaysia]-VlmIyZllgz0.mp3-part-93.wav\n"
     ]
    },
    {
     "name": "stderr",
     "output_type": "stream",
     "text": [
      " 16%|█▋        | 21314/130662 [15:05<30:55, 58.92it/s]"
     ]
    },
    {
     "name": "stdout",
     "output_type": "stream",
     "text": [
      "skipped semisupervised-malay/output-wav/65-_-Wahai-Anak,-Allah-Akan-Menguji-Kamu-!-_-Ustaz-Wadi-Annuar-0ZKxMaNusTA.mp3-part-502.wav\n",
      "skipped semisupervised-malay/output-wav/Pengalaman-Pertama-Kali-Tidur-Dalam-Kereta-Api-Dari-Malaysia-Ke-Thailand-WKi6VUFzjuo.mp3-part-26.wav\n"
     ]
    },
    {
     "name": "stderr",
     "output_type": "stream",
     "text": [
      " 16%|█▋        | 21456/130662 [15:08<40:43, 44.70it/s]"
     ]
    },
    {
     "name": "stdout",
     "output_type": "stream",
     "text": [
      "skipped semisupervised-malay/output-wav/Buang-BERHALA-Yang-Duduk-Di-Hati-Kita-😥-_-Ustaz-Ahmad-Rizam-EP2qcEFmFD8.mp3-part-504.wav\n"
     ]
    },
    {
     "name": "stderr",
     "output_type": "stream",
     "text": [
      " 16%|█▋        | 21506/130662 [15:08<28:19, 64.22it/s]"
     ]
    },
    {
     "name": "stdout",
     "output_type": "stream",
     "text": [
      "skipped semisupervised-malay/output-wav/Ini-Bukan-Kuning-iqxyI-eYK3M.mp3-part-6.wav\n",
      "skipped semisupervised-malay/output-wav/Nak-Sambut-DEKAD-Baru-2020-Tengok-Video-Ni-Dulu.-QO-YWGQvb1Q.mp3-part-21.wav\n"
     ]
    },
    {
     "name": "stderr",
     "output_type": "stream",
     "text": [
      " 17%|█▋        | 21829/130662 [15:14<32:03, 56.58it/s]"
     ]
    },
    {
     "name": "stdout",
     "output_type": "stream",
     "text": [
      "skipped semisupervised-malay/output-wav/Bosan-Dok-Rumah-Meh-Jawab-Soalan-Uji-Minda-Best-Ni!-e6FH8wtaltw.mp3-part-44.wav\n"
     ]
    },
    {
     "name": "stderr",
     "output_type": "stream",
     "text": [
      " 17%|█▋        | 21927/130662 [15:16<33:10, 54.62it/s]"
     ]
    },
    {
     "name": "stdout",
     "output_type": "stream",
     "text": [
      "skipped semisupervised-malay/output-wav/Ini-Bukan-Kuning-iqxyI-eYK3M.mp3-part-18.wav\n"
     ]
    },
    {
     "name": "stderr",
     "output_type": "stream",
     "text": [
      " 17%|█▋        | 22307/130662 [15:23<29:04, 62.11it/s]"
     ]
    },
    {
     "name": "stdout",
     "output_type": "stream",
     "text": [
      "skipped semisupervised-malay/output-wav/Podcast-Bekpek----Dikejar-Yakuza-Ketika-Berbasikal-Di-Jepun-Selama-Sebulan-_Zsx149RtiU.mp3-part-61.wav\n"
     ]
    },
    {
     "name": "stderr",
     "output_type": "stream",
     "text": [
      " 17%|█▋        | 22374/130662 [15:24<32:21, 55.76it/s]"
     ]
    },
    {
     "name": "stdout",
     "output_type": "stream",
     "text": [
      "skipped semisupervised-malay/output-wav/Jalan-Masuk-Ke-SYURGA-_-Ustaz-Halim-Nasir-038_W7kvhI0.mp3-part-9.wav\n"
     ]
    },
    {
     "name": "stderr",
     "output_type": "stream",
     "text": [
      " 17%|█▋        | 22836/130662 [15:33<29:34, 60.76it/s]"
     ]
    },
    {
     "name": "stdout",
     "output_type": "stream",
     "text": [
      "skipped semisupervised-malay/output-wav/Buang-BERHALA-Yang-Duduk-Di-Hati-Kita-😥-_-Ustaz-Ahmad-Rizam-EP2qcEFmFD8.mp3-part-152.wav\n"
     ]
    },
    {
     "name": "stderr",
     "output_type": "stream",
     "text": [
      " 18%|█▊        | 22919/130662 [15:34<29:43, 60.41it/s]"
     ]
    },
    {
     "name": "stdout",
     "output_type": "stream",
     "text": [
      "skipped semisupervised-malay/output-wav/Bila-Mata-Bertentang-Mata-❤️-_-Ustaz-Mohd-Lukmanul-Hakim-Wm-8ZeLyux0.mp3-part-274.wav\n"
     ]
    },
    {
     "name": "stderr",
     "output_type": "stream",
     "text": [
      " 18%|█▊        | 23386/130662 [15:43<28:04, 63.68it/s]"
     ]
    },
    {
     "name": "stdout",
     "output_type": "stream",
     "text": [
      "skipped semisupervised-malay/output-wav/Sesi-2----Fahami-Realiti-Kerajaan-Diri-NSRWj5Zz7Qo.mp3-part-510.wav\n"
     ]
    },
    {
     "name": "stderr",
     "output_type": "stream",
     "text": [
      " 18%|█▊        | 23459/130662 [15:44<28:04, 63.65it/s]"
     ]
    },
    {
     "name": "stdout",
     "output_type": "stream",
     "text": [
      "skipped semisupervised-malay/output-wav/Ini-Bukan-Kuning-iqxyI-eYK3M.mp3-part-10.wav\n"
     ]
    },
    {
     "name": "stderr",
     "output_type": "stream",
     "text": [
      " 18%|█▊        | 23502/130662 [15:45<27:07, 65.85it/s]"
     ]
    },
    {
     "name": "stdout",
     "output_type": "stream",
     "text": [
      "skipped semisupervised-malay/output-wav/Buang-BERHALA-Yang-Duduk-Di-Hati-Kita-😥-_-Ustaz-Ahmad-Rizam-EP2qcEFmFD8.mp3-part-511.wav\n"
     ]
    },
    {
     "name": "stderr",
     "output_type": "stream",
     "text": [
      " 18%|█▊        | 24035/130662 [15:54<26:32, 66.94it/s]"
     ]
    },
    {
     "name": "stdout",
     "output_type": "stream",
     "text": [
      "skipped semisupervised-malay/output-wav/IPGM----Cabaran-VUCA-Dari-Perspektif-Pendidikan-Guru-dan-PAK-21-QOCbT-XH36I.mp3-part-254.wav\n"
     ]
    },
    {
     "name": "stderr",
     "output_type": "stream",
     "text": [
      " 19%|█▊        | 24249/130662 [15:58<29:53, 59.33it/s]"
     ]
    },
    {
     "name": "stdout",
     "output_type": "stream",
     "text": [
      "skipped semisupervised-malay/output-wav/209-_-Kisah-Qorun,-SI-KAYA-Yang-Binasa-😔-_-Ustaz-Auni-Mohamed-5Yu8ZklAV1Q.mp3-part-471.wav\n"
     ]
    },
    {
     "name": "stderr",
     "output_type": "stream",
     "text": [
      " 19%|█▊        | 24433/130662 [16:01<30:47, 57.49it/s]"
     ]
    },
    {
     "name": "stdout",
     "output_type": "stream",
     "text": [
      "skipped semisupervised-malay/output-wav/92-_-Cuba-Renung-Kisah-Ini-_-Ustaz-Wadi-Annuar-AVt7WL-ZR4Y.mp3-part-187.wav\n"
     ]
    },
    {
     "name": "stderr",
     "output_type": "stream",
     "text": [
      " 19%|█▉        | 25375/130662 [16:18<28:12, 62.21it/s]"
     ]
    },
    {
     "name": "stdout",
     "output_type": "stream",
     "text": [
      "skipped semisupervised-malay/output-wav/208-_-Hikmah-Penciptaan-Siang-&-Malam-😮-_-Ustaz-Auni-Mohamed-crqask4aeJ0.mp3-part-81.wav\n"
     ]
    },
    {
     "name": "stderr",
     "output_type": "stream",
     "text": [
      " 20%|█▉        | 25756/130662 [16:25<32:19, 54.08it/s]"
     ]
    },
    {
     "name": "stdout",
     "output_type": "stream",
     "text": [
      "skipped semisupervised-malay/output-wav/Dunia-Kita-Berapa-FPS-(Bahagian-2)-bjXTuQrpkC8.mp3-part-108.wav\n"
     ]
    },
    {
     "name": "stderr",
     "output_type": "stream",
     "text": [
      " 20%|█▉        | 25799/130662 [16:26<27:12, 64.23it/s]"
     ]
    },
    {
     "name": "stdout",
     "output_type": "stream",
     "text": [
      "skipped semisupervised-malay/output-wav/BICARA-PROFESIONAL----Pengurusan-Pembukaan-Semula-Sekolah-un7dcUafjSc.mp3-part-739.wav\n"
     ]
    },
    {
     "name": "stderr",
     "output_type": "stream",
     "text": [
      " 20%|█▉        | 26096/130662 [16:31<27:45, 62.77it/s]"
     ]
    },
    {
     "name": "stdout",
     "output_type": "stream",
     "text": [
      "skipped semisupervised-malay/output-wav/Ruang-Masa-Hiperbolik-Wujud-Di-Dunia-Sebenar!-1v-n23HAi7M.mp3-part-18.wav\n"
     ]
    },
    {
     "name": "stderr",
     "output_type": "stream",
     "text": [
      " 20%|██        | 26263/130662 [16:34<26:20, 66.06it/s]"
     ]
    },
    {
     "name": "stdout",
     "output_type": "stream",
     "text": [
      "skipped semisupervised-malay/output-wav/WACANA-ILMU----KELESTARIAN-PROSPEN-IPG,-KECEMERLANGAN-ORGANISASI-t__QLuABpvw.mp3-part-719.wav\n"
     ]
    },
    {
     "name": "stderr",
     "output_type": "stream",
     "text": [
      " 20%|██        | 26417/130662 [16:37<28:18, 61.37it/s]"
     ]
    },
    {
     "name": "stdout",
     "output_type": "stream",
     "text": [
      "skipped semisupervised-malay/output-wav/Mengamuk-Sebab-Tak-Scan--SlowTalk-Podcast-#04-JKnaHxIYHm8.mp3-part-22.wav\n"
     ]
    },
    {
     "name": "stderr",
     "output_type": "stream",
     "text": [
      " 20%|██        | 26607/130662 [16:40<26:24, 65.69it/s]"
     ]
    },
    {
     "name": "stdout",
     "output_type": "stream",
     "text": [
      "skipped semisupervised-malay/output-wav/Buang-BERHALA-Yang-Duduk-Di-Hati-Kita-😥-_-Ustaz-Ahmad-Rizam-EP2qcEFmFD8.mp3-part-306.wav\n"
     ]
    },
    {
     "name": "stderr",
     "output_type": "stream",
     "text": [
      " 20%|██        | 26766/130662 [16:43<28:33, 60.65it/s]"
     ]
    },
    {
     "name": "stdout",
     "output_type": "stream",
     "text": [
      "skipped semisupervised-malay/output-wav/WACANA-ILMU----PSIKO-GAJET-oJ0xApNXRBo.mp3-part-104.wav\n"
     ]
    },
    {
     "name": "stderr",
     "output_type": "stream",
     "text": [
      " 21%|██        | 27429/130662 [16:55<26:38, 64.60it/s]"
     ]
    },
    {
     "name": "stdout",
     "output_type": "stream",
     "text": [
      "skipped semisupervised-malay/output-wav/Pasal-Kau---Movie-Review-bRUjmsnE5ZU.mp3-part-100.wav\n"
     ]
    },
    {
     "name": "stderr",
     "output_type": "stream",
     "text": [
      " 21%|██        | 27686/130662 [16:59<26:18, 65.23it/s]"
     ]
    },
    {
     "name": "stdout",
     "output_type": "stream",
     "text": [
      "skipped semisupervised-malay/output-wav/BICARA-PROFESIONAL-KEPIMPINAN---PENGURUSAN-DAN-PEMATUHAN-SOP-PASCA-COVID-19-f2xNnNcwmK8.mp3-part-375.wav\n"
     ]
    },
    {
     "name": "stderr",
     "output_type": "stream",
     "text": [
      " 21%|██▏       | 28020/130662 [17:06<27:46, 61.61it/s]"
     ]
    },
    {
     "name": "stdout",
     "output_type": "stream",
     "text": [
      "skipped semisupervised-malay/output-wav/Buang-BERHALA-Yang-Duduk-Di-Hati-Kita-😥-_-Ustaz-Ahmad-Rizam-EP2qcEFmFD8.mp3-part-364.wav\n"
     ]
    },
    {
     "name": "stderr",
     "output_type": "stream",
     "text": [
      " 22%|██▏       | 28260/130662 [17:10<38:05, 44.80it/s]"
     ]
    },
    {
     "name": "stdout",
     "output_type": "stream",
     "text": [
      "skipped semisupervised-malay/output-wav/Dunia-Tamat-2038-4sYNZ3vkIbg.mp3-part-12.wav\n"
     ]
    },
    {
     "name": "stderr",
     "output_type": "stream",
     "text": [
      " 22%|██▏       | 28959/130662 [17:22<24:44, 68.53it/s]"
     ]
    },
    {
     "name": "stdout",
     "output_type": "stream",
     "text": [
      "skipped semisupervised-malay/output-wav/BICARA-PROFESIONAL-KPM---NORMAL-BAHARU-GURU-SATU-REALITI-MZCJCoBwuho.mp3-part-885.wav\n"
     ]
    },
    {
     "name": "stderr",
     "output_type": "stream",
     "text": [
      " 22%|██▏       | 29053/130662 [17:24<26:25, 64.10it/s]"
     ]
    },
    {
     "name": "stdout",
     "output_type": "stream",
     "text": [
      "skipped semisupervised-malay/output-wav/Pengalaman-Pertama-Kali-Tidur-Dalam-Kereta-Api-Dari-Malaysia-Ke-Thailand-WKi6VUFzjuo.mp3-part-31.wav\n"
     ]
    },
    {
     "name": "stderr",
     "output_type": "stream",
     "text": [
      " 22%|██▏       | 29089/130662 [17:25<30:07, 56.21it/s]"
     ]
    },
    {
     "name": "stdout",
     "output_type": "stream",
     "text": [
      "skipped semisupervised-malay/output-wav/Sesi-1----Rahsia-Minda,-Fikiran,-Akal-dan-Sedar-6f-8js73O1k.mp3-part-528.wav\n"
     ]
    },
    {
     "name": "stderr",
     "output_type": "stream",
     "text": [
      " 22%|██▏       | 29172/130662 [17:26<30:59, 54.56it/s]"
     ]
    },
    {
     "name": "stdout",
     "output_type": "stream",
     "text": [
      "skipped semisupervised-malay/output-wav/Ini-Golongan-Yang-Dimurkai-ALLAH-_-Ustaz-Mohd-Aslam-aHYimafirpg.mp3-part-232.wav\n"
     ]
    },
    {
     "name": "stderr",
     "output_type": "stream",
     "text": [
      " 23%|██▎       | 29470/130662 [17:32<25:54, 65.10it/s]"
     ]
    },
    {
     "name": "stdout",
     "output_type": "stream",
     "text": [
      "skipped semisupervised-malay/output-wav/Sesi-1----Rahsia-Minda,-Fikiran,-Akal-dan-Sedar-6f-8js73O1k.mp3-part-73.wav\n"
     ]
    },
    {
     "name": "stderr",
     "output_type": "stream",
     "text": [
      " 23%|██▎       | 29642/130662 [17:35<26:08, 64.41it/s]"
     ]
    },
    {
     "name": "stdout",
     "output_type": "stream",
     "text": [
      "skipped semisupervised-malay/output-wav/Troll-Paling-Best.-opAw8b75NQM.mp3-part-54.wav\n"
     ]
    },
    {
     "name": "stderr",
     "output_type": "stream",
     "text": [
      " 23%|██▎       | 29734/130662 [17:36<28:46, 58.44it/s]"
     ]
    },
    {
     "name": "stdout",
     "output_type": "stream",
     "text": [
      "skipped semisupervised-malay/output-wav/IPGM----Cabaran-VUCA-Dari-Perspektif-Pendidikan-Guru-dan-PAK-21-QOCbT-XH36I.mp3-part-48.wav\n",
      "skipped semisupervised-malay/output-wav/Siapa-Buat-Soalan-IQ-Pelik-Ni-Kenapa-HGFCASE37OQ.mp3-part-3.wav\n"
     ]
    },
    {
     "name": "stderr",
     "output_type": "stream",
     "text": [
      " 23%|██▎       | 29862/130662 [17:39<27:15, 61.65it/s]"
     ]
    },
    {
     "name": "stdout",
     "output_type": "stream",
     "text": [
      "skipped semisupervised-malay/output-wav/65-_-Wahai-Anak,-Allah-Akan-Menguji-Kamu-!-_-Ustaz-Wadi-Annuar-0ZKxMaNusTA.mp3-part-371.wav\n"
     ]
    },
    {
     "name": "stderr",
     "output_type": "stream",
     "text": [
      " 23%|██▎       | 29900/130662 [17:39<28:14, 59.47it/s]"
     ]
    },
    {
     "name": "stdout",
     "output_type": "stream",
     "text": [
      "skipped semisupervised-malay/output-wav/PODCAST-MELAYU-_-INI-CARA-SARJANA-TANPA-SKIPSI-_-HANGKATE-&-PAK-ENDRI-SANOPAKA-(-KETUA-STISIPOL-RH-)-e-eMNNxW3vo.mp3-part-19.wav\n"
     ]
    },
    {
     "name": "stderr",
     "output_type": "stream",
     "text": [
      " 23%|██▎       | 30282/130662 [17:46<26:38, 62.78it/s]"
     ]
    },
    {
     "name": "stdout",
     "output_type": "stream",
     "text": [
      "skipped semisupervised-malay/output-wav/Sesi-2----Fahami-Realiti-Kerajaan-Diri-NSRWj5Zz7Qo.mp3-part-5.wav\n",
      "skipped semisupervised-malay/output-wav/Menurut-Sains,-Gopal-Sebenarnya-Tersangat-OP-(Bahagian-2)-PKJshdf_FnM.mp3-part-100.wav\n"
     ]
    },
    {
     "name": "stderr",
     "output_type": "stream",
     "text": [
      " 23%|██▎       | 30373/130662 [17:48<27:42, 60.33it/s]"
     ]
    },
    {
     "name": "stdout",
     "output_type": "stream",
     "text": [
      "skipped semisupervised-malay/output-wav/Sesi-3----Rahsia-Roh-Menggerakkan-Kita-glR3xP2HTS0.mp3-part-720.wav\n"
     ]
    },
    {
     "name": "stderr",
     "output_type": "stream",
     "text": [
      " 24%|██▎       | 30824/130662 [17:56<34:27, 48.29it/s]"
     ]
    },
    {
     "name": "stdout",
     "output_type": "stream",
     "text": [
      "skipped semisupervised-malay/output-wav/Contoh-Terbaik-Orang-Yang-CERDIK-_-Syeikh-Muhd-Zainul-Asri-INq9ouq6EJc.mp3-part-434.wav\n",
      "skipped semisupervised-malay/output-wav/Buang-BERHALA-Yang-Duduk-Di-Hati-Kita-😥-_-Ustaz-Ahmad-Rizam-EP2qcEFmFD8.mp3-part-67.wav\n"
     ]
    },
    {
     "name": "stderr",
     "output_type": "stream",
     "text": [
      " 24%|██▎       | 30984/130662 [17:59<24:21, 68.18it/s]"
     ]
    },
    {
     "name": "stdout",
     "output_type": "stream",
     "text": [
      "skipped semisupervised-malay/output-wav/Sesi-4----Teknik-Meditasi-Untuk-Reprogram-Diri-ydoo5KXzJbg.mp3-part-6.wav\n"
     ]
    },
    {
     "name": "stderr",
     "output_type": "stream",
     "text": [
      " 24%|██▍       | 31076/130662 [18:00<25:07, 66.08it/s]"
     ]
    },
    {
     "name": "stdout",
     "output_type": "stream",
     "text": [
      "skipped semisupervised-malay/output-wav/Nak-Sambut-DEKAD-Baru-2020-Tengok-Video-Ni-Dulu.-QO-YWGQvb1Q.mp3-part-4.wav\n"
     ]
    },
    {
     "name": "stderr",
     "output_type": "stream",
     "text": [
      " 24%|██▍       | 31251/130662 [18:04<25:29, 65.02it/s]"
     ]
    },
    {
     "name": "stdout",
     "output_type": "stream",
     "text": [
      "skipped semisupervised-malay/output-wav/Buang-BERHALA-Yang-Duduk-Di-Hati-Kita-😥-_-Ustaz-Ahmad-Rizam-EP2qcEFmFD8.mp3-part-503.wav\n"
     ]
    },
    {
     "name": "stderr",
     "output_type": "stream",
     "text": [
      " 24%|██▍       | 31279/130662 [18:04<30:19, 54.62it/s]"
     ]
    },
    {
     "name": "stdout",
     "output_type": "stream",
     "text": [
      "skipped semisupervised-malay/output-wav/PODCAST-MELAYU-_-INI-CARA-SARJANA-TANPA-SKIPSI-_-HANGKATE-&-PAK-ENDRI-SANOPAKA-(-KETUA-STISIPOL-RH-)-e-eMNNxW3vo.mp3-part-170.wav\n"
     ]
    },
    {
     "name": "stderr",
     "output_type": "stream",
     "text": [
      " 24%|██▍       | 31343/130662 [18:05<26:04, 63.49it/s]"
     ]
    },
    {
     "name": "stdout",
     "output_type": "stream",
     "text": [
      "skipped semisupervised-malay/output-wav/65-_-Wahai-Anak,-Allah-Akan-Menguji-Kamu-!-_-Ustaz-Wadi-Annuar-0ZKxMaNusTA.mp3-part-368.wav\n"
     ]
    },
    {
     "name": "stderr",
     "output_type": "stream",
     "text": [
      " 24%|██▍       | 31831/130662 [18:14<28:07, 58.56it/s]"
     ]
    },
    {
     "name": "stdout",
     "output_type": "stream",
     "text": [
      "skipped semisupervised-malay/output-wav/WACANA-ILMU----Saya-OK!-Anda-Bagaimana-Te-funnFw3s.mp3-part-240.wav\n"
     ]
    },
    {
     "name": "stderr",
     "output_type": "stream",
     "text": [
      " 24%|██▍       | 31975/130662 [18:17<28:20, 58.03it/s]"
     ]
    },
    {
     "name": "stdout",
     "output_type": "stream",
     "text": [
      "skipped semisupervised-malay/output-wav/Buang-BERHALA-Yang-Duduk-Di-Hati-Kita-😥-_-Ustaz-Ahmad-Rizam-EP2qcEFmFD8.mp3-part-297.wav\n"
     ]
    },
    {
     "name": "stderr",
     "output_type": "stream",
     "text": [
      " 24%|██▍       | 32003/130662 [18:17<30:26, 54.02it/s]"
     ]
    },
    {
     "name": "stdout",
     "output_type": "stream",
     "text": [
      "skipped semisupervised-malay/output-wav/KULIAH-1-JAM---Nak-Ubah-Hidup,-Kena-Bermula-Dengan-Mengenali-Diri-_9ZBUQjJfMI.mp3-part-479.wav\n"
     ]
    },
    {
     "name": "stderr",
     "output_type": "stream",
     "text": [
      " 25%|██▍       | 32019/130662 [18:18<26:28, 62.10it/s]"
     ]
    },
    {
     "name": "stdout",
     "output_type": "stream",
     "text": [
      "skipped semisupervised-malay/output-wav/Pengintegrasian-Elemen-Pendidikan-Kewangan-Dalam-Kurikulum-Persekolahan.-NeiArFP2Itc.mp3-part-17.wav\n"
     ]
    },
    {
     "name": "stderr",
     "output_type": "stream",
     "text": [
      " 25%|██▍       | 32377/130662 [18:24<27:48, 58.90it/s]"
     ]
    },
    {
     "name": "stdout",
     "output_type": "stream",
     "text": [
      "skipped semisupervised-malay/output-wav/Buang-BERHALA-Yang-Duduk-Di-Hati-Kita-😥-_-Ustaz-Ahmad-Rizam-EP2qcEFmFD8.mp3-part-137.wav\n"
     ]
    },
    {
     "name": "stderr",
     "output_type": "stream",
     "text": [
      " 25%|██▍       | 32447/130662 [18:25<31:04, 52.69it/s]"
     ]
    },
    {
     "name": "stdout",
     "output_type": "stream",
     "text": [
      "skipped semisupervised-malay/output-wav/Sesi-1----Rahsia-Minda,-Fikiran,-Akal-dan-Sedar-6f-8js73O1k.mp3-part-9.wav\n"
     ]
    },
    {
     "name": "stderr",
     "output_type": "stream",
     "text": [
      " 25%|██▌       | 32736/130662 [18:31<26:41, 61.16it/s]"
     ]
    },
    {
     "name": "stdout",
     "output_type": "stream",
     "text": [
      "skipped semisupervised-malay/output-wav/IPGM----Cabaran-VUCA-Dari-Perspektif-Pendidikan-Guru-dan-PAK-21-QOCbT-XH36I.mp3-part-688.wav\n"
     ]
    },
    {
     "name": "stderr",
     "output_type": "stream",
     "text": [
      " 25%|██▌       | 32800/130662 [18:32<34:54, 46.72it/s]"
     ]
    },
    {
     "name": "stdout",
     "output_type": "stream",
     "text": [
      "skipped semisupervised-malay/output-wav/Buang-BERHALA-Yang-Duduk-Di-Hati-Kita-😥-_-Ustaz-Ahmad-Rizam-EP2qcEFmFD8.mp3-part-535.wav\n"
     ]
    },
    {
     "name": "stderr",
     "output_type": "stream",
     "text": [
      " 25%|██▌       | 32822/130662 [18:32<27:56, 58.37it/s]"
     ]
    },
    {
     "name": "stdout",
     "output_type": "stream",
     "text": [
      "skipped semisupervised-malay/output-wav/Buang-BERHALA-Yang-Duduk-Di-Hati-Kita-😥-_-Ustaz-Ahmad-Rizam-EP2qcEFmFD8.mp3-part-66.wav\n"
     ]
    },
    {
     "name": "stderr",
     "output_type": "stream",
     "text": [
      " 26%|██▌       | 33667/130662 [18:47<24:22, 66.32it/s]"
     ]
    },
    {
     "name": "stdout",
     "output_type": "stream",
     "text": [
      "skipped semisupervised-malay/output-wav/65-_-Wahai-Anak,-Allah-Akan-Menguji-Kamu-!-_-Ustaz-Wadi-Annuar-0ZKxMaNusTA.mp3-part-108.wav\n"
     ]
    },
    {
     "name": "stderr",
     "output_type": "stream",
     "text": [
      " 26%|██▌       | 33847/130662 [18:51<25:16, 63.84it/s]"
     ]
    },
    {
     "name": "stdout",
     "output_type": "stream",
     "text": [
      "skipped semisupervised-malay/output-wav/IPGM----Cabaran-VUCA-Dari-Perspektif-Pendidikan-Guru-dan-PAK-21-QOCbT-XH36I.mp3-part-114.wav\n"
     ]
    },
    {
     "name": "stderr",
     "output_type": "stream",
     "text": [
      " 26%|██▌       | 34023/130662 [18:54<25:51, 62.28it/s]"
     ]
    },
    {
     "name": "stdout",
     "output_type": "stream",
     "text": [
      "skipped semisupervised-malay/output-wav/Android-VS-iOS-(Instagram)-SlowTalk-Podcast-#06-JIOEzlTO6Kg.mp3-part-18.wav\n"
     ]
    },
    {
     "name": "stderr",
     "output_type": "stream",
     "text": [
      " 26%|██▌       | 34139/130662 [18:56<32:03, 50.17it/s]"
     ]
    },
    {
     "name": "stdout",
     "output_type": "stream",
     "text": [
      "skipped semisupervised-malay/output-wav/Episod-Penuh-Bing-_-70+-Minit-_-Eps-1-10-_-Bing-Bahasa-Malysia-jjoBv0X5fQA.mp3-part-12.wav\n"
     ]
    },
    {
     "name": "stderr",
     "output_type": "stream",
     "text": [
      " 27%|██▋       | 34744/130662 [19:07<26:27, 60.43it/s]"
     ]
    },
    {
     "name": "stdout",
     "output_type": "stream",
     "text": [
      "skipped semisupervised-malay/output-wav/65-_-Wahai-Anak,-Allah-Akan-Menguji-Kamu-!-_-Ustaz-Wadi-Annuar-0ZKxMaNusTA.mp3-part-403.wav\n"
     ]
    },
    {
     "name": "stderr",
     "output_type": "stream",
     "text": [
      " 27%|██▋       | 34901/130662 [19:10<25:07, 63.51it/s]"
     ]
    },
    {
     "name": "stdout",
     "output_type": "stream",
     "text": [
      "skipped semisupervised-malay/output-wav/Dunia-Tamat-2038-4sYNZ3vkIbg.mp3-part-22.wav\n"
     ]
    },
    {
     "name": "stderr",
     "output_type": "stream",
     "text": [
      " 27%|██▋       | 34959/130662 [19:11<29:32, 54.01it/s]"
     ]
    },
    {
     "name": "stdout",
     "output_type": "stream",
     "text": [
      "skipped semisupervised-malay/output-wav/Dunia-Tamat-2038-4sYNZ3vkIbg.mp3-part-34.wav\n"
     ]
    },
    {
     "name": "stderr",
     "output_type": "stream",
     "text": [
      " 27%|██▋       | 35142/130662 [19:15<28:56, 55.00it/s]"
     ]
    },
    {
     "name": "stdout",
     "output_type": "stream",
     "text": [
      "skipped semisupervised-malay/output-wav/Troll-Paling-Best.-opAw8b75NQM.mp3-part-84.wav\n"
     ]
    },
    {
     "name": "stderr",
     "output_type": "stream",
     "text": [
      " 27%|██▋       | 35311/130662 [19:18<29:46, 53.36it/s]"
     ]
    },
    {
     "name": "stdout",
     "output_type": "stream",
     "text": [
      "skipped semisupervised-malay/output-wav/Sesi-1----Rahsia-Minda,-Fikiran,-Akal-dan-Sedar-6f-8js73O1k.mp3-part-63.wav\n"
     ]
    },
    {
     "name": "stderr",
     "output_type": "stream",
     "text": [
      " 27%|██▋       | 35517/130662 [19:21<27:59, 56.66it/s]"
     ]
    },
    {
     "name": "stdout",
     "output_type": "stream",
     "text": [
      "skipped semisupervised-malay/output-wav/Buang-BERHALA-Yang-Duduk-Di-Hati-Kita-😥-_-Ustaz-Ahmad-Rizam-EP2qcEFmFD8.mp3-part-87.wav\n"
     ]
    },
    {
     "name": "stderr",
     "output_type": "stream",
     "text": [
      " 28%|██▊       | 36091/130662 [19:32<25:07, 62.75it/s]"
     ]
    },
    {
     "name": "stdout",
     "output_type": "stream",
     "text": [
      "skipped semisupervised-malay/output-wav/Nak-Sambut-DEKAD-Baru-2020-Tengok-Video-Ni-Dulu.-QO-YWGQvb1Q.mp3-part-10.wav\n"
     ]
    },
    {
     "name": "stderr",
     "output_type": "stream",
     "text": [
      " 28%|██▊       | 36258/130662 [19:35<25:15, 62.27it/s]"
     ]
    },
    {
     "name": "stdout",
     "output_type": "stream",
     "text": [
      "skipped semisupervised-malay/output-wav/Dunia-Kita-Berapa-FPS-(Bahagian-2)-bjXTuQrpkC8.mp3-part-53.wav\n"
     ]
    },
    {
     "name": "stderr",
     "output_type": "stream",
     "text": [
      " 28%|██▊       | 36488/130662 [19:39<25:18, 62.00it/s]"
     ]
    },
    {
     "name": "stdout",
     "output_type": "stream",
     "text": [
      "skipped semisupervised-malay/output-wav/214-_-Apa-Yang-Hud-Hud-Mahu-Khabarkan-🤔-_-Ustaz-Auni-Mohamed-rARJlDAJEgE.mp3-part-227.wav\n"
     ]
    },
    {
     "name": "stderr",
     "output_type": "stream",
     "text": [
      " 28%|██▊       | 36613/130662 [19:41<23:58, 65.40it/s]"
     ]
    },
    {
     "name": "stdout",
     "output_type": "stream",
     "text": [
      "skipped semisupervised-malay/output-wav/Pengintegrasian-Elemen-Pendidikan-Kewangan-Dalam-Kurikulum-Persekolahan.-NeiArFP2Itc.mp3-part-44.wav\n",
      "skipped semisupervised-malay/output-wav/65-_-Wahai-Anak,-Allah-Akan-Menguji-Kamu-!-_-Ustaz-Wadi-Annuar-0ZKxMaNusTA.mp3-part-489.wav\n"
     ]
    },
    {
     "name": "stderr",
     "output_type": "stream",
     "text": [
      " 28%|██▊       | 37023/130662 [19:49<27:06, 57.56it/s]"
     ]
    },
    {
     "name": "stdout",
     "output_type": "stream",
     "text": [
      "skipped semisupervised-malay/output-wav/65-_-Wahai-Anak,-Allah-Akan-Menguji-Kamu-!-_-Ustaz-Wadi-Annuar-0ZKxMaNusTA.mp3-part-325.wav\n"
     ]
    },
    {
     "name": "stderr",
     "output_type": "stream",
     "text": [
      " 29%|██▊       | 37382/130662 [19:55<25:20, 61.36it/s]"
     ]
    },
    {
     "name": "stdout",
     "output_type": "stream",
     "text": [
      "skipped semisupervised-malay/output-wav/WACANA-ILMU----MENJANA--EKONOMI-PASCA--COVID-19-gqo3pB3FVmg.mp3-part-270.wav\n"
     ]
    },
    {
     "name": "stderr",
     "output_type": "stream",
     "text": [
      " 29%|██▉       | 37728/130662 [20:01<30:00, 51.60it/s]"
     ]
    },
    {
     "name": "stdout",
     "output_type": "stream",
     "text": [
      "skipped semisupervised-malay/output-wav/Q-&-A-(Jadi-backpacker-ni-tak-ada-masa-depan)-_-Podcast-Malaysia-uCg5WeQ34rM.mp3-part-212.wav\n"
     ]
    },
    {
     "name": "stderr",
     "output_type": "stream",
     "text": [
      " 29%|██▉       | 37758/130662 [20:02<24:11, 64.02it/s]"
     ]
    },
    {
     "name": "stdout",
     "output_type": "stream",
     "text": [
      "skipped semisupervised-malay/output-wav/65-_-Wahai-Anak,-Allah-Akan-Menguji-Kamu-!-_-Ustaz-Wadi-Annuar-0ZKxMaNusTA.mp3-part-250.wav\n"
     ]
    },
    {
     "name": "stderr",
     "output_type": "stream",
     "text": [
      " 29%|██▉       | 37813/130662 [20:03<31:23, 49.30it/s]"
     ]
    },
    {
     "name": "stdout",
     "output_type": "stream",
     "text": [
      "skipped semisupervised-malay/output-wav/Dunia-Tamat-2038-4sYNZ3vkIbg.mp3-part-5.wav\n"
     ]
    },
    {
     "name": "stderr",
     "output_type": "stream",
     "text": [
      " 29%|██▉       | 38079/130662 [20:08<31:48, 48.51it/s]"
     ]
    },
    {
     "name": "stdout",
     "output_type": "stream",
     "text": [
      "skipped semisupervised-malay/output-wav/Buang-BERHALA-Yang-Duduk-Di-Hati-Kita-😥-_-Ustaz-Ahmad-Rizam-EP2qcEFmFD8.mp3-part-563.wav\n"
     ]
    },
    {
     "name": "stderr",
     "output_type": "stream",
     "text": [
      " 29%|██▉       | 38329/130662 [20:13<35:11, 43.72it/s]"
     ]
    },
    {
     "name": "stdout",
     "output_type": "stream",
     "text": [
      "skipped semisupervised-malay/output-wav/Siapa-Buat-Soalan-IQ-Pelik-Ni-Kenapa-HGFCASE37OQ.mp3-part-0.wav\n"
     ]
    },
    {
     "name": "stderr",
     "output_type": "stream",
     "text": [
      " 29%|██▉       | 38394/130662 [20:14<23:38, 65.03it/s]"
     ]
    },
    {
     "name": "stdout",
     "output_type": "stream",
     "text": [
      "skipped semisupervised-malay/output-wav/IPGM----Cabaran-VUCA-Dari-Perspektif-Pendidikan-Guru-dan-PAK-21-QOCbT-XH36I.mp3-part-622.wav\n"
     ]
    },
    {
     "name": "stderr",
     "output_type": "stream",
     "text": [
      " 29%|██▉       | 38436/130662 [20:14<29:42, 51.74it/s]"
     ]
    },
    {
     "name": "stdout",
     "output_type": "stream",
     "text": [
      "skipped semisupervised-malay/output-wav/65-_-Wahai-Anak,-Allah-Akan-Menguji-Kamu-!-_-Ustaz-Wadi-Annuar-0ZKxMaNusTA.mp3-part-474.wav\n"
     ]
    },
    {
     "name": "stderr",
     "output_type": "stream",
     "text": [
      " 29%|██▉       | 38487/130662 [20:15<22:38, 67.87it/s]"
     ]
    },
    {
     "name": "stdout",
     "output_type": "stream",
     "text": [
      "skipped semisupervised-malay/output-wav/Dunia-Tamat-2038-4sYNZ3vkIbg.mp3-part-28.wav\n"
     ]
    },
    {
     "name": "stderr",
     "output_type": "stream",
     "text": [
      " 30%|██▉       | 38663/130662 [20:18<24:38, 62.23it/s]"
     ]
    },
    {
     "name": "stdout",
     "output_type": "stream",
     "text": [
      "skipped semisupervised-malay/output-wav/SIARAN-LANGSUNG-BICARA-PROFESIONAL-KEPIMPINAN---PENGURUSAN-DAN-PEMATUHAN-SOP-PASCA-COVID-19-00spujx3b70.mp3-part-379.wav\n"
     ]
    },
    {
     "name": "stderr",
     "output_type": "stream",
     "text": [
      " 30%|██▉       | 38910/130662 [20:23<25:01, 61.11it/s]"
     ]
    },
    {
     "name": "stdout",
     "output_type": "stream",
     "text": [
      "skipped semisupervised-malay/output-wav/Buang-BERHALA-Yang-Duduk-Di-Hati-Kita-😥-_-Ustaz-Ahmad-Rizam-EP2qcEFmFD8.mp3-part-146.wav\n"
     ]
    },
    {
     "name": "stderr",
     "output_type": "stream",
     "text": [
      " 30%|██▉       | 38969/130662 [20:24<29:28, 51.85it/s]"
     ]
    },
    {
     "name": "stdout",
     "output_type": "stream",
     "text": [
      "skipped semisupervised-malay/output-wav/65-_-Wahai-Anak,-Allah-Akan-Menguji-Kamu-!-_-Ustaz-Wadi-Annuar-0ZKxMaNusTA.mp3-part-86.wav\n"
     ]
    },
    {
     "name": "stderr",
     "output_type": "stream",
     "text": [
      " 30%|██▉       | 39094/130662 [20:26<24:28, 62.36it/s]"
     ]
    },
    {
     "name": "stdout",
     "output_type": "stream",
     "text": [
      "skipped semisupervised-malay/output-wav/Buang-BERHALA-Yang-Duduk-Di-Hati-Kita-😥-_-Ustaz-Ahmad-Rizam-EP2qcEFmFD8.mp3-part-527.wav\n"
     ]
    },
    {
     "name": "stderr",
     "output_type": "stream",
     "text": [
      " 30%|███       | 39248/130662 [20:29<29:53, 50.96it/s]"
     ]
    },
    {
     "name": "stdout",
     "output_type": "stream",
     "text": [
      "skipped semisupervised-malay/output-wav/65-_-Wahai-Anak,-Allah-Akan-Menguji-Kamu-!-_-Ustaz-Wadi-Annuar-0ZKxMaNusTA.mp3-part-98.wav\n"
     ]
    },
    {
     "name": "stderr",
     "output_type": "stream",
     "text": [
      " 30%|███       | 39356/130662 [20:31<24:38, 61.77it/s]"
     ]
    },
    {
     "name": "stdout",
     "output_type": "stream",
     "text": [
      "skipped semisupervised-malay/output-wav/Buang-BERHALA-Yang-Duduk-Di-Hati-Kita-😥-_-Ustaz-Ahmad-Rizam-EP2qcEFmFD8.mp3-part-482.wav\n"
     ]
    },
    {
     "name": "stderr",
     "output_type": "stream",
     "text": [
      " 30%|███       | 39427/130662 [20:32<28:02, 54.21it/s]"
     ]
    },
    {
     "name": "stdout",
     "output_type": "stream",
     "text": [
      "skipped semisupervised-malay/output-wav/Sesi-3----Rahsia-Roh-Menggerakkan-Kita-glR3xP2HTS0.mp3-part-730.wav\n"
     ]
    },
    {
     "name": "stderr",
     "output_type": "stream",
     "text": [
      " 30%|███       | 39670/130662 [20:37<23:52, 63.50it/s]"
     ]
    },
    {
     "name": "stdout",
     "output_type": "stream",
     "text": [
      "skipped semisupervised-malay/output-wav/Perang-Petisyen-Matematik-Tambahan-SPM-WC0_yaR0jY4.mp3-part-62.wav\n"
     ]
    },
    {
     "name": "stderr",
     "output_type": "stream",
     "text": [
      " 31%|███       | 40010/130662 [20:43<23:28, 64.38it/s]"
     ]
    },
    {
     "name": "stdout",
     "output_type": "stream",
     "text": [
      "skipped semisupervised-malay/output-wav/Buang-BERHALA-Yang-Duduk-Di-Hati-Kita-😥-_-Ustaz-Ahmad-Rizam-EP2qcEFmFD8.mp3-part-121.wav\n",
      "skipped semisupervised-malay/output-wav/WACANA-ILMU----KERANGKA-STANDARD-BAHASA-MELAYU-(KSBM)-PENTAKSIRAN-DARIPADA-PERSPEKTIF-KSBM-qbFORSE48cQ.mp3-part-132.wav\n"
     ]
    },
    {
     "name": "stderr",
     "output_type": "stream",
     "text": [
      " 31%|███       | 40041/130662 [20:43<22:55, 65.88it/s]"
     ]
    },
    {
     "name": "stdout",
     "output_type": "stream",
     "text": [
      "skipped semisupervised-malay/output-wav/Podcast-Bekpek---Berbasikal-Malaysia-Ke-Mekah(Ditahan-dan-dibawa-Kem-Askar-Pakistan-Semasa-Di-Gunung)-_bfH3pxuOoM.mp3-part-115.wav\n"
     ]
    },
    {
     "name": "stderr",
     "output_type": "stream",
     "text": [
      " 31%|███       | 40297/130662 [20:48<22:49, 65.98it/s]"
     ]
    },
    {
     "name": "stdout",
     "output_type": "stream",
     "text": [
      "skipped semisupervised-malay/output-wav/Podcast-Bekpek---Berbasikal-Malaysia-Ke-Mekah(Ditahan-dan-dibawa-Kem-Askar-Pakistan-Semasa-Di-Gunung)-_bfH3pxuOoM.mp3-part-419.wav\n"
     ]
    },
    {
     "name": "stderr",
     "output_type": "stream",
     "text": [
      " 31%|███       | 40503/130662 [20:52<33:41, 44.59it/s]"
     ]
    },
    {
     "name": "stdout",
     "output_type": "stream",
     "text": [
      "skipped semisupervised-malay/output-wav/Buang-BERHALA-Yang-Duduk-Di-Hati-Kita-😥-_-Ustaz-Ahmad-Rizam-EP2qcEFmFD8.mp3-part-564.wav\n"
     ]
    },
    {
     "name": "stderr",
     "output_type": "stream",
     "text": [
      " 31%|███       | 40803/130662 [20:57<25:08, 59.57it/s]"
     ]
    },
    {
     "name": "stdout",
     "output_type": "stream",
     "text": [
      "skipped semisupervised-malay/output-wav/IPGM----Cabaran-VUCA-Dari-Perspektif-Pendidikan-Guru-dan-PAK-21-QOCbT-XH36I.mp3-part-492.wav\n"
     ]
    },
    {
     "name": "stderr",
     "output_type": "stream",
     "text": [
      " 31%|███▏      | 40859/130662 [20:58<30:35, 48.93it/s]"
     ]
    },
    {
     "name": "stdout",
     "output_type": "stream",
     "text": [
      "skipped semisupervised-malay/output-wav/Buang-BERHALA-Yang-Duduk-Di-Hati-Kita-😥-_-Ustaz-Ahmad-Rizam-EP2qcEFmFD8.mp3-part-548.wav\n"
     ]
    },
    {
     "name": "stderr",
     "output_type": "stream",
     "text": [
      " 31%|███▏      | 40990/130662 [21:00<23:57, 62.38it/s]"
     ]
    },
    {
     "name": "stdout",
     "output_type": "stream",
     "text": [
      "skipped semisupervised-malay/output-wav/65-_-Wahai-Anak,-Allah-Akan-Menguji-Kamu-!-_-Ustaz-Wadi-Annuar-0ZKxMaNusTA.mp3-part-390.wav\n"
     ]
    },
    {
     "name": "stderr",
     "output_type": "stream",
     "text": [
      " 31%|███▏      | 41048/130662 [21:01<29:25, 50.76it/s]"
     ]
    },
    {
     "name": "stdout",
     "output_type": "stream",
     "text": [
      "skipped semisupervised-malay/output-wav/Dunia-Tamat-2038-4sYNZ3vkIbg.mp3-part-23.wav\n"
     ]
    },
    {
     "name": "stderr",
     "output_type": "stream",
     "text": [
      " 32%|███▏      | 41631/130662 [21:12<23:28, 63.22it/s]"
     ]
    },
    {
     "name": "stdout",
     "output_type": "stream",
     "text": [
      "skipped semisupervised-malay/output-wav/Troll-Paling-Best.-opAw8b75NQM.mp3-part-76.wav\n"
     ]
    },
    {
     "name": "stderr",
     "output_type": "stream",
     "text": [
      " 32%|███▏      | 41680/130662 [21:13<27:53, 53.18it/s]"
     ]
    },
    {
     "name": "stdout",
     "output_type": "stream",
     "text": [
      "skipped semisupervised-malay/output-wav/WACANA-ILMU----Saya-OK!-Anda-Bagaimana-Te-funnFw3s.mp3-part-515.wav\n"
     ]
    },
    {
     "name": "stderr",
     "output_type": "stream",
     "text": [
      " 32%|███▏      | 41745/130662 [21:14<23:04, 64.23it/s]"
     ]
    },
    {
     "name": "stdout",
     "output_type": "stream",
     "text": [
      "skipped semisupervised-malay/output-wav/65-_-Wahai-Anak,-Allah-Akan-Menguji-Kamu-!-_-Ustaz-Wadi-Annuar-0ZKxMaNusTA.mp3-part-482.wav\n",
      "skipped semisupervised-malay/output-wav/Episod-Penuh-Bing-_-70+-Minit-_-Eps-11-20-_-Bing-Bahasa-Melayu-eUAtL80BvkE.mp3-part-39.wav\n"
     ]
    },
    {
     "name": "stderr",
     "output_type": "stream",
     "text": [
      " 32%|███▏      | 41854/130662 [21:16<31:03, 47.66it/s]"
     ]
    },
    {
     "name": "stdout",
     "output_type": "stream",
     "text": [
      "skipped semisupervised-malay/output-wav/214-_-Apa-Yang-Hud-Hud-Mahu-Khabarkan-🤔-_-Ustaz-Auni-Mohamed-rARJlDAJEgE.mp3-part-387.wav\n"
     ]
    },
    {
     "name": "stderr",
     "output_type": "stream",
     "text": [
      " 33%|███▎      | 43081/130662 [21:38<22:05, 66.08it/s]"
     ]
    },
    {
     "name": "stdout",
     "output_type": "stream",
     "text": [
      "skipped semisupervised-malay/output-wav/IPGM----Cabaran-VUCA-Dari-Perspektif-Pendidikan-Guru-dan-PAK-21-QOCbT-XH36I.mp3-part-548.wav\n"
     ]
    },
    {
     "name": "stderr",
     "output_type": "stream",
     "text": [
      " 33%|███▎      | 43216/130662 [21:41<24:47, 58.78it/s]"
     ]
    },
    {
     "name": "stdout",
     "output_type": "stream",
     "text": [
      "skipped semisupervised-malay/output-wav/65-_-Wahai-Anak,-Allah-Akan-Menguji-Kamu-!-_-Ustaz-Wadi-Annuar-0ZKxMaNusTA.mp3-part-72.wav\n"
     ]
    },
    {
     "name": "stderr",
     "output_type": "stream",
     "text": [
      " 33%|███▎      | 43296/130662 [21:42<25:29, 57.13it/s]"
     ]
    },
    {
     "name": "stdout",
     "output_type": "stream",
     "text": [
      "skipped semisupervised-malay/output-wav/Siapa-Buat-Soalan-IQ-Pelik-Ni-Kenapa-HGFCASE37OQ.mp3-part-39.wav\n"
     ]
    },
    {
     "name": "stderr",
     "output_type": "stream",
     "text": [
      " 33%|███▎      | 43353/130662 [21:43<22:06, 65.81it/s]"
     ]
    },
    {
     "name": "stdout",
     "output_type": "stream",
     "text": [
      "skipped semisupervised-malay/output-wav/WACANA-ILMU----PSIKO-GAJET-oJ0xApNXRBo.mp3-part-100.wav\n"
     ]
    },
    {
     "name": "stderr",
     "output_type": "stream",
     "text": [
      " 34%|███▎      | 43981/130662 [21:54<20:56, 68.99it/s]"
     ]
    },
    {
     "name": "stdout",
     "output_type": "stream",
     "text": [
      "skipped semisupervised-malay/output-wav/IPGM----Cabaran-VUCA-Dari-Perspektif-Pendidikan-Guru-dan-PAK-21-QOCbT-XH36I.mp3-part-401.wav\n"
     ]
    },
    {
     "name": "stderr",
     "output_type": "stream",
     "text": [
      " 34%|███▍      | 44527/130662 [22:04<32:16, 44.49it/s]"
     ]
    },
    {
     "name": "stdout",
     "output_type": "stream",
     "text": [
      "skipped semisupervised-malay/output-wav/Pasal-Kau---Movie-Review-bRUjmsnE5ZU.mp3-part-14.wav\n"
     ]
    },
    {
     "name": "stderr",
     "output_type": "stream",
     "text": [
      " 34%|███▍      | 44620/130662 [22:06<27:29, 52.15it/s]"
     ]
    },
    {
     "name": "stdout",
     "output_type": "stream",
     "text": [
      "skipped semisupervised-malay/output-wav/IPGM----Cabaran-VUCA-Dari-Perspektif-Pendidikan-Guru-dan-PAK-21-QOCbT-XH36I.mp3-part-576.wav\n"
     ]
    },
    {
     "name": "stderr",
     "output_type": "stream",
     "text": [
      " 34%|███▍      | 44900/130662 [22:11<26:47, 53.36it/s]"
     ]
    },
    {
     "name": "stdout",
     "output_type": "stream",
     "text": [
      "skipped semisupervised-malay/output-wav/Siapa-Buat-Soalan-IQ-Pelik-Ni-Kenapa-HGFCASE37OQ.mp3-part-32.wav\n"
     ]
    },
    {
     "name": "stderr",
     "output_type": "stream",
     "text": [
      " 34%|███▍      | 45049/130662 [22:14<21:48, 65.42it/s]"
     ]
    },
    {
     "name": "stdout",
     "output_type": "stream",
     "text": [
      "skipped semisupervised-malay/output-wav/65-_-Wahai-Anak,-Allah-Akan-Menguji-Kamu-!-_-Ustaz-Wadi-Annuar-0ZKxMaNusTA.mp3-part-356.wav\n"
     ]
    },
    {
     "name": "stderr",
     "output_type": "stream",
     "text": [
      " 35%|███▍      | 45171/130662 [22:16<24:52, 57.29it/s]"
     ]
    },
    {
     "name": "stdout",
     "output_type": "stream",
     "text": [
      "skipped semisupervised-malay/output-wav/Realiti-Fesyen-dan-Trend-rmiKORIv0uw.mp3-part-22.wav\n"
     ]
    },
    {
     "name": "stderr",
     "output_type": "stream",
     "text": [
      " 35%|███▍      | 45436/130662 [22:21<26:51, 52.87it/s]"
     ]
    },
    {
     "name": "stdout",
     "output_type": "stream",
     "text": [
      "skipped semisupervised-malay/output-wav/Pengalaman-Pertama-Kali-Tidur-Dalam-Kereta-Api-Dari-Malaysia-Ke-Thailand-WKi6VUFzjuo.mp3-part-27.wav\n"
     ]
    },
    {
     "name": "stderr",
     "output_type": "stream",
     "text": [
      " 35%|███▌      | 46100/130662 [22:32<22:41, 62.11it/s]"
     ]
    },
    {
     "name": "stdout",
     "output_type": "stream",
     "text": [
      "skipped semisupervised-malay/output-wav/Pengalaman-Pertama-Kali-Tidur-Dalam-Kereta-Api-Dari-Malaysia-Ke-Thailand-WKi6VUFzjuo.mp3-part-34.wav\n"
     ]
    },
    {
     "name": "stderr",
     "output_type": "stream",
     "text": [
      " 36%|███▌      | 47117/130662 [22:51<22:38, 61.48it/s]"
     ]
    },
    {
     "name": "stdout",
     "output_type": "stream",
     "text": [
      "skipped semisupervised-malay/output-wav/Pontianak-pulaaaaaak-Am7A-vpCER0.mp3-part-36.wav\n"
     ]
    },
    {
     "name": "stderr",
     "output_type": "stream",
     "text": [
      " 37%|███▋      | 47694/130662 [23:01<23:47, 58.10it/s]"
     ]
    },
    {
     "name": "stdout",
     "output_type": "stream",
     "text": [
      "skipped semisupervised-malay/output-wav/Pengurusan-Pembukaan-Semula-Sekolah.-Peranan-Guru-Besar,-Pengetua-&-Ibubapa.-4UCEW_MX2p8.mp3-part-737.wav\n"
     ]
    },
    {
     "name": "stderr",
     "output_type": "stream",
     "text": [
      " 37%|███▋      | 47789/130662 [23:03<22:42, 60.82it/s]"
     ]
    },
    {
     "name": "stdout",
     "output_type": "stream",
     "text": [
      "skipped semisupervised-malay/output-wav/Episod-Penuh-Bing-_-70+-Minit-_-Eps-11-20-_-Bing-Bahasa-Melayu-eUAtL80BvkE.mp3-part-14.wav\n"
     ]
    },
    {
     "name": "stderr",
     "output_type": "stream",
     "text": [
      " 37%|███▋      | 47820/130662 [23:03<21:45, 63.47it/s]"
     ]
    },
    {
     "name": "stdout",
     "output_type": "stream",
     "text": [
      "skipped semisupervised-malay/output-wav/Buang-BERHALA-Yang-Duduk-Di-Hati-Kita-😥-_-Ustaz-Ahmad-Rizam-EP2qcEFmFD8.mp3-part-177.wav\n"
     ]
    },
    {
     "name": "stderr",
     "output_type": "stream",
     "text": [
      " 37%|███▋      | 48032/130662 [23:07<30:12, 45.58it/s]"
     ]
    },
    {
     "name": "stdout",
     "output_type": "stream",
     "text": [
      "skipped semisupervised-malay/output-wav/Kursus-penyediaan-bahan-multimedia-secara-atas-talian-[-Muzik,-Grafik-dan-Gajet-]-Q0ICpOpSZKU.mp3-part-528.wav\n"
     ]
    },
    {
     "name": "stderr",
     "output_type": "stream",
     "text": [
      " 37%|███▋      | 48208/130662 [23:11<29:33, 46.49it/s]"
     ]
    },
    {
     "name": "stdout",
     "output_type": "stream",
     "text": [
      "skipped semisupervised-malay/output-wav/80-Peratus-Siswa-Matematik-UKM-Salah-Jawab-Soalan-Mudah-Ni!-Kenapa-YKe-mzGU0JU.mp3-part-41.wav\n"
     ]
    },
    {
     "name": "stderr",
     "output_type": "stream",
     "text": [
      " 37%|███▋      | 48307/130662 [23:12<27:10, 50.52it/s]"
     ]
    },
    {
     "name": "stdout",
     "output_type": "stream",
     "text": [
      "skipped semisupervised-malay/output-wav/Bila-Mata-Bertentang-Mata-❤️-_-Ustaz-Mohd-Lukmanul-Hakim-Wm-8ZeLyux0.mp3-part-342.wav\n"
     ]
    },
    {
     "name": "stderr",
     "output_type": "stream",
     "text": [
      " 37%|███▋      | 48866/130662 [23:22<20:24, 66.83it/s]"
     ]
    },
    {
     "name": "stdout",
     "output_type": "stream",
     "text": [
      "skipped semisupervised-malay/output-wav/Wahai-Suami-Pastikan-Sumber-Rezeki-HALAL-_-Ustaz-Mohd-Aslam-e5cIN57hJ_0.mp3-part-131.wav\n"
     ]
    },
    {
     "name": "stderr",
     "output_type": "stream",
     "text": [
      " 37%|███▋      | 48995/130662 [23:25<26:38, 51.08it/s]"
     ]
    },
    {
     "name": "stdout",
     "output_type": "stream",
     "text": [
      "skipped semisupervised-malay/output-wav/Bing-_-15-Minit-_-Bing---Bit-Terbaik-_-Bing-Bahasa-Melayu-HOG7VG9wzo4.mp3-part-34.wav\n",
      "skipped semisupervised-malay/output-wav/Ini-Bukan-Kuning-iqxyI-eYK3M.mp3-part-23.wav\n"
     ]
    },
    {
     "name": "stderr",
     "output_type": "stream",
     "text": [
      " 38%|███▊      | 49024/130662 [23:25<23:08, 58.80it/s]"
     ]
    },
    {
     "name": "stdout",
     "output_type": "stream",
     "text": [
      "skipped semisupervised-malay/output-wav/Buang-BERHALA-Yang-Duduk-Di-Hati-Kita-😥-_-Ustaz-Ahmad-Rizam-EP2qcEFmFD8.mp3-part-295.wav\n"
     ]
    },
    {
     "name": "stderr",
     "output_type": "stream",
     "text": [
      " 38%|███▊      | 49684/130662 [23:37<21:43, 62.13it/s]"
     ]
    },
    {
     "name": "stdout",
     "output_type": "stream",
     "text": [
      "skipped semisupervised-malay/output-wav/Siapa-Buat-Soalan-IQ-Pelik-Ni-Kenapa-HGFCASE37OQ.mp3-part-4.wav\n"
     ]
    },
    {
     "name": "stderr",
     "output_type": "stream",
     "text": [
      " 38%|███▊      | 49904/130662 [23:41<22:55, 58.71it/s]"
     ]
    },
    {
     "name": "stdout",
     "output_type": "stream",
     "text": [
      "skipped semisupervised-malay/output-wav/65-_-Wahai-Anak,-Allah-Akan-Menguji-Kamu-!-_-Ustaz-Wadi-Annuar-0ZKxMaNusTA.mp3-part-506.wav\n"
     ]
    },
    {
     "name": "stderr",
     "output_type": "stream",
     "text": [
      " 38%|███▊      | 50182/130662 [23:46<22:58, 58.39it/s]"
     ]
    },
    {
     "name": "stdout",
     "output_type": "stream",
     "text": [
      "skipped semisupervised-malay/output-wav/Buang-BERHALA-Yang-Duduk-Di-Hati-Kita-😥-_-Ustaz-Ahmad-Rizam-EP2qcEFmFD8.mp3-part-43.wav\n"
     ]
    },
    {
     "name": "stderr",
     "output_type": "stream",
     "text": [
      " 38%|███▊      | 50240/130662 [23:47<29:49, 44.93it/s]"
     ]
    },
    {
     "name": "stdout",
     "output_type": "stream",
     "text": [
      "skipped semisupervised-malay/output-wav/Buang-BERHALA-Yang-Duduk-Di-Hati-Kita-😥-_-Ustaz-Ahmad-Rizam-EP2qcEFmFD8.mp3-part-403.wav\n"
     ]
    },
    {
     "name": "stderr",
     "output_type": "stream",
     "text": [
      " 39%|███▉      | 51524/130662 [24:10<20:04, 65.69it/s]"
     ]
    },
    {
     "name": "stdout",
     "output_type": "stream",
     "text": [
      "skipped semisupervised-malay/output-wav/Ruang-Masa-Hiperbolik-Wujud-Di-Dunia-Sebenar!-1v-n23HAi7M.mp3-part-32.wav\n"
     ]
    },
    {
     "name": "stderr",
     "output_type": "stream",
     "text": [
      " 39%|███▉      | 51560/130662 [24:11<24:31, 53.75it/s]"
     ]
    },
    {
     "name": "stdout",
     "output_type": "stream",
     "text": [
      "skipped semisupervised-malay/output-wav/Q-&-A-(Jadi-backpacker-ni-tak-ada-masa-depan)-_-Podcast-Malaysia-uCg5WeQ34rM.mp3-part-120.wav\n"
     ]
    },
    {
     "name": "stderr",
     "output_type": "stream",
     "text": [
      " 40%|███▉      | 51626/130662 [24:12<19:54, 66.18it/s]"
     ]
    },
    {
     "name": "stdout",
     "output_type": "stream",
     "text": [
      "skipped semisupervised-malay/output-wav/IPGM----Cabaran-VUCA-Dari-Perspektif-Pendidikan-Guru-dan-PAK-21-QOCbT-XH36I.mp3-part-479.wav\n"
     ]
    },
    {
     "name": "stderr",
     "output_type": "stream",
     "text": [
      " 40%|███▉      | 51660/130662 [24:13<24:14, 54.30it/s]"
     ]
    },
    {
     "name": "stdout",
     "output_type": "stream",
     "text": [
      "skipped semisupervised-malay/output-wav/Bila-Mata-Bertentang-Mata-❤️-_-Ustaz-Mohd-Lukmanul-Hakim-Wm-8ZeLyux0.mp3-part-169.wav\n"
     ]
    },
    {
     "name": "stderr",
     "output_type": "stream",
     "text": [
      " 40%|███▉      | 51812/130662 [24:16<28:24, 46.26it/s]"
     ]
    },
    {
     "name": "stdout",
     "output_type": "stream",
     "text": [
      "skipped semisupervised-malay/output-wav/Pengalaman-Pertama-Kali-Tidur-Dalam-Kereta-Api-Dari-Malaysia-Ke-Thailand-WKi6VUFzjuo.mp3-part-30.wav\n",
      "skipped semisupervised-malay/output-wav/65-_-Wahai-Anak,-Allah-Akan-Menguji-Kamu-!-_-Ustaz-Wadi-Annuar-0ZKxMaNusTA.mp3-part-270.wav\n",
      "skipped semisupervised-malay/output-wav/Menurut-Sains,-Gopal-Sebenarnya-Tersangat-OP-(Bahagian-2)-PKJshdf_FnM.mp3-part-102.wav\n"
     ]
    },
    {
     "name": "stderr",
     "output_type": "stream",
     "text": [
      " 40%|███▉      | 52115/130662 [24:21<21:15, 61.56it/s]"
     ]
    },
    {
     "name": "stdout",
     "output_type": "stream",
     "text": [
      "skipped semisupervised-malay/output-wav/Buang-BERHALA-Yang-Duduk-Di-Hati-Kita-😥-_-Ustaz-Ahmad-Rizam-EP2qcEFmFD8.mp3-part-473.wav\n"
     ]
    },
    {
     "name": "stderr",
     "output_type": "stream",
     "text": [
      " 40%|████      | 52705/130662 [24:32<26:16, 49.45it/s]"
     ]
    },
    {
     "name": "stdout",
     "output_type": "stream",
     "text": [
      "skipped semisupervised-malay/output-wav/IPGM----Cabaran-VUCA-Dari-Perspektif-Pendidikan-Guru-dan-PAK-21-QOCbT-XH36I.mp3-part-276.wav\n"
     ]
    },
    {
     "name": "stderr",
     "output_type": "stream",
     "text": [
      " 41%|████      | 53307/130662 [24:43<19:57, 64.61it/s]"
     ]
    },
    {
     "name": "stdout",
     "output_type": "stream",
     "text": [
      "skipped semisupervised-malay/output-wav/Bila-Mata-Bertentang-Mata-❤️-_-Ustaz-Mohd-Lukmanul-Hakim-Wm-8ZeLyux0.mp3-part-60.wav\n"
     ]
    },
    {
     "name": "stderr",
     "output_type": "stream",
     "text": [
      " 41%|████      | 53384/130662 [24:44<20:57, 61.46it/s]"
     ]
    },
    {
     "name": "stdout",
     "output_type": "stream",
     "text": [
      "skipped semisupervised-malay/output-wav/IPGM----Cabaran-VUCA-Dari-Perspektif-Pendidikan-Guru-dan-PAK-21-QOCbT-XH36I.mp3-part-563.wav\n"
     ]
    },
    {
     "name": "stderr",
     "output_type": "stream",
     "text": [
      " 41%|████      | 53469/130662 [24:46<20:08, 63.86it/s]"
     ]
    },
    {
     "name": "stdout",
     "output_type": "stream",
     "text": [
      "skipped semisupervised-malay/output-wav/Mendaki-Gunung-Berapi-Seorang-Diri-Di-Indonesia-Waktu-Malam-Terserempak-dengan-....-eJE2FaX8CPE.mp3-part-75.wav\n"
     ]
    },
    {
     "name": "stderr",
     "output_type": "stream",
     "text": [
      " 41%|████      | 53626/130662 [24:48<20:58, 61.20it/s]"
     ]
    },
    {
     "name": "stdout",
     "output_type": "stream",
     "text": [
      "skipped semisupervised-malay/output-wav/65-_-Wahai-Anak,-Allah-Akan-Menguji-Kamu-!-_-Ustaz-Wadi-Annuar-0ZKxMaNusTA.mp3-part-473.wav\n"
     ]
    },
    {
     "name": "stderr",
     "output_type": "stream",
     "text": [
      " 41%|████      | 53662/130662 [24:49<21:12, 60.52it/s]"
     ]
    },
    {
     "name": "stdout",
     "output_type": "stream",
     "text": [
      "skipped semisupervised-malay/output-wav/Manusia-Cukup-TAK-SUKA-Dua-Benda-Ini-😮-_-Ustaz-Dato-Kazim-Elias--t8sUAMQ94M.mp3-part-38.wav\n"
     ]
    },
    {
     "name": "stderr",
     "output_type": "stream",
     "text": [
      " 41%|████      | 53832/130662 [24:52<18:28, 69.32it/s]"
     ]
    },
    {
     "name": "stdout",
     "output_type": "stream",
     "text": [
      "skipped semisupervised-malay/output-wav/AHLI-SIHIR-Dari-Pandangan-Islam-_-Ustaz-Habib-Khairul-Nizam-GKQqdCXb8l8.mp3-part-0.wav\n"
     ]
    },
    {
     "name": "stderr",
     "output_type": "stream",
     "text": [
      " 41%|████▏     | 54073/130662 [24:56<19:58, 63.90it/s]"
     ]
    },
    {
     "name": "stdout",
     "output_type": "stream",
     "text": [
      "skipped semisupervised-malay/output-wav/Buang-BERHALA-Yang-Duduk-Di-Hati-Kita-😥-_-Ustaz-Ahmad-Rizam-EP2qcEFmFD8.mp3-part-507.wav\n"
     ]
    },
    {
     "name": "stderr",
     "output_type": "stream",
     "text": [
      " 42%|████▏     | 54272/130662 [25:00<19:53, 63.98it/s]"
     ]
    },
    {
     "name": "stdout",
     "output_type": "stream",
     "text": [
      "skipped semisupervised-malay/output-wav/FORUM-PSIKOLOGI-KEPIMPINAN----Aplikasi-Psikologi-dan-Kaunseling-Dalam-Pengurusan-Sumber-Manusia-6G0N1OrIR4k.mp3-part-276.wav\n"
     ]
    },
    {
     "name": "stderr",
     "output_type": "stream",
     "text": [
      " 42%|████▏     | 54437/130662 [25:03<20:31, 61.91it/s]"
     ]
    },
    {
     "name": "stdout",
     "output_type": "stream",
     "text": [
      "skipped semisupervised-malay/output-wav/Bila-Mata-Bertentang-Mata-❤️-_-Ustaz-Mohd-Lukmanul-Hakim-Wm-8ZeLyux0.mp3-part-88.wav\n"
     ]
    },
    {
     "name": "stderr",
     "output_type": "stream",
     "text": [
      " 42%|████▏     | 54883/130662 [25:11<19:47, 63.79it/s]"
     ]
    },
    {
     "name": "stdout",
     "output_type": "stream",
     "text": [
      "skipped semisupervised-malay/output-wav/Ini-Bukan-Kuning-iqxyI-eYK3M.mp3-part-17.wav\n"
     ]
    },
    {
     "name": "stderr",
     "output_type": "stream",
     "text": [
      " 42%|████▏     | 55245/130662 [25:17<21:25, 58.65it/s]"
     ]
    },
    {
     "name": "stdout",
     "output_type": "stream",
     "text": [
      "skipped semisupervised-malay/output-wav/ZHAF-BERSEMUKA-DGN-TOK-AYAH-NAMRON!-BWU8IJBEjTk.mp3-part-172.wav\n",
      "skipped semisupervised-malay/output-wav/Buang-BERHALA-Yang-Duduk-Di-Hati-Kita-😥-_-Ustaz-Ahmad-Rizam-EP2qcEFmFD8.mp3-part-506.wav\n"
     ]
    },
    {
     "name": "stderr",
     "output_type": "stream",
     "text": [
      " 42%|████▏     | 55280/130662 [25:18<20:36, 60.96it/s]"
     ]
    },
    {
     "name": "stdout",
     "output_type": "stream",
     "text": [
      "skipped semisupervised-malay/output-wav/Buang-BERHALA-Yang-Duduk-Di-Hati-Kita-😥-_-Ustaz-Ahmad-Rizam-EP2qcEFmFD8.mp3-part-423.wav\n"
     ]
    },
    {
     "name": "stderr",
     "output_type": "stream",
     "text": [
      " 42%|████▏     | 55354/130662 [25:19<18:47, 66.82it/s]"
     ]
    },
    {
     "name": "stdout",
     "output_type": "stream",
     "text": [
      "skipped semisupervised-malay/output-wav/65-_-Wahai-Anak,-Allah-Akan-Menguji-Kamu-!-_-Ustaz-Wadi-Annuar-0ZKxMaNusTA.mp3-part-479.wav\n"
     ]
    },
    {
     "name": "stderr",
     "output_type": "stream",
     "text": [
      " 42%|████▏     | 55419/130662 [25:20<20:57, 59.83it/s]"
     ]
    },
    {
     "name": "stdout",
     "output_type": "stream",
     "text": [
      "skipped semisupervised-malay/output-wav/Pasal-Kau---Movie-Review-bRUjmsnE5ZU.mp3-part-37.wav\n"
     ]
    },
    {
     "name": "stderr",
     "output_type": "stream",
     "text": [
      " 43%|████▎     | 55735/130662 [25:26<18:49, 66.35it/s]"
     ]
    },
    {
     "name": "stdout",
     "output_type": "stream",
     "text": [
      "skipped semisupervised-malay/output-wav/VEVEONAH-PENIPU-i7liW-7TTOI.mp3-part-40.wav\n"
     ]
    },
    {
     "name": "stderr",
     "output_type": "stream",
     "text": [
      " 43%|████▎     | 55955/130662 [25:30<21:10, 58.79it/s]"
     ]
    },
    {
     "name": "stdout",
     "output_type": "stream",
     "text": [
      "skipped semisupervised-malay/output-wav/BICARA-PROFESIONAL-KPM---NORMAL-BAHARU-GURU-SATU-REALITI-MZCJCoBwuho.mp3-part-1111.wav\n"
     ]
    },
    {
     "name": "stderr",
     "output_type": "stream",
     "text": [
      " 43%|████▎     | 56034/130662 [25:32<22:42, 54.77it/s]"
     ]
    },
    {
     "name": "stdout",
     "output_type": "stream",
     "text": [
      "skipped semisupervised-malay/output-wav/Siapa-Buat-Soalan-IQ-Pelik-Ni-Kenapa-HGFCASE37OQ.mp3-part-23.wav\n"
     ]
    },
    {
     "name": "stderr",
     "output_type": "stream",
     "text": [
      " 43%|████▎     | 56540/130662 [25:41<19:44, 62.55it/s]"
     ]
    },
    {
     "name": "stdout",
     "output_type": "stream",
     "text": [
      "skipped semisupervised-malay/output-wav/IPGM----Cabaran-VUCA-Dari-Perspektif-Pendidikan-Guru-dan-PAK-21-QOCbT-XH36I.mp3-part-205.wav\n"
     ]
    },
    {
     "name": "stderr",
     "output_type": "stream",
     "text": [
      " 43%|████▎     | 56771/130662 [25:45<22:40, 54.30it/s]"
     ]
    },
    {
     "name": "stdout",
     "output_type": "stream",
     "text": [
      "skipped semisupervised-malay/output-wav/JANGAN-SILAP-Pilih-3-Pekara-Ini-☝️-_-Ustaz-Mohd-Shaffi-s4hfxsYVnpE.mp3-part-9.wav\n"
     ]
    },
    {
     "name": "stderr",
     "output_type": "stream",
     "text": [
      " 44%|████▎     | 57025/130662 [25:50<20:06, 61.06it/s]"
     ]
    },
    {
     "name": "stdout",
     "output_type": "stream",
     "text": [
      "skipped semisupervised-malay/output-wav/Kursus-penyediaan-bahan-multimedia-secara-atas-talian-[-Muzik,-Grafik-dan-Gajet-]-Q0ICpOpSZKU.mp3-part-643.wav\n"
     ]
    },
    {
     "name": "stderr",
     "output_type": "stream",
     "text": [
      " 44%|████▎     | 57129/130662 [25:51<18:06, 67.66it/s]"
     ]
    },
    {
     "name": "stdout",
     "output_type": "stream",
     "text": [
      "skipped semisupervised-malay/output-wav/Buang-BERHALA-Yang-Duduk-Di-Hati-Kita-😥-_-Ustaz-Ahmad-Rizam-EP2qcEFmFD8.mp3-part-172.wav\n"
     ]
    },
    {
     "name": "stderr",
     "output_type": "stream",
     "text": [
      " 44%|████▍     | 57174/130662 [25:52<18:54, 64.77it/s]"
     ]
    },
    {
     "name": "stdout",
     "output_type": "stream",
     "text": [
      "skipped semisupervised-malay/output-wav/Dunia-Tamat-2038-4sYNZ3vkIbg.mp3-part-37.wav\n"
     ]
    },
    {
     "name": "stderr",
     "output_type": "stream",
     "text": [
      " 44%|████▍     | 57324/130662 [25:55<19:59, 61.13it/s]"
     ]
    },
    {
     "name": "stdout",
     "output_type": "stream",
     "text": [
      "skipped semisupervised-malay/output-wav/Pengalaman-Pertama-Kali-Tidur-Dalam-Kereta-Api-Dari-Malaysia-Ke-Thailand-WKi6VUFzjuo.mp3-part-25.wav\n"
     ]
    },
    {
     "name": "stderr",
     "output_type": "stream",
     "text": [
      " 44%|████▍     | 57783/130662 [26:03<18:12, 66.69it/s]"
     ]
    },
    {
     "name": "stdout",
     "output_type": "stream",
     "text": [
      "skipped semisupervised-malay/output-wav/Ini-Hikmah-Kenapa-Rasulullah-Tidak-Pernah-AZAN-😮-_-Ustaz-Mohd-Shaffi-DfflcWqHY9E.mp3-part-308.wav\n"
     ]
    },
    {
     "name": "stderr",
     "output_type": "stream",
     "text": [
      " 44%|████▍     | 58019/130662 [26:08<21:24, 56.57it/s]"
     ]
    },
    {
     "name": "stdout",
     "output_type": "stream",
     "text": [
      "skipped semisupervised-malay/output-wav/214-_-Apa-Yang-Hud-Hud-Mahu-Khabarkan-🤔-_-Ustaz-Auni-Mohamed-rARJlDAJEgE.mp3-part-276.wav\n"
     ]
    },
    {
     "name": "stderr",
     "output_type": "stream",
     "text": [
      " 45%|████▍     | 58248/130662 [26:12<20:16, 59.51it/s]"
     ]
    },
    {
     "name": "stdout",
     "output_type": "stream",
     "text": [
      "skipped semisupervised-malay/output-wav/Ini-Bukan-Kuning-iqxyI-eYK3M.mp3-part-4.wav\n"
     ]
    },
    {
     "name": "stderr",
     "output_type": "stream",
     "text": [
      " 45%|████▍     | 58291/130662 [26:12<20:53, 57.75it/s]"
     ]
    },
    {
     "name": "stdout",
     "output_type": "stream",
     "text": [
      "skipped semisupervised-malay/output-wav/65-_-Wahai-Anak,-Allah-Akan-Menguji-Kamu-!-_-Ustaz-Wadi-Annuar-0ZKxMaNusTA.mp3-part-120.wav\n"
     ]
    },
    {
     "name": "stderr",
     "output_type": "stream",
     "text": [
      " 45%|████▍     | 58451/130662 [26:16<25:08, 47.87it/s]"
     ]
    },
    {
     "name": "stdout",
     "output_type": "stream",
     "text": [
      "skipped semisupervised-malay/output-wav/Sesi-1----Rahsia-Minda,-Fikiran,-Akal-dan-Sedar-6f-8js73O1k.mp3-part-137.wav\n"
     ]
    },
    {
     "name": "stderr",
     "output_type": "stream",
     "text": [
      " 45%|████▌     | 58834/130662 [26:22<20:25, 58.63it/s]"
     ]
    },
    {
     "name": "stdout",
     "output_type": "stream",
     "text": [
      "skipped semisupervised-malay/output-wav/Buang-BERHALA-Yang-Duduk-Di-Hati-Kita-😥-_-Ustaz-Ahmad-Rizam-EP2qcEFmFD8.mp3-part-508.wav\n"
     ]
    },
    {
     "name": "stderr",
     "output_type": "stream",
     "text": [
      " 45%|████▌     | 58984/130662 [26:25<25:08, 47.51it/s]"
     ]
    },
    {
     "name": "stdout",
     "output_type": "stream",
     "text": [
      "skipped semisupervised-malay/output-wav/Tip-Skor-A+-dalam-SPM-Bahasa-Melayu-_ZnpSEffVus.mp3-part-100.wav\n"
     ]
    },
    {
     "name": "stderr",
     "output_type": "stream",
     "text": [
      " 45%|████▌     | 59047/130662 [26:26<18:58, 62.89it/s]"
     ]
    },
    {
     "name": "stdout",
     "output_type": "stream",
     "text": [
      "skipped semisupervised-malay/output-wav/209-_-Kisah-Qorun,-SI-KAYA-Yang-Binasa-😔-_-Ustaz-Auni-Mohamed-5Yu8ZklAV1Q.mp3-part-278.wav\n"
     ]
    },
    {
     "name": "stderr",
     "output_type": "stream",
     "text": [
      " 45%|████▌     | 59127/130662 [26:28<17:21, 68.70it/s]"
     ]
    },
    {
     "name": "stdout",
     "output_type": "stream",
     "text": [
      "skipped semisupervised-malay/output-wav/65-_-Wahai-Anak,-Allah-Akan-Menguji-Kamu-!-_-Ustaz-Wadi-Annuar-0ZKxMaNusTA.mp3-part-89.wav\n"
     ]
    },
    {
     "name": "stderr",
     "output_type": "stream",
     "text": [
      " 45%|████▌     | 59162/130662 [26:28<27:37, 43.13it/s]"
     ]
    },
    {
     "name": "stdout",
     "output_type": "stream",
     "text": [
      "skipped semisupervised-malay/output-wav/IPGM----Cabaran-VUCA-Dari-Perspektif-Pendidikan-Guru-dan-PAK-21-QOCbT-XH36I.mp3-part-264.wav\n"
     ]
    },
    {
     "name": "stderr",
     "output_type": "stream",
     "text": [
      " 45%|████▌     | 59446/130662 [26:34<20:33, 57.72it/s]"
     ]
    },
    {
     "name": "stdout",
     "output_type": "stream",
     "text": [
      "skipped semisupervised-malay/output-wav/Pengalaman-Pertama-Kali-Tidur-Dalam-Kereta-Api-Dari-Malaysia-Ke-Thailand-WKi6VUFzjuo.mp3-part-33.wav\n"
     ]
    },
    {
     "name": "stderr",
     "output_type": "stream",
     "text": [
      " 46%|████▌     | 59491/130662 [26:34<17:57, 66.03it/s]"
     ]
    },
    {
     "name": "stdout",
     "output_type": "stream",
     "text": [
      "skipped semisupervised-malay/output-wav/Konsep-TAWASSUL-Dalam-Islam-_-Ustaz-Mohd-Anuar-mQuUzU8xQ44.mp3-part-349.wav\n"
     ]
    },
    {
     "name": "stderr",
     "output_type": "stream",
     "text": [
      " 46%|████▌     | 59899/130662 [26:42<20:29, 57.57it/s]"
     ]
    },
    {
     "name": "stdout",
     "output_type": "stream",
     "text": [
      "skipped semisupervised-malay/output-wav/Pengurusan-Pembukaan-Semula-Sekolah.-Peranan-Guru-Besar,-Pengetua-&-Ibubapa.-4UCEW_MX2p8.mp3-part-2687.wav\n"
     ]
    },
    {
     "name": "stderr",
     "output_type": "stream",
     "text": [
      " 46%|████▌     | 60098/130662 [26:45<18:17, 64.28it/s]"
     ]
    },
    {
     "name": "stdout",
     "output_type": "stream",
     "text": [
      "skipped semisupervised-malay/output-wav/Rahsia-Bendera-Malaysia-yang-Tak-Terjawab-Sampai-Sekarang-nWCATzTi0HU.mp3-part-3.wav\n"
     ]
    },
    {
     "name": "stderr",
     "output_type": "stream",
     "text": [
      " 46%|████▌     | 60148/130662 [26:46<23:05, 50.89it/s]"
     ]
    },
    {
     "name": "stdout",
     "output_type": "stream",
     "text": [
      "skipped semisupervised-malay/output-wav/Dunia-Tamat-2038-4sYNZ3vkIbg.mp3-part-33.wav\n"
     ]
    },
    {
     "name": "stderr",
     "output_type": "stream",
     "text": [
      " 46%|████▋     | 60651/130662 [26:55<18:00, 64.81it/s]"
     ]
    },
    {
     "name": "stdout",
     "output_type": "stream",
     "text": [
      "skipped semisupervised-malay/output-wav/WACANA-ILMU----MENJANA--EKONOMI-PASCA--COVID-19-gqo3pB3FVmg.mp3-part-592.wav\n"
     ]
    },
    {
     "name": "stderr",
     "output_type": "stream",
     "text": [
      " 46%|████▋     | 60680/130662 [26:56<23:32, 49.55it/s]"
     ]
    },
    {
     "name": "stdout",
     "output_type": "stream",
     "text": [
      "skipped semisupervised-malay/output-wav/KJ-React-First-Video-Sendiri-Di-ML-Studio,-Malu-Tapi-Berbaloi.-e7xE7V11Vwc.mp3-part-71.wav\n",
      "skipped semisupervised-malay/output-wav/Pasal-Kau---Movie-Review-bRUjmsnE5ZU.mp3-part-16.wav\n"
     ]
    },
    {
     "name": "stderr",
     "output_type": "stream",
     "text": [
      " 47%|████▋     | 60835/130662 [26:59<18:28, 63.00it/s]"
     ]
    },
    {
     "name": "stdout",
     "output_type": "stream",
     "text": [
      "skipped semisupervised-malay/output-wav/WACANA-ILMU----KERANGKA-STANDARD-BAHASA-MELAYU-(KSBM)-PENTAKSIRAN-DARIPADA-PERSPEKTIF-KSBM-qbFORSE48cQ.mp3-part-614.wav\n"
     ]
    },
    {
     "name": "stderr",
     "output_type": "stream",
     "text": [
      " 47%|████▋     | 60898/130662 [27:00<18:46, 61.91it/s]"
     ]
    },
    {
     "name": "stdout",
     "output_type": "stream",
     "text": [
      "skipped semisupervised-malay/output-wav/WACANA-ILMU----KERANGKA-STANDARD-BAHASA-MELAYU-(KSBM)-PENTAKSIRAN-DARIPADA-PERSPEKTIF-KSBM-qbFORSE48cQ.mp3-part-95.wav\n"
     ]
    },
    {
     "name": "stderr",
     "output_type": "stream",
     "text": [
      " 47%|████▋     | 61020/130662 [27:02<16:57, 68.42it/s]"
     ]
    },
    {
     "name": "stdout",
     "output_type": "stream",
     "text": [
      "skipped semisupervised-malay/output-wav/WACANA-ILMU----Gilap-Minda---Pedagogi-Terbeza-LcSKIOdHbbc.mp3-part-236.wav\n"
     ]
    },
    {
     "name": "stderr",
     "output_type": "stream",
     "text": [
      " 47%|████▋     | 61164/130662 [27:05<19:30, 59.38it/s]"
     ]
    },
    {
     "name": "stdout",
     "output_type": "stream",
     "text": [
      "skipped semisupervised-malay/output-wav/Buang-BERHALA-Yang-Duduk-Di-Hati-Kita-😥-_-Ustaz-Ahmad-Rizam-EP2qcEFmFD8.mp3-part-129.wav\n"
     ]
    },
    {
     "name": "stderr",
     "output_type": "stream",
     "text": [
      " 47%|████▋     | 61189/130662 [27:05<16:11, 71.54it/s]"
     ]
    },
    {
     "name": "stdout",
     "output_type": "stream",
     "text": [
      "skipped semisupervised-malay/output-wav/Nak-Sambut-DEKAD-Baru-2020-Tengok-Video-Ni-Dulu.-QO-YWGQvb1Q.mp3-part-22.wav\n",
      "skipped semisupervised-malay/output-wav/Siapa-Buat-Soalan-IQ-Pelik-Ni-Kenapa-HGFCASE37OQ.mp3-part-29.wav\n"
     ]
    },
    {
     "name": "stderr",
     "output_type": "stream",
     "text": [
      " 47%|████▋     | 61212/130662 [27:06<17:25, 66.46it/s]"
     ]
    },
    {
     "name": "stdout",
     "output_type": "stream",
     "text": [
      "skipped semisupervised-malay/output-wav/Siapa-Buat-Soalan-IQ-Pelik-Ni-Kenapa-HGFCASE37OQ.mp3-part-2.wav\n"
     ]
    },
    {
     "name": "stderr",
     "output_type": "stream",
     "text": [
      " 47%|████▋     | 61360/130662 [27:08<18:49, 61.38it/s]"
     ]
    },
    {
     "name": "stdout",
     "output_type": "stream",
     "text": [
      "skipped semisupervised-malay/output-wav/IPGM----Cabaran-VUCA-Dari-Perspektif-Pendidikan-Guru-dan-PAK-21-QOCbT-XH36I.mp3-part-541.wav\n"
     ]
    },
    {
     "name": "stderr",
     "output_type": "stream",
     "text": [
      " 47%|████▋     | 61475/130662 [27:10<17:16, 66.74it/s]"
     ]
    },
    {
     "name": "stdout",
     "output_type": "stream",
     "text": [
      "skipped semisupervised-malay/output-wav/Menurut-Sains,-Gopal-Sebenarnya-Tersangat-OP-(Bahagian-2)-PKJshdf_FnM.mp3-part-97.wav\n"
     ]
    },
    {
     "name": "stderr",
     "output_type": "stream",
     "text": [
      " 47%|████▋     | 61555/130662 [27:12<17:12, 66.96it/s]"
     ]
    },
    {
     "name": "stdout",
     "output_type": "stream",
     "text": [
      "skipped semisupervised-malay/output-wav/Nak-Sambut-DEKAD-Baru-2020-Tengok-Video-Ni-Dulu.-QO-YWGQvb1Q.mp3-part-24.wav\n"
     ]
    },
    {
     "name": "stderr",
     "output_type": "stream",
     "text": [
      " 47%|████▋     | 61905/130662 [27:18<17:13, 66.53it/s]"
     ]
    },
    {
     "name": "stdout",
     "output_type": "stream",
     "text": [
      "skipped semisupervised-malay/output-wav/65-_-Wahai-Anak,-Allah-Akan-Menguji-Kamu-!-_-Ustaz-Wadi-Annuar-0ZKxMaNusTA.mp3-part-191.wav\n"
     ]
    },
    {
     "name": "stderr",
     "output_type": "stream",
     "text": [
      " 47%|████▋     | 61990/130662 [27:20<17:55, 63.86it/s]"
     ]
    },
    {
     "name": "stdout",
     "output_type": "stream",
     "text": [
      "skipped semisupervised-malay/output-wav/WACANA-ILMU----Saya-OK!-Anda-Bagaimana-Te-funnFw3s.mp3-part-104.wav\n"
     ]
    },
    {
     "name": "stderr",
     "output_type": "stream",
     "text": [
      " 47%|████▋     | 62060/130662 [27:21<18:23, 62.15it/s]"
     ]
    },
    {
     "name": "stdout",
     "output_type": "stream",
     "text": [
      "skipped semisupervised-malay/output-wav/65-_-Wahai-Anak,-Allah-Akan-Menguji-Kamu-!-_-Ustaz-Wadi-Annuar-0ZKxMaNusTA.mp3-part-399.wav\n"
     ]
    },
    {
     "name": "stderr",
     "output_type": "stream",
     "text": [
      " 48%|████▊     | 62096/130662 [27:21<17:44, 64.39it/s]"
     ]
    },
    {
     "name": "stdout",
     "output_type": "stream",
     "text": [
      "skipped semisupervised-malay/output-wav/Episod-Penuh-Bing-_-70+-Minit-_-Eps-1-10-_-Bing-Bahasa-Malysia-jjoBv0X5fQA.mp3-part-30.wav\n"
     ]
    },
    {
     "name": "stderr",
     "output_type": "stream",
     "text": [
      " 48%|████▊     | 62269/130662 [27:25<17:50, 63.92it/s]"
     ]
    },
    {
     "name": "stdout",
     "output_type": "stream",
     "text": [
      "skipped semisupervised-malay/output-wav/Sofyank-aka-Zach-King-Malaysia-_-Malam-Jumaat-_-Fify-&-Hydar-4ZiC_Tg6hmU.mp3-part-202.wav\n"
     ]
    },
    {
     "name": "stderr",
     "output_type": "stream",
     "text": [
      " 48%|████▊     | 62348/130662 [27:26<18:30, 61.54it/s]"
     ]
    },
    {
     "name": "stdout",
     "output_type": "stream",
     "text": [
      "skipped semisupervised-malay/output-wav/Episod-Penuh-Bing-_-70+-Minit-_-Eps-11-20-_-Bing-Bahasa-Melayu-eUAtL80BvkE.mp3-part-16.wav\n"
     ]
    },
    {
     "name": "stderr",
     "output_type": "stream",
     "text": [
      " 48%|████▊     | 62522/130662 [27:29<18:48, 60.36it/s]"
     ]
    },
    {
     "name": "stdout",
     "output_type": "stream",
     "text": [
      "skipped semisupervised-malay/output-wav/Nak-Sambut-DEKAD-Baru-2020-Tengok-Video-Ni-Dulu.-QO-YWGQvb1Q.mp3-part-8.wav\n"
     ]
    },
    {
     "name": "stderr",
     "output_type": "stream",
     "text": [
      " 48%|████▊     | 62676/130662 [27:32<19:48, 57.21it/s]"
     ]
    },
    {
     "name": "stdout",
     "output_type": "stream",
     "text": [
      "skipped semisupervised-malay/output-wav/Penyakit-WAS-WAS-😥-_-Ustaz-Mohd-Shaffi-wGY7jUCuU3Y.mp3-part-152.wav\n"
     ]
    },
    {
     "name": "stderr",
     "output_type": "stream",
     "text": [
      " 48%|████▊     | 62810/130662 [27:35<17:53, 63.22it/s]"
     ]
    },
    {
     "name": "stdout",
     "output_type": "stream",
     "text": [
      "skipped semisupervised-malay/output-wav/Podcast-Bekpek---Berbasikal-Malaysia-Ke-Mekah(Ditahan-dan-dibawa-Kem-Askar-Pakistan-Semasa-Di-Gunung)-_bfH3pxuOoM.mp3-part-84.wav\n"
     ]
    },
    {
     "name": "stderr",
     "output_type": "stream",
     "text": [
      " 48%|████▊     | 63177/130662 [27:41<16:33, 67.93it/s]"
     ]
    },
    {
     "name": "stdout",
     "output_type": "stream",
     "text": [
      "skipped semisupervised-malay/output-wav/65-_-Wahai-Anak,-Allah-Akan-Menguji-Kamu-!-_-Ustaz-Wadi-Annuar-0ZKxMaNusTA.mp3-part-131.wav\n",
      "skipped semisupervised-malay/output-wav/Sesi-2----Fahami-Realiti-Kerajaan-Diri-NSRWj5Zz7Qo.mp3-part-520.wav\n"
     ]
    },
    {
     "name": "stderr",
     "output_type": "stream",
     "text": [
      " 49%|████▉     | 63733/130662 [27:51<17:10, 64.94it/s]"
     ]
    },
    {
     "name": "stdout",
     "output_type": "stream",
     "text": [
      "skipped semisupervised-malay/output-wav/DIA-HISAP-APA-KAT-TANDAS-SEKOLAH!-bXVvXLHpmS8.mp3-part-138.wav\n"
     ]
    },
    {
     "name": "stderr",
     "output_type": "stream",
     "text": [
      " 49%|████▉     | 64389/130662 [28:03<16:06, 68.60it/s]"
     ]
    },
    {
     "name": "stdout",
     "output_type": "stream",
     "text": [
      "skipped semisupervised-malay/output-wav/IPGM----Cabaran-VUCA-Dari-Perspektif-Pendidikan-Guru-dan-PAK-21-QOCbT-XH36I.mp3-part-2.wav\n"
     ]
    },
    {
     "name": "stderr",
     "output_type": "stream",
     "text": [
      " 49%|████▉     | 64418/130662 [28:04<24:32, 45.00it/s]"
     ]
    },
    {
     "name": "stdout",
     "output_type": "stream",
     "text": [
      "skipped semisupervised-malay/output-wav/PODCAST-[Bahasa-Malaysia]-VlmIyZllgz0.mp3-part-92.wav\n"
     ]
    },
    {
     "name": "stderr",
     "output_type": "stream",
     "text": [
      " 49%|████▉     | 64466/130662 [28:05<17:24, 63.38it/s]"
     ]
    },
    {
     "name": "stdout",
     "output_type": "stream",
     "text": [
      "skipped semisupervised-malay/output-wav/Siri-Imam-4-Mazhab---Imam-As-Syafie-_-Ustaz-Wadi-Annuar-dF7HRsk95aY.mp3-part-249.wav\n"
     ]
    },
    {
     "name": "stderr",
     "output_type": "stream",
     "text": [
      " 50%|████▉     | 64836/130662 [28:12<17:46, 61.72it/s]"
     ]
    },
    {
     "name": "stdout",
     "output_type": "stream",
     "text": [
      "skipped semisupervised-malay/output-wav/WACANA-ILMU----MENJANA--EKONOMI-PASCA--COVID-19-gqo3pB3FVmg.mp3-part-63.wav\n"
     ]
    },
    {
     "name": "stderr",
     "output_type": "stream",
     "text": [
      " 50%|████▉     | 64984/130662 [28:14<18:18, 59.80it/s]"
     ]
    },
    {
     "name": "stdout",
     "output_type": "stream",
     "text": [
      "skipped semisupervised-malay/output-wav/Nak-Sambut-DEKAD-Baru-2020-Tengok-Video-Ni-Dulu.-QO-YWGQvb1Q.mp3-part-34.wav\n"
     ]
    },
    {
     "name": "stderr",
     "output_type": "stream",
     "text": [
      " 50%|█████     | 65354/130662 [28:21<17:04, 63.72it/s]"
     ]
    },
    {
     "name": "stdout",
     "output_type": "stream",
     "text": [
      "skipped semisupervised-malay/output-wav/Buang-BERHALA-Yang-Duduk-Di-Hati-Kita-😥-_-Ustaz-Ahmad-Rizam-EP2qcEFmFD8.mp3-part-118.wav\n"
     ]
    },
    {
     "name": "stderr",
     "output_type": "stream",
     "text": [
      " 50%|█████     | 65506/130662 [28:24<20:36, 52.69it/s]"
     ]
    },
    {
     "name": "stdout",
     "output_type": "stream",
     "text": [
      "skipped semisupervised-manglish/output-wav/Mamak-Sessions-Ep6---Names-People-Always-Mispronounce-&-Facebook-Is-A-Spy-8LuihYdx0FQ.mp3-part-117.wav\n"
     ]
    },
    {
     "name": "stderr",
     "output_type": "stream",
     "text": [
      " 50%|█████     | 65544/130662 [28:24<16:33, 65.55it/s]"
     ]
    },
    {
     "name": "stdout",
     "output_type": "stream",
     "text": [
      "skipped semisupervised-manglish/output-wav/Being-A-Single-Divorced-Woman-At-32-_-The-Thirsty-Sisters-#11-8DMyfcjyrZQ.mp3-part-195.wav\n",
      "skipped semisupervised-manglish/output-wav/Real-Estate-Major-+-NUS-Overseas-College-in-Beijing-_-Singaporean-Podcast-#7-_-Danial-Arun-5SOInBKNP18.mp3-part-208.wav\n"
     ]
    },
    {
     "name": "stderr",
     "output_type": "stream",
     "text": [
      " 50%|█████     | 65574/130662 [28:25<16:12, 66.94it/s]"
     ]
    },
    {
     "name": "stdout",
     "output_type": "stream",
     "text": [
      "skipped semisupervised-manglish/output-wav/Conversations-With-A-Cancer-Survivor-ft-Jared-Lee-L2W4inT6j3c.mp3-part-56.wav\n"
     ]
    },
    {
     "name": "stderr",
     "output_type": "stream",
     "text": [
      " 50%|█████     | 65609/130662 [28:26<20:24, 53.12it/s]"
     ]
    },
    {
     "name": "stdout",
     "output_type": "stream",
     "text": [
      "skipped semisupervised-manglish/output-wav/The-Fashion-Weak-Podcast-Ep24---Penang-Boys-@tunway-瘦虎-&-@Shawnduabui-肥龍-Talk-Zap-Fan-&-Sneakers-dykz_vuzJh0.mp3-part-323.wav\n"
     ]
    },
    {
     "name": "stderr",
     "output_type": "stream",
     "text": [
      " 50%|█████     | 65631/130662 [28:26<17:28, 62.02it/s]"
     ]
    },
    {
     "name": "stdout",
     "output_type": "stream",
     "text": [
      "skipped semisupervised-manglish/output-wav/Mamak-Sessions---The-Asian-Mom-Of-The-Internet-ft-Tata-Wyb6i3GoJv4.mp3-part-98.wav\n"
     ]
    },
    {
     "name": "stderr",
     "output_type": "stream",
     "text": [
      " 50%|█████     | 65715/130662 [28:27<17:27, 62.00it/s]"
     ]
    },
    {
     "name": "stdout",
     "output_type": "stream",
     "text": [
      "skipped semisupervised-manglish/output-wav/Mamak-Sessions---We-May-Not-Always-End-Up-Doing-What-We-Thought-We-Would..And-That's-Not-A-Bad-Thing-IAeN0jG9Hwc.mp3-part-173.wav\n"
     ]
    },
    {
     "name": "stderr",
     "output_type": "stream",
     "text": [
      " 50%|█████     | 65817/130662 [28:29<17:36, 61.37it/s]"
     ]
    },
    {
     "name": "stdout",
     "output_type": "stream",
     "text": [
      "skipped semisupervised-manglish/output-wav/Talking-Sneakers-&-Strong-Sperm-With-@bryanbotakchin---The-Fashion-Weak-Podcast-Episode-11-iugevNPFp2Y.mp3-part-105.wav\n"
     ]
    },
    {
     "name": "stderr",
     "output_type": "stream",
     "text": [
      " 50%|█████     | 65930/130662 [28:31<15:47, 68.30it/s]"
     ]
    },
    {
     "name": "stdout",
     "output_type": "stream",
     "text": [
      "skipped semisupervised-manglish/output-wav/Grown-Up-Flex-With-YouTube-Superstar-@JinnyBoy---The-Fashion-Weak-Podcast-Episode-9-7wiSVCBFmFc.mp3-part-125.wav\n"
     ]
    },
    {
     "name": "stderr",
     "output_type": "stream",
     "text": [
      " 50%|█████     | 65959/130662 [28:32<19:21, 55.71it/s]"
     ]
    },
    {
     "name": "stdout",
     "output_type": "stream",
     "text": [
      "skipped semisupervised-manglish/output-wav/Mamak-Sessions-Ep6---Names-People-Always-Mispronounce-&-Facebook-Is-A-Spy-8LuihYdx0FQ.mp3-part-10.wav\n"
     ]
    },
    {
     "name": "stderr",
     "output_type": "stream",
     "text": [
      " 50%|█████     | 65982/130662 [28:32<16:48, 64.13it/s]"
     ]
    },
    {
     "name": "stdout",
     "output_type": "stream",
     "text": [
      "skipped semisupervised-manglish/output-wav/Mamak-Sessions---Our-Differences-Is-What-Unites-Us-ft.-Elvin-Romeo-0jySfrZhs50.mp3-part-187.wav\n"
     ]
    },
    {
     "name": "stderr",
     "output_type": "stream",
     "text": [
      " 51%|█████     | 66004/130662 [28:33<17:20, 62.15it/s]"
     ]
    },
    {
     "name": "stdout",
     "output_type": "stream",
     "text": [
      "skipped semisupervised-manglish/output-wav/Debbie-on-Getting-Pregnant,-Breaking-The-News-To-Her-Parents-and-Being-A-Young-Mom-hi4MpQZVzYY.mp3-part-59.wav\n"
     ]
    },
    {
     "name": "stderr",
     "output_type": "stream",
     "text": [
      " 51%|█████     | 66090/130662 [28:34<16:02, 67.12it/s]"
     ]
    },
    {
     "name": "stdout",
     "output_type": "stream",
     "text": [
      "skipped semisupervised-manglish/output-wav/The-Fashion-Weak-Podcast-Ep-39---Talking-Turn-On's-and-Fashion-Bulk-Buy-Deals-With-Tata-Wanqian-WSVo-qvu1GQ.mp3-part-418.wav\n"
     ]
    },
    {
     "name": "stderr",
     "output_type": "stream",
     "text": [
      " 51%|█████     | 66105/130662 [28:34<15:55, 67.57it/s]"
     ]
    },
    {
     "name": "stdout",
     "output_type": "stream",
     "text": [
      "skipped semisupervised-manglish/output-wav/Conversations-with-a-Young-Singaporean-CEO--Gao-Fei,-CEO-of-LearnSeeker-_-Singaporean-Podcast-#13--b9YHjghfd2E.mp3-part-397.wav\n"
     ]
    },
    {
     "name": "stderr",
     "output_type": "stream",
     "text": [
      " 51%|█████     | 66263/130662 [28:37<17:46, 60.37it/s]"
     ]
    },
    {
     "name": "stdout",
     "output_type": "stream",
     "text": [
      "skipped semisupervised-manglish/output-wav/Burnout-in-the-Media-Industry-+-Passion-in-Theatre--_-Singaporean-Podcast-#16-_-Rennes-Lee-f7qEqPNzGk8.mp3-part-319.wav\n"
     ]
    },
    {
     "name": "stderr",
     "output_type": "stream",
     "text": [
      " 51%|█████     | 66410/130662 [28:40<16:17, 65.72it/s]"
     ]
    },
    {
     "name": "stdout",
     "output_type": "stream",
     "text": [
      "skipped semisupervised-manglish/output-wav/Are-We-Still-Sexualising-Women-in-2020-_-Thirsty-Sisters-#13-zHC1MPeSP34.mp3-part-311.wav\n"
     ]
    },
    {
     "name": "stderr",
     "output_type": "stream",
     "text": [
      " 51%|█████     | 66451/130662 [28:41<15:14, 70.18it/s]"
     ]
    },
    {
     "name": "stdout",
     "output_type": "stream",
     "text": [
      "skipped semisupervised-manglish/output-wav/Mamak-Sessions-Podcast---Girl-Gets-Caned-For-Calling-her-Teacher-'AH-GUA'-PRN5UrsDF6w.mp3-part-557.wav\n",
      "skipped semisupervised-manglish/output-wav/The-Fashion-Weak-Podcast-Ep-21---Suitmaker-To-The-Stars,-Shahrin-Bahar-aka-@sbahar.my-Pkv6d83oe8s.mp3-part-232.wav\n"
     ]
    },
    {
     "name": "stderr",
     "output_type": "stream",
     "text": [
      " 51%|█████     | 66527/130662 [28:42<16:09, 66.12it/s]"
     ]
    },
    {
     "name": "stdout",
     "output_type": "stream",
     "text": [
      "skipped semisupervised-manglish/output-wav/The-Fashion-Weak-Podcast-Ep-43A---Keeping-Fair-On-The-Fairway-With-Natalia-Ng-CSP1XPZu4YY.mp3-part-243.wav\n"
     ]
    },
    {
     "name": "stderr",
     "output_type": "stream",
     "text": [
      " 51%|█████     | 66541/130662 [28:42<16:32, 64.60it/s]"
     ]
    },
    {
     "name": "stdout",
     "output_type": "stream",
     "text": [
      "skipped semisupervised-manglish/output-wav/Mamak-Sessions-Ep6---Names-People-Always-Mispronounce-&-Facebook-Is-A-Spy-8LuihYdx0FQ.mp3-part-369.wav\n"
     ]
    },
    {
     "name": "stderr",
     "output_type": "stream",
     "text": [
      " 51%|█████     | 66692/130662 [28:45<16:40, 63.94it/s]"
     ]
    },
    {
     "name": "stdout",
     "output_type": "stream",
     "text": [
      "skipped semisupervised-manglish/output-wav/Mamak-Sessions-Ep6---Names-People-Always-Mispronounce-&-Facebook-Is-A-Spy-8LuihYdx0FQ.mp3-part-167.wav\n",
      "skipped semisupervised-manglish/output-wav/Mamak-Sessions-Ep6---Names-People-Always-Mispronounce-&-Facebook-Is-A-Spy-8LuihYdx0FQ.mp3-part-43.wav\n"
     ]
    },
    {
     "name": "stderr",
     "output_type": "stream",
     "text": [
      " 51%|█████     | 66707/130662 [28:45<15:40, 67.98it/s]"
     ]
    },
    {
     "name": "stdout",
     "output_type": "stream",
     "text": [
      "skipped semisupervised-manglish/output-wav/Mamak-Sessions-Ep9---Sibling-Rivalry-ft-Julian-Yee-670FyeJhnps.mp3-part-373.wav\n"
     ]
    },
    {
     "name": "stderr",
     "output_type": "stream",
     "text": [
      " 51%|█████     | 66736/130662 [28:46<16:17, 65.42it/s]"
     ]
    },
    {
     "name": "stdout",
     "output_type": "stream",
     "text": [
      "skipped semisupervised-manglish/output-wav/The-Fashion-Weak-Podcast-Ep-23---Alicia-Amin-On-Being-A-'Malay'-Model-In-2019-3pKA5NvTCOA.mp3-part-119.wav\n"
     ]
    },
    {
     "name": "stderr",
     "output_type": "stream",
     "text": [
      " 51%|█████     | 66935/130662 [28:50<21:46, 48.78it/s]"
     ]
    },
    {
     "name": "stdout",
     "output_type": "stream",
     "text": [
      "skipped semisupervised-manglish/output-wav/The-Fashion-Weak-Podcast-Ep-23---Alicia-Amin-On-Being-A-'Malay'-Model-In-2019-3pKA5NvTCOA.mp3-part-624.wav\n"
     ]
    },
    {
     "name": "stderr",
     "output_type": "stream",
     "text": [
      " 51%|█████     | 66955/130662 [28:50<20:08, 52.72it/s]"
     ]
    },
    {
     "name": "stdout",
     "output_type": "stream",
     "text": [
      "skipped semisupervised-manglish/output-wav/The-Fashion-Weak-Podcast-Ep-23---Alicia-Amin-On-Being-A-'Malay'-Model-In-2019-3pKA5NvTCOA.mp3-part-334.wav\n"
     ]
    },
    {
     "name": "stderr",
     "output_type": "stream",
     "text": [
      " 51%|█████▏    | 67034/130662 [28:51<19:59, 53.05it/s]"
     ]
    },
    {
     "name": "stdout",
     "output_type": "stream",
     "text": [
      "skipped semisupervised-manglish/output-wav/Mamak-Sessions---Nasi-Lemak-Sneakers-zLEmAKdG9vY.mp3-part-20.wav\n"
     ]
    },
    {
     "name": "stderr",
     "output_type": "stream",
     "text": [
      " 51%|█████▏    | 67092/130662 [28:52<16:26, 64.44it/s]"
     ]
    },
    {
     "name": "stdout",
     "output_type": "stream",
     "text": [
      "skipped semisupervised-manglish/output-wav/The-Fashion-Weak-Podcast-Ep-40---tdcjTfzYSbk.mp3-part-400.wav\n",
      "skipped semisupervised-manglish/output-wav/Burnout-in-the-Media-Industry-+-Passion-in-Theatre--_-Singaporean-Podcast-#16-_-Rennes-Lee-f7qEqPNzGk8.mp3-part-196.wav\n"
     ]
    },
    {
     "name": "stderr",
     "output_type": "stream",
     "text": [
      " 51%|█████▏    | 67134/130662 [28:53<17:59, 58.83it/s]"
     ]
    },
    {
     "name": "stdout",
     "output_type": "stream",
     "text": [
      "skipped semisupervised-manglish/output-wav/The-Fashion-Weak-Podcast-Ep-32---Getting-Surprised-Reading-Melissa-Campbell's-(@heymelbelle)-IG-DMs-mJuKUwFpDgI.mp3-part-819.wav\n"
     ]
    },
    {
     "name": "stderr",
     "output_type": "stream",
     "text": [
      " 51%|█████▏    | 67196/130662 [28:54<24:18, 43.52it/s]"
     ]
    },
    {
     "name": "stdout",
     "output_type": "stream",
     "text": [
      "skipped semisupervised-manglish/output-wav/The-Fashion-Weak-Podcast-Ep-40---tdcjTfzYSbk.mp3-part-979.wav\n"
     ]
    },
    {
     "name": "stderr",
     "output_type": "stream",
     "text": [
      " 51%|█████▏    | 67233/130662 [28:55<17:46, 59.47it/s]"
     ]
    },
    {
     "name": "stdout",
     "output_type": "stream",
     "text": [
      "skipped semisupervised-manglish/output-wav/Mamak-Sessions---The-Asian-Mom-Of-The-Internet-ft-Tata-Wyb6i3GoJv4.mp3-part-475.wav\n"
     ]
    },
    {
     "name": "stderr",
     "output_type": "stream",
     "text": [
      " 52%|█████▏    | 67345/130662 [28:57<16:00, 65.93it/s]"
     ]
    },
    {
     "name": "stdout",
     "output_type": "stream",
     "text": [
      "skipped semisupervised-manglish/output-wav/Priorities-as-University-Graduates-and-The-MALAYSIA-Hustle-_-Singaporean-Podcast-#12-_-Zhi-Rong-TYL7mmbpsbo.mp3-part-446.wav\n"
     ]
    },
    {
     "name": "stderr",
     "output_type": "stream",
     "text": [
      " 52%|█████▏    | 67382/130662 [28:58<20:51, 50.57it/s]"
     ]
    },
    {
     "name": "stdout",
     "output_type": "stream",
     "text": [
      "skipped semisupervised-manglish/output-wav/The-Fashion-Weak-Podcast-Ep35---Is-New-Balance-Cool-Now-Talking-everything-NOT-Nike-with-@adlysyairi-3b0bYe36KNE.mp3-part-284.wav\n",
      "skipped semisupervised-manglish/output-wav/The-Fashion-Weak-Podcast-Ep-45---Finessing-A-New-Phone-Every-Year-With-Mamak-Rap-King-Jiven-Sekar-VlovwtVYuw0.mp3-part-619.wav\n",
      "skipped semisupervised-manglish/output-wav/Mamak-Sessions-Ep6---Names-People-Always-Mispronounce-&-Facebook-Is-A-Spy-8LuihYdx0FQ.mp3-part-250.wav\n"
     ]
    },
    {
     "name": "stderr",
     "output_type": "stream",
     "text": [
      " 52%|█████▏    | 67417/130662 [28:58<18:11, 57.95it/s]"
     ]
    },
    {
     "name": "stdout",
     "output_type": "stream",
     "text": [
      "skipped semisupervised-manglish/output-wav/Thinking-Long-And-Hard-With-@prakashdanielcomedy---The-Fashion-Weak-Podcast-Episode-13-UryaihXnjBk.mp3-part-264.wav\n"
     ]
    },
    {
     "name": "stderr",
     "output_type": "stream",
     "text": [
      " 52%|█████▏    | 67434/130662 [28:59<16:06, 65.43it/s]"
     ]
    },
    {
     "name": "stdout",
     "output_type": "stream",
     "text": [
      "skipped semisupervised-manglish/output-wav/The-Fashion-Weak-Podcast-Ep-15---Underwear-Sneakers-&-Fruits-With-@OhZooey-HDuY9UdkkaE.mp3-part-184.wav\n",
      "skipped semisupervised-manglish/output-wav/Mamak-Sessions---Quitting-The-Medical-Line-To-Make-People-Laugh-ft-Dr.-Jason-Leong-FcD9MpeWqEI.mp3-part-113.wav\n"
     ]
    },
    {
     "name": "stderr",
     "output_type": "stream",
     "text": [
      " 52%|█████▏    | 67470/130662 [28:59<15:51, 66.41it/s]"
     ]
    },
    {
     "name": "stdout",
     "output_type": "stream",
     "text": [
      "skipped semisupervised-manglish/output-wav/Mamak-Sessions-Ep9---Sibling-Rivalry-ft-Julian-Yee-670FyeJhnps.mp3-part-90.wav\n"
     ]
    },
    {
     "name": "stderr",
     "output_type": "stream",
     "text": [
      " 52%|█████▏    | 67500/130662 [29:00<18:37, 56.54it/s]"
     ]
    },
    {
     "name": "stdout",
     "output_type": "stream",
     "text": [
      "skipped semisupervised-manglish/output-wav/Is-The-Panic-Behaviour-Really-Inexcusable-_-IMO-Ep.2-e4mNzKOZrJ0.mp3-part-46.wav\n"
     ]
    },
    {
     "name": "stderr",
     "output_type": "stream",
     "text": [
      " 52%|█████▏    | 67551/130662 [29:01<16:18, 64.51it/s]"
     ]
    },
    {
     "name": "stdout",
     "output_type": "stream",
     "text": [
      "skipped semisupervised-manglish/output-wav/The-Fashion-Weak-Podcast-Ep-33---Lingerie-&-Bikini-Talk-With-Talitha-Tan-(@talithabe)-_7Un0q6a9zg.mp3-part-763.wav\n"
     ]
    },
    {
     "name": "stderr",
     "output_type": "stream",
     "text": [
      "\r",
      " 52%|█████▏    | 67558/130662 [29:01<15:55, 66.05it/s]"
     ]
    },
    {
     "name": "stdout",
     "output_type": "stream",
     "text": [
      "skipped semisupervised-manglish/output-wav/The-Fashion-Weak-Podcast-Ep-15---Underwear-Sneakers-&-Fruits-With-@OhZooey-HDuY9UdkkaE.mp3-part-3.wav\n"
     ]
    },
    {
     "name": "stderr",
     "output_type": "stream",
     "text": [
      " 52%|█████▏    | 67633/130662 [29:02<15:16, 68.75it/s]"
     ]
    },
    {
     "name": "stdout",
     "output_type": "stream",
     "text": [
      "skipped semisupervised-manglish/output-wav/Mamak-Sessions-Podcast---Committing-Suicide,-Mental-Health-And-How-To-Seek-Help-EHlGktcfDZc.mp3-part-11.wav\n"
     ]
    },
    {
     "name": "stderr",
     "output_type": "stream",
     "text": [
      " 52%|█████▏    | 67657/130662 [29:02<15:07, 69.42it/s]"
     ]
    },
    {
     "name": "stdout",
     "output_type": "stream",
     "text": [
      "skipped semisupervised-manglish/output-wav/Mamak-Sessions---The-Asian-Mom-Of-The-Internet-ft-Tata-Wyb6i3GoJv4.mp3-part-66.wav\n"
     ]
    },
    {
     "name": "stderr",
     "output_type": "stream",
     "text": [
      " 52%|█████▏    | 67686/130662 [29:03<19:47, 53.04it/s]"
     ]
    },
    {
     "name": "stdout",
     "output_type": "stream",
     "text": [
      "skipped semisupervised-manglish/output-wav/The-Fashion-Weak-Podcast-Ep24---Penang-Boys-@tunway-瘦虎-&-@Shawnduabui-肥龍-Talk-Zap-Fan-&-Sneakers-dykz_vuzJh0.mp3-part-733.wav\n",
      "skipped semisupervised-manglish/output-wav/The-Fashion-Weak-Podcast-Ep24---Penang-Boys-@tunway-瘦虎-&-@Shawnduabui-肥龍-Talk-Zap-Fan-&-Sneakers-dykz_vuzJh0.mp3-part-54.wav\n"
     ]
    },
    {
     "name": "stderr",
     "output_type": "stream",
     "text": [
      " 52%|█████▏    | 67735/130662 [29:04<16:57, 61.82it/s]"
     ]
    },
    {
     "name": "stdout",
     "output_type": "stream",
     "text": [
      "skipped semisupervised-manglish/output-wav/Become-a-Software-Developer-in-90-days-and-Running-His-Own-Company-_-Singaporean-Podcast-#8-_-Haris-HRd3RMQtkDs.mp3-part-47.wav\n"
     ]
    },
    {
     "name": "stderr",
     "output_type": "stream",
     "text": [
      " 52%|█████▏    | 67783/130662 [29:05<18:07, 57.83it/s]"
     ]
    },
    {
     "name": "stdout",
     "output_type": "stream",
     "text": [
      "skipped semisupervised-manglish/output-wav/The-Fashion-Weak-Podcast-Ep-28-@dreamrocketeers-on-that-Rolex-you-should-cop-to-flex-on-poor-friends-shV1F1JlDzk.mp3-part-589.wav\n",
      "skipped semisupervised-manglish/output-wav/Mamak-Sessions---Our-Differences-Is-What-Unites-Us-ft.-Elvin-Romeo-0jySfrZhs50.mp3-part-47.wav\n"
     ]
    },
    {
     "name": "stderr",
     "output_type": "stream",
     "text": [
      " 52%|█████▏    | 67899/130662 [29:07<16:45, 62.42it/s]"
     ]
    },
    {
     "name": "stdout",
     "output_type": "stream",
     "text": [
      "skipped semisupervised-manglish/output-wav/Talking-Sneakers-&-Strong-Sperm-With-@bryanbotakchin---The-Fashion-Weak-Podcast-Episode-11-iugevNPFp2Y.mp3-part-312.wav\n"
     ]
    },
    {
     "name": "stderr",
     "output_type": "stream",
     "text": [
      " 52%|█████▏    | 67962/130662 [29:08<18:59, 55.02it/s]"
     ]
    },
    {
     "name": "stdout",
     "output_type": "stream",
     "text": [
      "skipped semisupervised-manglish/output-wav/Mamak-Sessions-Ep6---Names-People-Always-Mispronounce-&-Facebook-Is-A-Spy-8LuihYdx0FQ.mp3-part-8.wav\n"
     ]
    },
    {
     "name": "stderr",
     "output_type": "stream",
     "text": [
      " 52%|█████▏    | 67983/130662 [29:08<17:09, 60.89it/s]"
     ]
    },
    {
     "name": "stdout",
     "output_type": "stream",
     "text": [
      "skipped semisupervised-manglish/output-wav/Mamak-Sessions---The-Asian-Mom-Of-The-Internet-ft-Tata-Wyb6i3GoJv4.mp3-part-95.wav\n"
     ]
    },
    {
     "name": "stderr",
     "output_type": "stream",
     "text": [
      " 52%|█████▏    | 68083/130662 [29:10<17:07, 60.88it/s]"
     ]
    },
    {
     "name": "stdout",
     "output_type": "stream",
     "text": [
      "skipped semisupervised-manglish/output-wav/The-Fashion-Weak-Podcast-Ep-21---Suitmaker-To-The-Stars,-Shahrin-Bahar-aka-@sbahar.my-Pkv6d83oe8s.mp3-part-141.wav\n",
      "skipped semisupervised-manglish/output-wav/Mamak-Sessions-Ep13---Game-Of-Thrones-Is-OVER!-Malaysian-Accent-is-sexy!--mAdHcMGmEs.mp3-part-87.wav\n"
     ]
    },
    {
     "name": "stderr",
     "output_type": "stream",
     "text": [
      " 52%|█████▏    | 68126/130662 [29:11<20:06, 51.81it/s]"
     ]
    },
    {
     "name": "stdout",
     "output_type": "stream",
     "text": [
      "skipped semisupervised-manglish/output-wav/Mamak-Sessions---My-Asian-Parents-Were-Initially-Ashamed-Of-My-Career-NqCp8Csl7PE.mp3-part-113.wav\n"
     ]
    },
    {
     "name": "stderr",
     "output_type": "stream",
     "text": [
      " 52%|█████▏    | 68190/130662 [29:12<15:25, 67.50it/s]"
     ]
    },
    {
     "name": "stdout",
     "output_type": "stream",
     "text": [
      "skipped semisupervised-manglish/output-wav/The-Fashion-Weak-Podcast-Ep-23---Alicia-Amin-On-Being-A-'Malay'-Model-In-2019-3pKA5NvTCOA.mp3-part-291.wav\n"
     ]
    },
    {
     "name": "stderr",
     "output_type": "stream",
     "text": [
      " 52%|█████▏    | 68342/130662 [29:15<15:42, 66.15it/s]"
     ]
    },
    {
     "name": "stdout",
     "output_type": "stream",
     "text": [
      "skipped semisupervised-manglish/output-wav/The-Fashion-Weak-Podcast-Ep-38---TikTok-Royalty-Roshan-Jeet-aka-Roshannnn1-lPnRg9UsP0M.mp3-part-858.wav\n"
     ]
    },
    {
     "name": "stderr",
     "output_type": "stream",
     "text": [
      " 52%|█████▏    | 68417/130662 [29:16<17:07, 60.60it/s]"
     ]
    },
    {
     "name": "stdout",
     "output_type": "stream",
     "text": [
      "skipped semisupervised-manglish/output-wav/How-To-Be-A-Damn-Good-Software-Developer-+-Israel-Startup-Culture-_-Singaporean-Podcast-#11-_-Mark-cs2LkcSpNpw.mp3-part-196.wav\n"
     ]
    },
    {
     "name": "stderr",
     "output_type": "stream",
     "text": [
      " 52%|█████▏    | 68439/130662 [29:17<16:44, 61.94it/s]"
     ]
    },
    {
     "name": "stdout",
     "output_type": "stream",
     "text": [
      "skipped semisupervised-manglish/output-wav/The-Truth-Behind-Our-Relationship!-Are-We-Really-Sisters-_-The-Thirsty-Sisters-#10-rkwCky94IhQ.mp3-part-31.wav\n"
     ]
    },
    {
     "name": "stderr",
     "output_type": "stream",
     "text": [
      " 52%|█████▏    | 68484/130662 [29:17<20:11, 51.33it/s]"
     ]
    },
    {
     "name": "stdout",
     "output_type": "stream",
     "text": [
      "skipped semisupervised-manglish/output-wav/The-Fashion-Weak-Podcast-Ep-43---Thirst-Trapping-Simps-&-Loving-Your-Body-From-The-Outside-In-6R87P6YD2c4.mp3-part-609.wav\n",
      "skipped semisupervised-manglish/output-wav/The-Fashion-Weak-Podcast-Ep-43A---Keeping-Fair-On-The-Fairway-With-Natalia-Ng-CSP1XPZu4YY.mp3-part-363.wav\n",
      "skipped semisupervised-manglish/output-wav/The-Fashion-Weak-Podcast-Ep24---Penang-Boys-@tunway-瘦虎-&-@Shawnduabui-肥龍-Talk-Zap-Fan-&-Sneakers-dykz_vuzJh0.mp3-part-636.wav\n"
     ]
    },
    {
     "name": "stderr",
     "output_type": "stream",
     "text": [
      " 52%|█████▏    | 68528/130662 [29:18<17:50, 58.05it/s]"
     ]
    },
    {
     "name": "stdout",
     "output_type": "stream",
     "text": [
      "skipped semisupervised-manglish/output-wav/The-Fashion-Weak-Podcast-Ep-21---Suitmaker-To-The-Stars,-Shahrin-Bahar-aka-@sbahar.my-Pkv6d83oe8s.mp3-part-27.wav\n"
     ]
    },
    {
     "name": "stderr",
     "output_type": "stream",
     "text": [
      " 53%|█████▎    | 68641/130662 [29:20<14:24, 71.73it/s]"
     ]
    },
    {
     "name": "stdout",
     "output_type": "stream",
     "text": [
      "skipped semisupervised-manglish/output-wav/Do-You-Know-Your-Attachment-Style!-_-The-Thirsty-Sisters-#21-HKnXUGo_H2U.mp3-part-114.wav\n",
      "skipped semisupervised-manglish/output-wav/The-Fashion-Weak-Podcast-Ep-45---Finessing-A-New-Phone-Every-Year-With-Mamak-Rap-King-Jiven-Sekar-VlovwtVYuw0.mp3-part-346.wav\n"
     ]
    },
    {
     "name": "stderr",
     "output_type": "stream",
     "text": [
      " 53%|█████▎    | 68686/130662 [29:21<17:12, 60.02it/s]"
     ]
    },
    {
     "name": "stdout",
     "output_type": "stream",
     "text": [
      "skipped semisupervised-manglish/output-wav/Wanna-Die-We-Call-Out-CB-Rule-Breakers-And-Idiots-_-The-Thirsty-Sisters-#1-jJN0vH42wcs.mp3-part-392.wav\n"
     ]
    },
    {
     "name": "stderr",
     "output_type": "stream",
     "text": [
      " 53%|█████▎    | 68791/130662 [29:23<16:24, 62.84it/s]"
     ]
    },
    {
     "name": "stdout",
     "output_type": "stream",
     "text": [
      "skipped semisupervised-manglish/output-wav/Mamak-Sessions---From-A-Transport-Assistant-to-a-Multi-Award-Winning-Film-Director-r6f3OoHVkgU.mp3-part-77.wav\n",
      "skipped semisupervised-manglish/output-wav/Amander-Reveals-Why-She-Left-Titan---The-Team-Titan-Show-7byI9tIJeRk.mp3-part-529.wav\n"
     ]
    },
    {
     "name": "stderr",
     "output_type": "stream",
     "text": [
      " 53%|█████▎    | 68834/130662 [29:23<16:12, 63.55it/s]"
     ]
    },
    {
     "name": "stdout",
     "output_type": "stream",
     "text": [
      "skipped semisupervised-manglish/output-wav/The-Fashion-Weak-Podcast-Ep-26---Chinese-New-Year-with-Stand-Up-Comedian-_-Fashionista-Kuah-Jenhan-Yv7uONh96tc.mp3-part-218.wav\n"
     ]
    },
    {
     "name": "stderr",
     "output_type": "stream",
     "text": [
      " 53%|█████▎    | 68862/130662 [29:24<19:30, 52.79it/s]"
     ]
    },
    {
     "name": "stdout",
     "output_type": "stream",
     "text": [
      "skipped semisupervised-manglish/output-wav/Mamak-Sessions---Girls-Are-Such-Complicated-Lil-Creatures-feat.-Talitha.-I2BaN8cm6NY.mp3-part-88.wav\n",
      "skipped semisupervised-manglish/output-wav/The-Fashion-Weak-Podcast-Ep-40---tdcjTfzYSbk.mp3-part-502.wav\n"
     ]
    },
    {
     "name": "stderr",
     "output_type": "stream",
     "text": [
      " 53%|█████▎    | 68993/130662 [29:26<16:41, 61.58it/s]"
     ]
    },
    {
     "name": "stdout",
     "output_type": "stream",
     "text": [
      "skipped semisupervised-manglish/output-wav/Become-a-Software-Developer-in-90-days-and-Running-His-Own-Company-_-Singaporean-Podcast-#8-_-Haris-HRd3RMQtkDs.mp3-part-35.wav\n",
      "skipped semisupervised-manglish/output-wav/Debbie-on-Getting-Pregnant,-Breaking-The-News-To-Her-Parents-and-Being-A-Young-Mom-hi4MpQZVzYY.mp3-part-10.wav\n"
     ]
    },
    {
     "name": "stderr",
     "output_type": "stream",
     "text": [
      " 53%|█████▎    | 69014/130662 [29:27<15:30, 66.26it/s]"
     ]
    },
    {
     "name": "stdout",
     "output_type": "stream",
     "text": [
      "skipped semisupervised-manglish/output-wav/Mamak-Sessions---The-Miss-World-Crown-is-more-than-$4,000,000!-PazCOj1nb3c.mp3-part-143.wav\n"
     ]
    },
    {
     "name": "stderr",
     "output_type": "stream",
     "text": [
      " 53%|█████▎    | 69065/130662 [29:28<16:39, 61.64it/s]"
     ]
    },
    {
     "name": "stdout",
     "output_type": "stream",
     "text": [
      "skipped semisupervised-manglish/output-wav/My-First-Boyfriend-Cheated-On-Me-With-Several-Girls-_-The-Thirsty-Sisters-#9-Y6RYZpbANJI.mp3-part-168.wav\n"
     ]
    },
    {
     "name": "stderr",
     "output_type": "stream",
     "text": [
      " 53%|█████▎    | 69080/130662 [29:28<15:40, 65.45it/s]"
     ]
    },
    {
     "name": "stdout",
     "output_type": "stream",
     "text": [
      "skipped semisupervised-manglish/output-wav/The-Fashion-Weak-Podcast-Ep-43A---Keeping-Fair-On-The-Fairway-With-Natalia-Ng-CSP1XPZu4YY.mp3-part-51.wav\n"
     ]
    },
    {
     "name": "stderr",
     "output_type": "stream",
     "text": [
      " 53%|█████▎    | 69174/130662 [29:29<14:56, 68.62it/s]"
     ]
    },
    {
     "name": "stdout",
     "output_type": "stream",
     "text": [
      "skipped semisupervised-manglish/output-wav/The-Fashion-Weak-Podcast-Ep-28-@dreamrocketeers-on-that-Rolex-you-should-cop-to-flex-on-poor-friends-shV1F1JlDzk.mp3-part-457.wav\n",
      "skipped semisupervised-manglish/output-wav/The-Fashion-Weak-Podcast-Ep-32---Getting-Surprised-Reading-Melissa-Campbell's-(@heymelbelle)-IG-DMs-mJuKUwFpDgI.mp3-part-116.wav\n"
     ]
    },
    {
     "name": "stderr",
     "output_type": "stream",
     "text": [
      " 53%|█████▎    | 69197/130662 [29:30<14:53, 68.76it/s]"
     ]
    },
    {
     "name": "stdout",
     "output_type": "stream",
     "text": [
      "skipped semisupervised-manglish/output-wav/The-Fashion-Weak-Podcast-Ep-33---Lingerie-&-Bikini-Talk-With-Talitha-Tan-(@talithabe)-_7Un0q6a9zg.mp3-part-102.wav\n"
     ]
    },
    {
     "name": "stderr",
     "output_type": "stream",
     "text": [
      " 53%|█████▎    | 69250/130662 [29:31<16:02, 63.83it/s]"
     ]
    },
    {
     "name": "stdout",
     "output_type": "stream",
     "text": [
      "skipped semisupervised-manglish/output-wav/Mamak-Sessions-Ep10---Datuk-Nicol-David-is-RETIRING!-n3AR3nQEc7Y.mp3-part-349.wav\n",
      "skipped semisupervised-manglish/output-wav/Mamak-Sessions---Are-Social-Media-Influencers-Entitled-ZJ8jw3C9vB8.mp3-part-155.wav\n"
     ]
    },
    {
     "name": "stderr",
     "output_type": "stream",
     "text": [
      " 53%|█████▎    | 69419/130662 [29:34<17:45, 57.49it/s]"
     ]
    },
    {
     "name": "stdout",
     "output_type": "stream",
     "text": [
      "skipped semisupervised-manglish/output-wav/The-Fashion-Weak-Podcast-Ep-31----Possibly-Our-Most-NSFW-Episode-Yet-With-@vikarworld-xMm23vU8_og.mp3-part-526.wav\n"
     ]
    },
    {
     "name": "stderr",
     "output_type": "stream",
     "text": [
      " 53%|█████▎    | 69470/130662 [29:35<15:47, 64.59it/s]"
     ]
    },
    {
     "name": "stdout",
     "output_type": "stream",
     "text": [
      "skipped semisupervised-manglish/output-wav/Ghost-Stories-From-Our-Childhood!-_-The-Thirsty-Sisters-#23-Hioy9UvH4yE.mp3-part-405.wav\n"
     ]
    },
    {
     "name": "stderr",
     "output_type": "stream",
     "text": [
      " 53%|█████▎    | 69539/130662 [29:36<14:43, 69.22it/s]"
     ]
    },
    {
     "name": "stdout",
     "output_type": "stream",
     "text": [
      "skipped semisupervised-manglish/output-wav/The-Fashion-Weak-Podcast-Ep-45---Finessing-A-New-Phone-Every-Year-With-Mamak-Rap-King-Jiven-Sekar-VlovwtVYuw0.mp3-part-191.wav\n"
     ]
    },
    {
     "name": "stderr",
     "output_type": "stream",
     "text": [
      " 53%|█████▎    | 69562/130662 [29:36<16:28, 61.82it/s]"
     ]
    },
    {
     "name": "stdout",
     "output_type": "stream",
     "text": [
      "skipped semisupervised-manglish/output-wav/Mamak-Sessions---Blaming-Yourself-For-Your-Parents'-Divorce,-And-How-Our-Parents-Punish-Us-x8Gl_zIC9CQ.mp3-part-346.wav\n"
     ]
    },
    {
     "name": "stderr",
     "output_type": "stream",
     "text": [
      " 53%|█████▎    | 69700/130662 [29:39<16:20, 62.17it/s]"
     ]
    },
    {
     "name": "stdout",
     "output_type": "stream",
     "text": [
      "skipped semisupervised-manglish/output-wav/Mamak-Sessions---Can-Guys-And-Girls-Be-Best-Friends-Is-it-ok-to-see-more-than-one-person-at-a-time-IixUPM11VMY.mp3-part-431.wav\n"
     ]
    },
    {
     "name": "stderr",
     "output_type": "stream",
     "text": [
      " 53%|█████▎    | 69862/130662 [29:42<19:39, 51.56it/s]"
     ]
    },
    {
     "name": "stdout",
     "output_type": "stream",
     "text": [
      "skipped semisupervised-manglish/output-wav/Mamak-Sessions---The-Asian-Mom-Of-The-Internet-ft-Tata-Wyb6i3GoJv4.mp3-part-3.wav\n"
     ]
    },
    {
     "name": "stderr",
     "output_type": "stream",
     "text": [
      " 53%|█████▎    | 69878/130662 [29:42<16:37, 60.95it/s]"
     ]
    },
    {
     "name": "stdout",
     "output_type": "stream",
     "text": [
      "skipped semisupervised-manglish/output-wav/MILF-hunting-with-Audrey-Ooi-aka-@fourfeetnine---The-Fashion-Weak-Podcast-Episode-1-eXpirKKPBUA.mp3-part-134.wav\n",
      "skipped semisupervised-manglish/output-wav/Thinking-Long-And-Hard-With-@prakashdanielcomedy---The-Fashion-Weak-Podcast-Episode-13-UryaihXnjBk.mp3-part-184.wav\n"
     ]
    },
    {
     "name": "stderr",
     "output_type": "stream",
     "text": [
      " 53%|█████▎    | 69903/130662 [29:43<14:22, 70.45it/s]"
     ]
    },
    {
     "name": "stdout",
     "output_type": "stream",
     "text": [
      "skipped semisupervised-manglish/output-wav/The-Fashion-Weak-Podcast-Ep-19---Butt-Stuff-&-Actual-Fashion-With-Zane-Gan-jhLgzHQnAHU.mp3-part-202.wav\n"
     ]
    },
    {
     "name": "stderr",
     "output_type": "stream",
     "text": [
      " 54%|█████▎    | 69955/130662 [29:44<17:51, 56.68it/s]"
     ]
    },
    {
     "name": "stdout",
     "output_type": "stream",
     "text": [
      "skipped semisupervised-manglish/output-wav/The-Fashion-Weak-Podcast-Ep-30---On-her-way-to-Supermodel-dom,-ASNTM--Cycle-5-Runner-Up-@shikingomez-otK3Gl_XX4c.mp3-part-673.wav\n",
      "skipped semisupervised-manglish/output-wav/Exposed!-Our-Favourite-Night-Activity-We-Miss-The-Most!-_-The-Thirsty-Sisters-#5-TxeBIVuXRHM.mp3-part-314.wav\n"
     ]
    },
    {
     "name": "stderr",
     "output_type": "stream",
     "text": [
      " 54%|█████▎    | 69992/130662 [29:44<16:03, 63.00it/s]"
     ]
    },
    {
     "name": "stdout",
     "output_type": "stream",
     "text": [
      "skipped semisupervised-manglish/output-wav/Why-Blockchain-&-Crypo-Matters-_-Singaporean-Podcast-#15-_-Royal-Pek--2d7wzvNOCE.mp3-part-263.wav\n"
     ]
    },
    {
     "name": "stderr",
     "output_type": "stream",
     "text": [
      " 54%|█████▎    | 70015/130662 [29:44<14:57, 67.60it/s]"
     ]
    },
    {
     "name": "stdout",
     "output_type": "stream",
     "text": [
      "skipped semisupervised-manglish/output-wav/Ben-Kheng-Reflects-On-The-Sam-Willows,-Anxiety,-And-Religion-_-HTHT---Ben-Kheng-X4QapKCCneQ.mp3-part-439.wav\n"
     ]
    },
    {
     "name": "stderr",
     "output_type": "stream",
     "text": [
      " 54%|█████▎    | 70090/130662 [29:46<15:19, 65.90it/s]"
     ]
    },
    {
     "name": "stdout",
     "output_type": "stream",
     "text": [
      "skipped semisupervised-manglish/output-wav/Mamak-Sessions---Getting-Married-in-Vegas,-and-Sugar-Babies-ft.-Dennis-Yin-Cq6Yjwsu63U.mp3-part-293.wav\n"
     ]
    },
    {
     "name": "stderr",
     "output_type": "stream",
     "text": [
      " 54%|█████▎    | 70112/130662 [29:46<15:02, 67.07it/s]"
     ]
    },
    {
     "name": "stdout",
     "output_type": "stream",
     "text": [
      "skipped semisupervised-manglish/output-wav/Mamak-Sessions---From-A-Transport-Assistant-to-a-Multi-Award-Winning-Film-Director-r6f3OoHVkgU.mp3-part-207.wav\n",
      "skipped semisupervised-manglish/output-wav/We-Are-Finally-Dating-Again!-We-Found-New-Men-_-The-Thirsty-Sisters-#24-fzuKoKTxfEs.mp3-part-148.wav\n"
     ]
    },
    {
     "name": "stderr",
     "output_type": "stream",
     "text": [
      " 54%|█████▎    | 70132/130662 [29:47<20:29, 49.24it/s]"
     ]
    },
    {
     "name": "stdout",
     "output_type": "stream",
     "text": [
      "skipped semisupervised-manglish/output-wav/Real-Estate-Major-+-NUS-Overseas-College-in-Beijing-_-Singaporean-Podcast-#7-_-Danial-Arun-5SOInBKNP18.mp3-part-246.wav\n"
     ]
    },
    {
     "name": "stderr",
     "output_type": "stream",
     "text": [
      " 54%|█████▎    | 70161/130662 [29:47<16:14, 62.07it/s]"
     ]
    },
    {
     "name": "stdout",
     "output_type": "stream",
     "text": [
      "skipped semisupervised-manglish/output-wav/Mamak-Sessions---Our-Differences-Is-What-Unites-Us-ft.-Elvin-Romeo-0jySfrZhs50.mp3-part-22.wav\n"
     ]
    },
    {
     "name": "stderr",
     "output_type": "stream",
     "text": [
      " 54%|█████▎    | 70204/130662 [29:48<15:56, 63.18it/s]"
     ]
    },
    {
     "name": "stdout",
     "output_type": "stream",
     "text": [
      "skipped semisupervised-manglish/output-wav/The-Fashion-Weak-Podcast-Ep-31----Possibly-Our-Most-NSFW-Episode-Yet-With-@vikarworld-xMm23vU8_og.mp3-part-363.wav\n"
     ]
    },
    {
     "name": "stderr",
     "output_type": "stream",
     "text": [
      " 54%|█████▍    | 70254/130662 [29:49<15:53, 63.33it/s]"
     ]
    },
    {
     "name": "stdout",
     "output_type": "stream",
     "text": [
      "skipped semisupervised-manglish/output-wav/The-Fashion-Weak-Podcast-Ep-30---On-her-way-to-Supermodel-dom,-ASNTM--Cycle-5-Runner-Up-@shikingomez-otK3Gl_XX4c.mp3-part-86.wav\n",
      "skipped semisupervised-manglish/output-wav/Playing-Basketball-With-Dr-Jason-Leong---The-Fashion-Weak-Podcast-Episode-4---6K1feeFnKpQ.mp3-part-236.wav\n"
     ]
    },
    {
     "name": "stderr",
     "output_type": "stream",
     "text": [
      " 54%|█████▍    | 70346/130662 [29:50<16:31, 60.84it/s]"
     ]
    },
    {
     "name": "stdout",
     "output_type": "stream",
     "text": [
      "skipped semisupervised-manglish/output-wav/The-Fashion-Weak-Podcast-Ep35---Is-New-Balance-Cool-Now-Talking-everything-NOT-Nike-with-@adlysyairi-3b0bYe36KNE.mp3-part-214.wav\n"
     ]
    },
    {
     "name": "stderr",
     "output_type": "stream",
     "text": [
      " 54%|█████▍    | 70404/130662 [29:51<19:05, 52.59it/s]"
     ]
    },
    {
     "name": "stdout",
     "output_type": "stream",
     "text": [
      "skipped semisupervised-manglish/output-wav/Are-We-Still-Sexualising-Women-in-2020-_-Thirsty-Sisters-#13-zHC1MPeSP34.mp3-part-56.wav\n",
      "skipped semisupervised-manglish/output-wav/Why-NUS-Business-School-+-Unilever-&-P&G-Case-Competitions-_-Singaporean-Podcast-#22-_-Sherrine-Fu-8QNgzWcc7U4.mp3-part-33.wav\n",
      "skipped semisupervised-manglish/output-wav/The-Fashion-Weak-Podcast-Ep-38---TikTok-Royalty-Roshan-Jeet-aka-Roshannnn1-lPnRg9UsP0M.mp3-part-628.wav\n"
     ]
    },
    {
     "name": "stderr",
     "output_type": "stream",
     "text": [
      " 54%|█████▍    | 70421/130662 [29:52<15:46, 63.63it/s]"
     ]
    },
    {
     "name": "stdout",
     "output_type": "stream",
     "text": [
      "skipped semisupervised-manglish/output-wav/The-Fashion-Weak-Podcast-Ep-33---Lingerie-&-Bikini-Talk-With-Talitha-Tan-(@talithabe)-_7Un0q6a9zg.mp3-part-229.wav\n"
     ]
    },
    {
     "name": "stderr",
     "output_type": "stream",
     "text": [
      " 54%|█████▍    | 70567/130662 [29:54<15:28, 64.72it/s]"
     ]
    },
    {
     "name": "stdout",
     "output_type": "stream",
     "text": [
      "skipped semisupervised-manglish/output-wav/Mamak-Sessions---Can-Guys-And-Girls-Be-Best-Friends-Is-it-ok-to-see-more-than-one-person-at-a-time-IixUPM11VMY.mp3-part-204.wav\n"
     ]
    },
    {
     "name": "stderr",
     "output_type": "stream",
     "text": [
      " 54%|█████▍    | 70632/130662 [29:55<16:18, 61.35it/s]"
     ]
    },
    {
     "name": "stdout",
     "output_type": "stream",
     "text": [
      "skipped semisupervised-manglish/output-wav/Mamak-Sessions---Nasi-Lemak-Sneakers-zLEmAKdG9vY.mp3-part-305.wav\n"
     ]
    },
    {
     "name": "stderr",
     "output_type": "stream",
     "text": [
      " 54%|█████▍    | 70660/130662 [29:56<15:52, 63.00it/s]"
     ]
    },
    {
     "name": "stdout",
     "output_type": "stream",
     "text": [
      "skipped semisupervised-manglish/output-wav/The-Fashion-Weak-Podcast-Ep-39---Talking-Turn-On's-and-Fashion-Bulk-Buy-Deals-With-Tata-Wanqian-WSVo-qvu1GQ.mp3-part-469.wav\n"
     ]
    },
    {
     "name": "stderr",
     "output_type": "stream",
     "text": [
      " 54%|█████▍    | 70867/130662 [30:00<20:04, 49.66it/s]"
     ]
    },
    {
     "name": "stdout",
     "output_type": "stream",
     "text": [
      "skipped semisupervised-manglish/output-wav/The-Fashion-Weak-Podcast-Ep-32---Getting-Surprised-Reading-Melissa-Campbell's-(@heymelbelle)-IG-DMs-mJuKUwFpDgI.mp3-part-230.wav\n"
     ]
    },
    {
     "name": "stderr",
     "output_type": "stream",
     "text": [
      " 54%|█████▍    | 70901/130662 [30:00<16:51, 59.08it/s]"
     ]
    },
    {
     "name": "stdout",
     "output_type": "stream",
     "text": [
      "skipped semisupervised-manglish/output-wav/The-Fashion-Weak-Podcast-Ep24---Penang-Boys-@tunway-瘦虎-&-@Shawnduabui-肥龍-Talk-Zap-Fan-&-Sneakers-dykz_vuzJh0.mp3-part-364.wav\n"
     ]
    },
    {
     "name": "stderr",
     "output_type": "stream",
     "text": [
      " 54%|█████▍    | 70995/130662 [30:02<15:23, 64.58it/s]"
     ]
    },
    {
     "name": "stdout",
     "output_type": "stream",
     "text": [
      "skipped semisupervised-manglish/output-wav/Mamak-Sessions---How-Do-You-Deal-With-Rumors-ft-Elizabeth-Tan-Rkvd5p3I11M.mp3-part-68.wav\n"
     ]
    },
    {
     "name": "stderr",
     "output_type": "stream",
     "text": [
      " 54%|█████▍    | 71036/130662 [30:03<23:55, 41.54it/s]"
     ]
    },
    {
     "name": "stdout",
     "output_type": "stream",
     "text": [
      "skipped semisupervised-manglish/output-wav/Mamak-Sessions---How-Dating-Has-Changed-&-Tenet-ft-Elizabeth-Debicki-and-John-David-Washington-te2Be5GNNys.mp3-part-223.wav\n"
     ]
    },
    {
     "name": "stderr",
     "output_type": "stream",
     "text": [
      " 54%|█████▍    | 71060/130662 [30:03<17:12, 57.75it/s]"
     ]
    },
    {
     "name": "stdout",
     "output_type": "stream",
     "text": [
      "skipped semisupervised-manglish/output-wav/Exposed!-Our-Favourite-Night-Activity-We-Miss-The-Most!-_-The-Thirsty-Sisters-#5-TxeBIVuXRHM.mp3-part-69.wav\n"
     ]
    },
    {
     "name": "stderr",
     "output_type": "stream",
     "text": [
      " 54%|█████▍    | 71131/130662 [30:04<20:23, 48.64it/s]"
     ]
    },
    {
     "name": "stdout",
     "output_type": "stream",
     "text": [
      "skipped semisupervised-manglish/output-wav/The-Fashion-Weak-Podcast-Ep-38---TikTok-Royalty-Roshan-Jeet-aka-Roshannnn1-lPnRg9UsP0M.mp3-part-974.wav\n"
     ]
    },
    {
     "name": "stderr",
     "output_type": "stream",
     "text": [
      " 54%|█████▍    | 71175/130662 [30:05<15:52, 62.47it/s]"
     ]
    },
    {
     "name": "stdout",
     "output_type": "stream",
     "text": [
      "skipped semisupervised-manglish/output-wav/Mamak-Sessions-Podcast---How-Do-You-Handle-Long-Distance-Relationships-Do-they-WORK-m7mwwtsblIs.mp3-part-113.wav\n"
     ]
    },
    {
     "name": "stderr",
     "output_type": "stream",
     "text": [
      " 54%|█████▍    | 71206/130662 [30:06<14:58, 66.17it/s]"
     ]
    },
    {
     "name": "stdout",
     "output_type": "stream",
     "text": [
      "skipped semisupervised-manglish/output-wav/My-First-Boyfriend-Cheated-On-Me-With-Several-Girls-_-The-Thirsty-Sisters-#9-Y6RYZpbANJI.mp3-part-226.wav\n"
     ]
    },
    {
     "name": "stderr",
     "output_type": "stream",
     "text": [
      " 55%|█████▍    | 71237/130662 [30:06<17:09, 57.70it/s]"
     ]
    },
    {
     "name": "stdout",
     "output_type": "stream",
     "text": [
      "skipped semisupervised-manglish/output-wav/The-Fashion-Weak-Podcast-Ep-33---Lingerie-&-Bikini-Talk-With-Talitha-Tan-(@talithabe)-_7Un0q6a9zg.mp3-part-413.wav\n",
      "skipped semisupervised-manglish/output-wav/Mamak-Sessions---Our-Differences-Is-What-Unites-Us-ft.-Elvin-Romeo-0jySfrZhs50.mp3-part-57.wav\n",
      "skipped semisupervised-manglish/output-wav/The-Fashion-Weak-Podcast-Ep35---Is-New-Balance-Cool-Now-Talking-everything-NOT-Nike-with-@adlysyairi-3b0bYe36KNE.mp3-part-498.wav\n"
     ]
    },
    {
     "name": "stderr",
     "output_type": "stream",
     "text": [
      " 55%|█████▍    | 71259/130662 [30:07<15:58, 62.00it/s]"
     ]
    },
    {
     "name": "stdout",
     "output_type": "stream",
     "text": [
      "skipped semisupervised-manglish/output-wav/The-Fashion-Weak-Podcast-EP-36---Why-guys-REALLY-go-for-spin-class-with-Oxygen-Cycle-RqG0tHR9D1g.mp3-part-195.wav\n"
     ]
    },
    {
     "name": "stderr",
     "output_type": "stream",
     "text": [
      " 55%|█████▍    | 71288/130662 [30:07<15:44, 62.86it/s]"
     ]
    },
    {
     "name": "stdout",
     "output_type": "stream",
     "text": [
      "skipped semisupervised-manglish/output-wav/The-Fashion-Weak-Podcast-EP-25---Don't-Mess-With-@zamaeraaa's-Hello-Kitty-Cup-H4M_ZUDAT3k.mp3-part-560.wav\n",
      "skipped semisupervised-manglish/output-wav/Mamak-Sessions---Girls-Are-Such-Complicated-Lil-Creatures-feat.-Talitha.-I2BaN8cm6NY.mp3-part-322.wav\n"
     ]
    },
    {
     "name": "stderr",
     "output_type": "stream",
     "text": [
      " 55%|█████▍    | 71317/130662 [30:08<19:30, 50.69it/s]"
     ]
    },
    {
     "name": "stdout",
     "output_type": "stream",
     "text": [
      "skipped semisupervised-manglish/output-wav/How-To-Be-A-Damn-Good-Software-Developer-+-Israel-Startup-Culture-_-Singaporean-Podcast-#11-_-Mark-cs2LkcSpNpw.mp3-part-111.wav\n",
      "skipped semisupervised-manglish/output-wav/The-Fashion-Weak-Podcast-Ep-39---Talking-Turn-On's-and-Fashion-Bulk-Buy-Deals-With-Tata-Wanqian-WSVo-qvu1GQ.mp3-part-690.wav\n"
     ]
    },
    {
     "name": "stderr",
     "output_type": "stream",
     "text": [
      " 55%|█████▍    | 71355/130662 [30:08<14:42, 67.21it/s]"
     ]
    },
    {
     "name": "stdout",
     "output_type": "stream",
     "text": [
      "skipped semisupervised-manglish/output-wav/Why-Blockchain-&-Crypo-Matters-_-Singaporean-Podcast-#15-_-Royal-Pek--2d7wzvNOCE.mp3-part-849.wav\n"
     ]
    },
    {
     "name": "stderr",
     "output_type": "stream",
     "text": [
      " 55%|█████▍    | 71416/130662 [30:09<20:46, 47.51it/s]"
     ]
    },
    {
     "name": "stdout",
     "output_type": "stream",
     "text": [
      "skipped semisupervised-manglish/output-wav/The-Fashion-Weak-Podcast-Ep-46---Premium-Thirst-Trap-Tips-With-Michelle-Lee-(@mich8lee)-MCHDyLJDJrg.mp3-part-12.wav\n"
     ]
    },
    {
     "name": "stderr",
     "output_type": "stream",
     "text": [
      " 55%|█████▍    | 71454/130662 [30:10<15:21, 64.27it/s]"
     ]
    },
    {
     "name": "stdout",
     "output_type": "stream",
     "text": [
      "skipped semisupervised-manglish/output-wav/Mamak-Sessions-Ep6---Names-People-Always-Mispronounce-&-Facebook-Is-A-Spy-8LuihYdx0FQ.mp3-part-51.wav\n"
     ]
    },
    {
     "name": "stderr",
     "output_type": "stream",
     "text": [
      " 55%|█████▍    | 71482/130662 [30:10<16:04, 61.37it/s]"
     ]
    },
    {
     "name": "stdout",
     "output_type": "stream",
     "text": [
      "skipped semisupervised-manglish/output-wav/The-Fashion-Weak-Podcast-Ep-22---Why-Fashion-School-Didn't-Work-Out-For-Zee-Avi-woDYSE37_rI.mp3-part-483.wav\n"
     ]
    },
    {
     "name": "stderr",
     "output_type": "stream",
     "text": [
      " 55%|█████▍    | 71525/130662 [30:11<16:07, 61.15it/s]"
     ]
    },
    {
     "name": "stdout",
     "output_type": "stream",
     "text": [
      "skipped semisupervised-manglish/output-wav/The-Fashion-Weak-Podcast-EP-41---Investment-Tips-For-Chee-Seng-With-Fuad-&-Shaq-From-Kyoto-Protocol-eWNQhDNoSsY.mp3-part-965.wav\n"
     ]
    },
    {
     "name": "stderr",
     "output_type": "stream",
     "text": [
      " 55%|█████▍    | 71553/130662 [30:12<15:17, 64.40it/s]"
     ]
    },
    {
     "name": "stdout",
     "output_type": "stream",
     "text": [
      "skipped semisupervised-manglish/output-wav/The-Fashion-Weak-Podcast-Ep-46---Premium-Thirst-Trap-Tips-With-Michelle-Lee-(@mich8lee)-MCHDyLJDJrg.mp3-part-554.wav\n"
     ]
    },
    {
     "name": "stderr",
     "output_type": "stream",
     "text": [
      " 55%|█████▍    | 71568/130662 [30:12<14:30, 67.88it/s]"
     ]
    },
    {
     "name": "stdout",
     "output_type": "stream",
     "text": [
      "skipped semisupervised-manglish/output-wav/The-Fashion-Weak-Podcast-Ep-19---Butt-Stuff-&-Actual-Fashion-With-Zane-Gan-jhLgzHQnAHU.mp3-part-369.wav\n"
     ]
    },
    {
     "name": "stderr",
     "output_type": "stream",
     "text": [
      " 55%|█████▍    | 71647/130662 [30:13<14:28, 67.96it/s]"
     ]
    },
    {
     "name": "stdout",
     "output_type": "stream",
     "text": [
      "skipped semisupervised-manglish/output-wav/The-Fashion-Weak-Podcast-Ep-18---Putting-The-Deep-In-Deepavali-With-Keren-Bala-lvIbeZ3qgsU.mp3-part-87.wav\n",
      "skipped semisupervised-manglish/output-wav/The-Fashion-Weak-Podcast-Ep24---Penang-Boys-@tunway-瘦虎-&-@Shawnduabui-肥龍-Talk-Zap-Fan-&-Sneakers-dykz_vuzJh0.mp3-part-492.wav\n",
      "skipped semisupervised-manglish/output-wav/The-Fashion-Weak-Podcast-EP-27----Peter-Davis-talks-cars,-mixed-rice-and-some-fashion.-rxmMRAzLRJ0.mp3-part-792.wav\n"
     ]
    },
    {
     "name": "stderr",
     "output_type": "stream",
     "text": [
      " 55%|█████▍    | 71743/130662 [30:15<14:16, 68.82it/s]"
     ]
    },
    {
     "name": "stdout",
     "output_type": "stream",
     "text": [
      "skipped semisupervised-manglish/output-wav/Is-Mulan-Really-That-Bad-_-IMO-Ep.32-rMpf5j7683M.mp3-part-619.wav\n",
      "skipped semisupervised-manglish/output-wav/Dance-Moves-To-Pick-Up-Girls-At-The-Club-With-Adidas-Creator-Maybelline-Wong-(@definitelyMayb_)-vRnkHzyyBc4.mp3-part-229.wav\n"
     ]
    },
    {
     "name": "stderr",
     "output_type": "stream",
     "text": [
      " 55%|█████▍    | 71779/130662 [30:16<19:46, 49.64it/s]"
     ]
    },
    {
     "name": "stdout",
     "output_type": "stream",
     "text": [
      "skipped semisupervised-manglish/output-wav/The-Fashion-Weak-Podcast-Ep-23---Alicia-Amin-On-Being-A-'Malay'-Model-In-2019-3pKA5NvTCOA.mp3-part-349.wav\n",
      "skipped semisupervised-manglish/output-wav/Mamak-Sessions-Podcast---Girl-Gets-Caned-For-Calling-her-Teacher-'AH-GUA'-PRN5UrsDF6w.mp3-part-597.wav\n"
     ]
    },
    {
     "name": "stderr",
     "output_type": "stream",
     "text": [
      " 55%|█████▍    | 71841/130662 [30:17<15:30, 63.24it/s]"
     ]
    },
    {
     "name": "stdout",
     "output_type": "stream",
     "text": [
      "skipped semisupervised-manglish/output-wav/The-Fashion-Weak-Podcast-Ep-31----Possibly-Our-Most-NSFW-Episode-Yet-With-@vikarworld-xMm23vU8_og.mp3-part-612.wav\n"
     ]
    },
    {
     "name": "stderr",
     "output_type": "stream",
     "text": [
      " 55%|█████▌    | 71933/130662 [30:18<15:10, 64.53it/s]"
     ]
    },
    {
     "name": "stdout",
     "output_type": "stream",
     "text": [
      "skipped semisupervised-manglish/output-wav/@Juanitadr-shows-us-what-Arnold's-Tongue-Can-Do---The-Fashion-Weak-Podcast-Episode-10-N5EfPvQKW90.mp3-part-410.wav\n"
     ]
    },
    {
     "name": "stderr",
     "output_type": "stream",
     "text": [
      " 55%|█████▌    | 71982/130662 [30:19<15:29, 63.14it/s]"
     ]
    },
    {
     "name": "stdout",
     "output_type": "stream",
     "text": [
      "skipped semisupervised-manglish/output-wav/Why-Human-Resources-Matters-+-Life-as-a-Singapore-Solopreneur-_-Lauren-Ong-_-Singaporean-Podcast-#20-YtCn4hNLk7o.mp3-part-68.wav\n",
      "skipped semisupervised-manglish/output-wav/How-A-26-Year-Old-Built-A-Multi-Million-YouTube-Empire-g3iwaxDKQGQ.mp3-part-382.wav\n"
     ]
    },
    {
     "name": "stderr",
     "output_type": "stream",
     "text": [
      " 55%|█████▌    | 72012/130662 [30:20<14:59, 65.23it/s]"
     ]
    },
    {
     "name": "stdout",
     "output_type": "stream",
     "text": [
      "skipped semisupervised-manglish/output-wav/The-Fashion-Weak-Podcast-Ep-18---Putting-The-Deep-In-Deepavali-With-Keren-Bala-lvIbeZ3qgsU.mp3-part-26.wav\n"
     ]
    },
    {
     "name": "stderr",
     "output_type": "stream",
     "text": [
      " 55%|█████▌    | 72026/130662 [30:20<15:07, 64.60it/s]"
     ]
    },
    {
     "name": "stdout",
     "output_type": "stream",
     "text": [
      "skipped semisupervised-manglish/output-wav/Mamak-Sessions-Ep4---What-Turns-You-On,-Is-it-ok-if-your-Girlfriend-Earns-More-&-The-Ideal-Proposal-1av_p0DPDas.mp3-part-115.wav\n"
     ]
    },
    {
     "name": "stderr",
     "output_type": "stream",
     "text": [
      " 55%|█████▌    | 72115/130662 [30:22<15:14, 64.01it/s]"
     ]
    },
    {
     "name": "stdout",
     "output_type": "stream",
     "text": [
      "skipped semisupervised-manglish/output-wav/Burnout-in-the-Media-Industry-+-Passion-in-Theatre--_-Singaporean-Podcast-#16-_-Rennes-Lee-f7qEqPNzGk8.mp3-part-382.wav\n"
     ]
    },
    {
     "name": "stderr",
     "output_type": "stream",
     "text": [
      " 55%|█████▌    | 72151/130662 [30:22<17:27, 55.84it/s]"
     ]
    },
    {
     "name": "stdout",
     "output_type": "stream",
     "text": [
      "skipped semisupervised-manglish/output-wav/Mamak-Sessions-Ep6---Names-People-Always-Mispronounce-&-Facebook-Is-A-Spy-8LuihYdx0FQ.mp3-part-101.wav\n"
     ]
    },
    {
     "name": "stderr",
     "output_type": "stream",
     "text": [
      " 55%|█████▌    | 72202/130662 [30:23<15:23, 63.29it/s]"
     ]
    },
    {
     "name": "stdout",
     "output_type": "stream",
     "text": [
      "skipped semisupervised-manglish/output-wav/Being-Bullied,-Toxic-Masculinity-And-Theatre-_-HTHT---Fauzi-Aziz-6syqXC_o6gs.mp3-part-6.wav\n"
     ]
    },
    {
     "name": "stderr",
     "output_type": "stream",
     "text": [
      " 55%|█████▌    | 72267/130662 [30:24<16:02, 60.65it/s]"
     ]
    },
    {
     "name": "stdout",
     "output_type": "stream",
     "text": [
      "skipped semisupervised-manglish/output-wav/Mamak-Sessions---The-Asian-Mom-Of-The-Internet-ft-Tata-Wyb6i3GoJv4.mp3-part-103.wav\n",
      "skipped semisupervised-manglish/output-wav/The-Truth-Behind-Our-Relationship!-Are-We-Really-Sisters-_-The-Thirsty-Sisters-#10-rkwCky94IhQ.mp3-part-420.wav\n"
     ]
    },
    {
     "name": "stderr",
     "output_type": "stream",
     "text": [
      " 55%|█████▌    | 72281/130662 [30:25<16:21, 59.48it/s]"
     ]
    },
    {
     "name": "stdout",
     "output_type": "stream",
     "text": [
      "skipped semisupervised-manglish/output-wav/Why-Blockchain-&-Crypo-Matters-_-Singaporean-Podcast-#15-_-Royal-Pek--2d7wzvNOCE.mp3-part-118.wav\n",
      "skipped semisupervised-manglish/output-wav/The-Fashion-Weak-Podcast-Ep-15---Underwear-Sneakers-&-Fruits-With-@OhZooey-HDuY9UdkkaE.mp3-part-145.wav\n"
     ]
    },
    {
     "name": "stderr",
     "output_type": "stream",
     "text": [
      " 55%|█████▌    | 72498/130662 [30:29<17:49, 54.36it/s]"
     ]
    },
    {
     "name": "stdout",
     "output_type": "stream",
     "text": [
      "skipped semisupervised-manglish/output-wav/Mamak-Sessions---My-Asian-Parents-Were-Initially-Ashamed-Of-My-Career-NqCp8Csl7PE.mp3-part-28.wav\n"
     ]
    },
    {
     "name": "stderr",
     "output_type": "stream",
     "text": [
      " 56%|█████▌    | 72520/130662 [30:29<16:30, 58.72it/s]"
     ]
    },
    {
     "name": "stdout",
     "output_type": "stream",
     "text": [
      "skipped semisupervised-manglish/output-wav/Skin-Care-Routines,-Death,-Life-Purpose-and-More-_-Singaporean-Trio-Podcast-#2-6yW185RJkGw.mp3-part-100.wav\n"
     ]
    },
    {
     "name": "stderr",
     "output_type": "stream",
     "text": [
      " 56%|█████▌    | 72549/130662 [30:30<14:56, 64.81it/s]"
     ]
    },
    {
     "name": "stdout",
     "output_type": "stream",
     "text": [
      "skipped semisupervised-manglish/output-wav/Mamak-Sessions-Ep6---Names-People-Always-Mispronounce-&-Facebook-Is-A-Spy-8LuihYdx0FQ.mp3-part-391.wav\n",
      "skipped semisupervised-manglish/output-wav/Mamak-Sessions---Can-Guys-And-Girls-Be-Best-Friends-Is-it-ok-to-see-more-than-one-person-at-a-time-IixUPM11VMY.mp3-part-220.wav\n"
     ]
    },
    {
     "name": "stderr",
     "output_type": "stream",
     "text": [
      " 56%|█████▌    | 72598/130662 [30:31<16:37, 58.23it/s]"
     ]
    },
    {
     "name": "stdout",
     "output_type": "stream",
     "text": [
      "skipped semisupervised-manglish/output-wav/The-Fashion-Weak-Podcast-Ep-33---Lingerie-&-Bikini-Talk-With-Talitha-Tan-(@talithabe)-_7Un0q6a9zg.mp3-part-59.wav\n"
     ]
    },
    {
     "name": "stderr",
     "output_type": "stream",
     "text": [
      " 56%|█████▌    | 72659/130662 [30:31<14:00, 68.98it/s]"
     ]
    },
    {
     "name": "stdout",
     "output_type": "stream",
     "text": [
      "skipped semisupervised-manglish/output-wav/Sexual-Predators-Running-Free-In-Singapore!-_-The-Thirsty-Sisters-#14-oW3yttdKVm0.mp3-part-2.wav\n"
     ]
    },
    {
     "name": "stderr",
     "output_type": "stream",
     "text": [
      " 56%|█████▌    | 72746/130662 [30:33<14:11, 67.99it/s]"
     ]
    },
    {
     "name": "stdout",
     "output_type": "stream",
     "text": [
      "skipped semisupervised-manglish/output-wav/Mamak-Sessions---Quitting-The-Medical-Line-To-Make-People-Laugh-ft-Dr.-Jason-Leong-FcD9MpeWqEI.mp3-part-455.wav\n"
     ]
    },
    {
     "name": "stderr",
     "output_type": "stream",
     "text": [
      " 56%|█████▌    | 72790/130662 [30:34<16:27, 58.63it/s]"
     ]
    },
    {
     "name": "stdout",
     "output_type": "stream",
     "text": [
      "skipped semisupervised-manglish/output-wav/The-Fashion-Weak-Podcast-Ep-30---On-her-way-to-Supermodel-dom,-ASNTM--Cycle-5-Runner-Up-@shikingomez-otK3Gl_XX4c.mp3-part-20.wav\n"
     ]
    },
    {
     "name": "stderr",
     "output_type": "stream",
     "text": [
      " 56%|█████▌    | 72833/130662 [30:35<15:05, 63.86it/s]"
     ]
    },
    {
     "name": "stdout",
     "output_type": "stream",
     "text": [
      "skipped semisupervised-manglish/output-wav/@Juanitadr-shows-us-what-Arnold's-Tongue-Can-Do---The-Fashion-Weak-Podcast-Episode-10-N5EfPvQKW90.mp3-part-13.wav\n"
     ]
    },
    {
     "name": "stderr",
     "output_type": "stream",
     "text": [
      " 56%|█████▌    | 72895/130662 [30:36<16:14, 59.26it/s]"
     ]
    },
    {
     "name": "stdout",
     "output_type": "stream",
     "text": [
      "skipped semisupervised-manglish/output-wav/The-Fashion-Weak-Podcast-Ep-32---Getting-Surprised-Reading-Melissa-Campbell's-(@heymelbelle)-IG-DMs-mJuKUwFpDgI.mp3-part-672.wav\n"
     ]
    },
    {
     "name": "stderr",
     "output_type": "stream",
     "text": [
      " 56%|█████▌    | 72945/130662 [30:37<19:15, 49.97it/s]"
     ]
    },
    {
     "name": "stdout",
     "output_type": "stream",
     "text": [
      "skipped semisupervised-manglish/output-wav/The-Fashion-Weak-Podcast-Ep-30---On-her-way-to-Supermodel-dom,-ASNTM--Cycle-5-Runner-Up-@shikingomez-otK3Gl_XX4c.mp3-part-507.wav\n"
     ]
    },
    {
     "name": "stderr",
     "output_type": "stream",
     "text": [
      " 56%|█████▌    | 73039/130662 [30:38<19:32, 49.15it/s]"
     ]
    },
    {
     "name": "stdout",
     "output_type": "stream",
     "text": [
      "skipped semisupervised-manglish/output-wav/Overcoming-Depression-&-Redefining-What-Failure-Means-to-Youths_-Singaporean-Podcast-#10-_-Kevin-Wee-rjjK4aAbKnw.mp3-part-166.wav\n"
     ]
    },
    {
     "name": "stderr",
     "output_type": "stream",
     "text": [
      " 56%|█████▌    | 73081/130662 [30:39<15:30, 61.91it/s]"
     ]
    },
    {
     "name": "stdout",
     "output_type": "stream",
     "text": [
      "skipped semisupervised-manglish/output-wav/The-Fashion-Weak-Podcast-Ep-38---TikTok-Royalty-Roshan-Jeet-aka-Roshannnn1-lPnRg9UsP0M.mp3-part-28.wav\n"
     ]
    },
    {
     "name": "stderr",
     "output_type": "stream",
     "text": [
      " 56%|█████▌    | 73103/130662 [30:39<15:29, 61.94it/s]"
     ]
    },
    {
     "name": "stdout",
     "output_type": "stream",
     "text": [
      "skipped semisupervised-manglish/output-wav/The-Fashion-Weak-Podcast-Ep-32---Getting-Surprised-Reading-Melissa-Campbell's-(@heymelbelle)-IG-DMs-mJuKUwFpDgI.mp3-part-704.wav\n"
     ]
    },
    {
     "name": "stderr",
     "output_type": "stream",
     "text": [
      " 56%|█████▌    | 73131/130662 [30:40<18:11, 52.72it/s]"
     ]
    },
    {
     "name": "stdout",
     "output_type": "stream",
     "text": [
      "skipped semisupervised-manglish/output-wav/Mamak-Sessions-Ep9---Sibling-Rivalry-ft-Julian-Yee-670FyeJhnps.mp3-part-36.wav\n"
     ]
    },
    {
     "name": "stderr",
     "output_type": "stream",
     "text": [
      " 56%|█████▌    | 73155/130662 [30:40<15:15, 62.85it/s]"
     ]
    },
    {
     "name": "stdout",
     "output_type": "stream",
     "text": [
      "skipped semisupervised-manglish/output-wav/Mamak-Sessions---Can-Guys-And-Girls-Be-Best-Friends-Is-it-ok-to-see-more-than-one-person-at-a-time-IixUPM11VMY.mp3-part-310.wav\n",
      "skipped semisupervised-manglish/output-wav/The-Fashion-Weak-Podcast-Ep-20---Couple-Goals-With-Maggy-Wang-&-Jobroseph-TzfCaQ8vUMc.mp3-part-199.wav\n"
     ]
    },
    {
     "name": "stderr",
     "output_type": "stream",
     "text": [
      " 56%|█████▌    | 73178/130662 [30:41<14:17, 67.02it/s]"
     ]
    },
    {
     "name": "stdout",
     "output_type": "stream",
     "text": [
      "skipped semisupervised-manglish/output-wav/The-Fashion-Weak-Podcast-Ep-40---tdcjTfzYSbk.mp3-part-645.wav\n"
     ]
    },
    {
     "name": "stderr",
     "output_type": "stream",
     "text": [
      " 56%|█████▌    | 73216/130662 [30:42<21:14, 45.08it/s]"
     ]
    },
    {
     "name": "stdout",
     "output_type": "stream",
     "text": [
      "skipped semisupervised-manglish/output-wav/The-Fashion-Weak-Podcast-Ep-40---tdcjTfzYSbk.mp3-part-848.wav\n"
     ]
    },
    {
     "name": "stderr",
     "output_type": "stream",
     "text": [
      " 56%|█████▌    | 73259/130662 [30:42<15:52, 60.26it/s]"
     ]
    },
    {
     "name": "stdout",
     "output_type": "stream",
     "text": [
      "skipped semisupervised-manglish/output-wav/The-Fashion-Weak-Podcast-Ep-32---Getting-Surprised-Reading-Melissa-Campbell's-(@heymelbelle)-IG-DMs-mJuKUwFpDgI.mp3-part-503.wav\n"
     ]
    },
    {
     "name": "stderr",
     "output_type": "stream",
     "text": [
      " 56%|█████▌    | 73281/130662 [30:43<14:34, 65.62it/s]"
     ]
    },
    {
     "name": "stdout",
     "output_type": "stream",
     "text": [
      "skipped semisupervised-manglish/output-wav/The-Fashion-Weak-Podcast-EP-27----Peter-Davis-talks-cars,-mixed-rice-and-some-fashion.-rxmMRAzLRJ0.mp3-part-92.wav\n",
      "skipped semisupervised-manglish/output-wav/Exposed!-Our-Favourite-Night-Activity-We-Miss-The-Most!-_-The-Thirsty-Sisters-#5-TxeBIVuXRHM.mp3-part-252.wav\n"
     ]
    },
    {
     "name": "stderr",
     "output_type": "stream",
     "text": [
      " 56%|█████▌    | 73316/130662 [30:43<18:18, 52.21it/s]"
     ]
    },
    {
     "name": "stdout",
     "output_type": "stream",
     "text": [
      "skipped semisupervised-manglish/output-wav/The-Fashion-Weak-Podcast-Ep-23---Alicia-Amin-On-Being-A-'Malay'-Model-In-2019-3pKA5NvTCOA.mp3-part-408.wav\n"
     ]
    },
    {
     "name": "stderr",
     "output_type": "stream",
     "text": [
      " 56%|█████▌    | 73345/130662 [30:44<15:35, 61.25it/s]"
     ]
    },
    {
     "name": "stdout",
     "output_type": "stream",
     "text": [
      "skipped semisupervised-manglish/output-wav/Mamak-Sessions---How-I-Got-Quarantined-Because-Of-Covid-19-Feat.-Mark-O'Dea-5zAsyNKfzps.mp3-part-3.wav\n"
     ]
    },
    {
     "name": "stderr",
     "output_type": "stream",
     "text": [
      " 56%|█████▌    | 73382/130662 [30:44<14:06, 67.66it/s]"
     ]
    },
    {
     "name": "stdout",
     "output_type": "stream",
     "text": [
      "skipped semisupervised-manglish/output-wav/Most-Accurate-Personality-Test!-_-The-Thirsty-Sisters-#17-XLV720mng6w.mp3-part-151.wav\n",
      "skipped semisupervised-manglish/output-wav/The-Fashion-Weak-Podcast-Ep-43A---Keeping-Fair-On-The-Fairway-With-Natalia-Ng-CSP1XPZu4YY.mp3-part-165.wav\n",
      "skipped semisupervised-manglish/output-wav/Mamak-Sessions-Ep8---Man-Sues-Colleague-for-$1.8-Million-for-Farting-OWbPqC2i71c.mp3-part-461.wav\n"
     ]
    },
    {
     "name": "stderr",
     "output_type": "stream",
     "text": [
      " 56%|█████▌    | 73441/130662 [30:46<16:19, 58.44it/s]"
     ]
    },
    {
     "name": "stdout",
     "output_type": "stream",
     "text": [
      "skipped semisupervised-manglish/output-wav/Being-A-Single-Divorced-Woman-At-32-_-The-Thirsty-Sisters-#11-8DMyfcjyrZQ.mp3-part-174.wav\n"
     ]
    },
    {
     "name": "stderr",
     "output_type": "stream",
     "text": [
      " 56%|█████▋    | 73505/130662 [30:47<17:23, 54.80it/s]"
     ]
    },
    {
     "name": "stdout",
     "output_type": "stream",
     "text": [
      "skipped semisupervised-manglish/output-wav/Conversations-with-a-Young-Singaporean-CEO--Gao-Fei,-CEO-of-LearnSeeker-_-Singaporean-Podcast-#13--b9YHjghfd2E.mp3-part-441.wav\n"
     ]
    },
    {
     "name": "stderr",
     "output_type": "stream",
     "text": [
      " 56%|█████▋    | 73534/130662 [30:47<14:51, 64.05it/s]"
     ]
    },
    {
     "name": "stdout",
     "output_type": "stream",
     "text": [
      "skipped semisupervised-manglish/output-wav/The-Fashion-Weak-Podcast-Ep-23---Alicia-Amin-On-Being-A-'Malay'-Model-In-2019-3pKA5NvTCOA.mp3-part-359.wav\n"
     ]
    },
    {
     "name": "stderr",
     "output_type": "stream",
     "text": [
      " 56%|█████▋    | 73564/130662 [30:48<14:26, 65.91it/s]"
     ]
    },
    {
     "name": "stdout",
     "output_type": "stream",
     "text": [
      "skipped semisupervised-manglish/output-wav/Amander-Reveals-Why-She-Left-Titan---The-Team-Titan-Show-7byI9tIJeRk.mp3-part-287.wav\n",
      "skipped semisupervised-manglish/output-wav/The-Fashion-Weak-Podcast-Ep-43A---Keeping-Fair-On-The-Fairway-With-Natalia-Ng-CSP1XPZu4YY.mp3-part-678.wav\n"
     ]
    },
    {
     "name": "stderr",
     "output_type": "stream",
     "text": [
      " 56%|█████▋    | 73579/130662 [30:48<20:54, 45.51it/s]"
     ]
    },
    {
     "name": "stdout",
     "output_type": "stream",
     "text": [
      "skipped semisupervised-manglish/output-wav/Dance-Moves-To-Pick-Up-Girls-At-The-Club-With-Adidas-Creator-Maybelline-Wong-(@definitelyMayb_)-vRnkHzyyBc4.mp3-part-522.wav\n"
     ]
    },
    {
     "name": "stderr",
     "output_type": "stream",
     "text": [
      " 56%|█████▋    | 73636/130662 [30:49<14:19, 66.34it/s]"
     ]
    },
    {
     "name": "stdout",
     "output_type": "stream",
     "text": [
      "skipped semisupervised-manglish/output-wav/The-Fashion-Weak-Podcast-Ep-39---Talking-Turn-On's-and-Fashion-Bulk-Buy-Deals-With-Tata-Wanqian-WSVo-qvu1GQ.mp3-part-127.wav\n"
     ]
    },
    {
     "name": "stderr",
     "output_type": "stream",
     "text": [
      " 56%|█████▋    | 73667/130662 [30:50<20:00, 47.47it/s]"
     ]
    },
    {
     "name": "stdout",
     "output_type": "stream",
     "text": [
      "skipped semisupervised-manglish/output-wav/The-Fashion-Weak-Podcast-Ep-45---Finessing-A-New-Phone-Every-Year-With-Mamak-Rap-King-Jiven-Sekar-VlovwtVYuw0.mp3-part-889.wav\n"
     ]
    },
    {
     "name": "stderr",
     "output_type": "stream",
     "text": [
      " 56%|█████▋    | 73701/130662 [30:50<15:18, 62.00it/s]"
     ]
    },
    {
     "name": "stdout",
     "output_type": "stream",
     "text": [
      "skipped semisupervised-manglish/output-wav/The-Fashion-Weak-Podcast-Ep-45---Finessing-A-New-Phone-Every-Year-With-Mamak-Rap-King-Jiven-Sekar-VlovwtVYuw0.mp3-part-710.wav\n",
      "skipped semisupervised-manglish/output-wav/Mamak-Sessions---Are-We-Safe-From-The-Wuhan-Virus-and-Are-Spiritual-Healers-Scammers-skGDf57Q9xs.mp3-part-159.wav\n"
     ]
    },
    {
     "name": "stderr",
     "output_type": "stream",
     "text": [
      " 56%|█████▋    | 73743/130662 [30:51<14:32, 65.24it/s]"
     ]
    },
    {
     "name": "stdout",
     "output_type": "stream",
     "text": [
      "skipped semisupervised-manglish/output-wav/My-Ex-Husband-And-His-New-Puppy's-Mummy-_-The-Thirsty-Sisters-#26-RBShCX3-BtQ.mp3-part-61.wav\n",
      "skipped semisupervised-manglish/output-wav/Mamak-Sessions---My-Asian-Parents-Were-Initially-Ashamed-Of-My-Career-NqCp8Csl7PE.mp3-part-157.wav\n"
     ]
    },
    {
     "name": "stderr",
     "output_type": "stream",
     "text": [
      " 57%|█████▋    | 73833/130662 [30:52<13:46, 68.73it/s]"
     ]
    },
    {
     "name": "stdout",
     "output_type": "stream",
     "text": [
      "skipped semisupervised-manglish/output-wav/How-to-Build-Meaningful-Relationships-with-Big-Clients-_-Singaporean-Podcast-#26-_-Jeremiah-Su-sT3vpK8npYk.mp3-part-60.wav\n"
     ]
    },
    {
     "name": "stderr",
     "output_type": "stream",
     "text": [
      " 57%|█████▋    | 73906/130662 [30:54<14:29, 65.24it/s]"
     ]
    },
    {
     "name": "stdout",
     "output_type": "stream",
     "text": [
      "skipped semisupervised-manglish/output-wav/The-Fashion-Weak-Podcast-EP-36---Why-guys-REALLY-go-for-spin-class-with-Oxygen-Cycle-RqG0tHR9D1g.mp3-part-467.wav\n",
      "skipped semisupervised-manglish/output-wav/Should-Influencers-Be-Expected-To-Do-More-For-Society-(ft.-Celeste-Loh)-_-IMO-Ep.4-7izYax1bCwg.mp3-part-19.wav\n",
      "skipped semisupervised-manglish/output-wav/The-Fashion-Weak-Podcast-EP-41---Investment-Tips-For-Chee-Seng-With-Fuad-&-Shaq-From-Kyoto-Protocol-eWNQhDNoSsY.mp3-part-902.wav\n"
     ]
    },
    {
     "name": "stderr",
     "output_type": "stream",
     "text": [
      " 57%|█████▋    | 73973/130662 [30:55<14:28, 65.24it/s]"
     ]
    },
    {
     "name": "stdout",
     "output_type": "stream",
     "text": [
      "skipped semisupervised-manglish/output-wav/Mamak-Sessions-Podcast---How-Do-You-Handle-Long-Distance-Relationships-Do-they-WORK-m7mwwtsblIs.mp3-part-349.wav\n",
      "skipped semisupervised-manglish/output-wav/The-Fashion-Weak-Podcast-EP-41---Investment-Tips-For-Chee-Seng-With-Fuad-&-Shaq-From-Kyoto-Protocol-eWNQhDNoSsY.mp3-part-847.wav\n"
     ]
    },
    {
     "name": "stderr",
     "output_type": "stream",
     "text": [
      " 57%|█████▋    | 74091/130662 [30:57<15:24, 61.18it/s]"
     ]
    },
    {
     "name": "stdout",
     "output_type": "stream",
     "text": [
      "skipped semisupervised-manglish/output-wav/The-Fashion-Weak-Podcast-Ep-22---Why-Fashion-School-Didn't-Work-Out-For-Zee-Avi-woDYSE37_rI.mp3-part-330.wav\n",
      "skipped semisupervised-manglish/output-wav/Mamak-Sessions-Ep8---Man-Sues-Colleague-for-$1.8-Million-for-Farting-OWbPqC2i71c.mp3-part-194.wav\n"
     ]
    },
    {
     "name": "stderr",
     "output_type": "stream",
     "text": [
      " 57%|█████▋    | 74140/130662 [30:58<17:21, 54.28it/s]"
     ]
    },
    {
     "name": "stdout",
     "output_type": "stream",
     "text": [
      "skipped semisupervised-manglish/output-wav/Mamak-Sessions-Ep6---Names-People-Always-Mispronounce-&-Facebook-Is-A-Spy-8LuihYdx0FQ.mp3-part-30.wav\n"
     ]
    },
    {
     "name": "stderr",
     "output_type": "stream",
     "text": [
      " 57%|█████▋    | 74214/130662 [30:59<21:45, 43.24it/s]"
     ]
    },
    {
     "name": "stdout",
     "output_type": "stream",
     "text": [
      "skipped semisupervised-manglish/output-wav/The-Fashion-Weak-Podcast-Ep-33---Lingerie-&-Bikini-Talk-With-Talitha-Tan-(@talithabe)-_7Un0q6a9zg.mp3-part-638.wav\n"
     ]
    },
    {
     "name": "stderr",
     "output_type": "stream",
     "text": [
      " 57%|█████▋    | 74243/130662 [31:00<15:34, 60.38it/s]"
     ]
    },
    {
     "name": "stdout",
     "output_type": "stream",
     "text": [
      "skipped semisupervised-manglish/output-wav/The-Fashion-Weak-Podcast-Ep-40---tdcjTfzYSbk.mp3-part-534.wav\n"
     ]
    },
    {
     "name": "stderr",
     "output_type": "stream",
     "text": [
      " 57%|█████▋    | 74332/130662 [31:01<15:43, 59.69it/s]"
     ]
    },
    {
     "name": "stdout",
     "output_type": "stream",
     "text": [
      "skipped semisupervised-manglish/output-wav/The-Fashion-Weak-Podcast-Ep-38---TikTok-Royalty-Roshan-Jeet-aka-Roshannnn1-lPnRg9UsP0M.mp3-part-83.wav\n",
      "skipped semisupervised-manglish/output-wav/Mamak-Sessions-Ep6---Names-People-Always-Mispronounce-&-Facebook-Is-A-Spy-8LuihYdx0FQ.mp3-part-9.wav\n"
     ]
    },
    {
     "name": "stderr",
     "output_type": "stream",
     "text": [
      " 57%|█████▋    | 74362/130662 [31:02<14:59, 62.62it/s]"
     ]
    },
    {
     "name": "stdout",
     "output_type": "stream",
     "text": [
      "skipped semisupervised-manglish/output-wav/Career-Tips-for-Singaporean-Youths-&-Life-as-an-MP---Mr-Zainal-Sapari-_-Singaporean-Podcast#18-5VpSUeWPEuo.mp3-part-75.wav\n",
      "skipped semisupervised-manglish/output-wav/Mamak-Sessions-Ep6---Names-People-Always-Mispronounce-&-Facebook-Is-A-Spy-8LuihYdx0FQ.mp3-part-155.wav\n"
     ]
    },
    {
     "name": "stderr",
     "output_type": "stream",
     "text": [
      " 57%|█████▋    | 74391/130662 [31:02<14:55, 62.82it/s]"
     ]
    },
    {
     "name": "stdout",
     "output_type": "stream",
     "text": [
      "skipped semisupervised-manglish/output-wav/The-Fashion-Weak-Podcast-Ep-40---tdcjTfzYSbk.mp3-part-1092.wav\n"
     ]
    },
    {
     "name": "stderr",
     "output_type": "stream",
     "text": [
      " 57%|█████▋    | 74432/130662 [31:03<15:28, 60.55it/s]"
     ]
    },
    {
     "name": "stdout",
     "output_type": "stream",
     "text": [
      "skipped semisupervised-manglish/output-wav/The-Fashion-Weak-Podcast-Ep-31----Possibly-Our-Most-NSFW-Episode-Yet-With-@vikarworld-xMm23vU8_og.mp3-part-712.wav\n"
     ]
    },
    {
     "name": "stderr",
     "output_type": "stream",
     "text": [
      " 57%|█████▋    | 74489/130662 [31:04<14:16, 65.62it/s]"
     ]
    },
    {
     "name": "stdout",
     "output_type": "stream",
     "text": [
      "skipped semisupervised-manglish/output-wav/Dance-Moves-To-Pick-Up-Girls-At-The-Club-With-Adidas-Creator-Maybelline-Wong-(@definitelyMayb_)-vRnkHzyyBc4.mp3-part-881.wav\n"
     ]
    },
    {
     "name": "stderr",
     "output_type": "stream",
     "text": [
      " 57%|█████▋    | 74533/130662 [31:05<15:18, 61.10it/s]"
     ]
    },
    {
     "name": "stdout",
     "output_type": "stream",
     "text": [
      "skipped semisupervised-manglish/output-wav/Blessing-The-Pod,-Calling-Mofo's-OUT!-with-@soimjenn---The-Fashion-Weak-Podcast-Episode-7-xsjayMqoC0Y.mp3-part-79.wav\n"
     ]
    },
    {
     "name": "stderr",
     "output_type": "stream",
     "text": [
      " 57%|█████▋    | 74576/130662 [31:06<14:23, 64.95it/s]"
     ]
    },
    {
     "name": "stdout",
     "output_type": "stream",
     "text": [
      "skipped semisupervised-manglish/output-wav/Mamak-Sessions---The-Asian-Mom-Of-The-Internet-ft-Tata-Wyb6i3GoJv4.mp3-part-309.wav\n"
     ]
    },
    {
     "name": "stderr",
     "output_type": "stream",
     "text": [
      " 57%|█████▋    | 74596/130662 [31:06<20:44, 45.03it/s]"
     ]
    },
    {
     "name": "stdout",
     "output_type": "stream",
     "text": [
      "skipped semisupervised-manglish/output-wav/The-Fashion-Weak-Podcast-Ep-43---Thirst-Trapping-Simps-&-Loving-Your-Body-From-The-Outside-In-6R87P6YD2c4.mp3-part-551.wav\n",
      "skipped semisupervised-manglish/output-wav/Mamak-Sessions-Podcast---How-Do-You-Handle-Long-Distance-Relationships-Do-they-WORK-m7mwwtsblIs.mp3-part-147.wav\n",
      "skipped semisupervised-manglish/output-wav/Mamak-Sessions-Ep6---Names-People-Always-Mispronounce-&-Facebook-Is-A-Spy-8LuihYdx0FQ.mp3-part-113.wav\n"
     ]
    },
    {
     "name": "stderr",
     "output_type": "stream",
     "text": [
      " 57%|█████▋    | 74625/130662 [31:06<15:23, 60.71it/s]"
     ]
    },
    {
     "name": "stdout",
     "output_type": "stream",
     "text": [
      "skipped semisupervised-manglish/output-wav/Mamak-Sessions---The-Miss-World-Crown-is-more-than-$4,000,000!-PazCOj1nb3c.mp3-part-112.wav\n"
     ]
    },
    {
     "name": "stderr",
     "output_type": "stream",
     "text": [
      " 57%|█████▋    | 74648/130662 [31:07<13:57, 66.91it/s]"
     ]
    },
    {
     "name": "stdout",
     "output_type": "stream",
     "text": [
      "skipped semisupervised-manglish/output-wav/Musings-of-the-OG-Sneaker-Uncle-@bungactiongirl---The-Fashion-Weak-Podcast-Episode-3-EjzkQeWKwQw.mp3-part-22.wav\n"
     ]
    },
    {
     "name": "stderr",
     "output_type": "stream",
     "text": [
      " 57%|█████▋    | 74691/130662 [31:08<18:16, 51.03it/s]"
     ]
    },
    {
     "name": "stdout",
     "output_type": "stream",
     "text": [
      "skipped semisupervised-manglish/output-wav/Mamak-Sessions-Ep10---Datuk-Nicol-David-is-RETIRING!-n3AR3nQEc7Y.mp3-part-531.wav\n"
     ]
    },
    {
     "name": "stderr",
     "output_type": "stream",
     "text": [
      " 57%|█████▋    | 74723/130662 [31:08<13:56, 66.85it/s]"
     ]
    },
    {
     "name": "stdout",
     "output_type": "stream",
     "text": [
      "skipped semisupervised-manglish/output-wav/Mamak-Sessions---Nasi-Lemak-Sneakers-zLEmAKdG9vY.mp3-part-181.wav\n",
      "skipped semisupervised-manglish/output-wav/The-Fashion-Weak-Podcast-Ep-40---tdcjTfzYSbk.mp3-part-660.wav\n"
     ]
    },
    {
     "name": "stderr",
     "output_type": "stream",
     "text": [
      " 57%|█████▋    | 74790/130662 [31:09<21:22, 43.56it/s]"
     ]
    },
    {
     "name": "stdout",
     "output_type": "stream",
     "text": [
      "skipped semisupervised-manglish/output-wav/The-Fashion-Weak-Podcast-Ep-40---tdcjTfzYSbk.mp3-part-983.wav\n",
      "skipped semisupervised-manglish/output-wav/Mamak-Sessions---Do-You-Check-Your-Partner's-Text-Messages-Featuring-Lizz-Chloe-WJkSAHvYyqk.mp3-part-112.wav\n"
     ]
    },
    {
     "name": "stderr",
     "output_type": "stream",
     "text": [
      " 57%|█████▋    | 74820/130662 [31:10<15:25, 60.32it/s]"
     ]
    },
    {
     "name": "stdout",
     "output_type": "stream",
     "text": [
      "skipped semisupervised-manglish/output-wav/Being-Bullied,-Toxic-Masculinity-And-Theatre-_-HTHT---Fauzi-Aziz-6syqXC_o6gs.mp3-part-614.wav\n"
     ]
    },
    {
     "name": "stderr",
     "output_type": "stream",
     "text": [
      " 57%|█████▋    | 75028/130662 [31:14<15:07, 61.31it/s]"
     ]
    },
    {
     "name": "stdout",
     "output_type": "stream",
     "text": [
      "skipped semisupervised-manglish/output-wav/We-Are-Finally-Dating-Again!-We-Found-New-Men-_-The-Thirsty-Sisters-#24-fzuKoKTxfEs.mp3-part-259.wav\n",
      "skipped semisupervised-manglish/output-wav/The-Fashion-Weak-Podcast-Ep-29---Valentines-Day-With-Becca-Lee-and-Leonard-Chua-UWm1ESejkzs.mp3-part-280.wav\n"
     ]
    },
    {
     "name": "stderr",
     "output_type": "stream",
     "text": [
      " 57%|█████▋    | 75108/130662 [31:15<13:58, 66.24it/s]"
     ]
    },
    {
     "name": "stdout",
     "output_type": "stream",
     "text": [
      "skipped semisupervised-manglish/output-wav/The-Fashion-Weak-Podcast-Ep-43A---Keeping-Fair-On-The-Fairway-With-Natalia-Ng-CSP1XPZu4YY.mp3-part-342.wav\n",
      "skipped semisupervised-manglish/output-wav/Why-NUS-Business-School-+-Unilever-&-P&G-Case-Competitions-_-Singaporean-Podcast-#22-_-Sherrine-Fu-8QNgzWcc7U4.mp3-part-30.wav\n"
     ]
    },
    {
     "name": "stderr",
     "output_type": "stream",
     "text": [
      " 58%|█████▊    | 75179/130662 [31:17<14:52, 62.18it/s]"
     ]
    },
    {
     "name": "stdout",
     "output_type": "stream",
     "text": [
      "skipped semisupervised-manglish/output-wav/Musings-of-the-OG-Sneaker-Uncle-@bungactiongirl---The-Fashion-Weak-Podcast-Episode-3-EjzkQeWKwQw.mp3-part-166.wav\n",
      "skipped semisupervised-manglish/output-wav/The-Fashion-Weak-Podcast-Ep-29---Valentines-Day-With-Becca-Lee-and-Leonard-Chua-UWm1ESejkzs.mp3-part-335.wav\n"
     ]
    },
    {
     "name": "stderr",
     "output_type": "stream",
     "text": [
      " 58%|█████▊    | 75334/130662 [31:19<15:24, 59.86it/s]"
     ]
    },
    {
     "name": "stdout",
     "output_type": "stream",
     "text": [
      "skipped semisupervised-manglish/output-wav/The-Fashion-Weak-Podcast-Ep-22---Why-Fashion-School-Didn't-Work-Out-For-Zee-Avi-woDYSE37_rI.mp3-part-394.wav\n",
      "skipped semisupervised-manglish/output-wav/The-Fashion-Weak-Podcast-Ep24---Penang-Boys-@tunway-瘦虎-&-@Shawnduabui-肥龍-Talk-Zap-Fan-&-Sneakers-dykz_vuzJh0.mp3-part-663.wav\n",
      "skipped semisupervised-manglish/output-wav/The-Fashion-Weak-Podcast-Ep-45---Finessing-A-New-Phone-Every-Year-With-Mamak-Rap-King-Jiven-Sekar-VlovwtVYuw0.mp3-part-201.wav\n"
     ]
    },
    {
     "name": "stderr",
     "output_type": "stream",
     "text": [
      " 58%|█████▊    | 75351/130662 [31:20<14:21, 64.24it/s]"
     ]
    },
    {
     "name": "stdout",
     "output_type": "stream",
     "text": [
      "skipped semisupervised-manglish/output-wav/Mamak-Sessions---Can-Guys-And-Girls-Be-Best-Friends-Is-it-ok-to-see-more-than-one-person-at-a-time-IixUPM11VMY.mp3-part-376.wav\n",
      "skipped semisupervised-manglish/output-wav/The-Fashion-Weak-Podcast-Ep-23---Alicia-Amin-On-Being-A-'Malay'-Model-In-2019-3pKA5NvTCOA.mp3-part-420.wav\n"
     ]
    },
    {
     "name": "stderr",
     "output_type": "stream",
     "text": [
      " 58%|█████▊    | 75367/130662 [31:20<14:06, 65.29it/s]"
     ]
    },
    {
     "name": "stdout",
     "output_type": "stream",
     "text": [
      "skipped semisupervised-manglish/output-wav/Tips-For-Being-In-The-Media-Industry-(ft.-Neo-Kee-Wei)-_-IMO-Ep.18-TqLaI2X4jj0.mp3-part-164.wav\n"
     ]
    },
    {
     "name": "stderr",
     "output_type": "stream",
     "text": [
      " 58%|█████▊    | 75417/130662 [31:21<17:32, 52.51it/s]"
     ]
    },
    {
     "name": "stdout",
     "output_type": "stream",
     "text": [
      "skipped semisupervised-manglish/output-wav/The-Fashion-Weak-Podcast-Ep-43A---Keeping-Fair-On-The-Fairway-With-Natalia-Ng-CSP1XPZu4YY.mp3-part-626.wav\n"
     ]
    },
    {
     "name": "stderr",
     "output_type": "stream",
     "text": [
      " 58%|█████▊    | 75541/130662 [31:23<14:39, 62.69it/s]"
     ]
    },
    {
     "name": "stdout",
     "output_type": "stream",
     "text": [
      "skipped semisupervised-manglish/output-wav/Mamak-Sessions---The-Asian-Mom-Of-The-Internet-ft-Tata-Wyb6i3GoJv4.mp3-part-582.wav\n"
     ]
    },
    {
     "name": "stderr",
     "output_type": "stream",
     "text": [
      " 58%|█████▊    | 75637/130662 [31:25<14:08, 64.82it/s]"
     ]
    },
    {
     "name": "stdout",
     "output_type": "stream",
     "text": [
      "skipped semisupervised-manglish/output-wav/The-Fashion-Weak-Podcast-Ep-28-@dreamrocketeers-on-that-Rolex-you-should-cop-to-flex-on-poor-friends-shV1F1JlDzk.mp3-part-522.wav\n",
      "skipped semisupervised-manglish/output-wav/Mamak-Sessions---Nasi-Lemak-Sneakers-zLEmAKdG9vY.mp3-part-186.wav\n"
     ]
    },
    {
     "name": "stderr",
     "output_type": "stream",
     "text": [
      " 58%|█████▊    | 75665/130662 [31:25<14:57, 61.28it/s]"
     ]
    },
    {
     "name": "stdout",
     "output_type": "stream",
     "text": [
      "skipped semisupervised-manglish/output-wav/Mamak-Sessions-Ep6---Names-People-Always-Mispronounce-&-Facebook-Is-A-Spy-8LuihYdx0FQ.mp3-part-298.wav\n"
     ]
    },
    {
     "name": "stderr",
     "output_type": "stream",
     "text": [
      " 58%|█████▊    | 75687/130662 [31:26<19:03, 48.08it/s]"
     ]
    },
    {
     "name": "stdout",
     "output_type": "stream",
     "text": [
      "skipped semisupervised-manglish/output-wav/Mamak-Sessions---Quitting-The-Medical-Line-To-Make-People-Laugh-ft-Dr.-Jason-Leong-FcD9MpeWqEI.mp3-part-221.wav\n"
     ]
    },
    {
     "name": "stderr",
     "output_type": "stream",
     "text": [
      " 58%|█████▊    | 75796/130662 [31:28<16:30, 55.40it/s]"
     ]
    },
    {
     "name": "stdout",
     "output_type": "stream",
     "text": [
      "skipped semisupervised-manglish/output-wav/Dance-Moves-To-Pick-Up-Girls-At-The-Club-With-Adidas-Creator-Maybelline-Wong-(@definitelyMayb_)-vRnkHzyyBc4.mp3-part-64.wav\n"
     ]
    },
    {
     "name": "stderr",
     "output_type": "stream",
     "text": [
      " 58%|█████▊    | 75992/130662 [31:31<14:30, 62.79it/s]"
     ]
    },
    {
     "name": "stdout",
     "output_type": "stream",
     "text": [
      "skipped semisupervised-manglish/output-wav/The-Fashion-Weak-Podcast-Ep-39---Talking-Turn-On's-and-Fashion-Bulk-Buy-Deals-With-Tata-Wanqian-WSVo-qvu1GQ.mp3-part-602.wav\n"
     ]
    },
    {
     "name": "stderr",
     "output_type": "stream",
     "text": [
      " 58%|█████▊    | 76037/130662 [31:32<13:12, 68.90it/s]"
     ]
    },
    {
     "name": "stdout",
     "output_type": "stream",
     "text": [
      "skipped semisupervised-manglish/output-wav/Mamak-Sessions---From-A-Transport-Assistant-to-a-Multi-Award-Winning-Film-Director-r6f3OoHVkgU.mp3-part-244.wav\n"
     ]
    },
    {
     "name": "stderr",
     "output_type": "stream",
     "text": [
      " 58%|█████▊    | 76080/130662 [31:33<16:32, 55.01it/s]"
     ]
    },
    {
     "name": "stdout",
     "output_type": "stream",
     "text": [
      "skipped semisupervised-manglish/output-wav/Mamak-Sessions---Getting-Married-in-Vegas,-and-Sugar-Babies-ft.-Dennis-Yin-Cq6Yjwsu63U.mp3-part-21.wav\n"
     ]
    },
    {
     "name": "stderr",
     "output_type": "stream",
     "text": [
      " 58%|█████▊    | 76153/130662 [31:34<17:55, 50.69it/s]"
     ]
    },
    {
     "name": "stdout",
     "output_type": "stream",
     "text": [
      "skipped semisupervised-manglish/output-wav/The-Fashion-Weak-Podcast-Ep24---Penang-Boys-@tunway-瘦虎-&-@Shawnduabui-肥龍-Talk-Zap-Fan-&-Sneakers-dykz_vuzJh0.mp3-part-835.wav\n"
     ]
    },
    {
     "name": "stderr",
     "output_type": "stream",
     "text": [
      " 58%|█████▊    | 76397/130662 [31:39<13:55, 64.97it/s]"
     ]
    },
    {
     "name": "stdout",
     "output_type": "stream",
     "text": [
      "skipped semisupervised-manglish/output-wav/The-Fashion-Weak-Podcast-EP14---Faking-it-on-the-gram-and-faking-Gasms-with-Sandra-Woo-(@sandrawooo)--XwvfCTnseI.mp3-part-83.wav\n"
     ]
    },
    {
     "name": "stderr",
     "output_type": "stream",
     "text": [
      " 58%|█████▊    | 76413/130662 [31:39<13:11, 68.57it/s]"
     ]
    },
    {
     "name": "stdout",
     "output_type": "stream",
     "text": [
      "skipped semisupervised-manglish/output-wav/Mamak-Sessions---Getting-Married-in-Vegas,-and-Sugar-Babies-ft.-Dennis-Yin-Cq6Yjwsu63U.mp3-part-295.wav\n"
     ]
    },
    {
     "name": "stderr",
     "output_type": "stream",
     "text": [
      " 59%|█████▊    | 76634/130662 [31:43<16:33, 54.39it/s]"
     ]
    },
    {
     "name": "stdout",
     "output_type": "stream",
     "text": [
      "skipped semisupervised-manglish/output-wav/The-Fashion-Weak-Podcast-Ep-30---On-her-way-to-Supermodel-dom,-ASNTM--Cycle-5-Runner-Up-@shikingomez-otK3Gl_XX4c.mp3-part-469.wav\n"
     ]
    },
    {
     "name": "stderr",
     "output_type": "stream",
     "text": [
      " 59%|█████▊    | 76752/130662 [31:46<16:18, 55.11it/s]"
     ]
    },
    {
     "name": "stdout",
     "output_type": "stream",
     "text": [
      "skipped semisupervised-manglish/output-wav/The-Fashion-Weak-Podcast-Ep-30---On-her-way-to-Supermodel-dom,-ASNTM--Cycle-5-Runner-Up-@shikingomez-otK3Gl_XX4c.mp3-part-492.wav\n",
      "skipped semisupervised-manglish/output-wav/@Juanitadr-shows-us-what-Arnold's-Tongue-Can-Do---The-Fashion-Weak-Podcast-Episode-10-N5EfPvQKW90.mp3-part-317.wav\n"
     ]
    },
    {
     "name": "stderr",
     "output_type": "stream",
     "text": [
      " 59%|█████▉    | 76768/130662 [31:46<14:40, 61.19it/s]"
     ]
    },
    {
     "name": "stdout",
     "output_type": "stream",
     "text": [
      "skipped semisupervised-manglish/output-wav/The-Fashion-Weak-Podcast-EP-27----Peter-Davis-talks-cars,-mixed-rice-and-some-fashion.-rxmMRAzLRJ0.mp3-part-667.wav\n",
      "skipped semisupervised-manglish/output-wav/Mamak-Sessions-Ep2---Bringing-A-Girl-Home-For-The-First-Time-Jn2oeTajYCw.mp3-part-157.wav\n"
     ]
    },
    {
     "name": "stderr",
     "output_type": "stream",
     "text": [
      " 59%|█████▉    | 76845/130662 [31:47<13:50, 64.78it/s]"
     ]
    },
    {
     "name": "stdout",
     "output_type": "stream",
     "text": [
      "skipped semisupervised-manglish/output-wav/The-Fashion-Weak-Podcast-Ep35---Is-New-Balance-Cool-Now-Talking-everything-NOT-Nike-with-@adlysyairi-3b0bYe36KNE.mp3-part-704.wav\n"
     ]
    },
    {
     "name": "stderr",
     "output_type": "stream",
     "text": [
      " 59%|█████▉    | 76883/130662 [31:48<14:48, 60.52it/s]"
     ]
    },
    {
     "name": "stdout",
     "output_type": "stream",
     "text": [
      "skipped semisupervised-manglish/output-wav/Mamak-Sessions---Are-Social-Media-Influencers-Entitled-ZJ8jw3C9vB8.mp3-part-108.wav\n",
      "skipped semisupervised-manglish/output-wav/Mamak-Sessions---Coming-Out-ft.-Nigel-Chin-and-Magnum-79ax7ZQss5M.mp3-part-39.wav\n"
     ]
    },
    {
     "name": "stderr",
     "output_type": "stream",
     "text": [
      " 59%|█████▉    | 76955/130662 [31:49<14:16, 62.73it/s]"
     ]
    },
    {
     "name": "stdout",
     "output_type": "stream",
     "text": [
      "skipped semisupervised-manglish/output-wav/The-Fashion-Weak-Podcast-Ep-39---Talking-Turn-On's-and-Fashion-Bulk-Buy-Deals-With-Tata-Wanqian-WSVo-qvu1GQ.mp3-part-442.wav\n"
     ]
    },
    {
     "name": "stderr",
     "output_type": "stream",
     "text": [
      " 59%|█████▉    | 77054/130662 [31:51<16:46, 53.28it/s]"
     ]
    },
    {
     "name": "stdout",
     "output_type": "stream",
     "text": [
      "skipped semisupervised-manglish/output-wav/Burnout-in-the-Media-Industry-+-Passion-in-Theatre--_-Singaporean-Podcast-#16-_-Rennes-Lee-f7qEqPNzGk8.mp3-part-268.wav\n",
      "skipped semisupervised-manglish/output-wav/Exposed!-Our-Favourite-Night-Activity-We-Miss-The-Most!-_-The-Thirsty-Sisters-#5-TxeBIVuXRHM.mp3-part-31.wav\n"
     ]
    },
    {
     "name": "stderr",
     "output_type": "stream",
     "text": [
      " 59%|█████▉    | 77111/130662 [31:52<13:52, 64.34it/s]"
     ]
    },
    {
     "name": "stdout",
     "output_type": "stream",
     "text": [
      "skipped semisupervised-manglish/output-wav/The-Fashion-Weak-Podcast-Ep24---Penang-Boys-@tunway-瘦虎-&-@Shawnduabui-肥龍-Talk-Zap-Fan-&-Sneakers-dykz_vuzJh0.mp3-part-620.wav\n"
     ]
    },
    {
     "name": "stderr",
     "output_type": "stream",
     "text": [
      " 59%|█████▉    | 77183/130662 [31:54<13:41, 65.11it/s]"
     ]
    },
    {
     "name": "stdout",
     "output_type": "stream",
     "text": [
      "skipped semisupervised-manglish/output-wav/The-Fashion-Weak-Podcast-Ep-40---tdcjTfzYSbk.mp3-part-94.wav\n",
      "skipped semisupervised-manglish/output-wav/Mamak-Sessions---Can-Guys-And-Girls-Be-Best-Friends-Is-it-ok-to-see-more-than-one-person-at-a-time-IixUPM11VMY.mp3-part-79.wav\n",
      "skipped semisupervised-manglish/output-wav/The-Fashion-Weak-Podcast-Ep-29---Valentines-Day-With-Becca-Lee-and-Leonard-Chua-UWm1ESejkzs.mp3-part-305.wav\n"
     ]
    },
    {
     "name": "stderr",
     "output_type": "stream",
     "text": [
      " 59%|█████▉    | 77229/130662 [31:54<14:50, 60.01it/s]"
     ]
    },
    {
     "name": "stdout",
     "output_type": "stream",
     "text": [
      "skipped semisupervised-manglish/output-wav/The-Fashion-Weak-Podcast-Ep24---Penang-Boys-@tunway-瘦虎-&-@Shawnduabui-肥龍-Talk-Zap-Fan-&-Sneakers-dykz_vuzJh0.mp3-part-673.wav\n",
      "skipped semisupervised-manglish/output-wav/The-Fashion-Weak-Podcast-Ep-43---Thirst-Trapping-Simps-&-Loving-Your-Body-From-The-Outside-In-6R87P6YD2c4.mp3-part-679.wav\n"
     ]
    },
    {
     "name": "stderr",
     "output_type": "stream",
     "text": [
      " 59%|█████▉    | 77251/130662 [31:55<14:01, 63.51it/s]"
     ]
    },
    {
     "name": "stdout",
     "output_type": "stream",
     "text": [
      "skipped semisupervised-manglish/output-wav/How-To-Be-A-Damn-Good-Software-Developer-+-Israel-Startup-Culture-_-Singaporean-Podcast-#11-_-Mark-cs2LkcSpNpw.mp3-part-74.wav\n"
     ]
    },
    {
     "name": "stderr",
     "output_type": "stream",
     "text": [
      " 59%|█████▉    | 77279/130662 [31:55<17:14, 51.60it/s]"
     ]
    },
    {
     "name": "stdout",
     "output_type": "stream",
     "text": [
      "skipped semisupervised-manglish/output-wav/The-Fashion-Weak-Podcast-EP16---Podcast-Wars-With-The-From-The-Thread-Boys-7dPzh9PpLs8.mp3-part-442.wav\n"
     ]
    },
    {
     "name": "stderr",
     "output_type": "stream",
     "text": [
      " 59%|█████▉    | 77314/130662 [31:56<14:09, 62.77it/s]"
     ]
    },
    {
     "name": "stdout",
     "output_type": "stream",
     "text": [
      "skipped semisupervised-manglish/output-wav/Butts-and-D_ck-Pics,-MILF-Hunting-Part-2-With-Nor-Soraya---The-Fashion-Weak-Podcast-Episode-5-NCiDUw4mQgE.mp3-part-135.wav\n"
     ]
    },
    {
     "name": "stderr",
     "output_type": "stream",
     "text": [
      " 59%|█████▉    | 77365/130662 [31:57<14:25, 61.60it/s]"
     ]
    },
    {
     "name": "stdout",
     "output_type": "stream",
     "text": [
      "skipped semisupervised-manglish/output-wav/Mamak-Sessions---Can-Guys-And-Girls-Be-Best-Friends-Is-it-ok-to-see-more-than-one-person-at-a-time-IixUPM11VMY.mp3-part-252.wav\n"
     ]
    },
    {
     "name": "stderr",
     "output_type": "stream",
     "text": [
      " 59%|█████▉    | 77548/130662 [32:00<13:52, 63.82it/s]"
     ]
    },
    {
     "name": "stdout",
     "output_type": "stream",
     "text": [
      "skipped semisupervised-manglish/output-wav/The-Fashion-Weak-Podcast-Ep-23---Alicia-Amin-On-Being-A-'Malay'-Model-In-2019-3pKA5NvTCOA.mp3-part-405.wav\n",
      "skipped semisupervised-manglish/output-wav/The-Fashion-Weak-Podcast-EP-27----Peter-Davis-talks-cars,-mixed-rice-and-some-fashion.-rxmMRAzLRJ0.mp3-part-421.wav\n"
     ]
    },
    {
     "name": "stderr",
     "output_type": "stream",
     "text": [
      " 59%|█████▉    | 77576/130662 [32:01<16:44, 52.87it/s]"
     ]
    },
    {
     "name": "stdout",
     "output_type": "stream",
     "text": [
      "skipped semisupervised-manglish/output-wav/Butts-and-D_ck-Pics,-MILF-Hunting-Part-2-With-Nor-Soraya---The-Fashion-Weak-Podcast-Episode-5-NCiDUw4mQgE.mp3-part-88.wav\n"
     ]
    },
    {
     "name": "stderr",
     "output_type": "stream",
     "text": [
      " 59%|█████▉    | 77600/130662 [32:01<13:30, 65.51it/s]"
     ]
    },
    {
     "name": "stdout",
     "output_type": "stream",
     "text": [
      "skipped semisupervised-manglish/output-wav/Being-Bullied,-Toxic-Masculinity-And-Theatre-_-HTHT---Fauzi-Aziz-6syqXC_o6gs.mp3-part-347.wav\n"
     ]
    },
    {
     "name": "stderr",
     "output_type": "stream",
     "text": [
      " 59%|█████▉    | 77616/130662 [32:02<12:47, 69.14it/s]"
     ]
    },
    {
     "name": "stdout",
     "output_type": "stream",
     "text": [
      "skipped semisupervised-manglish/output-wav/The-Fashion-Weak-Podcast-EP-41---Investment-Tips-For-Chee-Seng-With-Fuad-&-Shaq-From-Kyoto-Protocol-eWNQhDNoSsY.mp3-part-614.wav\n"
     ]
    },
    {
     "name": "stderr",
     "output_type": "stream",
     "text": [
      " 59%|█████▉    | 77699/130662 [32:04<18:17, 48.25it/s]"
     ]
    },
    {
     "name": "stdout",
     "output_type": "stream",
     "text": [
      "skipped semisupervised-manglish/output-wav/The-Fashion-Weak-Podcast-Ep-43---Thirst-Trapping-Simps-&-Loving-Your-Body-From-The-Outside-In-6R87P6YD2c4.mp3-part-224.wav\n"
     ]
    },
    {
     "name": "stderr",
     "output_type": "stream",
     "text": [
      " 60%|█████▉    | 77777/130662 [32:05<17:31, 50.30it/s]"
     ]
    },
    {
     "name": "stdout",
     "output_type": "stream",
     "text": [
      "skipped semisupervised-manglish/output-wav/Why-Enneagram-Will-Change-Your-Perspective-On-ALL-Relationships-Forever-_-Cindy-Leong-_-SG-Podcast-cSxV6oacgaE.mp3-part-480.wav\n"
     ]
    },
    {
     "name": "stderr",
     "output_type": "stream",
     "text": [
      " 60%|█████▉    | 77794/130662 [32:05<14:46, 59.65it/s]"
     ]
    },
    {
     "name": "stdout",
     "output_type": "stream",
     "text": [
      "skipped semisupervised-manglish/output-wav/Mamak-Sessions-Ep6---Names-People-Always-Mispronounce-&-Facebook-Is-A-Spy-8LuihYdx0FQ.mp3-part-387.wav\n"
     ]
    },
    {
     "name": "stderr",
     "output_type": "stream",
     "text": [
      " 60%|█████▉    | 77809/130662 [32:05<14:02, 62.77it/s]"
     ]
    },
    {
     "name": "stdout",
     "output_type": "stream",
     "text": [
      "skipped semisupervised-manglish/output-wav/The-Fashion-Weak-Podcast-Ep24---Penang-Boys-@tunway-瘦虎-&-@Shawnduabui-肥龍-Talk-Zap-Fan-&-Sneakers-dykz_vuzJh0.mp3-part-73.wav\n"
     ]
    },
    {
     "name": "stderr",
     "output_type": "stream",
     "text": [
      " 60%|█████▉    | 77867/130662 [32:07<14:01, 62.75it/s]"
     ]
    },
    {
     "name": "stdout",
     "output_type": "stream",
     "text": [
      "skipped semisupervised-manglish/output-wav/The-Fashion-Weak-Podcast-Ep-33---Lingerie-&-Bikini-Talk-With-Talitha-Tan-(@talithabe)-_7Un0q6a9zg.mp3-part-85.wav\n"
     ]
    },
    {
     "name": "stderr",
     "output_type": "stream",
     "text": [
      " 60%|█████▉    | 77956/130662 [32:08<18:29, 47.50it/s]"
     ]
    },
    {
     "name": "stdout",
     "output_type": "stream",
     "text": [
      "skipped semisupervised-manglish/output-wav/Mamak-Sessions---Getting-Married-in-Vegas,-and-Sugar-Babies-ft.-Dennis-Yin-Cq6Yjwsu63U.mp3-part-88.wav\n"
     ]
    },
    {
     "name": "stderr",
     "output_type": "stream",
     "text": [
      " 60%|█████▉    | 77972/130662 [32:09<15:53, 55.26it/s]"
     ]
    },
    {
     "name": "stdout",
     "output_type": "stream",
     "text": [
      "skipped semisupervised-manglish/output-wav/If-the-girl-is-not-interested,-go-for-her-Mom.-Or-her-Aunt---The-Fashion-Weak-Podcast-Ep6-aa5r9pws0AI.mp3-part-208.wav\n"
     ]
    },
    {
     "name": "stderr",
     "output_type": "stream",
     "text": [
      " 60%|█████▉    | 78010/130662 [32:10<17:56, 48.91it/s]"
     ]
    },
    {
     "name": "stdout",
     "output_type": "stream",
     "text": [
      "skipped semisupervised-manglish/output-wav/The-Fashion-Weak-Podcast-Ep-46---Premium-Thirst-Trap-Tips-With-Michelle-Lee-(@mich8lee)-MCHDyLJDJrg.mp3-part-334.wav\n"
     ]
    },
    {
     "name": "stderr",
     "output_type": "stream",
     "text": [
      " 60%|█████▉    | 78032/130662 [32:10<15:09, 57.86it/s]"
     ]
    },
    {
     "name": "stdout",
     "output_type": "stream",
     "text": [
      "skipped semisupervised-manglish/output-wav/Mamak-Sessions-Ep6---Names-People-Always-Mispronounce-&-Facebook-Is-A-Spy-8LuihYdx0FQ.mp3-part-394.wav\n"
     ]
    },
    {
     "name": "stderr",
     "output_type": "stream",
     "text": [
      " 60%|█████▉    | 78053/130662 [32:10<13:52, 63.19it/s]"
     ]
    },
    {
     "name": "stdout",
     "output_type": "stream",
     "text": [
      "skipped semisupervised-manglish/output-wav/Why-Human-Resources-Matters-+-Life-as-a-Singapore-Solopreneur-_-Lauren-Ong-_-Singaporean-Podcast-#20-YtCn4hNLk7o.mp3-part-282.wav\n"
     ]
    },
    {
     "name": "stderr",
     "output_type": "stream",
     "text": [
      " 60%|█████▉    | 78096/130662 [32:11<15:18, 57.24it/s]"
     ]
    },
    {
     "name": "stdout",
     "output_type": "stream",
     "text": [
      "skipped semisupervised-manglish/output-wav/The-Fashion-Weak-Podcast-Ep-31----Possibly-Our-Most-NSFW-Episode-Yet-With-@vikarworld-xMm23vU8_og.mp3-part-573.wav\n",
      "skipped semisupervised-manglish/output-wav/Mamak-Sessions-Ep6---Names-People-Always-Mispronounce-&-Facebook-Is-A-Spy-8LuihYdx0FQ.mp3-part-228.wav\n",
      "skipped semisupervised-manglish/output-wav/The-Fashion-Weak-Podcast-Ep-38---TikTok-Royalty-Roshan-Jeet-aka-Roshannnn1-lPnRg9UsP0M.mp3-part-334.wav\n"
     ]
    },
    {
     "name": "stderr",
     "output_type": "stream",
     "text": [
      " 60%|█████▉    | 78119/130662 [32:11<13:14, 66.13it/s]"
     ]
    },
    {
     "name": "stdout",
     "output_type": "stream",
     "text": [
      "skipped semisupervised-manglish/output-wav/The-Fashion-Weak-Podcast-Ep-46---Premium-Thirst-Trap-Tips-With-Michelle-Lee-(@mich8lee)-MCHDyLJDJrg.mp3-part-939.wav\n",
      "skipped semisupervised-manglish/output-wav/The-Fashion-Weak-Podcast-EP16---Podcast-Wars-With-The-From-The-Thread-Boys-7dPzh9PpLs8.mp3-part-81.wav\n"
     ]
    },
    {
     "name": "stderr",
     "output_type": "stream",
     "text": [
      " 60%|█████▉    | 78140/130662 [32:12<18:11, 48.11it/s]"
     ]
    },
    {
     "name": "stdout",
     "output_type": "stream",
     "text": [
      "skipped semisupervised-manglish/output-wav/Skin-Care-Routines,-Death,-Life-Purpose-and-More-_-Singaporean-Trio-Podcast-#2-6yW185RJkGw.mp3-part-89.wav\n"
     ]
    },
    {
     "name": "stderr",
     "output_type": "stream",
     "text": [
      " 60%|█████▉    | 78184/130662 [32:13<15:01, 58.20it/s]"
     ]
    },
    {
     "name": "stdout",
     "output_type": "stream",
     "text": [
      "skipped semisupervised-manglish/output-wav/Dance-Moves-To-Pick-Up-Girls-At-The-Club-With-Adidas-Creator-Maybelline-Wong-(@definitelyMayb_)-vRnkHzyyBc4.mp3-part-184.wav\n"
     ]
    },
    {
     "name": "stderr",
     "output_type": "stream",
     "text": [
      " 60%|█████▉    | 78219/130662 [32:13<15:41, 55.73it/s]"
     ]
    },
    {
     "name": "stdout",
     "output_type": "stream",
     "text": [
      "skipped semisupervised-manglish/output-wav/Tips-For-Being-In-The-Media-Industry-(ft.-Neo-Kee-Wei)-_-IMO-Ep.18-TqLaI2X4jj0.mp3-part-104.wav\n"
     ]
    },
    {
     "name": "stderr",
     "output_type": "stream",
     "text": [
      " 60%|█████▉    | 78241/130662 [32:14<13:54, 62.82it/s]"
     ]
    },
    {
     "name": "stdout",
     "output_type": "stream",
     "text": [
      "skipped semisupervised-manglish/output-wav/Mamak-Sessions-Ep6---Names-People-Always-Mispronounce-&-Facebook-Is-A-Spy-8LuihYdx0FQ.mp3-part-406.wav\n"
     ]
    },
    {
     "name": "stderr",
     "output_type": "stream",
     "text": [
      " 60%|█████▉    | 78292/130662 [32:15<13:46, 63.37it/s]"
     ]
    },
    {
     "name": "stdout",
     "output_type": "stream",
     "text": [
      "skipped semisupervised-manglish/output-wav/Dance-Moves-To-Pick-Up-Girls-At-The-Club-With-Adidas-Creator-Maybelline-Wong-(@definitelyMayb_)-vRnkHzyyBc4.mp3-part-133.wav\n",
      "skipped semisupervised-manglish/output-wav/The-Fashion-Weak-Podcast-EP-27----Peter-Davis-talks-cars,-mixed-rice-and-some-fashion.-rxmMRAzLRJ0.mp3-part-247.wav\n",
      "skipped semisupervised-manglish/output-wav/The-Fashion-Weak-Podcast-Ep-23---Alicia-Amin-On-Being-A-'Malay'-Model-In-2019-3pKA5NvTCOA.mp3-part-0.wav\n",
      "skipped semisupervised-manglish/output-wav/How-To-Be-A-Damn-Good-Software-Developer-+-Israel-Startup-Culture-_-Singaporean-Podcast-#11-_-Mark-cs2LkcSpNpw.mp3-part-249.wav\n"
     ]
    },
    {
     "name": "stderr",
     "output_type": "stream",
     "text": [
      " 60%|█████▉    | 78322/130662 [32:15<16:37, 52.49it/s]"
     ]
    },
    {
     "name": "stdout",
     "output_type": "stream",
     "text": [
      "skipped semisupervised-manglish/output-wav/The-Fashion-Weak-Podcast-Ep-43A---Keeping-Fair-On-The-Fairway-With-Natalia-Ng-CSP1XPZu4YY.mp3-part-59.wav\n"
     ]
    },
    {
     "name": "stderr",
     "output_type": "stream",
     "text": [
      " 60%|█████▉    | 78337/130662 [32:16<14:49, 58.85it/s]"
     ]
    },
    {
     "name": "stdout",
     "output_type": "stream",
     "text": [
      "skipped semisupervised-manglish/output-wav/The-Fashion-Weak-Podcast-EP-41---Investment-Tips-For-Chee-Seng-With-Fuad-&-Shaq-From-Kyoto-Protocol-eWNQhDNoSsY.mp3-part-141.wav\n"
     ]
    },
    {
     "name": "stderr",
     "output_type": "stream",
     "text": [
      " 60%|██████    | 78572/130662 [32:20<16:52, 51.44it/s]"
     ]
    },
    {
     "name": "stdout",
     "output_type": "stream",
     "text": [
      "skipped semisupervised-manglish/output-wav/The-Fashion-Weak-Podcast-EP16---Podcast-Wars-With-The-From-The-Thread-Boys-7dPzh9PpLs8.mp3-part-478.wav\n"
     ]
    },
    {
     "name": "stderr",
     "output_type": "stream",
     "text": [
      " 60%|██████    | 78600/130662 [32:21<14:36, 59.39it/s]"
     ]
    },
    {
     "name": "stdout",
     "output_type": "stream",
     "text": [
      "skipped semisupervised-manglish/output-wav/Bend-Over!-Or-Pay-Sit-Forward!-We-Create-Our-Own-Movements!-_-The-Thirsty-Sisters-#3-ekKcn3QCU5E.mp3-part-133.wav\n"
     ]
    },
    {
     "name": "stderr",
     "output_type": "stream",
     "text": [
      " 60%|██████    | 78614/130662 [32:21<19:54, 43.58it/s]"
     ]
    },
    {
     "name": "stdout",
     "output_type": "stream",
     "text": [
      "skipped semisupervised-manglish/output-wav/Mamak-Sessions---Airing-Dirty-Laundry-Online-and-Social-Justice-Warriors-FFtFXiIgsyk.mp3-part-198.wav\n"
     ]
    },
    {
     "name": "stderr",
     "output_type": "stream",
     "text": [
      " 60%|██████    | 78649/130662 [32:22<15:04, 57.50it/s]"
     ]
    },
    {
     "name": "stdout",
     "output_type": "stream",
     "text": [
      "skipped semisupervised-manglish/output-wav/Are-We-Still-Sexualising-Women-in-2020-_-Thirsty-Sisters-#13-zHC1MPeSP34.mp3-part-533.wav\n"
     ]
    },
    {
     "name": "stderr",
     "output_type": "stream",
     "text": [
      " 60%|██████    | 78741/130662 [32:24<18:46, 46.09it/s]"
     ]
    },
    {
     "name": "stdout",
     "output_type": "stream",
     "text": [
      "skipped semisupervised-manglish/output-wav/Mamak-Sessions---From-A-Transport-Assistant-to-a-Multi-Award-Winning-Film-Director-r6f3OoHVkgU.mp3-part-390.wav\n"
     ]
    },
    {
     "name": "stderr",
     "output_type": "stream",
     "text": [
      " 60%|██████    | 78769/130662 [32:24<14:47, 58.45it/s]"
     ]
    },
    {
     "name": "stdout",
     "output_type": "stream",
     "text": [
      "skipped semisupervised-manglish/output-wav/Are-We-Still-Sexualising-Women-in-2020-_-Thirsty-Sisters-#13-zHC1MPeSP34.mp3-part-494.wav\n"
     ]
    },
    {
     "name": "stderr",
     "output_type": "stream",
     "text": [
      " 60%|██████    | 78839/130662 [32:26<14:06, 61.23it/s]"
     ]
    },
    {
     "name": "stdout",
     "output_type": "stream",
     "text": [
      "skipped semisupervised-manglish/output-wav/Conversations-With-A-Cancer-Survivor-ft-Jared-Lee-L2W4inT6j3c.mp3-part-142.wav\n"
     ]
    },
    {
     "name": "stderr",
     "output_type": "stream",
     "text": [
      " 60%|██████    | 78853/130662 [32:26<19:26, 44.41it/s]"
     ]
    },
    {
     "name": "stdout",
     "output_type": "stream",
     "text": [
      "skipped semisupervised-manglish/output-wav/Mamak-Sessions---From-Giving-Up,-To-Getting-A-NETFLIX-Special-Q54z0mutz5Q.mp3-part-136.wav\n"
     ]
    },
    {
     "name": "stderr",
     "output_type": "stream",
     "text": [
      " 60%|██████    | 78905/130662 [32:27<14:50, 58.13it/s]"
     ]
    },
    {
     "name": "stdout",
     "output_type": "stream",
     "text": [
      "skipped semisupervised-manglish/output-wav/Mamak-Sessions-Ep1---Girls-Are-Happier-With-Less-Attractive-Men,-And-The-Dramatic-Pizza-Order-2M8U_mxGbcw.mp3-part-171.wav\n"
     ]
    },
    {
     "name": "stderr",
     "output_type": "stream",
     "text": [
      " 60%|██████    | 78934/130662 [32:27<13:23, 64.40it/s]"
     ]
    },
    {
     "name": "stdout",
     "output_type": "stream",
     "text": [
      "skipped semisupervised-manglish/output-wav/Talking-Sneakers-&-Strong-Sperm-With-@bryanbotakchin---The-Fashion-Weak-Podcast-Episode-11-iugevNPFp2Y.mp3-part-174.wav\n"
     ]
    },
    {
     "name": "stderr",
     "output_type": "stream",
     "text": [
      " 61%|██████    | 79096/130662 [32:30<14:27, 59.42it/s]"
     ]
    },
    {
     "name": "stdout",
     "output_type": "stream",
     "text": [
      "skipped semisupervised-manglish/output-wav/Mamak-Sessions---Our-Differences-Is-What-Unites-Us-ft.-Elvin-Romeo-0jySfrZhs50.mp3-part-175.wav\n"
     ]
    },
    {
     "name": "stderr",
     "output_type": "stream",
     "text": [
      " 61%|██████    | 79127/130662 [32:31<13:43, 62.55it/s]"
     ]
    },
    {
     "name": "stdout",
     "output_type": "stream",
     "text": [
      "skipped semisupervised-manglish/output-wav/Life-After-NUS-Business-School-in-the-FMCG-Industry-_-Singaporean-Podcast-#4_-Leonard-Yap-ONUgGzCm00E.mp3-part-344.wav\n"
     ]
    },
    {
     "name": "stderr",
     "output_type": "stream",
     "text": [
      " 61%|██████    | 79171/130662 [32:32<14:10, 60.52it/s]"
     ]
    },
    {
     "name": "stdout",
     "output_type": "stream",
     "text": [
      "skipped semisupervised-manglish/output-wav/My-Ex-Husband-And-His-New-Puppy's-Mummy-_-The-Thirsty-Sisters-#26-RBShCX3-BtQ.mp3-part-16.wav\n"
     ]
    },
    {
     "name": "stderr",
     "output_type": "stream",
     "text": [
      " 61%|██████    | 79236/130662 [32:33<14:37, 58.59it/s]"
     ]
    },
    {
     "name": "stdout",
     "output_type": "stream",
     "text": [
      "skipped semisupervised-manglish/output-wav/Mamak-Sessions-Ep9---Sibling-Rivalry-ft-Julian-Yee-670FyeJhnps.mp3-part-181.wav\n"
     ]
    },
    {
     "name": "stderr",
     "output_type": "stream",
     "text": [
      " 61%|██████    | 79291/130662 [32:34<14:32, 58.85it/s]"
     ]
    },
    {
     "name": "stdout",
     "output_type": "stream",
     "text": [
      "skipped semisupervised-manglish/output-wav/My-Ex-Husband-And-His-New-Puppy's-Mummy-_-The-Thirsty-Sisters-#26-RBShCX3-BtQ.mp3-part-125.wav\n"
     ]
    },
    {
     "name": "stderr",
     "output_type": "stream",
     "text": [
      " 61%|██████    | 79334/130662 [32:35<13:43, 62.32it/s]"
     ]
    },
    {
     "name": "stdout",
     "output_type": "stream",
     "text": [
      "skipped semisupervised-manglish/output-wav/Mamak-Sessions---Quitting-The-Medical-Line-To-Make-People-Laugh-ft-Dr.-Jason-Leong-FcD9MpeWqEI.mp3-part-412.wav\n",
      "skipped semisupervised-manglish/output-wav/How-We-Deal-With-Hate!-_-The-Thirsty-Sisters-#7-O_rK97AUOIA.mp3-part-355.wav\n",
      "skipped semisupervised-manglish/output-wav/The-Fashion-Weak-Podcast-Ep-15---Underwear-Sneakers-&-Fruits-With-@OhZooey-HDuY9UdkkaE.mp3-part-79.wav\n",
      "skipped semisupervised-manglish/output-wav/Mamak-Sessions---Do-You-Check-Your-Partner's-Text-Messages-Featuring-Lizz-Chloe-WJkSAHvYyqk.mp3-part-295.wav\n"
     ]
    },
    {
     "name": "stderr",
     "output_type": "stream",
     "text": [
      " 61%|██████    | 79408/130662 [32:36<13:42, 62.33it/s]"
     ]
    },
    {
     "name": "stdout",
     "output_type": "stream",
     "text": [
      "skipped semisupervised-manglish/output-wav/Mamak-Sessions---From-Giving-Up,-To-Getting-A-NETFLIX-Special-Q54z0mutz5Q.mp3-part-627.wav\n",
      "skipped semisupervised-manglish/output-wav/Mamak-Sessions---Can-Guys-And-Girls-Be-Best-Friends-Is-it-ok-to-see-more-than-one-person-at-a-time-IixUPM11VMY.mp3-part-217.wav\n"
     ]
    },
    {
     "name": "stderr",
     "output_type": "stream",
     "text": [
      " 61%|██████    | 79470/130662 [32:38<16:21, 52.14it/s]"
     ]
    },
    {
     "name": "stdout",
     "output_type": "stream",
     "text": [
      "skipped semisupervised-manglish/output-wav/The-Fashion-Weak-Podcast-Ep-29---Valentines-Day-With-Becca-Lee-and-Leonard-Chua-UWm1ESejkzs.mp3-part-511.wav\n"
     ]
    },
    {
     "name": "stderr",
     "output_type": "stream",
     "text": [
      " 61%|██████    | 79567/130662 [32:39<14:19, 59.42it/s]"
     ]
    },
    {
     "name": "stdout",
     "output_type": "stream",
     "text": [
      "skipped semisupervised-manglish/output-wav/Become-a-Software-Developer-in-90-days-and-Running-His-Own-Company-_-Singaporean-Podcast-#8-_-Haris-HRd3RMQtkDs.mp3-part-131.wav\n",
      "skipped semisupervised-manglish/output-wav/The-Fashion-Weak-Podcast-EP-36---Why-guys-REALLY-go-for-spin-class-with-Oxygen-Cycle-RqG0tHR9D1g.mp3-part-479.wav\n"
     ]
    },
    {
     "name": "stderr",
     "output_type": "stream",
     "text": [
      " 61%|██████    | 79603/130662 [32:40<15:59, 53.24it/s]"
     ]
    },
    {
     "name": "stdout",
     "output_type": "stream",
     "text": [
      "skipped semisupervised-manglish/output-wav/Blessing-The-Pod,-Calling-Mofo's-OUT!-with-@soimjenn---The-Fashion-Weak-Podcast-Episode-7-xsjayMqoC0Y.mp3-part-162.wav\n",
      "skipped semisupervised-manglish/output-wav/The-Fashion-Weak-Podcast-Ep-43---Thirst-Trapping-Simps-&-Loving-Your-Body-From-The-Outside-In-6R87P6YD2c4.mp3-part-570.wav\n"
     ]
    },
    {
     "name": "stderr",
     "output_type": "stream",
     "text": [
      " 61%|██████    | 79675/130662 [32:41<13:52, 61.26it/s]"
     ]
    },
    {
     "name": "stdout",
     "output_type": "stream",
     "text": [
      "skipped semisupervised-manglish/output-wav/Mamak-Sessions---Should-You-Be-Spending-Crazily-For-Valentine's-Day-QLz7USNFnng.mp3-part-31.wav\n",
      "skipped semisupervised-manglish/output-wav/Mamak-Sessions-Ep10---Datuk-Nicol-David-is-RETIRING!-n3AR3nQEc7Y.mp3-part-222.wav\n"
     ]
    },
    {
     "name": "stderr",
     "output_type": "stream",
     "text": [
      " 61%|██████    | 79787/130662 [32:44<14:49, 57.20it/s]"
     ]
    },
    {
     "name": "stdout",
     "output_type": "stream",
     "text": [
      "skipped semisupervised-manglish/output-wav/Mamak-Sessions---The-Asian-Mom-Of-The-Internet-ft-Tata-Wyb6i3GoJv4.mp3-part-76.wav\n"
     ]
    },
    {
     "name": "stderr",
     "output_type": "stream",
     "text": [
      "\r",
      " 61%|██████    | 79797/130662 [32:44<13:06, 64.66it/s]"
     ]
    },
    {
     "name": "stdout",
     "output_type": "stream",
     "text": [
      "skipped semisupervised-manglish/output-wav/Mamak-Sessions-Podcast---How-Do-You-Handle-Long-Distance-Relationships-Do-they-WORK-m7mwwtsblIs.mp3-part-0.wav\n",
      "skipped semisupervised-manglish/output-wav/The-Fashion-Weak-Podcast-Ep-15---Underwear-Sneakers-&-Fruits-With-@OhZooey-HDuY9UdkkaE.mp3-part-117.wav\n"
     ]
    },
    {
     "name": "stderr",
     "output_type": "stream",
     "text": [
      " 61%|██████    | 79827/130662 [32:44<12:55, 65.54it/s]"
     ]
    },
    {
     "name": "stdout",
     "output_type": "stream",
     "text": [
      "skipped semisupervised-manglish/output-wav/Mamak-Sessions-Podcast---A-Dog-Was-Slashed-In-The-Mouth-And-Abused,-But-This-Kind-Soul-Saved-It-FNfbmh93DFo.mp3-part-222.wav\n"
     ]
    },
    {
     "name": "stderr",
     "output_type": "stream",
     "text": [
      " 61%|██████    | 79881/130662 [32:45<14:51, 56.97it/s]"
     ]
    },
    {
     "name": "stdout",
     "output_type": "stream",
     "text": [
      "skipped semisupervised-manglish/output-wav/Being-Bullied,-Toxic-Masculinity-And-Theatre-_-HTHT---Fauzi-Aziz-6syqXC_o6gs.mp3-part-28.wav\n"
     ]
    },
    {
     "name": "stderr",
     "output_type": "stream",
     "text": [
      " 61%|██████    | 79902/130662 [32:46<14:04, 60.11it/s]"
     ]
    },
    {
     "name": "stdout",
     "output_type": "stream",
     "text": [
      "skipped semisupervised-manglish/output-wav/I-Dated-A-Guy-Twice-My-Age-Our-First-Date-Don'ts-_-The-Thirsty-Sisters-#19-3-DoQSmz5aI.mp3-part-245.wav\n"
     ]
    },
    {
     "name": "stderr",
     "output_type": "stream",
     "text": [
      " 61%|██████    | 79963/130662 [32:47<13:56, 60.64it/s]"
     ]
    },
    {
     "name": "stdout",
     "output_type": "stream",
     "text": [
      "skipped semisupervised-manglish/output-wav/Mamak-Sessions---Getting-Married-in-Vegas,-and-Sugar-Babies-ft.-Dennis-Yin-Cq6Yjwsu63U.mp3-part-24.wav\n"
     ]
    },
    {
     "name": "stderr",
     "output_type": "stream",
     "text": [
      " 61%|██████    | 80028/130662 [32:48<12:54, 65.36it/s]"
     ]
    },
    {
     "name": "stdout",
     "output_type": "stream",
     "text": [
      "skipped semisupervised-manglish/output-wav/The-Fashion-Weak-Podcast-Ep-40---tdcjTfzYSbk.mp3-part-1107.wav\n",
      "skipped semisupervised-manglish/output-wav/Mamak-Sessions---Quitting-The-Medical-Line-To-Make-People-Laugh-ft-Dr.-Jason-Leong-FcD9MpeWqEI.mp3-part-257.wav\n",
      "skipped semisupervised-manglish/output-wav/Burnout-in-the-Media-Industry-+-Passion-in-Theatre--_-Singaporean-Podcast-#16-_-Rennes-Lee-f7qEqPNzGk8.mp3-part-48.wav\n"
     ]
    },
    {
     "name": "stderr",
     "output_type": "stream",
     "text": [
      " 61%|██████▏   | 80080/130662 [32:49<14:38, 57.59it/s]"
     ]
    },
    {
     "name": "stdout",
     "output_type": "stream",
     "text": [
      "skipped semisupervised-manglish/output-wav/Real-Estate-Major-+-NUS-Overseas-College-in-Beijing-_-Singaporean-Podcast-#7-_-Danial-Arun-5SOInBKNP18.mp3-part-432.wav\n"
     ]
    },
    {
     "name": "stderr",
     "output_type": "stream",
     "text": [
      " 61%|██████▏   | 80228/130662 [32:52<15:42, 53.49it/s]"
     ]
    },
    {
     "name": "stdout",
     "output_type": "stream",
     "text": [
      "skipped semisupervised-manglish/output-wav/Do-You-Know-Your-Attachment-Style!-_-The-Thirsty-Sisters-#21-HKnXUGo_H2U.mp3-part-67.wav\n",
      "skipped semisupervised-manglish/output-wav/8-Wheels-Vs-4-Wheels-With-Sukeats-From-Wheel-Love---The-Fashion-Weak-Podcast-ep-12-fgaCmnMdZ0c.mp3-part-2.wav\n"
     ]
    },
    {
     "name": "stderr",
     "output_type": "stream",
     "text": [
      " 61%|██████▏   | 80328/130662 [32:54<13:09, 63.73it/s]"
     ]
    },
    {
     "name": "stdout",
     "output_type": "stream",
     "text": [
      "skipped semisupervised-manglish/output-wav/Being-Bullied,-Toxic-Masculinity-And-Theatre-_-HTHT---Fauzi-Aziz-6syqXC_o6gs.mp3-part-178.wav\n"
     ]
    },
    {
     "name": "stderr",
     "output_type": "stream",
     "text": [
      " 62%|██████▏   | 80376/130662 [32:55<14:17, 58.62it/s]"
     ]
    },
    {
     "name": "stdout",
     "output_type": "stream",
     "text": [
      "skipped semisupervised-manglish/output-wav/Mamak-Sessions---Airing-Dirty-Laundry-Online-and-Social-Justice-Warriors-FFtFXiIgsyk.mp3-part-142.wav\n"
     ]
    },
    {
     "name": "stderr",
     "output_type": "stream",
     "text": [
      " 62%|██████▏   | 80433/130662 [32:56<13:20, 62.72it/s]"
     ]
    },
    {
     "name": "stdout",
     "output_type": "stream",
     "text": [
      "skipped semisupervised-manglish/output-wav/Blessing-The-Pod,-Calling-Mofo's-OUT!-with-@soimjenn---The-Fashion-Weak-Podcast-Episode-7-xsjayMqoC0Y.mp3-part-20.wav\n"
     ]
    },
    {
     "name": "stderr",
     "output_type": "stream",
     "text": [
      " 62%|██████▏   | 80530/130662 [32:58<14:12, 58.81it/s]"
     ]
    },
    {
     "name": "stdout",
     "output_type": "stream",
     "text": [
      "skipped semisupervised-manglish/output-wav/Mamak-Sessions-Ep6---Names-People-Always-Mispronounce-&-Facebook-Is-A-Spy-8LuihYdx0FQ.mp3-part-192.wav\n"
     ]
    },
    {
     "name": "stderr",
     "output_type": "stream",
     "text": [
      " 62%|██████▏   | 80587/130662 [32:59<13:39, 61.11it/s]"
     ]
    },
    {
     "name": "stdout",
     "output_type": "stream",
     "text": [
      "skipped semisupervised-manglish/output-wav/Why-Blockchain-&-Crypo-Matters-_-Singaporean-Podcast-#15-_-Royal-Pek--2d7wzvNOCE.mp3-part-485.wav\n"
     ]
    },
    {
     "name": "stderr",
     "output_type": "stream",
     "text": [
      " 62%|██████▏   | 80608/130662 [32:59<16:56, 49.22it/s]"
     ]
    },
    {
     "name": "stdout",
     "output_type": "stream",
     "text": [
      "skipped semisupervised-manglish/output-wav/Mamak-Sessions-Ep6---Names-People-Always-Mispronounce-&-Facebook-Is-A-Spy-8LuihYdx0FQ.mp3-part-400.wav\n"
     ]
    },
    {
     "name": "stderr",
     "output_type": "stream",
     "text": [
      " 62%|██████▏   | 80623/130662 [33:00<14:27, 57.65it/s]"
     ]
    },
    {
     "name": "stdout",
     "output_type": "stream",
     "text": [
      "skipped semisupervised-manglish/output-wav/The-Fashion-Weak-Podcast-Ep-29---Valentines-Day-With-Becca-Lee-and-Leonard-Chua-UWm1ESejkzs.mp3-part-609.wav\n",
      "skipped semisupervised-manglish/output-wav/Mamak-Sessions-Ep10---Datuk-Nicol-David-is-RETIRING!-n3AR3nQEc7Y.mp3-part-5.wav\n"
     ]
    },
    {
     "name": "stderr",
     "output_type": "stream",
     "text": [
      " 62%|██████▏   | 80661/130662 [33:00<18:45, 44.44it/s]"
     ]
    },
    {
     "name": "stdout",
     "output_type": "stream",
     "text": [
      "skipped semisupervised-manglish/output-wav/The-Fashion-Weak-Podcast-EP-27----Peter-Davis-talks-cars,-mixed-rice-and-some-fashion.-rxmMRAzLRJ0.mp3-part-786.wav\n"
     ]
    },
    {
     "name": "stderr",
     "output_type": "stream",
     "text": [
      " 62%|██████▏   | 80719/130662 [33:01<13:07, 63.40it/s]"
     ]
    },
    {
     "name": "stdout",
     "output_type": "stream",
     "text": [
      "skipped semisupervised-manglish/output-wav/Overcoming-Depression-&-Redefining-What-Failure-Means-to-Youths_-Singaporean-Podcast-#10-_-Kevin-Wee-rjjK4aAbKnw.mp3-part-297.wav\n"
     ]
    },
    {
     "name": "stderr",
     "output_type": "stream",
     "text": [
      " 62%|██████▏   | 80839/130662 [33:04<14:01, 59.20it/s]"
     ]
    },
    {
     "name": "stdout",
     "output_type": "stream",
     "text": [
      "skipped semisupervised-manglish/output-wav/Dance-Moves-To-Pick-Up-Girls-At-The-Club-With-Adidas-Creator-Maybelline-Wong-(@definitelyMayb_)-vRnkHzyyBc4.mp3-part-202.wav\n"
     ]
    },
    {
     "name": "stderr",
     "output_type": "stream",
     "text": [
      " 62%|██████▏   | 80853/130662 [33:04<15:53, 52.25it/s]"
     ]
    },
    {
     "name": "stdout",
     "output_type": "stream",
     "text": [
      "skipped semisupervised-manglish/output-wav/Mamak-Sessions---How-I-Got-Quarantined-Because-Of-Covid-19-Feat.-Mark-O'Dea-5zAsyNKfzps.mp3-part-312.wav\n"
     ]
    },
    {
     "name": "stderr",
     "output_type": "stream",
     "text": [
      " 62%|██████▏   | 80889/130662 [33:05<13:47, 60.17it/s]"
     ]
    },
    {
     "name": "stdout",
     "output_type": "stream",
     "text": [
      "skipped semisupervised-manglish/output-wav/The-Fashion-Weak-Podcast-Ep-21---Suitmaker-To-The-Stars,-Shahrin-Bahar-aka-@sbahar.my-Pkv6d83oe8s.mp3-part-53.wav\n",
      "skipped semisupervised-manglish/output-wav/Mamak-Sessions-Ep6---Names-People-Always-Mispronounce-&-Facebook-Is-A-Spy-8LuihYdx0FQ.mp3-part-161.wav\n"
     ]
    },
    {
     "name": "stderr",
     "output_type": "stream",
     "text": [
      " 62%|██████▏   | 80956/130662 [33:06<15:51, 52.25it/s]"
     ]
    },
    {
     "name": "stdout",
     "output_type": "stream",
     "text": [
      "skipped semisupervised-manglish/output-wav/The-Fashion-Weak-Podcast-Ep-23---Alicia-Amin-On-Being-A-'Malay'-Model-In-2019-3pKA5NvTCOA.mp3-part-759.wav\n"
     ]
    },
    {
     "name": "stderr",
     "output_type": "stream",
     "text": [
      " 62%|██████▏   | 81048/130662 [33:08<15:06, 54.71it/s]"
     ]
    },
    {
     "name": "stdout",
     "output_type": "stream",
     "text": [
      "skipped semisupervised-manglish/output-wav/Mamak-Sessions---Coming-Out-ft.-Nigel-Chin-and-Magnum-79ax7ZQss5M.mp3-part-411.wav\n"
     ]
    },
    {
     "name": "stderr",
     "output_type": "stream",
     "text": [
      " 62%|██████▏   | 81069/130662 [33:08<13:51, 59.65it/s]"
     ]
    },
    {
     "name": "stdout",
     "output_type": "stream",
     "text": [
      "skipped semisupervised-manglish/output-wav/The-Fashion-Weak-Podcast-Ep-23---Alicia-Amin-On-Being-A-'Malay'-Model-In-2019-3pKA5NvTCOA.mp3-part-656.wav\n"
     ]
    },
    {
     "name": "stderr",
     "output_type": "stream",
     "text": [
      " 62%|██████▏   | 81117/130662 [33:09<14:11, 58.21it/s]"
     ]
    },
    {
     "name": "stdout",
     "output_type": "stream",
     "text": [
      "skipped semisupervised-manglish/output-wav/Mamak-Sessions-Ep1---Girls-Are-Happier-With-Less-Attractive-Men,-And-The-Dramatic-Pizza-Order-2M8U_mxGbcw.mp3-part-23.wav\n"
     ]
    },
    {
     "name": "stderr",
     "output_type": "stream",
     "text": [
      " 62%|██████▏   | 81372/130662 [33:14<14:58, 54.83it/s]"
     ]
    },
    {
     "name": "stdout",
     "output_type": "stream",
     "text": [
      "skipped semisupervised-manglish/output-wav/Mamak-Sessions-Ep9---Sibling-Rivalry-ft-Julian-Yee-670FyeJhnps.mp3-part-311.wav\n"
     ]
    },
    {
     "name": "stderr",
     "output_type": "stream",
     "text": [
      " 62%|██████▏   | 81407/130662 [33:15<18:38, 44.03it/s]"
     ]
    },
    {
     "name": "stdout",
     "output_type": "stream",
     "text": [
      "skipped semisupervised-manglish/output-wav/Mamak-Sessions---My-Asian-Parents-Were-Initially-Ashamed-Of-My-Career-NqCp8Csl7PE.mp3-part-110.wav\n"
     ]
    },
    {
     "name": "stderr",
     "output_type": "stream",
     "text": [
      " 62%|██████▏   | 81444/130662 [33:16<13:14, 61.95it/s]"
     ]
    },
    {
     "name": "stdout",
     "output_type": "stream",
     "text": [
      "skipped semisupervised-manglish/output-wav/Priorities-as-University-Graduates-and-The-MALAYSIA-Hustle-_-Singaporean-Podcast-#12-_-Zhi-Rong-TYL7mmbpsbo.mp3-part-222.wav\n"
     ]
    },
    {
     "name": "stderr",
     "output_type": "stream",
     "text": [
      " 62%|██████▏   | 81501/130662 [33:17<14:19, 57.23it/s]"
     ]
    },
    {
     "name": "stdout",
     "output_type": "stream",
     "text": [
      "skipped semisupervised-manglish/output-wav/Mamak-Sessions---Getting-Married-in-Vegas,-and-Sugar-Babies-ft.-Dennis-Yin-Cq6Yjwsu63U.mp3-part-262.wav\n"
     ]
    },
    {
     "name": "stderr",
     "output_type": "stream",
     "text": [
      " 62%|██████▏   | 81544/130662 [33:18<15:16, 53.59it/s]"
     ]
    },
    {
     "name": "stdout",
     "output_type": "stream",
     "text": [
      "skipped semisupervised-manglish/output-wav/The-Fashion-Weak-Podcast-EP-36---Why-guys-REALLY-go-for-spin-class-with-Oxygen-Cycle-RqG0tHR9D1g.mp3-part-96.wav\n",
      "skipped semisupervised-manglish/output-wav/Why-Blockchain-&-Crypo-Matters-_-Singaporean-Podcast-#15-_-Royal-Pek--2d7wzvNOCE.mp3-part-599.wav\n"
     ]
    },
    {
     "name": "stderr",
     "output_type": "stream",
     "text": [
      " 62%|██████▏   | 81601/130662 [33:19<15:59, 51.11it/s]"
     ]
    },
    {
     "name": "stdout",
     "output_type": "stream",
     "text": [
      "skipped semisupervised-manglish/output-wav/Mamak-Sessions---My-Asian-Parents-Were-Initially-Ashamed-Of-My-Career-NqCp8Csl7PE.mp3-part-205.wav\n"
     ]
    },
    {
     "name": "stderr",
     "output_type": "stream",
     "text": [
      " 62%|██████▏   | 81614/130662 [33:19<14:28, 56.45it/s]"
     ]
    },
    {
     "name": "stdout",
     "output_type": "stream",
     "text": [
      "skipped semisupervised-manglish/output-wav/Mamak-Sessions-Ep10---Datuk-Nicol-David-is-RETIRING!-n3AR3nQEc7Y.mp3-part-357.wav\n"
     ]
    },
    {
     "name": "stderr",
     "output_type": "stream",
     "text": [
      " 63%|██████▎   | 81674/130662 [33:20<12:53, 63.36it/s]"
     ]
    },
    {
     "name": "stdout",
     "output_type": "stream",
     "text": [
      "skipped semisupervised-manglish/output-wav/Mamak-Sessions-Ep6---Names-People-Always-Mispronounce-&-Facebook-Is-A-Spy-8LuihYdx0FQ.mp3-part-236.wav\n"
     ]
    },
    {
     "name": "stderr",
     "output_type": "stream",
     "text": [
      " 63%|██████▎   | 81758/130662 [33:22<15:42, 51.90it/s]"
     ]
    },
    {
     "name": "stdout",
     "output_type": "stream",
     "text": [
      "skipped semisupervised-manglish/output-wav/Mamak-Sessions-Ep6---Names-People-Always-Mispronounce-&-Facebook-Is-A-Spy-8LuihYdx0FQ.mp3-part-31.wav\n"
     ]
    },
    {
     "name": "stderr",
     "output_type": "stream",
     "text": [
      " 63%|██████▎   | 81818/130662 [33:23<13:38, 59.67it/s]"
     ]
    },
    {
     "name": "stdout",
     "output_type": "stream",
     "text": [
      "skipped semisupervised-manglish/output-wav/Musings-of-the-OG-Sneaker-Uncle-@bungactiongirl---The-Fashion-Weak-Podcast-Episode-3-EjzkQeWKwQw.mp3-part-80.wav\n",
      "skipped semisupervised-manglish/output-wav/Mamak-Sessions---Should-You-Be-Spending-Crazily-For-Valentine's-Day-QLz7USNFnng.mp3-part-284.wav\n"
     ]
    },
    {
     "name": "stderr",
     "output_type": "stream",
     "text": [
      " 63%|██████▎   | 81874/130662 [33:24<18:01, 45.10it/s]"
     ]
    },
    {
     "name": "stdout",
     "output_type": "stream",
     "text": [
      "skipped semisupervised-manglish/output-wav/Overcoming-Depression-&-Redefining-What-Failure-Means-to-Youths_-Singaporean-Podcast-#10-_-Kevin-Wee-rjjK4aAbKnw.mp3-part-406.wav\n"
     ]
    },
    {
     "name": "stderr",
     "output_type": "stream",
     "text": [
      " 63%|██████▎   | 81948/130662 [33:26<14:44, 55.05it/s]"
     ]
    },
    {
     "name": "stdout",
     "output_type": "stream",
     "text": [
      "skipped semisupervised-manglish/output-wav/Dance-Moves-To-Pick-Up-Girls-At-The-Club-With-Adidas-Creator-Maybelline-Wong-(@definitelyMayb_)-vRnkHzyyBc4.mp3-part-293.wav\n"
     ]
    },
    {
     "name": "stderr",
     "output_type": "stream",
     "text": [
      " 63%|██████▎   | 81977/130662 [33:26<12:38, 64.22it/s]"
     ]
    },
    {
     "name": "stdout",
     "output_type": "stream",
     "text": [
      "skipped semisupervised-manglish/output-wav/Mamak-Sessions---Can-Guys-And-Girls-Be-Best-Friends-Is-it-ok-to-see-more-than-one-person-at-a-time-IixUPM11VMY.mp3-part-191.wav\n"
     ]
    },
    {
     "name": "stderr",
     "output_type": "stream",
     "text": [
      " 63%|██████▎   | 82003/130662 [33:27<16:47, 48.29it/s]"
     ]
    },
    {
     "name": "stdout",
     "output_type": "stream",
     "text": [
      "skipped semisupervised-manglish/output-wav/Nicole-Choo-on-What-Went-Wrong-with-Ridhwan---Team-Titan-Show-#4-gW9sv26g4Io.mp3-part-83.wav\n"
     ]
    },
    {
     "name": "stderr",
     "output_type": "stream",
     "text": [
      " 63%|██████▎   | 82081/130662 [33:28<12:59, 62.30it/s]"
     ]
    },
    {
     "name": "stdout",
     "output_type": "stream",
     "text": [
      "skipped semisupervised-manglish/output-wav/The-Fashion-Weak-Podcast-EP-27----Peter-Davis-talks-cars,-mixed-rice-and-some-fashion.-rxmMRAzLRJ0.mp3-part-399.wav\n"
     ]
    },
    {
     "name": "stderr",
     "output_type": "stream",
     "text": [
      " 63%|██████▎   | 82134/130662 [33:29<13:41, 59.04it/s]"
     ]
    },
    {
     "name": "stdout",
     "output_type": "stream",
     "text": [
      "skipped semisupervised-manglish/output-wav/Mamak-Sessions---Blaming-Yourself-For-Your-Parents'-Divorce,-And-How-Our-Parents-Punish-Us-x8Gl_zIC9CQ.mp3-part-389.wav\n"
     ]
    },
    {
     "name": "stderr",
     "output_type": "stream",
     "text": [
      " 63%|██████▎   | 82210/130662 [33:31<15:13, 53.07it/s]"
     ]
    },
    {
     "name": "stdout",
     "output_type": "stream",
     "text": [
      "skipped semisupervised-manglish/output-wav/Mamak-Sessions-Podcast---Committing-Suicide,-Mental-Health-And-How-To-Seek-Help-EHlGktcfDZc.mp3-part-77.wav\n",
      "skipped semisupervised-manglish/output-wav/The-Fashion-Weak-Podcast-Ep-43A---Keeping-Fair-On-The-Fairway-With-Natalia-Ng-CSP1XPZu4YY.mp3-part-451.wav\n"
     ]
    },
    {
     "name": "stderr",
     "output_type": "stream",
     "text": [
      " 63%|██████▎   | 82241/130662 [33:31<12:09, 66.34it/s]"
     ]
    },
    {
     "name": "stdout",
     "output_type": "stream",
     "text": [
      "skipped semisupervised-manglish/output-wav/Mamak-Sessions-Podcast---How-Dean-Lewis-became-who-he-is-today-HkOQy1Nxpis.mp3-part-430.wav\n"
     ]
    },
    {
     "name": "stderr",
     "output_type": "stream",
     "text": [
      " 63%|██████▎   | 82265/130662 [33:32<15:06, 53.37it/s]"
     ]
    },
    {
     "name": "stdout",
     "output_type": "stream",
     "text": [
      "skipped semisupervised-manglish/output-wav/The-Fashion-Weak-Podcast-Ep-38---TikTok-Royalty-Roshan-Jeet-aka-Roshannnn1-lPnRg9UsP0M.mp3-part-815.wav\n",
      "skipped semisupervised-manglish/output-wav/The-Fashion-Weak-Podcast-EP-36---Why-guys-REALLY-go-for-spin-class-with-Oxygen-Cycle-RqG0tHR9D1g.mp3-part-244.wav\n"
     ]
    },
    {
     "name": "stderr",
     "output_type": "stream",
     "text": [
      " 63%|██████▎   | 82330/130662 [33:33<13:57, 57.74it/s]"
     ]
    },
    {
     "name": "stdout",
     "output_type": "stream",
     "text": [
      "skipped semisupervised-manglish/output-wav/The-Fashion-Weak-Podcast-EP-36---Why-guys-REALLY-go-for-spin-class-with-Oxygen-Cycle-RqG0tHR9D1g.mp3-part-358.wav\n"
     ]
    },
    {
     "name": "stderr",
     "output_type": "stream",
     "text": [
      " 63%|██████▎   | 82352/130662 [33:33<12:14, 65.74it/s]"
     ]
    },
    {
     "name": "stdout",
     "output_type": "stream",
     "text": [
      "skipped semisupervised-manglish/output-wav/Desperate-times!-CB-Extended-Till-June!-Our-CB-Cannot-Tahan-_-The-Thirsty-Sisters-#2-OZMsLGKDv14.mp3-part-300.wav\n"
     ]
    },
    {
     "name": "stderr",
     "output_type": "stream",
     "text": [
      " 63%|██████▎   | 82438/130662 [33:35<12:36, 63.75it/s]"
     ]
    },
    {
     "name": "stdout",
     "output_type": "stream",
     "text": [
      "skipped semisupervised-manglish/output-wav/The-Fashion-Weak-Podcast-Ep-23---Alicia-Amin-On-Being-A-'Malay'-Model-In-2019-3pKA5NvTCOA.mp3-part-116.wav\n"
     ]
    },
    {
     "name": "stderr",
     "output_type": "stream",
     "text": [
      " 63%|██████▎   | 82453/130662 [33:35<11:58, 67.06it/s]"
     ]
    },
    {
     "name": "stdout",
     "output_type": "stream",
     "text": [
      "skipped semisupervised-manglish/output-wav/Mamak-Sessions-Ep6---Names-People-Always-Mispronounce-&-Facebook-Is-A-Spy-8LuihYdx0FQ.mp3-part-0.wav\n"
     ]
    },
    {
     "name": "stderr",
     "output_type": "stream",
     "text": [
      " 63%|██████▎   | 82481/130662 [33:36<14:54, 53.88it/s]"
     ]
    },
    {
     "name": "stdout",
     "output_type": "stream",
     "text": [
      "skipped semisupervised-manglish/output-wav/Overcoming-Depression-&-Redefining-What-Failure-Means-to-Youths_-Singaporean-Podcast-#10-_-Kevin-Wee-rjjK4aAbKnw.mp3-part-712.wav\n"
     ]
    },
    {
     "name": "stderr",
     "output_type": "stream",
     "text": [
      " 63%|██████▎   | 82518/130662 [33:36<12:38, 63.48it/s]"
     ]
    },
    {
     "name": "stdout",
     "output_type": "stream",
     "text": [
      "skipped semisupervised-manglish/output-wav/How-To-Be-A-Damn-Good-Software-Developer-+-Israel-Startup-Culture-_-Singaporean-Podcast-#11-_-Mark-cs2LkcSpNpw.mp3-part-391.wav\n"
     ]
    },
    {
     "name": "stderr",
     "output_type": "stream",
     "text": [
      " 63%|██████▎   | 82633/130662 [33:39<12:46, 62.69it/s]"
     ]
    },
    {
     "name": "stdout",
     "output_type": "stream",
     "text": [
      "skipped semisupervised-manglish/output-wav/The-Fashion-Weak-Podcast-Ep-40---tdcjTfzYSbk.mp3-part-809.wav\n"
     ]
    },
    {
     "name": "stderr",
     "output_type": "stream",
     "text": [
      " 63%|██████▎   | 82674/130662 [33:39<14:02, 56.96it/s]"
     ]
    },
    {
     "name": "stdout",
     "output_type": "stream",
     "text": [
      "skipped semisupervised-manglish/output-wav/The-Fashion-Weak-Podcast-Ep-32---Getting-Surprised-Reading-Melissa-Campbell's-(@heymelbelle)-IG-DMs-mJuKUwFpDgI.mp3-part-675.wav\n"
     ]
    },
    {
     "name": "stderr",
     "output_type": "stream",
     "text": [
      " 63%|██████▎   | 82731/130662 [33:41<15:24, 51.87it/s]"
     ]
    },
    {
     "name": "stdout",
     "output_type": "stream",
     "text": [
      "skipped semisupervised-manglish/output-wav/The-Fashion-Weak-Podcast-Ep-43A---Keeping-Fair-On-The-Fairway-With-Natalia-Ng-CSP1XPZu4YY.mp3-part-578.wav\n"
     ]
    },
    {
     "name": "stderr",
     "output_type": "stream",
     "text": [
      " 63%|██████▎   | 82804/130662 [33:42<16:36, 48.04it/s]"
     ]
    },
    {
     "name": "stdout",
     "output_type": "stream",
     "text": [
      "skipped semisupervised-manglish/output-wav/Mamak-Sessions---How-I-Got-Quarantined-Because-Of-Covid-19-Feat.-Mark-O'Dea-5zAsyNKfzps.mp3-part-215.wav\n"
     ]
    },
    {
     "name": "stderr",
     "output_type": "stream",
     "text": [
      " 63%|██████▎   | 82847/130662 [33:43<13:09, 60.55it/s]"
     ]
    },
    {
     "name": "stdout",
     "output_type": "stream",
     "text": [
      "skipped semisupervised-manglish/output-wav/How-To-Get-Away-With-A-Sex-Crime!-_-The-Thirsty-Sisters-#15-mIc0MmSoaiI.mp3-part-45.wav\n"
     ]
    },
    {
     "name": "stderr",
     "output_type": "stream",
     "text": [
      " 63%|██████▎   | 82904/130662 [33:44<13:05, 60.83it/s]"
     ]
    },
    {
     "name": "stdout",
     "output_type": "stream",
     "text": [
      "skipped semisupervised-manglish/output-wav/Mamak-Sessions-Ep13---Game-Of-Thrones-Is-OVER!-Malaysian-Accent-is-sexy!--mAdHcMGmEs.mp3-part-79.wav\n"
     ]
    },
    {
     "name": "stderr",
     "output_type": "stream",
     "text": [
      " 64%|██████▎   | 83061/130662 [33:47<12:04, 65.69it/s]"
     ]
    },
    {
     "name": "stdout",
     "output_type": "stream",
     "text": [
      "skipped semisupervised-manglish/output-wav/The-Fashion-Weak-Podcast-Ep-38---TikTok-Royalty-Roshan-Jeet-aka-Roshannnn1-lPnRg9UsP0M.mp3-part-657.wav\n"
     ]
    },
    {
     "name": "stderr",
     "output_type": "stream",
     "text": [
      " 64%|██████▎   | 83083/130662 [33:47<11:59, 66.14it/s]"
     ]
    },
    {
     "name": "stdout",
     "output_type": "stream",
     "text": [
      "skipped semisupervised-manglish/output-wav/The-Fashion-Weak-Podcast-Ep-33---Lingerie-&-Bikini-Talk-With-Talitha-Tan-(@talithabe)-_7Un0q6a9zg.mp3-part-110.wav\n"
     ]
    },
    {
     "name": "stderr",
     "output_type": "stream",
     "text": [
      " 64%|██████▎   | 83105/130662 [33:47<16:01, 49.45it/s]"
     ]
    },
    {
     "name": "stdout",
     "output_type": "stream",
     "text": [
      "skipped semisupervised-manglish/output-wav/I-Dated-A-Guy-Twice-My-Age-Our-First-Date-Don'ts-_-The-Thirsty-Sisters-#19-3-DoQSmz5aI.mp3-part-221.wav\n"
     ]
    },
    {
     "name": "stderr",
     "output_type": "stream",
     "text": [
      " 64%|██████▎   | 83126/130662 [33:48<13:59, 56.62it/s]"
     ]
    },
    {
     "name": "stdout",
     "output_type": "stream",
     "text": [
      "skipped semisupervised-manglish/output-wav/Mamak-Sessions-Ep6---Names-People-Always-Mispronounce-&-Facebook-Is-A-Spy-8LuihYdx0FQ.mp3-part-6.wav\n",
      "skipped semisupervised-manglish/output-wav/Mamak-Sessions---How-Dating-Has-Changed-&-Tenet-ft-Elizabeth-Debicki-and-John-David-Washington-te2Be5GNNys.mp3-part-333.wav\n"
     ]
    },
    {
     "name": "stderr",
     "output_type": "stream",
     "text": [
      " 64%|██████▎   | 83171/130662 [33:48<12:12, 64.80it/s]"
     ]
    },
    {
     "name": "stdout",
     "output_type": "stream",
     "text": [
      "skipped semisupervised-manglish/output-wav/Blessing-The-Pod,-Calling-Mofo's-OUT!-with-@soimjenn---The-Fashion-Weak-Podcast-Episode-7-xsjayMqoC0Y.mp3-part-243.wav\n"
     ]
    },
    {
     "name": "stderr",
     "output_type": "stream",
     "text": [
      " 64%|██████▎   | 83225/130662 [33:50<13:32, 58.37it/s]"
     ]
    },
    {
     "name": "stdout",
     "output_type": "stream",
     "text": [
      "skipped semisupervised-manglish/output-wav/The-Fashion-Weak-Podcast-Ep-28-@dreamrocketeers-on-that-Rolex-you-should-cop-to-flex-on-poor-friends-shV1F1JlDzk.mp3-part-847.wav\n",
      "skipped semisupervised-manglish/output-wav/Ghost-Stories-From-Our-Childhood!-_-The-Thirsty-Sisters-#23-Hioy9UvH4yE.mp3-part-301.wav\n"
     ]
    },
    {
     "name": "stderr",
     "output_type": "stream",
     "text": [
      " 64%|██████▎   | 83284/130662 [33:51<15:11, 51.95it/s]"
     ]
    },
    {
     "name": "stdout",
     "output_type": "stream",
     "text": [
      "skipped semisupervised-manglish/output-wav/Click-Bait-And-24k-Shoe-Shopping-With-Harvinth-Skin---The-Fashion-Weak-Podcast-Episode-08-adq-khQo2eQ.mp3-part-120.wav\n"
     ]
    },
    {
     "name": "stderr",
     "output_type": "stream",
     "text": [
      " 64%|██████▍   | 83314/130662 [33:51<12:47, 61.72it/s]"
     ]
    },
    {
     "name": "stdout",
     "output_type": "stream",
     "text": [
      "skipped semisupervised-manglish/output-wav/How-To-Be-A-Damn-Good-Software-Developer-+-Israel-Startup-Culture-_-Singaporean-Podcast-#11-_-Mark-cs2LkcSpNpw.mp3-part-233.wav\n"
     ]
    },
    {
     "name": "stderr",
     "output_type": "stream",
     "text": [
      " 64%|██████▍   | 83357/130662 [33:52<12:39, 62.26it/s]"
     ]
    },
    {
     "name": "stdout",
     "output_type": "stream",
     "text": [
      "skipped semisupervised-manglish/output-wav/Mamak-Sessions---Nasi-Lemak-Sneakers-zLEmAKdG9vY.mp3-part-245.wav\n"
     ]
    },
    {
     "name": "stderr",
     "output_type": "stream",
     "text": [
      " 64%|██████▍   | 83466/130662 [33:54<12:50, 61.23it/s]"
     ]
    },
    {
     "name": "stdout",
     "output_type": "stream",
     "text": [
      "skipped semisupervised-manglish/output-wav/The-Fashion-Weak-Podcast-Ep-38---TikTok-Royalty-Roshan-Jeet-aka-Roshannnn1-lPnRg9UsP0M.mp3-part-123.wav\n"
     ]
    },
    {
     "name": "stderr",
     "output_type": "stream",
     "text": [
      " 64%|██████▍   | 83494/130662 [33:54<12:21, 63.63it/s]"
     ]
    },
    {
     "name": "stdout",
     "output_type": "stream",
     "text": [
      "skipped semisupervised-manglish/output-wav/The-Fashion-Weak-Podcast-Ep35---Is-New-Balance-Cool-Now-Talking-everything-NOT-Nike-with-@adlysyairi-3b0bYe36KNE.mp3-part-716.wav\n"
     ]
    },
    {
     "name": "stderr",
     "output_type": "stream",
     "text": [
      " 64%|██████▍   | 83607/130662 [33:57<16:51, 46.51it/s]"
     ]
    },
    {
     "name": "stdout",
     "output_type": "stream",
     "text": [
      "skipped semisupervised-manglish/output-wav/Mamak-Sessions---Blaming-Yourself-For-Your-Parents'-Divorce,-And-How-Our-Parents-Punish-Us-x8Gl_zIC9CQ.mp3-part-392.wav\n"
     ]
    },
    {
     "name": "stderr",
     "output_type": "stream",
     "text": [
      " 64%|██████▍   | 83691/130662 [33:58<16:19, 47.97it/s]"
     ]
    },
    {
     "name": "stdout",
     "output_type": "stream",
     "text": [
      "skipped semisupervised-manglish/output-wav/Mamak-Sessions---Investigative-Journalism-Brings-Justice-to-Sexual-Crimes-&-Interviewing-Jon-Favreau-RlejfOWnKgQ.mp3-part-488.wav\n"
     ]
    },
    {
     "name": "stderr",
     "output_type": "stream",
     "text": [
      " 64%|██████▍   | 83725/130662 [33:59<12:38, 61.85it/s]"
     ]
    },
    {
     "name": "stdout",
     "output_type": "stream",
     "text": [
      "skipped semisupervised-manglish/output-wav/The-Fashion-Weak-Podcast-Ep-45---Finessing-A-New-Phone-Every-Year-With-Mamak-Rap-King-Jiven-Sekar-VlovwtVYuw0.mp3-part-168.wav\n",
      "skipped semisupervised-manglish/output-wav/Being-Bullied,-Toxic-Masculinity-And-Theatre-_-HTHT---Fauzi-Aziz-6syqXC_o6gs.mp3-part-638.wav\n"
     ]
    },
    {
     "name": "stderr",
     "output_type": "stream",
     "text": [
      " 64%|██████▍   | 83799/130662 [34:00<13:07, 59.48it/s]"
     ]
    },
    {
     "name": "stdout",
     "output_type": "stream",
     "text": [
      "skipped semisupervised-manglish/output-wav/The-Fashion-Weak-Podcast-EP-27----Peter-Davis-talks-cars,-mixed-rice-and-some-fashion.-rxmMRAzLRJ0.mp3-part-348.wav\n"
     ]
    },
    {
     "name": "stderr",
     "output_type": "stream",
     "text": [
      " 64%|██████▍   | 83845/130662 [34:01<11:18, 69.02it/s]"
     ]
    },
    {
     "name": "stdout",
     "output_type": "stream",
     "text": [
      "skipped semisupervised-manglish/output-wav/Ben-Kheng-Reflects-On-The-Sam-Willows,-Anxiety,-And-Religion-_-HTHT---Ben-Kheng-X4QapKCCneQ.mp3-part-574.wav\n",
      "skipped semisupervised-manglish/output-wav/The-Fashion-Weak-Podcast-Ep-20---Couple-Goals-With-Maggy-Wang-&-Jobroseph-TzfCaQ8vUMc.mp3-part-341.wav\n"
     ]
    },
    {
     "name": "stderr",
     "output_type": "stream",
     "text": [
      "\r",
      " 64%|██████▍   | 83852/130662 [34:01<11:31, 67.73it/s]"
     ]
    },
    {
     "name": "stdout",
     "output_type": "stream",
     "text": [
      "skipped semisupervised-manglish/output-wav/Mamak-Sessions---Getting-Married-in-Vegas,-and-Sugar-Babies-ft.-Dennis-Yin-Cq6Yjwsu63U.mp3-part-32.wav\n"
     ]
    },
    {
     "name": "stderr",
     "output_type": "stream",
     "text": [
      " 64%|██████▍   | 83894/130662 [34:02<12:55, 60.28it/s]"
     ]
    },
    {
     "name": "stdout",
     "output_type": "stream",
     "text": [
      "skipped semisupervised-manglish/output-wav/Most-Accurate-Personality-Test!-_-The-Thirsty-Sisters-#17-XLV720mng6w.mp3-part-54.wav\n"
     ]
    },
    {
     "name": "stderr",
     "output_type": "stream",
     "text": [
      " 64%|██████▍   | 83939/130662 [34:02<11:54, 65.44it/s]"
     ]
    },
    {
     "name": "stdout",
     "output_type": "stream",
     "text": [
      "skipped semisupervised-manglish/output-wav/Burning-Hot-Fever!-4-Doctors-Tried-To-Save-Me-In-The-Hospital!-_-The-Thirsty-Sisters-#6-Jw7B8efygWI.mp3-part-142.wav\n",
      "skipped semisupervised-manglish/output-wav/Ryan-Tan-on-Starting-YouTube,-Struggles-and-Failures---Team-Titan-Show-#5-pFBohAGNYWU.mp3-part-8.wav\n"
     ]
    },
    {
     "name": "stderr",
     "output_type": "stream",
     "text": [
      " 64%|██████▍   | 84024/130662 [34:04<11:26, 67.90it/s]"
     ]
    },
    {
     "name": "stdout",
     "output_type": "stream",
     "text": [
      "skipped semisupervised-manglish/output-wav/Mamak-Sessions-Ep6---Names-People-Always-Mispronounce-&-Facebook-Is-A-Spy-8LuihYdx0FQ.mp3-part-187.wav\n"
     ]
    },
    {
     "name": "stderr",
     "output_type": "stream",
     "text": [
      "\r",
      " 64%|██████▍   | 84032/130662 [34:04<11:19, 68.58it/s]"
     ]
    },
    {
     "name": "stdout",
     "output_type": "stream",
     "text": [
      "skipped semisupervised-manglish/output-wav/Relatives-Ruin-My-Wedding!-_-The-Thirsty-Sisters-#22-98CiTQQtqak.mp3-part-305.wav\n"
     ]
    },
    {
     "name": "stderr",
     "output_type": "stream",
     "text": [
      " 64%|██████▍   | 84111/130662 [34:05<12:33, 61.82it/s]"
     ]
    },
    {
     "name": "stdout",
     "output_type": "stream",
     "text": [
      "skipped semisupervised-manglish/output-wav/@Juanitadr-shows-us-what-Arnold's-Tongue-Can-Do---The-Fashion-Weak-Podcast-Episode-10-N5EfPvQKW90.mp3-part-36.wav\n"
     ]
    },
    {
     "name": "stderr",
     "output_type": "stream",
     "text": [
      " 64%|██████▍   | 84140/130662 [34:06<11:45, 65.90it/s]"
     ]
    },
    {
     "name": "stdout",
     "output_type": "stream",
     "text": [
      "skipped semisupervised-manglish/output-wav/Bend-Over!-Or-Pay-Sit-Forward!-We-Create-Our-Own-Movements!-_-The-Thirsty-Sisters-#3-ekKcn3QCU5E.mp3-part-8.wav\n"
     ]
    },
    {
     "name": "stderr",
     "output_type": "stream",
     "text": [
      " 64%|██████▍   | 84154/130662 [34:06<16:47, 46.16it/s]"
     ]
    },
    {
     "name": "stdout",
     "output_type": "stream",
     "text": [
      "skipped semisupervised-manglish/output-wav/Mamak-Sessions---Our-Differences-Is-What-Unites-Us-ft.-Elvin-Romeo-0jySfrZhs50.mp3-part-278.wav\n",
      "skipped semisupervised-manglish/output-wav/Mamak-Sessions-Ep6---Names-People-Always-Mispronounce-&-Facebook-Is-A-Spy-8LuihYdx0FQ.mp3-part-395.wav\n"
     ]
    },
    {
     "name": "stderr",
     "output_type": "stream",
     "text": [
      " 64%|██████▍   | 84173/130662 [34:07<14:14, 54.39it/s]"
     ]
    },
    {
     "name": "stdout",
     "output_type": "stream",
     "text": [
      "skipped semisupervised-manglish/output-wav/Mamak-Sessions---Are-Social-Media-Influencers-Entitled-ZJ8jw3C9vB8.mp3-part-2.wav\n"
     ]
    },
    {
     "name": "stderr",
     "output_type": "stream",
     "text": [
      " 64%|██████▍   | 84228/130662 [34:08<12:08, 63.72it/s]"
     ]
    },
    {
     "name": "stdout",
     "output_type": "stream",
     "text": [
      "skipped semisupervised-manglish/output-wav/Amander-Reveals-Why-She-Left-Titan---The-Team-Titan-Show-7byI9tIJeRk.mp3-part-583.wav\n"
     ]
    },
    {
     "name": "stderr",
     "output_type": "stream",
     "text": [
      " 65%|██████▍   | 84437/130662 [34:12<13:01, 59.18it/s]"
     ]
    },
    {
     "name": "stdout",
     "output_type": "stream",
     "text": [
      "skipped semisupervised-manglish/output-wav/Mamak-Sessions---Should-You-Be-Spending-Crazily-For-Valentine's-Day-QLz7USNFnng.mp3-part-356.wav\n",
      "skipped semisupervised-manglish/output-wav/Are-We-Still-Sexualising-Women-in-2020-_-Thirsty-Sisters-#13-zHC1MPeSP34.mp3-part-342.wav\n"
     ]
    },
    {
     "name": "stderr",
     "output_type": "stream",
     "text": [
      " 65%|██████▍   | 84497/130662 [34:13<14:05, 54.62it/s]"
     ]
    },
    {
     "name": "stdout",
     "output_type": "stream",
     "text": [
      "skipped semisupervised-manglish/output-wav/Should-Influencers-Be-Expected-To-Do-More-For-Society-(ft.-Celeste-Loh)-_-IMO-Ep.4-7izYax1bCwg.mp3-part-109.wav\n"
     ]
    },
    {
     "name": "stderr",
     "output_type": "stream",
     "text": [
      " 65%|██████▍   | 84511/130662 [34:14<14:06, 54.53it/s]"
     ]
    },
    {
     "name": "stdout",
     "output_type": "stream",
     "text": [
      "skipped semisupervised-manglish/output-wav/Mamak-Sessions---'Chinese-Whispers'-CXnW4hJDp54.mp3-part-216.wav\n"
     ]
    },
    {
     "name": "stderr",
     "output_type": "stream",
     "text": [
      " 65%|██████▍   | 84556/130662 [34:14<11:36, 66.23it/s]"
     ]
    },
    {
     "name": "stdout",
     "output_type": "stream",
     "text": [
      "skipped semisupervised-manglish/output-wav/Mamak-Sessions-Ep8---Man-Sues-Colleague-for-$1.8-Million-for-Farting-OWbPqC2i71c.mp3-part-16.wav\n",
      "skipped semisupervised-manglish/output-wav/Mamak-Sessions-Ep9---Sibling-Rivalry-ft-Julian-Yee-670FyeJhnps.mp3-part-121.wav\n"
     ]
    },
    {
     "name": "stderr",
     "output_type": "stream",
     "text": [
      " 65%|██████▍   | 84599/130662 [34:15<12:40, 60.54it/s]"
     ]
    },
    {
     "name": "stdout",
     "output_type": "stream",
     "text": [
      "skipped semisupervised-manglish/output-wav/Dance-Moves-To-Pick-Up-Girls-At-The-Club-With-Adidas-Creator-Maybelline-Wong-(@definitelyMayb_)-vRnkHzyyBc4.mp3-part-600.wav\n",
      "skipped semisupervised-manglish/output-wav/Mamak-Sessions---How-Do-You-Deal-With-Rumors-ft-Elizabeth-Tan-Rkvd5p3I11M.mp3-part-450.wav\n"
     ]
    },
    {
     "name": "stderr",
     "output_type": "stream",
     "text": [
      " 65%|██████▍   | 84628/130662 [34:16<11:59, 64.01it/s]"
     ]
    },
    {
     "name": "stdout",
     "output_type": "stream",
     "text": [
      "skipped semisupervised-manglish/output-wav/Mamak-Sessions-Ep6---Names-People-Always-Mispronounce-&-Facebook-Is-A-Spy-8LuihYdx0FQ.mp3-part-58.wav\n"
     ]
    },
    {
     "name": "stderr",
     "output_type": "stream",
     "text": [
      " 65%|██████▍   | 84649/130662 [34:16<11:31, 66.53it/s]"
     ]
    },
    {
     "name": "stdout",
     "output_type": "stream",
     "text": [
      "skipped semisupervised-manglish/output-wav/Mamak-Sessions---Getting-Married-in-Vegas,-and-Sugar-Babies-ft.-Dennis-Yin-Cq6Yjwsu63U.mp3-part-79.wav\n"
     ]
    },
    {
     "name": "stderr",
     "output_type": "stream",
     "text": [
      " 65%|██████▍   | 84679/130662 [34:17<26:05, 29.38it/s]"
     ]
    },
    {
     "name": "stdout",
     "output_type": "stream",
     "text": [
      "skipped semisupervised-manglish/output-wav/The-Fashion-Weak-Podcast-Ep-28-@dreamrocketeers-on-that-Rolex-you-should-cop-to-flex-on-poor-friends-shV1F1JlDzk.mp3-part-50.wav\n"
     ]
    },
    {
     "name": "stderr",
     "output_type": "stream",
     "text": [
      " 65%|██████▍   | 84694/130662 [34:18<18:37, 41.14it/s]"
     ]
    },
    {
     "name": "stdout",
     "output_type": "stream",
     "text": [
      "skipped semisupervised-manglish/output-wav/Mamak-Sessions-Ep6---Names-People-Always-Mispronounce-&-Facebook-Is-A-Spy-8LuihYdx0FQ.mp3-part-98.wav\n"
     ]
    },
    {
     "name": "stderr",
     "output_type": "stream",
     "text": [
      " 65%|██████▍   | 84730/130662 [34:18<15:18, 50.03it/s]"
     ]
    },
    {
     "name": "stdout",
     "output_type": "stream",
     "text": [
      "skipped semisupervised-manglish/output-wav/The-Fashion-Weak-Podcast-Ep-40---tdcjTfzYSbk.mp3-part-358.wav\n",
      "skipped semisupervised-manglish/output-wav/Relatives-Ruin-My-Wedding!-_-The-Thirsty-Sisters-#22-98CiTQQtqak.mp3-part-144.wav\n"
     ]
    },
    {
     "name": "stderr",
     "output_type": "stream",
     "text": [
      " 65%|██████▍   | 84745/130662 [34:19<12:51, 59.50it/s]"
     ]
    },
    {
     "name": "stdout",
     "output_type": "stream",
     "text": [
      "skipped semisupervised-manglish/output-wav/Dance-Moves-To-Pick-Up-Girls-At-The-Club-With-Adidas-Creator-Maybelline-Wong-(@definitelyMayb_)-vRnkHzyyBc4.mp3-part-275.wav\n"
     ]
    },
    {
     "name": "stderr",
     "output_type": "stream",
     "text": [
      " 65%|██████▍   | 84761/130662 [34:19<16:14, 47.12it/s]"
     ]
    },
    {
     "name": "stdout",
     "output_type": "stream",
     "text": [
      "skipped semisupervised-manglish/output-wav/The-Fashion-Weak-Podcast-Ep-40---tdcjTfzYSbk.mp3-part-481.wav\n",
      "skipped semisupervised-manglish/output-wav/The-Fashion-Weak-Podcast-EP-27----Peter-Davis-talks-cars,-mixed-rice-and-some-fashion.-rxmMRAzLRJ0.mp3-part-649.wav\n"
     ]
    },
    {
     "name": "stderr",
     "output_type": "stream",
     "text": [
      " 65%|██████▌   | 84975/130662 [34:23<13:47, 55.18it/s]"
     ]
    },
    {
     "name": "stdout",
     "output_type": "stream",
     "text": [
      "skipped semisupervised-manglish/output-wav/Mamak-Sessions---How-Do-You-Deal-With-Rumors-ft-Elizabeth-Tan-Rkvd5p3I11M.mp3-part-46.wav\n"
     ]
    },
    {
     "name": "stderr",
     "output_type": "stream",
     "text": [
      " 65%|██████▌   | 85031/130662 [34:24<12:07, 62.72it/s]"
     ]
    },
    {
     "name": "stdout",
     "output_type": "stream",
     "text": [
      "skipped semisupervised-manglish/output-wav/The-Fashion-Weak-Podcast-Ep-43---Thirst-Trapping-Simps-&-Loving-Your-Body-From-The-Outside-In-6R87P6YD2c4.mp3-part-607.wav\n",
      "skipped semisupervised-manglish/output-wav/Mamak-Sessions-Ep6---Names-People-Always-Mispronounce-&-Facebook-Is-A-Spy-8LuihYdx0FQ.mp3-part-353.wav\n"
     ]
    },
    {
     "name": "stderr",
     "output_type": "stream",
     "text": [
      " 65%|██████▌   | 85074/130662 [34:25<12:01, 63.18it/s]"
     ]
    },
    {
     "name": "stdout",
     "output_type": "stream",
     "text": [
      "skipped semisupervised-manglish/output-wav/Overcoming-Depression-&-Redefining-What-Failure-Means-to-Youths_-Singaporean-Podcast-#10-_-Kevin-Wee-rjjK4aAbKnw.mp3-part-350.wav\n"
     ]
    },
    {
     "name": "stderr",
     "output_type": "stream",
     "text": [
      " 65%|██████▌   | 85146/130662 [34:26<12:52, 58.95it/s]"
     ]
    },
    {
     "name": "stdout",
     "output_type": "stream",
     "text": [
      "skipped semisupervised-manglish/output-wav/Mamak-Sessions---Our-Differences-Is-What-Unites-Us-ft.-Elvin-Romeo-0jySfrZhs50.mp3-part-4.wav\n"
     ]
    },
    {
     "name": "stderr",
     "output_type": "stream",
     "text": [
      " 65%|██████▌   | 85174/130662 [34:27<14:03, 53.91it/s]"
     ]
    },
    {
     "name": "stdout",
     "output_type": "stream",
     "text": [
      "skipped semisupervised-manglish/output-wav/The-Fashion-Weak-Podcast-EP16---Podcast-Wars-With-The-From-The-Thread-Boys-7dPzh9PpLs8.mp3-part-211.wav\n"
     ]
    },
    {
     "name": "stderr",
     "output_type": "stream",
     "text": [
      " 65%|██████▌   | 85188/130662 [34:27<13:25, 56.48it/s]"
     ]
    },
    {
     "name": "stdout",
     "output_type": "stream",
     "text": [
      "skipped semisupervised-manglish/output-wav/Mamak-Sessions-Ep8---Man-Sues-Colleague-for-$1.8-Million-for-Farting-OWbPqC2i71c.mp3-part-180.wav\n"
     ]
    },
    {
     "name": "stderr",
     "output_type": "stream",
     "text": [
      " 65%|██████▌   | 85219/130662 [34:27<11:02, 68.62it/s]"
     ]
    },
    {
     "name": "stdout",
     "output_type": "stream",
     "text": [
      "skipped semisupervised-manglish/output-wav/The-Fashion-Weak-Podcast-Ep-40---tdcjTfzYSbk.mp3-part-603.wav\n"
     ]
    },
    {
     "name": "stderr",
     "output_type": "stream",
     "text": [
      " 65%|██████▌   | 85269/130662 [34:28<12:20, 61.28it/s]"
     ]
    },
    {
     "name": "stdout",
     "output_type": "stream",
     "text": [
      "skipped semisupervised-manglish/output-wav/Priorities-as-University-Graduates-and-The-MALAYSIA-Hustle-_-Singaporean-Podcast-#12-_-Zhi-Rong-TYL7mmbpsbo.mp3-part-450.wav\n"
     ]
    },
    {
     "name": "stderr",
     "output_type": "stream",
     "text": [
      " 65%|██████▌   | 85283/130662 [34:29<18:44, 40.34it/s]"
     ]
    },
    {
     "name": "stdout",
     "output_type": "stream",
     "text": [
      "skipped semisupervised-manglish/output-wav/Mamak-Sessions---Can-Guys-And-Girls-Be-Best-Friends-Is-it-ok-to-see-more-than-one-person-at-a-time-IixUPM11VMY.mp3-part-162.wav\n",
      "skipped semisupervised-manglish/output-wav/Being-A-Single-Divorced-Woman-At-32-_-The-Thirsty-Sisters-#11-8DMyfcjyrZQ.mp3-part-347.wav\n"
     ]
    },
    {
     "name": "stderr",
     "output_type": "stream",
     "text": [
      " 65%|██████▌   | 85306/130662 [34:29<13:42, 55.11it/s]"
     ]
    },
    {
     "name": "stdout",
     "output_type": "stream",
     "text": [
      "skipped semisupervised-manglish/output-wav/Should-Influencers-Be-Expected-To-Do-More-For-Society-(ft.-Celeste-Loh)-_-IMO-Ep.4-7izYax1bCwg.mp3-part-115.wav\n"
     ]
    },
    {
     "name": "stderr",
     "output_type": "stream",
     "text": [
      " 65%|██████▌   | 85371/130662 [34:30<11:50, 63.73it/s]"
     ]
    },
    {
     "name": "stdout",
     "output_type": "stream",
     "text": [
      "skipped semisupervised-manglish/output-wav/Being-A-Single-Divorced-Woman-At-32-_-The-Thirsty-Sisters-#11-8DMyfcjyrZQ.mp3-part-424.wav\n"
     ]
    },
    {
     "name": "stderr",
     "output_type": "stream",
     "text": [
      " 65%|██████▌   | 85394/130662 [34:31<13:21, 56.45it/s]"
     ]
    },
    {
     "name": "stdout",
     "output_type": "stream",
     "text": [
      "skipped semisupervised-manglish/output-wav/Burning-Hot-Fever!-4-Doctors-Tried-To-Save-Me-In-The-Hospital!-_-The-Thirsty-Sisters-#6-Jw7B8efygWI.mp3-part-69.wav\n"
     ]
    },
    {
     "name": "stderr",
     "output_type": "stream",
     "text": [
      " 65%|██████▌   | 85446/130662 [34:31<11:00, 68.48it/s]"
     ]
    },
    {
     "name": "stdout",
     "output_type": "stream",
     "text": [
      "skipped semisupervised-manglish/output-wav/Mamak-Sessions---How-Dating-Has-Changed-&-Tenet-ft-Elizabeth-Debicki-and-John-David-Washington-te2Be5GNNys.mp3-part-235.wav\n"
     ]
    },
    {
     "name": "stderr",
     "output_type": "stream",
     "text": [
      " 65%|██████▌   | 85463/130662 [34:32<10:25, 72.24it/s]"
     ]
    },
    {
     "name": "stdout",
     "output_type": "stream",
     "text": [
      "skipped semisupervised-manglish/output-wav/Mamak-Sessions---The-Asian-Mom-Of-The-Internet-ft-Tata-Wyb6i3GoJv4.mp3-part-39.wav\n",
      "skipped semisupervised-manglish/output-wav/Dance-Moves-To-Pick-Up-Girls-At-The-Club-With-Adidas-Creator-Maybelline-Wong-(@definitelyMayb_)-vRnkHzyyBc4.mp3-part-871.wav\n"
     ]
    },
    {
     "name": "stderr",
     "output_type": "stream",
     "text": [
      "\r",
      " 65%|██████▌   | 85471/130662 [34:32<10:11, 73.85it/s]"
     ]
    },
    {
     "name": "stdout",
     "output_type": "stream",
     "text": [
      "skipped semisupervised-manglish/output-wav/Mamak-Sessions-Ep6---Names-People-Always-Mispronounce-&-Facebook-Is-A-Spy-8LuihYdx0FQ.mp3-part-304.wav\n"
     ]
    },
    {
     "name": "stderr",
     "output_type": "stream",
     "text": [
      " 65%|██████▌   | 85486/130662 [34:32<15:47, 47.69it/s]"
     ]
    },
    {
     "name": "stdout",
     "output_type": "stream",
     "text": [
      "skipped semisupervised-manglish/output-wav/The-Fashion-Weak-Podcast-EP-27----Peter-Davis-talks-cars,-mixed-rice-and-some-fashion.-rxmMRAzLRJ0.mp3-part-440.wav\n"
     ]
    },
    {
     "name": "stderr",
     "output_type": "stream",
     "text": [
      " 66%|██████▌   | 85599/130662 [34:34<12:16, 61.20it/s]"
     ]
    },
    {
     "name": "stdout",
     "output_type": "stream",
     "text": [
      "skipped semisupervised-manglish/output-wav/The-Fashion-Weak-Podcast-EP14---Faking-it-on-the-gram-and-faking-Gasms-with-Sandra-Woo-(@sandrawooo)--XwvfCTnseI.mp3-part-230.wav\n"
     ]
    },
    {
     "name": "stderr",
     "output_type": "stream",
     "text": [
      " 66%|██████▌   | 85705/130662 [34:36<16:59, 44.08it/s]"
     ]
    },
    {
     "name": "stdout",
     "output_type": "stream",
     "text": [
      "skipped semisupervised-manglish/output-wav/What-You-Should-Think-About-After-A-Levels-_-IMO-Ep.3-R7nCJrdRWyc.mp3-part-84.wav\n"
     ]
    },
    {
     "name": "stderr",
     "output_type": "stream",
     "text": [
      " 66%|██████▌   | 85744/130662 [34:37<11:26, 65.41it/s]"
     ]
    },
    {
     "name": "stdout",
     "output_type": "stream",
     "text": [
      "skipped semisupervised-manglish/output-wav/The-Fashion-Weak-Podcast-Ep-45---Finessing-A-New-Phone-Every-Year-With-Mamak-Rap-King-Jiven-Sekar-VlovwtVYuw0.mp3-part-377.wav\n",
      "skipped semisupervised-manglish/output-wav/The-Fashion-Weak-Podcast-EP-41---Investment-Tips-For-Chee-Seng-With-Fuad-&-Shaq-From-Kyoto-Protocol-eWNQhDNoSsY.mp3-part-436.wav\n",
      "skipped semisupervised-manglish/output-wav/Mamak-Sessions---How-Do-You-Deal-With-Rumors-ft-Elizabeth-Tan-Rkvd5p3I11M.mp3-part-463.wav\n"
     ]
    },
    {
     "name": "stderr",
     "output_type": "stream",
     "text": [
      " 66%|██████▌   | 85908/130662 [34:40<14:00, 53.25it/s]"
     ]
    },
    {
     "name": "stdout",
     "output_type": "stream",
     "text": [
      "skipped semisupervised-manglish/output-wav/The-Fashion-Weak-Podcast-Ep-46---Premium-Thirst-Trap-Tips-With-Michelle-Lee-(@mich8lee)-MCHDyLJDJrg.mp3-part-705.wav\n"
     ]
    },
    {
     "name": "stderr",
     "output_type": "stream",
     "text": [
      " 66%|██████▌   | 85952/130662 [34:40<11:52, 62.78it/s]"
     ]
    },
    {
     "name": "stdout",
     "output_type": "stream",
     "text": [
      "skipped semisupervised-manglish/output-wav/Mamak-Sessions-Ep6---Names-People-Always-Mispronounce-&-Facebook-Is-A-Spy-8LuihYdx0FQ.mp3-part-383.wav\n",
      "skipped semisupervised-manglish/output-wav/The-Fashion-Weak-Podcast-Ep-38---TikTok-Royalty-Roshan-Jeet-aka-Roshannnn1-lPnRg9UsP0M.mp3-part-950.wav\n"
     ]
    },
    {
     "name": "stderr",
     "output_type": "stream",
     "text": [
      " 66%|██████▌   | 85995/130662 [34:41<13:06, 56.77it/s]"
     ]
    },
    {
     "name": "stdout",
     "output_type": "stream",
     "text": [
      "skipped semisupervised-manglish/output-wav/The-Fashion-Weak-Podcast-Ep-46---Premium-Thirst-Trap-Tips-With-Michelle-Lee-(@mich8lee)-MCHDyLJDJrg.mp3-part-317.wav\n",
      "skipped semisupervised-manglish/output-wav/The-Fashion-Weak-Podcast-Ep-39---Talking-Turn-On's-and-Fashion-Bulk-Buy-Deals-With-Tata-Wanqian-WSVo-qvu1GQ.mp3-part-479.wav\n"
     ]
    },
    {
     "name": "stderr",
     "output_type": "stream",
     "text": [
      " 66%|██████▌   | 86032/130662 [34:42<11:37, 63.98it/s]"
     ]
    },
    {
     "name": "stdout",
     "output_type": "stream",
     "text": [
      "skipped semisupervised-manglish/output-wav/The-Fashion-Weak-Podcast-Ep24---Penang-Boys-@tunway-瘦虎-&-@Shawnduabui-肥龍-Talk-Zap-Fan-&-Sneakers-dykz_vuzJh0.mp3-part-481.wav\n"
     ]
    },
    {
     "name": "stderr",
     "output_type": "stream",
     "text": [
      " 66%|██████▌   | 86122/130662 [34:44<12:07, 61.19it/s]"
     ]
    },
    {
     "name": "stdout",
     "output_type": "stream",
     "text": [
      "skipped semisupervised-manglish/output-wav/The-Fashion-Weak-Podcast-Ep-32---Getting-Surprised-Reading-Melissa-Campbell's-(@heymelbelle)-IG-DMs-mJuKUwFpDgI.mp3-part-500.wav\n"
     ]
    },
    {
     "name": "stderr",
     "output_type": "stream",
     "text": [
      " 66%|██████▌   | 86296/130662 [34:47<11:17, 65.44it/s]"
     ]
    },
    {
     "name": "stdout",
     "output_type": "stream",
     "text": [
      "skipped semisupervised-manglish/output-wav/Dance-Moves-To-Pick-Up-Girls-At-The-Club-With-Adidas-Creator-Maybelline-Wong-(@definitelyMayb_)-vRnkHzyyBc4.mp3-part-723.wav\n"
     ]
    },
    {
     "name": "stderr",
     "output_type": "stream",
     "text": [
      " 66%|██████▌   | 86338/130662 [34:48<16:25, 44.96it/s]"
     ]
    },
    {
     "name": "stdout",
     "output_type": "stream",
     "text": [
      "skipped semisupervised-manglish/output-wav/The-Fashion-Weak-Podcast-Ep-43A---Keeping-Fair-On-The-Fairway-With-Natalia-Ng-CSP1XPZu4YY.mp3-part-482.wav\n"
     ]
    },
    {
     "name": "stderr",
     "output_type": "stream",
     "text": [
      " 66%|██████▌   | 86393/130662 [34:48<10:57, 67.29it/s]"
     ]
    },
    {
     "name": "stdout",
     "output_type": "stream",
     "text": [
      "skipped semisupervised-manglish/output-wav/Respond,-Don't-React---Finding-The-Silver-Lining-in-Covid-19-_-Singaporean-Podcast-#29-_-Kevin-Wee-eFDcnTupdeQ.mp3-part-125.wav\n",
      "skipped semisupervised-manglish/output-wav/The-Fashion-Weak-Podcast-Ep-23---Alicia-Amin-On-Being-A-'Malay'-Model-In-2019-3pKA5NvTCOA.mp3-part-324.wav\n"
     ]
    },
    {
     "name": "stderr",
     "output_type": "stream",
     "text": [
      " 66%|██████▌   | 86417/130662 [34:49<10:46, 68.46it/s]"
     ]
    },
    {
     "name": "stdout",
     "output_type": "stream",
     "text": [
      "skipped semisupervised-manglish/output-wav/The-Fashion-Weak-Podcast-Ep-23---Alicia-Amin-On-Being-A-'Malay'-Model-In-2019-3pKA5NvTCOA.mp3-part-550.wav\n"
     ]
    },
    {
     "name": "stderr",
     "output_type": "stream",
     "text": [
      " 66%|██████▌   | 86499/130662 [34:50<11:30, 63.99it/s]"
     ]
    },
    {
     "name": "stdout",
     "output_type": "stream",
     "text": [
      "skipped semisupervised-manglish/output-wav/Mamak-Sessions-Ep13---Game-Of-Thrones-Is-OVER!-Malaysian-Accent-is-sexy!--mAdHcMGmEs.mp3-part-302.wav\n"
     ]
    },
    {
     "name": "stderr",
     "output_type": "stream",
     "text": [
      " 66%|██████▌   | 86553/130662 [34:51<12:31, 58.68it/s]"
     ]
    },
    {
     "name": "stdout",
     "output_type": "stream",
     "text": [
      "skipped semisupervised-manglish/output-wav/Grown-Up-Flex-With-YouTube-Superstar-@JinnyBoy---The-Fashion-Weak-Podcast-Episode-9-7wiSVCBFmFc.mp3-part-30.wav\n",
      "skipped semisupervised-manglish/output-wav/Mamak-Sessions-Ep6---Names-People-Always-Mispronounce-&-Facebook-Is-A-Spy-8LuihYdx0FQ.mp3-part-35.wav\n"
     ]
    },
    {
     "name": "stderr",
     "output_type": "stream",
     "text": [
      " 66%|██████▋   | 86646/130662 [34:53<11:27, 64.00it/s]"
     ]
    },
    {
     "name": "stdout",
     "output_type": "stream",
     "text": [
      "skipped semisupervised-manglish/output-wav/Mamak-Sessions-Ep6---Names-People-Always-Mispronounce-&-Facebook-Is-A-Spy-8LuihYdx0FQ.mp3-part-413.wav\n",
      "skipped semisupervised-manglish/output-wav/The-Fashion-Weak-Podcast-EP-36---Why-guys-REALLY-go-for-spin-class-with-Oxygen-Cycle-RqG0tHR9D1g.mp3-part-146.wav\n"
     ]
    },
    {
     "name": "stderr",
     "output_type": "stream",
     "text": [
      " 66%|██████▋   | 86670/130662 [34:53<10:52, 67.47it/s]"
     ]
    },
    {
     "name": "stdout",
     "output_type": "stream",
     "text": [
      "skipped semisupervised-manglish/output-wav/The-Fashion-Weak-Podcast-Ep-43---Thirst-Trapping-Simps-&-Loving-Your-Body-From-The-Outside-In-6R87P6YD2c4.mp3-part-728.wav\n"
     ]
    },
    {
     "name": "stderr",
     "output_type": "stream",
     "text": [
      " 66%|██████▋   | 86686/130662 [34:53<10:32, 69.55it/s]"
     ]
    },
    {
     "name": "stdout",
     "output_type": "stream",
     "text": [
      "skipped semisupervised-manglish/output-wav/The-Fashion-Weak-Podcast-EP-27----Peter-Davis-talks-cars,-mixed-rice-and-some-fashion.-rxmMRAzLRJ0.mp3-part-328.wav\n"
     ]
    },
    {
     "name": "stderr",
     "output_type": "stream",
     "text": [
      " 66%|██████▋   | 86724/130662 [34:54<12:37, 57.98it/s]"
     ]
    },
    {
     "name": "stdout",
     "output_type": "stream",
     "text": [
      "skipped semisupervised-manglish/output-wav/The-Fashion-Weak-Podcast-Ep24---Penang-Boys-@tunway-瘦虎-&-@Shawnduabui-肥龍-Talk-Zap-Fan-&-Sneakers-dykz_vuzJh0.mp3-part-807.wav\n"
     ]
    },
    {
     "name": "stderr",
     "output_type": "stream",
     "text": [
      " 66%|██████▋   | 86781/130662 [34:55<11:31, 63.42it/s]"
     ]
    },
    {
     "name": "stdout",
     "output_type": "stream",
     "text": [
      "skipped semisupervised-manglish/output-wav/The-Fashion-Weak-Podcast-Ep-38---TikTok-Royalty-Roshan-Jeet-aka-Roshannnn1-lPnRg9UsP0M.mp3-part-728.wav\n"
     ]
    },
    {
     "name": "stderr",
     "output_type": "stream",
     "text": [
      " 66%|██████▋   | 86845/130662 [34:56<11:48, 61.81it/s]"
     ]
    },
    {
     "name": "stdout",
     "output_type": "stream",
     "text": [
      "skipped semisupervised-manglish/output-wav/Polytechnic-VS-University,-Hospitality-Industry-+-Solo-Travel-_-Singaporean-Podcast-#21-_-Veron-Ng-attPdWb6UVo.mp3-part-38.wav\n"
     ]
    },
    {
     "name": "stderr",
     "output_type": "stream",
     "text": [
      " 67%|██████▋   | 86959/130662 [34:58<11:26, 63.67it/s]"
     ]
    },
    {
     "name": "stdout",
     "output_type": "stream",
     "text": [
      "skipped semisupervised-manglish/output-wav/The-Fashion-Weak-Podcast-Ep-43A---Keeping-Fair-On-The-Fairway-With-Natalia-Ng-CSP1XPZu4YY.mp3-part-620.wav\n"
     ]
    },
    {
     "name": "stderr",
     "output_type": "stream",
     "text": [
      " 67%|██████▋   | 86982/130662 [34:59<14:07, 51.56it/s]"
     ]
    },
    {
     "name": "stdout",
     "output_type": "stream",
     "text": [
      "skipped semisupervised-manglish/output-wav/@Juanitadr-shows-us-what-Arnold's-Tongue-Can-Do---The-Fashion-Weak-Podcast-Episode-10-N5EfPvQKW90.mp3-part-436.wav\n"
     ]
    },
    {
     "name": "stderr",
     "output_type": "stream",
     "text": [
      " 67%|██████▋   | 87016/130662 [34:59<11:23, 63.84it/s]"
     ]
    },
    {
     "name": "stdout",
     "output_type": "stream",
     "text": [
      "skipped semisupervised-manglish/output-wav/Mamak-Sessions-Podcast---Girl-Gets-Caned-For-Calling-her-Teacher-'AH-GUA'-PRN5UrsDF6w.mp3-part-685.wav\n"
     ]
    },
    {
     "name": "stderr",
     "output_type": "stream",
     "text": [
      " 67%|██████▋   | 87102/130662 [35:01<11:44, 61.85it/s]"
     ]
    },
    {
     "name": "stdout",
     "output_type": "stream",
     "text": [
      "skipped semisupervised-manglish/output-wav/Become-a-Software-Developer-in-90-days-and-Running-His-Own-Company-_-Singaporean-Podcast-#8-_-Haris-HRd3RMQtkDs.mp3-part-526.wav\n",
      "skipped semisupervised-manglish/output-wav/Mamak-Sessions-Ep6---Names-People-Always-Mispronounce-&-Facebook-Is-A-Spy-8LuihYdx0FQ.mp3-part-255.wav\n"
     ]
    },
    {
     "name": "stderr",
     "output_type": "stream",
     "text": [
      " 67%|██████▋   | 87188/130662 [35:02<12:10, 59.50it/s]"
     ]
    },
    {
     "name": "stdout",
     "output_type": "stream",
     "text": [
      "skipped semisupervised-manglish/output-wav/Dance-Moves-To-Pick-Up-Girls-At-The-Club-With-Adidas-Creator-Maybelline-Wong-(@definitelyMayb_)-vRnkHzyyBc4.mp3-part-107.wav\n"
     ]
    },
    {
     "name": "stderr",
     "output_type": "stream",
     "text": [
      " 67%|██████▋   | 87238/130662 [35:03<11:02, 65.52it/s]"
     ]
    },
    {
     "name": "stdout",
     "output_type": "stream",
     "text": [
      "skipped semisupervised-manglish/output-wav/Grown-Up-Flex-With-YouTube-Superstar-@JinnyBoy---The-Fashion-Weak-Podcast-Episode-9-7wiSVCBFmFc.mp3-part-27.wav\n"
     ]
    },
    {
     "name": "stderr",
     "output_type": "stream",
     "text": [
      " 67%|██████▋   | 87252/130662 [35:04<15:38, 46.26it/s]"
     ]
    },
    {
     "name": "stdout",
     "output_type": "stream",
     "text": [
      "skipped semisupervised-manglish/output-wav/The-Fashion-Weak-Podcast-Ep-23---Alicia-Amin-On-Being-A-'Malay'-Model-In-2019-3pKA5NvTCOA.mp3-part-258.wav\n"
     ]
    },
    {
     "name": "stderr",
     "output_type": "stream",
     "text": [
      " 67%|██████▋   | 87340/130662 [35:05<14:53, 48.47it/s]"
     ]
    },
    {
     "name": "stdout",
     "output_type": "stream",
     "text": [
      "skipped semisupervised-manglish/output-wav/Mamak-Sessions---Our-Differences-Is-What-Unites-Us-ft.-Elvin-Romeo-0jySfrZhs50.mp3-part-130.wav\n"
     ]
    },
    {
     "name": "stderr",
     "output_type": "stream",
     "text": [
      " 67%|██████▋   | 87661/130662 [35:11<11:28, 62.49it/s]"
     ]
    },
    {
     "name": "stdout",
     "output_type": "stream",
     "text": [
      "skipped semisupervised-manglish/output-wav/The-Fashion-Weak-Podcast-Ep-39---Talking-Turn-On's-and-Fashion-Bulk-Buy-Deals-With-Tata-Wanqian-WSVo-qvu1GQ.mp3-part-720.wav\n"
     ]
    },
    {
     "name": "stderr",
     "output_type": "stream",
     "text": [
      " 67%|██████▋   | 87690/130662 [35:11<11:10, 64.07it/s]"
     ]
    },
    {
     "name": "stdout",
     "output_type": "stream",
     "text": [
      "skipped semisupervised-manglish/output-wav/The-Fashion-Weak-Podcast-Ep-20---Couple-Goals-With-Maggy-Wang-&-Jobroseph-TzfCaQ8vUMc.mp3-part-308.wav\n",
      "skipped semisupervised-manglish/output-wav/Should-Influencers-Be-Expected-To-Do-More-For-Society-(ft.-Celeste-Loh)-_-IMO-Ep.4-7izYax1bCwg.mp3-part-74.wav\n"
     ]
    },
    {
     "name": "stderr",
     "output_type": "stream",
     "text": [
      " 67%|██████▋   | 87732/130662 [35:12<12:03, 59.36it/s]"
     ]
    },
    {
     "name": "stdout",
     "output_type": "stream",
     "text": [
      "skipped semisupervised-manglish/output-wav/Best-Way-to-Get-Women-to-Fall-For-You-Every-Month!-_-The-Thirsty-Sisters-#16-gvPiF-zXur4.mp3-part-377.wav\n"
     ]
    },
    {
     "name": "stderr",
     "output_type": "stream",
     "text": [
      " 67%|██████▋   | 87768/130662 [35:13<10:48, 66.10it/s]"
     ]
    },
    {
     "name": "stdout",
     "output_type": "stream",
     "text": [
      "skipped semisupervised-manglish/output-wav/The-Fashion-Weak-Podcast-Ep24---Penang-Boys-@tunway-瘦虎-&-@Shawnduabui-肥龍-Talk-Zap-Fan-&-Sneakers-dykz_vuzJh0.mp3-part-1.wav\n"
     ]
    },
    {
     "name": "stderr",
     "output_type": "stream",
     "text": [
      " 67%|██████▋   | 87782/130662 [35:13<11:08, 64.12it/s]"
     ]
    },
    {
     "name": "stdout",
     "output_type": "stream",
     "text": [
      "skipped semisupervised-manglish/output-wav/The-Fashion-Weak-Podcast-Ep-23---Alicia-Amin-On-Being-A-'Malay'-Model-In-2019-3pKA5NvTCOA.mp3-part-669.wav\n"
     ]
    },
    {
     "name": "stderr",
     "output_type": "stream",
     "text": [
      " 67%|██████▋   | 87813/130662 [35:14<12:42, 56.17it/s]"
     ]
    },
    {
     "name": "stdout",
     "output_type": "stream",
     "text": [
      "skipped semisupervised-manglish/output-wav/The-Fashion-Weak-Podcast-EP-25---Don't-Mess-With-@zamaeraaa's-Hello-Kitty-Cup-H4M_ZUDAT3k.mp3-part-98.wav\n"
     ]
    },
    {
     "name": "stderr",
     "output_type": "stream",
     "text": [
      " 67%|██████▋   | 87834/130662 [35:14<11:24, 62.61it/s]"
     ]
    },
    {
     "name": "stdout",
     "output_type": "stream",
     "text": [
      "skipped semisupervised-manglish/output-wav/Mamak-Sessions-Ep10---Datuk-Nicol-David-is-RETIRING!-n3AR3nQEc7Y.mp3-part-133.wav\n",
      "skipped semisupervised-manglish/output-wav/The-Fashion-Weak-Podcast-Ep-23---Alicia-Amin-On-Being-A-'Malay'-Model-In-2019-3pKA5NvTCOA.mp3-part-452.wav\n"
     ]
    },
    {
     "name": "stderr",
     "output_type": "stream",
     "text": [
      " 67%|██████▋   | 87892/130662 [35:15<14:20, 49.73it/s]"
     ]
    },
    {
     "name": "stdout",
     "output_type": "stream",
     "text": [
      "skipped semisupervised-manglish/output-wav/Grown-Up-Flex-With-YouTube-Superstar-@JinnyBoy---The-Fashion-Weak-Podcast-Episode-9-7wiSVCBFmFc.mp3-part-56.wav\n"
     ]
    },
    {
     "name": "stderr",
     "output_type": "stream",
     "text": [
      " 67%|██████▋   | 87928/130662 [35:16<11:31, 61.82it/s]"
     ]
    },
    {
     "name": "stdout",
     "output_type": "stream",
     "text": [
      "skipped semisupervised-manglish/output-wav/Playing-Basketball-With-Dr-Jason-Leong---The-Fashion-Weak-Podcast-Episode-4---6K1feeFnKpQ.mp3-part-124.wav\n"
     ]
    },
    {
     "name": "stderr",
     "output_type": "stream",
     "text": [
      " 67%|██████▋   | 88035/130662 [35:18<11:32, 61.53it/s]"
     ]
    },
    {
     "name": "stdout",
     "output_type": "stream",
     "text": [
      "skipped semisupervised-manglish/output-wav/Mamak-Sessions---Getting-Married-in-Vegas,-and-Sugar-Babies-ft.-Dennis-Yin-Cq6Yjwsu63U.mp3-part-198.wav\n"
     ]
    },
    {
     "name": "stderr",
     "output_type": "stream",
     "text": [
      " 67%|██████▋   | 88049/130662 [35:18<11:49, 60.09it/s]"
     ]
    },
    {
     "name": "stdout",
     "output_type": "stream",
     "text": [
      "skipped semisupervised-manglish/output-wav/Mamak-Sessions---Getting-Married-in-Vegas,-and-Sugar-Babies-ft.-Dennis-Yin-Cq6Yjwsu63U.mp3-part-149.wav\n"
     ]
    },
    {
     "name": "stderr",
     "output_type": "stream",
     "text": [
      " 67%|██████▋   | 88115/130662 [35:19<11:16, 62.85it/s]"
     ]
    },
    {
     "name": "stdout",
     "output_type": "stream",
     "text": [
      "skipped semisupervised-manglish/output-wav/Mamak-Sessions---We-May-Not-Always-End-Up-Doing-What-We-Thought-We-Would..And-That's-Not-A-Bad-Thing-IAeN0jG9Hwc.mp3-part-386.wav\n"
     ]
    },
    {
     "name": "stderr",
     "output_type": "stream",
     "text": [
      " 67%|██████▋   | 88187/130662 [35:20<12:08, 58.29it/s]"
     ]
    },
    {
     "name": "stdout",
     "output_type": "stream",
     "text": [
      "skipped semisupervised-manglish/output-wav/Mamak-Sessions-Ep13---Game-Of-Thrones-Is-OVER!-Malaysian-Accent-is-sexy!--mAdHcMGmEs.mp3-part-252.wav\n"
     ]
    },
    {
     "name": "stderr",
     "output_type": "stream",
     "text": [
      " 68%|██████▊   | 88253/130662 [35:22<13:47, 51.28it/s]"
     ]
    },
    {
     "name": "stdout",
     "output_type": "stream",
     "text": [
      "skipped semisupervised-manglish/output-wav/Real-Estate-Major-+-NUS-Overseas-College-in-Beijing-_-Singaporean-Podcast-#7-_-Danial-Arun-5SOInBKNP18.mp3-part-435.wav\n"
     ]
    },
    {
     "name": "stderr",
     "output_type": "stream",
     "text": [
      " 68%|██████▊   | 88288/130662 [35:22<11:17, 62.57it/s]"
     ]
    },
    {
     "name": "stdout",
     "output_type": "stream",
     "text": [
      "skipped semisupervised-manglish/output-wav/The-Fashion-Weak-Podcast-Ep35---Is-New-Balance-Cool-Now-Talking-everything-NOT-Nike-with-@adlysyairi-3b0bYe36KNE.mp3-part-464.wav\n"
     ]
    },
    {
     "name": "stderr",
     "output_type": "stream",
     "text": [
      " 68%|██████▊   | 88316/130662 [35:23<10:44, 65.69it/s]"
     ]
    },
    {
     "name": "stdout",
     "output_type": "stream",
     "text": [
      "skipped semisupervised-manglish/output-wav/Mamak-Sessions-Podcast---How-Dean-Lewis-became-who-he-is-today-HkOQy1Nxpis.mp3-part-167.wav\n"
     ]
    },
    {
     "name": "stderr",
     "output_type": "stream",
     "text": [
      " 68%|██████▊   | 88359/130662 [35:23<12:15, 57.49it/s]"
     ]
    },
    {
     "name": "stdout",
     "output_type": "stream",
     "text": [
      "skipped semisupervised-manglish/output-wav/Mamak-Sessions---How-I-Got-Quarantined-Because-Of-Covid-19-Feat.-Mark-O'Dea-5zAsyNKfzps.mp3-part-17.wav\n"
     ]
    },
    {
     "name": "stderr",
     "output_type": "stream",
     "text": [
      " 68%|██████▊   | 88389/130662 [35:24<10:44, 65.55it/s]"
     ]
    },
    {
     "name": "stdout",
     "output_type": "stream",
     "text": [
      "skipped semisupervised-manglish/output-wav/Mamak-Sessions---Airing-Dirty-Laundry-Online-and-Social-Justice-Warriors-FFtFXiIgsyk.mp3-part-65.wav\n"
     ]
    },
    {
     "name": "stderr",
     "output_type": "stream",
     "text": [
      " 68%|██████▊   | 88565/130662 [35:27<12:12, 57.44it/s]"
     ]
    },
    {
     "name": "stdout",
     "output_type": "stream",
     "text": [
      "skipped semisupervised-manglish/output-wav/Being-Bullied,-Toxic-Masculinity-And-Theatre-_-HTHT---Fauzi-Aziz-6syqXC_o6gs.mp3-part-352.wav\n"
     ]
    },
    {
     "name": "stderr",
     "output_type": "stream",
     "text": [
      " 68%|██████▊   | 88587/130662 [35:27<11:08, 62.92it/s]"
     ]
    },
    {
     "name": "stdout",
     "output_type": "stream",
     "text": [
      "skipped semisupervised-manglish/output-wav/Mamak-Sessions-Ep4---What-Turns-You-On,-Is-it-ok-if-your-Girlfriend-Earns-More-&-The-Ideal-Proposal-1av_p0DPDas.mp3-part-67.wav\n"
     ]
    },
    {
     "name": "stderr",
     "output_type": "stream",
     "text": [
      " 68%|██████▊   | 88609/130662 [35:28<15:24, 45.49it/s]"
     ]
    },
    {
     "name": "stdout",
     "output_type": "stream",
     "text": [
      "skipped semisupervised-manglish/output-wav/8-Wheels-Vs-4-Wheels-With-Sukeats-From-Wheel-Love---The-Fashion-Weak-Podcast-ep-12-fgaCmnMdZ0c.mp3-part-42.wav\n"
     ]
    },
    {
     "name": "stderr",
     "output_type": "stream",
     "text": [
      " 68%|██████▊   | 88652/130662 [35:29<12:07, 57.78it/s]"
     ]
    },
    {
     "name": "stdout",
     "output_type": "stream",
     "text": [
      "skipped semisupervised-manglish/output-wav/Most-Accurate-Personality-Test!-_-The-Thirsty-Sisters-#17-XLV720mng6w.mp3-part-44.wav\n",
      "skipped semisupervised-manglish/output-wav/8-Wheels-Vs-4-Wheels-With-Sukeats-From-Wheel-Love---The-Fashion-Weak-Podcast-ep-12-fgaCmnMdZ0c.mp3-part-39.wav\n"
     ]
    },
    {
     "name": "stderr",
     "output_type": "stream",
     "text": [
      " 68%|██████▊   | 88715/130662 [35:30<13:25, 52.06it/s]"
     ]
    },
    {
     "name": "stdout",
     "output_type": "stream",
     "text": [
      "skipped semisupervised-manglish/output-wav/Talking-Sneakers-&-Strong-Sperm-With-@bryanbotakchin---The-Fashion-Weak-Podcast-Episode-11-iugevNPFp2Y.mp3-part-7.wav\n"
     ]
    },
    {
     "name": "stderr",
     "output_type": "stream",
     "text": [
      " 68%|██████▊   | 88954/130662 [35:34<10:39, 65.24it/s]"
     ]
    },
    {
     "name": "stdout",
     "output_type": "stream",
     "text": [
      "skipped semisupervised-manglish/output-wav/Mamak-Sessions-Ep13---Game-Of-Thrones-Is-OVER!-Malaysian-Accent-is-sexy!--mAdHcMGmEs.mp3-part-284.wav\n"
     ]
    },
    {
     "name": "stderr",
     "output_type": "stream",
     "text": [
      " 68%|██████▊   | 89020/130662 [35:35<11:09, 62.16it/s]"
     ]
    },
    {
     "name": "stdout",
     "output_type": "stream",
     "text": [
      "skipped semisupervised-manglish/output-wav/NUS-Overseas-College-and-Silicon-Valley-_-Singaporean-Podcast-#6-_-Tony-Tong-1FLelqfAyZU.mp3-part-253.wav\n"
     ]
    },
    {
     "name": "stderr",
     "output_type": "stream",
     "text": [
      " 68%|██████▊   | 89043/130662 [35:36<09:52, 70.26it/s]"
     ]
    },
    {
     "name": "stdout",
     "output_type": "stream",
     "text": [
      "skipped semisupervised-manglish/output-wav/Mamak-Sessions---Can-Guys-And-Girls-Be-Best-Friends-Is-it-ok-to-see-more-than-one-person-at-a-time-IixUPM11VMY.mp3-part-262.wav\n",
      "skipped semisupervised-manglish/output-wav/Mamak-Sessions---Getting-Married-in-Vegas,-and-Sugar-Babies-ft.-Dennis-Yin-Cq6Yjwsu63U.mp3-part-14.wav\n",
      "skipped semisupervised-manglish/output-wav/Mamak-Sessions-Ep6---Names-People-Always-Mispronounce-&-Facebook-Is-A-Spy-8LuihYdx0FQ.mp3-part-69.wav\n"
     ]
    },
    {
     "name": "stderr",
     "output_type": "stream",
     "text": [
      " 68%|██████▊   | 89094/130662 [35:37<11:26, 60.58it/s]"
     ]
    },
    {
     "name": "stdout",
     "output_type": "stream",
     "text": [
      "skipped semisupervised-manglish/output-wav/Mamak-Sessions-Ep4---What-Turns-You-On,-Is-it-ok-if-your-Girlfriend-Earns-More-&-The-Ideal-Proposal-1av_p0DPDas.mp3-part-110.wav\n",
      "skipped semisupervised-manglish/output-wav/Relatives-Ruin-My-Wedding!-_-The-Thirsty-Sisters-#22-98CiTQQtqak.mp3-part-97.wav\n"
     ]
    },
    {
     "name": "stderr",
     "output_type": "stream",
     "text": [
      " 68%|██████▊   | 89206/130662 [35:39<10:17, 67.16it/s]"
     ]
    },
    {
     "name": "stdout",
     "output_type": "stream",
     "text": [
      "skipped semisupervised-manglish/output-wav/The-Fashion-Weak-Podcast-Ep-28-@dreamrocketeers-on-that-Rolex-you-should-cop-to-flex-on-poor-friends-shV1F1JlDzk.mp3-part-850.wav\n",
      "skipped semisupervised-manglish/output-wav/Why-Singaporean-Female-Entrepreneurship-Matters-_-Huda-Hamid-_-Singaporean-Podcast-#44-myPdnyUGvUk.mp3-part-395.wav\n"
     ]
    },
    {
     "name": "stderr",
     "output_type": "stream",
     "text": [
      " 68%|██████▊   | 89313/130662 [35:40<10:45, 64.06it/s]"
     ]
    },
    {
     "name": "stdout",
     "output_type": "stream",
     "text": [
      "skipped semisupervised-manglish/output-wav/The-Fashion-Weak-Podcast-Ep-43A---Keeping-Fair-On-The-Fairway-With-Natalia-Ng-CSP1XPZu4YY.mp3-part-122.wav\n"
     ]
    },
    {
     "name": "stderr",
     "output_type": "stream",
     "text": [
      " 68%|██████▊   | 89327/130662 [35:41<10:55, 63.06it/s]"
     ]
    },
    {
     "name": "stdout",
     "output_type": "stream",
     "text": [
      "skipped semisupervised-manglish/output-wav/Why-Blockchain-&-Crypo-Matters-_-Singaporean-Podcast-#15-_-Royal-Pek--2d7wzvNOCE.mp3-part-671.wav\n"
     ]
    },
    {
     "name": "stderr",
     "output_type": "stream",
     "text": [
      " 68%|██████▊   | 89382/130662 [35:42<11:23, 60.44it/s]"
     ]
    },
    {
     "name": "stdout",
     "output_type": "stream",
     "text": [
      "skipped semisupervised-manglish/output-wav/Why-Blockchain-&-Crypo-Matters-_-Singaporean-Podcast-#15-_-Royal-Pek--2d7wzvNOCE.mp3-part-358.wav\n"
     ]
    },
    {
     "name": "stderr",
     "output_type": "stream",
     "text": [
      " 68%|██████▊   | 89418/130662 [35:42<10:32, 65.26it/s]"
     ]
    },
    {
     "name": "stdout",
     "output_type": "stream",
     "text": [
      "skipped semisupervised-manglish/output-wav/Mamak-Sessions---Our-Differences-Is-What-Unites-Us-ft.-Elvin-Romeo-0jySfrZhs50.mp3-part-194.wav\n"
     ]
    },
    {
     "name": "stderr",
     "output_type": "stream",
     "text": [
      " 68%|██████▊   | 89447/130662 [35:43<12:55, 53.16it/s]"
     ]
    },
    {
     "name": "stdout",
     "output_type": "stream",
     "text": [
      "skipped semisupervised-manglish/output-wav/Mamak-Sessions---Airing-Dirty-Laundry-Online-and-Social-Justice-Warriors-FFtFXiIgsyk.mp3-part-291.wav\n"
     ]
    },
    {
     "name": "stderr",
     "output_type": "stream",
     "text": [
      " 68%|██████▊   | 89479/130662 [35:43<10:04, 68.10it/s]"
     ]
    },
    {
     "name": "stdout",
     "output_type": "stream",
     "text": [
      "skipped semisupervised-manglish/output-wav/Mamak-Sessions---Nasi-Lemak-Sneakers-zLEmAKdG9vY.mp3-part-479.wav\n"
     ]
    },
    {
     "name": "stderr",
     "output_type": "stream",
     "text": [
      " 69%|██████▊   | 89546/130662 [35:45<12:01, 56.99it/s]"
     ]
    },
    {
     "name": "stdout",
     "output_type": "stream",
     "text": [
      "skipped semisupervised-manglish/output-wav/Amander-Reveals-Why-She-Left-Titan---The-Team-Titan-Show-7byI9tIJeRk.mp3-part-127.wav\n"
     ]
    },
    {
     "name": "stderr",
     "output_type": "stream",
     "text": [
      " 69%|██████▊   | 89597/130662 [35:45<11:00, 62.20it/s]"
     ]
    },
    {
     "name": "stdout",
     "output_type": "stream",
     "text": [
      "skipped semisupervised-manglish/output-wav/Mamak-Sessions-Ep6---Names-People-Always-Mispronounce-&-Facebook-Is-A-Spy-8LuihYdx0FQ.mp3-part-280.wav\n",
      "skipped semisupervised-manglish/output-wav/The-Fashion-Weak-Podcast-Ep-22---Why-Fashion-School-Didn't-Work-Out-For-Zee-Avi-woDYSE37_rI.mp3-part-183.wav\n"
     ]
    },
    {
     "name": "stderr",
     "output_type": "stream",
     "text": [
      " 69%|██████▊   | 89776/130662 [35:49<11:07, 61.21it/s]"
     ]
    },
    {
     "name": "stdout",
     "output_type": "stream",
     "text": [
      "skipped semisupervised-manglish/output-wav/Mamak-Sessions---Nasi-Lemak-Sneakers-zLEmAKdG9vY.mp3-part-459.wav\n"
     ]
    },
    {
     "name": "stderr",
     "output_type": "stream",
     "text": [
      " 69%|██████▉   | 90049/130662 [35:54<11:09, 60.65it/s]"
     ]
    },
    {
     "name": "stdout",
     "output_type": "stream",
     "text": [
      "skipped semisupervised-manglish/output-wav/Mamak-Sessions---Getting-Married-in-Vegas,-and-Sugar-Babies-ft.-Dennis-Yin-Cq6Yjwsu63U.mp3-part-272.wav\n"
     ]
    },
    {
     "name": "stderr",
     "output_type": "stream",
     "text": [
      " 69%|██████▉   | 90127/130662 [35:55<12:00, 56.27it/s]"
     ]
    },
    {
     "name": "stdout",
     "output_type": "stream",
     "text": [
      "skipped semisupervised-manglish/output-wav/How-To-Get-Away-With-A-Sex-Crime!-_-The-Thirsty-Sisters-#15-mIc0MmSoaiI.mp3-part-279.wav\n"
     ]
    },
    {
     "name": "stderr",
     "output_type": "stream",
     "text": [
      " 69%|██████▉   | 90149/130662 [35:56<10:33, 63.90it/s]"
     ]
    },
    {
     "name": "stdout",
     "output_type": "stream",
     "text": [
      "skipped semisupervised-manglish/output-wav/Mamak-Sessions---Can-Guys-And-Girls-Be-Best-Friends-Is-it-ok-to-see-more-than-one-person-at-a-time-IixUPM11VMY.mp3-part-324.wav\n",
      "skipped semisupervised-manglish/output-wav/Mamak-Sessions---How-Do-You-Deal-With-Rumors-ft-Elizabeth-Tan-Rkvd5p3I11M.mp3-part-90.wav\n"
     ]
    },
    {
     "name": "stderr",
     "output_type": "stream",
     "text": [
      " 69%|██████▉   | 90355/130662 [35:59<10:39, 63.01it/s]"
     ]
    },
    {
     "name": "stdout",
     "output_type": "stream",
     "text": [
      "skipped semisupervised-manglish/output-wav/Career-Tips-for-Singaporean-Youths-&-Life-as-an-MP---Mr-Zainal-Sapari-_-Singaporean-Podcast#18-5VpSUeWPEuo.mp3-part-36.wav\n"
     ]
    },
    {
     "name": "stderr",
     "output_type": "stream",
     "text": [
      " 69%|██████▉   | 90424/130662 [36:01<10:36, 63.24it/s]"
     ]
    },
    {
     "name": "stdout",
     "output_type": "stream",
     "text": [
      "skipped semisupervised-manglish/output-wav/The-Fashion-Weak-Podcast-Ep-46---Premium-Thirst-Trap-Tips-With-Michelle-Lee-(@mich8lee)-MCHDyLJDJrg.mp3-part-213.wav\n"
     ]
    },
    {
     "name": "stderr",
     "output_type": "stream",
     "text": [
      " 69%|██████▉   | 90520/130662 [36:02<10:24, 64.30it/s]"
     ]
    },
    {
     "name": "stdout",
     "output_type": "stream",
     "text": [
      "skipped semisupervised-manglish/output-wav/The-Fashion-Weak-Podcast-Ep-29---Valentines-Day-With-Becca-Lee-and-Leonard-Chua-UWm1ESejkzs.mp3-part-155.wav\n"
     ]
    },
    {
     "name": "stderr",
     "output_type": "stream",
     "text": [
      " 69%|██████▉   | 90582/130662 [36:04<11:44, 56.91it/s]"
     ]
    },
    {
     "name": "stdout",
     "output_type": "stream",
     "text": [
      "skipped semisupervised-manglish/output-wav/Mamak-Sessions---How-Dating-Has-Changed-&-Tenet-ft-Elizabeth-Debicki-and-John-David-Washington-te2Be5GNNys.mp3-part-430.wav\n"
     ]
    },
    {
     "name": "stderr",
     "output_type": "stream",
     "text": [
      " 69%|██████▉   | 90732/130662 [36:06<13:37, 48.83it/s]"
     ]
    },
    {
     "name": "stdout",
     "output_type": "stream",
     "text": [
      "skipped semisupervised-manglish/output-wav/Relatives-Ruin-My-Wedding!-_-The-Thirsty-Sisters-#22-98CiTQQtqak.mp3-part-424.wav\n"
     ]
    },
    {
     "name": "stderr",
     "output_type": "stream",
     "text": [
      " 70%|██████▉   | 90833/130662 [36:08<11:31, 57.59it/s]"
     ]
    },
    {
     "name": "stdout",
     "output_type": "stream",
     "text": [
      "skipped semisupervised-manglish/output-wav/The-Fashion-Weak-Podcast-Ep-30---On-her-way-to-Supermodel-dom,-ASNTM--Cycle-5-Runner-Up-@shikingomez-otK3Gl_XX4c.mp3-part-265.wav\n"
     ]
    },
    {
     "name": "stderr",
     "output_type": "stream",
     "text": [
      " 70%|██████▉   | 90856/130662 [36:09<10:26, 63.55it/s]"
     ]
    },
    {
     "name": "stdout",
     "output_type": "stream",
     "text": [
      "skipped semisupervised-manglish/output-wav/The-Fashion-Weak-Podcast-Ep-32---Getting-Surprised-Reading-Melissa-Campbell's-(@heymelbelle)-IG-DMs-mJuKUwFpDgI.mp3-part-511.wav\n"
     ]
    },
    {
     "name": "stderr",
     "output_type": "stream",
     "text": [
      " 70%|██████▉   | 90895/130662 [36:09<09:35, 69.14it/s]"
     ]
    },
    {
     "name": "stdout",
     "output_type": "stream",
     "text": [
      "skipped semisupervised-manglish/output-wav/The-Fashion-Weak-Podcast-Ep-33---Lingerie-&-Bikini-Talk-With-Talitha-Tan-(@talithabe)-_7Un0q6a9zg.mp3-part-162.wav\n"
     ]
    },
    {
     "name": "stderr",
     "output_type": "stream",
     "text": [
      " 70%|██████▉   | 90968/130662 [36:11<10:16, 64.41it/s]"
     ]
    },
    {
     "name": "stdout",
     "output_type": "stream",
     "text": [
      "skipped semisupervised-manglish/output-wav/The-Fashion-Weak-Podcast-EP-25---Don't-Mess-With-@zamaeraaa's-Hello-Kitty-Cup-H4M_ZUDAT3k.mp3-part-628.wav\n"
     ]
    },
    {
     "name": "stderr",
     "output_type": "stream",
     "text": [
      " 70%|██████▉   | 91047/130662 [36:12<10:45, 61.34it/s]"
     ]
    },
    {
     "name": "stdout",
     "output_type": "stream",
     "text": [
      "skipped semisupervised-manglish/output-wav/Ben-Kheng-Reflects-On-The-Sam-Willows,-Anxiety,-And-Religion-_-HTHT---Ben-Kheng-X4QapKCCneQ.mp3-part-429.wav\n"
     ]
    },
    {
     "name": "stderr",
     "output_type": "stream",
     "text": [
      " 70%|██████▉   | 91069/130662 [36:12<10:04, 65.52it/s]"
     ]
    },
    {
     "name": "stdout",
     "output_type": "stream",
     "text": [
      "skipped semisupervised-manglish/output-wav/Mamak-Sessions---The-Miss-World-Crown-is-more-than-$4,000,000!-PazCOj1nb3c.mp3-part-152.wav\n"
     ]
    },
    {
     "name": "stderr",
     "output_type": "stream",
     "text": [
      " 70%|██████▉   | 91191/130662 [36:15<12:53, 51.05it/s]"
     ]
    },
    {
     "name": "stdout",
     "output_type": "stream",
     "text": [
      "skipped semisupervised-manglish/output-wav/NUS-Overseas-College-and-Silicon-Valley-_-Singaporean-Podcast-#6-_-Tony-Tong-1FLelqfAyZU.mp3-part-244.wav\n",
      "skipped semisupervised-manglish/output-wav/The-Fashion-Weak-Podcast-Ep-30---On-her-way-to-Supermodel-dom,-ASNTM--Cycle-5-Runner-Up-@shikingomez-otK3Gl_XX4c.mp3-part-300.wav\n"
     ]
    },
    {
     "name": "stderr",
     "output_type": "stream",
     "text": [
      " 70%|██████▉   | 91206/130662 [36:15<11:08, 59.06it/s]"
     ]
    },
    {
     "name": "stdout",
     "output_type": "stream",
     "text": [
      "skipped semisupervised-manglish/output-wav/The-Fashion-Weak-Podcast-Ep-46---Premium-Thirst-Trap-Tips-With-Michelle-Lee-(@mich8lee)-MCHDyLJDJrg.mp3-part-489.wav\n"
     ]
    },
    {
     "name": "stderr",
     "output_type": "stream",
     "text": [
      " 70%|██████▉   | 91244/130662 [36:15<09:42, 67.70it/s]"
     ]
    },
    {
     "name": "stdout",
     "output_type": "stream",
     "text": [
      "skipped semisupervised-manglish/output-wav/The-Fashion-Weak-Podcast-Ep-43---Thirst-Trapping-Simps-&-Loving-Your-Body-From-The-Outside-In-6R87P6YD2c4.mp3-part-430.wav\n"
     ]
    },
    {
     "name": "stderr",
     "output_type": "stream",
     "text": [
      " 70%|██████▉   | 91289/130662 [36:16<12:34, 52.19it/s]"
     ]
    },
    {
     "name": "stdout",
     "output_type": "stream",
     "text": [
      "skipped semisupervised-manglish/output-wav/Mamak-Sessions---Can-Guys-And-Girls-Be-Best-Friends-Is-it-ok-to-see-more-than-one-person-at-a-time-IixUPM11VMY.mp3-part-268.wav\n"
     ]
    },
    {
     "name": "stderr",
     "output_type": "stream",
     "text": [
      " 70%|██████▉   | 91305/130662 [36:17<10:27, 62.76it/s]"
     ]
    },
    {
     "name": "stdout",
     "output_type": "stream",
     "text": [
      "skipped semisupervised-manglish/output-wav/Make-Insurance-Sexy-Again-+-Best-Advice-to-Financial-Advisors-_-Singaporean-Podcast-#19-_-Leslie-Koh-vKpmE4ZFnGE.mp3-part-13.wav\n",
      "skipped semisupervised-manglish/output-wav/The-Fashion-Weak-Podcast-Ep-43A---Keeping-Fair-On-The-Fairway-With-Natalia-Ng-CSP1XPZu4YY.mp3-part-545.wav\n"
     ]
    },
    {
     "name": "stderr",
     "output_type": "stream",
     "text": [
      " 70%|██████▉   | 91341/130662 [36:17<09:52, 66.35it/s]"
     ]
    },
    {
     "name": "stdout",
     "output_type": "stream",
     "text": [
      "skipped semisupervised-manglish/output-wav/Mamak-Sessions-Ep10---Datuk-Nicol-David-is-RETIRING!-n3AR3nQEc7Y.mp3-part-521.wav\n"
     ]
    },
    {
     "name": "stderr",
     "output_type": "stream",
     "text": [
      " 70%|██████▉   | 91356/130662 [36:17<10:02, 65.21it/s]"
     ]
    },
    {
     "name": "stdout",
     "output_type": "stream",
     "text": [
      "skipped semisupervised-manglish/output-wav/Is-Cancel-Culture-Problematic-_-IMO-Ep.25-luGvazsVsHc.mp3-part-52.wav\n",
      "skipped semisupervised-manglish/output-wav/The-Fashion-Weak-Podcast-Ep-30---On-her-way-to-Supermodel-dom,-ASNTM--Cycle-5-Runner-Up-@shikingomez-otK3Gl_XX4c.mp3-part-419.wav\n"
     ]
    },
    {
     "name": "stderr",
     "output_type": "stream",
     "text": [
      " 70%|██████▉   | 91385/130662 [36:18<12:26, 52.60it/s]"
     ]
    },
    {
     "name": "stdout",
     "output_type": "stream",
     "text": [
      "skipped semisupervised-manglish/output-wav/The-Fashion-Weak-Podcast-Ep-40---tdcjTfzYSbk.mp3-part-1020.wav\n"
     ]
    },
    {
     "name": "stderr",
     "output_type": "stream",
     "text": [
      " 70%|██████▉   | 91399/130662 [36:18<11:33, 56.64it/s]"
     ]
    },
    {
     "name": "stdout",
     "output_type": "stream",
     "text": [
      "skipped semisupervised-manglish/output-wav/The-Fashion-Weak-Podcast-Ep-30---On-her-way-to-Supermodel-dom,-ASNTM--Cycle-5-Runner-Up-@shikingomez-otK3Gl_XX4c.mp3-part-513.wav\n"
     ]
    },
    {
     "name": "stderr",
     "output_type": "stream",
     "text": [
      " 70%|██████▉   | 91428/130662 [36:19<10:25, 62.75it/s]"
     ]
    },
    {
     "name": "stdout",
     "output_type": "stream",
     "text": [
      "skipped semisupervised-manglish/output-wav/Nicole-Choo-on-What-Went-Wrong-with-Ridhwan---Team-Titan-Show-#4-gW9sv26g4Io.mp3-part-21.wav\n"
     ]
    },
    {
     "name": "stderr",
     "output_type": "stream",
     "text": [
      " 70%|███████   | 91469/130662 [36:20<12:16, 53.23it/s]"
     ]
    },
    {
     "name": "stdout",
     "output_type": "stream",
     "text": [
      "skipped semisupervised-manglish/output-wav/Mamak-Sessions---How-Dating-Has-Changed-&-Tenet-ft-Elizabeth-Debicki-and-John-David-Washington-te2Be5GNNys.mp3-part-367.wav\n"
     ]
    },
    {
     "name": "stderr",
     "output_type": "stream",
     "text": [
      " 70%|███████   | 91577/130662 [36:22<10:39, 61.13it/s]"
     ]
    },
    {
     "name": "stdout",
     "output_type": "stream",
     "text": [
      "skipped semisupervised-manglish/output-wav/Mamak-Sessions---Do-You-Check-Your-Partner's-Text-Messages-Featuring-Lizz-Chloe-WJkSAHvYyqk.mp3-part-520.wav\n"
     ]
    },
    {
     "name": "stderr",
     "output_type": "stream",
     "text": [
      " 70%|███████   | 91620/130662 [36:22<09:46, 66.58it/s]"
     ]
    },
    {
     "name": "stdout",
     "output_type": "stream",
     "text": [
      "skipped semisupervised-manglish/output-wav/The-Fashion-Weak-Podcast-Ep-26---Chinese-New-Year-with-Stand-Up-Comedian-_-Fashionista-Kuah-Jenhan-Yv7uONh96tc.mp3-part-622.wav\n"
     ]
    },
    {
     "name": "stderr",
     "output_type": "stream",
     "text": [
      " 70%|███████   | 91644/130662 [36:23<11:39, 55.78it/s]"
     ]
    },
    {
     "name": "stdout",
     "output_type": "stream",
     "text": [
      "skipped semisupervised-manglish/output-wav/Should-Influencers-Be-Expected-To-Do-More-For-Society-(ft.-Celeste-Loh)-_-IMO-Ep.4-7izYax1bCwg.mp3-part-128.wav\n",
      "skipped semisupervised-manglish/output-wav/How-To-Be-A-Damn-Good-Software-Developer-+-Israel-Startup-Culture-_-Singaporean-Podcast-#11-_-Mark-cs2LkcSpNpw.mp3-part-124.wav\n"
     ]
    },
    {
     "name": "stderr",
     "output_type": "stream",
     "text": [
      " 70%|███████   | 91748/130662 [36:25<12:12, 53.13it/s]"
     ]
    },
    {
     "name": "stdout",
     "output_type": "stream",
     "text": [
      "skipped semisupervised-manglish/output-wav/Ben-Kheng-Reflects-On-The-Sam-Willows,-Anxiety,-And-Religion-_-HTHT---Ben-Kheng-X4QapKCCneQ.mp3-part-222.wav\n"
     ]
    },
    {
     "name": "stderr",
     "output_type": "stream",
     "text": [
      " 70%|███████   | 91769/130662 [36:25<11:37, 55.76it/s]"
     ]
    },
    {
     "name": "stdout",
     "output_type": "stream",
     "text": [
      "skipped semisupervised-manglish/output-wav/Mamak-Sessions---Blaming-Yourself-For-Your-Parents'-Divorce,-And-How-Our-Parents-Punish-Us-x8Gl_zIC9CQ.mp3-part-47.wav\n"
     ]
    },
    {
     "name": "stderr",
     "output_type": "stream",
     "text": [
      " 70%|███████   | 91796/130662 [36:25<10:41, 60.63it/s]"
     ]
    },
    {
     "name": "stdout",
     "output_type": "stream",
     "text": [
      "skipped semisupervised-manglish/output-wav/The-Fashion-Weak-Podcast-Ep-29---Valentines-Day-With-Becca-Lee-and-Leonard-Chua-UWm1ESejkzs.mp3-part-562.wav\n"
     ]
    },
    {
     "name": "stderr",
     "output_type": "stream",
     "text": [
      " 70%|███████   | 91938/130662 [36:28<10:46, 59.85it/s]"
     ]
    },
    {
     "name": "stdout",
     "output_type": "stream",
     "text": [
      "skipped semisupervised-manglish/output-wav/The-Fashion-Weak-Podcast-Ep-43A---Keeping-Fair-On-The-Fairway-With-Natalia-Ng-CSP1XPZu4YY.mp3-part-365.wav\n"
     ]
    },
    {
     "name": "stderr",
     "output_type": "stream",
     "text": [
      " 70%|███████   | 91953/130662 [36:28<10:22, 62.18it/s]"
     ]
    },
    {
     "name": "stdout",
     "output_type": "stream",
     "text": [
      "skipped semisupervised-manglish/output-wav/The-Fashion-Weak-Podcast-Ep-19---Butt-Stuff-&-Actual-Fashion-With-Zane-Gan-jhLgzHQnAHU.mp3-part-59.wav\n"
     ]
    },
    {
     "name": "stderr",
     "output_type": "stream",
     "text": [
      " 70%|███████   | 91995/130662 [36:29<15:03, 42.79it/s]"
     ]
    },
    {
     "name": "stdout",
     "output_type": "stream",
     "text": [
      "skipped semisupervised-manglish/output-wav/Mamak-Sessions---The-Asian-Mom-Of-The-Internet-ft-Tata-Wyb6i3GoJv4.mp3-part-65.wav\n"
     ]
    },
    {
     "name": "stderr",
     "output_type": "stream",
     "text": [
      " 70%|███████   | 92040/130662 [36:30<11:22, 56.60it/s]"
     ]
    },
    {
     "name": "stdout",
     "output_type": "stream",
     "text": [
      "skipped semisupervised-manglish/output-wav/Mamak-Sessions-Podcast---Committing-Suicide,-Mental-Health-And-How-To-Seek-Help-EHlGktcfDZc.mp3-part-17.wav\n",
      "skipped semisupervised-manglish/output-wav/8-Wheels-Vs-4-Wheels-With-Sukeats-From-Wheel-Love---The-Fashion-Weak-Podcast-ep-12-fgaCmnMdZ0c.mp3-part-85.wav\n",
      "skipped semisupervised-manglish/output-wav/The-Fashion-Weak-Podcast-Ep-38---TikTok-Royalty-Roshan-Jeet-aka-Roshannnn1-lPnRg9UsP0M.mp3-part-836.wav\n"
     ]
    },
    {
     "name": "stderr",
     "output_type": "stream",
     "text": [
      " 70%|███████   | 92055/130662 [36:30<10:35, 60.73it/s]"
     ]
    },
    {
     "name": "stdout",
     "output_type": "stream",
     "text": [
      "skipped semisupervised-manglish/output-wav/The-Fashion-Weak-Podcast-Ep-32---Getting-Surprised-Reading-Melissa-Campbell's-(@heymelbelle)-IG-DMs-mJuKUwFpDgI.mp3-part-64.wav\n",
      "skipped semisupervised-manglish/output-wav/Mamak-Sessions---Nasi-Lemak-Sneakers-zLEmAKdG9vY.mp3-part-19.wav\n"
     ]
    },
    {
     "name": "stderr",
     "output_type": "stream",
     "text": [
      " 70%|███████   | 92092/130662 [36:31<14:39, 43.84it/s]"
     ]
    },
    {
     "name": "stdout",
     "output_type": "stream",
     "text": [
      "skipped semisupervised-manglish/output-wav/Mamak-Sessions---How-Do-You-Deal-With-Rumors-ft-Elizabeth-Tan-Rkvd5p3I11M.mp3-part-111.wav\n"
     ]
    },
    {
     "name": "stderr",
     "output_type": "stream",
     "text": [
      " 70%|███████   | 92105/130662 [36:31<12:34, 51.13it/s]"
     ]
    },
    {
     "name": "stdout",
     "output_type": "stream",
     "text": [
      "skipped semisupervised-manglish/output-wav/Thinking-Long-And-Hard-With-@prakashdanielcomedy---The-Fashion-Weak-Podcast-Episode-13-UryaihXnjBk.mp3-part-253.wav\n"
     ]
    },
    {
     "name": "stderr",
     "output_type": "stream",
     "text": [
      " 71%|███████   | 92192/130662 [36:33<12:03, 53.19it/s]"
     ]
    },
    {
     "name": "stdout",
     "output_type": "stream",
     "text": [
      "skipped semisupervised-manglish/output-wav/Exposed!-Our-Favourite-Night-Activity-We-Miss-The-Most!-_-The-Thirsty-Sisters-#5-TxeBIVuXRHM.mp3-part-358.wav\n"
     ]
    },
    {
     "name": "stderr",
     "output_type": "stream",
     "text": [
      " 71%|███████   | 92242/130662 [36:33<09:47, 65.44it/s]"
     ]
    },
    {
     "name": "stdout",
     "output_type": "stream",
     "text": [
      "skipped semisupervised-manglish/output-wav/The-Fashion-Weak-Podcast-Ep-32---Getting-Surprised-Reading-Melissa-Campbell's-(@heymelbelle)-IG-DMs-mJuKUwFpDgI.mp3-part-308.wav\n"
     ]
    },
    {
     "name": "stderr",
     "output_type": "stream",
     "text": [
      " 71%|███████   | 92258/130662 [36:34<09:11, 69.69it/s]"
     ]
    },
    {
     "name": "stdout",
     "output_type": "stream",
     "text": [
      "skipped semisupervised-manglish/output-wav/The-Fashion-Weak-Podcast-Ep-43---Thirst-Trapping-Simps-&-Loving-Your-Body-From-The-Outside-In-6R87P6YD2c4.mp3-part-602.wav\n",
      "skipped semisupervised-manglish/output-wav/Do-You-Know-Your-Attachment-Style!-_-The-Thirsty-Sisters-#21-HKnXUGo_H2U.mp3-part-69.wav\n"
     ]
    },
    {
     "name": "stderr",
     "output_type": "stream",
     "text": [
      " 71%|███████   | 92367/130662 [36:36<12:30, 51.00it/s]"
     ]
    },
    {
     "name": "stdout",
     "output_type": "stream",
     "text": [
      "skipped semisupervised-manglish/output-wav/The-Fashion-Weak-Podcast-Ep-43A---Keeping-Fair-On-The-Fairway-With-Natalia-Ng-CSP1XPZu4YY.mp3-part-721.wav\n",
      "skipped semisupervised-manglish/output-wav/Mamak-Sessions---From-A-Transport-Assistant-to-a-Multi-Award-Winning-Film-Director-r6f3OoHVkgU.mp3-part-402.wav\n"
     ]
    },
    {
     "name": "stderr",
     "output_type": "stream",
     "text": [
      " 71%|███████   | 92399/130662 [36:36<10:24, 61.25it/s]"
     ]
    },
    {
     "name": "stdout",
     "output_type": "stream",
     "text": [
      "skipped semisupervised-manglish/output-wav/Mamak-Sessions---'Chinese-Whispers'-CXnW4hJDp54.mp3-part-198.wav\n"
     ]
    },
    {
     "name": "stderr",
     "output_type": "stream",
     "text": [
      " 71%|███████   | 92500/130662 [36:38<09:58, 63.75it/s]"
     ]
    },
    {
     "name": "stdout",
     "output_type": "stream",
     "text": [
      "skipped semisupervised-manglish/output-wav/Why-Human-Resources-Matters-+-Life-as-a-Singapore-Solopreneur-_-Lauren-Ong-_-Singaporean-Podcast-#20-YtCn4hNLk7o.mp3-part-342.wav\n"
     ]
    },
    {
     "name": "stderr",
     "output_type": "stream",
     "text": [
      " 71%|███████   | 92524/130662 [36:38<09:42, 65.51it/s]"
     ]
    },
    {
     "name": "stdout",
     "output_type": "stream",
     "text": [
      "skipped semisupervised-manglish/output-wav/Mamak-Sessions---Are-We-Safe-From-The-Wuhan-Virus-and-Are-Spiritual-Healers-Scammers-skGDf57Q9xs.mp3-part-113.wav\n"
     ]
    },
    {
     "name": "stderr",
     "output_type": "stream",
     "text": [
      " 71%|███████   | 92574/130662 [36:39<11:26, 55.46it/s]"
     ]
    },
    {
     "name": "stdout",
     "output_type": "stream",
     "text": [
      "skipped semisupervised-manglish/output-wav/The-Fashion-Weak-Podcast-EP-36---Why-guys-REALLY-go-for-spin-class-with-Oxygen-Cycle-RqG0tHR9D1g.mp3-part-528.wav\n"
     ]
    },
    {
     "name": "stderr",
     "output_type": "stream",
     "text": [
      " 71%|███████   | 92618/130662 [36:40<09:38, 65.79it/s]"
     ]
    },
    {
     "name": "stdout",
     "output_type": "stream",
     "text": [
      "skipped semisupervised-manglish/output-wav/Being-A-Single-Divorced-Woman-At-32-_-The-Thirsty-Sisters-#11-8DMyfcjyrZQ.mp3-part-187.wav\n"
     ]
    },
    {
     "name": "stderr",
     "output_type": "stream",
     "text": [
      " 71%|███████   | 92775/130662 [36:43<09:50, 64.19it/s]"
     ]
    },
    {
     "name": "stdout",
     "output_type": "stream",
     "text": [
      "skipped semisupervised-manglish/output-wav/Mamak-Sessions---Do-You-Check-Your-Partner's-Text-Messages-Featuring-Lizz-Chloe-WJkSAHvYyqk.mp3-part-156.wav\n",
      "skipped semisupervised-manglish/output-wav/Mamak-Sessions---'Chinese-Whispers'-CXnW4hJDp54.mp3-part-34.wav\n"
     ]
    },
    {
     "name": "stderr",
     "output_type": "stream",
     "text": [
      " 71%|███████   | 92883/130662 [36:45<09:58, 63.17it/s]"
     ]
    },
    {
     "name": "stdout",
     "output_type": "stream",
     "text": [
      "skipped semisupervised-manglish/output-wav/Mamak-Sessions---Can-Guys-And-Girls-Be-Best-Friends-Is-it-ok-to-see-more-than-one-person-at-a-time-IixUPM11VMY.mp3-part-311.wav\n"
     ]
    },
    {
     "name": "stderr",
     "output_type": "stream",
     "text": [
      " 71%|███████▏  | 93120/130662 [36:49<09:54, 63.13it/s]"
     ]
    },
    {
     "name": "stdout",
     "output_type": "stream",
     "text": [
      "skipped semisupervised-manglish/output-wav/The-Fashion-Weak-Podcast-Ep-39---Talking-Turn-On's-and-Fashion-Bulk-Buy-Deals-With-Tata-Wanqian-WSVo-qvu1GQ.mp3-part-694.wav\n"
     ]
    },
    {
     "name": "stderr",
     "output_type": "stream",
     "text": [
      " 71%|███████▏  | 93177/130662 [36:50<11:43, 53.30it/s]"
     ]
    },
    {
     "name": "stdout",
     "output_type": "stream",
     "text": [
      "skipped semisupervised-manglish/output-wav/The-Fashion-Weak-Podcast-Ep-43---Thirst-Trapping-Simps-&-Loving-Your-Body-From-The-Outside-In-6R87P6YD2c4.mp3-part-44.wav\n"
     ]
    },
    {
     "name": "stderr",
     "output_type": "stream",
     "text": [
      " 71%|███████▏  | 93199/130662 [36:51<09:58, 62.60it/s]"
     ]
    },
    {
     "name": "stdout",
     "output_type": "stream",
     "text": [
      "skipped semisupervised-manglish/output-wav/The-Fashion-Weak-Podcast-Ep-32---Getting-Surprised-Reading-Melissa-Campbell's-(@heymelbelle)-IG-DMs-mJuKUwFpDgI.mp3-part-186.wav\n"
     ]
    },
    {
     "name": "stderr",
     "output_type": "stream",
     "text": [
      " 71%|███████▏  | 93368/130662 [36:54<10:37, 58.47it/s]"
     ]
    },
    {
     "name": "stdout",
     "output_type": "stream",
     "text": [
      "skipped semisupervised-manglish/output-wav/The-Fashion-Weak-Podcast-Ep24---Penang-Boys-@tunway-瘦虎-&-@Shawnduabui-肥龍-Talk-Zap-Fan-&-Sneakers-dykz_vuzJh0.mp3-part-752.wav\n"
     ]
    },
    {
     "name": "stderr",
     "output_type": "stream",
     "text": [
      " 71%|███████▏  | 93382/130662 [36:54<10:01, 62.00it/s]"
     ]
    },
    {
     "name": "stdout",
     "output_type": "stream",
     "text": [
      "skipped semisupervised-manglish/output-wav/Are-We-Still-Sexualising-Women-in-2020-_-Thirsty-Sisters-#13-zHC1MPeSP34.mp3-part-24.wav\n"
     ]
    },
    {
     "name": "stderr",
     "output_type": "stream",
     "text": [
      " 72%|███████▏  | 93449/130662 [36:55<11:12, 55.33it/s]"
     ]
    },
    {
     "name": "stdout",
     "output_type": "stream",
     "text": [
      "skipped semisupervised-manglish/output-wav/The-Fashion-Weak-Podcast-Ep-22---Why-Fashion-School-Didn't-Work-Out-For-Zee-Avi-woDYSE37_rI.mp3-part-460.wav\n"
     ]
    },
    {
     "name": "stderr",
     "output_type": "stream",
     "text": [
      " 72%|███████▏  | 93638/130662 [36:59<11:06, 55.53it/s]"
     ]
    },
    {
     "name": "stdout",
     "output_type": "stream",
     "text": [
      "skipped semisupervised-manglish/output-wav/@Juanitadr-shows-us-what-Arnold's-Tongue-Can-Do---The-Fashion-Weak-Podcast-Episode-10-N5EfPvQKW90.mp3-part-226.wav\n"
     ]
    },
    {
     "name": "stderr",
     "output_type": "stream",
     "text": [
      " 72%|███████▏  | 93689/130662 [36:59<09:07, 67.58it/s]"
     ]
    },
    {
     "name": "stdout",
     "output_type": "stream",
     "text": [
      "skipped semisupervised-manglish/output-wav/Mamak-Sessions-Ep6---Names-People-Always-Mispronounce-&-Facebook-Is-A-Spy-8LuihYdx0FQ.mp3-part-32.wav\n"
     ]
    },
    {
     "name": "stderr",
     "output_type": "stream",
     "text": [
      " 72%|███████▏  | 93734/130662 [37:00<10:17, 59.77it/s]"
     ]
    },
    {
     "name": "stdout",
     "output_type": "stream",
     "text": [
      "skipped semisupervised-manglish/output-wav/Mamak-Sessions-Ep6---Names-People-Always-Mispronounce-&-Facebook-Is-A-Spy-8LuihYdx0FQ.mp3-part-148.wav\n"
     ]
    },
    {
     "name": "stderr",
     "output_type": "stream",
     "text": [
      " 72%|███████▏  | 93770/130662 [37:01<09:44, 63.08it/s]"
     ]
    },
    {
     "name": "stdout",
     "output_type": "stream",
     "text": [
      "skipped semisupervised-manglish/output-wav/Burning-Hot-Fever!-4-Doctors-Tried-To-Save-Me-In-The-Hospital!-_-The-Thirsty-Sisters-#6-Jw7B8efygWI.mp3-part-118.wav\n"
     ]
    },
    {
     "name": "stderr",
     "output_type": "stream",
     "text": [
      " 72%|███████▏  | 93817/130662 [37:02<09:39, 63.63it/s]"
     ]
    },
    {
     "name": "stdout",
     "output_type": "stream",
     "text": [
      "skipped semisupervised-manglish/output-wav/The-Fashion-Weak-Podcast-Ep-38---TikTok-Royalty-Roshan-Jeet-aka-Roshannnn1-lPnRg9UsP0M.mp3-part-616.wav\n",
      "skipped semisupervised-manglish/output-wav/Dance-Moves-To-Pick-Up-Girls-At-The-Club-With-Adidas-Creator-Maybelline-Wong-(@definitelyMayb_)-vRnkHzyyBc4.mp3-part-629.wav\n",
      "skipped semisupervised-manglish/output-wav/@Juanitadr-shows-us-what-Arnold's-Tongue-Can-Do---The-Fashion-Weak-Podcast-Episode-10-N5EfPvQKW90.mp3-part-479.wav\n"
     ]
    },
    {
     "name": "stderr",
     "output_type": "stream",
     "text": [
      " 72%|███████▏  | 93847/130662 [37:02<09:54, 61.93it/s]"
     ]
    },
    {
     "name": "stdout",
     "output_type": "stream",
     "text": [
      "skipped semisupervised-manglish/output-wav/Grown-Up-Flex-With-YouTube-Superstar-@JinnyBoy---The-Fashion-Weak-Podcast-Episode-9-7wiSVCBFmFc.mp3-part-233.wav\n"
     ]
    },
    {
     "name": "stderr",
     "output_type": "stream",
     "text": [
      " 72%|███████▏  | 93869/130662 [37:03<09:31, 64.43it/s]"
     ]
    },
    {
     "name": "stdout",
     "output_type": "stream",
     "text": [
      "skipped semisupervised-manglish/output-wav/Mamak-Sessions-Ep9---Sibling-Rivalry-ft-Julian-Yee-670FyeJhnps.mp3-part-395.wav\n"
     ]
    },
    {
     "name": "stderr",
     "output_type": "stream",
     "text": [
      " 72%|███████▏  | 94004/130662 [37:05<08:30, 71.79it/s]"
     ]
    },
    {
     "name": "stdout",
     "output_type": "stream",
     "text": [
      "skipped semisupervised-manglish/output-wav/Our-Must-Watch-Movies-_-IMO-Ep.28-281TVct4AvE.mp3-part-116.wav\n",
      "skipped semisupervised-manglish/output-wav/Mamak-Sessions---Coming-Out-ft.-Nigel-Chin-and-Magnum-79ax7ZQss5M.mp3-part-24.wav\n",
      "skipped semisupervised-manglish/output-wav/Mamak-Sessions-Podcast---Girl-Gets-Caned-For-Calling-her-Teacher-'AH-GUA'-PRN5UrsDF6w.mp3-part-129.wav\n"
     ]
    },
    {
     "name": "stderr",
     "output_type": "stream",
     "text": [
      " 72%|███████▏  | 94055/130662 [37:06<10:42, 56.97it/s]"
     ]
    },
    {
     "name": "stdout",
     "output_type": "stream",
     "text": [
      "skipped semisupervised-manglish/output-wav/Mamak-Sessions---Getting-Married-in-Vegas,-and-Sugar-Babies-ft.-Dennis-Yin-Cq6Yjwsu63U.mp3-part-85.wav\n"
     ]
    },
    {
     "name": "stderr",
     "output_type": "stream",
     "text": [
      " 72%|███████▏  | 94077/130662 [37:06<09:38, 63.20it/s]"
     ]
    },
    {
     "name": "stdout",
     "output_type": "stream",
     "text": [
      "skipped semisupervised-manglish/output-wav/The-Fashion-Weak-Podcast-Ep-40---tdcjTfzYSbk.mp3-part-44.wav\n",
      "skipped semisupervised-manglish/output-wav/Conversations-with-a-Young-Singaporean-CEO--Gao-Fei,-CEO-of-LearnSeeker-_-Singaporean-Podcast-#13--b9YHjghfd2E.mp3-part-74.wav\n"
     ]
    },
    {
     "name": "stderr",
     "output_type": "stream",
     "text": [
      " 72%|███████▏  | 94113/130662 [37:07<09:33, 63.71it/s]"
     ]
    },
    {
     "name": "stdout",
     "output_type": "stream",
     "text": [
      "skipped semisupervised-manglish/output-wav/The-Fashion-Weak-Podcast-Ep-39---Talking-Turn-On's-and-Fashion-Bulk-Buy-Deals-With-Tata-Wanqian-WSVo-qvu1GQ.mp3-part-51.wav\n"
     ]
    },
    {
     "name": "stderr",
     "output_type": "stream",
     "text": [
      " 72%|███████▏  | 94177/130662 [37:08<09:35, 63.35it/s]"
     ]
    },
    {
     "name": "stdout",
     "output_type": "stream",
     "text": [
      "skipped semisupervised-manglish/output-wav/Why-Blockchain-&-Crypo-Matters-_-Singaporean-Podcast-#15-_-Royal-Pek--2d7wzvNOCE.mp3-part-850.wav\n",
      "skipped semisupervised-manglish/output-wav/The-Fashion-Weak-Podcast-Ep-23---Alicia-Amin-On-Being-A-'Malay'-Model-In-2019-3pKA5NvTCOA.mp3-part-608.wav\n"
     ]
    },
    {
     "name": "stderr",
     "output_type": "stream",
     "text": [
      " 72%|███████▏  | 94201/130662 [37:08<08:44, 69.45it/s]"
     ]
    },
    {
     "name": "stdout",
     "output_type": "stream",
     "text": [
      "skipped semisupervised-manglish/output-wav/The-Fashion-Weak-Podcast-Ep-40---tdcjTfzYSbk.mp3-part-548.wav\n",
      "skipped semisupervised-manglish/output-wav/The-Fashion-Weak-Podcast-Ep-45---Finessing-A-New-Phone-Every-Year-With-Mamak-Rap-King-Jiven-Sekar-VlovwtVYuw0.mp3-part-209.wav\n"
     ]
    },
    {
     "name": "stderr",
     "output_type": "stream",
     "text": [
      " 72%|███████▏  | 94280/130662 [37:10<09:39, 62.83it/s]"
     ]
    },
    {
     "name": "stdout",
     "output_type": "stream",
     "text": [
      "skipped semisupervised-manglish/output-wav/Mamak-Sessions-Podcast---A-Dog-Was-Slashed-In-The-Mouth-And-Abused,-But-This-Kind-Soul-Saved-It-FNfbmh93DFo.mp3-part-420.wav\n",
      "skipped semisupervised-manglish/output-wav/Talking-Sneakers-&-Strong-Sperm-With-@bryanbotakchin---The-Fashion-Weak-Podcast-Episode-11-iugevNPFp2Y.mp3-part-215.wav\n"
     ]
    },
    {
     "name": "stderr",
     "output_type": "stream",
     "text": [
      " 72%|███████▏  | 94339/130662 [37:11<09:28, 63.86it/s]"
     ]
    },
    {
     "name": "stdout",
     "output_type": "stream",
     "text": [
      "skipped semisupervised-manglish/output-wav/Mamak-Sessions---Girls-Are-Such-Complicated-Lil-Creatures-feat.-Talitha.-I2BaN8cm6NY.mp3-part-90.wav\n",
      "skipped semisupervised-manglish/output-wav/The-Fashion-Weak-Podcast-Ep-46---Premium-Thirst-Trap-Tips-With-Michelle-Lee-(@mich8lee)-MCHDyLJDJrg.mp3-part-844.wav\n",
      "skipped semisupervised-manglish/output-wav/Mamak-Sessions-Ep2---Bringing-A-Girl-Home-For-The-First-Time-Jn2oeTajYCw.mp3-part-206.wav\n",
      "skipped semisupervised-manglish/output-wav/Dance-Moves-To-Pick-Up-Girls-At-The-Club-With-Adidas-Creator-Maybelline-Wong-(@definitelyMayb_)-vRnkHzyyBc4.mp3-part-692.wav\n"
     ]
    },
    {
     "name": "stderr",
     "output_type": "stream",
     "text": [
      " 72%|███████▏  | 94482/130662 [37:13<08:51, 68.02it/s]"
     ]
    },
    {
     "name": "stdout",
     "output_type": "stream",
     "text": [
      "skipped semisupervised-manglish/output-wav/Mamak-Sessions---Here's-What-You-Should-Know-About-Buying-Properties-ZcVRJSDCof0.mp3-part-309.wav\n"
     ]
    },
    {
     "name": "stderr",
     "output_type": "stream",
     "text": [
      " 72%|███████▏  | 94497/130662 [37:14<12:53, 46.74it/s]"
     ]
    },
    {
     "name": "stdout",
     "output_type": "stream",
     "text": [
      "skipped semisupervised-manglish/output-wav/Mamak-Sessions---Getting-Married-in-Vegas,-and-Sugar-Babies-ft.-Dennis-Yin-Cq6Yjwsu63U.mp3-part-36.wav\n"
     ]
    },
    {
     "name": "stderr",
     "output_type": "stream",
     "text": [
      " 72%|███████▏  | 94520/130662 [37:14<10:25, 57.82it/s]"
     ]
    },
    {
     "name": "stdout",
     "output_type": "stream",
     "text": [
      "skipped semisupervised-manglish/output-wav/Mamak-Sessions---Do-You-Check-Your-Partner's-Text-Messages-Featuring-Lizz-Chloe-WJkSAHvYyqk.mp3-part-388.wav\n"
     ]
    },
    {
     "name": "stderr",
     "output_type": "stream",
     "text": [
      " 72%|███████▏  | 94549/130662 [37:15<09:22, 64.24it/s]"
     ]
    },
    {
     "name": "stdout",
     "output_type": "stream",
     "text": [
      "skipped semisupervised-manglish/output-wav/How-To-Be-A-Damn-Good-Software-Developer-+-Israel-Startup-Culture-_-Singaporean-Podcast-#11-_-Mark-cs2LkcSpNpw.mp3-part-155.wav\n"
     ]
    },
    {
     "name": "stderr",
     "output_type": "stream",
     "text": [
      " 72%|███████▏  | 94588/130662 [37:15<08:10, 73.52it/s]"
     ]
    },
    {
     "name": "stdout",
     "output_type": "stream",
     "text": [
      "skipped semisupervised-manglish/output-wav/Mamak-Sessions-Ep6---Names-People-Always-Mispronounce-&-Facebook-Is-A-Spy-8LuihYdx0FQ.mp3-part-412.wav\n"
     ]
    },
    {
     "name": "stderr",
     "output_type": "stream",
     "text": [
      " 72%|███████▏  | 94612/130662 [37:16<10:39, 56.37it/s]"
     ]
    },
    {
     "name": "stdout",
     "output_type": "stream",
     "text": [
      "skipped semisupervised-manglish/output-wav/The-Fashion-Weak-Podcast-Ep-33---Lingerie-&-Bikini-Talk-With-Talitha-Tan-(@talithabe)-_7Un0q6a9zg.mp3-part-50.wav\n",
      "skipped semisupervised-manglish/output-wav/The-Fashion-Weak-Podcast-EP-27----Peter-Davis-talks-cars,-mixed-rice-and-some-fashion.-rxmMRAzLRJ0.mp3-part-83.wav\n"
     ]
    },
    {
     "name": "stderr",
     "output_type": "stream",
     "text": [
      " 72%|███████▏  | 94627/130662 [37:16<09:40, 62.13it/s]"
     ]
    },
    {
     "name": "stdout",
     "output_type": "stream",
     "text": [
      "skipped semisupervised-manglish/output-wav/The-Fashion-Weak-Podcast-Ep-30---On-her-way-to-Supermodel-dom,-ASNTM--Cycle-5-Runner-Up-@shikingomez-otK3Gl_XX4c.mp3-part-565.wav\n"
     ]
    },
    {
     "name": "stderr",
     "output_type": "stream",
     "text": [
      " 73%|███████▎  | 94750/130662 [37:18<09:51, 60.75it/s]"
     ]
    },
    {
     "name": "stdout",
     "output_type": "stream",
     "text": [
      "skipped semisupervised-manglish/output-wav/The-Fashion-Weak-Podcast-Ep-39---Talking-Turn-On's-and-Fashion-Bulk-Buy-Deals-With-Tata-Wanqian-WSVo-qvu1GQ.mp3-part-202.wav\n"
     ]
    },
    {
     "name": "stderr",
     "output_type": "stream",
     "text": [
      " 73%|███████▎  | 94787/130662 [37:19<08:53, 67.21it/s]"
     ]
    },
    {
     "name": "stdout",
     "output_type": "stream",
     "text": [
      "skipped semisupervised-manglish/output-wav/Mamak-Sessions-Ep10---Datuk-Nicol-David-is-RETIRING!-n3AR3nQEc7Y.mp3-part-39.wav\n"
     ]
    },
    {
     "name": "stderr",
     "output_type": "stream",
     "text": [
      " 73%|███████▎  | 94838/130662 [37:20<10:10, 58.67it/s]"
     ]
    },
    {
     "name": "stdout",
     "output_type": "stream",
     "text": [
      "skipped semisupervised-manglish/output-wav/The-Fashion-Weak-Podcast-Ep-43---Thirst-Trapping-Simps-&-Loving-Your-Body-From-The-Outside-In-6R87P6YD2c4.mp3-part-229.wav\n",
      "skipped semisupervised-manglish/output-wav/The-Fashion-Weak-Podcast-Ep-43A---Keeping-Fair-On-The-Fairway-With-Natalia-Ng-CSP1XPZu4YY.mp3-part-424.wav\n"
     ]
    },
    {
     "name": "stderr",
     "output_type": "stream",
     "text": [
      " 73%|███████▎  | 94949/130662 [37:22<09:24, 63.22it/s]"
     ]
    },
    {
     "name": "stdout",
     "output_type": "stream",
     "text": [
      "skipped semisupervised-manglish/output-wav/How-to-Start-a-Podcast-+-Why-You-Should-Enjoy-The-Process_-Singaporean-Podcast#28-_-Nicholas-Patrick-uaSWgcKn0RM.mp3-part-65.wav\n",
      "skipped semisupervised-manglish/output-wav/Butts-and-D_ck-Pics,-MILF-Hunting-Part-2-With-Nor-Soraya---The-Fashion-Weak-Podcast-Episode-5-NCiDUw4mQgE.mp3-part-342.wav\n"
     ]
    },
    {
     "name": "stderr",
     "output_type": "stream",
     "text": [
      " 73%|███████▎  | 94971/130662 [37:22<09:42, 61.29it/s]"
     ]
    },
    {
     "name": "stdout",
     "output_type": "stream",
     "text": [
      "skipped semisupervised-manglish/output-wav/Mamak-Sessions-Ep6---Names-People-Always-Mispronounce-&-Facebook-Is-A-Spy-8LuihYdx0FQ.mp3-part-127.wav\n"
     ]
    },
    {
     "name": "stderr",
     "output_type": "stream",
     "text": [
      " 73%|███████▎  | 95264/130662 [37:28<13:12, 44.64it/s]"
     ]
    },
    {
     "name": "stdout",
     "output_type": "stream",
     "text": [
      "skipped semisupervised-manglish/output-wav/Mamak-Sessions---My-Asian-Parents-Were-Initially-Ashamed-Of-My-Career-NqCp8Csl7PE.mp3-part-153.wav\n",
      "skipped semisupervised-manglish/output-wav/Mamak-Sessions---Nasi-Lemak-Sneakers-zLEmAKdG9vY.mp3-part-301.wav\n"
     ]
    },
    {
     "name": "stderr",
     "output_type": "stream",
     "text": [
      " 73%|███████▎  | 95303/130662 [37:28<09:21, 63.02it/s]"
     ]
    },
    {
     "name": "stdout",
     "output_type": "stream",
     "text": [
      "skipped semisupervised-manglish/output-wav/Mamak-Sessions---Blaming-Yourself-For-Your-Parents'-Divorce,-And-How-Our-Parents-Punish-Us-x8Gl_zIC9CQ.mp3-part-323.wav\n"
     ]
    },
    {
     "name": "stderr",
     "output_type": "stream",
     "text": [
      " 73%|███████▎  | 95326/130662 [37:28<08:29, 69.29it/s]"
     ]
    },
    {
     "name": "stdout",
     "output_type": "stream",
     "text": [
      "skipped semisupervised-manglish/output-wav/The-Fashion-Weak-Podcast-EP-41---Investment-Tips-For-Chee-Seng-With-Fuad-&-Shaq-From-Kyoto-Protocol-eWNQhDNoSsY.mp3-part-837.wav\n",
      "skipped semisupervised-manglish/output-wav/The-Fashion-Weak-Podcast-Ep-45---Finessing-A-New-Phone-Every-Year-With-Mamak-Rap-King-Jiven-Sekar-VlovwtVYuw0.mp3-part-176.wav\n",
      "skipped semisupervised-manglish/output-wav/The-Fashion-Weak-Podcast-Ep-33---Lingerie-&-Bikini-Talk-With-Talitha-Tan-(@talithabe)-_7Un0q6a9zg.mp3-part-247.wav\n"
     ]
    },
    {
     "name": "stderr",
     "output_type": "stream",
     "text": [
      " 73%|███████▎  | 95390/130662 [37:30<09:58, 58.91it/s]"
     ]
    },
    {
     "name": "stdout",
     "output_type": "stream",
     "text": [
      "skipped semisupervised-manglish/output-wav/Click-Bait-And-24k-Shoe-Shopping-With-Harvinth-Skin---The-Fashion-Weak-Podcast-Episode-08-adq-khQo2eQ.mp3-part-144.wav\n",
      "skipped semisupervised-manglish/output-wav/The-Fashion-Weak-Podcast-Ep-30---On-her-way-to-Supermodel-dom,-ASNTM--Cycle-5-Runner-Up-@shikingomez-otK3Gl_XX4c.mp3-part-364.wav\n"
     ]
    },
    {
     "name": "stderr",
     "output_type": "stream",
     "text": [
      " 73%|███████▎  | 95412/130662 [37:30<09:01, 65.08it/s]"
     ]
    },
    {
     "name": "stdout",
     "output_type": "stream",
     "text": [
      "skipped semisupervised-manglish/output-wav/The-Fashion-Weak-Podcast-Ep-40---tdcjTfzYSbk.mp3-part-1069.wav\n",
      "skipped semisupervised-manglish/output-wav/Musings-of-the-OG-Sneaker-Uncle-@bungactiongirl---The-Fashion-Weak-Podcast-Episode-3-EjzkQeWKwQw.mp3-part-97.wav\n"
     ]
    },
    {
     "name": "stderr",
     "output_type": "stream",
     "text": [
      " 73%|███████▎  | 95442/130662 [37:30<09:11, 63.90it/s]"
     ]
    },
    {
     "name": "stdout",
     "output_type": "stream",
     "text": [
      "skipped semisupervised-manglish/output-wav/Mamak-Sessions---Quitting-The-Medical-Line-To-Make-People-Laugh-ft-Dr.-Jason-Leong-FcD9MpeWqEI.mp3-part-347.wav\n",
      "skipped semisupervised-manglish/output-wav/Mamak-Sessions-Ep6---Names-People-Always-Mispronounce-&-Facebook-Is-A-Spy-8LuihYdx0FQ.mp3-part-408.wav\n"
     ]
    },
    {
     "name": "stderr",
     "output_type": "stream",
     "text": [
      " 73%|███████▎  | 95479/130662 [37:31<09:36, 60.98it/s]"
     ]
    },
    {
     "name": "stdout",
     "output_type": "stream",
     "text": [
      "skipped semisupervised-manglish/output-wav/Ben-Kheng-Reflects-On-The-Sam-Willows,-Anxiety,-And-Religion-_-HTHT---Ben-Kheng-X4QapKCCneQ.mp3-part-573.wav\n"
     ]
    },
    {
     "name": "stderr",
     "output_type": "stream",
     "text": [
      " 73%|███████▎  | 95494/130662 [37:31<09:21, 62.65it/s]"
     ]
    },
    {
     "name": "stdout",
     "output_type": "stream",
     "text": [
      "skipped semisupervised-manglish/output-wav/Butts-and-D_ck-Pics,-MILF-Hunting-Part-2-With-Nor-Soraya---The-Fashion-Weak-Podcast-Episode-5-NCiDUw4mQgE.mp3-part-62.wav\n"
     ]
    },
    {
     "name": "stderr",
     "output_type": "stream",
     "text": [
      " 73%|███████▎  | 95524/130662 [37:32<08:43, 67.08it/s]"
     ]
    },
    {
     "name": "stdout",
     "output_type": "stream",
     "text": [
      "skipped semisupervised-manglish/output-wav/Exposed!-Our-Favourite-Night-Activity-We-Miss-The-Most!-_-The-Thirsty-Sisters-#5-TxeBIVuXRHM.mp3-part-104.wav\n"
     ]
    },
    {
     "name": "stderr",
     "output_type": "stream",
     "text": [
      " 73%|███████▎  | 95539/130662 [37:32<08:52, 66.02it/s]"
     ]
    },
    {
     "name": "stdout",
     "output_type": "stream",
     "text": [
      "skipped semisupervised-manglish/output-wav/@Juanitadr-shows-us-what-Arnold's-Tongue-Can-Do---The-Fashion-Weak-Podcast-Episode-10-N5EfPvQKW90.mp3-part-184.wav\n"
     ]
    },
    {
     "name": "stderr",
     "output_type": "stream",
     "text": [
      " 73%|███████▎  | 95554/130662 [37:32<12:16, 47.68it/s]"
     ]
    },
    {
     "name": "stdout",
     "output_type": "stream",
     "text": [
      "skipped semisupervised-manglish/output-wav/Mamak-Sessions---Girls-Are-Such-Complicated-Lil-Creatures-feat.-Talitha.-I2BaN8cm6NY.mp3-part-319.wav\n"
     ]
    },
    {
     "name": "stderr",
     "output_type": "stream",
     "text": [
      " 73%|███████▎  | 95652/130662 [37:34<10:29, 55.59it/s]"
     ]
    },
    {
     "name": "stdout",
     "output_type": "stream",
     "text": [
      "skipped semisupervised-manglish/output-wav/The-Fashion-Weak-Podcast-Ep24---Penang-Boys-@tunway-瘦虎-&-@Shawnduabui-肥龍-Talk-Zap-Fan-&-Sneakers-dykz_vuzJh0.mp3-part-241.wav\n"
     ]
    },
    {
     "name": "stderr",
     "output_type": "stream",
     "text": [
      " 73%|███████▎  | 95798/130662 [37:37<08:35, 67.70it/s]"
     ]
    },
    {
     "name": "stdout",
     "output_type": "stream",
     "text": [
      "skipped semisupervised-manglish/output-wav/Mamak-Sessions---How-I-Got-Quarantined-Because-Of-Covid-19-Feat.-Mark-O'Dea-5zAsyNKfzps.mp3-part-126.wav\n"
     ]
    },
    {
     "name": "stderr",
     "output_type": "stream",
     "text": [
      " 73%|███████▎  | 95814/130662 [37:37<08:41, 66.80it/s]"
     ]
    },
    {
     "name": "stdout",
     "output_type": "stream",
     "text": [
      "skipped semisupervised-manglish/output-wav/Become-a-Software-Developer-in-90-days-and-Running-His-Own-Company-_-Singaporean-Podcast-#8-_-Haris-HRd3RMQtkDs.mp3-part-192.wav\n"
     ]
    },
    {
     "name": "stderr",
     "output_type": "stream",
     "text": [
      " 73%|███████▎  | 95859/130662 [37:38<09:20, 62.12it/s]"
     ]
    },
    {
     "name": "stdout",
     "output_type": "stream",
     "text": [
      "skipped semisupervised-manglish/output-wav/Musings-of-the-OG-Sneaker-Uncle-@bungactiongirl---The-Fashion-Weak-Podcast-Episode-3-EjzkQeWKwQw.mp3-part-153.wav\n",
      "skipped semisupervised-manglish/output-wav/The-Fashion-Weak-Podcast-Ep-23---Alicia-Amin-On-Being-A-'Malay'-Model-In-2019-3pKA5NvTCOA.mp3-part-186.wav\n"
     ]
    },
    {
     "name": "stderr",
     "output_type": "stream",
     "text": [
      " 73%|███████▎  | 95888/130662 [37:38<09:20, 62.01it/s]"
     ]
    },
    {
     "name": "stdout",
     "output_type": "stream",
     "text": [
      "skipped semisupervised-manglish/output-wav/Mamak-Sessions---Have-You-Been-Rejected,-and-Have-You-Rejected-Someone-sZFykBDVjOI.mp3-part-283.wav\n"
     ]
    },
    {
     "name": "stderr",
     "output_type": "stream",
     "text": [
      " 73%|███████▎  | 95996/130662 [37:40<08:50, 65.38it/s]"
     ]
    },
    {
     "name": "stdout",
     "output_type": "stream",
     "text": [
      "skipped semisupervised-manglish/output-wav/The-Fashion-Weak-Podcast-Ep-33---Lingerie-&-Bikini-Talk-With-Talitha-Tan-(@talithabe)-_7Un0q6a9zg.mp3-part-636.wav\n"
     ]
    },
    {
     "name": "stderr",
     "output_type": "stream",
     "text": [
      " 74%|███████▎  | 96038/130662 [37:41<09:56, 58.04it/s]"
     ]
    },
    {
     "name": "stdout",
     "output_type": "stream",
     "text": [
      "skipped semisupervised-manglish/output-wav/The-Fashion-Weak-Podcast-Ep-32---Getting-Surprised-Reading-Melissa-Campbell's-(@heymelbelle)-IG-DMs-mJuKUwFpDgI.mp3-part-20.wav\n"
     ]
    },
    {
     "name": "stderr",
     "output_type": "stream",
     "text": [
      " 74%|███████▎  | 96053/130662 [37:41<09:00, 63.99it/s]"
     ]
    },
    {
     "name": "stdout",
     "output_type": "stream",
     "text": [
      "skipped semisupervised-manglish/output-wav/Mamak-Sessions---Airing-Dirty-Laundry-Online-and-Social-Justice-Warriors-FFtFXiIgsyk.mp3-part-146.wav\n"
     ]
    },
    {
     "name": "stderr",
     "output_type": "stream",
     "text": [
      " 74%|███████▎  | 96090/130662 [37:42<08:15, 69.74it/s]"
     ]
    },
    {
     "name": "stdout",
     "output_type": "stream",
     "text": [
      "skipped semisupervised-manglish/output-wav/Mamak-Sessions---Nasi-Lemak-Sneakers-zLEmAKdG9vY.mp3-part-191.wav\n"
     ]
    },
    {
     "name": "stderr",
     "output_type": "stream",
     "text": [
      " 74%|███████▎  | 96221/130662 [37:44<09:51, 58.21it/s]"
     ]
    },
    {
     "name": "stdout",
     "output_type": "stream",
     "text": [
      "skipped semisupervised-manglish/output-wav/Mamak-Sessions---Should-You-Be-Spending-Crazily-For-Valentine's-Day-QLz7USNFnng.mp3-part-122.wav\n"
     ]
    },
    {
     "name": "stderr",
     "output_type": "stream",
     "text": [
      " 74%|███████▎  | 96279/130662 [37:45<12:13, 46.90it/s]"
     ]
    },
    {
     "name": "stdout",
     "output_type": "stream",
     "text": [
      "skipped semisupervised-manglish/output-wav/Mamak-Sessions-Podcast---A-Dog-Was-Slashed-In-The-Mouth-And-Abused,-But-This-Kind-Soul-Saved-It-FNfbmh93DFo.mp3-part-403.wav\n",
      "skipped semisupervised-manglish/output-wav/The-Fashion-Weak-Podcast-Ep-40---tdcjTfzYSbk.mp3-part-355.wav\n"
     ]
    },
    {
     "name": "stderr",
     "output_type": "stream",
     "text": [
      " 74%|███████▎  | 96296/130662 [37:46<10:52, 52.70it/s]"
     ]
    },
    {
     "name": "stdout",
     "output_type": "stream",
     "text": [
      "skipped semisupervised-manglish/output-wav/Mamak-Sessions---Getting-Married-in-Vegas,-and-Sugar-Babies-ft.-Dennis-Yin-Cq6Yjwsu63U.mp3-part-19.wav\n"
     ]
    },
    {
     "name": "stderr",
     "output_type": "stream",
     "text": [
      " 74%|███████▎  | 96325/130662 [37:46<09:18, 61.45it/s]"
     ]
    },
    {
     "name": "stdout",
     "output_type": "stream",
     "text": [
      "skipped semisupervised-manglish/output-wav/Relatives-Ruin-My-Wedding!-_-The-Thirsty-Sisters-#22-98CiTQQtqak.mp3-part-448.wav\n"
     ]
    },
    {
     "name": "stderr",
     "output_type": "stream",
     "text": [
      " 74%|███████▍  | 96502/130662 [37:49<08:59, 63.33it/s]"
     ]
    },
    {
     "name": "stdout",
     "output_type": "stream",
     "text": [
      "skipped semisupervised-manglish/output-wav/The-Fashion-Weak-Podcast-Ep-45---Finessing-A-New-Phone-Every-Year-With-Mamak-Rap-King-Jiven-Sekar-VlovwtVYuw0.mp3-part-421.wav\n",
      "skipped semisupervised-manglish/output-wav/Mamak-Sessions-Ep6---Names-People-Always-Mispronounce-&-Facebook-Is-A-Spy-8LuihYdx0FQ.mp3-part-153.wav\n"
     ]
    },
    {
     "name": "stderr",
     "output_type": "stream",
     "text": [
      " 74%|███████▍  | 96525/130662 [37:50<08:45, 64.91it/s]"
     ]
    },
    {
     "name": "stdout",
     "output_type": "stream",
     "text": [
      "skipped semisupervised-manglish/output-wav/Conversations-with-a-Young-Singaporean-CEO--Gao-Fei,-CEO-of-LearnSeeker-_-Singaporean-Podcast-#13--b9YHjghfd2E.mp3-part-216.wav\n"
     ]
    },
    {
     "name": "stderr",
     "output_type": "stream",
     "text": [
      " 74%|███████▍  | 96629/130662 [37:52<11:56, 47.51it/s]"
     ]
    },
    {
     "name": "stdout",
     "output_type": "stream",
     "text": [
      "skipped semisupervised-manglish/output-wav/How-To-Be-A-Damn-Good-Software-Developer-+-Israel-Startup-Culture-_-Singaporean-Podcast-#11-_-Mark-cs2LkcSpNpw.mp3-part-238.wav\n"
     ]
    },
    {
     "name": "stderr",
     "output_type": "stream",
     "text": [
      " 74%|███████▍  | 96685/130662 [37:53<08:52, 63.81it/s]"
     ]
    },
    {
     "name": "stdout",
     "output_type": "stream",
     "text": [
      "skipped semisupervised-manglish/output-wav/How-A-26-Year-Old-Built-A-Multi-Million-YouTube-Empire-g3iwaxDKQGQ.mp3-part-600.wav\n"
     ]
    },
    {
     "name": "stderr",
     "output_type": "stream",
     "text": [
      " 74%|███████▍  | 96729/130662 [37:54<11:00, 51.40it/s]"
     ]
    },
    {
     "name": "stdout",
     "output_type": "stream",
     "text": [
      "skipped semisupervised-manglish/output-wav/Mamak-Sessions-Ep13---Game-Of-Thrones-Is-OVER!-Malaysian-Accent-is-sexy!--mAdHcMGmEs.mp3-part-365.wav\n",
      "skipped semisupervised-manglish/output-wav/@Juanitadr-shows-us-what-Arnold's-Tongue-Can-Do---The-Fashion-Weak-Podcast-Episode-10-N5EfPvQKW90.mp3-part-102.wav\n"
     ]
    },
    {
     "name": "stderr",
     "output_type": "stream",
     "text": [
      " 74%|███████▍  | 96769/130662 [37:54<08:44, 64.64it/s]"
     ]
    },
    {
     "name": "stdout",
     "output_type": "stream",
     "text": [
      "skipped semisupervised-manglish/output-wav/Talking-Sneakers-&-Strong-Sperm-With-@bryanbotakchin---The-Fashion-Weak-Podcast-Episode-11-iugevNPFp2Y.mp3-part-273.wav\n",
      "skipped semisupervised-manglish/output-wav/The-Fashion-Weak-Podcast-Ep-43---Thirst-Trapping-Simps-&-Loving-Your-Body-From-The-Outside-In-6R87P6YD2c4.mp3-part-683.wav\n"
     ]
    },
    {
     "name": "stderr",
     "output_type": "stream",
     "text": [
      " 74%|███████▍  | 96798/130662 [37:55<08:17, 68.07it/s]"
     ]
    },
    {
     "name": "stdout",
     "output_type": "stream",
     "text": [
      "skipped semisupervised-manglish/output-wav/Mamak-Sessions---Quitting-The-Medical-Line-To-Make-People-Laugh-ft-Dr.-Jason-Leong-FcD9MpeWqEI.mp3-part-427.wav\n"
     ]
    },
    {
     "name": "stderr",
     "output_type": "stream",
     "text": [
      " 74%|███████▍  | 96850/130662 [37:56<09:48, 57.41it/s]"
     ]
    },
    {
     "name": "stdout",
     "output_type": "stream",
     "text": [
      "skipped semisupervised-manglish/output-wav/Mamak-Sessions---The-Asian-Mom-Of-The-Internet-ft-Tata-Wyb6i3GoJv4.mp3-part-19.wav\n"
     ]
    },
    {
     "name": "stderr",
     "output_type": "stream",
     "text": [
      " 74%|███████▍  | 96881/130662 [37:56<08:24, 67.02it/s]"
     ]
    },
    {
     "name": "stdout",
     "output_type": "stream",
     "text": [
      "skipped semisupervised-manglish/output-wav/Ben-Kheng-Reflects-On-The-Sam-Willows,-Anxiety,-And-Religion-_-HTHT---Ben-Kheng-X4QapKCCneQ.mp3-part-117.wav\n"
     ]
    },
    {
     "name": "stderr",
     "output_type": "stream",
     "text": [
      " 74%|███████▍  | 96979/130662 [37:58<09:21, 59.95it/s]"
     ]
    },
    {
     "name": "stdout",
     "output_type": "stream",
     "text": [
      "skipped semisupervised-manglish/output-wav/Mamak-Sessions---Quitting-The-Medical-Line-To-Make-People-Laugh-ft-Dr.-Jason-Leong-FcD9MpeWqEI.mp3-part-474.wav\n",
      "skipped semisupervised-manglish/output-wav/Mamak-Sessions-Ep6---Names-People-Always-Mispronounce-&-Facebook-Is-A-Spy-8LuihYdx0FQ.mp3-part-102.wav\n"
     ]
    },
    {
     "name": "stderr",
     "output_type": "stream",
     "text": [
      " 74%|███████▍  | 97045/130662 [37:59<08:19, 67.29it/s]"
     ]
    },
    {
     "name": "stdout",
     "output_type": "stream",
     "text": [
      "skipped semisupervised-manglish/output-wav/Mamak-Sessions-Podcast---Girl-Gets-Caned-For-Calling-her-Teacher-'AH-GUA'-PRN5UrsDF6w.mp3-part-403.wav\n"
     ]
    },
    {
     "name": "stderr",
     "output_type": "stream",
     "text": [
      " 74%|███████▍  | 97073/130662 [38:00<08:55, 62.76it/s]"
     ]
    },
    {
     "name": "stdout",
     "output_type": "stream",
     "text": [
      "skipped semisupervised-manglish/output-wav/The-Fashion-Weak-Podcast-Ep-33---Lingerie-&-Bikini-Talk-With-Talitha-Tan-(@talithabe)-_7Un0q6a9zg.mp3-part-716.wav\n",
      "skipped semisupervised-manglish/output-wav/Mamak-Sessions---How-Do-You-Deal-With-Rumors-ft-Elizabeth-Tan-Rkvd5p3I11M.mp3-part-455.wav\n"
     ]
    },
    {
     "name": "stderr",
     "output_type": "stream",
     "text": [
      " 74%|███████▍  | 97138/130662 [38:01<08:36, 64.96it/s]"
     ]
    },
    {
     "name": "stdout",
     "output_type": "stream",
     "text": [
      "skipped semisupervised-manglish/output-wav/The-Fashion-Weak-Podcast-EP-41---Investment-Tips-For-Chee-Seng-With-Fuad-&-Shaq-From-Kyoto-Protocol-eWNQhDNoSsY.mp3-part-98.wav\n"
     ]
    },
    {
     "name": "stderr",
     "output_type": "stream",
     "text": [
      " 74%|███████▍  | 97159/130662 [38:01<08:47, 63.53it/s]"
     ]
    },
    {
     "name": "stdout",
     "output_type": "stream",
     "text": [
      "skipped semisupervised-manglish/output-wav/My-Ex-Husband-And-His-New-Puppy's-Mummy-_-The-Thirsty-Sisters-#26-RBShCX3-BtQ.mp3-part-52.wav\n"
     ]
    },
    {
     "name": "stderr",
     "output_type": "stream",
     "text": [
      " 74%|███████▍  | 97217/130662 [38:02<08:53, 62.68it/s]"
     ]
    },
    {
     "name": "stdout",
     "output_type": "stream",
     "text": [
      "skipped semisupervised-manglish/output-wav/Mamak-Sessions-Podcast---Is-it-ok-to-move-in-with-your-Partner-before-MARRIAGE-nGnyZ5c00Mo.mp3-part-249.wav\n",
      "skipped semisupervised-manglish/output-wav/The-Fashion-Weak-Podcast-Ep-33---Lingerie-&-Bikini-Talk-With-Talitha-Tan-(@talithabe)-_7Un0q6a9zg.mp3-part-272.wav\n"
     ]
    },
    {
     "name": "stderr",
     "output_type": "stream",
     "text": [
      " 74%|███████▍  | 97239/130662 [38:03<08:31, 65.33it/s]"
     ]
    },
    {
     "name": "stdout",
     "output_type": "stream",
     "text": [
      "skipped semisupervised-manglish/output-wav/The-Fashion-Weak-Podcast-Ep-38---TikTok-Royalty-Roshan-Jeet-aka-Roshannnn1-lPnRg9UsP0M.mp3-part-721.wav\n",
      "skipped semisupervised-manglish/output-wav/The-Fashion-Weak-Podcast-Ep-40---tdcjTfzYSbk.mp3-part-238.wav\n"
     ]
    },
    {
     "name": "stderr",
     "output_type": "stream",
     "text": [
      " 74%|███████▍  | 97307/130662 [38:04<09:28, 58.70it/s]"
     ]
    },
    {
     "name": "stdout",
     "output_type": "stream",
     "text": [
      "skipped semisupervised-manglish/output-wav/Why-Enneagram-Will-Change-Your-Perspective-On-ALL-Relationships-Forever-_-Cindy-Leong-_-SG-Podcast-cSxV6oacgaE.mp3-part-410.wav\n",
      "skipped semisupervised-manglish/output-wav/Mamak-Sessions-Ep4---What-Turns-You-On,-Is-it-ok-if-your-Girlfriend-Earns-More-&-The-Ideal-Proposal-1av_p0DPDas.mp3-part-161.wav\n"
     ]
    },
    {
     "name": "stderr",
     "output_type": "stream",
     "text": [
      " 75%|███████▍  | 97427/130662 [38:06<08:57, 61.80it/s]"
     ]
    },
    {
     "name": "stdout",
     "output_type": "stream",
     "text": [
      "skipped semisupervised-manglish/output-wav/The-Fashion-Weak-Podcast-Ep-31----Possibly-Our-Most-NSFW-Episode-Yet-With-@vikarworld-xMm23vU8_og.mp3-part-412.wav\n"
     ]
    },
    {
     "name": "stderr",
     "output_type": "stream",
     "text": [
      " 75%|███████▍  | 97484/130662 [38:07<09:07, 60.59it/s]"
     ]
    },
    {
     "name": "stdout",
     "output_type": "stream",
     "text": [
      "skipped semisupervised-manglish/output-wav/The-Fashion-Weak-Podcast-Ep-23---Alicia-Amin-On-Being-A-'Malay'-Model-In-2019-3pKA5NvTCOA.mp3-part-278.wav\n",
      "skipped semisupervised-manglish/output-wav/Being-Bullied,-Toxic-Masculinity-And-Theatre-_-HTHT---Fauzi-Aziz-6syqXC_o6gs.mp3-part-245.wav\n"
     ]
    },
    {
     "name": "stderr",
     "output_type": "stream",
     "text": [
      " 75%|███████▍  | 97577/130662 [38:09<09:05, 60.62it/s]"
     ]
    },
    {
     "name": "stdout",
     "output_type": "stream",
     "text": [
      "skipped semisupervised-manglish/output-wav/Mamak-Sessions---Our-Differences-Is-What-Unites-Us-ft.-Elvin-Romeo-0jySfrZhs50.mp3-part-156.wav\n"
     ]
    },
    {
     "name": "stderr",
     "output_type": "stream",
     "text": [
      " 75%|███████▍  | 97686/130662 [38:11<08:35, 63.95it/s]"
     ]
    },
    {
     "name": "stdout",
     "output_type": "stream",
     "text": [
      "skipped semisupervised-manglish/output-wav/Mamak-Sessions-Ep8---Man-Sues-Colleague-for-$1.8-Million-for-Farting-OWbPqC2i71c.mp3-part-292.wav\n"
     ]
    },
    {
     "name": "stderr",
     "output_type": "stream",
     "text": [
      " 75%|███████▍  | 97730/130662 [38:12<09:48, 56.00it/s]"
     ]
    },
    {
     "name": "stdout",
     "output_type": "stream",
     "text": [
      "skipped semisupervised-manglish/output-wav/The-Fashion-Weak-Podcast-Ep-43---Thirst-Trapping-Simps-&-Loving-Your-Body-From-The-Outside-In-6R87P6YD2c4.mp3-part-715.wav\n"
     ]
    },
    {
     "name": "stderr",
     "output_type": "stream",
     "text": [
      " 75%|███████▍  | 97853/130662 [38:14<09:24, 58.08it/s]"
     ]
    },
    {
     "name": "stdout",
     "output_type": "stream",
     "text": [
      "skipped semisupervised-manglish/output-wav/Mamak-Sessions---Getting-Married-in-Vegas,-and-Sugar-Babies-ft.-Dennis-Yin-Cq6Yjwsu63U.mp3-part-4.wav\n"
     ]
    },
    {
     "name": "stderr",
     "output_type": "stream",
     "text": [
      " 75%|███████▍  | 97883/130662 [38:14<08:25, 64.81it/s]"
     ]
    },
    {
     "name": "stdout",
     "output_type": "stream",
     "text": [
      "skipped semisupervised-manglish/output-wav/The-Fashion-Weak-Podcast-EP14---Faking-it-on-the-gram-and-faking-Gasms-with-Sandra-Woo-(@sandrawooo)--XwvfCTnseI.mp3-part-141.wav\n"
     ]
    },
    {
     "name": "stderr",
     "output_type": "stream",
     "text": [
      " 75%|███████▌  | 98000/130662 [38:17<09:47, 55.57it/s]"
     ]
    },
    {
     "name": "stdout",
     "output_type": "stream",
     "text": [
      "skipped semisupervised-manglish/output-wav/Mamak-Sessions---The-Asian-Mom-Of-The-Internet-ft-Tata-Wyb6i3GoJv4.mp3-part-153.wav\n"
     ]
    },
    {
     "name": "stderr",
     "output_type": "stream",
     "text": [
      " 75%|███████▌  | 98029/130662 [38:17<08:39, 62.79it/s]"
     ]
    },
    {
     "name": "stdout",
     "output_type": "stream",
     "text": [
      "skipped semisupervised-manglish/output-wav/The-Fashion-Weak-Podcast-Ep-40---tdcjTfzYSbk.mp3-part-322.wav\n"
     ]
    },
    {
     "name": "stderr",
     "output_type": "stream",
     "text": [
      " 75%|███████▌  | 98058/130662 [38:17<08:32, 63.66it/s]"
     ]
    },
    {
     "name": "stdout",
     "output_type": "stream",
     "text": [
      "skipped semisupervised-manglish/output-wav/Mamak-Sessions---Do-You-Check-Your-Partner's-Text-Messages-Featuring-Lizz-Chloe-WJkSAHvYyqk.mp3-part-445.wav\n"
     ]
    },
    {
     "name": "stderr",
     "output_type": "stream",
     "text": [
      " 75%|███████▌  | 98177/130662 [38:20<10:01, 53.99it/s]"
     ]
    },
    {
     "name": "stdout",
     "output_type": "stream",
     "text": [
      "skipped semisupervised-manglish/output-wav/Polytechnic-VS-University,-Hospitality-Industry-+-Solo-Travel-_-Singaporean-Podcast-#21-_-Veron-Ng-attPdWb6UVo.mp3-part-29.wav\n"
     ]
    },
    {
     "name": "stderr",
     "output_type": "stream",
     "text": [
      " 75%|███████▌  | 98251/130662 [38:21<09:59, 54.04it/s]"
     ]
    },
    {
     "name": "stdout",
     "output_type": "stream",
     "text": [
      "skipped semisupervised-manglish/output-wav/Burnout-in-the-Media-Industry-+-Passion-in-Theatre--_-Singaporean-Podcast-#16-_-Rennes-Lee-f7qEqPNzGk8.mp3-part-631.wav\n",
      "skipped semisupervised-manglish/output-wav/The-Fashion-Weak-Podcast-Ep-40---tdcjTfzYSbk.mp3-part-1097.wav\n"
     ]
    },
    {
     "name": "stderr",
     "output_type": "stream",
     "text": [
      " 75%|███████▌  | 98272/130662 [38:22<08:47, 61.35it/s]"
     ]
    },
    {
     "name": "stdout",
     "output_type": "stream",
     "text": [
      "skipped semisupervised-manglish/output-wav/The-Fashion-Weak-Podcast-Ep-28-@dreamrocketeers-on-that-Rolex-you-should-cop-to-flex-on-poor-friends-shV1F1JlDzk.mp3-part-750.wav\n"
     ]
    },
    {
     "name": "stderr",
     "output_type": "stream",
     "text": [
      " 75%|███████▌  | 98316/130662 [38:22<08:34, 62.90it/s]"
     ]
    },
    {
     "name": "stdout",
     "output_type": "stream",
     "text": [
      "skipped semisupervised-manglish/output-wav/Conversations-with-a-Young-Singaporean-CEO--Gao-Fei,-CEO-of-LearnSeeker-_-Singaporean-Podcast-#13--b9YHjghfd2E.mp3-part-193.wav\n"
     ]
    },
    {
     "name": "stderr",
     "output_type": "stream",
     "text": [
      " 75%|███████▌  | 98440/130662 [38:25<10:40, 50.30it/s]"
     ]
    },
    {
     "name": "stdout",
     "output_type": "stream",
     "text": [
      "skipped semisupervised-manglish/output-wav/Why-Enneagram-Will-Change-Your-Perspective-On-ALL-Relationships-Forever-_-Cindy-Leong-_-SG-Podcast-cSxV6oacgaE.mp3-part-56.wav\n"
     ]
    },
    {
     "name": "stderr",
     "output_type": "stream",
     "text": [
      " 75%|███████▌  | 98477/130662 [38:25<09:05, 59.04it/s]"
     ]
    },
    {
     "name": "stdout",
     "output_type": "stream",
     "text": [
      "skipped semisupervised-manglish/output-wav/Mamak-Sessions---Getting-Married-in-Vegas,-and-Sugar-Babies-ft.-Dennis-Yin-Cq6Yjwsu63U.mp3-part-116.wav\n"
     ]
    },
    {
     "name": "stderr",
     "output_type": "stream",
     "text": [
      " 75%|███████▌  | 98491/130662 [38:25<09:21, 57.26it/s]"
     ]
    },
    {
     "name": "stdout",
     "output_type": "stream",
     "text": [
      "skipped semisupervised-manglish/output-wav/Ghost-Stories-From-Our-Childhood!-_-The-Thirsty-Sisters-#23-Hioy9UvH4yE.mp3-part-227.wav\n"
     ]
    },
    {
     "name": "stderr",
     "output_type": "stream",
     "text": [
      " 75%|███████▌  | 98529/130662 [38:26<09:44, 55.01it/s]"
     ]
    },
    {
     "name": "stdout",
     "output_type": "stream",
     "text": [
      "skipped semisupervised-manglish/output-wav/The-Fashion-Weak-Podcast-Ep35---Is-New-Balance-Cool-Now-Talking-everything-NOT-Nike-with-@adlysyairi-3b0bYe36KNE.mp3-part-583.wav\n",
      "skipped semisupervised-manglish/output-wav/Grown-Up-Flex-With-YouTube-Superstar-@JinnyBoy---The-Fashion-Weak-Podcast-Episode-9-7wiSVCBFmFc.mp3-part-5.wav\n"
     ]
    },
    {
     "name": "stderr",
     "output_type": "stream",
     "text": [
      " 76%|███████▌  | 98662/130662 [38:29<08:19, 64.12it/s]"
     ]
    },
    {
     "name": "stdout",
     "output_type": "stream",
     "text": [
      "skipped semisupervised-manglish/output-wav/The-Fashion-Weak-Podcast-Ep-19---Butt-Stuff-&-Actual-Fashion-With-Zane-Gan-jhLgzHQnAHU.mp3-part-347.wav\n",
      "skipped semisupervised-manglish/output-wav/Mamak-Sessions-Podcast---Girl-Gets-Caned-For-Calling-her-Teacher-'AH-GUA'-PRN5UrsDF6w.mp3-part-756.wav\n"
     ]
    },
    {
     "name": "stderr",
     "output_type": "stream",
     "text": [
      " 76%|███████▌  | 98715/130662 [38:30<08:52, 60.03it/s]"
     ]
    },
    {
     "name": "stdout",
     "output_type": "stream",
     "text": [
      "skipped semisupervised-manglish/output-wav/The-Fashion-Weak-Podcast-EP-41---Investment-Tips-For-Chee-Seng-With-Fuad-&-Shaq-From-Kyoto-Protocol-eWNQhDNoSsY.mp3-part-460.wav\n",
      "skipped semisupervised-manglish/output-wav/What-is-a-Friend-_-Singaporean-Trio-Podcast-#01-Yzagxa4bn-M.mp3-part-81.wav\n"
     ]
    },
    {
     "name": "stderr",
     "output_type": "stream",
     "text": [
      " 76%|███████▌  | 98730/130662 [38:30<08:10, 65.16it/s]"
     ]
    },
    {
     "name": "stdout",
     "output_type": "stream",
     "text": [
      "skipped semisupervised-manglish/output-wav/The-Fashion-Weak-Podcast-Ep-19---Butt-Stuff-&-Actual-Fashion-With-Zane-Gan-jhLgzHQnAHU.mp3-part-66.wav\n",
      "skipped semisupervised-manglish/output-wav/The-Fashion-Weak-Podcast-Ep-39---Talking-Turn-On's-and-Fashion-Bulk-Buy-Deals-With-Tata-Wanqian-WSVo-qvu1GQ.mp3-part-466.wav\n"
     ]
    },
    {
     "name": "stderr",
     "output_type": "stream",
     "text": [
      " 76%|███████▌  | 98976/130662 [38:34<09:17, 56.86it/s]"
     ]
    },
    {
     "name": "stdout",
     "output_type": "stream",
     "text": [
      "skipped semisupervised-manglish/output-wav/@Juanitadr-shows-us-what-Arnold's-Tongue-Can-Do---The-Fashion-Weak-Podcast-Episode-10-N5EfPvQKW90.mp3-part-311.wav\n",
      "skipped semisupervised-manglish/output-wav/The-Fashion-Weak-Podcast-Ep-23---Alicia-Amin-On-Being-A-'Malay'-Model-In-2019-3pKA5NvTCOA.mp3-part-765.wav\n"
     ]
    },
    {
     "name": "stderr",
     "output_type": "stream",
     "text": [
      " 76%|███████▌  | 99013/130662 [38:35<08:05, 65.16it/s]"
     ]
    },
    {
     "name": "stdout",
     "output_type": "stream",
     "text": [
      "skipped semisupervised-manglish/output-wav/@Juanitadr-shows-us-what-Arnold's-Tongue-Can-Do---The-Fashion-Weak-Podcast-Episode-10-N5EfPvQKW90.mp3-part-392.wav\n"
     ]
    },
    {
     "name": "stderr",
     "output_type": "stream",
     "text": [
      " 76%|███████▌  | 99029/130662 [38:35<07:46, 67.82it/s]"
     ]
    },
    {
     "name": "stdout",
     "output_type": "stream",
     "text": [
      "skipped semisupervised-manglish/output-wav/Make-Insurance-Sexy-Again-+-Best-Advice-to-Financial-Advisors-_-Singaporean-Podcast-#19-_-Leslie-Koh-vKpmE4ZFnGE.mp3-part-166.wav\n"
     ]
    },
    {
     "name": "stderr",
     "output_type": "stream",
     "text": [
      " 76%|███████▌  | 99057/130662 [38:36<10:46, 48.86it/s]"
     ]
    },
    {
     "name": "stdout",
     "output_type": "stream",
     "text": [
      "skipped semisupervised-manglish/output-wav/The-Fashion-Weak-Podcast-Ep-15---Underwear-Sneakers-&-Fruits-With-@OhZooey-HDuY9UdkkaE.mp3-part-7.wav\n"
     ]
    },
    {
     "name": "stderr",
     "output_type": "stream",
     "text": [
      " 76%|███████▌  | 99082/130662 [38:36<08:02, 65.48it/s]"
     ]
    },
    {
     "name": "stdout",
     "output_type": "stream",
     "text": [
      "skipped semisupervised-manglish/output-wav/The-Truth-Behind-Our-Relationship!-Are-We-Really-Sisters-_-The-Thirsty-Sisters-#10-rkwCky94IhQ.mp3-part-205.wav\n"
     ]
    },
    {
     "name": "stderr",
     "output_type": "stream",
     "text": [
      " 76%|███████▌  | 99115/130662 [38:37<07:43, 68.08it/s]"
     ]
    },
    {
     "name": "stdout",
     "output_type": "stream",
     "text": [
      "skipped semisupervised-manglish/output-wav/Mamak-Sessions---Blaming-Yourself-For-Your-Parents'-Divorce,-And-How-Our-Parents-Punish-Us-x8Gl_zIC9CQ.mp3-part-48.wav\n",
      "skipped semisupervised-manglish/output-wav/Mamak-Sessions-Podcast---How-Dean-Lewis-became-who-he-is-today-HkOQy1Nxpis.mp3-part-352.wav\n"
     ]
    },
    {
     "name": "stderr",
     "output_type": "stream",
     "text": [
      " 76%|███████▌  | 99168/130662 [38:38<09:00, 58.30it/s]"
     ]
    },
    {
     "name": "stdout",
     "output_type": "stream",
     "text": [
      "skipped semisupervised-manglish/output-wav/What-You-Should-Think-About-After-A-Levels-_-IMO-Ep.3-R7nCJrdRWyc.mp3-part-4.wav\n"
     ]
    },
    {
     "name": "stderr",
     "output_type": "stream",
     "text": [
      " 76%|███████▌  | 99262/130662 [38:39<09:01, 58.01it/s]"
     ]
    },
    {
     "name": "stdout",
     "output_type": "stream",
     "text": [
      "skipped semisupervised-manglish/output-wav/The-Fashion-Weak-Podcast-Ep-30---On-her-way-to-Supermodel-dom,-ASNTM--Cycle-5-Runner-Up-@shikingomez-otK3Gl_XX4c.mp3-part-115.wav\n"
     ]
    },
    {
     "name": "stderr",
     "output_type": "stream",
     "text": [
      " 76%|███████▌  | 99463/130662 [38:43<08:00, 64.98it/s]"
     ]
    },
    {
     "name": "stdout",
     "output_type": "stream",
     "text": [
      "skipped semisupervised-manglish/output-wav/The-Fashion-Weak-Podcast-Ep35---Is-New-Balance-Cool-Now-Talking-everything-NOT-Nike-with-@adlysyairi-3b0bYe36KNE.mp3-part-176.wav\n",
      "skipped semisupervised-manglish/output-wav/Burnout-in-the-Media-Industry-+-Passion-in-Theatre--_-Singaporean-Podcast-#16-_-Rennes-Lee-f7qEqPNzGk8.mp3-part-171.wav\n"
     ]
    },
    {
     "name": "stderr",
     "output_type": "stream",
     "text": [
      " 76%|███████▌  | 99522/130662 [38:44<09:27, 54.83it/s]"
     ]
    },
    {
     "name": "stdout",
     "output_type": "stream",
     "text": [
      "skipped semisupervised-manglish/output-wav/Why-Singaporean-Female-Entrepreneurship-Matters-_-Huda-Hamid-_-Singaporean-Podcast-#44-myPdnyUGvUk.mp3-part-355.wav\n"
     ]
    },
    {
     "name": "stderr",
     "output_type": "stream",
     "text": [
      " 76%|███████▌  | 99559/130662 [38:45<07:53, 65.68it/s]"
     ]
    },
    {
     "name": "stdout",
     "output_type": "stream",
     "text": [
      "skipped semisupervised-manglish/output-wav/Mamak-Sessions---Airing-Dirty-Laundry-Online-and-Social-Justice-Warriors-FFtFXiIgsyk.mp3-part-60.wav\n"
     ]
    },
    {
     "name": "stderr",
     "output_type": "stream",
     "text": [
      " 76%|███████▋  | 99630/130662 [38:46<08:08, 63.53it/s]"
     ]
    },
    {
     "name": "stdout",
     "output_type": "stream",
     "text": [
      "skipped semisupervised-manglish/output-wav/The-Fashion-Weak-Podcast-Ep-30---On-her-way-to-Supermodel-dom,-ASNTM--Cycle-5-Runner-Up-@shikingomez-otK3Gl_XX4c.mp3-part-574.wav\n"
     ]
    },
    {
     "name": "stderr",
     "output_type": "stream",
     "text": [
      " 76%|███████▋  | 99673/130662 [38:47<07:48, 66.09it/s]"
     ]
    },
    {
     "name": "stdout",
     "output_type": "stream",
     "text": [
      "skipped semisupervised-manglish/output-wav/The-Fashion-Weak-Podcast-Ep-38---TikTok-Royalty-Roshan-Jeet-aka-Roshannnn1-lPnRg9UsP0M.mp3-part-508.wav\n"
     ]
    },
    {
     "name": "stderr",
     "output_type": "stream",
     "text": [
      " 76%|███████▋  | 99750/130662 [38:48<08:04, 63.75it/s]"
     ]
    },
    {
     "name": "stdout",
     "output_type": "stream",
     "text": [
      "skipped semisupervised-manglish/output-wav/The-Fashion-Weak-Podcast-Ep-39---Talking-Turn-On's-and-Fashion-Bulk-Buy-Deals-With-Tata-Wanqian-WSVo-qvu1GQ.mp3-part-858.wav\n"
     ]
    },
    {
     "name": "stderr",
     "output_type": "stream",
     "text": [
      " 76%|███████▋  | 99795/130662 [38:49<08:55, 57.61it/s]"
     ]
    },
    {
     "name": "stdout",
     "output_type": "stream",
     "text": [
      "skipped semisupervised-manglish/output-wav/Mamak-Sessions---We-May-Not-Always-End-Up-Doing-What-We-Thought-We-Would..And-That's-Not-A-Bad-Thing-IAeN0jG9Hwc.mp3-part-187.wav\n"
     ]
    },
    {
     "name": "stderr",
     "output_type": "stream",
     "text": [
      " 76%|███████▋  | 99816/130662 [38:49<08:47, 58.47it/s]"
     ]
    },
    {
     "name": "stdout",
     "output_type": "stream",
     "text": [
      "skipped semisupervised-manglish/output-wav/Overcoming-Depression-&-Redefining-What-Failure-Means-to-Youths_-Singaporean-Podcast-#10-_-Kevin-Wee-rjjK4aAbKnw.mp3-part-239.wav\n",
      "skipped semisupervised-manglish/output-wav/Burnout-in-the-Media-Industry-+-Passion-in-Theatre--_-Singaporean-Podcast-#16-_-Rennes-Lee-f7qEqPNzGk8.mp3-part-64.wav\n"
     ]
    },
    {
     "name": "stderr",
     "output_type": "stream",
     "text": [
      " 76%|███████▋  | 99911/130662 [38:51<07:32, 68.03it/s]"
     ]
    },
    {
     "name": "stdout",
     "output_type": "stream",
     "text": [
      "skipped semisupervised-manglish/output-wav/The-Fashion-Weak-Podcast-Ep-22---Why-Fashion-School-Didn't-Work-Out-For-Zee-Avi-woDYSE37_rI.mp3-part-396.wav\n"
     ]
    },
    {
     "name": "stderr",
     "output_type": "stream",
     "text": [
      " 76%|███████▋  | 99944/130662 [38:52<07:00, 73.02it/s]"
     ]
    },
    {
     "name": "stdout",
     "output_type": "stream",
     "text": [
      "skipped semisupervised-manglish/output-wav/Life-After-NUS-Business-School-in-the-FMCG-Industry-_-Singaporean-Podcast-#4_-Leonard-Yap-ONUgGzCm00E.mp3-part-352.wav\n"
     ]
    },
    {
     "name": "stderr",
     "output_type": "stream",
     "text": [
      " 77%|███████▋  | 100016/130662 [38:53<07:42, 66.22it/s]"
     ]
    },
    {
     "name": "stdout",
     "output_type": "stream",
     "text": [
      "skipped semisupervised-manglish/output-wav/The-Fashion-Weak-Podcast-Ep-32---Getting-Surprised-Reading-Melissa-Campbell's-(@heymelbelle)-IG-DMs-mJuKUwFpDgI.mp3-part-736.wav\n"
     ]
    },
    {
     "name": "stderr",
     "output_type": "stream",
     "text": [
      " 77%|███████▋  | 100059/130662 [38:54<11:03, 46.12it/s]"
     ]
    },
    {
     "name": "stdout",
     "output_type": "stream",
     "text": [
      "skipped semisupervised-manglish/output-wav/Burnout-in-the-Media-Industry-+-Passion-in-Theatre--_-Singaporean-Podcast-#16-_-Rennes-Lee-f7qEqPNzGk8.mp3-part-181.wav\n"
     ]
    },
    {
     "name": "stderr",
     "output_type": "stream",
     "text": [
      " 77%|███████▋  | 100129/130662 [38:55<08:18, 61.28it/s]"
     ]
    },
    {
     "name": "stdout",
     "output_type": "stream",
     "text": [
      "skipped semisupervised-manglish/output-wav/Conversations-with-a-Young-Singaporean-CEO--Gao-Fei,-CEO-of-LearnSeeker-_-Singaporean-Podcast-#13--b9YHjghfd2E.mp3-part-639.wav\n"
     ]
    },
    {
     "name": "stderr",
     "output_type": "stream",
     "text": [
      " 77%|███████▋  | 100194/130662 [38:56<07:59, 63.60it/s]"
     ]
    },
    {
     "name": "stdout",
     "output_type": "stream",
     "text": [
      "skipped semisupervised-manglish/output-wav/How-To-Get-Away-With-A-Sex-Crime!-_-The-Thirsty-Sisters-#15-mIc0MmSoaiI.mp3-part-70.wav\n"
     ]
    },
    {
     "name": "stderr",
     "output_type": "stream",
     "text": [
      " 77%|███████▋  | 100254/130662 [38:57<09:07, 55.53it/s]"
     ]
    },
    {
     "name": "stdout",
     "output_type": "stream",
     "text": [
      "skipped semisupervised-manglish/output-wav/Mamak-Sessions---Nasi-Lemak-Sneakers-zLEmAKdG9vY.mp3-part-456.wav\n"
     ]
    },
    {
     "name": "stderr",
     "output_type": "stream",
     "text": [
      " 77%|███████▋  | 100269/130662 [38:57<08:06, 62.43it/s]"
     ]
    },
    {
     "name": "stdout",
     "output_type": "stream",
     "text": [
      "skipped semisupervised-manglish/output-wav/The-Fashion-Weak-Podcast-Ep-21---Suitmaker-To-The-Stars,-Shahrin-Bahar-aka-@sbahar.my-Pkv6d83oe8s.mp3-part-287.wav\n",
      "skipped semisupervised-manglish/output-wav/Mamak-Sessions---Airing-Dirty-Laundry-Online-and-Social-Justice-Warriors-FFtFXiIgsyk.mp3-part-319.wav\n"
     ]
    },
    {
     "name": "stderr",
     "output_type": "stream",
     "text": [
      " 77%|███████▋  | 100284/130662 [38:58<07:36, 66.61it/s]"
     ]
    },
    {
     "name": "stdout",
     "output_type": "stream",
     "text": [
      "skipped semisupervised-manglish/output-wav/Mamak-Sessions---How-I-Got-Quarantined-Because-Of-Covid-19-Feat.-Mark-O'Dea-5zAsyNKfzps.mp3-part-321.wav\n"
     ]
    },
    {
     "name": "stderr",
     "output_type": "stream",
     "text": [
      " 77%|███████▋  | 100335/130662 [38:59<07:45, 65.18it/s]"
     ]
    },
    {
     "name": "stdout",
     "output_type": "stream",
     "text": [
      "skipped semisupervised-manglish/output-wav/Community-Service,-Entrepreneurial-Ventures-&-Being-a-Father-_-Singaporean-Podcast-#14-_-Andy-Ang-v-RunsFvf8o.mp3-part-87.wav\n"
     ]
    },
    {
     "name": "stderr",
     "output_type": "stream",
     "text": [
      " 77%|███████▋  | 100419/130662 [39:00<08:07, 62.08it/s]"
     ]
    },
    {
     "name": "stdout",
     "output_type": "stream",
     "text": [
      "skipped semisupervised-manglish/output-wav/The-Fashion-Weak-Podcast-Ep-21---Suitmaker-To-The-Stars,-Shahrin-Bahar-aka-@sbahar.my-Pkv6d83oe8s.mp3-part-281.wav\n",
      "skipped semisupervised-manglish/output-wav/Mamak-Sessions---Investigative-Journalism-Brings-Justice-to-Sexual-Crimes-&-Interviewing-Jon-Favreau-RlejfOWnKgQ.mp3-part-465.wav\n"
     ]
    },
    {
     "name": "stderr",
     "output_type": "stream",
     "text": [
      " 77%|███████▋  | 100461/130662 [39:01<07:48, 64.49it/s]"
     ]
    },
    {
     "name": "stdout",
     "output_type": "stream",
     "text": [
      "skipped semisupervised-manglish/output-wav/Mamak-Sessions---Getting-Married-in-Vegas,-and-Sugar-Babies-ft.-Dennis-Yin-Cq6Yjwsu63U.mp3-part-321.wav\n"
     ]
    },
    {
     "name": "stderr",
     "output_type": "stream",
     "text": [
      " 77%|███████▋  | 100496/130662 [39:02<08:51, 56.74it/s]"
     ]
    },
    {
     "name": "stdout",
     "output_type": "stream",
     "text": [
      "skipped semisupervised-manglish/output-wav/Mamak-Sessions---Getting-Married-in-Vegas,-and-Sugar-Babies-ft.-Dennis-Yin-Cq6Yjwsu63U.mp3-part-169.wav\n"
     ]
    },
    {
     "name": "stderr",
     "output_type": "stream",
     "text": [
      " 77%|███████▋  | 100528/130662 [39:02<07:28, 67.19it/s]"
     ]
    },
    {
     "name": "stdout",
     "output_type": "stream",
     "text": [
      "skipped semisupervised-manglish/output-wav/The-Fashion-Weak-Podcast-Ep-32---Getting-Surprised-Reading-Melissa-Campbell's-(@heymelbelle)-IG-DMs-mJuKUwFpDgI.mp3-part-177.wav\n",
      "skipped semisupervised-manglish/output-wav/@Juanitadr-shows-us-what-Arnold's-Tongue-Can-Do---The-Fashion-Weak-Podcast-Episode-10-N5EfPvQKW90.mp3-part-388.wav\n",
      "skipped semisupervised-manglish/output-wav/The-Fashion-Weak-Podcast-Ep35---Is-New-Balance-Cool-Now-Talking-everything-NOT-Nike-with-@adlysyairi-3b0bYe36KNE.mp3-part-117.wav\n"
     ]
    },
    {
     "name": "stderr",
     "output_type": "stream",
     "text": [
      " 77%|███████▋  | 100585/130662 [39:03<10:02, 49.88it/s]"
     ]
    },
    {
     "name": "stdout",
     "output_type": "stream",
     "text": [
      "skipped semisupervised-manglish/output-wav/How-to-Start-a-Podcast-+-Why-You-Should-Enjoy-The-Process_-Singaporean-Podcast#28-_-Nicholas-Patrick-uaSWgcKn0RM.mp3-part-133.wav\n"
     ]
    },
    {
     "name": "stderr",
     "output_type": "stream",
     "text": [
      " 77%|███████▋  | 100634/130662 [39:04<07:52, 63.59it/s]"
     ]
    },
    {
     "name": "stdout",
     "output_type": "stream",
     "text": [
      "skipped semisupervised-manglish/output-wav/Mamak-Sessions-Ep1---Girls-Are-Happier-With-Less-Attractive-Men,-And-The-Dramatic-Pizza-Order-2M8U_mxGbcw.mp3-part-190.wav\n"
     ]
    },
    {
     "name": "stderr",
     "output_type": "stream",
     "text": [
      "\r",
      " 77%|███████▋  | 100643/130662 [39:04<07:22, 67.77it/s]"
     ]
    },
    {
     "name": "stdout",
     "output_type": "stream",
     "text": [
      "skipped semisupervised-manglish/output-wav/Mamak-Sessions-Ep6---Names-People-Always-Mispronounce-&-Facebook-Is-A-Spy-8LuihYdx0FQ.mp3-part-348.wav\n",
      "skipped semisupervised-manglish/output-wav/Mamak-Sessions-Ep6---Names-People-Always-Mispronounce-&-Facebook-Is-A-Spy-8LuihYdx0FQ.mp3-part-11.wav\n"
     ]
    },
    {
     "name": "stderr",
     "output_type": "stream",
     "text": [
      " 77%|███████▋  | 100660/130662 [39:05<10:14, 48.85it/s]"
     ]
    },
    {
     "name": "stdout",
     "output_type": "stream",
     "text": [
      "skipped semisupervised-manglish/output-wav/Mamak-Sessions---Getting-Married-in-Vegas,-and-Sugar-Babies-ft.-Dennis-Yin-Cq6Yjwsu63U.mp3-part-317.wav\n",
      "skipped semisupervised-manglish/output-wav/The-Fashion-Weak-Podcast-Ep-28-@dreamrocketeers-on-that-Rolex-you-should-cop-to-flex-on-poor-friends-shV1F1JlDzk.mp3-part-579.wav\n"
     ]
    },
    {
     "name": "stderr",
     "output_type": "stream",
     "text": [
      " 77%|███████▋  | 100683/130662 [39:05<08:14, 60.66it/s]"
     ]
    },
    {
     "name": "stdout",
     "output_type": "stream",
     "text": [
      "skipped semisupervised-manglish/output-wav/Mamak-Sessions-Podcast---Girl-Gets-Caned-For-Calling-her-Teacher-'AH-GUA'-PRN5UrsDF6w.mp3-part-752.wav\n"
     ]
    },
    {
     "name": "stderr",
     "output_type": "stream",
     "text": [
      " 77%|███████▋  | 100733/130662 [39:06<07:49, 63.76it/s]"
     ]
    },
    {
     "name": "stdout",
     "output_type": "stream",
     "text": [
      "skipped semisupervised-manglish/output-wav/Mamak-Sessions---Body-Shaming-Will-Land-You-In-Jail-XMx9tqwzQS4.mp3-part-181.wav\n"
     ]
    },
    {
     "name": "stderr",
     "output_type": "stream",
     "text": [
      " 77%|███████▋  | 100756/130662 [39:06<09:35, 51.99it/s]"
     ]
    },
    {
     "name": "stdout",
     "output_type": "stream",
     "text": [
      "skipped semisupervised-manglish/output-wav/Skin-Care-Routines,-Death,-Life-Purpose-and-More-_-Singaporean-Trio-Podcast-#2-6yW185RJkGw.mp3-part-50.wav\n"
     ]
    },
    {
     "name": "stderr",
     "output_type": "stream",
     "text": [
      " 77%|███████▋  | 100786/130662 [39:07<07:44, 64.32it/s]"
     ]
    },
    {
     "name": "stdout",
     "output_type": "stream",
     "text": [
      "skipped semisupervised-manglish/output-wav/How-To-Be-A-Damn-Good-Software-Developer-+-Israel-Startup-Culture-_-Singaporean-Podcast-#11-_-Mark-cs2LkcSpNpw.mp3-part-230.wav\n"
     ]
    },
    {
     "name": "stderr",
     "output_type": "stream",
     "text": [
      " 77%|███████▋  | 100815/130662 [39:07<07:42, 64.56it/s]"
     ]
    },
    {
     "name": "stdout",
     "output_type": "stream",
     "text": [
      "skipped semisupervised-manglish/output-wav/Mamak-Sessions---My-Asian-Parents-Were-Initially-Ashamed-Of-My-Career-NqCp8Csl7PE.mp3-part-227.wav\n"
     ]
    },
    {
     "name": "stderr",
     "output_type": "stream",
     "text": [
      " 77%|███████▋  | 100901/130662 [39:09<07:47, 63.61it/s]"
     ]
    },
    {
     "name": "stdout",
     "output_type": "stream",
     "text": [
      "skipped semisupervised-manglish/output-wav/The-Fashion-Weak-Podcast-Ep-26---Chinese-New-Year-with-Stand-Up-Comedian-_-Fashionista-Kuah-Jenhan-Yv7uONh96tc.mp3-part-207.wav\n"
     ]
    },
    {
     "name": "stderr",
     "output_type": "stream",
     "text": [
      " 77%|███████▋  | 101005/130662 [39:11<07:52, 62.80it/s]"
     ]
    },
    {
     "name": "stdout",
     "output_type": "stream",
     "text": [
      "skipped semisupervised-manglish/output-wav/The-Fashion-Weak-Podcast-Ep-30---On-her-way-to-Supermodel-dom,-ASNTM--Cycle-5-Runner-Up-@shikingomez-otK3Gl_XX4c.mp3-part-102.wav\n",
      "skipped semisupervised-manglish/output-wav/Talking-Sneakers-&-Strong-Sperm-With-@bryanbotakchin---The-Fashion-Weak-Podcast-Episode-11-iugevNPFp2Y.mp3-part-73.wav\n"
     ]
    },
    {
     "name": "stderr",
     "output_type": "stream",
     "text": [
      " 77%|███████▋  | 101042/130662 [39:11<08:23, 58.80it/s]"
     ]
    },
    {
     "name": "stdout",
     "output_type": "stream",
     "text": [
      "skipped semisupervised-manglish/output-wav/The-Fashion-Weak-Podcast-Ep-23---Alicia-Amin-On-Being-A-'Malay'-Model-In-2019-3pKA5NvTCOA.mp3-part-781.wav\n"
     ]
    },
    {
     "name": "stderr",
     "output_type": "stream",
     "text": [
      " 77%|███████▋  | 101078/130662 [39:12<07:25, 66.40it/s]"
     ]
    },
    {
     "name": "stdout",
     "output_type": "stream",
     "text": [
      "INFO:tensorflow:Generating case 100000.\n"
     ]
    },
    {
     "name": "stderr",
     "output_type": "stream",
     "text": [
      " 77%|███████▋  | 101130/130662 [39:13<09:08, 53.86it/s]"
     ]
    },
    {
     "name": "stdout",
     "output_type": "stream",
     "text": [
      "skipped semisupervised-manglish/output-wav/The-Fashion-Weak-Podcast-Ep-45---Finessing-A-New-Phone-Every-Year-With-Mamak-Rap-King-Jiven-Sekar-VlovwtVYuw0.mp3-part-586.wav\n"
     ]
    },
    {
     "name": "stderr",
     "output_type": "stream",
     "text": [
      " 77%|███████▋  | 101238/130662 [39:15<08:33, 57.32it/s]"
     ]
    },
    {
     "name": "stdout",
     "output_type": "stream",
     "text": [
      "skipped semisupervised-manglish/output-wav/@Juanitadr-shows-us-what-Arnold's-Tongue-Can-Do---The-Fashion-Weak-Podcast-Episode-10-N5EfPvQKW90.mp3-part-6.wav\n"
     ]
    },
    {
     "name": "stderr",
     "output_type": "stream",
     "text": [
      " 77%|███████▋  | 101259/130662 [39:15<07:55, 61.84it/s]"
     ]
    },
    {
     "name": "stdout",
     "output_type": "stream",
     "text": [
      "skipped semisupervised-manglish/output-wav/The-Fashion-Weak-Podcast-Ep-31----Possibly-Our-Most-NSFW-Episode-Yet-With-@vikarworld-xMm23vU8_og.mp3-part-701.wav\n"
     ]
    },
    {
     "name": "stderr",
     "output_type": "stream",
     "text": [
      " 78%|███████▊  | 101281/130662 [39:15<07:40, 63.76it/s]"
     ]
    },
    {
     "name": "stdout",
     "output_type": "stream",
     "text": [
      "skipped semisupervised-manglish/output-wav/Nicole-Choo-on-What-Went-Wrong-with-Ridhwan---Team-Titan-Show-#4-gW9sv26g4Io.mp3-part-19.wav\n"
     ]
    },
    {
     "name": "stderr",
     "output_type": "stream",
     "text": [
      " 78%|███████▊  | 101351/130662 [39:17<08:00, 60.96it/s]"
     ]
    },
    {
     "name": "stdout",
     "output_type": "stream",
     "text": [
      "skipped semisupervised-manglish/output-wav/The-Fashion-Weak-Podcast-Ep-23---Alicia-Amin-On-Being-A-'Malay'-Model-In-2019-3pKA5NvTCOA.mp3-part-390.wav\n"
     ]
    },
    {
     "name": "stderr",
     "output_type": "stream",
     "text": [
      " 78%|███████▊  | 101372/130662 [39:17<08:18, 58.80it/s]"
     ]
    },
    {
     "name": "stdout",
     "output_type": "stream",
     "text": [
      "skipped semisupervised-manglish/output-wav/Mamak-Sessions-Ep6---Names-People-Always-Mispronounce-&-Facebook-Is-A-Spy-8LuihYdx0FQ.mp3-part-82.wav\n"
     ]
    },
    {
     "name": "stderr",
     "output_type": "stream",
     "text": [
      " 78%|███████▊  | 101412/130662 [39:18<08:50, 55.19it/s]"
     ]
    },
    {
     "name": "stdout",
     "output_type": "stream",
     "text": [
      "skipped semisupervised-manglish/output-wav/Relatives-Ruin-My-Wedding!-_-The-Thirsty-Sisters-#22-98CiTQQtqak.mp3-part-136.wav\n"
     ]
    },
    {
     "name": "stderr",
     "output_type": "stream",
     "text": [
      " 78%|███████▊  | 101498/130662 [39:20<08:24, 57.77it/s]"
     ]
    },
    {
     "name": "stdout",
     "output_type": "stream",
     "text": [
      "skipped semisupervised-manglish/output-wav/Talking-Sneakers-&-Strong-Sperm-With-@bryanbotakchin---The-Fashion-Weak-Podcast-Episode-11-iugevNPFp2Y.mp3-part-100.wav\n"
     ]
    },
    {
     "name": "stderr",
     "output_type": "stream",
     "text": [
      " 78%|███████▊  | 101618/130662 [39:22<07:27, 64.83it/s]"
     ]
    },
    {
     "name": "stdout",
     "output_type": "stream",
     "text": [
      "skipped semisupervised-manglish/output-wav/Mamak-Sessions-Ep10---Datuk-Nicol-David-is-RETIRING!-n3AR3nQEc7Y.mp3-part-502.wav\n"
     ]
    },
    {
     "name": "stderr",
     "output_type": "stream",
     "text": [
      " 78%|███████▊  | 101640/130662 [39:22<07:28, 64.69it/s]"
     ]
    },
    {
     "name": "stdout",
     "output_type": "stream",
     "text": [
      "skipped semisupervised-manglish/output-wav/Mamak-Sessions---Getting-Married-in-Vegas,-and-Sugar-Babies-ft.-Dennis-Yin-Cq6Yjwsu63U.mp3-part-314.wav\n"
     ]
    },
    {
     "name": "stderr",
     "output_type": "stream",
     "text": [
      " 78%|███████▊  | 101670/130662 [39:23<08:27, 57.10it/s]"
     ]
    },
    {
     "name": "stdout",
     "output_type": "stream",
     "text": [
      "skipped semisupervised-manglish/output-wav/The-Fashion-Weak-Podcast-Ep24---Penang-Boys-@tunway-瘦虎-&-@Shawnduabui-肥龍-Talk-Zap-Fan-&-Sneakers-dykz_vuzJh0.mp3-part-348.wav\n"
     ]
    },
    {
     "name": "stderr",
     "output_type": "stream",
     "text": [
      " 78%|███████▊  | 101780/130662 [39:25<07:53, 60.97it/s]"
     ]
    },
    {
     "name": "stdout",
     "output_type": "stream",
     "text": [
      "skipped semisupervised-manglish/output-wav/Mamak-Sessions-Ep8---Man-Sues-Colleague-for-$1.8-Million-for-Farting-OWbPqC2i71c.mp3-part-565.wav\n",
      "skipped semisupervised-manglish/output-wav/The-Fashion-Weak-Podcast-Ep-43A---Keeping-Fair-On-The-Fairway-With-Natalia-Ng-CSP1XPZu4YY.mp3-part-629.wav\n"
     ]
    },
    {
     "name": "stderr",
     "output_type": "stream",
     "text": [
      " 78%|███████▊  | 101913/130662 [39:27<07:00, 68.40it/s]"
     ]
    },
    {
     "name": "stdout",
     "output_type": "stream",
     "text": [
      "skipped semisupervised-manglish/output-wav/The-Fashion-Weak-Podcast-EP16---Podcast-Wars-With-The-From-The-Thread-Boys-7dPzh9PpLs8.mp3-part-470.wav\n"
     ]
    },
    {
     "name": "stderr",
     "output_type": "stream",
     "text": [
      " 78%|███████▊  | 102026/130662 [39:29<09:34, 49.85it/s]"
     ]
    },
    {
     "name": "stdout",
     "output_type": "stream",
     "text": [
      "skipped semisupervised-manglish/output-wav/The-Fashion-Weak-Podcast-Ep-40---tdcjTfzYSbk.mp3-part-324.wav\n"
     ]
    },
    {
     "name": "stderr",
     "output_type": "stream",
     "text": [
      " 78%|███████▊  | 102047/130662 [39:29<08:09, 58.50it/s]"
     ]
    },
    {
     "name": "stdout",
     "output_type": "stream",
     "text": [
      "skipped semisupervised-manglish/output-wav/Living-Alone-In-New-York,-Chasing-Dreams-And-The-Future-_-HTHT---Xenia-Tan-ezFAYdIwu_8.mp3-part-0.wav\n"
     ]
    },
    {
     "name": "stderr",
     "output_type": "stream",
     "text": [
      " 78%|███████▊  | 102120/130662 [39:31<09:15, 51.42it/s]"
     ]
    },
    {
     "name": "stdout",
     "output_type": "stream",
     "text": [
      "skipped semisupervised-manglish/output-wav/The-Fashion-Weak-Podcast-Ep-30---On-her-way-to-Supermodel-dom,-ASNTM--Cycle-5-Runner-Up-@shikingomez-otK3Gl_XX4c.mp3-part-698.wav\n",
      "skipped semisupervised-manglish/output-wav/Mamak-Sessions-Ep6---Names-People-Always-Mispronounce-&-Facebook-Is-A-Spy-8LuihYdx0FQ.mp3-part-15.wav\n"
     ]
    },
    {
     "name": "stderr",
     "output_type": "stream",
     "text": [
      " 78%|███████▊  | 102148/130662 [39:31<08:18, 57.16it/s]"
     ]
    },
    {
     "name": "stdout",
     "output_type": "stream",
     "text": [
      "skipped semisupervised-manglish/output-wav/Burning-Hot-Fever!-4-Doctors-Tried-To-Save-Me-In-The-Hospital!-_-The-Thirsty-Sisters-#6-Jw7B8efygWI.mp3-part-15.wav\n"
     ]
    },
    {
     "name": "stderr",
     "output_type": "stream",
     "text": [
      " 78%|███████▊  | 102183/130662 [39:32<07:17, 65.14it/s]"
     ]
    },
    {
     "name": "stdout",
     "output_type": "stream",
     "text": [
      "skipped semisupervised-manglish/output-wav/Mamak-Sessions---How-Do-You-Deal-With-Rumors-ft-Elizabeth-Tan-Rkvd5p3I11M.mp3-part-71.wav\n"
     ]
    },
    {
     "name": "stderr",
     "output_type": "stream",
     "text": [
      " 78%|███████▊  | 102196/130662 [39:32<10:23, 45.64it/s]"
     ]
    },
    {
     "name": "stdout",
     "output_type": "stream",
     "text": [
      "skipped semisupervised-manglish/output-wav/The-Fashion-Weak-Podcast-Ep-32---Getting-Surprised-Reading-Melissa-Campbell's-(@heymelbelle)-IG-DMs-mJuKUwFpDgI.mp3-part-324.wav\n"
     ]
    },
    {
     "name": "stderr",
     "output_type": "stream",
     "text": [
      " 78%|███████▊  | 102315/130662 [39:34<08:10, 57.76it/s]"
     ]
    },
    {
     "name": "stdout",
     "output_type": "stream",
     "text": [
      "skipped semisupervised-manglish/output-wav/Mamak-Sessions---Coming-Out-ft.-Nigel-Chin-and-Magnum-79ax7ZQss5M.mp3-part-266.wav\n"
     ]
    },
    {
     "name": "stderr",
     "output_type": "stream",
     "text": [
      " 78%|███████▊  | 102337/130662 [39:35<07:34, 62.27it/s]"
     ]
    },
    {
     "name": "stdout",
     "output_type": "stream",
     "text": [
      "skipped semisupervised-manglish/output-wav/Mamak-Sessions---Nasi-Lemak-Sneakers-zLEmAKdG9vY.mp3-part-212.wav\n"
     ]
    },
    {
     "name": "stderr",
     "output_type": "stream",
     "text": [
      " 78%|███████▊  | 102359/130662 [39:35<07:26, 63.45it/s]"
     ]
    },
    {
     "name": "stdout",
     "output_type": "stream",
     "text": [
      "skipped semisupervised-manglish/output-wav/The-Fashion-Weak-Podcast-Ep-31----Possibly-Our-Most-NSFW-Episode-Yet-With-@vikarworld-xMm23vU8_og.mp3-part-75.wav\n"
     ]
    },
    {
     "name": "stderr",
     "output_type": "stream",
     "text": [
      " 78%|███████▊  | 102449/130662 [39:37<07:26, 63.15it/s]"
     ]
    },
    {
     "name": "stdout",
     "output_type": "stream",
     "text": [
      "skipped semisupervised-manglish/output-wav/The-Fashion-Weak-Podcast-EP16---Podcast-Wars-With-The-From-The-Thread-Boys-7dPzh9PpLs8.mp3-part-446.wav\n"
     ]
    },
    {
     "name": "stderr",
     "output_type": "stream",
     "text": [
      " 78%|███████▊  | 102470/130662 [39:37<10:41, 43.92it/s]"
     ]
    },
    {
     "name": "stdout",
     "output_type": "stream",
     "text": [
      "skipped semisupervised-manglish/output-wav/@Juanitadr-shows-us-what-Arnold's-Tongue-Can-Do---The-Fashion-Weak-Podcast-Episode-10-N5EfPvQKW90.mp3-part-132.wav\n"
     ]
    },
    {
     "name": "stderr",
     "output_type": "stream",
     "text": [
      " 78%|███████▊  | 102537/130662 [39:38<07:47, 60.18it/s]"
     ]
    },
    {
     "name": "stdout",
     "output_type": "stream",
     "text": [
      "skipped semisupervised-manglish/output-wav/The-Fashion-Weak-Podcast-Ep-23---Alicia-Amin-On-Being-A-'Malay'-Model-In-2019-3pKA5NvTCOA.mp3-part-633.wav\n"
     ]
    },
    {
     "name": "stderr",
     "output_type": "stream",
     "text": [
      " 78%|███████▊  | 102559/130662 [39:39<09:51, 47.49it/s]"
     ]
    },
    {
     "name": "stdout",
     "output_type": "stream",
     "text": [
      "skipped semisupervised-manglish/output-wav/Mamak-Sessions---The-Asian-Mom-Of-The-Internet-ft-Tata-Wyb6i3GoJv4.mp3-part-382.wav\n"
     ]
    },
    {
     "name": "stderr",
     "output_type": "stream",
     "text": [
      " 79%|███████▊  | 102609/130662 [39:40<07:37, 61.30it/s]"
     ]
    },
    {
     "name": "stdout",
     "output_type": "stream",
     "text": [
      "skipped semisupervised-manglish/output-wav/The-Fashion-Weak-Podcast-Ep24---Penang-Boys-@tunway-瘦虎-&-@Shawnduabui-肥龍-Talk-Zap-Fan-&-Sneakers-dykz_vuzJh0.mp3-part-281.wav\n"
     ]
    },
    {
     "name": "stderr",
     "output_type": "stream",
     "text": [
      " 79%|███████▊  | 102747/130662 [39:42<08:14, 56.40it/s]"
     ]
    },
    {
     "name": "stdout",
     "output_type": "stream",
     "text": [
      "skipped semisupervised-manglish/output-wav/Mamak-Sessions---How-Do-You-Deal-With-Rumors-ft-Elizabeth-Tan-Rkvd5p3I11M.mp3-part-82.wav\n",
      "skipped semisupervised-manglish/output-wav/The-Fashion-Weak-Podcast-Ep-32---Getting-Surprised-Reading-Melissa-Campbell's-(@heymelbelle)-IG-DMs-mJuKUwFpDgI.mp3-part-633.wav\n"
     ]
    },
    {
     "name": "stderr",
     "output_type": "stream",
     "text": [
      " 79%|███████▊  | 102761/130662 [39:43<07:48, 59.60it/s]"
     ]
    },
    {
     "name": "stdout",
     "output_type": "stream",
     "text": [
      "skipped semisupervised-manglish/output-wav/Mamak-Sessions---Do-You-Check-Your-Partner's-Text-Messages-Featuring-Lizz-Chloe-WJkSAHvYyqk.mp3-part-391.wav\n"
     ]
    },
    {
     "name": "stderr",
     "output_type": "stream",
     "text": [
      " 79%|███████▊  | 102806/130662 [39:43<07:06, 65.25it/s]"
     ]
    },
    {
     "name": "stdout",
     "output_type": "stream",
     "text": [
      "skipped semisupervised-manglish/output-wav/Mamak-Sessions-Ep6---Names-People-Always-Mispronounce-&-Facebook-Is-A-Spy-8LuihYdx0FQ.mp3-part-382.wav\n"
     ]
    },
    {
     "name": "stderr",
     "output_type": "stream",
     "text": [
      " 79%|███████▊  | 102827/130662 [39:44<08:59, 51.56it/s]"
     ]
    },
    {
     "name": "stdout",
     "output_type": "stream",
     "text": [
      "skipped semisupervised-manglish/output-wav/Mamak-Sessions---Airing-Dirty-Laundry-Online-and-Social-Justice-Warriors-FFtFXiIgsyk.mp3-part-9.wav\n"
     ]
    },
    {
     "name": "stderr",
     "output_type": "stream",
     "text": [
      " 79%|███████▉  | 102901/130662 [39:45<07:10, 64.51it/s]"
     ]
    },
    {
     "name": "stdout",
     "output_type": "stream",
     "text": [
      "skipped semisupervised-manglish/output-wav/The-Fashion-Weak-Podcast-Ep-43A---Keeping-Fair-On-The-Fairway-With-Natalia-Ng-CSP1XPZu4YY.mp3-part-251.wav\n",
      "skipped semisupervised-manglish/output-wav/Mamak-Sessions---Nasi-Lemak-Sneakers-zLEmAKdG9vY.mp3-part-2.wav\n"
     ]
    },
    {
     "name": "stderr",
     "output_type": "stream",
     "text": [
      " 79%|███████▉  | 102954/130662 [39:46<08:24, 54.92it/s]"
     ]
    },
    {
     "name": "stdout",
     "output_type": "stream",
     "text": [
      "skipped semisupervised-manglish/output-wav/Mamak-Sessions---Girls-Are-Such-Complicated-Lil-Creatures-feat.-Talitha.-I2BaN8cm6NY.mp3-part-25.wav\n"
     ]
    },
    {
     "name": "stderr",
     "output_type": "stream",
     "text": [
      " 79%|███████▉  | 102970/130662 [39:46<07:17, 63.31it/s]"
     ]
    },
    {
     "name": "stdout",
     "output_type": "stream",
     "text": [
      "skipped semisupervised-manglish/output-wav/Mamak-Sessions---Have-You-Been-Rejected,-and-Have-You-Rejected-Someone-sZFykBDVjOI.mp3-part-62.wav\n"
     ]
    },
    {
     "name": "stderr",
     "output_type": "stream",
     "text": [
      " 79%|███████▉  | 103026/130662 [39:47<08:20, 55.21it/s]"
     ]
    },
    {
     "name": "stdout",
     "output_type": "stream",
     "text": [
      "skipped semisupervised-manglish/output-wav/Mamak-Sessions-Ep9---Sibling-Rivalry-ft-Julian-Yee-670FyeJhnps.mp3-part-78.wav\n"
     ]
    },
    {
     "name": "stderr",
     "output_type": "stream",
     "text": [
      " 79%|███████▉  | 103070/130662 [39:48<07:12, 63.74it/s]"
     ]
    },
    {
     "name": "stdout",
     "output_type": "stream",
     "text": [
      "skipped semisupervised-manglish/output-wav/The-Fashion-Weak-Podcast-Ep24---Penang-Boys-@tunway-瘦虎-&-@Shawnduabui-肥龍-Talk-Zap-Fan-&-Sneakers-dykz_vuzJh0.mp3-part-463.wav\n"
     ]
    },
    {
     "name": "stderr",
     "output_type": "stream",
     "text": [
      " 79%|███████▉  | 103129/130662 [39:49<06:57, 66.02it/s]"
     ]
    },
    {
     "name": "stdout",
     "output_type": "stream",
     "text": [
      "skipped semisupervised-manglish/output-wav/The-Fashion-Weak-Podcast-Ep-19---Butt-Stuff-&-Actual-Fashion-With-Zane-Gan-jhLgzHQnAHU.mp3-part-288.wav\n"
     ]
    },
    {
     "name": "stderr",
     "output_type": "stream",
     "text": [
      " 79%|███████▉  | 103152/130662 [39:50<06:50, 66.94it/s]"
     ]
    },
    {
     "name": "stdout",
     "output_type": "stream",
     "text": [
      "skipped semisupervised-manglish/output-wav/The-Fashion-Weak-Podcast-EP-41---Investment-Tips-For-Chee-Seng-With-Fuad-&-Shaq-From-Kyoto-Protocol-eWNQhDNoSsY.mp3-part-1035.wav\n"
     ]
    },
    {
     "name": "stderr",
     "output_type": "stream",
     "text": [
      " 79%|███████▉  | 103222/130662 [39:51<07:29, 61.02it/s]"
     ]
    },
    {
     "name": "stdout",
     "output_type": "stream",
     "text": [
      "skipped semisupervised-manglish/output-wav/We-Are-Finally-Dating-Again!-We-Found-New-Men-_-The-Thirsty-Sisters-#24-fzuKoKTxfEs.mp3-part-238.wav\n"
     ]
    },
    {
     "name": "stderr",
     "output_type": "stream",
     "text": [
      " 79%|███████▉  | 103293/130662 [39:52<08:03, 56.63it/s]"
     ]
    },
    {
     "name": "stdout",
     "output_type": "stream",
     "text": [
      "skipped semisupervised-manglish/output-wav/The-Fashion-Weak-Podcast-Ep-19---Butt-Stuff-&-Actual-Fashion-With-Zane-Gan-jhLgzHQnAHU.mp3-part-35.wav\n",
      "skipped semisupervised-manglish/output-wav/Talking-Sneakers-&-Strong-Sperm-With-@bryanbotakchin---The-Fashion-Weak-Podcast-Episode-11-iugevNPFp2Y.mp3-part-156.wav\n"
     ]
    },
    {
     "name": "stderr",
     "output_type": "stream",
     "text": [
      " 79%|███████▉  | 103359/130662 [39:53<07:20, 62.01it/s]"
     ]
    },
    {
     "name": "stdout",
     "output_type": "stream",
     "text": [
      "skipped semisupervised-manglish/output-wav/Mamak-Sessions---Are-Social-Media-Influencers-Entitled-ZJ8jw3C9vB8.mp3-part-13.wav\n"
     ]
    },
    {
     "name": "stderr",
     "output_type": "stream",
     "text": [
      " 79%|███████▉  | 103443/130662 [39:55<07:10, 63.18it/s]"
     ]
    },
    {
     "name": "stdout",
     "output_type": "stream",
     "text": [
      "skipped semisupervised-manglish/output-wav/Mamak-Sessions-Ep6---Names-People-Always-Mispronounce-&-Facebook-Is-A-Spy-8LuihYdx0FQ.mp3-part-78.wav\n"
     ]
    },
    {
     "name": "stderr",
     "output_type": "stream",
     "text": [
      " 79%|███████▉  | 103458/130662 [39:55<09:31, 47.62it/s]"
     ]
    },
    {
     "name": "stdout",
     "output_type": "stream",
     "text": [
      "skipped semisupervised-manglish/output-wav/Mamak-Sessions-Ep10---Datuk-Nicol-David-is-RETIRING!-n3AR3nQEc7Y.mp3-part-127.wav\n"
     ]
    },
    {
     "name": "stderr",
     "output_type": "stream",
     "text": [
      " 79%|███████▉  | 103480/130662 [39:55<07:36, 59.59it/s]"
     ]
    },
    {
     "name": "stdout",
     "output_type": "stream",
     "text": [
      "skipped semisupervised-manglish/output-wav/Talking-Sneakers-&-Strong-Sperm-With-@bryanbotakchin---The-Fashion-Weak-Podcast-Episode-11-iugevNPFp2Y.mp3-part-457.wav\n",
      "skipped semisupervised-manglish/output-wav/@Juanitadr-shows-us-what-Arnold's-Tongue-Can-Do---The-Fashion-Weak-Podcast-Episode-10-N5EfPvQKW90.mp3-part-182.wav\n"
     ]
    },
    {
     "name": "stderr",
     "output_type": "stream",
     "text": [
      " 79%|███████▉  | 103551/130662 [39:57<10:31, 42.95it/s]"
     ]
    },
    {
     "name": "stdout",
     "output_type": "stream",
     "text": [
      "skipped semisupervised-manglish/output-wav/The-Fashion-Weak-Podcast-Ep-40---tdcjTfzYSbk.mp3-part-957.wav\n"
     ]
    },
    {
     "name": "stderr",
     "output_type": "stream",
     "text": [
      " 79%|███████▉  | 103625/130662 [39:58<06:45, 66.70it/s]"
     ]
    },
    {
     "name": "stdout",
     "output_type": "stream",
     "text": [
      "skipped semisupervised-manglish/output-wav/The-Fashion-Weak-Podcast-Ep-43A---Keeping-Fair-On-The-Fairway-With-Natalia-Ng-CSP1XPZu4YY.mp3-part-213.wav\n",
      "skipped semisupervised-manglish/output-wav/Mamak-Sessions---How-Do-You-Deal-With-Rumors-ft-Elizabeth-Tan-Rkvd5p3I11M.mp3-part-409.wav\n"
     ]
    },
    {
     "name": "stderr",
     "output_type": "stream",
     "text": [
      " 79%|███████▉  | 103656/130662 [39:59<09:00, 49.92it/s]"
     ]
    },
    {
     "name": "stdout",
     "output_type": "stream",
     "text": [
      "skipped semisupervised-manglish/output-wav/Mamak-Sessions-Podcast---How-Dean-Lewis-became-who-he-is-today-HkOQy1Nxpis.mp3-part-199.wav\n"
     ]
    },
    {
     "name": "stderr",
     "output_type": "stream",
     "text": [
      " 79%|███████▉  | 103683/130662 [39:59<07:45, 57.98it/s]"
     ]
    },
    {
     "name": "stdout",
     "output_type": "stream",
     "text": [
      "skipped semisupervised-manglish/output-wav/Mamak-Sessions---We-May-Not-Always-End-Up-Doing-What-We-Thought-We-Would..And-That's-Not-A-Bad-Thing-IAeN0jG9Hwc.mp3-part-156.wav\n"
     ]
    },
    {
     "name": "stderr",
     "output_type": "stream",
     "text": [
      " 79%|███████▉  | 103706/130662 [39:59<06:59, 64.29it/s]"
     ]
    },
    {
     "name": "stdout",
     "output_type": "stream",
     "text": [
      "skipped semisupervised-manglish/output-wav/Mamak-Sessions-Ep2---Bringing-A-Girl-Home-For-The-First-Time-Jn2oeTajYCw.mp3-part-210.wav\n"
     ]
    },
    {
     "name": "stderr",
     "output_type": "stream",
     "text": [
      " 79%|███████▉  | 103768/130662 [40:01<07:42, 58.20it/s]"
     ]
    },
    {
     "name": "stdout",
     "output_type": "stream",
     "text": [
      "skipped semisupervised-manglish/output-wav/How-To-Get-Away-With-A-Sex-Crime!-_-The-Thirsty-Sisters-#15-mIc0MmSoaiI.mp3-part-291.wav\n"
     ]
    },
    {
     "name": "stderr",
     "output_type": "stream",
     "text": [
      " 79%|███████▉  | 103790/130662 [40:01<07:12, 62.13it/s]"
     ]
    },
    {
     "name": "stdout",
     "output_type": "stream",
     "text": [
      "skipped semisupervised-manglish/output-wav/Mamak-Sessions---Nasi-Lemak-Sneakers-zLEmAKdG9vY.mp3-part-16.wav\n"
     ]
    },
    {
     "name": "stderr",
     "output_type": "stream",
     "text": [
      " 79%|███████▉  | 103805/130662 [40:01<06:52, 65.17it/s]"
     ]
    },
    {
     "name": "stdout",
     "output_type": "stream",
     "text": [
      "skipped semisupervised-manglish/output-wav/The-Fashion-Weak-Podcast-EP-41---Investment-Tips-For-Chee-Seng-With-Fuad-&-Shaq-From-Kyoto-Protocol-eWNQhDNoSsY.mp3-part-530.wav\n"
     ]
    },
    {
     "name": "stderr",
     "output_type": "stream",
     "text": [
      " 79%|███████▉  | 103826/130662 [40:02<09:24, 47.50it/s]"
     ]
    },
    {
     "name": "stdout",
     "output_type": "stream",
     "text": [
      "skipped semisupervised-manglish/output-wav/The-Fashion-Weak-Podcast-EP16---Podcast-Wars-With-The-From-The-Thread-Boys-7dPzh9PpLs8.mp3-part-35.wav\n"
     ]
    },
    {
     "name": "stderr",
     "output_type": "stream",
     "text": [
      " 80%|███████▉  | 103895/130662 [40:03<06:58, 63.97it/s]"
     ]
    },
    {
     "name": "stdout",
     "output_type": "stream",
     "text": [
      "skipped semisupervised-manglish/output-wav/The-Fashion-Weak-Podcast-Ep-23---Alicia-Amin-On-Being-A-'Malay'-Model-In-2019-3pKA5NvTCOA.mp3-part-529.wav\n"
     ]
    },
    {
     "name": "stderr",
     "output_type": "stream",
     "text": [
      " 80%|███████▉  | 103915/130662 [40:04<09:28, 47.02it/s]"
     ]
    },
    {
     "name": "stdout",
     "output_type": "stream",
     "text": [
      "skipped semisupervised-manglish/output-wav/Playing-Basketball-With-Dr-Jason-Leong---The-Fashion-Weak-Podcast-Episode-4---6K1feeFnKpQ.mp3-part-241.wav\n"
     ]
    },
    {
     "name": "stderr",
     "output_type": "stream",
     "text": [
      " 80%|███████▉  | 103987/130662 [40:05<06:53, 64.54it/s]"
     ]
    },
    {
     "name": "stdout",
     "output_type": "stream",
     "text": [
      "skipped semisupervised-manglish/output-wav/The-Fashion-Weak-Podcast-EP-27----Peter-Davis-talks-cars,-mixed-rice-and-some-fashion.-rxmMRAzLRJ0.mp3-part-661.wav\n",
      "skipped semisupervised-manglish/output-wav/Mamak-Sessions---The-Asian-Mom-Of-The-Internet-ft-Tata-Wyb6i3GoJv4.mp3-part-533.wav\n"
     ]
    },
    {
     "name": "stderr",
     "output_type": "stream",
     "text": [
      " 80%|███████▉  | 104043/130662 [40:06<06:30, 68.09it/s]"
     ]
    },
    {
     "name": "stdout",
     "output_type": "stream",
     "text": [
      "skipped semisupervised-manglish/output-wav/The-Fashion-Weak-Podcast-EP-36---Why-guys-REALLY-go-for-spin-class-with-Oxygen-Cycle-RqG0tHR9D1g.mp3-part-351.wav\n",
      "skipped semisupervised-manglish/output-wav/The-Fashion-Weak-Podcast-Ep-43A---Keeping-Fair-On-The-Fairway-With-Natalia-Ng-CSP1XPZu4YY.mp3-part-752.wav\n"
     ]
    },
    {
     "name": "stderr",
     "output_type": "stream",
     "text": [
      " 80%|███████▉  | 104121/130662 [40:07<08:04, 54.75it/s]"
     ]
    },
    {
     "name": "stdout",
     "output_type": "stream",
     "text": [
      "skipped semisupervised-manglish/output-wav/The-Fashion-Weak-Podcast-Ep-43A---Keeping-Fair-On-The-Fairway-With-Natalia-Ng-CSP1XPZu4YY.mp3-part-307.wav\n"
     ]
    },
    {
     "name": "stderr",
     "output_type": "stream",
     "text": [
      " 80%|███████▉  | 104150/130662 [40:08<07:18, 60.51it/s]"
     ]
    },
    {
     "name": "stdout",
     "output_type": "stream",
     "text": [
      "skipped semisupervised-manglish/output-wav/The-Fashion-Weak-Podcast-Ep35---Is-New-Balance-Cool-Now-Talking-everything-NOT-Nike-with-@adlysyairi-3b0bYe36KNE.mp3-part-289.wav\n"
     ]
    },
    {
     "name": "stderr",
     "output_type": "stream",
     "text": [
      " 80%|███████▉  | 104173/130662 [40:08<06:25, 68.68it/s]"
     ]
    },
    {
     "name": "stdout",
     "output_type": "stream",
     "text": [
      "skipped semisupervised-manglish/output-wav/The-Fashion-Weak-Podcast-Ep-45---Finessing-A-New-Phone-Every-Year-With-Mamak-Rap-King-Jiven-Sekar-VlovwtVYuw0.mp3-part-484.wav\n",
      "skipped semisupervised-manglish/output-wav/Skin-Care-Routines,-Death,-Life-Purpose-and-More-_-Singaporean-Trio-Podcast-#2-6yW185RJkGw.mp3-part-177.wav\n"
     ]
    },
    {
     "name": "stderr",
     "output_type": "stream",
     "text": [
      " 80%|███████▉  | 104221/130662 [40:09<07:14, 60.92it/s]"
     ]
    },
    {
     "name": "stdout",
     "output_type": "stream",
     "text": [
      "skipped semisupervised-manglish/output-wav/Mamak-Sessions---Do-You-Check-Your-Partner's-Text-Messages-Featuring-Lizz-Chloe-WJkSAHvYyqk.mp3-part-97.wav\n"
     ]
    },
    {
     "name": "stderr",
     "output_type": "stream",
     "text": [
      " 80%|███████▉  | 104265/130662 [40:10<06:51, 64.15it/s]"
     ]
    },
    {
     "name": "stdout",
     "output_type": "stream",
     "text": [
      "skipped semisupervised-manglish/output-wav/8-Wheels-Vs-4-Wheels-With-Sukeats-From-Wheel-Love---The-Fashion-Weak-Podcast-ep-12-fgaCmnMdZ0c.mp3-part-157.wav\n"
     ]
    },
    {
     "name": "stderr",
     "output_type": "stream",
     "text": [
      " 80%|███████▉  | 104350/130662 [40:11<07:14, 60.51it/s]"
     ]
    },
    {
     "name": "stdout",
     "output_type": "stream",
     "text": [
      "skipped semisupervised-manglish/output-wav/The-Fashion-Weak-Podcast-Ep-40---tdcjTfzYSbk.mp3-part-991.wav\n"
     ]
    },
    {
     "name": "stderr",
     "output_type": "stream",
     "text": [
      " 80%|███████▉  | 104380/130662 [40:12<08:19, 52.66it/s]"
     ]
    },
    {
     "name": "stdout",
     "output_type": "stream",
     "text": [
      "skipped semisupervised-manglish/output-wav/The-Fashion-Weak-Podcast-Ep-30---On-her-way-to-Supermodel-dom,-ASNTM--Cycle-5-Runner-Up-@shikingomez-otK3Gl_XX4c.mp3-part-42.wav\n",
      "skipped semisupervised-manglish/output-wav/How-To-Be-A-Damn-Good-Software-Developer-+-Israel-Startup-Culture-_-Singaporean-Podcast-#11-_-Mark-cs2LkcSpNpw.mp3-part-228.wav\n"
     ]
    },
    {
     "name": "stderr",
     "output_type": "stream",
     "text": [
      " 80%|███████▉  | 104526/130662 [40:14<06:41, 65.03it/s]"
     ]
    },
    {
     "name": "stdout",
     "output_type": "stream",
     "text": [
      "skipped semisupervised-manglish/output-wav/We-Are-Finally-Dating-Again!-We-Found-New-Men-_-The-Thirsty-Sisters-#24-fzuKoKTxfEs.mp3-part-106.wav\n"
     ]
    },
    {
     "name": "stderr",
     "output_type": "stream",
     "text": [
      " 80%|████████  | 104575/130662 [40:15<07:34, 57.34it/s]"
     ]
    },
    {
     "name": "stdout",
     "output_type": "stream",
     "text": [
      "skipped semisupervised-manglish/output-wav/The-Fashion-Weak-Podcast-Ep-29---Valentines-Day-With-Becca-Lee-and-Leonard-Chua-UWm1ESejkzs.mp3-part-296.wav\n"
     ]
    },
    {
     "name": "stderr",
     "output_type": "stream",
     "text": [
      " 80%|████████  | 104682/130662 [40:17<06:33, 66.07it/s]"
     ]
    },
    {
     "name": "stdout",
     "output_type": "stream",
     "text": [
      "skipped semisupervised-manglish/output-wav/Mamak-Sessions-Ep1---Girls-Are-Happier-With-Less-Attractive-Men,-And-The-Dramatic-Pizza-Order-2M8U_mxGbcw.mp3-part-213.wav\n",
      "skipped semisupervised-manglish/output-wav/The-Fashion-Weak-Podcast-Ep-40---tdcjTfzYSbk.mp3-part-38.wav\n",
      "skipped semisupervised-manglish/output-wav/Mamak-Sessions---Getting-Married-in-Vegas,-and-Sugar-Babies-ft.-Dennis-Yin-Cq6Yjwsu63U.mp3-part-101.wav\n"
     ]
    },
    {
     "name": "stderr",
     "output_type": "stream",
     "text": [
      " 80%|████████  | 104712/130662 [40:18<06:19, 68.41it/s]"
     ]
    },
    {
     "name": "stdout",
     "output_type": "stream",
     "text": [
      "skipped semisupervised-manglish/output-wav/Mamak-Sessions-Podcast---Is-it-ok-to-move-in-with-your-Partner-before-MARRIAGE-nGnyZ5c00Mo.mp3-part-47.wav\n"
     ]
    },
    {
     "name": "stderr",
     "output_type": "stream",
     "text": [
      " 80%|████████  | 104834/130662 [40:20<07:32, 57.13it/s]"
     ]
    },
    {
     "name": "stdout",
     "output_type": "stream",
     "text": [
      "skipped semisupervised-manglish/output-wav/Being-A-Single-Divorced-Woman-At-32-_-The-Thirsty-Sisters-#11-8DMyfcjyrZQ.mp3-part-269.wav\n",
      "skipped semisupervised-manglish/output-wav/The-Fashion-Weak-Podcast-EP-41---Investment-Tips-For-Chee-Seng-With-Fuad-&-Shaq-From-Kyoto-Protocol-eWNQhDNoSsY.mp3-part-913.wav\n"
     ]
    },
    {
     "name": "stderr",
     "output_type": "stream",
     "text": [
      " 80%|████████  | 104856/130662 [40:20<06:44, 63.73it/s]"
     ]
    },
    {
     "name": "stdout",
     "output_type": "stream",
     "text": [
      "skipped semisupervised-manglish/output-wav/The-Fashion-Weak-Podcast-Ep-23---Alicia-Amin-On-Being-A-'Malay'-Model-In-2019-3pKA5NvTCOA.mp3-part-782.wav\n"
     ]
    },
    {
     "name": "stderr",
     "output_type": "stream",
     "text": [
      " 80%|████████  | 104961/130662 [40:22<06:49, 62.78it/s]"
     ]
    },
    {
     "name": "stdout",
     "output_type": "stream",
     "text": [
      "skipped semisupervised-manglish/output-wav/How-to-Find-a-Fulfilling-Career-&-Deal-with-Self-Judgement-_-Singaporean-Podcast-#24-_-Khye-Chan-LXSNbZF9ag4.mp3-part-7.wav\n",
      "skipped semisupervised-manglish/output-wav/The-Fashion-Weak-Podcast-Ep-23---Alicia-Amin-On-Being-A-'Malay'-Model-In-2019-3pKA5NvTCOA.mp3-part-159.wav\n"
     ]
    },
    {
     "name": "stderr",
     "output_type": "stream",
     "text": [
      " 80%|████████  | 104983/130662 [40:23<06:36, 64.69it/s]"
     ]
    },
    {
     "name": "stdout",
     "output_type": "stream",
     "text": [
      "skipped semisupervised-manglish/output-wav/The-Fashion-Weak-Podcast-Ep-40---tdcjTfzYSbk.mp3-part-187.wav\n"
     ]
    },
    {
     "name": "stderr",
     "output_type": "stream",
     "text": [
      " 80%|████████  | 105068/130662 [40:24<06:41, 63.74it/s]"
     ]
    },
    {
     "name": "stdout",
     "output_type": "stream",
     "text": [
      "skipped semisupervised-manglish/output-wav/The-Fashion-Weak-Podcast-EP-27----Peter-Davis-talks-cars,-mixed-rice-and-some-fashion.-rxmMRAzLRJ0.mp3-part-236.wav\n"
     ]
    },
    {
     "name": "stderr",
     "output_type": "stream",
     "text": [
      " 80%|████████  | 105112/130662 [40:25<07:31, 56.56it/s]"
     ]
    },
    {
     "name": "stdout",
     "output_type": "stream",
     "text": [
      "skipped semisupervised-manglish/output-wav/Burning-Hot-Fever!-4-Doctors-Tried-To-Save-Me-In-The-Hospital!-_-The-Thirsty-Sisters-#6-Jw7B8efygWI.mp3-part-77.wav\n"
     ]
    },
    {
     "name": "stderr",
     "output_type": "stream",
     "text": [
      " 80%|████████  | 105135/130662 [40:25<06:47, 62.66it/s]"
     ]
    },
    {
     "name": "stdout",
     "output_type": "stream",
     "text": [
      "skipped semisupervised-manglish/output-wav/The-Fashion-Weak-Podcast-Ep-28-@dreamrocketeers-on-that-Rolex-you-should-cop-to-flex-on-poor-friends-shV1F1JlDzk.mp3-part-645.wav\n"
     ]
    },
    {
     "name": "stderr",
     "output_type": "stream",
     "text": [
      " 80%|████████  | 105151/130662 [40:26<06:10, 68.90it/s]"
     ]
    },
    {
     "name": "stdout",
     "output_type": "stream",
     "text": [
      "skipped semisupervised-manglish/output-wav/Dance-Moves-To-Pick-Up-Girls-At-The-Club-With-Adidas-Creator-Maybelline-Wong-(@definitelyMayb_)-vRnkHzyyBc4.mp3-part-245.wav\n"
     ]
    },
    {
     "name": "stderr",
     "output_type": "stream",
     "text": [
      " 80%|████████  | 105175/130662 [40:26<06:08, 69.23it/s]"
     ]
    },
    {
     "name": "stdout",
     "output_type": "stream",
     "text": [
      "skipped semisupervised-manglish/output-wav/How-To-Get-Away-With-A-Sex-Crime!-_-The-Thirsty-Sisters-#15-mIc0MmSoaiI.mp3-part-73.wav\n",
      "skipped semisupervised-manglish/output-wav/The-Fashion-Weak-Podcast-EP16---Podcast-Wars-With-The-From-The-Thread-Boys-7dPzh9PpLs8.mp3-part-213.wav\n"
     ]
    },
    {
     "name": "stderr",
     "output_type": "stream",
     "text": [
      " 81%|████████  | 105281/130662 [40:28<08:51, 47.79it/s]"
     ]
    },
    {
     "name": "stdout",
     "output_type": "stream",
     "text": [
      "skipped semisupervised-manglish/output-wav/The-Fashion-Weak-Podcast-Ep-28-@dreamrocketeers-on-that-Rolex-you-should-cop-to-flex-on-poor-friends-shV1F1JlDzk.mp3-part-380.wav\n"
     ]
    },
    {
     "name": "stderr",
     "output_type": "stream",
     "text": [
      " 81%|████████  | 105420/130662 [40:31<06:46, 62.03it/s]"
     ]
    },
    {
     "name": "stdout",
     "output_type": "stream",
     "text": [
      "skipped semisupervised-manglish/output-wav/Crazy-Jobs-We-Had-Before-Youtube!-_-The-Thirsty-Sisters-#8-oJPtCCTzs_o.mp3-part-11.wav\n"
     ]
    },
    {
     "name": "stderr",
     "output_type": "stream",
     "text": [
      " 81%|████████  | 105435/130662 [40:31<06:50, 61.39it/s]"
     ]
    },
    {
     "name": "stdout",
     "output_type": "stream",
     "text": [
      "skipped semisupervised-manglish/output-wav/Mamak-Sessions---How-Do-You-Deal-With-Rumors-ft-Elizabeth-Tan-Rkvd5p3I11M.mp3-part-315.wav\n"
     ]
    },
    {
     "name": "stderr",
     "output_type": "stream",
     "text": [
      " 81%|████████  | 105464/130662 [40:31<08:05, 51.85it/s]"
     ]
    },
    {
     "name": "stdout",
     "output_type": "stream",
     "text": [
      "skipped semisupervised-manglish/output-wav/The-Fashion-Weak-Podcast-EP-41---Investment-Tips-For-Chee-Seng-With-Fuad-&-Shaq-From-Kyoto-Protocol-eWNQhDNoSsY.mp3-part-39.wav\n",
      "skipped semisupervised-manglish/output-wav/Is-Cancel-Culture-Problematic-_-IMO-Ep.25-luGvazsVsHc.mp3-part-136.wav\n"
     ]
    },
    {
     "name": "stderr",
     "output_type": "stream",
     "text": [
      " 81%|████████  | 105479/130662 [40:32<06:59, 60.09it/s]"
     ]
    },
    {
     "name": "stdout",
     "output_type": "stream",
     "text": [
      "skipped semisupervised-manglish/output-wav/Mamak-Sessions-Ep6---Names-People-Always-Mispronounce-&-Facebook-Is-A-Spy-8LuihYdx0FQ.mp3-part-195.wav\n"
     ]
    },
    {
     "name": "stderr",
     "output_type": "stream",
     "text": [
      " 81%|████████  | 105500/130662 [40:32<06:56, 60.48it/s]"
     ]
    },
    {
     "name": "stdout",
     "output_type": "stream",
     "text": [
      "skipped semisupervised-manglish/output-wav/Mamak-Sessions---How-Do-You-Deal-With-Rumors-ft-Elizabeth-Tan-Rkvd5p3I11M.mp3-part-465.wav\n"
     ]
    },
    {
     "name": "stderr",
     "output_type": "stream",
     "text": [
      " 81%|████████  | 105556/130662 [40:33<08:05, 51.67it/s]"
     ]
    },
    {
     "name": "stdout",
     "output_type": "stream",
     "text": [
      "skipped semisupervised-manglish/output-wav/Mamak-Sessions---Quitting-The-Medical-Line-To-Make-People-Laugh-ft-Dr.-Jason-Leong-FcD9MpeWqEI.mp3-part-365.wav\n"
     ]
    },
    {
     "name": "stderr",
     "output_type": "stream",
     "text": [
      " 81%|████████  | 105592/130662 [40:34<06:37, 63.02it/s]"
     ]
    },
    {
     "name": "stdout",
     "output_type": "stream",
     "text": [
      "skipped semisupervised-manglish/output-wav/Mamak-Sessions---Getting-Married-in-Vegas,-and-Sugar-Babies-ft.-Dennis-Yin-Cq6Yjwsu63U.mp3-part-31.wav\n"
     ]
    },
    {
     "name": "stderr",
     "output_type": "stream",
     "text": [
      " 81%|████████  | 105607/130662 [40:34<06:30, 64.22it/s]"
     ]
    },
    {
     "name": "stdout",
     "output_type": "stream",
     "text": [
      "skipped semisupervised-manglish/output-wav/The-Fashion-Weak-Podcast-Ep24---Penang-Boys-@tunway-瘦虎-&-@Shawnduabui-肥龍-Talk-Zap-Fan-&-Sneakers-dykz_vuzJh0.mp3-part-494.wav\n"
     ]
    },
    {
     "name": "stderr",
     "output_type": "stream",
     "text": [
      " 81%|████████  | 105664/130662 [40:35<07:02, 59.21it/s]"
     ]
    },
    {
     "name": "stdout",
     "output_type": "stream",
     "text": [
      "skipped semisupervised-manglish/output-wav/Conversations-with-a-Young-Singaporean-CEO--Gao-Fei,-CEO-of-LearnSeeker-_-Singaporean-Podcast-#13--b9YHjghfd2E.mp3-part-140.wav\n"
     ]
    },
    {
     "name": "stderr",
     "output_type": "stream",
     "text": [
      " 81%|████████  | 105779/130662 [40:37<06:14, 66.39it/s]"
     ]
    },
    {
     "name": "stdout",
     "output_type": "stream",
     "text": [
      "skipped semisupervised-manglish/output-wav/The-Fashion-Weak-Podcast-EP-27----Peter-Davis-talks-cars,-mixed-rice-and-some-fashion.-rxmMRAzLRJ0.mp3-part-640.wav\n"
     ]
    },
    {
     "name": "stderr",
     "output_type": "stream",
     "text": [
      " 81%|████████  | 105827/130662 [40:38<07:32, 54.90it/s]"
     ]
    },
    {
     "name": "stdout",
     "output_type": "stream",
     "text": [
      "skipped semisupervised-manglish/output-wav/Skin-Care-Routines,-Death,-Life-Purpose-and-More-_-Singaporean-Trio-Podcast-#2-6yW185RJkGw.mp3-part-10.wav\n",
      "skipped semisupervised-manglish/output-wav/Conversations-with-a-Young-Singaporean-CEO--Gao-Fei,-CEO-of-LearnSeeker-_-Singaporean-Podcast-#13--b9YHjghfd2E.mp3-part-50.wav\n"
     ]
    },
    {
     "name": "stderr",
     "output_type": "stream",
     "text": [
      " 81%|████████  | 106063/130662 [40:42<06:02, 67.81it/s]"
     ]
    },
    {
     "name": "stdout",
     "output_type": "stream",
     "text": [
      "skipped semisupervised-manglish/output-wav/The-Fashion-Weak-Podcast-Ep-18---Putting-The-Deep-In-Deepavali-With-Keren-Bala-lvIbeZ3qgsU.mp3-part-215.wav\n",
      "skipped semisupervised-manglish/output-wav/Dance-Moves-To-Pick-Up-Girls-At-The-Club-With-Adidas-Creator-Maybelline-Wong-(@definitelyMayb_)-vRnkHzyyBc4.mp3-part-247.wav\n"
     ]
    },
    {
     "name": "stderr",
     "output_type": "stream",
     "text": [
      " 81%|████████  | 106091/130662 [40:43<07:22, 55.53it/s]"
     ]
    },
    {
     "name": "stdout",
     "output_type": "stream",
     "text": [
      "skipped semisupervised-manglish/output-wav/The-Fashion-Weak-Podcast-Ep-38---TikTok-Royalty-Roshan-Jeet-aka-Roshannnn1-lPnRg9UsP0M.mp3-part-53.wav\n",
      "skipped semisupervised-manglish/output-wav/The-Fashion-Weak-Podcast-Ep-23---Alicia-Amin-On-Being-A-'Malay'-Model-In-2019-3pKA5NvTCOA.mp3-part-71.wav\n"
     ]
    },
    {
     "name": "stderr",
     "output_type": "stream",
     "text": [
      " 81%|████████  | 106119/130662 [40:43<06:48, 60.05it/s]"
     ]
    },
    {
     "name": "stdout",
     "output_type": "stream",
     "text": [
      "skipped semisupervised-manglish/output-wav/Mamak-Sessions-Ep9---Sibling-Rivalry-ft-Julian-Yee-670FyeJhnps.mp3-part-307.wav\n"
     ]
    },
    {
     "name": "stderr",
     "output_type": "stream",
     "text": [
      " 81%|████████▏ | 106249/130662 [40:45<05:48, 69.98it/s]"
     ]
    },
    {
     "name": "stdout",
     "output_type": "stream",
     "text": [
      "skipped semisupervised-manglish/output-wav/The-Fashion-Weak-Podcast-Ep-23---Alicia-Amin-On-Being-A-'Malay'-Model-In-2019-3pKA5NvTCOA.mp3-part-319.wav\n",
      "skipped semisupervised-manglish/output-wav/Mamak-Sessions---How-I-Got-Quarantined-Because-Of-Covid-19-Feat.-Mark-O'Dea-5zAsyNKfzps.mp3-part-18.wav\n",
      "skipped semisupervised-manglish/output-wav/The-Fashion-Weak-Podcast-EP-41---Investment-Tips-For-Chee-Seng-With-Fuad-&-Shaq-From-Kyoto-Protocol-eWNQhDNoSsY.mp3-part-1016.wav\n"
     ]
    },
    {
     "name": "stderr",
     "output_type": "stream",
     "text": [
      " 81%|████████▏ | 106301/130662 [40:46<06:51, 59.23it/s]"
     ]
    },
    {
     "name": "stdout",
     "output_type": "stream",
     "text": [
      "skipped semisupervised-manglish/output-wav/The-Fashion-Weak-Podcast-Ep-15---Underwear-Sneakers-&-Fruits-With-@OhZooey-HDuY9UdkkaE.mp3-part-131.wav\n"
     ]
    },
    {
     "name": "stderr",
     "output_type": "stream",
     "text": [
      " 81%|████████▏ | 106336/130662 [40:47<06:18, 64.22it/s]"
     ]
    },
    {
     "name": "stdout",
     "output_type": "stream",
     "text": [
      "skipped semisupervised-manglish/output-wav/Mamak-Sessions-Ep6---Names-People-Always-Mispronounce-&-Facebook-Is-A-Spy-8LuihYdx0FQ.mp3-part-370.wav\n"
     ]
    },
    {
     "name": "stderr",
     "output_type": "stream",
     "text": [
      " 81%|████████▏ | 106379/130662 [40:48<06:50, 59.18it/s]"
     ]
    },
    {
     "name": "stdout",
     "output_type": "stream",
     "text": [
      "skipped semisupervised-manglish/output-wav/The-Fashion-Weak-Podcast-Ep-43A---Keeping-Fair-On-The-Fairway-With-Natalia-Ng-CSP1XPZu4YY.mp3-part-414.wav\n"
     ]
    },
    {
     "name": "stderr",
     "output_type": "stream",
     "text": [
      " 81%|████████▏ | 106451/130662 [40:49<07:52, 51.25it/s]"
     ]
    },
    {
     "name": "stdout",
     "output_type": "stream",
     "text": [
      "skipped semisupervised-manglish/output-wav/Dance-Moves-To-Pick-Up-Girls-At-The-Club-With-Adidas-Creator-Maybelline-Wong-(@definitelyMayb_)-vRnkHzyyBc4.mp3-part-197.wav\n",
      "skipped semisupervised-manglish/output-wav/Mamak-Sessions---How-I-Got-Quarantined-Because-Of-Covid-19-Feat.-Mark-O'Dea-5zAsyNKfzps.mp3-part-11.wav\n"
     ]
    },
    {
     "name": "stderr",
     "output_type": "stream",
     "text": [
      " 82%|████████▏ | 106576/130662 [40:51<05:59, 66.95it/s]"
     ]
    },
    {
     "name": "stdout",
     "output_type": "stream",
     "text": [
      "skipped semisupervised-manglish/output-wav/My-Future-In-Laws-Threw-Me-Out!-_-The-Thirsty-Sisters-#18-ViJXVHWTRz8.mp3-part-274.wav\n"
     ]
    },
    {
     "name": "stderr",
     "output_type": "stream",
     "text": [
      " 82%|████████▏ | 106591/130662 [40:52<06:32, 61.28it/s]"
     ]
    },
    {
     "name": "stdout",
     "output_type": "stream",
     "text": [
      "skipped semisupervised-manglish/output-wav/The-Fashion-Weak-Podcast-Ep-32---Getting-Surprised-Reading-Melissa-Campbell's-(@heymelbelle)-IG-DMs-mJuKUwFpDgI.mp3-part-5.wav\n"
     ]
    },
    {
     "name": "stderr",
     "output_type": "stream",
     "text": [
      " 82%|████████▏ | 106620/130662 [40:52<09:09, 43.78it/s]"
     ]
    },
    {
     "name": "stdout",
     "output_type": "stream",
     "text": [
      "skipped semisupervised-manglish/output-wav/Mamak-Sessions-Podcast---Is-it-ok-to-move-in-with-your-Partner-before-MARRIAGE-nGnyZ5c00Mo.mp3-part-48.wav\n"
     ]
    },
    {
     "name": "stderr",
     "output_type": "stream",
     "text": [
      " 82%|████████▏ | 106647/130662 [40:53<07:19, 54.64it/s]"
     ]
    },
    {
     "name": "stdout",
     "output_type": "stream",
     "text": [
      "skipped semisupervised-manglish/output-wav/The-Fashion-Weak-Podcast-EP14---Faking-it-on-the-gram-and-faking-Gasms-with-Sandra-Woo-(@sandrawooo)--XwvfCTnseI.mp3-part-212.wav\n"
     ]
    },
    {
     "name": "stderr",
     "output_type": "stream",
     "text": [
      " 82%|████████▏ | 106662/130662 [40:53<06:37, 60.44it/s]"
     ]
    },
    {
     "name": "stdout",
     "output_type": "stream",
     "text": [
      "skipped semisupervised-manglish/output-wav/The-Fashion-Weak-Podcast-Ep-40---tdcjTfzYSbk.mp3-part-93.wav\n"
     ]
    },
    {
     "name": "stderr",
     "output_type": "stream",
     "text": [
      " 82%|████████▏ | 106693/130662 [40:53<05:50, 68.42it/s]"
     ]
    },
    {
     "name": "stdout",
     "output_type": "stream",
     "text": [
      "skipped semisupervised-manglish/output-wav/Why-We-Love-Our-Malay-Community!-_-The-Thirsty-Sisters-#20-F15a-MH_Hzg.mp3-part-149.wav\n"
     ]
    },
    {
     "name": "stderr",
     "output_type": "stream",
     "text": [
      " 82%|████████▏ | 106760/130662 [40:55<06:13, 64.00it/s]"
     ]
    },
    {
     "name": "stdout",
     "output_type": "stream",
     "text": [
      "skipped semisupervised-manglish/output-wav/8-Wheels-Vs-4-Wheels-With-Sukeats-From-Wheel-Love---The-Fashion-Weak-Podcast-ep-12-fgaCmnMdZ0c.mp3-part-44.wav\n",
      "skipped semisupervised-manglish/output-wav/@Juanitadr-shows-us-what-Arnold's-Tongue-Can-Do---The-Fashion-Weak-Podcast-Episode-10-N5EfPvQKW90.mp3-part-92.wav\n"
     ]
    },
    {
     "name": "stderr",
     "output_type": "stream",
     "text": [
      " 82%|████████▏ | 106784/130662 [40:55<05:37, 70.81it/s]"
     ]
    },
    {
     "name": "stdout",
     "output_type": "stream",
     "text": [
      "skipped semisupervised-manglish/output-wav/Dance-Moves-To-Pick-Up-Girls-At-The-Club-With-Adidas-Creator-Maybelline-Wong-(@definitelyMayb_)-vRnkHzyyBc4.mp3-part-480.wav\n",
      "skipped semisupervised-manglish/output-wav/Click-Bait-And-24k-Shoe-Shopping-With-Harvinth-Skin---The-Fashion-Weak-Podcast-Episode-08-adq-khQo2eQ.mp3-part-104.wav\n",
      "skipped semisupervised-manglish/output-wav/Mamak-Sessions---From-Giving-Up,-To-Getting-A-NETFLIX-Special-Q54z0mutz5Q.mp3-part-505.wav\n"
     ]
    },
    {
     "name": "stderr",
     "output_type": "stream",
     "text": [
      " 82%|████████▏ | 106851/130662 [40:56<05:55, 66.99it/s]"
     ]
    },
    {
     "name": "stdout",
     "output_type": "stream",
     "text": [
      "skipped semisupervised-manglish/output-wav/The-Fashion-Weak-Podcast-Ep-38---TikTok-Royalty-Roshan-Jeet-aka-Roshannnn1-lPnRg9UsP0M.mp3-part-951.wav\n",
      "skipped semisupervised-manglish/output-wav/The-Fashion-Weak-Podcast-Ep-43A---Keeping-Fair-On-The-Fairway-With-Natalia-Ng-CSP1XPZu4YY.mp3-part-204.wav\n"
     ]
    },
    {
     "name": "stderr",
     "output_type": "stream",
     "text": [
      " 82%|████████▏ | 106944/130662 [40:58<06:29, 60.85it/s]"
     ]
    },
    {
     "name": "stdout",
     "output_type": "stream",
     "text": [
      "skipped semisupervised-manglish/output-wav/Burnout-in-the-Media-Industry-+-Passion-in-Theatre--_-Singaporean-Podcast-#16-_-Rennes-Lee-f7qEqPNzGk8.mp3-part-80.wav\n"
     ]
    },
    {
     "name": "stderr",
     "output_type": "stream",
     "text": [
      " 82%|████████▏ | 107004/130662 [40:59<07:13, 54.59it/s]"
     ]
    },
    {
     "name": "stdout",
     "output_type": "stream",
     "text": [
      "skipped semisupervised-manglish/output-wav/The-Fashion-Weak-Podcast-Ep-32---Getting-Surprised-Reading-Melissa-Campbell's-(@heymelbelle)-IG-DMs-mJuKUwFpDgI.mp3-part-505.wav\n"
     ]
    },
    {
     "name": "stderr",
     "output_type": "stream",
     "text": [
      " 82%|████████▏ | 107066/130662 [41:00<05:34, 70.56it/s]"
     ]
    },
    {
     "name": "stdout",
     "output_type": "stream",
     "text": [
      "skipped semisupervised-manglish/output-wav/The-Fashion-Weak-Podcast-Ep-43---Thirst-Trapping-Simps-&-Loving-Your-Body-From-The-Outside-In-6R87P6YD2c4.mp3-part-111.wav\n",
      "skipped semisupervised-manglish/output-wav/I-Dated-A-Guy-Twice-My-Age-Our-First-Date-Don'ts-_-The-Thirsty-Sisters-#19-3-DoQSmz5aI.mp3-part-377.wav\n",
      "skipped semisupervised-manglish/output-wav/Mamak-Sessions---Nasi-Lemak-Sneakers-zLEmAKdG9vY.mp3-part-106.wav\n"
     ]
    },
    {
     "name": "stderr",
     "output_type": "stream",
     "text": [
      " 82%|████████▏ | 107103/130662 [41:01<06:44, 58.25it/s]"
     ]
    },
    {
     "name": "stdout",
     "output_type": "stream",
     "text": [
      "skipped semisupervised-manglish/output-wav/The-Fashion-Weak-Podcast-EP-41---Investment-Tips-For-Chee-Seng-With-Fuad-&-Shaq-From-Kyoto-Protocol-eWNQhDNoSsY.mp3-part-739.wav\n"
     ]
    },
    {
     "name": "stderr",
     "output_type": "stream",
     "text": [
      " 82%|████████▏ | 107159/130662 [41:02<06:30, 60.20it/s]"
     ]
    },
    {
     "name": "stdout",
     "output_type": "stream",
     "text": [
      "skipped semisupervised-manglish/output-wav/The-Fashion-Weak-Podcast-EP16---Podcast-Wars-With-The-From-The-Thread-Boys-7dPzh9PpLs8.mp3-part-651.wav\n"
     ]
    },
    {
     "name": "stderr",
     "output_type": "stream",
     "text": [
      " 82%|████████▏ | 107186/130662 [41:02<07:54, 49.43it/s]"
     ]
    },
    {
     "name": "stdout",
     "output_type": "stream",
     "text": [
      "skipped semisupervised-manglish/output-wav/Amander-Reveals-Why-She-Left-Titan---The-Team-Titan-Show-7byI9tIJeRk.mp3-part-369.wav\n"
     ]
    },
    {
     "name": "stderr",
     "output_type": "stream",
     "text": [
      " 82%|████████▏ | 107228/130662 [41:03<06:12, 62.92it/s]"
     ]
    },
    {
     "name": "stdout",
     "output_type": "stream",
     "text": [
      "skipped semisupervised-manglish/output-wav/The-Fashion-Weak-Podcast-Ep-23---Alicia-Amin-On-Being-A-'Malay'-Model-In-2019-3pKA5NvTCOA.mp3-part-153.wav\n",
      "skipped semisupervised-manglish/output-wav/Talking-Sneakers-&-Strong-Sperm-With-@bryanbotakchin---The-Fashion-Weak-Podcast-Episode-11-iugevNPFp2Y.mp3-part-223.wav\n"
     ]
    },
    {
     "name": "stderr",
     "output_type": "stream",
     "text": [
      " 82%|████████▏ | 107250/130662 [41:03<05:59, 65.10it/s]"
     ]
    },
    {
     "name": "stdout",
     "output_type": "stream",
     "text": [
      "skipped semisupervised-manglish/output-wav/Mamak-Sessions---How-I-Got-Quarantined-Because-Of-Covid-19-Feat.-Mark-O'Dea-5zAsyNKfzps.mp3-part-282.wav\n"
     ]
    },
    {
     "name": "stderr",
     "output_type": "stream",
     "text": [
      " 82%|████████▏ | 107511/130662 [41:08<06:02, 63.94it/s]"
     ]
    },
    {
     "name": "stdout",
     "output_type": "stream",
     "text": [
      "skipped semisupervised-manglish/output-wav/The-Fashion-Weak-Podcast-EP-25---Don't-Mess-With-@zamaeraaa's-Hello-Kitty-Cup-H4M_ZUDAT3k.mp3-part-191.wav\n"
     ]
    },
    {
     "name": "stderr",
     "output_type": "stream",
     "text": [
      " 82%|████████▏ | 107549/130662 [41:09<06:21, 60.55it/s]"
     ]
    },
    {
     "name": "stdout",
     "output_type": "stream",
     "text": [
      "skipped semisupervised-manglish/output-wav/Mamak-Sessions---Nasi-Lemak-Sneakers-zLEmAKdG9vY.mp3-part-374.wav\n"
     ]
    },
    {
     "name": "stderr",
     "output_type": "stream",
     "text": [
      " 82%|████████▏ | 107606/130662 [41:10<05:53, 65.16it/s]"
     ]
    },
    {
     "name": "stdout",
     "output_type": "stream",
     "text": [
      "skipped semisupervised-manglish/output-wav/Relatives-Ruin-My-Wedding!-_-The-Thirsty-Sisters-#22-98CiTQQtqak.mp3-part-16.wav\n"
     ]
    },
    {
     "name": "stderr",
     "output_type": "stream",
     "text": [
      " 82%|████████▏ | 107640/130662 [41:11<06:57, 55.08it/s]"
     ]
    },
    {
     "name": "stdout",
     "output_type": "stream",
     "text": [
      "skipped semisupervised-manglish/output-wav/Dance-Moves-To-Pick-Up-Girls-At-The-Club-With-Adidas-Creator-Maybelline-Wong-(@definitelyMayb_)-vRnkHzyyBc4.mp3-part-868.wav\n"
     ]
    },
    {
     "name": "stderr",
     "output_type": "stream",
     "text": [
      " 82%|████████▏ | 107656/130662 [41:11<06:07, 62.62it/s]"
     ]
    },
    {
     "name": "stdout",
     "output_type": "stream",
     "text": [
      "skipped semisupervised-manglish/output-wav/MILF-hunting-with-Audrey-Ooi-aka-@fourfeetnine---The-Fashion-Weak-Podcast-Episode-1-eXpirKKPBUA.mp3-part-139.wav\n",
      "skipped semisupervised-manglish/output-wav/Mamak-Sessions---The-Best-Method-To-Start-Saving,-To-Meet-your-Goals-XldSJLh8kMk.mp3-part-77.wav\n"
     ]
    },
    {
     "name": "stderr",
     "output_type": "stream",
     "text": [
      " 82%|████████▏ | 107700/130662 [41:12<06:03, 63.18it/s]"
     ]
    },
    {
     "name": "stdout",
     "output_type": "stream",
     "text": [
      "skipped semisupervised-manglish/output-wav/The-Fashion-Weak-Podcast-Ep-46---Premium-Thirst-Trap-Tips-With-Michelle-Lee-(@mich8lee)-MCHDyLJDJrg.mp3-part-0.wav\n"
     ]
    },
    {
     "name": "stderr",
     "output_type": "stream",
     "text": [
      " 82%|████████▏ | 107757/130662 [41:13<06:20, 60.23it/s]"
     ]
    },
    {
     "name": "stdout",
     "output_type": "stream",
     "text": [
      "skipped semisupervised-manglish/output-wav/Why-Singaporean-Female-Entrepreneurship-Matters-_-Huda-Hamid-_-Singaporean-Podcast-#44-myPdnyUGvUk.mp3-part-464.wav\n"
     ]
    },
    {
     "name": "stderr",
     "output_type": "stream",
     "text": [
      " 83%|████████▎ | 107816/130662 [41:14<07:02, 54.08it/s]"
     ]
    },
    {
     "name": "stdout",
     "output_type": "stream",
     "text": [
      "skipped semisupervised-manglish/output-wav/The-Fashion-Weak-Podcast-Ep-43---Thirst-Trapping-Simps-&-Loving-Your-Body-From-The-Outside-In-6R87P6YD2c4.mp3-part-197.wav\n"
     ]
    },
    {
     "name": "stderr",
     "output_type": "stream",
     "text": [
      " 83%|████████▎ | 107923/130662 [41:16<06:23, 59.28it/s]"
     ]
    },
    {
     "name": "stdout",
     "output_type": "stream",
     "text": [
      "skipped semisupervised-manglish/output-wav/Conversations-with-a-Young-Singaporean-CEO--Gao-Fei,-CEO-of-LearnSeeker-_-Singaporean-Podcast-#13--b9YHjghfd2E.mp3-part-61.wav\n"
     ]
    },
    {
     "name": "stderr",
     "output_type": "stream",
     "text": [
      " 83%|████████▎ | 107954/130662 [41:16<05:50, 64.77it/s]"
     ]
    },
    {
     "name": "stdout",
     "output_type": "stream",
     "text": [
      "skipped semisupervised-manglish/output-wav/The-Fashion-Weak-Podcast-Ep-29---Valentines-Day-With-Becca-Lee-and-Leonard-Chua-UWm1ESejkzs.mp3-part-303.wav\n"
     ]
    },
    {
     "name": "stderr",
     "output_type": "stream",
     "text": [
      " 83%|████████▎ | 108022/130662 [41:18<06:24, 58.95it/s]"
     ]
    },
    {
     "name": "stdout",
     "output_type": "stream",
     "text": [
      "skipped semisupervised-manglish/output-wav/Mamak-Sessions-Ep1---Girls-Are-Happier-With-Less-Attractive-Men,-And-The-Dramatic-Pizza-Order-2M8U_mxGbcw.mp3-part-98.wav\n"
     ]
    },
    {
     "name": "stderr",
     "output_type": "stream",
     "text": [
      " 83%|████████▎ | 108154/130662 [41:20<08:32, 43.94it/s]"
     ]
    },
    {
     "name": "stdout",
     "output_type": "stream",
     "text": [
      "skipped semisupervised-manglish/output-wav/Make-Insurance-Sexy-Again-+-Best-Advice-to-Financial-Advisors-_-Singaporean-Podcast-#19-_-Leslie-Koh-vKpmE4ZFnGE.mp3-part-85.wav\n"
     ]
    },
    {
     "name": "stderr",
     "output_type": "stream",
     "text": [
      " 83%|████████▎ | 108205/130662 [41:21<05:45, 65.07it/s]"
     ]
    },
    {
     "name": "stdout",
     "output_type": "stream",
     "text": [
      "skipped semisupervised-manglish/output-wav/Thinking-Long-And-Hard-With-@prakashdanielcomedy---The-Fashion-Weak-Podcast-Episode-13-UryaihXnjBk.mp3-part-53.wav\n"
     ]
    },
    {
     "name": "stderr",
     "output_type": "stream",
     "text": [
      " 83%|████████▎ | 108228/130662 [41:21<05:36, 66.67it/s]"
     ]
    },
    {
     "name": "stdout",
     "output_type": "stream",
     "text": [
      "skipped semisupervised-manglish/output-wav/The-Fashion-Weak-Podcast-Ep24---Penang-Boys-@tunway-瘦虎-&-@Shawnduabui-肥龍-Talk-Zap-Fan-&-Sneakers-dykz_vuzJh0.mp3-part-488.wav\n"
     ]
    },
    {
     "name": "stderr",
     "output_type": "stream",
     "text": [
      " 83%|████████▎ | 108264/130662 [41:22<06:40, 55.87it/s]"
     ]
    },
    {
     "name": "stdout",
     "output_type": "stream",
     "text": [
      "skipped semisupervised-manglish/output-wav/Mamak-Sessions---How-I-Got-Quarantined-Because-Of-Covid-19-Feat.-Mark-O'Dea-5zAsyNKfzps.mp3-part-359.wav\n"
     ]
    },
    {
     "name": "stderr",
     "output_type": "stream",
     "text": [
      " 83%|████████▎ | 108309/130662 [41:23<05:28, 68.01it/s]"
     ]
    },
    {
     "name": "stdout",
     "output_type": "stream",
     "text": [
      "skipped semisupervised-manglish/output-wav/The-Fashion-Weak-Podcast-Ep-33---Lingerie-&-Bikini-Talk-With-Talitha-Tan-(@talithabe)-_7Un0q6a9zg.mp3-part-235.wav\n"
     ]
    },
    {
     "name": "stderr",
     "output_type": "stream",
     "text": [
      " 83%|████████▎ | 108378/130662 [41:24<05:39, 65.71it/s]"
     ]
    },
    {
     "name": "stdout",
     "output_type": "stream",
     "text": [
      "skipped semisupervised-manglish/output-wav/Mamak-Sessions---We-May-Not-Always-End-Up-Doing-What-We-Thought-We-Would..And-That's-Not-A-Bad-Thing-IAeN0jG9Hwc.mp3-part-275.wav\n"
     ]
    },
    {
     "name": "stderr",
     "output_type": "stream",
     "text": [
      " 83%|████████▎ | 108456/130662 [41:26<06:21, 58.16it/s]"
     ]
    },
    {
     "name": "stdout",
     "output_type": "stream",
     "text": [
      "skipped semisupervised-manglish/output-wav/Dance-Moves-To-Pick-Up-Girls-At-The-Club-With-Adidas-Creator-Maybelline-Wong-(@definitelyMayb_)-vRnkHzyyBc4.mp3-part-54.wav\n"
     ]
    },
    {
     "name": "stderr",
     "output_type": "stream",
     "text": [
      " 83%|████████▎ | 108472/130662 [41:26<05:40, 65.19it/s]"
     ]
    },
    {
     "name": "stdout",
     "output_type": "stream",
     "text": [
      "skipped semisupervised-manglish/output-wav/The-Fashion-Weak-Podcast-Ep-38---TikTok-Royalty-Roshan-Jeet-aka-Roshannnn1-lPnRg9UsP0M.mp3-part-38.wav\n",
      "skipped semisupervised-manglish/output-wav/@Juanitadr-shows-us-what-Arnold's-Tongue-Can-Do---The-Fashion-Weak-Podcast-Episode-10-N5EfPvQKW90.mp3-part-144.wav\n"
     ]
    },
    {
     "name": "stderr",
     "output_type": "stream",
     "text": [
      " 83%|████████▎ | 108487/130662 [41:26<05:22, 68.69it/s]"
     ]
    },
    {
     "name": "stdout",
     "output_type": "stream",
     "text": [
      "skipped semisupervised-manglish/output-wav/Thinking-Long-And-Hard-With-@prakashdanielcomedy---The-Fashion-Weak-Podcast-Episode-13-UryaihXnjBk.mp3-part-155.wav\n",
      "skipped semisupervised-manglish/output-wav/The-Fashion-Weak-Podcast-Ep-21---Suitmaker-To-The-Stars,-Shahrin-Bahar-aka-@sbahar.my-Pkv6d83oe8s.mp3-part-448.wav\n"
     ]
    },
    {
     "name": "stderr",
     "output_type": "stream",
     "text": [
      " 83%|████████▎ | 108504/130662 [41:26<05:08, 71.89it/s]"
     ]
    },
    {
     "name": "stdout",
     "output_type": "stream",
     "text": [
      "skipped semisupervised-manglish/output-wav/Playing-Basketball-With-Dr-Jason-Leong---The-Fashion-Weak-Podcast-Episode-4---6K1feeFnKpQ.mp3-part-1.wav\n"
     ]
    },
    {
     "name": "stderr",
     "output_type": "stream",
     "text": [
      " 83%|████████▎ | 108550/130662 [41:27<06:00, 61.41it/s]"
     ]
    },
    {
     "name": "stdout",
     "output_type": "stream",
     "text": [
      "skipped semisupervised-manglish/output-wav/Best-Way-to-Get-Women-to-Fall-For-You-Every-Month!-_-The-Thirsty-Sisters-#16-gvPiF-zXur4.mp3-part-55.wav\n",
      "skipped semisupervised-manglish/output-wav/The-Fashion-Weak-Podcast-Ep-33---Lingerie-&-Bikini-Talk-With-Talitha-Tan-(@talithabe)-_7Un0q6a9zg.mp3-part-616.wav\n"
     ]
    },
    {
     "name": "stderr",
     "output_type": "stream",
     "text": [
      " 83%|████████▎ | 108588/130662 [41:28<05:37, 65.38it/s]"
     ]
    },
    {
     "name": "stdout",
     "output_type": "stream",
     "text": [
      "skipped semisupervised-manglish/output-wav/Mamak-Sessions-Ep6---Names-People-Always-Mispronounce-&-Facebook-Is-A-Spy-8LuihYdx0FQ.mp3-part-410.wav\n"
     ]
    },
    {
     "name": "stderr",
     "output_type": "stream",
     "text": [
      " 83%|████████▎ | 108638/130662 [41:29<06:24, 57.24it/s]"
     ]
    },
    {
     "name": "stdout",
     "output_type": "stream",
     "text": [
      "skipped semisupervised-manglish/output-wav/The-Fashion-Weak-Podcast-Ep-40---tdcjTfzYSbk.mp3-part-1087.wav\n"
     ]
    },
    {
     "name": "stderr",
     "output_type": "stream",
     "text": [
      " 83%|████████▎ | 108766/130662 [41:31<05:36, 65.04it/s]"
     ]
    },
    {
     "name": "stdout",
     "output_type": "stream",
     "text": [
      "skipped semisupervised-manglish/output-wav/Mamak-Sessions-Ep13---Game-Of-Thrones-Is-OVER!-Malaysian-Accent-is-sexy!--mAdHcMGmEs.mp3-part-24.wav\n"
     ]
    },
    {
     "name": "stderr",
     "output_type": "stream",
     "text": [
      " 83%|████████▎ | 108908/130662 [41:34<06:04, 59.69it/s]"
     ]
    },
    {
     "name": "stdout",
     "output_type": "stream",
     "text": [
      "skipped semisupervised-manglish/output-wav/Bend-Over!-Or-Pay-Sit-Forward!-We-Create-Our-Own-Movements!-_-The-Thirsty-Sisters-#3-ekKcn3QCU5E.mp3-part-363.wav\n"
     ]
    },
    {
     "name": "stderr",
     "output_type": "stream",
     "text": [
      " 83%|████████▎ | 108944/130662 [41:34<05:36, 64.62it/s]"
     ]
    },
    {
     "name": "stdout",
     "output_type": "stream",
     "text": [
      "skipped semisupervised-manglish/output-wav/Bend-Over!-Or-Pay-Sit-Forward!-We-Create-Our-Own-Movements!-_-The-Thirsty-Sisters-#3-ekKcn3QCU5E.mp3-part-47.wav\n"
     ]
    },
    {
     "name": "stderr",
     "output_type": "stream",
     "text": [
      " 83%|████████▎ | 108974/130662 [41:35<07:58, 45.31it/s]"
     ]
    },
    {
     "name": "stdout",
     "output_type": "stream",
     "text": [
      "skipped semisupervised-manglish/output-wav/The-Fashion-Weak-Podcast-Ep-40---tdcjTfzYSbk.mp3-part-1098.wav\n"
     ]
    },
    {
     "name": "stderr",
     "output_type": "stream",
     "text": [
      " 83%|████████▎ | 109013/130662 [41:36<06:18, 57.13it/s]"
     ]
    },
    {
     "name": "stdout",
     "output_type": "stream",
     "text": [
      "skipped semisupervised-manglish/output-wav/Mamak-Sessions-Ep6---Names-People-Always-Mispronounce-&-Facebook-Is-A-Spy-8LuihYdx0FQ.mp3-part-3.wav\n"
     ]
    },
    {
     "name": "stderr",
     "output_type": "stream",
     "text": [
      " 84%|████████▎ | 109179/130662 [41:39<06:45, 52.98it/s]"
     ]
    },
    {
     "name": "stdout",
     "output_type": "stream",
     "text": [
      "skipped semisupervised-manglish/output-wav/Mamak-Sessions-Ep8---Man-Sues-Colleague-for-$1.8-Million-for-Farting-OWbPqC2i71c.mp3-part-37.wav\n"
     ]
    },
    {
     "name": "stderr",
     "output_type": "stream",
     "text": [
      " 84%|████████▎ | 109246/130662 [41:40<05:09, 69.21it/s]"
     ]
    },
    {
     "name": "stdout",
     "output_type": "stream",
     "text": [
      "skipped semisupervised-manglish/output-wav/The-Fashion-Weak-Podcast-Ep-45---Finessing-A-New-Phone-Every-Year-With-Mamak-Rap-King-Jiven-Sekar-VlovwtVYuw0.mp3-part-141.wav\n"
     ]
    },
    {
     "name": "stderr",
     "output_type": "stream",
     "text": [
      " 84%|████████▎ | 109276/130662 [41:40<06:24, 55.58it/s]"
     ]
    },
    {
     "name": "stdout",
     "output_type": "stream",
     "text": [
      "skipped semisupervised-manglish/output-wav/The-Fashion-Weak-Podcast-Ep-32---Getting-Surprised-Reading-Melissa-Campbell's-(@heymelbelle)-IG-DMs-mJuKUwFpDgI.mp3-part-207.wav\n"
     ]
    },
    {
     "name": "stderr",
     "output_type": "stream",
     "text": [
      " 84%|████████▎ | 109322/130662 [41:41<05:35, 63.55it/s]"
     ]
    },
    {
     "name": "stdout",
     "output_type": "stream",
     "text": [
      "skipped semisupervised-manglish/output-wav/The-Fashion-Weak-Podcast-Ep-40---tdcjTfzYSbk.mp3-part-779.wav\n"
     ]
    },
    {
     "name": "stderr",
     "output_type": "stream",
     "text": [
      " 84%|████████▎ | 109359/130662 [41:42<08:03, 44.02it/s]"
     ]
    },
    {
     "name": "stdout",
     "output_type": "stream",
     "text": [
      "skipped semisupervised-manglish/output-wav/The-Fashion-Weak-Podcast-Ep-32---Getting-Surprised-Reading-Melissa-Campbell's-(@heymelbelle)-IG-DMs-mJuKUwFpDgI.mp3-part-53.wav\n"
     ]
    },
    {
     "name": "stderr",
     "output_type": "stream",
     "text": [
      " 84%|████████▍ | 109433/130662 [41:43<05:24, 65.32it/s]"
     ]
    },
    {
     "name": "stdout",
     "output_type": "stream",
     "text": [
      "skipped semisupervised-manglish/output-wav/Mamak-Sessions---Blaming-Yourself-For-Your-Parents'-Divorce,-And-How-Our-Parents-Punish-Us-x8Gl_zIC9CQ.mp3-part-381.wav\n"
     ]
    },
    {
     "name": "stderr",
     "output_type": "stream",
     "text": [
      " 84%|████████▍ | 109449/130662 [41:44<07:24, 47.71it/s]"
     ]
    },
    {
     "name": "stdout",
     "output_type": "stream",
     "text": [
      "skipped semisupervised-manglish/output-wav/The-Fashion-Weak-Podcast-Ep-18---Putting-The-Deep-In-Deepavali-With-Keren-Bala-lvIbeZ3qgsU.mp3-part-272.wav\n"
     ]
    },
    {
     "name": "stderr",
     "output_type": "stream",
     "text": [
      " 84%|████████▍ | 109501/130662 [41:44<05:42, 61.72it/s]"
     ]
    },
    {
     "name": "stdout",
     "output_type": "stream",
     "text": [
      "skipped semisupervised-manglish/output-wav/Nicole-Choo-on-What-Went-Wrong-with-Ridhwan---Team-Titan-Show-#4-gW9sv26g4Io.mp3-part-274.wav\n",
      "skipped semisupervised-manglish/output-wav/The-Fashion-Weak-Podcast-EP16---Podcast-Wars-With-The-From-The-Thread-Boys-7dPzh9PpLs8.mp3-part-641.wav\n"
     ]
    },
    {
     "name": "stderr",
     "output_type": "stream",
     "text": [
      " 84%|████████▍ | 109658/130662 [41:47<05:55, 59.05it/s]"
     ]
    },
    {
     "name": "stdout",
     "output_type": "stream",
     "text": [
      "skipped semisupervised-manglish/output-wav/Xia-Xue's-Honest-Thoughts-on-Influencers---The-Team-Titan-Show-ZDloTzTfenM.mp3-part-6.wav\n"
     ]
    },
    {
     "name": "stderr",
     "output_type": "stream",
     "text": [
      " 84%|████████▍ | 109694/130662 [41:48<05:31, 63.18it/s]"
     ]
    },
    {
     "name": "stdout",
     "output_type": "stream",
     "text": [
      "skipped semisupervised-manglish/output-wav/Mamak-Sessions-Ep9---Sibling-Rivalry-ft-Julian-Yee-670FyeJhnps.mp3-part-234.wav\n"
     ]
    },
    {
     "name": "stderr",
     "output_type": "stream",
     "text": [
      " 84%|████████▍ | 109759/130662 [41:49<06:08, 56.68it/s]"
     ]
    },
    {
     "name": "stdout",
     "output_type": "stream",
     "text": [
      "skipped semisupervised-manglish/output-wav/Mamak-Sessions-Ep13---Game-Of-Thrones-Is-OVER!-Malaysian-Accent-is-sexy!--mAdHcMGmEs.mp3-part-127.wav\n"
     ]
    },
    {
     "name": "stderr",
     "output_type": "stream",
     "text": [
      " 84%|████████▍ | 109774/130662 [41:49<05:38, 61.79it/s]"
     ]
    },
    {
     "name": "stdout",
     "output_type": "stream",
     "text": [
      "skipped semisupervised-manglish/output-wav/The-Fashion-Weak-Podcast-Ep24---Penang-Boys-@tunway-瘦虎-&-@Shawnduabui-肥龍-Talk-Zap-Fan-&-Sneakers-dykz_vuzJh0.mp3-part-385.wav\n"
     ]
    },
    {
     "name": "stderr",
     "output_type": "stream",
     "text": [
      " 84%|████████▍ | 109843/130662 [41:51<05:35, 62.02it/s]"
     ]
    },
    {
     "name": "stdout",
     "output_type": "stream",
     "text": [
      "skipped semisupervised-manglish/output-wav/Are-We-Still-Sexualising-Women-in-2020-_-Thirsty-Sisters-#13-zHC1MPeSP34.mp3-part-63.wav\n"
     ]
    },
    {
     "name": "stderr",
     "output_type": "stream",
     "text": [
      " 84%|████████▍ | 109921/130662 [41:52<05:22, 64.41it/s]"
     ]
    },
    {
     "name": "stdout",
     "output_type": "stream",
     "text": [
      "skipped semisupervised-manglish/output-wav/Why-Enneagram-Will-Change-Your-Perspective-On-ALL-Relationships-Forever-_-Cindy-Leong-_-SG-Podcast-cSxV6oacgaE.mp3-part-582.wav\n"
     ]
    },
    {
     "name": "stderr",
     "output_type": "stream",
     "text": [
      " 84%|████████▍ | 109935/130662 [41:52<07:16, 47.45it/s]"
     ]
    },
    {
     "name": "stdout",
     "output_type": "stream",
     "text": [
      "skipped semisupervised-manglish/output-wav/The-Fashion-Weak-Podcast-Ep-30---On-her-way-to-Supermodel-dom,-ASNTM--Cycle-5-Runner-Up-@shikingomez-otK3Gl_XX4c.mp3-part-13.wav\n"
     ]
    },
    {
     "name": "stderr",
     "output_type": "stream",
     "text": [
      " 84%|████████▍ | 109950/130662 [41:52<06:03, 57.01it/s]"
     ]
    },
    {
     "name": "stdout",
     "output_type": "stream",
     "text": [
      "skipped semisupervised-manglish/output-wav/The-Fashion-Weak-Podcast-Ep-33---Lingerie-&-Bikini-Talk-With-Talitha-Tan-(@talithabe)-_7Un0q6a9zg.mp3-part-168.wav\n"
     ]
    },
    {
     "name": "stderr",
     "output_type": "stream",
     "text": [
      " 84%|████████▍ | 110263/130662 [41:58<05:21, 63.47it/s]"
     ]
    },
    {
     "name": "stdout",
     "output_type": "stream",
     "text": [
      "skipped semisupervised-manglish/output-wav/Overcoming-Depression-&-Redefining-What-Failure-Means-to-Youths_-Singaporean-Podcast-#10-_-Kevin-Wee-rjjK4aAbKnw.mp3-part-585.wav\n"
     ]
    },
    {
     "name": "stderr",
     "output_type": "stream",
     "text": [
      " 84%|████████▍ | 110286/130662 [41:59<06:59, 48.52it/s]"
     ]
    },
    {
     "name": "stdout",
     "output_type": "stream",
     "text": [
      "skipped semisupervised-manglish/output-wav/The-Fashion-Weak-Podcast-Ep-40---tdcjTfzYSbk.mp3-part-617.wav\n"
     ]
    },
    {
     "name": "stderr",
     "output_type": "stream",
     "text": [
      " 84%|████████▍ | 110307/130662 [41:59<05:51, 57.97it/s]"
     ]
    },
    {
     "name": "stdout",
     "output_type": "stream",
     "text": [
      "skipped semisupervised-manglish/output-wav/Perspective-from-an-American-hustling-in-SG-_-Singaporean-Podcast-#5-_-Peter-Lam-5t_yyrP2OdI.mp3-part-186.wav\n"
     ]
    },
    {
     "name": "stderr",
     "output_type": "stream",
     "text": [
      " 84%|████████▍ | 110339/130662 [41:59<05:01, 67.34it/s]"
     ]
    },
    {
     "name": "stdout",
     "output_type": "stream",
     "text": [
      "skipped semisupervised-manglish/output-wav/Mamak-Sessions-Ep13---Game-Of-Thrones-Is-OVER!-Malaysian-Accent-is-sexy!--mAdHcMGmEs.mp3-part-141.wav\n"
     ]
    },
    {
     "name": "stderr",
     "output_type": "stream",
     "text": [
      " 84%|████████▍ | 110361/130662 [42:00<04:56, 68.35it/s]"
     ]
    },
    {
     "name": "stdout",
     "output_type": "stream",
     "text": [
      "skipped semisupervised-manglish/output-wav/Mamak-Sessions---We-May-Not-Always-End-Up-Doing-What-We-Thought-We-Would..And-That's-Not-A-Bad-Thing-IAeN0jG9Hwc.mp3-part-164.wav\n"
     ]
    },
    {
     "name": "stderr",
     "output_type": "stream",
     "text": [
      "\r",
      " 84%|████████▍ | 110368/130662 [42:00<05:04, 66.54it/s]"
     ]
    },
    {
     "name": "stdout",
     "output_type": "stream",
     "text": [
      "skipped semisupervised-manglish/output-wav/Being-A-Single-Divorced-Woman-At-32-_-The-Thirsty-Sisters-#11-8DMyfcjyrZQ.mp3-part-194.wav\n"
     ]
    },
    {
     "name": "stderr",
     "output_type": "stream",
     "text": [
      " 85%|████████▍ | 110415/130662 [42:01<05:41, 59.27it/s]"
     ]
    },
    {
     "name": "stdout",
     "output_type": "stream",
     "text": [
      "skipped semisupervised-manglish/output-wav/Relatives-Ruin-My-Wedding!-_-The-Thirsty-Sisters-#22-98CiTQQtqak.mp3-part-76.wav\n"
     ]
    },
    {
     "name": "stderr",
     "output_type": "stream",
     "text": [
      " 85%|████████▍ | 110503/130662 [42:02<05:29, 61.19it/s]"
     ]
    },
    {
     "name": "stdout",
     "output_type": "stream",
     "text": [
      "skipped semisupervised-manglish/output-wav/The-Fashion-Weak-Podcast-Ep-30---On-her-way-to-Supermodel-dom,-ASNTM--Cycle-5-Runner-Up-@shikingomez-otK3Gl_XX4c.mp3-part-678.wav\n"
     ]
    },
    {
     "name": "stderr",
     "output_type": "stream",
     "text": [
      " 85%|████████▍ | 110608/130662 [42:04<05:24, 61.80it/s]"
     ]
    },
    {
     "name": "stdout",
     "output_type": "stream",
     "text": [
      "skipped semisupervised-manglish/output-wav/Mamak-Sessions---Getting-Married-in-Vegas,-and-Sugar-Babies-ft.-Dennis-Yin-Cq6Yjwsu63U.mp3-part-84.wav\n"
     ]
    },
    {
     "name": "stderr",
     "output_type": "stream",
     "text": [
      " 85%|████████▍ | 110719/130662 [42:06<05:27, 60.98it/s]"
     ]
    },
    {
     "name": "stdout",
     "output_type": "stream",
     "text": [
      "skipped semisupervised-manglish/output-wav/Mamak-Sessions-Ep6---Names-People-Always-Mispronounce-&-Facebook-Is-A-Spy-8LuihYdx0FQ.mp3-part-241.wav\n"
     ]
    },
    {
     "name": "stderr",
     "output_type": "stream",
     "text": [
      " 85%|████████▍ | 110775/130662 [42:07<05:16, 62.80it/s]"
     ]
    },
    {
     "name": "stdout",
     "output_type": "stream",
     "text": [
      "skipped semisupervised-manglish/output-wav/Mamak-Sessions---Airing-Dirty-Laundry-Online-and-Social-Justice-Warriors-FFtFXiIgsyk.mp3-part-128.wav\n"
     ]
    },
    {
     "name": "stderr",
     "output_type": "stream",
     "text": [
      " 85%|████████▍ | 110905/130662 [42:10<04:46, 69.00it/s]"
     ]
    },
    {
     "name": "stdout",
     "output_type": "stream",
     "text": [
      "skipped semisupervised-manglish/output-wav/The-Fashion-Weak-Podcast-Ep-28-@dreamrocketeers-on-that-Rolex-you-should-cop-to-flex-on-poor-friends-shV1F1JlDzk.mp3-part-51.wav\n"
     ]
    },
    {
     "name": "stderr",
     "output_type": "stream",
     "text": [
      " 85%|████████▍ | 110920/130662 [42:10<06:44, 48.84it/s]"
     ]
    },
    {
     "name": "stdout",
     "output_type": "stream",
     "text": [
      "skipped semisupervised-manglish/output-wav/Mamak-Sessions---Airing-Dirty-Laundry-Online-and-Social-Justice-Warriors-FFtFXiIgsyk.mp3-part-3.wav\n"
     ]
    },
    {
     "name": "stderr",
     "output_type": "stream",
     "text": [
      " 85%|████████▌ | 111069/130662 [42:13<05:00, 65.17it/s]"
     ]
    },
    {
     "name": "stdout",
     "output_type": "stream",
     "text": [
      "skipped semisupervised-manglish/output-wav/Mamak-Sessions---Can-Guys-And-Girls-Be-Best-Friends-Is-it-ok-to-see-more-than-one-person-at-a-time-IixUPM11VMY.mp3-part-178.wav\n",
      "skipped semisupervised-manglish/output-wav/We-Are-Finally-Dating-Again!-We-Found-New-Men-_-The-Thirsty-Sisters-#24-fzuKoKTxfEs.mp3-part-385.wav\n"
     ]
    },
    {
     "name": "stderr",
     "output_type": "stream",
     "text": [
      " 85%|████████▌ | 111097/130662 [42:13<07:05, 45.95it/s]"
     ]
    },
    {
     "name": "stdout",
     "output_type": "stream",
     "text": [
      "skipped semisupervised-manglish/output-wav/Do-You-Know-Your-Attachment-Style!-_-The-Thirsty-Sisters-#21-HKnXUGo_H2U.mp3-part-199.wav\n",
      "skipped semisupervised-manglish/output-wav/My-First-Boyfriend-Cheated-On-Me-With-Several-Girls-_-The-Thirsty-Sisters-#9-Y6RYZpbANJI.mp3-part-17.wav\n"
     ]
    },
    {
     "name": "stderr",
     "output_type": "stream",
     "text": [
      " 85%|████████▌ | 111163/130662 [42:14<04:43, 68.86it/s]"
     ]
    },
    {
     "name": "stdout",
     "output_type": "stream",
     "text": [
      "skipped semisupervised-manglish/output-wav/Mamak-Sessions-Ep2---Bringing-A-Girl-Home-For-The-First-Time-Jn2oeTajYCw.mp3-part-457.wav\n",
      "skipped semisupervised-manglish/output-wav/The-Fashion-Weak-Podcast-Ep-31----Possibly-Our-Most-NSFW-Episode-Yet-With-@vikarworld-xMm23vU8_og.mp3-part-703.wav\n"
     ]
    },
    {
     "name": "stderr",
     "output_type": "stream",
     "text": [
      " 85%|████████▌ | 111215/130662 [42:15<05:41, 56.93it/s]"
     ]
    },
    {
     "name": "stdout",
     "output_type": "stream",
     "text": [
      "skipped semisupervised-manglish/output-wav/How-To-Date-Alpha-Women-_-The-Thirsty-Sisters-#12-6i8PG2cTAUU.mp3-part-318.wav\n"
     ]
    },
    {
     "name": "stderr",
     "output_type": "stream",
     "text": [
      " 85%|████████▌ | 111240/130662 [42:16<04:49, 67.10it/s]"
     ]
    },
    {
     "name": "stdout",
     "output_type": "stream",
     "text": [
      "skipped semisupervised-manglish/output-wav/Mamak-Sessions---Quitting-The-Medical-Line-To-Make-People-Laugh-ft-Dr.-Jason-Leong-FcD9MpeWqEI.mp3-part-123.wav\n",
      "skipped semisupervised-manglish/output-wav/The-Fashion-Weak-Podcast-Ep-40---tdcjTfzYSbk.mp3-part-485.wav\n",
      "skipped semisupervised-manglish/output-wav/The-Fashion-Weak-Podcast-Ep24---Penang-Boys-@tunway-瘦虎-&-@Shawnduabui-肥龍-Talk-Zap-Fan-&-Sneakers-dykz_vuzJh0.mp3-part-267.wav\n"
     ]
    },
    {
     "name": "stderr",
     "output_type": "stream",
     "text": [
      " 85%|████████▌ | 111320/130662 [42:17<05:08, 62.67it/s]"
     ]
    },
    {
     "name": "stdout",
     "output_type": "stream",
     "text": [
      "skipped semisupervised-manglish/output-wav/Mamak-Sessions---Getting-Married-in-Vegas,-and-Sugar-Babies-ft.-Dennis-Yin-Cq6Yjwsu63U.mp3-part-57.wav\n"
     ]
    },
    {
     "name": "stderr",
     "output_type": "stream",
     "text": [
      " 85%|████████▌ | 111364/130662 [42:18<05:00, 64.17it/s]"
     ]
    },
    {
     "name": "stdout",
     "output_type": "stream",
     "text": [
      "skipped semisupervised-manglish/output-wav/The-Fashion-Weak-Podcast-Ep-23---Alicia-Amin-On-Being-A-'Malay'-Model-In-2019-3pKA5NvTCOA.mp3-part-313.wav\n"
     ]
    },
    {
     "name": "stderr",
     "output_type": "stream",
     "text": [
      " 85%|████████▌ | 111387/130662 [42:18<06:19, 50.73it/s]"
     ]
    },
    {
     "name": "stdout",
     "output_type": "stream",
     "text": [
      "skipped semisupervised-manglish/output-wav/What-You-Should-Think-About-After-A-Levels-_-IMO-Ep.3-R7nCJrdRWyc.mp3-part-32.wav\n",
      "skipped semisupervised-manglish/output-wav/Talking-Sneakers-&-Strong-Sperm-With-@bryanbotakchin---The-Fashion-Weak-Podcast-Episode-11-iugevNPFp2Y.mp3-part-396.wav\n"
     ]
    },
    {
     "name": "stderr",
     "output_type": "stream",
     "text": [
      " 85%|████████▌ | 111438/130662 [42:19<04:55, 65.02it/s]"
     ]
    },
    {
     "name": "stdout",
     "output_type": "stream",
     "text": [
      "skipped semisupervised-manglish/output-wav/Mamak-Sessions-Podcast---Is-it-ok-to-move-in-with-your-Partner-before-MARRIAGE-nGnyZ5c00Mo.mp3-part-171.wav\n"
     ]
    },
    {
     "name": "stderr",
     "output_type": "stream",
     "text": [
      " 85%|████████▌ | 111537/130662 [42:21<05:14, 60.78it/s]"
     ]
    },
    {
     "name": "stdout",
     "output_type": "stream",
     "text": [
      "skipped semisupervised-manglish/output-wav/Why-Blockchain-&-Crypo-Matters-_-Singaporean-Podcast-#15-_-Royal-Pek--2d7wzvNOCE.mp3-part-31.wav\n",
      "skipped semisupervised-manglish/output-wav/The-Fashion-Weak-Podcast-EP-41---Investment-Tips-For-Chee-Seng-With-Fuad-&-Shaq-From-Kyoto-Protocol-eWNQhDNoSsY.mp3-part-1054.wav\n"
     ]
    },
    {
     "name": "stderr",
     "output_type": "stream",
     "text": [
      " 85%|████████▌ | 111630/130662 [42:23<05:09, 61.44it/s]"
     ]
    },
    {
     "name": "stdout",
     "output_type": "stream",
     "text": [
      "skipped semisupervised-manglish/output-wav/The-Fashion-Weak-Podcast-Ep35---Is-New-Balance-Cool-Now-Talking-everything-NOT-Nike-with-@adlysyairi-3b0bYe36KNE.mp3-part-320.wav\n"
     ]
    },
    {
     "name": "stderr",
     "output_type": "stream",
     "text": [
      " 85%|████████▌ | 111660/130662 [42:23<05:45, 54.94it/s]"
     ]
    },
    {
     "name": "stdout",
     "output_type": "stream",
     "text": [
      "skipped semisupervised-manglish/output-wav/Mamak-Sessions---Have-You-Been-Rejected,-and-Have-You-Rejected-Someone-sZFykBDVjOI.mp3-part-296.wav\n"
     ]
    },
    {
     "name": "stderr",
     "output_type": "stream",
     "text": [
      " 85%|████████▌ | 111711/130662 [42:24<04:50, 65.34it/s]"
     ]
    },
    {
     "name": "stdout",
     "output_type": "stream",
     "text": [
      "skipped semisupervised-manglish/output-wav/The-Fashion-Weak-Podcast-Ep-33---Lingerie-&-Bikini-Talk-With-Talitha-Tan-(@talithabe)-_7Un0q6a9zg.mp3-part-520.wav\n"
     ]
    },
    {
     "name": "stderr",
     "output_type": "stream",
     "text": [
      " 86%|████████▌ | 111727/130662 [42:24<04:34, 68.98it/s]"
     ]
    },
    {
     "name": "stdout",
     "output_type": "stream",
     "text": [
      "skipped semisupervised-manglish/output-wav/Mamak-Sessions-Podcast---How-Dean-Lewis-became-who-he-is-today-HkOQy1Nxpis.mp3-part-242.wav\n"
     ]
    },
    {
     "name": "stderr",
     "output_type": "stream",
     "text": [
      " 86%|████████▌ | 111749/130662 [42:25<06:02, 52.23it/s]"
     ]
    },
    {
     "name": "stdout",
     "output_type": "stream",
     "text": [
      "skipped semisupervised-manglish/output-wav/The-Fashion-Weak-Podcast-Ep-43A---Keeping-Fair-On-The-Fairway-With-Natalia-Ng-CSP1XPZu4YY.mp3-part-344.wav\n"
     ]
    },
    {
     "name": "stderr",
     "output_type": "stream",
     "text": [
      " 86%|████████▌ | 112175/130662 [42:32<04:42, 65.52it/s]"
     ]
    },
    {
     "name": "stdout",
     "output_type": "stream",
     "text": [
      "skipped semisupervised-manglish/output-wav/The-Fashion-Weak-Podcast-Ep35---Is-New-Balance-Cool-Now-Talking-everything-NOT-Nike-with-@adlysyairi-3b0bYe36KNE.mp3-part-596.wav\n"
     ]
    },
    {
     "name": "stderr",
     "output_type": "stream",
     "text": [
      " 86%|████████▌ | 112204/130662 [42:33<05:55, 51.97it/s]"
     ]
    },
    {
     "name": "stdout",
     "output_type": "stream",
     "text": [
      "skipped semisupervised-manglish/output-wav/Playing-Basketball-With-Dr-Jason-Leong---The-Fashion-Weak-Podcast-Episode-4---6K1feeFnKpQ.mp3-part-217.wav\n"
     ]
    },
    {
     "name": "stderr",
     "output_type": "stream",
     "text": [
      " 86%|████████▌ | 112232/130662 [42:34<05:07, 59.95it/s]"
     ]
    },
    {
     "name": "stdout",
     "output_type": "stream",
     "text": [
      "skipped semisupervised-manglish/output-wav/Mamak-Sessions---Nasi-Lemak-Sneakers-zLEmAKdG9vY.mp3-part-494.wav\n"
     ]
    },
    {
     "name": "stderr",
     "output_type": "stream",
     "text": [
      " 86%|████████▌ | 112268/130662 [42:34<04:53, 62.59it/s]"
     ]
    },
    {
     "name": "stdout",
     "output_type": "stream",
     "text": [
      "skipped semisupervised-manglish/output-wav/Mamak-Sessions---Airing-Dirty-Laundry-Online-and-Social-Justice-Warriors-FFtFXiIgsyk.mp3-part-121.wav\n"
     ]
    },
    {
     "name": "stderr",
     "output_type": "stream",
     "text": [
      " 86%|████████▌ | 112298/130662 [42:35<05:37, 54.39it/s]"
     ]
    },
    {
     "name": "stdout",
     "output_type": "stream",
     "text": [
      "skipped semisupervised-manglish/output-wav/The-Fashion-Weak-Podcast-Ep-43---Thirst-Trapping-Simps-&-Loving-Your-Body-From-The-Outside-In-6R87P6YD2c4.mp3-part-754.wav\n",
      "skipped semisupervised-manglish/output-wav/Thinking-Long-And-Hard-With-@prakashdanielcomedy---The-Fashion-Weak-Podcast-Episode-13-UryaihXnjBk.mp3-part-153.wav\n"
     ]
    },
    {
     "name": "stderr",
     "output_type": "stream",
     "text": [
      " 86%|████████▌ | 112329/130662 [42:35<04:30, 67.69it/s]"
     ]
    },
    {
     "name": "stdout",
     "output_type": "stream",
     "text": [
      "skipped semisupervised-manglish/output-wav/Debbie-on-Marriage,-Quarantine-and-Being-a-Young-Mom---The-Team-Titan-Show-8QhPCqS5aBA.mp3-part-58.wav\n",
      "skipped semisupervised-manglish/output-wav/Talking-Sneakers-&-Strong-Sperm-With-@bryanbotakchin---The-Fashion-Weak-Podcast-Episode-11-iugevNPFp2Y.mp3-part-224.wav\n"
     ]
    },
    {
     "name": "stderr",
     "output_type": "stream",
     "text": [
      " 86%|████████▌ | 112352/130662 [42:36<04:32, 67.21it/s]"
     ]
    },
    {
     "name": "stdout",
     "output_type": "stream",
     "text": [
      "skipped semisupervised-manglish/output-wav/Mamak-Sessions-Podcast---Is-it-ok-to-move-in-with-your-Partner-before-MARRIAGE-nGnyZ5c00Mo.mp3-part-11.wav\n"
     ]
    },
    {
     "name": "stderr",
     "output_type": "stream",
     "text": [
      " 86%|████████▌ | 112367/130662 [42:36<04:29, 67.85it/s]"
     ]
    },
    {
     "name": "stdout",
     "output_type": "stream",
     "text": [
      "skipped semisupervised-manglish/output-wav/The-Fashion-Weak-Podcast-Ep-43---Thirst-Trapping-Simps-&-Loving-Your-Body-From-The-Outside-In-6R87P6YD2c4.mp3-part-329.wav\n",
      "skipped semisupervised-manglish/output-wav/Mamak-Sessions-Ep2---Bringing-A-Girl-Home-For-The-First-Time-Jn2oeTajYCw.mp3-part-55.wav\n"
     ]
    },
    {
     "name": "stderr",
     "output_type": "stream",
     "text": [
      " 86%|████████▌ | 112479/130662 [42:38<05:36, 54.08it/s]"
     ]
    },
    {
     "name": "stdout",
     "output_type": "stream",
     "text": [
      "skipped semisupervised-manglish/output-wav/Mamak-Sessions-Ep10---Datuk-Nicol-David-is-RETIRING!-n3AR3nQEc7Y.mp3-part-457.wav\n"
     ]
    },
    {
     "name": "stderr",
     "output_type": "stream",
     "text": [
      " 86%|████████▌ | 112501/130662 [42:38<04:59, 60.66it/s]"
     ]
    },
    {
     "name": "stdout",
     "output_type": "stream",
     "text": [
      "skipped semisupervised-manglish/output-wav/I-Dated-A-Guy-Twice-My-Age-Our-First-Date-Don'ts-_-The-Thirsty-Sisters-#19-3-DoQSmz5aI.mp3-part-121.wav\n"
     ]
    },
    {
     "name": "stderr",
     "output_type": "stream",
     "text": [
      " 86%|████████▌ | 112545/130662 [42:39<04:48, 62.79it/s]"
     ]
    },
    {
     "name": "stdout",
     "output_type": "stream",
     "text": [
      "skipped semisupervised-manglish/output-wav/Mamak-Sessions-Podcast---A-Dog-Was-Slashed-In-The-Mouth-And-Abused,-But-This-Kind-Soul-Saved-It-FNfbmh93DFo.mp3-part-48.wav\n"
     ]
    },
    {
     "name": "stderr",
     "output_type": "stream",
     "text": [
      " 86%|████████▌ | 112628/130662 [42:41<04:38, 64.74it/s]"
     ]
    },
    {
     "name": "stdout",
     "output_type": "stream",
     "text": [
      "skipped semisupervised-manglish/output-wav/Mamak-Sessions---Can-Guys-And-Girls-Be-Best-Friends-Is-it-ok-to-see-more-than-one-person-at-a-time-IixUPM11VMY.mp3-part-239.wav\n"
     ]
    },
    {
     "name": "stderr",
     "output_type": "stream",
     "text": [
      " 86%|████████▌ | 112693/130662 [42:42<04:37, 64.83it/s]"
     ]
    },
    {
     "name": "stdout",
     "output_type": "stream",
     "text": [
      "skipped semisupervised-manglish/output-wav/Are-We-Still-Sexualising-Women-in-2020-_-Thirsty-Sisters-#13-zHC1MPeSP34.mp3-part-443.wav\n"
     ]
    },
    {
     "name": "stderr",
     "output_type": "stream",
     "text": [
      " 86%|████████▋ | 112722/130662 [42:42<04:46, 62.69it/s]"
     ]
    },
    {
     "name": "stdout",
     "output_type": "stream",
     "text": [
      "skipped semisupervised-manglish/output-wav/The-Fashion-Weak-Podcast-Ep-22---Why-Fashion-School-Didn't-Work-Out-For-Zee-Avi-woDYSE37_rI.mp3-part-186.wav\n"
     ]
    },
    {
     "name": "stderr",
     "output_type": "stream",
     "text": [
      " 86%|████████▋ | 112896/130662 [42:46<04:49, 61.32it/s]"
     ]
    },
    {
     "name": "stdout",
     "output_type": "stream",
     "text": [
      "skipped semisupervised-manglish/output-wav/Mamak-Sessions-Ep6---Names-People-Always-Mispronounce-&-Facebook-Is-A-Spy-8LuihYdx0FQ.mp3-part-243.wav\n"
     ]
    },
    {
     "name": "stderr",
     "output_type": "stream",
     "text": [
      " 87%|████████▋ | 113127/130662 [42:50<04:36, 63.40it/s]"
     ]
    },
    {
     "name": "stdout",
     "output_type": "stream",
     "text": [
      "skipped semisupervised-manglish/output-wav/The-Fashion-Weak-Podcast-EP-41---Investment-Tips-For-Chee-Seng-With-Fuad-&-Shaq-From-Kyoto-Protocol-eWNQhDNoSsY.mp3-part-584.wav\n"
     ]
    },
    {
     "name": "stderr",
     "output_type": "stream",
     "text": [
      " 87%|████████▋ | 113163/130662 [42:50<04:17, 68.05it/s]"
     ]
    },
    {
     "name": "stdout",
     "output_type": "stream",
     "text": [
      "skipped semisupervised-manglish/output-wav/Why-Blockchain-&-Crypo-Matters-_-Singaporean-Podcast-#15-_-Royal-Pek--2d7wzvNOCE.mp3-part-225.wav\n",
      "skipped semisupervised-manglish/output-wav/Become-a-Software-Developer-in-90-days-and-Running-His-Own-Company-_-Singaporean-Podcast-#8-_-Haris-HRd3RMQtkDs.mp3-part-256.wav\n"
     ]
    },
    {
     "name": "stderr",
     "output_type": "stream",
     "text": [
      " 87%|████████▋ | 113177/130662 [42:51<06:28, 45.05it/s]"
     ]
    },
    {
     "name": "stdout",
     "output_type": "stream",
     "text": [
      "skipped semisupervised-manglish/output-wav/The-Fashion-Weak-Podcast-EP-27----Peter-Davis-talks-cars,-mixed-rice-and-some-fashion.-rxmMRAzLRJ0.mp3-part-22.wav\n"
     ]
    },
    {
     "name": "stderr",
     "output_type": "stream",
     "text": [
      " 87%|████████▋ | 113275/130662 [42:53<05:54, 49.03it/s]"
     ]
    },
    {
     "name": "stdout",
     "output_type": "stream",
     "text": [
      "skipped semisupervised-manglish/output-wav/Mamak-Sessions---Airing-Dirty-Laundry-Online-and-Social-Justice-Warriors-FFtFXiIgsyk.mp3-part-58.wav\n",
      "skipped semisupervised-manglish/output-wav/The-Fashion-Weak-Podcast-Ep-38---TikTok-Royalty-Roshan-Jeet-aka-Roshannnn1-lPnRg9UsP0M.mp3-part-961.wav\n"
     ]
    },
    {
     "name": "stderr",
     "output_type": "stream",
     "text": [
      " 87%|████████▋ | 113326/130662 [42:54<04:34, 63.05it/s]"
     ]
    },
    {
     "name": "stdout",
     "output_type": "stream",
     "text": [
      "skipped semisupervised-manglish/output-wav/Mamak-Sessions-Ep6---Names-People-Always-Mispronounce-&-Facebook-Is-A-Spy-8LuihYdx0FQ.mp3-part-12.wav\n"
     ]
    },
    {
     "name": "stderr",
     "output_type": "stream",
     "text": [
      " 87%|████████▋ | 113341/130662 [42:54<04:22, 66.05it/s]"
     ]
    },
    {
     "name": "stdout",
     "output_type": "stream",
     "text": [
      "skipped semisupervised-manglish/output-wav/Mamak-Sessions---Quitting-The-Medical-Line-To-Make-People-Laugh-ft-Dr.-Jason-Leong-FcD9MpeWqEI.mp3-part-208.wav\n"
     ]
    },
    {
     "name": "stderr",
     "output_type": "stream",
     "text": [
      " 87%|████████▋ | 113414/130662 [42:55<04:30, 63.67it/s]"
     ]
    },
    {
     "name": "stdout",
     "output_type": "stream",
     "text": [
      "skipped semisupervised-manglish/output-wav/Mamak-Sessions-Ep6---Names-People-Always-Mispronounce-&-Facebook-Is-A-Spy-8LuihYdx0FQ.mp3-part-258.wav\n"
     ]
    },
    {
     "name": "stderr",
     "output_type": "stream",
     "text": [
      " 87%|████████▋ | 113458/130662 [42:56<05:39, 50.73it/s]"
     ]
    },
    {
     "name": "stdout",
     "output_type": "stream",
     "text": [
      "skipped semisupervised-manglish/output-wav/The-Fashion-Weak-Podcast-Ep-19---Butt-Stuff-&-Actual-Fashion-With-Zane-Gan-jhLgzHQnAHU.mp3-part-257.wav\n"
     ]
    },
    {
     "name": "stderr",
     "output_type": "stream",
     "text": [
      " 87%|████████▋ | 113511/130662 [42:57<04:11, 68.33it/s]"
     ]
    },
    {
     "name": "stdout",
     "output_type": "stream",
     "text": [
      "skipped semisupervised-manglish/output-wav/Dance-Moves-To-Pick-Up-Girls-At-The-Club-With-Adidas-Creator-Maybelline-Wong-(@definitelyMayb_)-vRnkHzyyBc4.mp3-part-361.wav\n",
      "skipped semisupervised-manglish/output-wav/The-Fashion-Weak-Podcast-Ep-38---TikTok-Royalty-Roshan-Jeet-aka-Roshannnn1-lPnRg9UsP0M.mp3-part-481.wav\n",
      "skipped semisupervised-manglish/output-wav/The-Fashion-Weak-Podcast-Ep-15---Underwear-Sneakers-&-Fruits-With-@OhZooey-HDuY9UdkkaE.mp3-part-215.wav\n"
     ]
    },
    {
     "name": "stderr",
     "output_type": "stream",
     "text": [
      " 87%|████████▋ | 113541/130662 [42:57<06:10, 46.20it/s]"
     ]
    },
    {
     "name": "stdout",
     "output_type": "stream",
     "text": [
      "skipped semisupervised-manglish/output-wav/How-To-Date-Alpha-Women-_-The-Thirsty-Sisters-#12-6i8PG2cTAUU.mp3-part-192.wav\n"
     ]
    },
    {
     "name": "stderr",
     "output_type": "stream",
     "text": [
      " 87%|████████▋ | 113578/130662 [42:58<04:21, 65.26it/s]"
     ]
    },
    {
     "name": "stdout",
     "output_type": "stream",
     "text": [
      "skipped semisupervised-manglish/output-wav/Click-Bait-And-24k-Shoe-Shopping-With-Harvinth-Skin---The-Fashion-Weak-Podcast-Episode-08-adq-khQo2eQ.mp3-part-34.wav\n",
      "skipped semisupervised-manglish/output-wav/The-Fashion-Weak-Podcast-Ep-33---Lingerie-&-Bikini-Talk-With-Talitha-Tan-(@talithabe)-_7Un0q6a9zg.mp3-part-472.wav\n",
      "skipped semisupervised-manglish/output-wav/Priorities-as-University-Graduates-and-The-MALAYSIA-Hustle-_-Singaporean-Podcast-#12-_-Zhi-Rong-TYL7mmbpsbo.mp3-part-203.wav\n",
      "skipped semisupervised-manglish/output-wav/Mamak-Sessions---Girls-Are-Such-Complicated-Lil-Creatures-feat.-Talitha.-I2BaN8cm6NY.mp3-part-248.wav\n"
     ]
    },
    {
     "name": "stderr",
     "output_type": "stream",
     "text": [
      " 87%|████████▋ | 113609/130662 [42:58<04:15, 66.68it/s]"
     ]
    },
    {
     "name": "stdout",
     "output_type": "stream",
     "text": [
      "skipped semisupervised-manglish/output-wav/Mamak-Sessions---Can-Guys-And-Girls-Be-Best-Friends-Is-it-ok-to-see-more-than-one-person-at-a-time-IixUPM11VMY.mp3-part-232.wav\n",
      "skipped semisupervised-manglish/output-wav/Dance-Moves-To-Pick-Up-Girls-At-The-Club-With-Adidas-Creator-Maybelline-Wong-(@definitelyMayb_)-vRnkHzyyBc4.mp3-part-700.wav\n"
     ]
    },
    {
     "name": "stderr",
     "output_type": "stream",
     "text": [
      " 87%|████████▋ | 113669/130662 [43:00<04:26, 63.70it/s]"
     ]
    },
    {
     "name": "stdout",
     "output_type": "stream",
     "text": [
      "skipped semisupervised-manglish/output-wav/Mamak-Sessions---From-A-Transport-Assistant-to-a-Multi-Award-Winning-Film-Director-r6f3OoHVkgU.mp3-part-24.wav\n"
     ]
    },
    {
     "name": "stderr",
     "output_type": "stream",
     "text": [
      " 87%|████████▋ | 113685/130662 [43:00<04:13, 67.02it/s]"
     ]
    },
    {
     "name": "stdout",
     "output_type": "stream",
     "text": [
      "skipped semisupervised-manglish/output-wav/Conversations-with-a-Young-Singaporean-CEO--Gao-Fei,-CEO-of-LearnSeeker-_-Singaporean-Podcast-#13--b9YHjghfd2E.mp3-part-28.wav\n"
     ]
    },
    {
     "name": "stderr",
     "output_type": "stream",
     "text": [
      " 87%|████████▋ | 113771/130662 [43:01<04:30, 62.36it/s]"
     ]
    },
    {
     "name": "stdout",
     "output_type": "stream",
     "text": [
      "skipped semisupervised-manglish/output-wav/Mamak-Sessions---Quitting-The-Medical-Line-To-Make-People-Laugh-ft-Dr.-Jason-Leong-FcD9MpeWqEI.mp3-part-388.wav\n",
      "skipped semisupervised-manglish/output-wav/@Juanitadr-shows-us-what-Arnold's-Tongue-Can-Do---The-Fashion-Weak-Podcast-Episode-10-N5EfPvQKW90.mp3-part-285.wav\n",
      "skipped semisupervised-manglish/output-wav/The-Fashion-Weak-Podcast-Ep35---Is-New-Balance-Cool-Now-Talking-everything-NOT-Nike-with-@adlysyairi-3b0bYe36KNE.mp3-part-622.wav\n"
     ]
    },
    {
     "name": "stderr",
     "output_type": "stream",
     "text": [
      " 87%|████████▋ | 113786/130662 [43:02<04:32, 62.01it/s]"
     ]
    },
    {
     "name": "stdout",
     "output_type": "stream",
     "text": [
      "skipped semisupervised-manglish/output-wav/The-Fashion-Weak-Podcast-EP-41---Investment-Tips-For-Chee-Seng-With-Fuad-&-Shaq-From-Kyoto-Protocol-eWNQhDNoSsY.mp3-part-588.wav\n"
     ]
    },
    {
     "name": "stderr",
     "output_type": "stream",
     "text": [
      " 87%|████████▋ | 113821/130662 [43:02<06:35, 42.53it/s]"
     ]
    },
    {
     "name": "stdout",
     "output_type": "stream",
     "text": [
      "skipped semisupervised-manglish/output-wav/Mamak-Sessions---Getting-Married-in-Vegas,-and-Sugar-Babies-ft.-Dennis-Yin-Cq6Yjwsu63U.mp3-part-68.wav\n"
     ]
    },
    {
     "name": "stderr",
     "output_type": "stream",
     "text": [
      " 87%|████████▋ | 113888/130662 [43:03<04:20, 64.49it/s]"
     ]
    },
    {
     "name": "stdout",
     "output_type": "stream",
     "text": [
      "skipped semisupervised-manglish/output-wav/The-Fashion-Weak-Podcast-Ep-40---tdcjTfzYSbk.mp3-part-573.wav\n"
     ]
    },
    {
     "name": "stderr",
     "output_type": "stream",
     "text": [
      " 87%|████████▋ | 113932/130662 [43:04<05:06, 54.52it/s]"
     ]
    },
    {
     "name": "stdout",
     "output_type": "stream",
     "text": [
      "skipped semisupervised-manglish/output-wav/Why-Blockchain-&-Crypo-Matters-_-Singaporean-Podcast-#15-_-Royal-Pek--2d7wzvNOCE.mp3-part-25.wav\n"
     ]
    },
    {
     "name": "stderr",
     "output_type": "stream",
     "text": [
      " 87%|████████▋ | 113971/130662 [43:05<04:06, 67.74it/s]"
     ]
    },
    {
     "name": "stdout",
     "output_type": "stream",
     "text": [
      "skipped semisupervised-manglish/output-wav/The-Fashion-Weak-Podcast-EP-41---Investment-Tips-For-Chee-Seng-With-Fuad-&-Shaq-From-Kyoto-Protocol-eWNQhDNoSsY.mp3-part-422.wav\n"
     ]
    },
    {
     "name": "stderr",
     "output_type": "stream",
     "text": [
      " 87%|████████▋ | 114022/130662 [43:06<04:56, 56.12it/s]"
     ]
    },
    {
     "name": "stdout",
     "output_type": "stream",
     "text": [
      "skipped semisupervised-manglish/output-wav/The-Fashion-Weak-Podcast-EP-27----Peter-Davis-talks-cars,-mixed-rice-and-some-fashion.-rxmMRAzLRJ0.mp3-part-332.wav\n",
      "skipped semisupervised-manglish/output-wav/Mamak-Sessions-Ep10---Datuk-Nicol-David-is-RETIRING!-n3AR3nQEc7Y.mp3-part-405.wav\n"
     ]
    },
    {
     "name": "stderr",
     "output_type": "stream",
     "text": [
      " 87%|████████▋ | 114072/130662 [43:07<04:45, 58.16it/s]"
     ]
    },
    {
     "name": "stdout",
     "output_type": "stream",
     "text": [
      "skipped semisupervised-manglish/output-wav/Mamak-Sessions-Ep4---What-Turns-You-On,-Is-it-ok-if-your-Girlfriend-Earns-More-&-The-Ideal-Proposal-1av_p0DPDas.mp3-part-31.wav\n"
     ]
    },
    {
     "name": "stderr",
     "output_type": "stream",
     "text": [
      "\r",
      " 87%|████████▋ | 114080/130662 [43:07<04:30, 61.29it/s]"
     ]
    },
    {
     "name": "stdout",
     "output_type": "stream",
     "text": [
      "skipped semisupervised-manglish/output-wav/The-Fashion-Weak-Podcast-Ep24---Penang-Boys-@tunway-瘦虎-&-@Shawnduabui-肥龍-Talk-Zap-Fan-&-Sneakers-dykz_vuzJh0.mp3-part-508.wav\n",
      "skipped semisupervised-manglish/output-wav/Mamak-Sessions-Ep10---Datuk-Nicol-David-is-RETIRING!-n3AR3nQEc7Y.mp3-part-128.wav\n"
     ]
    },
    {
     "name": "stderr",
     "output_type": "stream",
     "text": [
      " 87%|████████▋ | 114111/130662 [43:08<04:53, 56.30it/s]"
     ]
    },
    {
     "name": "stdout",
     "output_type": "stream",
     "text": [
      "skipped semisupervised-manglish/output-wav/The-Fashion-Weak-Podcast-Ep-30---On-her-way-to-Supermodel-dom,-ASNTM--Cycle-5-Runner-Up-@shikingomez-otK3Gl_XX4c.mp3-part-240.wav\n"
     ]
    },
    {
     "name": "stderr",
     "output_type": "stream",
     "text": [
      " 87%|████████▋ | 114162/130662 [43:08<04:17, 64.06it/s]"
     ]
    },
    {
     "name": "stdout",
     "output_type": "stream",
     "text": [
      "skipped semisupervised-manglish/output-wav/The-Fashion-Weak-Podcast-Ep-38---TikTok-Royalty-Roshan-Jeet-aka-Roshannnn1-lPnRg9UsP0M.mp3-part-803.wav\n"
     ]
    },
    {
     "name": "stderr",
     "output_type": "stream",
     "text": [
      " 87%|████████▋ | 114197/130662 [43:09<05:46, 47.51it/s]"
     ]
    },
    {
     "name": "stdout",
     "output_type": "stream",
     "text": [
      "skipped semisupervised-manglish/output-wav/The-Fashion-Weak-Podcast-EP16---Podcast-Wars-With-The-From-The-Thread-Boys-7dPzh9PpLs8.mp3-part-480.wav\n"
     ]
    },
    {
     "name": "stderr",
     "output_type": "stream",
     "text": [
      " 87%|████████▋ | 114260/130662 [43:10<04:21, 62.75it/s]"
     ]
    },
    {
     "name": "stdout",
     "output_type": "stream",
     "text": [
      "skipped semisupervised-manglish/output-wav/Mamak-Sessions-Ep6---Names-People-Always-Mispronounce-&-Facebook-Is-A-Spy-8LuihYdx0FQ.mp3-part-118.wav\n"
     ]
    },
    {
     "name": "stderr",
     "output_type": "stream",
     "text": [
      " 87%|████████▋ | 114303/130662 [43:11<04:30, 60.54it/s]"
     ]
    },
    {
     "name": "stdout",
     "output_type": "stream",
     "text": [
      "skipped semisupervised-manglish/output-wav/Conversations-With-A-Cancer-Survivor-ft-Jared-Lee-L2W4inT6j3c.mp3-part-233.wav\n",
      "skipped semisupervised-manglish/output-wav/The-Fashion-Weak-Podcast-Ep-19---Butt-Stuff-&-Actual-Fashion-With-Zane-Gan-jhLgzHQnAHU.mp3-part-194.wav\n"
     ]
    },
    {
     "name": "stderr",
     "output_type": "stream",
     "text": [
      " 88%|████████▊ | 114383/130662 [43:13<05:05, 53.33it/s]"
     ]
    },
    {
     "name": "stdout",
     "output_type": "stream",
     "text": [
      "skipped semisupervised-manglish/output-wav/The-Fashion-Weak-Podcast-Ep-30---On-her-way-to-Supermodel-dom,-ASNTM--Cycle-5-Runner-Up-@shikingomez-otK3Gl_XX4c.mp3-part-696.wav\n"
     ]
    },
    {
     "name": "stderr",
     "output_type": "stream",
     "text": [
      " 88%|████████▊ | 114427/130662 [43:13<04:13, 64.13it/s]"
     ]
    },
    {
     "name": "stdout",
     "output_type": "stream",
     "text": [
      "skipped semisupervised-manglish/output-wav/Dance-Moves-To-Pick-Up-Girls-At-The-Club-With-Adidas-Creator-Maybelline-Wong-(@definitelyMayb_)-vRnkHzyyBc4.mp3-part-289.wav\n"
     ]
    },
    {
     "name": "stderr",
     "output_type": "stream",
     "text": [
      " 88%|████████▊ | 114471/130662 [43:14<04:47, 56.32it/s]"
     ]
    },
    {
     "name": "stdout",
     "output_type": "stream",
     "text": [
      "skipped semisupervised-manglish/output-wav/The-Fashion-Weak-Podcast-Ep-31----Possibly-Our-Most-NSFW-Episode-Yet-With-@vikarworld-xMm23vU8_og.mp3-part-517.wav\n",
      "skipped semisupervised-manglish/output-wav/Mamak-Sessions-Ep6---Names-People-Always-Mispronounce-&-Facebook-Is-A-Spy-8LuihYdx0FQ.mp3-part-80.wav\n"
     ]
    },
    {
     "name": "stderr",
     "output_type": "stream",
     "text": [
      " 88%|████████▊ | 114528/130662 [43:15<04:02, 66.40it/s]"
     ]
    },
    {
     "name": "stdout",
     "output_type": "stream",
     "text": [
      "skipped semisupervised-manglish/output-wav/Mamak-Sessions---Getting-Married-in-Vegas,-and-Sugar-Babies-ft.-Dennis-Yin-Cq6Yjwsu63U.mp3-part-320.wav\n"
     ]
    },
    {
     "name": "stderr",
     "output_type": "stream",
     "text": [
      " 88%|████████▊ | 114622/130662 [43:17<04:16, 62.49it/s]"
     ]
    },
    {
     "name": "stdout",
     "output_type": "stream",
     "text": [
      "skipped semisupervised-manglish/output-wav/Do-You-Know-Your-Attachment-Style!-_-The-Thirsty-Sisters-#21-HKnXUGo_H2U.mp3-part-81.wav\n"
     ]
    },
    {
     "name": "stderr",
     "output_type": "stream",
     "text": [
      " 88%|████████▊ | 114701/130662 [43:18<04:22, 60.91it/s]"
     ]
    },
    {
     "name": "stdout",
     "output_type": "stream",
     "text": [
      "skipped semisupervised-manglish/output-wav/Mamak-Sessions-Ep6---Names-People-Always-Mispronounce-&-Facebook-Is-A-Spy-8LuihYdx0FQ.mp3-part-56.wav\n",
      "skipped semisupervised-manglish/output-wav/Mamak-Sessions---From-Giving-Up,-To-Getting-A-NETFLIX-Special-Q54z0mutz5Q.mp3-part-391.wav\n",
      "skipped semisupervised-manglish/output-wav/Mamak-Sessions---Do-You-Check-Your-Partner's-Text-Messages-Featuring-Lizz-Chloe-WJkSAHvYyqk.mp3-part-153.wav\n"
     ]
    },
    {
     "name": "stderr",
     "output_type": "stream",
     "text": [
      " 88%|████████▊ | 114787/130662 [43:20<04:04, 64.87it/s]"
     ]
    },
    {
     "name": "stdout",
     "output_type": "stream",
     "text": [
      "skipped semisupervised-manglish/output-wav/Dance-Moves-To-Pick-Up-Girls-At-The-Club-With-Adidas-Creator-Maybelline-Wong-(@definitelyMayb_)-vRnkHzyyBc4.mp3-part-493.wav\n"
     ]
    },
    {
     "name": "stderr",
     "output_type": "stream",
     "text": [
      " 88%|████████▊ | 114831/130662 [43:21<04:45, 55.51it/s]"
     ]
    },
    {
     "name": "stdout",
     "output_type": "stream",
     "text": [
      "skipped semisupervised-manglish/output-wav/MILF-hunting-with-Audrey-Ooi-aka-@fourfeetnine---The-Fashion-Weak-Podcast-Episode-1-eXpirKKPBUA.mp3-part-83.wav\n",
      "skipped semisupervised-manglish/output-wav/The-Fashion-Weak-Podcast-EP16---Podcast-Wars-With-The-From-The-Thread-Boys-7dPzh9PpLs8.mp3-part-303.wav\n"
     ]
    },
    {
     "name": "stderr",
     "output_type": "stream",
     "text": [
      " 88%|████████▊ | 114890/130662 [43:21<03:49, 68.77it/s]"
     ]
    },
    {
     "name": "stdout",
     "output_type": "stream",
     "text": [
      "skipped semisupervised-manglish/output-wav/Make-Insurance-Sexy-Again-+-Best-Advice-to-Financial-Advisors-_-Singaporean-Podcast-#19-_-Leslie-Koh-vKpmE4ZFnGE.mp3-part-179.wav\n"
     ]
    },
    {
     "name": "stderr",
     "output_type": "stream",
     "text": [
      " 88%|████████▊ | 115109/130662 [43:25<04:31, 57.29it/s]"
     ]
    },
    {
     "name": "stdout",
     "output_type": "stream",
     "text": [
      "skipped semisupervised-manglish/output-wav/Skin-Care-Routines,-Death,-Life-Purpose-and-More-_-Singaporean-Trio-Podcast-#2-6yW185RJkGw.mp3-part-285.wav\n"
     ]
    },
    {
     "name": "stderr",
     "output_type": "stream",
     "text": [
      " 88%|████████▊ | 115126/130662 [43:26<04:00, 64.65it/s]"
     ]
    },
    {
     "name": "stdout",
     "output_type": "stream",
     "text": [
      "skipped semisupervised-manglish/output-wav/Ghost-Stories-From-Our-Childhood!-_-The-Thirsty-Sisters-#23-Hioy9UvH4yE.mp3-part-398.wav\n",
      "skipped semisupervised-manglish/output-wav/The-Fashion-Weak-Podcast-Ep-38---TikTok-Royalty-Roshan-Jeet-aka-Roshannnn1-lPnRg9UsP0M.mp3-part-358.wav\n"
     ]
    },
    {
     "name": "stderr",
     "output_type": "stream",
     "text": [
      " 88%|████████▊ | 115280/130662 [43:29<05:19, 48.14it/s]"
     ]
    },
    {
     "name": "stdout",
     "output_type": "stream",
     "text": [
      "skipped semisupervised-manglish/output-wav/Mamak-Sessions-Podcast---How-Do-You-Handle-Long-Distance-Relationships-Do-they-WORK-m7mwwtsblIs.mp3-part-338.wav\n"
     ]
    },
    {
     "name": "stderr",
     "output_type": "stream",
     "text": [
      " 88%|████████▊ | 115331/130662 [43:29<04:03, 62.91it/s]"
     ]
    },
    {
     "name": "stdout",
     "output_type": "stream",
     "text": [
      "skipped semisupervised-manglish/output-wav/Mamak-Sessions-Podcast---A-Dog-Was-Slashed-In-The-Mouth-And-Abused,-But-This-Kind-Soul-Saved-It-FNfbmh93DFo.mp3-part-35.wav\n"
     ]
    },
    {
     "name": "stderr",
     "output_type": "stream",
     "text": [
      " 88%|████████▊ | 115345/130662 [43:30<03:56, 64.89it/s]"
     ]
    },
    {
     "name": "stdout",
     "output_type": "stream",
     "text": [
      "skipped semisupervised-manglish/output-wav/Mamak-Sessions-Ep1---Girls-Are-Happier-With-Less-Attractive-Men,-And-The-Dramatic-Pizza-Order-2M8U_mxGbcw.mp3-part-183.wav\n"
     ]
    },
    {
     "name": "stderr",
     "output_type": "stream",
     "text": [
      " 88%|████████▊ | 115376/130662 [43:30<04:24, 57.71it/s]"
     ]
    },
    {
     "name": "stdout",
     "output_type": "stream",
     "text": [
      "skipped semisupervised-manglish/output-wav/Mamak-Sessions---The-Asian-Mom-Of-The-Internet-ft-Tata-Wyb6i3GoJv4.mp3-part-346.wav\n"
     ]
    },
    {
     "name": "stderr",
     "output_type": "stream",
     "text": [
      " 88%|████████▊ | 115398/130662 [43:31<04:06, 61.96it/s]"
     ]
    },
    {
     "name": "stdout",
     "output_type": "stream",
     "text": [
      "skipped semisupervised-manglish/output-wav/The-Fashion-Weak-Podcast-Ep-32---Getting-Surprised-Reading-Melissa-Campbell's-(@heymelbelle)-IG-DMs-mJuKUwFpDgI.mp3-part-790.wav\n"
     ]
    },
    {
     "name": "stderr",
     "output_type": "stream",
     "text": [
      " 88%|████████▊ | 115531/130662 [43:33<03:57, 63.71it/s]"
     ]
    },
    {
     "name": "stdout",
     "output_type": "stream",
     "text": [
      "skipped semisupervised-manglish/output-wav/Dance-Moves-To-Pick-Up-Girls-At-The-Club-With-Adidas-Creator-Maybelline-Wong-(@definitelyMayb_)-vRnkHzyyBc4.mp3-part-355.wav\n"
     ]
    },
    {
     "name": "stderr",
     "output_type": "stream",
     "text": [
      " 88%|████████▊ | 115573/130662 [43:34<04:13, 59.48it/s]"
     ]
    },
    {
     "name": "stdout",
     "output_type": "stream",
     "text": [
      "skipped semisupervised-manglish/output-wav/Mamak-Sessions---We-May-Not-Always-End-Up-Doing-What-We-Thought-We-Would..And-That's-Not-A-Bad-Thing-IAeN0jG9Hwc.mp3-part-246.wav\n",
      "skipped semisupervised-manglish/output-wav/The-Fashion-Weak-Podcast-Ep-32---Getting-Surprised-Reading-Melissa-Campbell's-(@heymelbelle)-IG-DMs-mJuKUwFpDgI.mp3-part-489.wav\n"
     ]
    },
    {
     "name": "stderr",
     "output_type": "stream",
     "text": [
      " 88%|████████▊ | 115616/130662 [43:34<04:00, 62.57it/s]"
     ]
    },
    {
     "name": "stdout",
     "output_type": "stream",
     "text": [
      "skipped semisupervised-manglish/output-wav/Mamak-Sessions---Body-Shaming-Will-Land-You-In-Jail-XMx9tqwzQS4.mp3-part-132.wav\n"
     ]
    },
    {
     "name": "stderr",
     "output_type": "stream",
     "text": [
      " 89%|████████▊ | 115653/130662 [43:35<04:43, 52.87it/s]"
     ]
    },
    {
     "name": "stdout",
     "output_type": "stream",
     "text": [
      "skipped semisupervised-manglish/output-wav/Mamak-Sessions---Are-Social-Media-Influencers-Entitled-ZJ8jw3C9vB8.mp3-part-289.wav\n",
      "skipped semisupervised-manglish/output-wav/The-Fashion-Weak-Podcast-Ep-29---Valentines-Day-With-Becca-Lee-and-Leonard-Chua-UWm1ESejkzs.mp3-part-154.wav\n"
     ]
    },
    {
     "name": "stderr",
     "output_type": "stream",
     "text": [
      " 89%|████████▊ | 115675/130662 [43:36<04:08, 60.29it/s]"
     ]
    },
    {
     "name": "stdout",
     "output_type": "stream",
     "text": [
      "skipped semisupervised-manglish/output-wav/The-Fashion-Weak-Podcast-Ep-46---Premium-Thirst-Trap-Tips-With-Michelle-Lee-(@mich8lee)-MCHDyLJDJrg.mp3-part-446.wav\n"
     ]
    },
    {
     "name": "stderr",
     "output_type": "stream",
     "text": [
      " 89%|████████▊ | 115733/130662 [43:37<04:55, 50.55it/s]"
     ]
    },
    {
     "name": "stdout",
     "output_type": "stream",
     "text": [
      "skipped semisupervised-manglish/output-wav/Conversations-with-a-Young-Singaporean-CEO--Gao-Fei,-CEO-of-LearnSeeker-_-Singaporean-Podcast-#13--b9YHjghfd2E.mp3-part-101.wav\n"
     ]
    },
    {
     "name": "stderr",
     "output_type": "stream",
     "text": [
      " 89%|████████▊ | 115797/130662 [43:38<03:56, 62.76it/s]"
     ]
    },
    {
     "name": "stdout",
     "output_type": "stream",
     "text": [
      "skipped semisupervised-manglish/output-wav/Conversations-with-a-Young-Singaporean-CEO--Gao-Fei,-CEO-of-LearnSeeker-_-Singaporean-Podcast-#13--b9YHjghfd2E.mp3-part-79.wav\n",
      "skipped semisupervised-manglish/output-wav/The-Fashion-Weak-Podcast-Ep-40---tdcjTfzYSbk.mp3-part-186.wav\n"
     ]
    },
    {
     "name": "stderr",
     "output_type": "stream",
     "text": [
      " 89%|████████▊ | 115841/130662 [43:38<04:08, 59.62it/s]"
     ]
    },
    {
     "name": "stdout",
     "output_type": "stream",
     "text": [
      "skipped semisupervised-manglish/output-wav/The-Fashion-Weak-Podcast-Ep-23---Alicia-Amin-On-Being-A-'Malay'-Model-In-2019-3pKA5NvTCOA.mp3-part-610.wav\n"
     ]
    },
    {
     "name": "stderr",
     "output_type": "stream",
     "text": [
      " 89%|████████▊ | 115919/130662 [43:40<04:31, 54.28it/s]"
     ]
    },
    {
     "name": "stdout",
     "output_type": "stream",
     "text": [
      "skipped semisupervised-manglish/output-wav/The-Fashion-Weak-Podcast-Ep-33---Lingerie-&-Bikini-Talk-With-Talitha-Tan-(@talithabe)-_7Un0q6a9zg.mp3-part-437.wav\n"
     ]
    },
    {
     "name": "stderr",
     "output_type": "stream",
     "text": [
      " 89%|████████▊ | 115940/130662 [43:40<04:03, 60.51it/s]"
     ]
    },
    {
     "name": "stdout",
     "output_type": "stream",
     "text": [
      "skipped semisupervised-manglish/output-wav/Mamak-Sessions---How-I-Got-Quarantined-Because-Of-Covid-19-Feat.-Mark-O'Dea-5zAsyNKfzps.mp3-part-10.wav\n"
     ]
    },
    {
     "name": "stderr",
     "output_type": "stream",
     "text": [
      " 89%|████████▊ | 115955/130662 [43:40<03:51, 63.50it/s]"
     ]
    },
    {
     "name": "stdout",
     "output_type": "stream",
     "text": [
      "skipped semisupervised-manglish/output-wav/Why-We-Love-Our-Malay-Community!-_-The-Thirsty-Sisters-#20-F15a-MH_Hzg.mp3-part-283.wav\n"
     ]
    },
    {
     "name": "stderr",
     "output_type": "stream",
     "text": [
      " 89%|████████▉ | 115970/130662 [43:41<03:47, 64.69it/s]"
     ]
    },
    {
     "name": "stdout",
     "output_type": "stream",
     "text": [
      "skipped semisupervised-manglish/output-wav/The-Fashion-Weak-Podcast-Ep-39---Talking-Turn-On's-and-Fashion-Bulk-Buy-Deals-With-Tata-Wanqian-WSVo-qvu1GQ.mp3-part-347.wav\n"
     ]
    },
    {
     "name": "stderr",
     "output_type": "stream",
     "text": [
      " 89%|████████▉ | 116054/130662 [43:42<03:34, 67.97it/s]"
     ]
    },
    {
     "name": "stdout",
     "output_type": "stream",
     "text": [
      "skipped semisupervised-manglish/output-wav/The-Fashion-Weak-Podcast-Ep35---Is-New-Balance-Cool-Now-Talking-everything-NOT-Nike-with-@adlysyairi-3b0bYe36KNE.mp3-part-604.wav\n",
      "skipped semisupervised-manglish/output-wav/The-Fashion-Weak-Podcast-EP-36---Why-guys-REALLY-go-for-spin-class-with-Oxygen-Cycle-RqG0tHR9D1g.mp3-part-390.wav\n"
     ]
    },
    {
     "name": "stderr",
     "output_type": "stream",
     "text": [
      " 89%|████████▉ | 116262/130662 [43:46<03:36, 66.60it/s]"
     ]
    },
    {
     "name": "stdout",
     "output_type": "stream",
     "text": [
      "skipped semisupervised-manglish/output-wav/Mamak-Sessions---Body-Shaming-Will-Land-You-In-Jail-XMx9tqwzQS4.mp3-part-279.wav\n"
     ]
    },
    {
     "name": "stderr",
     "output_type": "stream",
     "text": [
      " 89%|████████▉ | 116368/130662 [43:48<05:18, 44.83it/s]"
     ]
    },
    {
     "name": "stdout",
     "output_type": "stream",
     "text": [
      "skipped semisupervised-manglish/output-wav/The-Fashion-Weak-Podcast-Ep-45---Finessing-A-New-Phone-Every-Year-With-Mamak-Rap-King-Jiven-Sekar-VlovwtVYuw0.mp3-part-273.wav\n"
     ]
    },
    {
     "name": "stderr",
     "output_type": "stream",
     "text": [
      " 89%|████████▉ | 116450/130662 [43:50<05:15, 44.98it/s]"
     ]
    },
    {
     "name": "stdout",
     "output_type": "stream",
     "text": [
      "skipped semisupervised-manglish/output-wav/The-Fashion-Weak-Podcast-Ep-23---Alicia-Amin-On-Being-A-'Malay'-Model-In-2019-3pKA5NvTCOA.mp3-part-73.wav\n",
      "skipped semisupervised-manglish/output-wav/Mamak-Sessions---Getting-Married-in-Vegas,-and-Sugar-Babies-ft.-Dennis-Yin-Cq6Yjwsu63U.mp3-part-183.wav\n"
     ]
    },
    {
     "name": "stderr",
     "output_type": "stream",
     "text": [
      " 89%|████████▉ | 116527/130662 [43:51<03:34, 65.84it/s]"
     ]
    },
    {
     "name": "stdout",
     "output_type": "stream",
     "text": [
      "skipped semisupervised-manglish/output-wav/Blessing-The-Pod,-Calling-Mofo's-OUT!-with-@soimjenn---The-Fashion-Weak-Podcast-Episode-7-xsjayMqoC0Y.mp3-part-177.wav\n"
     ]
    },
    {
     "name": "stderr",
     "output_type": "stream",
     "text": [
      " 89%|████████▉ | 116542/130662 [43:51<04:57, 47.53it/s]"
     ]
    },
    {
     "name": "stdout",
     "output_type": "stream",
     "text": [
      "skipped semisupervised-manglish/output-wav/Mamak-Sessions-Ep10---Datuk-Nicol-David-is-RETIRING!-n3AR3nQEc7Y.mp3-part-530.wav\n"
     ]
    },
    {
     "name": "stderr",
     "output_type": "stream",
     "text": [
      " 89%|████████▉ | 116567/130662 [43:52<03:40, 63.79it/s]"
     ]
    },
    {
     "name": "stdout",
     "output_type": "stream",
     "text": [
      "skipped semisupervised-manglish/output-wav/Mamak-Sessions---The-Miss-World-Crown-is-more-than-$4,000,000!-PazCOj1nb3c.mp3-part-128.wav\n",
      "skipped semisupervised-manglish/output-wav/Being-A-Single-Divorced-Woman-At-32-_-The-Thirsty-Sisters-#11-8DMyfcjyrZQ.mp3-part-479.wav\n"
     ]
    },
    {
     "name": "stderr",
     "output_type": "stream",
     "text": [
      "\r",
      " 89%|████████▉ | 116575/130662 [43:52<03:31, 66.49it/s]"
     ]
    },
    {
     "name": "stdout",
     "output_type": "stream",
     "text": [
      "skipped semisupervised-manglish/output-wav/Mamak-Sessions-Ep6---Names-People-Always-Mispronounce-&-Facebook-Is-A-Spy-8LuihYdx0FQ.mp3-part-79.wav\n"
     ]
    },
    {
     "name": "stderr",
     "output_type": "stream",
     "text": [
      " 89%|████████▉ | 116590/130662 [43:52<03:44, 62.76it/s]"
     ]
    },
    {
     "name": "stdout",
     "output_type": "stream",
     "text": [
      "skipped semisupervised-manglish/output-wav/Mamak-Sessions-Ep1---Girls-Are-Happier-With-Less-Attractive-Men,-And-The-Dramatic-Pizza-Order-2M8U_mxGbcw.mp3-part-196.wav\n"
     ]
    },
    {
     "name": "stderr",
     "output_type": "stream",
     "text": [
      " 89%|████████▉ | 116649/130662 [43:53<03:43, 62.78it/s]"
     ]
    },
    {
     "name": "stdout",
     "output_type": "stream",
     "text": [
      "skipped semisupervised-manglish/output-wav/Playing-Basketball-With-Dr-Jason-Leong---The-Fashion-Weak-Podcast-Episode-4---6K1feeFnKpQ.mp3-part-113.wav\n"
     ]
    },
    {
     "name": "stderr",
     "output_type": "stream",
     "text": [
      " 89%|████████▉ | 116705/130662 [43:54<04:06, 56.59it/s]"
     ]
    },
    {
     "name": "stdout",
     "output_type": "stream",
     "text": [
      "skipped semisupervised-manglish/output-wav/The-Fashion-Weak-Podcast-Ep-31----Possibly-Our-Most-NSFW-Episode-Yet-With-@vikarworld-xMm23vU8_og.mp3-part-637.wav\n"
     ]
    },
    {
     "name": "stderr",
     "output_type": "stream",
     "text": [
      " 89%|████████▉ | 116754/130662 [43:55<03:39, 63.33it/s]"
     ]
    },
    {
     "name": "stdout",
     "output_type": "stream",
     "text": [
      "skipped semisupervised-manglish/output-wav/The-Fashion-Weak-Podcast-Ep-31----Possibly-Our-Most-NSFW-Episode-Yet-With-@vikarworld-xMm23vU8_og.mp3-part-168.wav\n"
     ]
    },
    {
     "name": "stderr",
     "output_type": "stream",
     "text": [
      " 89%|████████▉ | 116824/130662 [43:56<03:38, 63.33it/s]"
     ]
    },
    {
     "name": "stdout",
     "output_type": "stream",
     "text": [
      "skipped semisupervised-manglish/output-wav/The-Fashion-Weak-Podcast-Ep-31----Possibly-Our-Most-NSFW-Episode-Yet-With-@vikarworld-xMm23vU8_og.mp3-part-469.wav\n"
     ]
    },
    {
     "name": "stderr",
     "output_type": "stream",
     "text": [
      " 89%|████████▉ | 116846/130662 [43:56<03:34, 64.27it/s]"
     ]
    },
    {
     "name": "stdout",
     "output_type": "stream",
     "text": [
      "skipped semisupervised-manglish/output-wav/Click-Bait-And-24k-Shoe-Shopping-With-Harvinth-Skin---The-Fashion-Weak-Podcast-Episode-08-adq-khQo2eQ.mp3-part-54.wav\n"
     ]
    },
    {
     "name": "stderr",
     "output_type": "stream",
     "text": [
      " 89%|████████▉ | 116867/130662 [43:57<04:55, 46.65it/s]"
     ]
    },
    {
     "name": "stdout",
     "output_type": "stream",
     "text": [
      "skipped semisupervised-manglish/output-wav/Mamak-Sessions-Ep13---Game-Of-Thrones-Is-OVER!-Malaysian-Accent-is-sexy!--mAdHcMGmEs.mp3-part-212.wav\n",
      "skipped semisupervised-manglish/output-wav/Why-We-Love-Our-Malay-Community!-_-The-Thirsty-Sisters-#20-F15a-MH_Hzg.mp3-part-341.wav\n"
     ]
    },
    {
     "name": "stderr",
     "output_type": "stream",
     "text": [
      " 89%|████████▉ | 116917/130662 [43:58<03:37, 63.08it/s]"
     ]
    },
    {
     "name": "stdout",
     "output_type": "stream",
     "text": [
      "skipped semisupervised-manglish/output-wav/Burning-Hot-Fever!-4-Doctors-Tried-To-Save-Me-In-The-Hospital!-_-The-Thirsty-Sisters-#6-Jw7B8efygWI.mp3-part-272.wav\n"
     ]
    },
    {
     "name": "stderr",
     "output_type": "stream",
     "text": [
      " 90%|████████▉ | 116996/130662 [43:59<03:35, 63.50it/s]"
     ]
    },
    {
     "name": "stdout",
     "output_type": "stream",
     "text": [
      "skipped semisupervised-manglish/output-wav/Why-Singaporean-Female-Entrepreneurship-Matters-_-Huda-Hamid-_-Singaporean-Podcast-#44-myPdnyUGvUk.mp3-part-50.wav\n",
      "skipped semisupervised-manglish/output-wav/Mamak-Sessions-Podcast---Is-it-ok-to-move-in-with-your-Partner-before-MARRIAGE-nGnyZ5c00Mo.mp3-part-117.wav\n"
     ]
    },
    {
     "name": "stderr",
     "output_type": "stream",
     "text": [
      " 90%|████████▉ | 117119/130662 [44:01<04:07, 54.82it/s]"
     ]
    },
    {
     "name": "stdout",
     "output_type": "stream",
     "text": [
      "skipped semisupervised-manglish/output-wav/The-Fashion-Weak-Podcast-Ep-32---Getting-Surprised-Reading-Melissa-Campbell's-(@heymelbelle)-IG-DMs-mJuKUwFpDgI.mp3-part-201.wav\n",
      "skipped semisupervised-manglish/output-wav/The-Fashion-Weak-Podcast-Ep-45---Finessing-A-New-Phone-Every-Year-With-Mamak-Rap-King-Jiven-Sekar-VlovwtVYuw0.mp3-part-75.wav\n"
     ]
    },
    {
     "name": "stderr",
     "output_type": "stream",
     "text": [
      " 90%|████████▉ | 117252/130662 [44:04<04:03, 55.02it/s]"
     ]
    },
    {
     "name": "stdout",
     "output_type": "stream",
     "text": [
      "skipped semisupervised-manglish/output-wav/The-Fashion-Weak-Podcast-EP16---Podcast-Wars-With-The-From-The-Thread-Boys-7dPzh9PpLs8.mp3-part-368.wav\n"
     ]
    },
    {
     "name": "stderr",
     "output_type": "stream",
     "text": [
      " 90%|████████▉ | 117464/130662 [44:08<03:40, 59.87it/s]"
     ]
    },
    {
     "name": "stdout",
     "output_type": "stream",
     "text": [
      "skipped semisupervised-manglish/output-wav/Ghost-Stories-From-Our-Childhood!-_-The-Thirsty-Sisters-#23-Hioy9UvH4yE.mp3-part-236.wav\n"
     ]
    },
    {
     "name": "stderr",
     "output_type": "stream",
     "text": [
      " 90%|████████▉ | 117549/130662 [44:09<03:41, 59.13it/s]"
     ]
    },
    {
     "name": "stdout",
     "output_type": "stream",
     "text": [
      "skipped semisupervised-manglish/output-wav/My-First-Boyfriend-Cheated-On-Me-With-Several-Girls-_-The-Thirsty-Sisters-#9-Y6RYZpbANJI.mp3-part-171.wav\n"
     ]
    },
    {
     "name": "stderr",
     "output_type": "stream",
     "text": [
      " 90%|█████████ | 117621/130662 [44:11<03:59, 54.53it/s]"
     ]
    },
    {
     "name": "stdout",
     "output_type": "stream",
     "text": [
      "skipped semisupervised-manglish/output-wav/The-Fashion-Weak-Podcast-Ep-29---Valentines-Day-With-Becca-Lee-and-Leonard-Chua-UWm1ESejkzs.mp3-part-572.wav\n"
     ]
    },
    {
     "name": "stderr",
     "output_type": "stream",
     "text": [
      " 90%|█████████ | 117664/130662 [44:11<03:21, 64.37it/s]"
     ]
    },
    {
     "name": "stdout",
     "output_type": "stream",
     "text": [
      "skipped semisupervised-manglish/output-wav/Ben-Kheng-Reflects-On-The-Sam-Willows,-Anxiety,-And-Religion-_-HTHT---Ben-Kheng-X4QapKCCneQ.mp3-part-268.wav\n",
      "skipped semisupervised-manglish/output-wav/The-Fashion-Weak-Podcast-Ep-40---tdcjTfzYSbk.mp3-part-540.wav\n"
     ]
    },
    {
     "name": "stderr",
     "output_type": "stream",
     "text": [
      " 90%|█████████ | 117701/130662 [44:12<04:39, 46.33it/s]"
     ]
    },
    {
     "name": "stdout",
     "output_type": "stream",
     "text": [
      "skipped semisupervised-manglish/output-wav/Relatives-Ruin-My-Wedding!-_-The-Thirsty-Sisters-#22-98CiTQQtqak.mp3-part-60.wav\n"
     ]
    },
    {
     "name": "stderr",
     "output_type": "stream",
     "text": [
      " 90%|█████████ | 117772/130662 [44:13<03:26, 62.29it/s]"
     ]
    },
    {
     "name": "stdout",
     "output_type": "stream",
     "text": [
      "skipped semisupervised-manglish/output-wav/Mamak-Sessions---Getting-Married-in-Vegas,-and-Sugar-Babies-ft.-Dennis-Yin-Cq6Yjwsu63U.mp3-part-297.wav\n"
     ]
    },
    {
     "name": "stderr",
     "output_type": "stream",
     "text": [
      " 90%|█████████ | 117802/130662 [44:14<03:55, 54.58it/s]"
     ]
    },
    {
     "name": "stdout",
     "output_type": "stream",
     "text": [
      "skipped semisupervised-manglish/output-wav/The-Fashion-Weak-Podcast-Ep-19---Butt-Stuff-&-Actual-Fashion-With-Zane-Gan-jhLgzHQnAHU.mp3-part-234.wav\n",
      "skipped semisupervised-manglish/output-wav/The-Fashion-Weak-Podcast-Ep-21---Suitmaker-To-The-Stars,-Shahrin-Bahar-aka-@sbahar.my-Pkv6d83oe8s.mp3-part-512.wav\n"
     ]
    },
    {
     "name": "stderr",
     "output_type": "stream",
     "text": [
      " 90%|█████████ | 117845/130662 [44:15<03:24, 62.78it/s]"
     ]
    },
    {
     "name": "stdout",
     "output_type": "stream",
     "text": [
      "skipped semisupervised-manglish/output-wav/Do-You-Know-Your-Attachment-Style!-_-The-Thirsty-Sisters-#21-HKnXUGo_H2U.mp3-part-383.wav\n"
     ]
    },
    {
     "name": "stderr",
     "output_type": "stream",
     "text": [
      " 90%|█████████ | 117859/130662 [44:15<03:18, 64.63it/s]"
     ]
    },
    {
     "name": "stdout",
     "output_type": "stream",
     "text": [
      "skipped semisupervised-manglish/output-wav/Mamak-Sessions---Should-You-Be-Spending-Crazily-For-Valentine's-Day-QLz7USNFnng.mp3-part-170.wav\n",
      "skipped semisupervised-manglish/output-wav/Butts-and-D_ck-Pics,-MILF-Hunting-Part-2-With-Nor-Soraya---The-Fashion-Weak-Podcast-Episode-5-NCiDUw4mQgE.mp3-part-183.wav\n"
     ]
    },
    {
     "name": "stderr",
     "output_type": "stream",
     "text": [
      " 90%|█████████ | 117920/130662 [44:16<03:31, 60.13it/s]"
     ]
    },
    {
     "name": "stdout",
     "output_type": "stream",
     "text": [
      "skipped semisupervised-manglish/output-wav/Why-Human-Resources-Matters-+-Life-as-a-Singapore-Solopreneur-_-Lauren-Ong-_-Singaporean-Podcast-#20-YtCn4hNLk7o.mp3-part-121.wav\n",
      "skipped semisupervised-manglish/output-wav/Mamak-Sessions---From-A-Transport-Assistant-to-a-Multi-Award-Winning-Film-Director-r6f3OoHVkgU.mp3-part-344.wav\n"
     ]
    },
    {
     "name": "stderr",
     "output_type": "stream",
     "text": [
      " 90%|█████████ | 117949/130662 [44:16<03:17, 64.25it/s]"
     ]
    },
    {
     "name": "stdout",
     "output_type": "stream",
     "text": [
      "skipped semisupervised-manglish/output-wav/The-Fashion-Weak-Podcast-Ep24---Penang-Boys-@tunway-瘦虎-&-@Shawnduabui-肥龍-Talk-Zap-Fan-&-Sneakers-dykz_vuzJh0.mp3-part-592.wav\n"
     ]
    },
    {
     "name": "stderr",
     "output_type": "stream",
     "text": [
      " 90%|█████████ | 117970/130662 [44:17<04:13, 50.08it/s]"
     ]
    },
    {
     "name": "stdout",
     "output_type": "stream",
     "text": [
      "skipped semisupervised-manglish/output-wav/The-Fashion-Weak-Podcast-Ep-33---Lingerie-&-Bikini-Talk-With-Talitha-Tan-(@talithabe)-_7Un0q6a9zg.mp3-part-45.wav\n"
     ]
    },
    {
     "name": "stderr",
     "output_type": "stream",
     "text": [
      " 90%|█████████ | 118015/130662 [44:18<03:08, 67.02it/s]"
     ]
    },
    {
     "name": "stdout",
     "output_type": "stream",
     "text": [
      "skipped semisupervised-manglish/output-wav/Burnout-in-the-Media-Industry-+-Passion-in-Theatre--_-Singaporean-Podcast-#16-_-Rennes-Lee-f7qEqPNzGk8.mp3-part-918.wav\n",
      "skipped semisupervised-manglish/output-wav/@Juanitadr-shows-us-what-Arnold's-Tongue-Can-Do---The-Fashion-Weak-Podcast-Episode-10-N5EfPvQKW90.mp3-part-146.wav\n",
      "skipped semisupervised-manglish/output-wav/The-Fashion-Weak-Podcast-Ep-19---Butt-Stuff-&-Actual-Fashion-With-Zane-Gan-jhLgzHQnAHU.mp3-part-79.wav\n"
     ]
    },
    {
     "name": "stderr",
     "output_type": "stream",
     "text": [
      " 90%|█████████ | 118031/130662 [44:18<03:01, 69.71it/s]"
     ]
    },
    {
     "name": "stdout",
     "output_type": "stream",
     "text": [
      "skipped semisupervised-manglish/output-wav/Mamak-Sessions-Ep8---Man-Sues-Colleague-for-$1.8-Million-for-Farting-OWbPqC2i71c.mp3-part-269.wav\n"
     ]
    },
    {
     "name": "stderr",
     "output_type": "stream",
     "text": [
      " 90%|█████████ | 118047/130662 [44:18<03:08, 66.97it/s]"
     ]
    },
    {
     "name": "stdout",
     "output_type": "stream",
     "text": [
      "skipped semisupervised-manglish/output-wav/The-Fashion-Weak-Podcast-Ep24---Penang-Boys-@tunway-瘦虎-&-@Shawnduabui-肥龍-Talk-Zap-Fan-&-Sneakers-dykz_vuzJh0.mp3-part-10.wav\n"
     ]
    },
    {
     "name": "stderr",
     "output_type": "stream",
     "text": [
      " 90%|█████████ | 118071/130662 [44:19<03:58, 52.77it/s]"
     ]
    },
    {
     "name": "stdout",
     "output_type": "stream",
     "text": [
      "skipped semisupervised-manglish/output-wav/The-Fashion-Weak-Podcast-Ep-38---TikTok-Royalty-Roshan-Jeet-aka-Roshannnn1-lPnRg9UsP0M.mp3-part-492.wav\n",
      "skipped semisupervised-manglish/output-wav/Mamak-Sessions-Ep13---Game-Of-Thrones-Is-OVER!-Malaysian-Accent-is-sexy!--mAdHcMGmEs.mp3-part-301.wav\n"
     ]
    },
    {
     "name": "stderr",
     "output_type": "stream",
     "text": [
      " 90%|█████████ | 118125/130662 [44:19<03:00, 69.39it/s]"
     ]
    },
    {
     "name": "stdout",
     "output_type": "stream",
     "text": [
      "skipped semisupervised-manglish/output-wav/Mamak-Sessions---How-I-Got-Quarantined-Because-Of-Covid-19-Feat.-Mark-O'Dea-5zAsyNKfzps.mp3-part-341.wav\n",
      "skipped semisupervised-manglish/output-wav/Mamak-Sessions---Have-You-Been-Rejected,-and-Have-You-Rejected-Someone-sZFykBDVjOI.mp3-part-263.wav\n"
     ]
    },
    {
     "name": "stderr",
     "output_type": "stream",
     "text": [
      " 90%|█████████ | 118235/130662 [44:21<03:18, 62.73it/s]"
     ]
    },
    {
     "name": "stdout",
     "output_type": "stream",
     "text": [
      "skipped semisupervised-manglish/output-wav/Talking-Sneakers-&-Strong-Sperm-With-@bryanbotakchin---The-Fashion-Weak-Podcast-Episode-11-iugevNPFp2Y.mp3-part-324.wav\n"
     ]
    },
    {
     "name": "stderr",
     "output_type": "stream",
     "text": [
      " 91%|█████████ | 118368/130662 [44:24<03:26, 59.58it/s]"
     ]
    },
    {
     "name": "stdout",
     "output_type": "stream",
     "text": [
      "skipped semisupervised-manglish/output-wav/The-Fashion-Weak-Podcast-Ep-38---TikTok-Royalty-Roshan-Jeet-aka-Roshannnn1-lPnRg9UsP0M.mp3-part-711.wav\n"
     ]
    },
    {
     "name": "stderr",
     "output_type": "stream",
     "text": [
      " 91%|█████████ | 118391/130662 [44:24<03:03, 66.71it/s]"
     ]
    },
    {
     "name": "stdout",
     "output_type": "stream",
     "text": [
      "skipped semisupervised-manglish/output-wav/Sexual-Predators-Running-Free-In-Singapore!-_-The-Thirsty-Sisters-#14-oW3yttdKVm0.mp3-part-399.wav\n",
      "skipped semisupervised-manglish/output-wav/Mamak-Sessions-Ep6---Names-People-Always-Mispronounce-&-Facebook-Is-A-Spy-8LuihYdx0FQ.mp3-part-235.wav\n"
     ]
    },
    {
     "name": "stderr",
     "output_type": "stream",
     "text": [
      " 91%|█████████ | 118406/130662 [44:24<03:08, 64.89it/s]"
     ]
    },
    {
     "name": "stdout",
     "output_type": "stream",
     "text": [
      "skipped semisupervised-manglish/output-wav/8-Wheels-Vs-4-Wheels-With-Sukeats-From-Wheel-Love---The-Fashion-Weak-Podcast-ep-12-fgaCmnMdZ0c.mp3-part-17.wav\n"
     ]
    },
    {
     "name": "stderr",
     "output_type": "stream",
     "text": [
      " 91%|█████████ | 118453/130662 [44:25<03:47, 53.69it/s]"
     ]
    },
    {
     "name": "stdout",
     "output_type": "stream",
     "text": [
      "skipped semisupervised-manglish/output-wav/Ghost-Stories-From-Our-Childhood!-_-The-Thirsty-Sisters-#23-Hioy9UvH4yE.mp3-part-66.wav\n"
     ]
    },
    {
     "name": "stderr",
     "output_type": "stream",
     "text": [
      " 91%|█████████ | 118467/130662 [44:26<03:27, 58.65it/s]"
     ]
    },
    {
     "name": "stdout",
     "output_type": "stream",
     "text": [
      "skipped semisupervised-manglish/output-wav/The-Fashion-Weak-Podcast-Ep-29---Valentines-Day-With-Becca-Lee-and-Leonard-Chua-UWm1ESejkzs.mp3-part-522.wav\n"
     ]
    },
    {
     "name": "stderr",
     "output_type": "stream",
     "text": [
      " 91%|█████████ | 118482/130662 [44:26<03:14, 62.69it/s]"
     ]
    },
    {
     "name": "stdout",
     "output_type": "stream",
     "text": [
      "skipped semisupervised-manglish/output-wav/Most-Accurate-Personality-Test!-_-The-Thirsty-Sisters-#17-XLV720mng6w.mp3-part-222.wav\n"
     ]
    },
    {
     "name": "stderr",
     "output_type": "stream",
     "text": [
      " 91%|█████████ | 118505/130662 [44:26<02:56, 68.87it/s]"
     ]
    },
    {
     "name": "stdout",
     "output_type": "stream",
     "text": [
      "skipped semisupervised-manglish/output-wav/The-Fashion-Weak-Podcast-Ep-28-@dreamrocketeers-on-that-Rolex-you-should-cop-to-flex-on-poor-friends-shV1F1JlDzk.mp3-part-132.wav\n"
     ]
    },
    {
     "name": "stderr",
     "output_type": "stream",
     "text": [
      " 91%|█████████ | 118533/130662 [44:27<03:41, 54.80it/s]"
     ]
    },
    {
     "name": "stdout",
     "output_type": "stream",
     "text": [
      "skipped semisupervised-manglish/output-wav/Mamak-Sessions---How-Do-You-Deal-With-Rumors-ft-Elizabeth-Tan-Rkvd5p3I11M.mp3-part-276.wav\n"
     ]
    },
    {
     "name": "stderr",
     "output_type": "stream",
     "text": [
      " 91%|█████████ | 118577/130662 [44:27<03:11, 63.26it/s]"
     ]
    },
    {
     "name": "stdout",
     "output_type": "stream",
     "text": [
      "skipped semisupervised-manglish/output-wav/Talking-Sneakers-&-Strong-Sperm-With-@bryanbotakchin---The-Fashion-Weak-Podcast-Episode-11-iugevNPFp2Y.mp3-part-125.wav\n"
     ]
    },
    {
     "name": "stderr",
     "output_type": "stream",
     "text": [
      " 91%|█████████ | 118620/130662 [44:28<04:05, 49.03it/s]"
     ]
    },
    {
     "name": "stdout",
     "output_type": "stream",
     "text": [
      "skipped semisupervised-manglish/output-wav/The-Fashion-Weak-Podcast-EP-25---Don't-Mess-With-@zamaeraaa's-Hello-Kitty-Cup-H4M_ZUDAT3k.mp3-part-524.wav\n"
     ]
    },
    {
     "name": "stderr",
     "output_type": "stream",
     "text": [
      " 91%|█████████ | 118691/130662 [44:29<03:07, 63.96it/s]"
     ]
    },
    {
     "name": "stdout",
     "output_type": "stream",
     "text": [
      "skipped semisupervised-manglish/output-wav/The-Fashion-Weak-Podcast-Ep24---Penang-Boys-@tunway-瘦虎-&-@Shawnduabui-肥龍-Talk-Zap-Fan-&-Sneakers-dykz_vuzJh0.mp3-part-410.wav\n"
     ]
    },
    {
     "name": "stderr",
     "output_type": "stream",
     "text": [
      " 91%|█████████ | 118776/130662 [44:31<02:57, 66.82it/s]"
     ]
    },
    {
     "name": "stdout",
     "output_type": "stream",
     "text": [
      "skipped semisupervised-manglish/output-wav/The-Fashion-Weak-Podcast-Ep-33---Lingerie-&-Bikini-Talk-With-Talitha-Tan-(@talithabe)-_7Un0q6a9zg.mp3-part-725.wav\n",
      "skipped semisupervised-manglish/output-wav/The-Fashion-Weak-Podcast-Ep-43A---Keeping-Fair-On-The-Fairway-With-Natalia-Ng-CSP1XPZu4YY.mp3-part-57.wav\n"
     ]
    },
    {
     "name": "stderr",
     "output_type": "stream",
     "text": [
      " 91%|█████████ | 119000/130662 [44:35<03:13, 60.36it/s]"
     ]
    },
    {
     "name": "stdout",
     "output_type": "stream",
     "text": [
      "skipped semisupervised-manglish/output-wav/Mamak-Sessions---The-Miss-World-Crown-is-more-than-$4,000,000!-PazCOj1nb3c.mp3-part-56.wav\n"
     ]
    },
    {
     "name": "stderr",
     "output_type": "stream",
     "text": [
      " 91%|█████████ | 119030/130662 [44:36<02:56, 65.86it/s]"
     ]
    },
    {
     "name": "stdout",
     "output_type": "stream",
     "text": [
      "skipped semisupervised-manglish/output-wav/Dance-Moves-To-Pick-Up-Girls-At-The-Club-With-Adidas-Creator-Maybelline-Wong-(@definitelyMayb_)-vRnkHzyyBc4.mp3-part-840.wav\n"
     ]
    },
    {
     "name": "stderr",
     "output_type": "stream",
     "text": [
      " 91%|█████████ | 119046/130662 [44:36<02:52, 67.44it/s]"
     ]
    },
    {
     "name": "stdout",
     "output_type": "stream",
     "text": [
      "skipped semisupervised-manglish/output-wav/Mamak-Sessions-Ep6---Names-People-Always-Mispronounce-&-Facebook-Is-A-Spy-8LuihYdx0FQ.mp3-part-409.wav\n"
     ]
    },
    {
     "name": "stderr",
     "output_type": "stream",
     "text": [
      "\r",
      " 91%|█████████ | 119053/130662 [44:36<02:57, 65.28it/s]"
     ]
    },
    {
     "name": "stdout",
     "output_type": "stream",
     "text": [
      "skipped semisupervised-manglish/output-wav/Self-Love,-Social-Media-And-Education-_-HTHT---Chow-Jia-Hui-ezYaMrChz4M.mp3-part-40.wav\n"
     ]
    },
    {
     "name": "stderr",
     "output_type": "stream",
     "text": [
      " 91%|█████████ | 119117/130662 [44:37<02:54, 65.99it/s]"
     ]
    },
    {
     "name": "stdout",
     "output_type": "stream",
     "text": [
      "skipped semisupervised-manglish/output-wav/The-Fashion-Weak-Podcast-Ep-40---tdcjTfzYSbk.mp3-part-314.wav\n"
     ]
    },
    {
     "name": "stderr",
     "output_type": "stream",
     "text": [
      " 91%|█████████ | 119191/130662 [44:39<03:16, 58.26it/s]"
     ]
    },
    {
     "name": "stdout",
     "output_type": "stream",
     "text": [
      "skipped semisupervised-manglish/output-wav/Dance-Moves-To-Pick-Up-Girls-At-The-Club-With-Adidas-Creator-Maybelline-Wong-(@definitelyMayb_)-vRnkHzyyBc4.mp3-part-614.wav\n"
     ]
    },
    {
     "name": "stderr",
     "output_type": "stream",
     "text": [
      " 91%|█████████▏| 119346/130662 [44:41<03:35, 52.57it/s]"
     ]
    },
    {
     "name": "stdout",
     "output_type": "stream",
     "text": [
      "skipped semisupervised-manglish/output-wav/The-Fashion-Weak-Podcast-Ep-38---TikTok-Royalty-Roshan-Jeet-aka-Roshannnn1-lPnRg9UsP0M.mp3-part-715.wav\n"
     ]
    },
    {
     "name": "stderr",
     "output_type": "stream",
     "text": [
      " 91%|█████████▏| 119376/130662 [44:42<02:56, 63.95it/s]"
     ]
    },
    {
     "name": "stdout",
     "output_type": "stream",
     "text": [
      "skipped semisupervised-manglish/output-wav/The-Fashion-Weak-Podcast-Ep-43---Thirst-Trapping-Simps-&-Loving-Your-Body-From-The-Outside-In-6R87P6YD2c4.mp3-part-566.wav\n"
     ]
    },
    {
     "name": "stderr",
     "output_type": "stream",
     "text": [
      " 91%|█████████▏| 119408/130662 [44:42<02:48, 66.71it/s]"
     ]
    },
    {
     "name": "stdout",
     "output_type": "stream",
     "text": [
      "skipped semisupervised-manglish/output-wav/Mamak-Sessions---Body-Shaming-Will-Land-You-In-Jail-XMx9tqwzQS4.mp3-part-161.wav\n"
     ]
    },
    {
     "name": "stderr",
     "output_type": "stream",
     "text": [
      " 91%|█████████▏| 119429/130662 [44:43<03:45, 49.88it/s]"
     ]
    },
    {
     "name": "stdout",
     "output_type": "stream",
     "text": [
      "skipped semisupervised-manglish/output-wav/Mamak-Sessions---Quitting-The-Medical-Line-To-Make-People-Laugh-ft-Dr.-Jason-Leong-FcD9MpeWqEI.mp3-part-358.wav\n",
      "skipped semisupervised-manglish/output-wav/The-Fashion-Weak-Podcast-Ep-29---Valentines-Day-With-Becca-Lee-and-Leonard-Chua-UWm1ESejkzs.mp3-part-583.wav\n"
     ]
    },
    {
     "name": "stderr",
     "output_type": "stream",
     "text": [
      " 91%|█████████▏| 119499/130662 [44:44<02:55, 63.52it/s]"
     ]
    },
    {
     "name": "stdout",
     "output_type": "stream",
     "text": [
      "skipped semisupervised-manglish/output-wav/The-Fashion-Weak-Podcast-Ep-45---Finessing-A-New-Phone-Every-Year-With-Mamak-Rap-King-Jiven-Sekar-VlovwtVYuw0.mp3-part-542.wav\n"
     ]
    },
    {
     "name": "stderr",
     "output_type": "stream",
     "text": [
      " 91%|█████████▏| 119545/130662 [44:45<03:07, 59.24it/s]"
     ]
    },
    {
     "name": "stdout",
     "output_type": "stream",
     "text": [
      "skipped semisupervised-manglish/output-wav/My-Future-In-Laws-Threw-Me-Out!-_-The-Thirsty-Sisters-#18-ViJXVHWTRz8.mp3-part-438.wav\n"
     ]
    },
    {
     "name": "stderr",
     "output_type": "stream",
     "text": [
      " 92%|█████████▏| 119643/130662 [44:47<03:07, 58.76it/s]"
     ]
    },
    {
     "name": "stdout",
     "output_type": "stream",
     "text": [
      "skipped semisupervised-manglish/output-wav/8-Wheels-Vs-4-Wheels-With-Sukeats-From-Wheel-Love---The-Fashion-Weak-Podcast-ep-12-fgaCmnMdZ0c.mp3-part-159.wav\n"
     ]
    },
    {
     "name": "stderr",
     "output_type": "stream",
     "text": [
      " 92%|█████████▏| 119665/130662 [44:47<02:57, 61.82it/s]"
     ]
    },
    {
     "name": "stdout",
     "output_type": "stream",
     "text": [
      "skipped semisupervised-manglish/output-wav/Mamak-Sessions-Podcast---Is-it-ok-to-move-in-with-your-Partner-before-MARRIAGE-nGnyZ5c00Mo.mp3-part-194.wav\n",
      "skipped semisupervised-manglish/output-wav/The-Fashion-Weak-Podcast-Ep-20---Couple-Goals-With-Maggy-Wang-&-Jobroseph-TzfCaQ8vUMc.mp3-part-177.wav\n"
     ]
    },
    {
     "name": "stderr",
     "output_type": "stream",
     "text": [
      " 92%|█████████▏| 119716/130662 [44:48<02:57, 61.71it/s]"
     ]
    },
    {
     "name": "stdout",
     "output_type": "stream",
     "text": [
      "skipped semisupervised-manglish/output-wav/Perspective-from-an-American-hustling-in-SG-_-Singaporean-Podcast-#5-_-Peter-Lam-5t_yyrP2OdI.mp3-part-76.wav\n"
     ]
    },
    {
     "name": "stderr",
     "output_type": "stream",
     "text": [
      " 92%|█████████▏| 119759/130662 [44:49<02:55, 62.23it/s]"
     ]
    },
    {
     "name": "stdout",
     "output_type": "stream",
     "text": [
      "skipped semisupervised-manglish/output-wav/The-Fashion-Weak-Podcast-Ep-40---tdcjTfzYSbk.mp3-part-734.wav\n"
     ]
    },
    {
     "name": "stderr",
     "output_type": "stream",
     "text": [
      " 92%|█████████▏| 119831/130662 [44:50<02:53, 62.25it/s]"
     ]
    },
    {
     "name": "stdout",
     "output_type": "stream",
     "text": [
      "skipped semisupervised-manglish/output-wav/Skin-Care-Routines,-Death,-Life-Purpose-and-More-_-Singaporean-Trio-Podcast-#2-6yW185RJkGw.mp3-part-318.wav\n"
     ]
    },
    {
     "name": "stderr",
     "output_type": "stream",
     "text": [
      " 92%|█████████▏| 119883/130662 [44:51<03:30, 51.23it/s]"
     ]
    },
    {
     "name": "stdout",
     "output_type": "stream",
     "text": [
      "skipped semisupervised-manglish/output-wav/The-Fashion-Weak-Podcast-EP-36---Why-guys-REALLY-go-for-spin-class-with-Oxygen-Cycle-RqG0tHR9D1g.mp3-part-206.wav\n",
      "skipped semisupervised-manglish/output-wav/Mamak-Sessions-Podcast---How-Dean-Lewis-became-who-he-is-today-HkOQy1Nxpis.mp3-part-169.wav\n"
     ]
    },
    {
     "name": "stderr",
     "output_type": "stream",
     "text": [
      " 92%|█████████▏| 119906/130662 [44:51<02:52, 62.34it/s]"
     ]
    },
    {
     "name": "stdout",
     "output_type": "stream",
     "text": [
      "skipped semisupervised-manglish/output-wav/The-Fashion-Weak-Podcast-Ep-26---Chinese-New-Year-with-Stand-Up-Comedian-_-Fashionista-Kuah-Jenhan-Yv7uONh96tc.mp3-part-629.wav\n"
     ]
    },
    {
     "name": "stderr",
     "output_type": "stream",
     "text": [
      " 92%|█████████▏| 119930/130662 [44:52<02:34, 69.57it/s]"
     ]
    },
    {
     "name": "stdout",
     "output_type": "stream",
     "text": [
      "skipped semisupervised-manglish/output-wav/Ghost-Stories-From-Our-Childhood!-_-The-Thirsty-Sisters-#23-Hioy9UvH4yE.mp3-part-65.wav\n",
      "skipped semisupervised-manglish/output-wav/The-Fashion-Weak-Podcast-Ep-39---Talking-Turn-On's-and-Fashion-Bulk-Buy-Deals-With-Tata-Wanqian-WSVo-qvu1GQ.mp3-part-76.wav\n"
     ]
    },
    {
     "name": "stderr",
     "output_type": "stream",
     "text": [
      " 92%|█████████▏| 119968/130662 [44:53<03:28, 51.18it/s]"
     ]
    },
    {
     "name": "stdout",
     "output_type": "stream",
     "text": [
      "skipped semisupervised-manglish/output-wav/The-Fashion-Weak-Podcast-Ep-32---Getting-Surprised-Reading-Melissa-Campbell's-(@heymelbelle)-IG-DMs-mJuKUwFpDgI.mp3-part-755.wav\n"
     ]
    },
    {
     "name": "stderr",
     "output_type": "stream",
     "text": [
      " 92%|█████████▏| 120007/130662 [44:53<02:42, 65.63it/s]"
     ]
    },
    {
     "name": "stdout",
     "output_type": "stream",
     "text": [
      "skipped semisupervised-manglish/output-wav/Skin-Care-Routines,-Death,-Life-Purpose-and-More-_-Singaporean-Trio-Podcast-#2-6yW185RJkGw.mp3-part-315.wav\n",
      "skipped semisupervised-manglish/output-wav/Mamak-Sessions---Airing-Dirty-Laundry-Online-and-Social-Justice-Warriors-FFtFXiIgsyk.mp3-part-122.wav\n",
      "skipped semisupervised-manglish/output-wav/Mamak-Sessions---Getting-Married-in-Vegas,-and-Sugar-Babies-ft.-Dennis-Yin-Cq6Yjwsu63U.mp3-part-239.wav\n"
     ]
    },
    {
     "name": "stderr",
     "output_type": "stream",
     "text": [
      " 92%|█████████▏| 120070/130662 [44:54<03:18, 53.36it/s]"
     ]
    },
    {
     "name": "stdout",
     "output_type": "stream",
     "text": [
      "skipped semisupervised-manglish/output-wav/Mamak-Sessions---The-Miss-World-Crown-is-more-than-$4,000,000!-PazCOj1nb3c.mp3-part-368.wav\n"
     ]
    },
    {
     "name": "stderr",
     "output_type": "stream",
     "text": [
      " 92%|█████████▏| 120099/130662 [44:55<02:43, 64.42it/s]"
     ]
    },
    {
     "name": "stdout",
     "output_type": "stream",
     "text": [
      "skipped semisupervised-manglish/output-wav/Conversations-With-A-Cancer-Survivor-ft-Jared-Lee-L2W4inT6j3c.mp3-part-11.wav\n"
     ]
    },
    {
     "name": "stderr",
     "output_type": "stream",
     "text": [
      " 92%|█████████▏| 120187/130662 [44:56<02:37, 66.53it/s]"
     ]
    },
    {
     "name": "stdout",
     "output_type": "stream",
     "text": [
      "skipped semisupervised-manglish/output-wav/The-Fashion-Weak-Podcast-Ep-40---tdcjTfzYSbk.mp3-part-142.wav\n",
      "skipped semisupervised-manglish/output-wav/Mamak-Sessions---From-Giving-Up,-To-Getting-A-NETFLIX-Special-Q54z0mutz5Q.mp3-part-428.wav\n"
     ]
    },
    {
     "name": "stderr",
     "output_type": "stream",
     "text": [
      " 92%|█████████▏| 120211/130662 [44:57<02:27, 70.99it/s]"
     ]
    },
    {
     "name": "stdout",
     "output_type": "stream",
     "text": [
      "skipped semisupervised-manglish/output-wav/The-Fashion-Weak-Podcast-Ep-32---Getting-Surprised-Reading-Melissa-Campbell's-(@heymelbelle)-IG-DMs-mJuKUwFpDgI.mp3-part-256.wav\n"
     ]
    },
    {
     "name": "stderr",
     "output_type": "stream",
     "text": [
      " 92%|█████████▏| 120247/130662 [44:57<03:38, 47.57it/s]"
     ]
    },
    {
     "name": "stdout",
     "output_type": "stream",
     "text": [
      "skipped semisupervised-manglish/output-wav/The-Fashion-Weak-Podcast-Ep-21---Suitmaker-To-The-Stars,-Shahrin-Bahar-aka-@sbahar.my-Pkv6d83oe8s.mp3-part-217.wav\n",
      "skipped semisupervised-manglish/output-wav/Mamak-Sessions-Ep9---Sibling-Rivalry-ft-Julian-Yee-670FyeJhnps.mp3-part-194.wav\n"
     ]
    },
    {
     "name": "stderr",
     "output_type": "stream",
     "text": [
      " 92%|█████████▏| 120458/130662 [45:01<02:38, 64.41it/s]"
     ]
    },
    {
     "name": "stdout",
     "output_type": "stream",
     "text": [
      "skipped semisupervised-manglish/output-wav/The-Fashion-Weak-Podcast-Ep-33---Lingerie-&-Bikini-Talk-With-Talitha-Tan-(@talithabe)-_7Un0q6a9zg.mp3-part-252.wav\n"
     ]
    },
    {
     "name": "stderr",
     "output_type": "stream",
     "text": [
      " 92%|█████████▏| 120501/130662 [45:02<02:36, 65.12it/s]"
     ]
    },
    {
     "name": "stdout",
     "output_type": "stream",
     "text": [
      "skipped semisupervised-manglish/output-wav/Mamak-Sessions---The-Miss-World-Crown-is-more-than-$4,000,000!-PazCOj1nb3c.mp3-part-134.wav\n"
     ]
    },
    {
     "name": "stderr",
     "output_type": "stream",
     "text": [
      " 92%|█████████▏| 120551/130662 [45:03<02:36, 64.73it/s]"
     ]
    },
    {
     "name": "stdout",
     "output_type": "stream",
     "text": [
      "skipped semisupervised-manglish/output-wav/Conversations-with-a-Young-Singaporean-CEO--Gao-Fei,-CEO-of-LearnSeeker-_-Singaporean-Podcast-#13--b9YHjghfd2E.mp3-part-530.wav\n",
      "skipped semisupervised-manglish/output-wav/The-Fashion-Weak-Podcast-Ep24---Penang-Boys-@tunway-瘦虎-&-@Shawnduabui-肥龍-Talk-Zap-Fan-&-Sneakers-dykz_vuzJh0.mp3-part-579.wav\n"
     ]
    },
    {
     "name": "stderr",
     "output_type": "stream",
     "text": [
      " 92%|█████████▏| 120574/130662 [45:03<02:25, 69.55it/s]"
     ]
    },
    {
     "name": "stdout",
     "output_type": "stream",
     "text": [
      "skipped semisupervised-manglish/output-wav/The-Fashion-Weak-Podcast-Ep-32---Getting-Surprised-Reading-Melissa-Campbell's-(@heymelbelle)-IG-DMs-mJuKUwFpDgI.mp3-part-697.wav\n",
      "skipped semisupervised-manglish/output-wav/Mamak-Sessions-Podcast---How-Dean-Lewis-became-who-he-is-today-HkOQy1Nxpis.mp3-part-64.wav\n",
      "skipped semisupervised-manglish/output-wav/The-Fashion-Weak-Podcast-Ep-46---Premium-Thirst-Trap-Tips-With-Michelle-Lee-(@mich8lee)-MCHDyLJDJrg.mp3-part-702.wav\n"
     ]
    },
    {
     "name": "stderr",
     "output_type": "stream",
     "text": [
      " 92%|█████████▏| 120672/130662 [45:05<02:31, 66.16it/s]"
     ]
    },
    {
     "name": "stdout",
     "output_type": "stream",
     "text": [
      "skipped semisupervised-manglish/output-wav/Mamak-Sessions---How-Do-You-Deal-With-Rumors-ft-Elizabeth-Tan-Rkvd5p3I11M.mp3-part-467.wav\n"
     ]
    },
    {
     "name": "stderr",
     "output_type": "stream",
     "text": [
      " 92%|█████████▏| 120723/130662 [45:06<02:58, 55.57it/s]"
     ]
    },
    {
     "name": "stdout",
     "output_type": "stream",
     "text": [
      "skipped semisupervised-manglish/output-wav/Overcoming-Depression-&-Redefining-What-Failure-Means-to-Youths_-Singaporean-Podcast-#10-_-Kevin-Wee-rjjK4aAbKnw.mp3-part-8.wav\n"
     ]
    },
    {
     "name": "stderr",
     "output_type": "stream",
     "text": [
      " 92%|█████████▏| 120762/130662 [45:06<02:25, 67.85it/s]"
     ]
    },
    {
     "name": "stdout",
     "output_type": "stream",
     "text": [
      "skipped semisupervised-manglish/output-wav/The-Fashion-Weak-Podcast-Ep-32---Getting-Surprised-Reading-Melissa-Campbell's-(@heymelbelle)-IG-DMs-mJuKUwFpDgI.mp3-part-494.wav\n",
      "skipped semisupervised-manglish/output-wav/Bend-Over!-Or-Pay-Sit-Forward!-We-Create-Our-Own-Movements!-_-The-Thirsty-Sisters-#3-ekKcn3QCU5E.mp3-part-362.wav\n"
     ]
    },
    {
     "name": "stderr",
     "output_type": "stream",
     "text": [
      " 92%|█████████▏| 120785/130662 [45:07<02:27, 66.86it/s]"
     ]
    },
    {
     "name": "stdout",
     "output_type": "stream",
     "text": [
      "skipped semisupervised-manglish/output-wav/Mamak-Sessions-Podcast---Committing-Suicide,-Mental-Health-And-How-To-Seek-Help-EHlGktcfDZc.mp3-part-480.wav\n"
     ]
    },
    {
     "name": "stderr",
     "output_type": "stream",
     "text": [
      " 92%|█████████▏| 120835/130662 [45:08<02:32, 64.48it/s]"
     ]
    },
    {
     "name": "stdout",
     "output_type": "stream",
     "text": [
      "skipped semisupervised-manglish/output-wav/The-Fashion-Weak-Podcast-Ep-18---Putting-The-Deep-In-Deepavali-With-Keren-Bala-lvIbeZ3qgsU.mp3-part-78.wav\n"
     ]
    },
    {
     "name": "stderr",
     "output_type": "stream",
     "text": [
      " 93%|█████████▎| 120871/130662 [45:08<02:31, 64.42it/s]"
     ]
    },
    {
     "name": "stdout",
     "output_type": "stream",
     "text": [
      "skipped semisupervised-manglish/output-wav/The-Fashion-Weak-Podcast-Ep-46---Premium-Thirst-Trap-Tips-With-Michelle-Lee-(@mich8lee)-MCHDyLJDJrg.mp3-part-631.wav\n"
     ]
    },
    {
     "name": "stderr",
     "output_type": "stream",
     "text": [
      " 93%|█████████▎| 120907/130662 [45:09<02:51, 57.00it/s]"
     ]
    },
    {
     "name": "stdout",
     "output_type": "stream",
     "text": [
      "skipped semisupervised-manglish/output-wav/Blessing-The-Pod,-Calling-Mofo's-OUT!-with-@soimjenn---The-Fashion-Weak-Podcast-Episode-7-xsjayMqoC0Y.mp3-part-202.wav\n"
     ]
    },
    {
     "name": "stderr",
     "output_type": "stream",
     "text": [
      " 93%|█████████▎| 120958/130662 [45:10<02:26, 66.28it/s]"
     ]
    },
    {
     "name": "stdout",
     "output_type": "stream",
     "text": [
      "skipped semisupervised-manglish/output-wav/What-is-a-Friend-_-Singaporean-Trio-Podcast-#01-Yzagxa4bn-M.mp3-part-113.wav\n"
     ]
    },
    {
     "name": "stderr",
     "output_type": "stream",
     "text": [
      " 93%|█████████▎| 121014/130662 [45:11<02:41, 59.62it/s]"
     ]
    },
    {
     "name": "stdout",
     "output_type": "stream",
     "text": [
      "skipped semisupervised-manglish/output-wav/Mamak-Sessions-Podcast---How-Dean-Lewis-became-who-he-is-today-HkOQy1Nxpis.mp3-part-61.wav\n"
     ]
    },
    {
     "name": "stderr",
     "output_type": "stream",
     "text": [
      " 93%|█████████▎| 121085/130662 [45:12<02:52, 55.52it/s]"
     ]
    },
    {
     "name": "stdout",
     "output_type": "stream",
     "text": [
      "skipped semisupervised-manglish/output-wav/Mamak-Sessions-Ep10---Datuk-Nicol-David-is-RETIRING!-n3AR3nQEc7Y.mp3-part-372.wav\n"
     ]
    },
    {
     "name": "stderr",
     "output_type": "stream",
     "text": [
      " 93%|█████████▎| 121121/130662 [45:13<02:26, 65.32it/s]"
     ]
    },
    {
     "name": "stdout",
     "output_type": "stream",
     "text": [
      "skipped semisupervised-manglish/output-wav/Mamak-Sessions---Nasi-Lemak-Sneakers-zLEmAKdG9vY.mp3-part-193.wav\n"
     ]
    },
    {
     "name": "stderr",
     "output_type": "stream",
     "text": [
      " 93%|█████████▎| 121217/130662 [45:14<02:21, 66.63it/s]"
     ]
    },
    {
     "name": "stdout",
     "output_type": "stream",
     "text": [
      "skipped semisupervised-manglish/output-wav/Mamak-Sessions-Ep8---Man-Sues-Colleague-for-$1.8-Million-for-Farting-OWbPqC2i71c.mp3-part-267.wav\n"
     ]
    },
    {
     "name": "stderr",
     "output_type": "stream",
     "text": [
      " 93%|█████████▎| 121290/130662 [45:16<02:25, 64.34it/s]"
     ]
    },
    {
     "name": "stdout",
     "output_type": "stream",
     "text": [
      "skipped semisupervised-manglish/output-wav/Is-Mulan-Really-That-Bad-_-IMO-Ep.32-rMpf5j7683M.mp3-part-470.wav\n"
     ]
    },
    {
     "name": "stderr",
     "output_type": "stream",
     "text": [
      " 93%|█████████▎| 121312/130662 [45:16<02:23, 65.12it/s]"
     ]
    },
    {
     "name": "stdout",
     "output_type": "stream",
     "text": [
      "skipped semisupervised-manglish/output-wav/Dance-Moves-To-Pick-Up-Girls-At-The-Club-With-Adidas-Creator-Maybelline-Wong-(@definitelyMayb_)-vRnkHzyyBc4.mp3-part-66.wav\n"
     ]
    },
    {
     "name": "stderr",
     "output_type": "stream",
     "text": [
      " 93%|█████████▎| 121571/130662 [45:21<02:31, 60.13it/s]"
     ]
    },
    {
     "name": "stdout",
     "output_type": "stream",
     "text": [
      "skipped semisupervised-manglish/output-wav/The-Fashion-Weak-Podcast-EP-27----Peter-Davis-talks-cars,-mixed-rice-and-some-fashion.-rxmMRAzLRJ0.mp3-part-609.wav\n",
      "skipped semisupervised-manglish/output-wav/Mamak-Sessions-Ep6---Names-People-Always-Mispronounce-&-Facebook-Is-A-Spy-8LuihYdx0FQ.mp3-part-416.wav\n"
     ]
    },
    {
     "name": "stderr",
     "output_type": "stream",
     "text": [
      " 93%|█████████▎| 121593/130662 [45:21<02:17, 66.06it/s]"
     ]
    },
    {
     "name": "stdout",
     "output_type": "stream",
     "text": [
      "skipped semisupervised-manglish/output-wav/Mamak-Sessions-Ep10---Datuk-Nicol-David-is-RETIRING!-n3AR3nQEc7Y.mp3-part-210.wav\n"
     ]
    },
    {
     "name": "stderr",
     "output_type": "stream",
     "text": [
      " 93%|█████████▎| 121616/130662 [45:22<02:51, 52.73it/s]"
     ]
    },
    {
     "name": "stdout",
     "output_type": "stream",
     "text": [
      "skipped semisupervised-manglish/output-wav/Mamak-Sessions---The-Miss-World-Crown-is-more-than-$4,000,000!-PazCOj1nb3c.mp3-part-33.wav\n",
      "skipped semisupervised-manglish/output-wav/Amander-Reveals-Why-She-Left-Titan---The-Team-Titan-Show-7byI9tIJeRk.mp3-part-332.wav\n"
     ]
    },
    {
     "name": "stderr",
     "output_type": "stream",
     "text": [
      " 93%|█████████▎| 121722/130662 [45:24<02:32, 58.48it/s]"
     ]
    },
    {
     "name": "stdout",
     "output_type": "stream",
     "text": [
      "skipped semisupervised-manglish/output-wav/Mamak-Sessions---My-Asian-Parents-Were-Initially-Ashamed-Of-My-Career-NqCp8Csl7PE.mp3-part-304.wav\n",
      "skipped semisupervised-manglish/output-wav/The-Fashion-Weak-Podcast-Ep24---Penang-Boys-@tunway-瘦虎-&-@Shawnduabui-肥龍-Talk-Zap-Fan-&-Sneakers-dykz_vuzJh0.mp3-part-215.wav\n"
     ]
    },
    {
     "name": "stderr",
     "output_type": "stream",
     "text": [
      " 93%|█████████▎| 121764/130662 [45:24<02:19, 63.82it/s]"
     ]
    },
    {
     "name": "stdout",
     "output_type": "stream",
     "text": [
      "skipped semisupervised-manglish/output-wav/Mamak-Sessions---Airing-Dirty-Laundry-Online-and-Social-Justice-Warriors-FFtFXiIgsyk.mp3-part-70.wav\n",
      "skipped semisupervised-manglish/output-wav/Mamak-Sessions---Nasi-Lemak-Sneakers-zLEmAKdG9vY.mp3-part-435.wav\n"
     ]
    },
    {
     "name": "stderr",
     "output_type": "stream",
     "text": [
      " 93%|█████████▎| 121799/130662 [45:25<03:04, 48.11it/s]"
     ]
    },
    {
     "name": "stdout",
     "output_type": "stream",
     "text": [
      "skipped semisupervised-manglish/output-wav/Grown-Up-Flex-With-YouTube-Superstar-@JinnyBoy---The-Fashion-Weak-Podcast-Episode-9-7wiSVCBFmFc.mp3-part-355.wav\n"
     ]
    },
    {
     "name": "stderr",
     "output_type": "stream",
     "text": [
      " 93%|█████████▎| 121914/130662 [45:27<02:27, 59.27it/s]"
     ]
    },
    {
     "name": "stdout",
     "output_type": "stream",
     "text": [
      "skipped semisupervised-manglish/output-wav/The-Fashion-Weak-Podcast-Ep-39---Talking-Turn-On's-and-Fashion-Bulk-Buy-Deals-With-Tata-Wanqian-WSVo-qvu1GQ.mp3-part-783.wav\n"
     ]
    },
    {
     "name": "stderr",
     "output_type": "stream",
     "text": [
      " 93%|█████████▎| 121970/130662 [45:28<03:10, 45.56it/s]"
     ]
    },
    {
     "name": "stdout",
     "output_type": "stream",
     "text": [
      "skipped semisupervised-manglish/output-wav/The-Fashion-Weak-Podcast-Ep-19---Butt-Stuff-&-Actual-Fashion-With-Zane-Gan-jhLgzHQnAHU.mp3-part-271.wav\n"
     ]
    },
    {
     "name": "stderr",
     "output_type": "stream",
     "text": [
      " 93%|█████████▎| 122083/130662 [45:30<02:32, 56.24it/s]"
     ]
    },
    {
     "name": "stdout",
     "output_type": "stream",
     "text": [
      "skipped semisupervised-manglish/output-wav/Mamak-Sessions---Blaming-Yourself-For-Your-Parents'-Divorce,-And-How-Our-Parents-Punish-Us-x8Gl_zIC9CQ.mp3-part-466.wav\n"
     ]
    },
    {
     "name": "stderr",
     "output_type": "stream",
     "text": [
      " 93%|█████████▎| 122156/130662 [45:31<03:12, 44.23it/s]"
     ]
    },
    {
     "name": "stdout",
     "output_type": "stream",
     "text": [
      "skipped semisupervised-manglish/output-wav/The-Fashion-Weak-Podcast-EP-36---Why-guys-REALLY-go-for-spin-class-with-Oxygen-Cycle-RqG0tHR9D1g.mp3-part-414.wav\n",
      "skipped semisupervised-manglish/output-wav/Mamak-Sessions---We-May-Not-Always-End-Up-Doing-What-We-Thought-We-Would..And-That's-Not-A-Bad-Thing-IAeN0jG9Hwc.mp3-part-272.wav\n"
     ]
    },
    {
     "name": "stderr",
     "output_type": "stream",
     "text": [
      " 94%|█████████▎| 122192/130662 [45:32<02:18, 61.25it/s]"
     ]
    },
    {
     "name": "stdout",
     "output_type": "stream",
     "text": [
      "skipped semisupervised-manglish/output-wav/8-Wheels-Vs-4-Wheels-With-Sukeats-From-Wheel-Love---The-Fashion-Weak-Podcast-ep-12-fgaCmnMdZ0c.mp3-part-113.wav\n"
     ]
    },
    {
     "name": "stderr",
     "output_type": "stream",
     "text": [
      " 94%|█████████▎| 122313/130662 [45:34<02:11, 63.72it/s]"
     ]
    },
    {
     "name": "stdout",
     "output_type": "stream",
     "text": [
      "skipped semisupervised-manglish/output-wav/@Juanitadr-shows-us-what-Arnold's-Tongue-Can-Do---The-Fashion-Weak-Podcast-Episode-10-N5EfPvQKW90.mp3-part-331.wav\n"
     ]
    },
    {
     "name": "stderr",
     "output_type": "stream",
     "text": [
      " 94%|█████████▎| 122328/130662 [45:35<03:02, 45.71it/s]"
     ]
    },
    {
     "name": "stdout",
     "output_type": "stream",
     "text": [
      "skipped semisupervised-manglish/output-wav/Mamak-Sessions---Getting-Married-in-Vegas,-and-Sugar-Babies-ft.-Dennis-Yin-Cq6Yjwsu63U.mp3-part-245.wav\n"
     ]
    },
    {
     "name": "stderr",
     "output_type": "stream",
     "text": [
      " 94%|█████████▎| 122364/130662 [45:35<02:19, 59.48it/s]"
     ]
    },
    {
     "name": "stdout",
     "output_type": "stream",
     "text": [
      "skipped semisupervised-manglish/output-wav/The-Fashion-Weak-Podcast-Ep-29---Valentines-Day-With-Becca-Lee-and-Leonard-Chua-UWm1ESejkzs.mp3-part-103.wav\n"
     ]
    },
    {
     "name": "stderr",
     "output_type": "stream",
     "text": [
      " 94%|█████████▎| 122408/130662 [45:36<02:06, 65.10it/s]"
     ]
    },
    {
     "name": "stdout",
     "output_type": "stream",
     "text": [
      "skipped semisupervised-manglish/output-wav/The-Fashion-Weak-Podcast-Ep-39---Talking-Turn-On's-and-Fashion-Bulk-Buy-Deals-With-Tata-Wanqian-WSVo-qvu1GQ.mp3-part-278.wav\n"
     ]
    },
    {
     "name": "stderr",
     "output_type": "stream",
     "text": [
      " 94%|█████████▎| 122437/130662 [45:37<02:34, 53.21it/s]"
     ]
    },
    {
     "name": "stdout",
     "output_type": "stream",
     "text": [
      "skipped semisupervised-manglish/output-wav/The-Fashion-Weak-Podcast-EP-27----Peter-Davis-talks-cars,-mixed-rice-and-some-fashion.-rxmMRAzLRJ0.mp3-part-493.wav\n"
     ]
    },
    {
     "name": "stderr",
     "output_type": "stream",
     "text": [
      " 94%|█████████▍| 122549/130662 [45:39<02:16, 59.54it/s]"
     ]
    },
    {
     "name": "stdout",
     "output_type": "stream",
     "text": [
      "skipped semisupervised-manglish/output-wav/Relatives-Ruin-My-Wedding!-_-The-Thirsty-Sisters-#22-98CiTQQtqak.mp3-part-246.wav\n",
      "skipped semisupervised-manglish/output-wav/Mamak-Sessions---The-Man-Behind-The-Six-Pack,-Jordan-Yeoh-jcvIfHTy1H0.mp3-part-230.wav\n"
     ]
    },
    {
     "name": "stderr",
     "output_type": "stream",
     "text": [
      " 94%|█████████▍| 122579/130662 [45:39<02:05, 64.36it/s]"
     ]
    },
    {
     "name": "stdout",
     "output_type": "stream",
     "text": [
      "skipped semisupervised-manglish/output-wav/The-Fashion-Weak-Podcast-Ep-22---Why-Fashion-School-Didn't-Work-Out-For-Zee-Avi-woDYSE37_rI.mp3-part-157.wav\n"
     ]
    },
    {
     "name": "stderr",
     "output_type": "stream",
     "text": [
      " 94%|█████████▍| 122647/130662 [45:40<02:02, 65.63it/s]"
     ]
    },
    {
     "name": "stdout",
     "output_type": "stream",
     "text": [
      "skipped semisupervised-manglish/output-wav/If-the-girl-is-not-interested,-go-for-her-Mom.-Or-her-Aunt---The-Fashion-Weak-Podcast-Ep6-aa5r9pws0AI.mp3-part-25.wav\n"
     ]
    },
    {
     "name": "stderr",
     "output_type": "stream",
     "text": [
      " 94%|█████████▍| 122663/130662 [45:41<02:00, 66.13it/s]"
     ]
    },
    {
     "name": "stdout",
     "output_type": "stream",
     "text": [
      "skipped semisupervised-manglish/output-wav/The-Fashion-Weak-Podcast-EP-25---Don't-Mess-With-@zamaeraaa's-Hello-Kitty-Cup-H4M_ZUDAT3k.mp3-part-386.wav\n"
     ]
    },
    {
     "name": "stderr",
     "output_type": "stream",
     "text": [
      " 94%|█████████▍| 122679/130662 [45:41<01:56, 68.30it/s]"
     ]
    },
    {
     "name": "stdout",
     "output_type": "stream",
     "text": [
      "skipped semisupervised-manglish/output-wav/Mamak-Sessions---From-A-Transport-Assistant-to-a-Multi-Award-Winning-Film-Director-r6f3OoHVkgU.mp3-part-243.wav\n"
     ]
    },
    {
     "name": "stderr",
     "output_type": "stream",
     "text": [
      " 94%|█████████▍| 122758/130662 [45:42<01:58, 66.62it/s]"
     ]
    },
    {
     "name": "stdout",
     "output_type": "stream",
     "text": [
      "skipped semisupervised-manglish/output-wav/The-Fashion-Weak-Podcast-Ep-32---Getting-Surprised-Reading-Melissa-Campbell's-(@heymelbelle)-IG-DMs-mJuKUwFpDgI.mp3-part-378.wav\n"
     ]
    },
    {
     "name": "stderr",
     "output_type": "stream",
     "text": [
      " 94%|█████████▍| 122810/130662 [45:43<02:12, 59.12it/s]"
     ]
    },
    {
     "name": "stdout",
     "output_type": "stream",
     "text": [
      "skipped semisupervised-manglish/output-wav/Ben-Kheng-Reflects-On-The-Sam-Willows,-Anxiety,-And-Religion-_-HTHT---Ben-Kheng-X4QapKCCneQ.mp3-part-56.wav\n"
     ]
    },
    {
     "name": "stderr",
     "output_type": "stream",
     "text": [
      " 94%|█████████▍| 122880/130662 [45:45<02:44, 47.41it/s]"
     ]
    },
    {
     "name": "stdout",
     "output_type": "stream",
     "text": [
      "skipped semisupervised-manglish/output-wav/The-Fashion-Weak-Podcast-Ep-19---Butt-Stuff-&-Actual-Fashion-With-Zane-Gan-jhLgzHQnAHU.mp3-part-327.wav\n"
     ]
    },
    {
     "name": "stderr",
     "output_type": "stream",
     "text": [
      " 94%|█████████▍| 122901/130662 [45:45<02:12, 58.72it/s]"
     ]
    },
    {
     "name": "stdout",
     "output_type": "stream",
     "text": [
      "skipped semisupervised-manglish/output-wav/Mamak-Sessions---Nasi-Lemak-Sneakers-zLEmAKdG9vY.mp3-part-327.wav\n",
      "skipped semisupervised-manglish/output-wav/Become-a-Software-Developer-in-90-days-and-Running-His-Own-Company-_-Singaporean-Podcast-#8-_-Haris-HRd3RMQtkDs.mp3-part-408.wav\n"
     ]
    },
    {
     "name": "stderr",
     "output_type": "stream",
     "text": [
      " 94%|█████████▍| 122941/130662 [45:45<01:55, 67.13it/s]"
     ]
    },
    {
     "name": "stdout",
     "output_type": "stream",
     "text": [
      "skipped semisupervised-manglish/output-wav/Skin-Care-Routines,-Death,-Life-Purpose-and-More-_-Singaporean-Trio-Podcast-#2-6yW185RJkGw.mp3-part-202.wav\n",
      "skipped semisupervised-manglish/output-wav/The-Fashion-Weak-Podcast-Ep-29---Valentines-Day-With-Becca-Lee-and-Leonard-Chua-UWm1ESejkzs.mp3-part-62.wav\n"
     ]
    },
    {
     "name": "stderr",
     "output_type": "stream",
     "text": [
      " 94%|█████████▍| 122995/130662 [45:47<02:12, 57.85it/s]"
     ]
    },
    {
     "name": "stdout",
     "output_type": "stream",
     "text": [
      "skipped semisupervised-manglish/output-wav/The-Fashion-Weak-Podcast-Ep-46---Premium-Thirst-Trap-Tips-With-Michelle-Lee-(@mich8lee)-MCHDyLJDJrg.mp3-part-139.wav\n",
      "skipped semisupervised-manglish/output-wav/The-Fashion-Weak-Podcast-Ep-22---Why-Fashion-School-Didn't-Work-Out-For-Zee-Avi-woDYSE37_rI.mp3-part-370.wav\n"
     ]
    },
    {
     "name": "stderr",
     "output_type": "stream",
     "text": [
      " 94%|█████████▍| 123032/130662 [45:47<01:53, 67.01it/s]"
     ]
    },
    {
     "name": "stdout",
     "output_type": "stream",
     "text": [
      "skipped semisupervised-manglish/output-wav/Conversations-With-A-Cancer-Survivor-ft-Jared-Lee-L2W4inT6j3c.mp3-part-280.wav\n",
      "skipped semisupervised-manglish/output-wav/Bend-Over!-Or-Pay-Sit-Forward!-We-Create-Our-Own-Movements!-_-The-Thirsty-Sisters-#3-ekKcn3QCU5E.mp3-part-176.wav\n"
     ]
    },
    {
     "name": "stderr",
     "output_type": "stream",
     "text": [
      " 94%|█████████▍| 123068/130662 [45:48<02:39, 47.49it/s]"
     ]
    },
    {
     "name": "stdout",
     "output_type": "stream",
     "text": [
      "skipped semisupervised-manglish/output-wav/Priorities-as-University-Graduates-and-The-MALAYSIA-Hustle-_-Singaporean-Podcast-#12-_-Zhi-Rong-TYL7mmbpsbo.mp3-part-31.wav\n",
      "skipped semisupervised-manglish/output-wav/Mamak-Sessions---Getting-Married-in-Vegas,-and-Sugar-Babies-ft.-Dennis-Yin-Cq6Yjwsu63U.mp3-part-176.wav\n"
     ]
    },
    {
     "name": "stderr",
     "output_type": "stream",
     "text": [
      " 94%|█████████▍| 123183/130662 [45:50<02:07, 58.64it/s]"
     ]
    },
    {
     "name": "stdout",
     "output_type": "stream",
     "text": [
      "skipped semisupervised-manglish/output-wav/The-Fashion-Weak-Podcast-Ep-28-@dreamrocketeers-on-that-Rolex-you-should-cop-to-flex-on-poor-friends-shV1F1JlDzk.mp3-part-672.wav\n",
      "skipped semisupervised-manglish/output-wav/The-Fashion-Weak-Podcast-Ep-43---Thirst-Trapping-Simps-&-Loving-Your-Body-From-The-Outside-In-6R87P6YD2c4.mp3-part-323.wav\n"
     ]
    },
    {
     "name": "stderr",
     "output_type": "stream",
     "text": [
      " 94%|█████████▍| 123233/130662 [45:51<01:53, 65.29it/s]"
     ]
    },
    {
     "name": "stdout",
     "output_type": "stream",
     "text": [
      "skipped semisupervised-manglish/output-wav/Mamak-Sessions---Getting-Married-in-Vegas,-and-Sugar-Babies-ft.-Dennis-Yin-Cq6Yjwsu63U.mp3-part-193.wav\n"
     ]
    },
    {
     "name": "stderr",
     "output_type": "stream",
     "text": [
      " 94%|█████████▍| 123287/130662 [45:52<01:58, 62.43it/s]"
     ]
    },
    {
     "name": "stdout",
     "output_type": "stream",
     "text": [
      "skipped semisupervised-manglish/output-wav/Mamak-Sessions---Airing-Dirty-Laundry-Online-and-Social-Justice-Warriors-FFtFXiIgsyk.mp3-part-159.wav\n",
      "skipped semisupervised-manglish/output-wav/The-Fashion-Weak-Podcast-Ep-23---Alicia-Amin-On-Being-A-'Malay'-Model-In-2019-3pKA5NvTCOA.mp3-part-155.wav\n"
     ]
    },
    {
     "name": "stderr",
     "output_type": "stream",
     "text": [
      " 94%|█████████▍| 123369/130662 [45:53<01:42, 71.00it/s]"
     ]
    },
    {
     "name": "stdout",
     "output_type": "stream",
     "text": [
      "skipped semisupervised-manglish/output-wav/Mamak-Sessions---How-I-Got-Quarantined-Because-Of-Covid-19-Feat.-Mark-O'Dea-5zAsyNKfzps.mp3-part-256.wav\n"
     ]
    },
    {
     "name": "stderr",
     "output_type": "stream",
     "text": [
      " 94%|█████████▍| 123419/130662 [45:54<02:30, 48.12it/s]"
     ]
    },
    {
     "name": "stdout",
     "output_type": "stream",
     "text": [
      "skipped semisupervised-manglish/output-wav/Mamak-Sessions-Ep6---Names-People-Always-Mispronounce-&-Facebook-Is-A-Spy-8LuihYdx0FQ.mp3-part-81.wav\n",
      "skipped semisupervised-manglish/output-wav/Mamak-Sessions---How-Do-You-Deal-With-Rumors-ft-Elizabeth-Tan-Rkvd5p3I11M.mp3-part-16.wav\n"
     ]
    },
    {
     "name": "stderr",
     "output_type": "stream",
     "text": [
      " 95%|█████████▍| 123549/130662 [45:56<01:54, 62.15it/s]"
     ]
    },
    {
     "name": "stdout",
     "output_type": "stream",
     "text": [
      "skipped semisupervised-manglish/output-wav/The-Fashion-Weak-Podcast-Ep-43---Thirst-Trapping-Simps-&-Loving-Your-Body-From-The-Outside-In-6R87P6YD2c4.mp3-part-278.wav\n"
     ]
    },
    {
     "name": "stderr",
     "output_type": "stream",
     "text": [
      " 95%|█████████▍| 123584/130662 [45:57<01:52, 62.99it/s]"
     ]
    },
    {
     "name": "stdout",
     "output_type": "stream",
     "text": [
      "skipped semisupervised-manglish/output-wav/The-Fashion-Weak-Podcast-EP-27----Peter-Davis-talks-cars,-mixed-rice-and-some-fashion.-rxmMRAzLRJ0.mp3-part-150.wav\n"
     ]
    },
    {
     "name": "stderr",
     "output_type": "stream",
     "text": [
      " 95%|█████████▍| 123599/130662 [45:57<02:51, 41.18it/s]"
     ]
    },
    {
     "name": "stdout",
     "output_type": "stream",
     "text": [
      "skipped semisupervised-manglish/output-wav/Mamak-Sessions-Podcast---Committing-Suicide,-Mental-Health-And-How-To-Seek-Help-EHlGktcfDZc.mp3-part-4.wav\n",
      "skipped semisupervised-manglish/output-wav/The-Fashion-Weak-Podcast-Ep-40---tdcjTfzYSbk.mp3-part-980.wav\n"
     ]
    },
    {
     "name": "stderr",
     "output_type": "stream",
     "text": [
      " 95%|█████████▍| 123672/130662 [45:58<01:45, 66.49it/s]"
     ]
    },
    {
     "name": "stdout",
     "output_type": "stream",
     "text": [
      "skipped semisupervised-manglish/output-wav/The-Fashion-Weak-Podcast-Ep-39---Talking-Turn-On's-and-Fashion-Bulk-Buy-Deals-With-Tata-Wanqian-WSVo-qvu1GQ.mp3-part-217.wav\n"
     ]
    },
    {
     "name": "stderr",
     "output_type": "stream",
     "text": [
      " 95%|█████████▍| 123709/130662 [45:59<02:02, 56.94it/s]"
     ]
    },
    {
     "name": "stdout",
     "output_type": "stream",
     "text": [
      "skipped semisupervised-manglish/output-wav/The-Fashion-Weak-Podcast-Ep-33---Lingerie-&-Bikini-Talk-With-Talitha-Tan-(@talithabe)-_7Un0q6a9zg.mp3-part-586.wav\n"
     ]
    },
    {
     "name": "stderr",
     "output_type": "stream",
     "text": [
      " 95%|█████████▍| 123724/130662 [45:59<01:50, 62.59it/s]"
     ]
    },
    {
     "name": "stdout",
     "output_type": "stream",
     "text": [
      "skipped semisupervised-manglish/output-wav/Mamak-Sessions---Blaming-Yourself-For-Your-Parents'-Divorce,-And-How-Our-Parents-Punish-Us-x8Gl_zIC9CQ.mp3-part-158.wav\n"
     ]
    },
    {
     "name": "stderr",
     "output_type": "stream",
     "text": [
      " 95%|█████████▍| 123831/130662 [46:01<01:49, 62.56it/s]"
     ]
    },
    {
     "name": "stdout",
     "output_type": "stream",
     "text": [
      "skipped semisupervised-manglish/output-wav/The-Truth-Behind-Our-Relationship!-Are-We-Really-Sisters-_-The-Thirsty-Sisters-#10-rkwCky94IhQ.mp3-part-178.wav\n",
      "skipped semisupervised-manglish/output-wav/Mamak-Sessions---From-A-Transport-Assistant-to-a-Multi-Award-Winning-Film-Director-r6f3OoHVkgU.mp3-part-358.wav\n"
     ]
    },
    {
     "name": "stderr",
     "output_type": "stream",
     "text": [
      " 95%|█████████▍| 123897/130662 [46:02<01:56, 58.11it/s]"
     ]
    },
    {
     "name": "stdout",
     "output_type": "stream",
     "text": [
      "skipped semisupervised-manglish/output-wav/The-Fashion-Weak-Podcast-Ep-22---Why-Fashion-School-Didn't-Work-Out-For-Zee-Avi-woDYSE37_rI.mp3-part-225.wav\n"
     ]
    },
    {
     "name": "stderr",
     "output_type": "stream",
     "text": [
      " 95%|█████████▍| 123926/130662 [46:03<01:48, 62.25it/s]"
     ]
    },
    {
     "name": "stdout",
     "output_type": "stream",
     "text": [
      "skipped semisupervised-manglish/output-wav/The-Fashion-Weak-Podcast-EP16---Podcast-Wars-With-The-From-The-Thread-Boys-7dPzh9PpLs8.mp3-part-467.wav\n"
     ]
    },
    {
     "name": "stderr",
     "output_type": "stream",
     "text": [
      " 95%|█████████▍| 123948/130662 [46:03<01:40, 66.68it/s]"
     ]
    },
    {
     "name": "stdout",
     "output_type": "stream",
     "text": [
      "skipped semisupervised-manglish/output-wav/Mamak-Sessions-Ep6---Names-People-Always-Mispronounce-&-Facebook-Is-A-Spy-8LuihYdx0FQ.mp3-part-108.wav\n"
     ]
    },
    {
     "name": "stderr",
     "output_type": "stream",
     "text": [
      " 95%|█████████▍| 124013/130662 [46:04<01:42, 64.80it/s]"
     ]
    },
    {
     "name": "stdout",
     "output_type": "stream",
     "text": [
      "skipped semisupervised-manglish/output-wav/Dance-Moves-To-Pick-Up-Girls-At-The-Club-With-Adidas-Creator-Maybelline-Wong-(@definitelyMayb_)-vRnkHzyyBc4.mp3-part-898.wav\n",
      "skipped semisupervised-manglish/output-wav/Exposed!-Our-Favourite-Night-Activity-We-Miss-The-Most!-_-The-Thirsty-Sisters-#5-TxeBIVuXRHM.mp3-part-365.wav\n",
      "skipped semisupervised-manglish/output-wav/Being-Bullied,-Toxic-Masculinity-And-Theatre-_-HTHT---Fauzi-Aziz-6syqXC_o6gs.mp3-part-514.wav\n"
     ]
    },
    {
     "name": "stderr",
     "output_type": "stream",
     "text": [
      " 95%|█████████▍| 124042/130662 [46:05<01:37, 67.57it/s]"
     ]
    },
    {
     "name": "stdout",
     "output_type": "stream",
     "text": [
      "skipped semisupervised-manglish/output-wav/Dream-Internships-You-Wish-You-Had---Xiaomi,-Amazon,-TikTok-_-Hao-Yuan-_-Singaporean-Podcast-#43-YaeQ27BgUN0.mp3-part-109.wav\n"
     ]
    },
    {
     "name": "stderr",
     "output_type": "stream",
     "text": [
      " 95%|█████████▍| 124123/130662 [46:06<01:40, 65.23it/s]"
     ]
    },
    {
     "name": "stdout",
     "output_type": "stream",
     "text": [
      "skipped semisupervised-manglish/output-wav/Mamak-Sessions-Podcast---How-Dean-Lewis-became-who-he-is-today-HkOQy1Nxpis.mp3-part-399.wav\n"
     ]
    },
    {
     "name": "stderr",
     "output_type": "stream",
     "text": [
      " 95%|█████████▌| 124196/130662 [46:08<01:36, 67.17it/s]"
     ]
    },
    {
     "name": "stdout",
     "output_type": "stream",
     "text": [
      "skipped semisupervised-manglish/output-wav/The-Fashion-Weak-Podcast-Ep24---Penang-Boys-@tunway-瘦虎-&-@Shawnduabui-肥龍-Talk-Zap-Fan-&-Sneakers-dykz_vuzJh0.mp3-part-831.wav\n",
      "skipped semisupervised-manglish/output-wav/The-Fashion-Weak-Podcast-Ep-30---On-her-way-to-Supermodel-dom,-ASNTM--Cycle-5-Runner-Up-@shikingomez-otK3Gl_XX4c.mp3-part-41.wav\n",
      "skipped semisupervised-manglish/output-wav/The-Fashion-Weak-Podcast-Ep-28-@dreamrocketeers-on-that-Rolex-you-should-cop-to-flex-on-poor-friends-shV1F1JlDzk.mp3-part-662.wav\n"
     ]
    },
    {
     "name": "stderr",
     "output_type": "stream",
     "text": [
      " 95%|█████████▌| 124240/130662 [46:09<02:22, 45.13it/s]"
     ]
    },
    {
     "name": "stdout",
     "output_type": "stream",
     "text": [
      "skipped semisupervised-manglish/output-wav/Mamak-Sessions---Quitting-The-Medical-Line-To-Make-People-Laugh-ft-Dr.-Jason-Leong-FcD9MpeWqEI.mp3-part-435.wav\n",
      "skipped semisupervised-manglish/output-wav/Conversations-with-a-Young-Singaporean-CEO--Gao-Fei,-CEO-of-LearnSeeker-_-Singaporean-Podcast-#13--b9YHjghfd2E.mp3-part-434.wav\n"
     ]
    },
    {
     "name": "stderr",
     "output_type": "stream",
     "text": [
      " 95%|█████████▌| 124282/130662 [46:09<01:45, 60.61it/s]"
     ]
    },
    {
     "name": "stdout",
     "output_type": "stream",
     "text": [
      "skipped semisupervised-manglish/output-wav/I-Dated-A-Guy-Twice-My-Age-Our-First-Date-Don'ts-_-The-Thirsty-Sisters-#19-3-DoQSmz5aI.mp3-part-90.wav\n"
     ]
    },
    {
     "name": "stderr",
     "output_type": "stream",
     "text": [
      " 95%|█████████▌| 124305/130662 [46:10<01:37, 65.50it/s]"
     ]
    },
    {
     "name": "stdout",
     "output_type": "stream",
     "text": [
      "skipped semisupervised-manglish/output-wav/The-Fashion-Weak-Podcast-Ep-23---Alicia-Amin-On-Being-A-'Malay'-Model-In-2019-3pKA5NvTCOA.mp3-part-315.wav\n",
      "skipped semisupervised-manglish/output-wav/The-Fashion-Weak-Podcast-Ep-40---tdcjTfzYSbk.mp3-part-297.wav\n"
     ]
    },
    {
     "name": "stderr",
     "output_type": "stream",
     "text": [
      " 95%|█████████▌| 124320/130662 [46:10<01:34, 67.31it/s]"
     ]
    },
    {
     "name": "stdout",
     "output_type": "stream",
     "text": [
      "skipped semisupervised-manglish/output-wav/An-Unconventional-Degree-And-Life-as-an-Assistant-Producer-in-SG-Film-&-TV-Industry--_-Xuan-Kai-_-41-OpDeoZzKHBM.mp3-part-152.wav\n"
     ]
    },
    {
     "name": "stderr",
     "output_type": "stream",
     "text": [
      " 95%|█████████▌| 124442/130662 [46:12<01:49, 56.58it/s]"
     ]
    },
    {
     "name": "stdout",
     "output_type": "stream",
     "text": [
      "skipped semisupervised-manglish/output-wav/Mamak-Sessions-Podcast---How-Do-You-Handle-Long-Distance-Relationships-Do-they-WORK-m7mwwtsblIs.mp3-part-63.wav\n"
     ]
    },
    {
     "name": "stderr",
     "output_type": "stream",
     "text": [
      " 95%|█████████▌| 124672/130662 [46:16<01:29, 67.05it/s]"
     ]
    },
    {
     "name": "stdout",
     "output_type": "stream",
     "text": [
      "skipped semisupervised-manglish/output-wav/Mamak-Sessions-Ep6---Names-People-Always-Mispronounce-&-Facebook-Is-A-Spy-8LuihYdx0FQ.mp3-part-200.wav\n"
     ]
    },
    {
     "name": "stderr",
     "output_type": "stream",
     "text": [
      " 95%|█████████▌| 124711/130662 [46:17<01:50, 53.80it/s]"
     ]
    },
    {
     "name": "stdout",
     "output_type": "stream",
     "text": [
      "skipped semisupervised-manglish/output-wav/The-Fashion-Weak-Podcast-EP-41---Investment-Tips-For-Chee-Seng-With-Fuad-&-Shaq-From-Kyoto-Protocol-eWNQhDNoSsY.mp3-part-343.wav\n",
      "skipped semisupervised-manglish/output-wav/The-Fashion-Weak-Podcast-Ep-30---On-her-way-to-Supermodel-dom,-ASNTM--Cycle-5-Runner-Up-@shikingomez-otK3Gl_XX4c.mp3-part-159.wav\n",
      "skipped semisupervised-manglish/output-wav/Burnout-in-the-Media-Industry-+-Passion-in-Theatre--_-Singaporean-Podcast-#16-_-Rennes-Lee-f7qEqPNzGk8.mp3-part-966.wav\n"
     ]
    },
    {
     "name": "stderr",
     "output_type": "stream",
     "text": [
      " 96%|█████████▌| 124786/130662 [46:18<01:23, 70.28it/s]"
     ]
    },
    {
     "name": "stdout",
     "output_type": "stream",
     "text": [
      "skipped semisupervised-manglish/output-wav/Mamak-Sessions---Can-Guys-And-Girls-Be-Best-Friends-Is-it-ok-to-see-more-than-one-person-at-a-time-IixUPM11VMY.mp3-part-425.wav\n",
      "skipped semisupervised-manglish/output-wav/The-Fashion-Weak-Podcast-Ep-21---Suitmaker-To-The-Stars,-Shahrin-Bahar-aka-@sbahar.my-Pkv6d83oe8s.mp3-part-504.wav\n"
     ]
    },
    {
     "name": "stderr",
     "output_type": "stream",
     "text": [
      " 96%|█████████▌| 124852/130662 [46:19<01:41, 57.19it/s]"
     ]
    },
    {
     "name": "stdout",
     "output_type": "stream",
     "text": [
      "skipped semisupervised-manglish/output-wav/@Juanitadr-shows-us-what-Arnold's-Tongue-Can-Do---The-Fashion-Weak-Podcast-Episode-10-N5EfPvQKW90.mp3-part-325.wav\n"
     ]
    },
    {
     "name": "stderr",
     "output_type": "stream",
     "text": [
      " 96%|█████████▌| 124915/130662 [46:20<01:39, 57.50it/s]"
     ]
    },
    {
     "name": "stdout",
     "output_type": "stream",
     "text": [
      "skipped semisupervised-manglish/output-wav/The-Fashion-Weak-Podcast-Ep-15---Underwear-Sneakers-&-Fruits-With-@OhZooey-HDuY9UdkkaE.mp3-part-102.wav\n"
     ]
    },
    {
     "name": "stderr",
     "output_type": "stream",
     "text": [
      " 96%|█████████▌| 125068/130662 [46:23<01:54, 48.81it/s]"
     ]
    },
    {
     "name": "stdout",
     "output_type": "stream",
     "text": [
      "skipped semisupervised-manglish/output-wav/The-Fashion-Weak-Podcast-Ep-28-@dreamrocketeers-on-that-Rolex-you-should-cop-to-flex-on-poor-friends-shV1F1JlDzk.mp3-part-779.wav\n"
     ]
    },
    {
     "name": "stderr",
     "output_type": "stream",
     "text": [
      " 96%|█████████▌| 125090/130662 [46:24<01:38, 56.33it/s]"
     ]
    },
    {
     "name": "stdout",
     "output_type": "stream",
     "text": [
      "skipped semisupervised-manglish/output-wav/Conversations-With-A-Cancer-Survivor-ft-Jared-Lee-L2W4inT6j3c.mp3-part-161.wav\n"
     ]
    },
    {
     "name": "stderr",
     "output_type": "stream",
     "text": [
      " 96%|█████████▌| 125120/130662 [46:24<01:24, 65.41it/s]"
     ]
    },
    {
     "name": "stdout",
     "output_type": "stream",
     "text": [
      "skipped semisupervised-manglish/output-wav/Mamak-Sessions---How-Do-You-Deal-With-Rumors-ft-Elizabeth-Tan-Rkvd5p3I11M.mp3-part-309.wav\n",
      "skipped semisupervised-manglish/output-wav/Mamak-Sessions---Here's-What-You-Should-Know-About-Buying-Properties-ZcVRJSDCof0.mp3-part-425.wav\n"
     ]
    },
    {
     "name": "stderr",
     "output_type": "stream",
     "text": [
      " 96%|█████████▌| 125248/130662 [46:27<01:52, 48.34it/s]"
     ]
    },
    {
     "name": "stdout",
     "output_type": "stream",
     "text": [
      "skipped semisupervised-manglish/output-wav/Playing-Basketball-With-Dr-Jason-Leong---The-Fashion-Weak-Podcast-Episode-4---6K1feeFnKpQ.mp3-part-146.wav\n"
     ]
    },
    {
     "name": "stderr",
     "output_type": "stream",
     "text": [
      " 96%|█████████▌| 125286/130662 [46:27<01:24, 63.69it/s]"
     ]
    },
    {
     "name": "stdout",
     "output_type": "stream",
     "text": [
      "skipped semisupervised-manglish/output-wav/Desperate-times!-CB-Extended-Till-June!-Our-CB-Cannot-Tahan-_-The-Thirsty-Sisters-#2-OZMsLGKDv14.mp3-part-340.wav\n",
      "skipped semisupervised-manglish/output-wav/The-Fashion-Weak-Podcast-Ep-23---Alicia-Amin-On-Being-A-'Malay'-Model-In-2019-3pKA5NvTCOA.mp3-part-6.wav\n"
     ]
    },
    {
     "name": "stderr",
     "output_type": "stream",
     "text": [
      " 96%|█████████▌| 125441/130662 [46:30<01:34, 55.33it/s]"
     ]
    },
    {
     "name": "stdout",
     "output_type": "stream",
     "text": [
      "skipped semisupervised-manglish/output-wav/Burnout-in-the-Media-Industry-+-Passion-in-Theatre--_-Singaporean-Podcast-#16-_-Rennes-Lee-f7qEqPNzGk8.mp3-part-260.wav\n"
     ]
    },
    {
     "name": "stderr",
     "output_type": "stream",
     "text": [
      " 96%|█████████▌| 125456/130662 [46:30<01:26, 60.22it/s]"
     ]
    },
    {
     "name": "stdout",
     "output_type": "stream",
     "text": [
      "skipped semisupervised-manglish/output-wav/The-Fashion-Weak-Podcast-Ep24---Penang-Boys-@tunway-瘦虎-&-@Shawnduabui-肥龍-Talk-Zap-Fan-&-Sneakers-dykz_vuzJh0.mp3-part-387.wav\n"
     ]
    },
    {
     "name": "stderr",
     "output_type": "stream",
     "text": [
      " 96%|█████████▌| 125472/130662 [46:31<01:20, 64.75it/s]"
     ]
    },
    {
     "name": "stdout",
     "output_type": "stream",
     "text": [
      "skipped semisupervised-manglish/output-wav/The-Fashion-Weak-Podcast-Ep-45---Finessing-A-New-Phone-Every-Year-With-Mamak-Rap-King-Jiven-Sekar-VlovwtVYuw0.mp3-part-702.wav\n",
      "skipped semisupervised-manglish/output-wav/The-Fashion-Weak-Podcast-EP14---Faking-it-on-the-gram-and-faking-Gasms-with-Sandra-Woo-(@sandrawooo)--XwvfCTnseI.mp3-part-15.wav\n"
     ]
    },
    {
     "name": "stderr",
     "output_type": "stream",
     "text": [
      " 96%|█████████▌| 125486/130662 [46:31<01:17, 66.83it/s]"
     ]
    },
    {
     "name": "stdout",
     "output_type": "stream",
     "text": [
      "skipped semisupervised-manglish/output-wav/The-Fashion-Weak-Podcast-Ep-23---Alicia-Amin-On-Being-A-'Malay'-Model-In-2019-3pKA5NvTCOA.mp3-part-450.wav\n"
     ]
    },
    {
     "name": "stderr",
     "output_type": "stream",
     "text": [
      " 96%|█████████▌| 125753/130662 [46:36<01:16, 64.29it/s]"
     ]
    },
    {
     "name": "stdout",
     "output_type": "stream",
     "text": [
      "skipped semisupervised-manglish/output-wav/Are-We-Still-Sexualising-Women-in-2020-_-Thirsty-Sisters-#13-zHC1MPeSP34.mp3-part-451.wav\n"
     ]
    },
    {
     "name": "stderr",
     "output_type": "stream",
     "text": [
      " 96%|█████████▋| 125839/130662 [46:37<01:15, 63.70it/s]"
     ]
    },
    {
     "name": "stdout",
     "output_type": "stream",
     "text": [
      "skipped semisupervised-manglish/output-wav/The-Fashion-Weak-Podcast-Ep-28-@dreamrocketeers-on-that-Rolex-you-should-cop-to-flex-on-poor-friends-shV1F1JlDzk.mp3-part-533.wav\n"
     ]
    },
    {
     "name": "stderr",
     "output_type": "stream",
     "text": [
      " 96%|█████████▋| 125881/130662 [46:38<01:31, 52.15it/s]"
     ]
    },
    {
     "name": "stdout",
     "output_type": "stream",
     "text": [
      "skipped semisupervised-manglish/output-wav/Amander-Reveals-Why-She-Left-Titan---The-Team-Titan-Show-7byI9tIJeRk.mp3-part-522.wav\n"
     ]
    },
    {
     "name": "stderr",
     "output_type": "stream",
     "text": [
      " 96%|█████████▋| 125910/130662 [46:39<01:16, 62.04it/s]"
     ]
    },
    {
     "name": "stdout",
     "output_type": "stream",
     "text": [
      "skipped semisupervised-manglish/output-wav/Dance-Moves-To-Pick-Up-Girls-At-The-Club-With-Adidas-Creator-Maybelline-Wong-(@definitelyMayb_)-vRnkHzyyBc4.mp3-part-876.wav\n"
     ]
    },
    {
     "name": "stderr",
     "output_type": "stream",
     "text": [
      " 96%|█████████▋| 125969/130662 [46:40<01:26, 54.45it/s]"
     ]
    },
    {
     "name": "stdout",
     "output_type": "stream",
     "text": [
      "skipped semisupervised-manglish/output-wav/Mamak-Sessions---How-Bryan-Loo-Created-His-Bubble-Tea-Empire-O19y2ZG8Y-k.mp3-part-18.wav\n"
     ]
    },
    {
     "name": "stderr",
     "output_type": "stream",
     "text": [
      " 96%|█████████▋| 126046/130662 [46:41<01:46, 43.23it/s]"
     ]
    },
    {
     "name": "stdout",
     "output_type": "stream",
     "text": [
      "skipped semisupervised-manglish/output-wav/Mamak-Sessions---How-I-Got-Quarantined-Because-Of-Covid-19-Feat.-Mark-O'Dea-5zAsyNKfzps.mp3-part-293.wav\n"
     ]
    },
    {
     "name": "stderr",
     "output_type": "stream",
     "text": [
      " 97%|█████████▋| 126090/130662 [46:42<01:10, 64.91it/s]"
     ]
    },
    {
     "name": "stdout",
     "output_type": "stream",
     "text": [
      "skipped semisupervised-manglish/output-wav/The-Fashion-Weak-Podcast-Ep-40---tdcjTfzYSbk.mp3-part-223.wav\n"
     ]
    },
    {
     "name": "stderr",
     "output_type": "stream",
     "text": [
      " 97%|█████████▋| 126189/130662 [46:44<01:14, 60.27it/s]"
     ]
    },
    {
     "name": "stdout",
     "output_type": "stream",
     "text": [
      "skipped semisupervised-manglish/output-wav/Mamak-Sessions-Ep6---Names-People-Always-Mispronounce-&-Facebook-Is-A-Spy-8LuihYdx0FQ.mp3-part-282.wav\n"
     ]
    },
    {
     "name": "stderr",
     "output_type": "stream",
     "text": [
      " 97%|█████████▋| 126211/130662 [46:44<01:19, 56.13it/s]"
     ]
    },
    {
     "name": "stdout",
     "output_type": "stream",
     "text": [
      "skipped semisupervised-manglish/output-wav/The-Fashion-Weak-Podcast-Ep-15---Underwear-Sneakers-&-Fruits-With-@OhZooey-HDuY9UdkkaE.mp3-part-179.wav\n"
     ]
    },
    {
     "name": "stderr",
     "output_type": "stream",
     "text": [
      " 97%|█████████▋| 126244/130662 [46:45<01:22, 53.30it/s]"
     ]
    },
    {
     "name": "stdout",
     "output_type": "stream",
     "text": [
      "skipped semisupervised-manglish/output-wav/Overcoming-Depression-&-Redefining-What-Failure-Means-to-Youths_-Singaporean-Podcast-#10-_-Kevin-Wee-rjjK4aAbKnw.mp3-part-714.wav\n"
     ]
    },
    {
     "name": "stderr",
     "output_type": "stream",
     "text": [
      " 97%|█████████▋| 126323/130662 [46:46<01:37, 44.38it/s]"
     ]
    },
    {
     "name": "stdout",
     "output_type": "stream",
     "text": [
      "skipped semisupervised-manglish/output-wav/Dance-Moves-To-Pick-Up-Girls-At-The-Club-With-Adidas-Creator-Maybelline-Wong-(@definitelyMayb_)-vRnkHzyyBc4.mp3-part-794.wav\n"
     ]
    },
    {
     "name": "stderr",
     "output_type": "stream",
     "text": [
      " 97%|█████████▋| 126347/130662 [46:47<01:11, 59.97it/s]"
     ]
    },
    {
     "name": "stdout",
     "output_type": "stream",
     "text": [
      "skipped semisupervised-manglish/output-wav/The-Fashion-Weak-Podcast-EP14---Faking-it-on-the-gram-and-faking-Gasms-with-Sandra-Woo-(@sandrawooo)--XwvfCTnseI.mp3-part-119.wav\n"
     ]
    },
    {
     "name": "stderr",
     "output_type": "stream",
     "text": [
      " 97%|█████████▋| 126369/130662 [46:47<01:05, 65.09it/s]"
     ]
    },
    {
     "name": "stdout",
     "output_type": "stream",
     "text": [
      "skipped semisupervised-manglish/output-wav/@Juanitadr-shows-us-what-Arnold's-Tongue-Can-Do---The-Fashion-Weak-Podcast-Episode-10-N5EfPvQKW90.mp3-part-328.wav\n"
     ]
    },
    {
     "name": "stderr",
     "output_type": "stream",
     "text": [
      " 97%|█████████▋| 126391/130662 [46:47<01:05, 64.96it/s]"
     ]
    },
    {
     "name": "stdout",
     "output_type": "stream",
     "text": [
      "skipped semisupervised-manglish/output-wav/Being-Bullied,-Toxic-Masculinity-And-Theatre-_-HTHT---Fauzi-Aziz-6syqXC_o6gs.mp3-part-128.wav\n"
     ]
    },
    {
     "name": "stderr",
     "output_type": "stream",
     "text": [
      " 97%|█████████▋| 126422/130662 [46:48<01:16, 55.74it/s]"
     ]
    },
    {
     "name": "stdout",
     "output_type": "stream",
     "text": [
      "skipped semisupervised-manglish/output-wav/The-Fashion-Weak-Podcast-Ep24---Penang-Boys-@tunway-瘦虎-&-@Shawnduabui-肥龍-Talk-Zap-Fan-&-Sneakers-dykz_vuzJh0.mp3-part-661.wav\n"
     ]
    },
    {
     "name": "stderr",
     "output_type": "stream",
     "text": [
      " 97%|█████████▋| 126508/130662 [46:49<01:16, 54.11it/s]"
     ]
    },
    {
     "name": "stdout",
     "output_type": "stream",
     "text": [
      "skipped semisupervised-manglish/output-wav/Mamak-Sessions-Podcast---How-Do-You-Handle-Long-Distance-Relationships-Do-they-WORK-m7mwwtsblIs.mp3-part-284.wav\n",
      "skipped semisupervised-manglish/output-wav/Mamak-Sessions---How-I-Got-Quarantined-Because-Of-Covid-19-Feat.-Mark-O'Dea-5zAsyNKfzps.mp3-part-318.wav\n"
     ]
    },
    {
     "name": "stderr",
     "output_type": "stream",
     "text": [
      " 97%|█████████▋| 126578/130662 [46:51<00:59, 68.79it/s]"
     ]
    },
    {
     "name": "stdout",
     "output_type": "stream",
     "text": [
      "skipped semisupervised-manglish/output-wav/Is-Mulan-Really-That-Bad-_-IMO-Ep.32-rMpf5j7683M.mp3-part-499.wav\n"
     ]
    },
    {
     "name": "stderr",
     "output_type": "stream",
     "text": [
      " 97%|█████████▋| 126671/130662 [46:52<00:58, 68.18it/s]"
     ]
    },
    {
     "name": "stdout",
     "output_type": "stream",
     "text": [
      "skipped semisupervised-manglish/output-wav/The-Truth-Behind-Our-Relationship!-Are-We-Really-Sisters-_-The-Thirsty-Sisters-#10-rkwCky94IhQ.mp3-part-81.wav\n"
     ]
    },
    {
     "name": "stderr",
     "output_type": "stream",
     "text": [
      " 97%|█████████▋| 126721/130662 [46:53<01:03, 62.24it/s]"
     ]
    },
    {
     "name": "stdout",
     "output_type": "stream",
     "text": [
      "skipped semisupervised-manglish/output-wav/8-Wheels-Vs-4-Wheels-With-Sukeats-From-Wheel-Love---The-Fashion-Weak-Podcast-ep-12-fgaCmnMdZ0c.mp3-part-125.wav\n"
     ]
    },
    {
     "name": "stderr",
     "output_type": "stream",
     "text": [
      " 97%|█████████▋| 126789/130662 [46:54<01:11, 54.42it/s]"
     ]
    },
    {
     "name": "stdout",
     "output_type": "stream",
     "text": [
      "skipped semisupervised-manglish/output-wav/The-Fashion-Weak-Podcast-Ep-29---Valentines-Day-With-Becca-Lee-and-Leonard-Chua-UWm1ESejkzs.mp3-part-357.wav\n"
     ]
    },
    {
     "name": "stderr",
     "output_type": "stream",
     "text": [
      " 97%|█████████▋| 126881/130662 [46:56<01:07, 56.19it/s]"
     ]
    },
    {
     "name": "stdout",
     "output_type": "stream",
     "text": [
      "skipped semisupervised-manglish/output-wav/The-Fashion-Weak-Podcast-Ep-46---Premium-Thirst-Trap-Tips-With-Michelle-Lee-(@mich8lee)-MCHDyLJDJrg.mp3-part-460.wav\n"
     ]
    },
    {
     "name": "stderr",
     "output_type": "stream",
     "text": [
      " 97%|█████████▋| 126904/130662 [46:56<00:57, 64.90it/s]"
     ]
    },
    {
     "name": "stdout",
     "output_type": "stream",
     "text": [
      "skipped semisupervised-manglish/output-wav/The-Fashion-Weak-Podcast-Ep-40---tdcjTfzYSbk.mp3-part-846.wav\n"
     ]
    },
    {
     "name": "stderr",
     "output_type": "stream",
     "text": [
      " 97%|█████████▋| 126988/130662 [46:58<00:58, 63.21it/s]"
     ]
    },
    {
     "name": "stdout",
     "output_type": "stream",
     "text": [
      "skipped semisupervised-manglish/output-wav/Best-Way-to-Get-Women-to-Fall-For-You-Every-Month!-_-The-Thirsty-Sisters-#16-gvPiF-zXur4.mp3-part-1.wav\n"
     ]
    },
    {
     "name": "stderr",
     "output_type": "stream",
     "text": [
      " 97%|█████████▋| 127010/130662 [46:58<00:56, 64.42it/s]"
     ]
    },
    {
     "name": "stdout",
     "output_type": "stream",
     "text": [
      "skipped semisupervised-manglish/output-wav/The-Fashion-Weak-Podcast-EP-25---Don't-Mess-With-@zamaeraaa's-Hello-Kitty-Cup-H4M_ZUDAT3k.mp3-part-581.wav\n"
     ]
    },
    {
     "name": "stderr",
     "output_type": "stream",
     "text": [
      " 97%|█████████▋| 127060/130662 [46:59<01:14, 48.12it/s]"
     ]
    },
    {
     "name": "stdout",
     "output_type": "stream",
     "text": [
      "skipped semisupervised-manglish/output-wav/My-First-Boyfriend-Cheated-On-Me-With-Several-Girls-_-The-Thirsty-Sisters-#9-Y6RYZpbANJI.mp3-part-87.wav\n"
     ]
    },
    {
     "name": "stderr",
     "output_type": "stream",
     "text": [
      " 97%|█████████▋| 127076/130662 [47:00<01:00, 59.12it/s]"
     ]
    },
    {
     "name": "stdout",
     "output_type": "stream",
     "text": [
      "skipped semisupervised-manglish/output-wav/Mamak-Sessions---Should-You-Be-Spending-Crazily-For-Valentine's-Day-QLz7USNFnng.mp3-part-337.wav\n",
      "skipped semisupervised-manglish/output-wav/Mamak-Sessions---Blaming-Yourself-For-Your-Parents'-Divorce,-And-How-Our-Parents-Punish-Us-x8Gl_zIC9CQ.mp3-part-96.wav\n"
     ]
    },
    {
     "name": "stderr",
     "output_type": "stream",
     "text": [
      " 97%|█████████▋| 127134/130662 [47:01<01:18, 44.95it/s]"
     ]
    },
    {
     "name": "stdout",
     "output_type": "stream",
     "text": [
      "skipped semisupervised-manglish/output-wav/Mamak-Sessions-Ep10---Datuk-Nicol-David-is-RETIRING!-n3AR3nQEc7Y.mp3-part-319.wav\n"
     ]
    },
    {
     "name": "stderr",
     "output_type": "stream",
     "text": [
      " 97%|█████████▋| 127211/130662 [47:02<00:55, 62.48it/s]"
     ]
    },
    {
     "name": "stdout",
     "output_type": "stream",
     "text": [
      "skipped semisupervised-manglish/output-wav/Conversations-With-A-Cancer-Survivor-ft-Jared-Lee-L2W4inT6j3c.mp3-part-165.wav\n"
     ]
    },
    {
     "name": "stderr",
     "output_type": "stream",
     "text": [
      " 97%|█████████▋| 127261/130662 [47:03<00:55, 61.72it/s]"
     ]
    },
    {
     "name": "stdout",
     "output_type": "stream",
     "text": [
      "skipped semisupervised-manglish/output-wav/The-Fashion-Weak-Podcast-Ep-45---Finessing-A-New-Phone-Every-Year-With-Mamak-Rap-King-Jiven-Sekar-VlovwtVYuw0.mp3-part-470.wav\n",
      "skipped semisupervised-manglish/output-wav/The-Fashion-Weak-Podcast-Ep-43---Thirst-Trapping-Simps-&-Loving-Your-Body-From-The-Outside-In-6R87P6YD2c4.mp3-part-261.wav\n",
      "skipped semisupervised-manglish/output-wav/The-Fashion-Weak-Podcast-Ep-23---Alicia-Amin-On-Being-A-'Malay'-Model-In-2019-3pKA5NvTCOA.mp3-part-506.wav\n"
     ]
    },
    {
     "name": "stderr",
     "output_type": "stream",
     "text": [
      " 97%|█████████▋| 127289/130662 [47:03<00:53, 62.87it/s]"
     ]
    },
    {
     "name": "stdout",
     "output_type": "stream",
     "text": [
      "skipped semisupervised-manglish/output-wav/Mamak-Sessions-Ep6---Names-People-Always-Mispronounce-&-Facebook-Is-A-Spy-8LuihYdx0FQ.mp3-part-157.wav\n"
     ]
    },
    {
     "name": "stderr",
     "output_type": "stream",
     "text": [
      "\r",
      " 97%|█████████▋| 127296/130662 [47:04<00:53, 63.41it/s]"
     ]
    },
    {
     "name": "stdout",
     "output_type": "stream",
     "text": [
      "skipped semisupervised-manglish/output-wav/My-First-Boyfriend-Cheated-On-Me-With-Several-Girls-_-The-Thirsty-Sisters-#9-Y6RYZpbANJI.mp3-part-157.wav\n"
     ]
    },
    {
     "name": "stderr",
     "output_type": "stream",
     "text": [
      " 97%|█████████▋| 127386/130662 [47:05<00:49, 65.70it/s]"
     ]
    },
    {
     "name": "stdout",
     "output_type": "stream",
     "text": [
      "skipped semisupervised-manglish/output-wav/The-Fashion-Weak-Podcast-EP-41---Investment-Tips-For-Chee-Seng-With-Fuad-&-Shaq-From-Kyoto-Protocol-eWNQhDNoSsY.mp3-part-401.wav\n",
      "skipped semisupervised-manglish/output-wav/Mamak-Sessions-Ep6---Names-People-Always-Mispronounce-&-Facebook-Is-A-Spy-8LuihYdx0FQ.mp3-part-112.wav\n"
     ]
    },
    {
     "name": "stderr",
     "output_type": "stream",
     "text": [
      " 98%|█████████▊| 127423/130662 [47:06<01:00, 53.66it/s]"
     ]
    },
    {
     "name": "stdout",
     "output_type": "stream",
     "text": [
      "skipped semisupervised-manglish/output-wav/Talking-Sneakers-&-Strong-Sperm-With-@bryanbotakchin---The-Fashion-Weak-Podcast-Episode-11-iugevNPFp2Y.mp3-part-418.wav\n",
      "skipped semisupervised-manglish/output-wav/The-Fashion-Weak-Podcast-Ep-32---Getting-Surprised-Reading-Melissa-Campbell's-(@heymelbelle)-IG-DMs-mJuKUwFpDgI.mp3-part-191.wav\n"
     ]
    },
    {
     "name": "stderr",
     "output_type": "stream",
     "text": [
      " 98%|█████████▊| 127438/130662 [47:06<00:53, 60.06it/s]"
     ]
    },
    {
     "name": "stdout",
     "output_type": "stream",
     "text": [
      "skipped semisupervised-manglish/output-wav/Burning-Hot-Fever!-4-Doctors-Tried-To-Save-Me-In-The-Hospital!-_-The-Thirsty-Sisters-#6-Jw7B8efygWI.mp3-part-148.wav\n"
     ]
    },
    {
     "name": "stderr",
     "output_type": "stream",
     "text": [
      " 98%|█████████▊| 127493/130662 [47:07<00:44, 71.22it/s]"
     ]
    },
    {
     "name": "stdout",
     "output_type": "stream",
     "text": [
      "skipped semisupervised-manglish/output-wav/Mamak-Sessions---Getting-Married-in-Vegas,-and-Sugar-Babies-ft.-Dennis-Yin-Cq6Yjwsu63U.mp3-part-33.wav\n"
     ]
    },
    {
     "name": "stderr",
     "output_type": "stream",
     "text": [
      " 98%|█████████▊| 127549/130662 [47:08<00:51, 60.78it/s]"
     ]
    },
    {
     "name": "stdout",
     "output_type": "stream",
     "text": [
      "skipped semisupervised-manglish/output-wav/The-Fashion-Weak-Podcast-Ep35---Is-New-Balance-Cool-Now-Talking-everything-NOT-Nike-with-@adlysyairi-3b0bYe36KNE.mp3-part-595.wav\n",
      "skipped semisupervised-manglish/output-wav/Mamak-Sessions---Airing-Dirty-Laundry-Online-and-Social-Justice-Warriors-FFtFXiIgsyk.mp3-part-136.wav\n"
     ]
    },
    {
     "name": "stderr",
     "output_type": "stream",
     "text": [
      " 98%|█████████▊| 127625/130662 [47:09<00:52, 57.95it/s]"
     ]
    },
    {
     "name": "stdout",
     "output_type": "stream",
     "text": [
      "skipped semisupervised-manglish/output-wav/The-Fashion-Weak-Podcast-Ep-43A---Keeping-Fair-On-The-Fairway-With-Natalia-Ng-CSP1XPZu4YY.mp3-part-77.wav\n"
     ]
    },
    {
     "name": "stderr",
     "output_type": "stream",
     "text": [
      " 98%|█████████▊| 127664/130662 [47:10<00:43, 68.97it/s]"
     ]
    },
    {
     "name": "stdout",
     "output_type": "stream",
     "text": [
      "skipped semisupervised-manglish/output-wav/Mamak-Sessions-Ep6---Names-People-Always-Mispronounce-&-Facebook-Is-A-Spy-8LuihYdx0FQ.mp3-part-121.wav\n",
      "skipped semisupervised-manglish/output-wav/OKLETSGO---Misogyny-And-Cancel-Culture-_-IMO-Ep.21-LsV8tnGSPEQ.mp3-part-353.wav\n"
     ]
    },
    {
     "name": "stderr",
     "output_type": "stream",
     "text": [
      "\r",
      " 98%|█████████▊| 127672/130662 [47:10<00:43, 69.42it/s]"
     ]
    },
    {
     "name": "stdout",
     "output_type": "stream",
     "text": [
      "skipped semisupervised-manglish/output-wav/The-Fashion-Weak-Podcast-Ep24---Penang-Boys-@tunway-瘦虎-&-@Shawnduabui-肥龍-Talk-Zap-Fan-&-Sneakers-dykz_vuzJh0.mp3-part-581.wav\n"
     ]
    },
    {
     "name": "stderr",
     "output_type": "stream",
     "text": [
      " 98%|█████████▊| 127719/130662 [47:11<00:47, 62.26it/s]"
     ]
    },
    {
     "name": "stdout",
     "output_type": "stream",
     "text": [
      "skipped semisupervised-manglish/output-wav/Mamak-Sessions-Ep6---Names-People-Always-Mispronounce-&-Facebook-Is-A-Spy-8LuihYdx0FQ.mp3-part-114.wav\n"
     ]
    },
    {
     "name": "stderr",
     "output_type": "stream",
     "text": [
      " 98%|█████████▊| 127762/130662 [47:12<00:44, 65.57it/s]"
     ]
    },
    {
     "name": "stdout",
     "output_type": "stream",
     "text": [
      "skipped semisupervised-manglish/output-wav/Why-Human-Resources-Matters-+-Life-as-a-Singapore-Solopreneur-_-Lauren-Ong-_-Singaporean-Podcast-#20-YtCn4hNLk7o.mp3-part-9.wav\n",
      "skipped semisupervised-manglish/output-wav/The-Fashion-Weak-Podcast-EP16---Podcast-Wars-With-The-From-The-Thread-Boys-7dPzh9PpLs8.mp3-part-406.wav\n"
     ]
    },
    {
     "name": "stderr",
     "output_type": "stream",
     "text": [
      " 98%|█████████▊| 127840/130662 [47:13<00:46, 60.63it/s]"
     ]
    },
    {
     "name": "stdout",
     "output_type": "stream",
     "text": [
      "skipped semisupervised-manglish/output-wav/How-To-Date-Alpha-Women-_-The-Thirsty-Sisters-#12-6i8PG2cTAUU.mp3-part-150.wav\n"
     ]
    },
    {
     "name": "stderr",
     "output_type": "stream",
     "text": [
      " 98%|█████████▊| 127927/130662 [47:15<00:43, 63.50it/s]"
     ]
    },
    {
     "name": "stdout",
     "output_type": "stream",
     "text": [
      "skipped semisupervised-manglish/output-wav/Mamak-Sessions---Quitting-The-Medical-Line-To-Make-People-Laugh-ft-Dr.-Jason-Leong-FcD9MpeWqEI.mp3-part-294.wav\n"
     ]
    },
    {
     "name": "stderr",
     "output_type": "stream",
     "text": [
      " 98%|█████████▊| 127963/130662 [47:15<00:57, 46.76it/s]"
     ]
    },
    {
     "name": "stdout",
     "output_type": "stream",
     "text": [
      "skipped semisupervised-manglish/output-wav/Grown-Up-Flex-With-YouTube-Superstar-@JinnyBoy---The-Fashion-Weak-Podcast-Episode-9-7wiSVCBFmFc.mp3-part-328.wav\n"
     ]
    },
    {
     "name": "stderr",
     "output_type": "stream",
     "text": [
      " 98%|█████████▊| 128052/130662 [47:17<00:56, 46.02it/s]"
     ]
    },
    {
     "name": "stdout",
     "output_type": "stream",
     "text": [
      "skipped semisupervised-manglish/output-wav/Mamak-Sessions---'Chinese-Whispers'-CXnW4hJDp54.mp3-part-294.wav\n"
     ]
    },
    {
     "name": "stderr",
     "output_type": "stream",
     "text": [
      " 98%|█████████▊| 128103/130662 [47:18<00:41, 61.38it/s]"
     ]
    },
    {
     "name": "stdout",
     "output_type": "stream",
     "text": [
      "skipped semisupervised-manglish/output-wav/The-Fashion-Weak-Podcast-Ep24---Penang-Boys-@tunway-瘦虎-&-@Shawnduabui-肥龍-Talk-Zap-Fan-&-Sneakers-dykz_vuzJh0.mp3-part-622.wav\n"
     ]
    },
    {
     "name": "stderr",
     "output_type": "stream",
     "text": [
      " 98%|█████████▊| 128207/130662 [47:20<00:36, 66.97it/s]"
     ]
    },
    {
     "name": "stdout",
     "output_type": "stream",
     "text": [
      "skipped semisupervised-manglish/output-wav/Mamak-Sessions---Blaming-Yourself-For-Your-Parents'-Divorce,-And-How-Our-Parents-Punish-Us-x8Gl_zIC9CQ.mp3-part-22.wav\n"
     ]
    },
    {
     "name": "stderr",
     "output_type": "stream",
     "text": [
      " 98%|█████████▊| 128242/130662 [47:21<00:41, 57.70it/s]"
     ]
    },
    {
     "name": "stdout",
     "output_type": "stream",
     "text": [
      "skipped semisupervised-manglish/output-wav/The-Fashion-Weak-Podcast-Ep-43---Thirst-Trapping-Simps-&-Loving-Your-Body-From-The-Outside-In-6R87P6YD2c4.mp3-part-455.wav\n"
     ]
    },
    {
     "name": "stderr",
     "output_type": "stream",
     "text": [
      " 98%|█████████▊| 128286/130662 [47:21<00:34, 68.16it/s]"
     ]
    },
    {
     "name": "stdout",
     "output_type": "stream",
     "text": [
      "skipped semisupervised-manglish/output-wav/Mamak-Sessions---How-Bryan-Loo-Created-His-Bubble-Tea-Empire-O19y2ZG8Y-k.mp3-part-214.wav\n"
     ]
    },
    {
     "name": "stderr",
     "output_type": "stream",
     "text": [
      " 98%|█████████▊| 128414/130662 [47:24<00:41, 54.39it/s]"
     ]
    },
    {
     "name": "stdout",
     "output_type": "stream",
     "text": [
      "skipped semisupervised-manglish/output-wav/The-Fashion-Weak-Podcast-Ep-19---Butt-Stuff-&-Actual-Fashion-With-Zane-Gan-jhLgzHQnAHU.mp3-part-231.wav\n"
     ]
    },
    {
     "name": "stderr",
     "output_type": "stream",
     "text": [
      " 98%|█████████▊| 128462/130662 [47:25<00:38, 57.59it/s]"
     ]
    },
    {
     "name": "stdout",
     "output_type": "stream",
     "text": [
      "skipped semisupervised-manglish/output-wav/The-Fashion-Weak-Podcast-Ep-38---TikTok-Royalty-Roshan-Jeet-aka-Roshannnn1-lPnRg9UsP0M.mp3-part-275.wav\n"
     ]
    },
    {
     "name": "stderr",
     "output_type": "stream",
     "text": [
      "\r",
      " 98%|█████████▊| 128470/130662 [47:25<00:35, 62.45it/s]"
     ]
    },
    {
     "name": "stdout",
     "output_type": "stream",
     "text": [
      "skipped semisupervised-manglish/output-wav/The-Fashion-Weak-Podcast-Ep-46---Premium-Thirst-Trap-Tips-With-Michelle-Lee-(@mich8lee)-MCHDyLJDJrg.mp3-part-98.wav\n"
     ]
    },
    {
     "name": "stderr",
     "output_type": "stream",
     "text": [
      " 98%|█████████▊| 128522/130662 [47:26<00:35, 60.83it/s]"
     ]
    },
    {
     "name": "stdout",
     "output_type": "stream",
     "text": [
      "skipped semisupervised-manglish/output-wav/The-Fashion-Weak-Podcast-Ep-18---Putting-The-Deep-In-Deepavali-With-Keren-Bala-lvIbeZ3qgsU.mp3-part-203.wav\n",
      "skipped semisupervised-manglish/output-wav/The-Fashion-Weak-Podcast-Ep-40---tdcjTfzYSbk.mp3-part-4.wav\n"
     ]
    },
    {
     "name": "stderr",
     "output_type": "stream",
     "text": [
      " 98%|█████████▊| 128571/130662 [47:27<00:48, 43.02it/s]"
     ]
    },
    {
     "name": "stdout",
     "output_type": "stream",
     "text": [
      "skipped semisupervised-manglish/output-wav/The-Fashion-Weak-Podcast-Ep-32---Getting-Surprised-Reading-Melissa-Campbell's-(@heymelbelle)-IG-DMs-mJuKUwFpDgI.mp3-part-700.wav\n"
     ]
    },
    {
     "name": "stderr",
     "output_type": "stream",
     "text": [
      " 98%|█████████▊| 128615/130662 [47:27<00:31, 65.49it/s]"
     ]
    },
    {
     "name": "stdout",
     "output_type": "stream",
     "text": [
      "skipped semisupervised-manglish/output-wav/8-Wheels-Vs-4-Wheels-With-Sukeats-From-Wheel-Love---The-Fashion-Weak-Podcast-ep-12-fgaCmnMdZ0c.mp3-part-149.wav\n"
     ]
    },
    {
     "name": "stderr",
     "output_type": "stream",
     "text": [
      " 98%|█████████▊| 128645/130662 [47:28<00:29, 69.33it/s]"
     ]
    },
    {
     "name": "stdout",
     "output_type": "stream",
     "text": [
      "skipped semisupervised-manglish/output-wav/Mamak-Sessions-Ep9---Sibling-Rivalry-ft-Julian-Yee-670FyeJhnps.mp3-part-282.wav\n"
     ]
    },
    {
     "name": "stderr",
     "output_type": "stream",
     "text": [
      " 98%|█████████▊| 128675/130662 [47:29<00:40, 49.67it/s]"
     ]
    },
    {
     "name": "stdout",
     "output_type": "stream",
     "text": [
      "skipped semisupervised-manglish/output-wav/Skin-Care-Routines,-Death,-Life-Purpose-and-More-_-Singaporean-Trio-Podcast-#2-6yW185RJkGw.mp3-part-128.wav\n"
     ]
    },
    {
     "name": "stderr",
     "output_type": "stream",
     "text": [
      " 98%|█████████▊| 128697/130662 [47:29<00:33, 59.53it/s]"
     ]
    },
    {
     "name": "stdout",
     "output_type": "stream",
     "text": [
      "skipped semisupervised-manglish/output-wav/Most-Accurate-Personality-Test!-_-The-Thirsty-Sisters-#17-XLV720mng6w.mp3-part-302.wav\n"
     ]
    },
    {
     "name": "stderr",
     "output_type": "stream",
     "text": [
      " 99%|█████████▊| 128750/130662 [47:30<00:27, 70.63it/s]"
     ]
    },
    {
     "name": "stdout",
     "output_type": "stream",
     "text": [
      "skipped semisupervised-manglish/output-wav/The-Fashion-Weak-Podcast-Ep-32---Getting-Surprised-Reading-Melissa-Campbell's-(@heymelbelle)-IG-DMs-mJuKUwFpDgI.mp3-part-598.wav\n",
      "skipped semisupervised-manglish/output-wav/Mamak-Sessions---Investigative-Journalism-Brings-Justice-to-Sexual-Crimes-&-Interviewing-Jon-Favreau-RlejfOWnKgQ.mp3-part-84.wav\n"
     ]
    },
    {
     "name": "stderr",
     "output_type": "stream",
     "text": [
      " 99%|█████████▊| 128787/130662 [47:30<00:33, 56.30it/s]"
     ]
    },
    {
     "name": "stdout",
     "output_type": "stream",
     "text": [
      "skipped semisupervised-manglish/output-wav/The-Fashion-Weak-Podcast-Ep-31----Possibly-Our-Most-NSFW-Episode-Yet-With-@vikarworld-xMm23vU8_og.mp3-part-246.wav\n"
     ]
    },
    {
     "name": "stderr",
     "output_type": "stream",
     "text": [
      " 99%|█████████▊| 128809/130662 [47:31<00:29, 62.46it/s]"
     ]
    },
    {
     "name": "stdout",
     "output_type": "stream",
     "text": [
      "skipped semisupervised-manglish/output-wav/The-Fashion-Weak-Podcast-Ep-29---Valentines-Day-With-Becca-Lee-and-Leonard-Chua-UWm1ESejkzs.mp3-part-578.wav\n"
     ]
    },
    {
     "name": "stderr",
     "output_type": "stream",
     "text": [
      " 99%|█████████▊| 128889/130662 [47:32<00:28, 61.50it/s]"
     ]
    },
    {
     "name": "stdout",
     "output_type": "stream",
     "text": [
      "skipped semisupervised-manglish/output-wav/Mamak-Sessions-Ep8---Man-Sues-Colleague-for-$1.8-Million-for-Farting-OWbPqC2i71c.mp3-part-250.wav\n"
     ]
    },
    {
     "name": "stderr",
     "output_type": "stream",
     "text": [
      " 99%|█████████▊| 128904/130662 [47:33<00:25, 67.67it/s]"
     ]
    },
    {
     "name": "stdout",
     "output_type": "stream",
     "text": [
      "skipped semisupervised-manglish/output-wav/Mamak-Sessions---Can-Guys-And-Girls-Be-Best-Friends-Is-it-ok-to-see-more-than-one-person-at-a-time-IixUPM11VMY.mp3-part-409.wav\n"
     ]
    },
    {
     "name": "stderr",
     "output_type": "stream",
     "text": [
      " 99%|█████████▊| 128967/130662 [47:34<00:28, 58.57it/s]"
     ]
    },
    {
     "name": "stdout",
     "output_type": "stream",
     "text": [
      "skipped semisupervised-manglish/output-wav/Mamak-Sessions---We-May-Not-Always-End-Up-Doing-What-We-Thought-We-Would..And-That's-Not-A-Bad-Thing-IAeN0jG9Hwc.mp3-part-329.wav\n"
     ]
    },
    {
     "name": "stderr",
     "output_type": "stream",
     "text": [
      " 99%|█████████▊| 128997/130662 [47:34<00:25, 65.91it/s]"
     ]
    },
    {
     "name": "stdout",
     "output_type": "stream",
     "text": [
      "skipped semisupervised-manglish/output-wav/Mamak-Sessions---From-A-Transport-Assistant-to-a-Multi-Award-Winning-Film-Director-r6f3OoHVkgU.mp3-part-234.wav\n"
     ]
    },
    {
     "name": "stderr",
     "output_type": "stream",
     "text": [
      " 99%|█████████▉| 129046/130662 [47:35<00:31, 51.70it/s]"
     ]
    },
    {
     "name": "stdout",
     "output_type": "stream",
     "text": [
      "skipped semisupervised-manglish/output-wav/Butts-and-D_ck-Pics,-MILF-Hunting-Part-2-With-Nor-Soraya---The-Fashion-Weak-Podcast-Episode-5-NCiDUw4mQgE.mp3-part-38.wav\n"
     ]
    },
    {
     "name": "stderr",
     "output_type": "stream",
     "text": [
      " 99%|█████████▉| 129082/130662 [47:36<00:27, 56.99it/s]"
     ]
    },
    {
     "name": "stdout",
     "output_type": "stream",
     "text": [
      "skipped semisupervised-manglish/output-wav/Mamak-Sessions---Are-We-Safe-From-The-Wuhan-Virus-and-Are-Spiritual-Healers-Scammers-skGDf57Q9xs.mp3-part-175.wav\n",
      "skipped semisupervised-manglish/output-wav/Community-Service,-Entrepreneurial-Ventures-&-Being-a-Father-_-Singaporean-Podcast-#14-_-Andy-Ang-v-RunsFvf8o.mp3-part-82.wav\n"
     ]
    },
    {
     "name": "stderr",
     "output_type": "stream",
     "text": [
      " 99%|█████████▉| 129120/130662 [47:37<00:33, 45.65it/s]"
     ]
    },
    {
     "name": "stdout",
     "output_type": "stream",
     "text": [
      "skipped semisupervised-manglish/output-wav/How-To-Get-Away-With-A-Sex-Crime!-_-The-Thirsty-Sisters-#15-mIc0MmSoaiI.mp3-part-329.wav\n"
     ]
    },
    {
     "name": "stderr",
     "output_type": "stream",
     "text": [
      " 99%|█████████▉| 129142/130662 [47:37<00:25, 59.99it/s]"
     ]
    },
    {
     "name": "stdout",
     "output_type": "stream",
     "text": [
      "skipped semisupervised-manglish/output-wav/8-Wheels-Vs-4-Wheels-With-Sukeats-From-Wheel-Love---The-Fashion-Weak-Podcast-ep-12-fgaCmnMdZ0c.mp3-part-231.wav\n",
      "skipped semisupervised-manglish/output-wav/Dance-Moves-To-Pick-Up-Girls-At-The-Club-With-Adidas-Creator-Maybelline-Wong-(@definitelyMayb_)-vRnkHzyyBc4.mp3-part-291.wav\n",
      "skipped semisupervised-manglish/output-wav/Mamak-Sessions-Podcast---Is-it-ok-to-move-in-with-your-Partner-before-MARRIAGE-nGnyZ5c00Mo.mp3-part-28.wav\n",
      "skipped semisupervised-manglish/output-wav/Mamak-Sessions-Ep6---Names-People-Always-Mispronounce-&-Facebook-Is-A-Spy-8LuihYdx0FQ.mp3-part-239.wav\n"
     ]
    },
    {
     "name": "stderr",
     "output_type": "stream",
     "text": [
      " 99%|█████████▉| 129255/130662 [47:39<00:22, 61.56it/s]"
     ]
    },
    {
     "name": "stdout",
     "output_type": "stream",
     "text": [
      "skipped semisupervised-manglish/output-wav/The-Fashion-Weak-Podcast-Ep-32---Getting-Surprised-Reading-Melissa-Campbell's-(@heymelbelle)-IG-DMs-mJuKUwFpDgI.mp3-part-827.wav\n"
     ]
    },
    {
     "name": "stderr",
     "output_type": "stream",
     "text": [
      " 99%|█████████▉| 129410/130662 [47:42<00:20, 60.36it/s]"
     ]
    },
    {
     "name": "stdout",
     "output_type": "stream",
     "text": [
      "skipped semisupervised-manglish/output-wav/Musings-of-the-OG-Sneaker-Uncle-@bungactiongirl---The-Fashion-Weak-Podcast-Episode-3-EjzkQeWKwQw.mp3-part-90.wav\n"
     ]
    },
    {
     "name": "stderr",
     "output_type": "stream",
     "text": [
      " 99%|█████████▉| 129461/130662 [47:43<00:18, 66.16it/s]"
     ]
    },
    {
     "name": "stdout",
     "output_type": "stream",
     "text": [
      "skipped semisupervised-manglish/output-wav/Mamak-Sessions---Do-You-Check-Your-Partner's-Text-Messages-Featuring-Lizz-Chloe-WJkSAHvYyqk.mp3-part-347.wav\n"
     ]
    },
    {
     "name": "stderr",
     "output_type": "stream",
     "text": [
      " 99%|█████████▉| 129485/130662 [47:43<00:22, 52.66it/s]"
     ]
    },
    {
     "name": "stdout",
     "output_type": "stream",
     "text": [
      "skipped semisupervised-manglish/output-wav/Best-Way-to-Get-Women-to-Fall-For-You-Every-Month!-_-The-Thirsty-Sisters-#16-gvPiF-zXur4.mp3-part-9.wav\n"
     ]
    },
    {
     "name": "stderr",
     "output_type": "stream",
     "text": [
      " 99%|█████████▉| 129521/130662 [47:44<00:18, 62.80it/s]"
     ]
    },
    {
     "name": "stdout",
     "output_type": "stream",
     "text": [
      "skipped semisupervised-manglish/output-wav/Being-Bullied,-Toxic-Masculinity-And-Theatre-_-HTHT---Fauzi-Aziz-6syqXC_o6gs.mp3-part-27.wav\n"
     ]
    },
    {
     "name": "stderr",
     "output_type": "stream",
     "text": [
      " 99%|█████████▉| 129550/130662 [47:44<00:16, 66.55it/s]"
     ]
    },
    {
     "name": "stdout",
     "output_type": "stream",
     "text": [
      "skipped semisupervised-manglish/output-wav/The-Fashion-Weak-Podcast-Ep35---Is-New-Balance-Cool-Now-Talking-everything-NOT-Nike-with-@adlysyairi-3b0bYe36KNE.mp3-part-182.wav\n",
      "skipped semisupervised-manglish/output-wav/Mamak-Sessions---How-Do-You-Deal-With-Rumors-ft-Elizabeth-Tan-Rkvd5p3I11M.mp3-part-410.wav\n"
     ]
    },
    {
     "name": "stderr",
     "output_type": "stream",
     "text": [
      " 99%|█████████▉| 129594/130662 [47:45<00:18, 57.77it/s]"
     ]
    },
    {
     "name": "stdout",
     "output_type": "stream",
     "text": [
      "skipped semisupervised-manglish/output-wav/Mamak-Sessions-Ep6---Names-People-Always-Mispronounce-&-Facebook-Is-A-Spy-8LuihYdx0FQ.mp3-part-135.wav\n"
     ]
    },
    {
     "name": "stderr",
     "output_type": "stream",
     "text": [
      " 99%|█████████▉| 129633/130662 [47:46<00:15, 66.46it/s]"
     ]
    },
    {
     "name": "stdout",
     "output_type": "stream",
     "text": [
      "skipped semisupervised-manglish/output-wav/Mamak-Sessions-Ep6---Names-People-Always-Mispronounce-&-Facebook-Is-A-Spy-8LuihYdx0FQ.mp3-part-96.wav\n"
     ]
    },
    {
     "name": "stderr",
     "output_type": "stream",
     "text": [
      " 99%|█████████▉| 129647/130662 [47:46<00:16, 63.09it/s]"
     ]
    },
    {
     "name": "stdout",
     "output_type": "stream",
     "text": [
      "skipped semisupervised-manglish/output-wav/Mamak-Sessions---Should-You-Be-Spending-Crazily-For-Valentine's-Day-QLz7USNFnng.mp3-part-247.wav\n"
     ]
    },
    {
     "name": "stderr",
     "output_type": "stream",
     "text": [
      " 99%|█████████▉| 129676/130662 [47:47<00:18, 54.51it/s]"
     ]
    },
    {
     "name": "stdout",
     "output_type": "stream",
     "text": [
      "skipped semisupervised-manglish/output-wav/The-Fashion-Weak-Podcast-Ep-39---Talking-Turn-On's-and-Fashion-Bulk-Buy-Deals-With-Tata-Wanqian-WSVo-qvu1GQ.mp3-part-269.wav\n"
     ]
    },
    {
     "name": "stderr",
     "output_type": "stream",
     "text": [
      " 99%|█████████▉| 129735/130662 [47:47<00:13, 68.59it/s]"
     ]
    },
    {
     "name": "stdout",
     "output_type": "stream",
     "text": [
      "skipped semisupervised-manglish/output-wav/The-Fashion-Weak-Podcast-Ep-28-@dreamrocketeers-on-that-Rolex-you-should-cop-to-flex-on-poor-friends-shV1F1JlDzk.mp3-part-483.wav\n"
     ]
    },
    {
     "name": "stderr",
     "output_type": "stream",
     "text": [
      " 99%|█████████▉| 129808/130662 [47:49<00:13, 64.33it/s]"
     ]
    },
    {
     "name": "stdout",
     "output_type": "stream",
     "text": [
      "skipped semisupervised-manglish/output-wav/The-Fashion-Weak-Podcast-Ep-43---Thirst-Trapping-Simps-&-Loving-Your-Body-From-The-Outside-In-6R87P6YD2c4.mp3-part-432.wav\n",
      "skipped semisupervised-manglish/output-wav/Why-Enneagram-Will-Change-Your-Perspective-On-ALL-Relationships-Forever-_-Cindy-Leong-_-SG-Podcast-cSxV6oacgaE.mp3-part-22.wav\n",
      "skipped semisupervised-manglish/output-wav/Mamak-Sessions-Ep9---Sibling-Rivalry-ft-Julian-Yee-670FyeJhnps.mp3-part-338.wav\n"
     ]
    },
    {
     "name": "stderr",
     "output_type": "stream",
     "text": [
      " 99%|█████████▉| 129907/130662 [47:51<00:11, 65.54it/s]"
     ]
    },
    {
     "name": "stdout",
     "output_type": "stream",
     "text": [
      "skipped semisupervised-manglish/output-wav/The-Fashion-Weak-Podcast-Ep-26---Chinese-New-Year-with-Stand-Up-Comedian-_-Fashionista-Kuah-Jenhan-Yv7uONh96tc.mp3-part-475.wav\n",
      "skipped semisupervised-manglish/output-wav/The-Fashion-Weak-Podcast-Ep35---Is-New-Balance-Cool-Now-Talking-everything-NOT-Nike-with-@adlysyairi-3b0bYe36KNE.mp3-part-257.wav\n"
     ]
    },
    {
     "name": "stderr",
     "output_type": "stream",
     "text": [
      " 99%|█████████▉| 129922/130662 [47:51<00:11, 66.49it/s]"
     ]
    },
    {
     "name": "stdout",
     "output_type": "stream",
     "text": [
      "skipped semisupervised-manglish/output-wav/Dance-Moves-To-Pick-Up-Girls-At-The-Club-With-Adidas-Creator-Maybelline-Wong-(@definitelyMayb_)-vRnkHzyyBc4.mp3-part-269.wav\n"
     ]
    },
    {
     "name": "stderr",
     "output_type": "stream",
     "text": [
      " 99%|█████████▉| 129999/130662 [47:52<00:10, 62.01it/s]"
     ]
    },
    {
     "name": "stdout",
     "output_type": "stream",
     "text": [
      "skipped semisupervised-manglish/output-wav/The-Fashion-Weak-Podcast-Ep24---Penang-Boys-@tunway-瘦虎-&-@Shawnduabui-肥龍-Talk-Zap-Fan-&-Sneakers-dykz_vuzJh0.mp3-part-839.wav\n"
     ]
    },
    {
     "name": "stderr",
     "output_type": "stream",
     "text": [
      "100%|█████████▉| 130043/130662 [47:53<00:09, 68.61it/s]"
     ]
    },
    {
     "name": "stdout",
     "output_type": "stream",
     "text": [
      "skipped semisupervised-manglish/output-wav/The-Fashion-Weak-Podcast-Ep-43---Thirst-Trapping-Simps-&-Loving-Your-Body-From-The-Outside-In-6R87P6YD2c4.mp3-part-314.wav\n"
     ]
    },
    {
     "name": "stderr",
     "output_type": "stream",
     "text": [
      "100%|█████████▉| 130058/130662 [47:53<00:08, 68.85it/s]"
     ]
    },
    {
     "name": "stdout",
     "output_type": "stream",
     "text": [
      "skipped semisupervised-manglish/output-wav/We-Try-Online-Dating-And-Fall-In-Love-With-Strangers-_-The-Thirsty-Sisters-#25-WnipnOcDkx8.mp3-part-13.wav\n"
     ]
    },
    {
     "name": "stderr",
     "output_type": "stream",
     "text": [
      "100%|█████████▉| 130079/130662 [47:54<00:12, 46.15it/s]"
     ]
    },
    {
     "name": "stdout",
     "output_type": "stream",
     "text": [
      "skipped semisupervised-manglish/output-wav/Why-Random-Hobbies-Can-Make-You-More-Productive-In-Life-_-Informal-Convos.-with-Xin-Yee-and-Leonard-JyAEITJk1AI.mp3-part-62.wav\n",
      "skipped semisupervised-manglish/output-wav/Mamak-Sessions-Ep6---Names-People-Always-Mispronounce-&-Facebook-Is-A-Spy-8LuihYdx0FQ.mp3-part-7.wav\n"
     ]
    },
    {
     "name": "stderr",
     "output_type": "stream",
     "text": [
      "100%|█████████▉| 130094/130662 [47:54<00:09, 57.10it/s]"
     ]
    },
    {
     "name": "stdout",
     "output_type": "stream",
     "text": [
      "skipped semisupervised-manglish/output-wav/The-Fashion-Weak-Podcast-EP16---Podcast-Wars-With-The-From-The-Thread-Boys-7dPzh9PpLs8.mp3-part-365.wav\n",
      "skipped semisupervised-manglish/output-wav/The-Fashion-Weak-Podcast-Ep-21---Suitmaker-To-The-Stars,-Shahrin-Bahar-aka-@sbahar.my-Pkv6d83oe8s.mp3-part-339.wav\n"
     ]
    },
    {
     "name": "stderr",
     "output_type": "stream",
     "text": [
      "100%|█████████▉| 130182/130662 [47:56<00:09, 52.21it/s]"
     ]
    },
    {
     "name": "stdout",
     "output_type": "stream",
     "text": [
      "skipped semisupervised-manglish/output-wav/Mamak-Sessions-Ep10---Datuk-Nicol-David-is-RETIRING!-n3AR3nQEc7Y.mp3-part-306.wav\n",
      "skipped semisupervised-manglish/output-wav/The-Fashion-Weak-Podcast-Ep-40---tdcjTfzYSbk.mp3-part-469.wav\n"
     ]
    },
    {
     "name": "stderr",
     "output_type": "stream",
     "text": [
      "100%|█████████▉| 130219/130662 [47:56<00:06, 64.72it/s]"
     ]
    },
    {
     "name": "stdout",
     "output_type": "stream",
     "text": [
      "skipped semisupervised-manglish/output-wav/Why-Human-Resources-Matters-+-Life-as-a-Singapore-Solopreneur-_-Lauren-Ong-_-Singaporean-Podcast-#20-YtCn4hNLk7o.mp3-part-376.wav\n"
     ]
    },
    {
     "name": "stderr",
     "output_type": "stream",
     "text": [
      "100%|█████████▉| 130294/130662 [47:58<00:06, 56.18it/s]"
     ]
    },
    {
     "name": "stdout",
     "output_type": "stream",
     "text": [
      "skipped semisupervised-manglish/output-wav/The-Fashion-Weak-Podcast-Ep-40---tdcjTfzYSbk.mp3-part-1061.wav\n"
     ]
    },
    {
     "name": "stderr",
     "output_type": "stream",
     "text": [
      "100%|█████████▉| 130391/130662 [47:59<00:04, 61.77it/s]"
     ]
    },
    {
     "name": "stdout",
     "output_type": "stream",
     "text": [
      "skipped semisupervised-manglish/output-wav/The-Fashion-Weak-Podcast-Ep-43---Thirst-Trapping-Simps-&-Loving-Your-Body-From-The-Outside-In-6R87P6YD2c4.mp3-part-98.wav\n"
     ]
    },
    {
     "name": "stderr",
     "output_type": "stream",
     "text": [
      "100%|█████████▉| 130426/130662 [48:00<00:03, 62.69it/s]"
     ]
    },
    {
     "name": "stdout",
     "output_type": "stream",
     "text": [
      "skipped semisupervised-manglish/output-wav/Mamak-Sessions-Podcast---Girl-Gets-Caned-For-Calling-her-Teacher-'AH-GUA'-PRN5UrsDF6w.mp3-part-140.wav\n"
     ]
    },
    {
     "name": "stderr",
     "output_type": "stream",
     "text": [
      "100%|█████████▉| 130476/130662 [48:01<00:03, 60.58it/s]"
     ]
    },
    {
     "name": "stdout",
     "output_type": "stream",
     "text": [
      "skipped semisupervised-manglish/output-wav/The-Fashion-Weak-Podcast-Ep-19---Butt-Stuff-&-Actual-Fashion-With-Zane-Gan-jhLgzHQnAHU.mp3-part-256.wav\n"
     ]
    },
    {
     "name": "stderr",
     "output_type": "stream",
     "text": [
      "100%|█████████▉| 130519/130662 [48:02<00:02, 63.31it/s]"
     ]
    },
    {
     "name": "stdout",
     "output_type": "stream",
     "text": [
      "skipped semisupervised-manglish/output-wav/Mamak-Sessions-Podcast---How-Do-You-Handle-Long-Distance-Relationships-Do-they-WORK-m7mwwtsblIs.mp3-part-5.wav\n"
     ]
    },
    {
     "name": "stderr",
     "output_type": "stream",
     "text": [
      "100%|█████████▉| 130575/130662 [48:03<00:01, 60.61it/s]"
     ]
    },
    {
     "name": "stdout",
     "output_type": "stream",
     "text": [
      "skipped semisupervised-manglish/output-wav/Mamak-Sessions-Ep10---Datuk-Nicol-David-is-RETIRING!-n3AR3nQEc7Y.mp3-part-55.wav\n"
     ]
    },
    {
     "name": "stderr",
     "output_type": "stream",
     "text": [
      "100%|██████████| 130662/130662 [48:04<00:00, 45.30it/s]"
     ]
    },
    {
     "name": "stdout",
     "output_type": "stream",
     "text": [
      "WARNING:tensorflow:From /home/husein/.local/lib/python3.6/site-packages/malaya_speech/train/prepare_data.py:218: The name tf.gfile.Rename is deprecated. Please use tf.io.gfile.rename instead.\n",
      "\n",
      "INFO:tensorflow:Generated 128924 Examples\n",
      "INFO:tensorflow:Shuffling data...\n",
      "WARNING:tensorflow:From /home/husein/.local/lib/python3.6/site-packages/malaya_speech/train/prepare_data.py:26: tf_record_iterator (from tensorflow.python.lib.io.tf_record) is deprecated and will be removed in a future version.\n",
      "Instructions for updating:\n",
      "Use eager execution and: \n",
      "`tf.data.TFRecordDataset(path)`\n"
     ]
    },
    {
     "name": "stderr",
     "output_type": "stream",
     "text": [
      "\n"
     ]
    },
    {
     "name": "stdout",
     "output_type": "stream",
     "text": [
      "WARNING:tensorflow:From /home/husein/.local/lib/python3.6/site-packages/malaya_speech/train/prepare_data.py:57: The name tf.gfile.Remove is deprecated. Please use tf.io.gfile.remove instead.\n",
      "\n",
      "INFO:tensorflow:Data shuffled.\n"
     ]
    }
   ],
   "source": [
    "train.prepare_dataset(generator, DATA_DIR, shards, prefix = 'bahasa-asr')"
   ]
  },
  {
   "cell_type": "code",
   "execution_count": null,
   "metadata": {},
   "outputs": [],
   "source": []
  }
 ],
 "metadata": {
  "kernelspec": {
   "display_name": "Python 3",
   "language": "python",
   "name": "python3"
  },
  "language_info": {
   "codemirror_mode": {
    "name": "ipython",
    "version": 3
   },
   "file_extension": ".py",
   "mimetype": "text/x-python",
   "name": "python",
   "nbconvert_exporter": "python",
   "pygments_lexer": "ipython3",
   "version": "3.6.8"
  }
 },
 "nbformat": 4,
 "nbformat_minor": 2
}

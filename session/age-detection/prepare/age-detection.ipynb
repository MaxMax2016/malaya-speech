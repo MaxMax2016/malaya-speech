{
 "cells": [
  {
   "cell_type": "code",
   "execution_count": 3,
   "metadata": {},
   "outputs": [
    {
     "data": {
      "text/plain": [
       "{'divide': 'warn', 'over': 'warn', 'under': 'ignore', 'invalid': 'warn'}"
      ]
     },
     "execution_count": 3,
     "metadata": {},
     "output_type": "execute_result"
    }
   ],
   "source": [
    "from glob import glob\n",
    "import pandas as pd\n",
    "import os\n",
    "import IPython.display as ipd\n",
    "import numpy as np\n",
    "import random\n",
    "import librosa\n",
    "\n",
    "np.seterr(all='raise')"
   ]
  },
  {
   "cell_type": "code",
   "execution_count": 5,
   "metadata": {},
   "outputs": [
    {
     "data": {
      "text/plain": [
       "54"
      ]
     },
     "execution_count": 5,
     "metadata": {},
     "output_type": "execute_result"
    }
   ],
   "source": [
    "csvs = glob('cv-corpus-5.1-2020-06-22/*/validated.tsv')\n",
    "len(csvs)"
   ]
  },
  {
   "cell_type": "code",
   "execution_count": 6,
   "metadata": {},
   "outputs": [
    {
     "data": {
      "text/plain": [
       "('cv-corpus-5.1-2020-06-22/ia', 'validated.tsv')"
      ]
     },
     "execution_count": 6,
     "metadata": {},
     "output_type": "execute_result"
    }
   ],
   "source": [
    "os.path.split(csvs[0])"
   ]
  },
  {
   "cell_type": "code",
   "execution_count": 7,
   "metadata": {},
   "outputs": [],
   "source": [
    "# ipd.Audio('cv-corpus-5.1-2020-06-22/ia/clips/common_voice_ia_20911553.mp3')"
   ]
  },
  {
   "cell_type": "code",
   "execution_count": 8,
   "metadata": {},
   "outputs": [
    {
     "name": "stderr",
     "output_type": "stream",
     "text": [
      " 24%|██▍       | 13/54 [00:05<00:27,  1.50it/s]/usr/local/lib/python3.6/dist-packages/IPython/core/interactiveshell.py:3072: DtypeWarning: Columns (7) have mixed types.Specify dtype option on import or set low_memory=False.\n",
      "  interactivity=interactivity, compiler=compiler, result=result)\n",
      " 37%|███▋      | 20/54 [00:07<00:14,  2.38it/s]/usr/local/lib/python3.6/dist-packages/IPython/core/interactiveshell.py:3072: DtypeWarning: Columns (9) have mixed types.Specify dtype option on import or set low_memory=False.\n",
      "  interactivity=interactivity, compiler=compiler, result=result)\n",
      " 85%|████████▌ | 46/54 [00:12<00:02,  2.78it/s]/usr/local/lib/python3.6/dist-packages/IPython/core/interactiveshell.py:3072: DtypeWarning: Columns (7,9) have mixed types.Specify dtype option on import or set low_memory=False.\n",
      "  interactivity=interactivity, compiler=compiler, result=result)\n",
      "100%|██████████| 54/54 [00:13<00:00,  4.09it/s]\n"
     ]
    }
   ],
   "source": [
    "from tqdm import tqdm\n",
    "\n",
    "dfs = []\n",
    "for csv in tqdm(csvs):\n",
    "    df = pd.read_csv(csv, sep = '\\t')\n",
    "    df = df[df['age'].notnull()]\n",
    "    df['directory'] = os.path.split(csv)[0]\n",
    "    dfs.append(df)"
   ]
  },
  {
   "cell_type": "code",
   "execution_count": 9,
   "metadata": {},
   "outputs": [],
   "source": [
    "concatenated = pd.concat(dfs, axis = 0)"
   ]
  },
  {
   "cell_type": "code",
   "execution_count": 10,
   "metadata": {},
   "outputs": [
    {
     "data": {
      "text/plain": [
       "twenties     1084004\n",
       "thirties      819119\n",
       "fourties      483789\n",
       "fifties       423168\n",
       "teens         203062\n",
       "sixties       187565\n",
       "seventies      19490\n",
       "eighties        4883\n",
       "nineties        1717\n",
       "Name: age, dtype: int64"
      ]
     },
     "execution_count": 10,
     "metadata": {},
     "output_type": "execute_result"
    }
   ],
   "source": [
    "concatenated['age'].value_counts()"
   ]
  },
  {
   "cell_type": "code",
   "execution_count": 11,
   "metadata": {},
   "outputs": [],
   "source": [
    "actual_labels = [\n",
    "    'teens',\n",
    "    'twenties',\n",
    "    'thirties',\n",
    "    'fourties',\n",
    "    'fifties',\n",
    "    'sixties',\n",
    "    'seventies',\n",
    "    'eighties',\n",
    "    'nineties',\n",
    "    'not an age',\n",
    "]"
   ]
  },
  {
   "cell_type": "code",
   "execution_count": 12,
   "metadata": {},
   "outputs": [],
   "source": [
    "from scipy.special import expit\n",
    "\n",
    "def sox_reverb(\n",
    "    y, reverberance = 1, hf_damping = 1, room_scale = 1, stereo_depth = 1\n",
    "):\n",
    "    from pysndfx import AudioEffectsChain\n",
    "\n",
    "    apply_audio_effects = AudioEffectsChain().reverb(\n",
    "        reverberance = reverberance,\n",
    "        hf_damping = hf_damping,\n",
    "        room_scale = room_scale,\n",
    "        stereo_depth = stereo_depth,\n",
    "        pre_delay = 20,\n",
    "        wet_gain = 0,\n",
    "        wet_only = False,\n",
    "    )\n",
    "    y_enhanced = apply_audio_effects(y)\n",
    "\n",
    "    return y_enhanced\n",
    "\n",
    "\n",
    "def sox_augment_low(\n",
    "    y,\n",
    "    min_bass_gain = 5,\n",
    "    reverberance = 1,\n",
    "    hf_damping = 1,\n",
    "    room_scale = 1,\n",
    "    stereo_depth = 1,\n",
    "    negate = 1,\n",
    "):\n",
    "    from pysndfx import AudioEffectsChain\n",
    "\n",
    "    if negate:\n",
    "        min_bass_gain = -min_bass_gain\n",
    "    apply_audio_effects = (\n",
    "        AudioEffectsChain()\n",
    "        .lowshelf(gain = min_bass_gain, frequency = 300, slope = 0.1)\n",
    "        .reverb(\n",
    "            reverberance = reverberance,\n",
    "            hf_damping = hf_damping,\n",
    "            room_scale = room_scale,\n",
    "            stereo_depth = stereo_depth,\n",
    "            pre_delay = 20,\n",
    "            wet_gain = 0,\n",
    "            wet_only = False,\n",
    "        )\n",
    "    )\n",
    "    y_enhanced = apply_audio_effects(y)\n",
    "\n",
    "    return y_enhanced\n",
    "\n",
    "\n",
    "def sox_augment_high(\n",
    "    y,\n",
    "    min_bass_gain = 5,\n",
    "    reverberance = 1,\n",
    "    hf_damping = 1,\n",
    "    room_scale = 1,\n",
    "    stereo_depth = 1,\n",
    "    negate = 1,\n",
    "):\n",
    "    from pysndfx import AudioEffectsChain\n",
    "\n",
    "    if negate:\n",
    "        min_bass_gain = -min_bass_gain\n",
    "\n",
    "    apply_audio_effects = (\n",
    "        AudioEffectsChain()\n",
    "        .highshelf(\n",
    "            gain = -min_bass_gain * (1 - expit(np.max(y))),\n",
    "            frequency = 300,\n",
    "            slope = 0.1,\n",
    "        )\n",
    "        .reverb(\n",
    "            reverberance = reverberance,\n",
    "            hf_damping = hf_damping,\n",
    "            room_scale = room_scale,\n",
    "            stereo_depth = stereo_depth,\n",
    "            pre_delay = 20,\n",
    "            wet_gain = 0,\n",
    "            wet_only = False,\n",
    "        )\n",
    "    )\n",
    "    y_enhanced = apply_audio_effects(y)\n",
    "\n",
    "    return y_enhanced\n",
    "\n",
    "\n",
    "def sox_augment_combine(\n",
    "    y,\n",
    "    min_bass_gain_low = 5,\n",
    "    min_bass_gain_high = 5,\n",
    "    reverberance = 1,\n",
    "    hf_damping = 1,\n",
    "    room_scale = 1,\n",
    "    stereo_depth = 1,\n",
    "):\n",
    "    from pysndfx import AudioEffectsChain\n",
    "\n",
    "    apply_audio_effects = (\n",
    "        AudioEffectsChain()\n",
    "        .lowshelf(gain = min_bass_gain_low, frequency = 300, slope = 0.1)\n",
    "        .highshelf(gain = -min_bass_gain_high, frequency = 300, slope = 0.1)\n",
    "        .reverb(\n",
    "            reverberance = reverberance,\n",
    "            hf_damping = hf_damping,\n",
    "            room_scale = room_scale,\n",
    "            stereo_depth = stereo_depth,\n",
    "            pre_delay = 20,\n",
    "            wet_gain = 0,\n",
    "            wet_only = False,\n",
    "        )\n",
    "    )\n",
    "    y_enhanced = apply_audio_effects(y)\n",
    "\n",
    "    return y_enhanced\n",
    "\n",
    "\n",
    "def random_pitch(sample, low = 0.5, high = 1.0):\n",
    "    y_pitch_speed = sample.copy()\n",
    "    length_change = np.random.uniform(low = low, high = high)\n",
    "    speed_fac = 1.0 / length_change\n",
    "    tmp = np.interp(\n",
    "        np.arange(0, len(y_pitch_speed), speed_fac),\n",
    "        np.arange(0, len(y_pitch_speed)),\n",
    "        y_pitch_speed,\n",
    "    )\n",
    "    minlen = min(y_pitch_speed.shape[0], tmp.shape[0])\n",
    "    y_pitch_speed *= 0\n",
    "    y_pitch_speed[:minlen] = tmp[:minlen]\n",
    "    return y_pitch_speed\n",
    "\n",
    "\n",
    "def random_amplitude(sample, low = 1.5, high = 3):\n",
    "    y_aug = sample.copy()\n",
    "    dyn_change = np.random.uniform(low = low, high = high)\n",
    "    return y_aug * dyn_change\n",
    "\n",
    "\n",
    "def random_stretch(sample, low = 0.5, high = 1.3):\n",
    "    input_length = len(sample)\n",
    "    stretching = sample.copy()\n",
    "    random_stretch = np.random.uniform(low = low, high = high)\n",
    "    stretching = librosa.effects.time_stretch(\n",
    "        stretching.astype('float'), random_stretch\n",
    "    )\n",
    "    return stretching\n",
    "\n",
    "def add_uniform_noise(sample, power = 0.01):\n",
    "    y_noise = sample.copy()\n",
    "    noise_amp = power * np.random.uniform() * np.amax(y_noise)\n",
    "    return y_noise.astype('float64') + noise_amp * np.random.normal(\n",
    "        size = y_noise.shape[0]\n",
    "    )\n",
    "\n",
    "\n",
    "def add_noise(sample, noise, random_sample = True, factor = 0.1):\n",
    "    y_noise = sample.copy()\n",
    "    if len(y_noise) > len(noise):\n",
    "        noise = np.tile(noise, int(np.ceil(len(y_noise) / len(noise))))\n",
    "    else:\n",
    "        if random_sample:\n",
    "            noise = noise[np.random.randint(0, len(noise) - len(y_noise) + 1) :]\n",
    "    return y_noise + noise[: len(y_noise)] * factor\n",
    "\n",
    "def sampling(combined, frame_duration_ms = 700, sample_rate = 16000):\n",
    "    n = int(sample_rate * (frame_duration_ms / 1000.0))\n",
    "    offset = 0\n",
    "    while offset + n <= len(combined):\n",
    "        yield combined[offset : offset + n]\n",
    "        offset += n\n",
    "    if offset < len(combined):\n",
    "        yield combined[offset:]\n",
    "        \n",
    "def calc(signal):\n",
    "\n",
    "    choice = random.randint(0, 4)\n",
    "    if choice == 0:\n",
    "\n",
    "        x = sox_augment_high(\n",
    "            signal,\n",
    "            min_bass_gain = random.randint(25, 50),\n",
    "            reverberance = random.randint(0, 80),\n",
    "            hf_damping = 10,\n",
    "            room_scale = random.randint(0, 50),\n",
    "            negate = 1,\n",
    "        )\n",
    "    if choice == 1:\n",
    "        x = sox_augment_high(\n",
    "            signal,\n",
    "            min_bass_gain = random.randint(25, 70),\n",
    "            reverberance = random.randint(0, 80),\n",
    "            hf_damping = 10,\n",
    "            room_scale = random.randint(0, 50),\n",
    "            negate = 0,\n",
    "        )\n",
    "    if choice == 2:\n",
    "        x = sox_augment_low(\n",
    "            signal,\n",
    "            min_bass_gain = random.randint(5, 30),\n",
    "            reverberance = random.randint(0, 80),\n",
    "            hf_damping = 10,\n",
    "            room_scale = random.randint(0, 50),\n",
    "            negate = random.randint(0, 1),\n",
    "        )\n",
    "    if choice == 3:\n",
    "        x = sox_augment_combine(\n",
    "            signal,\n",
    "            min_bass_gain_high = random.randint(25, 70),\n",
    "            min_bass_gain_low = random.randint(5, 30),\n",
    "            reverberance = random.randint(0, 80),\n",
    "            hf_damping = 10,\n",
    "            room_scale = random.randint(0, 90),\n",
    "        )\n",
    "    if choice == 4:\n",
    "        x = sox_reverb(\n",
    "            signal,\n",
    "            reverberance = random.randint(10, 80),\n",
    "            hf_damping = 10,\n",
    "            room_scale = random.randint(10, 90),\n",
    "        )\n",
    "\n",
    "    if random.randint(0, 1):\n",
    "        x = add_uniform_noise(\n",
    "            x, power = random.uniform(0.005, 0.015)\n",
    "        )\n",
    "        \n",
    "    if random.random() > 0.75:\n",
    "        r = random.choice(not_music)\n",
    "        n = read_wav(r)[0]\n",
    "        x = add_noise(x, n, factor = random.uniform(0.005, 0.01))\n",
    "\n",
    "    return x"
   ]
  },
  {
   "cell_type": "code",
   "execution_count": 13,
   "metadata": {
    "scrolled": true
   },
   "outputs": [
    {
     "data": {
      "text/plain": [
       "True"
      ]
     },
     "execution_count": 13,
     "metadata": {},
     "output_type": "execute_result"
    }
   ],
   "source": [
    "os.path.exists('cv-corpus-5.1-2020-06-22/ia/clips/common_voice_ia_20911553.mp3')"
   ]
  },
  {
   "cell_type": "code",
   "execution_count": 14,
   "metadata": {},
   "outputs": [
    {
     "name": "stdout",
     "output_type": "stream",
     "text": [
      "teens\n"
     ]
    },
    {
     "name": "stderr",
     "output_type": "stream",
     "text": [
      "100%|██████████| 30000/30000 [00:00<00:00, 764574.72it/s]\n"
     ]
    },
    {
     "name": "stdout",
     "output_type": "stream",
     "text": [
      "twenties\n"
     ]
    },
    {
     "name": "stderr",
     "output_type": "stream",
     "text": [
      "100%|██████████| 30000/30000 [00:00<00:00, 467316.30it/s]\n"
     ]
    },
    {
     "name": "stdout",
     "output_type": "stream",
     "text": [
      "thirties\n"
     ]
    },
    {
     "name": "stderr",
     "output_type": "stream",
     "text": [
      "100%|██████████| 30000/30000 [00:00<00:00, 473107.61it/s]\n",
      "  0%|          | 0/30000 [00:00<?, ?it/s]"
     ]
    },
    {
     "name": "stdout",
     "output_type": "stream",
     "text": [
      "fourties\n"
     ]
    },
    {
     "name": "stderr",
     "output_type": "stream",
     "text": [
      "100%|██████████| 30000/30000 [00:00<00:00, 442782.76it/s]\n",
      "100%|██████████| 30000/30000 [00:00<00:00, 467842.77it/s]\n"
     ]
    },
    {
     "name": "stdout",
     "output_type": "stream",
     "text": [
      "fifties\n",
      "sixties\n"
     ]
    },
    {
     "name": "stderr",
     "output_type": "stream",
     "text": [
      "100%|██████████| 30000/30000 [00:00<00:00, 468651.28it/s]\n"
     ]
    },
    {
     "name": "stdout",
     "output_type": "stream",
     "text": [
      "seventies\n"
     ]
    },
    {
     "name": "stderr",
     "output_type": "stream",
     "text": [
      "100%|██████████| 19490/19490 [00:00<00:00, 502786.09it/s]\n",
      "100%|██████████| 4883/4883 [00:00<00:00, 478813.92it/s]\n"
     ]
    },
    {
     "name": "stdout",
     "output_type": "stream",
     "text": [
      "eighties\n",
      "nineties\n"
     ]
    },
    {
     "name": "stderr",
     "output_type": "stream",
     "text": [
      "100%|██████████| 1717/1717 [00:00<00:00, 504068.03it/s]\n"
     ]
    }
   ],
   "source": [
    "files, labels = [], []\n",
    "for label in actual_labels[:-1]:\n",
    "    print(label)\n",
    "    d = concatenated[concatenated['age'] == label]\n",
    "    d = d.sample(n = min(30000, len(d))).values\n",
    "    for i in tqdm(range(len(d))):\n",
    "        f = f\"{d[i,-1]}/clips/{d[i,1]}\"\n",
    "        files.append(f)\n",
    "        labels.append(d[i, -6])"
   ]
  },
  {
   "cell_type": "code",
   "execution_count": 15,
   "metadata": {},
   "outputs": [],
   "source": [
    "from scipy import interpolate\n",
    "from pydub import AudioSegment\n",
    "import soundfile as sf\n",
    "\n",
    "def int_to_float(array, type = np.float32):\n",
    "\n",
    "    if array.dtype == type:\n",
    "        return array\n",
    "\n",
    "    if array.dtype not in [np.float16, np.float32, np.float64]:\n",
    "        array = array.astype(np.float32) / np.max(np.abs(array))\n",
    "\n",
    "    return array\n",
    "\n",
    "def change_samplerate(data, old_samplerate, new_samplerate):\n",
    "    old_audio = data\n",
    "    duration = data.shape[0] / old_samplerate\n",
    "    time_old = np.linspace(0, duration, old_audio.shape[0])\n",
    "    time_new = np.linspace(\n",
    "        0, duration, int(old_audio.shape[0] * new_samplerate / old_samplerate)\n",
    "    )\n",
    "\n",
    "    interpolator = interpolate.interp1d(time_old, old_audio.T)\n",
    "    data = interpolator(time_new).T\n",
    "    return data\n",
    "\n",
    "\n",
    "def read_flac(file, sample_rate = 16000):\n",
    "    data, old_samplerate = sf.read(file)\n",
    "    if len(data.shape) == 2:\n",
    "        data = data[:, 0]\n",
    "    if old_samplerate != sample_rate:\n",
    "        data = change_samplerate(data, old_samplerate, sample_rate)\n",
    "    return data, sample_rate\n",
    "\n",
    "\n",
    "def read_wav(file, sample_rate = 16000):\n",
    "    y, sr = librosa.load(file, sr = sample_rate)\n",
    "    return y, sr\n",
    "\n",
    "def read_mp3(file, sample_rate = 16000):\n",
    "    audio = AudioSegment.from_mp3(file)\n",
    "    a = np.array(audio.set_frame_rate(sample_rate).set_channels(1).get_array_of_samples())\n",
    "    return int_to_float(a), sample_rate\n",
    "\n",
    "def read_file(file):\n",
    "    if '.flac' in file or '.wav' in file:\n",
    "        y, sr = read_flac(file)\n",
    "    if '.mp3' in file:\n",
    "        y, sr = read_mp3(file)\n",
    "    return y, sr"
   ]
  },
  {
   "cell_type": "code",
   "execution_count": 16,
   "metadata": {},
   "outputs": [
    {
     "data": {
      "text/plain": [
       "(array(['eighties', 'fifties', 'fourties', 'nineties', 'seventies',\n",
       "        'sixties', 'teens', 'thirties', 'twenties'], dtype='<U9'),\n",
       " array([ 4883, 30000, 30000,  1717, 19490, 30000, 30000, 30000, 30000]))"
      ]
     },
     "execution_count": 16,
     "metadata": {},
     "output_type": "execute_result"
    }
   ],
   "source": [
    "np.unique(labels, return_counts = True)"
   ]
  },
  {
   "cell_type": "code",
   "execution_count": 17,
   "metadata": {},
   "outputs": [],
   "source": [
    "not_music = glob('../not-music/clean-wav/*.wav') + glob('../musan/music/**/*.wav', recursive = True) \\\n",
    "+ glob('../musan/noise/**/*.wav', recursive = True)\n",
    "files = files + not_music\n",
    "labels = labels + ['not an age'] * len(not_music)"
   ]
  },
  {
   "cell_type": "code",
   "execution_count": 18,
   "metadata": {},
   "outputs": [
    {
     "data": {
      "text/plain": [
       "(array(['eighties', 'fifties', 'fourties', 'nineties', 'not an age',\n",
       "        'seventies', 'sixties', 'teens', 'thirties', 'twenties'],\n",
       "       dtype='<U10'),\n",
       " array([ 4883, 30000, 30000,  1717,  2026, 19490, 30000, 30000, 30000,\n",
       "        30000]))"
      ]
     },
     "execution_count": 18,
     "metadata": {},
     "output_type": "execute_result"
    }
   ],
   "source": [
    "np.unique(labels, return_counts = True)"
   ]
  },
  {
   "cell_type": "code",
   "execution_count": 19,
   "metadata": {},
   "outputs": [],
   "source": [
    "from sklearn.utils import shuffle\n",
    "files, labels = shuffle(files, labels)"
   ]
  },
  {
   "cell_type": "code",
   "execution_count": 20,
   "metadata": {},
   "outputs": [
    {
     "data": {
      "text/plain": [
       "(array([0.000000e+00, 0.000000e+00, 0.000000e+00, ..., 3.051851e-05,\n",
       "        0.000000e+00, 0.000000e+00], dtype=float32),\n",
       " 16000,\n",
       " 'fifties')"
      ]
     },
     "execution_count": 20,
     "metadata": {},
     "output_type": "execute_result"
    }
   ],
   "source": [
    "y, sr = read_file(files[-2])\n",
    "y = y[:sr * 10]\n",
    "y, sr, labels[-2]"
   ]
  },
  {
   "cell_type": "code",
   "execution_count": 21,
   "metadata": {},
   "outputs": [],
   "source": [
    "import os\n",
    "import tensorflow as tf\n",
    "\n",
    "os.system('rm age-detection/data/*')\n",
    "DATA_DIR = os.path.expanduser('age-detection/data')\n",
    "tf.gfile.MakeDirs(DATA_DIR)"
   ]
  },
  {
   "cell_type": "code",
   "execution_count": 22,
   "metadata": {},
   "outputs": [],
   "source": [
    "import malaya_speech\n",
    "\n",
    "vad = malaya_speech.vad.webrtc()"
   ]
  },
  {
   "cell_type": "code",
   "execution_count": 23,
   "metadata": {},
   "outputs": [],
   "source": [
    "from tqdm import tqdm\n",
    "from malaya_speech.train import prepare_data\n",
    "from collections import defaultdict\n",
    "\n",
    "def loop(files, dupe_factor = 1):\n",
    "    files, no = files\n",
    "    fname = f'{DATA_DIR}/part-{no}.tfrecords'\n",
    "    writer = tf.python_io.TFRecordWriter(fname)\n",
    "    counts = defaultdict(int)\n",
    "    for file in tqdm(files):\n",
    "        try:\n",
    "            wav = read_file(file[0])[0]\n",
    "            if file[1] != 'not an age':\n",
    "                d = dupe_factor\n",
    "            else:\n",
    "                d = 1\n",
    "            for _ in range(d):\n",
    "                if file[1] != 'not an age':\n",
    "                    minimum = 1000\n",
    "                else:\n",
    "                    minimum = 200\n",
    "                fs = sampling(wav, random.randint(minimum, 2000))\n",
    "                for s in fs:\n",
    "                    try:\n",
    "                        if file[1] != 'not an age':\n",
    "                            n = malaya_speech.utils.astype.float_to_int(s)\n",
    "                            frames = malaya_speech.utils.generator.frames(n, 30, 16000, append_ending_trail=False)\n",
    "                            frames = [f.array for f in frames if vad(f)]\n",
    "                            n = malaya_speech.utils.astype.int_to_float(np.concatenate(frames))\n",
    "                            for _ in range(dupe_factor):\n",
    "                                if len(n) > 50:\n",
    "                                    example = prepare_data.to_example({'inputs': calc(n).tolist(), \n",
    "                                                                       'targets': [actual_labels.index(file[1])]})\n",
    "                                    writer.write(example.SerializeToString())\n",
    "                                    counts[file[1]] += 1\n",
    "                        else:\n",
    "                            n = s\n",
    "                        if len(n) > 50:\n",
    "                            example = prepare_data.to_example({'inputs': n.tolist(), \n",
    "                                                               'targets': [actual_labels.index(file[1])]})\n",
    "                            writer.write(example.SerializeToString())\n",
    "                            counts[file[1]] += 1\n",
    "                    except Exception as e:\n",
    "                        # print(e)\n",
    "                        pass\n",
    "        except Exception as e:\n",
    "            print(e)\n",
    "            pass\n",
    "\n",
    "    writer.close()\n",
    "    return [counts]"
   ]
  },
  {
   "cell_type": "code",
   "execution_count": 24,
   "metadata": {},
   "outputs": [],
   "source": [
    "combined_all = list(zip(files, labels))"
   ]
  },
  {
   "cell_type": "code",
   "execution_count": 25,
   "metadata": {},
   "outputs": [
    {
     "data": {
      "text/plain": [
       "[('cv-corpus-5.1-2020-06-22/en/clips/common_voice_en_19028924.mp3',\n",
       "  'thirties'),\n",
       " ('cv-corpus-5.1-2020-06-22/fr/clips/common_voice_fr_18312975.mp3',\n",
       "  'fourties'),\n",
       " ('cv-corpus-5.1-2020-06-22/el/clips/common_voice_el_20583935.mp3',\n",
       "  'fourties'),\n",
       " ('cv-corpus-5.1-2020-06-22/en/clips/common_voice_en_18887255.mp3', 'sixties'),\n",
       " ('cv-corpus-5.1-2020-06-22/de/clips/common_voice_de_18357436.mp3', 'teens'),\n",
       " ('cv-corpus-5.1-2020-06-22/en/clips/common_voice_en_22299580.mp3',\n",
       "  'seventies'),\n",
       " ('cv-corpus-5.1-2020-06-22/de/clips/common_voice_de_20363556.mp3',\n",
       "  'fourties'),\n",
       " ('cv-corpus-5.1-2020-06-22/rw/clips/common_voice_rw_20337788.mp3', 'teens'),\n",
       " ('cv-corpus-5.1-2020-06-22/fa/clips/common_voice_fa_19567988.mp3',\n",
       "  'twenties'),\n",
       " ('cv-corpus-5.1-2020-06-22/en/clips/common_voice_en_21640941.mp3',\n",
       "  'thirties')]"
      ]
     },
     "execution_count": 25,
     "metadata": {},
     "output_type": "execute_result"
    }
   ],
   "source": [
    "combined_all[:10]"
   ]
  },
  {
   "cell_type": "code",
   "execution_count": 26,
   "metadata": {},
   "outputs": [],
   "source": [
    "# !cp ../mp.py ."
   ]
  },
  {
   "cell_type": "code",
   "execution_count": 27,
   "metadata": {},
   "outputs": [
    {
     "name": "stderr",
     "output_type": "stream",
     "text": [
      " 86%|████████▋ | 8979/10405 [6:45:25<1:04:14,  2.70s/it] IOPub message rate exceeded.\n",
      "The notebook server will temporarily stop sending output\n",
      "to the client in order to avoid crashing it.\n",
      "To change this limit, set the config variable\n",
      "`--NotebookApp.iopub_msg_rate_limit`.\n",
      "\n",
      "Current values:\n",
      "NotebookApp.iopub_msg_rate_limit=1000.0 (msgs/sec)\n",
      "NotebookApp.rate_limit_window=3.0 (secs)\n",
      "\n",
      " 91%|█████████ | 9422/10405 [7:02:31<41:19,  2.52s/it]  IOPub message rate exceeded.\n",
      "The notebook server will temporarily stop sending output\n",
      "to the client in order to avoid crashing it.\n",
      "To change this limit, set the config variable\n",
      "`--NotebookApp.iopub_msg_rate_limit`.\n",
      "\n",
      "Current values:\n",
      "NotebookApp.iopub_msg_rate_limit=1000.0 (msgs/sec)\n",
      "NotebookApp.rate_limit_window=3.0 (secs)\n",
      "\n",
      " 94%|█████████▍| 9820/10405 [7:20:17<23:50,  2.44s/it]IOPub message rate exceeded.\n",
      "The notebook server will temporarily stop sending output\n",
      "to the client in order to avoid crashing it.\n",
      "To change this limit, set the config variable\n",
      "`--NotebookApp.iopub_msg_rate_limit`.\n",
      "\n",
      "Current values:\n",
      "NotebookApp.iopub_msg_rate_limit=1000.0 (msgs/sec)\n",
      "NotebookApp.rate_limit_window=3.0 (secs)\n",
      "\n",
      " 98%|█████████▊| 10184/10405 [7:37:03<08:24,  2.28s/it]IOPub message rate exceeded.\n",
      "The notebook server will temporarily stop sending output\n",
      "to the client in order to avoid crashing it.\n",
      "To change this limit, set the config variable\n",
      "`--NotebookApp.iopub_msg_rate_limit`.\n",
      "\n",
      "Current values:\n",
      "NotebookApp.iopub_msg_rate_limit=1000.0 (msgs/sec)\n",
      "NotebookApp.rate_limit_window=3.0 (secs)\n",
      "\n"
     ]
    }
   ],
   "source": [
    "import mp\n",
    "returned = mp.multiprocessing(combined_all, loop, cores = 20)"
   ]
  },
  {
   "cell_type": "code",
   "execution_count": 28,
   "metadata": {},
   "outputs": [
    {
     "data": {
      "text/plain": [
       "defaultdict(int,\n",
       "            {'thirties': 193428,\n",
       "             'fourties': 218722,\n",
       "             'sixties': 225060,\n",
       "             'teens': 197550,\n",
       "             'seventies': 151264,\n",
       "             'twenties': 205174,\n",
       "             'not an age': 496484,\n",
       "             'fifties': 207638,\n",
       "             'eighties': 39850,\n",
       "             'nineties': 12314})"
      ]
     },
     "execution_count": 28,
     "metadata": {},
     "output_type": "execute_result"
    }
   ],
   "source": [
    "combined_d = defaultdict(int)\n",
    "for d in returned:\n",
    "    for k, v in d.items():\n",
    "        combined_d[k] += v\n",
    "combined_d"
   ]
  },
  {
   "cell_type": "code",
   "execution_count": null,
   "metadata": {},
   "outputs": [],
   "source": []
  }
 ],
 "metadata": {
  "kernelspec": {
   "display_name": "Python 3",
   "language": "python",
   "name": "python3"
  },
  "language_info": {
   "codemirror_mode": {
    "name": "ipython",
    "version": 3
   },
   "file_extension": ".py",
   "mimetype": "text/x-python",
   "name": "python",
   "nbconvert_exporter": "python",
   "pygments_lexer": "ipython3",
   "version": "3.6.9"
  }
 },
 "nbformat": 4,
 "nbformat_minor": 4
}

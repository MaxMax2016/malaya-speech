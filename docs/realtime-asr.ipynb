{
 "cells": [
  {
   "cell_type": "markdown",
   "metadata": {},
   "source": [
    "# Realtime ASR\n",
    "\n",
    "Let say you want to transcribe realtime recording / input, malaya-speech able to do that."
   ]
  },
  {
   "cell_type": "markdown",
   "metadata": {},
   "source": [
    "<div class=\"alert alert-info\">\n",
    "\n",
    "This tutorial is available as an IPython notebook at [malaya-speech/example/realtime-asr](https://github.com/huseinzol05/malaya-speech/tree/master/example/realtime-asr).\n",
    "    \n",
    "</div>"
   ]
  },
  {
   "cell_type": "markdown",
   "metadata": {},
   "source": [
    "<div class=\"alert alert-warning\">\n",
    "\n",
    "This module is not language independent, so it not save to use on different languages. Pretrained models trained on hyperlocal languages.\n",
    "    \n",
    "</div>"
   ]
  },
  {
   "cell_type": "markdown",
   "metadata": {},
   "source": [
    "<div class=\"alert alert-warning\">\n",
    "\n",
    "This is an application of malaya-speech Pipeline, read more about malaya-speech Pipeline at [malaya-speech/example/pipeline](https://github.com/huseinzol05/malaya-speech/tree/master/example/pipeline).\n",
    "    \n",
    "</div>"
   ]
  },
  {
   "cell_type": "code",
   "execution_count": 1,
   "metadata": {},
   "outputs": [],
   "source": [
    "import malaya_speech\n",
    "from malaya_speech import Pipeline"
   ]
  },
  {
   "cell_type": "markdown",
   "metadata": {},
   "source": [
    "### Load VAD model\n",
    "\n",
    "We are going to use quantized vggvox-v2 VAD model."
   ]
  },
  {
   "cell_type": "code",
   "execution_count": 2,
   "metadata": {
    "scrolled": true
   },
   "outputs": [
    {
     "name": "stderr",
     "output_type": "stream",
     "text": [
      "WARNING:root:Load quantized model will cause accuracy drop.\n"
     ]
    },
    {
     "name": "stdout",
     "output_type": "stream",
     "text": [
      "WARNING:tensorflow:From /Users/huseinzolkepli/Documents/malaya-speech/malaya_speech/utils/__init__.py:66: The name tf.gfile.GFile is deprecated. Please use tf.io.gfile.GFile instead.\n",
      "\n"
     ]
    },
    {
     "name": "stderr",
     "output_type": "stream",
     "text": [
      "WARNING:tensorflow:From /Users/huseinzolkepli/Documents/malaya-speech/malaya_speech/utils/__init__.py:66: The name tf.gfile.GFile is deprecated. Please use tf.io.gfile.GFile instead.\n",
      "\n"
     ]
    },
    {
     "name": "stdout",
     "output_type": "stream",
     "text": [
      "WARNING:tensorflow:From /Users/huseinzolkepli/Documents/malaya-speech/malaya_speech/utils/__init__.py:68: The name tf.GraphDef is deprecated. Please use tf.compat.v1.GraphDef instead.\n",
      "\n"
     ]
    },
    {
     "name": "stderr",
     "output_type": "stream",
     "text": [
      "WARNING:tensorflow:From /Users/huseinzolkepli/Documents/malaya-speech/malaya_speech/utils/__init__.py:68: The name tf.GraphDef is deprecated. Please use tf.compat.v1.GraphDef instead.\n",
      "\n"
     ]
    },
    {
     "name": "stdout",
     "output_type": "stream",
     "text": [
      "WARNING:tensorflow:From /Users/huseinzolkepli/Documents/malaya-speech/malaya_speech/utils/__init__.py:61: The name tf.InteractiveSession is deprecated. Please use tf.compat.v1.InteractiveSession instead.\n",
      "\n"
     ]
    },
    {
     "name": "stderr",
     "output_type": "stream",
     "text": [
      "WARNING:tensorflow:From /Users/huseinzolkepli/Documents/malaya-speech/malaya_speech/utils/__init__.py:61: The name tf.InteractiveSession is deprecated. Please use tf.compat.v1.InteractiveSession instead.\n",
      "\n"
     ]
    }
   ],
   "source": [
    "vad_model = malaya_speech.vad.deep_model(model = 'vggvox-v2', quantized = True)"
   ]
  },
  {
   "cell_type": "markdown",
   "metadata": {},
   "source": [
    "### Recording interface\n",
    "\n",
    "So, to start recording audio including realtime VAD and ASR, we need to use `malaya_speech.streaming.record`. We use `pyaudio` library as the backend.\n",
    "\n",
    "```python\n",
    "def record(\n",
    "    vad,\n",
    "    asr_model = None,\n",
    "    device = None,\n",
    "    input_rate: int = 16000,\n",
    "    sample_rate: int = 16000,\n",
    "    min_length: float = 0.1,\n",
    "    filename: str = None,\n",
    "    spinner: bool = True,\n",
    "):\n",
    "    \"\"\"\n",
    "    Record an audio using pyaudio library. This record interface required a VAD model.\n",
    "\n",
    "    Parameters\n",
    "    ----------\n",
    "    vad: object\n",
    "        vad model / pipeline.\n",
    "    asr_model: object\n",
    "        ASR model / pipeline, will transcribe each subsamples realtime.\n",
    "    device: None\n",
    "        `device` parameter for pyaudio.\n",
    "    input_rate: int, optional (default = 16000)\n",
    "        sample rate from input device, this will auto resampling.\n",
    "    sample_rate: int, optional (default = 16000)\n",
    "        output sample rate.\n",
    "    min_length: float, optional (default=0.1)\n",
    "        minimum length (s) to accept a subsample.\n",
    "    filename: str, optional (default=None)\n",
    "        if None, will auto generate name based on timestamp.\n",
    "    spinner: bool, optional (default=True)\n",
    "        if True, will use spinner object from halo library.\n",
    "\n",
    "\n",
    "    Returns\n",
    "    -------\n",
    "    result : [filename, samples]\n",
    "    \"\"\"\n",
    "```"
   ]
  },
  {
   "cell_type": "markdown",
   "metadata": {},
   "source": [
    "**pyaudio will returned int16 bytes, so we need to change to numpy array, normalize it to -1 and +1 floating point**."
   ]
  },
  {
   "cell_type": "code",
   "execution_count": 3,
   "metadata": {
    "scrolled": true
   },
   "outputs": [
    {
     "data": {
      "image/png": "[encoded data removed]",
      "text/plain": [
       "<IPython.core.display.Image object>"
      ]
     },
     "execution_count": 3,
     "metadata": {},
     "output_type": "execute_result"
    }
   ],
   "source": [
    "p = Pipeline()\n",
    "pipeline = (\n",
    "    p.map(malaya_speech.astype.to_ndarray)\n",
    "    .map(malaya_speech.astype.int_to_float)\n",
    "    .map(vad_model)\n",
    ")\n",
    "p.visualize()"
   ]
  },
  {
   "cell_type": "markdown",
   "metadata": {},
   "source": [
    "### Load ASR model"
   ]
  },
  {
   "cell_type": "code",
   "execution_count": 4,
   "metadata": {},
   "outputs": [
    {
     "name": "stderr",
     "output_type": "stream",
     "text": [
      "WARNING:root:Load quantized model will cause accuracy drop.\n",
      "/Library/Frameworks/Python.framework/Versions/3.7/lib/python3.7/site-packages/tensorflow_core/python/client/session.py:1750: UserWarning: An interactive session is already active. This can cause out-of-memory errors in some cases. You must explicitly call `InteractiveSession.close()` to release resources held by the other session(s).\n",
      "  warnings.warn('An interactive session is already active. This can '\n"
     ]
    }
   ],
   "source": [
    "quantized_model = malaya_speech.stt.deep_ctc(model = 'quartznet', quantized = True)"
   ]
  },
  {
   "cell_type": "code",
   "execution_count": 5,
   "metadata": {},
   "outputs": [
    {
     "data": {
      "image/png": "[encoded data removed]",
      "text/plain": [
       "<IPython.core.display.Image object>"
      ]
     },
     "execution_count": 5,
     "metadata": {},
     "output_type": "execute_result"
    }
   ],
   "source": [
    "p_asr = Pipeline()\n",
    "pipeline_asr = (\n",
    "    p_asr.map(malaya_speech.astype.to_ndarray)\n",
    "    .map(malaya_speech.astype.int_to_float)\n",
    "    .map(quantized_model)\n",
    ")\n",
    "p_asr.visualize()"
   ]
  },
  {
   "cell_type": "markdown",
   "metadata": {},
   "source": [
    "**Again, once you start to run the code below, it will straight away recording your voice**. \n",
    "\n",
    "If you run in jupyter notebook, press button stop up there to stop recording, if in terminal, press `CTRL + c`."
   ]
  },
  {
   "cell_type": "code",
   "execution_count": 6,
   "metadata": {},
   "outputs": [
    {
     "name": "stdout",
     "output_type": "stream",
     "text": [
      "Listening (ctrl-C to stop recording) ... \n",
      "\n"
     ]
    },
    {
     "name": "stderr",
     "output_type": "stream",
     "text": [
      "/Library/Frameworks/Python.framework/Versions/3.7/lib/python3.7/site-packages/librosa/core/spectrum.py:224: UserWarning: n_fft=512 is too small for input signal of length=320\n",
      "  n_fft, y.shape[-1]\n"
     ]
    },
    {
     "name": "stdout",
     "output_type": "stream",
     "text": [
      "Sample 0 2020-11-28 13:45:16.207900: ela\n",
      "Sample 1 2020-11-28 13:45:20.147814: nak saya nak makan\n",
      "Sample 2 2020-11-28 13:45:20.961547: ayam\n",
      "Sample 3 2020-11-28 13:45:24.735462: ayam masak pedas\n",
      "Sample 4 2020-11-28 13:45:28.130483: semoga sedaplah\n",
      "Sample 5 2020-11-28 13:45:30.300991: an\n",
      "Sample 6 2020-11-28 13:45:33.825635: yan\n",
      "Sample 7 2020-11-28 13:45:37.271249: saya rasi bini saya busuk hari ini\n",
      "Sample 8 2020-11-28 13:45:39.204503: aham\n",
      "Sample 9 2020-11-28 13:45:43.264181: katu kenapa dia busuk\n",
      "Sample 10 2020-11-28 13:45:45.821596: tukan\n",
      "saved audio to savewav_2020-11-28_13-45-47_082882.wav\n"
     ]
    },
    {
     "data": {
      "text/plain": [
       "'savewav_2020-11-28_13-45-47_082882.wav'"
      ]
     },
     "execution_count": 6,
     "metadata": {},
     "output_type": "execute_result"
    }
   ],
   "source": [
    "file, samples = malaya_speech.streaming.record(vad = p, asr_model = p_asr, spinner = False)\n",
    "file"
   ]
  },
  {
   "cell_type": "markdown",
   "metadata": {},
   "source": [
    "As you can see, it able to transcribe realtime, you can try it by yourself."
   ]
  },
  {
   "cell_type": "code",
   "execution_count": 9,
   "metadata": {},
   "outputs": [
    {
     "data": {
      "text/plain": [
       "2"
      ]
     },
     "execution_count": 9,
     "metadata": {},
     "output_type": "execute_result"
    }
   ],
   "source": [
    "len(samples[0])"
   ]
  },
  {
   "cell_type": "code",
   "execution_count": 10,
   "metadata": {
    "scrolled": true
   },
   "outputs": [
    {
     "data": {
      "text/plain": [
       "(bytearray, 'ela')"
      ]
     },
     "execution_count": 10,
     "metadata": {},
     "output_type": "execute_result"
    }
   ],
   "source": [
    "type(samples[0][0]), samples[0][1]"
   ]
  },
  {
   "cell_type": "markdown",
   "metadata": {},
   "source": [
    "I do not want to print `samples[0][0]`, it is very long."
   ]
  }
 ],
 "metadata": {
  "kernelspec": {
   "display_name": "Python 3",
   "language": "python",
   "name": "python3"
  },
  "language_info": {
   "codemirror_mode": {
    "name": "ipython",
    "version": 3
   },
   "file_extension": ".py",
   "mimetype": "text/x-python",
   "name": "python",
   "nbconvert_exporter": "python",
   "pygments_lexer": "ipython3",
   "version": "3.7.7"
  }
 },
 "nbformat": 4,
 "nbformat_minor": 4
}

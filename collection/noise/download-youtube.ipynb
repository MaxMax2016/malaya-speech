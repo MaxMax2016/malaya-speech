{
 "cells": [
  {
   "cell_type": "code",
   "execution_count": 10,
   "metadata": {},
   "outputs": [],
   "source": [
    "videos = \"\"\"\n",
    "https://www.youtube.com/watch?v=W1xwTqgzQ_g&ab_channel=MorningLightMusic\n",
    "https://www.youtube.com/watch?v=qycqF1CWcXg&ab_channel=relaxdaily\n",
    "https://www.youtube.com/watch?v=Y-JQ-RCyPpQ&ab_channel=CafeMusicBGMchannel\n",
    "https://www.youtube.com/watch?v=HIlG2NKnsVA&ab_channel=StudyQuotes\n",
    "https://www.youtube.com/watch?v=p1IChPfD2-s&ab_channel=HappyMusic\n",
    "https://www.youtube.com/watch?v=cVA-9JHwbFY&ab_channel=VlogNoCopyrightMusic\n",
    "https://www.youtube.com/watch?v=Iv5P21D76bw&ab_channel=Ampyx\n",
    "https://www.youtube.com/watch?v=MU0Yp0qmYEs&ab_channel=MorningLightMusic\n",
    "https://www.youtube.com/watch?v=0cjxdNnmKNs&ab_channel=AlecKoff-BackgroundMusic\n",
    "https://www.youtube.com/watch?v=SSqgaFE9igo&ab_channel=MorningLightMusic\n",
    "https://www.youtube.com/watch?v=T5o_0BoTvWg&ab_channel=TylerMontgomery\n",
    "https://www.youtube.com/watch?v=Jh2K1x7klcY&ab_channel=MorningLightMusic\n",
    "https://www.youtube.com/watch?v=MkNeIUgNPQ8&ab_channel=AudioLibrary%E2%80%94Musicforcontentcreators\n",
    "https://www.youtube.com/watch?v=jw7qC2aPfos&ab_channel=HorizoneMusic\n",
    "https://www.youtube.com/watch?v=3sCGysVB41k&ab_channel=MorningLightMusic\n",
    "https://www.youtube.com/watch?v=5hTaTrJowJk&ab_channel=WavebeatsMusic-RoyaltyFreeMusic\n",
    "https://www.youtube.com/watch?v=1gKs4pIaJHs&ab_channel=VikyTechpoint\n",
    "https://www.youtube.com/watch?v=8MgA3SUwFHc&ab_channel=redafsmusic\n",
    "https://www.youtube.com/watch?v=NQKC24th90U&ab_channel=relaxdaily\n",
    "https://www.youtube.com/watch?v=oJnF5VxTO5g&ab_channel=EYM\n",
    "https://www.youtube.com/watch?v=rhV_DIoebmU&ab_channel=MrSnoozeIBackgroundMusicforVideos\n",
    "https://www.youtube.com/watch?v=Zl7JTrJspF4&ab_channel=AShamaluevMusic-NoCopyrightMusic\n",
    "https://www.youtube.com/watch?v=kUZTWj2Lxo0&ab_channel=MrSnoozeIBackgroundMusicforVideos\n",
    "https://www.youtube.com/watch?v=o9Phw-cJqBQ\n",
    "https://www.youtube.com/watch?v=dzhWwYNWQOs\n",
    "https://www.youtube.com/watch?v=bQzIQa5YKvw \n",
    "https://www.youtube.com/watch?v=q22uHBl9qxw&ab_channel=Dreamy\n",
    "https://www.youtube.com/watch?v=gqfHkH3W4lQ&ab_channel=MorningLightMusic\n",
    "https://www.youtube.com/watch?v=ikvSxMtRwnE\n",
    "https://www.youtube.com/watch?v=wt8nzHv9Gn8\n",
    "https://www.youtube.com/watch?v=Z4GWph9Sl4s&ab_channel=StudyQuotes\n",
    "https://www.youtube.com/watch?v=o22uGQ-efQg\n",
    "https://www.youtube.com/watch?v=0uoc-FiwMD4&ab_channel=AShamaluevMusic\n",
    "https://www.youtube.com/watch?v=OVlA9UOlSlM&ab_channel=NSAT\n",
    "https://www.youtube.com/watch?v=2X2bBnI-kwE&ab_channel=MusicforVideoLibrary\n",
    "https://www.youtube.com/watch?v=ogS_MELUhsc&ab_channel=MusicforVideoLibrary\n",
    "https://www.youtube.com/watch?v=gvADzrWBqiM\n",
    "https://www.youtube.com/watch?v=2B2oV_ZLigs\n",
    "https://www.youtube.com/watch?v=rFdy1Gnubxg&ab_channel=AlecKoff-BackgroundMusic\n",
    "https://www.youtube.com/watch?v=1HG7mutC4eM&ab_channel=AlecKoff-BackgroundMusic\n",
    "https://www.youtube.com/watch?v=Zb-z82-eeyU&ab_channel=CrazyTunes\n",
    "https://www.youtube.com/watch?v=fBhQzaeU5jo\n",
    "https://www.youtube.com/watch?v=lX1cvOsyzmw&ab_channel=BluezoneCorporation\n",
    "https://www.youtube.com/watch?v=Gt0ajtBAiGo&ab_channel=BluezoneCorporation\n",
    "https://www.youtube.com/watch?v=3AXENeFFvAg&ab_channel=BluezoneCorporation\n",
    "https://www.youtube.com/watch?v=896eFuYsPjM&ab_channel=BerlinAtmospheres\n",
    "https://www.youtube.com/watch?v=Veg_2Nr30NI&ab_channel=soundfxlibrary\n",
    "https://www.youtube.com/watch?v=mlLGwW7eHTI&ab_channel=InstrumentalHalloweenMusic\n",
    "https://www.youtube.com/watch?v=70HCGgKog_U&ab_channel=StardivaMusic\n",
    "https://www.youtube.com/watch?v=-zvQoPyY2XE&ab_channel=MattiaCupelli\n",
    "https://www.youtube.com/watch?v=ZOrxwqvfD2E&ab_channel=RossBugden\n",
    "https://www.youtube.com/watch?v=VmcociyH0d8&ab_channel=FesliyanStudiosBackgroundMusic\n",
    "https://www.youtube.com/watch?v=2OD13fA9Qu0&ab_channel=RealPublic\n",
    "https://www.youtube.com/watch?v=eTz6Qp7QE_c&ab_channel=ArgsoundBackgroundMusic\n",
    "https://www.youtube.com/watch?v=3V-pYCGx0C4&ab_channel=Uniq\n",
    "https://www.youtube.com/watch?v=wP8_mhRkkfc&ab_channel=InnerPeace\n",
    "https://www.youtube.com/watch?v=i5jLt1rTL5k&ab_channel=HorrorMusicWorld\n",
    "https://www.youtube.com/watch?v=i5jLt1rTL5k&ab_channel=HorrorMusicWorld\n",
    "https://www.youtube.com/watch?v=1B3KuVYg6M0&ab_channel=yamiForever\n",
    "https://www.youtube.com/watch?v=GvEhk0lRsE0&ab_channel=HorrorMusicWorld\n",
    "https://www.youtube.com/watch?v=yl1Ez0Q2Q9U&ab_channel=TiesHoppezak\n",
    "https://www.youtube.com/watch?v=B1TFVS23z7g&ab_channel=DemonzNight\n",
    "https://www.youtube.com/watch?v=u9WsZoceais&ab_channel=RyanCreep\n",
    "https://www.youtube.com/watch?v=1pOQ6QDTTKk&ab_channel=LucasKing\n",
    "https://www.youtube.com/watch?v=gfG9aJzFPd4&ab_channel=PeterGundry%7CComposer\n",
    "https://www.youtube.com/watch?v=s8SrerotCV8&ab_channel=AShamaluevMusic\n",
    "https://www.youtube.com/watch?v=TboWOSW7qCI&ab_channel=MusicforVideoLibrary\n",
    "https://www.youtube.com/watch?v=nm1xhj47kpc&ab_channel=MusicforVideoLibrary\n",
    "https://www.youtube.com/watch?v=LSfgnfxhXqk&ab_channel=MusicforVideoLibrary\n",
    "https://www.youtube.com/watch?v=ecmtTCeM-gY&ab_channel=MusicforVideoLibrary\n",
    "https://www.youtube.com/watch?v=h7pHrj2j6Q8&ab_channel=ExpertMusicforbusiness\n",
    "https://www.youtube.com/watch?v=85VrVOBtRzY&ab_channel=VersusMusicOfficial\n",
    "https://www.youtube.com/watch?v=_ECYYb5PNfs&ab_channel=SarahSchachner-Topic\n",
    "https://www.youtube.com/watch?v=12GJ1BZxKwc&ab_channel=ConCall\n",
    "https://www.youtube.com/watch?v=rHTinEcgLn0&ab_channel=SFXandGFX\n",
    "https://www.youtube.com/watch?v=RoLWTaUg-MM&ab_channel=GeoPlutonium-IntoTech\n",
    "https://www.youtube.com/watch?v=paFOnXFjNFU&ab_channel=SoundLibrary\n",
    "https://www.youtube.com/watch?v=NK92DUyyngc&ab_channel=IsolationMusic\n",
    "https://www.youtube.com/watch?v=N2jZmXePKV0&ab_channel=SmithGear\n",
    "https://www.youtube.com/watch?v=z9OGF0rYlss&ab_channel=Artisax\n",
    "https://www.youtube.com/watch?v=2VnYXKwneUQ&ab_channel=Artisax\n",
    "https://www.youtube.com/watch?v=DZXZWmZlzLo\n",
    "https://www.youtube.com/watch?v=VqRWUdo_mA4\n",
    "https://www.youtube.com/watch?v=p_CtUCig6LQ\n",
    "https://www.youtube.com/watch?v=3in_nnFCV2c\n",
    "https://www.youtube.com/watch?v=-ZNcb0NcJ_I\n",
    "https://www.youtube.com/watch?v=WWcDt_-xJ7I\n",
    "https://www.youtube.com/watch?v=uIFFF8p11Hk\n",
    "https://www.youtube.com/watch?v=uyog-y5IOAg\n",
    "https://www.youtube.com/watch?v=zMvCfm_AjYo\n",
    "https://www.youtube.com/watch?v=SzPwubvotx0\n",
    "https://www.youtube.com/watch?v=fh-o8Bxc3Ys\n",
    "https://www.youtube.com/watch?v=k9jpEaj2yM0\n",
    "https://www.youtube.com/watch?v=lb4orZYrTYk\n",
    "https://www.youtube.com/watch?v=YGSelD1TZWY\n",
    "https://www.youtube.com/watch?v=vUb-9wuU-7M\n",
    "https://www.youtube.com/watch?v=Smv4MrBtgWs\n",
    "https://www.youtube.com/watch?v=ZOJ-MaV_Heg\n",
    "https://www.youtube.com/watch?v=XXmONTtpfDk\n",
    "https://www.youtube.com/watch?v=2biM-6Szd3g\n",
    "https://www.youtube.com/watch?v=xQE-aWZ8HJQ\n",
    "https://www.youtube.com/watch?v=w-DE8oUiBn8&ab_channel=WaveToys-BackgroundMusicForVideos\n",
    "https://www.youtube.com/watch?v=TWJIJmZEMXc\n",
    "https://www.youtube.com/watch?v=BXeq713R444\n",
    "https://www.youtube.com/watch?v=iYVO5bUFww0&ab_channel=HollywoodLaughTracks\n",
    "https://www.youtube.com/results?search_query=laughing+track\n",
    "https://www.youtube.com/watch?v=Q6H_2BTlWeQ&ab_channel=LeoMacaraeg\n",
    "https://www.youtube.com/watch?v=q69-VePqZRQ\n",
    "https://www.youtube.com/watch?v=ZXeESiPskyw\n",
    "https://www.youtube.com/watch?v=BOdLmxy06H0&ab_channel=DuffThePsych\n",
    "https://www.youtube.com/watch?v=IJQdnHT3MCA&ab_channel=EpidemicAmbience\n",
    "https://www.youtube.com/watch?v=UuEMaRgAtZM&ab_channel=FrivolousFoxASMR\n",
    "https://www.youtube.com/watch?v=mLld3JVwxew&ab_channel=FreeSoundEffects\n",
    "https://www.youtube.com/watch?v=2STdV_KGkpc\n",
    "https://www.youtube.com/watch?v=diosuXDwcg0\n",
    "https://www.youtube.com/watch?v=HsXdvP8rSIo&ab_channel=HrithikBabaJugadi\n",
    "https://www.youtube.com/watch?v=qKHyhAKiPSY&ab_channel=AeroX\n",
    "https://www.youtube.com/watch?v=abfRfox10VM&ab_channel=Simtorius\n",
    "https://www.youtube.com/watch?v=-raRRursUG0&ab_channel=SecretStore1912\n",
    "https://www.youtube.com/watch?v=RQcLIm-s75U\n",
    "https://www.youtube.com/watch?v=Ft-lJyu_nuY\n",
    "https://www.youtube.com/watch?v=JCIfDCxakPE\n",
    "https://www.youtube.com/watch?v=Mckcmh-OU5M\n",
    "https://www.youtube.com/watch?v=gbVpNqiR0YA&ab_channel=EpicMusicWorld\n",
    "https://www.youtube.com/watch?v=GHSX1lBVDEY&ab_channel=EpicMusicWorld\n",
    "https://www.youtube.com/watch?v=n3VSKnl99Fo&ab_channel=PremiumMusicHQ\n",
    "https://www.youtube.com/watch?v=9O4_awEHh1g&ab_channel=FreyaMusic\n",
    "https://www.youtube.com/watch?v=78cyA-aGaKc&ab_channel=Amemos-Ambience\n",
    "https://www.youtube.com/watch?v=YB9K1C8Ybzk&ab_channel=ItzEntoX\n",
    "https://www.youtube.com/watch?v=ZPsaP6prCos&ab_channel=SJBeats\n",
    "https://www.youtube.com/watch?v=jGEvVxplz8s&ab_channel=SJBeats\n",
    "https://www.youtube.com/watch?v=R341OIjwb_I&ab_channel=7evenEDM\n",
    "https://www.youtube.com/watch?v=KZiSp66SgSo&ab_channel=7evenEDM\n",
    "https://www.youtube.com/watch?v=9O4_awEHh1g&t=24s&ab_channel=FreyaMusic\n",
    "https://www.youtube.com/watch?v=1pAnxsrpV-k&ab_channel=7evenEDM\n",
    "https://www.youtube.com/watch?v=052zvUHXTKg&ab_channel=CloudxMusic\n",
    "https://www.youtube.com/watch?v=Czf3anzzUjo&ab_channel=LeighamMagee\n",
    "https://www.youtube.com/watch?v=WjfFh2CfIK4&ab_channel=evasiess\n",
    "https://www.youtube.com/watch?v=774yYi-0Ta8&ab_channel=CyrelleLana\n",
    "https://www.youtube.com/watch?v=I9Egyq91XlM&ab_channel=MFCC\n",
    "https://www.youtube.com/watch?v=EtZ2m2Zm3vY&ab_channel=LuKremBo\n",
    "https://www.youtube.com/watch?v=kvsFXQFCYbY&ab_channel=MorningLightMusic\n",
    "https://www.youtube.com/watch?v=uE-TADy-oN0&ab_channel=MorningLightMusic\n",
    "https://www.youtube.com/watch?v=cVA-9JHwbFY&ab_channel=VlogNoCopyrightMusic\n",
    "https://www.youtube.com/watch?v=kyEIjLm-Evo&ab_channel=CyrelleLana\n",
    "https://www.youtube.com/watch?v=DaTmAZLXB9c&ab_channel=co%27stv\n",
    "https://www.youtube.com/watch?v=HTi17aDs3zQ&ab_channel=RADAR\n",
    "https://www.youtube.com/watch?v=ddwIfoo0VOA\n",
    "https://www.youtube.com/watch?v=9f4cUx8Dgmw\n",
    "https://www.youtube.com/watch?v=Tfjl7KA9X6c&ab_channel=ChilloutMix\n",
    "https://www.youtube.com/watch?v=DHbKZliVlX4&ab_channel=TikTokeri\n",
    "https://www.youtube.com/watch?v=b9VMm6L476M\n",
    "https://www.youtube.com/watch?v=WQC7oCDpB7U\n",
    "https://www.youtube.com/watch?v=YOJsKatW-Ts&ab_channel=thebootlegboy\n",
    "https://www.youtube.com/watch?v=3gX-v6OC2Eo&ab_channel=BagasVirgo\n",
    "https://www.youtube.com/watch?v=XN41UJ7EZ4E&ab_channel=Andrela-Chxn\n",
    "https://www.youtube.com/watch?v=EJew8Mvgau0&ab_channel=HomeworkRadio\n",
    "\"\"\""
   ]
  },
  {
   "cell_type": "code",
   "execution_count": 11,
   "metadata": {},
   "outputs": [],
   "source": [
    "videos = list(set(filter(None, videos.split('\\n'))))"
   ]
  },
  {
   "cell_type": "code",
   "execution_count": 3,
   "metadata": {},
   "outputs": [],
   "source": [
    "!cp ../youtube/mp.py ."
   ]
  },
  {
   "cell_type": "code",
   "execution_count": 4,
   "metadata": {},
   "outputs": [],
   "source": [
    "import youtube_dl"
   ]
  },
  {
   "cell_type": "code",
   "execution_count": 5,
   "metadata": {},
   "outputs": [],
   "source": [
    "import mp\n",
    "from tqdm import tqdm\n",
    "\n",
    "def loop(urls):\n",
    "    urls = urls[0]\n",
    "    ydl_opts = {\n",
    "        'format': 'bestaudio/best',\n",
    "        'postprocessors': [{\n",
    "            'key': 'FFmpegExtractAudio',\n",
    "            'preferredcodec': 'mp3',\n",
    "            'preferredquality': '192',\n",
    "        }],\n",
    "        'no-check-certificate': True\n",
    "    }\n",
    "\n",
    "    for i in tqdm(range(len(urls))):\n",
    "        try:\n",
    "            with youtube_dl.YoutubeDL(ydl_opts) as ydl:\n",
    "                ydl.download([urls[i]])\n",
    "        except:\n",
    "            pass"
   ]
  },
  {
   "cell_type": "code",
   "execution_count": 13,
   "metadata": {},
   "outputs": [
    {
     "name": "stderr",
     "output_type": "stream",
     "text": [
      "  0%|          | 0/6 [00:00<?, ?it/s]"
     ]
    },
    {
     "name": "stdout",
     "output_type": "stream",
     "text": [
      "[youtube] ecmtTCeM-gY: Downloading webpage\n",
      "[youtube] wt8nzHv9Gn8: Downloading webpage\n",
      "[youtube] nm1xhj47kpc: Downloading webpage\n",
      "[youtube] 2VnYXKwneUQ: Downloading webpage\n",
      "[youtube] SSqgaFE9igo: Downloading webpage\n",
      "[youtube] k9jpEaj2yM0: Downloading webpage\n",
      "[youtube] 12GJ1BZxKwc: Downloading webpage\n",
      "[youtube] GvEhk0lRsE0: Downloading webpage\n",
      "[youtube] p1IChPfD2-s: Downloading webpage\n",
      "[youtube] uE-TADy-oN0: Downloading webpage\n",
      "[youtube] abfRfox10VM: Downloading webpage\n",
      "[youtube] 3gX-v6OC2Eo: Downloading webpage\n",
      "[youtube] gfG9aJzFPd4: Downloading webpage\n",
      "[youtube] DZXZWmZlzLo: Downloading webpage\n",
      "[youtube] gbVpNqiR0YA: Downloading webpage\n",
      "[youtube] dzhWwYNWQOs: Downloading webpage\n",
      "[youtube] 2B2oV_ZLigs: Downloading webpage\n",
      "[youtube] jw7qC2aPfos: Downloading webpage\n",
      "[youtube] vUb-9wuU-7M: Downloading webpage\n",
      "[youtube] -raRRursUG0: Downloading webpage\n",
      "[youtube] gvADzrWBqiM: Downloading webpage\n",
      "[youtube] 78cyA-aGaKc: Downloading webpage\n",
      "[youtube] yl1Ez0Q2Q9U: Downloading webpage\n",
      "[youtube] n3VSKnl99Fo: Downloading webpage\n",
      "[youtube] fh-o8Bxc3Ys: Downloading webpage\n",
      "[youtube] 12GJ1BZxKwc: Downloading MPD manifest\n",
      "[youtube] nm1xhj47kpc: Downloading MPD manifest\n",
      "[youtube] k9jpEaj2yM0: Downloading MPD manifest\n",
      "[youtube] GvEhk0lRsE0: Downloading js player 00510e67\n",
      "[youtube] ecmtTCeM-gY: Downloading MPD manifest\n",
      "[dashsegments] Total fragments: 2\n",
      "[download] Destination: Phone Ringing-12GJ1BZxKwc.webm\n",
      "[download] 100.0% of ~116.19KiB at 12.26MiB/s ETA 00:00:05[download] Destination: Sound Every 2000s Kids Remember part2-2VnYXKwneUQ.webm\n",
      "[download] 100% of 116.19KiB in 00:00\n",
      "[download]   5.3% of 2.36MiB at 14.01MiB/s ETA 00:003[ffmpeg] Destination: Phone Ringing-12GJ1BZxKwc.mp3\n",
      "[download]  21.2% of 2.36MiB at 18.16MiB/s ETA 00:00[youtube] 3gX-v6OC2Eo: Downloading js player 00510e67\n",
      "[download] Destination: Cool Motivating Background Music for Sports & Workout Videos-wt8nzHv9Gn8.webm\n",
      "[download]   0.1% of 1.67MiB at 624.43KiB/s ETA 00:02[youtube] abfRfox10VM: Downloading MPD manifest\n",
      "[download]  14.9% of 1.67MiB at  7.70MiB/s ETA 00:001[youtube] dzhWwYNWQOs: Downloading js player 00510e67\n",
      "[download] 100.0% of 2.36MiB at 19.75MiB/s ETA 00:00[youtube] 78cyA-aGaKc: Downloading js player 00510e67\n",
      "[download] 100% of 2.36MiB in 00:00\n",
      "[ffmpeg] Destination: Sound Every 2000s Kids Remember part2-2VnYXKwneUQ.mp3\n",
      "[download] 100% of 1.67MiB in 00:0037MiB/s ETA 00:00\n",
      "[youtube] GvEhk0lRsE0: Downloading js player 00510e67\n",
      "[ffmpeg] Destination: Cool Motivating Background Music for Sports & Workout Videos-wt8nzHv9Gn8.mp3\n",
      "[download] Destination: Upbeat Music - Happy Music Beats to Relax, Work, Study-p1IChPfD2-s.webm\n",
      "[download]   0.0% of 112.14MiB at  1.44MiB/s ETA 01:181[youtube] -raRRursUG0: Downloading MPD manifest\n",
      "[download]   0.1% of 112.14MiB at  6.14MiB/s ETA 00:18[youtube] n3VSKnl99Fo: Downloading js player 00510e67\n",
      "[download]   0.1% of 112.14MiB at  9.39MiB/s ETA 00:11[download] Destination: Cool Energetic Rock Background Music For Videos-vUb-9wuU-7M.webm\n",
      "[download]   1.5% of 1.97MiB at  3.70MiB/s ETA 00:0027Deleting original file Phone Ringing-12GJ1BZxKwc.webm (pass -k to keep)\n",
      "[download]   0.4% of 112.14MiB at 19.90MiB/s ETA 00:05"
     ]
    },
    {
     "name": "stderr",
     "output_type": "stream",
     "text": [
      "\r",
      " 17%|█▋        | 1/6 [00:01<00:05,  1.17s/it]"
     ]
    },
    {
     "name": "stdout",
     "output_type": "stream",
     "text": [
      "[download] Destination: Upbeat and Happy Pop Background Music For Videos-uE-TADy-oN0.webm\n",
      "[download]   0.1% of 12.09MiB at  2.39MiB/s ETA 00:053[youtube] jw7qC2aPfos: Downloading js player 00510e67\n",
      "[download]   0.3% of 12.09MiB at  2.74MiB/s ETA 00:04[youtube] gbVpNqiR0YA: Downloading js player 00510e67\n",
      "[download]   0.9% of 112.14MiB at 22.27MiB/s ETA 00:04[dashsegments] Total fragments: 19\n",
      "[download] Destination: NO COPYRIGHT Business Background Music _ Instrumental Presentation Music No Copyright _ MUSIC4VIDEO-nm1xhj47kpc.webm\n",
      "[download]   0.5% of 12.09MiB at  2.60MiB/s ETA 00:04[youtube] SzPwubvotx0: Downloading webpage\n",
      "[download] Destination: Inspiring and Uplifting Background Music For Videos & Presentations-SSqgaFE9igo.webm\n",
      "[download]   0.0% of 2.10MiB at 69.56KiB/s ETA 00:30[dashsegments] Total fragments: 18\n",
      "[download]   0.1% of 2.10MiB at 189.73KiB/s ETA 00:11[download] Destination: NO COPYRIGHT Corporate Presentation Background Music _ Business Event Music Free Copyright-ecmtTCeM-gY.webm\n",
      "[download]   0.3% of 2.10MiB at 410.88KiB/s ETA 00:05[download] Destination: Background music for news intro - 'Breaking News' _ news sound _ news music royalty-free track-2B2oV_ZLigs.webm\n",
      "[download]   3.0% of 2.05MiB at  2.66MiB/s ETA 00:002[download] Destination: Best of Romantic Cinematic Background Music _ Beautiful Love Music Instrumental - by AShamaluevMusic-DZXZWmZlzLo.webm\n",
      "[download]   0.0% of 14.85MiB at 978.15KiB/s ETA 00:15"
     ]
    },
    {
     "name": "stderr",
     "output_type": "stream",
     "text": [
      "ERROR: fh-o8Bxc3Ys: YouTube said: Unable to extract video data\n"
     ]
    },
    {
     "name": "stdout",
     "output_type": "stream",
     "text": [
      "\r",
      "[download]   0.0% of 14.85MiB at  1.57MiB/s ETA 00:09"
     ]
    },
    {
     "name": "stderr",
     "output_type": "stream",
     "text": [
      "\r",
      " 17%|█▋        | 1/6 [00:01<00:06,  1.23s/it]"
     ]
    },
    {
     "name": "stdout",
     "output_type": "stream",
     "text": [
      "[download]  12.2% of 2.05MiB at  5.33MiB/s ETA 00:005[download] Destination: Halloween sound effect 2017-yl1Ez0Q2Q9U.webm\n",
      "[download]   0.0% of 52.31MiB at 128.09KiB/s ETA 06:58[dashsegments] Total fragments: 25\n",
      "[download]   0.0% of 52.31MiB at 280.72KiB/s ETA 03:10[download] Destination: Heavy Metal Rock Background Music [M4C Release]-k9jpEaj2yM0.webm\n",
      "[download]   5.9% of 2.10MiB at  1.97MiB/s ETA 00:010:01[youtube] XXmONTtpfDk: Downloading webpage\n",
      "[download]   1.8% of 112.14MiB at 14.84MiB/s ETA 00:07[youtube] gvADzrWBqiM: Downloading MPD manifest\n",
      "[download]  10.8% of ~2.18MiB at  2.21MiB/s ETA 00:022[dashsegments] Total fragments: 26\n",
      "[download] Destination: POPULAR MEME CLIPS FOR YOUR YOUTUBE VIDEO EDITING (NO COPYRIGHT)-abfRfox10VM.webm\n",
      "[download]  47.6% of 2.10MiB at  3.01MiB/s ETA 00:001[dashsegments] Total fragments: 33\n",
      "[download] Destination: Popular Video Memes (2) For Editing _ NO COPYRIGHT & NO WATERMARK _ SS 1912--raRRursUG0.webm\n",
      "[download] 100% of 2.10MiB in 00:0017MiB/s ETA 00:0011\n",
      "[download]  31.6% of ~2.65MiB at  4.65MiB/s ETA 00:01[ffmpeg] Destination: Inspiring and Uplifting Background Music For Videos & Presentations-SSqgaFE9igo.mp3\n",
      "[download] 100% of 1.97MiB in 00:0056MiB/s ETA 00:002\n",
      "[ffmpeg] Destination: Cool Energetic Rock Background Music For Videos-vUb-9wuU-7M.mp3\n",
      "[download]  36.8% of ~2.72MiB at  7.66MiB/s ETA 00:00[dashsegments] Total fragments: 12\n",
      "[download]  36.8% of ~2.72MiB at  7.66MiB/s ETA 00:00[download] Destination: NO COPYRIGHT TV Broadcast Background Music _ News Background Music Free Copyright by MUSIC4VIDEO-gvADzrWBqiM.webm\n",
      "[download] 100% of 2.05MiB in 00:00.29MiB/s ETA 00:001\n",
      "[download]  38.3% of ~2.78MiB at  4.96MiB/s ETA 00:00[ffmpeg] Destination: Background music for news intro - 'Breaking News' _ news sound _ news music royalty-free track-2B2oV_ZLigs.mp3\n",
      "[download]   5.6% of ~4.68KiB at Unknown speed ETA 00:15wn ETA[download] Destination: 25 Melhores Musicas no Violão Instrumental Para Ouvir e Relaxar - Solos de violão 2020 [FINGERSTYLE]-dzhWwYNWQOs.webm\n",
      "[download]   0.0% of 102.54MiB at  1.35MiB/s ETA 01:1516[download] Destination: Gustixa Full Album _ Lo-fi Remix-3gX-v6OC2Eo.webm\n",
      "[download]   0.0% of 102.54MiB at  3.37MiB/s ETA 00:3016[download] Destination: THERE IS A HERO IN US _ Epic Music Mix-gbVpNqiR0YA.webm\n",
      "[download]   0.0% of 83.94MiB at 407.41KiB/s ETA 03:32[download] Destination: Mike Posner - I Took A Pill In Ibiza (Instrumental Remix)-jw7qC2aPfos.webm\n",
      "[download]   3.0% of ~8.57KiB at Unknown speed ETA 00:19[download] Destination: Dramatic Background Music _ Sad Cinematic Music Instrumental _ Drama by AShamaluevMusic-SzPwubvotx0.webm\n",
      "[download]   0.0% of 2.64MiB at 319.83KiB/s ETA 00:08[download] Destination: Inspiring Acoustic Background Music-XXmONTtpfDk.webm\n",
      "[download]  63.0% of ~2.94MiB at  1.93MiB/s ETA 00:003[download] Destination: Dark Music - Lucifers Hymn _ Choir-gfG9aJzFPd4.webm\n",
      "[download]  66.8% of 14.85MiB at  2.63MiB/s ETA 00:017[download] Destination: Star Wars _ Lofi HipHop-78cyA-aGaKc.webm\n",
      "[download]   4.0% of ~6.32KiB at Unknown speed ETA 00:244[download] Destination: Epic Intense Scary Horror Music _ Epic Dark Hybrid Horror Music Mix-GvEhk0lRsE0.webm\n",
      "[download]   0.1% of 21.60MiB at  1.86MiB/s ETA 00:11824[download] Destination: TOGETHER WE RISE - Epic Heroic Music Mix _ Powerful Hybrid Orchestral Music-n3VSKnl99Fo.webm\n",
      "[download] 100% of 2.82MiB in 00:027.68KiB/s ETA 00:04nown ETA\n",
      "[download]  19.5% of ~3.27MiB at  1.29MiB/s ETA 00:089[ffmpeg] Destination: NO COPYRIGHT Business Background Music _ Instrumental Presentation Music No Copyright _ MUSIC4VIDEO-nm1xhj47kpc.mp3\n",
      "[download]  26.2% of ~3.69MiB at 372.30KiB/s ETA 00:06Deleting original file Cool Motivating Background Music for Sports & Workout Videos-wt8nzHv9Gn8.webm (pass -k to keep)\n"
     ]
    },
    {
     "name": "stderr",
     "output_type": "stream",
     "text": [
      "\r",
      " 17%|█▋        | 1/6 [00:03<00:19,  3.85s/it]"
     ]
    },
    {
     "name": "stdout",
     "output_type": "stream",
     "text": [
      "[download]  44.5% of ~2.70MiB at 937.79KiB/s ETA 00:03[youtube] ZXeESiPskyw: Downloading webpage\n",
      "[download] 100% of 2.64MiB in 00:0252MiB/s ETA 00:00\n",
      "[ffmpeg] Destination: Dramatic Background Music _ Sad Cinematic Music Instrumental _ Drama by AShamaluevMusic-SzPwubvotx0.mp3\n",
      "[download] 100% of 21.60MiB in 00:02.04KiB/s ETA 00:066\n",
      "[download]  30.8% of ~3.16MiB at 932.23KiB/s ETA 00:06[ffmpeg] Destination: Epic Intense Scary Horror Music _ Epic Dark Hybrid Horror Music Mix-GvEhk0lRsE0.mp3\n",
      "[download] 100% of 2.06MiB in 00:022.21KiB/s ETA 00:00\n",
      "[download]  31.6% of ~3.17MiB at 560.27KiB/s ETA 00:06[youtube] ZXeESiPskyw: Downloading MPD manifest\n",
      "[download]  35.7% of ~3.55MiB at 710.48KiB/s ETA 00:05[ffmpeg] Destination: Inspiring Acoustic Background Music-XXmONTtpfDk.mp3\n",
      "[download]  37.5% of ~3.53MiB at 469.53KiB/s ETA 00:05nown ETA[dashsegments] Total fragments: 7\n",
      "[download]  34.0% of ~3.23MiB at 30.39KiB/s ETA 00:06[download] Destination: Sound Effects Used by Youtubers _ Vloggers _ TOP-5 Popular Laughs-ZXeESiPskyw.webm\n",
      "[download] 100% of 1.62MiB in 00:03.11MiB/s ETA 00:03057\n",
      "[download]  70.9% of ~2.77MiB at  1.44MiB/s ETA 00:013[ffmpeg] Destination: NO COPYRIGHT TV Broadcast Background Music _ News Background Music Free Copyright by MUSIC4VIDEO-gvADzrWBqiM.mp3\n",
      "[download]  12.3% of 112.14MiB at 16.43MiB/s ETA 00:0500own ETADeleting original file Inspiring and Uplifting Background Music For Videos & Presentations-SSqgaFE9igo.webm (pass -k to keep)\n"
     ]
    },
    {
     "name": "stderr",
     "output_type": "stream",
     "text": [
      "\r",
      " 17%|█▋        | 1/6 [00:05<00:25,  5.17s/it]"
     ]
    },
    {
     "name": "stdout",
     "output_type": "stream",
     "text": [
      "[download]  47.7% of ~777.46KiB at 597.52KiB/s ETA 00:00[youtube] eTz6Qp7QE_c: Downloading webpage\n",
      "[download]  73.1% of ~3.31MiB at 10.63MiB/s ETA 00:01:00Deleting original file Sound Every 2000s Kids Remember part2-2VnYXKwneUQ.webm (pass -k to keep)\n",
      "[download]  57.6% of ~3.45MiB at 448.39KiB/s ETA 00:02"
     ]
    },
    {
     "name": "stderr",
     "output_type": "stream",
     "text": [
      "\r",
      " 17%|█▋        | 1/6 [00:05<00:26,  5.25s/it]"
     ]
    },
    {
     "name": "stdout",
     "output_type": "stream",
     "text": [
      "[download]  59.1% of ~3.68MiB at  1.61MiB/s ETA 00:021[youtube] gqfHkH3W4lQ: Downloading webpage\n",
      "[download]  67.0% of ~757.26KiB at 400.63KiB/s ETA 00:00Deleting original file Background music for news intro - 'Breaking News' _ news sound _ news music royalty-free track-2B2oV_ZLigs.webm (pass -k to keep)\n",
      "[download]  87.6% of 3.06MiB at 823.10KiB/s ETA 00:000Deleting original file Cool Energetic Rock Background Music For Videos-vUb-9wuU-7M.webm (pass -k to keep)\n",
      "[download]  71.4% of ~757.26KiB at 600.24KiB/s ETA 00:00"
     ]
    },
    {
     "name": "stderr",
     "output_type": "stream",
     "text": [
      "\r",
      " 17%|█▋        | 1/6 [00:05<00:27,  5.49s/it]"
     ]
    },
    {
     "name": "stdout",
     "output_type": "stream",
     "text": [
      "[download]  59.9% of ~3.71MiB at 161.73KiB/s ETA 00:0200"
     ]
    },
    {
     "name": "stderr",
     "output_type": "stream",
     "text": [
      "\r",
      " 17%|█▋        | 1/6 [00:05<00:27,  5.48s/it]"
     ]
    },
    {
     "name": "stdout",
     "output_type": "stream",
     "text": [
      "[download]  87.1% of ~2.80MiB at  8.57MiB/s ETA 00:000[youtube] diosuXDwcg0: Downloading webpage\n",
      "[download]  80.7% of ~3.38MiB at  1.30MiB/s ETA 00:002[youtube] BXeq713R444: Downloading webpage\n",
      "[download] 100% of 2.08MiB in 00:0414.96KiB/s ETA 05:020\n",
      "[download]  64.0% of ~3.41MiB at 838.02KiB/s ETA 00:026[ffmpeg] Destination: Dark Music - Lucifers Hymn _ Choir-gfG9aJzFPd4.mp3\n",
      "[download] 100% of 750.83KiB in 00:0009KiB/s ETA 00:000\n",
      "[download]  94.4% of ~2.84MiB at  2.99MiB/s ETA 00:007[ffmpeg] Destination: Sound Effects Used by Youtubers _ Vloggers _ TOP-5 Popular Laughs-ZXeESiPskyw.mp3\n",
      "[download] 100% of 2.75MiB in 00:04.73MiB/s ETA 00:006\n",
      "[ffmpeg] Destination: NO COPYRIGHT Corporate Presentation Background Music _ Business Event Music Free Copyright-ecmtTCeM-gY.mp3\n",
      "[download]  73.6% of ~3.39MiB at  3.78MiB/s ETA 00:012[download] Destination: Tense Cinematic Instrumental Ambient Music _ Free Music by Argsound-eTz6Qp7QE_c.webm\n",
      "[download]  75.5% of ~3.40MiB at  8.49MiB/s ETA 00:010[youtube] diosuXDwcg0: Downloading MPD manifest\n",
      "[download]   7.3% of 3.42MiB at  3.40MiB/s ETA 00:0001[download] Destination: Epic Cinematic Background Music For Videos-gqfHkH3W4lQ.m4a\n",
      "[download] 100% of 3.06MiB in 00:04.28KiB/s ETA 00:001\n",
      "[download]  34.6% of 83.94MiB at 305.11KiB/s ETA 03:04[ffmpeg] Destination: Mike Posner - I Took A Pill In Ibiza (Instrumental Remix)-jw7qC2aPfos.mp3\n",
      "[download] 100% of 3.42MiB in 00:00.05KiB/s ETA 00:010\n",
      "[download] 100% of 3.30MiB in 00:040.70KiB/s ETA 00:01\n",
      "[download]  81.8% of ~3.39MiB at 997.10KiB/s ETA 00:01[ffmpeg] Destination: Tense Cinematic Instrumental Ambient Music _ Free Music by Argsound-eTz6Qp7QE_c.mp3\n",
      "[ffmpeg] Destination: POPULAR MEME CLIPS FOR YOUR YOUTUBE VIDEO EDITING (NO COPYRIGHT)-abfRfox10VM.mp3\n",
      "[download]  35.2% of 83.94MiB at  1.54MiB/s ETA 00:351[dashsegments] Total fragments: 14\n",
      "[download] Destination: People Talking at Party Sound Effect-diosuXDwcg0.m4a\n",
      "[download] 100% of 1.93MiB in 00:0099MiB/s ETA 00:0000\n",
      "[ffmpeg] Correcting container in \"Epic Cinematic Background Music For Videos-gqfHkH3W4lQ.m4a\"\n",
      "[download]  26.4% of 112.14MiB at Unknown speed ETA Unknown ETA[ffmpeg] Destination: Epic Cinematic Background Music For Videos-gqfHkH3W4lQ.mp3\n",
      "[download]  87.8% of ~3.79MiB at  1.59MiB/s ETA 00:000[download] Destination: Funny Background Music _ Funny Music For Awkward Comedy-BXeq713R444.webm\n",
      "[download] 100% of 3.69MiB in 00:05.69MiB/s ETA 00:00187\n",
      "[download]   5.7% of ~549.24KiB at  1.03MiB/s ETA 00:09[ffmpeg] Destination: Popular Video Memes (2) For Editing _ NO COPYRIGHT & NO WATERMARK _ SS 1912--raRRursUG0.mp3\n",
      "[download] 100% of 3.69MiB in 00:05.96MiB/s ETA 00:14:03\n",
      "[download]  21.4% of ~727.54KiB at  1.11MiB/s ETA 00:02[ffmpeg] Destination: Heavy Metal Rock Background Music [M4C Release]-k9jpEaj2yM0.mp3\n",
      "[download] 100% of 2.73MiB in 00:01509.55KiB/s ETA 00:01own ETA\n",
      "[download]  13.4% of 102.54MiB at  9.97MiB/s ETA 00:08[ffmpeg] Destination: Funny Background Music _ Funny Music For Awkward Comedy-BXeq713R444.mp3\n",
      "[download]  57.1% of ~951.98KiB at  2.79MiB/s ETA 00:011Deleting original file Sound Effects Used by Youtubers _ Vloggers _ TOP-5 Popular Laughs-ZXeESiPskyw.webm (pass -k to keep)\n"
     ]
    },
    {
     "name": "stderr",
     "output_type": "stream",
     "text": [
      "\r",
      " 33%|███▎      | 2/6 [00:07<00:15,  3.89s/it]"
     ]
    },
    {
     "name": "stdout",
     "output_type": "stream",
     "text": [
      "[download]  57.8% of ~966.81KiB at  1.55MiB/s ETA 00:011[youtube] bQzIQa5YKvw: Downloading webpage\n",
      "[download]  71.4% of ~978.52KiB at  1.66MiB/s ETA 00:000Deleting original file NO COPYRIGHT TV Broadcast Background Music _ News Background Music Free Copyright by MUSIC4VIDEO-gvADzrWBqiM.webm (pass -k to keep)\n",
      "[download]  71.4% of ~978.52KiB at  1.66MiB/s ETA 00:00"
     ]
    },
    {
     "name": "stderr",
     "output_type": "stream",
     "text": [
      "\r",
      " 17%|█▋        | 1/6 [00:08<00:40,  8.05s/it]"
     ]
    },
    {
     "name": "stdout",
     "output_type": "stream",
     "text": [
      "[download]  51.1% of 37.63MiB at  4.74MiB/s ETA 00:03known ETA[youtube] xQE-aWZ8HJQ: Downloading webpage\n",
      "[download]  78.6% of ~996.70KiB at 56.95KiB/s ETA 00:000Deleting original file Inspiring Acoustic Background Music-XXmONTtpfDk.webm (pass -k to keep)\n",
      "[download]  81.0% of ~996.70KiB at 244.31KiB/s ETA 00:00"
     ]
    },
    {
     "name": "stderr",
     "output_type": "stream",
     "text": [
      "\r",
      " 33%|███▎      | 2/6 [00:08<00:11,  2.99s/it]"
     ]
    },
    {
     "name": "stdout",
     "output_type": "stream",
     "text": [
      "[download]  88.2% of 12.09MiB at  5.27MiB/s ETA 00:00:00[youtube] u9WsZoceais: Downloading webpage\n",
      "[download] 100% of 14.85MiB in 00:07.99KiB/s ETA 00:00\n",
      "[download]  96.4% of 12.09MiB at  7.70MiB/s ETA 00:00[ffmpeg] Destination: Best of Romantic Cinematic Background Music _ Beautiful Love Music Instrumental - by AShamaluevMusic-DZXZWmZlzLo.mp3\n",
      "[download] 100% of 12.09MiB in 00:0739MiB/s ETA 00:0013\n",
      "[ffmpeg] Destination: Upbeat and Happy Pop Background Music For Videos-uE-TADy-oN0.mp3\n",
      "[download]  22.9% of 102.54MiB at  8.77MiB/s ETA 00:09000[download] Destination: Chill Study Beats 6  • instrumental hip hop mix [2019]-bQzIQa5YKvw.webm\n",
      "[download] 100% of 971.06KiB in 00:02.45MiB/s ETA 00:0000\n",
      "[download]   1.6% of 61.24MiB at  9.53MiB/s ETA 00:06[ffmpeg] Correcting container in \"People Talking at Party Sound Effect-diosuXDwcg0.m4a\"\n",
      "[download]  72.3% of 37.63MiB at 13.24MiB/s ETA 00:00[download] Destination: Rock Background Music for Video [royalty-free]-xQE-aWZ8HJQ.m4a\n",
      "[download]   0.7% of 2.06MiB at  1.81MiB/s ETA 00:013Deleting original file NO COPYRIGHT Business Background Music _ Instrumental Presentation Music No Copyright _ MUSIC4VIDEO-nm1xhj47kpc.webm (pass -k to keep)\n"
     ]
    },
    {
     "name": "stderr",
     "output_type": "stream",
     "text": [
      "\r",
      " 17%|█▋        | 1/6 [00:08<00:43,  8.69s/it]"
     ]
    },
    {
     "name": "stdout",
     "output_type": "stream",
     "text": [
      "[ffmpeg] Destination: People Talking at Party Sound Effect-diosuXDwcg0.mp3\n",
      "[download]   1.5% of 2.06MiB at 954.34KiB/s ETA 00:02[youtube] NK92DUyyngc: Downloading webpage\n",
      "[download]  77.5% of 37.63MiB at  1.29MiB/s ETA 00:063[download] Destination: 'MELANCHOLIA' Music Box _Sad, creepy song-u9WsZoceais.webm\n",
      "[download] 100% of 2.06MiB in 00:0084MiB/s ETA 00:025\n",
      "[download]  11.9% of 4.20MiB at 16.67MiB/s ETA 00:00[ffmpeg] Correcting container in \"Rock Background Music for Video [royalty-free]-xQE-aWZ8HJQ.m4a\"\n",
      "[download]  23.8% of 4.20MiB at 15.78MiB/s ETA 00:005[ffmpeg] Destination: Rock Background Music for Video [royalty-free]-xQE-aWZ8HJQ.mp3\n",
      "[download]  78.5% of 37.63MiB at  1.73MiB/s ETA 00:04[download] Destination: Telephone Ringing sound Effect-NK92DUyyngc.webm\n",
      "[download] 100% of 633.17KiB in 00:0041MiB/s ETA 00:000\n",
      "[download]  16.2% of 61.24MiB at  1.44MiB/s ETA 00:35known ETA[ffmpeg] Destination: Telephone Ringing sound Effect-NK92DUyyngc.mp3\n",
      "[download] 100% of 4.20MiB in 00:0052MiB/s ETA 00:003\n",
      "[ffmpeg] Destination: 'MELANCHOLIA' Music Box _Sad, creepy song-u9WsZoceais.mp3\n",
      "[download]  17.8% of 61.24MiB at 10.83MiB/s ETA 00:043Deleting original file Dark Music - Lucifers Hymn _ Choir-gfG9aJzFPd4.webm (pass -k to keep)\n"
     ]
    },
    {
     "name": "stderr",
     "output_type": "stream",
     "text": [
      "\r",
      " 17%|█▋        | 1/6 [00:09<00:47,  9.44s/it]"
     ]
    },
    {
     "name": "stdout",
     "output_type": "stream",
     "text": [
      "[youtube] JCIfDCxakPE: Downloading webpage\n",
      "[download]  26.8% of 102.54MiB at  4.62MiB/s ETA 00:16Deleting original file People Talking at Party Sound Effect-diosuXDwcg0.m4a (pass -k to keep)\n",
      "[download]   7.5% of 123.98MiB at  1.21MiB/s ETA 01:34"
     ]
    },
    {
     "name": "stderr",
     "output_type": "stream",
     "text": [
      "\r",
      " 33%|███▎      | 2/6 [00:09<00:20,  5.14s/it]"
     ]
    },
    {
     "name": "stdout",
     "output_type": "stream",
     "text": [
      "[download]  32.4% of 61.24MiB at 18.64MiB/s ETA 00:0252[youtube] BOdLmxy06H0: Downloading webpage\n",
      "[download]  32.5% of 61.24MiB at  2.15MiB/s ETA 00:191"
     ]
    },
    {
     "name": "stderr",
     "output_type": "stream",
     "text": [
      "ERROR: JCIfDCxakPE: YouTube said: Unable to extract video data\n",
      " 33%|███▎      | 2/6 [00:09<00:27,  6.76s/it]"
     ]
    },
    {
     "name": "stdout",
     "output_type": "stream",
     "text": [
      "[download]  32.8% of 61.24MiB at  3.67MiB/s ETA 00:11[youtube] HIlG2NKnsVA: Downloading webpage\n",
      "[download]   7.9% of 123.98MiB at  1.18MiB/s ETA 01:379Deleting original file Dramatic Background Music _ Sad Cinematic Music Instrumental _ Drama by AShamaluevMusic-SzPwubvotx0.webm (pass -k to keep)\n"
     ]
    },
    {
     "name": "stderr",
     "output_type": "stream",
     "text": [
      "\r",
      " 33%|███▎      | 2/6 [00:10<00:14,  3.52s/it]"
     ]
    },
    {
     "name": "stdout",
     "output_type": "stream",
     "text": [
      "[download]   8.0% of 123.98MiB at  1.51MiB/s ETA 01:15[youtube] OVlA9UOlSlM: Downloading webpage\n",
      "Deleting original file Epic Cinematic Background Music For Videos-gqfHkH3W4lQ.m4a (pass -k to keep)\n"
     ]
    },
    {
     "name": "stderr",
     "output_type": "stream",
     "text": [
      "\r",
      " 33%|███▎      | 2/6 [00:10<00:20,  5.17s/it]"
     ]
    },
    {
     "name": "stdout",
     "output_type": "stream",
     "text": [
      "[download]   8.2% of 123.98MiB at  2.16MiB/s ETA 00:52[youtube] Ft-lJyu_nuY: Downloading webpage\n",
      "[download]  33.7% of 52.31MiB at  2.41MiB/s ETA 00:147Deleting original file NO COPYRIGHT Corporate Presentation Background Music _ Business Event Music Free Copyright-ecmtTCeM-gY.webm (pass -k to keep)\n"
     ]
    },
    {
     "name": "stderr",
     "output_type": "stream",
     "text": [
      "\r",
      " 17%|█▋        | 1/6 [00:10<00:52, 10.45s/it]"
     ]
    },
    {
     "name": "stdout",
     "output_type": "stream",
     "text": [
      "[youtube] 9O4_awEHh1g: Downloading webpage\n",
      "[download]   9.4% of 123.98MiB at  3.54MiB/s ETA 00:31"
     ]
    },
    {
     "name": "stderr",
     "output_type": "stream",
     "text": [
      "ERROR: Ft-lJyu_nuY: YouTube said: Unable to extract video data\n",
      " 50%|█████     | 3/6 [00:10<00:11,  3.78s/it]"
     ]
    },
    {
     "name": "stdout",
     "output_type": "stream",
     "text": [
      "[download] Destination: Electronic Background Music For Studying _ Chill Out Instrumental Study Mix [Part 2]-HIlG2NKnsVA.webm\n",
      "[download]   0.0% of 129.57MiB at 741.73KiB/s ETA 02:59[youtube] WjfFh2CfIK4: Downloading webpage\n",
      "[download]   0.2% of 129.57MiB at 929.02KiB/s ETA 02:22[youtube] WjfFh2CfIK4: Downloading MPD manifest\n",
      "[download]   0.8% of 129.57MiB at  1.93MiB/s ETA 01:06[dashsegments] Total fragments: 25\n",
      "[download] Destination: chill background music for vlogs!!-WjfFh2CfIK4.webm\n",
      "[download]  57.8% of 83.94MiB at  8.32MiB/s ETA 00:04known ETA[download] Destination: Two Steps From Hell - 25 Tracks Best of All Time _ Most Powerful Epic Music Mix [Part 1]-9O4_awEHh1g.webm\n",
      "[download]  48.7% of 61.24MiB at 443.22KiB/s ETA 01:12Deleting original file Mike Posner - I Took A Pill In Ibiza (Instrumental Remix)-jw7qC2aPfos.webm (pass -k to keep)\n"
     ]
    },
    {
     "name": "stderr",
     "output_type": "stream",
     "text": [
      "\r",
      " 17%|█▋        | 1/6 [00:11<00:58, 11.70s/it]"
     ]
    },
    {
     "name": "stdout",
     "output_type": "stream",
     "text": [
      "[download]  48.9% of 61.24MiB at 751.83KiB/s ETA 00:42[youtube] N2jZmXePKV0: Downloading webpage\n",
      "[download]  29.3% of 102.54MiB at  2.60MiB/s ETA 00:27known ETA[download] Destination: News Background Music _ News Music-OVlA9UOlSlM.webm\n",
      "[download] Destination: Old Ringing Phone Sound - Old Telephone Ring Effect-N2jZmXePKV0.webm\n",
      "[download]   4.0% of ~6.49KiB at 10.25KiB/s ETA 00:22[download] Destination: One Hour of  HQ Coffee Shop Background Noise-BOdLmxy06H0.webm\n",
      "[download]   7.5% of 129.57MiB at  6.16MiB/s ETA 00:19Deleting original file Telephone Ringing sound Effect-NK92DUyyngc.webm (pass -k to keep)\n",
      "[download]   0.4% of 1.74MiB at 137.84KiB/s ETA 00:122"
     ]
    },
    {
     "name": "stderr",
     "output_type": "stream",
     "text": [
      "\r",
      " 33%|███▎      | 2/6 [00:12<00:28,  7.17s/it]"
     ]
    },
    {
     "name": "stdout",
     "output_type": "stream",
     "text": [
      "[download] 100% of 274.85KiB in 00:0092MiB/s ETA 00:000\n",
      "[download]   0.5% of 52.36MiB at  3.01MiB/s ETA 00:17[youtube] R341OIjwb_I: Downloading webpage\n",
      "[ffmpeg] Destination: Old Ringing Phone Sound - Old Telephone Ring Effect-N2jZmXePKV0.mp3\n",
      "[download]  17.2% of 123.98MiB at  4.62MiB/s ETA 00:2201Deleting original file Rock Background Music for Video [royalty-free]-xQE-aWZ8HJQ.m4a (pass -k to keep)\n"
     ]
    },
    {
     "name": "stderr",
     "output_type": "stream",
     "text": [
      "\r",
      " 33%|███▎      | 2/6 [00:12<00:27,  6.93s/it]"
     ]
    },
    {
     "name": "stdout",
     "output_type": "stream",
     "text": [
      "[download]   7.5% of 129.57MiB at  1.39MiB/s ETA 01:26[youtube] 774yYi-0Ta8: Downloading webpage\n",
      "[download]   7.1% of ~2.61MiB at  1.30MiB/s ETA 00:158Deleting original file Old Ringing Phone Sound - Old Telephone Ring Effect-N2jZmXePKV0.webm (pass -k to keep)\n"
     ]
    },
    {
     "name": "stderr",
     "output_type": "stream",
     "text": [
      "\r",
      " 33%|███▎      | 2/6 [00:12<00:33,  8.46s/it]"
     ]
    },
    {
     "name": "stdout",
     "output_type": "stream",
     "text": [
      "[download]   8.2% of 129.57MiB at  3.86MiB/s ETA 00:30Deleting original file Funny Background Music _ Funny Music For Awkward Comedy-BXeq713R444.webm (pass -k to keep)\n",
      "Deleting original file Tense Cinematic Instrumental Ambient Music _ Free Music by Argsound-eTz6Qp7QE_c.webm (pass -k to keep)\n",
      "[download]  10.7% of ~2.61MiB at  1.68MiB/s ETA 00:10"
     ]
    },
    {
     "name": "stderr",
     "output_type": "stream",
     "text": [
      " 33%|███▎      | 2/6 [00:12<00:23,  5.86s/it]"
     ]
    },
    {
     "name": "stdout",
     "output_type": "stream",
     "text": [
      "[youtube] YB9K1C8Ybzk: Downloading webpage\n",
      "[download]  12.0% of ~2.61MiB at  1.86MiB/s ETA 00:09[youtube] ddwIfoo0VOA: Downloading webpage\n",
      "[youtube] 1B3KuVYg6M0: Downloading webpage\n",
      "[download]  69.3% of 83.94MiB at 99.71KiB/s ETA 04:254[youtube] 774yYi-0Ta8: Downloading MPD manifest\n",
      "[download]  69.3% of 83.94MiB at 414.63KiB/s ETA 01:03Deleting original file POPULAR MEME CLIPS FOR YOUR YOUTUBE VIDEO EDITING (NO COPYRIGHT)-abfRfox10VM.webm (pass -k to keep)\n"
     ]
    },
    {
     "name": "stderr",
     "output_type": "stream",
     "text": [
      "\r",
      " 17%|█▋        | 1/6 [00:12<01:04, 12.97s/it]"
     ]
    },
    {
     "name": "stdout",
     "output_type": "stream",
     "text": [
      "[download]  69.3% of 83.94MiB at 513.86KiB/s ETA 00:51[youtube] 1pAnxsrpV-k: Downloading webpage\n",
      "[download]  19.4% of ~3.49MiB at  1.65MiB/s ETA 00:066[dashsegments] Total fragments: 38\n",
      "[download] Destination: Aesthetic_Chill Background Music (No Copyright)-774yYi-0Ta8.webm\n",
      "[download] Destination: Best Music Mix 2020♫ Best of EDM Mix ♫ Gaming Music NCS, Trap, Dubstep, DnB, Electro House-R341OIjwb_I.webm\n",
      "[download] Destination: Cool scary music-1B3KuVYg6M0.webm\n",
      "[download]  19.9% of ~3.49MiB at 203.11KiB/s ETA 00:07[download] Destination: Stranger Things C418 Remix 1 hour + BASS BOOSTED MUST WATCH!-YB9K1C8Ybzk.webm\n",
      "[download]  20.8% of ~3.49MiB at 406.14KiB/s ETA 00:06[youtube] ddwIfoo0VOA: Downloading MPD manifest\n",
      "[download]  29.4% of ~3.58MiB at  1.00MiB/s ETA 00:0597[dashsegments] Total fragments: 31\n",
      "[download] Destination: #trending tik tok background musics  _ top 10 best tik tok background musics-ddwIfoo0VOA.webm\n",
      "[download]  31.2% of ~3.58MiB at  1.33MiB/s ETA 00:044Deleting original file Heavy Metal Rock Background Music [M4C Release]-k9jpEaj2yM0.webm (pass -k to keep)\n",
      "[download]  32.0% of ~3.58MiB at  1.49MiB/s ETA 00:04"
     ]
    },
    {
     "name": "stderr",
     "output_type": "stream",
     "text": [
      "\r",
      " 17%|█▋        | 1/6 [00:13<01:07, 13.56s/it]"
     ]
    },
    {
     "name": "stdout",
     "output_type": "stream",
     "text": [
      "[youtube] XN41UJ7EZ4E: Downloading webpage\n",
      "[download] 100% of 1.74MiB in 00:036.70KiB/s ETA 00:04\n",
      "[download]  40.0% of ~3.70MiB at  1.26MiB/s ETA 00:031[ffmpeg] Destination: News Background Music _ News Music-OVlA9UOlSlM.mp3\n",
      "[download]  51.8% of ~3.83MiB at  1.53MiB/s ETA 00:0220nown ETA[download] Destination: cute lofi mix  songs to help you be happy - 寛げる [ J A P A N E S E   L O F I   F U T U R E   B A S S]-XN41UJ7EZ4E.webm\n",
      "[download] 100% of 19.48MiB in 00:1417MiB/s ETA 00:00596wn ETA\n",
      "[download]   9.7% of ~2.66MiB at  1.19MiB/s ETA 00:21[ffmpeg] Destination: TOGETHER WE RISE - Epic Heroic Music Mix _ Powerful Hybrid Orchestral Music-n3VSKnl99Fo.mp3\n",
      "[download]  30.6% of 129.57MiB at  1.26MiB/s ETA 01:11927Deleting original file 'MELANCHOLIA' Music Box _Sad, creepy song-u9WsZoceais.webm (pass -k to keep)\n"
     ]
    },
    {
     "name": "stderr",
     "output_type": "stream",
     "text": [
      "\r",
      " 50%|█████     | 3/6 [00:16<00:13,  4.51s/it]"
     ]
    },
    {
     "name": "stdout",
     "output_type": "stream",
     "text": [
      "[youtube] 1HG7mutC4eM: Downloading webpage\n",
      "[download]  55.7% of 52.31MiB at 12.21MiB/s ETA 00:0123Deleting original file News Background Music _ News Music-OVlA9UOlSlM.webm (pass -k to keep)\n",
      "[download]  36.9% of 28.40MiB at  1.83MiB/s ETA 00:09"
     ]
    },
    {
     "name": "stderr",
     "output_type": "stream",
     "text": [
      "\r",
      " 50%|█████     | 3/6 [00:16<00:13,  4.44s/it]"
     ]
    },
    {
     "name": "stdout",
     "output_type": "stream",
     "text": [
      "[download]  38.6% of 28.40MiB at  3.25MiB/s ETA 00:059[youtube] lX1cvOsyzmw: Downloading webpage\n",
      "[download] 100% of 2.50MiB in 00:03.11KiB/s ETA 00:003nown ETA\n",
      "[download]  93.7% of ~3.91MiB at 249.69KiB/s ETA 00:00[ffmpeg] Destination: Cool scary music-1B3KuVYg6M0.mp3\n",
      "[download] 100% of 3.81MiB in 00:069.22KiB/s ETA 00:00\n",
      "[download]  69.1% of 28.40MiB at  1.34MiB/s ETA 00:062[ffmpeg] Destination: chill background music for vlogs!!-WjfFh2CfIK4.mp3\n",
      "[download]  38.1% of 123.98MiB at  6.03MiB/s ETA 00:123[download] Destination: Transformers Sounds, Robot SFX, Video Game Sample Library, Robotic Assault Textured SFX-lX1cvOsyzmw.webm\n",
      "[download]  39.6% of 123.98MiB at  1.49MiB/s ETA 00:50711[download] Destination: Podcast Intro music no copyright _ Commercial background music Copyright free-1HG7mutC4eM.webm\n",
      "[download] 100% of 2.11MiB in 00:0150.56KiB/s ETA 04:21\n",
      "[download] 100% of 28.40MiB in 00:04\n",
      "[download]  64.2% of 1.56MiB at  2.26MiB/s ETA 00:00180[ffmpeg] Destination: Transformers Sounds, Robot SFX, Video Game Sample Library, Robotic Assault Textured SFX-lX1cvOsyzmw.mp3\n",
      "[ffmpeg] Destination: cute lofi mix  songs to help you be happy - 寛げる [ J A P A N E S E   L O F I   F U T U R E   B A S S]-XN41UJ7EZ4E.mp3\n",
      "[download] 100% of 1.56MiB in 00:016.75MiB/s ETA 00:10\n",
      "[download]  25.8% of ~4.01MiB at  1.55MiB/s ETA 00:15[ffmpeg] Destination: Podcast Intro music no copyright _ Commercial background music Copyright free-1HG7mutC4eM.mp3\n",
      "[download]  29.0% of ~4.17MiB at  3.74MiB/s ETA 00:13331[download] Destination: Best Music 2020 Mix ♫ Best of EDM ♫ Best Gaming Music NCS, Trap, Bass, Dubstep, DnB, House-1pAnxsrpV-k.webm\n",
      "[download]  36.8% of ~5.41MiB at 409.37KiB/s ETA 00:1344own ETADeleting original file Cool scary music-1B3KuVYg6M0.webm (pass -k to keep)\n"
     ]
    },
    {
     "name": "stderr",
     "output_type": "stream",
     "text": [
      "\r",
      " 50%|█████     | 3/6 [00:21<00:20,  6.69s/it]"
     ]
    },
    {
     "name": "stdout",
     "output_type": "stream",
     "text": [
      "[youtube] EtZ2m2Zm3vY: Downloading webpage\n",
      "[download]  54.6% of ~4.76MiB at  1.31MiB/s ETA 00:0691Deleting original file Podcast Intro music no copyright _ Commercial background music Copyright free-1HG7mutC4eM.webm (pass -k to keep)\n"
     ]
    },
    {
     "name": "stderr",
     "output_type": "stream",
     "text": [
      "\r",
      " 67%|██████▋   | 4/6 [00:21<00:09,  4.73s/it]"
     ]
    },
    {
     "name": "stdout",
     "output_type": "stream",
     "text": [
      "[download]  15.9% of 52.36MiB at 911.56KiB/s ETA 00:49[youtube] EtZ2m2Zm3vY: Downloading MPD manifest\n",
      "[download]  39.3% of ~5.54MiB at 744.58KiB/s ETA 00:13[youtube] zMvCfm_AjYo: Downloading webpage\n",
      "[download]  56.9% of 102.54MiB at  2.95MiB/s ETA 00:15known ETA[dashsegments] Total fragments: 15\n",
      "[download]  56.9% of 102.54MiB at  4.52MiB/s ETA 00:09[download] Destination: (no copyright music) lofi type beat “biscuit” _ free vlog music _ prod. by lukrembo-EtZ2m2Zm3vY.webm\n",
      "[download]  71.2% of ~4.87MiB at 25.89KiB/s ETA 00:031known ETADeleting original file Transformers Sounds, Robot SFX, Video Game Sample Library, Robotic Assault Textured SFX-lX1cvOsyzmw.webm (pass -k to keep)\n",
      "[download]  21.9% of 71.04MiB at  2.80MiB/s ETA 00:195"
     ]
    },
    {
     "name": "stderr",
     "output_type": "stream",
     "text": [
      "\r",
      " 67%|██████▋   | 4/6 [00:22<00:09,  4.85s/it]"
     ]
    },
    {
     "name": "stdout",
     "output_type": "stream",
     "text": [
      "[download]  74.2% of ~4.87MiB at  1.17MiB/s ETA 00:0303[youtube] _ECYYb5PNfs: Downloading webpage\n",
      "[download]  66.7% of ~2.49MiB at  3.74MiB/s ETA 00:008nown ETA[download] Destination: Crying Alone - Sad & Emotional Piano Song Instrumental-zMvCfm_AjYo.webm\n",
      "[download]  78.9% of ~5.83MiB at  2.55MiB/s ETA 00:025known ETADeleting original file chill background music for vlogs!!-WjfFh2CfIK4.webm (pass -k to keep)\n",
      "[download]  78.9% of ~5.83MiB at  2.55MiB/s ETA 00:02"
     ]
    },
    {
     "name": "stderr",
     "output_type": "stream",
     "text": [
      "\r",
      " 67%|██████▋   | 4/6 [00:23<00:12,  6.50s/it]"
     ]
    },
    {
     "name": "stdout",
     "output_type": "stream",
     "text": [
      "[download]  80.0% of ~2.53MiB at  2.07MiB/s ETA 00:00[youtube] NQKC24th90U: Downloading webpage\n",
      "[download] 100% of 37.63MiB in 00:22.20MiB/s ETA 00:235\n",
      "[download] 100% of 5.15MiB in 00:01.37MiB/s ETA 00:012\n",
      "[download]  90.3% of ~4.86MiB at  3.53MiB/s ETA 00:01[ffmpeg] Destination: Gustixa Full Album _ Lo-fi Remix-3gX-v6OC2Eo.mp3\n",
      "[download]  74.1% of 123.98MiB at  7.69MiB/s ETA 00:04[ffmpeg] Destination: Crying Alone - Sad & Emotional Piano Song Instrumental-zMvCfm_AjYo.mp3\n",
      "[download]  91.3% of ~4.87MiB at 997.35KiB/s ETA 00:01[youtube] NQKC24th90U: Downloading embed webpage\n",
      "[download] 100.0% of ~2.42MiB at  1.34MiB/s ETA 00:000[download] Destination: Piccadilly Circus-_ECYYb5PNfs.webm\n",
      "[download] 100% of 2.42MiB in 00:02.36KiB/s ETA 00:23\n",
      "[download]   0.3% of 4.78MiB at  1.40MiB/s ETA 00:031[ffmpeg] Destination: (no copyright music) lofi type beat “biscuit” _ free vlog music _ prod. by lukrembo-EtZ2m2Zm3vY.mp3\n",
      "[download] 100% of 4.78MiB in 00:0077MiB/s ETA 00:0000\n",
      "[ffmpeg] Destination: Piccadilly Circus-_ECYYb5PNfs.mp3\n",
      "[download] 100% of 4.81MiB in 00:11.08MiB/s ETA 00:0000\n",
      "[download]  70.9% of 61.24MiB at  7.94MiB/s ETA 00:02[ffmpeg] Destination: #trending tik tok background musics  _ top 10 best tik tok background musics-ddwIfoo0VOA.mp3\n",
      "[download]  59.6% of 112.14MiB at  6.26MiB/s ETA 00:07Deleting original file Popular Video Memes (2) For Editing _ NO COPYRIGHT & NO WATERMARK _ SS 1912--raRRursUG0.webm (pass -k to keep)\n"
     ]
    },
    {
     "name": "stderr",
     "output_type": "stream",
     "text": [
      "\r",
      " 17%|█▋        | 1/6 [00:24<02:04, 24.97s/it]"
     ]
    },
    {
     "name": "stdout",
     "output_type": "stream",
     "text": [
      "[download]  76.0% of 102.54MiB at  8.56MiB/s ETA 00:02known ETA[youtube] ikvSxMtRwnE: Downloading webpage\n",
      "[download] Destination: Light Music - soft, uplifting, work, focus-NQKC24th90U.webm\n",
      "[download] 100% of 5.83MiB in 00:112.14KiB/s ETA 00:00known ETA\n",
      "[ffmpeg] Destination: Aesthetic_Chill Background Music (No Copyright)-774yYi-0Ta8.mp3\n",
      "[download]  33.8% of 57.35MiB at 578.39KiB/s ETA 01:078[download] Destination: Inspirational Cinematic Background Music _ Ambient Piano Instrumental - by AShamaluevMusic-ikvSxMtRwnE.webm\n",
      "[download] 100% of 102.54MiB in 00:2636MiB/s ETA 00:00known ETA\n",
      "[download]  61.1% of 74.15MiB at 839.48KiB/s ETA 00:35[ffmpeg] Destination: 25 Melhores Musicas no Violão Instrumental Para Ouvir e Relaxar - Solos de violão 2020 [FINGERSTYLE]-dzhWwYNWQOs.mp3\n",
      "[download] 100% of 3.00MiB in 00:0281MiB/s ETA 00:0025nown ETA\n",
      "[download]  81.4% of 83.94MiB at  9.26MiB/s ETA 00:01[ffmpeg] Destination: Inspirational Cinematic Background Music _ Ambient Piano Instrumental - by AShamaluevMusic-ikvSxMtRwnE.mp3\n",
      "[download]  27.8% of 74.67MiB at  3.54MiB/s ETA 00:154nown ETADeleting original file (no copyright music) lofi type beat “biscuit” _ free vlog music _ prod. by lukrembo-EtZ2m2Zm3vY.webm (pass -k to keep)\n"
     ]
    },
    {
     "name": "stderr",
     "output_type": "stream",
     "text": [
      "\r",
      " 67%|██████▋   | 4/6 [00:28<00:13,  6.84s/it]"
     ]
    },
    {
     "name": "stdout",
     "output_type": "stream",
     "text": [
      "[youtube] YOJsKatW-Ts: Downloading webpage\n",
      "[download]  71.6% of 112.14MiB at 15.74MiB/s ETA 00:02known ETADeleting original file Upbeat and Happy Pop Background Music For Videos-uE-TADy-oN0.webm (pass -k to keep)\n"
     ]
    },
    {
     "name": "stderr",
     "output_type": "stream",
     "text": [
      "\r",
      " 17%|█▋        | 1/6 [00:28<02:23, 28.67s/it]"
     ]
    },
    {
     "name": "stdout",
     "output_type": "stream",
     "text": [
      "[download]   9.6% of 82.99MiB at  2.18MiB/s ETA 00:34[youtube] mlLGwW7eHTI: Downloading webpage\n",
      "[download] 100% of 83.94MiB in 00:2759MiB/s ETA 00:006known ETA\n",
      "[download]  78.6% of 112.14MiB at  3.13MiB/s ETA 00:07[ffmpeg] Destination: THERE IS A HERO IN US _ Epic Music Mix-gbVpNqiR0YA.mp3\n",
      "[download] Destination: RAINING IN ＯＳＡＫＡ (Lofi HipHop)-YOJsKatW-Ts.webm\n",
      "[download]  79.2% of 112.14MiB at  4.41MiB/s ETA 00:05[download] Destination: 3 Hours of Scary, Ominous & Creepy Horror Music _ Instrumental Halloween Music-mlLGwW7eHTI.webm\n",
      "[download] 100% of 17.76MiB in 00:0326MiB/s ETA 00:0030own ETA\n",
      "[download]  68.3% of 129.57MiB at  2.68MiB/s ETA 00:15[ffmpeg] Destination: RAINING IN ＯＳＡＫＡ (Lofi HipHop)-YOJsKatW-Ts.mp3\n",
      "[download]  68.7% of 129.57MiB at  3.93MiB/s ETA 00:10Deleting original file Crying Alone - Sad & Emotional Piano Song Instrumental-zMvCfm_AjYo.webm (pass -k to keep)\n"
     ]
    },
    {
     "name": "stderr",
     "output_type": "stream",
     "text": [
      "\r",
      " 83%|████████▎ | 5/6 [00:32<00:06,  6.49s/it]"
     ]
    },
    {
     "name": "stdout",
     "output_type": "stream",
     "text": [
      "[youtube] rhV_DIoebmU: Downloading webpage\n",
      "[download]  80.9% of 61.24MiB at  4.85MiB/s ETA 00:02044own ETA[download] Destination: Background Music for Vlogs I Happy, Upbeat & Perfect I No Copyright Music-rhV_DIoebmU.webm\n",
      "[download]   0.8% of 63.27MiB at  1.41MiB/s ETA 00:440Deleting original file Best of Romantic Cinematic Background Music _ Beautiful Love Music Instrumental - by AShamaluevMusic-DZXZWmZlzLo.webm (pass -k to keep)\n"
     ]
    },
    {
     "name": "stderr",
     "output_type": "stream",
     "text": [
      "\r",
      " 17%|█▋        | 1/6 [00:33<02:47, 33.42s/it]"
     ]
    },
    {
     "name": "stdout",
     "output_type": "stream",
     "text": [
      "[download]  64.5% of 74.15MiB at 664.85KiB/s ETA 00:40[youtube] Czf3anzzUjo: Downloading webpage\n",
      "[download]  33.1% of 82.99MiB at  7.01MiB/s ETA 00:07Deleting original file Inspirational Cinematic Background Music _ Ambient Piano Instrumental - by AShamaluevMusic-ikvSxMtRwnE.webm (pass -k to keep)\n"
     ]
    },
    {
     "name": "stderr",
     "output_type": "stream",
     "text": [
      "\r",
      " 33%|███▎      | 2/6 [00:33<01:20, 20.06s/it]"
     ]
    },
    {
     "name": "stdout",
     "output_type": "stream",
     "text": [
      "[youtube] Z4GWph9Sl4s: Downloading webpage\n",
      "[download]  65.6% of 74.67MiB at  3.92MiB/s ETA 00:06known ETADeleting original file Piccadilly Circus-_ECYYb5PNfs.webm (pass -k to keep)\n",
      "[download]  65.7% of 74.67MiB at  2.28MiB/s ETA 00:11"
     ]
    },
    {
     "name": "stderr",
     "output_type": "stream",
     "text": [
      "\r",
      " 83%|████████▎ | 5/6 [00:33<00:06,  6.76s/it]"
     ]
    },
    {
     "name": "stdout",
     "output_type": "stream",
     "text": [
      "[download]  65.8% of 74.67MiB at  2.16MiB/s ETA 00:114[youtube] DaTmAZLXB9c: Downloading webpage\n",
      "[download]   3.2% of 63.27MiB at  1.97MiB/s ETA 00:311nown ETADeleting original file #trending tik tok background musics  _ top 10 best tik tok background musics-ddwIfoo0VOA.webm (pass -k to keep)\n",
      "[download]  93.2% of 52.31MiB at  1.03MiB/s ETA 00:034"
     ]
    },
    {
     "name": "stderr",
     "output_type": "stream",
     "text": [
      "\r",
      " 50%|█████     | 3/6 [00:34<00:31, 10.61s/it]"
     ]
    },
    {
     "name": "stdout",
     "output_type": "stream",
     "text": [
      "[download]  93.3% of 52.31MiB at  1.31MiB/s ETA 00:02[youtube] Veg_2Nr30NI: Downloading webpage\n",
      "[download]  37.6% of 82.99MiB at  6.13MiB/s ETA 00:082[download] Destination: Music for Vlogs #1 (Non-Copyrighted Songs)-Czf3anzzUjo.webm\n",
      "[download]  96.1% of 61.24MiB at 481.91KiB/s ETA 00:05[youtube] DaTmAZLXB9c: Downloading MPD manifest\n",
      "[download]  96.8% of 61.24MiB at 928.56KiB/s ETA 00:02[youtube] Veg_2Nr30NI: Downloading MPD manifest\n",
      "[download]  65.4% of 74.15MiB at 650.31KiB/s ETA 00:40[dashsegments] Total fragments: 374\n",
      "[download] Destination: 1 hour background music _ music for vloggers no copyright-DaTmAZLXB9c.webm\n",
      "[download]  82.4% of 12.01MiB at 13.12MiB/s ETA 00:00known ETA[dashsegments] Total fragments: 28\n",
      "[download] Destination: Robotic Sound Effect-Veg_2Nr30NI.webm\n",
      "[download] 100% of 61.24MiB in 00:2621MiB/s ETA 00:0053:49\n",
      "[download]  96.9% of 52.31MiB at  1.49MiB/s ETA 00:01[ffmpeg] Destination: Chill Study Beats 6  • instrumental hip hop mix [2019]-bQzIQa5YKvw.mp3\n",
      "[download] 100% of 12.01MiB in 00:0173MiB/s ETA 00:0014\n",
      "[download]  47.2% of 82.99MiB at  1.24MiB/s ETA 00:35[ffmpeg] Destination: Music for Vlogs #1 (Non-Copyrighted Songs)-Czf3anzzUjo.mp3\n",
      "[download]  78.9% of 74.67MiB at  1.78MiB/s ETA 00:08known ETA[download] Destination: Electronic Background Music For Studying _ Chill Out Instrumental Study Mix [Part 3]-Z4GWph9Sl4s.webm\n",
      "[download] 100% of 52.31MiB in 00:3470MiB/s ETA 00:002292\n",
      "[download]  86.9% of 52.36MiB at  3.01MiB/s ETA 00:02[ffmpeg] Destination: Halloween sound effect 2017-yl1Ez0Q2Q9U.mp3\n",
      "[download] 100% of 123.98MiB in 00:3521MiB/s ETA 00:001\n",
      "[ffmpeg] Destination: Star Wars _ Lofi HipHop-78cyA-aGaKc.mp3\n",
      "[download] 100% of 74.67MiB in 00:25.52MiB/s ETA 01:33known ETA\n",
      "[download]  16.9% of 171.52MiB at  2.25MiB/s ETA 01:03Deleting original file Aesthetic_Chill Background Music (No Copyright)-774yYi-0Ta8.webm (pass -k to keep)\n",
      "[download]  16.9% of 171.52MiB at  6.24MiB/s ETA 00:22"
     ]
    },
    {
     "name": "stderr",
     "output_type": "stream",
     "text": [
      "\r",
      " 50%|█████     | 3/6 [00:38<00:37, 12.63s/it]"
     ]
    },
    {
     "name": "stdout",
     "output_type": "stream",
     "text": [
      "[download]  16.9% of 171.52MiB at  9.18MiB/s ETA 00:15[ffmpeg] Destination: Best Music Mix 2020♫ Best of EDM Mix ♫ Gaming Music NCS, Trap, Dubstep, DnB, Electro House-R341OIjwb_I.mp3\n",
      "[download]  17.2% of 171.52MiB at 14.30MiB/s ETA 00:09[youtube] TWJIJmZEMXc: Downloading webpage\n",
      "[download]  67.8% of 57.35MiB at  1.91MiB/s ETA 00:09known ETAA[download] Destination: Rock Background Music Instrumental-TWJIJmZEMXc.webm\n",
      "[download] 100% of 1.37MiB in 00:012.15MiB/s ETA 01:3914\n",
      "[download]   5.3% of ~68.08MiB at  3.16MiB/s ETA 01:37[ffmpeg] Destination: Rock Background Music Instrumental-TWJIJmZEMXc.mp3\n",
      "[download] 100% of 57.35MiB in 00:2862MiB/s ETA 00:0013\n",
      "[download]   7.6% of ~69.22MiB at  7.10MiB/s ETA 01:234[ffmpeg] Destination: Stranger Things C418 Remix 1 hour + BASS BOOSTED MUST WATCH!-YB9K1C8Ybzk.mp3\n",
      "[download] 100% of 4.03MiB in 00:06.44MiB/s ETA 00:0004own ETA\n",
      "[ffmpeg] Destination: Robotic Sound Effect-Veg_2Nr30NI.mp3\n",
      "[download] 100% of 52.36MiB in 00:3103MiB/s ETA 00:1239\n",
      "[download]   9.1% of ~69.24MiB at  4.07MiB/s ETA 01:134[ffmpeg] Destination: One Hour of  HQ Coffee Shop Background Noise-BOdLmxy06H0.mp3\n",
      "[download]  10.2% of ~69.67MiB at 314.50KiB/s ETA 01:11Deleting original file Rock Background Music Instrumental-TWJIJmZEMXc.webm (pass -k to keep)\n",
      "[download]  10.2% of ~69.67MiB at  1.19MiB/s ETA 01:111"
     ]
    },
    {
     "name": "stderr",
     "output_type": "stream",
     "text": [
      "\r",
      " 67%|██████▋   | 4/6 [00:42<00:20, 10.25s/it]"
     ]
    },
    {
     "name": "stdout",
     "output_type": "stream",
     "text": [
      "[download]  57.3% of 82.99MiB at  1.10MiB/s ETA 00:326Deleting original file Epic Intense Scary Horror Music _ Epic Dark Hybrid Horror Music Mix-GvEhk0lRsE0.webm (pass -k to keep)\n"
     ]
    },
    {
     "name": "stderr",
     "output_type": "stream",
     "text": [
      "\r",
      " 17%|█▋        | 1/6 [00:43<03:35, 43.04s/it]"
     ]
    },
    {
     "name": "stdout",
     "output_type": "stream",
     "text": [
      "[download]  68.7% of 71.04MiB at  1.53MiB/s ETA 00:14[youtube] uyog-y5IOAg: Downloading webpage\n",
      "[download]  10.4% of ~69.67MiB at  1.89MiB/s ETA 01:101[youtube] GHSX1lBVDEY: Downloading webpage\n",
      "[download] 100% of 74.15MiB in 00:325.55KiB/s ETA 01:12nown ETA\n",
      "[download]  11.7% of ~69.96MiB at 859.30KiB/s ETA 01:11[ffmpeg] Destination: Two Steps From Hell - 25 Tracks Best of All Time _ Most Powerful Epic Music Mix [Part 1]-9O4_awEHh1g.mp3\n",
      "[download] 100% of 63.27MiB in 00:1171MiB/s ETA 00:00920\n",
      "[download]  83.9% of 129.57MiB at  1.60MiB/s ETA 00:13[ffmpeg] Destination: Background Music for Vlogs I Happy, Upbeat & Perfect I No Copyright Music-rhV_DIoebmU.mp3\n",
      "[download] 100% of 71.04MiB in 00:3041MiB/s ETA 00:002known ETA\n",
      "[download]  27.3% of 108.50MiB at 694.19KiB/s ETA 01:57[ffmpeg] Destination: Best Music 2020 Mix ♫ Best of EDM ♫ Best Gaming Music NCS, Trap, Bass, Dubstep, DnB, House-1pAnxsrpV-k.mp3\n",
      "[download]  13.4% of ~70.06MiB at 887.60KiB/s ETA 01:12[download] Destination: Sad Background Music - No Copyright - Free To Use-uyog-y5IOAg.webm\n",
      "[download] 100% of 112.14MiB in 00:4542KiB/s ETA 01:14\n",
      "[download]  13.6% of ~70.17MiB at  1.21MiB/s ETA 01:123[ffmpeg] Destination: Upbeat Music - Happy Music Beats to Relax, Work, Study-p1IChPfD2-s.mp3\n",
      "[download] 100% of 3.70MiB in 00:0066MiB/s ETA 00:00263\n",
      "[download]  13.8% of ~70.18MiB at  1.25MiB/s ETA 01:12[ffmpeg] Destination: Sad Background Music - No Copyright - Free To Use-uyog-y5IOAg.mp3\n",
      "[download]  14.2% of ~70.12MiB at 10.98KiB/s ETA 01:12nown ETA[download] Destination: World's Most Heroic Emotional Music _ by Sky Mubs-GHSX1lBVDEY.webm\n",
      "[download] 100% of 7.33MiB in 00:011.59MiB/s ETA 01:0404own ETA\n",
      "[download]  38.2% of 108.50MiB at  4.56MiB/s ETA 00:14[ffmpeg] Destination: World's Most Heroic Emotional Music _ by Sky Mubs-GHSX1lBVDEY.mp3\n",
      "[download]  19.8% of ~70.50MiB at  5.16MiB/s ETA 00:578nown ETADeleting original file Robotic Sound Effect-Veg_2Nr30NI.webm (pass -k to keep)\n"
     ]
    },
    {
     "name": "stderr",
     "output_type": "stream",
     "text": [
      "\r",
      " 67%|██████▋   | 4/6 [00:49<00:23, 11.97s/it]"
     ]
    },
    {
     "name": "stdout",
     "output_type": "stream",
     "text": [
      "[download]  90.5% of 129.57MiB at Unknown speed ETA Unknown ETA[youtube] b9VMm6L476M: Downloading webpage\n",
      "[download] 100% of 82.99MiB in 00:24.95MiB/s ETA 00:577\n",
      "[download]  20.2% of ~70.33MiB at  4.04MiB/s ETA 00:57[ffmpeg] Destination: Light Music - soft, uplifting, work, focus-NQKC24th90U.mp3\n",
      "[download]  22.0% of ~70.57MiB at  6.10MiB/s ETA 00:523nown ETA[download] Destination: ❁ aesthetic songs ❁ ruined by tiktok-b9VMm6L476M.webm\n",
      "[download]  25.1% of ~70.59MiB at 10.52MiB/s ETA 00:478nown ETADeleting original file TOGETHER WE RISE - Epic Heroic Music Mix _ Powerful Hybrid Orchestral Music-n3VSKnl99Fo.webm (pass -k to keep)\n"
     ]
    },
    {
     "name": "stderr",
     "output_type": "stream",
     "text": [
      "\r",
      " 17%|█▋        | 1/6 [00:50<04:14, 50.82s/it]"
     ]
    },
    {
     "name": "stdout",
     "output_type": "stream",
     "text": [
      "[download]  25.4% of ~70.66MiB at 13.15MiB/s ETA 00:46[youtube] -ZNcb0NcJ_I: Downloading webpage\n",
      "[download] 100% of 19.23MiB in 00:0196MiB/s ETA 00:0067\n",
      "[ffmpeg] Destination: ❁ aesthetic songs ❁ ruined by tiktok-b9VMm6L476M.mp3\n",
      "[download] 100% of 129.57MiB in 00:4033MiB/s ETA 00:004nown ETA\n",
      "[download]  27.1% of ~70.72MiB at  1.33MiB/s ETA 00:44[ffmpeg] Destination: Electronic Background Music For Studying _ Chill Out Instrumental Study Mix [Part 2]-HIlG2NKnsVA.mp3\n",
      "[download]  28.3% of ~70.59MiB at  6.77MiB/s ETA 00:42known ETA[download] Destination: Romantic Background Music _ Beautiful Piano and Orchestral Music _ Loveliness by AShamaluevMusic--ZNcb0NcJ_I.webm\n",
      "[download] 100% of 3.62MiB in 00:0026MiB/s ETA 00:004141\n",
      "[download]  29.7% of ~70.76MiB at  2.47MiB/s ETA 00:40[ffmpeg] Destination: Romantic Background Music _ Beautiful Piano and Orchestral Music _ Loveliness by AShamaluevMusic--ZNcb0NcJ_I.mp3\n",
      "[download] 100% of 171.52MiB in 00:2397MiB/s ETA 00:008nown ETA\n",
      "[download]  32.1% of ~70.73MiB at  5.34MiB/s ETA 00:37[ffmpeg] Destination: 3 Hours of Scary, Ominous & Creepy Horror Music _ Instrumental Halloween Music-mlLGwW7eHTI.mp3\n",
      "[download]  33.9% of ~70.83MiB at 14.37MiB/s ETA 00:35Deleting original file Sad Background Music - No Copyright - Free To Use-uyog-y5IOAg.webm (pass -k to keep)\n"
     ]
    },
    {
     "name": "stderr",
     "output_type": "stream",
     "text": [
      "\r",
      " 83%|████████▎ | 5/6 [00:53<00:10, 10.19s/it]"
     ]
    },
    {
     "name": "stdout",
     "output_type": "stream",
     "text": [
      "[download]  67.0% of 108.50MiB at 10.83MiB/s ETA 00:03[youtube] MU0Yp0qmYEs: Downloading webpage\n",
      "[download]  36.9% of ~70.76MiB at  5.74MiB/s ETA 00:322nown ETA[download] Destination: Most Happy Background Music For Videos-MU0Yp0qmYEs.webm\n",
      "[download] 100% of 2.24MiB in 00:0013MiB/s ETA 00:00322\n",
      "[download]  37.2% of ~70.87MiB at  1.78MiB/s ETA 00:32[ffmpeg] Destination: Most Happy Background Music For Videos-MU0Yp0qmYEs.mp3\n",
      "[download] 100% of 108.50MiB in 00:1960MiB/s ETA 00:00known ETA\n",
      "[download]  42.3% of ~70.88MiB at  3.64MiB/s ETA 00:27[ffmpeg] Destination: Electronic Background Music For Studying _ Chill Out Instrumental Study Mix [Part 3]-Z4GWph9Sl4s.mp3\n",
      "[download]  60.7% of ~71.00MiB at  5.76MiB/s ETA 00:145Deleting original file Music for Vlogs #1 (Non-Copyrighted Songs)-Czf3anzzUjo.webm (pass -k to keep)\n",
      "[download]  60.8% of ~71.00MiB at 15.01MiB/s ETA 00:14"
     ]
    },
    {
     "name": "stderr",
     "output_type": "stream",
     "text": [
      "\r",
      " 33%|███▎      | 2/6 [00:57<02:02, 30.51s/it]"
     ]
    },
    {
     "name": "stdout",
     "output_type": "stream",
     "text": [
      "[download]  61.2% of ~71.03MiB at 18.64MiB/s ETA 00:14[youtube] lb4orZYrTYk: Downloading webpage\n",
      "[download]  66.0% of ~71.03MiB at 16.43MiB/s ETA 00:11[download] Destination: Upbeat Energetic Background Music For Sports and Workout Videos-lb4orZYrTYk.webm\n",
      "[download] 100% of 2.06MiB in 00:008.00KiB/s ETA 00:11\n",
      "[download]  67.1% of ~71.06MiB at  1.06MiB/s ETA 00:111[ffmpeg] Destination: Upbeat Energetic Background Music For Sports and Workout Videos-lb4orZYrTYk.mp3\n",
      "[download]  78.1% of ~71.06MiB at  2.20MiB/s ETA 00:067Deleting original file Most Happy Background Music For Videos-MU0Yp0qmYEs.webm (pass -k to keep)\n",
      "[download]  78.1% of ~71.06MiB at  3.79MiB/s ETA 00:06"
     ]
    },
    {
     "name": "stderr",
     "output_type": "stream",
     "text": [
      "\r",
      "100%|██████████| 6/6 [00:59<00:00,  9.02s/it]"
     ]
    },
    {
     "name": "stdout",
     "output_type": "stream",
     "text": [
      "\r",
      "[download]  78.1% of ~71.06MiB at  4.62MiB/s ETA 00:06"
     ]
    },
    {
     "name": "stderr",
     "output_type": "stream",
     "text": [
      "\r",
      "100%|██████████| 6/6 [00:59<00:00,  9.89s/it]"
     ]
    },
    {
     "name": "stdout",
     "output_type": "stream",
     "text": [
      "\r",
      "[download]  78.2% of ~71.06MiB at  7.70MiB/s ETA 00:06"
     ]
    },
    {
     "name": "stderr",
     "output_type": "stream",
     "text": [
      "\n"
     ]
    },
    {
     "name": "stdout",
     "output_type": "stream",
     "text": [
      "\r",
      "[download]  78.3% of ~71.06MiB at 12.95MiB/s ETA 00:06"
     ]
    },
    {
     "name": "stderr",
     "output_type": "stream",
     "text": [
      "\r",
      "  0%|          | 0/5 [00:00<?, ?it/s]"
     ]
    },
    {
     "name": "stdout",
     "output_type": "stream",
     "text": [
      "[download]  78.6% of ~71.08MiB at 19.74MiB/s ETA 00:06[youtube] 1gKs4pIaJHs: Downloading webpage\n",
      "[download]  80.2% of ~71.03MiB at 17.56MiB/s ETA 00:06Deleting original file Romantic Background Music _ Beautiful Piano and Orchestral Music _ Loveliness by AShamaluevMusic--ZNcb0NcJ_I.webm (pass -k to keep)\n"
     ]
    },
    {
     "name": "stderr",
     "output_type": "stream",
     "text": [
      "\r",
      " 33%|███▎      | 2/6 [00:59<02:32, 38.20s/it]"
     ]
    },
    {
     "name": "stdout",
     "output_type": "stream",
     "text": [
      "[download]  80.5% of ~71.02MiB at 17.14MiB/s ETA 00:05[youtube] paFOnXFjNFU: Downloading webpage\n",
      "[download]  84.0% of ~71.03MiB at  5.73MiB/s ETA 00:04[youtube] paFOnXFjNFU: Downloading MPD manifest\n",
      "[download]  84.3% of ~71.03MiB at  4.67MiB/s ETA 00:04[dashsegments] Total fragments: 5\n",
      "[download] Destination: Phone Internal Ringing_Calling - Sound Effect for editing-paFOnXFjNFU.webm\n",
      "[download]  84.3% of ~71.03MiB at 590.32KiB/s ETA 00:04[download] Destination: Top 10 background music _ most popular on YouTube _ No copyright songs _ Part - 1-1gKs4pIaJHs.webm\n",
      "[download] 100% of 575.44KiB in 00:0010MiB/s ETA 00:040014\n",
      "[ffmpeg] Destination: Phone Internal Ringing_Calling - Sound Effect for editing-paFOnXFjNFU.mp3\n",
      "[download] 100% of 5.37MiB in 00:0028MiB/s ETA 00:00044\n",
      "[download]  85.8% of ~71.09MiB at  5.33MiB/s ETA 00:04[ffmpeg] Destination: Top 10 background music _ most popular on YouTube _ No copyright songs _ Part - 1-1gKs4pIaJHs.mp3\n",
      "[download]  94.9% of ~71.12MiB at 17.23MiB/s ETA 00:01Deleting original file Phone Internal Ringing_Calling - Sound Effect for editing-paFOnXFjNFU.webm (pass -k to keep)\n"
     ]
    },
    {
     "name": "stderr",
     "output_type": "stream",
     "text": [
      "\r",
      " 50%|█████     | 3/6 [01:01<01:21, 27.32s/it]"
     ]
    },
    {
     "name": "stdout",
     "output_type": "stream",
     "text": [
      "[download]  95.2% of ~71.12MiB at 16.92MiB/s ETA 00:01[youtube] 896eFuYsPjM: Downloading webpage\n",
      "[download]  99.5% of ~71.11MiB at  5.39MiB/s ETA 00:000[download] Destination: Robot Arm SOUND EFFECT - Roboter Arm Hydraulics SOUNDS-896eFuYsPjM.m4a\n",
      "[download] 100% of 172.16KiB in 00:0003MiB/s ETA 00:000\n",
      "[download] 100% of 70.96MiB in 00:27.57MiB/s ETA 00:00\n",
      "[ffmpeg] Correcting container in \"Robot Arm SOUND EFFECT - Roboter Arm Hydraulics SOUNDS-896eFuYsPjM.m4a\"\n",
      "[ffmpeg] Destination: 1 hour background music _ music for vloggers no copyright-DaTmAZLXB9c.mp3\n",
      "[ffmpeg] Destination: Robot Arm SOUND EFFECT - Roboter Arm Hydraulics SOUNDS-896eFuYsPjM.mp3\n",
      "Deleting original file Robot Arm SOUND EFFECT - Roboter Arm Hydraulics SOUNDS-896eFuYsPjM.m4a (pass -k to keep)\n"
     ]
    },
    {
     "name": "stderr",
     "output_type": "stream",
     "text": [
      "\r",
      " 67%|██████▋   | 4/6 [01:02<00:38, 19.41s/it]"
     ]
    },
    {
     "name": "stdout",
     "output_type": "stream",
     "text": [
      "[youtube] o22uGQ-efQg: Downloading webpage\n",
      "[download] Destination: Positive Tropical Vibes - Happy Music Beats to Relax, Work, Study-o22uGQ-efQg.webm\n",
      "[download]   9.0% of 119.23MiB at 14.11MiB/s ETA 00:07known ETADeleting original file World's Most Heroic Emotional Music _ by Sky Mubs-GHSX1lBVDEY.webm (pass -k to keep)\n"
     ]
    },
    {
     "name": "stderr",
     "output_type": "stream",
     "text": [
      "\r",
      " 33%|███▎      | 2/6 [01:03<02:25, 36.28s/it]"
     ]
    },
    {
     "name": "stdout",
     "output_type": "stream",
     "text": [
      "[download]   9.8% of 119.23MiB at 19.42MiB/s ETA 00:05[youtube] ogS_MELUhsc: Downloading webpage\n",
      "[download]  19.6% of 119.23MiB at 28.25MiB/s ETA 00:03known ETA[youtube] ogS_MELUhsc: Downloading MPD manifest\n",
      "[download]  26.3% of 119.23MiB at 24.35MiB/s ETA 00:03known ETA[dashsegments] Total fragments: 11\n",
      "[download] Destination: NO COPYRIGHT News Intro Music _ Breaking News Background Music Free Copyright by MUSIC4VIDEO-ogS_MELUhsc.webm\n",
      "[download]  90.9% of ~1.66MiB at  4.54MiB/s ETA 00:000known ETADeleting original file Upbeat Energetic Background Music For Sports and Workout Videos-lb4orZYrTYk.webm (pass -k to keep)\n"
     ]
    },
    {
     "name": "stderr",
     "output_type": "stream",
     "text": [
      "\r",
      " 50%|█████     | 3/6 [01:04<01:10, 23.65s/it]"
     ]
    },
    {
     "name": "stdout",
     "output_type": "stream",
     "text": [
      "[download] 100% of 1.57MiB in 00:00.29MiB/s ETA 00:000\n",
      "[youtube] TboWOSW7qCI: Downloading webpage\n",
      "[ffmpeg] Destination: NO COPYRIGHT News Intro Music _ Breaking News Background Music Free Copyright by MUSIC4VIDEO-ogS_MELUhsc.mp3\n",
      "[download]  44.4% of 119.23MiB at 34.56MiB/s ETA 00:01known ETA[download] Destination: NO COPYRIGHT Business Background Music _ Copyright Free Corporate Promo Music Background MUSIC4VIDEO-TboWOSW7qCI.webm\n",
      "[download] 100% of 1.64MiB in 00:0014MiB/s ETA 00:0004known ETA\n",
      "[download]  50.2% of 119.23MiB at 14.64MiB/s ETA 00:04[ffmpeg] Destination: NO COPYRIGHT Business Background Music _ Copyright Free Corporate Promo Music Background MUSIC4VIDEO-TboWOSW7qCI.mp3\n",
      "[download]  85.4% of 119.23MiB at 14.31MiB/s ETA 00:014nown ETADeleting original file RAINING IN ＯＳＡＫＡ (Lofi HipHop)-YOJsKatW-Ts.webm (pass -k to keep)\n"
     ]
    },
    {
     "name": "stderr",
     "output_type": "stream",
     "text": [
      "\r",
      " 83%|████████▎ | 5/6 [01:07<00:16, 16.47s/it]"
     ]
    },
    {
     "name": "stdout",
     "output_type": "stream",
     "text": [
      "[youtube:search_url] laughing track: Downloading webpage\n",
      "[download]  93.7% of 119.23MiB at 19.73MiB/s ETA 00:00known ETA[download] Downloading playlist: laughing track\n",
      "[youtube:search_url] playlist laughing track: Downloading 0 videos\n",
      "[download] Finished downloading playlist: laughing track\n"
     ]
    },
    {
     "name": "stderr",
     "output_type": "stream",
     "text": [
      "100%|██████████| 6/6 [01:07<00:00, 11.31s/it]\n"
     ]
    },
    {
     "name": "stdout",
     "output_type": "stream",
     "text": [
      "Deleting original file NO COPYRIGHT News Intro Music _ Breaking News Background Music Free Copyright by MUSIC4VIDEO-ogS_MELUhsc.webm (pass -k to keep)\n",
      "[download]  97.1% of 119.23MiB at 15.47MiB/s ETA 00:00"
     ]
    },
    {
     "name": "stderr",
     "output_type": "stream",
     "text": [
      "\r",
      " 50%|█████     | 3/6 [01:08<01:20, 26.77s/it]"
     ]
    },
    {
     "name": "stdout",
     "output_type": "stream",
     "text": [
      "[youtube] 0uoc-FiwMD4: Downloading webpage\n",
      "[download] 100% of 119.23MiB in 00:0553MiB/s ETA 00:00known ETA\n",
      "[ffmpeg] Destination: Positive Tropical Vibes - Happy Music Beats to Relax, Work, Study-o22uGQ-efQg.mp3\n",
      "[download] Destination: (No Copyright) News Background Music For Videos, TV and Radio - by AShamaluevMusic-0uoc-FiwMD4.webm\n",
      "[download] 100% of 2.79MiB in 00:0045MiB/s ETA 00:003\n",
      "[ffmpeg] Destination: (No Copyright) News Background Music For Videos, TV and Radio - by AShamaluevMusic-0uoc-FiwMD4.mp3\n",
      "Deleting original file NO COPYRIGHT Business Background Music _ Copyright Free Corporate Promo Music Background MUSIC4VIDEO-TboWOSW7qCI.webm (pass -k to keep)\n"
     ]
    },
    {
     "name": "stderr",
     "output_type": "stream",
     "text": [
      "\r",
      " 67%|██████▋   | 4/6 [01:09<00:35, 17.97s/it]"
     ]
    },
    {
     "name": "stdout",
     "output_type": "stream",
     "text": [
      "[youtube] uIFFF8p11Hk: Downloading webpage\n",
      "[download] Destination: Best of Sad Cinematic Background Music _ Emotional Dramatic Music Instrumental - by AShamaluevMusic-uIFFF8p11Hk.webm\n",
      "[download] 100% of 16.38MiB in 00:0045MiB/s ETA 00:00known ETA\n",
      "[ffmpeg] Destination: Best of Sad Cinematic Background Music _ Emotional Dramatic Music Instrumental - by AShamaluevMusic-uIFFF8p11Hk.mp3\n",
      "Deleting original file Top 10 background music _ most popular on YouTube _ No copyright songs _ Part - 1-1gKs4pIaJHs.webm (pass -k to keep)\n"
     ]
    },
    {
     "name": "stderr",
     "output_type": "stream",
     "text": [
      "\r",
      " 20%|██        | 1/5 [00:13<00:55, 13.83s/it]"
     ]
    },
    {
     "name": "stdout",
     "output_type": "stream",
     "text": [
      "[youtube] HTi17aDs3zQ: Downloading webpage\n",
      "[download] Destination: #trending tik tok background musics _ top 7 best tik tok background musics _ download now-HTi17aDs3zQ.webm\n",
      "[download] 100% of 3.84MiB in 00:0022MiB/s ETA 00:005\n",
      "[ffmpeg] Destination: #trending tik tok background musics _ top 7 best tik tok background musics _ download now-HTi17aDs3zQ.mp3\n",
      "Deleting original file (No Copyright) News Background Music For Videos, TV and Radio - by AShamaluevMusic-0uoc-FiwMD4.webm (pass -k to keep)\n"
     ]
    },
    {
     "name": "stderr",
     "output_type": "stream",
     "text": [
      "\r",
      " 67%|██████▋   | 4/6 [01:14<00:41, 20.52s/it]"
     ]
    },
    {
     "name": "stdout",
     "output_type": "stream",
     "text": [
      "[youtube] rHTinEcgLn0: Downloading webpage\n",
      "Deleting original file cute lofi mix  songs to help you be happy - 寛げる [ J A P A N E S E   L O F I   F U T U R E   B A S S]-XN41UJ7EZ4E.webm (pass -k to keep)\n"
     ]
    },
    {
     "name": "stderr",
     "output_type": "stream",
     "text": [
      "\r",
      " 33%|███▎      | 2/6 [01:14<01:50, 27.73s/it]"
     ]
    },
    {
     "name": "stdout",
     "output_type": "stream",
     "text": [
      "[youtube] 2OD13fA9Qu0: Downloading webpage\n",
      "[download] Destination: Ear Ringing Sound Effect - Free Download HD-rHTinEcgLn0.webm\n",
      "[download] 100% of 837.99KiB in 00:0041MiB/s ETA 00:000\n",
      "[ffmpeg] Destination: Ear Ringing Sound Effect - Free Download HD-rHTinEcgLn0.mp3\n",
      "[download] Destination: Background Music - Epic Tension and Mysterious-2OD13fA9Qu0.webm\n",
      "[download]  83.6% of 14.06MiB at 28.04MiB/s ETA 00:00known ETADeleting original file Ear Ringing Sound Effect - Free Download HD-rHTinEcgLn0.webm (pass -k to keep)\n"
     ]
    },
    {
     "name": "stderr",
     "output_type": "stream",
     "text": [
      "\r",
      " 83%|████████▎ | 5/6 [01:15<00:14, 14.82s/it]"
     ]
    },
    {
     "name": "stdout",
     "output_type": "stream",
     "text": [
      "[youtube] 3V-pYCGx0C4: Downloading webpage\n",
      "[download] 100% of 14.06MiB in 00:0190MiB/s ETA 00:00\n",
      "[ffmpeg] Destination: Background Music - Epic Tension and Mysterious-2OD13fA9Qu0.mp3\n",
      "[download] Destination: Art of Silence - Dramatic _ Cinematic [Free to use]-3V-pYCGx0C4.webm\n",
      "[download] 100% of 4.54MiB in 00:0007MiB/s ETA 00:004\n",
      "[ffmpeg] Destination: Art of Silence - Dramatic _ Cinematic [Free to use]-3V-pYCGx0C4.mp3\n",
      "Deleting original file #trending tik tok background musics _ top 7 best tik tok background musics _ download now-HTi17aDs3zQ.webm (pass -k to keep)\n"
     ]
    },
    {
     "name": "stderr",
     "output_type": "stream",
     "text": [
      "\r",
      " 40%|████      | 2/5 [00:24<00:39, 13.02s/it]"
     ]
    },
    {
     "name": "stdout",
     "output_type": "stream",
     "text": [
      "[youtube] MkNeIUgNPQ8: Downloading webpage\n",
      "[download] Destination: Adventures - A Himitsu · [Free Copyright-safe Music]-MkNeIUgNPQ8.webm\n",
      "[download] 100% of 3.68MiB in 00:0040MiB/s ETA 00:004\n",
      "[ffmpeg] Destination: Adventures - A Himitsu · [Free Copyright-safe Music]-MkNeIUgNPQ8.mp3\n",
      "Deleting original file Art of Silence - Dramatic _ Cinematic [Free to use]-3V-pYCGx0C4.webm (pass -k to keep)\n"
     ]
    },
    {
     "name": "stderr",
     "output_type": "stream",
     "text": [
      "100%|██████████| 6/6 [01:26<00:00, 14.48s/it]\n"
     ]
    },
    {
     "name": "stdout",
     "output_type": "stream",
     "text": [
      "Deleting original file Gustixa Full Album _ Lo-fi Remix-3gX-v6OC2Eo.webm (pass -k to keep)\n"
     ]
    },
    {
     "name": "stderr",
     "output_type": "stream",
     "text": [
      "\r",
      " 17%|█▋        | 1/6 [01:29<07:29, 89.94s/it]"
     ]
    },
    {
     "name": "stdout",
     "output_type": "stream",
     "text": [
      "[youtube] WQC7oCDpB7U: Downloading webpage\n",
      "Deleting original file ❁ aesthetic songs ❁ ruined by tiktok-b9VMm6L476M.webm (pass -k to keep)\n"
     ]
    },
    {
     "name": "stderr",
     "output_type": "stream",
     "text": [
      "\r",
      " 83%|████████▎ | 5/6 [01:30<00:20, 20.76s/it]"
     ]
    },
    {
     "name": "stdout",
     "output_type": "stream",
     "text": [
      "[youtube] q22uHBl9qxw: Downloading webpage\n",
      "[download] Destination: TikTok 2020 - Best TikTok Music 2020 - Top 10 TikTok Songs 2020-WQC7oCDpB7U.webm\n",
      "[download]   6.6% of 30.19MiB at 10.41MiB/s ETA 00:02338"
     ]
    },
    {
     "name": "stderr",
     "output_type": "stream",
     "text": [
      "ERROR: q22uHBl9qxw: YouTube said: Unable to extract video data\n",
      "100%|██████████| 6/6 [01:30<00:00, 15.16s/it]\n"
     ]
    },
    {
     "name": "stdout",
     "output_type": "stream",
     "text": [
      "[download] 100% of 30.19MiB in 00:0190MiB/s ETA 00:00known ETA\n",
      "[ffmpeg] Destination: TikTok 2020 - Best TikTok Music 2020 - Top 10 TikTok Songs 2020-WQC7oCDpB7U.mp3\n",
      "Deleting original file Adventures - A Himitsu · [Free Copyright-safe Music]-MkNeIUgNPQ8.webm (pass -k to keep)\n"
     ]
    },
    {
     "name": "stderr",
     "output_type": "stream",
     "text": [
      "\r",
      " 60%|██████    | 3/5 [00:33<00:23, 11.70s/it]"
     ]
    },
    {
     "name": "stdout",
     "output_type": "stream",
     "text": [
      "[youtube] 85VrVOBtRzY: Downloading webpage\n",
      "[download] Destination: Modern Warfare Season 6 Lobby Music (Warzone _ Multiplayer Menu Theme) - FULL VERSION-85VrVOBtRzY.webm\n",
      "[download] 100% of 16.83MiB in 00:0071MiB/s ETA 00:00known ETA\n",
      "[ffmpeg] Destination: Modern Warfare Season 6 Lobby Music (Warzone _ Multiplayer Menu Theme) - FULL VERSION-85VrVOBtRzY.mp3\n",
      "Deleting original file Background Music - Epic Tension and Mysterious-2OD13fA9Qu0.webm (pass -k to keep)\n"
     ]
    },
    {
     "name": "stderr",
     "output_type": "stream",
     "text": [
      "\r",
      " 50%|█████     | 3/6 [01:39<01:20, 26.91s/it]"
     ]
    },
    {
     "name": "stdout",
     "output_type": "stream",
     "text": [
      "[youtube] 9O4_awEHh1g: Downloading webpage\n",
      "[download] Two Steps From Hell - 25 Tracks Best of All Time _ Most Powerful Epic Music Mix [Part 1]-9O4_awEHh1g.webm has already been downloaded\n",
      "[download] 100% of 74.15MiB\n",
      "[ffmpeg] Destination: Two Steps From Hell - 25 Tracks Best of All Time _ Most Powerful Epic Music Mix [Part 1]-9O4_awEHh1g.mp3\n",
      "Deleting original file Best of Sad Cinematic Background Music _ Emotional Dramatic Music Instrumental - by AShamaluevMusic-uIFFF8p11Hk.webm (pass -k to keep)\n"
     ]
    },
    {
     "name": "stderr",
     "output_type": "stream",
     "text": [
      "\r",
      " 83%|████████▎ | 5/6 [01:43<00:22, 22.87s/it]"
     ]
    },
    {
     "name": "stdout",
     "output_type": "stream",
     "text": [
      "[youtube] T5o_0BoTvWg: Downloading webpage\n",
      "[download] Destination: (Free) Non-Copyrighted Background Music!-T5o_0BoTvWg.webm\n",
      "[download] 100% of 13.84MiB in 00:0007MiB/s ETA 00:00known ETA\n",
      "[ffmpeg] Destination: (Free) Non-Copyrighted Background Music!-T5o_0BoTvWg.mp3\n",
      "Deleting original file Modern Warfare Season 6 Lobby Music (Warzone _ Multiplayer Menu Theme) - FULL VERSION-85VrVOBtRzY.webm (pass -k to keep)\n"
     ]
    },
    {
     "name": "stderr",
     "output_type": "stream",
     "text": [
      "\r",
      " 80%|████████  | 4/5 [01:08<00:18, 18.71s/it]"
     ]
    },
    {
     "name": "stdout",
     "output_type": "stream",
     "text": [
      "[youtube] rFdy1Gnubxg: Downloading webpage\n",
      "Deleting original file (Free) Non-Copyrighted Background Music!-T5o_0BoTvWg.webm (pass -k to keep)\n"
     ]
    },
    {
     "name": "stderr",
     "output_type": "stream",
     "text": [
      "100%|██████████| 6/6 [02:08<00:00, 21.39s/it]\n"
     ]
    },
    {
     "name": "stdout",
     "output_type": "stream",
     "text": [
      "[download] Destination: (No Copyright Music) Podcast Music _ Vlog Background Music for Video by Alec Koff-rFdy1Gnubxg.webm\n",
      "[download] 100% of 1.32MiB in 00:0051MiB/s ETA 00:001\n",
      "[ffmpeg] Destination: (No Copyright Music) Podcast Music _ Vlog Background Music for Video by Alec Koff-rFdy1Gnubxg.mp3\n",
      "Deleting original file (No Copyright Music) Podcast Music _ Vlog Background Music for Video by Alec Koff-rFdy1Gnubxg.webm (pass -k to keep)\n"
     ]
    },
    {
     "name": "stderr",
     "output_type": "stream",
     "text": [
      "100%|██████████| 5/5 [01:11<00:00, 14.39s/it]\n"
     ]
    },
    {
     "name": "stdout",
     "output_type": "stream",
     "text": [
      "Deleting original file One Hour of  HQ Coffee Shop Background Noise-BOdLmxy06H0.webm (pass -k to keep)\n"
     ]
    },
    {
     "name": "stderr",
     "output_type": "stream",
     "text": [
      "\r",
      " 50%|█████     | 3/6 [02:13<02:02, 40.83s/it]"
     ]
    },
    {
     "name": "stdout",
     "output_type": "stream",
     "text": [
      "[youtube] cVA-9JHwbFY: Downloading webpage\n",
      "[download] Destination: Ikson - New Day (Vlog No Copyright Music)-cVA-9JHwbFY.webm\n",
      "[download] 100% of 3.54MiB in 00:0008MiB/s ETA 00:003\n",
      "[ffmpeg] Destination: Ikson - New Day (Vlog No Copyright Music)-cVA-9JHwbFY.mp3\n",
      "Deleting original file Stranger Things C418 Remix 1 hour + BASS BOOSTED MUST WATCH!-YB9K1C8Ybzk.webm (pass -k to keep)\n"
     ]
    },
    {
     "name": "stderr",
     "output_type": "stream",
     "text": [
      "\r",
      " 50%|█████     | 3/6 [02:20<02:12, 44.22s/it]"
     ]
    },
    {
     "name": "stdout",
     "output_type": "stream",
     "text": [
      "[youtube] kvsFXQFCYbY: Downloading webpage\n",
      "Deleting original file Ikson - New Day (Vlog No Copyright Music)-cVA-9JHwbFY.webm (pass -k to keep)\n"
     ]
    },
    {
     "name": "stderr",
     "output_type": "stream",
     "text": [
      "\r",
      " 67%|██████▋   | 4/6 [02:20<01:00, 30.49s/it]"
     ]
    },
    {
     "name": "stdout",
     "output_type": "stream",
     "text": [
      "[youtube] 8MgA3SUwFHc: Downloading webpage\n",
      "[download] Destination: Upbeat Hip-Hop Background Music For Vlogs and YouTubers-kvsFXQFCYbY.webm\n",
      "[download] 100% of 1.29MiB in 00:0062MiB/s ETA 00:001\n",
      "[ffmpeg] Destination: Upbeat Hip-Hop Background Music For Vlogs and YouTubers-kvsFXQFCYbY.mp3\n",
      "[download] Destination: Funny Quirky Comedy (Free Download Background Music)-8MgA3SUwFHc.webm\n",
      "[download] 100% of 2.90MiB in 00:0015MiB/s ETA 00:004\n",
      "[ffmpeg] Destination: Funny Quirky Comedy (Free Download Background Music)-8MgA3SUwFHc.mp3\n",
      "Deleting original file Upbeat Hip-Hop Background Music For Vlogs and YouTubers-kvsFXQFCYbY.webm (pass -k to keep)\n"
     ]
    },
    {
     "name": "stderr",
     "output_type": "stream",
     "text": [
      "\r",
      " 67%|██████▋   | 4/6 [02:23<01:03, 31.78s/it]"
     ]
    },
    {
     "name": "stdout",
     "output_type": "stream",
     "text": [
      "[youtube] i5jLt1rTL5k: Downloading webpage\n",
      "[download] Destination: TORMENTED - Epic Intense Hybrid Horror Music Mix _ Epic Modern Horror Sound Design-i5jLt1rTL5k.webm\n",
      "[download]  31.5% of 33.83MiB at 15.76MiB/s ETA 00:01known ETADeleting original file TikTok 2020 - Best TikTok Music 2020 - Top 10 TikTok Songs 2020-WQC7oCDpB7U.webm (pass -k to keep)\n"
     ]
    },
    {
     "name": "stderr",
     "output_type": "stream",
     "text": [
      "\r",
      " 33%|███▎      | 2/6 [02:24<05:16, 79.20s/it]"
     ]
    },
    {
     "name": "stdout",
     "output_type": "stream",
     "text": [
      "[download]  34.5% of 33.83MiB at 19.98MiB/s ETA 00:01[youtube] oJnF5VxTO5g: Downloading webpage\n",
      "[download]  69.9% of 33.83MiB at 25.41MiB/s ETA 00:00known ETA[download] Destination: C H I L L V I B E S _ Chill & aesthetic music playlist-oJnF5VxTO5g.webm\n",
      "[download] 100% of 33.83MiB in 00:0118MiB/s ETA 00:00known ETA\n",
      "[ffmpeg] Destination: TORMENTED - Epic Intense Hybrid Horror Music Mix _ Epic Modern Horror Sound Design-i5jLt1rTL5k.mp3\n",
      "[download]  65.7% of 30.55MiB at  4.68MiB/s ETA 00:02known ETADeleting original file Halloween sound effect 2017-yl1Ez0Q2Q9U.webm (pass -k to keep)\n",
      "[download]  67.4% of 30.55MiB at  7.68MiB/s ETA 00:01"
     ]
    },
    {
     "name": "stderr",
     "output_type": "stream",
     "text": [
      "\r",
      " 17%|█▋        | 1/6 [02:25<12:08, 145.71s/it]"
     ]
    },
    {
     "name": "stdout",
     "output_type": "stream",
     "text": [
      "[youtube] kyEIjLm-Evo: Downloading webpage\n",
      "Deleting original file Funny Quirky Comedy (Free Download Background Music)-8MgA3SUwFHc.webm (pass -k to keep)\n",
      "[download]  70.6% of 30.55MiB at  6.60MiB/s ETA 00:01"
     ]
    },
    {
     "name": "stderr",
     "output_type": "stream",
     "text": [
      "\r",
      " 83%|████████▎ | 5/6 [02:25<00:23, 23.02s/it]"
     ]
    },
    {
     "name": "stdout",
     "output_type": "stream",
     "text": [
      "[youtube] RQcLIm-s75U: Downloading webpage\n",
      "[download]  96.7% of 30.55MiB at 16.09MiB/s ETA 00:00[download] Destination: Popular Background Music Youtubers Use!!!-kyEIjLm-Evo.webm\n",
      "[download] 100% of 30.55MiB in 00:0179MiB/s ETA 00:00known ETA\n",
      "[ffmpeg] Destination: C H I L L V I B E S _ Chill & aesthetic music playlist-oJnF5VxTO5g.mp3\n",
      "[download] 100% of 8.29MiB in 00:0090MiB/s ETA 00:00\n",
      "[ffmpeg] Destination: Popular Background Music Youtubers Use!!!-kyEIjLm-Evo.mp3\n",
      "[download] Destination: 1 hour of Ambient Fantasy Music _ Tranquil Atmospheric Ambience _ Enchanted Lands-RQcLIm-s75U.webm\n",
      "[download] 100% of 55.25MiB in 00:0214MiB/s ETA 00:00known ETA\n",
      "[ffmpeg] Destination: 1 hour of Ambient Fantasy Music _ Tranquil Atmospheric Ambience _ Enchanted Lands-RQcLIm-s75U.mp3\n",
      "Deleting original file Chill Study Beats 6  • instrumental hip hop mix [2019]-bQzIQa5YKvw.webm (pass -k to keep)\n"
     ]
    },
    {
     "name": "stderr",
     "output_type": "stream",
     "text": [
      "\r",
      " 50%|█████     | 3/6 [02:32<02:18, 46.02s/it]"
     ]
    },
    {
     "name": "stdout",
     "output_type": "stream",
     "text": [
      "[youtube] o9Phw-cJqBQ: Downloading webpage\n",
      "[download] Destination: Guitar Vibe ● lofi hiphop mix-o9Phw-cJqBQ.webm\n",
      "[download]  21.6% of 50.46MiB at 22.09MiB/s ETA 00:01known ETADeleting original file Background Music for Vlogs I Happy, Upbeat & Perfect I No Copyright Music-rhV_DIoebmU.webm (pass -k to keep)\n"
     ]
    },
    {
     "name": "stderr",
     "output_type": "stream",
     "text": [
      "100%|██████████| 6/6 [02:33<00:00, 25.54s/it]\n"
     ]
    },
    {
     "name": "stdout",
     "output_type": "stream",
     "text": [
      "[download] 100% of 50.46MiB in 00:0283MiB/s ETA 00:00known ETA\n",
      "[ffmpeg] Destination: Guitar Vibe ● lofi hiphop mix-o9Phw-cJqBQ.mp3\n",
      "Deleting original file 1 hour background music _ music for vloggers no copyright-DaTmAZLXB9c.webm (pass -k to keep)\n"
     ]
    },
    {
     "name": "stderr",
     "output_type": "stream",
     "text": [
      "100%|██████████| 6/6 [02:51<00:00, 28.59s/it]\n"
     ]
    },
    {
     "name": "stdout",
     "output_type": "stream",
     "text": [
      "Deleting original file Best Music Mix 2020♫ Best of EDM Mix ♫ Gaming Music NCS, Trap, Dubstep, DnB, Electro House-R341OIjwb_I.webm (pass -k to keep)\n"
     ]
    },
    {
     "name": "stderr",
     "output_type": "stream",
     "text": [
      "\r",
      " 50%|█████     | 3/6 [02:53<02:39, 53.30s/it]"
     ]
    },
    {
     "name": "stdout",
     "output_type": "stream",
     "text": [
      "[youtube] s8SrerotCV8: Downloading webpage\n",
      "Deleting original file Popular Background Music Youtubers Use!!!-kyEIjLm-Evo.webm (pass -k to keep)\n"
     ]
    },
    {
     "name": "stderr",
     "output_type": "stream",
     "text": [
      "\r",
      " 33%|███▎      | 2/6 [02:53<07:21, 110.27s/it]"
     ]
    },
    {
     "name": "stdout",
     "output_type": "stream",
     "text": [
      "[youtube] qycqF1CWcXg: Downloading webpage\n",
      "[download] Destination: Modern Corporate & Business Background Music _ Presentation Music Instrumental - AShamaluevMusic-s8SrerotCV8.webm\n",
      "[download]   0.7% of 9.15MiB at  5.65MiB/s ETA 00:011[download] Destination: Relaxing Background Music - relaxdaily B-Sides N°1-qycqF1CWcXg.webm\n",
      "[download] 100% of 9.15MiB in 00:0045MiB/s ETA 00:00130\n",
      "[download]   6.0% of 161.74MiB at 12.19MiB/s ETA 00:12[ffmpeg] Destination: Modern Corporate & Business Background Music _ Presentation Music Instrumental - AShamaluevMusic-s8SrerotCV8.mp3\n",
      "[download]  50.7% of 161.74MiB at 21.87MiB/s ETA 00:03known ETADeleting original file Light Music - soft, uplifting, work, focus-NQKC24th90U.webm (pass -k to keep)\n"
     ]
    },
    {
     "name": "stderr",
     "output_type": "stream",
     "text": [
      "\r",
      " 83%|████████▎ | 5/6 [02:57<00:50, 50.80s/it]"
     ]
    },
    {
     "name": "stdout",
     "output_type": "stream",
     "text": [
      "[youtube] Mckcmh-OU5M: Downloading webpage\n",
      "[download]  60.4% of 161.74MiB at 17.61MiB/s ETA 00:03known ETA[download] Destination: Cafe Sounds for Study, Coffee Shop Ambience (Lofi Hiphop, Chillhop) 4k-Mckcmh-OU5M.webm\n",
      "[download]  19.3% of 112.56MiB at 11.70MiB/s ETA 00:07known ETADeleting original file Best Music 2020 Mix ♫ Best of EDM ♫ Best Gaming Music NCS, Trap, Bass, Dubstep, DnB, House-1pAnxsrpV-k.webm (pass -k to keep)\n",
      "[download]  21.1% of 112.56MiB at 13.57MiB/s ETA 00:06"
     ]
    },
    {
     "name": "stderr",
     "output_type": "stream",
     "text": [
      "\r",
      " 33%|███▎      | 2/6 [03:00<03:56, 59.19s/it]"
     ]
    },
    {
     "name": "stdout",
     "output_type": "stream",
     "text": [
      "[youtube] w-DE8oUiBn8: Downloading webpage\n",
      "[download]  80.6% of 161.74MiB at 13.00MiB/s ETA 00:02known ETA[download] Destination: ✅ Rock Background Music For Commercial Videos-w-DE8oUiBn8.webm\n",
      "[download] 100% of 2.15MiB in 00:0075MiB/s ETA 00:002\n",
      "[ffmpeg] Destination: ✅ Rock Background Music For Commercial Videos-w-DE8oUiBn8.mp3\n",
      "[download] 100% of 161.74MiB in 00:0840MiB/s ETA 00:00known ETA\n",
      "[ffmpeg] Destination: Relaxing Background Music - relaxdaily B-Sides N°1-qycqF1CWcXg.mp3\n",
      "[download] 100% of 112.56MiB in 00:0682MiB/s ETA 00:00known ETA\n",
      "[ffmpeg] Destination: Cafe Sounds for Study, Coffee Shop Ambience (Lofi Hiphop, Chillhop) 4k-Mckcmh-OU5M.mp3\n",
      "Deleting original file ✅ Rock Background Music For Commercial Videos-w-DE8oUiBn8.webm (pass -k to keep)\n"
     ]
    },
    {
     "name": "stderr",
     "output_type": "stream",
     "text": [
      "\r",
      " 50%|█████     | 3/6 [03:04<02:08, 42.88s/it]"
     ]
    },
    {
     "name": "stdout",
     "output_type": "stream",
     "text": [
      "[youtube] 9f4cUx8Dgmw: Downloading webpage\n",
      "[download] Destination: Top 150 Trending Tiktok Songs (With Lyrics) _Tiktok-9f4cUx8Dgmw.webm\n",
      "[download]  38.0% of 35.78MiB at 24.96MiB/s ETA 00:00known ETADeleting original file THERE IS A HERO IN US _ Epic Music Mix-gbVpNqiR0YA.webm (pass -k to keep)\n"
     ]
    },
    {
     "name": "stderr",
     "output_type": "stream",
     "text": [
      "\r",
      " 17%|█▋        | 1/6 [03:05<15:29, 185.85s/it]"
     ]
    },
    {
     "name": "stdout",
     "output_type": "stream",
     "text": [
      "[youtube] I9Egyq91XlM: Downloading webpage\n",
      "[download]  81.4% of 35.78MiB at Unknown speed ETA Unknown ETA[download] Destination: ✅ Royalty Free Happy Background Music for Vlogs No Copyright-I9Egyq91XlM.webm\n",
      "[download] 100% of 2.26MiB in 00:0089MiB/s ETA 00:000\n",
      "[ffmpeg] Destination: ✅ Royalty Free Happy Background Music for Vlogs No Copyright-I9Egyq91XlM.mp3\n",
      "[download] 100% of 35.78MiB in 00:0163MiB/s ETA 00:00\n",
      "[ffmpeg] Destination: Top 150 Trending Tiktok Songs (With Lyrics) _Tiktok-9f4cUx8Dgmw.mp3\n",
      "Deleting original file Two Steps From Hell - 25 Tracks Best of All Time _ Most Powerful Epic Music Mix [Part 1]-9O4_awEHh1g.webm (pass -k to keep)\n"
     ]
    },
    {
     "name": "stderr",
     "output_type": "stream",
     "text": [
      "\r",
      " 33%|███▎      | 2/6 [03:09<04:03, 60.95s/it]"
     ]
    },
    {
     "name": "stdout",
     "output_type": "stream",
     "text": [
      "[youtube] 0cjxdNnmKNs: Downloading webpage\n",
      "Deleting original file Modern Corporate & Business Background Music _ Presentation Music Instrumental - AShamaluevMusic-s8SrerotCV8.webm (pass -k to keep)\n"
     ]
    },
    {
     "name": "stderr",
     "output_type": "stream",
     "text": [
      "\r",
      " 67%|██████▋   | 4/6 [03:09<01:24, 42.16s/it]"
     ]
    },
    {
     "name": "stdout",
     "output_type": "stream",
     "text": [
      "[youtube] 2STdV_KGkpc: Downloading webpage\n",
      "[download] Destination: Educational Background Music _ Education Background Music No Copyright-0cjxdNnmKNs.webm\n",
      "[download] 100% of 1.76MiB in 00:0068MiB/s ETA 00:002\n",
      "[ffmpeg] Destination: Educational Background Music _ Education Background Music No Copyright-0cjxdNnmKNs.mp3\n",
      "[download] Destination: Crowd SOUND EFFECT - Talking Poeple Noise Ambience Chatter sound fx-2STdV_KGkpc.m4a\n",
      "[download]  48.7% of 8.21MiB at 25.17MiB/s ETA 00:009Deleting original file ✅ Royalty Free Happy Background Music for Vlogs No Copyright-I9Egyq91XlM.webm (pass -k to keep)\n"
     ]
    },
    {
     "name": "stderr",
     "output_type": "stream",
     "text": [
      "\r",
      " 33%|███▎      | 2/6 [03:10<08:46, 131.53s/it]"
     ]
    },
    {
     "name": "stdout",
     "output_type": "stream",
     "text": [
      "[youtube] RoLWTaUg-MM: Downloading webpage\n",
      "[download] 100% of 8.21MiB in 00:0081MiB/s ETA 00:00\n",
      "[ffmpeg] Correcting container in \"Crowd SOUND EFFECT - Talking Poeple Noise Ambience Chatter sound fx-2STdV_KGkpc.m4a\"\n",
      "[ffmpeg] Destination: Crowd SOUND EFFECT - Talking Poeple Noise Ambience Chatter sound fx-2STdV_KGkpc.mp3\n",
      "[download] Destination: Facetime Sound -Ringing-RoLWTaUg-MM.m4a\n",
      "[download] 100% of 544.84KiB in 00:0041MiB/s ETA 00:000\n",
      "[ffmpeg] Correcting container in \"Facetime Sound -Ringing-RoLWTaUg-MM.m4a\"\n",
      "[ffmpeg] Destination: Facetime Sound -Ringing-RoLWTaUg-MM.mp3\n",
      "Deleting original file Facetime Sound -Ringing-RoLWTaUg-MM.m4a (pass -k to keep)\n"
     ]
    },
    {
     "name": "stderr",
     "output_type": "stream",
     "text": [
      "\r",
      " 50%|█████     | 3/6 [03:11<04:37, 92.36s/it] "
     ]
    },
    {
     "name": "stdout",
     "output_type": "stream",
     "text": [
      "[youtube] Zl7JTrJspF4: Downloading webpage\n",
      "[download] Destination: Epic Trap Background Music For Videos _ Deal by AShamaluevMusic-Zl7JTrJspF4.webm\n",
      "[download] 100% of 2.49MiB in 00:0032MiB/s ETA 00:003\n",
      "[ffmpeg] Destination: Epic Trap Background Music For Videos _ Deal by AShamaluevMusic-Zl7JTrJspF4.mp3\n",
      "Deleting original file Educational Background Music _ Education Background Music No Copyright-0cjxdNnmKNs.webm (pass -k to keep)\n"
     ]
    },
    {
     "name": "stderr",
     "output_type": "stream",
     "text": [
      "\r",
      " 50%|█████     | 3/6 [03:12<02:11, 43.73s/it]"
     ]
    },
    {
     "name": "stdout",
     "output_type": "stream",
     "text": [
      "[youtube] Jh2K1x7klcY: Downloading webpage\n",
      "[download] Destination: Cool and Inspiring Indie Rock Background Music For Videos-Jh2K1x7klcY.webm\n",
      "[download] 100% of 2.60MiB in 00:0066MiB/s ETA 00:003\n",
      "[ffmpeg] Destination: Cool and Inspiring Indie Rock Background Music For Videos-Jh2K1x7klcY.mp3\n",
      "Deleting original file Epic Trap Background Music For Videos _ Deal by AShamaluevMusic-Zl7JTrJspF4.webm (pass -k to keep)\n"
     ]
    },
    {
     "name": "stderr",
     "output_type": "stream",
     "text": [
      "\r",
      " 67%|██████▋   | 4/6 [03:16<02:12, 66.11s/it]"
     ]
    },
    {
     "name": "stdout",
     "output_type": "stream",
     "text": [
      "[youtube] WWcDt_-xJ7I: Downloading webpage\n",
      "Deleting original file 25 Melhores Musicas no Violão Instrumental Para Ouvir e Relaxar - Solos de violão 2020 [FINGERSTYLE]-dzhWwYNWQOs.webm (pass -k to keep)\n",
      "[download] Destination: Stunning Wedding Bride Entrance Music-WWcDt_-xJ7I.webm\n",
      "[download]   1.1% of 2.63MiB at  3.36MiB/s ETA 00:003"
     ]
    },
    {
     "name": "stderr",
     "output_type": "stream",
     "text": [
      "\r",
      " 17%|█▋        | 1/6 [03:17<16:25, 197.04s/it]"
     ]
    },
    {
     "name": "stdout",
     "output_type": "stream",
     "text": [
      "[download]  75.9% of 2.63MiB at 31.99MiB/s ETA 00:00[youtube] kUZTWj2Lxo0: Downloading webpage\n",
      "[download] 100% of 2.63MiB in 00:0088MiB/s ETA 00:00\n",
      "[ffmpeg] Destination: Stunning Wedding Bride Entrance Music-WWcDt_-xJ7I.mp3\n",
      "[download] Destination: Acoustic Guitar Instrumental Background Music for Videos I No Copyright Music-kUZTWj2Lxo0.webm\n",
      "[download]  36.1% of 27.96MiB at  7.13MiB/s ETA 00:02known ETADeleting original file Cool and Inspiring Indie Rock Background Music For Videos-Jh2K1x7klcY.webm (pass -k to keep)\n"
     ]
    },
    {
     "name": "stderr",
     "output_type": "stream",
     "text": [
      "\r",
      " 67%|██████▋   | 4/6 [03:18<01:04, 32.23s/it]"
     ]
    },
    {
     "name": "stdout",
     "output_type": "stream",
     "text": [
      "[download]  37.9% of 27.96MiB at 11.60MiB/s ETA 00:01[youtube] q69-VePqZRQ: Downloading webpage\n",
      "[download]  62.9% of 27.96MiB at 20.12MiB/s ETA 00:00[youtube] q69-VePqZRQ: Downloading MPD manifest\n",
      "[download]  72.8% of 27.96MiB at  5.74MiB/s ETA 00:01known ETA[dashsegments] Total fragments: 30\n",
      "[download] Destination: Crowd Laughing Sound Effects All Sounds-q69-VePqZRQ.webm\n",
      "[download] 100% of 27.96MiB in 00:0109MiB/s ETA 00:00107\n",
      "[download]  20.0% of ~3.30MiB at  7.34MiB/s ETA 00:01[ffmpeg] Destination: Acoustic Guitar Instrumental Background Music for Videos I No Copyright Music-kUZTWj2Lxo0.mp3\n",
      "[download]  25.0% of ~3.48MiB at  7.78MiB/s ETA 00:01Deleting original file Crowd SOUND EFFECT - Talking Poeple Noise Ambience Chatter sound fx-2STdV_KGkpc.m4a (pass -k to keep)\n",
      "[download]  26.7% of ~3.48MiB at  7.78MiB/s ETA 00:00"
     ]
    },
    {
     "name": "stderr",
     "output_type": "stream",
     "text": [
      "\r",
      " 83%|████████▎ | 5/6 [03:19<00:32, 32.47s/it]"
     ]
    },
    {
     "name": "stdout",
     "output_type": "stream",
     "text": [
      "[download]  30.9% of ~3.48MiB at  4.88MiB/s ETA 00:00[youtube] 3AXENeFFvAg: Downloading webpage\n",
      "[download]  76.7% of ~3.91MiB at 12.17MiB/s ETA 00:00[download] Destination: Robot Sound Effects, Assault Mech, Robotic War Unit Sound Effects-3AXENeFFvAg.webm\n",
      "[download] 100% of 2.00MiB in 00:00.19MiB/s ETA 00:00\n",
      "[download]  86.7% of ~3.96MiB at 13.03MiB/s ETA 00:00[ffmpeg] Destination: Robot Sound Effects, Assault Mech, Robotic War Unit Sound Effects-3AXENeFFvAg.mp3\n",
      "[download] 100% of 3.90MiB in 00:01.64MiB/s ETA 00:00\n",
      "[ffmpeg] Destination: Crowd Laughing Sound Effects All Sounds-q69-VePqZRQ.mp3\n",
      "Deleting original file Stunning Wedding Bride Entrance Music-WWcDt_-xJ7I.webm (pass -k to keep)\n"
     ]
    },
    {
     "name": "stderr",
     "output_type": "stream",
     "text": [
      "\r",
      " 83%|████████▎ | 5/6 [03:21<00:47, 47.84s/it]"
     ]
    },
    {
     "name": "stdout",
     "output_type": "stream",
     "text": [
      "[youtube] ZPsaP6prCos: Downloading webpage\n",
      "[download] Destination: The xx - Intro 1 Hour-ZPsaP6prCos.webm\n",
      "[download]  24.5% of 56.36MiB at 30.78MiB/s ETA 00:01known ETADeleting original file C H I L L V I B E S _ Chill & aesthetic music playlist-oJnF5VxTO5g.webm (pass -k to keep)\n"
     ]
    },
    {
     "name": "stderr",
     "output_type": "stream",
     "text": [
      "\r",
      " 50%|█████     | 3/6 [03:22<03:39, 73.03s/it]"
     ]
    },
    {
     "name": "stdout",
     "output_type": "stream",
     "text": [
      "[youtube] LSfgnfxhXqk: Downloading webpage\n",
      "[download]  41.7% of 56.36MiB at 19.89MiB/s ETA 00:01known ETA[youtube] LSfgnfxhXqk: Downloading MPD manifest\n",
      "Deleting original file Robot Sound Effects, Assault Mech, Robotic War Unit Sound Effects-3AXENeFFvAg.webm (pass -k to keep)\n",
      "[download]  48.8% of 56.36MiB at 20.63MiB/s ETA 00:01"
     ]
    },
    {
     "name": "stderr",
     "output_type": "stream",
     "text": [
      "100%|██████████| 6/6 [03:23<00:00, 33.89s/it]\n"
     ]
    },
    {
     "name": "stdout",
     "output_type": "stream",
     "text": [
      "[download]  53.4% of 56.36MiB at 22.00MiB/s ETA 00:01known ETA[dashsegments] Total fragments: 48\n",
      "[download] Destination: Modern Corporate & Business Background Music _ Presentation Music Instrumental _ MUSIC4VIDEO-LSfgnfxhXqk.webm\n",
      "[download] 100% of 56.36MiB in 00:0260MiB/s ETA 00:011nown ETA\n",
      "[ffmpeg] Destination: The xx - Intro 1 Hour-ZPsaP6prCos.mp3\n",
      "[download] 100% of 8.35MiB in 00:02.48MiB/s ETA 00:00\n",
      "[ffmpeg] Destination: Modern Corporate & Business Background Music _ Presentation Music Instrumental _ MUSIC4VIDEO-LSfgnfxhXqk.mp3\n",
      "Deleting original file TORMENTED - Epic Intense Hybrid Horror Music Mix _ Epic Modern Horror Sound Design-i5jLt1rTL5k.webm (pass -k to keep)\n"
     ]
    },
    {
     "name": "stderr",
     "output_type": "stream",
     "text": [
      "\r",
      " 83%|████████▎ | 5/6 [03:27<00:41, 41.46s/it]"
     ]
    },
    {
     "name": "stdout",
     "output_type": "stream",
     "text": [
      "[youtube] 052zvUHXTKg: Downloading webpage\n",
      "[download] Destination: Bass Boosted Trap _ A Gaming Music Mix _ Best Of EDM-052zvUHXTKg.webm\n",
      "[download]  21.8% of 63.28MiB at 25.78MiB/s ETA 00:01known ETADeleting original file Crowd Laughing Sound Effects All Sounds-q69-VePqZRQ.webm (pass -k to keep)\n"
     ]
    },
    {
     "name": "stderr",
     "output_type": "stream",
     "text": [
      "\r",
      " 83%|████████▎ | 5/6 [03:28<00:25, 25.66s/it]"
     ]
    },
    {
     "name": "stdout",
     "output_type": "stream",
     "text": [
      "[download]  28.1% of 63.28MiB at 26.52MiB/s ETA 00:01[youtube] 2biM-6Szd3g: Downloading webpage\n",
      "[download]  43.8% of 63.28MiB at 16.40MiB/s ETA 00:02known ETA[download] Destination: Cool Motivational Background Music for Sports & Workout Videos-2biM-6Szd3g.webm\n",
      "[download] 100% of 2.09MiB in 00:0084MiB/s ETA 00:001known ETA\n",
      "[ffmpeg] Destination: Cool Motivational Background Music for Sports & Workout Videos-2biM-6Szd3g.mp3\n",
      "[download] 100% of 63.28MiB in 00:0397MiB/s ETA 00:00known ETA\n",
      "[ffmpeg] Destination: Bass Boosted Trap _ A Gaming Music Mix _ Best Of EDM-052zvUHXTKg.mp3\n",
      "Deleting original file Cool Motivational Background Music for Sports & Workout Videos-2biM-6Szd3g.webm (pass -k to keep)\n"
     ]
    },
    {
     "name": "stderr",
     "output_type": "stream",
     "text": [
      "100%|██████████| 6/6 [03:33<00:00, 35.50s/it]\n"
     ]
    },
    {
     "name": "stdout",
     "output_type": "stream",
     "text": [
      "Deleting original file Modern Corporate & Business Background Music _ Presentation Music Instrumental _ MUSIC4VIDEO-LSfgnfxhXqk.webm (pass -k to keep)\n"
     ]
    },
    {
     "name": "stderr",
     "output_type": "stream",
     "text": [
      "\r",
      " 67%|██████▋   | 4/6 [03:39<01:52, 56.16s/it]"
     ]
    },
    {
     "name": "stdout",
     "output_type": "stream",
     "text": [
      "[youtube] DHbKZliVlX4: Downloading webpage\n",
      "[download] Destination: MOST SEARCHED TIKTOK SONGS COMPILATION - TIKTOK TRENDING SONGS #3-DHbKZliVlX4.webm\n",
      "[download] 100% of 8.88MiB in 00:0019MiB/s ETA 00:003\n",
      "[ffmpeg] Destination: MOST SEARCHED TIKTOK SONGS COMPILATION - TIKTOK TRENDING SONGS #3-DHbKZliVlX4.mp3\n",
      "Deleting original file MOST SEARCHED TIKTOK SONGS COMPILATION - TIKTOK TRENDING SONGS #3-DHbKZliVlX4.webm (pass -k to keep)\n"
     ]
    },
    {
     "name": "stderr",
     "output_type": "stream",
     "text": [
      "\r",
      " 83%|████████▎ | 5/6 [03:54<00:43, 43.79s/it]"
     ]
    },
    {
     "name": "stdout",
     "output_type": "stream",
     "text": [
      "[youtube] 70HCGgKog_U: Downloading webpage\n",
      "[download] Destination: Spooky _ Halloween Background Music-70HCGgKog_U.webm\n",
      "[download] 100% of 2.36MiB in 00:0094MiB/s ETA 00:002\n",
      "[ffmpeg] Destination: Spooky _ Halloween Background Music-70HCGgKog_U.mp3\n",
      "Deleting original file Guitar Vibe ● lofi hiphop mix-o9Phw-cJqBQ.webm (pass -k to keep)\n"
     ]
    },
    {
     "name": "stderr",
     "output_type": "stream",
     "text": [
      "\r",
      " 67%|██████▋   | 4/6 [03:55<01:54, 57.10s/it]"
     ]
    },
    {
     "name": "stdout",
     "output_type": "stream",
     "text": [
      "[youtube] Zb-z82-eeyU: Downloading webpage\n",
      "[youtube] Zb-z82-eeyU: Downloading MPD manifest\n",
      "[dashsegments] Total fragments: 17\n",
      "[download] Destination: Podcast Background Music - Royalty Free-Zb-z82-eeyU.webm\n",
      "[download] 100% of 2.79MiB in 00:004.75KiB/s ETA 00:0030\n",
      "[ffmpeg] Destination: Podcast Background Music - Royalty Free-Zb-z82-eeyU.mp3\n",
      "Deleting original file Two Steps From Hell - 25 Tracks Best of All Time _ Most Powerful Epic Music Mix [Part 1]-9O4_awEHh1g.webm (pass -k to keep)\n"
     ]
    },
    {
     "name": "stderr",
     "output_type": "stream",
     "text": [
      "WARNING: Unable to remove downloaded original file\n",
      " 67%|██████▋   | 4/6 [03:58<02:01, 60.60s/it]"
     ]
    },
    {
     "name": "stdout",
     "output_type": "stream",
     "text": [
      "[youtube] UuEMaRgAtZM: Downloading webpage\n",
      "[download] Destination: PERFECT BACKGROUND ASMR ~ for studying, gaming, working, etc 😊❤️-UuEMaRgAtZM.webm\n",
      "[download]   2.3% of 22.01MiB at 19.34MiB/s ETA 00:012Deleting original file Spooky _ Halloween Background Music-70HCGgKog_U.webm (pass -k to keep)\n",
      "[download]   4.5% of 22.01MiB at 23.72MiB/s ETA 00:00"
     ]
    },
    {
     "name": "stderr",
     "output_type": "stream",
     "text": [
      "100%|██████████| 6/6 [03:59<00:00, 39.85s/it]\n"
     ]
    },
    {
     "name": "stdout",
     "output_type": "stream",
     "text": [
      "[download] 100% of 22.01MiB in 00:0129MiB/s ETA 00:00known ETA\n",
      "[ffmpeg] Destination: PERFECT BACKGROUND ASMR ~ for studying, gaming, working, etc 😊❤️-UuEMaRgAtZM.mp3\n",
      "Deleting original file Top 150 Trending Tiktok Songs (With Lyrics) _Tiktok-9f4cUx8Dgmw.webm (pass -k to keep)\n"
     ]
    },
    {
     "name": "stderr",
     "output_type": "stream",
     "text": [
      "\r",
      " 67%|██████▋   | 4/6 [04:00<01:33, 46.77s/it]"
     ]
    },
    {
     "name": "stdout",
     "output_type": "stream",
     "text": [
      "[youtube] fBhQzaeU5jo: Downloading webpage\n",
      "Deleting original file Podcast Background Music - Royalty Free-Zb-z82-eeyU.webm (pass -k to keep)\n"
     ]
    },
    {
     "name": "stderr",
     "output_type": "stream",
     "text": [
      "\r",
      " 83%|████████▎ | 5/6 [04:00<00:41, 41.72s/it]"
     ]
    },
    {
     "name": "stdout",
     "output_type": "stream",
     "text": [
      "[youtube] mLld3JVwxew: Downloading webpage\n",
      "[download] Destination: ✅ Happy Background Music No Copyright Royalty Free Fun-fBhQzaeU5jo.webm\n",
      "[download] 100% of 2.08MiB in 00:0020MiB/s ETA 00:002\n",
      "[ffmpeg] Destination: ✅ Happy Background Music No Copyright Royalty Free Fun-fBhQzaeU5jo.mp3\n",
      "[download] Destination: Crowd Talking [Free Sound Effects]-mLld3JVwxew.m4a\n",
      "[download] 100% of 1.91MiB in 00:0004MiB/s ETA 00:002\n",
      "[ffmpeg] Correcting container in \"Crowd Talking [Free Sound Effects]-mLld3JVwxew.m4a\"\n",
      "[ffmpeg] Destination: Crowd Talking [Free Sound Effects]-mLld3JVwxew.mp3\n",
      "Deleting original file Acoustic Guitar Instrumental Background Music for Videos I No Copyright Music-kUZTWj2Lxo0.webm (pass -k to keep)\n"
     ]
    },
    {
     "name": "stderr",
     "output_type": "stream",
     "text": [
      "\r",
      " 33%|███▎      | 2/6 [04:03<10:07, 151.78s/it]"
     ]
    },
    {
     "name": "stdout",
     "output_type": "stream",
     "text": [
      "[youtube] YGSelD1TZWY: Downloading webpage\n",
      "[download] Destination: Energetic Rock Background Music For Sports & Workout Videos-YGSelD1TZWY.webm\n",
      "[download] 100.0% of 1.49MiB at  6.25MiB/s ETA 00:001Deleting original file 1 hour of Ambient Fantasy Music _ Tranquil Atmospheric Ambience _ Enchanted Lands-RQcLIm-s75U.webm (pass -k to keep)\n",
      "[download] 100% of 1.49MiB in 00:00\n",
      "[ffmpeg] Destination: Energetic Rock Background Music For Sports & Workout Videos-YGSelD1TZWY.mp3\n"
     ]
    },
    {
     "name": "stderr",
     "output_type": "stream",
     "text": [
      "100%|██████████| 6/6 [04:03<00:00, 40.66s/it]\n"
     ]
    },
    {
     "name": "stdout",
     "output_type": "stream",
     "text": [
      "Deleting original file Upbeat Music - Happy Music Beats to Relax, Work, Study-p1IChPfD2-s.webm (pass -k to keep)\n"
     ]
    },
    {
     "name": "stderr",
     "output_type": "stream",
     "text": [
      "\r",
      " 17%|█▋        | 1/6 [04:04<20:22, 244.42s/it]"
     ]
    },
    {
     "name": "stdout",
     "output_type": "stream",
     "text": [
      "[youtube] Gt0ajtBAiGo: Downloading webpage\n",
      "Deleting original file Star Wars _ Lofi HipHop-78cyA-aGaKc.webm (pass -k to keep)\n"
     ]
    },
    {
     "name": "stderr",
     "output_type": "stream",
     "text": [
      "\r",
      " 17%|█▋        | 1/6 [04:04<20:22, 244.51s/it]"
     ]
    },
    {
     "name": "stdout",
     "output_type": "stream",
     "text": [
      "[youtube] 5hTaTrJowJk: Downloading webpage\n",
      "Deleting original file Crowd Talking [Free Sound Effects]-mLld3JVwxew.m4a (pass -k to keep)\n"
     ]
    },
    {
     "name": "stderr",
     "output_type": "stream",
     "text": [
      "100%|██████████| 6/6 [04:04<00:00, 40.76s/it]\n"
     ]
    },
    {
     "name": "stdout",
     "output_type": "stream",
     "text": [
      "[download] Destination: Skynet Prototype, Military Robot Sound Effects, Sound Library for Download-Gt0ajtBAiGo.webm\n",
      "[download] 100% of 1.40MiB in 00:0064MiB/s ETA 00:001\n",
      "[ffmpeg] Destination: Skynet Prototype, Military Robot Sound Effects, Sound Library for Download-Gt0ajtBAiGo.mp3\n",
      "[download] Destination: Motivational Uplifting Cinematic Background Music _ Royalty Free-5hTaTrJowJk.webm\n",
      "[download] 100% of 3.14MiB in 00:0034MiB/s ETA 00:003\n",
      "[ffmpeg] Destination: Motivational Uplifting Cinematic Background Music _ Royalty Free-5hTaTrJowJk.mp3\n",
      "Deleting original file ✅ Happy Background Music No Copyright Royalty Free Fun-fBhQzaeU5jo.webm (pass -k to keep)\n"
     ]
    },
    {
     "name": "stderr",
     "output_type": "stream",
     "text": [
      "\r",
      " 83%|████████▎ | 5/6 [04:06<00:34, 34.39s/it]"
     ]
    },
    {
     "name": "stdout",
     "output_type": "stream",
     "text": [
      "[youtube] VqRWUdo_mA4: Downloading webpage\n",
      "[download] Destination: SAL - Romantic Background Music-VqRWUdo_mA4.webm\n",
      "[download] 100% of 3.51MiB in 00:0085MiB/s ETA 00:005\n",
      "[ffmpeg] Destination: SAL - Romantic Background Music-VqRWUdo_mA4.mp3\n",
      "Deleting original file Energetic Rock Background Music For Sports & Workout Videos-YGSelD1TZWY.webm (pass -k to keep)\n"
     ]
    },
    {
     "name": "stderr",
     "output_type": "stream",
     "text": [
      "\r",
      " 50%|█████     | 3/6 [04:06<05:21, 107.33s/it]"
     ]
    },
    {
     "name": "stdout",
     "output_type": "stream",
     "text": [
      "[youtube] VmcociyH0d8: Downloading webpage\n",
      "[download] Destination: Subtle Tension Music for background  - soft suspense or scarey scenes-VmcociyH0d8.webm\n",
      "[download] 100% of 2.32MiB in 00:0014MiB/s ETA 00:003\n",
      "[ffmpeg] Destination: Subtle Tension Music for background  - soft suspense or scarey scenes-VmcociyH0d8.mp3\n",
      "Deleting original file Skynet Prototype, Military Robot Sound Effects, Sound Library for Download-Gt0ajtBAiGo.webm (pass -k to keep)\n"
     ]
    },
    {
     "name": "stderr",
     "output_type": "stream",
     "text": [
      "\r",
      " 33%|███▎      | 2/6 [04:07<11:28, 172.01s/it]"
     ]
    },
    {
     "name": "stdout",
     "output_type": "stream",
     "text": [
      "[youtube] HsXdvP8rSIo: Downloading webpage\n",
      "[youtube] HsXdvP8rSIo: Downloading MPD manifest\n",
      "[dashsegments] Total fragments: 33\n",
      "[download] Destination: Popular Troll Sound Effects Youtubers use (HD) 2020 _ 30 Popular Sound Effects_Memes_lockdown-HsXdvP8rSIo.webm\n",
      "[download] 100% of 5.25MiB in 00:01.00MiB/s ETA 00:00116\n",
      "[ffmpeg] Destination: Popular Troll Sound Effects Youtubers use (HD) 2020 _ 30 Popular Sound Effects_Memes_lockdown-HsXdvP8rSIo.mp3\n",
      "Deleting original file Motivational Uplifting Cinematic Background Music _ Royalty Free-5hTaTrJowJk.webm (pass -k to keep)\n"
     ]
    },
    {
     "name": "stderr",
     "output_type": "stream",
     "text": [
      "\r",
      " 33%|███▎      | 2/6 [04:10<11:32, 173.06s/it]"
     ]
    },
    {
     "name": "stdout",
     "output_type": "stream",
     "text": [
      "[youtube] 1pOQ6QDTTKk: Downloading webpage\n",
      "Deleting original file Electronic Background Music For Studying _ Chill Out Instrumental Study Mix [Part 3]-Z4GWph9Sl4s.webm (pass -k to keep)\n"
     ]
    },
    {
     "name": "stderr",
     "output_type": "stream",
     "text": [
      "\r",
      " 50%|█████     | 3/6 [04:11<03:58, 79.39s/it]"
     ]
    },
    {
     "name": "stdout",
     "output_type": "stream",
     "text": [
      "Deleting original file Subtle Tension Music for background  - soft suspense or scarey scenes-VmcociyH0d8.webm (pass -k to keep)\n"
     ]
    },
    {
     "name": "stderr",
     "output_type": "stream",
     "text": [
      "\r",
      " 67%|██████▋   | 4/6 [04:11<02:33, 76.51s/it] "
     ]
    },
    {
     "name": "stdout",
     "output_type": "stream",
     "text": [
      "[youtube] p_CtUCig6LQ: Downloading webpage\n",
      "[youtube] iYVO5bUFww0: Downloading webpage\n",
      "[download] Destination: Rick & Morty - Evil Morty _ Sad Piano Version-1pOQ6QDTTKk.webm\n",
      "[download]  17.9% of 5.58MiB at 23.88MiB/s ETA 00:007Deleting original file SAL - Romantic Background Music-VqRWUdo_mA4.webm (pass -k to keep)\n"
     ]
    },
    {
     "name": "stderr",
     "output_type": "stream",
     "text": [
      "100%|██████████| 6/6 [04:11<00:00, 41.93s/it]\n"
     ]
    },
    {
     "name": "stdout",
     "output_type": "stream",
     "text": [
      "[download] 100% of 5.58MiB in 00:0049MiB/s ETA 00:00\n",
      "[ffmpeg] Destination: Rick & Morty - Evil Morty _ Sad Piano Version-1pOQ6QDTTKk.mp3\n",
      "[download] Destination: Laugh Track-iYVO5bUFww0.webm\n",
      "[download] 100% of 206.73KiB in 00:0020MiB/s ETA 00:000\n",
      "[ffmpeg] Destination: Laugh Track-iYVO5bUFww0.mp3\n",
      "[download] Destination: Love - Romantic Background Music For Videos and Films - by AShamaluevMusic-p_CtUCig6LQ.webm\n",
      "[download] 100% of 3.46MiB in 00:0064MiB/s ETA 00:005\n",
      "[ffmpeg] Destination: Love - Romantic Background Music For Videos and Films - by AShamaluevMusic-p_CtUCig6LQ.mp3\n",
      "Deleting original file Laugh Track-iYVO5bUFww0.webm (pass -k to keep)\n"
     ]
    },
    {
     "name": "stderr",
     "output_type": "stream",
     "text": [
      "\r",
      " 83%|████████▎ | 5/6 [04:12<00:53, 53.82s/it]"
     ]
    },
    {
     "name": "stdout",
     "output_type": "stream",
     "text": [
      "[youtube] KZiSp66SgSo: Downloading webpage\n",
      "[download] Destination: Best Gaming Music 2020 Mix ♫ Best of EDM ♫ NCS, Trap, Dubstep, DnB, Electro House-KZiSp66SgSo.webm\n",
      "[download] 100% of 72.62MiB in 00:0339MiB/s ETA 00:00known ETA\n",
      "[ffmpeg] Destination: Best Gaming Music 2020 Mix ♫ Best of EDM ♫ NCS, Trap, Dubstep, DnB, Electro House-KZiSp66SgSo.mp3\n",
      "Deleting original file Love - Romantic Background Music For Videos and Films - by AShamaluevMusic-p_CtUCig6LQ.webm (pass -k to keep)\n"
     ]
    },
    {
     "name": "stderr",
     "output_type": "stream",
     "text": [
      "\r",
      " 67%|██████▋   | 4/6 [04:17<01:54, 57.37s/it]"
     ]
    },
    {
     "name": "stdout",
     "output_type": "stream",
     "text": [
      "[youtube] Q6H_2BTlWeQ: Downloading webpage\n",
      "[download] Destination: Free Sound effects for Vloger-Q6H_2BTlWeQ.webm\n",
      "[download] 100% of 2.03MiB in 00:0088MiB/s ETA 00:002\n",
      "[ffmpeg] Destination: Free Sound effects for Vloger-Q6H_2BTlWeQ.mp3\n",
      "Deleting original file Popular Troll Sound Effects Youtubers use (HD) 2020 _ 30 Popular Sound Effects_Memes_lockdown-HsXdvP8rSIo.webm (pass -k to keep)\n"
     ]
    },
    {
     "name": "stderr",
     "output_type": "stream",
     "text": [
      "\r",
      " 50%|█████     | 3/6 [04:18<06:11, 123.78s/it]"
     ]
    },
    {
     "name": "stdout",
     "output_type": "stream",
     "text": [
      "[youtube] W1xwTqgzQ_g: Downloading webpage\n",
      "[download] Destination: Upbeat and Happy Background Music-W1xwTqgzQ_g.webm\n",
      "[download] 100% of 2.21MiB in 00:0075MiB/s ETA 00:002\n",
      "[ffmpeg] Destination: Upbeat and Happy Background Music-W1xwTqgzQ_g.mp3\n",
      "Deleting original file Rick & Morty - Evil Morty _ Sad Piano Version-1pOQ6QDTTKk.webm (pass -k to keep)\n"
     ]
    },
    {
     "name": "stderr",
     "output_type": "stream",
     "text": [
      "\r",
      " 50%|█████     | 3/6 [04:19<06:11, 123.82s/it]"
     ]
    },
    {
     "name": "stdout",
     "output_type": "stream",
     "text": [
      "[youtube] jGEvVxplz8s: Downloading webpage\n",
      "[download] Destination: Else - Paris 1 Hour-jGEvVxplz8s.webm\n",
      "[download]  95.8% of 59.40MiB at 21.88MiB/s ETA 00:00known ETADeleting original file Upbeat and Happy Background Music-W1xwTqgzQ_g.webm (pass -k to keep)\n"
     ]
    },
    {
     "name": "stderr",
     "output_type": "stream",
     "text": [
      "\r",
      " 67%|██████▋   | 4/6 [04:23<02:56, 88.01s/it] "
     ]
    },
    {
     "name": "stdout",
     "output_type": "stream",
     "text": [
      "[download]  98.5% of 59.40MiB at 24.91MiB/s ETA 00:00[youtube] B1TFVS23z7g: Downloading webpage\n",
      "[download] 100% of 59.40MiB in 00:0261MiB/s ETA 00:00known ETA\n",
      "[ffmpeg] Destination: Else - Paris 1 Hour-jGEvVxplz8s.mp3\n",
      "[download] Destination: Insidious Theme-B1TFVS23z7g.webm\n",
      "[download] 100% of 3.21MiB in 00:0024MiB/s ETA 00:004\n",
      "[ffmpeg] Destination: Insidious Theme-B1TFVS23z7g.mp3\n",
      "Deleting original file Free Sound effects for Vloger-Q6H_2BTlWeQ.webm (pass -k to keep)\n"
     ]
    },
    {
     "name": "stderr",
     "output_type": "stream",
     "text": [
      "\r",
      " 83%|████████▎ | 5/6 [04:29<00:43, 43.73s/it]"
     ]
    },
    {
     "name": "stdout",
     "output_type": "stream",
     "text": [
      "[youtube] qKHyhAKiPSY: Downloading webpage\n",
      "[download] Destination: POPULAR MEME CLIPS FOR YOUR YOUTUBE VIDEO EDITING (NO COPYRIGHT)-qKHyhAKiPSY.webm\n",
      "[download] 100% of 3.32MiB in 00:0017MiB/s ETA 00:004\n",
      "[ffmpeg] Destination: POPULAR MEME CLIPS FOR YOUR YOUTUBE VIDEO EDITING (NO COPYRIGHT)-qKHyhAKiPSY.mp3\n",
      "Deleting original file Insidious Theme-B1TFVS23z7g.webm (pass -k to keep)\n"
     ]
    },
    {
     "name": "stderr",
     "output_type": "stream",
     "text": [
      "\r",
      " 83%|████████▎ | 5/6 [04:30<01:03, 63.71s/it]"
     ]
    },
    {
     "name": "stdout",
     "output_type": "stream",
     "text": [
      "[youtube] EJew8Mvgau0: Downloading webpage\n",
      "[download] Destination: That 2 A.M. Fresh Air-EJew8Mvgau0.webm\n",
      "[download] 100% of 100.13MiB in 00:0445MiB/s ETA 00:00known ETA\n",
      "[ffmpeg] Destination: That 2 A.M. Fresh Air-EJew8Mvgau0.mp3\n",
      "Deleting original file Positive Tropical Vibes - Happy Music Beats to Relax, Work, Study-o22uGQ-efQg.webm (pass -k to keep)\n"
     ]
    },
    {
     "name": "stderr",
     "output_type": "stream",
     "text": [
      "\r",
      " 83%|████████▎ | 5/6 [04:35<01:17, 77.63s/it]"
     ]
    },
    {
     "name": "stdout",
     "output_type": "stream",
     "text": [
      "[youtube] ZOJ-MaV_Heg: Downloading webpage\n",
      "Deleting original file POPULAR MEME CLIPS FOR YOUR YOUTUBE VIDEO EDITING (NO COPYRIGHT)-qKHyhAKiPSY.webm (pass -k to keep)\n"
     ]
    },
    {
     "name": "stderr",
     "output_type": "stream",
     "text": [
      "100%|██████████| 6/6 [04:36<00:00, 46.05s/it]\n"
     ]
    },
    {
     "name": "stdout",
     "output_type": "stream",
     "text": [
      "[download] Destination: Upbeat Drums & Percussion Background Music For Typography Videos-ZOJ-MaV_Heg.webm\n",
      "[download] 100% of 1.35MiB in 00:0020MiB/s ETA 00:0001\n",
      "[ffmpeg] Destination: Upbeat Drums & Percussion Background Music For Typography Videos-ZOJ-MaV_Heg.mp3\n",
      "Deleting original file Electronic Background Music For Studying _ Chill Out Instrumental Study Mix [Part 2]-HIlG2NKnsVA.webm (pass -k to keep)\n"
     ]
    },
    {
     "name": "stderr",
     "output_type": "stream",
     "text": [
      "\r",
      " 50%|█████     | 3/6 [04:38<04:16, 85.35s/it]"
     ]
    },
    {
     "name": "stdout",
     "output_type": "stream",
     "text": [
      "[youtube] 3sCGysVB41k: Downloading webpage\n",
      "Deleting original file Upbeat Drums & Percussion Background Music For Typography Videos-ZOJ-MaV_Heg.webm (pass -k to keep)\n"
     ]
    },
    {
     "name": "stderr",
     "output_type": "stream",
     "text": [
      "100%|██████████| 6/6 [04:38<00:00, 46.49s/it]\n"
     ]
    },
    {
     "name": "stdout",
     "output_type": "stream",
     "text": [
      "[download] Destination: Inspiring Cinematic Background Music For Videos-3sCGysVB41k.webm\n",
      "[download] 100% of 3.63MiB in 00:0069MiB/s ETA 00:004\n",
      "[ffmpeg] Destination: Inspiring Cinematic Background Music For Videos-3sCGysVB41k.mp3\n",
      "Deleting original file PERFECT BACKGROUND ASMR ~ for studying, gaming, working, etc 😊❤️-UuEMaRgAtZM.webm (pass -k to keep)\n"
     ]
    },
    {
     "name": "stderr",
     "output_type": "stream",
     "text": [
      "\r",
      " 83%|████████▎ | 5/6 [04:39<00:54, 54.84s/it]"
     ]
    },
    {
     "name": "stdout",
     "output_type": "stream",
     "text": [
      "[youtube] Tfjl7KA9X6c: Downloading webpage\n",
      "[download] Destination: Tik Tok Songs 2020 - Tik Tok Playlist (TikTok Hits 2020)-Tfjl7KA9X6c.webm\n",
      "[download] 100% of 44.22MiB in 00:0128MiB/s ETA 00:00known ETA\n",
      "[ffmpeg] Destination: Tik Tok Songs 2020 - Tik Tok Playlist (TikTok Hits 2020)-Tfjl7KA9X6c.mp3\n",
      "Deleting original file Inspiring Cinematic Background Music For Videos-3sCGysVB41k.webm (pass -k to keep)\n"
     ]
    },
    {
     "name": "stderr",
     "output_type": "stream",
     "text": [
      "\r",
      " 67%|██████▋   | 4/6 [04:45<02:03, 61.66s/it]"
     ]
    },
    {
     "name": "stdout",
     "output_type": "stream",
     "text": [
      "[youtube] Iv5P21D76bw: Downloading webpage\n",
      "[download] Destination: Ampyx - Holo-Iv5P21D76bw.webm\n",
      "[download] 100% of 3.78MiB in 00:0011MiB/s ETA 00:005\n",
      "[ffmpeg] Destination: Ampyx - Holo-Iv5P21D76bw.mp3\n",
      "Deleting original file Ampyx - Holo-Iv5P21D76bw.webm (pass -k to keep)\n"
     ]
    },
    {
     "name": "stderr",
     "output_type": "stream",
     "text": [
      "\r",
      " 83%|████████▎ | 5/6 [04:51<00:45, 45.22s/it]"
     ]
    },
    {
     "name": "stdout",
     "output_type": "stream",
     "text": [
      "[youtube] Y-JQ-RCyPpQ: Downloading webpage\n",
      "[download] Destination: Relaxing Bossa Nova & Jazz Music For Study - Smooth Jazz Music - Background Music-Y-JQ-RCyPpQ.webm\n",
      "[download]  74.4% of 266.79MiB at 25.22MiB/s ETA 00:02known ETADeleting original file The xx - Intro 1 Hour-ZPsaP6prCos.webm (pass -k to keep)\n"
     ]
    },
    {
     "name": "stderr",
     "output_type": "stream",
     "text": [
      "100%|██████████| 6/6 [05:01<00:00, 50.30s/it]\n"
     ]
    },
    {
     "name": "stdout",
     "output_type": "stream",
     "text": [
      "[download] 100% of 266.79MiB in 00:1218MiB/s ETA 00:00known ETA\n",
      "[ffmpeg] Destination: Relaxing Bossa Nova & Jazz Music For Study - Smooth Jazz Music - Background Music-Y-JQ-RCyPpQ.mp3\n",
      "Deleting original file Bass Boosted Trap _ A Gaming Music Mix _ Best Of EDM-052zvUHXTKg.webm (pass -k to keep)\n"
     ]
    },
    {
     "name": "stderr",
     "output_type": "stream",
     "text": [
      "100%|██████████| 6/6 [05:26<00:00, 54.40s/it]\n"
     ]
    },
    {
     "name": "stdout",
     "output_type": "stream",
     "text": [
      "Deleting original file 3 Hours of Scary, Ominous & Creepy Horror Music _ Instrumental Halloween Music-mlLGwW7eHTI.webm (pass -k to keep)\n"
     ]
    },
    {
     "name": "stderr",
     "output_type": "stream",
     "text": [
      "\r",
      " 33%|███▎      | 2/6 [05:43<07:37, 114.38s/it]"
     ]
    },
    {
     "name": "stdout",
     "output_type": "stream",
     "text": [
      "[youtube] 2X2bBnI-kwE: Downloading webpage\n",
      "[youtube] 2X2bBnI-kwE: Downloading MPD manifest\n",
      "[dashsegments] Total fragments: 21\n",
      "[download] Destination: NO COPYRIGHT News Fanfares _ News Background Music Free Copyright by MUSIC4VIDEO-2X2bBnI-kwE.webm\n",
      "[download] 100% of 2.73MiB in 00:00.29MiB/s ETA 00:00:20\n",
      "[ffmpeg] Destination: NO COPYRIGHT News Fanfares _ News Background Music Free Copyright by MUSIC4VIDEO-2X2bBnI-kwE.mp3\n",
      "Deleting original file NO COPYRIGHT News Fanfares _ News Background Music Free Copyright by MUSIC4VIDEO-2X2bBnI-kwE.webm (pass -k to keep)\n"
     ]
    },
    {
     "name": "stderr",
     "output_type": "stream",
     "text": [
      "\r",
      " 50%|█████     | 3/6 [05:52<04:08, 82.88s/it] "
     ]
    },
    {
     "name": "stdout",
     "output_type": "stream",
     "text": [
      "[youtube] z9OGF0rYlss: Downloading webpage\n",
      "[download] Destination: Sound Every 2000s Kids Remember-z9OGF0rYlss.webm\n",
      "[download] 100% of 2.06MiB in 00:0001MiB/s ETA 00:002\n",
      "[ffmpeg] Destination: Sound Every 2000s Kids Remember-z9OGF0rYlss.mp3\n",
      "Deleting original file Tik Tok Songs 2020 - Tik Tok Playlist (TikTok Hits 2020)-Tfjl7KA9X6c.webm (pass -k to keep)\n"
     ]
    },
    {
     "name": "stderr",
     "output_type": "stream",
     "text": [
      "100%|██████████| 6/6 [05:54<00:00, 59.09s/it]\n"
     ]
    },
    {
     "name": "stdout",
     "output_type": "stream",
     "text": [
      "Deleting original file Sound Every 2000s Kids Remember-z9OGF0rYlss.webm (pass -k to keep)\n"
     ]
    },
    {
     "name": "stderr",
     "output_type": "stream",
     "text": [
      "\r",
      " 67%|██████▋   | 4/6 [05:56<01:58, 59.17s/it]"
     ]
    },
    {
     "name": "stdout",
     "output_type": "stream",
     "text": [
      "[youtube] 3in_nnFCV2c: Downloading webpage\n",
      "[download] Destination: Wedding Background Music _ Romantic and Inspirational Piano Instrumental by AShamaluevMusic-3in_nnFCV2c.webm\n",
      "[download] 100% of 3.71MiB in 00:0041MiB/s ETA 00:004\n",
      "[ffmpeg] Destination: Wedding Background Music _ Romantic and Inspirational Piano Instrumental by AShamaluevMusic-3in_nnFCV2c.mp3\n",
      "Deleting original file Wedding Background Music _ Romantic and Inspirational Piano Instrumental by AShamaluevMusic-3in_nnFCV2c.webm (pass -k to keep)\n"
     ]
    },
    {
     "name": "stderr",
     "output_type": "stream",
     "text": [
      "\r",
      " 83%|████████▎ | 5/6 [06:02<00:43, 43.22s/it]"
     ]
    },
    {
     "name": "stdout",
     "output_type": "stream",
     "text": [
      "[youtube] -zvQoPyY2XE: Downloading webpage\n",
      "Deleting original file Else - Paris 1 Hour-jGEvVxplz8s.webm (pass -k to keep)\n"
     ]
    },
    {
     "name": "stderr",
     "output_type": "stream",
     "text": [
      "\r",
      " 67%|██████▋   | 4/6 [06:02<03:55, 117.54s/it]"
     ]
    },
    {
     "name": "stdout",
     "output_type": "stream",
     "text": [
      "[youtube] Smv4MrBtgWs: Downloading webpage\n",
      "[download] Destination: Dark Tension Rising Music _ (Download and Royalty FREE)--zvQoPyY2XE.webm\n",
      "[download] 100% of 1.47MiB in 00:0003MiB/s ETA 00:001\n",
      "[ffmpeg] Destination: Dark Tension Rising Music _ (Download and Royalty FREE)--zvQoPyY2XE.mp3\n",
      "[youtube] Smv4MrBtgWs: Downloading MPD manifest\n",
      "[dashsegments] Total fragments: 15\n",
      "[download] Destination: NO COPYRIGHT Rock Music Background _ Sport Rock Background Music Copyright Free by MUSIC4VIDEO-Smv4MrBtgWs.webm\n",
      "[download] 100% of 2.01MiB in 00:00.11MiB/s ETA 00:00:59\n",
      "[ffmpeg] Destination: NO COPYRIGHT Rock Music Background _ Sport Rock Background Music Copyright Free by MUSIC4VIDEO-Smv4MrBtgWs.mp3\n",
      "Deleting original file Dark Tension Rising Music _ (Download and Royalty FREE)--zvQoPyY2XE.webm (pass -k to keep)\n"
     ]
    },
    {
     "name": "stderr",
     "output_type": "stream",
     "text": [
      "100%|██████████| 6/6 [06:05<00:00, 60.97s/it]\n"
     ]
    },
    {
     "name": "stdout",
     "output_type": "stream",
     "text": [
      "Deleting original file NO COPYRIGHT Rock Music Background _ Sport Rock Background Music Copyright Free by MUSIC4VIDEO-Smv4MrBtgWs.webm (pass -k to keep)\n"
     ]
    },
    {
     "name": "stderr",
     "output_type": "stream",
     "text": [
      "\r",
      " 83%|████████▎ | 5/6 [06:07<01:23, 83.61s/it] "
     ]
    },
    {
     "name": "stdout",
     "output_type": "stream",
     "text": [
      "[youtube] ZOrxwqvfD2E: Downloading webpage\n",
      "[download] Destination: ♩♫ Scary Horror Music ♪♬ - Haunted (Copyright and Royalty Free)-ZOrxwqvfD2E.webm\n",
      "[download] 100% of 3.22MiB in 00:0072MiB/s ETA 00:003\n",
      "[ffmpeg] Destination: ♩♫ Scary Horror Music ♪♬ - Haunted (Copyright and Royalty Free)-ZOrxwqvfD2E.mp3\n",
      "Deleting original file ♩♫ Scary Horror Music ♪♬ - Haunted (Copyright and Royalty Free)-ZOrxwqvfD2E.webm (pass -k to keep)\n"
     ]
    },
    {
     "name": "stderr",
     "output_type": "stream",
     "text": [
      "100%|██████████| 6/6 [06:12<00:00, 62.14s/it]\n"
     ]
    },
    {
     "name": "stdout",
     "output_type": "stream",
     "text": [
      "Deleting original file Best Gaming Music 2020 Mix ♫ Best of EDM ♫ NCS, Trap, Dubstep, DnB, Electro House-KZiSp66SgSo.webm (pass -k to keep)\n"
     ]
    },
    {
     "name": "stderr",
     "output_type": "stream",
     "text": [
      "100%|██████████| 6/6 [06:20<00:00, 63.35s/it]\n"
     ]
    },
    {
     "name": "stdout",
     "output_type": "stream",
     "text": [
      "Deleting original file Cafe Sounds for Study, Coffee Shop Ambience (Lofi Hiphop, Chillhop) 4k-Mckcmh-OU5M.webm (pass -k to keep)\n"
     ]
    },
    {
     "name": "stderr",
     "output_type": "stream",
     "text": [
      "100%|██████████| 6/6 [06:31<00:00, 65.24s/it]\n"
     ]
    },
    {
     "name": "stdout",
     "output_type": "stream",
     "text": [
      "Deleting original file That 2 A.M. Fresh Air-EJew8Mvgau0.webm (pass -k to keep)\n"
     ]
    },
    {
     "name": "stderr",
     "output_type": "stream",
     "text": [
      "100%|██████████| 6/6 [07:08<00:00, 71.37s/it]\n"
     ]
    },
    {
     "name": "stdout",
     "output_type": "stream",
     "text": [
      "Deleting original file Relaxing Background Music - relaxdaily B-Sides N°1-qycqF1CWcXg.webm (pass -k to keep)\n"
     ]
    },
    {
     "name": "stderr",
     "output_type": "stream",
     "text": [
      "\r",
      " 50%|█████     | 3/6 [07:24<07:55, 158.53s/it]"
     ]
    },
    {
     "name": "stdout",
     "output_type": "stream",
     "text": [
      "[youtube] IJQdnHT3MCA: Downloading webpage\n",
      "[download] Destination: Small Crowd Talking Ambience-IJQdnHT3MCA.m4a\n",
      "[download] 100% of 2.73MiB in 00:0040MiB/s ETA 00:003\n",
      "[ffmpeg] Correcting container in \"Small Crowd Talking Ambience-IJQdnHT3MCA.m4a\"\n",
      "[ffmpeg] Destination: Small Crowd Talking Ambience-IJQdnHT3MCA.mp3\n",
      "Deleting original file Small Crowd Talking Ambience-IJQdnHT3MCA.m4a (pass -k to keep)\n"
     ]
    },
    {
     "name": "stderr",
     "output_type": "stream",
     "text": [
      "\r",
      " 67%|██████▋   | 4/6 [07:29<03:44, 112.41s/it]"
     ]
    },
    {
     "name": "stdout",
     "output_type": "stream",
     "text": [
      "[youtube] wP8_mhRkkfc: Downloading webpage\n",
      "[download] Destination: Long Creepy Scary Halloween Music Horror Music Suspense Music-wP8_mhRkkfc.webm\n",
      "[download] 100% of 174.89MiB in 00:1576MiB/s ETA 00:00known ETA\n",
      "[ffmpeg] Destination: Long Creepy Scary Halloween Music Horror Music Suspense Music-wP8_mhRkkfc.mp3\n",
      "Deleting original file Relaxing Bossa Nova & Jazz Music For Study - Smooth Jazz Music - Background Music-Y-JQ-RCyPpQ.webm (pass -k to keep)\n"
     ]
    },
    {
     "name": "stderr",
     "output_type": "stream",
     "text": [
      "100%|██████████| 6/6 [11:36<00:00, 116.11s/it]\n"
     ]
    },
    {
     "name": "stdout",
     "output_type": "stream",
     "text": [
      "Deleting original file Long Creepy Scary Halloween Music Horror Music Suspense Music-wP8_mhRkkfc.webm (pass -k to keep)\n"
     ]
    },
    {
     "name": "stderr",
     "output_type": "stream",
     "text": [
      "\r",
      " 83%|████████▎ | 5/6 [12:30<02:49, 169.15s/it]"
     ]
    },
    {
     "name": "stdout",
     "output_type": "stream",
     "text": [
      "[youtube] h7pHrj2j6Q8: Downloading webpage\n",
      "[youtube] h7pHrj2j6Q8: Downloading MPD manifest\n",
      "[dashsegments] Total fragments: 699\n",
      "[download] Destination: Licensed music for business - Business & Corporate (part III)-h7pHrj2j6Q8.webm\n",
      "[download] 100% of 122.83MiB in 01:04.95MiB/s ETA 00:0016:17\n",
      "[ffmpeg] Destination: Licensed music for business - Business & Corporate (part III)-h7pHrj2j6Q8.mp3\n",
      "Deleting original file Licensed music for business - Business & Corporate (part III)-h7pHrj2j6Q8.webm (pass -k to keep)\n"
     ]
    },
    {
     "name": "stderr",
     "output_type": "stream",
     "text": [
      "100%|██████████| 6/6 [16:49<00:00, 168.23s/it]\n"
     ]
    }
   ],
   "source": [
    "import mp\n",
    "mp.multiprocessing(videos, loop, cores = 25, returned = False)"
   ]
  }
 ],
 "metadata": {
  "kernelspec": {
   "display_name": "Python 3",
   "language": "python",
   "name": "python3"
  },
  "language_info": {
   "codemirror_mode": {
    "name": "ipython",
    "version": 3
   },
   "file_extension": ".py",
   "mimetype": "text/x-python",
   "name": "python",
   "nbconvert_exporter": "python",
   "pygments_lexer": "ipython3",
   "version": "3.6.8"
  }
 },
 "nbformat": 4,
 "nbformat_minor": 2
}

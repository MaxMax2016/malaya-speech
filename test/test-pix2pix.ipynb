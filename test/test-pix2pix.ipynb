{
 "cells": [
  {
   "cell_type": "code",
   "execution_count": 1,
   "metadata": {},
   "outputs": [],
   "source": [
    "import os\n",
    "\n",
    "os.environ['CUDA_VISIBLE_DEVICES'] = '1'"
   ]
  },
  {
   "cell_type": "code",
   "execution_count": 2,
   "metadata": {},
   "outputs": [],
   "source": [
    "import sys\n",
    "\n",
    "SOURCE_DIR = os.path.dirname(os.path.dirname(os.path.abspath(__name__)))\n",
    "sys.path.insert(0, SOURCE_DIR)"
   ]
  },
  {
   "cell_type": "code",
   "execution_count": 3,
   "metadata": {},
   "outputs": [],
   "source": [
    "import tensorflow as tf\n",
    "import malaya_speech\n",
    "import malaya_speech.train\n",
    "from malaya_speech.train.model import pix2pix\n",
    "import numpy as np"
   ]
  },
  {
   "cell_type": "code",
   "execution_count": 4,
   "metadata": {},
   "outputs": [],
   "source": [
    "inputs = tf.placeholder(tf.float32, (None, 256, 256, 1))\n",
    "targets = tf.placeholder(tf.float32, (None, 256, 256, 1))"
   ]
  },
  {
   "cell_type": "code",
   "execution_count": 5,
   "metadata": {},
   "outputs": [],
   "source": [
    "def define_generator(inputs):\n",
    "    return pix2pix.generator.get_generator(inputs, 1)"
   ]
  },
  {
   "cell_type": "code",
   "execution_count": 6,
   "metadata": {
    "scrolled": true
   },
   "outputs": [
    {
     "name": "stdout",
     "output_type": "stream",
     "text": [
      "WARNING:tensorflow:From /Users/huseinzolkepli/Documents/malaya-speech/malaya_speech/train/model/pix2pix/model.py:91: The name tf.InteractiveSession is deprecated. Please use tf.compat.v1.InteractiveSession instead.\n",
      "\n",
      "WARNING:tensorflow:From /Users/huseinzolkepli/Documents/malaya-speech/malaya_speech/train/model/pix2pix/model.py:23: The name tf.variable_scope is deprecated. Please use tf.compat.v1.variable_scope instead.\n",
      "\n",
      "WARNING:tensorflow:From /Users/huseinzolkepli/Documents/malaya-speech/malaya_speech/train/model/pix2pix/layer.py:28: separable_conv2d (from tensorflow.python.layers.convolutional) is deprecated and will be removed in a future version.\n",
      "Instructions for updating:\n",
      "Use `tf.keras.layers.SeparableConv2D` instead.\n",
      "WARNING:tensorflow:From /Library/Frameworks/Python.framework/Versions/3.7/lib/python3.7/site-packages/tensorflow_core/python/layers/convolutional.py:1096: Layer.apply (from tensorflow.python.keras.engine.base_layer) is deprecated and will be removed in a future version.\n",
      "Instructions for updating:\n",
      "Please use `layer.__call__` method instead.\n",
      "WARNING:tensorflow:From /Users/huseinzolkepli/Documents/malaya-speech/malaya_speech/train/model/pix2pix/layer.py:83: batch_normalization (from tensorflow.python.layers.normalization) is deprecated and will be removed in a future version.\n",
      "Instructions for updating:\n",
      "Use keras.layers.BatchNormalization instead.  In particular, `tf.control_dependencies(tf.GraphKeys.UPDATE_OPS)` should not be used (consult the `tf.keras.layers.batch_normalization` documentation).\n",
      "WARNING:tensorflow:From /Users/huseinzolkepli/Documents/malaya-speech/malaya_speech/train/model/pix2pix/layer.py:45: The name tf.image.resize_images is deprecated. Please use tf.image.resize instead.\n",
      "\n",
      "WARNING:tensorflow:From /Users/huseinzolkepli/Documents/malaya-speech/malaya_speech/train/model/pix2pix/generator.py:79: calling dropout (from tensorflow.python.ops.nn_ops) with keep_prob is deprecated and will be removed in a future version.\n",
      "Instructions for updating:\n",
      "Please use `rate` instead of `keep_prob`. Rate should be set to `rate = 1 - keep_prob`.\n",
      "WARNING:tensorflow:From /Users/huseinzolkepli/Documents/malaya-speech/malaya_speech/train/model/pix2pix/layer.py:14: conv2d (from tensorflow.python.layers.convolutional) is deprecated and will be removed in a future version.\n",
      "Instructions for updating:\n",
      "Use `tf.keras.layers.Conv2D` instead.\n",
      "WARNING:tensorflow:From /Users/huseinzolkepli/Documents/malaya-speech/malaya_speech/train/model/pix2pix/model.py:36: The name tf.log is deprecated. Please use tf.math.log instead.\n",
      "\n",
      "WARNING:tensorflow:From /Users/huseinzolkepli/Documents/malaya-speech/malaya_speech/train/model/pix2pix/model.py:47: The name tf.trainable_variables is deprecated. Please use tf.compat.v1.trainable_variables instead.\n",
      "\n",
      "WARNING:tensorflow:From /Users/huseinzolkepli/Documents/malaya-speech/malaya_speech/train/model/pix2pix/model.py:50: The name tf.train.AdamOptimizer is deprecated. Please use tf.compat.v1.train.AdamOptimizer instead.\n",
      "\n",
      "WARNING:tensorflow:From /Users/huseinzolkepli/Documents/malaya-speech/malaya_speech/train/model/pix2pix/model.py:72: The name tf.train.get_or_create_global_step is deprecated. Please use tf.compat.v1.train.get_or_create_global_step instead.\n",
      "\n",
      "WARNING:tensorflow:From /Users/huseinzolkepli/Documents/malaya-speech/malaya_speech/train/model/pix2pix/model.py:73: The name tf.assign is deprecated. Please use tf.compat.v1.assign instead.\n",
      "\n",
      "WARNING:tensorflow:From /Users/huseinzolkepli/Documents/malaya-speech/malaya_speech/train/model/pix2pix/model.py:94: The name tf.summary.scalar is deprecated. Please use tf.compat.v1.summary.scalar instead.\n",
      "\n",
      "WARNING:tensorflow:From /Users/huseinzolkepli/Documents/malaya-speech/malaya_speech/train/model/pix2pix/model.py:98: The name tf.summary.merge_all is deprecated. Please use tf.compat.v1.summary.merge_all instead.\n",
      "\n",
      "WARNING:tensorflow:From /Users/huseinzolkepli/Documents/malaya-speech/malaya_speech/train/model/pix2pix/model.py:113: The name tf.global_variables_initializer is deprecated. Please use tf.compat.v1.global_variables_initializer instead.\n",
      "\n"
     ]
    }
   ],
   "source": [
    "model = pix2pix.Model(define_generator, inputs, targets)"
   ]
  },
  {
   "cell_type": "code",
   "execution_count": 8,
   "metadata": {},
   "outputs": [],
   "source": [
    "sess = model.sess\n",
    "fetches = model.fetches\n",
    "writer = tf.summary.FileWriter('./out')\n",
    "saver = tf.train.Saver()"
   ]
  },
  {
   "cell_type": "code",
   "execution_count": 9,
   "metadata": {},
   "outputs": [],
   "source": [
    "import numpy as np\n",
    "\n",
    "test_mel = np.random.uniform(size = (1, 256, 256, 1))"
   ]
  },
  {
   "cell_type": "code",
   "execution_count": 10,
   "metadata": {},
   "outputs": [
    {
     "name": "stdout",
     "output_type": "stream",
     "text": [
      "{'train': None, 'global_step': 1, 'discrim_loss': 0.017798707, 'gen_loss_GAN': 0.0052067577, 'gen_loss_L1': 0.0050082654, 'summary': b'\\n\\x1b\\n\\x14discriminator_loss_1\\x15\\x00\\x00\\x00\\x00\\n\\x19\\n\\x12generator_loss_GAN\\x15\\x00\\x00\\x00\\x00\\n\\x18\\n\\x11generator_loss_L1\\x15\\x00\\x00\\x00\\x00'}\n",
      "{'train': None, 'global_step': 2, 'discrim_loss': 0.031046651, 'gen_loss_GAN': 0.012673671, 'gen_loss_L1': 0.009947626, 'summary': b'\\n\\x1b\\n\\x14discriminator_loss_1\\x15\\x98\\xce\\x91<\\n\\x19\\n\\x12generator_loss_GAN\\x15s\\x9d\\xaa;\\n\\x18\\n\\x11generator_loss_L1\\x15`\\x1c\\xa4;'}\n",
      "{'train': None, 'global_step': 3, 'discrim_loss': 0.042321302, 'gen_loss_GAN': 0.022744652, 'gen_loss_L1': 0.014819033, 'summary': b'\\n\\x1b\\n\\x14discriminator_loss_1\\x15\\x8cU\\xfe<\\n\\x19\\n\\x12generator_loss_GAN\\x15;\\xa5O<\\n\\x18\\n\\x11generator_loss_L1\\x15^\\xfb\"<'}\n",
      "{'train': None, 'global_step': 4, 'discrim_loss': 0.051913403, 'gen_loss_GAN': 0.03329131, 'gen_loss_L1': 0.019621799, 'summary': b'\\n\\x1b\\n\\x14discriminator_loss_1\\x15\\x1aY-=\\n\\x19\\n\\x12generator_loss_GAN\\x15\\xfeR\\xba<\\n\\x18\\n\\x11generator_loss_L1\\x15\\x88\\xcbr<'}\n",
      "{'train': None, 'global_step': 5, 'discrim_loss': 0.06002421, 'gen_loss_GAN': 0.043500952, 'gen_loss_L1': 0.024357013, 'summary': b'\\n\\x1b\\n\\x14discriminator_loss_1\\x15&\\xa3T=\\n\\x19\\n\\x12generator_loss_GAN\\x15x\\\\\\x08=\\n\\x18\\n\\x11generator_loss_L1\\x15\\xe5\\xbd\\xa0<'}\n"
     ]
    }
   ],
   "source": [
    "for i in range(5):\n",
    "    results = sess.run(fetches, feed_dict = {inputs: test_mel, targets: test_mel})\n",
    "    print(results)\n",
    "    writer.add_summary(results['summary'], results['global_step'])"
   ]
  },
  {
   "cell_type": "code",
   "execution_count": null,
   "metadata": {},
   "outputs": [],
   "source": [
    "saver.save(sess, './out/model.ckpt', global_step = results['global_step'])"
   ]
  }
 ],
 "metadata": {
  "kernelspec": {
   "display_name": "Python 3",
   "language": "python",
   "name": "python3"
  },
  "language_info": {
   "codemirror_mode": {
    "name": "ipython",
    "version": 3
   },
   "file_extension": ".py",
   "mimetype": "text/x-python",
   "name": "python",
   "nbconvert_exporter": "python",
   "pygments_lexer": "ipython3",
   "version": "3.7.7"
  }
 },
 "nbformat": 4,
 "nbformat_minor": 4
}

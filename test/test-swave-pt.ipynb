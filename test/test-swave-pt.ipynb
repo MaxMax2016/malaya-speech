{
 "cells": [
  {
   "cell_type": "code",
   "execution_count": 1,
   "id": "demographic-center",
   "metadata": {},
   "outputs": [],
   "source": [
    "import os\n",
    "\n",
    "os.environ['CUDA_VISIBLE_DEVICES'] = '1'"
   ]
  },
  {
   "cell_type": "code",
   "execution_count": 2,
   "id": "earned-measure",
   "metadata": {},
   "outputs": [],
   "source": [
    "import sys\n",
    "\n",
    "SOURCE_DIR = os.path.dirname(os.path.dirname(os.path.abspath(__name__)))\n",
    "sys.path.insert(0, SOURCE_DIR)"
   ]
  },
  {
   "cell_type": "code",
   "execution_count": 3,
   "id": "southeast-riverside",
   "metadata": {},
   "outputs": [],
   "source": [
    "import tensorflow as tf\n",
    "import malaya_speech\n",
    "import malaya_speech.augmentation.waveform as augmentation"
   ]
  },
  {
   "cell_type": "code",
   "execution_count": 4,
   "id": "electoral-crown",
   "metadata": {},
   "outputs": [],
   "source": [
    "import numpy as np\n",
    "import torch\n",
    "import torch.nn as nn\n",
    "import torch.nn.functional as F\n",
    "from torch.autograd import Variable\n",
    "import IPython.display as ipd"
   ]
  },
  {
   "cell_type": "code",
   "execution_count": 5,
   "id": "british-henry",
   "metadata": {},
   "outputs": [],
   "source": [
    "tf.compat.v1.enable_eager_execution()"
   ]
  },
  {
   "cell_type": "code",
   "execution_count": 6,
   "id": "interpreted-intermediate",
   "metadata": {},
   "outputs": [
    {
     "data": {
      "text/plain": [
       "<tf.Tensor: id=5, shape=(1, 178, 128), dtype=float32, numpy=\n",
       "array([[[-1.4894083 , -1.08747   ,  0.23945677, ...,  0.62369645,\n",
       "          0.09033953, -0.50241685],\n",
       "        [-0.43885314, -0.5180802 , -2.0874403 , ...,  0.05223629,\n",
       "          2.452981  ,  0.46216166],\n",
       "        [ 1.6546882 ,  0.41157594, -0.8293056 , ...,  0.20968488,\n",
       "          0.46494552, -0.85549325],\n",
       "        ...,\n",
       "        [-0.46001434, -0.57955754, -0.3742274 , ..., -0.42055252,\n",
       "          0.55562997,  0.51984334],\n",
       "        [-0.21256934, -0.7085946 ,  1.9723598 , ..., -1.3315401 ,\n",
       "          0.55218446,  0.8064594 ],\n",
       "        [-0.57879204,  0.71113425, -0.19437844, ...,  0.8976132 ,\n",
       "          0.10807681, -0.23783444]]], dtype=float32)>"
      ]
     },
     "execution_count": 6,
     "metadata": {},
     "output_type": "execute_result"
    }
   ],
   "source": [
    "x = tf.random.normal(shape = (1, 178, 128))\n",
    "x"
   ]
  },
  {
   "cell_type": "code",
   "execution_count": 7,
   "id": "global-dress",
   "metadata": {},
   "outputs": [
    {
     "data": {
      "text/plain": [
       "<tf.Tensor: id=10, shape=(1, 178), dtype=int64, numpy=\n",
       "array([[128, 128, 128, 128, 128, 128, 128, 128, 128, 128, 128, 128, 128,\n",
       "        128, 128, 128, 128, 128, 128, 128, 128, 128, 128, 128, 128, 128,\n",
       "        128, 128, 128, 128, 128, 128, 128, 128, 128, 128, 128, 128, 128,\n",
       "        128, 128, 128, 128, 128, 128, 128, 128, 128, 128, 128, 128, 128,\n",
       "        128, 128, 128, 128, 128, 128, 128, 128, 128, 128, 128, 128, 128,\n",
       "        128, 128, 128, 128, 128, 128, 128, 128, 128, 128, 128, 128, 128,\n",
       "        128, 128, 128, 128, 128, 128, 128, 128, 128, 128, 128, 128, 128,\n",
       "        128, 128, 128, 128, 128, 128, 128, 128, 128, 128, 128, 128, 128,\n",
       "        128, 128, 128, 128, 128, 128, 128, 128, 128, 128, 128, 128, 128,\n",
       "        128, 128, 128, 128, 128, 128, 128, 128, 128, 128, 128, 128, 128,\n",
       "        128, 128, 128, 128, 128, 128, 128, 128, 128, 128, 128, 128, 128,\n",
       "        128, 128, 128, 128, 128, 128, 128, 128, 128, 128, 128, 128, 128,\n",
       "        128, 128, 128, 128, 128, 128, 128, 128, 128, 128, 128, 128, 128,\n",
       "        128, 128, 128, 128, 128, 128, 128, 128, 128]])>"
      ]
     },
     "execution_count": 7,
     "metadata": {},
     "output_type": "execute_result"
    }
   ],
   "source": [
    "tf.math.count_nonzero(x, axis = 2)"
   ]
  },
  {
   "cell_type": "code",
   "execution_count": 8,
   "id": "limited-emerald",
   "metadata": {},
   "outputs": [],
   "source": [
    "import random\n",
    "\n",
    "sr = 8000\n",
    "speakers_size = 4\n",
    "\n",
    "def read_wav(f):\n",
    "    return malaya_speech.load(f, sr = sr)\n",
    "\n",
    "def random_sampling(s, length):\n",
    "    return augmentation.random_sampling(s, sr = sr, length = length)\n",
    "\n",
    "def combine_speakers(files, n = 5, limit = 4):\n",
    "    w_samples = random.sample(files, n)\n",
    "    w_samples = [\n",
    "        random_sampling(\n",
    "            read_wav(f)[0],\n",
    "            length = min(\n",
    "                random.randint(10000 // n, 20000 // n), 10000\n",
    "            ),\n",
    "        )\n",
    "        for f in w_samples\n",
    "    ]\n",
    "    y = [w_samples[0]]\n",
    "    left = w_samples[0].copy() * random.uniform(0.5, 1.0)\n",
    "    start, end = [], []\n",
    "    start.append(0)\n",
    "    end.append(len(left))\n",
    "\n",
    "    combined = None\n",
    "\n",
    "    for i in range(1, n):\n",
    "        right = w_samples[i].copy() * random.uniform(0.5, 1.0)\n",
    "        overlap = random.uniform(0.1, 0.9)\n",
    "        print(i, overlap, len(right))\n",
    "        len_overlap = int(overlap * len(right))\n",
    "        minus = len(left) - len_overlap\n",
    "        padded_right = np.pad(right, (minus, 0))\n",
    "        start.append(minus)\n",
    "        end.append(len(padded_right))\n",
    "        left = np.pad(left, (0, len(padded_right) - len(left)))\n",
    "\n",
    "        left = left + padded_right\n",
    "\n",
    "        if i >= (limit - 1):\n",
    "            if combined is None:\n",
    "                combined = padded_right\n",
    "            else:\n",
    "                combined = np.pad(\n",
    "                    combined, (0, len(padded_right) - len(combined))\n",
    "                )\n",
    "                combined += padded_right\n",
    "\n",
    "        else:\n",
    "            y.append(padded_right)\n",
    "\n",
    "    if combined is not None:\n",
    "        y.append(combined)\n",
    "\n",
    "    for i in range(len(y)):\n",
    "        if len(y[i]) != len(left):\n",
    "            y[i] = np.pad(y[i], (0, len(left) - len(y[i])))\n",
    "            y[i] = y[i] / np.max(np.abs(y[i]))\n",
    "\n",
    "    left = left / np.max(np.abs(left))\n",
    "    \n",
    "    while len(y) < limit:\n",
    "        y.append(np.zeros((len(left))))\n",
    "        start.append(0)\n",
    "        end.append(0)\n",
    "        \n",
    "    return left, y, start[:limit], end[:limit]\n",
    "\n",
    "# y, _ = malaya_speech.load('../speech/example-speaker/husein-zolkepli.wav')\n",
    "# y = np.expand_dims(y, 0).astype(np.float32)\n",
    "# y.shape"
   ]
  },
  {
   "cell_type": "code",
   "execution_count": 9,
   "id": "square-theory",
   "metadata": {},
   "outputs": [
    {
     "data": {
      "text/plain": [
       "8"
      ]
     },
     "execution_count": 9,
     "metadata": {},
     "output_type": "execute_result"
    }
   ],
   "source": [
    "from glob import glob\n",
    "\n",
    "wavs = glob('../speech/example-speaker/*.wav')\n",
    "len(wavs)"
   ]
  },
  {
   "cell_type": "code",
   "execution_count": 10,
   "id": "international-crawford",
   "metadata": {
    "scrolled": true
   },
   "outputs": [
    {
     "name": "stdout",
     "output_type": "stream",
     "text": [
      "1 0.3157270280609322 41288\n"
     ]
    },
    {
     "data": {
      "text/plain": [
       "(6.414125, 4, [0, 10025, 0, 0], [23060, 51313, 0, 0])"
      ]
     },
     "execution_count": 10,
     "metadata": {},
     "output_type": "execute_result"
    }
   ],
   "source": [
    "left, y, start, end = combine_speakers(wavs, random.randint(1, len(wavs)))\n",
    "len(left) / sr, len(y), start, end"
   ]
  },
  {
   "cell_type": "code",
   "execution_count": 11,
   "id": "sensitive-celebrity",
   "metadata": {},
   "outputs": [
    {
     "data": {
      "text/html": [
       "\n",
       "                <audio  controls=\"controls\" >\n",
       "                    <source src=\"data:audio/wav;base64,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\" type=\"audio/wav\" />\n",
       "                    Your browser does not support the audio element.\n",
       "                </audio>\n",
       "              "
      ],
      "text/plain": [
       "<IPython.lib.display.Audio object>"
      ]
     },
     "execution_count": 11,
     "metadata": {},
     "output_type": "execute_result"
    }
   ],
   "source": [
    "ipd.Audio(left[start[0]: end[0]], rate = sr)"
   ]
  },
  {
   "cell_type": "code",
   "execution_count": 12,
   "id": "preceding-mauritius",
   "metadata": {},
   "outputs": [],
   "source": [
    "left = np.array([left.astype(np.float32)])"
   ]
  },
  {
   "cell_type": "code",
   "execution_count": 13,
   "id": "foster-employment",
   "metadata": {},
   "outputs": [],
   "source": [
    "y_pt = torch.from_numpy(left)\n",
    "y_tf = tf.convert_to_tensor(left)"
   ]
  },
  {
   "cell_type": "code",
   "execution_count": 14,
   "id": "qualified-russell",
   "metadata": {},
   "outputs": [
    {
     "data": {
      "text/plain": [
       "(126, 257)"
      ]
     },
     "execution_count": 14,
     "metadata": {},
     "output_type": "execute_result"
    }
   ],
   "source": [
    "N = 128\n",
    "L = 8\n",
    "H = 128\n",
    "R = 6\n",
    "C = speakers_size\n",
    "input_normalize = False\n",
    "sample_rate = 8000\n",
    "segment = 4\n",
    "context_len = 2 * sr / 1000\n",
    "context = int(sr * context_len / 1000)\n",
    "layer = R\n",
    "filter_dim = context * 2 + 1\n",
    "num_spk = C\n",
    "segment_size = int(np.sqrt(2 * sr * segment / (L/2)))\n",
    "segment_size, filter_dim"
   ]
  },
  {
   "cell_type": "code",
   "execution_count": 15,
   "id": "judicial-bobby",
   "metadata": {},
   "outputs": [],
   "source": [
    "class Encoder_PT(nn.Module):\n",
    "    def __init__(self, L, N):\n",
    "        super(Encoder_PT, self).__init__()\n",
    "        self.L, self.N = L, N\n",
    "        # setting 50% overlap\n",
    "        self.conv = nn.Conv1d(\n",
    "            1, N, kernel_size=L, stride=L // 2, bias=False)\n",
    "\n",
    "    def forward(self, mixture):\n",
    "        mixture = torch.unsqueeze(mixture, 1)\n",
    "        mixture_w = F.relu(self.conv(mixture))\n",
    "        return mixture_w\n",
    "    \n",
    "class MulCatBlock_PT(nn.Module):\n",
    "\n",
    "    def __init__(self, input_size, hidden_size, dropout=0, bidirectional=False):\n",
    "        super(MulCatBlock_PT, self).__init__()\n",
    "\n",
    "        self.input_size = input_size\n",
    "        self.hidden_size = hidden_size\n",
    "        self.num_direction = int(bidirectional) + 1\n",
    "\n",
    "        self.rnn = nn.LSTM(input_size, hidden_size, 1, dropout=dropout,\n",
    "                           batch_first=True, bidirectional=bidirectional)\n",
    "        self.rnn_proj = nn.Linear(hidden_size * self.num_direction, input_size)\n",
    "\n",
    "        self.gate_rnn = nn.LSTM(input_size, hidden_size, num_layers=1,\n",
    "                                batch_first=True, dropout=dropout, bidirectional=bidirectional)\n",
    "        self.gate_rnn_proj = nn.Linear(\n",
    "            hidden_size * self.num_direction, input_size)\n",
    "\n",
    "        self.block_projection = nn.Linear(input_size * 2, input_size)\n",
    "    \n",
    "    def forward(self, input):\n",
    "        output = input\n",
    "        # run rnn module\n",
    "        rnn_output, _ = self.rnn(output)\n",
    "        rnn_output = self.rnn_proj(rnn_output.contiguous(\n",
    "        ).view(-1, rnn_output.shape[2])).view(output.shape).contiguous()\n",
    "        # run gate rnn module\n",
    "        gate_rnn_output, _ = self.gate_rnn(output)\n",
    "        gate_rnn_output = self.gate_rnn_proj(gate_rnn_output.contiguous(\n",
    "        ).view(-1, gate_rnn_output.shape[2])).view(output.shape).contiguous()\n",
    "        # apply gated rnn\n",
    "        gated_output = torch.mul(rnn_output, gate_rnn_output)\n",
    "        gated_output = torch.cat([gated_output, output], 2)\n",
    "        gated_output = self.block_projection(\n",
    "            gated_output.contiguous().view(-1, gated_output.shape[2])).view(output.shape)\n",
    "        return gated_output\n",
    "        \n",
    "class ByPass_PT(nn.Module):\n",
    "    def __init__(self):\n",
    "        super(ByPass_PT, self).__init__()\n",
    "\n",
    "    def forward(self, input):\n",
    "        return input\n",
    "\n",
    "\n",
    "class DPMulCat_PT(nn.Module):\n",
    "    def __init__(self, input_size, hidden_size, output_size, num_spk,\n",
    "                 dropout=0, num_layers=1, bidirectional=True, input_normalize=False):\n",
    "        super(DPMulCat_PT, self).__init__()\n",
    "\n",
    "        self.input_size = input_size\n",
    "        self.output_size = output_size\n",
    "        self.hidden_size = hidden_size\n",
    "        self.in_norm = input_normalize\n",
    "        self.num_layers = num_layers\n",
    "\n",
    "        self.rows_grnn = nn.ModuleList([])\n",
    "        self.cols_grnn = nn.ModuleList([])\n",
    "        self.rows_normalization = nn.ModuleList([])\n",
    "        self.cols_normalization = nn.ModuleList([])\n",
    "\n",
    "        # create the dual path pipeline\n",
    "        for i in range(num_layers):\n",
    "            self.rows_grnn.append(MulCatBlock_PT(\n",
    "                input_size, hidden_size, dropout, bidirectional=bidirectional))\n",
    "            self.cols_grnn.append(MulCatBlock_PT(\n",
    "                input_size, hidden_size, dropout, bidirectional=bidirectional))\n",
    "            if self.in_norm:\n",
    "                self.rows_normalization.append(\n",
    "                    nn.GroupNorm(1, input_size, eps=1e-8))\n",
    "                self.cols_normalization.append(\n",
    "                    nn.GroupNorm(1, input_size, eps=1e-8))\n",
    "            else:\n",
    "                # used to disable normalization\n",
    "                self.rows_normalization.append(ByPass_PT())\n",
    "                self.cols_normalization.append(ByPass_PT())\n",
    "\n",
    "        self.output = nn.Sequential(\n",
    "            nn.PReLU(), nn.Conv2d(input_size, output_size * num_spk, 1))\n",
    "\n",
    "    def forward(self, input):\n",
    "        batch_size, _, d1, d2 = input.shape\n",
    "        output = input\n",
    "        output_all = []\n",
    "        for i in range(self.num_layers):\n",
    "            row_input = output.permute(0, 3, 2, 1).contiguous().view(batch_size * d2, d1, -1)\n",
    "            \n",
    "            row_output = self.rows_grnn[i](row_input)\n",
    "            row_output = row_output.view(\n",
    "                batch_size, d2, d1, -1).permute(0, 3, 2, 1).contiguous()\n",
    "            row_output = self.rows_normalization[i](row_output)\n",
    "            # apply a skip connection\n",
    "            output = output + row_output\n",
    "            \n",
    "            print(i, row_input.shape, row_output.shape, output.shape)\n",
    "\n",
    "            col_input = output.permute(0, 2, 3, 1).contiguous().view(\n",
    "                batch_size * d1, d2, -1)\n",
    "            col_output = self.cols_grnn[i](col_input)\n",
    "            col_output = col_output.view(\n",
    "                batch_size, d1, d2, -1).permute(0, 3, 1, 2).contiguous()\n",
    "            col_output = self.cols_normalization[i](col_output).contiguous()\n",
    "            # apply a skip connection\n",
    "            output = output + col_output\n",
    "            \n",
    "            print(i, col_input.shape, col_output.shape, output.shape)\n",
    "\n",
    "            output_i = self.output(output)\n",
    "            output_all.append(output_i)\n",
    "        return output_all\n",
    "\n",
    "        \n",
    "class Separator_PT(nn.Module):\n",
    "    def __init__(self, input_dim, feature_dim, hidden_dim, output_dim, num_spk=2,\n",
    "                 layer=4, segment_size=100, input_normalize=False, bidirectional=True):\n",
    "        super(Separator_PT, self).__init__()\n",
    "\n",
    "        self.input_dim = input_dim\n",
    "        self.feature_dim = feature_dim\n",
    "        self.hidden_dim = hidden_dim\n",
    "        self.output_dim = output_dim\n",
    "\n",
    "        self.layer = layer\n",
    "        self.segment_size = segment_size\n",
    "        self.num_spk = num_spk\n",
    "        self.input_normalize = input_normalize\n",
    "\n",
    "        self.rnn_model = DPMulCat_PT(self.feature_dim, self.hidden_dim,\n",
    "                                  self.feature_dim, self.num_spk, num_layers=layer, bidirectional=bidirectional, input_normalize=input_normalize)\n",
    "\n",
    "    # ======================================= #\n",
    "    # The following code block was borrowed and modified from https://github.com/yluo42/TAC\n",
    "    # ================ BEGIN ================ #\n",
    "    def pad_segment(self, input, segment_size):\n",
    "        # input is the features: (B, N, T)\n",
    "        batch_size, dim, seq_len = input.shape\n",
    "        segment_stride = segment_size // 2\n",
    "        rest = segment_size - (segment_stride + seq_len %\n",
    "                               segment_size) % segment_size\n",
    "        if rest > 0:\n",
    "            pad = Variable(torch.zeros(batch_size, dim, rest)\n",
    "                           ).type(input.type())\n",
    "            input = torch.cat([input, pad], 2)\n",
    "\n",
    "        pad_aux = Variable(torch.zeros(\n",
    "            batch_size, dim, segment_stride)).type(input.type())\n",
    "        input = torch.cat([pad_aux, input, pad_aux], 2)\n",
    "        return input, rest\n",
    "\n",
    "    def create_chuncks(self, input, segment_size):\n",
    "        # split the feature into chunks of segment size\n",
    "        # input is the features: (B, N, T)\n",
    "\n",
    "        input, rest = self.pad_segment(input, segment_size)\n",
    "        batch_size, dim, seq_len = input.shape\n",
    "        segment_stride = segment_size // 2\n",
    "\n",
    "        segments1 = input[:, :, :-segment_stride].contiguous().view(batch_size,\n",
    "                                                                    dim, -1, segment_size)\n",
    "        segments2 = input[:, :, segment_stride:].contiguous().view(\n",
    "            batch_size, dim, -1, segment_size)\n",
    "        segments = torch.cat([segments1, segments2], 3).view(\n",
    "            batch_size, dim, -1, segment_size).transpose(2, 3)\n",
    "        return segments.contiguous(), rest\n",
    "\n",
    "    def merge_chuncks(self, input, rest):\n",
    "\n",
    "        batch_size, dim, segment_size, _ = input.shape\n",
    "        segment_stride = segment_size // 2\n",
    "        input = input.transpose(2, 3).contiguous().view(\n",
    "            batch_size, dim, -1, segment_size*2)  # B, N, K, L\n",
    "\n",
    "        input1 = input[:, :, :, :segment_size].contiguous().view(\n",
    "            batch_size, dim, -1)[:, :, segment_stride:]\n",
    "        input2 = input[:, :, :, segment_size:].contiguous().view(\n",
    "            batch_size, dim, -1)[:, :, :-segment_stride]\n",
    "\n",
    "        output = input1 + input2\n",
    "        if rest > 0:\n",
    "            output = output[:, :, :-rest]\n",
    "        return output.contiguous()\n",
    "    \n",
    "    def forward(self, input):\n",
    "        # create chunks\n",
    "        enc_segments, enc_rest = self.create_chuncks(\n",
    "            input, self.segment_size)\n",
    "        output_all = self.rnn_model(enc_segments)\n",
    "        \n",
    "        output_all_wav = []\n",
    "        for ii in range(len(output_all)):\n",
    "            output_ii = self.merge_chuncks(\n",
    "                output_all[ii], enc_rest)\n",
    "            print(ii, output_all[ii].shape)\n",
    "            output_all_wav.append(output_ii)\n",
    "        return output_all_wav"
   ]
  },
  {
   "cell_type": "code",
   "execution_count": 16,
   "id": "legendary-lawsuit",
   "metadata": {},
   "outputs": [],
   "source": [
    "# encoder_pt = Encoder_PT(L, N)\n",
    "# separator_pt = Separator_PT(filter_dim + N, N, H,\n",
    "#                       filter_dim, num_spk, layer, segment_size, input_normalize)\n",
    "# e_pt = encoder_pt(y_pt)\n",
    "# o_pt = separator_pt(e_pt)\n",
    "# # l.shape, r"
   ]
  },
  {
   "cell_type": "code",
   "execution_count": 17,
   "id": "close-couple",
   "metadata": {},
   "outputs": [],
   "source": [
    "# [i.shape for i in o_pt]"
   ]
  },
  {
   "cell_type": "code",
   "execution_count": 18,
   "id": "historic-initial",
   "metadata": {},
   "outputs": [],
   "source": [
    "def shape_list(x):\n",
    "    \"\"\"Deal with dynamic shape in tensorflow cleanly.\"\"\"\n",
    "    static = x.shape.as_list()\n",
    "    dynamic = tf.shape(x)\n",
    "    return [dynamic[i] if s is None else s for i, s in enumerate(static)]\n",
    "\n",
    "class Encoder(tf.keras.layers.Layer):\n",
    "    def __init__(self, L, N, **kwargs):\n",
    "        super(Encoder, self).__init__(name = 'Encoder', **kwargs)\n",
    "        self.conv = tf.keras.layers.Conv1D(N, kernel_size=L, strides=L // 2, use_bias=False)\n",
    "    \n",
    "    def call(self, mixture):\n",
    "        mixture = tf.expand_dims(mixture, -1)\n",
    "        mixture_w = tf.nn.relu(self.conv(mixture))\n",
    "        return mixture_w\n",
    "    \n",
    "class Decoder(tf.keras.layers.Layer):\n",
    "    def __init__(self, L, **kwargs):\n",
    "        super(Decoder, self).__init__(name = 'Decoder', **kwargs)\n",
    "        self.L = L\n",
    "\n",
    "    def call(self, est_source):\n",
    "        # torch.Size([1, 256, 22521])\n",
    "        # pt (1, 2, 128, 22521), tf (1, 22521, 2, 128)\n",
    "        est_source = tf.transpose(est_source, (0, 1, 3, 2))\n",
    "        est_source = tf.compat.v1.layers.average_pooling2d(est_source, 1, (1,8),\n",
    "                                     padding = 'SAME')\n",
    "        est_source = tf.signal.overlap_and_add(tf.transpose(est_source, (0, 3, 1, 2)), self.L // 2)\n",
    "\n",
    "        return est_source\n",
    "    \n",
    "class MulCatBlock(tf.keras.layers.Layer):\n",
    "\n",
    "    def __init__(self, input_size, hidden_size, dropout=0, bidirectional=False, **kwargs):\n",
    "        super(MulCatBlock, self).__init__(name = 'MulCatBlock', **kwargs)\n",
    "\n",
    "        self.input_size = input_size\n",
    "        self.hidden_size = hidden_size\n",
    "        self.num_direction = int(bidirectional) + 1\n",
    "        \n",
    "        if bidirectional:\n",
    "            self.rnn = tf.keras.layers.Bidirectional(\n",
    "                tf.keras.layers.LSTM(hidden_size, return_sequences = True)\n",
    "            )\n",
    "            self.gate_rnn = tf.keras.layers.Bidirectional(\n",
    "                tf.keras.layers.LSTM(hidden_size, return_sequences = True)\n",
    "            )\n",
    "        else:\n",
    "            self.rnn = tf.keras.layers.LSTM(hidden_size, return_sequences = True)\n",
    "            self.gate_rnn = tf.keras.layers.LSTM(hidden_size, return_sequences = True)\n",
    "        \n",
    "        self.rnn_proj = tf.keras.layers.Dense(input_size)\n",
    "        self.gate_rnn_proj = tf.keras.layers.Dense(input_size)\n",
    "        self.block_projection = tf.keras.layers.Dense(input_size)\n",
    "    \n",
    "    def call(self, input):\n",
    "        output = input\n",
    "        rnn_output = self.rnn(output)\n",
    "        rnn_output = self.rnn_proj(rnn_output)\n",
    "        gate_rnn_output = self.gate_rnn(output)\n",
    "        gate_rnn_output = self.gate_rnn_proj(gate_rnn_output)\n",
    "        gated_output = tf.multiply(rnn_output, gate_rnn_output)\n",
    "        gated_output = tf.concat([gated_output, output], 2)\n",
    "        gated_output = self.block_projection(gated_output)\n",
    "        return gated_output\n",
    "    \n",
    "class GroupNorm(tf.keras.layers.Layer):\n",
    "    def __init__(self, **kwargs):\n",
    "        super(DPMulCat, self).__init__(name = 'GroupNorm', **kwargs)\n",
    "    \n",
    "    def call(self, input):\n",
    "        return tf.contrib.layers.group_norm(x_tf, groups = 1, epsilon = 1e-8)\n",
    "    \n",
    "class ByPass(tf.keras.layers.Layer):\n",
    "    def __init__(self, **kwargs):\n",
    "        super(ByPass, self).__init__(name = 'ByPass', **kwargs)\n",
    "\n",
    "    def call(self, input):\n",
    "        return input\n",
    "        \n",
    "class DPMulCat(tf.keras.layers.Layer):\n",
    "    def __init__(self, input_size, hidden_size, output_size, num_spk,\n",
    "                 dropout=0, num_layers=1, bidirectional=True, input_normalize=False, **kwargs):\n",
    "        super(DPMulCat, self).__init__(name = 'DPMulCat', **kwargs)\n",
    "\n",
    "        self.input_size = input_size\n",
    "        self.output_size = output_size\n",
    "        self.hidden_size = hidden_size\n",
    "        self.in_norm = input_normalize\n",
    "        self.num_layers = num_layers\n",
    "        \n",
    "        self.rows_grnn = []\n",
    "        self.cols_grnn = []\n",
    "        self.rows_normalization = []\n",
    "        self.cols_normalization = []\n",
    "        \n",
    "        for i in range(num_layers):\n",
    "            self.rows_grnn.append(MulCatBlock(\n",
    "                input_size, hidden_size, dropout, bidirectional=bidirectional))\n",
    "            self.cols_grnn.append(MulCatBlock(\n",
    "                input_size, hidden_size, dropout, bidirectional=bidirectional))\n",
    "            if self.in_norm:\n",
    "                self.rows_normalization.append(GroupNorm())\n",
    "                self.cols_normalization.append(GroupNorm())\n",
    "            else:\n",
    "                # used to disable normalization\n",
    "                self.rows_normalization.append(ByPass())\n",
    "                self.cols_normalization.append(ByPass())\n",
    "                \n",
    "        self.outputs = tf.keras.Sequential()     \n",
    "        self.outputs.add(tf.keras.layers.PReLU())\n",
    "        self.outputs.add(tf.keras.layers.Conv2D(output_size * num_spk, 1, padding = 'SAME'))\n",
    "    \n",
    "    def call(self, input):\n",
    "        # original, [b, d3, d1, d2]\n",
    "        print('input', input.shape)\n",
    "        input = tf.transpose(input, (0, 2, 1, 3))\n",
    "        batch_size, d3, d1, d2 = shape_list(input)\n",
    "        output = input\n",
    "        output_all = []\n",
    "        for i in range(self.num_layers):\n",
    "            row_input = tf.transpose(output, [0, 3, 2, 1])\n",
    "            print('row_input', row_input.shape)\n",
    "            row_input = tf.reshape(row_input, (batch_size * d2, d1, d3))\n",
    "            row_output = self.rows_grnn[i](row_input)\n",
    "            row_output = tf.reshape(row_output, (batch_size, d2, d1, d3))\n",
    "            row_output = tf.transpose(row_output, (0, 3, 2, 1))\n",
    "            row_output = self.rows_normalization[i](row_output)\n",
    "            output = output + row_output\n",
    "            \n",
    "            print(i, row_input.shape, row_output.shape, output.shape)\n",
    "            \n",
    "            col_input = tf.transpose(output, [0, 2, 3, 1])\n",
    "            col_input = tf.reshape(col_input, (batch_size * d1, d2, d3))\n",
    "            col_output = self.cols_grnn[i](col_input)\n",
    "            col_output = tf.reshape(col_output, (batch_size, d1, d2, d3))\n",
    "            col_output = tf.transpose(col_output, (0, 3, 1, 2))\n",
    "            col_output = self.cols_normalization[i](col_output)\n",
    "            \n",
    "            output = output + col_output\n",
    "            \n",
    "            print(i, col_input.shape, col_output.shape, output.shape)\n",
    "            \n",
    "            # torch.Size([1, 128, 126, 360]\n",
    "            output_i = self.outputs(tf.transpose(output, [0, 2, 3, 1]))\n",
    "            output_all.append(output_i)\n",
    "        return output_all\n",
    "    \n",
    "class Separator(tf.keras.layers.Layer):\n",
    "    def __init__(self, input_dim, feature_dim, hidden_dim, output_dim, num_spk=2,\n",
    "                 layer=4, segment_size=100, input_normalize=False, bidirectional=True, **kwargs):\n",
    "        super(Separator, self).__init__(name = 'Separator', **kwargs)\n",
    "        self.input_dim = input_dim\n",
    "        self.feature_dim = feature_dim\n",
    "        self.hidden_dim = hidden_dim\n",
    "        self.output_dim = output_dim\n",
    "\n",
    "        self.layer = layer\n",
    "        self.segment_size = segment_size\n",
    "        self.num_spk = num_spk\n",
    "        self.input_normalize = input_normalize\n",
    "        \n",
    "        self.rnn_model = DPMulCat(self.feature_dim, self.hidden_dim,\n",
    "                                  self.feature_dim, self.num_spk, num_layers=layer, \n",
    "                                  bidirectional=bidirectional, input_normalize=input_normalize)\n",
    "    \n",
    "    def pad_segment(self, input, segment_size):\n",
    "        # input is the features: (B, N, T)\n",
    "        \n",
    "        batch_size, seq_len, dim = shape_list(input)\n",
    "        segment_stride = segment_size // 2\n",
    "        rest = segment_size - (segment_stride + seq_len %\n",
    "                               segment_size) % segment_size\n",
    "        if rest > 0:\n",
    "            pad = tf.Variable(tf.zeros(shape=(batch_size, rest, dim)))\n",
    "            input = tf.concat([input, pad], 1)\n",
    "\n",
    "        pad_aux = tf.Variable(tf.zeros(shape=(batch_size, segment_stride, dim)))\n",
    "        input = tf.concat([pad_aux, input, pad_aux], 1)\n",
    "        return input, rest\n",
    "    \n",
    "    def create_chuncks(self, input, segment_size):\n",
    "\n",
    "        input, rest = self.pad_segment(input, segment_size)\n",
    "        batch_size, seq_len, dim = shape_list(input)\n",
    "        segment_stride = segment_size // 2\n",
    "        segments1 = tf.reshape(input[:, :-segment_stride], (batch_size, -1, dim, segment_size))\n",
    "        segments2 = tf.reshape(input[:, segment_stride:], (batch_size, -1, dim, segment_size))\n",
    "        segments = tf.concat([segments1, segments2], axis = 3)\n",
    "        segments = tf.reshape(segments, (batch_size, -1, dim, segment_size))\n",
    "        segments = tf.transpose(segments, perm = [0, 3, 2, 1])\n",
    "        return segments, rest\n",
    "    \n",
    "    def merge_chuncks(self, input, rest):\n",
    "        # original, [b, dim, segment_size, _]\n",
    "        # torch.Size([1, 256, 126, 360])\n",
    "        # (1, 126, 360, 256)\n",
    "        input = tf.transpose(input, perm = [0, 3, 1, 2])\n",
    "        batch_size, dim, segment_size, _ = shape_list(input)\n",
    "        segment_stride = segment_size // 2\n",
    "        # original, [b, dim, _, segment_size]\n",
    "        input = tf.transpose(input, perm = [0, 1, 3, 2])\n",
    "        input = tf.reshape(input, (batch_size, dim, -1, segment_size * 2))\n",
    "        \n",
    "        input1 = tf.reshape(input[:, :, :, :segment_size], (batch_size, dim, -1))[:, :, segment_stride:]\n",
    "        input2 = tf.reshape(input[:, :, :, segment_size:], (batch_size, dim, -1))[:, :, :-segment_stride]\n",
    "        \n",
    "        output = input1 + input2\n",
    "        if rest > 0:\n",
    "            output = output[:, :, :-rest]\n",
    "            \n",
    "        return tf.transpose(output, perm = [0, 2, 1])\n",
    "        \n",
    "    def call(self, input):\n",
    "        # create chunks\n",
    "        enc_segments, enc_rest = self.create_chuncks(\n",
    "            input, self.segment_size)\n",
    "        output_all = self.rnn_model(enc_segments)\n",
    "        output_all_wav = []\n",
    "        for ii in range(len(output_all)):\n",
    "            print(ii, output_all[ii].shape)\n",
    "            output_ii = self.merge_chuncks(\n",
    "                output_all[ii], enc_rest)\n",
    "            output_all_wav.append(output_ii)\n",
    "        return output_all_wav\n",
    "    \n",
    "class Model(tf.keras.Model):\n",
    "    def __init__(\n",
    "        self,\n",
    "        N = 128,\n",
    "        L = 8,\n",
    "        H = 128,\n",
    "        R = 6,\n",
    "        C = 2,\n",
    "        input_normalize = False,\n",
    "        sample_rate = 8000,\n",
    "        segment = 4,\n",
    "        context_len = 2 * sr / 1000,\n",
    "        context = int(sr * context_len / 1000),\n",
    "        layer = R,\n",
    "        filter_dim = context * 2 + 1,\n",
    "        num_spk = C,\n",
    "        segment_size = int(np.sqrt(2 * sr * segment / (L / 2))),\n",
    "        **kwargs\n",
    "    ):\n",
    "        super(Model, self).__init__(name = 'swave', **kwargs)\n",
    "        self.C = C\n",
    "        self.N = N\n",
    "        self.encoder = Encoder(L, N)\n",
    "        self.separator = Separator(\n",
    "            filter_dim + N,\n",
    "            N,\n",
    "            H,\n",
    "            filter_dim,\n",
    "            num_spk,\n",
    "            layer,\n",
    "            segment_size,\n",
    "            input_normalize,\n",
    "        )\n",
    "        self.decoder = Decoder(L)\n",
    "\n",
    "    def call(self, mixture):\n",
    "        mixture_w = self.encoder(mixture)\n",
    "        output_all = self.separator(mixture_w)\n",
    "        T_mix = tf.shape(mixture)[1]\n",
    "        batch_size = tf.shape(mixture)[0]\n",
    "        T_mix_w = tf.shape(mixture_w)[1]\n",
    "        # generate wav after each RNN block and optimize the loss\n",
    "        outputs = []\n",
    "        for ii in range(len(output_all)):\n",
    "            output_ii = tf.reshape(\n",
    "                output_all[ii], (batch_size, T_mix_w, self.C, self.N)\n",
    "            )\n",
    "            output_ii = self.decoder(output_ii)\n",
    "            output_ii = tf.cond(\n",
    "                tf.shape(output_ii)[2] >= T_mix,\n",
    "                lambda: output_ii[:, :, :T_mix],\n",
    "                lambda: tf.pad(\n",
    "                    output_ii,\n",
    "                    [[0, 0], [0, 0], [0, T_mix - tf.shape(output_ii)[2]]],\n",
    "                ),\n",
    "            )\n",
    "            outputs.append(output_ii)\n",
    "        return outputs"
   ]
  },
  {
   "cell_type": "code",
   "execution_count": 19,
   "id": "formed-settle",
   "metadata": {},
   "outputs": [],
   "source": [
    "model = Model(C = speakers_size)"
   ]
  },
  {
   "cell_type": "code",
   "execution_count": 20,
   "id": "narrative-contamination",
   "metadata": {},
   "outputs": [
    {
     "data": {
      "text/plain": [
       "TensorShape([Dimension(1), Dimension(51313)])"
      ]
     },
     "execution_count": 20,
     "metadata": {},
     "output_type": "execute_result"
    }
   ],
   "source": [
    "y_tf.shape"
   ]
  },
  {
   "cell_type": "code",
   "execution_count": 21,
   "id": "exposed-desire",
   "metadata": {},
   "outputs": [
    {
     "data": {
      "text/plain": [
       "126"
      ]
     },
     "execution_count": 21,
     "metadata": {},
     "output_type": "execute_result"
    }
   ],
   "source": [
    "segment_size"
   ]
  },
  {
   "cell_type": "code",
   "execution_count": 22,
   "id": "utility-algorithm",
   "metadata": {
    "scrolled": true
   },
   "outputs": [
    {
     "name": "stdout",
     "output_type": "stream",
     "text": [
      "input (1, 126, 128, 206)\n",
      "row_input (1, 206, 126, 128)\n",
      "0 (206, 126, 128) (1, 128, 126, 206) (1, 128, 126, 206)\n",
      "0 (126, 206, 128) (1, 128, 126, 206) (1, 128, 126, 206)\n",
      "row_input (1, 206, 126, 128)\n",
      "1 (206, 126, 128) (1, 128, 126, 206) (1, 128, 126, 206)\n",
      "1 (126, 206, 128) (1, 128, 126, 206) (1, 128, 126, 206)\n",
      "row_input (1, 206, 126, 128)\n",
      "2 (206, 126, 128) (1, 128, 126, 206) (1, 128, 126, 206)\n",
      "2 (126, 206, 128) (1, 128, 126, 206) (1, 128, 126, 206)\n",
      "row_input (1, 206, 126, 128)\n",
      "3 (206, 126, 128) (1, 128, 126, 206) (1, 128, 126, 206)\n",
      "3 (126, 206, 128) (1, 128, 126, 206) (1, 128, 126, 206)\n",
      "row_input (1, 206, 126, 128)\n",
      "4 (206, 126, 128) (1, 128, 126, 206) (1, 128, 126, 206)\n",
      "4 (126, 206, 128) (1, 128, 126, 206) (1, 128, 126, 206)\n",
      "row_input (1, 206, 126, 128)\n",
      "5 (206, 126, 128) (1, 128, 126, 206) (1, 128, 126, 206)\n",
      "5 (126, 206, 128) (1, 128, 126, 206) (1, 128, 126, 206)\n",
      "0 (1, 126, 206, 512)\n",
      "1 (1, 126, 206, 512)\n",
      "2 (1, 126, 206, 512)\n",
      "3 (1, 126, 206, 512)\n",
      "4 (1, 126, 206, 512)\n",
      "5 (1, 126, 206, 512)\n",
      "WARNING:tensorflow:From <ipython-input-18-ecfb1338d003>:27: average_pooling2d (from tensorflow.python.layers.pooling) is deprecated and will be removed in a future version.\n",
      "Instructions for updating:\n",
      "Use keras.layers.AveragePooling2D instead.\n",
      "WARNING:tensorflow:From /Users/huseinzolkepli/Documents/tf-1.15/env/lib/python3.7/site-packages/tensorflow_core/python/layers/pooling.py:238: Layer.apply (from tensorflow.python.keras.engine.base_layer) is deprecated and will be removed in a future version.\n",
      "Instructions for updating:\n",
      "Please use `layer.__call__` method instead.\n"
     ]
    }
   ],
   "source": [
    "outputs = model(y_tf)"
   ]
  },
  {
   "cell_type": "code",
   "execution_count": 23,
   "id": "cultural-heavy",
   "metadata": {},
   "outputs": [
    {
     "data": {
      "text/plain": [
       "TensorShape([Dimension(1), Dimension(4), Dimension(51313)])"
      ]
     },
     "execution_count": 23,
     "metadata": {},
     "output_type": "execute_result"
    }
   ],
   "source": [
    "outputs[0].shape"
   ]
  },
  {
   "cell_type": "code",
   "execution_count": 104,
   "id": "tough-worst",
   "metadata": {},
   "outputs": [],
   "source": [
    "EPS = 1e-8\n",
    "\n",
    "def log10(x):\n",
    "    numerator = tf.log(x)\n",
    "    denominator = tf.log(tf.constant(10, dtype=numerator.dtype))\n",
    "    return numerator / denominator\n",
    "\n",
    "def cal_si_snr_with_pit(source, estimate_source, source_lengths, C):\n",
    "    B, _, T = shape_list(source)\n",
    "    mask = tf.cast(tf.sequence_mask(source_lengths, tf.reduce_max(source_lengths)), source.dtype)\n",
    "    print(mask)\n",
    "    estimate_source *= mask\n",
    "    \n",
    "    num_samples = tf.cast(tf.reshape(source_lengths, (-1, 1, 1)), tf.float32)\n",
    "    mean_target = tf.reduce_sum(source, axis = 2, keepdims = True) / num_samples\n",
    "    mean_estimate = tf.reduce_sum(estimate_source, axis = 2, keepdims = True) / num_samples\n",
    "    zero_mean_target = source - mean_target\n",
    "    zero_mean_estimate = estimate_source - mean_estimate\n",
    "    zero_mean_target *= mask\n",
    "    zero_mean_estimate *= mask\n",
    "    \n",
    "    s_target = tf.expand_dims(zero_mean_target, 1)\n",
    "    s_estimate = tf.expand_dims(zero_mean_estimate, 2)\n",
    "    \n",
    "    pair_wise_dot = tf.reduce_sum(s_estimate * s_target,\n",
    "                              axis=3, keepdims=True)\n",
    "    s_target_energy = tf.reduce_sum(\n",
    "        s_target ** 2, axis=3, keepdims=True) + EPS\n",
    "    pair_wise_proj = pair_wise_dot * s_target / s_target_energy\n",
    "    e_noise = s_estimate - pair_wise_proj\n",
    "    pair_wise_si_snr = tf.reduce_sum(\n",
    "        pair_wise_proj ** 2, axis=3) / (tf.reduce_sum(e_noise ** 2, axis=3) + EPS)\n",
    "    pair_wise_si_snr = 10.0 * log10(pair_wise_si_snr + EPS)\n",
    "    pair_wise_si_snr = tf.transpose(pair_wise_si_snr, perm = [0, 2, 1])\n",
    "    \n",
    "    perms = tf.constant(list(permutations(range(C))))\n",
    "    perms_one_hot = tf.one_hot(perms, C)\n",
    "    \n",
    "    snr_set = tf.einsum('bij,pij->bp', pair_wise_si_snr, perms_one_hot)\n",
    "    max_snr_idx = tf.argmax(snr_set, axis=1)\n",
    "    max_snr = tf.reduce_max(snr_set, axis=1, keepdims=True)\n",
    "    max_snr /= C\n",
    "    \n",
    "    return max_snr, max_snr_idx"
   ]
  },
  {
   "cell_type": "code",
   "execution_count": 105,
   "id": "innocent-perspective",
   "metadata": {},
   "outputs": [],
   "source": [
    "from itertools import permutations\n",
    "\n",
    "def cal_si_snr_with_pit_pt(source, estimate_source, source_lengths):\n",
    "    \"\"\"Calculate SI-SNR with PIT training.\n",
    "    Args:\n",
    "        source: [B, C, T], B is batch size\n",
    "        estimate_source: [B, C, T]\n",
    "        source_lengths: [B], each item is between [0, T]\n",
    "    \"\"\"\n",
    "    assert source.size() == estimate_source.size()\n",
    "    B, C, T = source.size()\n",
    "    # mask padding position along T\n",
    "    mask = get_mask(source, source_lengths)\n",
    "    estimate_source *= mask\n",
    "\n",
    "    # Step 1. Zero-mean norm\n",
    "    num_samples = source_lengths.view(-1, 1, 1).float()  # [B, 1, 1]\n",
    "    mean_target = torch.sum(source, dim=2, keepdim=True) / num_samples\n",
    "    mean_estimate = torch.sum(estimate_source, dim=2,\n",
    "                              keepdim=True) / num_samples\n",
    "    zero_mean_target = source - mean_target\n",
    "    zero_mean_estimate = estimate_source - mean_estimate\n",
    "    # mask padding position along T\n",
    "    zero_mean_target *= mask\n",
    "    zero_mean_estimate *= mask\n",
    "\n",
    "    # Step 2. SI-SNR with PIT\n",
    "    # reshape to use broadcast\n",
    "    s_target = torch.unsqueeze(zero_mean_target, dim=1)  # [B, 1, C, T]\n",
    "    s_estimate = torch.unsqueeze(zero_mean_estimate, dim=2)  # [B, C, 1, T]\n",
    "    # s_target = <s', s>s / ||s||^2\n",
    "    pair_wise_dot = torch.sum(s_estimate * s_target,\n",
    "                              dim=3, keepdim=True)  # [B, C, C, 1]\n",
    "    s_target_energy = torch.sum(\n",
    "        s_target ** 2, dim=3, keepdim=True) + EPS  # [B, 1, C, 1]\n",
    "    pair_wise_proj = pair_wise_dot * s_target / s_target_energy  # [B, C, C, T]\n",
    "    # e_noise = s' - s_target\n",
    "    e_noise = s_estimate - pair_wise_proj  # [B, C, C, T]\n",
    "    # SI-SNR = 10 * log_10(||s_target||^2 / ||e_noise||^2)\n",
    "    pair_wise_si_snr = torch.sum(\n",
    "        pair_wise_proj ** 2, dim=3) / (torch.sum(e_noise ** 2, dim=3) + EPS)\n",
    "    pair_wise_si_snr = 10 * torch.log10(pair_wise_si_snr + EPS)  # [B, C, C]\n",
    "    pair_wise_si_snr = torch.transpose(pair_wise_si_snr, 1, 2)\n",
    "\n",
    "    # Get max_snr of each utterance\n",
    "    # permutations, [C!, C]\n",
    "    perms = source.new_tensor(list(permutations(range(C))), dtype=torch.long)\n",
    "    # one-hot, [C!, C, C]\n",
    "    index = torch.unsqueeze(perms, 2)\n",
    "    perms_one_hot = source.new_zeros((*perms.size(), C)).scatter_(2, index, 1)\n",
    "    # [B, C!] <- [B, C, C] einsum [C!, C, C], SI-SNR sum of each permutation\n",
    "    snr_set = torch.einsum('bij,pij->bp', [pair_wise_si_snr, perms_one_hot])\n",
    "    max_snr_idx = torch.argmax(snr_set, dim=1)  # [B]\n",
    "    #  max_snr = torch.gather(snr_set, 1, max_snr_idx.view(-1, 1))  # [B, 1]\n",
    "    max_snr, _ = torch.max(snr_set, dim=1, keepdim=True)\n",
    "    max_snr /= C\n",
    "    return max_snr, max_snr_idx\n",
    "\n",
    "def get_mask(source, source_lengths):\n",
    "    \"\"\"\n",
    "    Args:\n",
    "        source: [B, C, T]\n",
    "        source_lengths: [B]\n",
    "    Returns:\n",
    "        mask: [B, 1, T]\n",
    "    \"\"\"\n",
    "    B, _, T = source.size()\n",
    "    mask = source.new_ones((B, 1, T))\n",
    "    for i in range(B):\n",
    "        mask[i, :, source_lengths[i]:] = 0\n",
    "    return mask"
   ]
  },
  {
   "cell_type": "code",
   "execution_count": 106,
   "id": "overhead-category",
   "metadata": {},
   "outputs": [],
   "source": [
    "source = torch.from_numpy(np.expand_dims(y, 0))\n",
    "estimated_source = torch.from_numpy(outputs[0].numpy())\n",
    "source_lengths = torch.from_numpy(np.array([len(left[0])]))"
   ]
  },
  {
   "cell_type": "code",
   "execution_count": 107,
   "id": "tropical-scratch",
   "metadata": {},
   "outputs": [
    {
     "data": {
      "text/plain": [
       "torch.Size([1, 4, 51313])"
      ]
     },
     "execution_count": 107,
     "metadata": {},
     "output_type": "execute_result"
    }
   ],
   "source": [
    "source.shape"
   ]
  },
  {
   "cell_type": "code",
   "execution_count": 108,
   "id": "comfortable-banking",
   "metadata": {},
   "outputs": [
    {
     "data": {
      "text/plain": [
       "TensorShape([Dimension(1), Dimension(4), Dimension(51313)])"
      ]
     },
     "execution_count": 108,
     "metadata": {},
     "output_type": "execute_result"
    }
   ],
   "source": [
    "source_tf.shape"
   ]
  },
  {
   "cell_type": "code",
   "execution_count": 109,
   "id": "significant-investor",
   "metadata": {},
   "outputs": [
    {
     "data": {
      "text/plain": [
       "(tensor([[-61.3037]], dtype=torch.float64), tensor([17]))"
      ]
     },
     "execution_count": 109,
     "metadata": {},
     "output_type": "execute_result"
    }
   ],
   "source": [
    "cal_si_snr_with_pit_pt(source, estimated_source, source_lengths)"
   ]
  },
  {
   "cell_type": "code",
   "execution_count": 110,
   "id": "initial-reputation",
   "metadata": {},
   "outputs": [],
   "source": [
    "source_tf = tf.convert_to_tensor(np.expand_dims(y, 0).astype(np.float32))\n",
    "source_lengths_tf = tf.convert_to_tensor(np.array([len(left[0])]))"
   ]
  },
  {
   "cell_type": "code",
   "execution_count": 111,
   "id": "outdoor-luxembourg",
   "metadata": {},
   "outputs": [
    {
     "name": "stdout",
     "output_type": "stream",
     "text": [
      "tf.Tensor([[1. 1. 1. ... 1. 1. 1.]], shape=(1, 51313), dtype=float32)\n"
     ]
    },
    {
     "data": {
      "text/plain": [
       "(<tf.Tensor: id=680836, shape=(1, 1), dtype=float32, numpy=array([[-61.303654]], dtype=float32)>,\n",
       " <tf.Tensor: id=680832, shape=(1,), dtype=int64, numpy=array([16])>)"
      ]
     },
     "execution_count": 111,
     "metadata": {},
     "output_type": "execute_result"
    }
   ],
   "source": [
    "cal_si_snr_with_pit(source_tf, outputs[0], source_lengths_tf, C)"
   ]
  },
  {
   "cell_type": "code",
   "execution_count": 112,
   "id": "interested-speech",
   "metadata": {},
   "outputs": [
    {
     "data": {
      "text/plain": [
       "torch.Size([1, 1, 1])"
      ]
     },
     "execution_count": 112,
     "metadata": {},
     "output_type": "execute_result"
    }
   ],
   "source": [
    "num_samples = source_lengths.view(-1, 1, 1).float()\n",
    "num_samples.shape"
   ]
  },
  {
   "cell_type": "code",
   "execution_count": 113,
   "id": "south-dancing",
   "metadata": {},
   "outputs": [
    {
     "data": {
      "text/plain": [
       "tensor([[[51313.]]])"
      ]
     },
     "execution_count": 113,
     "metadata": {},
     "output_type": "execute_result"
    }
   ],
   "source": [
    "num_samples = source_lengths.view(-1, 1, 1).float()\n",
    "num_samples"
   ]
  },
  {
   "cell_type": "code",
   "execution_count": null,
   "id": "material-minnesota",
   "metadata": {},
   "outputs": [],
   "source": [
    "s = tf.math.logical_not(tf.sequence_mask(start, 105299))\n",
    "e = tf.sequence_mask(end, 105299)\n",
    "tf.math.logical_and(s, e)"
   ]
  },
  {
   "cell_type": "code",
   "execution_count": null,
   "id": "civil-heath",
   "metadata": {},
   "outputs": [],
   "source": [
    "mask = tf.cast(tf.sequence_mask([80695], 80695), outputs[0].dtype)\n",
    "outputs[0] * mask"
   ]
  },
  {
   "cell_type": "code",
   "execution_count": null,
   "id": "blind-length",
   "metadata": {},
   "outputs": [],
   "source": []
  },
  {
   "cell_type": "code",
   "execution_count": null,
   "id": "alone-grace",
   "metadata": {},
   "outputs": [],
   "source": [
    "np.array([[1, 3],[2,0]])"
   ]
  },
  {
   "cell_type": "code",
   "execution_count": null,
   "id": "motivated-showcase",
   "metadata": {},
   "outputs": [],
   "source": [
    "tf.sequence_mask([1,2,3,2])"
   ]
  },
  {
   "cell_type": "code",
   "execution_count": null,
   "id": "grand-horizontal",
   "metadata": {},
   "outputs": [],
   "source": [
    "r = tf.sequence_mask(np.concatenate([s, e]).T)\n",
    "r = tf.cast(r, tf.int32).numpy()\n",
    "# r = tf.reduce_sum(r, axis = 1).numpy()"
   ]
  },
  {
   "cell_type": "code",
   "execution_count": null,
   "id": "rental-cooper",
   "metadata": {},
   "outputs": [],
   "source": [
    "r.shape"
   ]
  },
  {
   "cell_type": "code",
   "execution_count": null,
   "id": "specialized-driver",
   "metadata": {},
   "outputs": [],
   "source": [
    "r[0].sum()"
   ]
  },
  {
   "cell_type": "code",
   "execution_count": null,
   "id": "cubic-vertex",
   "metadata": {},
   "outputs": [],
   "source": [
    "r[1]"
   ]
  },
  {
   "cell_type": "code",
   "execution_count": null,
   "id": "fourth-cement",
   "metadata": {},
   "outputs": [],
   "source": [
    "r[0]"
   ]
  },
  {
   "cell_type": "code",
   "execution_count": null,
   "id": "angry-contrast",
   "metadata": {},
   "outputs": [],
   "source": [
    "r[:,1].sum()"
   ]
  },
  {
   "cell_type": "code",
   "execution_count": null,
   "id": "atmospheric-newsletter",
   "metadata": {},
   "outputs": [],
   "source": [
    "tf.sequence_mask([[     0], [44368]])"
   ]
  },
  {
   "cell_type": "code",
   "execution_count": null,
   "id": "packed-harvey",
   "metadata": {},
   "outputs": [],
   "source": [
    "# 0 torch.Size([360, 126, 128]) torch.Size([1, 128, 126, 360]) torch.Size([1, 128, 126, 360])\n",
    "# 0 torch.Size([126, 360, 128]) torch.Size([1, 128, 126, 360]) torch.Size([1, 128, 126, 360])\n",
    "# 1 torch.Size([360, 126, 128]) torch.Size([1, 128, 126, 360]) torch.Size([1, 128, 126, 360])\n",
    "# 1 torch.Size([126, 360, 128]) torch.Size([1, 128, 126, 360]) torch.Size([1, 128, 126, 360])\n",
    "# 2 torch.Size([360, 126, 128]) torch.Size([1, 128, 126, 360]) torch.Size([1, 128, 126, 360])\n",
    "# 2 torch.Size([126, 360, 128]) torch.Size([1, 128, 126, 360]) torch.Size([1, 128, 126, 360])\n",
    "# 3 torch.Size([360, 126, 128]) torch.Size([1, 128, 126, 360]) torch.Size([1, 128, 126, 360])\n",
    "# 3 torch.Size([126, 360, 128]) torch.Size([1, 128, 126, 360]) torch.Size([1, 128, 126, 360])\n",
    "# 4 torch.Size([360, 126, 128]) torch.Size([1, 128, 126, 360]) torch.Size([1, 128, 126, 360])\n",
    "# 4 torch.Size([126, 360, 128]) torch.Size([1, 128, 126, 360]) torch.Size([1, 128, 126, 360])\n",
    "# 5 torch.Size([360, 126, 128]) torch.Size([1, 128, 126, 360]) torch.Size([1, 128, 126, 360])\n",
    "# 5 torch.Size([126, 360, 128]) torch.Size([1, 128, 126, 360]) torch.Size([1, 128, 126, 360])"
   ]
  },
  {
   "cell_type": "code",
   "execution_count": null,
   "id": "organizational-maintenance",
   "metadata": {},
   "outputs": [],
   "source": [
    "# 0 torch.Size([1, 256, 126, 360])\n",
    "# 1 torch.Size([1, 256, 126, 360])\n",
    "# 2 torch.Size([1, 256, 126, 360])\n",
    "# 3 torch.Size([1, 256, 126, 360])\n",
    "# 4 torch.Size([1, 256, 126, 360])\n",
    "# 5 torch.Size([1, 256, 126, 360])\n",
    "\n",
    "# [torch.Size([1, 256, 22521]),\n",
    "#  torch.Size([1, 256, 22521]),\n",
    "#  torch.Size([1, 256, 22521]),\n",
    "#  torch.Size([1, 256, 22521]),\n",
    "#  torch.Size([1, 256, 22521]),\n",
    "#  torch.Size([1, 256, 22521])]"
   ]
  },
  {
   "cell_type": "code",
   "execution_count": null,
   "id": "continuous-presence",
   "metadata": {},
   "outputs": [],
   "source": [
    "est_source.shape"
   ]
  },
  {
   "cell_type": "code",
   "execution_count": null,
   "id": "recreational-billion",
   "metadata": {},
   "outputs": [],
   "source": [
    "F.pad(output_ii, (0, 90199 - T_est)).shape"
   ]
  },
  {
   "cell_type": "code",
   "execution_count": null,
   "id": "skilled-accident",
   "metadata": {},
   "outputs": [],
   "source": [
    "(0, 90099 - T_est)"
   ]
  },
  {
   "cell_type": "code",
   "execution_count": null,
   "id": "subject-festival",
   "metadata": {},
   "outputs": [],
   "source": [
    "p = [F.pad(output_ii, (0, 90199 - T_est)), F.pad(output_ii, (0, 90199 - T_est))]"
   ]
  },
  {
   "cell_type": "code",
   "execution_count": null,
   "id": "affiliated-welsh",
   "metadata": {},
   "outputs": [],
   "source": [
    "torch.stack(p).shape"
   ]
  },
  {
   "cell_type": "code",
   "execution_count": null,
   "id": "heavy-nudist",
   "metadata": {},
   "outputs": [],
   "source": [
    "outputs[0]"
   ]
  },
  {
   "cell_type": "code",
   "execution_count": null,
   "id": "sustainable-labor",
   "metadata": {},
   "outputs": [],
   "source": [
    "tf.pad(outputs[0], [[0,0], [0,0], [0,3]])"
   ]
  },
  {
   "cell_type": "code",
   "execution_count": null,
   "id": "instructional-hobby",
   "metadata": {},
   "outputs": [],
   "source": [
    "tf.shape(outputs[0])"
   ]
  },
  {
   "cell_type": "code",
   "execution_count": null,
   "id": "unique-heritage",
   "metadata": {},
   "outputs": [],
   "source": [
    "targets = torch.randn(10, 2, 32000)"
   ]
  },
  {
   "cell_type": "code",
   "execution_count": null,
   "id": "limiting-pilot",
   "metadata": {},
   "outputs": [],
   "source": [
    "est_targets = torch.randn(10, 2, 32000)"
   ]
  },
  {
   "cell_type": "code",
   "execution_count": null,
   "id": "governmental-feeling",
   "metadata": {},
   "outputs": [],
   "source": [
    "targets = targets.unsqueeze(1)\n",
    "est_targets = est_targets.unsqueeze(2)"
   ]
  },
  {
   "cell_type": "code",
   "execution_count": null,
   "id": "focused-affairs",
   "metadata": {},
   "outputs": [],
   "source": [
    "targets.shape"
   ]
  },
  {
   "cell_type": "code",
   "execution_count": null,
   "id": "illegal-reality",
   "metadata": {},
   "outputs": [],
   "source": [
    "est_targets.shape"
   ]
  },
  {
   "cell_type": "code",
   "execution_count": null,
   "id": "developing-capacity",
   "metadata": {},
   "outputs": [],
   "source": [
    "pw_loss = (targets - est_targets) ** 2"
   ]
  },
  {
   "cell_type": "code",
   "execution_count": null,
   "id": "plain-breathing",
   "metadata": {},
   "outputs": [],
   "source": [
    "mean_over = list(range(3, pw_loss.ndim))"
   ]
  },
  {
   "cell_type": "code",
   "execution_count": null,
   "id": "amber-cream",
   "metadata": {},
   "outputs": [],
   "source": [
    "pw_loss.mean(dim=mean_over).shape"
   ]
  },
  {
   "cell_type": "code",
   "execution_count": null,
   "id": "appropriate-norwegian",
   "metadata": {},
   "outputs": [],
   "source": []
  }
 ],
 "metadata": {
  "kernelspec": {
   "display_name": "Python 3",
   "language": "python",
   "name": "python3"
  },
  "language_info": {
   "codemirror_mode": {
    "name": "ipython",
    "version": 3
   },
   "file_extension": ".py",
   "mimetype": "text/x-python",
   "name": "python",
   "nbconvert_exporter": "python",
   "pygments_lexer": "ipython3",
   "version": "3.7.7"
  }
 },
 "nbformat": 4,
 "nbformat_minor": 5
}

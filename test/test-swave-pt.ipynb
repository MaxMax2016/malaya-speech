{
 "cells": [
  {
   "cell_type": "code",
   "execution_count": 1,
   "id": "demographic-center",
   "metadata": {},
   "outputs": [],
   "source": [
    "import os\n",
    "\n",
    "os.environ['CUDA_VISIBLE_DEVICES'] = '1'"
   ]
  },
  {
   "cell_type": "code",
   "execution_count": 2,
   "id": "earned-measure",
   "metadata": {},
   "outputs": [],
   "source": [
    "import sys\n",
    "\n",
    "SOURCE_DIR = os.path.dirname(os.path.dirname(os.path.abspath(__name__)))\n",
    "sys.path.insert(0, SOURCE_DIR)"
   ]
  },
  {
   "cell_type": "code",
   "execution_count": 3,
   "id": "southeast-riverside",
   "metadata": {},
   "outputs": [],
   "source": [
    "import tensorflow as tf\n",
    "import malaya_speech\n",
    "import malaya_speech.augmentation.waveform as augmentation"
   ]
  },
  {
   "cell_type": "code",
   "execution_count": 4,
   "id": "electoral-crown",
   "metadata": {},
   "outputs": [],
   "source": [
    "import numpy as np\n",
    "import torch\n",
    "import torch.nn as nn\n",
    "import torch.nn.functional as F\n",
    "from torch.autograd import Variable\n",
    "import IPython.display as ipd"
   ]
  },
  {
   "cell_type": "code",
   "execution_count": 5,
   "id": "british-henry",
   "metadata": {},
   "outputs": [],
   "source": [
    "tf.compat.v1.enable_eager_execution()"
   ]
  },
  {
   "cell_type": "code",
   "execution_count": 10,
   "id": "interpreted-intermediate",
   "metadata": {},
   "outputs": [
    {
     "data": {
      "text/plain": [
       "<tf.Tensor: id=5, shape=(1, 178, 128), dtype=float32, numpy=\n",
       "array([[[ 0.07481012, -0.38670087,  0.22527176, ..., -0.08182123,\n",
       "          0.32737067, -0.4961937 ],\n",
       "        [-0.07491821, -0.0094369 , -0.08226532, ...,  0.06870811,\n",
       "          1.9544326 , -0.08433618],\n",
       "        [ 0.23499689, -0.36141756,  0.0621582 , ..., -0.6405293 ,\n",
       "          0.12263516,  1.728254  ],\n",
       "        ...,\n",
       "        [ 1.3177668 ,  0.20117722, -0.36168048, ...,  1.4868518 ,\n",
       "         -0.82094735,  1.8023256 ],\n",
       "        [-0.6616226 ,  0.3870829 , -0.22774117, ...,  0.5506998 ,\n",
       "         -0.01594703, -0.56912184],\n",
       "        [ 0.9612357 ,  0.41656953, -0.28868508, ...,  0.5475702 ,\n",
       "          0.6409443 , -0.5078913 ]]], dtype=float32)>"
      ]
     },
     "execution_count": 10,
     "metadata": {},
     "output_type": "execute_result"
    }
   ],
   "source": [
    "x = tf.random.normal(shape = (1, 178, 128))\n",
    "x"
   ]
  },
  {
   "cell_type": "code",
   "execution_count": 11,
   "id": "global-dress",
   "metadata": {},
   "outputs": [
    {
     "data": {
      "text/plain": [
       "<tf.Tensor: id=10, shape=(1, 178), dtype=int64, numpy=\n",
       "array([[128, 128, 128, 128, 128, 128, 128, 128, 128, 128, 128, 128, 128,\n",
       "        128, 128, 128, 128, 128, 128, 128, 128, 128, 128, 128, 128, 128,\n",
       "        128, 128, 128, 128, 128, 128, 128, 128, 128, 128, 128, 128, 128,\n",
       "        128, 128, 128, 128, 128, 128, 128, 128, 128, 128, 128, 128, 128,\n",
       "        128, 128, 128, 128, 128, 128, 128, 128, 128, 128, 128, 128, 128,\n",
       "        128, 128, 128, 128, 128, 128, 128, 128, 128, 128, 128, 128, 128,\n",
       "        128, 128, 128, 128, 128, 128, 128, 128, 128, 128, 128, 128, 128,\n",
       "        128, 128, 128, 128, 128, 128, 128, 128, 128, 128, 128, 128, 128,\n",
       "        128, 128, 128, 128, 128, 128, 128, 128, 128, 128, 128, 128, 128,\n",
       "        128, 128, 128, 128, 128, 128, 128, 128, 128, 128, 128, 128, 128,\n",
       "        128, 128, 128, 128, 128, 128, 128, 128, 128, 128, 128, 128, 128,\n",
       "        128, 128, 128, 128, 128, 128, 128, 128, 128, 128, 128, 128, 128,\n",
       "        128, 128, 128, 128, 128, 128, 128, 128, 128, 128, 128, 128, 128,\n",
       "        128, 128, 128, 128, 128, 128, 128, 128, 128]])>"
      ]
     },
     "execution_count": 11,
     "metadata": {},
     "output_type": "execute_result"
    }
   ],
   "source": [
    "tf.math.count_nonzero(x, axis = 2)"
   ]
  },
  {
   "cell_type": "code",
   "execution_count": 6,
   "id": "limited-emerald",
   "metadata": {},
   "outputs": [],
   "source": [
    "import random\n",
    "\n",
    "sr = 8000\n",
    "speakers_size = 4\n",
    "\n",
    "def read_wav(f):\n",
    "    return malaya_speech.load(f, sr = sr)\n",
    "\n",
    "def random_sampling(s, length):\n",
    "    return augmentation.random_sampling(s, sr = sr, length = length)\n",
    "\n",
    "def combine_speakers(files, n = 5, limit = 4):\n",
    "    w_samples = random.sample(files, n)\n",
    "    w_samples = [\n",
    "        random_sampling(\n",
    "            read_wav(f)[0],\n",
    "            length = min(\n",
    "                random.randint(10000 // n, 20000 // n), 10000\n",
    "            ),\n",
    "        )\n",
    "        for f in w_samples\n",
    "    ]\n",
    "    y = [w_samples[0]]\n",
    "    left = w_samples[0].copy() * random.uniform(0.5, 1.0)\n",
    "    start, end = [], []\n",
    "    start.append(0)\n",
    "    end.append(len(left))\n",
    "\n",
    "    combined = None\n",
    "\n",
    "    for i in range(1, n):\n",
    "        right = w_samples[i].copy() * random.uniform(0.5, 1.0)\n",
    "        overlap = random.uniform(0.1, 0.9)\n",
    "        print(i, overlap, len(right))\n",
    "        len_overlap = int(overlap * len(right))\n",
    "        minus = len(left) - len_overlap\n",
    "        padded_right = np.pad(right, (minus, 0))\n",
    "        start.append(minus)\n",
    "        end.append(len(padded_right))\n",
    "        left = np.pad(left, (0, len(padded_right) - len(left)))\n",
    "\n",
    "        left = left + padded_right\n",
    "\n",
    "        if i >= (limit - 1):\n",
    "            if combined is None:\n",
    "                combined = padded_right\n",
    "            else:\n",
    "                combined = np.pad(\n",
    "                    combined, (0, len(padded_right) - len(combined))\n",
    "                )\n",
    "                combined += padded_right\n",
    "\n",
    "        else:\n",
    "            y.append(padded_right)\n",
    "\n",
    "    if combined is not None:\n",
    "        y.append(combined)\n",
    "\n",
    "    for i in range(len(y)):\n",
    "        if len(y[i]) != len(left):\n",
    "            y[i] = np.pad(y[i], (0, len(left) - len(y[i])))\n",
    "            y[i] = y[i] / np.max(np.abs(y[i]))\n",
    "\n",
    "    left = left / np.max(np.abs(left))\n",
    "    \n",
    "    while len(y) < limit:\n",
    "        y.append(np.zeros((len(left))))\n",
    "        start.append(0)\n",
    "        end.append(0)\n",
    "        \n",
    "    return left, y, start[:limit], end[:limit]\n",
    "\n",
    "# y, _ = malaya_speech.load('../speech/example-speaker/husein-zolkepli.wav')\n",
    "# y = np.expand_dims(y, 0).astype(np.float32)\n",
    "# y.shape"
   ]
  },
  {
   "cell_type": "code",
   "execution_count": 7,
   "id": "square-theory",
   "metadata": {},
   "outputs": [
    {
     "data": {
      "text/plain": [
       "8"
      ]
     },
     "execution_count": 7,
     "metadata": {},
     "output_type": "execute_result"
    }
   ],
   "source": [
    "from glob import glob\n",
    "\n",
    "wavs = glob('../speech/example-speaker/*.wav')\n",
    "len(wavs)"
   ]
  },
  {
   "cell_type": "code",
   "execution_count": 8,
   "id": "international-crawford",
   "metadata": {
    "scrolled": true
   },
   "outputs": [
    {
     "data": {
      "text/plain": [
       "(3.9295, 4, [0, 0, 0, 0], [31436, 0, 0, 0])"
      ]
     },
     "execution_count": 8,
     "metadata": {},
     "output_type": "execute_result"
    }
   ],
   "source": [
    "left, y, start, end = combine_speakers(wavs, random.randint(1, len(wavs)))\n",
    "len(left) / sr, len(y), start, end"
   ]
  },
  {
   "cell_type": "code",
   "execution_count": 9,
   "id": "sensitive-celebrity",
   "metadata": {},
   "outputs": [
    {
     "data": {
      "text/html": [
       "\n",
       "                <audio  controls=\"controls\" >\n",
       "                    <source src=\"data:audio/wav;base64,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\" type=\"audio/wav\" />\n",
       "                    Your browser does not support the audio element.\n",
       "                </audio>\n",
       "              "
      ],
      "text/plain": [
       "<IPython.lib.display.Audio object>"
      ]
     },
     "execution_count": 9,
     "metadata": {},
     "output_type": "execute_result"
    }
   ],
   "source": [
    "ipd.Audio(left[start[0]: end[0]], rate = sr)"
   ]
  },
  {
   "cell_type": "code",
   "execution_count": 10,
   "id": "preceding-mauritius",
   "metadata": {},
   "outputs": [],
   "source": [
    "left = np.array([left.astype(np.float32)])"
   ]
  },
  {
   "cell_type": "code",
   "execution_count": 11,
   "id": "foster-employment",
   "metadata": {},
   "outputs": [],
   "source": [
    "y_pt = torch.from_numpy(left)\n",
    "y_tf = tf.convert_to_tensor(left)"
   ]
  },
  {
   "cell_type": "code",
   "execution_count": 12,
   "id": "qualified-russell",
   "metadata": {},
   "outputs": [
    {
     "data": {
      "text/plain": [
       "(126, 257)"
      ]
     },
     "execution_count": 12,
     "metadata": {},
     "output_type": "execute_result"
    }
   ],
   "source": [
    "N = 128\n",
    "L = 8\n",
    "H = 128\n",
    "R = 6\n",
    "C = speakers_size\n",
    "input_normalize = False\n",
    "sample_rate = 8000\n",
    "segment = 4\n",
    "context_len = 2 * sr / 1000\n",
    "context = int(sr * context_len / 1000)\n",
    "layer = R\n",
    "filter_dim = context * 2 + 1\n",
    "num_spk = C\n",
    "segment_size = int(np.sqrt(2 * sr * segment / (L/2)))\n",
    "segment_size, filter_dim"
   ]
  },
  {
   "cell_type": "code",
   "execution_count": 13,
   "id": "judicial-bobby",
   "metadata": {},
   "outputs": [],
   "source": [
    "class Encoder_PT(nn.Module):\n",
    "    def __init__(self, L, N):\n",
    "        super(Encoder_PT, self).__init__()\n",
    "        self.L, self.N = L, N\n",
    "        # setting 50% overlap\n",
    "        self.conv = nn.Conv1d(\n",
    "            1, N, kernel_size=L, stride=L // 2, bias=False)\n",
    "\n",
    "    def forward(self, mixture):\n",
    "        mixture = torch.unsqueeze(mixture, 1)\n",
    "        mixture_w = F.relu(self.conv(mixture))\n",
    "        return mixture_w\n",
    "    \n",
    "class MulCatBlock_PT(nn.Module):\n",
    "\n",
    "    def __init__(self, input_size, hidden_size, dropout=0, bidirectional=False):\n",
    "        super(MulCatBlock_PT, self).__init__()\n",
    "\n",
    "        self.input_size = input_size\n",
    "        self.hidden_size = hidden_size\n",
    "        self.num_direction = int(bidirectional) + 1\n",
    "\n",
    "        self.rnn = nn.LSTM(input_size, hidden_size, 1, dropout=dropout,\n",
    "                           batch_first=True, bidirectional=bidirectional)\n",
    "        self.rnn_proj = nn.Linear(hidden_size * self.num_direction, input_size)\n",
    "\n",
    "        self.gate_rnn = nn.LSTM(input_size, hidden_size, num_layers=1,\n",
    "                                batch_first=True, dropout=dropout, bidirectional=bidirectional)\n",
    "        self.gate_rnn_proj = nn.Linear(\n",
    "            hidden_size * self.num_direction, input_size)\n",
    "\n",
    "        self.block_projection = nn.Linear(input_size * 2, input_size)\n",
    "    \n",
    "    def forward(self, input):\n",
    "        output = input\n",
    "        # run rnn module\n",
    "        rnn_output, _ = self.rnn(output)\n",
    "        rnn_output = self.rnn_proj(rnn_output.contiguous(\n",
    "        ).view(-1, rnn_output.shape[2])).view(output.shape).contiguous()\n",
    "        # run gate rnn module\n",
    "        gate_rnn_output, _ = self.gate_rnn(output)\n",
    "        gate_rnn_output = self.gate_rnn_proj(gate_rnn_output.contiguous(\n",
    "        ).view(-1, gate_rnn_output.shape[2])).view(output.shape).contiguous()\n",
    "        # apply gated rnn\n",
    "        gated_output = torch.mul(rnn_output, gate_rnn_output)\n",
    "        gated_output = torch.cat([gated_output, output], 2)\n",
    "        gated_output = self.block_projection(\n",
    "            gated_output.contiguous().view(-1, gated_output.shape[2])).view(output.shape)\n",
    "        return gated_output\n",
    "        \n",
    "class ByPass_PT(nn.Module):\n",
    "    def __init__(self):\n",
    "        super(ByPass_PT, self).__init__()\n",
    "\n",
    "    def forward(self, input):\n",
    "        return input\n",
    "\n",
    "\n",
    "class DPMulCat_PT(nn.Module):\n",
    "    def __init__(self, input_size, hidden_size, output_size, num_spk,\n",
    "                 dropout=0, num_layers=1, bidirectional=True, input_normalize=False):\n",
    "        super(DPMulCat_PT, self).__init__()\n",
    "\n",
    "        self.input_size = input_size\n",
    "        self.output_size = output_size\n",
    "        self.hidden_size = hidden_size\n",
    "        self.in_norm = input_normalize\n",
    "        self.num_layers = num_layers\n",
    "\n",
    "        self.rows_grnn = nn.ModuleList([])\n",
    "        self.cols_grnn = nn.ModuleList([])\n",
    "        self.rows_normalization = nn.ModuleList([])\n",
    "        self.cols_normalization = nn.ModuleList([])\n",
    "\n",
    "        # create the dual path pipeline\n",
    "        for i in range(num_layers):\n",
    "            self.rows_grnn.append(MulCatBlock_PT(\n",
    "                input_size, hidden_size, dropout, bidirectional=bidirectional))\n",
    "            self.cols_grnn.append(MulCatBlock_PT(\n",
    "                input_size, hidden_size, dropout, bidirectional=bidirectional))\n",
    "            if self.in_norm:\n",
    "                self.rows_normalization.append(\n",
    "                    nn.GroupNorm(1, input_size, eps=1e-8))\n",
    "                self.cols_normalization.append(\n",
    "                    nn.GroupNorm(1, input_size, eps=1e-8))\n",
    "            else:\n",
    "                # used to disable normalization\n",
    "                self.rows_normalization.append(ByPass_PT())\n",
    "                self.cols_normalization.append(ByPass_PT())\n",
    "\n",
    "        self.output = nn.Sequential(\n",
    "            nn.PReLU(), nn.Conv2d(input_size, output_size * num_spk, 1))\n",
    "\n",
    "    def forward(self, input):\n",
    "        batch_size, _, d1, d2 = input.shape\n",
    "        output = input\n",
    "        output_all = []\n",
    "        for i in range(self.num_layers):\n",
    "            row_input = output.permute(0, 3, 2, 1).contiguous().view(batch_size * d2, d1, -1)\n",
    "            \n",
    "            row_output = self.rows_grnn[i](row_input)\n",
    "            row_output = row_output.view(\n",
    "                batch_size, d2, d1, -1).permute(0, 3, 2, 1).contiguous()\n",
    "            row_output = self.rows_normalization[i](row_output)\n",
    "            # apply a skip connection\n",
    "            output = output + row_output\n",
    "            \n",
    "            print(i, row_input.shape, row_output.shape, output.shape)\n",
    "\n",
    "            col_input = output.permute(0, 2, 3, 1).contiguous().view(\n",
    "                batch_size * d1, d2, -1)\n",
    "            col_output = self.cols_grnn[i](col_input)\n",
    "            col_output = col_output.view(\n",
    "                batch_size, d1, d2, -1).permute(0, 3, 1, 2).contiguous()\n",
    "            col_output = self.cols_normalization[i](col_output).contiguous()\n",
    "            # apply a skip connection\n",
    "            output = output + col_output\n",
    "            \n",
    "            print(i, col_input.shape, col_output.shape, output.shape)\n",
    "\n",
    "            output_i = self.output(output)\n",
    "            output_all.append(output_i)\n",
    "        return output_all\n",
    "\n",
    "        \n",
    "class Separator_PT(nn.Module):\n",
    "    def __init__(self, input_dim, feature_dim, hidden_dim, output_dim, num_spk=2,\n",
    "                 layer=4, segment_size=100, input_normalize=False, bidirectional=True):\n",
    "        super(Separator_PT, self).__init__()\n",
    "\n",
    "        self.input_dim = input_dim\n",
    "        self.feature_dim = feature_dim\n",
    "        self.hidden_dim = hidden_dim\n",
    "        self.output_dim = output_dim\n",
    "\n",
    "        self.layer = layer\n",
    "        self.segment_size = segment_size\n",
    "        self.num_spk = num_spk\n",
    "        self.input_normalize = input_normalize\n",
    "\n",
    "        self.rnn_model = DPMulCat_PT(self.feature_dim, self.hidden_dim,\n",
    "                                  self.feature_dim, self.num_spk, num_layers=layer, bidirectional=bidirectional, input_normalize=input_normalize)\n",
    "\n",
    "    # ======================================= #\n",
    "    # The following code block was borrowed and modified from https://github.com/yluo42/TAC\n",
    "    # ================ BEGIN ================ #\n",
    "    def pad_segment(self, input, segment_size):\n",
    "        # input is the features: (B, N, T)\n",
    "        batch_size, dim, seq_len = input.shape\n",
    "        segment_stride = segment_size // 2\n",
    "        rest = segment_size - (segment_stride + seq_len %\n",
    "                               segment_size) % segment_size\n",
    "        if rest > 0:\n",
    "            pad = Variable(torch.zeros(batch_size, dim, rest)\n",
    "                           ).type(input.type())\n",
    "            input = torch.cat([input, pad], 2)\n",
    "\n",
    "        pad_aux = Variable(torch.zeros(\n",
    "            batch_size, dim, segment_stride)).type(input.type())\n",
    "        input = torch.cat([pad_aux, input, pad_aux], 2)\n",
    "        return input, rest\n",
    "\n",
    "    def create_chuncks(self, input, segment_size):\n",
    "        # split the feature into chunks of segment size\n",
    "        # input is the features: (B, N, T)\n",
    "\n",
    "        input, rest = self.pad_segment(input, segment_size)\n",
    "        batch_size, dim, seq_len = input.shape\n",
    "        segment_stride = segment_size // 2\n",
    "\n",
    "        segments1 = input[:, :, :-segment_stride].contiguous().view(batch_size,\n",
    "                                                                    dim, -1, segment_size)\n",
    "        segments2 = input[:, :, segment_stride:].contiguous().view(\n",
    "            batch_size, dim, -1, segment_size)\n",
    "        segments = torch.cat([segments1, segments2], 3).view(\n",
    "            batch_size, dim, -1, segment_size).transpose(2, 3)\n",
    "        return segments.contiguous(), rest\n",
    "\n",
    "    def merge_chuncks(self, input, rest):\n",
    "\n",
    "        batch_size, dim, segment_size, _ = input.shape\n",
    "        segment_stride = segment_size // 2\n",
    "        input = input.transpose(2, 3).contiguous().view(\n",
    "            batch_size, dim, -1, segment_size*2)  # B, N, K, L\n",
    "\n",
    "        input1 = input[:, :, :, :segment_size].contiguous().view(\n",
    "            batch_size, dim, -1)[:, :, segment_stride:]\n",
    "        input2 = input[:, :, :, segment_size:].contiguous().view(\n",
    "            batch_size, dim, -1)[:, :, :-segment_stride]\n",
    "\n",
    "        output = input1 + input2\n",
    "        if rest > 0:\n",
    "            output = output[:, :, :-rest]\n",
    "        return output.contiguous()\n",
    "    \n",
    "    def forward(self, input):\n",
    "        # create chunks\n",
    "        enc_segments, enc_rest = self.create_chuncks(\n",
    "            input, self.segment_size)\n",
    "        output_all = self.rnn_model(enc_segments)\n",
    "        \n",
    "        output_all_wav = []\n",
    "        for ii in range(len(output_all)):\n",
    "            output_ii = self.merge_chuncks(\n",
    "                output_all[ii], enc_rest)\n",
    "            print(ii, output_all[ii].shape)\n",
    "            output_all_wav.append(output_ii)\n",
    "        return output_all_wav"
   ]
  },
  {
   "cell_type": "code",
   "execution_count": 14,
   "id": "legendary-lawsuit",
   "metadata": {},
   "outputs": [],
   "source": [
    "# encoder_pt = Encoder_PT(L, N)\n",
    "# separator_pt = Separator_PT(filter_dim + N, N, H,\n",
    "#                       filter_dim, num_spk, layer, segment_size, input_normalize)\n",
    "# e_pt = encoder_pt(y_pt)\n",
    "# o_pt = separator_pt(e_pt)\n",
    "# # l.shape, r"
   ]
  },
  {
   "cell_type": "code",
   "execution_count": 15,
   "id": "close-couple",
   "metadata": {},
   "outputs": [],
   "source": [
    "# [i.shape for i in o_pt]"
   ]
  },
  {
   "cell_type": "code",
   "execution_count": 16,
   "id": "historic-initial",
   "metadata": {},
   "outputs": [],
   "source": [
    "def shape_list(x):\n",
    "    \"\"\"Deal with dynamic shape in tensorflow cleanly.\"\"\"\n",
    "    static = x.shape.as_list()\n",
    "    dynamic = tf.shape(x)\n",
    "    return [dynamic[i] if s is None else s for i, s in enumerate(static)]\n",
    "\n",
    "class Encoder(tf.keras.layers.Layer):\n",
    "    def __init__(self, L, N, **kwargs):\n",
    "        super(Encoder, self).__init__(name = 'Encoder', **kwargs)\n",
    "        self.conv = tf.keras.layers.Conv1D(N, kernel_size=L, strides=L // 2, use_bias=False)\n",
    "    \n",
    "    def call(self, mixture):\n",
    "        mixture = tf.expand_dims(mixture, -1)\n",
    "        mixture_w = tf.nn.relu(self.conv(mixture))\n",
    "        return mixture_w\n",
    "    \n",
    "class Decoder(tf.keras.layers.Layer):\n",
    "    def __init__(self, L, **kwargs):\n",
    "        super(Decoder, self).__init__(name = 'Decoder', **kwargs)\n",
    "        self.L = L\n",
    "\n",
    "    def call(self, est_source):\n",
    "        # torch.Size([1, 256, 22521])\n",
    "        # pt (1, 2, 128, 22521), tf (1, 22521, 2, 128)\n",
    "        est_source = tf.transpose(est_source, (0, 1, 3, 2))\n",
    "        est_source = tf.compat.v1.layers.average_pooling2d(est_source, 1, (1,8),\n",
    "                                     padding = 'SAME')\n",
    "        est_source = tf.signal.overlap_and_add(tf.transpose(est_source, (0, 3, 1, 2)), self.L // 2)\n",
    "\n",
    "        return est_source\n",
    "    \n",
    "class MulCatBlock(tf.keras.layers.Layer):\n",
    "\n",
    "    def __init__(self, input_size, hidden_size, dropout=0, bidirectional=False, **kwargs):\n",
    "        super(MulCatBlock, self).__init__(name = 'MulCatBlock', **kwargs)\n",
    "\n",
    "        self.input_size = input_size\n",
    "        self.hidden_size = hidden_size\n",
    "        self.num_direction = int(bidirectional) + 1\n",
    "        \n",
    "        if bidirectional:\n",
    "            self.rnn = tf.keras.layers.Bidirectional(\n",
    "                tf.keras.layers.LSTM(hidden_size, return_sequences = True)\n",
    "            )\n",
    "            self.gate_rnn = tf.keras.layers.Bidirectional(\n",
    "                tf.keras.layers.LSTM(hidden_size, return_sequences = True)\n",
    "            )\n",
    "        else:\n",
    "            self.rnn = tf.keras.layers.LSTM(hidden_size, return_sequences = True)\n",
    "            self.gate_rnn = tf.keras.layers.LSTM(hidden_size, return_sequences = True)\n",
    "        \n",
    "        self.rnn_proj = tf.keras.layers.Dense(input_size)\n",
    "        self.gate_rnn_proj = tf.keras.layers.Dense(input_size)\n",
    "        self.block_projection = tf.keras.layers.Dense(input_size)\n",
    "    \n",
    "    def call(self, input):\n",
    "        output = input\n",
    "        rnn_output = self.rnn(output)\n",
    "        rnn_output = self.rnn_proj(rnn_output)\n",
    "        gate_rnn_output = self.gate_rnn(output)\n",
    "        gate_rnn_output = self.gate_rnn_proj(gate_rnn_output)\n",
    "        gated_output = tf.multiply(rnn_output, gate_rnn_output)\n",
    "        gated_output = tf.concat([gated_output, output], 2)\n",
    "        gated_output = self.block_projection(gated_output)\n",
    "        return gated_output\n",
    "    \n",
    "class GroupNorm(tf.keras.layers.Layer):\n",
    "    def __init__(self, **kwargs):\n",
    "        super(DPMulCat, self).__init__(name = 'GroupNorm', **kwargs)\n",
    "    \n",
    "    def call(self, input):\n",
    "        return tf.contrib.layers.group_norm(x_tf, groups = 1, epsilon = 1e-8)\n",
    "    \n",
    "class ByPass(tf.keras.layers.Layer):\n",
    "    def __init__(self, **kwargs):\n",
    "        super(ByPass, self).__init__(name = 'ByPass', **kwargs)\n",
    "\n",
    "    def call(self, input):\n",
    "        return input\n",
    "        \n",
    "class DPMulCat(tf.keras.layers.Layer):\n",
    "    def __init__(self, input_size, hidden_size, output_size, num_spk,\n",
    "                 dropout=0, num_layers=1, bidirectional=True, input_normalize=False, **kwargs):\n",
    "        super(DPMulCat, self).__init__(name = 'DPMulCat', **kwargs)\n",
    "\n",
    "        self.input_size = input_size\n",
    "        self.output_size = output_size\n",
    "        self.hidden_size = hidden_size\n",
    "        self.in_norm = input_normalize\n",
    "        self.num_layers = num_layers\n",
    "        \n",
    "        self.rows_grnn = []\n",
    "        self.cols_grnn = []\n",
    "        self.rows_normalization = []\n",
    "        self.cols_normalization = []\n",
    "        \n",
    "        for i in range(num_layers):\n",
    "            self.rows_grnn.append(MulCatBlock(\n",
    "                input_size, hidden_size, dropout, bidirectional=bidirectional))\n",
    "            self.cols_grnn.append(MulCatBlock(\n",
    "                input_size, hidden_size, dropout, bidirectional=bidirectional))\n",
    "            if self.in_norm:\n",
    "                self.rows_normalization.append(GroupNorm())\n",
    "                self.cols_normalization.append(GroupNorm())\n",
    "            else:\n",
    "                # used to disable normalization\n",
    "                self.rows_normalization.append(ByPass())\n",
    "                self.cols_normalization.append(ByPass())\n",
    "                \n",
    "        self.outputs = tf.keras.Sequential()     \n",
    "        self.outputs.add(tf.keras.layers.PReLU())\n",
    "        self.outputs.add(tf.keras.layers.Conv2D(output_size * num_spk, 1, padding = 'SAME'))\n",
    "    \n",
    "    def call(self, input):\n",
    "        # original, [b, d3, d1, d2]\n",
    "        input = tf.transpose(input, (0, 2, 1, 3))\n",
    "        batch_size, d3, d1, d2 = shape_list(input)\n",
    "        output = input\n",
    "        output_all = []\n",
    "        for i in range(self.num_layers):\n",
    "            row_input = tf.transpose(output, [0, 3, 2, 1])\n",
    "            row_input = tf.reshape(row_input, (batch_size * d2, d1, d3))\n",
    "            row_output = self.rows_grnn[i](row_input)\n",
    "            row_output = tf.reshape(row_output, (batch_size, d2, d1, d3))\n",
    "            row_output = tf.transpose(row_output, (0, 3, 2, 1))\n",
    "            row_output = self.rows_normalization[i](row_output)\n",
    "            output = output + row_output\n",
    "            \n",
    "            print(i, row_input.shape, row_output.shape, output.shape)\n",
    "            \n",
    "            col_input = tf.transpose(output, [0, 2, 3, 1])\n",
    "            col_input = tf.reshape(col_input, (batch_size * d1, d2, d3))\n",
    "            col_output = self.cols_grnn[i](col_input)\n",
    "            col_output = tf.reshape(col_output, (batch_size, d1, d2, d3))\n",
    "            col_output = tf.transpose(col_output, (0, 3, 1, 2))\n",
    "            col_output = self.cols_normalization[i](col_output)\n",
    "            \n",
    "            output = output + col_output\n",
    "            \n",
    "            print(i, col_input.shape, col_output.shape, output.shape)\n",
    "            \n",
    "            # torch.Size([1, 128, 126, 360]\n",
    "            output_i = self.outputs(tf.transpose(output, [0, 2, 3, 1]))\n",
    "            output_all.append(output_i)\n",
    "        return output_all\n",
    "    \n",
    "class Separator(tf.keras.layers.Layer):\n",
    "    def __init__(self, input_dim, feature_dim, hidden_dim, output_dim, num_spk=2,\n",
    "                 layer=4, segment_size=100, input_normalize=False, bidirectional=True, **kwargs):\n",
    "        super(Separator, self).__init__(name = 'Separator', **kwargs)\n",
    "        self.input_dim = input_dim\n",
    "        self.feature_dim = feature_dim\n",
    "        self.hidden_dim = hidden_dim\n",
    "        self.output_dim = output_dim\n",
    "\n",
    "        self.layer = layer\n",
    "        self.segment_size = segment_size\n",
    "        self.num_spk = num_spk\n",
    "        self.input_normalize = input_normalize\n",
    "        \n",
    "        self.rnn_model = DPMulCat(self.feature_dim, self.hidden_dim,\n",
    "                                  self.feature_dim, self.num_spk, num_layers=layer, \n",
    "                                  bidirectional=bidirectional, input_normalize=input_normalize)\n",
    "    \n",
    "    def pad_segment(self, input, segment_size):\n",
    "        # input is the features: (B, N, T)\n",
    "        \n",
    "        batch_size, seq_len, dim = shape_list(input)\n",
    "        segment_stride = segment_size // 2\n",
    "        rest = segment_size - (segment_stride + seq_len %\n",
    "                               segment_size) % segment_size\n",
    "        if rest > 0:\n",
    "            pad = tf.Variable(tf.zeros(shape=(batch_size, rest, dim)))\n",
    "            input = tf.concat([input, pad], 1)\n",
    "\n",
    "        pad_aux = tf.Variable(tf.zeros(shape=(batch_size, segment_stride, dim)))\n",
    "        input = tf.concat([pad_aux, input, pad_aux], 1)\n",
    "        return input, rest\n",
    "    \n",
    "    def create_chuncks(self, input, segment_size):\n",
    "\n",
    "        input, rest = self.pad_segment(input, segment_size)\n",
    "        batch_size, seq_len, dim = shape_list(input)\n",
    "        segment_stride = segment_size // 2\n",
    "        segments1 = tf.reshape(input[:, :-segment_stride], (batch_size, -1, dim, segment_size))\n",
    "        segments2 = tf.reshape(input[:, segment_stride:], (batch_size, -1, dim, segment_size))\n",
    "        segments = tf.concat([segments1, segments2], axis = 3)\n",
    "        segments = tf.reshape(segments, (batch_size, -1, dim, segment_size))\n",
    "        segments = tf.transpose(segments, perm = [0, 3, 2, 1])\n",
    "        return segments, rest\n",
    "    \n",
    "    def merge_chuncks(self, input, rest):\n",
    "        # original, [b, dim, segment_size, _]\n",
    "        # torch.Size([1, 256, 126, 360])\n",
    "        # (1, 126, 360, 256)\n",
    "        input = tf.transpose(input, perm = [0, 3, 1, 2])\n",
    "        batch_size, dim, segment_size, _ = shape_list(input)\n",
    "        segment_stride = segment_size // 2\n",
    "        # original, [b, dim, _, segment_size]\n",
    "        input = tf.transpose(input, perm = [0, 1, 3, 2])\n",
    "        input = tf.reshape(input, (batch_size, dim, -1, segment_size * 2))\n",
    "        \n",
    "        input1 = tf.reshape(input[:, :, :, :segment_size], (batch_size, dim, -1))[:, :, segment_stride:]\n",
    "        input2 = tf.reshape(input[:, :, :, segment_size:], (batch_size, dim, -1))[:, :, :-segment_stride]\n",
    "        \n",
    "        output = input1 + input2\n",
    "        if rest > 0:\n",
    "            output = output[:, :, :-rest]\n",
    "            \n",
    "        return tf.transpose(output, perm = [0, 2, 1])\n",
    "        \n",
    "    def call(self, input):\n",
    "        # create chunks\n",
    "        enc_segments, enc_rest = self.create_chuncks(\n",
    "            input, self.segment_size)\n",
    "        output_all = self.rnn_model(enc_segments)\n",
    "        output_all_wav = []\n",
    "        for ii in range(len(output_all)):\n",
    "            print(ii, output_all[ii].shape)\n",
    "            output_ii = self.merge_chuncks(\n",
    "                output_all[ii], enc_rest)\n",
    "            output_all_wav.append(output_ii)\n",
    "        return output_all_wav\n",
    "    \n",
    "class Model(tf.keras.Model):\n",
    "    def __init__(\n",
    "        self,\n",
    "        N = 128,\n",
    "        L = 8,\n",
    "        H = 128,\n",
    "        R = 6,\n",
    "        C = 2,\n",
    "        input_normalize = False,\n",
    "        sample_rate = 8000,\n",
    "        segment = 4,\n",
    "        context_len = 2 * sr / 1000,\n",
    "        context = int(sr * context_len / 1000),\n",
    "        layer = R,\n",
    "        filter_dim = context * 2 + 1,\n",
    "        num_spk = C,\n",
    "        segment_size = int(np.sqrt(2 * sr * segment / (L / 2))),\n",
    "        **kwargs\n",
    "    ):\n",
    "        super(Model, self).__init__(name = 'swave', **kwargs)\n",
    "        self.C = C\n",
    "        self.N = N\n",
    "        self.encoder = Encoder(L, N)\n",
    "        self.separator = Separator(\n",
    "            filter_dim + N,\n",
    "            N,\n",
    "            H,\n",
    "            filter_dim,\n",
    "            num_spk,\n",
    "            layer,\n",
    "            segment_size,\n",
    "            input_normalize,\n",
    "        )\n",
    "        self.decoder = Decoder(L)\n",
    "\n",
    "    def call(self, mixture):\n",
    "        mixture_w = self.encoder(mixture)\n",
    "        output_all = self.separator(mixture_w)\n",
    "        T_mix = tf.shape(mixture)[1]\n",
    "        batch_size = tf.shape(mixture)[0]\n",
    "        T_mix_w = tf.shape(mixture_w)[1]\n",
    "        # generate wav after each RNN block and optimize the loss\n",
    "        outputs = []\n",
    "        for ii in range(len(output_all)):\n",
    "            output_ii = tf.reshape(\n",
    "                output_all[ii], (batch_size, T_mix_w, self.C, self.N)\n",
    "            )\n",
    "            output_ii = self.decoder(output_ii)\n",
    "            output_ii = tf.cond(\n",
    "                tf.shape(output_ii)[2] >= T_mix,\n",
    "                lambda: output_ii[:, :, :T_mix],\n",
    "                lambda: tf.pad(\n",
    "                    output_ii,\n",
    "                    [[0, 0], [0, 0], [0, T_mix - tf.shape(output_ii)[2]]],\n",
    "                ),\n",
    "            )\n",
    "            outputs.append(output_ii)\n",
    "        return outputs"
   ]
  },
  {
   "cell_type": "code",
   "execution_count": 17,
   "id": "formed-settle",
   "metadata": {},
   "outputs": [],
   "source": [
    "model = Model(C = speakers_size)"
   ]
  },
  {
   "cell_type": "code",
   "execution_count": 18,
   "id": "utility-algorithm",
   "metadata": {
    "scrolled": true
   },
   "outputs": [
    {
     "name": "stdout",
     "output_type": "stream",
     "text": [
      "0 (322, 126, 128) (1, 128, 126, 322) (1, 128, 126, 322)\n",
      "0 (126, 322, 128) (1, 128, 126, 322) (1, 128, 126, 322)\n",
      "1 (322, 126, 128) (1, 128, 126, 322) (1, 128, 126, 322)\n",
      "1 (126, 322, 128) (1, 128, 126, 322) (1, 128, 126, 322)\n",
      "2 (322, 126, 128) (1, 128, 126, 322) (1, 128, 126, 322)\n",
      "2 (126, 322, 128) (1, 128, 126, 322) (1, 128, 126, 322)\n",
      "3 (322, 126, 128) (1, 128, 126, 322) (1, 128, 126, 322)\n",
      "3 (126, 322, 128) (1, 128, 126, 322) (1, 128, 126, 322)\n",
      "4 (322, 126, 128) (1, 128, 126, 322) (1, 128, 126, 322)\n",
      "4 (126, 322, 128) (1, 128, 126, 322) (1, 128, 126, 322)\n",
      "5 (322, 126, 128) (1, 128, 126, 322) (1, 128, 126, 322)\n",
      "5 (126, 322, 128) (1, 128, 126, 322) (1, 128, 126, 322)\n",
      "0 (1, 126, 322, 512)\n",
      "1 (1, 126, 322, 512)\n",
      "2 (1, 126, 322, 512)\n",
      "3 (1, 126, 322, 512)\n",
      "4 (1, 126, 322, 512)\n",
      "5 (1, 126, 322, 512)\n",
      "WARNING:tensorflow:From <ipython-input-16-849ef4ab4d2a>:27: average_pooling2d (from tensorflow.python.layers.pooling) is deprecated and will be removed in a future version.\n",
      "Instructions for updating:\n",
      "Use keras.layers.AveragePooling2D instead.\n",
      "WARNING:tensorflow:From /Users/huseinzolkepli/Documents/tf-1.15/env/lib/python3.7/site-packages/tensorflow_core/python/layers/pooling.py:238: Layer.apply (from tensorflow.python.keras.engine.base_layer) is deprecated and will be removed in a future version.\n",
      "Instructions for updating:\n",
      "Please use `layer.__call__` method instead.\n"
     ]
    }
   ],
   "source": [
    "outputs = model(y_tf)"
   ]
  },
  {
   "cell_type": "code",
   "execution_count": 19,
   "id": "cultural-heavy",
   "metadata": {},
   "outputs": [
    {
     "data": {
      "text/plain": [
       "TensorShape([Dimension(1), Dimension(4), Dimension(80695)])"
      ]
     },
     "execution_count": 19,
     "metadata": {},
     "output_type": "execute_result"
    }
   ],
   "source": [
    "outputs[0].shape"
   ]
  },
  {
   "cell_type": "code",
   "execution_count": 263,
   "id": "tough-worst",
   "metadata": {},
   "outputs": [],
   "source": [
    "EPS = 1e-8\n",
    "\n",
    "def log10(x):\n",
    "    numerator = tf.log(x)\n",
    "    denominator = tf.log(tf.constant(10, dtype=numerator.dtype))\n",
    "    return numerator / denominator\n",
    "\n",
    "def cal_si_snr_with_pit(source, estimate_source, source_lengths, C):\n",
    "    B, _, T = shape_list(source)\n",
    "    mask = tf.cast(tf.sequence_mask(source_lengths, tf.reduce_max(source_lengths)), source.dtype)\n",
    "    print(mask)\n",
    "    estimate_source *= mask\n",
    "    \n",
    "    num_samples = tf.cast(tf.reshape(source_lengths, (-1, 1, 1)), tf.float32)\n",
    "    mean_target = tf.reduce_sum(source, axis = 2, keepdims = True) / num_samples\n",
    "    mean_estimate = tf.reduce_sum(estimate_source, axis = 2, keepdims = True) / num_samples\n",
    "    zero_mean_target = source - mean_target\n",
    "    zero_mean_estimate = estimate_source - mean_estimate\n",
    "    zero_mean_target *= mask\n",
    "    zero_mean_estimate *= mask\n",
    "    \n",
    "    s_target = tf.expand_dims(zero_mean_target, 1)\n",
    "    s_estimate = tf.expand_dims(zero_mean_estimate, 2)\n",
    "    pair_wise_dot = tf.reduce_sum(s_estimate * s_target,\n",
    "                              axis=3, keepdims=True)\n",
    "    s_target_energy = tf.reduce_sum(\n",
    "        s_target ** 2, axis=3, keepdims=True) + EPS\n",
    "    pair_wise_proj = pair_wise_dot * s_target / s_target_energy\n",
    "    e_noise = s_estimate - pair_wise_proj\n",
    "    pair_wise_si_snr = tf.reduce_sum(\n",
    "        pair_wise_proj ** 2, axis=3) / (tf.reduce_sum(e_noise ** 2, axis=3) + EPS)\n",
    "    pair_wise_si_snr = 10.0 * log10(pair_wise_si_snr + EPS)\n",
    "    pair_wise_si_snr = tf.transpose(pair_wise_si_snr, perm = [0, 2, 1])\n",
    "                                 \n",
    "    perms = tf.convert_to_tensor(np.array(list(permutations(range(C)))))\n",
    "    perms = tf.cast(perms, tf.int32)\n",
    "    index = tf.expand_dims(perms, 2)\n",
    "    ones = tf.ones(tf.reduce_prod(tf.shape(index)))\n",
    "    perms_one_hot = tf.zeros((tf.shape(perms)[0], tf.shape(perms)[1], C))\n",
    "    \n",
    "    indices = index\n",
    "    tensor = perms_one_hot\n",
    "    original_tensor = tensor\n",
    "    indices = tf.reshape(indices, shape=[-1, tf.shape(indices)[-1]])\n",
    "    indices_add = tf.expand_dims(tf.range(0, tf.shape(indices)[0], 1)*(tf.shape(tensor)[-1]), axis=-1)\n",
    "    indices += indices_add\n",
    "    tensor = tf.reshape(perms_one_hot, shape=[-1])\n",
    "    indices = tf.reshape(indices, shape=[-1, 1])\n",
    "    updates = tf.reshape(ones, shape=[-1])\n",
    "    scatter = tf.tensor_scatter_nd_update(tensor, indices, updates)\n",
    "    perms_one_hot = tf.reshape(scatter, \n",
    "                          shape=[tf.shape(original_tensor)[0], tf.shape(original_tensor)[1], -1])\n",
    "    \n",
    "    snr_set = tf.einsum('bij,pij->bp', pair_wise_si_snr, perms_one_hot)\n",
    "    max_snr_idx = tf.argmax(snr_set, axis=1)\n",
    "    max_snr = tf.reduce_max(snr_set, axis=1, keepdims=True)\n",
    "    max_snr /= C\n",
    "    \n",
    "    return max_snr, perms, max_snr_idx, snr_set / C"
   ]
  },
  {
   "cell_type": "code",
   "execution_count": 268,
   "id": "proved-coast",
   "metadata": {},
   "outputs": [],
   "source": [
    "def get_mask(source, source_lengths):\n",
    "    \"\"\"\n",
    "    Args:\n",
    "        source: [B, C, T]\n",
    "        source_lengths: [B]\n",
    "    Returns:\n",
    "        mask: [B, 1, T]\n",
    "    \"\"\"\n",
    "    B, _, T = source.size()\n",
    "    mask = source.new_ones((B, 1, T))\n",
    "    for i in range(B):\n",
    "        mask[i, :, source_lengths[i]:] = 0\n",
    "    return mask\n",
    "\n",
    "def cal_si_snr_with_pit_pt(source, estimate_source, source_lengths):\n",
    "    \"\"\"Calculate SI-SNR with PIT training.\n",
    "    Args:\n",
    "        source: [B, C, T], B is batch size\n",
    "        estimate_source: [B, C, T]\n",
    "        source_lengths: [B], each item is between [0, T]\n",
    "    \"\"\"\n",
    "    assert source.size() == estimate_source.size()\n",
    "    B, C, T = source.size()\n",
    "    # mask padding position along T\n",
    "    mask = get_mask(source, source_lengths)\n",
    "    estimate_source *= mask\n",
    "\n",
    "    # Step 1. Zero-mean norm\n",
    "    num_samples = source_lengths.view(-1, 1, 1).float()  # [B, 1, 1]\n",
    "    mean_target = torch.sum(source, dim=2, keepdim=True) / num_samples\n",
    "    mean_estimate = torch.sum(estimate_source, dim=2,\n",
    "                              keepdim=True) / num_samples\n",
    "    zero_mean_target = source - mean_target\n",
    "    zero_mean_estimate = estimate_source - mean_estimate\n",
    "    # mask padding position along T\n",
    "    zero_mean_target *= mask\n",
    "    zero_mean_estimate *= mask\n",
    "\n",
    "    # Step 2. SI-SNR with PIT\n",
    "    # reshape to use broadcast\n",
    "    s_target = torch.unsqueeze(zero_mean_target, dim=1)  # [B, 1, C, T]\n",
    "    s_estimate = torch.unsqueeze(zero_mean_estimate, dim=2)  # [B, C, 1, T]\n",
    "    # s_target = <s', s>s / ||s||^2\n",
    "    pair_wise_dot = torch.sum(s_estimate * s_target,\n",
    "                              dim=3, keepdim=True)  # [B, C, C, 1]\n",
    "    s_target_energy = torch.sum(\n",
    "        s_target ** 2, dim=3, keepdim=True) + EPS  # [B, 1, C, 1]\n",
    "    pair_wise_proj = pair_wise_dot * s_target / s_target_energy  # [B, C, C, T]\n",
    "    # e_noise = s' - s_target\n",
    "    e_noise = s_estimate - pair_wise_proj  # [B, C, C, T]\n",
    "    # SI-SNR = 10 * log_10(||s_target||^2 / ||e_noise||^2)\n",
    "    pair_wise_si_snr = torch.sum(\n",
    "        pair_wise_proj ** 2, dim=3) / (torch.sum(e_noise ** 2, dim=3) + EPS)\n",
    "    pair_wise_si_snr = 10 * torch.log10(pair_wise_si_snr + EPS)  # [B, C, C]\n",
    "    pair_wise_si_snr = torch.transpose(pair_wise_si_snr, 1, 2)\n",
    "\n",
    "    # Get max_snr of each utterance\n",
    "    # permutations, [C!, C]\n",
    "    perms = source.new_tensor(list(permutations(range(C))), dtype=torch.long)\n",
    "    # one-hot, [C!, C, C]\n",
    "    index = torch.unsqueeze(perms, 2)\n",
    "    perms_one_hot = source.new_zeros((*perms.size(), C)).scatter_(2, index, 1)\n",
    "    # [B, C!] <- [B, C, C] einsum [C!, C, C], SI-SNR sum of each permutation\n",
    "    snr_set = torch.einsum('bij,pij->bp', [pair_wise_si_snr, perms_one_hot])\n",
    "    max_snr_idx = torch.argmax(snr_set, dim=1)  # [B]\n",
    "    #  max_snr = torch.gather(snr_set, 1, max_snr_idx.view(-1, 1))  # [B, 1]\n",
    "    max_snr, _ = torch.max(snr_set, dim=1, keepdim=True)\n",
    "    max_snr /= C\n",
    "    return max_snr, perms, max_snr_idx, snr_set / C"
   ]
  },
  {
   "cell_type": "code",
   "execution_count": 269,
   "id": "overhead-category",
   "metadata": {},
   "outputs": [],
   "source": [
    "source = torch.from_numpy(np.expand_dims(y, 0))\n",
    "estimated_source = torch.from_numpy(outputs[0].numpy())\n",
    "source_lengths = torch.from_numpy(np.array([len(left[0])]))"
   ]
  },
  {
   "cell_type": "code",
   "execution_count": 270,
   "id": "significant-investor",
   "metadata": {},
   "outputs": [
    {
     "data": {
      "text/plain": [
       "(tensor([[-48.9084]], dtype=torch.float64),\n",
       " tensor([[0, 1, 2, 3],\n",
       "         [0, 1, 3, 2],\n",
       "         [0, 2, 1, 3],\n",
       "         [0, 2, 3, 1],\n",
       "         [0, 3, 1, 2],\n",
       "         [0, 3, 2, 1],\n",
       "         [1, 0, 2, 3],\n",
       "         [1, 0, 3, 2],\n",
       "         [1, 2, 0, 3],\n",
       "         [1, 2, 3, 0],\n",
       "         [1, 3, 0, 2],\n",
       "         [1, 3, 2, 0],\n",
       "         [2, 0, 1, 3],\n",
       "         [2, 0, 3, 1],\n",
       "         [2, 1, 0, 3],\n",
       "         [2, 1, 3, 0],\n",
       "         [2, 3, 0, 1],\n",
       "         [2, 3, 1, 0],\n",
       "         [3, 0, 1, 2],\n",
       "         [3, 0, 2, 1],\n",
       "         [3, 1, 0, 2],\n",
       "         [3, 1, 2, 0],\n",
       "         [3, 2, 0, 1],\n",
       "         [3, 2, 1, 0]]),\n",
       " tensor([23]),\n",
       " tensor([[-56.1385, -56.0237, -55.2823, -55.2364, -52.7276, -52.7965, -56.4181,\n",
       "          -56.3033, -55.7282, -51.8231, -53.1735, -49.3832, -57.2820, -57.2361,\n",
       "          -57.4483, -53.5432, -54.1063, -50.2471, -53.3886, -53.4575, -53.5550,\n",
       "          -49.7646, -52.7677, -48.9084]], dtype=torch.float64))"
      ]
     },
     "execution_count": 270,
     "metadata": {},
     "output_type": "execute_result"
    }
   ],
   "source": [
    "cal_si_snr_with_pit_pt(source, estimated_source, source_lengths)"
   ]
  },
  {
   "cell_type": "code",
   "execution_count": 261,
   "id": "initial-reputation",
   "metadata": {},
   "outputs": [],
   "source": [
    "source_tf = tf.convert_to_tensor(np.expand_dims(y, 0).astype(np.float32))\n",
    "source_lengths_tf = tf.convert_to_tensor(np.array([len(left[0])]))"
   ]
  },
  {
   "cell_type": "code",
   "execution_count": 264,
   "id": "outdoor-luxembourg",
   "metadata": {},
   "outputs": [
    {
     "name": "stdout",
     "output_type": "stream",
     "text": [
      "tf.Tensor([[1. 1. 1. ... 1. 1. 1.]], shape=(1, 80695), dtype=float32)\n"
     ]
    },
    {
     "data": {
      "text/plain": [
       "(<tf.Tensor: id=916067, shape=(1, 1), dtype=float32, numpy=array([[-48.908394]], dtype=float32)>,\n",
       " <tf.Tensor: id=915985, shape=(24, 4), dtype=int32, numpy=\n",
       " array([[0, 1, 2, 3],\n",
       "        [0, 1, 3, 2],\n",
       "        [0, 2, 1, 3],\n",
       "        [0, 2, 3, 1],\n",
       "        [0, 3, 1, 2],\n",
       "        [0, 3, 2, 1],\n",
       "        [1, 0, 2, 3],\n",
       "        [1, 0, 3, 2],\n",
       "        [1, 2, 0, 3],\n",
       "        [1, 2, 3, 0],\n",
       "        [1, 3, 0, 2],\n",
       "        [1, 3, 2, 0],\n",
       "        [2, 0, 1, 3],\n",
       "        [2, 0, 3, 1],\n",
       "        [2, 1, 0, 3],\n",
       "        [2, 1, 3, 0],\n",
       "        [2, 3, 0, 1],\n",
       "        [2, 3, 1, 0],\n",
       "        [3, 0, 1, 2],\n",
       "        [3, 0, 2, 1],\n",
       "        [3, 1, 0, 2],\n",
       "        [3, 1, 2, 0],\n",
       "        [3, 2, 0, 1],\n",
       "        [3, 2, 1, 0]], dtype=int32)>,\n",
       " <tf.Tensor: id=916063, shape=(1,), dtype=int64, numpy=array([23])>,\n",
       " <tf.Tensor: id=916069, shape=(1, 24), dtype=float32, numpy=\n",
       " array([[-56.138496, -56.02373 , -55.282265, -55.23642 , -52.72758 ,\n",
       "         -52.7965  , -56.418076, -56.303307, -55.728203, -51.823082,\n",
       "         -53.173523, -49.383163, -57.281982, -57.23613 , -57.44834 ,\n",
       "         -53.54322 , -54.106346, -50.24707 , -53.38862 , -53.457535,\n",
       "         -53.554977, -49.764626, -52.76767 , -48.908394]], dtype=float32)>)"
      ]
     },
     "execution_count": 264,
     "metadata": {},
     "output_type": "execute_result"
    }
   ],
   "source": [
    "cal_si_snr_with_pit(source_tf, outputs[0], source_lengths_tf, C)"
   ]
  },
  {
   "cell_type": "code",
   "execution_count": 35,
   "id": "interested-speech",
   "metadata": {},
   "outputs": [
    {
     "data": {
      "text/plain": [
       "torch.Size([1, 1, 1])"
      ]
     },
     "execution_count": 35,
     "metadata": {},
     "output_type": "execute_result"
    }
   ],
   "source": [
    "num_samples = source_lengths.view(-1, 1, 1).float()\n",
    "num_samples.shape"
   ]
  },
  {
   "cell_type": "code",
   "execution_count": 25,
   "id": "south-dancing",
   "metadata": {},
   "outputs": [
    {
     "data": {
      "text/plain": [
       "tensor([[[80695.]]])"
      ]
     },
     "execution_count": 25,
     "metadata": {},
     "output_type": "execute_result"
    }
   ],
   "source": [
    "num_samples = source_lengths.view(-1, 1, 1).float()\n",
    "num_samples"
   ]
  },
  {
   "cell_type": "code",
   "execution_count": null,
   "id": "material-minnesota",
   "metadata": {},
   "outputs": [],
   "source": [
    "s = tf.math.logical_not(tf.sequence_mask(start, 105299))\n",
    "e = tf.sequence_mask(end, 105299)\n",
    "tf.math.logical_and(s, e)"
   ]
  },
  {
   "cell_type": "code",
   "execution_count": 22,
   "id": "civil-heath",
   "metadata": {},
   "outputs": [
    {
     "data": {
      "text/plain": [
       "<tf.Tensor: id=913901, shape=(1, 4, 80695), dtype=float32, numpy=\n",
       "array([[[ 0.01009563,  0.00609156, -0.00160525, ..., -0.01258242,\n",
       "         -0.0039157 , -0.0223956 ],\n",
       "        [-0.06504403, -0.00103295, -0.03156273, ..., -0.00795869,\n",
       "          0.00436507, -0.00990242],\n",
       "        [ 0.00923771,  0.00564549, -0.00792148, ..., -0.00024877,\n",
       "         -0.0082346 , -0.01020905],\n",
       "        [-0.01299534,  0.01603856,  0.00078306, ...,  0.00634084,\n",
       "          0.00328981,  0.0002893 ]]], dtype=float32)>"
      ]
     },
     "execution_count": 22,
     "metadata": {},
     "output_type": "execute_result"
    }
   ],
   "source": [
    "mask = tf.cast(tf.sequence_mask([80695], 80695), outputs[0].dtype)\n",
    "outputs[0] * mask"
   ]
  },
  {
   "cell_type": "code",
   "execution_count": null,
   "id": "blind-length",
   "metadata": {},
   "outputs": [],
   "source": []
  },
  {
   "cell_type": "code",
   "execution_count": null,
   "id": "alone-grace",
   "metadata": {},
   "outputs": [],
   "source": [
    "np.array([[1, 3],[2,0]])"
   ]
  },
  {
   "cell_type": "code",
   "execution_count": null,
   "id": "motivated-showcase",
   "metadata": {},
   "outputs": [],
   "source": [
    "tf.sequence_mask([1,2,3,2])"
   ]
  },
  {
   "cell_type": "code",
   "execution_count": null,
   "id": "grand-horizontal",
   "metadata": {},
   "outputs": [],
   "source": [
    "r = tf.sequence_mask(np.concatenate([s, e]).T)\n",
    "r = tf.cast(r, tf.int32).numpy()\n",
    "# r = tf.reduce_sum(r, axis = 1).numpy()"
   ]
  },
  {
   "cell_type": "code",
   "execution_count": null,
   "id": "rental-cooper",
   "metadata": {},
   "outputs": [],
   "source": [
    "r.shape"
   ]
  },
  {
   "cell_type": "code",
   "execution_count": null,
   "id": "specialized-driver",
   "metadata": {},
   "outputs": [],
   "source": [
    "r[0].sum()"
   ]
  },
  {
   "cell_type": "code",
   "execution_count": null,
   "id": "cubic-vertex",
   "metadata": {},
   "outputs": [],
   "source": [
    "r[1]"
   ]
  },
  {
   "cell_type": "code",
   "execution_count": null,
   "id": "fourth-cement",
   "metadata": {},
   "outputs": [],
   "source": [
    "r[0]"
   ]
  },
  {
   "cell_type": "code",
   "execution_count": null,
   "id": "angry-contrast",
   "metadata": {},
   "outputs": [],
   "source": [
    "r[:,1].sum()"
   ]
  },
  {
   "cell_type": "code",
   "execution_count": null,
   "id": "atmospheric-newsletter",
   "metadata": {},
   "outputs": [],
   "source": [
    "tf.sequence_mask([[     0], [44368]])"
   ]
  },
  {
   "cell_type": "code",
   "execution_count": null,
   "id": "packed-harvey",
   "metadata": {},
   "outputs": [],
   "source": [
    "# 0 torch.Size([360, 126, 128]) torch.Size([1, 128, 126, 360]) torch.Size([1, 128, 126, 360])\n",
    "# 0 torch.Size([126, 360, 128]) torch.Size([1, 128, 126, 360]) torch.Size([1, 128, 126, 360])\n",
    "# 1 torch.Size([360, 126, 128]) torch.Size([1, 128, 126, 360]) torch.Size([1, 128, 126, 360])\n",
    "# 1 torch.Size([126, 360, 128]) torch.Size([1, 128, 126, 360]) torch.Size([1, 128, 126, 360])\n",
    "# 2 torch.Size([360, 126, 128]) torch.Size([1, 128, 126, 360]) torch.Size([1, 128, 126, 360])\n",
    "# 2 torch.Size([126, 360, 128]) torch.Size([1, 128, 126, 360]) torch.Size([1, 128, 126, 360])\n",
    "# 3 torch.Size([360, 126, 128]) torch.Size([1, 128, 126, 360]) torch.Size([1, 128, 126, 360])\n",
    "# 3 torch.Size([126, 360, 128]) torch.Size([1, 128, 126, 360]) torch.Size([1, 128, 126, 360])\n",
    "# 4 torch.Size([360, 126, 128]) torch.Size([1, 128, 126, 360]) torch.Size([1, 128, 126, 360])\n",
    "# 4 torch.Size([126, 360, 128]) torch.Size([1, 128, 126, 360]) torch.Size([1, 128, 126, 360])\n",
    "# 5 torch.Size([360, 126, 128]) torch.Size([1, 128, 126, 360]) torch.Size([1, 128, 126, 360])\n",
    "# 5 torch.Size([126, 360, 128]) torch.Size([1, 128, 126, 360]) torch.Size([1, 128, 126, 360])"
   ]
  },
  {
   "cell_type": "code",
   "execution_count": null,
   "id": "organizational-maintenance",
   "metadata": {},
   "outputs": [],
   "source": [
    "# 0 torch.Size([1, 256, 126, 360])\n",
    "# 1 torch.Size([1, 256, 126, 360])\n",
    "# 2 torch.Size([1, 256, 126, 360])\n",
    "# 3 torch.Size([1, 256, 126, 360])\n",
    "# 4 torch.Size([1, 256, 126, 360])\n",
    "# 5 torch.Size([1, 256, 126, 360])\n",
    "\n",
    "# [torch.Size([1, 256, 22521]),\n",
    "#  torch.Size([1, 256, 22521]),\n",
    "#  torch.Size([1, 256, 22521]),\n",
    "#  torch.Size([1, 256, 22521]),\n",
    "#  torch.Size([1, 256, 22521]),\n",
    "#  torch.Size([1, 256, 22521])]"
   ]
  },
  {
   "cell_type": "code",
   "execution_count": null,
   "id": "continuous-presence",
   "metadata": {},
   "outputs": [],
   "source": [
    "est_source.shape"
   ]
  },
  {
   "cell_type": "code",
   "execution_count": null,
   "id": "recreational-billion",
   "metadata": {},
   "outputs": [],
   "source": [
    "F.pad(output_ii, (0, 90199 - T_est)).shape"
   ]
  },
  {
   "cell_type": "code",
   "execution_count": null,
   "id": "skilled-accident",
   "metadata": {},
   "outputs": [],
   "source": [
    "(0, 90099 - T_est)"
   ]
  },
  {
   "cell_type": "code",
   "execution_count": null,
   "id": "subject-festival",
   "metadata": {},
   "outputs": [],
   "source": [
    "p = [F.pad(output_ii, (0, 90199 - T_est)), F.pad(output_ii, (0, 90199 - T_est))]"
   ]
  },
  {
   "cell_type": "code",
   "execution_count": null,
   "id": "affiliated-welsh",
   "metadata": {},
   "outputs": [],
   "source": [
    "torch.stack(p).shape"
   ]
  },
  {
   "cell_type": "code",
   "execution_count": null,
   "id": "heavy-nudist",
   "metadata": {},
   "outputs": [],
   "source": [
    "outputs[0]"
   ]
  },
  {
   "cell_type": "code",
   "execution_count": null,
   "id": "sustainable-labor",
   "metadata": {},
   "outputs": [],
   "source": [
    "tf.pad(outputs[0], [[0,0], [0,0], [0,3]])"
   ]
  },
  {
   "cell_type": "code",
   "execution_count": null,
   "id": "instructional-hobby",
   "metadata": {},
   "outputs": [],
   "source": [
    "tf.shape(outputs[0])"
   ]
  },
  {
   "cell_type": "code",
   "execution_count": null,
   "id": "unique-heritage",
   "metadata": {},
   "outputs": [],
   "source": []
  }
 ],
 "metadata": {
  "kernelspec": {
   "display_name": "Python 3",
   "language": "python",
   "name": "python3"
  },
  "language_info": {
   "codemirror_mode": {
    "name": "ipython",
    "version": 3
   },
   "file_extension": ".py",
   "mimetype": "text/x-python",
   "name": "python",
   "nbconvert_exporter": "python",
   "pygments_lexer": "ipython3",
   "version": "3.7.7"
  }
 },
 "nbformat": 4,
 "nbformat_minor": 5
}

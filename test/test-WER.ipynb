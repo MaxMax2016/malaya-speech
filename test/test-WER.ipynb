{
 "cells": [
  {
   "cell_type": "code",
   "execution_count": 1,
   "metadata": {},
   "outputs": [],
   "source": [
    "import sys\n",
    "import os\n",
    "\n",
    "SOURCE_DIR = os.path.dirname(os.path.dirname(os.path.abspath(__name__)))\n",
    "sys.path.insert(0, SOURCE_DIR)"
   ]
  },
  {
   "cell_type": "code",
   "execution_count": 2,
   "metadata": {},
   "outputs": [
    {
     "name": "stdout",
     "output_type": "stream",
     "text": [
      "WARNING:tensorflow:From /Users/huseinzolkepli/Documents/malaya-speech/malaya_speech/train/optimizer.py:34: The name tf.train.AdagradOptimizer is deprecated. Please use tf.compat.v1.train.AdagradOptimizer instead.\n",
      "\n",
      "WARNING:tensorflow:From /Users/huseinzolkepli/Documents/malaya-speech/malaya_speech/train/optimizer.py:35: The name tf.train.AdamOptimizer is deprecated. Please use tf.compat.v1.train.AdamOptimizer instead.\n",
      "\n",
      "WARNING:tensorflow:From /Users/huseinzolkepli/Documents/malaya-speech/malaya_speech/train/optimizer.py:36: The name tf.train.FtrlOptimizer is deprecated. Please use tf.compat.v1.train.FtrlOptimizer instead.\n",
      "\n",
      "WARNING:tensorflow:From /Users/huseinzolkepli/Documents/malaya-speech/malaya_speech/train/optimizer.py:38: The name tf.train.RMSPropOptimizer is deprecated. Please use tf.compat.v1.train.RMSPropOptimizer instead.\n",
      "\n",
      "WARNING:tensorflow:From /Users/huseinzolkepli/Documents/malaya-speech/malaya_speech/train/optimizer.py:39: The name tf.train.GradientDescentOptimizer is deprecated. Please use tf.compat.v1.train.GradientDescentOptimizer instead.\n",
      "\n",
      "WARNING:tensorflow:\n",
      "The TensorFlow contrib module will not be included in TensorFlow 2.0.\n",
      "For more information, please see:\n",
      "  * https://github.com/tensorflow/community/blob/master/rfcs/20180907-contrib-sunset.md\n",
      "  * https://github.com/tensorflow/addons\n",
      "  * https://github.com/tensorflow/io (for I/O related ops)\n",
      "If you depend on functionality not listed there, please file an issue.\n",
      "\n",
      "WARNING:tensorflow:From /Users/huseinzolkepli/Documents/malaya-speech/malaya_speech/train/model/quartznet/layer.py:6: The name tf.layers.Conv1D is deprecated. Please use tf.compat.v1.layers.Conv1D instead.\n",
      "\n"
     ]
    }
   ],
   "source": [
    "import malaya_speech\n",
    "import malaya_speech.train as train\n",
    "import malaya_speech.train.model.ctc as ctc\n",
    "import numpy as np\n",
    "import tensorflow as tf"
   ]
  },
  {
   "cell_type": "code",
   "execution_count": 3,
   "metadata": {},
   "outputs": [],
   "source": [
    "# according to ASCII, 34 is space.\n",
    "\n",
    "ref = np.asarray([\n",
    "    # a b c\n",
    "    [97, 34, 98, 34, 99],\n",
    "    [97, 34, 98, 34, 99],\n",
    "    [97, 34, 98, 34, 99],\n",
    "    [97, 34, 98, 34, 99],\n",
    "])\n",
    "\n",
    "hyp = np.asarray([\n",
    "    [97, 34, 98, 34, 99],   # a b c\n",
    "    [97, 34, 98, 0, 0],     # a b\n",
    "    [97, 34, 98, 34, 100],  # a b d\n",
    "    [0, 0, 0, 0, 0]         # empty\n",
    "])\n",
    "\n",
    "predictions = np.zeros((len(ref), np.max([len(s) for s in hyp]), malaya_speech.char.VOCAB_SIZE))\n",
    "for i, sample in enumerate(hyp):\n",
    "    for j, idx in enumerate(sample):\n",
    "        predictions[i, j, idx] = 1"
   ]
  },
  {
   "cell_type": "code",
   "execution_count": 4,
   "metadata": {
    "scrolled": true
   },
   "outputs": [],
   "source": [
    "sess = tf.InteractiveSession()"
   ]
  },
  {
   "cell_type": "code",
   "execution_count": 5,
   "metadata": {},
   "outputs": [
    {
     "name": "stdout",
     "output_type": "stream",
     "text": [
      "WARNING:tensorflow:From /Users/huseinzolkepli/Documents/malaya-speech/malaya_speech/train/model/ctc/metrics.py:122: The name tf.variable_scope is deprecated. Please use tf.compat.v1.variable_scope instead.\n",
      "\n",
      "WARNING:tensorflow:From /Users/huseinzolkepli/Documents/malaya-speech/malaya_speech/train/model/ctc/metrics.py:93: The name tf.regex_replace is deprecated. Please use tf.strings.regex_replace instead.\n",
      "\n"
     ]
    },
    {
     "data": {
      "text/plain": [
       "(0.41666666, 12.0)"
      ]
     },
     "execution_count": 5,
     "metadata": {},
     "output_type": "execute_result"
    }
   ],
   "source": [
    "sess.run(ctc.metrics.word_error_rate(predictions, ref))"
   ]
  },
  {
   "cell_type": "code",
   "execution_count": 6,
   "metadata": {},
   "outputs": [
    {
     "data": {
      "text/plain": [
       "(0.41666666, 12.0)"
      ]
     },
     "execution_count": 6,
     "metadata": {},
     "output_type": "execute_result"
    }
   ],
   "source": [
    "sess.run(ctc.metrics.word_error_rate(predictions[:-1], ref))"
   ]
  },
  {
   "cell_type": "code",
   "execution_count": 7,
   "metadata": {},
   "outputs": [
    {
     "data": {
      "text/plain": [
       "['<PAD>',\n",
       " '<EOS>',\n",
       " 'a',\n",
       " ' ',\n",
       " 'l',\n",
       " 'o',\n",
       " 's',\n",
       " 't',\n",
       " 'm',\n",
       " 'k',\n",
       " 'd',\n",
       " 'n',\n",
       " '2',\n",
       " 'g',\n",
       " 'j',\n",
       " 'y',\n",
       " 'h',\n",
       " '1',\n",
       " 'e',\n",
       " 'i',\n",
       " '3',\n",
       " 'u']"
      ]
     },
     "execution_count": 7,
     "metadata": {},
     "output_type": "execute_result"
    }
   ],
   "source": [
    "texts = ['hello saya sakit', 'jom makan', 'dangdut 123']\n",
    "unique_chars = malaya_speech.char.generate_vocab(texts)\n",
    "unique_chars"
   ]
  },
  {
   "cell_type": "code",
   "execution_count": 8,
   "metadata": {},
   "outputs": [
    {
     "data": {
      "text/plain": [
       "array([[16, 18,  4,  4,  5,  3,  6,  2, 15,  2,  3,  6,  2,  9, 19,  7,\n",
       "         1],\n",
       "       [14,  5,  8,  3,  8,  2,  9,  2, 11,  1,  0,  0,  0,  0,  0,  0,\n",
       "         0],\n",
       "       [10,  2, 11, 13, 10, 21,  7,  3, 17, 12, 20,  1,  0,  0,  0,  0,\n",
       "         0]])"
      ]
     },
     "execution_count": 8,
     "metadata": {},
     "output_type": "execute_result"
    }
   ],
   "source": [
    "refs = []\n",
    "for text in texts:\n",
    "    encoded = malaya_speech.char.encode(text, lookup = unique_chars)\n",
    "    refs.append(encoded)\n",
    "    \n",
    "refs = malaya_speech.padding.sequence_1d(refs)\n",
    "refs"
   ]
  },
  {
   "cell_type": "code",
   "execution_count": 9,
   "metadata": {},
   "outputs": [],
   "source": [
    "hyp = refs"
   ]
  },
  {
   "cell_type": "code",
   "execution_count": 10,
   "metadata": {},
   "outputs": [],
   "source": [
    "predictions = np.zeros((len(refs), np.max([len(s) for s in hyp]), len(unique_chars) + 1))\n",
    "for i, sample in enumerate(hyp):\n",
    "    for j, idx in enumerate(sample):\n",
    "        predictions[i, j, idx] = 1"
   ]
  },
  {
   "cell_type": "code",
   "execution_count": 11,
   "metadata": {},
   "outputs": [
    {
     "data": {
      "text/plain": [
       "(0.0, 7.0)"
      ]
     },
     "execution_count": 11,
     "metadata": {},
     "output_type": "execute_result"
    }
   ],
   "source": [
    "sess.run(ctc.metrics.word_error_rate(predictions, refs, lookup = unique_chars))"
   ]
  },
  {
   "cell_type": "code",
   "execution_count": 12,
   "metadata": {},
   "outputs": [],
   "source": [
    "hyp = []\n",
    "for text in texts:\n",
    "    encoded = malaya_speech.char.encode(text + ' makan', lookup = unique_chars)\n",
    "    hyp.append(encoded)\n",
    "    \n",
    "hyp = malaya_speech.padding.sequence_1d(hyp)"
   ]
  },
  {
   "cell_type": "code",
   "execution_count": 13,
   "metadata": {},
   "outputs": [],
   "source": [
    "predictions = np.zeros((len(refs), np.max([len(s) for s in hyp]), len(unique_chars) + 1))\n",
    "for i, sample in enumerate(hyp):\n",
    "    for j, idx in enumerate(sample):\n",
    "        predictions[i, j, idx] = 1"
   ]
  },
  {
   "cell_type": "code",
   "execution_count": 14,
   "metadata": {},
   "outputs": [
    {
     "data": {
      "text/plain": [
       "(0.42857143, 7.0)"
      ]
     },
     "execution_count": 14,
     "metadata": {},
     "output_type": "execute_result"
    }
   ],
   "source": [
    "sess.run(ctc.metrics.word_error_rate(predictions, refs, lookup = unique_chars))"
   ]
  },
  {
   "cell_type": "code",
   "execution_count": 15,
   "metadata": {},
   "outputs": [
    {
     "data": {
      "text/plain": [
       "SparseTensorValue(indices=array([[0, 0],\n",
       "       [0, 1],\n",
       "       [0, 2],\n",
       "       [1, 0],\n",
       "       [1, 1],\n",
       "       [2, 0],\n",
       "       [2, 1]]), values=array([b'hello', b'saya', b'sakit', b'jom', b'makan', b'dangdut', b'123'],\n",
       "      dtype=object), dense_shape=array([3, 3]))"
      ]
     },
     "execution_count": 15,
     "metadata": {},
     "output_type": "execute_result"
    }
   ],
   "source": [
    "sess.run(ctc.metrics.from_tokens(refs, unique_chars))"
   ]
  },
  {
   "cell_type": "code",
   "execution_count": 16,
   "metadata": {},
   "outputs": [
    {
     "data": {
      "text/plain": [
       "SparseTensorValue(indices=array([[0, 0],\n",
       "       [0, 1],\n",
       "       [0, 2],\n",
       "       [0, 3],\n",
       "       [1, 0],\n",
       "       [1, 1],\n",
       "       [1, 2],\n",
       "       [2, 0],\n",
       "       [2, 1],\n",
       "       [2, 2]]), values=array([b'hello', b'saya', b'sakit', b'makan', b'jom', b'makan', b'makan',\n",
       "       b'dangdut', b'123', b'makan'], dtype=object), dense_shape=array([3, 4]))"
      ]
     },
     "execution_count": 16,
     "metadata": {},
     "output_type": "execute_result"
    }
   ],
   "source": [
    "sess.run(ctc.metrics.from_tokens(tf.argmax(predictions, axis = -1), unique_chars))"
   ]
  },
  {
   "cell_type": "code",
   "execution_count": null,
   "metadata": {},
   "outputs": [],
   "source": []
  }
 ],
 "metadata": {
  "kernelspec": {
   "display_name": "Python 3",
   "language": "python",
   "name": "python3"
  },
  "language_info": {
   "codemirror_mode": {
    "name": "ipython",
    "version": 3
   },
   "file_extension": ".py",
   "mimetype": "text/x-python",
   "name": "python",
   "nbconvert_exporter": "python",
   "pygments_lexer": "ipython3",
   "version": "3.7.7"
  }
 },
 "nbformat": 4,
 "nbformat_minor": 4
}

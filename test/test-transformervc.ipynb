{
 "cells": [
  {
   "cell_type": "code",
   "execution_count": 1,
   "metadata": {},
   "outputs": [],
   "source": [
    "import os\n",
    "\n",
    "os.environ['CUDA_VISIBLE_DEVICES'] = '1'"
   ]
  },
  {
   "cell_type": "code",
   "execution_count": 2,
   "metadata": {},
   "outputs": [],
   "source": [
    "import sys\n",
    "\n",
    "SOURCE_DIR = os.path.dirname(os.path.dirname(os.path.abspath(__name__)))\n",
    "sys.path.insert(0, SOURCE_DIR)"
   ]
  },
  {
   "cell_type": "code",
   "execution_count": 3,
   "metadata": {},
   "outputs": [],
   "source": [
    "import pickle\n",
    "\n",
    "metadata = pickle.load(open('metadata.pkl', \"rb\"))"
   ]
  },
  {
   "cell_type": "code",
   "execution_count": 4,
   "metadata": {},
   "outputs": [
    {
     "name": "stdout",
     "output_type": "stream",
     "text": [
      "WARNING:tensorflow:From /Users/huseinzolkepli/Documents/malaya-speech/malaya_speech/train/optimizer/__init__.py:38: The name tf.train.AdagradOptimizer is deprecated. Please use tf.compat.v1.train.AdagradOptimizer instead.\n",
      "\n",
      "WARNING:tensorflow:From /Users/huseinzolkepli/Documents/malaya-speech/malaya_speech/train/optimizer/__init__.py:39: The name tf.train.AdamOptimizer is deprecated. Please use tf.compat.v1.train.AdamOptimizer instead.\n",
      "\n",
      "WARNING:tensorflow:From /Users/huseinzolkepli/Documents/malaya-speech/malaya_speech/train/optimizer/__init__.py:40: The name tf.train.FtrlOptimizer is deprecated. Please use tf.compat.v1.train.FtrlOptimizer instead.\n",
      "\n",
      "WARNING:tensorflow:From /Users/huseinzolkepli/Documents/malaya-speech/malaya_speech/train/optimizer/__init__.py:42: The name tf.train.RMSPropOptimizer is deprecated. Please use tf.compat.v1.train.RMSPropOptimizer instead.\n",
      "\n",
      "WARNING:tensorflow:From /Users/huseinzolkepli/Documents/malaya-speech/malaya_speech/train/optimizer/__init__.py:43: The name tf.train.GradientDescentOptimizer is deprecated. Please use tf.compat.v1.train.GradientDescentOptimizer instead.\n",
      "\n",
      "WARNING:tensorflow:\n",
      "The TensorFlow contrib module will not be included in TensorFlow 2.0.\n",
      "For more information, please see:\n",
      "  * https://github.com/tensorflow/community/blob/master/rfcs/20180907-contrib-sunset.md\n",
      "  * https://github.com/tensorflow/addons\n",
      "  * https://github.com/tensorflow/io (for I/O related ops)\n",
      "If you depend on functionality not listed there, please file an issue.\n",
      "\n",
      "WARNING:tensorflow:From /Users/huseinzolkepli/Documents/malaya-speech/malaya_speech/train/model/transformer/attention_layer.py:24: The name tf.layers.Layer is deprecated. Please use tf.compat.v1.layers.Layer instead.\n",
      "\n"
     ]
    }
   ],
   "source": [
    "import numpy as np\n",
    "from math import ceil\n",
    "import tensorflow as tf\n",
    "from malaya_speech.train.model import fastspeech, transformervc\n",
    "import malaya_speech"
   ]
  },
  {
   "cell_type": "code",
   "execution_count": 7,
   "metadata": {},
   "outputs": [],
   "source": [
    "sbmt_i = metadata[0]\n",
    "x_org = sbmt_i[2]\n",
    "c = np.random.normal(size = (2, 512)).astype(np.float32)"
   ]
  },
  {
   "cell_type": "code",
   "execution_count": 8,
   "metadata": {},
   "outputs": [],
   "source": [
    "mel = tf.placeholder(tf.float32, (None, None, 80))\n",
    "ori_vector = tf.placeholder(tf.float32, (None, 512))\n",
    "target_vector = tf.placeholder(tf.float32, (None, 512))\n",
    "mel_lengths = tf.placeholder(tf.int32, (None))"
   ]
  },
  {
   "cell_type": "code",
   "execution_count": 9,
   "metadata": {},
   "outputs": [],
   "source": [
    "dim_neck = 32\n",
    "dim_speaker = 512\n",
    "dim_input = 80\n",
    "encoder_config = malaya_speech.config.transformer_config.copy()\n",
    "decoder_config = malaya_speech.config.transformer_config.copy()\n",
    "encoder_config['hidden_size'] = dim_speaker + dim_input\n",
    "decoder_config['hidden_size'] = dim_speaker + dim_neck\n",
    "encoder_config['activation'] = 'mish'\n",
    "decoder_config['activation'] = 'mish'"
   ]
  },
  {
   "cell_type": "code",
   "execution_count": 10,
   "metadata": {},
   "outputs": [],
   "source": [
    "config = malaya_speech.config.fastspeech_config\n",
    "config = fastspeech.Config(vocab_size = 1, **config)"
   ]
  },
  {
   "cell_type": "code",
   "execution_count": 11,
   "metadata": {
    "scrolled": true
   },
   "outputs": [
    {
     "name": "stdout",
     "output_type": "stream",
     "text": [
      "WARNING:tensorflow:From /Users/huseinzolkepli/Documents/malaya-speech/malaya_speech/train/model/transformer/attention_layer.py:41: The name tf.layers.Dense is deprecated. Please use tf.compat.v1.layers.Dense instead.\n",
      "\n"
     ]
    }
   ],
   "source": [
    "model = transformervc.Model(dim_neck, encoder_config, decoder_config, config, dim_input = dim_input,\n",
    "                           dim_speaker = dim_speaker, skip = 6)"
   ]
  },
  {
   "cell_type": "code",
   "execution_count": 12,
   "metadata": {},
   "outputs": [
    {
     "name": "stdout",
     "output_type": "stream",
     "text": [
      "WARNING:tensorflow:From /Users/huseinzolkepli/Documents/tf-1.15/env/lib/python3.7/site-packages/tensorflow_core/python/autograph/converters/directives.py:119: The name tf.variable_scope is deprecated. Please use tf.compat.v1.variable_scope instead.\n",
      "\n",
      "WARNING:tensorflow:From /Users/huseinzolkepli/Documents/malaya-speech/malaya_speech/train/model/transformervc/model.py:66: calling dropout (from tensorflow.python.ops.nn_ops) with keep_prob is deprecated and will be removed in a future version.\n",
      "Instructions for updating:\n",
      "Please use `rate` instead of `keep_prob`. Rate should be set to `rate = 1 - keep_prob`.\n",
      "WARNING:tensorflow:From /Users/huseinzolkepli/Documents/malaya-speech/malaya_speech/train/model/transformer/transformer.py:139: The name tf.get_variable is deprecated. Please use tf.compat.v1.get_variable instead.\n",
      "\n",
      "WARNING:tensorflow:From /Users/huseinzolkepli/Documents/tf-1.15/env/lib/python3.7/site-packages/tensorflow_core/python/autograph/converters/directives.py:119: The name tf.rsqrt is deprecated. Please use tf.math.rsqrt instead.\n",
      "\n",
      "WARNING:tensorflow:From /Users/huseinzolkepli/Documents/malaya-speech/malaya_speech/train/model/transformer/ffn_layer.py:94: where (from tensorflow.python.ops.array_ops) is deprecated and will be removed in a future version.\n",
      "Instructions for updating:\n",
      "Use tf.where in 2.0, which has the same broadcast rule as np.where\n",
      "WARNING:tensorflow:From /Users/huseinzolkepli/Documents/malaya-speech/malaya_speech/train/model/transformer/ffn_layer.py:94: to_int32 (from tensorflow.python.ops.math_ops) is deprecated and will be removed in a future version.\n",
      "Instructions for updating:\n",
      "Use `tf.cast` instead.\n",
      "WARNING:tensorflow:From /Users/huseinzolkepli/Documents/tf-1.15/env/lib/python3.7/site-packages/tensorflow_core/python/ops/resource_variable_ops.py:1630: calling BaseResourceVariable.__init__ (from tensorflow.python.ops.resource_variable_ops) with constraint is deprecated and will be removed in a future version.\n",
      "Instructions for updating:\n",
      "If using Keras pass *_constraint arguments to layers.\n",
      "WARNING:tensorflow:From /Users/huseinzolkepli/Documents/tf-1.15/env/lib/python3.7/site-packages/tensorflow_core/python/autograph/converters/directives.py:119: The name tf.matrix_band_part is deprecated. Please use tf.linalg.band_part instead.\n",
      "\n"
     ]
    }
   ],
   "source": [
    "encoder_outputs, mel_before, mel_after, codes = model(mel, ori_vector, target_vector, mel_lengths)"
   ]
  },
  {
   "cell_type": "code",
   "execution_count": 13,
   "metadata": {},
   "outputs": [],
   "source": [
    "codes_ = model.call_second(mel_after, ori_vector, mel_lengths)"
   ]
  },
  {
   "cell_type": "code",
   "execution_count": 14,
   "metadata": {},
   "outputs": [
    {
     "data": {
      "text/plain": [
       "(<tf.Tensor 'fastvc/GatherV2:0' shape=(?, ?, 544) dtype=float32>,\n",
       " <tf.Tensor 'fastvc/mel_before/BiasAdd:0' shape=(?, ?, 80) dtype=float32>,\n",
       " <tf.Tensor 'fastvc/add:0' shape=(?, ?, 80) dtype=float32>,\n",
       " <tf.Tensor 'fastvc/Encoder/Transformer/encode/encoder_dense/BiasAdd:0' shape=(?, ?, 32) dtype=float32>,\n",
       " <tf.Tensor 'Encoder/Transformer/encode/encoder_dense/BiasAdd:0' shape=(?, ?, 32) dtype=float32>)"
      ]
     },
     "execution_count": 14,
     "metadata": {},
     "output_type": "execute_result"
    }
   ],
   "source": [
    "encoder_outputs, mel_before, mel_after, codes, codes_"
   ]
  },
  {
   "cell_type": "code",
   "execution_count": 15,
   "metadata": {},
   "outputs": [
    {
     "data": {
      "text/plain": [
       "<tf.Tensor 'ExpandDims:0' shape=<unknown> dtype=float32>"
      ]
     },
     "execution_count": 15,
     "metadata": {},
     "output_type": "execute_result"
    }
   ],
   "source": [
    "loss_f = tf.losses.mean_squared_error\n",
    "max_length = tf.cast(tf.reduce_max(mel_lengths), tf.int32)\n",
    "mask = tf.sequence_mask(\n",
    "    lengths = mel_lengths, maxlen = max_length, dtype = tf.float32\n",
    ")\n",
    "mask = tf.expand_dims(mask, axis = -1)\n",
    "mask"
   ]
  },
  {
   "cell_type": "code",
   "execution_count": 16,
   "metadata": {},
   "outputs": [],
   "source": [
    "from functools import partial\n",
    "from malaya_speech.train.loss import calculate_2d_loss, calculate_3d_loss\n",
    "\n",
    "mse_mel = partial(\n",
    "    loss_f,\n",
    "    weights = mask\n",
    ")"
   ]
  },
  {
   "cell_type": "code",
   "execution_count": 17,
   "metadata": {},
   "outputs": [
    {
     "data": {
      "text/plain": [
       "<tf.Tensor 'mean_squared_error/value:0' shape=() dtype=float32>"
      ]
     },
     "execution_count": 17,
     "metadata": {},
     "output_type": "execute_result"
    }
   ],
   "source": [
    "mel_loss_before = calculate_3d_loss(mel, mel_before, mse_mel)\n",
    "mel_loss_before"
   ]
  },
  {
   "cell_type": "code",
   "execution_count": 18,
   "metadata": {},
   "outputs": [
    {
     "data": {
      "text/plain": [
       "<tf.Tensor 'mean_squared_error_1/value:0' shape=() dtype=float32>"
      ]
     },
     "execution_count": 18,
     "metadata": {},
     "output_type": "execute_result"
    }
   ],
   "source": [
    "mel_loss_after = calculate_3d_loss(mel, mel_after, mse_mel)\n",
    "mel_loss_after"
   ]
  },
  {
   "cell_type": "code",
   "execution_count": 19,
   "metadata": {},
   "outputs": [],
   "source": [
    "g_loss_cd = tf.losses.absolute_difference(codes, codes_)"
   ]
  },
  {
   "cell_type": "code",
   "execution_count": 20,
   "metadata": {},
   "outputs": [],
   "source": [
    "loss = mel_loss_before + mel_loss_after + g_loss_cd"
   ]
  },
  {
   "cell_type": "code",
   "execution_count": 21,
   "metadata": {},
   "outputs": [],
   "source": [
    "sess = tf.Session()\n",
    "sess.run(tf.global_variables_initializer())"
   ]
  },
  {
   "cell_type": "code",
   "execution_count": 22,
   "metadata": {},
   "outputs": [],
   "source": [
    "o = sess.run([encoder_outputs, mel_before, mel_after], feed_dict = {mel: [x_org] * 2,\n",
    "                                                                    ori_vector: c,\n",
    "                                                                    target_vector: c,\n",
    "                                                                    mel_lengths: [len(x_org)] * 2})"
   ]
  },
  {
   "cell_type": "code",
   "execution_count": 23,
   "metadata": {},
   "outputs": [
    {
     "data": {
      "text/plain": [
       "((2, 90, 544), (2, 90, 80), (2, 90, 80))"
      ]
     },
     "execution_count": 23,
     "metadata": {},
     "output_type": "execute_result"
    }
   ],
   "source": [
    "o[0].shape, o[1].shape, o[2].shape"
   ]
  },
  {
   "cell_type": "code",
   "execution_count": 24,
   "metadata": {},
   "outputs": [],
   "source": [
    "o = sess.run([mel_loss_before, mel_loss_after, g_loss_cd], feed_dict = {mel: [x_org] * 2,\n",
    "                                                                    ori_vector: c,\n",
    "                                                                    target_vector: c,\n",
    "                                                                    mel_lengths: [len(x_org)] * 2})"
   ]
  },
  {
   "cell_type": "code",
   "execution_count": 25,
   "metadata": {},
   "outputs": [
    {
     "data": {
      "text/plain": [
       "[2.4486876, 3.4944894, 0.8022246]"
      ]
     },
     "execution_count": 25,
     "metadata": {},
     "output_type": "execute_result"
    }
   ],
   "source": [
    "o"
   ]
  },
  {
   "cell_type": "code",
   "execution_count": 26,
   "metadata": {},
   "outputs": [
    {
     "data": {
      "text/plain": [
       "[<tf.Variable 'Transformer/encoder_stack/layer_0/self_attention/layer_normalization/layer_norm_scale:0' shape=(592,) dtype=float32_ref>,\n",
       " <tf.Variable 'Transformer/encoder_stack/layer_0/self_attention/layer_normalization/layer_norm_bias:0' shape=(592,) dtype=float32_ref>,\n",
       " <tf.Variable 'Transformer/encoder_stack/layer_0/self_attention/self_attention/q/kernel:0' shape=(592, 592) dtype=float32_ref>,\n",
       " <tf.Variable 'Transformer/encoder_stack/layer_0/self_attention/self_attention/k/kernel:0' shape=(592, 592) dtype=float32_ref>,\n",
       " <tf.Variable 'Transformer/encoder_stack/layer_0/self_attention/self_attention/v/kernel:0' shape=(592, 592) dtype=float32_ref>,\n",
       " <tf.Variable 'Transformer/encoder_stack/layer_0/self_attention/self_attention/output_transform/kernel:0' shape=(592, 592) dtype=float32_ref>,\n",
       " <tf.Variable 'Transformer/encoder_stack/layer_0/ffn/layer_normalization/layer_norm_scale:0' shape=(592,) dtype=float32_ref>,\n",
       " <tf.Variable 'Transformer/encoder_stack/layer_0/ffn/layer_normalization/layer_norm_bias:0' shape=(592,) dtype=float32_ref>,\n",
       " <tf.Variable 'Transformer/encoder_stack/layer_0/ffn/feed_foward_network/filter_layer/kernel:0' shape=(592, 2048) dtype=float32_ref>,\n",
       " <tf.Variable 'Transformer/encoder_stack/layer_0/ffn/feed_foward_network/filter_layer/bias:0' shape=(2048,) dtype=float32_ref>,\n",
       " <tf.Variable 'Transformer/encoder_stack/layer_0/ffn/feed_foward_network/output_layer/kernel:0' shape=(2048, 592) dtype=float32_ref>,\n",
       " <tf.Variable 'Transformer/encoder_stack/layer_0/ffn/feed_foward_network/output_layer/bias:0' shape=(592,) dtype=float32_ref>,\n",
       " <tf.Variable 'Transformer/encoder_stack/layer_1/self_attention/layer_normalization/layer_norm_scale:0' shape=(592,) dtype=float32_ref>,\n",
       " <tf.Variable 'Transformer/encoder_stack/layer_1/self_attention/layer_normalization/layer_norm_bias:0' shape=(592,) dtype=float32_ref>,\n",
       " <tf.Variable 'Transformer/encoder_stack/layer_1/self_attention/self_attention/q/kernel:0' shape=(592, 592) dtype=float32_ref>,\n",
       " <tf.Variable 'Transformer/encoder_stack/layer_1/self_attention/self_attention/k/kernel:0' shape=(592, 592) dtype=float32_ref>,\n",
       " <tf.Variable 'Transformer/encoder_stack/layer_1/self_attention/self_attention/v/kernel:0' shape=(592, 592) dtype=float32_ref>,\n",
       " <tf.Variable 'Transformer/encoder_stack/layer_1/self_attention/self_attention/output_transform/kernel:0' shape=(592, 592) dtype=float32_ref>,\n",
       " <tf.Variable 'Transformer/encoder_stack/layer_1/ffn/layer_normalization/layer_norm_scale:0' shape=(592,) dtype=float32_ref>,\n",
       " <tf.Variable 'Transformer/encoder_stack/layer_1/ffn/layer_normalization/layer_norm_bias:0' shape=(592,) dtype=float32_ref>,\n",
       " <tf.Variable 'Transformer/encoder_stack/layer_1/ffn/feed_foward_network/filter_layer/kernel:0' shape=(592, 2048) dtype=float32_ref>,\n",
       " <tf.Variable 'Transformer/encoder_stack/layer_1/ffn/feed_foward_network/filter_layer/bias:0' shape=(2048,) dtype=float32_ref>,\n",
       " <tf.Variable 'Transformer/encoder_stack/layer_1/ffn/feed_foward_network/output_layer/kernel:0' shape=(2048, 592) dtype=float32_ref>,\n",
       " <tf.Variable 'Transformer/encoder_stack/layer_1/ffn/feed_foward_network/output_layer/bias:0' shape=(592,) dtype=float32_ref>,\n",
       " <tf.Variable 'Transformer/encoder_stack/layer_2/self_attention/layer_normalization/layer_norm_scale:0' shape=(592,) dtype=float32_ref>,\n",
       " <tf.Variable 'Transformer/encoder_stack/layer_2/self_attention/layer_normalization/layer_norm_bias:0' shape=(592,) dtype=float32_ref>,\n",
       " <tf.Variable 'Transformer/encoder_stack/layer_2/self_attention/self_attention/q/kernel:0' shape=(592, 592) dtype=float32_ref>,\n",
       " <tf.Variable 'Transformer/encoder_stack/layer_2/self_attention/self_attention/k/kernel:0' shape=(592, 592) dtype=float32_ref>,\n",
       " <tf.Variable 'Transformer/encoder_stack/layer_2/self_attention/self_attention/v/kernel:0' shape=(592, 592) dtype=float32_ref>,\n",
       " <tf.Variable 'Transformer/encoder_stack/layer_2/self_attention/self_attention/output_transform/kernel:0' shape=(592, 592) dtype=float32_ref>,\n",
       " <tf.Variable 'Transformer/encoder_stack/layer_2/ffn/layer_normalization/layer_norm_scale:0' shape=(592,) dtype=float32_ref>,\n",
       " <tf.Variable 'Transformer/encoder_stack/layer_2/ffn/layer_normalization/layer_norm_bias:0' shape=(592,) dtype=float32_ref>,\n",
       " <tf.Variable 'Transformer/encoder_stack/layer_2/ffn/feed_foward_network/filter_layer/kernel:0' shape=(592, 2048) dtype=float32_ref>,\n",
       " <tf.Variable 'Transformer/encoder_stack/layer_2/ffn/feed_foward_network/filter_layer/bias:0' shape=(2048,) dtype=float32_ref>,\n",
       " <tf.Variable 'Transformer/encoder_stack/layer_2/ffn/feed_foward_network/output_layer/kernel:0' shape=(2048, 592) dtype=float32_ref>,\n",
       " <tf.Variable 'Transformer/encoder_stack/layer_2/ffn/feed_foward_network/output_layer/bias:0' shape=(592,) dtype=float32_ref>,\n",
       " <tf.Variable 'Transformer/encoder_stack/layer_3/self_attention/layer_normalization/layer_norm_scale:0' shape=(592,) dtype=float32_ref>,\n",
       " <tf.Variable 'Transformer/encoder_stack/layer_3/self_attention/layer_normalization/layer_norm_bias:0' shape=(592,) dtype=float32_ref>,\n",
       " <tf.Variable 'Transformer/encoder_stack/layer_3/self_attention/self_attention/q/kernel:0' shape=(592, 592) dtype=float32_ref>,\n",
       " <tf.Variable 'Transformer/encoder_stack/layer_3/self_attention/self_attention/k/kernel:0' shape=(592, 592) dtype=float32_ref>,\n",
       " <tf.Variable 'Transformer/encoder_stack/layer_3/self_attention/self_attention/v/kernel:0' shape=(592, 592) dtype=float32_ref>,\n",
       " <tf.Variable 'Transformer/encoder_stack/layer_3/self_attention/self_attention/output_transform/kernel:0' shape=(592, 592) dtype=float32_ref>,\n",
       " <tf.Variable 'Transformer/encoder_stack/layer_3/ffn/layer_normalization/layer_norm_scale:0' shape=(592,) dtype=float32_ref>,\n",
       " <tf.Variable 'Transformer/encoder_stack/layer_3/ffn/layer_normalization/layer_norm_bias:0' shape=(592,) dtype=float32_ref>,\n",
       " <tf.Variable 'Transformer/encoder_stack/layer_3/ffn/feed_foward_network/filter_layer/kernel:0' shape=(592, 2048) dtype=float32_ref>,\n",
       " <tf.Variable 'Transformer/encoder_stack/layer_3/ffn/feed_foward_network/filter_layer/bias:0' shape=(2048,) dtype=float32_ref>,\n",
       " <tf.Variable 'Transformer/encoder_stack/layer_3/ffn/feed_foward_network/output_layer/kernel:0' shape=(2048, 592) dtype=float32_ref>,\n",
       " <tf.Variable 'Transformer/encoder_stack/layer_3/ffn/feed_foward_network/output_layer/bias:0' shape=(592,) dtype=float32_ref>,\n",
       " <tf.Variable 'Transformer/encoder_stack/layer_4/self_attention/layer_normalization/layer_norm_scale:0' shape=(592,) dtype=float32_ref>,\n",
       " <tf.Variable 'Transformer/encoder_stack/layer_4/self_attention/layer_normalization/layer_norm_bias:0' shape=(592,) dtype=float32_ref>,\n",
       " <tf.Variable 'Transformer/encoder_stack/layer_4/self_attention/self_attention/q/kernel:0' shape=(592, 592) dtype=float32_ref>,\n",
       " <tf.Variable 'Transformer/encoder_stack/layer_4/self_attention/self_attention/k/kernel:0' shape=(592, 592) dtype=float32_ref>,\n",
       " <tf.Variable 'Transformer/encoder_stack/layer_4/self_attention/self_attention/v/kernel:0' shape=(592, 592) dtype=float32_ref>,\n",
       " <tf.Variable 'Transformer/encoder_stack/layer_4/self_attention/self_attention/output_transform/kernel:0' shape=(592, 592) dtype=float32_ref>,\n",
       " <tf.Variable 'Transformer/encoder_stack/layer_4/ffn/layer_normalization/layer_norm_scale:0' shape=(592,) dtype=float32_ref>,\n",
       " <tf.Variable 'Transformer/encoder_stack/layer_4/ffn/layer_normalization/layer_norm_bias:0' shape=(592,) dtype=float32_ref>,\n",
       " <tf.Variable 'Transformer/encoder_stack/layer_4/ffn/feed_foward_network/filter_layer/kernel:0' shape=(592, 2048) dtype=float32_ref>,\n",
       " <tf.Variable 'Transformer/encoder_stack/layer_4/ffn/feed_foward_network/filter_layer/bias:0' shape=(2048,) dtype=float32_ref>,\n",
       " <tf.Variable 'Transformer/encoder_stack/layer_4/ffn/feed_foward_network/output_layer/kernel:0' shape=(2048, 592) dtype=float32_ref>,\n",
       " <tf.Variable 'Transformer/encoder_stack/layer_4/ffn/feed_foward_network/output_layer/bias:0' shape=(592,) dtype=float32_ref>,\n",
       " <tf.Variable 'Transformer/encoder_stack/layer_5/self_attention/layer_normalization/layer_norm_scale:0' shape=(592,) dtype=float32_ref>,\n",
       " <tf.Variable 'Transformer/encoder_stack/layer_5/self_attention/layer_normalization/layer_norm_bias:0' shape=(592,) dtype=float32_ref>,\n",
       " <tf.Variable 'Transformer/encoder_stack/layer_5/self_attention/self_attention/q/kernel:0' shape=(592, 592) dtype=float32_ref>,\n",
       " <tf.Variable 'Transformer/encoder_stack/layer_5/self_attention/self_attention/k/kernel:0' shape=(592, 592) dtype=float32_ref>,\n",
       " <tf.Variable 'Transformer/encoder_stack/layer_5/self_attention/self_attention/v/kernel:0' shape=(592, 592) dtype=float32_ref>,\n",
       " <tf.Variable 'Transformer/encoder_stack/layer_5/self_attention/self_attention/output_transform/kernel:0' shape=(592, 592) dtype=float32_ref>,\n",
       " <tf.Variable 'Transformer/encoder_stack/layer_5/ffn/layer_normalization/layer_norm_scale:0' shape=(592,) dtype=float32_ref>,\n",
       " <tf.Variable 'Transformer/encoder_stack/layer_5/ffn/layer_normalization/layer_norm_bias:0' shape=(592,) dtype=float32_ref>,\n",
       " <tf.Variable 'Transformer/encoder_stack/layer_5/ffn/feed_foward_network/filter_layer/kernel:0' shape=(592, 2048) dtype=float32_ref>,\n",
       " <tf.Variable 'Transformer/encoder_stack/layer_5/ffn/feed_foward_network/filter_layer/bias:0' shape=(2048,) dtype=float32_ref>,\n",
       " <tf.Variable 'Transformer/encoder_stack/layer_5/ffn/feed_foward_network/output_layer/kernel:0' shape=(2048, 592) dtype=float32_ref>,\n",
       " <tf.Variable 'Transformer/encoder_stack/layer_5/ffn/feed_foward_network/output_layer/bias:0' shape=(592,) dtype=float32_ref>,\n",
       " <tf.Variable 'Transformer/encoder_stack/layer_normalization/layer_norm_scale:0' shape=(592,) dtype=float32_ref>,\n",
       " <tf.Variable 'Transformer/encoder_stack/layer_normalization/layer_norm_bias:0' shape=(592,) dtype=float32_ref>,\n",
       " <tf.Variable 'fastvc/Encoder/Transformer/encode/encoder_dense/kernel:0' shape=(592, 32) dtype=float32>,\n",
       " <tf.Variable 'fastvc/Encoder/Transformer/encode/encoder_dense/bias:0' shape=(32,) dtype=float32>,\n",
       " <tf.Variable 'Transformer/decoder_stack/layer_0/self_attention/layer_normalization/layer_norm_scale:0' shape=(544,) dtype=float32_ref>,\n",
       " <tf.Variable 'Transformer/decoder_stack/layer_0/self_attention/layer_normalization/layer_norm_bias:0' shape=(544,) dtype=float32_ref>,\n",
       " <tf.Variable 'Transformer/decoder_stack/layer_0/self_attention/self_attention/q/kernel:0' shape=(544, 544) dtype=float32_ref>,\n",
       " <tf.Variable 'Transformer/decoder_stack/layer_0/self_attention/self_attention/k/kernel:0' shape=(544, 544) dtype=float32_ref>,\n",
       " <tf.Variable 'Transformer/decoder_stack/layer_0/self_attention/self_attention/v/kernel:0' shape=(544, 544) dtype=float32_ref>,\n",
       " <tf.Variable 'Transformer/decoder_stack/layer_0/self_attention/self_attention/output_transform/kernel:0' shape=(544, 544) dtype=float32_ref>,\n",
       " <tf.Variable 'Transformer/decoder_stack/layer_0/encdec_attention/layer_normalization/layer_norm_scale:0' shape=(544,) dtype=float32_ref>,\n",
       " <tf.Variable 'Transformer/decoder_stack/layer_0/encdec_attention/layer_normalization/layer_norm_bias:0' shape=(544,) dtype=float32_ref>,\n",
       " <tf.Variable 'Transformer/decoder_stack/layer_0/encdec_attention/attention/q/kernel:0' shape=(544, 544) dtype=float32_ref>,\n",
       " <tf.Variable 'Transformer/decoder_stack/layer_0/encdec_attention/attention/k/kernel:0' shape=(32, 544) dtype=float32_ref>,\n",
       " <tf.Variable 'Transformer/decoder_stack/layer_0/encdec_attention/attention/v/kernel:0' shape=(32, 544) dtype=float32_ref>,\n",
       " <tf.Variable 'Transformer/decoder_stack/layer_0/encdec_attention/attention/output_transform/kernel:0' shape=(544, 544) dtype=float32_ref>,\n",
       " <tf.Variable 'Transformer/decoder_stack/layer_0/ffn/layer_normalization/layer_norm_scale:0' shape=(544,) dtype=float32_ref>,\n",
       " <tf.Variable 'Transformer/decoder_stack/layer_0/ffn/layer_normalization/layer_norm_bias:0' shape=(544,) dtype=float32_ref>,\n",
       " <tf.Variable 'Transformer/decoder_stack/layer_0/ffn/feed_foward_network/filter_layer/kernel:0' shape=(544, 2048) dtype=float32_ref>,\n",
       " <tf.Variable 'Transformer/decoder_stack/layer_0/ffn/feed_foward_network/filter_layer/bias:0' shape=(2048,) dtype=float32_ref>,\n",
       " <tf.Variable 'Transformer/decoder_stack/layer_0/ffn/feed_foward_network/output_layer/kernel:0' shape=(2048, 544) dtype=float32_ref>,\n",
       " <tf.Variable 'Transformer/decoder_stack/layer_0/ffn/feed_foward_network/output_layer/bias:0' shape=(544,) dtype=float32_ref>,\n",
       " <tf.Variable 'Transformer/decoder_stack/layer_1/self_attention/layer_normalization/layer_norm_scale:0' shape=(544,) dtype=float32_ref>,\n",
       " <tf.Variable 'Transformer/decoder_stack/layer_1/self_attention/layer_normalization/layer_norm_bias:0' shape=(544,) dtype=float32_ref>,\n",
       " <tf.Variable 'Transformer/decoder_stack/layer_1/self_attention/self_attention/q/kernel:0' shape=(544, 544) dtype=float32_ref>,\n",
       " <tf.Variable 'Transformer/decoder_stack/layer_1/self_attention/self_attention/k/kernel:0' shape=(544, 544) dtype=float32_ref>,\n",
       " <tf.Variable 'Transformer/decoder_stack/layer_1/self_attention/self_attention/v/kernel:0' shape=(544, 544) dtype=float32_ref>,\n",
       " <tf.Variable 'Transformer/decoder_stack/layer_1/self_attention/self_attention/output_transform/kernel:0' shape=(544, 544) dtype=float32_ref>,\n",
       " <tf.Variable 'Transformer/decoder_stack/layer_1/encdec_attention/layer_normalization/layer_norm_scale:0' shape=(544,) dtype=float32_ref>,\n",
       " <tf.Variable 'Transformer/decoder_stack/layer_1/encdec_attention/layer_normalization/layer_norm_bias:0' shape=(544,) dtype=float32_ref>,\n",
       " <tf.Variable 'Transformer/decoder_stack/layer_1/encdec_attention/attention/q/kernel:0' shape=(544, 544) dtype=float32_ref>,\n",
       " <tf.Variable 'Transformer/decoder_stack/layer_1/encdec_attention/attention/k/kernel:0' shape=(32, 544) dtype=float32_ref>,\n",
       " <tf.Variable 'Transformer/decoder_stack/layer_1/encdec_attention/attention/v/kernel:0' shape=(32, 544) dtype=float32_ref>,\n",
       " <tf.Variable 'Transformer/decoder_stack/layer_1/encdec_attention/attention/output_transform/kernel:0' shape=(544, 544) dtype=float32_ref>,\n",
       " <tf.Variable 'Transformer/decoder_stack/layer_1/ffn/layer_normalization/layer_norm_scale:0' shape=(544,) dtype=float32_ref>,\n",
       " <tf.Variable 'Transformer/decoder_stack/layer_1/ffn/layer_normalization/layer_norm_bias:0' shape=(544,) dtype=float32_ref>,\n",
       " <tf.Variable 'Transformer/decoder_stack/layer_1/ffn/feed_foward_network/filter_layer/kernel:0' shape=(544, 2048) dtype=float32_ref>,\n",
       " <tf.Variable 'Transformer/decoder_stack/layer_1/ffn/feed_foward_network/filter_layer/bias:0' shape=(2048,) dtype=float32_ref>,\n",
       " <tf.Variable 'Transformer/decoder_stack/layer_1/ffn/feed_foward_network/output_layer/kernel:0' shape=(2048, 544) dtype=float32_ref>,\n",
       " <tf.Variable 'Transformer/decoder_stack/layer_1/ffn/feed_foward_network/output_layer/bias:0' shape=(544,) dtype=float32_ref>,\n",
       " <tf.Variable 'Transformer/decoder_stack/layer_2/self_attention/layer_normalization/layer_norm_scale:0' shape=(544,) dtype=float32_ref>,\n",
       " <tf.Variable 'Transformer/decoder_stack/layer_2/self_attention/layer_normalization/layer_norm_bias:0' shape=(544,) dtype=float32_ref>,\n",
       " <tf.Variable 'Transformer/decoder_stack/layer_2/self_attention/self_attention/q/kernel:0' shape=(544, 544) dtype=float32_ref>,\n",
       " <tf.Variable 'Transformer/decoder_stack/layer_2/self_attention/self_attention/k/kernel:0' shape=(544, 544) dtype=float32_ref>,\n",
       " <tf.Variable 'Transformer/decoder_stack/layer_2/self_attention/self_attention/v/kernel:0' shape=(544, 544) dtype=float32_ref>,\n",
       " <tf.Variable 'Transformer/decoder_stack/layer_2/self_attention/self_attention/output_transform/kernel:0' shape=(544, 544) dtype=float32_ref>,\n",
       " <tf.Variable 'Transformer/decoder_stack/layer_2/encdec_attention/layer_normalization/layer_norm_scale:0' shape=(544,) dtype=float32_ref>,\n",
       " <tf.Variable 'Transformer/decoder_stack/layer_2/encdec_attention/layer_normalization/layer_norm_bias:0' shape=(544,) dtype=float32_ref>,\n",
       " <tf.Variable 'Transformer/decoder_stack/layer_2/encdec_attention/attention/q/kernel:0' shape=(544, 544) dtype=float32_ref>,\n",
       " <tf.Variable 'Transformer/decoder_stack/layer_2/encdec_attention/attention/k/kernel:0' shape=(32, 544) dtype=float32_ref>,\n",
       " <tf.Variable 'Transformer/decoder_stack/layer_2/encdec_attention/attention/v/kernel:0' shape=(32, 544) dtype=float32_ref>,\n",
       " <tf.Variable 'Transformer/decoder_stack/layer_2/encdec_attention/attention/output_transform/kernel:0' shape=(544, 544) dtype=float32_ref>,\n",
       " <tf.Variable 'Transformer/decoder_stack/layer_2/ffn/layer_normalization/layer_norm_scale:0' shape=(544,) dtype=float32_ref>,\n",
       " <tf.Variable 'Transformer/decoder_stack/layer_2/ffn/layer_normalization/layer_norm_bias:0' shape=(544,) dtype=float32_ref>,\n",
       " <tf.Variable 'Transformer/decoder_stack/layer_2/ffn/feed_foward_network/filter_layer/kernel:0' shape=(544, 2048) dtype=float32_ref>,\n",
       " <tf.Variable 'Transformer/decoder_stack/layer_2/ffn/feed_foward_network/filter_layer/bias:0' shape=(2048,) dtype=float32_ref>,\n",
       " <tf.Variable 'Transformer/decoder_stack/layer_2/ffn/feed_foward_network/output_layer/kernel:0' shape=(2048, 544) dtype=float32_ref>,\n",
       " <tf.Variable 'Transformer/decoder_stack/layer_2/ffn/feed_foward_network/output_layer/bias:0' shape=(544,) dtype=float32_ref>,\n",
       " <tf.Variable 'Transformer/decoder_stack/layer_3/self_attention/layer_normalization/layer_norm_scale:0' shape=(544,) dtype=float32_ref>,\n",
       " <tf.Variable 'Transformer/decoder_stack/layer_3/self_attention/layer_normalization/layer_norm_bias:0' shape=(544,) dtype=float32_ref>,\n",
       " <tf.Variable 'Transformer/decoder_stack/layer_3/self_attention/self_attention/q/kernel:0' shape=(544, 544) dtype=float32_ref>,\n",
       " <tf.Variable 'Transformer/decoder_stack/layer_3/self_attention/self_attention/k/kernel:0' shape=(544, 544) dtype=float32_ref>,\n",
       " <tf.Variable 'Transformer/decoder_stack/layer_3/self_attention/self_attention/v/kernel:0' shape=(544, 544) dtype=float32_ref>,\n",
       " <tf.Variable 'Transformer/decoder_stack/layer_3/self_attention/self_attention/output_transform/kernel:0' shape=(544, 544) dtype=float32_ref>,\n",
       " <tf.Variable 'Transformer/decoder_stack/layer_3/encdec_attention/layer_normalization/layer_norm_scale:0' shape=(544,) dtype=float32_ref>,\n",
       " <tf.Variable 'Transformer/decoder_stack/layer_3/encdec_attention/layer_normalization/layer_norm_bias:0' shape=(544,) dtype=float32_ref>,\n",
       " <tf.Variable 'Transformer/decoder_stack/layer_3/encdec_attention/attention/q/kernel:0' shape=(544, 544) dtype=float32_ref>,\n",
       " <tf.Variable 'Transformer/decoder_stack/layer_3/encdec_attention/attention/k/kernel:0' shape=(32, 544) dtype=float32_ref>,\n",
       " <tf.Variable 'Transformer/decoder_stack/layer_3/encdec_attention/attention/v/kernel:0' shape=(32, 544) dtype=float32_ref>,\n",
       " <tf.Variable 'Transformer/decoder_stack/layer_3/encdec_attention/attention/output_transform/kernel:0' shape=(544, 544) dtype=float32_ref>,\n",
       " <tf.Variable 'Transformer/decoder_stack/layer_3/ffn/layer_normalization/layer_norm_scale:0' shape=(544,) dtype=float32_ref>,\n",
       " <tf.Variable 'Transformer/decoder_stack/layer_3/ffn/layer_normalization/layer_norm_bias:0' shape=(544,) dtype=float32_ref>,\n",
       " <tf.Variable 'Transformer/decoder_stack/layer_3/ffn/feed_foward_network/filter_layer/kernel:0' shape=(544, 2048) dtype=float32_ref>,\n",
       " <tf.Variable 'Transformer/decoder_stack/layer_3/ffn/feed_foward_network/filter_layer/bias:0' shape=(2048,) dtype=float32_ref>,\n",
       " <tf.Variable 'Transformer/decoder_stack/layer_3/ffn/feed_foward_network/output_layer/kernel:0' shape=(2048, 544) dtype=float32_ref>,\n",
       " <tf.Variable 'Transformer/decoder_stack/layer_3/ffn/feed_foward_network/output_layer/bias:0' shape=(544,) dtype=float32_ref>,\n",
       " <tf.Variable 'Transformer/decoder_stack/layer_4/self_attention/layer_normalization/layer_norm_scale:0' shape=(544,) dtype=float32_ref>,\n",
       " <tf.Variable 'Transformer/decoder_stack/layer_4/self_attention/layer_normalization/layer_norm_bias:0' shape=(544,) dtype=float32_ref>,\n",
       " <tf.Variable 'Transformer/decoder_stack/layer_4/self_attention/self_attention/q/kernel:0' shape=(544, 544) dtype=float32_ref>,\n",
       " <tf.Variable 'Transformer/decoder_stack/layer_4/self_attention/self_attention/k/kernel:0' shape=(544, 544) dtype=float32_ref>,\n",
       " <tf.Variable 'Transformer/decoder_stack/layer_4/self_attention/self_attention/v/kernel:0' shape=(544, 544) dtype=float32_ref>,\n",
       " <tf.Variable 'Transformer/decoder_stack/layer_4/self_attention/self_attention/output_transform/kernel:0' shape=(544, 544) dtype=float32_ref>,\n",
       " <tf.Variable 'Transformer/decoder_stack/layer_4/encdec_attention/layer_normalization/layer_norm_scale:0' shape=(544,) dtype=float32_ref>,\n",
       " <tf.Variable 'Transformer/decoder_stack/layer_4/encdec_attention/layer_normalization/layer_norm_bias:0' shape=(544,) dtype=float32_ref>,\n",
       " <tf.Variable 'Transformer/decoder_stack/layer_4/encdec_attention/attention/q/kernel:0' shape=(544, 544) dtype=float32_ref>,\n",
       " <tf.Variable 'Transformer/decoder_stack/layer_4/encdec_attention/attention/k/kernel:0' shape=(32, 544) dtype=float32_ref>,\n",
       " <tf.Variable 'Transformer/decoder_stack/layer_4/encdec_attention/attention/v/kernel:0' shape=(32, 544) dtype=float32_ref>,\n",
       " <tf.Variable 'Transformer/decoder_stack/layer_4/encdec_attention/attention/output_transform/kernel:0' shape=(544, 544) dtype=float32_ref>,\n",
       " <tf.Variable 'Transformer/decoder_stack/layer_4/ffn/layer_normalization/layer_norm_scale:0' shape=(544,) dtype=float32_ref>,\n",
       " <tf.Variable 'Transformer/decoder_stack/layer_4/ffn/layer_normalization/layer_norm_bias:0' shape=(544,) dtype=float32_ref>,\n",
       " <tf.Variable 'Transformer/decoder_stack/layer_4/ffn/feed_foward_network/filter_layer/kernel:0' shape=(544, 2048) dtype=float32_ref>,\n",
       " <tf.Variable 'Transformer/decoder_stack/layer_4/ffn/feed_foward_network/filter_layer/bias:0' shape=(2048,) dtype=float32_ref>,\n",
       " <tf.Variable 'Transformer/decoder_stack/layer_4/ffn/feed_foward_network/output_layer/kernel:0' shape=(2048, 544) dtype=float32_ref>,\n",
       " <tf.Variable 'Transformer/decoder_stack/layer_4/ffn/feed_foward_network/output_layer/bias:0' shape=(544,) dtype=float32_ref>,\n",
       " <tf.Variable 'Transformer/decoder_stack/layer_5/self_attention/layer_normalization/layer_norm_scale:0' shape=(544,) dtype=float32_ref>,\n",
       " <tf.Variable 'Transformer/decoder_stack/layer_5/self_attention/layer_normalization/layer_norm_bias:0' shape=(544,) dtype=float32_ref>,\n",
       " <tf.Variable 'Transformer/decoder_stack/layer_5/self_attention/self_attention/q/kernel:0' shape=(544, 544) dtype=float32_ref>,\n",
       " <tf.Variable 'Transformer/decoder_stack/layer_5/self_attention/self_attention/k/kernel:0' shape=(544, 544) dtype=float32_ref>,\n",
       " <tf.Variable 'Transformer/decoder_stack/layer_5/self_attention/self_attention/v/kernel:0' shape=(544, 544) dtype=float32_ref>,\n",
       " <tf.Variable 'Transformer/decoder_stack/layer_5/self_attention/self_attention/output_transform/kernel:0' shape=(544, 544) dtype=float32_ref>,\n",
       " <tf.Variable 'Transformer/decoder_stack/layer_5/encdec_attention/layer_normalization/layer_norm_scale:0' shape=(544,) dtype=float32_ref>,\n",
       " <tf.Variable 'Transformer/decoder_stack/layer_5/encdec_attention/layer_normalization/layer_norm_bias:0' shape=(544,) dtype=float32_ref>,\n",
       " <tf.Variable 'Transformer/decoder_stack/layer_5/encdec_attention/attention/q/kernel:0' shape=(544, 544) dtype=float32_ref>,\n",
       " <tf.Variable 'Transformer/decoder_stack/layer_5/encdec_attention/attention/k/kernel:0' shape=(32, 544) dtype=float32_ref>,\n",
       " <tf.Variable 'Transformer/decoder_stack/layer_5/encdec_attention/attention/v/kernel:0' shape=(32, 544) dtype=float32_ref>,\n",
       " <tf.Variable 'Transformer/decoder_stack/layer_5/encdec_attention/attention/output_transform/kernel:0' shape=(544, 544) dtype=float32_ref>,\n",
       " <tf.Variable 'Transformer/decoder_stack/layer_5/ffn/layer_normalization/layer_norm_scale:0' shape=(544,) dtype=float32_ref>,\n",
       " <tf.Variable 'Transformer/decoder_stack/layer_5/ffn/layer_normalization/layer_norm_bias:0' shape=(544,) dtype=float32_ref>,\n",
       " <tf.Variable 'Transformer/decoder_stack/layer_5/ffn/feed_foward_network/filter_layer/kernel:0' shape=(544, 2048) dtype=float32_ref>,\n",
       " <tf.Variable 'Transformer/decoder_stack/layer_5/ffn/feed_foward_network/filter_layer/bias:0' shape=(2048,) dtype=float32_ref>,\n",
       " <tf.Variable 'Transformer/decoder_stack/layer_5/ffn/feed_foward_network/output_layer/kernel:0' shape=(2048, 544) dtype=float32_ref>,\n",
       " <tf.Variable 'Transformer/decoder_stack/layer_5/ffn/feed_foward_network/output_layer/bias:0' shape=(544,) dtype=float32_ref>,\n",
       " <tf.Variable 'Transformer/decoder_stack/layer_normalization/layer_norm_scale:0' shape=(544,) dtype=float32_ref>,\n",
       " <tf.Variable 'Transformer/decoder_stack/layer_normalization/layer_norm_bias:0' shape=(544,) dtype=float32_ref>,\n",
       " <tf.Variable 'fastvc/mel_before/kernel:0' shape=(544, 80) dtype=float32>,\n",
       " <tf.Variable 'fastvc/mel_before/bias:0' shape=(80,) dtype=float32>,\n",
       " <tf.Variable 'fastvc/postnet/conv_._0/kernel:0' shape=(5, 80, 512) dtype=float32>,\n",
       " <tf.Variable 'fastvc/postnet/conv_._0/bias:0' shape=(512,) dtype=float32>,\n",
       " <tf.Variable 'fastvc/postnet/batch_norm_._0/gamma:0' shape=(512,) dtype=float32>,\n",
       " <tf.Variable 'fastvc/postnet/batch_norm_._0/beta:0' shape=(512,) dtype=float32>,\n",
       " <tf.Variable 'fastvc/postnet/conv_._1/kernel:0' shape=(5, 512, 512) dtype=float32>,\n",
       " <tf.Variable 'fastvc/postnet/conv_._1/bias:0' shape=(512,) dtype=float32>,\n",
       " <tf.Variable 'fastvc/postnet/batch_norm_._1/gamma:0' shape=(512,) dtype=float32>,\n",
       " <tf.Variable 'fastvc/postnet/batch_norm_._1/beta:0' shape=(512,) dtype=float32>,\n",
       " <tf.Variable 'fastvc/postnet/conv_._2/kernel:0' shape=(5, 512, 512) dtype=float32>,\n",
       " <tf.Variable 'fastvc/postnet/conv_._2/bias:0' shape=(512,) dtype=float32>,\n",
       " <tf.Variable 'fastvc/postnet/batch_norm_._2/gamma:0' shape=(512,) dtype=float32>,\n",
       " <tf.Variable 'fastvc/postnet/batch_norm_._2/beta:0' shape=(512,) dtype=float32>,\n",
       " <tf.Variable 'fastvc/postnet/conv_._3/kernel:0' shape=(5, 512, 512) dtype=float32>,\n",
       " <tf.Variable 'fastvc/postnet/conv_._3/bias:0' shape=(512,) dtype=float32>,\n",
       " <tf.Variable 'fastvc/postnet/batch_norm_._3/gamma:0' shape=(512,) dtype=float32>,\n",
       " <tf.Variable 'fastvc/postnet/batch_norm_._3/beta:0' shape=(512,) dtype=float32>,\n",
       " <tf.Variable 'fastvc/postnet/conv_._4/kernel:0' shape=(5, 512, 80) dtype=float32>,\n",
       " <tf.Variable 'fastvc/postnet/conv_._4/bias:0' shape=(80,) dtype=float32>,\n",
       " <tf.Variable 'fastvc/postnet/batch_norm_._4/gamma:0' shape=(80,) dtype=float32>,\n",
       " <tf.Variable 'fastvc/postnet/batch_norm_._4/beta:0' shape=(80,) dtype=float32>]"
      ]
     },
     "execution_count": 26,
     "metadata": {},
     "output_type": "execute_result"
    }
   ],
   "source": [
    "tf.trainable_variables()"
   ]
  },
  {
   "cell_type": "code",
   "execution_count": 27,
   "metadata": {},
   "outputs": [
    {
     "data": {
      "text/plain": [
       "'test/model.ckpt'"
      ]
     },
     "execution_count": 27,
     "metadata": {},
     "output_type": "execute_result"
    }
   ],
   "source": [
    "saver = tf.train.Saver(tf.trainable_variables())\n",
    "saver.save(sess, \"test/model.ckpt\")"
   ]
  },
  {
   "cell_type": "code",
   "execution_count": 28,
   "metadata": {
    "scrolled": true
   },
   "outputs": [
    {
     "name": "stdout",
     "output_type": "stream",
     "text": [
      "total 421040\r\n",
      "-rw-r--r--  1 huseinzolkepli  staff    77B May 19 23:18 checkpoint\r\n",
      "-rw-r--r--  1 huseinzolkepli  staff   197M May 19 23:18 model.ckpt.data-00000-of-00001\r\n",
      "-rw-r--r--  1 huseinzolkepli  staff    10K May 19 23:18 model.ckpt.index\r\n",
      "-rw-r--r--  1 huseinzolkepli  staff   3.3M May 19 23:18 model.ckpt.meta\r\n"
     ]
    }
   ],
   "source": [
    "!ls -lh test\n",
    "!rm -rf test"
   ]
  }
 ],
 "metadata": {
  "kernelspec": {
   "display_name": "Python 3",
   "language": "python",
   "name": "python3"
  },
  "language_info": {
   "codemirror_mode": {
    "name": "ipython",
    "version": 3
   },
   "file_extension": ".py",
   "mimetype": "text/x-python",
   "name": "python",
   "nbconvert_exporter": "python",
   "pygments_lexer": "ipython3",
   "version": "3.7.7"
  }
 },
 "nbformat": 4,
 "nbformat_minor": 4
}

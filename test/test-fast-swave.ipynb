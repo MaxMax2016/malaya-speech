{
 "cells": [
  {
   "cell_type": "code",
   "execution_count": 1,
   "id": "processed-cattle",
   "metadata": {},
   "outputs": [],
   "source": [
    "import os\n",
    "\n",
    "os.environ['CUDA_VISIBLE_DEVICES'] = '1'"
   ]
  },
  {
   "cell_type": "code",
   "execution_count": 2,
   "id": "modified-thermal",
   "metadata": {},
   "outputs": [],
   "source": [
    "import sys\n",
    "\n",
    "SOURCE_DIR = os.path.dirname(os.path.dirname(os.path.abspath(__name__)))\n",
    "sys.path.insert(0, SOURCE_DIR)"
   ]
  },
  {
   "cell_type": "code",
   "execution_count": 3,
   "id": "serious-collins",
   "metadata": {
    "scrolled": true
   },
   "outputs": [
    {
     "name": "stdout",
     "output_type": "stream",
     "text": [
      "WARNING:tensorflow:From /Users/huseinzolkepli/Documents/malaya-speech/malaya_speech/train/optimizer/__init__.py:38: The name tf.train.AdagradOptimizer is deprecated. Please use tf.compat.v1.train.AdagradOptimizer instead.\n",
      "\n",
      "WARNING:tensorflow:From /Users/huseinzolkepli/Documents/malaya-speech/malaya_speech/train/optimizer/__init__.py:39: The name tf.train.AdamOptimizer is deprecated. Please use tf.compat.v1.train.AdamOptimizer instead.\n",
      "\n",
      "WARNING:tensorflow:From /Users/huseinzolkepli/Documents/malaya-speech/malaya_speech/train/optimizer/__init__.py:40: The name tf.train.FtrlOptimizer is deprecated. Please use tf.compat.v1.train.FtrlOptimizer instead.\n",
      "\n",
      "WARNING:tensorflow:From /Users/huseinzolkepli/Documents/malaya-speech/malaya_speech/train/optimizer/__init__.py:42: The name tf.train.RMSPropOptimizer is deprecated. Please use tf.compat.v1.train.RMSPropOptimizer instead.\n",
      "\n",
      "WARNING:tensorflow:From /Users/huseinzolkepli/Documents/malaya-speech/malaya_speech/train/optimizer/__init__.py:43: The name tf.train.GradientDescentOptimizer is deprecated. Please use tf.compat.v1.train.GradientDescentOptimizer instead.\n",
      "\n",
      "WARNING:tensorflow:\n",
      "The TensorFlow contrib module will not be included in TensorFlow 2.0.\n",
      "For more information, please see:\n",
      "  * https://github.com/tensorflow/community/blob/master/rfcs/20180907-contrib-sunset.md\n",
      "  * https://github.com/tensorflow/addons\n",
      "  * https://github.com/tensorflow/io (for I/O related ops)\n",
      "If you depend on functionality not listed there, please file an issue.\n",
      "\n"
     ]
    }
   ],
   "source": [
    "import malaya_speech\n",
    "import tensorflow as tf\n",
    "from malaya_speech.train.model import fast_swave, fastspeech\n",
    "import malaya_speech.augmentation.waveform as augmentation\n",
    "import numpy as np"
   ]
  },
  {
   "cell_type": "code",
   "execution_count": 4,
   "id": "involved-entry",
   "metadata": {},
   "outputs": [
    {
     "data": {
      "text/plain": [
       "8"
      ]
     },
     "execution_count": 4,
     "metadata": {},
     "output_type": "execute_result"
    }
   ],
   "source": [
    "from glob import glob\n",
    "\n",
    "wavs = glob('../speech/example-speaker/*.wav')\n",
    "len(wavs)"
   ]
  },
  {
   "cell_type": "code",
   "execution_count": 5,
   "id": "incoming-princeton",
   "metadata": {},
   "outputs": [],
   "source": [
    "import random\n",
    "\n",
    "sr = 22050\n",
    "speakers_size = 4\n",
    "\n",
    "def read_wav(f):\n",
    "    return malaya_speech.load(f, sr = sr)\n",
    "\n",
    "def random_sampling(s, length):\n",
    "    return augmentation.random_sampling(s, sr = sr, length = length)\n",
    "\n",
    "def combine_speakers(files, n = 5, limit = 4):\n",
    "    w_samples = random.sample(files, n)\n",
    "    w_samples = [\n",
    "        random_sampling(\n",
    "            read_wav(f)[0],\n",
    "            length = min(\n",
    "                random.randint(10000 // n, 20000 // n), 10000\n",
    "            ),\n",
    "        )\n",
    "        for f in w_samples\n",
    "    ]\n",
    "    y = [w_samples[0]]\n",
    "    left = w_samples[0].copy() * random.uniform(0.5, 1.0)\n",
    "    start, end = [], []\n",
    "    start.append(0)\n",
    "    end.append(len(left))\n",
    "\n",
    "    combined = None\n",
    "\n",
    "    for i in range(1, n):\n",
    "        right = w_samples[i].copy() * random.uniform(0.5, 1.0)\n",
    "        overlap = random.uniform(0.1, 0.9)\n",
    "        print(i, overlap, len(right))\n",
    "        len_overlap = int(overlap * len(right))\n",
    "        minus = len(left) - len_overlap\n",
    "        padded_right = np.pad(right, (minus, 0))\n",
    "        start.append(minus)\n",
    "        end.append(len(padded_right))\n",
    "        left = np.pad(left, (0, len(padded_right) - len(left)))\n",
    "\n",
    "        left = left + padded_right\n",
    "\n",
    "        if i >= (limit - 1):\n",
    "            if combined is None:\n",
    "                combined = padded_right\n",
    "            else:\n",
    "                combined = np.pad(\n",
    "                    combined, (0, len(padded_right) - len(combined))\n",
    "                )\n",
    "                combined += padded_right\n",
    "\n",
    "        else:\n",
    "            y.append(padded_right)\n",
    "\n",
    "    if combined is not None:\n",
    "        y.append(combined)\n",
    "\n",
    "    for i in range(len(y)):\n",
    "        if len(y[i]) != len(left):\n",
    "            y[i] = np.pad(y[i], (0, len(left) - len(y[i])))\n",
    "            y[i] = y[i] / np.max(np.abs(y[i]))\n",
    "\n",
    "    left = left / np.max(np.abs(left))\n",
    "    \n",
    "    while len(y) < limit:\n",
    "        y.append(np.zeros((len(left))))\n",
    "        start.append(0)\n",
    "        end.append(0)\n",
    "        \n",
    "    return left, y, start[:limit], end[:limit]\n",
    "\n",
    "# y, _ = malaya_speech.load('../speech/example-speaker/husein-zolkepli.wav')\n",
    "# y = np.expand_dims(y, 0).astype(np.float32)\n",
    "# y.shape"
   ]
  },
  {
   "cell_type": "code",
   "execution_count": 8,
   "id": "boring-adjustment",
   "metadata": {
    "scrolled": true
   },
   "outputs": [
    {
     "name": "stdout",
     "output_type": "stream",
     "text": [
      "1 0.8012907465426807 73436\n",
      "2 0.10942690111288762 102520\n",
      "3 0.4560287740057154 59334\n"
     ]
    },
    {
     "data": {
      "text/plain": [
       "(9.784943310657596,\n",
       " 4,\n",
       " [0, 18744, 80962, 156424],\n",
       " [77587, 92180, 183482, 215758])"
      ]
     },
     "execution_count": 8,
     "metadata": {},
     "output_type": "execute_result"
    }
   ],
   "source": [
    "left, y, start, end = combine_speakers(wavs, random.randint(1, len(wavs)))\n",
    "len(left) / sr, len(y), start, end"
   ]
  },
  {
   "cell_type": "code",
   "execution_count": 9,
   "id": "convinced-delicious",
   "metadata": {},
   "outputs": [],
   "source": [
    "left_mel = malaya_speech.featurization.universal_mel(left)\n",
    "y_mel = [malaya_speech.featurization.universal_mel(i) for i in y]"
   ]
  },
  {
   "cell_type": "code",
   "execution_count": 10,
   "id": "abroad-penetration",
   "metadata": {},
   "outputs": [],
   "source": [
    "config = malaya_speech.config.fastspeech_config\n",
    "dim = malaya_speech.config.fastspeech_config['encoder_hidden_size']\n",
    "config['encoder_num_hidden_layers'] = 2\n",
    "config = fastspeech.Config(vocab_size = 1, **config)"
   ]
  },
  {
   "cell_type": "code",
   "execution_count": 11,
   "id": "geological-vertical",
   "metadata": {
    "scrolled": true
   },
   "outputs": [
    {
     "name": "stdout",
     "output_type": "stream",
     "text": [
      "WARNING:tensorflow:From /Users/huseinzolkepli/Documents/malaya-speech/malaya_speech/train/model/fastspeech/layer.py:11: The name tf.keras.initializers.TruncatedNormal is deprecated. Please use tf.compat.v1.keras.initializers.TruncatedNormal instead.\n",
      "\n",
      "WARNING:tensorflow:From /Users/huseinzolkepli/Documents/tf-1.15/env/lib/python3.7/site-packages/tensorflow_core/python/keras/initializers.py:94: calling TruncatedNormal.__init__ (from tensorflow.python.ops.init_ops) with dtype is deprecated and will be removed in a future version.\n",
      "Instructions for updating:\n",
      "Call initializer instance with the dtype argument instead of passing it to the constructor\n"
     ]
    }
   ],
   "source": [
    "model = fast_swave.Model(config, R = 2, C = speakers_size, sample_rate = sr, N = dim, H = dim)"
   ]
  },
  {
   "cell_type": "code",
   "execution_count": 10,
   "id": "behind-praise",
   "metadata": {
    "scrolled": false
   },
   "outputs": [
    {
     "name": "stdout",
     "output_type": "stream",
     "text": [
      "WARNING:tensorflow:From /Users/huseinzolkepli/Documents/tf-1.15/env/lib/python3.7/site-packages/tensorflow_core/python/ops/resource_variable_ops.py:1630: calling BaseResourceVariable.__init__ (from tensorflow.python.ops.resource_variable_ops) with constraint is deprecated and will be removed in a future version.\n",
      "Instructions for updating:\n",
      "If using Keras pass *_constraint arguments to layers.\n",
      "WARNING:tensorflow:From /Users/huseinzolkepli/Documents/tf-1.15/env/lib/python3.7/site-packages/tensorflow_core/python/util/deprecation.py:507: calling count_nonzero (from tensorflow.python.ops.math_ops) with axis is deprecated and will be removed in a future version.\n",
      "Instructions for updating:\n",
      "reduction_indices is deprecated, use axis instead\n"
     ]
    }
   ],
   "source": [
    "X = tf.placeholder(tf.float32, [None, None, 80])\n",
    "Y = tf.placeholder(tf.float32, [None, speakers_size, None, 80])\n",
    "lengths = tf.placeholder(tf.int32, [None])\n",
    "outputs, output_all = model(X)"
   ]
  },
  {
   "cell_type": "code",
   "execution_count": 11,
   "id": "respective-heater",
   "metadata": {},
   "outputs": [
    {
     "data": {
      "text/plain": [
       "([<tf.Tensor 'fast-swave/Separator/transpose_3:0' shape=(?, ?, 1536) dtype=float32>],\n",
       " [<tf.Tensor 'fast-swave/mel_before/BiasAdd:0' shape=(?, ?, 4, 80) dtype=float32>])"
      ]
     },
     "execution_count": 11,
     "metadata": {},
     "output_type": "execute_result"
    }
   ],
   "source": [
    "output_all, outputs"
   ]
  },
  {
   "cell_type": "code",
   "execution_count": 12,
   "id": "piano-information",
   "metadata": {
    "scrolled": true
   },
   "outputs": [
    {
     "data": {
      "text/plain": [
       "[<tf.Tensor 'fast-swave/mel_before/BiasAdd:0' shape=(?, ?, 4, 80) dtype=float32>]"
      ]
     },
     "execution_count": 12,
     "metadata": {},
     "output_type": "execute_result"
    }
   ],
   "source": [
    "outputs"
   ]
  },
  {
   "cell_type": "code",
   "execution_count": 13,
   "id": "stopped-slovenia",
   "metadata": {},
   "outputs": [
    {
     "name": "stdout",
     "output_type": "stream",
     "text": [
      "Tensor(\"Placeholder_1:0\", shape=(?, 4, ?, 80), dtype=float32) Tensor(\"mul:0\", shape=(?, 4, ?, 80), dtype=float32)\n"
     ]
    }
   ],
   "source": [
    "loss = 0\n",
    "for c_idx, est_src in enumerate(outputs):\n",
    "    coeff = ((c_idx + 1) * (1 / len(outputs)))\n",
    "    abs_loss = fast_swave.calculate_loss(Y, est_src, lengths, C = speakers_size)\n",
    "    loss += (coeff * abs_loss)\n",
    "loss /= len(outputs)"
   ]
  },
  {
   "cell_type": "code",
   "execution_count": 14,
   "id": "oriental-smith",
   "metadata": {},
   "outputs": [],
   "source": [
    "sess = tf.InteractiveSession()\n",
    "sess.run(tf.global_variables_initializer())"
   ]
  },
  {
   "cell_type": "code",
   "execution_count": 15,
   "id": "romantic-psychology",
   "metadata": {},
   "outputs": [
    {
     "name": "stdout",
     "output_type": "stream",
     "text": [
      "CPU times: user 8.51 s, sys: 743 ms, total: 9.25 s\n",
      "Wall time: 1.76 s\n"
     ]
    }
   ],
   "source": [
    "%%time\n",
    "\n",
    "o = sess.run(outputs, feed_dict = {X: [left_mel]})"
   ]
  },
  {
   "cell_type": "code",
   "execution_count": 16,
   "id": "romantic-hungarian",
   "metadata": {},
   "outputs": [
    {
     "data": {
      "text/plain": [
       "((1, 936, 4, 80), (936, 80))"
      ]
     },
     "execution_count": 16,
     "metadata": {},
     "output_type": "execute_result"
    }
   ],
   "source": [
    "o[0].shape, left_mel.shape"
   ]
  },
  {
   "cell_type": "code",
   "execution_count": 17,
   "id": "better-output",
   "metadata": {},
   "outputs": [
    {
     "data": {
      "text/plain": [
       "(4, 936, 80)"
      ]
     },
     "execution_count": 17,
     "metadata": {},
     "output_type": "execute_result"
    }
   ],
   "source": [
    "np.array(y_mel).shape"
   ]
  },
  {
   "cell_type": "code",
   "execution_count": 18,
   "id": "satisfied-peter",
   "metadata": {},
   "outputs": [
    {
     "data": {
      "text/plain": [
       "5.0871363"
      ]
     },
     "execution_count": 18,
     "metadata": {},
     "output_type": "execute_result"
    }
   ],
   "source": [
    "sess.run(loss, feed_dict = {X: [left_mel, left_mel], Y: [y_mel, y_mel], lengths: [len(left_mel),\n",
    "                                                                                 len(left_mel)]})"
   ]
  },
  {
   "cell_type": "code",
   "execution_count": 19,
   "id": "official-essay",
   "metadata": {},
   "outputs": [],
   "source": [
    "saver = tf.train.Saver()"
   ]
  },
  {
   "cell_type": "code",
   "execution_count": 20,
   "id": "legitimate-pioneer",
   "metadata": {},
   "outputs": [
    {
     "data": {
      "text/plain": [
       "'test/model.ckpt'"
      ]
     },
     "execution_count": 20,
     "metadata": {},
     "output_type": "execute_result"
    }
   ],
   "source": [
    "saver.save(sess, 'test/model.ckpt')"
   ]
  },
  {
   "cell_type": "code",
   "execution_count": 21,
   "id": "rising-hamilton",
   "metadata": {},
   "outputs": [
    {
     "name": "stdout",
     "output_type": "stream",
     "text": [
      "total 465072\r\n",
      "-rw-r--r--  1 huseinzolkepli  staff    77B Mar  3 21:08 checkpoint\r\n",
      "-rw-r--r--  1 huseinzolkepli  staff   187M Mar  3 21:08 model.ckpt.data-00000-of-00001\r\n",
      "-rw-r--r--  1 huseinzolkepli  staff    12K Mar  3 21:08 model.ckpt.index\r\n",
      "-rw-r--r--  1 huseinzolkepli  staff    27M Mar  3 21:08 model.ckpt.meta\r\n"
     ]
    }
   ],
   "source": [
    "!ls -lh test"
   ]
  },
  {
   "cell_type": "code",
   "execution_count": 22,
   "id": "loved-canberra",
   "metadata": {},
   "outputs": [],
   "source": [
    "!rm -rf test"
   ]
  }
 ],
 "metadata": {
  "kernelspec": {
   "display_name": "Python 3",
   "language": "python",
   "name": "python3"
  },
  "language_info": {
   "codemirror_mode": {
    "name": "ipython",
    "version": 3
   },
   "file_extension": ".py",
   "mimetype": "text/x-python",
   "name": "python",
   "nbconvert_exporter": "python",
   "pygments_lexer": "ipython3",
   "version": "3.7.7"
  }
 },
 "nbformat": 4,
 "nbformat_minor": 5
}

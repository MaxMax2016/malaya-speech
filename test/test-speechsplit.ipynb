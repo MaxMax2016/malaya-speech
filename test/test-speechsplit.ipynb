{
 "cells": [
  {
   "cell_type": "code",
   "execution_count": 1,
   "id": "frank-bankruptcy",
   "metadata": {},
   "outputs": [],
   "source": [
    "import os\n",
    "\n",
    "os.environ['CUDA_VISIBLE_DEVICES'] = '1'"
   ]
  },
  {
   "cell_type": "code",
   "execution_count": 2,
   "id": "supreme-freeware",
   "metadata": {},
   "outputs": [],
   "source": [
    "import sys\n",
    "\n",
    "SOURCE_DIR = os.path.dirname(os.path.dirname(os.path.abspath(__name__)))\n",
    "sys.path.insert(0, SOURCE_DIR)"
   ]
  },
  {
   "cell_type": "code",
   "execution_count": 3,
   "id": "general-tolerance",
   "metadata": {},
   "outputs": [],
   "source": [
    "# !pip3 install pysptk"
   ]
  },
  {
   "cell_type": "code",
   "execution_count": 4,
   "id": "million-ladder",
   "metadata": {},
   "outputs": [],
   "source": [
    "import malaya_speech\n",
    "from pysptk import sptk\n",
    "import numpy as np"
   ]
  },
  {
   "cell_type": "code",
   "execution_count": 5,
   "id": "adult-thriller",
   "metadata": {},
   "outputs": [],
   "source": [
    "import tensorflow as tf\n",
    "\n",
    "# tf.compat.v1.enable_eager_execution()"
   ]
  },
  {
   "cell_type": "code",
   "execution_count": 6,
   "id": "honey-basis",
   "metadata": {},
   "outputs": [],
   "source": [
    "vggvox_v2 = malaya_speech.gender.deep_model(model = 'vggvox-v2')\n",
    "speaker_model = malaya_speech.speaker_vector.deep_model('vggvox-v2')"
   ]
  },
  {
   "cell_type": "code",
   "execution_count": 7,
   "id": "loaded-jimmy",
   "metadata": {},
   "outputs": [],
   "source": [
    "freqs = {'female': [100, 600], 'male': [50, 250]}"
   ]
  },
  {
   "cell_type": "code",
   "execution_count": 8,
   "id": "enormous-necessity",
   "metadata": {},
   "outputs": [],
   "source": [
    "from scipy.signal import get_window\n",
    "from scipy import signal\n",
    "import soundfile as sf\n",
    "sr = 22050\n",
    "\n",
    "def butter_highpass(cutoff, fs, order=5):\n",
    "    nyq = 0.5 * fs\n",
    "    normal_cutoff = cutoff / nyq\n",
    "    b, a = signal.butter(order, normal_cutoff, btype='high', analog=False)\n",
    "    return b, a\n",
    "\n",
    "b, a = butter_highpass(30, sr, order=5)"
   ]
  },
  {
   "cell_type": "code",
   "execution_count": 9,
   "id": "vietnamese-class",
   "metadata": {},
   "outputs": [],
   "source": [
    "def speaker_normalization(f0, index_nonzero, mean_f0, std_f0):\n",
    "    f0 = f0.astype(float).copy()\n",
    "    f0[index_nonzero] = (f0[index_nonzero] - mean_f0) / std_f0\n",
    "    f0[index_nonzero] = np.clip(f0[index_nonzero], -3, 4)\n",
    "    return f0\n",
    "\n",
    "def preprocess_wav(x):\n",
    "    if x.shape[0] % 256 == 0:\n",
    "        x = np.concatenate((x, np.array([1e-06])), axis=0)\n",
    "    y = signal.filtfilt(b, a, x)\n",
    "    wav = y * 0.96 + (np.random.uniform(size = y.shape[0]) - 0.5)*1e-06\n",
    "    return wav\n",
    "\n",
    "def get_f0(wav, lo, hi):\n",
    "    f0_rapt = sptk.rapt(wav.astype(np.float32)*32768, sr, 256, min=lo, max=hi, otype=2)\n",
    "    index_nonzero = (f0_rapt != -1e10)\n",
    "    mean_f0, std_f0 = np.mean(f0_rapt[index_nonzero]), np.std(f0_rapt[index_nonzero])\n",
    "    return speaker_normalization(f0_rapt, index_nonzero, mean_f0, std_f0)\n",
    "\n",
    "def get_speech(f):\n",
    "    x, fs = sf.read(f)\n",
    "    wav = preprocess_wav(x)\n",
    "    lo, hi = freqs.get(vggvox_v2(x), [50, 250])\n",
    "    print(lo, hi)\n",
    "    f0 = np.expand_dims(get_f0(wav, lo, hi), -1)\n",
    "    mel = malaya_speech.featurization.universal_mel(wav)\n",
    "    v = speaker_model([wav])[0]\n",
    "    v = v / v.max()\n",
    "    return wav, mel[:24 * 8], f0[:24 * 8], v"
   ]
  },
  {
   "cell_type": "code",
   "execution_count": 10,
   "id": "competent-folks",
   "metadata": {},
   "outputs": [
    {
     "name": "stdout",
     "output_type": "stream",
     "text": [
      "100 600\n"
     ]
    }
   ],
   "source": [
    "wav, mel, f0, v = get_speech('../speech/example-speaker/female.wav')"
   ]
  },
  {
   "cell_type": "code",
   "execution_count": 11,
   "id": "electrical-strengthening",
   "metadata": {},
   "outputs": [
    {
     "name": "stdout",
     "output_type": "stream",
     "text": [
      "50 250\n"
     ]
    }
   ],
   "source": [
    "wav_1, mel_1, f0_1, v_1 = get_speech('../speech/example-speaker/khalil-nooh.wav')"
   ]
  },
  {
   "cell_type": "code",
   "execution_count": 12,
   "id": "alternate-luther",
   "metadata": {},
   "outputs": [
    {
     "data": {
      "text/plain": [
       "((2, 192, 80), [192, 192])"
      ]
     },
     "execution_count": 12,
     "metadata": {},
     "output_type": "execute_result"
    }
   ],
   "source": [
    "mels, mel_lens = malaya_speech.padding.sequence_nd([mel, mel_1], dim = 0, return_len = True)\n",
    "mels.shape, mel_lens"
   ]
  },
  {
   "cell_type": "code",
   "execution_count": 13,
   "id": "continent-homework",
   "metadata": {},
   "outputs": [
    {
     "data": {
      "text/plain": [
       "((2, 192, 1), [192, 192])"
      ]
     },
     "execution_count": 13,
     "metadata": {},
     "output_type": "execute_result"
    }
   ],
   "source": [
    "f0s, f0_lens = malaya_speech.padding.sequence_nd([f0, f0_1], dim = 0, return_len = True)\n",
    "f0s.shape, f0_lens"
   ]
  },
  {
   "cell_type": "code",
   "execution_count": 14,
   "id": "altered-salon",
   "metadata": {},
   "outputs": [
    {
     "data": {
      "text/plain": [
       "(2, 512)"
      ]
     },
     "execution_count": 14,
     "metadata": {},
     "output_type": "execute_result"
    }
   ],
   "source": [
    "vs = malaya_speech.padding.sequence_nd([v, v_1], dim = 0)\n",
    "vs.shape"
   ]
  },
  {
   "cell_type": "code",
   "execution_count": 15,
   "id": "framed-manchester",
   "metadata": {},
   "outputs": [],
   "source": [
    "X = tf.placeholder(tf.float32, [None, None, 80])\n",
    "X_f0 = tf.placeholder(tf.float32, [None, None, 1])\n",
    "len_X = tf.placeholder(tf.int32, [None])\n",
    "V = tf.placeholder(tf.float32, [None, 512])\n",
    "\n",
    "# X = tf.convert_to_tensor(mels.astype(np.float32))\n",
    "# X_f0 = tf.convert_to_tensor(f0s.astype(np.float32))\n",
    "# len_X = tf.convert_to_tensor(mel_lens)\n",
    "# V = tf.convert_to_tensor(vs.astype(np.float32))"
   ]
  },
  {
   "cell_type": "code",
   "execution_count": 16,
   "id": "jewish-designer",
   "metadata": {
    "scrolled": true
   },
   "outputs": [
    {
     "name": "stdout",
     "output_type": "stream",
     "text": [
      "WARNING:tensorflow:From /Users/huseinzolkepli/Documents/malaya-speech/malaya_speech/train/optimizer/__init__.py:38: The name tf.train.AdagradOptimizer is deprecated. Please use tf.compat.v1.train.AdagradOptimizer instead.\n",
      "\n",
      "WARNING:tensorflow:From /Users/huseinzolkepli/Documents/malaya-speech/malaya_speech/train/optimizer/__init__.py:39: The name tf.train.AdamOptimizer is deprecated. Please use tf.compat.v1.train.AdamOptimizer instead.\n",
      "\n",
      "WARNING:tensorflow:From /Users/huseinzolkepli/Documents/malaya-speech/malaya_speech/train/optimizer/__init__.py:40: The name tf.train.FtrlOptimizer is deprecated. Please use tf.compat.v1.train.FtrlOptimizer instead.\n",
      "\n",
      "WARNING:tensorflow:From /Users/huseinzolkepli/Documents/malaya-speech/malaya_speech/train/optimizer/__init__.py:42: The name tf.train.RMSPropOptimizer is deprecated. Please use tf.compat.v1.train.RMSPropOptimizer instead.\n",
      "\n",
      "WARNING:tensorflow:From /Users/huseinzolkepli/Documents/malaya-speech/malaya_speech/train/optimizer/__init__.py:43: The name tf.train.GradientDescentOptimizer is deprecated. Please use tf.compat.v1.train.GradientDescentOptimizer instead.\n",
      "\n",
      "WARNING:tensorflow:\n",
      "The TensorFlow contrib module will not be included in TensorFlow 2.0.\n",
      "For more information, please see:\n",
      "  * https://github.com/tensorflow/community/blob/master/rfcs/20180907-contrib-sunset.md\n",
      "  * https://github.com/tensorflow/addons\n",
      "  * https://github.com/tensorflow/io (for I/O related ops)\n",
      "If you depend on functionality not listed there, please file an issue.\n",
      "\n"
     ]
    }
   ],
   "source": [
    "from malaya_speech.train.model import speechsplit"
   ]
  },
  {
   "cell_type": "code",
   "execution_count": 17,
   "id": "promising-literature",
   "metadata": {},
   "outputs": [
    {
     "name": "stdout",
     "output_type": "stream",
     "text": [
      "WARNING:tensorflow:From /Users/huseinzolkepli/Documents/tf-1.15/env/lib/python3.7/site-packages/tensorflow_core/python/ops/init_ops.py:97: calling GlorotUniform.__init__ (from tensorflow.python.ops.init_ops) with dtype is deprecated and will be removed in a future version.\n",
      "Instructions for updating:\n",
      "Call initializer instance with the dtype argument instead of passing it to the constructor\n",
      "WARNING:tensorflow:From /Users/huseinzolkepli/Documents/tf-1.15/env/lib/python3.7/site-packages/tensorflow_core/python/ops/init_ops.py:97: calling Orthogonal.__init__ (from tensorflow.python.ops.init_ops) with dtype is deprecated and will be removed in a future version.\n",
      "Instructions for updating:\n",
      "Call initializer instance with the dtype argument instead of passing it to the constructor\n",
      "WARNING:tensorflow:From /Users/huseinzolkepli/Documents/tf-1.15/env/lib/python3.7/site-packages/tensorflow_core/python/ops/init_ops.py:97: calling Zeros.__init__ (from tensorflow.python.ops.init_ops) with dtype is deprecated and will be removed in a future version.\n",
      "Instructions for updating:\n",
      "Call initializer instance with the dtype argument instead of passing it to the constructor\n"
     ]
    }
   ],
   "source": [
    "hparams = speechsplit.hparams\n",
    "\n",
    "interplnr = speechsplit.InterpLnr(hparams)\n",
    "model = speechsplit.Model(hparams)"
   ]
  },
  {
   "cell_type": "code",
   "execution_count": 18,
   "id": "liberal-token",
   "metadata": {},
   "outputs": [
    {
     "name": "stdout",
     "output_type": "stream",
     "text": [
      "WARNING:tensorflow:From /Users/huseinzolkepli/Documents/tf-1.15/env/lib/python3.7/site-packages/tensorflow_core/python/ops/resource_variable_ops.py:1630: calling BaseResourceVariable.__init__ (from tensorflow.python.ops.resource_variable_ops) with constraint is deprecated and will be removed in a future version.\n",
      "Instructions for updating:\n",
      "If using Keras pass *_constraint arguments to layers.\n"
     ]
    }
   ],
   "source": [
    "bottleneck_speaker = tf.keras.layers.Dense(hparams.dim_spk_emb)\n",
    "speaker_dim = bottleneck_speaker(V)"
   ]
  },
  {
   "cell_type": "code",
   "execution_count": 19,
   "id": "large-iraqi",
   "metadata": {},
   "outputs": [
    {
     "name": "stdout",
     "output_type": "stream",
     "text": [
      "WARNING:tensorflow:From /Users/huseinzolkepli/Documents/tf-1.15/env/lib/python3.7/site-packages/tensorflow_core/python/ops/array_ops.py:1475: where (from tensorflow.python.ops.array_ops) is deprecated and will be removed in a future version.\n",
      "Instructions for updating:\n",
      "Use tf.where in 2.0, which has the same broadcast rule as np.where\n"
     ]
    },
    {
     "data": {
      "text/plain": [
       "TensorShape([Dimension(None), Dimension(None), Dimension(81)])"
      ]
     },
     "execution_count": 19,
     "metadata": {},
     "output_type": "execute_result"
    }
   ],
   "source": [
    "x_f0_intrp = interplnr(tf.concat([X, X_f0], axis = -1), len_X)\n",
    "x_f0_intrp.shape"
   ]
  },
  {
   "cell_type": "code",
   "execution_count": 20,
   "id": "distinct-original",
   "metadata": {},
   "outputs": [],
   "source": [
    "f0_org_intrp = speechsplit.quantize_f0_tf(x_f0_intrp[:,:,-1])\n",
    "x_f0_intrp_org = tf.concat((x_f0_intrp[:,:,:-1], f0_org_intrp), axis=-1)"
   ]
  },
  {
   "cell_type": "code",
   "execution_count": 21,
   "id": "mounted-montana",
   "metadata": {},
   "outputs": [
    {
     "data": {
      "text/plain": [
       "(<tf.Tensor 'concat_1:0' shape=(?, ?, 337) dtype=float32>,\n",
       " <tf.Tensor 'Placeholder:0' shape=(?, ?, 80) dtype=float32>,\n",
       " <tf.Tensor 'dense_1/BiasAdd:0' shape=(?, 128) dtype=float32>)"
      ]
     },
     "execution_count": 21,
     "metadata": {},
     "output_type": "execute_result"
    }
   ],
   "source": [
    "x_f0_intrp_org, X, speaker_dim"
   ]
  },
  {
   "cell_type": "code",
   "execution_count": 22,
   "id": "interstate-wireless",
   "metadata": {
    "scrolled": true
   },
   "outputs": [
    {
     "name": "stdout",
     "output_type": "stream",
     "text": [
      "Tensor(\"speechsplit/Encoder_7/strided_slice:0\", shape=(?, ?, 80), dtype=float32) Tensor(\"speechsplit/Encoder_7/strided_slice_1:0\", shape=(?, ?, 257), dtype=float32)\n",
      "Tensor(\"speechsplit/Encoder_7/strided_slice_3:0\", shape=(?, ?, 512), dtype=float32) Tensor(\"speechsplit/Encoder_7/strided_slice_4:0\", shape=(?, ?, 256), dtype=float32)\n",
      "Tensor(\"speechsplit/Encoder_7/strided_slice_6:0\", shape=(?, ?, 512), dtype=float32) Tensor(\"speechsplit/Encoder_7/strided_slice_7:0\", shape=(?, ?, 256), dtype=float32)\n",
      "(?, ?, 2)\n"
     ]
    },
    {
     "data": {
      "text/plain": [
       "(TensorShape([Dimension(None), Dimension(None), Dimension(16)]),\n",
       " TensorShape([Dimension(None), Dimension(None), Dimension(64)]),\n",
       " TensorShape([Dimension(None), Dimension(None), Dimension(2)]),\n",
       " TensorShape([Dimension(None), Dimension(None), Dimension(210)]),\n",
       " TensorShape([Dimension(None), Dimension(None), Dimension(80)]))"
      ]
     },
     "execution_count": 22,
     "metadata": {},
     "output_type": "execute_result"
    }
   ],
   "source": [
    "codes_x, codes_f0, codes_2, encoder_outputs, mel_outputs = model(x_f0_intrp_org, X, speaker_dim)\n",
    "codes_x.shape, codes_f0.shape, codes_2.shape, encoder_outputs.shape, mel_outputs.shape"
   ]
  },
  {
   "cell_type": "code",
   "execution_count": 24,
   "id": "traditional-photography",
   "metadata": {},
   "outputs": [],
   "source": [
    "sess = tf.Session()\n",
    "sess.run(tf.global_variables_initializer())"
   ]
  },
  {
   "cell_type": "code",
   "execution_count": 25,
   "id": "loose-entertainment",
   "metadata": {},
   "outputs": [],
   "source": [
    "o = sess.run([codes_x, codes_f0, codes_2, encoder_outputs, mel_outputs], feed_dict = {\n",
    "    X: mels, X_f0: f0s, len_X: mel_lens, V: vs\n",
    "})"
   ]
  },
  {
   "cell_type": "code",
   "execution_count": 26,
   "id": "technological-restoration",
   "metadata": {},
   "outputs": [
    {
     "data": {
      "text/plain": [
       "[array([[[-8.19223166e-01, -5.76501966e-01,  1.66250005e-01,\n",
       "           2.92422056e-01, -1.48027539e-01,  8.34660828e-02,\n",
       "           2.52451003e-01,  4.05756563e-01,  3.60189795e-01,\n",
       "          -5.68357646e-01, -2.07107127e-01, -1.84687063e-01,\n",
       "           4.12933022e-01, -5.76610267e-01,  8.73266906e-02,\n",
       "          -3.61911990e-02],\n",
       "         [-9.59383965e-01, -5.24995983e-01,  1.83395848e-01,\n",
       "           2.69266605e-01, -3.33840787e-01,  3.66560549e-01,\n",
       "           2.13176370e-01,  4.08696413e-01,  2.72756964e-01,\n",
       "          -6.51961684e-01,  3.78961978e-03, -3.34770620e-01,\n",
       "           2.24637538e-01, -6.40670657e-01, -7.67343640e-02,\n",
       "          -3.50477934e-01],\n",
       "         [-9.99995947e-01, -4.95920509e-01,  2.60428011e-01,\n",
       "           3.63443077e-01, -2.81184524e-01,  3.51485938e-01,\n",
       "           2.41491243e-01,  4.64207351e-01,  2.61643887e-01,\n",
       "          -6.22841716e-01, -3.50799710e-01, -2.76235133e-01,\n",
       "           2.93098390e-01, -5.66881537e-01, -2.43351147e-01,\n",
       "          -4.73379403e-01],\n",
       "         [-1.00000000e+00, -5.12097001e-01,  3.26094538e-01,\n",
       "           3.73985231e-01, -2.12617084e-01,  3.69640410e-01,\n",
       "           2.11933330e-01,  4.58049655e-01,  1.90796256e-01,\n",
       "          -6.14275932e-01, -3.25420052e-01, -2.54092574e-01,\n",
       "           4.34135437e-01, -6.06417239e-01, -5.43075204e-01,\n",
       "          -5.55287242e-01],\n",
       "         [-9.43819523e-01, -6.62042677e-01,  4.44627166e-01,\n",
       "           3.02600473e-01, -9.21870470e-02,  3.87462825e-01,\n",
       "           2.24961683e-01,  1.35222673e-01,  1.41293764e-01,\n",
       "          -5.89375436e-01, -4.56269085e-02, -2.12296426e-01,\n",
       "           4.27965313e-01, -4.43534940e-01, -6.83250487e-01,\n",
       "          -4.84295547e-01],\n",
       "         [-3.05508345e-01, -1.22459326e-02,  4.03198034e-01,\n",
       "          -5.92080839e-02, -4.45678771e-01,  2.48612374e-01,\n",
       "          -2.58885622e-01, -1.01225443e-01,  1.40358210e-01,\n",
       "          -6.33905292e-01,  2.14272738e-01, -1.26700521e-01,\n",
       "           2.87712604e-01, -2.88777918e-01, -7.26743698e-01,\n",
       "          -3.71874630e-01],\n",
       "         [-1.83751136e-01,  2.84572810e-01, -3.62728268e-01,\n",
       "           3.77713770e-01,  1.68741122e-01,  3.19278151e-01,\n",
       "          -1.75258949e-01,  2.55331337e-01, -3.15160185e-01,\n",
       "           1.58610299e-01, -1.45129442e-01, -2.20305771e-01,\n",
       "          -2.39577323e-01,  1.10443644e-01,  3.57359648e-01,\n",
       "           1.80608556e-01],\n",
       "         [ 8.71687159e-02,  1.80910900e-01,  3.87292430e-02,\n",
       "          -2.33841464e-01,  3.21775824e-01,  2.07988456e-01,\n",
       "          -2.80516952e-01,  1.23837210e-01,  2.26813018e-01,\n",
       "          -4.73460078e-01, -3.91980767e-01, -1.44124880e-01,\n",
       "          -4.88127798e-01, -5.59337139e-01,  2.64963508e-01,\n",
       "           1.84477761e-01],\n",
       "         [-6.13178685e-02,  3.33347261e-01, -1.46495655e-01,\n",
       "           2.67726839e-01,  2.59010077e-01, -3.88945043e-01,\n",
       "          -1.48333251e-01, -2.80247303e-03, -5.05004346e-01,\n",
       "           1.36199206e-01, -9.19187292e-02,  8.04496333e-02,\n",
       "          -1.28514573e-01,  2.19150841e-01,  4.58732724e-01,\n",
       "           8.23522136e-02],\n",
       "         [ 1.79952353e-01,  4.28428441e-01,  4.02351230e-01,\n",
       "           1.49859995e-01,  2.58303463e-01, -4.25324291e-02,\n",
       "          -2.89686739e-01,  2.28251398e-01,  2.95548856e-01,\n",
       "           2.64611930e-01, -2.39612281e-01, -3.39347944e-02,\n",
       "          -1.18583612e-01, -1.99679181e-01,  1.58446327e-01,\n",
       "           2.35014588e-01],\n",
       "         [ 6.27587065e-02,  3.79421264e-01,  1.00530557e-01,\n",
       "          -9.42839906e-02,  5.67374408e-01, -2.43121579e-01,\n",
       "          -4.51404810e-01,  7.14803860e-02, -3.36867988e-01,\n",
       "           6.23826496e-02,  1.42982885e-01,  1.37885958e-01,\n",
       "           1.79727063e-01,  1.38869315e-01, -3.41625750e-01,\n",
       "           3.06628644e-01],\n",
       "         [ 1.26108890e-02,  3.91285747e-01, -2.26396427e-01,\n",
       "           1.12178959e-01,  3.79845262e-01, -1.38431907e-01,\n",
       "          -2.86561519e-01, -7.21259937e-02, -6.91126168e-01,\n",
       "           1.44768894e-01,  5.59530184e-02,  1.79516792e-01,\n",
       "          -3.04063350e-01,  1.40784442e-01,  2.46166453e-01,\n",
       "           3.28983158e-01],\n",
       "         [ 7.58640766e-02,  3.07224274e-01, -9.00070518e-02,\n",
       "          -4.81762379e-01,  4.80415076e-01, -1.68406084e-01,\n",
       "           2.96765029e-01, -2.29874343e-01, -4.95557100e-01,\n",
       "           1.23294070e-01, -4.23156083e-01,  6.95609748e-02,\n",
       "          -2.35446066e-01, -1.75378360e-02,  3.67021531e-01,\n",
       "           3.55289310e-01],\n",
       "         [ 1.13195285e-01,  1.81012321e-04, -1.24539934e-01,\n",
       "          -3.98339570e-01,  5.88504672e-01, -2.47292891e-01,\n",
       "           1.45896256e-01, -1.41125908e-02, -6.46420956e-01,\n",
       "           1.24331199e-01,  2.31646061e-01,  2.22678825e-01,\n",
       "          -1.31320149e-01, -2.89067745e-01,  2.33883381e-01,\n",
       "           2.40148772e-02],\n",
       "         [-8.12814608e-02, -2.93410510e-01, -1.72163218e-01,\n",
       "          -3.38867307e-01,  6.59849226e-01, -1.41627774e-01,\n",
       "           2.57930070e-01, -2.67049253e-01, -5.97559869e-01,\n",
       "           2.10808173e-01,  1.48606330e-01,  4.13723230e-01,\n",
       "          -1.97374791e-01,  5.77204712e-02, -7.81963170e-02,\n",
       "           8.45535547e-02],\n",
       "         [-2.33892649e-02,  1.08013019e-01,  6.66889191e-01,\n",
       "          -2.95232296e-01, -7.08440170e-02, -2.73801446e-01,\n",
       "           4.91875231e-01,  1.01277083e-01,  2.76155472e-01,\n",
       "           2.32629508e-01,  1.72230363e-01,  1.31209388e-01,\n",
       "           9.13197175e-03,  4.82569218e-01,  1.61850706e-01,\n",
       "           1.84852660e-01],\n",
       "         [-9.91285127e-03,  3.77935886e-01, -3.11502907e-02,\n",
       "           4.24628824e-01,  4.26017493e-01, -2.03065485e-01,\n",
       "          -2.38324225e-01, -7.31080174e-02, -1.97939754e-01,\n",
       "           1.22037552e-01, -3.17744553e-01,  5.61764300e-01,\n",
       "           5.59677333e-02, -1.61708854e-02, -4.01982069e-01,\n",
       "          -4.74575572e-02],\n",
       "         [ 2.47251213e-01,  9.72334370e-02, -2.93416470e-01,\n",
       "          -9.18442160e-02, -1.60594612e-01, -2.49999732e-01,\n",
       "           1.23735085e-01,  7.45403990e-02,  5.21811903e-01,\n",
       "           2.34017268e-01, -2.75722355e-01, -1.27499506e-01,\n",
       "          -2.79539227e-01, -1.06871091e-01,  1.18616544e-01,\n",
       "           4.80915517e-01],\n",
       "         [-2.61822809e-02,  1.34473309e-01, -9.09556448e-02,\n",
       "          -2.21106395e-01,  6.71548843e-01, -1.91006482e-01,\n",
       "           5.40568471e-01, -1.58675045e-01, -1.86353996e-01,\n",
       "          -1.33429050e-01,  1.24776788e-01,  1.12294488e-01,\n",
       "           1.12013042e-01,  2.36656874e-01, -5.32187104e-01,\n",
       "          -3.16686213e-01],\n",
       "         [-2.54351765e-01,  1.33625925e-01, -1.87131152e-01,\n",
       "          -5.15017331e-01,  1.58991277e-01, -2.15686366e-01,\n",
       "           6.57961905e-01,  6.99969307e-02,  4.72129464e-01,\n",
       "           1.68494985e-01,  3.25886935e-01, -1.03478998e-01,\n",
       "           1.55784175e-01,  2.44274512e-01, -1.44037372e-02,\n",
       "           2.03973889e-01],\n",
       "         [ 6.11426048e-02, -3.94210547e-01, -3.60094756e-01,\n",
       "          -3.74230057e-01,  1.37390777e-01,  2.16678575e-01,\n",
       "           3.00489575e-01, -2.71384239e-01,  6.07338846e-01,\n",
       "           1.08705305e-01,  7.38034621e-02, -1.11889139e-01,\n",
       "          -2.15042502e-01, -4.10762548e-01,  7.64720216e-02,\n",
       "           3.63407284e-01],\n",
       "         [-1.05064481e-01,  3.76465321e-01, -2.12963015e-01,\n",
       "           4.48159844e-01,  4.74244356e-02,  2.00742513e-01,\n",
       "          -1.75467119e-01,  1.77462935e-01,  1.42922938e-01,\n",
       "           2.65164107e-01,  7.78014213e-02, -8.12971517e-02,\n",
       "           1.26646962e-02,  1.88128680e-01,  3.86527151e-01,\n",
       "           1.53876856e-01],\n",
       "         [ 6.32092450e-03,  2.91079611e-01, -3.13465774e-01,\n",
       "           2.94651061e-01,  3.98706853e-01, -2.46231571e-01,\n",
       "          -2.38371000e-01,  2.89983213e-01, -2.60572452e-02,\n",
       "           4.66308057e-01, -1.16525032e-01,  1.86102316e-02,\n",
       "          -3.55418175e-01,  1.25827610e-01,  3.56782854e-01,\n",
       "           2.49713942e-01],\n",
       "         [-1.43537328e-01, -3.76791418e-01,  1.34149306e-02,\n",
       "           3.00982773e-01,  3.56467158e-01, -1.57691061e-01,\n",
       "          -8.57325643e-02,  2.55221725e-01, -1.03868300e-03,\n",
       "           1.71761438e-01, -4.88906115e-01,  2.88631856e-01,\n",
       "          -2.37161969e-03, -1.81553811e-01,  2.83086509e-01,\n",
       "           2.40833119e-01]],\n",
       " \n",
       "        [[-6.69694543e-01, -5.27189136e-01,  1.97556362e-01,\n",
       "           1.55055091e-01, -3.62066217e-02,  1.80334091e-01,\n",
       "           5.10038882e-02,  3.75337094e-01,  1.54611617e-01,\n",
       "          -4.90956336e-01, -5.18269241e-01,  4.21626270e-02,\n",
       "          -2.34478246e-02, -5.10453939e-01, -5.26508629e-01,\n",
       "          -6.99109256e-01],\n",
       "         [-7.45842576e-01, -4.84012574e-01,  1.06900074e-01,\n",
       "           1.09263331e-01, -1.14723966e-01,  2.04036623e-01,\n",
       "          -5.24093211e-02,  3.14451158e-01,  1.51641920e-01,\n",
       "          -6.23608708e-01, -3.54676217e-01, -2.98491213e-02,\n",
       "          -3.11452061e-01, -6.00823641e-01, -4.92834479e-01,\n",
       "          -3.93453658e-01],\n",
       "         [-3.64979595e-01, -5.54558277e-01,  4.88079190e-02,\n",
       "           3.60223539e-02,  1.75065398e-02,  3.34373601e-02,\n",
       "           1.07652545e-01, -3.58881764e-02,  1.77985996e-01,\n",
       "          -5.76911211e-01, -5.90521276e-01, -1.00923121e-01,\n",
       "           5.52686304e-02, -4.53609139e-01, -6.26727402e-01,\n",
       "          -5.22739291e-01],\n",
       "         [-7.56197572e-01, -7.70650685e-01,  4.39807735e-02,\n",
       "          -9.65520963e-02, -6.04010895e-02, -1.90510631e-01,\n",
       "           3.98900509e-01,  6.57544658e-02,  2.22368807e-01,\n",
       "          -4.89802599e-01, -4.66984391e-01,  7.17033371e-02,\n",
       "           3.72262478e-01, -1.95349127e-01, -6.46000683e-01,\n",
       "          -6.20544434e-01],\n",
       "         [-7.39939451e-01, -4.45436239e-01,  6.80400804e-02,\n",
       "           1.85708646e-02, -4.19909693e-02,  1.22214839e-01,\n",
       "           2.00269774e-01,  2.07583994e-01,  1.86148942e-01,\n",
       "          -5.15108764e-01, -4.46126342e-01, -2.05146037e-02,\n",
       "          -2.15169229e-02, -4.66731161e-01, -6.01429820e-01,\n",
       "          -3.87939453e-01],\n",
       "         [-7.55861580e-01, -6.16415858e-01,  6.92846850e-02,\n",
       "           1.83995605e-01,  3.44576538e-02,  3.03257406e-01,\n",
       "           2.43486777e-01,  2.97565401e-01,  1.37279674e-01,\n",
       "          -4.67546135e-01, -5.41348517e-01, -6.61334842e-02,\n",
       "           1.78897679e-02,  3.25902812e-02, -5.49494922e-01,\n",
       "          -1.46025613e-01],\n",
       "         [-7.89395213e-01, -6.87765777e-01,  1.78415552e-01,\n",
       "           2.72028059e-01, -1.02231046e-02,  3.85614336e-01,\n",
       "           2.33678997e-01,  1.70877099e-01,  1.55180931e-01,\n",
       "          -5.15234947e-01, -5.99066854e-01,  1.65121024e-03,\n",
       "           1.35217428e-01, -4.27633263e-02, -6.42035425e-01,\n",
       "          -1.72684014e-01],\n",
       "         [-8.00103426e-01, -5.95384657e-01,  2.51083463e-01,\n",
       "           2.15212032e-01, -3.34174111e-02,  2.75251240e-01,\n",
       "           2.68382907e-01,  1.98264793e-01,  1.60711855e-01,\n",
       "          -5.80426633e-01, -6.09860003e-01,  5.43349236e-02,\n",
       "           1.72702149e-01, -4.49841857e-01, -6.51137590e-01,\n",
       "          -4.26393270e-01],\n",
       "         [-8.96608710e-01, -5.53777039e-01,  2.09755644e-01,\n",
       "           3.10606122e-01, -5.82504421e-02,  2.69460320e-01,\n",
       "           1.60812184e-01,  3.22358757e-01,  1.12178117e-01,\n",
       "          -6.82044446e-01, -4.80313361e-01, -2.82155797e-02,\n",
       "           8.92959833e-02, -3.95750970e-01, -6.25346959e-01,\n",
       "          -4.45996732e-01],\n",
       "         [-8.65410686e-01, -5.76495707e-01,  2.19215646e-01,\n",
       "           3.10117185e-01, -6.46895319e-02,  2.15483412e-01,\n",
       "           1.93730697e-01,  3.32995802e-01,  1.16917431e-01,\n",
       "          -5.63923538e-01, -5.63582778e-01,  5.21188118e-02,\n",
       "           1.09485008e-01, -5.22066057e-01, -5.61848164e-01,\n",
       "          -4.69430894e-01],\n",
       "         [-9.06475008e-01, -6.27000630e-01,  2.71285444e-01,\n",
       "           2.24465966e-01, -7.66330883e-02,  3.05121183e-01,\n",
       "           1.97454214e-01,  3.48385423e-01,  7.35683665e-02,\n",
       "          -5.82937062e-01, -5.37122250e-01,  1.32603332e-01,\n",
       "           3.41836438e-02, -5.30022085e-01, -5.70878148e-01,\n",
       "          -4.47700322e-01],\n",
       "         [-8.59277010e-01, -5.92378974e-01,  1.72777593e-01,\n",
       "           1.76970735e-01, -1.53124332e-01,  2.36140087e-01,\n",
       "           8.42256099e-02,  3.70101362e-01,  8.81041437e-02,\n",
       "          -6.03293836e-01, -5.44091523e-01,  7.69832358e-02,\n",
       "           4.02156226e-02, -5.58315396e-01, -5.87891996e-01,\n",
       "          -3.84264290e-01],\n",
       "         [-8.81543398e-01, -7.14518368e-01,  1.26260474e-01,\n",
       "           4.51574802e-01, -1.24310970e-01,  9.45271831e-03,\n",
       "           2.23219573e-01,  3.66116643e-01,  7.07663074e-02,\n",
       "          -5.81607401e-01, -5.72389901e-01, -6.54079616e-02,\n",
       "           3.40857983e-01, -5.64949393e-01, -5.44964671e-01,\n",
       "          -4.31791514e-01],\n",
       "         [-8.72564077e-01, -6.03444338e-01,  1.33926824e-01,\n",
       "           3.78301442e-01, -7.02209771e-02,  3.01755279e-01,\n",
       "           2.48826206e-01,  3.56031686e-01,  8.14905167e-02,\n",
       "          -5.41837931e-01, -5.67241311e-01,  1.74762651e-01,\n",
       "           2.44667932e-01, -6.00671291e-01, -4.80302244e-01,\n",
       "          -4.53565955e-01],\n",
       "         [-9.16256011e-01, -6.49387181e-01,  2.12667868e-01,\n",
       "           3.60268176e-01, -5.55610918e-02,  1.74010426e-01,\n",
       "           2.76933908e-01,  3.47045302e-01,  5.50620779e-02,\n",
       "          -6.07601821e-01, -6.38303339e-01,  1.72287732e-01,\n",
       "           6.88896030e-02, -5.28095245e-01, -4.83948022e-01,\n",
       "          -4.43063140e-01],\n",
       "         [-8.84407580e-01, -6.08726144e-01,  2.61532336e-01,\n",
       "           2.80881613e-01, -2.80587971e-02,  2.59554386e-01,\n",
       "           2.03713968e-01,  3.80521655e-01,  5.53144403e-02,\n",
       "          -5.26332259e-01, -5.57614028e-01,  1.27474651e-01,\n",
       "           7.63935223e-02, -5.98652959e-01, -5.48687756e-01,\n",
       "          -4.44117010e-01],\n",
       "         [-9.04228091e-01, -6.36776209e-01,  1.60514355e-01,\n",
       "           3.52437824e-01, -5.64666931e-03,  2.81970114e-01,\n",
       "           2.78882772e-01,  3.03284854e-01,  4.74486426e-02,\n",
       "          -5.12489557e-01, -6.21727526e-01,  1.39533341e-01,\n",
       "           2.80299727e-02, -5.86662829e-01, -4.90334332e-01,\n",
       "          -4.49378759e-01],\n",
       "         [-8.55336189e-01, -6.48183465e-01,  1.23007074e-01,\n",
       "           1.99255154e-01,  1.03117796e-02,  3.02986175e-01,\n",
       "           2.48773217e-01,  3.66868824e-01,  7.44250417e-02,\n",
       "          -4.73073751e-01, -5.15650213e-01,  1.81598619e-01,\n",
       "           3.62384431e-02, -5.52495122e-01, -5.82798004e-01,\n",
       "          -4.37085837e-01],\n",
       "         [-8.61611605e-01, -6.25821710e-01,  1.47080854e-01,\n",
       "           1.41953200e-01, -6.91400887e-03,  3.15211624e-01,\n",
       "           1.73979089e-01,  3.68256301e-01,  8.19954872e-02,\n",
       "          -4.95111376e-01, -5.59020638e-01,  1.28149480e-01,\n",
       "          -2.01450095e-01, -5.77408791e-01, -5.81947327e-01,\n",
       "          -4.30966437e-01],\n",
       "         [-3.66106629e-01,  1.95115045e-01, -2.50936784e-02,\n",
       "          -7.69594535e-02,  2.07790568e-01,  3.67444783e-01,\n",
       "          -1.88210472e-01,  1.71360135e-01, -8.80140215e-02,\n",
       "           4.73240852e-01,  2.22048819e-01,  2.53660023e-01,\n",
       "          -4.99687612e-01,  8.94383490e-02, -6.22241259e-01,\n",
       "          -2.44604781e-01],\n",
       "         [-5.51249944e-02, -2.24698007e-01,  1.38658389e-01,\n",
       "           2.48577788e-01,  5.46810292e-02, -2.07292333e-01,\n",
       "          -2.35438928e-01, -9.46731120e-02,  3.01385224e-01,\n",
       "           3.76420408e-01, -3.74684811e-01,  3.21016580e-01,\n",
       "          -1.47173375e-01,  3.20428200e-02,  1.82559744e-01,\n",
       "           2.18238175e-01],\n",
       "         [ 2.43255012e-02,  1.99579876e-02,  2.32864730e-02,\n",
       "           2.32223004e-01, -9.06075388e-02, -3.40157971e-02,\n",
       "          -2.08494648e-01, -8.38779584e-02, -7.56180733e-02,\n",
       "           2.81542391e-01,  2.15247143e-02,  1.37099355e-01,\n",
       "          -2.26461142e-01,  7.31800869e-02,  3.10917914e-01,\n",
       "           4.63943481e-02],\n",
       "         [ 2.63572279e-02,  8.63099024e-02,  1.26327230e-02,\n",
       "           2.38439813e-01, -9.66753215e-02, -1.94448419e-02,\n",
       "          -2.25548312e-01, -5.72337732e-02, -7.32292607e-02,\n",
       "           2.73798883e-01,  2.13036649e-02,  1.35493368e-01,\n",
       "          -2.25889847e-01,  7.13355243e-02,  3.10383171e-01,\n",
       "           4.03776653e-02],\n",
       "         [ 3.87928486e-02,  8.12866762e-02,  4.23052832e-02,\n",
       "           1.66070506e-01, -6.42156824e-02, -1.59366578e-02,\n",
       "          -1.54553697e-01, -6.47781044e-03, -6.42974004e-02,\n",
       "           2.29750589e-01,  5.36823319e-03,  1.15046062e-01,\n",
       "          -2.09662661e-01,  6.12861849e-02,  2.99413592e-01,\n",
       "           8.19568429e-03]]], dtype=float32),\n",
       " array([[[-0.06006333, -0.14090043, -0.28834054, ...,  0.33125708,\n",
       "           0.06972949, -0.28069293],\n",
       "         [-0.21078385,  0.3370047 , -0.33327943, ..., -0.15003544,\n",
       "           0.24039409,  0.03827357],\n",
       "         [-0.30333102,  0.3602302 , -0.3354838 , ..., -0.21749373,\n",
       "           0.22344017,  0.10664074],\n",
       "         ...,\n",
       "         [-0.3351687 , -0.1926374 , -0.31623247, ..., -0.13138665,\n",
       "           0.231141  ,  0.00985975],\n",
       "         [-0.31227833, -0.17358251, -0.23296043, ...,  0.17455015,\n",
       "           0.24591872, -0.07418342],\n",
       "         [-0.31533262, -0.10123284, -0.2533942 , ..., -0.05921379,\n",
       "           0.29890892,  0.0307788 ]],\n",
       " \n",
       "        [[-0.13758329,  0.16211413, -0.32952258, ..., -0.06517949,\n",
       "           0.24358577,  0.02608286],\n",
       "         [-0.309249  ,  0.18063661, -0.33618924, ..., -0.12641115,\n",
       "           0.22147715,  0.06255408],\n",
       "         [-0.4053763 ,  0.18019304, -0.33696797, ..., -0.1263985 ,\n",
       "           0.2214806 ,  0.0625468 ],\n",
       "         ...,\n",
       "         [ 0.09329414, -0.20821032, -0.16599429, ...,  0.09914159,\n",
       "          -0.01343771, -0.06781782],\n",
       "         [ 0.14130248, -0.18822084, -0.17322911, ...,  0.10078512,\n",
       "          -0.01452895, -0.06930225],\n",
       "         [ 0.12736726, -0.17947623, -0.16766125, ...,  0.09956838,\n",
       "          -0.01934413, -0.07417349]]], dtype=float32),\n",
       " array([[[-0.19222254, -0.3468733 ],\n",
       "         [-0.13204604, -0.3158949 ],\n",
       "         [-0.01724672, -0.27949178],\n",
       "         [-0.0508539 , -0.28671396],\n",
       "         [-0.06461667, -0.30890584],\n",
       "         [ 0.27455854, -0.35271224],\n",
       "         [-0.58198667,  0.31372178],\n",
       "         [ 0.19628946, -0.0596114 ],\n",
       "         [-0.28538063,  0.17212772],\n",
       "         [-0.34995747,  0.24589038],\n",
       "         [ 0.00893837,  0.3319081 ],\n",
       "         [ 0.19800238,  0.03161354],\n",
       "         [ 0.2513213 ,  0.30247584],\n",
       "         [ 0.4630659 ,  0.3605033 ],\n",
       "         [-0.15202695,  0.3291159 ],\n",
       "         [-0.09299486,  0.37460378],\n",
       "         [-0.35570535,  0.28295192],\n",
       "         [-0.14719252,  0.4091794 ],\n",
       "         [-0.38778526,  0.27065572],\n",
       "         [ 0.13140237,  0.0815903 ],\n",
       "         [ 0.1049391 ,  0.42843792],\n",
       "         [-0.309145  ,  0.3666183 ],\n",
       "         [-0.17056891,  0.2056285 ],\n",
       "         [-0.20859714,  0.23695266]],\n",
       " \n",
       "        [[-0.06260962, -0.33463797],\n",
       "         [-0.10673905, -0.4019175 ],\n",
       "         [-0.13550203, -0.42938948],\n",
       "         [-0.17423226, -0.44878283],\n",
       "         [-0.21170925, -0.3903944 ],\n",
       "         [-0.04726643, -0.3647059 ],\n",
       "         [-0.09401193, -0.38807043],\n",
       "         [-0.06494383, -0.370443  ],\n",
       "         [-0.09836923, -0.44943136],\n",
       "         [-0.0752436 , -0.41498   ],\n",
       "         [-0.11431178, -0.40500435],\n",
       "         [-0.06796525, -0.37719986],\n",
       "         [-0.0924072 , -0.4346823 ],\n",
       "         [-0.07566418, -0.2936196 ],\n",
       "         [-0.09915762, -0.3170337 ],\n",
       "         [-0.1470005 , -0.34835517],\n",
       "         [-0.09661893, -0.36218533],\n",
       "         [-0.0443831 , -0.3715712 ],\n",
       "         [-0.05015179, -0.5306507 ],\n",
       "         [-0.02751572,  0.05706953],\n",
       "         [-0.3993613 ,  0.02060905],\n",
       "         [-0.10164791, -0.2556606 ],\n",
       "         [-0.27676535, -0.21100137],\n",
       "         [-0.20513308,  0.10246193]]], dtype=float32),\n",
       " array([[[-0.81922317, -0.57650197,  0.16625   , ...,  0.24512276,\n",
       "           0.10453327,  0.30443782],\n",
       "         [-0.81922317, -0.57650197,  0.16625   , ...,  0.24512276,\n",
       "           0.10453327,  0.30443782],\n",
       "         [-0.81922317, -0.57650197,  0.16625   , ...,  0.24512276,\n",
       "           0.10453327,  0.30443782],\n",
       "         ...,\n",
       "         [-0.14353733, -0.37679142,  0.01341493, ...,  0.24512276,\n",
       "           0.10453327,  0.30443782],\n",
       "         [-0.14353733, -0.37679142,  0.01341493, ...,  0.24512276,\n",
       "           0.10453327,  0.30443782],\n",
       "         [-0.14353733, -0.37679142,  0.01341493, ...,  0.24512276,\n",
       "           0.10453327,  0.30443782]],\n",
       " \n",
       "        [[-0.66969454, -0.52718914,  0.19755636, ...,  0.5159116 ,\n",
       "          -0.15748706,  0.69133115],\n",
       "         [-0.66969454, -0.52718914,  0.19755636, ...,  0.5159116 ,\n",
       "          -0.15748706,  0.69133115],\n",
       "         [-0.66969454, -0.52718914,  0.19755636, ...,  0.5159116 ,\n",
       "          -0.15748706,  0.69133115],\n",
       "         ...,\n",
       "         [ 0.03879285,  0.08128668,  0.04230528, ...,  0.5159116 ,\n",
       "          -0.15748706,  0.69133115],\n",
       "         [ 0.03879285,  0.08128668,  0.04230528, ...,  0.5159116 ,\n",
       "          -0.15748706,  0.69133115],\n",
       "         [ 0.03879285,  0.08128668,  0.04230528, ...,  0.5159116 ,\n",
       "          -0.15748706,  0.69133115]]], dtype=float32),\n",
       " array([[[-0.01639812,  0.09097297, -0.03826988, ..., -0.09201415,\n",
       "           0.10034549,  0.03498462],\n",
       "         [-0.02537839,  0.10280594, -0.04623989, ..., -0.09699403,\n",
       "           0.11641785,  0.03235576],\n",
       "         [-0.03418414,  0.11403038, -0.05310168, ..., -0.09764919,\n",
       "           0.12932126,  0.03132727],\n",
       "         ...,\n",
       "         [-0.0247617 ,  0.06072904, -0.02309125, ...,  0.0192367 ,\n",
       "           0.05515242,  0.00791609],\n",
       "         [-0.02013329,  0.05296796, -0.01083131, ...,  0.02989065,\n",
       "           0.04590091,  0.0086641 ],\n",
       "         [-0.01518745,  0.04536414,  0.00459426, ...,  0.04127769,\n",
       "           0.03727569,  0.01197062]],\n",
       " \n",
       "        [[-0.0218535 ,  0.08121033, -0.04547292, ..., -0.08785696,\n",
       "           0.09813474,  0.04288256],\n",
       "         [-0.02853909,  0.09746766, -0.04716531, ..., -0.09968361,\n",
       "           0.10896808,  0.05093874],\n",
       "         [-0.03308564,  0.11238662, -0.04864791, ..., -0.10825525,\n",
       "           0.11839721,  0.05877298],\n",
       "         ...,\n",
       "         [ 0.01815823,  0.08126584,  0.01699753, ..., -0.00779504,\n",
       "           0.05831918,  0.05032722],\n",
       "         [ 0.01491599,  0.07195039,  0.02303497, ...,  0.00199867,\n",
       "           0.04527216,  0.05252123],\n",
       "         [ 0.01035921,  0.06152371,  0.03045206, ...,  0.01237558,\n",
       "           0.03071194,  0.05586922]]], dtype=float32)]"
      ]
     },
     "execution_count": 26,
     "metadata": {},
     "output_type": "execute_result"
    }
   ],
   "source": [
    "o"
   ]
  },
  {
   "cell_type": "code",
   "execution_count": 27,
   "id": "charitable-david",
   "metadata": {},
   "outputs": [
    {
     "data": {
      "text/plain": [
       "[<tf.Variable 'dense_1/kernel:0' shape=(512, 128) dtype=float32>,\n",
       " <tf.Variable 'dense_1/bias:0' shape=(128,) dtype=float32>,\n",
       " <tf.Variable 'speechsplit/Encoder_7/sequential/ConvNorm/conv1d/kernel:0' shape=(5, 80, 512) dtype=float32>,\n",
       " <tf.Variable 'speechsplit/Encoder_7/sequential/ConvNorm/conv1d/bias:0' shape=(512,) dtype=float32>,\n",
       " <tf.Variable 'speechsplit/Encoder_7/sequential/group_normalization/gamma:0' shape=(512,) dtype=float32>,\n",
       " <tf.Variable 'speechsplit/Encoder_7/sequential/group_normalization/beta:0' shape=(512,) dtype=float32>,\n",
       " <tf.Variable 'speechsplit/Encoder_7/sequential_1/ConvNorm/conv1d_1/kernel:0' shape=(5, 257, 256) dtype=float32>,\n",
       " <tf.Variable 'speechsplit/Encoder_7/sequential_1/ConvNorm/conv1d_1/bias:0' shape=(256,) dtype=float32>,\n",
       " <tf.Variable 'speechsplit/Encoder_7/sequential_1/group_normalization_1/gamma:0' shape=(256,) dtype=float32>,\n",
       " <tf.Variable 'speechsplit/Encoder_7/sequential_1/group_normalization_1/beta:0' shape=(256,) dtype=float32>,\n",
       " <tf.Variable 'speechsplit/Encoder_7/sequential_2/ConvNorm/conv1d_2/kernel:0' shape=(5, 512, 512) dtype=float32>,\n",
       " <tf.Variable 'speechsplit/Encoder_7/sequential_2/ConvNorm/conv1d_2/bias:0' shape=(512,) dtype=float32>,\n",
       " <tf.Variable 'speechsplit/Encoder_7/sequential_2/group_normalization_2/gamma:0' shape=(512,) dtype=float32>,\n",
       " <tf.Variable 'speechsplit/Encoder_7/sequential_2/group_normalization_2/beta:0' shape=(512,) dtype=float32>,\n",
       " <tf.Variable 'speechsplit/Encoder_7/sequential_3/ConvNorm/conv1d_3/kernel:0' shape=(5, 256, 256) dtype=float32>,\n",
       " <tf.Variable 'speechsplit/Encoder_7/sequential_3/ConvNorm/conv1d_3/bias:0' shape=(256,) dtype=float32>,\n",
       " <tf.Variable 'speechsplit/Encoder_7/sequential_3/group_normalization_3/gamma:0' shape=(256,) dtype=float32>,\n",
       " <tf.Variable 'speechsplit/Encoder_7/sequential_3/group_normalization_3/beta:0' shape=(256,) dtype=float32>,\n",
       " <tf.Variable 'speechsplit/Encoder_7/sequential_4/ConvNorm/conv1d_4/kernel:0' shape=(5, 512, 512) dtype=float32>,\n",
       " <tf.Variable 'speechsplit/Encoder_7/sequential_4/ConvNorm/conv1d_4/bias:0' shape=(512,) dtype=float32>,\n",
       " <tf.Variable 'speechsplit/Encoder_7/sequential_4/group_normalization_4/gamma:0' shape=(512,) dtype=float32>,\n",
       " <tf.Variable 'speechsplit/Encoder_7/sequential_4/group_normalization_4/beta:0' shape=(512,) dtype=float32>,\n",
       " <tf.Variable 'speechsplit/Encoder_7/sequential_5/ConvNorm/conv1d_5/kernel:0' shape=(5, 256, 256) dtype=float32>,\n",
       " <tf.Variable 'speechsplit/Encoder_7/sequential_5/ConvNorm/conv1d_5/bias:0' shape=(256,) dtype=float32>,\n",
       " <tf.Variable 'speechsplit/Encoder_7/sequential_5/group_normalization_5/gamma:0' shape=(256,) dtype=float32>,\n",
       " <tf.Variable 'speechsplit/Encoder_7/sequential_5/group_normalization_5/beta:0' shape=(256,) dtype=float32>,\n",
       " <tf.Variable 'speechsplit/Encoder_7/bidirectional/forward_lstm/kernel:0' shape=(512, 32) dtype=float32>,\n",
       " <tf.Variable 'speechsplit/Encoder_7/bidirectional/forward_lstm/recurrent_kernel:0' shape=(8, 32) dtype=float32>,\n",
       " <tf.Variable 'speechsplit/Encoder_7/bidirectional/forward_lstm/bias:0' shape=(32,) dtype=float32>,\n",
       " <tf.Variable 'speechsplit/Encoder_7/bidirectional/backward_lstm/kernel:0' shape=(512, 32) dtype=float32>,\n",
       " <tf.Variable 'speechsplit/Encoder_7/bidirectional/backward_lstm/recurrent_kernel:0' shape=(8, 32) dtype=float32>,\n",
       " <tf.Variable 'speechsplit/Encoder_7/bidirectional/backward_lstm/bias:0' shape=(32,) dtype=float32>,\n",
       " <tf.Variable 'speechsplit/Encoder_7/bidirectional_1/forward_lstm_1/kernel:0' shape=(256, 128) dtype=float32>,\n",
       " <tf.Variable 'speechsplit/Encoder_7/bidirectional_1/forward_lstm_1/recurrent_kernel:0' shape=(32, 128) dtype=float32>,\n",
       " <tf.Variable 'speechsplit/Encoder_7/bidirectional_1/forward_lstm_1/bias:0' shape=(128,) dtype=float32>,\n",
       " <tf.Variable 'speechsplit/Encoder_7/bidirectional_1/backward_lstm_1/kernel:0' shape=(256, 128) dtype=float32>,\n",
       " <tf.Variable 'speechsplit/Encoder_7/bidirectional_1/backward_lstm_1/recurrent_kernel:0' shape=(32, 128) dtype=float32>,\n",
       " <tf.Variable 'speechsplit/Encoder_7/bidirectional_1/backward_lstm_1/bias:0' shape=(128,) dtype=float32>,\n",
       " <tf.Variable 'speechsplit/Encoder_t/sequential_6/ConvNorm/conv1d_6/kernel:0' shape=(5, 80, 128) dtype=float32>,\n",
       " <tf.Variable 'speechsplit/Encoder_t/sequential_6/ConvNorm/conv1d_6/bias:0' shape=(128,) dtype=float32>,\n",
       " <tf.Variable 'speechsplit/Encoder_t/sequential_6/group_normalization_6/gamma:0' shape=(128,) dtype=float32>,\n",
       " <tf.Variable 'speechsplit/Encoder_t/sequential_6/group_normalization_6/beta:0' shape=(128,) dtype=float32>,\n",
       " <tf.Variable 'speechsplit/Encoder_t/bidirectional_2/forward_lstm_2/kernel:0' shape=(128, 4) dtype=float32>,\n",
       " <tf.Variable 'speechsplit/Encoder_t/bidirectional_2/forward_lstm_2/recurrent_kernel:0' shape=(1, 4) dtype=float32>,\n",
       " <tf.Variable 'speechsplit/Encoder_t/bidirectional_2/forward_lstm_2/bias:0' shape=(4,) dtype=float32>,\n",
       " <tf.Variable 'speechsplit/Encoder_t/bidirectional_2/backward_lstm_2/kernel:0' shape=(128, 4) dtype=float32>,\n",
       " <tf.Variable 'speechsplit/Encoder_t/bidirectional_2/backward_lstm_2/recurrent_kernel:0' shape=(1, 4) dtype=float32>,\n",
       " <tf.Variable 'speechsplit/Encoder_t/bidirectional_2/backward_lstm_2/bias:0' shape=(4,) dtype=float32>,\n",
       " <tf.Variable 'speechsplit/Decoder_3/sequential_7/bidirectional_3/forward_lstm_3/kernel:0' shape=(210, 2048) dtype=float32>,\n",
       " <tf.Variable 'speechsplit/Decoder_3/sequential_7/bidirectional_3/forward_lstm_3/recurrent_kernel:0' shape=(512, 2048) dtype=float32>,\n",
       " <tf.Variable 'speechsplit/Decoder_3/sequential_7/bidirectional_3/forward_lstm_3/bias:0' shape=(2048,) dtype=float32>,\n",
       " <tf.Variable 'speechsplit/Decoder_3/sequential_7/bidirectional_3/backward_lstm_3/kernel:0' shape=(210, 2048) dtype=float32>,\n",
       " <tf.Variable 'speechsplit/Decoder_3/sequential_7/bidirectional_3/backward_lstm_3/recurrent_kernel:0' shape=(512, 2048) dtype=float32>,\n",
       " <tf.Variable 'speechsplit/Decoder_3/sequential_7/bidirectional_3/backward_lstm_3/bias:0' shape=(2048,) dtype=float32>,\n",
       " <tf.Variable 'speechsplit/Decoder_3/sequential_7/bidirectional_4/forward_lstm_4/kernel:0' shape=(1024, 2048) dtype=float32>,\n",
       " <tf.Variable 'speechsplit/Decoder_3/sequential_7/bidirectional_4/forward_lstm_4/recurrent_kernel:0' shape=(512, 2048) dtype=float32>,\n",
       " <tf.Variable 'speechsplit/Decoder_3/sequential_7/bidirectional_4/forward_lstm_4/bias:0' shape=(2048,) dtype=float32>,\n",
       " <tf.Variable 'speechsplit/Decoder_3/sequential_7/bidirectional_4/backward_lstm_4/kernel:0' shape=(1024, 2048) dtype=float32>,\n",
       " <tf.Variable 'speechsplit/Decoder_3/sequential_7/bidirectional_4/backward_lstm_4/recurrent_kernel:0' shape=(512, 2048) dtype=float32>,\n",
       " <tf.Variable 'speechsplit/Decoder_3/sequential_7/bidirectional_4/backward_lstm_4/bias:0' shape=(2048,) dtype=float32>,\n",
       " <tf.Variable 'speechsplit/Decoder_3/sequential_7/bidirectional_5/forward_lstm_5/kernel:0' shape=(1024, 2048) dtype=float32>,\n",
       " <tf.Variable 'speechsplit/Decoder_3/sequential_7/bidirectional_5/forward_lstm_5/recurrent_kernel:0' shape=(512, 2048) dtype=float32>,\n",
       " <tf.Variable 'speechsplit/Decoder_3/sequential_7/bidirectional_5/forward_lstm_5/bias:0' shape=(2048,) dtype=float32>,\n",
       " <tf.Variable 'speechsplit/Decoder_3/sequential_7/bidirectional_5/backward_lstm_5/kernel:0' shape=(1024, 2048) dtype=float32>,\n",
       " <tf.Variable 'speechsplit/Decoder_3/sequential_7/bidirectional_5/backward_lstm_5/recurrent_kernel:0' shape=(512, 2048) dtype=float32>,\n",
       " <tf.Variable 'speechsplit/Decoder_3/sequential_7/bidirectional_5/backward_lstm_5/bias:0' shape=(2048,) dtype=float32>,\n",
       " <tf.Variable 'speechsplit/Decoder_3/LinearNorm/dense/kernel:0' shape=(1024, 80) dtype=float32>,\n",
       " <tf.Variable 'speechsplit/Decoder_3/LinearNorm/dense/bias:0' shape=(80,) dtype=float32>]"
      ]
     },
     "execution_count": 27,
     "metadata": {},
     "output_type": "execute_result"
    }
   ],
   "source": [
    "tf.trainable_variables()"
   ]
  },
  {
   "cell_type": "code",
   "execution_count": 28,
   "id": "adjustable-acrobat",
   "metadata": {},
   "outputs": [],
   "source": [
    "saver = tf.train.Saver()"
   ]
  },
  {
   "cell_type": "code",
   "execution_count": 29,
   "id": "severe-interface",
   "metadata": {},
   "outputs": [
    {
     "data": {
      "text/plain": [
       "'test/model.ckpt'"
      ]
     },
     "execution_count": 29,
     "metadata": {},
     "output_type": "execute_result"
    }
   ],
   "source": [
    "saver.save(sess, 'test/model.ckpt')"
   ]
  },
  {
   "cell_type": "code",
   "execution_count": 30,
   "id": "reasonable-polish",
   "metadata": {},
   "outputs": [
    {
     "name": "stdout",
     "output_type": "stream",
     "text": [
      "total 156864\r\n",
      "-rw-r--r--  1 huseinzolkepli  staff    77B Mar 14 22:27 checkpoint\r\n",
      "-rw-r--r--  1 huseinzolkepli  staff    75M Mar 14 22:27 model.ckpt.data-00000-of-00001\r\n",
      "-rw-r--r--  1 huseinzolkepli  staff   3.2K Mar 14 22:27 model.ckpt.index\r\n",
      "-rw-r--r--  1 huseinzolkepli  staff   1.5M Mar 14 22:27 model.ckpt.meta\r\n"
     ]
    }
   ],
   "source": [
    "!ls -lh test"
   ]
  },
  {
   "cell_type": "code",
   "execution_count": 31,
   "id": "appointed-lunch",
   "metadata": {},
   "outputs": [],
   "source": [
    "!rm -rf test"
   ]
  }
 ],
 "metadata": {
  "kernelspec": {
   "display_name": "Python 3",
   "language": "python",
   "name": "python3"
  },
  "language_info": {
   "codemirror_mode": {
    "name": "ipython",
    "version": 3
   },
   "file_extension": ".py",
   "mimetype": "text/x-python",
   "name": "python",
   "nbconvert_exporter": "python",
   "pygments_lexer": "ipython3",
   "version": "3.7.7"
  }
 },
 "nbformat": 4,
 "nbformat_minor": 5
}

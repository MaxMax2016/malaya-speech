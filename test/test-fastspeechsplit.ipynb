{
 "cells": [
  {
   "cell_type": "code",
   "execution_count": 1,
   "id": "egyptian-server",
   "metadata": {},
   "outputs": [],
   "source": [
    "import os\n",
    "\n",
    "os.environ['CUDA_VISIBLE_DEVICES'] = '1'"
   ]
  },
  {
   "cell_type": "code",
   "execution_count": 2,
   "id": "representative-planner",
   "metadata": {},
   "outputs": [],
   "source": [
    "import sys\n",
    "\n",
    "SOURCE_DIR = os.path.dirname(os.path.dirname(os.path.abspath(__name__)))\n",
    "sys.path.insert(0, SOURCE_DIR)"
   ]
  },
  {
   "cell_type": "code",
   "execution_count": 3,
   "id": "enormous-tobacco",
   "metadata": {},
   "outputs": [],
   "source": [
    "import malaya_speech\n",
    "from pysptk import sptk\n",
    "import numpy as np"
   ]
  },
  {
   "cell_type": "code",
   "execution_count": 4,
   "id": "crude-picnic",
   "metadata": {},
   "outputs": [],
   "source": [
    "import tensorflow as tf\n",
    "\n",
    "# tf.compat.v1.enable_eager_execution()"
   ]
  },
  {
   "cell_type": "code",
   "execution_count": 5,
   "id": "talented-owner",
   "metadata": {},
   "outputs": [],
   "source": [
    "vggvox_v2 = malaya_speech.gender.deep_model(model = 'vggvox-v2')\n",
    "speaker_model = malaya_speech.speaker_vector.deep_model('vggvox-v2')"
   ]
  },
  {
   "cell_type": "code",
   "execution_count": 6,
   "id": "reflected-bradley",
   "metadata": {},
   "outputs": [],
   "source": [
    "freqs = {'female': [100, 600], 'male': [50, 250]}"
   ]
  },
  {
   "cell_type": "code",
   "execution_count": 7,
   "id": "manual-privilege",
   "metadata": {},
   "outputs": [],
   "source": [
    "from scipy.signal import get_window\n",
    "from scipy import signal\n",
    "import soundfile as sf\n",
    "import random\n",
    "\n",
    "sr = 22050\n",
    "\n",
    "def butter_highpass(cutoff, fs, order=5):\n",
    "    nyq = 0.5 * fs\n",
    "    normal_cutoff = cutoff / nyq\n",
    "    b, a = signal.butter(order, normal_cutoff, btype='high', analog=False)\n",
    "    return b, a\n",
    "\n",
    "b, a = butter_highpass(30, sr, order=5)"
   ]
  },
  {
   "cell_type": "code",
   "execution_count": 8,
   "id": "higher-intake",
   "metadata": {},
   "outputs": [],
   "source": [
    "from math import ceil\n",
    "\n",
    "def speaker_normalization(f0, index_nonzero, mean_f0, std_f0):\n",
    "    f0 = f0.astype(float).copy()\n",
    "    f0[index_nonzero] = (f0[index_nonzero] - mean_f0) / std_f0\n",
    "    f0[index_nonzero] = np.clip(f0[index_nonzero], -3, 4)\n",
    "    return f0\n",
    "\n",
    "def preprocess_wav(x):\n",
    "    if x.shape[0] % 256 == 0:\n",
    "        x = np.concatenate((x, np.array([1e-06])), axis=0)\n",
    "    y = signal.filtfilt(b, a, x)\n",
    "    wav = y * 0.96 + (np.random.uniform(size = y.shape[0]) - 0.5)*1e-06\n",
    "    return wav\n",
    "\n",
    "def get_f0(wav, lo, hi):\n",
    "    f0_rapt = sptk.rapt(wav.astype(np.float32)*32768, sr, 256, min=lo, max=hi, otype=2)\n",
    "    index_nonzero = (f0_rapt != -1e10)\n",
    "    mean_f0, std_f0 = np.mean(f0_rapt[index_nonzero]), np.std(f0_rapt[index_nonzero])\n",
    "    return speaker_normalization(f0_rapt, index_nonzero, mean_f0, std_f0)\n",
    "\n",
    "def pad_seq(x, base = 8):\n",
    "    len_out = int(base * ceil(float(x.shape[0]) / base))\n",
    "    len_pad = len_out - x.shape[0]\n",
    "    assert len_pad >= 0\n",
    "    return np.pad(x, ((0, len_pad), (0, 0)), 'constant'), x.shape[0]\n",
    "\n",
    "def get_speech(f, hop_size = 256):\n",
    "    x, fs = malaya_speech.load(f, sr = sr)\n",
    "    wav = preprocess_wav(x)\n",
    "    lo, hi = freqs.get(vggvox_v2(x), [50, 250])\n",
    "    f0 = np.expand_dims(get_f0(wav, lo, hi), -1)\n",
    "    mel = malaya_speech.featurization.universal_mel(wav)\n",
    "    \n",
    "    batch_max_steps = random.randint(16384, 110250)\n",
    "    batch_max_frames = batch_max_steps // hop_size\n",
    "    \n",
    "    if len(mel) > batch_max_frames:\n",
    "        interval_start = 0\n",
    "        interval_end = len(mel) - batch_max_frames\n",
    "        start_frame = random.randint(interval_start, interval_end)\n",
    "        start_step = start_frame * hop_size\n",
    "        wav = wav[start_step : start_step + batch_max_steps]\n",
    "        mel = mel[start_frame : start_frame + batch_max_frames, :]\n",
    "        f0 = f0[start_frame : start_frame + batch_max_frames, :]\n",
    "        \n",
    "    v = speaker_model([wav])[0]\n",
    "    v = v / v.max()\n",
    "    return wav, mel, f0, v"
   ]
  },
  {
   "cell_type": "code",
   "execution_count": 9,
   "id": "elementary-woman",
   "metadata": {},
   "outputs": [],
   "source": [
    "wav, mel, f0, v = get_speech('../speech/example-speaker/female.wav')\n",
    "wav_1, mel_1, f0_1, v_1 = get_speech('../speech/example-speaker/khalil-nooh.wav')"
   ]
  },
  {
   "cell_type": "code",
   "execution_count": 10,
   "id": "noticed-charles",
   "metadata": {},
   "outputs": [
    {
     "data": {
      "text/plain": [
       "((2, 271, 80), [248, 271])"
      ]
     },
     "execution_count": 10,
     "metadata": {},
     "output_type": "execute_result"
    }
   ],
   "source": [
    "mels, mel_lens = malaya_speech.padding.sequence_nd([mel, mel_1], dim = 0, return_len = True)\n",
    "mels.shape, mel_lens"
   ]
  },
  {
   "cell_type": "code",
   "execution_count": 11,
   "id": "supported-binding",
   "metadata": {},
   "outputs": [
    {
     "data": {
      "text/plain": [
       "((2, 271, 1), [248, 271])"
      ]
     },
     "execution_count": 11,
     "metadata": {},
     "output_type": "execute_result"
    }
   ],
   "source": [
    "f0s, f0_lens = malaya_speech.padding.sequence_nd([f0, f0_1], dim = 0, return_len = True)\n",
    "f0s.shape, f0_lens"
   ]
  },
  {
   "cell_type": "code",
   "execution_count": 12,
   "id": "qualified-dominant",
   "metadata": {},
   "outputs": [
    {
     "data": {
      "text/plain": [
       "(2, 512)"
      ]
     },
     "execution_count": 12,
     "metadata": {},
     "output_type": "execute_result"
    }
   ],
   "source": [
    "vs = malaya_speech.padding.sequence_nd([v, v_1], dim = 0)\n",
    "vs.shape"
   ]
  },
  {
   "cell_type": "code",
   "execution_count": 13,
   "id": "continental-behavior",
   "metadata": {},
   "outputs": [],
   "source": [
    "X = tf.placeholder(tf.float32, [None, None, 80])\n",
    "X_f0 = tf.placeholder(tf.float32, [None, None, 1])\n",
    "len_X = tf.placeholder(tf.int32, [None])\n",
    "V = tf.placeholder(tf.float32, [None, 512])"
   ]
  },
  {
   "cell_type": "code",
   "execution_count": 14,
   "id": "lasting-visibility",
   "metadata": {
    "scrolled": false
   },
   "outputs": [
    {
     "name": "stdout",
     "output_type": "stream",
     "text": [
      "WARNING:tensorflow:From /Users/huseinzolkepli/Documents/malaya-speech/malaya_speech/train/optimizer/__init__.py:38: The name tf.train.AdagradOptimizer is deprecated. Please use tf.compat.v1.train.AdagradOptimizer instead.\n",
      "\n"
     ]
    },
    {
     "name": "stderr",
     "output_type": "stream",
     "text": [
      "WARNING:tensorflow:From /Users/huseinzolkepli/Documents/malaya-speech/malaya_speech/train/optimizer/__init__.py:38: The name tf.train.AdagradOptimizer is deprecated. Please use tf.compat.v1.train.AdagradOptimizer instead.\n",
      "\n"
     ]
    },
    {
     "name": "stdout",
     "output_type": "stream",
     "text": [
      "WARNING:tensorflow:From /Users/huseinzolkepli/Documents/malaya-speech/malaya_speech/train/optimizer/__init__.py:39: The name tf.train.AdamOptimizer is deprecated. Please use tf.compat.v1.train.AdamOptimizer instead.\n",
      "\n"
     ]
    },
    {
     "name": "stderr",
     "output_type": "stream",
     "text": [
      "WARNING:tensorflow:From /Users/huseinzolkepli/Documents/malaya-speech/malaya_speech/train/optimizer/__init__.py:39: The name tf.train.AdamOptimizer is deprecated. Please use tf.compat.v1.train.AdamOptimizer instead.\n",
      "\n"
     ]
    },
    {
     "name": "stdout",
     "output_type": "stream",
     "text": [
      "WARNING:tensorflow:From /Users/huseinzolkepli/Documents/malaya-speech/malaya_speech/train/optimizer/__init__.py:40: The name tf.train.FtrlOptimizer is deprecated. Please use tf.compat.v1.train.FtrlOptimizer instead.\n",
      "\n"
     ]
    },
    {
     "name": "stderr",
     "output_type": "stream",
     "text": [
      "WARNING:tensorflow:From /Users/huseinzolkepli/Documents/malaya-speech/malaya_speech/train/optimizer/__init__.py:40: The name tf.train.FtrlOptimizer is deprecated. Please use tf.compat.v1.train.FtrlOptimizer instead.\n",
      "\n"
     ]
    },
    {
     "name": "stdout",
     "output_type": "stream",
     "text": [
      "WARNING:tensorflow:From /Users/huseinzolkepli/Documents/malaya-speech/malaya_speech/train/optimizer/__init__.py:42: The name tf.train.RMSPropOptimizer is deprecated. Please use tf.compat.v1.train.RMSPropOptimizer instead.\n",
      "\n"
     ]
    },
    {
     "name": "stderr",
     "output_type": "stream",
     "text": [
      "WARNING:tensorflow:From /Users/huseinzolkepli/Documents/malaya-speech/malaya_speech/train/optimizer/__init__.py:42: The name tf.train.RMSPropOptimizer is deprecated. Please use tf.compat.v1.train.RMSPropOptimizer instead.\n",
      "\n"
     ]
    },
    {
     "name": "stdout",
     "output_type": "stream",
     "text": [
      "WARNING:tensorflow:From /Users/huseinzolkepli/Documents/malaya-speech/malaya_speech/train/optimizer/__init__.py:43: The name tf.train.GradientDescentOptimizer is deprecated. Please use tf.compat.v1.train.GradientDescentOptimizer instead.\n",
      "\n"
     ]
    },
    {
     "name": "stderr",
     "output_type": "stream",
     "text": [
      "WARNING:tensorflow:From /Users/huseinzolkepli/Documents/malaya-speech/malaya_speech/train/optimizer/__init__.py:43: The name tf.train.GradientDescentOptimizer is deprecated. Please use tf.compat.v1.train.GradientDescentOptimizer instead.\n",
      "\n"
     ]
    },
    {
     "name": "stdout",
     "output_type": "stream",
     "text": [
      "WARNING:tensorflow:\n",
      "The TensorFlow contrib module will not be included in TensorFlow 2.0.\n",
      "For more information, please see:\n",
      "  * https://github.com/tensorflow/community/blob/master/rfcs/20180907-contrib-sunset.md\n",
      "  * https://github.com/tensorflow/addons\n",
      "  * https://github.com/tensorflow/io (for I/O related ops)\n",
      "If you depend on functionality not listed there, please file an issue.\n",
      "\n"
     ]
    },
    {
     "name": "stderr",
     "output_type": "stream",
     "text": [
      "WARNING:tensorflow:\n",
      "The TensorFlow contrib module will not be included in TensorFlow 2.0.\n",
      "For more information, please see:\n",
      "  * https://github.com/tensorflow/community/blob/master/rfcs/20180907-contrib-sunset.md\n",
      "  * https://github.com/tensorflow/addons\n",
      "  * https://github.com/tensorflow/io (for I/O related ops)\n",
      "If you depend on functionality not listed there, please file an issue.\n",
      "\n"
     ]
    }
   ],
   "source": [
    "from malaya_speech.train.model import speechsplit, fastspeechsplit, fastspeech"
   ]
  },
  {
   "cell_type": "code",
   "execution_count": 15,
   "id": "muslim-damage",
   "metadata": {},
   "outputs": [
    {
     "name": "stdout",
     "output_type": "stream",
     "text": [
      "WARNING:tensorflow:From /Users/huseinzolkepli/Documents/malaya-speech/malaya_speech/train/model/fastspeech/layer.py:11: The name tf.keras.initializers.TruncatedNormal is deprecated. Please use tf.compat.v1.keras.initializers.TruncatedNormal instead.\n",
      "\n"
     ]
    },
    {
     "name": "stderr",
     "output_type": "stream",
     "text": [
      "WARNING:tensorflow:From /Users/huseinzolkepli/Documents/malaya-speech/malaya_speech/train/model/fastspeech/layer.py:11: The name tf.keras.initializers.TruncatedNormal is deprecated. Please use tf.compat.v1.keras.initializers.TruncatedNormal instead.\n",
      "\n"
     ]
    },
    {
     "name": "stdout",
     "output_type": "stream",
     "text": [
      "WARNING:tensorflow:From /Users/huseinzolkepli/Documents/tf-1.15/env/lib/python3.7/site-packages/tensorflow_core/python/keras/initializers.py:94: calling TruncatedNormal.__init__ (from tensorflow.python.ops.init_ops) with dtype is deprecated and will be removed in a future version.\n",
      "Instructions for updating:\n",
      "Call initializer instance with the dtype argument instead of passing it to the constructor\n"
     ]
    },
    {
     "name": "stderr",
     "output_type": "stream",
     "text": [
      "WARNING:tensorflow:From /Users/huseinzolkepli/Documents/tf-1.15/env/lib/python3.7/site-packages/tensorflow_core/python/keras/initializers.py:94: calling TruncatedNormal.__init__ (from tensorflow.python.ops.init_ops) with dtype is deprecated and will be removed in a future version.\n",
      "Instructions for updating:\n",
      "Call initializer instance with the dtype argument instead of passing it to the constructor\n"
     ]
    }
   ],
   "source": [
    "hparams = speechsplit.hparams\n",
    "config = malaya_speech.config.fastspeech_config\n",
    "config = fastspeech.Config(vocab_size = 1, **config)\n",
    "interplnr = speechsplit.InterpLnr(hparams)\n",
    "model = fastspeechsplit.Model(config, hparams)\n",
    "model_F0 = fastspeechsplit.Model_F0(config, hparams)"
   ]
  },
  {
   "cell_type": "code",
   "execution_count": 16,
   "id": "enclosed-highland",
   "metadata": {},
   "outputs": [
    {
     "name": "stdout",
     "output_type": "stream",
     "text": [
      "WARNING:tensorflow:From /Users/huseinzolkepli/Documents/tf-1.15/env/lib/python3.7/site-packages/tensorflow_core/python/ops/resource_variable_ops.py:1630: calling BaseResourceVariable.__init__ (from tensorflow.python.ops.resource_variable_ops) with constraint is deprecated and will be removed in a future version.\n",
      "Instructions for updating:\n",
      "If using Keras pass *_constraint arguments to layers.\n"
     ]
    },
    {
     "name": "stderr",
     "output_type": "stream",
     "text": [
      "WARNING:tensorflow:From /Users/huseinzolkepli/Documents/tf-1.15/env/lib/python3.7/site-packages/tensorflow_core/python/ops/resource_variable_ops.py:1630: calling BaseResourceVariable.__init__ (from tensorflow.python.ops.resource_variable_ops) with constraint is deprecated and will be removed in a future version.\n",
      "Instructions for updating:\n",
      "If using Keras pass *_constraint arguments to layers.\n"
     ]
    }
   ],
   "source": [
    "bottleneck_speaker = tf.keras.layers.Dense(hparams.dim_spk_emb)\n",
    "speaker_dim = bottleneck_speaker(V)"
   ]
  },
  {
   "cell_type": "code",
   "execution_count": 17,
   "id": "appropriate-truth",
   "metadata": {},
   "outputs": [
    {
     "name": "stdout",
     "output_type": "stream",
     "text": [
      "WARNING:tensorflow:From /Users/huseinzolkepli/Documents/tf-1.15/env/lib/python3.7/site-packages/tensorflow_core/python/ops/array_ops.py:1475: where (from tensorflow.python.ops.array_ops) is deprecated and will be removed in a future version.\n",
      "Instructions for updating:\n",
      "Use tf.where in 2.0, which has the same broadcast rule as np.where\n"
     ]
    },
    {
     "name": "stderr",
     "output_type": "stream",
     "text": [
      "WARNING:tensorflow:From /Users/huseinzolkepli/Documents/tf-1.15/env/lib/python3.7/site-packages/tensorflow_core/python/ops/array_ops.py:1475: where (from tensorflow.python.ops.array_ops) is deprecated and will be removed in a future version.\n",
      "Instructions for updating:\n",
      "Use tf.where in 2.0, which has the same broadcast rule as np.where\n"
     ]
    },
    {
     "data": {
      "text/plain": [
       "TensorShape([Dimension(None), Dimension(None), Dimension(81)])"
      ]
     },
     "execution_count": 17,
     "metadata": {},
     "output_type": "execute_result"
    }
   ],
   "source": [
    "x_f0_intrp = interplnr(tf.concat([X, X_f0], axis = -1), len_X)\n",
    "x_f0_intrp.shape"
   ]
  },
  {
   "cell_type": "code",
   "execution_count": 18,
   "id": "amber-shanghai",
   "metadata": {},
   "outputs": [],
   "source": [
    "f0_org_intrp = speechsplit.quantize_f0_tf(x_f0_intrp[:,:,-1])\n",
    "x_f0_intrp_org = tf.concat((x_f0_intrp[:,:,:-1], f0_org_intrp), axis=-1)"
   ]
  },
  {
   "cell_type": "code",
   "execution_count": 19,
   "id": "modular-burner",
   "metadata": {},
   "outputs": [],
   "source": [
    "f0_org = speechsplit.quantize_f0_tf(X_f0[:,:,0])"
   ]
  },
  {
   "cell_type": "code",
   "execution_count": 20,
   "id": "exact-premiere",
   "metadata": {},
   "outputs": [
    {
     "data": {
      "text/plain": [
       "(<tf.Tensor 'Reshape_1:0' shape=(?, ?, 257) dtype=float32>,\n",
       " <tf.Tensor 'concat_1:0' shape=(?, ?, 337) dtype=float32>,\n",
       " <tf.Tensor 'Placeholder:0' shape=(?, ?, 80) dtype=float32>,\n",
       " <tf.Tensor 'dense/BiasAdd:0' shape=(?, 128) dtype=float32>,\n",
       " <tf.Tensor 'Reshape_3:0' shape=(?, ?, 257) dtype=float32>)"
      ]
     },
     "execution_count": 20,
     "metadata": {},
     "output_type": "execute_result"
    }
   ],
   "source": [
    "f0_org_intrp, x_f0_intrp_org, X, speaker_dim, f0_org"
   ]
  },
  {
   "cell_type": "code",
   "execution_count": 21,
   "id": "dressed-injury",
   "metadata": {},
   "outputs": [
    {
     "data": {
      "text/plain": [
       "(<tf.Tensor 'speechsplit/Encoder_7/encoder_dense_1/BiasAdd:0' shape=(?, ?, 8) dtype=float32>,\n",
       " <tf.Tensor 'speechsplit/Encoder_7/encoder_dense_2/BiasAdd:0' shape=(?, ?, 32) dtype=float32>,\n",
       " <tf.Tensor 'speechsplit/Encoder_t/encoder_dense/BiasAdd:0' shape=(?, ?, 1) dtype=float32>,\n",
       " <tf.Tensor 'speechsplit/concat:0' shape=(?, ?, 169) dtype=float32>,\n",
       " <tf.Tensor 'speechsplit/Decoder_3/self.linear_projection/BiasAdd:0' shape=(?, ?, 80) dtype=float32>)"
      ]
     },
     "execution_count": 21,
     "metadata": {},
     "output_type": "execute_result"
    }
   ],
   "source": [
    "o = model(x_f0_intrp_org, X, speaker_dim, len_X)\n",
    "o"
   ]
  },
  {
   "cell_type": "code",
   "execution_count": 22,
   "id": "metric-walter",
   "metadata": {},
   "outputs": [
    {
     "data": {
      "text/plain": [
       "<tf.Tensor 'speechsplit_f0/Decoder_4/self.linear_projection/BiasAdd:0' shape=(?, ?, 257) dtype=float32>"
      ]
     },
     "execution_count": 22,
     "metadata": {},
     "output_type": "execute_result"
    }
   ],
   "source": [
    "_, _, _, f0_target = model_F0(X, f0_org, len_X)\n",
    "f0_target"
   ]
  },
  {
   "cell_type": "code",
   "execution_count": 23,
   "id": "athletic-guess",
   "metadata": {},
   "outputs": [],
   "source": [
    "sess = tf.Session()\n",
    "sess.run(tf.global_variables_initializer())"
   ]
  },
  {
   "cell_type": "code",
   "execution_count": 24,
   "id": "incomplete-bailey",
   "metadata": {},
   "outputs": [],
   "source": [
    "o_ = sess.run(o, feed_dict = {\n",
    "    X: mels, X_f0: f0s, len_X: mel_lens, V: vs\n",
    "})"
   ]
  },
  {
   "cell_type": "code",
   "execution_count": 25,
   "id": "inner-soviet",
   "metadata": {},
   "outputs": [
    {
     "data": {
      "text/plain": [
       "((2, 271, 8), (2, 271, 32), (2, 271, 1), (2, 271, 169), (2, 271, 80))"
      ]
     },
     "execution_count": 25,
     "metadata": {},
     "output_type": "execute_result"
    }
   ],
   "source": [
    "o_[0].shape, o_[1].shape, o_[2].shape, o_[3].shape, o_[4].shape"
   ]
  },
  {
   "cell_type": "code",
   "execution_count": 26,
   "id": "positive-accuracy",
   "metadata": {},
   "outputs": [
    {
     "data": {
      "text/plain": [
       "(2, 271, 257)"
      ]
     },
     "execution_count": 26,
     "metadata": {},
     "output_type": "execute_result"
    }
   ],
   "source": [
    "o = sess.run([f0_target], feed_dict = {\n",
    "    X: mels, X_f0: f0s, len_X: mel_lens, V: vs\n",
    "})\n",
    "o[0].shape"
   ]
  },
  {
   "cell_type": "code",
   "execution_count": 27,
   "id": "comparable-patrol",
   "metadata": {},
   "outputs": [
    {
     "data": {
      "text/plain": [
       "'test/model.ckpt'"
      ]
     },
     "execution_count": 27,
     "metadata": {},
     "output_type": "execute_result"
    }
   ],
   "source": [
    "saver = tf.train.Saver()\n",
    "saver.save(sess, 'test/model.ckpt')"
   ]
  },
  {
   "cell_type": "code",
   "execution_count": 28,
   "id": "decreased-pantyhose",
   "metadata": {},
   "outputs": [
    {
     "name": "stdout",
     "output_type": "stream",
     "text": [
      "total 456568\r\n",
      "-rw-r--r--  1 huseinzolkepli  staff    77B May 23 01:03 checkpoint\r\n",
      "-rw-r--r--  1 huseinzolkepli  staff   220M May 23 01:03 model.ckpt.data-00000-of-00001\r\n",
      "-rw-r--r--  1 huseinzolkepli  staff    16K May 23 01:03 model.ckpt.index\r\n",
      "-rw-r--r--  1 huseinzolkepli  staff   3.2M May 23 01:03 model.ckpt.meta\r\n"
     ]
    }
   ],
   "source": [
    "!ls -lh test\n",
    "!rm -rf test"
   ]
  }
 ],
 "metadata": {
  "kernelspec": {
   "display_name": "Python 3",
   "language": "python",
   "name": "python3"
  },
  "language_info": {
   "codemirror_mode": {
    "name": "ipython",
    "version": 3
   },
   "file_extension": ".py",
   "mimetype": "text/x-python",
   "name": "python",
   "nbconvert_exporter": "python",
   "pygments_lexer": "ipython3",
   "version": "3.7.7"
  }
 },
 "nbformat": 4,
 "nbformat_minor": 5
}

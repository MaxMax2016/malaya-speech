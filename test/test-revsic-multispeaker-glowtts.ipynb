{
 "cells": [
  {
   "cell_type": "code",
   "execution_count": 1,
   "metadata": {},
   "outputs": [],
   "source": [
    "import os\n",
    "\n",
    "os.environ['CUDA_VISIBLE_DEVICES'] = '1'"
   ]
  },
  {
   "cell_type": "code",
   "execution_count": 2,
   "metadata": {},
   "outputs": [],
   "source": [
    "import sys\n",
    "\n",
    "SOURCE_DIR = os.path.dirname(os.path.dirname(os.path.abspath(__name__)))\n",
    "sys.path.insert(0, SOURCE_DIR)"
   ]
  },
  {
   "cell_type": "code",
   "execution_count": 3,
   "metadata": {},
   "outputs": [],
   "source": [
    "import malaya_speech\n",
    "import malaya_speech.config\n",
    "from malaya_speech.train.model import revsic_multispeakerglowtts as glowtts\n",
    "import tensorflow as tf\n",
    "import numpy as np\n",
    "import math\n",
    "import matplotlib.pyplot as plt"
   ]
  },
  {
   "cell_type": "code",
   "execution_count": 4,
   "metadata": {},
   "outputs": [
    {
     "data": {
      "text/plain": [
       "dict_keys(['mel', 'text_ids', 'len_mel', 'len_text_ids', 'stop_token_target', 'f0', 'len_f0', 'energy', 'len_energy', 'g'])"
      ]
     },
     "execution_count": 4,
     "metadata": {},
     "output_type": "execute_result"
    }
   ],
   "source": [
    "import pickle\n",
    "\n",
    "with open('dataset-mel.pkl', 'rb') as fopen:\n",
    "    data, d = pickle.load(fopen)\n",
    "    \n",
    "with open('dataset-mel-wav.pkl', 'rb') as fopen:\n",
    "    wav = pickle.load(fopen)\n",
    "    \n",
    "data.keys()"
   ]
  },
  {
   "cell_type": "code",
   "execution_count": 5,
   "metadata": {},
   "outputs": [],
   "source": [
    "speaker_model = malaya_speech.speaker_vector.deep_model('vggvox-v2')"
   ]
  },
  {
   "cell_type": "code",
   "execution_count": 6,
   "metadata": {},
   "outputs": [
    {
     "data": {
      "text/plain": [
       "(1, 104448)"
      ]
     },
     "execution_count": 6,
     "metadata": {},
     "output_type": "execute_result"
    }
   ],
   "source": [
    "wav['wav'].shape"
   ]
  },
  {
   "cell_type": "code",
   "execution_count": 7,
   "metadata": {},
   "outputs": [
    {
     "data": {
      "text/plain": [
       "(1, 512)"
      ]
     },
     "execution_count": 7,
     "metadata": {},
     "output_type": "execute_result"
    }
   ],
   "source": [
    "audio_16k = malaya_speech.resample(wav['wav'][0], 22050, 16000)\n",
    "v = speaker_model([audio_16k])\n",
    "v.shape"
   ]
  },
  {
   "cell_type": "code",
   "execution_count": 8,
   "metadata": {},
   "outputs": [],
   "source": [
    "i = tf.placeholder(tf.int32, [None, None])\n",
    "i_lengths = tf.placeholder(tf.int32, [None])\n",
    "mel_outputs = tf.placeholder(tf.float32, [None, None, 80])\n",
    "mel_lengths = tf.placeholder(tf.int32, [None])\n",
    "speakers = tf.placeholder(tf.float32, [None, 512])"
   ]
  },
  {
   "cell_type": "code",
   "execution_count": 9,
   "metadata": {},
   "outputs": [],
   "source": [
    "config = glowtts.Config(mel = 80, vocabs = 66, gin_channels = 512)"
   ]
  },
  {
   "cell_type": "code",
   "execution_count": 10,
   "metadata": {
    "scrolled": true
   },
   "outputs": [
    {
     "name": "stdout",
     "output_type": "stream",
     "text": [
      "WARNING:tensorflow:From /Library/Frameworks/Python.framework/Versions/3.7/lib/python3.7/site-packages/tensorflow_core/python/keras/initializers.py:119: calling RandomUniform.__init__ (from tensorflow.python.ops.init_ops) with dtype is deprecated and will be removed in a future version.\n",
      "Instructions for updating:\n",
      "Call initializer instance with the dtype argument instead of passing it to the constructor\n"
     ]
    },
    {
     "name": "stderr",
     "output_type": "stream",
     "text": [
      "WARNING:tensorflow:From /Library/Frameworks/Python.framework/Versions/3.7/lib/python3.7/site-packages/tensorflow_core/python/keras/initializers.py:119: calling RandomUniform.__init__ (from tensorflow.python.ops.init_ops) with dtype is deprecated and will be removed in a future version.\n",
      "Instructions for updating:\n",
      "Call initializer instance with the dtype argument instead of passing it to the constructor\n"
     ]
    }
   ],
   "source": [
    "model = glowtts.Model(config)"
   ]
  },
  {
   "cell_type": "code",
   "execution_count": 11,
   "metadata": {
    "scrolled": true
   },
   "outputs": [
    {
     "name": "stdout",
     "output_type": "stream",
     "text": [
      "WARNING:tensorflow:From /Library/Frameworks/Python.framework/Versions/3.7/lib/python3.7/site-packages/tensorflow_core/python/ops/resource_variable_ops.py:1630: calling BaseResourceVariable.__init__ (from tensorflow.python.ops.resource_variable_ops) with constraint is deprecated and will be removed in a future version.\n",
      "Instructions for updating:\n",
      "If using Keras pass *_constraint arguments to layers.\n"
     ]
    },
    {
     "name": "stderr",
     "output_type": "stream",
     "text": [
      "WARNING:tensorflow:From /Library/Frameworks/Python.framework/Versions/3.7/lib/python3.7/site-packages/tensorflow_core/python/ops/resource_variable_ops.py:1630: calling BaseResourceVariable.__init__ (from tensorflow.python.ops.resource_variable_ops) with constraint is deprecated and will be removed in a future version.\n",
      "Instructions for updating:\n",
      "If using Keras pass *_constraint arguments to layers.\n"
     ]
    },
    {
     "name": "stdout",
     "output_type": "stream",
     "text": [
      "WARNING:tensorflow:From /Library/Frameworks/Python.framework/Versions/3.7/lib/python3.7/site-packages/tensorflow_core/python/ops/init_ops.py:97: calling GlorotUniform.__init__ (from tensorflow.python.ops.init_ops) with dtype is deprecated and will be removed in a future version.\n",
      "Instructions for updating:\n",
      "Call initializer instance with the dtype argument instead of passing it to the constructor\n"
     ]
    },
    {
     "name": "stderr",
     "output_type": "stream",
     "text": [
      "WARNING:tensorflow:From /Library/Frameworks/Python.framework/Versions/3.7/lib/python3.7/site-packages/tensorflow_core/python/ops/init_ops.py:97: calling GlorotUniform.__init__ (from tensorflow.python.ops.init_ops) with dtype is deprecated and will be removed in a future version.\n",
      "Instructions for updating:\n",
      "Call initializer instance with the dtype argument instead of passing it to the constructor\n"
     ]
    },
    {
     "name": "stdout",
     "output_type": "stream",
     "text": [
      "WARNING:tensorflow:From /Library/Frameworks/Python.framework/Versions/3.7/lib/python3.7/site-packages/tensorflow_core/python/ops/init_ops.py:97: calling Zeros.__init__ (from tensorflow.python.ops.init_ops) with dtype is deprecated and will be removed in a future version.\n",
      "Instructions for updating:\n",
      "Call initializer instance with the dtype argument instead of passing it to the constructor\n"
     ]
    },
    {
     "name": "stderr",
     "output_type": "stream",
     "text": [
      "WARNING:tensorflow:From /Library/Frameworks/Python.framework/Versions/3.7/lib/python3.7/site-packages/tensorflow_core/python/ops/init_ops.py:97: calling Zeros.__init__ (from tensorflow.python.ops.init_ops) with dtype is deprecated and will be removed in a future version.\n",
      "Instructions for updating:\n",
      "Call initializer instance with the dtype argument instead of passing it to the constructor\n"
     ]
    },
    {
     "name": "stdout",
     "output_type": "stream",
     "text": [
      "WARNING:tensorflow:From /Users/huseinzolkepli/Documents/malaya-speech/malaya_speech/train/model/utils.py:469: The name tf.debugging.assert_equal is deprecated. Please use tf.compat.v1.debugging.assert_equal instead.\n",
      "\n"
     ]
    },
    {
     "name": "stderr",
     "output_type": "stream",
     "text": [
      "WARNING:tensorflow:From /Users/huseinzolkepli/Documents/malaya-speech/malaya_speech/train/model/utils.py:469: The name tf.debugging.assert_equal is deprecated. Please use tf.compat.v1.debugging.assert_equal instead.\n",
      "\n"
     ]
    },
    {
     "name": "stdout",
     "output_type": "stream",
     "text": [
      "WARNING:tensorflow:From /Users/huseinzolkepli/Documents/malaya-speech/malaya_speech/train/model/revsic_multispeakerglowtts/model.py:303: where (from tensorflow.python.ops.array_ops) is deprecated and will be removed in a future version.\n",
      "Instructions for updating:\n",
      "Use tf.where in 2.0, which has the same broadcast rule as np.where\n"
     ]
    },
    {
     "name": "stderr",
     "output_type": "stream",
     "text": [
      "WARNING:tensorflow:From /Users/huseinzolkepli/Documents/malaya-speech/malaya_speech/train/model/revsic_multispeakerglowtts/model.py:303: where (from tensorflow.python.ops.array_ops) is deprecated and will be removed in a future version.\n",
      "Instructions for updating:\n",
      "Use tf.where in 2.0, which has the same broadcast rule as np.where\n"
     ]
    },
    {
     "data": {
      "text/plain": [
       "(<tf.Tensor 'add_4:0' shape=() dtype=float32>,\n",
       " {'nll': <tf.Tensor 'Mean:0' shape=() dtype=float32>,\n",
       "  'durloss': <tf.Tensor 'Mean_1:0' shape=() dtype=float32>},\n",
       " <tf.Tensor 'StopGradient:0' shape=(?, ?, ?) dtype=float32>)"
      ]
     },
     "execution_count": 11,
     "metadata": {},
     "output_type": "execute_result"
    }
   ],
   "source": [
    "loss, losses, attn = model.compute_loss(text = i, textlen = i_lengths, mel = mel_outputs, mellen = mel_lengths,\n",
    "                                       g = speakers)\n",
    "loss, losses, attn"
   ]
  },
  {
   "cell_type": "code",
   "execution_count": 12,
   "metadata": {},
   "outputs": [
    {
     "data": {
      "text/plain": [
       "(<tf.Tensor 'model/Reshape_50:0' shape=(?, ?, ?) dtype=float32>,\n",
       " <tf.Tensor 'model/mul_90:0' shape=(?,) dtype=int32>,\n",
       " <tf.Tensor 'model/transpose:0' shape=(?, ?, ?) dtype=float32>)"
      ]
     },
     "execution_count": 12,
     "metadata": {},
     "output_type": "execute_result"
    }
   ],
   "source": [
    "mel, mellen, attn_out = model(inputs = i, lengths = i_lengths, g = speakers)\n",
    "mel, mellen, attn_out"
   ]
  },
  {
   "cell_type": "code",
   "execution_count": 13,
   "metadata": {},
   "outputs": [],
   "source": [
    "parameters = {\n",
    "    'optimizer_params': {'beta1': 0.9, 'beta2': 0.98, 'epsilon': 1e-9},\n",
    "    'lr_policy_params': {\n",
    "        'warmup_steps': 40000,\n",
    "    },\n",
    "}\n",
    "\n",
    "def noam_schedule(step, learning_rate, channels, warmup_steps=4000):\n",
    "    return learning_rate * channels ** -0.5 * \\\n",
    "            tf.minimum(step ** -0.5, step * warmup_steps ** -1.5)\n",
    "\n",
    "def learning_rate_scheduler(global_step):\n",
    "    return transformer_schedule(\n",
    "        tf.cast(global_step, tf.float32),\n",
    "        config.channels,\n",
    "        **parameters['lr_policy_params'],\n",
    "    )"
   ]
  },
  {
   "cell_type": "code",
   "execution_count": 14,
   "metadata": {},
   "outputs": [],
   "source": [
    "optimizer = tf.train.AdamOptimizer(learning_rate = 1e-4, beta1 = 0.9, \n",
    "                                   beta2 = 0.98, epsilon = 1e-9).minimize(loss)"
   ]
  },
  {
   "cell_type": "code",
   "execution_count": 15,
   "metadata": {},
   "outputs": [],
   "source": [
    "sess = tf.InteractiveSession()\n",
    "sess.run(tf.global_variables_initializer())"
   ]
  },
  {
   "cell_type": "code",
   "execution_count": 18,
   "metadata": {},
   "outputs": [
    {
     "data": {
      "text/plain": [
       "(2, 512)"
      ]
     },
     "execution_count": 18,
     "metadata": {},
     "output_type": "execute_result"
    }
   ],
   "source": [
    "v_ = np.concatenate([v, v])\n",
    "v_.shape"
   ]
  },
  {
   "cell_type": "code",
   "execution_count": 20,
   "metadata": {},
   "outputs": [
    {
     "name": "stdout",
     "output_type": "stream",
     "text": [
      "CPU times: user 870 ms, sys: 215 ms, total: 1.09 s\n",
      "Wall time: 225 ms\n"
     ]
    }
   ],
   "source": [
    "%%time\n",
    "\n",
    "o = sess.run([loss, losses, attn], feed_dict = {i: [data['text_ids'][0],data['text_ids'][0]],\n",
    "                                               i_lengths: [data['len_text_ids'][0,0], data['len_text_ids'][0,0]],\n",
    "                                               mel_outputs: [data['mel'].astype(np.float32)[0],data['mel'].astype(np.float32)[0]],\n",
    "                                               mel_lengths: [408, 408],\n",
    "                                               speakers: v_})"
   ]
  },
  {
   "cell_type": "code",
   "execution_count": 21,
   "metadata": {
    "scrolled": true
   },
   "outputs": [
    {
     "name": "stdout",
     "output_type": "stream",
     "text": [
      "0 [1.074271, {'nll': 0.7970535, 'durloss': 0.2772174}, None]\n",
      "1 [0.83979344, {'nll': 0.66087186, 'durloss': 0.17892161}, None]\n",
      "2 [0.7599812, {'nll': 0.59940094, 'durloss': 0.16058029}, None]\n",
      "3 [0.74425936, {'nll': 0.55357563, 'durloss': 0.19068372}, None]\n",
      "4 [0.6944375, {'nll': 0.5093507, 'durloss': 0.18508677}, None]\n",
      "5 [0.67187536, {'nll': 0.46573398, 'durloss': 0.20614138}, None]\n",
      "6 [0.70596254, {'nll': 0.42426923, 'durloss': 0.2816933}, None]\n",
      "7 [0.6441797, {'nll': 0.3854595, 'durloss': 0.25872016}, None]\n",
      "8 [0.76156366, {'nll': 0.3485399, 'durloss': 0.41302377}, None]\n",
      "9 [0.7059109, {'nll': 0.31283337, 'durloss': 0.39307755}, None]\n",
      "10 [0.5785157, {'nll': 0.27733234, 'durloss': 0.30118337}, None]\n",
      "11 [0.4988556, {'nll': 0.24115264, 'durloss': 0.25770295}, None]\n",
      "12 [0.48733866, {'nll': 0.20373732, 'durloss': 0.28360134}, None]\n",
      "13 [0.5027126, {'nll': 0.16512835, 'durloss': 0.33758423}, None]\n",
      "14 [0.45143723, {'nll': 0.12538143, 'durloss': 0.32605582}, None]\n",
      "15 [0.3583521, {'nll': 0.08414944, 'durloss': 0.27420264}, None]\n",
      "16 [0.29382116, {'nll': 0.04085508, 'durloss': 0.25296608}, None]\n",
      "17 [0.24795131, {'nll': -0.004907825, 'durloss': 0.25285915}, None]\n",
      "18 [0.21518841, {'nll': -0.052704245, 'durloss': 0.26789266}, None]\n",
      "19 [0.15980199, {'nll': -0.10011121, 'durloss': 0.2599132}, None]\n",
      "20 [0.10650295, {'nll': -0.14147308, 'durloss': 0.24797603}, None]\n",
      "21 [0.071781725, {'nll': -0.1720541, 'durloss': 0.24383582}, None]\n",
      "22 [0.032613993, {'nll': -0.20026457, 'durloss': 0.23287857}, None]\n",
      "23 [-0.0025144815, {'nll': -0.23547934, 'durloss': 0.23296486}, None]\n",
      "24 [-0.01780346, {'nll': -0.27231288, 'durloss': 0.25450942}, None]\n",
      "25 [-0.05749792, {'nll': -0.30628458, 'durloss': 0.24878666}, None]\n",
      "26 [-0.096244454, {'nll': -0.337815, 'durloss': 0.24157053}, None]\n",
      "27 [-0.12815009, {'nll': -0.36531442, 'durloss': 0.23716433}, None]\n",
      "28 [-0.14727771, {'nll': -0.38913223, 'durloss': 0.24185452}, None]\n",
      "29 [-0.16492446, {'nll': -0.410464, 'durloss': 0.24553953}, None]\n",
      "30 [-0.18878692, {'nll': -0.43264392, 'durloss': 0.243857}, None]\n",
      "31 [-0.21875545, {'nll': -0.44803402, 'durloss': 0.22927856}, None]\n",
      "32 [-0.23711516, {'nll': -0.46468884, 'durloss': 0.22757368}, None]\n",
      "33 [-0.25149056, {'nll': -0.48098817, 'durloss': 0.22949761}, None]\n",
      "34 [-0.264001, {'nll': -0.4949665, 'durloss': 0.2309655}, None]\n",
      "35 [-0.27992457, {'nll': -0.50878006, 'durloss': 0.22885549}, None]\n",
      "36 [-0.29474336, {'nll': -0.522255, 'durloss': 0.22751164}, None]\n",
      "37 [-0.30590057, {'nll': -0.5383321, 'durloss': 0.23243153}, None]\n",
      "38 [-0.31932116, {'nll': -0.55357665, 'durloss': 0.23425551}, None]\n",
      "39 [-0.33556676, {'nll': -0.5672939, 'durloss': 0.23172711}, None]\n",
      "40 [-0.35128236, {'nll': -0.5814482, 'durloss': 0.23016582}, None]\n",
      "41 [-0.35998806, {'nll': -0.5944043, 'durloss': 0.23441622}, None]\n",
      "42 [-0.3665902, {'nll': -0.60631573, 'durloss': 0.23972553}, None]\n",
      "43 [-0.37962598, {'nll': -0.6173264, 'durloss': 0.2377004}, None]\n",
      "44 [-0.39719445, {'nll': -0.62828654, 'durloss': 0.23109211}, None]\n",
      "45 [-0.4082287, {'nll': -0.63758993, 'durloss': 0.22936122}, None]\n",
      "46 [-0.41220117, {'nll': -0.64655316, 'durloss': 0.234352}, None]\n",
      "47 [-0.41584826, {'nll': -0.6549897, 'durloss': 0.23914148}, None]\n",
      "48 [-0.42506874, {'nll': -0.66206217, 'durloss': 0.23699343}, None]\n",
      "49 [-0.44081235, {'nll': -0.67105377, 'durloss': 0.2302414}, None]\n",
      "50 [-0.45404392, {'nll': -0.6837697, 'durloss': 0.22972578}, None]\n",
      "51 [-0.46028823, {'nll': -0.6946686, 'durloss': 0.23438036}, None]\n",
      "52 [-0.4651999, {'nll': -0.70098484, 'durloss': 0.23578495}, None]\n",
      "53 [-0.47469145, {'nll': -0.7061166, 'durloss': 0.23142517}, None]\n",
      "54 [-0.4841789, {'nll': -0.7123469, 'durloss': 0.228168}, None]\n",
      "55 [-0.49654046, {'nll': -0.72664726, 'durloss': 0.2301068}, None]\n",
      "56 [-0.5021404, {'nll': -0.73503983, 'durloss': 0.23289946}, None]\n",
      "57 [-0.5046948, {'nll': -0.7379811, 'durloss': 0.23328625}, None]\n",
      "58 [-0.518607, {'nll': -0.74678665, 'durloss': 0.22817966}, None]\n",
      "59 [-0.5290342, {'nll': -0.7586622, 'durloss': 0.22962804}, None]\n",
      "60 [-0.5338959, {'nll': -0.76541287, 'durloss': 0.23151697}, None]\n",
      "61 [-0.5260902, {'nll': -0.7675134, 'durloss': 0.24142317}, None]\n",
      "62 [-0.54025614, {'nll': -0.7702699, 'durloss': 0.2300137}, None]\n",
      "63 [-0.5598022, {'nll': -0.7868146, 'durloss': 0.2270124}, None]\n",
      "64 [-0.5486225, {'nll': -0.7834814, 'durloss': 0.23485895}, None]\n",
      "65 [-0.5621732, {'nll': -0.79014057, 'durloss': 0.2279674}, None]\n",
      "66 [-0.5619128, {'nll': -0.7896738, 'durloss': 0.227761}, None]\n",
      "67 [-0.568034, {'nll': -0.800425, 'durloss': 0.23239098}, None]\n",
      "68 [-0.5671231, {'nll': -0.7985257, 'durloss': 0.23140256}, None]\n",
      "69 [-0.5919905, {'nll': -0.82241917, 'durloss': 0.23042871}, None]\n",
      "70 [-0.5974246, {'nll': -0.81892264, 'durloss': 0.22149804}, None]\n",
      "71 [-0.6057878, {'nll': -0.8298571, 'durloss': 0.22406928}, None]\n",
      "72 [-0.61199504, {'nll': -0.83966124, 'durloss': 0.22766618}, None]\n",
      "73 [-0.6193742, {'nll': -0.8437557, 'durloss': 0.2243815}, None]\n",
      "74 [-0.63124603, {'nll': -0.8518239, 'durloss': 0.22057788}, None]\n",
      "75 [-0.6410035, {'nll': -0.85642976, 'durloss': 0.21542624}, None]\n",
      "76 [-0.6565301, {'nll': -0.8666965, 'durloss': 0.2101664}, None]\n",
      "77 [-0.65080535, {'nll': -0.87243605, 'durloss': 0.22163069}, None]\n",
      "78 [-0.6579576, {'nll': -0.8791916, 'durloss': 0.22123396}, None]\n",
      "79 [-0.6903951, {'nll': -0.88939685, 'durloss': 0.19900173}, None]\n",
      "80 [-0.6883999, {'nll': -0.8911923, 'durloss': 0.20279238}, None]\n",
      "81 [-0.6723124, {'nll': -0.90183514, 'durloss': 0.22952275}, None]\n",
      "82 [-0.6958162, {'nll': -0.9046587, 'durloss': 0.20884244}, None]\n",
      "83 [-0.7264647, {'nll': -0.9138308, 'durloss': 0.18736611}, None]\n",
      "84 [-0.72247165, {'nll': -0.9147844, 'durloss': 0.1923127}, None]\n",
      "85 [-0.734962, {'nll': -0.9117555, 'durloss': 0.17679349}, None]\n",
      "86 [-0.7176341, {'nll': -0.9071976, 'durloss': 0.18956353}, None]\n",
      "87 [-0.76183426, {'nll': -0.93570715, 'durloss': 0.17387289}, None]\n",
      "88 [-0.76523805, {'nll': -0.9292774, 'durloss': 0.16403934}, None]\n",
      "89 [-0.7829189, {'nll': -0.9485863, 'durloss': 0.1656674}, None]\n",
      "90 [-0.79195744, {'nll': -0.9477854, 'durloss': 0.15582794}, None]\n",
      "91 [-0.79520845, {'nll': -0.9599968, 'durloss': 0.1647884}, None]\n",
      "92 [-0.7585, {'nll': -0.95580035, 'durloss': 0.19730039}, None]\n",
      "93 [-0.81515175, {'nll': -0.9699819, 'durloss': 0.15483016}, None]\n",
      "94 [-0.8481846, {'nll': -0.96835005, 'durloss': 0.12016547}, None]\n",
      "95 [-0.8331692, {'nll': -0.9837941, 'durloss': 0.15062487}, None]\n",
      "96 [-0.85556436, {'nll': -0.9859342, 'durloss': 0.13036983}, None]\n",
      "97 [-0.8911125, {'nll': -0.9963585, 'durloss': 0.10524603}, None]\n",
      "98 [-0.9074298, {'nll': -1.00456, 'durloss': 0.09713018}, None]\n",
      "99 [-0.91591144, {'nll': -1.0103604, 'durloss': 0.09444893}, None]\n",
      "100 [-0.9242976, {'nll': -1.0200852, 'durloss': 0.09578763}, None]\n",
      "101 [-0.924447, {'nll': -1.025406, 'durloss': 0.10095902}, None]\n",
      "102 [-0.95622563, {'nll': -1.034064, 'durloss': 0.07783841}, None]\n",
      "103 [-0.97155595, {'nll': -1.0408503, 'durloss': 0.06929434}, None]\n",
      "104 [-0.9822227, {'nll': -1.0479681, 'durloss': 0.065745465}, None]\n",
      "105 [-0.9975462, {'nll': -1.0560685, 'durloss': 0.058522336}, None]\n",
      "106 [-1.0071366, {'nll': -1.061023, 'durloss': 0.053886384}, None]\n",
      "107 [-1.0125762, {'nll': -1.0645325, 'durloss': 0.05195625}, None]\n",
      "108 [-1.0230596, {'nll': -1.0697454, 'durloss': 0.0466858}, None]\n",
      "109 [-1.0320904, {'nll': -1.0748085, 'durloss': 0.042718004}, None]\n",
      "110 [-1.0499109, {'nll': -1.0896636, 'durloss': 0.0397527}, None]\n",
      "111 [-1.0450162, {'nll': -1.0918736, 'durloss': 0.04685743}, None]\n",
      "112 [-1.0480446, {'nll': -1.0797892, 'durloss': 0.031744547}, None]\n",
      "113 [-1.0670376, {'nll': -1.0970824, 'durloss': 0.030044831}, None]\n",
      "114 [-1.0462093, {'nll': -1.0790775, 'durloss': 0.032868095}, None]\n",
      "115 [-1.0584339, {'nll': -1.0850962, 'durloss': 0.02666231}, None]\n",
      "116 [-1.0607964, {'nll': -1.0832405, 'durloss': 0.022444118}, None]\n",
      "117 [-1.0944335, {'nll': -1.1123405, 'durloss': 0.017906962}, None]\n",
      "118 [-1.0459644, {'nll': -1.1013021, 'durloss': 0.0553378}, None]\n",
      "119 [-1.1150051, {'nll': -1.1288284, 'durloss': 0.013823254}, None]\n",
      "120 [-1.1069646, {'nll': -1.127451, 'durloss': 0.020486403}, None]\n",
      "121 [-1.1197876, {'nll': -1.1398873, 'durloss': 0.020099748}, None]\n",
      "122 [-1.1365631, {'nll': -1.1514127, 'durloss': 0.014849692}, None]\n",
      "123 [-1.1385301, {'nll': -1.1530149, 'durloss': 0.014484804}, None]\n"
     ]
    },
    {
     "name": "stdout",
     "output_type": "stream",
     "text": [
      "124 [-1.1426055, {'nll': -1.1691126, 'durloss': 0.026507013}, None]\n",
      "125 [-1.1624092, {'nll': -1.170277, 'durloss': 0.00786776}, None]\n",
      "126 [-1.1608373, {'nll': -1.179018, 'durloss': 0.018180711}, None]\n",
      "127 [-1.179971, {'nll': -1.1906549, 'durloss': 0.010683918}, None]\n",
      "128 [-1.1881288, {'nll': -1.1953275, 'durloss': 0.007198702}, None]\n",
      "129 [-1.1987662, {'nll': -1.205138, 'durloss': 0.006371721}, None]\n",
      "130 [-1.2063403, {'nll': -1.210932, 'durloss': 0.0045916485}, None]\n",
      "131 [-1.2119085, {'nll': -1.2208841, 'durloss': 0.0089756325}, None]\n",
      "132 [-1.2206169, {'nll': -1.2270267, 'durloss': 0.0064097135}, None]\n",
      "133 [-1.2279757, {'nll': -1.2335775, 'durloss': 0.0056018047}, None]\n",
      "134 [-1.2297456, {'nll': -1.2386072, 'durloss': 0.0088616}, None]\n",
      "135 [-1.2216101, {'nll': -1.2341354, 'durloss': 0.012525357}, None]\n",
      "136 [-1.2157159, {'nll': -1.2305193, 'durloss': 0.01480342}, None]\n",
      "137 [-1.243334, {'nll': -1.2511158, 'durloss': 0.0077817277}, None]\n",
      "138 [-1.2490535, {'nll': -1.2638154, 'durloss': 0.014761917}, None]\n",
      "139 [-1.2456027, {'nll': -1.2580487, 'durloss': 0.012445962}, None]\n",
      "140 [-1.2580289, {'nll': -1.2683873, 'durloss': 0.010358456}, None]\n",
      "141 [-1.2497295, {'nll': -1.259172, 'durloss': 0.009442406}, None]\n",
      "142 [-1.249024, {'nll': -1.261931, 'durloss': 0.012906928}, None]\n",
      "143 [-1.2796676, {'nll': -1.2849692, 'durloss': 0.005301611}, None]\n",
      "144 [-1.2850927, {'nll': -1.2906246, 'durloss': 0.0055319187}, None]\n",
      "145 [-1.3016453, {'nll': -1.3056657, 'durloss': 0.0040204637}, None]\n",
      "146 [-1.2997317, {'nll': -1.3048441, 'durloss': 0.005112435}, None]\n",
      "147 [-1.3118972, {'nll': -1.3177897, 'durloss': 0.0058924793}, None]\n",
      "148 [-1.3179728, {'nll': -1.3253229, 'durloss': 0.0073501165}, None]\n",
      "149 [-1.3283268, {'nll': -1.3319099, 'durloss': 0.003583129}, None]\n",
      "150 [-1.3395773, {'nll': -1.3430805, 'durloss': 0.0035031966}, None]\n",
      "151 [-1.3449067, {'nll': -1.3477005, 'durloss': 0.002793793}, None]\n",
      "152 [-1.35133, {'nll': -1.3564643, 'durloss': 0.0051342845}, None]\n",
      "153 [-1.360963, {'nll': -1.3655686, 'durloss': 0.004605602}, None]\n",
      "154 [-1.3671964, {'nll': -1.369886, 'durloss': 0.0026895849}, None]\n",
      "155 [-1.3763078, {'nll': -1.3783325, 'durloss': 0.002024609}, None]\n",
      "156 [-1.3727231, {'nll': -1.3760154, 'durloss': 0.0032923769}, None]\n",
      "157 [-1.3503875, {'nll': -1.3555744, 'durloss': 0.005186862}, None]\n",
      "158 [-1.3214338, {'nll': -1.3260548, 'durloss': 0.0046210084}, None]\n",
      "159 [-1.3659011, {'nll': -1.3762436, 'durloss': 0.010342434}, None]\n",
      "160 [-1.3542072, {'nll': -1.358081, 'durloss': 0.0038738481}, None]\n",
      "161 [-1.3825245, {'nll': -1.387629, 'durloss': 0.0051046}, None]\n",
      "162 [-1.3742639, {'nll': -1.3782629, 'durloss': 0.0039990167}, None]\n",
      "163 [-1.3942367, {'nll': -1.4064276, 'durloss': 0.012190995}, None]\n",
      "164 [-1.3723887, {'nll': -1.3870422, 'durloss': 0.0146534955}, None]\n",
      "165 [-1.406472, {'nll': -1.4096065, 'durloss': 0.00313444}, None]\n",
      "166 [-1.4022251, {'nll': -1.4109392, 'durloss': 0.008714099}, None]\n",
      "167 [-1.4159801, {'nll': -1.422688, 'durloss': 0.0067078476}, None]\n",
      "168 [-1.4279994, {'nll': -1.4318423, 'durloss': 0.0038429499}, None]\n",
      "169 [-1.4342206, {'nll': -1.437213, 'durloss': 0.0029923776}, None]\n",
      "170 [-1.4425125, {'nll': -1.4499767, 'durloss': 0.0074641276}, None]\n",
      "171 [-1.4487557, {'nll': -1.452801, 'durloss': 0.004045251}, None]\n",
      "172 [-1.4605799, {'nll': -1.4638805, 'durloss': 0.0033006852}, None]\n",
      "173 [-1.4636462, {'nll': -1.4673121, 'durloss': 0.003665945}, None]\n",
      "174 [-1.4750962, {'nll': -1.4799025, 'durloss': 0.004806322}, None]\n",
      "175 [-1.4821239, {'nll': -1.4872189, 'durloss': 0.005095012}, None]\n",
      "176 [-1.4859202, {'nll': -1.4913042, 'durloss': 0.0053839744}, None]\n",
      "177 [-1.4984674, {'nll': -1.5010822, 'durloss': 0.0026147536}, None]\n",
      "178 [-1.4978606, {'nll': -1.5036379, 'durloss': 0.0057773287}, None]\n",
      "179 [-1.4993603, {'nll': -1.5067539, 'durloss': 0.007393614}, None]\n",
      "180 [-1.4913847, {'nll': -1.4961545, 'durloss': 0.004769803}, None]\n",
      "181 [-1.4723331, {'nll': -1.4770393, 'durloss': 0.00470621}, None]\n",
      "182 [-1.4902914, {'nll': -1.4940473, 'durloss': 0.003755968}, None]\n",
      "183 [-1.4909762, {'nll': -1.4935298, 'durloss': 0.0025536348}, None]\n",
      "184 [-1.4900659, {'nll': -1.4945763, 'durloss': 0.004510397}, None]\n",
      "185 [-1.5064164, {'nll': -1.5156732, 'durloss': 0.009256708}, None]\n",
      "186 [-1.5070878, {'nll': -1.5182066, 'durloss': 0.011118774}, None]\n",
      "187 [-1.5291882, {'nll': -1.5351055, 'durloss': 0.005917299}, None]\n",
      "188 [-1.5307367, {'nll': -1.537432, 'durloss': 0.0066952743}, None]\n",
      "189 [-1.5503882, {'nll': -1.5551783, 'durloss': 0.004790125}, None]\n",
      "190 [-1.5524061, {'nll': -1.557241, 'durloss': 0.004834924}, None]\n",
      "191 [-1.5624439, {'nll': -1.5690069, 'durloss': 0.006563085}, None]\n",
      "192 [-1.5712954, {'nll': -1.5751076, 'durloss': 0.0038121904}, None]\n",
      "193 [-1.5798944, {'nll': -1.582804, 'durloss': 0.002909588}, None]\n",
      "194 [-1.5891016, {'nll': -1.591963, 'durloss': 0.0028615594}, None]\n",
      "195 [-1.581354, {'nll': -1.5984237, 'durloss': 0.017069673}, None]\n",
      "196 [-1.591558, {'nll': -1.6037759, 'durloss': 0.012217922}, None]\n",
      "197 [-1.6098971, {'nll': -1.6112541, 'durloss': 0.0013569007}, None]\n",
      "198 [-1.6005598, {'nll': -1.6102406, 'durloss': 0.00968073}, None]\n",
      "199 [-1.5935009, {'nll': -1.6002748, 'durloss': 0.006774008}, None]\n"
     ]
    }
   ],
   "source": [
    "for k in range(200):\n",
    "    o = sess.run([loss, losses, optimizer], feed_dict = {i: [data['text_ids'][0],data['text_ids'][0]],\n",
    "                                               i_lengths: [data['len_text_ids'][0,0], data['len_text_ids'][0,0]],\n",
    "                                               mel_outputs: [data['mel'].astype(np.float32)[0],data['mel'].astype(np.float32)[0]],\n",
    "                                               mel_lengths: [408, 408],\n",
    "                                               speakers: v_})\n",
    "    print(k, o)"
   ]
  },
  {
   "cell_type": "code",
   "execution_count": 22,
   "metadata": {},
   "outputs": [
    {
     "name": "stdout",
     "output_type": "stream",
     "text": [
      "CPU times: user 854 ms, sys: 203 ms, total: 1.06 s\n",
      "Wall time: 225 ms\n"
     ]
    }
   ],
   "source": [
    "%%time\n",
    "\n",
    "o = sess.run([loss, losses, attn], feed_dict = {i: [data['text_ids'][0],data['text_ids'][0]],\n",
    "                                               i_lengths: [data['len_text_ids'][0,0], data['len_text_ids'][0,0]],\n",
    "                                               mel_outputs: [data['mel'].astype(np.float32)[0],data['mel'].astype(np.float32)[0]],\n",
    "                                               mel_lengths: [408, 408],\n",
    "                                               speakers: v_})"
   ]
  },
  {
   "cell_type": "code",
   "execution_count": 23,
   "metadata": {},
   "outputs": [],
   "source": [
    "o = sess.run([mel, mellen, attn_out], feed_dict = {i: [data['text_ids'][0],data['text_ids'][0]],\n",
    "                                               i_lengths: [data['len_text_ids'][0,0], data['len_text_ids'][0,0]],\n",
    "                                        mel_outputs: [data['mel'].astype(np.float32)[0],data['mel'].astype(np.float32)[0]],\n",
    "                                               mel_lengths: [408, 408],\n",
    "                                                  speakers: v_})"
   ]
  },
  {
   "cell_type": "code",
   "execution_count": 24,
   "metadata": {},
   "outputs": [
    {
     "data": {
      "image/png": "[encoded data removed]",
      "text/plain": [
       "<Figure size 720x576 with 2 Axes>"
      ]
     },
     "metadata": {
      "needs_background": "light"
     },
     "output_type": "display_data"
    }
   ],
   "source": [
    "mel_outputs_ = np.reshape(o[0][0], [-1, 80])\n",
    "fig = plt.figure(figsize=(10, 8))\n",
    "ax1 = fig.add_subplot(311)\n",
    "ax1.set_title(f'Predicted Mel-before-Spectrogram')\n",
    "im = ax1.imshow(np.rot90(mel_outputs_), aspect='auto', interpolation='none')\n",
    "fig.colorbar(mappable=im, shrink=0.65, orientation='horizontal', ax=ax1)\n",
    "plt.show()"
   ]
  },
  {
   "cell_type": "code",
   "execution_count": 25,
   "metadata": {},
   "outputs": [
    {
     "data": {
      "image/png": "[encoded data removed]",
      "text/plain": [
       "<Figure size 576x432 with 2 Axes>"
      ]
     },
     "metadata": {
      "needs_background": "light"
     },
     "output_type": "display_data"
    }
   ],
   "source": [
    "fig = plt.figure(figsize=(8, 6))\n",
    "ax = fig.add_subplot(111)\n",
    "ax.set_title('Alignment steps')\n",
    "im = ax.imshow(\n",
    "    o[-1][0],\n",
    "    aspect='auto',\n",
    "    origin='lower',\n",
    "    interpolation='none')\n",
    "fig.colorbar(im, ax=ax)\n",
    "xlabel = 'Decoder timestep'\n",
    "plt.xlabel(xlabel)\n",
    "plt.ylabel('Encoder timestep')\n",
    "plt.tight_layout()\n",
    "plt.show()"
   ]
  },
  {
   "cell_type": "code",
   "execution_count": 26,
   "metadata": {},
   "outputs": [
    {
     "data": {
      "text/plain": [
       "'test/model.ckpt'"
      ]
     },
     "execution_count": 26,
     "metadata": {},
     "output_type": "execute_result"
    }
   ],
   "source": [
    "saver = tf.train.Saver()\n",
    "saver.save(sess, 'test/model.ckpt')"
   ]
  },
  {
   "cell_type": "code",
   "execution_count": 27,
   "metadata": {},
   "outputs": [
    {
     "name": "stdout",
     "output_type": "stream",
     "text": [
      "total 1009896\r\n",
      "-rw-r--r--  1 huseinzolkepli  staff    77B Oct 14 13:29 checkpoint\r\n",
      "-rw-r--r--  1 huseinzolkepli  staff   453M Oct 14 13:29 model.ckpt.data-00000-of-00001\r\n",
      "-rw-r--r--  1 huseinzolkepli  staff    89K Oct 14 13:29 model.ckpt.index\r\n",
      "-rw-r--r--  1 huseinzolkepli  staff    32M Oct 14 13:29 model.ckpt.meta\r\n"
     ]
    }
   ],
   "source": [
    "!ls -lh test"
   ]
  },
  {
   "cell_type": "code",
   "execution_count": null,
   "metadata": {},
   "outputs": [],
   "source": []
  }
 ],
 "metadata": {
  "kernelspec": {
   "display_name": "Python 3",
   "language": "python",
   "name": "python3"
  },
  "language_info": {
   "codemirror_mode": {
    "name": "ipython",
    "version": 3
   },
   "file_extension": ".py",
   "mimetype": "text/x-python",
   "name": "python",
   "nbconvert_exporter": "python",
   "pygments_lexer": "ipython3",
   "version": "3.7.7"
  }
 },
 "nbformat": 4,
 "nbformat_minor": 4
}

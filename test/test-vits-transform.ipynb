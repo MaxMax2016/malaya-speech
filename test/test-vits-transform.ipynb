{
 "cells": [
  {
   "cell_type": "code",
   "execution_count": 1,
   "id": "b0226719",
   "metadata": {},
   "outputs": [],
   "source": [
    "import os\n",
    "\n",
    "os.environ['CUDA_VISIBLE_DEVICES'] = ''\n",
    "os.environ['TF_FORCE_GPU_ALLOW_GROWTH'] = 'true'"
   ]
  },
  {
   "cell_type": "code",
   "execution_count": 2,
   "id": "700ebca1",
   "metadata": {},
   "outputs": [
    {
     "name": "stdout",
     "output_type": "stream",
     "text": [
      "WARNING:tensorflow:Deprecation warnings have been disabled. Set TF_ENABLE_DEPRECATION_WARNINGS=1 to re-enable them.\n"
     ]
    },
    {
     "name": "stderr",
     "output_type": "stream",
     "text": [
      "2022-06-17 14:51:30.663692: I tensorflow/stream_executor/platform/default/dso_loader.cc:49] Successfully opened dynamic library libcudart.so.11.0\n",
      "/home/ubuntu/tf-nvidia/lib/python3.8/site-packages/tqdm/auto.py:22: TqdmWarning: IProgress not found. Please update jupyter and ipywidgets. See https://ipywidgets.readthedocs.io/en/stable/user_install.html\n",
      "  from .autonotebook import tqdm as notebook_tqdm\n"
     ]
    }
   ],
   "source": [
    "import tensorflow as tf\n",
    "import torch\n",
    "import numpy as np\n",
    "import math\n",
    "from torch.nn import functional as F"
   ]
  },
  {
   "cell_type": "code",
   "execution_count": 3,
   "id": "f6f56781",
   "metadata": {},
   "outputs": [],
   "source": [
    "tf.compat.v1.enable_eager_execution()"
   ]
  },
  {
   "cell_type": "code",
   "execution_count": 4,
   "id": "d75177a9",
   "metadata": {},
   "outputs": [],
   "source": [
    "# depthwise_conv = tf.keras.layers.DepthwiseConv2D((5, 1),dilation_rate = 5, padding='SAME')"
   ]
  },
  {
   "cell_type": "code",
   "execution_count": 5,
   "id": "c9416207",
   "metadata": {},
   "outputs": [
    {
     "name": "stderr",
     "output_type": "stream",
     "text": [
      "2022-06-17 14:51:36.749928: I tensorflow/stream_executor/platform/default/dso_loader.cc:49] Successfully opened dynamic library libcuda.so.1\n",
      "2022-06-17 14:51:36.778511: E tensorflow/stream_executor/cuda/cuda_driver.cc:282] failed call to cuInit: CUDA_ERROR_NO_DEVICE: no CUDA-capable device is detected\n",
      "2022-06-17 14:51:36.778535: I tensorflow/stream_executor/cuda/cuda_diagnostics.cc:169] retrieving CUDA diagnostic information for host: huseincomel-desktop\n",
      "2022-06-17 14:51:36.778538: I tensorflow/stream_executor/cuda/cuda_diagnostics.cc:176] hostname: huseincomel-desktop\n",
      "2022-06-17 14:51:36.778572: I tensorflow/stream_executor/cuda/cuda_diagnostics.cc:200] libcuda reported version is: 470.129.6\n",
      "2022-06-17 14:51:36.778587: I tensorflow/stream_executor/cuda/cuda_diagnostics.cc:204] kernel reported version is: 470.129.6\n",
      "2022-06-17 14:51:36.778590: I tensorflow/stream_executor/cuda/cuda_diagnostics.cc:310] kernel version seems to match DSO: 470.129.6\n",
      "2022-06-17 14:51:36.789308: I tensorflow/core/platform/profile_utils/cpu_utils.cc:109] CPU Frequency: 2496000000 Hz\n",
      "2022-06-17 14:51:36.789673: I tensorflow/compiler/xla/service/service.cc:168] XLA service 0x6316920 initialized for platform Host (this does not guarantee that XLA will be used). Devices:\n",
      "2022-06-17 14:51:36.789687: I tensorflow/compiler/xla/service/service.cc:176]   StreamExecutor device (0): Host, Default Version\n"
     ]
    }
   ],
   "source": [
    "x = tf.random.normal(shape = (2, 5, 100))"
   ]
  },
  {
   "cell_type": "code",
   "execution_count": 6,
   "id": "39b0675f",
   "metadata": {},
   "outputs": [],
   "source": [
    "# tf.concat([x[..., :-1], tf.expand_dims(x[..., -1] + 1e-6, -1)], axis = -1)"
   ]
  },
  {
   "cell_type": "code",
   "execution_count": 7,
   "id": "69d04594",
   "metadata": {},
   "outputs": [
    {
     "data": {
      "text/plain": [
       "2900"
      ]
     },
     "execution_count": 7,
     "metadata": {},
     "output_type": "execute_result"
    }
   ],
   "source": [
    "half_channels = 100\n",
    "num_bins = 10\n",
    "half_channels * (num_bins * 3 - 1)"
   ]
  },
  {
   "cell_type": "code",
   "execution_count": 8,
   "id": "ab418ae0",
   "metadata": {},
   "outputs": [
    {
     "data": {
      "text/plain": [
       "(2, 100, 5, 29)"
      ]
     },
     "execution_count": 8,
     "metadata": {},
     "output_type": "execute_result"
    }
   ],
   "source": [
    "inputs = np.random.normal(size = (2, 100, 5)).astype(np.float32)\n",
    "h = np.random.normal(size = (2, 2900, 5)).astype(np.float32)\n",
    "b = 2\n",
    "c = 100\n",
    "t = 5\n",
    "h = np.transpose(np.reshape(h, [b, c, -1, t]), [0, 1, 3, 2])\n",
    "h.shape"
   ]
  },
  {
   "cell_type": "code",
   "execution_count": 31,
   "id": "0860b523",
   "metadata": {},
   "outputs": [
    {
     "data": {
      "text/plain": [
       "((2, 100, 5, 10), (2, 100, 5, 10), (2, 100, 5, 9))"
      ]
     },
     "execution_count": 31,
     "metadata": {},
     "output_type": "execute_result"
    }
   ],
   "source": [
    "unnormalized_widths = h[:, :, :, :num_bins]\n",
    "unnormalized_heights = h[:, :, :, num_bins:2*num_bins]\n",
    "unnormalized_derivatives = h[:, :, :, 2 * num_bins:]\n",
    "unnormalized_widths.shape, unnormalized_heights.shape, unnormalized_derivatives.shape"
   ]
  },
  {
   "cell_type": "code",
   "execution_count": 32,
   "id": "a56955bb",
   "metadata": {},
   "outputs": [],
   "source": [
    "inputs_tf = tf.convert_to_tensor(inputs)\n",
    "inputs_pt = torch.from_numpy(inputs)\n",
    "unnormalized_widths_pt = torch.from_numpy(unnormalized_widths)\n",
    "unnormalized_widths_tf = tf.convert_to_tensor(unnormalized_widths)\n",
    "unnormalized_derivatives_tf = tf.convert_to_tensor(unnormalized_derivatives)\n",
    "unnormalized_heights_tf = tf.convert_to_tensor(unnormalized_heights)\n",
    "\n",
    "unnormalized_derivatives_pt = torch.from_numpy(unnormalized_derivatives)\n",
    "unnormalized_heights_pt = torch.from_numpy(unnormalized_heights)"
   ]
  },
  {
   "cell_type": "code",
   "execution_count": 11,
   "id": "c356249a",
   "metadata": {},
   "outputs": [
    {
     "data": {
      "text/plain": [
       "TensorShape([Dimension(706)])"
      ]
     },
     "execution_count": 11,
     "metadata": {},
     "output_type": "execute_result"
    }
   ],
   "source": [
    "tail_bound = 1.0\n",
    "inside_interval_mask = (inputs >= -tail_bound) & (inputs <= tail_bound)\n",
    "outside_interval_mask = ~inside_interval_mask\n",
    "inputs_tf[inside_interval_mask].shape"
   ]
  },
  {
   "cell_type": "code",
   "execution_count": 12,
   "id": "51f2c2c9",
   "metadata": {},
   "outputs": [
    {
     "data": {
      "text/plain": [
       "TensorShape([Dimension(2), Dimension(100), Dimension(5), Dimension(10)])"
      ]
     },
     "execution_count": 12,
     "metadata": {},
     "output_type": "execute_result"
    }
   ],
   "source": [
    "unnormalized_heights_tf.shape"
   ]
  },
  {
   "cell_type": "code",
   "execution_count": 13,
   "id": "fff0f527",
   "metadata": {},
   "outputs": [],
   "source": [
    "d = tf.shape(unnormalized_widths_tf)[-1]\n",
    "unnormalized_widths_tf = unnormalized_widths_tf[tf.tile(tf.expand_dims(inside_interval_mask, -1), [1,1,1, d])]\n",
    "unnormalized_widths_tf = tf.reshape(unnormalized_widths_tf, [-1, d])\n",
    "\n",
    "d = tf.shape(unnormalized_heights_tf)[-1]\n",
    "unnormalized_heights_tf = unnormalized_heights_tf[tf.tile(tf.expand_dims(inside_interval_mask, -1), [1,1,1, d])]\n",
    "unnormalized_heights_tf = tf.reshape(unnormalized_heights_tf, [-1, d])\n",
    "\n",
    "d = tf.shape(unnormalized_derivatives_tf)[-1]\n",
    "unnormalized_derivatives_tf = unnormalized_derivatives_tf[tf.tile(tf.expand_dims(inside_interval_mask, -1), [1,1,1, d])]\n",
    "unnormalized_derivatives_tf = tf.reshape(unnormalized_derivatives_tf, [-1, d])"
   ]
  },
  {
   "cell_type": "code",
   "execution_count": 14,
   "id": "0a2fda22",
   "metadata": {},
   "outputs": [
    {
     "data": {
      "text/plain": [
       "<tf.Tensor: id=80, shape=(706, 10), dtype=float32, numpy=\n",
       "array([[-1.9023976 ,  1.0981514 ,  2.0500915 , ...,  0.6847241 ,\n",
       "         0.7687547 , -0.5549106 ],\n",
       "       [ 2.05902   ,  1.120718  , -0.48864928, ..., -0.04568215,\n",
       "        -1.6403083 , -2.2799225 ],\n",
       "       [ 0.56897897,  0.8485505 ,  1.1065133 , ...,  0.9879283 ,\n",
       "        -1.2290384 , -0.72810787],\n",
       "       ...,\n",
       "       [-2.1979778 ,  1.1859202 ,  0.25839475, ..., -0.08144075,\n",
       "         1.3474473 , -0.08661917],\n",
       "       [ 1.7538358 ,  1.2065862 , -0.38038737, ...,  0.90097886,\n",
       "         0.30276212,  0.18352847],\n",
       "       [ 0.40946227, -1.3744577 , -1.1465975 , ..., -0.65348977,\n",
       "        -1.9920306 ,  0.64239913]], dtype=float32)>"
      ]
     },
     "execution_count": 14,
     "metadata": {},
     "output_type": "execute_result"
    }
   ],
   "source": [
    "unnormalized_widths_tf"
   ]
  },
  {
   "cell_type": "code",
   "execution_count": 15,
   "id": "d6e6189f",
   "metadata": {},
   "outputs": [],
   "source": [
    "def searchsorted(bin_locations, inputs, eps=1e-6):\n",
    "    bin_locations[..., -1] += eps\n",
    "    return torch.sum(\n",
    "        inputs[..., None] >= bin_locations,\n",
    "        dim=-1\n",
    "    ) - 1\n",
    "\n",
    "def searchsorted_tf(bin_locations, inputs, eps=1e-6):\n",
    "    bin_locations = tf.concat([\n",
    "        bin_locations[..., :-1],\n",
    "        tf.expand_dims(bin_locations[..., -1] + 1e-6, -1)], axis=-1)\n",
    "    return tf.reduce_sum(\n",
    "        tf.cast(inputs[..., None] >= bin_locations, tf.int32),\n",
    "        axis=-1\n",
    "    ) - 1"
   ]
  },
  {
   "cell_type": "code",
   "execution_count": 33,
   "id": "eaf99895",
   "metadata": {},
   "outputs": [],
   "source": [
    "left=0. \n",
    "right=1.\n",
    "bottom=0.\n",
    "top=1.\n",
    "min_bin_width = 1e-3\n",
    "min_bin_height = 1e-3\n",
    "min_derivative = 1e-3"
   ]
  },
  {
   "cell_type": "code",
   "execution_count": 16,
   "id": "cd1ae673",
   "metadata": {},
   "outputs": [],
   "source": [
    "unnormalized_widths = unnormalized_widths_tf\n",
    "num_bins = tf.shape(unnormalized_widths)[-1]\n",
    "\n",
    "widths = tf.nn.softmax(unnormalized_widths, axis=-1)\n",
    "widths = min_bin_width + (1 - min_bin_width * tf.cast(num_bins, tf.float32)) * widths\n",
    "cumwidths = tf.cumsum(widths, axis=-1)\n",
    "cumwidths = tf.pad(cumwidths, [[0, 0], [1, 0]])\n",
    "cumwidths = (right - left) * cumwidths + left"
   ]
  },
  {
   "cell_type": "code",
   "execution_count": 17,
   "id": "24f8332d",
   "metadata": {},
   "outputs": [],
   "source": [
    "unnormalized_derivatives = unnormalized_derivatives_tf\n",
    "unnormalized_heights = unnormalized_heights_tf"
   ]
  },
  {
   "cell_type": "code",
   "execution_count": 18,
   "id": "cbeb5275",
   "metadata": {},
   "outputs": [
    {
     "data": {
      "text/plain": [
       "TensorShape([Dimension(706), Dimension(10)])"
      ]
     },
     "execution_count": 18,
     "metadata": {},
     "output_type": "execute_result"
    }
   ],
   "source": [
    "unnormalized_heights.shape"
   ]
  },
  {
   "cell_type": "code",
   "execution_count": 19,
   "id": "0f9f9344",
   "metadata": {},
   "outputs": [],
   "source": [
    "cumwidths = tf.concat([\n",
    "    tf.expand_dims(tf.fill(tf.shape(cumwidths[..., 0]), left), -1),\n",
    "    cumwidths[..., 1:-1],\n",
    "    tf.expand_dims(tf.fill(tf.shape(cumwidths[..., -1]), right), -1),\n",
    "], axis = -1)\n",
    "widths = cumwidths[..., 1:] - cumwidths[..., :-1]\n",
    "\n",
    "derivatives = min_derivative + tf.math.softplus(unnormalized_derivatives)\n",
    "\n",
    "heights = tf.nn.softmax(unnormalized_heights, axis=-1)\n",
    "heights = min_bin_height + (1 - min_bin_height * tf.cast(num_bins, tf.float32)) * heights\n",
    "cumheights = tf.cumsum(heights, axis=-1)\n",
    "cumheights = tf.pad(cumheights, [[0, 0], [1, 0]])\n",
    "\n",
    "# cumheights[..., 0] = bottom\n",
    "# cumheights[..., -1] = top\n",
    "\n",
    "cumheights = tf.concat([\n",
    "    tf.expand_dims(tf.fill(tf.shape(cumheights[..., 0]), bottom), -1),\n",
    "    cumheights[..., 1:-1],\n",
    "    tf.expand_dims(tf.fill(tf.shape(cumheights[..., -1]), top), -1),\n",
    "], axis=-1)\n",
    "\n",
    "heights = cumheights[..., 1:] - cumheights[..., :-1]"
   ]
  },
  {
   "cell_type": "code",
   "execution_count": 20,
   "id": "a159477e",
   "metadata": {},
   "outputs": [
    {
     "data": {
      "text/plain": [
       "<tf.Tensor: id=326, shape=(706, 1), dtype=int32, numpy=\n",
       "array([[-1],\n",
       "       [ 5],\n",
       "       [ 4],\n",
       "       [-1],\n",
       "       [ 3],\n",
       "       [ 4],\n",
       "       [-1],\n",
       "       [ 1],\n",
       "       [-1],\n",
       "       [-1],\n",
       "       [-1],\n",
       "       [ 2],\n",
       "       [-1],\n",
       "       [-1],\n",
       "       [-1],\n",
       "       [-1],\n",
       "       [ 2],\n",
       "       [ 5],\n",
       "       [-1],\n",
       "       [ 5],\n",
       "       [ 3],\n",
       "       [-1],\n",
       "       [ 6],\n",
       "       [ 1],\n",
       "       [ 5],\n",
       "       [-1],\n",
       "       [ 2],\n",
       "       [ 7],\n",
       "       [ 7],\n",
       "       [ 4],\n",
       "       [-1],\n",
       "       [ 1],\n",
       "       [ 5],\n",
       "       [ 1],\n",
       "       [ 4],\n",
       "       [-1],\n",
       "       [ 1],\n",
       "       [-1],\n",
       "       [ 0],\n",
       "       [-1],\n",
       "       [ 3],\n",
       "       [-1],\n",
       "       [-1],\n",
       "       [ 0],\n",
       "       [-1],\n",
       "       [-1],\n",
       "       [ 0],\n",
       "       [-1],\n",
       "       [-1],\n",
       "       [ 6],\n",
       "       [-1],\n",
       "       [-1],\n",
       "       [ 1],\n",
       "       [-1],\n",
       "       [ 8],\n",
       "       [ 1],\n",
       "       [-1],\n",
       "       [ 1],\n",
       "       [ 9],\n",
       "       [-1],\n",
       "       [ 0],\n",
       "       [-1],\n",
       "       [ 5],\n",
       "       [ 7],\n",
       "       [-1],\n",
       "       [ 2],\n",
       "       [-1],\n",
       "       [-1],\n",
       "       [-1],\n",
       "       [-1],\n",
       "       [-1],\n",
       "       [-1],\n",
       "       [-1],\n",
       "       [-1],\n",
       "       [-1],\n",
       "       [ 2],\n",
       "       [ 7],\n",
       "       [ 6],\n",
       "       [-1],\n",
       "       [ 2],\n",
       "       [ 4],\n",
       "       [ 6],\n",
       "       [ 9],\n",
       "       [-1],\n",
       "       [-1],\n",
       "       [ 4],\n",
       "       [-1],\n",
       "       [ 6],\n",
       "       [-1],\n",
       "       [ 5],\n",
       "       [-1],\n",
       "       [-1],\n",
       "       [ 2],\n",
       "       [-1],\n",
       "       [ 1],\n",
       "       [-1],\n",
       "       [ 9],\n",
       "       [ 1],\n",
       "       [-1],\n",
       "       [ 6],\n",
       "       [ 8],\n",
       "       [-1],\n",
       "       [ 9],\n",
       "       [ 7],\n",
       "       [-1],\n",
       "       [ 3],\n",
       "       [ 3],\n",
       "       [ 5],\n",
       "       [ 5],\n",
       "       [ 6],\n",
       "       [ 9],\n",
       "       [ 5],\n",
       "       [ 1],\n",
       "       [ 9],\n",
       "       [-1],\n",
       "       [ 4],\n",
       "       [ 7],\n",
       "       [ 7],\n",
       "       [-1],\n",
       "       [-1],\n",
       "       [ 6],\n",
       "       [ 3],\n",
       "       [-1],\n",
       "       [-1],\n",
       "       [-1],\n",
       "       [ 5],\n",
       "       [ 3],\n",
       "       [-1],\n",
       "       [-1],\n",
       "       [-1],\n",
       "       [ 9],\n",
       "       [ 9],\n",
       "       [-1],\n",
       "       [-1],\n",
       "       [ 0],\n",
       "       [ 4],\n",
       "       [-1],\n",
       "       [-1],\n",
       "       [-1],\n",
       "       [-1],\n",
       "       [ 4],\n",
       "       [ 2],\n",
       "       [ 1],\n",
       "       [ 5],\n",
       "       [-1],\n",
       "       [-1],\n",
       "       [-1],\n",
       "       [ 1],\n",
       "       [-1],\n",
       "       [ 4],\n",
       "       [ 6],\n",
       "       [-1],\n",
       "       [ 8],\n",
       "       [ 5],\n",
       "       [-1],\n",
       "       [ 9],\n",
       "       [-1],\n",
       "       [ 5],\n",
       "       [ 7],\n",
       "       [ 2],\n",
       "       [ 8],\n",
       "       [ 4],\n",
       "       [ 5],\n",
       "       [ 9],\n",
       "       [-1],\n",
       "       [ 8],\n",
       "       [-1],\n",
       "       [ 2],\n",
       "       [-1],\n",
       "       [ 5],\n",
       "       [ 3],\n",
       "       [ 0],\n",
       "       [-1],\n",
       "       [-1],\n",
       "       [-1],\n",
       "       [-1],\n",
       "       [-1],\n",
       "       [-1],\n",
       "       [ 0],\n",
       "       [-1],\n",
       "       [-1],\n",
       "       [-1],\n",
       "       [-1],\n",
       "       [ 4],\n",
       "       [ 0],\n",
       "       [-1],\n",
       "       [-1],\n",
       "       [ 1],\n",
       "       [ 3],\n",
       "       [ 5],\n",
       "       [-1],\n",
       "       [ 5],\n",
       "       [ 2],\n",
       "       [-1],\n",
       "       [ 3],\n",
       "       [-1],\n",
       "       [-1],\n",
       "       [ 7],\n",
       "       [ 1],\n",
       "       [-1],\n",
       "       [-1],\n",
       "       [ 0],\n",
       "       [-1],\n",
       "       [-1],\n",
       "       [-1],\n",
       "       [ 9],\n",
       "       [-1],\n",
       "       [ 2],\n",
       "       [-1],\n",
       "       [-1],\n",
       "       [ 9],\n",
       "       [-1],\n",
       "       [ 1],\n",
       "       [ 8],\n",
       "       [-1],\n",
       "       [ 4],\n",
       "       [ 0],\n",
       "       [ 7],\n",
       "       [ 2],\n",
       "       [-1],\n",
       "       [ 7],\n",
       "       [ 3],\n",
       "       [-1],\n",
       "       [ 7],\n",
       "       [ 1],\n",
       "       [-1],\n",
       "       [ 2],\n",
       "       [-1],\n",
       "       [-1],\n",
       "       [ 1],\n",
       "       [ 8],\n",
       "       [ 8],\n",
       "       [-1],\n",
       "       [-1],\n",
       "       [ 0],\n",
       "       [-1],\n",
       "       [-1],\n",
       "       [ 6],\n",
       "       [ 5],\n",
       "       [ 4],\n",
       "       [-1],\n",
       "       [-1],\n",
       "       [-1],\n",
       "       [-1],\n",
       "       [-1],\n",
       "       [ 5],\n",
       "       [ 0],\n",
       "       [ 3],\n",
       "       [ 4],\n",
       "       [ 3],\n",
       "       [ 7],\n",
       "       [ 4],\n",
       "       [-1],\n",
       "       [ 3],\n",
       "       [-1],\n",
       "       [-1],\n",
       "       [-1],\n",
       "       [ 0],\n",
       "       [-1],\n",
       "       [ 2],\n",
       "       [-1],\n",
       "       [ 2],\n",
       "       [-1],\n",
       "       [-1],\n",
       "       [ 3],\n",
       "       [-1],\n",
       "       [ 4],\n",
       "       [ 2],\n",
       "       [ 5],\n",
       "       [-1],\n",
       "       [ 9],\n",
       "       [-1],\n",
       "       [ 6],\n",
       "       [ 2],\n",
       "       [ 7],\n",
       "       [ 3],\n",
       "       [-1],\n",
       "       [ 2],\n",
       "       [ 8],\n",
       "       [-1],\n",
       "       [ 0],\n",
       "       [ 8],\n",
       "       [-1],\n",
       "       [-1],\n",
       "       [ 1],\n",
       "       [ 2],\n",
       "       [ 9],\n",
       "       [-1],\n",
       "       [-1],\n",
       "       [ 5],\n",
       "       [ 6],\n",
       "       [-1],\n",
       "       [-1],\n",
       "       [ 8],\n",
       "       [ 4],\n",
       "       [-1],\n",
       "       [ 4],\n",
       "       [-1],\n",
       "       [ 7],\n",
       "       [-1],\n",
       "       [ 4],\n",
       "       [ 4],\n",
       "       [-1],\n",
       "       [-1],\n",
       "       [ 0],\n",
       "       [ 2],\n",
       "       [ 3],\n",
       "       [-1],\n",
       "       [-1],\n",
       "       [ 2],\n",
       "       [-1],\n",
       "       [-1],\n",
       "       [-1],\n",
       "       [-1],\n",
       "       [-1],\n",
       "       [-1],\n",
       "       [-1],\n",
       "       [ 9],\n",
       "       [-1],\n",
       "       [ 1],\n",
       "       [-1],\n",
       "       [ 2],\n",
       "       [ 2],\n",
       "       [-1],\n",
       "       [-1],\n",
       "       [-1],\n",
       "       [-1],\n",
       "       [ 5],\n",
       "       [-1],\n",
       "       [-1],\n",
       "       [ 4],\n",
       "       [ 4],\n",
       "       [ 4],\n",
       "       [ 1],\n",
       "       [-1],\n",
       "       [ 0],\n",
       "       [ 4],\n",
       "       [ 5],\n",
       "       [ 3],\n",
       "       [-1],\n",
       "       [ 2],\n",
       "       [ 6],\n",
       "       [-1],\n",
       "       [-1],\n",
       "       [-1],\n",
       "       [-1],\n",
       "       [-1],\n",
       "       [ 2],\n",
       "       [ 6],\n",
       "       [-1],\n",
       "       [ 4],\n",
       "       [ 0],\n",
       "       [ 2],\n",
       "       [-1],\n",
       "       [-1],\n",
       "       [ 4],\n",
       "       [-1],\n",
       "       [-1],\n",
       "       [-1],\n",
       "       [-1],\n",
       "       [-1],\n",
       "       [-1],\n",
       "       [-1],\n",
       "       [ 6],\n",
       "       [-1],\n",
       "       [-1],\n",
       "       [-1],\n",
       "       [-1],\n",
       "       [ 2],\n",
       "       [ 1],\n",
       "       [ 2],\n",
       "       [-1],\n",
       "       [ 9],\n",
       "       [-1],\n",
       "       [ 6],\n",
       "       [ 3],\n",
       "       [-1],\n",
       "       [-1],\n",
       "       [-1],\n",
       "       [-1],\n",
       "       [-1],\n",
       "       [-1],\n",
       "       [ 6],\n",
       "       [-1],\n",
       "       [ 9],\n",
       "       [-1],\n",
       "       [-1],\n",
       "       [-1],\n",
       "       [-1],\n",
       "       [-1],\n",
       "       [ 1],\n",
       "       [-1],\n",
       "       [-1],\n",
       "       [ 0],\n",
       "       [ 4],\n",
       "       [ 8],\n",
       "       [ 8],\n",
       "       [ 5],\n",
       "       [ 7],\n",
       "       [ 7],\n",
       "       [-1],\n",
       "       [ 8],\n",
       "       [-1],\n",
       "       [-1],\n",
       "       [ 8],\n",
       "       [ 1],\n",
       "       [-1],\n",
       "       [-1],\n",
       "       [-1],\n",
       "       [-1],\n",
       "       [-1],\n",
       "       [-1],\n",
       "       [-1],\n",
       "       [-1],\n",
       "       [-1],\n",
       "       [-1],\n",
       "       [-1],\n",
       "       [-1],\n",
       "       [ 3],\n",
       "       [-1],\n",
       "       [ 3],\n",
       "       [-1],\n",
       "       [ 5],\n",
       "       [-1],\n",
       "       [ 1],\n",
       "       [ 2],\n",
       "       [-1],\n",
       "       [-1],\n",
       "       [-1],\n",
       "       [ 0],\n",
       "       [ 1],\n",
       "       [-1],\n",
       "       [ 6],\n",
       "       [-1],\n",
       "       [ 4],\n",
       "       [-1],\n",
       "       [-1],\n",
       "       [ 5],\n",
       "       [ 4],\n",
       "       [ 1],\n",
       "       [-1],\n",
       "       [ 0],\n",
       "       [ 9],\n",
       "       [ 2],\n",
       "       [-1],\n",
       "       [-1],\n",
       "       [ 5],\n",
       "       [-1],\n",
       "       [-1],\n",
       "       [ 9],\n",
       "       [ 7],\n",
       "       [ 7],\n",
       "       [ 6],\n",
       "       [-1],\n",
       "       [ 4],\n",
       "       [-1],\n",
       "       [-1],\n",
       "       [ 3],\n",
       "       [-1],\n",
       "       [-1],\n",
       "       [-1],\n",
       "       [-1],\n",
       "       [-1],\n",
       "       [-1],\n",
       "       [-1],\n",
       "       [-1],\n",
       "       [-1],\n",
       "       [-1],\n",
       "       [ 2],\n",
       "       [ 5],\n",
       "       [-1],\n",
       "       [ 7],\n",
       "       [ 2],\n",
       "       [-1],\n",
       "       [-1],\n",
       "       [ 2],\n",
       "       [ 7],\n",
       "       [-1],\n",
       "       [ 3],\n",
       "       [-1],\n",
       "       [-1],\n",
       "       [ 6],\n",
       "       [-1],\n",
       "       [ 9],\n",
       "       [-1],\n",
       "       [ 2],\n",
       "       [ 2],\n",
       "       [-1],\n",
       "       [ 4],\n",
       "       [-1],\n",
       "       [ 7],\n",
       "       [-1],\n",
       "       [-1],\n",
       "       [ 8],\n",
       "       [ 4],\n",
       "       [ 7],\n",
       "       [-1],\n",
       "       [-1],\n",
       "       [-1],\n",
       "       [-1],\n",
       "       [ 1],\n",
       "       [-1],\n",
       "       [ 8],\n",
       "       [-1],\n",
       "       [ 1],\n",
       "       [-1],\n",
       "       [ 2],\n",
       "       [-1],\n",
       "       [-1],\n",
       "       [-1],\n",
       "       [-1],\n",
       "       [-1],\n",
       "       [ 4],\n",
       "       [-1],\n",
       "       [ 7],\n",
       "       [ 9],\n",
       "       [-1],\n",
       "       [-1],\n",
       "       [ 3],\n",
       "       [ 5],\n",
       "       [-1],\n",
       "       [-1],\n",
       "       [-1],\n",
       "       [ 8],\n",
       "       [ 1],\n",
       "       [ 0],\n",
       "       [-1],\n",
       "       [-1],\n",
       "       [-1],\n",
       "       [ 3],\n",
       "       [-1],\n",
       "       [ 4],\n",
       "       [-1],\n",
       "       [ 0],\n",
       "       [-1],\n",
       "       [-1],\n",
       "       [-1],\n",
       "       [-1],\n",
       "       [-1],\n",
       "       [ 5],\n",
       "       [-1],\n",
       "       [-1],\n",
       "       [-1],\n",
       "       [ 2],\n",
       "       [-1],\n",
       "       [ 4],\n",
       "       [ 4],\n",
       "       [ 3],\n",
       "       [-1],\n",
       "       [-1],\n",
       "       [ 6],\n",
       "       [ 2],\n",
       "       [-1],\n",
       "       [ 2],\n",
       "       [ 1],\n",
       "       [ 4],\n",
       "       [-1],\n",
       "       [ 8],\n",
       "       [ 2],\n",
       "       [ 0],\n",
       "       [-1],\n",
       "       [ 8],\n",
       "       [-1],\n",
       "       [-1],\n",
       "       [-1],\n",
       "       [-1],\n",
       "       [-1],\n",
       "       [-1],\n",
       "       [ 1],\n",
       "       [ 6],\n",
       "       [ 0],\n",
       "       [ 9],\n",
       "       [-1],\n",
       "       [-1],\n",
       "       [ 1],\n",
       "       [ 6],\n",
       "       [ 2],\n",
       "       [ 2],\n",
       "       [-1],\n",
       "       [ 8],\n",
       "       [ 5],\n",
       "       [ 2],\n",
       "       [ 7],\n",
       "       [ 7],\n",
       "       [ 2],\n",
       "       [ 0],\n",
       "       [ 5],\n",
       "       [-1],\n",
       "       [-1],\n",
       "       [-1],\n",
       "       [ 9],\n",
       "       [-1],\n",
       "       [-1],\n",
       "       [ 6],\n",
       "       [ 5],\n",
       "       [-1],\n",
       "       [-1],\n",
       "       [-1],\n",
       "       [-1],\n",
       "       [ 5],\n",
       "       [-1],\n",
       "       [-1],\n",
       "       [ 0],\n",
       "       [-1],\n",
       "       [ 5],\n",
       "       [ 6],\n",
       "       [-1],\n",
       "       [-1],\n",
       "       [-1],\n",
       "       [ 8],\n",
       "       [-1],\n",
       "       [ 2],\n",
       "       [ 3],\n",
       "       [-1],\n",
       "       [-1],\n",
       "       [-1],\n",
       "       [-1],\n",
       "       [-1],\n",
       "       [ 0],\n",
       "       [ 7],\n",
       "       [-1],\n",
       "       [ 8],\n",
       "       [-1],\n",
       "       [-1],\n",
       "       [-1],\n",
       "       [ 0],\n",
       "       [-1],\n",
       "       [-1],\n",
       "       [-1],\n",
       "       [-1],\n",
       "       [-1],\n",
       "       [ 0],\n",
       "       [ 5],\n",
       "       [-1],\n",
       "       [-1],\n",
       "       [-1],\n",
       "       [-1],\n",
       "       [-1],\n",
       "       [ 5],\n",
       "       [ 0],\n",
       "       [-1],\n",
       "       [-1],\n",
       "       [ 0],\n",
       "       [-1],\n",
       "       [ 4],\n",
       "       [-1],\n",
       "       [-1],\n",
       "       [-1],\n",
       "       [ 9],\n",
       "       [-1],\n",
       "       [-1],\n",
       "       [ 6],\n",
       "       [ 8],\n",
       "       [ 8],\n",
       "       [-1],\n",
       "       [-1],\n",
       "       [-1],\n",
       "       [-1],\n",
       "       [ 3],\n",
       "       [-1],\n",
       "       [ 7],\n",
       "       [ 9],\n",
       "       [-1],\n",
       "       [-1],\n",
       "       [-1],\n",
       "       [-1],\n",
       "       [-1],\n",
       "       [ 0],\n",
       "       [ 3],\n",
       "       [-1],\n",
       "       [ 7],\n",
       "       [-1],\n",
       "       [ 5],\n",
       "       [-1],\n",
       "       [-1],\n",
       "       [ 9],\n",
       "       [ 1],\n",
       "       [-1],\n",
       "       [ 7],\n",
       "       [-1],\n",
       "       [-1],\n",
       "       [-1],\n",
       "       [-1],\n",
       "       [ 0],\n",
       "       [ 2],\n",
       "       [-1],\n",
       "       [ 1],\n",
       "       [-1],\n",
       "       [-1],\n",
       "       [ 4],\n",
       "       [ 2],\n",
       "       [ 8],\n",
       "       [-1],\n",
       "       [-1],\n",
       "       [-1],\n",
       "       [ 0],\n",
       "       [-1],\n",
       "       [ 7],\n",
       "       [ 5],\n",
       "       [-1],\n",
       "       [-1],\n",
       "       [-1],\n",
       "       [-1],\n",
       "       [-1],\n",
       "       [ 2],\n",
       "       [-1]], dtype=int32)>"
      ]
     },
     "execution_count": 20,
     "metadata": {},
     "output_type": "execute_result"
    }
   ],
   "source": [
    "bin_idx_tf = searchsorted_tf(cumwidths, inputs_tf[inside_interval_mask])[..., None]\n",
    "bin_idx_tf"
   ]
  },
  {
   "cell_type": "code",
   "execution_count": 21,
   "id": "02874e7f",
   "metadata": {},
   "outputs": [],
   "source": [
    "bin_idx_tf = tf.where(bin_idx_tf < 0, tf.fill(tf.shape(bin_idx_tf), 0), bin_idx_tf)"
   ]
  },
  {
   "cell_type": "code",
   "execution_count": 22,
   "id": "660e7aa1",
   "metadata": {},
   "outputs": [
    {
     "data": {
      "text/plain": [
       "<tf.Tensor: id=224, shape=(706, 9), dtype=float32, numpy=\n",
       "array([[0.4595182 , 0.65262556, 1.357251  , ..., 1.1222818 , 0.19808091,\n",
       "        0.4142052 ],\n",
       "       [1.0668324 , 0.76401156, 0.41303495, ..., 1.5789281 , 1.3999131 ,\n",
       "        0.25445667],\n",
       "       [0.94706815, 0.49312025, 1.2083801 , ..., 0.4050719 , 0.6567668 ,\n",
       "        0.11223203],\n",
       "       ...,\n",
       "       [0.40728635, 1.0551487 , 0.82515085, ..., 1.4267883 , 0.11855583,\n",
       "        0.7138041 ],\n",
       "       [0.5961442 , 0.91774267, 0.2459634 , ..., 0.640446  , 1.2767872 ,\n",
       "        1.3704453 ],\n",
       "       [0.11431326, 0.26217353, 0.9218413 , ..., 1.1645179 , 1.1166086 ,\n",
       "        0.07798084]], dtype=float32)>"
      ]
     },
     "execution_count": 22,
     "metadata": {},
     "output_type": "execute_result"
    }
   ],
   "source": [
    "derivatives"
   ]
  },
  {
   "cell_type": "code",
   "execution_count": 23,
   "id": "4fc95761",
   "metadata": {},
   "outputs": [
    {
     "data": {
      "text/plain": [
       "<tf.Tensor: id=336, shape=(706,), dtype=int32, numpy=\n",
       "array([0, 5, 4, 0, 3, 4, 0, 1, 0, 0, 0, 2, 0, 0, 0, 0, 2, 5, 0, 5, 3, 0,\n",
       "       6, 1, 5, 0, 2, 7, 7, 4, 0, 1, 5, 1, 4, 0, 1, 0, 0, 0, 3, 0, 0, 0,\n",
       "       0, 0, 0, 0, 0, 6, 0, 0, 1, 0, 8, 1, 0, 1, 9, 0, 0, 0, 5, 7, 0, 2,\n",
       "       0, 0, 0, 0, 0, 0, 0, 0, 0, 2, 7, 6, 0, 2, 4, 6, 9, 0, 0, 4, 0, 6,\n",
       "       0, 5, 0, 0, 2, 0, 1, 0, 9, 1, 0, 6, 8, 0, 9, 7, 0, 3, 3, 5, 5, 6,\n",
       "       9, 5, 1, 9, 0, 4, 7, 7, 0, 0, 6, 3, 0, 0, 0, 5, 3, 0, 0, 0, 9, 9,\n",
       "       0, 0, 0, 4, 0, 0, 0, 0, 4, 2, 1, 5, 0, 0, 0, 1, 0, 4, 6, 0, 8, 5,\n",
       "       0, 9, 0, 5, 7, 2, 8, 4, 5, 9, 0, 8, 0, 2, 0, 5, 3, 0, 0, 0, 0, 0,\n",
       "       0, 0, 0, 0, 0, 0, 0, 4, 0, 0, 0, 1, 3, 5, 0, 5, 2, 0, 3, 0, 0, 7,\n",
       "       1, 0, 0, 0, 0, 0, 0, 9, 0, 2, 0, 0, 9, 0, 1, 8, 0, 4, 0, 7, 2, 0,\n",
       "       7, 3, 0, 7, 1, 0, 2, 0, 0, 1, 8, 8, 0, 0, 0, 0, 0, 6, 5, 4, 0, 0,\n",
       "       0, 0, 0, 5, 0, 3, 4, 3, 7, 4, 0, 3, 0, 0, 0, 0, 0, 2, 0, 2, 0, 0,\n",
       "       3, 0, 4, 2, 5, 0, 9, 0, 6, 2, 7, 3, 0, 2, 8, 0, 0, 8, 0, 0, 1, 2,\n",
       "       9, 0, 0, 5, 6, 0, 0, 8, 4, 0, 4, 0, 7, 0, 4, 4, 0, 0, 0, 2, 3, 0,\n",
       "       0, 2, 0, 0, 0, 0, 0, 0, 0, 9, 0, 1, 0, 2, 2, 0, 0, 0, 0, 5, 0, 0,\n",
       "       4, 4, 4, 1, 0, 0, 4, 5, 3, 0, 2, 6, 0, 0, 0, 0, 0, 2, 6, 0, 4, 0,\n",
       "       2, 0, 0, 4, 0, 0, 0, 0, 0, 0, 0, 6, 0, 0, 0, 0, 2, 1, 2, 0, 9, 0,\n",
       "       6, 3, 0, 0, 0, 0, 0, 0, 6, 0, 9, 0, 0, 0, 0, 0, 1, 0, 0, 0, 4, 8,\n",
       "       8, 5, 7, 7, 0, 8, 0, 0, 8, 1, 0, 0, 0, 0, 0, 0, 0, 0, 0, 0, 0, 0,\n",
       "       3, 0, 3, 0, 5, 0, 1, 2, 0, 0, 0, 0, 1, 0, 6, 0, 4, 0, 0, 5, 4, 1,\n",
       "       0, 0, 9, 2, 0, 0, 5, 0, 0, 9, 7, 7, 6, 0, 4, 0, 0, 3, 0, 0, 0, 0,\n",
       "       0, 0, 0, 0, 0, 0, 2, 5, 0, 7, 2, 0, 0, 2, 7, 0, 3, 0, 0, 6, 0, 9,\n",
       "       0, 2, 2, 0, 4, 0, 7, 0, 0, 8, 4, 7, 0, 0, 0, 0, 1, 0, 8, 0, 1, 0,\n",
       "       2, 0, 0, 0, 0, 0, 4, 0, 7, 9, 0, 0, 3, 5, 0, 0, 0, 8, 1, 0, 0, 0,\n",
       "       0, 3, 0, 4, 0, 0, 0, 0, 0, 0, 0, 5, 0, 0, 0, 2, 0, 4, 4, 3, 0, 0,\n",
       "       6, 2, 0, 2, 1, 4, 0, 8, 2, 0, 0, 8, 0, 0, 0, 0, 0, 0, 1, 6, 0, 9,\n",
       "       0, 0, 1, 6, 2, 2, 0, 8, 5, 2, 7, 7, 2, 0, 5, 0, 0, 0, 9, 0, 0, 6,\n",
       "       5, 0, 0, 0, 0, 5, 0, 0, 0, 0, 5, 6, 0, 0, 0, 8, 0, 2, 3, 0, 0, 0,\n",
       "       0, 0, 0, 7, 0, 8, 0, 0, 0, 0, 0, 0, 0, 0, 0, 0, 5, 0, 0, 0, 0, 0,\n",
       "       5, 0, 0, 0, 0, 0, 4, 0, 0, 0, 9, 0, 0, 6, 8, 8, 0, 0, 0, 0, 3, 0,\n",
       "       7, 9, 0, 0, 0, 0, 0, 0, 3, 0, 7, 0, 5, 0, 0, 9, 1, 0, 7, 0, 0, 0,\n",
       "       0, 0, 2, 0, 1, 0, 0, 4, 2, 8, 0, 0, 0, 0, 0, 7, 5, 0, 0, 0, 0, 0,\n",
       "       2, 0], dtype=int32)>"
      ]
     },
     "execution_count": 23,
     "metadata": {},
     "output_type": "execute_result"
    }
   ],
   "source": [
    "bin_idx_tf[:,0]"
   ]
  },
  {
   "cell_type": "code",
   "execution_count": null,
   "id": "efca99ea",
   "metadata": {},
   "outputs": [],
   "source": [
    "cumwidths_tf = tf.gather_nd(cumwidths, bin_idx_tf, batch_dims = 1)\n",
    "cumwidths_tf"
   ]
  },
  {
   "cell_type": "code",
   "execution_count": null,
   "id": "41a0e166",
   "metadata": {},
   "outputs": [],
   "source": [
    "tf.gather_nd(derivatives, bin_idx_tf, batch_dims=1)"
   ]
  },
  {
   "cell_type": "code",
   "execution_count": null,
   "id": "0da25919",
   "metadata": {},
   "outputs": [],
   "source": [
    "derivatives.shape, cumwidths.shape"
   ]
  },
  {
   "cell_type": "code",
   "execution_count": null,
   "id": "6eb0a139",
   "metadata": {},
   "outputs": [],
   "source": [
    "np.round(input_cumwidths.numpy(), 3)"
   ]
  },
  {
   "cell_type": "code",
   "execution_count": null,
   "id": "3930b2eb",
   "metadata": {},
   "outputs": [],
   "source": [
    "np.round(input_cumwidths.numpy(), 3) == np.round(cumwidths_tf.numpy(), 3)"
   ]
  },
  {
   "cell_type": "code",
   "execution_count": 34,
   "id": "38f64f57",
   "metadata": {},
   "outputs": [
    {
     "data": {
      "text/plain": [
       "torch.Size([706])"
      ]
     },
     "execution_count": 34,
     "metadata": {},
     "output_type": "execute_result"
    }
   ],
   "source": [
    "inside_interval_mask = (inputs_pt >= -tail_bound) & (inputs_pt <= tail_bound)\n",
    "outside_interval_mask = ~inside_interval_mask\n",
    "inputs_pt[inside_interval_mask].shape"
   ]
  },
  {
   "cell_type": "code",
   "execution_count": 35,
   "id": "323766e0",
   "metadata": {
    "scrolled": true
   },
   "outputs": [
    {
     "data": {
      "text/plain": [
       "torch.Size([2, 100, 5])"
      ]
     },
     "execution_count": 35,
     "metadata": {},
     "output_type": "execute_result"
    }
   ],
   "source": [
    "inside_interval_mask.shape"
   ]
  },
  {
   "cell_type": "code",
   "execution_count": 36,
   "id": "bfab962f",
   "metadata": {
    "scrolled": true
   },
   "outputs": [
    {
     "data": {
      "text/plain": [
       "(torch.Size([706]), torch.Size([706, 10]))"
      ]
     },
     "execution_count": 36,
     "metadata": {},
     "output_type": "execute_result"
    }
   ],
   "source": [
    "inputs_pt[inside_interval_mask].shape, unnormalized_widths_pt[inside_interval_mask, :].shape"
   ]
  },
  {
   "cell_type": "code",
   "execution_count": 37,
   "id": "626cbc88",
   "metadata": {},
   "outputs": [],
   "source": [
    "unnormalized_widths = unnormalized_widths_pt[inside_interval_mask, :]\n",
    "unnormalized_heights=unnormalized_heights_pt[inside_interval_mask, :]\n",
    "unnormalized_derivatives=unnormalized_derivatives_pt[inside_interval_mask, :]\n",
    "num_bins = unnormalized_widths.shape[-1]\n",
    "widths = F.softmax(unnormalized_widths, dim=-1)\n",
    "widths = min_bin_width + (1 - min_bin_width * num_bins) * widths\n",
    "cumwidths = torch.cumsum(widths, dim=-1)\n",
    "cumwidths = F.pad(cumwidths, pad=(1, 0), mode='constant', value=0.0)\n",
    "cumwidths = (right - left) * cumwidths + left\n",
    "cumwidths[..., 0] = left\n",
    "cumwidths[..., -1] = right"
   ]
  },
  {
   "cell_type": "code",
   "execution_count": 38,
   "id": "9214d997",
   "metadata": {},
   "outputs": [],
   "source": [
    "widths = cumwidths[..., 1:] - cumwidths[..., :-1]\n",
    "\n",
    "derivatives = min_derivative + F.softplus(unnormalized_derivatives)\n",
    "\n",
    "heights = F.softmax(unnormalized_heights, dim=-1)\n",
    "heights = min_bin_height + (1 - min_bin_height * num_bins) * heights\n",
    "cumheights = torch.cumsum(heights, dim=-1)\n",
    "cumheights = F.pad(cumheights, pad=(1, 0), mode='constant', value=0.0)\n",
    "cumheights = (top - bottom) * cumheights + bottom\n",
    "cumheights[..., 0] = bottom\n",
    "cumheights[..., -1] = top\n",
    "heights = cumheights[..., 1:] - cumheights[..., :-1]"
   ]
  },
  {
   "cell_type": "code",
   "execution_count": 40,
   "id": "0b29965f",
   "metadata": {},
   "outputs": [],
   "source": [
    "def searchsorted(bin_locations, inputs, eps=1e-6):\n",
    "    bin_locations[..., -1] += eps\n",
    "    return torch.sum(\n",
    "        inputs[..., None] >= bin_locations,\n",
    "        dim=-1\n",
    "    ) - 1"
   ]
  },
  {
   "cell_type": "code",
   "execution_count": 41,
   "id": "2b804dba",
   "metadata": {},
   "outputs": [
    {
     "data": {
      "text/plain": [
       "torch.Size([706, 1])"
      ]
     },
     "execution_count": 41,
     "metadata": {},
     "output_type": "execute_result"
    }
   ],
   "source": [
    "bin_idx = searchsorted(cumwidths, inputs_pt[inside_interval_mask])[..., None]\n",
    "bin_idx[bin_idx < 0] = 0\n",
    "bin_idx.shape"
   ]
  },
  {
   "cell_type": "code",
   "execution_count": 42,
   "id": "9ff00832",
   "metadata": {},
   "outputs": [],
   "source": [
    "input_cumwidths = cumwidths.gather(-1, bin_idx)[..., 0]"
   ]
  },
  {
   "cell_type": "code",
   "execution_count": 47,
   "id": "59669621",
   "metadata": {},
   "outputs": [
    {
     "data": {
      "text/plain": [
       "(torch.Size([706, 11]), torch.Size([706, 11]))"
      ]
     },
     "execution_count": 47,
     "metadata": {},
     "output_type": "execute_result"
    }
   ],
   "source": [
    "cumheights.shape, cumwidths.shape"
   ]
  },
  {
   "cell_type": "code",
   "execution_count": 45,
   "id": "3ed96ab9",
   "metadata": {},
   "outputs": [
    {
     "data": {
      "text/plain": [
       "torch.Size([706])"
      ]
     },
     "execution_count": 45,
     "metadata": {},
     "output_type": "execute_result"
    }
   ],
   "source": [
    "cumheights.gather(-1, bin_idx)[..., 0].shape"
   ]
  },
  {
   "cell_type": "code",
   "execution_count": 48,
   "id": "cae5f912",
   "metadata": {},
   "outputs": [
    {
     "ename": "RuntimeError",
     "evalue": "index 9 is out of bounds for dimension 1 with size 9",
     "output_type": "error",
     "traceback": [
      "\u001b[0;31m---------------------------------------------------------------------------\u001b[0m",
      "\u001b[0;31mRuntimeError\u001b[0m                              Traceback (most recent call last)",
      "Input \u001b[0;32mIn [48]\u001b[0m, in \u001b[0;36m<cell line: 1>\u001b[0;34m()\u001b[0m\n\u001b[0;32m----> 1\u001b[0m \u001b[43mderivatives\u001b[49m\u001b[38;5;241;43m.\u001b[39;49m\u001b[43mgather\u001b[49m\u001b[43m(\u001b[49m\u001b[38;5;241;43m-\u001b[39;49m\u001b[38;5;241;43m1\u001b[39;49m\u001b[43m,\u001b[49m\u001b[43m \u001b[49m\u001b[43mbin_idx\u001b[49m\u001b[43m)\u001b[49m[\u001b[38;5;241m.\u001b[39m\u001b[38;5;241m.\u001b[39m\u001b[38;5;241m.\u001b[39m, \u001b[38;5;241m0\u001b[39m]\u001b[38;5;241m.\u001b[39mshape\n",
      "\u001b[0;31mRuntimeError\u001b[0m: index 9 is out of bounds for dimension 1 with size 9"
     ]
    }
   ],
   "source": [
    " derivatives.gather(-1, bin_idx)[..., 0]"
   ]
  },
  {
   "cell_type": "code",
   "execution_count": null,
   "id": "2fb2cdc8",
   "metadata": {},
   "outputs": [],
   "source": [
    "inputs_pt[inside_interval_mask].shape, cumwidths.shape"
   ]
  },
  {
   "cell_type": "code",
   "execution_count": null,
   "id": "7e6482ec",
   "metadata": {},
   "outputs": [],
   "source": [
    "torch.sum(bin_idx, dim=-1) - 1"
   ]
  },
  {
   "cell_type": "code",
   "execution_count": null,
   "id": "61fd5918",
   "metadata": {},
   "outputs": [],
   "source": [
    "unnormalized_widths_pt[inside_interval_mask, :]"
   ]
  },
  {
   "cell_type": "code",
   "execution_count": null,
   "id": "bfbb7ef3",
   "metadata": {},
   "outputs": [],
   "source": [
    "cumwidths = unnormalized_widths_pt[inside_interval_mask, :]"
   ]
  },
  {
   "cell_type": "code",
   "execution_count": null,
   "id": "d08d071e",
   "metadata": {},
   "outputs": [],
   "source": [
    "cumwidths.gather(-1, bin_idx)[..., 0]"
   ]
  },
  {
   "cell_type": "code",
   "execution_count": null,
   "id": "7c8a80ca",
   "metadata": {},
   "outputs": [],
   "source": [
    "input_cumwidths = cumwidths.gather(-1, bin_idx)[..., 0]\n",
    "input_bin_widths = widths.gather(-1, bin_idx)[..., 0]"
   ]
  },
  {
   "cell_type": "code",
   "execution_count": null,
   "id": "1a73fa83",
   "metadata": {},
   "outputs": [],
   "source": [
    "idx = searchsorted_tf(inputs_tf[inside_interval_mask], unnormalized_widths_tf)\n",
    "idx"
   ]
  },
  {
   "cell_type": "code",
   "execution_count": null,
   "id": "53d4486e",
   "metadata": {},
   "outputs": [],
   "source": [
    "unnormalized_widths_pt[inside_interval_mask, :]"
   ]
  },
  {
   "cell_type": "code",
   "execution_count": null,
   "id": "0876061f",
   "metadata": {},
   "outputs": [],
   "source": [
    "tf.broadcast_to()"
   ]
  },
  {
   "cell_type": "code",
   "execution_count": null,
   "id": "e8ac0c4f",
   "metadata": {},
   "outputs": [],
   "source": [
    "unnormalized_widths = torch.randn(2, 100, 5, 2)"
   ]
  },
  {
   "cell_type": "code",
   "execution_count": null,
   "id": "fc764ceb",
   "metadata": {},
   "outputs": [],
   "source": [
    "unnormalized_derivatives = F.pad(unnormalized_derivatives, pad=(1, 0))\n",
    "unnormalized_derivatives.shape"
   ]
  },
  {
   "cell_type": "code",
   "execution_count": null,
   "id": "a735a105",
   "metadata": {},
   "outputs": [],
   "source": [
    "inputs = torch.randn(2, 100, 5)"
   ]
  },
  {
   "cell_type": "code",
   "execution_count": null,
   "id": "6b9299b3",
   "metadata": {},
   "outputs": [],
   "source": [
    "tail_bound = 1.0\n",
    "inside_interval_mask = (inputs >= -tail_bound) & (inputs <= tail_bound)\n",
    "outside_interval_mask = ~inside_interval_mask"
   ]
  },
  {
   "cell_type": "code",
   "execution_count": null,
   "id": "68635811",
   "metadata": {},
   "outputs": [],
   "source": [
    "inputs[inside_interval_mask].shape"
   ]
  },
  {
   "cell_type": "code",
   "execution_count": null,
   "id": "6b98961e",
   "metadata": {},
   "outputs": [],
   "source": [
    "unnormalized_widths[inside_interval_mask, :].shape"
   ]
  },
  {
   "cell_type": "code",
   "execution_count": null,
   "id": "579442fa",
   "metadata": {},
   "outputs": [],
   "source": [
    "outputs = tf.zeros_like(inputs)"
   ]
  },
  {
   "cell_type": "code",
   "execution_count": null,
   "id": "a2e1c785",
   "metadata": {},
   "outputs": [],
   "source": [
    "inputs.shape[-1]"
   ]
  },
  {
   "cell_type": "code",
   "execution_count": null,
   "id": "bd9864e1",
   "metadata": {},
   "outputs": [],
   "source": [
    "tf.where(outside_interval_mask, outputs, inputs)"
   ]
  },
  {
   "cell_type": "code",
   "execution_count": null,
   "id": "90fe7513",
   "metadata": {},
   "outputs": [],
   "source": [
    "outside_interval_mask"
   ]
  },
  {
   "cell_type": "code",
   "execution_count": null,
   "id": "d06ee9eb",
   "metadata": {
    "scrolled": true
   },
   "outputs": [],
   "source": []
  },
  {
   "cell_type": "code",
   "execution_count": null,
   "id": "82a8acdb",
   "metadata": {},
   "outputs": [],
   "source": []
  },
  {
   "cell_type": "code",
   "execution_count": null,
   "id": "8cfd2284",
   "metadata": {},
   "outputs": [],
   "source": [
    "x = torch.randn(2, 100, 5)\n",
    "inputs = torch.randn(2, 100)\n",
    "\n",
    "inputs[..., None] >= x"
   ]
  },
  {
   "cell_type": "code",
   "execution_count": null,
   "id": "eb569645",
   "metadata": {},
   "outputs": [],
   "source": [
    "x = tf.random.normal(shape = (2, 5, 100))\n",
    "x = tf.expand_dims(x, 2)\n",
    "x = depthwise_conv(x)[:,:,0]"
   ]
  },
  {
   "cell_type": "code",
   "execution_count": null,
   "id": "b2341bbf",
   "metadata": {},
   "outputs": [],
   "source": [
    "sess = tf.Session()\n",
    "sess.run(tf.global_variables_initializer())"
   ]
  },
  {
   "cell_type": "code",
   "execution_count": null,
   "id": "5708bd03",
   "metadata": {},
   "outputs": [],
   "source": [
    "%%time\n",
    "\n",
    "sess.run(x)"
   ]
  },
  {
   "cell_type": "code",
   "execution_count": 49,
   "id": "a908b42c",
   "metadata": {},
   "outputs": [],
   "source": [
    "logs_p_np = np.random.normal(size = (2, 50, 5))\n",
    "m_p_np = np.random.normal(size = (2, 50, 5))\n",
    "z_p_np = np.random.normal(size = (2, 50, 100))\n",
    "\n",
    "logs_p = torch.from_numpy(logs_p_np)\n",
    "z_p = torch.from_numpy(z_p_np)\n",
    "m_p = torch.from_numpy(m_p_np)"
   ]
  },
  {
   "cell_type": "code",
   "execution_count": 50,
   "id": "60692188",
   "metadata": {},
   "outputs": [],
   "source": [
    "s_p_sq_r = torch.exp(-2 * logs_p) # [b, d, t]\n",
    "neg_cent1 = torch.sum(-0.5 * math.log(2 * math.pi) - logs_p, [1], keepdim=True) # [b, 1, t_s]\n",
    "neg_cent2 = torch.matmul(-0.5 * (z_p ** 2).transpose(1, 2), s_p_sq_r) # [b, t_t, d] x [b, d, t_s] = [b, t_t, t_s]\n",
    "neg_cent3 = torch.matmul(z_p.transpose(1, 2), (m_p * s_p_sq_r)) # [b, t_t, d] x [b, d, t_s] = [b, t_t, t_s]\n",
    "neg_cent4 = torch.sum(-0.5 * (m_p ** 2) * s_p_sq_r, [1], keepdim=True) # [b, 1, t_s]\n",
    "neg_cent = neg_cent1 + neg_cent2 + neg_cent3 + neg_cent4"
   ]
  },
  {
   "cell_type": "code",
   "execution_count": 51,
   "id": "4a949f0f",
   "metadata": {},
   "outputs": [
    {
     "data": {
      "text/plain": [
       "torch.Size([2, 100, 5])"
      ]
     },
     "execution_count": 51,
     "metadata": {},
     "output_type": "execute_result"
    }
   ],
   "source": [
    "neg_cent.shape"
   ]
  },
  {
   "cell_type": "code",
   "execution_count": 52,
   "id": "eb5227b9",
   "metadata": {},
   "outputs": [
    {
     "data": {
      "text/plain": [
       "tensor([[[ -797.5473,  -302.9780,  -418.0751,  -142.3627,  -334.3927],\n",
       "         [ -271.6225,  -166.9982,  -447.6349,  -257.3925,  -319.8517],\n",
       "         [ -624.2477,  -260.5945,  -758.0973,  -538.4803,  -393.2479],\n",
       "         [ -201.4374,  -287.3746,  -443.6294,  -192.3147,  -313.4371],\n",
       "         [ -438.0231,  -371.3127,  -455.8598,  -223.4654,  -255.6165],\n",
       "         [ -238.7374,  -255.0612,  -305.8648,  -201.8587,  -283.6645],\n",
       "         [ -373.0448,  -178.7985,  -369.9525,  -235.0557,  -258.8540],\n",
       "         [ -138.4327,  -241.8564,  -850.4899,  -253.1263,  -494.4948],\n",
       "         [ -165.6693,  -283.8421,  -301.3271,  -218.5451,  -311.8951],\n",
       "         [ -172.7845,  -344.0888,  -280.8932,  -395.5952,  -435.7254],\n",
       "         [ -521.7657,  -147.4768,  -245.2557,  -267.9266,  -297.3464],\n",
       "         [ -454.4290,  -362.2886,  -376.1942,  -193.9801,  -303.2535],\n",
       "         [ -125.7292,  -228.7482,  -411.4695,  -241.6433,  -365.3022],\n",
       "         [ -324.2196,  -262.7355,  -241.9627,  -201.5056,  -437.7278],\n",
       "         [ -690.5903,  -188.2046,  -648.1639,  -324.0431,  -253.5414],\n",
       "         [-1013.9394,  -169.8805,  -444.0218,  -531.3395,  -421.8553],\n",
       "         [ -355.9660,  -219.1606,  -531.3355,  -261.1289,  -491.4438],\n",
       "         [ -249.7801,  -207.3620,  -420.4513,  -237.8364,  -321.5957],\n",
       "         [ -560.5853,  -572.3259,  -341.7871,  -215.1033,  -538.5111],\n",
       "         [ -347.8450,  -168.3058,  -241.2145,  -253.2168,  -379.2856],\n",
       "         [ -831.2848,  -238.4229,  -529.4013,  -176.7441,  -386.2970],\n",
       "         [ -237.3536,  -224.6830,  -701.2875,  -242.8511,  -562.7960],\n",
       "         [ -656.4782,  -283.6111,  -385.8944,  -258.5416,  -374.1782],\n",
       "         [ -425.0318,  -201.4423,  -278.4941,  -280.9777,  -417.3803],\n",
       "         [-1009.9915,  -427.7839,  -832.4667,  -261.3325,  -134.1257],\n",
       "         [ -323.6179,  -188.0659,  -313.0688,  -222.2226,  -388.4625],\n",
       "         [ -161.0646,  -138.7970,  -699.6578,  -251.0302,  -289.7511],\n",
       "         [ -385.4536,  -413.0926,  -721.7159,  -164.1096,  -356.5117],\n",
       "         [ -169.9024,  -193.9138,  -415.6574,  -443.6111,  -215.8298],\n",
       "         [ -358.8376,  -164.7750,  -575.7188,  -225.6912,  -314.7351],\n",
       "         [ -545.2497,  -366.6206,  -452.7241,  -161.3669,  -548.6092],\n",
       "         [ -558.8886,  -331.4193,  -787.1028,  -312.7647,  -299.2062],\n",
       "         [ -243.0608,  -229.6058,  -520.0850,  -283.8335,  -486.3748],\n",
       "         [ -153.8772,  -160.4702,  -497.8797,  -310.7321,  -328.9891],\n",
       "         [ -372.8095,  -380.6164,  -343.0170,  -267.0856,  -398.0502],\n",
       "         [ -216.8881,  -110.6128,  -334.0768,  -237.2777,  -405.0224],\n",
       "         [ -323.9871,  -267.9648,  -648.7135,  -205.5681,  -743.7136],\n",
       "         [ -553.2237,  -173.7446,  -365.5110,  -206.0138,  -241.2451],\n",
       "         [ -209.2225,  -296.3572,  -456.6241,  -222.6986,  -527.0367],\n",
       "         [ -263.4108,  -222.2872,  -521.9710,  -222.9313,  -256.8625],\n",
       "         [-1452.9006,  -354.9550,  -613.6265,  -168.9823,  -183.0525],\n",
       "         [ -582.6324,  -140.5846,  -444.6064,  -164.8177,  -389.0122],\n",
       "         [ -239.7805,  -290.2301,  -272.6855,  -189.7078,  -331.3381],\n",
       "         [ -398.0876,  -155.9032,  -221.5305,  -154.3051,  -331.6437],\n",
       "         [ -305.5555,  -149.4258,  -385.2398,  -239.0167,  -199.9522],\n",
       "         [ -355.9461,  -206.7313,  -996.5179,  -183.0986,  -327.8050],\n",
       "         [ -160.7509,  -228.7076,  -404.4871,  -221.3027,  -572.1296],\n",
       "         [ -181.4478,  -233.1393,  -546.1151,  -415.7903,  -217.4356],\n",
       "         [ -408.8904,  -180.5816,  -446.4777,  -290.0205,  -339.3328],\n",
       "         [ -533.3062,  -374.1939,  -650.8786,  -323.3775,  -370.0686],\n",
       "         [ -152.1139,  -213.2293,  -642.2746,  -179.0359,  -383.5267],\n",
       "         [ -573.4073,  -167.3679,  -333.1712,  -252.6710,  -577.3338],\n",
       "         [ -215.7457,  -189.1232,  -267.7017,  -221.8083,  -447.0226],\n",
       "         [ -202.3864,  -148.6786,  -675.9485,  -181.3231,  -560.2471],\n",
       "         [ -216.1303,  -144.5864,  -556.2117,  -189.2092,  -358.2014],\n",
       "         [ -255.5139,  -182.5348,  -464.1233,  -213.6079,  -427.4971],\n",
       "         [ -291.3823,  -216.4034,  -537.7265,  -273.0606,  -532.9320],\n",
       "         [ -353.1882,  -243.9842,  -655.9226,  -272.5031,  -340.3437],\n",
       "         [ -256.4203,  -220.5351,  -351.1394,  -256.2566,  -225.4581],\n",
       "         [-1082.8703,  -168.7784,  -284.0996,  -326.3004,  -458.9617],\n",
       "         [ -302.7621,  -163.3267,  -325.4592,  -216.3954,  -260.7223],\n",
       "         [ -393.0171,  -234.7200,  -348.8892,  -123.7897,  -408.7951],\n",
       "         [ -244.5018,  -141.0948,  -315.1172,  -256.6392,  -576.5385],\n",
       "         [ -424.0063,  -150.3982,  -540.2200,  -165.9340,  -234.3373],\n",
       "         [ -274.3257,  -162.8093,  -433.6939,  -287.6293,  -340.8096],\n",
       "         [ -272.8927,  -223.0057,  -320.2772,  -147.1180,  -255.8055],\n",
       "         [ -158.0489,  -293.1845,  -184.6087,  -211.8507,  -238.8300],\n",
       "         [ -466.2744,  -235.9224,  -456.7141,  -212.1323,  -434.3512],\n",
       "         [ -425.0319,  -144.6124,  -757.5432,  -268.8588,  -373.5771],\n",
       "         [ -319.9035,  -198.7069,  -497.3904,  -282.2405,  -333.0749],\n",
       "         [ -681.4063,  -212.9877,  -303.1549,  -188.3590,  -460.0482],\n",
       "         [ -644.8283,  -233.3228,  -604.5913,  -357.1350,  -392.3885],\n",
       "         [ -587.6098,  -238.5515,  -652.9050,  -399.5119,  -401.0441],\n",
       "         [ -441.2518,  -328.5271,  -350.0805,  -347.3116,  -443.6781],\n",
       "         [ -604.9828,  -200.5030,  -450.8541,  -213.4565,  -505.2388],\n",
       "         [ -402.7726,  -352.2743,  -730.2325,  -338.1804,  -398.6751],\n",
       "         [ -246.1083,  -219.3807,  -378.4609,  -232.0197,  -229.4479],\n",
       "         [ -179.2337,  -312.6059,  -649.9513,  -137.0602,  -261.6885],\n",
       "         [ -216.9985,  -202.5797,  -264.4147,  -266.5562,  -759.4358],\n",
       "         [ -316.7276,  -224.7211,  -345.2291,  -252.8651,  -327.8881],\n",
       "         [ -435.1589,  -160.0636,  -444.7169,  -169.0718,  -352.5574],\n",
       "         [ -216.2874,  -187.0784,  -641.1293,  -263.6098,  -474.5623],\n",
       "         [ -228.8791,  -345.4112,  -479.3249,  -210.1168,  -225.6151],\n",
       "         [ -231.5454,  -228.7691,  -363.7143,  -175.6494,  -230.3800],\n",
       "         [ -469.5771,  -291.2690,  -455.2536,  -204.1112,  -459.5247],\n",
       "         [ -134.7138,  -155.1755,  -210.0030,  -226.2863,  -214.9198],\n",
       "         [ -223.9812,  -234.5935,  -532.3838,  -260.1383,  -448.0986],\n",
       "         [ -175.8245,  -164.7198,  -302.2090,  -139.5349,  -180.3716],\n",
       "         [ -491.3017,  -249.6432,  -406.3490,  -177.1916,  -239.2763],\n",
       "         [ -158.1871,  -221.3095,  -327.8597,  -191.9792,  -169.6353],\n",
       "         [ -267.2735,  -193.8695,  -677.1448,  -517.6259,  -217.4447],\n",
       "         [ -226.8846,  -316.6480,  -632.3032,  -295.2743,  -332.6052],\n",
       "         [ -120.1300,  -112.2548,  -282.4711,  -249.5522,  -294.4633],\n",
       "         [ -456.6265,  -288.3879,  -455.6021,  -208.3498,  -360.8645],\n",
       "         [ -795.6803,  -235.4874,  -444.7207,  -296.5086,  -626.0489],\n",
       "         [ -328.2329,  -214.1721, -1064.3388,  -229.2434,  -350.4640],\n",
       "         [ -583.5636,  -210.8765,  -256.7138,  -171.8154,  -404.8392],\n",
       "         [ -919.1121,  -236.4227,  -689.0581,  -273.7468,  -339.6763],\n",
       "         [ -412.2350,  -189.8299,  -749.5603,  -275.3309,  -375.5445],\n",
       "         [ -896.4415,  -211.3272,  -503.4843,  -254.4840,  -444.7933]],\n",
       "\n",
       "        [[ -191.8293, -1299.2235,  -211.4106,  -238.0663,  -269.0052],\n",
       "         [ -193.6966, -1339.4642,  -403.4782,  -294.7001,  -271.4966],\n",
       "         [ -617.8103,  -235.5647,  -233.2442,  -205.9315,  -352.0575],\n",
       "         [ -305.2027,  -490.0899,  -201.6270,  -261.1720,  -350.8270],\n",
       "         [ -175.1459, -1847.4663,  -188.7314,  -220.6768,  -256.3096],\n",
       "         [ -456.0969, -2562.5984,  -182.4640,  -587.7848,  -210.9492],\n",
       "         [-1184.7502, -1409.7871,  -367.0418,  -384.0580,  -455.5875],\n",
       "         [ -384.0903, -1844.6478,  -454.4557,  -387.2880,  -233.8779],\n",
       "         [ -254.2550, -2069.1835,  -292.5488,  -397.7098,  -355.3724],\n",
       "         [ -194.6473,  -525.0007,  -162.1757,  -208.6895,  -193.5656],\n",
       "         [ -812.6781, -3599.5415,  -321.3382,  -614.7833,  -374.3026],\n",
       "         [ -638.9423,  -907.4722,  -228.8293,  -313.5879,  -274.5813],\n",
       "         [ -156.1247, -2272.1508,  -169.1759,  -387.4379,  -405.9479],\n",
       "         [ -609.1966,  -362.1544,  -194.3115,  -188.7468,  -379.6185],\n",
       "         [ -841.6386,  -292.0331,  -207.8527,  -265.5497,  -206.6484],\n",
       "         [ -315.6945,  -267.3833,  -196.9811,  -211.7028,  -276.1993],\n",
       "         [ -263.1658,  -410.2316,  -221.1930,  -185.9362,  -203.1189],\n",
       "         [ -580.9070,  -461.1917,  -250.7694,  -313.0369,  -376.1357],\n",
       "         [ -496.2043,  -450.7325,  -162.9174,  -332.4688,  -288.4821],\n",
       "         [ -408.6453, -1627.9418,  -176.4356,  -360.9667,  -327.0669],\n",
       "         [ -886.0264,  -825.4388,  -139.4550,  -335.4150,  -452.0190],\n",
       "         [-1140.4576, -1792.1797,  -219.5494,  -612.7686,  -458.4600],\n",
       "         [ -762.7547,  -629.1965,  -329.8991,  -345.2989,  -300.6751],\n",
       "         [ -181.4517, -1798.7296,  -203.4257,  -322.0206,  -183.2474],\n",
       "         [ -560.9967,  -934.1342,  -330.2912,  -291.1294,  -340.0418],\n",
       "         [ -356.8377,  -420.8616,  -328.6583,  -253.6194,  -206.8829],\n",
       "         [ -405.5359,  -486.0155,  -195.5893,  -301.3642,  -331.1725],\n",
       "         [ -457.8346, -1384.7276,  -171.6196,  -354.7145,  -338.9639],\n",
       "         [ -485.0547,  -422.6380,  -229.9385,  -316.9787,  -256.0084],\n",
       "         [ -467.2514,  -853.9362,  -190.6355,  -289.5940,  -200.3874],\n",
       "         [ -231.8174,  -539.1571,  -146.7447,  -291.9668,  -294.1294],\n",
       "         [ -305.7601,  -449.0137,  -232.5670,  -357.4725,  -354.1109],\n",
       "         [ -594.8770, -2909.5974,  -290.9491,  -801.2273,  -336.0634],\n",
       "         [-1889.0655,  -213.6050,  -180.6415,  -218.8231,  -272.1949],\n",
       "         [ -347.6355,  -751.7859,  -312.6759,  -266.2059,  -350.9691],\n",
       "         [ -258.0467,  -507.1200,  -205.7367,  -185.9652,  -251.4574],\n",
       "         [ -266.7874, -1636.3055,  -262.5907,  -358.3204,  -215.9125],\n",
       "         [-1319.1493,  -588.0714,  -157.2595,  -205.9690,  -197.3050],\n",
       "         [ -307.5625, -1138.6715,  -235.8293,  -446.2090,  -242.7544],\n",
       "         [ -311.0484,  -607.2402,  -148.9630,  -264.6133,  -214.2917],\n",
       "         [ -221.9685,  -634.7845,  -148.0506,  -326.5557,  -223.0156],\n",
       "         [-1424.2948, -1106.2500,  -292.2051,  -184.8233,  -301.8323],\n",
       "         [ -329.5183,  -316.5768,  -175.3046,  -342.8464,  -405.5067],\n",
       "         [ -219.9543,  -536.7300,  -238.0333,  -259.0648,  -280.9215],\n",
       "         [ -305.5341, -1219.2848,  -181.2292,  -234.3487,  -203.3205],\n",
       "         [ -444.9029,  -297.6556,  -247.4754,  -247.9615,  -438.2075],\n",
       "         [ -363.2553,  -610.8604,  -277.6894,  -281.7906,  -316.0612],\n",
       "         [ -478.0995, -1072.7527,  -228.1958,  -282.9228,  -240.2746],\n",
       "         [ -336.3464,  -418.8892,  -149.6713,  -200.7290,  -378.0754],\n",
       "         [ -377.0814,  -354.4202,  -297.0299,  -308.2728,  -547.8105],\n",
       "         [-1162.5766, -1069.5138,  -159.0421,  -259.0683,  -389.4050],\n",
       "         [ -177.1448,  -547.1705,  -162.9627,  -256.7223,  -356.7555],\n",
       "         [ -308.8987,  -634.7639,  -362.6415,  -392.0813,  -383.0635],\n",
       "         [-2593.6147,  -810.1431,  -196.1400,  -324.8053,  -296.1514],\n",
       "         [ -791.5475,  -345.6909,  -226.7886,  -171.6931,  -387.3534],\n",
       "         [ -346.1605, -1790.1451,  -194.9882,  -501.9559,  -202.3806],\n",
       "         [ -591.7090,  -606.0981,  -281.2003,  -339.0476,  -762.6595],\n",
       "         [ -387.2967,  -658.8981,  -307.7995,  -292.7608,  -304.7808],\n",
       "         [ -342.4249, -1449.8359,  -233.0969,  -309.3498,  -238.0543],\n",
       "         [ -458.4778,  -441.6730,  -257.3436,  -425.0287,  -360.4874],\n",
       "         [ -165.1315, -1349.1269,  -151.4757,  -248.5581,  -376.9203],\n",
       "         [ -367.9277, -1324.7081,  -282.4693,  -517.6304,  -290.5144],\n",
       "         [ -609.7745,  -571.1828,  -351.1694,  -237.2655,  -253.9663],\n",
       "         [ -663.2147,  -899.9966,  -131.3322,  -289.1871,  -451.5211],\n",
       "         [ -240.7656, -1227.5205,  -346.7245,  -252.0736,  -266.9067],\n",
       "         [ -493.5611,  -763.6264,  -207.5546,  -253.4870,  -321.5118],\n",
       "         [ -895.0428,  -318.5964,  -239.0992,  -176.9971,  -222.7831],\n",
       "         [ -187.2204,  -904.6937,  -184.4460,  -244.8137,  -303.4064],\n",
       "         [ -696.9680, -1016.0557,  -287.2727,  -377.9250,  -319.1628],\n",
       "         [ -552.9082,  -461.3495,  -197.0705,  -181.1394,  -311.8040],\n",
       "         [ -207.5774,  -802.6555,  -123.7190,  -262.4169,  -221.3620],\n",
       "         [ -213.5792, -1309.9694,  -252.5582,  -374.8606,  -316.8645],\n",
       "         [ -612.5153,  -576.7192,  -199.1951,  -283.8053,  -332.7790],\n",
       "         [ -305.9753,  -756.6705,  -242.6748,  -290.6691,  -269.7227],\n",
       "         [ -291.8557, -2104.4436,  -203.3611,  -398.0922,  -190.0173],\n",
       "         [ -532.1624,  -883.2154,  -345.9088,  -260.1647,  -497.9976],\n",
       "         [ -316.9122,  -378.9834,  -194.8561,  -211.4974,  -400.6168],\n",
       "         [ -231.1755,  -450.9976,  -282.3529,  -294.9571,  -269.2320],\n",
       "         [ -337.2747,  -655.7970,  -252.3644,  -251.9857,  -395.5983],\n",
       "         [ -302.8080,  -867.4026,  -198.6643,  -188.0919,  -290.9702],\n",
       "         [ -854.2173,  -237.8751,  -133.5130,  -194.4549,  -258.2475],\n",
       "         [ -919.4928,  -369.1008,  -130.8526,  -237.7776,  -349.0300],\n",
       "         [ -346.8279,  -598.3081,  -311.7735,  -468.3147,  -336.1732],\n",
       "         [-1118.1536, -1005.5738,  -255.6887,  -289.3363,  -319.8138],\n",
       "         [ -304.0282,  -591.8884,  -229.2248,  -210.3075,  -513.2438],\n",
       "         [ -334.2119,  -846.0020,  -350.3139,  -290.6227,  -301.2352],\n",
       "         [ -755.1601,  -308.6055,  -223.4594,  -372.4730,  -459.4269],\n",
       "         [ -296.6434,  -467.0725,  -264.1788,  -180.1123,  -312.3994],\n",
       "         [ -599.0554,  -503.6035,  -270.6086,  -309.7492,  -447.3404],\n",
       "         [ -304.3626, -1600.1704,  -181.8985,  -480.9677,  -267.5337],\n",
       "         [ -193.4842,  -556.5506,  -469.0494,  -282.2220,  -469.8993],\n",
       "         [ -311.5317,  -651.9403,  -255.2974,  -302.2291,  -469.9481],\n",
       "         [ -501.1257, -1793.8802,  -214.6193,  -268.0560,  -192.2284],\n",
       "         [ -893.4573,  -742.1344,  -399.3657,  -299.8246,  -494.0655],\n",
       "         [ -224.0279, -1229.1457,  -130.3867,  -308.0875,  -241.8021],\n",
       "         [ -268.7047,  -499.0309,  -320.4114,  -224.8187,  -415.7119],\n",
       "         [ -775.3420,  -575.8436,  -192.5903,  -333.0664,  -258.1823],\n",
       "         [ -410.5978,  -701.5659,  -169.7687,  -275.6087,  -331.0336],\n",
       "         [ -314.9237,  -307.3908,  -200.0365,  -170.0105,  -227.8494],\n",
       "         [ -236.7202, -1448.5682,  -166.6263,  -365.3639,  -289.7651]]],\n",
       "       dtype=torch.float64)"
      ]
     },
     "execution_count": 52,
     "metadata": {},
     "output_type": "execute_result"
    }
   ],
   "source": [
    "neg_cent"
   ]
  },
  {
   "cell_type": "code",
   "execution_count": 53,
   "id": "23787a5c",
   "metadata": {},
   "outputs": [],
   "source": [
    "logs_p = tf.transpose(tf.convert_to_tensor(logs_p_np), [0, 2, 1])\n",
    "z_p = tf.transpose(tf.convert_to_tensor(z_p_np), [0, 2, 1])\n",
    "m_p = tf.transpose(tf.convert_to_tensor(m_p_np), [0, 2, 1])"
   ]
  },
  {
   "cell_type": "code",
   "execution_count": 54,
   "id": "cb57989b",
   "metadata": {},
   "outputs": [
    {
     "data": {
      "text/plain": [
       "TensorShape([Dimension(2), Dimension(5), Dimension(50)])"
      ]
     },
     "execution_count": 54,
     "metadata": {},
     "output_type": "execute_result"
    }
   ],
   "source": [
    "logs_p.shape"
   ]
  },
  {
   "cell_type": "code",
   "execution_count": 55,
   "id": "ac442488",
   "metadata": {},
   "outputs": [],
   "source": [
    "s_p_sq_r = tf.exp(-2 * logs_p)\n",
    "neg_cent1 = tf.reduce_sum(-0.5 * np.log(2 * np.pi) - logs_p, axis=-1)[:, None]\n",
    "neg_cent2 = tf.matmul(-0.5 * (z_p ** 2), tf.transpose(s_p_sq_r, [0, 2, 1]))\n",
    "neg_cent3 = tf.matmul(z_p, tf.transpose((m_p * s_p_sq_r), [0, 2, 1]))\n",
    "neg_cent4 = tf.reduce_sum(-0.5 * (m_p ** 2) * s_p_sq_r, axis=-1)[:, None]\n",
    "neg_cent_tf = neg_cent1 + neg_cent2 + neg_cent3 + neg_cent4"
   ]
  },
  {
   "cell_type": "code",
   "execution_count": 56,
   "id": "03f55901",
   "metadata": {},
   "outputs": [
    {
     "data": {
      "text/plain": [
       "array([[[ True,  True,  True,  True,  True],\n",
       "        [ True,  True,  True,  True,  True],\n",
       "        [ True,  True,  True,  True,  True],\n",
       "        [ True,  True,  True,  True,  True],\n",
       "        [ True,  True,  True,  True,  True],\n",
       "        [ True,  True,  True,  True,  True],\n",
       "        [ True,  True,  True,  True,  True],\n",
       "        [ True,  True,  True,  True,  True],\n",
       "        [ True,  True,  True,  True,  True],\n",
       "        [ True,  True,  True,  True,  True],\n",
       "        [ True,  True,  True,  True,  True],\n",
       "        [ True,  True,  True,  True,  True],\n",
       "        [ True,  True,  True,  True,  True],\n",
       "        [ True,  True,  True,  True,  True],\n",
       "        [ True,  True,  True,  True,  True],\n",
       "        [ True,  True,  True,  True,  True],\n",
       "        [ True,  True,  True,  True,  True],\n",
       "        [ True,  True,  True,  True,  True],\n",
       "        [ True,  True,  True,  True,  True],\n",
       "        [ True,  True,  True,  True,  True],\n",
       "        [ True,  True,  True,  True,  True],\n",
       "        [ True,  True,  True,  True,  True],\n",
       "        [ True,  True,  True,  True,  True],\n",
       "        [ True,  True,  True,  True,  True],\n",
       "        [ True,  True,  True,  True,  True],\n",
       "        [ True,  True,  True,  True,  True],\n",
       "        [ True,  True,  True,  True,  True],\n",
       "        [ True,  True,  True,  True,  True],\n",
       "        [ True,  True,  True,  True,  True],\n",
       "        [ True,  True,  True,  True,  True],\n",
       "        [ True,  True,  True,  True,  True],\n",
       "        [ True,  True,  True,  True,  True],\n",
       "        [ True,  True,  True,  True,  True],\n",
       "        [ True,  True,  True,  True,  True],\n",
       "        [ True,  True,  True,  True,  True],\n",
       "        [ True,  True,  True,  True,  True],\n",
       "        [ True,  True,  True,  True,  True],\n",
       "        [ True,  True,  True,  True,  True],\n",
       "        [ True,  True,  True,  True,  True],\n",
       "        [ True,  True,  True,  True,  True],\n",
       "        [ True,  True,  True,  True,  True],\n",
       "        [ True,  True,  True,  True,  True],\n",
       "        [ True,  True,  True,  True,  True],\n",
       "        [ True,  True,  True,  True,  True],\n",
       "        [ True,  True,  True,  True,  True],\n",
       "        [ True,  True,  True,  True,  True],\n",
       "        [ True,  True,  True,  True,  True],\n",
       "        [ True,  True,  True,  True,  True],\n",
       "        [ True,  True,  True,  True,  True],\n",
       "        [ True,  True,  True,  True,  True],\n",
       "        [ True,  True,  True,  True,  True],\n",
       "        [ True,  True,  True,  True,  True],\n",
       "        [ True,  True,  True,  True,  True],\n",
       "        [ True,  True,  True,  True,  True],\n",
       "        [ True,  True,  True,  True,  True],\n",
       "        [ True,  True,  True,  True,  True],\n",
       "        [ True,  True,  True,  True,  True],\n",
       "        [ True,  True,  True,  True,  True],\n",
       "        [ True,  True,  True,  True,  True],\n",
       "        [ True,  True,  True,  True,  True],\n",
       "        [ True,  True,  True,  True,  True],\n",
       "        [ True,  True,  True,  True,  True],\n",
       "        [ True,  True,  True,  True,  True],\n",
       "        [ True,  True,  True,  True,  True],\n",
       "        [ True,  True,  True,  True,  True],\n",
       "        [ True,  True,  True,  True,  True],\n",
       "        [ True,  True,  True,  True,  True],\n",
       "        [ True,  True,  True,  True,  True],\n",
       "        [ True,  True,  True,  True,  True],\n",
       "        [ True,  True,  True,  True,  True],\n",
       "        [ True,  True,  True,  True,  True],\n",
       "        [ True,  True,  True,  True,  True],\n",
       "        [ True,  True,  True,  True,  True],\n",
       "        [ True,  True,  True,  True,  True],\n",
       "        [ True,  True,  True,  True,  True],\n",
       "        [ True,  True,  True,  True,  True],\n",
       "        [ True,  True,  True,  True,  True],\n",
       "        [ True,  True,  True,  True,  True],\n",
       "        [ True,  True,  True,  True,  True],\n",
       "        [ True,  True,  True,  True,  True],\n",
       "        [ True,  True,  True,  True,  True],\n",
       "        [ True,  True,  True,  True,  True],\n",
       "        [ True,  True,  True,  True,  True],\n",
       "        [ True,  True,  True,  True,  True],\n",
       "        [ True,  True,  True,  True,  True],\n",
       "        [ True,  True,  True,  True,  True],\n",
       "        [ True,  True,  True,  True,  True],\n",
       "        [ True,  True,  True,  True,  True],\n",
       "        [ True,  True,  True,  True,  True],\n",
       "        [ True,  True,  True,  True,  True],\n",
       "        [ True,  True,  True,  True,  True],\n",
       "        [ True,  True,  True,  True,  True],\n",
       "        [ True,  True,  True,  True,  True],\n",
       "        [ True,  True,  True,  True,  True],\n",
       "        [ True,  True,  True,  True,  True],\n",
       "        [ True,  True,  True,  True,  True],\n",
       "        [ True,  True,  True,  True,  True],\n",
       "        [ True,  True,  True,  True,  True],\n",
       "        [ True,  True,  True,  True,  True],\n",
       "        [ True,  True,  True,  True,  True]],\n",
       "\n",
       "       [[ True,  True,  True,  True,  True],\n",
       "        [ True,  True,  True,  True,  True],\n",
       "        [ True,  True,  True,  True,  True],\n",
       "        [ True,  True,  True,  True,  True],\n",
       "        [ True,  True,  True,  True,  True],\n",
       "        [ True,  True,  True,  True,  True],\n",
       "        [ True,  True,  True,  True,  True],\n",
       "        [ True,  True,  True,  True,  True],\n",
       "        [ True,  True,  True,  True,  True],\n",
       "        [ True,  True,  True,  True,  True],\n",
       "        [ True,  True,  True,  True,  True],\n",
       "        [ True,  True,  True,  True,  True],\n",
       "        [ True,  True,  True,  True,  True],\n",
       "        [ True,  True,  True,  True,  True],\n",
       "        [ True,  True,  True,  True,  True],\n",
       "        [ True,  True,  True,  True,  True],\n",
       "        [ True,  True,  True,  True,  True],\n",
       "        [ True,  True,  True,  True,  True],\n",
       "        [ True,  True,  True,  True,  True],\n",
       "        [ True,  True,  True,  True,  True],\n",
       "        [ True,  True,  True,  True,  True],\n",
       "        [ True,  True,  True,  True,  True],\n",
       "        [ True,  True,  True,  True,  True],\n",
       "        [ True,  True,  True,  True,  True],\n",
       "        [ True,  True,  True,  True,  True],\n",
       "        [ True,  True,  True,  True,  True],\n",
       "        [ True,  True,  True,  True,  True],\n",
       "        [ True,  True,  True,  True,  True],\n",
       "        [ True,  True,  True,  True,  True],\n",
       "        [ True,  True,  True,  True,  True],\n",
       "        [ True,  True,  True,  True,  True],\n",
       "        [ True,  True,  True,  True,  True],\n",
       "        [ True,  True,  True,  True,  True],\n",
       "        [ True,  True,  True,  True,  True],\n",
       "        [ True,  True,  True,  True,  True],\n",
       "        [ True,  True,  True,  True,  True],\n",
       "        [ True,  True,  True,  True,  True],\n",
       "        [ True,  True,  True,  True,  True],\n",
       "        [ True,  True,  True,  True,  True],\n",
       "        [ True,  True,  True,  True,  True],\n",
       "        [ True,  True,  True,  True,  True],\n",
       "        [ True,  True,  True,  True,  True],\n",
       "        [ True,  True,  True,  True,  True],\n",
       "        [ True,  True,  True,  True,  True],\n",
       "        [ True,  True,  True,  True,  True],\n",
       "        [ True,  True,  True,  True,  True],\n",
       "        [ True,  True,  True,  True,  True],\n",
       "        [ True,  True,  True,  True,  True],\n",
       "        [ True,  True,  True,  True,  True],\n",
       "        [ True,  True,  True,  True,  True],\n",
       "        [ True,  True,  True,  True,  True],\n",
       "        [ True,  True,  True,  True,  True],\n",
       "        [ True,  True,  True,  True,  True],\n",
       "        [ True,  True,  True,  True,  True],\n",
       "        [ True,  True,  True,  True,  True],\n",
       "        [ True,  True,  True,  True,  True],\n",
       "        [ True,  True,  True,  True,  True],\n",
       "        [ True,  True,  True,  True,  True],\n",
       "        [ True,  True,  True,  True,  True],\n",
       "        [ True,  True,  True,  True,  True],\n",
       "        [ True,  True,  True,  True,  True],\n",
       "        [ True,  True,  True,  True,  True],\n",
       "        [ True,  True,  True,  True,  True],\n",
       "        [ True,  True,  True,  True,  True],\n",
       "        [ True,  True,  True,  True,  True],\n",
       "        [ True,  True,  True,  True,  True],\n",
       "        [ True,  True,  True,  True,  True],\n",
       "        [ True,  True,  True,  True,  True],\n",
       "        [ True,  True,  True,  True,  True],\n",
       "        [ True,  True,  True,  True,  True],\n",
       "        [ True,  True,  True,  True,  True],\n",
       "        [ True,  True,  True,  True,  True],\n",
       "        [ True,  True,  True,  True,  True],\n",
       "        [ True,  True,  True,  True,  True],\n",
       "        [ True,  True,  True,  True,  True],\n",
       "        [ True,  True,  True,  True,  True],\n",
       "        [ True,  True,  True,  True,  True],\n",
       "        [ True,  True,  True,  True,  True],\n",
       "        [ True,  True,  True,  True,  True],\n",
       "        [ True,  True,  True,  True,  True],\n",
       "        [ True,  True,  True,  True,  True],\n",
       "        [ True,  True,  True,  True,  True],\n",
       "        [ True,  True,  True,  True,  True],\n",
       "        [ True,  True,  True,  True,  True],\n",
       "        [ True,  True,  True,  True,  True],\n",
       "        [ True,  True,  True,  True,  True],\n",
       "        [ True,  True,  True,  True,  True],\n",
       "        [ True,  True,  True,  True,  True],\n",
       "        [ True,  True,  True,  True,  True],\n",
       "        [ True,  True,  True,  True,  True],\n",
       "        [ True,  True,  True,  True,  True],\n",
       "        [ True,  True,  True,  True,  True],\n",
       "        [ True,  True,  True,  True,  True],\n",
       "        [ True,  True,  True,  True,  True],\n",
       "        [ True,  True,  True,  True,  True],\n",
       "        [ True,  True,  True,  True,  True],\n",
       "        [ True,  True,  True,  True,  True],\n",
       "        [ True,  True,  True,  True,  True],\n",
       "        [ True,  True,  True,  True,  True],\n",
       "        [ True,  True,  True,  True,  True]]])"
      ]
     },
     "execution_count": 56,
     "metadata": {},
     "output_type": "execute_result"
    }
   ],
   "source": [
    "np.round(neg_cent_tf.numpy(), 3) == np.round(neg_cent.numpy(), 3)"
   ]
  },
  {
   "cell_type": "code",
   "execution_count": null,
   "id": "a4a06f65",
   "metadata": {},
   "outputs": [],
   "source": []
  }
 ],
 "metadata": {
  "kernelspec": {
   "display_name": "tf1",
   "language": "python",
   "name": "tf1"
  },
  "language_info": {
   "codemirror_mode": {
    "name": "ipython",
    "version": 3
   },
   "file_extension": ".py",
   "mimetype": "text/x-python",
   "name": "python",
   "nbconvert_exporter": "python",
   "pygments_lexer": "ipython3",
   "version": "3.8.10"
  }
 },
 "nbformat": 4,
 "nbformat_minor": 5
}

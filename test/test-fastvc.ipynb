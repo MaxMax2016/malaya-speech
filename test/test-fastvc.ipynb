{
 "cells": [
  {
   "cell_type": "code",
   "execution_count": 1,
   "metadata": {},
   "outputs": [],
   "source": [
    "import os\n",
    "\n",
    "os.environ['CUDA_VISIBLE_DEVICES'] = '1'"
   ]
  },
  {
   "cell_type": "code",
   "execution_count": 2,
   "metadata": {},
   "outputs": [],
   "source": [
    "import sys\n",
    "\n",
    "SOURCE_DIR = os.path.dirname(os.path.dirname(os.path.abspath(__name__)))\n",
    "sys.path.insert(0, SOURCE_DIR)"
   ]
  },
  {
   "cell_type": "code",
   "execution_count": 3,
   "metadata": {},
   "outputs": [],
   "source": [
    "import pickle\n",
    "\n",
    "metadata = pickle.load(open('metadata.pkl', \"rb\"))"
   ]
  },
  {
   "cell_type": "code",
   "execution_count": 4,
   "metadata": {},
   "outputs": [
    {
     "name": "stdout",
     "output_type": "stream",
     "text": [
      "WARNING:tensorflow:From /Users/huseinzolkepli/Documents/malaya-speech/malaya_speech/train/optimizer/__init__.py:38: The name tf.train.AdagradOptimizer is deprecated. Please use tf.compat.v1.train.AdagradOptimizer instead.\n",
      "\n",
      "WARNING:tensorflow:From /Users/huseinzolkepli/Documents/malaya-speech/malaya_speech/train/optimizer/__init__.py:39: The name tf.train.AdamOptimizer is deprecated. Please use tf.compat.v1.train.AdamOptimizer instead.\n",
      "\n",
      "WARNING:tensorflow:From /Users/huseinzolkepli/Documents/malaya-speech/malaya_speech/train/optimizer/__init__.py:40: The name tf.train.FtrlOptimizer is deprecated. Please use tf.compat.v1.train.FtrlOptimizer instead.\n",
      "\n",
      "WARNING:tensorflow:From /Users/huseinzolkepli/Documents/malaya-speech/malaya_speech/train/optimizer/__init__.py:42: The name tf.train.RMSPropOptimizer is deprecated. Please use tf.compat.v1.train.RMSPropOptimizer instead.\n",
      "\n",
      "WARNING:tensorflow:From /Users/huseinzolkepli/Documents/malaya-speech/malaya_speech/train/optimizer/__init__.py:43: The name tf.train.GradientDescentOptimizer is deprecated. Please use tf.compat.v1.train.GradientDescentOptimizer instead.\n",
      "\n",
      "WARNING:tensorflow:\n",
      "The TensorFlow contrib module will not be included in TensorFlow 2.0.\n",
      "For more information, please see:\n",
      "  * https://github.com/tensorflow/community/blob/master/rfcs/20180907-contrib-sunset.md\n",
      "  * https://github.com/tensorflow/addons\n",
      "  * https://github.com/tensorflow/io (for I/O related ops)\n",
      "If you depend on functionality not listed there, please file an issue.\n",
      "\n",
      "WARNING:tensorflow:From /Users/huseinzolkepli/Documents/malaya-speech/malaya_speech/train/model/openseq2seq/layer.py:6: The name tf.layers.Conv1D is deprecated. Please use tf.compat.v1.layers.Conv1D instead.\n",
      "\n",
      "WARNING:tensorflow:From /Users/huseinzolkepli/Documents/malaya-speech/malaya_speech/train/model/openseq2seq/attention.py:4: The name tf.layers.Layer is deprecated. Please use tf.compat.v1.layers.Layer instead.\n",
      "\n"
     ]
    }
   ],
   "source": [
    "import numpy as np\n",
    "from math import ceil\n",
    "import tensorflow as tf\n",
    "from malaya_speech.train.model import fastspeech"
   ]
  },
  {
   "cell_type": "code",
   "execution_count": 5,
   "metadata": {},
   "outputs": [],
   "source": [
    "def pad_seq(x, base = 32):\n",
    "    len_out = int(base * ceil(float(x.shape[0])/base))\n",
    "    len_pad = len_out - x.shape[0]\n",
    "    assert len_pad >= 0\n",
    "    return np.pad(x, ((0,len_pad),(0,0)), 'constant'), len_pad"
   ]
  },
  {
   "cell_type": "code",
   "execution_count": 6,
   "metadata": {},
   "outputs": [],
   "source": [
    "sbmt_i = metadata[0]\n",
    "x_org = sbmt_i[2]\n",
    "x_org, len_pad = pad_seq(x_org)\n",
    "c = np.random.normal(size = (1, 512)).astype(np.float32)"
   ]
  },
  {
   "cell_type": "code",
   "execution_count": 7,
   "metadata": {},
   "outputs": [],
   "source": [
    "mel = tf.placeholder(tf.float32, (None, None, 80))\n",
    "ori_vector = tf.placeholder(tf.float32, (None, 512))\n",
    "target_vector = tf.placeholder(tf.float32, (None, 512))\n",
    "mel_lengths = tf.placeholder(tf.int32, (None))"
   ]
  },
  {
   "cell_type": "code",
   "execution_count": 8,
   "metadata": {
    "scrolled": true
   },
   "outputs": [
    {
     "name": "stdout",
     "output_type": "stream",
     "text": [
      "WARNING:tensorflow:From /Library/Frameworks/Python.framework/Versions/3.7/lib/python3.7/site-packages/tensorflow_core/python/ops/init_ops.py:97: calling GlorotUniform.__init__ (from tensorflow.python.ops.init_ops) with dtype is deprecated and will be removed in a future version.\n",
      "Instructions for updating:\n",
      "Call initializer instance with the dtype argument instead of passing it to the constructor\n",
      "WARNING:tensorflow:From /Library/Frameworks/Python.framework/Versions/3.7/lib/python3.7/site-packages/tensorflow_core/python/ops/init_ops.py:97: calling Orthogonal.__init__ (from tensorflow.python.ops.init_ops) with dtype is deprecated and will be removed in a future version.\n",
      "Instructions for updating:\n",
      "Call initializer instance with the dtype argument instead of passing it to the constructor\n",
      "WARNING:tensorflow:From /Library/Frameworks/Python.framework/Versions/3.7/lib/python3.7/site-packages/tensorflow_core/python/ops/init_ops.py:97: calling Zeros.__init__ (from tensorflow.python.ops.init_ops) with dtype is deprecated and will be removed in a future version.\n",
      "Instructions for updating:\n",
      "Call initializer instance with the dtype argument instead of passing it to the constructor\n"
     ]
    }
   ],
   "source": [
    "model = autovc.Model(32, 512, 32)"
   ]
  },
  {
   "cell_type": "code",
   "execution_count": 9,
   "metadata": {},
   "outputs": [
    {
     "name": "stdout",
     "output_type": "stream",
     "text": [
      "WARNING:tensorflow:From /Library/Frameworks/Python.framework/Versions/3.7/lib/python3.7/site-packages/tensorflow_core/python/ops/resource_variable_ops.py:1630: calling BaseResourceVariable.__init__ (from tensorflow.python.ops.resource_variable_ops) with constraint is deprecated and will be removed in a future version.\n",
      "Instructions for updating:\n",
      "If using Keras pass *_constraint arguments to layers.\n"
     ]
    }
   ],
   "source": [
    "encoder_outputs, mel_before, mel_after, codes = model(mel, ori_vector, target_vector)"
   ]
  },
  {
   "cell_type": "code",
   "execution_count": 10,
   "metadata": {},
   "outputs": [],
   "source": [
    "codes_ = model.call_second(mel_after, ori_vector)"
   ]
  },
  {
   "cell_type": "code",
   "execution_count": 11,
   "metadata": {},
   "outputs": [
    {
     "data": {
      "text/plain": [
       "(<tf.Tensor 'autovc/concat:0' shape=(?, ?, 576) dtype=float32>,\n",
       " <tf.Tensor 'autovc/Decoder/LinearNorm/dense/BiasAdd:0' shape=(?, ?, 80) dtype=float32>,\n",
       " <tf.Tensor 'autovc/add:0' shape=(?, ?, 80) dtype=float32>,\n",
       " <tf.Tensor 'autovc/Encoder/TensorArrayStack/TensorArrayGatherV3:0' shape=(?, ?, 64) dtype=float32>,\n",
       " <tf.Tensor 'Encoder/TensorArrayStack/TensorArrayGatherV3:0' shape=(?, ?, 64) dtype=float32>)"
      ]
     },
     "execution_count": 11,
     "metadata": {},
     "output_type": "execute_result"
    }
   ],
   "source": [
    "encoder_outputs, mel_before, mel_after, codes, codes_"
   ]
  },
  {
   "cell_type": "code",
   "execution_count": 12,
   "metadata": {},
   "outputs": [
    {
     "data": {
      "text/plain": [
       "<tf.Tensor 'ExpandDims:0' shape=<unknown> dtype=float32>"
      ]
     },
     "execution_count": 12,
     "metadata": {},
     "output_type": "execute_result"
    }
   ],
   "source": [
    "loss_f = tf.losses.mean_squared_error\n",
    "max_length = tf.cast(tf.reduce_max(mel_lengths), tf.int32)\n",
    "mask = tf.sequence_mask(\n",
    "    lengths = mel_lengths, maxlen = max_length, dtype = tf.float32\n",
    ")\n",
    "mask = tf.expand_dims(mask, axis = -1)\n",
    "mask"
   ]
  },
  {
   "cell_type": "code",
   "execution_count": 13,
   "metadata": {},
   "outputs": [],
   "source": [
    "from functools import partial\n",
    "from malaya_speech.train.loss import calculate_2d_loss, calculate_3d_loss\n",
    "\n",
    "mse_mel = partial(\n",
    "    loss_f,\n",
    "    weights = mask\n",
    ")"
   ]
  },
  {
   "cell_type": "code",
   "execution_count": 14,
   "metadata": {},
   "outputs": [
    {
     "name": "stdout",
     "output_type": "stream",
     "text": [
      "WARNING:tensorflow:From /Library/Frameworks/Python.framework/Versions/3.7/lib/python3.7/site-packages/tensorflow_core/python/ops/losses/losses_impl.py:121: where (from tensorflow.python.ops.array_ops) is deprecated and will be removed in a future version.\n",
      "Instructions for updating:\n",
      "Use tf.where in 2.0, which has the same broadcast rule as np.where\n"
     ]
    },
    {
     "data": {
      "text/plain": [
       "<tf.Tensor 'mean_squared_error/value:0' shape=() dtype=float32>"
      ]
     },
     "execution_count": 14,
     "metadata": {},
     "output_type": "execute_result"
    }
   ],
   "source": [
    "mel_loss_before = calculate_3d_loss(mel, mel_before, mse_mel)\n",
    "mel_loss_before"
   ]
  },
  {
   "cell_type": "code",
   "execution_count": 15,
   "metadata": {},
   "outputs": [
    {
     "data": {
      "text/plain": [
       "<tf.Tensor 'mean_squared_error_1/value:0' shape=() dtype=float32>"
      ]
     },
     "execution_count": 15,
     "metadata": {},
     "output_type": "execute_result"
    }
   ],
   "source": [
    "mel_loss_after = calculate_3d_loss(mel, mel_after, mse_mel)\n",
    "mel_loss_after"
   ]
  },
  {
   "cell_type": "code",
   "execution_count": 16,
   "metadata": {},
   "outputs": [],
   "source": [
    "g_loss_cd = tf.losses.absolute_difference(codes, codes_)"
   ]
  },
  {
   "cell_type": "code",
   "execution_count": 17,
   "metadata": {},
   "outputs": [],
   "source": [
    "loss = mel_loss_before + mel_loss_after + g_loss_cd"
   ]
  },
  {
   "cell_type": "code",
   "execution_count": 18,
   "metadata": {},
   "outputs": [],
   "source": [
    "sess = tf.InteractiveSession()\n",
    "sess.run(tf.global_variables_initializer())"
   ]
  },
  {
   "cell_type": "code",
   "execution_count": 19,
   "metadata": {},
   "outputs": [],
   "source": [
    "o = sess.run([encoder_outputs, mel_before, mel_after], feed_dict = {mel: [x_org],\n",
    "                                                                    ori_vector: c,\n",
    "                                                                    target_vector: c})"
   ]
  },
  {
   "cell_type": "code",
   "execution_count": 20,
   "metadata": {},
   "outputs": [
    {
     "data": {
      "text/plain": [
       "((1, 96, 576), (1, 96, 80), (1, 96, 80))"
      ]
     },
     "execution_count": 20,
     "metadata": {},
     "output_type": "execute_result"
    }
   ],
   "source": [
    "o[0].shape, o[1].shape, o[2].shape"
   ]
  },
  {
   "cell_type": "code",
   "execution_count": 21,
   "metadata": {},
   "outputs": [],
   "source": [
    "o = sess.run([mel_loss_before, mel_loss_after, g_loss_cd], feed_dict = {mel: [x_org],\n",
    "                                                                    ori_vector: c,\n",
    "                                                                    target_vector: c,\n",
    "                                                                    mel_lengths: [len(x_org)]})"
   ]
  },
  {
   "cell_type": "code",
   "execution_count": 22,
   "metadata": {},
   "outputs": [
    {
     "data": {
      "text/plain": [
       "[0.24960284, 1.3624827, 0.12272209]"
      ]
     },
     "execution_count": 22,
     "metadata": {},
     "output_type": "execute_result"
    }
   ],
   "source": [
    "o"
   ]
  },
  {
   "cell_type": "code",
   "execution_count": 23,
   "metadata": {},
   "outputs": [
    {
     "data": {
      "text/plain": [
       "[<tf.Variable 'autovc/Encoder/sequential/ConvNorm/conv1d/kernel:0' shape=(5, 592, 512) dtype=float32>,\n",
       " <tf.Variable 'autovc/Encoder/sequential/ConvNorm/conv1d/bias:0' shape=(512,) dtype=float32>,\n",
       " <tf.Variable 'autovc/Encoder/sequential/batch_normalization/gamma:0' shape=(512,) dtype=float32>,\n",
       " <tf.Variable 'autovc/Encoder/sequential/batch_normalization/beta:0' shape=(512,) dtype=float32>,\n",
       " <tf.Variable 'autovc/Encoder/sequential_1/ConvNorm/conv1d_1/kernel:0' shape=(5, 512, 512) dtype=float32>,\n",
       " <tf.Variable 'autovc/Encoder/sequential_1/ConvNorm/conv1d_1/bias:0' shape=(512,) dtype=float32>,\n",
       " <tf.Variable 'autovc/Encoder/sequential_1/batch_normalization_1/gamma:0' shape=(512,) dtype=float32>,\n",
       " <tf.Variable 'autovc/Encoder/sequential_1/batch_normalization_1/beta:0' shape=(512,) dtype=float32>,\n",
       " <tf.Variable 'autovc/Encoder/sequential_2/ConvNorm/conv1d_2/kernel:0' shape=(5, 512, 512) dtype=float32>,\n",
       " <tf.Variable 'autovc/Encoder/sequential_2/ConvNorm/conv1d_2/bias:0' shape=(512,) dtype=float32>,\n",
       " <tf.Variable 'autovc/Encoder/sequential_2/batch_normalization_2/gamma:0' shape=(512,) dtype=float32>,\n",
       " <tf.Variable 'autovc/Encoder/sequential_2/batch_normalization_2/beta:0' shape=(512,) dtype=float32>,\n",
       " <tf.Variable 'autovc/Encoder/sequential_3/bidirectional/forward_lstm/kernel:0' shape=(512, 128) dtype=float32>,\n",
       " <tf.Variable 'autovc/Encoder/sequential_3/bidirectional/forward_lstm/recurrent_kernel:0' shape=(32, 128) dtype=float32>,\n",
       " <tf.Variable 'autovc/Encoder/sequential_3/bidirectional/forward_lstm/bias:0' shape=(128,) dtype=float32>,\n",
       " <tf.Variable 'autovc/Encoder/sequential_3/bidirectional/backward_lstm/kernel:0' shape=(512, 128) dtype=float32>,\n",
       " <tf.Variable 'autovc/Encoder/sequential_3/bidirectional/backward_lstm/recurrent_kernel:0' shape=(32, 128) dtype=float32>,\n",
       " <tf.Variable 'autovc/Encoder/sequential_3/bidirectional/backward_lstm/bias:0' shape=(128,) dtype=float32>,\n",
       " <tf.Variable 'autovc/Encoder/sequential_3/bidirectional_1/forward_lstm_1/kernel:0' shape=(64, 128) dtype=float32>,\n",
       " <tf.Variable 'autovc/Encoder/sequential_3/bidirectional_1/forward_lstm_1/recurrent_kernel:0' shape=(32, 128) dtype=float32>,\n",
       " <tf.Variable 'autovc/Encoder/sequential_3/bidirectional_1/forward_lstm_1/bias:0' shape=(128,) dtype=float32>,\n",
       " <tf.Variable 'autovc/Encoder/sequential_3/bidirectional_1/backward_lstm_1/kernel:0' shape=(64, 128) dtype=float32>,\n",
       " <tf.Variable 'autovc/Encoder/sequential_3/bidirectional_1/backward_lstm_1/recurrent_kernel:0' shape=(32, 128) dtype=float32>,\n",
       " <tf.Variable 'autovc/Encoder/sequential_3/bidirectional_1/backward_lstm_1/bias:0' shape=(128,) dtype=float32>,\n",
       " <tf.Variable 'autovc/Decoder/lstm_2/kernel:0' shape=(576, 2048) dtype=float32>,\n",
       " <tf.Variable 'autovc/Decoder/lstm_2/recurrent_kernel:0' shape=(512, 2048) dtype=float32>,\n",
       " <tf.Variable 'autovc/Decoder/lstm_2/bias:0' shape=(2048,) dtype=float32>,\n",
       " <tf.Variable 'autovc/Decoder/sequential_4/ConvNorm/conv1d_3/kernel:0' shape=(5, 512, 512) dtype=float32>,\n",
       " <tf.Variable 'autovc/Decoder/sequential_4/ConvNorm/conv1d_3/bias:0' shape=(512,) dtype=float32>,\n",
       " <tf.Variable 'autovc/Decoder/sequential_4/batch_normalization_3/gamma:0' shape=(512,) dtype=float32>,\n",
       " <tf.Variable 'autovc/Decoder/sequential_4/batch_normalization_3/beta:0' shape=(512,) dtype=float32>,\n",
       " <tf.Variable 'autovc/Decoder/sequential_5/ConvNorm/conv1d_4/kernel:0' shape=(5, 512, 512) dtype=float32>,\n",
       " <tf.Variable 'autovc/Decoder/sequential_5/ConvNorm/conv1d_4/bias:0' shape=(512,) dtype=float32>,\n",
       " <tf.Variable 'autovc/Decoder/sequential_5/batch_normalization_4/gamma:0' shape=(512,) dtype=float32>,\n",
       " <tf.Variable 'autovc/Decoder/sequential_5/batch_normalization_4/beta:0' shape=(512,) dtype=float32>,\n",
       " <tf.Variable 'autovc/Decoder/sequential_6/ConvNorm/conv1d_5/kernel:0' shape=(5, 512, 512) dtype=float32>,\n",
       " <tf.Variable 'autovc/Decoder/sequential_6/ConvNorm/conv1d_5/bias:0' shape=(512,) dtype=float32>,\n",
       " <tf.Variable 'autovc/Decoder/sequential_6/batch_normalization_5/gamma:0' shape=(512,) dtype=float32>,\n",
       " <tf.Variable 'autovc/Decoder/sequential_6/batch_normalization_5/beta:0' shape=(512,) dtype=float32>,\n",
       " <tf.Variable 'autovc/Decoder/sequential_7/bidirectional_2/forward_lstm_3/kernel:0' shape=(512, 4096) dtype=float32>,\n",
       " <tf.Variable 'autovc/Decoder/sequential_7/bidirectional_2/forward_lstm_3/recurrent_kernel:0' shape=(1024, 4096) dtype=float32>,\n",
       " <tf.Variable 'autovc/Decoder/sequential_7/bidirectional_2/forward_lstm_3/bias:0' shape=(4096,) dtype=float32>,\n",
       " <tf.Variable 'autovc/Decoder/sequential_7/bidirectional_2/backward_lstm_3/kernel:0' shape=(512, 4096) dtype=float32>,\n",
       " <tf.Variable 'autovc/Decoder/sequential_7/bidirectional_2/backward_lstm_3/recurrent_kernel:0' shape=(1024, 4096) dtype=float32>,\n",
       " <tf.Variable 'autovc/Decoder/sequential_7/bidirectional_2/backward_lstm_3/bias:0' shape=(4096,) dtype=float32>,\n",
       " <tf.Variable 'autovc/Decoder/sequential_7/bidirectional_3/forward_lstm_4/kernel:0' shape=(2048, 4096) dtype=float32>,\n",
       " <tf.Variable 'autovc/Decoder/sequential_7/bidirectional_3/forward_lstm_4/recurrent_kernel:0' shape=(1024, 4096) dtype=float32>,\n",
       " <tf.Variable 'autovc/Decoder/sequential_7/bidirectional_3/forward_lstm_4/bias:0' shape=(4096,) dtype=float32>,\n",
       " <tf.Variable 'autovc/Decoder/sequential_7/bidirectional_3/backward_lstm_4/kernel:0' shape=(2048, 4096) dtype=float32>,\n",
       " <tf.Variable 'autovc/Decoder/sequential_7/bidirectional_3/backward_lstm_4/recurrent_kernel:0' shape=(1024, 4096) dtype=float32>,\n",
       " <tf.Variable 'autovc/Decoder/sequential_7/bidirectional_3/backward_lstm_4/bias:0' shape=(4096,) dtype=float32>,\n",
       " <tf.Variable 'autovc/Decoder/LinearNorm/dense/kernel:0' shape=(2048, 80) dtype=float32>,\n",
       " <tf.Variable 'autovc/Decoder/LinearNorm/dense/bias:0' shape=(80,) dtype=float32>,\n",
       " <tf.Variable 'autovc/Postnet/conv1d_6/kernel:0' shape=(5, 80, 512) dtype=float32>,\n",
       " <tf.Variable 'autovc/Postnet/conv1d_6/bias:0' shape=(512,) dtype=float32>,\n",
       " <tf.Variable 'autovc/Postnet/batch_normalization_6/gamma:0' shape=(512,) dtype=float32>,\n",
       " <tf.Variable 'autovc/Postnet/batch_normalization_6/beta:0' shape=(512,) dtype=float32>,\n",
       " <tf.Variable 'autovc/Postnet/conv1d_7/kernel:0' shape=(5, 512, 512) dtype=float32>,\n",
       " <tf.Variable 'autovc/Postnet/conv1d_7/bias:0' shape=(512,) dtype=float32>,\n",
       " <tf.Variable 'autovc/Postnet/batch_normalization_7/gamma:0' shape=(512,) dtype=float32>,\n",
       " <tf.Variable 'autovc/Postnet/batch_normalization_7/beta:0' shape=(512,) dtype=float32>,\n",
       " <tf.Variable 'autovc/Postnet/conv1d_8/kernel:0' shape=(5, 512, 512) dtype=float32>,\n",
       " <tf.Variable 'autovc/Postnet/conv1d_8/bias:0' shape=(512,) dtype=float32>,\n",
       " <tf.Variable 'autovc/Postnet/batch_normalization_8/gamma:0' shape=(512,) dtype=float32>,\n",
       " <tf.Variable 'autovc/Postnet/batch_normalization_8/beta:0' shape=(512,) dtype=float32>,\n",
       " <tf.Variable 'autovc/Postnet/conv1d_9/kernel:0' shape=(5, 512, 512) dtype=float32>,\n",
       " <tf.Variable 'autovc/Postnet/conv1d_9/bias:0' shape=(512,) dtype=float32>,\n",
       " <tf.Variable 'autovc/Postnet/batch_normalization_9/gamma:0' shape=(512,) dtype=float32>,\n",
       " <tf.Variable 'autovc/Postnet/batch_normalization_9/beta:0' shape=(512,) dtype=float32>,\n",
       " <tf.Variable 'autovc/Postnet/conv1d_10/kernel:0' shape=(5, 512, 80) dtype=float32>,\n",
       " <tf.Variable 'autovc/Postnet/conv1d_10/bias:0' shape=(80,) dtype=float32>,\n",
       " <tf.Variable 'autovc/Postnet/batch_normalization_10/gamma:0' shape=(80,) dtype=float32>,\n",
       " <tf.Variable 'autovc/Postnet/batch_normalization_10/beta:0' shape=(80,) dtype=float32>]"
      ]
     },
     "execution_count": 23,
     "metadata": {},
     "output_type": "execute_result"
    }
   ],
   "source": [
    "tf.trainable_variables()"
   ]
  },
  {
   "cell_type": "code",
   "execution_count": null,
   "metadata": {},
   "outputs": [],
   "source": []
  }
 ],
 "metadata": {
  "kernelspec": {
   "display_name": "Python 3",
   "language": "python",
   "name": "python3"
  },
  "language_info": {
   "codemirror_mode": {
    "name": "ipython",
    "version": 3
   },
   "file_extension": ".py",
   "mimetype": "text/x-python",
   "name": "python",
   "nbconvert_exporter": "python",
   "pygments_lexer": "ipython3",
   "version": "3.7.7"
  }
 },
 "nbformat": 4,
 "nbformat_minor": 4
}

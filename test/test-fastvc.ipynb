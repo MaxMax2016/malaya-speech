{
 "cells": [
  {
   "cell_type": "code",
   "execution_count": 1,
   "metadata": {},
   "outputs": [],
   "source": [
    "import os\n",
    "\n",
    "os.environ['CUDA_VISIBLE_DEVICES'] = '1'"
   ]
  },
  {
   "cell_type": "code",
   "execution_count": 2,
   "metadata": {},
   "outputs": [],
   "source": [
    "import sys\n",
    "\n",
    "SOURCE_DIR = os.path.dirname(os.path.dirname(os.path.abspath(__name__)))\n",
    "sys.path.insert(0, SOURCE_DIR)"
   ]
  },
  {
   "cell_type": "code",
   "execution_count": 3,
   "metadata": {},
   "outputs": [],
   "source": [
    "import pickle\n",
    "\n",
    "metadata = pickle.load(open('metadata.pkl', \"rb\"))"
   ]
  },
  {
   "cell_type": "code",
   "execution_count": 4,
   "metadata": {},
   "outputs": [],
   "source": [
    "# import tensorflow as tf\n",
    "# tf.compat.v1.enable_eager_execution()"
   ]
  },
  {
   "cell_type": "code",
   "execution_count": 5,
   "metadata": {},
   "outputs": [
    {
     "name": "stdout",
     "output_type": "stream",
     "text": [
      "WARNING:tensorflow:From /Users/huseinzolkepli/Documents/malaya-speech/malaya_speech/train/optimizer/__init__.py:38: The name tf.train.AdagradOptimizer is deprecated. Please use tf.compat.v1.train.AdagradOptimizer instead.\n",
      "\n",
      "WARNING:tensorflow:From /Users/huseinzolkepli/Documents/malaya-speech/malaya_speech/train/optimizer/__init__.py:39: The name tf.train.AdamOptimizer is deprecated. Please use tf.compat.v1.train.AdamOptimizer instead.\n",
      "\n",
      "WARNING:tensorflow:From /Users/huseinzolkepli/Documents/malaya-speech/malaya_speech/train/optimizer/__init__.py:40: The name tf.train.FtrlOptimizer is deprecated. Please use tf.compat.v1.train.FtrlOptimizer instead.\n",
      "\n",
      "WARNING:tensorflow:From /Users/huseinzolkepli/Documents/malaya-speech/malaya_speech/train/optimizer/__init__.py:42: The name tf.train.RMSPropOptimizer is deprecated. Please use tf.compat.v1.train.RMSPropOptimizer instead.\n",
      "\n",
      "WARNING:tensorflow:From /Users/huseinzolkepli/Documents/malaya-speech/malaya_speech/train/optimizer/__init__.py:43: The name tf.train.GradientDescentOptimizer is deprecated. Please use tf.compat.v1.train.GradientDescentOptimizer instead.\n",
      "\n",
      "WARNING:tensorflow:\n",
      "The TensorFlow contrib module will not be included in TensorFlow 2.0.\n",
      "For more information, please see:\n",
      "  * https://github.com/tensorflow/community/blob/master/rfcs/20180907-contrib-sunset.md\n",
      "  * https://github.com/tensorflow/addons\n",
      "  * https://github.com/tensorflow/io (for I/O related ops)\n",
      "If you depend on functionality not listed there, please file an issue.\n",
      "\n"
     ]
    }
   ],
   "source": [
    "import numpy as np\n",
    "from math import ceil\n",
    "import tensorflow as tf\n",
    "from malaya_speech.train.model import fastspeech, fastvc\n",
    "import malaya_speech\n",
    "import random"
   ]
  },
  {
   "cell_type": "code",
   "execution_count": 6,
   "metadata": {},
   "outputs": [],
   "source": [
    "speaker_model = malaya_speech.speaker_vector.deep_model('vggvox-v2')\n",
    "sr = 22050\n",
    "\n",
    "def generate(f, hop_size = 256):\n",
    "    audio, _ = malaya_speech.load(f, sr = sr)\n",
    "    mel = malaya_speech.featurization.universal_mel(audio)\n",
    "    batch_max_steps = random.randint(16384, 110250)\n",
    "    batch_max_frames = batch_max_steps // hop_size\n",
    "\n",
    "    if len(mel) > batch_max_frames:\n",
    "        interval_start = 0\n",
    "        interval_end = len(mel) - batch_max_frames\n",
    "        start_frame = random.randint(interval_start, interval_end)\n",
    "        start_step = start_frame * hop_size\n",
    "        mel = mel[start_frame : start_frame + batch_max_frames, :]\n",
    "        audio = audio[start_step : start_step + batch_max_steps]\n",
    "\n",
    "    audio_16k = malaya_speech.resample(audio, sr, 16000)\n",
    "    v = speaker_model([audio_16k])\n",
    "\n",
    "    return {\n",
    "        'mel': mel,\n",
    "        'mel_length': [len(mel)],\n",
    "        'audio': audio,\n",
    "        'v': v[0] * 30 - 3.5,\n",
    "    }"
   ]
  },
  {
   "cell_type": "code",
   "execution_count": 21,
   "metadata": {},
   "outputs": [],
   "source": [
    "out = generate('../speech/example-speaker/female.wav')"
   ]
  },
  {
   "cell_type": "code",
   "execution_count": 8,
   "metadata": {},
   "outputs": [],
   "source": [
    "mel = tf.placeholder(tf.float32, (None, None, 80))\n",
    "ori_vector = tf.placeholder(tf.float32, (None, 512))\n",
    "target_vector = tf.placeholder(tf.float32, (None, 512))\n",
    "mel_lengths = tf.placeholder(tf.int32, (None))"
   ]
  },
  {
   "cell_type": "code",
   "execution_count": 9,
   "metadata": {},
   "outputs": [],
   "source": [
    "dim_neck = 32\n",
    "dim_speaker = 512\n",
    "config = malaya_speech.config.fastspeech_config\n",
    "config['encoder_hidden_size'] = dim_speaker + 80\n",
    "config['decoder_hidden_size'] = dim_speaker + dim_neck\n",
    "config = fastspeech.Config(vocab_size = 1, **config)"
   ]
  },
  {
   "cell_type": "code",
   "execution_count": 10,
   "metadata": {
    "scrolled": true
   },
   "outputs": [
    {
     "name": "stdout",
     "output_type": "stream",
     "text": [
      "WARNING:tensorflow:From /Users/huseinzolkepli/Documents/malaya-speech/malaya_speech/train/model/fastspeech/layer.py:11: The name tf.keras.initializers.TruncatedNormal is deprecated. Please use tf.compat.v1.keras.initializers.TruncatedNormal instead.\n",
      "\n",
      "WARNING:tensorflow:From /Users/huseinzolkepli/Documents/tf-1.15/env/lib/python3.7/site-packages/tensorflow_core/python/keras/initializers.py:94: calling TruncatedNormal.__init__ (from tensorflow.python.ops.init_ops) with dtype is deprecated and will be removed in a future version.\n",
      "Instructions for updating:\n",
      "Call initializer instance with the dtype argument instead of passing it to the constructor\n"
     ]
    }
   ],
   "source": [
    "model = fastvc.model.Model(dim_neck, config, use_position_embedding = False)"
   ]
  },
  {
   "cell_type": "code",
   "execution_count": 11,
   "metadata": {},
   "outputs": [
    {
     "name": "stdout",
     "output_type": "stream",
     "text": [
      "WARNING:tensorflow:From /Users/huseinzolkepli/Documents/tf-1.15/env/lib/python3.7/site-packages/tensorflow_core/python/ops/resource_variable_ops.py:1630: calling BaseResourceVariable.__init__ (from tensorflow.python.ops.resource_variable_ops) with constraint is deprecated and will be removed in a future version.\n",
      "Instructions for updating:\n",
      "If using Keras pass *_constraint arguments to layers.\n"
     ]
    }
   ],
   "source": [
    "encoder_outputs, mel_before, mel_after, codes = model(mel, ori_vector, target_vector, mel_lengths)"
   ]
  },
  {
   "cell_type": "code",
   "execution_count": 12,
   "metadata": {},
   "outputs": [],
   "source": [
    "codes_ = model.call_second(mel_after, ori_vector, mel_lengths)"
   ]
  },
  {
   "cell_type": "code",
   "execution_count": 13,
   "metadata": {},
   "outputs": [
    {
     "data": {
      "text/plain": [
       "(<tf.Tensor 'fastvc/concat:0' shape=(?, ?, 544) dtype=float32>,\n",
       " <tf.Tensor 'fastvc/mel_before/BiasAdd:0' shape=(?, ?, 80) dtype=float32>,\n",
       " <tf.Tensor 'fastvc/add:0' shape=(?, ?, 80) dtype=float32>,\n",
       " <tf.Tensor 'fastvc/Encoder/encoder_dense/BiasAdd:0' shape=(?, ?, 32) dtype=float32>,\n",
       " <tf.Tensor 'Encoder/encoder_dense/BiasAdd:0' shape=(?, ?, 32) dtype=float32>)"
      ]
     },
     "execution_count": 13,
     "metadata": {},
     "output_type": "execute_result"
    }
   ],
   "source": [
    "encoder_outputs, mel_before, mel_after, codes, codes_"
   ]
  },
  {
   "cell_type": "code",
   "execution_count": 14,
   "metadata": {},
   "outputs": [
    {
     "data": {
      "text/plain": [
       "<tf.Tensor 'ExpandDims:0' shape=<unknown> dtype=float32>"
      ]
     },
     "execution_count": 14,
     "metadata": {},
     "output_type": "execute_result"
    }
   ],
   "source": [
    "loss_f = tf.losses.mean_squared_error\n",
    "max_length = tf.cast(tf.reduce_max(mel_lengths), tf.int32)\n",
    "mask = tf.sequence_mask(\n",
    "    lengths = mel_lengths, maxlen = max_length, dtype = tf.float32\n",
    ")\n",
    "mask = tf.expand_dims(mask, axis = -1)\n",
    "mask"
   ]
  },
  {
   "cell_type": "code",
   "execution_count": 15,
   "metadata": {},
   "outputs": [],
   "source": [
    "from functools import partial\n",
    "from malaya_speech.train.loss import calculate_2d_loss, calculate_3d_loss\n",
    "\n",
    "mse_mel = partial(\n",
    "    loss_f,\n",
    "    weights = mask\n",
    ")"
   ]
  },
  {
   "cell_type": "code",
   "execution_count": 16,
   "metadata": {},
   "outputs": [
    {
     "name": "stdout",
     "output_type": "stream",
     "text": [
      "WARNING:tensorflow:From /Users/huseinzolkepli/Documents/tf-1.15/env/lib/python3.7/site-packages/tensorflow_core/python/ops/losses/losses_impl.py:121: where (from tensorflow.python.ops.array_ops) is deprecated and will be removed in a future version.\n",
      "Instructions for updating:\n",
      "Use tf.where in 2.0, which has the same broadcast rule as np.where\n"
     ]
    },
    {
     "data": {
      "text/plain": [
       "<tf.Tensor 'mean_squared_error/value:0' shape=() dtype=float32>"
      ]
     },
     "execution_count": 16,
     "metadata": {},
     "output_type": "execute_result"
    }
   ],
   "source": [
    "mel_loss_before = calculate_3d_loss(mel, mel_before, mse_mel)\n",
    "mel_loss_before"
   ]
  },
  {
   "cell_type": "code",
   "execution_count": 17,
   "metadata": {},
   "outputs": [
    {
     "data": {
      "text/plain": [
       "<tf.Tensor 'mean_squared_error_1/value:0' shape=() dtype=float32>"
      ]
     },
     "execution_count": 17,
     "metadata": {},
     "output_type": "execute_result"
    }
   ],
   "source": [
    "mel_loss_after = calculate_3d_loss(mel, mel_after, mse_mel)\n",
    "mel_loss_after"
   ]
  },
  {
   "cell_type": "code",
   "execution_count": 18,
   "metadata": {},
   "outputs": [],
   "source": [
    "g_loss_cd = tf.losses.absolute_difference(codes, codes_)"
   ]
  },
  {
   "cell_type": "code",
   "execution_count": 19,
   "metadata": {},
   "outputs": [],
   "source": [
    "loss = mel_loss_before + mel_loss_after + g_loss_cd"
   ]
  },
  {
   "cell_type": "code",
   "execution_count": 20,
   "metadata": {},
   "outputs": [],
   "source": [
    "sess = tf.InteractiveSession()\n",
    "sess.run(tf.global_variables_initializer())"
   ]
  },
  {
   "cell_type": "code",
   "execution_count": 23,
   "metadata": {},
   "outputs": [
    {
     "data": {
      "text/plain": [
       "array([-1.5948188 , -2.5590937 , -1.6135337 , -3.5       , -2.3923047 ,\n",
       "       -3.5       , -2.5054214 , -0.53937674, -3.5       , -3.1332235 ,\n",
       "       -3.5       , -3.5       , -0.32021284, -1.0619524 , -3.0251315 ,\n",
       "       -2.6596863 , -3.5       , -3.5       , -2.3167567 , -1.3759847 ,\n",
       "       -3.5       , -3.5       , -3.5       , -1.7767136 , -3.5       ,\n",
       "       -3.5       , -2.6126437 , -2.5392375 , -2.083774  , -2.317572  ,\n",
       "       -3.5       , -3.1178448 , -2.4783316 , -1.9898603 , -3.157979  ,\n",
       "       -3.5       , -2.1449203 , -0.5724082 , -3.5       , -3.5       ,\n",
       "       -2.822224  , -1.4411256 , -3.1397915 , -0.9673116 , -1.7097532 ,\n",
       "       -3.4196122 , -3.5       , -2.9842734 , -2.016067  , -2.4568152 ,\n",
       "       -3.5       , -0.7693229 , -2.3576033 , -2.1704278 , -1.0863576 ,\n",
       "       -3.1307166 , -3.5       , -0.27580285, -3.5       , -1.343863  ,\n",
       "       -3.5       , -1.4165156 , -1.8104421 , -1.9786164 , -2.6418002 ,\n",
       "       -1.2647204 , -3.5       , -2.6869736 , -2.4480016 , -2.8287299 ,\n",
       "       -1.9182125 , -3.5       , -3.5       , -0.16318083, -0.74209833,\n",
       "       -2.6609192 , -3.5       , -2.1815495 , -3.5       , -2.4251733 ,\n",
       "       -3.5       , -1.6444309 , -3.5       , -3.3278224 , -3.5       ,\n",
       "       -3.5       , -3.5       , -2.7275906 , -1.697106  , -3.5       ,\n",
       "       -3.5       , -2.9769495 , -1.5837755 ,  0.03361773, -1.9759418 ,\n",
       "       -2.0175493 , -3.5       , -3.3951504 , -2.8295965 , -1.9100033 ,\n",
       "       -3.204214  , -3.5       , -2.4381413 , -3.5       , -2.1085236 ,\n",
       "       -1.4798594 , -2.7653613 , -3.151518  , -1.7221061 , -2.1133893 ,\n",
       "        1.3644814 , -3.5       , -3.5       , -2.5189013 , -3.5       ,\n",
       "       -2.596792  , -2.9791055 , -3.5       , -2.356398  , -0.716779  ,\n",
       "       -3.5       , -1.6384113 , -3.5       , -1.8895662 , -1.0164554 ,\n",
       "       -3.5       , -3.5       , -3.5       , -3.5       , -3.1478848 ,\n",
       "       -3.5       , -1.7276561 , -1.5981861 , -3.5       , -3.5       ,\n",
       "       -1.4239836 , -3.5       , -1.2581031 , -2.4397073 , -3.5       ,\n",
       "       -2.5982518 , -3.5       , -1.7796537 , -3.5       , -2.934833  ,\n",
       "       -3.5       , -3.5       , -1.2948892 , -3.5       , -2.6603363 ,\n",
       "       -1.5344218 , -3.469169  , -3.5       , -3.5       , -1.2725034 ,\n",
       "       -3.5       , -3.1389022 , -0.7473595 , -0.6115835 , -2.8256702 ,\n",
       "       -3.5       , -3.5       , -2.0903134 , -2.7399812 , -3.5       ,\n",
       "       -3.5       , -3.5       , -2.422831  , -0.6298425 , -3.5       ,\n",
       "       -3.5       , -2.4408379 ,  0.5777731 , -3.1250148 , -1.7380723 ,\n",
       "       -3.5       , -3.5       , -1.6025459 , -3.5       , -2.0507157 ,\n",
       "       -1.0786932 , -3.5       , -1.3939116 , -2.609167  , -2.2107377 ,\n",
       "       -1.6923486 , -1.857019  , -2.3720903 , -3.3052185 , -3.5       ,\n",
       "       -2.929555  , -3.5       , -2.4322748 , -2.5029016 , -2.0810466 ,\n",
       "       -3.5       , -2.0758536 , -3.5       , -3.5       , -3.5       ,\n",
       "       -2.9605296 , -2.8099945 , -2.108761  , -3.5       ,  1.1078568 ,\n",
       "       -3.5       , -3.5       , -2.1481478 , -3.090281  , -2.3034542 ,\n",
       "       -2.598751  , -3.5       , -3.089064  , -3.316759  , -3.5       ,\n",
       "       -3.4714282 , -3.5       , -3.133641  , -3.5       , -3.5       ,\n",
       "       -2.2091162 , -1.8204088 , -2.5131347 , -3.5       , -3.5       ,\n",
       "       -3.5       , -3.5       , -2.9550285 , -1.2903037 , -3.5       ,\n",
       "       -2.545109  , -2.1751487 , -2.5812001 , -3.5       , -3.5       ,\n",
       "       -3.5       , -3.1053655 , -3.059371  , -3.5       , -1.143476  ,\n",
       "       -2.1925611 , -3.1554887 , -3.5       , -2.1622245 , -3.5       ,\n",
       "       -3.4040148 , -3.5       , -2.3167841 , -2.5372338 , -2.831623  ,\n",
       "       -0.7607753 , -2.665211  , -2.5671167 , -3.1836276 , -3.5       ,\n",
       "       -2.8225646 , -3.5       , -2.1061401 , -3.5       , -2.0797105 ,\n",
       "       -1.3440301 , -3.5       , -2.5673647 , -3.5       , -2.6891294 ,\n",
       "       -3.5       , -2.7151709 , -1.6083611 , -3.5       , -3.5       ,\n",
       "       -1.8133851 , -3.5       , -2.395606  , -2.4557004 , -1.6222138 ,\n",
       "       -2.3234248 , -1.8264471 , -2.6732965 , -0.07591581, -2.2324262 ,\n",
       "       -2.1668053 , -1.7918515 , -2.997207  , -1.853245  , -2.012893  ,\n",
       "       -3.5       , -3.5       , -1.2102878 , -1.8745576 , -3.5       ,\n",
       "       -3.5       , -2.2346063 , -2.5165672 , -2.2426639 , -3.495993  ,\n",
       "       -1.7853514 , -2.7626686 , -3.5       , -2.8788223 , -3.5       ,\n",
       "       -0.8150096 , -2.1098557 , -3.0287938 , -1.6173191 , -3.5       ,\n",
       "       -1.7276155 , -3.5       , -3.5       , -2.9764102 , -3.5       ,\n",
       "       -2.2781305 , -2.193924  , -2.7681813 , -2.9808686 , -2.1379073 ,\n",
       "       -2.119811  , -3.491227  , -3.5       , -3.5       , -1.1584659 ,\n",
       "       -2.2042718 , -3.5       , -3.5       , -3.5       , -2.8486981 ,\n",
       "       -3.5       , -2.6802378 , -3.5       , -0.47227454, -3.5       ,\n",
       "       -3.5       , -2.7799976 , -0.90466714, -3.5       , -3.1837738 ,\n",
       "        2.0954943 , -3.5       , -3.5       , -2.864866  , -2.9465468 ,\n",
       "       -3.4715967 , -3.5       , -1.179604  , -3.5       , -3.097974  ,\n",
       "       -3.5       , -3.296474  , -3.5       , -3.5       , -3.5       ,\n",
       "       -1.0013862 , -3.4568157 , -2.5667617 , -3.5       , -3.5       ,\n",
       "       -0.7145772 , -3.5       , -3.5       , -3.5       , -0.22925067,\n",
       "       -1.0289063 , -3.5       , -2.8398414 , -3.5       , -2.1427045 ,\n",
       "       -1.7889336 , -2.9847152 , -2.6535773 , -3.5       , -1.9816899 ,\n",
       "       -1.681893  , -0.3506863 , -3.5       , -3.5       , -1.9334182 ,\n",
       "       -3.5       , -2.3360262 , -3.5       , -3.5       , -3.1034114 ,\n",
       "       -3.5       , -1.403661  , -2.1613722 , -3.5       , -2.6215894 ,\n",
       "       -1.8201122 , -2.1679525 , -1.6766557 , -3.0302336 , -1.7107893 ,\n",
       "       -3.5       , -3.5       , -2.9460058 , -3.0487359 , -1.3756313 ,\n",
       "       -3.5       , -3.5       , -3.5       , -2.6251078 , -3.5       ,\n",
       "       -2.5426116 , -1.4700518 , -3.5       , -3.5       , -3.5       ,\n",
       "       -2.6362529 , -3.5       , -1.4857013 , -2.6024253 , -3.5       ,\n",
       "       -3.5       , -3.5       , -3.5       ,  0.5669117 , -2.2208328 ,\n",
       "       -3.5       , -1.106123  , -0.9661672 , -2.405634  , -2.896359  ,\n",
       "       -3.5       , -3.5       , -2.1482909 , -3.4013178 , -3.3854144 ,\n",
       "       -1.4127598 , -3.5       , -3.5       ,  0.0209024 , -3.5       ,\n",
       "       -1.191484  , -2.1156414 , -3.5       , -3.5       , -1.9924223 ,\n",
       "       -3.5       , -1.9746268 , -2.5901036 , -2.3403783 , -3.5       ,\n",
       "       -2.595736  , -3.5       , -0.5715387 , -2.2476754 , -2.2820864 ,\n",
       "       -3.5       , -3.0682764 , -1.6908588 , -1.7504367 , -2.6453638 ,\n",
       "       -1.7706043 , -3.4529269 , -1.7030313 , -3.5       , -3.5       ,\n",
       "       -1.8917875 , -2.3629375 ,  0.1370902 , -3.5       , -3.0567546 ,\n",
       "       -0.89731956, -2.1537833 , -3.5       , -2.6236238 ,  1.5979047 ,\n",
       "       -1.6781238 , -2.6270404 , -3.5       , -2.1980753 , -2.799631  ,\n",
       "       -2.4242048 , -2.2725892 , -3.5       , -2.2728884 , -2.878068  ,\n",
       "       -2.9841576 , -3.2873828 , -3.5       ,  1.1810656 , -3.4885817 ,\n",
       "       -3.5       , -2.5785887 , -3.5       , -3.3274806 , -2.986259  ,\n",
       "       -2.2780008 , -0.74177957, -2.0352025 , -1.1792841 , -2.371933  ,\n",
       "       -1.8093307 , -1.4955606 , -3.1178656 , -1.8219049 , -3.5       ,\n",
       "       -3.5       , -3.5       , -2.249042  , -2.374754  , -1.4311423 ,\n",
       "       -1.5743887 , -3.5       , -2.7401586 , -2.9423518 , -2.1065807 ,\n",
       "       -3.5       , -1.6530291 , -2.4859867 , -2.289218  , -3.0531461 ,\n",
       "       -3.5       , -2.9413834 ], dtype=float32)"
      ]
     },
     "execution_count": 23,
     "metadata": {},
     "output_type": "execute_result"
    }
   ],
   "source": [
    "out['v']"
   ]
  },
  {
   "cell_type": "code",
   "execution_count": 24,
   "metadata": {},
   "outputs": [],
   "source": [
    "o = sess.run([encoder_outputs, mel_before, mel_after], feed_dict = {mel: [out['mel']],\n",
    "                                                                    ori_vector: [out['v']],\n",
    "                                                                    target_vector: [out['v']],\n",
    "                                                                    mel_lengths: [len(out['mel'])]})"
   ]
  },
  {
   "cell_type": "code",
   "execution_count": 25,
   "metadata": {},
   "outputs": [
    {
     "data": {
      "text/plain": [
       "((1, 385, 544), (1, 385, 80), (1, 385, 80))"
      ]
     },
     "execution_count": 25,
     "metadata": {},
     "output_type": "execute_result"
    }
   ],
   "source": [
    "o[0].shape, o[1].shape, o[2].shape"
   ]
  },
  {
   "cell_type": "code",
   "execution_count": 26,
   "metadata": {},
   "outputs": [],
   "source": [
    "o = sess.run([mel_loss_before, mel_loss_after, g_loss_cd], feed_dict = {mel: [out['mel']],\n",
    "                                                                    ori_vector: [out['v']],\n",
    "                                                                    target_vector: [out['v']],\n",
    "                                                                    mel_lengths: [len(out['mel'])]})"
   ]
  },
  {
   "cell_type": "code",
   "execution_count": 27,
   "metadata": {},
   "outputs": [
    {
     "data": {
      "text/plain": [
       "[3.2110395, 4.290681, 0.8723303]"
      ]
     },
     "execution_count": 27,
     "metadata": {},
     "output_type": "execute_result"
    }
   ],
   "source": [
    "o"
   ]
  },
  {
   "cell_type": "code",
   "execution_count": 28,
   "metadata": {},
   "outputs": [
    {
     "data": {
      "text/plain": [
       "[<tf.Variable 'fastvc/Encoder/encoder/layer_._0/attention/self/query/kernel:0' shape=(592, 384) dtype=float32>,\n",
       " <tf.Variable 'fastvc/Encoder/encoder/layer_._0/attention/self/query/bias:0' shape=(384,) dtype=float32>,\n",
       " <tf.Variable 'fastvc/Encoder/encoder/layer_._0/attention/self/key/kernel:0' shape=(592, 384) dtype=float32>,\n",
       " <tf.Variable 'fastvc/Encoder/encoder/layer_._0/attention/self/key/bias:0' shape=(384,) dtype=float32>,\n",
       " <tf.Variable 'fastvc/Encoder/encoder/layer_._0/attention/self/value/kernel:0' shape=(592, 384) dtype=float32>,\n",
       " <tf.Variable 'fastvc/Encoder/encoder/layer_._0/attention/self/value/bias:0' shape=(384,) dtype=float32>,\n",
       " <tf.Variable 'fastvc/Encoder/encoder/layer_._0/attention/output/dense/kernel:0' shape=(384, 592) dtype=float32>,\n",
       " <tf.Variable 'fastvc/Encoder/encoder/layer_._0/attention/output/dense/bias:0' shape=(592,) dtype=float32>,\n",
       " <tf.Variable 'fastvc/Encoder/encoder/layer_._0/attention/output/LayerNorm/gamma:0' shape=(592,) dtype=float32>,\n",
       " <tf.Variable 'fastvc/Encoder/encoder/layer_._0/attention/output/LayerNorm/beta:0' shape=(592,) dtype=float32>,\n",
       " <tf.Variable 'fastvc/Encoder/encoder/layer_._0/intermediate/conv1d_1/kernel:0' shape=(3, 592, 1024) dtype=float32>,\n",
       " <tf.Variable 'fastvc/Encoder/encoder/layer_._0/intermediate/conv1d_1/bias:0' shape=(1024,) dtype=float32>,\n",
       " <tf.Variable 'fastvc/Encoder/encoder/layer_._0/intermediate/conv1d_2/kernel:0' shape=(3, 1024, 592) dtype=float32>,\n",
       " <tf.Variable 'fastvc/Encoder/encoder/layer_._0/intermediate/conv1d_2/bias:0' shape=(592,) dtype=float32>,\n",
       " <tf.Variable 'fastvc/Encoder/encoder/layer_._0/output/LayerNorm/gamma:0' shape=(592,) dtype=float32>,\n",
       " <tf.Variable 'fastvc/Encoder/encoder/layer_._0/output/LayerNorm/beta:0' shape=(592,) dtype=float32>,\n",
       " <tf.Variable 'fastvc/Encoder/encoder/layer_._1/attention/self/query/kernel:0' shape=(592, 384) dtype=float32>,\n",
       " <tf.Variable 'fastvc/Encoder/encoder/layer_._1/attention/self/query/bias:0' shape=(384,) dtype=float32>,\n",
       " <tf.Variable 'fastvc/Encoder/encoder/layer_._1/attention/self/key/kernel:0' shape=(592, 384) dtype=float32>,\n",
       " <tf.Variable 'fastvc/Encoder/encoder/layer_._1/attention/self/key/bias:0' shape=(384,) dtype=float32>,\n",
       " <tf.Variable 'fastvc/Encoder/encoder/layer_._1/attention/self/value/kernel:0' shape=(592, 384) dtype=float32>,\n",
       " <tf.Variable 'fastvc/Encoder/encoder/layer_._1/attention/self/value/bias:0' shape=(384,) dtype=float32>,\n",
       " <tf.Variable 'fastvc/Encoder/encoder/layer_._1/attention/output/dense/kernel:0' shape=(384, 592) dtype=float32>,\n",
       " <tf.Variable 'fastvc/Encoder/encoder/layer_._1/attention/output/dense/bias:0' shape=(592,) dtype=float32>,\n",
       " <tf.Variable 'fastvc/Encoder/encoder/layer_._1/attention/output/LayerNorm/gamma:0' shape=(592,) dtype=float32>,\n",
       " <tf.Variable 'fastvc/Encoder/encoder/layer_._1/attention/output/LayerNorm/beta:0' shape=(592,) dtype=float32>,\n",
       " <tf.Variable 'fastvc/Encoder/encoder/layer_._1/intermediate/conv1d_1/kernel:0' shape=(3, 592, 1024) dtype=float32>,\n",
       " <tf.Variable 'fastvc/Encoder/encoder/layer_._1/intermediate/conv1d_1/bias:0' shape=(1024,) dtype=float32>,\n",
       " <tf.Variable 'fastvc/Encoder/encoder/layer_._1/intermediate/conv1d_2/kernel:0' shape=(3, 1024, 592) dtype=float32>,\n",
       " <tf.Variable 'fastvc/Encoder/encoder/layer_._1/intermediate/conv1d_2/bias:0' shape=(592,) dtype=float32>,\n",
       " <tf.Variable 'fastvc/Encoder/encoder/layer_._1/output/LayerNorm/gamma:0' shape=(592,) dtype=float32>,\n",
       " <tf.Variable 'fastvc/Encoder/encoder/layer_._1/output/LayerNorm/beta:0' shape=(592,) dtype=float32>,\n",
       " <tf.Variable 'fastvc/Encoder/encoder/layer_._2/attention/self/query/kernel:0' shape=(592, 384) dtype=float32>,\n",
       " <tf.Variable 'fastvc/Encoder/encoder/layer_._2/attention/self/query/bias:0' shape=(384,) dtype=float32>,\n",
       " <tf.Variable 'fastvc/Encoder/encoder/layer_._2/attention/self/key/kernel:0' shape=(592, 384) dtype=float32>,\n",
       " <tf.Variable 'fastvc/Encoder/encoder/layer_._2/attention/self/key/bias:0' shape=(384,) dtype=float32>,\n",
       " <tf.Variable 'fastvc/Encoder/encoder/layer_._2/attention/self/value/kernel:0' shape=(592, 384) dtype=float32>,\n",
       " <tf.Variable 'fastvc/Encoder/encoder/layer_._2/attention/self/value/bias:0' shape=(384,) dtype=float32>,\n",
       " <tf.Variable 'fastvc/Encoder/encoder/layer_._2/attention/output/dense/kernel:0' shape=(384, 592) dtype=float32>,\n",
       " <tf.Variable 'fastvc/Encoder/encoder/layer_._2/attention/output/dense/bias:0' shape=(592,) dtype=float32>,\n",
       " <tf.Variable 'fastvc/Encoder/encoder/layer_._2/attention/output/LayerNorm/gamma:0' shape=(592,) dtype=float32>,\n",
       " <tf.Variable 'fastvc/Encoder/encoder/layer_._2/attention/output/LayerNorm/beta:0' shape=(592,) dtype=float32>,\n",
       " <tf.Variable 'fastvc/Encoder/encoder/layer_._2/intermediate/conv1d_1/kernel:0' shape=(3, 592, 1024) dtype=float32>,\n",
       " <tf.Variable 'fastvc/Encoder/encoder/layer_._2/intermediate/conv1d_1/bias:0' shape=(1024,) dtype=float32>,\n",
       " <tf.Variable 'fastvc/Encoder/encoder/layer_._2/intermediate/conv1d_2/kernel:0' shape=(3, 1024, 592) dtype=float32>,\n",
       " <tf.Variable 'fastvc/Encoder/encoder/layer_._2/intermediate/conv1d_2/bias:0' shape=(592,) dtype=float32>,\n",
       " <tf.Variable 'fastvc/Encoder/encoder/layer_._2/output/LayerNorm/gamma:0' shape=(592,) dtype=float32>,\n",
       " <tf.Variable 'fastvc/Encoder/encoder/layer_._2/output/LayerNorm/beta:0' shape=(592,) dtype=float32>,\n",
       " <tf.Variable 'fastvc/Encoder/encoder/layer_._3/attention/self/query/kernel:0' shape=(592, 384) dtype=float32>,\n",
       " <tf.Variable 'fastvc/Encoder/encoder/layer_._3/attention/self/query/bias:0' shape=(384,) dtype=float32>,\n",
       " <tf.Variable 'fastvc/Encoder/encoder/layer_._3/attention/self/key/kernel:0' shape=(592, 384) dtype=float32>,\n",
       " <tf.Variable 'fastvc/Encoder/encoder/layer_._3/attention/self/key/bias:0' shape=(384,) dtype=float32>,\n",
       " <tf.Variable 'fastvc/Encoder/encoder/layer_._3/attention/self/value/kernel:0' shape=(592, 384) dtype=float32>,\n",
       " <tf.Variable 'fastvc/Encoder/encoder/layer_._3/attention/self/value/bias:0' shape=(384,) dtype=float32>,\n",
       " <tf.Variable 'fastvc/Encoder/encoder/layer_._3/attention/output/dense/kernel:0' shape=(384, 592) dtype=float32>,\n",
       " <tf.Variable 'fastvc/Encoder/encoder/layer_._3/attention/output/dense/bias:0' shape=(592,) dtype=float32>,\n",
       " <tf.Variable 'fastvc/Encoder/encoder/layer_._3/attention/output/LayerNorm/gamma:0' shape=(592,) dtype=float32>,\n",
       " <tf.Variable 'fastvc/Encoder/encoder/layer_._3/attention/output/LayerNorm/beta:0' shape=(592,) dtype=float32>,\n",
       " <tf.Variable 'fastvc/Encoder/encoder/layer_._3/intermediate/conv1d_1/kernel:0' shape=(3, 592, 1024) dtype=float32>,\n",
       " <tf.Variable 'fastvc/Encoder/encoder/layer_._3/intermediate/conv1d_1/bias:0' shape=(1024,) dtype=float32>,\n",
       " <tf.Variable 'fastvc/Encoder/encoder/layer_._3/intermediate/conv1d_2/kernel:0' shape=(3, 1024, 592) dtype=float32>,\n",
       " <tf.Variable 'fastvc/Encoder/encoder/layer_._3/intermediate/conv1d_2/bias:0' shape=(592,) dtype=float32>,\n",
       " <tf.Variable 'fastvc/Encoder/encoder/layer_._3/output/LayerNorm/gamma:0' shape=(592,) dtype=float32>,\n",
       " <tf.Variable 'fastvc/Encoder/encoder/layer_._3/output/LayerNorm/beta:0' shape=(592,) dtype=float32>,\n",
       " <tf.Variable 'fastvc/Encoder/encoder_dense/kernel:0' shape=(592, 32) dtype=float32>,\n",
       " <tf.Variable 'fastvc/Encoder/encoder_dense/bias:0' shape=(32,) dtype=float32>,\n",
       " <tf.Variable 'fastvc/Decoder/encoder/layer_._0/attention/self/query/kernel:0' shape=(544, 384) dtype=float32>,\n",
       " <tf.Variable 'fastvc/Decoder/encoder/layer_._0/attention/self/query/bias:0' shape=(384,) dtype=float32>,\n",
       " <tf.Variable 'fastvc/Decoder/encoder/layer_._0/attention/self/key/kernel:0' shape=(544, 384) dtype=float32>,\n",
       " <tf.Variable 'fastvc/Decoder/encoder/layer_._0/attention/self/key/bias:0' shape=(384,) dtype=float32>,\n",
       " <tf.Variable 'fastvc/Decoder/encoder/layer_._0/attention/self/value/kernel:0' shape=(544, 384) dtype=float32>,\n",
       " <tf.Variable 'fastvc/Decoder/encoder/layer_._0/attention/self/value/bias:0' shape=(384,) dtype=float32>,\n",
       " <tf.Variable 'fastvc/Decoder/encoder/layer_._0/attention/output/dense/kernel:0' shape=(384, 544) dtype=float32>,\n",
       " <tf.Variable 'fastvc/Decoder/encoder/layer_._0/attention/output/dense/bias:0' shape=(544,) dtype=float32>,\n",
       " <tf.Variable 'fastvc/Decoder/encoder/layer_._0/attention/output/LayerNorm/gamma:0' shape=(544,) dtype=float32>,\n",
       " <tf.Variable 'fastvc/Decoder/encoder/layer_._0/attention/output/LayerNorm/beta:0' shape=(544,) dtype=float32>,\n",
       " <tf.Variable 'fastvc/Decoder/encoder/layer_._0/intermediate/conv1d_1/kernel:0' shape=(3, 544, 1024) dtype=float32>,\n",
       " <tf.Variable 'fastvc/Decoder/encoder/layer_._0/intermediate/conv1d_1/bias:0' shape=(1024,) dtype=float32>,\n",
       " <tf.Variable 'fastvc/Decoder/encoder/layer_._0/intermediate/conv1d_2/kernel:0' shape=(3, 1024, 544) dtype=float32>,\n",
       " <tf.Variable 'fastvc/Decoder/encoder/layer_._0/intermediate/conv1d_2/bias:0' shape=(544,) dtype=float32>,\n",
       " <tf.Variable 'fastvc/Decoder/encoder/layer_._0/output/LayerNorm/gamma:0' shape=(544,) dtype=float32>,\n",
       " <tf.Variable 'fastvc/Decoder/encoder/layer_._0/output/LayerNorm/beta:0' shape=(544,) dtype=float32>,\n",
       " <tf.Variable 'fastvc/Decoder/encoder/layer_._1/attention/self/query/kernel:0' shape=(544, 384) dtype=float32>,\n",
       " <tf.Variable 'fastvc/Decoder/encoder/layer_._1/attention/self/query/bias:0' shape=(384,) dtype=float32>,\n",
       " <tf.Variable 'fastvc/Decoder/encoder/layer_._1/attention/self/key/kernel:0' shape=(544, 384) dtype=float32>,\n",
       " <tf.Variable 'fastvc/Decoder/encoder/layer_._1/attention/self/key/bias:0' shape=(384,) dtype=float32>,\n",
       " <tf.Variable 'fastvc/Decoder/encoder/layer_._1/attention/self/value/kernel:0' shape=(544, 384) dtype=float32>,\n",
       " <tf.Variable 'fastvc/Decoder/encoder/layer_._1/attention/self/value/bias:0' shape=(384,) dtype=float32>,\n",
       " <tf.Variable 'fastvc/Decoder/encoder/layer_._1/attention/output/dense/kernel:0' shape=(384, 544) dtype=float32>,\n",
       " <tf.Variable 'fastvc/Decoder/encoder/layer_._1/attention/output/dense/bias:0' shape=(544,) dtype=float32>,\n",
       " <tf.Variable 'fastvc/Decoder/encoder/layer_._1/attention/output/LayerNorm/gamma:0' shape=(544,) dtype=float32>,\n",
       " <tf.Variable 'fastvc/Decoder/encoder/layer_._1/attention/output/LayerNorm/beta:0' shape=(544,) dtype=float32>,\n",
       " <tf.Variable 'fastvc/Decoder/encoder/layer_._1/intermediate/conv1d_1/kernel:0' shape=(3, 544, 1024) dtype=float32>,\n",
       " <tf.Variable 'fastvc/Decoder/encoder/layer_._1/intermediate/conv1d_1/bias:0' shape=(1024,) dtype=float32>,\n",
       " <tf.Variable 'fastvc/Decoder/encoder/layer_._1/intermediate/conv1d_2/kernel:0' shape=(3, 1024, 544) dtype=float32>,\n",
       " <tf.Variable 'fastvc/Decoder/encoder/layer_._1/intermediate/conv1d_2/bias:0' shape=(544,) dtype=float32>,\n",
       " <tf.Variable 'fastvc/Decoder/encoder/layer_._1/output/LayerNorm/gamma:0' shape=(544,) dtype=float32>,\n",
       " <tf.Variable 'fastvc/Decoder/encoder/layer_._1/output/LayerNorm/beta:0' shape=(544,) dtype=float32>,\n",
       " <tf.Variable 'fastvc/Decoder/encoder/layer_._2/attention/self/query/kernel:0' shape=(544, 384) dtype=float32>,\n",
       " <tf.Variable 'fastvc/Decoder/encoder/layer_._2/attention/self/query/bias:0' shape=(384,) dtype=float32>,\n",
       " <tf.Variable 'fastvc/Decoder/encoder/layer_._2/attention/self/key/kernel:0' shape=(544, 384) dtype=float32>,\n",
       " <tf.Variable 'fastvc/Decoder/encoder/layer_._2/attention/self/key/bias:0' shape=(384,) dtype=float32>,\n",
       " <tf.Variable 'fastvc/Decoder/encoder/layer_._2/attention/self/value/kernel:0' shape=(544, 384) dtype=float32>,\n",
       " <tf.Variable 'fastvc/Decoder/encoder/layer_._2/attention/self/value/bias:0' shape=(384,) dtype=float32>,\n",
       " <tf.Variable 'fastvc/Decoder/encoder/layer_._2/attention/output/dense/kernel:0' shape=(384, 544) dtype=float32>,\n",
       " <tf.Variable 'fastvc/Decoder/encoder/layer_._2/attention/output/dense/bias:0' shape=(544,) dtype=float32>,\n",
       " <tf.Variable 'fastvc/Decoder/encoder/layer_._2/attention/output/LayerNorm/gamma:0' shape=(544,) dtype=float32>,\n",
       " <tf.Variable 'fastvc/Decoder/encoder/layer_._2/attention/output/LayerNorm/beta:0' shape=(544,) dtype=float32>,\n",
       " <tf.Variable 'fastvc/Decoder/encoder/layer_._2/intermediate/conv1d_1/kernel:0' shape=(3, 544, 1024) dtype=float32>,\n",
       " <tf.Variable 'fastvc/Decoder/encoder/layer_._2/intermediate/conv1d_1/bias:0' shape=(1024,) dtype=float32>,\n",
       " <tf.Variable 'fastvc/Decoder/encoder/layer_._2/intermediate/conv1d_2/kernel:0' shape=(3, 1024, 544) dtype=float32>,\n",
       " <tf.Variable 'fastvc/Decoder/encoder/layer_._2/intermediate/conv1d_2/bias:0' shape=(544,) dtype=float32>,\n",
       " <tf.Variable 'fastvc/Decoder/encoder/layer_._2/output/LayerNorm/gamma:0' shape=(544,) dtype=float32>,\n",
       " <tf.Variable 'fastvc/Decoder/encoder/layer_._2/output/LayerNorm/beta:0' shape=(544,) dtype=float32>,\n",
       " <tf.Variable 'fastvc/Decoder/encoder/layer_._3/attention/self/query/kernel:0' shape=(544, 384) dtype=float32>,\n",
       " <tf.Variable 'fastvc/Decoder/encoder/layer_._3/attention/self/query/bias:0' shape=(384,) dtype=float32>,\n",
       " <tf.Variable 'fastvc/Decoder/encoder/layer_._3/attention/self/key/kernel:0' shape=(544, 384) dtype=float32>,\n",
       " <tf.Variable 'fastvc/Decoder/encoder/layer_._3/attention/self/key/bias:0' shape=(384,) dtype=float32>,\n",
       " <tf.Variable 'fastvc/Decoder/encoder/layer_._3/attention/self/value/kernel:0' shape=(544, 384) dtype=float32>,\n",
       " <tf.Variable 'fastvc/Decoder/encoder/layer_._3/attention/self/value/bias:0' shape=(384,) dtype=float32>,\n",
       " <tf.Variable 'fastvc/Decoder/encoder/layer_._3/attention/output/dense/kernel:0' shape=(384, 544) dtype=float32>,\n",
       " <tf.Variable 'fastvc/Decoder/encoder/layer_._3/attention/output/dense/bias:0' shape=(544,) dtype=float32>,\n",
       " <tf.Variable 'fastvc/Decoder/encoder/layer_._3/attention/output/LayerNorm/gamma:0' shape=(544,) dtype=float32>,\n",
       " <tf.Variable 'fastvc/Decoder/encoder/layer_._3/attention/output/LayerNorm/beta:0' shape=(544,) dtype=float32>,\n",
       " <tf.Variable 'fastvc/Decoder/encoder/layer_._3/intermediate/conv1d_1/kernel:0' shape=(3, 544, 1024) dtype=float32>,\n",
       " <tf.Variable 'fastvc/Decoder/encoder/layer_._3/intermediate/conv1d_1/bias:0' shape=(1024,) dtype=float32>,\n",
       " <tf.Variable 'fastvc/Decoder/encoder/layer_._3/intermediate/conv1d_2/kernel:0' shape=(3, 1024, 544) dtype=float32>,\n",
       " <tf.Variable 'fastvc/Decoder/encoder/layer_._3/intermediate/conv1d_2/bias:0' shape=(544,) dtype=float32>,\n",
       " <tf.Variable 'fastvc/Decoder/encoder/layer_._3/output/LayerNorm/gamma:0' shape=(544,) dtype=float32>,\n",
       " <tf.Variable 'fastvc/Decoder/encoder/layer_._3/output/LayerNorm/beta:0' shape=(544,) dtype=float32>,\n",
       " <tf.Variable 'fastvc/mel_before/kernel:0' shape=(544, 80) dtype=float32>,\n",
       " <tf.Variable 'fastvc/mel_before/bias:0' shape=(80,) dtype=float32>,\n",
       " <tf.Variable 'fastvc/postnet/conv_._0/kernel:0' shape=(5, 80, 512) dtype=float32>,\n",
       " <tf.Variable 'fastvc/postnet/conv_._0/bias:0' shape=(512,) dtype=float32>,\n",
       " <tf.Variable 'fastvc/postnet/batch_norm_._0/gamma:0' shape=(512,) dtype=float32>,\n",
       " <tf.Variable 'fastvc/postnet/batch_norm_._0/beta:0' shape=(512,) dtype=float32>,\n",
       " <tf.Variable 'fastvc/postnet/conv_._1/kernel:0' shape=(5, 512, 512) dtype=float32>,\n",
       " <tf.Variable 'fastvc/postnet/conv_._1/bias:0' shape=(512,) dtype=float32>,\n",
       " <tf.Variable 'fastvc/postnet/batch_norm_._1/gamma:0' shape=(512,) dtype=float32>,\n",
       " <tf.Variable 'fastvc/postnet/batch_norm_._1/beta:0' shape=(512,) dtype=float32>,\n",
       " <tf.Variable 'fastvc/postnet/conv_._2/kernel:0' shape=(5, 512, 512) dtype=float32>,\n",
       " <tf.Variable 'fastvc/postnet/conv_._2/bias:0' shape=(512,) dtype=float32>,\n",
       " <tf.Variable 'fastvc/postnet/batch_norm_._2/gamma:0' shape=(512,) dtype=float32>,\n",
       " <tf.Variable 'fastvc/postnet/batch_norm_._2/beta:0' shape=(512,) dtype=float32>,\n",
       " <tf.Variable 'fastvc/postnet/conv_._3/kernel:0' shape=(5, 512, 512) dtype=float32>,\n",
       " <tf.Variable 'fastvc/postnet/conv_._3/bias:0' shape=(512,) dtype=float32>,\n",
       " <tf.Variable 'fastvc/postnet/batch_norm_._3/gamma:0' shape=(512,) dtype=float32>,\n",
       " <tf.Variable 'fastvc/postnet/batch_norm_._3/beta:0' shape=(512,) dtype=float32>,\n",
       " <tf.Variable 'fastvc/postnet/conv_._4/kernel:0' shape=(5, 512, 80) dtype=float32>,\n",
       " <tf.Variable 'fastvc/postnet/conv_._4/bias:0' shape=(80,) dtype=float32>,\n",
       " <tf.Variable 'fastvc/postnet/batch_norm_._4/gamma:0' shape=(80,) dtype=float32>,\n",
       " <tf.Variable 'fastvc/postnet/batch_norm_._4/beta:0' shape=(80,) dtype=float32>]"
      ]
     },
     "execution_count": 28,
     "metadata": {},
     "output_type": "execute_result"
    }
   ],
   "source": [
    "tf.trainable_variables()"
   ]
  },
  {
   "cell_type": "code",
   "execution_count": 29,
   "metadata": {},
   "outputs": [
    {
     "data": {
      "text/plain": [
       "'test/model.ckpt'"
      ]
     },
     "execution_count": 29,
     "metadata": {},
     "output_type": "execute_result"
    }
   ],
   "source": [
    "saver = tf.train.Saver(tf.trainable_variables())\n",
    "saver.save(sess, \"test/model.ckpt\")"
   ]
  },
  {
   "cell_type": "code",
   "execution_count": 30,
   "metadata": {},
   "outputs": [
    {
     "name": "stdout",
     "output_type": "stream",
     "text": [
      "total 310368\r\n",
      "-rw-r--r--  1 huseinzolkepli  staff    77B May 19 23:06 checkpoint\r\n",
      "-rw-r--r--  1 huseinzolkepli  staff   150M May 19 23:06 model.ckpt.data-00000-of-00001\r\n",
      "-rw-r--r--  1 huseinzolkepli  staff   6.3K May 19 23:06 model.ckpt.index\r\n",
      "-rw-r--r--  1 huseinzolkepli  staff   1.4M May 19 23:06 model.ckpt.meta\r\n"
     ]
    }
   ],
   "source": [
    "!ls -lh test\n",
    "!rm -rf test"
   ]
  }
 ],
 "metadata": {
  "kernelspec": {
   "display_name": "Python 3",
   "language": "python",
   "name": "python3"
  },
  "language_info": {
   "codemirror_mode": {
    "name": "ipython",
    "version": 3
   },
   "file_extension": ".py",
   "mimetype": "text/x-python",
   "name": "python",
   "nbconvert_exporter": "python",
   "pygments_lexer": "ipython3",
   "version": "3.7.7"
  }
 },
 "nbformat": 4,
 "nbformat_minor": 4
}

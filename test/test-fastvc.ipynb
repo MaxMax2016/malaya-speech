{
 "cells": [
  {
   "cell_type": "code",
   "execution_count": 1,
   "metadata": {},
   "outputs": [],
   "source": [
    "import os\n",
    "\n",
    "os.environ['CUDA_VISIBLE_DEVICES'] = '1'"
   ]
  },
  {
   "cell_type": "code",
   "execution_count": 2,
   "metadata": {},
   "outputs": [],
   "source": [
    "import sys\n",
    "\n",
    "SOURCE_DIR = os.path.dirname(os.path.dirname(os.path.abspath(__name__)))\n",
    "sys.path.insert(0, SOURCE_DIR)"
   ]
  },
  {
   "cell_type": "code",
   "execution_count": 3,
   "metadata": {},
   "outputs": [],
   "source": [
    "import pickle\n",
    "\n",
    "metadata = pickle.load(open('metadata.pkl', \"rb\"))"
   ]
  },
  {
   "cell_type": "code",
   "execution_count": 4,
   "metadata": {},
   "outputs": [
    {
     "name": "stdout",
     "output_type": "stream",
     "text": [
      "WARNING:tensorflow:From /Users/huseinzolkepli/Documents/malaya-speech/malaya_speech/train/optimizer/__init__.py:38: The name tf.train.AdagradOptimizer is deprecated. Please use tf.compat.v1.train.AdagradOptimizer instead.\n",
      "\n",
      "WARNING:tensorflow:From /Users/huseinzolkepli/Documents/malaya-speech/malaya_speech/train/optimizer/__init__.py:39: The name tf.train.AdamOptimizer is deprecated. Please use tf.compat.v1.train.AdamOptimizer instead.\n",
      "\n",
      "WARNING:tensorflow:From /Users/huseinzolkepli/Documents/malaya-speech/malaya_speech/train/optimizer/__init__.py:40: The name tf.train.FtrlOptimizer is deprecated. Please use tf.compat.v1.train.FtrlOptimizer instead.\n",
      "\n",
      "WARNING:tensorflow:From /Users/huseinzolkepli/Documents/malaya-speech/malaya_speech/train/optimizer/__init__.py:42: The name tf.train.RMSPropOptimizer is deprecated. Please use tf.compat.v1.train.RMSPropOptimizer instead.\n",
      "\n",
      "WARNING:tensorflow:From /Users/huseinzolkepli/Documents/malaya-speech/malaya_speech/train/optimizer/__init__.py:43: The name tf.train.GradientDescentOptimizer is deprecated. Please use tf.compat.v1.train.GradientDescentOptimizer instead.\n",
      "\n",
      "WARNING:tensorflow:\n",
      "The TensorFlow contrib module will not be included in TensorFlow 2.0.\n",
      "For more information, please see:\n",
      "  * https://github.com/tensorflow/community/blob/master/rfcs/20180907-contrib-sunset.md\n",
      "  * https://github.com/tensorflow/addons\n",
      "  * https://github.com/tensorflow/io (for I/O related ops)\n",
      "If you depend on functionality not listed there, please file an issue.\n",
      "\n",
      "WARNING:tensorflow:From /Users/huseinzolkepli/Documents/malaya-speech/malaya_speech/train/model/openseq2seq/layer.py:6: The name tf.layers.Conv1D is deprecated. Please use tf.compat.v1.layers.Conv1D instead.\n",
      "\n",
      "WARNING:tensorflow:From /Users/huseinzolkepli/Documents/malaya-speech/malaya_speech/train/model/openseq2seq/attention.py:4: The name tf.layers.Layer is deprecated. Please use tf.compat.v1.layers.Layer instead.\n",
      "\n"
     ]
    }
   ],
   "source": [
    "import numpy as np\n",
    "from math import ceil\n",
    "import tensorflow as tf\n",
    "from malaya_speech.train.model import fastspeech, fastvc\n",
    "import malaya_speech"
   ]
  },
  {
   "cell_type": "code",
   "execution_count": 5,
   "metadata": {},
   "outputs": [],
   "source": [
    "def pad_seq(x, base = 32):\n",
    "    len_out = int(base * ceil(float(x.shape[0])/base))\n",
    "    len_pad = len_out - x.shape[0]\n",
    "    assert len_pad >= 0\n",
    "    return np.pad(x, ((0,len_pad),(0,0)), 'constant'), len_pad"
   ]
  },
  {
   "cell_type": "code",
   "execution_count": 6,
   "metadata": {},
   "outputs": [],
   "source": [
    "sbmt_i = metadata[0]\n",
    "x_org = sbmt_i[2]\n",
    "x_org, len_pad = pad_seq(x_org)\n",
    "c = np.random.normal(size = (2, 512)).astype(np.float32)"
   ]
  },
  {
   "cell_type": "code",
   "execution_count": 7,
   "metadata": {},
   "outputs": [],
   "source": [
    "mel = tf.placeholder(tf.float32, (None, None, 80))\n",
    "ori_vector = tf.placeholder(tf.float32, (None, 512))\n",
    "target_vector = tf.placeholder(tf.float32, (None, 512))\n",
    "mel_lengths = tf.placeholder(tf.int32, (None))"
   ]
  },
  {
   "cell_type": "code",
   "execution_count": 8,
   "metadata": {},
   "outputs": [],
   "source": [
    "config = malaya_speech.config.fastspeech_config\n",
    "config['encoder_hidden_size'] = 256\n",
    "config = fastspeech.Config(vocab_size = 66, **config)"
   ]
  },
  {
   "cell_type": "code",
   "execution_count": 9,
   "metadata": {
    "scrolled": true
   },
   "outputs": [
    {
     "name": "stdout",
     "output_type": "stream",
     "text": [
      "WARNING:tensorflow:From /Users/huseinzolkepli/Documents/malaya-speech/malaya_speech/train/model/fastspeech/layer.py:11: The name tf.keras.initializers.TruncatedNormal is deprecated. Please use tf.compat.v1.keras.initializers.TruncatedNormal instead.\n",
      "\n",
      "WARNING:tensorflow:From /Library/Frameworks/Python.framework/Versions/3.7/lib/python3.7/site-packages/tensorflow_core/python/keras/initializers.py:94: calling TruncatedNormal.__init__ (from tensorflow.python.ops.init_ops) with dtype is deprecated and will be removed in a future version.\n",
      "Instructions for updating:\n",
      "Call initializer instance with the dtype argument instead of passing it to the constructor\n"
     ]
    }
   ],
   "source": [
    "model = fastvc.model.Model(config, 32)"
   ]
  },
  {
   "cell_type": "code",
   "execution_count": 10,
   "metadata": {},
   "outputs": [
    {
     "name": "stdout",
     "output_type": "stream",
     "text": [
      "WARNING:tensorflow:From /Library/Frameworks/Python.framework/Versions/3.7/lib/python3.7/site-packages/tensorflow_core/python/ops/resource_variable_ops.py:1630: calling BaseResourceVariable.__init__ (from tensorflow.python.ops.resource_variable_ops) with constraint is deprecated and will be removed in a future version.\n",
      "Instructions for updating:\n",
      "If using Keras pass *_constraint arguments to layers.\n"
     ]
    }
   ],
   "source": [
    "encoder_outputs, mel_before, mel_after, codes = model(mel, ori_vector, target_vector, mel_lengths)"
   ]
  },
  {
   "cell_type": "code",
   "execution_count": 11,
   "metadata": {},
   "outputs": [],
   "source": [
    "codes_ = model.call_second(mel_after, ori_vector, mel_lengths)"
   ]
  },
  {
   "cell_type": "code",
   "execution_count": 12,
   "metadata": {},
   "outputs": [
    {
     "data": {
      "text/plain": [
       "(<tf.Tensor 'fastvc/concat:0' shape=(?, ?, 1024) dtype=float32>,\n",
       " <tf.Tensor 'fastvc/mel_before/BiasAdd:0' shape=(?, ?, 80) dtype=float32>,\n",
       " <tf.Tensor 'fastvc/add:0' shape=(?, ?, 80) dtype=float32>,\n",
       " <tf.Tensor 'fastvc/Encoder/TensorArrayStack/TensorArrayGatherV3:0' shape=(?, ?, 512) dtype=float32>,\n",
       " <tf.Tensor 'Encoder/TensorArrayStack/TensorArrayGatherV3:0' shape=(?, ?, 512) dtype=float32>)"
      ]
     },
     "execution_count": 12,
     "metadata": {},
     "output_type": "execute_result"
    }
   ],
   "source": [
    "encoder_outputs, mel_before, mel_after, codes, codes_"
   ]
  },
  {
   "cell_type": "code",
   "execution_count": 13,
   "metadata": {},
   "outputs": [
    {
     "data": {
      "text/plain": [
       "<tf.Tensor 'ExpandDims:0' shape=<unknown> dtype=float32>"
      ]
     },
     "execution_count": 13,
     "metadata": {},
     "output_type": "execute_result"
    }
   ],
   "source": [
    "loss_f = tf.losses.mean_squared_error\n",
    "max_length = tf.cast(tf.reduce_max(mel_lengths), tf.int32)\n",
    "mask = tf.sequence_mask(\n",
    "    lengths = mel_lengths, maxlen = max_length, dtype = tf.float32\n",
    ")\n",
    "mask = tf.expand_dims(mask, axis = -1)\n",
    "mask"
   ]
  },
  {
   "cell_type": "code",
   "execution_count": 14,
   "metadata": {},
   "outputs": [],
   "source": [
    "from functools import partial\n",
    "from malaya_speech.train.loss import calculate_2d_loss, calculate_3d_loss\n",
    "\n",
    "mse_mel = partial(\n",
    "    loss_f,\n",
    "    weights = mask\n",
    ")"
   ]
  },
  {
   "cell_type": "code",
   "execution_count": 15,
   "metadata": {},
   "outputs": [
    {
     "name": "stdout",
     "output_type": "stream",
     "text": [
      "WARNING:tensorflow:From /Library/Frameworks/Python.framework/Versions/3.7/lib/python3.7/site-packages/tensorflow_core/python/ops/losses/losses_impl.py:121: where (from tensorflow.python.ops.array_ops) is deprecated and will be removed in a future version.\n",
      "Instructions for updating:\n",
      "Use tf.where in 2.0, which has the same broadcast rule as np.where\n"
     ]
    },
    {
     "data": {
      "text/plain": [
       "<tf.Tensor 'mean_squared_error/value:0' shape=() dtype=float32>"
      ]
     },
     "execution_count": 15,
     "metadata": {},
     "output_type": "execute_result"
    }
   ],
   "source": [
    "mel_loss_before = calculate_3d_loss(mel, mel_before, mse_mel)\n",
    "mel_loss_before"
   ]
  },
  {
   "cell_type": "code",
   "execution_count": 16,
   "metadata": {},
   "outputs": [
    {
     "data": {
      "text/plain": [
       "<tf.Tensor 'mean_squared_error_1/value:0' shape=() dtype=float32>"
      ]
     },
     "execution_count": 16,
     "metadata": {},
     "output_type": "execute_result"
    }
   ],
   "source": [
    "mel_loss_after = calculate_3d_loss(mel, mel_after, mse_mel)\n",
    "mel_loss_after"
   ]
  },
  {
   "cell_type": "code",
   "execution_count": 17,
   "metadata": {},
   "outputs": [],
   "source": [
    "g_loss_cd = tf.losses.absolute_difference(codes, codes_)"
   ]
  },
  {
   "cell_type": "code",
   "execution_count": 18,
   "metadata": {},
   "outputs": [],
   "source": [
    "loss = mel_loss_before + mel_loss_after + g_loss_cd"
   ]
  },
  {
   "cell_type": "code",
   "execution_count": 19,
   "metadata": {},
   "outputs": [],
   "source": [
    "sess = tf.InteractiveSession()\n",
    "sess.run(tf.global_variables_initializer())"
   ]
  },
  {
   "cell_type": "code",
   "execution_count": 21,
   "metadata": {},
   "outputs": [],
   "source": [
    "o = sess.run([encoder_outputs, mel_before, mel_after], feed_dict = {mel: [x_org] * 2,\n",
    "                                                                    ori_vector: c,\n",
    "                                                                    target_vector: c,\n",
    "                                                                    mel_lengths: [len(x_org)] * 2})"
   ]
  },
  {
   "cell_type": "code",
   "execution_count": 22,
   "metadata": {},
   "outputs": [
    {
     "data": {
      "text/plain": [
       "((2, 96, 1024), (2, 96, 80), (2, 96, 80))"
      ]
     },
     "execution_count": 22,
     "metadata": {},
     "output_type": "execute_result"
    }
   ],
   "source": [
    "o[0].shape, o[1].shape, o[2].shape"
   ]
  },
  {
   "cell_type": "code",
   "execution_count": 26,
   "metadata": {},
   "outputs": [],
   "source": [
    "o = sess.run([mel_loss_before, mel_loss_after, g_loss_cd], feed_dict = {mel: [x_org] * 2,\n",
    "                                                                    ori_vector: c,\n",
    "                                                                    target_vector: c,\n",
    "                                                                    mel_lengths: [len(x_org)] * 2})"
   ]
  },
  {
   "cell_type": "code",
   "execution_count": 27,
   "metadata": {},
   "outputs": [
    {
     "data": {
      "text/plain": [
       "[1.9449615, 3.0345724, 0.5287206]"
      ]
     },
     "execution_count": 27,
     "metadata": {},
     "output_type": "execute_result"
    }
   ],
   "source": [
    "o"
   ]
  },
  {
   "cell_type": "code",
   "execution_count": 25,
   "metadata": {},
   "outputs": [
    {
     "data": {
      "text/plain": [
       "[<tf.Variable 'fastvc/Encoder/dense/kernel:0' shape=(592, 256) dtype=float32>,\n",
       " <tf.Variable 'fastvc/Encoder/dense/bias:0' shape=(256,) dtype=float32>,\n",
       " <tf.Variable 'fastvc/Encoder/encoder/layer_._0/attention/self/query/kernel:0' shape=(256, 384) dtype=float32>,\n",
       " <tf.Variable 'fastvc/Encoder/encoder/layer_._0/attention/self/query/bias:0' shape=(384,) dtype=float32>,\n",
       " <tf.Variable 'fastvc/Encoder/encoder/layer_._0/attention/self/key/kernel:0' shape=(256, 384) dtype=float32>,\n",
       " <tf.Variable 'fastvc/Encoder/encoder/layer_._0/attention/self/key/bias:0' shape=(384,) dtype=float32>,\n",
       " <tf.Variable 'fastvc/Encoder/encoder/layer_._0/attention/self/value/kernel:0' shape=(256, 384) dtype=float32>,\n",
       " <tf.Variable 'fastvc/Encoder/encoder/layer_._0/attention/self/value/bias:0' shape=(384,) dtype=float32>,\n",
       " <tf.Variable 'fastvc/Encoder/encoder/layer_._0/attention/output/dense/kernel:0' shape=(384, 256) dtype=float32>,\n",
       " <tf.Variable 'fastvc/Encoder/encoder/layer_._0/attention/output/dense/bias:0' shape=(256,) dtype=float32>,\n",
       " <tf.Variable 'fastvc/Encoder/encoder/layer_._0/attention/output/LayerNorm/gamma:0' shape=(256,) dtype=float32>,\n",
       " <tf.Variable 'fastvc/Encoder/encoder/layer_._0/attention/output/LayerNorm/beta:0' shape=(256,) dtype=float32>,\n",
       " <tf.Variable 'fastvc/Encoder/encoder/layer_._0/intermediate/conv1d_1/kernel:0' shape=(3, 256, 1024) dtype=float32>,\n",
       " <tf.Variable 'fastvc/Encoder/encoder/layer_._0/intermediate/conv1d_1/bias:0' shape=(1024,) dtype=float32>,\n",
       " <tf.Variable 'fastvc/Encoder/encoder/layer_._0/intermediate/conv1d_2/kernel:0' shape=(3, 1024, 256) dtype=float32>,\n",
       " <tf.Variable 'fastvc/Encoder/encoder/layer_._0/intermediate/conv1d_2/bias:0' shape=(256,) dtype=float32>,\n",
       " <tf.Variable 'fastvc/Encoder/encoder/layer_._0/output/LayerNorm/gamma:0' shape=(256,) dtype=float32>,\n",
       " <tf.Variable 'fastvc/Encoder/encoder/layer_._0/output/LayerNorm/beta:0' shape=(256,) dtype=float32>,\n",
       " <tf.Variable 'fastvc/Encoder/encoder/layer_._1/attention/self/query/kernel:0' shape=(256, 384) dtype=float32>,\n",
       " <tf.Variable 'fastvc/Encoder/encoder/layer_._1/attention/self/query/bias:0' shape=(384,) dtype=float32>,\n",
       " <tf.Variable 'fastvc/Encoder/encoder/layer_._1/attention/self/key/kernel:0' shape=(256, 384) dtype=float32>,\n",
       " <tf.Variable 'fastvc/Encoder/encoder/layer_._1/attention/self/key/bias:0' shape=(384,) dtype=float32>,\n",
       " <tf.Variable 'fastvc/Encoder/encoder/layer_._1/attention/self/value/kernel:0' shape=(256, 384) dtype=float32>,\n",
       " <tf.Variable 'fastvc/Encoder/encoder/layer_._1/attention/self/value/bias:0' shape=(384,) dtype=float32>,\n",
       " <tf.Variable 'fastvc/Encoder/encoder/layer_._1/attention/output/dense/kernel:0' shape=(384, 256) dtype=float32>,\n",
       " <tf.Variable 'fastvc/Encoder/encoder/layer_._1/attention/output/dense/bias:0' shape=(256,) dtype=float32>,\n",
       " <tf.Variable 'fastvc/Encoder/encoder/layer_._1/attention/output/LayerNorm/gamma:0' shape=(256,) dtype=float32>,\n",
       " <tf.Variable 'fastvc/Encoder/encoder/layer_._1/attention/output/LayerNorm/beta:0' shape=(256,) dtype=float32>,\n",
       " <tf.Variable 'fastvc/Encoder/encoder/layer_._1/intermediate/conv1d_1/kernel:0' shape=(3, 256, 1024) dtype=float32>,\n",
       " <tf.Variable 'fastvc/Encoder/encoder/layer_._1/intermediate/conv1d_1/bias:0' shape=(1024,) dtype=float32>,\n",
       " <tf.Variable 'fastvc/Encoder/encoder/layer_._1/intermediate/conv1d_2/kernel:0' shape=(3, 1024, 256) dtype=float32>,\n",
       " <tf.Variable 'fastvc/Encoder/encoder/layer_._1/intermediate/conv1d_2/bias:0' shape=(256,) dtype=float32>,\n",
       " <tf.Variable 'fastvc/Encoder/encoder/layer_._1/output/LayerNorm/gamma:0' shape=(256,) dtype=float32>,\n",
       " <tf.Variable 'fastvc/Encoder/encoder/layer_._1/output/LayerNorm/beta:0' shape=(256,) dtype=float32>,\n",
       " <tf.Variable 'fastvc/Encoder/encoder/layer_._2/attention/self/query/kernel:0' shape=(256, 384) dtype=float32>,\n",
       " <tf.Variable 'fastvc/Encoder/encoder/layer_._2/attention/self/query/bias:0' shape=(384,) dtype=float32>,\n",
       " <tf.Variable 'fastvc/Encoder/encoder/layer_._2/attention/self/key/kernel:0' shape=(256, 384) dtype=float32>,\n",
       " <tf.Variable 'fastvc/Encoder/encoder/layer_._2/attention/self/key/bias:0' shape=(384,) dtype=float32>,\n",
       " <tf.Variable 'fastvc/Encoder/encoder/layer_._2/attention/self/value/kernel:0' shape=(256, 384) dtype=float32>,\n",
       " <tf.Variable 'fastvc/Encoder/encoder/layer_._2/attention/self/value/bias:0' shape=(384,) dtype=float32>,\n",
       " <tf.Variable 'fastvc/Encoder/encoder/layer_._2/attention/output/dense/kernel:0' shape=(384, 256) dtype=float32>,\n",
       " <tf.Variable 'fastvc/Encoder/encoder/layer_._2/attention/output/dense/bias:0' shape=(256,) dtype=float32>,\n",
       " <tf.Variable 'fastvc/Encoder/encoder/layer_._2/attention/output/LayerNorm/gamma:0' shape=(256,) dtype=float32>,\n",
       " <tf.Variable 'fastvc/Encoder/encoder/layer_._2/attention/output/LayerNorm/beta:0' shape=(256,) dtype=float32>,\n",
       " <tf.Variable 'fastvc/Encoder/encoder/layer_._2/intermediate/conv1d_1/kernel:0' shape=(3, 256, 1024) dtype=float32>,\n",
       " <tf.Variable 'fastvc/Encoder/encoder/layer_._2/intermediate/conv1d_1/bias:0' shape=(1024,) dtype=float32>,\n",
       " <tf.Variable 'fastvc/Encoder/encoder/layer_._2/intermediate/conv1d_2/kernel:0' shape=(3, 1024, 256) dtype=float32>,\n",
       " <tf.Variable 'fastvc/Encoder/encoder/layer_._2/intermediate/conv1d_2/bias:0' shape=(256,) dtype=float32>,\n",
       " <tf.Variable 'fastvc/Encoder/encoder/layer_._2/output/LayerNorm/gamma:0' shape=(256,) dtype=float32>,\n",
       " <tf.Variable 'fastvc/Encoder/encoder/layer_._2/output/LayerNorm/beta:0' shape=(256,) dtype=float32>,\n",
       " <tf.Variable 'fastvc/Encoder/encoder/layer_._3/attention/self/query/kernel:0' shape=(256, 384) dtype=float32>,\n",
       " <tf.Variable 'fastvc/Encoder/encoder/layer_._3/attention/self/query/bias:0' shape=(384,) dtype=float32>,\n",
       " <tf.Variable 'fastvc/Encoder/encoder/layer_._3/attention/self/key/kernel:0' shape=(256, 384) dtype=float32>,\n",
       " <tf.Variable 'fastvc/Encoder/encoder/layer_._3/attention/self/key/bias:0' shape=(384,) dtype=float32>,\n",
       " <tf.Variable 'fastvc/Encoder/encoder/layer_._3/attention/self/value/kernel:0' shape=(256, 384) dtype=float32>,\n",
       " <tf.Variable 'fastvc/Encoder/encoder/layer_._3/attention/self/value/bias:0' shape=(384,) dtype=float32>,\n",
       " <tf.Variable 'fastvc/Encoder/encoder/layer_._3/attention/output/dense/kernel:0' shape=(384, 256) dtype=float32>,\n",
       " <tf.Variable 'fastvc/Encoder/encoder/layer_._3/attention/output/dense/bias:0' shape=(256,) dtype=float32>,\n",
       " <tf.Variable 'fastvc/Encoder/encoder/layer_._3/attention/output/LayerNorm/gamma:0' shape=(256,) dtype=float32>,\n",
       " <tf.Variable 'fastvc/Encoder/encoder/layer_._3/attention/output/LayerNorm/beta:0' shape=(256,) dtype=float32>,\n",
       " <tf.Variable 'fastvc/Encoder/encoder/layer_._3/intermediate/conv1d_1/kernel:0' shape=(3, 256, 1024) dtype=float32>,\n",
       " <tf.Variable 'fastvc/Encoder/encoder/layer_._3/intermediate/conv1d_1/bias:0' shape=(1024,) dtype=float32>,\n",
       " <tf.Variable 'fastvc/Encoder/encoder/layer_._3/intermediate/conv1d_2/kernel:0' shape=(3, 1024, 256) dtype=float32>,\n",
       " <tf.Variable 'fastvc/Encoder/encoder/layer_._3/intermediate/conv1d_2/bias:0' shape=(256,) dtype=float32>,\n",
       " <tf.Variable 'fastvc/Encoder/encoder/layer_._3/output/LayerNorm/gamma:0' shape=(256,) dtype=float32>,\n",
       " <tf.Variable 'fastvc/Encoder/encoder/layer_._3/output/LayerNorm/beta:0' shape=(256,) dtype=float32>,\n",
       " <tf.Variable 'fastvc/Decoder/dense_1/kernel:0' shape=(1024, 384) dtype=float32>,\n",
       " <tf.Variable 'fastvc/Decoder/dense_1/bias:0' shape=(384,) dtype=float32>,\n",
       " <tf.Variable 'fastvc/Decoder/encoder/layer_._0/attention/self/query/kernel:0' shape=(384, 384) dtype=float32>,\n",
       " <tf.Variable 'fastvc/Decoder/encoder/layer_._0/attention/self/query/bias:0' shape=(384,) dtype=float32>,\n",
       " <tf.Variable 'fastvc/Decoder/encoder/layer_._0/attention/self/key/kernel:0' shape=(384, 384) dtype=float32>,\n",
       " <tf.Variable 'fastvc/Decoder/encoder/layer_._0/attention/self/key/bias:0' shape=(384,) dtype=float32>,\n",
       " <tf.Variable 'fastvc/Decoder/encoder/layer_._0/attention/self/value/kernel:0' shape=(384, 384) dtype=float32>,\n",
       " <tf.Variable 'fastvc/Decoder/encoder/layer_._0/attention/self/value/bias:0' shape=(384,) dtype=float32>,\n",
       " <tf.Variable 'fastvc/Decoder/encoder/layer_._0/attention/output/dense/kernel:0' shape=(384, 384) dtype=float32>,\n",
       " <tf.Variable 'fastvc/Decoder/encoder/layer_._0/attention/output/dense/bias:0' shape=(384,) dtype=float32>,\n",
       " <tf.Variable 'fastvc/Decoder/encoder/layer_._0/attention/output/LayerNorm/gamma:0' shape=(384,) dtype=float32>,\n",
       " <tf.Variable 'fastvc/Decoder/encoder/layer_._0/attention/output/LayerNorm/beta:0' shape=(384,) dtype=float32>,\n",
       " <tf.Variable 'fastvc/Decoder/encoder/layer_._0/intermediate/conv1d_1/kernel:0' shape=(3, 384, 1024) dtype=float32>,\n",
       " <tf.Variable 'fastvc/Decoder/encoder/layer_._0/intermediate/conv1d_1/bias:0' shape=(1024,) dtype=float32>,\n",
       " <tf.Variable 'fastvc/Decoder/encoder/layer_._0/intermediate/conv1d_2/kernel:0' shape=(3, 1024, 384) dtype=float32>,\n",
       " <tf.Variable 'fastvc/Decoder/encoder/layer_._0/intermediate/conv1d_2/bias:0' shape=(384,) dtype=float32>,\n",
       " <tf.Variable 'fastvc/Decoder/encoder/layer_._0/output/LayerNorm/gamma:0' shape=(384,) dtype=float32>,\n",
       " <tf.Variable 'fastvc/Decoder/encoder/layer_._0/output/LayerNorm/beta:0' shape=(384,) dtype=float32>,\n",
       " <tf.Variable 'fastvc/Decoder/encoder/layer_._1/attention/self/query/kernel:0' shape=(384, 384) dtype=float32>,\n",
       " <tf.Variable 'fastvc/Decoder/encoder/layer_._1/attention/self/query/bias:0' shape=(384,) dtype=float32>,\n",
       " <tf.Variable 'fastvc/Decoder/encoder/layer_._1/attention/self/key/kernel:0' shape=(384, 384) dtype=float32>,\n",
       " <tf.Variable 'fastvc/Decoder/encoder/layer_._1/attention/self/key/bias:0' shape=(384,) dtype=float32>,\n",
       " <tf.Variable 'fastvc/Decoder/encoder/layer_._1/attention/self/value/kernel:0' shape=(384, 384) dtype=float32>,\n",
       " <tf.Variable 'fastvc/Decoder/encoder/layer_._1/attention/self/value/bias:0' shape=(384,) dtype=float32>,\n",
       " <tf.Variable 'fastvc/Decoder/encoder/layer_._1/attention/output/dense/kernel:0' shape=(384, 384) dtype=float32>,\n",
       " <tf.Variable 'fastvc/Decoder/encoder/layer_._1/attention/output/dense/bias:0' shape=(384,) dtype=float32>,\n",
       " <tf.Variable 'fastvc/Decoder/encoder/layer_._1/attention/output/LayerNorm/gamma:0' shape=(384,) dtype=float32>,\n",
       " <tf.Variable 'fastvc/Decoder/encoder/layer_._1/attention/output/LayerNorm/beta:0' shape=(384,) dtype=float32>,\n",
       " <tf.Variable 'fastvc/Decoder/encoder/layer_._1/intermediate/conv1d_1/kernel:0' shape=(3, 384, 1024) dtype=float32>,\n",
       " <tf.Variable 'fastvc/Decoder/encoder/layer_._1/intermediate/conv1d_1/bias:0' shape=(1024,) dtype=float32>,\n",
       " <tf.Variable 'fastvc/Decoder/encoder/layer_._1/intermediate/conv1d_2/kernel:0' shape=(3, 1024, 384) dtype=float32>,\n",
       " <tf.Variable 'fastvc/Decoder/encoder/layer_._1/intermediate/conv1d_2/bias:0' shape=(384,) dtype=float32>,\n",
       " <tf.Variable 'fastvc/Decoder/encoder/layer_._1/output/LayerNorm/gamma:0' shape=(384,) dtype=float32>,\n",
       " <tf.Variable 'fastvc/Decoder/encoder/layer_._1/output/LayerNorm/beta:0' shape=(384,) dtype=float32>,\n",
       " <tf.Variable 'fastvc/Decoder/encoder/layer_._2/attention/self/query/kernel:0' shape=(384, 384) dtype=float32>,\n",
       " <tf.Variable 'fastvc/Decoder/encoder/layer_._2/attention/self/query/bias:0' shape=(384,) dtype=float32>,\n",
       " <tf.Variable 'fastvc/Decoder/encoder/layer_._2/attention/self/key/kernel:0' shape=(384, 384) dtype=float32>,\n",
       " <tf.Variable 'fastvc/Decoder/encoder/layer_._2/attention/self/key/bias:0' shape=(384,) dtype=float32>,\n",
       " <tf.Variable 'fastvc/Decoder/encoder/layer_._2/attention/self/value/kernel:0' shape=(384, 384) dtype=float32>,\n",
       " <tf.Variable 'fastvc/Decoder/encoder/layer_._2/attention/self/value/bias:0' shape=(384,) dtype=float32>,\n",
       " <tf.Variable 'fastvc/Decoder/encoder/layer_._2/attention/output/dense/kernel:0' shape=(384, 384) dtype=float32>,\n",
       " <tf.Variable 'fastvc/Decoder/encoder/layer_._2/attention/output/dense/bias:0' shape=(384,) dtype=float32>,\n",
       " <tf.Variable 'fastvc/Decoder/encoder/layer_._2/attention/output/LayerNorm/gamma:0' shape=(384,) dtype=float32>,\n",
       " <tf.Variable 'fastvc/Decoder/encoder/layer_._2/attention/output/LayerNorm/beta:0' shape=(384,) dtype=float32>,\n",
       " <tf.Variable 'fastvc/Decoder/encoder/layer_._2/intermediate/conv1d_1/kernel:0' shape=(3, 384, 1024) dtype=float32>,\n",
       " <tf.Variable 'fastvc/Decoder/encoder/layer_._2/intermediate/conv1d_1/bias:0' shape=(1024,) dtype=float32>,\n",
       " <tf.Variable 'fastvc/Decoder/encoder/layer_._2/intermediate/conv1d_2/kernel:0' shape=(3, 1024, 384) dtype=float32>,\n",
       " <tf.Variable 'fastvc/Decoder/encoder/layer_._2/intermediate/conv1d_2/bias:0' shape=(384,) dtype=float32>,\n",
       " <tf.Variable 'fastvc/Decoder/encoder/layer_._2/output/LayerNorm/gamma:0' shape=(384,) dtype=float32>,\n",
       " <tf.Variable 'fastvc/Decoder/encoder/layer_._2/output/LayerNorm/beta:0' shape=(384,) dtype=float32>,\n",
       " <tf.Variable 'fastvc/Decoder/encoder/layer_._3/attention/self/query/kernel:0' shape=(384, 384) dtype=float32>,\n",
       " <tf.Variable 'fastvc/Decoder/encoder/layer_._3/attention/self/query/bias:0' shape=(384,) dtype=float32>,\n",
       " <tf.Variable 'fastvc/Decoder/encoder/layer_._3/attention/self/key/kernel:0' shape=(384, 384) dtype=float32>,\n",
       " <tf.Variable 'fastvc/Decoder/encoder/layer_._3/attention/self/key/bias:0' shape=(384,) dtype=float32>,\n",
       " <tf.Variable 'fastvc/Decoder/encoder/layer_._3/attention/self/value/kernel:0' shape=(384, 384) dtype=float32>,\n",
       " <tf.Variable 'fastvc/Decoder/encoder/layer_._3/attention/self/value/bias:0' shape=(384,) dtype=float32>,\n",
       " <tf.Variable 'fastvc/Decoder/encoder/layer_._3/attention/output/dense/kernel:0' shape=(384, 384) dtype=float32>,\n",
       " <tf.Variable 'fastvc/Decoder/encoder/layer_._3/attention/output/dense/bias:0' shape=(384,) dtype=float32>,\n",
       " <tf.Variable 'fastvc/Decoder/encoder/layer_._3/attention/output/LayerNorm/gamma:0' shape=(384,) dtype=float32>,\n",
       " <tf.Variable 'fastvc/Decoder/encoder/layer_._3/attention/output/LayerNorm/beta:0' shape=(384,) dtype=float32>,\n",
       " <tf.Variable 'fastvc/Decoder/encoder/layer_._3/intermediate/conv1d_1/kernel:0' shape=(3, 384, 1024) dtype=float32>,\n",
       " <tf.Variable 'fastvc/Decoder/encoder/layer_._3/intermediate/conv1d_1/bias:0' shape=(1024,) dtype=float32>,\n",
       " <tf.Variable 'fastvc/Decoder/encoder/layer_._3/intermediate/conv1d_2/kernel:0' shape=(3, 1024, 384) dtype=float32>,\n",
       " <tf.Variable 'fastvc/Decoder/encoder/layer_._3/intermediate/conv1d_2/bias:0' shape=(384,) dtype=float32>,\n",
       " <tf.Variable 'fastvc/Decoder/encoder/layer_._3/output/LayerNorm/gamma:0' shape=(384,) dtype=float32>,\n",
       " <tf.Variable 'fastvc/Decoder/encoder/layer_._3/output/LayerNorm/beta:0' shape=(384,) dtype=float32>,\n",
       " <tf.Variable 'fastvc/mel_before/kernel:0' shape=(384, 80) dtype=float32>,\n",
       " <tf.Variable 'fastvc/mel_before/bias:0' shape=(80,) dtype=float32>,\n",
       " <tf.Variable 'fastvc/postnet/conv_._0/kernel:0' shape=(5, 80, 512) dtype=float32>,\n",
       " <tf.Variable 'fastvc/postnet/conv_._0/bias:0' shape=(512,) dtype=float32>,\n",
       " <tf.Variable 'fastvc/postnet/batch_norm_._0/gamma:0' shape=(512,) dtype=float32>,\n",
       " <tf.Variable 'fastvc/postnet/batch_norm_._0/beta:0' shape=(512,) dtype=float32>,\n",
       " <tf.Variable 'fastvc/postnet/conv_._1/kernel:0' shape=(5, 512, 512) dtype=float32>,\n",
       " <tf.Variable 'fastvc/postnet/conv_._1/bias:0' shape=(512,) dtype=float32>,\n",
       " <tf.Variable 'fastvc/postnet/batch_norm_._1/gamma:0' shape=(512,) dtype=float32>,\n",
       " <tf.Variable 'fastvc/postnet/batch_norm_._1/beta:0' shape=(512,) dtype=float32>,\n",
       " <tf.Variable 'fastvc/postnet/conv_._2/kernel:0' shape=(5, 512, 512) dtype=float32>,\n",
       " <tf.Variable 'fastvc/postnet/conv_._2/bias:0' shape=(512,) dtype=float32>,\n",
       " <tf.Variable 'fastvc/postnet/batch_norm_._2/gamma:0' shape=(512,) dtype=float32>,\n",
       " <tf.Variable 'fastvc/postnet/batch_norm_._2/beta:0' shape=(512,) dtype=float32>,\n",
       " <tf.Variable 'fastvc/postnet/conv_._3/kernel:0' shape=(5, 512, 512) dtype=float32>,\n",
       " <tf.Variable 'fastvc/postnet/conv_._3/bias:0' shape=(512,) dtype=float32>,\n",
       " <tf.Variable 'fastvc/postnet/batch_norm_._3/gamma:0' shape=(512,) dtype=float32>,\n",
       " <tf.Variable 'fastvc/postnet/batch_norm_._3/beta:0' shape=(512,) dtype=float32>,\n",
       " <tf.Variable 'fastvc/postnet/conv_._4/kernel:0' shape=(5, 512, 80) dtype=float32>,\n",
       " <tf.Variable 'fastvc/postnet/conv_._4/bias:0' shape=(80,) dtype=float32>,\n",
       " <tf.Variable 'fastvc/postnet/batch_norm_._4/gamma:0' shape=(80,) dtype=float32>,\n",
       " <tf.Variable 'fastvc/postnet/batch_norm_._4/beta:0' shape=(80,) dtype=float32>]"
      ]
     },
     "execution_count": 25,
     "metadata": {},
     "output_type": "execute_result"
    }
   ],
   "source": [
    "tf.trainable_variables()"
   ]
  },
  {
   "cell_type": "code",
   "execution_count": null,
   "metadata": {},
   "outputs": [],
   "source": []
  }
 ],
 "metadata": {
  "kernelspec": {
   "display_name": "Python 3",
   "language": "python",
   "name": "python3"
  },
  "language_info": {
   "codemirror_mode": {
    "name": "ipython",
    "version": 3
   },
   "file_extension": ".py",
   "mimetype": "text/x-python",
   "name": "python",
   "nbconvert_exporter": "python",
   "pygments_lexer": "ipython3",
   "version": "3.7.7"
  }
 },
 "nbformat": 4,
 "nbformat_minor": 4
}

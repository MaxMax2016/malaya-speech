{
 "cells": [
  {
   "cell_type": "code",
   "execution_count": 1,
   "metadata": {},
   "outputs": [],
   "source": [
    "import os\n",
    "\n",
    "os.environ['CUDA_VISIBLE_DEVICES'] = '1'"
   ]
  },
  {
   "cell_type": "code",
   "execution_count": 2,
   "metadata": {},
   "outputs": [],
   "source": [
    "import sys\n",
    "\n",
    "SOURCE_DIR = os.path.dirname(os.path.dirname(os.path.abspath(__name__)))\n",
    "sys.path.insert(0, SOURCE_DIR)"
   ]
  },
  {
   "cell_type": "code",
   "execution_count": 3,
   "metadata": {
    "scrolled": true
   },
   "outputs": [
    {
     "name": "stdout",
     "output_type": "stream",
     "text": [
      "WARNING:tensorflow:From /Users/huseinzolkepli/Documents/malaya-speech/malaya_speech/train/model/quartznet/layer.py:6: The name tf.layers.Conv1D is deprecated. Please use tf.compat.v1.layers.Conv1D instead.\n",
      "\n",
      "WARNING:tensorflow:\n",
      "The TensorFlow contrib module will not be included in TensorFlow 2.0.\n",
      "For more information, please see:\n",
      "  * https://github.com/tensorflow/community/blob/master/rfcs/20180907-contrib-sunset.md\n",
      "  * https://github.com/tensorflow/addons\n",
      "  * https://github.com/tensorflow/io (for I/O related ops)\n",
      "If you depend on functionality not listed there, please file an issue.\n",
      "\n"
     ]
    }
   ],
   "source": [
    "import malaya_speech\n",
    "import malaya_speech.config\n",
    "import malaya_speech.train.model.quartznet as quartznet\n",
    "import tensorflow as tf"
   ]
  },
  {
   "cell_type": "code",
   "execution_count": 5,
   "metadata": {},
   "outputs": [],
   "source": [
    "config = malaya_speech.config.ctc_featurizer_config\n",
    "featurizer = malaya_speech.tf_featurization.STTFeaturizer(config)"
   ]
  },
  {
   "cell_type": "code",
   "execution_count": 11,
   "metadata": {},
   "outputs": [
    {
     "data": {
      "text/plain": [
       "(<tf.Tensor 'ExpandDims_11:0' shape=(1, ?, 80) dtype=float32>,\n",
       " <tf.Tensor 'ExpandDims_10:0' shape=(1,) dtype=int32>)"
      ]
     },
     "execution_count": 11,
     "metadata": {},
     "output_type": "execute_result"
    }
   ],
   "source": [
    "i = tf.placeholder(tf.float32, [None])\n",
    "v = featurizer.vectorize(i)\n",
    "length_v = tf.cast(tf.shape(v)[0], tf.int32)\n",
    "length_v = tf.expand_dims(length_v, 0)\n",
    "v = tf.expand_dims(v[:,:,0], 0)\n",
    "v, length_v"
   ]
  },
  {
   "cell_type": "code",
   "execution_count": 12,
   "metadata": {},
   "outputs": [
    {
     "name": "stdout",
     "output_type": "stream",
     "text": [
      "WARNING:tensorflow:From /Users/huseinzolkepli/Documents/malaya-speech/malaya_speech/train/model/quartznet/layer.py:358: batch_normalization (from tensorflow.python.layers.normalization) is deprecated and will be removed in a future version.\n",
      "Instructions for updating:\n",
      "Use keras.layers.BatchNormalization instead.  In particular, `tf.control_dependencies(tf.GraphKeys.UPDATE_OPS)` should not be used (consult the `tf.keras.layers.batch_normalization` documentation).\n",
      "WARNING:tensorflow:From /Users/huseinzolkepli/Documents/malaya-speech/malaya_speech/train/model/quartznet/abstract.py:369: calling dropout (from tensorflow.python.ops.nn_ops) with keep_prob is deprecated and will be removed in a future version.\n",
      "Instructions for updating:\n",
      "Please use `rate` instead of `keep_prob`. Rate should be set to `rate = 1 - keep_prob`.\n",
      "WARNING:tensorflow:From /Users/huseinzolkepli/Documents/malaya-speech/malaya_speech/train/model/quartznet/layer.py:340: conv1d (from tensorflow.python.layers.convolutional) is deprecated and will be removed in a future version.\n",
      "Instructions for updating:\n",
      "Use `tf.keras.layers.Conv1D` instead.\n"
     ]
    },
    {
     "data": {
      "text/plain": [
       "{'outputs': <tf.Tensor 'w2l_encoder_1/Relu_77:0' shape=(1, ?, 1024) dtype=float32>,\n",
       " 'src_length': <tf.Tensor 'w2l_encoder_1/floordiv_154:0' shape=(1,) dtype=int32>}"
      ]
     },
     "execution_count": 12,
     "metadata": {},
     "output_type": "execute_result"
    }
   ],
   "source": [
    "model = quartznet.Model(v, length_v)\n",
    "model.logits"
   ]
  },
  {
   "cell_type": "code",
   "execution_count": 13,
   "metadata": {},
   "outputs": [],
   "source": [
    "sess = tf.InteractiveSession()\n",
    "sess.run(tf.global_variables_initializer())"
   ]
  },
  {
   "cell_type": "code",
   "execution_count": 15,
   "metadata": {},
   "outputs": [
    {
     "data": {
      "text/plain": [
       "(90090, 56298)"
      ]
     },
     "execution_count": 15,
     "metadata": {},
     "output_type": "execute_result"
    }
   ],
   "source": [
    "y, sr = malaya_speech.load('../speech/example-speaker/husein-zolkepli.wav', sr = 16000)\n",
    "y1, sr = malaya_speech.load('../speech/example-speaker/shafiqah-idayu.wav', sr = 16000)\n",
    "len(y), len(y1)"
   ]
  },
  {
   "cell_type": "code",
   "execution_count": 18,
   "metadata": {},
   "outputs": [
    {
     "data": {
      "text/plain": [
       "{'outputs': array([[[0.6258866 , 0.        , 1.3304489 , ..., 0.65230155,\n",
       "          0.27502653, 0.37272736],\n",
       "         [0.3395493 , 0.0743845 , 0.47811994, ..., 0.        ,\n",
       "          0.74452716, 0.8826371 ],\n",
       "         [1.2375557 , 0.81549716, 0.8892278 , ..., 0.        ,\n",
       "          0.02212776, 0.        ],\n",
       "         ...,\n",
       "         [0.        , 0.70464855, 0.        , ..., 0.6296963 ,\n",
       "          0.4864693 , 0.        ],\n",
       "         [0.        , 0.        , 1.4843035 , ..., 0.17836735,\n",
       "          0.7116283 , 0.45895416],\n",
       "         [0.        , 0.22543716, 0.27976868, ..., 0.        ,\n",
       "          0.5504492 , 0.        ]]], dtype=float32),\n",
       " 'src_length': array([281], dtype=int32)}"
      ]
     },
     "execution_count": 18,
     "metadata": {},
     "output_type": "execute_result"
    }
   ],
   "source": [
    "l = sess.run(model.logits, feed_dict = {i: y})\n",
    "l"
   ]
  },
  {
   "cell_type": "code",
   "execution_count": 20,
   "metadata": {},
   "outputs": [
    {
     "data": {
      "text/plain": [
       "{'outputs': array([[[0.        , 1.6043066 , 0.75907594, ..., 0.        ,\n",
       "          0.712527  , 0.        ],\n",
       "         [0.05429816, 0.        , 0.        , ..., 0.40704766,\n",
       "          1.1729138 , 0.56751335],\n",
       "         [0.        , 0.        , 0.84713185, ..., 1.5323976 ,\n",
       "          0.44171074, 1.3103052 ],\n",
       "         ...,\n",
       "         [0.36601436, 0.8669824 , 0.13385634, ..., 0.        ,\n",
       "          0.82642144, 0.        ],\n",
       "         [0.        , 0.        , 0.80695796, ..., 0.        ,\n",
       "          0.        , 0.        ],\n",
       "         [0.        , 0.6996588 , 0.71140087, ..., 0.2167407 ,\n",
       "          0.        , 0.01738247]]], dtype=float32),\n",
       " 'src_length': array([175], dtype=int32)}"
      ]
     },
     "execution_count": 20,
     "metadata": {},
     "output_type": "execute_result"
    }
   ],
   "source": [
    "l = sess.run(model.logits, feed_dict = {i: y1})\n",
    "l"
   ]
  }
 ],
 "metadata": {
  "kernelspec": {
   "display_name": "Python 3",
   "language": "python",
   "name": "python3"
  },
  "language_info": {
   "codemirror_mode": {
    "name": "ipython",
    "version": 3
   },
   "file_extension": ".py",
   "mimetype": "text/x-python",
   "name": "python",
   "nbconvert_exporter": "python",
   "pygments_lexer": "ipython3",
   "version": "3.7.7"
  }
 },
 "nbformat": 4,
 "nbformat_minor": 4
}

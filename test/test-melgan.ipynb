{
 "cells": [
  {
   "cell_type": "code",
   "execution_count": 1,
   "metadata": {},
   "outputs": [],
   "source": [
    "import os\n",
    "\n",
    "os.environ['CUDA_VISIBLE_DEVICES'] = '1'"
   ]
  },
  {
   "cell_type": "code",
   "execution_count": 2,
   "metadata": {},
   "outputs": [],
   "source": [
    "import sys\n",
    "\n",
    "SOURCE_DIR = os.path.dirname(os.path.dirname(os.path.abspath(__name__)))\n",
    "sys.path.insert(0, SOURCE_DIR)"
   ]
  },
  {
   "cell_type": "code",
   "execution_count": 3,
   "metadata": {},
   "outputs": [
    {
     "name": "stdout",
     "output_type": "stream",
     "text": [
      "WARNING:tensorflow:From /Users/huseinzolkepli/Documents/malaya-speech/malaya_speech/train/optimizer/__init__.py:38: The name tf.train.AdagradOptimizer is deprecated. Please use tf.compat.v1.train.AdagradOptimizer instead.\n",
      "\n",
      "WARNING:tensorflow:From /Users/huseinzolkepli/Documents/malaya-speech/malaya_speech/train/optimizer/__init__.py:39: The name tf.train.AdamOptimizer is deprecated. Please use tf.compat.v1.train.AdamOptimizer instead.\n",
      "\n",
      "WARNING:tensorflow:From /Users/huseinzolkepli/Documents/malaya-speech/malaya_speech/train/optimizer/__init__.py:40: The name tf.train.FtrlOptimizer is deprecated. Please use tf.compat.v1.train.FtrlOptimizer instead.\n",
      "\n",
      "WARNING:tensorflow:From /Users/huseinzolkepli/Documents/malaya-speech/malaya_speech/train/optimizer/__init__.py:42: The name tf.train.RMSPropOptimizer is deprecated. Please use tf.compat.v1.train.RMSPropOptimizer instead.\n",
      "\n",
      "WARNING:tensorflow:From /Users/huseinzolkepli/Documents/malaya-speech/malaya_speech/train/optimizer/__init__.py:43: The name tf.train.GradientDescentOptimizer is deprecated. Please use tf.compat.v1.train.GradientDescentOptimizer instead.\n",
      "\n",
      "WARNING:tensorflow:\n",
      "The TensorFlow contrib module will not be included in TensorFlow 2.0.\n",
      "For more information, please see:\n",
      "  * https://github.com/tensorflow/community/blob/master/rfcs/20180907-contrib-sunset.md\n",
      "  * https://github.com/tensorflow/addons\n",
      "  * https://github.com/tensorflow/io (for I/O related ops)\n",
      "If you depend on functionality not listed there, please file an issue.\n",
      "\n"
     ]
    }
   ],
   "source": [
    "import tensorflow as tf\n",
    "import malaya_speech\n",
    "import malaya_speech.train\n",
    "from malaya_speech.train.model import melgan\n",
    "import malaya_speech.config\n",
    "import numpy as np"
   ]
  },
  {
   "cell_type": "code",
   "execution_count": 4,
   "metadata": {},
   "outputs": [],
   "source": [
    "melgan_config = malaya_speech.config.melgan_config"
   ]
  },
  {
   "cell_type": "code",
   "execution_count": 5,
   "metadata": {},
   "outputs": [],
   "source": [
    "generator = melgan.Generator(\n",
    "    melgan.GeneratorConfig(**melgan_config['melgan_generator_params']),\n",
    "    name='melgan-generator',\n",
    ")\n",
    "discriminator = melgan.MultiScaleDiscriminator(\n",
    "    melgan.DiscriminatorConfig(**melgan_config['melgan_discriminator_params']),\n",
    "    name='melgan-discriminator',\n",
    ")"
   ]
  },
  {
   "cell_type": "code",
   "execution_count": 6,
   "metadata": {},
   "outputs": [],
   "source": [
    "mels_loss = melgan.loss.TFMelSpectrogram()"
   ]
  },
  {
   "cell_type": "code",
   "execution_count": 7,
   "metadata": {},
   "outputs": [
    {
     "name": "stdout",
     "output_type": "stream",
     "text": [
      "WARNING:tensorflow:From /Users/huseinzolkepli/Documents/tf-1.15/env/lib/python3.7/site-packages/tensorflow_core/python/ops/resource_variable_ops.py:1630: calling BaseResourceVariable.__init__ (from tensorflow.python.ops.resource_variable_ops) with constraint is deprecated and will be removed in a future version.\n",
      "Instructions for updating:\n",
      "If using Keras pass *_constraint arguments to layers.\n"
     ]
    }
   ],
   "source": [
    "y = tf.placeholder(tf.float32, (None, None))\n",
    "x = tf.placeholder(tf.float32, (None, None, 80))\n",
    "y_hat = generator(x)\n",
    "p_hat = discriminator(y_hat)\n",
    "p = discriminator(tf.expand_dims(y, -1))"
   ]
  },
  {
   "cell_type": "code",
   "execution_count": 9,
   "metadata": {},
   "outputs": [
    {
     "data": {
      "text/plain": [
       "[<tf.Tensor 'melgan-discriminator_1/melgan_discriminator_scale_._0/tf_reflection_pad1d_12/MirrorPad:0' shape=(?, ?, 1) dtype=float32>,\n",
       " <tf.Tensor 'melgan-discriminator_1/melgan_discriminator_scale_._0/conv1d_26/BiasAdd:0' shape=(?, ?, 16) dtype=float32>,\n",
       " <tf.Tensor 'melgan-discriminator_1/melgan_discriminator_scale_._0/leaky_re_lu_29/LeakyRelu:0' shape=(?, ?, 16) dtype=float32>,\n",
       " <tf.Tensor 'melgan-discriminator_1/melgan_discriminator_scale_._0/group_conv1d/BiasAdd:0' shape=(?, ?, 64) dtype=float32>,\n",
       " <tf.Tensor 'melgan-discriminator_1/melgan_discriminator_scale_._0/leaky_re_lu_30/LeakyRelu:0' shape=(?, ?, 64) dtype=float32>,\n",
       " <tf.Tensor 'melgan-discriminator_1/melgan_discriminator_scale_._0/group_conv1d_1/BiasAdd:0' shape=(?, ?, 256) dtype=float32>,\n",
       " <tf.Tensor 'melgan-discriminator_1/melgan_discriminator_scale_._0/leaky_re_lu_31/LeakyRelu:0' shape=(?, ?, 256) dtype=float32>,\n",
       " <tf.Tensor 'melgan-discriminator_1/melgan_discriminator_scale_._0/group_conv1d_2/BiasAdd:0' shape=(?, ?, 1024) dtype=float32>,\n",
       " <tf.Tensor 'melgan-discriminator_1/melgan_discriminator_scale_._0/leaky_re_lu_32/LeakyRelu:0' shape=(?, ?, 1024) dtype=float32>,\n",
       " <tf.Tensor 'melgan-discriminator_1/melgan_discriminator_scale_._0/group_conv1d_3/BiasAdd:0' shape=(?, ?, 1024) dtype=float32>,\n",
       " <tf.Tensor 'melgan-discriminator_1/melgan_discriminator_scale_._0/leaky_re_lu_33/LeakyRelu:0' shape=(?, ?, 1024) dtype=float32>,\n",
       " <tf.Tensor 'melgan-discriminator_1/melgan_discriminator_scale_._0/conv1d_27/BiasAdd:0' shape=(?, ?, 1024) dtype=float32>,\n",
       " <tf.Tensor 'melgan-discriminator_1/melgan_discriminator_scale_._0/leaky_re_lu_34/LeakyRelu:0' shape=(?, ?, 1024) dtype=float32>,\n",
       " <tf.Tensor 'melgan-discriminator_1/melgan_discriminator_scale_._0/conv1d_28/BiasAdd:0' shape=(?, ?, 1) dtype=float32>]"
      ]
     },
     "execution_count": 9,
     "metadata": {},
     "output_type": "execute_result"
    }
   ],
   "source": [
    "p[0]"
   ]
  },
  {
   "cell_type": "code",
   "execution_count": 10,
   "metadata": {},
   "outputs": [
    {
     "data": {
      "text/plain": [
       "[<tf.Tensor 'melgan-discriminator_1/melgan_discriminator_scale_._1/tf_reflection_pad1d_13/MirrorPad:0' shape=(?, ?, 1) dtype=float32>,\n",
       " <tf.Tensor 'melgan-discriminator_1/melgan_discriminator_scale_._1/conv1d_29/BiasAdd:0' shape=(?, ?, 16) dtype=float32>,\n",
       " <tf.Tensor 'melgan-discriminator_1/melgan_discriminator_scale_._1/leaky_re_lu_35/LeakyRelu:0' shape=(?, ?, 16) dtype=float32>,\n",
       " <tf.Tensor 'melgan-discriminator_1/melgan_discriminator_scale_._1/group_conv1d_4/BiasAdd:0' shape=(?, ?, 64) dtype=float32>,\n",
       " <tf.Tensor 'melgan-discriminator_1/melgan_discriminator_scale_._1/leaky_re_lu_36/LeakyRelu:0' shape=(?, ?, 64) dtype=float32>,\n",
       " <tf.Tensor 'melgan-discriminator_1/melgan_discriminator_scale_._1/group_conv1d_5/BiasAdd:0' shape=(?, ?, 256) dtype=float32>,\n",
       " <tf.Tensor 'melgan-discriminator_1/melgan_discriminator_scale_._1/leaky_re_lu_37/LeakyRelu:0' shape=(?, ?, 256) dtype=float32>,\n",
       " <tf.Tensor 'melgan-discriminator_1/melgan_discriminator_scale_._1/group_conv1d_6/BiasAdd:0' shape=(?, ?, 1024) dtype=float32>,\n",
       " <tf.Tensor 'melgan-discriminator_1/melgan_discriminator_scale_._1/leaky_re_lu_38/LeakyRelu:0' shape=(?, ?, 1024) dtype=float32>,\n",
       " <tf.Tensor 'melgan-discriminator_1/melgan_discriminator_scale_._1/group_conv1d_7/BiasAdd:0' shape=(?, ?, 1024) dtype=float32>,\n",
       " <tf.Tensor 'melgan-discriminator_1/melgan_discriminator_scale_._1/leaky_re_lu_39/LeakyRelu:0' shape=(?, ?, 1024) dtype=float32>,\n",
       " <tf.Tensor 'melgan-discriminator_1/melgan_discriminator_scale_._1/conv1d_30/BiasAdd:0' shape=(?, ?, 1024) dtype=float32>,\n",
       " <tf.Tensor 'melgan-discriminator_1/melgan_discriminator_scale_._1/leaky_re_lu_40/LeakyRelu:0' shape=(?, ?, 1024) dtype=float32>,\n",
       " <tf.Tensor 'melgan-discriminator_1/melgan_discriminator_scale_._1/conv1d_31/BiasAdd:0' shape=(?, ?, 1) dtype=float32>]"
      ]
     },
     "execution_count": 10,
     "metadata": {},
     "output_type": "execute_result"
    }
   ],
   "source": [
    "p[1]"
   ]
  },
  {
   "cell_type": "code",
   "execution_count": 8,
   "metadata": {},
   "outputs": [],
   "source": [
    "from malaya_speech.train.loss import calculate_2d_loss, calculate_3d_loss"
   ]
  },
  {
   "cell_type": "code",
   "execution_count": 9,
   "metadata": {},
   "outputs": [],
   "source": [
    "mse_loss = tf.keras.losses.MeanSquaredError(\n",
    "    reduction='none'\n",
    ")\n",
    "mae_loss = tf.keras.losses.MeanAbsoluteError(\n",
    "    reduction='none'\n",
    ")"
   ]
  },
  {
   "cell_type": "code",
   "execution_count": 10,
   "metadata": {},
   "outputs": [],
   "source": [
    "adv_loss = 0.0\n",
    "for i in range(len(p_hat)):\n",
    "    adv_loss += calculate_3d_loss(\n",
    "        tf.ones_like(p_hat[i][-1]), p_hat[i][-1], loss_fn=mse_loss\n",
    "    )\n",
    "adv_loss /= i + 1\n",
    "fm_loss = 0.0\n",
    "for i in range(len(p_hat)):\n",
    "    for j in range(len(p_hat[i]) - 1):\n",
    "        fm_loss += calculate_3d_loss(\n",
    "            p[i][j], p_hat[i][j], loss_fn=mae_loss\n",
    "        )\n",
    "fm_loss /= (i + 1) * (j + 1)\n",
    "adv_loss += 10 * fm_loss\n",
    "\n",
    "spect_loss = calculate_2d_loss(\n",
    "    y, tf.squeeze(y_hat, -1), loss_fn = mels_loss\n",
    ")"
   ]
  },
  {
   "cell_type": "code",
   "execution_count": 11,
   "metadata": {},
   "outputs": [],
   "source": [
    "real_loss = 0.0\n",
    "fake_loss = 0.0\n",
    "for i in range(len(p)):\n",
    "    real_loss += calculate_3d_loss(\n",
    "        tf.ones_like(p[i][-1]), p[i][-1], loss_fn=mse_loss\n",
    "    )\n",
    "    fake_loss += calculate_3d_loss(\n",
    "        tf.zeros_like(p_hat[i][-1]), p_hat[i][-1], loss_fn=mse_loss\n",
    "    )\n",
    "real_loss /= i + 1\n",
    "fake_loss /= i + 1\n",
    "dis_loss = real_loss + fake_loss"
   ]
  },
  {
   "cell_type": "code",
   "execution_count": 12,
   "metadata": {},
   "outputs": [
    {
     "data": {
      "text/plain": [
       "(<tf.Tensor 'add_42:0' shape=(?, ?) dtype=float32>,\n",
       " <tf.Tensor 'add_49:0' shape=(?, ?) dtype=float32>,\n",
       " <tf.Tensor 'tf_mel_spectrogram/Mean:0' shape=(?,) dtype=float32>)"
      ]
     },
     "execution_count": 12,
     "metadata": {},
     "output_type": "execute_result"
    }
   ],
   "source": [
    "adv_loss, dis_loss, spect_loss"
   ]
  },
  {
   "cell_type": "code",
   "execution_count": 13,
   "metadata": {},
   "outputs": [],
   "source": [
    "sess = tf.InteractiveSession()\n",
    "sess.run(tf.global_variables_initializer())"
   ]
  },
  {
   "cell_type": "code",
   "execution_count": 14,
   "metadata": {},
   "outputs": [],
   "source": [
    "# adv_loss_, dis_loss_ = sess.run([adv_loss, dis_loss], \n",
    "#                                     feed_dict = {x: np.random.uniform(size=(1,200,80)),\n",
    "#                                                  y: np.random.uniform(size=(1,51200))})"
   ]
  },
  {
   "cell_type": "code",
   "execution_count": 18,
   "metadata": {},
   "outputs": [],
   "source": [
    "# y_hat_, loss, p_, p_hat_ = sess.run([y_hat, p_hat, p], \n",
    "#                                     feed_dict = {x: np.random.uniform(size=(1,200,80)),\n",
    "#                                                  y: np.random.uniform(size=(1,51200))})"
   ]
  },
  {
   "cell_type": "code",
   "execution_count": 20,
   "metadata": {},
   "outputs": [
    {
     "data": {
      "text/plain": [
       "(1, 51200, 1)"
      ]
     },
     "execution_count": 20,
     "metadata": {},
     "output_type": "execute_result"
    }
   ],
   "source": [
    "sess.run(y_hat, feed_dict = {x: np.random.uniform(size=(1,200,80))}).shape"
   ]
  },
  {
   "cell_type": "code",
   "execution_count": null,
   "metadata": {},
   "outputs": [],
   "source": []
  }
 ],
 "metadata": {
  "kernelspec": {
   "display_name": "Python 3",
   "language": "python",
   "name": "python3"
  },
  "language_info": {
   "codemirror_mode": {
    "name": "ipython",
    "version": 3
   },
   "file_extension": ".py",
   "mimetype": "text/x-python",
   "name": "python",
   "nbconvert_exporter": "python",
   "pygments_lexer": "ipython3",
   "version": "3.7.7"
  }
 },
 "nbformat": 4,
 "nbformat_minor": 4
}

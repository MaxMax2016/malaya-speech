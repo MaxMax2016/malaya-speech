{
 "cells": [
  {
   "cell_type": "code",
   "execution_count": 1,
   "metadata": {},
   "outputs": [],
   "source": [
    "import os\n",
    "\n",
    "os.environ['CUDA_VISIBLE_DEVICES'] = '1'"
   ]
  },
  {
   "cell_type": "code",
   "execution_count": 2,
   "metadata": {},
   "outputs": [],
   "source": [
    "import sys\n",
    "\n",
    "SOURCE_DIR = os.path.dirname(os.path.dirname(os.path.abspath(__name__)))\n",
    "sys.path.insert(0, SOURCE_DIR)"
   ]
  },
  {
   "cell_type": "code",
   "execution_count": 3,
   "metadata": {},
   "outputs": [],
   "source": [
    "import tensorflow.compat.v1 as tf\n",
    "\n",
    "tf.disable_eager_execution()"
   ]
  },
  {
   "cell_type": "code",
   "execution_count": 4,
   "metadata": {
    "scrolled": true
   },
   "outputs": [],
   "source": [
    "import malaya_speech\n",
    "import malaya_speech.config\n",
    "from malaya_speech.train.model import fastspeech2\n",
    "from malaya_speech.train.model.fastspeech2 import model_stochastic\n",
    "import numpy as np"
   ]
  },
  {
   "cell_type": "code",
   "execution_count": 5,
   "metadata": {},
   "outputs": [],
   "source": [
    "config = malaya_speech.config.fastspeech2_config\n",
    "config['encoder_hidden_size'] = 128\n",
    "config['encoder_num_hidden_layers'] = 2\n",
    "config['encoder_intermediate_size'] = 512\n",
    "config['decoder_hidden_size'] = 128\n",
    "config['decoder_num_hidden_layers'] = 2\n",
    "config['decoder_intermediate_size'] = 512\n",
    "config['hidden_dropout_prob'] = 0.1"
   ]
  },
  {
   "cell_type": "code",
   "execution_count": 6,
   "metadata": {
    "scrolled": true
   },
   "outputs": [
    {
     "name": "stdout",
     "output_type": "stream",
     "text": [
      "WARNING:tensorflow:From /Library/Frameworks/Python.framework/Versions/3.7/lib/python3.7/site-packages/tensorflow_core/python/keras/initializers.py:119: calling RandomUniform.__init__ (from tensorflow.python.ops.init_ops) with dtype is deprecated and will be removed in a future version.\n",
      "Instructions for updating:\n",
      "Call initializer instance with the dtype argument instead of passing it to the constructor\n",
      "WARNING:tensorflow:From /Users/huseinzolkepli/Documents/malaya-speech/malaya_speech/train/model/fastspeech/layer.py:11: The name tf.keras.initializers.TruncatedNormal is deprecated. Please use tf.compat.v1.keras.initializers.TruncatedNormal instead.\n",
      "\n",
      "WARNING:tensorflow:From /Library/Frameworks/Python.framework/Versions/3.7/lib/python3.7/site-packages/tensorflow_core/python/keras/initializers.py:94: calling TruncatedNormal.__init__ (from tensorflow.python.ops.init_ops) with dtype is deprecated and will be removed in a future version.\n",
      "Instructions for updating:\n",
      "Call initializer instance with the dtype argument instead of passing it to the constructor\n"
     ]
    }
   ],
   "source": [
    "# config = malaya_speech.config.fastspeech2_config\n",
    "config = fastspeech2.Config(vocab_size = 66, **config)\n",
    "model = model_stochastic.Model(config)"
   ]
  },
  {
   "cell_type": "code",
   "execution_count": 7,
   "metadata": {},
   "outputs": [],
   "source": [
    "i = tf.placeholder(tf.int32, [None, None])\n",
    "lens = tf.placeholder(tf.int32, [None, None])\n",
    "mel_outputs = tf.placeholder(tf.float32, [None, None, 80])\n",
    "mel_lengths = tf.placeholder(tf.int32, [None])\n",
    "energies = tf.placeholder(tf.float32, [None, None])\n",
    "energies_lengths = tf.placeholder(tf.int32, [None])\n",
    "f0s = tf.placeholder(tf.float32, [None, None])\n",
    "f0s_lengths = tf.placeholder(tf.int32, [None])"
   ]
  },
  {
   "cell_type": "code",
   "execution_count": 8,
   "metadata": {},
   "outputs": [
    {
     "name": "stdout",
     "output_type": "stream",
     "text": [
      "WARNING:tensorflow:From /Library/Frameworks/Python.framework/Versions/3.7/lib/python3.7/site-packages/tensorflow_core/python/ops/resource_variable_ops.py:1630: calling BaseResourceVariable.__init__ (from tensorflow.python.ops.resource_variable_ops) with constraint is deprecated and will be removed in a future version.\n",
      "Instructions for updating:\n",
      "If using Keras pass *_constraint arguments to layers.\n",
      "WARNING:tensorflow:From /Users/huseinzolkepli/Documents/malaya-speech/malaya_speech/train/model/vits/transforms.py:84: where (from tensorflow.python.ops.array_ops) is deprecated and will be removed in a future version.\n",
      "Instructions for updating:\n",
      "Use tf.where in 2.0, which has the same broadcast rule as np.where\n"
     ]
    }
   ],
   "source": [
    "mel_before, mel_after, duration_outputs, f0_outputs, energy_outputs = model(i, lens, f0s, energies, training = True)"
   ]
  },
  {
   "cell_type": "code",
   "execution_count": 11,
   "metadata": {},
   "outputs": [
    {
     "data": {
      "text/plain": [
       "(<tf.Tensor 'model/mel_before/BiasAdd:0' shape=(?, ?, 80) dtype=float32>,\n",
       " <tf.Tensor 'model/add_3:0' shape=(?, ?, 80) dtype=float32>,\n",
       " <tf.Tensor 'model/Sum_1:0' shape=() dtype=float32>,\n",
       " <tf.Tensor 'model/f0_predictor/Squeeze:0' shape=(?, ?) dtype=float32>,\n",
       " <tf.Tensor 'model/energy_predictor/Squeeze:0' shape=(?, ?) dtype=float32>)"
      ]
     },
     "execution_count": 11,
     "metadata": {},
     "output_type": "execute_result"
    }
   ],
   "source": [
    "mel_before, mel_after, duration_outputs, f0_outputs, energy_outputs"
   ]
  },
  {
   "cell_type": "code",
   "execution_count": 10,
   "metadata": {},
   "outputs": [
    {
     "data": {
      "text/plain": [
       "(<tf.Tensor 'mel_before_1/BiasAdd:0' shape=(?, ?, 80) dtype=float32>,\n",
       " <tf.Tensor 'add_7:0' shape=(?, ?, 80) dtype=float32>,\n",
       " <tf.Tensor 'Cast_3:0' shape=(?, ?) dtype=int32>,\n",
       " <tf.Tensor 'mul_7:0' shape=(?, ?) dtype=float32>,\n",
       " <tf.Tensor 'mul_8:0' shape=(?, ?) dtype=float32>)"
      ]
     },
     "execution_count": 10,
     "metadata": {},
     "output_type": "execute_result"
    }
   ],
   "source": [
    "o = model.inference(i, 1.0, [1.0], [1.0], 1.0)\n",
    "o"
   ]
  },
  {
   "cell_type": "code",
   "execution_count": 12,
   "metadata": {},
   "outputs": [],
   "source": [
    "loss_f = tf.losses.mean_squared_error"
   ]
  },
  {
   "cell_type": "code",
   "execution_count": 13,
   "metadata": {},
   "outputs": [],
   "source": [
    "duration_loss = duration_outputs"
   ]
  },
  {
   "cell_type": "code",
   "execution_count": 14,
   "metadata": {},
   "outputs": [
    {
     "data": {
      "text/plain": [
       "<tf.Tensor 'ExpandDims_12:0' shape=(?, ?, 1) dtype=float32>"
      ]
     },
     "execution_count": 14,
     "metadata": {},
     "output_type": "execute_result"
    }
   ],
   "source": [
    "max_length = tf.cast(tf.reduce_max(mel_lengths), tf.int32)\n",
    "mask = tf.sequence_mask(\n",
    "    lengths = mel_lengths, maxlen = max_length, dtype = tf.float32\n",
    ")\n",
    "mask = tf.expand_dims(mask, axis = -1)\n",
    "mask"
   ]
  },
  {
   "cell_type": "code",
   "execution_count": 15,
   "metadata": {},
   "outputs": [],
   "source": [
    "from functools import partial\n",
    "from malaya_speech.train import loss\n",
    "\n",
    "mse_mel = partial(\n",
    "    loss_f,\n",
    "    weights = mask\n",
    ")"
   ]
  },
  {
   "cell_type": "code",
   "execution_count": 16,
   "metadata": {},
   "outputs": [
    {
     "data": {
      "text/plain": [
       "<tf.Tensor 'mean_squared_error/value:0' shape=() dtype=float32>"
      ]
     },
     "execution_count": 16,
     "metadata": {},
     "output_type": "execute_result"
    }
   ],
   "source": [
    "mel_loss_before = loss.calculate_3d_loss(mel_outputs, mel_before, mse_mel)\n",
    "mel_loss_before"
   ]
  },
  {
   "cell_type": "code",
   "execution_count": 17,
   "metadata": {},
   "outputs": [
    {
     "data": {
      "text/plain": [
       "<tf.Tensor 'mean_squared_error_1/value:0' shape=() dtype=float32>"
      ]
     },
     "execution_count": 17,
     "metadata": {},
     "output_type": "execute_result"
    }
   ],
   "source": [
    "mel_loss_after = loss.calculate_3d_loss(mel_outputs, mel_after, mse_mel)\n",
    "mel_loss_after"
   ]
  },
  {
   "cell_type": "code",
   "execution_count": 18,
   "metadata": {},
   "outputs": [],
   "source": [
    "max_length = tf.cast(tf.reduce_max(energies_lengths), tf.int32)\n",
    "mask = tf.sequence_mask(\n",
    "    lengths = energies_lengths, maxlen = max_length, dtype = tf.float32\n",
    ")\n",
    "energies_mel = partial(\n",
    "    loss_f,\n",
    "    weights = mask\n",
    ")\n",
    "energies_loss = loss.calculate_2d_loss(energies, energy_outputs, energies_mel)"
   ]
  },
  {
   "cell_type": "code",
   "execution_count": 19,
   "metadata": {},
   "outputs": [],
   "source": [
    "max_length = tf.cast(tf.reduce_max(f0s_lengths), tf.int32)\n",
    "mask = tf.sequence_mask(\n",
    "    lengths = f0s_lengths, maxlen = max_length, dtype = tf.float32\n",
    ")\n",
    "energies_mel = partial(\n",
    "    loss_f,\n",
    "    weights = mask\n",
    ")\n",
    "f0s_loss = loss.calculate_2d_loss(f0s, f0_outputs, energies_mel)"
   ]
  },
  {
   "cell_type": "code",
   "execution_count": 20,
   "metadata": {},
   "outputs": [],
   "source": [
    "loss = duration_loss + mel_loss_before + mel_loss_after + energies_loss + f0s_loss"
   ]
  },
  {
   "cell_type": "code",
   "execution_count": 21,
   "metadata": {},
   "outputs": [],
   "source": [
    "sess = tf.InteractiveSession()\n",
    "sess.run(tf.global_variables_initializer())"
   ]
  },
  {
   "cell_type": "code",
   "execution_count": 22,
   "metadata": {},
   "outputs": [],
   "source": [
    "import pickle\n",
    "\n",
    "with open('dataset-mel.pkl', 'rb') as fopen:\n",
    "    data, d = pickle.load(fopen)"
   ]
  },
  {
   "cell_type": "code",
   "execution_count": 23,
   "metadata": {
    "scrolled": true
   },
   "outputs": [
    {
     "data": {
      "text/plain": [
       "dict_keys(['mel', 'text_ids', 'len_mel', 'len_text_ids', 'stop_token_target', 'f0', 'len_f0', 'energy', 'len_energy', 'g'])"
      ]
     },
     "execution_count": 23,
     "metadata": {},
     "output_type": "execute_result"
    }
   ],
   "source": [
    "data.keys()"
   ]
  },
  {
   "cell_type": "code",
   "execution_count": 24,
   "metadata": {},
   "outputs": [
    {
     "data": {
      "text/plain": [
       "(72,)"
      ]
     },
     "execution_count": 24,
     "metadata": {},
     "output_type": "execute_result"
    }
   ],
   "source": [
    "d.shape"
   ]
  },
  {
   "cell_type": "code",
   "execution_count": 25,
   "metadata": {},
   "outputs": [],
   "source": [
    "def average_by_duration(x, durs):\n",
    "    mel_len = durs.sum()\n",
    "    durs_cum = np.cumsum(np.pad(durs, (1, 0)))\n",
    "    \n",
    "    x_char = np.zeros((durs.shape[0],), dtype=np.float32)\n",
    "    for idx, start, end in zip(range(mel_len), durs_cum[:-1], durs_cum[1:]):\n",
    "        values = x[start:end][np.where(x[start:end] != 0.0)[0]]\n",
    "        x_char[idx] = np.mean(values) if len(values) > 0 else 0.0\n",
    "\n",
    "    return x_char.astype(np.float32)"
   ]
  },
  {
   "cell_type": "code",
   "execution_count": 26,
   "metadata": {},
   "outputs": [],
   "source": [
    "f0 = average_by_duration(data['f0'][0], d)\n",
    "energy = average_by_duration(data['energy'][0], d)"
   ]
  },
  {
   "cell_type": "code",
   "execution_count": 27,
   "metadata": {},
   "outputs": [
    {
     "data": {
      "text/plain": [
       "((72,), (72,), (72,))"
      ]
     },
     "execution_count": 27,
     "metadata": {},
     "output_type": "execute_result"
    }
   ],
   "source": [
    "f0.shape, energy.shape, d.shape"
   ]
  },
  {
   "cell_type": "code",
   "execution_count": 28,
   "metadata": {},
   "outputs": [
    {
     "data": {
      "text/plain": [
       "(1, 72)"
      ]
     },
     "execution_count": 28,
     "metadata": {},
     "output_type": "execute_result"
    }
   ],
   "source": [
    "data['text_ids'].shape"
   ]
  },
  {
   "cell_type": "code",
   "execution_count": 29,
   "metadata": {},
   "outputs": [],
   "source": [
    "r = sess.run([mel_before, mel_after, duration_outputs, f0_outputs, energy_outputs], \n",
    "         feed_dict = {i: data['text_ids'],\n",
    "                      lens: [d],\n",
    "                      energies: [energy],\n",
    "                      f0s: [f0]})"
   ]
  },
  {
   "cell_type": "code",
   "execution_count": 30,
   "metadata": {
    "scrolled": true
   },
   "outputs": [
    {
     "data": {
      "text/plain": [
       "((1, 408, 80), (1, 408, 80), (), (1, 72), (1, 72))"
      ]
     },
     "execution_count": 30,
     "metadata": {},
     "output_type": "execute_result"
    }
   ],
   "source": [
    "r[0].shape, r[1].shape, r[2].shape, r[3].shape, r[4].shape"
   ]
  },
  {
   "cell_type": "code",
   "execution_count": 31,
   "metadata": {},
   "outputs": [
    {
     "name": "stdout",
     "output_type": "stream",
     "text": [
      "CPU times: user 3.11 s, sys: 75.8 ms, total: 3.18 s\n",
      "Wall time: 2.95 s\n"
     ]
    }
   ],
   "source": [
    "%%time\n",
    "\n",
    "r = sess.run([duration_loss, mel_loss_before, mel_loss_after, energies_loss, f0s_loss], \n",
    "         feed_dict = {i: data['text_ids'],\n",
    "                      lens: [d],\n",
    "                      mel_outputs:data['mel'],\n",
    "                      mel_lengths:data['len_mel'][0],\n",
    "                      energies: [energy],\n",
    "                      energies_lengths: [len(energy)],\n",
    "                      f0s: [f0],\n",
    "                      f0s_lengths: [len(f0)]})"
   ]
  },
  {
   "cell_type": "code",
   "execution_count": 32,
   "metadata": {},
   "outputs": [
    {
     "name": "stdout",
     "output_type": "stream",
     "text": [
      "CPU times: user 1.05 s, sys: 39.6 ms, total: 1.09 s\n",
      "Wall time: 988 ms\n"
     ]
    }
   ],
   "source": [
    "%%time\n",
    "\n",
    "r = sess.run(o, \n",
    "         feed_dict = {i: data['text_ids']})"
   ]
  },
  {
   "cell_type": "code",
   "execution_count": 33,
   "metadata": {},
   "outputs": [
    {
     "data": {
      "text/plain": [
       "(array([[[ 1.7530556e-01, -2.0076416e+00, -1.5113738e-01, ...,\n",
       "          -7.6994710e-02,  3.3198804e-01, -1.6002080e+00],\n",
       "         [ 1.0174407e+00, -1.0283543e-01,  1.3536279e-01, ...,\n",
       "           3.8780543e-01, -3.6809766e-01, -3.8695681e-01],\n",
       "         [-7.7233887e-01, -3.4405744e-01, -1.0052812e+00, ...,\n",
       "          -1.8492843e+00, -4.6884894e-01,  1.0801215e+00],\n",
       "         ...,\n",
       "         [-1.2138747e+00, -1.6034847e-03, -6.5687692e-01, ...,\n",
       "          -9.2790979e-01, -5.3099513e-01,  1.3595790e+00],\n",
       "         [-1.2276285e+00, -6.2218518e-03, -6.8765569e-01, ...,\n",
       "          -1.1537774e+00, -4.5435274e-01,  1.2463319e+00],\n",
       "         [-9.9839664e-01,  2.3969002e-02, -7.1537161e-01, ...,\n",
       "          -1.0789440e+00, -5.6597364e-01,  1.3471968e+00]]], dtype=float32),\n",
       " array([[[ 1.0910996 , -2.1609724 ,  0.43045345, ...,  0.25504762,\n",
       "          -0.79802865, -1.1828123 ],\n",
       "         [ 2.2565598 ,  0.0429959 ,  0.7502131 , ...,  1.9181694 ,\n",
       "          -0.706168  ,  0.9901773 ],\n",
       "         [-0.17074943, -0.34405744, -1.5318155 , ..., -1.2002108 ,\n",
       "          -1.2150135 ,  2.248581  ],\n",
       "         ...,\n",
       "         [-2.57086   ,  2.2364886 ,  0.5984819 , ...,  0.07739073,\n",
       "           0.9719832 ,  1.359579  ],\n",
       "         [-2.2409964 , -0.00622185,  0.60309994, ..., -0.23486942,\n",
       "          -0.45435274, -0.17145002],\n",
       "         [ 0.18770945,  0.023969  , -0.03397912, ..., -0.9971777 ,\n",
       "          -0.56597364,  0.7145326 ]]], dtype=float32),\n",
       " array([[ 1,  1,  2,  1,  1,  3,  7,  1,  6,  2,  1,  2,  1,  4,  1,  3,\n",
       "          6,  1,  1,  1,  1, 12,  2, 13,  1,  1,  6,  2,  3,  1,  1,  6,\n",
       "          2,  1,  1,  2,  4,  4,  1,  1,  1,  2,  1,  1,  1,  6,  1,  1,\n",
       "          1,  1, 12,  2,  1,  1,  1, 10,  1,  2,  1,  2,  3,  1,  1,  1,\n",
       "          1,  1,  3,  2,  5,  0,  0,  0]], dtype=int32),\n",
       " array([[-1.0117726 , -1.4117513 ,  1.3577268 ,  0.92968273,  0.7604719 ,\n",
       "         -1.8522024 ,  0.15377119,  1.7702044 ,  0.4284082 ,  0.3779614 ,\n",
       "         -0.09058917,  0.9284511 ,  0.35966572,  1.7220627 , -0.03957176,\n",
       "         -0.15462893,  2.4272037 , -1.8279881 ,  2.4465995 ,  0.0964528 ,\n",
       "         -1.0276718 ,  2.791663  , -1.8621866 ,  0.71120906, -0.17766714,\n",
       "         -2.0678546 ,  1.76212   ,  1.555154  , -2.1426048 , -0.6422172 ,\n",
       "          1.5349011 , -0.2245012 , -1.5249352 , -1.6277459 ,  0.7402532 ,\n",
       "         -2.2187803 , -2.6100965 ,  2.218089  ,  2.291576  , -2.290399  ,\n",
       "         -2.1505704 ,  0.1239236 ,  1.0019885 , -0.71820307, -2.2647517 ,\n",
       "          0.06816018, -0.0397321 ,  0.27576694, -2.7828436 ,  0.09839773,\n",
       "          0.9165716 , -0.7622826 , -0.01586998,  0.8459008 , -0.19079185,\n",
       "         -0.85086936, -1.7277986 , -0.64514506, -0.77958393,  1.4218172 ,\n",
       "         -1.5138403 , -2.5050304 , -2.626501  ,  2.6757178 , -0.7295889 ,\n",
       "          1.4043165 , -0.27600604,  1.3051348 ,  0.03952336,  0.        ,\n",
       "         -0.        ,  0.        ]], dtype=float32),\n",
       " array([[ 0.01408362, -0.5271966 ,  0.80844706, -0.63639355,  0.4386614 ,\n",
       "         -0.43129396, -1.0551966 ,  0.86252755,  0.518507  ,  0.84843427,\n",
       "         -0.5346303 , -1.7405148 , -0.95933   , -0.17603692, -0.5005046 ,\n",
       "         -2.2218227 , -1.9975855 , -2.1852171 , -0.5540513 ,  0.9118776 ,\n",
       "         -0.23246521, -0.40206015, -1.1652846 , -0.93789065,  0.6585723 ,\n",
       "         -3.0242915 , -0.8539315 , -1.6325877 ,  0.8947273 , -0.16599986,\n",
       "          0.63163865, -0.79511154, -2.2700133 ,  0.61756533,  0.03132981,\n",
       "          1.190965  ,  1.7470535 , -2.4470425 , -0.0327448 ,  1.1819087 ,\n",
       "         -2.996132  ,  1.2153163 ,  1.3948183 ,  2.1136606 ,  1.1770645 ,\n",
       "         -0.853295  ,  1.4211062 ,  1.0338519 , -1.789437  ,  2.0835252 ,\n",
       "          0.5301051 , -1.2400002 , -0.7780812 ,  0.82967705, -1.2994573 ,\n",
       "         -0.46074364, -0.9608849 , -1.0832243 , -0.19734797, -0.18500629,\n",
       "          0.05258243,  0.06825194, -0.7049277 ,  0.06660366, -0.1672037 ,\n",
       "         -1.4994295 , -0.71416366, -0.92715794,  0.7165597 , -0.        ,\n",
       "          0.        ,  0.        ]], dtype=float32))"
      ]
     },
     "execution_count": 33,
     "metadata": {},
     "output_type": "execute_result"
    }
   ],
   "source": [
    "r"
   ]
  },
  {
   "cell_type": "code",
   "execution_count": 34,
   "metadata": {},
   "outputs": [
    {
     "data": {
      "text/plain": [
       "'test/model.ckpt'"
      ]
     },
     "execution_count": 34,
     "metadata": {},
     "output_type": "execute_result"
    }
   ],
   "source": [
    "saver = tf.train.Saver()\n",
    "saver.save(sess, 'test/model.ckpt')"
   ]
  },
  {
   "cell_type": "code",
   "execution_count": 35,
   "metadata": {},
   "outputs": [
    {
     "name": "stdout",
     "output_type": "stream",
     "text": [
      "total 93816\r\n",
      "-rw-r--r--  1 huseinzolkepli  staff    77B Aug 14 20:06 checkpoint\r\n",
      "-rw-r--r--  1 huseinzolkepli  staff    39M Aug 14 20:06 model.ckpt.data-00000-of-00001\r\n",
      "-rw-r--r--  1 huseinzolkepli  staff    16K Aug 14 20:06 model.ckpt.index\r\n",
      "-rw-r--r--  1 huseinzolkepli  staff   7.2M Aug 14 20:06 model.ckpt.meta\r\n"
     ]
    }
   ],
   "source": [
    "!ls -lh test"
   ]
  }
 ],
 "metadata": {
  "kernelspec": {
   "display_name": "Python 3",
   "language": "python",
   "name": "python3"
  },
  "language_info": {
   "codemirror_mode": {
    "name": "ipython",
    "version": 3
   },
   "file_extension": ".py",
   "mimetype": "text/x-python",
   "name": "python",
   "nbconvert_exporter": "python",
   "pygments_lexer": "ipython3",
   "version": "3.7.7"
  },
  "varInspector": {
   "cols": {
    "lenName": 16,
    "lenType": 16,
    "lenVar": 40
   },
   "kernels_config": {
    "python": {
     "delete_cmd_postfix": "",
     "delete_cmd_prefix": "del ",
     "library": "var_list.py",
     "varRefreshCmd": "print(var_dic_list())"
    },
    "r": {
     "delete_cmd_postfix": ") ",
     "delete_cmd_prefix": "rm(",
     "library": "var_list.r",
     "varRefreshCmd": "cat(var_dic_list()) "
    }
   },
   "types_to_exclude": [
    "module",
    "function",
    "builtin_function_or_method",
    "instance",
    "_Feature"
   ],
   "window_display": false
  }
 },
 "nbformat": 4,
 "nbformat_minor": 4
}

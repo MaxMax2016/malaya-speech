{
 "cells": [
  {
   "cell_type": "code",
   "execution_count": 1,
   "metadata": {},
   "outputs": [],
   "source": [
    "import os\n",
    "\n",
    "os.environ['CUDA_VISIBLE_DEVICES'] = '1'"
   ]
  },
  {
   "cell_type": "code",
   "execution_count": 2,
   "metadata": {},
   "outputs": [],
   "source": [
    "import sys\n",
    "\n",
    "SOURCE_DIR = os.path.dirname(os.path.dirname(os.path.abspath(__name__)))\n",
    "sys.path.insert(0, SOURCE_DIR)"
   ]
  },
  {
   "cell_type": "code",
   "execution_count": 3,
   "metadata": {},
   "outputs": [],
   "source": [
    "import tensorflow as tf\n",
    "import malaya_speech\n",
    "import malaya_speech.train\n",
    "from malaya_speech.train.model import unet\n",
    "from malaya_speech.utils import tf_featurization\n",
    "import numpy as np"
   ]
  },
  {
   "cell_type": "code",
   "execution_count": 4,
   "metadata": {},
   "outputs": [],
   "source": [
    "class Model:\n",
    "    def __init__(self, size = 2):\n",
    "        self.X = tf.placeholder(tf.float32, (None))\n",
    "        self.Y = tf.placeholder(tf.float32, (2, None))\n",
    "        \n",
    "        stft_X, D_X = tf_featurization.get_stft(self.X)\n",
    "        \n",
    "        self.stft = []\n",
    "        for i in range(size):\n",
    "            self.stft.append(tf_featurization.get_stft(self.Y[i]))\n",
    "        \n",
    "        self.outputs = []\n",
    "        for i in range(size):\n",
    "            with tf.variable_scope(f'model_{i}'):\n",
    "                self.outputs.append(unet.model.apply_unet(D_X))\n",
    "        \n",
    "        self.loss = []\n",
    "        for i in range(size):\n",
    "            self.loss.append(tf.reduce_mean(tf.abs(self.outputs[i] - self.stft[i][1])))        \n",
    "        \n",
    "        self.cost = tf.reduce_sum(self.loss)\n",
    "        \n",
    "        separation_exponent = 2\n",
    "        EPSILON = 1e-10\n",
    "        \n",
    "        output_sum = tf.reduce_sum(\n",
    "        [o ** separation_exponent for o in self.outputs], axis=0) + EPSILON\n",
    "        \n",
    "        self.istft = []\n",
    "        for no, D in enumerate(self.outputs):\n",
    "\n",
    "            instrument_mask = (D ** separation_exponent + (EPSILON / 2)) / output_sum\n",
    "            instrument_mask = tf_featurization.extend_mask(instrument_mask)\n",
    "            old_shape = tf.shape(instrument_mask)\n",
    "            new_shape = tf.concat(\n",
    "                [[old_shape[0] * old_shape[1]], old_shape[2:]],\n",
    "                axis=0)\n",
    "            instrument_mask = tf.reshape(instrument_mask, new_shape)\n",
    "\n",
    "            instrument_mask = instrument_mask[:tf.shape(stft_X)[0]]\n",
    "            masked_stft = tf.cast(instrument_mask, dtype=tf.complex64) * stft_X\n",
    "            self.istft.append(tf_featurization.istft(masked_stft, self.X)[:,0])"
   ]
  },
  {
   "cell_type": "code",
   "execution_count": 5,
   "metadata": {},
   "outputs": [
    {
     "name": "stdout",
     "output_type": "stream",
     "text": [
      "WARNING:tensorflow:From /Library/Frameworks/Python.framework/Versions/3.7/lib/python3.7/site-packages/tensorflow_core/python/ops/resource_variable_ops.py:1630: calling BaseResourceVariable.__init__ (from tensorflow.python.ops.resource_variable_ops) with constraint is deprecated and will be removed in a future version.\n",
      "Instructions for updating:\n",
      "If using Keras pass *_constraint arguments to layers.\n"
     ]
    }
   ],
   "source": [
    "tf.compat.v1.reset_default_graph()\n",
    "model = Model()\n",
    "sess = tf.InteractiveSession()\n",
    "sess.run(tf.global_variables_initializer())"
   ]
  },
  {
   "cell_type": "code",
   "execution_count": 6,
   "metadata": {},
   "outputs": [
    {
     "data": {
      "text/plain": [
       "5.630680272108844"
      ]
     },
     "execution_count": 6,
     "metadata": {},
     "output_type": "execute_result"
    }
   ],
   "source": [
    "y, sr = malaya_speech.load('../speech/example-speaker/husein-zolkepli.wav', sr = 44100)\n",
    "len(y) / sr"
   ]
  },
  {
   "cell_type": "code",
   "execution_count": 7,
   "metadata": {},
   "outputs": [],
   "source": [
    "y_ = malaya_speech.augmentation.waveform.random_amplitude_threshold(y, low = 1, high = 3, threshold = 0.7)\n",
    "noise = y - y_"
   ]
  },
  {
   "cell_type": "code",
   "execution_count": 8,
   "metadata": {},
   "outputs": [],
   "source": [
    "stft = sess.run(model.stft, feed_dict = {model.Y: [y, noise]})"
   ]
  },
  {
   "cell_type": "code",
   "execution_count": 9,
   "metadata": {},
   "outputs": [
    {
     "data": {
      "text/plain": [
       "[(1, 512, 1024, 1), (1, 512, 1024, 1)]"
      ]
     },
     "execution_count": 9,
     "metadata": {},
     "output_type": "execute_result"
    }
   ],
   "source": [
    "outputs = sess.run(model.outputs, feed_dict = {model.X: y_})\n",
    "[o.shape for o in outputs]"
   ]
  },
  {
   "cell_type": "code",
   "execution_count": 10,
   "metadata": {},
   "outputs": [
    {
     "data": {
      "text/plain": [
       "[0.13775964, 0.09029782]"
      ]
     },
     "execution_count": 10,
     "metadata": {},
     "output_type": "execute_result"
    }
   ],
   "source": [
    "sess.run(model.loss, feed_dict = {model.X: y_, model.Y: [y, noise]})"
   ]
  },
  {
   "cell_type": "code",
   "execution_count": 11,
   "metadata": {},
   "outputs": [
    {
     "data": {
      "text/plain": [
       "[(248313,), (248313,)]"
      ]
     },
     "execution_count": 11,
     "metadata": {},
     "output_type": "execute_result"
    }
   ],
   "source": [
    "istft = sess.run(model.istft, feed_dict = {model.X: y_})\n",
    "[s.shape for s in istft]"
   ]
  }
 ],
 "metadata": {
  "kernelspec": {
   "display_name": "Python 3",
   "language": "python",
   "name": "python3"
  },
  "language_info": {
   "codemirror_mode": {
    "name": "ipython",
    "version": 3
   },
   "file_extension": ".py",
   "mimetype": "text/x-python",
   "name": "python",
   "nbconvert_exporter": "python",
   "pygments_lexer": "ipython3",
   "version": "3.7.7"
  }
 },
 "nbformat": 4,
 "nbformat_minor": 4
}

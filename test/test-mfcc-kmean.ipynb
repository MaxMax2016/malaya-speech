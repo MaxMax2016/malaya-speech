{
 "cells": [
  {
   "cell_type": "code",
   "execution_count": 1,
   "metadata": {},
   "outputs": [],
   "source": [
    "# !pip3 install npy-append-array"
   ]
  },
  {
   "cell_type": "code",
   "execution_count": 2,
   "metadata": {},
   "outputs": [],
   "source": [
    "import os\n",
    "\n",
    "os.environ['CUDA_VISIBLE_DEVICES'] = '1'"
   ]
  },
  {
   "cell_type": "code",
   "execution_count": 3,
   "metadata": {},
   "outputs": [],
   "source": [
    "import sys\n",
    "\n",
    "SOURCE_DIR = os.path.dirname(os.path.dirname(os.path.abspath(__name__)))\n",
    "sys.path.insert(0, SOURCE_DIR)"
   ]
  },
  {
   "cell_type": "code",
   "execution_count": 6,
   "metadata": {},
   "outputs": [],
   "source": [
    "import malaya_speech\n",
    "import malaya_speech.config\n",
    "import tensorflow as tf\n",
    "from npy_append_array import NpyAppendArray\n",
    "import joblib\n",
    "import numpy as np\n",
    "import torch\n",
    "from malaya_speech.train.model import hubert\n",
    "\n",
    "# tf.compat.v1.enable_eager_execution()"
   ]
  },
  {
   "cell_type": "code",
   "execution_count": 7,
   "metadata": {},
   "outputs": [],
   "source": [
    "config = malaya_speech.config.transducer_featurizer_config\n",
    "config['feature_type'] = 'mfcc'\n",
    "config['num_feature_bins'] = 30\n",
    "config['stride_ms'] = 20\n",
    "featurizer = malaya_speech.utils.tf_featurization.STTFeaturizer(**config)"
   ]
  },
  {
   "cell_type": "code",
   "execution_count": 8,
   "metadata": {},
   "outputs": [
    {
     "data": {
      "text/plain": [
       "(90090, 56298)"
      ]
     },
     "execution_count": 8,
     "metadata": {},
     "output_type": "execute_result"
    }
   ],
   "source": [
    "y, sr = malaya_speech.load('../speech/example-speaker/husein-zolkepli.wav', sr = 16000)\n",
    "y1, sr = malaya_speech.load('../speech/example-speaker/shafiqah-idayu.wav', sr = 16000)\n",
    "len(y), len(y1)"
   ]
  },
  {
   "cell_type": "code",
   "execution_count": 9,
   "metadata": {},
   "outputs": [
    {
     "data": {
      "text/plain": [
       "<tf.Tensor 'truediv_1:0' shape=(?, 30) dtype=float32>"
      ]
     },
     "execution_count": 9,
     "metadata": {},
     "output_type": "execute_result"
    }
   ],
   "source": [
    "i = tf.placeholder(tf.float32, [None])\n",
    "v = featurizer.vectorize(i)\n",
    "v"
   ]
  },
  {
   "cell_type": "code",
   "execution_count": 10,
   "metadata": {},
   "outputs": [
    {
     "data": {
      "text/plain": [
       "<tf.Tensor 'strided_slice_3:0' shape=(?, 30) dtype=float32>"
      ]
     },
     "execution_count": 10,
     "metadata": {},
     "output_type": "execute_result"
    }
   ],
   "source": [
    "deltas = malaya_speech.utils.tf_featurization.deltas(v)\n",
    "deltas"
   ]
  },
  {
   "cell_type": "code",
   "execution_count": 11,
   "metadata": {},
   "outputs": [
    {
     "data": {
      "text/plain": [
       "<tf.Tensor 'strided_slice_4:0' shape=(?, 30) dtype=float32>"
      ]
     },
     "execution_count": 11,
     "metadata": {},
     "output_type": "execute_result"
    }
   ],
   "source": [
    "ddeltas = malaya_speech.utils.tf_featurization.deltas(deltas)\n",
    "ddeltas"
   ]
  },
  {
   "cell_type": "code",
   "execution_count": 12,
   "metadata": {},
   "outputs": [
    {
     "data": {
      "text/plain": [
       "<tf.Tensor 'concat_1:0' shape=(?, 90) dtype=float32>"
      ]
     },
     "execution_count": 12,
     "metadata": {},
     "output_type": "execute_result"
    }
   ],
   "source": [
    "concated = tf.concat([v, deltas, ddeltas], axis = 1)\n",
    "concated"
   ]
  },
  {
   "cell_type": "code",
   "execution_count": 13,
   "metadata": {},
   "outputs": [],
   "source": [
    "sess = tf.Session()"
   ]
  },
  {
   "cell_type": "code",
   "execution_count": 14,
   "metadata": {},
   "outputs": [
    {
     "name": "stdout",
     "output_type": "stream",
     "text": [
      "rm: out.npy: No such file or directory\r\n"
     ]
    }
   ],
   "source": [
    "!rm out.npy\n",
    "feat_f = NpyAppendArray('out.npy')\n",
    "leng_path = 'out.len'\n",
    "leng_f = open(leng_path, 'w')"
   ]
  },
  {
   "cell_type": "code",
   "execution_count": 15,
   "metadata": {},
   "outputs": [
    {
     "data": {
      "text/plain": [
       "(281, 90)"
      ]
     },
     "execution_count": 15,
     "metadata": {},
     "output_type": "execute_result"
    }
   ],
   "source": [
    "# 281\n",
    "v1 = sess.run(concated, feed_dict = {i: y})\n",
    "feat_f.append(v1)\n",
    "leng_f.write(f\"{len(v1)}\\n\")\n",
    "v1.shape"
   ]
  },
  {
   "cell_type": "code",
   "execution_count": 16,
   "metadata": {},
   "outputs": [
    {
     "data": {
      "text/plain": [
       "(175, 90)"
      ]
     },
     "execution_count": 16,
     "metadata": {},
     "output_type": "execute_result"
    }
   ],
   "source": [
    "# 175\n",
    "v1 = sess.run(concated, feed_dict = {i: y1})\n",
    "feat_f.append(v1)\n",
    "leng_f.write(f\"{len(v1)}\\n\")\n",
    "v1.shape"
   ]
  },
  {
   "cell_type": "code",
   "execution_count": 17,
   "metadata": {},
   "outputs": [],
   "source": [
    "leng_f.close()"
   ]
  },
  {
   "cell_type": "code",
   "execution_count": 18,
   "metadata": {},
   "outputs": [
    {
     "data": {
      "text/plain": [
       "(456, 90)"
      ]
     },
     "execution_count": 18,
     "metadata": {},
     "output_type": "execute_result"
    }
   ],
   "source": [
    "feat = np.load('out.npy', mmap_mode=\"r\")\n",
    "with open(leng_path, \"r\") as f:\n",
    "    lengs = [int(line.rstrip()) for line in f]\n",
    "    offsets = [0] + np.cumsum(lengs[:-1]).tolist()\n",
    "feat.shape"
   ]
  },
  {
   "cell_type": "code",
   "execution_count": 19,
   "metadata": {},
   "outputs": [
    {
     "data": {
      "text/plain": [
       "([0, 281], [281, 175])"
      ]
     },
     "execution_count": 19,
     "metadata": {},
     "output_type": "execute_result"
    }
   ],
   "source": [
    "offsets, lengs"
   ]
  },
  {
   "cell_type": "code",
   "execution_count": 20,
   "metadata": {},
   "outputs": [
    {
     "name": "stdout",
     "output_type": "stream",
     "text": [
      "Init 1/20 with method: k-means++\n",
      "Inertia for init 1/20: 180.425690\n",
      "Init 2/20 with method: k-means++\n",
      "Inertia for init 2/20: 201.364258\n",
      "Init 3/20 with method: k-means++\n",
      "Inertia for init 3/20: 196.456314\n",
      "Init 4/20 with method: k-means++\n",
      "Inertia for init 4/20: 194.285400\n",
      "Init 5/20 with method: k-means++\n",
      "Inertia for init 5/20: 183.141525\n",
      "Init 6/20 with method: k-means++\n",
      "Inertia for init 6/20: 193.811905\n",
      "Init 7/20 with method: k-means++\n",
      "Inertia for init 7/20: 188.061935\n",
      "Init 8/20 with method: k-means++\n",
      "Inertia for init 8/20: 208.115768\n",
      "Init 9/20 with method: k-means++\n",
      "Inertia for init 9/20: 207.368896\n",
      "Init 10/20 with method: k-means++\n",
      "Inertia for init 10/20: 185.258530\n",
      "Init 11/20 with method: k-means++\n",
      "Inertia for init 11/20: 186.779404\n",
      "Init 12/20 with method: k-means++\n",
      "Inertia for init 12/20: 207.999359\n",
      "Init 13/20 with method: k-means++\n",
      "Inertia for init 13/20: 193.591293\n",
      "Init 14/20 with method: k-means++\n",
      "Inertia for init 14/20: 197.138016\n",
      "Init 15/20 with method: k-means++\n",
      "Inertia for init 15/20: 193.292603\n",
      "Init 16/20 with method: k-means++\n",
      "Inertia for init 16/20: 182.421875\n",
      "Init 17/20 with method: k-means++\n",
      "Inertia for init 17/20: 196.784912\n",
      "Init 18/20 with method: k-means++\n",
      "Inertia for init 18/20: 193.373596\n",
      "Init 19/20 with method: k-means++\n",
      "Inertia for init 19/20: 195.315628\n",
      "Init 20/20 with method: k-means++\n",
      "Inertia for init 20/20: 195.350830\n",
      "Minibatch iteration 1/100: mean batch inertia: 0.634440, ewa inertia: 0.634440 \n",
      "Minibatch iteration 2/100: mean batch inertia: 0.531765, ewa inertia: 0.531765 \n",
      "Minibatch iteration 3/100: mean batch inertia: 0.526698, ewa inertia: 0.526698 \n",
      "Minibatch iteration 4/100: mean batch inertia: 0.524530, ewa inertia: 0.524530 \n",
      "Minibatch iteration 5/100: mean batch inertia: 0.521632, ewa inertia: 0.521632 \n",
      "Minibatch iteration 6/100: mean batch inertia: 0.523403, ewa inertia: 0.523403 \n",
      "Minibatch iteration 7/100: mean batch inertia: 0.524688, ewa inertia: 0.524688 \n",
      "Minibatch iteration 8/100: mean batch inertia: 0.523958, ewa inertia: 0.523958 \n",
      "Minibatch iteration 9/100: mean batch inertia: 0.520457, ewa inertia: 0.520457 \n",
      "Minibatch iteration 10/100: mean batch inertia: 0.515144, ewa inertia: 0.515144 \n",
      "Minibatch iteration 11/100: mean batch inertia: 0.520783, ewa inertia: 0.520783 \n",
      "Minibatch iteration 12/100: mean batch inertia: 0.521687, ewa inertia: 0.521687 \n",
      "Minibatch iteration 13/100: mean batch inertia: 0.518783, ewa inertia: 0.518783 \n",
      "Minibatch iteration 14/100: mean batch inertia: 0.519903, ewa inertia: 0.519903 \n",
      "Minibatch iteration 15/100: mean batch inertia: 0.521720, ewa inertia: 0.521720 \n",
      "Minibatch iteration 16/100: mean batch inertia: 0.520145, ewa inertia: 0.520145 \n",
      "Minibatch iteration 17/100: mean batch inertia: 0.518968, ewa inertia: 0.518968 \n",
      "Minibatch iteration 18/100: mean batch inertia: 0.523873, ewa inertia: 0.523873 \n",
      "Minibatch iteration 19/100: mean batch inertia: 0.524995, ewa inertia: 0.524995 \n",
      "Minibatch iteration 20/100: mean batch inertia: 0.522796, ewa inertia: 0.522796 \n",
      "Minibatch iteration 21/100: mean batch inertia: 0.522241, ewa inertia: 0.522241 \n",
      "Minibatch iteration 22/100: mean batch inertia: 0.518314, ewa inertia: 0.518314 \n",
      "Minibatch iteration 23/100: mean batch inertia: 0.520388, ewa inertia: 0.520388 \n",
      "Minibatch iteration 24/100: mean batch inertia: 0.516529, ewa inertia: 0.516529 \n",
      "Minibatch iteration 25/100: mean batch inertia: 0.529318, ewa inertia: 0.529318 \n",
      "Minibatch iteration 26/100: mean batch inertia: 0.517750, ewa inertia: 0.517750 \n",
      "Minibatch iteration 27/100: mean batch inertia: 0.519080, ewa inertia: 0.519080 \n",
      "Minibatch iteration 28/100: mean batch inertia: 0.523658, ewa inertia: 0.523658 \n",
      "Minibatch iteration 29/100: mean batch inertia: 0.518929, ewa inertia: 0.518929 \n",
      "Minibatch iteration 30/100: mean batch inertia: 0.522110, ewa inertia: 0.522110 \n",
      "Minibatch iteration 31/100: mean batch inertia: 0.517947, ewa inertia: 0.517947 \n",
      "Minibatch iteration 32/100: mean batch inertia: 0.524006, ewa inertia: 0.524006 \n",
      "Minibatch iteration 33/100: mean batch inertia: 0.522065, ewa inertia: 0.522065 \n",
      "Minibatch iteration 34/100: mean batch inertia: 0.522447, ewa inertia: 0.522447 \n",
      "Minibatch iteration 35/100: mean batch inertia: 0.518126, ewa inertia: 0.518126 \n",
      "Minibatch iteration 36/100: mean batch inertia: 0.523550, ewa inertia: 0.523550 \n",
      "Minibatch iteration 37/100: mean batch inertia: 0.516005, ewa inertia: 0.516005 \n",
      "Minibatch iteration 38/100: mean batch inertia: 0.520581, ewa inertia: 0.520581 \n",
      "Minibatch iteration 39/100: mean batch inertia: 0.519303, ewa inertia: 0.519303 \n",
      "Minibatch iteration 40/100: mean batch inertia: 0.520667, ewa inertia: 0.520667 \n",
      "Minibatch iteration 41/100: mean batch inertia: 0.517303, ewa inertia: 0.517303 \n",
      "Minibatch iteration 42/100: mean batch inertia: 0.529291, ewa inertia: 0.529291 \n",
      "Minibatch iteration 43/100: mean batch inertia: 0.519018, ewa inertia: 0.519018 \n",
      "Minibatch iteration 44/100: mean batch inertia: 0.521852, ewa inertia: 0.521852 \n",
      "Minibatch iteration 45/100: mean batch inertia: 0.528757, ewa inertia: 0.528757 \n",
      "Minibatch iteration 46/100: mean batch inertia: 0.513853, ewa inertia: 0.513853 \n",
      "Minibatch iteration 47/100: mean batch inertia: 0.520545, ewa inertia: 0.520545 \n",
      "Minibatch iteration 48/100: mean batch inertia: 0.523849, ewa inertia: 0.523849 \n",
      "Minibatch iteration 49/100: mean batch inertia: 0.522763, ewa inertia: 0.522763 \n",
      "Minibatch iteration 50/100: mean batch inertia: 0.515591, ewa inertia: 0.515591 \n",
      "Minibatch iteration 51/100: mean batch inertia: 0.523320, ewa inertia: 0.523320 \n",
      "Minibatch iteration 52/100: mean batch inertia: 0.517370, ewa inertia: 0.517370 \n",
      "Minibatch iteration 53/100: mean batch inertia: 0.518123, ewa inertia: 0.518123 \n",
      "Minibatch iteration 54/100: mean batch inertia: 0.518963, ewa inertia: 0.518963 \n",
      "Minibatch iteration 55/100: mean batch inertia: 0.527935, ewa inertia: 0.527935 \n",
      "Minibatch iteration 56/100: mean batch inertia: 0.519359, ewa inertia: 0.519359 \n",
      "Minibatch iteration 57/100: mean batch inertia: 0.524315, ewa inertia: 0.524315 \n",
      "Minibatch iteration 58/100: mean batch inertia: 0.516482, ewa inertia: 0.516482 \n",
      "Minibatch iteration 59/100: mean batch inertia: 0.526155, ewa inertia: 0.526155 \n",
      "Minibatch iteration 60/100: mean batch inertia: 0.520456, ewa inertia: 0.520456 \n",
      "Minibatch iteration 61/100: mean batch inertia: 0.518261, ewa inertia: 0.518261 \n",
      "Minibatch iteration 62/100: mean batch inertia: 0.521334, ewa inertia: 0.521334 \n",
      "Minibatch iteration 63/100: mean batch inertia: 0.521240, ewa inertia: 0.521240 \n",
      "Minibatch iteration 64/100: mean batch inertia: 0.524914, ewa inertia: 0.524914 \n",
      "Minibatch iteration 65/100: mean batch inertia: 0.519728, ewa inertia: 0.519728 \n",
      "Minibatch iteration 66/100: mean batch inertia: 0.518518, ewa inertia: 0.518518 \n",
      "Minibatch iteration 67/100: mean batch inertia: 0.520184, ewa inertia: 0.520184 \n",
      "Minibatch iteration 68/100: mean batch inertia: 0.522301, ewa inertia: 0.522301 \n",
      "Minibatch iteration 69/100: mean batch inertia: 0.522447, ewa inertia: 0.522447 \n",
      "Minibatch iteration 70/100: mean batch inertia: 0.529065, ewa inertia: 0.529065 \n",
      "Minibatch iteration 71/100: mean batch inertia: 0.514840, ewa inertia: 0.514840 \n",
      "Minibatch iteration 72/100: mean batch inertia: 0.523492, ewa inertia: 0.523492 \n",
      "Minibatch iteration 73/100: mean batch inertia: 0.518243, ewa inertia: 0.518243 \n",
      "Minibatch iteration 74/100: mean batch inertia: 0.521872, ewa inertia: 0.521872 \n",
      "Minibatch iteration 75/100: mean batch inertia: 0.523578, ewa inertia: 0.523578 \n",
      "Minibatch iteration 76/100: mean batch inertia: 0.520027, ewa inertia: 0.520027 \n",
      "Minibatch iteration 77/100: mean batch inertia: 0.521299, ewa inertia: 0.521299 \n",
      "Minibatch iteration 78/100: mean batch inertia: 0.524786, ewa inertia: 0.524786 \n",
      "Minibatch iteration 79/100: mean batch inertia: 0.515542, ewa inertia: 0.515542 \n",
      "Minibatch iteration 80/100: mean batch inertia: 0.519912, ewa inertia: 0.519912 \n",
      "Minibatch iteration 81/100: mean batch inertia: 0.513238, ewa inertia: 0.513238 \n",
      "Minibatch iteration 82/100: mean batch inertia: 0.515066, ewa inertia: 0.515066 \n",
      "Minibatch iteration 83/100: mean batch inertia: 0.523469, ewa inertia: 0.523469 \n",
      "Minibatch iteration 84/100: mean batch inertia: 0.519586, ewa inertia: 0.519586 \n",
      "Minibatch iteration 85/100: mean batch inertia: 0.520494, ewa inertia: 0.520494 \n",
      "Minibatch iteration 86/100: mean batch inertia: 0.518681, ewa inertia: 0.518681 \n",
      "Minibatch iteration 87/100: mean batch inertia: 0.513917, ewa inertia: 0.513917 \n",
      "Minibatch iteration 88/100: mean batch inertia: 0.521764, ewa inertia: 0.521764 \n",
      "Minibatch iteration 89/100: mean batch inertia: 0.522224, ewa inertia: 0.522224 \n",
      "Minibatch iteration 90/100: mean batch inertia: 0.517914, ewa inertia: 0.517914 \n",
      "Minibatch iteration 91/100: mean batch inertia: 0.518766, ewa inertia: 0.518766 \n",
      "Minibatch iteration 92/100: mean batch inertia: 0.519887, ewa inertia: 0.519887 \n",
      "Minibatch iteration 93/100: mean batch inertia: 0.518722, ewa inertia: 0.518722 \n",
      "Minibatch iteration 94/100: mean batch inertia: 0.522138, ewa inertia: 0.522138 \n",
      "Minibatch iteration 95/100: mean batch inertia: 0.523819, ewa inertia: 0.523819 \n",
      "Minibatch iteration 96/100: mean batch inertia: 0.521568, ewa inertia: 0.521568 \n"
     ]
    },
    {
     "name": "stdout",
     "output_type": "stream",
     "text": [
      "Minibatch iteration 97/100: mean batch inertia: 0.522357, ewa inertia: 0.522357 \n",
      "Minibatch iteration 98/100: mean batch inertia: 0.526860, ewa inertia: 0.526860 \n",
      "Minibatch iteration 99/100: mean batch inertia: 0.518044, ewa inertia: 0.518044 \n",
      "Minibatch iteration 100/100: mean batch inertia: 0.522727, ewa inertia: 0.522727 \n"
     ]
    },
    {
     "data": {
      "text/plain": [
       "MiniBatchKMeans(batch_size=10000, compute_labels=False, max_no_improvement=100,\n",
       "                n_clusters=100, n_init=20, reassignment_ratio=0.0, verbose=1)"
      ]
     },
     "execution_count": 20,
     "metadata": {},
     "output_type": "execute_result"
    }
   ],
   "source": [
    "np.random.seed(0)\n",
    "km_model = hubert.kmeans.get_km_model()\n",
    "km_model.fit(feat)"
   ]
  },
  {
   "cell_type": "code",
   "execution_count": 21,
   "metadata": {},
   "outputs": [
    {
     "data": {
      "text/plain": [
       "['kmean.km']"
      ]
     },
     "execution_count": 21,
     "metadata": {},
     "output_type": "execute_result"
    }
   ],
   "source": [
    "joblib.dump(km_model, 'kmean.km')"
   ]
  },
  {
   "cell_type": "code",
   "execution_count": 22,
   "metadata": {},
   "outputs": [
    {
     "name": "stdout",
     "output_type": "stream",
     "text": [
      "(281, 90)\n",
      "(175, 90)\n"
     ]
    }
   ],
   "source": [
    "for offset, leng in zip(offsets, lengs):\n",
    "    print(feat[offset: offset + leng].shape)"
   ]
  },
  {
   "cell_type": "code",
   "execution_count": 23,
   "metadata": {},
   "outputs": [],
   "source": [
    "kmean = hubert.kmeans.ApplyKmeans_TF('kmean.km')"
   ]
  },
  {
   "cell_type": "code",
   "execution_count": 24,
   "metadata": {},
   "outputs": [
    {
     "data": {
      "text/plain": [
       "array([40, 40, 40, 40, 49, 49, 49, 49,  1, 87, 87, 49, 49, 52, 52, 29, 29,\n",
       "       31, 30, 30, 30, 63, 63, 17, 17, 31, 31, 54, 54, 62, 35, 35, 35,  0,\n",
       "       93, 38, 38, 59, 83, 83, 24, 20, 20, 20, 20, 20, 45, 45, 45, 45, 45,\n",
       "       45,  5,  5,  5,  5,  5,  5,  5, 70, 70, 70, 79, 73, 73, 73, 65, 93,\n",
       "       71, 30, 36,  6,  6,  6, 18, 89, 89,  1,  1, 23, 23, 50, 50, 71, 71,\n",
       "       24, 24, 24, 24, 20, 20, 20, 75, 26,  6, 66, 77, 67, 67, 24, 20, 74,\n",
       "       74,  3,  3,  3,  3, 80, 80, 80, 80, 80, 55, 55,  1,  1,  1,  1, 32,\n",
       "        1, 49, 87, 87, 49, 49, 87,  1, 87,  1,  1, 87, 87, 87, 87, 87,  1,\n",
       "        1,  1, 49,  1,  1,  1, 49, 49, 87,  1,  1, 49, 87, 87,  1,  1, 87,\n",
       "        1, 49, 87, 87, 87, 87,  1,  1, 87, 87, 87, 49, 87, 87, 87, 87,  1,\n",
       "       87, 49, 49, 23, 94])"
      ]
     },
     "execution_count": 24,
     "metadata": {},
     "output_type": "execute_result"
    }
   ],
   "source": [
    "kmean(feat[offset: offset + leng])"
   ]
  },
  {
   "cell_type": "code",
   "execution_count": 25,
   "metadata": {},
   "outputs": [
    {
     "name": "stdout",
     "output_type": "stream",
     "text": [
      "WARNING:tensorflow:From /Users/huseinzolkepli/Documents/malaya-speech/malaya_speech/train/model/hubert/kmeans.py:18: calling reduce_sum_v1 (from tensorflow.python.ops.math_ops) with keep_dims is deprecated and will be removed in a future version.\n",
      "Instructions for updating:\n",
      "keep_dims is deprecated, use keepdims instead\n"
     ]
    },
    {
     "data": {
      "text/plain": [
       "<tf.Tensor 'ArgMin:0' shape=(?,) dtype=int64>"
      ]
     },
     "execution_count": 25,
     "metadata": {},
     "output_type": "execute_result"
    }
   ],
   "source": [
    "kmean_tf = kmean(concated)\n",
    "kmean_tf"
   ]
  },
  {
   "cell_type": "code",
   "execution_count": 26,
   "metadata": {},
   "outputs": [
    {
     "data": {
      "text/plain": [
       "array([40, 40, 40, 40, 49, 49, 49, 49,  1, 87, 87, 49, 49, 52, 52, 29, 29,\n",
       "       31, 30, 30, 30, 63, 63, 17, 17, 31, 31, 54, 54, 62, 35, 35, 35,  0,\n",
       "       93, 38, 38, 59, 83, 83, 24, 20, 20, 20, 20, 20, 45, 45, 45, 45, 45,\n",
       "       45,  5,  5,  5,  5,  5,  5,  5, 70, 70, 70, 79, 73, 73, 73, 65, 93,\n",
       "       71, 30, 36,  6,  6,  6, 18, 89, 89,  1,  1, 23, 23, 50, 50, 71, 71,\n",
       "       24, 24, 24, 24, 20, 20, 20, 75, 26,  6, 66, 77, 67, 67, 24, 20, 74,\n",
       "       74,  3,  3,  3,  3, 80, 80, 80, 80, 80, 55, 55,  1,  1,  1,  1, 32,\n",
       "        1, 49, 87, 87, 49, 49, 87,  1, 87,  1,  1, 87, 87, 87, 87, 87,  1,\n",
       "        1,  1, 49,  1,  1,  1, 49, 49, 87,  1,  1, 49, 87, 87,  1,  1, 87,\n",
       "        1, 49, 87, 87, 87, 87,  1,  1, 87, 87, 87, 49, 87, 87, 87, 87,  1,\n",
       "       87, 49, 49, 23, 94])"
      ]
     },
     "execution_count": 26,
     "metadata": {},
     "output_type": "execute_result"
    }
   ],
   "source": [
    "sess.run(kmean_tf, feed_dict = {i: y1})"
   ]
  }
 ],
 "metadata": {
  "kernelspec": {
   "display_name": "Python 3",
   "language": "python",
   "name": "python3"
  },
  "language_info": {
   "codemirror_mode": {
    "name": "ipython",
    "version": 3
   },
   "file_extension": ".py",
   "mimetype": "text/x-python",
   "name": "python",
   "nbconvert_exporter": "python",
   "pygments_lexer": "ipython3",
   "version": "3.7.7"
  },
  "varInspector": {
   "cols": {
    "lenName": 16,
    "lenType": 16,
    "lenVar": 40
   },
   "kernels_config": {
    "python": {
     "delete_cmd_postfix": "",
     "delete_cmd_prefix": "del ",
     "library": "var_list.py",
     "varRefreshCmd": "print(var_dic_list())"
    },
    "r": {
     "delete_cmd_postfix": ") ",
     "delete_cmd_prefix": "rm(",
     "library": "var_list.r",
     "varRefreshCmd": "cat(var_dic_list()) "
    }
   },
   "types_to_exclude": [
    "module",
    "function",
    "builtin_function_or_method",
    "instance",
    "_Feature"
   ],
   "window_display": false
  }
 },
 "nbformat": 4,
 "nbformat_minor": 5
}

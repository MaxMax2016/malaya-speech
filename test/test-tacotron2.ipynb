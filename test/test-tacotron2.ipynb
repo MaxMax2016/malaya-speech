{
 "cells": [
  {
   "cell_type": "code",
   "execution_count": 1,
   "metadata": {},
   "outputs": [],
   "source": [
    "import os\n",
    "\n",
    "os.environ['CUDA_VISIBLE_DEVICES'] = '1'"
   ]
  },
  {
   "cell_type": "code",
   "execution_count": 2,
   "metadata": {},
   "outputs": [],
   "source": [
    "import sys\n",
    "\n",
    "SOURCE_DIR = os.path.dirname(os.path.dirname(os.path.abspath(__name__)))\n",
    "sys.path.insert(0, SOURCE_DIR)"
   ]
  },
  {
   "cell_type": "code",
   "execution_count": 3,
   "metadata": {},
   "outputs": [
    {
     "name": "stdout",
     "output_type": "stream",
     "text": [
      "WARNING:tensorflow:From /Users/huseinzolkepli/Documents/malaya-speech/malaya_speech/train/optimizer/__init__.py:35: The name tf.train.AdagradOptimizer is deprecated. Please use tf.compat.v1.train.AdagradOptimizer instead.\n",
      "\n",
      "WARNING:tensorflow:From /Users/huseinzolkepli/Documents/malaya-speech/malaya_speech/train/optimizer/__init__.py:36: The name tf.train.AdamOptimizer is deprecated. Please use tf.compat.v1.train.AdamOptimizer instead.\n",
      "\n",
      "WARNING:tensorflow:From /Users/huseinzolkepli/Documents/malaya-speech/malaya_speech/train/optimizer/__init__.py:37: The name tf.train.FtrlOptimizer is deprecated. Please use tf.compat.v1.train.FtrlOptimizer instead.\n",
      "\n",
      "WARNING:tensorflow:From /Users/huseinzolkepli/Documents/malaya-speech/malaya_speech/train/optimizer/__init__.py:39: The name tf.train.RMSPropOptimizer is deprecated. Please use tf.compat.v1.train.RMSPropOptimizer instead.\n",
      "\n",
      "WARNING:tensorflow:From /Users/huseinzolkepli/Documents/malaya-speech/malaya_speech/train/optimizer/__init__.py:40: The name tf.train.GradientDescentOptimizer is deprecated. Please use tf.compat.v1.train.GradientDescentOptimizer instead.\n",
      "\n",
      "WARNING:tensorflow:\n",
      "The TensorFlow contrib module will not be included in TensorFlow 2.0.\n",
      "For more information, please see:\n",
      "  * https://github.com/tensorflow/community/blob/master/rfcs/20180907-contrib-sunset.md\n",
      "  * https://github.com/tensorflow/addons\n",
      "  * https://github.com/tensorflow/io (for I/O related ops)\n",
      "If you depend on functionality not listed there, please file an issue.\n",
      "\n",
      "WARNING:tensorflow:From /Users/huseinzolkepli/Documents/malaya-speech/malaya_speech/train/model/quartznet/layer.py:6: The name tf.layers.Conv1D is deprecated. Please use tf.compat.v1.layers.Conv1D instead.\n",
      "\n"
     ]
    }
   ],
   "source": [
    "import tensorflow as tf\n",
    "import malaya_speech\n",
    "import malaya_speech.train\n",
    "from malaya_speech.train.model import tacotron2\n",
    "import malaya_speech.config\n",
    "import numpy as np"
   ]
  },
  {
   "cell_type": "code",
   "execution_count": 4,
   "metadata": {},
   "outputs": [],
   "source": [
    "tacotron2_config = malaya_speech.config.tacotron2_config\n",
    "tacotron2_config['teacher_mode'] = 'mul'\n",
    "tacotron2_config['sampler_ratio'] = 0.5"
   ]
  },
  {
   "cell_type": "code",
   "execution_count": 5,
   "metadata": {
    "scrolled": true
   },
   "outputs": [
    {
     "name": "stdout",
     "output_type": "stream",
     "text": [
      "WARNING:tensorflow:From /Users/huseinzolkepli/Documents/malaya-speech/malaya_speech/train/model/fastspeech/layer.py:11: The name tf.keras.initializers.TruncatedNormal is deprecated. Please use tf.compat.v1.keras.initializers.TruncatedNormal instead.\n",
      "\n",
      "WARNING:tensorflow:From /Library/Frameworks/Python.framework/Versions/3.7/lib/python3.7/site-packages/tensorflow_core/python/keras/initializers.py:94: calling TruncatedNormal.__init__ (from tensorflow.python.ops.init_ops) with dtype is deprecated and will be removed in a future version.\n",
      "Instructions for updating:\n",
      "Call initializer instance with the dtype argument instead of passing it to the constructor\n",
      "WARNING:tensorflow:From /Library/Frameworks/Python.framework/Versions/3.7/lib/python3.7/site-packages/tensorflow_core/python/ops/init_ops.py:97: calling GlorotUniform.__init__ (from tensorflow.python.ops.init_ops) with dtype is deprecated and will be removed in a future version.\n",
      "Instructions for updating:\n",
      "Call initializer instance with the dtype argument instead of passing it to the constructor\n",
      "WARNING:tensorflow:From /Library/Frameworks/Python.framework/Versions/3.7/lib/python3.7/site-packages/tensorflow_core/python/ops/init_ops.py:97: calling Orthogonal.__init__ (from tensorflow.python.ops.init_ops) with dtype is deprecated and will be removed in a future version.\n",
      "Instructions for updating:\n",
      "Call initializer instance with the dtype argument instead of passing it to the constructor\n",
      "WARNING:tensorflow:From /Library/Frameworks/Python.framework/Versions/3.7/lib/python3.7/site-packages/tensorflow_core/python/ops/init_ops.py:97: calling Zeros.__init__ (from tensorflow.python.ops.init_ops) with dtype is deprecated and will be removed in a future version.\n",
      "Instructions for updating:\n",
      "Call initializer instance with the dtype argument instead of passing it to the constructor\n"
     ]
    }
   ],
   "source": [
    "model = tacotron2.Model(tacotron2.Config(vocab_size = 20, **tacotron2_config))"
   ]
  },
  {
   "cell_type": "code",
   "execution_count": 6,
   "metadata": {},
   "outputs": [],
   "source": [
    "input_ids = tf.placeholder(tf.int32, [None, None])\n",
    "input_lengths = tf.placeholder(tf.int32, [None])\n",
    "speaker_ids = tf.constant([0], dtype = tf.int32)\n",
    "mel_outputs = tf.placeholder(tf.float32, [None, None, 80])\n",
    "mel_lengths = tf.placeholder(tf.int32, [None])\n",
    "mel_actuals = tf.placeholder(tf.float32, [None, None, 80])"
   ]
  },
  {
   "cell_type": "code",
   "execution_count": 7,
   "metadata": {},
   "outputs": [
    {
     "data": {
      "text/plain": [
       "<tf.Tensor 'ExpandDims:0' shape=(1, ?, ?) dtype=float32>"
      ]
     },
     "execution_count": 7,
     "metadata": {},
     "output_type": "execute_result"
    }
   ],
   "source": [
    "guided = tacotron2.generate_guided_attention(mel_lengths[0], input_lengths[0])\n",
    "guided = tf.expand_dims(guided, 0)\n",
    "guided"
   ]
  },
  {
   "cell_type": "code",
   "execution_count": 8,
   "metadata": {
    "scrolled": true
   },
   "outputs": [
    {
     "name": "stdout",
     "output_type": "stream",
     "text": [
      "WARNING:tensorflow:From /Users/huseinzolkepli/Documents/malaya-speech/malaya_speech/train/model/tacotron2/model.py:110: The name tf.get_variable is deprecated. Please use tf.compat.v1.get_variable instead.\n",
      "\n",
      "WARNING:tensorflow:From /Library/Frameworks/Python.framework/Versions/3.7/lib/python3.7/site-packages/tensorflow_core/python/ops/resource_variable_ops.py:1630: calling BaseResourceVariable.__init__ (from tensorflow.python.ops.resource_variable_ops) with constraint is deprecated and will be removed in a future version.\n",
      "Instructions for updating:\n",
      "If using Keras pass *_constraint arguments to layers.\n",
      "WARNING:tensorflow:From /Library/Frameworks/Python.framework/Versions/3.7/lib/python3.7/site-packages/tensorflow_core/python/keras/backend.py:3994: where (from tensorflow.python.ops.array_ops) is deprecated and will be removed in a future version.\n",
      "Instructions for updating:\n",
      "Use tf.where in 2.0, which has the same broadcast rule as np.where\n",
      "WARNING:tensorflow:From /Library/Frameworks/Python.framework/Versions/3.7/lib/python3.7/site-packages/tensorflow_core/python/autograph/converters/directives.py:119: The name tf.debugging.assert_greater is deprecated. Please use tf.compat.v1.debugging.assert_greater instead.\n",
      "\n",
      "WARNING:tensorflow:From /Library/Frameworks/Python.framework/Versions/3.7/lib/python3.7/site-packages/tensorflow_core/python/autograph/converters/directives.py:119: The name tf.debugging.assert_positive is deprecated. Please use tf.compat.v1.debugging.assert_positive instead.\n",
      "\n",
      "WARNING:tensorflow:From /Library/Frameworks/Python.framework/Versions/3.7/lib/python3.7/site-packages/tensorflow_core/python/autograph/converters/directives.py:119: The name tf.random_uniform is deprecated. Please use tf.random.uniform instead.\n",
      "\n"
     ]
    },
    {
     "data": {
      "text/plain": [
       "(<tf.Tensor 'model/Reshape:0' shape=(?, ?, 80) dtype=float32>,\n",
       " <tf.Tensor 'model/add:0' shape=(?, ?, 80) dtype=float32>,\n",
       " <tf.Tensor 'model/Reshape_1:0' shape=(?, ?) dtype=float32>,\n",
       " <tf.Tensor 'model/transpose:0' shape=(?, ?, ?) dtype=float32>)"
      ]
     },
     "execution_count": 8,
     "metadata": {},
     "output_type": "execute_result"
    }
   ],
   "source": [
    "r = model(input_ids, input_lengths, speaker_ids, mel_outputs, mel_lengths,\n",
    "          training = True)\n",
    "r"
   ]
  },
  {
   "cell_type": "code",
   "execution_count": 9,
   "metadata": {},
   "outputs": [],
   "source": [
    "from malaya_speech.train.loss import calculate_2d_loss, calculate_3d_loss"
   ]
  },
  {
   "cell_type": "code",
   "execution_count": 10,
   "metadata": {},
   "outputs": [],
   "source": [
    "binary_crossentropy = tf.keras.losses.BinaryCrossentropy(\n",
    "    from_logits=True\n",
    ")\n",
    "mse = tf.keras.losses.MeanSquaredError()\n",
    "mae = tf.keras.losses.MeanAbsoluteError()\n",
    "decoder_output, post_mel_outputs, stop_token_predictions, alignment_histories = r\n",
    "mel_loss_before = calculate_3d_loss(\n",
    "    mel_actuals, decoder_output, loss_fn=mae\n",
    ")\n",
    "mel_loss_after = calculate_3d_loss(\n",
    "    mel_actuals, post_mel_outputs, loss_fn=mae\n",
    ")\n",
    "max_mel_length = tf.reduce_max(mel_lengths)\n",
    "stop_gts = tf.expand_dims(\n",
    "    tf.range(tf.reduce_max(max_mel_length), dtype=tf.int32), 0\n",
    ")\n",
    "stop_gts = tf.tile(\n",
    "    stop_gts, [tf.shape(mel_lengths)[0], 1]\n",
    ")\n",
    "stop_gts = tf.cast(\n",
    "    tf.math.greater_equal(stop_gts, tf.expand_dims(mel_lengths, 1)),\n",
    "    tf.float32,\n",
    ")\n",
    "stop_token_loss = calculate_2d_loss(\n",
    "    stop_gts, stop_token_predictions, loss_fn=binary_crossentropy\n",
    ")\n",
    "attention_masks = tf.cast(\n",
    "    tf.math.not_equal(guided, -1.0), tf.float32\n",
    ")\n",
    "loss_att = tf.reduce_sum(\n",
    "    tf.abs(alignment_histories * guided) * attention_masks,\n",
    "    axis=[1, 2],\n",
    ")\n",
    "loss_att /= tf.reduce_sum(attention_masks, axis=[1, 2])"
   ]
  },
  {
   "cell_type": "code",
   "execution_count": 11,
   "metadata": {},
   "outputs": [
    {
     "data": {
      "text/plain": [
       "<tf.Tensor 'truediv_3:0' shape=(?,) dtype=float32>"
      ]
     },
     "execution_count": 11,
     "metadata": {},
     "output_type": "execute_result"
    }
   ],
   "source": [
    "loss_att"
   ]
  },
  {
   "cell_type": "code",
   "execution_count": 12,
   "metadata": {},
   "outputs": [],
   "source": [
    "loss = stop_token_loss + mel_loss_before + mel_loss_after + loss_att"
   ]
  },
  {
   "cell_type": "code",
   "execution_count": 13,
   "metadata": {},
   "outputs": [
    {
     "data": {
      "text/plain": [
       "(<tf.Tensor 'binary_crossentropy/weighted_loss/value:0' shape=() dtype=float32>,\n",
       " <tf.Tensor 'mean_absolute_error/weighted_loss/value:0' shape=() dtype=float32>,\n",
       " <tf.Tensor 'mean_absolute_error_1/weighted_loss/value:0' shape=() dtype=float32>,\n",
       " <tf.Tensor 'truediv_3:0' shape=(?,) dtype=float32>)"
      ]
     },
     "execution_count": 13,
     "metadata": {},
     "output_type": "execute_result"
    }
   ],
   "source": [
    "stop_token_loss, mel_loss_before, mel_loss_after, loss_att"
   ]
  },
  {
   "cell_type": "code",
   "execution_count": 14,
   "metadata": {},
   "outputs": [],
   "source": [
    "# r = model.inference(input_ids, input_lengths, speaker_ids)\n",
    "# r"
   ]
  },
  {
   "cell_type": "code",
   "execution_count": 15,
   "metadata": {},
   "outputs": [],
   "source": [
    "sess = tf.InteractiveSession()\n",
    "sess.run(tf.global_variables_initializer())"
   ]
  },
  {
   "cell_type": "code",
   "execution_count": 16,
   "metadata": {},
   "outputs": [
    {
     "data": {
      "text/plain": [
       "(1, 50, 80)"
      ]
     },
     "execution_count": 16,
     "metadata": {},
     "output_type": "execute_result"
    }
   ],
   "source": [
    "sess.run(decoder_output, feed_dict = {input_ids: [[1, 2, 3, 4, 5, 6, 7, 8, 9]],\n",
    "                        input_lengths: [9],\n",
    "                        mel_outputs: np.random.normal(size=(1, 50, 80)).astype(np.float32),\n",
    "                        mel_lengths: [50]}).shape"
   ]
  },
  {
   "cell_type": "code",
   "execution_count": 17,
   "metadata": {},
   "outputs": [
    {
     "data": {
      "text/plain": [
       "(array([[[-0.16596189, -0.10723784,  0.04628899, ..., -0.17739145,\n",
       "           0.10249472,  0.03213935],\n",
       "         [-0.17672762, -0.09026755,  0.05289792, ..., -0.18285571,\n",
       "           0.08643597,  0.04926069],\n",
       "         [-0.1755146 , -0.0729713 ,  0.04990473, ..., -0.18254358,\n",
       "           0.07419423,  0.05971647],\n",
       "         ...,\n",
       "         [-0.14044338,  0.00849258,  0.05032089, ..., -0.20212741,\n",
       "           0.00875972,  0.07756125],\n",
       "         [-0.14521873,  0.01466068,  0.05157619, ..., -0.20415534,\n",
       "           0.00846645,  0.07227722],\n",
       "         [-0.15321767,  0.02228191,  0.05286872, ..., -0.2106398 ,\n",
       "           0.00932804,  0.06399637]]], dtype=float32),\n",
       " array([[[ 0.2953074 , -0.06108188, -0.9811547 , ..., -0.01357187,\n",
       "           1.1923147 , -0.61314875],\n",
       "         [ 0.21609202, -0.47652352,  1.9325105 , ...,  2.7348757 ,\n",
       "          -0.54504925, -0.2610477 ],\n",
       "         [ 0.51529914,  1.9751692 , -0.40419275, ..., -0.8865811 ,\n",
       "          -2.91018   ,  0.11333788],\n",
       "         ...,\n",
       "         [-0.03344005,  2.0233111 , -0.5818156 , ..., -2.0321426 ,\n",
       "          -0.7984922 ,  1.6910846 ],\n",
       "         [-1.1497463 ,  1.0651037 , -0.1506775 , ..., -1.1728337 ,\n",
       "          -0.29960802, -0.25552168],\n",
       "         [-0.79370993, -1.1487733 ,  0.04977684, ...,  0.11734369,\n",
       "           0.8115608 , -1.1351787 ]]], dtype=float32),\n",
       " array([[-0.00814471, -0.0163434 , -0.02702488, -0.03293602, -0.03190582,\n",
       "         -0.03292276, -0.0356538 , -0.04338502, -0.04335186, -0.05445553,\n",
       "         -0.05466054, -0.06213751, -0.07223877, -0.0804213 , -0.09312372,\n",
       "         -0.10145791, -0.10359453, -0.09398884, -0.09276694, -0.09527367,\n",
       "         -0.09489952, -0.09353042, -0.08845749, -0.0842773 , -0.08754358,\n",
       "         -0.08805212, -0.08955024, -0.09340218, -0.10018487, -0.106569  ,\n",
       "         -0.1073622 , -0.11454051, -0.12607533, -0.13001147, -0.12394221,\n",
       "         -0.1137253 , -0.11712551, -0.11543141, -0.10964706, -0.10040104,\n",
       "         -0.0966833 , -0.08949417, -0.09283909, -0.08832655, -0.07574455,\n",
       "         -0.06865043, -0.06584989, -0.07171251, -0.08350006, -0.09300615]],\n",
       "       dtype=float32),\n",
       " array([[[0.09802218, 0.0972508 , 0.09655427, 0.09607453, 0.09535151,\n",
       "          0.09459339, 0.09353825, 0.09254945, 0.09200523, 0.09160803,\n",
       "          0.09116666, 0.09067245, 0.0902254 , 0.08982054, 0.08929557,\n",
       "          0.08873582, 0.08809815, 0.08674985, 0.08635326, 0.085621  ,\n",
       "          0.08544656, 0.08501418, 0.08370578, 0.08274341, 0.08227403,\n",
       "          0.081498  , 0.08112974, 0.08055713, 0.07944135, 0.07878245,\n",
       "          0.07887613, 0.07835636, 0.07842686, 0.07778692, 0.07661784,\n",
       "          0.07601489, 0.07494285, 0.07384954, 0.07344696, 0.07270894,\n",
       "          0.07246215, 0.07202046, 0.07210935, 0.07134102, 0.07072822,\n",
       "          0.07003299, 0.07045601, 0.07035206, 0.06977019, 0.06917772],\n",
       "         [0.13661258, 0.137011  , 0.13805732, 0.13860418, 0.13921793,\n",
       "          0.14010218, 0.14013168, 0.14107792, 0.14152601, 0.1429332 ,\n",
       "          0.1436887 , 0.14445971, 0.1459341 , 0.14651538, 0.14716959,\n",
       "          0.14767961, 0.14736079, 0.14763027, 0.14876594, 0.14906581,\n",
       "          0.14962077, 0.150682  , 0.15004103, 0.14943399, 0.14938131,\n",
       "          0.14882961, 0.14887154, 0.14937963, 0.14979401, 0.14915152,\n",
       "          0.1492263 , 0.14846289, 0.14906003, 0.14908266, 0.14831327,\n",
       "          0.14708272, 0.14685622, 0.147149  , 0.14666997, 0.14665142,\n",
       "          0.14631124, 0.14649141, 0.14724842, 0.14688374, 0.14769678,\n",
       "          0.14670016, 0.1470617 , 0.14575468, 0.14492449, 0.14423858],\n",
       "         [0.09702234, 0.09838172, 0.10000925, 0.10147922, 0.10234652,\n",
       "          0.10389675, 0.10494222, 0.1069008 , 0.10767402, 0.10894017,\n",
       "          0.11099938, 0.11313175, 0.11466691, 0.11533818, 0.11745042,\n",
       "          0.11875071, 0.12077741, 0.12211198, 0.12476633, 0.12654974,\n",
       "          0.12748303, 0.12973839, 0.13120471, 0.13294211, 0.13512701,\n",
       "          0.13522427, 0.13641626, 0.1392915 , 0.1420179 , 0.14231011,\n",
       "          0.1447911 , 0.14656456, 0.14938903, 0.1516195 , 0.15354104,\n",
       "          0.15468001, 0.15511699, 0.15694985, 0.16012783, 0.16101183,\n",
       "          0.16278407, 0.1643203 , 0.1661643 , 0.16661043, 0.17046906,\n",
       "          0.17205836, 0.17418961, 0.17424177, 0.17542872, 0.17747626],\n",
       "         [0.11193828, 0.11162578, 0.11016994, 0.10970473, 0.10923405,\n",
       "          0.10819103, 0.10779247, 0.10793712, 0.10714568, 0.10661155,\n",
       "          0.10555814, 0.10574055, 0.10525596, 0.10426141, 0.10369434,\n",
       "          0.10278104, 0.10234196, 0.10175641, 0.1015773 , 0.10152922,\n",
       "          0.10240443, 0.10193191, 0.10149417, 0.10115755, 0.10079001,\n",
       "          0.10052897, 0.10064843, 0.10038017, 0.10040045, 0.1001481 ,\n",
       "          0.10009761, 0.10009151, 0.10067352, 0.09989721, 0.09957691,\n",
       "          0.10038608, 0.09980958, 0.09933163, 0.09936867, 0.09968399,\n",
       "          0.099758  , 0.09976958, 0.10035061, 0.10024252, 0.09906086,\n",
       "          0.09804081, 0.09817725, 0.09772131, 0.09876302, 0.09876299],\n",
       "         [0.1279479 , 0.1283899 , 0.1282103 , 0.12759802, 0.12742963,\n",
       "          0.12711847, 0.12680274, 0.12616548, 0.12508544, 0.12484317,\n",
       "          0.12439346, 0.12371724, 0.12340892, 0.12262467, 0.12175646,\n",
       "          0.12011235, 0.11967152, 0.11968157, 0.11925172, 0.11810498,\n",
       "          0.11675669, 0.11636142, 0.11551341, 0.11493602, 0.1138664 ,\n",
       "          0.11317725, 0.11261795, 0.11201077, 0.11239637, 0.1113388 ,\n",
       "          0.11053526, 0.10962522, 0.10824097, 0.10649645, 0.10518543,\n",
       "          0.10449801, 0.10463566, 0.10393734, 0.10321155, 0.10197396,\n",
       "          0.09992294, 0.09976315, 0.09846834, 0.09809019, 0.0974538 ,\n",
       "          0.0967246 , 0.0942794 , 0.09517433, 0.0948457 , 0.09435473],\n",
       "         [0.08053636, 0.08029242, 0.07995837, 0.07956728, 0.07899213,\n",
       "          0.07861411, 0.07816033, 0.0776133 , 0.07707971, 0.07654574,\n",
       "          0.07623471, 0.0751281 , 0.07487676, 0.07485798, 0.07461846,\n",
       "          0.07443119, 0.0736805 , 0.07315084, 0.07238367, 0.07165939,\n",
       "          0.07089552, 0.07028622, 0.07010134, 0.06926555, 0.0684875 ,\n",
       "          0.0675588 , 0.06721611, 0.06652779, 0.06635159, 0.06617532,\n",
       "          0.06565234, 0.0647511 , 0.06402855, 0.06304765, 0.06243065,\n",
       "          0.06218118, 0.06187781, 0.06117753, 0.06090665, 0.06064996,\n",
       "          0.05907001, 0.05846755, 0.05710858, 0.05701253, 0.05647327,\n",
       "          0.05607325, 0.05496021, 0.05456017, 0.05431642, 0.05330588],\n",
       "         [0.11082356, 0.10999119, 0.10937355, 0.10859924, 0.10773371,\n",
       "          0.10750265, 0.10698817, 0.10581284, 0.10581819, 0.10538042,\n",
       "          0.10459175, 0.10294232, 0.10167155, 0.10172473, 0.10161398,\n",
       "          0.10133983, 0.10091992, 0.09997015, 0.09868105, 0.09791062,\n",
       "          0.0973151 , 0.09653675, 0.09643575, 0.0960648 , 0.09557738,\n",
       "          0.09614865, 0.095496  , 0.09475696, 0.0930846 , 0.09312762,\n",
       "          0.09279566, 0.09216876, 0.09132636, 0.09118398, 0.09099681,\n",
       "          0.09022852, 0.09000281, 0.08949509, 0.08835879, 0.08782377,\n",
       "          0.08714799, 0.08568727, 0.08496606, 0.08503139, 0.08443798,\n",
       "          0.08431292, 0.08390398, 0.0841175 , 0.08331821, 0.08216053],\n",
       "         [0.12046771, 0.12017173, 0.12031615, 0.12040089, 0.12078014,\n",
       "          0.12105976, 0.12180161, 0.12146664, 0.12202893, 0.12138664,\n",
       "          0.12089246, 0.12087359, 0.12047569, 0.12054294, 0.1201973 ,\n",
       "          0.12031569, 0.12054099, 0.1213124 , 0.12091286, 0.12127639,\n",
       "          0.1210788 , 0.12034575, 0.12073834, 0.12152422, 0.12225644,\n",
       "          0.12327563, 0.12335154, 0.12232058, 0.12141725, 0.12226309,\n",
       "          0.1213994 , 0.12148623, 0.12117282, 0.12159242, 0.12191932,\n",
       "          0.12240122, 0.12214044, 0.1220229 , 0.12208782, 0.12190602,\n",
       "          0.12264027, 0.12267297, 0.12245958, 0.12358046, 0.12284338,\n",
       "          0.1236577 , 0.12344364, 0.12375353, 0.12330087, 0.12396866],\n",
       "         [0.11662914, 0.11688546, 0.11735087, 0.11797187, 0.11891437,\n",
       "          0.11892167, 0.11984248, 0.1204765 , 0.12163677, 0.12175107,\n",
       "          0.1224747 , 0.12333436, 0.12348476, 0.12431413, 0.12420387,\n",
       "          0.12585376, 0.12660877, 0.12763643, 0.12730788, 0.12828285,\n",
       "          0.12899908, 0.12910335, 0.13076547, 0.1319323 , 0.1322399 ,\n",
       "          0.13375875, 0.1342524 , 0.13477543, 0.13509649, 0.136703  ,\n",
       "          0.1366262 , 0.13849328, 0.13768192, 0.13929333, 0.14141873,\n",
       "          0.14252733, 0.14461762, 0.146087  , 0.14582163, 0.1475901 ,\n",
       "          0.14990345, 0.15080741, 0.15112472, 0.15120775, 0.1508366 ,\n",
       "          0.15239927, 0.15352824, 0.1543246 , 0.15533245, 0.15655464]]],\n",
       "       dtype=float32))"
      ]
     },
     "execution_count": 17,
     "metadata": {},
     "output_type": "execute_result"
    }
   ],
   "source": [
    "sess.run(r, feed_dict = {input_ids: [[1, 2, 3, 4, 5, 6, 7, 8, 9]],\n",
    "                        input_lengths: [9],\n",
    "                        mel_outputs: np.random.normal(size=(1, 50, 80)).astype(np.float32),\n",
    "                        mel_lengths: [50]})"
   ]
  },
  {
   "cell_type": "code",
   "execution_count": 18,
   "metadata": {},
   "outputs": [
    {
     "data": {
      "text/plain": [
       "array([2.9424405], dtype=float32)"
      ]
     },
     "execution_count": 18,
     "metadata": {},
     "output_type": "execute_result"
    }
   ],
   "source": [
    "sess.run(loss, feed_dict = {input_ids: [[1, 2, 3, 4, 5, 6, 7, 8, 9]],\n",
    "                        input_lengths: [9],\n",
    "                        mel_outputs: np.random.normal(size=(1, 50, 80)).astype(np.float32),\n",
    "                        mel_actuals: np.random.normal(size=(1, 50, 80)).astype(np.float32),\n",
    "                        mel_lengths: [50]})"
   ]
  },
  {
   "cell_type": "code",
   "execution_count": 19,
   "metadata": {},
   "outputs": [
    {
     "data": {
      "text/plain": [
       "array([2.892812 , 2.8922896], dtype=float32)"
      ]
     },
     "execution_count": 19,
     "metadata": {},
     "output_type": "execute_result"
    }
   ],
   "source": [
    "sess.run(loss, feed_dict = {input_ids: [[1, 2, 3, 4, 5, 6, 7, 8, 9],\n",
    "                                       [1, 2, 3, 4, 5, 6, 7, 8, 9]],\n",
    "                        input_lengths: [9, 9],\n",
    "                        mel_outputs: np.random.normal(size=(2, 50, 80)).astype(np.float32),\n",
    "                        mel_actuals: np.random.normal(size=(2, 50, 80)).astype(np.float32),\n",
    "                        mel_lengths: [50, 50]})"
   ]
  },
  {
   "cell_type": "code",
   "execution_count": 20,
   "metadata": {
    "scrolled": true
   },
   "outputs": [
    {
     "data": {
      "text/plain": [
       "(1, 9, 50)"
      ]
     },
     "execution_count": 20,
     "metadata": {},
     "output_type": "execute_result"
    }
   ],
   "source": [
    "sess.run(guided, feed_dict = {input_ids: [[1, 2, 3, 4, 5, 6, 7, 8, 9]],\n",
    "                        input_lengths: [9],\n",
    "                        mel_outputs: np.random.normal(size=(1, 50, 80)).astype(np.float32),\n",
    "                        mel_actuals: np.random.normal(size=(1, 50, 80)).astype(np.float32),\n",
    "                        mel_lengths: [50]}).shape"
   ]
  }
 ],
 "metadata": {
  "kernelspec": {
   "display_name": "Python 3",
   "language": "python",
   "name": "python3"
  },
  "language_info": {
   "codemirror_mode": {
    "name": "ipython",
    "version": 3
   },
   "file_extension": ".py",
   "mimetype": "text/x-python",
   "name": "python",
   "nbconvert_exporter": "python",
   "pygments_lexer": "ipython3",
   "version": "3.7.7"
  }
 },
 "nbformat": 4,
 "nbformat_minor": 4
}

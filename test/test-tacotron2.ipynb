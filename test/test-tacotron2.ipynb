{
 "cells": [
  {
   "cell_type": "code",
   "execution_count": 1,
   "metadata": {},
   "outputs": [],
   "source": [
    "import os\n",
    "\n",
    "os.environ['CUDA_VISIBLE_DEVICES'] = '1'"
   ]
  },
  {
   "cell_type": "code",
   "execution_count": 2,
   "metadata": {},
   "outputs": [],
   "source": [
    "import sys\n",
    "\n",
    "SOURCE_DIR = os.path.dirname(os.path.dirname(os.path.abspath(__name__)))\n",
    "sys.path.insert(0, SOURCE_DIR)"
   ]
  },
  {
   "cell_type": "code",
   "execution_count": 3,
   "metadata": {},
   "outputs": [
    {
     "name": "stdout",
     "output_type": "stream",
     "text": [
      "WARNING:tensorflow:From /Users/huseinzolkepli/Documents/malaya-speech/malaya_speech/train/optimizer/__init__.py:35: The name tf.train.AdagradOptimizer is deprecated. Please use tf.compat.v1.train.AdagradOptimizer instead.\n",
      "\n",
      "WARNING:tensorflow:From /Users/huseinzolkepli/Documents/malaya-speech/malaya_speech/train/optimizer/__init__.py:36: The name tf.train.AdamOptimizer is deprecated. Please use tf.compat.v1.train.AdamOptimizer instead.\n",
      "\n",
      "WARNING:tensorflow:From /Users/huseinzolkepli/Documents/malaya-speech/malaya_speech/train/optimizer/__init__.py:37: The name tf.train.FtrlOptimizer is deprecated. Please use tf.compat.v1.train.FtrlOptimizer instead.\n",
      "\n",
      "WARNING:tensorflow:From /Users/huseinzolkepli/Documents/malaya-speech/malaya_speech/train/optimizer/__init__.py:39: The name tf.train.RMSPropOptimizer is deprecated. Please use tf.compat.v1.train.RMSPropOptimizer instead.\n",
      "\n",
      "WARNING:tensorflow:From /Users/huseinzolkepli/Documents/malaya-speech/malaya_speech/train/optimizer/__init__.py:40: The name tf.train.GradientDescentOptimizer is deprecated. Please use tf.compat.v1.train.GradientDescentOptimizer instead.\n",
      "\n",
      "WARNING:tensorflow:\n",
      "The TensorFlow contrib module will not be included in TensorFlow 2.0.\n",
      "For more information, please see:\n",
      "  * https://github.com/tensorflow/community/blob/master/rfcs/20180907-contrib-sunset.md\n",
      "  * https://github.com/tensorflow/addons\n",
      "  * https://github.com/tensorflow/io (for I/O related ops)\n",
      "If you depend on functionality not listed there, please file an issue.\n",
      "\n",
      "WARNING:tensorflow:From /Users/huseinzolkepli/Documents/malaya-speech/malaya_speech/train/model/quartznet/layer.py:6: The name tf.layers.Conv1D is deprecated. Please use tf.compat.v1.layers.Conv1D instead.\n",
      "\n"
     ]
    }
   ],
   "source": [
    "import tensorflow as tf\n",
    "import malaya_speech\n",
    "import malaya_speech.train\n",
    "from malaya_speech.train.model import tacotron2\n",
    "import malaya_speech.config\n",
    "import numpy as np"
   ]
  },
  {
   "cell_type": "code",
   "execution_count": 4,
   "metadata": {},
   "outputs": [],
   "source": [
    "tacotron2_config = malaya_speech.config.tacotron2_config"
   ]
  },
  {
   "cell_type": "code",
   "execution_count": 5,
   "metadata": {
    "scrolled": true
   },
   "outputs": [
    {
     "name": "stdout",
     "output_type": "stream",
     "text": [
      "WARNING:tensorflow:From /Users/huseinzolkepli/Documents/malaya-speech/malaya_speech/train/model/fastspeech/layer.py:11: The name tf.keras.initializers.TruncatedNormal is deprecated. Please use tf.compat.v1.keras.initializers.TruncatedNormal instead.\n",
      "\n",
      "WARNING:tensorflow:From /Library/Frameworks/Python.framework/Versions/3.7/lib/python3.7/site-packages/tensorflow_core/python/keras/initializers.py:94: calling TruncatedNormal.__init__ (from tensorflow.python.ops.init_ops) with dtype is deprecated and will be removed in a future version.\n",
      "Instructions for updating:\n",
      "Call initializer instance with the dtype argument instead of passing it to the constructor\n",
      "WARNING:tensorflow:From /Library/Frameworks/Python.framework/Versions/3.7/lib/python3.7/site-packages/tensorflow_core/python/ops/init_ops.py:97: calling GlorotUniform.__init__ (from tensorflow.python.ops.init_ops) with dtype is deprecated and will be removed in a future version.\n",
      "Instructions for updating:\n",
      "Call initializer instance with the dtype argument instead of passing it to the constructor\n",
      "WARNING:tensorflow:From /Library/Frameworks/Python.framework/Versions/3.7/lib/python3.7/site-packages/tensorflow_core/python/ops/init_ops.py:97: calling Orthogonal.__init__ (from tensorflow.python.ops.init_ops) with dtype is deprecated and will be removed in a future version.\n",
      "Instructions for updating:\n",
      "Call initializer instance with the dtype argument instead of passing it to the constructor\n",
      "WARNING:tensorflow:From /Library/Frameworks/Python.framework/Versions/3.7/lib/python3.7/site-packages/tensorflow_core/python/ops/init_ops.py:97: calling Zeros.__init__ (from tensorflow.python.ops.init_ops) with dtype is deprecated and will be removed in a future version.\n",
      "Instructions for updating:\n",
      "Call initializer instance with the dtype argument instead of passing it to the constructor\n"
     ]
    }
   ],
   "source": [
    "model = tacotron2.Model(tacotron2.Config(vocab_size = 20, **tacotron2_config))"
   ]
  },
  {
   "cell_type": "code",
   "execution_count": 6,
   "metadata": {},
   "outputs": [],
   "source": [
    "input_ids = tf.placeholder(tf.int32, [None, None])\n",
    "input_lengths = tf.placeholder(tf.int32, [None])\n",
    "speaker_ids = tf.constant([0], dtype = tf.int32)\n",
    "mel_outputs = tf.placeholder(tf.float32, [None, None, 80])\n",
    "mel_lengths = tf.placeholder(tf.int32, [None])\n",
    "mel_actuals = tf.placeholder(tf.float32, [None, None, 80])"
   ]
  },
  {
   "cell_type": "code",
   "execution_count": 7,
   "metadata": {},
   "outputs": [
    {
     "data": {
      "text/plain": [
       "<tf.Tensor 'ExpandDims:0' shape=(1, ?, ?) dtype=float32>"
      ]
     },
     "execution_count": 7,
     "metadata": {},
     "output_type": "execute_result"
    }
   ],
   "source": [
    "guided = tacotron2.generate_guided_attention(mel_lengths[0], input_lengths[0])\n",
    "guided = tf.expand_dims(guided, 0)\n",
    "guided"
   ]
  },
  {
   "cell_type": "code",
   "execution_count": 8,
   "metadata": {},
   "outputs": [
    {
     "data": {
      "text/plain": [
       "TensorShape([])"
      ]
     },
     "execution_count": 8,
     "metadata": {},
     "output_type": "execute_result"
    }
   ],
   "source": [
    "model.decoder.sampler.sample_ids_shape"
   ]
  },
  {
   "cell_type": "code",
   "execution_count": 9,
   "metadata": {
    "scrolled": false
   },
   "outputs": [
    {
     "name": "stdout",
     "output_type": "stream",
     "text": [
      "WARNING:tensorflow:From /Users/huseinzolkepli/Documents/malaya-speech/malaya_speech/train/model/tacotron2/model.py:96: The name tf.get_variable is deprecated. Please use tf.compat.v1.get_variable instead.\n",
      "\n",
      "WARNING:tensorflow:From /Library/Frameworks/Python.framework/Versions/3.7/lib/python3.7/site-packages/tensorflow_core/python/ops/resource_variable_ops.py:1630: calling BaseResourceVariable.__init__ (from tensorflow.python.ops.resource_variable_ops) with constraint is deprecated and will be removed in a future version.\n",
      "Instructions for updating:\n",
      "If using Keras pass *_constraint arguments to layers.\n",
      "WARNING:tensorflow:From /Library/Frameworks/Python.framework/Versions/3.7/lib/python3.7/site-packages/tensorflow_core/python/keras/backend.py:3994: where (from tensorflow.python.ops.array_ops) is deprecated and will be removed in a future version.\n",
      "Instructions for updating:\n",
      "Use tf.where in 2.0, which has the same broadcast rule as np.where\n",
      "WARNING:tensorflow:From /Library/Frameworks/Python.framework/Versions/3.7/lib/python3.7/site-packages/tensorflow_core/python/autograph/converters/directives.py:119: The name tf.debugging.assert_greater is deprecated. Please use tf.compat.v1.debugging.assert_greater instead.\n",
      "\n"
     ]
    },
    {
     "data": {
      "text/plain": [
       "(<tf.Tensor 'model/Reshape:0' shape=(?, ?, 80) dtype=float32>,\n",
       " <tf.Tensor 'model/add:0' shape=(?, ?, 80) dtype=float32>,\n",
       " <tf.Tensor 'model/Reshape_1:0' shape=(?, ?) dtype=float32>,\n",
       " <tf.Tensor 'model/transpose:0' shape=(?, ?, ?) dtype=float32>)"
      ]
     },
     "execution_count": 9,
     "metadata": {},
     "output_type": "execute_result"
    }
   ],
   "source": [
    "r = model(input_ids, input_lengths, speaker_ids, mel_outputs, mel_lengths,\n",
    "          training = True)\n",
    "r"
   ]
  },
  {
   "cell_type": "code",
   "execution_count": 10,
   "metadata": {},
   "outputs": [],
   "source": [
    "from malaya_speech.train.loss import calculate_2d_loss, calculate_3d_loss"
   ]
  },
  {
   "cell_type": "code",
   "execution_count": 11,
   "metadata": {},
   "outputs": [],
   "source": [
    "binary_crossentropy = tf.keras.losses.BinaryCrossentropy(\n",
    "    from_logits=True\n",
    ")\n",
    "mse = tf.keras.losses.MeanSquaredError()\n",
    "mae = tf.keras.losses.MeanAbsoluteError()\n",
    "decoder_output, post_mel_outputs, stop_token_predictions, alignment_histories = r\n",
    "mel_loss_before = calculate_3d_loss(\n",
    "    mel_actuals, decoder_output, loss_fn=mae\n",
    ")\n",
    "mel_loss_after = calculate_3d_loss(\n",
    "    mel_actuals, post_mel_outputs, loss_fn=mae\n",
    ")\n",
    "max_mel_length = tf.reduce_max(mel_lengths)\n",
    "stop_gts = tf.expand_dims(\n",
    "    tf.range(tf.reduce_max(max_mel_length), dtype=tf.int32), 0\n",
    ")\n",
    "stop_gts = tf.tile(\n",
    "    stop_gts, [tf.shape(mel_lengths)[0], 1]\n",
    ")\n",
    "stop_gts = tf.cast(\n",
    "    tf.math.greater_equal(stop_gts, tf.expand_dims(mel_lengths, 1)),\n",
    "    tf.float32,\n",
    ")\n",
    "stop_token_loss = calculate_2d_loss(\n",
    "    stop_gts, stop_token_predictions, loss_fn=binary_crossentropy\n",
    ")\n",
    "attention_masks = tf.cast(\n",
    "    tf.math.not_equal(guided, -1.0), tf.float32\n",
    ")\n",
    "loss_att = tf.reduce_sum(\n",
    "    tf.abs(alignment_histories * guided) * attention_masks,\n",
    "    axis=[1, 2],\n",
    ")\n",
    "loss_att /= tf.reduce_sum(attention_masks, axis=[1, 2])"
   ]
  },
  {
   "cell_type": "code",
   "execution_count": 12,
   "metadata": {},
   "outputs": [
    {
     "data": {
      "text/plain": [
       "<tf.Tensor 'truediv_3:0' shape=(?,) dtype=float32>"
      ]
     },
     "execution_count": 12,
     "metadata": {},
     "output_type": "execute_result"
    }
   ],
   "source": [
    "loss_att"
   ]
  },
  {
   "cell_type": "code",
   "execution_count": 13,
   "metadata": {},
   "outputs": [],
   "source": [
    "loss = stop_token_loss + mel_loss_before + mel_loss_after + loss_att"
   ]
  },
  {
   "cell_type": "code",
   "execution_count": 14,
   "metadata": {},
   "outputs": [
    {
     "data": {
      "text/plain": [
       "(<tf.Tensor 'binary_crossentropy/weighted_loss/value:0' shape=() dtype=float32>,\n",
       " <tf.Tensor 'mean_absolute_error/weighted_loss/value:0' shape=() dtype=float32>,\n",
       " <tf.Tensor 'mean_absolute_error_1/weighted_loss/value:0' shape=() dtype=float32>,\n",
       " <tf.Tensor 'truediv_3:0' shape=(?,) dtype=float32>)"
      ]
     },
     "execution_count": 14,
     "metadata": {},
     "output_type": "execute_result"
    }
   ],
   "source": [
    "stop_token_loss, mel_loss_before, mel_loss_after, loss_att"
   ]
  },
  {
   "cell_type": "code",
   "execution_count": 15,
   "metadata": {},
   "outputs": [],
   "source": [
    "# r = model.inference(input_ids, input_lengths, speaker_ids)\n",
    "# r"
   ]
  },
  {
   "cell_type": "code",
   "execution_count": 16,
   "metadata": {},
   "outputs": [],
   "source": [
    "sess = tf.InteractiveSession()\n",
    "sess.run(tf.global_variables_initializer())"
   ]
  },
  {
   "cell_type": "code",
   "execution_count": 17,
   "metadata": {},
   "outputs": [
    {
     "data": {
      "text/plain": [
       "(1, 50, 80)"
      ]
     },
     "execution_count": 17,
     "metadata": {},
     "output_type": "execute_result"
    }
   ],
   "source": [
    "sess.run(decoder_output, feed_dict = {input_ids: [[1, 2, 3, 4, 5, 6, 7, 8, 9]],\n",
    "                        input_lengths: [9],\n",
    "                        mel_outputs: np.random.normal(size=(1, 50, 80)).astype(np.float32),\n",
    "                        mel_lengths: [50]}).shape"
   ]
  },
  {
   "cell_type": "code",
   "execution_count": 18,
   "metadata": {},
   "outputs": [
    {
     "data": {
      "text/plain": [
       "(array([[[ 0.21351509,  0.00890914, -0.05978365, ...,  0.00171732,\n",
       "           0.18540235, -0.16668895],\n",
       "         [ 0.20713896,  0.00749423, -0.07193121, ...,  0.00562045,\n",
       "           0.15661268, -0.17284212],\n",
       "         [ 0.19887248,  0.0038518 , -0.07003341, ...,  0.00643494,\n",
       "           0.12600645, -0.1800602 ],\n",
       "         ...,\n",
       "         [ 0.29522857,  0.0045628 ,  0.01942815, ...,  0.00390615,\n",
       "          -0.03074415, -0.22748837],\n",
       "         [ 0.30078396,  0.00349978,  0.0016383 , ...,  0.00772739,\n",
       "          -0.02236525, -0.22815488],\n",
       "         [ 0.29681653, -0.00563972, -0.01796319, ...,  0.01966178,\n",
       "          -0.00336777, -0.23170598]]], dtype=float32),\n",
       " array([[[-1.439913  ,  0.32871386, -0.09995736, ..., -1.6949216 ,\n",
       "           1.6616805 , -1.4352713 ],\n",
       "         [-0.41633534, -0.2716816 ,  2.6379254 , ..., -0.16253623,\n",
       "           0.31930536, -3.404095  ],\n",
       "         [-1.4764484 , -0.02158936,  0.9780303 , ..., -2.195833  ,\n",
       "          -0.70484495, -0.6380423 ],\n",
       "         ...,\n",
       "         [ 0.78942204,  1.097506  , -2.0049834 , ..., -0.65830034,\n",
       "          -2.162409  , -0.23293385],\n",
       "         [-1.8273298 ,  2.477156  , -1.235304  , ..., -1.8964816 ,\n",
       "          -2.2107267 , -1.0532736 ],\n",
       "         [ 0.23429176, -0.19871573,  2.01419   , ..., -1.874934  ,\n",
       "          -0.59584004, -0.8853432 ]]], dtype=float32),\n",
       " array([[-0.0239941 , -0.0407054 , -0.05843544, -0.07590788, -0.09095334,\n",
       "         -0.11122902, -0.1342192 , -0.1530486 , -0.1565938 , -0.16165918,\n",
       "         -0.16202943, -0.17377768, -0.17664959, -0.178613  , -0.16854368,\n",
       "         -0.17303777, -0.19051905, -0.1941456 , -0.18901864, -0.1716454 ,\n",
       "         -0.1730263 , -0.17022654, -0.16049948, -0.15895768, -0.14027914,\n",
       "         -0.13180748, -0.1531888 , -0.157002  , -0.16785541, -0.17156088,\n",
       "         -0.1671938 , -0.17379786, -0.16734323, -0.16155124, -0.15728365,\n",
       "         -0.15341115, -0.12614003, -0.10157315, -0.07018736, -0.06126337,\n",
       "         -0.0696294 , -0.0995092 , -0.11093071, -0.1374603 , -0.13185889,\n",
       "         -0.1371257 , -0.13685845, -0.12412821, -0.12111966, -0.12178101]],\n",
       "       dtype=float32),\n",
       " array([[[0.1549939 , 0.15405078, 0.15297708, 0.15038276, 0.14936364,\n",
       "          0.14704612, 0.14528766, 0.14294192, 0.14377853, 0.14303653,\n",
       "          0.13979286, 0.13878052, 0.13829271, 0.1362197 , 0.13581888,\n",
       "          0.13425532, 0.13358997, 0.13483453, 0.13207564, 0.13114008,\n",
       "          0.13053341, 0.1288193 , 0.12859851, 0.12798028, 0.12632385,\n",
       "          0.1243932 , 0.12292012, 0.12021349, 0.1197056 , 0.12071341,\n",
       "          0.11731066, 0.11551687, 0.11586945, 0.11391965, 0.11054575,\n",
       "          0.11150239, 0.11128202, 0.11419525, 0.11065456, 0.11065458,\n",
       "          0.1066891 , 0.10637705, 0.10663542, 0.10512508, 0.10684866,\n",
       "          0.10748103, 0.10734595, 0.10622225, 0.10538363, 0.1038285 ],\n",
       "         [0.13766494, 0.13754545, 0.1379547 , 0.13713616, 0.13806765,\n",
       "          0.13913593, 0.14023846, 0.13945544, 0.13986187, 0.14124925,\n",
       "          0.14234222, 0.14224665, 0.14328256, 0.1420925 , 0.14384365,\n",
       "          0.14435697, 0.14565389, 0.14595498, 0.14643422, 0.14571773,\n",
       "          0.147451  , 0.14726217, 0.14762603, 0.1472465 , 0.14703146,\n",
       "          0.14683364, 0.149316  , 0.14660896, 0.14772381, 0.14915273,\n",
       "          0.14906442, 0.14961179, 0.15175676, 0.14846608, 0.14638948,\n",
       "          0.14606723, 0.14575234, 0.14846262, 0.14662614, 0.14631602,\n",
       "          0.1464872 , 0.14925621, 0.15035944, 0.14631858, 0.14910394,\n",
       "          0.15006875, 0.15184352, 0.15101519, 0.15205224, 0.14907657],\n",
       "         [0.12793498, 0.12956114, 0.13041645, 0.13123322, 0.13180004,\n",
       "          0.13398516, 0.13585386, 0.13829291, 0.13833408, 0.1390831 ,\n",
       "          0.14117591, 0.14023268, 0.14232507, 0.14365591, 0.14671189,\n",
       "          0.14835392, 0.1491963 , 0.15129797, 0.15297244, 0.15505283,\n",
       "          0.15732679, 0.15679698, 0.15835865, 0.15985128, 0.1634389 ,\n",
       "          0.16404283, 0.16729338, 0.16766188, 0.16894577, 0.17256609,\n",
       "          0.1713612 , 0.17088115, 0.17770341, 0.1803931 , 0.18019451,\n",
       "          0.17994033, 0.17957205, 0.1791773 , 0.18021417, 0.1837125 ,\n",
       "          0.18779293, 0.18791404, 0.1896684 , 0.18965887, 0.18994577,\n",
       "          0.19049986, 0.19251269, 0.192189  , 0.19715807, 0.19763546],\n",
       "         [0.13336419, 0.13430795, 0.13551186, 0.1364353 , 0.137062  ,\n",
       "          0.13802716, 0.13913374, 0.1403616 , 0.13993384, 0.14056043,\n",
       "          0.14268517, 0.14087386, 0.14332624, 0.14392945, 0.14520912,\n",
       "          0.14669111, 0.14662015, 0.14511524, 0.14613402, 0.14996472,\n",
       "          0.1499375 , 0.15070017, 0.15207483, 0.15154362, 0.15356793,\n",
       "          0.15423252, 0.15531938, 0.15907857, 0.15791625, 0.15828724,\n",
       "          0.16026278, 0.1625546 , 0.16177635, 0.16472688, 0.16590069,\n",
       "          0.16784702, 0.17038728, 0.17105734, 0.17441593, 0.17522115,\n",
       "          0.17585772, 0.17689627, 0.17626488, 0.17660896, 0.17566074,\n",
       "          0.17354333, 0.17389151, 0.17826495, 0.17793135, 0.17766656],\n",
       "         [0.1130031 , 0.11281182, 0.11276191, 0.11428458, 0.11424918,\n",
       "          0.1145912 , 0.1153636 , 0.11491212, 0.11397447, 0.1133218 ,\n",
       "          0.11363011, 0.11444134, 0.11400416, 0.11648242, 0.11633583,\n",
       "          0.11793071, 0.11754072, 0.11791998, 0.11829607, 0.11782398,\n",
       "          0.11690719, 0.11838873, 0.11928046, 0.11977066, 0.12050854,\n",
       "          0.12068773, 0.1202611 , 0.12172903, 0.12357643, 0.12288379,\n",
       "          0.12102807, 0.12243472, 0.12138902, 0.12136832, 0.12247394,\n",
       "          0.12420271, 0.12569252, 0.12412847, 0.12332093, 0.12792552,\n",
       "          0.1283208 , 0.12862971, 0.12891383, 0.13172445, 0.12855718,\n",
       "          0.13139535, 0.13213809, 0.13019435, 0.13032165, 0.1310118 ],\n",
       "         [0.10044442, 0.10154774, 0.10204306, 0.10277572, 0.10279512,\n",
       "          0.10252726, 0.1022421 , 0.10257009, 0.10310281, 0.10313874,\n",
       "          0.10250168, 0.10439106, 0.10423555, 0.10499074, 0.1039048 ,\n",
       "          0.1024636 , 0.10125018, 0.10134675, 0.10135481, 0.1007356 ,\n",
       "          0.10080943, 0.10221802, 0.10117523, 0.1015952 , 0.10026723,\n",
       "          0.09963398, 0.09830073, 0.09784686, 0.09662614, 0.09395564,\n",
       "          0.09526936, 0.09616646, 0.09325758, 0.09346912, 0.09392671,\n",
       "          0.09386674, 0.09323711, 0.09315961, 0.09284084, 0.09151964,\n",
       "          0.09147707, 0.09076977, 0.09069409, 0.09345449, 0.09094561,\n",
       "          0.08862726, 0.08695532, 0.08710166, 0.08587135, 0.08702894],\n",
       "         [0.07964218, 0.07928234, 0.07947566, 0.07984192, 0.07995489,\n",
       "          0.08030453, 0.08064856, 0.07994368, 0.08018069, 0.07965849,\n",
       "          0.07924825, 0.08022545, 0.07933209, 0.07855835, 0.07756358,\n",
       "          0.07796079, 0.07821388, 0.07777414, 0.07791073, 0.07663029,\n",
       "          0.07679658, 0.07705423, 0.07597894, 0.07576258, 0.07584516,\n",
       "          0.07668511, 0.075653  , 0.07605696, 0.07512667, 0.07537831,\n",
       "          0.07623924, 0.07453513, 0.07344805, 0.07388593, 0.07554852,\n",
       "          0.07428852, 0.07266068, 0.07032181, 0.07150594, 0.06975097,\n",
       "          0.0696015 , 0.06819496, 0.06695145, 0.06736501, 0.06774268,\n",
       "          0.06849357, 0.06786764, 0.06819189, 0.06690128, 0.06826801],\n",
       "         [0.07344485, 0.07276956, 0.07160307, 0.07135209, 0.0706698 ,\n",
       "          0.06982146, 0.06859624, 0.06874456, 0.0684926 , 0.06807123,\n",
       "          0.06777897, 0.06789511, 0.06676755, 0.06633884, 0.06476741,\n",
       "          0.06357207, 0.06341418, 0.06250122, 0.06223479, 0.06157745,\n",
       "          0.06031616, 0.06010993, 0.0592658 , 0.05901169, 0.05753399,\n",
       "          0.05795006, 0.05671678, 0.05670693, 0.05611132, 0.05476447,\n",
       "          0.05610193, 0.05563858, 0.05373447, 0.05364384, 0.05450642,\n",
       "          0.05346958, 0.05268008, 0.05175577, 0.05263781, 0.0496045 ,\n",
       "          0.04905372, 0.04817213, 0.04741982, 0.04737377, 0.04753214,\n",
       "          0.04639734, 0.04520734, 0.04532751, 0.04398102, 0.0445118 ],\n",
       "         [0.07950743, 0.07812323, 0.07725628, 0.07655822, 0.07603774,\n",
       "          0.07456123, 0.07263577, 0.07277768, 0.07234108, 0.07188041,\n",
       "          0.07084487, 0.07091331, 0.06843394, 0.06773213, 0.06584478,\n",
       "          0.06441552, 0.06452066, 0.06325524, 0.06258733, 0.06135731,\n",
       "          0.05992194, 0.05865052, 0.05764148, 0.05723817, 0.05548301,\n",
       "          0.0555409 , 0.05421954, 0.0540972 , 0.05426801, 0.05229841,\n",
       "          0.05336238, 0.05266064, 0.05106501, 0.05012705, 0.050514  ,\n",
       "          0.04881548, 0.04873589, 0.04774189, 0.04778374, 0.04529515,\n",
       "          0.04471993, 0.04378981, 0.04309263, 0.04237069, 0.04366322,\n",
       "          0.04349352, 0.04223787, 0.04149321, 0.0403994 , 0.04097236]]],\n",
       "       dtype=float32))"
      ]
     },
     "execution_count": 18,
     "metadata": {},
     "output_type": "execute_result"
    }
   ],
   "source": [
    "sess.run(r, feed_dict = {input_ids: [[1, 2, 3, 4, 5, 6, 7, 8, 9]],\n",
    "                        input_lengths: [9],\n",
    "                        mel_outputs: np.random.normal(size=(1, 50, 80)).astype(np.float32),\n",
    "                        mel_lengths: [50]})"
   ]
  },
  {
   "cell_type": "code",
   "execution_count": 19,
   "metadata": {},
   "outputs": [
    {
     "data": {
      "text/plain": [
       "array([2.8947675], dtype=float32)"
      ]
     },
     "execution_count": 19,
     "metadata": {},
     "output_type": "execute_result"
    }
   ],
   "source": [
    "sess.run(loss, feed_dict = {input_ids: [[1, 2, 3, 4, 5, 6, 7, 8, 9]],\n",
    "                        input_lengths: [9],\n",
    "                        mel_outputs: np.random.normal(size=(1, 50, 80)).astype(np.float32),\n",
    "                        mel_actuals: np.random.normal(size=(1, 50, 80)).astype(np.float32),\n",
    "                        mel_lengths: [50]})"
   ]
  },
  {
   "cell_type": "code",
   "execution_count": null,
   "metadata": {},
   "outputs": [],
   "source": [
    "sess.run(loss, feed_dict = {input_ids: [[1, 2, 3, 4, 5, 6, 7, 8, 9],\n",
    "                                       [1, 2, 3, 4, 5, 6, 7, 8, 9]],\n",
    "                        input_lengths: [9, 9],\n",
    "                        mel_outputs: np.random.normal(size=(2, 50, 80)).astype(np.float32),\n",
    "                        mel_actuals: np.random.normal(size=(2, 50, 80)).astype(np.float32),\n",
    "                        mel_lengths: [50, 50]})"
   ]
  },
  {
   "cell_type": "code",
   "execution_count": null,
   "metadata": {},
   "outputs": [],
   "source": [
    "sess.run(guided, feed_dict = {input_ids: [[1, 2, 3, 4, 5, 6, 7, 8, 9]],\n",
    "                        input_lengths: [9],\n",
    "                        mel_outputs: np.random.normal(size=(1, 50, 80)).astype(np.float32),\n",
    "                        mel_actuals: np.random.normal(size=(1, 50, 80)).astype(np.float32),\n",
    "                        mel_lengths: [50]}).shape"
   ]
  },
  {
   "cell_type": "code",
   "execution_count": null,
   "metadata": {},
   "outputs": [],
   "source": []
  }
 ],
 "metadata": {
  "kernelspec": {
   "display_name": "Python 3",
   "language": "python",
   "name": "python3"
  },
  "language_info": {
   "codemirror_mode": {
    "name": "ipython",
    "version": 3
   },
   "file_extension": ".py",
   "mimetype": "text/x-python",
   "name": "python",
   "nbconvert_exporter": "python",
   "pygments_lexer": "ipython3",
   "version": "3.7.7"
  }
 },
 "nbformat": 4,
 "nbformat_minor": 4
}

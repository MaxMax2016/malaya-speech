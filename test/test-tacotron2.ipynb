{
 "cells": [
  {
   "cell_type": "code",
   "execution_count": 1,
   "metadata": {},
   "outputs": [],
   "source": [
    "import os\n",
    "\n",
    "os.environ['CUDA_VISIBLE_DEVICES'] = '1'"
   ]
  },
  {
   "cell_type": "code",
   "execution_count": 2,
   "metadata": {},
   "outputs": [],
   "source": [
    "import sys\n",
    "\n",
    "SOURCE_DIR = os.path.dirname(os.path.dirname(os.path.abspath(__name__)))\n",
    "sys.path.insert(0, SOURCE_DIR)"
   ]
  },
  {
   "cell_type": "code",
   "execution_count": 3,
   "metadata": {},
   "outputs": [
    {
     "name": "stdout",
     "output_type": "stream",
     "text": [
      "WARNING:tensorflow:From /Users/huseinzolkepli/Documents/malaya-speech/malaya_speech/train/optimizer.py:34: The name tf.train.AdagradOptimizer is deprecated. Please use tf.compat.v1.train.AdagradOptimizer instead.\n",
      "\n",
      "WARNING:tensorflow:From /Users/huseinzolkepli/Documents/malaya-speech/malaya_speech/train/optimizer.py:35: The name tf.train.AdamOptimizer is deprecated. Please use tf.compat.v1.train.AdamOptimizer instead.\n",
      "\n",
      "WARNING:tensorflow:From /Users/huseinzolkepli/Documents/malaya-speech/malaya_speech/train/optimizer.py:36: The name tf.train.FtrlOptimizer is deprecated. Please use tf.compat.v1.train.FtrlOptimizer instead.\n",
      "\n",
      "WARNING:tensorflow:From /Users/huseinzolkepli/Documents/malaya-speech/malaya_speech/train/optimizer.py:38: The name tf.train.RMSPropOptimizer is deprecated. Please use tf.compat.v1.train.RMSPropOptimizer instead.\n",
      "\n",
      "WARNING:tensorflow:From /Users/huseinzolkepli/Documents/malaya-speech/malaya_speech/train/optimizer.py:39: The name tf.train.GradientDescentOptimizer is deprecated. Please use tf.compat.v1.train.GradientDescentOptimizer instead.\n",
      "\n",
      "WARNING:tensorflow:\n",
      "The TensorFlow contrib module will not be included in TensorFlow 2.0.\n",
      "For more information, please see:\n",
      "  * https://github.com/tensorflow/community/blob/master/rfcs/20180907-contrib-sunset.md\n",
      "  * https://github.com/tensorflow/addons\n",
      "  * https://github.com/tensorflow/io (for I/O related ops)\n",
      "If you depend on functionality not listed there, please file an issue.\n",
      "\n",
      "WARNING:tensorflow:From /Users/huseinzolkepli/Documents/malaya-speech/malaya_speech/train/model/quartznet/layer.py:6: The name tf.layers.Conv1D is deprecated. Please use tf.compat.v1.layers.Conv1D instead.\n",
      "\n"
     ]
    }
   ],
   "source": [
    "import tensorflow as tf\n",
    "import malaya_speech\n",
    "import malaya_speech.train\n",
    "from malaya_speech.train.model import tacotron2\n",
    "import malaya_speech.config\n",
    "import numpy as np"
   ]
  },
  {
   "cell_type": "code",
   "execution_count": 4,
   "metadata": {},
   "outputs": [],
   "source": [
    "tacotron2_config = malaya_speech.config.tacotron2_config"
   ]
  },
  {
   "cell_type": "code",
   "execution_count": 5,
   "metadata": {
    "scrolled": true
   },
   "outputs": [
    {
     "name": "stdout",
     "output_type": "stream",
     "text": [
      "WARNING:tensorflow:From /Users/huseinzolkepli/Documents/malaya-speech/malaya_speech/train/model/fastspeech/layer.py:11: The name tf.keras.initializers.TruncatedNormal is deprecated. Please use tf.compat.v1.keras.initializers.TruncatedNormal instead.\n",
      "\n",
      "WARNING:tensorflow:From /Library/Frameworks/Python.framework/Versions/3.7/lib/python3.7/site-packages/tensorflow_core/python/keras/initializers.py:94: calling TruncatedNormal.__init__ (from tensorflow.python.ops.init_ops) with dtype is deprecated and will be removed in a future version.\n",
      "Instructions for updating:\n",
      "Call initializer instance with the dtype argument instead of passing it to the constructor\n",
      "WARNING:tensorflow:From /Library/Frameworks/Python.framework/Versions/3.7/lib/python3.7/site-packages/tensorflow_core/python/ops/init_ops.py:97: calling GlorotUniform.__init__ (from tensorflow.python.ops.init_ops) with dtype is deprecated and will be removed in a future version.\n",
      "Instructions for updating:\n",
      "Call initializer instance with the dtype argument instead of passing it to the constructor\n",
      "WARNING:tensorflow:From /Library/Frameworks/Python.framework/Versions/3.7/lib/python3.7/site-packages/tensorflow_core/python/ops/init_ops.py:97: calling Orthogonal.__init__ (from tensorflow.python.ops.init_ops) with dtype is deprecated and will be removed in a future version.\n",
      "Instructions for updating:\n",
      "Call initializer instance with the dtype argument instead of passing it to the constructor\n",
      "WARNING:tensorflow:From /Library/Frameworks/Python.framework/Versions/3.7/lib/python3.7/site-packages/tensorflow_core/python/ops/init_ops.py:97: calling Zeros.__init__ (from tensorflow.python.ops.init_ops) with dtype is deprecated and will be removed in a future version.\n",
      "Instructions for updating:\n",
      "Call initializer instance with the dtype argument instead of passing it to the constructor\n"
     ]
    }
   ],
   "source": [
    "model = tacotron2.Model(tacotron2.Config(vocab_size = 20, **tacotron2_config), training = True)"
   ]
  },
  {
   "cell_type": "code",
   "execution_count": 6,
   "metadata": {},
   "outputs": [],
   "source": [
    "input_ids = tf.placeholder(tf.int32, [None, None])\n",
    "input_lengths = tf.placeholder(tf.int32, [None])\n",
    "speaker_ids = tf.constant([0], dtype = tf.int32)\n",
    "mel_outputs = tf.placeholder(tf.float32, [None, None, 80])\n",
    "mel_lengths = tf.placeholder(tf.int32, [None])\n",
    "mel_actuals = tf.placeholder(tf.float32, [None, None, 80])"
   ]
  },
  {
   "cell_type": "code",
   "execution_count": 7,
   "metadata": {},
   "outputs": [
    {
     "data": {
      "text/plain": [
       "<tf.Tensor 'ExpandDims:0' shape=(1, ?, ?) dtype=float32>"
      ]
     },
     "execution_count": 7,
     "metadata": {},
     "output_type": "execute_result"
    }
   ],
   "source": [
    "guided = tacotron2.generate_guided_attention(mel_lengths[0], input_lengths[0])\n",
    "guided = tf.expand_dims(guided, 0)\n",
    "guided"
   ]
  },
  {
   "cell_type": "code",
   "execution_count": 8,
   "metadata": {
    "scrolled": false
   },
   "outputs": [
    {
     "name": "stdout",
     "output_type": "stream",
     "text": [
      "WARNING:tensorflow:From /Library/Frameworks/Python.framework/Versions/3.7/lib/python3.7/site-packages/tensorflow_core/python/ops/resource_variable_ops.py:1630: calling BaseResourceVariable.__init__ (from tensorflow.python.ops.resource_variable_ops) with constraint is deprecated and will be removed in a future version.\n",
      "Instructions for updating:\n",
      "If using Keras pass *_constraint arguments to layers.\n",
      "WARNING:tensorflow:From /Library/Frameworks/Python.framework/Versions/3.7/lib/python3.7/site-packages/tensorflow_core/python/keras/backend.py:3994: where (from tensorflow.python.ops.array_ops) is deprecated and will be removed in a future version.\n",
      "Instructions for updating:\n",
      "Use tf.where in 2.0, which has the same broadcast rule as np.where\n"
     ]
    },
    {
     "data": {
      "text/plain": [
       "(<tf.Tensor 'model/Reshape:0' shape=(?, ?, 80) dtype=float32>,\n",
       " <tf.Tensor 'model/add:0' shape=(?, ?, 80) dtype=float32>,\n",
       " <tf.Tensor 'model/Reshape_1:0' shape=(?, ?) dtype=float32>,\n",
       " <tf.Tensor 'model/transpose:0' shape=(?, ?, ?) dtype=float32>)"
      ]
     },
     "execution_count": 8,
     "metadata": {},
     "output_type": "execute_result"
    }
   ],
   "source": [
    "r = model(input_ids, input_lengths, speaker_ids, mel_outputs, mel_lengths, training = True)\n",
    "r"
   ]
  },
  {
   "cell_type": "code",
   "execution_count": 9,
   "metadata": {},
   "outputs": [],
   "source": [
    "from malaya_speech.train.loss import calculate_2d_loss, calculate_3d_loss"
   ]
  },
  {
   "cell_type": "code",
   "execution_count": 10,
   "metadata": {},
   "outputs": [],
   "source": [
    "binary_crossentropy = tf.keras.losses.BinaryCrossentropy(\n",
    "    from_logits=True, reduction='none'\n",
    ")\n",
    "mse = tf.keras.losses.MeanSquaredError(\n",
    "    reduction='none'\n",
    ")\n",
    "mae = tf.keras.losses.MeanAbsoluteError(\n",
    "    reduction='none'\n",
    ")\n",
    "decoder_output, post_mel_outputs, stop_token_predictions, alignment_histories = r\n",
    "mel_loss_before = calculate_3d_loss(\n",
    "    mel_actuals, decoder_output, loss_fn=mae\n",
    ")\n",
    "mel_loss_after = calculate_3d_loss(\n",
    "    mel_actuals, post_mel_outputs, loss_fn=mae\n",
    ")\n",
    "max_mel_length = tf.reduce_max(mel_lengths)\n",
    "stop_gts = tf.expand_dims(\n",
    "    tf.range(tf.reduce_max(max_mel_length), dtype=tf.int32), 0\n",
    ")\n",
    "stop_gts = tf.tile(\n",
    "    stop_gts, [tf.shape(mel_lengths)[0], 1]\n",
    ")\n",
    "stop_gts = tf.cast(\n",
    "    tf.math.greater_equal(stop_gts, tf.expand_dims(mel_lengths, 1)),\n",
    "    tf.float32,\n",
    ")\n",
    "stop_token_loss = calculate_2d_loss(\n",
    "    stop_gts, stop_token_predictions, loss_fn=binary_crossentropy\n",
    ")\n",
    "attention_masks = tf.cast(\n",
    "    tf.math.not_equal(guided, -1.0), tf.float32\n",
    ")\n",
    "loss_att = tf.reduce_sum(\n",
    "    tf.abs(alignment_histories * guided) * attention_masks,\n",
    "    axis=[1, 2],\n",
    ")\n",
    "loss_att /= tf.reduce_sum(attention_masks, axis=[1, 2])"
   ]
  },
  {
   "cell_type": "code",
   "execution_count": 11,
   "metadata": {},
   "outputs": [],
   "source": [
    "loss = stop_token_loss + mel_loss_before + mel_loss_after + loss_att"
   ]
  },
  {
   "cell_type": "code",
   "execution_count": 12,
   "metadata": {},
   "outputs": [],
   "source": [
    "# r = model.inference(input_ids, input_lengths, speaker_ids)\n",
    "# r"
   ]
  },
  {
   "cell_type": "code",
   "execution_count": 13,
   "metadata": {},
   "outputs": [],
   "source": [
    "sess = tf.InteractiveSession()\n",
    "sess.run(tf.global_variables_initializer())"
   ]
  },
  {
   "cell_type": "code",
   "execution_count": 14,
   "metadata": {},
   "outputs": [
    {
     "data": {
      "text/plain": [
       "(array([[[-0.06796341, -0.0804487 , -0.04431556, ..., -0.09433724,\n",
       "          -0.02345449,  0.08772649],\n",
       "         [-0.04318153, -0.08245155, -0.05823935, ..., -0.11458633,\n",
       "          -0.02950949,  0.05547573],\n",
       "         [-0.01866408, -0.08206702, -0.08863966, ..., -0.13753544,\n",
       "          -0.03806493,  0.04022491],\n",
       "         ...,\n",
       "         [-0.06704423, -0.09294236, -0.07631406, ..., -0.13891862,\n",
       "           0.02630183,  0.09242541],\n",
       "         [-0.06643584, -0.08368027, -0.07834595, ..., -0.14442576,\n",
       "           0.01060861,  0.09623958],\n",
       "         [-0.07137919, -0.07196188, -0.08635556, ..., -0.1341814 ,\n",
       "           0.00101672,  0.08422293]]], dtype=float32),\n",
       " array([[[-1.5531547 ,  0.5537216 ,  1.0227194 , ...,  0.07452253,\n",
       "           1.4796675 ,  2.0808184 ],\n",
       "         [ 1.3986566 ,  0.8528912 , -0.09732963, ...,  1.044044  ,\n",
       "          -1.1566794 ,  0.28264594],\n",
       "         [ 0.5521731 ,  2.7178888 ,  0.638061  , ...,  0.71136516,\n",
       "          -0.50971717, -0.05817204],\n",
       "         ...,\n",
       "         [ 3.750978  , -0.19464767, -3.2535477 , ..., -0.9527787 ,\n",
       "           1.1249763 ,  2.940309  ],\n",
       "         [-0.3474408 ,  1.1053455 , -1.6372583 , ...,  0.46304226,\n",
       "           0.24190718,  0.26301813],\n",
       "         [ 0.33626974,  0.6816564 , -0.95559585, ..., -1.3741962 ,\n",
       "          -0.00594308, -0.37251657]]], dtype=float32),\n",
       " array([[0.08026842, 0.09088902, 0.10089907, 0.13058162, 0.14408416,\n",
       "         0.15105087, 0.13566814, 0.12110103, 0.1076073 , 0.11564918,\n",
       "         0.13057806, 0.13283736, 0.13367842, 0.13764752, 0.1330269 ,\n",
       "         0.12545441, 0.12002944, 0.11323337, 0.12499366, 0.14427148,\n",
       "         0.1746792 , 0.19310944, 0.19973409, 0.20117131, 0.20418613,\n",
       "         0.19196293, 0.17704232, 0.1881844 , 0.18459502, 0.1785269 ,\n",
       "         0.16643856, 0.16788381, 0.19752729, 0.20442946, 0.20958155,\n",
       "         0.1941076 , 0.18480767, 0.17805712, 0.17544866, 0.17882365,\n",
       "         0.17319132, 0.17722589, 0.17361446, 0.16717815, 0.15175489,\n",
       "         0.15148912, 0.15263173, 0.16300325, 0.17455103, 0.18536301]],\n",
       "       dtype=float32),\n",
       " array([[[0.12960787, 0.12919466, 0.12904519, 0.13011101, 0.13006088,\n",
       "          0.12814586, 0.12965304, 0.12786631, 0.12725529, 0.12699142,\n",
       "          0.12663491, 0.12643732, 0.12622526, 0.1265353 , 0.12779531,\n",
       "          0.12754008, 0.12892742, 0.12663352, 0.12750748, 0.12712504,\n",
       "          0.12631877, 0.12225451, 0.12154399, 0.12194331, 0.11995671,\n",
       "          0.11967338, 0.11909048, 0.11888293, 0.12000035, 0.12068553,\n",
       "          0.11977193, 0.11670442, 0.11934961, 0.11834267, 0.11694533,\n",
       "          0.11669815, 0.1164393 , 0.11555599, 0.11381608, 0.11608548,\n",
       "          0.11350639, 0.11200197, 0.11141334, 0.10993319, 0.11009025,\n",
       "          0.10852951, 0.10751702, 0.107375  , 0.10550546, 0.10413666],\n",
       "         [0.12957919, 0.12828927, 0.12732084, 0.12684335, 0.125694  ,\n",
       "          0.12420531, 0.12420736, 0.12259199, 0.12189542, 0.12194981,\n",
       "          0.12087055, 0.12011353, 0.11825556, 0.11781534, 0.11789711,\n",
       "          0.11842333, 0.11880209, 0.11553212, 0.11648209, 0.11531629,\n",
       "          0.11403134, 0.11231658, 0.11126993, 0.11025212, 0.10898367,\n",
       "          0.10723975, 0.10591602, 0.10609751, 0.10534736, 0.10641429,\n",
       "          0.10575106, 0.10575435, 0.10613821, 0.10266493, 0.10269041,\n",
       "          0.10197355, 0.10181706, 0.10259189, 0.10216343, 0.10250039,\n",
       "          0.10093113, 0.09933706, 0.09925507, 0.09879223, 0.09970739,\n",
       "          0.09855097, 0.09948649, 0.09717684, 0.09837214, 0.09703249],\n",
       "         [0.13153028, 0.13242772, 0.13095929, 0.12939799, 0.12979726,\n",
       "          0.12966418, 0.13088238, 0.13123712, 0.13208935, 0.13296708,\n",
       "          0.1342302 , 0.13407384, 0.13576463, 0.13560465, 0.13646424,\n",
       "          0.13654536, 0.13695782, 0.13847165, 0.13845073, 0.1392432 ,\n",
       "          0.13935576, 0.14064752, 0.14238425, 0.14497612, 0.14545181,\n",
       "          0.14581585, 0.14638692, 0.14550817, 0.14664574, 0.14964479,\n",
       "          0.1522896 , 0.15276486, 0.14778318, 0.14969254, 0.15222429,\n",
       "          0.15469158, 0.15330292, 0.15544066, 0.1580965 , 0.16016437,\n",
       "          0.16076739, 0.16469675, 0.16803467, 0.16811521, 0.17424585,\n",
       "          0.17328116, 0.17403893, 0.17543907, 0.17548773, 0.17261542],\n",
       "         [0.18281488, 0.1814744 , 0.18049435, 0.17795058, 0.17615412,\n",
       "          0.17409791, 0.17218587, 0.17086396, 0.17178474, 0.17035638,\n",
       "          0.16992237, 0.1680038 , 0.16797075, 0.16478169, 0.16544051,\n",
       "          0.16487262, 0.16247916, 0.16152957, 0.15953031, 0.15923047,\n",
       "          0.15974973, 0.16023359, 0.15822957, 0.15617085, 0.1536878 ,\n",
       "          0.15360144, 0.1521313 , 0.15384153, 0.15392578, 0.15257366,\n",
       "          0.15206686, 0.15299566, 0.14941554, 0.15110229, 0.14996889,\n",
       "          0.15265326, 0.1505435 , 0.15039799, 0.15139183, 0.1515937 ,\n",
       "          0.15036017, 0.14965713, 0.15005727, 0.14547147, 0.14427306,\n",
       "          0.14282477, 0.13977498, 0.14203116, 0.13883774, 0.13769619],\n",
       "         [0.10373462, 0.10408133, 0.10514071, 0.10460172, 0.10492241,\n",
       "          0.10501423, 0.10354727, 0.10332022, 0.10476116, 0.10421938,\n",
       "          0.10354996, 0.10420389, 0.10121242, 0.10142747, 0.09919761,\n",
       "          0.09867989, 0.09907736, 0.09843396, 0.09700656, 0.09688959,\n",
       "          0.09685854, 0.09780072, 0.09863661, 0.09906912, 0.09713259,\n",
       "          0.09826522, 0.0963472 , 0.09632771, 0.09615546, 0.09441348,\n",
       "          0.09525142, 0.09338779, 0.09180369, 0.09417077, 0.09395129,\n",
       "          0.09453707, 0.09395652, 0.09230703, 0.09205071, 0.09125833,\n",
       "          0.09237904, 0.09126471, 0.09153032, 0.09087788, 0.09118768,\n",
       "          0.09010467, 0.09053637, 0.09167983, 0.09112054, 0.09351908],\n",
       "         [0.07950781, 0.07950405, 0.08009968, 0.07970901, 0.08003636,\n",
       "          0.08049183, 0.07997595, 0.08050401, 0.08147601, 0.08083058,\n",
       "          0.08052545, 0.08111756, 0.08067027, 0.08034091, 0.0778402 ,\n",
       "          0.07747851, 0.07687652, 0.07663028, 0.07558269, 0.07476746,\n",
       "          0.07467775, 0.07425897, 0.07532119, 0.07497139, 0.07461499,\n",
       "          0.07466979, 0.07336029, 0.07206116, 0.07129111, 0.07035437,\n",
       "          0.07083246, 0.0696093 , 0.06899169, 0.06972016, 0.06911904,\n",
       "          0.06860477, 0.06927187, 0.06862267, 0.06849003, 0.06699984,\n",
       "          0.06752536, 0.06524541, 0.0647402 , 0.06404159, 0.06459751,\n",
       "          0.06403003, 0.0648889 , 0.06267621, 0.06253008, 0.06302627],\n",
       "         [0.0647902 , 0.06426871, 0.06384492, 0.06409934, 0.06387443,\n",
       "          0.06414692, 0.06340399, 0.06341542, 0.0625534 , 0.06252705,\n",
       "          0.06221351, 0.06292135, 0.06262005, 0.06219736, 0.06199026,\n",
       "          0.06157121, 0.06040112, 0.06048439, 0.06046858, 0.06009334,\n",
       "          0.05954   , 0.05974496, 0.05987705, 0.05937393, 0.06001288,\n",
       "          0.05862892, 0.05844308, 0.05781556, 0.05601872, 0.05523663,\n",
       "          0.05563537, 0.05519368, 0.05591272, 0.05455172, 0.05440938,\n",
       "          0.053945  , 0.05408352, 0.05306287, 0.05249942, 0.05206613,\n",
       "          0.05199638, 0.05014197, 0.0504282 , 0.05168014, 0.05081962,\n",
       "          0.05077282, 0.05046023, 0.04966014, 0.04989881, 0.04998566],\n",
       "         [0.07595265, 0.0763706 , 0.07726233, 0.07913224, 0.08032112,\n",
       "          0.08226068, 0.08362819, 0.08443736, 0.08443611, 0.08500559,\n",
       "          0.08603535, 0.08748298, 0.08902059, 0.09052142, 0.0922083 ,\n",
       "          0.09341336, 0.09415026, 0.0964409 , 0.09770904, 0.09884258,\n",
       "          0.09993947, 0.10155137, 0.10150851, 0.10171371, 0.10499538,\n",
       "          0.1059761 , 0.10780853, 0.10726066, 0.1080758 , 0.10854924,\n",
       "          0.10803889, 0.1113287 , 0.11527424, 0.11437399, 0.11572926,\n",
       "          0.11401778, 0.11581401, 0.11543971, 0.11561643, 0.11557309,\n",
       "          0.11783396, 0.12059678, 0.11948821, 0.12288573, 0.1198103 ,\n",
       "          0.12195469, 0.12392999, 0.12352861, 0.12423839, 0.12528226],\n",
       "         [0.10248253, 0.10438932, 0.10583273, 0.10815481, 0.10913938,\n",
       "          0.11197302, 0.11251593, 0.1157637 , 0.1137485 , 0.11515261,\n",
       "          0.11601772, 0.11564576, 0.11826044, 0.12077588, 0.12116651,\n",
       "          0.12147568, 0.12232826, 0.12584358, 0.1272625 , 0.12849213,\n",
       "          0.12952857, 0.13119183, 0.13122894, 0.13152944, 0.13516414,\n",
       "          0.13612948, 0.14051622, 0.14220469, 0.14253968, 0.14212807,\n",
       "          0.14036238, 0.14226122, 0.1453311 , 0.145381  , 0.14496215,\n",
       "          0.14287886, 0.14477128, 0.14658116, 0.14587565, 0.14375876,\n",
       "          0.14470017, 0.14705811, 0.14505266, 0.14820269, 0.14526838,\n",
       "          0.14995131, 0.14936711, 0.15043321, 0.1540092 , 0.15670599]]],\n",
       "       dtype=float32))"
      ]
     },
     "execution_count": 14,
     "metadata": {},
     "output_type": "execute_result"
    }
   ],
   "source": [
    "sess.run(r, feed_dict = {input_ids: [[1, 2, 3, 4, 5, 6, 7, 8, 9]],\n",
    "                        input_lengths: [9],\n",
    "                        mel_outputs: np.random.normal(size=(1, 50, 80)).astype(np.float32),\n",
    "                        mel_lengths: [50]})"
   ]
  },
  {
   "cell_type": "code",
   "execution_count": 15,
   "metadata": {},
   "outputs": [
    {
     "data": {
      "text/plain": [
       "array([[3.021349 , 2.9683666, 2.8150268, 3.0592651, 3.1796381, 3.131577 ,\n",
       "        3.1811478, 2.8446221, 3.1216266, 3.0640397, 3.1034694, 3.2381985,\n",
       "        2.7253952, 2.7224984, 2.9553146, 2.9229646, 3.131834 , 2.9843235,\n",
       "        2.9755402, 2.7743883, 2.8919098, 3.168142 , 3.0310464, 3.0300584,\n",
       "        2.908257 , 2.8068876, 2.9689984, 3.1704912, 3.035336 , 2.8225808,\n",
       "        2.9783864, 3.1301632, 2.971221 , 2.9498286, 3.4484158, 2.9097295,\n",
       "        2.7904568, 3.1013207, 2.825247 , 2.9891722, 3.097128 , 2.9827783,\n",
       "        2.8775887, 3.1963136, 3.2869973, 2.872067 , 2.916367 , 2.865512 ,\n",
       "        3.0789337, 2.6820312]], dtype=float32)"
      ]
     },
     "execution_count": 15,
     "metadata": {},
     "output_type": "execute_result"
    }
   ],
   "source": [
    "sess.run(loss, feed_dict = {input_ids: [[1, 2, 3, 4, 5, 6, 7, 8, 9]],\n",
    "                        input_lengths: [9],\n",
    "                        mel_outputs: np.random.normal(size=(1, 50, 80)).astype(np.float32),\n",
    "                        mel_actuals: np.random.normal(size=(1, 50, 80)).astype(np.float32),\n",
    "                        mel_lengths: [50]})"
   ]
  }
 ],
 "metadata": {
  "kernelspec": {
   "display_name": "Python 3",
   "language": "python",
   "name": "python3"
  },
  "language_info": {
   "codemirror_mode": {
    "name": "ipython",
    "version": 3
   },
   "file_extension": ".py",
   "mimetype": "text/x-python",
   "name": "python",
   "nbconvert_exporter": "python",
   "pygments_lexer": "ipython3",
   "version": "3.7.7"
  }
 },
 "nbformat": 4,
 "nbformat_minor": 4
}

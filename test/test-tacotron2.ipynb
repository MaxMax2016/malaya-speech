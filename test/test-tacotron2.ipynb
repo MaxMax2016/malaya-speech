{
 "cells": [
  {
   "cell_type": "code",
   "execution_count": 1,
   "metadata": {},
   "outputs": [],
   "source": [
    "import os\n",
    "\n",
    "os.environ['CUDA_VISIBLE_DEVICES'] = '1'"
   ]
  },
  {
   "cell_type": "code",
   "execution_count": 2,
   "metadata": {},
   "outputs": [],
   "source": [
    "import sys\n",
    "\n",
    "SOURCE_DIR = os.path.dirname(os.path.dirname(os.path.abspath(__name__)))\n",
    "sys.path.insert(0, SOURCE_DIR)"
   ]
  },
  {
   "cell_type": "code",
   "execution_count": 3,
   "metadata": {},
   "outputs": [
    {
     "name": "stdout",
     "output_type": "stream",
     "text": [
      "WARNING:tensorflow:From /Users/huseinzolkepli/Documents/malaya-speech/malaya_speech/train/optimizer/__init__.py:35: The name tf.train.AdagradOptimizer is deprecated. Please use tf.compat.v1.train.AdagradOptimizer instead.\n",
      "\n",
      "WARNING:tensorflow:From /Users/huseinzolkepli/Documents/malaya-speech/malaya_speech/train/optimizer/__init__.py:36: The name tf.train.AdamOptimizer is deprecated. Please use tf.compat.v1.train.AdamOptimizer instead.\n",
      "\n",
      "WARNING:tensorflow:From /Users/huseinzolkepli/Documents/malaya-speech/malaya_speech/train/optimizer/__init__.py:37: The name tf.train.FtrlOptimizer is deprecated. Please use tf.compat.v1.train.FtrlOptimizer instead.\n",
      "\n",
      "WARNING:tensorflow:From /Users/huseinzolkepli/Documents/malaya-speech/malaya_speech/train/optimizer/__init__.py:39: The name tf.train.RMSPropOptimizer is deprecated. Please use tf.compat.v1.train.RMSPropOptimizer instead.\n",
      "\n",
      "WARNING:tensorflow:From /Users/huseinzolkepli/Documents/malaya-speech/malaya_speech/train/optimizer/__init__.py:40: The name tf.train.GradientDescentOptimizer is deprecated. Please use tf.compat.v1.train.GradientDescentOptimizer instead.\n",
      "\n",
      "WARNING:tensorflow:\n",
      "The TensorFlow contrib module will not be included in TensorFlow 2.0.\n",
      "For more information, please see:\n",
      "  * https://github.com/tensorflow/community/blob/master/rfcs/20180907-contrib-sunset.md\n",
      "  * https://github.com/tensorflow/addons\n",
      "  * https://github.com/tensorflow/io (for I/O related ops)\n",
      "If you depend on functionality not listed there, please file an issue.\n",
      "\n",
      "WARNING:tensorflow:From /Users/huseinzolkepli/Documents/malaya-speech/malaya_speech/train/model/quartznet/layer.py:6: The name tf.layers.Conv1D is deprecated. Please use tf.compat.v1.layers.Conv1D instead.\n",
      "\n"
     ]
    }
   ],
   "source": [
    "import tensorflow as tf\n",
    "import malaya_speech\n",
    "import malaya_speech.train\n",
    "from malaya_speech.train.model import tacotron2\n",
    "import malaya_speech.config\n",
    "import numpy as np"
   ]
  },
  {
   "cell_type": "code",
   "execution_count": 4,
   "metadata": {},
   "outputs": [],
   "source": [
    "tacotron2_config = malaya_speech.config.tacotron2_config\n",
    "tacotron2_config['teacher_mode'] = 'mul'\n",
    "tacotron2_config['sampler_ratio'] = 0.5"
   ]
  },
  {
   "cell_type": "code",
   "execution_count": 5,
   "metadata": {
    "scrolled": true
   },
   "outputs": [
    {
     "name": "stdout",
     "output_type": "stream",
     "text": [
      "WARNING:tensorflow:From /Users/huseinzolkepli/Documents/malaya-speech/malaya_speech/train/model/fastspeech/layer.py:11: The name tf.keras.initializers.TruncatedNormal is deprecated. Please use tf.compat.v1.keras.initializers.TruncatedNormal instead.\n",
      "\n",
      "WARNING:tensorflow:From /Library/Frameworks/Python.framework/Versions/3.7/lib/python3.7/site-packages/tensorflow_core/python/keras/initializers.py:94: calling TruncatedNormal.__init__ (from tensorflow.python.ops.init_ops) with dtype is deprecated and will be removed in a future version.\n",
      "Instructions for updating:\n",
      "Call initializer instance with the dtype argument instead of passing it to the constructor\n",
      "WARNING:tensorflow:From /Library/Frameworks/Python.framework/Versions/3.7/lib/python3.7/site-packages/tensorflow_core/python/ops/init_ops.py:97: calling GlorotUniform.__init__ (from tensorflow.python.ops.init_ops) with dtype is deprecated and will be removed in a future version.\n",
      "Instructions for updating:\n",
      "Call initializer instance with the dtype argument instead of passing it to the constructor\n",
      "WARNING:tensorflow:From /Library/Frameworks/Python.framework/Versions/3.7/lib/python3.7/site-packages/tensorflow_core/python/ops/init_ops.py:97: calling Orthogonal.__init__ (from tensorflow.python.ops.init_ops) with dtype is deprecated and will be removed in a future version.\n",
      "Instructions for updating:\n",
      "Call initializer instance with the dtype argument instead of passing it to the constructor\n",
      "WARNING:tensorflow:From /Library/Frameworks/Python.framework/Versions/3.7/lib/python3.7/site-packages/tensorflow_core/python/ops/init_ops.py:97: calling Zeros.__init__ (from tensorflow.python.ops.init_ops) with dtype is deprecated and will be removed in a future version.\n",
      "Instructions for updating:\n",
      "Call initializer instance with the dtype argument instead of passing it to the constructor\n"
     ]
    }
   ],
   "source": [
    "model = tacotron2.Model(tacotron2.Config(vocab_size = 20, **tacotron2_config))"
   ]
  },
  {
   "cell_type": "code",
   "execution_count": 6,
   "metadata": {},
   "outputs": [],
   "source": [
    "input_ids = tf.placeholder(tf.int32, [None, None])\n",
    "input_lengths = tf.placeholder(tf.int32, [None])\n",
    "speaker_ids = tf.constant([0], dtype = tf.int32)\n",
    "mel_outputs = tf.placeholder(tf.float32, [None, None, 80])\n",
    "mel_lengths = tf.placeholder(tf.int32, [None])\n",
    "mel_actuals = tf.placeholder(tf.float32, [None, None, 80])"
   ]
  },
  {
   "cell_type": "code",
   "execution_count": 7,
   "metadata": {},
   "outputs": [
    {
     "data": {
      "text/plain": [
       "<tf.Tensor 'ExpandDims:0' shape=(1, ?, ?) dtype=float32>"
      ]
     },
     "execution_count": 7,
     "metadata": {},
     "output_type": "execute_result"
    }
   ],
   "source": [
    "guided = tacotron2.generate_guided_attention(mel_lengths[0], input_lengths[0])\n",
    "guided = tf.expand_dims(guided, 0)\n",
    "guided"
   ]
  },
  {
   "cell_type": "code",
   "execution_count": 8,
   "metadata": {
    "scrolled": true
   },
   "outputs": [
    {
     "name": "stdout",
     "output_type": "stream",
     "text": [
      "WARNING:tensorflow:From /Users/huseinzolkepli/Documents/malaya-speech/malaya_speech/train/model/tacotron2/model.py:109: The name tf.get_variable is deprecated. Please use tf.compat.v1.get_variable instead.\n",
      "\n",
      "WARNING:tensorflow:From /Library/Frameworks/Python.framework/Versions/3.7/lib/python3.7/site-packages/tensorflow_core/python/ops/resource_variable_ops.py:1630: calling BaseResourceVariable.__init__ (from tensorflow.python.ops.resource_variable_ops) with constraint is deprecated and will be removed in a future version.\n",
      "Instructions for updating:\n",
      "If using Keras pass *_constraint arguments to layers.\n",
      "WARNING:tensorflow:From /Library/Frameworks/Python.framework/Versions/3.7/lib/python3.7/site-packages/tensorflow_core/python/keras/backend.py:3994: where (from tensorflow.python.ops.array_ops) is deprecated and will be removed in a future version.\n",
      "Instructions for updating:\n",
      "Use tf.where in 2.0, which has the same broadcast rule as np.where\n",
      "WARNING:tensorflow:From /Library/Frameworks/Python.framework/Versions/3.7/lib/python3.7/site-packages/tensorflow_core/python/autograph/converters/directives.py:119: The name tf.debugging.assert_greater is deprecated. Please use tf.compat.v1.debugging.assert_greater instead.\n",
      "\n",
      "WARNING:tensorflow:From /Library/Frameworks/Python.framework/Versions/3.7/lib/python3.7/site-packages/tensorflow_core/python/autograph/converters/directives.py:119: The name tf.debugging.assert_positive is deprecated. Please use tf.compat.v1.debugging.assert_positive instead.\n",
      "\n",
      "self.values Tensor(\"model/LocationSensitiveAttention/mul:0\", shape=(?, ?, 512), dtype=float32)\n",
      "WARNING:tensorflow:From /Library/Frameworks/Python.framework/Versions/3.7/lib/python3.7/site-packages/tensorflow_core/python/autograph/converters/directives.py:119: The name tf.random_uniform is deprecated. Please use tf.random.uniform instead.\n",
      "\n"
     ]
    },
    {
     "data": {
      "text/plain": [
       "(<tf.Tensor 'model/Reshape:0' shape=(?, ?, 80) dtype=float32>,\n",
       " <tf.Tensor 'model/add:0' shape=(?, ?, 80) dtype=float32>,\n",
       " <tf.Tensor 'model/Reshape_1:0' shape=(?, ?) dtype=float32>,\n",
       " <tf.Tensor 'model/transpose:0' shape=(?, ?, ?) dtype=float32>)"
      ]
     },
     "execution_count": 8,
     "metadata": {},
     "output_type": "execute_result"
    }
   ],
   "source": [
    "r = model(input_ids, input_lengths, speaker_ids, mel_outputs, mel_lengths,\n",
    "          training = True)\n",
    "r"
   ]
  },
  {
   "cell_type": "code",
   "execution_count": 9,
   "metadata": {},
   "outputs": [],
   "source": [
    "from malaya_speech.train.loss import calculate_2d_loss, calculate_3d_loss"
   ]
  },
  {
   "cell_type": "code",
   "execution_count": 10,
   "metadata": {},
   "outputs": [],
   "source": [
    "binary_crossentropy = tf.keras.losses.BinaryCrossentropy(\n",
    "    from_logits=True\n",
    ")\n",
    "mse = tf.keras.losses.MeanSquaredError()\n",
    "mae = tf.keras.losses.MeanAbsoluteError()\n",
    "decoder_output, post_mel_outputs, stop_token_predictions, alignment_histories = r\n",
    "mel_loss_before = calculate_3d_loss(\n",
    "    mel_actuals, decoder_output, loss_fn=mae\n",
    ")\n",
    "mel_loss_after = calculate_3d_loss(\n",
    "    mel_actuals, post_mel_outputs, loss_fn=mae\n",
    ")\n",
    "max_mel_length = tf.reduce_max(mel_lengths)\n",
    "stop_gts = tf.expand_dims(\n",
    "    tf.range(tf.reduce_max(max_mel_length), dtype=tf.int32), 0\n",
    ")\n",
    "stop_gts = tf.tile(\n",
    "    stop_gts, [tf.shape(mel_lengths)[0], 1]\n",
    ")\n",
    "stop_gts = tf.cast(\n",
    "    tf.math.greater_equal(stop_gts, tf.expand_dims(mel_lengths, 1)),\n",
    "    tf.float32,\n",
    ")\n",
    "stop_token_loss = calculate_2d_loss(\n",
    "    stop_gts, stop_token_predictions, loss_fn=binary_crossentropy\n",
    ")\n",
    "attention_masks = tf.cast(\n",
    "    tf.math.not_equal(guided, -1.0), tf.float32\n",
    ")\n",
    "loss_att = tf.reduce_sum(\n",
    "    tf.abs(alignment_histories * guided) * attention_masks,\n",
    "    axis=[1, 2],\n",
    ")\n",
    "loss_att /= tf.reduce_sum(attention_masks, axis=[1, 2])"
   ]
  },
  {
   "cell_type": "code",
   "execution_count": 11,
   "metadata": {},
   "outputs": [
    {
     "data": {
      "text/plain": [
       "<tf.Tensor 'truediv_3:0' shape=(?,) dtype=float32>"
      ]
     },
     "execution_count": 11,
     "metadata": {},
     "output_type": "execute_result"
    }
   ],
   "source": [
    "loss_att"
   ]
  },
  {
   "cell_type": "code",
   "execution_count": 12,
   "metadata": {},
   "outputs": [],
   "source": [
    "loss = stop_token_loss + mel_loss_before + mel_loss_after + loss_att"
   ]
  },
  {
   "cell_type": "code",
   "execution_count": 13,
   "metadata": {},
   "outputs": [
    {
     "data": {
      "text/plain": [
       "(<tf.Tensor 'binary_crossentropy/weighted_loss/value:0' shape=() dtype=float32>,\n",
       " <tf.Tensor 'mean_absolute_error/weighted_loss/value:0' shape=() dtype=float32>,\n",
       " <tf.Tensor 'mean_absolute_error_1/weighted_loss/value:0' shape=() dtype=float32>,\n",
       " <tf.Tensor 'truediv_3:0' shape=(?,) dtype=float32>)"
      ]
     },
     "execution_count": 13,
     "metadata": {},
     "output_type": "execute_result"
    }
   ],
   "source": [
    "stop_token_loss, mel_loss_before, mel_loss_after, loss_att"
   ]
  },
  {
   "cell_type": "code",
   "execution_count": 14,
   "metadata": {},
   "outputs": [],
   "source": [
    "# r = model.inference(input_ids, input_lengths, speaker_ids)\n",
    "# r"
   ]
  },
  {
   "cell_type": "code",
   "execution_count": 15,
   "metadata": {},
   "outputs": [],
   "source": [
    "sess = tf.InteractiveSession()\n",
    "sess.run(tf.global_variables_initializer())"
   ]
  },
  {
   "cell_type": "code",
   "execution_count": 16,
   "metadata": {},
   "outputs": [
    {
     "data": {
      "text/plain": [
       "(1, 50, 80)"
      ]
     },
     "execution_count": 16,
     "metadata": {},
     "output_type": "execute_result"
    }
   ],
   "source": [
    "sess.run(decoder_output, feed_dict = {input_ids: [[1, 2, 3, 4, 5, 6, 7, 8, 9]],\n",
    "                        input_lengths: [9],\n",
    "                        mel_outputs: np.random.normal(size=(1, 50, 80)).astype(np.float32),\n",
    "                        mel_lengths: [50]}).shape"
   ]
  },
  {
   "cell_type": "code",
   "execution_count": 17,
   "metadata": {},
   "outputs": [
    {
     "data": {
      "text/plain": [
       "(array([[[ 0.0629825 ,  0.02788971, -0.1660759 , ..., -0.01585085,\n",
       "           0.14168616,  0.18354946],\n",
       "         [ 0.06198677,  0.036944  , -0.1874612 , ..., -0.01225122,\n",
       "           0.14247943,  0.20078239],\n",
       "         [ 0.05773342,  0.03625539, -0.20248367, ..., -0.00910965,\n",
       "           0.14467089,  0.21301259],\n",
       "         ...,\n",
       "         [ 0.09546523, -0.00132129, -0.2872843 , ..., -0.01563515,\n",
       "           0.16039966,  0.22346766],\n",
       "         [ 0.09524217, -0.00033994, -0.284297  , ..., -0.00662048,\n",
       "           0.15854485,  0.22669852],\n",
       "         [ 0.09266607,  0.00267723, -0.28447533, ..., -0.00436366,\n",
       "           0.15979822,  0.23309496]]], dtype=float32),\n",
       " array([[[ 1.28124   , -0.42480466, -0.0809157 , ..., -0.14240645,\n",
       "           0.25302178, -0.47935826],\n",
       "         [-1.8095101 ,  1.21135   ,  0.32015288, ..., -0.03649219,\n",
       "          -0.3896013 ,  1.3537585 ],\n",
       "         [ 2.124991  ,  1.9719195 , -1.5588489 , ...,  0.6578563 ,\n",
       "           0.21233311,  0.00443962],\n",
       "         ...,\n",
       "         [ 1.4148281 , -0.885666  , -1.9222841 , ...,  3.9047363 ,\n",
       "          -0.17141251,  0.8861694 ],\n",
       "         [ 1.0316129 , -0.77454555, -0.3199544 , ...,  1.7509311 ,\n",
       "           1.6257135 , -0.20579523],\n",
       "         [ 1.4527668 ,  1.4221354 , -1.8173115 , ...,  0.12509361,\n",
       "           1.257237  , -2.1854684 ]]], dtype=float32),\n",
       " array([[0.06015946, 0.04988352, 0.03964653, 0.0355554 , 0.03198732,\n",
       "         0.04016638, 0.04898483, 0.05118369, 0.05059278, 0.04720812,\n",
       "         0.04596574, 0.04928096, 0.04505244, 0.04557168, 0.04002812,\n",
       "         0.04501791, 0.04970679, 0.04440812, 0.04741755, 0.05332849,\n",
       "         0.05840948, 0.07781432, 0.08776307, 0.08856368, 0.08092915,\n",
       "         0.07250251, 0.07294567, 0.07526237, 0.07053035, 0.07190976,\n",
       "         0.06905543, 0.06256241, 0.05609174, 0.05738608, 0.06130025,\n",
       "         0.06371817, 0.06168378, 0.05708035, 0.05371827, 0.06015811,\n",
       "         0.06799179, 0.0689981 , 0.07097898, 0.06434423, 0.06071309,\n",
       "         0.06719081, 0.07809585, 0.08840869, 0.09206116, 0.08854593]],\n",
       "       dtype=float32),\n",
       " array([[[0.0560841 , 0.05558713, 0.05546534, 0.05482503, 0.05421974,\n",
       "          0.0535305 , 0.05297687, 0.05297343, 0.05171513, 0.05128302,\n",
       "          0.05079564, 0.05024133, 0.04994501, 0.04956814, 0.04944162,\n",
       "          0.04977589, 0.04893836, 0.048591  , 0.04821642, 0.04799204,\n",
       "          0.04752525, 0.04716586, 0.04652406, 0.04608297, 0.04587435,\n",
       "          0.04571696, 0.04503862, 0.04523836, 0.04466422, 0.04406127,\n",
       "          0.04357483, 0.04357986, 0.0435295 , 0.04342366, 0.04399677,\n",
       "          0.04405794, 0.04407561, 0.04337758, 0.04312675, 0.04319648,\n",
       "          0.04255021, 0.04226436, 0.04185171, 0.04150622, 0.04216242,\n",
       "          0.04247312, 0.04232601, 0.04170434, 0.04119434, 0.04108211],\n",
       "         [0.08834618, 0.08745841, 0.08711102, 0.08533341, 0.08431391,\n",
       "          0.0832294 , 0.08248336, 0.08164302, 0.08025622, 0.07934094,\n",
       "          0.07896473, 0.07804465, 0.07768397, 0.07658098, 0.07561985,\n",
       "          0.07543361, 0.07445977, 0.07357533, 0.0731237 , 0.07253399,\n",
       "          0.07209842, 0.07121814, 0.0703231 , 0.06912445, 0.06828688,\n",
       "          0.06745793, 0.06738373, 0.06669923, 0.06586522, 0.06491447,\n",
       "          0.06431564, 0.06420634, 0.06350363, 0.06285522, 0.06350993,\n",
       "          0.06353445, 0.06325666, 0.06146874, 0.0607589 , 0.06009594,\n",
       "          0.0594173 , 0.05912265, 0.05938418, 0.05867971, 0.05863847,\n",
       "          0.05793392, 0.05816575, 0.0581658 , 0.05779452, 0.05753011],\n",
       "         [0.13037968, 0.12932685, 0.12890898, 0.1274369 , 0.12593588,\n",
       "          0.12592058, 0.12558697, 0.12435436, 0.12363572, 0.12269712,\n",
       "          0.12192322, 0.12116662, 0.12008844, 0.11918233, 0.11872809,\n",
       "          0.11797258, 0.11658358, 0.11592032, 0.11523996, 0.11467577,\n",
       "          0.1139389 , 0.11346908, 0.11243225, 0.11140492, 0.11102346,\n",
       "          0.10987382, 0.1097683 , 0.10890143, 0.10791735, 0.1061889 ,\n",
       "          0.10526673, 0.10490097, 0.10428895, 0.10284568, 0.10363445,\n",
       "          0.1027834 , 0.10212703, 0.10144955, 0.10129171, 0.10001055,\n",
       "          0.09839568, 0.09812865, 0.09834598, 0.09736268, 0.09650585,\n",
       "          0.0948122 , 0.09578801, 0.09552955, 0.0950799 , 0.09462742],\n",
       "         [0.16970448, 0.16997425, 0.16998638, 0.1700261 , 0.16946532,\n",
       "          0.16961162, 0.16993277, 0.16890217, 0.16913174, 0.16928884,\n",
       "          0.16952023, 0.16949773, 0.16957255, 0.16958447, 0.16977529,\n",
       "          0.16964613, 0.17011678, 0.16993739, 0.16960809, 0.17021754,\n",
       "          0.17056371, 0.17149314, 0.17176117, 0.17239738, 0.17174456,\n",
       "          0.17079645, 0.17101108, 0.17103809, 0.17119959, 0.17118405,\n",
       "          0.17080653, 0.17026858, 0.16972838, 0.16943604, 0.16862254,\n",
       "          0.1688671 , 0.17077327, 0.17074102, 0.17007318, 0.16950199,\n",
       "          0.16877374, 0.16862293, 0.16935328, 0.1698866 , 0.1693375 ,\n",
       "          0.1682101 , 0.16723996, 0.16673921, 0.16722548, 0.16712052],\n",
       "         [0.14115354, 0.14221302, 0.14324257, 0.14367995, 0.14417738,\n",
       "          0.14494912, 0.14578626, 0.14575364, 0.14779155, 0.14841387,\n",
       "          0.14956582, 0.15000924, 0.1508151 , 0.15186259, 0.15269041,\n",
       "          0.15312788, 0.15445638, 0.15409996, 0.15563133, 0.15559468,\n",
       "          0.1554513 , 0.15630065, 0.15732747, 0.15911803, 0.16013525,\n",
       "          0.16019572, 0.16109525, 0.16297193, 0.1638083 , 0.1647946 ,\n",
       "          0.16611335, 0.16742116, 0.1685634 , 0.168108  , 0.16686308,\n",
       "          0.16843657, 0.17018974, 0.1723905 , 0.1757772 , 0.17802101,\n",
       "          0.17843218, 0.17908587, 0.17892188, 0.18014131, 0.18002546,\n",
       "          0.18068953, 0.18092366, 0.18070734, 0.1829097 , 0.1835224 ],\n",
       "         [0.12145449, 0.12277083, 0.1235571 , 0.124832  , 0.12527324,\n",
       "          0.12569395, 0.12592235, 0.1266834 , 0.12687305, 0.1274797 ,\n",
       "          0.12816325, 0.12922013, 0.12923531, 0.13026817, 0.12998758,\n",
       "          0.13011432, 0.13048977, 0.13052768, 0.13119403, 0.13139464,\n",
       "          0.13229011, 0.13166378, 0.13199049, 0.13288164, 0.1326363 ,\n",
       "          0.13302043, 0.13417271, 0.13476825, 0.13513255, 0.13475591,\n",
       "          0.13433108, 0.13505426, 0.13653429, 0.13647671, 0.13724948,\n",
       "          0.13831177, 0.13737926, 0.13807248, 0.13856107, 0.1393579 ,\n",
       "          0.14052397, 0.1410847 , 0.14033043, 0.14084789, 0.14025415,\n",
       "          0.14179906, 0.14234635, 0.14201216, 0.1425293 , 0.14296433],\n",
       "         [0.0945807 , 0.09430706, 0.09375568, 0.09446026, 0.09550155,\n",
       "          0.09567504, 0.09592082, 0.09664575, 0.097008  , 0.09704354,\n",
       "          0.0964872 , 0.09692663, 0.09718643, 0.09776505, 0.0978855 ,\n",
       "          0.0979356 , 0.09830267, 0.09872945, 0.09896228, 0.09892835,\n",
       "          0.09902862, 0.09891362, 0.09976862, 0.09957769, 0.09971305,\n",
       "          0.10033973, 0.10012969, 0.10013842, 0.10087563, 0.10143824,\n",
       "          0.10164156, 0.10237742, 0.1026471 , 0.10260883, 0.102774  ,\n",
       "          0.10269618, 0.10220029, 0.10230532, 0.1021717 , 0.10283725,\n",
       "          0.10332529, 0.10346634, 0.10353378, 0.10274191, 0.10233367,\n",
       "          0.10387735, 0.10393674, 0.10410293, 0.10366019, 0.10478259],\n",
       "         [0.10668287, 0.10628399, 0.10575701, 0.10649455, 0.10715361,\n",
       "          0.10730693, 0.1071124 , 0.10778438, 0.10823177, 0.10835295,\n",
       "          0.10824982, 0.10854849, 0.10851973, 0.10825069, 0.1081346 ,\n",
       "          0.10762467, 0.10798625, 0.10877421, 0.10842224, 0.10861255,\n",
       "          0.10883462, 0.10906607, 0.10880082, 0.10877638, 0.10878173,\n",
       "          0.10960382, 0.10899691, 0.10834642, 0.10793126, 0.10857378,\n",
       "          0.10882116, 0.10808989, 0.10722966, 0.10847589, 0.1085481 ,\n",
       "          0.10773642, 0.10644058, 0.10621455, 0.10492499, 0.10383944,\n",
       "          0.10429987, 0.10387458, 0.10359415, 0.10410707, 0.1043631 ,\n",
       "          0.10460299, 0.10373701, 0.10472713, 0.10356566, 0.10268881],\n",
       "         [0.09161394, 0.09207845, 0.09221587, 0.09291174, 0.09395944,\n",
       "          0.09408286, 0.0942781 , 0.09525987, 0.09535682, 0.09610002,\n",
       "          0.09633015, 0.09634519, 0.09695344, 0.09693753, 0.09773699,\n",
       "          0.09836937, 0.09866644, 0.09984472, 0.09960198, 0.10005037,\n",
       "          0.10026908, 0.10070963, 0.10107204, 0.10063647, 0.10180439,\n",
       "          0.10299511, 0.10240363, 0.10189778, 0.10260597, 0.10408878,\n",
       "          0.10512906, 0.10410145, 0.10397506, 0.10576992, 0.10480157,\n",
       "          0.10357624, 0.10355759, 0.10398029, 0.10331458, 0.10313947,\n",
       "          0.10428178, 0.10434999, 0.10468455, 0.10472662, 0.1063794 ,\n",
       "          0.1056018 , 0.10553639, 0.10631156, 0.10604092, 0.10568162]]],\n",
       "       dtype=float32))"
      ]
     },
     "execution_count": 17,
     "metadata": {},
     "output_type": "execute_result"
    }
   ],
   "source": [
    "sess.run(r, feed_dict = {input_ids: [[1, 2, 3, 4, 5, 6, 7, 8, 9]],\n",
    "                        input_lengths: [9],\n",
    "                        mel_outputs: np.random.normal(size=(1, 50, 80)).astype(np.float32),\n",
    "                        mel_lengths: [50]})"
   ]
  },
  {
   "cell_type": "code",
   "execution_count": 18,
   "metadata": {},
   "outputs": [
    {
     "data": {
      "text/plain": [
       "array([2.9076638], dtype=float32)"
      ]
     },
     "execution_count": 18,
     "metadata": {},
     "output_type": "execute_result"
    }
   ],
   "source": [
    "sess.run(loss, feed_dict = {input_ids: [[1, 2, 3, 4, 5, 6, 7, 8, 9]],\n",
    "                        input_lengths: [9],\n",
    "                        mel_outputs: np.random.normal(size=(1, 50, 80)).astype(np.float32),\n",
    "                        mel_actuals: np.random.normal(size=(1, 50, 80)).astype(np.float32),\n",
    "                        mel_lengths: [50]})"
   ]
  },
  {
   "cell_type": "code",
   "execution_count": 19,
   "metadata": {},
   "outputs": [
    {
     "data": {
      "text/plain": [
       "array([2.996471, 2.996321], dtype=float32)"
      ]
     },
     "execution_count": 19,
     "metadata": {},
     "output_type": "execute_result"
    }
   ],
   "source": [
    "sess.run(loss, feed_dict = {input_ids: [[1, 2, 3, 4, 5, 6, 7, 8, 9],\n",
    "                                       [1, 2, 3, 4, 5, 6, 7, 8, 9]],\n",
    "                        input_lengths: [9, 9],\n",
    "                        mel_outputs: np.random.normal(size=(2, 50, 80)).astype(np.float32),\n",
    "                        mel_actuals: np.random.normal(size=(2, 50, 80)).astype(np.float32),\n",
    "                        mel_lengths: [50, 50]})"
   ]
  },
  {
   "cell_type": "code",
   "execution_count": 20,
   "metadata": {
    "scrolled": true
   },
   "outputs": [
    {
     "data": {
      "text/plain": [
       "(1, 9, 50)"
      ]
     },
     "execution_count": 20,
     "metadata": {},
     "output_type": "execute_result"
    }
   ],
   "source": [
    "sess.run(guided, feed_dict = {input_ids: [[1, 2, 3, 4, 5, 6, 7, 8, 9]],\n",
    "                        input_lengths: [9],\n",
    "                        mel_outputs: np.random.normal(size=(1, 50, 80)).astype(np.float32),\n",
    "                        mel_actuals: np.random.normal(size=(1, 50, 80)).astype(np.float32),\n",
    "                        mel_lengths: [50]}).shape"
   ]
  }
 ],
 "metadata": {
  "kernelspec": {
   "display_name": "Python 3",
   "language": "python",
   "name": "python3"
  },
  "language_info": {
   "codemirror_mode": {
    "name": "ipython",
    "version": 3
   },
   "file_extension": ".py",
   "mimetype": "text/x-python",
   "name": "python",
   "nbconvert_exporter": "python",
   "pygments_lexer": "ipython3",
   "version": "3.7.7"
  }
 },
 "nbformat": 4,
 "nbformat_minor": 4
}

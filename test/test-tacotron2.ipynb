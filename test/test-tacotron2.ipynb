{
 "cells": [
  {
   "cell_type": "code",
   "execution_count": 1,
   "metadata": {},
   "outputs": [],
   "source": [
    "import os\n",
    "\n",
    "os.environ['CUDA_VISIBLE_DEVICES'] = '1'"
   ]
  },
  {
   "cell_type": "code",
   "execution_count": 2,
   "metadata": {},
   "outputs": [],
   "source": [
    "import sys\n",
    "\n",
    "SOURCE_DIR = os.path.dirname(os.path.dirname(os.path.abspath(__name__)))\n",
    "sys.path.insert(0, SOURCE_DIR)"
   ]
  },
  {
   "cell_type": "code",
   "execution_count": 3,
   "metadata": {},
   "outputs": [
    {
     "name": "stdout",
     "output_type": "stream",
     "text": [
      "WARNING:tensorflow:From /Users/huseinzolkepli/Documents/malaya-speech/malaya_speech/train/optimizer/__init__.py:35: The name tf.train.AdagradOptimizer is deprecated. Please use tf.compat.v1.train.AdagradOptimizer instead.\n",
      "\n",
      "WARNING:tensorflow:From /Users/huseinzolkepli/Documents/malaya-speech/malaya_speech/train/optimizer/__init__.py:36: The name tf.train.AdamOptimizer is deprecated. Please use tf.compat.v1.train.AdamOptimizer instead.\n",
      "\n",
      "WARNING:tensorflow:From /Users/huseinzolkepli/Documents/malaya-speech/malaya_speech/train/optimizer/__init__.py:37: The name tf.train.FtrlOptimizer is deprecated. Please use tf.compat.v1.train.FtrlOptimizer instead.\n",
      "\n",
      "WARNING:tensorflow:From /Users/huseinzolkepli/Documents/malaya-speech/malaya_speech/train/optimizer/__init__.py:39: The name tf.train.RMSPropOptimizer is deprecated. Please use tf.compat.v1.train.RMSPropOptimizer instead.\n",
      "\n",
      "WARNING:tensorflow:From /Users/huseinzolkepli/Documents/malaya-speech/malaya_speech/train/optimizer/__init__.py:40: The name tf.train.GradientDescentOptimizer is deprecated. Please use tf.compat.v1.train.GradientDescentOptimizer instead.\n",
      "\n",
      "WARNING:tensorflow:\n",
      "The TensorFlow contrib module will not be included in TensorFlow 2.0.\n",
      "For more information, please see:\n",
      "  * https://github.com/tensorflow/community/blob/master/rfcs/20180907-contrib-sunset.md\n",
      "  * https://github.com/tensorflow/addons\n",
      "  * https://github.com/tensorflow/io (for I/O related ops)\n",
      "If you depend on functionality not listed there, please file an issue.\n",
      "\n",
      "WARNING:tensorflow:From /Users/huseinzolkepli/Documents/malaya-speech/malaya_speech/train/model/quartznet/layer.py:6: The name tf.layers.Conv1D is deprecated. Please use tf.compat.v1.layers.Conv1D instead.\n",
      "\n"
     ]
    }
   ],
   "source": [
    "import tensorflow as tf\n",
    "import malaya_speech\n",
    "import malaya_speech.train\n",
    "from malaya_speech.train.model import tacotron2\n",
    "import malaya_speech.config\n",
    "import numpy as np"
   ]
  },
  {
   "cell_type": "code",
   "execution_count": 4,
   "metadata": {},
   "outputs": [],
   "source": [
    "tacotron2_config = malaya_speech.config.tacotron2_config"
   ]
  },
  {
   "cell_type": "code",
   "execution_count": 5,
   "metadata": {
    "scrolled": true
   },
   "outputs": [
    {
     "name": "stdout",
     "output_type": "stream",
     "text": [
      "WARNING:tensorflow:From /Users/huseinzolkepli/Documents/malaya-speech/malaya_speech/train/model/fastspeech/layer.py:11: The name tf.keras.initializers.TruncatedNormal is deprecated. Please use tf.compat.v1.keras.initializers.TruncatedNormal instead.\n",
      "\n",
      "WARNING:tensorflow:From /Library/Frameworks/Python.framework/Versions/3.7/lib/python3.7/site-packages/tensorflow_core/python/keras/initializers.py:94: calling TruncatedNormal.__init__ (from tensorflow.python.ops.init_ops) with dtype is deprecated and will be removed in a future version.\n",
      "Instructions for updating:\n",
      "Call initializer instance with the dtype argument instead of passing it to the constructor\n",
      "WARNING:tensorflow:From /Library/Frameworks/Python.framework/Versions/3.7/lib/python3.7/site-packages/tensorflow_core/python/ops/init_ops.py:97: calling GlorotUniform.__init__ (from tensorflow.python.ops.init_ops) with dtype is deprecated and will be removed in a future version.\n",
      "Instructions for updating:\n",
      "Call initializer instance with the dtype argument instead of passing it to the constructor\n",
      "WARNING:tensorflow:From /Library/Frameworks/Python.framework/Versions/3.7/lib/python3.7/site-packages/tensorflow_core/python/ops/init_ops.py:97: calling Orthogonal.__init__ (from tensorflow.python.ops.init_ops) with dtype is deprecated and will be removed in a future version.\n",
      "Instructions for updating:\n",
      "Call initializer instance with the dtype argument instead of passing it to the constructor\n",
      "WARNING:tensorflow:From /Library/Frameworks/Python.framework/Versions/3.7/lib/python3.7/site-packages/tensorflow_core/python/ops/init_ops.py:97: calling Zeros.__init__ (from tensorflow.python.ops.init_ops) with dtype is deprecated and will be removed in a future version.\n",
      "Instructions for updating:\n",
      "Call initializer instance with the dtype argument instead of passing it to the constructor\n"
     ]
    }
   ],
   "source": [
    "model = tacotron2.Model(tacotron2.Config(vocab_size = 20, **tacotron2_config))"
   ]
  },
  {
   "cell_type": "code",
   "execution_count": 6,
   "metadata": {},
   "outputs": [],
   "source": [
    "input_ids = tf.placeholder(tf.int32, [None, None])\n",
    "input_lengths = tf.placeholder(tf.int32, [None])\n",
    "speaker_ids = tf.constant([0], dtype = tf.int32)\n",
    "mel_outputs = tf.placeholder(tf.float32, [None, None, 80])\n",
    "mel_lengths = tf.placeholder(tf.int32, [None])\n",
    "mel_actuals = tf.placeholder(tf.float32, [None, None, 80])"
   ]
  },
  {
   "cell_type": "code",
   "execution_count": 7,
   "metadata": {},
   "outputs": [
    {
     "data": {
      "text/plain": [
       "<tf.Tensor 'ExpandDims:0' shape=(1, ?, ?) dtype=float32>"
      ]
     },
     "execution_count": 7,
     "metadata": {},
     "output_type": "execute_result"
    }
   ],
   "source": [
    "guided = tacotron2.generate_guided_attention(mel_lengths[0], input_lengths[0])\n",
    "guided = tf.expand_dims(guided, 0)\n",
    "guided"
   ]
  },
  {
   "cell_type": "code",
   "execution_count": 8,
   "metadata": {},
   "outputs": [
    {
     "data": {
      "text/plain": [
       "TensorShape([])"
      ]
     },
     "execution_count": 8,
     "metadata": {},
     "output_type": "execute_result"
    }
   ],
   "source": [
    "model.decoder.sampler.sample_ids_shape"
   ]
  },
  {
   "cell_type": "code",
   "execution_count": 9,
   "metadata": {
    "scrolled": true
   },
   "outputs": [
    {
     "name": "stdout",
     "output_type": "stream",
     "text": [
      "WARNING:tensorflow:From /Users/huseinzolkepli/Documents/malaya-speech/malaya_speech/train/model/tacotron2/model.py:109: The name tf.get_variable is deprecated. Please use tf.compat.v1.get_variable instead.\n",
      "\n",
      "WARNING:tensorflow:From /Library/Frameworks/Python.framework/Versions/3.7/lib/python3.7/site-packages/tensorflow_core/python/ops/resource_variable_ops.py:1630: calling BaseResourceVariable.__init__ (from tensorflow.python.ops.resource_variable_ops) with constraint is deprecated and will be removed in a future version.\n",
      "Instructions for updating:\n",
      "If using Keras pass *_constraint arguments to layers.\n",
      "WARNING:tensorflow:From /Library/Frameworks/Python.framework/Versions/3.7/lib/python3.7/site-packages/tensorflow_core/python/keras/backend.py:3994: where (from tensorflow.python.ops.array_ops) is deprecated and will be removed in a future version.\n",
      "Instructions for updating:\n",
      "Use tf.where in 2.0, which has the same broadcast rule as np.where\n",
      "WARNING:tensorflow:From /Library/Frameworks/Python.framework/Versions/3.7/lib/python3.7/site-packages/tensorflow_core/python/autograph/converters/directives.py:119: The name tf.debugging.assert_greater is deprecated. Please use tf.compat.v1.debugging.assert_greater instead.\n",
      "\n",
      "WARNING:tensorflow:From /Library/Frameworks/Python.framework/Versions/3.7/lib/python3.7/site-packages/tensorflow_core/python/autograph/converters/directives.py:119: The name tf.debugging.assert_positive is deprecated. Please use tf.compat.v1.debugging.assert_positive instead.\n",
      "\n"
     ]
    },
    {
     "data": {
      "text/plain": [
       "(<tf.Tensor 'model/Reshape:0' shape=(?, ?, 80) dtype=float32>,\n",
       " <tf.Tensor 'model/add:0' shape=(?, ?, 80) dtype=float32>,\n",
       " <tf.Tensor 'model/Reshape_1:0' shape=(?, ?) dtype=float32>,\n",
       " <tf.Tensor 'model/transpose:0' shape=(?, ?, ?) dtype=float32>)"
      ]
     },
     "execution_count": 9,
     "metadata": {},
     "output_type": "execute_result"
    }
   ],
   "source": [
    "r = model(input_ids, input_lengths, speaker_ids, mel_outputs, mel_lengths,\n",
    "          training = True)\n",
    "r"
   ]
  },
  {
   "cell_type": "code",
   "execution_count": 10,
   "metadata": {},
   "outputs": [],
   "source": [
    "from malaya_speech.train.loss import calculate_2d_loss, calculate_3d_loss"
   ]
  },
  {
   "cell_type": "code",
   "execution_count": 11,
   "metadata": {},
   "outputs": [],
   "source": [
    "binary_crossentropy = tf.keras.losses.BinaryCrossentropy(\n",
    "    from_logits=True\n",
    ")\n",
    "mse = tf.keras.losses.MeanSquaredError()\n",
    "mae = tf.keras.losses.MeanAbsoluteError()\n",
    "decoder_output, post_mel_outputs, stop_token_predictions, alignment_histories = r\n",
    "mel_loss_before = calculate_3d_loss(\n",
    "    mel_actuals, decoder_output, loss_fn=mae\n",
    ")\n",
    "mel_loss_after = calculate_3d_loss(\n",
    "    mel_actuals, post_mel_outputs, loss_fn=mae\n",
    ")\n",
    "max_mel_length = tf.reduce_max(mel_lengths)\n",
    "stop_gts = tf.expand_dims(\n",
    "    tf.range(tf.reduce_max(max_mel_length), dtype=tf.int32), 0\n",
    ")\n",
    "stop_gts = tf.tile(\n",
    "    stop_gts, [tf.shape(mel_lengths)[0], 1]\n",
    ")\n",
    "stop_gts = tf.cast(\n",
    "    tf.math.greater_equal(stop_gts, tf.expand_dims(mel_lengths, 1)),\n",
    "    tf.float32,\n",
    ")\n",
    "stop_token_loss = calculate_2d_loss(\n",
    "    stop_gts, stop_token_predictions, loss_fn=binary_crossentropy\n",
    ")\n",
    "attention_masks = tf.cast(\n",
    "    tf.math.not_equal(guided, -1.0), tf.float32\n",
    ")\n",
    "loss_att = tf.reduce_sum(\n",
    "    tf.abs(alignment_histories * guided) * attention_masks,\n",
    "    axis=[1, 2],\n",
    ")\n",
    "loss_att /= tf.reduce_sum(attention_masks, axis=[1, 2])"
   ]
  },
  {
   "cell_type": "code",
   "execution_count": 12,
   "metadata": {},
   "outputs": [
    {
     "data": {
      "text/plain": [
       "<tf.Tensor 'truediv_3:0' shape=(?,) dtype=float32>"
      ]
     },
     "execution_count": 12,
     "metadata": {},
     "output_type": "execute_result"
    }
   ],
   "source": [
    "loss_att"
   ]
  },
  {
   "cell_type": "code",
   "execution_count": 13,
   "metadata": {},
   "outputs": [],
   "source": [
    "loss = stop_token_loss + mel_loss_before + mel_loss_after + loss_att"
   ]
  },
  {
   "cell_type": "code",
   "execution_count": 14,
   "metadata": {},
   "outputs": [
    {
     "data": {
      "text/plain": [
       "(<tf.Tensor 'binary_crossentropy/weighted_loss/value:0' shape=() dtype=float32>,\n",
       " <tf.Tensor 'mean_absolute_error/weighted_loss/value:0' shape=() dtype=float32>,\n",
       " <tf.Tensor 'mean_absolute_error_1/weighted_loss/value:0' shape=() dtype=float32>,\n",
       " <tf.Tensor 'truediv_3:0' shape=(?,) dtype=float32>)"
      ]
     },
     "execution_count": 14,
     "metadata": {},
     "output_type": "execute_result"
    }
   ],
   "source": [
    "stop_token_loss, mel_loss_before, mel_loss_after, loss_att"
   ]
  },
  {
   "cell_type": "code",
   "execution_count": 15,
   "metadata": {},
   "outputs": [],
   "source": [
    "# r = model.inference(input_ids, input_lengths, speaker_ids)\n",
    "# r"
   ]
  },
  {
   "cell_type": "code",
   "execution_count": 16,
   "metadata": {},
   "outputs": [],
   "source": [
    "sess = tf.InteractiveSession()\n",
    "sess.run(tf.global_variables_initializer())"
   ]
  },
  {
   "cell_type": "code",
   "execution_count": 17,
   "metadata": {},
   "outputs": [
    {
     "data": {
      "text/plain": [
       "(1, 50, 80)"
      ]
     },
     "execution_count": 17,
     "metadata": {},
     "output_type": "execute_result"
    }
   ],
   "source": [
    "sess.run(decoder_output, feed_dict = {input_ids: [[1, 2, 3, 4, 5, 6, 7, 8, 9]],\n",
    "                        input_lengths: [9],\n",
    "                        mel_outputs: np.random.normal(size=(1, 50, 80)).astype(np.float32),\n",
    "                        mel_lengths: [50]}).shape"
   ]
  },
  {
   "cell_type": "code",
   "execution_count": 18,
   "metadata": {},
   "outputs": [
    {
     "data": {
      "text/plain": [
       "(array([[[-0.11382592,  0.0732545 ,  0.04485669, ...,  0.09013113,\n",
       "          -0.21664351, -0.04672818],\n",
       "         [-0.11875968,  0.06425743,  0.04787014, ...,  0.08690421,\n",
       "          -0.2371212 , -0.05424692],\n",
       "         [-0.13116169,  0.06764184,  0.0552553 , ...,  0.10070872,\n",
       "          -0.26656586, -0.04657447],\n",
       "         ...,\n",
       "         [-0.12151609,  0.04864427,  0.10907146, ...,  0.12622261,\n",
       "          -0.25970075,  0.08423003],\n",
       "         [-0.12099901,  0.04604919,  0.10295135, ...,  0.1518519 ,\n",
       "          -0.25127554,  0.07754198],\n",
       "         [-0.13414504,  0.04773312,  0.11759821, ...,  0.15562572,\n",
       "          -0.24924892,  0.07786167]]], dtype=float32),\n",
       " array([[[ 0.21123096,  2.3043604 ,  1.139266  , ...,  1.2281991 ,\n",
       "           0.4750411 , -1.4954544 ],\n",
       "         [-1.1904228 , -0.87330544,  2.2773383 , ..., -0.90633804,\n",
       "           0.58156884,  0.10208811],\n",
       "         [-0.561256  ,  1.5436116 ,  1.7029971 , ...,  0.39460045,\n",
       "          -0.24453676,  0.6678373 ],\n",
       "         ...,\n",
       "         [ 2.3114042 ,  0.8935889 ,  0.54756975, ...,  0.9634043 ,\n",
       "           0.6794683 , -1.8590695 ],\n",
       "         [ 1.9010679 ,  1.5382596 , -0.5362953 , ...,  0.21088983,\n",
       "           0.26735896,  0.02563176],\n",
       "         [-0.59201807,  0.69174534, -0.57350194, ..., -1.1887375 ,\n",
       "          -1.8124733 , -0.8512526 ]]], dtype=float32),\n",
       " array([[0.05334161, 0.07553756, 0.09746031, 0.09516881, 0.08245078,\n",
       "         0.07768506, 0.09017581, 0.08714408, 0.09213299, 0.09051199,\n",
       "         0.07163595, 0.05144656, 0.05222927, 0.0522822 , 0.05351216,\n",
       "         0.06178556, 0.07491593, 0.08037067, 0.08258331, 0.07643332,\n",
       "         0.07253796, 0.06635943, 0.07790752, 0.08773646, 0.10547103,\n",
       "         0.12599683, 0.13269216, 0.11916713, 0.11276888, 0.12346631,\n",
       "         0.12919983, 0.15136148, 0.15813495, 0.1611189 , 0.16490403,\n",
       "         0.15465753, 0.14960289, 0.14550874, 0.149169  , 0.16036427,\n",
       "         0.16175236, 0.15808976, 0.16222258, 0.15142773, 0.14694259,\n",
       "         0.13940912, 0.11564438, 0.10082997, 0.10730131, 0.12184256]],\n",
       "       dtype=float32),\n",
       " array([[[0.12341765, 0.12204962, 0.12058752, 0.11930889, 0.11833163,\n",
       "          0.11783969, 0.11856728, 0.11971156, 0.11978764, 0.11930626,\n",
       "          0.11852595, 0.11705536, 0.11672067, 0.11731418, 0.11647213,\n",
       "          0.11652405, 0.11499509, 0.1172861 , 0.11856233, 0.11764131,\n",
       "          0.11610065, 0.11821919, 0.11580364, 0.1181255 , 0.11861793,\n",
       "          0.11880863, 0.11465426, 0.11454674, 0.11363896, 0.11183667,\n",
       "          0.11451625, 0.11277108, 0.11227351, 0.11040183, 0.11167114,\n",
       "          0.1117499 , 0.11265971, 0.11327452, 0.11311184, 0.11708408,\n",
       "          0.11648683, 0.11811159, 0.11549176, 0.11530387, 0.11513115,\n",
       "          0.11488558, 0.11569061, 0.11352711, 0.11448864, 0.11645529],\n",
       "         [0.15630409, 0.1559932 , 0.15656056, 0.15701522, 0.15887496,\n",
       "          0.15739752, 0.157941  , 0.15809572, 0.15960886, 0.15842518,\n",
       "          0.15965122, 0.15916163, 0.16016977, 0.15968506, 0.1592753 ,\n",
       "          0.15828542, 0.15783983, 0.1608996 , 0.16277379, 0.16140187,\n",
       "          0.16015315, 0.16219534, 0.16198857, 0.16599795, 0.16673142,\n",
       "          0.16941471, 0.16213967, 0.16413186, 0.16473198, 0.16185841,\n",
       "          0.16432686, 0.16540189, 0.16436714, 0.16500245, 0.1658979 ,\n",
       "          0.16506277, 0.16519345, 0.16409156, 0.16478123, 0.17239389,\n",
       "          0.17251278, 0.17502728, 0.17097263, 0.17148043, 0.16695179,\n",
       "          0.17059562, 0.17657837, 0.17326568, 0.17255694, 0.17245077],\n",
       "         [0.13039126, 0.13082324, 0.13159141, 0.131986  , 0.13297337,\n",
       "          0.13228388, 0.13029875, 0.12937804, 0.13015705, 0.12931809,\n",
       "          0.13043581, 0.13044009, 0.13019802, 0.12998341, 0.13056578,\n",
       "          0.12948671, 0.1295286 , 0.1291203 , 0.12956958, 0.12939392,\n",
       "          0.12883787, 0.12947969, 0.12831916, 0.12904632, 0.13027407,\n",
       "          0.13128991, 0.129952  , 0.13022819, 0.12941131, 0.12747574,\n",
       "          0.12739833, 0.12869324, 0.12840903, 0.12890022, 0.1280204 ,\n",
       "          0.12794892, 0.12650208, 0.12507987, 0.1261207 , 0.12867706,\n",
       "          0.12759206, 0.12798092, 0.12683024, 0.12742718, 0.12491576,\n",
       "          0.12636109, 0.12864712, 0.12735952, 0.12763304, 0.12903255],\n",
       "         [0.112921  , 0.1128971 , 0.11449379, 0.11498025, 0.11501666,\n",
       "          0.11485121, 0.11270493, 0.11311162, 0.11460594, 0.11597919,\n",
       "          0.11622279, 0.11563886, 0.1173652 , 0.11608095, 0.11654802,\n",
       "          0.11632822, 0.11629226, 0.1156637 , 0.11525451, 0.11528035,\n",
       "          0.11584784, 0.11448447, 0.11387587, 0.11440033, 0.1138821 ,\n",
       "          0.11429651, 0.11529371, 0.11628006, 0.11537077, 0.11403202,\n",
       "          0.11642774, 0.11307756, 0.11412743, 0.11135011, 0.11233898,\n",
       "          0.11448476, 0.11517851, 0.11583883, 0.11681062, 0.11683617,\n",
       "          0.1159813 , 0.1162663 , 0.1177012 , 0.1170233 , 0.11731543,\n",
       "          0.1185744 , 0.11914814, 0.11738063, 0.11572531, 0.11973133],\n",
       "         [0.11161195, 0.113653  , 0.11476777, 0.11544205, 0.11585182,\n",
       "          0.1159751 , 0.11551124, 0.11548249, 0.11582969, 0.11747073,\n",
       "          0.11757272, 0.11814686, 0.11823051, 0.11861635, 0.119128  ,\n",
       "          0.12016733, 0.12118091, 0.11744931, 0.11852449, 0.12147971,\n",
       "          0.1225865 , 0.12057438, 0.12075147, 0.11797091, 0.11893062,\n",
       "          0.11833356, 0.12192099, 0.12165894, 0.12204976, 0.12520394,\n",
       "          0.1237288 , 0.12043573, 0.11950165, 0.11890782, 0.12026341,\n",
       "          0.12208162, 0.12268981, 0.12361276, 0.12301854, 0.11771093,\n",
       "          0.11869788, 0.11681025, 0.11728927, 0.11791645, 0.12189491,\n",
       "          0.1185789 , 0.11451075, 0.12019004, 0.11649444, 0.11636602],\n",
       "         [0.09450547, 0.09484681, 0.09441184, 0.09388921, 0.0932394 ,\n",
       "          0.09529837, 0.09602734, 0.09569494, 0.09458797, 0.09451672,\n",
       "          0.09473901, 0.09520265, 0.09505802, 0.09509865, 0.09543841,\n",
       "          0.09549232, 0.09661017, 0.09485815, 0.09301709, 0.09345721,\n",
       "          0.09534654, 0.09566376, 0.09644978, 0.09517317, 0.09473844,\n",
       "          0.09358205, 0.09760366, 0.09684035, 0.0972216 , 0.09947812,\n",
       "          0.09758306, 0.09526055, 0.096508  , 0.09729368, 0.09640345,\n",
       "          0.09590493, 0.09551769, 0.0944983 , 0.09594464, 0.09404374,\n",
       "          0.09693439, 0.09533013, 0.09809981, 0.09781354, 0.0977231 ,\n",
       "          0.0976317 , 0.0955971 , 0.09664928, 0.09415222, 0.09065441],\n",
       "         [0.05246695, 0.05314305, 0.0531561 , 0.05339308, 0.05374235,\n",
       "          0.05440306, 0.0551393 , 0.05497373, 0.05496477, 0.05544365,\n",
       "          0.0551001 , 0.05587671, 0.05600536, 0.0566252 , 0.0574558 ,\n",
       "          0.05770598, 0.05828425, 0.05816883, 0.05849244, 0.05859714,\n",
       "          0.05882896, 0.05865687, 0.06016686, 0.05836843, 0.05917944,\n",
       "          0.05938258, 0.06043998, 0.06082386, 0.06172811, 0.0625354 ,\n",
       "          0.0606494 , 0.06402345, 0.06475426, 0.06695469, 0.06636766,\n",
       "          0.06515609, 0.06428081, 0.06397279, 0.06389193, 0.06369317,\n",
       "          0.06457713, 0.06301586, 0.06410516, 0.06450303, 0.06646129,\n",
       "          0.06605587, 0.06492048, 0.06775828, 0.06936231, 0.0657005 ],\n",
       "         [0.07239048, 0.07168207, 0.07105362, 0.0704525 , 0.06980974,\n",
       "          0.06953837, 0.06991193, 0.06922134, 0.06831852, 0.0676107 ,\n",
       "          0.06749879, 0.06758303, 0.06648492, 0.06613143, 0.06582027,\n",
       "          0.06607566, 0.06547818, 0.06526649, 0.06426188, 0.06367177,\n",
       "          0.06300841, 0.06231122, 0.06196664, 0.0605768 , 0.06039707,\n",
       "          0.05964193, 0.06037013, 0.06022445, 0.05982946, 0.05959793,\n",
       "          0.05849481, 0.06016613, 0.06044386, 0.06110788, 0.0600739 ,\n",
       "          0.05926771, 0.05872485, 0.05850029, 0.0572082 , 0.05590609,\n",
       "          0.05583358, 0.05507301, 0.05567293, 0.05640414, 0.05698317,\n",
       "          0.05551311, 0.05426124, 0.05501816, 0.05606703, 0.0542151 ],\n",
       "         [0.14599118, 0.14491186, 0.14337735, 0.14353272, 0.14216004,\n",
       "          0.14241281, 0.14389817, 0.14433055, 0.14213957, 0.14192949,\n",
       "          0.1402536 , 0.14089482, 0.13976757, 0.14046477, 0.13929628,\n",
       "          0.13993433, 0.13979073, 0.14128743, 0.13954385, 0.1390767 ,\n",
       "          0.13929005, 0.1384151 , 0.14067797, 0.14034066, 0.13724883,\n",
       "          0.1352502 , 0.13762556, 0.13526559, 0.1360181 , 0.13798182,\n",
       "          0.13687484, 0.14017025, 0.1396151 , 0.1400813 , 0.13896327,\n",
       "          0.13834333, 0.13925306, 0.14113106, 0.13911231, 0.13365492,\n",
       "          0.13138403, 0.13238473, 0.13383703, 0.13212806, 0.13262346,\n",
       "          0.1318038 , 0.13064615, 0.12885137, 0.13352   , 0.13539407]]],\n",
       "       dtype=float32))"
      ]
     },
     "execution_count": 18,
     "metadata": {},
     "output_type": "execute_result"
    }
   ],
   "source": [
    "sess.run(r, feed_dict = {input_ids: [[1, 2, 3, 4, 5, 6, 7, 8, 9]],\n",
    "                        input_lengths: [9],\n",
    "                        mel_outputs: np.random.normal(size=(1, 50, 80)).astype(np.float32),\n",
    "                        mel_lengths: [50]})"
   ]
  },
  {
   "cell_type": "code",
   "execution_count": 19,
   "metadata": {},
   "outputs": [
    {
     "data": {
      "text/plain": [
       "array([3.019963], dtype=float32)"
      ]
     },
     "execution_count": 19,
     "metadata": {},
     "output_type": "execute_result"
    }
   ],
   "source": [
    "sess.run(loss, feed_dict = {input_ids: [[1, 2, 3, 4, 5, 6, 7, 8, 9]],\n",
    "                        input_lengths: [9],\n",
    "                        mel_outputs: np.random.normal(size=(1, 50, 80)).astype(np.float32),\n",
    "                        mel_actuals: np.random.normal(size=(1, 50, 80)).astype(np.float32),\n",
    "                        mel_lengths: [50]})"
   ]
  },
  {
   "cell_type": "code",
   "execution_count": 20,
   "metadata": {},
   "outputs": [
    {
     "data": {
      "text/plain": [
       "array([2.9758494, 2.9766133], dtype=float32)"
      ]
     },
     "execution_count": 20,
     "metadata": {},
     "output_type": "execute_result"
    }
   ],
   "source": [
    "sess.run(loss, feed_dict = {input_ids: [[1, 2, 3, 4, 5, 6, 7, 8, 9],\n",
    "                                       [1, 2, 3, 4, 5, 6, 7, 8, 9]],\n",
    "                        input_lengths: [9, 9],\n",
    "                        mel_outputs: np.random.normal(size=(2, 50, 80)).astype(np.float32),\n",
    "                        mel_actuals: np.random.normal(size=(2, 50, 80)).astype(np.float32),\n",
    "                        mel_lengths: [50, 50]})"
   ]
  },
  {
   "cell_type": "code",
   "execution_count": 21,
   "metadata": {},
   "outputs": [
    {
     "data": {
      "text/plain": [
       "(1, 9, 50)"
      ]
     },
     "execution_count": 21,
     "metadata": {},
     "output_type": "execute_result"
    }
   ],
   "source": [
    "sess.run(guided, feed_dict = {input_ids: [[1, 2, 3, 4, 5, 6, 7, 8, 9]],\n",
    "                        input_lengths: [9],\n",
    "                        mel_outputs: np.random.normal(size=(1, 50, 80)).astype(np.float32),\n",
    "                        mel_actuals: np.random.normal(size=(1, 50, 80)).astype(np.float32),\n",
    "                        mel_lengths: [50]}).shape"
   ]
  }
 ],
 "metadata": {
  "kernelspec": {
   "display_name": "Python 3",
   "language": "python",
   "name": "python3"
  },
  "language_info": {
   "codemirror_mode": {
    "name": "ipython",
    "version": 3
   },
   "file_extension": ".py",
   "mimetype": "text/x-python",
   "name": "python",
   "nbconvert_exporter": "python",
   "pygments_lexer": "ipython3",
   "version": "3.7.7"
  }
 },
 "nbformat": 4,
 "nbformat_minor": 4
}

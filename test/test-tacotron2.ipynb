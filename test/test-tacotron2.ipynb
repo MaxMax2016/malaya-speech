{
 "cells": [
  {
   "cell_type": "code",
   "execution_count": 1,
   "metadata": {},
   "outputs": [],
   "source": [
    "import os\n",
    "\n",
    "os.environ['CUDA_VISIBLE_DEVICES'] = '1'"
   ]
  },
  {
   "cell_type": "code",
   "execution_count": 2,
   "metadata": {},
   "outputs": [],
   "source": [
    "import sys\n",
    "\n",
    "SOURCE_DIR = os.path.dirname(os.path.dirname(os.path.abspath(__name__)))\n",
    "sys.path.insert(0, SOURCE_DIR)"
   ]
  },
  {
   "cell_type": "code",
   "execution_count": 3,
   "metadata": {},
   "outputs": [
    {
     "name": "stdout",
     "output_type": "stream",
     "text": [
      "WARNING:tensorflow:From /Users/huseinzolkepli/Documents/malaya-speech/malaya_speech/train/optimizer/__init__.py:35: The name tf.train.AdagradOptimizer is deprecated. Please use tf.compat.v1.train.AdagradOptimizer instead.\n",
      "\n",
      "WARNING:tensorflow:From /Users/huseinzolkepli/Documents/malaya-speech/malaya_speech/train/optimizer/__init__.py:36: The name tf.train.AdamOptimizer is deprecated. Please use tf.compat.v1.train.AdamOptimizer instead.\n",
      "\n",
      "WARNING:tensorflow:From /Users/huseinzolkepli/Documents/malaya-speech/malaya_speech/train/optimizer/__init__.py:37: The name tf.train.FtrlOptimizer is deprecated. Please use tf.compat.v1.train.FtrlOptimizer instead.\n",
      "\n",
      "WARNING:tensorflow:From /Users/huseinzolkepli/Documents/malaya-speech/malaya_speech/train/optimizer/__init__.py:39: The name tf.train.RMSPropOptimizer is deprecated. Please use tf.compat.v1.train.RMSPropOptimizer instead.\n",
      "\n",
      "WARNING:tensorflow:From /Users/huseinzolkepli/Documents/malaya-speech/malaya_speech/train/optimizer/__init__.py:40: The name tf.train.GradientDescentOptimizer is deprecated. Please use tf.compat.v1.train.GradientDescentOptimizer instead.\n",
      "\n",
      "WARNING:tensorflow:\n",
      "The TensorFlow contrib module will not be included in TensorFlow 2.0.\n",
      "For more information, please see:\n",
      "  * https://github.com/tensorflow/community/blob/master/rfcs/20180907-contrib-sunset.md\n",
      "  * https://github.com/tensorflow/addons\n",
      "  * https://github.com/tensorflow/io (for I/O related ops)\n",
      "If you depend on functionality not listed there, please file an issue.\n",
      "\n",
      "WARNING:tensorflow:From /Users/huseinzolkepli/Documents/malaya-speech/malaya_speech/train/model/quartznet/layer.py:6: The name tf.layers.Conv1D is deprecated. Please use tf.compat.v1.layers.Conv1D instead.\n",
      "\n"
     ]
    }
   ],
   "source": [
    "import tensorflow as tf\n",
    "import malaya_speech\n",
    "import malaya_speech.train\n",
    "from malaya_speech.train.model import tacotron2\n",
    "import malaya_speech.config\n",
    "import numpy as np"
   ]
  },
  {
   "cell_type": "code",
   "execution_count": 4,
   "metadata": {},
   "outputs": [],
   "source": [
    "tacotron2_config = malaya_speech.config.tacotron2_config"
   ]
  },
  {
   "cell_type": "code",
   "execution_count": 5,
   "metadata": {
    "scrolled": true
   },
   "outputs": [
    {
     "name": "stdout",
     "output_type": "stream",
     "text": [
      "WARNING:tensorflow:From /Users/huseinzolkepli/Documents/malaya-speech/malaya_speech/train/model/fastspeech/layer.py:11: The name tf.keras.initializers.TruncatedNormal is deprecated. Please use tf.compat.v1.keras.initializers.TruncatedNormal instead.\n",
      "\n",
      "WARNING:tensorflow:From /Library/Frameworks/Python.framework/Versions/3.7/lib/python3.7/site-packages/tensorflow_core/python/keras/initializers.py:94: calling TruncatedNormal.__init__ (from tensorflow.python.ops.init_ops) with dtype is deprecated and will be removed in a future version.\n",
      "Instructions for updating:\n",
      "Call initializer instance with the dtype argument instead of passing it to the constructor\n",
      "WARNING:tensorflow:From /Library/Frameworks/Python.framework/Versions/3.7/lib/python3.7/site-packages/tensorflow_core/python/ops/init_ops.py:97: calling GlorotUniform.__init__ (from tensorflow.python.ops.init_ops) with dtype is deprecated and will be removed in a future version.\n",
      "Instructions for updating:\n",
      "Call initializer instance with the dtype argument instead of passing it to the constructor\n",
      "WARNING:tensorflow:From /Library/Frameworks/Python.framework/Versions/3.7/lib/python3.7/site-packages/tensorflow_core/python/ops/init_ops.py:97: calling Orthogonal.__init__ (from tensorflow.python.ops.init_ops) with dtype is deprecated and will be removed in a future version.\n",
      "Instructions for updating:\n",
      "Call initializer instance with the dtype argument instead of passing it to the constructor\n",
      "WARNING:tensorflow:From /Library/Frameworks/Python.framework/Versions/3.7/lib/python3.7/site-packages/tensorflow_core/python/ops/init_ops.py:97: calling Zeros.__init__ (from tensorflow.python.ops.init_ops) with dtype is deprecated and will be removed in a future version.\n",
      "Instructions for updating:\n",
      "Call initializer instance with the dtype argument instead of passing it to the constructor\n"
     ]
    }
   ],
   "source": [
    "model = tacotron2.Model(tacotron2.Config(vocab_size = 20, **tacotron2_config))"
   ]
  },
  {
   "cell_type": "code",
   "execution_count": 6,
   "metadata": {},
   "outputs": [],
   "source": [
    "input_ids = tf.placeholder(tf.int32, [None, None])\n",
    "input_lengths = tf.placeholder(tf.int32, [None])\n",
    "speaker_ids = tf.constant([0], dtype = tf.int32)\n",
    "mel_outputs = tf.placeholder(tf.float32, [None, None, 80])\n",
    "mel_lengths = tf.placeholder(tf.int32, [None])\n",
    "mel_actuals = tf.placeholder(tf.float32, [None, None, 80])"
   ]
  },
  {
   "cell_type": "code",
   "execution_count": 7,
   "metadata": {},
   "outputs": [
    {
     "data": {
      "text/plain": [
       "<tf.Tensor 'ExpandDims:0' shape=(1, ?, ?) dtype=float32>"
      ]
     },
     "execution_count": 7,
     "metadata": {},
     "output_type": "execute_result"
    }
   ],
   "source": [
    "guided = tacotron2.generate_guided_attention(mel_lengths[0], input_lengths[0])\n",
    "guided = tf.expand_dims(guided, 0)\n",
    "guided"
   ]
  },
  {
   "cell_type": "code",
   "execution_count": 8,
   "metadata": {},
   "outputs": [
    {
     "data": {
      "text/plain": [
       "TensorShape([])"
      ]
     },
     "execution_count": 8,
     "metadata": {},
     "output_type": "execute_result"
    }
   ],
   "source": [
    "model.decoder.sampler.sample_ids_shape"
   ]
  },
  {
   "cell_type": "code",
   "execution_count": 9,
   "metadata": {
    "scrolled": true
   },
   "outputs": [
    {
     "name": "stdout",
     "output_type": "stream",
     "text": [
      "WARNING:tensorflow:From /Users/huseinzolkepli/Documents/malaya-speech/malaya_speech/train/model/tacotron2/model.py:109: The name tf.get_variable is deprecated. Please use tf.compat.v1.get_variable instead.\n",
      "\n",
      "WARNING:tensorflow:From /Library/Frameworks/Python.framework/Versions/3.7/lib/python3.7/site-packages/tensorflow_core/python/ops/resource_variable_ops.py:1630: calling BaseResourceVariable.__init__ (from tensorflow.python.ops.resource_variable_ops) with constraint is deprecated and will be removed in a future version.\n",
      "Instructions for updating:\n",
      "If using Keras pass *_constraint arguments to layers.\n",
      "WARNING:tensorflow:From /Library/Frameworks/Python.framework/Versions/3.7/lib/python3.7/site-packages/tensorflow_core/python/keras/backend.py:3994: where (from tensorflow.python.ops.array_ops) is deprecated and will be removed in a future version.\n",
      "Instructions for updating:\n",
      "Use tf.where in 2.0, which has the same broadcast rule as np.where\n",
      "WARNING:tensorflow:From /Library/Frameworks/Python.framework/Versions/3.7/lib/python3.7/site-packages/tensorflow_core/python/autograph/converters/directives.py:119: The name tf.debugging.assert_greater is deprecated. Please use tf.compat.v1.debugging.assert_greater instead.\n",
      "\n",
      "WARNING:tensorflow:From /Library/Frameworks/Python.framework/Versions/3.7/lib/python3.7/site-packages/tensorflow_core/python/autograph/converters/directives.py:119: The name tf.debugging.assert_positive is deprecated. Please use tf.compat.v1.debugging.assert_positive instead.\n",
      "\n"
     ]
    },
    {
     "data": {
      "text/plain": [
       "(<tf.Tensor 'model/Reshape:0' shape=(?, ?, 80) dtype=float32>,\n",
       " <tf.Tensor 'model/add:0' shape=(?, ?, 80) dtype=float32>,\n",
       " <tf.Tensor 'model/Reshape_1:0' shape=(?, ?) dtype=float32>,\n",
       " <tf.Tensor 'model/transpose:0' shape=(?, ?, ?) dtype=float32>)"
      ]
     },
     "execution_count": 9,
     "metadata": {},
     "output_type": "execute_result"
    }
   ],
   "source": [
    "r = model(input_ids, input_lengths, speaker_ids, mel_outputs, mel_lengths,\n",
    "          training = True)\n",
    "r"
   ]
  },
  {
   "cell_type": "code",
   "execution_count": 10,
   "metadata": {},
   "outputs": [],
   "source": [
    "from malaya_speech.train.loss import calculate_2d_loss, calculate_3d_loss"
   ]
  },
  {
   "cell_type": "code",
   "execution_count": 11,
   "metadata": {},
   "outputs": [],
   "source": [
    "binary_crossentropy = tf.keras.losses.BinaryCrossentropy(\n",
    "    from_logits=True\n",
    ")\n",
    "mse = tf.keras.losses.MeanSquaredError()\n",
    "mae = tf.keras.losses.MeanAbsoluteError()\n",
    "decoder_output, post_mel_outputs, stop_token_predictions, alignment_histories = r\n",
    "mel_loss_before = calculate_3d_loss(\n",
    "    mel_actuals, decoder_output, loss_fn=mae\n",
    ")\n",
    "mel_loss_after = calculate_3d_loss(\n",
    "    mel_actuals, post_mel_outputs, loss_fn=mae\n",
    ")\n",
    "max_mel_length = tf.reduce_max(mel_lengths)\n",
    "stop_gts = tf.expand_dims(\n",
    "    tf.range(tf.reduce_max(max_mel_length), dtype=tf.int32), 0\n",
    ")\n",
    "stop_gts = tf.tile(\n",
    "    stop_gts, [tf.shape(mel_lengths)[0], 1]\n",
    ")\n",
    "stop_gts = tf.cast(\n",
    "    tf.math.greater_equal(stop_gts, tf.expand_dims(mel_lengths, 1)),\n",
    "    tf.float32,\n",
    ")\n",
    "stop_token_loss = calculate_2d_loss(\n",
    "    stop_gts, stop_token_predictions, loss_fn=binary_crossentropy\n",
    ")\n",
    "attention_masks = tf.cast(\n",
    "    tf.math.not_equal(guided, -1.0), tf.float32\n",
    ")\n",
    "loss_att = tf.reduce_sum(\n",
    "    tf.abs(alignment_histories * guided) * attention_masks,\n",
    "    axis=[1, 2],\n",
    ")\n",
    "loss_att /= tf.reduce_sum(attention_masks, axis=[1, 2])"
   ]
  },
  {
   "cell_type": "code",
   "execution_count": 12,
   "metadata": {},
   "outputs": [
    {
     "data": {
      "text/plain": [
       "<tf.Tensor 'truediv_3:0' shape=(?,) dtype=float32>"
      ]
     },
     "execution_count": 12,
     "metadata": {},
     "output_type": "execute_result"
    }
   ],
   "source": [
    "loss_att"
   ]
  },
  {
   "cell_type": "code",
   "execution_count": 13,
   "metadata": {},
   "outputs": [],
   "source": [
    "loss = stop_token_loss + mel_loss_before + mel_loss_after + loss_att"
   ]
  },
  {
   "cell_type": "code",
   "execution_count": 14,
   "metadata": {},
   "outputs": [
    {
     "data": {
      "text/plain": [
       "(<tf.Tensor 'binary_crossentropy/weighted_loss/value:0' shape=() dtype=float32>,\n",
       " <tf.Tensor 'mean_absolute_error/weighted_loss/value:0' shape=() dtype=float32>,\n",
       " <tf.Tensor 'mean_absolute_error_1/weighted_loss/value:0' shape=() dtype=float32>,\n",
       " <tf.Tensor 'truediv_3:0' shape=(?,) dtype=float32>)"
      ]
     },
     "execution_count": 14,
     "metadata": {},
     "output_type": "execute_result"
    }
   ],
   "source": [
    "stop_token_loss, mel_loss_before, mel_loss_after, loss_att"
   ]
  },
  {
   "cell_type": "code",
   "execution_count": 15,
   "metadata": {},
   "outputs": [],
   "source": [
    "# r = model.inference(input_ids, input_lengths, speaker_ids)\n",
    "# r"
   ]
  },
  {
   "cell_type": "code",
   "execution_count": 16,
   "metadata": {},
   "outputs": [],
   "source": [
    "sess = tf.InteractiveSession()\n",
    "sess.run(tf.global_variables_initializer())"
   ]
  },
  {
   "cell_type": "code",
   "execution_count": 17,
   "metadata": {},
   "outputs": [
    {
     "data": {
      "text/plain": [
       "(1, 50, 80)"
      ]
     },
     "execution_count": 17,
     "metadata": {},
     "output_type": "execute_result"
    }
   ],
   "source": [
    "sess.run(decoder_output, feed_dict = {input_ids: [[1, 2, 3, 4, 5, 6, 7, 8, 9]],\n",
    "                        input_lengths: [9],\n",
    "                        mel_outputs: np.random.normal(size=(1, 50, 80)).astype(np.float32),\n",
    "                        mel_lengths: [50]}).shape"
   ]
  },
  {
   "cell_type": "code",
   "execution_count": 18,
   "metadata": {},
   "outputs": [
    {
     "data": {
      "text/plain": [
       "(array([[[ 0.11692788, -0.10907117,  0.0276414 , ..., -0.05868363,\n",
       "           0.1423339 , -0.14772521],\n",
       "         [ 0.10908033, -0.13798681,  0.02467209, ..., -0.06336103,\n",
       "           0.14751771, -0.13214763],\n",
       "         [ 0.09959408, -0.16116637,  0.02425385, ..., -0.07697519,\n",
       "           0.15120314, -0.10791125],\n",
       "         ...,\n",
       "         [ 0.12103663, -0.2694115 , -0.09153493, ..., -0.08339112,\n",
       "           0.13500921,  0.07047981],\n",
       "         [ 0.12368459, -0.2721345 , -0.10034942, ..., -0.0804418 ,\n",
       "           0.12478901,  0.07304214],\n",
       "         [ 0.12792894, -0.27508283, -0.11442295, ..., -0.07783905,\n",
       "           0.10615578,  0.07172836]]], dtype=float32),\n",
       " array([[[-1.2020631 , -0.979295  ,  1.9388901 , ...,  0.9695401 ,\n",
       "          -0.9634584 , -0.07233121],\n",
       "         [ 0.19623186, -1.6517457 , -0.27009177, ...,  0.30721825,\n",
       "          -1.6718901 , -1.3006382 ],\n",
       "         [-1.6890279 , -0.5988819 , -1.0322267 , ..., -2.0163493 ,\n",
       "          -0.3097797 , -2.5289133 ],\n",
       "         ...,\n",
       "         [ 0.1504781 , -0.25660682, -0.41026905, ...,  2.2992942 ,\n",
       "           2.9137344 , -0.34020585],\n",
       "         [ 0.7634391 ,  0.59800875,  0.48063898, ..., -0.08006596,\n",
       "           1.9647684 , -1.6171321 ],\n",
       "         [ 0.10979971, -1.2122133 , -1.5476176 , ..., -0.36855823,\n",
       "           0.2953968 , -1.8119265 ]]], dtype=float32),\n",
       " array([[ 0.02354855, -0.00440681, -0.02951725, -0.03502118, -0.04575595,\n",
       "         -0.06015069, -0.05348355, -0.03678381, -0.01776355, -0.01404918,\n",
       "         -0.00800745, -0.0133217 , -0.00717849, -0.01365619, -0.00929156,\n",
       "          0.00135756,  0.02549682,  0.04483525,  0.05118772,  0.06408909,\n",
       "          0.07308824,  0.06878994,  0.05603433,  0.06142567,  0.04832133,\n",
       "          0.02785764,  0.01763471,  0.00809135,  0.00876014, -0.00703427,\n",
       "         -0.02252936, -0.03506615, -0.04984516, -0.05594502, -0.05500763,\n",
       "         -0.06370426, -0.06182649, -0.06004852, -0.06318902, -0.06977519,\n",
       "         -0.07216525, -0.0620786 , -0.05847293, -0.0478681 , -0.03398845,\n",
       "         -0.04372679, -0.02338612, -0.00626021, -0.00310726,  0.00060239]],\n",
       "       dtype=float32),\n",
       " array([[[0.0793133 , 0.07650777, 0.07436468, 0.07113223, 0.06809862,\n",
       "          0.06601369, 0.06344207, 0.060651  , 0.05788589, 0.05607941,\n",
       "          0.05396049, 0.05179477, 0.04988825, 0.0478373 , 0.045468  ,\n",
       "          0.04352259, 0.04269815, 0.0413468 , 0.03984865, 0.03747411,\n",
       "          0.03587168, 0.03497719, 0.03438837, 0.03403251, 0.03244551,\n",
       "          0.03133993, 0.03014482, 0.0292842 , 0.0281989 , 0.02796493,\n",
       "          0.02761341, 0.02722757, 0.02597407, 0.02457792, 0.02370101,\n",
       "          0.0236259 , 0.02273886, 0.02140413, 0.02008726, 0.0196519 ,\n",
       "          0.01907347, 0.0183189 , 0.01803297, 0.01783797, 0.01751514,\n",
       "          0.01638174, 0.01600491, 0.01603557, 0.01581528, 0.01510057],\n",
       "         [0.09524433, 0.09195801, 0.09006456, 0.08795905, 0.08515126,\n",
       "          0.08307409, 0.08031067, 0.07745028, 0.07480087, 0.07271171,\n",
       "          0.06993575, 0.06689554, 0.06526244, 0.06340568, 0.0614722 ,\n",
       "          0.05976693, 0.0587723 , 0.05666202, 0.05489478, 0.05297327,\n",
       "          0.05059624, 0.04926823, 0.04843165, 0.04811694, 0.04683749,\n",
       "          0.04621032, 0.04512455, 0.04393066, 0.04311648, 0.0421114 ,\n",
       "          0.04155126, 0.04068513, 0.03918093, 0.03752954, 0.03657311,\n",
       "          0.03665275, 0.03533953, 0.03369231, 0.03206613, 0.03160767,\n",
       "          0.03139284, 0.03049936, 0.03051042, 0.03007822, 0.02987546,\n",
       "          0.02819675, 0.02795664, 0.02875396, 0.02858378, 0.02708665],\n",
       "         [0.11727765, 0.11577095, 0.1159132 , 0.11620507, 0.11495074,\n",
       "          0.1127358 , 0.11257094, 0.11091764, 0.10841152, 0.10806088,\n",
       "          0.10692542, 0.10590228, 0.10380012, 0.10069242, 0.09918758,\n",
       "          0.09745317, 0.09526563, 0.09505451, 0.09469679, 0.09393306,\n",
       "          0.09059455, 0.08980408, 0.08838589, 0.08903245, 0.08701354,\n",
       "          0.08727519, 0.08839184, 0.08606301, 0.08538157, 0.08338334,\n",
       "          0.08363064, 0.08137841, 0.07948678, 0.07677237, 0.07606628,\n",
       "          0.07664748, 0.07404057, 0.07190815, 0.07041088, 0.0693324 ,\n",
       "          0.06891172, 0.06811112, 0.06774946, 0.0674564 , 0.06576972,\n",
       "          0.06293192, 0.06238951, 0.06448594, 0.06320409, 0.06045415],\n",
       "         [0.13592485, 0.13495336, 0.13595259, 0.13531059, 0.13500002,\n",
       "          0.13463669, 0.13455816, 0.13414487, 0.13271575, 0.13265754,\n",
       "          0.13172796, 0.13285734, 0.13187298, 0.1309706 , 0.12824717,\n",
       "          0.12666918, 0.12453543, 0.12375917, 0.1239718 , 0.12197862,\n",
       "          0.11833697, 0.11963463, 0.11882804, 0.11618435, 0.1146121 ,\n",
       "          0.11537807, 0.1134645 , 0.11037004, 0.10908813, 0.10771473,\n",
       "          0.10633037, 0.10480906, 0.10119031, 0.09921191, 0.09713754,\n",
       "          0.09771628, 0.09555841, 0.0944704 , 0.09140024, 0.0892993 ,\n",
       "          0.0873148 , 0.08639153, 0.08467819, 0.08568227, 0.08498222,\n",
       "          0.08144445, 0.07877225, 0.07696457, 0.076728  , 0.07425769],\n",
       "         [0.1647838 , 0.1664886 , 0.16651855, 0.16522871, 0.16653565,\n",
       "          0.16634876, 0.16863915, 0.16887115, 0.16872378, 0.16895616,\n",
       "          0.16854973, 0.16786283, 0.1674969 , 0.16706589, 0.16637927,\n",
       "          0.16567259, 0.16547951, 0.16428858, 0.16268654, 0.1602336 ,\n",
       "          0.15702903, 0.15693839, 0.15535343, 0.15283263, 0.15242682,\n",
       "          0.15207082, 0.14949907, 0.14583886, 0.14443173, 0.14052913,\n",
       "          0.13977237, 0.13687944, 0.1347631 , 0.13233136, 0.12961905,\n",
       "          0.12937526, 0.12640485, 0.12489903, 0.12090854, 0.11892991,\n",
       "          0.11665089, 0.11348299, 0.11322645, 0.11236494, 0.1111661 ,\n",
       "          0.1077749 , 0.1068382 , 0.10544023, 0.10371079, 0.09930952],\n",
       "         [0.13634735, 0.13801616, 0.1386305 , 0.13995971, 0.14128403,\n",
       "          0.14236538, 0.14364335, 0.14604129, 0.14804417, 0.14885348,\n",
       "          0.15031877, 0.15163864, 0.15191601, 0.15252641, 0.15588273,\n",
       "          0.15715905, 0.15687385, 0.1583209 , 0.15897691, 0.15972632,\n",
       "          0.16060787, 0.16078457, 0.15994051, 0.1574483 , 0.15978174,\n",
       "          0.15981492, 0.16084461, 0.16043542, 0.16224644, 0.16136165,\n",
       "          0.16003433, 0.15873823, 0.15891933, 0.15976928, 0.15713598,\n",
       "          0.15854669, 0.15914004, 0.15844764, 0.15998614, 0.15710089,\n",
       "          0.15658492, 0.15595098, 0.157079  , 0.15600981, 0.1544676 ,\n",
       "          0.15498945, 0.15510647, 0.15289229, 0.15361442, 0.15133002],\n",
       "         [0.0834015 , 0.08573193, 0.08668357, 0.08912469, 0.0910112 ,\n",
       "          0.09240747, 0.09407516, 0.09622371, 0.09943511, 0.10071924,\n",
       "          0.103576  , 0.10598688, 0.10821662, 0.11018658, 0.11298873,\n",
       "          0.11569946, 0.11702444, 0.11841154, 0.12186944, 0.12549004,\n",
       "          0.129269  , 0.1312377 , 0.13266501, 0.137265  , 0.140085  ,\n",
       "          0.14097509, 0.14486258, 0.14795898, 0.15165235, 0.1530361 ,\n",
       "          0.15382552, 0.15864024, 0.161579  , 0.1664809 , 0.16697355,\n",
       "          0.16740814, 0.17090149, 0.1749299 , 0.17819755, 0.18210863,\n",
       "          0.18582144, 0.18751222, 0.1901674 , 0.19153339, 0.1897779 ,\n",
       "          0.19638512, 0.19704397, 0.19894645, 0.20097911, 0.20407103],\n",
       "         [0.09792233, 0.10006244, 0.10109959, 0.1031708 , 0.10562041,\n",
       "          0.10846052, 0.10926548, 0.11156848, 0.11489527, 0.11612793,\n",
       "          0.11790328, 0.11914024, 0.12211153, 0.12567256, 0.12679172,\n",
       "          0.12961271, 0.13329092, 0.13450636, 0.13606527, 0.13994862,\n",
       "          0.14500098, 0.14458202, 0.14744224, 0.15087865, 0.15277262,\n",
       "          0.15228656, 0.1529388 , 0.15788452, 0.15887123, 0.1636187 ,\n",
       "          0.16314498, 0.1668627 , 0.17179592, 0.17518139, 0.18047951,\n",
       "          0.17907348, 0.18206818, 0.18347946, 0.1880876 , 0.19179322,\n",
       "          0.19417118, 0.19514811, 0.19489202, 0.19779189, 0.20391321,\n",
       "          0.20531334, 0.20812996, 0.20961496, 0.21153943, 0.21604308],\n",
       "         [0.08978485, 0.09051073, 0.09077282, 0.09190912, 0.09234805,\n",
       "          0.09395754, 0.09349511, 0.09413165, 0.09508769, 0.09583367,\n",
       "          0.09710256, 0.09792143, 0.0994352 , 0.10164262, 0.1035827 ,\n",
       "          0.10444427, 0.10605977, 0.10765006, 0.10698976, 0.10824236,\n",
       "          0.11269366, 0.11277322, 0.11456483, 0.11420912, 0.11402515,\n",
       "          0.11464909, 0.11472927, 0.11823434, 0.11701318, 0.12027995,\n",
       "          0.12409711, 0.12477921, 0.12711059, 0.1281453 , 0.13231397,\n",
       "          0.13095406, 0.13380808, 0.13676897, 0.13885574, 0.14017607,\n",
       "          0.14007874, 0.14458477, 0.1436641 , 0.14124514, 0.1425327 ,\n",
       "          0.14658232, 0.14775811, 0.14686593, 0.14582515, 0.15234727]]],\n",
       "       dtype=float32))"
      ]
     },
     "execution_count": 18,
     "metadata": {},
     "output_type": "execute_result"
    }
   ],
   "source": [
    "sess.run(r, feed_dict = {input_ids: [[1, 2, 3, 4, 5, 6, 7, 8, 9]],\n",
    "                        input_lengths: [9],\n",
    "                        mel_outputs: np.random.normal(size=(1, 50, 80)).astype(np.float32),\n",
    "                        mel_lengths: [50]})"
   ]
  },
  {
   "cell_type": "code",
   "execution_count": 19,
   "metadata": {},
   "outputs": [
    {
     "data": {
      "text/plain": [
       "array([2.8763387], dtype=float32)"
      ]
     },
     "execution_count": 19,
     "metadata": {},
     "output_type": "execute_result"
    }
   ],
   "source": [
    "sess.run(loss, feed_dict = {input_ids: [[1, 2, 3, 4, 5, 6, 7, 8, 9]],\n",
    "                        input_lengths: [9],\n",
    "                        mel_outputs: np.random.normal(size=(1, 50, 80)).astype(np.float32),\n",
    "                        mel_actuals: np.random.normal(size=(1, 50, 80)).astype(np.float32),\n",
    "                        mel_lengths: [50]})"
   ]
  },
  {
   "cell_type": "code",
   "execution_count": 20,
   "metadata": {},
   "outputs": [
    {
     "data": {
      "text/plain": [
       "array([2.9320302, 2.9333982], dtype=float32)"
      ]
     },
     "execution_count": 20,
     "metadata": {},
     "output_type": "execute_result"
    }
   ],
   "source": [
    "sess.run(loss, feed_dict = {input_ids: [[1, 2, 3, 4, 5, 6, 7, 8, 9],\n",
    "                                       [1, 2, 3, 4, 5, 6, 7, 8, 9]],\n",
    "                        input_lengths: [9, 9],\n",
    "                        mel_outputs: np.random.normal(size=(2, 50, 80)).astype(np.float32),\n",
    "                        mel_actuals: np.random.normal(size=(2, 50, 80)).astype(np.float32),\n",
    "                        mel_lengths: [50, 50]})"
   ]
  },
  {
   "cell_type": "code",
   "execution_count": 21,
   "metadata": {},
   "outputs": [
    {
     "data": {
      "text/plain": [
       "(1, 9, 50)"
      ]
     },
     "execution_count": 21,
     "metadata": {},
     "output_type": "execute_result"
    }
   ],
   "source": [
    "sess.run(guided, feed_dict = {input_ids: [[1, 2, 3, 4, 5, 6, 7, 8, 9]],\n",
    "                        input_lengths: [9],\n",
    "                        mel_outputs: np.random.normal(size=(1, 50, 80)).astype(np.float32),\n",
    "                        mel_actuals: np.random.normal(size=(1, 50, 80)).astype(np.float32),\n",
    "                        mel_lengths: [50]}).shape"
   ]
  },
  {
   "cell_type": "code",
   "execution_count": null,
   "metadata": {},
   "outputs": [],
   "source": []
  }
 ],
 "metadata": {
  "kernelspec": {
   "display_name": "Python 3",
   "language": "python",
   "name": "python3"
  },
  "language_info": {
   "codemirror_mode": {
    "name": "ipython",
    "version": 3
   },
   "file_extension": ".py",
   "mimetype": "text/x-python",
   "name": "python",
   "nbconvert_exporter": "python",
   "pygments_lexer": "ipython3",
   "version": "3.7.7"
  }
 },
 "nbformat": 4,
 "nbformat_minor": 4
}

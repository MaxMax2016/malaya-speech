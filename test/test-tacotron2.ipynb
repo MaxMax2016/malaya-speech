{
 "cells": [
  {
   "cell_type": "code",
   "execution_count": 1,
   "metadata": {},
   "outputs": [],
   "source": [
    "import os\n",
    "\n",
    "os.environ['CUDA_VISIBLE_DEVICES'] = '1'"
   ]
  },
  {
   "cell_type": "code",
   "execution_count": 2,
   "metadata": {},
   "outputs": [],
   "source": [
    "import sys\n",
    "\n",
    "SOURCE_DIR = os.path.dirname(os.path.dirname(os.path.abspath(__name__)))\n",
    "sys.path.insert(0, SOURCE_DIR)"
   ]
  },
  {
   "cell_type": "code",
   "execution_count": 3,
   "metadata": {},
   "outputs": [
    {
     "name": "stdout",
     "output_type": "stream",
     "text": [
      "WARNING:tensorflow:From /Users/huseinzolkepli/Documents/malaya-speech/malaya_speech/train/optimizer/__init__.py:35: The name tf.train.AdagradOptimizer is deprecated. Please use tf.compat.v1.train.AdagradOptimizer instead.\n",
      "\n",
      "WARNING:tensorflow:From /Users/huseinzolkepli/Documents/malaya-speech/malaya_speech/train/optimizer/__init__.py:36: The name tf.train.AdamOptimizer is deprecated. Please use tf.compat.v1.train.AdamOptimizer instead.\n",
      "\n",
      "WARNING:tensorflow:From /Users/huseinzolkepli/Documents/malaya-speech/malaya_speech/train/optimizer/__init__.py:37: The name tf.train.FtrlOptimizer is deprecated. Please use tf.compat.v1.train.FtrlOptimizer instead.\n",
      "\n",
      "WARNING:tensorflow:From /Users/huseinzolkepli/Documents/malaya-speech/malaya_speech/train/optimizer/__init__.py:39: The name tf.train.RMSPropOptimizer is deprecated. Please use tf.compat.v1.train.RMSPropOptimizer instead.\n",
      "\n",
      "WARNING:tensorflow:From /Users/huseinzolkepli/Documents/malaya-speech/malaya_speech/train/optimizer/__init__.py:40: The name tf.train.GradientDescentOptimizer is deprecated. Please use tf.compat.v1.train.GradientDescentOptimizer instead.\n",
      "\n",
      "WARNING:tensorflow:\n",
      "The TensorFlow contrib module will not be included in TensorFlow 2.0.\n",
      "For more information, please see:\n",
      "  * https://github.com/tensorflow/community/blob/master/rfcs/20180907-contrib-sunset.md\n",
      "  * https://github.com/tensorflow/addons\n",
      "  * https://github.com/tensorflow/io (for I/O related ops)\n",
      "If you depend on functionality not listed there, please file an issue.\n",
      "\n",
      "WARNING:tensorflow:From /Users/huseinzolkepli/Documents/malaya-speech/malaya_speech/train/model/quartznet/layer.py:6: The name tf.layers.Conv1D is deprecated. Please use tf.compat.v1.layers.Conv1D instead.\n",
      "\n"
     ]
    }
   ],
   "source": [
    "import tensorflow as tf\n",
    "import malaya_speech\n",
    "import malaya_speech.train\n",
    "from malaya_speech.train.model import tacotron2\n",
    "import malaya_speech.config\n",
    "import numpy as np"
   ]
  },
  {
   "cell_type": "code",
   "execution_count": 4,
   "metadata": {},
   "outputs": [],
   "source": [
    "tacotron2_config = malaya_speech.config.tacotron2_config"
   ]
  },
  {
   "cell_type": "code",
   "execution_count": 5,
   "metadata": {
    "scrolled": true
   },
   "outputs": [
    {
     "name": "stdout",
     "output_type": "stream",
     "text": [
      "WARNING:tensorflow:From /Users/huseinzolkepli/Documents/malaya-speech/malaya_speech/train/model/fastspeech/layer.py:11: The name tf.keras.initializers.TruncatedNormal is deprecated. Please use tf.compat.v1.keras.initializers.TruncatedNormal instead.\n",
      "\n",
      "WARNING:tensorflow:From /Library/Frameworks/Python.framework/Versions/3.7/lib/python3.7/site-packages/tensorflow_core/python/keras/initializers.py:94: calling TruncatedNormal.__init__ (from tensorflow.python.ops.init_ops) with dtype is deprecated and will be removed in a future version.\n",
      "Instructions for updating:\n",
      "Call initializer instance with the dtype argument instead of passing it to the constructor\n",
      "WARNING:tensorflow:From /Library/Frameworks/Python.framework/Versions/3.7/lib/python3.7/site-packages/tensorflow_core/python/ops/init_ops.py:97: calling GlorotUniform.__init__ (from tensorflow.python.ops.init_ops) with dtype is deprecated and will be removed in a future version.\n",
      "Instructions for updating:\n",
      "Call initializer instance with the dtype argument instead of passing it to the constructor\n",
      "WARNING:tensorflow:From /Library/Frameworks/Python.framework/Versions/3.7/lib/python3.7/site-packages/tensorflow_core/python/ops/init_ops.py:97: calling Orthogonal.__init__ (from tensorflow.python.ops.init_ops) with dtype is deprecated and will be removed in a future version.\n",
      "Instructions for updating:\n",
      "Call initializer instance with the dtype argument instead of passing it to the constructor\n",
      "WARNING:tensorflow:From /Library/Frameworks/Python.framework/Versions/3.7/lib/python3.7/site-packages/tensorflow_core/python/ops/init_ops.py:97: calling Zeros.__init__ (from tensorflow.python.ops.init_ops) with dtype is deprecated and will be removed in a future version.\n",
      "Instructions for updating:\n",
      "Call initializer instance with the dtype argument instead of passing it to the constructor\n"
     ]
    }
   ],
   "source": [
    "model = tacotron2.Model(tacotron2.Config(vocab_size = 20, **tacotron2_config), training = True)"
   ]
  },
  {
   "cell_type": "code",
   "execution_count": 6,
   "metadata": {},
   "outputs": [],
   "source": [
    "input_ids = tf.placeholder(tf.int32, [None, None])\n",
    "input_lengths = tf.placeholder(tf.int32, [None])\n",
    "speaker_ids = tf.constant([0], dtype = tf.int32)\n",
    "mel_outputs = tf.placeholder(tf.float32, [None, None, 80])\n",
    "mel_lengths = tf.placeholder(tf.int32, [None])\n",
    "mel_actuals = tf.placeholder(tf.float32, [None, None, 80])"
   ]
  },
  {
   "cell_type": "code",
   "execution_count": 7,
   "metadata": {},
   "outputs": [
    {
     "data": {
      "text/plain": [
       "<tf.Tensor 'ExpandDims:0' shape=(1, ?, ?) dtype=float32>"
      ]
     },
     "execution_count": 7,
     "metadata": {},
     "output_type": "execute_result"
    }
   ],
   "source": [
    "guided = tacotron2.generate_guided_attention(mel_lengths[0], input_lengths[0])\n",
    "guided = tf.expand_dims(guided, 0)\n",
    "guided"
   ]
  },
  {
   "cell_type": "code",
   "execution_count": 8,
   "metadata": {
    "scrolled": false
   },
   "outputs": [
    {
     "name": "stdout",
     "output_type": "stream",
     "text": [
      "WARNING:tensorflow:From /Users/huseinzolkepli/Documents/malaya-speech/malaya_speech/train/model/tacotron2/model.py:96: The name tf.get_variable is deprecated. Please use tf.compat.v1.get_variable instead.\n",
      "\n",
      "WARNING:tensorflow:From /Library/Frameworks/Python.framework/Versions/3.7/lib/python3.7/site-packages/tensorflow_core/python/ops/resource_variable_ops.py:1630: calling BaseResourceVariable.__init__ (from tensorflow.python.ops.resource_variable_ops) with constraint is deprecated and will be removed in a future version.\n",
      "Instructions for updating:\n",
      "If using Keras pass *_constraint arguments to layers.\n",
      "WARNING:tensorflow:From /Library/Frameworks/Python.framework/Versions/3.7/lib/python3.7/site-packages/tensorflow_core/python/keras/backend.py:3994: where (from tensorflow.python.ops.array_ops) is deprecated and will be removed in a future version.\n",
      "Instructions for updating:\n",
      "Use tf.where in 2.0, which has the same broadcast rule as np.where\n",
      "WARNING:tensorflow:From /Library/Frameworks/Python.framework/Versions/3.7/lib/python3.7/site-packages/tensorflow_core/python/autograph/converters/directives.py:119: The name tf.debugging.assert_greater is deprecated. Please use tf.compat.v1.debugging.assert_greater instead.\n",
      "\n",
      "ERROR:tensorflow:==================================\n",
      "Object was never used (type <class 'tensorflow.python.framework.ops.Operation'>):\n",
      "<tf.Operation 'model/decoder/assert_greater/Assert/Assert' type=Assert>\n",
      "If you want to mark it as used call its \"mark_used()\" method.\n",
      "It was originally created here:\n",
      "  File \"/Library/Frameworks/Python.framework/Versions/3.7/lib/python3.7/site-packages/tensorflow_core/python/autograph/impl/api.py\", line 439, in converted_call\n",
      "    return _call_unconverted(f, args, kwargs, options)  File \"/Library/Frameworks/Python.framework/Versions/3.7/lib/python3.7/site-packages/tensorflow_core/python/autograph/impl/api.py\", line 330, in _call_unconverted\n",
      "    return f(*args, **kwargs)  File \"/Library/Frameworks/Python.framework/Versions/3.7/lib/python3.7/site-packages/tensorflow_core/python/ops/check_ops.py\", line 966, in assert_greater\n",
      "    y, data, summarize, message, name)  File \"/Library/Frameworks/Python.framework/Versions/3.7/lib/python3.7/site-packages/tensorflow_core/python/ops/check_ops.py\", line 371, in _binary_assert\n",
      "    return control_flow_ops.Assert(condition, data, summarize=summarize)  File \"/Library/Frameworks/Python.framework/Versions/3.7/lib/python3.7/site-packages/tensorflow_core/python/util/tf_should_use.py\", line 198, in wrapped\n",
      "    return _add_should_use_warning(fn(*args, **kwargs))\n",
      "==================================\n"
     ]
    },
    {
     "data": {
      "text/plain": [
       "(<tf.Tensor 'model/Reshape:0' shape=(?, ?, 80) dtype=float32>,\n",
       " <tf.Tensor 'model/add:0' shape=(?, ?, 80) dtype=float32>,\n",
       " <tf.Tensor 'model/Reshape_1:0' shape=(?, ?) dtype=float32>,\n",
       " <tf.Tensor 'model/transpose:0' shape=(?, ?, ?) dtype=float32>)"
      ]
     },
     "execution_count": 8,
     "metadata": {},
     "output_type": "execute_result"
    }
   ],
   "source": [
    "r = model(input_ids, input_lengths, speaker_ids, mel_outputs, mel_lengths, training = True)\n",
    "r"
   ]
  },
  {
   "cell_type": "code",
   "execution_count": 9,
   "metadata": {},
   "outputs": [],
   "source": [
    "from malaya_speech.train.loss import calculate_2d_loss, calculate_3d_loss"
   ]
  },
  {
   "cell_type": "code",
   "execution_count": 10,
   "metadata": {},
   "outputs": [],
   "source": [
    "binary_crossentropy = tf.keras.losses.BinaryCrossentropy(\n",
    "    from_logits=True\n",
    ")\n",
    "mse = tf.keras.losses.MeanSquaredError()\n",
    "mae = tf.keras.losses.MeanAbsoluteError()\n",
    "decoder_output, post_mel_outputs, stop_token_predictions, alignment_histories = r\n",
    "mel_loss_before = calculate_3d_loss(\n",
    "    mel_actuals, decoder_output, loss_fn=mae\n",
    ")\n",
    "mel_loss_after = calculate_3d_loss(\n",
    "    mel_actuals, post_mel_outputs, loss_fn=mae\n",
    ")\n",
    "max_mel_length = tf.reduce_max(mel_lengths)\n",
    "stop_gts = tf.expand_dims(\n",
    "    tf.range(tf.reduce_max(max_mel_length), dtype=tf.int32), 0\n",
    ")\n",
    "stop_gts = tf.tile(\n",
    "    stop_gts, [tf.shape(mel_lengths)[0], 1]\n",
    ")\n",
    "stop_gts = tf.cast(\n",
    "    tf.math.greater_equal(stop_gts, tf.expand_dims(mel_lengths, 1)),\n",
    "    tf.float32,\n",
    ")\n",
    "stop_token_loss = calculate_2d_loss(\n",
    "    stop_gts, stop_token_predictions, loss_fn=binary_crossentropy\n",
    ")\n",
    "attention_masks = tf.cast(\n",
    "    tf.math.not_equal(guided, -1.0), tf.float32\n",
    ")\n",
    "loss_att = tf.reduce_sum(\n",
    "    tf.abs(alignment_histories * guided) * attention_masks,\n",
    "    axis=[1, 2],\n",
    ")\n",
    "loss_att /= tf.reduce_sum(attention_masks, axis=[1, 2])"
   ]
  },
  {
   "cell_type": "code",
   "execution_count": 11,
   "metadata": {},
   "outputs": [
    {
     "data": {
      "text/plain": [
       "<tf.Tensor 'truediv_3:0' shape=(?,) dtype=float32>"
      ]
     },
     "execution_count": 11,
     "metadata": {},
     "output_type": "execute_result"
    }
   ],
   "source": [
    "loss_att"
   ]
  },
  {
   "cell_type": "code",
   "execution_count": 12,
   "metadata": {},
   "outputs": [],
   "source": [
    "loss = stop_token_loss + mel_loss_before + mel_loss_after + loss_att"
   ]
  },
  {
   "cell_type": "code",
   "execution_count": 13,
   "metadata": {},
   "outputs": [
    {
     "data": {
      "text/plain": [
       "(<tf.Tensor 'binary_crossentropy/weighted_loss/value:0' shape=() dtype=float32>,\n",
       " <tf.Tensor 'mean_absolute_error/weighted_loss/value:0' shape=() dtype=float32>,\n",
       " <tf.Tensor 'mean_absolute_error_1/weighted_loss/value:0' shape=() dtype=float32>,\n",
       " <tf.Tensor 'truediv_3:0' shape=(?,) dtype=float32>)"
      ]
     },
     "execution_count": 13,
     "metadata": {},
     "output_type": "execute_result"
    }
   ],
   "source": [
    "stop_token_loss, mel_loss_before, mel_loss_after, loss_att"
   ]
  },
  {
   "cell_type": "code",
   "execution_count": 14,
   "metadata": {},
   "outputs": [],
   "source": [
    "# r = model.inference(input_ids, input_lengths, speaker_ids)\n",
    "# r"
   ]
  },
  {
   "cell_type": "code",
   "execution_count": 15,
   "metadata": {},
   "outputs": [],
   "source": [
    "sess = tf.InteractiveSession()\n",
    "sess.run(tf.global_variables_initializer())"
   ]
  },
  {
   "cell_type": "code",
   "execution_count": 16,
   "metadata": {},
   "outputs": [
    {
     "data": {
      "text/plain": [
       "(1, 50, 80)"
      ]
     },
     "execution_count": 16,
     "metadata": {},
     "output_type": "execute_result"
    }
   ],
   "source": [
    "sess.run(decoder_output, feed_dict = {input_ids: [[1, 2, 3, 4, 5, 6, 7, 8, 9]],\n",
    "                        input_lengths: [9],\n",
    "                        mel_outputs: np.random.normal(size=(1, 50, 80)).astype(np.float32),\n",
    "                        mel_lengths: [50]}).shape"
   ]
  },
  {
   "cell_type": "code",
   "execution_count": 17,
   "metadata": {},
   "outputs": [
    {
     "data": {
      "text/plain": [
       "(array([[[ 0.02515434, -0.2407359 , -0.02213648, ...,  0.16219635,\n",
       "           0.0074391 ,  0.06168063],\n",
       "         [ 0.02847697, -0.2273424 , -0.04161456, ...,  0.15893497,\n",
       "           0.01727651,  0.06266464],\n",
       "         [ 0.01370414, -0.20838676, -0.05193579, ...,  0.16926639,\n",
       "           0.03941697,  0.05902784],\n",
       "         ...,\n",
       "         [ 0.01335187, -0.07899724, -0.03084767, ...,  0.17904572,\n",
       "           0.08603537,  0.01365627],\n",
       "         [ 0.00948267, -0.06291299, -0.04961939, ...,  0.18851821,\n",
       "           0.09177421,  0.00239947],\n",
       "         [-0.01013591, -0.04583539, -0.05081781, ...,  0.19166227,\n",
       "           0.08546424, -0.00970226]]], dtype=float32),\n",
       " array([[[ 0.12065025,  0.52663755, -1.0942186 , ..., -0.22609265,\n",
       "          -0.24403408, -1.4574627 ],\n",
       "         [-0.16570394, -0.21570173, -2.4764667 , ...,  0.10241725,\n",
       "          -1.2108872 , -0.40915096],\n",
       "         [-2.6897962 ,  1.0906484 , -1.7605094 , ..., -1.2892144 ,\n",
       "           2.86919   ,  0.6213757 ],\n",
       "         ...,\n",
       "         [ 0.4892156 ,  2.2453318 , -1.7637446 , ..., -0.54914516,\n",
       "           1.3596561 ,  0.89384985],\n",
       "         [-1.0700026 ,  2.4259667 ,  1.2627792 , ..., -1.5118655 ,\n",
       "           2.8206031 ,  3.4475176 ],\n",
       "         [-0.74552304,  0.51964974, -0.51054627, ..., -0.3977316 ,\n",
       "           0.8353327 ,  2.1761122 ]]], dtype=float32),\n",
       " array([[-0.07606813, -0.05334058, -0.04592558, -0.03523048, -0.02416342,\n",
       "          0.0078745 ,  0.05858507,  0.07556115,  0.08923082,  0.09633218,\n",
       "          0.08967034,  0.07907293,  0.07335278,  0.06659918,  0.07497692,\n",
       "          0.06158438,  0.05709695,  0.03345808,  0.01982491,  0.04048637,\n",
       "          0.0391141 ,  0.04301786,  0.06019574,  0.06679885,  0.06226144,\n",
       "          0.06794502,  0.06161849,  0.05970464,  0.05508272,  0.06931476,\n",
       "          0.09110881,  0.1048004 ,  0.10761183,  0.09893189,  0.08667944,\n",
       "          0.08652043,  0.08677866,  0.06426182,  0.0359694 ,  0.01926483,\n",
       "          0.00316738, -0.00156464,  0.01501915,  0.02151007,  0.02427175,\n",
       "          0.01716597,  0.00083451, -0.00488911, -0.0082852 , -0.00240217]],\n",
       "       dtype=float32),\n",
       " array([[[0.09151721, 0.09145361, 0.09083868, 0.09103225, 0.09042163,\n",
       "          0.09082415, 0.09138981, 0.09201472, 0.09273469, 0.09351426,\n",
       "          0.09217358, 0.09092315, 0.0912576 , 0.09166868, 0.09204298,\n",
       "          0.0922268 , 0.09144274, 0.09004254, 0.08820462, 0.089304  ,\n",
       "          0.0892649 , 0.08905584, 0.08989517, 0.08950225, 0.08907665,\n",
       "          0.08792926, 0.08787081, 0.08918989, 0.08862782, 0.08816376,\n",
       "          0.08936531, 0.08958799, 0.08914376, 0.08765983, 0.08681842,\n",
       "          0.08570729, 0.0869951 , 0.08579575, 0.0869084 , 0.08725235,\n",
       "          0.0856495 , 0.08415975, 0.08723121, 0.08802938, 0.08561835,\n",
       "          0.08270576, 0.08309714, 0.08239948, 0.08135072, 0.08151159],\n",
       "         [0.09855083, 0.09846552, 0.09881192, 0.09979918, 0.0994311 ,\n",
       "          0.09902353, 0.10019016, 0.1006039 , 0.10093305, 0.10156558,\n",
       "          0.10162126, 0.10110448, 0.10158427, 0.10218485, 0.10317492,\n",
       "          0.103593  , 0.1048843 , 0.104697  , 0.10220893, 0.10318884,\n",
       "          0.10317726, 0.10330551, 0.10419546, 0.10362625, 0.10500886,\n",
       "          0.1040777 , 0.10344539, 0.1043983 , 0.10452344, 0.1041558 ,\n",
       "          0.10456995, 0.10457129, 0.10522069, 0.10397693, 0.1044607 ,\n",
       "          0.10466058, 0.10596823, 0.10380758, 0.1019839 , 0.10071785,\n",
       "          0.10077753, 0.10279202, 0.10208879, 0.10479759, 0.10329504,\n",
       "          0.099946  , 0.10142069, 0.1023027 , 0.10267938, 0.10224285],\n",
       "         [0.06445409, 0.06453618, 0.06547721, 0.06642123, 0.06736026,\n",
       "          0.06692527, 0.06770136, 0.06832014, 0.06799177, 0.06919518,\n",
       "          0.06958422, 0.06960592, 0.07058875, 0.07125101, 0.07250673,\n",
       "          0.0735104 , 0.07462393, 0.07675299, 0.07558013, 0.07592332,\n",
       "          0.07642928, 0.07687669, 0.07779644, 0.07706305, 0.07903008,\n",
       "          0.08005172, 0.08065894, 0.08087571, 0.08140799, 0.08301712,\n",
       "          0.0833944 , 0.08494784, 0.08640864, 0.08760161, 0.08837552,\n",
       "          0.08928875, 0.09131365, 0.08908682, 0.08875955, 0.08839142,\n",
       "          0.08759374, 0.09147147, 0.0920511 , 0.0942762 , 0.09543062,\n",
       "          0.0963814 , 0.09963263, 0.09885039, 0.09873877, 0.09930776],\n",
       "         [0.10671191, 0.10594267, 0.1055428 , 0.10540777, 0.10548248,\n",
       "          0.10423217, 0.10350455, 0.10290969, 0.10142203, 0.1014321 ,\n",
       "          0.10063708, 0.10020037, 0.09992387, 0.09854844, 0.09879448,\n",
       "          0.0976271 , 0.09732879, 0.097314  , 0.09611978, 0.09606094,\n",
       "          0.09516107, 0.0943611 , 0.09262292, 0.09115041, 0.08902086,\n",
       "          0.08886264, 0.08949038, 0.08978989, 0.08836295, 0.08796505,\n",
       "          0.08824996, 0.08936231, 0.08966746, 0.08836354, 0.08593853,\n",
       "          0.08458019, 0.08420364, 0.0835304 , 0.08269854, 0.08088267,\n",
       "          0.08145656, 0.08183177, 0.08221056, 0.08148422, 0.08110348,\n",
       "          0.08069559, 0.08262349, 0.07999949, 0.08073421, 0.08139053],\n",
       "         [0.08831766, 0.08756629, 0.08698857, 0.08670228, 0.0855866 ,\n",
       "          0.08475105, 0.08273982, 0.08310942, 0.08236658, 0.08215567,\n",
       "          0.08092905, 0.08064836, 0.08050252, 0.07958701, 0.07820208,\n",
       "          0.07705874, 0.07727473, 0.07702728, 0.07595922, 0.0748026 ,\n",
       "          0.07443319, 0.07406163, 0.0731848 , 0.07235742, 0.07075913,\n",
       "          0.07118393, 0.07179883, 0.0712415 , 0.0702283 , 0.06929113,\n",
       "          0.06906343, 0.06969544, 0.06903721, 0.06789194, 0.06688777,\n",
       "          0.06526601, 0.0643577 , 0.06415836, 0.0633581 , 0.06288726,\n",
       "          0.06336653, 0.06347636, 0.06288912, 0.06241059, 0.06203577,\n",
       "          0.06086624, 0.06110642, 0.06033593, 0.06145613, 0.06093901],\n",
       "         [0.12769791, 0.12778448, 0.12747568, 0.1265712 , 0.12644495,\n",
       "          0.12377925, 0.12297023, 0.12051427, 0.12096575, 0.12029953,\n",
       "          0.11887847, 0.11992728, 0.11954185, 0.11902787, 0.11837329,\n",
       "          0.11805443, 0.1166903 , 0.11504122, 0.11476839, 0.11425979,\n",
       "          0.1145498 , 0.11439745, 0.11510069, 0.11388201, 0.11353324,\n",
       "          0.11340396, 0.1122734 , 0.1125813 , 0.11216762, 0.11182981,\n",
       "          0.11028197, 0.10930684, 0.11018638, 0.10964545, 0.10718574,\n",
       "          0.10963062, 0.10845414, 0.10895893, 0.10877894, 0.10902982,\n",
       "          0.10981372, 0.10870888, 0.1078549 , 0.10597894, 0.10764197,\n",
       "          0.11010846, 0.10742786, 0.10620649, 0.1061512 , 0.10411046],\n",
       "         [0.13816786, 0.13797534, 0.1375943 , 0.1365211 , 0.13541608,\n",
       "          0.1354876 , 0.13450032, 0.13328944, 0.1320315 , 0.12985516,\n",
       "          0.12999703, 0.13012473, 0.12879543, 0.12796742, 0.126516  ,\n",
       "          0.12509853, 0.124876  , 0.12514146, 0.12536378, 0.12385192,\n",
       "          0.12298164, 0.12184211, 0.12059391, 0.12054645, 0.11946863,\n",
       "          0.11940939, 0.11812817, 0.11735057, 0.1175044 , 0.11643386,\n",
       "          0.11439218, 0.11198489, 0.11213949, 0.11269595, 0.11178769,\n",
       "          0.11262445, 0.11057401, 0.11211684, 0.11232051, 0.11433766,\n",
       "          0.11353943, 0.11196811, 0.11033143, 0.10834559, 0.10815849,\n",
       "          0.1097286 , 0.10735733, 0.1048457 , 0.10489352, 0.10351325],\n",
       "         [0.13632362, 0.13751906, 0.13712682, 0.13715994, 0.13806109,\n",
       "          0.13973366, 0.1404752 , 0.14155722, 0.14167741, 0.14179638,\n",
       "          0.14330508, 0.1429148 , 0.14305083, 0.14409676, 0.14444594,\n",
       "          0.1442964 , 0.14263077, 0.14373314, 0.14557973, 0.14627783,\n",
       "          0.14693315, 0.14709228, 0.14739458, 0.14829952, 0.14957835,\n",
       "          0.14801249, 0.14888161, 0.14742315, 0.14930238, 0.14784868,\n",
       "          0.14962275, 0.1488695 , 0.14637174, 0.14892027, 0.15006769,\n",
       "          0.14859438, 0.14621137, 0.14999957, 0.1516263 , 0.1534614 ,\n",
       "          0.1541074 , 0.15094388, 0.15074189, 0.15234163, 0.1534808 ,\n",
       "          0.15293941, 0.14927171, 0.14933078, 0.15347248, 0.15295747],\n",
       "         [0.14825897, 0.14875683, 0.15014409, 0.150385  , 0.15179577,\n",
       "          0.1552434 , 0.1565285 , 0.15768118, 0.15987727, 0.16018614,\n",
       "          0.16287431, 0.16455093, 0.16475487, 0.1656679 , 0.16594356,\n",
       "          0.1685346 , 0.17024845, 0.17025036, 0.17621541, 0.1763308 ,\n",
       "          0.1770697 , 0.17900737, 0.17921607, 0.18357271, 0.18452427,\n",
       "          0.1870689 , 0.18745238, 0.18714967, 0.18787514, 0.19129479,\n",
       "          0.19106002, 0.19167393, 0.19182453, 0.19324447, 0.19847791,\n",
       "          0.19964772, 0.20192215, 0.20254573, 0.20356576, 0.20303954,\n",
       "          0.20369567, 0.20464775, 0.20460103, 0.2023359 , 0.20323546,\n",
       "          0.2066286 , 0.20806277, 0.21572906, 0.21052365, 0.21402708]]],\n",
       "       dtype=float32))"
      ]
     },
     "execution_count": 17,
     "metadata": {},
     "output_type": "execute_result"
    }
   ],
   "source": [
    "sess.run(r, feed_dict = {input_ids: [[1, 2, 3, 4, 5, 6, 7, 8, 9]],\n",
    "                        input_lengths: [9],\n",
    "                        mel_outputs: np.random.normal(size=(1, 50, 80)).astype(np.float32),\n",
    "                        mel_lengths: [50]})"
   ]
  },
  {
   "cell_type": "code",
   "execution_count": 18,
   "metadata": {},
   "outputs": [
    {
     "data": {
      "text/plain": [
       "array([2.902277], dtype=float32)"
      ]
     },
     "execution_count": 18,
     "metadata": {},
     "output_type": "execute_result"
    }
   ],
   "source": [
    "sess.run(loss, feed_dict = {input_ids: [[1, 2, 3, 4, 5, 6, 7, 8, 9]],\n",
    "                        input_lengths: [9],\n",
    "                        mel_outputs: np.random.normal(size=(1, 50, 80)).astype(np.float32),\n",
    "                        mel_actuals: np.random.normal(size=(1, 50, 80)).astype(np.float32),\n",
    "                        mel_lengths: [50]})"
   ]
  },
  {
   "cell_type": "code",
   "execution_count": 19,
   "metadata": {},
   "outputs": [
    {
     "data": {
      "text/plain": [
       "array([2.9103003, 2.9101343], dtype=float32)"
      ]
     },
     "execution_count": 19,
     "metadata": {},
     "output_type": "execute_result"
    }
   ],
   "source": [
    "sess.run(loss, feed_dict = {input_ids: [[1, 2, 3, 4, 5, 6, 7, 8, 9],\n",
    "                                       [1, 2, 3, 4, 5, 6, 7, 8, 9]],\n",
    "                        input_lengths: [9, 9],\n",
    "                        mel_outputs: np.random.normal(size=(2, 50, 80)).astype(np.float32),\n",
    "                        mel_actuals: np.random.normal(size=(2, 50, 80)).astype(np.float32),\n",
    "                        mel_lengths: [50, 50]})"
   ]
  },
  {
   "cell_type": "code",
   "execution_count": 20,
   "metadata": {},
   "outputs": [
    {
     "data": {
      "text/plain": [
       "(1, 9, 50)"
      ]
     },
     "execution_count": 20,
     "metadata": {},
     "output_type": "execute_result"
    }
   ],
   "source": [
    "sess.run(guided, feed_dict = {input_ids: [[1, 2, 3, 4, 5, 6, 7, 8, 9]],\n",
    "                        input_lengths: [9],\n",
    "                        mel_outputs: np.random.normal(size=(1, 50, 80)).astype(np.float32),\n",
    "                        mel_actuals: np.random.normal(size=(1, 50, 80)).astype(np.float32),\n",
    "                        mel_lengths: [50]}).shape"
   ]
  }
 ],
 "metadata": {
  "kernelspec": {
   "display_name": "Python 3",
   "language": "python",
   "name": "python3"
  },
  "language_info": {
   "codemirror_mode": {
    "name": "ipython",
    "version": 3
   },
   "file_extension": ".py",
   "mimetype": "text/x-python",
   "name": "python",
   "nbconvert_exporter": "python",
   "pygments_lexer": "ipython3",
   "version": "3.7.7"
  }
 },
 "nbformat": 4,
 "nbformat_minor": 4
}

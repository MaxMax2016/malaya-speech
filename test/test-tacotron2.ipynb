{
 "cells": [
  {
   "cell_type": "code",
   "execution_count": 1,
   "metadata": {},
   "outputs": [],
   "source": [
    "import os\n",
    "\n",
    "os.environ['CUDA_VISIBLE_DEVICES'] = '1'"
   ]
  },
  {
   "cell_type": "code",
   "execution_count": 2,
   "metadata": {},
   "outputs": [],
   "source": [
    "import sys\n",
    "\n",
    "SOURCE_DIR = os.path.dirname(os.path.dirname(os.path.abspath(__name__)))\n",
    "sys.path.insert(0, SOURCE_DIR)"
   ]
  },
  {
   "cell_type": "code",
   "execution_count": 3,
   "metadata": {},
   "outputs": [
    {
     "name": "stdout",
     "output_type": "stream",
     "text": [
      "WARNING:tensorflow:From /Users/huseinzolkepli/Documents/malaya-speech/malaya_speech/train/optimizer/__init__.py:35: The name tf.train.AdagradOptimizer is deprecated. Please use tf.compat.v1.train.AdagradOptimizer instead.\n",
      "\n",
      "WARNING:tensorflow:From /Users/huseinzolkepli/Documents/malaya-speech/malaya_speech/train/optimizer/__init__.py:36: The name tf.train.AdamOptimizer is deprecated. Please use tf.compat.v1.train.AdamOptimizer instead.\n",
      "\n",
      "WARNING:tensorflow:From /Users/huseinzolkepli/Documents/malaya-speech/malaya_speech/train/optimizer/__init__.py:37: The name tf.train.FtrlOptimizer is deprecated. Please use tf.compat.v1.train.FtrlOptimizer instead.\n",
      "\n",
      "WARNING:tensorflow:From /Users/huseinzolkepli/Documents/malaya-speech/malaya_speech/train/optimizer/__init__.py:39: The name tf.train.RMSPropOptimizer is deprecated. Please use tf.compat.v1.train.RMSPropOptimizer instead.\n",
      "\n",
      "WARNING:tensorflow:From /Users/huseinzolkepli/Documents/malaya-speech/malaya_speech/train/optimizer/__init__.py:40: The name tf.train.GradientDescentOptimizer is deprecated. Please use tf.compat.v1.train.GradientDescentOptimizer instead.\n",
      "\n",
      "WARNING:tensorflow:\n",
      "The TensorFlow contrib module will not be included in TensorFlow 2.0.\n",
      "For more information, please see:\n",
      "  * https://github.com/tensorflow/community/blob/master/rfcs/20180907-contrib-sunset.md\n",
      "  * https://github.com/tensorflow/addons\n",
      "  * https://github.com/tensorflow/io (for I/O related ops)\n",
      "If you depend on functionality not listed there, please file an issue.\n",
      "\n",
      "WARNING:tensorflow:From /Users/huseinzolkepli/Documents/malaya-speech/malaya_speech/train/model/quartznet/layer.py:6: The name tf.layers.Conv1D is deprecated. Please use tf.compat.v1.layers.Conv1D instead.\n",
      "\n"
     ]
    }
   ],
   "source": [
    "import tensorflow as tf\n",
    "import malaya_speech\n",
    "import malaya_speech.train\n",
    "from malaya_speech.train.model import tacotron2\n",
    "import malaya_speech.config\n",
    "import numpy as np"
   ]
  },
  {
   "cell_type": "code",
   "execution_count": 4,
   "metadata": {},
   "outputs": [],
   "source": [
    "tacotron2_config = malaya_speech.config.tacotron2_config"
   ]
  },
  {
   "cell_type": "code",
   "execution_count": 5,
   "metadata": {
    "scrolled": true
   },
   "outputs": [
    {
     "name": "stdout",
     "output_type": "stream",
     "text": [
      "WARNING:tensorflow:From /Users/huseinzolkepli/Documents/malaya-speech/malaya_speech/train/model/fastspeech/layer.py:11: The name tf.keras.initializers.TruncatedNormal is deprecated. Please use tf.compat.v1.keras.initializers.TruncatedNormal instead.\n",
      "\n",
      "WARNING:tensorflow:From /Library/Frameworks/Python.framework/Versions/3.7/lib/python3.7/site-packages/tensorflow_core/python/keras/initializers.py:94: calling TruncatedNormal.__init__ (from tensorflow.python.ops.init_ops) with dtype is deprecated and will be removed in a future version.\n",
      "Instructions for updating:\n",
      "Call initializer instance with the dtype argument instead of passing it to the constructor\n",
      "WARNING:tensorflow:From /Library/Frameworks/Python.framework/Versions/3.7/lib/python3.7/site-packages/tensorflow_core/python/ops/init_ops.py:97: calling GlorotUniform.__init__ (from tensorflow.python.ops.init_ops) with dtype is deprecated and will be removed in a future version.\n",
      "Instructions for updating:\n",
      "Call initializer instance with the dtype argument instead of passing it to the constructor\n",
      "WARNING:tensorflow:From /Library/Frameworks/Python.framework/Versions/3.7/lib/python3.7/site-packages/tensorflow_core/python/ops/init_ops.py:97: calling Orthogonal.__init__ (from tensorflow.python.ops.init_ops) with dtype is deprecated and will be removed in a future version.\n",
      "Instructions for updating:\n",
      "Call initializer instance with the dtype argument instead of passing it to the constructor\n",
      "WARNING:tensorflow:From /Library/Frameworks/Python.framework/Versions/3.7/lib/python3.7/site-packages/tensorflow_core/python/ops/init_ops.py:97: calling Zeros.__init__ (from tensorflow.python.ops.init_ops) with dtype is deprecated and will be removed in a future version.\n",
      "Instructions for updating:\n",
      "Call initializer instance with the dtype argument instead of passing it to the constructor\n"
     ]
    }
   ],
   "source": [
    "model = tacotron2.Model(tacotron2.Config(vocab_size = 20, **tacotron2_config))"
   ]
  },
  {
   "cell_type": "code",
   "execution_count": 6,
   "metadata": {},
   "outputs": [],
   "source": [
    "input_ids = tf.placeholder(tf.int32, [None, None])\n",
    "input_lengths = tf.placeholder(tf.int32, [None])\n",
    "speaker_ids = tf.constant([0], dtype = tf.int32)\n",
    "mel_outputs = tf.placeholder(tf.float32, [None, None, 80])\n",
    "mel_lengths = tf.placeholder(tf.int32, [None])\n",
    "mel_actuals = tf.placeholder(tf.float32, [None, None, 80])"
   ]
  },
  {
   "cell_type": "code",
   "execution_count": 7,
   "metadata": {},
   "outputs": [
    {
     "data": {
      "text/plain": [
       "<tf.Tensor 'ExpandDims:0' shape=(1, ?, ?) dtype=float32>"
      ]
     },
     "execution_count": 7,
     "metadata": {},
     "output_type": "execute_result"
    }
   ],
   "source": [
    "guided = tacotron2.generate_guided_attention(mel_lengths[0], input_lengths[0])\n",
    "guided = tf.expand_dims(guided, 0)\n",
    "guided"
   ]
  },
  {
   "cell_type": "code",
   "execution_count": 8,
   "metadata": {},
   "outputs": [
    {
     "data": {
      "text/plain": [
       "TensorShape([])"
      ]
     },
     "execution_count": 8,
     "metadata": {},
     "output_type": "execute_result"
    }
   ],
   "source": [
    "model.decoder.sampler.sample_ids_shape"
   ]
  },
  {
   "cell_type": "code",
   "execution_count": 9,
   "metadata": {
    "scrolled": false
   },
   "outputs": [
    {
     "name": "stdout",
     "output_type": "stream",
     "text": [
      "WARNING:tensorflow:From /Users/huseinzolkepli/Documents/malaya-speech/malaya_speech/train/model/tacotron2/model.py:96: The name tf.get_variable is deprecated. Please use tf.compat.v1.get_variable instead.\n",
      "\n",
      "WARNING:tensorflow:From /Library/Frameworks/Python.framework/Versions/3.7/lib/python3.7/site-packages/tensorflow_core/python/ops/resource_variable_ops.py:1630: calling BaseResourceVariable.__init__ (from tensorflow.python.ops.resource_variable_ops) with constraint is deprecated and will be removed in a future version.\n",
      "Instructions for updating:\n",
      "If using Keras pass *_constraint arguments to layers.\n",
      "WARNING:tensorflow:From /Library/Frameworks/Python.framework/Versions/3.7/lib/python3.7/site-packages/tensorflow_core/python/keras/backend.py:3994: where (from tensorflow.python.ops.array_ops) is deprecated and will be removed in a future version.\n",
      "Instructions for updating:\n",
      "Use tf.where in 2.0, which has the same broadcast rule as np.where\n",
      "WARNING:tensorflow:From /Library/Frameworks/Python.framework/Versions/3.7/lib/python3.7/site-packages/tensorflow_core/python/autograph/converters/directives.py:119: The name tf.debugging.assert_greater is deprecated. Please use tf.compat.v1.debugging.assert_greater instead.\n",
      "\n",
      "ERROR:tensorflow:==================================\n",
      "Object was never used (type <class 'tensorflow.python.framework.ops.Operation'>):\n",
      "<tf.Operation 'model/decoder/assert_greater/Assert/Assert' type=Assert>\n",
      "If you want to mark it as used call its \"mark_used()\" method.\n",
      "It was originally created here:\n",
      "  File \"/Library/Frameworks/Python.framework/Versions/3.7/lib/python3.7/site-packages/tensorflow_core/python/autograph/impl/api.py\", line 439, in converted_call\n",
      "    return _call_unconverted(f, args, kwargs, options)  File \"/Library/Frameworks/Python.framework/Versions/3.7/lib/python3.7/site-packages/tensorflow_core/python/autograph/impl/api.py\", line 330, in _call_unconverted\n",
      "    return f(*args, **kwargs)  File \"/Library/Frameworks/Python.framework/Versions/3.7/lib/python3.7/site-packages/tensorflow_core/python/ops/check_ops.py\", line 966, in assert_greater\n",
      "    y, data, summarize, message, name)  File \"/Library/Frameworks/Python.framework/Versions/3.7/lib/python3.7/site-packages/tensorflow_core/python/ops/check_ops.py\", line 371, in _binary_assert\n",
      "    return control_flow_ops.Assert(condition, data, summarize=summarize)  File \"/Library/Frameworks/Python.framework/Versions/3.7/lib/python3.7/site-packages/tensorflow_core/python/util/tf_should_use.py\", line 198, in wrapped\n",
      "    return _add_should_use_warning(fn(*args, **kwargs))\n",
      "==================================\n"
     ]
    },
    {
     "data": {
      "text/plain": [
       "(<tf.Tensor 'model/Reshape:0' shape=(?, ?, 80) dtype=float32>,\n",
       " <tf.Tensor 'model/add:0' shape=(?, ?, 80) dtype=float32>,\n",
       " <tf.Tensor 'model/Reshape_1:0' shape=(?, ?) dtype=float32>,\n",
       " <tf.Tensor 'model/transpose:0' shape=(?, ?, ?) dtype=float32>)"
      ]
     },
     "execution_count": 9,
     "metadata": {},
     "output_type": "execute_result"
    }
   ],
   "source": [
    "r = model(input_ids, input_lengths, speaker_ids, mel_outputs, mel_lengths,\n",
    "          maximum_iterations = 2000,\n",
    "          training = True)\n",
    "r"
   ]
  },
  {
   "cell_type": "code",
   "execution_count": 10,
   "metadata": {},
   "outputs": [],
   "source": [
    "from malaya_speech.train.loss import calculate_2d_loss, calculate_3d_loss"
   ]
  },
  {
   "cell_type": "code",
   "execution_count": 11,
   "metadata": {},
   "outputs": [],
   "source": [
    "binary_crossentropy = tf.keras.losses.BinaryCrossentropy(\n",
    "    from_logits=True\n",
    ")\n",
    "mse = tf.keras.losses.MeanSquaredError()\n",
    "mae = tf.keras.losses.MeanAbsoluteError()\n",
    "decoder_output, post_mel_outputs, stop_token_predictions, alignment_histories = r\n",
    "mel_loss_before = calculate_3d_loss(\n",
    "    mel_actuals, decoder_output, loss_fn=mae\n",
    ")\n",
    "mel_loss_after = calculate_3d_loss(\n",
    "    mel_actuals, post_mel_outputs, loss_fn=mae\n",
    ")\n",
    "max_mel_length = tf.reduce_max(mel_lengths)\n",
    "stop_gts = tf.expand_dims(\n",
    "    tf.range(tf.reduce_max(max_mel_length), dtype=tf.int32), 0\n",
    ")\n",
    "stop_gts = tf.tile(\n",
    "    stop_gts, [tf.shape(mel_lengths)[0], 1]\n",
    ")\n",
    "stop_gts = tf.cast(\n",
    "    tf.math.greater_equal(stop_gts, tf.expand_dims(mel_lengths, 1)),\n",
    "    tf.float32,\n",
    ")\n",
    "stop_token_loss = calculate_2d_loss(\n",
    "    stop_gts, stop_token_predictions, loss_fn=binary_crossentropy\n",
    ")\n",
    "attention_masks = tf.cast(\n",
    "    tf.math.not_equal(guided, -1.0), tf.float32\n",
    ")\n",
    "loss_att = tf.reduce_sum(\n",
    "    tf.abs(alignment_histories * guided) * attention_masks,\n",
    "    axis=[1, 2],\n",
    ")\n",
    "loss_att /= tf.reduce_sum(attention_masks, axis=[1, 2])"
   ]
  },
  {
   "cell_type": "code",
   "execution_count": 12,
   "metadata": {},
   "outputs": [
    {
     "data": {
      "text/plain": [
       "<tf.Tensor 'truediv_3:0' shape=(?,) dtype=float32>"
      ]
     },
     "execution_count": 12,
     "metadata": {},
     "output_type": "execute_result"
    }
   ],
   "source": [
    "loss_att"
   ]
  },
  {
   "cell_type": "code",
   "execution_count": 13,
   "metadata": {},
   "outputs": [],
   "source": [
    "loss = stop_token_loss + mel_loss_before + mel_loss_after + loss_att"
   ]
  },
  {
   "cell_type": "code",
   "execution_count": 14,
   "metadata": {},
   "outputs": [
    {
     "data": {
      "text/plain": [
       "(<tf.Tensor 'binary_crossentropy/weighted_loss/value:0' shape=() dtype=float32>,\n",
       " <tf.Tensor 'mean_absolute_error/weighted_loss/value:0' shape=() dtype=float32>,\n",
       " <tf.Tensor 'mean_absolute_error_1/weighted_loss/value:0' shape=() dtype=float32>,\n",
       " <tf.Tensor 'truediv_3:0' shape=(?,) dtype=float32>)"
      ]
     },
     "execution_count": 14,
     "metadata": {},
     "output_type": "execute_result"
    }
   ],
   "source": [
    "stop_token_loss, mel_loss_before, mel_loss_after, loss_att"
   ]
  },
  {
   "cell_type": "code",
   "execution_count": 15,
   "metadata": {},
   "outputs": [],
   "source": [
    "# r = model.inference(input_ids, input_lengths, speaker_ids)\n",
    "# r"
   ]
  },
  {
   "cell_type": "code",
   "execution_count": 16,
   "metadata": {},
   "outputs": [],
   "source": [
    "sess = tf.InteractiveSession()\n",
    "sess.run(tf.global_variables_initializer())"
   ]
  },
  {
   "cell_type": "code",
   "execution_count": 17,
   "metadata": {},
   "outputs": [
    {
     "data": {
      "text/plain": [
       "(1, 50, 80)"
      ]
     },
     "execution_count": 17,
     "metadata": {},
     "output_type": "execute_result"
    }
   ],
   "source": [
    "sess.run(decoder_output, feed_dict = {input_ids: [[1, 2, 3, 4, 5, 6, 7, 8, 9]],\n",
    "                        input_lengths: [9],\n",
    "                        mel_outputs: np.random.normal(size=(1, 50, 80)).astype(np.float32),\n",
    "                        mel_lengths: [50]}).shape"
   ]
  },
  {
   "cell_type": "code",
   "execution_count": 18,
   "metadata": {},
   "outputs": [
    {
     "data": {
      "text/plain": [
       "(array([[[ 0.01205832,  0.06112676,  0.01451113, ..., -0.08809504,\n",
       "          -0.1510759 ,  0.25878596],\n",
       "         [-0.00125139,  0.05847366,  0.01471439, ..., -0.07228784,\n",
       "          -0.17127278,  0.25597724],\n",
       "         [-0.01122096,  0.03775144,  0.01852337, ..., -0.06438782,\n",
       "          -0.1846685 ,  0.24126963],\n",
       "         ...,\n",
       "         [-0.06378266, -0.0767594 ,  0.05732406, ..., -0.01404838,\n",
       "          -0.22951262,  0.22889838],\n",
       "         [-0.05651725, -0.06273568,  0.05495981, ..., -0.01110187,\n",
       "          -0.21874727,  0.21055856],\n",
       "         [-0.04469759, -0.06674179,  0.05552211, ..., -0.01811162,\n",
       "          -0.21861617,  0.2092176 ]]], dtype=float32),\n",
       " array([[[-0.03075084,  1.1197312 ,  0.70790046, ..., -1.2433404 ,\n",
       "           1.6886783 ,  1.4029694 ],\n",
       "         [-0.36572373,  0.2761566 , -0.37118164, ..., -0.18323572,\n",
       "           0.02712068,  3.790811  ],\n",
       "         [-1.2544146 ,  0.7407576 ,  0.80752337, ..., -0.32185522,\n",
       "           2.481561  ,  2.4461815 ],\n",
       "         ...,\n",
       "         [ 2.2149043 ,  0.22147304,  1.3407322 , ...,  0.21333905,\n",
       "          -1.4341078 ,  2.1984963 ],\n",
       "         [ 1.2726603 ,  2.2093596 , -0.70842505, ...,  0.21575326,\n",
       "           1.6394086 , -0.03954649],\n",
       "         [ 0.95420325,  1.2858672 , -0.65226185, ..., -0.20841143,\n",
       "          -0.5334884 ,  0.10384588]]], dtype=float32),\n",
       " array([[-0.00241289,  0.01306102,  0.03751075,  0.04436983,  0.05910776,\n",
       "          0.05336285,  0.07549998,  0.11148685,  0.12541108,  0.13455354,\n",
       "          0.14102666,  0.15910554,  0.16805002,  0.17167127,  0.16411212,\n",
       "          0.1487541 ,  0.15554662,  0.16773415,  0.16597563,  0.16666628,\n",
       "          0.17718259,  0.18292144,  0.18763277,  0.19167654,  0.19661973,\n",
       "          0.1899944 ,  0.1860822 ,  0.16897713,  0.16906749,  0.16952631,\n",
       "          0.16569534,  0.17485256,  0.1874422 ,  0.1864861 ,  0.17742091,\n",
       "          0.17645286,  0.1641328 ,  0.17317003,  0.16189724,  0.13776383,\n",
       "          0.13314927,  0.12810405,  0.14240333,  0.15174729,  0.16263463,\n",
       "          0.17502232,  0.17400055,  0.16921422,  0.172207  ,  0.16965452]],\n",
       "       dtype=float32),\n",
       " array([[[0.12891513, 0.12732324, 0.12743695, 0.12952586, 0.12886113,\n",
       "          0.13069436, 0.1304221 , 0.13222244, 0.13219191, 0.13203274,\n",
       "          0.13317223, 0.13382807, 0.13349621, 0.13570905, 0.1358533 ,\n",
       "          0.135937  , 0.13787115, 0.14049552, 0.14052969, 0.1411004 ,\n",
       "          0.14092451, 0.14064829, 0.1407339 , 0.14104588, 0.1412463 ,\n",
       "          0.14212073, 0.14150372, 0.14393725, 0.1444852 , 0.14611383,\n",
       "          0.14912389, 0.14518826, 0.14734298, 0.14674997, 0.14734286,\n",
       "          0.14828092, 0.14654116, 0.14766696, 0.14890783, 0.14982219,\n",
       "          0.14779665, 0.1504039 , 0.15278204, 0.15484829, 0.15285607,\n",
       "          0.15214594, 0.1507765 , 0.15209034, 0.1506922 , 0.14927298],\n",
       "         [0.10968255, 0.10852514, 0.10856445, 0.10959618, 0.10912649,\n",
       "          0.10915034, 0.10949253, 0.11026912, 0.11045737, 0.11003952,\n",
       "          0.11051507, 0.11082839, 0.11019987, 0.11294235, 0.11176727,\n",
       "          0.11251881, 0.11318694, 0.1151854 , 0.11575098, 0.11618307,\n",
       "          0.11669055, 0.11697891, 0.11577705, 0.11697494, 0.11734197,\n",
       "          0.11752794, 0.11670418, 0.11623492, 0.11758881, 0.11830878,\n",
       "          0.12045553, 0.12145744, 0.12210743, 0.12160718, 0.12091994,\n",
       "          0.121475  , 0.12261678, 0.123285  , 0.12435554, 0.12315184,\n",
       "          0.12397008, 0.1244345 , 0.12520438, 0.12920086, 0.12745366,\n",
       "          0.12627667, 0.12495159, 0.12690192, 0.12870215, 0.12809004],\n",
       "         [0.11014428, 0.10987194, 0.10917033, 0.1099076 , 0.11084974,\n",
       "          0.11162002, 0.11293372, 0.1140684 , 0.11412441, 0.11366013,\n",
       "          0.11364459, 0.11421832, 0.11323235, 0.11342581, 0.11348417,\n",
       "          0.1143041 , 0.11500865, 0.1152873 , 0.1143226 , 0.11505364,\n",
       "          0.11633404, 0.11670147, 0.11477959, 0.11596489, 0.1161598 ,\n",
       "          0.11679265, 0.11785387, 0.11573753, 0.11945618, 0.12029514,\n",
       "          0.11902038, 0.12069523, 0.12371871, 0.12493666, 0.12213379,\n",
       "          0.12407733, 0.1234991 , 0.12377365, 0.1224795 , 0.12029539,\n",
       "          0.11755289, 0.11871983, 0.11950217, 0.12404559, 0.12166946,\n",
       "          0.12403466, 0.12377802, 0.1252059 , 0.1258701 , 0.12480397],\n",
       "         [0.10488531, 0.10487913, 0.10475858, 0.10508447, 0.10429839,\n",
       "          0.10536337, 0.10500708, 0.10535554, 0.10606278, 0.1064677 ,\n",
       "          0.10677058, 0.10773988, 0.10740947, 0.10643488, 0.10559259,\n",
       "          0.10470735, 0.10603587, 0.10551156, 0.10596805, 0.10527521,\n",
       "          0.10672406, 0.10798538, 0.10594999, 0.10917459, 0.10804651,\n",
       "          0.10680051, 0.1070565 , 0.10499947, 0.10552933, 0.10479157,\n",
       "          0.10633667, 0.10674865, 0.10629053, 0.10646833, 0.10676   ,\n",
       "          0.10824822, 0.10776962, 0.10803235, 0.10711485, 0.10701328,\n",
       "          0.10730842, 0.10524905, 0.10332716, 0.10264807, 0.10164846,\n",
       "          0.1021354 , 0.10402581, 0.10129544, 0.10131822, 0.10326371],\n",
       "         [0.10972434, 0.11196623, 0.11360297, 0.11247556, 0.11272884,\n",
       "          0.11204238, 0.11161691, 0.11017252, 0.10977349, 0.11042238,\n",
       "          0.11103151, 0.11097793, 0.11109462, 0.1107735 , 0.11104608,\n",
       "          0.11246649, 0.1114286 , 0.11038852, 0.11024752, 0.10956423,\n",
       "          0.11038339, 0.11097885, 0.11199602, 0.11099745, 0.11125372,\n",
       "          0.11118112, 0.1113406 , 0.11125495, 0.11042688, 0.10948335,\n",
       "          0.1093083 , 0.11011404, 0.10841114, 0.10758249, 0.1085009 ,\n",
       "          0.10778487, 0.10835391, 0.10832899, 0.108625  , 0.10925482,\n",
       "          0.1110997 , 0.10939938, 0.10851446, 0.10804372, 0.10854108,\n",
       "          0.10764916, 0.10694766, 0.10542631, 0.10538711, 0.10727497],\n",
       "         [0.14508788, 0.1459131 , 0.14692529, 0.1454746 , 0.14597365,\n",
       "          0.14502151, 0.14355935, 0.14178674, 0.14233017, 0.14183325,\n",
       "          0.1415958 , 0.14076413, 0.14211854, 0.14143169, 0.14107312,\n",
       "          0.14081807, 0.13952379, 0.13868603, 0.13880046, 0.13873056,\n",
       "          0.1376602 , 0.1363632 , 0.13741912, 0.13557635, 0.13507998,\n",
       "          0.13513316, 0.13617243, 0.13693772, 0.13448349, 0.13260008,\n",
       "          0.13125032, 0.13074195, 0.13019897, 0.13034414, 0.13147582,\n",
       "          0.12825176, 0.1289282 , 0.1277255 , 0.12745067, 0.12786113,\n",
       "          0.12710656, 0.1254792 , 0.125123  , 0.123587  , 0.12632044,\n",
       "          0.12678975, 0.12428878, 0.12370309, 0.12388766, 0.12579916],\n",
       "         [0.1038548 , 0.10468888, 0.10336155, 0.10334517, 0.10354721,\n",
       "          0.1033289 , 0.10381863, 0.10321147, 0.10313565, 0.10236425,\n",
       "          0.10143383, 0.10105558, 0.10237765, 0.10182546, 0.10319517,\n",
       "          0.10220997, 0.10166498, 0.10052338, 0.1009021 , 0.10068603,\n",
       "          0.09960556, 0.09944113, 0.10064798, 0.10039681, 0.09994603,\n",
       "          0.10042582, 0.09913298, 0.10041794, 0.09970229, 0.10047887,\n",
       "          0.09884019, 0.09913372, 0.09837282, 0.09736314, 0.09800801,\n",
       "          0.09768485, 0.0983872 , 0.0982267 , 0.09700982, 0.09851429,\n",
       "          0.09923498, 0.09889385, 0.09757502, 0.09509438, 0.09740442,\n",
       "          0.09668498, 0.09771346, 0.09698761, 0.09683869, 0.09641646],\n",
       "         [0.0932839 , 0.09354036, 0.09325998, 0.09237166, 0.09212485,\n",
       "          0.09188722, 0.09223251, 0.09175844, 0.09135423, 0.09263992,\n",
       "          0.09210598, 0.09227541, 0.09219607, 0.09091149, 0.0916578 ,\n",
       "          0.09143152, 0.09044428, 0.08939125, 0.08937319, 0.08902636,\n",
       "          0.08867941, 0.08786169, 0.08933351, 0.08749305, 0.08792211,\n",
       "          0.08812354, 0.08831234, 0.08870381, 0.08721523, 0.08751193,\n",
       "          0.08509928, 0.08525684, 0.0836199 , 0.08457422, 0.08527581,\n",
       "          0.0854807 , 0.08615451, 0.08534574, 0.08538622, 0.08576495,\n",
       "          0.08767296, 0.08793513, 0.08805378, 0.08391286, 0.08584125,\n",
       "          0.0862351 , 0.08894604, 0.08878507, 0.0881893 , 0.08688904],\n",
       "         [0.09442183, 0.09329201, 0.09291988, 0.09221891, 0.09248969,\n",
       "          0.09089191, 0.09091714, 0.09115538, 0.09056997, 0.09054015,\n",
       "          0.08973047, 0.08831228, 0.08787531, 0.0865458 , 0.08633044,\n",
       "          0.08560664, 0.08483584, 0.08453107, 0.08410537, 0.08438046,\n",
       "          0.08299829, 0.08304113, 0.08336286, 0.08237599, 0.08300357,\n",
       "          0.08189452, 0.08192345, 0.08177646, 0.08111252, 0.08041641,\n",
       "          0.08056539, 0.08066386, 0.07993754, 0.08037383, 0.07958283,\n",
       "          0.07871639, 0.07774953, 0.07761509, 0.07867057, 0.07832208,\n",
       "          0.07825783, 0.07948507, 0.079918  , 0.07861915, 0.07826519,\n",
       "          0.07804839, 0.07857214, 0.07960426, 0.07911448, 0.07818964]]],\n",
       "       dtype=float32))"
      ]
     },
     "execution_count": 18,
     "metadata": {},
     "output_type": "execute_result"
    }
   ],
   "source": [
    "sess.run(r, feed_dict = {input_ids: [[1, 2, 3, 4, 5, 6, 7, 8, 9]],\n",
    "                        input_lengths: [9],\n",
    "                        mel_outputs: np.random.normal(size=(1, 50, 80)).astype(np.float32),\n",
    "                        mel_lengths: [50]})"
   ]
  },
  {
   "cell_type": "code",
   "execution_count": 19,
   "metadata": {},
   "outputs": [
    {
     "data": {
      "text/plain": [
       "array([2.9851305], dtype=float32)"
      ]
     },
     "execution_count": 19,
     "metadata": {},
     "output_type": "execute_result"
    }
   ],
   "source": [
    "sess.run(loss, feed_dict = {input_ids: [[1, 2, 3, 4, 5, 6, 7, 8, 9]],\n",
    "                        input_lengths: [9],\n",
    "                        mel_outputs: np.random.normal(size=(1, 50, 80)).astype(np.float32),\n",
    "                        mel_actuals: np.random.normal(size=(1, 50, 80)).astype(np.float32),\n",
    "                        mel_lengths: [50]})"
   ]
  },
  {
   "cell_type": "code",
   "execution_count": 20,
   "metadata": {},
   "outputs": [
    {
     "data": {
      "text/plain": [
       "array([2.9784622, 2.9769237], dtype=float32)"
      ]
     },
     "execution_count": 20,
     "metadata": {},
     "output_type": "execute_result"
    }
   ],
   "source": [
    "sess.run(loss, feed_dict = {input_ids: [[1, 2, 3, 4, 5, 6, 7, 8, 9],\n",
    "                                       [1, 2, 3, 4, 5, 6, 7, 8, 9]],\n",
    "                        input_lengths: [9, 9],\n",
    "                        mel_outputs: np.random.normal(size=(2, 50, 80)).astype(np.float32),\n",
    "                        mel_actuals: np.random.normal(size=(2, 50, 80)).astype(np.float32),\n",
    "                        mel_lengths: [50, 50]})"
   ]
  },
  {
   "cell_type": "code",
   "execution_count": 21,
   "metadata": {},
   "outputs": [
    {
     "data": {
      "text/plain": [
       "(1, 9, 50)"
      ]
     },
     "execution_count": 21,
     "metadata": {},
     "output_type": "execute_result"
    }
   ],
   "source": [
    "sess.run(guided, feed_dict = {input_ids: [[1, 2, 3, 4, 5, 6, 7, 8, 9]],\n",
    "                        input_lengths: [9],\n",
    "                        mel_outputs: np.random.normal(size=(1, 50, 80)).astype(np.float32),\n",
    "                        mel_actuals: np.random.normal(size=(1, 50, 80)).astype(np.float32),\n",
    "                        mel_lengths: [50]}).shape"
   ]
  }
 ],
 "metadata": {
  "kernelspec": {
   "display_name": "Python 3",
   "language": "python",
   "name": "python3"
  },
  "language_info": {
   "codemirror_mode": {
    "name": "ipython",
    "version": 3
   },
   "file_extension": ".py",
   "mimetype": "text/x-python",
   "name": "python",
   "nbconvert_exporter": "python",
   "pygments_lexer": "ipython3",
   "version": "3.7.7"
  }
 },
 "nbformat": 4,
 "nbformat_minor": 4
}

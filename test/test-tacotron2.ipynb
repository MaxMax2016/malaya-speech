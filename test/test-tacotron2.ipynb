{
 "cells": [
  {
   "cell_type": "code",
   "execution_count": 1,
   "metadata": {},
   "outputs": [],
   "source": [
    "import os\n",
    "\n",
    "os.environ['CUDA_VISIBLE_DEVICES'] = '1'"
   ]
  },
  {
   "cell_type": "code",
   "execution_count": 2,
   "metadata": {},
   "outputs": [],
   "source": [
    "import sys\n",
    "\n",
    "SOURCE_DIR = os.path.dirname(os.path.dirname(os.path.abspath(__name__)))\n",
    "sys.path.insert(0, SOURCE_DIR)"
   ]
  },
  {
   "cell_type": "code",
   "execution_count": 3,
   "metadata": {},
   "outputs": [
    {
     "name": "stdout",
     "output_type": "stream",
     "text": [
      "WARNING:tensorflow:From /Users/huseinzolkepli/Documents/malaya-speech/malaya_speech/train/optimizer/__init__.py:35: The name tf.train.AdagradOptimizer is deprecated. Please use tf.compat.v1.train.AdagradOptimizer instead.\n",
      "\n",
      "WARNING:tensorflow:From /Users/huseinzolkepli/Documents/malaya-speech/malaya_speech/train/optimizer/__init__.py:36: The name tf.train.AdamOptimizer is deprecated. Please use tf.compat.v1.train.AdamOptimizer instead.\n",
      "\n",
      "WARNING:tensorflow:From /Users/huseinzolkepli/Documents/malaya-speech/malaya_speech/train/optimizer/__init__.py:37: The name tf.train.FtrlOptimizer is deprecated. Please use tf.compat.v1.train.FtrlOptimizer instead.\n",
      "\n",
      "WARNING:tensorflow:From /Users/huseinzolkepli/Documents/malaya-speech/malaya_speech/train/optimizer/__init__.py:39: The name tf.train.RMSPropOptimizer is deprecated. Please use tf.compat.v1.train.RMSPropOptimizer instead.\n",
      "\n",
      "WARNING:tensorflow:From /Users/huseinzolkepli/Documents/malaya-speech/malaya_speech/train/optimizer/__init__.py:40: The name tf.train.GradientDescentOptimizer is deprecated. Please use tf.compat.v1.train.GradientDescentOptimizer instead.\n",
      "\n",
      "WARNING:tensorflow:\n",
      "The TensorFlow contrib module will not be included in TensorFlow 2.0.\n",
      "For more information, please see:\n",
      "  * https://github.com/tensorflow/community/blob/master/rfcs/20180907-contrib-sunset.md\n",
      "  * https://github.com/tensorflow/addons\n",
      "  * https://github.com/tensorflow/io (for I/O related ops)\n",
      "If you depend on functionality not listed there, please file an issue.\n",
      "\n",
      "WARNING:tensorflow:From /Users/huseinzolkepli/Documents/malaya-speech/malaya_speech/train/model/quartznet/layer.py:6: The name tf.layers.Conv1D is deprecated. Please use tf.compat.v1.layers.Conv1D instead.\n",
      "\n"
     ]
    }
   ],
   "source": [
    "import tensorflow as tf\n",
    "import malaya_speech\n",
    "import malaya_speech.train\n",
    "from malaya_speech.train.model import tacotron2\n",
    "import malaya_speech.config\n",
    "import numpy as np"
   ]
  },
  {
   "cell_type": "code",
   "execution_count": 4,
   "metadata": {},
   "outputs": [],
   "source": [
    "tacotron2_config = malaya_speech.config.tacotron2_config"
   ]
  },
  {
   "cell_type": "code",
   "execution_count": 5,
   "metadata": {
    "scrolled": true
   },
   "outputs": [
    {
     "name": "stdout",
     "output_type": "stream",
     "text": [
      "WARNING:tensorflow:From /Users/huseinzolkepli/Documents/malaya-speech/malaya_speech/train/model/fastspeech/layer.py:11: The name tf.keras.initializers.TruncatedNormal is deprecated. Please use tf.compat.v1.keras.initializers.TruncatedNormal instead.\n",
      "\n",
      "WARNING:tensorflow:From /Library/Frameworks/Python.framework/Versions/3.7/lib/python3.7/site-packages/tensorflow_core/python/keras/initializers.py:94: calling TruncatedNormal.__init__ (from tensorflow.python.ops.init_ops) with dtype is deprecated and will be removed in a future version.\n",
      "Instructions for updating:\n",
      "Call initializer instance with the dtype argument instead of passing it to the constructor\n",
      "WARNING:tensorflow:From /Library/Frameworks/Python.framework/Versions/3.7/lib/python3.7/site-packages/tensorflow_core/python/ops/init_ops.py:97: calling GlorotUniform.__init__ (from tensorflow.python.ops.init_ops) with dtype is deprecated and will be removed in a future version.\n",
      "Instructions for updating:\n",
      "Call initializer instance with the dtype argument instead of passing it to the constructor\n",
      "WARNING:tensorflow:From /Library/Frameworks/Python.framework/Versions/3.7/lib/python3.7/site-packages/tensorflow_core/python/ops/init_ops.py:97: calling Orthogonal.__init__ (from tensorflow.python.ops.init_ops) with dtype is deprecated and will be removed in a future version.\n",
      "Instructions for updating:\n",
      "Call initializer instance with the dtype argument instead of passing it to the constructor\n",
      "WARNING:tensorflow:From /Library/Frameworks/Python.framework/Versions/3.7/lib/python3.7/site-packages/tensorflow_core/python/ops/init_ops.py:97: calling Zeros.__init__ (from tensorflow.python.ops.init_ops) with dtype is deprecated and will be removed in a future version.\n",
      "Instructions for updating:\n",
      "Call initializer instance with the dtype argument instead of passing it to the constructor\n"
     ]
    }
   ],
   "source": [
    "model = tacotron2.Model(tacotron2.Config(vocab_size = 20, **tacotron2_config), training = True)"
   ]
  },
  {
   "cell_type": "code",
   "execution_count": 6,
   "metadata": {},
   "outputs": [],
   "source": [
    "input_ids = tf.placeholder(tf.int32, [None, None])\n",
    "input_lengths = tf.placeholder(tf.int32, [None])\n",
    "speaker_ids = tf.constant([0], dtype = tf.int32)\n",
    "mel_outputs = tf.placeholder(tf.float32, [None, None, 80])\n",
    "mel_lengths = tf.placeholder(tf.int32, [None])\n",
    "mel_actuals = tf.placeholder(tf.float32, [None, None, 80])"
   ]
  },
  {
   "cell_type": "code",
   "execution_count": 7,
   "metadata": {},
   "outputs": [
    {
     "data": {
      "text/plain": [
       "<tf.Tensor 'ExpandDims:0' shape=(1, ?, ?) dtype=float32>"
      ]
     },
     "execution_count": 7,
     "metadata": {},
     "output_type": "execute_result"
    }
   ],
   "source": [
    "guided = tacotron2.generate_guided_attention(mel_lengths[0], input_lengths[0])\n",
    "guided = tf.expand_dims(guided, 0)\n",
    "guided"
   ]
  },
  {
   "cell_type": "code",
   "execution_count": 8,
   "metadata": {
    "scrolled": false
   },
   "outputs": [
    {
     "name": "stdout",
     "output_type": "stream",
     "text": [
      "WARNING:tensorflow:From /Library/Frameworks/Python.framework/Versions/3.7/lib/python3.7/site-packages/tensorflow_core/python/ops/resource_variable_ops.py:1630: calling BaseResourceVariable.__init__ (from tensorflow.python.ops.resource_variable_ops) with constraint is deprecated and will be removed in a future version.\n",
      "Instructions for updating:\n",
      "If using Keras pass *_constraint arguments to layers.\n",
      "WARNING:tensorflow:From /Library/Frameworks/Python.framework/Versions/3.7/lib/python3.7/site-packages/tensorflow_core/python/keras/backend.py:3994: where (from tensorflow.python.ops.array_ops) is deprecated and will be removed in a future version.\n",
      "Instructions for updating:\n",
      "Use tf.where in 2.0, which has the same broadcast rule as np.where\n"
     ]
    },
    {
     "data": {
      "text/plain": [
       "(<tf.Tensor 'model/Reshape:0' shape=(?, ?, 80) dtype=float32>,\n",
       " <tf.Tensor 'model/add:0' shape=(?, ?, 80) dtype=float32>,\n",
       " <tf.Tensor 'model/Reshape_1:0' shape=(?, ?) dtype=float32>,\n",
       " <tf.Tensor 'model/transpose:0' shape=(?, ?, ?) dtype=float32>)"
      ]
     },
     "execution_count": 8,
     "metadata": {},
     "output_type": "execute_result"
    }
   ],
   "source": [
    "r = model(input_ids, input_lengths, speaker_ids, mel_outputs, mel_lengths, training = True)\n",
    "r"
   ]
  },
  {
   "cell_type": "code",
   "execution_count": 9,
   "metadata": {},
   "outputs": [],
   "source": [
    "from malaya_speech.train.loss import calculate_2d_loss, calculate_3d_loss"
   ]
  },
  {
   "cell_type": "code",
   "execution_count": 10,
   "metadata": {},
   "outputs": [],
   "source": [
    "binary_crossentropy = tf.keras.losses.BinaryCrossentropy(\n",
    "    from_logits=True\n",
    ")\n",
    "mse = tf.keras.losses.MeanSquaredError()\n",
    "mae = tf.keras.losses.MeanAbsoluteError()\n",
    "decoder_output, post_mel_outputs, stop_token_predictions, alignment_histories = r\n",
    "mel_loss_before = calculate_3d_loss(\n",
    "    mel_actuals, decoder_output, loss_fn=mae\n",
    ")\n",
    "mel_loss_after = calculate_3d_loss(\n",
    "    mel_actuals, post_mel_outputs, loss_fn=mae\n",
    ")\n",
    "max_mel_length = tf.reduce_max(mel_lengths)\n",
    "stop_gts = tf.expand_dims(\n",
    "    tf.range(tf.reduce_max(max_mel_length), dtype=tf.int32), 0\n",
    ")\n",
    "stop_gts = tf.tile(\n",
    "    stop_gts, [tf.shape(mel_lengths)[0], 1]\n",
    ")\n",
    "stop_gts = tf.cast(\n",
    "    tf.math.greater_equal(stop_gts, tf.expand_dims(mel_lengths, 1)),\n",
    "    tf.float32,\n",
    ")\n",
    "stop_token_loss = calculate_2d_loss(\n",
    "    stop_gts, stop_token_predictions, loss_fn=binary_crossentropy\n",
    ")\n",
    "attention_masks = tf.cast(\n",
    "    tf.math.not_equal(guided, -1.0), tf.float32\n",
    ")\n",
    "loss_att = tf.reduce_sum(\n",
    "    tf.abs(alignment_histories * guided) * attention_masks,\n",
    "    axis=[1, 2],\n",
    ")\n",
    "loss_att /= tf.reduce_sum(attention_masks, axis=[1, 2])"
   ]
  },
  {
   "cell_type": "code",
   "execution_count": 12,
   "metadata": {},
   "outputs": [
    {
     "data": {
      "text/plain": [
       "<tf.Tensor 'truediv_3:0' shape=(?,) dtype=float32>"
      ]
     },
     "execution_count": 12,
     "metadata": {},
     "output_type": "execute_result"
    }
   ],
   "source": [
    "loss_att"
   ]
  },
  {
   "cell_type": "code",
   "execution_count": 13,
   "metadata": {},
   "outputs": [],
   "source": [
    "loss = stop_token_loss + mel_loss_before + mel_loss_after + loss_att"
   ]
  },
  {
   "cell_type": "code",
   "execution_count": 22,
   "metadata": {},
   "outputs": [
    {
     "data": {
      "text/plain": [
       "(<tf.Tensor 'binary_crossentropy/weighted_loss/value:0' shape=() dtype=float32>,\n",
       " <tf.Tensor 'mean_absolute_error/weighted_loss/value:0' shape=() dtype=float32>,\n",
       " <tf.Tensor 'mean_absolute_error_1/weighted_loss/value:0' shape=() dtype=float32>,\n",
       " <tf.Tensor 'truediv_3:0' shape=(?,) dtype=float32>)"
      ]
     },
     "execution_count": 22,
     "metadata": {},
     "output_type": "execute_result"
    }
   ],
   "source": [
    "stop_token_loss, mel_loss_before, mel_loss_after, loss_att"
   ]
  },
  {
   "cell_type": "code",
   "execution_count": 14,
   "metadata": {},
   "outputs": [],
   "source": [
    "# r = model.inference(input_ids, input_lengths, speaker_ids)\n",
    "# r"
   ]
  },
  {
   "cell_type": "code",
   "execution_count": 15,
   "metadata": {},
   "outputs": [],
   "source": [
    "sess = tf.InteractiveSession()\n",
    "sess.run(tf.global_variables_initializer())"
   ]
  },
  {
   "cell_type": "code",
   "execution_count": 16,
   "metadata": {},
   "outputs": [
    {
     "data": {
      "text/plain": [
       "(array([[[-0.05845664,  0.01698914, -0.03797201, ..., -0.12859719,\n",
       "           0.11696506, -0.06098603],\n",
       "         [-0.03344746,  0.04534059, -0.02232369, ..., -0.1299415 ,\n",
       "           0.12598631, -0.08066774],\n",
       "         [-0.0208192 ,  0.07812613, -0.00713367, ..., -0.12329363,\n",
       "           0.13041943, -0.10039776],\n",
       "         ...,\n",
       "         [ 0.05588069,  0.1256418 ,  0.13779905, ..., -0.06631085,\n",
       "           0.17549565, -0.17695418],\n",
       "         [ 0.06054533,  0.12437256,  0.13191333, ..., -0.0585171 ,\n",
       "           0.1684362 , -0.18723233],\n",
       "         [ 0.05715641,  0.1180123 ,  0.12852316, ..., -0.06226904,\n",
       "           0.17242554, -0.19674388]]], dtype=float32),\n",
       " array([[[-0.8391762 ,  0.30608574, -0.5190792 , ..., -0.03872657,\n",
       "           1.4743817 ,  0.7048205 ],\n",
       "         [ 0.9585729 ,  0.310763  , -1.6525022 , ..., -0.59665275,\n",
       "           0.88983357,  0.53238136],\n",
       "         [ 0.31971854,  1.2167671 , -2.3504717 , ..., -0.47918493,\n",
       "           3.0840304 , -0.9284392 ],\n",
       "         ...,\n",
       "         [-3.0039847 ,  3.322638  ,  1.1555614 , ...,  0.0999192 ,\n",
       "           2.7690225 , -3.205892  ],\n",
       "         [-0.9482876 ,  0.16337149,  1.4485763 , ...,  0.6440591 ,\n",
       "          -0.4180582 , -0.89459485],\n",
       "         [-0.32957157, -0.740978  , -0.48823678, ...,  0.81246656,\n",
       "          -0.04048586, -0.92947865]]], dtype=float32),\n",
       " array([[-0.01172914,  0.00512822,  0.01242729,  0.00211593,  0.00475645,\n",
       "          0.00619334,  0.0025035 ,  0.01273636,  0.02103007,  0.02415697,\n",
       "          0.02751224,  0.03576878,  0.04561253,  0.05959104,  0.07504386,\n",
       "          0.09192133,  0.10882385,  0.10342245,  0.08645734,  0.07696528,\n",
       "          0.07288315,  0.07348029,  0.06509797,  0.07323991,  0.08070633,\n",
       "          0.08240856,  0.08796434,  0.08019242,  0.0767444 ,  0.0841578 ,\n",
       "          0.09608895,  0.09362385,  0.08230863,  0.07416894,  0.06642263,\n",
       "          0.06642709,  0.06681313,  0.07618463,  0.07822929,  0.08407848,\n",
       "          0.07658487,  0.07521449,  0.05375973,  0.03755988,  0.02600185,\n",
       "          0.02343524,  0.03559934,  0.03778305,  0.06426057,  0.07991709]],\n",
       "       dtype=float32),\n",
       " array([[[0.09258355, 0.09301046, 0.09373725, 0.09487791, 0.09499361,\n",
       "          0.09482732, 0.09567726, 0.09507127, 0.09497336, 0.09503269,\n",
       "          0.09521321, 0.09528206, 0.09575171, 0.09680282, 0.09632087,\n",
       "          0.09642441, 0.09664704, 0.09718638, 0.09851445, 0.09818936,\n",
       "          0.09943929, 0.09890553, 0.09859348, 0.09892167, 0.10039134,\n",
       "          0.10033198, 0.10000458, 0.09978344, 0.10000924, 0.10086886,\n",
       "          0.10082936, 0.10136264, 0.10154699, 0.10080068, 0.10106096,\n",
       "          0.09844013, 0.09926338, 0.0991924 , 0.09880728, 0.09753904,\n",
       "          0.0994608 , 0.09986033, 0.09973479, 0.10197698, 0.09873036,\n",
       "          0.09951709, 0.10039231, 0.09955574, 0.10085671, 0.10135017],\n",
       "         [0.0669826 , 0.06674801, 0.06724264, 0.06672036, 0.06675075,\n",
       "          0.0673549 , 0.06771509, 0.06742571, 0.06710348, 0.06750619,\n",
       "          0.06774113, 0.06750227, 0.06741849, 0.06717207, 0.06676995,\n",
       "          0.06690566, 0.06800353, 0.06778251, 0.06844929, 0.06712987,\n",
       "          0.06790645, 0.06847296, 0.06835744, 0.06851318, 0.06808525,\n",
       "          0.06844417, 0.06931522, 0.06932233, 0.06855777, 0.06855812,\n",
       "          0.06881368, 0.06936321, 0.06898864, 0.06820574, 0.06850952,\n",
       "          0.0669853 , 0.06694279, 0.06780864, 0.06824253, 0.06725337,\n",
       "          0.06805763, 0.06944057, 0.06910779, 0.07094876, 0.07085792,\n",
       "          0.07119283, 0.07161943, 0.07086363, 0.07156623, 0.07197461],\n",
       "         [0.09560145, 0.09536532, 0.09620805, 0.09523057, 0.09519966,\n",
       "          0.09485593, 0.09420712, 0.09406117, 0.09321972, 0.09372304,\n",
       "          0.0935911 , 0.0932402 , 0.09336162, 0.09225793, 0.0908533 ,\n",
       "          0.09068274, 0.09194733, 0.0919433 , 0.09213478, 0.09062435,\n",
       "          0.08985239, 0.08932353, 0.08938663, 0.08925942, 0.08851407,\n",
       "          0.08965244, 0.08971328, 0.09003393, 0.09015193, 0.08950491,\n",
       "          0.08845919, 0.08757196, 0.08809353, 0.08590285, 0.08644708,\n",
       "          0.08495084, 0.0855417 , 0.08545867, 0.0847538 , 0.08323001,\n",
       "          0.08412521, 0.08347771, 0.08457053, 0.08404202, 0.0855139 ,\n",
       "          0.08627911, 0.08725407, 0.08644881, 0.08658071, 0.08752155],\n",
       "         [0.07697774, 0.07707368, 0.07612855, 0.07536408, 0.07426313,\n",
       "          0.07346674, 0.0726855 , 0.07368635, 0.0731478 , 0.07258281,\n",
       "          0.07241172, 0.07245558, 0.07164917, 0.07036171, 0.06981868,\n",
       "          0.06975053, 0.07093819, 0.07010748, 0.0697694 , 0.06975059,\n",
       "          0.06910026, 0.0680209 , 0.06780268, 0.06744795, 0.06757759,\n",
       "          0.06651971, 0.06637622, 0.06666651, 0.06823103, 0.06745397,\n",
       "          0.06716464, 0.06558009, 0.06540109, 0.06543932, 0.06592537,\n",
       "          0.06516516, 0.0664442 , 0.06645598, 0.06676581, 0.06445189,\n",
       "          0.0643839 , 0.0644486 , 0.0664655 , 0.06546783, 0.06663997,\n",
       "          0.0681435 , 0.06910888, 0.06883997, 0.06867328, 0.06804597],\n",
       "         [0.07492466, 0.07525264, 0.07618877, 0.07726264, 0.07644045,\n",
       "          0.0766546 , 0.07777326, 0.07779704, 0.07863811, 0.07904226,\n",
       "          0.07968169, 0.08085031, 0.08083323, 0.08171587, 0.08259601,\n",
       "          0.083184  , 0.0843958 , 0.08513396, 0.08428866, 0.08570994,\n",
       "          0.08646224, 0.08776236, 0.08779567, 0.0879629 , 0.0885741 ,\n",
       "          0.08896331, 0.08970612, 0.09008592, 0.09164877, 0.09189287,\n",
       "          0.09403294, 0.0925124 , 0.0937343 , 0.09515848, 0.09562491,\n",
       "          0.09860466, 0.10270765, 0.10363647, 0.10421441, 0.1031642 ,\n",
       "          0.10198142, 0.10172704, 0.10640973, 0.10575808, 0.10801335,\n",
       "          0.11030009, 0.11041585, 0.11104298, 0.11375406, 0.11372729],\n",
       "         [0.13202271, 0.13205162, 0.13294892, 0.13451947, 0.13475986,\n",
       "          0.13626778, 0.13781859, 0.13969994, 0.14061032, 0.14136213,\n",
       "          0.14213894, 0.14394629, 0.14424956, 0.14480484, 0.14517006,\n",
       "          0.14682795, 0.14595962, 0.145267  , 0.14806408, 0.14918835,\n",
       "          0.14965042, 0.15050034, 0.1509939 , 0.15196179, 0.15271087,\n",
       "          0.15370831, 0.15294148, 0.15284954, 0.15615807, 0.15612425,\n",
       "          0.15870301, 0.1584435 , 0.15828326, 0.1610767 , 0.15994553,\n",
       "          0.16255793, 0.1643185 , 0.16322148, 0.16566038, 0.16528562,\n",
       "          0.16600218, 0.16648173, 0.16775008, 0.1669959 , 0.16965635,\n",
       "          0.17058036, 0.17242019, 0.17333138, 0.17239572, 0.17145139],\n",
       "         [0.14415376, 0.14476597, 0.14430472, 0.1438708 , 0.14492503,\n",
       "          0.14519471, 0.1443667 , 0.14550267, 0.1452682 , 0.14538908,\n",
       "          0.14501196, 0.14383076, 0.14368834, 0.14361306, 0.14335324,\n",
       "          0.14300369, 0.14177419, 0.14151865, 0.14191158, 0.14177465,\n",
       "          0.14070168, 0.14061828, 0.14043601, 0.13976732, 0.13888223,\n",
       "          0.13791521, 0.13763216, 0.13718386, 0.13718492, 0.13671751,\n",
       "          0.13583127, 0.13463062, 0.13334239, 0.1333206 , 0.13310093,\n",
       "          0.13341455, 0.13171619, 0.13146506, 0.13100165, 0.13315034,\n",
       "          0.13190605, 0.13090932, 0.13002442, 0.13011967, 0.12772195,\n",
       "          0.12781776, 0.12818983, 0.12701127, 0.12576133, 0.12418466],\n",
       "         [0.15579166, 0.15491852, 0.15369709, 0.15345412, 0.15423357,\n",
       "          0.15417846, 0.15407228, 0.15228088, 0.15211977, 0.15216182,\n",
       "          0.15202299, 0.1516234 , 0.15235086, 0.15339725, 0.15445329,\n",
       "          0.15360704, 0.15165748, 0.15312055, 0.15178181, 0.15170377,\n",
       "          0.1512287 , 0.15185101, 0.15193218, 0.15124343, 0.15159893,\n",
       "          0.15239236, 0.15252085, 0.15200382, 0.14983018, 0.15068713,\n",
       "          0.149386  , 0.15193604, 0.15321633, 0.15269287, 0.15253629,\n",
       "          0.15291776, 0.1494324 , 0.14960553, 0.14887843, 0.151141  ,\n",
       "          0.15042934, 0.14815561, 0.1464086 , 0.14645976, 0.14648764,\n",
       "          0.14379422, 0.14072669, 0.14125027, 0.13963105, 0.14065716],\n",
       "         [0.16096188, 0.16081376, 0.15954402, 0.15870006, 0.15843396,\n",
       "          0.15719956, 0.1556842 , 0.15447488, 0.15491924, 0.15319997,\n",
       "          0.15218732, 0.1512691 , 0.15069704, 0.14987434, 0.15066458,\n",
       "          0.14961398, 0.14867692, 0.14794019, 0.14508592, 0.1459292 ,\n",
       "          0.14565857, 0.14454512, 0.14470203, 0.14492238, 0.1436656 ,\n",
       "          0.14207251, 0.14179005, 0.14207073, 0.13822804, 0.13819247,\n",
       "          0.13678001, 0.13859963, 0.13739346, 0.13740274, 0.13684937,\n",
       "          0.13696367, 0.13363321, 0.13315578, 0.13167569, 0.13478455,\n",
       "          0.13365346, 0.1354992 , 0.12952857, 0.12823103, 0.1263786 ,\n",
       "          0.12237502, 0.1198728 , 0.1216559 , 0.12078099, 0.12108731]]],\n",
       "       dtype=float32))"
      ]
     },
     "execution_count": 16,
     "metadata": {},
     "output_type": "execute_result"
    }
   ],
   "source": [
    "sess.run(r, feed_dict = {input_ids: [[1, 2, 3, 4, 5, 6, 7, 8, 9]],\n",
    "                        input_lengths: [9],\n",
    "                        mel_outputs: np.random.normal(size=(1, 50, 80)).astype(np.float32),\n",
    "                        mel_lengths: [50]})"
   ]
  },
  {
   "cell_type": "code",
   "execution_count": 18,
   "metadata": {},
   "outputs": [
    {
     "data": {
      "text/plain": [
       "array([3.0031924], dtype=float32)"
      ]
     },
     "execution_count": 18,
     "metadata": {},
     "output_type": "execute_result"
    }
   ],
   "source": [
    "sess.run(loss, feed_dict = {input_ids: [[1, 2, 3, 4, 5, 6, 7, 8, 9]],\n",
    "                        input_lengths: [9],\n",
    "                        mel_outputs: np.random.normal(size=(1, 50, 80)).astype(np.float32),\n",
    "                        mel_actuals: np.random.normal(size=(1, 50, 80)).astype(np.float32),\n",
    "                        mel_lengths: [50]})"
   ]
  },
  {
   "cell_type": "code",
   "execution_count": 19,
   "metadata": {},
   "outputs": [
    {
     "data": {
      "text/plain": [
       "array([3.0227776, 3.022749 ], dtype=float32)"
      ]
     },
     "execution_count": 19,
     "metadata": {},
     "output_type": "execute_result"
    }
   ],
   "source": [
    "sess.run(loss, feed_dict = {input_ids: [[1, 2, 3, 4, 5, 6, 7, 8, 9],\n",
    "                                       [1, 2, 3, 4, 5, 6, 7, 8, 9]],\n",
    "                        input_lengths: [9, 9],\n",
    "                        mel_outputs: np.random.normal(size=(2, 50, 80)).astype(np.float32),\n",
    "                        mel_actuals: np.random.normal(size=(2, 50, 80)).astype(np.float32),\n",
    "                        mel_lengths: [50, 50]})"
   ]
  },
  {
   "cell_type": "code",
   "execution_count": 20,
   "metadata": {},
   "outputs": [
    {
     "data": {
      "text/plain": [
       "(1, 9, 50)"
      ]
     },
     "execution_count": 20,
     "metadata": {},
     "output_type": "execute_result"
    }
   ],
   "source": [
    "sess.run(guided, feed_dict = {input_ids: [[1, 2, 3, 4, 5, 6, 7, 8, 9]],\n",
    "                        input_lengths: [9],\n",
    "                        mel_outputs: np.random.normal(size=(1, 50, 80)).astype(np.float32),\n",
    "                        mel_actuals: np.random.normal(size=(1, 50, 80)).astype(np.float32),\n",
    "                        mel_lengths: [50]}).shape"
   ]
  },
  {
   "cell_type": "code",
   "execution_count": null,
   "metadata": {},
   "outputs": [],
   "source": []
  }
 ],
 "metadata": {
  "kernelspec": {
   "display_name": "Python 3",
   "language": "python",
   "name": "python3"
  },
  "language_info": {
   "codemirror_mode": {
    "name": "ipython",
    "version": 3
   },
   "file_extension": ".py",
   "mimetype": "text/x-python",
   "name": "python",
   "nbconvert_exporter": "python",
   "pygments_lexer": "ipython3",
   "version": "3.7.7"
  }
 },
 "nbformat": 4,
 "nbformat_minor": 4
}

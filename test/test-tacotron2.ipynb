{
 "cells": [
  {
   "cell_type": "code",
   "execution_count": 1,
   "metadata": {},
   "outputs": [],
   "source": [
    "import os\n",
    "\n",
    "os.environ['CUDA_VISIBLE_DEVICES'] = '1'"
   ]
  },
  {
   "cell_type": "code",
   "execution_count": 2,
   "metadata": {},
   "outputs": [],
   "source": [
    "import sys\n",
    "\n",
    "SOURCE_DIR = os.path.dirname(os.path.dirname(os.path.abspath(__name__)))\n",
    "sys.path.insert(0, SOURCE_DIR)"
   ]
  },
  {
   "cell_type": "code",
   "execution_count": 3,
   "metadata": {},
   "outputs": [
    {
     "name": "stdout",
     "output_type": "stream",
     "text": [
      "WARNING:tensorflow:From /Users/huseinzolkepli/Documents/malaya-speech/malaya_speech/train/optimizer/__init__.py:35: The name tf.train.AdagradOptimizer is deprecated. Please use tf.compat.v1.train.AdagradOptimizer instead.\n",
      "\n",
      "WARNING:tensorflow:From /Users/huseinzolkepli/Documents/malaya-speech/malaya_speech/train/optimizer/__init__.py:36: The name tf.train.AdamOptimizer is deprecated. Please use tf.compat.v1.train.AdamOptimizer instead.\n",
      "\n",
      "WARNING:tensorflow:From /Users/huseinzolkepli/Documents/malaya-speech/malaya_speech/train/optimizer/__init__.py:37: The name tf.train.FtrlOptimizer is deprecated. Please use tf.compat.v1.train.FtrlOptimizer instead.\n",
      "\n",
      "WARNING:tensorflow:From /Users/huseinzolkepli/Documents/malaya-speech/malaya_speech/train/optimizer/__init__.py:39: The name tf.train.RMSPropOptimizer is deprecated. Please use tf.compat.v1.train.RMSPropOptimizer instead.\n",
      "\n",
      "WARNING:tensorflow:From /Users/huseinzolkepli/Documents/malaya-speech/malaya_speech/train/optimizer/__init__.py:40: The name tf.train.GradientDescentOptimizer is deprecated. Please use tf.compat.v1.train.GradientDescentOptimizer instead.\n",
      "\n",
      "WARNING:tensorflow:\n",
      "The TensorFlow contrib module will not be included in TensorFlow 2.0.\n",
      "For more information, please see:\n",
      "  * https://github.com/tensorflow/community/blob/master/rfcs/20180907-contrib-sunset.md\n",
      "  * https://github.com/tensorflow/addons\n",
      "  * https://github.com/tensorflow/io (for I/O related ops)\n",
      "If you depend on functionality not listed there, please file an issue.\n",
      "\n",
      "WARNING:tensorflow:From /Users/huseinzolkepli/Documents/malaya-speech/malaya_speech/train/model/quartznet/layer.py:6: The name tf.layers.Conv1D is deprecated. Please use tf.compat.v1.layers.Conv1D instead.\n",
      "\n"
     ]
    }
   ],
   "source": [
    "import tensorflow as tf\n",
    "import malaya_speech\n",
    "import malaya_speech.train\n",
    "from malaya_speech.train.model import tacotron2\n",
    "import malaya_speech.config\n",
    "import numpy as np"
   ]
  },
  {
   "cell_type": "code",
   "execution_count": 4,
   "metadata": {},
   "outputs": [],
   "source": [
    "tacotron2_config = malaya_speech.config.tacotron2_config"
   ]
  },
  {
   "cell_type": "code",
   "execution_count": 5,
   "metadata": {
    "scrolled": true
   },
   "outputs": [
    {
     "name": "stdout",
     "output_type": "stream",
     "text": [
      "WARNING:tensorflow:From /Users/huseinzolkepli/Documents/malaya-speech/malaya_speech/train/model/fastspeech/layer.py:11: The name tf.keras.initializers.TruncatedNormal is deprecated. Please use tf.compat.v1.keras.initializers.TruncatedNormal instead.\n",
      "\n",
      "WARNING:tensorflow:From /Library/Frameworks/Python.framework/Versions/3.7/lib/python3.7/site-packages/tensorflow_core/python/keras/initializers.py:94: calling TruncatedNormal.__init__ (from tensorflow.python.ops.init_ops) with dtype is deprecated and will be removed in a future version.\n",
      "Instructions for updating:\n",
      "Call initializer instance with the dtype argument instead of passing it to the constructor\n",
      "WARNING:tensorflow:From /Library/Frameworks/Python.framework/Versions/3.7/lib/python3.7/site-packages/tensorflow_core/python/ops/init_ops.py:97: calling GlorotUniform.__init__ (from tensorflow.python.ops.init_ops) with dtype is deprecated and will be removed in a future version.\n",
      "Instructions for updating:\n",
      "Call initializer instance with the dtype argument instead of passing it to the constructor\n",
      "WARNING:tensorflow:From /Library/Frameworks/Python.framework/Versions/3.7/lib/python3.7/site-packages/tensorflow_core/python/ops/init_ops.py:97: calling Orthogonal.__init__ (from tensorflow.python.ops.init_ops) with dtype is deprecated and will be removed in a future version.\n",
      "Instructions for updating:\n",
      "Call initializer instance with the dtype argument instead of passing it to the constructor\n",
      "WARNING:tensorflow:From /Library/Frameworks/Python.framework/Versions/3.7/lib/python3.7/site-packages/tensorflow_core/python/ops/init_ops.py:97: calling Zeros.__init__ (from tensorflow.python.ops.init_ops) with dtype is deprecated and will be removed in a future version.\n",
      "Instructions for updating:\n",
      "Call initializer instance with the dtype argument instead of passing it to the constructor\n"
     ]
    }
   ],
   "source": [
    "model = tacotron2.Model(tacotron2.Config(vocab_size = 20, **tacotron2_config))"
   ]
  },
  {
   "cell_type": "code",
   "execution_count": 6,
   "metadata": {},
   "outputs": [],
   "source": [
    "input_ids = tf.placeholder(tf.int32, [None, None])\n",
    "input_lengths = tf.placeholder(tf.int32, [None])\n",
    "speaker_ids = tf.constant([0], dtype = tf.int32)\n",
    "mel_outputs = tf.placeholder(tf.float32, [None, None, 80])\n",
    "mel_lengths = tf.placeholder(tf.int32, [None])\n",
    "mel_actuals = tf.placeholder(tf.float32, [None, None, 80])"
   ]
  },
  {
   "cell_type": "code",
   "execution_count": 7,
   "metadata": {},
   "outputs": [
    {
     "data": {
      "text/plain": [
       "<tf.Tensor 'ExpandDims:0' shape=(1, ?, ?) dtype=float32>"
      ]
     },
     "execution_count": 7,
     "metadata": {},
     "output_type": "execute_result"
    }
   ],
   "source": [
    "guided = tacotron2.generate_guided_attention(mel_lengths[0], input_lengths[0])\n",
    "guided = tf.expand_dims(guided, 0)\n",
    "guided"
   ]
  },
  {
   "cell_type": "code",
   "execution_count": 8,
   "metadata": {},
   "outputs": [
    {
     "data": {
      "text/plain": [
       "TensorShape([])"
      ]
     },
     "execution_count": 8,
     "metadata": {},
     "output_type": "execute_result"
    }
   ],
   "source": [
    "model.decoder.sampler.sample_ids_shape"
   ]
  },
  {
   "cell_type": "code",
   "execution_count": 9,
   "metadata": {
    "scrolled": true
   },
   "outputs": [
    {
     "name": "stdout",
     "output_type": "stream",
     "text": [
      "WARNING:tensorflow:From /Users/huseinzolkepli/Documents/malaya-speech/malaya_speech/train/model/tacotron2/model.py:98: The name tf.get_variable is deprecated. Please use tf.compat.v1.get_variable instead.\n",
      "\n",
      "WARNING:tensorflow:From /Library/Frameworks/Python.framework/Versions/3.7/lib/python3.7/site-packages/tensorflow_core/python/ops/resource_variable_ops.py:1630: calling BaseResourceVariable.__init__ (from tensorflow.python.ops.resource_variable_ops) with constraint is deprecated and will be removed in a future version.\n",
      "Instructions for updating:\n",
      "If using Keras pass *_constraint arguments to layers.\n",
      "WARNING:tensorflow:From /Library/Frameworks/Python.framework/Versions/3.7/lib/python3.7/site-packages/tensorflow_core/python/keras/backend.py:3994: where (from tensorflow.python.ops.array_ops) is deprecated and will be removed in a future version.\n",
      "Instructions for updating:\n",
      "Use tf.where in 2.0, which has the same broadcast rule as np.where\n",
      "WARNING:tensorflow:From /Library/Frameworks/Python.framework/Versions/3.7/lib/python3.7/site-packages/tensorflow_core/python/autograph/converters/directives.py:119: The name tf.debugging.assert_greater is deprecated. Please use tf.compat.v1.debugging.assert_greater instead.\n",
      "\n",
      "WARNING:tensorflow:From /Library/Frameworks/Python.framework/Versions/3.7/lib/python3.7/site-packages/tensorflow_core/python/autograph/converters/directives.py:119: The name tf.debugging.assert_positive is deprecated. Please use tf.compat.v1.debugging.assert_positive instead.\n",
      "\n"
     ]
    },
    {
     "data": {
      "text/plain": [
       "(<tf.Tensor 'model/Reshape:0' shape=(?, ?, 80) dtype=float32>,\n",
       " <tf.Tensor 'model/add:0' shape=(?, ?, 80) dtype=float32>,\n",
       " <tf.Tensor 'model/Reshape_1:0' shape=(?, ?) dtype=float32>,\n",
       " <tf.Tensor 'model/transpose:0' shape=(?, ?, ?) dtype=float32>)"
      ]
     },
     "execution_count": 9,
     "metadata": {},
     "output_type": "execute_result"
    }
   ],
   "source": [
    "r = model(input_ids, input_lengths, speaker_ids, mel_outputs, mel_lengths,\n",
    "          training = True)\n",
    "r"
   ]
  },
  {
   "cell_type": "code",
   "execution_count": 10,
   "metadata": {},
   "outputs": [],
   "source": [
    "from malaya_speech.train.loss import calculate_2d_loss, calculate_3d_loss"
   ]
  },
  {
   "cell_type": "code",
   "execution_count": 11,
   "metadata": {},
   "outputs": [],
   "source": [
    "binary_crossentropy = tf.keras.losses.BinaryCrossentropy(\n",
    "    from_logits=True\n",
    ")\n",
    "mse = tf.keras.losses.MeanSquaredError()\n",
    "mae = tf.keras.losses.MeanAbsoluteError()\n",
    "decoder_output, post_mel_outputs, stop_token_predictions, alignment_histories = r\n",
    "mel_loss_before = calculate_3d_loss(\n",
    "    mel_actuals, decoder_output, loss_fn=mae\n",
    ")\n",
    "mel_loss_after = calculate_3d_loss(\n",
    "    mel_actuals, post_mel_outputs, loss_fn=mae\n",
    ")\n",
    "max_mel_length = tf.reduce_max(mel_lengths)\n",
    "stop_gts = tf.expand_dims(\n",
    "    tf.range(tf.reduce_max(max_mel_length), dtype=tf.int32), 0\n",
    ")\n",
    "stop_gts = tf.tile(\n",
    "    stop_gts, [tf.shape(mel_lengths)[0], 1]\n",
    ")\n",
    "stop_gts = tf.cast(\n",
    "    tf.math.greater_equal(stop_gts, tf.expand_dims(mel_lengths, 1)),\n",
    "    tf.float32,\n",
    ")\n",
    "stop_token_loss = calculate_2d_loss(\n",
    "    stop_gts, stop_token_predictions, loss_fn=binary_crossentropy\n",
    ")\n",
    "attention_masks = tf.cast(\n",
    "    tf.math.not_equal(guided, -1.0), tf.float32\n",
    ")\n",
    "loss_att = tf.reduce_sum(\n",
    "    tf.abs(alignment_histories * guided) * attention_masks,\n",
    "    axis=[1, 2],\n",
    ")\n",
    "loss_att /= tf.reduce_sum(attention_masks, axis=[1, 2])"
   ]
  },
  {
   "cell_type": "code",
   "execution_count": 12,
   "metadata": {},
   "outputs": [
    {
     "data": {
      "text/plain": [
       "<tf.Tensor 'truediv_3:0' shape=(?,) dtype=float32>"
      ]
     },
     "execution_count": 12,
     "metadata": {},
     "output_type": "execute_result"
    }
   ],
   "source": [
    "loss_att"
   ]
  },
  {
   "cell_type": "code",
   "execution_count": 13,
   "metadata": {},
   "outputs": [],
   "source": [
    "loss = stop_token_loss + mel_loss_before + mel_loss_after + loss_att"
   ]
  },
  {
   "cell_type": "code",
   "execution_count": 14,
   "metadata": {},
   "outputs": [
    {
     "data": {
      "text/plain": [
       "(<tf.Tensor 'binary_crossentropy/weighted_loss/value:0' shape=() dtype=float32>,\n",
       " <tf.Tensor 'mean_absolute_error/weighted_loss/value:0' shape=() dtype=float32>,\n",
       " <tf.Tensor 'mean_absolute_error_1/weighted_loss/value:0' shape=() dtype=float32>,\n",
       " <tf.Tensor 'truediv_3:0' shape=(?,) dtype=float32>)"
      ]
     },
     "execution_count": 14,
     "metadata": {},
     "output_type": "execute_result"
    }
   ],
   "source": [
    "stop_token_loss, mel_loss_before, mel_loss_after, loss_att"
   ]
  },
  {
   "cell_type": "code",
   "execution_count": 15,
   "metadata": {},
   "outputs": [],
   "source": [
    "# r = model.inference(input_ids, input_lengths, speaker_ids)\n",
    "# r"
   ]
  },
  {
   "cell_type": "code",
   "execution_count": 16,
   "metadata": {},
   "outputs": [],
   "source": [
    "sess = tf.InteractiveSession()\n",
    "sess.run(tf.global_variables_initializer())"
   ]
  },
  {
   "cell_type": "code",
   "execution_count": 17,
   "metadata": {},
   "outputs": [
    {
     "data": {
      "text/plain": [
       "(1, 50, 80)"
      ]
     },
     "execution_count": 17,
     "metadata": {},
     "output_type": "execute_result"
    }
   ],
   "source": [
    "sess.run(decoder_output, feed_dict = {input_ids: [[1, 2, 3, 4, 5, 6, 7, 8, 9]],\n",
    "                        input_lengths: [9],\n",
    "                        mel_outputs: np.random.normal(size=(1, 50, 80)).astype(np.float32),\n",
    "                        mel_lengths: [50]}).shape"
   ]
  },
  {
   "cell_type": "code",
   "execution_count": 18,
   "metadata": {},
   "outputs": [
    {
     "data": {
      "text/plain": [
       "(array([[[ 0.03990816, -0.05939176,  0.02246851, ...,  0.06305754,\n",
       "          -0.05188894,  0.02053492],\n",
       "         [ 0.02340613, -0.04201923,  0.01961938, ...,  0.06413439,\n",
       "          -0.02456392,  0.01643411],\n",
       "         [-0.01116969, -0.03726775, -0.00169756, ...,  0.07505959,\n",
       "           0.01635277,  0.00140841],\n",
       "         ...,\n",
       "         [-0.06152086, -0.0012004 , -0.04569814, ...,  0.02171619,\n",
       "           0.12394258, -0.08129845],\n",
       "         [-0.06272507,  0.00133227, -0.04791293, ...,  0.02049894,\n",
       "           0.12303556, -0.08314241],\n",
       "         [-0.05917827, -0.01595623, -0.05015221, ...,  0.01043847,\n",
       "           0.12143979, -0.09256013]]], dtype=float32),\n",
       " array([[[-1.5794945 ,  1.1910487 ,  0.6824273 , ...,  0.31975755,\n",
       "          -0.404482  , -0.95458096],\n",
       "         [-0.9510414 ,  0.8734257 ,  0.71835965, ..., -2.8660476 ,\n",
       "          -0.54707396, -0.8636459 ],\n",
       "         [ 0.74095464,  0.33641714,  1.6702336 , ..., -0.70624965,\n",
       "          -0.02961373, -0.6956951 ],\n",
       "         ...,\n",
       "         [ 0.08377273,  0.2682015 ,  0.7548642 , ..., -1.4657255 ,\n",
       "           1.4708136 , -1.3958633 ],\n",
       "         [-1.2452538 ,  0.46129403, -0.93758595, ..., -1.3056316 ,\n",
       "           0.44402805, -0.25334275],\n",
       "         [-0.2682238 ,  1.7456138 , -0.03126851, ..., -0.9999906 ,\n",
       "          -1.0632346 , -0.00919832]]], dtype=float32),\n",
       " array([[-0.00837191, -0.00952626,  0.00810712, -0.01416358, -0.03391401,\n",
       "         -0.04469505, -0.0727904 , -0.0737773 , -0.07334734, -0.06129139,\n",
       "         -0.05053629, -0.05403174, -0.05898371, -0.06235368, -0.05870181,\n",
       "         -0.04838979, -0.0548654 , -0.04807345, -0.04644457, -0.04804276,\n",
       "         -0.0428958 , -0.02639569, -0.0566495 , -0.05019321, -0.05516113,\n",
       "         -0.06748602, -0.08656918, -0.09852067, -0.10829807, -0.12219052,\n",
       "         -0.14365548, -0.15992692, -0.16829005, -0.16358626, -0.1518918 ,\n",
       "         -0.13397129, -0.13068743, -0.12336895, -0.12238499, -0.12381658,\n",
       "         -0.13384229, -0.12567426, -0.1354181 , -0.12937886, -0.12974302,\n",
       "         -0.13454615, -0.15627265, -0.16284797, -0.16337577, -0.16625467]],\n",
       "       dtype=float32),\n",
       " array([[[0.12851815, 0.12938239, 0.12794295, 0.12886798, 0.12951423,\n",
       "          0.1311061 , 0.13274905, 0.13280123, 0.1328382 , 0.13294886,\n",
       "          0.13570355, 0.13783742, 0.138544  , 0.1388032 , 0.14042935,\n",
       "          0.1418065 , 0.1410325 , 0.1411784 , 0.14233506, 0.14326054,\n",
       "          0.14556155, 0.14584959, 0.14448573, 0.14860791, 0.14831129,\n",
       "          0.14883456, 0.15201089, 0.15058401, 0.1511188 , 0.15201907,\n",
       "          0.15220354, 0.15347973, 0.15382943, 0.15452172, 0.15611216,\n",
       "          0.15729544, 0.15891021, 0.16003482, 0.16368866, 0.165326  ,\n",
       "          0.16306435, 0.16127625, 0.1602748 , 0.16319598, 0.1617596 ,\n",
       "          0.16134001, 0.164555  , 0.16520292, 0.16456927, 0.16553684],\n",
       "         [0.10247576, 0.10225866, 0.10106083, 0.10039118, 0.10107392,\n",
       "          0.10147153, 0.10206374, 0.10127777, 0.10048839, 0.1000846 ,\n",
       "          0.0994171 , 0.09956366, 0.09950751, 0.09846273, 0.09819574,\n",
       "          0.09811328, 0.09779976, 0.09781569, 0.0971781 , 0.0968451 ,\n",
       "          0.09623808, 0.09541734, 0.0945738 , 0.09581552, 0.09500274,\n",
       "          0.09366309, 0.09465427, 0.09340259, 0.09216567, 0.09197319,\n",
       "          0.09162086, 0.09100314, 0.08973222, 0.09056077, 0.08996063,\n",
       "          0.08929866, 0.08785921, 0.0890829 , 0.09071245, 0.09007411,\n",
       "          0.08897794, 0.08791992, 0.08784524, 0.08723108, 0.08642413,\n",
       "          0.08595986, 0.0848849 , 0.08352878, 0.0839724 , 0.08356692],\n",
       "         [0.1150257 , 0.1157932 , 0.11575684, 0.11578585, 0.11607914,\n",
       "          0.11705192, 0.11759329, 0.11779067, 0.1196823 , 0.12003727,\n",
       "          0.12137654, 0.12037721, 0.12291545, 0.12239782, 0.12324377,\n",
       "          0.12577292, 0.12627502, 0.12460697, 0.12477253, 0.12404908,\n",
       "          0.12458893, 0.12468839, 0.1260375 , 0.12752265, 0.12781425,\n",
       "          0.12838037, 0.12760897, 0.13036536, 0.12870447, 0.13066033,\n",
       "          0.12988633, 0.12922491, 0.12842084, 0.12985794, 0.13220167,\n",
       "          0.13119239, 0.13278499, 0.13181825, 0.13249792, 0.13179952,\n",
       "          0.12957695, 0.12910776, 0.1297059 , 0.13132651, 0.13212839,\n",
       "          0.1318239 , 0.13208312, 0.13247782, 0.13421345, 0.13352723],\n",
       "         [0.09568451, 0.09775655, 0.09777166, 0.09962618, 0.10077633,\n",
       "          0.10030586, 0.09829964, 0.09903947, 0.1001583 , 0.10155805,\n",
       "          0.10256478, 0.10195283, 0.10252719, 0.10175496, 0.10233767,\n",
       "          0.10302319, 0.10458018, 0.10506802, 0.10515007, 0.1058227 ,\n",
       "          0.10632195, 0.10720645, 0.10994729, 0.10943047, 0.11011255,\n",
       "          0.11068057, 0.10989779, 0.1105613 , 0.10960119, 0.1107735 ,\n",
       "          0.11186601, 0.11274394, 0.11349367, 0.11480393, 0.11568578,\n",
       "          0.11830682, 0.11970772, 0.12112125, 0.12073881, 0.1212116 ,\n",
       "          0.12166464, 0.12337131, 0.12256464, 0.12123387, 0.12137952,\n",
       "          0.12300675, 0.12254014, 0.12347362, 0.12518907, 0.12661102],\n",
       "         [0.1011313 , 0.10164402, 0.10114726, 0.10159307, 0.1012077 ,\n",
       "          0.10170126, 0.10022643, 0.10150228, 0.10066278, 0.1000148 ,\n",
       "          0.10065524, 0.09870084, 0.09868107, 0.09904566, 0.09897444,\n",
       "          0.09791147, 0.09749316, 0.0969646 , 0.09674957, 0.09674329,\n",
       "          0.09709007, 0.09655728, 0.09633539, 0.09783421, 0.09744655,\n",
       "          0.09797476, 0.09677412, 0.09750652, 0.09759919, 0.09731878,\n",
       "          0.09603056, 0.09569426, 0.09489601, 0.09460882, 0.0944545 ,\n",
       "          0.09554152, 0.0939552 , 0.09261278, 0.09049917, 0.09121191,\n",
       "          0.09152894, 0.09192179, 0.09230074, 0.09250867, 0.0912378 ,\n",
       "          0.09040467, 0.08704717, 0.08747053, 0.08756287, 0.08736221],\n",
       "         [0.12861942, 0.12702172, 0.12930515, 0.1276343 , 0.12825099,\n",
       "          0.1275056 , 0.12888345, 0.12751101, 0.126939  , 0.12758441,\n",
       "          0.12603608, 0.12592952, 0.12517086, 0.1253017 , 0.12374446,\n",
       "          0.12446977, 0.12339959, 0.12308639, 0.12245226, 0.1234852 ,\n",
       "          0.12330841, 0.12291058, 0.12451242, 0.12336797, 0.12415716,\n",
       "          0.12545107, 0.12409328, 0.12567285, 0.12554565, 0.1258706 ,\n",
       "          0.12628469, 0.1253649 , 0.12612721, 0.12448296, 0.1238367 ,\n",
       "          0.1234695 , 0.12526986, 0.12516671, 0.12054294, 0.12291635,\n",
       "          0.12588184, 0.12782718, 0.12816365, 0.12729226, 0.1272541 ,\n",
       "          0.12697905, 0.12457419, 0.12699966, 0.12715854, 0.12838627],\n",
       "         [0.1099136 , 0.10904279, 0.11032041, 0.10948668, 0.10904689,\n",
       "          0.10852152, 0.10727848, 0.10569628, 0.10652306, 0.1073718 ,\n",
       "          0.10486693, 0.1052858 , 0.10378352, 0.10368091, 0.10307914,\n",
       "          0.10275071, 0.10237674, 0.10216952, 0.10253347, 0.10126504,\n",
       "          0.09982275, 0.10054445, 0.10038131, 0.09719706, 0.09646214,\n",
       "          0.095483  , 0.09504171, 0.09428795, 0.09311513, 0.09209678,\n",
       "          0.09333844, 0.09268472, 0.09218116, 0.09052543, 0.08937728,\n",
       "          0.0898919 , 0.08835968, 0.08865479, 0.08860535, 0.08740404,\n",
       "          0.08904482, 0.08994415, 0.08856528, 0.08778021, 0.0890874 ,\n",
       "          0.08868413, 0.08948939, 0.08953886, 0.08776064, 0.08725232],\n",
       "         [0.1073754 , 0.10686607, 0.10664539, 0.10704692, 0.1062632 ,\n",
       "          0.10531734, 0.10587337, 0.10560372, 0.10531038, 0.10485624,\n",
       "          0.10382486, 0.10384136, 0.10345889, 0.10375419, 0.10311958,\n",
       "          0.10179265, 0.10257686, 0.10351139, 0.1034743 , 0.10352431,\n",
       "          0.10277521, 0.10267908, 0.10103858, 0.09975049, 0.09949838,\n",
       "          0.099388  , 0.09974317, 0.09856769, 0.09992671, 0.09853403,\n",
       "          0.09769966, 0.09844203, 0.09975357, 0.09953154, 0.09841087,\n",
       "          0.09771319, 0.09649841, 0.09651829, 0.09753461, 0.09687357,\n",
       "          0.09764684, 0.097409  , 0.09882198, 0.09745834, 0.09887481,\n",
       "          0.10063102, 0.1027312 , 0.10069002, 0.0999312 , 0.09975597],\n",
       "         [0.11125615, 0.11023464, 0.11004949, 0.1095678 , 0.10778753,\n",
       "          0.1070189 , 0.10703255, 0.10877751, 0.10739758, 0.10554402,\n",
       "          0.1055549 , 0.10651132, 0.10541159, 0.10679886, 0.10687584,\n",
       "          0.10435952, 0.10446618, 0.105599  , 0.10535465, 0.10500474,\n",
       "          0.10429306, 0.10414688, 0.10268795, 0.1004737 , 0.10119491,\n",
       "          0.10014461, 0.10017585, 0.09905174, 0.10222326, 0.10075374,\n",
       "          0.10106988, 0.10136241, 0.10156583, 0.10110682, 0.09996037,\n",
       "          0.09729061, 0.09665472, 0.09499016, 0.09518005, 0.09318291,\n",
       "          0.09261364, 0.09122258, 0.09175777, 0.09197305, 0.09185432,\n",
       "          0.0911706 , 0.09209492, 0.09061784, 0.08964252, 0.08800118]]],\n",
       "       dtype=float32))"
      ]
     },
     "execution_count": 18,
     "metadata": {},
     "output_type": "execute_result"
    }
   ],
   "source": [
    "sess.run(r, feed_dict = {input_ids: [[1, 2, 3, 4, 5, 6, 7, 8, 9]],\n",
    "                        input_lengths: [9],\n",
    "                        mel_outputs: np.random.normal(size=(1, 50, 80)).astype(np.float32),\n",
    "                        mel_lengths: [50]})"
   ]
  },
  {
   "cell_type": "code",
   "execution_count": 19,
   "metadata": {},
   "outputs": [
    {
     "data": {
      "text/plain": [
       "array([2.8893769], dtype=float32)"
      ]
     },
     "execution_count": 19,
     "metadata": {},
     "output_type": "execute_result"
    }
   ],
   "source": [
    "sess.run(loss, feed_dict = {input_ids: [[1, 2, 3, 4, 5, 6, 7, 8, 9]],\n",
    "                        input_lengths: [9],\n",
    "                        mel_outputs: np.random.normal(size=(1, 50, 80)).astype(np.float32),\n",
    "                        mel_actuals: np.random.normal(size=(1, 50, 80)).astype(np.float32),\n",
    "                        mel_lengths: [50]})"
   ]
  },
  {
   "cell_type": "code",
   "execution_count": 20,
   "metadata": {},
   "outputs": [
    {
     "data": {
      "text/plain": [
       "array([2.9055262, 2.9049976], dtype=float32)"
      ]
     },
     "execution_count": 20,
     "metadata": {},
     "output_type": "execute_result"
    }
   ],
   "source": [
    "sess.run(loss, feed_dict = {input_ids: [[1, 2, 3, 4, 5, 6, 7, 8, 9],\n",
    "                                       [1, 2, 3, 4, 5, 6, 7, 8, 9]],\n",
    "                        input_lengths: [9, 9],\n",
    "                        mel_outputs: np.random.normal(size=(2, 50, 80)).astype(np.float32),\n",
    "                        mel_actuals: np.random.normal(size=(2, 50, 80)).astype(np.float32),\n",
    "                        mel_lengths: [50, 50]})"
   ]
  },
  {
   "cell_type": "code",
   "execution_count": 21,
   "metadata": {},
   "outputs": [
    {
     "data": {
      "text/plain": [
       "(1, 9, 50)"
      ]
     },
     "execution_count": 21,
     "metadata": {},
     "output_type": "execute_result"
    }
   ],
   "source": [
    "sess.run(guided, feed_dict = {input_ids: [[1, 2, 3, 4, 5, 6, 7, 8, 9]],\n",
    "                        input_lengths: [9],\n",
    "                        mel_outputs: np.random.normal(size=(1, 50, 80)).astype(np.float32),\n",
    "                        mel_actuals: np.random.normal(size=(1, 50, 80)).astype(np.float32),\n",
    "                        mel_lengths: [50]}).shape"
   ]
  }
 ],
 "metadata": {
  "kernelspec": {
   "display_name": "Python 3",
   "language": "python",
   "name": "python3"
  },
  "language_info": {
   "codemirror_mode": {
    "name": "ipython",
    "version": 3
   },
   "file_extension": ".py",
   "mimetype": "text/x-python",
   "name": "python",
   "nbconvert_exporter": "python",
   "pygments_lexer": "ipython3",
   "version": "3.7.7"
  }
 },
 "nbformat": 4,
 "nbformat_minor": 4
}

{
 "cells": [
  {
   "cell_type": "code",
   "execution_count": 1,
   "id": "better-jimmy",
   "metadata": {},
   "outputs": [],
   "source": [
    "import sys\n",
    "import os\n",
    "\n",
    "SOURCE_DIR = os.path.dirname(os.path.dirname(os.path.abspath(__name__)))\n",
    "sys.path.insert(0, SOURCE_DIR)"
   ]
  },
  {
   "cell_type": "code",
   "execution_count": 2,
   "id": "exterior-fields",
   "metadata": {},
   "outputs": [],
   "source": [
    "import tensorflow as tf\n",
    "# tf.compat.v1.enable_eager_execution()"
   ]
  },
  {
   "cell_type": "code",
   "execution_count": 3,
   "id": "separate-accounting",
   "metadata": {},
   "outputs": [],
   "source": [
    "# import torch\n",
    "# torch.ones((10, 10)).nelement()"
   ]
  },
  {
   "cell_type": "code",
   "execution_count": 4,
   "id": "driving-enhancement",
   "metadata": {
    "scrolled": true
   },
   "outputs": [
    {
     "name": "stdout",
     "output_type": "stream",
     "text": [
      "WARNING:tensorflow:From /Users/huseinzolkepli/Documents/malaya-speech/malaya_speech/train/optimizer/__init__.py:38: The name tf.train.AdagradOptimizer is deprecated. Please use tf.compat.v1.train.AdagradOptimizer instead.\n",
      "\n",
      "WARNING:tensorflow:From /Users/huseinzolkepli/Documents/malaya-speech/malaya_speech/train/optimizer/__init__.py:39: The name tf.train.AdamOptimizer is deprecated. Please use tf.compat.v1.train.AdamOptimizer instead.\n",
      "\n",
      "WARNING:tensorflow:From /Users/huseinzolkepli/Documents/malaya-speech/malaya_speech/train/optimizer/__init__.py:40: The name tf.train.FtrlOptimizer is deprecated. Please use tf.compat.v1.train.FtrlOptimizer instead.\n",
      "\n",
      "WARNING:tensorflow:From /Users/huseinzolkepli/Documents/malaya-speech/malaya_speech/train/optimizer/__init__.py:42: The name tf.train.RMSPropOptimizer is deprecated. Please use tf.compat.v1.train.RMSPropOptimizer instead.\n",
      "\n",
      "WARNING:tensorflow:From /Users/huseinzolkepli/Documents/malaya-speech/malaya_speech/train/optimizer/__init__.py:43: The name tf.train.GradientDescentOptimizer is deprecated. Please use tf.compat.v1.train.GradientDescentOptimizer instead.\n",
      "\n",
      "WARNING:tensorflow:\n",
      "The TensorFlow contrib module will not be included in TensorFlow 2.0.\n",
      "For more information, please see:\n",
      "  * https://github.com/tensorflow/community/blob/master/rfcs/20180907-contrib-sunset.md\n",
      "  * https://github.com/tensorflow/addons\n",
      "  * https://github.com/tensorflow/io (for I/O related ops)\n",
      "If you depend on functionality not listed there, please file an issue.\n",
      "\n"
     ]
    }
   ],
   "source": [
    "import malaya_speech\n",
    "from malaya_speech.train.model import uis_rnn"
   ]
  },
  {
   "cell_type": "code",
   "execution_count": 5,
   "id": "brown-trail",
   "metadata": {},
   "outputs": [
    {
     "name": "stdout",
     "output_type": "stream",
     "text": [
      "WARNING:tensorflow:From /Users/huseinzolkepli/Documents/malaya-speech/malaya_speech/train/model/uis_rnn/model.py:99: The name tf.get_variable is deprecated. Please use tf.compat.v1.get_variable instead.\n",
      "\n"
     ]
    }
   ],
   "source": [
    "observation_dim = 100\n",
    "\n",
    "model = uis_rnn.Model(observation_dim = observation_dim)"
   ]
  },
  {
   "cell_type": "code",
   "execution_count": 6,
   "id": "fuzzy-danger",
   "metadata": {},
   "outputs": [],
   "source": [
    "X = tf.placeholder(tf.float32, [None, None, observation_dim])\n",
    "Y = tf.placeholder(tf.float32, [None, None, observation_dim])"
   ]
  },
  {
   "cell_type": "code",
   "execution_count": 7,
   "id": "introductory-seating",
   "metadata": {},
   "outputs": [
    {
     "name": "stdout",
     "output_type": "stream",
     "text": [
      "WARNING:tensorflow:From /Users/huseinzolkepli/Documents/tf-1.15/env/lib/python3.7/site-packages/tensorflow_core/python/ops/resource_variable_ops.py:1630: calling BaseResourceVariable.__init__ (from tensorflow.python.ops.resource_variable_ops) with constraint is deprecated and will be removed in a future version.\n",
      "Instructions for updating:\n",
      "If using Keras pass *_constraint arguments to layers.\n"
     ]
    },
    {
     "data": {
      "text/plain": [
       "(<tf.Tensor 'uis-rnn/CoreRNN/dense_1/BiasAdd:0' shape=(?, ?, 100) dtype=float32>,\n",
       " [<tf.Tensor 'uis-rnn/CoreRNN/lstm/while/Exit_2:0' shape=(?, 512) dtype=float32>,\n",
       "  <tf.Tensor 'uis-rnn/CoreRNN/lstm/while/Exit_3:0' shape=(?, 512) dtype=float32>])"
      ]
     },
     "execution_count": 7,
     "metadata": {},
     "output_type": "execute_result"
    }
   ],
   "source": [
    "mean, hidden = model(X)\n",
    "mean, hidden"
   ]
  },
  {
   "cell_type": "code",
   "execution_count": 8,
   "id": "educational-needle",
   "metadata": {},
   "outputs": [],
   "source": [
    "y_ = tf.transpose(Y, (1, 0, 2))\n",
    "m = tf.transpose(mean, (1, 0, 2))\n",
    "m = tf.math.cumsum(m, axis = 0)\n",
    "mean_size = tf.shape(m)\n",
    "diag = tf.diag(1.0 / tf.cast(tf.range(1, mean_size[0] + 1), tf.float32))\n",
    "m = tf.matmul(diag, tf.reshape(m, (mean_size[0], -1)))\n",
    "m = tf.reshape(m, mean_size)"
   ]
  },
  {
   "cell_type": "code",
   "execution_count": 9,
   "id": "narrow-switzerland",
   "metadata": {},
   "outputs": [],
   "source": [
    "def sigma2_prior_loss(num_non_zero, sigma_alpha, sigma_beta, sigma2):\n",
    "    l = tf.reduce_sum((2 * sigma_alpha + num_non_zero + 2) /\n",
    "          (2 * num_non_zero) * tf.log(sigma2))\n",
    "    r = tf.reduce_sum(sigma_beta / (sigma2 * num_non_zero))\n",
    "    return l + r\n",
    "\n",
    "def weighted_mse_loss(input_tensor, target_tensor, weight=1):\n",
    "    observation_dim = input_tensor.shape[-1]\n",
    "    streched_tensor = tf.reshape(((input_tensor - target_tensor) ** 2), (-1, observation_dim))\n",
    "    entry_num = tf.cast(tf.shape(streched_tensor)[0], tf.float32)\n",
    "    non_zero_entry_num = tf.reduce_sum(tf.cast(tf.not_equal(streched_tensor[:, 0], 0), tf.float32))\n",
    "    l = tf.reshape(((input_tensor - target_tensor)**2), (-1, observation_dim))\n",
    "    r = tf.diag(tf.reshape(weight, (-1,)))\n",
    "    weighted_tensor = tf.matmul(l, r)\n",
    "    \n",
    "    return tf.reduce_mean(weighted_tensor) * tf.cast(weight.shape[0], tf.float32) * entry_num / non_zero_entry_num"
   ]
  },
  {
   "cell_type": "code",
   "execution_count": 12,
   "id": "arbitrary-release",
   "metadata": {},
   "outputs": [],
   "source": [
    "input_tensor = tf.cast(tf.math.not_equal(y_, 0), tf.float32) * m[:-1, :, :]\n",
    "loss1 = weighted_mse_loss(input_tensor, y_, 1.0 / (2.0 * model.sigma2))"
   ]
  },
  {
   "cell_type": "code",
   "execution_count": 13,
   "id": "peripheral-clark",
   "metadata": {},
   "outputs": [],
   "source": [
    "weight = tf.reshape((tf.cast(tf.not_equal(y_, 0), tf.float32) * m[:-1, :, :] - y_) ** 2,\n",
    "           (-1, observation_dim))\n",
    "num_non_zero = tf.reduce_sum(tf.cast(tf.not_equal(weight, 0), tf.float32), axis = 0)\n",
    "loss2 = sigma2_prior_loss(num_non_zero, 1.0, 1.0, model.sigma2)"
   ]
  },
  {
   "cell_type": "code",
   "execution_count": 14,
   "id": "arctic-kernel",
   "metadata": {},
   "outputs": [
    {
     "data": {
      "text/plain": [
       "<tf.Tensor 'add_4:0' shape=() dtype=float32>"
      ]
     },
     "execution_count": 14,
     "metadata": {},
     "output_type": "execute_result"
    }
   ],
   "source": [
    "loss = loss1 + loss2\n",
    "loss"
   ]
  },
  {
   "cell_type": "code",
   "execution_count": 15,
   "id": "romantic-diving",
   "metadata": {},
   "outputs": [],
   "source": [
    "import numpy as np\n",
    "\n",
    "train_sequence = np.random.rand(1000, observation_dim)\n",
    "train_cluster_id = np.array(['A'] * 1000)"
   ]
  },
  {
   "cell_type": "code",
   "execution_count": 16,
   "id": "political-spouse",
   "metadata": {},
   "outputs": [],
   "source": [
    "train_sequences = [\n",
    "    np.random.rand(100, 100),\n",
    "    np.random.rand(200, 100),\n",
    "    np.random.rand(300, 100)]\n",
    "train_cluster_ids = [\n",
    "    np.array(['A'] * 100),\n",
    "    np.array(['A'] * 200),\n",
    "    np.array(['A'] * 300),]"
   ]
  },
  {
   "cell_type": "code",
   "execution_count": 17,
   "id": "filled-device",
   "metadata": {},
   "outputs": [
    {
     "data": {
      "text/plain": [
       "(0.001669449081803005, 599)"
      ]
     },
     "execution_count": 17,
     "metadata": {},
     "output_type": "execute_result"
    }
   ],
   "source": [
    "uis_rnn.utils.estimate_transition_bias(train_cluster_ids)"
   ]
  },
  {
   "cell_type": "code",
   "execution_count": 18,
   "id": "julian-venice",
   "metadata": {},
   "outputs": [],
   "source": [
    "concatenated_train_sequence, concatenated_train_cluster_id = uis_rnn.utils.concatenate_training_data(\n",
    "         train_sequences,\n",
    "         train_cluster_ids,\n",
    "         True,\n",
    "         True)\n",
    "\n",
    "concatenated_train_cluster_id = np.array(concatenated_train_cluster_id)"
   ]
  },
  {
   "cell_type": "code",
   "execution_count": 28,
   "id": "african-malawi",
   "metadata": {},
   "outputs": [
    {
     "data": {
      "text/plain": [
       "(600, 100)"
      ]
     },
     "execution_count": 28,
     "metadata": {},
     "output_type": "execute_result"
    }
   ],
   "source": [
    "concatenated_train_sequence.shape"
   ]
  },
  {
   "cell_type": "code",
   "execution_count": 19,
   "id": "challenging-papua",
   "metadata": {},
   "outputs": [],
   "source": [
    "sub_sequences, seq_lengths = uis_rnn.utils.resize_sequence(\n",
    "        sequence=concatenated_train_sequence,\n",
    "        cluster_id=concatenated_train_cluster_id,\n",
    "        num_permutations=10)"
   ]
  },
  {
   "cell_type": "code",
   "execution_count": 20,
   "id": "proud-assets",
   "metadata": {},
   "outputs": [],
   "source": [
    "batch_size = 2\n",
    "\n",
    "packed_train_sequence, rnn_truth = uis_rnn.utils.pack_sequence(\n",
    "          sub_sequences,\n",
    "          seq_lengths,\n",
    "          batch_size,\n",
    "          observation_dim)"
   ]
  },
  {
   "cell_type": "code",
   "execution_count": 29,
   "id": "supreme-purple",
   "metadata": {},
   "outputs": [
    {
     "data": {
      "text/plain": [
       "(600, 100)"
      ]
     },
     "execution_count": 29,
     "metadata": {},
     "output_type": "execute_result"
    }
   ],
   "source": [
    "concatenated_train_sequence.shape"
   ]
  },
  {
   "cell_type": "code",
   "execution_count": 21,
   "id": "contrary-jewelry",
   "metadata": {},
   "outputs": [
    {
     "data": {
      "text/plain": [
       "((2, 201, 100), (2, 200, 100))"
      ]
     },
     "execution_count": 21,
     "metadata": {},
     "output_type": "execute_result"
    }
   ],
   "source": [
    "x = np.transpose(packed_train_sequence, (1, 0, 2))\n",
    "y = np.transpose(rnn_truth, (1, 0, 2))\n",
    "x.shape, y.shape"
   ]
  },
  {
   "cell_type": "code",
   "execution_count": 22,
   "id": "apparent-multimedia",
   "metadata": {},
   "outputs": [],
   "source": [
    "sess = tf.Session()"
   ]
  },
  {
   "cell_type": "code",
   "execution_count": 23,
   "id": "separate-vietnamese",
   "metadata": {},
   "outputs": [],
   "source": [
    "sess.run(tf.global_variables_initializer())"
   ]
  },
  {
   "cell_type": "code",
   "execution_count": 24,
   "id": "legislative-offering",
   "metadata": {},
   "outputs": [
    {
     "name": "stdout",
     "output_type": "stream",
     "text": [
      "CPU times: user 758 ms, sys: 149 ms, total: 907 ms\n",
      "Wall time: 219 ms\n"
     ]
    },
    {
     "data": {
      "text/plain": [
       "(2, 201, 100)"
      ]
     },
     "execution_count": 24,
     "metadata": {},
     "output_type": "execute_result"
    }
   ],
   "source": [
    "%%time\n",
    "\n",
    "sess.run(mean, feed_dict = {X: x, Y: y}).shape"
   ]
  },
  {
   "cell_type": "code",
   "execution_count": 25,
   "id": "under-dancing",
   "metadata": {},
   "outputs": [
    {
     "name": "stdout",
     "output_type": "stream",
     "text": [
      "CPU times: user 616 ms, sys: 129 ms, total: 745 ms\n",
      "Wall time: 194 ms\n"
     ]
    },
    {
     "data": {
      "text/plain": [
       "[172.0286, -113.78055]"
      ]
     },
     "execution_count": 25,
     "metadata": {},
     "output_type": "execute_result"
    }
   ],
   "source": [
    "%%time\n",
    "\n",
    "sess.run([loss1, loss2], feed_dict = {X: x, Y: y})"
   ]
  },
  {
   "cell_type": "code",
   "execution_count": 26,
   "id": "controlling-financing",
   "metadata": {},
   "outputs": [
    {
     "name": "stdout",
     "output_type": "stream",
     "text": [
      "CPU times: user 761 ms, sys: 155 ms, total: 916 ms\n",
      "Wall time: 233 ms\n"
     ]
    },
    {
     "data": {
      "text/plain": [
       "[172.0286, -113.78055, 58.248047]"
      ]
     },
     "execution_count": 26,
     "metadata": {},
     "output_type": "execute_result"
    }
   ],
   "source": [
    "%%time\n",
    "\n",
    "sess.run([loss1, loss2, loss], feed_dict = {X: x, Y: y})"
   ]
  },
  {
   "cell_type": "code",
   "execution_count": null,
   "id": "twelve-month",
   "metadata": {},
   "outputs": [],
   "source": []
  }
 ],
 "metadata": {
  "kernelspec": {
   "display_name": "Python 3",
   "language": "python",
   "name": "python3"
  },
  "language_info": {
   "codemirror_mode": {
    "name": "ipython",
    "version": 3
   },
   "file_extension": ".py",
   "mimetype": "text/x-python",
   "name": "python",
   "nbconvert_exporter": "python",
   "pygments_lexer": "ipython3",
   "version": "3.7.7"
  }
 },
 "nbformat": 4,
 "nbformat_minor": 5
}

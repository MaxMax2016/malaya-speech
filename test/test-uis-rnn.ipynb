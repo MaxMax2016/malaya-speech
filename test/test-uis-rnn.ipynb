{
 "cells": [
  {
   "cell_type": "code",
   "execution_count": 1,
   "id": "specialized-picture",
   "metadata": {},
   "outputs": [],
   "source": [
    "import sys\n",
    "import os\n",
    "\n",
    "SOURCE_DIR = os.path.dirname(os.path.dirname(os.path.abspath(__name__)))\n",
    "sys.path.insert(0, SOURCE_DIR)"
   ]
  },
  {
   "cell_type": "code",
   "execution_count": 2,
   "id": "adjacent-painting",
   "metadata": {},
   "outputs": [],
   "source": [
    "import tensorflow as tf\n",
    "tf.compat.v1.enable_eager_execution()"
   ]
  },
  {
   "cell_type": "code",
   "execution_count": 3,
   "id": "featured-catering",
   "metadata": {},
   "outputs": [
    {
     "name": "stdout",
     "output_type": "stream",
     "text": [
      "WARNING:tensorflow:From /Users/huseinzolkepli/Documents/malaya-speech/malaya_speech/train/optimizer/__init__.py:38: The name tf.train.AdagradOptimizer is deprecated. Please use tf.compat.v1.train.AdagradOptimizer instead.\n",
      "\n",
      "WARNING:tensorflow:From /Users/huseinzolkepli/Documents/malaya-speech/malaya_speech/train/optimizer/__init__.py:39: The name tf.train.AdamOptimizer is deprecated. Please use tf.compat.v1.train.AdamOptimizer instead.\n",
      "\n",
      "WARNING:tensorflow:From /Users/huseinzolkepli/Documents/malaya-speech/malaya_speech/train/optimizer/__init__.py:40: The name tf.train.FtrlOptimizer is deprecated. Please use tf.compat.v1.train.FtrlOptimizer instead.\n",
      "\n",
      "WARNING:tensorflow:From /Users/huseinzolkepli/Documents/malaya-speech/malaya_speech/train/optimizer/__init__.py:42: The name tf.train.RMSPropOptimizer is deprecated. Please use tf.compat.v1.train.RMSPropOptimizer instead.\n",
      "\n",
      "WARNING:tensorflow:From /Users/huseinzolkepli/Documents/malaya-speech/malaya_speech/train/optimizer/__init__.py:43: The name tf.train.GradientDescentOptimizer is deprecated. Please use tf.compat.v1.train.GradientDescentOptimizer instead.\n",
      "\n",
      "WARNING:tensorflow:\n",
      "The TensorFlow contrib module will not be included in TensorFlow 2.0.\n",
      "For more information, please see:\n",
      "  * https://github.com/tensorflow/community/blob/master/rfcs/20180907-contrib-sunset.md\n",
      "  * https://github.com/tensorflow/addons\n",
      "  * https://github.com/tensorflow/io (for I/O related ops)\n",
      "If you depend on functionality not listed there, please file an issue.\n",
      "\n"
     ]
    }
   ],
   "source": [
    "import malaya_speech\n",
    "from malaya_speech.train.model import uis_rnn"
   ]
  },
  {
   "cell_type": "code",
   "execution_count": null,
   "id": "still-equilibrium",
   "metadata": {},
   "outputs": [],
   "source": []
  },
  {
   "cell_type": "code",
   "execution_count": 4,
   "id": "polyphonic-running",
   "metadata": {},
   "outputs": [],
   "source": [
    "import torch"
   ]
  },
  {
   "cell_type": "code",
   "execution_count": 5,
   "id": "floral-locator",
   "metadata": {},
   "outputs": [
    {
     "data": {
      "text/plain": [
       "tensor([1., 1., 1., 1., 1., 1., 1., 1., 1., 1.])"
      ]
     },
     "execution_count": 5,
     "metadata": {},
     "output_type": "execute_result"
    }
   ],
   "source": [
    "torch.ones(10)"
   ]
  },
  {
   "cell_type": "code",
   "execution_count": 6,
   "id": "sudden-international",
   "metadata": {},
   "outputs": [
    {
     "data": {
      "text/plain": [
       "TensorShape([Dimension(10)])"
      ]
     },
     "execution_count": 6,
     "metadata": {},
     "output_type": "execute_result"
    }
   ],
   "source": [
    "tf.ones(10).shape"
   ]
  },
  {
   "cell_type": "code",
   "execution_count": 7,
   "id": "everyday-footage",
   "metadata": {},
   "outputs": [
    {
     "data": {
      "text/plain": [
       "tensorflow.python.ops.init_ops.Ones"
      ]
     },
     "execution_count": 7,
     "metadata": {},
     "output_type": "execute_result"
    }
   ],
   "source": [
    "tf.ones_initializer"
   ]
  },
  {
   "cell_type": "code",
   "execution_count": 8,
   "id": "hispanic-sentence",
   "metadata": {},
   "outputs": [
    {
     "data": {
      "text/plain": [
       "<tf.Variable 'sigma2:0' shape=(10,) dtype=float32, numpy=array([1., 1., 1., 1., 1., 1., 1., 1., 1., 1.], dtype=float32)>"
      ]
     },
     "execution_count": 8,
     "metadata": {},
     "output_type": "execute_result"
    }
   ],
   "source": [
    "tf.get_variable(\n",
    "            name = 'sigma2',\n",
    "            shape = [10],\n",
    "            initializer = tf.ones_initializer(),\n",
    "        )"
   ]
  },
  {
   "cell_type": "code",
   "execution_count": 9,
   "id": "sensitive-allowance",
   "metadata": {},
   "outputs": [],
   "source": [
    "import numpy as np\n",
    "\n",
    "train_sequence = np.random.rand(1000, 100)\n",
    "train_cluster_id = np.array(['A'] * 1000)"
   ]
  },
  {
   "cell_type": "code",
   "execution_count": 45,
   "id": "spread-accused",
   "metadata": {},
   "outputs": [],
   "source": [
    "train_sequences = [\n",
    "    np.random.rand(100, 100),\n",
    "    np.random.rand(200, 100),\n",
    "    np.random.rand(300, 100)]\n",
    "train_cluster_ids = [\n",
    "    np.array(['A'] * 100),\n",
    "    np.array(['A'] * 200),\n",
    "    np.array(['A'] * 300),]"
   ]
  },
  {
   "cell_type": "code",
   "execution_count": 46,
   "id": "partial-classic",
   "metadata": {},
   "outputs": [
    {
     "data": {
      "text/plain": [
       "(0.001669449081803005, 599)"
      ]
     },
     "execution_count": 46,
     "metadata": {},
     "output_type": "execute_result"
    }
   ],
   "source": [
    "uis_rnn.utils.estimate_transition_bias(train_cluster_ids)"
   ]
  },
  {
   "cell_type": "code",
   "execution_count": 47,
   "id": "japanese-sapphire",
   "metadata": {},
   "outputs": [],
   "source": [
    "concatenated_train_sequence, concatenated_train_cluster_id = uis_rnn.utils.concatenate_training_data(\n",
    "         train_sequences,\n",
    "         train_cluster_ids,\n",
    "         True,\n",
    "         True)\n",
    "\n",
    "concatenated_train_cluster_id = np.array(concatenated_train_cluster_id)"
   ]
  },
  {
   "cell_type": "code",
   "execution_count": 48,
   "id": "contrary-speaking",
   "metadata": {},
   "outputs": [
    {
     "data": {
      "text/plain": [
       "(600, 100)"
      ]
     },
     "execution_count": 48,
     "metadata": {},
     "output_type": "execute_result"
    }
   ],
   "source": [
    "concatenated_train_sequence.shape"
   ]
  },
  {
   "cell_type": "code",
   "execution_count": 23,
   "id": "olympic-vertex",
   "metadata": {},
   "outputs": [
    {
     "data": {
      "text/plain": [
       "(1000, 100)"
      ]
     },
     "execution_count": 23,
     "metadata": {},
     "output_type": "execute_result"
    }
   ],
   "source": [
    "concatenated_train_sequence.shape"
   ]
  },
  {
   "cell_type": "code",
   "execution_count": 24,
   "id": "charged-enterprise",
   "metadata": {},
   "outputs": [
    {
     "data": {
      "text/plain": [
       "1000"
      ]
     },
     "execution_count": 24,
     "metadata": {},
     "output_type": "execute_result"
    }
   ],
   "source": [
    "len(concatenated_train_cluster_id)"
   ]
  },
  {
   "cell_type": "code",
   "execution_count": 25,
   "id": "buried-medicine",
   "metadata": {},
   "outputs": [],
   "source": [
    "sub_sequences, seq_lengths = uis_rnn.utils.resize_sequence(\n",
    "        sequence=concatenated_train_sequence,\n",
    "        cluster_id=concatenated_train_cluster_id,\n",
    "        num_permutations=10)"
   ]
  },
  {
   "cell_type": "code",
   "execution_count": 28,
   "id": "optional-level",
   "metadata": {},
   "outputs": [
    {
     "data": {
      "text/plain": [
       "10"
      ]
     },
     "execution_count": 28,
     "metadata": {},
     "output_type": "execute_result"
    }
   ],
   "source": [
    "len(sub_sequences)"
   ]
  },
  {
   "cell_type": "code",
   "execution_count": 33,
   "id": "induced-grain",
   "metadata": {},
   "outputs": [
    {
     "data": {
      "text/plain": [
       "(array([1001, 1001, 1001, 1001, 1001, 1001, 1001, 1001, 1001, 1001]),\n",
       " array([9, 8, 7, 6, 5, 4, 3, 2, 1, 0]))"
      ]
     },
     "execution_count": 33,
     "metadata": {},
     "output_type": "execute_result"
    }
   ],
   "source": [
    "num_clusters = len(seq_lengths)\n",
    "sorted_seq_lengths = np.sort(seq_lengths)[::-1]\n",
    "permute_index = np.argsort(seq_lengths)[::-1]\n",
    "\n",
    "sorted_seq_lengths, permute_index"
   ]
  },
  {
   "cell_type": "code",
   "execution_count": 36,
   "id": "athletic-arena",
   "metadata": {},
   "outputs": [
    {
     "data": {
      "text/plain": [
       "array([4, 4])"
      ]
     },
     "execution_count": 36,
     "metadata": {},
     "output_type": "execute_result"
    }
   ],
   "source": [
    "batch_size = 2\n",
    "mini_batch = np.sort(np.random.choice(num_clusters, batch_size))\n",
    "mini_batch"
   ]
  },
  {
   "cell_type": "code",
   "execution_count": 39,
   "id": "quantitative-rehabilitation",
   "metadata": {},
   "outputs": [
    {
     "data": {
      "text/plain": [
       "(1001, 2, 100)"
      ]
     },
     "execution_count": 39,
     "metadata": {},
     "output_type": "execute_result"
    }
   ],
   "source": [
    "rnn_input = np.zeros(\n",
    "    (sorted_seq_lengths[mini_batch[0]], batch_size, 100)\n",
    ")\n",
    "rnn_input.shape"
   ]
  },
  {
   "cell_type": "code",
   "execution_count": 40,
   "id": "serious-belgium",
   "metadata": {},
   "outputs": [],
   "source": [
    "for i in range(batch_size):\n",
    "    rnn_input[\n",
    "        1 : sorted_seq_lengths[mini_batch[i]], i, :\n",
    "    ] = sub_sequences[permute_index[mini_batch[i]]]"
   ]
  },
  {
   "cell_type": "code",
   "execution_count": 42,
   "id": "existing-teacher",
   "metadata": {},
   "outputs": [
    {
     "data": {
      "text/plain": [
       "(1001, 2, 100)"
      ]
     },
     "execution_count": 42,
     "metadata": {},
     "output_type": "execute_result"
    }
   ],
   "source": [
    "rnn_input.shape"
   ]
  },
  {
   "cell_type": "code",
   "execution_count": 44,
   "id": "thorough-college",
   "metadata": {},
   "outputs": [
    {
     "data": {
      "text/plain": [
       "(1000, 2, 100)"
      ]
     },
     "execution_count": 44,
     "metadata": {},
     "output_type": "execute_result"
    }
   ],
   "source": [
    "rnn_truth = rnn_input[1:, :, :]\n",
    "rnn_truth.shape"
   ]
  },
  {
   "cell_type": "code",
   "execution_count": null,
   "id": "graduate-floor",
   "metadata": {},
   "outputs": [],
   "source": []
  }
 ],
 "metadata": {
  "kernelspec": {
   "display_name": "Python 3",
   "language": "python",
   "name": "python3"
  },
  "language_info": {
   "codemirror_mode": {
    "name": "ipython",
    "version": 3
   },
   "file_extension": ".py",
   "mimetype": "text/x-python",
   "name": "python",
   "nbconvert_exporter": "python",
   "pygments_lexer": "ipython3",
   "version": "3.7.7"
  }
 },
 "nbformat": 4,
 "nbformat_minor": 5
}

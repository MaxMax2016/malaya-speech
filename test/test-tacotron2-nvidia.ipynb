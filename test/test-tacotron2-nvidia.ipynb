{
 "cells": [
  {
   "cell_type": "code",
   "execution_count": 1,
   "metadata": {},
   "outputs": [],
   "source": [
    "import os\n",
    "\n",
    "os.environ['CUDA_VISIBLE_DEVICES'] = '1'"
   ]
  },
  {
   "cell_type": "code",
   "execution_count": 2,
   "metadata": {},
   "outputs": [],
   "source": [
    "import sys\n",
    "\n",
    "SOURCE_DIR = os.path.dirname(os.path.dirname(os.path.abspath(__name__)))\n",
    "sys.path.insert(0, SOURCE_DIR)"
   ]
  },
  {
   "cell_type": "code",
   "execution_count": 3,
   "metadata": {
    "scrolled": true
   },
   "outputs": [
    {
     "name": "stdout",
     "output_type": "stream",
     "text": [
      "WARNING:tensorflow:From /Users/huseinzolkepli/Documents/malaya-speech/malaya_speech/train/optimizer/__init__.py:35: The name tf.train.AdagradOptimizer is deprecated. Please use tf.compat.v1.train.AdagradOptimizer instead.\n",
      "\n",
      "WARNING:tensorflow:From /Users/huseinzolkepli/Documents/malaya-speech/malaya_speech/train/optimizer/__init__.py:36: The name tf.train.AdamOptimizer is deprecated. Please use tf.compat.v1.train.AdamOptimizer instead.\n",
      "\n",
      "WARNING:tensorflow:From /Users/huseinzolkepli/Documents/malaya-speech/malaya_speech/train/optimizer/__init__.py:37: The name tf.train.FtrlOptimizer is deprecated. Please use tf.compat.v1.train.FtrlOptimizer instead.\n",
      "\n",
      "WARNING:tensorflow:From /Users/huseinzolkepli/Documents/malaya-speech/malaya_speech/train/optimizer/__init__.py:39: The name tf.train.RMSPropOptimizer is deprecated. Please use tf.compat.v1.train.RMSPropOptimizer instead.\n",
      "\n",
      "WARNING:tensorflow:From /Users/huseinzolkepli/Documents/malaya-speech/malaya_speech/train/optimizer/__init__.py:40: The name tf.train.GradientDescentOptimizer is deprecated. Please use tf.compat.v1.train.GradientDescentOptimizer instead.\n",
      "\n",
      "WARNING:tensorflow:\n",
      "The TensorFlow contrib module will not be included in TensorFlow 2.0.\n",
      "For more information, please see:\n",
      "  * https://github.com/tensorflow/community/blob/master/rfcs/20180907-contrib-sunset.md\n",
      "  * https://github.com/tensorflow/addons\n",
      "  * https://github.com/tensorflow/io (for I/O related ops)\n",
      "If you depend on functionality not listed there, please file an issue.\n",
      "\n",
      "WARNING:tensorflow:From /Users/huseinzolkepli/Documents/malaya-speech/malaya_speech/train/model/openseq2seq/layer.py:6: The name tf.layers.Conv1D is deprecated. Please use tf.compat.v1.layers.Conv1D instead.\n",
      "\n",
      "WARNING:tensorflow:From /Users/huseinzolkepli/Documents/malaya-speech/malaya_speech/train/model/openseq2seq/attention.py:4: The name tf.layers.Layer is deprecated. Please use tf.compat.v1.layers.Layer instead.\n",
      "\n"
     ]
    }
   ],
   "source": [
    "import tensorflow as tf\n",
    "import malaya_speech\n",
    "import malaya_speech.train\n",
    "from malaya_speech.train.model import tacotron2_nvidia as tacotron2\n",
    "import numpy as np"
   ]
  },
  {
   "cell_type": "code",
   "execution_count": 4,
   "metadata": {},
   "outputs": [],
   "source": [
    "input_ids = tf.placeholder(tf.int32, [None, None])\n",
    "input_lengths = tf.placeholder(tf.int32, [None])\n",
    "mel_outputs = tf.placeholder(tf.float32, [None, None, 80])\n",
    "mel_lengths = tf.placeholder(tf.int32, [None])"
   ]
  },
  {
   "cell_type": "code",
   "execution_count": 5,
   "metadata": {
    "scrolled": true
   },
   "outputs": [
    {
     "name": "stdout",
     "output_type": "stream",
     "text": [
      "WARNING:tensorflow:From /Users/huseinzolkepli/Documents/malaya-speech/malaya_speech/train/model/openseq2seq/abstract.py:147: The name tf.variable_scope is deprecated. Please use tf.compat.v1.variable_scope instead.\n",
      "\n",
      "WARNING:tensorflow:From /Users/huseinzolkepli/Documents/malaya-speech/malaya_speech/train/model/tacotron2_nvidia/encoder.py:60: The name tf.get_variable is deprecated. Please use tf.compat.v1.get_variable instead.\n",
      "\n",
      "WARNING:tensorflow:From /Users/huseinzolkepli/Documents/malaya-speech/malaya_speech/train/model/openseq2seq/layer.py:340: conv1d (from tensorflow.python.layers.convolutional) is deprecated and will be removed in a future version.\n",
      "Instructions for updating:\n",
      "Use `tf.keras.layers.Conv1D` instead.\n",
      "WARNING:tensorflow:From /Library/Frameworks/Python.framework/Versions/3.7/lib/python3.7/site-packages/tensorflow_core/python/layers/convolutional.py:218: Layer.apply (from tensorflow.python.keras.engine.base_layer) is deprecated and will be removed in a future version.\n",
      "Instructions for updating:\n",
      "Please use `layer.__call__` method instead.\n",
      "WARNING:tensorflow:From /Users/huseinzolkepli/Documents/malaya-speech/malaya_speech/train/model/openseq2seq/layer.py:358: batch_normalization (from tensorflow.python.layers.normalization) is deprecated and will be removed in a future version.\n",
      "Instructions for updating:\n",
      "Use keras.layers.BatchNormalization instead.  In particular, `tf.control_dependencies(tf.GraphKeys.UPDATE_OPS)` should not be used (consult the `tf.keras.layers.batch_normalization` documentation).\n",
      "WARNING:tensorflow:From /Users/huseinzolkepli/Documents/malaya-speech/malaya_speech/train/model/tacotron2_nvidia/encoder.py:129: dropout (from tensorflow.python.layers.core) is deprecated and will be removed in a future version.\n",
      "Instructions for updating:\n",
      "Use keras.layers.dropout instead.\n",
      "WARNING:tensorflow:From /Users/huseinzolkepli/Documents/malaya-speech/malaya_speech/train/model/openseq2seq/rnn.py:111: LSTMCell.__init__ (from tensorflow.python.ops.rnn_cell_impl) is deprecated and will be removed in a future version.\n",
      "Instructions for updating:\n",
      "This class is equivalent as tf.keras.layers.LSTMCell, and will be replaced by that in Tensorflow 2.0.\n",
      "WARNING:tensorflow:From /Users/huseinzolkepli/Documents/malaya-speech/malaya_speech/train/model/tacotron2_nvidia/encoder.py:205: MultiRNNCell.__init__ (from tensorflow.python.ops.rnn_cell_impl) is deprecated and will be removed in a future version.\n",
      "Instructions for updating:\n",
      "This class is equivalent as tf.keras.layers.StackedRNNCells, and will be replaced by that in Tensorflow 2.0.\n",
      "WARNING:tensorflow:From /Users/huseinzolkepli/Documents/malaya-speech/malaya_speech/train/model/tacotron2_nvidia/encoder.py:236: bidirectional_dynamic_rnn (from tensorflow.python.ops.rnn) is deprecated and will be removed in a future version.\n",
      "Instructions for updating:\n",
      "Please use `keras.layers.Bidirectional(keras.layers.RNN(cell))`, which is equivalent to this API\n",
      "WARNING:tensorflow:From /Library/Frameworks/Python.framework/Versions/3.7/lib/python3.7/site-packages/tensorflow_core/python/ops/rnn.py:464: dynamic_rnn (from tensorflow.python.ops.rnn) is deprecated and will be removed in a future version.\n",
      "Instructions for updating:\n",
      "Please use `keras.layers.RNN(cell)`, which is equivalent to this API\n",
      "WARNING:tensorflow:From /Library/Frameworks/Python.framework/Versions/3.7/lib/python3.7/site-packages/tensorflow_core/python/ops/rnn_cell_impl.py:958: Layer.add_variable (from tensorflow.python.keras.engine.base_layer) is deprecated and will be removed in a future version.\n",
      "Instructions for updating:\n",
      "Please use `layer.add_weight` method instead.\n",
      "WARNING:tensorflow:From /Library/Frameworks/Python.framework/Versions/3.7/lib/python3.7/site-packages/tensorflow_core/python/ops/rnn_cell_impl.py:962: calling Zeros.__init__ (from tensorflow.python.ops.init_ops) with dtype is deprecated and will be removed in a future version.\n",
      "Instructions for updating:\n",
      "Call initializer instance with the dtype argument instead of passing it to the constructor\n",
      "WARNING:tensorflow:From /Library/Frameworks/Python.framework/Versions/3.7/lib/python3.7/site-packages/tensorflow_core/python/ops/rnn.py:244: where (from tensorflow.python.ops.array_ops) is deprecated and will be removed in a future version.\n",
      "Instructions for updating:\n",
      "Use tf.where in 2.0, which has the same broadcast rule as np.where\n",
      "WARNING:tensorflow:From /Users/huseinzolkepli/Documents/malaya-speech/malaya_speech/train/model/tacotron2_nvidia/encoder.py:255: The name tf.add_to_collection is deprecated. Please use tf.compat.v1.add_to_collection instead.\n",
      "\n",
      "WARNING:tensorflow:From /Users/huseinzolkepli/Documents/malaya-speech/malaya_speech/train/model/tacotron2_nvidia/decoder.py:475: The name tf.layers.Dense is deprecated. Please use tf.compat.v1.layers.Dense instead.\n",
      "\n",
      "WARNING:tensorflow:From /Users/huseinzolkepli/Documents/malaya-speech/malaya_speech/train/model/tacotron2_nvidia/decoder.py:392: The name tf.get_variable_scope is deprecated. Please use tf.compat.v1.get_variable_scope instead.\n",
      "\n"
     ]
    }
   ],
   "source": [
    "model = tacotron2.Model([input_ids, input_lengths], [mel_outputs, mel_lengths], 20)"
   ]
  },
  {
   "cell_type": "code",
   "execution_count": 7,
   "metadata": {},
   "outputs": [
    {
     "data": {
      "text/plain": [
       "{'outputs': <tf.Tensor 'tacotron2_encoder/concat:0' shape=(?, ?, 512) dtype=float32>,\n",
       " 'src_length': <tf.Tensor 'tacotron2_encoder/floordiv_2:0' shape=(?,) dtype=int32>}"
      ]
     },
     "execution_count": 7,
     "metadata": {},
     "output_type": "execute_result"
    }
   ],
   "source": [
    "model.encoder_logits"
   ]
  },
  {
   "cell_type": "code",
   "execution_count": 8,
   "metadata": {},
   "outputs": [
    {
     "data": {
      "text/plain": [
       "{'outputs': [<tf.Tensor 'tacotron_2_decoder/decoder_1/output_proj/BiasAdd:0' shape=(?, ?, 80) dtype=float32>,\n",
       "  <tf.Tensor 'tacotron_2_decoder/add:0' shape=(?, ?, 80) dtype=float32>,\n",
       "  <tf.Tensor 'tacotron_2_decoder/transpose_1:0' shape=(?, ?, ?) dtype=float32>,\n",
       "  <tf.Tensor 'tacotron_2_decoder/Sigmoid:0' shape=(?, ?, 1) dtype=float32>,\n",
       "  <tf.Tensor 'tacotron_2_decoder/decoder/while/Exit_15:0' shape=(?,) dtype=int32>,\n",
       "  <tf.Tensor 'tacotron_2_decoder/zeros:0' shape=(?, ?, ?) dtype=float32>],\n",
       " 'stop_token_prediction': <tf.Tensor 'tacotron_2_decoder/decoder_1/stop_token_proj/BiasAdd:0' shape=(?, ?, 1) dtype=float32>}"
      ]
     },
     "execution_count": 8,
     "metadata": {},
     "output_type": "execute_result"
    }
   ],
   "source": [
    "model.decoder_logits"
   ]
  },
  {
   "cell_type": "code",
   "execution_count": 9,
   "metadata": {},
   "outputs": [
    {
     "data": {
      "text/plain": [
       "<tf.Tensor 'ExpandDims:0' shape=(1, ?, ?) dtype=float32>"
      ]
     },
     "execution_count": 9,
     "metadata": {},
     "output_type": "execute_result"
    }
   ],
   "source": [
    "guided = tacotron2.generate_guided_attention(mel_lengths[0], input_lengths[0])\n",
    "guided = tf.expand_dims(guided, 0)\n",
    "guided"
   ]
  },
  {
   "cell_type": "code",
   "execution_count": 10,
   "metadata": {},
   "outputs": [],
   "source": [
    "from malaya_speech.train.loss import calculate_2d_loss, calculate_3d_loss"
   ]
  },
  {
   "cell_type": "code",
   "execution_count": 11,
   "metadata": {},
   "outputs": [],
   "source": [
    "r = model.decoder_logits['outputs']\n",
    "decoder_output, post_mel_outputs, alignment_histories, stop_token_predictions, _, _ = r\n",
    "stop_token_predictions = stop_token_predictions[:,:,0]"
   ]
  },
  {
   "cell_type": "code",
   "execution_count": 12,
   "metadata": {},
   "outputs": [],
   "source": [
    "binary_crossentropy = tf.keras.losses.BinaryCrossentropy(\n",
    "    from_logits=True\n",
    ")\n",
    "mse = tf.keras.losses.MeanSquaredError()\n",
    "mae = tf.keras.losses.MeanAbsoluteError()\n",
    "mel_loss_before = calculate_3d_loss(\n",
    "    mel_outputs, decoder_output, loss_fn=mae\n",
    ")\n",
    "mel_loss_after = calculate_3d_loss(\n",
    "    mel_outputs, post_mel_outputs, loss_fn=mae\n",
    ")\n",
    "max_mel_length = tf.reduce_max(mel_lengths)\n",
    "stop_gts = tf.expand_dims(\n",
    "    tf.range(tf.reduce_max(max_mel_length), dtype=tf.int32), 0\n",
    ")\n",
    "stop_gts = tf.tile(\n",
    "    stop_gts, [tf.shape(mel_lengths)[0], 1]\n",
    ")\n",
    "stop_gts = tf.cast(\n",
    "    tf.math.greater_equal(stop_gts, tf.expand_dims(mel_lengths, 1)),\n",
    "    tf.float32,\n",
    ")\n",
    "stop_token_loss = calculate_2d_loss(\n",
    "    stop_gts, stop_token_predictions, loss_fn=binary_crossentropy\n",
    ")\n",
    "attention_masks = tf.cast(\n",
    "    tf.math.not_equal(guided, -1.0), tf.float32\n",
    ")\n",
    "loss_att = tf.reduce_sum(\n",
    "    tf.abs(alignment_histories * guided) * attention_masks,\n",
    "    axis=[1, 2],\n",
    ")\n",
    "loss_att /= tf.reduce_sum(attention_masks, axis=[1, 2])"
   ]
  },
  {
   "cell_type": "code",
   "execution_count": 13,
   "metadata": {},
   "outputs": [
    {
     "data": {
      "text/plain": [
       "<tf.Tensor 'truediv_3:0' shape=(?,) dtype=float32>"
      ]
     },
     "execution_count": 13,
     "metadata": {},
     "output_type": "execute_result"
    }
   ],
   "source": [
    "loss_att"
   ]
  },
  {
   "cell_type": "code",
   "execution_count": 14,
   "metadata": {},
   "outputs": [],
   "source": [
    "loss = stop_token_loss + mel_loss_before + mel_loss_after + loss_att"
   ]
  },
  {
   "cell_type": "code",
   "execution_count": 15,
   "metadata": {},
   "outputs": [
    {
     "data": {
      "text/plain": [
       "(<tf.Tensor 'binary_crossentropy/weighted_loss/value:0' shape=() dtype=float32>,\n",
       " <tf.Tensor 'mean_absolute_error/weighted_loss/value:0' shape=() dtype=float32>,\n",
       " <tf.Tensor 'mean_absolute_error_1/weighted_loss/value:0' shape=() dtype=float32>,\n",
       " <tf.Tensor 'truediv_3:0' shape=(?,) dtype=float32>)"
      ]
     },
     "execution_count": 15,
     "metadata": {},
     "output_type": "execute_result"
    }
   ],
   "source": [
    "stop_token_loss, mel_loss_before, mel_loss_after, loss_att"
   ]
  },
  {
   "cell_type": "code",
   "execution_count": 16,
   "metadata": {},
   "outputs": [],
   "source": [
    "# r = model.inference(input_ids, input_lengths, speaker_ids)\n",
    "# r"
   ]
  },
  {
   "cell_type": "code",
   "execution_count": 17,
   "metadata": {},
   "outputs": [],
   "source": [
    "sess = tf.InteractiveSession()\n",
    "sess.run(tf.global_variables_initializer())"
   ]
  },
  {
   "cell_type": "code",
   "execution_count": 18,
   "metadata": {},
   "outputs": [
    {
     "data": {
      "text/plain": [
       "(1, 50, 80)"
      ]
     },
     "execution_count": 18,
     "metadata": {},
     "output_type": "execute_result"
    }
   ],
   "source": [
    "sess.run(decoder_output, feed_dict = {input_ids: [[1, 2, 3, 4, 5, 6, 7, 8, 9]],\n",
    "                        input_lengths: [9],\n",
    "                        mel_outputs: np.random.normal(size=(1, 50, 80)).astype(np.float32),\n",
    "                        mel_lengths: [50]}).shape"
   ]
  },
  {
   "cell_type": "code",
   "execution_count": 19,
   "metadata": {},
   "outputs": [
    {
     "data": {
      "text/plain": [
       "(1, 9, 50)"
      ]
     },
     "execution_count": 19,
     "metadata": {},
     "output_type": "execute_result"
    }
   ],
   "source": [
    "sess.run(alignment_histories, feed_dict = {input_ids: [[1, 2, 3, 4, 5, 6, 7, 8, 9]],\n",
    "                        input_lengths: [9],\n",
    "                        mel_outputs: np.random.normal(size=(1, 50, 80)).astype(np.float32),\n",
    "                        mel_lengths: [50]}).shape"
   ]
  },
  {
   "cell_type": "code",
   "execution_count": 20,
   "metadata": {},
   "outputs": [
    {
     "data": {
      "text/plain": [
       "[array([[[ 0.24218522,  0.13701858,  0.00487693, ...,  0.14293332,\n",
       "           0.20633537,  0.14976421],\n",
       "         [ 0.25519168,  0.11695226, -0.00425737, ...,  0.15311556,\n",
       "           0.2119283 ,  0.12969519],\n",
       "         [ 0.2479845 ,  0.09559423,  0.00517865, ...,  0.17117757,\n",
       "           0.22694351,  0.1065423 ],\n",
       "         ...,\n",
       "         [ 0.3467884 ,  0.15074202,  0.04298767, ...,  0.30526024,\n",
       "           0.26526818, -0.03099895],\n",
       "         [ 0.32898253,  0.17106691, -0.03057477, ...,  0.2876215 ,\n",
       "           0.28118813, -0.06269446],\n",
       "         [ 0.3379134 ,  0.16564319,  0.01647673, ...,  0.2668755 ,\n",
       "           0.17870751,  0.00212696]]], dtype=float32),\n",
       " array([[[ 1.1726807 , -0.605938  ,  0.96493983, ...,  0.5148824 ,\n",
       "           1.5963304 ,  0.33690977],\n",
       "         [-0.61855155,  1.5217942 ,  0.96961075, ...,  0.3834659 ,\n",
       "          -0.2647264 ,  2.1184623 ],\n",
       "         [-0.82034254,  0.09559423, -0.00595346, ..., -0.06698112,\n",
       "           1.0180718 ,  0.6964825 ],\n",
       "         ...,\n",
       "         [ 1.067308  , -0.7370199 , -1.4677448 , ..., -1.1716142 ,\n",
       "           0.84703815, -0.39487842],\n",
       "         [ 0.82088435,  2.4849668 , -0.47342014, ...,  0.2876215 ,\n",
       "          -0.6455887 , -0.853232  ],\n",
       "         [ 0.08773902, -0.0605199 , -0.24825974, ..., -0.4366188 ,\n",
       "          -0.75803864, -0.36542994]]], dtype=float32),\n",
       " array([[[0.10063307, 0.10113396, 0.10176793, 0.10233491, 0.10287543,\n",
       "          0.10316546, 0.10344552, 0.1042612 , 0.10507591, 0.10527335,\n",
       "          0.1054739 , 0.10653671, 0.10683456, 0.10761426, 0.10766529,\n",
       "          0.10872131, 0.10998309, 0.10908983, 0.10969524, 0.11046211,\n",
       "          0.11121561, 0.11133574, 0.11203776, 0.11218759, 0.11216103,\n",
       "          0.11396198, 0.1135968 , 0.11408746, 0.11471705, 0.11493488,\n",
       "          0.11423872, 0.11552315, 0.11636378, 0.1160813 , 0.11787586,\n",
       "          0.11673371, 0.11708663, 0.11710668, 0.11768033, 0.11639073,\n",
       "          0.11751711, 0.11758566, 0.1170181 , 0.11757889, 0.11868642,\n",
       "          0.11961385, 0.11911766, 0.11976054, 0.11932661, 0.11971275],\n",
       "         [0.10989576, 0.11080693, 0.11162616, 0.11245727, 0.11367031,\n",
       "          0.11430613, 0.11503685, 0.11651667, 0.11672004, 0.11863631,\n",
       "          0.11901125, 0.12018237, 0.12062281, 0.12225727, 0.12259612,\n",
       "          0.12428635, 0.1257081 , 0.12577406, 0.12636288, 0.12785478,\n",
       "          0.12874615, 0.12895884, 0.12973976, 0.13164026, 0.13291769,\n",
       "          0.13451397, 0.13441256, 0.13638945, 0.1376757 , 0.13826965,\n",
       "          0.13843606, 0.13961849, 0.14163312, 0.14102848, 0.14326102,\n",
       "          0.14437552, 0.14480591, 0.14504819, 0.14841658, 0.1466497 ,\n",
       "          0.1499207 , 0.15017232, 0.15020287, 0.1514442 , 0.15279642,\n",
       "          0.1549969 , 0.15384556, 0.15647863, 0.15777586, 0.15916103],\n",
       "         [0.13894033, 0.13920306, 0.1393914 , 0.1395061 , 0.14005871,\n",
       "          0.13996916, 0.14056091, 0.14065212, 0.14101681, 0.14119546,\n",
       "          0.14116006, 0.14171614, 0.1416649 , 0.14185493, 0.14143167,\n",
       "          0.14147471, 0.1427351 , 0.14279611, 0.14224513, 0.14295326,\n",
       "          0.14264205, 0.14200476, 0.14227766, 0.14330623, 0.14294772,\n",
       "          0.14436854, 0.14336787, 0.14353083, 0.14477184, 0.14385091,\n",
       "          0.1449625 , 0.14492351, 0.14509164, 0.14533977, 0.14566328,\n",
       "          0.1479627 , 0.14685795, 0.14646311, 0.14695679, 0.14539228,\n",
       "          0.14713489, 0.1466509 , 0.14687519, 0.14559908, 0.14707978,\n",
       "          0.14773123, 0.14748389, 0.14798349, 0.14739984, 0.1479405 ],\n",
       "         [0.0876357 , 0.08757652, 0.08753002, 0.0876615 , 0.0876715 ,\n",
       "          0.087703  , 0.08785495, 0.08750257, 0.08757956, 0.08752894,\n",
       "          0.08726479, 0.08711994, 0.08704691, 0.08704604, 0.08678515,\n",
       "          0.0869462 , 0.08698685, 0.08668698, 0.08686563, 0.08661321,\n",
       "          0.08612895, 0.08603091, 0.08523879, 0.0859312 , 0.08571725,\n",
       "          0.08574787, 0.0856567 , 0.08551092, 0.08555526, 0.08508054,\n",
       "          0.08594356, 0.08468607, 0.0852376 , 0.08437561, 0.0844237 ,\n",
       "          0.08448958, 0.08474357, 0.08430862, 0.0849425 , 0.08388557,\n",
       "          0.08415827, 0.08330131, 0.08353782, 0.08253437, 0.0817053 ,\n",
       "          0.08118147, 0.08182313, 0.08129222, 0.08149146, 0.08168634],\n",
       "         [0.11533169, 0.11450918, 0.11372425, 0.11299479, 0.11212048,\n",
       "          0.11123154, 0.11048221, 0.10979138, 0.10908141, 0.108042  ,\n",
       "          0.1072026 , 0.10668001, 0.10606327, 0.10529597, 0.10457508,\n",
       "          0.10384297, 0.10338019, 0.10246   , 0.10205965, 0.10101997,\n",
       "          0.10034742, 0.10019961, 0.09891361, 0.0980906 , 0.09794639,\n",
       "          0.097534  , 0.09699457, 0.09625705, 0.09514179, 0.09421303,\n",
       "          0.0945316 , 0.09311202, 0.09230783, 0.09111105, 0.09095191,\n",
       "          0.08971071, 0.08945365, 0.08878885, 0.08853256, 0.08760355,\n",
       "          0.08644767, 0.0866482 , 0.08613396, 0.08467378, 0.08387422,\n",
       "          0.08312325, 0.08311975, 0.08156179, 0.08090389, 0.08022474],\n",
       "         [0.12762973, 0.12681814, 0.12595877, 0.12522769, 0.12445333,\n",
       "          0.12374032, 0.12306628, 0.12202138, 0.12163279, 0.12040503,\n",
       "          0.11957598, 0.11889677, 0.11788023, 0.11785343, 0.11655828,\n",
       "          0.11565301, 0.1148722 , 0.11424547, 0.11374009, 0.11277561,\n",
       "          0.11172675, 0.11178755, 0.11162472, 0.10945207, 0.10968543,\n",
       "          0.10816424, 0.10765938, 0.10641015, 0.1050541 , 0.10496455,\n",
       "          0.10391413, 0.10352346, 0.10220552, 0.10169836, 0.10142928,\n",
       "          0.09969548, 0.10020883, 0.09959877, 0.09769969, 0.09760337,\n",
       "          0.09538603, 0.0958183 , 0.09530353, 0.09396908, 0.09267887,\n",
       "          0.0922827 , 0.09257407, 0.09137324, 0.09112132, 0.09059384],\n",
       "         [0.12168953, 0.12170862, 0.1215454 , 0.12131976, 0.12123323,\n",
       "          0.12128223, 0.12112991, 0.12107283, 0.12083568, 0.12109882,\n",
       "          0.12157833, 0.1211317 , 0.12126948, 0.12118674, 0.12183734,\n",
       "          0.12165806, 0.12005188, 0.1215231 , 0.1214278 , 0.12097485,\n",
       "          0.12158547, 0.12164114, 0.12231097, 0.12174582, 0.12174341,\n",
       "          0.12039106, 0.12085601, 0.12090891, 0.12042255, 0.12090857,\n",
       "          0.12030263, 0.12091503, 0.12053944, 0.12140791, 0.11918171,\n",
       "          0.11913749, 0.1195408 , 0.11968148, 0.11795809, 0.1200337 ,\n",
       "          0.11850283, 0.11912097, 0.11911906, 0.11922368, 0.11962625,\n",
       "          0.11846661, 0.11874192, 0.11765858, 0.11793177, 0.1169894 ],\n",
       "         [0.09741188, 0.09760752, 0.09791987, 0.09812436, 0.09798811,\n",
       "          0.09835325, 0.09846094, 0.09871568, 0.09844236, 0.09889915,\n",
       "          0.09946531, 0.09899046, 0.0995856 , 0.0992208 , 0.10025185,\n",
       "          0.10008012, 0.09963878, 0.10044742, 0.10099869, 0.10139347,\n",
       "          0.10114163, 0.10174666, 0.10159524, 0.10185724, 0.10202626,\n",
       "          0.10152235, 0.10283788, 0.10236945, 0.10291213, 0.10362869,\n",
       "          0.10378601, 0.10378012, 0.10342254, 0.10484072, 0.10415749,\n",
       "          0.10441788, 0.10433693, 0.10519376, 0.10494577, 0.10743646,\n",
       "          0.10707716, 0.1073691 , 0.1082181 , 0.10981553, 0.10941845,\n",
       "          0.1093553 , 0.10982556, 0.11069447, 0.11058749, 0.11088881],\n",
       "         [0.10083238, 0.10063612, 0.10053623, 0.10037357, 0.09992892,\n",
       "          0.10024887, 0.09996247, 0.09946609, 0.09961549, 0.09892089,\n",
       "          0.09926777, 0.09874593, 0.09903218, 0.09767047, 0.09829929,\n",
       "          0.09733716, 0.0966438 , 0.09697698, 0.09660485, 0.09595276,\n",
       "          0.09646595, 0.09629479, 0.0962615 , 0.09578902, 0.09485479,\n",
       "          0.09379594, 0.09461822, 0.09453572, 0.09374952, 0.09414912,\n",
       "          0.0938848 , 0.09391816, 0.09319854, 0.09411677, 0.09305573,\n",
       "          0.09347703, 0.09296571, 0.09381049, 0.09286768, 0.09500457,\n",
       "          0.09385525, 0.09333321, 0.09359134, 0.09516135, 0.09413436,\n",
       "          0.09324878, 0.09346846, 0.0931971 , 0.09346187, 0.09280257]]],\n",
       "       dtype=float32),\n",
       " array([[[0.5264476 ],\n",
       "         [0.53091884],\n",
       "         [0.53583664],\n",
       "         [0.53537035],\n",
       "         [0.5328531 ],\n",
       "         [0.53062177],\n",
       "         [0.5335562 ],\n",
       "         [0.5331057 ],\n",
       "         [0.53617805],\n",
       "         [0.5321408 ],\n",
       "         [0.5316083 ],\n",
       "         [0.52760094],\n",
       "         [0.52805096],\n",
       "         [0.5252802 ],\n",
       "         [0.52324945],\n",
       "         [0.5306271 ],\n",
       "         [0.5377979 ],\n",
       "         [0.5197952 ],\n",
       "         [0.5154469 ],\n",
       "         [0.512886  ],\n",
       "         [0.52565676],\n",
       "         [0.53755635],\n",
       "         [0.5184924 ],\n",
       "         [0.52931327],\n",
       "         [0.5434227 ],\n",
       "         [0.5338098 ],\n",
       "         [0.52321047],\n",
       "         [0.52057946],\n",
       "         [0.5332151 ],\n",
       "         [0.5332942 ],\n",
       "         [0.5258499 ],\n",
       "         [0.53376687],\n",
       "         [0.54614455],\n",
       "         [0.53600574],\n",
       "         [0.52962595],\n",
       "         [0.5156504 ],\n",
       "         [0.533232  ],\n",
       "         [0.51883125],\n",
       "         [0.527982  ],\n",
       "         [0.5230271 ],\n",
       "         [0.5244999 ],\n",
       "         [0.5258739 ],\n",
       "         [0.5197015 ],\n",
       "         [0.522101  ],\n",
       "         [0.5286311 ],\n",
       "         [0.5407315 ],\n",
       "         [0.535772  ],\n",
       "         [0.5409033 ],\n",
       "         [0.53200275],\n",
       "         [0.5198148 ]]], dtype=float32),\n",
       " array([50], dtype=int32),\n",
       " array([[[0.]]], dtype=float32)]"
      ]
     },
     "execution_count": 20,
     "metadata": {},
     "output_type": "execute_result"
    }
   ],
   "source": [
    "sess.run(r, feed_dict = {input_ids: [[1, 2, 3, 4, 5, 6, 7, 8, 9]],\n",
    "                        input_lengths: [9],\n",
    "                        mel_outputs: np.random.normal(size=(1, 50, 80)).astype(np.float32),\n",
    "                        mel_lengths: [50]})"
   ]
  },
  {
   "cell_type": "code",
   "execution_count": 21,
   "metadata": {},
   "outputs": [
    {
     "data": {
      "text/plain": [
       "array([3.034975], dtype=float32)"
      ]
     },
     "execution_count": 21,
     "metadata": {},
     "output_type": "execute_result"
    }
   ],
   "source": [
    "sess.run(loss, feed_dict = {input_ids: [[1, 2, 3, 4, 5, 6, 7, 8, 9]],\n",
    "                        input_lengths: [9],\n",
    "                        mel_outputs: np.random.normal(size=(1, 50, 80)).astype(np.float32),\n",
    "                        mel_lengths: [50]})"
   ]
  },
  {
   "cell_type": "code",
   "execution_count": 22,
   "metadata": {},
   "outputs": [
    {
     "data": {
      "text/plain": [
       "array([3.0713153, 3.0708737], dtype=float32)"
      ]
     },
     "execution_count": 22,
     "metadata": {},
     "output_type": "execute_result"
    }
   ],
   "source": [
    "sess.run(loss, feed_dict = {input_ids: [[1, 2, 3, 4, 5, 6, 7, 8, 9],\n",
    "                                       [1, 2, 3, 4, 5, 6, 7, 8, 9]],\n",
    "                        input_lengths: [9, 9],\n",
    "                        mel_outputs: np.random.normal(size=(2, 50, 80)).astype(np.float32),\n",
    "                        mel_lengths: [50, 50]})"
   ]
  },
  {
   "cell_type": "code",
   "execution_count": 23,
   "metadata": {
    "scrolled": true
   },
   "outputs": [
    {
     "data": {
      "text/plain": [
       "(1, 9, 50)"
      ]
     },
     "execution_count": 23,
     "metadata": {},
     "output_type": "execute_result"
    }
   ],
   "source": [
    "sess.run(guided, feed_dict = {input_ids: [[1, 2, 3, 4, 5, 6, 7, 8, 9]],\n",
    "                        input_lengths: [9],\n",
    "                        mel_outputs: np.random.normal(size=(1, 50, 80)).astype(np.float32),\n",
    "                        mel_lengths: [50]}).shape"
   ]
  }
 ],
 "metadata": {
  "kernelspec": {
   "display_name": "Python 3",
   "language": "python",
   "name": "python3"
  },
  "language_info": {
   "codemirror_mode": {
    "name": "ipython",
    "version": 3
   },
   "file_extension": ".py",
   "mimetype": "text/x-python",
   "name": "python",
   "nbconvert_exporter": "python",
   "pygments_lexer": "ipython3",
   "version": "3.7.7"
  }
 },
 "nbformat": 4,
 "nbformat_minor": 4
}

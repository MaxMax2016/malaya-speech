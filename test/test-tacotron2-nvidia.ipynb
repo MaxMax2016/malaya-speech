{
 "cells": [
  {
   "cell_type": "code",
   "execution_count": 1,
   "metadata": {},
   "outputs": [],
   "source": [
    "import os\n",
    "\n",
    "os.environ['CUDA_VISIBLE_DEVICES'] = '1'"
   ]
  },
  {
   "cell_type": "code",
   "execution_count": 2,
   "metadata": {},
   "outputs": [],
   "source": [
    "import sys\n",
    "\n",
    "SOURCE_DIR = os.path.dirname(os.path.dirname(os.path.abspath(__name__)))\n",
    "sys.path.insert(0, SOURCE_DIR)"
   ]
  },
  {
   "cell_type": "code",
   "execution_count": 3,
   "metadata": {
    "scrolled": true
   },
   "outputs": [
    {
     "name": "stdout",
     "output_type": "stream",
     "text": [
      "WARNING:tensorflow:From /Users/huseinzolkepli/Documents/malaya-speech/malaya_speech/train/optimizer/__init__.py:38: The name tf.train.AdagradOptimizer is deprecated. Please use tf.compat.v1.train.AdagradOptimizer instead.\n",
      "\n",
      "WARNING:tensorflow:From /Users/huseinzolkepli/Documents/malaya-speech/malaya_speech/train/optimizer/__init__.py:39: The name tf.train.AdamOptimizer is deprecated. Please use tf.compat.v1.train.AdamOptimizer instead.\n",
      "\n",
      "WARNING:tensorflow:From /Users/huseinzolkepli/Documents/malaya-speech/malaya_speech/train/optimizer/__init__.py:40: The name tf.train.FtrlOptimizer is deprecated. Please use tf.compat.v1.train.FtrlOptimizer instead.\n",
      "\n",
      "WARNING:tensorflow:From /Users/huseinzolkepli/Documents/malaya-speech/malaya_speech/train/optimizer/__init__.py:42: The name tf.train.RMSPropOptimizer is deprecated. Please use tf.compat.v1.train.RMSPropOptimizer instead.\n",
      "\n",
      "WARNING:tensorflow:From /Users/huseinzolkepli/Documents/malaya-speech/malaya_speech/train/optimizer/__init__.py:43: The name tf.train.GradientDescentOptimizer is deprecated. Please use tf.compat.v1.train.GradientDescentOptimizer instead.\n",
      "\n",
      "WARNING:tensorflow:\n",
      "The TensorFlow contrib module will not be included in TensorFlow 2.0.\n",
      "For more information, please see:\n",
      "  * https://github.com/tensorflow/community/blob/master/rfcs/20180907-contrib-sunset.md\n",
      "  * https://github.com/tensorflow/addons\n",
      "  * https://github.com/tensorflow/io (for I/O related ops)\n",
      "If you depend on functionality not listed there, please file an issue.\n",
      "\n",
      "WARNING:tensorflow:From /Users/huseinzolkepli/Documents/malaya-speech/malaya_speech/train/model/openseq2seq/layer.py:6: The name tf.layers.Conv1D is deprecated. Please use tf.compat.v1.layers.Conv1D instead.\n",
      "\n",
      "WARNING:tensorflow:From /Users/huseinzolkepli/Documents/malaya-speech/malaya_speech/train/model/openseq2seq/attention.py:4: The name tf.layers.Layer is deprecated. Please use tf.compat.v1.layers.Layer instead.\n",
      "\n"
     ]
    }
   ],
   "source": [
    "import tensorflow as tf\n",
    "import malaya_speech\n",
    "import malaya_speech.train\n",
    "from malaya_speech.train.model import tacotron2_nvidia as tacotron2\n",
    "import numpy as np"
   ]
  },
  {
   "cell_type": "code",
   "execution_count": 4,
   "metadata": {},
   "outputs": [],
   "source": [
    "input_ids = tf.placeholder(tf.int32, [None, None])\n",
    "input_lengths = tf.placeholder(tf.int32, [None])\n",
    "mel_outputs = tf.placeholder(tf.float32, [None, None, 80])\n",
    "mel_lengths = tf.placeholder(tf.int32, [None])"
   ]
  },
  {
   "cell_type": "code",
   "execution_count": 5,
   "metadata": {
    "scrolled": false
   },
   "outputs": [
    {
     "name": "stdout",
     "output_type": "stream",
     "text": [
      "WARNING:tensorflow:From /Users/huseinzolkepli/Documents/malaya-speech/malaya_speech/train/model/openseq2seq/abstract.py:143: The name tf.variable_scope is deprecated. Please use tf.compat.v1.variable_scope instead.\n",
      "\n",
      "WARNING:tensorflow:From /Users/huseinzolkepli/Documents/malaya-speech/malaya_speech/train/model/tacotron2_nvidia/encoder.py:60: The name tf.get_variable is deprecated. Please use tf.compat.v1.get_variable instead.\n",
      "\n",
      "WARNING:tensorflow:From /Users/huseinzolkepli/Documents/malaya-speech/malaya_speech/train/model/openseq2seq/layer.py:340: conv1d (from tensorflow.python.layers.convolutional) is deprecated and will be removed in a future version.\n",
      "Instructions for updating:\n",
      "Use `tf.keras.layers.Conv1D` instead.\n",
      "WARNING:tensorflow:From /Users/huseinzolkepli/Documents/tf-1.15/env/lib/python3.7/site-packages/tensorflow_core/python/layers/convolutional.py:218: Layer.apply (from tensorflow.python.keras.engine.base_layer) is deprecated and will be removed in a future version.\n",
      "Instructions for updating:\n",
      "Please use `layer.__call__` method instead.\n",
      "WARNING:tensorflow:From /Users/huseinzolkepli/Documents/malaya-speech/malaya_speech/train/model/openseq2seq/layer.py:358: batch_normalization (from tensorflow.python.layers.normalization) is deprecated and will be removed in a future version.\n",
      "Instructions for updating:\n",
      "Use keras.layers.BatchNormalization instead.  In particular, `tf.control_dependencies(tf.GraphKeys.UPDATE_OPS)` should not be used (consult the `tf.keras.layers.batch_normalization` documentation).\n",
      "WARNING:tensorflow:From /Users/huseinzolkepli/Documents/malaya-speech/malaya_speech/train/model/tacotron2_nvidia/encoder.py:129: dropout (from tensorflow.python.layers.core) is deprecated and will be removed in a future version.\n",
      "Instructions for updating:\n",
      "Use keras.layers.dropout instead.\n",
      "WARNING:tensorflow:From /Users/huseinzolkepli/Documents/malaya-speech/malaya_speech/train/model/openseq2seq/rnn.py:111: LSTMCell.__init__ (from tensorflow.python.ops.rnn_cell_impl) is deprecated and will be removed in a future version.\n",
      "Instructions for updating:\n",
      "This class is equivalent as tf.keras.layers.LSTMCell, and will be replaced by that in Tensorflow 2.0.\n",
      "WARNING:tensorflow:From /Users/huseinzolkepli/Documents/malaya-speech/malaya_speech/train/model/tacotron2_nvidia/encoder.py:205: MultiRNNCell.__init__ (from tensorflow.python.ops.rnn_cell_impl) is deprecated and will be removed in a future version.\n",
      "Instructions for updating:\n",
      "This class is equivalent as tf.keras.layers.StackedRNNCells, and will be replaced by that in Tensorflow 2.0.\n",
      "WARNING:tensorflow:From /Users/huseinzolkepli/Documents/malaya-speech/malaya_speech/train/model/tacotron2_nvidia/encoder.py:236: bidirectional_dynamic_rnn (from tensorflow.python.ops.rnn) is deprecated and will be removed in a future version.\n",
      "Instructions for updating:\n",
      "Please use `keras.layers.Bidirectional(keras.layers.RNN(cell))`, which is equivalent to this API\n",
      "WARNING:tensorflow:From /Users/huseinzolkepli/Documents/tf-1.15/env/lib/python3.7/site-packages/tensorflow_core/python/ops/rnn.py:464: dynamic_rnn (from tensorflow.python.ops.rnn) is deprecated and will be removed in a future version.\n",
      "Instructions for updating:\n",
      "Please use `keras.layers.RNN(cell)`, which is equivalent to this API\n",
      "WARNING:tensorflow:From /Users/huseinzolkepli/Documents/tf-1.15/env/lib/python3.7/site-packages/tensorflow_core/python/ops/rnn_cell_impl.py:958: Layer.add_variable (from tensorflow.python.keras.engine.base_layer) is deprecated and will be removed in a future version.\n",
      "Instructions for updating:\n",
      "Please use `layer.add_weight` method instead.\n",
      "WARNING:tensorflow:From /Users/huseinzolkepli/Documents/tf-1.15/env/lib/python3.7/site-packages/tensorflow_core/python/ops/rnn_cell_impl.py:962: calling Zeros.__init__ (from tensorflow.python.ops.init_ops) with dtype is deprecated and will be removed in a future version.\n",
      "Instructions for updating:\n",
      "Call initializer instance with the dtype argument instead of passing it to the constructor\n",
      "WARNING:tensorflow:From /Users/huseinzolkepli/Documents/tf-1.15/env/lib/python3.7/site-packages/tensorflow_core/python/ops/rnn.py:244: where (from tensorflow.python.ops.array_ops) is deprecated and will be removed in a future version.\n",
      "Instructions for updating:\n",
      "Use tf.where in 2.0, which has the same broadcast rule as np.where\n",
      "WARNING:tensorflow:From /Users/huseinzolkepli/Documents/malaya-speech/malaya_speech/train/model/tacotron2_nvidia/encoder.py:255: The name tf.add_to_collection is deprecated. Please use tf.compat.v1.add_to_collection instead.\n",
      "\n",
      "WARNING:tensorflow:From /Users/huseinzolkepli/Documents/malaya-speech/malaya_speech/train/model/tacotron2_nvidia/decoder.py:496: The name tf.layers.Dense is deprecated. Please use tf.compat.v1.layers.Dense instead.\n",
      "\n",
      "WARNING:tensorflow:From /Users/huseinzolkepli/Documents/malaya-speech/malaya_speech/train/model/tacotron2_nvidia/decoder.py:412: The name tf.get_variable_scope is deprecated. Please use tf.compat.v1.get_variable_scope instead.\n",
      "\n"
     ]
    }
   ],
   "source": [
    "model = tacotron2.Model([input_ids, input_lengths], [mel_outputs, mel_lengths], 20, prenet_enable_dropout = True)"
   ]
  },
  {
   "cell_type": "code",
   "execution_count": 6,
   "metadata": {},
   "outputs": [],
   "source": [
    "sess = tf.InteractiveSession()\n",
    "sess.run(tf.global_variables_initializer())"
   ]
  },
  {
   "cell_type": "code",
   "execution_count": 7,
   "metadata": {},
   "outputs": [
    {
     "data": {
      "text/plain": [
       "{'outputs': <tf.Tensor 'tacotron2_encoder/concat:0' shape=(?, ?, 512) dtype=float32>,\n",
       " 'src_length': <tf.Tensor 'tacotron2_encoder/floordiv_2:0' shape=(?,) dtype=int32>}"
      ]
     },
     "execution_count": 7,
     "metadata": {},
     "output_type": "execute_result"
    }
   ],
   "source": [
    "model.encoder_logits"
   ]
  },
  {
   "cell_type": "code",
   "execution_count": 8,
   "metadata": {},
   "outputs": [
    {
     "data": {
      "text/plain": [
       "{'outputs': [<tf.Tensor 'tacotron_2_decoder/decoder_1/output_proj/BiasAdd:0' shape=(?, ?, 80) dtype=float32>,\n",
       "  <tf.Tensor 'tacotron_2_decoder/add:0' shape=(?, ?, 80) dtype=float32>,\n",
       "  <tf.Tensor 'tacotron_2_decoder/transpose_1:0' shape=(?, ?, ?) dtype=float32>,\n",
       "  <tf.Tensor 'tacotron_2_decoder/Sigmoid:0' shape=(?, ?, 1) dtype=float32>,\n",
       "  <tf.Tensor 'tacotron_2_decoder/decoder/while/Exit_15:0' shape=(?,) dtype=int32>,\n",
       "  <tf.Tensor 'tacotron_2_decoder/zeros:0' shape=(?, ?, ?) dtype=float32>],\n",
       " 'stop_token_prediction': <tf.Tensor 'tacotron_2_decoder/decoder_1/stop_token_proj/BiasAdd:0' shape=(?, ?, 1) dtype=float32>}"
      ]
     },
     "execution_count": 8,
     "metadata": {},
     "output_type": "execute_result"
    }
   ],
   "source": [
    "model.decoder_logits"
   ]
  },
  {
   "cell_type": "code",
   "execution_count": 9,
   "metadata": {},
   "outputs": [
    {
     "data": {
      "text/plain": [
       "<tf.Tensor 'ExpandDims:0' shape=(1, ?, ?) dtype=float32>"
      ]
     },
     "execution_count": 9,
     "metadata": {},
     "output_type": "execute_result"
    }
   ],
   "source": [
    "guided = tacotron2.generate_guided_attention(mel_lengths[0], input_lengths[0])\n",
    "guided = tf.expand_dims(guided, 0)\n",
    "guided"
   ]
  },
  {
   "cell_type": "code",
   "execution_count": 10,
   "metadata": {},
   "outputs": [],
   "source": [
    "from malaya_speech.train.loss import calculate_2d_loss, calculate_3d_loss"
   ]
  },
  {
   "cell_type": "code",
   "execution_count": 11,
   "metadata": {},
   "outputs": [],
   "source": [
    "r = model.decoder_logits['outputs']\n",
    "decoder_output, post_mel_outputs, alignment_histories, stop_token_predictions, _, _ = r\n",
    "stop_token_predictions = stop_token_predictions[:,:,0]"
   ]
  },
  {
   "cell_type": "code",
   "execution_count": 12,
   "metadata": {},
   "outputs": [
    {
     "data": {
      "text/plain": [
       "<tf.Tensor 'tacotron_2_decoder/transpose_1:0' shape=(?, ?, ?) dtype=float32>"
      ]
     },
     "execution_count": 12,
     "metadata": {},
     "output_type": "execute_result"
    }
   ],
   "source": [
    "alignment_histories"
   ]
  },
  {
   "cell_type": "code",
   "execution_count": 13,
   "metadata": {},
   "outputs": [],
   "source": [
    "binary_crossentropy = tf.keras.losses.BinaryCrossentropy(\n",
    "    from_logits=True\n",
    ")\n",
    "mse = tf.keras.losses.MeanSquaredError()\n",
    "mae = tf.keras.losses.MeanAbsoluteError()\n",
    "mel_loss_before = calculate_3d_loss(\n",
    "    mel_outputs, decoder_output, loss_fn=mae\n",
    ")\n",
    "mel_loss_after = calculate_3d_loss(\n",
    "    mel_outputs, post_mel_outputs, loss_fn=mae\n",
    ")\n",
    "max_mel_length = tf.reduce_max(mel_lengths)\n",
    "stop_gts = tf.expand_dims(\n",
    "    tf.range(tf.reduce_max(max_mel_length), dtype=tf.int32), 0\n",
    ")\n",
    "stop_gts = tf.tile(\n",
    "    stop_gts, [tf.shape(mel_lengths)[0], 1]\n",
    ")\n",
    "stop_gts = tf.cast(\n",
    "    tf.math.greater_equal(stop_gts, tf.expand_dims(mel_lengths, 1)),\n",
    "    tf.float32,\n",
    ")\n",
    "stop_token_loss = calculate_2d_loss(\n",
    "    stop_gts, stop_token_predictions, loss_fn=binary_crossentropy\n",
    ")\n",
    "attention_masks = tf.cast(\n",
    "    tf.math.not_equal(guided, -1.0), tf.float32\n",
    ")\n",
    "loss_att = tf.reduce_sum(\n",
    "    tf.abs(alignment_histories * guided) * attention_masks,\n",
    "    axis=[1, 2],\n",
    ")\n",
    "loss_att /= tf.reduce_sum(attention_masks, axis=[1, 2])"
   ]
  },
  {
   "cell_type": "code",
   "execution_count": 14,
   "metadata": {},
   "outputs": [
    {
     "data": {
      "text/plain": [
       "<tf.Tensor 'truediv_3:0' shape=(?,) dtype=float32>"
      ]
     },
     "execution_count": 14,
     "metadata": {},
     "output_type": "execute_result"
    }
   ],
   "source": [
    "loss_att"
   ]
  },
  {
   "cell_type": "code",
   "execution_count": 15,
   "metadata": {},
   "outputs": [],
   "source": [
    "loss = stop_token_loss + mel_loss_before + mel_loss_after + loss_att"
   ]
  },
  {
   "cell_type": "code",
   "execution_count": 16,
   "metadata": {},
   "outputs": [
    {
     "data": {
      "text/plain": [
       "(<tf.Tensor 'binary_crossentropy/weighted_loss/value:0' shape=() dtype=float32>,\n",
       " <tf.Tensor 'mean_absolute_error/weighted_loss/value:0' shape=() dtype=float32>,\n",
       " <tf.Tensor 'mean_absolute_error_1/weighted_loss/value:0' shape=() dtype=float32>,\n",
       " <tf.Tensor 'truediv_3:0' shape=(?,) dtype=float32>)"
      ]
     },
     "execution_count": 16,
     "metadata": {},
     "output_type": "execute_result"
    }
   ],
   "source": [
    "stop_token_loss, mel_loss_before, mel_loss_after, loss_att"
   ]
  },
  {
   "cell_type": "code",
   "execution_count": 17,
   "metadata": {},
   "outputs": [],
   "source": [
    "# r = model.inference(input_ids, input_lengths, speaker_ids)\n",
    "# r"
   ]
  },
  {
   "cell_type": "code",
   "execution_count": 18,
   "metadata": {},
   "outputs": [
    {
     "name": "stderr",
     "output_type": "stream",
     "text": [
      "/Users/huseinzolkepli/Documents/tf-1.15/env/lib/python3.7/site-packages/tensorflow_core/python/client/session.py:1750: UserWarning: An interactive session is already active. This can cause out-of-memory errors in some cases. You must explicitly call `InteractiveSession.close()` to release resources held by the other session(s).\n",
      "  warnings.warn('An interactive session is already active. This can '\n"
     ]
    }
   ],
   "source": [
    "sess = tf.InteractiveSession()\n",
    "sess.run(tf.global_variables_initializer())"
   ]
  },
  {
   "cell_type": "code",
   "execution_count": 19,
   "metadata": {},
   "outputs": [
    {
     "data": {
      "text/plain": [
       "(1, 50, 80)"
      ]
     },
     "execution_count": 19,
     "metadata": {},
     "output_type": "execute_result"
    }
   ],
   "source": [
    "sess.run(decoder_output, feed_dict = {input_ids: [[1, 2, 3, 4, 5, 6, 7, 8, 9]],\n",
    "                        input_lengths: [9],\n",
    "                        mel_outputs: np.random.normal(size=(1, 50, 80)).astype(np.float32),\n",
    "                        mel_lengths: [50]}).shape"
   ]
  },
  {
   "cell_type": "code",
   "execution_count": 22,
   "metadata": {},
   "outputs": [
    {
     "data": {
      "text/plain": [
       "(1, 9, 50)"
      ]
     },
     "execution_count": 22,
     "metadata": {},
     "output_type": "execute_result"
    }
   ],
   "source": [
    "sess.run(alignment_histories, feed_dict = {input_ids: [[1, 2, 3, 4, 5, 6, 7, 8, 9]],\n",
    "                        input_lengths: [9],\n",
    "                        mel_outputs: np.random.normal(size=(1, 50, 80)).astype(np.float32),\n",
    "                        mel_lengths: [50]}).shape"
   ]
  },
  {
   "cell_type": "code",
   "execution_count": 20,
   "metadata": {},
   "outputs": [
    {
     "data": {
      "text/plain": [
       "[array([[[-0.11056389, -0.01395178, -0.07079266, ...,  0.12277735,\n",
       "          -0.05939506,  0.05698588],\n",
       "         [-0.10184041,  0.00180921, -0.07808331, ...,  0.11341529,\n",
       "          -0.08434345,  0.08358981],\n",
       "         [-0.08522797, -0.02484948, -0.10264946, ...,  0.10567139,\n",
       "          -0.0852253 ,  0.07835322],\n",
       "         ...,\n",
       "         [-0.10758728,  0.03597151, -0.13920192, ...,  0.2477875 ,\n",
       "          -0.07154539, -0.01984104],\n",
       "         [-0.05614534,  0.05377777, -0.12485857, ...,  0.19626516,\n",
       "          -0.08958681, -0.00965244],\n",
       "         [-0.15672868,  0.02790405, -0.11967127, ...,  0.21724033,\n",
       "          -0.11231212, -0.02683593]]], dtype=float32),\n",
       " array([[[ 0.18426813, -0.9157245 , -1.7724671 , ..., -1.1578739 ,\n",
       "          -0.05939506, -1.3220376 ],\n",
       "         [-0.08820189,  2.0987914 ,  0.19039375, ..., -2.2095077 ,\n",
       "           1.099542  , -0.69955003],\n",
       "         [-0.08522797, -0.6551209 , -0.6974947 , ...,  2.954306  ,\n",
       "           1.3578067 ,  0.7046307 ],\n",
       "         ...,\n",
       "         [-0.8531357 , -1.3820903 , -0.13920192, ...,  0.2477875 ,\n",
       "          -1.2437842 ,  0.45197242],\n",
       "         [ 2.0926294 , -1.9912063 , -0.12485857, ...,  0.19626516,\n",
       "          -0.17733704, -0.62490857],\n",
       "         [-0.8443768 ,  0.02790405, -0.11967127, ...,  0.10067434,\n",
       "          -0.48823777, -0.02811428]]], dtype=float32),\n",
       " array([[[0.07984982, 0.07889321, 0.07796265, 0.07732605, 0.07642868,\n",
       "          0.07537356, 0.07409936, 0.07316394, 0.07220102, 0.07107571,\n",
       "          0.07018495, 0.06924387, 0.06847328, 0.06791507, 0.06692831,\n",
       "          0.06612462, 0.06568957, 0.06521229, 0.06416081, 0.0631025 ,\n",
       "          0.06238666, 0.06168943, 0.06067762, 0.06020753, 0.05880914,\n",
       "          0.05791754, 0.05697109, 0.05619013, 0.05535393, 0.054735  ,\n",
       "          0.05431975, 0.0535363 , 0.05316474, 0.05255871, 0.05265009,\n",
       "          0.05121669, 0.05129644, 0.04997905, 0.04981225, 0.04886464,\n",
       "          0.04927382, 0.04877978, 0.04833155, 0.04811618, 0.0472468 ,\n",
       "          0.04792226, 0.04787497, 0.04732022, 0.0462866 , 0.04620427],\n",
       "         [0.09019278, 0.08947159, 0.08874274, 0.08839061, 0.08727092,\n",
       "          0.08680809, 0.08597089, 0.08510361, 0.08426808, 0.08386973,\n",
       "          0.08272584, 0.08150829, 0.08072627, 0.07995754, 0.07876026,\n",
       "          0.07816308, 0.07762349, 0.07667018, 0.07582781, 0.0747387 ,\n",
       "          0.0740016 , 0.07286731, 0.0722642 , 0.07141297, 0.07056974,\n",
       "          0.06948706, 0.0680881 , 0.06699054, 0.06664224, 0.06564179,\n",
       "          0.06482102, 0.06383418, 0.06332385, 0.06167413, 0.06163437,\n",
       "          0.06062881, 0.06089824, 0.05981778, 0.05926865, 0.05826635,\n",
       "          0.05855331, 0.05789025, 0.05721216, 0.05641669, 0.05588933,\n",
       "          0.05555522, 0.05444743, 0.0538833 , 0.0528626 , 0.05248467],\n",
       "         [0.08394418, 0.08405922, 0.08436476, 0.08469447, 0.08475248,\n",
       "          0.08472683, 0.08423568, 0.08371509, 0.08374177, 0.08380478,\n",
       "          0.08398234, 0.08372023, 0.08376314, 0.08388804, 0.08377863,\n",
       "          0.08400573, 0.08458777, 0.08432914, 0.08429568, 0.0838387 ,\n",
       "          0.08430658, 0.08399116, 0.08380829, 0.08333389, 0.08328477,\n",
       "          0.08297969, 0.08285969, 0.08273388, 0.08279207, 0.082684  ,\n",
       "          0.08283637, 0.08328507, 0.08327837, 0.08310682, 0.08355442,\n",
       "          0.08390131, 0.0850362 , 0.08440388, 0.08461347, 0.084283  ,\n",
       "          0.08528147, 0.08571628, 0.0852491 , 0.08505166, 0.08520054,\n",
       "          0.08571701, 0.08560465, 0.08573002, 0.08568136, 0.08599648],\n",
       "         [0.10039838, 0.10009905, 0.09973402, 0.09938703, 0.09897824,\n",
       "          0.09836389, 0.09748717, 0.0969924 , 0.09648179, 0.09582945,\n",
       "          0.09600771, 0.09538981, 0.09526467, 0.09491774, 0.09454162,\n",
       "          0.0945261 , 0.09384146, 0.09360146, 0.09265617, 0.09171765,\n",
       "          0.09139786, 0.09033374, 0.08947144, 0.08810683, 0.08777835,\n",
       "          0.08665697, 0.08642185, 0.08591972, 0.08502287, 0.08438578,\n",
       "          0.08403618, 0.08368977, 0.08253507, 0.08216405, 0.08135664,\n",
       "          0.08197071, 0.08149138, 0.08089183, 0.08015911, 0.07979061,\n",
       "          0.07963194, 0.07941544, 0.07821263, 0.07777299, 0.07657392,\n",
       "          0.07578747, 0.07492485, 0.07402206, 0.07246636, 0.07247946],\n",
       "         [0.1489697 , 0.14890562, 0.1491583 , 0.14863797, 0.14832506,\n",
       "          0.14827761, 0.14839275, 0.14887781, 0.14900544, 0.14941016,\n",
       "          0.1496884 , 0.15004897, 0.15060164, 0.14995676, 0.15050459,\n",
       "          0.15032582, 0.15037936, 0.15042499, 0.15052094, 0.1509997 ,\n",
       "          0.15128843, 0.15118824, 0.1513239 , 0.15090254, 0.15254718,\n",
       "          0.15087588, 0.1507201 , 0.15123717, 0.15067847, 0.15152831,\n",
       "          0.15200368, 0.1525101 , 0.15065676, 0.15203443, 0.14962517,\n",
       "          0.15186551, 0.15249471, 0.15356691, 0.15302174, 0.15319327,\n",
       "          0.15286022, 0.15206742, 0.15357554, 0.1539316 , 0.15169615,\n",
       "          0.15253752, 0.15099579, 0.15224169, 0.14974362, 0.15046012],\n",
       "         [0.12022976, 0.1200482 , 0.11990678, 0.11955492, 0.11938287,\n",
       "          0.11897673, 0.11882315, 0.11858433, 0.11840469, 0.11791941,\n",
       "          0.11746097, 0.11741174, 0.11721507, 0.11702866, 0.11714847,\n",
       "          0.11654678, 0.11640204, 0.11580243, 0.11574876, 0.11477692,\n",
       "          0.1146592 , 0.11417668, 0.11429576, 0.11427563, 0.11324199,\n",
       "          0.11343946, 0.11302868, 0.11389406, 0.11340924, 0.11322916,\n",
       "          0.11297175, 0.11359163, 0.1130916 , 0.11236642, 0.11264765,\n",
       "          0.11248229, 0.11253472, 0.11271492, 0.1124758 , 0.11229389,\n",
       "          0.11178592, 0.11284007, 0.11132317, 0.11167208, 0.11009128,\n",
       "          0.10947438, 0.10898504, 0.1073249 , 0.10784674, 0.10839541],\n",
       "         [0.13804004, 0.13849922, 0.13892378, 0.13922252, 0.13999371,\n",
       "          0.14034903, 0.14179498, 0.1422711 , 0.14280848, 0.14288735,\n",
       "          0.14315014, 0.1440301 , 0.14354448, 0.14473064, 0.14505665,\n",
       "          0.14552118, 0.1456559 , 0.14588997, 0.14662465, 0.14772809,\n",
       "          0.14835833, 0.14888549, 0.15012449, 0.15166183, 0.15140297,\n",
       "          0.1532065 , 0.15400448, 0.15459126, 0.15511133, 0.15642042,\n",
       "          0.15752111, 0.15879643, 0.15863603, 0.15925889, 0.15921044,\n",
       "          0.15953764, 0.15956932, 0.16060567, 0.16163057, 0.1628155 ,\n",
       "          0.16292219, 0.16331904, 0.16346134, 0.16571328, 0.16657995,\n",
       "          0.1670575 , 0.16863976, 0.17010897, 0.17187409, 0.17306618],\n",
       "         [0.11824914, 0.1188044 , 0.11900079, 0.11937302, 0.11995419,\n",
       "          0.12069422, 0.12128355, 0.12202631, 0.12266551, 0.12334993,\n",
       "          0.12364784, 0.12462119, 0.12480828, 0.12532744, 0.1257555 ,\n",
       "          0.12593123, 0.12586899, 0.12633486, 0.12678243, 0.12719017,\n",
       "          0.12674974, 0.12774728, 0.12821074, 0.12848733, 0.12860593,\n",
       "          0.12938999, 0.13008541, 0.12966642, 0.13057424, 0.13005553,\n",
       "          0.13012293, 0.12949081, 0.13077134, 0.13157545, 0.13238458,\n",
       "          0.13257577, 0.13079612, 0.13118635, 0.13120717, 0.13145377,\n",
       "          0.13074574, 0.13060138, 0.13117047, 0.13054305, 0.13171613,\n",
       "          0.13089809, 0.13098973, 0.12975274, 0.13075216, 0.12948705],\n",
       "         [0.12012631, 0.1212194 , 0.12220624, 0.12341345, 0.12491392,\n",
       "          0.12642996, 0.12791248, 0.12926537, 0.13042319, 0.1318536 ,\n",
       "          0.13315175, 0.13402575, 0.13560317, 0.13627799, 0.13752593,\n",
       "          0.13885552, 0.13995135, 0.1417347 , 0.1433828 , 0.14590758,\n",
       "          0.14685163, 0.14912067, 0.14982346, 0.15161143, 0.15375988,\n",
       "          0.15604682, 0.15782052, 0.15877682, 0.16041557, 0.16131994,\n",
       "          0.16136715, 0.16126564, 0.16454221, 0.16526113, 0.1669366 ,\n",
       "          0.16582122, 0.16588287, 0.16683361, 0.1678112 , 0.16903889,\n",
       "          0.1689454 , 0.16937032, 0.17146413, 0.17078242, 0.17500591,\n",
       "          0.17505056, 0.17753777, 0.17961611, 0.18248643, 0.18142633]]],\n",
       "       dtype=float32),\n",
       " array([[[0.54409194],\n",
       "         [0.5469246 ],\n",
       "         [0.55020344],\n",
       "         [0.54085743],\n",
       "         [0.5576403 ],\n",
       "         [0.5580397 ],\n",
       "         [0.55562145],\n",
       "         [0.5441885 ],\n",
       "         [0.54847753],\n",
       "         [0.5330439 ],\n",
       "         [0.53946555],\n",
       "         [0.5353789 ],\n",
       "         [0.54659426],\n",
       "         [0.5425051 ],\n",
       "         [0.56689686],\n",
       "         [0.5509726 ],\n",
       "         [0.55789375],\n",
       "         [0.54773724],\n",
       "         [0.5185248 ],\n",
       "         [0.5480842 ],\n",
       "         [0.55445707],\n",
       "         [0.5580454 ],\n",
       "         [0.53774416],\n",
       "         [0.5244624 ],\n",
       "         [0.51911217],\n",
       "         [0.53699034],\n",
       "         [0.512562  ],\n",
       "         [0.5309918 ],\n",
       "         [0.51733947],\n",
       "         [0.5268867 ],\n",
       "         [0.51676404],\n",
       "         [0.5173587 ],\n",
       "         [0.5193773 ],\n",
       "         [0.49641046],\n",
       "         [0.5185699 ],\n",
       "         [0.5097869 ],\n",
       "         [0.53495467],\n",
       "         [0.5265728 ],\n",
       "         [0.5415289 ],\n",
       "         [0.5350145 ],\n",
       "         [0.5486218 ],\n",
       "         [0.5371444 ],\n",
       "         [0.5166145 ],\n",
       "         [0.52341896],\n",
       "         [0.5349704 ],\n",
       "         [0.55499464],\n",
       "         [0.5577146 ],\n",
       "         [0.57258874],\n",
       "         [0.5792813 ],\n",
       "         [0.5832173 ]]], dtype=float32),\n",
       " array([50], dtype=int32),\n",
       " array([[[0.]]], dtype=float32)]"
      ]
     },
     "execution_count": 20,
     "metadata": {},
     "output_type": "execute_result"
    }
   ],
   "source": [
    "sess.run(r, feed_dict = {input_ids: [[1, 2, 3, 4, 5, 6, 7, 8, 9]],\n",
    "                        input_lengths: [9],\n",
    "                        mel_outputs: np.random.normal(size=(1, 50, 80)).astype(np.float32),\n",
    "                        mel_lengths: [50]})"
   ]
  },
  {
   "cell_type": "code",
   "execution_count": 21,
   "metadata": {},
   "outputs": [
    {
     "data": {
      "text/plain": [
       "array([3.0835664], dtype=float32)"
      ]
     },
     "execution_count": 21,
     "metadata": {},
     "output_type": "execute_result"
    }
   ],
   "source": [
    "sess.run(loss, feed_dict = {input_ids: [[1, 2, 3, 4, 5, 6, 7, 8, 9]],\n",
    "                        input_lengths: [9],\n",
    "                        mel_outputs: np.random.normal(size=(1, 50, 80)).astype(np.float32),\n",
    "                        mel_lengths: [50]})"
   ]
  },
  {
   "cell_type": "code",
   "execution_count": 22,
   "metadata": {},
   "outputs": [
    {
     "data": {
      "text/plain": [
       "array([3.0590334, 3.0598354], dtype=float32)"
      ]
     },
     "execution_count": 22,
     "metadata": {},
     "output_type": "execute_result"
    }
   ],
   "source": [
    "sess.run(loss, feed_dict = {input_ids: [[1, 2, 3, 4, 5, 6, 7, 8, 9],\n",
    "                                       [1, 2, 3, 4, 5, 6, 7, 8, 9]],\n",
    "                        input_lengths: [9, 9],\n",
    "                        mel_outputs: np.random.normal(size=(2, 50, 80)).astype(np.float32),\n",
    "                        mel_lengths: [50, 50]})"
   ]
  },
  {
   "cell_type": "code",
   "execution_count": 23,
   "metadata": {
    "scrolled": true
   },
   "outputs": [
    {
     "data": {
      "text/plain": [
       "(1, 9, 50)"
      ]
     },
     "execution_count": 23,
     "metadata": {},
     "output_type": "execute_result"
    }
   ],
   "source": [
    "sess.run(guided, feed_dict = {input_ids: [[1, 2, 3, 4, 5, 6, 7, 8, 9]],\n",
    "                        input_lengths: [9],\n",
    "                        mel_outputs: np.random.normal(size=(1, 50, 80)).astype(np.float32),\n",
    "                        mel_lengths: [50]}).shape"
   ]
  },
  {
   "cell_type": "code",
   "execution_count": 24,
   "metadata": {},
   "outputs": [
    {
     "data": {
      "text/plain": [
       "[<tf.Variable 'tacotron2_encoder/EncoderEmbeddingMatrix:0' shape=(20, 512) dtype=float32_ref>,\n",
       " <tf.Variable 'tacotron2_encoder/conv1/kernel:0' shape=(5, 512, 512) dtype=float32_ref>,\n",
       " <tf.Variable 'tacotron2_encoder/conv1/bn/gamma:0' shape=(512,) dtype=float32_ref>,\n",
       " <tf.Variable 'tacotron2_encoder/conv1/bn/beta:0' shape=(512,) dtype=float32_ref>,\n",
       " <tf.Variable 'tacotron2_encoder/conv2/kernel:0' shape=(5, 512, 512) dtype=float32_ref>,\n",
       " <tf.Variable 'tacotron2_encoder/conv2/bn/gamma:0' shape=(512,) dtype=float32_ref>,\n",
       " <tf.Variable 'tacotron2_encoder/conv2/bn/beta:0' shape=(512,) dtype=float32_ref>,\n",
       " <tf.Variable 'tacotron2_encoder/conv3/kernel:0' shape=(5, 512, 512) dtype=float32_ref>,\n",
       " <tf.Variable 'tacotron2_encoder/conv3/bn/gamma:0' shape=(512,) dtype=float32_ref>,\n",
       " <tf.Variable 'tacotron2_encoder/conv3/bn/beta:0' shape=(512,) dtype=float32_ref>,\n",
       " <tf.Variable 'tacotron2_encoder/bidirectional_rnn/fw/multi_rnn_cell/cell_0/lstm_cell/kernel:0' shape=(768, 1024) dtype=float32_ref>,\n",
       " <tf.Variable 'tacotron2_encoder/bidirectional_rnn/fw/multi_rnn_cell/cell_0/lstm_cell/bias:0' shape=(1024,) dtype=float32_ref>,\n",
       " <tf.Variable 'tacotron2_encoder/bidirectional_rnn/bw/multi_rnn_cell/cell_0/lstm_cell/kernel:0' shape=(768, 1024) dtype=float32_ref>,\n",
       " <tf.Variable 'tacotron2_encoder/bidirectional_rnn/bw/multi_rnn_cell/cell_0/lstm_cell/bias:0' shape=(1024,) dtype=float32_ref>,\n",
       " <tf.Variable 'tacotron_2_decoder/AttentionMechanism/memory_layer/kernel:0' shape=(1, 512, 128) dtype=float32_ref>,\n",
       " <tf.Variable 'tacotron_2_decoder/decoder/prenet_1/kernel:0' shape=(80, 256) dtype=float32_ref>,\n",
       " <tf.Variable 'tacotron_2_decoder/decoder/prenet_1/bias:0' shape=(256,) dtype=float32_ref>,\n",
       " <tf.Variable 'tacotron_2_decoder/decoder/prenet_2/kernel:0' shape=(256, 256) dtype=float32_ref>,\n",
       " <tf.Variable 'tacotron_2_decoder/decoder/prenet_2/bias:0' shape=(256,) dtype=float32_ref>,\n",
       " <tf.Variable 'tacotron_2_decoder/decoder/attention_wrapper/multi_rnn_cell/cell_0/lstm_cell/kernel:0' shape=(1792, 4096) dtype=float32_ref>,\n",
       " <tf.Variable 'tacotron_2_decoder/decoder/attention_wrapper/multi_rnn_cell/cell_0/lstm_cell/bias:0' shape=(4096,) dtype=float32_ref>,\n",
       " <tf.Variable 'tacotron_2_decoder/decoder/attention_wrapper/multi_rnn_cell/cell_1/lstm_cell/kernel:0' shape=(2048, 4096) dtype=float32_ref>,\n",
       " <tf.Variable 'tacotron_2_decoder/decoder/attention_wrapper/multi_rnn_cell/cell_1/lstm_cell/bias:0' shape=(4096,) dtype=float32_ref>,\n",
       " <tf.Variable 'tacotron_2_decoder/decoder/attention_wrapper/location_attention/query_layer/kernel:0' shape=(1024, 128) dtype=float32_ref>,\n",
       " <tf.Variable 'tacotron_2_decoder/decoder/attention_wrapper/location_attention/location_conv/kernel:0' shape=(32, 1, 32) dtype=float32_ref>,\n",
       " <tf.Variable 'tacotron_2_decoder/decoder/attention_wrapper/location_attention/location_conv/bias:0' shape=(32,) dtype=float32_ref>,\n",
       " <tf.Variable 'tacotron_2_decoder/decoder/attention_wrapper/location_attention/location_dense/kernel:0' shape=(1, 32, 128) dtype=float32_ref>,\n",
       " <tf.Variable 'tacotron_2_decoder/decoder/attention_wrapper/location_attention/attention_v:0' shape=(128,) dtype=float32_ref>,\n",
       " <tf.Variable 'tacotron_2_decoder/decoder/attention_wrapper/location_attention/attention_bias:0' shape=(128,) dtype=float32_ref>,\n",
       " <tf.Variable 'tacotron_2_decoder/decoder/output_proj/kernel:0' shape=(1536, 80) dtype=float32_ref>,\n",
       " <tf.Variable 'tacotron_2_decoder/decoder/output_proj/bias:0' shape=(80,) dtype=float32_ref>,\n",
       " <tf.Variable 'tacotron_2_decoder/decoder/stop_token_proj/kernel:0' shape=(80, 1) dtype=float32_ref>,\n",
       " <tf.Variable 'tacotron_2_decoder/decoder/stop_token_proj/bias:0' shape=(1,) dtype=float32_ref>,\n",
       " <tf.Variable 'tacotron_2_decoder/conv1/kernel:0' shape=(5, 80, 512) dtype=float32_ref>,\n",
       " <tf.Variable 'tacotron_2_decoder/conv1/bn/gamma:0' shape=(512,) dtype=float32_ref>,\n",
       " <tf.Variable 'tacotron_2_decoder/conv1/bn/beta:0' shape=(512,) dtype=float32_ref>,\n",
       " <tf.Variable 'tacotron_2_decoder/conv2/kernel:0' shape=(5, 512, 512) dtype=float32_ref>,\n",
       " <tf.Variable 'tacotron_2_decoder/conv2/bn/gamma:0' shape=(512,) dtype=float32_ref>,\n",
       " <tf.Variable 'tacotron_2_decoder/conv2/bn/beta:0' shape=(512,) dtype=float32_ref>,\n",
       " <tf.Variable 'tacotron_2_decoder/conv3/kernel:0' shape=(5, 512, 512) dtype=float32_ref>,\n",
       " <tf.Variable 'tacotron_2_decoder/conv3/bn/gamma:0' shape=(512,) dtype=float32_ref>,\n",
       " <tf.Variable 'tacotron_2_decoder/conv3/bn/beta:0' shape=(512,) dtype=float32_ref>,\n",
       " <tf.Variable 'tacotron_2_decoder/conv4/kernel:0' shape=(5, 512, 512) dtype=float32_ref>,\n",
       " <tf.Variable 'tacotron_2_decoder/conv4/bn/gamma:0' shape=(512,) dtype=float32_ref>,\n",
       " <tf.Variable 'tacotron_2_decoder/conv4/bn/beta:0' shape=(512,) dtype=float32_ref>,\n",
       " <tf.Variable 'tacotron_2_decoder/conv5/kernel:0' shape=(5, 512, 80) dtype=float32_ref>,\n",
       " <tf.Variable 'tacotron_2_decoder/conv5/bn/gamma:0' shape=(80,) dtype=float32_ref>,\n",
       " <tf.Variable 'tacotron_2_decoder/conv5/bn/beta:0' shape=(80,) dtype=float32_ref>]"
      ]
     },
     "execution_count": 24,
     "metadata": {},
     "output_type": "execute_result"
    }
   ],
   "source": [
    "tf.trainable_variables()"
   ]
  },
  {
   "cell_type": "code",
   "execution_count": null,
   "metadata": {},
   "outputs": [],
   "source": []
  }
 ],
 "metadata": {
  "kernelspec": {
   "display_name": "Python 3",
   "language": "python",
   "name": "python3"
  },
  "language_info": {
   "codemirror_mode": {
    "name": "ipython",
    "version": 3
   },
   "file_extension": ".py",
   "mimetype": "text/x-python",
   "name": "python",
   "nbconvert_exporter": "python",
   "pygments_lexer": "ipython3",
   "version": "3.7.7"
  }
 },
 "nbformat": 4,
 "nbformat_minor": 4
}

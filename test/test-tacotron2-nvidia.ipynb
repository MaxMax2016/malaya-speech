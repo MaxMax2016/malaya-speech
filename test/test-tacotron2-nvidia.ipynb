{
 "cells": [
  {
   "cell_type": "code",
   "execution_count": 1,
   "metadata": {},
   "outputs": [],
   "source": [
    "import os\n",
    "\n",
    "os.environ['CUDA_VISIBLE_DEVICES'] = '1'"
   ]
  },
  {
   "cell_type": "code",
   "execution_count": 2,
   "metadata": {},
   "outputs": [],
   "source": [
    "import sys\n",
    "\n",
    "SOURCE_DIR = os.path.dirname(os.path.dirname(os.path.abspath(__name__)))\n",
    "sys.path.insert(0, SOURCE_DIR)"
   ]
  },
  {
   "cell_type": "code",
   "execution_count": 3,
   "metadata": {
    "scrolled": true
   },
   "outputs": [
    {
     "name": "stdout",
     "output_type": "stream",
     "text": [
      "WARNING:tensorflow:From /Users/huseinzolkepli/Documents/malaya-speech/malaya_speech/train/optimizer/__init__.py:38: The name tf.train.AdagradOptimizer is deprecated. Please use tf.compat.v1.train.AdagradOptimizer instead.\n",
      "\n",
      "WARNING:tensorflow:From /Users/huseinzolkepli/Documents/malaya-speech/malaya_speech/train/optimizer/__init__.py:39: The name tf.train.AdamOptimizer is deprecated. Please use tf.compat.v1.train.AdamOptimizer instead.\n",
      "\n",
      "WARNING:tensorflow:From /Users/huseinzolkepli/Documents/malaya-speech/malaya_speech/train/optimizer/__init__.py:40: The name tf.train.FtrlOptimizer is deprecated. Please use tf.compat.v1.train.FtrlOptimizer instead.\n",
      "\n",
      "WARNING:tensorflow:From /Users/huseinzolkepli/Documents/malaya-speech/malaya_speech/train/optimizer/__init__.py:42: The name tf.train.RMSPropOptimizer is deprecated. Please use tf.compat.v1.train.RMSPropOptimizer instead.\n",
      "\n",
      "WARNING:tensorflow:From /Users/huseinzolkepli/Documents/malaya-speech/malaya_speech/train/optimizer/__init__.py:43: The name tf.train.GradientDescentOptimizer is deprecated. Please use tf.compat.v1.train.GradientDescentOptimizer instead.\n",
      "\n",
      "WARNING:tensorflow:\n",
      "The TensorFlow contrib module will not be included in TensorFlow 2.0.\n",
      "For more information, please see:\n",
      "  * https://github.com/tensorflow/community/blob/master/rfcs/20180907-contrib-sunset.md\n",
      "  * https://github.com/tensorflow/addons\n",
      "  * https://github.com/tensorflow/io (for I/O related ops)\n",
      "If you depend on functionality not listed there, please file an issue.\n",
      "\n",
      "WARNING:tensorflow:From /Users/huseinzolkepli/Documents/malaya-speech/malaya_speech/train/model/openseq2seq/layer.py:6: The name tf.layers.Conv1D is deprecated. Please use tf.compat.v1.layers.Conv1D instead.\n",
      "\n",
      "WARNING:tensorflow:From /Users/huseinzolkepli/Documents/malaya-speech/malaya_speech/train/model/openseq2seq/attention.py:4: The name tf.layers.Layer is deprecated. Please use tf.compat.v1.layers.Layer instead.\n",
      "\n"
     ]
    }
   ],
   "source": [
    "import tensorflow as tf\n",
    "import malaya_speech\n",
    "import malaya_speech.train\n",
    "from malaya_speech.train.model import tacotron2_nvidia as tacotron2\n",
    "import numpy as np"
   ]
  },
  {
   "cell_type": "code",
   "execution_count": 4,
   "metadata": {},
   "outputs": [],
   "source": [
    "input_ids = tf.placeholder(tf.int32, [None, None])\n",
    "input_lengths = tf.placeholder(tf.int32, [None])\n",
    "mel_outputs = tf.placeholder(tf.float32, [None, None, 80])\n",
    "mel_lengths = tf.placeholder(tf.int32, [None])"
   ]
  },
  {
   "cell_type": "code",
   "execution_count": 5,
   "metadata": {
    "scrolled": false
   },
   "outputs": [
    {
     "name": "stdout",
     "output_type": "stream",
     "text": [
      "WARNING:tensorflow:From /Users/huseinzolkepli/Documents/malaya-speech/malaya_speech/train/model/openseq2seq/abstract.py:147: The name tf.variable_scope is deprecated. Please use tf.compat.v1.variable_scope instead.\n",
      "\n",
      "WARNING:tensorflow:From /Users/huseinzolkepli/Documents/malaya-speech/malaya_speech/train/model/tacotron2_nvidia/encoder.py:60: The name tf.get_variable is deprecated. Please use tf.compat.v1.get_variable instead.\n",
      "\n",
      "WARNING:tensorflow:From /Users/huseinzolkepli/Documents/malaya-speech/malaya_speech/train/model/openseq2seq/layer.py:340: conv1d (from tensorflow.python.layers.convolutional) is deprecated and will be removed in a future version.\n",
      "Instructions for updating:\n",
      "Use `tf.keras.layers.Conv1D` instead.\n",
      "WARNING:tensorflow:From /Library/Frameworks/Python.framework/Versions/3.7/lib/python3.7/site-packages/tensorflow_core/python/layers/convolutional.py:218: Layer.apply (from tensorflow.python.keras.engine.base_layer) is deprecated and will be removed in a future version.\n",
      "Instructions for updating:\n",
      "Please use `layer.__call__` method instead.\n",
      "WARNING:tensorflow:From /Users/huseinzolkepli/Documents/malaya-speech/malaya_speech/train/model/openseq2seq/layer.py:358: batch_normalization (from tensorflow.python.layers.normalization) is deprecated and will be removed in a future version.\n",
      "Instructions for updating:\n",
      "Use keras.layers.BatchNormalization instead.  In particular, `tf.control_dependencies(tf.GraphKeys.UPDATE_OPS)` should not be used (consult the `tf.keras.layers.batch_normalization` documentation).\n",
      "WARNING:tensorflow:From /Users/huseinzolkepli/Documents/malaya-speech/malaya_speech/train/model/tacotron2_nvidia/encoder.py:129: dropout (from tensorflow.python.layers.core) is deprecated and will be removed in a future version.\n",
      "Instructions for updating:\n",
      "Use keras.layers.dropout instead.\n",
      "WARNING:tensorflow:From /Users/huseinzolkepli/Documents/malaya-speech/malaya_speech/train/model/openseq2seq/rnn.py:111: LSTMCell.__init__ (from tensorflow.python.ops.rnn_cell_impl) is deprecated and will be removed in a future version.\n",
      "Instructions for updating:\n",
      "This class is equivalent as tf.keras.layers.LSTMCell, and will be replaced by that in Tensorflow 2.0.\n",
      "WARNING:tensorflow:From /Users/huseinzolkepli/Documents/malaya-speech/malaya_speech/train/model/tacotron2_nvidia/encoder.py:205: MultiRNNCell.__init__ (from tensorflow.python.ops.rnn_cell_impl) is deprecated and will be removed in a future version.\n",
      "Instructions for updating:\n",
      "This class is equivalent as tf.keras.layers.StackedRNNCells, and will be replaced by that in Tensorflow 2.0.\n",
      "WARNING:tensorflow:From /Users/huseinzolkepli/Documents/malaya-speech/malaya_speech/train/model/tacotron2_nvidia/encoder.py:236: bidirectional_dynamic_rnn (from tensorflow.python.ops.rnn) is deprecated and will be removed in a future version.\n",
      "Instructions for updating:\n",
      "Please use `keras.layers.Bidirectional(keras.layers.RNN(cell))`, which is equivalent to this API\n",
      "WARNING:tensorflow:From /Library/Frameworks/Python.framework/Versions/3.7/lib/python3.7/site-packages/tensorflow_core/python/ops/rnn.py:464: dynamic_rnn (from tensorflow.python.ops.rnn) is deprecated and will be removed in a future version.\n",
      "Instructions for updating:\n",
      "Please use `keras.layers.RNN(cell)`, which is equivalent to this API\n",
      "WARNING:tensorflow:From /Library/Frameworks/Python.framework/Versions/3.7/lib/python3.7/site-packages/tensorflow_core/python/ops/rnn_cell_impl.py:958: Layer.add_variable (from tensorflow.python.keras.engine.base_layer) is deprecated and will be removed in a future version.\n",
      "Instructions for updating:\n",
      "Please use `layer.add_weight` method instead.\n",
      "WARNING:tensorflow:From /Library/Frameworks/Python.framework/Versions/3.7/lib/python3.7/site-packages/tensorflow_core/python/ops/rnn_cell_impl.py:962: calling Zeros.__init__ (from tensorflow.python.ops.init_ops) with dtype is deprecated and will be removed in a future version.\n",
      "Instructions for updating:\n",
      "Call initializer instance with the dtype argument instead of passing it to the constructor\n",
      "WARNING:tensorflow:From /Library/Frameworks/Python.framework/Versions/3.7/lib/python3.7/site-packages/tensorflow_core/python/ops/rnn.py:244: where (from tensorflow.python.ops.array_ops) is deprecated and will be removed in a future version.\n",
      "Instructions for updating:\n",
      "Use tf.where in 2.0, which has the same broadcast rule as np.where\n",
      "WARNING:tensorflow:From /Users/huseinzolkepli/Documents/malaya-speech/malaya_speech/train/model/tacotron2_nvidia/encoder.py:255: The name tf.add_to_collection is deprecated. Please use tf.compat.v1.add_to_collection instead.\n",
      "\n",
      "WARNING:tensorflow:From /Users/huseinzolkepli/Documents/malaya-speech/malaya_speech/train/model/tacotron2_nvidia/decoder.py:476: The name tf.layers.Dense is deprecated. Please use tf.compat.v1.layers.Dense instead.\n",
      "\n",
      "WARNING:tensorflow:From /Users/huseinzolkepli/Documents/malaya-speech/malaya_speech/train/model/tacotron2_nvidia/decoder.py:392: The name tf.get_variable_scope is deprecated. Please use tf.compat.v1.get_variable_scope instead.\n",
      "\n"
     ]
    }
   ],
   "source": [
    "model = tacotron2.Model([input_ids, input_lengths], [mel_outputs, mel_lengths], 20)"
   ]
  },
  {
   "cell_type": "code",
   "execution_count": 6,
   "metadata": {},
   "outputs": [],
   "source": [
    "sess = tf.InteractiveSession()\n",
    "sess.run(tf.global_variables_initializer())"
   ]
  },
  {
   "cell_type": "code",
   "execution_count": 7,
   "metadata": {},
   "outputs": [
    {
     "data": {
      "text/plain": [
       "{'outputs': <tf.Tensor 'tacotron2_encoder/concat:0' shape=(?, ?, 512) dtype=float32>,\n",
       " 'src_length': <tf.Tensor 'tacotron2_encoder/floordiv_2:0' shape=(?,) dtype=int32>}"
      ]
     },
     "execution_count": 7,
     "metadata": {},
     "output_type": "execute_result"
    }
   ],
   "source": [
    "model.encoder_logits"
   ]
  },
  {
   "cell_type": "code",
   "execution_count": 8,
   "metadata": {},
   "outputs": [
    {
     "data": {
      "text/plain": [
       "{'outputs': [<tf.Tensor 'tacotron_2_decoder/decoder_1/output_proj/BiasAdd:0' shape=(?, ?, 80) dtype=float32>,\n",
       "  <tf.Tensor 'tacotron_2_decoder/add:0' shape=(?, ?, 80) dtype=float32>,\n",
       "  <tf.Tensor 'tacotron_2_decoder/transpose_1:0' shape=(?, ?, ?) dtype=float32>,\n",
       "  <tf.Tensor 'tacotron_2_decoder/Sigmoid:0' shape=(?, ?, 1) dtype=float32>,\n",
       "  <tf.Tensor 'tacotron_2_decoder/decoder/while/Exit_15:0' shape=(?,) dtype=int32>,\n",
       "  <tf.Tensor 'tacotron_2_decoder/zeros:0' shape=(?, ?, ?) dtype=float32>],\n",
       " 'stop_token_prediction': <tf.Tensor 'tacotron_2_decoder/decoder_1/stop_token_proj/BiasAdd:0' shape=(?, ?, 1) dtype=float32>}"
      ]
     },
     "execution_count": 8,
     "metadata": {},
     "output_type": "execute_result"
    }
   ],
   "source": [
    "model.decoder_logits"
   ]
  },
  {
   "cell_type": "code",
   "execution_count": 9,
   "metadata": {},
   "outputs": [
    {
     "data": {
      "text/plain": [
       "<tf.Tensor 'ExpandDims:0' shape=(1, ?, ?) dtype=float32>"
      ]
     },
     "execution_count": 9,
     "metadata": {},
     "output_type": "execute_result"
    }
   ],
   "source": [
    "guided = tacotron2.generate_guided_attention(mel_lengths[0], input_lengths[0])\n",
    "guided = tf.expand_dims(guided, 0)\n",
    "guided"
   ]
  },
  {
   "cell_type": "code",
   "execution_count": 10,
   "metadata": {},
   "outputs": [],
   "source": [
    "from malaya_speech.train.loss import calculate_2d_loss, calculate_3d_loss"
   ]
  },
  {
   "cell_type": "code",
   "execution_count": 11,
   "metadata": {},
   "outputs": [],
   "source": [
    "r = model.decoder_logits['outputs']\n",
    "decoder_output, post_mel_outputs, alignment_histories, stop_token_predictions, _, _ = r\n",
    "stop_token_predictions = stop_token_predictions[:,:,0]"
   ]
  },
  {
   "cell_type": "code",
   "execution_count": 12,
   "metadata": {},
   "outputs": [],
   "source": [
    "binary_crossentropy = tf.keras.losses.BinaryCrossentropy(\n",
    "    from_logits=True\n",
    ")\n",
    "mse = tf.keras.losses.MeanSquaredError()\n",
    "mae = tf.keras.losses.MeanAbsoluteError()\n",
    "mel_loss_before = calculate_3d_loss(\n",
    "    mel_outputs, decoder_output, loss_fn=mae\n",
    ")\n",
    "mel_loss_after = calculate_3d_loss(\n",
    "    mel_outputs, post_mel_outputs, loss_fn=mae\n",
    ")\n",
    "max_mel_length = tf.reduce_max(mel_lengths)\n",
    "stop_gts = tf.expand_dims(\n",
    "    tf.range(tf.reduce_max(max_mel_length), dtype=tf.int32), 0\n",
    ")\n",
    "stop_gts = tf.tile(\n",
    "    stop_gts, [tf.shape(mel_lengths)[0], 1]\n",
    ")\n",
    "stop_gts = tf.cast(\n",
    "    tf.math.greater_equal(stop_gts, tf.expand_dims(mel_lengths, 1)),\n",
    "    tf.float32,\n",
    ")\n",
    "stop_token_loss = calculate_2d_loss(\n",
    "    stop_gts, stop_token_predictions, loss_fn=binary_crossentropy\n",
    ")\n",
    "attention_masks = tf.cast(\n",
    "    tf.math.not_equal(guided, -1.0), tf.float32\n",
    ")\n",
    "loss_att = tf.reduce_sum(\n",
    "    tf.abs(alignment_histories * guided) * attention_masks,\n",
    "    axis=[1, 2],\n",
    ")\n",
    "loss_att /= tf.reduce_sum(attention_masks, axis=[1, 2])"
   ]
  },
  {
   "cell_type": "code",
   "execution_count": 13,
   "metadata": {},
   "outputs": [
    {
     "data": {
      "text/plain": [
       "<tf.Tensor 'truediv_3:0' shape=(?,) dtype=float32>"
      ]
     },
     "execution_count": 13,
     "metadata": {},
     "output_type": "execute_result"
    }
   ],
   "source": [
    "loss_att"
   ]
  },
  {
   "cell_type": "code",
   "execution_count": 14,
   "metadata": {},
   "outputs": [],
   "source": [
    "loss = stop_token_loss + mel_loss_before + mel_loss_after + loss_att"
   ]
  },
  {
   "cell_type": "code",
   "execution_count": 15,
   "metadata": {},
   "outputs": [
    {
     "data": {
      "text/plain": [
       "(<tf.Tensor 'binary_crossentropy/weighted_loss/value:0' shape=() dtype=float32>,\n",
       " <tf.Tensor 'mean_absolute_error/weighted_loss/value:0' shape=() dtype=float32>,\n",
       " <tf.Tensor 'mean_absolute_error_1/weighted_loss/value:0' shape=() dtype=float32>,\n",
       " <tf.Tensor 'truediv_3:0' shape=(?,) dtype=float32>)"
      ]
     },
     "execution_count": 15,
     "metadata": {},
     "output_type": "execute_result"
    }
   ],
   "source": [
    "stop_token_loss, mel_loss_before, mel_loss_after, loss_att"
   ]
  },
  {
   "cell_type": "code",
   "execution_count": 16,
   "metadata": {},
   "outputs": [],
   "source": [
    "# r = model.inference(input_ids, input_lengths, speaker_ids)\n",
    "# r"
   ]
  },
  {
   "cell_type": "code",
   "execution_count": 17,
   "metadata": {},
   "outputs": [
    {
     "name": "stderr",
     "output_type": "stream",
     "text": [
      "/Library/Frameworks/Python.framework/Versions/3.7/lib/python3.7/site-packages/tensorflow_core/python/client/session.py:1750: UserWarning: An interactive session is already active. This can cause out-of-memory errors in some cases. You must explicitly call `InteractiveSession.close()` to release resources held by the other session(s).\n",
      "  warnings.warn('An interactive session is already active. This can '\n"
     ]
    }
   ],
   "source": [
    "sess = tf.InteractiveSession()\n",
    "sess.run(tf.global_variables_initializer())"
   ]
  },
  {
   "cell_type": "code",
   "execution_count": 18,
   "metadata": {},
   "outputs": [
    {
     "data": {
      "text/plain": [
       "(1, 50, 80)"
      ]
     },
     "execution_count": 18,
     "metadata": {},
     "output_type": "execute_result"
    }
   ],
   "source": [
    "sess.run(decoder_output, feed_dict = {input_ids: [[1, 2, 3, 4, 5, 6, 7, 8, 9]],\n",
    "                        input_lengths: [9],\n",
    "                        mel_outputs: np.random.normal(size=(1, 50, 80)).astype(np.float32),\n",
    "                        mel_lengths: [50]}).shape"
   ]
  },
  {
   "cell_type": "code",
   "execution_count": 19,
   "metadata": {},
   "outputs": [
    {
     "data": {
      "text/plain": [
       "(1, 9, 50)"
      ]
     },
     "execution_count": 19,
     "metadata": {},
     "output_type": "execute_result"
    }
   ],
   "source": [
    "sess.run(alignment_histories, feed_dict = {input_ids: [[1, 2, 3, 4, 5, 6, 7, 8, 9]],\n",
    "                        input_lengths: [9],\n",
    "                        mel_outputs: np.random.normal(size=(1, 50, 80)).astype(np.float32),\n",
    "                        mel_lengths: [50]}).shape"
   ]
  },
  {
   "cell_type": "code",
   "execution_count": 20,
   "metadata": {},
   "outputs": [
    {
     "data": {
      "text/plain": [
       "[array([[[-0.06401999,  0.16004182,  0.03906484, ..., -0.0847299 ,\n",
       "          -0.0323018 ,  0.03632274],\n",
       "         [-0.07678434,  0.17170146,  0.03312938, ..., -0.07992783,\n",
       "          -0.03332993,  0.04010529],\n",
       "         [-0.06045062,  0.17646556,  0.02561941, ..., -0.07892969,\n",
       "          -0.03290676,  0.03136905],\n",
       "         ...,\n",
       "         [ 0.05481917,  0.2547535 , -0.09314083, ..., -0.11744381,\n",
       "          -0.10208081,  0.02661789],\n",
       "         [ 0.08120257,  0.3160286 , -0.08051239, ..., -0.06366213,\n",
       "          -0.12674506,  0.0550726 ],\n",
       "         [ 0.01548317,  0.27617195, -0.06401602, ..., -0.10281938,\n",
       "          -0.06140826,  0.02368164]]], dtype=float32),\n",
       " array([[[ 0.01014346, -0.60972655,  0.03906484, ...,  0.4540785 ,\n",
       "          -0.19983894,  0.90740466],\n",
       "         [ 0.47717723,  0.17170146, -0.08910578, ...,  0.48671207,\n",
       "           3.0740936 ,  0.06029265],\n",
       "         [-1.4115223 ,  0.17646556,  0.02561941, ..., -0.4728187 ,\n",
       "          -0.03290676,  0.03136905],\n",
       "         ...,\n",
       "         [ 0.47131506, -0.8987094 , -0.6713018 , ..., -0.09715399,\n",
       "           0.92020166,  1.2561994 ],\n",
       "         [-0.68496585,  0.3160286 , -0.6352552 , ..., -0.18660647,\n",
       "          -0.87781936, -1.4112655 ],\n",
       "         [ 0.63644785,  0.27617195, -0.06401602, ...,  1.3365703 ,\n",
       "           0.00930926, -0.4074571 ]]], dtype=float32),\n",
       " array([[[0.13522467, 0.13434824, 0.13365918, 0.13272981, 0.13167255,\n",
       "          0.13062476, 0.13009375, 0.12907723, 0.12842739, 0.12737036,\n",
       "          0.12599005, 0.12481563, 0.12412465, 0.12305   , 0.1221977 ,\n",
       "          0.12152249, 0.12044778, 0.11939276, 0.11836901, 0.11868384,\n",
       "          0.11645865, 0.11520388, 0.11490428, 0.11406762, 0.11288519,\n",
       "          0.11216181, 0.11067913, 0.11015368, 0.10883696, 0.1083129 ,\n",
       "          0.10698051, 0.1067494 , 0.10590719, 0.10483956, 0.10377472,\n",
       "          0.1025721 , 0.10205629, 0.10186738, 0.10010797, 0.0994168 ,\n",
       "          0.09836315, 0.09819138, 0.09708288, 0.09648061, 0.09492538,\n",
       "          0.09415967, 0.09390626, 0.09366563, 0.09240623, 0.09200206],\n",
       "         [0.12959209, 0.12885432, 0.12830205, 0.1274701 , 0.12681599,\n",
       "          0.12603366, 0.12586293, 0.12509005, 0.12440377, 0.12386575,\n",
       "          0.12249993, 0.12192444, 0.1220281 , 0.12134377, 0.12064581,\n",
       "          0.12051917, 0.11951835, 0.1191949 , 0.11802469, 0.11762265,\n",
       "          0.11724614, 0.11594348, 0.1159652 , 0.11527139, 0.11445418,\n",
       "          0.11366458, 0.11285082, 0.11267415, 0.11159283, 0.11194672,\n",
       "          0.11064779, 0.10996854, 0.10956957, 0.10901614, 0.10870093,\n",
       "          0.10791043, 0.10742952, 0.10703406, 0.10550726, 0.10544272,\n",
       "          0.10526427, 0.10479795, 0.1034801 , 0.10277656, 0.10190099,\n",
       "          0.10132051, 0.10168429, 0.10091012, 0.09977933, 0.09961936],\n",
       "         [0.11012468, 0.10987438, 0.10957423, 0.10919913, 0.1087406 ,\n",
       "          0.10841592, 0.10798423, 0.10755892, 0.10738254, 0.10690061,\n",
       "          0.10654642, 0.10624679, 0.10603256, 0.10546972, 0.10511179,\n",
       "          0.10446371, 0.1043207 , 0.10344556, 0.10358901, 0.10316651,\n",
       "          0.10265888, 0.10163177, 0.10166828, 0.10125128, 0.10038882,\n",
       "          0.10047572, 0.09951653, 0.09924213, 0.09851994, 0.0983157 ,\n",
       "          0.09775913, 0.09763148, 0.09661814, 0.09666749, 0.09574012,\n",
       "          0.09582196, 0.09521537, 0.09500027, 0.09351378, 0.09299752,\n",
       "          0.09314528, 0.09179715, 0.09187777, 0.09092088, 0.09076674,\n",
       "          0.0901889 , 0.09052604, 0.08916296, 0.08842164, 0.08882069],\n",
       "         [0.09432725, 0.09348304, 0.09268957, 0.09207232, 0.0914064 ,\n",
       "          0.09088617, 0.08972059, 0.08912603, 0.08847897, 0.08749152,\n",
       "          0.08698288, 0.08607843, 0.08554386, 0.08504532, 0.08411026,\n",
       "          0.08330709, 0.08281618, 0.08210286, 0.08149081, 0.08065143,\n",
       "          0.08002826, 0.07943014, 0.07856017, 0.07781091, 0.07712367,\n",
       "          0.07653818, 0.07588592, 0.07533734, 0.07471012, 0.07453926,\n",
       "          0.0739648 , 0.07398859, 0.07252708, 0.0725488 , 0.07205453,\n",
       "          0.07138443, 0.07041542, 0.0699534 , 0.06910595, 0.06865975,\n",
       "          0.06804257, 0.0673627 , 0.06744988, 0.0665933 , 0.06665841,\n",
       "          0.06572469, 0.06566036, 0.06511272, 0.0642529 , 0.06465511],\n",
       "         [0.10476097, 0.10458845, 0.10430351, 0.10419495, 0.10432185,\n",
       "          0.10397375, 0.10369833, 0.10365115, 0.10295771, 0.10312938,\n",
       "          0.10300002, 0.10287216, 0.10206859, 0.10174813, 0.10109252,\n",
       "          0.1011811 , 0.10117061, 0.10104742, 0.10046028, 0.10012069,\n",
       "          0.10035935, 0.10045057, 0.09969655, 0.09953968, 0.0995109 ,\n",
       "          0.09914136, 0.09874287, 0.09869091, 0.09837618, 0.09813669,\n",
       "          0.09821658, 0.09800534, 0.0979527 , 0.09823846, 0.0980814 ,\n",
       "          0.09791378, 0.09695617, 0.09686949, 0.09650386, 0.09635025,\n",
       "          0.09659161, 0.09606579, 0.09592355, 0.09568152, 0.09532558,\n",
       "          0.09498483, 0.09518886, 0.09434077, 0.09406379, 0.09549364],\n",
       "         [0.11062334, 0.1110789 , 0.11134187, 0.11185529, 0.11203649,\n",
       "          0.11286349, 0.11304345, 0.11338256, 0.1138577 , 0.1146767 ,\n",
       "          0.11509614, 0.11519294, 0.11560601, 0.11650468, 0.11690649,\n",
       "          0.11714558, 0.11806248, 0.11878091, 0.11886735, 0.11913606,\n",
       "          0.1199751 , 0.12003016, 0.12038396, 0.12088492, 0.12164862,\n",
       "          0.12208488, 0.12311018, 0.12291198, 0.12373884, 0.12402067,\n",
       "          0.12531851, 0.12504402, 0.12588657, 0.12731417, 0.12747863,\n",
       "          0.12840949, 0.12864643, 0.12888546, 0.13031934, 0.13045105,\n",
       "          0.13195731, 0.13172163, 0.13169625, 0.13383967, 0.13385408,\n",
       "          0.13374048, 0.13502836, 0.1353444 , 0.13656045, 0.13547012],\n",
       "         [0.10929287, 0.11045264, 0.11154439, 0.11263587, 0.11369497,\n",
       "          0.11471161, 0.11568596, 0.11658123, 0.11768551, 0.11892307,\n",
       "          0.12019027, 0.12203045, 0.12267981, 0.12365244, 0.12564866,\n",
       "          0.12664112, 0.12756209, 0.12917575, 0.13135333, 0.13222031,\n",
       "          0.13348688, 0.13481762, 0.1359291 , 0.13758047, 0.13933077,\n",
       "          0.14058451, 0.14175022, 0.14260656, 0.14468272, 0.14524983,\n",
       "          0.1471182 , 0.14856622, 0.14942974, 0.15071402, 0.15196721,\n",
       "          0.15356259, 0.15536082, 0.1568681 , 0.1583024 , 0.16021614,\n",
       "          0.16107176, 0.1630999 , 0.1634694 , 0.16439506, 0.16693027,\n",
       "          0.1677737 , 0.16902022, 0.17087214, 0.1711149 , 0.1718704 ],\n",
       "         [0.1150355 , 0.11616568, 0.11735365, 0.11843125, 0.11974408,\n",
       "          0.12092499, 0.12224887, 0.12376339, 0.12463421, 0.1254797 ,\n",
       "          0.12708454, 0.12800239, 0.1291583 , 0.13042448, 0.13170002,\n",
       "          0.13291366, 0.13346541, 0.13443209, 0.13475557, 0.13591549,\n",
       "          0.13709335, 0.1387332 , 0.13986407, 0.14072229, 0.14143233,\n",
       "          0.14202747, 0.14390796, 0.14508143, 0.14622441, 0.14630692,\n",
       "          0.14735927, 0.1475851 , 0.14926471, 0.14821483, 0.14992353,\n",
       "          0.1505634 , 0.15209585, 0.15148076, 0.15366101, 0.1543964 ,\n",
       "          0.15419175, 0.15486942, 0.15675505, 0.15644239, 0.15752839,\n",
       "          0.15868856, 0.15739903, 0.15869841, 0.15986261, 0.15960789],\n",
       "         [0.09101862, 0.09115432, 0.09123147, 0.0914112 , 0.09156712,\n",
       "          0.09156565, 0.09166186, 0.09176945, 0.09217212, 0.09216291,\n",
       "          0.09260983, 0.09283686, 0.09275804, 0.09276143, 0.09258676,\n",
       "          0.09230607, 0.09263644, 0.09242769, 0.09308998, 0.09248302,\n",
       "          0.09269335, 0.09375917, 0.09302843, 0.0928714 , 0.0932255 ,\n",
       "          0.09332144, 0.09355648, 0.09330184, 0.09331802, 0.09317133,\n",
       "          0.09263524, 0.09246138, 0.09284434, 0.09244645, 0.09227883,\n",
       "          0.09186183, 0.09182409, 0.09204109, 0.09297844, 0.09206939,\n",
       "          0.09137229, 0.09209409, 0.09226514, 0.09286999, 0.09211019,\n",
       "          0.09341872, 0.0915866 , 0.09189285, 0.09353808, 0.09246078]]],\n",
       "       dtype=float32),\n",
       " array([[[0.49297312],\n",
       "         [0.49110612],\n",
       "         [0.49117467],\n",
       "         [0.49024293],\n",
       "         [0.47885767],\n",
       "         [0.47437006],\n",
       "         [0.4744208 ],\n",
       "         [0.46851796],\n",
       "         [0.46113917],\n",
       "         [0.45206383],\n",
       "         [0.4529648 ],\n",
       "         [0.44201362],\n",
       "         [0.44069353],\n",
       "         [0.44095984],\n",
       "         [0.44653696],\n",
       "         [0.4395786 ],\n",
       "         [0.44505364],\n",
       "         [0.44491804],\n",
       "         [0.4285283 ],\n",
       "         [0.4447233 ],\n",
       "         [0.4569366 ],\n",
       "         [0.44793114],\n",
       "         [0.4615647 ],\n",
       "         [0.46992785],\n",
       "         [0.46269962],\n",
       "         [0.4592692 ],\n",
       "         [0.457637  ],\n",
       "         [0.4669116 ],\n",
       "         [0.45821002],\n",
       "         [0.4508763 ],\n",
       "         [0.45193893],\n",
       "         [0.4478941 ],\n",
       "         [0.44369093],\n",
       "         [0.4545368 ],\n",
       "         [0.45407405],\n",
       "         [0.44679737],\n",
       "         [0.46528167],\n",
       "         [0.4555378 ],\n",
       "         [0.45765546],\n",
       "         [0.45139378],\n",
       "         [0.4654375 ],\n",
       "         [0.4412931 ],\n",
       "         [0.45142055],\n",
       "         [0.45408913],\n",
       "         [0.4530734 ],\n",
       "         [0.45327014],\n",
       "         [0.44634038],\n",
       "         [0.45721966],\n",
       "         [0.44901568],\n",
       "         [0.45342544]]], dtype=float32),\n",
       " array([50], dtype=int32),\n",
       " array([[[0.]]], dtype=float32)]"
      ]
     },
     "execution_count": 20,
     "metadata": {},
     "output_type": "execute_result"
    }
   ],
   "source": [
    "sess.run(r, feed_dict = {input_ids: [[1, 2, 3, 4, 5, 6, 7, 8, 9]],\n",
    "                        input_lengths: [9],\n",
    "                        mel_outputs: np.random.normal(size=(1, 50, 80)).astype(np.float32),\n",
    "                        mel_lengths: [50]})"
   ]
  },
  {
   "cell_type": "code",
   "execution_count": 21,
   "metadata": {},
   "outputs": [
    {
     "data": {
      "text/plain": [
       "array([3.0800576], dtype=float32)"
      ]
     },
     "execution_count": 21,
     "metadata": {},
     "output_type": "execute_result"
    }
   ],
   "source": [
    "sess.run(loss, feed_dict = {input_ids: [[1, 2, 3, 4, 5, 6, 7, 8, 9]],\n",
    "                        input_lengths: [9],\n",
    "                        mel_outputs: np.random.normal(size=(1, 50, 80)).astype(np.float32),\n",
    "                        mel_lengths: [50]})"
   ]
  },
  {
   "cell_type": "code",
   "execution_count": 22,
   "metadata": {},
   "outputs": [
    {
     "data": {
      "text/plain": [
       "array([3.0650043, 3.0646894], dtype=float32)"
      ]
     },
     "execution_count": 22,
     "metadata": {},
     "output_type": "execute_result"
    }
   ],
   "source": [
    "sess.run(loss, feed_dict = {input_ids: [[1, 2, 3, 4, 5, 6, 7, 8, 9],\n",
    "                                       [1, 2, 3, 4, 5, 6, 7, 8, 9]],\n",
    "                        input_lengths: [9, 9],\n",
    "                        mel_outputs: np.random.normal(size=(2, 50, 80)).astype(np.float32),\n",
    "                        mel_lengths: [50, 50]})"
   ]
  },
  {
   "cell_type": "code",
   "execution_count": 23,
   "metadata": {
    "scrolled": true
   },
   "outputs": [
    {
     "data": {
      "text/plain": [
       "(1, 9, 50)"
      ]
     },
     "execution_count": 23,
     "metadata": {},
     "output_type": "execute_result"
    }
   ],
   "source": [
    "sess.run(guided, feed_dict = {input_ids: [[1, 2, 3, 4, 5, 6, 7, 8, 9]],\n",
    "                        input_lengths: [9],\n",
    "                        mel_outputs: np.random.normal(size=(1, 50, 80)).astype(np.float32),\n",
    "                        mel_lengths: [50]}).shape"
   ]
  },
  {
   "cell_type": "code",
   "execution_count": null,
   "metadata": {},
   "outputs": [],
   "source": []
  }
 ],
 "metadata": {
  "kernelspec": {
   "display_name": "Python 3",
   "language": "python",
   "name": "python3"
  },
  "language_info": {
   "codemirror_mode": {
    "name": "ipython",
    "version": 3
   },
   "file_extension": ".py",
   "mimetype": "text/x-python",
   "name": "python",
   "nbconvert_exporter": "python",
   "pygments_lexer": "ipython3",
   "version": "3.7.7"
  }
 },
 "nbformat": 4,
 "nbformat_minor": 4
}

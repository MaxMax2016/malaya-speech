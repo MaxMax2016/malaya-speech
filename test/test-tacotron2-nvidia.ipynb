{
 "cells": [
  {
   "cell_type": "code",
   "execution_count": 1,
   "metadata": {},
   "outputs": [],
   "source": [
    "import os\n",
    "\n",
    "os.environ['CUDA_VISIBLE_DEVICES'] = '1'"
   ]
  },
  {
   "cell_type": "code",
   "execution_count": 2,
   "metadata": {},
   "outputs": [],
   "source": [
    "import sys\n",
    "\n",
    "SOURCE_DIR = os.path.dirname(os.path.dirname(os.path.abspath(__name__)))\n",
    "sys.path.insert(0, SOURCE_DIR)"
   ]
  },
  {
   "cell_type": "code",
   "execution_count": 3,
   "metadata": {
    "scrolled": true
   },
   "outputs": [
    {
     "name": "stdout",
     "output_type": "stream",
     "text": [
      "WARNING:tensorflow:From /Users/huseinzolkepli/Documents/malaya-speech/malaya_speech/train/optimizer/__init__.py:38: The name tf.train.AdagradOptimizer is deprecated. Please use tf.compat.v1.train.AdagradOptimizer instead.\n",
      "\n",
      "WARNING:tensorflow:From /Users/huseinzolkepli/Documents/malaya-speech/malaya_speech/train/optimizer/__init__.py:39: The name tf.train.AdamOptimizer is deprecated. Please use tf.compat.v1.train.AdamOptimizer instead.\n",
      "\n",
      "WARNING:tensorflow:From /Users/huseinzolkepli/Documents/malaya-speech/malaya_speech/train/optimizer/__init__.py:40: The name tf.train.FtrlOptimizer is deprecated. Please use tf.compat.v1.train.FtrlOptimizer instead.\n",
      "\n",
      "WARNING:tensorflow:From /Users/huseinzolkepli/Documents/malaya-speech/malaya_speech/train/optimizer/__init__.py:42: The name tf.train.RMSPropOptimizer is deprecated. Please use tf.compat.v1.train.RMSPropOptimizer instead.\n",
      "\n",
      "WARNING:tensorflow:From /Users/huseinzolkepli/Documents/malaya-speech/malaya_speech/train/optimizer/__init__.py:43: The name tf.train.GradientDescentOptimizer is deprecated. Please use tf.compat.v1.train.GradientDescentOptimizer instead.\n",
      "\n",
      "WARNING:tensorflow:\n",
      "The TensorFlow contrib module will not be included in TensorFlow 2.0.\n",
      "For more information, please see:\n",
      "  * https://github.com/tensorflow/community/blob/master/rfcs/20180907-contrib-sunset.md\n",
      "  * https://github.com/tensorflow/addons\n",
      "  * https://github.com/tensorflow/io (for I/O related ops)\n",
      "If you depend on functionality not listed there, please file an issue.\n",
      "\n",
      "WARNING:tensorflow:From /Users/huseinzolkepli/Documents/malaya-speech/malaya_speech/train/model/openseq2seq/layer.py:6: The name tf.layers.Conv1D is deprecated. Please use tf.compat.v1.layers.Conv1D instead.\n",
      "\n",
      "WARNING:tensorflow:From /Users/huseinzolkepli/Documents/malaya-speech/malaya_speech/train/model/openseq2seq/attention.py:4: The name tf.layers.Layer is deprecated. Please use tf.compat.v1.layers.Layer instead.\n",
      "\n"
     ]
    }
   ],
   "source": [
    "import tensorflow as tf\n",
    "import malaya_speech\n",
    "import malaya_speech.train\n",
    "from malaya_speech.train.model import tacotron2_nvidia as tacotron2\n",
    "import numpy as np"
   ]
  },
  {
   "cell_type": "code",
   "execution_count": 4,
   "metadata": {},
   "outputs": [],
   "source": [
    "input_ids = tf.placeholder(tf.int32, [None, None])\n",
    "input_lengths = tf.placeholder(tf.int32, [None])\n",
    "mel_outputs = tf.placeholder(tf.float32, [None, None, 80])\n",
    "mel_lengths = tf.placeholder(tf.int32, [None])"
   ]
  },
  {
   "cell_type": "code",
   "execution_count": 5,
   "metadata": {
    "scrolled": false
   },
   "outputs": [
    {
     "name": "stdout",
     "output_type": "stream",
     "text": [
      "WARNING:tensorflow:From /Users/huseinzolkepli/Documents/malaya-speech/malaya_speech/train/model/openseq2seq/abstract.py:147: The name tf.variable_scope is deprecated. Please use tf.compat.v1.variable_scope instead.\n",
      "\n",
      "WARNING:tensorflow:From /Users/huseinzolkepli/Documents/malaya-speech/malaya_speech/train/model/tacotron2_nvidia/encoder.py:60: The name tf.get_variable is deprecated. Please use tf.compat.v1.get_variable instead.\n",
      "\n",
      "WARNING:tensorflow:From /Users/huseinzolkepli/Documents/malaya-speech/malaya_speech/train/model/openseq2seq/layer.py:340: conv1d (from tensorflow.python.layers.convolutional) is deprecated and will be removed in a future version.\n",
      "Instructions for updating:\n",
      "Use `tf.keras.layers.Conv1D` instead.\n",
      "WARNING:tensorflow:From /Library/Frameworks/Python.framework/Versions/3.7/lib/python3.7/site-packages/tensorflow_core/python/layers/convolutional.py:218: Layer.apply (from tensorflow.python.keras.engine.base_layer) is deprecated and will be removed in a future version.\n",
      "Instructions for updating:\n",
      "Please use `layer.__call__` method instead.\n",
      "WARNING:tensorflow:From /Users/huseinzolkepli/Documents/malaya-speech/malaya_speech/train/model/openseq2seq/layer.py:358: batch_normalization (from tensorflow.python.layers.normalization) is deprecated and will be removed in a future version.\n",
      "Instructions for updating:\n",
      "Use keras.layers.BatchNormalization instead.  In particular, `tf.control_dependencies(tf.GraphKeys.UPDATE_OPS)` should not be used (consult the `tf.keras.layers.batch_normalization` documentation).\n",
      "WARNING:tensorflow:From /Users/huseinzolkepli/Documents/malaya-speech/malaya_speech/train/model/tacotron2_nvidia/encoder.py:129: dropout (from tensorflow.python.layers.core) is deprecated and will be removed in a future version.\n",
      "Instructions for updating:\n",
      "Use keras.layers.dropout instead.\n",
      "WARNING:tensorflow:From /Users/huseinzolkepli/Documents/malaya-speech/malaya_speech/train/model/openseq2seq/rnn.py:111: LSTMCell.__init__ (from tensorflow.python.ops.rnn_cell_impl) is deprecated and will be removed in a future version.\n",
      "Instructions for updating:\n",
      "This class is equivalent as tf.keras.layers.LSTMCell, and will be replaced by that in Tensorflow 2.0.\n",
      "WARNING:tensorflow:From /Users/huseinzolkepli/Documents/malaya-speech/malaya_speech/train/model/tacotron2_nvidia/encoder.py:205: MultiRNNCell.__init__ (from tensorflow.python.ops.rnn_cell_impl) is deprecated and will be removed in a future version.\n",
      "Instructions for updating:\n",
      "This class is equivalent as tf.keras.layers.StackedRNNCells, and will be replaced by that in Tensorflow 2.0.\n",
      "WARNING:tensorflow:From /Users/huseinzolkepli/Documents/malaya-speech/malaya_speech/train/model/tacotron2_nvidia/encoder.py:236: bidirectional_dynamic_rnn (from tensorflow.python.ops.rnn) is deprecated and will be removed in a future version.\n",
      "Instructions for updating:\n",
      "Please use `keras.layers.Bidirectional(keras.layers.RNN(cell))`, which is equivalent to this API\n",
      "WARNING:tensorflow:From /Library/Frameworks/Python.framework/Versions/3.7/lib/python3.7/site-packages/tensorflow_core/python/ops/rnn.py:464: dynamic_rnn (from tensorflow.python.ops.rnn) is deprecated and will be removed in a future version.\n",
      "Instructions for updating:\n",
      "Please use `keras.layers.RNN(cell)`, which is equivalent to this API\n",
      "WARNING:tensorflow:From /Library/Frameworks/Python.framework/Versions/3.7/lib/python3.7/site-packages/tensorflow_core/python/ops/rnn_cell_impl.py:958: Layer.add_variable (from tensorflow.python.keras.engine.base_layer) is deprecated and will be removed in a future version.\n",
      "Instructions for updating:\n",
      "Please use `layer.add_weight` method instead.\n",
      "WARNING:tensorflow:From /Library/Frameworks/Python.framework/Versions/3.7/lib/python3.7/site-packages/tensorflow_core/python/ops/rnn_cell_impl.py:962: calling Zeros.__init__ (from tensorflow.python.ops.init_ops) with dtype is deprecated and will be removed in a future version.\n",
      "Instructions for updating:\n",
      "Call initializer instance with the dtype argument instead of passing it to the constructor\n",
      "WARNING:tensorflow:From /Library/Frameworks/Python.framework/Versions/3.7/lib/python3.7/site-packages/tensorflow_core/python/ops/rnn.py:244: where (from tensorflow.python.ops.array_ops) is deprecated and will be removed in a future version.\n",
      "Instructions for updating:\n",
      "Use tf.where in 2.0, which has the same broadcast rule as np.where\n",
      "WARNING:tensorflow:From /Users/huseinzolkepli/Documents/malaya-speech/malaya_speech/train/model/tacotron2_nvidia/encoder.py:255: The name tf.add_to_collection is deprecated. Please use tf.compat.v1.add_to_collection instead.\n",
      "\n",
      "WARNING:tensorflow:From /Users/huseinzolkepli/Documents/malaya-speech/malaya_speech/train/model/tacotron2_nvidia/decoder.py:478: The name tf.layers.Dense is deprecated. Please use tf.compat.v1.layers.Dense instead.\n",
      "\n",
      "WARNING:tensorflow:From /Users/huseinzolkepli/Documents/malaya-speech/malaya_speech/train/model/tacotron2_nvidia/decoder.py:394: The name tf.get_variable_scope is deprecated. Please use tf.compat.v1.get_variable_scope instead.\n",
      "\n"
     ]
    }
   ],
   "source": [
    "model = tacotron2.Model([input_ids, input_lengths], [mel_outputs, mel_lengths], 20, prenet_dropout = 0.2)"
   ]
  },
  {
   "cell_type": "code",
   "execution_count": 6,
   "metadata": {},
   "outputs": [],
   "source": [
    "sess = tf.InteractiveSession()\n",
    "sess.run(tf.global_variables_initializer())"
   ]
  },
  {
   "cell_type": "code",
   "execution_count": 7,
   "metadata": {},
   "outputs": [
    {
     "data": {
      "text/plain": [
       "{'outputs': <tf.Tensor 'tacotron2_encoder/concat:0' shape=(?, ?, 512) dtype=float32>,\n",
       " 'src_length': <tf.Tensor 'tacotron2_encoder/floordiv_2:0' shape=(?,) dtype=int32>}"
      ]
     },
     "execution_count": 7,
     "metadata": {},
     "output_type": "execute_result"
    }
   ],
   "source": [
    "model.encoder_logits"
   ]
  },
  {
   "cell_type": "code",
   "execution_count": 8,
   "metadata": {},
   "outputs": [
    {
     "data": {
      "text/plain": [
       "{'outputs': [<tf.Tensor 'tacotron_2_decoder/decoder_1/output_proj/BiasAdd:0' shape=(?, ?, 80) dtype=float32>,\n",
       "  <tf.Tensor 'tacotron_2_decoder/add:0' shape=(?, ?, 80) dtype=float32>,\n",
       "  <tf.Tensor 'tacotron_2_decoder/transpose_1:0' shape=(?, ?, ?) dtype=float32>,\n",
       "  <tf.Tensor 'tacotron_2_decoder/Sigmoid:0' shape=(?, ?, 1) dtype=float32>,\n",
       "  <tf.Tensor 'tacotron_2_decoder/decoder/while/Exit_15:0' shape=(?,) dtype=int32>,\n",
       "  <tf.Tensor 'tacotron_2_decoder/zeros:0' shape=(?, ?, ?) dtype=float32>],\n",
       " 'stop_token_prediction': <tf.Tensor 'tacotron_2_decoder/decoder_1/stop_token_proj/BiasAdd:0' shape=(?, ?, 1) dtype=float32>}"
      ]
     },
     "execution_count": 8,
     "metadata": {},
     "output_type": "execute_result"
    }
   ],
   "source": [
    "model.decoder_logits"
   ]
  },
  {
   "cell_type": "code",
   "execution_count": 9,
   "metadata": {},
   "outputs": [
    {
     "data": {
      "text/plain": [
       "<tf.Tensor 'ExpandDims:0' shape=(1, ?, ?) dtype=float32>"
      ]
     },
     "execution_count": 9,
     "metadata": {},
     "output_type": "execute_result"
    }
   ],
   "source": [
    "guided = tacotron2.generate_guided_attention(mel_lengths[0], input_lengths[0])\n",
    "guided = tf.expand_dims(guided, 0)\n",
    "guided"
   ]
  },
  {
   "cell_type": "code",
   "execution_count": 10,
   "metadata": {},
   "outputs": [],
   "source": [
    "from malaya_speech.train.loss import calculate_2d_loss, calculate_3d_loss"
   ]
  },
  {
   "cell_type": "code",
   "execution_count": 11,
   "metadata": {},
   "outputs": [],
   "source": [
    "r = model.decoder_logits['outputs']\n",
    "decoder_output, post_mel_outputs, alignment_histories, stop_token_predictions, _, _ = r\n",
    "stop_token_predictions = stop_token_predictions[:,:,0]"
   ]
  },
  {
   "cell_type": "code",
   "execution_count": 12,
   "metadata": {},
   "outputs": [],
   "source": [
    "binary_crossentropy = tf.keras.losses.BinaryCrossentropy(\n",
    "    from_logits=True\n",
    ")\n",
    "mse = tf.keras.losses.MeanSquaredError()\n",
    "mae = tf.keras.losses.MeanAbsoluteError()\n",
    "mel_loss_before = calculate_3d_loss(\n",
    "    mel_outputs, decoder_output, loss_fn=mae\n",
    ")\n",
    "mel_loss_after = calculate_3d_loss(\n",
    "    mel_outputs, post_mel_outputs, loss_fn=mae\n",
    ")\n",
    "max_mel_length = tf.reduce_max(mel_lengths)\n",
    "stop_gts = tf.expand_dims(\n",
    "    tf.range(tf.reduce_max(max_mel_length), dtype=tf.int32), 0\n",
    ")\n",
    "stop_gts = tf.tile(\n",
    "    stop_gts, [tf.shape(mel_lengths)[0], 1]\n",
    ")\n",
    "stop_gts = tf.cast(\n",
    "    tf.math.greater_equal(stop_gts, tf.expand_dims(mel_lengths, 1)),\n",
    "    tf.float32,\n",
    ")\n",
    "stop_token_loss = calculate_2d_loss(\n",
    "    stop_gts, stop_token_predictions, loss_fn=binary_crossentropy\n",
    ")\n",
    "attention_masks = tf.cast(\n",
    "    tf.math.not_equal(guided, -1.0), tf.float32\n",
    ")\n",
    "loss_att = tf.reduce_sum(\n",
    "    tf.abs(alignment_histories * guided) * attention_masks,\n",
    "    axis=[1, 2],\n",
    ")\n",
    "loss_att /= tf.reduce_sum(attention_masks, axis=[1, 2])"
   ]
  },
  {
   "cell_type": "code",
   "execution_count": 13,
   "metadata": {},
   "outputs": [
    {
     "data": {
      "text/plain": [
       "<tf.Tensor 'truediv_3:0' shape=(?,) dtype=float32>"
      ]
     },
     "execution_count": 13,
     "metadata": {},
     "output_type": "execute_result"
    }
   ],
   "source": [
    "loss_att"
   ]
  },
  {
   "cell_type": "code",
   "execution_count": 14,
   "metadata": {},
   "outputs": [],
   "source": [
    "loss = stop_token_loss + mel_loss_before + mel_loss_after + loss_att"
   ]
  },
  {
   "cell_type": "code",
   "execution_count": 15,
   "metadata": {},
   "outputs": [
    {
     "data": {
      "text/plain": [
       "(<tf.Tensor 'binary_crossentropy/weighted_loss/value:0' shape=() dtype=float32>,\n",
       " <tf.Tensor 'mean_absolute_error/weighted_loss/value:0' shape=() dtype=float32>,\n",
       " <tf.Tensor 'mean_absolute_error_1/weighted_loss/value:0' shape=() dtype=float32>,\n",
       " <tf.Tensor 'truediv_3:0' shape=(?,) dtype=float32>)"
      ]
     },
     "execution_count": 15,
     "metadata": {},
     "output_type": "execute_result"
    }
   ],
   "source": [
    "stop_token_loss, mel_loss_before, mel_loss_after, loss_att"
   ]
  },
  {
   "cell_type": "code",
   "execution_count": 16,
   "metadata": {},
   "outputs": [],
   "source": [
    "# r = model.inference(input_ids, input_lengths, speaker_ids)\n",
    "# r"
   ]
  },
  {
   "cell_type": "code",
   "execution_count": 17,
   "metadata": {},
   "outputs": [
    {
     "name": "stderr",
     "output_type": "stream",
     "text": [
      "/Library/Frameworks/Python.framework/Versions/3.7/lib/python3.7/site-packages/tensorflow_core/python/client/session.py:1750: UserWarning: An interactive session is already active. This can cause out-of-memory errors in some cases. You must explicitly call `InteractiveSession.close()` to release resources held by the other session(s).\n",
      "  warnings.warn('An interactive session is already active. This can '\n"
     ]
    }
   ],
   "source": [
    "sess = tf.InteractiveSession()\n",
    "sess.run(tf.global_variables_initializer())"
   ]
  },
  {
   "cell_type": "code",
   "execution_count": 18,
   "metadata": {},
   "outputs": [
    {
     "data": {
      "text/plain": [
       "(1, 50, 80)"
      ]
     },
     "execution_count": 18,
     "metadata": {},
     "output_type": "execute_result"
    }
   ],
   "source": [
    "sess.run(decoder_output, feed_dict = {input_ids: [[1, 2, 3, 4, 5, 6, 7, 8, 9]],\n",
    "                        input_lengths: [9],\n",
    "                        mel_outputs: np.random.normal(size=(1, 50, 80)).astype(np.float32),\n",
    "                        mel_lengths: [50]}).shape"
   ]
  },
  {
   "cell_type": "code",
   "execution_count": 19,
   "metadata": {},
   "outputs": [
    {
     "data": {
      "text/plain": [
       "(1, 9, 50)"
      ]
     },
     "execution_count": 19,
     "metadata": {},
     "output_type": "execute_result"
    }
   ],
   "source": [
    "sess.run(alignment_histories, feed_dict = {input_ids: [[1, 2, 3, 4, 5, 6, 7, 8, 9]],\n",
    "                        input_lengths: [9],\n",
    "                        mel_outputs: np.random.normal(size=(1, 50, 80)).astype(np.float32),\n",
    "                        mel_lengths: [50]}).shape"
   ]
  },
  {
   "cell_type": "code",
   "execution_count": 20,
   "metadata": {},
   "outputs": [
    {
     "data": {
      "text/plain": [
       "[array([[[-0.01520267,  0.00942976,  0.11127456, ..., -0.10087481,\n",
       "           0.14783642, -0.32963744],\n",
       "         [-0.01953189,  0.01830612,  0.11961078, ..., -0.09985455,\n",
       "           0.14657295, -0.33232576],\n",
       "         [-0.0194759 ,  0.02812577,  0.13153401, ..., -0.09322856,\n",
       "           0.13459894, -0.34036326],\n",
       "         ...,\n",
       "         [-0.04815116,  0.12092838,  0.1606623 , ..., -0.01437848,\n",
       "           0.02917907, -0.46644217],\n",
       "         [ 0.00597877,  0.15749355,  0.16767943, ..., -0.08582533,\n",
       "          -0.02309576, -0.44179893],\n",
       "         [ 0.00370612,  0.07563721,  0.16179103, ..., -0.04420746,\n",
       "           0.00747654, -0.4664501 ]]], dtype=float32),\n",
       " array([[[-1.6325318 , -0.83928454, -0.70805544, ...,  0.25633737,\n",
       "           0.97012985, -0.32963744],\n",
       "         [-0.01953189,  0.01830612,  0.44861582, ..., -0.09985455,\n",
       "           1.8160677 ,  0.99625176],\n",
       "         [-0.0194759 ,  0.02812577,  1.1039581 , ...,  0.736087  ,\n",
       "          -0.91249514, -4.0964627 ],\n",
       "         ...,\n",
       "         [-0.04815116,  1.9718511 ,  1.0422907 , ..., -0.34306344,\n",
       "           0.73055613,  0.4059475 ],\n",
       "         [-0.39874214, -1.4837973 , -0.04172647, ..., -2.773313  ,\n",
       "          -0.02309576, -2.135336  ],\n",
       "         [ 1.0284866 ,  1.1314348 ,  0.16179103, ...,  0.43741265,\n",
       "           0.00747654, -0.3996088 ]]], dtype=float32),\n",
       " array([[[0.12604176, 0.12748294, 0.12878896, 0.1303114 , 0.13171694,\n",
       "          0.1330926 , 0.13443637, 0.13558914, 0.1369685 , 0.13782029,\n",
       "          0.13954069, 0.14048462, 0.14141642, 0.14305817, 0.14394496,\n",
       "          0.14513561, 0.14598288, 0.14758569, 0.14863546, 0.14874421,\n",
       "          0.14972658, 0.15042268, 0.15126678, 0.15248443, 0.15284686,\n",
       "          0.1542723 , 0.1548655 , 0.15574774, 0.15653108, 0.1565102 ,\n",
       "          0.15773875, 0.15846878, 0.15938383, 0.15949243, 0.16170405,\n",
       "          0.16093343, 0.16219917, 0.16148703, 0.1624833 , 0.16324216,\n",
       "          0.16394676, 0.16311494, 0.16469824, 0.16408226, 0.16614589,\n",
       "          0.16600901, 0.16753706, 0.16600008, 0.16736676, 0.16782619],\n",
       "         [0.10621708, 0.10704337, 0.10771236, 0.10875297, 0.1096204 ,\n",
       "          0.11020751, 0.110931  , 0.11178289, 0.11280631, 0.11346224,\n",
       "          0.11409544, 0.1148499 , 0.11565128, 0.11647155, 0.11748064,\n",
       "          0.11793306, 0.11898975, 0.11987938, 0.1207366 , 0.12080272,\n",
       "          0.12160884, 0.12224217, 0.1235687 , 0.12419607, 0.12495489,\n",
       "          0.12642269, 0.12665807, 0.12738909, 0.12847084, 0.12878571,\n",
       "          0.12996526, 0.13106973, 0.13245086, 0.13271065, 0.13419618,\n",
       "          0.13506062, 0.1353771 , 0.137418  , 0.13833654, 0.13951983,\n",
       "          0.14033793, 0.13934626, 0.14157319, 0.14345753, 0.1442153 ,\n",
       "          0.14559372, 0.14589258, 0.14714481, 0.14654066, 0.14792703],\n",
       "         [0.0965272 , 0.09609522, 0.09576185, 0.09534528, 0.09503855,\n",
       "          0.09448533, 0.09413694, 0.09379016, 0.09338564, 0.0926875 ,\n",
       "          0.09249158, 0.09189259, 0.09125794, 0.09069159, 0.09020343,\n",
       "          0.08984558, 0.08963274, 0.08880442, 0.08859667, 0.08733085,\n",
       "          0.08728567, 0.08681995, 0.08671197, 0.08571083, 0.08504708,\n",
       "          0.0851941 , 0.08448475, 0.08358157, 0.08345734, 0.08310039,\n",
       "          0.08218876, 0.08207931, 0.08140611, 0.08064093, 0.08034897,\n",
       "          0.08061133, 0.07933982, 0.07958993, 0.07902007, 0.07868979,\n",
       "          0.07880929, 0.07771195, 0.07790326, 0.07811825, 0.07699315,\n",
       "          0.07692193, 0.07672082, 0.07650103, 0.07531841, 0.07487361],\n",
       "         [0.10820167, 0.10753343, 0.10686799, 0.1062467 , 0.10572805,\n",
       "          0.10500862, 0.10441842, 0.10362248, 0.10324737, 0.10253034,\n",
       "          0.10204135, 0.10143341, 0.10084119, 0.10053622, 0.10005404,\n",
       "          0.09987267, 0.09927012, 0.09911127, 0.09866679, 0.09820548,\n",
       "          0.0979576 , 0.09728817, 0.09723149, 0.09760766, 0.09680166,\n",
       "          0.09618531, 0.09594429, 0.095954  , 0.09511666, 0.09521387,\n",
       "          0.09466104, 0.09431041, 0.09468867, 0.09417362, 0.09451056,\n",
       "          0.09392656, 0.09324721, 0.09399027, 0.09330583, 0.09346399,\n",
       "          0.09353941, 0.0934504 , 0.09354427, 0.09293058, 0.0928259 ,\n",
       "          0.09268512, 0.09267314, 0.09161678, 0.09220825, 0.09152782],\n",
       "         [0.12866661, 0.12719359, 0.12577744, 0.12422962, 0.12286778,\n",
       "          0.12152659, 0.1201846 , 0.11854091, 0.11708882, 0.11551993,\n",
       "          0.11429196, 0.11288971, 0.111533  , 0.11031659, 0.10950383,\n",
       "          0.10773828, 0.10623271, 0.1050757 , 0.10370792, 0.10310867,\n",
       "          0.10151189, 0.10007527, 0.0992649 , 0.09837704, 0.09716956,\n",
       "          0.09549163, 0.094353  , 0.09431644, 0.09290797, 0.09241162,\n",
       "          0.09160221, 0.08921759, 0.08912968, 0.08887032, 0.087917  ,\n",
       "          0.08671654, 0.08607092, 0.08505444, 0.08432291, 0.08351679,\n",
       "          0.08251042, 0.08278184, 0.0814532 , 0.08016391, 0.0798516 ,\n",
       "          0.07836982, 0.07767347, 0.0770072 , 0.07709053, 0.07608093],\n",
       "         [0.12883645, 0.12869458, 0.12842341, 0.1282976 , 0.12811273,\n",
       "          0.12793913, 0.12782758, 0.12779854, 0.12759537, 0.1276018 ,\n",
       "          0.12713085, 0.12683783, 0.1271689 , 0.12667073, 0.12632431,\n",
       "          0.12641528, 0.12643777, 0.12625746, 0.12592494, 0.126543  ,\n",
       "          0.12594824, 0.12600781, 0.12575069, 0.12560481, 0.12533002,\n",
       "          0.12527892, 0.1252823 , 0.12443681, 0.12442621, 0.12403197,\n",
       "          0.12467626, 0.12340907, 0.12303655, 0.1231613 , 0.12243599,\n",
       "          0.12269179, 0.12231643, 0.12224133, 0.12156408, 0.12052952,\n",
       "          0.12083939, 0.12023978, 0.11963705, 0.11916418, 0.11902299,\n",
       "          0.11806315, 0.11786579, 0.11773258, 0.11830627, 0.11772398],\n",
       "         [0.09052715, 0.09034421, 0.09025764, 0.09001739, 0.08987471,\n",
       "          0.08992712, 0.08960895, 0.08944102, 0.08928105, 0.08953   ,\n",
       "          0.08905056, 0.08937964, 0.08924545, 0.08910487, 0.08934767,\n",
       "          0.08888404, 0.08886351, 0.0885538 , 0.0884178 , 0.08920526,\n",
       "          0.08917493, 0.0897599 , 0.08941149, 0.08922613, 0.09016455,\n",
       "          0.08962665, 0.09001145, 0.09021103, 0.09001835, 0.09015445,\n",
       "          0.09119937, 0.09095086, 0.09085624, 0.09119936, 0.09058306,\n",
       "          0.09113257, 0.09155581, 0.09196904, 0.09180705, 0.09187322,\n",
       "          0.09162428, 0.09324662, 0.09275351, 0.09338339, 0.09298114,\n",
       "          0.09347949, 0.09319536, 0.09429   , 0.09427775, 0.09462118],\n",
       "         [0.1002611 , 0.10043079, 0.10065552, 0.10074294, 0.10073138,\n",
       "          0.10099218, 0.10111289, 0.10134835, 0.10141039, 0.10183734,\n",
       "          0.10177024, 0.10190817, 0.1019164 , 0.10193975, 0.10185074,\n",
       "          0.10209511, 0.10210817, 0.10208614, 0.10222494, 0.10231747,\n",
       "          0.10248621, 0.10255736, 0.10208581, 0.10212447, 0.10283451,\n",
       "          0.10250755, 0.10269447, 0.10275125, 0.10304485, 0.10319492,\n",
       "          0.102626  , 0.1034129 , 0.10269231, 0.10277186, 0.10230724,\n",
       "          0.10242447, 0.10300595, 0.10264461, 0.10235938, 0.10233812,\n",
       "          0.10228077, 0.10315528, 0.10228971, 0.10249793, 0.10269038,\n",
       "          0.10260717, 0.10263581, 0.10290965, 0.10325444, 0.10325382],\n",
       "         [0.11472101, 0.11518197, 0.11575481, 0.11605614, 0.11630944,\n",
       "          0.11682096, 0.1173433 , 0.11808651, 0.1182166 , 0.11901055,\n",
       "          0.11958739, 0.12032421, 0.1209694 , 0.12121055, 0.1212904 ,\n",
       "          0.1220804 , 0.12248231, 0.12264618, 0.12308878, 0.12374232,\n",
       "          0.12430002, 0.12482674, 0.12470824, 0.1246686 , 0.12485078,\n",
       "          0.1250209 , 0.12570621, 0.12561202, 0.12602673, 0.12659673,\n",
       "          0.12534238, 0.12708135, 0.12635577, 0.12697947, 0.12599689,\n",
       "          0.12650265, 0.12688759, 0.12560529, 0.12680085, 0.12682655,\n",
       "          0.12611184, 0.126953  , 0.1261476 , 0.12620208, 0.12527372,\n",
       "          0.12627059, 0.125806  , 0.12679794, 0.12563695, 0.12616546]]],\n",
       "       dtype=float32),\n",
       " array([[[0.4733829 ],\n",
       "         [0.47388658],\n",
       "         [0.47407117],\n",
       "         [0.4676617 ],\n",
       "         [0.47401536],\n",
       "         [0.4631048 ],\n",
       "         [0.48075458],\n",
       "         [0.4699165 ],\n",
       "         [0.47184423],\n",
       "         [0.45880133],\n",
       "         [0.46689755],\n",
       "         [0.46148327],\n",
       "         [0.479918  ],\n",
       "         [0.47336417],\n",
       "         [0.45422038],\n",
       "         [0.48514906],\n",
       "         [0.48332936],\n",
       "         [0.48950833],\n",
       "         [0.48753652],\n",
       "         [0.4834463 ],\n",
       "         [0.4659176 ],\n",
       "         [0.48009655],\n",
       "         [0.47660166],\n",
       "         [0.48945367],\n",
       "         [0.47692686],\n",
       "         [0.46483406],\n",
       "         [0.4852126 ],\n",
       "         [0.48874816],\n",
       "         [0.48422933],\n",
       "         [0.48366576],\n",
       "         [0.4893461 ],\n",
       "         [0.48940516],\n",
       "         [0.49994564],\n",
       "         [0.48720586],\n",
       "         [0.4942658 ],\n",
       "         [0.49088973],\n",
       "         [0.49465588],\n",
       "         [0.48998192],\n",
       "         [0.48615715],\n",
       "         [0.49194637],\n",
       "         [0.4824173 ],\n",
       "         [0.495039  ],\n",
       "         [0.4818724 ],\n",
       "         [0.47616   ],\n",
       "         [0.49337718],\n",
       "         [0.49214894],\n",
       "         [0.47477433],\n",
       "         [0.4992227 ],\n",
       "         [0.49441302],\n",
       "         [0.5020861 ]]], dtype=float32),\n",
       " array([50], dtype=int32),\n",
       " array([[[0.]]], dtype=float32)]"
      ]
     },
     "execution_count": 20,
     "metadata": {},
     "output_type": "execute_result"
    }
   ],
   "source": [
    "sess.run(r, feed_dict = {input_ids: [[1, 2, 3, 4, 5, 6, 7, 8, 9]],\n",
    "                        input_lengths: [9],\n",
    "                        mel_outputs: np.random.normal(size=(1, 50, 80)).astype(np.float32),\n",
    "                        mel_lengths: [50]})"
   ]
  },
  {
   "cell_type": "code",
   "execution_count": 21,
   "metadata": {},
   "outputs": [
    {
     "data": {
      "text/plain": [
       "array([3.0220482], dtype=float32)"
      ]
     },
     "execution_count": 21,
     "metadata": {},
     "output_type": "execute_result"
    }
   ],
   "source": [
    "sess.run(loss, feed_dict = {input_ids: [[1, 2, 3, 4, 5, 6, 7, 8, 9]],\n",
    "                        input_lengths: [9],\n",
    "                        mel_outputs: np.random.normal(size=(1, 50, 80)).astype(np.float32),\n",
    "                        mel_lengths: [50]})"
   ]
  },
  {
   "cell_type": "code",
   "execution_count": 22,
   "metadata": {},
   "outputs": [
    {
     "data": {
      "text/plain": [
       "array([3.0477755, 3.0472908], dtype=float32)"
      ]
     },
     "execution_count": 22,
     "metadata": {},
     "output_type": "execute_result"
    }
   ],
   "source": [
    "sess.run(loss, feed_dict = {input_ids: [[1, 2, 3, 4, 5, 6, 7, 8, 9],\n",
    "                                       [1, 2, 3, 4, 5, 6, 7, 8, 9]],\n",
    "                        input_lengths: [9, 9],\n",
    "                        mel_outputs: np.random.normal(size=(2, 50, 80)).astype(np.float32),\n",
    "                        mel_lengths: [50, 50]})"
   ]
  },
  {
   "cell_type": "code",
   "execution_count": 23,
   "metadata": {
    "scrolled": true
   },
   "outputs": [
    {
     "data": {
      "text/plain": [
       "(1, 9, 50)"
      ]
     },
     "execution_count": 23,
     "metadata": {},
     "output_type": "execute_result"
    }
   ],
   "source": [
    "sess.run(guided, feed_dict = {input_ids: [[1, 2, 3, 4, 5, 6, 7, 8, 9]],\n",
    "                        input_lengths: [9],\n",
    "                        mel_outputs: np.random.normal(size=(1, 50, 80)).astype(np.float32),\n",
    "                        mel_lengths: [50]}).shape"
   ]
  },
  {
   "cell_type": "code",
   "execution_count": 28,
   "metadata": {},
   "outputs": [
    {
     "data": {
      "text/plain": [
       "{'zoneout_prob': 0.0,\n",
       " 'dropout_prob': 0.1,\n",
       " 'attention_type': 'location',\n",
       " 'attention_layer_size': 128,\n",
       " 'attention_bias': True,\n",
       " 'decoder_cell_units': 1024,\n",
       " 'decoder_cell_type': tensorflow.python.ops.rnn_cell_impl.LSTMCell,\n",
       " 'decoder_layers': 2,\n",
       " 'enable_prenet': True,\n",
       " 'prenet_layers': 2,\n",
       " 'prenet_units': 256,\n",
       " 'enable_postnet': True,\n",
       " 'postnet_keep_dropout_prob': 0.7,\n",
       " 'postnet_data_format': 'channels_last',\n",
       " 'postnet_conv_layers': [{'kernel_size': [5],\n",
       "   'stride': [1],\n",
       "   'num_channels': 512,\n",
       "   'padding': 'SAME',\n",
       "   'activation_fn': <function tensorflow.python.ops.gen_math_ops.tanh(x, name=None)>},\n",
       "  {'kernel_size': [5],\n",
       "   'stride': [1],\n",
       "   'num_channels': 512,\n",
       "   'padding': 'SAME',\n",
       "   'activation_fn': <function tensorflow.python.ops.gen_math_ops.tanh(x, name=None)>},\n",
       "  {'kernel_size': [5],\n",
       "   'stride': [1],\n",
       "   'num_channels': 512,\n",
       "   'padding': 'SAME',\n",
       "   'activation_fn': <function tensorflow.python.ops.gen_math_ops.tanh(x, name=None)>},\n",
       "  {'kernel_size': [5],\n",
       "   'stride': [1],\n",
       "   'num_channels': 512,\n",
       "   'padding': 'SAME',\n",
       "   'activation_fn': <function tensorflow.python.ops.gen_math_ops.tanh(x, name=None)>},\n",
       "  {'kernel_size': [5],\n",
       "   'stride': [1],\n",
       "   'num_channels': -1,\n",
       "   'padding': 'SAME',\n",
       "   'activation_fn': None}],\n",
       " 'mask_decoder_sequence': True,\n",
       " 'parallel_iterations': 32,\n",
       " 'dtype': tf.float32,\n",
       " 'regularizer': <function tensorflow.contrib.layers.python.layers.regularizers.l2_regularizer.<locals>.l2(weights)>,\n",
       " 'regularizer_params': {'scale': 1e-06},\n",
       " 'initializer': <function tensorflow.contrib.layers.python.layers.initializers.xavier_initializer(uniform=True, seed=None, dtype=tf.float32)>,\n",
       " 'num_audio_features': 80,\n",
       " 'prenet_dropout': 0.2}"
      ]
     },
     "execution_count": 28,
     "metadata": {},
     "output_type": "execute_result"
    }
   ],
   "source": [
    "model.decoder.params"
   ]
  },
  {
   "cell_type": "code",
   "execution_count": null,
   "metadata": {},
   "outputs": [],
   "source": []
  }
 ],
 "metadata": {
  "kernelspec": {
   "display_name": "Python 3",
   "language": "python",
   "name": "python3"
  },
  "language_info": {
   "codemirror_mode": {
    "name": "ipython",
    "version": 3
   },
   "file_extension": ".py",
   "mimetype": "text/x-python",
   "name": "python",
   "nbconvert_exporter": "python",
   "pygments_lexer": "ipython3",
   "version": "3.7.7"
  }
 },
 "nbformat": 4,
 "nbformat_minor": 4
}

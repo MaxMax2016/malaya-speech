{
 "cells": [
  {
   "cell_type": "code",
   "execution_count": 1,
   "metadata": {},
   "outputs": [],
   "source": [
    "import os\n",
    "\n",
    "os.environ['CUDA_VISIBLE_DEVICES'] = '1'"
   ]
  },
  {
   "cell_type": "code",
   "execution_count": 2,
   "metadata": {},
   "outputs": [],
   "source": [
    "import sys\n",
    "\n",
    "SOURCE_DIR = os.path.dirname(os.path.dirname(os.path.abspath(__name__)))\n",
    "sys.path.insert(0, SOURCE_DIR)"
   ]
  },
  {
   "cell_type": "code",
   "execution_count": 3,
   "metadata": {
    "scrolled": true
   },
   "outputs": [
    {
     "name": "stdout",
     "output_type": "stream",
     "text": [
      "WARNING:tensorflow:From /Users/huseinzolkepli/Documents/malaya-speech/malaya_speech/train/optimizer/__init__.py:35: The name tf.train.AdagradOptimizer is deprecated. Please use tf.compat.v1.train.AdagradOptimizer instead.\n",
      "\n",
      "WARNING:tensorflow:From /Users/huseinzolkepli/Documents/malaya-speech/malaya_speech/train/optimizer/__init__.py:36: The name tf.train.AdamOptimizer is deprecated. Please use tf.compat.v1.train.AdamOptimizer instead.\n",
      "\n",
      "WARNING:tensorflow:From /Users/huseinzolkepli/Documents/malaya-speech/malaya_speech/train/optimizer/__init__.py:37: The name tf.train.FtrlOptimizer is deprecated. Please use tf.compat.v1.train.FtrlOptimizer instead.\n",
      "\n",
      "WARNING:tensorflow:From /Users/huseinzolkepli/Documents/malaya-speech/malaya_speech/train/optimizer/__init__.py:39: The name tf.train.RMSPropOptimizer is deprecated. Please use tf.compat.v1.train.RMSPropOptimizer instead.\n",
      "\n",
      "WARNING:tensorflow:From /Users/huseinzolkepli/Documents/malaya-speech/malaya_speech/train/optimizer/__init__.py:40: The name tf.train.GradientDescentOptimizer is deprecated. Please use tf.compat.v1.train.GradientDescentOptimizer instead.\n",
      "\n",
      "WARNING:tensorflow:\n",
      "The TensorFlow contrib module will not be included in TensorFlow 2.0.\n",
      "For more information, please see:\n",
      "  * https://github.com/tensorflow/community/blob/master/rfcs/20180907-contrib-sunset.md\n",
      "  * https://github.com/tensorflow/addons\n",
      "  * https://github.com/tensorflow/io (for I/O related ops)\n",
      "If you depend on functionality not listed there, please file an issue.\n",
      "\n",
      "WARNING:tensorflow:From /Users/huseinzolkepli/Documents/malaya-speech/malaya_speech/train/model/openseq2seq/layer.py:6: The name tf.layers.Conv1D is deprecated. Please use tf.compat.v1.layers.Conv1D instead.\n",
      "\n",
      "WARNING:tensorflow:From /Users/huseinzolkepli/Documents/malaya-speech/malaya_speech/train/model/openseq2seq/attention.py:4: The name tf.layers.Layer is deprecated. Please use tf.compat.v1.layers.Layer instead.\n",
      "\n"
     ]
    }
   ],
   "source": [
    "import tensorflow as tf\n",
    "import malaya_speech\n",
    "import malaya_speech.train\n",
    "from malaya_speech.train.model import tacotron2_nvidia as tacotron2\n",
    "import numpy as np"
   ]
  },
  {
   "cell_type": "code",
   "execution_count": 4,
   "metadata": {},
   "outputs": [],
   "source": [
    "input_ids = tf.placeholder(tf.int32, [None, None])\n",
    "input_lengths = tf.placeholder(tf.int32, [None])\n",
    "mel_outputs = tf.placeholder(tf.float32, [None, None, 80])\n",
    "mel_lengths = tf.placeholder(tf.int32, [None])"
   ]
  },
  {
   "cell_type": "code",
   "execution_count": 5,
   "metadata": {
    "scrolled": true
   },
   "outputs": [
    {
     "name": "stdout",
     "output_type": "stream",
     "text": [
      "WARNING:tensorflow:From /Users/huseinzolkepli/Documents/malaya-speech/malaya_speech/train/model/openseq2seq/abstract.py:147: The name tf.variable_scope is deprecated. Please use tf.compat.v1.variable_scope instead.\n",
      "\n",
      "WARNING:tensorflow:From /Users/huseinzolkepli/Documents/malaya-speech/malaya_speech/train/model/tacotron2_nvidia/encoder.py:60: The name tf.get_variable is deprecated. Please use tf.compat.v1.get_variable instead.\n",
      "\n",
      "WARNING:tensorflow:From /Users/huseinzolkepli/Documents/malaya-speech/malaya_speech/train/model/openseq2seq/layer.py:340: conv1d (from tensorflow.python.layers.convolutional) is deprecated and will be removed in a future version.\n",
      "Instructions for updating:\n",
      "Use `tf.keras.layers.Conv1D` instead.\n",
      "WARNING:tensorflow:From /Library/Frameworks/Python.framework/Versions/3.7/lib/python3.7/site-packages/tensorflow_core/python/layers/convolutional.py:218: Layer.apply (from tensorflow.python.keras.engine.base_layer) is deprecated and will be removed in a future version.\n",
      "Instructions for updating:\n",
      "Please use `layer.__call__` method instead.\n",
      "WARNING:tensorflow:From /Users/huseinzolkepli/Documents/malaya-speech/malaya_speech/train/model/openseq2seq/layer.py:358: batch_normalization (from tensorflow.python.layers.normalization) is deprecated and will be removed in a future version.\n",
      "Instructions for updating:\n",
      "Use keras.layers.BatchNormalization instead.  In particular, `tf.control_dependencies(tf.GraphKeys.UPDATE_OPS)` should not be used (consult the `tf.keras.layers.batch_normalization` documentation).\n",
      "WARNING:tensorflow:From /Users/huseinzolkepli/Documents/malaya-speech/malaya_speech/train/model/tacotron2_nvidia/encoder.py:129: dropout (from tensorflow.python.layers.core) is deprecated and will be removed in a future version.\n",
      "Instructions for updating:\n",
      "Use keras.layers.dropout instead.\n",
      "WARNING:tensorflow:From /Users/huseinzolkepli/Documents/malaya-speech/malaya_speech/train/model/openseq2seq/rnn.py:111: LSTMCell.__init__ (from tensorflow.python.ops.rnn_cell_impl) is deprecated and will be removed in a future version.\n",
      "Instructions for updating:\n",
      "This class is equivalent as tf.keras.layers.LSTMCell, and will be replaced by that in Tensorflow 2.0.\n",
      "WARNING:tensorflow:From /Users/huseinzolkepli/Documents/malaya-speech/malaya_speech/train/model/tacotron2_nvidia/encoder.py:205: MultiRNNCell.__init__ (from tensorflow.python.ops.rnn_cell_impl) is deprecated and will be removed in a future version.\n",
      "Instructions for updating:\n",
      "This class is equivalent as tf.keras.layers.StackedRNNCells, and will be replaced by that in Tensorflow 2.0.\n",
      "WARNING:tensorflow:From /Users/huseinzolkepli/Documents/malaya-speech/malaya_speech/train/model/tacotron2_nvidia/encoder.py:236: bidirectional_dynamic_rnn (from tensorflow.python.ops.rnn) is deprecated and will be removed in a future version.\n",
      "Instructions for updating:\n",
      "Please use `keras.layers.Bidirectional(keras.layers.RNN(cell))`, which is equivalent to this API\n",
      "WARNING:tensorflow:From /Library/Frameworks/Python.framework/Versions/3.7/lib/python3.7/site-packages/tensorflow_core/python/ops/rnn.py:464: dynamic_rnn (from tensorflow.python.ops.rnn) is deprecated and will be removed in a future version.\n",
      "Instructions for updating:\n",
      "Please use `keras.layers.RNN(cell)`, which is equivalent to this API\n",
      "WARNING:tensorflow:From /Library/Frameworks/Python.framework/Versions/3.7/lib/python3.7/site-packages/tensorflow_core/python/ops/rnn_cell_impl.py:958: Layer.add_variable (from tensorflow.python.keras.engine.base_layer) is deprecated and will be removed in a future version.\n",
      "Instructions for updating:\n",
      "Please use `layer.add_weight` method instead.\n",
      "WARNING:tensorflow:From /Library/Frameworks/Python.framework/Versions/3.7/lib/python3.7/site-packages/tensorflow_core/python/ops/rnn_cell_impl.py:962: calling Zeros.__init__ (from tensorflow.python.ops.init_ops) with dtype is deprecated and will be removed in a future version.\n",
      "Instructions for updating:\n",
      "Call initializer instance with the dtype argument instead of passing it to the constructor\n",
      "WARNING:tensorflow:From /Library/Frameworks/Python.framework/Versions/3.7/lib/python3.7/site-packages/tensorflow_core/python/ops/rnn.py:244: where (from tensorflow.python.ops.array_ops) is deprecated and will be removed in a future version.\n",
      "Instructions for updating:\n",
      "Use tf.where in 2.0, which has the same broadcast rule as np.where\n",
      "WARNING:tensorflow:From /Users/huseinzolkepli/Documents/malaya-speech/malaya_speech/train/model/tacotron2_nvidia/decoder.py:475: The name tf.layers.Dense is deprecated. Please use tf.compat.v1.layers.Dense instead.\n",
      "\n",
      "WARNING:tensorflow:From /Users/huseinzolkepli/Documents/malaya-speech/malaya_speech/train/model/tacotron2_nvidia/decoder.py:392: The name tf.get_variable_scope is deprecated. Please use tf.compat.v1.get_variable_scope instead.\n",
      "\n"
     ]
    }
   ],
   "source": [
    "model = tacotron2.Model([input_ids, input_lengths], [mel_outputs, mel_lengths], 20)"
   ]
  },
  {
   "cell_type": "code",
   "execution_count": 6,
   "metadata": {},
   "outputs": [
    {
     "data": {
      "text/plain": [
       "{'outputs': <tf.Tensor 'tacotron2_encoder/concat:0' shape=(?, ?, 512) dtype=float32>,\n",
       " 'src_length': <tf.Tensor 'tacotron2_encoder/floordiv_2:0' shape=(?,) dtype=int32>}"
      ]
     },
     "execution_count": 6,
     "metadata": {},
     "output_type": "execute_result"
    }
   ],
   "source": [
    "model.encoder_logits"
   ]
  },
  {
   "cell_type": "code",
   "execution_count": 7,
   "metadata": {},
   "outputs": [
    {
     "data": {
      "text/plain": [
       "{'outputs': [<tf.Tensor 'tacotron_2_decoder/decoder_1/output_proj/BiasAdd:0' shape=(?, ?, 80) dtype=float32>,\n",
       "  <tf.Tensor 'tacotron_2_decoder/add:0' shape=(?, ?, 80) dtype=float32>,\n",
       "  <tf.Tensor 'tacotron_2_decoder/transpose_1:0' shape=(?, ?, ?) dtype=float32>,\n",
       "  <tf.Tensor 'tacotron_2_decoder/Sigmoid:0' shape=(?, ?, 1) dtype=float32>,\n",
       "  <tf.Tensor 'tacotron_2_decoder/decoder/while/Exit_15:0' shape=(?,) dtype=int32>,\n",
       "  <tf.Tensor 'tacotron_2_decoder/zeros:0' shape=(?, ?, ?) dtype=float32>],\n",
       " 'stop_token_prediction': <tf.Tensor 'tacotron_2_decoder/decoder_1/stop_token_proj/BiasAdd:0' shape=(?, ?, 1) dtype=float32>}"
      ]
     },
     "execution_count": 7,
     "metadata": {},
     "output_type": "execute_result"
    }
   ],
   "source": [
    "model.decoder_logits"
   ]
  },
  {
   "cell_type": "code",
   "execution_count": 8,
   "metadata": {},
   "outputs": [
    {
     "data": {
      "text/plain": [
       "<tf.Tensor 'ExpandDims:0' shape=(1, ?, ?) dtype=float32>"
      ]
     },
     "execution_count": 8,
     "metadata": {},
     "output_type": "execute_result"
    }
   ],
   "source": [
    "guided = tacotron2.generate_guided_attention(mel_lengths[0], input_lengths[0])\n",
    "guided = tf.expand_dims(guided, 0)\n",
    "guided"
   ]
  },
  {
   "cell_type": "code",
   "execution_count": 9,
   "metadata": {},
   "outputs": [],
   "source": [
    "from malaya_speech.train.loss import calculate_2d_loss, calculate_3d_loss"
   ]
  },
  {
   "cell_type": "code",
   "execution_count": 10,
   "metadata": {},
   "outputs": [],
   "source": [
    "r = model.decoder_logits['outputs']\n",
    "decoder_output, post_mel_outputs, alignment_histories, stop_token_predictions, _, _ = r\n",
    "stop_token_predictions = stop_token_predictions[:,:,0]"
   ]
  },
  {
   "cell_type": "code",
   "execution_count": 11,
   "metadata": {},
   "outputs": [],
   "source": [
    "binary_crossentropy = tf.keras.losses.BinaryCrossentropy(\n",
    "    from_logits=True\n",
    ")\n",
    "mse = tf.keras.losses.MeanSquaredError()\n",
    "mae = tf.keras.losses.MeanAbsoluteError()\n",
    "mel_loss_before = calculate_3d_loss(\n",
    "    mel_outputs, decoder_output, loss_fn=mae\n",
    ")\n",
    "mel_loss_after = calculate_3d_loss(\n",
    "    mel_outputs, post_mel_outputs, loss_fn=mae\n",
    ")\n",
    "max_mel_length = tf.reduce_max(mel_lengths)\n",
    "stop_gts = tf.expand_dims(\n",
    "    tf.range(tf.reduce_max(max_mel_length), dtype=tf.int32), 0\n",
    ")\n",
    "stop_gts = tf.tile(\n",
    "    stop_gts, [tf.shape(mel_lengths)[0], 1]\n",
    ")\n",
    "stop_gts = tf.cast(\n",
    "    tf.math.greater_equal(stop_gts, tf.expand_dims(mel_lengths, 1)),\n",
    "    tf.float32,\n",
    ")\n",
    "stop_token_loss = calculate_2d_loss(\n",
    "    stop_gts, stop_token_predictions, loss_fn=binary_crossentropy\n",
    ")\n",
    "attention_masks = tf.cast(\n",
    "    tf.math.not_equal(guided, -1.0), tf.float32\n",
    ")\n",
    "loss_att = tf.reduce_sum(\n",
    "    tf.abs(alignment_histories * guided) * attention_masks,\n",
    "    axis=[1, 2],\n",
    ")\n",
    "loss_att /= tf.reduce_sum(attention_masks, axis=[1, 2])"
   ]
  },
  {
   "cell_type": "code",
   "execution_count": 12,
   "metadata": {},
   "outputs": [
    {
     "data": {
      "text/plain": [
       "<tf.Tensor 'truediv_3:0' shape=(?,) dtype=float32>"
      ]
     },
     "execution_count": 12,
     "metadata": {},
     "output_type": "execute_result"
    }
   ],
   "source": [
    "loss_att"
   ]
  },
  {
   "cell_type": "code",
   "execution_count": 13,
   "metadata": {},
   "outputs": [],
   "source": [
    "loss = stop_token_loss + mel_loss_before + mel_loss_after + loss_att"
   ]
  },
  {
   "cell_type": "code",
   "execution_count": 14,
   "metadata": {},
   "outputs": [
    {
     "data": {
      "text/plain": [
       "(<tf.Tensor 'binary_crossentropy/weighted_loss/value:0' shape=() dtype=float32>,\n",
       " <tf.Tensor 'mean_absolute_error/weighted_loss/value:0' shape=() dtype=float32>,\n",
       " <tf.Tensor 'mean_absolute_error_1/weighted_loss/value:0' shape=() dtype=float32>,\n",
       " <tf.Tensor 'truediv_3:0' shape=(?,) dtype=float32>)"
      ]
     },
     "execution_count": 14,
     "metadata": {},
     "output_type": "execute_result"
    }
   ],
   "source": [
    "stop_token_loss, mel_loss_before, mel_loss_after, loss_att"
   ]
  },
  {
   "cell_type": "code",
   "execution_count": 15,
   "metadata": {},
   "outputs": [],
   "source": [
    "# r = model.inference(input_ids, input_lengths, speaker_ids)\n",
    "# r"
   ]
  },
  {
   "cell_type": "code",
   "execution_count": 16,
   "metadata": {},
   "outputs": [],
   "source": [
    "sess = tf.InteractiveSession()\n",
    "sess.run(tf.global_variables_initializer())"
   ]
  },
  {
   "cell_type": "code",
   "execution_count": 17,
   "metadata": {},
   "outputs": [
    {
     "data": {
      "text/plain": [
       "(1, 50, 80)"
      ]
     },
     "execution_count": 17,
     "metadata": {},
     "output_type": "execute_result"
    }
   ],
   "source": [
    "sess.run(decoder_output, feed_dict = {input_ids: [[1, 2, 3, 4, 5, 6, 7, 8, 9]],\n",
    "                        input_lengths: [9],\n",
    "                        mel_outputs: np.random.normal(size=(1, 50, 80)).astype(np.float32),\n",
    "                        mel_lengths: [50]}).shape"
   ]
  },
  {
   "cell_type": "code",
   "execution_count": 18,
   "metadata": {},
   "outputs": [
    {
     "data": {
      "text/plain": [
       "(1, 9, 50)"
      ]
     },
     "execution_count": 18,
     "metadata": {},
     "output_type": "execute_result"
    }
   ],
   "source": [
    "sess.run(alignment_histories, feed_dict = {input_ids: [[1, 2, 3, 4, 5, 6, 7, 8, 9]],\n",
    "                        input_lengths: [9],\n",
    "                        mel_outputs: np.random.normal(size=(1, 50, 80)).astype(np.float32),\n",
    "                        mel_lengths: [50]}).shape"
   ]
  },
  {
   "cell_type": "code",
   "execution_count": 19,
   "metadata": {},
   "outputs": [
    {
     "data": {
      "text/plain": [
       "[array([[[-0.07404951, -0.07576215,  0.05768657, ...,  0.19319254,\n",
       "           0.09480648, -0.05262316],\n",
       "         [-0.08680883, -0.08005451,  0.04620728, ...,  0.19497743,\n",
       "           0.09577974, -0.06322172],\n",
       "         [-0.10269383, -0.06106855,  0.05190963, ...,  0.20084828,\n",
       "           0.10037264, -0.07901663],\n",
       "         ...,\n",
       "         [-0.07012279, -0.0481539 , -0.08297201, ...,  0.32089975,\n",
       "          -0.06296035, -0.10910055],\n",
       "         [-0.14776605, -0.04074803, -0.11973462, ...,  0.3040336 ,\n",
       "          -0.03534711, -0.0999113 ],\n",
       "         [-0.09117725, -0.05362306, -0.06122065, ...,  0.29135406,\n",
       "           0.00580565, -0.12459618]]], dtype=float32),\n",
       " array([[[-2.0291548 , -0.07576215,  0.05768657, ...,  0.19319254,\n",
       "           0.09480648, -0.5988778 ],\n",
       "         [-0.08680883, -0.08005451,  0.04620728, ..., -2.7248313 ,\n",
       "           0.09577974,  0.08272941],\n",
       "         [-0.10269383, -0.06106855,  0.05190963, ...,  0.02408612,\n",
       "           1.4484916 , -0.07901663],\n",
       "         ...,\n",
       "         [-0.8116462 ,  5.507717  , -0.08297201, ..., -0.37842622,\n",
       "          -0.5749321 , -0.30729195],\n",
       "         [-2.059522  , -0.04074803,  0.24673876, ...,  0.9740701 ,\n",
       "           1.548256  , -3.627761  ],\n",
       "         [-0.09117725, -3.567983  , -0.0864576 , ..., -2.417481  ,\n",
       "           0.00580565, -0.12459618]]], dtype=float32),\n",
       " array([[[0.104724  , 0.10357071, 0.10248868, 0.10141437, 0.10034663,\n",
       "          0.09949502, 0.09853484, 0.0974775 , 0.09654824, 0.09538946,\n",
       "          0.09428941, 0.09334509, 0.09226771, 0.09131347, 0.09040881,\n",
       "          0.08932378, 0.08878478, 0.08798451, 0.08669844, 0.08596178,\n",
       "          0.08511516, 0.08419525, 0.08303306, 0.08205356, 0.08149847,\n",
       "          0.0803872 , 0.07908802, 0.07778199, 0.07743081, 0.07620377,\n",
       "          0.07564539, 0.07415878, 0.07349579, 0.07309324, 0.07151639,\n",
       "          0.07034801, 0.0699487 , 0.06896131, 0.06849234, 0.06753606,\n",
       "          0.06694615, 0.06578465, 0.06548654, 0.06390901, 0.0632412 ,\n",
       "          0.06247166, 0.06190571, 0.06088046, 0.06130672, 0.0600829 ],\n",
       "         [0.07809503, 0.07763172, 0.07720032, 0.07690383, 0.07643484,\n",
       "          0.07619318, 0.07567845, 0.07527187, 0.07509938, 0.07488895,\n",
       "          0.07418582, 0.07390469, 0.07343091, 0.07330122, 0.07292305,\n",
       "          0.0725669 , 0.07252125, 0.07227483, 0.07187641, 0.07206964,\n",
       "          0.0717951 , 0.07171151, 0.07164425, 0.07155267, 0.0717988 ,\n",
       "          0.0714247 , 0.07089309, 0.07147086, 0.07150498, 0.07076985,\n",
       "          0.07101563, 0.07082411, 0.07044857, 0.07138693, 0.07059952,\n",
       "          0.07084307, 0.07151052, 0.07102612, 0.07128313, 0.0713734 ,\n",
       "          0.07191136, 0.07178466, 0.0717779 , 0.07188219, 0.07207189,\n",
       "          0.07264174, 0.07237245, 0.07230306, 0.07339839, 0.07336969],\n",
       "         [0.12875786, 0.12803818, 0.1273085 , 0.1267516 , 0.12634349,\n",
       "          0.12554727, 0.12481248, 0.12411821, 0.12316105, 0.12259553,\n",
       "          0.12145931, 0.12065635, 0.11951705, 0.11864916, 0.11796202,\n",
       "          0.11682165, 0.11612159, 0.11551049, 0.11435375, 0.11403091,\n",
       "          0.11281358, 0.11129629, 0.11132385, 0.11091565, 0.1089785 ,\n",
       "          0.10838585, 0.10756385, 0.10699548, 0.10629304, 0.10496774,\n",
       "          0.10472507, 0.10326685, 0.10182702, 0.10152448, 0.09951049,\n",
       "          0.09917161, 0.0997697 , 0.09635119, 0.09609638, 0.09454307,\n",
       "          0.09451851, 0.09409383, 0.09154381, 0.0900943 , 0.09021447,\n",
       "          0.0895237 , 0.08970224, 0.08853496, 0.08862904, 0.08788147],\n",
       "         [0.09072322, 0.09108527, 0.09146435, 0.09181217, 0.09235842,\n",
       "          0.09270835, 0.09287643, 0.09344433, 0.09389651, 0.09467515,\n",
       "          0.09471791, 0.09524821, 0.09589209, 0.09598825, 0.09645453,\n",
       "          0.09648693, 0.09669907, 0.09749515, 0.09739067, 0.09815964,\n",
       "          0.09829003, 0.09863455, 0.09912406, 0.09960689, 0.09980561,\n",
       "          0.09997438, 0.10001243, 0.10152953, 0.10109048, 0.10115542,\n",
       "          0.1018867 , 0.10248555, 0.10237042, 0.10287814, 0.10295655,\n",
       "          0.10389561, 0.10477804, 0.10432883, 0.10441971, 0.10399098,\n",
       "          0.10482683, 0.10604223, 0.10559035, 0.10464169, 0.10531642,\n",
       "          0.10625442, 0.10642386, 0.10682987, 0.10807069, 0.10808571],\n",
       "         [0.09337817, 0.09368417, 0.09386424, 0.09409114, 0.09421559,\n",
       "          0.09450631, 0.09473482, 0.09489596, 0.09516801, 0.09561838,\n",
       "          0.09584854, 0.09585234, 0.0962416 , 0.09592726, 0.09681398,\n",
       "          0.09710445, 0.09670614, 0.09754249, 0.09716688, 0.09742177,\n",
       "          0.09834461, 0.09828991, 0.09879045, 0.09859163, 0.09885792,\n",
       "          0.09917441, 0.09891631, 0.09924624, 0.10004892, 0.10001902,\n",
       "          0.10077225, 0.1006165 , 0.10115464, 0.1007298 , 0.10088366,\n",
       "          0.10130326, 0.10089239, 0.10115095, 0.10144793, 0.10197601,\n",
       "          0.10225991, 0.1020559 , 0.1014232 , 0.10236648, 0.10167489,\n",
       "          0.10270483, 0.10234995, 0.10253948, 0.10281185, 0.10289701],\n",
       "         [0.09642988, 0.09708107, 0.09753291, 0.09809041, 0.09859035,\n",
       "          0.09924477, 0.0995843 , 0.10000075, 0.10051013, 0.10115504,\n",
       "          0.10146867, 0.10210609, 0.10243355, 0.10265594, 0.10285769,\n",
       "          0.10361251, 0.10398489, 0.1041888 , 0.10476159, 0.1045912 ,\n",
       "          0.10481985, 0.10521274, 0.10447107, 0.10550252, 0.10494294,\n",
       "          0.10514286, 0.10539178, 0.10540865, 0.10427687, 0.10503978,\n",
       "          0.10540707, 0.10615486, 0.10567844, 0.10501482, 0.10620113,\n",
       "          0.1052399 , 0.10462992, 0.10608815, 0.10543637, 0.10475249,\n",
       "          0.10442185, 0.10427447, 0.10506993, 0.10461423, 0.1025947 ,\n",
       "          0.10234042, 0.10296317, 0.10201371, 0.1018845 , 0.10214788],\n",
       "         [0.12927558, 0.13056567, 0.13191228, 0.13317952, 0.13426274,\n",
       "          0.13580804, 0.1372143 , 0.13837126, 0.13997746, 0.14141811,\n",
       "          0.14298756, 0.14441338, 0.14635456, 0.147751  , 0.14883341,\n",
       "          0.14986353, 0.15125912, 0.15230452, 0.15396458, 0.15545279,\n",
       "          0.1564619 , 0.15830669, 0.1596277 , 0.16015632, 0.16263147,\n",
       "          0.16471288, 0.16751097, 0.16801664, 0.16913278, 0.17158063,\n",
       "          0.17185873, 0.17277797, 0.17629936, 0.17652494, 0.17951588,\n",
       "          0.18062094, 0.17979391, 0.18198839, 0.18381828, 0.18604007,\n",
       "          0.18685485, 0.18814561, 0.1875874 , 0.19379908, 0.19517857,\n",
       "          0.19436033, 0.19453414, 0.1981534 , 0.1964198 , 0.19907005],\n",
       "         [0.1099083 , 0.10945963, 0.10900145, 0.10850049, 0.10812543,\n",
       "          0.10725736, 0.10689352, 0.10641075, 0.10561898, 0.10473514,\n",
       "          0.10449746, 0.10377491, 0.10310639, 0.10292663, 0.1019912 ,\n",
       "          0.10136734, 0.1010115 , 0.10017695, 0.10001913, 0.09878322,\n",
       "          0.09814605, 0.09807707, 0.09680629, 0.09658105, 0.0957813 ,\n",
       "          0.09508806, 0.09502637, 0.09388875, 0.09234613, 0.09265704,\n",
       "          0.0909    , 0.09120036, 0.0901591 , 0.08994389, 0.0897518 ,\n",
       "          0.0890709 , 0.08878702, 0.08813444, 0.08773067, 0.08661421,\n",
       "          0.08530835, 0.08579865, 0.08606754, 0.08537365, 0.08482013,\n",
       "          0.08405551, 0.08309215, 0.08249918, 0.08152226, 0.08185516],\n",
       "         [0.16870798, 0.16888349, 0.16922724, 0.16925645, 0.1693225 ,\n",
       "          0.16923971, 0.16967079, 0.17000939, 0.17002025, 0.16952422,\n",
       "          0.17054534, 0.17069896, 0.17075619, 0.171487  , 0.17175528,\n",
       "          0.172853  , 0.17291166, 0.1725222 , 0.1737685 , 0.17352904,\n",
       "          0.17421377, 0.17427598, 0.17517918, 0.17503966, 0.17570502,\n",
       "          0.17570968, 0.17559713, 0.1756618 , 0.1778759 , 0.17760676,\n",
       "          0.17778914, 0.17851505, 0.1785666 , 0.17890383, 0.17906448,\n",
       "          0.17950672, 0.17988986, 0.18197064, 0.18127526, 0.1831737 ,\n",
       "          0.18295226, 0.18201995, 0.18545333, 0.18331932, 0.18488768,\n",
       "          0.1856475 , 0.18665636, 0.18624587, 0.18595678, 0.18461017]]],\n",
       "       dtype=float32),\n",
       " array([[[0.44975352],\n",
       "         [0.45107153],\n",
       "         [0.45971304],\n",
       "         [0.4561718 ],\n",
       "         [0.4568847 ],\n",
       "         [0.44554684],\n",
       "         [0.4600955 ],\n",
       "         [0.44858813],\n",
       "         [0.43877208],\n",
       "         [0.44594663],\n",
       "         [0.43492344],\n",
       "         [0.43182218],\n",
       "         [0.43852913],\n",
       "         [0.42688295],\n",
       "         [0.41618052],\n",
       "         [0.44142583],\n",
       "         [0.42867982],\n",
       "         [0.43123507],\n",
       "         [0.41234475],\n",
       "         [0.44294727],\n",
       "         [0.44818586],\n",
       "         [0.41700608],\n",
       "         [0.44080898],\n",
       "         [0.43080688],\n",
       "         [0.43326062],\n",
       "         [0.44042417],\n",
       "         [0.42689204],\n",
       "         [0.43999857],\n",
       "         [0.44103053],\n",
       "         [0.43620798],\n",
       "         [0.40104878],\n",
       "         [0.42066216],\n",
       "         [0.43178663],\n",
       "         [0.42083755],\n",
       "         [0.42468503],\n",
       "         [0.43256018],\n",
       "         [0.4201968 ],\n",
       "         [0.42256892],\n",
       "         [0.43598375],\n",
       "         [0.43312716],\n",
       "         [0.4358756 ],\n",
       "         [0.42154914],\n",
       "         [0.4510721 ],\n",
       "         [0.46460944],\n",
       "         [0.4400963 ],\n",
       "         [0.4428688 ],\n",
       "         [0.4433905 ],\n",
       "         [0.4517562 ],\n",
       "         [0.4395572 ],\n",
       "         [0.45271274]]], dtype=float32),\n",
       " array([50], dtype=int32),\n",
       " array([[[0.]]], dtype=float32)]"
      ]
     },
     "execution_count": 19,
     "metadata": {},
     "output_type": "execute_result"
    }
   ],
   "source": [
    "sess.run(r, feed_dict = {input_ids: [[1, 2, 3, 4, 5, 6, 7, 8, 9]],\n",
    "                        input_lengths: [9],\n",
    "                        mel_outputs: np.random.normal(size=(1, 50, 80)).astype(np.float32),\n",
    "                        mel_lengths: [50]})"
   ]
  },
  {
   "cell_type": "code",
   "execution_count": 20,
   "metadata": {},
   "outputs": [
    {
     "data": {
      "text/plain": [
       "array([3.1633177], dtype=float32)"
      ]
     },
     "execution_count": 20,
     "metadata": {},
     "output_type": "execute_result"
    }
   ],
   "source": [
    "sess.run(loss, feed_dict = {input_ids: [[1, 2, 3, 4, 5, 6, 7, 8, 9]],\n",
    "                        input_lengths: [9],\n",
    "                        mel_outputs: np.random.normal(size=(1, 50, 80)).astype(np.float32),\n",
    "                        mel_lengths: [50]})"
   ]
  },
  {
   "cell_type": "code",
   "execution_count": 22,
   "metadata": {},
   "outputs": [
    {
     "data": {
      "text/plain": [
       "array([3.1496131, 3.1502788], dtype=float32)"
      ]
     },
     "execution_count": 22,
     "metadata": {},
     "output_type": "execute_result"
    }
   ],
   "source": [
    "sess.run(loss, feed_dict = {input_ids: [[1, 2, 3, 4, 5, 6, 7, 8, 9],\n",
    "                                       [1, 2, 3, 4, 5, 6, 7, 8, 9]],\n",
    "                        input_lengths: [9, 9],\n",
    "                        mel_outputs: np.random.normal(size=(2, 50, 80)).astype(np.float32),\n",
    "                        mel_lengths: [50, 50]})"
   ]
  },
  {
   "cell_type": "code",
   "execution_count": 24,
   "metadata": {
    "scrolled": true
   },
   "outputs": [
    {
     "data": {
      "text/plain": [
       "(1, 9, 50)"
      ]
     },
     "execution_count": 24,
     "metadata": {},
     "output_type": "execute_result"
    }
   ],
   "source": [
    "sess.run(guided, feed_dict = {input_ids: [[1, 2, 3, 4, 5, 6, 7, 8, 9]],\n",
    "                        input_lengths: [9],\n",
    "                        mel_outputs: np.random.normal(size=(1, 50, 80)).astype(np.float32),\n",
    "                        mel_lengths: [50]}).shape"
   ]
  }
 ],
 "metadata": {
  "kernelspec": {
   "display_name": "Python 3",
   "language": "python",
   "name": "python3"
  },
  "language_info": {
   "codemirror_mode": {
    "name": "ipython",
    "version": 3
   },
   "file_extension": ".py",
   "mimetype": "text/x-python",
   "name": "python",
   "nbconvert_exporter": "python",
   "pygments_lexer": "ipython3",
   "version": "3.7.7"
  }
 },
 "nbformat": 4,
 "nbformat_minor": 4
}

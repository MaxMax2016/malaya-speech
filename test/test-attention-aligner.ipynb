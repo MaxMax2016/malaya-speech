{
 "cells": [
  {
   "cell_type": "code",
   "execution_count": 1,
   "metadata": {},
   "outputs": [],
   "source": [
    "import os\n",
    "import sys\n",
    "\n",
    "SOURCE_DIR = os.path.dirname(os.path.dirname(os.path.abspath(__name__)))\n",
    "sys.path.insert(0, SOURCE_DIR)"
   ]
  },
  {
   "cell_type": "code",
   "execution_count": 2,
   "metadata": {},
   "outputs": [
    {
     "name": "stdout",
     "output_type": "stream",
     "text": [
      "WARNING:tensorflow:From /Users/huseinzolkepli/Documents/malaya-speech/malaya_speech/train/optimizer/__init__.py:39: The name tf.train.AdagradOptimizer is deprecated. Please use tf.compat.v1.train.AdagradOptimizer instead.\n",
      "\n",
      "WARNING:tensorflow:From /Users/huseinzolkepli/Documents/malaya-speech/malaya_speech/train/optimizer/__init__.py:40: The name tf.train.AdamOptimizer is deprecated. Please use tf.compat.v1.train.AdamOptimizer instead.\n",
      "\n",
      "WARNING:tensorflow:From /Users/huseinzolkepli/Documents/malaya-speech/malaya_speech/train/optimizer/__init__.py:41: The name tf.train.FtrlOptimizer is deprecated. Please use tf.compat.v1.train.FtrlOptimizer instead.\n",
      "\n",
      "WARNING:tensorflow:From /Users/huseinzolkepli/Documents/malaya-speech/malaya_speech/train/optimizer/__init__.py:43: The name tf.train.RMSPropOptimizer is deprecated. Please use tf.compat.v1.train.RMSPropOptimizer instead.\n",
      "\n",
      "WARNING:tensorflow:From /Users/huseinzolkepli/Documents/malaya-speech/malaya_speech/train/optimizer/__init__.py:44: The name tf.train.GradientDescentOptimizer is deprecated. Please use tf.compat.v1.train.GradientDescentOptimizer instead.\n",
      "\n",
      "WARNING:tensorflow:\n",
      "The TensorFlow contrib module will not be included in TensorFlow 2.0.\n",
      "For more information, please see:\n",
      "  * https://github.com/tensorflow/community/blob/master/rfcs/20180907-contrib-sunset.md\n",
      "  * https://github.com/tensorflow/addons\n",
      "  * https://github.com/tensorflow/io (for I/O related ops)\n",
      "If you depend on functionality not listed there, please file an issue.\n",
      "\n"
     ]
    }
   ],
   "source": [
    "from malaya_speech.train.model import aligner, fastvc, fastspeech\n",
    "import malaya_speech\n",
    "import tensorflow as tf\n",
    "import matplotlib.pyplot as plt"
   ]
  },
  {
   "cell_type": "code",
   "execution_count": 3,
   "metadata": {},
   "outputs": [
    {
     "data": {
      "text/plain": [
       "((1, 100, 50), 4.968e-41, 0.6666667)"
      ]
     },
     "execution_count": 3,
     "metadata": {},
     "output_type": "execute_result"
    }
   ],
   "source": [
    "from scipy.stats import betabinom\n",
    "import numpy as np\n",
    "\n",
    "def beta_binomial_prior_distribution(phoneme_count, mel_count, scaling_factor=1.0):\n",
    "    x = np.arange(0, phoneme_count)\n",
    "    mel_text_probs = []\n",
    "    for i in range(1, mel_count + 1):\n",
    "        a, b = scaling_factor * i, scaling_factor * (mel_count + 1 - i)\n",
    "        mel_i_prob = betabinom(phoneme_count, a, b).pmf(x)\n",
    "        mel_text_probs.append(mel_i_prob)\n",
    "    return np.array(mel_text_probs)\n",
    "\n",
    "attn_prior = np.expand_dims(beta_binomial_prior_distribution(50, 100), 0).astype(np.float32)\n",
    "attn_prior.shape, attn_prior.min(), attn_prior.max()"
   ]
  },
  {
   "cell_type": "code",
   "execution_count": 4,
   "metadata": {},
   "outputs": [],
   "source": [
    "i = tf.placeholder(tf.int32, [None, None])\n",
    "lens = tf.placeholder(tf.int32, [None])\n",
    "mel = tf.placeholder(tf.float32, [None, None, 80])\n",
    "mel_lengths = tf.placeholder(tf.int32, [None])\n",
    "prior = tf.placeholder(tf.float32, [None, None, None])"
   ]
  },
  {
   "cell_type": "code",
   "execution_count": 5,
   "metadata": {},
   "outputs": [],
   "source": [
    "config = malaya_speech.config.fastspeech_config\n",
    "config = fastspeech.Config(vocab_size = 1, **config)"
   ]
  },
  {
   "cell_type": "code",
   "execution_count": 6,
   "metadata": {
    "scrolled": true
   },
   "outputs": [
    {
     "name": "stdout",
     "output_type": "stream",
     "text": [
      "WARNING:tensorflow:From /Users/huseinzolkepli/Documents/malaya-speech/malaya_speech/train/model/fastspeech/layer.py:11: The name tf.keras.initializers.TruncatedNormal is deprecated. Please use tf.compat.v1.keras.initializers.TruncatedNormal instead.\n",
      "\n",
      "WARNING:tensorflow:From /Library/Frameworks/Python.framework/Versions/3.7/lib/python3.7/site-packages/tensorflow_core/python/keras/initializers.py:94: calling TruncatedNormal.__init__ (from tensorflow.python.ops.init_ops) with dtype is deprecated and will be removed in a future version.\n",
      "Instructions for updating:\n",
      "Call initializer instance with the dtype argument instead of passing it to the constructor\n"
     ]
    }
   ],
   "source": [
    "encoder_mel = fastvc.Decoder(config.decoder_self_attention_params, use_position_embedding=True)"
   ]
  },
  {
   "cell_type": "code",
   "execution_count": 7,
   "metadata": {},
   "outputs": [],
   "source": [
    "max_length = tf.cast(tf.reduce_max(mel_lengths), tf.int32)\n",
    "attention_mask = tf.sequence_mask(\n",
    "    lengths=mel_lengths, maxlen=max_length, dtype=tf.float32\n",
    ")\n",
    "attention_mask.set_shape((None, None))"
   ]
  },
  {
   "cell_type": "code",
   "execution_count": 8,
   "metadata": {},
   "outputs": [],
   "source": [
    "denser = tf.keras.layers.Dense(\n",
    "    units=config.decoder_self_attention_params.hidden_size, dtype=tf.float32, \n",
    "    name='mel_before'\n",
    ")"
   ]
  },
  {
   "cell_type": "code",
   "execution_count": 9,
   "metadata": {},
   "outputs": [
    {
     "name": "stdout",
     "output_type": "stream",
     "text": [
      "WARNING:tensorflow:From /Library/Frameworks/Python.framework/Versions/3.7/lib/python3.7/site-packages/tensorflow_core/python/ops/resource_variable_ops.py:1630: calling BaseResourceVariable.__init__ (from tensorflow.python.ops.resource_variable_ops) with constraint is deprecated and will be removed in a future version.\n",
      "Instructions for updating:\n",
      "If using Keras pass *_constraint arguments to layers.\n"
     ]
    },
    {
     "data": {
      "text/plain": [
       "<tf.Tensor 'Decoder/encoder/layer_._3/mul:0' shape=(?, ?, 384) dtype=float32>"
      ]
     },
     "execution_count": 9,
     "metadata": {},
     "output_type": "execute_result"
    }
   ],
   "source": [
    "mel_ = encoder_mel(denser(mel), attention_mask)\n",
    "mel_"
   ]
  },
  {
   "cell_type": "code",
   "execution_count": 10,
   "metadata": {},
   "outputs": [
    {
     "name": "stdout",
     "output_type": "stream",
     "text": [
      "WARNING:tensorflow:From /Users/huseinzolkepli/Documents/malaya-speech/malaya_speech/train/model/aligner/model.py:103: The name tf.get_variable is deprecated. Please use tf.compat.v1.get_variable instead.\n",
      "\n"
     ]
    }
   ],
   "source": [
    "encoder = aligner.AlignmentEncoder(vocab_size = 100, vocab_embedding = 512)"
   ]
  },
  {
   "cell_type": "code",
   "execution_count": 11,
   "metadata": {},
   "outputs": [
    {
     "data": {
      "text/plain": [
       "<tf.Tensor 'ExpandDims:0' shape=(?, ?, 1) dtype=bool>"
      ]
     },
     "execution_count": 11,
     "metadata": {},
     "output_type": "execute_result"
    }
   ],
   "source": [
    "attention_mask = tf.expand_dims(tf.math.not_equal(i, 0), -1)\n",
    "attention_mask"
   ]
  },
  {
   "cell_type": "code",
   "execution_count": 12,
   "metadata": {},
   "outputs": [
    {
     "name": "stdout",
     "output_type": "stream",
     "text": [
      "WARNING:tensorflow:From /Users/huseinzolkepli/Documents/malaya-speech/malaya_speech/train/model/aligner/model.py:177: where (from tensorflow.python.ops.array_ops) is deprecated and will be removed in a future version.\n",
      "Instructions for updating:\n",
      "Use tf.where in 2.0, which has the same broadcast rule as np.where\n"
     ]
    },
    {
     "data": {
      "text/plain": [
       "(<tf.Tensor 'AlignmentEncoder/Softmax:0' shape=(?, 1, ?, ?) dtype=float32>,\n",
       " <tf.Tensor 'AlignmentEncoder/Identity:0' shape=(?, 1, ?, ?) dtype=float32>)"
      ]
     },
     "execution_count": 12,
     "metadata": {},
     "output_type": "execute_result"
    }
   ],
   "source": [
    "attn_soft, attn_logprob = encoder(mel_, i, mask = attention_mask, attn_prior = prior)\n",
    "attn_soft, attn_logprob"
   ]
  },
  {
   "cell_type": "code",
   "execution_count": 13,
   "metadata": {},
   "outputs": [
    {
     "data": {
      "text/plain": [
       "<tf.Tensor 'PyFunc:0' shape=(?, 1, ?, ?) dtype=float32>"
      ]
     },
     "execution_count": 13,
     "metadata": {},
     "output_type": "execute_result"
    }
   ],
   "source": [
    "attn_hard = encoder.get_hard_attention(attn_soft, lens, mel_lengths)\n",
    "attn_hard"
   ]
  },
  {
   "cell_type": "code",
   "execution_count": 14,
   "metadata": {},
   "outputs": [
    {
     "name": "stdout",
     "output_type": "stream",
     "text": [
      "WARNING:tensorflow:From /Users/huseinzolkepli/Documents/malaya-speech/malaya_speech/train/model/ctc/loss.py:21: to_int32 (from tensorflow.python.ops.math_ops) is deprecated and will be removed in a future version.\n",
      "Instructions for updating:\n",
      "Use `tf.cast` instead.\n",
      "WARNING:tensorflow:From /Users/huseinzolkepli/Documents/malaya-speech/malaya_speech/train/model/ctc/loss.py:26: The name tf.nn.ctc_loss is deprecated. Please use tf.compat.v1.nn.ctc_loss instead.\n",
      "\n"
     ]
    },
    {
     "data": {
      "text/plain": [
       "<tf.Tensor 'truediv:0' shape=() dtype=float32>"
      ]
     },
     "execution_count": 14,
     "metadata": {},
     "output_type": "execute_result"
    }
   ],
   "source": [
    "forwardsum_loss = aligner.forwardsum_loss(attn_logprob, lens, mel_lengths)\n",
    "forwardsum_loss"
   ]
  },
  {
   "cell_type": "code",
   "execution_count": 15,
   "metadata": {},
   "outputs": [
    {
     "data": {
      "text/plain": [
       "<tf.Tensor 'truediv_1:0' shape=() dtype=float32>"
      ]
     },
     "execution_count": 15,
     "metadata": {},
     "output_type": "execute_result"
    }
   ],
   "source": [
    "bin_loss = aligner.bin_loss(attn_hard, attn_soft)\n",
    "bin_loss"
   ]
  },
  {
   "cell_type": "code",
   "execution_count": 16,
   "metadata": {},
   "outputs": [],
   "source": [
    "optimizer = tf.train.AdamOptimizer(learning_rate = 1e-5).minimize(forwardsum_loss + bin_loss)"
   ]
  },
  {
   "cell_type": "code",
   "execution_count": 17,
   "metadata": {},
   "outputs": [],
   "source": [
    "sess = tf.InteractiveSession()\n",
    "sess.run(tf.global_variables_initializer())"
   ]
  },
  {
   "cell_type": "code",
   "execution_count": 18,
   "metadata": {},
   "outputs": [],
   "source": [
    "import pickle\n",
    "\n",
    "with open('dataset-mel.pkl', 'rb') as fopen:\n",
    "    data, d = pickle.load(fopen)"
   ]
  },
  {
   "cell_type": "code",
   "execution_count": 19,
   "metadata": {},
   "outputs": [
    {
     "data": {
      "text/plain": [
       "dict_keys(['mel', 'text_ids', 'len_mel', 'len_text_ids', 'stop_token_target', 'f0', 'len_f0', 'energy', 'len_energy', 'g'])"
      ]
     },
     "execution_count": 19,
     "metadata": {},
     "output_type": "execute_result"
    }
   ],
   "source": [
    "data.keys()"
   ]
  },
  {
   "cell_type": "code",
   "execution_count": 20,
   "metadata": {},
   "outputs": [
    {
     "data": {
      "text/plain": [
       "(72, 408)"
      ]
     },
     "execution_count": 20,
     "metadata": {},
     "output_type": "execute_result"
    }
   ],
   "source": [
    "l_text = data['len_text_ids'][0,0]\n",
    "l_mel = data['len_mel'][0,0]\n",
    "l_text, l_mel"
   ]
  },
  {
   "cell_type": "code",
   "execution_count": 21,
   "metadata": {},
   "outputs": [
    {
     "data": {
      "text/plain": [
       "(1, 408, 72)"
      ]
     },
     "execution_count": 21,
     "metadata": {},
     "output_type": "execute_result"
    }
   ],
   "source": [
    "prior_ = np.expand_dims(beta_binomial_prior_distribution(l_text, l_mel), 0).astype(np.float32)\n",
    "prior_.shape"
   ]
  },
  {
   "cell_type": "code",
   "execution_count": 22,
   "metadata": {},
   "outputs": [
    {
     "data": {
      "image/png": "[encoded data removed]",
      "text/plain": [
       "<Figure size 576x432 with 2 Axes>"
      ]
     },
     "metadata": {
      "needs_background": "light"
     },
     "output_type": "display_data"
    }
   ],
   "source": [
    "fig = plt.figure(figsize=(8, 6))\n",
    "ax = fig.add_subplot(111)\n",
    "ax.set_title('Alignment steps')\n",
    "im = ax.imshow(\n",
    "    prior_[0],\n",
    "    aspect='auto',\n",
    "    origin='lower',\n",
    "    interpolation='none')\n",
    "fig.colorbar(im, ax=ax)\n",
    "xlabel = 'Decoder timestep'\n",
    "plt.xlabel(xlabel)\n",
    "plt.ylabel('Encoder timestep')\n",
    "plt.tight_layout()\n",
    "plt.show()"
   ]
  },
  {
   "cell_type": "code",
   "execution_count": 23,
   "metadata": {},
   "outputs": [
    {
     "data": {
      "text/plain": [
       "((1, 1, 408, 72), (1, 1, 408, 72))"
      ]
     },
     "execution_count": 23,
     "metadata": {},
     "output_type": "execute_result"
    }
   ],
   "source": [
    "o = sess.run([attn_soft, attn_logprob], feed_dict = {i: data['text_ids'],\n",
    "                                                    lens: data['len_text_ids'][:,0],\n",
    "                                                    mel: data['mel'],\n",
    "                                                    mel_lengths: data['len_mel'][:,0],\n",
    "                                                    prior: prior_})\n",
    "o[0].shape, o[1].shape"
   ]
  },
  {
   "cell_type": "code",
   "execution_count": 24,
   "metadata": {
    "scrolled": true
   },
   "outputs": [
    {
     "name": "stderr",
     "output_type": "stream",
     "text": [
      "/Users/huseinzolkepli/Documents/malaya-speech/malaya_speech/train/model/aligner/model.py:20: RuntimeWarning: divide by zero encountered in log\n",
      "  attn_map = np.log(attn_map)\n"
     ]
    },
    {
     "name": "stdout",
     "output_type": "stream",
     "text": [
      "0 [2063.7295, 2.2989476, None]\n",
      "1 [2063.5732, 2.2988272, None]\n",
      "2 [2063.388, 2.2987154, None]\n",
      "3 [2063.2424, 2.2986178, None]\n",
      "4 [2063.0662, 2.2985396, None]\n",
      "5 [2062.92, 2.29842, None]\n",
      "6 [2062.7432, 2.2983565, None]\n",
      "7 [2062.557, 2.2982357, None]\n",
      "8 [2062.371, 2.2981472, None]\n",
      "9 [2062.1519, 2.2980292, None]\n",
      "10 [2061.9534, 2.2979302, None]\n",
      "11 [2061.7405, 2.297872, None]\n",
      "12 [2061.485, 2.2977533, None]\n",
      "13 [2061.2488, 2.2976723, None]\n",
      "14 [2060.9517, 2.297545, None]\n",
      "15 [2060.6755, 2.2974513, None]\n",
      "16 [2060.3264, 2.2973192, None]\n",
      "17 [2059.999, 2.2972298, None]\n",
      "18 [2059.6572, 2.2971327, None]\n",
      "19 [2059.2659, 2.2969692, None]\n",
      "20 [2058.9, 2.2969368, None]\n",
      "21 [2058.4873, 2.296794, None]\n",
      "22 [2058.0537, 2.2967227, None]\n",
      "23 [2057.5593, 2.2965581, None]\n",
      "24 [2057.0737, 2.2964816, None]\n",
      "25 [2056.5686, 2.2963445, None]\n",
      "26 [2056.041, 2.2962317, None]\n",
      "27 [2055.4905, 2.296157, None]\n",
      "28 [2054.8994, 2.2960818, None]\n",
      "29 [2054.2937, 2.2959194, None]\n",
      "30 [2053.6787, 2.2957838, None]\n",
      "31 [2053.0125, 2.2957227, None]\n",
      "32 [2052.321, 2.2956238, None]\n",
      "33 [2051.558, 2.295515, None]\n",
      "34 [2050.8823, 2.2954328, None]\n",
      "35 [2050.1074, 2.2953117, None]\n",
      "36 [2049.3584, 2.295201, None]\n",
      "37 [2048.5051, 2.2950804, None]\n",
      "38 [2047.6912, 2.2949758, None]\n",
      "39 [2046.8634, 2.2949083, None]\n",
      "40 [2046.0043, 2.294837, None]\n",
      "41 [2045.1047, 2.2946541, None]\n",
      "42 [2044.2067, 2.2945936, None]\n",
      "43 [2043.3362, 2.294492, None]\n",
      "44 [2042.368, 2.2944033, None]\n",
      "45 [2041.3926, 2.2942824, None]\n",
      "46 [2040.4033, 2.2942395, None]\n",
      "47 [2039.43, 2.2941558, None]\n",
      "48 [2038.4252, 2.294013, None]\n",
      "49 [2037.4066, 2.2939093, None]\n",
      "50 [2036.3936, 2.2937903, None]\n",
      "51 [2035.2963, 2.2936683, None]\n",
      "52 [2034.2585, 2.2935705, None]\n",
      "53 [2033.2395, 2.2934668, None]\n",
      "54 [2032.0635, 2.2933354, None]\n",
      "55 [2031.0543, 2.2932978, None]\n",
      "56 [2029.8796, 2.2930877, None]\n",
      "57 [2028.8046, 2.2929945, None]\n",
      "58 [2027.6669, 2.2928672, None]\n",
      "59 [2026.5656, 2.2927635, None]\n",
      "60 [2025.4294, 2.2926052, None]\n",
      "61 [2024.2238, 2.29251, None]\n",
      "62 [2023.0413, 2.2923682, None]\n",
      "63 [2021.8641, 2.2922263, None]\n",
      "64 [2020.6726, 2.2920792, None]\n",
      "65 [2019.4961, 2.2919297, None]\n",
      "66 [2018.2985, 2.2918255, None]\n",
      "67 [2017.0747, 2.2916496, None]\n",
      "68 [2015.8798, 2.2915094, None]\n",
      "69 [2014.6676, 2.2913353, None]\n",
      "70 [2013.5052, 2.2912025, None]\n",
      "71 [2012.2745, 2.2910109, None]\n",
      "72 [2011.0134, 2.2909286, None]\n",
      "73 [2009.76, 2.2907052, None]\n",
      "74 [2008.4149, 2.2904334, None]\n",
      "75 [2007.204, 2.2903397, None]\n",
      "76 [2005.932, 2.2901797, None]\n",
      "77 [2004.5834, 2.2899652, None]\n",
      "78 [2003.3013, 2.2896976, None]\n",
      "79 [2002.0243, 2.289561, None]\n",
      "80 [2000.6368, 2.2893848, None]\n",
      "81 [1999.3691, 2.2892528, None]\n",
      "82 [1998.0404, 2.289, None]\n",
      "83 [1996.7174, 2.2888355, None]\n",
      "84 [1995.3875, 2.2886193, None]\n",
      "85 [1993.9872, 2.2884326, None]\n",
      "86 [1992.6837, 2.288233, None]\n",
      "87 [1991.3229, 2.2880251, None]\n",
      "88 [1989.8796, 2.2878873, None]\n",
      "89 [1988.425, 2.2875738, None]\n",
      "90 [1987.0723, 2.2873993, None]\n",
      "91 [1985.5295, 2.287106, None]\n",
      "92 [1984.1215, 2.2869005, None]\n",
      "93 [1982.8119, 2.2867413, None]\n",
      "94 [1981.3276, 2.286485, None]\n",
      "95 [1979.9109, 2.2862923, None]\n",
      "96 [1978.4067, 2.2859542, None]\n",
      "97 [1976.9297, 2.285832, None]\n",
      "98 [1975.4978, 2.2855074, None]\n",
      "99 [1973.9785, 2.2853456, None]\n",
      "100 [1972.4215, 2.285105, None]\n",
      "101 [1970.937, 2.2848873, None]\n",
      "102 [1969.4324, 2.2846687, None]\n",
      "103 [1967.9175, 2.2843971, None]\n",
      "104 [1966.444, 2.2841325, None]\n",
      "105 [1964.8243, 2.2838829, None]\n",
      "106 [1963.2933, 2.2836277, None]\n",
      "107 [1961.804, 2.2833722, None]\n",
      "108 [1960.1755, 2.2832057, None]\n",
      "109 [1958.656, 2.283008, None]\n",
      "110 [1957.0331, 2.2826095, None]\n",
      "111 [1955.4496, 2.2823925, None]\n",
      "112 [1953.9211, 2.2821424, None]\n",
      "113 [1952.2631, 2.2818534, None]\n",
      "114 [1950.7573, 2.2816641, None]\n",
      "115 [1949.18, 2.2813857, None]\n",
      "116 [1947.5842, 2.2810638, None]\n",
      "117 [1945.9589, 2.2808414, None]\n",
      "118 [1944.288, 2.2805254, None]\n",
      "119 [1942.7223, 2.2801816, None]\n",
      "120 [1941.0708, 2.279972, None]\n",
      "121 [1939.4879, 2.2796874, None]\n",
      "122 [1937.7761, 2.2794209, None]\n",
      "123 [1936.2119, 2.279165, None]\n",
      "124 [1934.5204, 2.2788389, None]\n",
      "125 [1932.8687, 2.2785647, None]\n",
      "126 [1931.2599, 2.2782168, None]\n",
      "127 [1929.5331, 2.2779093, None]\n",
      "128 [1927.8918, 2.277641, None]\n",
      "129 [1926.3071, 2.27736, None]\n",
      "130 [1924.5724, 2.2770898, None]\n",
      "131 [1922.9323, 2.2767313, None]\n",
      "132 [1921.2677, 2.2763307, None]\n",
      "133 [1919.5952, 2.2761083, None]\n",
      "134 [1917.9679, 2.2757936, None]\n",
      "135 [1916.2725, 2.2755413, None]\n",
      "136 [1914.6537, 2.27513, None]\n",
      "137 [1912.9694, 2.2748177, None]\n",
      "138 [1911.243, 2.2745354, None]\n",
      "139 [1909.5935, 2.2742176, None]\n",
      "140 [1907.9158, 2.2738957, None]\n",
      "141 [1906.2385, 2.2735033, None]\n",
      "142 [1904.5864, 2.2732694, None]\n",
      "143 [1902.9196, 2.2728558, None]\n",
      "144 [1901.2899, 2.2725477, None]\n",
      "145 [1899.5784, 2.272164, None]\n",
      "146 [1897.8632, 2.2718468, None]\n",
      "147 [1896.2532, 2.271503, None]\n",
      "148 [1894.4633, 2.2711205, None]\n",
      "149 [1892.9038, 2.2708404, None]\n",
      "150 [1891.2494, 2.2704232, None]\n",
      "151 [1889.6266, 2.2700632, None]\n",
      "152 [1887.9724, 2.2698188, None]\n",
      "153 [1886.2396, 2.2693732, None]\n",
      "154 [1884.6321, 2.2690346, None]\n",
      "155 [1882.9375, 2.2686477, None]\n",
      "156 [1881.262, 2.268281, None]\n",
      "157 [1879.6359, 2.2678497, None]\n",
      "158 [1877.9926, 2.267538, None]\n",
      "159 [1876.2937, 2.2672248, None]\n",
      "160 [1874.708, 2.2669494, None]\n",
      "161 [1873.0896, 2.2664454, None]\n",
      "162 [1871.3616, 2.2658885, None]\n",
      "163 [1869.7855, 2.2656727, None]\n",
      "164 [1868.15, 2.2651925, None]\n",
      "165 [1866.5154, 2.2649138, None]\n",
      "166 [1864.9525, 2.2645166, None]\n",
      "167 [1863.2384, 2.2640197, None]\n",
      "168 [1861.6848, 2.2638159, None]\n",
      "169 [1860.0339, 2.2633476, None]\n",
      "170 [1858.3986, 2.2627816, None]\n",
      "171 [1856.7568, 2.2624598, None]\n",
      "172 [1855.2036, 2.2620735, None]\n",
      "173 [1853.5607, 2.2616463, None]\n",
      "174 [1852.0074, 2.2613318, None]\n",
      "175 [1850.4291, 2.2609932, None]\n",
      "176 [1848.8044, 2.2605004, None]\n",
      "177 [1847.1973, 2.2602394, None]\n",
      "178 [1845.6929, 2.2597606, None]\n",
      "179 [1844.1138, 2.2593958, None]\n",
      "180 [1842.5197, 2.2589197, None]\n",
      "181 [1840.9827, 2.2585874, None]\n",
      "182 [1839.3317, 2.258142, None]\n",
      "183 [1837.782, 2.257481, None]\n",
      "184 [1836.2731, 2.2570987, None]\n",
      "185 [1834.7291, 2.256632, None]\n",
      "186 [1833.1898, 2.2562788, None]\n",
      "187 [1831.6973, 2.255993, None]\n",
      "188 [1830.1, 2.255436, None]\n",
      "189 [1828.572, 2.255066, None]\n",
      "190 [1827.1289, 2.2544699, None]\n",
      "191 [1825.4417, 2.2540658, None]\n",
      "192 [1823.9729, 2.2535813, None]\n",
      "193 [1822.3987, 2.2532544, None]\n",
      "194 [1820.7717, 2.2527912, None]\n",
      "195 [1819.3097, 2.2525153, None]\n",
      "196 [1817.8198, 2.251907, None]\n",
      "197 [1816.3783, 2.2514293, None]\n",
      "198 [1814.8167, 2.2509506, None]\n",
      "199 [1813.2812, 2.2504127, None]\n"
     ]
    }
   ],
   "source": [
    "for no in range(200):\n",
    "    o = sess.run([forwardsum_loss, bin_loss, optimizer], feed_dict = {i: data['text_ids'],\n",
    "                                                        lens: data['len_text_ids'][:,0],\n",
    "                                                        mel: data['mel'],\n",
    "                                                        mel_lengths: data['len_mel'][:,0],\n",
    "                                                        prior: prior_})\n",
    "    print(no, o)"
   ]
  },
  {
   "cell_type": "code",
   "execution_count": 25,
   "metadata": {},
   "outputs": [
    {
     "data": {
      "text/plain": [
       "((1, 1, 408, 72), (1, 1, 408, 72), (1, 1, 408, 72))"
      ]
     },
     "execution_count": 25,
     "metadata": {},
     "output_type": "execute_result"
    }
   ],
   "source": [
    "o = sess.run([attn_soft, attn_logprob, attn_hard], feed_dict = {i: data['text_ids'],\n",
    "                                                    lens: data['len_text_ids'][:,0],\n",
    "                                                    mel: data['mel'],\n",
    "                                                    mel_lengths: data['len_mel'][:,0],\n",
    "                                                    prior: prior_})\n",
    "o[0].shape, o[1].shape, o[2].shape"
   ]
  },
  {
   "cell_type": "code",
   "execution_count": 26,
   "metadata": {},
   "outputs": [
    {
     "data": {
      "text/plain": [
       "(408, 72)"
      ]
     },
     "execution_count": 26,
     "metadata": {},
     "output_type": "execute_result"
    }
   ],
   "source": [
    "o[0][0,0].shape"
   ]
  },
  {
   "cell_type": "code",
   "execution_count": 27,
   "metadata": {},
   "outputs": [
    {
     "data": {
      "image/png": "[encoded data removed]",
      "text/plain": [
       "<Figure size 576x432 with 2 Axes>"
      ]
     },
     "metadata": {
      "needs_background": "light"
     },
     "output_type": "display_data"
    }
   ],
   "source": [
    "fig = plt.figure(figsize=(8, 6))\n",
    "ax = fig.add_subplot(111)\n",
    "ax.set_title('Alignment steps')\n",
    "im = ax.imshow(\n",
    "    o[0][0,0],\n",
    "    aspect='auto',\n",
    "    origin='lower',\n",
    "    interpolation='none')\n",
    "fig.colorbar(im, ax=ax)\n",
    "xlabel = 'Decoder timestep'\n",
    "plt.xlabel(xlabel)\n",
    "plt.ylabel('Encoder timestep')\n",
    "plt.tight_layout()\n",
    "plt.show()"
   ]
  },
  {
   "cell_type": "code",
   "execution_count": 28,
   "metadata": {},
   "outputs": [
    {
     "data": {
      "image/png": "[encoded data removed]",
      "text/plain": [
       "<Figure size 576x432 with 2 Axes>"
      ]
     },
     "metadata": {
      "needs_background": "light"
     },
     "output_type": "display_data"
    }
   ],
   "source": [
    "fig = plt.figure(figsize=(8, 6))\n",
    "ax = fig.add_subplot(111)\n",
    "ax.set_title('Alignment steps')\n",
    "im = ax.imshow(\n",
    "    o[2][0,0],\n",
    "    aspect='auto',\n",
    "    origin='lower',\n",
    "    interpolation='none')\n",
    "fig.colorbar(im, ax=ax)\n",
    "xlabel = 'Decoder timestep'\n",
    "plt.xlabel(xlabel)\n",
    "plt.ylabel('Encoder timestep')\n",
    "plt.tight_layout()\n",
    "plt.show()"
   ]
  },
  {
   "cell_type": "code",
   "execution_count": 29,
   "metadata": {},
   "outputs": [
    {
     "data": {
      "text/plain": [
       "[<tf.Variable 'mel_before/kernel:0' shape=(80, 384) dtype=float32>,\n",
       " <tf.Variable 'mel_before/bias:0' shape=(384,) dtype=float32>,\n",
       " <tf.Variable 'Decoder/encoder/layer_._0/attention/self/query/kernel:0' shape=(384, 384) dtype=float32>,\n",
       " <tf.Variable 'Decoder/encoder/layer_._0/attention/self/query/bias:0' shape=(384,) dtype=float32>,\n",
       " <tf.Variable 'Decoder/encoder/layer_._0/attention/self/key/kernel:0' shape=(384, 384) dtype=float32>,\n",
       " <tf.Variable 'Decoder/encoder/layer_._0/attention/self/key/bias:0' shape=(384,) dtype=float32>,\n",
       " <tf.Variable 'Decoder/encoder/layer_._0/attention/self/value/kernel:0' shape=(384, 384) dtype=float32>,\n",
       " <tf.Variable 'Decoder/encoder/layer_._0/attention/self/value/bias:0' shape=(384,) dtype=float32>,\n",
       " <tf.Variable 'Decoder/encoder/layer_._0/attention/output/dense/kernel:0' shape=(384, 384) dtype=float32>,\n",
       " <tf.Variable 'Decoder/encoder/layer_._0/attention/output/dense/bias:0' shape=(384,) dtype=float32>,\n",
       " <tf.Variable 'Decoder/encoder/layer_._0/attention/output/LayerNorm/gamma:0' shape=(384,) dtype=float32>,\n",
       " <tf.Variable 'Decoder/encoder/layer_._0/attention/output/LayerNorm/beta:0' shape=(384,) dtype=float32>,\n",
       " <tf.Variable 'Decoder/encoder/layer_._0/intermediate/conv1d_1/kernel:0' shape=(3, 384, 1024) dtype=float32>,\n",
       " <tf.Variable 'Decoder/encoder/layer_._0/intermediate/conv1d_1/bias:0' shape=(1024,) dtype=float32>,\n",
       " <tf.Variable 'Decoder/encoder/layer_._0/intermediate/conv1d_2/kernel:0' shape=(3, 1024, 384) dtype=float32>,\n",
       " <tf.Variable 'Decoder/encoder/layer_._0/intermediate/conv1d_2/bias:0' shape=(384,) dtype=float32>,\n",
       " <tf.Variable 'Decoder/encoder/layer_._0/output/LayerNorm/gamma:0' shape=(384,) dtype=float32>,\n",
       " <tf.Variable 'Decoder/encoder/layer_._0/output/LayerNorm/beta:0' shape=(384,) dtype=float32>,\n",
       " <tf.Variable 'Decoder/encoder/layer_._1/attention/self/query/kernel:0' shape=(384, 384) dtype=float32>,\n",
       " <tf.Variable 'Decoder/encoder/layer_._1/attention/self/query/bias:0' shape=(384,) dtype=float32>,\n",
       " <tf.Variable 'Decoder/encoder/layer_._1/attention/self/key/kernel:0' shape=(384, 384) dtype=float32>,\n",
       " <tf.Variable 'Decoder/encoder/layer_._1/attention/self/key/bias:0' shape=(384,) dtype=float32>,\n",
       " <tf.Variable 'Decoder/encoder/layer_._1/attention/self/value/kernel:0' shape=(384, 384) dtype=float32>,\n",
       " <tf.Variable 'Decoder/encoder/layer_._1/attention/self/value/bias:0' shape=(384,) dtype=float32>,\n",
       " <tf.Variable 'Decoder/encoder/layer_._1/attention/output/dense/kernel:0' shape=(384, 384) dtype=float32>,\n",
       " <tf.Variable 'Decoder/encoder/layer_._1/attention/output/dense/bias:0' shape=(384,) dtype=float32>,\n",
       " <tf.Variable 'Decoder/encoder/layer_._1/attention/output/LayerNorm/gamma:0' shape=(384,) dtype=float32>,\n",
       " <tf.Variable 'Decoder/encoder/layer_._1/attention/output/LayerNorm/beta:0' shape=(384,) dtype=float32>,\n",
       " <tf.Variable 'Decoder/encoder/layer_._1/intermediate/conv1d_1/kernel:0' shape=(3, 384, 1024) dtype=float32>,\n",
       " <tf.Variable 'Decoder/encoder/layer_._1/intermediate/conv1d_1/bias:0' shape=(1024,) dtype=float32>,\n",
       " <tf.Variable 'Decoder/encoder/layer_._1/intermediate/conv1d_2/kernel:0' shape=(3, 1024, 384) dtype=float32>,\n",
       " <tf.Variable 'Decoder/encoder/layer_._1/intermediate/conv1d_2/bias:0' shape=(384,) dtype=float32>,\n",
       " <tf.Variable 'Decoder/encoder/layer_._1/output/LayerNorm/gamma:0' shape=(384,) dtype=float32>,\n",
       " <tf.Variable 'Decoder/encoder/layer_._1/output/LayerNorm/beta:0' shape=(384,) dtype=float32>,\n",
       " <tf.Variable 'Decoder/encoder/layer_._2/attention/self/query/kernel:0' shape=(384, 384) dtype=float32>,\n",
       " <tf.Variable 'Decoder/encoder/layer_._2/attention/self/query/bias:0' shape=(384,) dtype=float32>,\n",
       " <tf.Variable 'Decoder/encoder/layer_._2/attention/self/key/kernel:0' shape=(384, 384) dtype=float32>,\n",
       " <tf.Variable 'Decoder/encoder/layer_._2/attention/self/key/bias:0' shape=(384,) dtype=float32>,\n",
       " <tf.Variable 'Decoder/encoder/layer_._2/attention/self/value/kernel:0' shape=(384, 384) dtype=float32>,\n",
       " <tf.Variable 'Decoder/encoder/layer_._2/attention/self/value/bias:0' shape=(384,) dtype=float32>,\n",
       " <tf.Variable 'Decoder/encoder/layer_._2/attention/output/dense/kernel:0' shape=(384, 384) dtype=float32>,\n",
       " <tf.Variable 'Decoder/encoder/layer_._2/attention/output/dense/bias:0' shape=(384,) dtype=float32>,\n",
       " <tf.Variable 'Decoder/encoder/layer_._2/attention/output/LayerNorm/gamma:0' shape=(384,) dtype=float32>,\n",
       " <tf.Variable 'Decoder/encoder/layer_._2/attention/output/LayerNorm/beta:0' shape=(384,) dtype=float32>,\n",
       " <tf.Variable 'Decoder/encoder/layer_._2/intermediate/conv1d_1/kernel:0' shape=(3, 384, 1024) dtype=float32>,\n",
       " <tf.Variable 'Decoder/encoder/layer_._2/intermediate/conv1d_1/bias:0' shape=(1024,) dtype=float32>,\n",
       " <tf.Variable 'Decoder/encoder/layer_._2/intermediate/conv1d_2/kernel:0' shape=(3, 1024, 384) dtype=float32>,\n",
       " <tf.Variable 'Decoder/encoder/layer_._2/intermediate/conv1d_2/bias:0' shape=(384,) dtype=float32>,\n",
       " <tf.Variable 'Decoder/encoder/layer_._2/output/LayerNorm/gamma:0' shape=(384,) dtype=float32>,\n",
       " <tf.Variable 'Decoder/encoder/layer_._2/output/LayerNorm/beta:0' shape=(384,) dtype=float32>,\n",
       " <tf.Variable 'Decoder/encoder/layer_._3/attention/self/query/kernel:0' shape=(384, 384) dtype=float32>,\n",
       " <tf.Variable 'Decoder/encoder/layer_._3/attention/self/query/bias:0' shape=(384,) dtype=float32>,\n",
       " <tf.Variable 'Decoder/encoder/layer_._3/attention/self/key/kernel:0' shape=(384, 384) dtype=float32>,\n",
       " <tf.Variable 'Decoder/encoder/layer_._3/attention/self/key/bias:0' shape=(384,) dtype=float32>,\n",
       " <tf.Variable 'Decoder/encoder/layer_._3/attention/self/value/kernel:0' shape=(384, 384) dtype=float32>,\n",
       " <tf.Variable 'Decoder/encoder/layer_._3/attention/self/value/bias:0' shape=(384,) dtype=float32>,\n",
       " <tf.Variable 'Decoder/encoder/layer_._3/attention/output/dense/kernel:0' shape=(384, 384) dtype=float32>,\n",
       " <tf.Variable 'Decoder/encoder/layer_._3/attention/output/dense/bias:0' shape=(384,) dtype=float32>,\n",
       " <tf.Variable 'Decoder/encoder/layer_._3/attention/output/LayerNorm/gamma:0' shape=(384,) dtype=float32>,\n",
       " <tf.Variable 'Decoder/encoder/layer_._3/attention/output/LayerNorm/beta:0' shape=(384,) dtype=float32>,\n",
       " <tf.Variable 'Decoder/encoder/layer_._3/intermediate/conv1d_1/kernel:0' shape=(3, 384, 1024) dtype=float32>,\n",
       " <tf.Variable 'Decoder/encoder/layer_._3/intermediate/conv1d_1/bias:0' shape=(1024,) dtype=float32>,\n",
       " <tf.Variable 'Decoder/encoder/layer_._3/intermediate/conv1d_2/kernel:0' shape=(3, 1024, 384) dtype=float32>,\n",
       " <tf.Variable 'Decoder/encoder/layer_._3/intermediate/conv1d_2/bias:0' shape=(384,) dtype=float32>,\n",
       " <tf.Variable 'Decoder/encoder/layer_._3/output/LayerNorm/gamma:0' shape=(384,) dtype=float32>,\n",
       " <tf.Variable 'Decoder/encoder/layer_._3/output/LayerNorm/beta:0' shape=(384,) dtype=float32>,\n",
       " <tf.Variable 'AlignmentEncoder/embeddings:0' shape=(100, 512) dtype=float32_ref>,\n",
       " <tf.Variable 'AlignmentEncoder/sequential/ConvNorm/conv1d/kernel:0' shape=(3, 512, 1024) dtype=float32>,\n",
       " <tf.Variable 'AlignmentEncoder/sequential/ConvNorm/conv1d/bias:0' shape=(1024,) dtype=float32>,\n",
       " <tf.Variable 'AlignmentEncoder/sequential/ConvNorm_1/conv1d_1/kernel:0' shape=(1, 1024, 80) dtype=float32>,\n",
       " <tf.Variable 'AlignmentEncoder/sequential/ConvNorm_1/conv1d_1/bias:0' shape=(80,) dtype=float32>,\n",
       " <tf.Variable 'AlignmentEncoder/sequential_1/ConvNorm/conv1d_2/kernel:0' shape=(3, 384, 160) dtype=float32>,\n",
       " <tf.Variable 'AlignmentEncoder/sequential_1/ConvNorm/conv1d_2/bias:0' shape=(160,) dtype=float32>,\n",
       " <tf.Variable 'AlignmentEncoder/sequential_1/ConvNorm_1/conv1d_3/kernel:0' shape=(1, 160, 80) dtype=float32>,\n",
       " <tf.Variable 'AlignmentEncoder/sequential_1/ConvNorm_1/conv1d_3/bias:0' shape=(80,) dtype=float32>,\n",
       " <tf.Variable 'AlignmentEncoder/sequential_1/ConvNorm_2/conv1d_4/kernel:0' shape=(1, 80, 80) dtype=float32>,\n",
       " <tf.Variable 'AlignmentEncoder/sequential_1/ConvNorm_2/conv1d_4/bias:0' shape=(80,) dtype=float32>]"
      ]
     },
     "execution_count": 29,
     "metadata": {},
     "output_type": "execute_result"
    }
   ],
   "source": [
    "tf.trainable_variables()"
   ]
  },
  {
   "cell_type": "code",
   "execution_count": 30,
   "metadata": {},
   "outputs": [
    {
     "data": {
      "text/plain": [
       "'test/model.ckpt'"
      ]
     },
     "execution_count": 30,
     "metadata": {},
     "output_type": "execute_result"
    }
   ],
   "source": [
    "saver = tf.train.Saver(tf.trainable_variables())\n",
    "saver.save(sess, 'test/model.ckpt')"
   ]
  },
  {
   "cell_type": "code",
   "execution_count": 31,
   "metadata": {},
   "outputs": [
    {
     "name": "stdout",
     "output_type": "stream",
     "text": [
      "total 139712\r\n",
      "-rw-r--r--  1 huseinzolkepli  staff    77B Sep 23 21:14 checkpoint\r\n",
      "-rw-r--r--  1 huseinzolkepli  staff    52M Sep 23 21:14 model.ckpt.data-00000-of-00001\r\n",
      "-rw-r--r--  1 huseinzolkepli  staff   3.2K Sep 23 21:14 model.ckpt.index\r\n",
      "-rw-r--r--  1 huseinzolkepli  staff    16M Sep 23 21:14 model.ckpt.meta\r\n"
     ]
    }
   ],
   "source": [
    "!ls -lh test\n",
    "!rm -rf test"
   ]
  }
 ],
 "metadata": {
  "kernelspec": {
   "display_name": "Python 3",
   "language": "python",
   "name": "python3"
  },
  "language_info": {
   "codemirror_mode": {
    "name": "ipython",
    "version": 3
   },
   "file_extension": ".py",
   "mimetype": "text/x-python",
   "name": "python",
   "nbconvert_exporter": "python",
   "pygments_lexer": "ipython3",
   "version": "3.7.7"
  }
 },
 "nbformat": 4,
 "nbformat_minor": 4
}

{
 "cells": [
  {
   "cell_type": "code",
   "execution_count": 1,
   "metadata": {},
   "outputs": [],
   "source": [
    "import os\n",
    "import sys\n",
    "\n",
    "SOURCE_DIR = os.path.dirname(os.path.dirname(os.path.abspath(__name__)))\n",
    "sys.path.insert(0, SOURCE_DIR)"
   ]
  },
  {
   "cell_type": "code",
   "execution_count": 2,
   "metadata": {},
   "outputs": [
    {
     "name": "stdout",
     "output_type": "stream",
     "text": [
      "WARNING:tensorflow:From /Users/huseinzolkepli/Documents/malaya-speech/malaya_speech/train/optimizer/__init__.py:39: The name tf.train.AdagradOptimizer is deprecated. Please use tf.compat.v1.train.AdagradOptimizer instead.\n",
      "\n",
      "WARNING:tensorflow:From /Users/huseinzolkepli/Documents/malaya-speech/malaya_speech/train/optimizer/__init__.py:40: The name tf.train.AdamOptimizer is deprecated. Please use tf.compat.v1.train.AdamOptimizer instead.\n",
      "\n",
      "WARNING:tensorflow:From /Users/huseinzolkepli/Documents/malaya-speech/malaya_speech/train/optimizer/__init__.py:41: The name tf.train.FtrlOptimizer is deprecated. Please use tf.compat.v1.train.FtrlOptimizer instead.\n",
      "\n",
      "WARNING:tensorflow:From /Users/huseinzolkepli/Documents/malaya-speech/malaya_speech/train/optimizer/__init__.py:43: The name tf.train.RMSPropOptimizer is deprecated. Please use tf.compat.v1.train.RMSPropOptimizer instead.\n",
      "\n",
      "WARNING:tensorflow:From /Users/huseinzolkepli/Documents/malaya-speech/malaya_speech/train/optimizer/__init__.py:44: The name tf.train.GradientDescentOptimizer is deprecated. Please use tf.compat.v1.train.GradientDescentOptimizer instead.\n",
      "\n",
      "WARNING:tensorflow:\n",
      "The TensorFlow contrib module will not be included in TensorFlow 2.0.\n",
      "For more information, please see:\n",
      "  * https://github.com/tensorflow/community/blob/master/rfcs/20180907-contrib-sunset.md\n",
      "  * https://github.com/tensorflow/addons\n",
      "  * https://github.com/tensorflow/io (for I/O related ops)\n",
      "If you depend on functionality not listed there, please file an issue.\n",
      "\n"
     ]
    }
   ],
   "source": [
    "from malaya_speech.train.model import aligner, fastvc, fastspeech, tacotron2\n",
    "import malaya_speech\n",
    "import tensorflow as tf\n",
    "import matplotlib.pyplot as plt"
   ]
  },
  {
   "cell_type": "code",
   "execution_count": 3,
   "metadata": {},
   "outputs": [
    {
     "data": {
      "text/plain": [
       "((1, 100, 50), 4.968e-41, 0.6666667)"
      ]
     },
     "execution_count": 3,
     "metadata": {},
     "output_type": "execute_result"
    }
   ],
   "source": [
    "from scipy.stats import betabinom\n",
    "import numpy as np\n",
    "\n",
    "def beta_binomial_prior_distribution(phoneme_count, mel_count, scaling_factor=1.0):\n",
    "    x = np.arange(0, phoneme_count)\n",
    "    mel_text_probs = []\n",
    "    for i in range(1, mel_count + 1):\n",
    "        a, b = scaling_factor * i, scaling_factor * (mel_count + 1 - i)\n",
    "        mel_i_prob = betabinom(phoneme_count, a, b).pmf(x)\n",
    "        mel_text_probs.append(mel_i_prob)\n",
    "    return np.array(mel_text_probs)\n",
    "\n",
    "attn_prior = np.expand_dims(beta_binomial_prior_distribution(50, 100), 0).astype(np.float32)\n",
    "attn_prior.shape, attn_prior.min(), attn_prior.max()"
   ]
  },
  {
   "cell_type": "code",
   "execution_count": 4,
   "metadata": {},
   "outputs": [],
   "source": [
    "i = tf.placeholder(tf.int32, [None, None])\n",
    "lens = tf.placeholder(tf.int32, [None])\n",
    "mel = tf.placeholder(tf.float32, [None, None, 80])\n",
    "mel_lengths = tf.placeholder(tf.int32, [None])\n",
    "prior = tf.placeholder(tf.float32, [None, None, None])"
   ]
  },
  {
   "cell_type": "code",
   "execution_count": 5,
   "metadata": {},
   "outputs": [],
   "source": [
    "config = malaya_speech.config.fastspeech_config\n",
    "config = fastspeech.Config(vocab_size = 1, **config)"
   ]
  },
  {
   "cell_type": "code",
   "execution_count": 6,
   "metadata": {
    "scrolled": true
   },
   "outputs": [
    {
     "name": "stdout",
     "output_type": "stream",
     "text": [
      "WARNING:tensorflow:From /Users/huseinzolkepli/Documents/malaya-speech/malaya_speech/train/model/fastspeech/layer.py:11: The name tf.keras.initializers.TruncatedNormal is deprecated. Please use tf.compat.v1.keras.initializers.TruncatedNormal instead.\n",
      "\n",
      "WARNING:tensorflow:From /Library/Frameworks/Python.framework/Versions/3.7/lib/python3.7/site-packages/tensorflow_core/python/keras/initializers.py:94: calling TruncatedNormal.__init__ (from tensorflow.python.ops.init_ops) with dtype is deprecated and will be removed in a future version.\n",
      "Instructions for updating:\n",
      "Call initializer instance with the dtype argument instead of passing it to the constructor\n"
     ]
    }
   ],
   "source": [
    "encoder_mel = fastvc.Decoder(config.decoder_self_attention_params, use_position_embedding=True)"
   ]
  },
  {
   "cell_type": "code",
   "execution_count": 7,
   "metadata": {},
   "outputs": [],
   "source": [
    "max_length = tf.cast(tf.reduce_max(mel_lengths), tf.int32)\n",
    "attention_mask = tf.sequence_mask(\n",
    "    lengths=mel_lengths, maxlen=max_length, dtype=tf.float32\n",
    ")\n",
    "attention_mask.set_shape((None, None))"
   ]
  },
  {
   "cell_type": "code",
   "execution_count": 8,
   "metadata": {},
   "outputs": [],
   "source": [
    "denser = tf.keras.layers.Dense(\n",
    "    units=config.decoder_self_attention_params.hidden_size, dtype=tf.float32, \n",
    "    name='mel_before'\n",
    ")"
   ]
  },
  {
   "cell_type": "code",
   "execution_count": 9,
   "metadata": {},
   "outputs": [
    {
     "name": "stdout",
     "output_type": "stream",
     "text": [
      "WARNING:tensorflow:From /Library/Frameworks/Python.framework/Versions/3.7/lib/python3.7/site-packages/tensorflow_core/python/ops/resource_variable_ops.py:1630: calling BaseResourceVariable.__init__ (from tensorflow.python.ops.resource_variable_ops) with constraint is deprecated and will be removed in a future version.\n",
      "Instructions for updating:\n",
      "If using Keras pass *_constraint arguments to layers.\n"
     ]
    },
    {
     "data": {
      "text/plain": [
       "<tf.Tensor 'Decoder/encoder/layer_._3/mul:0' shape=(?, ?, 384) dtype=float32>"
      ]
     },
     "execution_count": 9,
     "metadata": {},
     "output_type": "execute_result"
    }
   ],
   "source": [
    "mel_ = encoder_mel(denser(mel), attention_mask)\n",
    "mel_"
   ]
  },
  {
   "cell_type": "code",
   "execution_count": 10,
   "metadata": {},
   "outputs": [
    {
     "name": "stdout",
     "output_type": "stream",
     "text": [
      "WARNING:tensorflow:From /Users/huseinzolkepli/Documents/malaya-speech/malaya_speech/train/model/aligner/model.py:103: The name tf.get_variable is deprecated. Please use tf.compat.v1.get_variable instead.\n",
      "\n"
     ]
    }
   ],
   "source": [
    "encoder = aligner.AlignmentEncoder(vocab_size = 100, vocab_embedding = 512)"
   ]
  },
  {
   "cell_type": "code",
   "execution_count": 11,
   "metadata": {},
   "outputs": [
    {
     "data": {
      "text/plain": [
       "<tf.Tensor 'ExpandDims:0' shape=(?, ?, 1) dtype=bool>"
      ]
     },
     "execution_count": 11,
     "metadata": {},
     "output_type": "execute_result"
    }
   ],
   "source": [
    "attention_mask = tf.expand_dims(tf.math.not_equal(i, 0), -1)\n",
    "attention_mask"
   ]
  },
  {
   "cell_type": "code",
   "execution_count": 12,
   "metadata": {},
   "outputs": [
    {
     "name": "stdout",
     "output_type": "stream",
     "text": [
      "WARNING:tensorflow:From /Users/huseinzolkepli/Documents/malaya-speech/malaya_speech/train/model/aligner/model.py:177: where (from tensorflow.python.ops.array_ops) is deprecated and will be removed in a future version.\n",
      "Instructions for updating:\n",
      "Use tf.where in 2.0, which has the same broadcast rule as np.where\n"
     ]
    },
    {
     "data": {
      "text/plain": [
       "(<tf.Tensor 'AlignmentEncoder/Softmax:0' shape=(?, 1, ?, ?) dtype=float32>,\n",
       " <tf.Tensor 'AlignmentEncoder/Identity:0' shape=(?, 1, ?, ?) dtype=float32>)"
      ]
     },
     "execution_count": 12,
     "metadata": {},
     "output_type": "execute_result"
    }
   ],
   "source": [
    "attn_soft, attn_logprob = encoder(mel_, i, mask = attention_mask, attn_prior = prior)\n",
    "attn_soft, attn_logprob"
   ]
  },
  {
   "cell_type": "code",
   "execution_count": 13,
   "metadata": {},
   "outputs": [
    {
     "data": {
      "text/plain": [
       "<tf.Tensor 'PyFunc:0' shape=(?, 1, ?, ?) dtype=float32>"
      ]
     },
     "execution_count": 13,
     "metadata": {},
     "output_type": "execute_result"
    }
   ],
   "source": [
    "attn_hard = encoder.get_hard_attention(attn_soft, lens, mel_lengths)\n",
    "attn_hard"
   ]
  },
  {
   "cell_type": "code",
   "execution_count": 14,
   "metadata": {},
   "outputs": [
    {
     "name": "stdout",
     "output_type": "stream",
     "text": [
      "WARNING:tensorflow:From /Users/huseinzolkepli/Documents/malaya-speech/malaya_speech/train/model/ctc/loss.py:21: to_int32 (from tensorflow.python.ops.math_ops) is deprecated and will be removed in a future version.\n",
      "Instructions for updating:\n",
      "Use `tf.cast` instead.\n",
      "WARNING:tensorflow:From /Users/huseinzolkepli/Documents/malaya-speech/malaya_speech/train/model/ctc/loss.py:26: The name tf.nn.ctc_loss is deprecated. Please use tf.compat.v1.nn.ctc_loss instead.\n",
      "\n"
     ]
    },
    {
     "data": {
      "text/plain": [
       "<tf.Tensor 'truediv:0' shape=() dtype=float32>"
      ]
     },
     "execution_count": 14,
     "metadata": {},
     "output_type": "execute_result"
    }
   ],
   "source": [
    "forwardsum_loss = aligner.forwardsum_loss(attn_logprob, lens, mel_lengths)\n",
    "forwardsum_loss"
   ]
  },
  {
   "cell_type": "code",
   "execution_count": 15,
   "metadata": {},
   "outputs": [
    {
     "data": {
      "text/plain": [
       "<tf.Tensor 'truediv_1:0' shape=() dtype=float32>"
      ]
     },
     "execution_count": 15,
     "metadata": {},
     "output_type": "execute_result"
    }
   ],
   "source": [
    "bin_loss = aligner.bin_loss(attn_hard, attn_soft)\n",
    "bin_loss"
   ]
  },
  {
   "cell_type": "code",
   "execution_count": 16,
   "metadata": {},
   "outputs": [],
   "source": [
    "optimizer = tf.train.AdamOptimizer(learning_rate = 1e-4).minimize(forwardsum_loss + bin_loss)"
   ]
  },
  {
   "cell_type": "code",
   "execution_count": 17,
   "metadata": {},
   "outputs": [],
   "source": [
    "sess = tf.InteractiveSession()\n",
    "sess.run(tf.global_variables_initializer())"
   ]
  },
  {
   "cell_type": "code",
   "execution_count": 18,
   "metadata": {},
   "outputs": [],
   "source": [
    "import pickle\n",
    "\n",
    "with open('dataset-mel.pkl', 'rb') as fopen:\n",
    "    data, d = pickle.load(fopen)"
   ]
  },
  {
   "cell_type": "code",
   "execution_count": 19,
   "metadata": {},
   "outputs": [
    {
     "data": {
      "text/plain": [
       "dict_keys(['mel', 'text_ids', 'len_mel', 'len_text_ids', 'stop_token_target', 'f0', 'len_f0', 'energy', 'len_energy', 'g'])"
      ]
     },
     "execution_count": 19,
     "metadata": {},
     "output_type": "execute_result"
    }
   ],
   "source": [
    "data.keys()"
   ]
  },
  {
   "cell_type": "code",
   "execution_count": 20,
   "metadata": {},
   "outputs": [
    {
     "data": {
      "text/plain": [
       "(72, 408)"
      ]
     },
     "execution_count": 20,
     "metadata": {},
     "output_type": "execute_result"
    }
   ],
   "source": [
    "l_text = data['len_text_ids'][0,0]\n",
    "l_mel = data['len_mel'][0,0]\n",
    "l_text, l_mel"
   ]
  },
  {
   "cell_type": "code",
   "execution_count": 21,
   "metadata": {},
   "outputs": [
    {
     "data": {
      "text/plain": [
       "(1, 408, 72)"
      ]
     },
     "execution_count": 21,
     "metadata": {},
     "output_type": "execute_result"
    }
   ],
   "source": [
    "prior_ = np.expand_dims(beta_binomial_prior_distribution(l_text, l_mel), 0).astype(np.float32)\n",
    "prior_.shape"
   ]
  },
  {
   "cell_type": "code",
   "execution_count": 22,
   "metadata": {},
   "outputs": [
    {
     "data": {
      "image/png": "[encoded data removed]",
      "text/plain": [
       "<Figure size 576x432 with 2 Axes>"
      ]
     },
     "metadata": {
      "needs_background": "light"
     },
     "output_type": "display_data"
    }
   ],
   "source": [
    "fig = plt.figure(figsize=(8, 6))\n",
    "ax = fig.add_subplot(111)\n",
    "ax.set_title('Alignment steps')\n",
    "im = ax.imshow(\n",
    "    prior_[0],\n",
    "    aspect='auto',\n",
    "    origin='lower',\n",
    "    interpolation='none')\n",
    "fig.colorbar(im, ax=ax)\n",
    "xlabel = 'Decoder timestep'\n",
    "plt.xlabel(xlabel)\n",
    "plt.ylabel('Encoder timestep')\n",
    "plt.tight_layout()\n",
    "plt.show()"
   ]
  },
  {
   "cell_type": "code",
   "execution_count": 23,
   "metadata": {},
   "outputs": [
    {
     "data": {
      "text/plain": [
       "((1, 1, 408, 72), (1, 1, 408, 72))"
      ]
     },
     "execution_count": 23,
     "metadata": {},
     "output_type": "execute_result"
    }
   ],
   "source": [
    "o = sess.run([attn_soft, attn_logprob], feed_dict = {i: data['text_ids'],\n",
    "                                                    lens: data['len_text_ids'][:,0],\n",
    "                                                    mel: data['mel'],\n",
    "                                                    mel_lengths: data['len_mel'][:,0],\n",
    "                                                    prior: prior_})\n",
    "o[0].shape, o[1].shape"
   ]
  },
  {
   "cell_type": "code",
   "execution_count": 30,
   "metadata": {
    "scrolled": true
   },
   "outputs": [
    {
     "name": "stdout",
     "output_type": "stream",
     "text": [
      "0 [1844.9342, 1.0825349, None]\n",
      "1 [1838.8289, 1.0603769, None]\n",
      "2 [1829.5654, 1.0362641, None]\n",
      "3 [1820.7323, 1.0235316, None]\n",
      "4 [1811.771, 1.0006518, None]\n",
      "5 [1803.2512, 0.98392695, None]\n",
      "6 [1794.7877, 0.9756869, None]\n",
      "7 [1786.7338, 0.969407, None]\n",
      "8 [1778.1182, 0.95756054, None]\n",
      "9 [1770.5076, 0.94520074, None]\n",
      "10 [1763.511, 0.93425673, None]\n",
      "11 [1758.5092, 0.93349844, None]\n",
      "12 [1763.0798, 0.93502426, None]\n",
      "13 [1755.1587, 0.92642015, None]\n",
      "14 [1746.1981, 0.9214888, None]\n",
      "15 [1742.5638, 0.91724694, None]\n",
      "16 [1736.4275, 0.9203857, None]\n",
      "17 [1732.152, 0.915767, None]\n",
      "18 [1729.8842, 0.91320753, None]\n",
      "19 [1723.8358, 0.90144855, None]\n",
      "20 [1722.091, 0.89336985, None]\n",
      "21 [1714.9554, 0.88655597, None]\n",
      "22 [1713.2657, 0.89217764, None]\n",
      "23 [1708.4082, 0.8885563, None]\n",
      "24 [1706.8567, 0.89226395, None]\n",
      "25 [1700.5343, 0.8874561, None]\n",
      "26 [1697.4436, 0.88273215, None]\n",
      "27 [1692.0956, 0.87814033, None]\n",
      "28 [1687.7738, 0.8727214, None]\n",
      "29 [1682.5283, 0.87793565, None]\n",
      "30 [1677.9341, 0.8684665, None]\n",
      "31 [1673.1833, 0.86518157, None]\n",
      "32 [1667.5278, 0.857516, None]\n",
      "33 [1663.1036, 0.8550879, None]\n",
      "34 [1658.0365, 0.85350245, None]\n",
      "35 [1654.2173, 0.8524034, None]\n",
      "36 [1648.3116, 0.8395215, None]\n",
      "37 [1643.4762, 0.83085257, None]\n",
      "38 [1639.1061, 0.82669765, None]\n",
      "39 [1634.2131, 0.8172745, None]\n",
      "40 [1629.6952, 0.810629, None]\n",
      "41 [1624.2839, 0.8052937, None]\n",
      "42 [1619.5618, 0.79866445, None]\n",
      "43 [1612.3885, 0.79375434, None]\n",
      "44 [1608.9729, 0.80047464, None]\n",
      "45 [1603.3428, 0.7890948, None]\n",
      "46 [1601.1093, 0.79130703, None]\n",
      "47 [1592.9984, 0.7580635, None]\n",
      "48 [1587.1758, 0.7504738, None]\n",
      "49 [1579.6211, 0.75833666, None]\n",
      "50 [1577.8308, 0.76913095, None]\n",
      "51 [1568.3812, 0.74723935, None]\n",
      "52 [1563.4542, 0.7353204, None]\n",
      "53 [1557.3014, 0.7343695, None]\n",
      "54 [1551.2406, 0.73658246, None]\n",
      "55 [1546.3566, 0.73969626, None]\n",
      "56 [1540.7809, 0.72977674, None]\n",
      "57 [1534.8264, 0.7214638, None]\n",
      "58 [1530.8516, 0.7155479, None]\n",
      "59 [1524.7743, 0.7153606, None]\n",
      "60 [1519.4692, 0.7162114, None]\n",
      "61 [1514.1318, 0.70977056, None]\n",
      "62 [1507.2577, 0.70211357, None]\n",
      "63 [1502.4542, 0.69483614, None]\n",
      "64 [1495.0382, 0.6886901, None]\n",
      "65 [1488.2288, 0.68412924, None]\n",
      "66 [1483.5078, 0.6835873, None]\n",
      "67 [1479.2314, 0.6787813, None]\n",
      "68 [1475.2222, 0.6695894, None]\n",
      "69 [1472.2743, 0.6704268, None]\n",
      "70 [1468.2249, 0.66736346, None]\n",
      "71 [1461.3387, 0.6572757, None]\n",
      "72 [1459.6538, 0.66625977, None]\n",
      "73 [1453.5082, 0.6578684, None]\n",
      "74 [1451.0448, 0.6484167, None]\n",
      "75 [1449.3102, 0.6486112, None]\n",
      "76 [1443.005, 0.6483535, None]\n",
      "77 [1442.3281, 0.6458879, None]\n",
      "78 [1435.7515, 0.63636833, None]\n",
      "79 [1435.9288, 0.63819087, None]\n",
      "80 [1431.4838, 0.63581264, None]\n",
      "81 [1427.9642, 0.62994415, None]\n",
      "82 [1426.5577, 0.6360391, None]\n",
      "83 [1422.8683, 0.6296032, None]\n",
      "84 [1421.4518, 0.62466466, None]\n",
      "85 [1418.3984, 0.6210563, None]\n",
      "86 [1416.9266, 0.6255461, None]\n",
      "87 [1412.533, 0.62061846, None]\n",
      "88 [1410.9843, 0.61728513, None]\n",
      "89 [1409.0455, 0.6200763, None]\n",
      "90 [1406.5206, 0.61662, None]\n",
      "91 [1405.3658, 0.6148137, None]\n",
      "92 [1402.6215, 0.60846925, None]\n",
      "93 [1400.8328, 0.60775423, None]\n",
      "94 [1399.4572, 0.6073135, None]\n",
      "95 [1398.5127, 0.6086205, None]\n",
      "96 [1395.9127, 0.6076284, None]\n",
      "97 [1393.2498, 0.60776526, None]\n",
      "98 [1394.359, 0.6001608, None]\n",
      "99 [1392.8481, 0.6025326, None]\n"
     ]
    }
   ],
   "source": [
    "for no in range(100):\n",
    "    o = sess.run([forwardsum_loss, bin_loss, optimizer], feed_dict = {i: data['text_ids'],\n",
    "                                                        lens: data['len_text_ids'][:,0],\n",
    "                                                        mel: data['mel'],\n",
    "                                                        mel_lengths: data['len_mel'][:,0],\n",
    "                                                        prior: prior_})\n",
    "    print(no, o)"
   ]
  },
  {
   "cell_type": "code",
   "execution_count": 31,
   "metadata": {},
   "outputs": [
    {
     "data": {
      "text/plain": [
       "((1, 1, 408, 72), (1, 1, 408, 72), (1, 1, 408, 72))"
      ]
     },
     "execution_count": 31,
     "metadata": {},
     "output_type": "execute_result"
    }
   ],
   "source": [
    "o = sess.run([attn_soft, attn_logprob, attn_hard], feed_dict = {i: data['text_ids'],\n",
    "                                                    lens: data['len_text_ids'][:,0],\n",
    "                                                    mel: data['mel'],\n",
    "                                                    mel_lengths: data['len_mel'][:,0],\n",
    "                                                    prior: prior_})\n",
    "o[0].shape, o[1].shape, o[2].shape"
   ]
  },
  {
   "cell_type": "code",
   "execution_count": 32,
   "metadata": {
    "scrolled": true
   },
   "outputs": [
    {
     "data": {
      "text/plain": [
       "(408, 72)"
      ]
     },
     "execution_count": 32,
     "metadata": {},
     "output_type": "execute_result"
    }
   ],
   "source": [
    "o[0][0,0].shape"
   ]
  },
  {
   "cell_type": "code",
   "execution_count": 33,
   "metadata": {},
   "outputs": [
    {
     "data": {
      "image/png": "[encoded data removed]",
      "text/plain": [
       "<Figure size 576x432 with 2 Axes>"
      ]
     },
     "metadata": {
      "needs_background": "light"
     },
     "output_type": "display_data"
    }
   ],
   "source": [
    "fig = plt.figure(figsize=(8, 6))\n",
    "ax = fig.add_subplot(111)\n",
    "ax.set_title('Alignment steps')\n",
    "im = ax.imshow(\n",
    "    o[0][0,0],\n",
    "    aspect='auto',\n",
    "    origin='lower',\n",
    "    interpolation='none')\n",
    "fig.colorbar(im, ax=ax)\n",
    "xlabel = 'Decoder timestep'\n",
    "plt.xlabel(xlabel)\n",
    "plt.ylabel('Encoder timestep')\n",
    "plt.tight_layout()\n",
    "plt.show()"
   ]
  },
  {
   "cell_type": "code",
   "execution_count": 34,
   "metadata": {},
   "outputs": [
    {
     "data": {
      "text/plain": [
       "(408, 72)"
      ]
     },
     "execution_count": 34,
     "metadata": {},
     "output_type": "execute_result"
    }
   ],
   "source": [
    "o[0][0,0].shape"
   ]
  },
  {
   "cell_type": "code",
   "execution_count": 35,
   "metadata": {},
   "outputs": [
    {
     "data": {
      "image/png": "[encoded data removed]",
      "text/plain": [
       "<Figure size 576x432 with 2 Axes>"
      ]
     },
     "metadata": {
      "needs_background": "light"
     },
     "output_type": "display_data"
    }
   ],
   "source": [
    "fig = plt.figure(figsize=(8, 6))\n",
    "ax = fig.add_subplot(111)\n",
    "ax.set_title('Alignment steps')\n",
    "im = ax.imshow(\n",
    "    o[2][0,0],\n",
    "    aspect='auto',\n",
    "    origin='lower',\n",
    "    interpolation='none')\n",
    "fig.colorbar(im, ax=ax)\n",
    "xlabel = 'Decoder timestep'\n",
    "plt.xlabel(xlabel)\n",
    "plt.ylabel('Encoder timestep')\n",
    "plt.tight_layout()\n",
    "plt.show()"
   ]
  },
  {
   "cell_type": "code",
   "execution_count": null,
   "metadata": {
    "scrolled": true
   },
   "outputs": [],
   "source": [
    "tf.trainable_variables()"
   ]
  },
  {
   "cell_type": "code",
   "execution_count": null,
   "metadata": {},
   "outputs": [],
   "source": [
    "g = tacotron2.generate_guided_attention(\n",
    "        mel_len, input_len, reduction_factor=reduction_factor\n",
    "    )"
   ]
  },
  {
   "cell_type": "code",
   "execution_count": null,
   "metadata": {},
   "outputs": [],
   "source": [
    "g = sess.run(tacotron2.generate_guided_attention(800, 40))\n",
    "g.shape"
   ]
  },
  {
   "cell_type": "code",
   "execution_count": null,
   "metadata": {},
   "outputs": [],
   "source": [
    "g[0]"
   ]
  },
  {
   "cell_type": "code",
   "execution_count": null,
   "metadata": {},
   "outputs": [],
   "source": [
    "fig = plt.figure(figsize=(8, 6))\n",
    "ax = fig.add_subplot(111)\n",
    "ax.set_title('Alignment steps')\n",
    "im = ax.imshow(\n",
    "    g,\n",
    "    aspect='auto',\n",
    "    origin='lower',\n",
    "    interpolation='none')\n",
    "fig.colorbar(im, ax=ax)\n",
    "xlabel = 'Decoder timestep'\n",
    "plt.xlabel(xlabel)\n",
    "plt.ylabel('Encoder timestep')\n",
    "plt.tight_layout()\n",
    "plt.show()"
   ]
  },
  {
   "cell_type": "code",
   "execution_count": null,
   "metadata": {},
   "outputs": [],
   "source": [
    "saver = tf.train.Saver(tf.trainable_variables())\n",
    "saver.save(sess, 'test/model.ckpt')"
   ]
  },
  {
   "cell_type": "code",
   "execution_count": null,
   "metadata": {},
   "outputs": [],
   "source": [
    "!ls -lh test\n",
    "!rm -rf test"
   ]
  }
 ],
 "metadata": {
  "kernelspec": {
   "display_name": "Python 3",
   "language": "python",
   "name": "python3"
  },
  "language_info": {
   "codemirror_mode": {
    "name": "ipython",
    "version": 3
   },
   "file_extension": ".py",
   "mimetype": "text/x-python",
   "name": "python",
   "nbconvert_exporter": "python",
   "pygments_lexer": "ipython3",
   "version": "3.7.7"
  }
 },
 "nbformat": 4,
 "nbformat_minor": 4
}

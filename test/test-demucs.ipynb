{
 "cells": [
  {
   "cell_type": "code",
   "execution_count": 1,
   "metadata": {},
   "outputs": [],
   "source": [
    "import os\n",
    "\n",
    "os.environ['CUDA_VISIBLE_DEVICES'] = '1'"
   ]
  },
  {
   "cell_type": "code",
   "execution_count": 2,
   "metadata": {},
   "outputs": [],
   "source": [
    "import sys\n",
    "\n",
    "SOURCE_DIR = os.path.dirname(os.path.dirname(os.path.abspath(__name__)))\n",
    "sys.path.insert(0, SOURCE_DIR)"
   ]
  },
  {
   "cell_type": "code",
   "execution_count": 3,
   "metadata": {
    "scrolled": false
   },
   "outputs": [
    {
     "name": "stdout",
     "output_type": "stream",
     "text": [
      "WARNING:tensorflow:From /Users/huseinzolkepli/Documents/malaya-speech/malaya_speech/train/optimizer.py:34: The name tf.train.AdagradOptimizer is deprecated. Please use tf.compat.v1.train.AdagradOptimizer instead.\n",
      "\n",
      "WARNING:tensorflow:From /Users/huseinzolkepli/Documents/malaya-speech/malaya_speech/train/optimizer.py:35: The name tf.train.AdamOptimizer is deprecated. Please use tf.compat.v1.train.AdamOptimizer instead.\n",
      "\n",
      "WARNING:tensorflow:From /Users/huseinzolkepli/Documents/malaya-speech/malaya_speech/train/optimizer.py:36: The name tf.train.FtrlOptimizer is deprecated. Please use tf.compat.v1.train.FtrlOptimizer instead.\n",
      "\n",
      "WARNING:tensorflow:From /Users/huseinzolkepli/Documents/malaya-speech/malaya_speech/train/optimizer.py:38: The name tf.train.RMSPropOptimizer is deprecated. Please use tf.compat.v1.train.RMSPropOptimizer instead.\n",
      "\n",
      "WARNING:tensorflow:From /Users/huseinzolkepli/Documents/malaya-speech/malaya_speech/train/optimizer.py:39: The name tf.train.GradientDescentOptimizer is deprecated. Please use tf.compat.v1.train.GradientDescentOptimizer instead.\n",
      "\n",
      "WARNING:tensorflow:\n",
      "The TensorFlow contrib module will not be included in TensorFlow 2.0.\n",
      "For more information, please see:\n",
      "  * https://github.com/tensorflow/community/blob/master/rfcs/20180907-contrib-sunset.md\n",
      "  * https://github.com/tensorflow/addons\n",
      "  * https://github.com/tensorflow/io (for I/O related ops)\n",
      "If you depend on functionality not listed there, please file an issue.\n",
      "\n",
      "WARNING:tensorflow:From /Users/huseinzolkepli/Documents/malaya-speech/malaya_speech/train/model/quartznet/layer.py:6: The name tf.layers.Conv1D is deprecated. Please use tf.compat.v1.layers.Conv1D instead.\n",
      "\n"
     ]
    }
   ],
   "source": [
    "import malaya_speech\n",
    "from malaya_speech.train.model import demucs, stft\n",
    "import tensorflow as tf\n",
    "import numpy as np"
   ]
  },
  {
   "cell_type": "code",
   "execution_count": 4,
   "metadata": {
    "scrolled": true
   },
   "outputs": [
    {
     "name": "stdout",
     "output_type": "stream",
     "text": [
      "WARNING:tensorflow:From /Library/Frameworks/Python.framework/Versions/3.7/lib/python3.7/site-packages/tensorflow_core/python/ops/init_ops.py:97: calling GlorotUniform.__init__ (from tensorflow.python.ops.init_ops) with dtype is deprecated and will be removed in a future version.\n",
      "Instructions for updating:\n",
      "Call initializer instance with the dtype argument instead of passing it to the constructor\n",
      "WARNING:tensorflow:From /Library/Frameworks/Python.framework/Versions/3.7/lib/python3.7/site-packages/tensorflow_core/python/ops/init_ops.py:97: calling Orthogonal.__init__ (from tensorflow.python.ops.init_ops) with dtype is deprecated and will be removed in a future version.\n",
      "Instructions for updating:\n",
      "Call initializer instance with the dtype argument instead of passing it to the constructor\n",
      "WARNING:tensorflow:From /Library/Frameworks/Python.framework/Versions/3.7/lib/python3.7/site-packages/tensorflow_core/python/ops/init_ops.py:97: calling Zeros.__init__ (from tensorflow.python.ops.init_ops) with dtype is deprecated and will be removed in a future version.\n",
      "Instructions for updating:\n",
      "Call initializer instance with the dtype argument instead of passing it to the constructor\n",
      "Tensor(\"Pad_1:0\", shape=(?, 99668, 1), dtype=float32)\n",
      "WARNING:tensorflow:From /Library/Frameworks/Python.framework/Versions/3.7/lib/python3.7/site-packages/tensorflow_core/python/ops/resource_variable_ops.py:1630: calling BaseResourceVariable.__init__ (from tensorflow.python.ops.resource_variable_ops) with constraint is deprecated and will be removed in a future version.\n",
      "Instructions for updating:\n",
      "If using Keras pass *_constraint arguments to layers.\n",
      "WARNING:tensorflow:From /Users/huseinzolkepli/Documents/malaya-speech/malaya_speech/train/model/demucs/layer.py:44: conv1d (from tensorflow.python.layers.convolutional) is deprecated and will be removed in a future version.\n",
      "Instructions for updating:\n",
      "Use `tf.keras.layers.Conv1D` instead.\n",
      "WARNING:tensorflow:From /Library/Frameworks/Python.framework/Versions/3.7/lib/python3.7/site-packages/tensorflow_core/python/layers/convolutional.py:218: Layer.apply (from tensorflow.python.keras.engine.base_layer) is deprecated and will be removed in a future version.\n",
      "Instructions for updating:\n",
      "Please use `layer.__call__` method instead.\n",
      "Tensor(\"sequential/conv1d_1/mul:0\", shape=(?, 24916, 64), dtype=float32)\n",
      "Tensor(\"sequential_2/conv1d_4/mul:0\", shape=(?, 6228, 128), dtype=float32)\n",
      "Tensor(\"sequential_4/conv1d_7/mul:0\", shape=(?, 1556, 256), dtype=float32)\n",
      "Tensor(\"sequential_6/conv1d_10/mul:0\", shape=(?, 388, 512), dtype=float32)\n",
      "Tensor(\"sequential_8/conv1d_13/mul:0\", shape=(?, 96, 1024), dtype=float32)\n",
      "x Tensor(\"sequential_10/conv1d_16/mul:0\", shape=(?, 23, 2048), dtype=float32)\n",
      "Tensor(\"dense/BiasAdd:0\", shape=(?, 23, 2048), dtype=float32)\n",
      "Tensor(\"sequential_11/Conv1DTranspose/strided_slice:0\", shape=(?, 88, 1024), dtype=float32)\n",
      "Tensor(\"sequential_9/Conv1DTranspose/strided_slice:0\", shape=(?, 348, 512), dtype=float32)\n",
      "Tensor(\"sequential_7/Conv1DTranspose/strided_slice:0\", shape=(?, 1388, 256), dtype=float32)\n",
      "Tensor(\"sequential_5/Conv1DTranspose/strided_slice:0\", shape=(?, 5548, 128), dtype=float32)\n",
      "Tensor(\"sequential_3/Conv1DTranspose/strided_slice:0\", shape=(?, 22188, 64), dtype=float32)\n",
      "x Tensor(\"sequential_1/Conv1DTranspose/strided_slice:0\", shape=(?, 88748, 1), dtype=float32)\n"
     ]
    }
   ],
   "source": [
    "i = tf.placeholder(tf.float32, [None, 1])\n",
    "model = demucs.Model(i, sources = 1, logging = True)"
   ]
  },
  {
   "cell_type": "code",
   "execution_count": 5,
   "metadata": {},
   "outputs": [],
   "source": [
    "logits = model.logits[:tf.shape(i)[0]]"
   ]
  },
  {
   "cell_type": "code",
   "execution_count": 6,
   "metadata": {},
   "outputs": [],
   "source": [
    "# https://github.com/facebookresearch/denoiser/blob/master/denoiser/stft_loss.py#L109\n",
    "stft_loss = stft.loss.TFMultiResolutionSTFT(factor_sc = 0.1, factor_mag = 0.1)"
   ]
  },
  {
   "cell_type": "code",
   "execution_count": 7,
   "metadata": {},
   "outputs": [],
   "source": [
    "l1 = tf.reduce_mean(tf.abs(i - logits))"
   ]
  },
  {
   "cell_type": "code",
   "execution_count": 8,
   "metadata": {},
   "outputs": [],
   "source": [
    "# https://github.com/facebookresearch/denoiser/blob/master/denoiser/solver.py\n",
    "sc_loss, mag_loss = stft_loss(tf.expand_dims(i[:,0], 0), tf.expand_dims(logits[:,0], 0))\n",
    "loss = l1 + sc_loss + mag_loss"
   ]
  },
  {
   "cell_type": "code",
   "execution_count": 9,
   "metadata": {},
   "outputs": [],
   "source": [
    "sess = tf.InteractiveSession()\n",
    "sess.run(tf.global_variables_initializer())"
   ]
  },
  {
   "cell_type": "code",
   "execution_count": 10,
   "metadata": {},
   "outputs": [
    {
     "data": {
      "text/plain": [
       "(441000, 10.0)"
      ]
     },
     "execution_count": 10,
     "metadata": {},
     "output_type": "execute_result"
    }
   ],
   "source": [
    "y, sr = malaya_speech.load('../speech/7021-79759-0004.flac', sr = 44100)\n",
    "y = y[:sr * 10]\n",
    "len(y), len(y) / sr"
   ]
  },
  {
   "cell_type": "code",
   "execution_count": 11,
   "metadata": {},
   "outputs": [
    {
     "name": "stdout",
     "output_type": "stream",
     "text": [
      "CPU times: user 14.9 s, sys: 8.24 s, total: 23.1 s\n",
      "Wall time: 5.04 s\n"
     ]
    }
   ],
   "source": [
    "%%time\n",
    "\n",
    "r = sess.run(model.logits, feed_dict = {i: np.expand_dims(y, -1)})"
   ]
  },
  {
   "cell_type": "code",
   "execution_count": 12,
   "metadata": {},
   "outputs": [
    {
     "data": {
      "text/plain": [
       "(443740, 1)"
      ]
     },
     "execution_count": 12,
     "metadata": {},
     "output_type": "execute_result"
    }
   ],
   "source": [
    "r.shape"
   ]
  },
  {
   "cell_type": "code",
   "execution_count": 13,
   "metadata": {},
   "outputs": [
    {
     "name": "stdout",
     "output_type": "stream",
     "text": [
      "CPU times: user 16.5 s, sys: 8.18 s, total: 24.7 s\n",
      "Wall time: 5 s\n"
     ]
    },
    {
     "data": {
      "text/plain": [
       "array([0.45687777], dtype=float32)"
      ]
     },
     "execution_count": 13,
     "metadata": {},
     "output_type": "execute_result"
    }
   ],
   "source": [
    "%%time\n",
    "\n",
    "sess.run(loss, feed_dict = {i: np.expand_dims(y, -1)})"
   ]
  },
  {
   "cell_type": "code",
   "execution_count": 14,
   "metadata": {},
   "outputs": [],
   "source": [
    "saver = tf.train.Saver(tf.trainable_variables())"
   ]
  },
  {
   "cell_type": "code",
   "execution_count": 15,
   "metadata": {},
   "outputs": [
    {
     "data": {
      "text/plain": [
       "'test/model.ckpt'"
      ]
     },
     "execution_count": 15,
     "metadata": {},
     "output_type": "execute_result"
    }
   ],
   "source": [
    "saver.save(sess, 'test/model.ckpt')"
   ]
  },
  {
   "cell_type": "code",
   "execution_count": 16,
   "metadata": {},
   "outputs": [
    {
     "data": {
      "text/plain": [
       "[<tf.Variable 'sequential/conv1d/kernel:0' shape=(8, 1, 64) dtype=float32>,\n",
       " <tf.Variable 'sequential/conv1d/bias:0' shape=(64,) dtype=float32>,\n",
       " <tf.Variable 'sequential/conv1d_1/kernel:0' shape=(1, 64, 128) dtype=float32>,\n",
       " <tf.Variable 'sequential/conv1d_1/bias:0' shape=(128,) dtype=float32>,\n",
       " <tf.Variable 'conv1d/kernel:0' shape=(1, 64, 64) dtype=float32_ref>,\n",
       " <tf.Variable 'conv1d/bias:0' shape=(64,) dtype=float32_ref>,\n",
       " <tf.Variable 'conv1d_1/kernel:0' shape=(1, 64, 64) dtype=float32_ref>,\n",
       " <tf.Variable 'conv1d_1/bias:0' shape=(64,) dtype=float32_ref>,\n",
       " <tf.Variable 'sequential_2/conv1d_3/kernel:0' shape=(8, 64, 128) dtype=float32>,\n",
       " <tf.Variable 'sequential_2/conv1d_3/bias:0' shape=(128,) dtype=float32>,\n",
       " <tf.Variable 'sequential_2/conv1d_4/kernel:0' shape=(1, 128, 256) dtype=float32>,\n",
       " <tf.Variable 'sequential_2/conv1d_4/bias:0' shape=(256,) dtype=float32>,\n",
       " <tf.Variable 'conv1d_2/kernel:0' shape=(1, 128, 128) dtype=float32_ref>,\n",
       " <tf.Variable 'conv1d_2/bias:0' shape=(128,) dtype=float32_ref>,\n",
       " <tf.Variable 'conv1d_3/kernel:0' shape=(1, 128, 128) dtype=float32_ref>,\n",
       " <tf.Variable 'conv1d_3/bias:0' shape=(128,) dtype=float32_ref>,\n",
       " <tf.Variable 'sequential_4/conv1d_6/kernel:0' shape=(8, 128, 256) dtype=float32>,\n",
       " <tf.Variable 'sequential_4/conv1d_6/bias:0' shape=(256,) dtype=float32>,\n",
       " <tf.Variable 'sequential_4/conv1d_7/kernel:0' shape=(1, 256, 512) dtype=float32>,\n",
       " <tf.Variable 'sequential_4/conv1d_7/bias:0' shape=(512,) dtype=float32>,\n",
       " <tf.Variable 'conv1d_4/kernel:0' shape=(1, 256, 256) dtype=float32_ref>,\n",
       " <tf.Variable 'conv1d_4/bias:0' shape=(256,) dtype=float32_ref>,\n",
       " <tf.Variable 'conv1d_5/kernel:0' shape=(1, 256, 256) dtype=float32_ref>,\n",
       " <tf.Variable 'conv1d_5/bias:0' shape=(256,) dtype=float32_ref>,\n",
       " <tf.Variable 'sequential_6/conv1d_9/kernel:0' shape=(8, 256, 512) dtype=float32>,\n",
       " <tf.Variable 'sequential_6/conv1d_9/bias:0' shape=(512,) dtype=float32>,\n",
       " <tf.Variable 'sequential_6/conv1d_10/kernel:0' shape=(1, 512, 1024) dtype=float32>,\n",
       " <tf.Variable 'sequential_6/conv1d_10/bias:0' shape=(1024,) dtype=float32>,\n",
       " <tf.Variable 'conv1d_6/kernel:0' shape=(1, 512, 512) dtype=float32_ref>,\n",
       " <tf.Variable 'conv1d_6/bias:0' shape=(512,) dtype=float32_ref>,\n",
       " <tf.Variable 'conv1d_7/kernel:0' shape=(1, 512, 512) dtype=float32_ref>,\n",
       " <tf.Variable 'conv1d_7/bias:0' shape=(512,) dtype=float32_ref>,\n",
       " <tf.Variable 'sequential_8/conv1d_12/kernel:0' shape=(8, 512, 1024) dtype=float32>,\n",
       " <tf.Variable 'sequential_8/conv1d_12/bias:0' shape=(1024,) dtype=float32>,\n",
       " <tf.Variable 'sequential_8/conv1d_13/kernel:0' shape=(1, 1024, 2048) dtype=float32>,\n",
       " <tf.Variable 'sequential_8/conv1d_13/bias:0' shape=(2048,) dtype=float32>,\n",
       " <tf.Variable 'conv1d_8/kernel:0' shape=(1, 1024, 1024) dtype=float32_ref>,\n",
       " <tf.Variable 'conv1d_8/bias:0' shape=(1024,) dtype=float32_ref>,\n",
       " <tf.Variable 'conv1d_9/kernel:0' shape=(1, 1024, 1024) dtype=float32_ref>,\n",
       " <tf.Variable 'conv1d_9/bias:0' shape=(1024,) dtype=float32_ref>,\n",
       " <tf.Variable 'sequential_10/conv1d_15/kernel:0' shape=(8, 1024, 2048) dtype=float32>,\n",
       " <tf.Variable 'sequential_10/conv1d_15/bias:0' shape=(2048,) dtype=float32>,\n",
       " <tf.Variable 'sequential_10/conv1d_16/kernel:0' shape=(1, 2048, 4096) dtype=float32>,\n",
       " <tf.Variable 'sequential_10/conv1d_16/bias:0' shape=(4096,) dtype=float32>,\n",
       " <tf.Variable 'conv1d_10/kernel:0' shape=(1, 2048, 2048) dtype=float32_ref>,\n",
       " <tf.Variable 'conv1d_10/bias:0' shape=(2048,) dtype=float32_ref>,\n",
       " <tf.Variable 'conv1d_11/kernel:0' shape=(1, 2048, 2048) dtype=float32_ref>,\n",
       " <tf.Variable 'conv1d_11/bias:0' shape=(2048,) dtype=float32_ref>,\n",
       " <tf.Variable 'sequential_12/bidirectional/forward_lstm/kernel:0' shape=(2048, 8192) dtype=float32>,\n",
       " <tf.Variable 'sequential_12/bidirectional/forward_lstm/recurrent_kernel:0' shape=(2048, 8192) dtype=float32>,\n",
       " <tf.Variable 'sequential_12/bidirectional/forward_lstm/bias:0' shape=(8192,) dtype=float32>,\n",
       " <tf.Variable 'sequential_12/bidirectional/backward_lstm/kernel:0' shape=(2048, 8192) dtype=float32>,\n",
       " <tf.Variable 'sequential_12/bidirectional/backward_lstm/recurrent_kernel:0' shape=(2048, 8192) dtype=float32>,\n",
       " <tf.Variable 'sequential_12/bidirectional/backward_lstm/bias:0' shape=(8192,) dtype=float32>,\n",
       " <tf.Variable 'sequential_12/bidirectional_1/forward_lstm_1/kernel:0' shape=(4096, 8192) dtype=float32>,\n",
       " <tf.Variable 'sequential_12/bidirectional_1/forward_lstm_1/recurrent_kernel:0' shape=(2048, 8192) dtype=float32>,\n",
       " <tf.Variable 'sequential_12/bidirectional_1/forward_lstm_1/bias:0' shape=(8192,) dtype=float32>,\n",
       " <tf.Variable 'sequential_12/bidirectional_1/backward_lstm_1/kernel:0' shape=(4096, 8192) dtype=float32>,\n",
       " <tf.Variable 'sequential_12/bidirectional_1/backward_lstm_1/recurrent_kernel:0' shape=(2048, 8192) dtype=float32>,\n",
       " <tf.Variable 'sequential_12/bidirectional_1/backward_lstm_1/bias:0' shape=(8192,) dtype=float32>,\n",
       " <tf.Variable 'dense/kernel:0' shape=(4096, 2048) dtype=float32>,\n",
       " <tf.Variable 'dense/bias:0' shape=(2048,) dtype=float32>,\n",
       " <tf.Variable 'sequential_11/conv1d_17/kernel:0' shape=(3, 2048, 4096) dtype=float32>,\n",
       " <tf.Variable 'sequential_11/conv1d_17/bias:0' shape=(4096,) dtype=float32>,\n",
       " <tf.Variable 'conv1d_12/kernel:0' shape=(1, 2048, 2048) dtype=float32_ref>,\n",
       " <tf.Variable 'conv1d_12/bias:0' shape=(2048,) dtype=float32_ref>,\n",
       " <tf.Variable 'conv1d_13/kernel:0' shape=(1, 2048, 2048) dtype=float32_ref>,\n",
       " <tf.Variable 'conv1d_13/bias:0' shape=(2048,) dtype=float32_ref>,\n",
       " <tf.Variable 'sequential_11/Conv1DTranspose/conv2d_transpose_5/kernel:0' shape=(8, 1, 1024, 2048) dtype=float32>,\n",
       " <tf.Variable 'sequential_11/Conv1DTranspose/conv2d_transpose_5/bias:0' shape=(1024,) dtype=float32>,\n",
       " <tf.Variable 'sequential_9/conv1d_14/kernel:0' shape=(3, 1024, 2048) dtype=float32>,\n",
       " <tf.Variable 'sequential_9/conv1d_14/bias:0' shape=(2048,) dtype=float32>,\n",
       " <tf.Variable 'conv1d_14/kernel:0' shape=(1, 1024, 1024) dtype=float32_ref>,\n",
       " <tf.Variable 'conv1d_14/bias:0' shape=(1024,) dtype=float32_ref>,\n",
       " <tf.Variable 'conv1d_15/kernel:0' shape=(1, 1024, 1024) dtype=float32_ref>,\n",
       " <tf.Variable 'conv1d_15/bias:0' shape=(1024,) dtype=float32_ref>,\n",
       " <tf.Variable 'sequential_9/Conv1DTranspose/conv2d_transpose_4/kernel:0' shape=(8, 1, 512, 1024) dtype=float32>,\n",
       " <tf.Variable 'sequential_9/Conv1DTranspose/conv2d_transpose_4/bias:0' shape=(512,) dtype=float32>,\n",
       " <tf.Variable 'sequential_7/conv1d_11/kernel:0' shape=(3, 512, 1024) dtype=float32>,\n",
       " <tf.Variable 'sequential_7/conv1d_11/bias:0' shape=(1024,) dtype=float32>,\n",
       " <tf.Variable 'conv1d_16/kernel:0' shape=(1, 512, 512) dtype=float32_ref>,\n",
       " <tf.Variable 'conv1d_16/bias:0' shape=(512,) dtype=float32_ref>,\n",
       " <tf.Variable 'conv1d_17/kernel:0' shape=(1, 512, 512) dtype=float32_ref>,\n",
       " <tf.Variable 'conv1d_17/bias:0' shape=(512,) dtype=float32_ref>,\n",
       " <tf.Variable 'sequential_7/Conv1DTranspose/conv2d_transpose_3/kernel:0' shape=(8, 1, 256, 512) dtype=float32>,\n",
       " <tf.Variable 'sequential_7/Conv1DTranspose/conv2d_transpose_3/bias:0' shape=(256,) dtype=float32>,\n",
       " <tf.Variable 'sequential_5/conv1d_8/kernel:0' shape=(3, 256, 512) dtype=float32>,\n",
       " <tf.Variable 'sequential_5/conv1d_8/bias:0' shape=(512,) dtype=float32>,\n",
       " <tf.Variable 'conv1d_18/kernel:0' shape=(1, 256, 256) dtype=float32_ref>,\n",
       " <tf.Variable 'conv1d_18/bias:0' shape=(256,) dtype=float32_ref>,\n",
       " <tf.Variable 'conv1d_19/kernel:0' shape=(1, 256, 256) dtype=float32_ref>,\n",
       " <tf.Variable 'conv1d_19/bias:0' shape=(256,) dtype=float32_ref>,\n",
       " <tf.Variable 'sequential_5/Conv1DTranspose/conv2d_transpose_2/kernel:0' shape=(8, 1, 128, 256) dtype=float32>,\n",
       " <tf.Variable 'sequential_5/Conv1DTranspose/conv2d_transpose_2/bias:0' shape=(128,) dtype=float32>,\n",
       " <tf.Variable 'sequential_3/conv1d_5/kernel:0' shape=(3, 128, 256) dtype=float32>,\n",
       " <tf.Variable 'sequential_3/conv1d_5/bias:0' shape=(256,) dtype=float32>,\n",
       " <tf.Variable 'conv1d_20/kernel:0' shape=(1, 128, 128) dtype=float32_ref>,\n",
       " <tf.Variable 'conv1d_20/bias:0' shape=(128,) dtype=float32_ref>,\n",
       " <tf.Variable 'conv1d_21/kernel:0' shape=(1, 128, 128) dtype=float32_ref>,\n",
       " <tf.Variable 'conv1d_21/bias:0' shape=(128,) dtype=float32_ref>,\n",
       " <tf.Variable 'sequential_3/Conv1DTranspose/conv2d_transpose_1/kernel:0' shape=(8, 1, 64, 128) dtype=float32>,\n",
       " <tf.Variable 'sequential_3/Conv1DTranspose/conv2d_transpose_1/bias:0' shape=(64,) dtype=float32>,\n",
       " <tf.Variable 'sequential_1/conv1d_2/kernel:0' shape=(3, 64, 128) dtype=float32>,\n",
       " <tf.Variable 'sequential_1/conv1d_2/bias:0' shape=(128,) dtype=float32>,\n",
       " <tf.Variable 'conv1d_22/kernel:0' shape=(1, 64, 64) dtype=float32_ref>,\n",
       " <tf.Variable 'conv1d_22/bias:0' shape=(64,) dtype=float32_ref>,\n",
       " <tf.Variable 'conv1d_23/kernel:0' shape=(1, 64, 64) dtype=float32_ref>,\n",
       " <tf.Variable 'conv1d_23/bias:0' shape=(64,) dtype=float32_ref>,\n",
       " <tf.Variable 'sequential_1/Conv1DTranspose/conv2d_transpose/kernel:0' shape=(8, 1, 1, 64) dtype=float32>,\n",
       " <tf.Variable 'sequential_1/Conv1DTranspose/conv2d_transpose/bias:0' shape=(1,) dtype=float32>]"
      ]
     },
     "execution_count": 16,
     "metadata": {},
     "output_type": "execute_result"
    }
   ],
   "source": [
    "tf.trainable_variables()"
   ]
  },
  {
   "cell_type": "code",
   "execution_count": null,
   "metadata": {},
   "outputs": [],
   "source": []
  }
 ],
 "metadata": {
  "kernelspec": {
   "display_name": "Python 3",
   "language": "python",
   "name": "python3"
  },
  "language_info": {
   "codemirror_mode": {
    "name": "ipython",
    "version": 3
   },
   "file_extension": ".py",
   "mimetype": "text/x-python",
   "name": "python",
   "nbconvert_exporter": "python",
   "pygments_lexer": "ipython3",
   "version": "3.7.7"
  }
 },
 "nbformat": 4,
 "nbformat_minor": 4
}

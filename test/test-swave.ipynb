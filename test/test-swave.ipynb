{
 "cells": [
  {
   "cell_type": "code",
   "execution_count": 1,
   "id": "processed-cattle",
   "metadata": {},
   "outputs": [],
   "source": [
    "import os\n",
    "\n",
    "os.environ['CUDA_VISIBLE_DEVICES'] = '1'"
   ]
  },
  {
   "cell_type": "code",
   "execution_count": 2,
   "id": "modified-thermal",
   "metadata": {},
   "outputs": [],
   "source": [
    "import sys\n",
    "\n",
    "SOURCE_DIR = os.path.dirname(os.path.dirname(os.path.abspath(__name__)))\n",
    "sys.path.insert(0, SOURCE_DIR)"
   ]
  },
  {
   "cell_type": "code",
   "execution_count": 3,
   "id": "serious-collins",
   "metadata": {
    "scrolled": true
   },
   "outputs": [
    {
     "name": "stdout",
     "output_type": "stream",
     "text": [
      "WARNING:tensorflow:From /Users/huseinzolkepli/Documents/malaya-speech/malaya_speech/train/optimizer/__init__.py:38: The name tf.train.AdagradOptimizer is deprecated. Please use tf.compat.v1.train.AdagradOptimizer instead.\n",
      "\n",
      "WARNING:tensorflow:From /Users/huseinzolkepli/Documents/malaya-speech/malaya_speech/train/optimizer/__init__.py:39: The name tf.train.AdamOptimizer is deprecated. Please use tf.compat.v1.train.AdamOptimizer instead.\n",
      "\n",
      "WARNING:tensorflow:From /Users/huseinzolkepli/Documents/malaya-speech/malaya_speech/train/optimizer/__init__.py:40: The name tf.train.FtrlOptimizer is deprecated. Please use tf.compat.v1.train.FtrlOptimizer instead.\n",
      "\n",
      "WARNING:tensorflow:From /Users/huseinzolkepli/Documents/malaya-speech/malaya_speech/train/optimizer/__init__.py:42: The name tf.train.RMSPropOptimizer is deprecated. Please use tf.compat.v1.train.RMSPropOptimizer instead.\n",
      "\n",
      "WARNING:tensorflow:From /Users/huseinzolkepli/Documents/malaya-speech/malaya_speech/train/optimizer/__init__.py:43: The name tf.train.GradientDescentOptimizer is deprecated. Please use tf.compat.v1.train.GradientDescentOptimizer instead.\n",
      "\n",
      "WARNING:tensorflow:\n",
      "The TensorFlow contrib module will not be included in TensorFlow 2.0.\n",
      "For more information, please see:\n",
      "  * https://github.com/tensorflow/community/blob/master/rfcs/20180907-contrib-sunset.md\n",
      "  * https://github.com/tensorflow/addons\n",
      "  * https://github.com/tensorflow/io (for I/O related ops)\n",
      "If you depend on functionality not listed there, please file an issue.\n",
      "\n"
     ]
    }
   ],
   "source": [
    "import malaya_speech\n",
    "import tensorflow as tf\n",
    "from malaya_speech.train.model import swave\n",
    "import malaya_speech.augmentation.waveform as augmentation\n",
    "import numpy as np"
   ]
  },
  {
   "cell_type": "code",
   "execution_count": 4,
   "id": "involved-entry",
   "metadata": {},
   "outputs": [
    {
     "data": {
      "text/plain": [
       "8"
      ]
     },
     "execution_count": 4,
     "metadata": {},
     "output_type": "execute_result"
    }
   ],
   "source": [
    "from glob import glob\n",
    "\n",
    "wavs = glob('../speech/example-speaker/*.wav')\n",
    "len(wavs)"
   ]
  },
  {
   "cell_type": "code",
   "execution_count": 5,
   "id": "incoming-princeton",
   "metadata": {},
   "outputs": [],
   "source": [
    "import random\n",
    "\n",
    "sr = 8000\n",
    "speakers_size = 4\n",
    "\n",
    "def read_wav(f):\n",
    "    return malaya_speech.load(f, sr = sr)\n",
    "\n",
    "def random_sampling(s, length):\n",
    "    return augmentation.random_sampling(s, sr = sr, length = length)\n",
    "\n",
    "def combine_speakers(files, n = 5, limit = 4):\n",
    "    w_samples = random.sample(files, n)\n",
    "    w_samples = [\n",
    "        random_sampling(\n",
    "            read_wav(f)[0],\n",
    "            length = min(\n",
    "                random.randint(10000 // n, 20000 // n), 10000\n",
    "            ),\n",
    "        )\n",
    "        for f in w_samples\n",
    "    ]\n",
    "    y = [w_samples[0]]\n",
    "    left = w_samples[0].copy() * random.uniform(0.5, 1.0)\n",
    "    start, end = [], []\n",
    "    start.append(0)\n",
    "    end.append(len(left))\n",
    "\n",
    "    combined = None\n",
    "\n",
    "    for i in range(1, n):\n",
    "        right = w_samples[i].copy() * random.uniform(0.5, 1.0)\n",
    "        overlap = random.uniform(0.1, 0.9)\n",
    "        print(i, overlap, len(right))\n",
    "        len_overlap = int(overlap * len(right))\n",
    "        minus = len(left) - len_overlap\n",
    "        padded_right = np.pad(right, (minus, 0))\n",
    "        start.append(minus)\n",
    "        end.append(len(padded_right))\n",
    "        left = np.pad(left, (0, len(padded_right) - len(left)))\n",
    "\n",
    "        left = left + padded_right\n",
    "\n",
    "        if i >= (limit - 1):\n",
    "            if combined is None:\n",
    "                combined = padded_right\n",
    "            else:\n",
    "                combined = np.pad(\n",
    "                    combined, (0, len(padded_right) - len(combined))\n",
    "                )\n",
    "                combined += padded_right\n",
    "\n",
    "        else:\n",
    "            y.append(padded_right)\n",
    "\n",
    "    if combined is not None:\n",
    "        y.append(combined)\n",
    "\n",
    "    for i in range(len(y)):\n",
    "        if len(y[i]) != len(left):\n",
    "            y[i] = np.pad(y[i], (0, len(left) - len(y[i])))\n",
    "            y[i] = y[i] / np.max(np.abs(y[i]))\n",
    "\n",
    "    left = left / np.max(np.abs(left))\n",
    "    \n",
    "    while len(y) < limit:\n",
    "        y.append(np.zeros((len(left))))\n",
    "        start.append(0)\n",
    "        end.append(0)\n",
    "        \n",
    "    return left, y, start[:limit], end[:limit]\n",
    "\n",
    "# y, _ = malaya_speech.load('../speech/example-speaker/husein-zolkepli.wav')\n",
    "# y = np.expand_dims(y, 0).astype(np.float32)\n",
    "# y.shape"
   ]
  },
  {
   "cell_type": "code",
   "execution_count": 6,
   "id": "boring-adjustment",
   "metadata": {},
   "outputs": [
    {
     "name": "stdout",
     "output_type": "stream",
     "text": [
      "1 0.11166437227593162 31436\n"
     ]
    },
    {
     "data": {
      "text/plain": [
       "(12.10075, 4, [0, 65370, 0, 0], [68880, 96806, 0, 0])"
      ]
     },
     "execution_count": 6,
     "metadata": {},
     "output_type": "execute_result"
    }
   ],
   "source": [
    "left, y, start, end = combine_speakers(wavs, random.randint(1, len(wavs)))\n",
    "len(left) / sr, len(y), start, end"
   ]
  },
  {
   "cell_type": "code",
   "execution_count": 7,
   "id": "geological-vertical",
   "metadata": {
    "scrolled": true
   },
   "outputs": [
    {
     "name": "stdout",
     "output_type": "stream",
     "text": [
      "WARNING:tensorflow:From /Users/huseinzolkepli/Documents/tf-1.15/env/lib/python3.7/site-packages/tensorflow_core/python/ops/init_ops.py:97: calling GlorotUniform.__init__ (from tensorflow.python.ops.init_ops) with dtype is deprecated and will be removed in a future version.\n",
      "Instructions for updating:\n",
      "Call initializer instance with the dtype argument instead of passing it to the constructor\n",
      "WARNING:tensorflow:From /Users/huseinzolkepli/Documents/tf-1.15/env/lib/python3.7/site-packages/tensorflow_core/python/ops/init_ops.py:97: calling Orthogonal.__init__ (from tensorflow.python.ops.init_ops) with dtype is deprecated and will be removed in a future version.\n",
      "Instructions for updating:\n",
      "Call initializer instance with the dtype argument instead of passing it to the constructor\n",
      "WARNING:tensorflow:From /Users/huseinzolkepli/Documents/tf-1.15/env/lib/python3.7/site-packages/tensorflow_core/python/ops/init_ops.py:97: calling Zeros.__init__ (from tensorflow.python.ops.init_ops) with dtype is deprecated and will be removed in a future version.\n",
      "Instructions for updating:\n",
      "Call initializer instance with the dtype argument instead of passing it to the constructor\n"
     ]
    }
   ],
   "source": [
    "model = swave.Model(C = speakers_size, sample_rate = sr)"
   ]
  },
  {
   "cell_type": "code",
   "execution_count": 8,
   "id": "behind-praise",
   "metadata": {
    "scrolled": false
   },
   "outputs": [
    {
     "name": "stdout",
     "output_type": "stream",
     "text": [
      "WARNING:tensorflow:From /Users/huseinzolkepli/Documents/tf-1.15/env/lib/python3.7/site-packages/tensorflow_core/python/ops/resource_variable_ops.py:1630: calling BaseResourceVariable.__init__ (from tensorflow.python.ops.resource_variable_ops) with constraint is deprecated and will be removed in a future version.\n",
      "Instructions for updating:\n",
      "If using Keras pass *_constraint arguments to layers.\n",
      "WARNING:tensorflow:From /Users/huseinzolkepli/Documents/malaya-speech/malaya_speech/train/model/swave/model.py:28: average_pooling2d (from tensorflow.python.layers.pooling) is deprecated and will be removed in a future version.\n",
      "Instructions for updating:\n",
      "Use keras.layers.AveragePooling2D instead.\n",
      "WARNING:tensorflow:From /Users/huseinzolkepli/Documents/tf-1.15/env/lib/python3.7/site-packages/tensorflow_core/python/layers/pooling.py:238: Layer.apply (from tensorflow.python.keras.engine.base_layer) is deprecated and will be removed in a future version.\n",
      "Instructions for updating:\n",
      "Please use `layer.__call__` method instead.\n"
     ]
    }
   ],
   "source": [
    "X = tf.placeholder(tf.float32, [None, None])\n",
    "Y = tf.placeholder(tf.float32, [None, speakers_size, None])\n",
    "lengths = tf.placeholder(tf.int32, [None])\n",
    "outputs, output_all = model(X)"
   ]
  },
  {
   "cell_type": "code",
   "execution_count": 9,
   "id": "respective-heater",
   "metadata": {},
   "outputs": [
    {
     "data": {
      "text/plain": [
       "[<tf.Tensor 'swave/cond/Merge:0' shape=(?, 4, ?) dtype=float32>,\n",
       " <tf.Tensor 'swave/cond_1/Merge:0' shape=(?, 4, ?) dtype=float32>,\n",
       " <tf.Tensor 'swave/cond_2/Merge:0' shape=(?, 4, ?) dtype=float32>,\n",
       " <tf.Tensor 'swave/cond_3/Merge:0' shape=(?, 4, ?) dtype=float32>,\n",
       " <tf.Tensor 'swave/cond_4/Merge:0' shape=(?, 4, ?) dtype=float32>,\n",
       " <tf.Tensor 'swave/cond_5/Merge:0' shape=(?, 4, ?) dtype=float32>]"
      ]
     },
     "execution_count": 9,
     "metadata": {},
     "output_type": "execute_result"
    }
   ],
   "source": [
    "outputs"
   ]
  },
  {
   "cell_type": "code",
   "execution_count": 10,
   "id": "stopped-slovenia",
   "metadata": {},
   "outputs": [
    {
     "name": "stdout",
     "output_type": "stream",
     "text": [
      "0 Tensor(\"swave/cond/Merge:0\", shape=(?, 4, ?), dtype=float32) 0.16666666666666666\n",
      "Tensor(\"sub:0\", shape=(?, 4, ?), dtype=float32) Tensor(\"sub_1:0\", shape=(?, 4, ?), dtype=float32)\n",
      "WARNING:tensorflow:From /Users/huseinzolkepli/Documents/malaya-speech/malaya_speech/train/model/utils.py:32: The name tf.log is deprecated. Please use tf.math.log instead.\n",
      "\n",
      "1 Tensor(\"swave/cond_1/Merge:0\", shape=(?, 4, ?), dtype=float32) 0.3333333333333333\n",
      "Tensor(\"sub_4:0\", shape=(?, 4, ?), dtype=float32) Tensor(\"sub_5:0\", shape=(?, 4, ?), dtype=float32)\n",
      "2 Tensor(\"swave/cond_2/Merge:0\", shape=(?, 4, ?), dtype=float32) 0.5\n",
      "Tensor(\"sub_8:0\", shape=(?, 4, ?), dtype=float32) Tensor(\"sub_9:0\", shape=(?, 4, ?), dtype=float32)\n",
      "3 Tensor(\"swave/cond_3/Merge:0\", shape=(?, 4, ?), dtype=float32) 0.6666666666666666\n",
      "Tensor(\"sub_12:0\", shape=(?, 4, ?), dtype=float32) Tensor(\"sub_13:0\", shape=(?, 4, ?), dtype=float32)\n",
      "4 Tensor(\"swave/cond_4/Merge:0\", shape=(?, 4, ?), dtype=float32) 0.8333333333333333\n",
      "Tensor(\"sub_16:0\", shape=(?, 4, ?), dtype=float32) Tensor(\"sub_17:0\", shape=(?, 4, ?), dtype=float32)\n",
      "5 Tensor(\"swave/cond_5/Merge:0\", shape=(?, 4, ?), dtype=float32) 1.0\n",
      "Tensor(\"sub_20:0\", shape=(?, 4, ?), dtype=float32) Tensor(\"sub_21:0\", shape=(?, 4, ?), dtype=float32)\n"
     ]
    }
   ],
   "source": [
    "loss = 0\n",
    "for c_idx, est_src in enumerate(outputs):\n",
    "    coeff = ((c_idx + 1) * (1 / len(outputs)))\n",
    "    print(c_idx, est_src, coeff)\n",
    "    sisnr_loss, snr, est_src = swave.calculate_loss(Y, est_src, lengths, C = speakers_size)\n",
    "    loss += (coeff * sisnr_loss)\n",
    "    \n",
    "loss /= len(outputs)"
   ]
  },
  {
   "cell_type": "code",
   "execution_count": 11,
   "id": "junior-tower",
   "metadata": {},
   "outputs": [
    {
     "data": {
      "text/plain": [
       "<tf.Tensor 'swave/cond_5/Merge:0' shape=(?, 4, ?) dtype=float32>"
      ]
     },
     "execution_count": 11,
     "metadata": {},
     "output_type": "execute_result"
    }
   ],
   "source": [
    "est_src"
   ]
  },
  {
   "cell_type": "code",
   "execution_count": 12,
   "id": "oriental-smith",
   "metadata": {},
   "outputs": [],
   "source": [
    "sess = tf.InteractiveSession()\n",
    "sess.run(tf.global_variables_initializer())"
   ]
  },
  {
   "cell_type": "code",
   "execution_count": 13,
   "id": "historic-brother",
   "metadata": {},
   "outputs": [
    {
     "name": "stdout",
     "output_type": "stream",
     "text": [
      "CPU times: user 1min 19s, sys: 26.5 s, total: 1min 45s\n",
      "Wall time: 18.1 s\n"
     ]
    }
   ],
   "source": [
    "%%time\n",
    "\n",
    "o = sess.run(output_all, feed_dict = {X: [left, left]})"
   ]
  },
  {
   "cell_type": "code",
   "execution_count": 14,
   "id": "romantic-psychology",
   "metadata": {},
   "outputs": [],
   "source": [
    "o = sess.run(outputs, feed_dict = {X: [left, left]})"
   ]
  },
  {
   "cell_type": "code",
   "execution_count": 15,
   "id": "mineral-plumbing",
   "metadata": {},
   "outputs": [
    {
     "data": {
      "text/plain": [
       "[(2, 4, 96806),\n",
       " (2, 4, 96806),\n",
       " (2, 4, 96806),\n",
       " (2, 4, 96806),\n",
       " (2, 4, 96806),\n",
       " (2, 4, 96806)]"
      ]
     },
     "execution_count": 15,
     "metadata": {},
     "output_type": "execute_result"
    }
   ],
   "source": [
    "[i.shape for i in o]"
   ]
  },
  {
   "cell_type": "code",
   "execution_count": 21,
   "id": "satisfied-peter",
   "metadata": {},
   "outputs": [
    {
     "data": {
      "text/plain": [
       "37.62079"
      ]
     },
     "execution_count": 21,
     "metadata": {},
     "output_type": "execute_result"
    }
   ],
   "source": [
    "sess.run(loss, feed_dict = {X: [left] * 3, Y: [y] * 3, lengths: [len(left)] * 3})"
   ]
  },
  {
   "cell_type": "code",
   "execution_count": 17,
   "id": "official-essay",
   "metadata": {},
   "outputs": [],
   "source": [
    "saver = tf.train.Saver()"
   ]
  },
  {
   "cell_type": "code",
   "execution_count": 18,
   "id": "legitimate-pioneer",
   "metadata": {},
   "outputs": [
    {
     "data": {
      "text/plain": [
       "'test/model.ckpt'"
      ]
     },
     "execution_count": 18,
     "metadata": {},
     "output_type": "execute_result"
    }
   ],
   "source": [
    "saver.save(sess, 'test/model.ckpt')"
   ]
  },
  {
   "cell_type": "code",
   "execution_count": 19,
   "id": "rising-hamilton",
   "metadata": {},
   "outputs": [
    {
     "name": "stdout",
     "output_type": "stream",
     "text": [
      "total 71064\r\n",
      "-rw-r--r--  1 huseinzolkepli  staff    77B Mar  1 22:50 checkpoint\r\n",
      "-rw-r--r--  1 huseinzolkepli  staff    29M Mar  1 22:50 model.ckpt.data-00000-of-00001\r\n",
      "-rw-r--r--  1 huseinzolkepli  staff    10K Mar  1 22:50 model.ckpt.index\r\n",
      "-rw-r--r--  1 huseinzolkepli  staff   5.8M Mar  1 22:50 model.ckpt.meta\r\n"
     ]
    }
   ],
   "source": [
    "!ls -lh test"
   ]
  },
  {
   "cell_type": "code",
   "execution_count": 20,
   "id": "expired-venue",
   "metadata": {},
   "outputs": [],
   "source": [
    "!rm -rf test"
   ]
  },
  {
   "cell_type": "code",
   "execution_count": null,
   "id": "heated-basics",
   "metadata": {},
   "outputs": [],
   "source": []
  }
 ],
 "metadata": {
  "kernelspec": {
   "display_name": "Python 3",
   "language": "python",
   "name": "python3"
  },
  "language_info": {
   "codemirror_mode": {
    "name": "ipython",
    "version": 3
   },
   "file_extension": ".py",
   "mimetype": "text/x-python",
   "name": "python",
   "nbconvert_exporter": "python",
   "pygments_lexer": "ipython3",
   "version": "3.7.7"
  }
 },
 "nbformat": 4,
 "nbformat_minor": 5
}

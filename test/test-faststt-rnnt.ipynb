{
 "cells": [
  {
   "cell_type": "code",
   "execution_count": 1,
   "id": "cathedral-philadelphia",
   "metadata": {},
   "outputs": [],
   "source": [
    "import os\n",
    "\n",
    "os.environ['CUDA_VISIBLE_DEVICES'] = '1'"
   ]
  },
  {
   "cell_type": "code",
   "execution_count": 2,
   "id": "honest-timer",
   "metadata": {},
   "outputs": [],
   "source": [
    "import sys\n",
    "\n",
    "SOURCE_DIR = os.path.dirname(os.path.dirname(os.path.abspath(__name__)))\n",
    "sys.path.insert(0, SOURCE_DIR)"
   ]
  },
  {
   "cell_type": "code",
   "execution_count": 3,
   "id": "vanilla-breakdown",
   "metadata": {},
   "outputs": [
    {
     "name": "stdout",
     "output_type": "stream",
     "text": [
      "WARNING:tensorflow:From /Users/huseinzolkepli/Documents/malaya-speech/malaya_speech/train/optimizer/__init__.py:38: The name tf.train.AdagradOptimizer is deprecated. Please use tf.compat.v1.train.AdagradOptimizer instead.\n",
      "\n",
      "WARNING:tensorflow:From /Users/huseinzolkepli/Documents/malaya-speech/malaya_speech/train/optimizer/__init__.py:39: The name tf.train.AdamOptimizer is deprecated. Please use tf.compat.v1.train.AdamOptimizer instead.\n",
      "\n",
      "WARNING:tensorflow:From /Users/huseinzolkepli/Documents/malaya-speech/malaya_speech/train/optimizer/__init__.py:40: The name tf.train.FtrlOptimizer is deprecated. Please use tf.compat.v1.train.FtrlOptimizer instead.\n",
      "\n",
      "WARNING:tensorflow:From /Users/huseinzolkepli/Documents/malaya-speech/malaya_speech/train/optimizer/__init__.py:42: The name tf.train.RMSPropOptimizer is deprecated. Please use tf.compat.v1.train.RMSPropOptimizer instead.\n",
      "\n",
      "WARNING:tensorflow:From /Users/huseinzolkepli/Documents/malaya-speech/malaya_speech/train/optimizer/__init__.py:43: The name tf.train.GradientDescentOptimizer is deprecated. Please use tf.compat.v1.train.GradientDescentOptimizer instead.\n",
      "\n",
      "WARNING:tensorflow:\n",
      "The TensorFlow contrib module will not be included in TensorFlow 2.0.\n",
      "For more information, please see:\n",
      "  * https://github.com/tensorflow/community/blob/master/rfcs/20180907-contrib-sunset.md\n",
      "  * https://github.com/tensorflow/addons\n",
      "  * https://github.com/tensorflow/io (for I/O related ops)\n",
      "If you depend on functionality not listed there, please file an issue.\n",
      "\n"
     ]
    }
   ],
   "source": [
    "import malaya_speech\n",
    "import malaya_speech.config\n",
    "from malaya_speech.train.model import faststt, fastspeech, transducer\n",
    "import tensorflow as tf"
   ]
  },
  {
   "cell_type": "code",
   "execution_count": 4,
   "id": "characteristic-moore",
   "metadata": {},
   "outputs": [],
   "source": [
    "config = malaya_speech.config.fastspeech2_config_v2\n",
    "config = fastspeech.Config(vocab_size = 1, **config)"
   ]
  },
  {
   "cell_type": "code",
   "execution_count": 5,
   "id": "aerial-particular",
   "metadata": {
    "scrolled": true
   },
   "outputs": [
    {
     "name": "stdout",
     "output_type": "stream",
     "text": [
      "WARNING:tensorflow:From /Users/huseinzolkepli/Documents/malaya-speech/malaya_speech/train/model/fastspeech/layer.py:11: The name tf.keras.initializers.TruncatedNormal is deprecated. Please use tf.compat.v1.keras.initializers.TruncatedNormal instead.\n",
      "\n",
      "WARNING:tensorflow:From /Users/huseinzolkepli/Documents/tf-1.15/env/lib/python3.7/site-packages/tensorflow_core/python/keras/initializers.py:94: calling TruncatedNormal.__init__ (from tensorflow.python.ops.init_ops) with dtype is deprecated and will be removed in a future version.\n",
      "Instructions for updating:\n",
      "Call initializer instance with the dtype argument instead of passing it to the constructor\n"
     ]
    }
   ],
   "source": [
    "model = faststt.Model(config.encoder_self_attention_params)"
   ]
  },
  {
   "cell_type": "code",
   "execution_count": 6,
   "id": "undefined-surveillance",
   "metadata": {},
   "outputs": [],
   "source": [
    "config = malaya_speech.config.conformer_base_decoder_config\n",
    "small_transducer = transducer.rnn.Model(model, vocabulary_size = 100, **config)"
   ]
  },
  {
   "cell_type": "code",
   "execution_count": 7,
   "id": "seasonal-documentary",
   "metadata": {},
   "outputs": [],
   "source": [
    "config = malaya_speech.config.transducer_featurizer_config\n",
    "featurizer = malaya_speech.utils.tf_featurization.STTFeaturizer(**config)"
   ]
  },
  {
   "cell_type": "code",
   "execution_count": 8,
   "id": "flexible-brooklyn",
   "metadata": {},
   "outputs": [],
   "source": [
    "k = 0.0062169171196134855\n",
    "\n",
    "i = tf.placeholder(tf.float32, [None, None])\n",
    "lengths = tf.placeholder(tf.float32, [None])\n",
    "v = tf.expand_dims(tf.map_fn(featurizer.vectorize, i), -1)\n",
    "length_v = tf.cast(lengths * k, tf.int32)"
   ]
  },
  {
   "cell_type": "code",
   "execution_count": 9,
   "id": "flying-wellington",
   "metadata": {},
   "outputs": [
    {
     "name": "stdout",
     "output_type": "stream",
     "text": [
      "WARNING:tensorflow:From /Users/huseinzolkepli/Documents/tf-1.15/env/lib/python3.7/site-packages/tensorflow_core/python/ops/resource_variable_ops.py:1630: calling BaseResourceVariable.__init__ (from tensorflow.python.ops.resource_variable_ops) with constraint is deprecated and will be removed in a future version.\n",
      "Instructions for updating:\n",
      "If using Keras pass *_constraint arguments to layers.\n"
     ]
    },
    {
     "data": {
      "text/plain": [
       "TensorShape([Dimension(None), Dimension(None), Dimension(256)])"
      ]
     },
     "execution_count": 9,
     "metadata": {},
     "output_type": "execute_result"
    }
   ],
   "source": [
    "out = model(v)\n",
    "out.shape"
   ]
  },
  {
   "cell_type": "code",
   "execution_count": 10,
   "id": "french-director",
   "metadata": {},
   "outputs": [
    {
     "name": "stdout",
     "output_type": "stream",
     "text": [
      "WARNING:tensorflow:From /Users/huseinzolkepli/Documents/malaya-speech/malaya_speech/train/model/transducer/layer.py:37: The name tf.get_variable is deprecated. Please use tf.compat.v1.get_variable instead.\n",
      "\n",
      "WARNING:tensorflow:From /Users/huseinzolkepli/Documents/tf-1.15/env/lib/python3.7/site-packages/tensorflow_core/python/keras/backend.py:3994: where (from tensorflow.python.ops.array_ops) is deprecated and will be removed in a future version.\n",
      "Instructions for updating:\n",
      "Use tf.where in 2.0, which has the same broadcast rule as np.where\n"
     ]
    },
    {
     "data": {
      "text/plain": [
       "<tf.Tensor 'transducer/transducer_joint/transducer_joint_vocab/BiasAdd:0' shape=(?, ?, ?, 100) dtype=float32>"
      ]
     },
     "execution_count": 10,
     "metadata": {},
     "output_type": "execute_result"
    }
   ],
   "source": [
    "p = tf.placeholder(tf.int32, [None, None])\n",
    "p_len = tf.placeholder(tf.int32, [None])\n",
    "\n",
    "small_logits = small_transducer([v, p, p_len], training = True)\n",
    "small_logits"
   ]
  },
  {
   "cell_type": "code",
   "execution_count": 11,
   "id": "restricted-murder",
   "metadata": {},
   "outputs": [],
   "source": [
    "sess = tf.Session()\n",
    "sess.run(tf.global_variables_initializer())"
   ]
  },
  {
   "cell_type": "code",
   "execution_count": 12,
   "id": "prescribed-utility",
   "metadata": {},
   "outputs": [
    {
     "data": {
      "text/plain": [
       "(90090, 56298)"
      ]
     },
     "execution_count": 12,
     "metadata": {},
     "output_type": "execute_result"
    }
   ],
   "source": [
    "y, sr = malaya_speech.load('../speech/example-speaker/husein-zolkepli.wav', sr = 16000)\n",
    "y1, sr = malaya_speech.load('../speech/example-speaker/shafiqah-idayu.wav', sr = 16000)\n",
    "len(y), len(y1)"
   ]
  },
  {
   "cell_type": "code",
   "execution_count": 13,
   "id": "enclosed-calvin",
   "metadata": {},
   "outputs": [],
   "source": [
    "padded, lens = malaya_speech.padding.sequence_1d([y, y1], return_len = True)\n",
    "t = [[1,1,1,1,1,1], [1,1,1,1,1,1]]"
   ]
  },
  {
   "cell_type": "code",
   "execution_count": 16,
   "id": "sonic-kentucky",
   "metadata": {},
   "outputs": [],
   "source": [
    "# %%time\n",
    "\n",
    "# sess.run(out, feed_dict = {i: y}).shape"
   ]
  },
  {
   "cell_type": "code",
   "execution_count": 17,
   "id": "potential-liberia",
   "metadata": {},
   "outputs": [],
   "source": [
    "# %%time\n",
    "\n",
    "# sess.run(out, feed_dict = {i: y1}).shape"
   ]
  },
  {
   "cell_type": "code",
   "execution_count": 21,
   "id": "compatible-easter",
   "metadata": {},
   "outputs": [
    {
     "name": "stdout",
     "output_type": "stream",
     "text": [
      "CPU times: user 302 ms, sys: 114 ms, total: 416 ms\n",
      "Wall time: 97.9 ms\n"
     ]
    },
    {
     "data": {
      "text/plain": [
       "(2, 141, 6, 100)"
      ]
     },
     "execution_count": 21,
     "metadata": {},
     "output_type": "execute_result"
    }
   ],
   "source": [
    "%%time\n",
    "\n",
    "sess.run(small_logits, feed_dict = {i: padded, lengths: lens, p: t, p_len: [6, 6]}).shape"
   ]
  },
  {
   "cell_type": "code",
   "execution_count": null,
   "id": "environmental-length",
   "metadata": {},
   "outputs": [],
   "source": [
    "saver = tf.train.Saver()"
   ]
  },
  {
   "cell_type": "code",
   "execution_count": null,
   "id": "present-hollywood",
   "metadata": {},
   "outputs": [],
   "source": [
    "saver.save(sess, 'test/model.ckpt')"
   ]
  },
  {
   "cell_type": "code",
   "execution_count": null,
   "id": "pleased-emperor",
   "metadata": {},
   "outputs": [],
   "source": [
    "!ls -lh test"
   ]
  },
  {
   "cell_type": "code",
   "execution_count": null,
   "id": "orange-magic",
   "metadata": {},
   "outputs": [],
   "source": []
  }
 ],
 "metadata": {
  "kernelspec": {
   "display_name": "Python 3",
   "language": "python",
   "name": "python3"
  },
  "language_info": {
   "codemirror_mode": {
    "name": "ipython",
    "version": 3
   },
   "file_extension": ".py",
   "mimetype": "text/x-python",
   "name": "python",
   "nbconvert_exporter": "python",
   "pygments_lexer": "ipython3",
   "version": "3.7.7"
  }
 },
 "nbformat": 4,
 "nbformat_minor": 5
}

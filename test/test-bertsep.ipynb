{
 "cells": [
  {
   "cell_type": "code",
   "execution_count": 1,
   "id": "compatible-redhead",
   "metadata": {},
   "outputs": [],
   "source": [
    "import os\n",
    "\n",
    "os.environ['CUDA_VISIBLE_DEVICES'] = '1'"
   ]
  },
  {
   "cell_type": "code",
   "execution_count": 2,
   "id": "conservative-helping",
   "metadata": {},
   "outputs": [],
   "source": [
    "import sys\n",
    "\n",
    "SOURCE_DIR = os.path.dirname(os.path.dirname(os.path.abspath(__name__)))\n",
    "sys.path.insert(0, SOURCE_DIR)"
   ]
  },
  {
   "cell_type": "code",
   "execution_count": 3,
   "id": "perceived-substance",
   "metadata": {},
   "outputs": [
    {
     "name": "stdout",
     "output_type": "stream",
     "text": [
      "WARNING:tensorflow:From /Users/huseinzolkepli/Documents/malaya-speech/malaya_speech/train/optimizer/__init__.py:38: The name tf.train.AdagradOptimizer is deprecated. Please use tf.compat.v1.train.AdagradOptimizer instead.\n",
      "\n",
      "WARNING:tensorflow:From /Users/huseinzolkepli/Documents/malaya-speech/malaya_speech/train/optimizer/__init__.py:39: The name tf.train.AdamOptimizer is deprecated. Please use tf.compat.v1.train.AdamOptimizer instead.\n",
      "\n",
      "WARNING:tensorflow:From /Users/huseinzolkepli/Documents/malaya-speech/malaya_speech/train/optimizer/__init__.py:40: The name tf.train.FtrlOptimizer is deprecated. Please use tf.compat.v1.train.FtrlOptimizer instead.\n",
      "\n",
      "WARNING:tensorflow:From /Users/huseinzolkepli/Documents/malaya-speech/malaya_speech/train/optimizer/__init__.py:42: The name tf.train.RMSPropOptimizer is deprecated. Please use tf.compat.v1.train.RMSPropOptimizer instead.\n",
      "\n",
      "WARNING:tensorflow:From /Users/huseinzolkepli/Documents/malaya-speech/malaya_speech/train/optimizer/__init__.py:43: The name tf.train.GradientDescentOptimizer is deprecated. Please use tf.compat.v1.train.GradientDescentOptimizer instead.\n",
      "\n",
      "WARNING:tensorflow:\n",
      "The TensorFlow contrib module will not be included in TensorFlow 2.0.\n",
      "For more information, please see:\n",
      "  * https://github.com/tensorflow/community/blob/master/rfcs/20180907-contrib-sunset.md\n",
      "  * https://github.com/tensorflow/addons\n",
      "  * https://github.com/tensorflow/io (for I/O related ops)\n",
      "If you depend on functionality not listed there, please file an issue.\n",
      "\n"
     ]
    }
   ],
   "source": [
    "import malaya_speech\n",
    "import tensorflow as tf\n",
    "from malaya_speech.train.model import fastsplit, fastspeech, bert\n",
    "from malaya_speech.train.model import sepformer\n",
    "import malaya_speech.augmentation.waveform as augmentation\n",
    "import numpy as np"
   ]
  },
  {
   "cell_type": "code",
   "execution_count": 4,
   "id": "abstract-investigator",
   "metadata": {},
   "outputs": [
    {
     "data": {
      "text/plain": [
       "8"
      ]
     },
     "execution_count": 4,
     "metadata": {},
     "output_type": "execute_result"
    }
   ],
   "source": [
    "from glob import glob\n",
    "\n",
    "wavs = glob('../speech/example-speaker/*.wav')\n",
    "len(wavs)"
   ]
  },
  {
   "cell_type": "code",
   "execution_count": 5,
   "id": "seventh-vegetation",
   "metadata": {},
   "outputs": [],
   "source": [
    "import random\n",
    "\n",
    "sr = 22050\n",
    "speakers_size = 4\n",
    "\n",
    "# noise = malaya_speech.load('noise.wav', sr = sr)[0]\n",
    "\n",
    "def read_wav(f):\n",
    "    return malaya_speech.load(f, sr = sr)\n",
    "\n",
    "\n",
    "def random_sampling(s, length):\n",
    "    return augmentation.random_sampling(s, sr = sr, length = length)\n",
    "\n",
    "def to_mel(y):\n",
    "    mel = malaya_speech.featurization.universal_mel(y)\n",
    "    mel[mel <= np.log(1e-2)] = np.log(1e-2)\n",
    "    return mel\n",
    "\n",
    "def combine_speakers(files, n = 5, limit = 4):\n",
    "    w_samples = random.sample(files, n)\n",
    "    w_samples = [read_wav(f)[0] for f in w_samples]\n",
    "    w_lens = [len(w) / sr for w in w_samples]\n",
    "    w_lens = int(min(min(w_lens) * 1000, random.randint(2000, 10000)))\n",
    "    w_samples = [random_sampling(w, length = w_lens) for w in w_samples]\n",
    "    y = [w_samples[0]]\n",
    "    left = w_samples[0].copy() * random.uniform(0.5, 1.0)\n",
    "\n",
    "    combined = None\n",
    "\n",
    "    for i in range(1, n):\n",
    "        right = w_samples[i].copy() * random.uniform(0.5, 1.0)\n",
    "        overlap = random.uniform(0.98, 1.0)\n",
    "        print(i, overlap)\n",
    "        len_overlap = int(overlap * len(right))\n",
    "        minus = len(left) - len_overlap\n",
    "        if minus < 0:\n",
    "            minus = 0\n",
    "        padded_right = np.pad(right, (minus, 0))\n",
    "        left = np.pad(left, (0, len(padded_right) - len(left)))\n",
    "\n",
    "        left = left + padded_right\n",
    "\n",
    "        if i >= (limit - 1):\n",
    "            if combined is None:\n",
    "                combined = padded_right\n",
    "            else:\n",
    "                combined = np.pad(\n",
    "                    combined, (0, len(padded_right) - len(combined))\n",
    "                )\n",
    "                combined += padded_right\n",
    "\n",
    "        else:\n",
    "            y.append(padded_right)\n",
    "\n",
    "    if combined is not None:\n",
    "        y.append(combined)\n",
    "\n",
    "    for i in range(len(y)):\n",
    "        if len(y[i]) != len(left):\n",
    "            y[i] = np.pad(y[i], (0, len(left) - len(y[i])))\n",
    "            y[i] = y[i] / np.max(np.abs(y[i]))\n",
    "\n",
    "    left = left / np.max(np.abs(left))\n",
    "    return left, y\n",
    "\n",
    "# y, _ = malaya_speech.load('../speech/example-speaker/husein-zolkepli.wav')\n",
    "# y = np.expand_dims(y, 0).astype(np.float32)\n",
    "# y.shape"
   ]
  },
  {
   "cell_type": "code",
   "execution_count": 6,
   "id": "alone-michigan",
   "metadata": {},
   "outputs": [
    {
     "name": "stdout",
     "output_type": "stream",
     "text": [
      "1 0.9838851626569016\n",
      "2 0.9891696994853113\n",
      "3 0.998149406491654\n",
      "4 0.9936675804012564\n",
      "5 0.981583247500449\n"
     ]
    },
    {
     "data": {
      "text/plain": [
       "(3.0295238095238095, 4)"
      ]
     },
     "execution_count": 6,
     "metadata": {},
     "output_type": "execute_result"
    }
   ],
   "source": [
    "left, y = combine_speakers(wavs, 6)\n",
    "len(left) / sr, len(y)"
   ]
  },
  {
   "cell_type": "code",
   "execution_count": 7,
   "id": "curious-finish",
   "metadata": {},
   "outputs": [],
   "source": [
    "left_mel = malaya_speech.featurization.universal_mel(left)\n",
    "y_mel = [malaya_speech.featurization.universal_mel(i) for i in y]"
   ]
  },
  {
   "cell_type": "code",
   "execution_count": 8,
   "id": "marked-opposition",
   "metadata": {},
   "outputs": [],
   "source": [
    "class Encoder:\n",
    "    def __init__(self, config):\n",
    "        self.config = config\n",
    "        self.model = None\n",
    "\n",
    "    def __call__(self, x, input_mask = None, training = True):\n",
    "        if self.model is None:\n",
    "            self.model = bert.BertModel(\n",
    "                config = self.config,\n",
    "                is_training = training,\n",
    "                input_ids = x,\n",
    "                input_mask = input_mask,\n",
    "            )\n",
    "        return self.model.sequence_output"
   ]
  },
  {
   "cell_type": "code",
   "execution_count": 9,
   "id": "large-australia",
   "metadata": {},
   "outputs": [],
   "source": [
    "config = bert.BertConfig(\n",
    "    hidden_size = 256,\n",
    "    num_hidden_layers = 6,\n",
    "    num_attention_heads = 8,\n",
    "    intermediate_size = 1024,\n",
    "    max_position_embeddings = 2048,\n",
    "    hidden_dropout_prob = 0.0,\n",
    "    attention_probs_dropout_prob = 0.0\n",
    ")"
   ]
  },
  {
   "cell_type": "code",
   "execution_count": 10,
   "id": "korean-swing",
   "metadata": {},
   "outputs": [],
   "source": [
    "transformer = lambda: Encoder(config)\n",
    "decoder = lambda: Encoder(config)"
   ]
  },
  {
   "cell_type": "code",
   "execution_count": 11,
   "id": "electronic-plymouth",
   "metadata": {},
   "outputs": [],
   "source": [
    "X = tf.placeholder(tf.float32, [None, None, 80])\n",
    "lengths = tf.placeholder(tf.int32, [None])\n",
    "Y = tf.placeholder(tf.float32, [None, speakers_size, None, 80])"
   ]
  },
  {
   "cell_type": "code",
   "execution_count": 12,
   "id": "commercial-covering",
   "metadata": {},
   "outputs": [
    {
     "name": "stdout",
     "output_type": "stream",
     "text": [
      "WARNING:tensorflow:From /Users/huseinzolkepli/Documents/tf-1.15/env/lib/python3.7/site-packages/tensorflow_core/python/ops/resource_variable_ops.py:1630: calling BaseResourceVariable.__init__ (from tensorflow.python.ops.resource_variable_ops) with constraint is deprecated and will be removed in a future version.\n",
      "Instructions for updating:\n",
      "If using Keras pass *_constraint arguments to layers.\n",
      "WARNING:tensorflow:From /Users/huseinzolkepli/Documents/malaya-speech/malaya_speech/train/model/bert/model.py:161: The name tf.variable_scope is deprecated. Please use tf.compat.v1.variable_scope instead.\n",
      "\n",
      "WARNING:tensorflow:From /Users/huseinzolkepli/Documents/malaya-speech/malaya_speech/train/model/bert/model.py:388: The name tf.get_variable is deprecated. Please use tf.compat.v1.get_variable instead.\n",
      "\n",
      "WARNING:tensorflow:From /Users/huseinzolkepli/Documents/malaya-speech/malaya_speech/train/model/bert/model.py:406: The name tf.assert_less_equal is deprecated. Please use tf.compat.v1.assert_less_equal instead.\n",
      "\n",
      "WARNING:tensorflow:From /Users/huseinzolkepli/Documents/malaya-speech/malaya_speech/train/model/bert/model.py:593: dense (from tensorflow.python.layers.core) is deprecated and will be removed in a future version.\n",
      "Instructions for updating:\n",
      "Use keras.layers.Dense instead.\n",
      "WARNING:tensorflow:From /Users/huseinzolkepli/Documents/tf-1.15/env/lib/python3.7/site-packages/tensorflow_core/python/layers/core.py:187: Layer.apply (from tensorflow.python.keras.engine.base_layer) is deprecated and will be removed in a future version.\n",
      "Instructions for updating:\n",
      "Please use `layer.__call__` method instead.\n"
     ]
    }
   ],
   "source": [
    "model = sepformer.Model_Mel(\n",
    "    transformer, transformer, decoder, activation = None, encoder_out_nchannels = 256\n",
    ")\n",
    "logits = model(X, lengths)"
   ]
  },
  {
   "cell_type": "code",
   "execution_count": 13,
   "id": "unknown-stability",
   "metadata": {},
   "outputs": [
    {
     "name": "stdout",
     "output_type": "stream",
     "text": [
      "WARNING:tensorflow:From /Users/huseinzolkepli/Documents/malaya-speech/malaya_speech/train/model/fastsplit/loss.py:37: where (from tensorflow.python.ops.array_ops) is deprecated and will be removed in a future version.\n",
      "Instructions for updating:\n",
      "Use tf.where in 2.0, which has the same broadcast rule as np.where\n",
      "WARNING:tensorflow:From /Users/huseinzolkepli/Documents/malaya-speech/malaya_speech/train/model/fastsplit/loss.py:41: The name tf.div_no_nan is deprecated. Please use tf.math.divide_no_nan instead.\n",
      "\n"
     ]
    }
   ],
   "source": [
    "outputs = tf.transpose(logits, [1, 2, 0, 3])\n",
    "loss = fastsplit.calculate_loss(\n",
    "    Y, outputs, lengths, C = speakers_size\n",
    ")"
   ]
  },
  {
   "cell_type": "code",
   "execution_count": 14,
   "id": "rolled-attribute",
   "metadata": {},
   "outputs": [],
   "source": [
    "sess = tf.Session()\n",
    "sess.run(tf.global_variables_initializer())"
   ]
  },
  {
   "cell_type": "code",
   "execution_count": 23,
   "id": "impaired-article",
   "metadata": {},
   "outputs": [
    {
     "name": "stdout",
     "output_type": "stream",
     "text": [
      "CPU times: user 2.83 s, sys: 705 ms, total: 3.54 s\n",
      "Wall time: 591 ms\n"
     ]
    },
    {
     "data": {
      "text/plain": [
       "(1, 261, 4, 80)"
      ]
     },
     "execution_count": 23,
     "metadata": {},
     "output_type": "execute_result"
    }
   ],
   "source": [
    "%%time\n",
    "\n",
    "o = sess.run(outputs, feed_dict = {X: [left_mel], lengths: [len(left_mel)]})\n",
    "o.shape"
   ]
  },
  {
   "cell_type": "code",
   "execution_count": 16,
   "id": "appropriate-reputation",
   "metadata": {},
   "outputs": [
    {
     "data": {
      "image/png": "[encoded data removed]",
      "text/plain": [
       "<Figure size 720x576 with 2 Axes>"
      ]
     },
     "metadata": {
      "needs_background": "light"
     },
     "output_type": "display_data"
    }
   ],
   "source": [
    "import matplotlib.pyplot as plt\n",
    "fig = plt.figure(figsize=(10, 8))\n",
    "ax1 = fig.add_subplot(311)\n",
    "ax1.set_title('Predicted Mel-before-Spectrogram')\n",
    "im = ax1.imshow(np.rot90(o[0,:,3]), aspect='auto', interpolation='none')\n",
    "fig.colorbar(mappable=im, shrink=0.65, orientation='horizontal', ax=ax1)\n",
    "plt.show()"
   ]
  },
  {
   "cell_type": "code",
   "execution_count": 17,
   "id": "parental-overview",
   "metadata": {},
   "outputs": [
    {
     "data": {
      "text/plain": [
       "5.478052"
      ]
     },
     "execution_count": 17,
     "metadata": {},
     "output_type": "execute_result"
    }
   ],
   "source": [
    "l = sess.run(loss, feed_dict = {X: [left_mel], Y: [y_mel], lengths: [len(left_mel)]})\n",
    "l"
   ]
  },
  {
   "cell_type": "code",
   "execution_count": 18,
   "id": "hazardous-climb",
   "metadata": {},
   "outputs": [],
   "source": [
    "saver = tf.train.Saver()"
   ]
  },
  {
   "cell_type": "code",
   "execution_count": 19,
   "id": "czech-refrigerator",
   "metadata": {},
   "outputs": [
    {
     "data": {
      "text/plain": [
       "'test/model.ckpt'"
      ]
     },
     "execution_count": 19,
     "metadata": {},
     "output_type": "execute_result"
    }
   ],
   "source": [
    "saver.save(sess, 'test/model.ckpt')"
   ]
  },
  {
   "cell_type": "code",
   "execution_count": 20,
   "id": "eastern-fantasy",
   "metadata": {},
   "outputs": [
    {
     "name": "stdout",
     "output_type": "stream",
     "text": [
      "total 338904\r\n",
      "-rw-r--r--  1 huseinzolkepli  staff    77B Apr 20 14:59 checkpoint\r\n",
      "-rw-r--r--  1 huseinzolkepli  staff   163M Apr 20 14:59 model.ckpt.data-00000-of-00001\r\n",
      "-rw-r--r--  1 huseinzolkepli  staff    21K Apr 20 14:59 model.ckpt.index\r\n",
      "-rw-r--r--  1 huseinzolkepli  staff   2.5M Apr 20 14:59 model.ckpt.meta\r\n"
     ]
    }
   ],
   "source": [
    "!ls -lh test"
   ]
  },
  {
   "cell_type": "code",
   "execution_count": 21,
   "id": "southwest-vessel",
   "metadata": {},
   "outputs": [],
   "source": [
    "!rm -rf test"
   ]
  }
 ],
 "metadata": {
  "kernelspec": {
   "display_name": "Python 3",
   "language": "python",
   "name": "python3"
  },
  "language_info": {
   "codemirror_mode": {
    "name": "ipython",
    "version": 3
   },
   "file_extension": ".py",
   "mimetype": "text/x-python",
   "name": "python",
   "nbconvert_exporter": "python",
   "pygments_lexer": "ipython3",
   "version": "3.7.7"
  }
 },
 "nbformat": 4,
 "nbformat_minor": 5
}

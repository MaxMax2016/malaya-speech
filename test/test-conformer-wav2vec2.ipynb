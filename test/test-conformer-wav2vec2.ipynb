{
 "cells": [
  {
   "cell_type": "code",
   "execution_count": 1,
   "id": "romance-refrigerator",
   "metadata": {},
   "outputs": [],
   "source": [
    "import os\n",
    "\n",
    "os.environ['CUDA_VISIBLE_DEVICES'] = '1'"
   ]
  },
  {
   "cell_type": "code",
   "execution_count": 2,
   "id": "further-filing",
   "metadata": {},
   "outputs": [],
   "source": [
    "import sys\n",
    "\n",
    "SOURCE_DIR = os.path.dirname(os.path.dirname(os.path.abspath(__name__)))\n",
    "sys.path.insert(0, SOURCE_DIR)"
   ]
  },
  {
   "cell_type": "code",
   "execution_count": 3,
   "id": "executed-resort",
   "metadata": {},
   "outputs": [
    {
     "name": "stdout",
     "output_type": "stream",
     "text": [
      "WARNING:tensorflow:From /Users/huseinzolkepli/Documents/malaya-speech/malaya_speech/train/optimizer/__init__.py:38: The name tf.train.AdagradOptimizer is deprecated. Please use tf.compat.v1.train.AdagradOptimizer instead.\n",
      "\n",
      "WARNING:tensorflow:From /Users/huseinzolkepli/Documents/malaya-speech/malaya_speech/train/optimizer/__init__.py:39: The name tf.train.AdamOptimizer is deprecated. Please use tf.compat.v1.train.AdamOptimizer instead.\n",
      "\n",
      "WARNING:tensorflow:From /Users/huseinzolkepli/Documents/malaya-speech/malaya_speech/train/optimizer/__init__.py:40: The name tf.train.FtrlOptimizer is deprecated. Please use tf.compat.v1.train.FtrlOptimizer instead.\n",
      "\n",
      "WARNING:tensorflow:From /Users/huseinzolkepli/Documents/malaya-speech/malaya_speech/train/optimizer/__init__.py:42: The name tf.train.RMSPropOptimizer is deprecated. Please use tf.compat.v1.train.RMSPropOptimizer instead.\n",
      "\n",
      "WARNING:tensorflow:From /Users/huseinzolkepli/Documents/malaya-speech/malaya_speech/train/optimizer/__init__.py:43: The name tf.train.GradientDescentOptimizer is deprecated. Please use tf.compat.v1.train.GradientDescentOptimizer instead.\n",
      "\n",
      "WARNING:tensorflow:\n",
      "The TensorFlow contrib module will not be included in TensorFlow 2.0.\n",
      "For more information, please see:\n",
      "  * https://github.com/tensorflow/community/blob/master/rfcs/20180907-contrib-sunset.md\n",
      "  * https://github.com/tensorflow/addons\n",
      "  * https://github.com/tensorflow/io (for I/O related ops)\n",
      "If you depend on functionality not listed there, please file an issue.\n",
      "\n"
     ]
    }
   ],
   "source": [
    "import malaya_speech\n",
    "import malaya_speech.config\n",
    "from malaya_speech.train.model import conformer, wav2vec2\n",
    "from malaya_speech.train.model.wav2vec2 import negative_sampling\n",
    "import tensorflow as tf"
   ]
  },
  {
   "cell_type": "code",
   "execution_count": 4,
   "id": "electoral-destiny",
   "metadata": {},
   "outputs": [],
   "source": [
    "config = malaya_speech.config.transducer_featurizer_config\n",
    "featurizer = malaya_speech.utils.tf_featurization.STTFeaturizer(**config)"
   ]
  },
  {
   "cell_type": "code",
   "execution_count": 5,
   "id": "sunset-definition",
   "metadata": {},
   "outputs": [],
   "source": [
    "config = malaya_speech.config.conformer_base_encoder_config\n",
    "base_model = conformer.Model(**config)"
   ]
  },
  {
   "cell_type": "code",
   "execution_count": 6,
   "id": "solar-chocolate",
   "metadata": {},
   "outputs": [
    {
     "data": {
      "text/plain": [
       "(<tf.Tensor 'ExpandDims_3:0' shape=(1, ?, 80, 1) dtype=float32>,\n",
       " <tf.Tensor 'ExpandDims_1:0' shape=(1,) dtype=int32>)"
      ]
     },
     "execution_count": 6,
     "metadata": {},
     "output_type": "execute_result"
    }
   ],
   "source": [
    "i = tf.placeholder(tf.float32, [None])\n",
    "v = featurizer.vectorize(i)\n",
    "length_v = tf.cast(tf.shape(v)[0], tf.int32)\n",
    "length_v = tf.expand_dims(length_v, 0)\n",
    "v = tf.expand_dims(v, 0)\n",
    "v = tf.expand_dims(v, -1)\n",
    "v, length_v"
   ]
  },
  {
   "cell_type": "code",
   "execution_count": 7,
   "id": "alien-swift",
   "metadata": {},
   "outputs": [
    {
     "name": "stdout",
     "output_type": "stream",
     "text": [
      "WARNING:tensorflow:From /Users/huseinzolkepli/Documents/tf-1.15/env/lib/python3.7/site-packages/tensorflow_core/python/ops/resource_variable_ops.py:1630: calling BaseResourceVariable.__init__ (from tensorflow.python.ops.resource_variable_ops) with constraint is deprecated and will be removed in a future version.\n",
      "Instructions for updating:\n",
      "If using Keras pass *_constraint arguments to layers.\n"
     ]
    },
    {
     "data": {
      "text/plain": [
       "<tf.Tensor 'conformer/conformer_block_15/conformer_block_15_ln/batchnorm/add_1:0' shape=(1, ?, 256) dtype=float32>"
      ]
     },
     "execution_count": 7,
     "metadata": {},
     "output_type": "execute_result"
    }
   ],
   "source": [
    "base_logits = base_model(v)\n",
    "base_logits"
   ]
  },
  {
   "cell_type": "code",
   "execution_count": 8,
   "id": "charming-mexican",
   "metadata": {},
   "outputs": [
    {
     "name": "stdout",
     "output_type": "stream",
     "text": [
      "WARNING:tensorflow:From /Users/huseinzolkepli/Documents/malaya-speech/malaya_speech/train/model/wav2vec2/layer.py:165: The name tf.get_variable is deprecated. Please use tf.compat.v1.get_variable instead.\n",
      "\n"
     ]
    }
   ],
   "source": [
    "cfg = wav2vec2.Wav2Vec2Config(conv_feature_layers = '[(256,)]')\n",
    "model = negative_sampling.Model(cfg)"
   ]
  },
  {
   "cell_type": "code",
   "execution_count": 9,
   "id": "environmental-gross",
   "metadata": {},
   "outputs": [
    {
     "name": "stdout",
     "output_type": "stream",
     "text": [
      "WARNING:tensorflow:From /Users/huseinzolkepli/Documents/tf-1.15/env/lib/python3.7/site-packages/tensorflow_core/python/autograph/converters/directives.py:119: The name tf.log is deprecated. Please use tf.math.log instead.\n",
      "\n",
      "WARNING:tensorflow:From /Users/huseinzolkepli/Documents/malaya-speech/malaya_speech/train/model/wav2vec2/negative_sampling.py:69: where (from tensorflow.python.ops.array_ops) is deprecated and will be removed in a future version.\n",
      "Instructions for updating:\n",
      "Use tf.where in 2.0, which has the same broadcast rule as np.where\n",
      "WARNING:tensorflow:From /Users/huseinzolkepli/Documents/malaya-speech/malaya_speech/train/model/wav2vec2/negative_sampling.py:109: calling cosine_distance (from tensorflow.python.ops.losses.losses_impl) with dim is deprecated and will be removed in a future version.\n",
      "Instructions for updating:\n",
      "dim is deprecated, use axis instead\n"
     ]
    },
    {
     "data": {
      "text/plain": [
       "{'x': <tf.Tensor 'wav2vec2/truediv:0' shape=(101, 1, ?) dtype=float32>,\n",
       " 'prob_perplexity': <tf.Tensor 'wav2vec2/GumbelVectorQuantizer/Sum_3:0' shape=() dtype=float32>,\n",
       " 'code_perplexity': <tf.Tensor 'wav2vec2/GumbelVectorQuantizer/Sum_1:0' shape=() dtype=float32>}"
      ]
     },
     "execution_count": 9,
     "metadata": {},
     "output_type": "execute_result"
    }
   ],
   "source": [
    "r, num_vars, curr_temp = model(base_logits, base_logits)\n",
    "r"
   ]
  },
  {
   "cell_type": "code",
   "execution_count": 10,
   "id": "lovely-authority",
   "metadata": {},
   "outputs": [
    {
     "data": {
      "text/plain": [
       "(<tf.Tensor 'Reshape:0' shape=(?, ?) dtype=float32>,\n",
       " <tf.Tensor 'zeros:0' shape=(?,) dtype=int32>)"
      ]
     },
     "execution_count": 10,
     "metadata": {},
     "output_type": "execute_result"
    }
   ],
   "source": [
    "logits = r['x']\n",
    "logits = tf.transpose(logits, [2, 1, 0])\n",
    "logits = tf.reshape(logits, (-1, tf.shape(logits)[-1]))\n",
    "target = tf.zeros(shape = (tf.shape(r['x'])[1] * tf.shape(r['x'])[2]), dtype = tf.int32)\n",
    "logits, target"
   ]
  },
  {
   "cell_type": "code",
   "execution_count": 11,
   "id": "administrative-swaziland",
   "metadata": {},
   "outputs": [],
   "source": [
    "loss = tf.nn.sparse_softmax_cross_entropy_with_logits(labels = target, logits = logits)\n",
    "loss = tf.reduce_sum(loss)"
   ]
  },
  {
   "cell_type": "code",
   "execution_count": 12,
   "id": "negative-winner",
   "metadata": {},
   "outputs": [],
   "source": [
    "sample_size = tf.cast(tf.shape(target)[0], tf.float32)"
   ]
  },
  {
   "cell_type": "code",
   "execution_count": 13,
   "id": "moderate-employment",
   "metadata": {},
   "outputs": [],
   "source": [
    "loss += (0.1 * (num_vars - r[\"prob_perplexity\"]) / num_vars) * sample_size"
   ]
  },
  {
   "cell_type": "code",
   "execution_count": 14,
   "id": "narrow-suicide",
   "metadata": {},
   "outputs": [],
   "source": [
    "optimizer = tf.train.AdamOptimizer().minimize(loss)"
   ]
  },
  {
   "cell_type": "code",
   "execution_count": 15,
   "id": "derived-quebec",
   "metadata": {},
   "outputs": [],
   "source": [
    "sess = tf.Session()\n",
    "sess.run(tf.global_variables_initializer())"
   ]
  },
  {
   "cell_type": "code",
   "execution_count": 16,
   "id": "suited-flexibility",
   "metadata": {},
   "outputs": [
    {
     "data": {
      "text/plain": [
       "3.518625"
      ]
     },
     "execution_count": 16,
     "metadata": {},
     "output_type": "execute_result"
    }
   ],
   "source": [
    "y, sr = malaya_speech.load('../speech/example-speaker/shafiqah-idayu.wav')\n",
    "len(y) / sr"
   ]
  },
  {
   "cell_type": "code",
   "execution_count": 17,
   "id": "electoral-dressing",
   "metadata": {},
   "outputs": [],
   "source": [
    "import numpy as np\n",
    "\n",
    "y1 = np.random.normal(size = (16000 * 10))"
   ]
  },
  {
   "cell_type": "code",
   "execution_count": 18,
   "id": "protected-hybrid",
   "metadata": {},
   "outputs": [
    {
     "name": "stdout",
     "output_type": "stream",
     "text": [
      "CPU times: user 18.8 s, sys: 1.01 s, total: 19.8 s\n",
      "Wall time: 18.5 s\n"
     ]
    }
   ],
   "source": [
    "%%time\n",
    "\n",
    "o = sess.run([r, logits, target, loss, optimizer], feed_dict = {i: y})"
   ]
  },
  {
   "cell_type": "code",
   "execution_count": 19,
   "id": "spread-anchor",
   "metadata": {},
   "outputs": [
    {
     "data": {
      "text/plain": [
       "417.414"
      ]
     },
     "execution_count": 19,
     "metadata": {},
     "output_type": "execute_result"
    }
   ],
   "source": [
    "o[-2]"
   ]
  },
  {
   "cell_type": "code",
   "execution_count": 20,
   "id": "earlier-health",
   "metadata": {},
   "outputs": [
    {
     "data": {
      "text/plain": [
       "'test/model.ckpt'"
      ]
     },
     "execution_count": 20,
     "metadata": {},
     "output_type": "execute_result"
    }
   ],
   "source": [
    "saver = tf.train.Saver()\n",
    "saver.save(sess, 'test/model.ckpt')"
   ]
  },
  {
   "cell_type": "code",
   "execution_count": 21,
   "id": "manual-vermont",
   "metadata": {},
   "outputs": [
    {
     "name": "stdout",
     "output_type": "stream",
     "text": [
      "total 627280\r\n",
      "-rw-r--r--  1 huseinzolkepli  staff    77B Apr 23 18:16 checkpoint\r\n",
      "-rw-r--r--  1 huseinzolkepli  staff   280M Apr 23 18:16 model.ckpt.data-00000-of-00001\r\n",
      "-rw-r--r--  1 huseinzolkepli  staff    69K Apr 23 18:16 model.ckpt.index\r\n",
      "-rw-r--r--  1 huseinzolkepli  staff    18M Apr 23 18:16 model.ckpt.meta\r\n"
     ]
    }
   ],
   "source": [
    "!ls -lh test\n",
    "!rm -rf test"
   ]
  },
  {
   "cell_type": "code",
   "execution_count": null,
   "id": "proud-split",
   "metadata": {},
   "outputs": [],
   "source": []
  }
 ],
 "metadata": {
  "kernelspec": {
   "display_name": "Python 3",
   "language": "python",
   "name": "python3"
  },
  "language_info": {
   "codemirror_mode": {
    "name": "ipython",
    "version": 3
   },
   "file_extension": ".py",
   "mimetype": "text/x-python",
   "name": "python",
   "nbconvert_exporter": "python",
   "pygments_lexer": "ipython3",
   "version": "3.7.7"
  }
 },
 "nbformat": 4,
 "nbformat_minor": 5
}

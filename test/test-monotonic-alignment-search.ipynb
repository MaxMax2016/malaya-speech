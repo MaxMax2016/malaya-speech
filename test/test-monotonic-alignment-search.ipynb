{
 "cells": [
  {
   "cell_type": "code",
   "execution_count": 1,
   "metadata": {},
   "outputs": [],
   "source": [
    "import os\n",
    "\n",
    "os.environ['CUDA_VISIBLE_DEVICES'] = '1'"
   ]
  },
  {
   "cell_type": "code",
   "execution_count": 2,
   "metadata": {},
   "outputs": [],
   "source": [
    "import sys\n",
    "\n",
    "SOURCE_DIR = os.path.dirname(os.path.dirname(os.path.abspath(__name__)))\n",
    "sys.path.insert(0, SOURCE_DIR)"
   ]
  },
  {
   "cell_type": "code",
   "execution_count": 3,
   "metadata": {},
   "outputs": [],
   "source": [
    "import tensorflow as tf\n",
    "\n",
    "# tf.compat.v1.enable_eager_execution()"
   ]
  },
  {
   "cell_type": "code",
   "execution_count": 4,
   "metadata": {},
   "outputs": [],
   "source": [
    "from malaya_speech.train.model.utils import shape_list\n",
    "import numpy as np"
   ]
  },
  {
   "cell_type": "code",
   "execution_count": 5,
   "metadata": {},
   "outputs": [],
   "source": [
    "x = np.load('test.npy')"
   ]
  },
  {
   "cell_type": "code",
   "execution_count": 6,
   "metadata": {},
   "outputs": [
    {
     "data": {
      "text/plain": [
       "TensorShape([Dimension(2), Dimension(100), Dimension(80)])"
      ]
     },
     "execution_count": 6,
     "metadata": {},
     "output_type": "execute_result"
    }
   ],
   "source": [
    "ll = tf.convert_to_tensor(x.astype(np.float32))\n",
    "mask = tf.cast(tf.sequence_mask([60, 80], 100), tf.float32)\n",
    "mask = tf.expand_dims(mask, -1)\n",
    "mask = tf.tile(mask, [1, 1, 80])\n",
    "mask.shape"
   ]
  },
  {
   "cell_type": "code",
   "execution_count": 38,
   "metadata": {
    "scrolled": true
   },
   "outputs": [],
   "source": [
    "def monotonic_alignment_search(ll: tf.Tensor,\n",
    "                               mask: tf.Tensor) -> tf.Tensor:\n",
    "    \"\"\"Monotonic aligment search, reference from jaywalnut310's glow-tts.\n",
    "    https://github.com/jaywalnut310/glow-tts/blob/master/commons.py#L60\n",
    "    Args:\n",
    "        ll: [tf.float32; [B, T, S]], loglikelihood matrix.\n",
    "        mask: [tf.float32; [B, T, S]], attention mask.\n",
    "    Returns:\n",
    "        [tf.float32; [B, T, S]], alignment.\n",
    "    \"\"\"\n",
    "    # B, T, S\n",
    "    bsize, timestep, seqlen = shape_list(ll)\n",
    "    # (expected) T x [B, S]\n",
    "    direction = tf.TensorArray(dtype = tf.bool, size = timestep)\n",
    "    prob = tf.zeros([bsize, seqlen], dtype=tf.float32)\n",
    "    # [1, S]\n",
    "    x_range = tf.range(seqlen)[None]\n",
    "    \n",
    "    def condition(j, direction, prob):\n",
    "        return j < timestep\n",
    "    \n",
    "    def body(j, direction, prob):\n",
    "        prev = tf.pad(prob, [[0, 0], [1, 0]],\n",
    "                      mode='CONSTANT',\n",
    "                      constant_values=tf.float32.min)[:, :-1]\n",
    "        cur = prob\n",
    "        # larger value mask\n",
    "        max_mask = tf.math.greater_equal(cur, prev)\n",
    "        # select larger value\n",
    "        prob_max = tf.where(max_mask, cur, prev)\n",
    "        # write direction\n",
    "        direction = direction.write(j, max_mask)\n",
    "        # update prob\n",
    "        \n",
    "        x_range_ = tf.tile(x_range, [tf.shape(prob_max)[0], 1])\n",
    "        j_ = tf.fill(tf.shape(x_range_), j)\n",
    "        min_ = tf.fill(tf.shape(x_range_), tf.float32.min)\n",
    "        prob = tf.where(tf.math.less_equal(x_range_, j_), \n",
    "                        prob_max + ll[:, j], min_)\n",
    "        \n",
    "        return j + 1, direction, prob\n",
    "    \n",
    "    init_state = (0, direction, prob)\n",
    "    j, direction, prob = tf.while_loop(condition, body, init_state)\n",
    "    # return direction.stack()\n",
    "    direction = tf.cast(tf.transpose(direction.stack(), [1, 0, 2]), tf.int32)\n",
    "    direction.set_shape((None, None, None))\n",
    "    \n",
    "    correct = tf.fill(tf.shape(direction), 1)\n",
    "    direction = tf.where(tf.cast(mask, tf.bool), direction, correct)\n",
    "    # (expected) T x [B, S]\n",
    "    attn = tf.TensorArray(dtype = tf.float32, size = timestep)\n",
    "    # [B]\n",
    "    index = tf.cast(tf.reduce_sum(mask[:, 0], axis=-1), tf.int32) - 1\n",
    "    # [B], [B]\n",
    "    index_range, values = tf.range(bsize), tf.ones(bsize)\n",
    "    \n",
    "    def condition(j, attn, index):\n",
    "        return j >= 0\n",
    "    \n",
    "    def body(j, attn, index):\n",
    "        \n",
    "        attn = attn.write(j, tf.scatter_nd(\n",
    "            tf.stack([index_range, index], axis=1),\n",
    "            values, [bsize, seqlen]))\n",
    "        # [B]\n",
    "        dir = tf.gather_nd(\n",
    "            direction,\n",
    "            tf.stack([index_range, tf.cast(values, tf.int32) * j, index],\n",
    "                     axis=1))\n",
    "        # [B]\n",
    "        index = index + dir - 1\n",
    "        return j - 1, attn, index\n",
    "    \n",
    "    init_state = (timestep - 1, attn, index)\n",
    "    _, attn, _ = tf.while_loop(condition, body, init_state)\n",
    "    stacked = attn.stack()\n",
    "    stacked = tf.transpose(stacked, [1, 0, 2])\n",
    "    stacked.set_shape((None, None, None))\n",
    "    return stacked * mask\n",
    "\n",
    "o = monotonic_alignment_search(ll, mask)"
   ]
  },
  {
   "cell_type": "code",
   "execution_count": 33,
   "metadata": {},
   "outputs": [
    {
     "data": {
      "text/plain": [
       "<tf.Tensor 'Cast_11:0' shape=(2, ?, 80) dtype=int32>"
      ]
     },
     "execution_count": 33,
     "metadata": {},
     "output_type": "execute_result"
    }
   ],
   "source": [
    "o"
   ]
  },
  {
   "cell_type": "code",
   "execution_count": 27,
   "metadata": {},
   "outputs": [],
   "source": [
    "sess = tf.Session()"
   ]
  },
  {
   "cell_type": "code",
   "execution_count": 39,
   "metadata": {},
   "outputs": [
    {
     "data": {
      "text/plain": [
       "(2, 100, 80)"
      ]
     },
     "execution_count": 39,
     "metadata": {},
     "output_type": "execute_result"
    }
   ],
   "source": [
    "o_ = sess.run(o)\n",
    "o_.shape"
   ]
  },
  {
   "cell_type": "code",
   "execution_count": 40,
   "metadata": {},
   "outputs": [],
   "source": [
    "align = np.load('align.npy')"
   ]
  },
  {
   "cell_type": "code",
   "execution_count": 41,
   "metadata": {},
   "outputs": [
    {
     "data": {
      "text/plain": [
       "((2, 100, 80), (2, 100, 80))"
      ]
     },
     "execution_count": 41,
     "metadata": {},
     "output_type": "execute_result"
    }
   ],
   "source": [
    "align.shape, o_.shape"
   ]
  },
  {
   "cell_type": "code",
   "execution_count": 42,
   "metadata": {},
   "outputs": [
    {
     "data": {
      "text/plain": [
       "1.0"
      ]
     },
     "execution_count": 42,
     "metadata": {},
     "output_type": "execute_result"
    }
   ],
   "source": [
    "(align == o_.astype(np.int32)).mean()"
   ]
  },
  {
   "cell_type": "code",
   "execution_count": null,
   "metadata": {},
   "outputs": [],
   "source": []
  }
 ],
 "metadata": {
  "kernelspec": {
   "display_name": "Python 3",
   "language": "python",
   "name": "python3"
  },
  "language_info": {
   "codemirror_mode": {
    "name": "ipython",
    "version": 3
   },
   "file_extension": ".py",
   "mimetype": "text/x-python",
   "name": "python",
   "nbconvert_exporter": "python",
   "pygments_lexer": "ipython3",
   "version": "3.7.7"
  }
 },
 "nbformat": 4,
 "nbformat_minor": 4
}

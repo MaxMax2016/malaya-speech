{
 "cells": [
  {
   "cell_type": "markdown",
   "metadata": {},
   "source": [
    "# Prepare Malaya-Speech Dataset"
   ]
  },
  {
   "cell_type": "markdown",
   "metadata": {},
   "source": [
    "We want our model able to understand Bahasa and local english slang (Manglish)."
   ]
  },
  {
   "cell_type": "markdown",
   "metadata": {},
   "source": [
    "### Download data\n",
    "\n",
    "Run command below to download all data,\n",
    "\n",
    "```bash\n",
    "wget https://f000.backblazeb2.com/file/malay-dataset/speech/semisupervised-manglish.tar.gz\n",
    "tar -xf semisupervised-manglish.tar.gz\n",
    "wget https://cdn.commonvoice.mozilla.org/cv-corpus-5.1-2020-06-22/id.tar.gz\n",
    "tar -zxf id.tar.gz\n",
    "wget https://f000.backblazeb2.com/file/malay-dataset/speech/semisupervised-malay.tar.gz\n",
    "tar -xf semisupervised-malay.tar.gz\n",
    "```\n",
    "\n",
    "Total samples length,\n",
    "\n",
    "1. Malay, ~93 hours.\n",
    "2. Manglish, ~107 hours.\n",
    "3. Indonesian, ~4 hours.\n",
    "\n",
    "All these data are not really clean."
   ]
  },
  {
   "cell_type": "code",
   "execution_count": 1,
   "metadata": {},
   "outputs": [],
   "source": [
    "# !pip3 install malaya-speech -U --no-deps"
   ]
  },
  {
   "cell_type": "markdown",
   "metadata": {},
   "source": [
    "### Read data"
   ]
  },
  {
   "cell_type": "code",
   "execution_count": 2,
   "metadata": {},
   "outputs": [
    {
     "name": "stdout",
     "output_type": "stream",
     "text": [
      "WARNING:tensorflow:From /home/husein/.local/lib/python3.6/site-packages/malaya_speech/train/optimizer.py:34: The name tf.train.AdagradOptimizer is deprecated. Please use tf.compat.v1.train.AdagradOptimizer instead.\n",
      "\n",
      "WARNING:tensorflow:From /home/husein/.local/lib/python3.6/site-packages/malaya_speech/train/optimizer.py:35: The name tf.train.AdamOptimizer is deprecated. Please use tf.compat.v1.train.AdamOptimizer instead.\n",
      "\n",
      "WARNING:tensorflow:From /home/husein/.local/lib/python3.6/site-packages/malaya_speech/train/optimizer.py:36: The name tf.train.FtrlOptimizer is deprecated. Please use tf.compat.v1.train.FtrlOptimizer instead.\n",
      "\n",
      "WARNING:tensorflow:From /home/husein/.local/lib/python3.6/site-packages/malaya_speech/train/optimizer.py:38: The name tf.train.RMSPropOptimizer is deprecated. Please use tf.compat.v1.train.RMSPropOptimizer instead.\n",
      "\n",
      "WARNING:tensorflow:From /home/husein/.local/lib/python3.6/site-packages/malaya_speech/train/optimizer.py:39: The name tf.train.GradientDescentOptimizer is deprecated. Please use tf.compat.v1.train.GradientDescentOptimizer instead.\n",
      "\n",
      "WARNING:tensorflow:\n",
      "The TensorFlow contrib module will not be included in TensorFlow 2.0.\n",
      "For more information, please see:\n",
      "  * https://github.com/tensorflow/community/blob/master/rfcs/20180907-contrib-sunset.md\n",
      "  * https://github.com/tensorflow/addons\n",
      "  * https://github.com/tensorflow/io (for I/O related ops)\n",
      "If you depend on functionality not listed there, please file an issue.\n",
      "\n"
     ]
    }
   ],
   "source": [
    "import pandas as pd\n",
    "import malaya_speech\n",
    "import malaya_speech.train as train\n",
    "import json"
   ]
  },
  {
   "cell_type": "code",
   "execution_count": 3,
   "metadata": {
    "scrolled": true
   },
   "outputs": [
    {
     "name": "stdout",
     "output_type": "stream",
     "text": [
      "(7490, 10)\n"
     ]
    }
   ],
   "source": [
    "df = pd.read_csv('cv-corpus-5.1-2020-06-22/id/validated.tsv', sep = '\\t')\n",
    "df = df[(df['sentence'].str.len() > 5) & (df['sentence'].str.count(' ') > 0)]\n",
    "print(df.shape)"
   ]
  },
  {
   "cell_type": "code",
   "execution_count": 4,
   "metadata": {},
   "outputs": [
    {
     "data": {
      "text/plain": [
       "7490"
      ]
     },
     "execution_count": 4,
     "metadata": {},
     "output_type": "execute_result"
    }
   ],
   "source": [
    "id_commonvoice = []\n",
    "for i in range(len(df)):\n",
    "    p = f\"cv-corpus-5.1-2020-06-22/id/clips/{df['path'].iloc[i]}\"\n",
    "    id_commonvoice.append((p, df['sentence'].iloc[i]))\n",
    "\n",
    "len(id_commonvoice)"
   ]
  },
  {
   "cell_type": "code",
   "execution_count": 5,
   "metadata": {},
   "outputs": [
    {
     "data": {
      "text/plain": [
       "(57895, 65277)"
      ]
     },
     "execution_count": 5,
     "metadata": {},
     "output_type": "execute_result"
    }
   ],
   "source": [
    "from glob import glob\n",
    "\n",
    "malay = glob('semisupervised-malay/output-wav/*.wav')\n",
    "manglish = glob('semisupervised-manglish/output-wav/*.wav')\n",
    "len(malay), len(manglish)"
   ]
  },
  {
   "cell_type": "code",
   "execution_count": 6,
   "metadata": {},
   "outputs": [],
   "source": [
    "import unicodedata\n",
    "import re\n",
    "\n",
    "\n",
    "def preprocessing_text(string, reject = ',.!?#@\\U0001f9da_，é)^🍪❤'):\n",
    "    for c in reject:\n",
    "        string = string.replace(c, ' ')\n",
    "        \n",
    "    string = unicodedata.normalize('NFC', string.lower())\n",
    "    return re.sub(r'[ ]+', ' ', string).strip()"
   ]
  },
  {
   "cell_type": "code",
   "execution_count": 7,
   "metadata": {},
   "outputs": [
    {
     "name": "stderr",
     "output_type": "stream",
     "text": [
      "100%|██████████| 57895/57895 [00:01<00:00, 40017.30it/s]\n"
     ]
    }
   ],
   "source": [
    "from tqdm import tqdm\n",
    "\n",
    "malays = []\n",
    "for i in tqdm(malay):\n",
    "    try:\n",
    "        p = i.replace('output-wav','output-text')\n",
    "        with open(f'{p}.txt') as fopen:\n",
    "            text = fopen.read()\n",
    "        malays.append((i, text))\n",
    "    except Exception as e:\n",
    "        print(e)"
   ]
  },
  {
   "cell_type": "code",
   "execution_count": 8,
   "metadata": {},
   "outputs": [
    {
     "name": "stderr",
     "output_type": "stream",
     "text": [
      "100%|██████████| 65277/65277 [00:01<00:00, 40946.88it/s]\n"
     ]
    }
   ],
   "source": [
    "manglishs = []\n",
    "for i in tqdm(manglish):\n",
    "    try:\n",
    "        p = i.replace('output-wav','output-text')\n",
    "        with open(f'{p}.txt') as fopen:\n",
    "            text = fopen.read()\n",
    "        manglishs.append((i, text))\n",
    "    except Exception as e:\n",
    "        print(e)"
   ]
  },
  {
   "cell_type": "code",
   "execution_count": 9,
   "metadata": {},
   "outputs": [],
   "source": [
    "audios = id_commonvoice + malays + manglishs\n",
    "audios, texts = zip(*audios)"
   ]
  },
  {
   "cell_type": "code",
   "execution_count": 10,
   "metadata": {},
   "outputs": [],
   "source": [
    "from pydub import AudioSegment\n",
    "import numpy as np\n",
    "\n",
    "def mp3_to_wav(file, sr = 16000):\n",
    "    audio = AudioSegment.from_file(file)\n",
    "    audio = audio.set_frame_rate(sr).set_channels(1)\n",
    "    sample = np.array(audio.get_array_of_samples())\n",
    "    return malaya_speech.astype.int_to_float(sample), sr"
   ]
  },
  {
   "cell_type": "code",
   "execution_count": 11,
   "metadata": {},
   "outputs": [],
   "source": [
    "cleaned_texts = [preprocessing_text(t) for t in texts]"
   ]
  },
  {
   "cell_type": "code",
   "execution_count": 12,
   "metadata": {},
   "outputs": [],
   "source": [
    "unique_chars = malaya_speech.char.generate_vocab(cleaned_texts)"
   ]
  },
  {
   "cell_type": "code",
   "execution_count": 13,
   "metadata": {},
   "outputs": [],
   "source": [
    "with open('malaya-speech-sst-vocab.json', 'w') as fopen:\n",
    "    json.dump(unique_chars, fopen)"
   ]
  },
  {
   "cell_type": "markdown",
   "metadata": {},
   "source": [
    "### Change into TFRecord\n",
    "\n",
    "This is not necessary step, we recommend to use yield iterator to train the model, but we also can save our data into TFRecord to speed up data pipelines. To do that, we need to create a yield iterator."
   ]
  },
  {
   "cell_type": "code",
   "execution_count": 14,
   "metadata": {},
   "outputs": [],
   "source": [
    "def generator(maxlen = 16):\n",
    "    for i in tqdm(range(len(audios))):\n",
    "        try:\n",
    "            if '.mp3' in audios[i]:\n",
    "                wav_data, sr = mp3_to_wav(audios[i])\n",
    "            else:\n",
    "                wav_data, sr = malaya_speech.load(audios[i])\n",
    "                \n",
    "            if (len(wav_data) / sr) > maxlen or len(cleaned_texts[i]) < 5:\n",
    "                print(f'skipped {audios[i]}')\n",
    "                continue\n",
    "\n",
    "            yield {\n",
    "                'waveforms': wav_data.tolist(),\n",
    "                'waveform_lens': [len(wav_data)],\n",
    "                'targets': malaya_speech.char.encode(cleaned_texts[i], lookup = unique_chars),\n",
    "                'raw_transcript': [cleaned_texts[i]],\n",
    "            }\n",
    "        except Exception as e:\n",
    "            print(e)\n",
    "            \n",
    "generator = generator()"
   ]
  },
  {
   "cell_type": "code",
   "execution_count": 15,
   "metadata": {},
   "outputs": [],
   "source": [
    "import os\n",
    "import tensorflow as tf\n",
    "\n",
    "os.system('rm bahasa-asr/data/*')\n",
    "DATA_DIR = os.path.expanduser('bahasa-asr/data')\n",
    "tf.gfile.MakeDirs(DATA_DIR)"
   ]
  },
  {
   "cell_type": "markdown",
   "metadata": {},
   "source": [
    "#### Define shards\n",
    "\n",
    "Like we defined below,\n",
    "\n",
    "```python\n",
    "shards = [{'split': 'train', 'shards': 999}, {'split': 'dev', 'shards': 1}]\n",
    "```"
   ]
  },
  {
   "cell_type": "code",
   "execution_count": 16,
   "metadata": {},
   "outputs": [],
   "source": [
    "shards = [{'split': 'train', 'shards': 999}, {'split': 'dev', 'shards': 1}]"
   ]
  },
  {
   "cell_type": "markdown",
   "metadata": {},
   "source": [
    "#### Save to TFRecord\n",
    "\n",
    "Just pass yield iterator to malaya_speech.train_prepare_dataset,\n",
    "\n",
    "```python\n",
    "def prepare_dataset(\n",
    "    generator,\n",
    "    data_dir: str,\n",
    "    shards: List[Dict],\n",
    "    prefix: str = 'dataset',\n",
    "    shuffle: bool = True,\n",
    "    already_shuffled: bool = False,\n",
    "):\n",
    "```"
   ]
  },
  {
   "cell_type": "code",
   "execution_count": 17,
   "metadata": {},
   "outputs": [
    {
     "name": "stdout",
     "output_type": "stream",
     "text": [
      "WARNING:tensorflow:From /home/husein/.local/lib/python3.6/site-packages/malaya_speech/train/prepare_data.py:89: The name tf.gfile.Exists is deprecated. Please use tf.io.gfile.exists instead.\n",
      "\n",
      "WARNING:tensorflow:From /home/husein/.local/lib/python3.6/site-packages/malaya_speech/train/prepare_data.py:199: The name tf.python_io.TFRecordWriter is deprecated. Please use tf.io.TFRecordWriter instead.\n",
      "\n"
     ]
    },
    {
     "name": "stderr",
     "output_type": "stream",
     "text": [
      "\r",
      "  0%|          | 0/130662 [00:00<?, ?it/s]"
     ]
    },
    {
     "name": "stdout",
     "output_type": "stream",
     "text": [
      "WARNING:tensorflow:From /home/husein/.local/lib/python3.6/site-packages/malaya_speech/train/prepare_data.py:205: The name tf.logging.info is deprecated. Please use tf.compat.v1.logging.info instead.\n",
      "\n",
      "INFO:tensorflow:Generating case 0.\n"
     ]
    },
    {
     "name": "stderr",
     "output_type": "stream",
     "text": [
      "  6%|▌         | 7509/130662 [10:56<1:20:49, 25.40it/s]"
     ]
    },
    {
     "name": "stdout",
     "output_type": "stream",
     "text": [
      "skipped semisupervised-malay/output-wav/Podcast-Bekpek---Berbasikal-Malaysia-Ke-Mekah(Ditahan-dan-dibawa-Kem-Askar-Pakistan-Semasa-Di-Gunung)-_bfH3pxuOoM.mp3-part-451.wav\n"
     ]
    },
    {
     "name": "stderr",
     "output_type": "stream",
     "text": [
      "  6%|▌         | 7754/130662 [11:00<39:08, 52.33it/s]  "
     ]
    },
    {
     "name": "stdout",
     "output_type": "stream",
     "text": [
      "skipped semisupervised-malay/output-wav/Bila-Mata-Bertentang-Mata-❤️-_-Ustaz-Mohd-Lukmanul-Hakim-Wm-8ZeLyux0.mp3-part-312.wav\n"
     ]
    },
    {
     "name": "stderr",
     "output_type": "stream",
     "text": [
      "  6%|▋         | 8213/130662 [11:08<35:57, 56.76it/s]"
     ]
    },
    {
     "name": "stdout",
     "output_type": "stream",
     "text": [
      "skipped semisupervised-malay/output-wav/IPGM----Cabaran-VUCA-Dari-Perspektif-Pendidikan-Guru-dan-PAK-21-QOCbT-XH36I.mp3-part-335.wav\n"
     ]
    },
    {
     "name": "stderr",
     "output_type": "stream",
     "text": [
      "  6%|▋         | 8251/130662 [11:09<34:17, 59.50it/s]"
     ]
    },
    {
     "name": "stdout",
     "output_type": "stream",
     "text": [
      "skipped semisupervised-malay/output-wav/92-_-Cuba-Renung-Kisah-Ini-_-Ustaz-Wadi-Annuar-AVt7WL-ZR4Y.mp3-part-9.wav\n"
     ]
    },
    {
     "name": "stderr",
     "output_type": "stream",
     "text": [
      "  7%|▋         | 8522/130662 [11:13<31:07, 65.40it/s]"
     ]
    },
    {
     "name": "stdout",
     "output_type": "stream",
     "text": [
      "skipped semisupervised-malay/output-wav/92-_-Cuba-Renung-Kisah-Ini-_-Ustaz-Wadi-Annuar-AVt7WL-ZR4Y.mp3-part-566.wav\n"
     ]
    },
    {
     "name": "stderr",
     "output_type": "stream",
     "text": [
      "  7%|▋         | 8594/130662 [11:14<32:23, 62.82it/s]"
     ]
    },
    {
     "name": "stdout",
     "output_type": "stream",
     "text": [
      "skipped semisupervised-malay/output-wav/Pengalaman-Pertama-Kali-Tidur-Dalam-Kereta-Api-Dari-Malaysia-Ke-Thailand-WKi6VUFzjuo.mp3-part-29.wav\n"
     ]
    },
    {
     "name": "stderr",
     "output_type": "stream",
     "text": [
      "  7%|▋         | 8793/130662 [11:18<31:26, 64.60it/s]"
     ]
    },
    {
     "name": "stdout",
     "output_type": "stream",
     "text": [
      "skipped semisupervised-malay/output-wav/Buang-BERHALA-Yang-Duduk-Di-Hati-Kita-😥-_-Ustaz-Ahmad-Rizam-EP2qcEFmFD8.mp3-part-246.wav\n"
     ]
    },
    {
     "name": "stderr",
     "output_type": "stream",
     "text": [
      "  7%|▋         | 8851/130662 [11:19<30:46, 65.97it/s]"
     ]
    },
    {
     "name": "stdout",
     "output_type": "stream",
     "text": [
      "skipped semisupervised-malay/output-wav/Sesi-3----Rahsia-Roh-Menggerakkan-Kita-glR3xP2HTS0.mp3-part-6.wav\n"
     ]
    },
    {
     "name": "stderr",
     "output_type": "stream",
     "text": [
      "  7%|▋         | 8887/130662 [11:19<31:42, 64.02it/s]"
     ]
    },
    {
     "name": "stdout",
     "output_type": "stream",
     "text": [
      "skipped semisupervised-malay/output-wav/Sesi-3----Rahsia-Roh-Menggerakkan-Kita-glR3xP2HTS0.mp3-part-22.wav\n"
     ]
    },
    {
     "name": "stderr",
     "output_type": "stream",
     "text": [
      "  7%|▋         | 9512/130662 [11:30<31:05, 64.95it/s]"
     ]
    },
    {
     "name": "stdout",
     "output_type": "stream",
     "text": [
      "skipped semisupervised-malay/output-wav/Ratu-Balqis-Anak-Dari-Golongan-JIN--😯-_-Ustaz-Auni-Mohamed-arZATVyf8j8.mp3-part-341.wav\n"
     ]
    },
    {
     "name": "stderr",
     "output_type": "stream",
     "text": [
      "  7%|▋         | 9593/130662 [11:32<31:16, 64.53it/s]"
     ]
    },
    {
     "name": "stdout",
     "output_type": "stream",
     "text": [
      "skipped semisupervised-malay/output-wav/Ruang-Masa-Hiperbolik-Wujud-Di-Dunia-Sebenar!-1v-n23HAi7M.mp3-part-15.wav\n"
     ]
    },
    {
     "name": "stderr",
     "output_type": "stream",
     "text": [
      "  7%|▋         | 9652/130662 [11:33<35:14, 57.22it/s]"
     ]
    },
    {
     "name": "stdout",
     "output_type": "stream",
     "text": [
      "skipped semisupervised-malay/output-wav/SEDEKAH-Bukan-Dengan-Harta-Semata-Mata-_-Ustaz-Mohd-Lukmanul-Hakim-QW3GndtSb1k.mp3-part-21.wav\n"
     ]
    },
    {
     "name": "stderr",
     "output_type": "stream",
     "text": [
      "  8%|▊         | 9838/130662 [11:36<33:05, 60.84it/s]"
     ]
    },
    {
     "name": "stdout",
     "output_type": "stream",
     "text": [
      "skipped semisupervised-malay/output-wav/Podcast-Bekpek---Berbasikal-Malaysia-Ke-Mekah(Ditahan-dan-dibawa-Kem-Askar-Pakistan-Semasa-Di-Gunung)-_bfH3pxuOoM.mp3-part-45.wav\n"
     ]
    },
    {
     "name": "stderr",
     "output_type": "stream",
     "text": [
      "  8%|▊         | 9979/130662 [11:38<30:57, 64.97it/s]"
     ]
    },
    {
     "name": "stdout",
     "output_type": "stream",
     "text": [
      "skipped semisupervised-malay/output-wav/Dunia-Tamat-2038-4sYNZ3vkIbg.mp3-part-19.wav\n"
     ]
    },
    {
     "name": "stderr",
     "output_type": "stream",
     "text": [
      "  8%|▊         | 10248/130662 [11:43<30:41, 65.40it/s]"
     ]
    },
    {
     "name": "stdout",
     "output_type": "stream",
     "text": [
      "skipped semisupervised-malay/output-wav/Buang-BERHALA-Yang-Duduk-Di-Hati-Kita-😥-_-Ustaz-Ahmad-Rizam-EP2qcEFmFD8.mp3-part-391.wav\n"
     ]
    },
    {
     "name": "stderr",
     "output_type": "stream",
     "text": [
      "  8%|▊         | 10551/130662 [11:48<35:28, 56.44it/s]"
     ]
    },
    {
     "name": "stdout",
     "output_type": "stream",
     "text": [
      "skipped semisupervised-malay/output-wav/65-_-Wahai-Anak,-Allah-Akan-Menguji-Kamu-!-_-Ustaz-Wadi-Annuar-0ZKxMaNusTA.mp3-part-275.wav\n"
     ]
    },
    {
     "name": "stderr",
     "output_type": "stream",
     "text": [
      "  8%|▊         | 10699/130662 [11:51<30:00, 66.61it/s]"
     ]
    },
    {
     "name": "stdout",
     "output_type": "stream",
     "text": [
      "skipped semisupervised-malay/output-wav/Besar-Jasa-Nabi-Musa-Kepada-Umat-Nabi-Muhammad-_-Ustaz-Mohd-Nazrul-Al-Azhari-xw2IYlEVSn8.mp3-part-360.wav\n"
     ]
    },
    {
     "name": "stderr",
     "output_type": "stream",
     "text": [
      "  9%|▊         | 11244/130662 [12:00<29:05, 68.43it/s]"
     ]
    },
    {
     "name": "stdout",
     "output_type": "stream",
     "text": [
      "skipped semisupervised-malay/output-wav/Kecil-Pada-Kita,-Besar-Nilainya-Di-Sisi-Allah-_-Ustaz-Mohd-Shaffi-Cno40z2_-oU.mp3-part-176.wav\n"
     ]
    },
    {
     "name": "stderr",
     "output_type": "stream",
     "text": [
      "  9%|▊         | 11293/130662 [12:01<33:00, 60.27it/s]"
     ]
    },
    {
     "name": "stdout",
     "output_type": "stream",
     "text": [
      "skipped semisupervised-malay/output-wav/Dunia-Tamat-2038-4sYNZ3vkIbg.mp3-part-30.wav\n"
     ]
    },
    {
     "name": "stderr",
     "output_type": "stream",
     "text": [
      "  9%|▉         | 11454/130662 [12:04<35:02, 56.69it/s]"
     ]
    },
    {
     "name": "stdout",
     "output_type": "stream",
     "text": [
      "skipped semisupervised-malay/output-wav/Ruang-Masa-Hiperbolik-Wujud-Di-Dunia-Sebenar!-1v-n23HAi7M.mp3-part-31.wav\n"
     ]
    },
    {
     "name": "stderr",
     "output_type": "stream",
     "text": [
      "  9%|▉         | 11761/130662 [12:09<30:57, 64.02it/s]"
     ]
    },
    {
     "name": "stdout",
     "output_type": "stream",
     "text": [
      "skipped semisupervised-malay/output-wav/Buang-BERHALA-Yang-Duduk-Di-Hati-Kita-😥-_-Ustaz-Ahmad-Rizam-EP2qcEFmFD8.mp3-part-312.wav\n"
     ]
    },
    {
     "name": "stderr",
     "output_type": "stream",
     "text": [
      "  9%|▉         | 11954/130662 [12:13<31:51, 62.11it/s]"
     ]
    },
    {
     "name": "stdout",
     "output_type": "stream",
     "text": [
      "skipped semisupervised-malay/output-wav/Manusia-Cukup-TAK-SUKA-Dua-Benda-Ini-😮-_-Ustaz-Dato-Kazim-Elias--t8sUAMQ94M.mp3-part-62.wav\n"
     ]
    },
    {
     "name": "stderr",
     "output_type": "stream",
     "text": [
      "  9%|▉         | 11998/130662 [12:14<33:45, 58.57it/s]"
     ]
    },
    {
     "name": "stdout",
     "output_type": "stream",
     "text": [
      "skipped semisupervised-malay/output-wav/Bila-Mata-Bertentang-Mata-❤️-_-Ustaz-Mohd-Lukmanul-Hakim-Wm-8ZeLyux0.mp3-part-198.wav\n"
     ]
    },
    {
     "name": "stderr",
     "output_type": "stream",
     "text": [
      "  9%|▉         | 12083/130662 [12:15<33:31, 58.94it/s]"
     ]
    },
    {
     "name": "stdout",
     "output_type": "stream",
     "text": [
      "skipped semisupervised-malay/output-wav/Ruang-Masa-Hiperbolik-Wujud-Di-Dunia-Sebenar!-1v-n23HAi7M.mp3-part-22.wav\n"
     ]
    },
    {
     "name": "stderr",
     "output_type": "stream",
     "text": [
      "  9%|▉         | 12170/130662 [12:17<32:17, 61.16it/s]"
     ]
    },
    {
     "name": "stdout",
     "output_type": "stream",
     "text": [
      "skipped semisupervised-malay/output-wav/Pengalaman-Pertama-Kali-Tidur-Dalam-Kereta-Api-Dari-Malaysia-Ke-Thailand-WKi6VUFzjuo.mp3-part-35.wav\n"
     ]
    },
    {
     "name": "stderr",
     "output_type": "stream",
     "text": [
      "  9%|▉         | 12342/130662 [12:20<33:33, 58.77it/s]"
     ]
    },
    {
     "name": "stdout",
     "output_type": "stream",
     "text": [
      "skipped semisupervised-malay/output-wav/WACANA-ILMU----KLIK-DENGAN-BIJAK-L9urGAc2084.mp3-part-310.wav\n"
     ]
    },
    {
     "name": "stderr",
     "output_type": "stream",
     "text": [
      "  9%|▉         | 12372/130662 [12:20<30:19, 65.03it/s]"
     ]
    },
    {
     "name": "stdout",
     "output_type": "stream",
     "text": [
      "skipped semisupervised-malay/output-wav/WACANA-ILMU----KERANGKA-STANDARD-BAHASA-MELAYU-(KSBM)-PENTAKSIRAN-DARIPADA-PERSPEKTIF-KSBM-qbFORSE48cQ.mp3-part-72.wav\n"
     ]
    },
    {
     "name": "stderr",
     "output_type": "stream",
     "text": [
      " 10%|▉         | 12576/130662 [12:24<29:51, 65.93it/s]"
     ]
    },
    {
     "name": "stdout",
     "output_type": "stream",
     "text": [
      "skipped semisupervised-malay/output-wav/RAHSIA-MELIHAT-KE-DALAM-DIRI-(PODCAST)-sw5h9hlityE.mp3-part-55.wav\n"
     ]
    },
    {
     "name": "stderr",
     "output_type": "stream",
     "text": [
      " 10%|▉         | 12730/130662 [12:26<32:23, 60.68it/s]"
     ]
    },
    {
     "name": "stdout",
     "output_type": "stream",
     "text": [
      "skipped semisupervised-malay/output-wav/WACANA-ILMU----VIA-KAUNSELOR---Kaunseling-Untuk-Semua--Sd927cAvnQ.mp3-part-377.wav\n"
     ]
    },
    {
     "name": "stderr",
     "output_type": "stream",
     "text": [
      " 10%|█         | 13071/130662 [12:33<34:10, 57.35it/s]"
     ]
    },
    {
     "name": "stdout",
     "output_type": "stream",
     "text": [
      "skipped semisupervised-malay/output-wav/Ratu-Balqis-Anak-Dari-Golongan-JIN--😯-_-Ustaz-Auni-Mohamed-arZATVyf8j8.mp3-part-35.wav\n"
     ]
    },
    {
     "name": "stderr",
     "output_type": "stream",
     "text": [
      " 10%|█         | 13135/130662 [12:34<41:14, 47.50it/s]"
     ]
    },
    {
     "name": "stdout",
     "output_type": "stream",
     "text": [
      "skipped semisupervised-malay/output-wav/Buang-BERHALA-Yang-Duduk-Di-Hati-Kita-😥-_-Ustaz-Ahmad-Rizam-EP2qcEFmFD8.mp3-part-345.wav\n"
     ]
    },
    {
     "name": "stderr",
     "output_type": "stream",
     "text": [
      " 10%|█         | 13184/130662 [12:35<33:02, 59.27it/s]"
     ]
    },
    {
     "name": "stdout",
     "output_type": "stream",
     "text": [
      "skipped semisupervised-malay/output-wav/Afrika-Ep1----Bergaduh-dengan-orang-Afrika-di-Airport-Nairobi-Kenya-mNZRQE-QDiM.mp3-part-22.wav\n"
     ]
    },
    {
     "name": "stderr",
     "output_type": "stream",
     "text": [
      " 10%|█         | 13234/130662 [12:36<35:47, 54.67it/s]"
     ]
    },
    {
     "name": "stdout",
     "output_type": "stream",
     "text": [
      "skipped semisupervised-malay/output-wav/Ini-Bukan-Kuning-iqxyI-eYK3M.mp3-part-26.wav\n"
     ]
    },
    {
     "name": "stderr",
     "output_type": "stream",
     "text": [
      " 10%|█         | 13486/130662 [12:40<43:55, 44.46it/s]"
     ]
    },
    {
     "name": "stdout",
     "output_type": "stream",
     "text": [
      "skipped semisupervised-malay/output-wav/Konsep-TAWASSUL-Dalam-Islam-_-Ustaz-Mohd-Anuar-mQuUzU8xQ44.mp3-part-180.wav\n"
     ]
    },
    {
     "name": "stderr",
     "output_type": "stream",
     "text": [
      " 11%|█         | 13913/130662 [12:48<32:00, 60.80it/s]"
     ]
    },
    {
     "name": "stdout",
     "output_type": "stream",
     "text": [
      "skipped semisupervised-malay/output-wav/Nak-Sambut-DEKAD-Baru-2020-Tengok-Video-Ni-Dulu.-QO-YWGQvb1Q.mp3-part-14.wav\n"
     ]
    },
    {
     "name": "stderr",
     "output_type": "stream",
     "text": [
      " 11%|█         | 13973/130662 [12:49<29:50, 65.18it/s]"
     ]
    },
    {
     "name": "stdout",
     "output_type": "stream",
     "text": [
      "skipped semisupervised-malay/output-wav/IPGM----Cabaran-VUCA-Dari-Perspektif-Pendidikan-Guru-dan-PAK-21-QOCbT-XH36I.mp3-part-192.wav\n"
     ]
    },
    {
     "name": "stderr",
     "output_type": "stream",
     "text": [
      " 11%|█         | 14018/130662 [12:49<29:01, 66.99it/s]"
     ]
    },
    {
     "name": "stdout",
     "output_type": "stream",
     "text": [
      "skipped semisupervised-malay/output-wav/65-_-Wahai-Anak,-Allah-Akan-Menguji-Kamu-!-_-Ustaz-Wadi-Annuar-0ZKxMaNusTA.mp3-part-260.wav\n"
     ]
    },
    {
     "name": "stderr",
     "output_type": "stream",
     "text": [
      " 11%|█         | 14179/130662 [12:52<30:25, 63.81it/s]"
     ]
    },
    {
     "name": "stdout",
     "output_type": "stream",
     "text": [
      "skipped semisupervised-malay/output-wav/Siapa-Buat-Soalan-IQ-Pelik-Ni-Kenapa-HGFCASE37OQ.mp3-part-1.wav\n"
     ]
    },
    {
     "name": "stderr",
     "output_type": "stream",
     "text": [
      " 11%|█         | 14596/130662 [13:00<35:55, 53.85it/s]"
     ]
    },
    {
     "name": "stdout",
     "output_type": "stream",
     "text": [
      "skipped semisupervised-malay/output-wav/Buang-BERHALA-Yang-Duduk-Di-Hati-Kita-😥-_-Ustaz-Ahmad-Rizam-EP2qcEFmFD8.mp3-part-453.wav\n"
     ]
    },
    {
     "name": "stderr",
     "output_type": "stream",
     "text": [
      " 11%|█▏        | 14847/130662 [13:04<40:21, 47.82it/s]"
     ]
    },
    {
     "name": "stdout",
     "output_type": "stream",
     "text": [
      "skipped semisupervised-malay/output-wav/WACANA-ILMU----KELESTARIAN-PROSPEN-IPG,-KECEMERLANGAN-ORGANISASI-t__QLuABpvw.mp3-part-600.wav\n"
     ]
    },
    {
     "name": "stderr",
     "output_type": "stream",
     "text": [
      " 12%|█▏        | 15036/130662 [13:08<32:29, 59.31it/s]"
     ]
    },
    {
     "name": "stdout",
     "output_type": "stream",
     "text": [
      "skipped semisupervised-malay/output-wav/WACANA-ILMU----MENJANA--EKONOMI-PASCA--COVID-19-gqo3pB3FVmg.mp3-part-513.wav\n",
      "skipped semisupervised-malay/output-wav/Buang-BERHALA-Yang-Duduk-Di-Hati-Kita-😥-_-Ustaz-Ahmad-Rizam-EP2qcEFmFD8.mp3-part-448.wav\n"
     ]
    },
    {
     "name": "stderr",
     "output_type": "stream",
     "text": [
      " 12%|█▏        | 15133/130662 [13:10<33:33, 57.37it/s]"
     ]
    },
    {
     "name": "stdout",
     "output_type": "stream",
     "text": [
      "skipped semisupervised-malay/output-wav/Doa-Orang-Yang-Dizalimi-Sangat-BERACUN-_-Ustaz-Mohd-Aslam-IFhlmN0bDyI.mp3-part-79.wav\n"
     ]
    },
    {
     "name": "stderr",
     "output_type": "stream",
     "text": [
      " 12%|█▏        | 15169/130662 [13:10<31:02, 62.02it/s]"
     ]
    },
    {
     "name": "stdout",
     "output_type": "stream",
     "text": [
      "skipped semisupervised-malay/output-wav/Ruang-Masa-Hiperbolik-Wujud-Di-Dunia-Sebenar!-1v-n23HAi7M.mp3-part-27.wav\n"
     ]
    },
    {
     "name": "stderr",
     "output_type": "stream",
     "text": [
      " 12%|█▏        | 15200/130662 [13:11<34:17, 56.11it/s]"
     ]
    },
    {
     "name": "stdout",
     "output_type": "stream",
     "text": [
      "skipped semisupervised-malay/output-wav/65-_-Wahai-Anak,-Allah-Akan-Menguji-Kamu-!-_-Ustaz-Wadi-Annuar-0ZKxMaNusTA.mp3-part-291.wav\n"
     ]
    },
    {
     "name": "stderr",
     "output_type": "stream",
     "text": [
      " 12%|█▏        | 15224/130662 [13:11<29:45, 64.66it/s]"
     ]
    },
    {
     "name": "stdout",
     "output_type": "stream",
     "text": [
      "skipped semisupervised-malay/output-wav/65-_-Wahai-Anak,-Allah-Akan-Menguji-Kamu-!-_-Ustaz-Wadi-Annuar-0ZKxMaNusTA.mp3-part-433.wav\n"
     ]
    },
    {
     "name": "stderr",
     "output_type": "stream",
     "text": [
      " 12%|█▏        | 15384/130662 [13:14<35:14, 54.52it/s]"
     ]
    },
    {
     "name": "stdout",
     "output_type": "stream",
     "text": [
      "skipped semisupervised-malay/output-wav/65-_-Wahai-Anak,-Allah-Akan-Menguji-Kamu-!-_-Ustaz-Wadi-Annuar-0ZKxMaNusTA.mp3-part-66.wav\n"
     ]
    },
    {
     "name": "stderr",
     "output_type": "stream",
     "text": [
      " 12%|█▏        | 15414/130662 [13:15<31:14, 61.49it/s]"
     ]
    },
    {
     "name": "stdout",
     "output_type": "stream",
     "text": [
      "skipped semisupervised-malay/output-wav/Buang-BERHALA-Yang-Duduk-Di-Hati-Kita-😥-_-Ustaz-Ahmad-Rizam-EP2qcEFmFD8.mp3-part-162.wav\n"
     ]
    },
    {
     "name": "stderr",
     "output_type": "stream",
     "text": [
      " 12%|█▏        | 15628/130662 [13:18<31:00, 61.84it/s]"
     ]
    },
    {
     "name": "stdout",
     "output_type": "stream",
     "text": [
      "skipped semisupervised-malay/output-wav/Podcast-Bekpek---Berbasikal-Malaysia-Ke-Mekah(Ditahan-dan-dibawa-Kem-Askar-Pakistan-Semasa-Di-Gunung)-_bfH3pxuOoM.mp3-part-464.wav\n"
     ]
    },
    {
     "name": "stderr",
     "output_type": "stream",
     "text": [
      " 12%|█▏        | 15677/130662 [13:19<31:12, 61.40it/s]"
     ]
    },
    {
     "name": "stdout",
     "output_type": "stream",
     "text": [
      "skipped semisupervised-malay/output-wav/Pengalaman-Pertama-Kali-Tidur-Dalam-Kereta-Api-Dari-Malaysia-Ke-Thailand-WKi6VUFzjuo.mp3-part-32.wav\n"
     ]
    },
    {
     "name": "stderr",
     "output_type": "stream",
     "text": [
      " 12%|█▏        | 15705/130662 [13:20<30:27, 62.92it/s]"
     ]
    },
    {
     "name": "stdout",
     "output_type": "stream",
     "text": [
      "skipped semisupervised-malay/output-wav/Nak-Sambut-DEKAD-Baru-2020-Tengok-Video-Ni-Dulu.-QO-YWGQvb1Q.mp3-part-16.wav\n"
     ]
    },
    {
     "name": "stderr",
     "output_type": "stream",
     "text": [
      " 12%|█▏        | 15873/130662 [13:23<29:56, 63.88it/s]"
     ]
    },
    {
     "name": "stdout",
     "output_type": "stream",
     "text": [
      "skipped semisupervised-malay/output-wav/Misteri-Panjang-Sebenar-Malaysia-Z2KnOKHBWFY.mp3-part-4.wav\n"
     ]
    },
    {
     "name": "stderr",
     "output_type": "stream",
     "text": [
      " 12%|█▏        | 15968/130662 [13:25<29:19, 65.17it/s]"
     ]
    },
    {
     "name": "stdout",
     "output_type": "stream",
     "text": [
      "skipped semisupervised-malay/output-wav/Ruang-Masa-Hiperbolik-Wujud-Di-Dunia-Sebenar!-1v-n23HAi7M.mp3-part-0.wav\n"
     ]
    },
    {
     "name": "stderr",
     "output_type": "stream",
     "text": [
      " 12%|█▏        | 16194/130662 [13:29<35:29, 53.76it/s]"
     ]
    },
    {
     "name": "stdout",
     "output_type": "stream",
     "text": [
      "skipped semisupervised-malay/output-wav/TAWASSUL-Dengan-Orang-Soleh-Yang-Masih-Hidup-🤔-_-Ustaz-Mohd-Anuar-ZFw2QoiRi68.mp3-part-79.wav\n"
     ]
    },
    {
     "name": "stderr",
     "output_type": "stream",
     "text": [
      " 12%|█▏        | 16246/130662 [13:29<29:30, 64.62it/s]"
     ]
    },
    {
     "name": "stdout",
     "output_type": "stream",
     "text": [
      "skipped semisupervised-malay/output-wav/Bila-Mata-Bertentang-Mata-❤️-_-Ustaz-Mohd-Lukmanul-Hakim-Wm-8ZeLyux0.mp3-part-219.wav\n"
     ]
    },
    {
     "name": "stderr",
     "output_type": "stream",
     "text": [
      " 12%|█▏        | 16316/130662 [13:31<31:19, 60.85it/s]"
     ]
    },
    {
     "name": "stdout",
     "output_type": "stream",
     "text": [
      "skipped semisupervised-malay/output-wav/IPGM----Cabaran-VUCA-Dari-Perspektif-Pendidikan-Guru-dan-PAK-21-QOCbT-XH36I.mp3-part-261.wav\n"
     ]
    },
    {
     "name": "stderr",
     "output_type": "stream",
     "text": [
      " 13%|█▎        | 16490/130662 [13:34<29:09, 65.27it/s]"
     ]
    },
    {
     "name": "stdout",
     "output_type": "stream",
     "text": [
      "skipped semisupervised-malay/output-wav/65-_-Wahai-Anak,-Allah-Akan-Menguji-Kamu-!-_-Ustaz-Wadi-Annuar-0ZKxMaNusTA.mp3-part-480.wav\n"
     ]
    },
    {
     "name": "stderr",
     "output_type": "stream",
     "text": [
      " 13%|█▎        | 16755/130662 [13:39<31:00, 61.24it/s]"
     ]
    },
    {
     "name": "stdout",
     "output_type": "stream",
     "text": [
      "skipped semisupervised-malay/output-wav/80-Peratus-Siswa-Matematik-UKM-Salah-Jawab-Soalan-Mudah-Ni!-Kenapa-YKe-mzGU0JU.mp3-part-14.wav\n"
     ]
    },
    {
     "name": "stderr",
     "output_type": "stream",
     "text": [
      " 13%|█▎        | 17220/130662 [13:47<30:20, 62.32it/s]"
     ]
    },
    {
     "name": "stdout",
     "output_type": "stream",
     "text": [
      "skipped semisupervised-malay/output-wav/Pengalaman-Pertama-Kali-Tidur-Dalam-Kereta-Api-Dari-Malaysia-Ke-Thailand-WKi6VUFzjuo.mp3-part-38.wav\n"
     ]
    },
    {
     "name": "stderr",
     "output_type": "stream",
     "text": [
      " 14%|█▎        | 17762/130662 [13:57<30:12, 62.28it/s]"
     ]
    },
    {
     "name": "stdout",
     "output_type": "stream",
     "text": [
      "skipped semisupervised-malay/output-wav/WACANA-ILMU-KPM---NORMA-BAHARU-PENJAWAT-AWAM-YNuLH_RP_v0.mp3-part-482.wav\n"
     ]
    },
    {
     "name": "stderr",
     "output_type": "stream",
     "text": [
      " 14%|█▎        | 17929/130662 [14:00<28:39, 65.57it/s]"
     ]
    },
    {
     "name": "stdout",
     "output_type": "stream",
     "text": [
      "skipped semisupervised-malay/output-wav/210-_-Operasi-SARIYYAH-😯-_-Ustaz-Auni-Mohamed-uZ4KTG1gQoI.mp3-part-156.wav\n"
     ]
    },
    {
     "name": "stderr",
     "output_type": "stream",
     "text": [
      " 14%|█▎        | 17965/130662 [14:01<36:33, 51.39it/s]"
     ]
    },
    {
     "name": "stdout",
     "output_type": "stream",
     "text": [
      "skipped semisupervised-malay/output-wav/IPGM----Cabaran-VUCA-Dari-Perspektif-Pendidikan-Guru-dan-PAK-21-QOCbT-XH36I.mp3-part-289.wav\n"
     ]
    },
    {
     "name": "stderr",
     "output_type": "stream",
     "text": [
      " 14%|█▍        | 18243/130662 [14:06<35:41, 52.50it/s]"
     ]
    },
    {
     "name": "stdout",
     "output_type": "stream",
     "text": [
      "skipped semisupervised-malay/output-wav/Ciri-Ciri-Nabi-Akhir-Zaman-Dalam-Kitab-TAURAT-😮-_-Ustaz-Auni-Mohamed-VFC4UDw8ju0.mp3-part-128.wav\n"
     ]
    },
    {
     "name": "stderr",
     "output_type": "stream",
     "text": [
      " 14%|█▍        | 18511/130662 [14:10<31:19, 59.68it/s]"
     ]
    },
    {
     "name": "stdout",
     "output_type": "stream",
     "text": [
      "skipped semisupervised-malay/output-wav/Konsep-TAWASSUL-Dalam-Islam-_-Ustaz-Mohd-Anuar-mQuUzU8xQ44.mp3-part-258.wav\n"
     ]
    },
    {
     "name": "stderr",
     "output_type": "stream",
     "text": [
      " 14%|█▍        | 18877/130662 [14:17<31:14, 59.65it/s]"
     ]
    },
    {
     "name": "stdout",
     "output_type": "stream",
     "text": [
      "skipped semisupervised-malay/output-wav/Ruang-Masa-Hiperbolik-Wujud-Di-Dunia-Sebenar!-1v-n23HAi7M.mp3-part-20.wav\n"
     ]
    },
    {
     "name": "stderr",
     "output_type": "stream",
     "text": [
      " 15%|█▍        | 18962/130662 [14:19<33:42, 55.23it/s]"
     ]
    },
    {
     "name": "stdout",
     "output_type": "stream",
     "text": [
      "skipped semisupervised-malay/output-wav/WACANA-ILMU----PSIKO-GAJET-oJ0xApNXRBo.mp3-part-101.wav\n"
     ]
    },
    {
     "name": "stderr",
     "output_type": "stream",
     "text": [
      " 15%|█▍        | 19114/130662 [14:21<42:15, 43.99it/s]"
     ]
    },
    {
     "name": "stdout",
     "output_type": "stream",
     "text": [
      "skipped semisupervised-malay/output-wav/214-_-Apa-Yang-Hud-Hud-Mahu-Khabarkan-🤔-_-Ustaz-Auni-Mohamed-rARJlDAJEgE.mp3-part-108.wav\n"
     ]
    },
    {
     "name": "stderr",
     "output_type": "stream",
     "text": [
      " 15%|█▍        | 19316/130662 [14:25<31:40, 58.59it/s]"
     ]
    },
    {
     "name": "stdout",
     "output_type": "stream",
     "text": [
      "skipped semisupervised-malay/output-wav/Bila-Mata-Bertentang-Mata-❤️-_-Ustaz-Mohd-Lukmanul-Hakim-Wm-8ZeLyux0.mp3-part-296.wav\n"
     ]
    },
    {
     "name": "stderr",
     "output_type": "stream",
     "text": [
      " 15%|█▍        | 19332/130662 [14:25<28:37, 64.84it/s]"
     ]
    },
    {
     "name": "stdout",
     "output_type": "stream",
     "text": [
      "skipped semisupervised-malay/output-wav/Buang-BERHALA-Yang-Duduk-Di-Hati-Kita-😥-_-Ustaz-Ahmad-Rizam-EP2qcEFmFD8.mp3-part-110.wav\n"
     ]
    },
    {
     "name": "stderr",
     "output_type": "stream",
     "text": [
      " 15%|█▍        | 19361/130662 [14:26<28:43, 64.59it/s]"
     ]
    },
    {
     "name": "stdout",
     "output_type": "stream",
     "text": [
      "skipped semisupervised-malay/output-wav/WACANA-ILMU----KERANGKA-STANDARD-BAHASA-MELAYU-(KSBM)-PENTAKSIRAN-DARIPADA-PERSPEKTIF-KSBM-qbFORSE48cQ.mp3-part-300.wav\n"
     ]
    },
    {
     "name": "stderr",
     "output_type": "stream",
     "text": [
      " 15%|█▍        | 19377/130662 [14:26<27:10, 68.24it/s]"
     ]
    },
    {
     "name": "stdout",
     "output_type": "stream",
     "text": [
      "skipped semisupervised-malay/output-wav/WACANA-ILMU----KERANGKA-STANDARD-BAHASA-MELAYU-(KSBM)-PENTAKSIRAN-DARIPADA-PERSPEKTIF-KSBM-qbFORSE48cQ.mp3-part-638.wav\n"
     ]
    },
    {
     "name": "stderr",
     "output_type": "stream",
     "text": [
      " 15%|█▌        | 19614/130662 [14:30<30:08, 61.41it/s]"
     ]
    },
    {
     "name": "stdout",
     "output_type": "stream",
     "text": [
      "skipped semisupervised-malay/output-wav/Buang-BERHALA-Yang-Duduk-Di-Hati-Kita-😥-_-Ustaz-Ahmad-Rizam-EP2qcEFmFD8.mp3-part-547.wav\n"
     ]
    },
    {
     "name": "stderr",
     "output_type": "stream",
     "text": [
      " 15%|█▌        | 19831/130662 [14:34<38:41, 47.74it/s]"
     ]
    },
    {
     "name": "stdout",
     "output_type": "stream",
     "text": [
      "skipped semisupervised-malay/output-wav/Pengintegrasian-Elemen-Pendidikan-Kewangan-Dalam-Kurikulum-Persekolahan.-NeiArFP2Itc.mp3-part-591.wav\n"
     ]
    },
    {
     "name": "stderr",
     "output_type": "stream",
     "text": [
      " 15%|█▌        | 20126/130662 [14:39<31:43, 58.06it/s]"
     ]
    },
    {
     "name": "stdout",
     "output_type": "stream",
     "text": [
      "skipped semisupervised-malay/output-wav/IPGM----Cabaran-VUCA-Dari-Perspektif-Pendidikan-Guru-dan-PAK-21-QOCbT-XH36I.mp3-part-551.wav\n"
     ]
    },
    {
     "name": "stderr",
     "output_type": "stream",
     "text": [
      " 15%|█▌        | 20224/130662 [14:41<31:02, 59.29it/s]"
     ]
    },
    {
     "name": "stdout",
     "output_type": "stream",
     "text": [
      "skipped semisupervised-malay/output-wav/65-_-Wahai-Anak,-Allah-Akan-Menguji-Kamu-!-_-Ustaz-Wadi-Annuar-0ZKxMaNusTA.mp3-part-106.wav\n",
      "skipped semisupervised-malay/output-wav/Pengintegrasian-Elemen-Pendidikan-Kewangan-Dalam-Kurikulum-Persekolahan.-NeiArFP2Itc.mp3-part-971.wav\n"
     ]
    },
    {
     "name": "stderr",
     "output_type": "stream",
     "text": [
      " 16%|█▌        | 20324/130662 [14:43<28:49, 63.81it/s]"
     ]
    },
    {
     "name": "stdout",
     "output_type": "stream",
     "text": [
      "skipped semisupervised-malay/output-wav/Sesi-3----Rahsia-Roh-Menggerakkan-Kita-glR3xP2HTS0.mp3-part-13.wav\n"
     ]
    },
    {
     "name": "stderr",
     "output_type": "stream",
     "text": [
      " 16%|█▌        | 20353/130662 [14:43<29:41, 61.91it/s]"
     ]
    },
    {
     "name": "stdout",
     "output_type": "stream",
     "text": [
      "skipped semisupervised-malay/output-wav/Hantu---Hantu-Malaya-enDHYM-0INM.mp3-part-59.wav\n"
     ]
    },
    {
     "name": "stderr",
     "output_type": "stream",
     "text": [
      " 16%|█▌        | 20486/130662 [14:46<30:57, 59.32it/s]"
     ]
    },
    {
     "name": "stdout",
     "output_type": "stream",
     "text": [
      "skipped semisupervised-malay/output-wav/FORUM-PSIKOLOGI-KEPIMPINAN----Aplikasi-Psikologi-dan-Kaunseling-Dalam-Pengurusan-Sumber-Manusia-6G0N1OrIR4k.mp3-part-269.wav\n"
     ]
    },
    {
     "name": "stderr",
     "output_type": "stream",
     "text": [
      " 16%|█▌        | 20719/130662 [14:50<29:06, 62.93it/s]"
     ]
    },
    {
     "name": "stdout",
     "output_type": "stream",
     "text": [
      "skipped semisupervised-malay/output-wav/WACANA-ILMU----KELESTARIAN-PROSPEN-IPG,-KECEMERLANGAN-ORGANISASI-t__QLuABpvw.mp3-part-398.wav\n"
     ]
    },
    {
     "name": "stderr",
     "output_type": "stream",
     "text": [
      " 16%|█▌        | 21015/130662 [14:55<40:38, 44.97it/s]"
     ]
    },
    {
     "name": "stdout",
     "output_type": "stream",
     "text": [
      "skipped semisupervised-malay/output-wav/PODCAST-[Bahasa-Malaysia]-VlmIyZllgz0.mp3-part-93.wav\n"
     ]
    },
    {
     "name": "stderr",
     "output_type": "stream",
     "text": [
      " 16%|█▋        | 21312/130662 [15:01<30:28, 59.79it/s]"
     ]
    },
    {
     "name": "stdout",
     "output_type": "stream",
     "text": [
      "skipped semisupervised-malay/output-wav/65-_-Wahai-Anak,-Allah-Akan-Menguji-Kamu-!-_-Ustaz-Wadi-Annuar-0ZKxMaNusTA.mp3-part-502.wav\n",
      "skipped semisupervised-malay/output-wav/Pengalaman-Pertama-Kali-Tidur-Dalam-Kereta-Api-Dari-Malaysia-Ke-Thailand-WKi6VUFzjuo.mp3-part-26.wav\n"
     ]
    },
    {
     "name": "stderr",
     "output_type": "stream",
     "text": [
      " 16%|█▋        | 21452/130662 [15:03<36:09, 50.34it/s]"
     ]
    },
    {
     "name": "stdout",
     "output_type": "stream",
     "text": [
      "skipped semisupervised-malay/output-wav/Buang-BERHALA-Yang-Duduk-Di-Hati-Kita-😥-_-Ustaz-Ahmad-Rizam-EP2qcEFmFD8.mp3-part-504.wav\n"
     ]
    },
    {
     "name": "stderr",
     "output_type": "stream",
     "text": [
      " 16%|█▋        | 21507/130662 [15:04<28:23, 64.09it/s]"
     ]
    },
    {
     "name": "stdout",
     "output_type": "stream",
     "text": [
      "skipped semisupervised-malay/output-wav/Ini-Bukan-Kuning-iqxyI-eYK3M.mp3-part-6.wav\n",
      "skipped semisupervised-malay/output-wav/Nak-Sambut-DEKAD-Baru-2020-Tengok-Video-Ni-Dulu.-QO-YWGQvb1Q.mp3-part-21.wav\n"
     ]
    },
    {
     "name": "stderr",
     "output_type": "stream",
     "text": [
      " 17%|█▋        | 21832/130662 [15:10<29:40, 61.13it/s]"
     ]
    },
    {
     "name": "stdout",
     "output_type": "stream",
     "text": [
      "skipped semisupervised-malay/output-wav/Bosan-Dok-Rumah-Meh-Jawab-Soalan-Uji-Minda-Best-Ni!-e6FH8wtaltw.mp3-part-44.wav\n"
     ]
    },
    {
     "name": "stderr",
     "output_type": "stream",
     "text": [
      " 17%|█▋        | 21928/130662 [15:12<31:27, 57.60it/s]"
     ]
    },
    {
     "name": "stdout",
     "output_type": "stream",
     "text": [
      "skipped semisupervised-malay/output-wav/Ini-Bukan-Kuning-iqxyI-eYK3M.mp3-part-18.wav\n"
     ]
    },
    {
     "name": "stderr",
     "output_type": "stream",
     "text": [
      " 17%|█▋        | 22297/130662 [15:18<27:37, 65.36it/s]"
     ]
    },
    {
     "name": "stdout",
     "output_type": "stream",
     "text": [
      "skipped semisupervised-malay/output-wav/Podcast-Bekpek----Dikejar-Yakuza-Ketika-Berbasikal-Di-Jepun-Selama-Sebulan-_Zsx149RtiU.mp3-part-61.wav\n"
     ]
    },
    {
     "name": "stderr",
     "output_type": "stream",
     "text": [
      " 17%|█▋        | 22373/130662 [15:20<27:17, 66.15it/s]"
     ]
    },
    {
     "name": "stdout",
     "output_type": "stream",
     "text": [
      "skipped semisupervised-malay/output-wav/Jalan-Masuk-Ke-SYURGA-_-Ustaz-Halim-Nasir-038_W7kvhI0.mp3-part-9.wav\n"
     ]
    },
    {
     "name": "stderr",
     "output_type": "stream",
     "text": [
      " 17%|█▋        | 22830/130662 [15:28<26:52, 66.86it/s]"
     ]
    },
    {
     "name": "stdout",
     "output_type": "stream",
     "text": [
      "skipped semisupervised-malay/output-wav/Buang-BERHALA-Yang-Duduk-Di-Hati-Kita-😥-_-Ustaz-Ahmad-Rizam-EP2qcEFmFD8.mp3-part-152.wav\n"
     ]
    },
    {
     "name": "stderr",
     "output_type": "stream",
     "text": [
      " 18%|█▊        | 22914/130662 [15:30<28:46, 62.41it/s]"
     ]
    },
    {
     "name": "stdout",
     "output_type": "stream",
     "text": [
      "skipped semisupervised-malay/output-wav/Bila-Mata-Bertentang-Mata-❤️-_-Ustaz-Mohd-Lukmanul-Hakim-Wm-8ZeLyux0.mp3-part-274.wav\n"
     ]
    },
    {
     "name": "stderr",
     "output_type": "stream",
     "text": [
      " 18%|█▊        | 23386/130662 [15:39<31:47, 56.24it/s]"
     ]
    },
    {
     "name": "stdout",
     "output_type": "stream",
     "text": [
      "skipped semisupervised-malay/output-wav/Sesi-2----Fahami-Realiti-Kerajaan-Diri-NSRWj5Zz7Qo.mp3-part-510.wav\n"
     ]
    },
    {
     "name": "stderr",
     "output_type": "stream",
     "text": [
      " 18%|█▊        | 23443/130662 [15:39<26:47, 66.70it/s]"
     ]
    },
    {
     "name": "stdout",
     "output_type": "stream",
     "text": [
      "skipped semisupervised-malay/output-wav/Ini-Bukan-Kuning-iqxyI-eYK3M.mp3-part-10.wav\n"
     ]
    },
    {
     "name": "stderr",
     "output_type": "stream",
     "text": [
      " 18%|█▊        | 23508/130662 [15:41<27:33, 64.79it/s]"
     ]
    },
    {
     "name": "stdout",
     "output_type": "stream",
     "text": [
      "skipped semisupervised-malay/output-wav/Buang-BERHALA-Yang-Duduk-Di-Hati-Kita-😥-_-Ustaz-Ahmad-Rizam-EP2qcEFmFD8.mp3-part-511.wav\n"
     ]
    },
    {
     "name": "stderr",
     "output_type": "stream",
     "text": [
      " 18%|█▊        | 24043/130662 [15:50<29:09, 60.93it/s]"
     ]
    },
    {
     "name": "stdout",
     "output_type": "stream",
     "text": [
      "skipped semisupervised-malay/output-wav/IPGM----Cabaran-VUCA-Dari-Perspektif-Pendidikan-Guru-dan-PAK-21-QOCbT-XH36I.mp3-part-254.wav\n"
     ]
    },
    {
     "name": "stderr",
     "output_type": "stream",
     "text": [
      " 19%|█▊        | 24249/130662 [15:54<26:29, 66.97it/s]"
     ]
    },
    {
     "name": "stdout",
     "output_type": "stream",
     "text": [
      "skipped semisupervised-malay/output-wav/209-_-Kisah-Qorun,-SI-KAYA-Yang-Binasa-😔-_-Ustaz-Auni-Mohamed-5Yu8ZklAV1Q.mp3-part-471.wav\n"
     ]
    },
    {
     "name": "stderr",
     "output_type": "stream",
     "text": [
      " 19%|█▊        | 24435/130662 [15:57<32:34, 54.35it/s]"
     ]
    },
    {
     "name": "stdout",
     "output_type": "stream",
     "text": [
      "skipped semisupervised-malay/output-wav/92-_-Cuba-Renung-Kisah-Ini-_-Ustaz-Wadi-Annuar-AVt7WL-ZR4Y.mp3-part-187.wav\n"
     ]
    },
    {
     "name": "stderr",
     "output_type": "stream",
     "text": [
      " 19%|█▉        | 25379/130662 [16:14<28:29, 61.58it/s]"
     ]
    },
    {
     "name": "stdout",
     "output_type": "stream",
     "text": [
      "skipped semisupervised-malay/output-wav/208-_-Hikmah-Penciptaan-Siang-&-Malam-😮-_-Ustaz-Auni-Mohamed-crqask4aeJ0.mp3-part-81.wav\n"
     ]
    },
    {
     "name": "stderr",
     "output_type": "stream",
     "text": [
      " 20%|█▉        | 25754/130662 [16:21<33:08, 52.75it/s]"
     ]
    },
    {
     "name": "stdout",
     "output_type": "stream",
     "text": [
      "skipped semisupervised-malay/output-wav/Dunia-Kita-Berapa-FPS-(Bahagian-2)-bjXTuQrpkC8.mp3-part-108.wav\n"
     ]
    },
    {
     "name": "stderr",
     "output_type": "stream",
     "text": [
      " 20%|█▉        | 25798/130662 [16:22<27:06, 64.49it/s]"
     ]
    },
    {
     "name": "stdout",
     "output_type": "stream",
     "text": [
      "skipped semisupervised-malay/output-wav/BICARA-PROFESIONAL----Pengurusan-Pembukaan-Semula-Sekolah-un7dcUafjSc.mp3-part-739.wav\n"
     ]
    },
    {
     "name": "stderr",
     "output_type": "stream",
     "text": [
      " 20%|█▉        | 26101/130662 [16:27<36:38, 47.56it/s]"
     ]
    },
    {
     "name": "stdout",
     "output_type": "stream",
     "text": [
      "skipped semisupervised-malay/output-wav/Ruang-Masa-Hiperbolik-Wujud-Di-Dunia-Sebenar!-1v-n23HAi7M.mp3-part-18.wav\n"
     ]
    },
    {
     "name": "stderr",
     "output_type": "stream",
     "text": [
      " 20%|██        | 26261/130662 [16:30<25:39, 67.83it/s]"
     ]
    },
    {
     "name": "stdout",
     "output_type": "stream",
     "text": [
      "skipped semisupervised-malay/output-wav/WACANA-ILMU----KELESTARIAN-PROSPEN-IPG,-KECEMERLANGAN-ORGANISASI-t__QLuABpvw.mp3-part-719.wav\n"
     ]
    },
    {
     "name": "stderr",
     "output_type": "stream",
     "text": [
      " 20%|██        | 26420/130662 [16:33<27:22, 63.46it/s]"
     ]
    },
    {
     "name": "stdout",
     "output_type": "stream",
     "text": [
      "skipped semisupervised-malay/output-wav/Mengamuk-Sebab-Tak-Scan--SlowTalk-Podcast-#04-JKnaHxIYHm8.mp3-part-22.wav\n"
     ]
    },
    {
     "name": "stderr",
     "output_type": "stream",
     "text": [
      " 20%|██        | 26610/130662 [16:36<27:00, 64.20it/s]"
     ]
    },
    {
     "name": "stdout",
     "output_type": "stream",
     "text": [
      "skipped semisupervised-malay/output-wav/Buang-BERHALA-Yang-Duduk-Di-Hati-Kita-😥-_-Ustaz-Ahmad-Rizam-EP2qcEFmFD8.mp3-part-306.wav\n"
     ]
    },
    {
     "name": "stderr",
     "output_type": "stream",
     "text": [
      " 20%|██        | 26763/130662 [16:39<27:48, 62.28it/s]"
     ]
    },
    {
     "name": "stdout",
     "output_type": "stream",
     "text": [
      "skipped semisupervised-malay/output-wav/WACANA-ILMU----PSIKO-GAJET-oJ0xApNXRBo.mp3-part-104.wav\n"
     ]
    },
    {
     "name": "stderr",
     "output_type": "stream",
     "text": [
      " 21%|██        | 27427/130662 [16:51<27:18, 63.00it/s]"
     ]
    },
    {
     "name": "stdout",
     "output_type": "stream",
     "text": [
      "skipped semisupervised-malay/output-wav/Pasal-Kau---Movie-Review-bRUjmsnE5ZU.mp3-part-100.wav\n"
     ]
    },
    {
     "name": "stderr",
     "output_type": "stream",
     "text": [
      " 21%|██        | 27686/130662 [16:55<25:51, 66.37it/s]"
     ]
    },
    {
     "name": "stdout",
     "output_type": "stream",
     "text": [
      "skipped semisupervised-malay/output-wav/BICARA-PROFESIONAL-KEPIMPINAN---PENGURUSAN-DAN-PEMATUHAN-SOP-PASCA-COVID-19-f2xNnNcwmK8.mp3-part-375.wav\n"
     ]
    },
    {
     "name": "stderr",
     "output_type": "stream",
     "text": [
      " 21%|██▏       | 28018/130662 [17:02<27:19, 62.62it/s]"
     ]
    },
    {
     "name": "stdout",
     "output_type": "stream",
     "text": [
      "skipped semisupervised-malay/output-wav/Buang-BERHALA-Yang-Duduk-Di-Hati-Kita-😥-_-Ustaz-Ahmad-Rizam-EP2qcEFmFD8.mp3-part-364.wav\n"
     ]
    },
    {
     "name": "stderr",
     "output_type": "stream",
     "text": [
      " 22%|██▏       | 28263/130662 [17:06<30:40, 55.64it/s]"
     ]
    },
    {
     "name": "stdout",
     "output_type": "stream",
     "text": [
      "skipped semisupervised-malay/output-wav/Dunia-Tamat-2038-4sYNZ3vkIbg.mp3-part-12.wav\n"
     ]
    },
    {
     "name": "stderr",
     "output_type": "stream",
     "text": [
      " 22%|██▏       | 28962/130662 [17:19<35:28, 47.78it/s]"
     ]
    },
    {
     "name": "stdout",
     "output_type": "stream",
     "text": [
      "skipped semisupervised-malay/output-wav/BICARA-PROFESIONAL-KPM---NORMAL-BAHARU-GURU-SATU-REALITI-MZCJCoBwuho.mp3-part-885.wav\n"
     ]
    },
    {
     "name": "stderr",
     "output_type": "stream",
     "text": [
      " 22%|██▏       | 29063/130662 [17:21<29:51, 56.72it/s]"
     ]
    },
    {
     "name": "stdout",
     "output_type": "stream",
     "text": [
      "skipped semisupervised-malay/output-wav/Pengalaman-Pertama-Kali-Tidur-Dalam-Kereta-Api-Dari-Malaysia-Ke-Thailand-WKi6VUFzjuo.mp3-part-31.wav\n"
     ]
    },
    {
     "name": "stderr",
     "output_type": "stream",
     "text": [
      " 22%|██▏       | 29091/130662 [17:21<26:57, 62.79it/s]"
     ]
    },
    {
     "name": "stdout",
     "output_type": "stream",
     "text": [
      "skipped semisupervised-malay/output-wav/Sesi-1----Rahsia-Minda,-Fikiran,-Akal-dan-Sedar-6f-8js73O1k.mp3-part-528.wav\n"
     ]
    },
    {
     "name": "stderr",
     "output_type": "stream",
     "text": [
      " 22%|██▏       | 29167/130662 [17:22<27:37, 61.25it/s]"
     ]
    },
    {
     "name": "stdout",
     "output_type": "stream",
     "text": [
      "skipped semisupervised-malay/output-wav/Ini-Golongan-Yang-Dimurkai-ALLAH-_-Ustaz-Mohd-Aslam-aHYimafirpg.mp3-part-232.wav\n"
     ]
    },
    {
     "name": "stderr",
     "output_type": "stream",
     "text": [
      " 23%|██▎       | 29470/130662 [17:28<25:32, 66.03it/s]"
     ]
    },
    {
     "name": "stdout",
     "output_type": "stream",
     "text": [
      "skipped semisupervised-malay/output-wav/Sesi-1----Rahsia-Minda,-Fikiran,-Akal-dan-Sedar-6f-8js73O1k.mp3-part-73.wav\n"
     ]
    },
    {
     "name": "stderr",
     "output_type": "stream",
     "text": [
      " 23%|██▎       | 29642/130662 [17:31<24:32, 68.61it/s]"
     ]
    },
    {
     "name": "stdout",
     "output_type": "stream",
     "text": [
      "skipped semisupervised-malay/output-wav/Troll-Paling-Best.-opAw8b75NQM.mp3-part-54.wav\n"
     ]
    },
    {
     "name": "stderr",
     "output_type": "stream",
     "text": [
      " 23%|██▎       | 29730/130662 [17:33<26:47, 62.79it/s]"
     ]
    },
    {
     "name": "stdout",
     "output_type": "stream",
     "text": [
      "skipped semisupervised-malay/output-wav/IPGM----Cabaran-VUCA-Dari-Perspektif-Pendidikan-Guru-dan-PAK-21-QOCbT-XH36I.mp3-part-48.wav\n",
      "skipped semisupervised-malay/output-wav/Siapa-Buat-Soalan-IQ-Pelik-Ni-Kenapa-HGFCASE37OQ.mp3-part-3.wav\n"
     ]
    },
    {
     "name": "stderr",
     "output_type": "stream",
     "text": [
      " 23%|██▎       | 29865/130662 [17:35<32:18, 52.00it/s]"
     ]
    },
    {
     "name": "stdout",
     "output_type": "stream",
     "text": [
      "skipped semisupervised-malay/output-wav/65-_-Wahai-Anak,-Allah-Akan-Menguji-Kamu-!-_-Ustaz-Wadi-Annuar-0ZKxMaNusTA.mp3-part-371.wav\n"
     ]
    },
    {
     "name": "stderr",
     "output_type": "stream",
     "text": [
      " 23%|██▎       | 29904/130662 [17:36<24:51, 67.54it/s]"
     ]
    },
    {
     "name": "stdout",
     "output_type": "stream",
     "text": [
      "skipped semisupervised-malay/output-wav/PODCAST-MELAYU-_-INI-CARA-SARJANA-TANPA-SKIPSI-_-HANGKATE-&-PAK-ENDRI-SANOPAKA-(-KETUA-STISIPOL-RH-)-e-eMNNxW3vo.mp3-part-19.wav\n"
     ]
    },
    {
     "name": "stderr",
     "output_type": "stream",
     "text": [
      " 23%|██▎       | 30282/130662 [17:43<25:31, 65.53it/s]"
     ]
    },
    {
     "name": "stdout",
     "output_type": "stream",
     "text": [
      "skipped semisupervised-malay/output-wav/Sesi-2----Fahami-Realiti-Kerajaan-Diri-NSRWj5Zz7Qo.mp3-part-5.wav\n",
      "skipped semisupervised-malay/output-wav/Menurut-Sains,-Gopal-Sebenarnya-Tersangat-OP-(Bahagian-2)-PKJshdf_FnM.mp3-part-100.wav\n"
     ]
    },
    {
     "name": "stderr",
     "output_type": "stream",
     "text": [
      " 23%|██▎       | 30366/130662 [17:44<27:40, 60.41it/s]"
     ]
    },
    {
     "name": "stdout",
     "output_type": "stream",
     "text": [
      "skipped semisupervised-malay/output-wav/Sesi-3----Rahsia-Roh-Menggerakkan-Kita-glR3xP2HTS0.mp3-part-720.wav\n"
     ]
    },
    {
     "name": "stderr",
     "output_type": "stream",
     "text": [
      " 24%|██▎       | 30815/130662 [17:52<25:39, 64.87it/s]"
     ]
    },
    {
     "name": "stdout",
     "output_type": "stream",
     "text": [
      "skipped semisupervised-malay/output-wav/Contoh-Terbaik-Orang-Yang-CERDIK-_-Syeikh-Muhd-Zainul-Asri-INq9ouq6EJc.mp3-part-434.wav\n",
      "skipped semisupervised-malay/output-wav/Buang-BERHALA-Yang-Duduk-Di-Hati-Kita-😥-_-Ustaz-Ahmad-Rizam-EP2qcEFmFD8.mp3-part-67.wav\n"
     ]
    },
    {
     "name": "stderr",
     "output_type": "stream",
     "text": [
      " 24%|██▎       | 30990/130662 [17:55<25:11, 65.96it/s]"
     ]
    },
    {
     "name": "stdout",
     "output_type": "stream",
     "text": [
      "skipped semisupervised-malay/output-wav/Sesi-4----Teknik-Meditasi-Untuk-Reprogram-Diri-ydoo5KXzJbg.mp3-part-6.wav\n"
     ]
    },
    {
     "name": "stderr",
     "output_type": "stream",
     "text": [
      " 24%|██▍       | 31082/130662 [17:57<25:20, 65.49it/s]"
     ]
    },
    {
     "name": "stdout",
     "output_type": "stream",
     "text": [
      "skipped semisupervised-malay/output-wav/Nak-Sambut-DEKAD-Baru-2020-Tengok-Video-Ni-Dulu.-QO-YWGQvb1Q.mp3-part-4.wav\n"
     ]
    },
    {
     "name": "stderr",
     "output_type": "stream",
     "text": [
      " 24%|██▍       | 31250/130662 [18:00<26:36, 62.28it/s]"
     ]
    },
    {
     "name": "stdout",
     "output_type": "stream",
     "text": [
      "skipped semisupervised-malay/output-wav/Buang-BERHALA-Yang-Duduk-Di-Hati-Kita-😥-_-Ustaz-Ahmad-Rizam-EP2qcEFmFD8.mp3-part-503.wav\n"
     ]
    },
    {
     "name": "stderr",
     "output_type": "stream",
     "text": [
      " 24%|██▍       | 31278/130662 [18:01<35:58, 46.05it/s]"
     ]
    },
    {
     "name": "stdout",
     "output_type": "stream",
     "text": [
      "skipped semisupervised-malay/output-wav/PODCAST-MELAYU-_-INI-CARA-SARJANA-TANPA-SKIPSI-_-HANGKATE-&-PAK-ENDRI-SANOPAKA-(-KETUA-STISIPOL-RH-)-e-eMNNxW3vo.mp3-part-170.wav\n"
     ]
    },
    {
     "name": "stderr",
     "output_type": "stream",
     "text": [
      " 24%|██▍       | 31349/130662 [18:02<25:29, 64.92it/s]"
     ]
    },
    {
     "name": "stdout",
     "output_type": "stream",
     "text": [
      "skipped semisupervised-malay/output-wav/65-_-Wahai-Anak,-Allah-Akan-Menguji-Kamu-!-_-Ustaz-Wadi-Annuar-0ZKxMaNusTA.mp3-part-368.wav\n"
     ]
    },
    {
     "name": "stderr",
     "output_type": "stream",
     "text": [
      " 24%|██▍       | 31836/130662 [18:11<29:55, 55.04it/s]"
     ]
    },
    {
     "name": "stdout",
     "output_type": "stream",
     "text": [
      "skipped semisupervised-malay/output-wav/WACANA-ILMU----Saya-OK!-Anda-Bagaimana-Te-funnFw3s.mp3-part-240.wav\n"
     ]
    },
    {
     "name": "stderr",
     "output_type": "stream",
     "text": [
      " 24%|██▍       | 31982/130662 [18:13<26:31, 61.99it/s]"
     ]
    },
    {
     "name": "stdout",
     "output_type": "stream",
     "text": [
      "skipped semisupervised-malay/output-wav/Buang-BERHALA-Yang-Duduk-Di-Hati-Kita-😥-_-Ustaz-Ahmad-Rizam-EP2qcEFmFD8.mp3-part-297.wav\n"
     ]
    },
    {
     "name": "stderr",
     "output_type": "stream",
     "text": [
      " 24%|██▍       | 32005/130662 [18:14<33:30, 49.06it/s]"
     ]
    },
    {
     "name": "stdout",
     "output_type": "stream",
     "text": [
      "skipped semisupervised-malay/output-wav/KULIAH-1-JAM---Nak-Ubah-Hidup,-Kena-Bermula-Dengan-Mengenali-Diri-_9ZBUQjJfMI.mp3-part-479.wav\n"
     ]
    },
    {
     "name": "stderr",
     "output_type": "stream",
     "text": [
      " 25%|██▍       | 32021/130662 [18:14<29:11, 56.31it/s]"
     ]
    },
    {
     "name": "stdout",
     "output_type": "stream",
     "text": [
      "skipped semisupervised-malay/output-wav/Pengintegrasian-Elemen-Pendidikan-Kewangan-Dalam-Kurikulum-Persekolahan.-NeiArFP2Itc.mp3-part-17.wav\n"
     ]
    },
    {
     "name": "stderr",
     "output_type": "stream",
     "text": [
      " 25%|██▍       | 32378/130662 [18:21<27:28, 59.64it/s]"
     ]
    },
    {
     "name": "stdout",
     "output_type": "stream",
     "text": [
      "skipped semisupervised-malay/output-wav/Buang-BERHALA-Yang-Duduk-Di-Hati-Kita-😥-_-Ustaz-Ahmad-Rizam-EP2qcEFmFD8.mp3-part-137.wav\n"
     ]
    },
    {
     "name": "stderr",
     "output_type": "stream",
     "text": [
      " 25%|██▍       | 32450/130662 [18:22<31:14, 52.39it/s]"
     ]
    },
    {
     "name": "stdout",
     "output_type": "stream",
     "text": [
      "skipped semisupervised-malay/output-wav/Sesi-1----Rahsia-Minda,-Fikiran,-Akal-dan-Sedar-6f-8js73O1k.mp3-part-9.wav\n"
     ]
    },
    {
     "name": "stderr",
     "output_type": "stream",
     "text": [
      " 25%|██▌       | 32731/130662 [18:27<26:44, 61.04it/s]"
     ]
    },
    {
     "name": "stdout",
     "output_type": "stream",
     "text": [
      "skipped semisupervised-malay/output-wav/IPGM----Cabaran-VUCA-Dari-Perspektif-Pendidikan-Guru-dan-PAK-21-QOCbT-XH36I.mp3-part-688.wav\n"
     ]
    },
    {
     "name": "stderr",
     "output_type": "stream",
     "text": [
      " 25%|██▌       | 32796/130662 [18:29<32:35, 50.05it/s]"
     ]
    },
    {
     "name": "stdout",
     "output_type": "stream",
     "text": [
      "skipped semisupervised-malay/output-wav/Buang-BERHALA-Yang-Duduk-Di-Hati-Kita-😥-_-Ustaz-Ahmad-Rizam-EP2qcEFmFD8.mp3-part-535.wav\n"
     ]
    },
    {
     "name": "stderr",
     "output_type": "stream",
     "text": [
      " 25%|██▌       | 32824/130662 [18:29<27:13, 59.89it/s]"
     ]
    },
    {
     "name": "stdout",
     "output_type": "stream",
     "text": [
      "skipped semisupervised-malay/output-wav/Buang-BERHALA-Yang-Duduk-Di-Hati-Kita-😥-_-Ustaz-Ahmad-Rizam-EP2qcEFmFD8.mp3-part-66.wav\n"
     ]
    },
    {
     "name": "stderr",
     "output_type": "stream",
     "text": [
      " 26%|██▌       | 33656/130662 [18:44<24:59, 64.68it/s]"
     ]
    },
    {
     "name": "stdout",
     "output_type": "stream",
     "text": [
      "skipped semisupervised-malay/output-wav/65-_-Wahai-Anak,-Allah-Akan-Menguji-Kamu-!-_-Ustaz-Wadi-Annuar-0ZKxMaNusTA.mp3-part-108.wav\n"
     ]
    },
    {
     "name": "stderr",
     "output_type": "stream",
     "text": [
      " 26%|██▌       | 33840/130662 [18:47<24:09, 66.78it/s]"
     ]
    },
    {
     "name": "stdout",
     "output_type": "stream",
     "text": [
      "skipped semisupervised-malay/output-wav/IPGM----Cabaran-VUCA-Dari-Perspektif-Pendidikan-Guru-dan-PAK-21-QOCbT-XH36I.mp3-part-114.wav\n"
     ]
    },
    {
     "name": "stderr",
     "output_type": "stream",
     "text": [
      " 26%|██▌       | 34010/130662 [18:50<26:37, 60.52it/s]"
     ]
    },
    {
     "name": "stdout",
     "output_type": "stream",
     "text": [
      "skipped semisupervised-malay/output-wav/Android-VS-iOS-(Instagram)-SlowTalk-Podcast-#06-JIOEzlTO6Kg.mp3-part-18.wav\n"
     ]
    },
    {
     "name": "stderr",
     "output_type": "stream",
     "text": [
      " 26%|██▌       | 34138/130662 [18:52<27:00, 59.56it/s]"
     ]
    },
    {
     "name": "stdout",
     "output_type": "stream",
     "text": [
      "skipped semisupervised-malay/output-wav/Episod-Penuh-Bing-_-70+-Minit-_-Eps-1-10-_-Bing-Bahasa-Malysia-jjoBv0X5fQA.mp3-part-12.wav\n"
     ]
    },
    {
     "name": "stderr",
     "output_type": "stream",
     "text": [
      " 27%|██▋       | 34758/130662 [19:03<27:24, 58.31it/s]"
     ]
    },
    {
     "name": "stdout",
     "output_type": "stream",
     "text": [
      "skipped semisupervised-malay/output-wav/65-_-Wahai-Anak,-Allah-Akan-Menguji-Kamu-!-_-Ustaz-Wadi-Annuar-0ZKxMaNusTA.mp3-part-403.wav\n"
     ]
    },
    {
     "name": "stderr",
     "output_type": "stream",
     "text": [
      " 27%|██▋       | 34893/130662 [19:06<25:33, 62.47it/s]"
     ]
    },
    {
     "name": "stdout",
     "output_type": "stream",
     "text": [
      "skipped semisupervised-malay/output-wav/Dunia-Tamat-2038-4sYNZ3vkIbg.mp3-part-22.wav\n"
     ]
    },
    {
     "name": "stderr",
     "output_type": "stream",
     "text": [
      " 27%|██▋       | 34962/130662 [19:07<25:54, 61.56it/s]"
     ]
    },
    {
     "name": "stdout",
     "output_type": "stream",
     "text": [
      "skipped semisupervised-malay/output-wav/Dunia-Tamat-2038-4sYNZ3vkIbg.mp3-part-34.wav\n"
     ]
    },
    {
     "name": "stderr",
     "output_type": "stream",
     "text": [
      " 27%|██▋       | 35139/130662 [19:10<25:13, 63.13it/s]"
     ]
    },
    {
     "name": "stdout",
     "output_type": "stream",
     "text": [
      "skipped semisupervised-malay/output-wav/Troll-Paling-Best.-opAw8b75NQM.mp3-part-84.wav\n"
     ]
    },
    {
     "name": "stderr",
     "output_type": "stream",
     "text": [
      " 27%|██▋       | 35309/130662 [19:13<25:36, 62.08it/s]"
     ]
    },
    {
     "name": "stdout",
     "output_type": "stream",
     "text": [
      "skipped semisupervised-malay/output-wav/Sesi-1----Rahsia-Minda,-Fikiran,-Akal-dan-Sedar-6f-8js73O1k.mp3-part-63.wav\n"
     ]
    },
    {
     "name": "stderr",
     "output_type": "stream",
     "text": [
      " 27%|██▋       | 35518/130662 [19:17<25:25, 62.36it/s]"
     ]
    },
    {
     "name": "stdout",
     "output_type": "stream",
     "text": [
      "skipped semisupervised-malay/output-wav/Buang-BERHALA-Yang-Duduk-Di-Hati-Kita-😥-_-Ustaz-Ahmad-Rizam-EP2qcEFmFD8.mp3-part-87.wav\n"
     ]
    },
    {
     "name": "stderr",
     "output_type": "stream",
     "text": [
      " 28%|██▊       | 36103/130662 [19:27<25:19, 62.24it/s]"
     ]
    },
    {
     "name": "stdout",
     "output_type": "stream",
     "text": [
      "skipped semisupervised-malay/output-wav/Nak-Sambut-DEKAD-Baru-2020-Tengok-Video-Ni-Dulu.-QO-YWGQvb1Q.mp3-part-10.wav\n"
     ]
    },
    {
     "name": "stderr",
     "output_type": "stream",
     "text": [
      " 28%|██▊       | 36258/130662 [19:30<29:13, 53.83it/s]"
     ]
    },
    {
     "name": "stdout",
     "output_type": "stream",
     "text": [
      "skipped semisupervised-malay/output-wav/Dunia-Kita-Berapa-FPS-(Bahagian-2)-bjXTuQrpkC8.mp3-part-53.wav\n"
     ]
    },
    {
     "name": "stderr",
     "output_type": "stream",
     "text": [
      " 28%|██▊       | 36492/130662 [19:34<23:15, 67.50it/s]"
     ]
    },
    {
     "name": "stdout",
     "output_type": "stream",
     "text": [
      "skipped semisupervised-malay/output-wav/214-_-Apa-Yang-Hud-Hud-Mahu-Khabarkan-🤔-_-Ustaz-Auni-Mohamed-rARJlDAJEgE.mp3-part-227.wav\n"
     ]
    },
    {
     "name": "stderr",
     "output_type": "stream",
     "text": [
      " 28%|██▊       | 36611/130662 [19:36<27:55, 56.14it/s]"
     ]
    },
    {
     "name": "stdout",
     "output_type": "stream",
     "text": [
      "skipped semisupervised-malay/output-wav/Pengintegrasian-Elemen-Pendidikan-Kewangan-Dalam-Kurikulum-Persekolahan.-NeiArFP2Itc.mp3-part-44.wav\n",
      "skipped semisupervised-malay/output-wav/65-_-Wahai-Anak,-Allah-Akan-Menguji-Kamu-!-_-Ustaz-Wadi-Annuar-0ZKxMaNusTA.mp3-part-489.wav\n"
     ]
    },
    {
     "name": "stderr",
     "output_type": "stream",
     "text": [
      " 28%|██▊       | 37018/130662 [19:43<24:21, 64.09it/s]"
     ]
    },
    {
     "name": "stdout",
     "output_type": "stream",
     "text": [
      "skipped semisupervised-malay/output-wav/65-_-Wahai-Anak,-Allah-Akan-Menguji-Kamu-!-_-Ustaz-Wadi-Annuar-0ZKxMaNusTA.mp3-part-325.wav\n"
     ]
    },
    {
     "name": "stderr",
     "output_type": "stream",
     "text": [
      " 29%|██▊       | 37388/130662 [19:49<24:17, 63.98it/s]"
     ]
    },
    {
     "name": "stdout",
     "output_type": "stream",
     "text": [
      "skipped semisupervised-malay/output-wav/WACANA-ILMU----MENJANA--EKONOMI-PASCA--COVID-19-gqo3pB3FVmg.mp3-part-270.wav\n"
     ]
    },
    {
     "name": "stderr",
     "output_type": "stream",
     "text": [
      " 29%|██▉       | 37723/130662 [19:55<25:12, 61.43it/s]"
     ]
    },
    {
     "name": "stdout",
     "output_type": "stream",
     "text": [
      "skipped semisupervised-malay/output-wav/Q-&-A-(Jadi-backpacker-ni-tak-ada-masa-depan)-_-Podcast-Malaysia-uCg5WeQ34rM.mp3-part-212.wav\n"
     ]
    },
    {
     "name": "stderr",
     "output_type": "stream",
     "text": [
      " 29%|██▉       | 37752/130662 [19:56<23:58, 64.57it/s]"
     ]
    },
    {
     "name": "stdout",
     "output_type": "stream",
     "text": [
      "skipped semisupervised-malay/output-wav/65-_-Wahai-Anak,-Allah-Akan-Menguji-Kamu-!-_-Ustaz-Wadi-Annuar-0ZKxMaNusTA.mp3-part-250.wav\n"
     ]
    },
    {
     "name": "stderr",
     "output_type": "stream",
     "text": [
      " 29%|██▉       | 37815/130662 [19:57<25:19, 61.11it/s]"
     ]
    },
    {
     "name": "stdout",
     "output_type": "stream",
     "text": [
      "skipped semisupervised-malay/output-wav/Dunia-Tamat-2038-4sYNZ3vkIbg.mp3-part-5.wav\n"
     ]
    },
    {
     "name": "stderr",
     "output_type": "stream",
     "text": [
      " 29%|██▉       | 38079/130662 [20:01<26:25, 58.40it/s]"
     ]
    },
    {
     "name": "stdout",
     "output_type": "stream",
     "text": [
      "skipped semisupervised-malay/output-wav/Buang-BERHALA-Yang-Duduk-Di-Hati-Kita-😥-_-Ustaz-Ahmad-Rizam-EP2qcEFmFD8.mp3-part-563.wav\n"
     ]
    },
    {
     "name": "stderr",
     "output_type": "stream",
     "text": [
      " 29%|██▉       | 38333/130662 [20:06<26:08, 58.87it/s]"
     ]
    },
    {
     "name": "stdout",
     "output_type": "stream",
     "text": [
      "skipped semisupervised-malay/output-wav/Siapa-Buat-Soalan-IQ-Pelik-Ni-Kenapa-HGFCASE37OQ.mp3-part-0.wav\n"
     ]
    },
    {
     "name": "stderr",
     "output_type": "stream",
     "text": [
      " 29%|██▉       | 38392/130662 [20:07<30:07, 51.05it/s]"
     ]
    },
    {
     "name": "stdout",
     "output_type": "stream",
     "text": [
      "skipped semisupervised-malay/output-wav/IPGM----Cabaran-VUCA-Dari-Perspektif-Pendidikan-Guru-dan-PAK-21-QOCbT-XH36I.mp3-part-622.wav\n"
     ]
    },
    {
     "name": "stderr",
     "output_type": "stream",
     "text": [
      " 29%|██▉       | 38435/130662 [20:08<24:00, 64.03it/s]"
     ]
    },
    {
     "name": "stdout",
     "output_type": "stream",
     "text": [
      "skipped semisupervised-malay/output-wav/65-_-Wahai-Anak,-Allah-Akan-Menguji-Kamu-!-_-Ustaz-Wadi-Annuar-0ZKxMaNusTA.mp3-part-474.wav\n"
     ]
    },
    {
     "name": "stderr",
     "output_type": "stream",
     "text": [
      " 29%|██▉       | 38487/130662 [20:09<27:05, 56.72it/s]"
     ]
    },
    {
     "name": "stdout",
     "output_type": "stream",
     "text": [
      "skipped semisupervised-malay/output-wav/Dunia-Tamat-2038-4sYNZ3vkIbg.mp3-part-28.wav\n"
     ]
    },
    {
     "name": "stderr",
     "output_type": "stream",
     "text": [
      " 30%|██▉       | 38665/130662 [20:12<28:52, 53.11it/s]"
     ]
    },
    {
     "name": "stdout",
     "output_type": "stream",
     "text": [
      "skipped semisupervised-malay/output-wav/SIARAN-LANGSUNG-BICARA-PROFESIONAL-KEPIMPINAN---PENGURUSAN-DAN-PEMATUHAN-SOP-PASCA-COVID-19-00spujx3b70.mp3-part-379.wav\n"
     ]
    },
    {
     "name": "stderr",
     "output_type": "stream",
     "text": [
      " 30%|██▉       | 38912/130662 [20:16<24:21, 62.77it/s]"
     ]
    },
    {
     "name": "stdout",
     "output_type": "stream",
     "text": [
      "skipped semisupervised-malay/output-wav/Buang-BERHALA-Yang-Duduk-Di-Hati-Kita-😥-_-Ustaz-Ahmad-Rizam-EP2qcEFmFD8.mp3-part-146.wav\n"
     ]
    },
    {
     "name": "stderr",
     "output_type": "stream",
     "text": [
      " 30%|██▉       | 38971/130662 [20:17<27:16, 56.03it/s]"
     ]
    },
    {
     "name": "stdout",
     "output_type": "stream",
     "text": [
      "skipped semisupervised-malay/output-wav/65-_-Wahai-Anak,-Allah-Akan-Menguji-Kamu-!-_-Ustaz-Wadi-Annuar-0ZKxMaNusTA.mp3-part-86.wav\n"
     ]
    },
    {
     "name": "stderr",
     "output_type": "stream",
     "text": [
      " 30%|██▉       | 39093/130662 [20:19<24:33, 62.14it/s]"
     ]
    },
    {
     "name": "stdout",
     "output_type": "stream",
     "text": [
      "skipped semisupervised-malay/output-wav/Buang-BERHALA-Yang-Duduk-Di-Hati-Kita-😥-_-Ustaz-Ahmad-Rizam-EP2qcEFmFD8.mp3-part-527.wav\n"
     ]
    },
    {
     "name": "stderr",
     "output_type": "stream",
     "text": [
      " 30%|███       | 39254/130662 [20:22<26:44, 56.98it/s]"
     ]
    },
    {
     "name": "stdout",
     "output_type": "stream",
     "text": [
      "skipped semisupervised-malay/output-wav/65-_-Wahai-Anak,-Allah-Akan-Menguji-Kamu-!-_-Ustaz-Wadi-Annuar-0ZKxMaNusTA.mp3-part-98.wav\n"
     ]
    },
    {
     "name": "stderr",
     "output_type": "stream",
     "text": [
      " 30%|███       | 39357/130662 [20:24<24:15, 62.71it/s]"
     ]
    },
    {
     "name": "stdout",
     "output_type": "stream",
     "text": [
      "skipped semisupervised-malay/output-wav/Buang-BERHALA-Yang-Duduk-Di-Hati-Kita-😥-_-Ustaz-Ahmad-Rizam-EP2qcEFmFD8.mp3-part-482.wav\n"
     ]
    },
    {
     "name": "stderr",
     "output_type": "stream",
     "text": [
      " 30%|███       | 39429/130662 [20:26<26:33, 57.26it/s]"
     ]
    },
    {
     "name": "stdout",
     "output_type": "stream",
     "text": [
      "skipped semisupervised-malay/output-wav/Sesi-3----Rahsia-Roh-Menggerakkan-Kita-glR3xP2HTS0.mp3-part-730.wav\n"
     ]
    },
    {
     "name": "stderr",
     "output_type": "stream",
     "text": [
      " 30%|███       | 39662/130662 [20:30<24:01, 63.13it/s]"
     ]
    },
    {
     "name": "stdout",
     "output_type": "stream",
     "text": [
      "skipped semisupervised-malay/output-wav/Perang-Petisyen-Matematik-Tambahan-SPM-WC0_yaR0jY4.mp3-part-62.wav\n"
     ]
    },
    {
     "name": "stderr",
     "output_type": "stream",
     "text": [
      " 31%|███       | 40006/130662 [20:36<22:26, 67.33it/s]"
     ]
    },
    {
     "name": "stdout",
     "output_type": "stream",
     "text": [
      "skipped semisupervised-malay/output-wav/Buang-BERHALA-Yang-Duduk-Di-Hati-Kita-😥-_-Ustaz-Ahmad-Rizam-EP2qcEFmFD8.mp3-part-121.wav\n",
      "skipped semisupervised-malay/output-wav/WACANA-ILMU----KERANGKA-STANDARD-BAHASA-MELAYU-(KSBM)-PENTAKSIRAN-DARIPADA-PERSPEKTIF-KSBM-qbFORSE48cQ.mp3-part-132.wav\n"
     ]
    },
    {
     "name": "stderr",
     "output_type": "stream",
     "text": [
      " 31%|███       | 40043/130662 [20:36<28:32, 52.91it/s]"
     ]
    },
    {
     "name": "stdout",
     "output_type": "stream",
     "text": [
      "skipped semisupervised-malay/output-wav/Podcast-Bekpek---Berbasikal-Malaysia-Ke-Mekah(Ditahan-dan-dibawa-Kem-Askar-Pakistan-Semasa-Di-Gunung)-_bfH3pxuOoM.mp3-part-115.wav\n"
     ]
    },
    {
     "name": "stderr",
     "output_type": "stream",
     "text": [
      " 31%|███       | 40295/130662 [20:41<22:14, 67.70it/s]"
     ]
    },
    {
     "name": "stdout",
     "output_type": "stream",
     "text": [
      "skipped semisupervised-malay/output-wav/Podcast-Bekpek---Berbasikal-Malaysia-Ke-Mekah(Ditahan-dan-dibawa-Kem-Askar-Pakistan-Semasa-Di-Gunung)-_bfH3pxuOoM.mp3-part-419.wav\n"
     ]
    },
    {
     "name": "stderr",
     "output_type": "stream",
     "text": [
      " 31%|███       | 40503/130662 [20:45<26:19, 57.08it/s]"
     ]
    },
    {
     "name": "stdout",
     "output_type": "stream",
     "text": [
      "skipped semisupervised-malay/output-wav/Buang-BERHALA-Yang-Duduk-Di-Hati-Kita-😥-_-Ustaz-Ahmad-Rizam-EP2qcEFmFD8.mp3-part-564.wav\n"
     ]
    },
    {
     "name": "stderr",
     "output_type": "stream",
     "text": [
      " 31%|███       | 40802/130662 [20:50<24:22, 61.44it/s]"
     ]
    },
    {
     "name": "stdout",
     "output_type": "stream",
     "text": [
      "skipped semisupervised-malay/output-wav/IPGM----Cabaran-VUCA-Dari-Perspektif-Pendidikan-Guru-dan-PAK-21-QOCbT-XH36I.mp3-part-492.wav\n"
     ]
    },
    {
     "name": "stderr",
     "output_type": "stream",
     "text": [
      " 31%|███▏      | 40858/130662 [20:51<26:32, 56.40it/s]"
     ]
    },
    {
     "name": "stdout",
     "output_type": "stream",
     "text": [
      "skipped semisupervised-malay/output-wav/Buang-BERHALA-Yang-Duduk-Di-Hati-Kita-😥-_-Ustaz-Ahmad-Rizam-EP2qcEFmFD8.mp3-part-548.wav\n"
     ]
    },
    {
     "name": "stderr",
     "output_type": "stream",
     "text": [
      " 31%|███▏      | 40988/130662 [20:53<23:21, 63.99it/s]"
     ]
    },
    {
     "name": "stdout",
     "output_type": "stream",
     "text": [
      "skipped semisupervised-malay/output-wav/65-_-Wahai-Anak,-Allah-Akan-Menguji-Kamu-!-_-Ustaz-Wadi-Annuar-0ZKxMaNusTA.mp3-part-390.wav\n"
     ]
    },
    {
     "name": "stderr",
     "output_type": "stream",
     "text": [
      " 31%|███▏      | 41045/130662 [20:54<23:59, 62.24it/s]"
     ]
    },
    {
     "name": "stdout",
     "output_type": "stream",
     "text": [
      "skipped semisupervised-malay/output-wav/Dunia-Tamat-2038-4sYNZ3vkIbg.mp3-part-23.wav\n"
     ]
    },
    {
     "name": "stderr",
     "output_type": "stream",
     "text": [
      " 32%|███▏      | 41617/130662 [21:05<23:08, 64.11it/s]"
     ]
    },
    {
     "name": "stdout",
     "output_type": "stream",
     "text": [
      "skipped semisupervised-malay/output-wav/Troll-Paling-Best.-opAw8b75NQM.mp3-part-76.wav\n"
     ]
    },
    {
     "name": "stderr",
     "output_type": "stream",
     "text": [
      " 32%|███▏      | 41674/130662 [21:06<23:31, 63.05it/s]"
     ]
    },
    {
     "name": "stdout",
     "output_type": "stream",
     "text": [
      "skipped semisupervised-malay/output-wav/WACANA-ILMU----Saya-OK!-Anda-Bagaimana-Te-funnFw3s.mp3-part-515.wav\n"
     ]
    },
    {
     "name": "stderr",
     "output_type": "stream",
     "text": [
      " 32%|███▏      | 41752/130662 [21:07<25:21, 58.44it/s]"
     ]
    },
    {
     "name": "stdout",
     "output_type": "stream",
     "text": [
      "skipped semisupervised-malay/output-wav/65-_-Wahai-Anak,-Allah-Akan-Menguji-Kamu-!-_-Ustaz-Wadi-Annuar-0ZKxMaNusTA.mp3-part-482.wav\n",
      "skipped semisupervised-malay/output-wav/Episod-Penuh-Bing-_-70+-Minit-_-Eps-11-20-_-Bing-Bahasa-Melayu-eUAtL80BvkE.mp3-part-39.wav\n"
     ]
    },
    {
     "name": "stderr",
     "output_type": "stream",
     "text": [
      " 32%|███▏      | 41855/130662 [21:09<21:59, 67.29it/s]"
     ]
    },
    {
     "name": "stdout",
     "output_type": "stream",
     "text": [
      "skipped semisupervised-malay/output-wav/214-_-Apa-Yang-Hud-Hud-Mahu-Khabarkan-🤔-_-Ustaz-Auni-Mohamed-rARJlDAJEgE.mp3-part-387.wav\n"
     ]
    },
    {
     "name": "stderr",
     "output_type": "stream",
     "text": [
      " 33%|███▎      | 43069/130662 [21:31<23:02, 63.34it/s]"
     ]
    },
    {
     "name": "stdout",
     "output_type": "stream",
     "text": [
      "skipped semisupervised-malay/output-wav/IPGM----Cabaran-VUCA-Dari-Perspektif-Pendidikan-Guru-dan-PAK-21-QOCbT-XH36I.mp3-part-548.wav\n"
     ]
    },
    {
     "name": "stderr",
     "output_type": "stream",
     "text": [
      " 33%|███▎      | 43212/130662 [21:34<24:23, 59.75it/s]"
     ]
    },
    {
     "name": "stdout",
     "output_type": "stream",
     "text": [
      "skipped semisupervised-malay/output-wav/65-_-Wahai-Anak,-Allah-Akan-Menguji-Kamu-!-_-Ustaz-Wadi-Annuar-0ZKxMaNusTA.mp3-part-72.wav\n"
     ]
    },
    {
     "name": "stderr",
     "output_type": "stream",
     "text": [
      " 33%|███▎      | 43291/130662 [21:35<24:19, 59.85it/s]"
     ]
    },
    {
     "name": "stdout",
     "output_type": "stream",
     "text": [
      "skipped semisupervised-malay/output-wav/Siapa-Buat-Soalan-IQ-Pelik-Ni-Kenapa-HGFCASE37OQ.mp3-part-39.wav\n"
     ]
    },
    {
     "name": "stderr",
     "output_type": "stream",
     "text": [
      " 33%|███▎      | 43354/130662 [21:36<31:50, 45.70it/s]"
     ]
    },
    {
     "name": "stdout",
     "output_type": "stream",
     "text": [
      "skipped semisupervised-malay/output-wav/WACANA-ILMU----PSIKO-GAJET-oJ0xApNXRBo.mp3-part-100.wav\n"
     ]
    },
    {
     "name": "stderr",
     "output_type": "stream",
     "text": [
      " 34%|███▎      | 43976/130662 [21:48<31:27, 45.92it/s]"
     ]
    },
    {
     "name": "stdout",
     "output_type": "stream",
     "text": [
      "skipped semisupervised-malay/output-wav/IPGM----Cabaran-VUCA-Dari-Perspektif-Pendidikan-Guru-dan-PAK-21-QOCbT-XH36I.mp3-part-401.wav\n"
     ]
    },
    {
     "name": "stderr",
     "output_type": "stream",
     "text": [
      " 34%|███▍      | 44525/130662 [21:58<25:29, 56.33it/s]"
     ]
    },
    {
     "name": "stdout",
     "output_type": "stream",
     "text": [
      "skipped semisupervised-malay/output-wav/Pasal-Kau---Movie-Review-bRUjmsnE5ZU.mp3-part-14.wav\n"
     ]
    },
    {
     "name": "stderr",
     "output_type": "stream",
     "text": [
      " 34%|███▍      | 44626/130662 [21:59<22:54, 62.58it/s]"
     ]
    },
    {
     "name": "stdout",
     "output_type": "stream",
     "text": [
      "skipped semisupervised-malay/output-wav/IPGM----Cabaran-VUCA-Dari-Perspektif-Pendidikan-Guru-dan-PAK-21-QOCbT-XH36I.mp3-part-576.wav\n"
     ]
    },
    {
     "name": "stderr",
     "output_type": "stream",
     "text": [
      " 34%|███▍      | 44902/130662 [22:04<23:36, 60.55it/s]"
     ]
    },
    {
     "name": "stdout",
     "output_type": "stream",
     "text": [
      "skipped semisupervised-malay/output-wav/Siapa-Buat-Soalan-IQ-Pelik-Ni-Kenapa-HGFCASE37OQ.mp3-part-32.wav\n"
     ]
    },
    {
     "name": "stderr",
     "output_type": "stream",
     "text": [
      " 34%|███▍      | 45052/130662 [22:07<25:22, 56.24it/s]"
     ]
    },
    {
     "name": "stdout",
     "output_type": "stream",
     "text": [
      "skipped semisupervised-malay/output-wav/65-_-Wahai-Anak,-Allah-Akan-Menguji-Kamu-!-_-Ustaz-Wadi-Annuar-0ZKxMaNusTA.mp3-part-356.wav\n"
     ]
    },
    {
     "name": "stderr",
     "output_type": "stream",
     "text": [
      " 35%|███▍      | 45175/130662 [22:09<22:00, 64.73it/s]"
     ]
    },
    {
     "name": "stdout",
     "output_type": "stream",
     "text": [
      "skipped semisupervised-malay/output-wav/Realiti-Fesyen-dan-Trend-rmiKORIv0uw.mp3-part-22.wav\n"
     ]
    },
    {
     "name": "stderr",
     "output_type": "stream",
     "text": [
      " 35%|███▍      | 45436/130662 [22:14<23:06, 61.48it/s]"
     ]
    },
    {
     "name": "stdout",
     "output_type": "stream",
     "text": [
      "skipped semisupervised-malay/output-wav/Pengalaman-Pertama-Kali-Tidur-Dalam-Kereta-Api-Dari-Malaysia-Ke-Thailand-WKi6VUFzjuo.mp3-part-27.wav\n"
     ]
    },
    {
     "name": "stderr",
     "output_type": "stream",
     "text": [
      " 35%|███▌      | 46094/130662 [22:26<21:53, 64.38it/s]"
     ]
    },
    {
     "name": "stdout",
     "output_type": "stream",
     "text": [
      "skipped semisupervised-malay/output-wav/Pengalaman-Pertama-Kali-Tidur-Dalam-Kereta-Api-Dari-Malaysia-Ke-Thailand-WKi6VUFzjuo.mp3-part-34.wav\n"
     ]
    },
    {
     "name": "stderr",
     "output_type": "stream",
     "text": [
      " 36%|███▌      | 47127/130662 [22:44<22:20, 62.30it/s]"
     ]
    },
    {
     "name": "stdout",
     "output_type": "stream",
     "text": [
      "skipped semisupervised-malay/output-wav/Pontianak-pulaaaaaak-Am7A-vpCER0.mp3-part-36.wav\n"
     ]
    },
    {
     "name": "stderr",
     "output_type": "stream",
     "text": [
      " 36%|███▋      | 47682/130662 [22:54<21:47, 63.45it/s]"
     ]
    },
    {
     "name": "stdout",
     "output_type": "stream",
     "text": [
      "skipped semisupervised-malay/output-wav/Pengurusan-Pembukaan-Semula-Sekolah.-Peranan-Guru-Besar,-Pengetua-&-Ibubapa.-4UCEW_MX2p8.mp3-part-737.wav\n"
     ]
    },
    {
     "name": "stderr",
     "output_type": "stream",
     "text": [
      " 37%|███▋      | 47789/130662 [22:57<30:23, 45.45it/s]"
     ]
    },
    {
     "name": "stdout",
     "output_type": "stream",
     "text": [
      "skipped semisupervised-malay/output-wav/Episod-Penuh-Bing-_-70+-Minit-_-Eps-11-20-_-Bing-Bahasa-Melayu-eUAtL80BvkE.mp3-part-14.wav\n"
     ]
    },
    {
     "name": "stderr",
     "output_type": "stream",
     "text": [
      " 37%|███▋      | 47819/130662 [22:57<23:53, 57.78it/s]"
     ]
    },
    {
     "name": "stdout",
     "output_type": "stream",
     "text": [
      "skipped semisupervised-malay/output-wav/Buang-BERHALA-Yang-Duduk-Di-Hati-Kita-😥-_-Ustaz-Ahmad-Rizam-EP2qcEFmFD8.mp3-part-177.wav\n"
     ]
    },
    {
     "name": "stderr",
     "output_type": "stream",
     "text": [
      " 37%|███▋      | 48033/130662 [23:01<21:39, 63.58it/s]"
     ]
    },
    {
     "name": "stdout",
     "output_type": "stream",
     "text": [
      "skipped semisupervised-malay/output-wav/Kursus-penyediaan-bahan-multimedia-secara-atas-talian-[-Muzik,-Grafik-dan-Gajet-]-Q0ICpOpSZKU.mp3-part-528.wav\n"
     ]
    },
    {
     "name": "stderr",
     "output_type": "stream",
     "text": [
      " 37%|███▋      | 48211/130662 [23:04<20:45, 66.18it/s]"
     ]
    },
    {
     "name": "stdout",
     "output_type": "stream",
     "text": [
      "skipped semisupervised-malay/output-wav/80-Peratus-Siswa-Matematik-UKM-Salah-Jawab-Soalan-Mudah-Ni!-Kenapa-YKe-mzGU0JU.mp3-part-41.wav\n"
     ]
    },
    {
     "name": "stderr",
     "output_type": "stream",
     "text": [
      " 37%|███▋      | 48307/130662 [23:06<20:50, 65.88it/s]"
     ]
    },
    {
     "name": "stdout",
     "output_type": "stream",
     "text": [
      "skipped semisupervised-malay/output-wav/Bila-Mata-Bertentang-Mata-❤️-_-Ustaz-Mohd-Lukmanul-Hakim-Wm-8ZeLyux0.mp3-part-342.wav\n"
     ]
    },
    {
     "name": "stderr",
     "output_type": "stream",
     "text": [
      " 37%|███▋      | 48863/130662 [23:16<29:52, 45.64it/s]"
     ]
    },
    {
     "name": "stdout",
     "output_type": "stream",
     "text": [
      "skipped semisupervised-malay/output-wav/Wahai-Suami-Pastikan-Sumber-Rezeki-HALAL-_-Ustaz-Mohd-Aslam-e5cIN57hJ_0.mp3-part-131.wav\n"
     ]
    },
    {
     "name": "stderr",
     "output_type": "stream",
     "text": [
      " 37%|███▋      | 48991/130662 [23:18<20:09, 67.53it/s]"
     ]
    },
    {
     "name": "stdout",
     "output_type": "stream",
     "text": [
      "skipped semisupervised-malay/output-wav/Bing-_-15-Minit-_-Bing---Bit-Terbaik-_-Bing-Bahasa-Melayu-HOG7VG9wzo4.mp3-part-34.wav\n",
      "skipped semisupervised-malay/output-wav/Ini-Bukan-Kuning-iqxyI-eYK3M.mp3-part-23.wav\n"
     ]
    },
    {
     "name": "stderr",
     "output_type": "stream",
     "text": [
      " 38%|███▊      | 49020/130662 [23:19<21:20, 63.76it/s]"
     ]
    },
    {
     "name": "stdout",
     "output_type": "stream",
     "text": [
      "skipped semisupervised-malay/output-wav/Buang-BERHALA-Yang-Duduk-Di-Hati-Kita-😥-_-Ustaz-Ahmad-Rizam-EP2qcEFmFD8.mp3-part-295.wav\n"
     ]
    },
    {
     "name": "stderr",
     "output_type": "stream",
     "text": [
      " 38%|███▊      | 49691/130662 [23:31<22:50, 59.08it/s]"
     ]
    },
    {
     "name": "stdout",
     "output_type": "stream",
     "text": [
      "skipped semisupervised-malay/output-wav/Siapa-Buat-Soalan-IQ-Pelik-Ni-Kenapa-HGFCASE37OQ.mp3-part-4.wav\n"
     ]
    },
    {
     "name": "stderr",
     "output_type": "stream",
     "text": [
      " 38%|███▊      | 49904/130662 [23:35<20:35, 65.37it/s]"
     ]
    },
    {
     "name": "stdout",
     "output_type": "stream",
     "text": [
      "skipped semisupervised-malay/output-wav/65-_-Wahai-Anak,-Allah-Akan-Menguji-Kamu-!-_-Ustaz-Wadi-Annuar-0ZKxMaNusTA.mp3-part-506.wav\n"
     ]
    },
    {
     "name": "stderr",
     "output_type": "stream",
     "text": [
      " 38%|███▊      | 50174/130662 [23:39<21:07, 63.48it/s]"
     ]
    },
    {
     "name": "stdout",
     "output_type": "stream",
     "text": [
      "skipped semisupervised-malay/output-wav/Buang-BERHALA-Yang-Duduk-Di-Hati-Kita-😥-_-Ustaz-Ahmad-Rizam-EP2qcEFmFD8.mp3-part-43.wav\n"
     ]
    },
    {
     "name": "stderr",
     "output_type": "stream",
     "text": [
      " 38%|███▊      | 50242/130662 [23:41<21:37, 61.99it/s]"
     ]
    },
    {
     "name": "stdout",
     "output_type": "stream",
     "text": [
      "skipped semisupervised-malay/output-wav/Buang-BERHALA-Yang-Duduk-Di-Hati-Kita-😥-_-Ustaz-Ahmad-Rizam-EP2qcEFmFD8.mp3-part-403.wav\n"
     ]
    },
    {
     "name": "stderr",
     "output_type": "stream",
     "text": [
      " 39%|███▉      | 51526/130662 [24:04<27:09, 48.57it/s]"
     ]
    },
    {
     "name": "stdout",
     "output_type": "stream",
     "text": [
      "skipped semisupervised-malay/output-wav/Ruang-Masa-Hiperbolik-Wujud-Di-Dunia-Sebenar!-1v-n23HAi7M.mp3-part-32.wav\n"
     ]
    },
    {
     "name": "stderr",
     "output_type": "stream",
     "text": [
      " 39%|███▉      | 51554/130662 [24:04<22:25, 58.79it/s]"
     ]
    },
    {
     "name": "stdout",
     "output_type": "stream",
     "text": [
      "skipped semisupervised-malay/output-wav/Q-&-A-(Jadi-backpacker-ni-tak-ada-masa-depan)-_-Podcast-Malaysia-uCg5WeQ34rM.mp3-part-120.wav\n"
     ]
    },
    {
     "name": "stderr",
     "output_type": "stream",
     "text": [
      " 40%|███▉      | 51634/130662 [24:06<23:53, 55.11it/s]"
     ]
    },
    {
     "name": "stdout",
     "output_type": "stream",
     "text": [
      "skipped semisupervised-malay/output-wav/IPGM----Cabaran-VUCA-Dari-Perspektif-Pendidikan-Guru-dan-PAK-21-QOCbT-XH36I.mp3-part-479.wav\n"
     ]
    },
    {
     "name": "stderr",
     "output_type": "stream",
     "text": [
      " 40%|███▉      | 51655/130662 [24:06<21:42, 60.65it/s]"
     ]
    },
    {
     "name": "stdout",
     "output_type": "stream",
     "text": [
      "skipped semisupervised-malay/output-wav/Bila-Mata-Bertentang-Mata-❤️-_-Ustaz-Mohd-Lukmanul-Hakim-Wm-8ZeLyux0.mp3-part-169.wav\n"
     ]
    },
    {
     "name": "stderr",
     "output_type": "stream",
     "text": [
      " 40%|███▉      | 51817/130662 [24:09<20:40, 63.54it/s]"
     ]
    },
    {
     "name": "stdout",
     "output_type": "stream",
     "text": [
      "skipped semisupervised-malay/output-wav/Pengalaman-Pertama-Kali-Tidur-Dalam-Kereta-Api-Dari-Malaysia-Ke-Thailand-WKi6VUFzjuo.mp3-part-30.wav\n",
      "skipped semisupervised-malay/output-wav/65-_-Wahai-Anak,-Allah-Akan-Menguji-Kamu-!-_-Ustaz-Wadi-Annuar-0ZKxMaNusTA.mp3-part-270.wav\n",
      "skipped semisupervised-malay/output-wav/Menurut-Sains,-Gopal-Sebenarnya-Tersangat-OP-(Bahagian-2)-PKJshdf_FnM.mp3-part-102.wav\n"
     ]
    },
    {
     "name": "stderr",
     "output_type": "stream",
     "text": [
      " 40%|███▉      | 52115/130662 [24:15<19:54, 65.76it/s]"
     ]
    },
    {
     "name": "stdout",
     "output_type": "stream",
     "text": [
      "skipped semisupervised-malay/output-wav/Buang-BERHALA-Yang-Duduk-Di-Hati-Kita-😥-_-Ustaz-Ahmad-Rizam-EP2qcEFmFD8.mp3-part-473.wav\n"
     ]
    },
    {
     "name": "stderr",
     "output_type": "stream",
     "text": [
      " 40%|████      | 52704/130662 [24:26<22:17, 58.30it/s]"
     ]
    },
    {
     "name": "stdout",
     "output_type": "stream",
     "text": [
      "skipped semisupervised-malay/output-wav/IPGM----Cabaran-VUCA-Dari-Perspektif-Pendidikan-Guru-dan-PAK-21-QOCbT-XH36I.mp3-part-276.wav\n"
     ]
    },
    {
     "name": "stderr",
     "output_type": "stream",
     "text": [
      " 41%|████      | 53305/130662 [24:37<22:14, 57.96it/s]"
     ]
    },
    {
     "name": "stdout",
     "output_type": "stream",
     "text": [
      "skipped semisupervised-malay/output-wav/Bila-Mata-Bertentang-Mata-❤️-_-Ustaz-Mohd-Lukmanul-Hakim-Wm-8ZeLyux0.mp3-part-60.wav\n"
     ]
    },
    {
     "name": "stderr",
     "output_type": "stream",
     "text": [
      " 41%|████      | 53381/130662 [24:38<26:45, 48.14it/s]"
     ]
    },
    {
     "name": "stdout",
     "output_type": "stream",
     "text": [
      "skipped semisupervised-malay/output-wav/IPGM----Cabaran-VUCA-Dari-Perspektif-Pendidikan-Guru-dan-PAK-21-QOCbT-XH36I.mp3-part-563.wav\n"
     ]
    },
    {
     "name": "stderr",
     "output_type": "stream",
     "text": [
      " 41%|████      | 53471/130662 [24:40<26:29, 48.55it/s]"
     ]
    },
    {
     "name": "stdout",
     "output_type": "stream",
     "text": [
      "skipped semisupervised-malay/output-wav/Mendaki-Gunung-Berapi-Seorang-Diri-Di-Indonesia-Waktu-Malam-Terserempak-dengan-....-eJE2FaX8CPE.mp3-part-75.wav\n"
     ]
    },
    {
     "name": "stderr",
     "output_type": "stream",
     "text": [
      " 41%|████      | 53623/130662 [24:43<19:40, 65.26it/s]"
     ]
    },
    {
     "name": "stdout",
     "output_type": "stream",
     "text": [
      "skipped semisupervised-malay/output-wav/65-_-Wahai-Anak,-Allah-Akan-Menguji-Kamu-!-_-Ustaz-Wadi-Annuar-0ZKxMaNusTA.mp3-part-473.wav\n"
     ]
    },
    {
     "name": "stderr",
     "output_type": "stream",
     "text": [
      " 41%|████      | 53671/130662 [24:44<22:20, 57.44it/s]"
     ]
    },
    {
     "name": "stdout",
     "output_type": "stream",
     "text": [
      "skipped semisupervised-malay/output-wav/Manusia-Cukup-TAK-SUKA-Dua-Benda-Ini-😮-_-Ustaz-Dato-Kazim-Elias--t8sUAMQ94M.mp3-part-38.wav\n"
     ]
    },
    {
     "name": "stderr",
     "output_type": "stream",
     "text": [
      " 41%|████      | 53833/130662 [24:46<22:20, 57.31it/s]"
     ]
    },
    {
     "name": "stdout",
     "output_type": "stream",
     "text": [
      "skipped semisupervised-malay/output-wav/AHLI-SIHIR-Dari-Pandangan-Islam-_-Ustaz-Habib-Khairul-Nizam-GKQqdCXb8l8.mp3-part-0.wav\n"
     ]
    },
    {
     "name": "stderr",
     "output_type": "stream",
     "text": [
      " 41%|████▏     | 54071/130662 [24:51<19:21, 65.96it/s]"
     ]
    },
    {
     "name": "stdout",
     "output_type": "stream",
     "text": [
      "skipped semisupervised-malay/output-wav/Buang-BERHALA-Yang-Duduk-Di-Hati-Kita-😥-_-Ustaz-Ahmad-Rizam-EP2qcEFmFD8.mp3-part-507.wav\n"
     ]
    },
    {
     "name": "stderr",
     "output_type": "stream",
     "text": [
      " 42%|████▏     | 54273/130662 [24:55<23:45, 53.60it/s]"
     ]
    },
    {
     "name": "stdout",
     "output_type": "stream",
     "text": [
      "skipped semisupervised-malay/output-wav/FORUM-PSIKOLOGI-KEPIMPINAN----Aplikasi-Psikologi-dan-Kaunseling-Dalam-Pengurusan-Sumber-Manusia-6G0N1OrIR4k.mp3-part-276.wav\n"
     ]
    },
    {
     "name": "stderr",
     "output_type": "stream",
     "text": [
      " 42%|████▏     | 54428/130662 [24:57<19:44, 64.37it/s]"
     ]
    },
    {
     "name": "stdout",
     "output_type": "stream",
     "text": [
      "skipped semisupervised-malay/output-wav/Bila-Mata-Bertentang-Mata-❤️-_-Ustaz-Mohd-Lukmanul-Hakim-Wm-8ZeLyux0.mp3-part-88.wav\n"
     ]
    },
    {
     "name": "stderr",
     "output_type": "stream",
     "text": [
      " 42%|████▏     | 54874/130662 [25:05<19:44, 63.96it/s]"
     ]
    },
    {
     "name": "stdout",
     "output_type": "stream",
     "text": [
      "skipped semisupervised-malay/output-wav/Ini-Bukan-Kuning-iqxyI-eYK3M.mp3-part-17.wav\n"
     ]
    },
    {
     "name": "stderr",
     "output_type": "stream",
     "text": [
      " 42%|████▏     | 55228/130662 [25:12<19:55, 63.11it/s]"
     ]
    },
    {
     "name": "stdout",
     "output_type": "stream",
     "text": [
      "skipped semisupervised-malay/output-wav/ZHAF-BERSEMUKA-DGN-TOK-AYAH-NAMRON!-BWU8IJBEjTk.mp3-part-172.wav\n"
     ]
    },
    {
     "name": "stderr",
     "output_type": "stream",
     "text": [
      " 42%|████▏     | 55249/130662 [25:12<25:11, 49.91it/s]"
     ]
    },
    {
     "name": "stdout",
     "output_type": "stream",
     "text": [
      "skipped semisupervised-malay/output-wav/Buang-BERHALA-Yang-Duduk-Di-Hati-Kita-😥-_-Ustaz-Ahmad-Rizam-EP2qcEFmFD8.mp3-part-506.wav\n"
     ]
    },
    {
     "name": "stderr",
     "output_type": "stream",
     "text": [
      " 42%|████▏     | 55293/130662 [25:13<19:22, 64.85it/s]"
     ]
    },
    {
     "name": "stdout",
     "output_type": "stream",
     "text": [
      "skipped semisupervised-malay/output-wav/Buang-BERHALA-Yang-Duduk-Di-Hati-Kita-😥-_-Ustaz-Ahmad-Rizam-EP2qcEFmFD8.mp3-part-423.wav\n"
     ]
    },
    {
     "name": "stderr",
     "output_type": "stream",
     "text": [
      " 42%|████▏     | 55351/130662 [25:14<22:15, 56.39it/s]"
     ]
    },
    {
     "name": "stdout",
     "output_type": "stream",
     "text": [
      "skipped semisupervised-malay/output-wav/65-_-Wahai-Anak,-Allah-Akan-Menguji-Kamu-!-_-Ustaz-Wadi-Annuar-0ZKxMaNusTA.mp3-part-479.wav\n"
     ]
    },
    {
     "name": "stderr",
     "output_type": "stream",
     "text": [
      " 42%|████▏     | 55416/130662 [25:15<18:32, 67.63it/s]"
     ]
    },
    {
     "name": "stdout",
     "output_type": "stream",
     "text": [
      "skipped semisupervised-malay/output-wav/Pasal-Kau---Movie-Review-bRUjmsnE5ZU.mp3-part-37.wav\n"
     ]
    },
    {
     "name": "stderr",
     "output_type": "stream",
     "text": [
      " 43%|████▎     | 55741/130662 [25:21<21:01, 59.37it/s]"
     ]
    },
    {
     "name": "stdout",
     "output_type": "stream",
     "text": [
      "skipped semisupervised-malay/output-wav/VEVEONAH-PENIPU-i7liW-7TTOI.mp3-part-40.wav\n"
     ]
    },
    {
     "name": "stderr",
     "output_type": "stream",
     "text": [
      " 43%|████▎     | 55954/130662 [25:25<19:24, 64.18it/s]"
     ]
    },
    {
     "name": "stdout",
     "output_type": "stream",
     "text": [
      "skipped semisupervised-malay/output-wav/BICARA-PROFESIONAL-KPM---NORMAL-BAHARU-GURU-SATU-REALITI-MZCJCoBwuho.mp3-part-1111.wav\n"
     ]
    },
    {
     "name": "stderr",
     "output_type": "stream",
     "text": [
      " 43%|████▎     | 56031/130662 [25:26<19:39, 63.25it/s]"
     ]
    },
    {
     "name": "stdout",
     "output_type": "stream",
     "text": [
      "skipped semisupervised-malay/output-wav/Siapa-Buat-Soalan-IQ-Pelik-Ni-Kenapa-HGFCASE37OQ.mp3-part-23.wav\n"
     ]
    },
    {
     "name": "stderr",
     "output_type": "stream",
     "text": [
      " 43%|████▎     | 56539/130662 [25:36<23:32, 52.49it/s]"
     ]
    },
    {
     "name": "stdout",
     "output_type": "stream",
     "text": [
      "skipped semisupervised-malay/output-wav/IPGM----Cabaran-VUCA-Dari-Perspektif-Pendidikan-Guru-dan-PAK-21-QOCbT-XH36I.mp3-part-205.wav\n"
     ]
    },
    {
     "name": "stderr",
     "output_type": "stream",
     "text": [
      " 43%|████▎     | 56774/130662 [25:40<19:12, 64.12it/s]"
     ]
    },
    {
     "name": "stdout",
     "output_type": "stream",
     "text": [
      "skipped semisupervised-malay/output-wav/JANGAN-SILAP-Pilih-3-Pekara-Ini-☝️-_-Ustaz-Mohd-Shaffi-s4hfxsYVnpE.mp3-part-9.wav\n"
     ]
    },
    {
     "name": "stderr",
     "output_type": "stream",
     "text": [
      " 44%|████▎     | 57031/130662 [25:44<19:46, 62.06it/s]"
     ]
    },
    {
     "name": "stdout",
     "output_type": "stream",
     "text": [
      "skipped semisupervised-malay/output-wav/Kursus-penyediaan-bahan-multimedia-secara-atas-talian-[-Muzik,-Grafik-dan-Gajet-]-Q0ICpOpSZKU.mp3-part-643.wav\n"
     ]
    },
    {
     "name": "stderr",
     "output_type": "stream",
     "text": [
      " 44%|████▎     | 57131/130662 [25:46<17:44, 69.05it/s]"
     ]
    },
    {
     "name": "stdout",
     "output_type": "stream",
     "text": [
      "skipped semisupervised-malay/output-wav/Buang-BERHALA-Yang-Duduk-Di-Hati-Kita-😥-_-Ustaz-Ahmad-Rizam-EP2qcEFmFD8.mp3-part-172.wav\n"
     ]
    },
    {
     "name": "stderr",
     "output_type": "stream",
     "text": [
      " 44%|████▍     | 57186/130662 [25:47<20:31, 59.66it/s]"
     ]
    },
    {
     "name": "stdout",
     "output_type": "stream",
     "text": [
      "skipped semisupervised-malay/output-wav/Dunia-Tamat-2038-4sYNZ3vkIbg.mp3-part-37.wav\n"
     ]
    },
    {
     "name": "stderr",
     "output_type": "stream",
     "text": [
      " 44%|████▍     | 57324/130662 [25:50<26:44, 45.70it/s]"
     ]
    },
    {
     "name": "stdout",
     "output_type": "stream",
     "text": [
      "skipped semisupervised-malay/output-wav/Pengalaman-Pertama-Kali-Tidur-Dalam-Kereta-Api-Dari-Malaysia-Ke-Thailand-WKi6VUFzjuo.mp3-part-25.wav\n"
     ]
    },
    {
     "name": "stderr",
     "output_type": "stream",
     "text": [
      " 44%|████▍     | 57786/130662 [25:58<21:35, 56.25it/s]"
     ]
    },
    {
     "name": "stdout",
     "output_type": "stream",
     "text": [
      "skipped semisupervised-malay/output-wav/Ini-Hikmah-Kenapa-Rasulullah-Tidak-Pernah-AZAN-😮-_-Ustaz-Mohd-Shaffi-DfflcWqHY9E.mp3-part-308.wav\n"
     ]
    },
    {
     "name": "stderr",
     "output_type": "stream",
     "text": [
      " 44%|████▍     | 58019/130662 [26:02<18:53, 64.09it/s]"
     ]
    },
    {
     "name": "stdout",
     "output_type": "stream",
     "text": [
      "skipped semisupervised-malay/output-wav/214-_-Apa-Yang-Hud-Hud-Mahu-Khabarkan-🤔-_-Ustaz-Auni-Mohamed-rARJlDAJEgE.mp3-part-276.wav\n"
     ]
    },
    {
     "name": "stderr",
     "output_type": "stream",
     "text": [
      " 45%|████▍     | 58245/130662 [26:06<21:50, 55.24it/s]"
     ]
    },
    {
     "name": "stdout",
     "output_type": "stream",
     "text": [
      "skipped semisupervised-malay/output-wav/Ini-Bukan-Kuning-iqxyI-eYK3M.mp3-part-4.wav\n"
     ]
    },
    {
     "name": "stderr",
     "output_type": "stream",
     "text": [
      " 45%|████▍     | 58287/130662 [26:07<18:57, 63.62it/s]"
     ]
    },
    {
     "name": "stdout",
     "output_type": "stream",
     "text": [
      "skipped semisupervised-malay/output-wav/65-_-Wahai-Anak,-Allah-Akan-Menguji-Kamu-!-_-Ustaz-Wadi-Annuar-0ZKxMaNusTA.mp3-part-120.wav\n"
     ]
    },
    {
     "name": "stderr",
     "output_type": "stream",
     "text": [
      " 45%|████▍     | 58447/130662 [26:10<18:58, 63.45it/s]"
     ]
    },
    {
     "name": "stdout",
     "output_type": "stream",
     "text": [
      "skipped semisupervised-malay/output-wav/Sesi-1----Rahsia-Minda,-Fikiran,-Akal-dan-Sedar-6f-8js73O1k.mp3-part-137.wav\n"
     ]
    },
    {
     "name": "stderr",
     "output_type": "stream",
     "text": [
      " 45%|████▌     | 58818/130662 [26:17<18:51, 63.47it/s]"
     ]
    },
    {
     "name": "stdout",
     "output_type": "stream",
     "text": [
      "skipped semisupervised-malay/output-wav/Buang-BERHALA-Yang-Duduk-Di-Hati-Kita-😥-_-Ustaz-Ahmad-Rizam-EP2qcEFmFD8.mp3-part-508.wav\n"
     ]
    },
    {
     "name": "stderr",
     "output_type": "stream",
     "text": [
      " 45%|████▌     | 58985/130662 [26:20<19:00, 62.87it/s]"
     ]
    },
    {
     "name": "stdout",
     "output_type": "stream",
     "text": [
      "skipped semisupervised-malay/output-wav/Tip-Skor-A+-dalam-SPM-Bahasa-Melayu-_ZnpSEffVus.mp3-part-100.wav\n"
     ]
    },
    {
     "name": "stderr",
     "output_type": "stream",
     "text": [
      " 45%|████▌     | 59050/130662 [26:21<20:25, 58.46it/s]"
     ]
    },
    {
     "name": "stdout",
     "output_type": "stream",
     "text": [
      "skipped semisupervised-malay/output-wav/209-_-Kisah-Qorun,-SI-KAYA-Yang-Binasa-😔-_-Ustaz-Auni-Mohamed-5Yu8ZklAV1Q.mp3-part-278.wav\n"
     ]
    },
    {
     "name": "stderr",
     "output_type": "stream",
     "text": [
      " 45%|████▌     | 59129/130662 [26:23<19:14, 61.97it/s]"
     ]
    },
    {
     "name": "stdout",
     "output_type": "stream",
     "text": [
      "skipped semisupervised-malay/output-wav/65-_-Wahai-Anak,-Allah-Akan-Menguji-Kamu-!-_-Ustaz-Wadi-Annuar-0ZKxMaNusTA.mp3-part-89.wav\n"
     ]
    },
    {
     "name": "stderr",
     "output_type": "stream",
     "text": [
      " 45%|████▌     | 59164/130662 [26:23<20:01, 59.50it/s]"
     ]
    },
    {
     "name": "stdout",
     "output_type": "stream",
     "text": [
      "skipped semisupervised-malay/output-wav/IPGM----Cabaran-VUCA-Dari-Perspektif-Pendidikan-Guru-dan-PAK-21-QOCbT-XH36I.mp3-part-264.wav\n"
     ]
    },
    {
     "name": "stderr",
     "output_type": "stream",
     "text": [
      " 45%|████▌     | 59434/130662 [26:28<19:08, 62.01it/s]"
     ]
    },
    {
     "name": "stdout",
     "output_type": "stream",
     "text": [
      "skipped semisupervised-malay/output-wav/Pengalaman-Pertama-Kali-Tidur-Dalam-Kereta-Api-Dari-Malaysia-Ke-Thailand-WKi6VUFzjuo.mp3-part-33.wav\n"
     ]
    },
    {
     "name": "stderr",
     "output_type": "stream",
     "text": [
      " 46%|████▌     | 59493/130662 [26:29<18:36, 63.74it/s]"
     ]
    },
    {
     "name": "stdout",
     "output_type": "stream",
     "text": [
      "skipped semisupervised-malay/output-wav/Konsep-TAWASSUL-Dalam-Islam-_-Ustaz-Mohd-Anuar-mQuUzU8xQ44.mp3-part-349.wav\n"
     ]
    },
    {
     "name": "stderr",
     "output_type": "stream",
     "text": [
      " 46%|████▌     | 59904/130662 [26:37<22:35, 52.19it/s]"
     ]
    },
    {
     "name": "stdout",
     "output_type": "stream",
     "text": [
      "skipped semisupervised-malay/output-wav/Pengurusan-Pembukaan-Semula-Sekolah.-Peranan-Guru-Besar,-Pengetua-&-Ibubapa.-4UCEW_MX2p8.mp3-part-2687.wav\n"
     ]
    },
    {
     "name": "stderr",
     "output_type": "stream",
     "text": [
      " 46%|████▌     | 60097/130662 [26:41<20:43, 56.73it/s]"
     ]
    },
    {
     "name": "stdout",
     "output_type": "stream",
     "text": [
      "skipped semisupervised-malay/output-wav/Rahsia-Bendera-Malaysia-yang-Tak-Terjawab-Sampai-Sekarang-nWCATzTi0HU.mp3-part-3.wav\n"
     ]
    },
    {
     "name": "stderr",
     "output_type": "stream",
     "text": [
      " 46%|████▌     | 60147/130662 [26:41<18:03, 65.06it/s]"
     ]
    },
    {
     "name": "stdout",
     "output_type": "stream",
     "text": [
      "skipped semisupervised-malay/output-wav/Dunia-Tamat-2038-4sYNZ3vkIbg.mp3-part-33.wav\n"
     ]
    },
    {
     "name": "stderr",
     "output_type": "stream",
     "text": [
      " 46%|████▋     | 60647/130662 [26:51<19:04, 61.19it/s]"
     ]
    },
    {
     "name": "stdout",
     "output_type": "stream",
     "text": [
      "skipped semisupervised-malay/output-wav/WACANA-ILMU----MENJANA--EKONOMI-PASCA--COVID-19-gqo3pB3FVmg.mp3-part-592.wav\n"
     ]
    },
    {
     "name": "stderr",
     "output_type": "stream",
     "text": [
      " 46%|████▋     | 60676/130662 [26:51<18:27, 63.22it/s]"
     ]
    },
    {
     "name": "stdout",
     "output_type": "stream",
     "text": [
      "skipped semisupervised-malay/output-wav/KJ-React-First-Video-Sendiri-Di-ML-Studio,-Malu-Tapi-Berbaloi.-e7xE7V11Vwc.mp3-part-71.wav\n",
      "skipped semisupervised-malay/output-wav/Pasal-Kau---Movie-Review-bRUjmsnE5ZU.mp3-part-16.wav\n"
     ]
    },
    {
     "name": "stderr",
     "output_type": "stream",
     "text": [
      " 47%|████▋     | 60836/130662 [26:54<19:08, 60.78it/s]"
     ]
    },
    {
     "name": "stdout",
     "output_type": "stream",
     "text": [
      "skipped semisupervised-malay/output-wav/WACANA-ILMU----KERANGKA-STANDARD-BAHASA-MELAYU-(KSBM)-PENTAKSIRAN-DARIPADA-PERSPEKTIF-KSBM-qbFORSE48cQ.mp3-part-614.wav\n"
     ]
    },
    {
     "name": "stderr",
     "output_type": "stream",
     "text": [
      " 47%|████▋     | 60899/130662 [26:55<19:55, 58.35it/s]"
     ]
    },
    {
     "name": "stdout",
     "output_type": "stream",
     "text": [
      "skipped semisupervised-malay/output-wav/WACANA-ILMU----KERANGKA-STANDARD-BAHASA-MELAYU-(KSBM)-PENTAKSIRAN-DARIPADA-PERSPEKTIF-KSBM-qbFORSE48cQ.mp3-part-95.wav\n"
     ]
    },
    {
     "name": "stderr",
     "output_type": "stream",
     "text": [
      " 47%|████▋     | 61029/130662 [26:58<17:31, 66.21it/s]"
     ]
    },
    {
     "name": "stdout",
     "output_type": "stream",
     "text": [
      "skipped semisupervised-malay/output-wav/WACANA-ILMU----Gilap-Minda---Pedagogi-Terbeza-LcSKIOdHbbc.mp3-part-236.wav\n"
     ]
    },
    {
     "name": "stderr",
     "output_type": "stream",
     "text": [
      " 47%|████▋     | 61165/130662 [27:00<19:49, 58.44it/s]"
     ]
    },
    {
     "name": "stdout",
     "output_type": "stream",
     "text": [
      "skipped semisupervised-malay/output-wav/Buang-BERHALA-Yang-Duduk-Di-Hati-Kita-😥-_-Ustaz-Ahmad-Rizam-EP2qcEFmFD8.mp3-part-129.wav\n"
     ]
    },
    {
     "name": "stderr",
     "output_type": "stream",
     "text": [
      " 47%|████▋     | 61191/130662 [27:00<16:28, 70.27it/s]"
     ]
    },
    {
     "name": "stdout",
     "output_type": "stream",
     "text": [
      "skipped semisupervised-malay/output-wav/Nak-Sambut-DEKAD-Baru-2020-Tengok-Video-Ni-Dulu.-QO-YWGQvb1Q.mp3-part-22.wav\n",
      "skipped semisupervised-malay/output-wav/Siapa-Buat-Soalan-IQ-Pelik-Ni-Kenapa-HGFCASE37OQ.mp3-part-29.wav\n"
     ]
    },
    {
     "name": "stderr",
     "output_type": "stream",
     "text": [
      " 47%|████▋     | 61215/130662 [27:01<17:47, 65.08it/s]"
     ]
    },
    {
     "name": "stdout",
     "output_type": "stream",
     "text": [
      "skipped semisupervised-malay/output-wav/Siapa-Buat-Soalan-IQ-Pelik-Ni-Kenapa-HGFCASE37OQ.mp3-part-2.wav\n"
     ]
    },
    {
     "name": "stderr",
     "output_type": "stream",
     "text": [
      " 47%|████▋     | 61362/130662 [27:04<19:47, 58.35it/s]"
     ]
    },
    {
     "name": "stdout",
     "output_type": "stream",
     "text": [
      "skipped semisupervised-malay/output-wav/IPGM----Cabaran-VUCA-Dari-Perspektif-Pendidikan-Guru-dan-PAK-21-QOCbT-XH36I.mp3-part-541.wav\n"
     ]
    },
    {
     "name": "stderr",
     "output_type": "stream",
     "text": [
      " 47%|████▋     | 61474/130662 [27:06<17:36, 65.49it/s]"
     ]
    },
    {
     "name": "stdout",
     "output_type": "stream",
     "text": [
      "skipped semisupervised-malay/output-wav/Menurut-Sains,-Gopal-Sebenarnya-Tersangat-OP-(Bahagian-2)-PKJshdf_FnM.mp3-part-97.wav\n"
     ]
    },
    {
     "name": "stderr",
     "output_type": "stream",
     "text": [
      " 47%|████▋     | 61558/130662 [27:07<18:05, 63.67it/s]"
     ]
    },
    {
     "name": "stdout",
     "output_type": "stream",
     "text": [
      "skipped semisupervised-malay/output-wav/Nak-Sambut-DEKAD-Baru-2020-Tengok-Video-Ni-Dulu.-QO-YWGQvb1Q.mp3-part-24.wav\n"
     ]
    },
    {
     "name": "stderr",
     "output_type": "stream",
     "text": [
      " 47%|████▋     | 61901/130662 [27:13<17:53, 64.03it/s]"
     ]
    },
    {
     "name": "stdout",
     "output_type": "stream",
     "text": [
      "skipped semisupervised-malay/output-wav/65-_-Wahai-Anak,-Allah-Akan-Menguji-Kamu-!-_-Ustaz-Wadi-Annuar-0ZKxMaNusTA.mp3-part-191.wav\n"
     ]
    },
    {
     "name": "stderr",
     "output_type": "stream",
     "text": [
      " 47%|████▋     | 61993/130662 [27:15<17:51, 64.08it/s]"
     ]
    },
    {
     "name": "stdout",
     "output_type": "stream",
     "text": [
      "skipped semisupervised-malay/output-wav/WACANA-ILMU----Saya-OK!-Anda-Bagaimana-Te-funnFw3s.mp3-part-104.wav\n"
     ]
    },
    {
     "name": "stderr",
     "output_type": "stream",
     "text": [
      " 47%|████▋     | 62055/130662 [27:16<20:01, 57.11it/s]"
     ]
    },
    {
     "name": "stdout",
     "output_type": "stream",
     "text": [
      "skipped semisupervised-malay/output-wav/65-_-Wahai-Anak,-Allah-Akan-Menguji-Kamu-!-_-Ustaz-Wadi-Annuar-0ZKxMaNusTA.mp3-part-399.wav\n"
     ]
    },
    {
     "name": "stderr",
     "output_type": "stream",
     "text": [
      " 48%|████▊     | 62098/130662 [27:17<17:50, 64.07it/s]"
     ]
    },
    {
     "name": "stdout",
     "output_type": "stream",
     "text": [
      "skipped semisupervised-malay/output-wav/Episod-Penuh-Bing-_-70+-Minit-_-Eps-1-10-_-Bing-Bahasa-Malysia-jjoBv0X5fQA.mp3-part-30.wav\n"
     ]
    },
    {
     "name": "stderr",
     "output_type": "stream",
     "text": [
      " 48%|████▊     | 62268/130662 [27:20<18:33, 61.42it/s]"
     ]
    },
    {
     "name": "stdout",
     "output_type": "stream",
     "text": [
      "skipped semisupervised-malay/output-wav/Sofyank-aka-Zach-King-Malaysia-_-Malam-Jumaat-_-Fify-&-Hydar-4ZiC_Tg6hmU.mp3-part-202.wav\n"
     ]
    },
    {
     "name": "stderr",
     "output_type": "stream",
     "text": [
      " 48%|████▊     | 62348/130662 [27:22<19:05, 59.66it/s]"
     ]
    },
    {
     "name": "stdout",
     "output_type": "stream",
     "text": [
      "skipped semisupervised-malay/output-wav/Episod-Penuh-Bing-_-70+-Minit-_-Eps-11-20-_-Bing-Bahasa-Melayu-eUAtL80BvkE.mp3-part-16.wav\n"
     ]
    },
    {
     "name": "stderr",
     "output_type": "stream",
     "text": [
      " 48%|████▊     | 62517/130662 [27:25<19:23, 58.56it/s]"
     ]
    },
    {
     "name": "stdout",
     "output_type": "stream",
     "text": [
      "skipped semisupervised-malay/output-wav/Nak-Sambut-DEKAD-Baru-2020-Tengok-Video-Ni-Dulu.-QO-YWGQvb1Q.mp3-part-8.wav\n"
     ]
    },
    {
     "name": "stderr",
     "output_type": "stream",
     "text": [
      " 48%|████▊     | 62672/130662 [27:28<22:08, 51.17it/s]"
     ]
    },
    {
     "name": "stdout",
     "output_type": "stream",
     "text": [
      "skipped semisupervised-malay/output-wav/Penyakit-WAS-WAS-😥-_-Ustaz-Mohd-Shaffi-wGY7jUCuU3Y.mp3-part-152.wav\n"
     ]
    },
    {
     "name": "stderr",
     "output_type": "stream",
     "text": [
      " 48%|████▊     | 62810/130662 [27:30<18:16, 61.90it/s]"
     ]
    },
    {
     "name": "stdout",
     "output_type": "stream",
     "text": [
      "skipped semisupervised-malay/output-wav/Podcast-Bekpek---Berbasikal-Malaysia-Ke-Mekah(Ditahan-dan-dibawa-Kem-Askar-Pakistan-Semasa-Di-Gunung)-_bfH3pxuOoM.mp3-part-84.wav\n"
     ]
    },
    {
     "name": "stderr",
     "output_type": "stream",
     "text": [
      " 48%|████▊     | 63173/130662 [27:37<16:47, 66.98it/s]"
     ]
    },
    {
     "name": "stdout",
     "output_type": "stream",
     "text": [
      "skipped semisupervised-malay/output-wav/65-_-Wahai-Anak,-Allah-Akan-Menguji-Kamu-!-_-Ustaz-Wadi-Annuar-0ZKxMaNusTA.mp3-part-131.wav\n",
      "skipped semisupervised-malay/output-wav/Sesi-2----Fahami-Realiti-Kerajaan-Diri-NSRWj5Zz7Qo.mp3-part-520.wav\n"
     ]
    },
    {
     "name": "stderr",
     "output_type": "stream",
     "text": [
      " 49%|████▉     | 63728/130662 [27:47<23:13, 48.03it/s]"
     ]
    },
    {
     "name": "stdout",
     "output_type": "stream",
     "text": [
      "skipped semisupervised-malay/output-wav/DIA-HISAP-APA-KAT-TANDAS-SEKOLAH!-bXVvXLHpmS8.mp3-part-138.wav\n"
     ]
    },
    {
     "name": "stderr",
     "output_type": "stream",
     "text": [
      " 49%|████▉     | 64389/130662 [27:59<16:21, 67.51it/s]"
     ]
    },
    {
     "name": "stdout",
     "output_type": "stream",
     "text": [
      "skipped semisupervised-malay/output-wav/IPGM----Cabaran-VUCA-Dari-Perspektif-Pendidikan-Guru-dan-PAK-21-QOCbT-XH36I.mp3-part-2.wav\n"
     ]
    },
    {
     "name": "stderr",
     "output_type": "stream",
     "text": [
      " 49%|████▉     | 64410/130662 [28:00<17:57, 61.51it/s]"
     ]
    },
    {
     "name": "stdout",
     "output_type": "stream",
     "text": [
      "skipped semisupervised-malay/output-wav/PODCAST-[Bahasa-Malaysia]-VlmIyZllgz0.mp3-part-92.wav\n"
     ]
    },
    {
     "name": "stderr",
     "output_type": "stream",
     "text": [
      " 49%|████▉     | 64466/130662 [28:01<17:36, 62.67it/s]"
     ]
    },
    {
     "name": "stdout",
     "output_type": "stream",
     "text": [
      "skipped semisupervised-malay/output-wav/Siri-Imam-4-Mazhab---Imam-As-Syafie-_-Ustaz-Wadi-Annuar-dF7HRsk95aY.mp3-part-249.wav\n"
     ]
    },
    {
     "name": "stderr",
     "output_type": "stream",
     "text": [
      " 50%|████▉     | 64837/130662 [28:08<17:36, 62.28it/s]"
     ]
    },
    {
     "name": "stdout",
     "output_type": "stream",
     "text": [
      "skipped semisupervised-malay/output-wav/WACANA-ILMU----MENJANA--EKONOMI-PASCA--COVID-19-gqo3pB3FVmg.mp3-part-63.wav\n"
     ]
    },
    {
     "name": "stderr",
     "output_type": "stream",
     "text": [
      " 50%|████▉     | 64984/130662 [28:10<19:04, 57.38it/s]"
     ]
    },
    {
     "name": "stdout",
     "output_type": "stream",
     "text": [
      "skipped semisupervised-malay/output-wav/Nak-Sambut-DEKAD-Baru-2020-Tengok-Video-Ni-Dulu.-QO-YWGQvb1Q.mp3-part-34.wav\n"
     ]
    },
    {
     "name": "stderr",
     "output_type": "stream",
     "text": [
      " 50%|█████     | 65350/130662 [28:17<18:10, 59.92it/s]"
     ]
    },
    {
     "name": "stdout",
     "output_type": "stream",
     "text": [
      "skipped semisupervised-malay/output-wav/Buang-BERHALA-Yang-Duduk-Di-Hati-Kita-😥-_-Ustaz-Ahmad-Rizam-EP2qcEFmFD8.mp3-part-118.wav\n"
     ]
    },
    {
     "name": "stderr",
     "output_type": "stream",
     "text": [
      " 50%|█████     | 65507/130662 [28:20<20:17, 53.50it/s]"
     ]
    },
    {
     "name": "stdout",
     "output_type": "stream",
     "text": [
      "skipped semisupervised-manglish/output-wav/Mamak-Sessions-Ep6---Names-People-Always-Mispronounce-&-Facebook-Is-A-Spy-8LuihYdx0FQ.mp3-part-117.wav\n"
     ]
    },
    {
     "name": "stderr",
     "output_type": "stream",
     "text": [
      " 50%|█████     | 65537/130662 [28:20<16:52, 64.30it/s]"
     ]
    },
    {
     "name": "stdout",
     "output_type": "stream",
     "text": [
      "skipped semisupervised-manglish/output-wav/Being-A-Single-Divorced-Woman-At-32-_-The-Thirsty-Sisters-#11-8DMyfcjyrZQ.mp3-part-195.wav\n",
      "skipped semisupervised-manglish/output-wav/Real-Estate-Major-+-NUS-Overseas-College-in-Beijing-_-Singaporean-Podcast-#7-_-Danial-Arun-5SOInBKNP18.mp3-part-208.wav\n"
     ]
    },
    {
     "name": "stderr",
     "output_type": "stream",
     "text": [
      " 50%|█████     | 65574/130662 [28:21<16:42, 64.93it/s]"
     ]
    },
    {
     "name": "stdout",
     "output_type": "stream",
     "text": [
      "skipped semisupervised-manglish/output-wav/Conversations-With-A-Cancer-Survivor-ft-Jared-Lee-L2W4inT6j3c.mp3-part-56.wav\n"
     ]
    },
    {
     "name": "stderr",
     "output_type": "stream",
     "text": [
      " 50%|█████     | 65609/130662 [28:22<20:27, 53.01it/s]"
     ]
    },
    {
     "name": "stdout",
     "output_type": "stream",
     "text": [
      "skipped semisupervised-manglish/output-wav/The-Fashion-Weak-Podcast-Ep24---Penang-Boys-@tunway-瘦虎-&-@Shawnduabui-肥龍-Talk-Zap-Fan-&-Sneakers-dykz_vuzJh0.mp3-part-323.wav\n"
     ]
    },
    {
     "name": "stderr",
     "output_type": "stream",
     "text": [
      " 50%|█████     | 65630/130662 [28:22<17:58, 60.29it/s]"
     ]
    },
    {
     "name": "stdout",
     "output_type": "stream",
     "text": [
      "skipped semisupervised-manglish/output-wav/Mamak-Sessions---The-Asian-Mom-Of-The-Internet-ft-Tata-Wyb6i3GoJv4.mp3-part-98.wav\n"
     ]
    },
    {
     "name": "stderr",
     "output_type": "stream",
     "text": [
      " 50%|█████     | 65718/130662 [28:24<17:08, 63.16it/s]"
     ]
    },
    {
     "name": "stdout",
     "output_type": "stream",
     "text": [
      "skipped semisupervised-manglish/output-wav/Mamak-Sessions---We-May-Not-Always-End-Up-Doing-What-We-Thought-We-Would..And-That's-Not-A-Bad-Thing-IAeN0jG9Hwc.mp3-part-173.wav\n"
     ]
    },
    {
     "name": "stderr",
     "output_type": "stream",
     "text": [
      " 50%|█████     | 65818/130662 [28:26<17:41, 61.09it/s]"
     ]
    },
    {
     "name": "stdout",
     "output_type": "stream",
     "text": [
      "skipped semisupervised-manglish/output-wav/Talking-Sneakers-&-Strong-Sperm-With-@bryanbotakchin---The-Fashion-Weak-Podcast-Episode-11-iugevNPFp2Y.mp3-part-105.wav\n"
     ]
    },
    {
     "name": "stderr",
     "output_type": "stream",
     "text": [
      " 50%|█████     | 65924/130662 [28:28<16:15, 66.35it/s]"
     ]
    },
    {
     "name": "stdout",
     "output_type": "stream",
     "text": [
      "skipped semisupervised-manglish/output-wav/Grown-Up-Flex-With-YouTube-Superstar-@JinnyBoy---The-Fashion-Weak-Podcast-Episode-9-7wiSVCBFmFc.mp3-part-125.wav\n"
     ]
    },
    {
     "name": "stderr",
     "output_type": "stream",
     "text": [
      " 50%|█████     | 65959/130662 [28:28<18:35, 58.02it/s]"
     ]
    },
    {
     "name": "stdout",
     "output_type": "stream",
     "text": [
      "skipped semisupervised-manglish/output-wav/Mamak-Sessions-Ep6---Names-People-Always-Mispronounce-&-Facebook-Is-A-Spy-8LuihYdx0FQ.mp3-part-10.wav\n"
     ]
    },
    {
     "name": "stderr",
     "output_type": "stream",
     "text": [
      " 51%|█████     | 65988/130662 [28:29<17:39, 61.03it/s]"
     ]
    },
    {
     "name": "stdout",
     "output_type": "stream",
     "text": [
      "skipped semisupervised-manglish/output-wav/Mamak-Sessions---Our-Differences-Is-What-Unites-Us-ft.-Elvin-Romeo-0jySfrZhs50.mp3-part-187.wav\n"
     ]
    },
    {
     "name": "stderr",
     "output_type": "stream",
     "text": [
      " 51%|█████     | 66002/130662 [28:29<17:35, 61.29it/s]"
     ]
    },
    {
     "name": "stdout",
     "output_type": "stream",
     "text": [
      "skipped semisupervised-manglish/output-wav/Debbie-on-Getting-Pregnant,-Breaking-The-News-To-Her-Parents-and-Being-A-Young-Mom-hi4MpQZVzYY.mp3-part-59.wav\n"
     ]
    },
    {
     "name": "stderr",
     "output_type": "stream",
     "text": [
      " 51%|█████     | 66089/130662 [28:31<16:02, 67.06it/s]"
     ]
    },
    {
     "name": "stdout",
     "output_type": "stream",
     "text": [
      "skipped semisupervised-manglish/output-wav/The-Fashion-Weak-Podcast-Ep-39---Talking-Turn-On's-and-Fashion-Bulk-Buy-Deals-With-Tata-Wanqian-WSVo-qvu1GQ.mp3-part-418.wav\n"
     ]
    },
    {
     "name": "stderr",
     "output_type": "stream",
     "text": [
      " 51%|█████     | 66113/130662 [28:31<15:51, 67.86it/s]"
     ]
    },
    {
     "name": "stdout",
     "output_type": "stream",
     "text": [
      "skipped semisupervised-manglish/output-wav/Conversations-with-a-Young-Singaporean-CEO--Gao-Fei,-CEO-of-LearnSeeker-_-Singaporean-Podcast-#13--b9YHjghfd2E.mp3-part-397.wav\n"
     ]
    },
    {
     "name": "stderr",
     "output_type": "stream",
     "text": [
      " 51%|█████     | 66262/130662 [28:34<18:25, 58.26it/s]"
     ]
    },
    {
     "name": "stdout",
     "output_type": "stream",
     "text": [
      "skipped semisupervised-manglish/output-wav/Burnout-in-the-Media-Industry-+-Passion-in-Theatre--_-Singaporean-Podcast-#16-_-Rennes-Lee-f7qEqPNzGk8.mp3-part-319.wav\n"
     ]
    },
    {
     "name": "stderr",
     "output_type": "stream",
     "text": [
      " 51%|█████     | 66405/130662 [28:37<17:35, 60.90it/s]"
     ]
    },
    {
     "name": "stdout",
     "output_type": "stream",
     "text": [
      "skipped semisupervised-manglish/output-wav/Are-We-Still-Sexualising-Women-in-2020-_-Thirsty-Sisters-#13-zHC1MPeSP34.mp3-part-311.wav\n"
     ]
    },
    {
     "name": "stderr",
     "output_type": "stream",
     "text": [
      " 51%|█████     | 66447/130662 [28:37<15:45, 67.88it/s]"
     ]
    },
    {
     "name": "stdout",
     "output_type": "stream",
     "text": [
      "skipped semisupervised-manglish/output-wav/Mamak-Sessions-Podcast---Girl-Gets-Caned-For-Calling-her-Teacher-'AH-GUA'-PRN5UrsDF6w.mp3-part-557.wav\n",
      "skipped semisupervised-manglish/output-wav/The-Fashion-Weak-Podcast-Ep-21---Suitmaker-To-The-Stars,-Shahrin-Bahar-aka-@sbahar.my-Pkv6d83oe8s.mp3-part-232.wav\n"
     ]
    },
    {
     "name": "stderr",
     "output_type": "stream",
     "text": [
      " 51%|█████     | 66527/130662 [28:39<16:15, 65.73it/s]"
     ]
    },
    {
     "name": "stdout",
     "output_type": "stream",
     "text": [
      "skipped semisupervised-manglish/output-wav/The-Fashion-Weak-Podcast-Ep-43A---Keeping-Fair-On-The-Fairway-With-Natalia-Ng-CSP1XPZu4YY.mp3-part-243.wav\n"
     ]
    },
    {
     "name": "stderr",
     "output_type": "stream",
     "text": [
      " 51%|█████     | 66541/130662 [28:39<16:40, 64.08it/s]"
     ]
    },
    {
     "name": "stdout",
     "output_type": "stream",
     "text": [
      "skipped semisupervised-manglish/output-wav/Mamak-Sessions-Ep6---Names-People-Always-Mispronounce-&-Facebook-Is-A-Spy-8LuihYdx0FQ.mp3-part-369.wav\n"
     ]
    },
    {
     "name": "stderr",
     "output_type": "stream",
     "text": [
      " 51%|█████     | 66691/130662 [28:42<17:09, 62.12it/s]"
     ]
    },
    {
     "name": "stdout",
     "output_type": "stream",
     "text": [
      "skipped semisupervised-manglish/output-wav/Mamak-Sessions-Ep6---Names-People-Always-Mispronounce-&-Facebook-Is-A-Spy-8LuihYdx0FQ.mp3-part-167.wav\n",
      "skipped semisupervised-manglish/output-wav/Mamak-Sessions-Ep6---Names-People-Always-Mispronounce-&-Facebook-Is-A-Spy-8LuihYdx0FQ.mp3-part-43.wav\n"
     ]
    },
    {
     "name": "stderr",
     "output_type": "stream",
     "text": [
      " 51%|█████     | 66713/130662 [28:42<16:17, 65.42it/s]"
     ]
    },
    {
     "name": "stdout",
     "output_type": "stream",
     "text": [
      "skipped semisupervised-manglish/output-wav/Mamak-Sessions-Ep9---Sibling-Rivalry-ft-Julian-Yee-670FyeJhnps.mp3-part-373.wav\n"
     ]
    },
    {
     "name": "stderr",
     "output_type": "stream",
     "text": [
      " 51%|█████     | 66734/130662 [28:42<16:34, 64.25it/s]"
     ]
    },
    {
     "name": "stdout",
     "output_type": "stream",
     "text": [
      "skipped semisupervised-manglish/output-wav/The-Fashion-Weak-Podcast-Ep-23---Alicia-Amin-On-Being-A-'Malay'-Model-In-2019-3pKA5NvTCOA.mp3-part-119.wav\n"
     ]
    },
    {
     "name": "stderr",
     "output_type": "stream",
     "text": [
      " 51%|█████     | 66921/130662 [28:46<16:57, 62.62it/s]"
     ]
    },
    {
     "name": "stdout",
     "output_type": "stream",
     "text": [
      "skipped semisupervised-manglish/output-wav/The-Fashion-Weak-Podcast-Ep-23---Alicia-Amin-On-Being-A-'Malay'-Model-In-2019-3pKA5NvTCOA.mp3-part-624.wav\n"
     ]
    },
    {
     "name": "stderr",
     "output_type": "stream",
     "text": [
      " 51%|█████     | 66955/130662 [28:46<20:34, 51.60it/s]"
     ]
    },
    {
     "name": "stdout",
     "output_type": "stream",
     "text": [
      "skipped semisupervised-manglish/output-wav/The-Fashion-Weak-Podcast-Ep-23---Alicia-Amin-On-Being-A-'Malay'-Model-In-2019-3pKA5NvTCOA.mp3-part-334.wav\n"
     ]
    },
    {
     "name": "stderr",
     "output_type": "stream",
     "text": [
      " 51%|█████▏    | 67035/130662 [28:48<19:55, 53.20it/s]"
     ]
    },
    {
     "name": "stdout",
     "output_type": "stream",
     "text": [
      "skipped semisupervised-manglish/output-wav/Mamak-Sessions---Nasi-Lemak-Sneakers-zLEmAKdG9vY.mp3-part-20.wav\n"
     ]
    },
    {
     "name": "stderr",
     "output_type": "stream",
     "text": [
      " 51%|█████▏    | 67092/130662 [28:49<16:50, 62.89it/s]"
     ]
    },
    {
     "name": "stdout",
     "output_type": "stream",
     "text": [
      "skipped semisupervised-manglish/output-wav/The-Fashion-Weak-Podcast-Ep-40---tdcjTfzYSbk.mp3-part-400.wav\n",
      "skipped semisupervised-manglish/output-wav/Burnout-in-the-Media-Industry-+-Passion-in-Theatre--_-Singaporean-Podcast-#16-_-Rennes-Lee-f7qEqPNzGk8.mp3-part-196.wav\n"
     ]
    },
    {
     "name": "stderr",
     "output_type": "stream",
     "text": [
      " 51%|█████▏    | 67134/130662 [28:50<19:11, 55.17it/s]"
     ]
    },
    {
     "name": "stdout",
     "output_type": "stream",
     "text": [
      "skipped semisupervised-manglish/output-wav/The-Fashion-Weak-Podcast-Ep-32---Getting-Surprised-Reading-Melissa-Campbell's-(@heymelbelle)-IG-DMs-mJuKUwFpDgI.mp3-part-819.wav\n"
     ]
    },
    {
     "name": "stderr",
     "output_type": "stream",
     "text": [
      " 51%|█████▏    | 67196/130662 [28:51<23:36, 44.80it/s]"
     ]
    },
    {
     "name": "stdout",
     "output_type": "stream",
     "text": [
      "skipped semisupervised-manglish/output-wav/The-Fashion-Weak-Podcast-Ep-40---tdcjTfzYSbk.mp3-part-979.wav\n"
     ]
    },
    {
     "name": "stderr",
     "output_type": "stream",
     "text": [
      " 51%|█████▏    | 67233/130662 [28:52<17:45, 59.52it/s]"
     ]
    },
    {
     "name": "stdout",
     "output_type": "stream",
     "text": [
      "skipped semisupervised-manglish/output-wav/Mamak-Sessions---The-Asian-Mom-Of-The-Internet-ft-Tata-Wyb6i3GoJv4.mp3-part-475.wav\n"
     ]
    },
    {
     "name": "stderr",
     "output_type": "stream",
     "text": [
      " 52%|█████▏    | 67340/130662 [28:53<16:40, 63.27it/s]"
     ]
    },
    {
     "name": "stdout",
     "output_type": "stream",
     "text": [
      "skipped semisupervised-manglish/output-wav/Priorities-as-University-Graduates-and-The-MALAYSIA-Hustle-_-Singaporean-Podcast-#12-_-Zhi-Rong-TYL7mmbpsbo.mp3-part-446.wav\n"
     ]
    },
    {
     "name": "stderr",
     "output_type": "stream",
     "text": [
      " 52%|█████▏    | 67376/130662 [28:54<23:11, 45.47it/s]"
     ]
    },
    {
     "name": "stdout",
     "output_type": "stream",
     "text": [
      "skipped semisupervised-manglish/output-wav/The-Fashion-Weak-Podcast-Ep35---Is-New-Balance-Cool-Now-Talking-everything-NOT-Nike-with-@adlysyairi-3b0bYe36KNE.mp3-part-284.wav\n",
      "skipped semisupervised-manglish/output-wav/The-Fashion-Weak-Podcast-Ep-45---Finessing-A-New-Phone-Every-Year-With-Mamak-Rap-King-Jiven-Sekar-VlovwtVYuw0.mp3-part-619.wav\n",
      "skipped semisupervised-manglish/output-wav/Mamak-Sessions-Ep6---Names-People-Always-Mispronounce-&-Facebook-Is-A-Spy-8LuihYdx0FQ.mp3-part-250.wav\n"
     ]
    },
    {
     "name": "stderr",
     "output_type": "stream",
     "text": [
      " 52%|█████▏    | 67421/130662 [28:55<17:35, 59.90it/s]"
     ]
    },
    {
     "name": "stdout",
     "output_type": "stream",
     "text": [
      "skipped semisupervised-manglish/output-wav/Thinking-Long-And-Hard-With-@prakashdanielcomedy---The-Fashion-Weak-Podcast-Episode-13-UryaihXnjBk.mp3-part-264.wav\n"
     ]
    },
    {
     "name": "stderr",
     "output_type": "stream",
     "text": [
      " 52%|█████▏    | 67436/130662 [28:55<16:18, 64.59it/s]"
     ]
    },
    {
     "name": "stdout",
     "output_type": "stream",
     "text": [
      "skipped semisupervised-manglish/output-wav/The-Fashion-Weak-Podcast-Ep-15---Underwear-Sneakers-&-Fruits-With-@OhZooey-HDuY9UdkkaE.mp3-part-184.wav\n",
      "skipped semisupervised-manglish/output-wav/Mamak-Sessions---Quitting-The-Medical-Line-To-Make-People-Laugh-ft-Dr.-Jason-Leong-FcD9MpeWqEI.mp3-part-113.wav\n"
     ]
    },
    {
     "name": "stderr",
     "output_type": "stream",
     "text": [
      " 52%|█████▏    | 67473/130662 [28:56<23:22, 45.04it/s]"
     ]
    },
    {
     "name": "stdout",
     "output_type": "stream",
     "text": [
      "skipped semisupervised-manglish/output-wav/Mamak-Sessions-Ep9---Sibling-Rivalry-ft-Julian-Yee-670FyeJhnps.mp3-part-90.wav\n"
     ]
    },
    {
     "name": "stderr",
     "output_type": "stream",
     "text": [
      " 52%|█████▏    | 67498/130662 [28:56<17:10, 61.27it/s]"
     ]
    },
    {
     "name": "stdout",
     "output_type": "stream",
     "text": [
      "skipped semisupervised-manglish/output-wav/Is-The-Panic-Behaviour-Really-Inexcusable-_-IMO-Ep.2-e4mNzKOZrJ0.mp3-part-46.wav\n"
     ]
    },
    {
     "name": "stderr",
     "output_type": "stream",
     "text": [
      " 52%|█████▏    | 67549/130662 [28:57<16:09, 65.07it/s]"
     ]
    },
    {
     "name": "stdout",
     "output_type": "stream",
     "text": [
      "skipped semisupervised-manglish/output-wav/The-Fashion-Weak-Podcast-Ep-33---Lingerie-&-Bikini-Talk-With-Talitha-Tan-(@talithabe)-_7Un0q6a9zg.mp3-part-763.wav\n"
     ]
    },
    {
     "name": "stderr",
     "output_type": "stream",
     "text": [
      " 52%|█████▏    | 67570/130662 [28:58<21:04, 49.88it/s]"
     ]
    },
    {
     "name": "stdout",
     "output_type": "stream",
     "text": [
      "skipped semisupervised-manglish/output-wav/The-Fashion-Weak-Podcast-Ep-15---Underwear-Sneakers-&-Fruits-With-@OhZooey-HDuY9UdkkaE.mp3-part-3.wav\n"
     ]
    },
    {
     "name": "stderr",
     "output_type": "stream",
     "text": [
      " 52%|█████▏    | 67630/130662 [28:59<15:29, 67.78it/s]"
     ]
    },
    {
     "name": "stdout",
     "output_type": "stream",
     "text": [
      "skipped semisupervised-manglish/output-wav/Mamak-Sessions-Podcast---Committing-Suicide,-Mental-Health-And-How-To-Seek-Help-EHlGktcfDZc.mp3-part-11.wav\n"
     ]
    },
    {
     "name": "stderr",
     "output_type": "stream",
     "text": [
      " 52%|█████▏    | 67659/130662 [28:59<22:44, 46.18it/s]"
     ]
    },
    {
     "name": "stdout",
     "output_type": "stream",
     "text": [
      "skipped semisupervised-manglish/output-wav/Mamak-Sessions---The-Asian-Mom-Of-The-Internet-ft-Tata-Wyb6i3GoJv4.mp3-part-66.wav\n"
     ]
    },
    {
     "name": "stderr",
     "output_type": "stream",
     "text": [
      " 52%|█████▏    | 67687/130662 [29:00<17:29, 59.99it/s]"
     ]
    },
    {
     "name": "stdout",
     "output_type": "stream",
     "text": [
      "skipped semisupervised-manglish/output-wav/The-Fashion-Weak-Podcast-Ep24---Penang-Boys-@tunway-瘦虎-&-@Shawnduabui-肥龍-Talk-Zap-Fan-&-Sneakers-dykz_vuzJh0.mp3-part-733.wav\n",
      "skipped semisupervised-manglish/output-wav/The-Fashion-Weak-Podcast-Ep24---Penang-Boys-@tunway-瘦虎-&-@Shawnduabui-肥龍-Talk-Zap-Fan-&-Sneakers-dykz_vuzJh0.mp3-part-54.wav\n"
     ]
    },
    {
     "name": "stderr",
     "output_type": "stream",
     "text": [
      " 52%|█████▏    | 67736/130662 [29:00<17:02, 61.57it/s]"
     ]
    },
    {
     "name": "stdout",
     "output_type": "stream",
     "text": [
      "skipped semisupervised-manglish/output-wav/Become-a-Software-Developer-in-90-days-and-Running-His-Own-Company-_-Singaporean-Podcast-#8-_-Haris-HRd3RMQtkDs.mp3-part-47.wav\n"
     ]
    },
    {
     "name": "stderr",
     "output_type": "stream",
     "text": [
      " 52%|█████▏    | 67785/130662 [29:01<17:34, 59.64it/s]"
     ]
    },
    {
     "name": "stdout",
     "output_type": "stream",
     "text": [
      "skipped semisupervised-manglish/output-wav/The-Fashion-Weak-Podcast-Ep-28-@dreamrocketeers-on-that-Rolex-you-should-cop-to-flex-on-poor-friends-shV1F1JlDzk.mp3-part-589.wav\n",
      "skipped semisupervised-manglish/output-wav/Mamak-Sessions---Our-Differences-Is-What-Unites-Us-ft.-Elvin-Romeo-0jySfrZhs50.mp3-part-47.wav\n"
     ]
    },
    {
     "name": "stderr",
     "output_type": "stream",
     "text": [
      " 52%|█████▏    | 67893/130662 [29:03<16:14, 64.42it/s]"
     ]
    },
    {
     "name": "stdout",
     "output_type": "stream",
     "text": [
      "skipped semisupervised-manglish/output-wav/Talking-Sneakers-&-Strong-Sperm-With-@bryanbotakchin---The-Fashion-Weak-Podcast-Episode-11-iugevNPFp2Y.mp3-part-312.wav\n"
     ]
    },
    {
     "name": "stderr",
     "output_type": "stream",
     "text": [
      " 52%|█████▏    | 67964/130662 [29:05<17:40, 59.13it/s]"
     ]
    },
    {
     "name": "stdout",
     "output_type": "stream",
     "text": [
      "skipped semisupervised-manglish/output-wav/Mamak-Sessions-Ep6---Names-People-Always-Mispronounce-&-Facebook-Is-A-Spy-8LuihYdx0FQ.mp3-part-8.wav\n"
     ]
    },
    {
     "name": "stderr",
     "output_type": "stream",
     "text": [
      " 52%|█████▏    | 67985/130662 [29:05<16:30, 63.26it/s]"
     ]
    },
    {
     "name": "stdout",
     "output_type": "stream",
     "text": [
      "skipped semisupervised-manglish/output-wav/Mamak-Sessions---The-Asian-Mom-Of-The-Internet-ft-Tata-Wyb6i3GoJv4.mp3-part-95.wav\n"
     ]
    },
    {
     "name": "stderr",
     "output_type": "stream",
     "text": [
      " 52%|█████▏    | 68085/130662 [29:07<16:26, 63.41it/s]"
     ]
    },
    {
     "name": "stdout",
     "output_type": "stream",
     "text": [
      "skipped semisupervised-manglish/output-wav/The-Fashion-Weak-Podcast-Ep-21---Suitmaker-To-The-Stars,-Shahrin-Bahar-aka-@sbahar.my-Pkv6d83oe8s.mp3-part-141.wav\n",
      "skipped semisupervised-manglish/output-wav/Mamak-Sessions-Ep13---Game-Of-Thrones-Is-OVER!-Malaysian-Accent-is-sexy!--mAdHcMGmEs.mp3-part-87.wav\n"
     ]
    },
    {
     "name": "stderr",
     "output_type": "stream",
     "text": [
      " 52%|█████▏    | 68126/130662 [29:08<19:04, 54.66it/s]"
     ]
    },
    {
     "name": "stdout",
     "output_type": "stream",
     "text": [
      "skipped semisupervised-manglish/output-wav/Mamak-Sessions---My-Asian-Parents-Were-Initially-Ashamed-Of-My-Career-NqCp8Csl7PE.mp3-part-113.wav\n"
     ]
    },
    {
     "name": "stderr",
     "output_type": "stream",
     "text": [
      " 52%|█████▏    | 68183/130662 [29:09<16:00, 65.07it/s]"
     ]
    },
    {
     "name": "stdout",
     "output_type": "stream",
     "text": [
      "skipped semisupervised-manglish/output-wav/The-Fashion-Weak-Podcast-Ep-23---Alicia-Amin-On-Being-A-'Malay'-Model-In-2019-3pKA5NvTCOA.mp3-part-291.wav\n"
     ]
    },
    {
     "name": "stderr",
     "output_type": "stream",
     "text": [
      " 52%|█████▏    | 68339/130662 [29:11<15:07, 68.70it/s]"
     ]
    },
    {
     "name": "stdout",
     "output_type": "stream",
     "text": [
      "skipped semisupervised-manglish/output-wav/The-Fashion-Weak-Podcast-Ep-38---TikTok-Royalty-Roshan-Jeet-aka-Roshannnn1-lPnRg9UsP0M.mp3-part-858.wav\n"
     ]
    },
    {
     "name": "stderr",
     "output_type": "stream",
     "text": [
      " 52%|█████▏    | 68416/130662 [29:13<16:41, 62.18it/s]"
     ]
    },
    {
     "name": "stdout",
     "output_type": "stream",
     "text": [
      "skipped semisupervised-manglish/output-wav/How-To-Be-A-Damn-Good-Software-Developer-+-Israel-Startup-Culture-_-Singaporean-Podcast-#11-_-Mark-cs2LkcSpNpw.mp3-part-196.wav\n"
     ]
    },
    {
     "name": "stderr",
     "output_type": "stream",
     "text": [
      " 52%|█████▏    | 68444/130662 [29:13<16:20, 63.46it/s]"
     ]
    },
    {
     "name": "stdout",
     "output_type": "stream",
     "text": [
      "skipped semisupervised-manglish/output-wav/The-Truth-Behind-Our-Relationship!-Are-We-Really-Sisters-_-The-Thirsty-Sisters-#10-rkwCky94IhQ.mp3-part-31.wav\n"
     ]
    },
    {
     "name": "stderr",
     "output_type": "stream",
     "text": [
      " 52%|█████▏    | 68479/130662 [29:14<21:47, 47.56it/s]"
     ]
    },
    {
     "name": "stdout",
     "output_type": "stream",
     "text": [
      "skipped semisupervised-manglish/output-wav/The-Fashion-Weak-Podcast-Ep-43---Thirst-Trapping-Simps-&-Loving-Your-Body-From-The-Outside-In-6R87P6YD2c4.mp3-part-609.wav\n",
      "skipped semisupervised-manglish/output-wav/The-Fashion-Weak-Podcast-Ep-43A---Keeping-Fair-On-The-Fairway-With-Natalia-Ng-CSP1XPZu4YY.mp3-part-363.wav\n",
      "skipped semisupervised-manglish/output-wav/The-Fashion-Weak-Podcast-Ep24---Penang-Boys-@tunway-瘦虎-&-@Shawnduabui-肥龍-Talk-Zap-Fan-&-Sneakers-dykz_vuzJh0.mp3-part-636.wav\n"
     ]
    },
    {
     "name": "stderr",
     "output_type": "stream",
     "text": [
      " 52%|█████▏    | 68525/130662 [29:15<18:05, 57.23it/s]"
     ]
    },
    {
     "name": "stdout",
     "output_type": "stream",
     "text": [
      "skipped semisupervised-manglish/output-wav/The-Fashion-Weak-Podcast-Ep-21---Suitmaker-To-The-Stars,-Shahrin-Bahar-aka-@sbahar.my-Pkv6d83oe8s.mp3-part-27.wav\n"
     ]
    },
    {
     "name": "stderr",
     "output_type": "stream",
     "text": [
      " 53%|█████▎    | 68641/130662 [29:17<14:21, 72.00it/s]"
     ]
    },
    {
     "name": "stdout",
     "output_type": "stream",
     "text": [
      "skipped semisupervised-manglish/output-wav/Do-You-Know-Your-Attachment-Style!-_-The-Thirsty-Sisters-#21-HKnXUGo_H2U.mp3-part-114.wav\n",
      "skipped semisupervised-manglish/output-wav/The-Fashion-Weak-Podcast-Ep-45---Finessing-A-New-Phone-Every-Year-With-Mamak-Rap-King-Jiven-Sekar-VlovwtVYuw0.mp3-part-346.wav\n"
     ]
    },
    {
     "name": "stderr",
     "output_type": "stream",
     "text": [
      " 53%|█████▎    | 68683/130662 [29:18<17:01, 60.65it/s]"
     ]
    },
    {
     "name": "stdout",
     "output_type": "stream",
     "text": [
      "skipped semisupervised-manglish/output-wav/Wanna-Die-We-Call-Out-CB-Rule-Breakers-And-Idiots-_-The-Thirsty-Sisters-#1-jJN0vH42wcs.mp3-part-392.wav\n"
     ]
    },
    {
     "name": "stderr",
     "output_type": "stream",
     "text": [
      " 53%|█████▎    | 68794/130662 [29:19<16:27, 62.68it/s]"
     ]
    },
    {
     "name": "stdout",
     "output_type": "stream",
     "text": [
      "skipped semisupervised-manglish/output-wav/Mamak-Sessions---From-A-Transport-Assistant-to-a-Multi-Award-Winning-Film-Director-r6f3OoHVkgU.mp3-part-77.wav\n",
      "skipped semisupervised-manglish/output-wav/Amander-Reveals-Why-She-Left-Titan---The-Team-Titan-Show-7byI9tIJeRk.mp3-part-529.wav\n"
     ]
    },
    {
     "name": "stderr",
     "output_type": "stream",
     "text": [
      " 53%|█████▎    | 68845/130662 [29:20<22:48, 45.16it/s]"
     ]
    },
    {
     "name": "stdout",
     "output_type": "stream",
     "text": [
      "skipped semisupervised-manglish/output-wav/The-Fashion-Weak-Podcast-Ep-26---Chinese-New-Year-with-Stand-Up-Comedian-_-Fashionista-Kuah-Jenhan-Yv7uONh96tc.mp3-part-218.wav\n"
     ]
    },
    {
     "name": "stderr",
     "output_type": "stream",
     "text": [
      " 53%|█████▎    | 68859/130662 [29:21<19:16, 53.43it/s]"
     ]
    },
    {
     "name": "stdout",
     "output_type": "stream",
     "text": [
      "skipped semisupervised-manglish/output-wav/Mamak-Sessions---Girls-Are-Such-Complicated-Lil-Creatures-feat.-Talitha.-I2BaN8cm6NY.mp3-part-88.wav\n"
     ]
    },
    {
     "name": "stderr",
     "output_type": "stream",
     "text": [
      " 53%|█████▎    | 68875/130662 [29:21<17:07, 60.14it/s]"
     ]
    },
    {
     "name": "stdout",
     "output_type": "stream",
     "text": [
      "skipped semisupervised-manglish/output-wav/The-Fashion-Weak-Podcast-Ep-40---tdcjTfzYSbk.mp3-part-502.wav\n"
     ]
    },
    {
     "name": "stderr",
     "output_type": "stream",
     "text": [
      " 53%|█████▎    | 68997/130662 [29:23<15:54, 64.63it/s]"
     ]
    },
    {
     "name": "stdout",
     "output_type": "stream",
     "text": [
      "skipped semisupervised-manglish/output-wav/Become-a-Software-Developer-in-90-days-and-Running-His-Own-Company-_-Singaporean-Podcast-#8-_-Haris-HRd3RMQtkDs.mp3-part-35.wav\n",
      "skipped semisupervised-manglish/output-wav/Debbie-on-Getting-Pregnant,-Breaking-The-News-To-Her-Parents-and-Being-A-Young-Mom-hi4MpQZVzYY.mp3-part-10.wav\n"
     ]
    },
    {
     "name": "stderr",
     "output_type": "stream",
     "text": [
      " 53%|█████▎    | 69011/130662 [29:23<15:34, 65.97it/s]"
     ]
    },
    {
     "name": "stdout",
     "output_type": "stream",
     "text": [
      "skipped semisupervised-manglish/output-wav/Mamak-Sessions---The-Miss-World-Crown-is-more-than-$4,000,000!-PazCOj1nb3c.mp3-part-143.wav\n"
     ]
    },
    {
     "name": "stderr",
     "output_type": "stream",
     "text": [
      " 53%|█████▎    | 69061/130662 [29:24<16:54, 60.70it/s]"
     ]
    },
    {
     "name": "stdout",
     "output_type": "stream",
     "text": [
      "skipped semisupervised-manglish/output-wav/My-First-Boyfriend-Cheated-On-Me-With-Several-Girls-_-The-Thirsty-Sisters-#9-Y6RYZpbANJI.mp3-part-168.wav\n"
     ]
    },
    {
     "name": "stderr",
     "output_type": "stream",
     "text": [
      " 53%|█████▎    | 69083/130662 [29:25<15:46, 65.03it/s]"
     ]
    },
    {
     "name": "stdout",
     "output_type": "stream",
     "text": [
      "skipped semisupervised-manglish/output-wav/The-Fashion-Weak-Podcast-Ep-43A---Keeping-Fair-On-The-Fairway-With-Natalia-Ng-CSP1XPZu4YY.mp3-part-51.wav\n"
     ]
    },
    {
     "name": "stderr",
     "output_type": "stream",
     "text": [
      " 53%|█████▎    | 69173/130662 [29:26<15:12, 67.36it/s]"
     ]
    },
    {
     "name": "stdout",
     "output_type": "stream",
     "text": [
      "skipped semisupervised-manglish/output-wav/The-Fashion-Weak-Podcast-Ep-28-@dreamrocketeers-on-that-Rolex-you-should-cop-to-flex-on-poor-friends-shV1F1JlDzk.mp3-part-457.wav\n",
      "skipped semisupervised-manglish/output-wav/The-Fashion-Weak-Podcast-Ep-32---Getting-Surprised-Reading-Melissa-Campbell's-(@heymelbelle)-IG-DMs-mJuKUwFpDgI.mp3-part-116.wav\n"
     ]
    },
    {
     "name": "stderr",
     "output_type": "stream",
     "text": [
      " 53%|█████▎    | 69196/130662 [29:26<15:11, 67.44it/s]"
     ]
    },
    {
     "name": "stdout",
     "output_type": "stream",
     "text": [
      "skipped semisupervised-manglish/output-wav/The-Fashion-Weak-Podcast-Ep-33---Lingerie-&-Bikini-Talk-With-Talitha-Tan-(@talithabe)-_7Un0q6a9zg.mp3-part-102.wav\n"
     ]
    },
    {
     "name": "stderr",
     "output_type": "stream",
     "text": [
      " 53%|█████▎    | 69253/130662 [29:28<16:28, 62.13it/s]"
     ]
    },
    {
     "name": "stdout",
     "output_type": "stream",
     "text": [
      "skipped semisupervised-manglish/output-wav/Mamak-Sessions-Ep10---Datuk-Nicol-David-is-RETIRING!-n3AR3nQEc7Y.mp3-part-349.wav\n",
      "skipped semisupervised-manglish/output-wav/Mamak-Sessions---Are-Social-Media-Influencers-Entitled-ZJ8jw3C9vB8.mp3-part-155.wav\n"
     ]
    },
    {
     "name": "stderr",
     "output_type": "stream",
     "text": [
      " 53%|█████▎    | 69415/130662 [29:31<23:13, 43.95it/s]"
     ]
    },
    {
     "name": "stdout",
     "output_type": "stream",
     "text": [
      "skipped semisupervised-manglish/output-wav/The-Fashion-Weak-Podcast-Ep-31----Possibly-Our-Most-NSFW-Episode-Yet-With-@vikarworld-xMm23vU8_og.mp3-part-526.wav\n"
     ]
    },
    {
     "name": "stderr",
     "output_type": "stream",
     "text": [
      " 53%|█████▎    | 69474/130662 [29:32<17:25, 58.53it/s]"
     ]
    },
    {
     "name": "stdout",
     "output_type": "stream",
     "text": [
      "skipped semisupervised-manglish/output-wav/Ghost-Stories-From-Our-Childhood!-_-The-Thirsty-Sisters-#23-Hioy9UvH4yE.mp3-part-405.wav\n"
     ]
    },
    {
     "name": "stderr",
     "output_type": "stream",
     "text": [
      " 53%|█████▎    | 69539/130662 [29:33<17:15, 59.03it/s]"
     ]
    },
    {
     "name": "stdout",
     "output_type": "stream",
     "text": [
      "skipped semisupervised-manglish/output-wav/The-Fashion-Weak-Podcast-Ep-45---Finessing-A-New-Phone-Every-Year-With-Mamak-Rap-King-Jiven-Sekar-VlovwtVYuw0.mp3-part-191.wav\n"
     ]
    },
    {
     "name": "stderr",
     "output_type": "stream",
     "text": [
      " 53%|█████▎    | 69568/130662 [29:33<17:43, 57.45it/s]"
     ]
    },
    {
     "name": "stdout",
     "output_type": "stream",
     "text": [
      "skipped semisupervised-manglish/output-wav/Mamak-Sessions---Blaming-Yourself-For-Your-Parents'-Divorce,-And-How-Our-Parents-Punish-Us-x8Gl_zIC9CQ.mp3-part-346.wav\n"
     ]
    },
    {
     "name": "stderr",
     "output_type": "stream",
     "text": [
      " 53%|█████▎    | 69707/130662 [29:36<19:36, 51.80it/s]"
     ]
    },
    {
     "name": "stdout",
     "output_type": "stream",
     "text": [
      "skipped semisupervised-manglish/output-wav/Mamak-Sessions---Can-Guys-And-Girls-Be-Best-Friends-Is-it-ok-to-see-more-than-one-person-at-a-time-IixUPM11VMY.mp3-part-431.wav\n"
     ]
    },
    {
     "name": "stderr",
     "output_type": "stream",
     "text": [
      " 53%|█████▎    | 69861/130662 [29:39<16:35, 61.09it/s]"
     ]
    },
    {
     "name": "stdout",
     "output_type": "stream",
     "text": [
      "skipped semisupervised-manglish/output-wav/Mamak-Sessions---The-Asian-Mom-Of-The-Internet-ft-Tata-Wyb6i3GoJv4.mp3-part-3.wav\n"
     ]
    },
    {
     "name": "stderr",
     "output_type": "stream",
     "text": [
      " 53%|█████▎    | 69884/130662 [29:39<19:26, 52.12it/s]"
     ]
    },
    {
     "name": "stdout",
     "output_type": "stream",
     "text": [
      "skipped semisupervised-manglish/output-wav/MILF-hunting-with-Audrey-Ooi-aka-@fourfeetnine---The-Fashion-Weak-Podcast-Episode-1-eXpirKKPBUA.mp3-part-134.wav\n",
      "skipped semisupervised-manglish/output-wav/Thinking-Long-And-Hard-With-@prakashdanielcomedy---The-Fashion-Weak-Podcast-Episode-13-UryaihXnjBk.mp3-part-184.wav\n"
     ]
    },
    {
     "name": "stderr",
     "output_type": "stream",
     "text": [
      " 53%|█████▎    | 69899/130662 [29:39<16:57, 59.70it/s]"
     ]
    },
    {
     "name": "stdout",
     "output_type": "stream",
     "text": [
      "skipped semisupervised-manglish/output-wav/The-Fashion-Weak-Podcast-Ep-19---Butt-Stuff-&-Actual-Fashion-With-Zane-Gan-jhLgzHQnAHU.mp3-part-202.wav\n"
     ]
    },
    {
     "name": "stderr",
     "output_type": "stream",
     "text": [
      " 54%|█████▎    | 69957/130662 [29:40<15:23, 65.72it/s]"
     ]
    },
    {
     "name": "stdout",
     "output_type": "stream",
     "text": [
      "skipped semisupervised-manglish/output-wav/The-Fashion-Weak-Podcast-Ep-30---On-her-way-to-Supermodel-dom,-ASNTM--Cycle-5-Runner-Up-@shikingomez-otK3Gl_XX4c.mp3-part-673.wav\n",
      "skipped semisupervised-manglish/output-wav/Exposed!-Our-Favourite-Night-Activity-We-Miss-The-Most!-_-The-Thirsty-Sisters-#5-TxeBIVuXRHM.mp3-part-314.wav\n"
     ]
    },
    {
     "name": "stderr",
     "output_type": "stream",
     "text": [
      " 54%|█████▎    | 69993/130662 [29:41<17:24, 58.10it/s]"
     ]
    },
    {
     "name": "stdout",
     "output_type": "stream",
     "text": [
      "skipped semisupervised-manglish/output-wav/Why-Blockchain-&-Crypo-Matters-_-Singaporean-Podcast-#15-_-Royal-Pek--2d7wzvNOCE.mp3-part-263.wav\n"
     ]
    },
    {
     "name": "stderr",
     "output_type": "stream",
     "text": [
      " 54%|█████▎    | 70024/130662 [29:41<14:56, 67.67it/s]"
     ]
    },
    {
     "name": "stdout",
     "output_type": "stream",
     "text": [
      "skipped semisupervised-manglish/output-wav/Ben-Kheng-Reflects-On-The-Sam-Willows,-Anxiety,-And-Religion-_-HTHT---Ben-Kheng-X4QapKCCneQ.mp3-part-439.wav\n"
     ]
    },
    {
     "name": "stderr",
     "output_type": "stream",
     "text": [
      " 54%|█████▎    | 70087/130662 [29:43<18:23, 54.90it/s]"
     ]
    },
    {
     "name": "stdout",
     "output_type": "stream",
     "text": [
      "skipped semisupervised-manglish/output-wav/Mamak-Sessions---Getting-Married-in-Vegas,-and-Sugar-Babies-ft.-Dennis-Yin-Cq6Yjwsu63U.mp3-part-293.wav\n"
     ]
    },
    {
     "name": "stderr",
     "output_type": "stream",
     "text": [
      " 54%|█████▎    | 70109/130662 [29:43<16:12, 62.28it/s]"
     ]
    },
    {
     "name": "stdout",
     "output_type": "stream",
     "text": [
      "skipped semisupervised-manglish/output-wav/Mamak-Sessions---From-A-Transport-Assistant-to-a-Multi-Award-Winning-Film-Director-r6f3OoHVkgU.mp3-part-207.wav\n",
      "skipped semisupervised-manglish/output-wav/We-Are-Finally-Dating-Again!-We-Found-New-Men-_-The-Thirsty-Sisters-#24-fzuKoKTxfEs.mp3-part-148.wav\n"
     ]
    },
    {
     "name": "stderr",
     "output_type": "stream",
     "text": [
      " 54%|█████▎    | 70131/130662 [29:43<15:14, 66.15it/s]"
     ]
    },
    {
     "name": "stdout",
     "output_type": "stream",
     "text": [
      "skipped semisupervised-manglish/output-wav/Real-Estate-Major-+-NUS-Overseas-College-in-Beijing-_-Singaporean-Podcast-#7-_-Danial-Arun-5SOInBKNP18.mp3-part-246.wav\n"
     ]
    },
    {
     "name": "stderr",
     "output_type": "stream",
     "text": [
      " 54%|█████▎    | 70145/130662 [29:44<15:59, 63.09it/s]"
     ]
    },
    {
     "name": "stdout",
     "output_type": "stream",
     "text": [
      "skipped semisupervised-manglish/output-wav/Mamak-Sessions---Our-Differences-Is-What-Unites-Us-ft.-Elvin-Romeo-0jySfrZhs50.mp3-part-22.wav\n"
     ]
    },
    {
     "name": "stderr",
     "output_type": "stream",
     "text": [
      " 54%|█████▎    | 70208/130662 [29:45<16:19, 61.72it/s]"
     ]
    },
    {
     "name": "stdout",
     "output_type": "stream",
     "text": [
      "skipped semisupervised-manglish/output-wav/The-Fashion-Weak-Podcast-Ep-31----Possibly-Our-Most-NSFW-Episode-Yet-With-@vikarworld-xMm23vU8_og.mp3-part-363.wav\n"
     ]
    },
    {
     "name": "stderr",
     "output_type": "stream",
     "text": [
      " 54%|█████▍    | 70251/130662 [29:46<21:52, 46.03it/s]"
     ]
    },
    {
     "name": "stdout",
     "output_type": "stream",
     "text": [
      "skipped semisupervised-manglish/output-wav/The-Fashion-Weak-Podcast-Ep-30---On-her-way-to-Supermodel-dom,-ASNTM--Cycle-5-Runner-Up-@shikingomez-otK3Gl_XX4c.mp3-part-86.wav\n",
      "skipped semisupervised-manglish/output-wav/Playing-Basketball-With-Dr-Jason-Leong---The-Fashion-Weak-Podcast-Episode-4---6K1feeFnKpQ.mp3-part-236.wav\n"
     ]
    },
    {
     "name": "stderr",
     "output_type": "stream",
     "text": [
      " 54%|█████▍    | 70346/130662 [29:47<22:34, 44.53it/s]"
     ]
    },
    {
     "name": "stdout",
     "output_type": "stream",
     "text": [
      "skipped semisupervised-manglish/output-wav/The-Fashion-Weak-Podcast-Ep35---Is-New-Balance-Cool-Now-Talking-everything-NOT-Nike-with-@adlysyairi-3b0bYe36KNE.mp3-part-214.wav\n"
     ]
    },
    {
     "name": "stderr",
     "output_type": "stream",
     "text": [
      " 54%|█████▍    | 70406/130662 [29:48<16:20, 61.46it/s]"
     ]
    },
    {
     "name": "stdout",
     "output_type": "stream",
     "text": [
      "skipped semisupervised-manglish/output-wav/Are-We-Still-Sexualising-Women-in-2020-_-Thirsty-Sisters-#13-zHC1MPeSP34.mp3-part-56.wav\n",
      "skipped semisupervised-manglish/output-wav/Why-NUS-Business-School-+-Unilever-&-P&G-Case-Competitions-_-Singaporean-Podcast-#22-_-Sherrine-Fu-8QNgzWcc7U4.mp3-part-33.wav\n"
     ]
    },
    {
     "name": "stderr",
     "output_type": "stream",
     "text": [
      " 54%|█████▍    | 70422/130662 [29:49<14:57, 67.10it/s]"
     ]
    },
    {
     "name": "stdout",
     "output_type": "stream",
     "text": [
      "skipped semisupervised-manglish/output-wav/The-Fashion-Weak-Podcast-Ep-38---TikTok-Royalty-Roshan-Jeet-aka-Roshannnn1-lPnRg9UsP0M.mp3-part-628.wav\n",
      "skipped semisupervised-manglish/output-wav/The-Fashion-Weak-Podcast-Ep-33---Lingerie-&-Bikini-Talk-With-Talitha-Tan-(@talithabe)-_7Un0q6a9zg.mp3-part-229.wav\n"
     ]
    },
    {
     "name": "stderr",
     "output_type": "stream",
     "text": [
      " 54%|█████▍    | 70566/130662 [29:51<17:15, 58.04it/s]"
     ]
    },
    {
     "name": "stdout",
     "output_type": "stream",
     "text": [
      "skipped semisupervised-manglish/output-wav/Mamak-Sessions---Can-Guys-And-Girls-Be-Best-Friends-Is-it-ok-to-see-more-than-one-person-at-a-time-IixUPM11VMY.mp3-part-204.wav\n"
     ]
    },
    {
     "name": "stderr",
     "output_type": "stream",
     "text": [
      " 54%|█████▍    | 70632/130662 [29:53<19:40, 50.86it/s]"
     ]
    },
    {
     "name": "stdout",
     "output_type": "stream",
     "text": [
      "skipped semisupervised-manglish/output-wav/Mamak-Sessions---Nasi-Lemak-Sneakers-zLEmAKdG9vY.mp3-part-305.wav\n"
     ]
    },
    {
     "name": "stderr",
     "output_type": "stream",
     "text": [
      " 54%|█████▍    | 70666/130662 [29:53<16:00, 62.48it/s]"
     ]
    },
    {
     "name": "stdout",
     "output_type": "stream",
     "text": [
      "skipped semisupervised-manglish/output-wav/The-Fashion-Weak-Podcast-Ep-39---Talking-Turn-On's-and-Fashion-Bulk-Buy-Deals-With-Tata-Wanqian-WSVo-qvu1GQ.mp3-part-469.wav\n"
     ]
    },
    {
     "name": "stderr",
     "output_type": "stream",
     "text": [
      " 54%|█████▍    | 70862/130662 [29:57<15:34, 63.98it/s]"
     ]
    },
    {
     "name": "stdout",
     "output_type": "stream",
     "text": [
      "skipped semisupervised-manglish/output-wav/The-Fashion-Weak-Podcast-Ep-32---Getting-Surprised-Reading-Melissa-Campbell's-(@heymelbelle)-IG-DMs-mJuKUwFpDgI.mp3-part-230.wav\n"
     ]
    },
    {
     "name": "stderr",
     "output_type": "stream",
     "text": [
      " 54%|█████▍    | 70904/130662 [29:58<18:21, 54.23it/s]"
     ]
    },
    {
     "name": "stdout",
     "output_type": "stream",
     "text": [
      "skipped semisupervised-manglish/output-wav/The-Fashion-Weak-Podcast-Ep24---Penang-Boys-@tunway-瘦虎-&-@Shawnduabui-肥龍-Talk-Zap-Fan-&-Sneakers-dykz_vuzJh0.mp3-part-364.wav\n"
     ]
    },
    {
     "name": "stderr",
     "output_type": "stream",
     "text": [
      " 54%|█████▍    | 70991/130662 [29:59<18:06, 54.91it/s]"
     ]
    },
    {
     "name": "stdout",
     "output_type": "stream",
     "text": [
      "skipped semisupervised-manglish/output-wav/Mamak-Sessions---How-Do-You-Deal-With-Rumors-ft-Elizabeth-Tan-Rkvd5p3I11M.mp3-part-68.wav\n"
     ]
    },
    {
     "name": "stderr",
     "output_type": "stream",
     "text": [
      " 54%|█████▍    | 71033/130662 [30:00<16:39, 59.65it/s]"
     ]
    },
    {
     "name": "stdout",
     "output_type": "stream",
     "text": [
      "skipped semisupervised-manglish/output-wav/Mamak-Sessions---How-Dating-Has-Changed-&-Tenet-ft-Elizabeth-Debicki-and-John-David-Washington-te2Be5GNNys.mp3-part-223.wav\n"
     ]
    },
    {
     "name": "stderr",
     "output_type": "stream",
     "text": [
      " 54%|█████▍    | 71061/130662 [30:01<21:06, 47.08it/s]"
     ]
    },
    {
     "name": "stdout",
     "output_type": "stream",
     "text": [
      "skipped semisupervised-manglish/output-wav/Exposed!-Our-Favourite-Night-Activity-We-Miss-The-Most!-_-The-Thirsty-Sisters-#5-TxeBIVuXRHM.mp3-part-69.wav\n"
     ]
    },
    {
     "name": "stderr",
     "output_type": "stream",
     "text": [
      " 54%|█████▍    | 71132/130662 [30:02<15:36, 63.56it/s]"
     ]
    },
    {
     "name": "stdout",
     "output_type": "stream",
     "text": [
      "skipped semisupervised-manglish/output-wav/The-Fashion-Weak-Podcast-Ep-38---TikTok-Royalty-Roshan-Jeet-aka-Roshannnn1-lPnRg9UsP0M.mp3-part-974.wav\n"
     ]
    },
    {
     "name": "stderr",
     "output_type": "stream",
     "text": [
      " 54%|█████▍    | 71179/130662 [30:03<17:01, 58.23it/s]"
     ]
    },
    {
     "name": "stdout",
     "output_type": "stream",
     "text": [
      "skipped semisupervised-manglish/output-wav/Mamak-Sessions-Podcast---How-Do-You-Handle-Long-Distance-Relationships-Do-they-WORK-m7mwwtsblIs.mp3-part-113.wav\n"
     ]
    },
    {
     "name": "stderr",
     "output_type": "stream",
     "text": [
      " 54%|█████▍    | 71202/130662 [30:03<15:17, 64.79it/s]"
     ]
    },
    {
     "name": "stdout",
     "output_type": "stream",
     "text": [
      "skipped semisupervised-manglish/output-wav/My-First-Boyfriend-Cheated-On-Me-With-Several-Girls-_-The-Thirsty-Sisters-#9-Y6RYZpbANJI.mp3-part-226.wav\n"
     ]
    },
    {
     "name": "stderr",
     "output_type": "stream",
     "text": [
      " 55%|█████▍    | 71232/130662 [30:03<13:54, 71.22it/s]"
     ]
    },
    {
     "name": "stdout",
     "output_type": "stream",
     "text": [
      "skipped semisupervised-manglish/output-wav/The-Fashion-Weak-Podcast-Ep-33---Lingerie-&-Bikini-Talk-With-Talitha-Tan-(@talithabe)-_7Un0q6a9zg.mp3-part-413.wav\n",
      "skipped semisupervised-manglish/output-wav/Mamak-Sessions---Our-Differences-Is-What-Unites-Us-ft.-Elvin-Romeo-0jySfrZhs50.mp3-part-57.wav\n",
      "skipped semisupervised-manglish/output-wav/The-Fashion-Weak-Podcast-Ep35---Is-New-Balance-Cool-Now-Talking-everything-NOT-Nike-with-@adlysyairi-3b0bYe36KNE.mp3-part-498.wav\n"
     ]
    },
    {
     "name": "stderr",
     "output_type": "stream",
     "text": [
      " 55%|█████▍    | 71261/130662 [30:04<17:29, 56.59it/s]"
     ]
    },
    {
     "name": "stdout",
     "output_type": "stream",
     "text": [
      "skipped semisupervised-manglish/output-wav/The-Fashion-Weak-Podcast-EP-36---Why-guys-REALLY-go-for-spin-class-with-Oxygen-Cycle-RqG0tHR9D1g.mp3-part-195.wav\n"
     ]
    },
    {
     "name": "stderr",
     "output_type": "stream",
     "text": [
      " 55%|█████▍    | 71289/130662 [30:05<16:03, 61.60it/s]"
     ]
    },
    {
     "name": "stdout",
     "output_type": "stream",
     "text": [
      "skipped semisupervised-manglish/output-wav/The-Fashion-Weak-Podcast-EP-25---Don't-Mess-With-@zamaeraaa's-Hello-Kitty-Cup-H4M_ZUDAT3k.mp3-part-560.wav\n",
      "skipped semisupervised-manglish/output-wav/Mamak-Sessions---Girls-Are-Such-Complicated-Lil-Creatures-feat.-Talitha.-I2BaN8cm6NY.mp3-part-322.wav\n"
     ]
    },
    {
     "name": "stderr",
     "output_type": "stream",
     "text": [
      " 55%|█████▍    | 71318/130662 [30:05<15:34, 63.48it/s]"
     ]
    },
    {
     "name": "stdout",
     "output_type": "stream",
     "text": [
      "skipped semisupervised-manglish/output-wav/How-To-Be-A-Damn-Good-Software-Developer-+-Israel-Startup-Culture-_-Singaporean-Podcast-#11-_-Mark-cs2LkcSpNpw.mp3-part-111.wav\n",
      "skipped semisupervised-manglish/output-wav/The-Fashion-Weak-Podcast-Ep-39---Talking-Turn-On's-and-Fashion-Bulk-Buy-Deals-With-Tata-Wanqian-WSVo-qvu1GQ.mp3-part-690.wav\n"
     ]
    },
    {
     "name": "stderr",
     "output_type": "stream",
     "text": [
      " 55%|█████▍    | 71356/130662 [30:06<17:23, 56.82it/s]"
     ]
    },
    {
     "name": "stdout",
     "output_type": "stream",
     "text": [
      "skipped semisupervised-manglish/output-wav/Why-Blockchain-&-Crypo-Matters-_-Singaporean-Podcast-#15-_-Royal-Pek--2d7wzvNOCE.mp3-part-849.wav\n"
     ]
    },
    {
     "name": "stderr",
     "output_type": "stream",
     "text": [
      " 55%|█████▍    | 71414/130662 [30:07<15:59, 61.75it/s]"
     ]
    },
    {
     "name": "stdout",
     "output_type": "stream",
     "text": [
      "skipped semisupervised-manglish/output-wav/The-Fashion-Weak-Podcast-Ep-46---Premium-Thirst-Trap-Tips-With-Michelle-Lee-(@mich8lee)-MCHDyLJDJrg.mp3-part-12.wav\n"
     ]
    },
    {
     "name": "stderr",
     "output_type": "stream",
     "text": [
      " 55%|█████▍    | 71457/130662 [30:07<16:21, 60.30it/s]"
     ]
    },
    {
     "name": "stdout",
     "output_type": "stream",
     "text": [
      "skipped semisupervised-manglish/output-wav/Mamak-Sessions-Ep6---Names-People-Always-Mispronounce-&-Facebook-Is-A-Spy-8LuihYdx0FQ.mp3-part-51.wav\n"
     ]
    },
    {
     "name": "stderr",
     "output_type": "stream",
     "text": [
      " 55%|█████▍    | 71492/130662 [30:08<16:35, 59.43it/s]"
     ]
    },
    {
     "name": "stdout",
     "output_type": "stream",
     "text": [
      "skipped semisupervised-manglish/output-wav/The-Fashion-Weak-Podcast-Ep-22---Why-Fashion-School-Didn't-Work-Out-For-Zee-Avi-woDYSE37_rI.mp3-part-483.wav\n"
     ]
    },
    {
     "name": "stderr",
     "output_type": "stream",
     "text": [
      " 55%|█████▍    | 71520/130662 [30:09<22:17, 44.23it/s]"
     ]
    },
    {
     "name": "stdout",
     "output_type": "stream",
     "text": [
      "skipped semisupervised-manglish/output-wav/The-Fashion-Weak-Podcast-EP-41---Investment-Tips-For-Chee-Seng-With-Fuad-&-Shaq-From-Kyoto-Protocol-eWNQhDNoSsY.mp3-part-965.wav\n"
     ]
    },
    {
     "name": "stderr",
     "output_type": "stream",
     "text": [
      " 55%|█████▍    | 71549/130662 [30:09<17:20, 56.82it/s]"
     ]
    },
    {
     "name": "stdout",
     "output_type": "stream",
     "text": [
      "skipped semisupervised-manglish/output-wav/The-Fashion-Weak-Podcast-Ep-46---Premium-Thirst-Trap-Tips-With-Michelle-Lee-(@mich8lee)-MCHDyLJDJrg.mp3-part-554.wav\n"
     ]
    },
    {
     "name": "stderr",
     "output_type": "stream",
     "text": [
      " 55%|█████▍    | 71572/130662 [30:10<15:14, 64.64it/s]"
     ]
    },
    {
     "name": "stdout",
     "output_type": "stream",
     "text": [
      "skipped semisupervised-manglish/output-wav/The-Fashion-Weak-Podcast-Ep-19---Butt-Stuff-&-Actual-Fashion-With-Zane-Gan-jhLgzHQnAHU.mp3-part-369.wav\n"
     ]
    },
    {
     "name": "stderr",
     "output_type": "stream",
     "text": [
      " 55%|█████▍    | 71653/130662 [30:11<15:23, 63.92it/s]"
     ]
    },
    {
     "name": "stdout",
     "output_type": "stream",
     "text": [
      "skipped semisupervised-manglish/output-wav/The-Fashion-Weak-Podcast-Ep-18---Putting-The-Deep-In-Deepavali-With-Keren-Bala-lvIbeZ3qgsU.mp3-part-87.wav\n",
      "skipped semisupervised-manglish/output-wav/The-Fashion-Weak-Podcast-Ep24---Penang-Boys-@tunway-瘦虎-&-@Shawnduabui-肥龍-Talk-Zap-Fan-&-Sneakers-dykz_vuzJh0.mp3-part-492.wav\n",
      "skipped semisupervised-manglish/output-wav/The-Fashion-Weak-Podcast-EP-27----Peter-Davis-talks-cars,-mixed-rice-and-some-fashion.-rxmMRAzLRJ0.mp3-part-792.wav\n"
     ]
    },
    {
     "name": "stderr",
     "output_type": "stream",
     "text": [
      " 55%|█████▍    | 71747/130662 [30:13<15:47, 62.18it/s]"
     ]
    },
    {
     "name": "stdout",
     "output_type": "stream",
     "text": [
      "skipped semisupervised-manglish/output-wav/Is-Mulan-Really-That-Bad-_-IMO-Ep.32-rMpf5j7683M.mp3-part-619.wav\n",
      "skipped semisupervised-manglish/output-wav/Dance-Moves-To-Pick-Up-Girls-At-The-Club-With-Adidas-Creator-Maybelline-Wong-(@definitelyMayb_)-vRnkHzyyBc4.mp3-part-229.wav\n"
     ]
    },
    {
     "name": "stderr",
     "output_type": "stream",
     "text": [
      " 55%|█████▍    | 71783/130662 [30:13<15:54, 61.71it/s]"
     ]
    },
    {
     "name": "stdout",
     "output_type": "stream",
     "text": [
      "skipped semisupervised-manglish/output-wav/The-Fashion-Weak-Podcast-Ep-23---Alicia-Amin-On-Being-A-'Malay'-Model-In-2019-3pKA5NvTCOA.mp3-part-349.wav\n",
      "skipped semisupervised-manglish/output-wav/Mamak-Sessions-Podcast---Girl-Gets-Caned-For-Calling-her-Teacher-'AH-GUA'-PRN5UrsDF6w.mp3-part-597.wav\n"
     ]
    },
    {
     "name": "stderr",
     "output_type": "stream",
     "text": [
      " 55%|█████▍    | 71841/130662 [30:14<16:24, 59.75it/s]"
     ]
    },
    {
     "name": "stdout",
     "output_type": "stream",
     "text": [
      "skipped semisupervised-manglish/output-wav/The-Fashion-Weak-Podcast-Ep-31----Possibly-Our-Most-NSFW-Episode-Yet-With-@vikarworld-xMm23vU8_og.mp3-part-612.wav\n"
     ]
    },
    {
     "name": "stderr",
     "output_type": "stream",
     "text": [
      " 55%|█████▌    | 71940/130662 [30:16<15:26, 63.35it/s]"
     ]
    },
    {
     "name": "stdout",
     "output_type": "stream",
     "text": [
      "skipped semisupervised-manglish/output-wav/@Juanitadr-shows-us-what-Arnold's-Tongue-Can-Do---The-Fashion-Weak-Podcast-Episode-10-N5EfPvQKW90.mp3-part-410.wav\n"
     ]
    },
    {
     "name": "stderr",
     "output_type": "stream",
     "text": [
      " 55%|█████▌    | 71975/130662 [30:17<22:16, 43.93it/s]"
     ]
    },
    {
     "name": "stdout",
     "output_type": "stream",
     "text": [
      "skipped semisupervised-manglish/output-wav/Why-Human-Resources-Matters-+-Life-as-a-Singapore-Solopreneur-_-Lauren-Ong-_-Singaporean-Podcast-#20-YtCn4hNLk7o.mp3-part-68.wav\n",
      "skipped semisupervised-manglish/output-wav/How-A-26-Year-Old-Built-A-Multi-Million-YouTube-Empire-g3iwaxDKQGQ.mp3-part-382.wav\n"
     ]
    },
    {
     "name": "stderr",
     "output_type": "stream",
     "text": [
      " 55%|█████▌    | 72012/130662 [30:18<16:14, 60.19it/s]"
     ]
    },
    {
     "name": "stdout",
     "output_type": "stream",
     "text": [
      "skipped semisupervised-manglish/output-wav/The-Fashion-Weak-Podcast-Ep-18---Putting-The-Deep-In-Deepavali-With-Keren-Bala-lvIbeZ3qgsU.mp3-part-26.wav\n"
     ]
    },
    {
     "name": "stderr",
     "output_type": "stream",
     "text": [
      " 55%|█████▌    | 72034/130662 [30:18<15:25, 63.33it/s]"
     ]
    },
    {
     "name": "stdout",
     "output_type": "stream",
     "text": [
      "skipped semisupervised-manglish/output-wav/Mamak-Sessions-Ep4---What-Turns-You-On,-Is-it-ok-if-your-Girlfriend-Earns-More-&-The-Ideal-Proposal-1av_p0DPDas.mp3-part-115.wav\n"
     ]
    },
    {
     "name": "stderr",
     "output_type": "stream",
     "text": [
      " 55%|█████▌    | 72117/130662 [30:19<15:29, 63.00it/s]"
     ]
    },
    {
     "name": "stdout",
     "output_type": "stream",
     "text": [
      "skipped semisupervised-manglish/output-wav/Burnout-in-the-Media-Industry-+-Passion-in-Theatre--_-Singaporean-Podcast-#16-_-Rennes-Lee-f7qEqPNzGk8.mp3-part-382.wav\n"
     ]
    },
    {
     "name": "stderr",
     "output_type": "stream",
     "text": [
      " 55%|█████▌    | 72146/130662 [30:20<14:33, 67.03it/s]"
     ]
    },
    {
     "name": "stdout",
     "output_type": "stream",
     "text": [
      "skipped semisupervised-manglish/output-wav/Mamak-Sessions-Ep6---Names-People-Always-Mispronounce-&-Facebook-Is-A-Spy-8LuihYdx0FQ.mp3-part-101.wav\n"
     ]
    },
    {
     "name": "stderr",
     "output_type": "stream",
     "text": [
      " 55%|█████▌    | 72203/130662 [30:21<15:48, 61.65it/s]"
     ]
    },
    {
     "name": "stdout",
     "output_type": "stream",
     "text": [
      "skipped semisupervised-manglish/output-wav/Being-Bullied,-Toxic-Masculinity-And-Theatre-_-HTHT---Fauzi-Aziz-6syqXC_o6gs.mp3-part-6.wav\n"
     ]
    },
    {
     "name": "stderr",
     "output_type": "stream",
     "text": [
      " 55%|█████▌    | 72266/130662 [30:22<19:02, 51.11it/s]"
     ]
    },
    {
     "name": "stdout",
     "output_type": "stream",
     "text": [
      "skipped semisupervised-manglish/output-wav/Mamak-Sessions---The-Asian-Mom-Of-The-Internet-ft-Tata-Wyb6i3GoJv4.mp3-part-103.wav\n",
      "skipped semisupervised-manglish/output-wav/The-Truth-Behind-Our-Relationship!-Are-We-Really-Sisters-_-The-Thirsty-Sisters-#10-rkwCky94IhQ.mp3-part-420.wav\n"
     ]
    },
    {
     "name": "stderr",
     "output_type": "stream",
     "text": [
      " 55%|█████▌    | 72286/130662 [30:23<16:23, 59.38it/s]"
     ]
    },
    {
     "name": "stdout",
     "output_type": "stream",
     "text": [
      "skipped semisupervised-manglish/output-wav/Why-Blockchain-&-Crypo-Matters-_-Singaporean-Podcast-#15-_-Royal-Pek--2d7wzvNOCE.mp3-part-118.wav\n",
      "skipped semisupervised-manglish/output-wav/The-Fashion-Weak-Podcast-Ep-15---Underwear-Sneakers-&-Fruits-With-@OhZooey-HDuY9UdkkaE.mp3-part-145.wav\n"
     ]
    },
    {
     "name": "stderr",
     "output_type": "stream",
     "text": [
      " 55%|█████▌    | 72496/130662 [30:26<14:59, 64.64it/s]"
     ]
    },
    {
     "name": "stdout",
     "output_type": "stream",
     "text": [
      "skipped semisupervised-manglish/output-wav/Mamak-Sessions---My-Asian-Parents-Were-Initially-Ashamed-Of-My-Career-NqCp8Csl7PE.mp3-part-28.wav\n"
     ]
    },
    {
     "name": "stderr",
     "output_type": "stream",
     "text": [
      " 55%|█████▌    | 72516/130662 [30:27<21:34, 44.91it/s]"
     ]
    },
    {
     "name": "stdout",
     "output_type": "stream",
     "text": [
      "skipped semisupervised-manglish/output-wav/Skin-Care-Routines,-Death,-Life-Purpose-and-More-_-Singaporean-Trio-Podcast-#2-6yW185RJkGw.mp3-part-100.wav\n"
     ]
    },
    {
     "name": "stderr",
     "output_type": "stream",
     "text": [
      " 56%|█████▌    | 72545/130662 [30:27<16:43, 57.91it/s]"
     ]
    },
    {
     "name": "stdout",
     "output_type": "stream",
     "text": [
      "skipped semisupervised-manglish/output-wav/Mamak-Sessions-Ep6---Names-People-Always-Mispronounce-&-Facebook-Is-A-Spy-8LuihYdx0FQ.mp3-part-391.wav\n",
      "skipped semisupervised-manglish/output-wav/Mamak-Sessions---Can-Guys-And-Girls-Be-Best-Friends-Is-it-ok-to-see-more-than-one-person-at-a-time-IixUPM11VMY.mp3-part-220.wav\n"
     ]
    },
    {
     "name": "stderr",
     "output_type": "stream",
     "text": [
      " 56%|█████▌    | 72595/130662 [30:28<14:46, 65.53it/s]"
     ]
    },
    {
     "name": "stdout",
     "output_type": "stream",
     "text": [
      "skipped semisupervised-manglish/output-wav/The-Fashion-Weak-Podcast-Ep-33---Lingerie-&-Bikini-Talk-With-Talitha-Tan-(@talithabe)-_7Un0q6a9zg.mp3-part-59.wav\n"
     ]
    },
    {
     "name": "stderr",
     "output_type": "stream",
     "text": [
      " 56%|█████▌    | 72666/130662 [30:30<15:29, 62.37it/s]"
     ]
    },
    {
     "name": "stdout",
     "output_type": "stream",
     "text": [
      "skipped semisupervised-manglish/output-wav/Sexual-Predators-Running-Free-In-Singapore!-_-The-Thirsty-Sisters-#14-oW3yttdKVm0.mp3-part-2.wav\n"
     ]
    },
    {
     "name": "stderr",
     "output_type": "stream",
     "text": [
      " 56%|█████▌    | 72743/130662 [30:31<15:43, 61.36it/s]"
     ]
    },
    {
     "name": "stdout",
     "output_type": "stream",
     "text": [
      "skipped semisupervised-manglish/output-wav/Mamak-Sessions---Quitting-The-Medical-Line-To-Make-People-Laugh-ft-Dr.-Jason-Leong-FcD9MpeWqEI.mp3-part-455.wav\n"
     ]
    },
    {
     "name": "stderr",
     "output_type": "stream",
     "text": [
      " 56%|█████▌    | 72779/130662 [30:32<15:11, 63.53it/s]"
     ]
    },
    {
     "name": "stdout",
     "output_type": "stream",
     "text": [
      "skipped semisupervised-manglish/output-wav/The-Fashion-Weak-Podcast-Ep-30---On-her-way-to-Supermodel-dom,-ASNTM--Cycle-5-Runner-Up-@shikingomez-otK3Gl_XX4c.mp3-part-20.wav\n"
     ]
    },
    {
     "name": "stderr",
     "output_type": "stream",
     "text": [
      " 56%|█████▌    | 72834/130662 [30:33<16:15, 59.25it/s]"
     ]
    },
    {
     "name": "stdout",
     "output_type": "stream",
     "text": [
      "skipped semisupervised-manglish/output-wav/@Juanitadr-shows-us-what-Arnold's-Tongue-Can-Do---The-Fashion-Weak-Podcast-Episode-10-N5EfPvQKW90.mp3-part-13.wav\n"
     ]
    },
    {
     "name": "stderr",
     "output_type": "stream",
     "text": [
      " 56%|█████▌    | 72895/130662 [30:34<19:10, 50.20it/s]"
     ]
    },
    {
     "name": "stdout",
     "output_type": "stream",
     "text": [
      "skipped semisupervised-manglish/output-wav/The-Fashion-Weak-Podcast-Ep-32---Getting-Surprised-Reading-Melissa-Campbell's-(@heymelbelle)-IG-DMs-mJuKUwFpDgI.mp3-part-672.wav\n"
     ]
    },
    {
     "name": "stderr",
     "output_type": "stream",
     "text": [
      " 56%|█████▌    | 72945/130662 [30:35<15:19, 62.78it/s]"
     ]
    },
    {
     "name": "stdout",
     "output_type": "stream",
     "text": [
      "skipped semisupervised-manglish/output-wav/The-Fashion-Weak-Podcast-Ep-30---On-her-way-to-Supermodel-dom,-ASNTM--Cycle-5-Runner-Up-@shikingomez-otK3Gl_XX4c.mp3-part-507.wav\n"
     ]
    },
    {
     "name": "stderr",
     "output_type": "stream",
     "text": [
      " 56%|█████▌    | 73040/130662 [30:36<15:38, 61.40it/s]"
     ]
    },
    {
     "name": "stdout",
     "output_type": "stream",
     "text": [
      "skipped semisupervised-manglish/output-wav/Overcoming-Depression-&-Redefining-What-Failure-Means-to-Youths_-Singaporean-Podcast-#10-_-Kevin-Wee-rjjK4aAbKnw.mp3-part-166.wav\n"
     ]
    },
    {
     "name": "stderr",
     "output_type": "stream",
     "text": [
      " 56%|█████▌    | 73076/130662 [30:37<18:22, 52.25it/s]"
     ]
    },
    {
     "name": "stdout",
     "output_type": "stream",
     "text": [
      "skipped semisupervised-manglish/output-wav/The-Fashion-Weak-Podcast-Ep-38---TikTok-Royalty-Roshan-Jeet-aka-Roshannnn1-lPnRg9UsP0M.mp3-part-28.wav\n"
     ]
    },
    {
     "name": "stderr",
     "output_type": "stream",
     "text": [
      " 56%|█████▌    | 73112/130662 [30:38<16:08, 59.42it/s]"
     ]
    },
    {
     "name": "stdout",
     "output_type": "stream",
     "text": [
      "skipped semisupervised-manglish/output-wav/The-Fashion-Weak-Podcast-Ep-32---Getting-Surprised-Reading-Melissa-Campbell's-(@heymelbelle)-IG-DMs-mJuKUwFpDgI.mp3-part-704.wav\n"
     ]
    },
    {
     "name": "stderr",
     "output_type": "stream",
     "text": [
      " 56%|█████▌    | 73127/130662 [30:38<15:18, 62.64it/s]"
     ]
    },
    {
     "name": "stdout",
     "output_type": "stream",
     "text": [
      "skipped semisupervised-manglish/output-wav/Mamak-Sessions-Ep9---Sibling-Rivalry-ft-Julian-Yee-670FyeJhnps.mp3-part-36.wav\n"
     ]
    },
    {
     "name": "stderr",
     "output_type": "stream",
     "text": [
      " 56%|█████▌    | 73155/130662 [30:39<19:01, 50.39it/s]"
     ]
    },
    {
     "name": "stdout",
     "output_type": "stream",
     "text": [
      "skipped semisupervised-manglish/output-wav/Mamak-Sessions---Can-Guys-And-Girls-Be-Best-Friends-Is-it-ok-to-see-more-than-one-person-at-a-time-IixUPM11VMY.mp3-part-310.wav\n",
      "skipped semisupervised-manglish/output-wav/The-Fashion-Weak-Podcast-Ep-20---Couple-Goals-With-Maggy-Wang-&-Jobroseph-TzfCaQ8vUMc.mp3-part-199.wav\n"
     ]
    },
    {
     "name": "stderr",
     "output_type": "stream",
     "text": [
      " 56%|█████▌    | 73177/130662 [30:39<15:27, 61.95it/s]"
     ]
    },
    {
     "name": "stdout",
     "output_type": "stream",
     "text": [
      "skipped semisupervised-manglish/output-wav/The-Fashion-Weak-Podcast-Ep-40---tdcjTfzYSbk.mp3-part-645.wav\n"
     ]
    },
    {
     "name": "stderr",
     "output_type": "stream",
     "text": [
      " 56%|█████▌    | 73220/130662 [30:40<15:27, 61.94it/s]"
     ]
    },
    {
     "name": "stdout",
     "output_type": "stream",
     "text": [
      "skipped semisupervised-manglish/output-wav/The-Fashion-Weak-Podcast-Ep-40---tdcjTfzYSbk.mp3-part-848.wav\n"
     ]
    },
    {
     "name": "stderr",
     "output_type": "stream",
     "text": [
      " 56%|█████▌    | 73260/130662 [30:41<18:10, 52.62it/s]"
     ]
    },
    {
     "name": "stdout",
     "output_type": "stream",
     "text": [
      "skipped semisupervised-manglish/output-wav/The-Fashion-Weak-Podcast-Ep-32---Getting-Surprised-Reading-Melissa-Campbell's-(@heymelbelle)-IG-DMs-mJuKUwFpDgI.mp3-part-503.wav\n"
     ]
    },
    {
     "name": "stderr",
     "output_type": "stream",
     "text": [
      " 56%|█████▌    | 73281/130662 [30:41<16:06, 59.37it/s]"
     ]
    },
    {
     "name": "stdout",
     "output_type": "stream",
     "text": [
      "skipped semisupervised-manglish/output-wav/The-Fashion-Weak-Podcast-EP-27----Peter-Davis-talks-cars,-mixed-rice-and-some-fashion.-rxmMRAzLRJ0.mp3-part-92.wav\n",
      "skipped semisupervised-manglish/output-wav/Exposed!-Our-Favourite-Night-Activity-We-Miss-The-Most!-_-The-Thirsty-Sisters-#5-TxeBIVuXRHM.mp3-part-252.wav\n"
     ]
    },
    {
     "name": "stderr",
     "output_type": "stream",
     "text": [
      " 56%|█████▌    | 73313/130662 [30:41<16:54, 56.51it/s]"
     ]
    },
    {
     "name": "stdout",
     "output_type": "stream",
     "text": [
      "skipped semisupervised-manglish/output-wav/The-Fashion-Weak-Podcast-Ep-23---Alicia-Amin-On-Being-A-'Malay'-Model-In-2019-3pKA5NvTCOA.mp3-part-408.wav\n"
     ]
    },
    {
     "name": "stderr",
     "output_type": "stream",
     "text": [
      " 56%|█████▌    | 73345/130662 [30:42<19:55, 47.96it/s]"
     ]
    },
    {
     "name": "stdout",
     "output_type": "stream",
     "text": [
      "skipped semisupervised-manglish/output-wav/Mamak-Sessions---How-I-Got-Quarantined-Because-Of-Covid-19-Feat.-Mark-O'Dea-5zAsyNKfzps.mp3-part-3.wav\n"
     ]
    },
    {
     "name": "stderr",
     "output_type": "stream",
     "text": [
      " 56%|█████▌    | 73381/130662 [30:43<15:00, 63.61it/s]"
     ]
    },
    {
     "name": "stdout",
     "output_type": "stream",
     "text": [
      "skipped semisupervised-manglish/output-wav/Most-Accurate-Personality-Test!-_-The-Thirsty-Sisters-#17-XLV720mng6w.mp3-part-151.wav\n",
      "skipped semisupervised-manglish/output-wav/The-Fashion-Weak-Podcast-Ep-43A---Keeping-Fair-On-The-Fairway-With-Natalia-Ng-CSP1XPZu4YY.mp3-part-165.wav\n",
      "skipped semisupervised-manglish/output-wav/Mamak-Sessions-Ep8---Man-Sues-Colleague-for-$1.8-Million-for-Farting-OWbPqC2i71c.mp3-part-461.wav\n"
     ]
    },
    {
     "name": "stderr",
     "output_type": "stream",
     "text": [
      " 56%|█████▌    | 73445/130662 [30:44<17:49, 53.52it/s]"
     ]
    },
    {
     "name": "stdout",
     "output_type": "stream",
     "text": [
      "skipped semisupervised-manglish/output-wav/Being-A-Single-Divorced-Woman-At-32-_-The-Thirsty-Sisters-#11-8DMyfcjyrZQ.mp3-part-174.wav\n"
     ]
    },
    {
     "name": "stderr",
     "output_type": "stream",
     "text": [
      " 56%|█████▋    | 73502/130662 [30:45<14:32, 65.49it/s]"
     ]
    },
    {
     "name": "stdout",
     "output_type": "stream",
     "text": [
      "skipped semisupervised-manglish/output-wav/Conversations-with-a-Young-Singaporean-CEO--Gao-Fei,-CEO-of-LearnSeeker-_-Singaporean-Podcast-#13--b9YHjghfd2E.mp3-part-441.wav\n"
     ]
    },
    {
     "name": "stderr",
     "output_type": "stream",
     "text": [
      " 56%|█████▋    | 73536/130662 [30:46<17:01, 55.94it/s]"
     ]
    },
    {
     "name": "stdout",
     "output_type": "stream",
     "text": [
      "skipped semisupervised-manglish/output-wav/The-Fashion-Weak-Podcast-Ep-23---Alicia-Amin-On-Being-A-'Malay'-Model-In-2019-3pKA5NvTCOA.mp3-part-359.wav\n"
     ]
    },
    {
     "name": "stderr",
     "output_type": "stream",
     "text": [
      " 56%|█████▋    | 73559/130662 [30:46<15:05, 63.06it/s]"
     ]
    },
    {
     "name": "stdout",
     "output_type": "stream",
     "text": [
      "skipped semisupervised-manglish/output-wav/Amander-Reveals-Why-She-Left-Titan---The-Team-Titan-Show-7byI9tIJeRk.mp3-part-287.wav\n",
      "skipped semisupervised-manglish/output-wav/The-Fashion-Weak-Podcast-Ep-43A---Keeping-Fair-On-The-Fairway-With-Natalia-Ng-CSP1XPZu4YY.mp3-part-678.wav\n"
     ]
    },
    {
     "name": "stderr",
     "output_type": "stream",
     "text": [
      " 56%|█████▋    | 73581/130662 [30:46<14:34, 65.26it/s]"
     ]
    },
    {
     "name": "stdout",
     "output_type": "stream",
     "text": [
      "skipped semisupervised-manglish/output-wav/Dance-Moves-To-Pick-Up-Girls-At-The-Club-With-Adidas-Creator-Maybelline-Wong-(@definitelyMayb_)-vRnkHzyyBc4.mp3-part-522.wav\n"
     ]
    },
    {
     "name": "stderr",
     "output_type": "stream",
     "text": [
      " 56%|█████▋    | 73637/130662 [30:47<15:46, 60.26it/s]"
     ]
    },
    {
     "name": "stdout",
     "output_type": "stream",
     "text": [
      "skipped semisupervised-manglish/output-wav/The-Fashion-Weak-Podcast-Ep-39---Talking-Turn-On's-and-Fashion-Bulk-Buy-Deals-With-Tata-Wanqian-WSVo-qvu1GQ.mp3-part-127.wav\n"
     ]
    },
    {
     "name": "stderr",
     "output_type": "stream",
     "text": [
      " 56%|█████▋    | 73668/130662 [30:48<14:06, 67.34it/s]"
     ]
    },
    {
     "name": "stdout",
     "output_type": "stream",
     "text": [
      "skipped semisupervised-manglish/output-wav/The-Fashion-Weak-Podcast-Ep-45---Finessing-A-New-Phone-Every-Year-With-Mamak-Rap-King-Jiven-Sekar-VlovwtVYuw0.mp3-part-889.wav\n"
     ]
    },
    {
     "name": "stderr",
     "output_type": "stream",
     "text": [
      " 56%|█████▋    | 73698/130662 [30:49<20:46, 45.71it/s]"
     ]
    },
    {
     "name": "stdout",
     "output_type": "stream",
     "text": [
      "skipped semisupervised-manglish/output-wav/The-Fashion-Weak-Podcast-Ep-45---Finessing-A-New-Phone-Every-Year-With-Mamak-Rap-King-Jiven-Sekar-VlovwtVYuw0.mp3-part-710.wav\n",
      "skipped semisupervised-manglish/output-wav/Mamak-Sessions---Are-We-Safe-From-The-Wuhan-Virus-and-Are-Spiritual-Healers-Scammers-skGDf57Q9xs.mp3-part-159.wav\n"
     ]
    },
    {
     "name": "stderr",
     "output_type": "stream",
     "text": [
      " 56%|█████▋    | 73741/130662 [30:49<15:17, 62.05it/s]"
     ]
    },
    {
     "name": "stdout",
     "output_type": "stream",
     "text": [
      "skipped semisupervised-manglish/output-wav/My-Ex-Husband-And-His-New-Puppy's-Mummy-_-The-Thirsty-Sisters-#26-RBShCX3-BtQ.mp3-part-61.wav\n",
      "skipped semisupervised-manglish/output-wav/Mamak-Sessions---My-Asian-Parents-Were-Initially-Ashamed-Of-My-Career-NqCp8Csl7PE.mp3-part-157.wav\n"
     ]
    },
    {
     "name": "stderr",
     "output_type": "stream",
     "text": [
      " 57%|█████▋    | 73830/130662 [30:51<15:02, 62.94it/s]"
     ]
    },
    {
     "name": "stdout",
     "output_type": "stream",
     "text": [
      "skipped semisupervised-manglish/output-wav/How-to-Build-Meaningful-Relationships-with-Big-Clients-_-Singaporean-Podcast-#26-_-Jeremiah-Su-sT3vpK8npYk.mp3-part-60.wav\n"
     ]
    },
    {
     "name": "stderr",
     "output_type": "stream",
     "text": [
      " 57%|█████▋    | 73904/130662 [30:52<17:20, 54.55it/s]"
     ]
    },
    {
     "name": "stdout",
     "output_type": "stream",
     "text": [
      "skipped semisupervised-manglish/output-wav/The-Fashion-Weak-Podcast-EP-36---Why-guys-REALLY-go-for-spin-class-with-Oxygen-Cycle-RqG0tHR9D1g.mp3-part-467.wav\n",
      "skipped semisupervised-manglish/output-wav/Should-Influencers-Be-Expected-To-Do-More-For-Society-(ft.-Celeste-Loh)-_-IMO-Ep.4-7izYax1bCwg.mp3-part-19.wav\n",
      "skipped semisupervised-manglish/output-wav/The-Fashion-Weak-Podcast-EP-41---Investment-Tips-For-Chee-Seng-With-Fuad-&-Shaq-From-Kyoto-Protocol-eWNQhDNoSsY.mp3-part-902.wav\n"
     ]
    },
    {
     "name": "stderr",
     "output_type": "stream",
     "text": [
      " 57%|█████▋    | 73964/130662 [30:53<14:09, 66.74it/s]"
     ]
    },
    {
     "name": "stdout",
     "output_type": "stream",
     "text": [
      "skipped semisupervised-manglish/output-wav/Mamak-Sessions-Podcast---How-Do-You-Handle-Long-Distance-Relationships-Do-they-WORK-m7mwwtsblIs.mp3-part-349.wav\n",
      "skipped semisupervised-manglish/output-wav/The-Fashion-Weak-Podcast-EP-41---Investment-Tips-For-Chee-Seng-With-Fuad-&-Shaq-From-Kyoto-Protocol-eWNQhDNoSsY.mp3-part-847.wav\n"
     ]
    },
    {
     "name": "stderr",
     "output_type": "stream",
     "text": [
      " 57%|█████▋    | 74088/130662 [30:55<17:33, 53.71it/s]"
     ]
    },
    {
     "name": "stdout",
     "output_type": "stream",
     "text": [
      "skipped semisupervised-manglish/output-wav/The-Fashion-Weak-Podcast-Ep-22---Why-Fashion-School-Didn't-Work-Out-For-Zee-Avi-woDYSE37_rI.mp3-part-330.wav\n",
      "skipped semisupervised-manglish/output-wav/Mamak-Sessions-Ep8---Man-Sues-Colleague-for-$1.8-Million-for-Farting-OWbPqC2i71c.mp3-part-194.wav\n"
     ]
    },
    {
     "name": "stderr",
     "output_type": "stream",
     "text": [
      " 57%|█████▋    | 74138/130662 [30:56<14:47, 63.68it/s]"
     ]
    },
    {
     "name": "stdout",
     "output_type": "stream",
     "text": [
      "skipped semisupervised-manglish/output-wav/Mamak-Sessions-Ep6---Names-People-Always-Mispronounce-&-Facebook-Is-A-Spy-8LuihYdx0FQ.mp3-part-30.wav\n"
     ]
    },
    {
     "name": "stderr",
     "output_type": "stream",
     "text": [
      " 57%|█████▋    | 74217/130662 [30:58<15:22, 61.16it/s]"
     ]
    },
    {
     "name": "stdout",
     "output_type": "stream",
     "text": [
      "skipped semisupervised-manglish/output-wav/The-Fashion-Weak-Podcast-Ep-33---Lingerie-&-Bikini-Talk-With-Talitha-Tan-(@talithabe)-_7Un0q6a9zg.mp3-part-638.wav\n"
     ]
    },
    {
     "name": "stderr",
     "output_type": "stream",
     "text": [
      " 57%|█████▋    | 74231/130662 [30:58<15:03, 62.48it/s]"
     ]
    },
    {
     "name": "stdout",
     "output_type": "stream",
     "text": [
      "skipped semisupervised-manglish/output-wav/The-Fashion-Weak-Podcast-Ep-40---tdcjTfzYSbk.mp3-part-534.wav\n"
     ]
    },
    {
     "name": "stderr",
     "output_type": "stream",
     "text": [
      " 57%|█████▋    | 74327/130662 [31:00<13:23, 70.14it/s]"
     ]
    },
    {
     "name": "stdout",
     "output_type": "stream",
     "text": [
      "skipped semisupervised-manglish/output-wav/The-Fashion-Weak-Podcast-Ep-38---TikTok-Royalty-Roshan-Jeet-aka-Roshannnn1-lPnRg9UsP0M.mp3-part-83.wav\n",
      "skipped semisupervised-manglish/output-wav/Mamak-Sessions-Ep6---Names-People-Always-Mispronounce-&-Facebook-Is-A-Spy-8LuihYdx0FQ.mp3-part-9.wav\n"
     ]
    },
    {
     "name": "stderr",
     "output_type": "stream",
     "text": [
      " 57%|█████▋    | 74363/130662 [31:00<16:43, 56.08it/s]"
     ]
    },
    {
     "name": "stdout",
     "output_type": "stream",
     "text": [
      "skipped semisupervised-manglish/output-wav/Career-Tips-for-Singaporean-Youths-&-Life-as-an-MP---Mr-Zainal-Sapari-_-Singaporean-Podcast#18-5VpSUeWPEuo.mp3-part-75.wav\n",
      "skipped semisupervised-manglish/output-wav/Mamak-Sessions-Ep6---Names-People-Always-Mispronounce-&-Facebook-Is-A-Spy-8LuihYdx0FQ.mp3-part-155.wav\n"
     ]
    },
    {
     "name": "stderr",
     "output_type": "stream",
     "text": [
      " 57%|█████▋    | 74392/130662 [31:01<15:06, 62.08it/s]"
     ]
    },
    {
     "name": "stdout",
     "output_type": "stream",
     "text": [
      "skipped semisupervised-manglish/output-wav/The-Fashion-Weak-Podcast-Ep-40---tdcjTfzYSbk.mp3-part-1092.wav\n"
     ]
    },
    {
     "name": "stderr",
     "output_type": "stream",
     "text": [
      " 57%|█████▋    | 74421/130662 [31:01<14:19, 65.41it/s]"
     ]
    },
    {
     "name": "stdout",
     "output_type": "stream",
     "text": [
      "skipped semisupervised-manglish/output-wav/The-Fashion-Weak-Podcast-Ep-31----Possibly-Our-Most-NSFW-Episode-Yet-With-@vikarworld-xMm23vU8_og.mp3-part-712.wav\n"
     ]
    },
    {
     "name": "stderr",
     "output_type": "stream",
     "text": [
      " 57%|█████▋    | 74492/130662 [31:03<15:02, 62.26it/s]"
     ]
    },
    {
     "name": "stdout",
     "output_type": "stream",
     "text": [
      "skipped semisupervised-manglish/output-wav/Dance-Moves-To-Pick-Up-Girls-At-The-Club-With-Adidas-Creator-Maybelline-Wong-(@definitelyMayb_)-vRnkHzyyBc4.mp3-part-881.wav\n"
     ]
    },
    {
     "name": "stderr",
     "output_type": "stream",
     "text": [
      " 57%|█████▋    | 74528/130662 [31:03<20:11, 46.34it/s]"
     ]
    },
    {
     "name": "stdout",
     "output_type": "stream",
     "text": [
      "skipped semisupervised-manglish/output-wav/Blessing-The-Pod,-Calling-Mofo's-OUT!-with-@soimjenn---The-Fashion-Weak-Podcast-Episode-7-xsjayMqoC0Y.mp3-part-79.wav\n"
     ]
    },
    {
     "name": "stderr",
     "output_type": "stream",
     "text": [
      " 57%|█████▋    | 74579/130662 [31:04<14:55, 62.64it/s]"
     ]
    },
    {
     "name": "stdout",
     "output_type": "stream",
     "text": [
      "skipped semisupervised-manglish/output-wav/Mamak-Sessions---The-Asian-Mom-Of-The-Internet-ft-Tata-Wyb6i3GoJv4.mp3-part-309.wav\n"
     ]
    },
    {
     "name": "stderr",
     "output_type": "stream",
     "text": [
      " 57%|█████▋    | 74600/130662 [31:05<15:16, 61.19it/s]"
     ]
    },
    {
     "name": "stdout",
     "output_type": "stream",
     "text": [
      "skipped semisupervised-manglish/output-wav/The-Fashion-Weak-Podcast-Ep-43---Thirst-Trapping-Simps-&-Loving-Your-Body-From-The-Outside-In-6R87P6YD2c4.mp3-part-551.wav\n",
      "skipped semisupervised-manglish/output-wav/Mamak-Sessions-Podcast---How-Do-You-Handle-Long-Distance-Relationships-Do-they-WORK-m7mwwtsblIs.mp3-part-147.wav\n",
      "skipped semisupervised-manglish/output-wav/Mamak-Sessions-Ep6---Names-People-Always-Mispronounce-&-Facebook-Is-A-Spy-8LuihYdx0FQ.mp3-part-113.wav\n"
     ]
    },
    {
     "name": "stderr",
     "output_type": "stream",
     "text": [
      " 57%|█████▋    | 74621/130662 [31:05<18:24, 50.72it/s]"
     ]
    },
    {
     "name": "stdout",
     "output_type": "stream",
     "text": [
      "skipped semisupervised-manglish/output-wav/Mamak-Sessions---The-Miss-World-Crown-is-more-than-$4,000,000!-PazCOj1nb3c.mp3-part-112.wav\n"
     ]
    },
    {
     "name": "stderr",
     "output_type": "stream",
     "text": [
      " 57%|█████▋    | 74650/130662 [31:05<14:49, 62.94it/s]"
     ]
    },
    {
     "name": "stdout",
     "output_type": "stream",
     "text": [
      "skipped semisupervised-manglish/output-wav/Musings-of-the-OG-Sneaker-Uncle-@bungactiongirl---The-Fashion-Weak-Podcast-Episode-3-EjzkQeWKwQw.mp3-part-22.wav\n"
     ]
    },
    {
     "name": "stderr",
     "output_type": "stream",
     "text": [
      " 57%|█████▋    | 74695/130662 [31:06<13:34, 68.69it/s]"
     ]
    },
    {
     "name": "stdout",
     "output_type": "stream",
     "text": [
      "skipped semisupervised-manglish/output-wav/Mamak-Sessions-Ep10---Datuk-Nicol-David-is-RETIRING!-n3AR3nQEc7Y.mp3-part-531.wav\n"
     ]
    },
    {
     "name": "stderr",
     "output_type": "stream",
     "text": [
      " 57%|█████▋    | 74724/130662 [31:07<16:22, 56.93it/s]"
     ]
    },
    {
     "name": "stdout",
     "output_type": "stream",
     "text": [
      "skipped semisupervised-manglish/output-wav/Mamak-Sessions---Nasi-Lemak-Sneakers-zLEmAKdG9vY.mp3-part-181.wav\n",
      "skipped semisupervised-manglish/output-wav/The-Fashion-Weak-Podcast-Ep-40---tdcjTfzYSbk.mp3-part-660.wav\n"
     ]
    },
    {
     "name": "stderr",
     "output_type": "stream",
     "text": [
      " 57%|█████▋    | 74788/130662 [31:08<14:59, 62.15it/s]"
     ]
    },
    {
     "name": "stdout",
     "output_type": "stream",
     "text": [
      "skipped semisupervised-manglish/output-wav/The-Fashion-Weak-Podcast-Ep-40---tdcjTfzYSbk.mp3-part-983.wav\n",
      "skipped semisupervised-manglish/output-wav/Mamak-Sessions---Do-You-Check-Your-Partner's-Text-Messages-Featuring-Lizz-Chloe-WJkSAHvYyqk.mp3-part-112.wav\n"
     ]
    },
    {
     "name": "stderr",
     "output_type": "stream",
     "text": [
      " 57%|█████▋    | 74825/130662 [31:09<16:34, 56.13it/s]"
     ]
    },
    {
     "name": "stdout",
     "output_type": "stream",
     "text": [
      "skipped semisupervised-manglish/output-wav/Being-Bullied,-Toxic-Masculinity-And-Theatre-_-HTHT---Fauzi-Aziz-6syqXC_o6gs.mp3-part-614.wav\n"
     ]
    },
    {
     "name": "stderr",
     "output_type": "stream",
     "text": [
      " 57%|█████▋    | 75041/130662 [31:13<14:05, 65.78it/s]"
     ]
    },
    {
     "name": "stdout",
     "output_type": "stream",
     "text": [
      "skipped semisupervised-manglish/output-wav/We-Are-Finally-Dating-Again!-We-Found-New-Men-_-The-Thirsty-Sisters-#24-fzuKoKTxfEs.mp3-part-259.wav\n",
      "skipped semisupervised-manglish/output-wav/The-Fashion-Weak-Podcast-Ep-29---Valentines-Day-With-Becca-Lee-and-Leonard-Chua-UWm1ESejkzs.mp3-part-280.wav\n"
     ]
    },
    {
     "name": "stderr",
     "output_type": "stream",
     "text": [
      " 57%|█████▋    | 75113/130662 [31:14<14:24, 64.24it/s]"
     ]
    },
    {
     "name": "stdout",
     "output_type": "stream",
     "text": [
      "skipped semisupervised-manglish/output-wav/The-Fashion-Weak-Podcast-Ep-43A---Keeping-Fair-On-The-Fairway-With-Natalia-Ng-CSP1XPZu4YY.mp3-part-342.wav\n",
      "skipped semisupervised-manglish/output-wav/Why-NUS-Business-School-+-Unilever-&-P&G-Case-Competitions-_-Singaporean-Podcast-#22-_-Sherrine-Fu-8QNgzWcc7U4.mp3-part-30.wav\n"
     ]
    },
    {
     "name": "stderr",
     "output_type": "stream",
     "text": [
      " 58%|█████▊    | 75177/130662 [31:15<16:02, 57.64it/s]"
     ]
    },
    {
     "name": "stdout",
     "output_type": "stream",
     "text": [
      "skipped semisupervised-manglish/output-wav/Musings-of-the-OG-Sneaker-Uncle-@bungactiongirl---The-Fashion-Weak-Podcast-Episode-3-EjzkQeWKwQw.mp3-part-166.wav\n",
      "skipped semisupervised-manglish/output-wav/The-Fashion-Weak-Podcast-Ep-29---Valentines-Day-With-Becca-Lee-and-Leonard-Chua-UWm1ESejkzs.mp3-part-335.wav\n"
     ]
    },
    {
     "name": "stderr",
     "output_type": "stream",
     "text": [
      " 58%|█████▊    | 75316/130662 [31:18<14:53, 61.95it/s]"
     ]
    },
    {
     "name": "stdout",
     "output_type": "stream",
     "text": [
      "skipped semisupervised-manglish/output-wav/The-Fashion-Weak-Podcast-Ep-22---Why-Fashion-School-Didn't-Work-Out-For-Zee-Avi-woDYSE37_rI.mp3-part-394.wav\n"
     ]
    },
    {
     "name": "stderr",
     "output_type": "stream",
     "text": [
      " 58%|█████▊    | 75339/130662 [31:18<18:22, 50.20it/s]"
     ]
    },
    {
     "name": "stdout",
     "output_type": "stream",
     "text": [
      "skipped semisupervised-manglish/output-wav/The-Fashion-Weak-Podcast-Ep24---Penang-Boys-@tunway-瘦虎-&-@Shawnduabui-肥龍-Talk-Zap-Fan-&-Sneakers-dykz_vuzJh0.mp3-part-663.wav\n",
      "skipped semisupervised-manglish/output-wav/The-Fashion-Weak-Podcast-Ep-45---Finessing-A-New-Phone-Every-Year-With-Mamak-Rap-King-Jiven-Sekar-VlovwtVYuw0.mp3-part-201.wav\n",
      "skipped semisupervised-manglish/output-wav/Mamak-Sessions---Can-Guys-And-Girls-Be-Best-Friends-Is-it-ok-to-see-more-than-one-person-at-a-time-IixUPM11VMY.mp3-part-376.wav\n",
      "skipped semisupervised-manglish/output-wav/The-Fashion-Weak-Podcast-Ep-23---Alicia-Amin-On-Being-A-'Malay'-Model-In-2019-3pKA5NvTCOA.mp3-part-420.wav\n"
     ]
    },
    {
     "name": "stderr",
     "output_type": "stream",
     "text": [
      " 58%|█████▊    | 75363/130662 [31:19<15:06, 60.99it/s]"
     ]
    },
    {
     "name": "stdout",
     "output_type": "stream",
     "text": [
      "skipped semisupervised-manglish/output-wav/Tips-For-Being-In-The-Media-Industry-(ft.-Neo-Kee-Wei)-_-IMO-Ep.18-TqLaI2X4jj0.mp3-part-164.wav\n"
     ]
    },
    {
     "name": "stderr",
     "output_type": "stream",
     "text": [
      " 58%|█████▊    | 75413/130662 [31:19<14:10, 64.94it/s]"
     ]
    },
    {
     "name": "stdout",
     "output_type": "stream",
     "text": [
      "skipped semisupervised-manglish/output-wav/The-Fashion-Weak-Podcast-Ep-43A---Keeping-Fair-On-The-Fairway-With-Natalia-Ng-CSP1XPZu4YY.mp3-part-626.wav\n"
     ]
    },
    {
     "name": "stderr",
     "output_type": "stream",
     "text": [
      " 58%|█████▊    | 75538/130662 [31:22<16:18, 56.34it/s]"
     ]
    },
    {
     "name": "stdout",
     "output_type": "stream",
     "text": [
      "skipped semisupervised-manglish/output-wav/Mamak-Sessions---The-Asian-Mom-Of-The-Internet-ft-Tata-Wyb6i3GoJv4.mp3-part-582.wav\n"
     ]
    },
    {
     "name": "stderr",
     "output_type": "stream",
     "text": [
      " 58%|█████▊    | 75634/130662 [31:23<15:32, 59.01it/s]"
     ]
    },
    {
     "name": "stdout",
     "output_type": "stream",
     "text": [
      "skipped semisupervised-manglish/output-wav/The-Fashion-Weak-Podcast-Ep-28-@dreamrocketeers-on-that-Rolex-you-should-cop-to-flex-on-poor-friends-shV1F1JlDzk.mp3-part-522.wav\n",
      "skipped semisupervised-manglish/output-wav/Mamak-Sessions---Nasi-Lemak-Sneakers-zLEmAKdG9vY.mp3-part-186.wav\n"
     ]
    },
    {
     "name": "stderr",
     "output_type": "stream",
     "text": [
      " 58%|█████▊    | 75677/130662 [31:24<15:12, 60.27it/s]"
     ]
    },
    {
     "name": "stdout",
     "output_type": "stream",
     "text": [
      "skipped semisupervised-manglish/output-wav/Mamak-Sessions-Ep6---Names-People-Always-Mispronounce-&-Facebook-Is-A-Spy-8LuihYdx0FQ.mp3-part-298.wav\n"
     ]
    },
    {
     "name": "stderr",
     "output_type": "stream",
     "text": [
      "\r",
      " 58%|█████▊    | 75685/130662 [31:24<14:26, 63.46it/s]"
     ]
    },
    {
     "name": "stdout",
     "output_type": "stream",
     "text": [
      "skipped semisupervised-manglish/output-wav/Mamak-Sessions---Quitting-The-Medical-Line-To-Make-People-Laugh-ft-Dr.-Jason-Leong-FcD9MpeWqEI.mp3-part-221.wav\n"
     ]
    },
    {
     "name": "stderr",
     "output_type": "stream",
     "text": [
      " 58%|█████▊    | 75796/130662 [31:26<19:15, 47.50it/s]"
     ]
    },
    {
     "name": "stdout",
     "output_type": "stream",
     "text": [
      "skipped semisupervised-manglish/output-wav/Dance-Moves-To-Pick-Up-Girls-At-The-Club-With-Adidas-Creator-Maybelline-Wong-(@definitelyMayb_)-vRnkHzyyBc4.mp3-part-64.wav\n"
     ]
    },
    {
     "name": "stderr",
     "output_type": "stream",
     "text": [
      " 58%|█████▊    | 75988/130662 [31:30<15:08, 60.17it/s]"
     ]
    },
    {
     "name": "stdout",
     "output_type": "stream",
     "text": [
      "skipped semisupervised-manglish/output-wav/The-Fashion-Weak-Podcast-Ep-39---Talking-Turn-On's-and-Fashion-Bulk-Buy-Deals-With-Tata-Wanqian-WSVo-qvu1GQ.mp3-part-602.wav\n"
     ]
    },
    {
     "name": "stderr",
     "output_type": "stream",
     "text": [
      " 58%|█████▊    | 76033/130662 [31:30<13:07, 69.34it/s]"
     ]
    },
    {
     "name": "stdout",
     "output_type": "stream",
     "text": [
      "skipped semisupervised-manglish/output-wav/Mamak-Sessions---From-A-Transport-Assistant-to-a-Multi-Award-Winning-Film-Director-r6f3OoHVkgU.mp3-part-244.wav\n"
     ]
    },
    {
     "name": "stderr",
     "output_type": "stream",
     "text": [
      " 58%|█████▊    | 76082/130662 [31:31<14:57, 60.80it/s]"
     ]
    },
    {
     "name": "stdout",
     "output_type": "stream",
     "text": [
      "skipped semisupervised-manglish/output-wav/Mamak-Sessions---Getting-Married-in-Vegas,-and-Sugar-Babies-ft.-Dennis-Yin-Cq6Yjwsu63U.mp3-part-21.wav\n"
     ]
    },
    {
     "name": "stderr",
     "output_type": "stream",
     "text": [
      " 58%|█████▊    | 76148/130662 [31:33<19:41, 46.14it/s]"
     ]
    },
    {
     "name": "stdout",
     "output_type": "stream",
     "text": [
      "skipped semisupervised-manglish/output-wav/The-Fashion-Weak-Podcast-Ep24---Penang-Boys-@tunway-瘦虎-&-@Shawnduabui-肥龍-Talk-Zap-Fan-&-Sneakers-dykz_vuzJh0.mp3-part-835.wav\n"
     ]
    },
    {
     "name": "stderr",
     "output_type": "stream",
     "text": [
      " 58%|█████▊    | 76382/130662 [31:37<14:23, 62.89it/s]"
     ]
    },
    {
     "name": "stdout",
     "output_type": "stream",
     "text": [
      "skipped semisupervised-manglish/output-wav/The-Fashion-Weak-Podcast-EP14---Faking-it-on-the-gram-and-faking-Gasms-with-Sandra-Woo-(@sandrawooo)--XwvfCTnseI.mp3-part-83.wav\n"
     ]
    },
    {
     "name": "stderr",
     "output_type": "stream",
     "text": [
      " 58%|█████▊    | 76413/130662 [31:38<15:38, 57.78it/s]"
     ]
    },
    {
     "name": "stdout",
     "output_type": "stream",
     "text": [
      "skipped semisupervised-manglish/output-wav/Mamak-Sessions---Getting-Married-in-Vegas,-and-Sugar-Babies-ft.-Dennis-Yin-Cq6Yjwsu63U.mp3-part-295.wav\n"
     ]
    },
    {
     "name": "stderr",
     "output_type": "stream",
     "text": [
      " 59%|█████▊    | 76634/130662 [31:41<13:38, 66.05it/s]"
     ]
    },
    {
     "name": "stdout",
     "output_type": "stream",
     "text": [
      "skipped semisupervised-manglish/output-wav/The-Fashion-Weak-Podcast-Ep-30---On-her-way-to-Supermodel-dom,-ASNTM--Cycle-5-Runner-Up-@shikingomez-otK3Gl_XX4c.mp3-part-469.wav\n"
     ]
    },
    {
     "name": "stderr",
     "output_type": "stream",
     "text": [
      " 59%|█████▊    | 76745/130662 [31:43<14:15, 63.05it/s]"
     ]
    },
    {
     "name": "stdout",
     "output_type": "stream",
     "text": [
      "skipped semisupervised-manglish/output-wav/The-Fashion-Weak-Podcast-Ep-30---On-her-way-to-Supermodel-dom,-ASNTM--Cycle-5-Runner-Up-@shikingomez-otK3Gl_XX4c.mp3-part-492.wav\n",
      "skipped semisupervised-manglish/output-wav/@Juanitadr-shows-us-what-Arnold's-Tongue-Can-Do---The-Fashion-Weak-Podcast-Episode-10-N5EfPvQKW90.mp3-part-317.wav\n"
     ]
    },
    {
     "name": "stderr",
     "output_type": "stream",
     "text": [
      " 59%|█████▉    | 76774/130662 [31:44<16:47, 53.49it/s]"
     ]
    },
    {
     "name": "stdout",
     "output_type": "stream",
     "text": [
      "skipped semisupervised-manglish/output-wav/The-Fashion-Weak-Podcast-EP-27----Peter-Davis-talks-cars,-mixed-rice-and-some-fashion.-rxmMRAzLRJ0.mp3-part-667.wav\n",
      "skipped semisupervised-manglish/output-wav/Mamak-Sessions-Ep2---Bringing-A-Girl-Home-For-The-First-Time-Jn2oeTajYCw.mp3-part-157.wav\n"
     ]
    },
    {
     "name": "stderr",
     "output_type": "stream",
     "text": [
      " 59%|█████▉    | 76833/130662 [31:45<14:16, 62.81it/s]"
     ]
    },
    {
     "name": "stdout",
     "output_type": "stream",
     "text": [
      "skipped semisupervised-manglish/output-wav/The-Fashion-Weak-Podcast-Ep35---Is-New-Balance-Cool-Now-Talking-everything-NOT-Nike-with-@adlysyairi-3b0bYe36KNE.mp3-part-704.wav\n"
     ]
    },
    {
     "name": "stderr",
     "output_type": "stream",
     "text": [
      " 59%|█████▉    | 76885/130662 [31:46<13:56, 64.25it/s]"
     ]
    },
    {
     "name": "stdout",
     "output_type": "stream",
     "text": [
      "skipped semisupervised-manglish/output-wav/Mamak-Sessions---Are-Social-Media-Influencers-Entitled-ZJ8jw3C9vB8.mp3-part-108.wav\n"
     ]
    },
    {
     "name": "stderr",
     "output_type": "stream",
     "text": [
      "\r",
      " 59%|█████▉    | 76893/130662 [31:46<13:12, 67.81it/s]"
     ]
    },
    {
     "name": "stdout",
     "output_type": "stream",
     "text": [
      "skipped semisupervised-manglish/output-wav/Mamak-Sessions---Coming-Out-ft.-Nigel-Chin-and-Magnum-79ax7ZQss5M.mp3-part-39.wav\n"
     ]
    },
    {
     "name": "stderr",
     "output_type": "stream",
     "text": [
      " 59%|█████▉    | 76957/130662 [31:47<17:22, 51.53it/s]"
     ]
    },
    {
     "name": "stdout",
     "output_type": "stream",
     "text": [
      "skipped semisupervised-manglish/output-wav/The-Fashion-Weak-Podcast-Ep-39---Talking-Turn-On's-and-Fashion-Bulk-Buy-Deals-With-Tata-Wanqian-WSVo-qvu1GQ.mp3-part-442.wav\n"
     ]
    },
    {
     "name": "stderr",
     "output_type": "stream",
     "text": [
      " 59%|█████▉    | 77051/130662 [31:49<15:57, 55.97it/s]"
     ]
    },
    {
     "name": "stdout",
     "output_type": "stream",
     "text": [
      "skipped semisupervised-manglish/output-wav/Burnout-in-the-Media-Industry-+-Passion-in-Theatre--_-Singaporean-Podcast-#16-_-Rennes-Lee-f7qEqPNzGk8.mp3-part-268.wav\n",
      "skipped semisupervised-manglish/output-wav/Exposed!-Our-Favourite-Night-Activity-We-Miss-The-Most!-_-The-Thirsty-Sisters-#5-TxeBIVuXRHM.mp3-part-31.wav\n"
     ]
    },
    {
     "name": "stderr",
     "output_type": "stream",
     "text": [
      " 59%|█████▉    | 77108/130662 [31:50<13:52, 64.32it/s]"
     ]
    },
    {
     "name": "stdout",
     "output_type": "stream",
     "text": [
      "skipped semisupervised-manglish/output-wav/The-Fashion-Weak-Podcast-Ep24---Penang-Boys-@tunway-瘦虎-&-@Shawnduabui-肥龍-Talk-Zap-Fan-&-Sneakers-dykz_vuzJh0.mp3-part-620.wav\n"
     ]
    },
    {
     "name": "stderr",
     "output_type": "stream",
     "text": [
      " 59%|█████▉    | 77179/130662 [31:51<13:56, 63.97it/s]"
     ]
    },
    {
     "name": "stdout",
     "output_type": "stream",
     "text": [
      "skipped semisupervised-manglish/output-wav/The-Fashion-Weak-Podcast-Ep-40---tdcjTfzYSbk.mp3-part-94.wav\n",
      "skipped semisupervised-manglish/output-wav/Mamak-Sessions---Can-Guys-And-Girls-Be-Best-Friends-Is-it-ok-to-see-more-than-one-person-at-a-time-IixUPM11VMY.mp3-part-79.wav\n",
      "skipped semisupervised-manglish/output-wav/The-Fashion-Weak-Podcast-Ep-29---Valentines-Day-With-Becca-Lee-and-Leonard-Chua-UWm1ESejkzs.mp3-part-305.wav\n"
     ]
    },
    {
     "name": "stderr",
     "output_type": "stream",
     "text": [
      " 59%|█████▉    | 77232/130662 [31:52<15:02, 59.20it/s]"
     ]
    },
    {
     "name": "stdout",
     "output_type": "stream",
     "text": [
      "skipped semisupervised-manglish/output-wav/The-Fashion-Weak-Podcast-Ep24---Penang-Boys-@tunway-瘦虎-&-@Shawnduabui-肥龍-Talk-Zap-Fan-&-Sneakers-dykz_vuzJh0.mp3-part-673.wav\n",
      "skipped semisupervised-manglish/output-wav/The-Fashion-Weak-Podcast-Ep-43---Thirst-Trapping-Simps-&-Loving-Your-Body-From-The-Outside-In-6R87P6YD2c4.mp3-part-679.wav\n"
     ]
    },
    {
     "name": "stderr",
     "output_type": "stream",
     "text": [
      " 59%|█████▉    | 77247/130662 [31:53<14:09, 62.86it/s]"
     ]
    },
    {
     "name": "stdout",
     "output_type": "stream",
     "text": [
      "skipped semisupervised-manglish/output-wav/How-To-Be-A-Damn-Good-Software-Developer-+-Israel-Startup-Culture-_-Singaporean-Podcast-#11-_-Mark-cs2LkcSpNpw.mp3-part-74.wav\n"
     ]
    },
    {
     "name": "stderr",
     "output_type": "stream",
     "text": [
      " 59%|█████▉    | 77275/130662 [31:53<13:54, 63.97it/s]"
     ]
    },
    {
     "name": "stdout",
     "output_type": "stream",
     "text": [
      "skipped semisupervised-manglish/output-wav/The-Fashion-Weak-Podcast-EP16---Podcast-Wars-With-The-From-The-Thread-Boys-7dPzh9PpLs8.mp3-part-442.wav\n"
     ]
    },
    {
     "name": "stderr",
     "output_type": "stream",
     "text": [
      " 59%|█████▉    | 77316/130662 [31:54<16:40, 53.32it/s]"
     ]
    },
    {
     "name": "stdout",
     "output_type": "stream",
     "text": [
      "skipped semisupervised-manglish/output-wav/Butts-and-D_ck-Pics,-MILF-Hunting-Part-2-With-Nor-Soraya---The-Fashion-Weak-Podcast-Episode-5-NCiDUw4mQgE.mp3-part-135.wav\n"
     ]
    },
    {
     "name": "stderr",
     "output_type": "stream",
     "text": [
      " 59%|█████▉    | 77372/130662 [31:55<13:46, 64.44it/s]"
     ]
    },
    {
     "name": "stdout",
     "output_type": "stream",
     "text": [
      "skipped semisupervised-manglish/output-wav/Mamak-Sessions---Can-Guys-And-Girls-Be-Best-Friends-Is-it-ok-to-see-more-than-one-person-at-a-time-IixUPM11VMY.mp3-part-252.wav\n"
     ]
    },
    {
     "name": "stderr",
     "output_type": "stream",
     "text": [
      " 59%|█████▉    | 77556/130662 [31:58<13:12, 66.99it/s]"
     ]
    },
    {
     "name": "stdout",
     "output_type": "stream",
     "text": [
      "skipped semisupervised-manglish/output-wav/The-Fashion-Weak-Podcast-Ep-23---Alicia-Amin-On-Being-A-'Malay'-Model-In-2019-3pKA5NvTCOA.mp3-part-405.wav\n",
      "skipped semisupervised-manglish/output-wav/The-Fashion-Weak-Podcast-EP-27----Peter-Davis-talks-cars,-mixed-rice-and-some-fashion.-rxmMRAzLRJ0.mp3-part-421.wav\n"
     ]
    },
    {
     "name": "stderr",
     "output_type": "stream",
     "text": [
      " 59%|█████▉    | 77577/130662 [31:59<19:14, 45.98it/s]"
     ]
    },
    {
     "name": "stdout",
     "output_type": "stream",
     "text": [
      "skipped semisupervised-manglish/output-wav/Butts-and-D_ck-Pics,-MILF-Hunting-Part-2-With-Nor-Soraya---The-Fashion-Weak-Podcast-Episode-5-NCiDUw4mQgE.mp3-part-88.wav\n"
     ]
    },
    {
     "name": "stderr",
     "output_type": "stream",
     "text": [
      " 59%|█████▉    | 77600/130662 [31:59<14:45, 59.95it/s]"
     ]
    },
    {
     "name": "stdout",
     "output_type": "stream",
     "text": [
      "skipped semisupervised-manglish/output-wav/Being-Bullied,-Toxic-Masculinity-And-Theatre-_-HTHT---Fauzi-Aziz-6syqXC_o6gs.mp3-part-347.wav\n"
     ]
    },
    {
     "name": "stderr",
     "output_type": "stream",
     "text": [
      " 59%|█████▉    | 77623/130662 [31:59<13:52, 63.74it/s]"
     ]
    },
    {
     "name": "stdout",
     "output_type": "stream",
     "text": [
      "skipped semisupervised-manglish/output-wav/The-Fashion-Weak-Podcast-EP-41---Investment-Tips-For-Chee-Seng-With-Fuad-&-Shaq-From-Kyoto-Protocol-eWNQhDNoSsY.mp3-part-614.wav\n"
     ]
    },
    {
     "name": "stderr",
     "output_type": "stream",
     "text": [
      " 59%|█████▉    | 77701/130662 [32:01<15:58, 55.26it/s]"
     ]
    },
    {
     "name": "stdout",
     "output_type": "stream",
     "text": [
      "skipped semisupervised-manglish/output-wav/The-Fashion-Weak-Podcast-Ep-43---Thirst-Trapping-Simps-&-Loving-Your-Body-From-The-Outside-In-6R87P6YD2c4.mp3-part-224.wav\n"
     ]
    },
    {
     "name": "stderr",
     "output_type": "stream",
     "text": [
      " 60%|█████▉    | 77779/130662 [32:02<14:22, 61.29it/s]"
     ]
    },
    {
     "name": "stdout",
     "output_type": "stream",
     "text": [
      "skipped semisupervised-manglish/output-wav/Why-Enneagram-Will-Change-Your-Perspective-On-ALL-Relationships-Forever-_-Cindy-Leong-_-SG-Podcast-cSxV6oacgaE.mp3-part-480.wav\n"
     ]
    },
    {
     "name": "stderr",
     "output_type": "stream",
     "text": [
      " 60%|█████▉    | 77794/130662 [32:02<13:16, 66.37it/s]"
     ]
    },
    {
     "name": "stdout",
     "output_type": "stream",
     "text": [
      "skipped semisupervised-manglish/output-wav/Mamak-Sessions-Ep6---Names-People-Always-Mispronounce-&-Facebook-Is-A-Spy-8LuihYdx0FQ.mp3-part-387.wav\n"
     ]
    },
    {
     "name": "stderr",
     "output_type": "stream",
     "text": [
      " 60%|█████▉    | 77822/130662 [32:03<16:34, 53.12it/s]"
     ]
    },
    {
     "name": "stdout",
     "output_type": "stream",
     "text": [
      "skipped semisupervised-manglish/output-wav/The-Fashion-Weak-Podcast-Ep24---Penang-Boys-@tunway-瘦虎-&-@Shawnduabui-肥龍-Talk-Zap-Fan-&-Sneakers-dykz_vuzJh0.mp3-part-73.wav\n"
     ]
    },
    {
     "name": "stderr",
     "output_type": "stream",
     "text": [
      " 60%|█████▉    | 77873/130662 [32:04<14:11, 61.98it/s]"
     ]
    },
    {
     "name": "stdout",
     "output_type": "stream",
     "text": [
      "skipped semisupervised-manglish/output-wav/The-Fashion-Weak-Podcast-Ep-33---Lingerie-&-Bikini-Talk-With-Talitha-Tan-(@talithabe)-_7Un0q6a9zg.mp3-part-85.wav\n"
     ]
    },
    {
     "name": "stderr",
     "output_type": "stream",
     "text": [
      " 60%|█████▉    | 77951/130662 [32:05<13:54, 63.19it/s]"
     ]
    },
    {
     "name": "stdout",
     "output_type": "stream",
     "text": [
      "skipped semisupervised-manglish/output-wav/Mamak-Sessions---Getting-Married-in-Vegas,-and-Sugar-Babies-ft.-Dennis-Yin-Cq6Yjwsu63U.mp3-part-88.wav\n"
     ]
    },
    {
     "name": "stderr",
     "output_type": "stream",
     "text": [
      " 60%|█████▉    | 77974/130662 [32:05<13:55, 63.08it/s]"
     ]
    },
    {
     "name": "stdout",
     "output_type": "stream",
     "text": [
      "skipped semisupervised-manglish/output-wav/If-the-girl-is-not-interested,-go-for-her-Mom.-Or-her-Aunt---The-Fashion-Weak-Podcast-Ep6-aa5r9pws0AI.mp3-part-208.wav\n"
     ]
    },
    {
     "name": "stderr",
     "output_type": "stream",
     "text": [
      " 60%|█████▉    | 78010/130662 [32:06<15:38, 56.10it/s]"
     ]
    },
    {
     "name": "stdout",
     "output_type": "stream",
     "text": [
      "skipped semisupervised-manglish/output-wav/The-Fashion-Weak-Podcast-Ep-46---Premium-Thirst-Trap-Tips-With-Michelle-Lee-(@mich8lee)-MCHDyLJDJrg.mp3-part-334.wav\n"
     ]
    },
    {
     "name": "stderr",
     "output_type": "stream",
     "text": [
      " 60%|█████▉    | 78032/130662 [32:07<14:07, 62.08it/s]"
     ]
    },
    {
     "name": "stdout",
     "output_type": "stream",
     "text": [
      "skipped semisupervised-manglish/output-wav/Mamak-Sessions-Ep6---Names-People-Always-Mispronounce-&-Facebook-Is-A-Spy-8LuihYdx0FQ.mp3-part-394.wav\n"
     ]
    },
    {
     "name": "stderr",
     "output_type": "stream",
     "text": [
      " 60%|█████▉    | 78053/130662 [32:07<13:37, 64.32it/s]"
     ]
    },
    {
     "name": "stdout",
     "output_type": "stream",
     "text": [
      "skipped semisupervised-manglish/output-wav/Why-Human-Resources-Matters-+-Life-as-a-Singapore-Solopreneur-_-Lauren-Ong-_-Singaporean-Podcast-#20-YtCn4hNLk7o.mp3-part-282.wav\n"
     ]
    },
    {
     "name": "stderr",
     "output_type": "stream",
     "text": [
      " 60%|█████▉    | 78089/130662 [32:08<16:55, 51.78it/s]"
     ]
    },
    {
     "name": "stdout",
     "output_type": "stream",
     "text": [
      "skipped semisupervised-manglish/output-wav/The-Fashion-Weak-Podcast-Ep-31----Possibly-Our-Most-NSFW-Episode-Yet-With-@vikarworld-xMm23vU8_og.mp3-part-573.wav\n",
      "skipped semisupervised-manglish/output-wav/Mamak-Sessions-Ep6---Names-People-Always-Mispronounce-&-Facebook-Is-A-Spy-8LuihYdx0FQ.mp3-part-228.wav\n"
     ]
    },
    {
     "name": "stderr",
     "output_type": "stream",
     "text": [
      " 60%|█████▉    | 78103/130662 [32:08<14:59, 58.43it/s]"
     ]
    },
    {
     "name": "stdout",
     "output_type": "stream",
     "text": [
      "skipped semisupervised-manglish/output-wav/The-Fashion-Weak-Podcast-Ep-38---TikTok-Royalty-Roshan-Jeet-aka-Roshannnn1-lPnRg9UsP0M.mp3-part-334.wav\n",
      "skipped semisupervised-manglish/output-wav/The-Fashion-Weak-Podcast-Ep-46---Premium-Thirst-Trap-Tips-With-Michelle-Lee-(@mich8lee)-MCHDyLJDJrg.mp3-part-939.wav\n"
     ]
    },
    {
     "name": "stderr",
     "output_type": "stream",
     "text": [
      " 60%|█████▉    | 78126/130662 [32:08<13:35, 64.39it/s]"
     ]
    },
    {
     "name": "stdout",
     "output_type": "stream",
     "text": [
      "skipped semisupervised-manglish/output-wav/The-Fashion-Weak-Podcast-EP16---Podcast-Wars-With-The-From-The-Thread-Boys-7dPzh9PpLs8.mp3-part-81.wav\n",
      "skipped semisupervised-manglish/output-wav/Skin-Care-Routines,-Death,-Life-Purpose-and-More-_-Singaporean-Trio-Podcast-#2-6yW185RJkGw.mp3-part-89.wav\n"
     ]
    },
    {
     "name": "stderr",
     "output_type": "stream",
     "text": [
      " 60%|█████▉    | 78192/130662 [32:09<15:09, 57.69it/s]"
     ]
    },
    {
     "name": "stdout",
     "output_type": "stream",
     "text": [
      "skipped semisupervised-manglish/output-wav/Dance-Moves-To-Pick-Up-Girls-At-The-Club-With-Adidas-Creator-Maybelline-Wong-(@definitelyMayb_)-vRnkHzyyBc4.mp3-part-184.wav\n"
     ]
    },
    {
     "name": "stderr",
     "output_type": "stream",
     "text": [
      " 60%|█████▉    | 78221/130662 [32:10<14:57, 58.46it/s]"
     ]
    },
    {
     "name": "stdout",
     "output_type": "stream",
     "text": [
      "skipped semisupervised-manglish/output-wav/Tips-For-Being-In-The-Media-Industry-(ft.-Neo-Kee-Wei)-_-IMO-Ep.18-TqLaI2X4jj0.mp3-part-104.wav\n"
     ]
    },
    {
     "name": "stderr",
     "output_type": "stream",
     "text": [
      " 60%|█████▉    | 78243/130662 [32:10<13:33, 64.43it/s]"
     ]
    },
    {
     "name": "stdout",
     "output_type": "stream",
     "text": [
      "skipped semisupervised-manglish/output-wav/Mamak-Sessions-Ep6---Names-People-Always-Mispronounce-&-Facebook-Is-A-Spy-8LuihYdx0FQ.mp3-part-406.wav\n"
     ]
    },
    {
     "name": "stderr",
     "output_type": "stream",
     "text": [
      " 60%|█████▉    | 78289/130662 [32:11<15:56, 54.77it/s]"
     ]
    },
    {
     "name": "stdout",
     "output_type": "stream",
     "text": [
      "skipped semisupervised-manglish/output-wav/Dance-Moves-To-Pick-Up-Girls-At-The-Club-With-Adidas-Creator-Maybelline-Wong-(@definitelyMayb_)-vRnkHzyyBc4.mp3-part-133.wav\n",
      "skipped semisupervised-manglish/output-wav/The-Fashion-Weak-Podcast-EP-27----Peter-Davis-talks-cars,-mixed-rice-and-some-fashion.-rxmMRAzLRJ0.mp3-part-247.wav\n",
      "skipped semisupervised-manglish/output-wav/The-Fashion-Weak-Podcast-Ep-23---Alicia-Amin-On-Being-A-'Malay'-Model-In-2019-3pKA5NvTCOA.mp3-part-0.wav\n",
      "skipped semisupervised-manglish/output-wav/How-To-Be-A-Damn-Good-Software-Developer-+-Israel-Startup-Culture-_-Singaporean-Podcast-#11-_-Mark-cs2LkcSpNpw.mp3-part-249.wav\n"
     ]
    },
    {
     "name": "stderr",
     "output_type": "stream",
     "text": [
      " 60%|█████▉    | 78319/130662 [32:11<13:32, 64.40it/s]"
     ]
    },
    {
     "name": "stdout",
     "output_type": "stream",
     "text": [
      "skipped semisupervised-manglish/output-wav/The-Fashion-Weak-Podcast-Ep-43A---Keeping-Fair-On-The-Fairway-With-Natalia-Ng-CSP1XPZu4YY.mp3-part-59.wav\n"
     ]
    },
    {
     "name": "stderr",
     "output_type": "stream",
     "text": [
      " 60%|█████▉    | 78340/130662 [32:12<13:13, 65.96it/s]"
     ]
    },
    {
     "name": "stdout",
     "output_type": "stream",
     "text": [
      "skipped semisupervised-manglish/output-wav/The-Fashion-Weak-Podcast-EP-41---Investment-Tips-For-Chee-Seng-With-Fuad-&-Shaq-From-Kyoto-Protocol-eWNQhDNoSsY.mp3-part-141.wav\n"
     ]
    },
    {
     "name": "stderr",
     "output_type": "stream",
     "text": [
      " 60%|██████    | 78573/130662 [32:16<14:51, 58.40it/s]"
     ]
    },
    {
     "name": "stdout",
     "output_type": "stream",
     "text": [
      "skipped semisupervised-manglish/output-wav/The-Fashion-Weak-Podcast-EP16---Podcast-Wars-With-The-From-The-Thread-Boys-7dPzh9PpLs8.mp3-part-478.wav\n"
     ]
    },
    {
     "name": "stderr",
     "output_type": "stream",
     "text": [
      " 60%|██████    | 78609/130662 [32:17<13:54, 62.38it/s]"
     ]
    },
    {
     "name": "stdout",
     "output_type": "stream",
     "text": [
      "skipped semisupervised-manglish/output-wav/Bend-Over!-Or-Pay-Sit-Forward!-We-Create-Our-Own-Movements!-_-The-Thirsty-Sisters-#3-ekKcn3QCU5E.mp3-part-133.wav\n",
      "skipped semisupervised-manglish/output-wav/Mamak-Sessions---Airing-Dirty-Laundry-Online-and-Social-Justice-Warriors-FFtFXiIgsyk.mp3-part-198.wav\n"
     ]
    },
    {
     "name": "stderr",
     "output_type": "stream",
     "text": [
      " 60%|██████    | 78650/130662 [32:18<16:35, 52.27it/s]"
     ]
    },
    {
     "name": "stdout",
     "output_type": "stream",
     "text": [
      "skipped semisupervised-manglish/output-wav/Are-We-Still-Sexualising-Women-in-2020-_-Thirsty-Sisters-#13-zHC1MPeSP34.mp3-part-533.wav\n"
     ]
    },
    {
     "name": "stderr",
     "output_type": "stream",
     "text": [
      " 60%|██████    | 78741/130662 [32:19<16:23, 52.79it/s]"
     ]
    },
    {
     "name": "stdout",
     "output_type": "stream",
     "text": [
      "skipped semisupervised-manglish/output-wav/Mamak-Sessions---From-A-Transport-Assistant-to-a-Multi-Award-Winning-Film-Director-r6f3OoHVkgU.mp3-part-390.wav\n"
     ]
    },
    {
     "name": "stderr",
     "output_type": "stream",
     "text": [
      " 60%|██████    | 78768/130662 [32:20<14:29, 59.68it/s]"
     ]
    },
    {
     "name": "stdout",
     "output_type": "stream",
     "text": [
      "skipped semisupervised-manglish/output-wav/Are-We-Still-Sexualising-Women-in-2020-_-Thirsty-Sisters-#13-zHC1MPeSP34.mp3-part-494.wav\n"
     ]
    },
    {
     "name": "stderr",
     "output_type": "stream",
     "text": [
      " 60%|██████    | 78836/130662 [32:21<14:46, 58.43it/s]"
     ]
    },
    {
     "name": "stdout",
     "output_type": "stream",
     "text": [
      "skipped semisupervised-manglish/output-wav/Conversations-With-A-Cancer-Survivor-ft-Jared-Lee-L2W4inT6j3c.mp3-part-142.wav\n"
     ]
    },
    {
     "name": "stderr",
     "output_type": "stream",
     "text": [
      " 60%|██████    | 78852/130662 [32:21<13:19, 64.77it/s]"
     ]
    },
    {
     "name": "stdout",
     "output_type": "stream",
     "text": [
      "skipped semisupervised-manglish/output-wav/Mamak-Sessions---From-Giving-Up,-To-Getting-A-NETFLIX-Special-Q54z0mutz5Q.mp3-part-136.wav\n"
     ]
    },
    {
     "name": "stderr",
     "output_type": "stream",
     "text": [
      " 60%|██████    | 78903/130662 [32:22<18:08, 47.57it/s]"
     ]
    },
    {
     "name": "stdout",
     "output_type": "stream",
     "text": [
      "skipped semisupervised-manglish/output-wav/Mamak-Sessions-Ep1---Girls-Are-Happier-With-Less-Attractive-Men,-And-The-Dramatic-Pizza-Order-2M8U_mxGbcw.mp3-part-171.wav\n"
     ]
    },
    {
     "name": "stderr",
     "output_type": "stream",
     "text": [
      " 60%|██████    | 78938/130662 [32:23<13:47, 62.47it/s]"
     ]
    },
    {
     "name": "stdout",
     "output_type": "stream",
     "text": [
      "skipped semisupervised-manglish/output-wav/Talking-Sneakers-&-Strong-Sperm-With-@bryanbotakchin---The-Fashion-Weak-Podcast-Episode-11-iugevNPFp2Y.mp3-part-174.wav\n"
     ]
    },
    {
     "name": "stderr",
     "output_type": "stream",
     "text": [
      " 61%|██████    | 79096/130662 [32:26<15:27, 55.63it/s]"
     ]
    },
    {
     "name": "stdout",
     "output_type": "stream",
     "text": [
      "skipped semisupervised-manglish/output-wav/Mamak-Sessions---Our-Differences-Is-What-Unites-Us-ft.-Elvin-Romeo-0jySfrZhs50.mp3-part-175.wav\n"
     ]
    },
    {
     "name": "stderr",
     "output_type": "stream",
     "text": [
      " 61%|██████    | 79127/130662 [32:26<13:39, 62.85it/s]"
     ]
    },
    {
     "name": "stdout",
     "output_type": "stream",
     "text": [
      "skipped semisupervised-manglish/output-wav/Life-After-NUS-Business-School-in-the-FMCG-Industry-_-Singaporean-Podcast-#4_-Leonard-Yap-ONUgGzCm00E.mp3-part-344.wav\n"
     ]
    },
    {
     "name": "stderr",
     "output_type": "stream",
     "text": [
      " 61%|██████    | 79169/130662 [32:27<18:27, 46.49it/s]"
     ]
    },
    {
     "name": "stdout",
     "output_type": "stream",
     "text": [
      "skipped semisupervised-manglish/output-wav/My-Ex-Husband-And-His-New-Puppy's-Mummy-_-The-Thirsty-Sisters-#26-RBShCX3-BtQ.mp3-part-16.wav\n"
     ]
    },
    {
     "name": "stderr",
     "output_type": "stream",
     "text": [
      " 61%|██████    | 79233/130662 [32:28<13:16, 64.57it/s]"
     ]
    },
    {
     "name": "stdout",
     "output_type": "stream",
     "text": [
      "skipped semisupervised-manglish/output-wav/Mamak-Sessions-Ep9---Sibling-Rivalry-ft-Julian-Yee-670FyeJhnps.mp3-part-181.wav\n"
     ]
    },
    {
     "name": "stderr",
     "output_type": "stream",
     "text": [
      " 61%|██████    | 79297/130662 [32:29<13:59, 61.18it/s]"
     ]
    },
    {
     "name": "stdout",
     "output_type": "stream",
     "text": [
      "skipped semisupervised-manglish/output-wav/My-Ex-Husband-And-His-New-Puppy's-Mummy-_-The-Thirsty-Sisters-#26-RBShCX3-BtQ.mp3-part-125.wav\n"
     ]
    },
    {
     "name": "stderr",
     "output_type": "stream",
     "text": [
      " 61%|██████    | 79334/130662 [32:30<12:24, 68.93it/s]"
     ]
    },
    {
     "name": "stdout",
     "output_type": "stream",
     "text": [
      "skipped semisupervised-manglish/output-wav/Mamak-Sessions---Quitting-The-Medical-Line-To-Make-People-Laugh-ft-Dr.-Jason-Leong-FcD9MpeWqEI.mp3-part-412.wav\n",
      "skipped semisupervised-manglish/output-wav/How-We-Deal-With-Hate!-_-The-Thirsty-Sisters-#7-O_rK97AUOIA.mp3-part-355.wav\n",
      "skipped semisupervised-manglish/output-wav/The-Fashion-Weak-Podcast-Ep-15---Underwear-Sneakers-&-Fruits-With-@OhZooey-HDuY9UdkkaE.mp3-part-79.wav\n",
      "skipped semisupervised-manglish/output-wav/Mamak-Sessions---Do-You-Check-Your-Partner's-Text-Messages-Featuring-Lizz-Chloe-WJkSAHvYyqk.mp3-part-295.wav\n"
     ]
    },
    {
     "name": "stderr",
     "output_type": "stream",
     "text": [
      " 61%|██████    | 79409/130662 [32:31<13:11, 64.73it/s]"
     ]
    },
    {
     "name": "stdout",
     "output_type": "stream",
     "text": [
      "skipped semisupervised-manglish/output-wav/Mamak-Sessions---From-Giving-Up,-To-Getting-A-NETFLIX-Special-Q54z0mutz5Q.mp3-part-627.wav\n",
      "skipped semisupervised-manglish/output-wav/Mamak-Sessions---Can-Guys-And-Girls-Be-Best-Friends-Is-it-ok-to-see-more-than-one-person-at-a-time-IixUPM11VMY.mp3-part-217.wav\n"
     ]
    },
    {
     "name": "stderr",
     "output_type": "stream",
     "text": [
      " 61%|██████    | 79466/130662 [32:33<16:03, 53.16it/s]"
     ]
    },
    {
     "name": "stdout",
     "output_type": "stream",
     "text": [
      "skipped semisupervised-manglish/output-wav/The-Fashion-Weak-Podcast-Ep-29---Valentines-Day-With-Becca-Lee-and-Leonard-Chua-UWm1ESejkzs.mp3-part-511.wav\n"
     ]
    },
    {
     "name": "stderr",
     "output_type": "stream",
     "text": [
      " 61%|██████    | 79565/130662 [32:34<14:03, 60.55it/s]"
     ]
    },
    {
     "name": "stdout",
     "output_type": "stream",
     "text": [
      "skipped semisupervised-manglish/output-wav/Become-a-Software-Developer-in-90-days-and-Running-His-Own-Company-_-Singaporean-Podcast-#8-_-Haris-HRd3RMQtkDs.mp3-part-131.wav\n",
      "skipped semisupervised-manglish/output-wav/The-Fashion-Weak-Podcast-EP-36---Why-guys-REALLY-go-for-spin-class-with-Oxygen-Cycle-RqG0tHR9D1g.mp3-part-479.wav\n"
     ]
    },
    {
     "name": "stderr",
     "output_type": "stream",
     "text": [
      " 61%|██████    | 79602/130662 [32:35<13:26, 63.31it/s]"
     ]
    },
    {
     "name": "stdout",
     "output_type": "stream",
     "text": [
      "skipped semisupervised-manglish/output-wav/Blessing-The-Pod,-Calling-Mofo's-OUT!-with-@soimjenn---The-Fashion-Weak-Podcast-Episode-7-xsjayMqoC0Y.mp3-part-162.wav\n",
      "skipped semisupervised-manglish/output-wav/The-Fashion-Weak-Podcast-Ep-43---Thirst-Trapping-Simps-&-Loving-Your-Body-From-The-Outside-In-6R87P6YD2c4.mp3-part-570.wav\n"
     ]
    },
    {
     "name": "stderr",
     "output_type": "stream",
     "text": [
      " 61%|██████    | 79675/130662 [32:36<13:14, 64.18it/s]"
     ]
    },
    {
     "name": "stdout",
     "output_type": "stream",
     "text": [
      "skipped semisupervised-manglish/output-wav/Mamak-Sessions---Should-You-Be-Spending-Crazily-For-Valentine's-Day-QLz7USNFnng.mp3-part-31.wav\n",
      "skipped semisupervised-manglish/output-wav/Mamak-Sessions-Ep10---Datuk-Nicol-David-is-RETIRING!-n3AR3nQEc7Y.mp3-part-222.wav\n"
     ]
    },
    {
     "name": "stderr",
     "output_type": "stream",
     "text": [
      " 61%|██████    | 79786/130662 [32:38<13:08, 64.53it/s]"
     ]
    },
    {
     "name": "stdout",
     "output_type": "stream",
     "text": [
      "skipped semisupervised-manglish/output-wav/Mamak-Sessions---The-Asian-Mom-Of-The-Internet-ft-Tata-Wyb6i3GoJv4.mp3-part-76.wav\n"
     ]
    },
    {
     "name": "stderr",
     "output_type": "stream",
     "text": [
      " 61%|██████    | 79801/130662 [32:39<18:03, 46.92it/s]"
     ]
    },
    {
     "name": "stdout",
     "output_type": "stream",
     "text": [
      "skipped semisupervised-manglish/output-wav/Mamak-Sessions-Podcast---How-Do-You-Handle-Long-Distance-Relationships-Do-they-WORK-m7mwwtsblIs.mp3-part-0.wav\n",
      "skipped semisupervised-manglish/output-wav/The-Fashion-Weak-Podcast-Ep-15---Underwear-Sneakers-&-Fruits-With-@OhZooey-HDuY9UdkkaE.mp3-part-117.wav\n"
     ]
    },
    {
     "name": "stderr",
     "output_type": "stream",
     "text": [
      " 61%|██████    | 79830/130662 [32:39<14:07, 59.96it/s]"
     ]
    },
    {
     "name": "stdout",
     "output_type": "stream",
     "text": [
      "skipped semisupervised-manglish/output-wav/Mamak-Sessions-Podcast---A-Dog-Was-Slashed-In-The-Mouth-And-Abused,-But-This-Kind-Soul-Saved-It-FNfbmh93DFo.mp3-part-222.wav\n"
     ]
    },
    {
     "name": "stderr",
     "output_type": "stream",
     "text": [
      " 61%|██████    | 79870/130662 [32:40<14:23, 58.85it/s]"
     ]
    },
    {
     "name": "stdout",
     "output_type": "stream",
     "text": [
      "skipped semisupervised-manglish/output-wav/Being-Bullied,-Toxic-Masculinity-And-Theatre-_-HTHT---Fauzi-Aziz-6syqXC_o6gs.mp3-part-28.wav\n"
     ]
    },
    {
     "name": "stderr",
     "output_type": "stream",
     "text": [
      " 61%|██████    | 79909/130662 [32:41<15:18, 55.28it/s]"
     ]
    },
    {
     "name": "stdout",
     "output_type": "stream",
     "text": [
      "skipped semisupervised-manglish/output-wav/I-Dated-A-Guy-Twice-My-Age-Our-First-Date-Don'ts-_-The-Thirsty-Sisters-#19-3-DoQSmz5aI.mp3-part-245.wav\n"
     ]
    },
    {
     "name": "stderr",
     "output_type": "stream",
     "text": [
      " 61%|██████    | 79972/130662 [32:42<19:06, 44.20it/s]"
     ]
    },
    {
     "name": "stdout",
     "output_type": "stream",
     "text": [
      "skipped semisupervised-manglish/output-wav/Mamak-Sessions---Getting-Married-in-Vegas,-and-Sugar-Babies-ft.-Dennis-Yin-Cq6Yjwsu63U.mp3-part-24.wav\n"
     ]
    },
    {
     "name": "stderr",
     "output_type": "stream",
     "text": [
      " 61%|██████    | 80030/130662 [32:43<12:37, 66.81it/s]"
     ]
    },
    {
     "name": "stdout",
     "output_type": "stream",
     "text": [
      "skipped semisupervised-manglish/output-wav/The-Fashion-Weak-Podcast-Ep-40---tdcjTfzYSbk.mp3-part-1107.wav\n",
      "skipped semisupervised-manglish/output-wav/Mamak-Sessions---Quitting-The-Medical-Line-To-Make-People-Laugh-ft-Dr.-Jason-Leong-FcD9MpeWqEI.mp3-part-257.wav\n",
      "skipped semisupervised-manglish/output-wav/Burnout-in-the-Media-Industry-+-Passion-in-Theatre--_-Singaporean-Podcast-#16-_-Rennes-Lee-f7qEqPNzGk8.mp3-part-48.wav\n"
     ]
    },
    {
     "name": "stderr",
     "output_type": "stream",
     "text": [
      " 61%|██████▏   | 80078/130662 [32:44<16:15, 51.87it/s]"
     ]
    },
    {
     "name": "stdout",
     "output_type": "stream",
     "text": [
      "skipped semisupervised-manglish/output-wav/Real-Estate-Major-+-NUS-Overseas-College-in-Beijing-_-Singaporean-Podcast-#7-_-Danial-Arun-5SOInBKNP18.mp3-part-432.wav\n"
     ]
    },
    {
     "name": "stderr",
     "output_type": "stream",
     "text": [
      " 61%|██████▏   | 80225/130662 [32:46<12:17, 68.43it/s]"
     ]
    },
    {
     "name": "stdout",
     "output_type": "stream",
     "text": [
      "skipped semisupervised-manglish/output-wav/Do-You-Know-Your-Attachment-Style!-_-The-Thirsty-Sisters-#21-HKnXUGo_H2U.mp3-part-67.wav\n",
      "skipped semisupervised-manglish/output-wav/8-Wheels-Vs-4-Wheels-With-Sukeats-From-Wheel-Love---The-Fashion-Weak-Podcast-ep-12-fgaCmnMdZ0c.mp3-part-2.wav\n"
     ]
    },
    {
     "name": "stderr",
     "output_type": "stream",
     "text": [
      " 61%|██████▏   | 80325/130662 [32:48<13:03, 64.24it/s]"
     ]
    },
    {
     "name": "stdout",
     "output_type": "stream",
     "text": [
      "skipped semisupervised-manglish/output-wav/Being-Bullied,-Toxic-Masculinity-And-Theatre-_-HTHT---Fauzi-Aziz-6syqXC_o6gs.mp3-part-178.wav\n"
     ]
    },
    {
     "name": "stderr",
     "output_type": "stream",
     "text": [
      " 62%|██████▏   | 80379/130662 [32:49<14:15, 58.80it/s]"
     ]
    },
    {
     "name": "stdout",
     "output_type": "stream",
     "text": [
      "skipped semisupervised-manglish/output-wav/Mamak-Sessions---Airing-Dirty-Laundry-Online-and-Social-Justice-Warriors-FFtFXiIgsyk.mp3-part-142.wav\n"
     ]
    },
    {
     "name": "stderr",
     "output_type": "stream",
     "text": [
      " 62%|██████▏   | 80438/130662 [32:50<17:45, 47.15it/s]"
     ]
    },
    {
     "name": "stdout",
     "output_type": "stream",
     "text": [
      "skipped semisupervised-manglish/output-wav/Blessing-The-Pod,-Calling-Mofo's-OUT!-with-@soimjenn---The-Fashion-Weak-Podcast-Episode-7-xsjayMqoC0Y.mp3-part-20.wav\n"
     ]
    },
    {
     "name": "stderr",
     "output_type": "stream",
     "text": [
      " 62%|██████▏   | 80536/130662 [32:52<14:57, 55.84it/s]"
     ]
    },
    {
     "name": "stdout",
     "output_type": "stream",
     "text": [
      "skipped semisupervised-manglish/output-wav/Mamak-Sessions-Ep6---Names-People-Always-Mispronounce-&-Facebook-Is-A-Spy-8LuihYdx0FQ.mp3-part-192.wav\n"
     ]
    },
    {
     "name": "stderr",
     "output_type": "stream",
     "text": [
      " 62%|██████▏   | 80594/130662 [32:53<12:59, 64.23it/s]"
     ]
    },
    {
     "name": "stdout",
     "output_type": "stream",
     "text": [
      "skipped semisupervised-manglish/output-wav/Why-Blockchain-&-Crypo-Matters-_-Singaporean-Podcast-#15-_-Royal-Pek--2d7wzvNOCE.mp3-part-485.wav\n",
      "skipped semisupervised-manglish/output-wav/Mamak-Sessions-Ep6---Names-People-Always-Mispronounce-&-Facebook-Is-A-Spy-8LuihYdx0FQ.mp3-part-400.wav\n"
     ]
    },
    {
     "name": "stderr",
     "output_type": "stream",
     "text": [
      " 62%|██████▏   | 80621/130662 [32:54<15:32, 53.66it/s]"
     ]
    },
    {
     "name": "stdout",
     "output_type": "stream",
     "text": [
      "skipped semisupervised-manglish/output-wav/The-Fashion-Weak-Podcast-Ep-29---Valentines-Day-With-Becca-Lee-and-Leonard-Chua-UWm1ESejkzs.mp3-part-609.wav\n",
      "skipped semisupervised-manglish/output-wav/Mamak-Sessions-Ep10---Datuk-Nicol-David-is-RETIRING!-n3AR3nQEc7Y.mp3-part-5.wav\n"
     ]
    },
    {
     "name": "stderr",
     "output_type": "stream",
     "text": [
      " 62%|██████▏   | 80664/130662 [32:54<13:09, 63.36it/s]"
     ]
    },
    {
     "name": "stdout",
     "output_type": "stream",
     "text": [
      "skipped semisupervised-manglish/output-wav/The-Fashion-Weak-Podcast-EP-27----Peter-Davis-talks-cars,-mixed-rice-and-some-fashion.-rxmMRAzLRJ0.mp3-part-786.wav\n"
     ]
    },
    {
     "name": "stderr",
     "output_type": "stream",
     "text": [
      " 62%|██████▏   | 80731/130662 [32:55<13:28, 61.73it/s]"
     ]
    },
    {
     "name": "stdout",
     "output_type": "stream",
     "text": [
      "skipped semisupervised-manglish/output-wav/Overcoming-Depression-&-Redefining-What-Failure-Means-to-Youths_-Singaporean-Podcast-#10-_-Kevin-Wee-rjjK4aAbKnw.mp3-part-297.wav\n"
     ]
    },
    {
     "name": "stderr",
     "output_type": "stream",
     "text": [
      " 62%|██████▏   | 80833/130662 [32:57<13:41, 60.63it/s]"
     ]
    },
    {
     "name": "stdout",
     "output_type": "stream",
     "text": [
      "skipped semisupervised-manglish/output-wav/Dance-Moves-To-Pick-Up-Girls-At-The-Club-With-Adidas-Creator-Maybelline-Wong-(@definitelyMayb_)-vRnkHzyyBc4.mp3-part-202.wav\n"
     ]
    },
    {
     "name": "stderr",
     "output_type": "stream",
     "text": [
      " 62%|██████▏   | 80855/130662 [32:58<13:08, 63.20it/s]"
     ]
    },
    {
     "name": "stdout",
     "output_type": "stream",
     "text": [
      "skipped semisupervised-manglish/output-wav/Mamak-Sessions---How-I-Got-Quarantined-Because-Of-Covid-19-Feat.-Mark-O'Dea-5zAsyNKfzps.mp3-part-312.wav\n"
     ]
    },
    {
     "name": "stderr",
     "output_type": "stream",
     "text": [
      " 62%|██████▏   | 80885/130662 [32:58<18:39, 44.47it/s]"
     ]
    },
    {
     "name": "stdout",
     "output_type": "stream",
     "text": [
      "skipped semisupervised-manglish/output-wav/The-Fashion-Weak-Podcast-Ep-21---Suitmaker-To-The-Stars,-Shahrin-Bahar-aka-@sbahar.my-Pkv6d83oe8s.mp3-part-53.wav\n",
      "skipped semisupervised-manglish/output-wav/Mamak-Sessions-Ep6---Names-People-Always-Mispronounce-&-Facebook-Is-A-Spy-8LuihYdx0FQ.mp3-part-161.wav\n"
     ]
    },
    {
     "name": "stderr",
     "output_type": "stream",
     "text": [
      " 62%|██████▏   | 80955/130662 [32:59<14:49, 55.85it/s]"
     ]
    },
    {
     "name": "stdout",
     "output_type": "stream",
     "text": [
      "skipped semisupervised-manglish/output-wav/The-Fashion-Weak-Podcast-Ep-23---Alicia-Amin-On-Being-A-'Malay'-Model-In-2019-3pKA5NvTCOA.mp3-part-759.wav\n"
     ]
    },
    {
     "name": "stderr",
     "output_type": "stream",
     "text": [
      " 62%|██████▏   | 81041/130662 [33:01<13:05, 63.19it/s]"
     ]
    },
    {
     "name": "stdout",
     "output_type": "stream",
     "text": [
      "skipped semisupervised-manglish/output-wav/Mamak-Sessions---Coming-Out-ft.-Nigel-Chin-and-Magnum-79ax7ZQss5M.mp3-part-411.wav\n"
     ]
    },
    {
     "name": "stderr",
     "output_type": "stream",
     "text": [
      " 62%|██████▏   | 81068/130662 [33:02<15:53, 51.99it/s]"
     ]
    },
    {
     "name": "stdout",
     "output_type": "stream",
     "text": [
      "skipped semisupervised-manglish/output-wav/The-Fashion-Weak-Podcast-Ep-23---Alicia-Amin-On-Being-A-'Malay'-Model-In-2019-3pKA5NvTCOA.mp3-part-656.wav\n"
     ]
    },
    {
     "name": "stderr",
     "output_type": "stream",
     "text": [
      " 62%|██████▏   | 81112/130662 [33:02<13:27, 61.37it/s]"
     ]
    },
    {
     "name": "stdout",
     "output_type": "stream",
     "text": [
      "skipped semisupervised-manglish/output-wav/Mamak-Sessions-Ep1---Girls-Are-Happier-With-Less-Attractive-Men,-And-The-Dramatic-Pizza-Order-2M8U_mxGbcw.mp3-part-23.wav\n"
     ]
    },
    {
     "name": "stderr",
     "output_type": "stream",
     "text": [
      " 62%|██████▏   | 81376/130662 [33:07<13:03, 62.89it/s]"
     ]
    },
    {
     "name": "stdout",
     "output_type": "stream",
     "text": [
      "skipped semisupervised-manglish/output-wav/Mamak-Sessions-Ep9---Sibling-Rivalry-ft-Julian-Yee-670FyeJhnps.mp3-part-311.wav\n"
     ]
    },
    {
     "name": "stderr",
     "output_type": "stream",
     "text": [
      " 62%|██████▏   | 81411/130662 [33:08<15:57, 51.46it/s]"
     ]
    },
    {
     "name": "stdout",
     "output_type": "stream",
     "text": [
      "skipped semisupervised-manglish/output-wav/Mamak-Sessions---My-Asian-Parents-Were-Initially-Ashamed-Of-My-Career-NqCp8Csl7PE.mp3-part-110.wav\n"
     ]
    },
    {
     "name": "stderr",
     "output_type": "stream",
     "text": [
      " 62%|██████▏   | 81441/130662 [33:08<12:52, 63.69it/s]"
     ]
    },
    {
     "name": "stdout",
     "output_type": "stream",
     "text": [
      "skipped semisupervised-manglish/output-wav/Priorities-as-University-Graduates-and-The-MALAYSIA-Hustle-_-Singaporean-Podcast-#12-_-Zhi-Rong-TYL7mmbpsbo.mp3-part-222.wav\n"
     ]
    },
    {
     "name": "stderr",
     "output_type": "stream",
     "text": [
      " 62%|██████▏   | 81496/130662 [33:10<17:59, 45.54it/s]"
     ]
    },
    {
     "name": "stdout",
     "output_type": "stream",
     "text": [
      "skipped semisupervised-manglish/output-wav/Mamak-Sessions---Getting-Married-in-Vegas,-and-Sugar-Babies-ft.-Dennis-Yin-Cq6Yjwsu63U.mp3-part-262.wav\n"
     ]
    },
    {
     "name": "stderr",
     "output_type": "stream",
     "text": [
      " 62%|██████▏   | 81545/130662 [33:10<13:11, 62.05it/s]"
     ]
    },
    {
     "name": "stdout",
     "output_type": "stream",
     "text": [
      "skipped semisupervised-manglish/output-wav/The-Fashion-Weak-Podcast-EP-36---Why-guys-REALLY-go-for-spin-class-with-Oxygen-Cycle-RqG0tHR9D1g.mp3-part-96.wav\n",
      "skipped semisupervised-manglish/output-wav/Why-Blockchain-&-Crypo-Matters-_-Singaporean-Podcast-#15-_-Royal-Pek--2d7wzvNOCE.mp3-part-599.wav\n"
     ]
    },
    {
     "name": "stderr",
     "output_type": "stream",
     "text": [
      " 62%|██████▏   | 81601/130662 [33:11<16:27, 49.68it/s]"
     ]
    },
    {
     "name": "stdout",
     "output_type": "stream",
     "text": [
      "skipped semisupervised-manglish/output-wav/Mamak-Sessions---My-Asian-Parents-Were-Initially-Ashamed-Of-My-Career-NqCp8Csl7PE.mp3-part-205.wav\n"
     ]
    },
    {
     "name": "stderr",
     "output_type": "stream",
     "text": [
      " 62%|██████▏   | 81621/130662 [33:12<14:18, 57.15it/s]"
     ]
    },
    {
     "name": "stdout",
     "output_type": "stream",
     "text": [
      "skipped semisupervised-manglish/output-wav/Mamak-Sessions-Ep10---Datuk-Nicol-David-is-RETIRING!-n3AR3nQEc7Y.mp3-part-357.wav\n"
     ]
    },
    {
     "name": "stderr",
     "output_type": "stream",
     "text": [
      " 63%|██████▎   | 81666/130662 [33:12<13:01, 62.69it/s]"
     ]
    },
    {
     "name": "stdout",
     "output_type": "stream",
     "text": [
      "skipped semisupervised-manglish/output-wav/Mamak-Sessions-Ep6---Names-People-Always-Mispronounce-&-Facebook-Is-A-Spy-8LuihYdx0FQ.mp3-part-236.wav\n"
     ]
    },
    {
     "name": "stderr",
     "output_type": "stream",
     "text": [
      " 63%|██████▎   | 81755/130662 [33:14<13:12, 61.73it/s]"
     ]
    },
    {
     "name": "stdout",
     "output_type": "stream",
     "text": [
      "skipped semisupervised-manglish/output-wav/Mamak-Sessions-Ep6---Names-People-Always-Mispronounce-&-Facebook-Is-A-Spy-8LuihYdx0FQ.mp3-part-31.wav\n"
     ]
    },
    {
     "name": "stderr",
     "output_type": "stream",
     "text": [
      " 63%|██████▎   | 81813/130662 [33:15<12:19, 66.05it/s]"
     ]
    },
    {
     "name": "stdout",
     "output_type": "stream",
     "text": [
      "skipped semisupervised-manglish/output-wav/Musings-of-the-OG-Sneaker-Uncle-@bungactiongirl---The-Fashion-Weak-Podcast-Episode-3-EjzkQeWKwQw.mp3-part-80.wav\n",
      "skipped semisupervised-manglish/output-wav/Mamak-Sessions---Should-You-Be-Spending-Crazily-For-Valentine's-Day-QLz7USNFnng.mp3-part-284.wav\n"
     ]
    },
    {
     "name": "stderr",
     "output_type": "stream",
     "text": [
      " 63%|██████▎   | 81876/130662 [33:16<14:51, 54.70it/s]"
     ]
    },
    {
     "name": "stdout",
     "output_type": "stream",
     "text": [
      "skipped semisupervised-manglish/output-wav/Overcoming-Depression-&-Redefining-What-Failure-Means-to-Youths_-Singaporean-Podcast-#10-_-Kevin-Wee-rjjK4aAbKnw.mp3-part-406.wav\n"
     ]
    },
    {
     "name": "stderr",
     "output_type": "stream",
     "text": [
      " 63%|██████▎   | 81943/130662 [33:17<12:07, 66.98it/s]"
     ]
    },
    {
     "name": "stdout",
     "output_type": "stream",
     "text": [
      "skipped semisupervised-manglish/output-wav/Dance-Moves-To-Pick-Up-Girls-At-The-Club-With-Adidas-Creator-Maybelline-Wong-(@definitelyMayb_)-vRnkHzyyBc4.mp3-part-293.wav\n"
     ]
    },
    {
     "name": "stderr",
     "output_type": "stream",
     "text": [
      " 63%|██████▎   | 81985/130662 [33:18<13:53, 58.40it/s]"
     ]
    },
    {
     "name": "stdout",
     "output_type": "stream",
     "text": [
      "skipped semisupervised-manglish/output-wav/Mamak-Sessions---Can-Guys-And-Girls-Be-Best-Friends-Is-it-ok-to-see-more-than-one-person-at-a-time-IixUPM11VMY.mp3-part-191.wav\n"
     ]
    },
    {
     "name": "stderr",
     "output_type": "stream",
     "text": [
      " 63%|██████▎   | 82000/130662 [33:18<13:55, 58.27it/s]"
     ]
    },
    {
     "name": "stdout",
     "output_type": "stream",
     "text": [
      "skipped semisupervised-manglish/output-wav/Nicole-Choo-on-What-Went-Wrong-with-Ridhwan---Team-Titan-Show-#4-gW9sv26g4Io.mp3-part-83.wav\n"
     ]
    },
    {
     "name": "stderr",
     "output_type": "stream",
     "text": [
      " 63%|██████▎   | 82085/130662 [33:20<13:15, 61.03it/s]"
     ]
    },
    {
     "name": "stdout",
     "output_type": "stream",
     "text": [
      "skipped semisupervised-manglish/output-wav/The-Fashion-Weak-Podcast-EP-27----Peter-Davis-talks-cars,-mixed-rice-and-some-fashion.-rxmMRAzLRJ0.mp3-part-399.wav\n"
     ]
    },
    {
     "name": "stderr",
     "output_type": "stream",
     "text": [
      " 63%|██████▎   | 82148/130662 [33:21<15:19, 52.75it/s]"
     ]
    },
    {
     "name": "stdout",
     "output_type": "stream",
     "text": [
      "skipped semisupervised-manglish/output-wav/Mamak-Sessions---Blaming-Yourself-For-Your-Parents'-Divorce,-And-How-Our-Parents-Punish-Us-x8Gl_zIC9CQ.mp3-part-389.wav\n"
     ]
    },
    {
     "name": "stderr",
     "output_type": "stream",
     "text": [
      " 63%|██████▎   | 82205/130662 [33:22<12:36, 64.04it/s]"
     ]
    },
    {
     "name": "stdout",
     "output_type": "stream",
     "text": [
      "skipped semisupervised-manglish/output-wav/Mamak-Sessions-Podcast---Committing-Suicide,-Mental-Health-And-How-To-Seek-Help-EHlGktcfDZc.mp3-part-77.wav\n",
      "skipped semisupervised-manglish/output-wav/The-Fashion-Weak-Podcast-Ep-43A---Keeping-Fair-On-The-Fairway-With-Natalia-Ng-CSP1XPZu4YY.mp3-part-451.wav\n"
     ]
    },
    {
     "name": "stderr",
     "output_type": "stream",
     "text": [
      " 63%|██████▎   | 82243/130662 [33:23<13:20, 60.47it/s]"
     ]
    },
    {
     "name": "stdout",
     "output_type": "stream",
     "text": [
      "skipped semisupervised-manglish/output-wav/Mamak-Sessions-Podcast---How-Dean-Lewis-became-who-he-is-today-HkOQy1Nxpis.mp3-part-430.wav\n"
     ]
    },
    {
     "name": "stderr",
     "output_type": "stream",
     "text": [
      " 63%|██████▎   | 82260/130662 [33:23<11:45, 68.59it/s]"
     ]
    },
    {
     "name": "stdout",
     "output_type": "stream",
     "text": [
      "skipped semisupervised-manglish/output-wav/The-Fashion-Weak-Podcast-Ep-38---TikTok-Royalty-Roshan-Jeet-aka-Roshannnn1-lPnRg9UsP0M.mp3-part-815.wav\n",
      "skipped semisupervised-manglish/output-wav/The-Fashion-Weak-Podcast-EP-36---Why-guys-REALLY-go-for-spin-class-with-Oxygen-Cycle-RqG0tHR9D1g.mp3-part-244.wav\n"
     ]
    },
    {
     "name": "stderr",
     "output_type": "stream",
     "text": [
      " 63%|██████▎   | 82334/130662 [33:24<15:03, 53.48it/s]"
     ]
    },
    {
     "name": "stdout",
     "output_type": "stream",
     "text": [
      "skipped semisupervised-manglish/output-wav/The-Fashion-Weak-Podcast-EP-36---Why-guys-REALLY-go-for-spin-class-with-Oxygen-Cycle-RqG0tHR9D1g.mp3-part-358.wav\n"
     ]
    },
    {
     "name": "stderr",
     "output_type": "stream",
     "text": [
      " 63%|██████▎   | 82356/130662 [33:25<13:10, 61.07it/s]"
     ]
    },
    {
     "name": "stdout",
     "output_type": "stream",
     "text": [
      "skipped semisupervised-manglish/output-wav/Desperate-times!-CB-Extended-Till-June!-Our-CB-Cannot-Tahan-_-The-Thirsty-Sisters-#2-OZMsLGKDv14.mp3-part-300.wav\n"
     ]
    },
    {
     "name": "stderr",
     "output_type": "stream",
     "text": [
      " 63%|██████▎   | 82435/130662 [33:26<13:42, 58.67it/s]"
     ]
    },
    {
     "name": "stdout",
     "output_type": "stream",
     "text": [
      "skipped semisupervised-manglish/output-wav/The-Fashion-Weak-Podcast-Ep-23---Alicia-Amin-On-Being-A-'Malay'-Model-In-2019-3pKA5NvTCOA.mp3-part-116.wav\n"
     ]
    },
    {
     "name": "stderr",
     "output_type": "stream",
     "text": [
      " 63%|██████▎   | 82458/130662 [33:27<12:41, 63.32it/s]"
     ]
    },
    {
     "name": "stdout",
     "output_type": "stream",
     "text": [
      "skipped semisupervised-manglish/output-wav/Mamak-Sessions-Ep6---Names-People-Always-Mispronounce-&-Facebook-Is-A-Spy-8LuihYdx0FQ.mp3-part-0.wav\n"
     ]
    },
    {
     "name": "stderr",
     "output_type": "stream",
     "text": [
      " 63%|██████▎   | 82486/130662 [33:27<12:51, 62.48it/s]"
     ]
    },
    {
     "name": "stdout",
     "output_type": "stream",
     "text": [
      "skipped semisupervised-manglish/output-wav/Overcoming-Depression-&-Redefining-What-Failure-Means-to-Youths_-Singaporean-Podcast-#10-_-Kevin-Wee-rjjK4aAbKnw.mp3-part-712.wav\n"
     ]
    },
    {
     "name": "stderr",
     "output_type": "stream",
     "text": [
      " 63%|██████▎   | 82515/130662 [33:28<15:30, 51.76it/s]"
     ]
    },
    {
     "name": "stdout",
     "output_type": "stream",
     "text": [
      "skipped semisupervised-manglish/output-wav/How-To-Be-A-Damn-Good-Software-Developer-+-Israel-Startup-Culture-_-Singaporean-Podcast-#11-_-Mark-cs2LkcSpNpw.mp3-part-391.wav\n"
     ]
    },
    {
     "name": "stderr",
     "output_type": "stream",
     "text": [
      " 63%|██████▎   | 82643/130662 [33:30<12:52, 62.16it/s]"
     ]
    },
    {
     "name": "stdout",
     "output_type": "stream",
     "text": [
      "skipped semisupervised-manglish/output-wav/The-Fashion-Weak-Podcast-Ep-40---tdcjTfzYSbk.mp3-part-809.wav\n"
     ]
    },
    {
     "name": "stderr",
     "output_type": "stream",
     "text": [
      " 63%|██████▎   | 82671/130662 [33:30<12:40, 63.06it/s]"
     ]
    },
    {
     "name": "stdout",
     "output_type": "stream",
     "text": [
      "skipped semisupervised-manglish/output-wav/The-Fashion-Weak-Podcast-Ep-32---Getting-Surprised-Reading-Melissa-Campbell's-(@heymelbelle)-IG-DMs-mJuKUwFpDgI.mp3-part-675.wav\n"
     ]
    },
    {
     "name": "stderr",
     "output_type": "stream",
     "text": [
      " 63%|██████▎   | 82728/130662 [33:31<14:19, 55.78it/s]"
     ]
    },
    {
     "name": "stdout",
     "output_type": "stream",
     "text": [
      "skipped semisupervised-manglish/output-wav/The-Fashion-Weak-Podcast-Ep-43A---Keeping-Fair-On-The-Fairway-With-Natalia-Ng-CSP1XPZu4YY.mp3-part-578.wav\n"
     ]
    },
    {
     "name": "stderr",
     "output_type": "stream",
     "text": [
      " 63%|██████▎   | 82802/130662 [33:33<15:38, 51.02it/s]"
     ]
    },
    {
     "name": "stdout",
     "output_type": "stream",
     "text": [
      "skipped semisupervised-manglish/output-wav/Mamak-Sessions---How-I-Got-Quarantined-Because-Of-Covid-19-Feat.-Mark-O'Dea-5zAsyNKfzps.mp3-part-215.wav\n"
     ]
    },
    {
     "name": "stderr",
     "output_type": "stream",
     "text": [
      " 63%|██████▎   | 82844/130662 [33:34<12:51, 62.00it/s]"
     ]
    },
    {
     "name": "stdout",
     "output_type": "stream",
     "text": [
      "skipped semisupervised-manglish/output-wav/How-To-Get-Away-With-A-Sex-Crime!-_-The-Thirsty-Sisters-#15-mIc0MmSoaiI.mp3-part-45.wav\n"
     ]
    },
    {
     "name": "stderr",
     "output_type": "stream",
     "text": [
      " 63%|██████▎   | 82901/130662 [33:35<14:36, 54.47it/s]"
     ]
    },
    {
     "name": "stdout",
     "output_type": "stream",
     "text": [
      "skipped semisupervised-manglish/output-wav/Mamak-Sessions-Ep13---Game-Of-Thrones-Is-OVER!-Malaysian-Accent-is-sexy!--mAdHcMGmEs.mp3-part-79.wav\n"
     ]
    },
    {
     "name": "stderr",
     "output_type": "stream",
     "text": [
      " 64%|██████▎   | 83055/130662 [33:38<17:18, 45.86it/s]"
     ]
    },
    {
     "name": "stdout",
     "output_type": "stream",
     "text": [
      "skipped semisupervised-manglish/output-wav/The-Fashion-Weak-Podcast-Ep-38---TikTok-Royalty-Roshan-Jeet-aka-Roshannnn1-lPnRg9UsP0M.mp3-part-657.wav\n"
     ]
    },
    {
     "name": "stderr",
     "output_type": "stream",
     "text": [
      " 64%|██████▎   | 83099/130662 [33:38<11:48, 67.17it/s]"
     ]
    },
    {
     "name": "stdout",
     "output_type": "stream",
     "text": [
      "skipped semisupervised-manglish/output-wav/The-Fashion-Weak-Podcast-Ep-33---Lingerie-&-Bikini-Talk-With-Talitha-Tan-(@talithabe)-_7Un0q6a9zg.mp3-part-110.wav\n",
      "skipped semisupervised-manglish/output-wav/I-Dated-A-Guy-Twice-My-Age-Our-First-Date-Don'ts-_-The-Thirsty-Sisters-#19-3-DoQSmz5aI.mp3-part-221.wav\n"
     ]
    },
    {
     "name": "stderr",
     "output_type": "stream",
     "text": [
      " 64%|██████▎   | 83128/130662 [33:39<12:09, 65.13it/s]"
     ]
    },
    {
     "name": "stdout",
     "output_type": "stream",
     "text": [
      "skipped semisupervised-manglish/output-wav/Mamak-Sessions-Ep6---Names-People-Always-Mispronounce-&-Facebook-Is-A-Spy-8LuihYdx0FQ.mp3-part-6.wav\n",
      "skipped semisupervised-manglish/output-wav/Mamak-Sessions---How-Dating-Has-Changed-&-Tenet-ft-Elizabeth-Debicki-and-John-David-Washington-te2Be5GNNys.mp3-part-333.wav\n"
     ]
    },
    {
     "name": "stderr",
     "output_type": "stream",
     "text": [
      " 64%|██████▎   | 83171/130662 [33:40<14:03, 56.27it/s]"
     ]
    },
    {
     "name": "stdout",
     "output_type": "stream",
     "text": [
      "skipped semisupervised-manglish/output-wav/Blessing-The-Pod,-Calling-Mofo's-OUT!-with-@soimjenn---The-Fashion-Weak-Podcast-Episode-7-xsjayMqoC0Y.mp3-part-243.wav\n"
     ]
    },
    {
     "name": "stderr",
     "output_type": "stream",
     "text": [
      " 64%|██████▎   | 83218/130662 [33:40<12:49, 61.69it/s]"
     ]
    },
    {
     "name": "stdout",
     "output_type": "stream",
     "text": [
      "skipped semisupervised-manglish/output-wav/The-Fashion-Weak-Podcast-Ep-28-@dreamrocketeers-on-that-Rolex-you-should-cop-to-flex-on-poor-friends-shV1F1JlDzk.mp3-part-847.wav\n"
     ]
    },
    {
     "name": "stderr",
     "output_type": "stream",
     "text": [
      " 64%|██████▎   | 83239/130662 [33:41<16:58, 46.57it/s]"
     ]
    },
    {
     "name": "stdout",
     "output_type": "stream",
     "text": [
      "skipped semisupervised-manglish/output-wav/Ghost-Stories-From-Our-Childhood!-_-The-Thirsty-Sisters-#23-Hioy9UvH4yE.mp3-part-301.wav\n"
     ]
    },
    {
     "name": "stderr",
     "output_type": "stream",
     "text": [
      " 64%|██████▎   | 83284/130662 [33:42<12:04, 65.35it/s]"
     ]
    },
    {
     "name": "stdout",
     "output_type": "stream",
     "text": [
      "skipped semisupervised-manglish/output-wav/Click-Bait-And-24k-Shoe-Shopping-With-Harvinth-Skin---The-Fashion-Weak-Podcast-Episode-08-adq-khQo2eQ.mp3-part-120.wav\n"
     ]
    },
    {
     "name": "stderr",
     "output_type": "stream",
     "text": [
      " 64%|██████▍   | 83313/130662 [33:42<11:23, 69.22it/s]"
     ]
    },
    {
     "name": "stdout",
     "output_type": "stream",
     "text": [
      "skipped semisupervised-manglish/output-wav/How-To-Be-A-Damn-Good-Software-Developer-+-Israel-Startup-Culture-_-Singaporean-Podcast-#11-_-Mark-cs2LkcSpNpw.mp3-part-233.wav\n"
     ]
    },
    {
     "name": "stderr",
     "output_type": "stream",
     "text": [
      " 64%|██████▍   | 83363/130662 [33:43<13:14, 59.55it/s]"
     ]
    },
    {
     "name": "stdout",
     "output_type": "stream",
     "text": [
      "skipped semisupervised-manglish/output-wav/Mamak-Sessions---Nasi-Lemak-Sneakers-zLEmAKdG9vY.mp3-part-245.wav\n"
     ]
    },
    {
     "name": "stderr",
     "output_type": "stream",
     "text": [
      " 64%|██████▍   | 83468/130662 [33:45<12:28, 63.09it/s]"
     ]
    },
    {
     "name": "stdout",
     "output_type": "stream",
     "text": [
      "skipped semisupervised-manglish/output-wav/The-Fashion-Weak-Podcast-Ep-38---TikTok-Royalty-Roshan-Jeet-aka-Roshannnn1-lPnRg9UsP0M.mp3-part-123.wav\n"
     ]
    },
    {
     "name": "stderr",
     "output_type": "stream",
     "text": [
      " 64%|██████▍   | 83509/130662 [33:46<15:59, 49.14it/s]"
     ]
    },
    {
     "name": "stdout",
     "output_type": "stream",
     "text": [
      "skipped semisupervised-manglish/output-wav/The-Fashion-Weak-Podcast-Ep35---Is-New-Balance-Cool-Now-Talking-everything-NOT-Nike-with-@adlysyairi-3b0bYe36KNE.mp3-part-716.wav\n"
     ]
    },
    {
     "name": "stderr",
     "output_type": "stream",
     "text": [
      " 64%|██████▍   | 83609/130662 [33:48<14:10, 55.33it/s]"
     ]
    },
    {
     "name": "stdout",
     "output_type": "stream",
     "text": [
      "skipped semisupervised-manglish/output-wav/Mamak-Sessions---Blaming-Yourself-For-Your-Parents'-Divorce,-And-How-Our-Parents-Punish-Us-x8Gl_zIC9CQ.mp3-part-392.wav\n"
     ]
    },
    {
     "name": "stderr",
     "output_type": "stream",
     "text": [
      " 64%|██████▍   | 83687/130662 [33:49<16:31, 47.36it/s]"
     ]
    },
    {
     "name": "stdout",
     "output_type": "stream",
     "text": [
      "skipped semisupervised-manglish/output-wav/Mamak-Sessions---Investigative-Journalism-Brings-Justice-to-Sexual-Crimes-&-Interviewing-Jon-Favreau-RlejfOWnKgQ.mp3-part-488.wav\n"
     ]
    },
    {
     "name": "stderr",
     "output_type": "stream",
     "text": [
      " 64%|██████▍   | 83722/130662 [33:50<12:59, 60.20it/s]"
     ]
    },
    {
     "name": "stdout",
     "output_type": "stream",
     "text": [
      "skipped semisupervised-manglish/output-wav/The-Fashion-Weak-Podcast-Ep-45---Finessing-A-New-Phone-Every-Year-With-Mamak-Rap-King-Jiven-Sekar-VlovwtVYuw0.mp3-part-168.wav\n",
      "skipped semisupervised-manglish/output-wav/Being-Bullied,-Toxic-Masculinity-And-Theatre-_-HTHT---Fauzi-Aziz-6syqXC_o6gs.mp3-part-638.wav\n"
     ]
    },
    {
     "name": "stderr",
     "output_type": "stream",
     "text": [
      " 64%|██████▍   | 83801/130662 [33:51<13:42, 56.97it/s]"
     ]
    },
    {
     "name": "stdout",
     "output_type": "stream",
     "text": [
      "skipped semisupervised-manglish/output-wav/The-Fashion-Weak-Podcast-EP-27----Peter-Davis-talks-cars,-mixed-rice-and-some-fashion.-rxmMRAzLRJ0.mp3-part-348.wav\n"
     ]
    },
    {
     "name": "stderr",
     "output_type": "stream",
     "text": [
      " 64%|██████▍   | 83849/130662 [33:52<11:28, 67.98it/s]"
     ]
    },
    {
     "name": "stdout",
     "output_type": "stream",
     "text": [
      "skipped semisupervised-manglish/output-wav/Ben-Kheng-Reflects-On-The-Sam-Willows,-Anxiety,-And-Religion-_-HTHT---Ben-Kheng-X4QapKCCneQ.mp3-part-574.wav\n",
      "skipped semisupervised-manglish/output-wav/The-Fashion-Weak-Podcast-Ep-20---Couple-Goals-With-Maggy-Wang-&-Jobroseph-TzfCaQ8vUMc.mp3-part-341.wav\n"
     ]
    },
    {
     "name": "stderr",
     "output_type": "stream",
     "text": [
      "\r",
      " 64%|██████▍   | 83857/130662 [33:52<11:23, 68.48it/s]"
     ]
    },
    {
     "name": "stdout",
     "output_type": "stream",
     "text": [
      "skipped semisupervised-manglish/output-wav/Mamak-Sessions---Getting-Married-in-Vegas,-and-Sugar-Babies-ft.-Dennis-Yin-Cq6Yjwsu63U.mp3-part-32.wav\n"
     ]
    },
    {
     "name": "stderr",
     "output_type": "stream",
     "text": [
      " 64%|██████▍   | 83899/130662 [33:53<12:57, 60.18it/s]"
     ]
    },
    {
     "name": "stdout",
     "output_type": "stream",
     "text": [
      "skipped semisupervised-manglish/output-wav/Most-Accurate-Personality-Test!-_-The-Thirsty-Sisters-#17-XLV720mng6w.mp3-part-54.wav\n"
     ]
    },
    {
     "name": "stderr",
     "output_type": "stream",
     "text": [
      " 64%|██████▍   | 83942/130662 [33:53<12:20, 63.09it/s]"
     ]
    },
    {
     "name": "stdout",
     "output_type": "stream",
     "text": [
      "skipped semisupervised-manglish/output-wav/Burning-Hot-Fever!-4-Doctors-Tried-To-Save-Me-In-The-Hospital!-_-The-Thirsty-Sisters-#6-Jw7B8efygWI.mp3-part-142.wav\n",
      "skipped semisupervised-manglish/output-wav/Ryan-Tan-on-Starting-YouTube,-Struggles-and-Failures---Team-Titan-Show-#5-pFBohAGNYWU.mp3-part-8.wav\n"
     ]
    },
    {
     "name": "stderr",
     "output_type": "stream",
     "text": [
      " 64%|██████▍   | 84019/130662 [33:55<11:42, 66.41it/s]"
     ]
    },
    {
     "name": "stdout",
     "output_type": "stream",
     "text": [
      "skipped semisupervised-manglish/output-wav/Mamak-Sessions-Ep6---Names-People-Always-Mispronounce-&-Facebook-Is-A-Spy-8LuihYdx0FQ.mp3-part-187.wav\n"
     ]
    },
    {
     "name": "stderr",
     "output_type": "stream",
     "text": [
      " 64%|██████▍   | 84035/130662 [33:55<11:28, 67.76it/s]"
     ]
    },
    {
     "name": "stdout",
     "output_type": "stream",
     "text": [
      "skipped semisupervised-manglish/output-wav/Relatives-Ruin-My-Wedding!-_-The-Thirsty-Sisters-#22-98CiTQQtqak.mp3-part-305.wav\n"
     ]
    },
    {
     "name": "stderr",
     "output_type": "stream",
     "text": [
      " 64%|██████▍   | 84113/130662 [33:56<12:26, 62.33it/s]"
     ]
    },
    {
     "name": "stdout",
     "output_type": "stream",
     "text": [
      "skipped semisupervised-manglish/output-wav/@Juanitadr-shows-us-what-Arnold's-Tongue-Can-Do---The-Fashion-Weak-Podcast-Episode-10-N5EfPvQKW90.mp3-part-36.wav\n"
     ]
    },
    {
     "name": "stderr",
     "output_type": "stream",
     "text": [
      " 64%|██████▍   | 84150/130662 [33:57<15:12, 51.00it/s]"
     ]
    },
    {
     "name": "stdout",
     "output_type": "stream",
     "text": [
      "skipped semisupervised-manglish/output-wav/Bend-Over!-Or-Pay-Sit-Forward!-We-Create-Our-Own-Movements!-_-The-Thirsty-Sisters-#3-ekKcn3QCU5E.mp3-part-8.wav\n",
      "skipped semisupervised-manglish/output-wav/Mamak-Sessions---Our-Differences-Is-What-Unites-Us-ft.-Elvin-Romeo-0jySfrZhs50.mp3-part-278.wav\n"
     ]
    },
    {
     "name": "stderr",
     "output_type": "stream",
     "text": [
      " 64%|██████▍   | 84164/130662 [33:57<13:18, 58.24it/s]"
     ]
    },
    {
     "name": "stdout",
     "output_type": "stream",
     "text": [
      "skipped semisupervised-manglish/output-wav/Mamak-Sessions-Ep6---Names-People-Always-Mispronounce-&-Facebook-Is-A-Spy-8LuihYdx0FQ.mp3-part-395.wav\n",
      "skipped semisupervised-manglish/output-wav/Mamak-Sessions---Are-Social-Media-Influencers-Entitled-ZJ8jw3C9vB8.mp3-part-2.wav\n"
     ]
    },
    {
     "name": "stderr",
     "output_type": "stream",
     "text": [
      " 64%|██████▍   | 84233/130662 [33:59<16:46, 46.13it/s]"
     ]
    },
    {
     "name": "stdout",
     "output_type": "stream",
     "text": [
      "skipped semisupervised-manglish/output-wav/Amander-Reveals-Why-She-Left-Titan---The-Team-Titan-Show-7byI9tIJeRk.mp3-part-583.wav\n"
     ]
    },
    {
     "name": "stderr",
     "output_type": "stream",
     "text": [
      " 65%|██████▍   | 84432/130662 [34:02<13:28, 57.17it/s]"
     ]
    },
    {
     "name": "stdout",
     "output_type": "stream",
     "text": [
      "skipped semisupervised-manglish/output-wav/Mamak-Sessions---Should-You-Be-Spending-Crazily-For-Valentine's-Day-QLz7USNFnng.mp3-part-356.wav\n",
      "skipped semisupervised-manglish/output-wav/Are-We-Still-Sexualising-Women-in-2020-_-Thirsty-Sisters-#13-zHC1MPeSP34.mp3-part-342.wav\n"
     ]
    },
    {
     "name": "stderr",
     "output_type": "stream",
     "text": [
      " 65%|██████▍   | 84502/130662 [34:04<16:29, 46.66it/s]"
     ]
    },
    {
     "name": "stdout",
     "output_type": "stream",
     "text": [
      "skipped semisupervised-manglish/output-wav/Should-Influencers-Be-Expected-To-Do-More-For-Society-(ft.-Celeste-Loh)-_-IMO-Ep.4-7izYax1bCwg.mp3-part-109.wav\n"
     ]
    },
    {
     "name": "stderr",
     "output_type": "stream",
     "text": [
      " 65%|██████▍   | 84514/130662 [34:04<15:17, 50.28it/s]"
     ]
    },
    {
     "name": "stdout",
     "output_type": "stream",
     "text": [
      "skipped semisupervised-manglish/output-wav/Mamak-Sessions---'Chinese-Whispers'-CXnW4hJDp54.mp3-part-216.wav\n"
     ]
    },
    {
     "name": "stderr",
     "output_type": "stream",
     "text": [
      " 65%|██████▍   | 84559/130662 [34:05<11:59, 64.09it/s]"
     ]
    },
    {
     "name": "stdout",
     "output_type": "stream",
     "text": [
      "skipped semisupervised-manglish/output-wav/Mamak-Sessions-Ep8---Man-Sues-Colleague-for-$1.8-Million-for-Farting-OWbPqC2i71c.mp3-part-16.wav\n",
      "skipped semisupervised-manglish/output-wav/Mamak-Sessions-Ep9---Sibling-Rivalry-ft-Julian-Yee-670FyeJhnps.mp3-part-121.wav\n"
     ]
    },
    {
     "name": "stderr",
     "output_type": "stream",
     "text": [
      " 65%|██████▍   | 84602/130662 [34:05<13:51, 55.36it/s]"
     ]
    },
    {
     "name": "stdout",
     "output_type": "stream",
     "text": [
      "skipped semisupervised-manglish/output-wav/Dance-Moves-To-Pick-Up-Girls-At-The-Club-With-Adidas-Creator-Maybelline-Wong-(@definitelyMayb_)-vRnkHzyyBc4.mp3-part-600.wav\n",
      "skipped semisupervised-manglish/output-wav/Mamak-Sessions---How-Do-You-Deal-With-Rumors-ft-Elizabeth-Tan-Rkvd5p3I11M.mp3-part-450.wav\n"
     ]
    },
    {
     "name": "stderr",
     "output_type": "stream",
     "text": [
      " 65%|██████▍   | 84630/130662 [34:06<12:16, 62.49it/s]"
     ]
    },
    {
     "name": "stdout",
     "output_type": "stream",
     "text": [
      "skipped semisupervised-manglish/output-wav/Mamak-Sessions-Ep6---Names-People-Always-Mispronounce-&-Facebook-Is-A-Spy-8LuihYdx0FQ.mp3-part-58.wav\n"
     ]
    },
    {
     "name": "stderr",
     "output_type": "stream",
     "text": [
      " 65%|██████▍   | 84659/130662 [34:06<11:27, 66.96it/s]"
     ]
    },
    {
     "name": "stdout",
     "output_type": "stream",
     "text": [
      "skipped semisupervised-manglish/output-wav/Mamak-Sessions---Getting-Married-in-Vegas,-and-Sugar-Babies-ft.-Dennis-Yin-Cq6Yjwsu63U.mp3-part-79.wav\n"
     ]
    },
    {
     "name": "stderr",
     "output_type": "stream",
     "text": [
      " 65%|██████▍   | 84673/130662 [34:06<11:21, 67.44it/s]"
     ]
    },
    {
     "name": "stdout",
     "output_type": "stream",
     "text": [
      "skipped semisupervised-manglish/output-wav/The-Fashion-Weak-Podcast-Ep-28-@dreamrocketeers-on-that-Rolex-you-should-cop-to-flex-on-poor-friends-shV1F1JlDzk.mp3-part-50.wav\n"
     ]
    },
    {
     "name": "stderr",
     "output_type": "stream",
     "text": [
      " 65%|██████▍   | 84701/130662 [34:07<14:43, 52.04it/s]"
     ]
    },
    {
     "name": "stdout",
     "output_type": "stream",
     "text": [
      "skipped semisupervised-manglish/output-wav/Mamak-Sessions-Ep6---Names-People-Always-Mispronounce-&-Facebook-Is-A-Spy-8LuihYdx0FQ.mp3-part-98.wav\n"
     ]
    },
    {
     "name": "stderr",
     "output_type": "stream",
     "text": [
      " 65%|██████▍   | 84731/130662 [34:08<12:26, 61.55it/s]"
     ]
    },
    {
     "name": "stdout",
     "output_type": "stream",
     "text": [
      "skipped semisupervised-manglish/output-wav/The-Fashion-Weak-Podcast-Ep-40---tdcjTfzYSbk.mp3-part-358.wav\n",
      "skipped semisupervised-manglish/output-wav/Relatives-Ruin-My-Wedding!-_-The-Thirsty-Sisters-#22-98CiTQQtqak.mp3-part-144.wav\n"
     ]
    },
    {
     "name": "stderr",
     "output_type": "stream",
     "text": [
      " 65%|██████▍   | 84747/130662 [34:08<11:21, 67.34it/s]"
     ]
    },
    {
     "name": "stdout",
     "output_type": "stream",
     "text": [
      "skipped semisupervised-manglish/output-wav/Dance-Moves-To-Pick-Up-Girls-At-The-Club-With-Adidas-Creator-Maybelline-Wong-(@definitelyMayb_)-vRnkHzyyBc4.mp3-part-275.wav\n"
     ]
    },
    {
     "name": "stderr",
     "output_type": "stream",
     "text": [
      " 65%|██████▍   | 84764/130662 [34:08<10:34, 72.38it/s]"
     ]
    },
    {
     "name": "stdout",
     "output_type": "stream",
     "text": [
      "skipped semisupervised-manglish/output-wav/The-Fashion-Weak-Podcast-Ep-40---tdcjTfzYSbk.mp3-part-481.wav\n",
      "skipped semisupervised-manglish/output-wav/The-Fashion-Weak-Podcast-EP-27----Peter-Davis-talks-cars,-mixed-rice-and-some-fashion.-rxmMRAzLRJ0.mp3-part-649.wav\n"
     ]
    },
    {
     "name": "stderr",
     "output_type": "stream",
     "text": [
      " 65%|██████▌   | 84975/130662 [34:12<14:01, 54.31it/s]"
     ]
    },
    {
     "name": "stdout",
     "output_type": "stream",
     "text": [
      "skipped semisupervised-manglish/output-wav/Mamak-Sessions---How-Do-You-Deal-With-Rumors-ft-Elizabeth-Tan-Rkvd5p3I11M.mp3-part-46.wav\n"
     ]
    },
    {
     "name": "stderr",
     "output_type": "stream",
     "text": [
      " 65%|██████▌   | 85033/130662 [34:13<11:31, 66.03it/s]"
     ]
    },
    {
     "name": "stdout",
     "output_type": "stream",
     "text": [
      "skipped semisupervised-manglish/output-wav/The-Fashion-Weak-Podcast-Ep-43---Thirst-Trapping-Simps-&-Loving-Your-Body-From-The-Outside-In-6R87P6YD2c4.mp3-part-607.wav\n",
      "skipped semisupervised-manglish/output-wav/Mamak-Sessions-Ep6---Names-People-Always-Mispronounce-&-Facebook-Is-A-Spy-8LuihYdx0FQ.mp3-part-353.wav\n"
     ]
    },
    {
     "name": "stderr",
     "output_type": "stream",
     "text": [
      " 65%|██████▌   | 85074/130662 [34:14<13:27, 56.46it/s]"
     ]
    },
    {
     "name": "stdout",
     "output_type": "stream",
     "text": [
      "skipped semisupervised-manglish/output-wav/Overcoming-Depression-&-Redefining-What-Failure-Means-to-Youths_-Singaporean-Podcast-#10-_-Kevin-Wee-rjjK4aAbKnw.mp3-part-350.wav\n"
     ]
    },
    {
     "name": "stderr",
     "output_type": "stream",
     "text": [
      " 65%|██████▌   | 85144/130662 [34:15<16:02, 47.29it/s]"
     ]
    },
    {
     "name": "stdout",
     "output_type": "stream",
     "text": [
      "skipped semisupervised-manglish/output-wav/Mamak-Sessions---Our-Differences-Is-What-Unites-Us-ft.-Elvin-Romeo-0jySfrZhs50.mp3-part-4.wav\n"
     ]
    },
    {
     "name": "stderr",
     "output_type": "stream",
     "text": [
      " 65%|██████▌   | 85180/130662 [34:16<12:46, 59.33it/s]"
     ]
    },
    {
     "name": "stdout",
     "output_type": "stream",
     "text": [
      "skipped semisupervised-manglish/output-wav/The-Fashion-Weak-Podcast-EP16---Podcast-Wars-With-The-From-The-Thread-Boys-7dPzh9PpLs8.mp3-part-211.wav\n"
     ]
    },
    {
     "name": "stderr",
     "output_type": "stream",
     "text": [
      " 65%|██████▌   | 85194/130662 [34:16<12:12, 62.05it/s]"
     ]
    },
    {
     "name": "stdout",
     "output_type": "stream",
     "text": [
      "skipped semisupervised-manglish/output-wav/Mamak-Sessions-Ep8---Man-Sues-Colleague-for-$1.8-Million-for-Farting-OWbPqC2i71c.mp3-part-180.wav\n"
     ]
    },
    {
     "name": "stderr",
     "output_type": "stream",
     "text": [
      " 65%|██████▌   | 85218/130662 [34:16<11:01, 68.66it/s]"
     ]
    },
    {
     "name": "stdout",
     "output_type": "stream",
     "text": [
      "skipped semisupervised-manglish/output-wav/The-Fashion-Weak-Podcast-Ep-40---tdcjTfzYSbk.mp3-part-603.wav\n"
     ]
    },
    {
     "name": "stderr",
     "output_type": "stream",
     "text": [
      " 65%|██████▌   | 85279/130662 [34:17<12:00, 62.99it/s]"
     ]
    },
    {
     "name": "stdout",
     "output_type": "stream",
     "text": [
      "skipped semisupervised-manglish/output-wav/Priorities-as-University-Graduates-and-The-MALAYSIA-Hustle-_-Singaporean-Podcast-#12-_-Zhi-Rong-TYL7mmbpsbo.mp3-part-450.wav\n",
      "skipped semisupervised-manglish/output-wav/Mamak-Sessions---Can-Guys-And-Girls-Be-Best-Friends-Is-it-ok-to-see-more-than-one-person-at-a-time-IixUPM11VMY.mp3-part-162.wav\n"
     ]
    },
    {
     "name": "stderr",
     "output_type": "stream",
     "text": [
      " 65%|██████▌   | 85295/130662 [34:18<11:07, 67.93it/s]"
     ]
    },
    {
     "name": "stdout",
     "output_type": "stream",
     "text": [
      "skipped semisupervised-manglish/output-wav/Being-A-Single-Divorced-Woman-At-32-_-The-Thirsty-Sisters-#11-8DMyfcjyrZQ.mp3-part-347.wav\n",
      "skipped semisupervised-manglish/output-wav/Should-Influencers-Be-Expected-To-Do-More-For-Society-(ft.-Celeste-Loh)-_-IMO-Ep.4-7izYax1bCwg.mp3-part-115.wav\n"
     ]
    },
    {
     "name": "stderr",
     "output_type": "stream",
     "text": [
      " 65%|██████▌   | 85367/130662 [34:19<12:08, 62.17it/s]"
     ]
    },
    {
     "name": "stdout",
     "output_type": "stream",
     "text": [
      "skipped semisupervised-manglish/output-wav/Being-A-Single-Divorced-Woman-At-32-_-The-Thirsty-Sisters-#11-8DMyfcjyrZQ.mp3-part-424.wav\n"
     ]
    },
    {
     "name": "stderr",
     "output_type": "stream",
     "text": [
      " 65%|██████▌   | 85389/130662 [34:19<11:01, 68.41it/s]"
     ]
    },
    {
     "name": "stdout",
     "output_type": "stream",
     "text": [
      "skipped semisupervised-manglish/output-wav/Burning-Hot-Fever!-4-Doctors-Tried-To-Save-Me-In-The-Hospital!-_-The-Thirsty-Sisters-#6-Jw7B8efygWI.mp3-part-69.wav\n"
     ]
    },
    {
     "name": "stderr",
     "output_type": "stream",
     "text": [
      " 65%|██████▌   | 85441/130662 [34:20<12:38, 59.63it/s]"
     ]
    },
    {
     "name": "stdout",
     "output_type": "stream",
     "text": [
      "skipped semisupervised-manglish/output-wav/Mamak-Sessions---How-Dating-Has-Changed-&-Tenet-ft-Elizabeth-Debicki-and-John-David-Washington-te2Be5GNNys.mp3-part-235.wav\n"
     ]
    },
    {
     "name": "stderr",
     "output_type": "stream",
     "text": [
      " 65%|██████▌   | 85466/130662 [34:21<11:13, 67.08it/s]"
     ]
    },
    {
     "name": "stdout",
     "output_type": "stream",
     "text": [
      "skipped semisupervised-manglish/output-wav/Mamak-Sessions---The-Asian-Mom-Of-The-Internet-ft-Tata-Wyb6i3GoJv4.mp3-part-39.wav\n",
      "skipped semisupervised-manglish/output-wav/Dance-Moves-To-Pick-Up-Girls-At-The-Club-With-Adidas-Creator-Maybelline-Wong-(@definitelyMayb_)-vRnkHzyyBc4.mp3-part-871.wav\n"
     ]
    },
    {
     "name": "stderr",
     "output_type": "stream",
     "text": [
      " 65%|██████▌   | 85484/130662 [34:21<10:49, 69.60it/s]"
     ]
    },
    {
     "name": "stdout",
     "output_type": "stream",
     "text": [
      "skipped semisupervised-manglish/output-wav/Mamak-Sessions-Ep6---Names-People-Always-Mispronounce-&-Facebook-Is-A-Spy-8LuihYdx0FQ.mp3-part-304.wav\n",
      "skipped semisupervised-manglish/output-wav/The-Fashion-Weak-Podcast-EP-27----Peter-Davis-talks-cars,-mixed-rice-and-some-fashion.-rxmMRAzLRJ0.mp3-part-440.wav\n"
     ]
    },
    {
     "name": "stderr",
     "output_type": "stream",
     "text": [
      " 66%|██████▌   | 85585/130662 [34:23<12:14, 61.36it/s]"
     ]
    },
    {
     "name": "stdout",
     "output_type": "stream",
     "text": [
      "skipped semisupervised-manglish/output-wav/The-Fashion-Weak-Podcast-EP14---Faking-it-on-the-gram-and-faking-Gasms-with-Sandra-Woo-(@sandrawooo)--XwvfCTnseI.mp3-part-230.wav\n"
     ]
    },
    {
     "name": "stderr",
     "output_type": "stream",
     "text": [
      " 66%|██████▌   | 85705/130662 [34:25<13:58, 53.61it/s]"
     ]
    },
    {
     "name": "stdout",
     "output_type": "stream",
     "text": [
      "skipped semisupervised-manglish/output-wav/What-You-Should-Think-About-After-A-Levels-_-IMO-Ep.3-R7nCJrdRWyc.mp3-part-84.wav\n"
     ]
    },
    {
     "name": "stderr",
     "output_type": "stream",
     "text": [
      " 66%|██████▌   | 85751/130662 [34:26<11:00, 68.02it/s]"
     ]
    },
    {
     "name": "stdout",
     "output_type": "stream",
     "text": [
      "skipped semisupervised-manglish/output-wav/The-Fashion-Weak-Podcast-Ep-45---Finessing-A-New-Phone-Every-Year-With-Mamak-Rap-King-Jiven-Sekar-VlovwtVYuw0.mp3-part-377.wav\n",
      "skipped semisupervised-manglish/output-wav/The-Fashion-Weak-Podcast-EP-41---Investment-Tips-For-Chee-Seng-With-Fuad-&-Shaq-From-Kyoto-Protocol-eWNQhDNoSsY.mp3-part-436.wav\n",
      "skipped semisupervised-manglish/output-wav/Mamak-Sessions---How-Do-You-Deal-With-Rumors-ft-Elizabeth-Tan-Rkvd5p3I11M.mp3-part-463.wav\n"
     ]
    },
    {
     "name": "stderr",
     "output_type": "stream",
     "text": [
      " 66%|██████▌   | 85911/130662 [34:29<12:23, 60.20it/s]"
     ]
    },
    {
     "name": "stdout",
     "output_type": "stream",
     "text": [
      "skipped semisupervised-manglish/output-wav/The-Fashion-Weak-Podcast-Ep-46---Premium-Thirst-Trap-Tips-With-Michelle-Lee-(@mich8lee)-MCHDyLJDJrg.mp3-part-705.wav\n"
     ]
    },
    {
     "name": "stderr",
     "output_type": "stream",
     "text": [
      " 66%|██████▌   | 85948/130662 [34:29<11:25, 65.19it/s]"
     ]
    },
    {
     "name": "stdout",
     "output_type": "stream",
     "text": [
      "skipped semisupervised-manglish/output-wav/Mamak-Sessions-Ep6---Names-People-Always-Mispronounce-&-Facebook-Is-A-Spy-8LuihYdx0FQ.mp3-part-383.wav\n",
      "skipped semisupervised-manglish/output-wav/The-Fashion-Weak-Podcast-Ep-38---TikTok-Royalty-Roshan-Jeet-aka-Roshannnn1-lPnRg9UsP0M.mp3-part-950.wav\n"
     ]
    },
    {
     "name": "stderr",
     "output_type": "stream",
     "text": [
      " 66%|██████▌   | 85998/130662 [34:30<11:53, 62.56it/s]"
     ]
    },
    {
     "name": "stdout",
     "output_type": "stream",
     "text": [
      "skipped semisupervised-manglish/output-wav/The-Fashion-Weak-Podcast-Ep-46---Premium-Thirst-Trap-Tips-With-Michelle-Lee-(@mich8lee)-MCHDyLJDJrg.mp3-part-317.wav\n",
      "skipped semisupervised-manglish/output-wav/The-Fashion-Weak-Podcast-Ep-39---Talking-Turn-On's-and-Fashion-Bulk-Buy-Deals-With-Tata-Wanqian-WSVo-qvu1GQ.mp3-part-479.wav\n"
     ]
    },
    {
     "name": "stderr",
     "output_type": "stream",
     "text": [
      " 66%|██████▌   | 86034/130662 [34:31<11:30, 64.59it/s]"
     ]
    },
    {
     "name": "stdout",
     "output_type": "stream",
     "text": [
      "skipped semisupervised-manglish/output-wav/The-Fashion-Weak-Podcast-Ep24---Penang-Boys-@tunway-瘦虎-&-@Shawnduabui-肥龍-Talk-Zap-Fan-&-Sneakers-dykz_vuzJh0.mp3-part-481.wav\n"
     ]
    },
    {
     "name": "stderr",
     "output_type": "stream",
     "text": [
      " 66%|██████▌   | 86124/130662 [34:33<12:05, 61.42it/s]"
     ]
    },
    {
     "name": "stdout",
     "output_type": "stream",
     "text": [
      "skipped semisupervised-manglish/output-wav/The-Fashion-Weak-Podcast-Ep-32---Getting-Surprised-Reading-Melissa-Campbell's-(@heymelbelle)-IG-DMs-mJuKUwFpDgI.mp3-part-500.wav\n"
     ]
    },
    {
     "name": "stderr",
     "output_type": "stream",
     "text": [
      " 66%|██████▌   | 86294/130662 [34:36<11:06, 66.57it/s]"
     ]
    },
    {
     "name": "stdout",
     "output_type": "stream",
     "text": [
      "skipped semisupervised-manglish/output-wav/Dance-Moves-To-Pick-Up-Girls-At-The-Club-With-Adidas-Creator-Maybelline-Wong-(@definitelyMayb_)-vRnkHzyyBc4.mp3-part-723.wav\n"
     ]
    },
    {
     "name": "stderr",
     "output_type": "stream",
     "text": [
      " 66%|██████▌   | 86337/130662 [34:37<13:49, 53.44it/s]"
     ]
    },
    {
     "name": "stdout",
     "output_type": "stream",
     "text": [
      "skipped semisupervised-manglish/output-wav/The-Fashion-Weak-Podcast-Ep-43A---Keeping-Fair-On-The-Fairway-With-Natalia-Ng-CSP1XPZu4YY.mp3-part-482.wav\n"
     ]
    },
    {
     "name": "stderr",
     "output_type": "stream",
     "text": [
      " 66%|██████▌   | 86393/130662 [34:37<10:53, 67.77it/s]"
     ]
    },
    {
     "name": "stdout",
     "output_type": "stream",
     "text": [
      "skipped semisupervised-manglish/output-wav/Respond,-Don't-React---Finding-The-Silver-Lining-in-Covid-19-_-Singaporean-Podcast-#29-_-Kevin-Wee-eFDcnTupdeQ.mp3-part-125.wav\n",
      "skipped semisupervised-manglish/output-wav/The-Fashion-Weak-Podcast-Ep-23---Alicia-Amin-On-Being-A-'Malay'-Model-In-2019-3pKA5NvTCOA.mp3-part-324.wav\n"
     ]
    },
    {
     "name": "stderr",
     "output_type": "stream",
     "text": [
      "\r",
      " 66%|██████▌   | 86400/130662 [34:37<10:58, 67.18it/s]"
     ]
    },
    {
     "name": "stdout",
     "output_type": "stream",
     "text": [
      "skipped semisupervised-manglish/output-wav/The-Fashion-Weak-Podcast-Ep-23---Alicia-Amin-On-Being-A-'Malay'-Model-In-2019-3pKA5NvTCOA.mp3-part-550.wav\n"
     ]
    },
    {
     "name": "stderr",
     "output_type": "stream",
     "text": [
      " 66%|██████▌   | 86495/130662 [34:39<11:52, 61.97it/s]"
     ]
    },
    {
     "name": "stdout",
     "output_type": "stream",
     "text": [
      "skipped semisupervised-manglish/output-wav/Mamak-Sessions-Ep13---Game-Of-Thrones-Is-OVER!-Malaysian-Accent-is-sexy!--mAdHcMGmEs.mp3-part-302.wav\n"
     ]
    },
    {
     "name": "stderr",
     "output_type": "stream",
     "text": [
      " 66%|██████▌   | 86547/130662 [34:40<12:38, 58.20it/s]"
     ]
    },
    {
     "name": "stdout",
     "output_type": "stream",
     "text": [
      "skipped semisupervised-manglish/output-wav/Grown-Up-Flex-With-YouTube-Superstar-@JinnyBoy---The-Fashion-Weak-Podcast-Episode-9-7wiSVCBFmFc.mp3-part-30.wav\n",
      "skipped semisupervised-manglish/output-wav/Mamak-Sessions-Ep6---Names-People-Always-Mispronounce-&-Facebook-Is-A-Spy-8LuihYdx0FQ.mp3-part-35.wav\n"
     ]
    },
    {
     "name": "stderr",
     "output_type": "stream",
     "text": [
      " 66%|██████▋   | 86648/130662 [34:42<11:07, 65.97it/s]"
     ]
    },
    {
     "name": "stdout",
     "output_type": "stream",
     "text": [
      "skipped semisupervised-manglish/output-wav/Mamak-Sessions-Ep6---Names-People-Always-Mispronounce-&-Facebook-Is-A-Spy-8LuihYdx0FQ.mp3-part-413.wav\n",
      "skipped semisupervised-manglish/output-wav/The-Fashion-Weak-Podcast-EP-36---Why-guys-REALLY-go-for-spin-class-with-Oxygen-Cycle-RqG0tHR9D1g.mp3-part-146.wav\n"
     ]
    },
    {
     "name": "stderr",
     "output_type": "stream",
     "text": [
      " 66%|██████▋   | 86672/130662 [34:42<10:36, 69.07it/s]"
     ]
    },
    {
     "name": "stdout",
     "output_type": "stream",
     "text": [
      "skipped semisupervised-manglish/output-wav/The-Fashion-Weak-Podcast-Ep-43---Thirst-Trapping-Simps-&-Loving-Your-Body-From-The-Outside-In-6R87P6YD2c4.mp3-part-728.wav\n",
      "skipped semisupervised-manglish/output-wav/The-Fashion-Weak-Podcast-EP-27----Peter-Davis-talks-cars,-mixed-rice-and-some-fashion.-rxmMRAzLRJ0.mp3-part-328.wav\n"
     ]
    },
    {
     "name": "stderr",
     "output_type": "stream",
     "text": [
      " 66%|██████▋   | 86717/130662 [34:43<11:28, 63.78it/s]"
     ]
    },
    {
     "name": "stdout",
     "output_type": "stream",
     "text": [
      "skipped semisupervised-manglish/output-wav/The-Fashion-Weak-Podcast-Ep24---Penang-Boys-@tunway-瘦虎-&-@Shawnduabui-肥龍-Talk-Zap-Fan-&-Sneakers-dykz_vuzJh0.mp3-part-807.wav\n"
     ]
    },
    {
     "name": "stderr",
     "output_type": "stream",
     "text": [
      " 66%|██████▋   | 86787/130662 [34:45<15:22, 47.54it/s]"
     ]
    },
    {
     "name": "stdout",
     "output_type": "stream",
     "text": [
      "skipped semisupervised-manglish/output-wav/The-Fashion-Weak-Podcast-Ep-38---TikTok-Royalty-Roshan-Jeet-aka-Roshannnn1-lPnRg9UsP0M.mp3-part-728.wav\n"
     ]
    },
    {
     "name": "stderr",
     "output_type": "stream",
     "text": [
      " 66%|██████▋   | 86843/130662 [34:46<11:48, 61.82it/s]"
     ]
    },
    {
     "name": "stdout",
     "output_type": "stream",
     "text": [
      "skipped semisupervised-manglish/output-wav/Polytechnic-VS-University,-Hospitality-Industry-+-Solo-Travel-_-Singaporean-Podcast-#21-_-Veron-Ng-attPdWb6UVo.mp3-part-38.wav\n"
     ]
    },
    {
     "name": "stderr",
     "output_type": "stream",
     "text": [
      " 67%|██████▋   | 86960/130662 [34:48<16:18, 44.65it/s]"
     ]
    },
    {
     "name": "stdout",
     "output_type": "stream",
     "text": [
      "skipped semisupervised-manglish/output-wav/The-Fashion-Weak-Podcast-Ep-43A---Keeping-Fair-On-The-Fairway-With-Natalia-Ng-CSP1XPZu4YY.mp3-part-620.wav\n"
     ]
    },
    {
     "name": "stderr",
     "output_type": "stream",
     "text": [
      " 67%|██████▋   | 86983/130662 [34:48<12:11, 59.69it/s]"
     ]
    },
    {
     "name": "stdout",
     "output_type": "stream",
     "text": [
      "skipped semisupervised-manglish/output-wav/@Juanitadr-shows-us-what-Arnold's-Tongue-Can-Do---The-Fashion-Weak-Podcast-Episode-10-N5EfPvQKW90.mp3-part-436.wav\n"
     ]
    },
    {
     "name": "stderr",
     "output_type": "stream",
     "text": [
      " 67%|██████▋   | 87013/130662 [34:49<10:54, 66.68it/s]"
     ]
    },
    {
     "name": "stdout",
     "output_type": "stream",
     "text": [
      "skipped semisupervised-manglish/output-wav/Mamak-Sessions-Podcast---Girl-Gets-Caned-For-Calling-her-Teacher-'AH-GUA'-PRN5UrsDF6w.mp3-part-685.wav\n"
     ]
    },
    {
     "name": "stderr",
     "output_type": "stream",
     "text": [
      " 67%|██████▋   | 87100/130662 [34:50<11:39, 62.32it/s]"
     ]
    },
    {
     "name": "stdout",
     "output_type": "stream",
     "text": [
      "skipped semisupervised-manglish/output-wav/Become-a-Software-Developer-in-90-days-and-Running-His-Own-Company-_-Singaporean-Podcast-#8-_-Haris-HRd3RMQtkDs.mp3-part-526.wav\n",
      "skipped semisupervised-manglish/output-wav/Mamak-Sessions-Ep6---Names-People-Always-Mispronounce-&-Facebook-Is-A-Spy-8LuihYdx0FQ.mp3-part-255.wav\n"
     ]
    },
    {
     "name": "stderr",
     "output_type": "stream",
     "text": [
      " 67%|██████▋   | 87191/130662 [34:52<11:29, 63.07it/s]"
     ]
    },
    {
     "name": "stdout",
     "output_type": "stream",
     "text": [
      "skipped semisupervised-manglish/output-wav/Dance-Moves-To-Pick-Up-Girls-At-The-Club-With-Adidas-Creator-Maybelline-Wong-(@definitelyMayb_)-vRnkHzyyBc4.mp3-part-107.wav\n"
     ]
    },
    {
     "name": "stderr",
     "output_type": "stream",
     "text": [
      " 67%|██████▋   | 87241/130662 [34:53<14:41, 49.25it/s]"
     ]
    },
    {
     "name": "stdout",
     "output_type": "stream",
     "text": [
      "skipped semisupervised-manglish/output-wav/Grown-Up-Flex-With-YouTube-Superstar-@JinnyBoy---The-Fashion-Weak-Podcast-Episode-9-7wiSVCBFmFc.mp3-part-27.wav\n",
      "skipped semisupervised-manglish/output-wav/The-Fashion-Weak-Podcast-Ep-23---Alicia-Amin-On-Being-A-'Malay'-Model-In-2019-3pKA5NvTCOA.mp3-part-258.wav\n"
     ]
    },
    {
     "name": "stderr",
     "output_type": "stream",
     "text": [
      " 67%|██████▋   | 87342/130662 [34:55<13:18, 54.26it/s]"
     ]
    },
    {
     "name": "stdout",
     "output_type": "stream",
     "text": [
      "skipped semisupervised-manglish/output-wav/Mamak-Sessions---Our-Differences-Is-What-Unites-Us-ft.-Elvin-Romeo-0jySfrZhs50.mp3-part-130.wav\n"
     ]
    },
    {
     "name": "stderr",
     "output_type": "stream",
     "text": [
      " 67%|██████▋   | 87661/130662 [35:00<11:27, 62.51it/s]"
     ]
    },
    {
     "name": "stdout",
     "output_type": "stream",
     "text": [
      "skipped semisupervised-manglish/output-wav/The-Fashion-Weak-Podcast-Ep-39---Talking-Turn-On's-and-Fashion-Bulk-Buy-Deals-With-Tata-Wanqian-WSVo-qvu1GQ.mp3-part-720.wav\n"
     ]
    },
    {
     "name": "stderr",
     "output_type": "stream",
     "text": [
      " 67%|██████▋   | 87691/130662 [35:01<15:49, 45.26it/s]"
     ]
    },
    {
     "name": "stdout",
     "output_type": "stream",
     "text": [
      "skipped semisupervised-manglish/output-wav/The-Fashion-Weak-Podcast-Ep-20---Couple-Goals-With-Maggy-Wang-&-Jobroseph-TzfCaQ8vUMc.mp3-part-308.wav\n",
      "skipped semisupervised-manglish/output-wav/Should-Influencers-Be-Expected-To-Do-More-For-Society-(ft.-Celeste-Loh)-_-IMO-Ep.4-7izYax1bCwg.mp3-part-74.wav\n"
     ]
    },
    {
     "name": "stderr",
     "output_type": "stream",
     "text": [
      " 67%|██████▋   | 87732/130662 [35:02<11:31, 62.04it/s]"
     ]
    },
    {
     "name": "stdout",
     "output_type": "stream",
     "text": [
      "skipped semisupervised-manglish/output-wav/Best-Way-to-Get-Women-to-Fall-For-You-Every-Month!-_-The-Thirsty-Sisters-#16-gvPiF-zXur4.mp3-part-377.wav\n"
     ]
    },
    {
     "name": "stderr",
     "output_type": "stream",
     "text": [
      " 67%|██████▋   | 87761/130662 [35:02<10:59, 65.01it/s]"
     ]
    },
    {
     "name": "stdout",
     "output_type": "stream",
     "text": [
      "skipped semisupervised-manglish/output-wav/The-Fashion-Weak-Podcast-Ep24---Penang-Boys-@tunway-瘦虎-&-@Shawnduabui-肥龍-Talk-Zap-Fan-&-Sneakers-dykz_vuzJh0.mp3-part-1.wav\n"
     ]
    },
    {
     "name": "stderr",
     "output_type": "stream",
     "text": [
      "\r",
      " 67%|██████▋   | 87768/130662 [35:02<10:58, 65.13it/s]"
     ]
    },
    {
     "name": "stdout",
     "output_type": "stream",
     "text": [
      "skipped semisupervised-manglish/output-wav/The-Fashion-Weak-Podcast-Ep-23---Alicia-Amin-On-Being-A-'Malay'-Model-In-2019-3pKA5NvTCOA.mp3-part-669.wav\n"
     ]
    },
    {
     "name": "stderr",
     "output_type": "stream",
     "text": [
      " 67%|██████▋   | 87813/130662 [35:03<11:25, 62.49it/s]"
     ]
    },
    {
     "name": "stdout",
     "output_type": "stream",
     "text": [
      "skipped semisupervised-manglish/output-wav/The-Fashion-Weak-Podcast-EP-25---Don't-Mess-With-@zamaeraaa's-Hello-Kitty-Cup-H4M_ZUDAT3k.mp3-part-98.wav\n"
     ]
    },
    {
     "name": "stderr",
     "output_type": "stream",
     "text": [
      " 67%|██████▋   | 87834/130662 [35:03<11:00, 64.83it/s]"
     ]
    },
    {
     "name": "stdout",
     "output_type": "stream",
     "text": [
      "skipped semisupervised-manglish/output-wav/Mamak-Sessions-Ep10---Datuk-Nicol-David-is-RETIRING!-n3AR3nQEc7Y.mp3-part-133.wav\n",
      "skipped semisupervised-manglish/output-wav/The-Fashion-Weak-Podcast-Ep-23---Alicia-Amin-On-Being-A-'Malay'-Model-In-2019-3pKA5NvTCOA.mp3-part-452.wav\n"
     ]
    },
    {
     "name": "stderr",
     "output_type": "stream",
     "text": [
      " 67%|██████▋   | 87893/130662 [35:04<13:03, 54.62it/s]"
     ]
    },
    {
     "name": "stdout",
     "output_type": "stream",
     "text": [
      "skipped semisupervised-manglish/output-wav/Grown-Up-Flex-With-YouTube-Superstar-@JinnyBoy---The-Fashion-Weak-Podcast-Episode-9-7wiSVCBFmFc.mp3-part-56.wav\n"
     ]
    },
    {
     "name": "stderr",
     "output_type": "stream",
     "text": [
      " 67%|██████▋   | 87929/130662 [35:05<11:23, 62.49it/s]"
     ]
    },
    {
     "name": "stdout",
     "output_type": "stream",
     "text": [
      "skipped semisupervised-manglish/output-wav/Playing-Basketball-With-Dr-Jason-Leong---The-Fashion-Weak-Podcast-Episode-4---6K1feeFnKpQ.mp3-part-124.wav\n"
     ]
    },
    {
     "name": "stderr",
     "output_type": "stream",
     "text": [
      " 67%|██████▋   | 88036/130662 [35:07<11:50, 60.00it/s]"
     ]
    },
    {
     "name": "stdout",
     "output_type": "stream",
     "text": [
      "skipped semisupervised-manglish/output-wav/Mamak-Sessions---Getting-Married-in-Vegas,-and-Sugar-Babies-ft.-Dennis-Yin-Cq6Yjwsu63U.mp3-part-198.wav\n"
     ]
    },
    {
     "name": "stderr",
     "output_type": "stream",
     "text": [
      " 67%|██████▋   | 88065/130662 [35:08<14:40, 48.37it/s]"
     ]
    },
    {
     "name": "stdout",
     "output_type": "stream",
     "text": [
      "skipped semisupervised-manglish/output-wav/Mamak-Sessions---Getting-Married-in-Vegas,-and-Sugar-Babies-ft.-Dennis-Yin-Cq6Yjwsu63U.mp3-part-149.wav\n"
     ]
    },
    {
     "name": "stderr",
     "output_type": "stream",
     "text": [
      " 67%|██████▋   | 88115/130662 [35:08<11:08, 63.68it/s]"
     ]
    },
    {
     "name": "stdout",
     "output_type": "stream",
     "text": [
      "skipped semisupervised-manglish/output-wav/Mamak-Sessions---We-May-Not-Always-End-Up-Doing-What-We-Thought-We-Would..And-That's-Not-A-Bad-Thing-IAeN0jG9Hwc.mp3-part-386.wav\n"
     ]
    },
    {
     "name": "stderr",
     "output_type": "stream",
     "text": [
      " 67%|██████▋   | 88185/130662 [35:10<11:47, 60.06it/s]"
     ]
    },
    {
     "name": "stdout",
     "output_type": "stream",
     "text": [
      "skipped semisupervised-manglish/output-wav/Mamak-Sessions-Ep13---Game-Of-Thrones-Is-OVER!-Malaysian-Accent-is-sexy!--mAdHcMGmEs.mp3-part-252.wav\n"
     ]
    },
    {
     "name": "stderr",
     "output_type": "stream",
     "text": [
      " 68%|██████▊   | 88251/130662 [35:11<13:19, 53.02it/s]"
     ]
    },
    {
     "name": "stdout",
     "output_type": "stream",
     "text": [
      "skipped semisupervised-manglish/output-wav/Real-Estate-Major-+-NUS-Overseas-College-in-Beijing-_-Singaporean-Podcast-#7-_-Danial-Arun-5SOInBKNP18.mp3-part-435.wav\n"
     ]
    },
    {
     "name": "stderr",
     "output_type": "stream",
     "text": [
      " 68%|██████▊   | 88287/130662 [35:11<11:22, 62.12it/s]"
     ]
    },
    {
     "name": "stdout",
     "output_type": "stream",
     "text": [
      "skipped semisupervised-manglish/output-wav/The-Fashion-Weak-Podcast-Ep35---Is-New-Balance-Cool-Now-Talking-everything-NOT-Nike-with-@adlysyairi-3b0bYe36KNE.mp3-part-464.wav\n"
     ]
    },
    {
     "name": "stderr",
     "output_type": "stream",
     "text": [
      " 68%|██████▊   | 88315/130662 [35:12<10:57, 64.37it/s]"
     ]
    },
    {
     "name": "stdout",
     "output_type": "stream",
     "text": [
      "skipped semisupervised-manglish/output-wav/Mamak-Sessions-Podcast---How-Dean-Lewis-became-who-he-is-today-HkOQy1Nxpis.mp3-part-167.wav\n"
     ]
    },
    {
     "name": "stderr",
     "output_type": "stream",
     "text": [
      " 68%|██████▊   | 88359/130662 [35:13<11:22, 62.01it/s]"
     ]
    },
    {
     "name": "stdout",
     "output_type": "stream",
     "text": [
      "skipped semisupervised-manglish/output-wav/Mamak-Sessions---How-I-Got-Quarantined-Because-Of-Covid-19-Feat.-Mark-O'Dea-5zAsyNKfzps.mp3-part-17.wav\n"
     ]
    },
    {
     "name": "stderr",
     "output_type": "stream",
     "text": [
      " 68%|██████▊   | 88389/130662 [35:13<10:38, 66.16it/s]"
     ]
    },
    {
     "name": "stdout",
     "output_type": "stream",
     "text": [
      "skipped semisupervised-manglish/output-wav/Mamak-Sessions---Airing-Dirty-Laundry-Online-and-Social-Justice-Warriors-FFtFXiIgsyk.mp3-part-65.wav\n"
     ]
    },
    {
     "name": "stderr",
     "output_type": "stream",
     "text": [
      " 68%|██████▊   | 88565/130662 [35:17<11:45, 59.68it/s]"
     ]
    },
    {
     "name": "stdout",
     "output_type": "stream",
     "text": [
      "skipped semisupervised-manglish/output-wav/Being-Bullied,-Toxic-Masculinity-And-Theatre-_-HTHT---Fauzi-Aziz-6syqXC_o6gs.mp3-part-352.wav\n"
     ]
    },
    {
     "name": "stderr",
     "output_type": "stream",
     "text": [
      " 68%|██████▊   | 88579/130662 [35:17<11:16, 62.20it/s]"
     ]
    },
    {
     "name": "stdout",
     "output_type": "stream",
     "text": [
      "skipped semisupervised-manglish/output-wav/Mamak-Sessions-Ep4---What-Turns-You-On,-Is-it-ok-if-your-Girlfriend-Earns-More-&-The-Ideal-Proposal-1av_p0DPDas.mp3-part-67.wav\n"
     ]
    },
    {
     "name": "stderr",
     "output_type": "stream",
     "text": [
      " 68%|██████▊   | 88609/130662 [35:17<12:40, 55.30it/s]"
     ]
    },
    {
     "name": "stdout",
     "output_type": "stream",
     "text": [
      "skipped semisupervised-manglish/output-wav/8-Wheels-Vs-4-Wheels-With-Sukeats-From-Wheel-Love---The-Fashion-Weak-Podcast-ep-12-fgaCmnMdZ0c.mp3-part-42.wav\n"
     ]
    },
    {
     "name": "stderr",
     "output_type": "stream",
     "text": [
      " 68%|██████▊   | 88652/130662 [35:18<11:21, 61.62it/s]"
     ]
    },
    {
     "name": "stdout",
     "output_type": "stream",
     "text": [
      "skipped semisupervised-manglish/output-wav/Most-Accurate-Personality-Test!-_-The-Thirsty-Sisters-#17-XLV720mng6w.mp3-part-44.wav\n",
      "skipped semisupervised-manglish/output-wav/8-Wheels-Vs-4-Wheels-With-Sukeats-From-Wheel-Love---The-Fashion-Weak-Podcast-ep-12-fgaCmnMdZ0c.mp3-part-39.wav\n"
     ]
    },
    {
     "name": "stderr",
     "output_type": "stream",
     "text": [
      " 68%|██████▊   | 88715/130662 [35:19<12:46, 54.76it/s]"
     ]
    },
    {
     "name": "stdout",
     "output_type": "stream",
     "text": [
      "skipped semisupervised-manglish/output-wav/Talking-Sneakers-&-Strong-Sperm-With-@bryanbotakchin---The-Fashion-Weak-Podcast-Episode-11-iugevNPFp2Y.mp3-part-7.wav\n"
     ]
    },
    {
     "name": "stderr",
     "output_type": "stream",
     "text": [
      " 68%|██████▊   | 88966/130662 [35:24<13:47, 50.39it/s]"
     ]
    },
    {
     "name": "stdout",
     "output_type": "stream",
     "text": [
      "skipped semisupervised-manglish/output-wav/Mamak-Sessions-Ep13---Game-Of-Thrones-Is-OVER!-Malaysian-Accent-is-sexy!--mAdHcMGmEs.mp3-part-284.wav\n"
     ]
    },
    {
     "name": "stderr",
     "output_type": "stream",
     "text": [
      " 68%|██████▊   | 89015/130662 [35:25<11:26, 60.68it/s]"
     ]
    },
    {
     "name": "stdout",
     "output_type": "stream",
     "text": [
      "skipped semisupervised-manglish/output-wav/NUS-Overseas-College-and-Silicon-Valley-_-Singaporean-Podcast-#6-_-Tony-Tong-1FLelqfAyZU.mp3-part-253.wav\n"
     ]
    },
    {
     "name": "stderr",
     "output_type": "stream",
     "text": [
      " 68%|██████▊   | 89038/130662 [35:25<10:30, 65.99it/s]"
     ]
    },
    {
     "name": "stdout",
     "output_type": "stream",
     "text": [
      "skipped semisupervised-manglish/output-wav/Mamak-Sessions---Can-Guys-And-Girls-Be-Best-Friends-Is-it-ok-to-see-more-than-one-person-at-a-time-IixUPM11VMY.mp3-part-262.wav\n",
      "skipped semisupervised-manglish/output-wav/Mamak-Sessions---Getting-Married-in-Vegas,-and-Sugar-Babies-ft.-Dennis-Yin-Cq6Yjwsu63U.mp3-part-14.wav\n",
      "skipped semisupervised-manglish/output-wav/Mamak-Sessions-Ep6---Names-People-Always-Mispronounce-&-Facebook-Is-A-Spy-8LuihYdx0FQ.mp3-part-69.wav\n"
     ]
    },
    {
     "name": "stderr",
     "output_type": "stream",
     "text": [
      " 68%|██████▊   | 89095/130662 [35:26<10:50, 63.87it/s]"
     ]
    },
    {
     "name": "stdout",
     "output_type": "stream",
     "text": [
      "skipped semisupervised-manglish/output-wav/Mamak-Sessions-Ep4---What-Turns-You-On,-Is-it-ok-if-your-Girlfriend-Earns-More-&-The-Ideal-Proposal-1av_p0DPDas.mp3-part-110.wav\n",
      "skipped semisupervised-manglish/output-wav/Relatives-Ruin-My-Wedding!-_-The-Thirsty-Sisters-#22-98CiTQQtqak.mp3-part-97.wav\n"
     ]
    },
    {
     "name": "stderr",
     "output_type": "stream",
     "text": [
      " 68%|██████▊   | 89202/130662 [35:28<10:25, 66.30it/s]"
     ]
    },
    {
     "name": "stdout",
     "output_type": "stream",
     "text": [
      "skipped semisupervised-manglish/output-wav/The-Fashion-Weak-Podcast-Ep-28-@dreamrocketeers-on-that-Rolex-you-should-cop-to-flex-on-poor-friends-shV1F1JlDzk.mp3-part-850.wav\n",
      "skipped semisupervised-manglish/output-wav/Why-Singaporean-Female-Entrepreneurship-Matters-_-Huda-Hamid-_-Singaporean-Podcast-#44-myPdnyUGvUk.mp3-part-395.wav\n"
     ]
    },
    {
     "name": "stderr",
     "output_type": "stream",
     "text": [
      " 68%|██████▊   | 89313/130662 [35:30<12:27, 55.28it/s]"
     ]
    },
    {
     "name": "stdout",
     "output_type": "stream",
     "text": [
      "skipped semisupervised-manglish/output-wav/The-Fashion-Weak-Podcast-Ep-43A---Keeping-Fair-On-The-Fairway-With-Natalia-Ng-CSP1XPZu4YY.mp3-part-122.wav\n"
     ]
    },
    {
     "name": "stderr",
     "output_type": "stream",
     "text": [
      " 68%|██████▊   | 89334/130662 [35:30<11:14, 61.26it/s]"
     ]
    },
    {
     "name": "stdout",
     "output_type": "stream",
     "text": [
      "skipped semisupervised-manglish/output-wav/Why-Blockchain-&-Crypo-Matters-_-Singaporean-Podcast-#15-_-Royal-Pek--2d7wzvNOCE.mp3-part-671.wav\n"
     ]
    },
    {
     "name": "stderr",
     "output_type": "stream",
     "text": [
      " 68%|██████▊   | 89383/130662 [35:31<14:59, 45.87it/s]"
     ]
    },
    {
     "name": "stdout",
     "output_type": "stream",
     "text": [
      "skipped semisupervised-manglish/output-wav/Why-Blockchain-&-Crypo-Matters-_-Singaporean-Podcast-#15-_-Royal-Pek--2d7wzvNOCE.mp3-part-358.wav\n"
     ]
    },
    {
     "name": "stderr",
     "output_type": "stream",
     "text": [
      " 68%|██████▊   | 89419/130662 [35:32<11:15, 61.03it/s]"
     ]
    },
    {
     "name": "stdout",
     "output_type": "stream",
     "text": [
      "skipped semisupervised-manglish/output-wav/Mamak-Sessions---Our-Differences-Is-What-Unites-Us-ft.-Elvin-Romeo-0jySfrZhs50.mp3-part-194.wav\n"
     ]
    },
    {
     "name": "stderr",
     "output_type": "stream",
     "text": [
      " 68%|██████▊   | 89441/130662 [35:32<10:17, 66.71it/s]"
     ]
    },
    {
     "name": "stdout",
     "output_type": "stream",
     "text": [
      "skipped semisupervised-manglish/output-wav/Mamak-Sessions---Airing-Dirty-Laundry-Online-and-Social-Justice-Warriors-FFtFXiIgsyk.mp3-part-291.wav\n"
     ]
    },
    {
     "name": "stderr",
     "output_type": "stream",
     "text": [
      " 68%|██████▊   | 89480/130662 [35:33<13:01, 52.67it/s]"
     ]
    },
    {
     "name": "stdout",
     "output_type": "stream",
     "text": [
      "skipped semisupervised-manglish/output-wav/Mamak-Sessions---Nasi-Lemak-Sneakers-zLEmAKdG9vY.mp3-part-479.wav\n"
     ]
    },
    {
     "name": "stderr",
     "output_type": "stream",
     "text": [
      " 69%|██████▊   | 89543/130662 [35:34<10:51, 63.10it/s]"
     ]
    },
    {
     "name": "stdout",
     "output_type": "stream",
     "text": [
      "skipped semisupervised-manglish/output-wav/Amander-Reveals-Why-She-Left-Titan---The-Team-Titan-Show-7byI9tIJeRk.mp3-part-127.wav\n"
     ]
    },
    {
     "name": "stderr",
     "output_type": "stream",
     "text": [
      " 69%|██████▊   | 89610/130662 [35:35<10:50, 63.12it/s]"
     ]
    },
    {
     "name": "stdout",
     "output_type": "stream",
     "text": [
      "skipped semisupervised-manglish/output-wav/Mamak-Sessions-Ep6---Names-People-Always-Mispronounce-&-Facebook-Is-A-Spy-8LuihYdx0FQ.mp3-part-280.wav\n",
      "skipped semisupervised-manglish/output-wav/The-Fashion-Weak-Podcast-Ep-22---Why-Fashion-School-Didn't-Work-Out-For-Zee-Avi-woDYSE37_rI.mp3-part-183.wav\n"
     ]
    },
    {
     "name": "stderr",
     "output_type": "stream",
     "text": [
      " 69%|██████▊   | 89777/130662 [35:38<12:08, 56.10it/s]"
     ]
    },
    {
     "name": "stdout",
     "output_type": "stream",
     "text": [
      "skipped semisupervised-manglish/output-wav/Mamak-Sessions---Nasi-Lemak-Sneakers-zLEmAKdG9vY.mp3-part-459.wav\n"
     ]
    },
    {
     "name": "stderr",
     "output_type": "stream",
     "text": [
      " 69%|██████▉   | 90053/130662 [35:43<11:06, 60.89it/s]"
     ]
    },
    {
     "name": "stdout",
     "output_type": "stream",
     "text": [
      "skipped semisupervised-manglish/output-wav/Mamak-Sessions---Getting-Married-in-Vegas,-and-Sugar-Babies-ft.-Dennis-Yin-Cq6Yjwsu63U.mp3-part-272.wav\n"
     ]
    },
    {
     "name": "stderr",
     "output_type": "stream",
     "text": [
      " 69%|██████▉   | 90130/130662 [35:45<11:07, 60.74it/s]"
     ]
    },
    {
     "name": "stdout",
     "output_type": "stream",
     "text": [
      "skipped semisupervised-manglish/output-wav/How-To-Get-Away-With-A-Sex-Crime!-_-The-Thirsty-Sisters-#15-mIc0MmSoaiI.mp3-part-279.wav\n"
     ]
    },
    {
     "name": "stderr",
     "output_type": "stream",
     "text": [
      " 69%|██████▉   | 90152/130662 [35:45<10:34, 63.87it/s]"
     ]
    },
    {
     "name": "stdout",
     "output_type": "stream",
     "text": [
      "skipped semisupervised-manglish/output-wav/Mamak-Sessions---Can-Guys-And-Girls-Be-Best-Friends-Is-it-ok-to-see-more-than-one-person-at-a-time-IixUPM11VMY.mp3-part-324.wav\n",
      "skipped semisupervised-manglish/output-wav/Mamak-Sessions---How-Do-You-Deal-With-Rumors-ft-Elizabeth-Tan-Rkvd5p3I11M.mp3-part-90.wav\n"
     ]
    },
    {
     "name": "stderr",
     "output_type": "stream",
     "text": [
      " 69%|██████▉   | 90350/130662 [35:49<10:44, 62.55it/s]"
     ]
    },
    {
     "name": "stdout",
     "output_type": "stream",
     "text": [
      "skipped semisupervised-manglish/output-wav/Career-Tips-for-Singaporean-Youths-&-Life-as-an-MP---Mr-Zainal-Sapari-_-Singaporean-Podcast#18-5VpSUeWPEuo.mp3-part-36.wav\n"
     ]
    },
    {
     "name": "stderr",
     "output_type": "stream",
     "text": [
      " 69%|██████▉   | 90425/130662 [35:50<10:30, 63.80it/s]"
     ]
    },
    {
     "name": "stdout",
     "output_type": "stream",
     "text": [
      "skipped semisupervised-manglish/output-wav/The-Fashion-Weak-Podcast-Ep-46---Premium-Thirst-Trap-Tips-With-Michelle-Lee-(@mich8lee)-MCHDyLJDJrg.mp3-part-213.wav\n"
     ]
    },
    {
     "name": "stderr",
     "output_type": "stream",
     "text": [
      " 69%|██████▉   | 90520/130662 [35:52<10:33, 63.37it/s]"
     ]
    },
    {
     "name": "stdout",
     "output_type": "stream",
     "text": [
      "skipped semisupervised-manglish/output-wav/The-Fashion-Weak-Podcast-Ep-29---Valentines-Day-With-Becca-Lee-and-Leonard-Chua-UWm1ESejkzs.mp3-part-155.wav\n"
     ]
    },
    {
     "name": "stderr",
     "output_type": "stream",
     "text": [
      " 69%|██████▉   | 90581/130662 [35:53<11:55, 56.00it/s]"
     ]
    },
    {
     "name": "stdout",
     "output_type": "stream",
     "text": [
      "skipped semisupervised-manglish/output-wav/Mamak-Sessions---How-Dating-Has-Changed-&-Tenet-ft-Elizabeth-Debicki-and-John-David-Washington-te2Be5GNNys.mp3-part-430.wav\n"
     ]
    },
    {
     "name": "stderr",
     "output_type": "stream",
     "text": [
      " 69%|██████▉   | 90735/130662 [35:56<12:12, 54.52it/s]"
     ]
    },
    {
     "name": "stdout",
     "output_type": "stream",
     "text": [
      "skipped semisupervised-manglish/output-wav/Relatives-Ruin-My-Wedding!-_-The-Thirsty-Sisters-#22-98CiTQQtqak.mp3-part-424.wav\n"
     ]
    },
    {
     "name": "stderr",
     "output_type": "stream",
     "text": [
      " 70%|██████▉   | 90833/130662 [35:58<11:09, 59.50it/s]"
     ]
    },
    {
     "name": "stdout",
     "output_type": "stream",
     "text": [
      "skipped semisupervised-manglish/output-wav/The-Fashion-Weak-Podcast-Ep-30---On-her-way-to-Supermodel-dom,-ASNTM--Cycle-5-Runner-Up-@shikingomez-otK3Gl_XX4c.mp3-part-265.wav\n"
     ]
    },
    {
     "name": "stderr",
     "output_type": "stream",
     "text": [
      " 70%|██████▉   | 90856/130662 [35:58<10:24, 63.73it/s]"
     ]
    },
    {
     "name": "stdout",
     "output_type": "stream",
     "text": [
      "skipped semisupervised-manglish/output-wav/The-Fashion-Weak-Podcast-Ep-32---Getting-Surprised-Reading-Melissa-Campbell's-(@heymelbelle)-IG-DMs-mJuKUwFpDgI.mp3-part-511.wav\n"
     ]
    },
    {
     "name": "stderr",
     "output_type": "stream",
     "text": [
      " 70%|██████▉   | 90887/130662 [35:59<09:48, 67.57it/s]"
     ]
    },
    {
     "name": "stdout",
     "output_type": "stream",
     "text": [
      "skipped semisupervised-manglish/output-wav/The-Fashion-Weak-Podcast-Ep-33---Lingerie-&-Bikini-Talk-With-Talitha-Tan-(@talithabe)-_7Un0q6a9zg.mp3-part-162.wav\n"
     ]
    },
    {
     "name": "stderr",
     "output_type": "stream",
     "text": [
      " 70%|██████▉   | 90965/130662 [36:00<10:34, 62.53it/s]"
     ]
    },
    {
     "name": "stdout",
     "output_type": "stream",
     "text": [
      "skipped semisupervised-manglish/output-wav/The-Fashion-Weak-Podcast-EP-25---Don't-Mess-With-@zamaeraaa's-Hello-Kitty-Cup-H4M_ZUDAT3k.mp3-part-628.wav\n"
     ]
    },
    {
     "name": "stderr",
     "output_type": "stream",
     "text": [
      " 70%|██████▉   | 91044/130662 [36:01<10:46, 61.25it/s]"
     ]
    },
    {
     "name": "stdout",
     "output_type": "stream",
     "text": [
      "skipped semisupervised-manglish/output-wav/Ben-Kheng-Reflects-On-The-Sam-Willows,-Anxiety,-And-Religion-_-HTHT---Ben-Kheng-X4QapKCCneQ.mp3-part-429.wav\n"
     ]
    },
    {
     "name": "stderr",
     "output_type": "stream",
     "text": [
      " 70%|██████▉   | 91073/130662 [36:02<10:10, 64.83it/s]"
     ]
    },
    {
     "name": "stdout",
     "output_type": "stream",
     "text": [
      "skipped semisupervised-manglish/output-wav/Mamak-Sessions---The-Miss-World-Crown-is-more-than-$4,000,000!-PazCOj1nb3c.mp3-part-152.wav\n"
     ]
    },
    {
     "name": "stderr",
     "output_type": "stream",
     "text": [
      " 70%|██████▉   | 91189/130662 [36:04<12:56, 50.81it/s]"
     ]
    },
    {
     "name": "stdout",
     "output_type": "stream",
     "text": [
      "skipped semisupervised-manglish/output-wav/NUS-Overseas-College-and-Silicon-Valley-_-Singaporean-Podcast-#6-_-Tony-Tong-1FLelqfAyZU.mp3-part-244.wav\n",
      "skipped semisupervised-manglish/output-wav/The-Fashion-Weak-Podcast-Ep-30---On-her-way-to-Supermodel-dom,-ASNTM--Cycle-5-Runner-Up-@shikingomez-otK3Gl_XX4c.mp3-part-300.wav\n"
     ]
    },
    {
     "name": "stderr",
     "output_type": "stream",
     "text": [
      " 70%|██████▉   | 91210/130662 [36:04<11:04, 59.39it/s]"
     ]
    },
    {
     "name": "stdout",
     "output_type": "stream",
     "text": [
      "skipped semisupervised-manglish/output-wav/The-Fashion-Weak-Podcast-Ep-46---Premium-Thirst-Trap-Tips-With-Michelle-Lee-(@mich8lee)-MCHDyLJDJrg.mp3-part-489.wav\n"
     ]
    },
    {
     "name": "stderr",
     "output_type": "stream",
     "text": [
      " 70%|██████▉   | 91248/130662 [36:05<10:02, 65.41it/s]"
     ]
    },
    {
     "name": "stdout",
     "output_type": "stream",
     "text": [
      "skipped semisupervised-manglish/output-wav/The-Fashion-Weak-Podcast-Ep-43---Thirst-Trapping-Simps-&-Loving-Your-Body-From-The-Outside-In-6R87P6YD2c4.mp3-part-430.wav\n"
     ]
    },
    {
     "name": "stderr",
     "output_type": "stream",
     "text": [
      " 70%|██████▉   | 91289/130662 [36:06<12:52, 50.95it/s]"
     ]
    },
    {
     "name": "stdout",
     "output_type": "stream",
     "text": [
      "skipped semisupervised-manglish/output-wav/Mamak-Sessions---Can-Guys-And-Girls-Be-Best-Friends-Is-it-ok-to-see-more-than-one-person-at-a-time-IixUPM11VMY.mp3-part-268.wav\n"
     ]
    },
    {
     "name": "stderr",
     "output_type": "stream",
     "text": [
      " 70%|██████▉   | 91305/130662 [36:06<10:42, 61.22it/s]"
     ]
    },
    {
     "name": "stdout",
     "output_type": "stream",
     "text": [
      "skipped semisupervised-manglish/output-wav/Make-Insurance-Sexy-Again-+-Best-Advice-to-Financial-Advisors-_-Singaporean-Podcast-#19-_-Leslie-Koh-vKpmE4ZFnGE.mp3-part-13.wav\n",
      "skipped semisupervised-manglish/output-wav/The-Fashion-Weak-Podcast-Ep-43A---Keeping-Fair-On-The-Fairway-With-Natalia-Ng-CSP1XPZu4YY.mp3-part-545.wav\n"
     ]
    },
    {
     "name": "stderr",
     "output_type": "stream",
     "text": [
      " 70%|██████▉   | 91341/130662 [36:07<10:03, 65.10it/s]"
     ]
    },
    {
     "name": "stdout",
     "output_type": "stream",
     "text": [
      "skipped semisupervised-manglish/output-wav/Mamak-Sessions-Ep10---Datuk-Nicol-David-is-RETIRING!-n3AR3nQEc7Y.mp3-part-521.wav\n"
     ]
    },
    {
     "name": "stderr",
     "output_type": "stream",
     "text": [
      "\r",
      " 70%|██████▉   | 91348/130662 [36:07<10:26, 62.77it/s]"
     ]
    },
    {
     "name": "stdout",
     "output_type": "stream",
     "text": [
      "skipped semisupervised-manglish/output-wav/Is-Cancel-Culture-Problematic-_-IMO-Ep.25-luGvazsVsHc.mp3-part-52.wav\n",
      "skipped semisupervised-manglish/output-wav/The-Fashion-Weak-Podcast-Ep-30---On-her-way-to-Supermodel-dom,-ASNTM--Cycle-5-Runner-Up-@shikingomez-otK3Gl_XX4c.mp3-part-419.wav\n"
     ]
    },
    {
     "name": "stderr",
     "output_type": "stream",
     "text": [
      " 70%|██████▉   | 91390/130662 [36:08<11:53, 55.06it/s]"
     ]
    },
    {
     "name": "stdout",
     "output_type": "stream",
     "text": [
      "skipped semisupervised-manglish/output-wav/The-Fashion-Weak-Podcast-Ep-40---tdcjTfzYSbk.mp3-part-1020.wav\n"
     ]
    },
    {
     "name": "stderr",
     "output_type": "stream",
     "text": [
      "\r",
      " 70%|██████▉   | 91398/130662 [36:08<11:29, 56.93it/s]"
     ]
    },
    {
     "name": "stdout",
     "output_type": "stream",
     "text": [
      "skipped semisupervised-manglish/output-wav/The-Fashion-Weak-Podcast-Ep-30---On-her-way-to-Supermodel-dom,-ASNTM--Cycle-5-Runner-Up-@shikingomez-otK3Gl_XX4c.mp3-part-513.wav\n"
     ]
    },
    {
     "name": "stderr",
     "output_type": "stream",
     "text": [
      " 70%|██████▉   | 91427/130662 [36:08<10:36, 61.68it/s]"
     ]
    },
    {
     "name": "stdout",
     "output_type": "stream",
     "text": [
      "skipped semisupervised-manglish/output-wav/Nicole-Choo-on-What-Went-Wrong-with-Ridhwan---Team-Titan-Show-#4-gW9sv26g4Io.mp3-part-21.wav\n"
     ]
    },
    {
     "name": "stderr",
     "output_type": "stream",
     "text": [
      " 70%|███████   | 91468/130662 [36:09<12:40, 51.51it/s]"
     ]
    },
    {
     "name": "stdout",
     "output_type": "stream",
     "text": [
      "skipped semisupervised-manglish/output-wav/Mamak-Sessions---How-Dating-Has-Changed-&-Tenet-ft-Elizabeth-Debicki-and-John-David-Washington-te2Be5GNNys.mp3-part-367.wav\n"
     ]
    },
    {
     "name": "stderr",
     "output_type": "stream",
     "text": [
      " 70%|███████   | 91582/130662 [36:11<10:38, 61.25it/s]"
     ]
    },
    {
     "name": "stdout",
     "output_type": "stream",
     "text": [
      "skipped semisupervised-manglish/output-wav/Mamak-Sessions---Do-You-Check-Your-Partner's-Text-Messages-Featuring-Lizz-Chloe-WJkSAHvYyqk.mp3-part-520.wav\n"
     ]
    },
    {
     "name": "stderr",
     "output_type": "stream",
     "text": [
      " 70%|███████   | 91634/130662 [36:12<13:36, 47.80it/s]"
     ]
    },
    {
     "name": "stdout",
     "output_type": "stream",
     "text": [
      "skipped semisupervised-manglish/output-wav/The-Fashion-Weak-Podcast-Ep-26---Chinese-New-Year-with-Stand-Up-Comedian-_-Fashionista-Kuah-Jenhan-Yv7uONh96tc.mp3-part-622.wav\n",
      "skipped semisupervised-manglish/output-wav/Should-Influencers-Be-Expected-To-Do-More-For-Society-(ft.-Celeste-Loh)-_-IMO-Ep.4-7izYax1bCwg.mp3-part-128.wav\n"
     ]
    },
    {
     "name": "stderr",
     "output_type": "stream",
     "text": [
      " 70%|███████   | 91649/130662 [36:13<11:21, 57.25it/s]"
     ]
    },
    {
     "name": "stdout",
     "output_type": "stream",
     "text": [
      "skipped semisupervised-manglish/output-wav/How-To-Be-A-Damn-Good-Software-Developer-+-Israel-Startup-Culture-_-Singaporean-Podcast-#11-_-Mark-cs2LkcSpNpw.mp3-part-124.wav\n"
     ]
    },
    {
     "name": "stderr",
     "output_type": "stream",
     "text": [
      " 70%|███████   | 91752/130662 [36:14<11:35, 55.96it/s]"
     ]
    },
    {
     "name": "stdout",
     "output_type": "stream",
     "text": [
      "skipped semisupervised-manglish/output-wav/Ben-Kheng-Reflects-On-The-Sam-Willows,-Anxiety,-And-Religion-_-HTHT---Ben-Kheng-X4QapKCCneQ.mp3-part-222.wav\n"
     ]
    },
    {
     "name": "stderr",
     "output_type": "stream",
     "text": [
      " 70%|███████   | 91771/130662 [36:15<11:47, 54.97it/s]"
     ]
    },
    {
     "name": "stdout",
     "output_type": "stream",
     "text": [
      "skipped semisupervised-manglish/output-wav/Mamak-Sessions---Blaming-Yourself-For-Your-Parents'-Divorce,-And-How-Our-Parents-Punish-Us-x8Gl_zIC9CQ.mp3-part-47.wav\n"
     ]
    },
    {
     "name": "stderr",
     "output_type": "stream",
     "text": [
      " 70%|███████   | 91798/130662 [36:15<10:31, 61.51it/s]"
     ]
    },
    {
     "name": "stdout",
     "output_type": "stream",
     "text": [
      "skipped semisupervised-manglish/output-wav/The-Fashion-Weak-Podcast-Ep-29---Valentines-Day-With-Becca-Lee-and-Leonard-Chua-UWm1ESejkzs.mp3-part-562.wav\n"
     ]
    },
    {
     "name": "stderr",
     "output_type": "stream",
     "text": [
      " 70%|███████   | 91938/130662 [36:18<10:34, 61.07it/s]"
     ]
    },
    {
     "name": "stdout",
     "output_type": "stream",
     "text": [
      "skipped semisupervised-manglish/output-wav/The-Fashion-Weak-Podcast-Ep-43A---Keeping-Fair-On-The-Fairway-With-Natalia-Ng-CSP1XPZu4YY.mp3-part-365.wav\n"
     ]
    },
    {
     "name": "stderr",
     "output_type": "stream",
     "text": [
      " 70%|███████   | 91953/130662 [36:18<10:18, 62.55it/s]"
     ]
    },
    {
     "name": "stdout",
     "output_type": "stream",
     "text": [
      "skipped semisupervised-manglish/output-wav/The-Fashion-Weak-Podcast-Ep-19---Butt-Stuff-&-Actual-Fashion-With-Zane-Gan-jhLgzHQnAHU.mp3-part-59.wav\n"
     ]
    },
    {
     "name": "stderr",
     "output_type": "stream",
     "text": [
      " 70%|███████   | 91997/130662 [36:19<13:16, 48.56it/s]"
     ]
    },
    {
     "name": "stdout",
     "output_type": "stream",
     "text": [
      "skipped semisupervised-manglish/output-wav/Mamak-Sessions---The-Asian-Mom-Of-The-Internet-ft-Tata-Wyb6i3GoJv4.mp3-part-65.wav\n"
     ]
    },
    {
     "name": "stderr",
     "output_type": "stream",
     "text": [
      " 70%|███████   | 92041/130662 [36:20<11:02, 58.31it/s]"
     ]
    },
    {
     "name": "stdout",
     "output_type": "stream",
     "text": [
      "skipped semisupervised-manglish/output-wav/Mamak-Sessions-Podcast---Committing-Suicide,-Mental-Health-And-How-To-Seek-Help-EHlGktcfDZc.mp3-part-17.wav\n",
      "skipped semisupervised-manglish/output-wav/8-Wheels-Vs-4-Wheels-With-Sukeats-From-Wheel-Love---The-Fashion-Weak-Podcast-ep-12-fgaCmnMdZ0c.mp3-part-85.wav\n",
      "skipped semisupervised-manglish/output-wav/The-Fashion-Weak-Podcast-Ep-38---TikTok-Royalty-Roshan-Jeet-aka-Roshannnn1-lPnRg9UsP0M.mp3-part-836.wav\n"
     ]
    },
    {
     "name": "stderr",
     "output_type": "stream",
     "text": [
      " 70%|███████   | 92057/130662 [36:20<10:06, 63.62it/s]"
     ]
    },
    {
     "name": "stdout",
     "output_type": "stream",
     "text": [
      "skipped semisupervised-manglish/output-wav/The-Fashion-Weak-Podcast-Ep-32---Getting-Surprised-Reading-Melissa-Campbell's-(@heymelbelle)-IG-DMs-mJuKUwFpDgI.mp3-part-64.wav\n",
      "skipped semisupervised-manglish/output-wav/Mamak-Sessions---Nasi-Lemak-Sneakers-zLEmAKdG9vY.mp3-part-19.wav\n"
     ]
    },
    {
     "name": "stderr",
     "output_type": "stream",
     "text": [
      " 70%|███████   | 92093/130662 [36:21<12:55, 49.73it/s]"
     ]
    },
    {
     "name": "stdout",
     "output_type": "stream",
     "text": [
      "skipped semisupervised-manglish/output-wav/Mamak-Sessions---How-Do-You-Deal-With-Rumors-ft-Elizabeth-Tan-Rkvd5p3I11M.mp3-part-111.wav\n"
     ]
    },
    {
     "name": "stderr",
     "output_type": "stream",
     "text": [
      " 70%|███████   | 92107/130662 [36:21<11:37, 55.24it/s]"
     ]
    },
    {
     "name": "stdout",
     "output_type": "stream",
     "text": [
      "skipped semisupervised-manglish/output-wav/Thinking-Long-And-Hard-With-@prakashdanielcomedy---The-Fashion-Weak-Podcast-Episode-13-UryaihXnjBk.mp3-part-253.wav\n"
     ]
    },
    {
     "name": "stderr",
     "output_type": "stream",
     "text": [
      " 71%|███████   | 92194/130662 [36:22<11:19, 56.65it/s]"
     ]
    },
    {
     "name": "stdout",
     "output_type": "stream",
     "text": [
      "skipped semisupervised-manglish/output-wav/Exposed!-Our-Favourite-Night-Activity-We-Miss-The-Most!-_-The-Thirsty-Sisters-#5-TxeBIVuXRHM.mp3-part-358.wav\n"
     ]
    },
    {
     "name": "stderr",
     "output_type": "stream",
     "text": [
      " 71%|███████   | 92244/130662 [36:23<10:06, 63.38it/s]"
     ]
    },
    {
     "name": "stdout",
     "output_type": "stream",
     "text": [
      "skipped semisupervised-manglish/output-wav/The-Fashion-Weak-Podcast-Ep-32---Getting-Surprised-Reading-Melissa-Campbell's-(@heymelbelle)-IG-DMs-mJuKUwFpDgI.mp3-part-308.wav\n"
     ]
    },
    {
     "name": "stderr",
     "output_type": "stream",
     "text": [
      "\r",
      " 71%|███████   | 92251/130662 [36:23<10:09, 62.98it/s]"
     ]
    },
    {
     "name": "stdout",
     "output_type": "stream",
     "text": [
      "skipped semisupervised-manglish/output-wav/The-Fashion-Weak-Podcast-Ep-43---Thirst-Trapping-Simps-&-Loving-Your-Body-From-The-Outside-In-6R87P6YD2c4.mp3-part-602.wav\n",
      "skipped semisupervised-manglish/output-wav/Do-You-Know-Your-Attachment-Style!-_-The-Thirsty-Sisters-#21-HKnXUGo_H2U.mp3-part-69.wav\n"
     ]
    },
    {
     "name": "stderr",
     "output_type": "stream",
     "text": [
      " 71%|███████   | 92372/130662 [36:26<11:14, 56.77it/s]"
     ]
    },
    {
     "name": "stdout",
     "output_type": "stream",
     "text": [
      "skipped semisupervised-manglish/output-wav/The-Fashion-Weak-Podcast-Ep-43A---Keeping-Fair-On-The-Fairway-With-Natalia-Ng-CSP1XPZu4YY.mp3-part-721.wav\n",
      "skipped semisupervised-manglish/output-wav/Mamak-Sessions---From-A-Transport-Assistant-to-a-Multi-Award-Winning-Film-Director-r6f3OoHVkgU.mp3-part-402.wav\n"
     ]
    },
    {
     "name": "stderr",
     "output_type": "stream",
     "text": [
      " 71%|███████   | 92403/130662 [36:26<10:45, 59.24it/s]"
     ]
    },
    {
     "name": "stdout",
     "output_type": "stream",
     "text": [
      "skipped semisupervised-manglish/output-wav/Mamak-Sessions---'Chinese-Whispers'-CXnW4hJDp54.mp3-part-198.wav\n"
     ]
    },
    {
     "name": "stderr",
     "output_type": "stream",
     "text": [
      " 71%|███████   | 92494/130662 [36:28<10:12, 62.36it/s]"
     ]
    },
    {
     "name": "stdout",
     "output_type": "stream",
     "text": [
      "skipped semisupervised-manglish/output-wav/Why-Human-Resources-Matters-+-Life-as-a-Singapore-Solopreneur-_-Lauren-Ong-_-Singaporean-Podcast-#20-YtCn4hNLk7o.mp3-part-342.wav\n"
     ]
    },
    {
     "name": "stderr",
     "output_type": "stream",
     "text": [
      " 71%|███████   | 92524/130662 [36:28<09:41, 65.56it/s]"
     ]
    },
    {
     "name": "stdout",
     "output_type": "stream",
     "text": [
      "skipped semisupervised-manglish/output-wav/Mamak-Sessions---Are-We-Safe-From-The-Wuhan-Virus-and-Are-Spiritual-Healers-Scammers-skGDf57Q9xs.mp3-part-113.wav\n"
     ]
    },
    {
     "name": "stderr",
     "output_type": "stream",
     "text": [
      " 71%|███████   | 92574/130662 [36:29<11:08, 57.01it/s]"
     ]
    },
    {
     "name": "stdout",
     "output_type": "stream",
     "text": [
      "skipped semisupervised-manglish/output-wav/The-Fashion-Weak-Podcast-EP-36---Why-guys-REALLY-go-for-spin-class-with-Oxygen-Cycle-RqG0tHR9D1g.mp3-part-528.wav\n"
     ]
    },
    {
     "name": "stderr",
     "output_type": "stream",
     "text": [
      " 71%|███████   | 92611/130662 [36:30<09:46, 64.93it/s]"
     ]
    },
    {
     "name": "stdout",
     "output_type": "stream",
     "text": [
      "skipped semisupervised-manglish/output-wav/Being-A-Single-Divorced-Woman-At-32-_-The-Thirsty-Sisters-#11-8DMyfcjyrZQ.mp3-part-187.wav\n"
     ]
    },
    {
     "name": "stderr",
     "output_type": "stream",
     "text": [
      " 71%|███████   | 92771/130662 [36:33<10:38, 59.33it/s]"
     ]
    },
    {
     "name": "stdout",
     "output_type": "stream",
     "text": [
      "skipped semisupervised-manglish/output-wav/Mamak-Sessions---Do-You-Check-Your-Partner's-Text-Messages-Featuring-Lizz-Chloe-WJkSAHvYyqk.mp3-part-156.wav\n",
      "skipped semisupervised-manglish/output-wav/Mamak-Sessions---'Chinese-Whispers'-CXnW4hJDp54.mp3-part-34.wav\n"
     ]
    },
    {
     "name": "stderr",
     "output_type": "stream",
     "text": [
      " 71%|███████   | 92882/130662 [36:35<10:10, 61.88it/s]"
     ]
    },
    {
     "name": "stdout",
     "output_type": "stream",
     "text": [
      "skipped semisupervised-manglish/output-wav/Mamak-Sessions---Can-Guys-And-Girls-Be-Best-Friends-Is-it-ok-to-see-more-than-one-person-at-a-time-IixUPM11VMY.mp3-part-311.wav\n"
     ]
    },
    {
     "name": "stderr",
     "output_type": "stream",
     "text": [
      " 71%|███████▏  | 93120/130662 [36:39<10:13, 61.20it/s]"
     ]
    },
    {
     "name": "stdout",
     "output_type": "stream",
     "text": [
      "skipped semisupervised-manglish/output-wav/The-Fashion-Weak-Podcast-Ep-39---Talking-Turn-On's-and-Fashion-Bulk-Buy-Deals-With-Tata-Wanqian-WSVo-qvu1GQ.mp3-part-694.wav\n"
     ]
    },
    {
     "name": "stderr",
     "output_type": "stream",
     "text": [
      " 71%|███████▏  | 93176/130662 [36:40<11:08, 56.07it/s]"
     ]
    },
    {
     "name": "stdout",
     "output_type": "stream",
     "text": [
      "skipped semisupervised-manglish/output-wav/The-Fashion-Weak-Podcast-Ep-43---Thirst-Trapping-Simps-&-Loving-Your-Body-From-The-Outside-In-6R87P6YD2c4.mp3-part-44.wav\n"
     ]
    },
    {
     "name": "stderr",
     "output_type": "stream",
     "text": [
      " 71%|███████▏  | 93198/130662 [36:41<09:49, 63.53it/s]"
     ]
    },
    {
     "name": "stdout",
     "output_type": "stream",
     "text": [
      "skipped semisupervised-manglish/output-wav/The-Fashion-Weak-Podcast-Ep-32---Getting-Surprised-Reading-Melissa-Campbell's-(@heymelbelle)-IG-DMs-mJuKUwFpDgI.mp3-part-186.wav\n"
     ]
    },
    {
     "name": "stderr",
     "output_type": "stream",
     "text": [
      " 71%|███████▏  | 93368/130662 [36:44<10:32, 59.00it/s]"
     ]
    },
    {
     "name": "stdout",
     "output_type": "stream",
     "text": [
      "skipped semisupervised-manglish/output-wav/The-Fashion-Weak-Podcast-Ep24---Penang-Boys-@tunway-瘦虎-&-@Shawnduabui-肥龍-Talk-Zap-Fan-&-Sneakers-dykz_vuzJh0.mp3-part-752.wav\n"
     ]
    },
    {
     "name": "stderr",
     "output_type": "stream",
     "text": [
      " 71%|███████▏  | 93383/130662 [36:44<10:00, 62.11it/s]"
     ]
    },
    {
     "name": "stdout",
     "output_type": "stream",
     "text": [
      "skipped semisupervised-manglish/output-wav/Are-We-Still-Sexualising-Women-in-2020-_-Thirsty-Sisters-#13-zHC1MPeSP34.mp3-part-24.wav\n"
     ]
    },
    {
     "name": "stderr",
     "output_type": "stream",
     "text": [
      " 72%|███████▏  | 93454/130662 [36:45<10:41, 58.03it/s]"
     ]
    },
    {
     "name": "stdout",
     "output_type": "stream",
     "text": [
      "skipped semisupervised-manglish/output-wav/The-Fashion-Weak-Podcast-Ep-22---Why-Fashion-School-Didn't-Work-Out-For-Zee-Avi-woDYSE37_rI.mp3-part-460.wav\n"
     ]
    },
    {
     "name": "stderr",
     "output_type": "stream",
     "text": [
      " 72%|███████▏  | 93635/130662 [36:49<10:58, 56.21it/s]"
     ]
    },
    {
     "name": "stdout",
     "output_type": "stream",
     "text": [
      "skipped semisupervised-manglish/output-wav/@Juanitadr-shows-us-what-Arnold's-Tongue-Can-Do---The-Fashion-Weak-Podcast-Episode-10-N5EfPvQKW90.mp3-part-226.wav\n"
     ]
    },
    {
     "name": "stderr",
     "output_type": "stream",
     "text": [
      " 72%|███████▏  | 93700/130662 [36:50<13:07, 46.96it/s]"
     ]
    },
    {
     "name": "stdout",
     "output_type": "stream",
     "text": [
      "skipped semisupervised-manglish/output-wav/Mamak-Sessions-Ep6---Names-People-Always-Mispronounce-&-Facebook-Is-A-Spy-8LuihYdx0FQ.mp3-part-32.wav\n"
     ]
    },
    {
     "name": "stderr",
     "output_type": "stream",
     "text": [
      " 72%|███████▏  | 93736/130662 [36:51<10:19, 59.63it/s]"
     ]
    },
    {
     "name": "stdout",
     "output_type": "stream",
     "text": [
      "skipped semisupervised-manglish/output-wav/Mamak-Sessions-Ep6---Names-People-Always-Mispronounce-&-Facebook-Is-A-Spy-8LuihYdx0FQ.mp3-part-148.wav\n"
     ]
    },
    {
     "name": "stderr",
     "output_type": "stream",
     "text": [
      " 72%|███████▏  | 93765/130662 [36:51<09:49, 62.64it/s]"
     ]
    },
    {
     "name": "stdout",
     "output_type": "stream",
     "text": [
      "skipped semisupervised-manglish/output-wav/Burning-Hot-Fever!-4-Doctors-Tried-To-Save-Me-In-The-Hospital!-_-The-Thirsty-Sisters-#6-Jw7B8efygWI.mp3-part-118.wav\n"
     ]
    },
    {
     "name": "stderr",
     "output_type": "stream",
     "text": [
      " 72%|███████▏  | 93809/130662 [36:52<10:21, 59.26it/s]"
     ]
    },
    {
     "name": "stdout",
     "output_type": "stream",
     "text": [
      "skipped semisupervised-manglish/output-wav/The-Fashion-Weak-Podcast-Ep-38---TikTok-Royalty-Roshan-Jeet-aka-Roshannnn1-lPnRg9UsP0M.mp3-part-616.wav\n",
      "skipped semisupervised-manglish/output-wav/Dance-Moves-To-Pick-Up-Girls-At-The-Club-With-Adidas-Creator-Maybelline-Wong-(@definitelyMayb_)-vRnkHzyyBc4.mp3-part-629.wav\n",
      "skipped semisupervised-manglish/output-wav/@Juanitadr-shows-us-what-Arnold's-Tongue-Can-Do---The-Fashion-Weak-Podcast-Episode-10-N5EfPvQKW90.mp3-part-479.wav\n"
     ]
    },
    {
     "name": "stderr",
     "output_type": "stream",
     "text": [
      " 72%|███████▏  | 93849/130662 [36:53<10:10, 60.34it/s]"
     ]
    },
    {
     "name": "stdout",
     "output_type": "stream",
     "text": [
      "skipped semisupervised-manglish/output-wav/Grown-Up-Flex-With-YouTube-Superstar-@JinnyBoy---The-Fashion-Weak-Podcast-Episode-9-7wiSVCBFmFc.mp3-part-233.wav\n"
     ]
    },
    {
     "name": "stderr",
     "output_type": "stream",
     "text": [
      " 72%|███████▏  | 93864/130662 [36:53<09:39, 63.52it/s]"
     ]
    },
    {
     "name": "stdout",
     "output_type": "stream",
     "text": [
      "skipped semisupervised-manglish/output-wav/Mamak-Sessions-Ep9---Sibling-Rivalry-ft-Julian-Yee-670FyeJhnps.mp3-part-395.wav\n"
     ]
    },
    {
     "name": "stderr",
     "output_type": "stream",
     "text": [
      " 72%|███████▏  | 93997/130662 [36:55<09:04, 67.30it/s]"
     ]
    },
    {
     "name": "stdout",
     "output_type": "stream",
     "text": [
      "skipped semisupervised-manglish/output-wav/Our-Must-Watch-Movies-_-IMO-Ep.28-281TVct4AvE.mp3-part-116.wav\n",
      "skipped semisupervised-manglish/output-wav/Mamak-Sessions---Coming-Out-ft.-Nigel-Chin-and-Magnum-79ax7ZQss5M.mp3-part-24.wav\n",
      "skipped semisupervised-manglish/output-wav/Mamak-Sessions-Podcast---Girl-Gets-Caned-For-Calling-her-Teacher-'AH-GUA'-PRN5UrsDF6w.mp3-part-129.wav\n"
     ]
    },
    {
     "name": "stderr",
     "output_type": "stream",
     "text": [
      " 72%|███████▏  | 94050/130662 [36:56<09:35, 63.62it/s]"
     ]
    },
    {
     "name": "stdout",
     "output_type": "stream",
     "text": [
      "skipped semisupervised-manglish/output-wav/Mamak-Sessions---Getting-Married-in-Vegas,-and-Sugar-Babies-ft.-Dennis-Yin-Cq6Yjwsu63U.mp3-part-85.wav\n"
     ]
    },
    {
     "name": "stderr",
     "output_type": "stream",
     "text": [
      " 72%|███████▏  | 94080/130662 [36:57<11:12, 54.36it/s]"
     ]
    },
    {
     "name": "stdout",
     "output_type": "stream",
     "text": [
      "skipped semisupervised-manglish/output-wav/The-Fashion-Weak-Podcast-Ep-40---tdcjTfzYSbk.mp3-part-44.wav\n",
      "skipped semisupervised-manglish/output-wav/Conversations-with-a-Young-Singaporean-CEO--Gao-Fei,-CEO-of-LearnSeeker-_-Singaporean-Podcast-#13--b9YHjghfd2E.mp3-part-74.wav\n"
     ]
    },
    {
     "name": "stderr",
     "output_type": "stream",
     "text": [
      " 72%|███████▏  | 94116/130662 [36:57<10:00, 60.87it/s]"
     ]
    },
    {
     "name": "stdout",
     "output_type": "stream",
     "text": [
      "skipped semisupervised-manglish/output-wav/The-Fashion-Weak-Podcast-Ep-39---Talking-Turn-On's-and-Fashion-Bulk-Buy-Deals-With-Tata-Wanqian-WSVo-qvu1GQ.mp3-part-51.wav\n"
     ]
    },
    {
     "name": "stderr",
     "output_type": "stream",
     "text": [
      " 72%|███████▏  | 94172/130662 [36:58<10:47, 56.40it/s]"
     ]
    },
    {
     "name": "stdout",
     "output_type": "stream",
     "text": [
      "skipped semisupervised-manglish/output-wav/Why-Blockchain-&-Crypo-Matters-_-Singaporean-Podcast-#15-_-Royal-Pek--2d7wzvNOCE.mp3-part-850.wav\n",
      "skipped semisupervised-manglish/output-wav/The-Fashion-Weak-Podcast-Ep-23---Alicia-Amin-On-Being-A-'Malay'-Model-In-2019-3pKA5NvTCOA.mp3-part-608.wav\n"
     ]
    },
    {
     "name": "stderr",
     "output_type": "stream",
     "text": [
      " 72%|███████▏  | 94197/130662 [36:59<09:16, 65.50it/s]"
     ]
    },
    {
     "name": "stdout",
     "output_type": "stream",
     "text": [
      "skipped semisupervised-manglish/output-wav/The-Fashion-Weak-Podcast-Ep-40---tdcjTfzYSbk.mp3-part-548.wav\n",
      "skipped semisupervised-manglish/output-wav/The-Fashion-Weak-Podcast-Ep-45---Finessing-A-New-Phone-Every-Year-With-Mamak-Rap-King-Jiven-Sekar-VlovwtVYuw0.mp3-part-209.wav\n"
     ]
    },
    {
     "name": "stderr",
     "output_type": "stream",
     "text": [
      " 72%|███████▏  | 94280/130662 [37:00<09:57, 60.88it/s]"
     ]
    },
    {
     "name": "stdout",
     "output_type": "stream",
     "text": [
      "skipped semisupervised-manglish/output-wav/Mamak-Sessions-Podcast---A-Dog-Was-Slashed-In-The-Mouth-And-Abused,-But-This-Kind-Soul-Saved-It-FNfbmh93DFo.mp3-part-420.wav\n",
      "skipped semisupervised-manglish/output-wav/Talking-Sneakers-&-Strong-Sperm-With-@bryanbotakchin---The-Fashion-Weak-Podcast-Episode-11-iugevNPFp2Y.mp3-part-215.wav\n"
     ]
    },
    {
     "name": "stderr",
     "output_type": "stream",
     "text": [
      " 72%|███████▏  | 94339/130662 [37:01<12:38, 47.89it/s]"
     ]
    },
    {
     "name": "stdout",
     "output_type": "stream",
     "text": [
      "skipped semisupervised-manglish/output-wav/Mamak-Sessions---Girls-Are-Such-Complicated-Lil-Creatures-feat.-Talitha.-I2BaN8cm6NY.mp3-part-90.wav\n",
      "skipped semisupervised-manglish/output-wav/The-Fashion-Weak-Podcast-Ep-46---Premium-Thirst-Trap-Tips-With-Michelle-Lee-(@mich8lee)-MCHDyLJDJrg.mp3-part-844.wav\n",
      "skipped semisupervised-manglish/output-wav/Mamak-Sessions-Ep2---Bringing-A-Girl-Home-For-The-First-Time-Jn2oeTajYCw.mp3-part-206.wav\n",
      "skipped semisupervised-manglish/output-wav/Dance-Moves-To-Pick-Up-Girls-At-The-Club-With-Adidas-Creator-Maybelline-Wong-(@definitelyMayb_)-vRnkHzyyBc4.mp3-part-692.wav\n"
     ]
    },
    {
     "name": "stderr",
     "output_type": "stream",
     "text": [
      " 72%|███████▏  | 94487/130662 [37:04<08:55, 67.57it/s]"
     ]
    },
    {
     "name": "stdout",
     "output_type": "stream",
     "text": [
      "skipped semisupervised-manglish/output-wav/Mamak-Sessions---Here's-What-You-Should-Know-About-Buying-Properties-ZcVRJSDCof0.mp3-part-309.wav\n"
     ]
    },
    {
     "name": "stderr",
     "output_type": "stream",
     "text": [
      " 72%|███████▏  | 94502/130662 [37:04<09:06, 66.12it/s]"
     ]
    },
    {
     "name": "stdout",
     "output_type": "stream",
     "text": [
      "skipped semisupervised-manglish/output-wav/Mamak-Sessions---Getting-Married-in-Vegas,-and-Sugar-Babies-ft.-Dennis-Yin-Cq6Yjwsu63U.mp3-part-36.wav\n"
     ]
    },
    {
     "name": "stderr",
     "output_type": "stream",
     "text": [
      "\r",
      " 72%|███████▏  | 94510/130662 [37:04<08:59, 67.03it/s]"
     ]
    },
    {
     "name": "stdout",
     "output_type": "stream",
     "text": [
      "skipped semisupervised-manglish/output-wav/Mamak-Sessions---Do-You-Check-Your-Partner's-Text-Messages-Featuring-Lizz-Chloe-WJkSAHvYyqk.mp3-part-388.wav\n"
     ]
    },
    {
     "name": "stderr",
     "output_type": "stream",
     "text": [
      " 72%|███████▏  | 94551/130662 [37:05<10:11, 59.02it/s]"
     ]
    },
    {
     "name": "stdout",
     "output_type": "stream",
     "text": [
      "skipped semisupervised-manglish/output-wav/How-To-Be-A-Damn-Good-Software-Developer-+-Israel-Startup-Culture-_-Singaporean-Podcast-#11-_-Mark-cs2LkcSpNpw.mp3-part-155.wav\n"
     ]
    },
    {
     "name": "stderr",
     "output_type": "stream",
     "text": [
      " 72%|███████▏  | 94598/130662 [37:06<08:48, 68.30it/s]"
     ]
    },
    {
     "name": "stdout",
     "output_type": "stream",
     "text": [
      "skipped semisupervised-manglish/output-wav/Mamak-Sessions-Ep6---Names-People-Always-Mispronounce-&-Facebook-Is-A-Spy-8LuihYdx0FQ.mp3-part-412.wav\n",
      "skipped semisupervised-manglish/output-wav/The-Fashion-Weak-Podcast-Ep-33---Lingerie-&-Bikini-Talk-With-Talitha-Tan-(@talithabe)-_7Un0q6a9zg.mp3-part-50.wav\n"
     ]
    },
    {
     "name": "stderr",
     "output_type": "stream",
     "text": [
      " 72%|███████▏  | 94622/130662 [37:06<11:21, 52.87it/s]"
     ]
    },
    {
     "name": "stdout",
     "output_type": "stream",
     "text": [
      "skipped semisupervised-manglish/output-wav/The-Fashion-Weak-Podcast-EP-27----Peter-Davis-talks-cars,-mixed-rice-and-some-fashion.-rxmMRAzLRJ0.mp3-part-83.wav\n",
      "skipped semisupervised-manglish/output-wav/The-Fashion-Weak-Podcast-Ep-30---On-her-way-to-Supermodel-dom,-ASNTM--Cycle-5-Runner-Up-@shikingomez-otK3Gl_XX4c.mp3-part-565.wav\n"
     ]
    },
    {
     "name": "stderr",
     "output_type": "stream",
     "text": [
      " 73%|███████▎  | 94751/130662 [37:09<09:30, 62.93it/s]"
     ]
    },
    {
     "name": "stdout",
     "output_type": "stream",
     "text": [
      "skipped semisupervised-manglish/output-wav/The-Fashion-Weak-Podcast-Ep-39---Talking-Turn-On's-and-Fashion-Bulk-Buy-Deals-With-Tata-Wanqian-WSVo-qvu1GQ.mp3-part-202.wav\n"
     ]
    },
    {
     "name": "stderr",
     "output_type": "stream",
     "text": [
      " 73%|███████▎  | 94788/130662 [37:09<09:01, 66.30it/s]"
     ]
    },
    {
     "name": "stdout",
     "output_type": "stream",
     "text": [
      "skipped semisupervised-manglish/output-wav/Mamak-Sessions-Ep10---Datuk-Nicol-David-is-RETIRING!-n3AR3nQEc7Y.mp3-part-39.wav\n"
     ]
    },
    {
     "name": "stderr",
     "output_type": "stream",
     "text": [
      " 73%|███████▎  | 94837/130662 [37:10<09:43, 61.39it/s]"
     ]
    },
    {
     "name": "stdout",
     "output_type": "stream",
     "text": [
      "skipped semisupervised-manglish/output-wav/The-Fashion-Weak-Podcast-Ep-43---Thirst-Trapping-Simps-&-Loving-Your-Body-From-The-Outside-In-6R87P6YD2c4.mp3-part-229.wav\n",
      "skipped semisupervised-manglish/output-wav/The-Fashion-Weak-Podcast-Ep-43A---Keeping-Fair-On-The-Fairway-With-Natalia-Ng-CSP1XPZu4YY.mp3-part-424.wav\n"
     ]
    },
    {
     "name": "stderr",
     "output_type": "stream",
     "text": [
      " 73%|███████▎  | 94948/130662 [37:12<08:49, 67.46it/s]"
     ]
    },
    {
     "name": "stdout",
     "output_type": "stream",
     "text": [
      "skipped semisupervised-manglish/output-wav/How-to-Start-a-Podcast-+-Why-You-Should-Enjoy-The-Process_-Singaporean-Podcast#28-_-Nicholas-Patrick-uaSWgcKn0RM.mp3-part-65.wav\n",
      "skipped semisupervised-manglish/output-wav/Butts-and-D_ck-Pics,-MILF-Hunting-Part-2-With-Nor-Soraya---The-Fashion-Weak-Podcast-Episode-5-NCiDUw4mQgE.mp3-part-342.wav\n"
     ]
    },
    {
     "name": "stderr",
     "output_type": "stream",
     "text": [
      " 73%|███████▎  | 94970/130662 [37:12<09:39, 61.56it/s]"
     ]
    },
    {
     "name": "stdout",
     "output_type": "stream",
     "text": [
      "skipped semisupervised-manglish/output-wav/Mamak-Sessions-Ep6---Names-People-Always-Mispronounce-&-Facebook-Is-A-Spy-8LuihYdx0FQ.mp3-part-127.wav\n"
     ]
    },
    {
     "name": "stderr",
     "output_type": "stream",
     "text": [
      " 73%|███████▎  | 95268/130662 [37:18<10:17, 57.30it/s]"
     ]
    },
    {
     "name": "stdout",
     "output_type": "stream",
     "text": [
      "skipped semisupervised-manglish/output-wav/Mamak-Sessions---My-Asian-Parents-Were-Initially-Ashamed-Of-My-Career-NqCp8Csl7PE.mp3-part-153.wav\n",
      "skipped semisupervised-manglish/output-wav/Mamak-Sessions---Nasi-Lemak-Sneakers-zLEmAKdG9vY.mp3-part-301.wav\n"
     ]
    },
    {
     "name": "stderr",
     "output_type": "stream",
     "text": [
      " 73%|███████▎  | 95305/130662 [37:19<08:48, 66.86it/s]"
     ]
    },
    {
     "name": "stdout",
     "output_type": "stream",
     "text": [
      "skipped semisupervised-manglish/output-wav/Mamak-Sessions---Blaming-Yourself-For-Your-Parents'-Divorce,-And-How-Our-Parents-Punish-Us-x8Gl_zIC9CQ.mp3-part-323.wav\n"
     ]
    },
    {
     "name": "stderr",
     "output_type": "stream",
     "text": [
      " 73%|███████▎  | 95320/130662 [37:19<08:38, 68.16it/s]"
     ]
    },
    {
     "name": "stdout",
     "output_type": "stream",
     "text": [
      "skipped semisupervised-manglish/output-wav/The-Fashion-Weak-Podcast-EP-41---Investment-Tips-For-Chee-Seng-With-Fuad-&-Shaq-From-Kyoto-Protocol-eWNQhDNoSsY.mp3-part-837.wav\n",
      "skipped semisupervised-manglish/output-wav/The-Fashion-Weak-Podcast-Ep-45---Finessing-A-New-Phone-Every-Year-With-Mamak-Rap-King-Jiven-Sekar-VlovwtVYuw0.mp3-part-176.wav\n",
      "skipped semisupervised-manglish/output-wav/The-Fashion-Weak-Podcast-Ep-33---Lingerie-&-Bikini-Talk-With-Talitha-Tan-(@talithabe)-_7Un0q6a9zg.mp3-part-247.wav\n"
     ]
    },
    {
     "name": "stderr",
     "output_type": "stream",
     "text": [
      " 73%|███████▎  | 95386/130662 [37:20<09:23, 62.64it/s]"
     ]
    },
    {
     "name": "stdout",
     "output_type": "stream",
     "text": [
      "skipped semisupervised-manglish/output-wav/Click-Bait-And-24k-Shoe-Shopping-With-Harvinth-Skin---The-Fashion-Weak-Podcast-Episode-08-adq-khQo2eQ.mp3-part-144.wav\n",
      "skipped semisupervised-manglish/output-wav/The-Fashion-Weak-Podcast-Ep-30---On-her-way-to-Supermodel-dom,-ASNTM--Cycle-5-Runner-Up-@shikingomez-otK3Gl_XX4c.mp3-part-364.wav\n"
     ]
    },
    {
     "name": "stderr",
     "output_type": "stream",
     "text": [
      " 73%|███████▎  | 95417/130662 [37:20<08:15, 71.12it/s]"
     ]
    },
    {
     "name": "stdout",
     "output_type": "stream",
     "text": [
      "skipped semisupervised-manglish/output-wav/The-Fashion-Weak-Podcast-Ep-40---tdcjTfzYSbk.mp3-part-1069.wav\n",
      "skipped semisupervised-manglish/output-wav/Musings-of-the-OG-Sneaker-Uncle-@bungactiongirl---The-Fashion-Weak-Podcast-Episode-3-EjzkQeWKwQw.mp3-part-97.wav\n"
     ]
    },
    {
     "name": "stderr",
     "output_type": "stream",
     "text": [
      " 73%|███████▎  | 95440/130662 [37:21<11:21, 51.70it/s]"
     ]
    },
    {
     "name": "stdout",
     "output_type": "stream",
     "text": [
      "skipped semisupervised-manglish/output-wav/Mamak-Sessions---Quitting-The-Medical-Line-To-Make-People-Laugh-ft-Dr.-Jason-Leong-FcD9MpeWqEI.mp3-part-347.wav\n",
      "skipped semisupervised-manglish/output-wav/Mamak-Sessions-Ep6---Names-People-Always-Mispronounce-&-Facebook-Is-A-Spy-8LuihYdx0FQ.mp3-part-408.wav\n"
     ]
    },
    {
     "name": "stderr",
     "output_type": "stream",
     "text": [
      " 73%|███████▎  | 95479/130662 [37:22<09:00, 65.06it/s]"
     ]
    },
    {
     "name": "stdout",
     "output_type": "stream",
     "text": [
      "skipped semisupervised-manglish/output-wav/Ben-Kheng-Reflects-On-The-Sam-Willows,-Anxiety,-And-Religion-_-HTHT---Ben-Kheng-X4QapKCCneQ.mp3-part-573.wav\n"
     ]
    },
    {
     "name": "stderr",
     "output_type": "stream",
     "text": [
      " 73%|███████▎  | 95500/130662 [37:22<09:03, 64.64it/s]"
     ]
    },
    {
     "name": "stdout",
     "output_type": "stream",
     "text": [
      "skipped semisupervised-manglish/output-wav/Butts-and-D_ck-Pics,-MILF-Hunting-Part-2-With-Nor-Soraya---The-Fashion-Weak-Podcast-Episode-5-NCiDUw4mQgE.mp3-part-62.wav\n"
     ]
    },
    {
     "name": "stderr",
     "output_type": "stream",
     "text": [
      " 73%|███████▎  | 95514/130662 [37:22<08:58, 65.30it/s]"
     ]
    },
    {
     "name": "stdout",
     "output_type": "stream",
     "text": [
      "skipped semisupervised-manglish/output-wav/Exposed!-Our-Favourite-Night-Activity-We-Miss-The-Most!-_-The-Thirsty-Sisters-#5-TxeBIVuXRHM.mp3-part-104.wav\n"
     ]
    },
    {
     "name": "stderr",
     "output_type": "stream",
     "text": [
      " 73%|███████▎  | 95542/130662 [37:23<11:10, 52.36it/s]"
     ]
    },
    {
     "name": "stdout",
     "output_type": "stream",
     "text": [
      "skipped semisupervised-manglish/output-wav/@Juanitadr-shows-us-what-Arnold's-Tongue-Can-Do---The-Fashion-Weak-Podcast-Episode-10-N5EfPvQKW90.mp3-part-184.wav\n",
      "skipped semisupervised-manglish/output-wav/Mamak-Sessions---Girls-Are-Such-Complicated-Lil-Creatures-feat.-Talitha.-I2BaN8cm6NY.mp3-part-319.wav\n"
     ]
    },
    {
     "name": "stderr",
     "output_type": "stream",
     "text": [
      " 73%|███████▎  | 95655/130662 [37:25<09:05, 64.15it/s]"
     ]
    },
    {
     "name": "stdout",
     "output_type": "stream",
     "text": [
      "skipped semisupervised-manglish/output-wav/The-Fashion-Weak-Podcast-Ep24---Penang-Boys-@tunway-瘦虎-&-@Shawnduabui-肥龍-Talk-Zap-Fan-&-Sneakers-dykz_vuzJh0.mp3-part-241.wav\n"
     ]
    },
    {
     "name": "stderr",
     "output_type": "stream",
     "text": [
      " 73%|███████▎  | 95793/130662 [37:27<08:29, 68.50it/s]"
     ]
    },
    {
     "name": "stdout",
     "output_type": "stream",
     "text": [
      "skipped semisupervised-manglish/output-wav/Mamak-Sessions---How-I-Got-Quarantined-Because-Of-Covid-19-Feat.-Mark-O'Dea-5zAsyNKfzps.mp3-part-126.wav\n"
     ]
    },
    {
     "name": "stderr",
     "output_type": "stream",
     "text": [
      " 73%|███████▎  | 95821/130662 [37:28<10:49, 53.66it/s]"
     ]
    },
    {
     "name": "stdout",
     "output_type": "stream",
     "text": [
      "skipped semisupervised-manglish/output-wav/Become-a-Software-Developer-in-90-days-and-Running-His-Own-Company-_-Singaporean-Podcast-#8-_-Haris-HRd3RMQtkDs.mp3-part-192.wav\n"
     ]
    },
    {
     "name": "stderr",
     "output_type": "stream",
     "text": [
      " 73%|███████▎  | 95857/130662 [37:28<08:45, 66.27it/s]"
     ]
    },
    {
     "name": "stdout",
     "output_type": "stream",
     "text": [
      "skipped semisupervised-manglish/output-wav/Musings-of-the-OG-Sneaker-Uncle-@bungactiongirl---The-Fashion-Weak-Podcast-Episode-3-EjzkQeWKwQw.mp3-part-153.wav\n",
      "skipped semisupervised-manglish/output-wav/The-Fashion-Weak-Podcast-Ep-23---Alicia-Amin-On-Being-A-'Malay'-Model-In-2019-3pKA5NvTCOA.mp3-part-186.wav\n"
     ]
    },
    {
     "name": "stderr",
     "output_type": "stream",
     "text": [
      " 73%|███████▎  | 95887/130662 [37:29<09:04, 63.84it/s]"
     ]
    },
    {
     "name": "stdout",
     "output_type": "stream",
     "text": [
      "skipped semisupervised-manglish/output-wav/Mamak-Sessions---Have-You-Been-Rejected,-and-Have-You-Rejected-Someone-sZFykBDVjOI.mp3-part-283.wav\n"
     ]
    },
    {
     "name": "stderr",
     "output_type": "stream",
     "text": [
      " 73%|███████▎  | 96006/130662 [37:31<08:43, 66.21it/s]"
     ]
    },
    {
     "name": "stdout",
     "output_type": "stream",
     "text": [
      "skipped semisupervised-manglish/output-wav/The-Fashion-Weak-Podcast-Ep-33---Lingerie-&-Bikini-Talk-With-Talitha-Tan-(@talithabe)-_7Un0q6a9zg.mp3-part-636.wav\n"
     ]
    },
    {
     "name": "stderr",
     "output_type": "stream",
     "text": [
      " 73%|███████▎  | 96035/130662 [37:32<10:53, 53.03it/s]"
     ]
    },
    {
     "name": "stdout",
     "output_type": "stream",
     "text": [
      "skipped semisupervised-manglish/output-wav/The-Fashion-Weak-Podcast-Ep-32---Getting-Surprised-Reading-Melissa-Campbell's-(@heymelbelle)-IG-DMs-mJuKUwFpDgI.mp3-part-20.wav\n"
     ]
    },
    {
     "name": "stderr",
     "output_type": "stream",
     "text": [
      " 74%|███████▎  | 96057/130662 [37:32<09:21, 61.63it/s]"
     ]
    },
    {
     "name": "stdout",
     "output_type": "stream",
     "text": [
      "skipped semisupervised-manglish/output-wav/Mamak-Sessions---Airing-Dirty-Laundry-Online-and-Social-Justice-Warriors-FFtFXiIgsyk.mp3-part-146.wav\n"
     ]
    },
    {
     "name": "stderr",
     "output_type": "stream",
     "text": [
      " 74%|███████▎  | 96095/130662 [37:32<08:57, 64.30it/s]"
     ]
    },
    {
     "name": "stdout",
     "output_type": "stream",
     "text": [
      "skipped semisupervised-manglish/output-wav/Mamak-Sessions---Nasi-Lemak-Sneakers-zLEmAKdG9vY.mp3-part-191.wav\n"
     ]
    },
    {
     "name": "stderr",
     "output_type": "stream",
     "text": [
      " 74%|███████▎  | 96222/130662 [37:35<10:39, 53.83it/s]"
     ]
    },
    {
     "name": "stdout",
     "output_type": "stream",
     "text": [
      "skipped semisupervised-manglish/output-wav/Mamak-Sessions---Should-You-Be-Spending-Crazily-For-Valentine's-Day-QLz7USNFnng.mp3-part-122.wav\n"
     ]
    },
    {
     "name": "stderr",
     "output_type": "stream",
     "text": [
      " 74%|███████▎  | 96272/130662 [37:36<09:12, 62.23it/s]"
     ]
    },
    {
     "name": "stdout",
     "output_type": "stream",
     "text": [
      "skipped semisupervised-manglish/output-wav/Mamak-Sessions-Podcast---A-Dog-Was-Slashed-In-The-Mouth-And-Abused,-But-This-Kind-Soul-Saved-It-FNfbmh93DFo.mp3-part-403.wav\n"
     ]
    },
    {
     "name": "stderr",
     "output_type": "stream",
     "text": [
      " 74%|███████▎  | 96289/130662 [37:36<11:35, 49.40it/s]"
     ]
    },
    {
     "name": "stdout",
     "output_type": "stream",
     "text": [
      "skipped semisupervised-manglish/output-wav/The-Fashion-Weak-Podcast-Ep-40---tdcjTfzYSbk.mp3-part-355.wav\n",
      "skipped semisupervised-manglish/output-wav/Mamak-Sessions---Getting-Married-in-Vegas,-and-Sugar-Babies-ft.-Dennis-Yin-Cq6Yjwsu63U.mp3-part-19.wav\n"
     ]
    },
    {
     "name": "stderr",
     "output_type": "stream",
     "text": [
      " 74%|███████▎  | 96318/130662 [37:37<09:44, 58.80it/s]"
     ]
    },
    {
     "name": "stdout",
     "output_type": "stream",
     "text": [
      "skipped semisupervised-manglish/output-wav/Relatives-Ruin-My-Wedding!-_-The-Thirsty-Sisters-#22-98CiTQQtqak.mp3-part-448.wav\n"
     ]
    },
    {
     "name": "stderr",
     "output_type": "stream",
     "text": [
      " 74%|███████▍  | 96499/130662 [37:40<09:48, 58.01it/s]"
     ]
    },
    {
     "name": "stdout",
     "output_type": "stream",
     "text": [
      "skipped semisupervised-manglish/output-wav/The-Fashion-Weak-Podcast-Ep-45---Finessing-A-New-Phone-Every-Year-With-Mamak-Rap-King-Jiven-Sekar-VlovwtVYuw0.mp3-part-421.wav\n"
     ]
    },
    {
     "name": "stderr",
     "output_type": "stream",
     "text": [
      " 74%|███████▍  | 96514/130662 [37:40<08:52, 64.13it/s]"
     ]
    },
    {
     "name": "stdout",
     "output_type": "stream",
     "text": [
      "skipped semisupervised-manglish/output-wav/Mamak-Sessions-Ep6---Names-People-Always-Mispronounce-&-Facebook-Is-A-Spy-8LuihYdx0FQ.mp3-part-153.wav\n"
     ]
    },
    {
     "name": "stderr",
     "output_type": "stream",
     "text": [
      " 74%|███████▍  | 96529/130662 [37:41<08:31, 66.76it/s]"
     ]
    },
    {
     "name": "stdout",
     "output_type": "stream",
     "text": [
      "skipped semisupervised-manglish/output-wav/Conversations-with-a-Young-Singaporean-CEO--Gao-Fei,-CEO-of-LearnSeeker-_-Singaporean-Podcast-#13--b9YHjghfd2E.mp3-part-216.wav\n"
     ]
    },
    {
     "name": "stderr",
     "output_type": "stream",
     "text": [
      " 74%|███████▍  | 96628/130662 [37:42<09:01, 62.86it/s]"
     ]
    },
    {
     "name": "stdout",
     "output_type": "stream",
     "text": [
      "skipped semisupervised-manglish/output-wav/How-To-Be-A-Damn-Good-Software-Developer-+-Israel-Startup-Culture-_-Singaporean-Podcast-#11-_-Mark-cs2LkcSpNpw.mp3-part-238.wav\n"
     ]
    },
    {
     "name": "stderr",
     "output_type": "stream",
     "text": [
      " 74%|███████▍  | 96684/130662 [37:43<09:11, 61.65it/s]"
     ]
    },
    {
     "name": "stdout",
     "output_type": "stream",
     "text": [
      "skipped semisupervised-manglish/output-wav/How-A-26-Year-Old-Built-A-Multi-Million-YouTube-Empire-g3iwaxDKQGQ.mp3-part-600.wav\n"
     ]
    },
    {
     "name": "stderr",
     "output_type": "stream",
     "text": [
      " 74%|███████▍  | 96719/130662 [37:44<08:52, 63.75it/s]"
     ]
    },
    {
     "name": "stdout",
     "output_type": "stream",
     "text": [
      "skipped semisupervised-manglish/output-wav/Mamak-Sessions-Ep13---Game-Of-Thrones-Is-OVER!-Malaysian-Accent-is-sexy!--mAdHcMGmEs.mp3-part-365.wav\n"
     ]
    },
    {
     "name": "stderr",
     "output_type": "stream",
     "text": [
      " 74%|███████▍  | 96740/130662 [37:45<10:57, 51.61it/s]"
     ]
    },
    {
     "name": "stdout",
     "output_type": "stream",
     "text": [
      "skipped semisupervised-manglish/output-wav/@Juanitadr-shows-us-what-Arnold's-Tongue-Can-Do---The-Fashion-Weak-Podcast-Episode-10-N5EfPvQKW90.mp3-part-102.wav\n"
     ]
    },
    {
     "name": "stderr",
     "output_type": "stream",
     "text": [
      " 74%|███████▍  | 96764/130662 [37:45<08:58, 62.99it/s]"
     ]
    },
    {
     "name": "stdout",
     "output_type": "stream",
     "text": [
      "skipped semisupervised-manglish/output-wav/Talking-Sneakers-&-Strong-Sperm-With-@bryanbotakchin---The-Fashion-Weak-Podcast-Episode-11-iugevNPFp2Y.mp3-part-273.wav\n",
      "skipped semisupervised-manglish/output-wav/The-Fashion-Weak-Podcast-Ep-43---Thirst-Trapping-Simps-&-Loving-Your-Body-From-The-Outside-In-6R87P6YD2c4.mp3-part-683.wav\n"
     ]
    },
    {
     "name": "stderr",
     "output_type": "stream",
     "text": [
      " 74%|███████▍  | 96802/130662 [37:45<08:25, 66.94it/s]"
     ]
    },
    {
     "name": "stdout",
     "output_type": "stream",
     "text": [
      "skipped semisupervised-manglish/output-wav/Mamak-Sessions---Quitting-The-Medical-Line-To-Make-People-Laugh-ft-Dr.-Jason-Leong-FcD9MpeWqEI.mp3-part-427.wav\n"
     ]
    },
    {
     "name": "stderr",
     "output_type": "stream",
     "text": [
      " 74%|███████▍  | 96851/130662 [37:46<10:12, 55.19it/s]"
     ]
    },
    {
     "name": "stdout",
     "output_type": "stream",
     "text": [
      "skipped semisupervised-manglish/output-wav/Mamak-Sessions---The-Asian-Mom-Of-The-Internet-ft-Tata-Wyb6i3GoJv4.mp3-part-19.wav\n"
     ]
    },
    {
     "name": "stderr",
     "output_type": "stream",
     "text": [
      " 74%|███████▍  | 96881/130662 [37:47<08:30, 66.19it/s]"
     ]
    },
    {
     "name": "stdout",
     "output_type": "stream",
     "text": [
      "skipped semisupervised-manglish/output-wav/Ben-Kheng-Reflects-On-The-Sam-Willows,-Anxiety,-And-Religion-_-HTHT---Ben-Kheng-X4QapKCCneQ.mp3-part-117.wav\n"
     ]
    },
    {
     "name": "stderr",
     "output_type": "stream",
     "text": [
      " 74%|███████▍  | 96993/130662 [37:49<08:49, 63.59it/s]"
     ]
    },
    {
     "name": "stdout",
     "output_type": "stream",
     "text": [
      "skipped semisupervised-manglish/output-wav/Mamak-Sessions---Quitting-The-Medical-Line-To-Make-People-Laugh-ft-Dr.-Jason-Leong-FcD9MpeWqEI.mp3-part-474.wav\n",
      "skipped semisupervised-manglish/output-wav/Mamak-Sessions-Ep6---Names-People-Always-Mispronounce-&-Facebook-Is-A-Spy-8LuihYdx0FQ.mp3-part-102.wav\n"
     ]
    },
    {
     "name": "stderr",
     "output_type": "stream",
     "text": [
      " 74%|███████▍  | 97049/130662 [37:50<08:49, 63.43it/s]"
     ]
    },
    {
     "name": "stdout",
     "output_type": "stream",
     "text": [
      "skipped semisupervised-manglish/output-wav/Mamak-Sessions-Podcast---Girl-Gets-Caned-For-Calling-her-Teacher-'AH-GUA'-PRN5UrsDF6w.mp3-part-403.wav\n"
     ]
    },
    {
     "name": "stderr",
     "output_type": "stream",
     "text": [
      " 74%|███████▍  | 97078/130662 [37:50<09:07, 61.34it/s]"
     ]
    },
    {
     "name": "stdout",
     "output_type": "stream",
     "text": [
      "skipped semisupervised-manglish/output-wav/The-Fashion-Weak-Podcast-Ep-33---Lingerie-&-Bikini-Talk-With-Talitha-Tan-(@talithabe)-_7Un0q6a9zg.mp3-part-716.wav\n",
      "skipped semisupervised-manglish/output-wav/Mamak-Sessions---How-Do-You-Deal-With-Rumors-ft-Elizabeth-Tan-Rkvd5p3I11M.mp3-part-455.wav\n"
     ]
    },
    {
     "name": "stderr",
     "output_type": "stream",
     "text": [
      " 74%|███████▍  | 97136/130662 [37:52<08:58, 62.29it/s]"
     ]
    },
    {
     "name": "stdout",
     "output_type": "stream",
     "text": [
      "skipped semisupervised-manglish/output-wav/The-Fashion-Weak-Podcast-EP-41---Investment-Tips-For-Chee-Seng-With-Fuad-&-Shaq-From-Kyoto-Protocol-eWNQhDNoSsY.mp3-part-98.wav\n"
     ]
    },
    {
     "name": "stderr",
     "output_type": "stream",
     "text": [
      " 74%|███████▍  | 97165/130662 [37:52<08:29, 65.68it/s]"
     ]
    },
    {
     "name": "stdout",
     "output_type": "stream",
     "text": [
      "skipped semisupervised-manglish/output-wav/My-Ex-Husband-And-His-New-Puppy's-Mummy-_-The-Thirsty-Sisters-#26-RBShCX3-BtQ.mp3-part-52.wav\n"
     ]
    },
    {
     "name": "stderr",
     "output_type": "stream",
     "text": [
      " 74%|███████▍  | 97215/130662 [37:53<09:35, 58.16it/s]"
     ]
    },
    {
     "name": "stdout",
     "output_type": "stream",
     "text": [
      "skipped semisupervised-manglish/output-wav/Mamak-Sessions-Podcast---Is-it-ok-to-move-in-with-your-Partner-before-MARRIAGE-nGnyZ5c00Mo.mp3-part-249.wav\n",
      "skipped semisupervised-manglish/output-wav/The-Fashion-Weak-Podcast-Ep-33---Lingerie-&-Bikini-Talk-With-Talitha-Tan-(@talithabe)-_7Un0q6a9zg.mp3-part-272.wav\n"
     ]
    },
    {
     "name": "stderr",
     "output_type": "stream",
     "text": [
      " 74%|███████▍  | 97237/130662 [37:53<08:54, 62.55it/s]"
     ]
    },
    {
     "name": "stdout",
     "output_type": "stream",
     "text": [
      "skipped semisupervised-manglish/output-wav/The-Fashion-Weak-Podcast-Ep-38---TikTok-Royalty-Roshan-Jeet-aka-Roshannnn1-lPnRg9UsP0M.mp3-part-721.wav\n",
      "skipped semisupervised-manglish/output-wav/The-Fashion-Weak-Podcast-Ep-40---tdcjTfzYSbk.mp3-part-238.wav\n"
     ]
    },
    {
     "name": "stderr",
     "output_type": "stream",
     "text": [
      " 74%|███████▍  | 97313/130662 [37:55<09:43, 57.18it/s]"
     ]
    },
    {
     "name": "stdout",
     "output_type": "stream",
     "text": [
      "skipped semisupervised-manglish/output-wav/Why-Enneagram-Will-Change-Your-Perspective-On-ALL-Relationships-Forever-_-Cindy-Leong-_-SG-Podcast-cSxV6oacgaE.mp3-part-410.wav\n",
      "skipped semisupervised-manglish/output-wav/Mamak-Sessions-Ep4---What-Turns-You-On,-Is-it-ok-if-your-Girlfriend-Earns-More-&-The-Ideal-Proposal-1av_p0DPDas.mp3-part-161.wav\n"
     ]
    },
    {
     "name": "stderr",
     "output_type": "stream",
     "text": [
      " 75%|███████▍  | 97426/130662 [37:57<09:03, 61.13it/s]"
     ]
    },
    {
     "name": "stdout",
     "output_type": "stream",
     "text": [
      "skipped semisupervised-manglish/output-wav/The-Fashion-Weak-Podcast-Ep-31----Possibly-Our-Most-NSFW-Episode-Yet-With-@vikarworld-xMm23vU8_og.mp3-part-412.wav\n"
     ]
    },
    {
     "name": "stderr",
     "output_type": "stream",
     "text": [
      " 75%|███████▍  | 97482/130662 [37:58<09:30, 58.16it/s]"
     ]
    },
    {
     "name": "stdout",
     "output_type": "stream",
     "text": [
      "skipped semisupervised-manglish/output-wav/The-Fashion-Weak-Podcast-Ep-23---Alicia-Amin-On-Being-A-'Malay'-Model-In-2019-3pKA5NvTCOA.mp3-part-278.wav\n",
      "skipped semisupervised-manglish/output-wav/Being-Bullied,-Toxic-Masculinity-And-Theatre-_-HTHT---Fauzi-Aziz-6syqXC_o6gs.mp3-part-245.wav\n"
     ]
    },
    {
     "name": "stderr",
     "output_type": "stream",
     "text": [
      " 75%|███████▍  | 97581/130662 [38:00<09:31, 57.89it/s]"
     ]
    },
    {
     "name": "stdout",
     "output_type": "stream",
     "text": [
      "skipped semisupervised-manglish/output-wav/Mamak-Sessions---Our-Differences-Is-What-Unites-Us-ft.-Elvin-Romeo-0jySfrZhs50.mp3-part-156.wav\n"
     ]
    },
    {
     "name": "stderr",
     "output_type": "stream",
     "text": [
      " 75%|███████▍  | 97682/130662 [38:02<09:16, 59.30it/s]"
     ]
    },
    {
     "name": "stdout",
     "output_type": "stream",
     "text": [
      "skipped semisupervised-manglish/output-wav/Mamak-Sessions-Ep8---Man-Sues-Colleague-for-$1.8-Million-for-Farting-OWbPqC2i71c.mp3-part-292.wav\n"
     ]
    },
    {
     "name": "stderr",
     "output_type": "stream",
     "text": [
      " 75%|███████▍  | 97717/130662 [38:02<08:41, 63.11it/s]"
     ]
    },
    {
     "name": "stdout",
     "output_type": "stream",
     "text": [
      "skipped semisupervised-manglish/output-wav/The-Fashion-Weak-Podcast-Ep-43---Thirst-Trapping-Simps-&-Loving-Your-Body-From-The-Outside-In-6R87P6YD2c4.mp3-part-715.wav\n"
     ]
    },
    {
     "name": "stderr",
     "output_type": "stream",
     "text": [
      " 75%|███████▍  | 97856/130662 [38:05<09:45, 56.03it/s]"
     ]
    },
    {
     "name": "stdout",
     "output_type": "stream",
     "text": [
      "skipped semisupervised-manglish/output-wav/Mamak-Sessions---Getting-Married-in-Vegas,-and-Sugar-Babies-ft.-Dennis-Yin-Cq6Yjwsu63U.mp3-part-4.wav\n"
     ]
    },
    {
     "name": "stderr",
     "output_type": "stream",
     "text": [
      " 75%|███████▍  | 97887/130662 [38:05<08:19, 65.61it/s]"
     ]
    },
    {
     "name": "stdout",
     "output_type": "stream",
     "text": [
      "skipped semisupervised-manglish/output-wav/The-Fashion-Weak-Podcast-EP14---Faking-it-on-the-gram-and-faking-Gasms-with-Sandra-Woo-(@sandrawooo)--XwvfCTnseI.mp3-part-141.wav\n"
     ]
    },
    {
     "name": "stderr",
     "output_type": "stream",
     "text": [
      " 75%|███████▌  | 98004/130662 [38:08<10:31, 51.68it/s]"
     ]
    },
    {
     "name": "stdout",
     "output_type": "stream",
     "text": [
      "skipped semisupervised-manglish/output-wav/Mamak-Sessions---The-Asian-Mom-Of-The-Internet-ft-Tata-Wyb6i3GoJv4.mp3-part-153.wav\n"
     ]
    },
    {
     "name": "stderr",
     "output_type": "stream",
     "text": [
      " 75%|███████▌  | 98030/130662 [38:08<09:06, 59.68it/s]"
     ]
    },
    {
     "name": "stdout",
     "output_type": "stream",
     "text": [
      "skipped semisupervised-manglish/output-wav/The-Fashion-Weak-Podcast-Ep-40---tdcjTfzYSbk.mp3-part-322.wav\n"
     ]
    },
    {
     "name": "stderr",
     "output_type": "stream",
     "text": [
      " 75%|███████▌  | 98051/130662 [38:08<09:06, 59.72it/s]"
     ]
    },
    {
     "name": "stdout",
     "output_type": "stream",
     "text": [
      "skipped semisupervised-manglish/output-wav/Mamak-Sessions---Do-You-Check-Your-Partner's-Text-Messages-Featuring-Lizz-Chloe-WJkSAHvYyqk.mp3-part-445.wav\n"
     ]
    },
    {
     "name": "stderr",
     "output_type": "stream",
     "text": [
      " 75%|███████▌  | 98176/130662 [38:11<11:28, 47.21it/s]"
     ]
    },
    {
     "name": "stdout",
     "output_type": "stream",
     "text": [
      "skipped semisupervised-manglish/output-wav/Polytechnic-VS-University,-Hospitality-Industry-+-Solo-Travel-_-Singaporean-Podcast-#21-_-Veron-Ng-attPdWb6UVo.mp3-part-29.wav\n"
     ]
    },
    {
     "name": "stderr",
     "output_type": "stream",
     "text": [
      " 75%|███████▌  | 98241/130662 [38:12<08:00, 67.52it/s]"
     ]
    },
    {
     "name": "stdout",
     "output_type": "stream",
     "text": [
      "skipped semisupervised-manglish/output-wav/Burnout-in-the-Media-Industry-+-Passion-in-Theatre--_-Singaporean-Podcast-#16-_-Rennes-Lee-f7qEqPNzGk8.mp3-part-631.wav\n",
      "skipped semisupervised-manglish/output-wav/The-Fashion-Weak-Podcast-Ep-40---tdcjTfzYSbk.mp3-part-1097.wav\n"
     ]
    },
    {
     "name": "stderr",
     "output_type": "stream",
     "text": [
      " 75%|███████▌  | 98270/130662 [38:13<09:44, 55.44it/s]"
     ]
    },
    {
     "name": "stdout",
     "output_type": "stream",
     "text": [
      "skipped semisupervised-manglish/output-wav/The-Fashion-Weak-Podcast-Ep-28-@dreamrocketeers-on-that-Rolex-you-should-cop-to-flex-on-poor-friends-shV1F1JlDzk.mp3-part-750.wav\n"
     ]
    },
    {
     "name": "stderr",
     "output_type": "stream",
     "text": [
      " 75%|███████▌  | 98319/130662 [38:13<08:53, 60.62it/s]"
     ]
    },
    {
     "name": "stdout",
     "output_type": "stream",
     "text": [
      "skipped semisupervised-manglish/output-wav/Conversations-with-a-Young-Singaporean-CEO--Gao-Fei,-CEO-of-LearnSeeker-_-Singaporean-Podcast-#13--b9YHjghfd2E.mp3-part-193.wav\n"
     ]
    },
    {
     "name": "stderr",
     "output_type": "stream",
     "text": [
      " 75%|███████▌  | 98437/130662 [38:16<12:13, 43.91it/s]"
     ]
    },
    {
     "name": "stdout",
     "output_type": "stream",
     "text": [
      "skipped semisupervised-manglish/output-wav/Why-Enneagram-Will-Change-Your-Perspective-On-ALL-Relationships-Forever-_-Cindy-Leong-_-SG-Podcast-cSxV6oacgaE.mp3-part-56.wav\n"
     ]
    },
    {
     "name": "stderr",
     "output_type": "stream",
     "text": [
      " 75%|███████▌  | 98471/130662 [38:16<09:24, 57.03it/s]"
     ]
    },
    {
     "name": "stdout",
     "output_type": "stream",
     "text": [
      "skipped semisupervised-manglish/output-wav/Mamak-Sessions---Getting-Married-in-Vegas,-and-Sugar-Babies-ft.-Dennis-Yin-Cq6Yjwsu63U.mp3-part-116.wav\n"
     ]
    },
    {
     "name": "stderr",
     "output_type": "stream",
     "text": [
      " 75%|███████▌  | 98491/130662 [38:17<09:21, 57.31it/s]"
     ]
    },
    {
     "name": "stdout",
     "output_type": "stream",
     "text": [
      "skipped semisupervised-manglish/output-wav/Ghost-Stories-From-Our-Childhood!-_-The-Thirsty-Sisters-#23-Hioy9UvH4yE.mp3-part-227.wav\n"
     ]
    },
    {
     "name": "stderr",
     "output_type": "stream",
     "text": [
      " 75%|███████▌  | 98529/130662 [38:17<11:27, 46.74it/s]"
     ]
    },
    {
     "name": "stdout",
     "output_type": "stream",
     "text": [
      "skipped semisupervised-manglish/output-wav/The-Fashion-Weak-Podcast-Ep35---Is-New-Balance-Cool-Now-Talking-everything-NOT-Nike-with-@adlysyairi-3b0bYe36KNE.mp3-part-583.wav\n",
      "skipped semisupervised-manglish/output-wav/Grown-Up-Flex-With-YouTube-Superstar-@JinnyBoy---The-Fashion-Weak-Podcast-Episode-9-7wiSVCBFmFc.mp3-part-5.wav\n"
     ]
    },
    {
     "name": "stderr",
     "output_type": "stream",
     "text": [
      " 76%|███████▌  | 98666/130662 [38:20<08:27, 63.09it/s]"
     ]
    },
    {
     "name": "stdout",
     "output_type": "stream",
     "text": [
      "skipped semisupervised-manglish/output-wav/The-Fashion-Weak-Podcast-Ep-19---Butt-Stuff-&-Actual-Fashion-With-Zane-Gan-jhLgzHQnAHU.mp3-part-347.wav\n",
      "skipped semisupervised-manglish/output-wav/Mamak-Sessions-Podcast---Girl-Gets-Caned-For-Calling-her-Teacher-'AH-GUA'-PRN5UrsDF6w.mp3-part-756.wav\n"
     ]
    },
    {
     "name": "stderr",
     "output_type": "stream",
     "text": [
      " 76%|███████▌  | 98711/130662 [38:21<09:56, 53.56it/s]"
     ]
    },
    {
     "name": "stdout",
     "output_type": "stream",
     "text": [
      "skipped semisupervised-manglish/output-wav/The-Fashion-Weak-Podcast-EP-41---Investment-Tips-For-Chee-Seng-With-Fuad-&-Shaq-From-Kyoto-Protocol-eWNQhDNoSsY.mp3-part-460.wav\n",
      "skipped semisupervised-manglish/output-wav/What-is-a-Friend-_-Singaporean-Trio-Podcast-#01-Yzagxa4bn-M.mp3-part-81.wav\n"
     ]
    },
    {
     "name": "stderr",
     "output_type": "stream",
     "text": [
      " 76%|███████▌  | 98727/130662 [38:21<08:38, 61.61it/s]"
     ]
    },
    {
     "name": "stdout",
     "output_type": "stream",
     "text": [
      "skipped semisupervised-manglish/output-wav/The-Fashion-Weak-Podcast-Ep-19---Butt-Stuff-&-Actual-Fashion-With-Zane-Gan-jhLgzHQnAHU.mp3-part-66.wav\n",
      "skipped semisupervised-manglish/output-wav/The-Fashion-Weak-Podcast-Ep-39---Talking-Turn-On's-and-Fashion-Bulk-Buy-Deals-With-Tata-Wanqian-WSVo-qvu1GQ.mp3-part-466.wav\n"
     ]
    },
    {
     "name": "stderr",
     "output_type": "stream",
     "text": [
      " 76%|███████▌  | 98981/130662 [38:26<09:29, 55.60it/s]"
     ]
    },
    {
     "name": "stdout",
     "output_type": "stream",
     "text": [
      "skipped semisupervised-manglish/output-wav/@Juanitadr-shows-us-what-Arnold's-Tongue-Can-Do---The-Fashion-Weak-Podcast-Episode-10-N5EfPvQKW90.mp3-part-311.wav\n",
      "skipped semisupervised-manglish/output-wav/The-Fashion-Weak-Podcast-Ep-23---Alicia-Amin-On-Being-A-'Malay'-Model-In-2019-3pKA5NvTCOA.mp3-part-765.wav\n"
     ]
    },
    {
     "name": "stderr",
     "output_type": "stream",
     "text": [
      " 76%|███████▌  | 99011/130662 [38:26<08:22, 63.03it/s]"
     ]
    },
    {
     "name": "stdout",
     "output_type": "stream",
     "text": [
      "skipped semisupervised-manglish/output-wav/@Juanitadr-shows-us-what-Arnold's-Tongue-Can-Do---The-Fashion-Weak-Podcast-Episode-10-N5EfPvQKW90.mp3-part-392.wav\n"
     ]
    },
    {
     "name": "stderr",
     "output_type": "stream",
     "text": [
      " 76%|███████▌  | 99033/130662 [38:27<08:20, 63.21it/s]"
     ]
    },
    {
     "name": "stdout",
     "output_type": "stream",
     "text": [
      "skipped semisupervised-manglish/output-wav/Make-Insurance-Sexy-Again-+-Best-Advice-to-Financial-Advisors-_-Singaporean-Podcast-#19-_-Leslie-Koh-vKpmE4ZFnGE.mp3-part-166.wav\n"
     ]
    },
    {
     "name": "stderr",
     "output_type": "stream",
     "text": [
      " 76%|███████▌  | 99047/130662 [38:27<08:13, 64.09it/s]"
     ]
    },
    {
     "name": "stdout",
     "output_type": "stream",
     "text": [
      "skipped semisupervised-manglish/output-wav/The-Fashion-Weak-Podcast-Ep-15---Underwear-Sneakers-&-Fruits-With-@OhZooey-HDuY9UdkkaE.mp3-part-7.wav\n"
     ]
    },
    {
     "name": "stderr",
     "output_type": "stream",
     "text": [
      " 76%|███████▌  | 99087/130662 [38:27<08:18, 63.30it/s]"
     ]
    },
    {
     "name": "stdout",
     "output_type": "stream",
     "text": [
      "skipped semisupervised-manglish/output-wav/The-Truth-Behind-Our-Relationship!-Are-We-Really-Sisters-_-The-Thirsty-Sisters-#10-rkwCky94IhQ.mp3-part-205.wav\n"
     ]
    },
    {
     "name": "stderr",
     "output_type": "stream",
     "text": [
      " 76%|███████▌  | 99119/130662 [38:28<07:57, 66.03it/s]"
     ]
    },
    {
     "name": "stdout",
     "output_type": "stream",
     "text": [
      "skipped semisupervised-manglish/output-wav/Mamak-Sessions---Blaming-Yourself-For-Your-Parents'-Divorce,-And-How-Our-Parents-Punish-Us-x8Gl_zIC9CQ.mp3-part-48.wav\n",
      "skipped semisupervised-manglish/output-wav/Mamak-Sessions-Podcast---How-Dean-Lewis-became-who-he-is-today-HkOQy1Nxpis.mp3-part-352.wav\n"
     ]
    },
    {
     "name": "stderr",
     "output_type": "stream",
     "text": [
      " 76%|███████▌  | 99169/130662 [38:29<09:43, 53.99it/s]"
     ]
    },
    {
     "name": "stdout",
     "output_type": "stream",
     "text": [
      "skipped semisupervised-manglish/output-wav/What-You-Should-Think-About-After-A-Levels-_-IMO-Ep.3-R7nCJrdRWyc.mp3-part-4.wav\n"
     ]
    },
    {
     "name": "stderr",
     "output_type": "stream",
     "text": [
      " 76%|███████▌  | 99262/130662 [38:31<09:34, 54.64it/s]"
     ]
    },
    {
     "name": "stdout",
     "output_type": "stream",
     "text": [
      "skipped semisupervised-manglish/output-wav/The-Fashion-Weak-Podcast-Ep-30---On-her-way-to-Supermodel-dom,-ASNTM--Cycle-5-Runner-Up-@shikingomez-otK3Gl_XX4c.mp3-part-115.wav\n"
     ]
    },
    {
     "name": "stderr",
     "output_type": "stream",
     "text": [
      " 76%|███████▌  | 99463/130662 [38:34<08:14, 63.07it/s]"
     ]
    },
    {
     "name": "stdout",
     "output_type": "stream",
     "text": [
      "skipped semisupervised-manglish/output-wav/The-Fashion-Weak-Podcast-Ep35---Is-New-Balance-Cool-Now-Talking-everything-NOT-Nike-with-@adlysyairi-3b0bYe36KNE.mp3-part-176.wav\n",
      "skipped semisupervised-manglish/output-wav/Burnout-in-the-Media-Industry-+-Passion-in-Theatre--_-Singaporean-Podcast-#16-_-Rennes-Lee-f7qEqPNzGk8.mp3-part-171.wav\n"
     ]
    },
    {
     "name": "stderr",
     "output_type": "stream",
     "text": [
      " 76%|███████▌  | 99520/130662 [38:35<10:32, 49.23it/s]"
     ]
    },
    {
     "name": "stdout",
     "output_type": "stream",
     "text": [
      "skipped semisupervised-manglish/output-wav/Why-Singaporean-Female-Entrepreneurship-Matters-_-Huda-Hamid-_-Singaporean-Podcast-#44-myPdnyUGvUk.mp3-part-355.wav\n"
     ]
    },
    {
     "name": "stderr",
     "output_type": "stream",
     "text": [
      " 76%|███████▌  | 99556/130662 [38:36<08:20, 62.19it/s]"
     ]
    },
    {
     "name": "stdout",
     "output_type": "stream",
     "text": [
      "skipped semisupervised-manglish/output-wav/Mamak-Sessions---Airing-Dirty-Laundry-Online-and-Social-Justice-Warriors-FFtFXiIgsyk.mp3-part-60.wav\n"
     ]
    },
    {
     "name": "stderr",
     "output_type": "stream",
     "text": [
      " 76%|███████▋  | 99636/130662 [38:37<08:29, 60.91it/s]"
     ]
    },
    {
     "name": "stdout",
     "output_type": "stream",
     "text": [
      "skipped semisupervised-manglish/output-wav/The-Fashion-Weak-Podcast-Ep-30---On-her-way-to-Supermodel-dom,-ASNTM--Cycle-5-Runner-Up-@shikingomez-otK3Gl_XX4c.mp3-part-574.wav\n"
     ]
    },
    {
     "name": "stderr",
     "output_type": "stream",
     "text": [
      " 76%|███████▋  | 99671/130662 [38:38<07:59, 64.68it/s]"
     ]
    },
    {
     "name": "stdout",
     "output_type": "stream",
     "text": [
      "skipped semisupervised-manglish/output-wav/The-Fashion-Weak-Podcast-Ep-38---TikTok-Royalty-Roshan-Jeet-aka-Roshannnn1-lPnRg9UsP0M.mp3-part-508.wav\n"
     ]
    },
    {
     "name": "stderr",
     "output_type": "stream",
     "text": [
      " 76%|███████▋  | 99748/130662 [38:39<08:27, 60.95it/s]"
     ]
    },
    {
     "name": "stdout",
     "output_type": "stream",
     "text": [
      "skipped semisupervised-manglish/output-wav/The-Fashion-Weak-Podcast-Ep-39---Talking-Turn-On's-and-Fashion-Bulk-Buy-Deals-With-Tata-Wanqian-WSVo-qvu1GQ.mp3-part-858.wav\n"
     ]
    },
    {
     "name": "stderr",
     "output_type": "stream",
     "text": [
      " 76%|███████▋  | 99801/130662 [38:40<09:20, 55.04it/s]"
     ]
    },
    {
     "name": "stdout",
     "output_type": "stream",
     "text": [
      "skipped semisupervised-manglish/output-wav/Mamak-Sessions---We-May-Not-Always-End-Up-Doing-What-We-Thought-We-Would..And-That's-Not-A-Bad-Thing-IAeN0jG9Hwc.mp3-part-187.wav\n"
     ]
    },
    {
     "name": "stderr",
     "output_type": "stream",
     "text": [
      " 76%|███████▋  | 99816/130662 [38:41<09:01, 56.94it/s]"
     ]
    },
    {
     "name": "stdout",
     "output_type": "stream",
     "text": [
      "skipped semisupervised-manglish/output-wav/Overcoming-Depression-&-Redefining-What-Failure-Means-to-Youths_-Singaporean-Podcast-#10-_-Kevin-Wee-rjjK4aAbKnw.mp3-part-239.wav\n",
      "skipped semisupervised-manglish/output-wav/Burnout-in-the-Media-Industry-+-Passion-in-Theatre--_-Singaporean-Podcast-#16-_-Rennes-Lee-f7qEqPNzGk8.mp3-part-64.wav\n"
     ]
    },
    {
     "name": "stderr",
     "output_type": "stream",
     "text": [
      " 76%|███████▋  | 99913/130662 [38:42<07:49, 65.55it/s]"
     ]
    },
    {
     "name": "stdout",
     "output_type": "stream",
     "text": [
      "skipped semisupervised-manglish/output-wav/The-Fashion-Weak-Podcast-Ep-22---Why-Fashion-School-Didn't-Work-Out-For-Zee-Avi-woDYSE37_rI.mp3-part-396.wav\n"
     ]
    },
    {
     "name": "stderr",
     "output_type": "stream",
     "text": [
      " 76%|███████▋  | 99939/130662 [38:43<07:09, 71.52it/s]"
     ]
    },
    {
     "name": "stdout",
     "output_type": "stream",
     "text": [
      "skipped semisupervised-manglish/output-wav/Life-After-NUS-Business-School-in-the-FMCG-Industry-_-Singaporean-Podcast-#4_-Leonard-Yap-ONUgGzCm00E.mp3-part-352.wav\n"
     ]
    },
    {
     "name": "stderr",
     "output_type": "stream",
     "text": [
      " 77%|███████▋  | 100018/130662 [38:44<07:58, 64.00it/s]"
     ]
    },
    {
     "name": "stdout",
     "output_type": "stream",
     "text": [
      "skipped semisupervised-manglish/output-wav/The-Fashion-Weak-Podcast-Ep-32---Getting-Surprised-Reading-Melissa-Campbell's-(@heymelbelle)-IG-DMs-mJuKUwFpDgI.mp3-part-736.wav\n"
     ]
    },
    {
     "name": "stderr",
     "output_type": "stream",
     "text": [
      " 77%|███████▋  | 100047/130662 [38:45<07:49, 65.24it/s]"
     ]
    },
    {
     "name": "stdout",
     "output_type": "stream",
     "text": [
      "skipped semisupervised-manglish/output-wav/Burnout-in-the-Media-Industry-+-Passion-in-Theatre--_-Singaporean-Podcast-#16-_-Rennes-Lee-f7qEqPNzGk8.mp3-part-181.wav\n"
     ]
    },
    {
     "name": "stderr",
     "output_type": "stream",
     "text": [
      " 77%|███████▋  | 100131/130662 [38:46<08:21, 60.91it/s]"
     ]
    },
    {
     "name": "stdout",
     "output_type": "stream",
     "text": [
      "skipped semisupervised-manglish/output-wav/Conversations-with-a-Young-Singaporean-CEO--Gao-Fei,-CEO-of-LearnSeeker-_-Singaporean-Podcast-#13--b9YHjghfd2E.mp3-part-639.wav\n"
     ]
    },
    {
     "name": "stderr",
     "output_type": "stream",
     "text": [
      " 77%|███████▋  | 100194/130662 [38:47<08:19, 60.98it/s]"
     ]
    },
    {
     "name": "stdout",
     "output_type": "stream",
     "text": [
      "skipped semisupervised-manglish/output-wav/How-To-Get-Away-With-A-Sex-Crime!-_-The-Thirsty-Sisters-#15-mIc0MmSoaiI.mp3-part-70.wav\n"
     ]
    },
    {
     "name": "stderr",
     "output_type": "stream",
     "text": [
      " 77%|███████▋  | 100253/130662 [38:49<09:52, 51.33it/s]"
     ]
    },
    {
     "name": "stdout",
     "output_type": "stream",
     "text": [
      "skipped semisupervised-manglish/output-wav/Mamak-Sessions---Nasi-Lemak-Sneakers-zLEmAKdG9vY.mp3-part-456.wav\n"
     ]
    },
    {
     "name": "stderr",
     "output_type": "stream",
     "text": [
      " 77%|███████▋  | 100267/130662 [38:49<08:41, 58.29it/s]"
     ]
    },
    {
     "name": "stdout",
     "output_type": "stream",
     "text": [
      "skipped semisupervised-manglish/output-wav/The-Fashion-Weak-Podcast-Ep-21---Suitmaker-To-The-Stars,-Shahrin-Bahar-aka-@sbahar.my-Pkv6d83oe8s.mp3-part-287.wav\n",
      "skipped semisupervised-manglish/output-wav/Mamak-Sessions---Airing-Dirty-Laundry-Online-and-Social-Justice-Warriors-FFtFXiIgsyk.mp3-part-319.wav\n"
     ]
    },
    {
     "name": "stderr",
     "output_type": "stream",
     "text": [
      " 77%|███████▋  | 100289/130662 [38:49<08:01, 63.02it/s]"
     ]
    },
    {
     "name": "stdout",
     "output_type": "stream",
     "text": [
      "skipped semisupervised-manglish/output-wav/Mamak-Sessions---How-I-Got-Quarantined-Because-Of-Covid-19-Feat.-Mark-O'Dea-5zAsyNKfzps.mp3-part-321.wav\n"
     ]
    },
    {
     "name": "stderr",
     "output_type": "stream",
     "text": [
      " 77%|███████▋  | 100317/130662 [38:50<08:09, 61.96it/s]"
     ]
    },
    {
     "name": "stdout",
     "output_type": "stream",
     "text": [
      "skipped semisupervised-manglish/output-wav/Community-Service,-Entrepreneurial-Ventures-&-Being-a-Father-_-Singaporean-Podcast-#14-_-Andy-Ang-v-RunsFvf8o.mp3-part-87.wav\n"
     ]
    },
    {
     "name": "stderr",
     "output_type": "stream",
     "text": [
      " 77%|███████▋  | 100407/130662 [38:51<07:27, 67.58it/s]"
     ]
    },
    {
     "name": "stdout",
     "output_type": "stream",
     "text": [
      "skipped semisupervised-manglish/output-wav/The-Fashion-Weak-Podcast-Ep-21---Suitmaker-To-The-Stars,-Shahrin-Bahar-aka-@sbahar.my-Pkv6d83oe8s.mp3-part-281.wav\n"
     ]
    },
    {
     "name": "stderr",
     "output_type": "stream",
     "text": [
      " 77%|███████▋  | 100420/130662 [38:52<11:13, 44.92it/s]"
     ]
    },
    {
     "name": "stdout",
     "output_type": "stream",
     "text": [
      "skipped semisupervised-manglish/output-wav/Mamak-Sessions---Investigative-Journalism-Brings-Justice-to-Sexual-Crimes-&-Interviewing-Jon-Favreau-RlejfOWnKgQ.mp3-part-465.wav\n"
     ]
    },
    {
     "name": "stderr",
     "output_type": "stream",
     "text": [
      " 77%|███████▋  | 100464/130662 [38:52<07:59, 62.94it/s]"
     ]
    },
    {
     "name": "stdout",
     "output_type": "stream",
     "text": [
      "skipped semisupervised-manglish/output-wav/Mamak-Sessions---Getting-Married-in-Vegas,-and-Sugar-Babies-ft.-Dennis-Yin-Cq6Yjwsu63U.mp3-part-321.wav\n"
     ]
    },
    {
     "name": "stderr",
     "output_type": "stream",
     "text": [
      " 77%|███████▋  | 100494/130662 [38:53<07:48, 64.42it/s]"
     ]
    },
    {
     "name": "stdout",
     "output_type": "stream",
     "text": [
      "skipped semisupervised-manglish/output-wav/Mamak-Sessions---Getting-Married-in-Vegas,-and-Sugar-Babies-ft.-Dennis-Yin-Cq6Yjwsu63U.mp3-part-169.wav\n"
     ]
    },
    {
     "name": "stderr",
     "output_type": "stream",
     "text": [
      " 77%|███████▋  | 100524/130662 [38:53<09:55, 50.59it/s]"
     ]
    },
    {
     "name": "stdout",
     "output_type": "stream",
     "text": [
      "skipped semisupervised-manglish/output-wav/The-Fashion-Weak-Podcast-Ep-32---Getting-Surprised-Reading-Melissa-Campbell's-(@heymelbelle)-IG-DMs-mJuKUwFpDgI.mp3-part-177.wav\n",
      "skipped semisupervised-manglish/output-wav/@Juanitadr-shows-us-what-Arnold's-Tongue-Can-Do---The-Fashion-Weak-Podcast-Episode-10-N5EfPvQKW90.mp3-part-388.wav\n",
      "skipped semisupervised-manglish/output-wav/The-Fashion-Weak-Podcast-Ep35---Is-New-Balance-Cool-Now-Talking-everything-NOT-Nike-with-@adlysyairi-3b0bYe36KNE.mp3-part-117.wav\n"
     ]
    },
    {
     "name": "stderr",
     "output_type": "stream",
     "text": [
      " 77%|███████▋  | 100581/130662 [38:54<08:29, 59.02it/s]"
     ]
    },
    {
     "name": "stdout",
     "output_type": "stream",
     "text": [
      "skipped semisupervised-manglish/output-wav/How-to-Start-a-Podcast-+-Why-You-Should-Enjoy-The-Process_-Singaporean-Podcast#28-_-Nicholas-Patrick-uaSWgcKn0RM.mp3-part-133.wav\n"
     ]
    },
    {
     "name": "stderr",
     "output_type": "stream",
     "text": [
      " 77%|███████▋  | 100632/130662 [38:55<08:50, 56.62it/s]"
     ]
    },
    {
     "name": "stdout",
     "output_type": "stream",
     "text": [
      "skipped semisupervised-manglish/output-wav/Mamak-Sessions-Ep1---Girls-Are-Happier-With-Less-Attractive-Men,-And-The-Dramatic-Pizza-Order-2M8U_mxGbcw.mp3-part-190.wav\n"
     ]
    },
    {
     "name": "stderr",
     "output_type": "stream",
     "text": [
      " 77%|███████▋  | 100647/130662 [38:56<07:52, 63.56it/s]"
     ]
    },
    {
     "name": "stdout",
     "output_type": "stream",
     "text": [
      "skipped semisupervised-manglish/output-wav/Mamak-Sessions-Ep6---Names-People-Always-Mispronounce-&-Facebook-Is-A-Spy-8LuihYdx0FQ.mp3-part-348.wav\n",
      "skipped semisupervised-manglish/output-wav/Mamak-Sessions-Ep6---Names-People-Always-Mispronounce-&-Facebook-Is-A-Spy-8LuihYdx0FQ.mp3-part-11.wav\n"
     ]
    },
    {
     "name": "stderr",
     "output_type": "stream",
     "text": [
      " 77%|███████▋  | 100662/130662 [38:56<07:23, 67.70it/s]"
     ]
    },
    {
     "name": "stdout",
     "output_type": "stream",
     "text": [
      "skipped semisupervised-manglish/output-wav/Mamak-Sessions---Getting-Married-in-Vegas,-and-Sugar-Babies-ft.-Dennis-Yin-Cq6Yjwsu63U.mp3-part-317.wav\n",
      "skipped semisupervised-manglish/output-wav/The-Fashion-Weak-Podcast-Ep-28-@dreamrocketeers-on-that-Rolex-you-should-cop-to-flex-on-poor-friends-shV1F1JlDzk.mp3-part-579.wav\n"
     ]
    },
    {
     "name": "stderr",
     "output_type": "stream",
     "text": [
      " 77%|███████▋  | 100678/130662 [38:56<07:05, 70.54it/s]"
     ]
    },
    {
     "name": "stdout",
     "output_type": "stream",
     "text": [
      "skipped semisupervised-manglish/output-wav/Mamak-Sessions-Podcast---Girl-Gets-Caned-For-Calling-her-Teacher-'AH-GUA'-PRN5UrsDF6w.mp3-part-752.wav\n"
     ]
    },
    {
     "name": "stderr",
     "output_type": "stream",
     "text": [
      " 77%|███████▋  | 100746/130662 [38:57<07:42, 64.74it/s]"
     ]
    },
    {
     "name": "stdout",
     "output_type": "stream",
     "text": [
      "skipped semisupervised-manglish/output-wav/Mamak-Sessions---Body-Shaming-Will-Land-You-In-Jail-XMx9tqwzQS4.mp3-part-181.wav\n",
      "skipped semisupervised-manglish/output-wav/Skin-Care-Routines,-Death,-Life-Purpose-and-More-_-Singaporean-Trio-Podcast-#2-6yW185RJkGw.mp3-part-50.wav\n"
     ]
    },
    {
     "name": "stderr",
     "output_type": "stream",
     "text": [
      " 77%|███████▋  | 100774/130662 [38:58<07:46, 64.10it/s]"
     ]
    },
    {
     "name": "stdout",
     "output_type": "stream",
     "text": [
      "skipped semisupervised-manglish/output-wav/How-To-Be-A-Damn-Good-Software-Developer-+-Israel-Startup-Culture-_-Singaporean-Podcast-#11-_-Mark-cs2LkcSpNpw.mp3-part-230.wav\n"
     ]
    },
    {
     "name": "stderr",
     "output_type": "stream",
     "text": [
      " 77%|███████▋  | 100816/130662 [38:59<08:43, 57.06it/s]"
     ]
    },
    {
     "name": "stdout",
     "output_type": "stream",
     "text": [
      "skipped semisupervised-manglish/output-wav/Mamak-Sessions---My-Asian-Parents-Were-Initially-Ashamed-Of-My-Career-NqCp8Csl7PE.mp3-part-227.wav\n"
     ]
    },
    {
     "name": "stderr",
     "output_type": "stream",
     "text": [
      " 77%|███████▋  | 100895/130662 [39:00<09:18, 53.31it/s]"
     ]
    },
    {
     "name": "stdout",
     "output_type": "stream",
     "text": [
      "skipped semisupervised-manglish/output-wav/The-Fashion-Weak-Podcast-Ep-26---Chinese-New-Year-with-Stand-Up-Comedian-_-Fashionista-Kuah-Jenhan-Yv7uONh96tc.mp3-part-207.wav\n"
     ]
    },
    {
     "name": "stderr",
     "output_type": "stream",
     "text": [
      " 77%|███████▋  | 101015/130662 [39:02<07:34, 65.26it/s]"
     ]
    },
    {
     "name": "stdout",
     "output_type": "stream",
     "text": [
      "skipped semisupervised-manglish/output-wav/The-Fashion-Weak-Podcast-Ep-30---On-her-way-to-Supermodel-dom,-ASNTM--Cycle-5-Runner-Up-@shikingomez-otK3Gl_XX4c.mp3-part-102.wav\n",
      "skipped semisupervised-manglish/output-wav/Talking-Sneakers-&-Strong-Sperm-With-@bryanbotakchin---The-Fashion-Weak-Podcast-Episode-11-iugevNPFp2Y.mp3-part-73.wav\n"
     ]
    },
    {
     "name": "stderr",
     "output_type": "stream",
     "text": [
      " 77%|███████▋  | 101039/130662 [39:03<07:20, 67.24it/s]"
     ]
    },
    {
     "name": "stdout",
     "output_type": "stream",
     "text": [
      "skipped semisupervised-manglish/output-wav/The-Fashion-Weak-Podcast-Ep-23---Alicia-Amin-On-Being-A-'Malay'-Model-In-2019-3pKA5NvTCOA.mp3-part-781.wav\n"
     ]
    },
    {
     "name": "stderr",
     "output_type": "stream",
     "text": [
      " 77%|███████▋  | 101074/130662 [39:03<09:16, 53.13it/s]"
     ]
    },
    {
     "name": "stdout",
     "output_type": "stream",
     "text": [
      "INFO:tensorflow:Generating case 100000.\n"
     ]
    },
    {
     "name": "stderr",
     "output_type": "stream",
     "text": [
      " 77%|███████▋  | 101127/130662 [39:04<07:46, 63.38it/s]"
     ]
    },
    {
     "name": "stdout",
     "output_type": "stream",
     "text": [
      "skipped semisupervised-manglish/output-wav/The-Fashion-Weak-Podcast-Ep-45---Finessing-A-New-Phone-Every-Year-With-Mamak-Rap-King-Jiven-Sekar-VlovwtVYuw0.mp3-part-586.wav\n"
     ]
    },
    {
     "name": "stderr",
     "output_type": "stream",
     "text": [
      " 77%|███████▋  | 101233/130662 [39:06<07:23, 66.33it/s]"
     ]
    },
    {
     "name": "stdout",
     "output_type": "stream",
     "text": [
      "skipped semisupervised-manglish/output-wav/@Juanitadr-shows-us-what-Arnold's-Tongue-Can-Do---The-Fashion-Weak-Podcast-Episode-10-N5EfPvQKW90.mp3-part-6.wav\n"
     ]
    },
    {
     "name": "stderr",
     "output_type": "stream",
     "text": [
      " 77%|███████▋  | 101259/130662 [39:07<09:35, 51.13it/s]"
     ]
    },
    {
     "name": "stdout",
     "output_type": "stream",
     "text": [
      "skipped semisupervised-manglish/output-wav/The-Fashion-Weak-Podcast-Ep-31----Possibly-Our-Most-NSFW-Episode-Yet-With-@vikarworld-xMm23vU8_og.mp3-part-701.wav\n"
     ]
    },
    {
     "name": "stderr",
     "output_type": "stream",
     "text": [
      " 78%|███████▊  | 101280/130662 [39:07<08:16, 59.14it/s]"
     ]
    },
    {
     "name": "stdout",
     "output_type": "stream",
     "text": [
      "skipped semisupervised-manglish/output-wav/Nicole-Choo-on-What-Went-Wrong-with-Ridhwan---Team-Titan-Show-#4-gW9sv26g4Io.mp3-part-19.wav\n"
     ]
    },
    {
     "name": "stderr",
     "output_type": "stream",
     "text": [
      " 78%|███████▊  | 101351/130662 [39:08<09:03, 53.97it/s]"
     ]
    },
    {
     "name": "stdout",
     "output_type": "stream",
     "text": [
      "skipped semisupervised-manglish/output-wav/The-Fashion-Weak-Podcast-Ep-23---Alicia-Amin-On-Being-A-'Malay'-Model-In-2019-3pKA5NvTCOA.mp3-part-390.wav\n"
     ]
    },
    {
     "name": "stderr",
     "output_type": "stream",
     "text": [
      " 78%|███████▊  | 101385/130662 [39:09<08:17, 58.81it/s]"
     ]
    },
    {
     "name": "stdout",
     "output_type": "stream",
     "text": [
      "skipped semisupervised-manglish/output-wav/Mamak-Sessions-Ep6---Names-People-Always-Mispronounce-&-Facebook-Is-A-Spy-8LuihYdx0FQ.mp3-part-82.wav\n"
     ]
    },
    {
     "name": "stderr",
     "output_type": "stream",
     "text": [
      " 78%|███████▊  | 101406/130662 [39:09<07:44, 62.92it/s]"
     ]
    },
    {
     "name": "stdout",
     "output_type": "stream",
     "text": [
      "skipped semisupervised-manglish/output-wav/Relatives-Ruin-My-Wedding!-_-The-Thirsty-Sisters-#22-98CiTQQtqak.mp3-part-136.wav\n"
     ]
    },
    {
     "name": "stderr",
     "output_type": "stream",
     "text": [
      " 78%|███████▊  | 101498/130662 [39:11<07:26, 65.26it/s]"
     ]
    },
    {
     "name": "stdout",
     "output_type": "stream",
     "text": [
      "skipped semisupervised-manglish/output-wav/Talking-Sneakers-&-Strong-Sperm-With-@bryanbotakchin---The-Fashion-Weak-Podcast-Episode-11-iugevNPFp2Y.mp3-part-100.wav\n"
     ]
    },
    {
     "name": "stderr",
     "output_type": "stream",
     "text": [
      " 78%|███████▊  | 101609/130662 [39:13<07:25, 65.16it/s]"
     ]
    },
    {
     "name": "stdout",
     "output_type": "stream",
     "text": [
      "skipped semisupervised-manglish/output-wav/Mamak-Sessions-Ep10---Datuk-Nicol-David-is-RETIRING!-n3AR3nQEc7Y.mp3-part-502.wav\n"
     ]
    },
    {
     "name": "stderr",
     "output_type": "stream",
     "text": [
      " 78%|███████▊  | 101652/130662 [39:14<08:01, 60.26it/s]"
     ]
    },
    {
     "name": "stdout",
     "output_type": "stream",
     "text": [
      "skipped semisupervised-manglish/output-wav/Mamak-Sessions---Getting-Married-in-Vegas,-and-Sugar-Babies-ft.-Dennis-Yin-Cq6Yjwsu63U.mp3-part-314.wav\n"
     ]
    },
    {
     "name": "stderr",
     "output_type": "stream",
     "text": [
      " 78%|███████▊  | 101674/130662 [39:14<07:13, 66.83it/s]"
     ]
    },
    {
     "name": "stdout",
     "output_type": "stream",
     "text": [
      "skipped semisupervised-manglish/output-wav/The-Fashion-Weak-Podcast-Ep24---Penang-Boys-@tunway-瘦虎-&-@Shawnduabui-肥龍-Talk-Zap-Fan-&-Sneakers-dykz_vuzJh0.mp3-part-348.wav\n"
     ]
    },
    {
     "name": "stderr",
     "output_type": "stream",
     "text": [
      " 78%|███████▊  | 101780/130662 [39:16<07:25, 64.88it/s]"
     ]
    },
    {
     "name": "stdout",
     "output_type": "stream",
     "text": [
      "skipped semisupervised-manglish/output-wav/Mamak-Sessions-Ep8---Man-Sues-Colleague-for-$1.8-Million-for-Farting-OWbPqC2i71c.mp3-part-565.wav\n",
      "skipped semisupervised-manglish/output-wav/The-Fashion-Weak-Podcast-Ep-43A---Keeping-Fair-On-The-Fairway-With-Natalia-Ng-CSP1XPZu4YY.mp3-part-629.wav\n"
     ]
    },
    {
     "name": "stderr",
     "output_type": "stream",
     "text": [
      " 78%|███████▊  | 101909/130662 [39:19<09:24, 50.94it/s]"
     ]
    },
    {
     "name": "stdout",
     "output_type": "stream",
     "text": [
      "skipped semisupervised-manglish/output-wav/The-Fashion-Weak-Podcast-EP16---Podcast-Wars-With-The-From-The-Thread-Boys-7dPzh9PpLs8.mp3-part-470.wav\n"
     ]
    },
    {
     "name": "stderr",
     "output_type": "stream",
     "text": [
      " 78%|███████▊  | 102028/130662 [39:21<07:51, 60.75it/s]"
     ]
    },
    {
     "name": "stdout",
     "output_type": "stream",
     "text": [
      "skipped semisupervised-manglish/output-wav/The-Fashion-Weak-Podcast-Ep-40---tdcjTfzYSbk.mp3-part-324.wav\n"
     ]
    },
    {
     "name": "stderr",
     "output_type": "stream",
     "text": [
      " 78%|███████▊  | 102049/130662 [39:21<07:46, 61.35it/s]"
     ]
    },
    {
     "name": "stdout",
     "output_type": "stream",
     "text": [
      "skipped semisupervised-manglish/output-wav/Living-Alone-In-New-York,-Chasing-Dreams-And-The-Future-_-HTHT---Xenia-Tan-ezFAYdIwu_8.mp3-part-0.wav\n"
     ]
    },
    {
     "name": "stderr",
     "output_type": "stream",
     "text": [
      " 78%|███████▊  | 102119/130662 [39:22<07:31, 63.23it/s]"
     ]
    },
    {
     "name": "stdout",
     "output_type": "stream",
     "text": [
      "skipped semisupervised-manglish/output-wav/The-Fashion-Weak-Podcast-Ep-30---On-her-way-to-Supermodel-dom,-ASNTM--Cycle-5-Runner-Up-@shikingomez-otK3Gl_XX4c.mp3-part-698.wav\n",
      "skipped semisupervised-manglish/output-wav/Mamak-Sessions-Ep6---Names-People-Always-Mispronounce-&-Facebook-Is-A-Spy-8LuihYdx0FQ.mp3-part-15.wav\n"
     ]
    },
    {
     "name": "stderr",
     "output_type": "stream",
     "text": [
      " 78%|███████▊  | 102147/130662 [39:23<08:00, 59.37it/s]"
     ]
    },
    {
     "name": "stdout",
     "output_type": "stream",
     "text": [
      "skipped semisupervised-manglish/output-wav/Burning-Hot-Fever!-4-Doctors-Tried-To-Save-Me-In-The-Hospital!-_-The-Thirsty-Sisters-#6-Jw7B8efygWI.mp3-part-15.wav\n"
     ]
    },
    {
     "name": "stderr",
     "output_type": "stream",
     "text": [
      " 78%|███████▊  | 102196/130662 [39:24<07:40, 61.75it/s]"
     ]
    },
    {
     "name": "stdout",
     "output_type": "stream",
     "text": [
      "skipped semisupervised-manglish/output-wav/Mamak-Sessions---How-Do-You-Deal-With-Rumors-ft-Elizabeth-Tan-Rkvd5p3I11M.mp3-part-71.wav\n",
      "skipped semisupervised-manglish/output-wav/The-Fashion-Weak-Podcast-Ep-32---Getting-Surprised-Reading-Melissa-Campbell's-(@heymelbelle)-IG-DMs-mJuKUwFpDgI.mp3-part-324.wav\n"
     ]
    },
    {
     "name": "stderr",
     "output_type": "stream",
     "text": [
      " 78%|███████▊  | 102314/130662 [39:26<07:23, 63.87it/s]"
     ]
    },
    {
     "name": "stdout",
     "output_type": "stream",
     "text": [
      "skipped semisupervised-manglish/output-wav/Mamak-Sessions---Coming-Out-ft.-Nigel-Chin-and-Magnum-79ax7ZQss5M.mp3-part-266.wav\n"
     ]
    },
    {
     "name": "stderr",
     "output_type": "stream",
     "text": [
      " 78%|███████▊  | 102328/130662 [39:26<07:49, 60.34it/s]"
     ]
    },
    {
     "name": "stdout",
     "output_type": "stream",
     "text": [
      "skipped semisupervised-manglish/output-wav/Mamak-Sessions---Nasi-Lemak-Sneakers-zLEmAKdG9vY.mp3-part-212.wav\n"
     ]
    },
    {
     "name": "stderr",
     "output_type": "stream",
     "text": [
      " 78%|███████▊  | 102357/130662 [39:27<08:56, 52.80it/s]"
     ]
    },
    {
     "name": "stdout",
     "output_type": "stream",
     "text": [
      "skipped semisupervised-manglish/output-wav/The-Fashion-Weak-Podcast-Ep-31----Possibly-Our-Most-NSFW-Episode-Yet-With-@vikarworld-xMm23vU8_og.mp3-part-75.wav\n"
     ]
    },
    {
     "name": "stderr",
     "output_type": "stream",
     "text": [
      " 78%|███████▊  | 102448/130662 [39:28<07:52, 59.75it/s]"
     ]
    },
    {
     "name": "stdout",
     "output_type": "stream",
     "text": [
      "skipped semisupervised-manglish/output-wav/The-Fashion-Weak-Podcast-EP16---Podcast-Wars-With-The-From-The-Thread-Boys-7dPzh9PpLs8.mp3-part-446.wav\n"
     ]
    },
    {
     "name": "stderr",
     "output_type": "stream",
     "text": [
      " 78%|███████▊  | 102470/130662 [39:29<09:05, 51.68it/s]"
     ]
    },
    {
     "name": "stdout",
     "output_type": "stream",
     "text": [
      "skipped semisupervised-manglish/output-wav/@Juanitadr-shows-us-what-Arnold's-Tongue-Can-Do---The-Fashion-Weak-Podcast-Episode-10-N5EfPvQKW90.mp3-part-132.wav\n"
     ]
    },
    {
     "name": "stderr",
     "output_type": "stream",
     "text": [
      " 78%|███████▊  | 102547/130662 [39:30<10:44, 43.60it/s]"
     ]
    },
    {
     "name": "stdout",
     "output_type": "stream",
     "text": [
      "skipped semisupervised-manglish/output-wav/The-Fashion-Weak-Podcast-Ep-23---Alicia-Amin-On-Being-A-'Malay'-Model-In-2019-3pKA5NvTCOA.mp3-part-633.wav\n"
     ]
    },
    {
     "name": "stderr",
     "output_type": "stream",
     "text": [
      "\r",
      " 78%|███████▊  | 102555/130662 [39:30<09:27, 49.57it/s]"
     ]
    },
    {
     "name": "stdout",
     "output_type": "stream",
     "text": [
      "skipped semisupervised-manglish/output-wav/Mamak-Sessions---The-Asian-Mom-Of-The-Internet-ft-Tata-Wyb6i3GoJv4.mp3-part-382.wav\n"
     ]
    },
    {
     "name": "stderr",
     "output_type": "stream",
     "text": [
      " 79%|███████▊  | 102606/130662 [39:31<07:11, 65.02it/s]"
     ]
    },
    {
     "name": "stdout",
     "output_type": "stream",
     "text": [
      "skipped semisupervised-manglish/output-wav/The-Fashion-Weak-Podcast-Ep24---Penang-Boys-@tunway-瘦虎-&-@Shawnduabui-肥龍-Talk-Zap-Fan-&-Sneakers-dykz_vuzJh0.mp3-part-281.wav\n"
     ]
    },
    {
     "name": "stderr",
     "output_type": "stream",
     "text": [
      " 79%|███████▊  | 102742/130662 [39:34<07:57, 58.49it/s]"
     ]
    },
    {
     "name": "stdout",
     "output_type": "stream",
     "text": [
      "skipped semisupervised-manglish/output-wav/Mamak-Sessions---How-Do-You-Deal-With-Rumors-ft-Elizabeth-Tan-Rkvd5p3I11M.mp3-part-82.wav\n",
      "skipped semisupervised-manglish/output-wav/The-Fashion-Weak-Podcast-Ep-32---Getting-Surprised-Reading-Melissa-Campbell's-(@heymelbelle)-IG-DMs-mJuKUwFpDgI.mp3-part-633.wav\n"
     ]
    },
    {
     "name": "stderr",
     "output_type": "stream",
     "text": [
      " 79%|███████▊  | 102764/130662 [39:34<07:28, 62.21it/s]"
     ]
    },
    {
     "name": "stdout",
     "output_type": "stream",
     "text": [
      "skipped semisupervised-manglish/output-wav/Mamak-Sessions---Do-You-Check-Your-Partner's-Text-Messages-Featuring-Lizz-Chloe-WJkSAHvYyqk.mp3-part-391.wav\n"
     ]
    },
    {
     "name": "stderr",
     "output_type": "stream",
     "text": [
      " 79%|███████▊  | 102822/130662 [39:35<09:07, 50.81it/s]"
     ]
    },
    {
     "name": "stdout",
     "output_type": "stream",
     "text": [
      "skipped semisupervised-manglish/output-wav/Mamak-Sessions-Ep6---Names-People-Always-Mispronounce-&-Facebook-Is-A-Spy-8LuihYdx0FQ.mp3-part-382.wav\n",
      "skipped semisupervised-manglish/output-wav/Mamak-Sessions---Airing-Dirty-Laundry-Online-and-Social-Justice-Warriors-FFtFXiIgsyk.mp3-part-9.wav\n"
     ]
    },
    {
     "name": "stderr",
     "output_type": "stream",
     "text": [
      " 79%|███████▉  | 102902/130662 [39:37<10:10, 45.45it/s]"
     ]
    },
    {
     "name": "stdout",
     "output_type": "stream",
     "text": [
      "skipped semisupervised-manglish/output-wav/The-Fashion-Weak-Podcast-Ep-43A---Keeping-Fair-On-The-Fairway-With-Natalia-Ng-CSP1XPZu4YY.mp3-part-251.wav\n",
      "skipped semisupervised-manglish/output-wav/Mamak-Sessions---Nasi-Lemak-Sneakers-zLEmAKdG9vY.mp3-part-2.wav\n"
     ]
    },
    {
     "name": "stderr",
     "output_type": "stream",
     "text": [
      " 79%|███████▉  | 102954/130662 [39:38<08:04, 57.19it/s]"
     ]
    },
    {
     "name": "stdout",
     "output_type": "stream",
     "text": [
      "skipped semisupervised-manglish/output-wav/Mamak-Sessions---Girls-Are-Such-Complicated-Lil-Creatures-feat.-Talitha.-I2BaN8cm6NY.mp3-part-25.wav\n"
     ]
    },
    {
     "name": "stderr",
     "output_type": "stream",
     "text": [
      " 79%|███████▉  | 102970/130662 [39:38<07:09, 64.48it/s]"
     ]
    },
    {
     "name": "stdout",
     "output_type": "stream",
     "text": [
      "skipped semisupervised-manglish/output-wav/Mamak-Sessions---Have-You-Been-Rejected,-and-Have-You-Rejected-Someone-sZFykBDVjOI.mp3-part-62.wav\n"
     ]
    },
    {
     "name": "stderr",
     "output_type": "stream",
     "text": [
      " 79%|███████▉  | 103026/130662 [39:39<07:47, 59.15it/s]"
     ]
    },
    {
     "name": "stdout",
     "output_type": "stream",
     "text": [
      "skipped semisupervised-manglish/output-wav/Mamak-Sessions-Ep9---Sibling-Rivalry-ft-Julian-Yee-670FyeJhnps.mp3-part-78.wav\n"
     ]
    },
    {
     "name": "stderr",
     "output_type": "stream",
     "text": [
      " 79%|███████▉  | 103069/130662 [39:40<07:19, 62.77it/s]"
     ]
    },
    {
     "name": "stdout",
     "output_type": "stream",
     "text": [
      "skipped semisupervised-manglish/output-wav/The-Fashion-Weak-Podcast-Ep24---Penang-Boys-@tunway-瘦虎-&-@Shawnduabui-肥龍-Talk-Zap-Fan-&-Sneakers-dykz_vuzJh0.mp3-part-463.wav\n"
     ]
    },
    {
     "name": "stderr",
     "output_type": "stream",
     "text": [
      " 79%|███████▉  | 103121/130662 [39:41<07:26, 61.72it/s]"
     ]
    },
    {
     "name": "stdout",
     "output_type": "stream",
     "text": [
      "skipped semisupervised-manglish/output-wav/The-Fashion-Weak-Podcast-Ep-19---Butt-Stuff-&-Actual-Fashion-With-Zane-Gan-jhLgzHQnAHU.mp3-part-288.wav\n"
     ]
    },
    {
     "name": "stderr",
     "output_type": "stream",
     "text": [
      " 79%|███████▉  | 103151/130662 [39:41<06:52, 66.66it/s]"
     ]
    },
    {
     "name": "stdout",
     "output_type": "stream",
     "text": [
      "skipped semisupervised-manglish/output-wav/The-Fashion-Weak-Podcast-EP-41---Investment-Tips-For-Chee-Seng-With-Fuad-&-Shaq-From-Kyoto-Protocol-eWNQhDNoSsY.mp3-part-1035.wav\n"
     ]
    },
    {
     "name": "stderr",
     "output_type": "stream",
     "text": [
      " 79%|███████▉  | 103222/130662 [39:43<07:28, 61.24it/s]"
     ]
    },
    {
     "name": "stdout",
     "output_type": "stream",
     "text": [
      "skipped semisupervised-manglish/output-wav/We-Are-Finally-Dating-Again!-We-Found-New-Men-_-The-Thirsty-Sisters-#24-fzuKoKTxfEs.mp3-part-238.wav\n"
     ]
    },
    {
     "name": "stderr",
     "output_type": "stream",
     "text": [
      " 79%|███████▉  | 103294/130662 [39:44<07:28, 60.96it/s]"
     ]
    },
    {
     "name": "stdout",
     "output_type": "stream",
     "text": [
      "skipped semisupervised-manglish/output-wav/The-Fashion-Weak-Podcast-Ep-19---Butt-Stuff-&-Actual-Fashion-With-Zane-Gan-jhLgzHQnAHU.mp3-part-35.wav\n",
      "skipped semisupervised-manglish/output-wav/Talking-Sneakers-&-Strong-Sperm-With-@bryanbotakchin---The-Fashion-Weak-Podcast-Episode-11-iugevNPFp2Y.mp3-part-156.wav\n"
     ]
    },
    {
     "name": "stderr",
     "output_type": "stream",
     "text": [
      " 79%|███████▉  | 103357/130662 [39:45<09:45, 46.64it/s]"
     ]
    },
    {
     "name": "stdout",
     "output_type": "stream",
     "text": [
      "skipped semisupervised-manglish/output-wav/Mamak-Sessions---Are-Social-Media-Influencers-Entitled-ZJ8jw3C9vB8.mp3-part-13.wav\n"
     ]
    },
    {
     "name": "stderr",
     "output_type": "stream",
     "text": [
      " 79%|███████▉  | 103444/130662 [39:47<09:59, 45.37it/s]"
     ]
    },
    {
     "name": "stdout",
     "output_type": "stream",
     "text": [
      "skipped semisupervised-manglish/output-wav/Mamak-Sessions-Ep6---Names-People-Always-Mispronounce-&-Facebook-Is-A-Spy-8LuihYdx0FQ.mp3-part-78.wav\n"
     ]
    },
    {
     "name": "stderr",
     "output_type": "stream",
     "text": [
      " 79%|███████▉  | 103462/130662 [39:47<07:49, 57.94it/s]"
     ]
    },
    {
     "name": "stdout",
     "output_type": "stream",
     "text": [
      "skipped semisupervised-manglish/output-wav/Mamak-Sessions-Ep10---Datuk-Nicol-David-is-RETIRING!-n3AR3nQEc7Y.mp3-part-127.wav\n"
     ]
    },
    {
     "name": "stderr",
     "output_type": "stream",
     "text": [
      " 79%|███████▉  | 103477/130662 [39:47<07:18, 61.95it/s]"
     ]
    },
    {
     "name": "stdout",
     "output_type": "stream",
     "text": [
      "skipped semisupervised-manglish/output-wav/Talking-Sneakers-&-Strong-Sperm-With-@bryanbotakchin---The-Fashion-Weak-Podcast-Episode-11-iugevNPFp2Y.mp3-part-457.wav\n",
      "skipped semisupervised-manglish/output-wav/@Juanitadr-shows-us-what-Arnold's-Tongue-Can-Do---The-Fashion-Weak-Podcast-Episode-10-N5EfPvQKW90.mp3-part-182.wav\n"
     ]
    },
    {
     "name": "stderr",
     "output_type": "stream",
     "text": [
      " 79%|███████▉  | 103549/130662 [39:49<08:31, 53.05it/s]"
     ]
    },
    {
     "name": "stdout",
     "output_type": "stream",
     "text": [
      "skipped semisupervised-manglish/output-wav/The-Fashion-Weak-Podcast-Ep-40---tdcjTfzYSbk.mp3-part-957.wav\n"
     ]
    },
    {
     "name": "stderr",
     "output_type": "stream",
     "text": [
      " 79%|███████▉  | 103609/130662 [39:49<06:33, 68.74it/s]"
     ]
    },
    {
     "name": "stdout",
     "output_type": "stream",
     "text": [
      "skipped semisupervised-manglish/output-wav/The-Fashion-Weak-Podcast-Ep-43A---Keeping-Fair-On-The-Fairway-With-Natalia-Ng-CSP1XPZu4YY.mp3-part-213.wav\n"
     ]
    },
    {
     "name": "stderr",
     "output_type": "stream",
     "text": [
      " 79%|███████▉  | 103637/130662 [39:50<08:12, 54.87it/s]"
     ]
    },
    {
     "name": "stdout",
     "output_type": "stream",
     "text": [
      "skipped semisupervised-manglish/output-wav/Mamak-Sessions---How-Do-You-Deal-With-Rumors-ft-Elizabeth-Tan-Rkvd5p3I11M.mp3-part-409.wav\n"
     ]
    },
    {
     "name": "stderr",
     "output_type": "stream",
     "text": [
      " 79%|███████▉  | 103653/130662 [39:50<07:26, 60.43it/s]"
     ]
    },
    {
     "name": "stdout",
     "output_type": "stream",
     "text": [
      "skipped semisupervised-manglish/output-wav/Mamak-Sessions-Podcast---How-Dean-Lewis-became-who-he-is-today-HkOQy1Nxpis.mp3-part-199.wav\n"
     ]
    },
    {
     "name": "stderr",
     "output_type": "stream",
     "text": [
      " 79%|███████▉  | 103688/130662 [39:51<07:29, 59.96it/s]"
     ]
    },
    {
     "name": "stdout",
     "output_type": "stream",
     "text": [
      "skipped semisupervised-manglish/output-wav/Mamak-Sessions---We-May-Not-Always-End-Up-Doing-What-We-Thought-We-Would..And-That's-Not-A-Bad-Thing-IAeN0jG9Hwc.mp3-part-156.wav\n"
     ]
    },
    {
     "name": "stderr",
     "output_type": "stream",
     "text": [
      " 79%|███████▉  | 103703/130662 [39:51<06:59, 64.30it/s]"
     ]
    },
    {
     "name": "stdout",
     "output_type": "stream",
     "text": [
      "skipped semisupervised-manglish/output-wav/Mamak-Sessions-Ep2---Bringing-A-Girl-Home-For-The-First-Time-Jn2oeTajYCw.mp3-part-210.wav\n"
     ]
    },
    {
     "name": "stderr",
     "output_type": "stream",
     "text": [
      " 79%|███████▉  | 103769/130662 [39:52<07:26, 60.28it/s]"
     ]
    },
    {
     "name": "stdout",
     "output_type": "stream",
     "text": [
      "skipped semisupervised-manglish/output-wav/How-To-Get-Away-With-A-Sex-Crime!-_-The-Thirsty-Sisters-#15-mIc0MmSoaiI.mp3-part-291.wav\n"
     ]
    },
    {
     "name": "stderr",
     "output_type": "stream",
     "text": [
      " 79%|███████▉  | 103790/130662 [39:53<07:09, 62.62it/s]"
     ]
    },
    {
     "name": "stdout",
     "output_type": "stream",
     "text": [
      "skipped semisupervised-manglish/output-wav/Mamak-Sessions---Nasi-Lemak-Sneakers-zLEmAKdG9vY.mp3-part-16.wav\n"
     ]
    },
    {
     "name": "stderr",
     "output_type": "stream",
     "text": [
      " 79%|███████▉  | 103803/130662 [39:53<10:05, 44.38it/s]"
     ]
    },
    {
     "name": "stdout",
     "output_type": "stream",
     "text": [
      "skipped semisupervised-manglish/output-wav/The-Fashion-Weak-Podcast-EP-41---Investment-Tips-For-Chee-Seng-With-Fuad-&-Shaq-From-Kyoto-Protocol-eWNQhDNoSsY.mp3-part-530.wav\n"
     ]
    },
    {
     "name": "stderr",
     "output_type": "stream",
     "text": [
      " 79%|███████▉  | 103824/130662 [39:54<08:05, 55.28it/s]"
     ]
    },
    {
     "name": "stdout",
     "output_type": "stream",
     "text": [
      "skipped semisupervised-manglish/output-wav/The-Fashion-Weak-Podcast-EP16---Podcast-Wars-With-The-From-The-Thread-Boys-7dPzh9PpLs8.mp3-part-35.wav\n"
     ]
    },
    {
     "name": "stderr",
     "output_type": "stream",
     "text": [
      " 80%|███████▉  | 103900/130662 [39:55<09:07, 48.84it/s]"
     ]
    },
    {
     "name": "stdout",
     "output_type": "stream",
     "text": [
      "skipped semisupervised-manglish/output-wav/The-Fashion-Weak-Podcast-Ep-23---Alicia-Amin-On-Being-A-'Malay'-Model-In-2019-3pKA5NvTCOA.mp3-part-529.wav\n",
      "skipped semisupervised-manglish/output-wav/Playing-Basketball-With-Dr-Jason-Leong---The-Fashion-Weak-Podcast-Episode-4---6K1feeFnKpQ.mp3-part-241.wav\n"
     ]
    },
    {
     "name": "stderr",
     "output_type": "stream",
     "text": [
      " 80%|███████▉  | 103986/130662 [39:57<09:07, 48.69it/s]"
     ]
    },
    {
     "name": "stdout",
     "output_type": "stream",
     "text": [
      "skipped semisupervised-manglish/output-wav/The-Fashion-Weak-Podcast-EP-27----Peter-Davis-talks-cars,-mixed-rice-and-some-fashion.-rxmMRAzLRJ0.mp3-part-661.wav\n",
      "skipped semisupervised-manglish/output-wav/Mamak-Sessions---The-Asian-Mom-Of-The-Internet-ft-Tata-Wyb6i3GoJv4.mp3-part-533.wav\n"
     ]
    },
    {
     "name": "stderr",
     "output_type": "stream",
     "text": [
      " 80%|███████▉  | 104043/130662 [39:57<06:09, 71.99it/s]"
     ]
    },
    {
     "name": "stdout",
     "output_type": "stream",
     "text": [
      "skipped semisupervised-manglish/output-wav/The-Fashion-Weak-Podcast-EP-36---Why-guys-REALLY-go-for-spin-class-with-Oxygen-Cycle-RqG0tHR9D1g.mp3-part-351.wav\n",
      "skipped semisupervised-manglish/output-wav/The-Fashion-Weak-Podcast-Ep-43A---Keeping-Fair-On-The-Fairway-With-Natalia-Ng-CSP1XPZu4YY.mp3-part-752.wav\n"
     ]
    },
    {
     "name": "stderr",
     "output_type": "stream",
     "text": [
      " 80%|███████▉  | 104117/130662 [39:59<07:14, 61.05it/s]"
     ]
    },
    {
     "name": "stdout",
     "output_type": "stream",
     "text": [
      "skipped semisupervised-manglish/output-wav/The-Fashion-Weak-Podcast-Ep-43A---Keeping-Fair-On-The-Fairway-With-Natalia-Ng-CSP1XPZu4YY.mp3-part-307.wav\n"
     ]
    },
    {
     "name": "stderr",
     "output_type": "stream",
     "text": [
      " 80%|███████▉  | 104153/130662 [39:59<06:56, 63.66it/s]"
     ]
    },
    {
     "name": "stdout",
     "output_type": "stream",
     "text": [
      "skipped semisupervised-manglish/output-wav/The-Fashion-Weak-Podcast-Ep35---Is-New-Balance-Cool-Now-Talking-everything-NOT-Nike-with-@adlysyairi-3b0bYe36KNE.mp3-part-289.wav\n"
     ]
    },
    {
     "name": "stderr",
     "output_type": "stream",
     "text": [
      " 80%|███████▉  | 104176/130662 [40:00<08:27, 52.23it/s]"
     ]
    },
    {
     "name": "stdout",
     "output_type": "stream",
     "text": [
      "skipped semisupervised-manglish/output-wav/The-Fashion-Weak-Podcast-Ep-45---Finessing-A-New-Phone-Every-Year-With-Mamak-Rap-King-Jiven-Sekar-VlovwtVYuw0.mp3-part-484.wav\n",
      "skipped semisupervised-manglish/output-wav/Skin-Care-Routines,-Death,-Life-Purpose-and-More-_-Singaporean-Trio-Podcast-#2-6yW185RJkGw.mp3-part-177.wav\n"
     ]
    },
    {
     "name": "stderr",
     "output_type": "stream",
     "text": [
      " 80%|███████▉  | 104218/130662 [40:00<07:29, 58.85it/s]"
     ]
    },
    {
     "name": "stdout",
     "output_type": "stream",
     "text": [
      "skipped semisupervised-manglish/output-wav/Mamak-Sessions---Do-You-Check-Your-Partner's-Text-Messages-Featuring-Lizz-Chloe-WJkSAHvYyqk.mp3-part-97.wav\n"
     ]
    },
    {
     "name": "stderr",
     "output_type": "stream",
     "text": [
      " 80%|███████▉  | 104261/130662 [40:01<09:39, 45.60it/s]"
     ]
    },
    {
     "name": "stdout",
     "output_type": "stream",
     "text": [
      "skipped semisupervised-manglish/output-wav/8-Wheels-Vs-4-Wheels-With-Sukeats-From-Wheel-Love---The-Fashion-Weak-Podcast-ep-12-fgaCmnMdZ0c.mp3-part-157.wav\n"
     ]
    },
    {
     "name": "stderr",
     "output_type": "stream",
     "text": [
      " 80%|███████▉  | 104360/130662 [40:03<08:50, 49.61it/s]"
     ]
    },
    {
     "name": "stdout",
     "output_type": "stream",
     "text": [
      "skipped semisupervised-manglish/output-wav/The-Fashion-Weak-Podcast-Ep-40---tdcjTfzYSbk.mp3-part-991.wav\n"
     ]
    },
    {
     "name": "stderr",
     "output_type": "stream",
     "text": [
      " 80%|███████▉  | 104377/130662 [40:03<07:27, 58.70it/s]"
     ]
    },
    {
     "name": "stdout",
     "output_type": "stream",
     "text": [
      "skipped semisupervised-manglish/output-wav/The-Fashion-Weak-Podcast-Ep-30---On-her-way-to-Supermodel-dom,-ASNTM--Cycle-5-Runner-Up-@shikingomez-otK3Gl_XX4c.mp3-part-42.wav\n",
      "skipped semisupervised-manglish/output-wav/How-To-Be-A-Damn-Good-Software-Developer-+-Israel-Startup-Culture-_-Singaporean-Podcast-#11-_-Mark-cs2LkcSpNpw.mp3-part-228.wav\n"
     ]
    },
    {
     "name": "stderr",
     "output_type": "stream",
     "text": [
      " 80%|███████▉  | 104525/130662 [40:06<09:47, 44.50it/s]"
     ]
    },
    {
     "name": "stdout",
     "output_type": "stream",
     "text": [
      "skipped semisupervised-manglish/output-wav/We-Are-Finally-Dating-Again!-We-Found-New-Men-_-The-Thirsty-Sisters-#24-fzuKoKTxfEs.mp3-part-106.wav\n"
     ]
    },
    {
     "name": "stderr",
     "output_type": "stream",
     "text": [
      " 80%|████████  | 104573/130662 [40:07<07:02, 61.77it/s]"
     ]
    },
    {
     "name": "stdout",
     "output_type": "stream",
     "text": [
      "skipped semisupervised-manglish/output-wav/The-Fashion-Weak-Podcast-Ep-29---Valentines-Day-With-Becca-Lee-and-Leonard-Chua-UWm1ESejkzs.mp3-part-296.wav\n"
     ]
    },
    {
     "name": "stderr",
     "output_type": "stream",
     "text": [
      " 80%|████████  | 104682/130662 [40:09<06:25, 67.47it/s]"
     ]
    },
    {
     "name": "stdout",
     "output_type": "stream",
     "text": [
      "skipped semisupervised-manglish/output-wav/Mamak-Sessions-Ep1---Girls-Are-Happier-With-Less-Attractive-Men,-And-The-Dramatic-Pizza-Order-2M8U_mxGbcw.mp3-part-213.wav\n",
      "skipped semisupervised-manglish/output-wav/The-Fashion-Weak-Podcast-Ep-40---tdcjTfzYSbk.mp3-part-38.wav\n",
      "skipped semisupervised-manglish/output-wav/Mamak-Sessions---Getting-Married-in-Vegas,-and-Sugar-Babies-ft.-Dennis-Yin-Cq6Yjwsu63U.mp3-part-101.wav\n"
     ]
    },
    {
     "name": "stderr",
     "output_type": "stream",
     "text": [
      " 80%|████████  | 104712/130662 [40:10<08:03, 53.68it/s]"
     ]
    },
    {
     "name": "stdout",
     "output_type": "stream",
     "text": [
      "skipped semisupervised-manglish/output-wav/Mamak-Sessions-Podcast---Is-it-ok-to-move-in-with-your-Partner-before-MARRIAGE-nGnyZ5c00Mo.mp3-part-47.wav\n"
     ]
    },
    {
     "name": "stderr",
     "output_type": "stream",
     "text": [
      " 80%|████████  | 104834/130662 [40:12<06:38, 64.76it/s]"
     ]
    },
    {
     "name": "stdout",
     "output_type": "stream",
     "text": [
      "skipped semisupervised-manglish/output-wav/Being-A-Single-Divorced-Woman-At-32-_-The-Thirsty-Sisters-#11-8DMyfcjyrZQ.mp3-part-269.wav\n",
      "skipped semisupervised-manglish/output-wav/The-Fashion-Weak-Podcast-EP-41---Investment-Tips-For-Chee-Seng-With-Fuad-&-Shaq-From-Kyoto-Protocol-eWNQhDNoSsY.mp3-part-913.wav\n"
     ]
    },
    {
     "name": "stderr",
     "output_type": "stream",
     "text": [
      " 80%|████████  | 104856/130662 [40:12<06:23, 67.26it/s]"
     ]
    },
    {
     "name": "stdout",
     "output_type": "stream",
     "text": [
      "skipped semisupervised-manglish/output-wav/The-Fashion-Weak-Podcast-Ep-23---Alicia-Amin-On-Being-A-'Malay'-Model-In-2019-3pKA5NvTCOA.mp3-part-782.wav\n"
     ]
    },
    {
     "name": "stderr",
     "output_type": "stream",
     "text": [
      " 80%|████████  | 104962/130662 [40:14<06:36, 64.85it/s]"
     ]
    },
    {
     "name": "stdout",
     "output_type": "stream",
     "text": [
      "skipped semisupervised-manglish/output-wav/How-to-Find-a-Fulfilling-Career-&-Deal-with-Self-Judgement-_-Singaporean-Podcast-#24-_-Khye-Chan-LXSNbZF9ag4.mp3-part-7.wav\n",
      "skipped semisupervised-manglish/output-wav/The-Fashion-Weak-Podcast-Ep-23---Alicia-Amin-On-Being-A-'Malay'-Model-In-2019-3pKA5NvTCOA.mp3-part-159.wav\n"
     ]
    },
    {
     "name": "stderr",
     "output_type": "stream",
     "text": [
      " 80%|████████  | 104984/130662 [40:14<08:24, 50.90it/s]"
     ]
    },
    {
     "name": "stdout",
     "output_type": "stream",
     "text": [
      "skipped semisupervised-manglish/output-wav/The-Fashion-Weak-Podcast-Ep-40---tdcjTfzYSbk.mp3-part-187.wav\n"
     ]
    },
    {
     "name": "stderr",
     "output_type": "stream",
     "text": [
      " 80%|████████  | 105056/130662 [40:16<06:56, 61.42it/s]"
     ]
    },
    {
     "name": "stdout",
     "output_type": "stream",
     "text": [
      "skipped semisupervised-manglish/output-wav/The-Fashion-Weak-Podcast-EP-27----Peter-Davis-talks-cars,-mixed-rice-and-some-fashion.-rxmMRAzLRJ0.mp3-part-236.wav\n"
     ]
    },
    {
     "name": "stderr",
     "output_type": "stream",
     "text": [
      " 80%|████████  | 105113/130662 [40:17<06:47, 62.64it/s]"
     ]
    },
    {
     "name": "stdout",
     "output_type": "stream",
     "text": [
      "skipped semisupervised-manglish/output-wav/Burning-Hot-Fever!-4-Doctors-Tried-To-Save-Me-In-The-Hospital!-_-The-Thirsty-Sisters-#6-Jw7B8efygWI.mp3-part-77.wav\n"
     ]
    },
    {
     "name": "stderr",
     "output_type": "stream",
     "text": [
      " 80%|████████  | 105136/130662 [40:17<06:27, 65.95it/s]"
     ]
    },
    {
     "name": "stdout",
     "output_type": "stream",
     "text": [
      "skipped semisupervised-manglish/output-wav/The-Fashion-Weak-Podcast-Ep-28-@dreamrocketeers-on-that-Rolex-you-should-cop-to-flex-on-poor-friends-shV1F1JlDzk.mp3-part-645.wav\n"
     ]
    },
    {
     "name": "stderr",
     "output_type": "stream",
     "text": [
      " 80%|████████  | 105151/130662 [40:17<08:37, 49.29it/s]"
     ]
    },
    {
     "name": "stdout",
     "output_type": "stream",
     "text": [
      "skipped semisupervised-manglish/output-wav/Dance-Moves-To-Pick-Up-Girls-At-The-Club-With-Adidas-Creator-Maybelline-Wong-(@definitelyMayb_)-vRnkHzyyBc4.mp3-part-245.wav\n"
     ]
    },
    {
     "name": "stderr",
     "output_type": "stream",
     "text": [
      " 80%|████████  | 105174/130662 [40:18<06:48, 62.44it/s]"
     ]
    },
    {
     "name": "stdout",
     "output_type": "stream",
     "text": [
      "skipped semisupervised-manglish/output-wav/How-To-Get-Away-With-A-Sex-Crime!-_-The-Thirsty-Sisters-#15-mIc0MmSoaiI.mp3-part-73.wav\n",
      "skipped semisupervised-manglish/output-wav/The-Fashion-Weak-Podcast-EP16---Podcast-Wars-With-The-From-The-Thread-Boys-7dPzh9PpLs8.mp3-part-213.wav\n"
     ]
    },
    {
     "name": "stderr",
     "output_type": "stream",
     "text": [
      " 81%|████████  | 105279/130662 [40:20<07:23, 57.24it/s]"
     ]
    },
    {
     "name": "stdout",
     "output_type": "stream",
     "text": [
      "skipped semisupervised-manglish/output-wav/The-Fashion-Weak-Podcast-Ep-28-@dreamrocketeers-on-that-Rolex-you-should-cop-to-flex-on-poor-friends-shV1F1JlDzk.mp3-part-380.wav\n"
     ]
    },
    {
     "name": "stderr",
     "output_type": "stream",
     "text": [
      " 81%|████████  | 105414/130662 [40:22<09:06, 46.16it/s]"
     ]
    },
    {
     "name": "stdout",
     "output_type": "stream",
     "text": [
      "skipped semisupervised-manglish/output-wav/Crazy-Jobs-We-Had-Before-Youtube!-_-The-Thirsty-Sisters-#8-oJPtCCTzs_o.mp3-part-11.wav\n"
     ]
    },
    {
     "name": "stderr",
     "output_type": "stream",
     "text": [
      " 81%|████████  | 105436/130662 [40:23<07:28, 56.21it/s]"
     ]
    },
    {
     "name": "stdout",
     "output_type": "stream",
     "text": [
      "skipped semisupervised-manglish/output-wav/Mamak-Sessions---How-Do-You-Deal-With-Rumors-ft-Elizabeth-Tan-Rkvd5p3I11M.mp3-part-315.wav\n"
     ]
    },
    {
     "name": "stderr",
     "output_type": "stream",
     "text": [
      " 81%|████████  | 105466/130662 [40:23<06:56, 60.56it/s]"
     ]
    },
    {
     "name": "stdout",
     "output_type": "stream",
     "text": [
      "skipped semisupervised-manglish/output-wav/The-Fashion-Weak-Podcast-EP-41---Investment-Tips-For-Chee-Seng-With-Fuad-&-Shaq-From-Kyoto-Protocol-eWNQhDNoSsY.mp3-part-39.wav\n",
      "skipped semisupervised-manglish/output-wav/Is-Cancel-Culture-Problematic-_-IMO-Ep.25-luGvazsVsHc.mp3-part-136.wav\n"
     ]
    },
    {
     "name": "stderr",
     "output_type": "stream",
     "text": [
      " 81%|████████  | 105481/130662 [40:23<06:19, 66.34it/s]"
     ]
    },
    {
     "name": "stdout",
     "output_type": "stream",
     "text": [
      "skipped semisupervised-manglish/output-wav/Mamak-Sessions-Ep6---Names-People-Always-Mispronounce-&-Facebook-Is-A-Spy-8LuihYdx0FQ.mp3-part-195.wav\n"
     ]
    },
    {
     "name": "stderr",
     "output_type": "stream",
     "text": [
      " 81%|████████  | 105501/130662 [40:24<09:44, 43.04it/s]"
     ]
    },
    {
     "name": "stdout",
     "output_type": "stream",
     "text": [
      "skipped semisupervised-manglish/output-wav/Mamak-Sessions---How-Do-You-Deal-With-Rumors-ft-Elizabeth-Tan-Rkvd5p3I11M.mp3-part-465.wav\n"
     ]
    },
    {
     "name": "stderr",
     "output_type": "stream",
     "text": [
      " 81%|████████  | 105559/130662 [40:25<06:36, 63.32it/s]"
     ]
    },
    {
     "name": "stdout",
     "output_type": "stream",
     "text": [
      "skipped semisupervised-manglish/output-wav/Mamak-Sessions---Quitting-The-Medical-Line-To-Make-People-Laugh-ft-Dr.-Jason-Leong-FcD9MpeWqEI.mp3-part-365.wav\n"
     ]
    },
    {
     "name": "stderr",
     "output_type": "stream",
     "text": [
      " 81%|████████  | 105587/130662 [40:25<09:51, 42.41it/s]"
     ]
    },
    {
     "name": "stdout",
     "output_type": "stream",
     "text": [
      "skipped semisupervised-manglish/output-wav/Mamak-Sessions---Getting-Married-in-Vegas,-and-Sugar-Babies-ft.-Dennis-Yin-Cq6Yjwsu63U.mp3-part-31.wav\n"
     ]
    },
    {
     "name": "stderr",
     "output_type": "stream",
     "text": [
      " 81%|████████  | 105607/130662 [40:26<07:49, 53.41it/s]"
     ]
    },
    {
     "name": "stdout",
     "output_type": "stream",
     "text": [
      "skipped semisupervised-manglish/output-wav/The-Fashion-Weak-Podcast-Ep24---Penang-Boys-@tunway-瘦虎-&-@Shawnduabui-肥龍-Talk-Zap-Fan-&-Sneakers-dykz_vuzJh0.mp3-part-494.wav\n"
     ]
    },
    {
     "name": "stderr",
     "output_type": "stream",
     "text": [
      " 81%|████████  | 105659/130662 [40:27<06:48, 61.25it/s]"
     ]
    },
    {
     "name": "stdout",
     "output_type": "stream",
     "text": [
      "skipped semisupervised-manglish/output-wav/Conversations-with-a-Young-Singaporean-CEO--Gao-Fei,-CEO-of-LearnSeeker-_-Singaporean-Podcast-#13--b9YHjghfd2E.mp3-part-140.wav\n"
     ]
    },
    {
     "name": "stderr",
     "output_type": "stream",
     "text": [
      " 81%|████████  | 105779/130662 [40:29<07:40, 54.00it/s]"
     ]
    },
    {
     "name": "stdout",
     "output_type": "stream",
     "text": [
      "skipped semisupervised-manglish/output-wav/The-Fashion-Weak-Podcast-EP-27----Peter-Davis-talks-cars,-mixed-rice-and-some-fashion.-rxmMRAzLRJ0.mp3-part-640.wav\n"
     ]
    },
    {
     "name": "stderr",
     "output_type": "stream",
     "text": [
      " 81%|████████  | 105834/130662 [40:30<06:24, 64.64it/s]"
     ]
    },
    {
     "name": "stdout",
     "output_type": "stream",
     "text": [
      "skipped semisupervised-manglish/output-wav/Skin-Care-Routines,-Death,-Life-Purpose-and-More-_-Singaporean-Trio-Podcast-#2-6yW185RJkGw.mp3-part-10.wav\n",
      "skipped semisupervised-manglish/output-wav/Conversations-with-a-Young-Singaporean-CEO--Gao-Fei,-CEO-of-LearnSeeker-_-Singaporean-Podcast-#13--b9YHjghfd2E.mp3-part-50.wav\n"
     ]
    },
    {
     "name": "stderr",
     "output_type": "stream",
     "text": [
      " 81%|████████  | 106059/130662 [40:34<07:03, 58.05it/s]"
     ]
    },
    {
     "name": "stdout",
     "output_type": "stream",
     "text": [
      "skipped semisupervised-manglish/output-wav/The-Fashion-Weak-Podcast-Ep-18---Putting-The-Deep-In-Deepavali-With-Keren-Bala-lvIbeZ3qgsU.mp3-part-215.wav\n",
      "skipped semisupervised-manglish/output-wav/Dance-Moves-To-Pick-Up-Girls-At-The-Club-With-Adidas-Creator-Maybelline-Wong-(@definitelyMayb_)-vRnkHzyyBc4.mp3-part-247.wav\n"
     ]
    },
    {
     "name": "stderr",
     "output_type": "stream",
     "text": [
      " 81%|████████  | 106089/130662 [40:35<06:29, 63.12it/s]"
     ]
    },
    {
     "name": "stdout",
     "output_type": "stream",
     "text": [
      "skipped semisupervised-manglish/output-wav/The-Fashion-Weak-Podcast-Ep-38---TikTok-Royalty-Roshan-Jeet-aka-Roshannnn1-lPnRg9UsP0M.mp3-part-53.wav\n",
      "skipped semisupervised-manglish/output-wav/The-Fashion-Weak-Podcast-Ep-23---Alicia-Amin-On-Being-A-'Malay'-Model-In-2019-3pKA5NvTCOA.mp3-part-71.wav\n"
     ]
    },
    {
     "name": "stderr",
     "output_type": "stream",
     "text": [
      " 81%|████████  | 106110/130662 [40:35<06:49, 59.96it/s]"
     ]
    },
    {
     "name": "stdout",
     "output_type": "stream",
     "text": [
      "skipped semisupervised-manglish/output-wav/Mamak-Sessions-Ep9---Sibling-Rivalry-ft-Julian-Yee-670FyeJhnps.mp3-part-307.wav\n"
     ]
    },
    {
     "name": "stderr",
     "output_type": "stream",
     "text": [
      " 81%|████████▏ | 106245/130662 [40:37<06:40, 60.96it/s]"
     ]
    },
    {
     "name": "stdout",
     "output_type": "stream",
     "text": [
      "skipped semisupervised-manglish/output-wav/The-Fashion-Weak-Podcast-Ep-23---Alicia-Amin-On-Being-A-'Malay'-Model-In-2019-3pKA5NvTCOA.mp3-part-319.wav\n",
      "skipped semisupervised-manglish/output-wav/Mamak-Sessions---How-I-Got-Quarantined-Because-Of-Covid-19-Feat.-Mark-O'Dea-5zAsyNKfzps.mp3-part-18.wav\n",
      "skipped semisupervised-manglish/output-wav/The-Fashion-Weak-Podcast-EP-41---Investment-Tips-For-Chee-Seng-With-Fuad-&-Shaq-From-Kyoto-Protocol-eWNQhDNoSsY.mp3-part-1016.wav\n"
     ]
    },
    {
     "name": "stderr",
     "output_type": "stream",
     "text": [
      " 81%|████████▏ | 106303/130662 [40:39<09:06, 44.60it/s]"
     ]
    },
    {
     "name": "stdout",
     "output_type": "stream",
     "text": [
      "skipped semisupervised-manglish/output-wav/The-Fashion-Weak-Podcast-Ep-15---Underwear-Sneakers-&-Fruits-With-@OhZooey-HDuY9UdkkaE.mp3-part-131.wav\n"
     ]
    },
    {
     "name": "stderr",
     "output_type": "stream",
     "text": [
      " 81%|████████▏ | 106338/130662 [40:39<06:40, 60.71it/s]"
     ]
    },
    {
     "name": "stdout",
     "output_type": "stream",
     "text": [
      "skipped semisupervised-manglish/output-wav/Mamak-Sessions-Ep6---Names-People-Always-Mispronounce-&-Facebook-Is-A-Spy-8LuihYdx0FQ.mp3-part-370.wav\n"
     ]
    },
    {
     "name": "stderr",
     "output_type": "stream",
     "text": [
      " 81%|████████▏ | 106381/130662 [40:40<06:25, 63.05it/s]"
     ]
    },
    {
     "name": "stdout",
     "output_type": "stream",
     "text": [
      "skipped semisupervised-manglish/output-wav/The-Fashion-Weak-Podcast-Ep-43A---Keeping-Fair-On-The-Fairway-With-Natalia-Ng-CSP1XPZu4YY.mp3-part-414.wav\n"
     ]
    },
    {
     "name": "stderr",
     "output_type": "stream",
     "text": [
      " 81%|████████▏ | 106450/130662 [40:41<06:20, 63.55it/s]"
     ]
    },
    {
     "name": "stdout",
     "output_type": "stream",
     "text": [
      "skipped semisupervised-manglish/output-wav/Dance-Moves-To-Pick-Up-Girls-At-The-Club-With-Adidas-Creator-Maybelline-Wong-(@definitelyMayb_)-vRnkHzyyBc4.mp3-part-197.wav\n",
      "skipped semisupervised-manglish/output-wav/Mamak-Sessions---How-I-Got-Quarantined-Because-Of-Covid-19-Feat.-Mark-O'Dea-5zAsyNKfzps.mp3-part-11.wav\n"
     ]
    },
    {
     "name": "stderr",
     "output_type": "stream",
     "text": [
      " 82%|████████▏ | 106572/130662 [40:44<08:32, 47.04it/s]"
     ]
    },
    {
     "name": "stdout",
     "output_type": "stream",
     "text": [
      "skipped semisupervised-manglish/output-wav/My-Future-In-Laws-Threw-Me-Out!-_-The-Thirsty-Sisters-#18-ViJXVHWTRz8.mp3-part-274.wav\n"
     ]
    },
    {
     "name": "stderr",
     "output_type": "stream",
     "text": [
      " 82%|████████▏ | 106587/130662 [40:44<07:13, 55.52it/s]"
     ]
    },
    {
     "name": "stdout",
     "output_type": "stream",
     "text": [
      "skipped semisupervised-manglish/output-wav/The-Fashion-Weak-Podcast-Ep-32---Getting-Surprised-Reading-Melissa-Campbell's-(@heymelbelle)-IG-DMs-mJuKUwFpDgI.mp3-part-5.wav\n"
     ]
    },
    {
     "name": "stderr",
     "output_type": "stream",
     "text": [
      " 82%|████████▏ | 106623/130662 [40:44<06:36, 60.57it/s]"
     ]
    },
    {
     "name": "stdout",
     "output_type": "stream",
     "text": [
      "skipped semisupervised-manglish/output-wav/Mamak-Sessions-Podcast---Is-it-ok-to-move-in-with-your-Partner-before-MARRIAGE-nGnyZ5c00Mo.mp3-part-48.wav\n"
     ]
    },
    {
     "name": "stderr",
     "output_type": "stream",
     "text": [
      " 82%|████████▏ | 106644/130662 [40:45<06:43, 59.57it/s]"
     ]
    },
    {
     "name": "stdout",
     "output_type": "stream",
     "text": [
      "skipped semisupervised-manglish/output-wav/The-Fashion-Weak-Podcast-EP14---Faking-it-on-the-gram-and-faking-Gasms-with-Sandra-Woo-(@sandrawooo)--XwvfCTnseI.mp3-part-212.wav\n"
     ]
    },
    {
     "name": "stderr",
     "output_type": "stream",
     "text": [
      "\r",
      " 82%|████████▏ | 106652/130662 [40:45<06:16, 63.76it/s]"
     ]
    },
    {
     "name": "stdout",
     "output_type": "stream",
     "text": [
      "skipped semisupervised-manglish/output-wav/The-Fashion-Weak-Podcast-Ep-40---tdcjTfzYSbk.mp3-part-93.wav\n"
     ]
    },
    {
     "name": "stderr",
     "output_type": "stream",
     "text": [
      " 82%|████████▏ | 106695/130662 [40:46<06:31, 61.29it/s]"
     ]
    },
    {
     "name": "stdout",
     "output_type": "stream",
     "text": [
      "skipped semisupervised-manglish/output-wav/Why-We-Love-Our-Malay-Community!-_-The-Thirsty-Sisters-#20-F15a-MH_Hzg.mp3-part-149.wav\n"
     ]
    },
    {
     "name": "stderr",
     "output_type": "stream",
     "text": [
      " 82%|████████▏ | 106762/130662 [40:47<07:35, 52.51it/s]"
     ]
    },
    {
     "name": "stdout",
     "output_type": "stream",
     "text": [
      "skipped semisupervised-manglish/output-wav/8-Wheels-Vs-4-Wheels-With-Sukeats-From-Wheel-Love---The-Fashion-Weak-Podcast-ep-12-fgaCmnMdZ0c.mp3-part-44.wav\n",
      "skipped semisupervised-manglish/output-wav/@Juanitadr-shows-us-what-Arnold's-Tongue-Can-Do---The-Fashion-Weak-Podcast-Episode-10-N5EfPvQKW90.mp3-part-92.wav\n"
     ]
    },
    {
     "name": "stderr",
     "output_type": "stream",
     "text": [
      " 82%|████████▏ | 106786/130662 [40:47<06:19, 62.94it/s]"
     ]
    },
    {
     "name": "stdout",
     "output_type": "stream",
     "text": [
      "skipped semisupervised-manglish/output-wav/Dance-Moves-To-Pick-Up-Girls-At-The-Club-With-Adidas-Creator-Maybelline-Wong-(@definitelyMayb_)-vRnkHzyyBc4.mp3-part-480.wav\n",
      "skipped semisupervised-manglish/output-wav/Click-Bait-And-24k-Shoe-Shopping-With-Harvinth-Skin---The-Fashion-Weak-Podcast-Episode-08-adq-khQo2eQ.mp3-part-104.wav\n",
      "skipped semisupervised-manglish/output-wav/Mamak-Sessions---From-Giving-Up,-To-Getting-A-NETFLIX-Special-Q54z0mutz5Q.mp3-part-505.wav\n"
     ]
    },
    {
     "name": "stderr",
     "output_type": "stream",
     "text": [
      " 82%|████████▏ | 106836/130662 [40:48<06:21, 62.41it/s]"
     ]
    },
    {
     "name": "stdout",
     "output_type": "stream",
     "text": [
      "skipped semisupervised-manglish/output-wav/The-Fashion-Weak-Podcast-Ep-38---TikTok-Royalty-Roshan-Jeet-aka-Roshannnn1-lPnRg9UsP0M.mp3-part-951.wav\n"
     ]
    },
    {
     "name": "stderr",
     "output_type": "stream",
     "text": [
      " 82%|████████▏ | 106851/130662 [40:48<08:24, 47.18it/s]"
     ]
    },
    {
     "name": "stdout",
     "output_type": "stream",
     "text": [
      "skipped semisupervised-manglish/output-wav/The-Fashion-Weak-Podcast-Ep-43A---Keeping-Fair-On-The-Fairway-With-Natalia-Ng-CSP1XPZu4YY.mp3-part-204.wav\n"
     ]
    },
    {
     "name": "stderr",
     "output_type": "stream",
     "text": [
      " 82%|████████▏ | 106941/130662 [40:50<09:07, 43.36it/s]"
     ]
    },
    {
     "name": "stdout",
     "output_type": "stream",
     "text": [
      "skipped semisupervised-manglish/output-wav/Burnout-in-the-Media-Industry-+-Passion-in-Theatre--_-Singaporean-Podcast-#16-_-Rennes-Lee-f7qEqPNzGk8.mp3-part-80.wav\n"
     ]
    },
    {
     "name": "stderr",
     "output_type": "stream",
     "text": [
      " 82%|████████▏ | 107000/130662 [40:51<05:34, 70.78it/s]"
     ]
    },
    {
     "name": "stdout",
     "output_type": "stream",
     "text": [
      "skipped semisupervised-manglish/output-wav/The-Fashion-Weak-Podcast-Ep-32---Getting-Surprised-Reading-Melissa-Campbell's-(@heymelbelle)-IG-DMs-mJuKUwFpDgI.mp3-part-505.wav\n"
     ]
    },
    {
     "name": "stderr",
     "output_type": "stream",
     "text": [
      " 82%|████████▏ | 107060/130662 [40:52<06:39, 59.15it/s]"
     ]
    },
    {
     "name": "stdout",
     "output_type": "stream",
     "text": [
      "skipped semisupervised-manglish/output-wav/The-Fashion-Weak-Podcast-Ep-43---Thirst-Trapping-Simps-&-Loving-Your-Body-From-The-Outside-In-6R87P6YD2c4.mp3-part-111.wav\n",
      "skipped semisupervised-manglish/output-wav/I-Dated-A-Guy-Twice-My-Age-Our-First-Date-Don'ts-_-The-Thirsty-Sisters-#19-3-DoQSmz5aI.mp3-part-377.wav\n",
      "skipped semisupervised-manglish/output-wav/Mamak-Sessions---Nasi-Lemak-Sneakers-zLEmAKdG9vY.mp3-part-106.wav\n"
     ]
    },
    {
     "name": "stderr",
     "output_type": "stream",
     "text": [
      " 82%|████████▏ | 107104/130662 [40:53<06:09, 63.75it/s]"
     ]
    },
    {
     "name": "stdout",
     "output_type": "stream",
     "text": [
      "skipped semisupervised-manglish/output-wav/The-Fashion-Weak-Podcast-EP-41---Investment-Tips-For-Chee-Seng-With-Fuad-&-Shaq-From-Kyoto-Protocol-eWNQhDNoSsY.mp3-part-739.wav\n"
     ]
    },
    {
     "name": "stderr",
     "output_type": "stream",
     "text": [
      " 82%|████████▏ | 107164/130662 [40:54<06:37, 59.13it/s]"
     ]
    },
    {
     "name": "stdout",
     "output_type": "stream",
     "text": [
      "skipped semisupervised-manglish/output-wav/The-Fashion-Weak-Podcast-EP16---Podcast-Wars-With-The-From-The-Thread-Boys-7dPzh9PpLs8.mp3-part-651.wav\n"
     ]
    },
    {
     "name": "stderr",
     "output_type": "stream",
     "text": [
      " 82%|████████▏ | 107186/130662 [40:54<06:42, 58.40it/s]"
     ]
    },
    {
     "name": "stdout",
     "output_type": "stream",
     "text": [
      "skipped semisupervised-manglish/output-wav/Amander-Reveals-Why-She-Left-Titan---The-Team-Titan-Show-7byI9tIJeRk.mp3-part-369.wav\n"
     ]
    },
    {
     "name": "stderr",
     "output_type": "stream",
     "text": [
      " 82%|████████▏ | 107221/130662 [40:55<07:56, 49.24it/s]"
     ]
    },
    {
     "name": "stdout",
     "output_type": "stream",
     "text": [
      "skipped semisupervised-manglish/output-wav/The-Fashion-Weak-Podcast-Ep-23---Alicia-Amin-On-Being-A-'Malay'-Model-In-2019-3pKA5NvTCOA.mp3-part-153.wav\n",
      "skipped semisupervised-manglish/output-wav/Talking-Sneakers-&-Strong-Sperm-With-@bryanbotakchin---The-Fashion-Weak-Podcast-Episode-11-iugevNPFp2Y.mp3-part-223.wav\n"
     ]
    },
    {
     "name": "stderr",
     "output_type": "stream",
     "text": [
      " 82%|████████▏ | 107250/130662 [40:56<06:23, 60.97it/s]"
     ]
    },
    {
     "name": "stdout",
     "output_type": "stream",
     "text": [
      "skipped semisupervised-manglish/output-wav/Mamak-Sessions---How-I-Got-Quarantined-Because-Of-Covid-19-Feat.-Mark-O'Dea-5zAsyNKfzps.mp3-part-282.wav\n"
     ]
    },
    {
     "name": "stderr",
     "output_type": "stream",
     "text": [
      " 82%|████████▏ | 107518/130662 [41:00<06:13, 61.91it/s]"
     ]
    },
    {
     "name": "stdout",
     "output_type": "stream",
     "text": [
      "skipped semisupervised-manglish/output-wav/The-Fashion-Weak-Podcast-EP-25---Don't-Mess-With-@zamaeraaa's-Hello-Kitty-Cup-H4M_ZUDAT3k.mp3-part-191.wav\n"
     ]
    },
    {
     "name": "stderr",
     "output_type": "stream",
     "text": [
      " 82%|████████▏ | 107554/130662 [41:01<05:48, 66.31it/s]"
     ]
    },
    {
     "name": "stdout",
     "output_type": "stream",
     "text": [
      "skipped semisupervised-manglish/output-wav/Mamak-Sessions---Nasi-Lemak-Sneakers-zLEmAKdG9vY.mp3-part-374.wav\n"
     ]
    },
    {
     "name": "stderr",
     "output_type": "stream",
     "text": [
      " 82%|████████▏ | 107610/130662 [41:02<06:14, 61.60it/s]"
     ]
    },
    {
     "name": "stdout",
     "output_type": "stream",
     "text": [
      "skipped semisupervised-manglish/output-wav/Relatives-Ruin-My-Wedding!-_-The-Thirsty-Sisters-#22-98CiTQQtqak.mp3-part-16.wav\n"
     ]
    },
    {
     "name": "stderr",
     "output_type": "stream",
     "text": [
      " 82%|████████▏ | 107645/130662 [41:03<05:58, 64.26it/s]"
     ]
    },
    {
     "name": "stdout",
     "output_type": "stream",
     "text": [
      "skipped semisupervised-manglish/output-wav/Dance-Moves-To-Pick-Up-Girls-At-The-Club-With-Adidas-Creator-Maybelline-Wong-(@definitelyMayb_)-vRnkHzyyBc4.mp3-part-868.wav\n",
      "skipped semisupervised-manglish/output-wav/MILF-hunting-with-Audrey-Ooi-aka-@fourfeetnine---The-Fashion-Weak-Podcast-Episode-1-eXpirKKPBUA.mp3-part-139.wav\n",
      "skipped semisupervised-manglish/output-wav/Mamak-Sessions---The-Best-Method-To-Start-Saving,-To-Meet-your-Goals-XldSJLh8kMk.mp3-part-77.wav\n"
     ]
    },
    {
     "name": "stderr",
     "output_type": "stream",
     "text": [
      " 82%|████████▏ | 107702/130662 [41:04<06:23, 59.90it/s]"
     ]
    },
    {
     "name": "stdout",
     "output_type": "stream",
     "text": [
      "skipped semisupervised-manglish/output-wav/The-Fashion-Weak-Podcast-Ep-46---Premium-Thirst-Trap-Tips-With-Michelle-Lee-(@mich8lee)-MCHDyLJDJrg.mp3-part-0.wav\n"
     ]
    },
    {
     "name": "stderr",
     "output_type": "stream",
     "text": [
      " 82%|████████▏ | 107759/130662 [41:05<07:58, 47.86it/s]"
     ]
    },
    {
     "name": "stdout",
     "output_type": "stream",
     "text": [
      "skipped semisupervised-manglish/output-wav/Why-Singaporean-Female-Entrepreneurship-Matters-_-Huda-Hamid-_-Singaporean-Podcast-#44-myPdnyUGvUk.mp3-part-464.wav\n"
     ]
    },
    {
     "name": "stderr",
     "output_type": "stream",
     "text": [
      " 83%|████████▎ | 107816/130662 [41:06<05:48, 65.57it/s]"
     ]
    },
    {
     "name": "stdout",
     "output_type": "stream",
     "text": [
      "skipped semisupervised-manglish/output-wav/The-Fashion-Weak-Podcast-Ep-43---Thirst-Trapping-Simps-&-Loving-Your-Body-From-The-Outside-In-6R87P6YD2c4.mp3-part-197.wav\n"
     ]
    },
    {
     "name": "stderr",
     "output_type": "stream",
     "text": [
      " 83%|████████▎ | 107915/130662 [41:08<06:12, 61.01it/s]"
     ]
    },
    {
     "name": "stdout",
     "output_type": "stream",
     "text": [
      "skipped semisupervised-manglish/output-wav/Conversations-with-a-Young-Singaporean-CEO--Gao-Fei,-CEO-of-LearnSeeker-_-Singaporean-Podcast-#13--b9YHjghfd2E.mp3-part-61.wav\n"
     ]
    },
    {
     "name": "stderr",
     "output_type": "stream",
     "text": [
      " 83%|████████▎ | 107951/130662 [41:08<06:32, 57.90it/s]"
     ]
    },
    {
     "name": "stdout",
     "output_type": "stream",
     "text": [
      "skipped semisupervised-manglish/output-wav/The-Fashion-Weak-Podcast-Ep-29---Valentines-Day-With-Becca-Lee-and-Leonard-Chua-UWm1ESejkzs.mp3-part-303.wav\n"
     ]
    },
    {
     "name": "stderr",
     "output_type": "stream",
     "text": [
      " 83%|████████▎ | 108022/130662 [41:10<08:00, 47.07it/s]"
     ]
    },
    {
     "name": "stdout",
     "output_type": "stream",
     "text": [
      "skipped semisupervised-manglish/output-wav/Mamak-Sessions-Ep1---Girls-Are-Happier-With-Less-Attractive-Men,-And-The-Dramatic-Pizza-Order-2M8U_mxGbcw.mp3-part-98.wav\n"
     ]
    },
    {
     "name": "stderr",
     "output_type": "stream",
     "text": [
      " 83%|████████▎ | 108157/130662 [41:12<06:15, 59.86it/s]"
     ]
    },
    {
     "name": "stdout",
     "output_type": "stream",
     "text": [
      "skipped semisupervised-manglish/output-wav/Make-Insurance-Sexy-Again-+-Best-Advice-to-Financial-Advisors-_-Singaporean-Podcast-#19-_-Leslie-Koh-vKpmE4ZFnGE.mp3-part-85.wav\n"
     ]
    },
    {
     "name": "stderr",
     "output_type": "stream",
     "text": [
      " 83%|████████▎ | 108207/130662 [41:13<06:45, 55.40it/s]"
     ]
    },
    {
     "name": "stdout",
     "output_type": "stream",
     "text": [
      "skipped semisupervised-manglish/output-wav/Thinking-Long-And-Hard-With-@prakashdanielcomedy---The-Fashion-Weak-Podcast-Episode-13-UryaihXnjBk.mp3-part-53.wav\n"
     ]
    },
    {
     "name": "stderr",
     "output_type": "stream",
     "text": [
      " 83%|████████▎ | 108236/130662 [41:14<05:57, 62.73it/s]"
     ]
    },
    {
     "name": "stdout",
     "output_type": "stream",
     "text": [
      "skipped semisupervised-manglish/output-wav/The-Fashion-Weak-Podcast-Ep24---Penang-Boys-@tunway-瘦虎-&-@Shawnduabui-肥龍-Talk-Zap-Fan-&-Sneakers-dykz_vuzJh0.mp3-part-488.wav\n"
     ]
    },
    {
     "name": "stderr",
     "output_type": "stream",
     "text": [
      " 83%|████████▎ | 108266/130662 [41:14<05:53, 63.37it/s]"
     ]
    },
    {
     "name": "stdout",
     "output_type": "stream",
     "text": [
      "skipped semisupervised-manglish/output-wav/Mamak-Sessions---How-I-Got-Quarantined-Because-Of-Covid-19-Feat.-Mark-O'Dea-5zAsyNKfzps.mp3-part-359.wav\n"
     ]
    },
    {
     "name": "stderr",
     "output_type": "stream",
     "text": [
      " 83%|████████▎ | 108310/130662 [41:15<06:18, 59.12it/s]"
     ]
    },
    {
     "name": "stdout",
     "output_type": "stream",
     "text": [
      "skipped semisupervised-manglish/output-wav/The-Fashion-Weak-Podcast-Ep-33---Lingerie-&-Bikini-Talk-With-Talitha-Tan-(@talithabe)-_7Un0q6a9zg.mp3-part-235.wav\n"
     ]
    },
    {
     "name": "stderr",
     "output_type": "stream",
     "text": [
      " 83%|████████▎ | 108361/130662 [41:16<05:58, 62.27it/s]"
     ]
    },
    {
     "name": "stdout",
     "output_type": "stream",
     "text": [
      "skipped semisupervised-manglish/output-wav/Mamak-Sessions---We-May-Not-Always-End-Up-Doing-What-We-Thought-We-Would..And-That's-Not-A-Bad-Thing-IAeN0jG9Hwc.mp3-part-275.wav\n"
     ]
    },
    {
     "name": "stderr",
     "output_type": "stream",
     "text": [
      " 83%|████████▎ | 108454/130662 [41:17<06:06, 60.53it/s]"
     ]
    },
    {
     "name": "stdout",
     "output_type": "stream",
     "text": [
      "skipped semisupervised-manglish/output-wav/Dance-Moves-To-Pick-Up-Girls-At-The-Club-With-Adidas-Creator-Maybelline-Wong-(@definitelyMayb_)-vRnkHzyyBc4.mp3-part-54.wav\n"
     ]
    },
    {
     "name": "stderr",
     "output_type": "stream",
     "text": [
      " 83%|████████▎ | 108468/130662 [41:18<07:54, 46.75it/s]"
     ]
    },
    {
     "name": "stdout",
     "output_type": "stream",
     "text": [
      "skipped semisupervised-manglish/output-wav/The-Fashion-Weak-Podcast-Ep-38---TikTok-Royalty-Roshan-Jeet-aka-Roshannnn1-lPnRg9UsP0M.mp3-part-38.wav\n",
      "skipped semisupervised-manglish/output-wav/@Juanitadr-shows-us-what-Arnold's-Tongue-Can-Do---The-Fashion-Weak-Podcast-Episode-10-N5EfPvQKW90.mp3-part-144.wav\n"
     ]
    },
    {
     "name": "stderr",
     "output_type": "stream",
     "text": [
      " 83%|████████▎ | 108492/130662 [41:18<05:53, 62.75it/s]"
     ]
    },
    {
     "name": "stdout",
     "output_type": "stream",
     "text": [
      "skipped semisupervised-manglish/output-wav/Thinking-Long-And-Hard-With-@prakashdanielcomedy---The-Fashion-Weak-Podcast-Episode-13-UryaihXnjBk.mp3-part-155.wav\n",
      "skipped semisupervised-manglish/output-wav/The-Fashion-Weak-Podcast-Ep-21---Suitmaker-To-The-Stars,-Shahrin-Bahar-aka-@sbahar.my-Pkv6d83oe8s.mp3-part-448.wav\n"
     ]
    },
    {
     "name": "stderr",
     "output_type": "stream",
     "text": [
      " 83%|████████▎ | 108508/130662 [41:18<05:49, 63.31it/s]"
     ]
    },
    {
     "name": "stdout",
     "output_type": "stream",
     "text": [
      "skipped semisupervised-manglish/output-wav/Playing-Basketball-With-Dr-Jason-Leong---The-Fashion-Weak-Podcast-Episode-4---6K1feeFnKpQ.mp3-part-1.wav\n"
     ]
    },
    {
     "name": "stderr",
     "output_type": "stream",
     "text": [
      " 83%|████████▎ | 108545/130662 [41:19<05:34, 66.07it/s]"
     ]
    },
    {
     "name": "stdout",
     "output_type": "stream",
     "text": [
      "skipped semisupervised-manglish/output-wav/Best-Way-to-Get-Women-to-Fall-For-You-Every-Month!-_-The-Thirsty-Sisters-#16-gvPiF-zXur4.mp3-part-55.wav\n",
      "skipped semisupervised-manglish/output-wav/The-Fashion-Weak-Podcast-Ep-33---Lingerie-&-Bikini-Talk-With-Talitha-Tan-(@talithabe)-_7Un0q6a9zg.mp3-part-616.wav\n"
     ]
    },
    {
     "name": "stderr",
     "output_type": "stream",
     "text": [
      " 83%|████████▎ | 108589/130662 [41:20<06:13, 59.05it/s]"
     ]
    },
    {
     "name": "stdout",
     "output_type": "stream",
     "text": [
      "skipped semisupervised-manglish/output-wav/Mamak-Sessions-Ep6---Names-People-Always-Mispronounce-&-Facebook-Is-A-Spy-8LuihYdx0FQ.mp3-part-410.wav\n"
     ]
    },
    {
     "name": "stderr",
     "output_type": "stream",
     "text": [
      " 83%|████████▎ | 108638/130662 [41:21<05:50, 62.86it/s]"
     ]
    },
    {
     "name": "stdout",
     "output_type": "stream",
     "text": [
      "skipped semisupervised-manglish/output-wav/The-Fashion-Weak-Podcast-Ep-40---tdcjTfzYSbk.mp3-part-1087.wav\n"
     ]
    },
    {
     "name": "stderr",
     "output_type": "stream",
     "text": [
      " 83%|████████▎ | 108765/130662 [41:23<06:11, 59.02it/s]"
     ]
    },
    {
     "name": "stdout",
     "output_type": "stream",
     "text": [
      "skipped semisupervised-manglish/output-wav/Mamak-Sessions-Ep13---Game-Of-Thrones-Is-OVER!-Malaysian-Accent-is-sexy!--mAdHcMGmEs.mp3-part-24.wav\n"
     ]
    },
    {
     "name": "stderr",
     "output_type": "stream",
     "text": [
      " 83%|████████▎ | 108902/130662 [41:25<05:30, 65.84it/s]"
     ]
    },
    {
     "name": "stdout",
     "output_type": "stream",
     "text": [
      "skipped semisupervised-manglish/output-wav/Bend-Over!-Or-Pay-Sit-Forward!-We-Create-Our-Own-Movements!-_-The-Thirsty-Sisters-#3-ekKcn3QCU5E.mp3-part-363.wav\n"
     ]
    },
    {
     "name": "stderr",
     "output_type": "stream",
     "text": [
      " 83%|████████▎ | 108944/130662 [41:26<06:11, 58.51it/s]"
     ]
    },
    {
     "name": "stdout",
     "output_type": "stream",
     "text": [
      "skipped semisupervised-manglish/output-wav/Bend-Over!-Or-Pay-Sit-Forward!-We-Create-Our-Own-Movements!-_-The-Thirsty-Sisters-#3-ekKcn3QCU5E.mp3-part-47.wav\n"
     ]
    },
    {
     "name": "stderr",
     "output_type": "stream",
     "text": [
      " 83%|████████▎ | 108974/130662 [41:27<05:33, 65.07it/s]"
     ]
    },
    {
     "name": "stdout",
     "output_type": "stream",
     "text": [
      "skipped semisupervised-manglish/output-wav/The-Fashion-Weak-Podcast-Ep-40---tdcjTfzYSbk.mp3-part-1098.wav\n"
     ]
    },
    {
     "name": "stderr",
     "output_type": "stream",
     "text": [
      " 83%|████████▎ | 109008/130662 [41:28<08:53, 40.62it/s]"
     ]
    },
    {
     "name": "stdout",
     "output_type": "stream",
     "text": [
      "skipped semisupervised-manglish/output-wav/Mamak-Sessions-Ep6---Names-People-Always-Mispronounce-&-Facebook-Is-A-Spy-8LuihYdx0FQ.mp3-part-3.wav\n"
     ]
    },
    {
     "name": "stderr",
     "output_type": "stream",
     "text": [
      " 84%|████████▎ | 109174/130662 [41:31<05:42, 62.73it/s]"
     ]
    },
    {
     "name": "stdout",
     "output_type": "stream",
     "text": [
      "skipped semisupervised-manglish/output-wav/Mamak-Sessions-Ep8---Man-Sues-Colleague-for-$1.8-Million-for-Farting-OWbPqC2i71c.mp3-part-37.wav\n"
     ]
    },
    {
     "name": "stderr",
     "output_type": "stream",
     "text": [
      " 84%|████████▎ | 109262/130662 [41:32<05:42, 62.46it/s]"
     ]
    },
    {
     "name": "stdout",
     "output_type": "stream",
     "text": [
      "skipped semisupervised-manglish/output-wav/The-Fashion-Weak-Podcast-Ep-45---Finessing-A-New-Phone-Every-Year-With-Mamak-Rap-King-Jiven-Sekar-VlovwtVYuw0.mp3-part-141.wav\n"
     ]
    },
    {
     "name": "stderr",
     "output_type": "stream",
     "text": [
      " 84%|████████▎ | 109277/130662 [41:32<05:25, 65.65it/s]"
     ]
    },
    {
     "name": "stdout",
     "output_type": "stream",
     "text": [
      "skipped semisupervised-manglish/output-wav/The-Fashion-Weak-Podcast-Ep-32---Getting-Surprised-Reading-Melissa-Campbell's-(@heymelbelle)-IG-DMs-mJuKUwFpDgI.mp3-part-207.wav\n"
     ]
    },
    {
     "name": "stderr",
     "output_type": "stream",
     "text": [
      " 84%|████████▎ | 109322/130662 [41:33<08:28, 41.99it/s]"
     ]
    },
    {
     "name": "stdout",
     "output_type": "stream",
     "text": [
      "skipped semisupervised-manglish/output-wav/The-Fashion-Weak-Podcast-Ep-40---tdcjTfzYSbk.mp3-part-779.wav\n"
     ]
    },
    {
     "name": "stderr",
     "output_type": "stream",
     "text": [
      " 84%|████████▎ | 109359/130662 [41:34<05:52, 60.40it/s]"
     ]
    },
    {
     "name": "stdout",
     "output_type": "stream",
     "text": [
      "skipped semisupervised-manglish/output-wav/The-Fashion-Weak-Podcast-Ep-32---Getting-Surprised-Reading-Melissa-Campbell's-(@heymelbelle)-IG-DMs-mJuKUwFpDgI.mp3-part-53.wav\n"
     ]
    },
    {
     "name": "stderr",
     "output_type": "stream",
     "text": [
      " 84%|████████▍ | 109438/130662 [41:35<06:00, 58.91it/s]"
     ]
    },
    {
     "name": "stdout",
     "output_type": "stream",
     "text": [
      "skipped semisupervised-manglish/output-wav/Mamak-Sessions---Blaming-Yourself-For-Your-Parents'-Divorce,-And-How-Our-Parents-Punish-Us-x8Gl_zIC9CQ.mp3-part-381.wav\n",
      "skipped semisupervised-manglish/output-wav/The-Fashion-Weak-Podcast-Ep-18---Putting-The-Deep-In-Deepavali-With-Keren-Bala-lvIbeZ3qgsU.mp3-part-272.wav\n"
     ]
    },
    {
     "name": "stderr",
     "output_type": "stream",
     "text": [
      " 84%|████████▍ | 109498/130662 [41:37<07:42, 45.80it/s]"
     ]
    },
    {
     "name": "stdout",
     "output_type": "stream",
     "text": [
      "skipped semisupervised-manglish/output-wav/Nicole-Choo-on-What-Went-Wrong-with-Ridhwan---Team-Titan-Show-#4-gW9sv26g4Io.mp3-part-274.wav\n"
     ]
    },
    {
     "name": "stderr",
     "output_type": "stream",
     "text": [
      " 84%|████████▍ | 109512/130662 [41:37<06:34, 53.57it/s]"
     ]
    },
    {
     "name": "stdout",
     "output_type": "stream",
     "text": [
      "skipped semisupervised-manglish/output-wav/The-Fashion-Weak-Podcast-EP16---Podcast-Wars-With-The-From-The-Thread-Boys-7dPzh9PpLs8.mp3-part-641.wav\n"
     ]
    },
    {
     "name": "stderr",
     "output_type": "stream",
     "text": [
      " 84%|████████▍ | 109657/130662 [41:39<05:30, 63.48it/s]"
     ]
    },
    {
     "name": "stdout",
     "output_type": "stream",
     "text": [
      "skipped semisupervised-manglish/output-wav/Xia-Xue's-Honest-Thoughts-on-Influencers---The-Team-Titan-Show-ZDloTzTfenM.mp3-part-6.wav\n"
     ]
    },
    {
     "name": "stderr",
     "output_type": "stream",
     "text": [
      " 84%|████████▍ | 109692/130662 [41:40<06:38, 52.67it/s]"
     ]
    },
    {
     "name": "stdout",
     "output_type": "stream",
     "text": [
      "skipped semisupervised-manglish/output-wav/Mamak-Sessions-Ep9---Sibling-Rivalry-ft-Julian-Yee-670FyeJhnps.mp3-part-234.wav\n"
     ]
    },
    {
     "name": "stderr",
     "output_type": "stream",
     "text": [
      " 84%|████████▍ | 109758/130662 [41:41<06:03, 57.47it/s]"
     ]
    },
    {
     "name": "stdout",
     "output_type": "stream",
     "text": [
      "skipped semisupervised-manglish/output-wav/Mamak-Sessions-Ep13---Game-Of-Thrones-Is-OVER!-Malaysian-Accent-is-sexy!--mAdHcMGmEs.mp3-part-127.wav\n"
     ]
    },
    {
     "name": "stderr",
     "output_type": "stream",
     "text": [
      " 84%|████████▍ | 109770/130662 [41:41<08:19, 41.80it/s]"
     ]
    },
    {
     "name": "stdout",
     "output_type": "stream",
     "text": [
      "skipped semisupervised-manglish/output-wav/The-Fashion-Weak-Podcast-Ep24---Penang-Boys-@tunway-瘦虎-&-@Shawnduabui-肥龍-Talk-Zap-Fan-&-Sneakers-dykz_vuzJh0.mp3-part-385.wav\n"
     ]
    },
    {
     "name": "stderr",
     "output_type": "stream",
     "text": [
      " 84%|████████▍ | 109847/130662 [41:43<05:29, 63.12it/s]"
     ]
    },
    {
     "name": "stdout",
     "output_type": "stream",
     "text": [
      "skipped semisupervised-manglish/output-wav/Are-We-Still-Sexualising-Women-in-2020-_-Thirsty-Sisters-#13-zHC1MPeSP34.mp3-part-63.wav\n"
     ]
    },
    {
     "name": "stderr",
     "output_type": "stream",
     "text": [
      " 84%|████████▍ | 109919/130662 [41:44<05:10, 66.81it/s]"
     ]
    },
    {
     "name": "stdout",
     "output_type": "stream",
     "text": [
      "skipped semisupervised-manglish/output-wav/Why-Enneagram-Will-Change-Your-Perspective-On-ALL-Relationships-Forever-_-Cindy-Leong-_-SG-Podcast-cSxV6oacgaE.mp3-part-582.wav\n"
     ]
    },
    {
     "name": "stderr",
     "output_type": "stream",
     "text": [
      " 84%|████████▍ | 109933/130662 [41:44<05:08, 67.12it/s]"
     ]
    },
    {
     "name": "stdout",
     "output_type": "stream",
     "text": [
      "skipped semisupervised-manglish/output-wav/The-Fashion-Weak-Podcast-Ep-30---On-her-way-to-Supermodel-dom,-ASNTM--Cycle-5-Runner-Up-@shikingomez-otK3Gl_XX4c.mp3-part-13.wav\n",
      "skipped semisupervised-manglish/output-wav/The-Fashion-Weak-Podcast-Ep-33---Lingerie-&-Bikini-Talk-With-Talitha-Tan-(@talithabe)-_7Un0q6a9zg.mp3-part-168.wav\n"
     ]
    },
    {
     "name": "stderr",
     "output_type": "stream",
     "text": [
      " 84%|████████▍ | 110251/130662 [41:50<05:33, 61.12it/s]"
     ]
    },
    {
     "name": "stdout",
     "output_type": "stream",
     "text": [
      "skipped semisupervised-manglish/output-wav/Overcoming-Depression-&-Redefining-What-Failure-Means-to-Youths_-Singaporean-Podcast-#10-_-Kevin-Wee-rjjK4aAbKnw.mp3-part-585.wav\n"
     ]
    },
    {
     "name": "stderr",
     "output_type": "stream",
     "text": [
      " 84%|████████▍ | 110288/130662 [41:51<05:51, 57.95it/s]"
     ]
    },
    {
     "name": "stdout",
     "output_type": "stream",
     "text": [
      "skipped semisupervised-manglish/output-wav/The-Fashion-Weak-Podcast-Ep-40---tdcjTfzYSbk.mp3-part-617.wav\n"
     ]
    },
    {
     "name": "stderr",
     "output_type": "stream",
     "text": [
      " 84%|████████▍ | 110302/130662 [41:51<05:31, 61.44it/s]"
     ]
    },
    {
     "name": "stdout",
     "output_type": "stream",
     "text": [
      "skipped semisupervised-manglish/output-wav/Perspective-from-an-American-hustling-in-SG-_-Singaporean-Podcast-#5-_-Peter-Lam-5t_yyrP2OdI.mp3-part-186.wav\n"
     ]
    },
    {
     "name": "stderr",
     "output_type": "stream",
     "text": [
      " 84%|████████▍ | 110340/130662 [41:51<04:53, 69.17it/s]"
     ]
    },
    {
     "name": "stdout",
     "output_type": "stream",
     "text": [
      "skipped semisupervised-manglish/output-wav/Mamak-Sessions-Ep13---Game-Of-Thrones-Is-OVER!-Malaysian-Accent-is-sexy!--mAdHcMGmEs.mp3-part-141.wav\n"
     ]
    },
    {
     "name": "stderr",
     "output_type": "stream",
     "text": [
      "\r",
      " 84%|████████▍ | 110348/130662 [41:52<04:58, 68.17it/s]"
     ]
    },
    {
     "name": "stdout",
     "output_type": "stream",
     "text": [
      "skipped semisupervised-manglish/output-wav/Mamak-Sessions---We-May-Not-Always-End-Up-Doing-What-We-Thought-We-Would..And-That's-Not-A-Bad-Thing-IAeN0jG9Hwc.mp3-part-164.wav\n"
     ]
    },
    {
     "name": "stderr",
     "output_type": "stream",
     "text": [
      " 84%|████████▍ | 110377/130662 [41:52<06:10, 54.73it/s]"
     ]
    },
    {
     "name": "stdout",
     "output_type": "stream",
     "text": [
      "skipped semisupervised-manglish/output-wav/Being-A-Single-Divorced-Woman-At-32-_-The-Thirsty-Sisters-#11-8DMyfcjyrZQ.mp3-part-194.wav\n"
     ]
    },
    {
     "name": "stderr",
     "output_type": "stream",
     "text": [
      " 85%|████████▍ | 110419/130662 [41:53<05:24, 62.47it/s]"
     ]
    },
    {
     "name": "stdout",
     "output_type": "stream",
     "text": [
      "skipped semisupervised-manglish/output-wav/Relatives-Ruin-My-Wedding!-_-The-Thirsty-Sisters-#22-98CiTQQtqak.mp3-part-76.wav\n"
     ]
    },
    {
     "name": "stderr",
     "output_type": "stream",
     "text": [
      " 85%|████████▍ | 110506/130662 [41:55<05:16, 63.78it/s]"
     ]
    },
    {
     "name": "stdout",
     "output_type": "stream",
     "text": [
      "skipped semisupervised-manglish/output-wav/The-Fashion-Weak-Podcast-Ep-30---On-her-way-to-Supermodel-dom,-ASNTM--Cycle-5-Runner-Up-@shikingomez-otK3Gl_XX4c.mp3-part-678.wav\n"
     ]
    },
    {
     "name": "stderr",
     "output_type": "stream",
     "text": [
      " 85%|████████▍ | 110604/130662 [41:56<05:20, 62.61it/s]"
     ]
    },
    {
     "name": "stdout",
     "output_type": "stream",
     "text": [
      "skipped semisupervised-manglish/output-wav/Mamak-Sessions---Getting-Married-in-Vegas,-and-Sugar-Babies-ft.-Dennis-Yin-Cq6Yjwsu63U.mp3-part-84.wav\n"
     ]
    },
    {
     "name": "stderr",
     "output_type": "stream",
     "text": [
      " 85%|████████▍ | 110730/130662 [41:59<06:10, 53.75it/s]"
     ]
    },
    {
     "name": "stdout",
     "output_type": "stream",
     "text": [
      "skipped semisupervised-manglish/output-wav/Mamak-Sessions-Ep6---Names-People-Always-Mispronounce-&-Facebook-Is-A-Spy-8LuihYdx0FQ.mp3-part-241.wav\n"
     ]
    },
    {
     "name": "stderr",
     "output_type": "stream",
     "text": [
      " 85%|████████▍ | 110775/130662 [41:59<05:11, 63.81it/s]"
     ]
    },
    {
     "name": "stdout",
     "output_type": "stream",
     "text": [
      "skipped semisupervised-manglish/output-wav/Mamak-Sessions---Airing-Dirty-Laundry-Online-and-Social-Justice-Warriors-FFtFXiIgsyk.mp3-part-128.wav\n"
     ]
    },
    {
     "name": "stderr",
     "output_type": "stream",
     "text": [
      " 85%|████████▍ | 110902/130662 [42:02<06:36, 49.88it/s]"
     ]
    },
    {
     "name": "stdout",
     "output_type": "stream",
     "text": [
      "skipped semisupervised-manglish/output-wav/The-Fashion-Weak-Podcast-Ep-28-@dreamrocketeers-on-that-Rolex-you-should-cop-to-flex-on-poor-friends-shV1F1JlDzk.mp3-part-51.wav\n"
     ]
    },
    {
     "name": "stderr",
     "output_type": "stream",
     "text": [
      " 85%|████████▍ | 110924/130662 [42:02<05:22, 61.13it/s]"
     ]
    },
    {
     "name": "stdout",
     "output_type": "stream",
     "text": [
      "skipped semisupervised-manglish/output-wav/Mamak-Sessions---Airing-Dirty-Laundry-Online-and-Social-Justice-Warriors-FFtFXiIgsyk.mp3-part-3.wav\n"
     ]
    },
    {
     "name": "stderr",
     "output_type": "stream",
     "text": [
      " 85%|████████▍ | 111055/130662 [42:05<05:34, 58.60it/s]"
     ]
    },
    {
     "name": "stdout",
     "output_type": "stream",
     "text": [
      "skipped semisupervised-manglish/output-wav/Mamak-Sessions---Can-Guys-And-Girls-Be-Best-Friends-Is-it-ok-to-see-more-than-one-person-at-a-time-IixUPM11VMY.mp3-part-178.wav\n"
     ]
    },
    {
     "name": "stderr",
     "output_type": "stream",
     "text": [
      " 85%|████████▌ | 111079/130662 [42:05<06:15, 52.10it/s]"
     ]
    },
    {
     "name": "stdout",
     "output_type": "stream",
     "text": [
      "skipped semisupervised-manglish/output-wav/We-Are-Finally-Dating-Again!-We-Found-New-Men-_-The-Thirsty-Sisters-#24-fzuKoKTxfEs.mp3-part-385.wav\n"
     ]
    },
    {
     "name": "stderr",
     "output_type": "stream",
     "text": [
      " 85%|████████▌ | 111094/130662 [42:05<05:25, 60.05it/s]"
     ]
    },
    {
     "name": "stdout",
     "output_type": "stream",
     "text": [
      "skipped semisupervised-manglish/output-wav/Do-You-Know-Your-Attachment-Style!-_-The-Thirsty-Sisters-#21-HKnXUGo_H2U.mp3-part-199.wav\n",
      "skipped semisupervised-manglish/output-wav/My-First-Boyfriend-Cheated-On-Me-With-Several-Girls-_-The-Thirsty-Sisters-#9-Y6RYZpbANJI.mp3-part-17.wav\n"
     ]
    },
    {
     "name": "stderr",
     "output_type": "stream",
     "text": [
      " 85%|████████▌ | 111153/130662 [42:06<04:52, 66.69it/s]"
     ]
    },
    {
     "name": "stdout",
     "output_type": "stream",
     "text": [
      "skipped semisupervised-manglish/output-wav/Mamak-Sessions-Ep2---Bringing-A-Girl-Home-For-The-First-Time-Jn2oeTajYCw.mp3-part-457.wav\n"
     ]
    },
    {
     "name": "stderr",
     "output_type": "stream",
     "text": [
      " 85%|████████▌ | 111173/130662 [42:07<06:31, 49.75it/s]"
     ]
    },
    {
     "name": "stdout",
     "output_type": "stream",
     "text": [
      "skipped semisupervised-manglish/output-wav/The-Fashion-Weak-Podcast-Ep-31----Possibly-Our-Most-NSFW-Episode-Yet-With-@vikarworld-xMm23vU8_og.mp3-part-703.wav\n"
     ]
    },
    {
     "name": "stderr",
     "output_type": "stream",
     "text": [
      " 85%|████████▌ | 111210/130662 [42:07<05:13, 61.99it/s]"
     ]
    },
    {
     "name": "stdout",
     "output_type": "stream",
     "text": [
      "skipped semisupervised-manglish/output-wav/How-To-Date-Alpha-Women-_-The-Thirsty-Sisters-#12-6i8PG2cTAUU.mp3-part-318.wav\n"
     ]
    },
    {
     "name": "stderr",
     "output_type": "stream",
     "text": [
      " 85%|████████▌ | 111233/130662 [42:08<04:51, 66.54it/s]"
     ]
    },
    {
     "name": "stdout",
     "output_type": "stream",
     "text": [
      "skipped semisupervised-manglish/output-wav/Mamak-Sessions---Quitting-The-Medical-Line-To-Make-People-Laugh-ft-Dr.-Jason-Leong-FcD9MpeWqEI.mp3-part-123.wav\n",
      "skipped semisupervised-manglish/output-wav/The-Fashion-Weak-Podcast-Ep-40---tdcjTfzYSbk.mp3-part-485.wav\n",
      "skipped semisupervised-manglish/output-wav/The-Fashion-Weak-Podcast-Ep24---Penang-Boys-@tunway-瘦虎-&-@Shawnduabui-肥龍-Talk-Zap-Fan-&-Sneakers-dykz_vuzJh0.mp3-part-267.wav\n"
     ]
    },
    {
     "name": "stderr",
     "output_type": "stream",
     "text": [
      " 85%|████████▌ | 111320/130662 [42:09<04:57, 64.92it/s]"
     ]
    },
    {
     "name": "stdout",
     "output_type": "stream",
     "text": [
      "skipped semisupervised-manglish/output-wav/Mamak-Sessions---Getting-Married-in-Vegas,-and-Sugar-Babies-ft.-Dennis-Yin-Cq6Yjwsu63U.mp3-part-57.wav\n"
     ]
    },
    {
     "name": "stderr",
     "output_type": "stream",
     "text": [
      " 85%|████████▌ | 111378/130662 [42:10<05:25, 59.17it/s]"
     ]
    },
    {
     "name": "stdout",
     "output_type": "stream",
     "text": [
      "skipped semisupervised-manglish/output-wav/The-Fashion-Weak-Podcast-Ep-23---Alicia-Amin-On-Being-A-'Malay'-Model-In-2019-3pKA5NvTCOA.mp3-part-313.wav\n",
      "skipped semisupervised-manglish/output-wav/What-You-Should-Think-About-After-A-Levels-_-IMO-Ep.3-R7nCJrdRWyc.mp3-part-32.wav\n"
     ]
    },
    {
     "name": "stderr",
     "output_type": "stream",
     "text": [
      " 85%|████████▌ | 111393/130662 [42:11<05:08, 62.53it/s]"
     ]
    },
    {
     "name": "stdout",
     "output_type": "stream",
     "text": [
      "skipped semisupervised-manglish/output-wav/Talking-Sneakers-&-Strong-Sperm-With-@bryanbotakchin---The-Fashion-Weak-Podcast-Episode-11-iugevNPFp2Y.mp3-part-396.wav\n"
     ]
    },
    {
     "name": "stderr",
     "output_type": "stream",
     "text": [
      " 85%|████████▌ | 111437/130662 [42:11<04:47, 66.83it/s]"
     ]
    },
    {
     "name": "stdout",
     "output_type": "stream",
     "text": [
      "skipped semisupervised-manglish/output-wav/Mamak-Sessions-Podcast---Is-it-ok-to-move-in-with-your-Partner-before-MARRIAGE-nGnyZ5c00Mo.mp3-part-171.wav\n"
     ]
    },
    {
     "name": "stderr",
     "output_type": "stream",
     "text": [
      " 85%|████████▌ | 111533/130662 [42:13<07:34, 42.07it/s]"
     ]
    },
    {
     "name": "stdout",
     "output_type": "stream",
     "text": [
      "skipped semisupervised-manglish/output-wav/Why-Blockchain-&-Crypo-Matters-_-Singaporean-Podcast-#15-_-Royal-Pek--2d7wzvNOCE.mp3-part-31.wav\n",
      "skipped semisupervised-manglish/output-wav/The-Fashion-Weak-Podcast-EP-41---Investment-Tips-For-Chee-Seng-With-Fuad-&-Shaq-From-Kyoto-Protocol-eWNQhDNoSsY.mp3-part-1054.wav\n"
     ]
    },
    {
     "name": "stderr",
     "output_type": "stream",
     "text": [
      " 85%|████████▌ | 111642/130662 [42:15<05:48, 54.64it/s]"
     ]
    },
    {
     "name": "stdout",
     "output_type": "stream",
     "text": [
      "skipped semisupervised-manglish/output-wav/The-Fashion-Weak-Podcast-Ep35---Is-New-Balance-Cool-Now-Talking-everything-NOT-Nike-with-@adlysyairi-3b0bYe36KNE.mp3-part-320.wav\n"
     ]
    },
    {
     "name": "stderr",
     "output_type": "stream",
     "text": [
      " 85%|████████▌ | 111656/130662 [42:15<05:22, 58.89it/s]"
     ]
    },
    {
     "name": "stdout",
     "output_type": "stream",
     "text": [
      "skipped semisupervised-manglish/output-wav/Mamak-Sessions---Have-You-Been-Rejected,-and-Have-You-Rejected-Someone-sZFykBDVjOI.mp3-part-296.wav\n"
     ]
    },
    {
     "name": "stderr",
     "output_type": "stream",
     "text": [
      " 85%|████████▌ | 111701/130662 [42:16<04:51, 64.97it/s]"
     ]
    },
    {
     "name": "stdout",
     "output_type": "stream",
     "text": [
      "skipped semisupervised-manglish/output-wav/The-Fashion-Weak-Podcast-Ep-33---Lingerie-&-Bikini-Talk-With-Talitha-Tan-(@talithabe)-_7Un0q6a9zg.mp3-part-520.wav\n"
     ]
    },
    {
     "name": "stderr",
     "output_type": "stream",
     "text": [
      " 86%|████████▌ | 111732/130662 [42:17<05:35, 56.35it/s]"
     ]
    },
    {
     "name": "stdout",
     "output_type": "stream",
     "text": [
      "skipped semisupervised-manglish/output-wav/Mamak-Sessions-Podcast---How-Dean-Lewis-became-who-he-is-today-HkOQy1Nxpis.mp3-part-242.wav\n"
     ]
    },
    {
     "name": "stderr",
     "output_type": "stream",
     "text": [
      " 86%|████████▌ | 111748/130662 [42:17<05:12, 60.59it/s]"
     ]
    },
    {
     "name": "stdout",
     "output_type": "stream",
     "text": [
      "skipped semisupervised-manglish/output-wav/The-Fashion-Weak-Podcast-Ep-43A---Keeping-Fair-On-The-Fairway-With-Natalia-Ng-CSP1XPZu4YY.mp3-part-344.wav\n"
     ]
    },
    {
     "name": "stderr",
     "output_type": "stream",
     "text": [
      " 86%|████████▌ | 112182/130662 [42:25<05:47, 53.13it/s]"
     ]
    },
    {
     "name": "stdout",
     "output_type": "stream",
     "text": [
      "skipped semisupervised-manglish/output-wav/The-Fashion-Weak-Podcast-Ep35---Is-New-Balance-Cool-Now-Talking-everything-NOT-Nike-with-@adlysyairi-3b0bYe36KNE.mp3-part-596.wav\n"
     ]
    },
    {
     "name": "stderr",
     "output_type": "stream",
     "text": [
      " 86%|████████▌ | 112198/130662 [42:25<05:01, 61.21it/s]"
     ]
    },
    {
     "name": "stdout",
     "output_type": "stream",
     "text": [
      "skipped semisupervised-manglish/output-wav/Playing-Basketball-With-Dr-Jason-Leong---The-Fashion-Weak-Podcast-Episode-4---6K1feeFnKpQ.mp3-part-217.wav\n"
     ]
    },
    {
     "name": "stderr",
     "output_type": "stream",
     "text": [
      " 86%|████████▌ | 112233/130662 [42:26<04:54, 62.64it/s]"
     ]
    },
    {
     "name": "stdout",
     "output_type": "stream",
     "text": [
      "skipped semisupervised-manglish/output-wav/Mamak-Sessions---Nasi-Lemak-Sneakers-zLEmAKdG9vY.mp3-part-494.wav\n"
     ]
    },
    {
     "name": "stderr",
     "output_type": "stream",
     "text": [
      " 86%|████████▌ | 112277/130662 [42:27<05:28, 56.00it/s]"
     ]
    },
    {
     "name": "stdout",
     "output_type": "stream",
     "text": [
      "skipped semisupervised-manglish/output-wav/Mamak-Sessions---Airing-Dirty-Laundry-Online-and-Social-Justice-Warriors-FFtFXiIgsyk.mp3-part-121.wav\n"
     ]
    },
    {
     "name": "stderr",
     "output_type": "stream",
     "text": [
      " 86%|████████▌ | 112293/130662 [42:27<04:50, 63.27it/s]"
     ]
    },
    {
     "name": "stdout",
     "output_type": "stream",
     "text": [
      "skipped semisupervised-manglish/output-wav/The-Fashion-Weak-Podcast-Ep-43---Thirst-Trapping-Simps-&-Loving-Your-Body-From-The-Outside-In-6R87P6YD2c4.mp3-part-754.wav\n",
      "skipped semisupervised-manglish/output-wav/Thinking-Long-And-Hard-With-@prakashdanielcomedy---The-Fashion-Weak-Podcast-Episode-13-UryaihXnjBk.mp3-part-153.wav\n"
     ]
    },
    {
     "name": "stderr",
     "output_type": "stream",
     "text": [
      " 86%|████████▌ | 112332/130662 [42:27<04:32, 67.15it/s]"
     ]
    },
    {
     "name": "stdout",
     "output_type": "stream",
     "text": [
      "skipped semisupervised-manglish/output-wav/Debbie-on-Marriage,-Quarantine-and-Being-a-Young-Mom---The-Team-Titan-Show-8QhPCqS5aBA.mp3-part-58.wav\n",
      "skipped semisupervised-manglish/output-wav/Talking-Sneakers-&-Strong-Sperm-With-@bryanbotakchin---The-Fashion-Weak-Podcast-Episode-11-iugevNPFp2Y.mp3-part-224.wav\n"
     ]
    },
    {
     "name": "stderr",
     "output_type": "stream",
     "text": [
      " 86%|████████▌ | 112353/130662 [42:28<06:36, 46.12it/s]"
     ]
    },
    {
     "name": "stdout",
     "output_type": "stream",
     "text": [
      "skipped semisupervised-manglish/output-wav/Mamak-Sessions-Podcast---Is-it-ok-to-move-in-with-your-Partner-before-MARRIAGE-nGnyZ5c00Mo.mp3-part-11.wav\n"
     ]
    },
    {
     "name": "stderr",
     "output_type": "stream",
     "text": [
      " 86%|████████▌ | 112374/130662 [42:28<05:16, 57.72it/s]"
     ]
    },
    {
     "name": "stdout",
     "output_type": "stream",
     "text": [
      "skipped semisupervised-manglish/output-wav/The-Fashion-Weak-Podcast-Ep-43---Thirst-Trapping-Simps-&-Loving-Your-Body-From-The-Outside-In-6R87P6YD2c4.mp3-part-329.wav\n",
      "skipped semisupervised-manglish/output-wav/Mamak-Sessions-Ep2---Bringing-A-Girl-Home-For-The-First-Time-Jn2oeTajYCw.mp3-part-55.wav\n"
     ]
    },
    {
     "name": "stderr",
     "output_type": "stream",
     "text": [
      " 86%|████████▌ | 112475/130662 [42:30<05:10, 58.58it/s]"
     ]
    },
    {
     "name": "stdout",
     "output_type": "stream",
     "text": [
      "skipped semisupervised-manglish/output-wav/Mamak-Sessions-Ep10---Datuk-Nicol-David-is-RETIRING!-n3AR3nQEc7Y.mp3-part-457.wav\n"
     ]
    },
    {
     "name": "stderr",
     "output_type": "stream",
     "text": [
      " 86%|████████▌ | 112504/130662 [42:31<04:40, 64.75it/s]"
     ]
    },
    {
     "name": "stdout",
     "output_type": "stream",
     "text": [
      "skipped semisupervised-manglish/output-wav/I-Dated-A-Guy-Twice-My-Age-Our-First-Date-Don'ts-_-The-Thirsty-Sisters-#19-3-DoQSmz5aI.mp3-part-121.wav\n"
     ]
    },
    {
     "name": "stderr",
     "output_type": "stream",
     "text": [
      " 86%|████████▌ | 112547/130662 [42:32<05:45, 52.46it/s]"
     ]
    },
    {
     "name": "stdout",
     "output_type": "stream",
     "text": [
      "skipped semisupervised-manglish/output-wav/Mamak-Sessions-Podcast---A-Dog-Was-Slashed-In-The-Mouth-And-Abused,-But-This-Kind-Soul-Saved-It-FNfbmh93DFo.mp3-part-48.wav\n"
     ]
    },
    {
     "name": "stderr",
     "output_type": "stream",
     "text": [
      " 86%|████████▌ | 112633/130662 [42:33<05:37, 53.36it/s]"
     ]
    },
    {
     "name": "stdout",
     "output_type": "stream",
     "text": [
      "skipped semisupervised-manglish/output-wav/Mamak-Sessions---Can-Guys-And-Girls-Be-Best-Friends-Is-it-ok-to-see-more-than-one-person-at-a-time-IixUPM11VMY.mp3-part-239.wav\n"
     ]
    },
    {
     "name": "stderr",
     "output_type": "stream",
     "text": [
      " 86%|████████▌ | 112692/130662 [42:34<04:23, 68.15it/s]"
     ]
    },
    {
     "name": "stdout",
     "output_type": "stream",
     "text": [
      "skipped semisupervised-manglish/output-wav/Are-We-Still-Sexualising-Women-in-2020-_-Thirsty-Sisters-#13-zHC1MPeSP34.mp3-part-443.wav\n"
     ]
    },
    {
     "name": "stderr",
     "output_type": "stream",
     "text": [
      " 86%|████████▋ | 112722/130662 [42:35<05:59, 49.85it/s]"
     ]
    },
    {
     "name": "stdout",
     "output_type": "stream",
     "text": [
      "skipped semisupervised-manglish/output-wav/The-Fashion-Weak-Podcast-Ep-22---Why-Fashion-School-Didn't-Work-Out-For-Zee-Avi-woDYSE37_rI.mp3-part-186.wav\n"
     ]
    },
    {
     "name": "stderr",
     "output_type": "stream",
     "text": [
      " 86%|████████▋ | 112893/130662 [42:38<06:08, 48.18it/s]"
     ]
    },
    {
     "name": "stdout",
     "output_type": "stream",
     "text": [
      "skipped semisupervised-manglish/output-wav/Mamak-Sessions-Ep6---Names-People-Always-Mispronounce-&-Facebook-Is-A-Spy-8LuihYdx0FQ.mp3-part-243.wav\n"
     ]
    },
    {
     "name": "stderr",
     "output_type": "stream",
     "text": [
      " 87%|████████▋ | 113125/130662 [42:42<04:24, 66.25it/s]"
     ]
    },
    {
     "name": "stdout",
     "output_type": "stream",
     "text": [
      "skipped semisupervised-manglish/output-wav/The-Fashion-Weak-Podcast-EP-41---Investment-Tips-For-Chee-Seng-With-Fuad-&-Shaq-From-Kyoto-Protocol-eWNQhDNoSsY.mp3-part-584.wav\n"
     ]
    },
    {
     "name": "stderr",
     "output_type": "stream",
     "text": [
      " 87%|████████▋ | 113169/130662 [42:43<05:17, 55.10it/s]"
     ]
    },
    {
     "name": "stdout",
     "output_type": "stream",
     "text": [
      "skipped semisupervised-manglish/output-wav/Why-Blockchain-&-Crypo-Matters-_-Singaporean-Podcast-#15-_-Royal-Pek--2d7wzvNOCE.mp3-part-225.wav\n",
      "skipped semisupervised-manglish/output-wav/Become-a-Software-Developer-in-90-days-and-Running-His-Own-Company-_-Singaporean-Podcast-#8-_-Haris-HRd3RMQtkDs.mp3-part-256.wav\n",
      "skipped semisupervised-manglish/output-wav/The-Fashion-Weak-Podcast-EP-27----Peter-Davis-talks-cars,-mixed-rice-and-some-fashion.-rxmMRAzLRJ0.mp3-part-22.wav\n"
     ]
    },
    {
     "name": "stderr",
     "output_type": "stream",
     "text": [
      " 87%|████████▋ | 113275/130662 [42:45<04:52, 59.39it/s]"
     ]
    },
    {
     "name": "stdout",
     "output_type": "stream",
     "text": [
      "skipped semisupervised-manglish/output-wav/Mamak-Sessions---Airing-Dirty-Laundry-Online-and-Social-Justice-Warriors-FFtFXiIgsyk.mp3-part-58.wav\n",
      "skipped semisupervised-manglish/output-wav/The-Fashion-Weak-Podcast-Ep-38---TikTok-Royalty-Roshan-Jeet-aka-Roshannnn1-lPnRg9UsP0M.mp3-part-961.wav\n"
     ]
    },
    {
     "name": "stderr",
     "output_type": "stream",
     "text": [
      " 87%|████████▋ | 113326/130662 [42:46<06:32, 44.17it/s]"
     ]
    },
    {
     "name": "stdout",
     "output_type": "stream",
     "text": [
      "skipped semisupervised-manglish/output-wav/Mamak-Sessions-Ep6---Names-People-Always-Mispronounce-&-Facebook-Is-A-Spy-8LuihYdx0FQ.mp3-part-12.wav\n"
     ]
    },
    {
     "name": "stderr",
     "output_type": "stream",
     "text": [
      " 87%|████████▋ | 113347/130662 [42:46<05:00, 57.64it/s]"
     ]
    },
    {
     "name": "stdout",
     "output_type": "stream",
     "text": [
      "skipped semisupervised-manglish/output-wav/Mamak-Sessions---Quitting-The-Medical-Line-To-Make-People-Laugh-ft-Dr.-Jason-Leong-FcD9MpeWqEI.mp3-part-208.wav\n"
     ]
    },
    {
     "name": "stderr",
     "output_type": "stream",
     "text": [
      " 87%|████████▋ | 113407/130662 [42:47<04:29, 64.01it/s]"
     ]
    },
    {
     "name": "stdout",
     "output_type": "stream",
     "text": [
      "skipped semisupervised-manglish/output-wav/Mamak-Sessions-Ep6---Names-People-Always-Mispronounce-&-Facebook-Is-A-Spy-8LuihYdx0FQ.mp3-part-258.wav\n"
     ]
    },
    {
     "name": "stderr",
     "output_type": "stream",
     "text": [
      " 87%|████████▋ | 113464/130662 [42:48<04:42, 60.82it/s]"
     ]
    },
    {
     "name": "stdout",
     "output_type": "stream",
     "text": [
      "skipped semisupervised-manglish/output-wav/The-Fashion-Weak-Podcast-Ep-19---Butt-Stuff-&-Actual-Fashion-With-Zane-Gan-jhLgzHQnAHU.mp3-part-257.wav\n"
     ]
    },
    {
     "name": "stderr",
     "output_type": "stream",
     "text": [
      " 87%|████████▋ | 113514/130662 [42:49<05:53, 48.46it/s]"
     ]
    },
    {
     "name": "stdout",
     "output_type": "stream",
     "text": [
      "skipped semisupervised-manglish/output-wav/Dance-Moves-To-Pick-Up-Girls-At-The-Club-With-Adidas-Creator-Maybelline-Wong-(@definitelyMayb_)-vRnkHzyyBc4.mp3-part-361.wav\n",
      "skipped semisupervised-manglish/output-wav/The-Fashion-Weak-Podcast-Ep-38---TikTok-Royalty-Roshan-Jeet-aka-Roshannnn1-lPnRg9UsP0M.mp3-part-481.wav\n",
      "skipped semisupervised-manglish/output-wav/The-Fashion-Weak-Podcast-Ep-15---Underwear-Sneakers-&-Fruits-With-@OhZooey-HDuY9UdkkaE.mp3-part-215.wav\n"
     ]
    },
    {
     "name": "stderr",
     "output_type": "stream",
     "text": [
      " 87%|████████▋ | 113541/130662 [42:50<04:43, 60.48it/s]"
     ]
    },
    {
     "name": "stdout",
     "output_type": "stream",
     "text": [
      "skipped semisupervised-manglish/output-wav/How-To-Date-Alpha-Women-_-The-Thirsty-Sisters-#12-6i8PG2cTAUU.mp3-part-192.wav\n"
     ]
    },
    {
     "name": "stderr",
     "output_type": "stream",
     "text": [
      " 87%|████████▋ | 113579/130662 [42:50<04:06, 69.24it/s]"
     ]
    },
    {
     "name": "stdout",
     "output_type": "stream",
     "text": [
      "skipped semisupervised-manglish/output-wav/Click-Bait-And-24k-Shoe-Shopping-With-Harvinth-Skin---The-Fashion-Weak-Podcast-Episode-08-adq-khQo2eQ.mp3-part-34.wav\n",
      "skipped semisupervised-manglish/output-wav/The-Fashion-Weak-Podcast-Ep-33---Lingerie-&-Bikini-Talk-With-Talitha-Tan-(@talithabe)-_7Un0q6a9zg.mp3-part-472.wav\n",
      "skipped semisupervised-manglish/output-wav/Priorities-as-University-Graduates-and-The-MALAYSIA-Hustle-_-Singaporean-Podcast-#12-_-Zhi-Rong-TYL7mmbpsbo.mp3-part-203.wav\n",
      "skipped semisupervised-manglish/output-wav/Mamak-Sessions---Girls-Are-Such-Complicated-Lil-Creatures-feat.-Talitha.-I2BaN8cm6NY.mp3-part-248.wav\n"
     ]
    },
    {
     "name": "stderr",
     "output_type": "stream",
     "text": [
      " 87%|████████▋ | 113607/130662 [42:51<06:19, 44.90it/s]"
     ]
    },
    {
     "name": "stdout",
     "output_type": "stream",
     "text": [
      "skipped semisupervised-manglish/output-wav/Mamak-Sessions---Can-Guys-And-Girls-Be-Best-Friends-Is-it-ok-to-see-more-than-one-person-at-a-time-IixUPM11VMY.mp3-part-232.wav\n",
      "skipped semisupervised-manglish/output-wav/Dance-Moves-To-Pick-Up-Girls-At-The-Club-With-Adidas-Creator-Maybelline-Wong-(@definitelyMayb_)-vRnkHzyyBc4.mp3-part-700.wav\n"
     ]
    },
    {
     "name": "stderr",
     "output_type": "stream",
     "text": [
      " 87%|████████▋ | 113667/130662 [42:52<04:06, 68.87it/s]"
     ]
    },
    {
     "name": "stdout",
     "output_type": "stream",
     "text": [
      "skipped semisupervised-manglish/output-wav/Mamak-Sessions---From-A-Transport-Assistant-to-a-Multi-Award-Winning-Film-Director-r6f3OoHVkgU.mp3-part-24.wav\n"
     ]
    },
    {
     "name": "stderr",
     "output_type": "stream",
     "text": [
      " 87%|████████▋ | 113683/130662 [42:52<04:04, 69.37it/s]"
     ]
    },
    {
     "name": "stdout",
     "output_type": "stream",
     "text": [
      "skipped semisupervised-manglish/output-wav/Conversations-with-a-Young-Singaporean-CEO--Gao-Fei,-CEO-of-LearnSeeker-_-Singaporean-Podcast-#13--b9YHjghfd2E.mp3-part-28.wav\n"
     ]
    },
    {
     "name": "stderr",
     "output_type": "stream",
     "text": [
      " 87%|████████▋ | 113770/130662 [42:54<04:21, 64.50it/s]"
     ]
    },
    {
     "name": "stdout",
     "output_type": "stream",
     "text": [
      "skipped semisupervised-manglish/output-wav/Mamak-Sessions---Quitting-The-Medical-Line-To-Make-People-Laugh-ft-Dr.-Jason-Leong-FcD9MpeWqEI.mp3-part-388.wav\n",
      "skipped semisupervised-manglish/output-wav/@Juanitadr-shows-us-what-Arnold's-Tongue-Can-Do---The-Fashion-Weak-Podcast-Episode-10-N5EfPvQKW90.mp3-part-285.wav\n",
      "skipped semisupervised-manglish/output-wav/The-Fashion-Weak-Podcast-Ep35---Is-New-Balance-Cool-Now-Talking-everything-NOT-Nike-with-@adlysyairi-3b0bYe36KNE.mp3-part-622.wav\n"
     ]
    },
    {
     "name": "stderr",
     "output_type": "stream",
     "text": [
      "\r",
      " 87%|████████▋ | 113777/130662 [42:54<04:24, 63.73it/s]"
     ]
    },
    {
     "name": "stdout",
     "output_type": "stream",
     "text": [
      "skipped semisupervised-manglish/output-wav/The-Fashion-Weak-Podcast-EP-41---Investment-Tips-For-Chee-Seng-With-Fuad-&-Shaq-From-Kyoto-Protocol-eWNQhDNoSsY.mp3-part-588.wav\n"
     ]
    },
    {
     "name": "stderr",
     "output_type": "stream",
     "text": [
      " 87%|████████▋ | 113820/130662 [42:55<04:56, 56.72it/s]"
     ]
    },
    {
     "name": "stdout",
     "output_type": "stream",
     "text": [
      "skipped semisupervised-manglish/output-wav/Mamak-Sessions---Getting-Married-in-Vegas,-and-Sugar-Babies-ft.-Dennis-Yin-Cq6Yjwsu63U.mp3-part-68.wav\n"
     ]
    },
    {
     "name": "stderr",
     "output_type": "stream",
     "text": [
      " 87%|████████▋ | 113892/130662 [42:56<05:20, 52.30it/s]"
     ]
    },
    {
     "name": "stdout",
     "output_type": "stream",
     "text": [
      "skipped semisupervised-manglish/output-wav/The-Fashion-Weak-Podcast-Ep-40---tdcjTfzYSbk.mp3-part-573.wav\n"
     ]
    },
    {
     "name": "stderr",
     "output_type": "stream",
     "text": [
      " 87%|████████▋ | 113928/130662 [42:56<04:30, 61.93it/s]"
     ]
    },
    {
     "name": "stdout",
     "output_type": "stream",
     "text": [
      "skipped semisupervised-manglish/output-wav/Why-Blockchain-&-Crypo-Matters-_-Singaporean-Podcast-#15-_-Royal-Pek--2d7wzvNOCE.mp3-part-25.wav\n"
     ]
    },
    {
     "name": "stderr",
     "output_type": "stream",
     "text": [
      " 87%|████████▋ | 113973/130662 [42:57<05:59, 46.39it/s]"
     ]
    },
    {
     "name": "stdout",
     "output_type": "stream",
     "text": [
      "skipped semisupervised-manglish/output-wav/The-Fashion-Weak-Podcast-EP-41---Investment-Tips-For-Chee-Seng-With-Fuad-&-Shaq-From-Kyoto-Protocol-eWNQhDNoSsY.mp3-part-422.wav\n"
     ]
    },
    {
     "name": "stderr",
     "output_type": "stream",
     "text": [
      " 87%|████████▋ | 114016/130662 [42:58<04:26, 62.44it/s]"
     ]
    },
    {
     "name": "stdout",
     "output_type": "stream",
     "text": [
      "skipped semisupervised-manglish/output-wav/The-Fashion-Weak-Podcast-EP-27----Peter-Davis-talks-cars,-mixed-rice-and-some-fashion.-rxmMRAzLRJ0.mp3-part-332.wav\n",
      "skipped semisupervised-manglish/output-wav/Mamak-Sessions-Ep10---Datuk-Nicol-David-is-RETIRING!-n3AR3nQEc7Y.mp3-part-405.wav\n"
     ]
    },
    {
     "name": "stderr",
     "output_type": "stream",
     "text": [
      " 87%|████████▋ | 114068/130662 [42:59<06:20, 43.65it/s]"
     ]
    },
    {
     "name": "stdout",
     "output_type": "stream",
     "text": [
      "skipped semisupervised-manglish/output-wav/Mamak-Sessions-Ep4---What-Turns-You-On,-Is-it-ok-if-your-Girlfriend-Earns-More-&-The-Ideal-Proposal-1av_p0DPDas.mp3-part-31.wav\n"
     ]
    },
    {
     "name": "stderr",
     "output_type": "stream",
     "text": [
      " 87%|████████▋ | 114082/130662 [42:59<05:21, 51.52it/s]"
     ]
    },
    {
     "name": "stdout",
     "output_type": "stream",
     "text": [
      "skipped semisupervised-manglish/output-wav/The-Fashion-Weak-Podcast-Ep24---Penang-Boys-@tunway-瘦虎-&-@Shawnduabui-肥龍-Talk-Zap-Fan-&-Sneakers-dykz_vuzJh0.mp3-part-508.wav\n",
      "skipped semisupervised-manglish/output-wav/Mamak-Sessions-Ep10---Datuk-Nicol-David-is-RETIRING!-n3AR3nQEc7Y.mp3-part-128.wav\n"
     ]
    },
    {
     "name": "stderr",
     "output_type": "stream",
     "text": [
      " 87%|████████▋ | 114112/130662 [43:00<04:13, 65.29it/s]"
     ]
    },
    {
     "name": "stdout",
     "output_type": "stream",
     "text": [
      "skipped semisupervised-manglish/output-wav/The-Fashion-Weak-Podcast-Ep-30---On-her-way-to-Supermodel-dom,-ASNTM--Cycle-5-Runner-Up-@shikingomez-otK3Gl_XX4c.mp3-part-240.wav\n"
     ]
    },
    {
     "name": "stderr",
     "output_type": "stream",
     "text": [
      " 87%|████████▋ | 114162/130662 [43:01<05:34, 49.39it/s]"
     ]
    },
    {
     "name": "stdout",
     "output_type": "stream",
     "text": [
      "skipped semisupervised-manglish/output-wav/The-Fashion-Weak-Podcast-Ep-38---TikTok-Royalty-Roshan-Jeet-aka-Roshannnn1-lPnRg9UsP0M.mp3-part-803.wav\n"
     ]
    },
    {
     "name": "stderr",
     "output_type": "stream",
     "text": [
      " 87%|████████▋ | 114198/130662 [43:01<04:32, 60.53it/s]"
     ]
    },
    {
     "name": "stdout",
     "output_type": "stream",
     "text": [
      "skipped semisupervised-manglish/output-wav/The-Fashion-Weak-Podcast-EP16---Podcast-Wars-With-The-From-The-Thread-Boys-7dPzh9PpLs8.mp3-part-480.wav\n"
     ]
    },
    {
     "name": "stderr",
     "output_type": "stream",
     "text": [
      " 87%|████████▋ | 114267/130662 [43:03<05:04, 53.87it/s]"
     ]
    },
    {
     "name": "stdout",
     "output_type": "stream",
     "text": [
      "skipped semisupervised-manglish/output-wav/Mamak-Sessions-Ep6---Names-People-Always-Mispronounce-&-Facebook-Is-A-Spy-8LuihYdx0FQ.mp3-part-118.wav\n"
     ]
    },
    {
     "name": "stderr",
     "output_type": "stream",
     "text": [
      " 87%|████████▋ | 114304/130662 [43:03<04:05, 66.62it/s]"
     ]
    },
    {
     "name": "stdout",
     "output_type": "stream",
     "text": [
      "skipped semisupervised-manglish/output-wav/Conversations-With-A-Cancer-Survivor-ft-Jared-Lee-L2W4inT6j3c.mp3-part-233.wav\n",
      "skipped semisupervised-manglish/output-wav/The-Fashion-Weak-Podcast-Ep-19---Butt-Stuff-&-Actual-Fashion-With-Zane-Gan-jhLgzHQnAHU.mp3-part-194.wav\n"
     ]
    },
    {
     "name": "stderr",
     "output_type": "stream",
     "text": [
      " 88%|████████▊ | 114384/130662 [43:05<04:17, 63.24it/s]"
     ]
    },
    {
     "name": "stdout",
     "output_type": "stream",
     "text": [
      "skipped semisupervised-manglish/output-wav/The-Fashion-Weak-Podcast-Ep-30---On-her-way-to-Supermodel-dom,-ASNTM--Cycle-5-Runner-Up-@shikingomez-otK3Gl_XX4c.mp3-part-696.wav\n"
     ]
    },
    {
     "name": "stderr",
     "output_type": "stream",
     "text": [
      " 88%|████████▊ | 114426/130662 [43:06<06:02, 44.82it/s]"
     ]
    },
    {
     "name": "stdout",
     "output_type": "stream",
     "text": [
      "skipped semisupervised-manglish/output-wav/Dance-Moves-To-Pick-Up-Girls-At-The-Club-With-Adidas-Creator-Maybelline-Wong-(@definitelyMayb_)-vRnkHzyyBc4.mp3-part-289.wav\n"
     ]
    },
    {
     "name": "stderr",
     "output_type": "stream",
     "text": [
      " 88%|████████▊ | 114470/130662 [43:06<04:10, 64.57it/s]"
     ]
    },
    {
     "name": "stdout",
     "output_type": "stream",
     "text": [
      "skipped semisupervised-manglish/output-wav/The-Fashion-Weak-Podcast-Ep-31----Possibly-Our-Most-NSFW-Episode-Yet-With-@vikarworld-xMm23vU8_og.mp3-part-517.wav\n",
      "skipped semisupervised-manglish/output-wav/Mamak-Sessions-Ep6---Names-People-Always-Mispronounce-&-Facebook-Is-A-Spy-8LuihYdx0FQ.mp3-part-80.wav\n"
     ]
    },
    {
     "name": "stderr",
     "output_type": "stream",
     "text": [
      " 88%|████████▊ | 114528/130662 [43:07<05:00, 53.70it/s]"
     ]
    },
    {
     "name": "stdout",
     "output_type": "stream",
     "text": [
      "skipped semisupervised-manglish/output-wav/Mamak-Sessions---Getting-Married-in-Vegas,-and-Sugar-Babies-ft.-Dennis-Yin-Cq6Yjwsu63U.mp3-part-320.wav\n"
     ]
    },
    {
     "name": "stderr",
     "output_type": "stream",
     "text": [
      " 88%|████████▊ | 114630/130662 [43:09<04:40, 57.08it/s]"
     ]
    },
    {
     "name": "stdout",
     "output_type": "stream",
     "text": [
      "skipped semisupervised-manglish/output-wav/Do-You-Know-Your-Attachment-Style!-_-The-Thirsty-Sisters-#21-HKnXUGo_H2U.mp3-part-81.wav\n"
     ]
    },
    {
     "name": "stderr",
     "output_type": "stream",
     "text": [
      " 88%|████████▊ | 114701/130662 [43:11<05:35, 47.62it/s]"
     ]
    },
    {
     "name": "stdout",
     "output_type": "stream",
     "text": [
      "skipped semisupervised-manglish/output-wav/Mamak-Sessions-Ep6---Names-People-Always-Mispronounce-&-Facebook-Is-A-Spy-8LuihYdx0FQ.mp3-part-56.wav\n",
      "skipped semisupervised-manglish/output-wav/Mamak-Sessions---From-Giving-Up,-To-Getting-A-NETFLIX-Special-Q54z0mutz5Q.mp3-part-391.wav\n",
      "skipped semisupervised-manglish/output-wav/Mamak-Sessions---Do-You-Check-Your-Partner's-Text-Messages-Featuring-Lizz-Chloe-WJkSAHvYyqk.mp3-part-153.wav\n"
     ]
    },
    {
     "name": "stderr",
     "output_type": "stream",
     "text": [
      " 88%|████████▊ | 114788/130662 [43:12<05:48, 45.58it/s]"
     ]
    },
    {
     "name": "stdout",
     "output_type": "stream",
     "text": [
      "skipped semisupervised-manglish/output-wav/Dance-Moves-To-Pick-Up-Girls-At-The-Club-With-Adidas-Creator-Maybelline-Wong-(@definitelyMayb_)-vRnkHzyyBc4.mp3-part-493.wav\n"
     ]
    },
    {
     "name": "stderr",
     "output_type": "stream",
     "text": [
      " 88%|████████▊ | 114832/130662 [43:13<04:12, 62.66it/s]"
     ]
    },
    {
     "name": "stdout",
     "output_type": "stream",
     "text": [
      "skipped semisupervised-manglish/output-wav/MILF-hunting-with-Audrey-Ooi-aka-@fourfeetnine---The-Fashion-Weak-Podcast-Episode-1-eXpirKKPBUA.mp3-part-83.wav\n"
     ]
    },
    {
     "name": "stderr",
     "output_type": "stream",
     "text": [
      " 88%|████████▊ | 114847/130662 [43:13<04:06, 64.16it/s]"
     ]
    },
    {
     "name": "stdout",
     "output_type": "stream",
     "text": [
      "skipped semisupervised-manglish/output-wav/The-Fashion-Weak-Podcast-EP16---Podcast-Wars-With-The-From-The-Thread-Boys-7dPzh9PpLs8.mp3-part-303.wav\n"
     ]
    },
    {
     "name": "stderr",
     "output_type": "stream",
     "text": [
      " 88%|████████▊ | 114891/130662 [43:14<04:40, 56.21it/s]"
     ]
    },
    {
     "name": "stdout",
     "output_type": "stream",
     "text": [
      "skipped semisupervised-manglish/output-wav/Make-Insurance-Sexy-Again-+-Best-Advice-to-Financial-Advisors-_-Singaporean-Podcast-#19-_-Leslie-Koh-vKpmE4ZFnGE.mp3-part-179.wav\n"
     ]
    },
    {
     "name": "stderr",
     "output_type": "stream",
     "text": [
      " 88%|████████▊ | 115110/130662 [43:18<04:05, 63.23it/s]"
     ]
    },
    {
     "name": "stdout",
     "output_type": "stream",
     "text": [
      "skipped semisupervised-manglish/output-wav/Skin-Care-Routines,-Death,-Life-Purpose-and-More-_-Singaporean-Trio-Podcast-#2-6yW185RJkGw.mp3-part-285.wav\n"
     ]
    },
    {
     "name": "stderr",
     "output_type": "stream",
     "text": [
      " 88%|████████▊ | 115126/130662 [43:18<03:46, 68.53it/s]"
     ]
    },
    {
     "name": "stdout",
     "output_type": "stream",
     "text": [
      "skipped semisupervised-manglish/output-wav/Ghost-Stories-From-Our-Childhood!-_-The-Thirsty-Sisters-#23-Hioy9UvH4yE.mp3-part-398.wav\n",
      "skipped semisupervised-manglish/output-wav/The-Fashion-Weak-Podcast-Ep-38---TikTok-Royalty-Roshan-Jeet-aka-Roshannnn1-lPnRg9UsP0M.mp3-part-358.wav\n"
     ]
    },
    {
     "name": "stderr",
     "output_type": "stream",
     "text": [
      " 88%|████████▊ | 115286/130662 [43:21<04:13, 60.54it/s]"
     ]
    },
    {
     "name": "stdout",
     "output_type": "stream",
     "text": [
      "skipped semisupervised-manglish/output-wav/Mamak-Sessions-Podcast---How-Do-You-Handle-Long-Distance-Relationships-Do-they-WORK-m7mwwtsblIs.mp3-part-338.wav\n"
     ]
    },
    {
     "name": "stderr",
     "output_type": "stream",
     "text": [
      " 88%|████████▊ | 115329/130662 [43:22<05:12, 49.02it/s]"
     ]
    },
    {
     "name": "stdout",
     "output_type": "stream",
     "text": [
      "skipped semisupervised-manglish/output-wav/Mamak-Sessions-Podcast---A-Dog-Was-Slashed-In-The-Mouth-And-Abused,-But-This-Kind-Soul-Saved-It-FNfbmh93DFo.mp3-part-35.wav\n"
     ]
    },
    {
     "name": "stderr",
     "output_type": "stream",
     "text": [
      " 88%|████████▊ | 115351/130662 [43:22<04:29, 56.86it/s]"
     ]
    },
    {
     "name": "stdout",
     "output_type": "stream",
     "text": [
      "skipped semisupervised-manglish/output-wav/Mamak-Sessions-Ep1---Girls-Are-Happier-With-Less-Attractive-Men,-And-The-Dramatic-Pizza-Order-2M8U_mxGbcw.mp3-part-183.wav\n"
     ]
    },
    {
     "name": "stderr",
     "output_type": "stream",
     "text": [
      " 88%|████████▊ | 115376/130662 [43:23<03:43, 68.54it/s]"
     ]
    },
    {
     "name": "stdout",
     "output_type": "stream",
     "text": [
      "skipped semisupervised-manglish/output-wav/Mamak-Sessions---The-Asian-Mom-Of-The-Internet-ft-Tata-Wyb6i3GoJv4.mp3-part-346.wav\n"
     ]
    },
    {
     "name": "stderr",
     "output_type": "stream",
     "text": [
      " 88%|████████▊ | 115399/130662 [43:23<03:48, 66.82it/s]"
     ]
    },
    {
     "name": "stdout",
     "output_type": "stream",
     "text": [
      "skipped semisupervised-manglish/output-wav/The-Fashion-Weak-Podcast-Ep-32---Getting-Surprised-Reading-Melissa-Campbell's-(@heymelbelle)-IG-DMs-mJuKUwFpDgI.mp3-part-790.wav\n"
     ]
    },
    {
     "name": "stderr",
     "output_type": "stream",
     "text": [
      " 88%|████████▊ | 115533/130662 [43:25<04:27, 56.58it/s]"
     ]
    },
    {
     "name": "stdout",
     "output_type": "stream",
     "text": [
      "skipped semisupervised-manglish/output-wav/Dance-Moves-To-Pick-Up-Girls-At-The-Club-With-Adidas-Creator-Maybelline-Wong-(@definitelyMayb_)-vRnkHzyyBc4.mp3-part-355.wav\n"
     ]
    },
    {
     "name": "stderr",
     "output_type": "stream",
     "text": [
      " 88%|████████▊ | 115575/130662 [43:26<03:52, 64.76it/s]"
     ]
    },
    {
     "name": "stdout",
     "output_type": "stream",
     "text": [
      "skipped semisupervised-manglish/output-wav/Mamak-Sessions---We-May-Not-Always-End-Up-Doing-What-We-Thought-We-Would..And-That's-Not-A-Bad-Thing-IAeN0jG9Hwc.mp3-part-246.wav\n",
      "skipped semisupervised-manglish/output-wav/The-Fashion-Weak-Podcast-Ep-32---Getting-Surprised-Reading-Melissa-Campbell's-(@heymelbelle)-IG-DMs-mJuKUwFpDgI.mp3-part-489.wav\n"
     ]
    },
    {
     "name": "stderr",
     "output_type": "stream",
     "text": [
      " 88%|████████▊ | 115611/130662 [43:27<04:54, 51.12it/s]"
     ]
    },
    {
     "name": "stdout",
     "output_type": "stream",
     "text": [
      "skipped semisupervised-manglish/output-wav/Mamak-Sessions---Body-Shaming-Will-Land-You-In-Jail-XMx9tqwzQS4.mp3-part-132.wav\n"
     ]
    },
    {
     "name": "stderr",
     "output_type": "stream",
     "text": [
      " 89%|████████▊ | 115654/130662 [43:27<04:00, 62.35it/s]"
     ]
    },
    {
     "name": "stdout",
     "output_type": "stream",
     "text": [
      "skipped semisupervised-manglish/output-wav/Mamak-Sessions---Are-Social-Media-Influencers-Entitled-ZJ8jw3C9vB8.mp3-part-289.wav\n",
      "skipped semisupervised-manglish/output-wav/The-Fashion-Weak-Podcast-Ep-29---Valentines-Day-With-Becca-Lee-and-Leonard-Chua-UWm1ESejkzs.mp3-part-154.wav\n"
     ]
    },
    {
     "name": "stderr",
     "output_type": "stream",
     "text": [
      " 89%|████████▊ | 115675/130662 [43:28<03:50, 64.89it/s]"
     ]
    },
    {
     "name": "stdout",
     "output_type": "stream",
     "text": [
      "skipped semisupervised-manglish/output-wav/The-Fashion-Weak-Podcast-Ep-46---Premium-Thirst-Trap-Tips-With-Michelle-Lee-(@mich8lee)-MCHDyLJDJrg.mp3-part-446.wav\n"
     ]
    },
    {
     "name": "stderr",
     "output_type": "stream",
     "text": [
      " 89%|████████▊ | 115737/130662 [43:29<04:17, 57.86it/s]"
     ]
    },
    {
     "name": "stdout",
     "output_type": "stream",
     "text": [
      "skipped semisupervised-manglish/output-wav/Conversations-with-a-Young-Singaporean-CEO--Gao-Fei,-CEO-of-LearnSeeker-_-Singaporean-Podcast-#13--b9YHjghfd2E.mp3-part-101.wav\n"
     ]
    },
    {
     "name": "stderr",
     "output_type": "stream",
     "text": [
      " 89%|████████▊ | 115801/130662 [43:30<03:51, 64.27it/s]"
     ]
    },
    {
     "name": "stdout",
     "output_type": "stream",
     "text": [
      "skipped semisupervised-manglish/output-wav/Conversations-with-a-Young-Singaporean-CEO--Gao-Fei,-CEO-of-LearnSeeker-_-Singaporean-Podcast-#13--b9YHjghfd2E.mp3-part-79.wav\n",
      "skipped semisupervised-manglish/output-wav/The-Fashion-Weak-Podcast-Ep-40---tdcjTfzYSbk.mp3-part-186.wav\n"
     ]
    },
    {
     "name": "stderr",
     "output_type": "stream",
     "text": [
      " 89%|████████▊ | 115838/130662 [43:31<04:11, 59.01it/s]"
     ]
    },
    {
     "name": "stdout",
     "output_type": "stream",
     "text": [
      "skipped semisupervised-manglish/output-wav/The-Fashion-Weak-Podcast-Ep-23---Alicia-Amin-On-Being-A-'Malay'-Model-In-2019-3pKA5NvTCOA.mp3-part-610.wav\n"
     ]
    },
    {
     "name": "stderr",
     "output_type": "stream",
     "text": [
      " 89%|████████▊ | 115916/130662 [43:32<04:59, 49.20it/s]"
     ]
    },
    {
     "name": "stdout",
     "output_type": "stream",
     "text": [
      "skipped semisupervised-manglish/output-wav/The-Fashion-Weak-Podcast-Ep-33---Lingerie-&-Bikini-Talk-With-Talitha-Tan-(@talithabe)-_7Un0q6a9zg.mp3-part-437.wav\n"
     ]
    },
    {
     "name": "stderr",
     "output_type": "stream",
     "text": [
      " 89%|████████▊ | 115939/130662 [43:33<04:06, 59.64it/s]"
     ]
    },
    {
     "name": "stdout",
     "output_type": "stream",
     "text": [
      "skipped semisupervised-manglish/output-wav/Mamak-Sessions---How-I-Got-Quarantined-Because-Of-Covid-19-Feat.-Mark-O'Dea-5zAsyNKfzps.mp3-part-10.wav\n"
     ]
    },
    {
     "name": "stderr",
     "output_type": "stream",
     "text": [
      " 89%|████████▊ | 115954/130662 [43:33<04:00, 61.16it/s]"
     ]
    },
    {
     "name": "stdout",
     "output_type": "stream",
     "text": [
      "skipped semisupervised-manglish/output-wav/Why-We-Love-Our-Malay-Community!-_-The-Thirsty-Sisters-#20-F15a-MH_Hzg.mp3-part-283.wav\n"
     ]
    },
    {
     "name": "stderr",
     "output_type": "stream",
     "text": [
      " 89%|████████▉ | 115969/130662 [43:33<03:50, 63.80it/s]"
     ]
    },
    {
     "name": "stdout",
     "output_type": "stream",
     "text": [
      "skipped semisupervised-manglish/output-wav/The-Fashion-Weak-Podcast-Ep-39---Talking-Turn-On's-and-Fashion-Bulk-Buy-Deals-With-Tata-Wanqian-WSVo-qvu1GQ.mp3-part-347.wav\n"
     ]
    },
    {
     "name": "stderr",
     "output_type": "stream",
     "text": [
      " 89%|████████▉ | 116053/130662 [43:35<03:32, 68.74it/s]"
     ]
    },
    {
     "name": "stdout",
     "output_type": "stream",
     "text": [
      "skipped semisupervised-manglish/output-wav/The-Fashion-Weak-Podcast-Ep35---Is-New-Balance-Cool-Now-Talking-everything-NOT-Nike-with-@adlysyairi-3b0bYe36KNE.mp3-part-604.wav\n",
      "skipped semisupervised-manglish/output-wav/The-Fashion-Weak-Podcast-EP-36---Why-guys-REALLY-go-for-spin-class-with-Oxygen-Cycle-RqG0tHR9D1g.mp3-part-390.wav\n"
     ]
    },
    {
     "name": "stderr",
     "output_type": "stream",
     "text": [
      " 89%|████████▉ | 116255/130662 [43:38<03:39, 65.56it/s]"
     ]
    },
    {
     "name": "stdout",
     "output_type": "stream",
     "text": [
      "skipped semisupervised-manglish/output-wav/Mamak-Sessions---Body-Shaming-Will-Land-You-In-Jail-XMx9tqwzQS4.mp3-part-279.wav\n"
     ]
    },
    {
     "name": "stderr",
     "output_type": "stream",
     "text": [
      " 89%|████████▉ | 116368/130662 [43:40<05:04, 46.87it/s]"
     ]
    },
    {
     "name": "stdout",
     "output_type": "stream",
     "text": [
      "skipped semisupervised-manglish/output-wav/The-Fashion-Weak-Podcast-Ep-45---Finessing-A-New-Phone-Every-Year-With-Mamak-Rap-King-Jiven-Sekar-VlovwtVYuw0.mp3-part-273.wav\n"
     ]
    },
    {
     "name": "stderr",
     "output_type": "stream",
     "text": [
      " 89%|████████▉ | 116449/130662 [43:42<05:38, 42.03it/s]"
     ]
    },
    {
     "name": "stdout",
     "output_type": "stream",
     "text": [
      "skipped semisupervised-manglish/output-wav/The-Fashion-Weak-Podcast-Ep-23---Alicia-Amin-On-Being-A-'Malay'-Model-In-2019-3pKA5NvTCOA.mp3-part-73.wav\n",
      "skipped semisupervised-manglish/output-wav/Mamak-Sessions---Getting-Married-in-Vegas,-and-Sugar-Babies-ft.-Dennis-Yin-Cq6Yjwsu63U.mp3-part-183.wav\n"
     ]
    },
    {
     "name": "stderr",
     "output_type": "stream",
     "text": [
      " 89%|████████▉ | 116528/130662 [43:43<03:36, 65.15it/s]"
     ]
    },
    {
     "name": "stdout",
     "output_type": "stream",
     "text": [
      "skipped semisupervised-manglish/output-wav/Blessing-The-Pod,-Calling-Mofo's-OUT!-with-@soimjenn---The-Fashion-Weak-Podcast-Episode-7-xsjayMqoC0Y.mp3-part-177.wav\n"
     ]
    },
    {
     "name": "stderr",
     "output_type": "stream",
     "text": [
      " 89%|████████▉ | 116542/130662 [43:44<04:48, 48.91it/s]"
     ]
    },
    {
     "name": "stdout",
     "output_type": "stream",
     "text": [
      "skipped semisupervised-manglish/output-wav/Mamak-Sessions-Ep10---Datuk-Nicol-David-is-RETIRING!-n3AR3nQEc7Y.mp3-part-530.wav\n"
     ]
    },
    {
     "name": "stderr",
     "output_type": "stream",
     "text": [
      " 89%|████████▉ | 116567/130662 [43:44<03:43, 62.94it/s]"
     ]
    },
    {
     "name": "stdout",
     "output_type": "stream",
     "text": [
      "skipped semisupervised-manglish/output-wav/Mamak-Sessions---The-Miss-World-Crown-is-more-than-$4,000,000!-PazCOj1nb3c.mp3-part-128.wav\n",
      "skipped semisupervised-manglish/output-wav/Being-A-Single-Divorced-Woman-At-32-_-The-Thirsty-Sisters-#11-8DMyfcjyrZQ.mp3-part-479.wav\n"
     ]
    },
    {
     "name": "stderr",
     "output_type": "stream",
     "text": [
      " 89%|████████▉ | 116583/130662 [43:44<03:28, 67.62it/s]"
     ]
    },
    {
     "name": "stdout",
     "output_type": "stream",
     "text": [
      "skipped semisupervised-manglish/output-wav/Mamak-Sessions-Ep6---Names-People-Always-Mispronounce-&-Facebook-Is-A-Spy-8LuihYdx0FQ.mp3-part-79.wav\n",
      "skipped semisupervised-manglish/output-wav/Mamak-Sessions-Ep1---Girls-Are-Happier-With-Less-Attractive-Men,-And-The-Dramatic-Pizza-Order-2M8U_mxGbcw.mp3-part-196.wav\n"
     ]
    },
    {
     "name": "stderr",
     "output_type": "stream",
     "text": [
      " 89%|████████▉ | 116649/130662 [43:45<04:42, 49.67it/s]"
     ]
    },
    {
     "name": "stdout",
     "output_type": "stream",
     "text": [
      "skipped semisupervised-manglish/output-wav/Playing-Basketball-With-Dr-Jason-Leong---The-Fashion-Weak-Podcast-Episode-4---6K1feeFnKpQ.mp3-part-113.wav\n"
     ]
    },
    {
     "name": "stderr",
     "output_type": "stream",
     "text": [
      " 89%|████████▉ | 116705/130662 [43:46<03:48, 61.07it/s]"
     ]
    },
    {
     "name": "stdout",
     "output_type": "stream",
     "text": [
      "skipped semisupervised-manglish/output-wav/The-Fashion-Weak-Podcast-Ep-31----Possibly-Our-Most-NSFW-Episode-Yet-With-@vikarworld-xMm23vU8_og.mp3-part-637.wav\n"
     ]
    },
    {
     "name": "stderr",
     "output_type": "stream",
     "text": [
      " 89%|████████▉ | 116768/130662 [43:47<03:44, 61.95it/s]"
     ]
    },
    {
     "name": "stdout",
     "output_type": "stream",
     "text": [
      "skipped semisupervised-manglish/output-wav/The-Fashion-Weak-Podcast-Ep-31----Possibly-Our-Most-NSFW-Episode-Yet-With-@vikarworld-xMm23vU8_og.mp3-part-168.wav\n"
     ]
    },
    {
     "name": "stderr",
     "output_type": "stream",
     "text": [
      " 89%|████████▉ | 116826/130662 [43:49<04:30, 51.18it/s]"
     ]
    },
    {
     "name": "stdout",
     "output_type": "stream",
     "text": [
      "skipped semisupervised-manglish/output-wav/The-Fashion-Weak-Podcast-Ep-31----Possibly-Our-Most-NSFW-Episode-Yet-With-@vikarworld-xMm23vU8_og.mp3-part-469.wav\n"
     ]
    },
    {
     "name": "stderr",
     "output_type": "stream",
     "text": [
      " 89%|████████▉ | 116840/130662 [43:49<03:59, 57.76it/s]"
     ]
    },
    {
     "name": "stdout",
     "output_type": "stream",
     "text": [
      "skipped semisupervised-manglish/output-wav/Click-Bait-And-24k-Shoe-Shopping-With-Harvinth-Skin---The-Fashion-Weak-Podcast-Episode-08-adq-khQo2eQ.mp3-part-54.wav\n"
     ]
    },
    {
     "name": "stderr",
     "output_type": "stream",
     "text": [
      " 89%|████████▉ | 116869/130662 [43:49<03:32, 64.88it/s]"
     ]
    },
    {
     "name": "stdout",
     "output_type": "stream",
     "text": [
      "skipped semisupervised-manglish/output-wav/Mamak-Sessions-Ep13---Game-Of-Thrones-Is-OVER!-Malaysian-Accent-is-sexy!--mAdHcMGmEs.mp3-part-212.wav\n",
      "skipped semisupervised-manglish/output-wav/Why-We-Love-Our-Malay-Community!-_-The-Thirsty-Sisters-#20-F15a-MH_Hzg.mp3-part-341.wav\n"
     ]
    },
    {
     "name": "stderr",
     "output_type": "stream",
     "text": [
      " 89%|████████▉ | 116926/130662 [43:50<04:27, 51.32it/s]"
     ]
    },
    {
     "name": "stdout",
     "output_type": "stream",
     "text": [
      "skipped semisupervised-manglish/output-wav/Burning-Hot-Fever!-4-Doctors-Tried-To-Save-Me-In-The-Hospital!-_-The-Thirsty-Sisters-#6-Jw7B8efygWI.mp3-part-272.wav\n"
     ]
    },
    {
     "name": "stderr",
     "output_type": "stream",
     "text": [
      " 90%|████████▉ | 116996/130662 [43:52<05:15, 43.37it/s]"
     ]
    },
    {
     "name": "stdout",
     "output_type": "stream",
     "text": [
      "skipped semisupervised-manglish/output-wav/Why-Singaporean-Female-Entrepreneurship-Matters-_-Huda-Hamid-_-Singaporean-Podcast-#44-myPdnyUGvUk.mp3-part-50.wav\n",
      "skipped semisupervised-manglish/output-wav/Mamak-Sessions-Podcast---Is-it-ok-to-move-in-with-your-Partner-before-MARRIAGE-nGnyZ5c00Mo.mp3-part-117.wav\n"
     ]
    },
    {
     "name": "stderr",
     "output_type": "stream",
     "text": [
      " 90%|████████▉ | 117115/130662 [43:54<03:40, 61.49it/s]"
     ]
    },
    {
     "name": "stdout",
     "output_type": "stream",
     "text": [
      "skipped semisupervised-manglish/output-wav/The-Fashion-Weak-Podcast-Ep-32---Getting-Surprised-Reading-Melissa-Campbell's-(@heymelbelle)-IG-DMs-mJuKUwFpDgI.mp3-part-201.wav\n",
      "skipped semisupervised-manglish/output-wav/The-Fashion-Weak-Podcast-Ep-45---Finessing-A-New-Phone-Every-Year-With-Mamak-Rap-King-Jiven-Sekar-VlovwtVYuw0.mp3-part-75.wav\n"
     ]
    },
    {
     "name": "stderr",
     "output_type": "stream",
     "text": [
      " 90%|████████▉ | 117253/130662 [43:56<03:36, 61.91it/s]"
     ]
    },
    {
     "name": "stdout",
     "output_type": "stream",
     "text": [
      "skipped semisupervised-manglish/output-wav/The-Fashion-Weak-Podcast-EP16---Podcast-Wars-With-The-From-The-Thread-Boys-7dPzh9PpLs8.mp3-part-368.wav\n"
     ]
    },
    {
     "name": "stderr",
     "output_type": "stream",
     "text": [
      " 90%|████████▉ | 117464/130662 [44:00<03:52, 56.83it/s]"
     ]
    },
    {
     "name": "stdout",
     "output_type": "stream",
     "text": [
      "skipped semisupervised-manglish/output-wav/Ghost-Stories-From-Our-Childhood!-_-The-Thirsty-Sisters-#23-Hioy9UvH4yE.mp3-part-236.wav\n"
     ]
    },
    {
     "name": "stderr",
     "output_type": "stream",
     "text": [
      " 90%|████████▉ | 117548/130662 [44:02<03:57, 55.29it/s]"
     ]
    },
    {
     "name": "stdout",
     "output_type": "stream",
     "text": [
      "skipped semisupervised-manglish/output-wav/My-First-Boyfriend-Cheated-On-Me-With-Several-Girls-_-The-Thirsty-Sisters-#9-Y6RYZpbANJI.mp3-part-171.wav\n"
     ]
    },
    {
     "name": "stderr",
     "output_type": "stream",
     "text": [
      " 90%|█████████ | 117619/130662 [44:03<04:42, 46.10it/s]"
     ]
    },
    {
     "name": "stdout",
     "output_type": "stream",
     "text": [
      "skipped semisupervised-manglish/output-wav/The-Fashion-Weak-Podcast-Ep-29---Valentines-Day-With-Becca-Lee-and-Leonard-Chua-UWm1ESejkzs.mp3-part-572.wav\n"
     ]
    },
    {
     "name": "stderr",
     "output_type": "stream",
     "text": [
      " 90%|█████████ | 117662/130662 [44:04<03:29, 61.98it/s]"
     ]
    },
    {
     "name": "stdout",
     "output_type": "stream",
     "text": [
      "skipped semisupervised-manglish/output-wav/Ben-Kheng-Reflects-On-The-Sam-Willows,-Anxiety,-And-Religion-_-HTHT---Ben-Kheng-X4QapKCCneQ.mp3-part-268.wav\n",
      "skipped semisupervised-manglish/output-wav/The-Fashion-Weak-Podcast-Ep-40---tdcjTfzYSbk.mp3-part-540.wav\n"
     ]
    },
    {
     "name": "stderr",
     "output_type": "stream",
     "text": [
      " 90%|█████████ | 117698/130662 [44:04<03:13, 67.14it/s]"
     ]
    },
    {
     "name": "stdout",
     "output_type": "stream",
     "text": [
      "skipped semisupervised-manglish/output-wav/Relatives-Ruin-My-Wedding!-_-The-Thirsty-Sisters-#22-98CiTQQtqak.mp3-part-60.wav\n"
     ]
    },
    {
     "name": "stderr",
     "output_type": "stream",
     "text": [
      " 90%|█████████ | 117772/130662 [44:06<03:32, 60.70it/s]"
     ]
    },
    {
     "name": "stdout",
     "output_type": "stream",
     "text": [
      "skipped semisupervised-manglish/output-wav/Mamak-Sessions---Getting-Married-in-Vegas,-and-Sugar-Babies-ft.-Dennis-Yin-Cq6Yjwsu63U.mp3-part-297.wav\n"
     ]
    },
    {
     "name": "stderr",
     "output_type": "stream",
     "text": [
      " 90%|█████████ | 117799/130662 [44:06<04:59, 42.90it/s]"
     ]
    },
    {
     "name": "stdout",
     "output_type": "stream",
     "text": [
      "skipped semisupervised-manglish/output-wav/The-Fashion-Weak-Podcast-Ep-19---Butt-Stuff-&-Actual-Fashion-With-Zane-Gan-jhLgzHQnAHU.mp3-part-234.wav\n",
      "skipped semisupervised-manglish/output-wav/The-Fashion-Weak-Podcast-Ep-21---Suitmaker-To-The-Stars,-Shahrin-Bahar-aka-@sbahar.my-Pkv6d83oe8s.mp3-part-512.wav\n"
     ]
    },
    {
     "name": "stderr",
     "output_type": "stream",
     "text": [
      " 90%|█████████ | 117844/130662 [44:07<03:28, 61.62it/s]"
     ]
    },
    {
     "name": "stdout",
     "output_type": "stream",
     "text": [
      "skipped semisupervised-manglish/output-wav/Do-You-Know-Your-Attachment-Style!-_-The-Thirsty-Sisters-#21-HKnXUGo_H2U.mp3-part-383.wav\n"
     ]
    },
    {
     "name": "stderr",
     "output_type": "stream",
     "text": [
      " 90%|█████████ | 117866/130662 [44:07<03:23, 62.75it/s]"
     ]
    },
    {
     "name": "stdout",
     "output_type": "stream",
     "text": [
      "skipped semisupervised-manglish/output-wav/Mamak-Sessions---Should-You-Be-Spending-Crazily-For-Valentine's-Day-QLz7USNFnng.mp3-part-170.wav\n",
      "skipped semisupervised-manglish/output-wav/Butts-and-D_ck-Pics,-MILF-Hunting-Part-2-With-Nor-Soraya---The-Fashion-Weak-Podcast-Episode-5-NCiDUw4mQgE.mp3-part-183.wav\n"
     ]
    },
    {
     "name": "stderr",
     "output_type": "stream",
     "text": [
      " 90%|█████████ | 117920/130662 [44:08<03:43, 57.10it/s]"
     ]
    },
    {
     "name": "stdout",
     "output_type": "stream",
     "text": [
      "skipped semisupervised-manglish/output-wav/Why-Human-Resources-Matters-+-Life-as-a-Singapore-Solopreneur-_-Lauren-Ong-_-Singaporean-Podcast-#20-YtCn4hNLk7o.mp3-part-121.wav\n",
      "skipped semisupervised-manglish/output-wav/Mamak-Sessions---From-A-Transport-Assistant-to-a-Multi-Award-Winning-Film-Director-r6f3OoHVkgU.mp3-part-344.wav\n"
     ]
    },
    {
     "name": "stderr",
     "output_type": "stream",
     "text": [
      " 90%|█████████ | 117949/130662 [44:09<03:29, 60.78it/s]"
     ]
    },
    {
     "name": "stdout",
     "output_type": "stream",
     "text": [
      "skipped semisupervised-manglish/output-wav/The-Fashion-Weak-Podcast-Ep24---Penang-Boys-@tunway-瘦虎-&-@Shawnduabui-肥龍-Talk-Zap-Fan-&-Sneakers-dykz_vuzJh0.mp3-part-592.wav\n"
     ]
    },
    {
     "name": "stderr",
     "output_type": "stream",
     "text": [
      " 90%|█████████ | 117964/130662 [44:09<03:23, 62.43it/s]"
     ]
    },
    {
     "name": "stdout",
     "output_type": "stream",
     "text": [
      "skipped semisupervised-manglish/output-wav/The-Fashion-Weak-Podcast-Ep-33---Lingerie-&-Bikini-Talk-With-Talitha-Tan-(@talithabe)-_7Un0q6a9zg.mp3-part-45.wav\n"
     ]
    },
    {
     "name": "stderr",
     "output_type": "stream",
     "text": [
      " 90%|█████████ | 118015/130662 [44:10<03:20, 63.08it/s]"
     ]
    },
    {
     "name": "stdout",
     "output_type": "stream",
     "text": [
      "skipped semisupervised-manglish/output-wav/Burnout-in-the-Media-Industry-+-Passion-in-Theatre--_-Singaporean-Podcast-#16-_-Rennes-Lee-f7qEqPNzGk8.mp3-part-918.wav\n",
      "skipped semisupervised-manglish/output-wav/@Juanitadr-shows-us-what-Arnold's-Tongue-Can-Do---The-Fashion-Weak-Podcast-Episode-10-N5EfPvQKW90.mp3-part-146.wav\n",
      "skipped semisupervised-manglish/output-wav/The-Fashion-Weak-Podcast-Ep-19---Butt-Stuff-&-Actual-Fashion-With-Zane-Gan-jhLgzHQnAHU.mp3-part-79.wav\n"
     ]
    },
    {
     "name": "stderr",
     "output_type": "stream",
     "text": [
      " 90%|█████████ | 118031/130662 [44:10<03:08, 67.15it/s]"
     ]
    },
    {
     "name": "stdout",
     "output_type": "stream",
     "text": [
      "skipped semisupervised-manglish/output-wav/Mamak-Sessions-Ep8---Man-Sues-Colleague-for-$1.8-Million-for-Farting-OWbPqC2i71c.mp3-part-269.wav\n"
     ]
    },
    {
     "name": "stderr",
     "output_type": "stream",
     "text": [
      " 90%|█████████ | 118046/130662 [44:11<03:11, 65.91it/s]"
     ]
    },
    {
     "name": "stdout",
     "output_type": "stream",
     "text": [
      "skipped semisupervised-manglish/output-wav/The-Fashion-Weak-Podcast-Ep24---Penang-Boys-@tunway-瘦虎-&-@Shawnduabui-肥龍-Talk-Zap-Fan-&-Sneakers-dykz_vuzJh0.mp3-part-10.wav\n"
     ]
    },
    {
     "name": "stderr",
     "output_type": "stream",
     "text": [
      " 90%|█████████ | 118061/130662 [44:11<03:03, 68.83it/s]"
     ]
    },
    {
     "name": "stdout",
     "output_type": "stream",
     "text": [
      "skipped semisupervised-manglish/output-wav/The-Fashion-Weak-Podcast-Ep-38---TikTok-Royalty-Roshan-Jeet-aka-Roshannnn1-lPnRg9UsP0M.mp3-part-492.wav\n"
     ]
    },
    {
     "name": "stderr",
     "output_type": "stream",
     "text": [
      " 90%|█████████ | 118077/130662 [44:11<04:22, 48.03it/s]"
     ]
    },
    {
     "name": "stdout",
     "output_type": "stream",
     "text": [
      "skipped semisupervised-manglish/output-wav/Mamak-Sessions-Ep13---Game-Of-Thrones-Is-OVER!-Malaysian-Accent-is-sexy!--mAdHcMGmEs.mp3-part-301.wav\n"
     ]
    },
    {
     "name": "stderr",
     "output_type": "stream",
     "text": [
      " 90%|█████████ | 118124/130662 [44:12<03:06, 67.14it/s]"
     ]
    },
    {
     "name": "stdout",
     "output_type": "stream",
     "text": [
      "skipped semisupervised-manglish/output-wav/Mamak-Sessions---How-I-Got-Quarantined-Because-Of-Covid-19-Feat.-Mark-O'Dea-5zAsyNKfzps.mp3-part-341.wav\n",
      "skipped semisupervised-manglish/output-wav/Mamak-Sessions---Have-You-Been-Rejected,-and-Have-You-Rejected-Someone-sZFykBDVjOI.mp3-part-263.wav\n"
     ]
    },
    {
     "name": "stderr",
     "output_type": "stream",
     "text": [
      " 90%|█████████ | 118248/130662 [44:14<03:14, 63.75it/s]"
     ]
    },
    {
     "name": "stdout",
     "output_type": "stream",
     "text": [
      "skipped semisupervised-manglish/output-wav/Talking-Sneakers-&-Strong-Sperm-With-@bryanbotakchin---The-Fashion-Weak-Podcast-Episode-11-iugevNPFp2Y.mp3-part-324.wav\n"
     ]
    },
    {
     "name": "stderr",
     "output_type": "stream",
     "text": [
      " 91%|█████████ | 118364/130662 [44:16<03:56, 52.03it/s]"
     ]
    },
    {
     "name": "stdout",
     "output_type": "stream",
     "text": [
      "skipped semisupervised-manglish/output-wav/The-Fashion-Weak-Podcast-Ep-38---TikTok-Royalty-Roshan-Jeet-aka-Roshannnn1-lPnRg9UsP0M.mp3-part-711.wav\n"
     ]
    },
    {
     "name": "stderr",
     "output_type": "stream",
     "text": [
      " 91%|█████████ | 118394/130662 [44:17<03:17, 62.03it/s]"
     ]
    },
    {
     "name": "stdout",
     "output_type": "stream",
     "text": [
      "skipped semisupervised-manglish/output-wav/Sexual-Predators-Running-Free-In-Singapore!-_-The-Thirsty-Sisters-#14-oW3yttdKVm0.mp3-part-399.wav\n",
      "skipped semisupervised-manglish/output-wav/Mamak-Sessions-Ep6---Names-People-Always-Mispronounce-&-Facebook-Is-A-Spy-8LuihYdx0FQ.mp3-part-235.wav\n"
     ]
    },
    {
     "name": "stderr",
     "output_type": "stream",
     "text": [
      " 91%|█████████ | 118408/130662 [44:17<03:12, 63.67it/s]"
     ]
    },
    {
     "name": "stdout",
     "output_type": "stream",
     "text": [
      "skipped semisupervised-manglish/output-wav/8-Wheels-Vs-4-Wheels-With-Sukeats-From-Wheel-Love---The-Fashion-Weak-Podcast-ep-12-fgaCmnMdZ0c.mp3-part-17.wav\n"
     ]
    },
    {
     "name": "stderr",
     "output_type": "stream",
     "text": [
      " 91%|█████████ | 118449/130662 [44:18<04:23, 46.31it/s]"
     ]
    },
    {
     "name": "stdout",
     "output_type": "stream",
     "text": [
      "skipped semisupervised-manglish/output-wav/Ghost-Stories-From-Our-Childhood!-_-The-Thirsty-Sisters-#23-Hioy9UvH4yE.mp3-part-66.wav\n"
     ]
    },
    {
     "name": "stderr",
     "output_type": "stream",
     "text": [
      " 91%|█████████ | 118464/130662 [44:18<03:43, 54.47it/s]"
     ]
    },
    {
     "name": "stdout",
     "output_type": "stream",
     "text": [
      "skipped semisupervised-manglish/output-wav/The-Fashion-Weak-Podcast-Ep-29---Valentines-Day-With-Becca-Lee-and-Leonard-Chua-UWm1ESejkzs.mp3-part-522.wav\n"
     ]
    },
    {
     "name": "stderr",
     "output_type": "stream",
     "text": [
      " 91%|█████████ | 118486/130662 [44:18<03:23, 59.97it/s]"
     ]
    },
    {
     "name": "stdout",
     "output_type": "stream",
     "text": [
      "skipped semisupervised-manglish/output-wav/Most-Accurate-Personality-Test!-_-The-Thirsty-Sisters-#17-XLV720mng6w.mp3-part-222.wav\n"
     ]
    },
    {
     "name": "stderr",
     "output_type": "stream",
     "text": [
      " 91%|█████████ | 118516/130662 [44:19<03:03, 66.18it/s]"
     ]
    },
    {
     "name": "stdout",
     "output_type": "stream",
     "text": [
      "skipped semisupervised-manglish/output-wav/The-Fashion-Weak-Podcast-Ep-28-@dreamrocketeers-on-that-Rolex-you-should-cop-to-flex-on-poor-friends-shV1F1JlDzk.mp3-part-132.wav\n"
     ]
    },
    {
     "name": "stderr",
     "output_type": "stream",
     "text": [
      "\r",
      " 91%|█████████ | 118523/130662 [44:19<03:02, 66.54it/s]"
     ]
    },
    {
     "name": "stdout",
     "output_type": "stream",
     "text": [
      "skipped semisupervised-manglish/output-wav/Mamak-Sessions---How-Do-You-Deal-With-Rumors-ft-Elizabeth-Tan-Rkvd5p3I11M.mp3-part-276.wav\n"
     ]
    },
    {
     "name": "stderr",
     "output_type": "stream",
     "text": [
      " 91%|█████████ | 118573/130662 [44:20<03:12, 62.72it/s]"
     ]
    },
    {
     "name": "stdout",
     "output_type": "stream",
     "text": [
      "skipped semisupervised-manglish/output-wav/Talking-Sneakers-&-Strong-Sperm-With-@bryanbotakchin---The-Fashion-Weak-Podcast-Episode-11-iugevNPFp2Y.mp3-part-125.wav\n"
     ]
    },
    {
     "name": "stderr",
     "output_type": "stream",
     "text": [
      " 91%|█████████ | 118617/130662 [44:21<03:05, 64.80it/s]"
     ]
    },
    {
     "name": "stdout",
     "output_type": "stream",
     "text": [
      "skipped semisupervised-manglish/output-wav/The-Fashion-Weak-Podcast-EP-25---Don't-Mess-With-@zamaeraaa's-Hello-Kitty-Cup-H4M_ZUDAT3k.mp3-part-524.wav\n"
     ]
    },
    {
     "name": "stderr",
     "output_type": "stream",
     "text": [
      " 91%|█████████ | 118700/130662 [44:22<03:18, 60.36it/s]"
     ]
    },
    {
     "name": "stdout",
     "output_type": "stream",
     "text": [
      "skipped semisupervised-manglish/output-wav/The-Fashion-Weak-Podcast-Ep24---Penang-Boys-@tunway-瘦虎-&-@Shawnduabui-肥龍-Talk-Zap-Fan-&-Sneakers-dykz_vuzJh0.mp3-part-410.wav\n"
     ]
    },
    {
     "name": "stderr",
     "output_type": "stream",
     "text": [
      " 91%|█████████ | 118778/130662 [44:24<02:55, 67.58it/s]"
     ]
    },
    {
     "name": "stdout",
     "output_type": "stream",
     "text": [
      "skipped semisupervised-manglish/output-wav/The-Fashion-Weak-Podcast-Ep-33---Lingerie-&-Bikini-Talk-With-Talitha-Tan-(@talithabe)-_7Un0q6a9zg.mp3-part-725.wav\n",
      "skipped semisupervised-manglish/output-wav/The-Fashion-Weak-Podcast-Ep-43A---Keeping-Fair-On-The-Fairway-With-Natalia-Ng-CSP1XPZu4YY.mp3-part-57.wav\n"
     ]
    },
    {
     "name": "stderr",
     "output_type": "stream",
     "text": [
      " 91%|█████████ | 118995/130662 [44:28<03:53, 50.06it/s]"
     ]
    },
    {
     "name": "stdout",
     "output_type": "stream",
     "text": [
      "skipped semisupervised-manglish/output-wav/Mamak-Sessions---The-Miss-World-Crown-is-more-than-$4,000,000!-PazCOj1nb3c.mp3-part-56.wav\n"
     ]
    },
    {
     "name": "stderr",
     "output_type": "stream",
     "text": [
      " 91%|█████████ | 119030/130662 [44:28<03:12, 60.47it/s]"
     ]
    },
    {
     "name": "stdout",
     "output_type": "stream",
     "text": [
      "skipped semisupervised-manglish/output-wav/Dance-Moves-To-Pick-Up-Girls-At-The-Club-With-Adidas-Creator-Maybelline-Wong-(@definitelyMayb_)-vRnkHzyyBc4.mp3-part-840.wav\n"
     ]
    },
    {
     "name": "stderr",
     "output_type": "stream",
     "text": [
      " 91%|█████████ | 119046/130662 [44:28<02:57, 65.28it/s]"
     ]
    },
    {
     "name": "stdout",
     "output_type": "stream",
     "text": [
      "skipped semisupervised-manglish/output-wav/Mamak-Sessions-Ep6---Names-People-Always-Mispronounce-&-Facebook-Is-A-Spy-8LuihYdx0FQ.mp3-part-409.wav\n"
     ]
    },
    {
     "name": "stderr",
     "output_type": "stream",
     "text": [
      " 91%|█████████ | 119067/130662 [44:29<03:02, 63.60it/s]"
     ]
    },
    {
     "name": "stdout",
     "output_type": "stream",
     "text": [
      "skipped semisupervised-manglish/output-wav/Self-Love,-Social-Media-And-Education-_-HTHT---Chow-Jia-Hui-ezYaMrChz4M.mp3-part-40.wav\n"
     ]
    },
    {
     "name": "stderr",
     "output_type": "stream",
     "text": [
      " 91%|█████████ | 119116/130662 [44:30<03:05, 62.19it/s]"
     ]
    },
    {
     "name": "stdout",
     "output_type": "stream",
     "text": [
      "skipped semisupervised-manglish/output-wav/The-Fashion-Weak-Podcast-Ep-40---tdcjTfzYSbk.mp3-part-314.wav\n"
     ]
    },
    {
     "name": "stderr",
     "output_type": "stream",
     "text": [
      " 91%|█████████ | 119191/130662 [44:31<03:31, 54.22it/s]"
     ]
    },
    {
     "name": "stdout",
     "output_type": "stream",
     "text": [
      "skipped semisupervised-manglish/output-wav/Dance-Moves-To-Pick-Up-Girls-At-The-Club-With-Adidas-Creator-Maybelline-Wong-(@definitelyMayb_)-vRnkHzyyBc4.mp3-part-614.wav\n"
     ]
    },
    {
     "name": "stderr",
     "output_type": "stream",
     "text": [
      " 91%|█████████▏| 119346/130662 [44:34<04:17, 43.95it/s]"
     ]
    },
    {
     "name": "stdout",
     "output_type": "stream",
     "text": [
      "skipped semisupervised-manglish/output-wav/The-Fashion-Weak-Podcast-Ep-38---TikTok-Royalty-Roshan-Jeet-aka-Roshannnn1-lPnRg9UsP0M.mp3-part-715.wav\n"
     ]
    },
    {
     "name": "stderr",
     "output_type": "stream",
     "text": [
      " 91%|█████████▏| 119376/130662 [44:35<03:09, 59.69it/s]"
     ]
    },
    {
     "name": "stdout",
     "output_type": "stream",
     "text": [
      "skipped semisupervised-manglish/output-wav/The-Fashion-Weak-Podcast-Ep-43---Thirst-Trapping-Simps-&-Loving-Your-Body-From-The-Outside-In-6R87P6YD2c4.mp3-part-566.wav\n"
     ]
    },
    {
     "name": "stderr",
     "output_type": "stream",
     "text": [
      " 91%|█████████▏| 119415/130662 [44:35<03:00, 62.21it/s]"
     ]
    },
    {
     "name": "stdout",
     "output_type": "stream",
     "text": [
      "skipped semisupervised-manglish/output-wav/Mamak-Sessions---Body-Shaming-Will-Land-You-In-Jail-XMx9tqwzQS4.mp3-part-161.wav\n"
     ]
    },
    {
     "name": "stderr",
     "output_type": "stream",
     "text": [
      "\r",
      " 91%|█████████▏| 119422/130662 [44:35<02:58, 62.85it/s]"
     ]
    },
    {
     "name": "stdout",
     "output_type": "stream",
     "text": [
      "skipped semisupervised-manglish/output-wav/Mamak-Sessions---Quitting-The-Medical-Line-To-Make-People-Laugh-ft-Dr.-Jason-Leong-FcD9MpeWqEI.mp3-part-358.wav\n",
      "skipped semisupervised-manglish/output-wav/The-Fashion-Weak-Podcast-Ep-29---Valentines-Day-With-Becca-Lee-and-Leonard-Chua-UWm1ESejkzs.mp3-part-583.wav\n"
     ]
    },
    {
     "name": "stderr",
     "output_type": "stream",
     "text": [
      " 91%|█████████▏| 119499/130662 [44:37<03:02, 61.04it/s]"
     ]
    },
    {
     "name": "stdout",
     "output_type": "stream",
     "text": [
      "skipped semisupervised-manglish/output-wav/The-Fashion-Weak-Podcast-Ep-45---Finessing-A-New-Phone-Every-Year-With-Mamak-Rap-King-Jiven-Sekar-VlovwtVYuw0.mp3-part-542.wav\n"
     ]
    },
    {
     "name": "stderr",
     "output_type": "stream",
     "text": [
      " 91%|█████████▏| 119539/130662 [44:38<03:44, 49.53it/s]"
     ]
    },
    {
     "name": "stdout",
     "output_type": "stream",
     "text": [
      "skipped semisupervised-manglish/output-wav/My-Future-In-Laws-Threw-Me-Out!-_-The-Thirsty-Sisters-#18-ViJXVHWTRz8.mp3-part-438.wav\n"
     ]
    },
    {
     "name": "stderr",
     "output_type": "stream",
     "text": [
      " 92%|█████████▏| 119643/130662 [44:40<03:15, 56.46it/s]"
     ]
    },
    {
     "name": "stdout",
     "output_type": "stream",
     "text": [
      "skipped semisupervised-manglish/output-wav/8-Wheels-Vs-4-Wheels-With-Sukeats-From-Wheel-Love---The-Fashion-Weak-Podcast-ep-12-fgaCmnMdZ0c.mp3-part-159.wav\n"
     ]
    },
    {
     "name": "stderr",
     "output_type": "stream",
     "text": [
      " 92%|█████████▏| 119665/130662 [44:40<03:01, 60.64it/s]"
     ]
    },
    {
     "name": "stdout",
     "output_type": "stream",
     "text": [
      "skipped semisupervised-manglish/output-wav/Mamak-Sessions-Podcast---Is-it-ok-to-move-in-with-your-Partner-before-MARRIAGE-nGnyZ5c00Mo.mp3-part-194.wav\n",
      "skipped semisupervised-manglish/output-wav/The-Fashion-Weak-Podcast-Ep-20---Couple-Goals-With-Maggy-Wang-&-Jobroseph-TzfCaQ8vUMc.mp3-part-177.wav\n"
     ]
    },
    {
     "name": "stderr",
     "output_type": "stream",
     "text": [
      " 92%|█████████▏| 119716/130662 [44:41<03:17, 55.50it/s]"
     ]
    },
    {
     "name": "stdout",
     "output_type": "stream",
     "text": [
      "skipped semisupervised-manglish/output-wav/Perspective-from-an-American-hustling-in-SG-_-Singaporean-Podcast-#5-_-Peter-Lam-5t_yyrP2OdI.mp3-part-76.wav\n"
     ]
    },
    {
     "name": "stderr",
     "output_type": "stream",
     "text": [
      " 92%|█████████▏| 119775/130662 [44:42<02:47, 64.86it/s]"
     ]
    },
    {
     "name": "stdout",
     "output_type": "stream",
     "text": [
      "skipped semisupervised-manglish/output-wav/The-Fashion-Weak-Podcast-Ep-40---tdcjTfzYSbk.mp3-part-734.wav\n"
     ]
    },
    {
     "name": "stderr",
     "output_type": "stream",
     "text": [
      " 92%|█████████▏| 119826/130662 [44:43<03:00, 60.06it/s]"
     ]
    },
    {
     "name": "stdout",
     "output_type": "stream",
     "text": [
      "skipped semisupervised-manglish/output-wav/Skin-Care-Routines,-Death,-Life-Purpose-and-More-_-Singaporean-Trio-Podcast-#2-6yW185RJkGw.mp3-part-318.wav\n"
     ]
    },
    {
     "name": "stderr",
     "output_type": "stream",
     "text": [
      " 92%|█████████▏| 119882/130662 [44:44<04:05, 43.84it/s]"
     ]
    },
    {
     "name": "stdout",
     "output_type": "stream",
     "text": [
      "skipped semisupervised-manglish/output-wav/The-Fashion-Weak-Podcast-EP-36---Why-guys-REALLY-go-for-spin-class-with-Oxygen-Cycle-RqG0tHR9D1g.mp3-part-206.wav\n",
      "skipped semisupervised-manglish/output-wav/Mamak-Sessions-Podcast---How-Dean-Lewis-became-who-he-is-today-HkOQy1Nxpis.mp3-part-169.wav\n"
     ]
    },
    {
     "name": "stderr",
     "output_type": "stream",
     "text": [
      " 92%|█████████▏| 119905/130662 [44:44<03:07, 57.32it/s]"
     ]
    },
    {
     "name": "stdout",
     "output_type": "stream",
     "text": [
      "skipped semisupervised-manglish/output-wav/The-Fashion-Weak-Podcast-Ep-26---Chinese-New-Year-with-Stand-Up-Comedian-_-Fashionista-Kuah-Jenhan-Yv7uONh96tc.mp3-part-629.wav\n"
     ]
    },
    {
     "name": "stderr",
     "output_type": "stream",
     "text": [
      " 92%|█████████▏| 119928/130662 [44:45<02:41, 66.36it/s]"
     ]
    },
    {
     "name": "stdout",
     "output_type": "stream",
     "text": [
      "skipped semisupervised-manglish/output-wav/Ghost-Stories-From-Our-Childhood!-_-The-Thirsty-Sisters-#23-Hioy9UvH4yE.mp3-part-65.wav\n",
      "skipped semisupervised-manglish/output-wav/The-Fashion-Weak-Podcast-Ep-39---Talking-Turn-On's-and-Fashion-Bulk-Buy-Deals-With-Tata-Wanqian-WSVo-qvu1GQ.mp3-part-76.wav\n"
     ]
    },
    {
     "name": "stderr",
     "output_type": "stream",
     "text": [
      " 92%|█████████▏| 119964/130662 [44:45<02:42, 65.72it/s]"
     ]
    },
    {
     "name": "stdout",
     "output_type": "stream",
     "text": [
      "skipped semisupervised-manglish/output-wav/The-Fashion-Weak-Podcast-Ep-32---Getting-Surprised-Reading-Melissa-Campbell's-(@heymelbelle)-IG-DMs-mJuKUwFpDgI.mp3-part-755.wav\n"
     ]
    },
    {
     "name": "stderr",
     "output_type": "stream",
     "text": [
      " 92%|█████████▏| 120008/130662 [44:46<02:54, 60.93it/s]"
     ]
    },
    {
     "name": "stdout",
     "output_type": "stream",
     "text": [
      "skipped semisupervised-manglish/output-wav/Skin-Care-Routines,-Death,-Life-Purpose-and-More-_-Singaporean-Trio-Podcast-#2-6yW185RJkGw.mp3-part-315.wav\n",
      "skipped semisupervised-manglish/output-wav/Mamak-Sessions---Airing-Dirty-Laundry-Online-and-Social-Justice-Warriors-FFtFXiIgsyk.mp3-part-122.wav\n",
      "skipped semisupervised-manglish/output-wav/Mamak-Sessions---Getting-Married-in-Vegas,-and-Sugar-Babies-ft.-Dennis-Yin-Cq6Yjwsu63U.mp3-part-239.wav\n"
     ]
    },
    {
     "name": "stderr",
     "output_type": "stream",
     "text": [
      " 92%|█████████▏| 120072/130662 [44:47<03:37, 48.64it/s]"
     ]
    },
    {
     "name": "stdout",
     "output_type": "stream",
     "text": [
      "skipped semisupervised-manglish/output-wav/Mamak-Sessions---The-Miss-World-Crown-is-more-than-$4,000,000!-PazCOj1nb3c.mp3-part-368.wav\n"
     ]
    },
    {
     "name": "stderr",
     "output_type": "stream",
     "text": [
      " 92%|█████████▏| 120101/130662 [44:48<02:51, 61.57it/s]"
     ]
    },
    {
     "name": "stdout",
     "output_type": "stream",
     "text": [
      "skipped semisupervised-manglish/output-wav/Conversations-With-A-Cancer-Survivor-ft-Jared-Lee-L2W4inT6j3c.mp3-part-11.wav\n"
     ]
    },
    {
     "name": "stderr",
     "output_type": "stream",
     "text": [
      " 92%|█████████▏| 120187/130662 [44:49<02:47, 62.41it/s]"
     ]
    },
    {
     "name": "stdout",
     "output_type": "stream",
     "text": [
      "skipped semisupervised-manglish/output-wav/The-Fashion-Weak-Podcast-Ep-40---tdcjTfzYSbk.mp3-part-142.wav\n",
      "skipped semisupervised-manglish/output-wav/Mamak-Sessions---From-Giving-Up,-To-Getting-A-NETFLIX-Special-Q54z0mutz5Q.mp3-part-428.wav\n"
     ]
    },
    {
     "name": "stderr",
     "output_type": "stream",
     "text": [
      " 92%|█████████▏| 120211/130662 [44:50<02:32, 68.61it/s]"
     ]
    },
    {
     "name": "stdout",
     "output_type": "stream",
     "text": [
      "skipped semisupervised-manglish/output-wav/The-Fashion-Weak-Podcast-Ep-32---Getting-Surprised-Reading-Melissa-Campbell's-(@heymelbelle)-IG-DMs-mJuKUwFpDgI.mp3-part-256.wav\n"
     ]
    },
    {
     "name": "stderr",
     "output_type": "stream",
     "text": [
      " 92%|█████████▏| 120241/130662 [44:50<02:37, 66.34it/s]"
     ]
    },
    {
     "name": "stdout",
     "output_type": "stream",
     "text": [
      "skipped semisupervised-manglish/output-wav/The-Fashion-Weak-Podcast-Ep-21---Suitmaker-To-The-Stars,-Shahrin-Bahar-aka-@sbahar.my-Pkv6d83oe8s.mp3-part-217.wav\n",
      "skipped semisupervised-manglish/output-wav/Mamak-Sessions-Ep9---Sibling-Rivalry-ft-Julian-Yee-670FyeJhnps.mp3-part-194.wav\n"
     ]
    },
    {
     "name": "stderr",
     "output_type": "stream",
     "text": [
      " 92%|█████████▏| 120461/130662 [44:54<02:53, 58.78it/s]"
     ]
    },
    {
     "name": "stdout",
     "output_type": "stream",
     "text": [
      "skipped semisupervised-manglish/output-wav/The-Fashion-Weak-Podcast-Ep-33---Lingerie-&-Bikini-Talk-With-Talitha-Tan-(@talithabe)-_7Un0q6a9zg.mp3-part-252.wav\n"
     ]
    },
    {
     "name": "stderr",
     "output_type": "stream",
     "text": [
      " 92%|█████████▏| 120511/130662 [44:55<02:36, 64.83it/s]"
     ]
    },
    {
     "name": "stdout",
     "output_type": "stream",
     "text": [
      "skipped semisupervised-manglish/output-wav/Mamak-Sessions---The-Miss-World-Crown-is-more-than-$4,000,000!-PazCOj1nb3c.mp3-part-134.wav\n"
     ]
    },
    {
     "name": "stderr",
     "output_type": "stream",
     "text": [
      " 92%|█████████▏| 120553/130662 [44:56<02:45, 60.95it/s]"
     ]
    },
    {
     "name": "stdout",
     "output_type": "stream",
     "text": [
      "skipped semisupervised-manglish/output-wav/Conversations-with-a-Young-Singaporean-CEO--Gao-Fei,-CEO-of-LearnSeeker-_-Singaporean-Podcast-#13--b9YHjghfd2E.mp3-part-530.wav\n",
      "skipped semisupervised-manglish/output-wav/The-Fashion-Weak-Podcast-Ep24---Penang-Boys-@tunway-瘦虎-&-@Shawnduabui-肥龍-Talk-Zap-Fan-&-Sneakers-dykz_vuzJh0.mp3-part-579.wav\n"
     ]
    },
    {
     "name": "stderr",
     "output_type": "stream",
     "text": [
      " 92%|█████████▏| 120577/130662 [44:56<02:28, 67.70it/s]"
     ]
    },
    {
     "name": "stdout",
     "output_type": "stream",
     "text": [
      "skipped semisupervised-manglish/output-wav/The-Fashion-Weak-Podcast-Ep-32---Getting-Surprised-Reading-Melissa-Campbell's-(@heymelbelle)-IG-DMs-mJuKUwFpDgI.mp3-part-697.wav\n",
      "skipped semisupervised-manglish/output-wav/Mamak-Sessions-Podcast---How-Dean-Lewis-became-who-he-is-today-HkOQy1Nxpis.mp3-part-64.wav\n",
      "skipped semisupervised-manglish/output-wav/The-Fashion-Weak-Podcast-Ep-46---Premium-Thirst-Trap-Tips-With-Michelle-Lee-(@mich8lee)-MCHDyLJDJrg.mp3-part-702.wav\n"
     ]
    },
    {
     "name": "stderr",
     "output_type": "stream",
     "text": [
      " 92%|█████████▏| 120679/130662 [44:58<02:29, 66.86it/s]"
     ]
    },
    {
     "name": "stdout",
     "output_type": "stream",
     "text": [
      "skipped semisupervised-manglish/output-wav/Mamak-Sessions---How-Do-You-Deal-With-Rumors-ft-Elizabeth-Tan-Rkvd5p3I11M.mp3-part-467.wav\n"
     ]
    },
    {
     "name": "stderr",
     "output_type": "stream",
     "text": [
      " 92%|█████████▏| 120721/130662 [44:59<03:25, 48.31it/s]"
     ]
    },
    {
     "name": "stdout",
     "output_type": "stream",
     "text": [
      "skipped semisupervised-manglish/output-wav/Overcoming-Depression-&-Redefining-What-Failure-Means-to-Youths_-Singaporean-Podcast-#10-_-Kevin-Wee-rjjK4aAbKnw.mp3-part-8.wav\n"
     ]
    },
    {
     "name": "stderr",
     "output_type": "stream",
     "text": [
      " 92%|█████████▏| 120758/130662 [44:59<02:35, 63.82it/s]"
     ]
    },
    {
     "name": "stdout",
     "output_type": "stream",
     "text": [
      "skipped semisupervised-manglish/output-wav/The-Fashion-Weak-Podcast-Ep-32---Getting-Surprised-Reading-Melissa-Campbell's-(@heymelbelle)-IG-DMs-mJuKUwFpDgI.mp3-part-494.wav\n",
      "skipped semisupervised-manglish/output-wav/Bend-Over!-Or-Pay-Sit-Forward!-We-Create-Our-Own-Movements!-_-The-Thirsty-Sisters-#3-ekKcn3QCU5E.mp3-part-362.wav\n"
     ]
    },
    {
     "name": "stderr",
     "output_type": "stream",
     "text": [
      " 92%|█████████▏| 120793/130662 [45:00<02:32, 64.57it/s]"
     ]
    },
    {
     "name": "stdout",
     "output_type": "stream",
     "text": [
      "skipped semisupervised-manglish/output-wav/Mamak-Sessions-Podcast---Committing-Suicide,-Mental-Health-And-How-To-Seek-Help-EHlGktcfDZc.mp3-part-480.wav\n"
     ]
    },
    {
     "name": "stderr",
     "output_type": "stream",
     "text": [
      " 92%|█████████▏| 120837/130662 [45:01<02:41, 60.84it/s]"
     ]
    },
    {
     "name": "stdout",
     "output_type": "stream",
     "text": [
      "skipped semisupervised-manglish/output-wav/The-Fashion-Weak-Podcast-Ep-18---Putting-The-Deep-In-Deepavali-With-Keren-Bala-lvIbeZ3qgsU.mp3-part-78.wav\n"
     ]
    },
    {
     "name": "stderr",
     "output_type": "stream",
     "text": [
      " 93%|█████████▎| 120866/130662 [45:01<02:35, 62.92it/s]"
     ]
    },
    {
     "name": "stdout",
     "output_type": "stream",
     "text": [
      "skipped semisupervised-manglish/output-wav/The-Fashion-Weak-Podcast-Ep-46---Premium-Thirst-Trap-Tips-With-Michelle-Lee-(@mich8lee)-MCHDyLJDJrg.mp3-part-631.wav\n"
     ]
    },
    {
     "name": "stderr",
     "output_type": "stream",
     "text": [
      " 93%|█████████▎| 120908/130662 [45:02<03:21, 48.40it/s]"
     ]
    },
    {
     "name": "stdout",
     "output_type": "stream",
     "text": [
      "skipped semisupervised-manglish/output-wav/Blessing-The-Pod,-Calling-Mofo's-OUT!-with-@soimjenn---The-Fashion-Weak-Podcast-Episode-7-xsjayMqoC0Y.mp3-part-202.wav\n"
     ]
    },
    {
     "name": "stderr",
     "output_type": "stream",
     "text": [
      " 93%|█████████▎| 120958/130662 [45:03<02:31, 64.08it/s]"
     ]
    },
    {
     "name": "stdout",
     "output_type": "stream",
     "text": [
      "skipped semisupervised-manglish/output-wav/What-is-a-Friend-_-Singaporean-Trio-Podcast-#01-Yzagxa4bn-M.mp3-part-113.wav\n"
     ]
    },
    {
     "name": "stderr",
     "output_type": "stream",
     "text": [
      " 93%|█████████▎| 121014/130662 [45:04<02:54, 55.18it/s]"
     ]
    },
    {
     "name": "stdout",
     "output_type": "stream",
     "text": [
      "skipped semisupervised-manglish/output-wav/Mamak-Sessions-Podcast---How-Dean-Lewis-became-who-he-is-today-HkOQy1Nxpis.mp3-part-61.wav\n"
     ]
    },
    {
     "name": "stderr",
     "output_type": "stream",
     "text": [
      " 93%|█████████▎| 121085/130662 [45:05<03:19, 47.91it/s]"
     ]
    },
    {
     "name": "stdout",
     "output_type": "stream",
     "text": [
      "skipped semisupervised-manglish/output-wav/Mamak-Sessions-Ep10---Datuk-Nicol-David-is-RETIRING!-n3AR3nQEc7Y.mp3-part-372.wav\n"
     ]
    },
    {
     "name": "stderr",
     "output_type": "stream",
     "text": [
      " 93%|█████████▎| 121129/130662 [45:06<02:21, 67.14it/s]"
     ]
    },
    {
     "name": "stdout",
     "output_type": "stream",
     "text": [
      "skipped semisupervised-manglish/output-wav/Mamak-Sessions---Nasi-Lemak-Sneakers-zLEmAKdG9vY.mp3-part-193.wav\n"
     ]
    },
    {
     "name": "stderr",
     "output_type": "stream",
     "text": [
      " 93%|█████████▎| 121214/130662 [45:07<02:26, 64.62it/s]"
     ]
    },
    {
     "name": "stdout",
     "output_type": "stream",
     "text": [
      "skipped semisupervised-manglish/output-wav/Mamak-Sessions-Ep8---Man-Sues-Colleague-for-$1.8-Million-for-Farting-OWbPqC2i71c.mp3-part-267.wav\n"
     ]
    },
    {
     "name": "stderr",
     "output_type": "stream",
     "text": [
      " 93%|█████████▎| 121287/130662 [45:09<02:37, 59.55it/s]"
     ]
    },
    {
     "name": "stdout",
     "output_type": "stream",
     "text": [
      "skipped semisupervised-manglish/output-wav/Is-Mulan-Really-That-Bad-_-IMO-Ep.32-rMpf5j7683M.mp3-part-470.wav\n"
     ]
    },
    {
     "name": "stderr",
     "output_type": "stream",
     "text": [
      " 93%|█████████▎| 121309/130662 [45:09<02:29, 62.66it/s]"
     ]
    },
    {
     "name": "stdout",
     "output_type": "stream",
     "text": [
      "skipped semisupervised-manglish/output-wav/Dance-Moves-To-Pick-Up-Girls-At-The-Club-With-Adidas-Creator-Maybelline-Wong-(@definitelyMayb_)-vRnkHzyyBc4.mp3-part-66.wav\n"
     ]
    },
    {
     "name": "stderr",
     "output_type": "stream",
     "text": [
      " 93%|█████████▎| 121571/130662 [45:14<02:35, 58.42it/s]"
     ]
    },
    {
     "name": "stdout",
     "output_type": "stream",
     "text": [
      "skipped semisupervised-manglish/output-wav/The-Fashion-Weak-Podcast-EP-27----Peter-Davis-talks-cars,-mixed-rice-and-some-fashion.-rxmMRAzLRJ0.mp3-part-609.wav\n",
      "skipped semisupervised-manglish/output-wav/Mamak-Sessions-Ep6---Names-People-Always-Mispronounce-&-Facebook-Is-A-Spy-8LuihYdx0FQ.mp3-part-416.wav\n"
     ]
    },
    {
     "name": "stderr",
     "output_type": "stream",
     "text": [
      " 93%|█████████▎| 121609/130662 [45:15<02:14, 67.50it/s]"
     ]
    },
    {
     "name": "stdout",
     "output_type": "stream",
     "text": [
      "skipped semisupervised-manglish/output-wav/Mamak-Sessions-Ep10---Datuk-Nicol-David-is-RETIRING!-n3AR3nQEc7Y.mp3-part-210.wav\n",
      "skipped semisupervised-manglish/output-wav/Mamak-Sessions---The-Miss-World-Crown-is-more-than-$4,000,000!-PazCOj1nb3c.mp3-part-33.wav\n"
     ]
    },
    {
     "name": "stderr",
     "output_type": "stream",
     "text": [
      " 93%|█████████▎| 121625/130662 [45:15<03:14, 46.54it/s]"
     ]
    },
    {
     "name": "stdout",
     "output_type": "stream",
     "text": [
      "skipped semisupervised-manglish/output-wav/Amander-Reveals-Why-She-Left-Titan---The-Team-Titan-Show-7byI9tIJeRk.mp3-part-332.wav\n"
     ]
    },
    {
     "name": "stderr",
     "output_type": "stream",
     "text": [
      " 93%|█████████▎| 121719/130662 [45:17<03:01, 49.40it/s]"
     ]
    },
    {
     "name": "stdout",
     "output_type": "stream",
     "text": [
      "skipped semisupervised-manglish/output-wav/Mamak-Sessions---My-Asian-Parents-Were-Initially-Ashamed-Of-My-Career-NqCp8Csl7PE.mp3-part-304.wav\n",
      "skipped semisupervised-manglish/output-wav/The-Fashion-Weak-Podcast-Ep24---Penang-Boys-@tunway-瘦虎-&-@Shawnduabui-肥龍-Talk-Zap-Fan-&-Sneakers-dykz_vuzJh0.mp3-part-215.wav\n"
     ]
    },
    {
     "name": "stderr",
     "output_type": "stream",
     "text": [
      " 93%|█████████▎| 121763/130662 [45:17<02:24, 61.52it/s]"
     ]
    },
    {
     "name": "stdout",
     "output_type": "stream",
     "text": [
      "skipped semisupervised-manglish/output-wav/Mamak-Sessions---Airing-Dirty-Laundry-Online-and-Social-Justice-Warriors-FFtFXiIgsyk.mp3-part-70.wav\n",
      "skipped semisupervised-manglish/output-wav/Mamak-Sessions---Nasi-Lemak-Sneakers-zLEmAKdG9vY.mp3-part-435.wav\n"
     ]
    },
    {
     "name": "stderr",
     "output_type": "stream",
     "text": [
      " 93%|█████████▎| 121798/130662 [45:18<02:18, 63.92it/s]"
     ]
    },
    {
     "name": "stdout",
     "output_type": "stream",
     "text": [
      "skipped semisupervised-manglish/output-wav/Grown-Up-Flex-With-YouTube-Superstar-@JinnyBoy---The-Fashion-Weak-Podcast-Episode-9-7wiSVCBFmFc.mp3-part-355.wav\n"
     ]
    },
    {
     "name": "stderr",
     "output_type": "stream",
     "text": [
      " 93%|█████████▎| 121914/130662 [45:20<02:15, 64.67it/s]"
     ]
    },
    {
     "name": "stdout",
     "output_type": "stream",
     "text": [
      "skipped semisupervised-manglish/output-wav/The-Fashion-Weak-Podcast-Ep-39---Talking-Turn-On's-and-Fashion-Bulk-Buy-Deals-With-Tata-Wanqian-WSVo-qvu1GQ.mp3-part-783.wav\n"
     ]
    },
    {
     "name": "stderr",
     "output_type": "stream",
     "text": [
      " 93%|█████████▎| 121977/130662 [45:21<02:15, 64.08it/s]"
     ]
    },
    {
     "name": "stdout",
     "output_type": "stream",
     "text": [
      "skipped semisupervised-manglish/output-wav/The-Fashion-Weak-Podcast-Ep-19---Butt-Stuff-&-Actual-Fashion-With-Zane-Gan-jhLgzHQnAHU.mp3-part-271.wav\n"
     ]
    },
    {
     "name": "stderr",
     "output_type": "stream",
     "text": [
      " 93%|█████████▎| 122083/130662 [45:23<02:13, 64.05it/s]"
     ]
    },
    {
     "name": "stdout",
     "output_type": "stream",
     "text": [
      "skipped semisupervised-manglish/output-wav/Mamak-Sessions---Blaming-Yourself-For-Your-Parents'-Divorce,-And-How-Our-Parents-Punish-Us-x8Gl_zIC9CQ.mp3-part-466.wav\n"
     ]
    },
    {
     "name": "stderr",
     "output_type": "stream",
     "text": [
      " 93%|█████████▎| 122159/130662 [45:25<02:11, 64.76it/s]"
     ]
    },
    {
     "name": "stdout",
     "output_type": "stream",
     "text": [
      "skipped semisupervised-manglish/output-wav/The-Fashion-Weak-Podcast-EP-36---Why-guys-REALLY-go-for-spin-class-with-Oxygen-Cycle-RqG0tHR9D1g.mp3-part-414.wav\n",
      "skipped semisupervised-manglish/output-wav/Mamak-Sessions---We-May-Not-Always-End-Up-Doing-What-We-Thought-We-Would..And-That's-Not-A-Bad-Thing-IAeN0jG9Hwc.mp3-part-272.wav\n"
     ]
    },
    {
     "name": "stderr",
     "output_type": "stream",
     "text": [
      " 94%|█████████▎| 122180/130662 [45:25<02:15, 62.73it/s]"
     ]
    },
    {
     "name": "stdout",
     "output_type": "stream",
     "text": [
      "skipped semisupervised-manglish/output-wav/8-Wheels-Vs-4-Wheels-With-Sukeats-From-Wheel-Love---The-Fashion-Weak-Podcast-ep-12-fgaCmnMdZ0c.mp3-part-113.wav\n"
     ]
    },
    {
     "name": "stderr",
     "output_type": "stream",
     "text": [
      " 94%|█████████▎| 122323/130662 [45:28<02:22, 58.64it/s]"
     ]
    },
    {
     "name": "stdout",
     "output_type": "stream",
     "text": [
      "skipped semisupervised-manglish/output-wav/@Juanitadr-shows-us-what-Arnold's-Tongue-Can-Do---The-Fashion-Weak-Podcast-Episode-10-N5EfPvQKW90.mp3-part-331.wav\n",
      "skipped semisupervised-manglish/output-wav/Mamak-Sessions---Getting-Married-in-Vegas,-and-Sugar-Babies-ft.-Dennis-Yin-Cq6Yjwsu63U.mp3-part-245.wav\n"
     ]
    },
    {
     "name": "stderr",
     "output_type": "stream",
     "text": [
      " 94%|█████████▎| 122359/130662 [45:28<02:11, 63.03it/s]"
     ]
    },
    {
     "name": "stdout",
     "output_type": "stream",
     "text": [
      "skipped semisupervised-manglish/output-wav/The-Fashion-Weak-Podcast-Ep-29---Valentines-Day-With-Becca-Lee-and-Leonard-Chua-UWm1ESejkzs.mp3-part-103.wav\n"
     ]
    },
    {
     "name": "stderr",
     "output_type": "stream",
     "text": [
      " 94%|█████████▎| 122410/130662 [45:29<02:10, 63.07it/s]"
     ]
    },
    {
     "name": "stdout",
     "output_type": "stream",
     "text": [
      "skipped semisupervised-manglish/output-wav/The-Fashion-Weak-Podcast-Ep-39---Talking-Turn-On's-and-Fashion-Bulk-Buy-Deals-With-Tata-Wanqian-WSVo-qvu1GQ.mp3-part-278.wav\n"
     ]
    },
    {
     "name": "stderr",
     "output_type": "stream",
     "text": [
      " 94%|█████████▎| 122432/130662 [45:30<02:06, 64.98it/s]"
     ]
    },
    {
     "name": "stdout",
     "output_type": "stream",
     "text": [
      "skipped semisupervised-manglish/output-wav/The-Fashion-Weak-Podcast-EP-27----Peter-Davis-talks-cars,-mixed-rice-and-some-fashion.-rxmMRAzLRJ0.mp3-part-493.wav\n"
     ]
    },
    {
     "name": "stderr",
     "output_type": "stream",
     "text": [
      " 94%|█████████▍| 122539/130662 [45:32<02:11, 61.97it/s]"
     ]
    },
    {
     "name": "stdout",
     "output_type": "stream",
     "text": [
      "skipped semisupervised-manglish/output-wav/Relatives-Ruin-My-Wedding!-_-The-Thirsty-Sisters-#22-98CiTQQtqak.mp3-part-246.wav\n"
     ]
    },
    {
     "name": "stderr",
     "output_type": "stream",
     "text": [
      " 94%|█████████▍| 122560/130662 [45:32<02:41, 50.32it/s]"
     ]
    },
    {
     "name": "stdout",
     "output_type": "stream",
     "text": [
      "skipped semisupervised-manglish/output-wav/Mamak-Sessions---The-Man-Behind-The-Six-Pack,-Jordan-Yeoh-jcvIfHTy1H0.mp3-part-230.wav\n"
     ]
    },
    {
     "name": "stderr",
     "output_type": "stream",
     "text": [
      " 94%|█████████▍| 122575/130662 [45:32<02:19, 57.78it/s]"
     ]
    },
    {
     "name": "stdout",
     "output_type": "stream",
     "text": [
      "skipped semisupervised-manglish/output-wav/The-Fashion-Weak-Podcast-Ep-22---Why-Fashion-School-Didn't-Work-Out-For-Zee-Avi-woDYSE37_rI.mp3-part-157.wav\n"
     ]
    },
    {
     "name": "stderr",
     "output_type": "stream",
     "text": [
      " 94%|█████████▍| 122640/130662 [45:34<03:06, 42.97it/s]"
     ]
    },
    {
     "name": "stdout",
     "output_type": "stream",
     "text": [
      "skipped semisupervised-manglish/output-wav/If-the-girl-is-not-interested,-go-for-her-Mom.-Or-her-Aunt---The-Fashion-Weak-Podcast-Ep6-aa5r9pws0AI.mp3-part-25.wav\n"
     ]
    },
    {
     "name": "stderr",
     "output_type": "stream",
     "text": [
      " 94%|█████████▍| 122662/130662 [45:34<02:23, 55.60it/s]"
     ]
    },
    {
     "name": "stdout",
     "output_type": "stream",
     "text": [
      "skipped semisupervised-manglish/output-wav/The-Fashion-Weak-Podcast-EP-25---Don't-Mess-With-@zamaeraaa's-Hello-Kitty-Cup-H4M_ZUDAT3k.mp3-part-386.wav\n"
     ]
    },
    {
     "name": "stderr",
     "output_type": "stream",
     "text": [
      " 94%|█████████▍| 122685/130662 [45:34<02:06, 63.04it/s]"
     ]
    },
    {
     "name": "stdout",
     "output_type": "stream",
     "text": [
      "skipped semisupervised-manglish/output-wav/Mamak-Sessions---From-A-Transport-Assistant-to-a-Multi-Award-Winning-Film-Director-r6f3OoHVkgU.mp3-part-243.wav\n"
     ]
    },
    {
     "name": "stderr",
     "output_type": "stream",
     "text": [
      " 94%|█████████▍| 122758/130662 [45:36<02:16, 57.70it/s]"
     ]
    },
    {
     "name": "stdout",
     "output_type": "stream",
     "text": [
      "skipped semisupervised-manglish/output-wav/The-Fashion-Weak-Podcast-Ep-32---Getting-Surprised-Reading-Melissa-Campbell's-(@heymelbelle)-IG-DMs-mJuKUwFpDgI.mp3-part-378.wav\n"
     ]
    },
    {
     "name": "stderr",
     "output_type": "stream",
     "text": [
      " 94%|█████████▍| 122810/130662 [45:36<01:56, 67.23it/s]"
     ]
    },
    {
     "name": "stdout",
     "output_type": "stream",
     "text": [
      "skipped semisupervised-manglish/output-wav/Ben-Kheng-Reflects-On-The-Sam-Willows,-Anxiety,-And-Religion-_-HTHT---Ben-Kheng-X4QapKCCneQ.mp3-part-56.wav\n"
     ]
    },
    {
     "name": "stderr",
     "output_type": "stream",
     "text": [
      " 94%|█████████▍| 122880/130662 [45:38<02:08, 60.62it/s]"
     ]
    },
    {
     "name": "stdout",
     "output_type": "stream",
     "text": [
      "skipped semisupervised-manglish/output-wav/The-Fashion-Weak-Podcast-Ep-19---Butt-Stuff-&-Actual-Fashion-With-Zane-Gan-jhLgzHQnAHU.mp3-part-327.wav\n"
     ]
    },
    {
     "name": "stderr",
     "output_type": "stream",
     "text": [
      " 94%|█████████▍| 122901/130662 [45:38<02:00, 64.32it/s]"
     ]
    },
    {
     "name": "stdout",
     "output_type": "stream",
     "text": [
      "skipped semisupervised-manglish/output-wav/Mamak-Sessions---Nasi-Lemak-Sneakers-zLEmAKdG9vY.mp3-part-327.wav\n",
      "skipped semisupervised-manglish/output-wav/Become-a-Software-Developer-in-90-days-and-Running-His-Own-Company-_-Singaporean-Podcast-#8-_-Haris-HRd3RMQtkDs.mp3-part-408.wav\n"
     ]
    },
    {
     "name": "stderr",
     "output_type": "stream",
     "text": [
      " 94%|█████████▍| 122938/130662 [45:39<02:09, 59.68it/s]"
     ]
    },
    {
     "name": "stdout",
     "output_type": "stream",
     "text": [
      "skipped semisupervised-manglish/output-wav/Skin-Care-Routines,-Death,-Life-Purpose-and-More-_-Singaporean-Trio-Podcast-#2-6yW185RJkGw.mp3-part-202.wav\n",
      "skipped semisupervised-manglish/output-wav/The-Fashion-Weak-Podcast-Ep-29---Valentines-Day-With-Becca-Lee-and-Leonard-Chua-UWm1ESejkzs.mp3-part-62.wav\n"
     ]
    },
    {
     "name": "stderr",
     "output_type": "stream",
     "text": [
      " 94%|█████████▍| 123001/130662 [45:40<01:56, 65.86it/s]"
     ]
    },
    {
     "name": "stdout",
     "output_type": "stream",
     "text": [
      "skipped semisupervised-manglish/output-wav/The-Fashion-Weak-Podcast-Ep-46---Premium-Thirst-Trap-Tips-With-Michelle-Lee-(@mich8lee)-MCHDyLJDJrg.mp3-part-139.wav\n",
      "skipped semisupervised-manglish/output-wav/The-Fashion-Weak-Podcast-Ep-22---Why-Fashion-School-Didn't-Work-Out-For-Zee-Avi-woDYSE37_rI.mp3-part-370.wav\n"
     ]
    },
    {
     "name": "stderr",
     "output_type": "stream",
     "text": [
      " 94%|█████████▍| 123031/130662 [45:40<02:15, 56.36it/s]"
     ]
    },
    {
     "name": "stdout",
     "output_type": "stream",
     "text": [
      "skipped semisupervised-manglish/output-wav/Conversations-With-A-Cancer-Survivor-ft-Jared-Lee-L2W4inT6j3c.mp3-part-280.wav\n",
      "skipped semisupervised-manglish/output-wav/Bend-Over!-Or-Pay-Sit-Forward!-We-Create-Our-Own-Movements!-_-The-Thirsty-Sisters-#3-ekKcn3QCU5E.mp3-part-176.wav\n"
     ]
    },
    {
     "name": "stderr",
     "output_type": "stream",
     "text": [
      " 94%|█████████▍| 123068/130662 [45:41<01:53, 66.77it/s]"
     ]
    },
    {
     "name": "stdout",
     "output_type": "stream",
     "text": [
      "skipped semisupervised-manglish/output-wav/Priorities-as-University-Graduates-and-The-MALAYSIA-Hustle-_-Singaporean-Podcast-#12-_-Zhi-Rong-TYL7mmbpsbo.mp3-part-31.wav\n",
      "skipped semisupervised-manglish/output-wav/Mamak-Sessions---Getting-Married-in-Vegas,-and-Sugar-Babies-ft.-Dennis-Yin-Cq6Yjwsu63U.mp3-part-176.wav\n"
     ]
    },
    {
     "name": "stderr",
     "output_type": "stream",
     "text": [
      " 94%|█████████▍| 123189/130662 [45:43<01:52, 66.43it/s]"
     ]
    },
    {
     "name": "stdout",
     "output_type": "stream",
     "text": [
      "skipped semisupervised-manglish/output-wav/The-Fashion-Weak-Podcast-Ep-28-@dreamrocketeers-on-that-Rolex-you-should-cop-to-flex-on-poor-friends-shV1F1JlDzk.mp3-part-672.wav\n",
      "skipped semisupervised-manglish/output-wav/The-Fashion-Weak-Podcast-Ep-43---Thirst-Trapping-Simps-&-Loving-Your-Body-From-The-Outside-In-6R87P6YD2c4.mp3-part-323.wav\n"
     ]
    },
    {
     "name": "stderr",
     "output_type": "stream",
     "text": [
      " 94%|█████████▍| 123247/130662 [45:44<01:50, 67.28it/s]"
     ]
    },
    {
     "name": "stdout",
     "output_type": "stream",
     "text": [
      "skipped semisupervised-manglish/output-wav/Mamak-Sessions---Getting-Married-in-Vegas,-and-Sugar-Babies-ft.-Dennis-Yin-Cq6Yjwsu63U.mp3-part-193.wav\n"
     ]
    },
    {
     "name": "stderr",
     "output_type": "stream",
     "text": [
      " 94%|█████████▍| 123287/130662 [45:45<01:46, 69.11it/s]"
     ]
    },
    {
     "name": "stdout",
     "output_type": "stream",
     "text": [
      "skipped semisupervised-manglish/output-wav/Mamak-Sessions---Airing-Dirty-Laundry-Online-and-Social-Justice-Warriors-FFtFXiIgsyk.mp3-part-159.wav\n",
      "skipped semisupervised-manglish/output-wav/The-Fashion-Weak-Podcast-Ep-23---Alicia-Amin-On-Being-A-'Malay'-Model-In-2019-3pKA5NvTCOA.mp3-part-155.wav\n"
     ]
    },
    {
     "name": "stderr",
     "output_type": "stream",
     "text": [
      " 94%|█████████▍| 123368/130662 [45:46<01:44, 69.51it/s]"
     ]
    },
    {
     "name": "stdout",
     "output_type": "stream",
     "text": [
      "skipped semisupervised-manglish/output-wav/Mamak-Sessions---How-I-Got-Quarantined-Because-Of-Covid-19-Feat.-Mark-O'Dea-5zAsyNKfzps.mp3-part-256.wav\n"
     ]
    },
    {
     "name": "stderr",
     "output_type": "stream",
     "text": [
      " 94%|█████████▍| 123423/130662 [45:47<02:06, 57.40it/s]"
     ]
    },
    {
     "name": "stdout",
     "output_type": "stream",
     "text": [
      "skipped semisupervised-manglish/output-wav/Mamak-Sessions-Ep6---Names-People-Always-Mispronounce-&-Facebook-Is-A-Spy-8LuihYdx0FQ.mp3-part-81.wav\n",
      "skipped semisupervised-manglish/output-wav/Mamak-Sessions---How-Do-You-Deal-With-Rumors-ft-Elizabeth-Tan-Rkvd5p3I11M.mp3-part-16.wav\n"
     ]
    },
    {
     "name": "stderr",
     "output_type": "stream",
     "text": [
      " 95%|█████████▍| 123550/130662 [45:49<01:51, 63.68it/s]"
     ]
    },
    {
     "name": "stdout",
     "output_type": "stream",
     "text": [
      "skipped semisupervised-manglish/output-wav/The-Fashion-Weak-Podcast-Ep-43---Thirst-Trapping-Simps-&-Loving-Your-Body-From-The-Outside-In-6R87P6YD2c4.mp3-part-278.wav\n"
     ]
    },
    {
     "name": "stderr",
     "output_type": "stream",
     "text": [
      " 95%|█████████▍| 123584/130662 [45:50<02:16, 51.69it/s]"
     ]
    },
    {
     "name": "stdout",
     "output_type": "stream",
     "text": [
      "skipped semisupervised-manglish/output-wav/The-Fashion-Weak-Podcast-EP-27----Peter-Davis-talks-cars,-mixed-rice-and-some-fashion.-rxmMRAzLRJ0.mp3-part-150.wav\n",
      "skipped semisupervised-manglish/output-wav/Mamak-Sessions-Podcast---Committing-Suicide,-Mental-Health-And-How-To-Seek-Help-EHlGktcfDZc.mp3-part-4.wav\n",
      "skipped semisupervised-manglish/output-wav/The-Fashion-Weak-Podcast-Ep-40---tdcjTfzYSbk.mp3-part-980.wav\n"
     ]
    },
    {
     "name": "stderr",
     "output_type": "stream",
     "text": [
      " 95%|█████████▍| 123673/130662 [45:52<02:19, 50.09it/s]"
     ]
    },
    {
     "name": "stdout",
     "output_type": "stream",
     "text": [
      "skipped semisupervised-manglish/output-wav/The-Fashion-Weak-Podcast-Ep-39---Talking-Turn-On's-and-Fashion-Bulk-Buy-Deals-With-Tata-Wanqian-WSVo-qvu1GQ.mp3-part-217.wav\n"
     ]
    },
    {
     "name": "stderr",
     "output_type": "stream",
     "text": [
      " 95%|█████████▍| 123703/130662 [45:52<01:52, 61.97it/s]"
     ]
    },
    {
     "name": "stdout",
     "output_type": "stream",
     "text": [
      "skipped semisupervised-manglish/output-wav/The-Fashion-Weak-Podcast-Ep-33---Lingerie-&-Bikini-Talk-With-Talitha-Tan-(@talithabe)-_7Un0q6a9zg.mp3-part-586.wav\n"
     ]
    },
    {
     "name": "stderr",
     "output_type": "stream",
     "text": [
      " 95%|█████████▍| 123725/130662 [45:53<01:45, 65.62it/s]"
     ]
    },
    {
     "name": "stdout",
     "output_type": "stream",
     "text": [
      "skipped semisupervised-manglish/output-wav/Mamak-Sessions---Blaming-Yourself-For-Your-Parents'-Divorce,-And-How-Our-Parents-Punish-Us-x8Gl_zIC9CQ.mp3-part-158.wav\n"
     ]
    },
    {
     "name": "stderr",
     "output_type": "stream",
     "text": [
      " 95%|█████████▍| 123835/130662 [45:55<01:44, 65.04it/s]"
     ]
    },
    {
     "name": "stdout",
     "output_type": "stream",
     "text": [
      "skipped semisupervised-manglish/output-wav/The-Truth-Behind-Our-Relationship!-Are-We-Really-Sisters-_-The-Thirsty-Sisters-#10-rkwCky94IhQ.mp3-part-178.wav\n",
      "skipped semisupervised-manglish/output-wav/Mamak-Sessions---From-A-Transport-Assistant-to-a-Multi-Award-Winning-Film-Director-r6f3OoHVkgU.mp3-part-358.wav\n"
     ]
    },
    {
     "name": "stderr",
     "output_type": "stream",
     "text": [
      " 95%|█████████▍| 123898/130662 [45:56<01:44, 64.93it/s]"
     ]
    },
    {
     "name": "stdout",
     "output_type": "stream",
     "text": [
      "skipped semisupervised-manglish/output-wav/The-Fashion-Weak-Podcast-Ep-22---Why-Fashion-School-Didn't-Work-Out-For-Zee-Avi-woDYSE37_rI.mp3-part-225.wav\n"
     ]
    },
    {
     "name": "stderr",
     "output_type": "stream",
     "text": [
      " 95%|█████████▍| 123927/130662 [45:56<01:45, 63.62it/s]"
     ]
    },
    {
     "name": "stdout",
     "output_type": "stream",
     "text": [
      "skipped semisupervised-manglish/output-wav/The-Fashion-Weak-Podcast-EP16---Podcast-Wars-With-The-From-The-Thread-Boys-7dPzh9PpLs8.mp3-part-467.wav\n"
     ]
    },
    {
     "name": "stderr",
     "output_type": "stream",
     "text": [
      " 95%|█████████▍| 123948/130662 [45:57<02:15, 49.52it/s]"
     ]
    },
    {
     "name": "stdout",
     "output_type": "stream",
     "text": [
      "skipped semisupervised-manglish/output-wav/Mamak-Sessions-Ep6---Names-People-Always-Mispronounce-&-Facebook-Is-A-Spy-8LuihYdx0FQ.mp3-part-108.wav\n"
     ]
    },
    {
     "name": "stderr",
     "output_type": "stream",
     "text": [
      " 95%|█████████▍| 124007/130662 [45:58<01:43, 64.21it/s]"
     ]
    },
    {
     "name": "stdout",
     "output_type": "stream",
     "text": [
      "skipped semisupervised-manglish/output-wav/Dance-Moves-To-Pick-Up-Girls-At-The-Club-With-Adidas-Creator-Maybelline-Wong-(@definitelyMayb_)-vRnkHzyyBc4.mp3-part-898.wav\n",
      "skipped semisupervised-manglish/output-wav/Exposed!-Our-Favourite-Night-Activity-We-Miss-The-Most!-_-The-Thirsty-Sisters-#5-TxeBIVuXRHM.mp3-part-365.wav\n",
      "skipped semisupervised-manglish/output-wav/Being-Bullied,-Toxic-Masculinity-And-Theatre-_-HTHT---Fauzi-Aziz-6syqXC_o6gs.mp3-part-514.wav\n"
     ]
    },
    {
     "name": "stderr",
     "output_type": "stream",
     "text": [
      " 95%|█████████▍| 124043/130662 [45:58<01:59, 55.25it/s]"
     ]
    },
    {
     "name": "stdout",
     "output_type": "stream",
     "text": [
      "skipped semisupervised-manglish/output-wav/Dream-Internships-You-Wish-You-Had---Xiaomi,-Amazon,-TikTok-_-Hao-Yuan-_-Singaporean-Podcast-#43-YaeQ27BgUN0.mp3-part-109.wav\n"
     ]
    },
    {
     "name": "stderr",
     "output_type": "stream",
     "text": [
      " 95%|█████████▍| 124121/130662 [46:00<02:21, 46.07it/s]"
     ]
    },
    {
     "name": "stdout",
     "output_type": "stream",
     "text": [
      "skipped semisupervised-manglish/output-wav/Mamak-Sessions-Podcast---How-Dean-Lewis-became-who-he-is-today-HkOQy1Nxpis.mp3-part-399.wav\n"
     ]
    },
    {
     "name": "stderr",
     "output_type": "stream",
     "text": [
      " 95%|█████████▌| 124193/130662 [46:01<01:37, 66.53it/s]"
     ]
    },
    {
     "name": "stdout",
     "output_type": "stream",
     "text": [
      "skipped semisupervised-manglish/output-wav/The-Fashion-Weak-Podcast-Ep24---Penang-Boys-@tunway-瘦虎-&-@Shawnduabui-肥龍-Talk-Zap-Fan-&-Sneakers-dykz_vuzJh0.mp3-part-831.wav\n",
      "skipped semisupervised-manglish/output-wav/The-Fashion-Weak-Podcast-Ep-30---On-her-way-to-Supermodel-dom,-ASNTM--Cycle-5-Runner-Up-@shikingomez-otK3Gl_XX4c.mp3-part-41.wav\n",
      "skipped semisupervised-manglish/output-wav/The-Fashion-Weak-Podcast-Ep-28-@dreamrocketeers-on-that-Rolex-you-should-cop-to-flex-on-poor-friends-shV1F1JlDzk.mp3-part-662.wav\n"
     ]
    },
    {
     "name": "stderr",
     "output_type": "stream",
     "text": [
      " 95%|█████████▌| 124241/130662 [46:02<01:50, 58.14it/s]"
     ]
    },
    {
     "name": "stdout",
     "output_type": "stream",
     "text": [
      "skipped semisupervised-manglish/output-wav/Mamak-Sessions---Quitting-The-Medical-Line-To-Make-People-Laugh-ft-Dr.-Jason-Leong-FcD9MpeWqEI.mp3-part-435.wav\n",
      "skipped semisupervised-manglish/output-wav/Conversations-with-a-Young-Singaporean-CEO--Gao-Fei,-CEO-of-LearnSeeker-_-Singaporean-Podcast-#13--b9YHjghfd2E.mp3-part-434.wav\n"
     ]
    },
    {
     "name": "stderr",
     "output_type": "stream",
     "text": [
      " 95%|█████████▌| 124284/130662 [46:03<01:45, 60.69it/s]"
     ]
    },
    {
     "name": "stdout",
     "output_type": "stream",
     "text": [
      "skipped semisupervised-manglish/output-wav/I-Dated-A-Guy-Twice-My-Age-Our-First-Date-Don'ts-_-The-Thirsty-Sisters-#19-3-DoQSmz5aI.mp3-part-90.wav\n"
     ]
    },
    {
     "name": "stderr",
     "output_type": "stream",
     "text": [
      " 95%|█████████▌| 124299/130662 [46:03<02:22, 44.73it/s]"
     ]
    },
    {
     "name": "stdout",
     "output_type": "stream",
     "text": [
      "skipped semisupervised-manglish/output-wav/The-Fashion-Weak-Podcast-Ep-23---Alicia-Amin-On-Being-A-'Malay'-Model-In-2019-3pKA5NvTCOA.mp3-part-315.wav\n",
      "skipped semisupervised-manglish/output-wav/The-Fashion-Weak-Podcast-Ep-40---tdcjTfzYSbk.mp3-part-297.wav\n"
     ]
    },
    {
     "name": "stderr",
     "output_type": "stream",
     "text": [
      " 95%|█████████▌| 124328/130662 [46:04<01:42, 61.77it/s]"
     ]
    },
    {
     "name": "stdout",
     "output_type": "stream",
     "text": [
      "skipped semisupervised-manglish/output-wav/An-Unconventional-Degree-And-Life-as-an-Assistant-Producer-in-SG-Film-&-TV-Industry--_-Xuan-Kai-_-41-OpDeoZzKHBM.mp3-part-152.wav\n"
     ]
    },
    {
     "name": "stderr",
     "output_type": "stream",
     "text": [
      " 95%|█████████▌| 124444/130662 [46:05<01:37, 64.02it/s]"
     ]
    },
    {
     "name": "stdout",
     "output_type": "stream",
     "text": [
      "skipped semisupervised-manglish/output-wav/Mamak-Sessions-Podcast---How-Do-You-Handle-Long-Distance-Relationships-Do-they-WORK-m7mwwtsblIs.mp3-part-63.wav\n"
     ]
    },
    {
     "name": "stderr",
     "output_type": "stream",
     "text": [
      " 95%|█████████▌| 124655/130662 [46:09<01:37, 61.65it/s]"
     ]
    },
    {
     "name": "stdout",
     "output_type": "stream",
     "text": [
      "skipped semisupervised-manglish/output-wav/Mamak-Sessions-Ep6---Names-People-Always-Mispronounce-&-Facebook-Is-A-Spy-8LuihYdx0FQ.mp3-part-200.wav\n"
     ]
    },
    {
     "name": "stderr",
     "output_type": "stream",
     "text": [
      " 95%|█████████▌| 124714/130662 [46:10<01:26, 69.13it/s]"
     ]
    },
    {
     "name": "stdout",
     "output_type": "stream",
     "text": [
      "skipped semisupervised-manglish/output-wav/The-Fashion-Weak-Podcast-EP-41---Investment-Tips-For-Chee-Seng-With-Fuad-&-Shaq-From-Kyoto-Protocol-eWNQhDNoSsY.mp3-part-343.wav\n",
      "skipped semisupervised-manglish/output-wav/The-Fashion-Weak-Podcast-Ep-30---On-her-way-to-Supermodel-dom,-ASNTM--Cycle-5-Runner-Up-@shikingomez-otK3Gl_XX4c.mp3-part-159.wav\n",
      "skipped semisupervised-manglish/output-wav/Burnout-in-the-Media-Industry-+-Passion-in-Theatre--_-Singaporean-Podcast-#16-_-Rennes-Lee-f7qEqPNzGk8.mp3-part-966.wav\n"
     ]
    },
    {
     "name": "stderr",
     "output_type": "stream",
     "text": [
      " 96%|█████████▌| 124790/130662 [46:12<01:37, 60.11it/s]"
     ]
    },
    {
     "name": "stdout",
     "output_type": "stream",
     "text": [
      "skipped semisupervised-manglish/output-wav/Mamak-Sessions---Can-Guys-And-Girls-Be-Best-Friends-Is-it-ok-to-see-more-than-one-person-at-a-time-IixUPM11VMY.mp3-part-425.wav\n",
      "skipped semisupervised-manglish/output-wav/The-Fashion-Weak-Podcast-Ep-21---Suitmaker-To-The-Stars,-Shahrin-Bahar-aka-@sbahar.my-Pkv6d83oe8s.mp3-part-504.wav\n"
     ]
    },
    {
     "name": "stderr",
     "output_type": "stream",
     "text": [
      " 96%|█████████▌| 124839/130662 [46:12<01:43, 56.21it/s]"
     ]
    },
    {
     "name": "stdout",
     "output_type": "stream",
     "text": [
      "skipped semisupervised-manglish/output-wav/@Juanitadr-shows-us-what-Arnold's-Tongue-Can-Do---The-Fashion-Weak-Podcast-Episode-10-N5EfPvQKW90.mp3-part-325.wav\n"
     ]
    },
    {
     "name": "stderr",
     "output_type": "stream",
     "text": [
      " 96%|█████████▌| 124911/130662 [46:14<01:37, 59.15it/s]"
     ]
    },
    {
     "name": "stdout",
     "output_type": "stream",
     "text": [
      "skipped semisupervised-manglish/output-wav/The-Fashion-Weak-Podcast-Ep-15---Underwear-Sneakers-&-Fruits-With-@OhZooey-HDuY9UdkkaE.mp3-part-102.wav\n"
     ]
    },
    {
     "name": "stderr",
     "output_type": "stream",
     "text": [
      " 96%|█████████▌| 125069/130662 [46:17<01:31, 60.83it/s]"
     ]
    },
    {
     "name": "stdout",
     "output_type": "stream",
     "text": [
      "skipped semisupervised-manglish/output-wav/The-Fashion-Weak-Podcast-Ep-28-@dreamrocketeers-on-that-Rolex-you-should-cop-to-flex-on-poor-friends-shV1F1JlDzk.mp3-part-779.wav\n"
     ]
    },
    {
     "name": "stderr",
     "output_type": "stream",
     "text": [
      " 96%|█████████▌| 125090/130662 [46:17<01:33, 59.44it/s]"
     ]
    },
    {
     "name": "stdout",
     "output_type": "stream",
     "text": [
      "skipped semisupervised-manglish/output-wav/Conversations-With-A-Cancer-Survivor-ft-Jared-Lee-L2W4inT6j3c.mp3-part-161.wav\n"
     ]
    },
    {
     "name": "stderr",
     "output_type": "stream",
     "text": [
      " 96%|█████████▌| 125105/130662 [46:17<01:29, 62.30it/s]"
     ]
    },
    {
     "name": "stdout",
     "output_type": "stream",
     "text": [
      "skipped semisupervised-manglish/output-wav/Mamak-Sessions---How-Do-You-Deal-With-Rumors-ft-Elizabeth-Tan-Rkvd5p3I11M.mp3-part-309.wav\n"
     ]
    },
    {
     "name": "stderr",
     "output_type": "stream",
     "text": [
      " 96%|█████████▌| 125127/130662 [46:18<01:50, 50.29it/s]"
     ]
    },
    {
     "name": "stdout",
     "output_type": "stream",
     "text": [
      "skipped semisupervised-manglish/output-wav/Mamak-Sessions---Here's-What-You-Should-Know-About-Buying-Properties-ZcVRJSDCof0.mp3-part-425.wav\n"
     ]
    },
    {
     "name": "stderr",
     "output_type": "stream",
     "text": [
      " 96%|█████████▌| 125248/130662 [46:20<01:31, 59.08it/s]"
     ]
    },
    {
     "name": "stdout",
     "output_type": "stream",
     "text": [
      "skipped semisupervised-manglish/output-wav/Playing-Basketball-With-Dr-Jason-Leong---The-Fashion-Weak-Podcast-Episode-4---6K1feeFnKpQ.mp3-part-146.wav\n"
     ]
    },
    {
     "name": "stderr",
     "output_type": "stream",
     "text": [
      " 96%|█████████▌| 125286/130662 [46:21<01:21, 65.72it/s]"
     ]
    },
    {
     "name": "stdout",
     "output_type": "stream",
     "text": [
      "skipped semisupervised-manglish/output-wav/Desperate-times!-CB-Extended-Till-June!-Our-CB-Cannot-Tahan-_-The-Thirsty-Sisters-#2-OZMsLGKDv14.mp3-part-340.wav\n",
      "skipped semisupervised-manglish/output-wav/The-Fashion-Weak-Podcast-Ep-23---Alicia-Amin-On-Being-A-'Malay'-Model-In-2019-3pKA5NvTCOA.mp3-part-6.wav\n"
     ]
    },
    {
     "name": "stderr",
     "output_type": "stream",
     "text": [
      " 96%|█████████▌| 125443/130662 [46:24<01:23, 62.77it/s]"
     ]
    },
    {
     "name": "stdout",
     "output_type": "stream",
     "text": [
      "skipped semisupervised-manglish/output-wav/Burnout-in-the-Media-Industry-+-Passion-in-Theatre--_-Singaporean-Podcast-#16-_-Rennes-Lee-f7qEqPNzGk8.mp3-part-260.wav\n"
     ]
    },
    {
     "name": "stderr",
     "output_type": "stream",
     "text": [
      " 96%|█████████▌| 125458/130662 [46:24<01:17, 66.87it/s]"
     ]
    },
    {
     "name": "stdout",
     "output_type": "stream",
     "text": [
      "skipped semisupervised-manglish/output-wav/The-Fashion-Weak-Podcast-Ep24---Penang-Boys-@tunway-瘦虎-&-@Shawnduabui-肥龍-Talk-Zap-Fan-&-Sneakers-dykz_vuzJh0.mp3-part-387.wav\n"
     ]
    },
    {
     "name": "stderr",
     "output_type": "stream",
     "text": [
      "\r",
      " 96%|█████████▌| 125465/130662 [46:24<01:19, 65.08it/s]"
     ]
    },
    {
     "name": "stdout",
     "output_type": "stream",
     "text": [
      "skipped semisupervised-manglish/output-wav/The-Fashion-Weak-Podcast-Ep-45---Finessing-A-New-Phone-Every-Year-With-Mamak-Rap-King-Jiven-Sekar-VlovwtVYuw0.mp3-part-702.wav\n",
      "skipped semisupervised-manglish/output-wav/The-Fashion-Weak-Podcast-EP14---Faking-it-on-the-gram-and-faking-Gasms-with-Sandra-Woo-(@sandrawooo)--XwvfCTnseI.mp3-part-15.wav\n"
     ]
    },
    {
     "name": "stderr",
     "output_type": "stream",
     "text": [
      " 96%|█████████▌| 125487/130662 [46:24<01:41, 51.19it/s]"
     ]
    },
    {
     "name": "stdout",
     "output_type": "stream",
     "text": [
      "skipped semisupervised-manglish/output-wav/The-Fashion-Weak-Podcast-Ep-23---Alicia-Amin-On-Being-A-'Malay'-Model-In-2019-3pKA5NvTCOA.mp3-part-450.wav\n"
     ]
    },
    {
     "name": "stderr",
     "output_type": "stream",
     "text": [
      " 96%|█████████▌| 125756/130662 [46:30<01:36, 50.94it/s]"
     ]
    },
    {
     "name": "stdout",
     "output_type": "stream",
     "text": [
      "skipped semisupervised-manglish/output-wav/Are-We-Still-Sexualising-Women-in-2020-_-Thirsty-Sisters-#13-zHC1MPeSP34.mp3-part-451.wav\n"
     ]
    },
    {
     "name": "stderr",
     "output_type": "stream",
     "text": [
      " 96%|█████████▋| 125827/130662 [46:31<01:18, 61.32it/s]"
     ]
    },
    {
     "name": "stdout",
     "output_type": "stream",
     "text": [
      "skipped semisupervised-manglish/output-wav/The-Fashion-Weak-Podcast-Ep-28-@dreamrocketeers-on-that-Rolex-you-should-cop-to-flex-on-poor-friends-shV1F1JlDzk.mp3-part-533.wav\n"
     ]
    },
    {
     "name": "stderr",
     "output_type": "stream",
     "text": [
      " 96%|█████████▋| 125879/130662 [46:32<01:26, 55.59it/s]"
     ]
    },
    {
     "name": "stdout",
     "output_type": "stream",
     "text": [
      "skipped semisupervised-manglish/output-wav/Amander-Reveals-Why-She-Left-Titan---The-Team-Titan-Show-7byI9tIJeRk.mp3-part-522.wav\n"
     ]
    },
    {
     "name": "stderr",
     "output_type": "stream",
     "text": [
      " 96%|█████████▋| 125907/130662 [46:32<01:14, 63.69it/s]"
     ]
    },
    {
     "name": "stdout",
     "output_type": "stream",
     "text": [
      "skipped semisupervised-manglish/output-wav/Dance-Moves-To-Pick-Up-Girls-At-The-Club-With-Adidas-Creator-Maybelline-Wong-(@definitelyMayb_)-vRnkHzyyBc4.mp3-part-876.wav\n"
     ]
    },
    {
     "name": "stderr",
     "output_type": "stream",
     "text": [
      " 96%|█████████▋| 125963/130662 [46:33<01:15, 62.07it/s]"
     ]
    },
    {
     "name": "stdout",
     "output_type": "stream",
     "text": [
      "skipped semisupervised-manglish/output-wav/Mamak-Sessions---How-Bryan-Loo-Created-His-Bubble-Tea-Empire-O19y2ZG8Y-k.mp3-part-18.wav\n"
     ]
    },
    {
     "name": "stderr",
     "output_type": "stream",
     "text": [
      " 96%|█████████▋| 126047/130662 [46:35<01:19, 57.85it/s]"
     ]
    },
    {
     "name": "stdout",
     "output_type": "stream",
     "text": [
      "skipped semisupervised-manglish/output-wav/Mamak-Sessions---How-I-Got-Quarantined-Because-Of-Covid-19-Feat.-Mark-O'Dea-5zAsyNKfzps.mp3-part-293.wav\n"
     ]
    },
    {
     "name": "stderr",
     "output_type": "stream",
     "text": [
      " 96%|█████████▋| 126084/130662 [46:35<01:10, 65.02it/s]"
     ]
    },
    {
     "name": "stdout",
     "output_type": "stream",
     "text": [
      "skipped semisupervised-manglish/output-wav/The-Fashion-Weak-Podcast-Ep-40---tdcjTfzYSbk.mp3-part-223.wav\n"
     ]
    },
    {
     "name": "stderr",
     "output_type": "stream",
     "text": [
      " 97%|█████████▋| 126183/130662 [46:37<01:15, 59.64it/s]"
     ]
    },
    {
     "name": "stdout",
     "output_type": "stream",
     "text": [
      "skipped semisupervised-manglish/output-wav/Mamak-Sessions-Ep6---Names-People-Always-Mispronounce-&-Facebook-Is-A-Spy-8LuihYdx0FQ.mp3-part-282.wav\n"
     ]
    },
    {
     "name": "stderr",
     "output_type": "stream",
     "text": [
      " 97%|█████████▋| 126225/130662 [46:38<01:19, 55.64it/s]"
     ]
    },
    {
     "name": "stdout",
     "output_type": "stream",
     "text": [
      "skipped semisupervised-manglish/output-wav/The-Fashion-Weak-Podcast-Ep-15---Underwear-Sneakers-&-Fruits-With-@OhZooey-HDuY9UdkkaE.mp3-part-179.wav\n"
     ]
    },
    {
     "name": "stderr",
     "output_type": "stream",
     "text": [
      " 97%|█████████▋| 126239/130662 [46:38<01:17, 57.20it/s]"
     ]
    },
    {
     "name": "stdout",
     "output_type": "stream",
     "text": [
      "skipped semisupervised-manglish/output-wav/Overcoming-Depression-&-Redefining-What-Failure-Means-to-Youths_-Singaporean-Podcast-#10-_-Kevin-Wee-rjjK4aAbKnw.mp3-part-714.wav\n"
     ]
    },
    {
     "name": "stderr",
     "output_type": "stream",
     "text": [
      " 97%|█████████▋| 126323/130662 [46:40<01:18, 55.45it/s]"
     ]
    },
    {
     "name": "stdout",
     "output_type": "stream",
     "text": [
      "skipped semisupervised-manglish/output-wav/Dance-Moves-To-Pick-Up-Girls-At-The-Club-With-Adidas-Creator-Maybelline-Wong-(@definitelyMayb_)-vRnkHzyyBc4.mp3-part-794.wav\n"
     ]
    },
    {
     "name": "stderr",
     "output_type": "stream",
     "text": [
      " 97%|█████████▋| 126347/130662 [46:40<01:05, 65.85it/s]"
     ]
    },
    {
     "name": "stdout",
     "output_type": "stream",
     "text": [
      "skipped semisupervised-manglish/output-wav/The-Fashion-Weak-Podcast-EP14---Faking-it-on-the-gram-and-faking-Gasms-with-Sandra-Woo-(@sandrawooo)--XwvfCTnseI.mp3-part-119.wav\n"
     ]
    },
    {
     "name": "stderr",
     "output_type": "stream",
     "text": [
      " 97%|█████████▋| 126361/130662 [46:41<01:07, 64.18it/s]"
     ]
    },
    {
     "name": "stdout",
     "output_type": "stream",
     "text": [
      "skipped semisupervised-manglish/output-wav/@Juanitadr-shows-us-what-Arnold's-Tongue-Can-Do---The-Fashion-Weak-Podcast-Episode-10-N5EfPvQKW90.mp3-part-328.wav\n"
     ]
    },
    {
     "name": "stderr",
     "output_type": "stream",
     "text": [
      " 97%|█████████▋| 126397/130662 [46:41<01:15, 56.53it/s]"
     ]
    },
    {
     "name": "stdout",
     "output_type": "stream",
     "text": [
      "skipped semisupervised-manglish/output-wav/Being-Bullied,-Toxic-Masculinity-And-Theatre-_-HTHT---Fauzi-Aziz-6syqXC_o6gs.mp3-part-128.wav\n"
     ]
    },
    {
     "name": "stderr",
     "output_type": "stream",
     "text": [
      " 97%|█████████▋| 126421/130662 [46:42<01:04, 66.09it/s]"
     ]
    },
    {
     "name": "stdout",
     "output_type": "stream",
     "text": [
      "skipped semisupervised-manglish/output-wav/The-Fashion-Weak-Podcast-Ep24---Penang-Boys-@tunway-瘦虎-&-@Shawnduabui-肥龍-Talk-Zap-Fan-&-Sneakers-dykz_vuzJh0.mp3-part-661.wav\n"
     ]
    },
    {
     "name": "stderr",
     "output_type": "stream",
     "text": [
      " 97%|█████████▋| 126503/130662 [46:43<01:09, 59.74it/s]"
     ]
    },
    {
     "name": "stdout",
     "output_type": "stream",
     "text": [
      "skipped semisupervised-manglish/output-wav/Mamak-Sessions-Podcast---How-Do-You-Handle-Long-Distance-Relationships-Do-they-WORK-m7mwwtsblIs.mp3-part-284.wav\n",
      "skipped semisupervised-manglish/output-wav/Mamak-Sessions---How-I-Got-Quarantined-Because-Of-Covid-19-Feat.-Mark-O'Dea-5zAsyNKfzps.mp3-part-318.wav\n"
     ]
    },
    {
     "name": "stderr",
     "output_type": "stream",
     "text": [
      " 97%|█████████▋| 126579/130662 [46:45<01:08, 59.48it/s]"
     ]
    },
    {
     "name": "stdout",
     "output_type": "stream",
     "text": [
      "skipped semisupervised-manglish/output-wav/Is-Mulan-Really-That-Bad-_-IMO-Ep.32-rMpf5j7683M.mp3-part-499.wav\n"
     ]
    },
    {
     "name": "stderr",
     "output_type": "stream",
     "text": [
      " 97%|█████████▋| 126671/130662 [46:46<01:07, 59.01it/s]"
     ]
    },
    {
     "name": "stdout",
     "output_type": "stream",
     "text": [
      "skipped semisupervised-manglish/output-wav/The-Truth-Behind-Our-Relationship!-Are-We-Really-Sisters-_-The-Thirsty-Sisters-#10-rkwCky94IhQ.mp3-part-81.wav\n"
     ]
    },
    {
     "name": "stderr",
     "output_type": "stream",
     "text": [
      " 97%|█████████▋| 126721/130662 [46:47<01:00, 65.09it/s]"
     ]
    },
    {
     "name": "stdout",
     "output_type": "stream",
     "text": [
      "skipped semisupervised-manglish/output-wav/8-Wheels-Vs-4-Wheels-With-Sukeats-From-Wheel-Love---The-Fashion-Weak-Podcast-ep-12-fgaCmnMdZ0c.mp3-part-125.wav\n"
     ]
    },
    {
     "name": "stderr",
     "output_type": "stream",
     "text": [
      " 97%|█████████▋| 126785/130662 [46:48<01:01, 63.37it/s]"
     ]
    },
    {
     "name": "stdout",
     "output_type": "stream",
     "text": [
      "skipped semisupervised-manglish/output-wav/The-Fashion-Weak-Podcast-Ep-29---Valentines-Day-With-Becca-Lee-and-Leonard-Chua-UWm1ESejkzs.mp3-part-357.wav\n"
     ]
    },
    {
     "name": "stderr",
     "output_type": "stream",
     "text": [
      " 97%|█████████▋| 126885/130662 [46:50<00:59, 63.66it/s]"
     ]
    },
    {
     "name": "stdout",
     "output_type": "stream",
     "text": [
      "skipped semisupervised-manglish/output-wav/The-Fashion-Weak-Podcast-Ep-46---Premium-Thirst-Trap-Tips-With-Michelle-Lee-(@mich8lee)-MCHDyLJDJrg.mp3-part-460.wav\n"
     ]
    },
    {
     "name": "stderr",
     "output_type": "stream",
     "text": [
      " 97%|█████████▋| 126900/130662 [46:50<00:56, 66.43it/s]"
     ]
    },
    {
     "name": "stdout",
     "output_type": "stream",
     "text": [
      "skipped semisupervised-manglish/output-wav/The-Fashion-Weak-Podcast-Ep-40---tdcjTfzYSbk.mp3-part-846.wav\n"
     ]
    },
    {
     "name": "stderr",
     "output_type": "stream",
     "text": [
      " 97%|█████████▋| 126993/130662 [46:52<00:56, 64.53it/s]"
     ]
    },
    {
     "name": "stdout",
     "output_type": "stream",
     "text": [
      "skipped semisupervised-manglish/output-wav/Best-Way-to-Get-Women-to-Fall-For-You-Every-Month!-_-The-Thirsty-Sisters-#16-gvPiF-zXur4.mp3-part-1.wav\n"
     ]
    },
    {
     "name": "stderr",
     "output_type": "stream",
     "text": [
      "\r",
      " 97%|█████████▋| 127000/130662 [46:52<00:57, 63.46it/s]"
     ]
    },
    {
     "name": "stdout",
     "output_type": "stream",
     "text": [
      "skipped semisupervised-manglish/output-wav/The-Fashion-Weak-Podcast-EP-25---Don't-Mess-With-@zamaeraaa's-Hello-Kitty-Cup-H4M_ZUDAT3k.mp3-part-581.wav\n"
     ]
    },
    {
     "name": "stderr",
     "output_type": "stream",
     "text": [
      " 97%|█████████▋| 127061/130662 [46:53<01:00, 59.43it/s]"
     ]
    },
    {
     "name": "stdout",
     "output_type": "stream",
     "text": [
      "skipped semisupervised-manglish/output-wav/My-First-Boyfriend-Cheated-On-Me-With-Several-Girls-_-The-Thirsty-Sisters-#9-Y6RYZpbANJI.mp3-part-87.wav\n"
     ]
    },
    {
     "name": "stderr",
     "output_type": "stream",
     "text": [
      " 97%|█████████▋| 127076/130662 [46:53<00:54, 65.71it/s]"
     ]
    },
    {
     "name": "stdout",
     "output_type": "stream",
     "text": [
      "skipped semisupervised-manglish/output-wav/Mamak-Sessions---Should-You-Be-Spending-Crazily-For-Valentine's-Day-QLz7USNFnng.mp3-part-337.wav\n",
      "skipped semisupervised-manglish/output-wav/Mamak-Sessions---Blaming-Yourself-For-Your-Parents'-Divorce,-And-How-Our-Parents-Punish-Us-x8Gl_zIC9CQ.mp3-part-96.wav\n"
     ]
    },
    {
     "name": "stderr",
     "output_type": "stream",
     "text": [
      " 97%|█████████▋| 127133/130662 [46:55<00:59, 59.46it/s]"
     ]
    },
    {
     "name": "stdout",
     "output_type": "stream",
     "text": [
      "skipped semisupervised-manglish/output-wav/Mamak-Sessions-Ep10---Datuk-Nicol-David-is-RETIRING!-n3AR3nQEc7Y.mp3-part-319.wav\n"
     ]
    },
    {
     "name": "stderr",
     "output_type": "stream",
     "text": [
      " 97%|█████████▋| 127210/130662 [46:56<01:08, 50.20it/s]"
     ]
    },
    {
     "name": "stdout",
     "output_type": "stream",
     "text": [
      "skipped semisupervised-manglish/output-wav/Conversations-With-A-Cancer-Survivor-ft-Jared-Lee-L2W4inT6j3c.mp3-part-165.wav\n"
     ]
    },
    {
     "name": "stderr",
     "output_type": "stream",
     "text": [
      " 97%|█████████▋| 127266/130662 [46:57<00:52, 64.23it/s]"
     ]
    },
    {
     "name": "stdout",
     "output_type": "stream",
     "text": [
      "skipped semisupervised-manglish/output-wav/The-Fashion-Weak-Podcast-Ep-45---Finessing-A-New-Phone-Every-Year-With-Mamak-Rap-King-Jiven-Sekar-VlovwtVYuw0.mp3-part-470.wav\n",
      "skipped semisupervised-manglish/output-wav/The-Fashion-Weak-Podcast-Ep-43---Thirst-Trapping-Simps-&-Loving-Your-Body-From-The-Outside-In-6R87P6YD2c4.mp3-part-261.wav\n",
      "skipped semisupervised-manglish/output-wav/The-Fashion-Weak-Podcast-Ep-23---Alicia-Amin-On-Being-A-'Malay'-Model-In-2019-3pKA5NvTCOA.mp3-part-506.wav\n"
     ]
    },
    {
     "name": "stderr",
     "output_type": "stream",
     "text": [
      " 97%|█████████▋| 127287/130662 [46:58<01:08, 49.36it/s]"
     ]
    },
    {
     "name": "stdout",
     "output_type": "stream",
     "text": [
      "skipped semisupervised-manglish/output-wav/Mamak-Sessions-Ep6---Names-People-Always-Mispronounce-&-Facebook-Is-A-Spy-8LuihYdx0FQ.mp3-part-157.wav\n"
     ]
    },
    {
     "name": "stderr",
     "output_type": "stream",
     "text": [
      " 97%|█████████▋| 127308/130662 [46:58<00:56, 59.46it/s]"
     ]
    },
    {
     "name": "stdout",
     "output_type": "stream",
     "text": [
      "skipped semisupervised-manglish/output-wav/My-First-Boyfriend-Cheated-On-Me-With-Several-Girls-_-The-Thirsty-Sisters-#9-Y6RYZpbANJI.mp3-part-157.wav\n"
     ]
    },
    {
     "name": "stderr",
     "output_type": "stream",
     "text": [
      " 97%|█████████▋| 127389/130662 [46:59<01:08, 47.90it/s]"
     ]
    },
    {
     "name": "stdout",
     "output_type": "stream",
     "text": [
      "skipped semisupervised-manglish/output-wav/The-Fashion-Weak-Podcast-EP-41---Investment-Tips-For-Chee-Seng-With-Fuad-&-Shaq-From-Kyoto-Protocol-eWNQhDNoSsY.mp3-part-401.wav\n"
     ]
    },
    {
     "name": "stderr",
     "output_type": "stream",
     "text": [
      " 98%|█████████▊| 127403/130662 [46:59<00:58, 55.73it/s]"
     ]
    },
    {
     "name": "stdout",
     "output_type": "stream",
     "text": [
      "skipped semisupervised-manglish/output-wav/Mamak-Sessions-Ep6---Names-People-Always-Mispronounce-&-Facebook-Is-A-Spy-8LuihYdx0FQ.mp3-part-112.wav\n"
     ]
    },
    {
     "name": "stderr",
     "output_type": "stream",
     "text": [
      " 98%|█████████▊| 127417/130662 [47:00<00:56, 57.47it/s]"
     ]
    },
    {
     "name": "stdout",
     "output_type": "stream",
     "text": [
      "skipped semisupervised-manglish/output-wav/Talking-Sneakers-&-Strong-Sperm-With-@bryanbotakchin---The-Fashion-Weak-Podcast-Episode-11-iugevNPFp2Y.mp3-part-418.wav\n",
      "skipped semisupervised-manglish/output-wav/The-Fashion-Weak-Podcast-Ep-32---Getting-Surprised-Reading-Melissa-Campbell's-(@heymelbelle)-IG-DMs-mJuKUwFpDgI.mp3-part-191.wav\n"
     ]
    },
    {
     "name": "stderr",
     "output_type": "stream",
     "text": [
      " 98%|█████████▊| 127439/130662 [47:00<00:50, 64.03it/s]"
     ]
    },
    {
     "name": "stdout",
     "output_type": "stream",
     "text": [
      "skipped semisupervised-manglish/output-wav/Burning-Hot-Fever!-4-Doctors-Tried-To-Save-Me-In-The-Hospital!-_-The-Thirsty-Sisters-#6-Jw7B8efygWI.mp3-part-148.wav\n"
     ]
    },
    {
     "name": "stderr",
     "output_type": "stream",
     "text": [
      " 98%|█████████▊| 127491/130662 [47:01<00:56, 56.59it/s]"
     ]
    },
    {
     "name": "stdout",
     "output_type": "stream",
     "text": [
      "skipped semisupervised-manglish/output-wav/Mamak-Sessions---Getting-Married-in-Vegas,-and-Sugar-Babies-ft.-Dennis-Yin-Cq6Yjwsu63U.mp3-part-33.wav\n"
     ]
    },
    {
     "name": "stderr",
     "output_type": "stream",
     "text": [
      " 98%|█████████▊| 127549/130662 [47:02<00:49, 62.43it/s]"
     ]
    },
    {
     "name": "stdout",
     "output_type": "stream",
     "text": [
      "skipped semisupervised-manglish/output-wav/The-Fashion-Weak-Podcast-Ep35---Is-New-Balance-Cool-Now-Talking-everything-NOT-Nike-with-@adlysyairi-3b0bYe36KNE.mp3-part-595.wav\n",
      "skipped semisupervised-manglish/output-wav/Mamak-Sessions---Airing-Dirty-Laundry-Online-and-Social-Justice-Warriors-FFtFXiIgsyk.mp3-part-136.wav\n"
     ]
    },
    {
     "name": "stderr",
     "output_type": "stream",
     "text": [
      " 98%|█████████▊| 127621/130662 [47:03<00:50, 60.34it/s]"
     ]
    },
    {
     "name": "stdout",
     "output_type": "stream",
     "text": [
      "skipped semisupervised-manglish/output-wav/The-Fashion-Weak-Podcast-Ep-43A---Keeping-Fair-On-The-Fairway-With-Natalia-Ng-CSP1XPZu4YY.mp3-part-77.wav\n"
     ]
    },
    {
     "name": "stderr",
     "output_type": "stream",
     "text": [
      " 98%|█████████▊| 127665/130662 [47:04<00:58, 50.98it/s]"
     ]
    },
    {
     "name": "stdout",
     "output_type": "stream",
     "text": [
      "skipped semisupervised-manglish/output-wav/Mamak-Sessions-Ep6---Names-People-Always-Mispronounce-&-Facebook-Is-A-Spy-8LuihYdx0FQ.mp3-part-121.wav\n",
      "skipped semisupervised-manglish/output-wav/OKLETSGO---Misogyny-And-Cancel-Culture-_-IMO-Ep.21-LsV8tnGSPEQ.mp3-part-353.wav\n"
     ]
    },
    {
     "name": "stderr",
     "output_type": "stream",
     "text": [
      " 98%|█████████▊| 127688/130662 [47:05<00:47, 62.59it/s]"
     ]
    },
    {
     "name": "stdout",
     "output_type": "stream",
     "text": [
      "skipped semisupervised-manglish/output-wav/The-Fashion-Weak-Podcast-Ep24---Penang-Boys-@tunway-瘦虎-&-@Shawnduabui-肥龍-Talk-Zap-Fan-&-Sneakers-dykz_vuzJh0.mp3-part-581.wav\n"
     ]
    },
    {
     "name": "stderr",
     "output_type": "stream",
     "text": [
      " 98%|█████████▊| 127718/130662 [47:05<00:45, 65.29it/s]"
     ]
    },
    {
     "name": "stdout",
     "output_type": "stream",
     "text": [
      "skipped semisupervised-manglish/output-wav/Mamak-Sessions-Ep6---Names-People-Always-Mispronounce-&-Facebook-Is-A-Spy-8LuihYdx0FQ.mp3-part-114.wav\n"
     ]
    },
    {
     "name": "stderr",
     "output_type": "stream",
     "text": [
      " 98%|█████████▊| 127762/130662 [47:06<00:57, 50.49it/s]"
     ]
    },
    {
     "name": "stdout",
     "output_type": "stream",
     "text": [
      "skipped semisupervised-manglish/output-wav/Why-Human-Resources-Matters-+-Life-as-a-Singapore-Solopreneur-_-Lauren-Ong-_-Singaporean-Podcast-#20-YtCn4hNLk7o.mp3-part-9.wav\n",
      "skipped semisupervised-manglish/output-wav/The-Fashion-Weak-Podcast-EP16---Podcast-Wars-With-The-From-The-Thread-Boys-7dPzh9PpLs8.mp3-part-406.wav\n"
     ]
    },
    {
     "name": "stderr",
     "output_type": "stream",
     "text": [
      " 98%|█████████▊| 127826/130662 [47:07<00:47, 59.45it/s]"
     ]
    },
    {
     "name": "stdout",
     "output_type": "stream",
     "text": [
      "skipped semisupervised-manglish/output-wav/How-To-Date-Alpha-Women-_-The-Thirsty-Sisters-#12-6i8PG2cTAUU.mp3-part-150.wav\n"
     ]
    },
    {
     "name": "stderr",
     "output_type": "stream",
     "text": [
      " 98%|█████████▊| 127916/130662 [47:09<00:44, 62.10it/s]"
     ]
    },
    {
     "name": "stdout",
     "output_type": "stream",
     "text": [
      "skipped semisupervised-manglish/output-wav/Mamak-Sessions---Quitting-The-Medical-Line-To-Make-People-Laugh-ft-Dr.-Jason-Leong-FcD9MpeWqEI.mp3-part-294.wav\n"
     ]
    },
    {
     "name": "stderr",
     "output_type": "stream",
     "text": [
      " 98%|█████████▊| 127966/130662 [47:10<00:44, 60.11it/s]"
     ]
    },
    {
     "name": "stdout",
     "output_type": "stream",
     "text": [
      "skipped semisupervised-manglish/output-wav/Grown-Up-Flex-With-YouTube-Superstar-@JinnyBoy---The-Fashion-Weak-Podcast-Episode-9-7wiSVCBFmFc.mp3-part-328.wav\n"
     ]
    },
    {
     "name": "stderr",
     "output_type": "stream",
     "text": [
      " 98%|█████████▊| 128056/130662 [47:11<00:48, 53.50it/s]"
     ]
    },
    {
     "name": "stdout",
     "output_type": "stream",
     "text": [
      "skipped semisupervised-manglish/output-wav/Mamak-Sessions---'Chinese-Whispers'-CXnW4hJDp54.mp3-part-294.wav\n"
     ]
    },
    {
     "name": "stderr",
     "output_type": "stream",
     "text": [
      " 98%|█████████▊| 128106/130662 [47:12<00:56, 44.93it/s]"
     ]
    },
    {
     "name": "stdout",
     "output_type": "stream",
     "text": [
      "skipped semisupervised-manglish/output-wav/The-Fashion-Weak-Podcast-Ep24---Penang-Boys-@tunway-瘦虎-&-@Shawnduabui-肥龍-Talk-Zap-Fan-&-Sneakers-dykz_vuzJh0.mp3-part-622.wav\n"
     ]
    },
    {
     "name": "stderr",
     "output_type": "stream",
     "text": [
      " 98%|█████████▊| 128205/130662 [47:14<00:42, 58.06it/s]"
     ]
    },
    {
     "name": "stdout",
     "output_type": "stream",
     "text": [
      "skipped semisupervised-manglish/output-wav/Mamak-Sessions---Blaming-Yourself-For-Your-Parents'-Divorce,-And-How-Our-Parents-Punish-Us-x8Gl_zIC9CQ.mp3-part-22.wav\n"
     ]
    },
    {
     "name": "stderr",
     "output_type": "stream",
     "text": [
      " 98%|█████████▊| 128240/130662 [47:15<00:38, 62.23it/s]"
     ]
    },
    {
     "name": "stdout",
     "output_type": "stream",
     "text": [
      "skipped semisupervised-manglish/output-wav/The-Fashion-Weak-Podcast-Ep-43---Thirst-Trapping-Simps-&-Loving-Your-Body-From-The-Outside-In-6R87P6YD2c4.mp3-part-455.wav\n"
     ]
    },
    {
     "name": "stderr",
     "output_type": "stream",
     "text": [
      " 98%|█████████▊| 128284/130662 [47:16<00:45, 51.85it/s]"
     ]
    },
    {
     "name": "stdout",
     "output_type": "stream",
     "text": [
      "skipped semisupervised-manglish/output-wav/Mamak-Sessions---How-Bryan-Loo-Created-His-Bubble-Tea-Empire-O19y2ZG8Y-k.mp3-part-214.wav\n"
     ]
    },
    {
     "name": "stderr",
     "output_type": "stream",
     "text": [
      " 98%|█████████▊| 128410/130662 [47:18<00:37, 60.84it/s]"
     ]
    },
    {
     "name": "stdout",
     "output_type": "stream",
     "text": [
      "skipped semisupervised-manglish/output-wav/The-Fashion-Weak-Podcast-Ep-19---Butt-Stuff-&-Actual-Fashion-With-Zane-Gan-jhLgzHQnAHU.mp3-part-231.wav\n"
     ]
    },
    {
     "name": "stderr",
     "output_type": "stream",
     "text": [
      " 98%|█████████▊| 128463/130662 [47:19<00:44, 49.43it/s]"
     ]
    },
    {
     "name": "stdout",
     "output_type": "stream",
     "text": [
      "skipped semisupervised-manglish/output-wav/The-Fashion-Weak-Podcast-Ep-38---TikTok-Royalty-Roshan-Jeet-aka-Roshannnn1-lPnRg9UsP0M.mp3-part-275.wav\n"
     ]
    },
    {
     "name": "stderr",
     "output_type": "stream",
     "text": [
      " 98%|█████████▊| 128478/130662 [47:19<00:38, 57.27it/s]"
     ]
    },
    {
     "name": "stdout",
     "output_type": "stream",
     "text": [
      "skipped semisupervised-manglish/output-wav/The-Fashion-Weak-Podcast-Ep-46---Premium-Thirst-Trap-Tips-With-Michelle-Lee-(@mich8lee)-MCHDyLJDJrg.mp3-part-98.wav\n"
     ]
    },
    {
     "name": "stderr",
     "output_type": "stream",
     "text": [
      " 98%|█████████▊| 128523/130662 [47:20<00:33, 64.57it/s]"
     ]
    },
    {
     "name": "stdout",
     "output_type": "stream",
     "text": [
      "skipped semisupervised-manglish/output-wav/The-Fashion-Weak-Podcast-Ep-18---Putting-The-Deep-In-Deepavali-With-Keren-Bala-lvIbeZ3qgsU.mp3-part-203.wav\n",
      "skipped semisupervised-manglish/output-wav/The-Fashion-Weak-Podcast-Ep-40---tdcjTfzYSbk.mp3-part-4.wav\n"
     ]
    },
    {
     "name": "stderr",
     "output_type": "stream",
     "text": [
      " 98%|█████████▊| 128577/130662 [47:21<00:35, 58.19it/s]"
     ]
    },
    {
     "name": "stdout",
     "output_type": "stream",
     "text": [
      "skipped semisupervised-manglish/output-wav/The-Fashion-Weak-Podcast-Ep-32---Getting-Surprised-Reading-Melissa-Campbell's-(@heymelbelle)-IG-DMs-mJuKUwFpDgI.mp3-part-700.wav\n"
     ]
    },
    {
     "name": "stderr",
     "output_type": "stream",
     "text": [
      " 98%|█████████▊| 128614/130662 [47:22<00:31, 65.30it/s]"
     ]
    },
    {
     "name": "stdout",
     "output_type": "stream",
     "text": [
      "skipped semisupervised-manglish/output-wav/8-Wheels-Vs-4-Wheels-With-Sukeats-From-Wheel-Love---The-Fashion-Weak-Podcast-ep-12-fgaCmnMdZ0c.mp3-part-149.wav\n"
     ]
    },
    {
     "name": "stderr",
     "output_type": "stream",
     "text": [
      " 98%|█████████▊| 128645/130662 [47:22<00:38, 52.75it/s]"
     ]
    },
    {
     "name": "stdout",
     "output_type": "stream",
     "text": [
      "skipped semisupervised-manglish/output-wav/Mamak-Sessions-Ep9---Sibling-Rivalry-ft-Julian-Yee-670FyeJhnps.mp3-part-282.wav\n"
     ]
    },
    {
     "name": "stderr",
     "output_type": "stream",
     "text": [
      " 98%|█████████▊| 128680/130662 [47:23<00:31, 62.07it/s]"
     ]
    },
    {
     "name": "stdout",
     "output_type": "stream",
     "text": [
      "skipped semisupervised-manglish/output-wav/Skin-Care-Routines,-Death,-Life-Purpose-and-More-_-Singaporean-Trio-Podcast-#2-6yW185RJkGw.mp3-part-128.wav\n"
     ]
    },
    {
     "name": "stderr",
     "output_type": "stream",
     "text": [
      " 98%|█████████▊| 128695/130662 [47:23<00:30, 64.53it/s]"
     ]
    },
    {
     "name": "stdout",
     "output_type": "stream",
     "text": [
      "skipped semisupervised-manglish/output-wav/Most-Accurate-Personality-Test!-_-The-Thirsty-Sisters-#17-XLV720mng6w.mp3-part-302.wav\n"
     ]
    },
    {
     "name": "stderr",
     "output_type": "stream",
     "text": [
      " 99%|█████████▊| 128754/130662 [47:24<00:31, 59.88it/s]"
     ]
    },
    {
     "name": "stdout",
     "output_type": "stream",
     "text": [
      "skipped semisupervised-manglish/output-wav/The-Fashion-Weak-Podcast-Ep-32---Getting-Surprised-Reading-Melissa-Campbell's-(@heymelbelle)-IG-DMs-mJuKUwFpDgI.mp3-part-598.wav\n",
      "skipped semisupervised-manglish/output-wav/Mamak-Sessions---Investigative-Journalism-Brings-Justice-to-Sexual-Crimes-&-Interviewing-Jon-Favreau-RlejfOWnKgQ.mp3-part-84.wav\n"
     ]
    },
    {
     "name": "stderr",
     "output_type": "stream",
     "text": [
      " 99%|█████████▊| 128789/130662 [47:25<00:30, 61.62it/s]"
     ]
    },
    {
     "name": "stdout",
     "output_type": "stream",
     "text": [
      "skipped semisupervised-manglish/output-wav/The-Fashion-Weak-Podcast-Ep-31----Possibly-Our-Most-NSFW-Episode-Yet-With-@vikarworld-xMm23vU8_og.mp3-part-246.wav\n"
     ]
    },
    {
     "name": "stderr",
     "output_type": "stream",
     "text": [
      " 99%|█████████▊| 128804/130662 [47:25<00:28, 64.33it/s]"
     ]
    },
    {
     "name": "stdout",
     "output_type": "stream",
     "text": [
      "skipped semisupervised-manglish/output-wav/The-Fashion-Weak-Podcast-Ep-29---Valentines-Day-With-Becca-Lee-and-Leonard-Chua-UWm1ESejkzs.mp3-part-578.wav\n"
     ]
    },
    {
     "name": "stderr",
     "output_type": "stream",
     "text": [
      " 99%|█████████▊| 128888/130662 [47:26<00:27, 64.05it/s]"
     ]
    },
    {
     "name": "stdout",
     "output_type": "stream",
     "text": [
      "skipped semisupervised-manglish/output-wav/Mamak-Sessions-Ep8---Man-Sues-Colleague-for-$1.8-Million-for-Farting-OWbPqC2i71c.mp3-part-250.wav\n"
     ]
    },
    {
     "name": "stderr",
     "output_type": "stream",
     "text": [
      "\r",
      " 99%|█████████▊| 128896/130662 [47:27<00:26, 65.99it/s]"
     ]
    },
    {
     "name": "stdout",
     "output_type": "stream",
     "text": [
      "skipped semisupervised-manglish/output-wav/Mamak-Sessions---Can-Guys-And-Girls-Be-Best-Friends-Is-it-ok-to-see-more-than-one-person-at-a-time-IixUPM11VMY.mp3-part-409.wav\n"
     ]
    },
    {
     "name": "stderr",
     "output_type": "stream",
     "text": [
      " 99%|█████████▊| 128971/130662 [47:28<00:25, 65.54it/s]"
     ]
    },
    {
     "name": "stdout",
     "output_type": "stream",
     "text": [
      "skipped semisupervised-manglish/output-wav/Mamak-Sessions---We-May-Not-Always-End-Up-Doing-What-We-Thought-We-Would..And-That's-Not-A-Bad-Thing-IAeN0jG9Hwc.mp3-part-329.wav\n"
     ]
    },
    {
     "name": "stderr",
     "output_type": "stream",
     "text": [
      " 99%|█████████▊| 129000/130662 [47:29<00:28, 58.61it/s]"
     ]
    },
    {
     "name": "stdout",
     "output_type": "stream",
     "text": [
      "skipped semisupervised-manglish/output-wav/Mamak-Sessions---From-A-Transport-Assistant-to-a-Multi-Award-Winning-Film-Director-r6f3OoHVkgU.mp3-part-234.wav\n"
     ]
    },
    {
     "name": "stderr",
     "output_type": "stream",
     "text": [
      " 99%|█████████▉| 129047/130662 [47:29<00:26, 61.75it/s]"
     ]
    },
    {
     "name": "stdout",
     "output_type": "stream",
     "text": [
      "skipped semisupervised-manglish/output-wav/Butts-and-D_ck-Pics,-MILF-Hunting-Part-2-With-Nor-Soraya---The-Fashion-Weak-Podcast-Episode-5-NCiDUw4mQgE.mp3-part-38.wav\n"
     ]
    },
    {
     "name": "stderr",
     "output_type": "stream",
     "text": [
      " 99%|█████████▉| 129087/130662 [47:30<00:30, 51.08it/s]"
     ]
    },
    {
     "name": "stdout",
     "output_type": "stream",
     "text": [
      "skipped semisupervised-manglish/output-wav/Mamak-Sessions---Are-We-Safe-From-The-Wuhan-Virus-and-Are-Spiritual-Healers-Scammers-skGDf57Q9xs.mp3-part-175.wav\n",
      "skipped semisupervised-manglish/output-wav/Community-Service,-Entrepreneurial-Ventures-&-Being-a-Father-_-Singaporean-Podcast-#14-_-Andy-Ang-v-RunsFvf8o.mp3-part-82.wav\n"
     ]
    },
    {
     "name": "stderr",
     "output_type": "stream",
     "text": [
      " 99%|█████████▉| 129122/130662 [47:31<00:25, 61.52it/s]"
     ]
    },
    {
     "name": "stdout",
     "output_type": "stream",
     "text": [
      "skipped semisupervised-manglish/output-wav/How-To-Get-Away-With-A-Sex-Crime!-_-The-Thirsty-Sisters-#15-mIc0MmSoaiI.mp3-part-329.wav\n"
     ]
    },
    {
     "name": "stderr",
     "output_type": "stream",
     "text": [
      " 99%|█████████▉| 129138/130662 [47:31<00:22, 68.69it/s]"
     ]
    },
    {
     "name": "stdout",
     "output_type": "stream",
     "text": [
      "skipped semisupervised-manglish/output-wav/8-Wheels-Vs-4-Wheels-With-Sukeats-From-Wheel-Love---The-Fashion-Weak-Podcast-ep-12-fgaCmnMdZ0c.mp3-part-231.wav\n",
      "skipped semisupervised-manglish/output-wav/Dance-Moves-To-Pick-Up-Girls-At-The-Club-With-Adidas-Creator-Maybelline-Wong-(@definitelyMayb_)-vRnkHzyyBc4.mp3-part-291.wav\n",
      "skipped semisupervised-manglish/output-wav/Mamak-Sessions-Podcast---Is-it-ok-to-move-in-with-your-Partner-before-MARRIAGE-nGnyZ5c00Mo.mp3-part-28.wav\n",
      "skipped semisupervised-manglish/output-wav/Mamak-Sessions-Ep6---Names-People-Always-Mispronounce-&-Facebook-Is-A-Spy-8LuihYdx0FQ.mp3-part-239.wav\n"
     ]
    },
    {
     "name": "stderr",
     "output_type": "stream",
     "text": [
      " 99%|█████████▉| 129255/130662 [47:33<00:35, 39.53it/s]"
     ]
    },
    {
     "name": "stdout",
     "output_type": "stream",
     "text": [
      "skipped semisupervised-manglish/output-wav/The-Fashion-Weak-Podcast-Ep-32---Getting-Surprised-Reading-Melissa-Campbell's-(@heymelbelle)-IG-DMs-mJuKUwFpDgI.mp3-part-827.wav\n"
     ]
    },
    {
     "name": "stderr",
     "output_type": "stream",
     "text": [
      " 99%|█████████▉| 129406/130662 [47:36<00:19, 64.63it/s]"
     ]
    },
    {
     "name": "stdout",
     "output_type": "stream",
     "text": [
      "skipped semisupervised-manglish/output-wav/Musings-of-the-OG-Sneaker-Uncle-@bungactiongirl---The-Fashion-Weak-Podcast-Episode-3-EjzkQeWKwQw.mp3-part-90.wav\n"
     ]
    },
    {
     "name": "stderr",
     "output_type": "stream",
     "text": [
      " 99%|█████████▉| 129465/130662 [47:37<00:19, 61.72it/s]"
     ]
    },
    {
     "name": "stdout",
     "output_type": "stream",
     "text": [
      "skipped semisupervised-manglish/output-wav/Mamak-Sessions---Do-You-Check-Your-Partner's-Text-Messages-Featuring-Lizz-Chloe-WJkSAHvYyqk.mp3-part-347.wav\n"
     ]
    },
    {
     "name": "stderr",
     "output_type": "stream",
     "text": [
      " 99%|█████████▉| 129481/130662 [47:37<00:17, 66.67it/s]"
     ]
    },
    {
     "name": "stdout",
     "output_type": "stream",
     "text": [
      "skipped semisupervised-manglish/output-wav/Best-Way-to-Get-Women-to-Fall-For-You-Every-Month!-_-The-Thirsty-Sisters-#16-gvPiF-zXur4.mp3-part-9.wav\n"
     ]
    },
    {
     "name": "stderr",
     "output_type": "stream",
     "text": [
      " 99%|█████████▉| 129510/130662 [47:38<00:18, 61.81it/s]"
     ]
    },
    {
     "name": "stdout",
     "output_type": "stream",
     "text": [
      "skipped semisupervised-manglish/output-wav/Being-Bullied,-Toxic-Masculinity-And-Theatre-_-HTHT---Fauzi-Aziz-6syqXC_o6gs.mp3-part-27.wav\n"
     ]
    },
    {
     "name": "stderr",
     "output_type": "stream",
     "text": [
      " 99%|█████████▉| 129552/130662 [47:39<00:18, 60.16it/s]"
     ]
    },
    {
     "name": "stdout",
     "output_type": "stream",
     "text": [
      "skipped semisupervised-manglish/output-wav/The-Fashion-Weak-Podcast-Ep35---Is-New-Balance-Cool-Now-Talking-everything-NOT-Nike-with-@adlysyairi-3b0bYe36KNE.mp3-part-182.wav\n",
      "skipped semisupervised-manglish/output-wav/Mamak-Sessions---How-Do-You-Deal-With-Rumors-ft-Elizabeth-Tan-Rkvd5p3I11M.mp3-part-410.wav\n"
     ]
    },
    {
     "name": "stderr",
     "output_type": "stream",
     "text": [
      " 99%|█████████▉| 129587/130662 [47:39<00:17, 61.90it/s]"
     ]
    },
    {
     "name": "stdout",
     "output_type": "stream",
     "text": [
      "skipped semisupervised-manglish/output-wav/Mamak-Sessions-Ep6---Names-People-Always-Mispronounce-&-Facebook-Is-A-Spy-8LuihYdx0FQ.mp3-part-135.wav\n"
     ]
    },
    {
     "name": "stderr",
     "output_type": "stream",
     "text": [
      " 99%|█████████▉| 129632/130662 [47:40<00:18, 55.57it/s]"
     ]
    },
    {
     "name": "stdout",
     "output_type": "stream",
     "text": [
      "skipped semisupervised-manglish/output-wav/Mamak-Sessions-Ep6---Names-People-Always-Mispronounce-&-Facebook-Is-A-Spy-8LuihYdx0FQ.mp3-part-96.wav\n"
     ]
    },
    {
     "name": "stderr",
     "output_type": "stream",
     "text": [
      " 99%|█████████▉| 129654/130662 [47:40<00:16, 61.27it/s]"
     ]
    },
    {
     "name": "stdout",
     "output_type": "stream",
     "text": [
      "skipped semisupervised-manglish/output-wav/Mamak-Sessions---Should-You-Be-Spending-Crazily-For-Valentine's-Day-QLz7USNFnng.mp3-part-247.wav\n"
     ]
    },
    {
     "name": "stderr",
     "output_type": "stream",
     "text": [
      " 99%|█████████▉| 129676/130662 [47:41<00:15, 65.10it/s]"
     ]
    },
    {
     "name": "stdout",
     "output_type": "stream",
     "text": [
      "skipped semisupervised-manglish/output-wav/The-Fashion-Weak-Podcast-Ep-39---Talking-Turn-On's-and-Fashion-Bulk-Buy-Deals-With-Tata-Wanqian-WSVo-qvu1GQ.mp3-part-269.wav\n"
     ]
    },
    {
     "name": "stderr",
     "output_type": "stream",
     "text": [
      " 99%|█████████▉| 129738/130662 [47:42<00:15, 57.98it/s]"
     ]
    },
    {
     "name": "stdout",
     "output_type": "stream",
     "text": [
      "skipped semisupervised-manglish/output-wav/The-Fashion-Weak-Podcast-Ep-28-@dreamrocketeers-on-that-Rolex-you-should-cop-to-flex-on-poor-friends-shV1F1JlDzk.mp3-part-483.wav\n"
     ]
    },
    {
     "name": "stderr",
     "output_type": "stream",
     "text": [
      " 99%|█████████▉| 129803/130662 [47:43<00:16, 50.81it/s]"
     ]
    },
    {
     "name": "stdout",
     "output_type": "stream",
     "text": [
      "skipped semisupervised-manglish/output-wav/The-Fashion-Weak-Podcast-Ep-43---Thirst-Trapping-Simps-&-Loving-Your-Body-From-The-Outside-In-6R87P6YD2c4.mp3-part-432.wav\n",
      "skipped semisupervised-manglish/output-wav/Why-Enneagram-Will-Change-Your-Perspective-On-ALL-Relationships-Forever-_-Cindy-Leong-_-SG-Podcast-cSxV6oacgaE.mp3-part-22.wav\n",
      "skipped semisupervised-manglish/output-wav/Mamak-Sessions-Ep9---Sibling-Rivalry-ft-Julian-Yee-670FyeJhnps.mp3-part-338.wav\n"
     ]
    },
    {
     "name": "stderr",
     "output_type": "stream",
     "text": [
      " 99%|█████████▉| 129903/130662 [47:45<00:14, 51.05it/s]"
     ]
    },
    {
     "name": "stdout",
     "output_type": "stream",
     "text": [
      "skipped semisupervised-manglish/output-wav/The-Fashion-Weak-Podcast-Ep-26---Chinese-New-Year-with-Stand-Up-Comedian-_-Fashionista-Kuah-Jenhan-Yv7uONh96tc.mp3-part-475.wav\n",
      "skipped semisupervised-manglish/output-wav/The-Fashion-Weak-Podcast-Ep35---Is-New-Balance-Cool-Now-Talking-everything-NOT-Nike-with-@adlysyairi-3b0bYe36KNE.mp3-part-257.wav\n"
     ]
    },
    {
     "name": "stderr",
     "output_type": "stream",
     "text": [
      " 99%|█████████▉| 129925/130662 [47:45<00:12, 60.67it/s]"
     ]
    },
    {
     "name": "stdout",
     "output_type": "stream",
     "text": [
      "skipped semisupervised-manglish/output-wav/Dance-Moves-To-Pick-Up-Girls-At-The-Club-With-Adidas-Creator-Maybelline-Wong-(@definitelyMayb_)-vRnkHzyyBc4.mp3-part-269.wav\n"
     ]
    },
    {
     "name": "stderr",
     "output_type": "stream",
     "text": [
      " 99%|█████████▉| 129996/130662 [47:47<00:12, 52.40it/s]"
     ]
    },
    {
     "name": "stdout",
     "output_type": "stream",
     "text": [
      "skipped semisupervised-manglish/output-wav/The-Fashion-Weak-Podcast-Ep24---Penang-Boys-@tunway-瘦虎-&-@Shawnduabui-肥龍-Talk-Zap-Fan-&-Sneakers-dykz_vuzJh0.mp3-part-839.wav\n"
     ]
    },
    {
     "name": "stderr",
     "output_type": "stream",
     "text": [
      "100%|█████████▉| 130041/130662 [47:47<00:09, 68.05it/s]"
     ]
    },
    {
     "name": "stdout",
     "output_type": "stream",
     "text": [
      "skipped semisupervised-manglish/output-wav/The-Fashion-Weak-Podcast-Ep-43---Thirst-Trapping-Simps-&-Loving-Your-Body-From-The-Outside-In-6R87P6YD2c4.mp3-part-314.wav\n"
     ]
    },
    {
     "name": "stderr",
     "output_type": "stream",
     "text": [
      "100%|█████████▉| 130062/130662 [47:48<00:09, 65.61it/s]"
     ]
    },
    {
     "name": "stdout",
     "output_type": "stream",
     "text": [
      "skipped semisupervised-manglish/output-wav/We-Try-Online-Dating-And-Fall-In-Love-With-Strangers-_-The-Thirsty-Sisters-#25-WnipnOcDkx8.mp3-part-13.wav\n"
     ]
    },
    {
     "name": "stderr",
     "output_type": "stream",
     "text": [
      "100%|█████████▉| 130076/130662 [47:48<00:12, 47.02it/s]"
     ]
    },
    {
     "name": "stdout",
     "output_type": "stream",
     "text": [
      "skipped semisupervised-manglish/output-wav/Why-Random-Hobbies-Can-Make-You-More-Productive-In-Life-_-Informal-Convos.-with-Xin-Yee-and-Leonard-JyAEITJk1AI.mp3-part-62.wav\n",
      "skipped semisupervised-manglish/output-wav/Mamak-Sessions-Ep6---Names-People-Always-Mispronounce-&-Facebook-Is-A-Spy-8LuihYdx0FQ.mp3-part-7.wav\n"
     ]
    },
    {
     "name": "stderr",
     "output_type": "stream",
     "text": [
      "100%|█████████▉| 130099/130662 [47:49<00:09, 60.11it/s]"
     ]
    },
    {
     "name": "stdout",
     "output_type": "stream",
     "text": [
      "skipped semisupervised-manglish/output-wav/The-Fashion-Weak-Podcast-EP16---Podcast-Wars-With-The-From-The-Thread-Boys-7dPzh9PpLs8.mp3-part-365.wav\n",
      "skipped semisupervised-manglish/output-wav/The-Fashion-Weak-Podcast-Ep-21---Suitmaker-To-The-Stars,-Shahrin-Bahar-aka-@sbahar.my-Pkv6d83oe8s.mp3-part-339.wav\n"
     ]
    },
    {
     "name": "stderr",
     "output_type": "stream",
     "text": [
      "100%|█████████▉| 130185/130662 [47:50<00:08, 55.08it/s]"
     ]
    },
    {
     "name": "stdout",
     "output_type": "stream",
     "text": [
      "skipped semisupervised-manglish/output-wav/Mamak-Sessions-Ep10---Datuk-Nicol-David-is-RETIRING!-n3AR3nQEc7Y.mp3-part-306.wav\n",
      "skipped semisupervised-manglish/output-wav/The-Fashion-Weak-Podcast-Ep-40---tdcjTfzYSbk.mp3-part-469.wav\n"
     ]
    },
    {
     "name": "stderr",
     "output_type": "stream",
     "text": [
      "100%|█████████▉| 130214/130662 [47:50<00:06, 64.44it/s]"
     ]
    },
    {
     "name": "stdout",
     "output_type": "stream",
     "text": [
      "skipped semisupervised-manglish/output-wav/Why-Human-Resources-Matters-+-Life-as-a-Singapore-Solopreneur-_-Lauren-Ong-_-Singaporean-Podcast-#20-YtCn4hNLk7o.mp3-part-376.wav\n"
     ]
    },
    {
     "name": "stderr",
     "output_type": "stream",
     "text": [
      "100%|█████████▉| 130291/130662 [47:52<00:06, 57.09it/s]"
     ]
    },
    {
     "name": "stdout",
     "output_type": "stream",
     "text": [
      "skipped semisupervised-manglish/output-wav/The-Fashion-Weak-Podcast-Ep-40---tdcjTfzYSbk.mp3-part-1061.wav\n"
     ]
    },
    {
     "name": "stderr",
     "output_type": "stream",
     "text": [
      "100%|█████████▉| 130395/130662 [47:54<00:04, 62.56it/s]"
     ]
    },
    {
     "name": "stdout",
     "output_type": "stream",
     "text": [
      "skipped semisupervised-manglish/output-wav/The-Fashion-Weak-Podcast-Ep-43---Thirst-Trapping-Simps-&-Loving-Your-Body-From-The-Outside-In-6R87P6YD2c4.mp3-part-98.wav\n"
     ]
    },
    {
     "name": "stderr",
     "output_type": "stream",
     "text": [
      "100%|█████████▉| 130437/130662 [47:55<00:05, 44.20it/s]"
     ]
    },
    {
     "name": "stdout",
     "output_type": "stream",
     "text": [
      "skipped semisupervised-manglish/output-wav/Mamak-Sessions-Podcast---Girl-Gets-Caned-For-Calling-her-Teacher-'AH-GUA'-PRN5UrsDF6w.mp3-part-140.wav\n"
     ]
    },
    {
     "name": "stderr",
     "output_type": "stream",
     "text": [
      "100%|█████████▉| 130472/130662 [47:55<00:03, 60.26it/s]"
     ]
    },
    {
     "name": "stdout",
     "output_type": "stream",
     "text": [
      "skipped semisupervised-manglish/output-wav/The-Fashion-Weak-Podcast-Ep-19---Butt-Stuff-&-Actual-Fashion-With-Zane-Gan-jhLgzHQnAHU.mp3-part-256.wav\n"
     ]
    },
    {
     "name": "stderr",
     "output_type": "stream",
     "text": [
      "100%|█████████▉| 130530/130662 [47:56<00:02, 44.78it/s]"
     ]
    },
    {
     "name": "stdout",
     "output_type": "stream",
     "text": [
      "skipped semisupervised-manglish/output-wav/Mamak-Sessions-Podcast---How-Do-You-Handle-Long-Distance-Relationships-Do-they-WORK-m7mwwtsblIs.mp3-part-5.wav\n"
     ]
    },
    {
     "name": "stderr",
     "output_type": "stream",
     "text": [
      "100%|█████████▉| 130573/130662 [47:57<00:01, 58.99it/s]"
     ]
    },
    {
     "name": "stdout",
     "output_type": "stream",
     "text": [
      "skipped semisupervised-manglish/output-wav/Mamak-Sessions-Ep10---Datuk-Nicol-David-is-RETIRING!-n3AR3nQEc7Y.mp3-part-55.wav\n"
     ]
    },
    {
     "name": "stderr",
     "output_type": "stream",
     "text": [
      "100%|██████████| 130662/130662 [47:59<00:00, 45.38it/s]"
     ]
    },
    {
     "name": "stdout",
     "output_type": "stream",
     "text": [
      "WARNING:tensorflow:From /home/husein/.local/lib/python3.6/site-packages/malaya_speech/train/prepare_data.py:218: The name tf.gfile.Rename is deprecated. Please use tf.io.gfile.rename instead.\n",
      "\n",
      "INFO:tensorflow:Generated 128924 Examples\n"
     ]
    },
    {
     "name": "stderr",
     "output_type": "stream",
     "text": [
      "\n"
     ]
    },
    {
     "name": "stdout",
     "output_type": "stream",
     "text": [
      "INFO:tensorflow:Shuffling data...\n",
      "WARNING:tensorflow:From /home/husein/.local/lib/python3.6/site-packages/malaya_speech/train/prepare_data.py:26: tf_record_iterator (from tensorflow.python.lib.io.tf_record) is deprecated and will be removed in a future version.\n",
      "Instructions for updating:\n",
      "Use eager execution and: \n",
      "`tf.data.TFRecordDataset(path)`\n",
      "WARNING:tensorflow:From /home/husein/.local/lib/python3.6/site-packages/malaya_speech/train/prepare_data.py:57: The name tf.gfile.Remove is deprecated. Please use tf.io.gfile.remove instead.\n",
      "\n",
      "INFO:tensorflow:Data shuffled.\n"
     ]
    }
   ],
   "source": [
    "train.prepare_dataset(generator, DATA_DIR, shards, prefix = 'bahasa-asr')"
   ]
  }
 ],
 "metadata": {
  "kernelspec": {
   "display_name": "Python 3",
   "language": "python",
   "name": "python3"
  },
  "language_info": {
   "codemirror_mode": {
    "name": "ipython",
    "version": 3
   },
   "file_extension": ".py",
   "mimetype": "text/x-python",
   "name": "python",
   "nbconvert_exporter": "python",
   "pygments_lexer": "ipython3",
   "version": "3.6.8"
  }
 },
 "nbformat": 4,
 "nbformat_minor": 2
}

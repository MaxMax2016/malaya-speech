{
 "cells": [
  {
   "cell_type": "markdown",
   "metadata": {},
   "source": [
    "# Prepare Malaya-Speech Dataset"
   ]
  },
  {
   "cell_type": "markdown",
   "metadata": {},
   "source": [
    "We want our model able to understand Bahasa and local english slang (Manglish)."
   ]
  },
  {
   "cell_type": "markdown",
   "metadata": {},
   "source": [
    "### Download data\n",
    "\n",
    "Run command below to download all data,\n",
    "\n",
    "```bash\n",
    "wget https://f000.backblazeb2.com/file/malay-dataset/speech/semisupervised-manglish.tar.gz\n",
    "tar -xf semisupervised-manglish.tar.gz\n",
    "wget https://cdn.commonvoice.mozilla.org/cv-corpus-5.1-2020-06-22/id.tar.gz\n",
    "tar -zxf id.tar.gz\n",
    "wget https://f000.backblazeb2.com/file/malay-dataset/speech/semisupervised-malay.tar.gz\n",
    "tar -xf semisupervised-malay.tar.gz\n",
    "```\n",
    "\n",
    "Total samples length,\n",
    "\n",
    "1. Malay, ~93 hours.\n",
    "2. Manglish, ~107 hours.\n",
    "3. Indonesian, ~4 hours.\n",
    "\n",
    "All these data are not really clean."
   ]
  },
  {
   "cell_type": "markdown",
   "metadata": {},
   "source": [
    "### Read data"
   ]
  },
  {
   "cell_type": "code",
   "execution_count": 1,
   "metadata": {},
   "outputs": [],
   "source": [
    "import pandas as pd\n",
    "import malaya_speech\n",
    "import malaya_speech.train as train"
   ]
  },
  {
   "cell_type": "code",
   "execution_count": 2,
   "metadata": {
    "scrolled": true
   },
   "outputs": [
    {
     "name": "stdout",
     "output_type": "stream",
     "text": [
      "(7490, 10)\n"
     ]
    }
   ],
   "source": [
    "df = pd.read_csv('cv-corpus-5.1-2020-06-22/id/validated.tsv', sep = '\\t')\n",
    "df = df[(df['sentence'].str.len() > 5) & (df['sentence'].str.count(' ') > 0)]\n",
    "print(df.shape)"
   ]
  },
  {
   "cell_type": "code",
   "execution_count": 3,
   "metadata": {},
   "outputs": [
    {
     "data": {
      "text/plain": [
       "7490"
      ]
     },
     "execution_count": 3,
     "metadata": {},
     "output_type": "execute_result"
    }
   ],
   "source": [
    "id_commonvoice = []\n",
    "for i in range(len(df)):\n",
    "    p = f\"cv-corpus-5.1-2020-06-22/id/clips/{df['path'].iloc[i]}\"\n",
    "    id_commonvoice.append((p, df['sentence'].iloc[i]))\n",
    "\n",
    "len(id_commonvoice)"
   ]
  },
  {
   "cell_type": "code",
   "execution_count": 4,
   "metadata": {},
   "outputs": [
    {
     "data": {
      "text/plain": [
       "(57895, 65277)"
      ]
     },
     "execution_count": 4,
     "metadata": {},
     "output_type": "execute_result"
    }
   ],
   "source": [
    "from glob import glob\n",
    "\n",
    "malay = glob('semisupervised-malay/output-wav/*.wav')\n",
    "manglish = glob('semisupervised-manglish/output-wav/*.wav')\n",
    "len(malay), len(manglish)"
   ]
  },
  {
   "cell_type": "code",
   "execution_count": 5,
   "metadata": {},
   "outputs": [],
   "source": [
    "import unicodedata\n",
    "import re\n",
    "\n",
    "\n",
    "def preprocessing_text(string, reject = ',.!?'):\n",
    "    for c in reject:\n",
    "        string = string.replace(c, ' ')\n",
    "        \n",
    "    string = unicodedata.normalize('NFC', string.lower())\n",
    "    return re.sub(r'[ ]+', ' ', string).strip()"
   ]
  },
  {
   "cell_type": "code",
   "execution_count": 6,
   "metadata": {},
   "outputs": [
    {
     "name": "stderr",
     "output_type": "stream",
     "text": [
      "100%|██████████| 57895/57895 [00:01<00:00, 36185.03it/s]\n"
     ]
    }
   ],
   "source": [
    "from tqdm import tqdm\n",
    "\n",
    "malays = []\n",
    "for i in tqdm(malay):\n",
    "    try:\n",
    "        p = i.replace('output-wav','output-text')\n",
    "        with open(f'{p}.txt') as fopen:\n",
    "            text = fopen.read()\n",
    "        malays.append((i, text))\n",
    "    except Exception as e:\n",
    "        print(e)"
   ]
  },
  {
   "cell_type": "code",
   "execution_count": 7,
   "metadata": {},
   "outputs": [
    {
     "name": "stderr",
     "output_type": "stream",
     "text": [
      "100%|██████████| 65277/65277 [00:01<00:00, 37518.22it/s]\n"
     ]
    }
   ],
   "source": [
    "manglishs = []\n",
    "for i in tqdm(manglish):\n",
    "    try:\n",
    "        p = i.replace('output-wav','output-text')\n",
    "        with open(f'{p}.txt') as fopen:\n",
    "            text = fopen.read()\n",
    "        manglishs.append((i, text))\n",
    "    except Exception as e:\n",
    "        print(e)"
   ]
  },
  {
   "cell_type": "code",
   "execution_count": 8,
   "metadata": {},
   "outputs": [],
   "source": [
    "audios = id_commonvoice + malays + manglishs\n",
    "audios, texts = zip(*audios)"
   ]
  },
  {
   "cell_type": "code",
   "execution_count": 9,
   "metadata": {},
   "outputs": [],
   "source": [
    "from pydub import AudioSegment\n",
    "import numpy as np\n",
    "\n",
    "def mp3_to_wav(file, sr = 16000):\n",
    "    audio = AudioSegment.from_file(file)\n",
    "    audio = audio.set_frame_rate(sr).set_channels(1)\n",
    "    sample = np.array(audio.get_array_of_samples())\n",
    "    return malaya_speech.astype.int_to_float(sample), sr"
   ]
  },
  {
   "cell_type": "markdown",
   "metadata": {},
   "source": [
    "### Change into TFRecord\n",
    "\n",
    "This is not necessary step, we recommend to use yield iterator to train the model, but we also can save our data into TFRecord to speed up data pipelines. To do that, we need to create a yield iterator."
   ]
  },
  {
   "cell_type": "code",
   "execution_count": 10,
   "metadata": {},
   "outputs": [],
   "source": [
    "def generator(maxlen = 16):\n",
    "    for i in tqdm(range(len(audios))):\n",
    "        try:\n",
    "            if '.mp3' in audios[i]:\n",
    "                wav_data, sr = mp3_to_wav(audios[i])\n",
    "            else:\n",
    "                wav_data, sr = malaya_speech.load(audios[i])\n",
    "                \n",
    "            if (len(wav_data) / sr) > maxlen:\n",
    "                print(f'skipped {audios[i]}')\n",
    "\n",
    "            yield {\n",
    "                'waveforms': wav_data.tolist(),\n",
    "                'waveform_lens': [len(wav_data)],\n",
    "                'targets': malaya_speech.char.encode(texts[i]),\n",
    "                'raw_transcript': [texts[i]],\n",
    "            }\n",
    "        except Exception as e:\n",
    "            print(e)\n",
    "            \n",
    "generator = generator()"
   ]
  },
  {
   "cell_type": "code",
   "execution_count": 11,
   "metadata": {},
   "outputs": [],
   "source": [
    "import os\n",
    "import tensorflow as tf\n",
    "\n",
    "os.system('rm bahasa-asr/data/*')\n",
    "DATA_DIR = os.path.expanduser('bahasa-asr/data')\n",
    "tf.gfile.MakeDirs(DATA_DIR)"
   ]
  },
  {
   "cell_type": "markdown",
   "metadata": {},
   "source": [
    "#### Define shards\n",
    "\n",
    "Like we defined below,\n",
    "\n",
    "```python\n",
    "shards = [{'split': 'train', 'shards': 1000}, {'split': 'dev', 'shards': 1}]\n",
    "```"
   ]
  },
  {
   "cell_type": "code",
   "execution_count": 12,
   "metadata": {},
   "outputs": [],
   "source": [
    "shards = [{'split': 'train', 'shards': 1000}, {'split': 'dev', 'shards': 1}]"
   ]
  },
  {
   "cell_type": "markdown",
   "metadata": {},
   "source": [
    "#### Save to TFRecord\n",
    "\n",
    "Just pass yield iterator to malaya_speech.train_prepare_dataset,\n",
    "\n",
    "```python\n",
    "def prepare_dataset(\n",
    "    generator,\n",
    "    data_dir: str,\n",
    "    shards: List[Dict],\n",
    "    prefix: str = 'dataset',\n",
    "    shuffle: bool = True,\n",
    "    already_shuffled: bool = False,\n",
    "):\n",
    "```"
   ]
  },
  {
   "cell_type": "code",
   "execution_count": 13,
   "metadata": {},
   "outputs": [
    {
     "name": "stdout",
     "output_type": "stream",
     "text": [
      "WARNING:tensorflow:From /home/husein/.local/lib/python3.6/site-packages/malaya_speech/train/prepare_data.py:89: The name tf.gfile.Exists is deprecated. Please use tf.io.gfile.exists instead.\n",
      "\n",
      "WARNING:tensorflow:From /home/husein/.local/lib/python3.6/site-packages/malaya_speech/train/prepare_data.py:199: The name tf.python_io.TFRecordWriter is deprecated. Please use tf.io.TFRecordWriter instead.\n",
      "\n"
     ]
    },
    {
     "name": "stderr",
     "output_type": "stream",
     "text": [
      "  0%|          | 0/130662 [00:00<?, ?it/s]"
     ]
    },
    {
     "name": "stdout",
     "output_type": "stream",
     "text": [
      "WARNING:tensorflow:From /home/husein/.local/lib/python3.6/site-packages/malaya_speech/train/prepare_data.py:205: The name tf.logging.info is deprecated. Please use tf.compat.v1.logging.info instead.\n",
      "\n",
      "INFO:tensorflow:Generating case 0.\n"
     ]
    },
    {
     "name": "stderr",
     "output_type": "stream",
     "text": [
      "  6%|▌         | 7742/130662 [10:49<31:27, 65.11it/s]  "
     ]
    },
    {
     "name": "stdout",
     "output_type": "stream",
     "text": [
      "skipped semisupervised-malay/output-wav/Bila-Mata-Bertentang-Mata-❤️-_-Ustaz-Mohd-Lukmanul-Hakim-Wm-8ZeLyux0.mp3-part-312.wav\n"
     ]
    },
    {
     "name": "stderr",
     "output_type": "stream",
     "text": [
      "  7%|▋         | 8516/130662 [11:02<34:59, 58.19it/s]"
     ]
    },
    {
     "name": "stdout",
     "output_type": "stream",
     "text": [
      "skipped semisupervised-malay/output-wav/92-_-Cuba-Renung-Kisah-Ini-_-Ustaz-Wadi-Annuar-AVt7WL-ZR4Y.mp3-part-566.wav\n"
     ]
    },
    {
     "name": "stderr",
     "output_type": "stream",
     "text": [
      "  7%|▋         | 8594/130662 [11:04<34:11, 59.51it/s]"
     ]
    },
    {
     "name": "stdout",
     "output_type": "stream",
     "text": [
      "skipped semisupervised-malay/output-wav/Pengalaman-Pertama-Kali-Tidur-Dalam-Kereta-Api-Dari-Malaysia-Ke-Thailand-WKi6VUFzjuo.mp3-part-29.wav\n"
     ]
    },
    {
     "name": "stderr",
     "output_type": "stream",
     "text": [
      "  7%|▋         | 8793/130662 [11:07<33:15, 61.09it/s]"
     ]
    },
    {
     "name": "stdout",
     "output_type": "stream",
     "text": [
      "skipped semisupervised-malay/output-wav/Buang-BERHALA-Yang-Duduk-Di-Hati-Kita-😥-_-Ustaz-Ahmad-Rizam-EP2qcEFmFD8.mp3-part-246.wav\n"
     ]
    },
    {
     "name": "stderr",
     "output_type": "stream",
     "text": [
      "  7%|▋         | 8844/130662 [11:08<35:20, 57.45it/s]"
     ]
    },
    {
     "name": "stdout",
     "output_type": "stream",
     "text": [
      "skipped semisupervised-malay/output-wav/Sesi-3----Rahsia-Roh-Menggerakkan-Kita-glR3xP2HTS0.mp3-part-6.wav\n"
     ]
    },
    {
     "name": "stderr",
     "output_type": "stream",
     "text": [
      "  7%|▋         | 8888/130662 [11:09<34:10, 59.38it/s]"
     ]
    },
    {
     "name": "stdout",
     "output_type": "stream",
     "text": [
      "skipped semisupervised-malay/output-wav/Sesi-3----Rahsia-Roh-Menggerakkan-Kita-glR3xP2HTS0.mp3-part-22.wav\n"
     ]
    },
    {
     "name": "stderr",
     "output_type": "stream",
     "text": [
      "  7%|▋         | 9513/130662 [11:19<39:58, 50.52it/s]"
     ]
    },
    {
     "name": "stdout",
     "output_type": "stream",
     "text": [
      "skipped semisupervised-malay/output-wav/Ratu-Balqis-Anak-Dari-Golongan-JIN--😯-_-Ustaz-Auni-Mohamed-arZATVyf8j8.mp3-part-341.wav\n"
     ]
    },
    {
     "name": "stderr",
     "output_type": "stream",
     "text": [
      "  7%|▋         | 9593/130662 [11:21<39:34, 50.98it/s]"
     ]
    },
    {
     "name": "stdout",
     "output_type": "stream",
     "text": [
      "skipped semisupervised-malay/output-wav/Ruang-Masa-Hiperbolik-Wujud-Di-Dunia-Sebenar!-1v-n23HAi7M.mp3-part-15.wav\n"
     ]
    },
    {
     "name": "stderr",
     "output_type": "stream",
     "text": [
      "  7%|▋         | 9652/130662 [11:22<31:39, 63.71it/s]"
     ]
    },
    {
     "name": "stdout",
     "output_type": "stream",
     "text": [
      "skipped semisupervised-malay/output-wav/SEDEKAH-Bukan-Dengan-Harta-Semata-Mata-_-Ustaz-Mohd-Lukmanul-Hakim-QW3GndtSb1k.mp3-part-21.wav\n"
     ]
    },
    {
     "name": "stderr",
     "output_type": "stream",
     "text": [
      "  8%|▊         | 9975/130662 [11:27<35:23, 56.85it/s]"
     ]
    },
    {
     "name": "stdout",
     "output_type": "stream",
     "text": [
      "skipped semisupervised-malay/output-wav/Dunia-Tamat-2038-4sYNZ3vkIbg.mp3-part-19.wav\n"
     ]
    },
    {
     "name": "stderr",
     "output_type": "stream",
     "text": [
      "  8%|▊         | 10238/130662 [11:32<36:00, 55.74it/s]"
     ]
    },
    {
     "name": "stdout",
     "output_type": "stream",
     "text": [
      "skipped semisupervised-malay/output-wav/Buang-BERHALA-Yang-Duduk-Di-Hati-Kita-😥-_-Ustaz-Ahmad-Rizam-EP2qcEFmFD8.mp3-part-391.wav\n"
     ]
    },
    {
     "name": "stderr",
     "output_type": "stream",
     "text": [
      "  8%|▊         | 10544/130662 [11:37<34:14, 58.45it/s]"
     ]
    },
    {
     "name": "stdout",
     "output_type": "stream",
     "text": [
      "skipped semisupervised-malay/output-wav/65-_-Wahai-Anak,-Allah-Akan-Menguji-Kamu-!-_-Ustaz-Wadi-Annuar-0ZKxMaNusTA.mp3-part-275.wav\n"
     ]
    },
    {
     "name": "stderr",
     "output_type": "stream",
     "text": [
      "  9%|▊         | 11285/130662 [11:49<40:10, 49.53it/s]"
     ]
    },
    {
     "name": "stdout",
     "output_type": "stream",
     "text": [
      "skipped semisupervised-malay/output-wav/Dunia-Tamat-2038-4sYNZ3vkIbg.mp3-part-30.wav\n"
     ]
    },
    {
     "name": "stderr",
     "output_type": "stream",
     "text": [
      "  9%|▉         | 11446/130662 [11:52<40:16, 49.34it/s]"
     ]
    },
    {
     "name": "stdout",
     "output_type": "stream",
     "text": [
      "skipped semisupervised-malay/output-wav/Ruang-Masa-Hiperbolik-Wujud-Di-Dunia-Sebenar!-1v-n23HAi7M.mp3-part-31.wav\n"
     ]
    },
    {
     "name": "stderr",
     "output_type": "stream",
     "text": [
      "  9%|▉         | 11759/130662 [11:57<32:47, 60.42it/s]"
     ]
    },
    {
     "name": "stdout",
     "output_type": "stream",
     "text": [
      "skipped semisupervised-malay/output-wav/Buang-BERHALA-Yang-Duduk-Di-Hati-Kita-😥-_-Ustaz-Ahmad-Rizam-EP2qcEFmFD8.mp3-part-312.wav\n"
     ]
    },
    {
     "name": "stderr",
     "output_type": "stream",
     "text": [
      "  9%|▉         | 11948/130662 [12:00<35:11, 56.23it/s]"
     ]
    },
    {
     "name": "stdout",
     "output_type": "stream",
     "text": [
      "skipped semisupervised-malay/output-wav/Manusia-Cukup-TAK-SUKA-Dua-Benda-Ini-😮-_-Ustaz-Dato-Kazim-Elias--t8sUAMQ94M.mp3-part-62.wav\n"
     ]
    },
    {
     "name": "stderr",
     "output_type": "stream",
     "text": [
      "  9%|▉         | 11997/130662 [12:01<35:55, 55.06it/s]"
     ]
    },
    {
     "name": "stdout",
     "output_type": "stream",
     "text": [
      "skipped semisupervised-malay/output-wav/Bila-Mata-Bertentang-Mata-❤️-_-Ustaz-Mohd-Lukmanul-Hakim-Wm-8ZeLyux0.mp3-part-198.wav\n"
     ]
    },
    {
     "name": "stderr",
     "output_type": "stream",
     "text": [
      "  9%|▉         | 12084/130662 [12:03<34:02, 58.05it/s]"
     ]
    },
    {
     "name": "stdout",
     "output_type": "stream",
     "text": [
      "skipped semisupervised-malay/output-wav/Ruang-Masa-Hiperbolik-Wujud-Di-Dunia-Sebenar!-1v-n23HAi7M.mp3-part-22.wav\n"
     ]
    },
    {
     "name": "stderr",
     "output_type": "stream",
     "text": [
      "  9%|▉         | 12171/130662 [12:04<37:37, 52.48it/s]"
     ]
    },
    {
     "name": "stdout",
     "output_type": "stream",
     "text": [
      "skipped semisupervised-malay/output-wav/Pengalaman-Pertama-Kali-Tidur-Dalam-Kereta-Api-Dari-Malaysia-Ke-Thailand-WKi6VUFzjuo.mp3-part-35.wav\n"
     ]
    },
    {
     "name": "stderr",
     "output_type": "stream",
     "text": [
      "  9%|▉         | 12335/130662 [12:07<35:01, 56.30it/s]"
     ]
    },
    {
     "name": "stdout",
     "output_type": "stream",
     "text": [
      "skipped semisupervised-malay/output-wav/WACANA-ILMU----KLIK-DENGAN-BIJAK-L9urGAc2084.mp3-part-310.wav\n"
     ]
    },
    {
     "name": "stderr",
     "output_type": "stream",
     "text": [
      "  9%|▉         | 12372/130662 [12:08<31:58, 61.65it/s]"
     ]
    },
    {
     "name": "stdout",
     "output_type": "stream",
     "text": [
      "skipped semisupervised-malay/output-wav/WACANA-ILMU----KERANGKA-STANDARD-BAHASA-MELAYU-(KSBM)-PENTAKSIRAN-DARIPADA-PERSPEKTIF-KSBM-qbFORSE48cQ.mp3-part-72.wav\n"
     ]
    },
    {
     "name": "stderr",
     "output_type": "stream",
     "text": [
      " 10%|▉         | 12730/130662 [12:13<33:49, 58.11it/s]"
     ]
    },
    {
     "name": "stdout",
     "output_type": "stream",
     "text": [
      "skipped semisupervised-malay/output-wav/WACANA-ILMU----VIA-KAUNSELOR---Kaunseling-Untuk-Semua--Sd927cAvnQ.mp3-part-377.wav\n"
     ]
    },
    {
     "name": "stderr",
     "output_type": "stream",
     "text": [
      " 10%|█         | 13133/130662 [12:20<35:28, 55.22it/s]"
     ]
    },
    {
     "name": "stdout",
     "output_type": "stream",
     "text": [
      "skipped semisupervised-malay/output-wav/Buang-BERHALA-Yang-Duduk-Di-Hati-Kita-😥-_-Ustaz-Ahmad-Rizam-EP2qcEFmFD8.mp3-part-345.wav\n"
     ]
    },
    {
     "name": "stderr",
     "output_type": "stream",
     "text": [
      " 10%|█         | 13182/130662 [12:21<33:48, 57.92it/s]"
     ]
    },
    {
     "name": "stdout",
     "output_type": "stream",
     "text": [
      "skipped semisupervised-malay/output-wav/Afrika-Ep1----Bergaduh-dengan-orang-Afrika-di-Airport-Nairobi-Kenya-mNZRQE-QDiM.mp3-part-22.wav\n"
     ]
    },
    {
     "name": "stderr",
     "output_type": "stream",
     "text": [
      " 10%|█         | 13231/130662 [12:22<37:16, 52.50it/s]"
     ]
    },
    {
     "name": "stdout",
     "output_type": "stream",
     "text": [
      "skipped semisupervised-malay/output-wav/Ini-Bukan-Kuning-iqxyI-eYK3M.mp3-part-26.wav\n"
     ]
    },
    {
     "name": "stderr",
     "output_type": "stream",
     "text": [
      " 10%|█         | 13485/130662 [12:26<34:41, 56.28it/s]"
     ]
    },
    {
     "name": "stdout",
     "output_type": "stream",
     "text": [
      "skipped semisupervised-malay/output-wav/Konsep-TAWASSUL-Dalam-Islam-_-Ustaz-Mohd-Anuar-mQuUzU8xQ44.mp3-part-180.wav\n"
     ]
    },
    {
     "name": "stderr",
     "output_type": "stream",
     "text": [
      " 11%|█         | 13906/130662 [12:33<38:52, 50.05it/s]"
     ]
    },
    {
     "name": "stdout",
     "output_type": "stream",
     "text": [
      "skipped semisupervised-malay/output-wav/Nak-Sambut-DEKAD-Baru-2020-Tengok-Video-Ni-Dulu.-QO-YWGQvb1Q.mp3-part-14.wav\n"
     ]
    },
    {
     "name": "stderr",
     "output_type": "stream",
     "text": [
      " 11%|█         | 13963/130662 [12:34<30:58, 62.80it/s]"
     ]
    },
    {
     "name": "stdout",
     "output_type": "stream",
     "text": [
      "skipped semisupervised-malay/output-wav/IPGM----Cabaran-VUCA-Dari-Perspektif-Pendidikan-Guru-dan-PAK-21-QOCbT-XH36I.mp3-part-192.wav\n"
     ]
    },
    {
     "name": "stderr",
     "output_type": "stream",
     "text": [
      " 11%|█         | 14015/130662 [12:35<32:40, 59.49it/s]"
     ]
    },
    {
     "name": "stdout",
     "output_type": "stream",
     "text": [
      "skipped semisupervised-malay/output-wav/65-_-Wahai-Anak,-Allah-Akan-Menguji-Kamu-!-_-Ustaz-Wadi-Annuar-0ZKxMaNusTA.mp3-part-260.wav\n"
     ]
    },
    {
     "name": "stderr",
     "output_type": "stream",
     "text": [
      " 11%|█         | 14170/130662 [12:38<29:28, 65.87it/s]"
     ]
    },
    {
     "name": "stdout",
     "output_type": "stream",
     "text": [
      "skipped semisupervised-malay/output-wav/Siapa-Buat-Soalan-IQ-Pelik-Ni-Kenapa-HGFCASE37OQ.mp3-part-1.wav\n"
     ]
    },
    {
     "name": "stderr",
     "output_type": "stream",
     "text": [
      " 11%|█         | 14589/130662 [12:45<32:11, 60.09it/s]"
     ]
    },
    {
     "name": "stdout",
     "output_type": "stream",
     "text": [
      "skipped semisupervised-malay/output-wav/Buang-BERHALA-Yang-Duduk-Di-Hati-Kita-😥-_-Ustaz-Ahmad-Rizam-EP2qcEFmFD8.mp3-part-453.wav\n"
     ]
    },
    {
     "name": "stderr",
     "output_type": "stream",
     "text": [
      " 11%|█▏        | 14842/130662 [12:49<32:25, 59.53it/s]"
     ]
    },
    {
     "name": "stdout",
     "output_type": "stream",
     "text": [
      "skipped semisupervised-malay/output-wav/WACANA-ILMU----KELESTARIAN-PROSPEN-IPG,-KECEMERLANGAN-ORGANISASI-t__QLuABpvw.mp3-part-600.wav\n"
     ]
    },
    {
     "name": "stderr",
     "output_type": "stream",
     "text": [
      " 12%|█▏        | 15030/130662 [12:52<35:28, 54.32it/s]"
     ]
    },
    {
     "name": "stdout",
     "output_type": "stream",
     "text": [
      "skipped semisupervised-malay/output-wav/Buang-BERHALA-Yang-Duduk-Di-Hati-Kita-😥-_-Ustaz-Ahmad-Rizam-EP2qcEFmFD8.mp3-part-448.wav\n"
     ]
    },
    {
     "name": "stderr",
     "output_type": "stream",
     "text": [
      " 12%|█▏        | 15130/130662 [12:54<33:32, 57.40it/s]"
     ]
    },
    {
     "name": "stdout",
     "output_type": "stream",
     "text": [
      "skipped semisupervised-malay/output-wav/Doa-Orang-Yang-Dizalimi-Sangat-BERACUN-_-Ustaz-Mohd-Aslam-IFhlmN0bDyI.mp3-part-79.wav\n"
     ]
    },
    {
     "name": "stderr",
     "output_type": "stream",
     "text": [
      " 12%|█▏        | 15178/130662 [12:55<34:11, 56.29it/s]"
     ]
    },
    {
     "name": "stdout",
     "output_type": "stream",
     "text": [
      "skipped semisupervised-malay/output-wav/Ruang-Masa-Hiperbolik-Wujud-Di-Dunia-Sebenar!-1v-n23HAi7M.mp3-part-27.wav\n"
     ]
    },
    {
     "name": "stderr",
     "output_type": "stream",
     "text": [
      " 12%|█▏        | 15194/130662 [12:55<34:13, 56.22it/s]"
     ]
    },
    {
     "name": "stdout",
     "output_type": "stream",
     "text": [
      "skipped semisupervised-malay/output-wav/65-_-Wahai-Anak,-Allah-Akan-Menguji-Kamu-!-_-Ustaz-Wadi-Annuar-0ZKxMaNusTA.mp3-part-291.wav\n"
     ]
    },
    {
     "name": "stderr",
     "output_type": "stream",
     "text": [
      " 12%|█▏        | 15209/130662 [12:55<30:53, 62.28it/s]"
     ]
    },
    {
     "name": "stdout",
     "output_type": "stream",
     "text": [
      "skipped semisupervised-malay/output-wav/65-_-Wahai-Anak,-Allah-Akan-Menguji-Kamu-!-_-Ustaz-Wadi-Annuar-0ZKxMaNusTA.mp3-part-433.wav\n"
     ]
    },
    {
     "name": "stderr",
     "output_type": "stream",
     "text": [
      " 12%|█▏        | 15386/130662 [12:58<31:49, 60.36it/s]"
     ]
    },
    {
     "name": "stdout",
     "output_type": "stream",
     "text": [
      "skipped semisupervised-malay/output-wav/65-_-Wahai-Anak,-Allah-Akan-Menguji-Kamu-!-_-Ustaz-Wadi-Annuar-0ZKxMaNusTA.mp3-part-66.wav\n"
     ]
    },
    {
     "name": "stderr",
     "output_type": "stream",
     "text": [
      " 12%|█▏        | 15412/130662 [12:59<36:43, 52.30it/s]"
     ]
    },
    {
     "name": "stdout",
     "output_type": "stream",
     "text": [
      "skipped semisupervised-malay/output-wav/Buang-BERHALA-Yang-Duduk-Di-Hati-Kita-😥-_-Ustaz-Ahmad-Rizam-EP2qcEFmFD8.mp3-part-162.wav\n"
     ]
    },
    {
     "name": "stderr",
     "output_type": "stream",
     "text": [
      " 12%|█▏        | 15676/130662 [13:04<35:08, 54.53it/s]"
     ]
    },
    {
     "name": "stdout",
     "output_type": "stream",
     "text": [
      "skipped semisupervised-malay/output-wav/Pengalaman-Pertama-Kali-Tidur-Dalam-Kereta-Api-Dari-Malaysia-Ke-Thailand-WKi6VUFzjuo.mp3-part-32.wav\n"
     ]
    },
    {
     "name": "stderr",
     "output_type": "stream",
     "text": [
      " 12%|█▏        | 15698/130662 [13:04<35:24, 54.11it/s]"
     ]
    },
    {
     "name": "stdout",
     "output_type": "stream",
     "text": [
      "skipped semisupervised-malay/output-wav/Nak-Sambut-DEKAD-Baru-2020-Tengok-Video-Ni-Dulu.-QO-YWGQvb1Q.mp3-part-16.wav\n"
     ]
    },
    {
     "name": "stderr",
     "output_type": "stream",
     "text": [
      " 12%|█▏        | 15877/130662 [13:07<32:23, 59.07it/s]"
     ]
    },
    {
     "name": "stdout",
     "output_type": "stream",
     "text": [
      "skipped semisupervised-malay/output-wav/Misteri-Panjang-Sebenar-Malaysia-Z2KnOKHBWFY.mp3-part-4.wav\n"
     ]
    },
    {
     "name": "stderr",
     "output_type": "stream",
     "text": [
      " 12%|█▏        | 15957/130662 [13:08<46:12, 41.38it/s]"
     ]
    },
    {
     "name": "stdout",
     "output_type": "stream",
     "text": [
      "skipped semisupervised-malay/output-wav/Ruang-Masa-Hiperbolik-Wujud-Di-Dunia-Sebenar!-1v-n23HAi7M.mp3-part-0.wav\n"
     ]
    },
    {
     "name": "stderr",
     "output_type": "stream",
     "text": [
      " 12%|█▏        | 16194/130662 [13:12<34:19, 55.57it/s]"
     ]
    },
    {
     "name": "stdout",
     "output_type": "stream",
     "text": [
      "skipped semisupervised-malay/output-wav/TAWASSUL-Dengan-Orang-Soleh-Yang-Masih-Hidup-🤔-_-Ustaz-Mohd-Anuar-ZFw2QoiRi68.mp3-part-79.wav\n"
     ]
    },
    {
     "name": "stderr",
     "output_type": "stream",
     "text": [
      " 12%|█▏        | 16311/130662 [13:14<33:41, 56.58it/s]"
     ]
    },
    {
     "name": "stdout",
     "output_type": "stream",
     "text": [
      "skipped semisupervised-malay/output-wav/IPGM----Cabaran-VUCA-Dari-Perspektif-Pendidikan-Guru-dan-PAK-21-QOCbT-XH36I.mp3-part-261.wav\n"
     ]
    },
    {
     "name": "stderr",
     "output_type": "stream",
     "text": [
      " 13%|█▎        | 17211/130662 [13:29<29:27, 64.18it/s]"
     ]
    },
    {
     "name": "stdout",
     "output_type": "stream",
     "text": [
      "skipped semisupervised-malay/output-wav/Pengalaman-Pertama-Kali-Tidur-Dalam-Kereta-Api-Dari-Malaysia-Ke-Thailand-WKi6VUFzjuo.mp3-part-38.wav\n"
     ]
    },
    {
     "name": "stderr",
     "output_type": "stream",
     "text": [
      " 14%|█▎        | 17965/130662 [13:42<31:26, 59.73it/s]"
     ]
    },
    {
     "name": "stdout",
     "output_type": "stream",
     "text": [
      "skipped semisupervised-malay/output-wav/IPGM----Cabaran-VUCA-Dari-Perspektif-Pendidikan-Guru-dan-PAK-21-QOCbT-XH36I.mp3-part-289.wav\n"
     ]
    },
    {
     "name": "stderr",
     "output_type": "stream",
     "text": [
      " 14%|█▍        | 18871/130662 [13:57<33:53, 54.98it/s]"
     ]
    },
    {
     "name": "stdout",
     "output_type": "stream",
     "text": [
      "skipped semisupervised-malay/output-wav/Ruang-Masa-Hiperbolik-Wujud-Di-Dunia-Sebenar!-1v-n23HAi7M.mp3-part-20.wav\n"
     ]
    },
    {
     "name": "stderr",
     "output_type": "stream",
     "text": [
      " 15%|█▍        | 18964/130662 [13:59<32:04, 58.03it/s]"
     ]
    },
    {
     "name": "stdout",
     "output_type": "stream",
     "text": [
      "skipped semisupervised-malay/output-wav/WACANA-ILMU----PSIKO-GAJET-oJ0xApNXRBo.mp3-part-101.wav\n"
     ]
    },
    {
     "name": "stderr",
     "output_type": "stream",
     "text": [
      " 15%|█▍        | 19117/130662 [14:01<32:14, 57.65it/s]"
     ]
    },
    {
     "name": "stdout",
     "output_type": "stream",
     "text": [
      "skipped semisupervised-malay/output-wav/214-_-Apa-Yang-Hud-Hud-Mahu-Khabarkan-🤔-_-Ustaz-Auni-Mohamed-rARJlDAJEgE.mp3-part-108.wav\n"
     ]
    },
    {
     "name": "stderr",
     "output_type": "stream",
     "text": [
      " 15%|█▍        | 19319/130662 [14:05<27:07, 68.43it/s]"
     ]
    },
    {
     "name": "stdout",
     "output_type": "stream",
     "text": [
      "skipped semisupervised-malay/output-wav/Buang-BERHALA-Yang-Duduk-Di-Hati-Kita-😥-_-Ustaz-Ahmad-Rizam-EP2qcEFmFD8.mp3-part-110.wav\n"
     ]
    },
    {
     "name": "stderr",
     "output_type": "stream",
     "text": [
      " 15%|█▌        | 19608/130662 [14:10<44:12, 41.87it/s]"
     ]
    },
    {
     "name": "stdout",
     "output_type": "stream",
     "text": [
      "skipped semisupervised-malay/output-wav/Buang-BERHALA-Yang-Duduk-Di-Hati-Kita-😥-_-Ustaz-Ahmad-Rizam-EP2qcEFmFD8.mp3-part-547.wav\n"
     ]
    },
    {
     "name": "stderr",
     "output_type": "stream",
     "text": [
      " 15%|█▌        | 19830/130662 [14:13<28:13, 65.44it/s]"
     ]
    },
    {
     "name": "stdout",
     "output_type": "stream",
     "text": [
      "skipped semisupervised-malay/output-wav/Pengintegrasian-Elemen-Pendidikan-Kewangan-Dalam-Kurikulum-Persekolahan.-NeiArFP2Itc.mp3-part-591.wav\n"
     ]
    },
    {
     "name": "stderr",
     "output_type": "stream",
     "text": [
      " 15%|█▌        | 20112/130662 [14:18<27:30, 67.00it/s]"
     ]
    },
    {
     "name": "stdout",
     "output_type": "stream",
     "text": [
      "skipped semisupervised-malay/output-wav/IPGM----Cabaran-VUCA-Dari-Perspektif-Pendidikan-Guru-dan-PAK-21-QOCbT-XH36I.mp3-part-551.wav\n"
     ]
    },
    {
     "name": "stderr",
     "output_type": "stream",
     "text": [
      " 15%|█▌        | 20219/130662 [14:20<37:07, 49.58it/s]"
     ]
    },
    {
     "name": "stdout",
     "output_type": "stream",
     "text": [
      "skipped semisupervised-malay/output-wav/65-_-Wahai-Anak,-Allah-Akan-Menguji-Kamu-!-_-Ustaz-Wadi-Annuar-0ZKxMaNusTA.mp3-part-106.wav\n"
     ]
    },
    {
     "name": "stderr",
     "output_type": "stream",
     "text": [
      " 15%|█▌        | 20232/130662 [14:20<35:21, 52.05it/s]"
     ]
    },
    {
     "name": "stdout",
     "output_type": "stream",
     "text": [
      "skipped semisupervised-malay/output-wav/Pengintegrasian-Elemen-Pendidikan-Kewangan-Dalam-Kurikulum-Persekolahan.-NeiArFP2Itc.mp3-part-971.wav\n"
     ]
    },
    {
     "name": "stderr",
     "output_type": "stream",
     "text": [
      " 16%|█▌        | 20326/130662 [14:22<31:36, 58.17it/s]"
     ]
    },
    {
     "name": "stdout",
     "output_type": "stream",
     "text": [
      "skipped semisupervised-malay/output-wav/Sesi-3----Rahsia-Roh-Menggerakkan-Kita-glR3xP2HTS0.mp3-part-13.wav\n"
     ]
    },
    {
     "name": "stderr",
     "output_type": "stream",
     "text": [
      " 16%|█▌        | 21013/130662 [14:33<38:54, 46.96it/s]"
     ]
    },
    {
     "name": "stdout",
     "output_type": "stream",
     "text": [
      "skipped semisupervised-malay/output-wav/PODCAST-[Bahasa-Malaysia]-VlmIyZllgz0.mp3-part-93.wav\n"
     ]
    },
    {
     "name": "stderr",
     "output_type": "stream",
     "text": [
      " 16%|█▋        | 21307/130662 [14:38<34:22, 53.03it/s]"
     ]
    },
    {
     "name": "stdout",
     "output_type": "stream",
     "text": [
      "skipped semisupervised-malay/output-wav/65-_-Wahai-Anak,-Allah-Akan-Menguji-Kamu-!-_-Ustaz-Wadi-Annuar-0ZKxMaNusTA.mp3-part-502.wav\n"
     ]
    },
    {
     "name": "stderr",
     "output_type": "stream",
     "text": [
      " 16%|█▋        | 21327/130662 [14:38<32:50, 55.50it/s]"
     ]
    },
    {
     "name": "stdout",
     "output_type": "stream",
     "text": [
      "skipped semisupervised-malay/output-wav/Pengalaman-Pertama-Kali-Tidur-Dalam-Kereta-Api-Dari-Malaysia-Ke-Thailand-WKi6VUFzjuo.mp3-part-26.wav\n"
     ]
    },
    {
     "name": "stderr",
     "output_type": "stream",
     "text": [
      " 16%|█▋        | 21454/130662 [14:41<33:17, 54.67it/s]"
     ]
    },
    {
     "name": "stdout",
     "output_type": "stream",
     "text": [
      "skipped semisupervised-malay/output-wav/Buang-BERHALA-Yang-Duduk-Di-Hati-Kita-😥-_-Ustaz-Ahmad-Rizam-EP2qcEFmFD8.mp3-part-504.wav\n"
     ]
    },
    {
     "name": "stderr",
     "output_type": "stream",
     "text": [
      " 16%|█▋        | 21503/130662 [14:41<29:59, 60.68it/s]"
     ]
    },
    {
     "name": "stdout",
     "output_type": "stream",
     "text": [
      "skipped semisupervised-malay/output-wav/Ini-Bukan-Kuning-iqxyI-eYK3M.mp3-part-6.wav\n",
      "skipped semisupervised-malay/output-wav/Nak-Sambut-DEKAD-Baru-2020-Tengok-Video-Ni-Dulu.-QO-YWGQvb1Q.mp3-part-21.wav\n"
     ]
    },
    {
     "name": "stderr",
     "output_type": "stream",
     "text": [
      " 17%|█▋        | 21922/130662 [14:48<33:34, 53.97it/s]"
     ]
    },
    {
     "name": "stdout",
     "output_type": "stream",
     "text": [
      "skipped semisupervised-malay/output-wav/Ini-Bukan-Kuning-iqxyI-eYK3M.mp3-part-18.wav\n"
     ]
    },
    {
     "name": "stderr",
     "output_type": "stream",
     "text": [
      " 17%|█▋        | 22828/130662 [15:03<33:32, 53.58it/s]"
     ]
    },
    {
     "name": "stdout",
     "output_type": "stream",
     "text": [
      "skipped semisupervised-malay/output-wav/Buang-BERHALA-Yang-Duduk-Di-Hati-Kita-😥-_-Ustaz-Ahmad-Rizam-EP2qcEFmFD8.mp3-part-152.wav\n"
     ]
    },
    {
     "name": "stderr",
     "output_type": "stream",
     "text": [
      " 18%|█▊        | 22911/130662 [15:05<32:02, 56.05it/s]"
     ]
    },
    {
     "name": "stdout",
     "output_type": "stream",
     "text": [
      "skipped semisupervised-malay/output-wav/Bila-Mata-Bertentang-Mata-❤️-_-Ustaz-Mohd-Lukmanul-Hakim-Wm-8ZeLyux0.mp3-part-274.wav\n"
     ]
    },
    {
     "name": "stderr",
     "output_type": "stream",
     "text": [
      " 18%|█▊        | 23384/130662 [15:13<31:39, 56.48it/s]"
     ]
    },
    {
     "name": "stdout",
     "output_type": "stream",
     "text": [
      "skipped semisupervised-malay/output-wav/Sesi-2----Fahami-Realiti-Kerajaan-Diri-NSRWj5Zz7Qo.mp3-part-510.wav\n"
     ]
    },
    {
     "name": "stderr",
     "output_type": "stream",
     "text": [
      " 18%|█▊        | 23448/130662 [15:14<37:57, 47.08it/s]"
     ]
    },
    {
     "name": "stdout",
     "output_type": "stream",
     "text": [
      "skipped semisupervised-malay/output-wav/Ini-Bukan-Kuning-iqxyI-eYK3M.mp3-part-10.wav\n"
     ]
    },
    {
     "name": "stderr",
     "output_type": "stream",
     "text": [
      " 18%|█▊        | 23499/130662 [15:15<34:54, 51.17it/s]"
     ]
    },
    {
     "name": "stdout",
     "output_type": "stream",
     "text": [
      "skipped semisupervised-malay/output-wav/Buang-BERHALA-Yang-Duduk-Di-Hati-Kita-😥-_-Ustaz-Ahmad-Rizam-EP2qcEFmFD8.mp3-part-511.wav\n"
     ]
    },
    {
     "name": "stderr",
     "output_type": "stream",
     "text": [
      " 18%|█▊        | 24036/130662 [15:24<35:42, 49.77it/s]"
     ]
    },
    {
     "name": "stdout",
     "output_type": "stream",
     "text": [
      "skipped semisupervised-malay/output-wav/IPGM----Cabaran-VUCA-Dari-Perspektif-Pendidikan-Guru-dan-PAK-21-QOCbT-XH36I.mp3-part-254.wav\n"
     ]
    },
    {
     "name": "stderr",
     "output_type": "stream",
     "text": [
      " 19%|█▉        | 25374/130662 [15:46<33:56, 51.70it/s]"
     ]
    },
    {
     "name": "stdout",
     "output_type": "stream",
     "text": [
      "skipped semisupervised-malay/output-wav/208-_-Hikmah-Penciptaan-Siang-&-Malam-😮-_-Ustaz-Auni-Mohamed-crqask4aeJ0.mp3-part-81.wav\n"
     ]
    },
    {
     "name": "stderr",
     "output_type": "stream",
     "text": [
      " 20%|█▉        | 25755/130662 [15:52<27:12, 64.28it/s]"
     ]
    },
    {
     "name": "stdout",
     "output_type": "stream",
     "text": [
      "skipped semisupervised-malay/output-wav/Dunia-Kita-Berapa-FPS-(Bahagian-2)-bjXTuQrpkC8.mp3-part-108.wav\n"
     ]
    },
    {
     "name": "stderr",
     "output_type": "stream",
     "text": [
      " 20%|█▉        | 26096/130662 [15:58<33:27, 52.08it/s]"
     ]
    },
    {
     "name": "stdout",
     "output_type": "stream",
     "text": [
      "skipped semisupervised-malay/output-wav/Ruang-Masa-Hiperbolik-Wujud-Di-Dunia-Sebenar!-1v-n23HAi7M.mp3-part-18.wav\n"
     ]
    },
    {
     "name": "stderr",
     "output_type": "stream",
     "text": [
      " 20%|██        | 26255/130662 [16:01<37:15, 46.70it/s]"
     ]
    },
    {
     "name": "stdout",
     "output_type": "stream",
     "text": [
      "skipped semisupervised-malay/output-wav/WACANA-ILMU----KELESTARIAN-PROSPEN-IPG,-KECEMERLANGAN-ORGANISASI-t__QLuABpvw.mp3-part-719.wav\n"
     ]
    },
    {
     "name": "stderr",
     "output_type": "stream",
     "text": [
      " 20%|██        | 26605/130662 [16:07<29:45, 58.28it/s]"
     ]
    },
    {
     "name": "stdout",
     "output_type": "stream",
     "text": [
      "skipped semisupervised-malay/output-wav/Buang-BERHALA-Yang-Duduk-Di-Hati-Kita-😥-_-Ustaz-Ahmad-Rizam-EP2qcEFmFD8.mp3-part-306.wav\n"
     ]
    },
    {
     "name": "stderr",
     "output_type": "stream",
     "text": [
      " 20%|██        | 26760/130662 [16:10<34:46, 49.81it/s]"
     ]
    },
    {
     "name": "stdout",
     "output_type": "stream",
     "text": [
      "skipped semisupervised-malay/output-wav/WACANA-ILMU----PSIKO-GAJET-oJ0xApNXRBo.mp3-part-104.wav\n"
     ]
    },
    {
     "name": "stderr",
     "output_type": "stream",
     "text": [
      " 21%|██        | 27426/130662 [16:20<28:22, 60.64it/s]"
     ]
    },
    {
     "name": "stdout",
     "output_type": "stream",
     "text": [
      "skipped semisupervised-malay/output-wav/Pasal-Kau---Movie-Review-bRUjmsnE5ZU.mp3-part-100.wav\n"
     ]
    },
    {
     "name": "stderr",
     "output_type": "stream",
     "text": [
      " 21%|██▏       | 28014/130662 [16:30<28:29, 60.04it/s]"
     ]
    },
    {
     "name": "stdout",
     "output_type": "stream",
     "text": [
      "skipped semisupervised-malay/output-wav/Buang-BERHALA-Yang-Duduk-Di-Hati-Kita-😥-_-Ustaz-Ahmad-Rizam-EP2qcEFmFD8.mp3-part-364.wav\n"
     ]
    },
    {
     "name": "stderr",
     "output_type": "stream",
     "text": [
      " 22%|██▏       | 28262/130662 [16:35<31:50, 53.59it/s]"
     ]
    },
    {
     "name": "stdout",
     "output_type": "stream",
     "text": [
      "skipped semisupervised-malay/output-wav/Dunia-Tamat-2038-4sYNZ3vkIbg.mp3-part-12.wav\n"
     ]
    },
    {
     "name": "stderr",
     "output_type": "stream",
     "text": [
      " 22%|██▏       | 29051/130662 [16:48<36:23, 46.55it/s]"
     ]
    },
    {
     "name": "stdout",
     "output_type": "stream",
     "text": [
      "skipped semisupervised-malay/output-wav/Pengalaman-Pertama-Kali-Tidur-Dalam-Kereta-Api-Dari-Malaysia-Ke-Thailand-WKi6VUFzjuo.mp3-part-31.wav\n"
     ]
    },
    {
     "name": "stderr",
     "output_type": "stream",
     "text": [
      " 22%|██▏       | 29086/130662 [16:48<32:14, 52.50it/s]"
     ]
    },
    {
     "name": "stdout",
     "output_type": "stream",
     "text": [
      "skipped semisupervised-malay/output-wav/Sesi-1----Rahsia-Minda,-Fikiran,-Akal-dan-Sedar-6f-8js73O1k.mp3-part-528.wav\n"
     ]
    },
    {
     "name": "stderr",
     "output_type": "stream",
     "text": [
      " 22%|██▏       | 29167/130662 [16:49<26:16, 64.40it/s]"
     ]
    },
    {
     "name": "stdout",
     "output_type": "stream",
     "text": [
      "skipped semisupervised-malay/output-wav/Ini-Golongan-Yang-Dimurkai-ALLAH-_-Ustaz-Mohd-Aslam-aHYimafirpg.mp3-part-232.wav\n"
     ]
    },
    {
     "name": "stderr",
     "output_type": "stream",
     "text": [
      " 23%|██▎       | 29467/130662 [16:55<36:12, 46.59it/s]"
     ]
    },
    {
     "name": "stdout",
     "output_type": "stream",
     "text": [
      "skipped semisupervised-malay/output-wav/Sesi-1----Rahsia-Minda,-Fikiran,-Akal-dan-Sedar-6f-8js73O1k.mp3-part-73.wav\n"
     ]
    },
    {
     "name": "stderr",
     "output_type": "stream",
     "text": [
      " 23%|██▎       | 29635/130662 [16:57<26:47, 62.86it/s]"
     ]
    },
    {
     "name": "stdout",
     "output_type": "stream",
     "text": [
      "skipped semisupervised-malay/output-wav/Troll-Paling-Best.-opAw8b75NQM.mp3-part-54.wav\n"
     ]
    },
    {
     "name": "stderr",
     "output_type": "stream",
     "text": [
      " 23%|██▎       | 29741/130662 [16:59<40:15, 41.78it/s]"
     ]
    },
    {
     "name": "stdout",
     "output_type": "stream",
     "text": [
      "skipped semisupervised-malay/output-wav/Siapa-Buat-Soalan-IQ-Pelik-Ni-Kenapa-HGFCASE37OQ.mp3-part-3.wav\n"
     ]
    },
    {
     "name": "stderr",
     "output_type": "stream",
     "text": [
      " 23%|██▎       | 29863/130662 [17:01<29:49, 56.32it/s]"
     ]
    },
    {
     "name": "stdout",
     "output_type": "stream",
     "text": [
      "skipped semisupervised-malay/output-wav/65-_-Wahai-Anak,-Allah-Akan-Menguji-Kamu-!-_-Ustaz-Wadi-Annuar-0ZKxMaNusTA.mp3-part-371.wav\n"
     ]
    },
    {
     "name": "stderr",
     "output_type": "stream",
     "text": [
      " 23%|██▎       | 29893/130662 [17:02<27:22, 61.34it/s]"
     ]
    },
    {
     "name": "stdout",
     "output_type": "stream",
     "text": [
      "skipped semisupervised-malay/output-wav/PODCAST-MELAYU-_-INI-CARA-SARJANA-TANPA-SKIPSI-_-HANGKATE-&-PAK-ENDRI-SANOPAKA-(-KETUA-STISIPOL-RH-)-e-eMNNxW3vo.mp3-part-19.wav\n"
     ]
    },
    {
     "name": "stderr",
     "output_type": "stream",
     "text": [
      " 23%|██▎       | 30278/130662 [17:08<28:31, 58.64it/s]"
     ]
    },
    {
     "name": "stdout",
     "output_type": "stream",
     "text": [
      "skipped semisupervised-malay/output-wav/Sesi-2----Fahami-Realiti-Kerajaan-Diri-NSRWj5Zz7Qo.mp3-part-5.wav\n",
      "skipped semisupervised-malay/output-wav/Menurut-Sains,-Gopal-Sebenarnya-Tersangat-OP-(Bahagian-2)-PKJshdf_FnM.mp3-part-100.wav\n"
     ]
    },
    {
     "name": "stderr",
     "output_type": "stream",
     "text": [
      " 23%|██▎       | 30370/130662 [17:10<32:33, 51.34it/s]"
     ]
    },
    {
     "name": "stdout",
     "output_type": "stream",
     "text": [
      "skipped semisupervised-malay/output-wav/Sesi-3----Rahsia-Roh-Menggerakkan-Kita-glR3xP2HTS0.mp3-part-720.wav\n"
     ]
    },
    {
     "name": "stderr",
     "output_type": "stream",
     "text": [
      " 24%|██▎       | 30825/130662 [17:17<27:27, 60.61it/s]"
     ]
    },
    {
     "name": "stdout",
     "output_type": "stream",
     "text": [
      "skipped semisupervised-malay/output-wav/Buang-BERHALA-Yang-Duduk-Di-Hati-Kita-😥-_-Ustaz-Ahmad-Rizam-EP2qcEFmFD8.mp3-part-67.wav\n"
     ]
    },
    {
     "name": "stderr",
     "output_type": "stream",
     "text": [
      " 24%|██▎       | 30986/130662 [17:20<27:06, 61.27it/s]"
     ]
    },
    {
     "name": "stdout",
     "output_type": "stream",
     "text": [
      "skipped semisupervised-malay/output-wav/Sesi-4----Teknik-Meditasi-Untuk-Reprogram-Diri-ydoo5KXzJbg.mp3-part-6.wav\n"
     ]
    },
    {
     "name": "stderr",
     "output_type": "stream",
     "text": [
      " 24%|██▍       | 31081/130662 [17:22<31:35, 52.53it/s]"
     ]
    },
    {
     "name": "stdout",
     "output_type": "stream",
     "text": [
      "skipped semisupervised-malay/output-wav/Nak-Sambut-DEKAD-Baru-2020-Tengok-Video-Ni-Dulu.-QO-YWGQvb1Q.mp3-part-4.wav\n"
     ]
    },
    {
     "name": "stderr",
     "output_type": "stream",
     "text": [
      " 24%|██▍       | 31242/130662 [17:25<25:52, 64.05it/s]"
     ]
    },
    {
     "name": "stdout",
     "output_type": "stream",
     "text": [
      "skipped semisupervised-malay/output-wav/Buang-BERHALA-Yang-Duduk-Di-Hati-Kita-😥-_-Ustaz-Ahmad-Rizam-EP2qcEFmFD8.mp3-part-503.wav\n"
     ]
    },
    {
     "name": "stderr",
     "output_type": "stream",
     "text": [
      " 24%|██▍       | 31282/130662 [17:25<31:46, 52.13it/s]"
     ]
    },
    {
     "name": "stdout",
     "output_type": "stream",
     "text": [
      "skipped semisupervised-malay/output-wav/PODCAST-MELAYU-_-INI-CARA-SARJANA-TANPA-SKIPSI-_-HANGKATE-&-PAK-ENDRI-SANOPAKA-(-KETUA-STISIPOL-RH-)-e-eMNNxW3vo.mp3-part-170.wav\n"
     ]
    },
    {
     "name": "stderr",
     "output_type": "stream",
     "text": [
      " 24%|██▍       | 31340/130662 [17:26<26:03, 63.51it/s]"
     ]
    },
    {
     "name": "stdout",
     "output_type": "stream",
     "text": [
      "skipped semisupervised-malay/output-wav/65-_-Wahai-Anak,-Allah-Akan-Menguji-Kamu-!-_-Ustaz-Wadi-Annuar-0ZKxMaNusTA.mp3-part-368.wav\n"
     ]
    },
    {
     "name": "stderr",
     "output_type": "stream",
     "text": [
      " 24%|██▍       | 31987/130662 [17:37<28:48, 57.07it/s]"
     ]
    },
    {
     "name": "stdout",
     "output_type": "stream",
     "text": [
      "skipped semisupervised-malay/output-wav/Buang-BERHALA-Yang-Duduk-Di-Hati-Kita-😥-_-Ustaz-Ahmad-Rizam-EP2qcEFmFD8.mp3-part-297.wav\n"
     ]
    },
    {
     "name": "stderr",
     "output_type": "stream",
     "text": [
      " 25%|██▍       | 32375/130662 [17:44<26:03, 62.86it/s]"
     ]
    },
    {
     "name": "stdout",
     "output_type": "stream",
     "text": [
      "skipped semisupervised-malay/output-wav/Buang-BERHALA-Yang-Duduk-Di-Hati-Kita-😥-_-Ustaz-Ahmad-Rizam-EP2qcEFmFD8.mp3-part-137.wav\n"
     ]
    },
    {
     "name": "stderr",
     "output_type": "stream",
     "text": [
      " 25%|██▍       | 32445/130662 [17:45<26:48, 61.05it/s]"
     ]
    },
    {
     "name": "stdout",
     "output_type": "stream",
     "text": [
      "skipped semisupervised-malay/output-wav/Sesi-1----Rahsia-Minda,-Fikiran,-Akal-dan-Sedar-6f-8js73O1k.mp3-part-9.wav\n"
     ]
    },
    {
     "name": "stderr",
     "output_type": "stream",
     "text": [
      " 25%|██▌       | 32797/130662 [17:51<29:09, 55.95it/s]"
     ]
    },
    {
     "name": "stdout",
     "output_type": "stream",
     "text": [
      "skipped semisupervised-malay/output-wav/Buang-BERHALA-Yang-Duduk-Di-Hati-Kita-😥-_-Ustaz-Ahmad-Rizam-EP2qcEFmFD8.mp3-part-535.wav\n"
     ]
    },
    {
     "name": "stderr",
     "output_type": "stream",
     "text": [
      " 25%|██▌       | 32822/130662 [17:51<34:05, 47.83it/s]"
     ]
    },
    {
     "name": "stdout",
     "output_type": "stream",
     "text": [
      "skipped semisupervised-malay/output-wav/Buang-BERHALA-Yang-Duduk-Di-Hati-Kita-😥-_-Ustaz-Ahmad-Rizam-EP2qcEFmFD8.mp3-part-66.wav\n"
     ]
    },
    {
     "name": "stderr",
     "output_type": "stream",
     "text": [
      " 26%|██▌       | 33667/130662 [18:05<25:46, 62.71it/s]"
     ]
    },
    {
     "name": "stdout",
     "output_type": "stream",
     "text": [
      "skipped semisupervised-malay/output-wav/65-_-Wahai-Anak,-Allah-Akan-Menguji-Kamu-!-_-Ustaz-Wadi-Annuar-0ZKxMaNusTA.mp3-part-108.wav\n"
     ]
    },
    {
     "name": "stderr",
     "output_type": "stream",
     "text": [
      " 27%|██▋       | 34750/130662 [18:24<33:44, 47.38it/s]"
     ]
    },
    {
     "name": "stdout",
     "output_type": "stream",
     "text": [
      "skipped semisupervised-malay/output-wav/65-_-Wahai-Anak,-Allah-Akan-Menguji-Kamu-!-_-Ustaz-Wadi-Annuar-0ZKxMaNusTA.mp3-part-403.wav\n"
     ]
    },
    {
     "name": "stderr",
     "output_type": "stream",
     "text": [
      " 27%|██▋       | 34896/130662 [18:26<29:36, 53.92it/s]"
     ]
    },
    {
     "name": "stdout",
     "output_type": "stream",
     "text": [
      "skipped semisupervised-malay/output-wav/Dunia-Tamat-2038-4sYNZ3vkIbg.mp3-part-22.wav\n"
     ]
    },
    {
     "name": "stderr",
     "output_type": "stream",
     "text": [
      " 27%|██▋       | 34960/130662 [18:27<28:38, 55.68it/s]"
     ]
    },
    {
     "name": "stdout",
     "output_type": "stream",
     "text": [
      "skipped semisupervised-malay/output-wav/Dunia-Tamat-2038-4sYNZ3vkIbg.mp3-part-34.wav\n"
     ]
    },
    {
     "name": "stderr",
     "output_type": "stream",
     "text": [
      " 27%|██▋       | 35138/130662 [18:30<27:15, 58.42it/s]"
     ]
    },
    {
     "name": "stdout",
     "output_type": "stream",
     "text": [
      "skipped semisupervised-malay/output-wav/Troll-Paling-Best.-opAw8b75NQM.mp3-part-84.wav\n"
     ]
    },
    {
     "name": "stderr",
     "output_type": "stream",
     "text": [
      " 27%|██▋       | 35305/130662 [18:33<28:41, 55.40it/s]"
     ]
    },
    {
     "name": "stdout",
     "output_type": "stream",
     "text": [
      "skipped semisupervised-malay/output-wav/Sesi-1----Rahsia-Minda,-Fikiran,-Akal-dan-Sedar-6f-8js73O1k.mp3-part-63.wav\n"
     ]
    },
    {
     "name": "stderr",
     "output_type": "stream",
     "text": [
      " 27%|██▋       | 35514/130662 [18:37<27:06, 58.51it/s]"
     ]
    },
    {
     "name": "stdout",
     "output_type": "stream",
     "text": [
      "skipped semisupervised-malay/output-wav/Buang-BERHALA-Yang-Duduk-Di-Hati-Kita-😥-_-Ustaz-Ahmad-Rizam-EP2qcEFmFD8.mp3-part-87.wav\n"
     ]
    },
    {
     "name": "stderr",
     "output_type": "stream",
     "text": [
      " 28%|██▊       | 36094/130662 [18:46<29:55, 52.66it/s]"
     ]
    },
    {
     "name": "stdout",
     "output_type": "stream",
     "text": [
      "skipped semisupervised-malay/output-wav/Nak-Sambut-DEKAD-Baru-2020-Tengok-Video-Ni-Dulu.-QO-YWGQvb1Q.mp3-part-10.wav\n"
     ]
    },
    {
     "name": "stderr",
     "output_type": "stream",
     "text": [
      " 28%|██▊       | 36256/130662 [18:49<29:31, 53.30it/s]"
     ]
    },
    {
     "name": "stdout",
     "output_type": "stream",
     "text": [
      "skipped semisupervised-malay/output-wav/Dunia-Kita-Berapa-FPS-(Bahagian-2)-bjXTuQrpkC8.mp3-part-53.wav\n"
     ]
    },
    {
     "name": "stderr",
     "output_type": "stream",
     "text": [
      " 28%|██▊       | 36612/130662 [18:55<28:08, 55.69it/s]"
     ]
    },
    {
     "name": "stdout",
     "output_type": "stream",
     "text": [
      "skipped semisupervised-malay/output-wav/Pengintegrasian-Elemen-Pendidikan-Kewangan-Dalam-Kurikulum-Persekolahan.-NeiArFP2Itc.mp3-part-44.wav\n"
     ]
    },
    {
     "name": "stderr",
     "output_type": "stream",
     "text": [
      " 28%|██▊       | 37014/130662 [19:02<26:09, 59.67it/s]"
     ]
    },
    {
     "name": "stdout",
     "output_type": "stream",
     "text": [
      "skipped semisupervised-malay/output-wav/65-_-Wahai-Anak,-Allah-Akan-Menguji-Kamu-!-_-Ustaz-Wadi-Annuar-0ZKxMaNusTA.mp3-part-325.wav\n"
     ]
    },
    {
     "name": "stderr",
     "output_type": "stream",
     "text": [
      " 29%|██▉       | 37758/130662 [19:14<27:47, 55.71it/s]"
     ]
    },
    {
     "name": "stdout",
     "output_type": "stream",
     "text": [
      "skipped semisupervised-malay/output-wav/65-_-Wahai-Anak,-Allah-Akan-Menguji-Kamu-!-_-Ustaz-Wadi-Annuar-0ZKxMaNusTA.mp3-part-250.wav\n"
     ]
    },
    {
     "name": "stderr",
     "output_type": "stream",
     "text": [
      " 29%|██▉       | 37815/130662 [19:15<28:30, 54.28it/s]"
     ]
    },
    {
     "name": "stdout",
     "output_type": "stream",
     "text": [
      "skipped semisupervised-malay/output-wav/Dunia-Tamat-2038-4sYNZ3vkIbg.mp3-part-5.wav\n"
     ]
    },
    {
     "name": "stderr",
     "output_type": "stream",
     "text": [
      " 29%|██▉       | 38077/130662 [19:19<30:56, 49.86it/s]"
     ]
    },
    {
     "name": "stdout",
     "output_type": "stream",
     "text": [
      "skipped semisupervised-malay/output-wav/Buang-BERHALA-Yang-Duduk-Di-Hati-Kita-😥-_-Ustaz-Ahmad-Rizam-EP2qcEFmFD8.mp3-part-563.wav\n"
     ]
    },
    {
     "name": "stderr",
     "output_type": "stream",
     "text": [
      " 29%|██▉       | 38431/130662 [19:25<30:54, 49.72it/s]"
     ]
    },
    {
     "name": "stdout",
     "output_type": "stream",
     "text": [
      "skipped semisupervised-malay/output-wav/65-_-Wahai-Anak,-Allah-Akan-Menguji-Kamu-!-_-Ustaz-Wadi-Annuar-0ZKxMaNusTA.mp3-part-474.wav\n"
     ]
    },
    {
     "name": "stderr",
     "output_type": "stream",
     "text": [
      " 29%|██▉       | 38480/130662 [19:26<29:11, 52.63it/s]"
     ]
    },
    {
     "name": "stdout",
     "output_type": "stream",
     "text": [
      "skipped semisupervised-malay/output-wav/Dunia-Tamat-2038-4sYNZ3vkIbg.mp3-part-28.wav\n"
     ]
    },
    {
     "name": "stderr",
     "output_type": "stream",
     "text": [
      " 30%|██▉       | 38912/130662 [19:34<25:33, 59.83it/s]"
     ]
    },
    {
     "name": "stdout",
     "output_type": "stream",
     "text": [
      "skipped semisupervised-malay/output-wav/Buang-BERHALA-Yang-Duduk-Di-Hati-Kita-😥-_-Ustaz-Ahmad-Rizam-EP2qcEFmFD8.mp3-part-146.wav\n"
     ]
    },
    {
     "name": "stderr",
     "output_type": "stream",
     "text": [
      " 30%|██▉       | 38970/130662 [19:35<28:21, 53.90it/s]"
     ]
    },
    {
     "name": "stdout",
     "output_type": "stream",
     "text": [
      "skipped semisupervised-malay/output-wav/65-_-Wahai-Anak,-Allah-Akan-Menguji-Kamu-!-_-Ustaz-Wadi-Annuar-0ZKxMaNusTA.mp3-part-86.wav\n"
     ]
    },
    {
     "name": "stderr",
     "output_type": "stream",
     "text": [
      " 30%|██▉       | 39095/130662 [19:37<25:06, 60.79it/s]"
     ]
    },
    {
     "name": "stdout",
     "output_type": "stream",
     "text": [
      "skipped semisupervised-malay/output-wav/Buang-BERHALA-Yang-Duduk-Di-Hati-Kita-😥-_-Ustaz-Ahmad-Rizam-EP2qcEFmFD8.mp3-part-527.wav\n"
     ]
    },
    {
     "name": "stderr",
     "output_type": "stream",
     "text": [
      " 30%|███       | 39247/130662 [19:39<30:07, 50.57it/s]"
     ]
    },
    {
     "name": "stdout",
     "output_type": "stream",
     "text": [
      "skipped semisupervised-malay/output-wav/65-_-Wahai-Anak,-Allah-Akan-Menguji-Kamu-!-_-Ustaz-Wadi-Annuar-0ZKxMaNusTA.mp3-part-98.wav\n"
     ]
    },
    {
     "name": "stderr",
     "output_type": "stream",
     "text": [
      " 30%|███       | 39354/130662 [19:41<25:36, 59.44it/s]"
     ]
    },
    {
     "name": "stdout",
     "output_type": "stream",
     "text": [
      "skipped semisupervised-malay/output-wav/Buang-BERHALA-Yang-Duduk-Di-Hati-Kita-😥-_-Ustaz-Ahmad-Rizam-EP2qcEFmFD8.mp3-part-482.wav\n"
     ]
    },
    {
     "name": "stderr",
     "output_type": "stream",
     "text": [
      " 30%|███       | 39426/130662 [19:42<24:45, 61.40it/s]"
     ]
    },
    {
     "name": "stdout",
     "output_type": "stream",
     "text": [
      "skipped semisupervised-malay/output-wav/Sesi-3----Rahsia-Roh-Menggerakkan-Kita-glR3xP2HTS0.mp3-part-730.wav\n"
     ]
    },
    {
     "name": "stderr",
     "output_type": "stream",
     "text": [
      " 30%|███       | 39669/130662 [19:46<28:55, 52.42it/s]"
     ]
    },
    {
     "name": "stdout",
     "output_type": "stream",
     "text": [
      "skipped semisupervised-malay/output-wav/Perang-Petisyen-Matematik-Tambahan-SPM-WC0_yaR0jY4.mp3-part-62.wav\n"
     ]
    },
    {
     "name": "stderr",
     "output_type": "stream",
     "text": [
      " 31%|███       | 39996/130662 [19:52<22:50, 66.13it/s]"
     ]
    },
    {
     "name": "stdout",
     "output_type": "stream",
     "text": [
      "skipped semisupervised-malay/output-wav/Buang-BERHALA-Yang-Duduk-Di-Hati-Kita-😥-_-Ustaz-Ahmad-Rizam-EP2qcEFmFD8.mp3-part-121.wav\n"
     ]
    },
    {
     "name": "stderr",
     "output_type": "stream",
     "text": [
      " 31%|███       | 40003/130662 [19:52<37:46, 40.00it/s]"
     ]
    },
    {
     "name": "stdout",
     "output_type": "stream",
     "text": [
      "skipped semisupervised-malay/output-wav/WACANA-ILMU----KERANGKA-STANDARD-BAHASA-MELAYU-(KSBM)-PENTAKSIRAN-DARIPADA-PERSPEKTIF-KSBM-qbFORSE48cQ.mp3-part-132.wav\n"
     ]
    },
    {
     "name": "stderr",
     "output_type": "stream",
     "text": [
      " 31%|███       | 40496/130662 [20:00<23:11, 64.80it/s]"
     ]
    },
    {
     "name": "stdout",
     "output_type": "stream",
     "text": [
      "skipped semisupervised-malay/output-wav/Buang-BERHALA-Yang-Duduk-Di-Hati-Kita-😥-_-Ustaz-Ahmad-Rizam-EP2qcEFmFD8.mp3-part-564.wav\n"
     ]
    },
    {
     "name": "stderr",
     "output_type": "stream",
     "text": [
      " 31%|███       | 40800/130662 [20:05<30:53, 48.47it/s]"
     ]
    },
    {
     "name": "stdout",
     "output_type": "stream",
     "text": [
      "skipped semisupervised-malay/output-wav/IPGM----Cabaran-VUCA-Dari-Perspektif-Pendidikan-Guru-dan-PAK-21-QOCbT-XH36I.mp3-part-492.wav\n"
     ]
    },
    {
     "name": "stderr",
     "output_type": "stream",
     "text": [
      " 31%|███▏      | 40856/130662 [20:06<25:52, 57.83it/s]"
     ]
    },
    {
     "name": "stdout",
     "output_type": "stream",
     "text": [
      "skipped semisupervised-malay/output-wav/Buang-BERHALA-Yang-Duduk-Di-Hati-Kita-😥-_-Ustaz-Ahmad-Rizam-EP2qcEFmFD8.mp3-part-548.wav\n"
     ]
    },
    {
     "name": "stderr",
     "output_type": "stream",
     "text": [
      " 31%|███▏      | 40983/130662 [20:08<27:49, 53.70it/s]"
     ]
    },
    {
     "name": "stdout",
     "output_type": "stream",
     "text": [
      "skipped semisupervised-malay/output-wav/65-_-Wahai-Anak,-Allah-Akan-Menguji-Kamu-!-_-Ustaz-Wadi-Annuar-0ZKxMaNusTA.mp3-part-390.wav\n"
     ]
    },
    {
     "name": "stderr",
     "output_type": "stream",
     "text": [
      " 31%|███▏      | 41032/130662 [20:09<23:58, 62.30it/s]"
     ]
    },
    {
     "name": "stdout",
     "output_type": "stream",
     "text": [
      "skipped semisupervised-malay/output-wav/Dunia-Tamat-2038-4sYNZ3vkIbg.mp3-part-23.wav\n"
     ]
    },
    {
     "name": "stderr",
     "output_type": "stream",
     "text": [
      " 32%|███▏      | 41623/130662 [20:19<24:58, 59.41it/s]"
     ]
    },
    {
     "name": "stdout",
     "output_type": "stream",
     "text": [
      "skipped semisupervised-malay/output-wav/Troll-Paling-Best.-opAw8b75NQM.mp3-part-76.wav\n"
     ]
    },
    {
     "name": "stderr",
     "output_type": "stream",
     "text": [
      " 32%|███▏      | 41666/130662 [20:20<28:19, 52.36it/s]"
     ]
    },
    {
     "name": "stdout",
     "output_type": "stream",
     "text": [
      "skipped semisupervised-malay/output-wav/WACANA-ILMU----Saya-OK!-Anda-Bagaimana-Te-funnFw3s.mp3-part-515.wav\n"
     ]
    },
    {
     "name": "stderr",
     "output_type": "stream",
     "text": [
      " 32%|███▏      | 41751/130662 [20:22<30:30, 48.58it/s]"
     ]
    },
    {
     "name": "stdout",
     "output_type": "stream",
     "text": [
      "skipped semisupervised-malay/output-wav/65-_-Wahai-Anak,-Allah-Akan-Menguji-Kamu-!-_-Ustaz-Wadi-Annuar-0ZKxMaNusTA.mp3-part-482.wav\n"
     ]
    },
    {
     "name": "stderr",
     "output_type": "stream",
     "text": [
      " 33%|███▎      | 43079/130662 [20:44<25:59, 56.17it/s]"
     ]
    },
    {
     "name": "stdout",
     "output_type": "stream",
     "text": [
      "skipped semisupervised-malay/output-wav/IPGM----Cabaran-VUCA-Dari-Perspektif-Pendidikan-Guru-dan-PAK-21-QOCbT-XH36I.mp3-part-548.wav\n"
     ]
    },
    {
     "name": "stderr",
     "output_type": "stream",
     "text": [
      " 33%|███▎      | 43211/130662 [20:46<25:53, 56.29it/s]"
     ]
    },
    {
     "name": "stdout",
     "output_type": "stream",
     "text": [
      "skipped semisupervised-malay/output-wav/65-_-Wahai-Anak,-Allah-Akan-Menguji-Kamu-!-_-Ustaz-Wadi-Annuar-0ZKxMaNusTA.mp3-part-72.wav\n"
     ]
    },
    {
     "name": "stderr",
     "output_type": "stream",
     "text": [
      " 33%|███▎      | 43291/130662 [20:47<24:24, 59.65it/s]"
     ]
    },
    {
     "name": "stdout",
     "output_type": "stream",
     "text": [
      "skipped semisupervised-malay/output-wav/Siapa-Buat-Soalan-IQ-Pelik-Ni-Kenapa-HGFCASE37OQ.mp3-part-39.wav\n"
     ]
    },
    {
     "name": "stderr",
     "output_type": "stream",
     "text": [
      " 33%|███▎      | 43355/130662 [20:48<24:57, 58.29it/s]"
     ]
    },
    {
     "name": "stdout",
     "output_type": "stream",
     "text": [
      "skipped semisupervised-malay/output-wav/WACANA-ILMU----PSIKO-GAJET-oJ0xApNXRBo.mp3-part-100.wav\n"
     ]
    },
    {
     "name": "stderr",
     "output_type": "stream",
     "text": [
      " 34%|███▍      | 44523/130662 [21:08<23:56, 59.98it/s]"
     ]
    },
    {
     "name": "stdout",
     "output_type": "stream",
     "text": [
      "skipped semisupervised-malay/output-wav/Pasal-Kau---Movie-Review-bRUjmsnE5ZU.mp3-part-14.wav\n"
     ]
    },
    {
     "name": "stderr",
     "output_type": "stream",
     "text": [
      " 34%|███▍      | 44623/130662 [21:09<22:32, 63.62it/s]"
     ]
    },
    {
     "name": "stdout",
     "output_type": "stream",
     "text": [
      "skipped semisupervised-malay/output-wav/IPGM----Cabaran-VUCA-Dari-Perspektif-Pendidikan-Guru-dan-PAK-21-QOCbT-XH36I.mp3-part-576.wav\n"
     ]
    },
    {
     "name": "stderr",
     "output_type": "stream",
     "text": [
      " 34%|███▍      | 44889/130662 [21:14<21:45, 65.70it/s]"
     ]
    },
    {
     "name": "stdout",
     "output_type": "stream",
     "text": [
      "skipped semisupervised-malay/output-wav/Siapa-Buat-Soalan-IQ-Pelik-Ni-Kenapa-HGFCASE37OQ.mp3-part-32.wav\n"
     ]
    },
    {
     "name": "stderr",
     "output_type": "stream",
     "text": [
      " 34%|███▍      | 45052/130662 [21:17<23:26, 60.88it/s]"
     ]
    },
    {
     "name": "stdout",
     "output_type": "stream",
     "text": [
      "skipped semisupervised-malay/output-wav/65-_-Wahai-Anak,-Allah-Akan-Menguji-Kamu-!-_-Ustaz-Wadi-Annuar-0ZKxMaNusTA.mp3-part-356.wav\n"
     ]
    },
    {
     "name": "stderr",
     "output_type": "stream",
     "text": [
      " 35%|███▍      | 45427/130662 [21:23<23:56, 59.34it/s]"
     ]
    },
    {
     "name": "stdout",
     "output_type": "stream",
     "text": [
      "skipped semisupervised-malay/output-wav/Pengalaman-Pertama-Kali-Tidur-Dalam-Kereta-Api-Dari-Malaysia-Ke-Thailand-WKi6VUFzjuo.mp3-part-27.wav\n"
     ]
    },
    {
     "name": "stderr",
     "output_type": "stream",
     "text": [
      " 35%|███▌      | 46097/130662 [21:34<25:35, 55.06it/s]"
     ]
    },
    {
     "name": "stdout",
     "output_type": "stream",
     "text": [
      "skipped semisupervised-malay/output-wav/Pengalaman-Pertama-Kali-Tidur-Dalam-Kereta-Api-Dari-Malaysia-Ke-Thailand-WKi6VUFzjuo.mp3-part-34.wav\n"
     ]
    },
    {
     "name": "stderr",
     "output_type": "stream",
     "text": [
      " 36%|███▌      | 47118/130662 [21:51<24:19, 57.24it/s]"
     ]
    },
    {
     "name": "stdout",
     "output_type": "stream",
     "text": [
      "skipped semisupervised-malay/output-wav/Pontianak-pulaaaaaak-Am7A-vpCER0.mp3-part-36.wav\n"
     ]
    },
    {
     "name": "stderr",
     "output_type": "stream",
     "text": [
      " 37%|███▋      | 47818/130662 [22:02<22:24, 61.60it/s]"
     ]
    },
    {
     "name": "stdout",
     "output_type": "stream",
     "text": [
      "skipped semisupervised-malay/output-wav/Buang-BERHALA-Yang-Duduk-Di-Hati-Kita-😥-_-Ustaz-Ahmad-Rizam-EP2qcEFmFD8.mp3-part-177.wav\n"
     ]
    },
    {
     "name": "stderr",
     "output_type": "stream",
     "text": [
      " 37%|███▋      | 48208/130662 [22:09<24:01, 57.21it/s]"
     ]
    },
    {
     "name": "stdout",
     "output_type": "stream",
     "text": [
      "skipped semisupervised-malay/output-wav/80-Peratus-Siswa-Matematik-UKM-Salah-Jawab-Soalan-Mudah-Ni!-Kenapa-YKe-mzGU0JU.mp3-part-41.wav\n"
     ]
    },
    {
     "name": "stderr",
     "output_type": "stream",
     "text": [
      " 37%|███▋      | 48309/130662 [22:11<22:53, 59.94it/s]"
     ]
    },
    {
     "name": "stdout",
     "output_type": "stream",
     "text": [
      "skipped semisupervised-malay/output-wav/Bila-Mata-Bertentang-Mata-❤️-_-Ustaz-Mohd-Lukmanul-Hakim-Wm-8ZeLyux0.mp3-part-342.wav\n"
     ]
    },
    {
     "name": "stderr",
     "output_type": "stream",
     "text": [
      " 37%|███▋      | 48861/130662 [22:20<23:02, 59.19it/s]"
     ]
    },
    {
     "name": "stdout",
     "output_type": "stream",
     "text": [
      "skipped semisupervised-malay/output-wav/Wahai-Suami-Pastikan-Sumber-Rezeki-HALAL-_-Ustaz-Mohd-Aslam-e5cIN57hJ_0.mp3-part-131.wav\n"
     ]
    },
    {
     "name": "stderr",
     "output_type": "stream",
     "text": [
      " 37%|███▋      | 48990/130662 [22:22<28:19, 48.07it/s]"
     ]
    },
    {
     "name": "stdout",
     "output_type": "stream",
     "text": [
      "skipped semisupervised-malay/output-wav/Ini-Bukan-Kuning-iqxyI-eYK3M.mp3-part-23.wav\n"
     ]
    },
    {
     "name": "stderr",
     "output_type": "stream",
     "text": [
      " 38%|███▊      | 49018/130662 [22:22<24:38, 55.24it/s]"
     ]
    },
    {
     "name": "stdout",
     "output_type": "stream",
     "text": [
      "skipped semisupervised-malay/output-wav/Buang-BERHALA-Yang-Duduk-Di-Hati-Kita-😥-_-Ustaz-Ahmad-Rizam-EP2qcEFmFD8.mp3-part-295.wav\n"
     ]
    },
    {
     "name": "stderr",
     "output_type": "stream",
     "text": [
      " 38%|███▊      | 49693/130662 [22:34<28:17, 47.69it/s]"
     ]
    },
    {
     "name": "stdout",
     "output_type": "stream",
     "text": [
      "skipped semisupervised-malay/output-wav/Siapa-Buat-Soalan-IQ-Pelik-Ni-Kenapa-HGFCASE37OQ.mp3-part-4.wav\n"
     ]
    },
    {
     "name": "stderr",
     "output_type": "stream",
     "text": [
      " 38%|███▊      | 49908/130662 [22:37<22:18, 60.31it/s]"
     ]
    },
    {
     "name": "stdout",
     "output_type": "stream",
     "text": [
      "skipped semisupervised-malay/output-wav/65-_-Wahai-Anak,-Allah-Akan-Menguji-Kamu-!-_-Ustaz-Wadi-Annuar-0ZKxMaNusTA.mp3-part-506.wav\n"
     ]
    },
    {
     "name": "stderr",
     "output_type": "stream",
     "text": [
      " 38%|███▊      | 50177/130662 [22:42<23:16, 57.63it/s]"
     ]
    },
    {
     "name": "stdout",
     "output_type": "stream",
     "text": [
      "skipped semisupervised-malay/output-wav/Buang-BERHALA-Yang-Duduk-Di-Hati-Kita-😥-_-Ustaz-Ahmad-Rizam-EP2qcEFmFD8.mp3-part-43.wav\n"
     ]
    },
    {
     "name": "stderr",
     "output_type": "stream",
     "text": [
      " 39%|███▉      | 51522/130662 [23:04<21:52, 60.28it/s]"
     ]
    },
    {
     "name": "stdout",
     "output_type": "stream",
     "text": [
      "skipped semisupervised-malay/output-wav/Ruang-Masa-Hiperbolik-Wujud-Di-Dunia-Sebenar!-1v-n23HAi7M.mp3-part-32.wav\n"
     ]
    },
    {
     "name": "stderr",
     "output_type": "stream",
     "text": [
      " 39%|███▉      | 51556/130662 [23:05<25:27, 51.79it/s]"
     ]
    },
    {
     "name": "stdout",
     "output_type": "stream",
     "text": [
      "skipped semisupervised-malay/output-wav/Q-&-A-(Jadi-backpacker-ni-tak-ada-masa-depan)-_-Podcast-Malaysia-uCg5WeQ34rM.mp3-part-120.wav\n"
     ]
    },
    {
     "name": "stderr",
     "output_type": "stream",
     "text": [
      " 40%|███▉      | 51622/130662 [23:06<19:49, 66.47it/s]"
     ]
    },
    {
     "name": "stdout",
     "output_type": "stream",
     "text": [
      "skipped semisupervised-malay/output-wav/IPGM----Cabaran-VUCA-Dari-Perspektif-Pendidikan-Guru-dan-PAK-21-QOCbT-XH36I.mp3-part-479.wav\n"
     ]
    },
    {
     "name": "stderr",
     "output_type": "stream",
     "text": [
      " 40%|███▉      | 51655/130662 [23:07<24:53, 52.90it/s]"
     ]
    },
    {
     "name": "stdout",
     "output_type": "stream",
     "text": [
      "skipped semisupervised-malay/output-wav/Bila-Mata-Bertentang-Mata-❤️-_-Ustaz-Mohd-Lukmanul-Hakim-Wm-8ZeLyux0.mp3-part-169.wav\n"
     ]
    },
    {
     "name": "stderr",
     "output_type": "stream",
     "text": [
      " 40%|███▉      | 51807/130662 [23:10<32:43, 40.16it/s]"
     ]
    },
    {
     "name": "stdout",
     "output_type": "stream",
     "text": [
      "skipped semisupervised-malay/output-wav/Pengalaman-Pertama-Kali-Tidur-Dalam-Kereta-Api-Dari-Malaysia-Ke-Thailand-WKi6VUFzjuo.mp3-part-30.wav\n"
     ]
    },
    {
     "name": "stderr",
     "output_type": "stream",
     "text": [
      " 40%|███▉      | 51819/130662 [23:10<31:11, 42.13it/s]"
     ]
    },
    {
     "name": "stdout",
     "output_type": "stream",
     "text": [
      "skipped semisupervised-malay/output-wav/65-_-Wahai-Anak,-Allah-Akan-Menguji-Kamu-!-_-Ustaz-Wadi-Annuar-0ZKxMaNusTA.mp3-part-270.wav\n",
      "skipped semisupervised-malay/output-wav/Menurut-Sains,-Gopal-Sebenarnya-Tersangat-OP-(Bahagian-2)-PKJshdf_FnM.mp3-part-102.wav\n"
     ]
    },
    {
     "name": "stderr",
     "output_type": "stream",
     "text": [
      " 40%|███▉      | 52115/130662 [23:15<21:11, 61.77it/s]"
     ]
    },
    {
     "name": "stdout",
     "output_type": "stream",
     "text": [
      "skipped semisupervised-malay/output-wav/Buang-BERHALA-Yang-Duduk-Di-Hati-Kita-😥-_-Ustaz-Ahmad-Rizam-EP2qcEFmFD8.mp3-part-473.wav\n"
     ]
    },
    {
     "name": "stderr",
     "output_type": "stream",
     "text": [
      " 40%|████      | 52695/130662 [23:24<21:08, 61.46it/s]"
     ]
    },
    {
     "name": "stdout",
     "output_type": "stream",
     "text": [
      "skipped semisupervised-malay/output-wav/IPGM----Cabaran-VUCA-Dari-Perspektif-Pendidikan-Guru-dan-PAK-21-QOCbT-XH36I.mp3-part-276.wav\n"
     ]
    },
    {
     "name": "stderr",
     "output_type": "stream",
     "text": [
      " 41%|████      | 53305/130662 [23:35<20:19, 63.45it/s]"
     ]
    },
    {
     "name": "stdout",
     "output_type": "stream",
     "text": [
      "skipped semisupervised-malay/output-wav/Bila-Mata-Bertentang-Mata-❤️-_-Ustaz-Mohd-Lukmanul-Hakim-Wm-8ZeLyux0.mp3-part-60.wav\n"
     ]
    },
    {
     "name": "stderr",
     "output_type": "stream",
     "text": [
      " 41%|████      | 53383/130662 [23:36<21:41, 59.37it/s]"
     ]
    },
    {
     "name": "stdout",
     "output_type": "stream",
     "text": [
      "skipped semisupervised-malay/output-wav/IPGM----Cabaran-VUCA-Dari-Perspektif-Pendidikan-Guru-dan-PAK-21-QOCbT-XH36I.mp3-part-563.wav\n"
     ]
    },
    {
     "name": "stderr",
     "output_type": "stream",
     "text": [
      " 41%|████      | 53621/130662 [23:40<21:35, 59.47it/s]"
     ]
    },
    {
     "name": "stdout",
     "output_type": "stream",
     "text": [
      "skipped semisupervised-malay/output-wav/65-_-Wahai-Anak,-Allah-Akan-Menguji-Kamu-!-_-Ustaz-Wadi-Annuar-0ZKxMaNusTA.mp3-part-473.wav\n"
     ]
    },
    {
     "name": "stderr",
     "output_type": "stream",
     "text": [
      " 41%|████      | 53671/130662 [23:41<26:41, 48.06it/s]"
     ]
    },
    {
     "name": "stdout",
     "output_type": "stream",
     "text": [
      "skipped semisupervised-malay/output-wav/Manusia-Cukup-TAK-SUKA-Dua-Benda-Ini-😮-_-Ustaz-Dato-Kazim-Elias--t8sUAMQ94M.mp3-part-38.wav\n"
     ]
    },
    {
     "name": "stderr",
     "output_type": "stream",
     "text": [
      " 41%|████      | 53829/130662 [23:44<19:07, 66.97it/s]"
     ]
    },
    {
     "name": "stdout",
     "output_type": "stream",
     "text": [
      "skipped semisupervised-malay/output-wav/AHLI-SIHIR-Dari-Pandangan-Islam-_-Ustaz-Habib-Khairul-Nizam-GKQqdCXb8l8.mp3-part-0.wav\n"
     ]
    },
    {
     "name": "stderr",
     "output_type": "stream",
     "text": [
      " 41%|████▏     | 54073/130662 [23:48<23:16, 54.84it/s]"
     ]
    },
    {
     "name": "stdout",
     "output_type": "stream",
     "text": [
      "skipped semisupervised-malay/output-wav/Buang-BERHALA-Yang-Duduk-Di-Hati-Kita-😥-_-Ustaz-Ahmad-Rizam-EP2qcEFmFD8.mp3-part-507.wav\n"
     ]
    },
    {
     "name": "stderr",
     "output_type": "stream",
     "text": [
      " 42%|████▏     | 54433/130662 [23:54<20:55, 60.71it/s]"
     ]
    },
    {
     "name": "stdout",
     "output_type": "stream",
     "text": [
      "skipped semisupervised-malay/output-wav/Bila-Mata-Bertentang-Mata-❤️-_-Ustaz-Mohd-Lukmanul-Hakim-Wm-8ZeLyux0.mp3-part-88.wav\n"
     ]
    },
    {
     "name": "stderr",
     "output_type": "stream",
     "text": [
      " 42%|████▏     | 54886/130662 [24:01<19:12, 65.74it/s]"
     ]
    },
    {
     "name": "stdout",
     "output_type": "stream",
     "text": [
      "skipped semisupervised-malay/output-wav/Ini-Bukan-Kuning-iqxyI-eYK3M.mp3-part-17.wav\n"
     ]
    },
    {
     "name": "stderr",
     "output_type": "stream",
     "text": [
      " 42%|████▏     | 55238/130662 [24:07<21:10, 59.38it/s]"
     ]
    },
    {
     "name": "stdout",
     "output_type": "stream",
     "text": [
      "skipped semisupervised-malay/output-wav/ZHAF-BERSEMUKA-DGN-TOK-AYAH-NAMRON!-BWU8IJBEjTk.mp3-part-172.wav\n",
      "skipped semisupervised-malay/output-wav/Buang-BERHALA-Yang-Duduk-Di-Hati-Kita-😥-_-Ustaz-Ahmad-Rizam-EP2qcEFmFD8.mp3-part-506.wav\n"
     ]
    },
    {
     "name": "stderr",
     "output_type": "stream",
     "text": [
      " 42%|████▏     | 55294/130662 [24:08<22:03, 56.97it/s]"
     ]
    },
    {
     "name": "stdout",
     "output_type": "stream",
     "text": [
      "skipped semisupervised-malay/output-wav/Buang-BERHALA-Yang-Duduk-Di-Hati-Kita-😥-_-Ustaz-Ahmad-Rizam-EP2qcEFmFD8.mp3-part-423.wav\n"
     ]
    },
    {
     "name": "stderr",
     "output_type": "stream",
     "text": [
      " 42%|████▏     | 55352/130662 [24:09<20:34, 61.02it/s]"
     ]
    },
    {
     "name": "stdout",
     "output_type": "stream",
     "text": [
      "skipped semisupervised-malay/output-wav/65-_-Wahai-Anak,-Allah-Akan-Menguji-Kamu-!-_-Ustaz-Wadi-Annuar-0ZKxMaNusTA.mp3-part-479.wav\n"
     ]
    },
    {
     "name": "stderr",
     "output_type": "stream",
     "text": [
      " 42%|████▏     | 55410/130662 [24:10<25:23, 49.40it/s]"
     ]
    },
    {
     "name": "stdout",
     "output_type": "stream",
     "text": [
      "skipped semisupervised-malay/output-wav/Pasal-Kau---Movie-Review-bRUjmsnE5ZU.mp3-part-37.wav\n"
     ]
    },
    {
     "name": "stderr",
     "output_type": "stream",
     "text": [
      " 43%|████▎     | 55740/130662 [24:16<19:56, 62.59it/s]"
     ]
    },
    {
     "name": "stdout",
     "output_type": "stream",
     "text": [
      "skipped semisupervised-malay/output-wav/VEVEONAH-PENIPU-i7liW-7TTOI.mp3-part-40.wav\n"
     ]
    },
    {
     "name": "stderr",
     "output_type": "stream",
     "text": [
      " 43%|████▎     | 56535/130662 [24:29<22:58, 53.79it/s]"
     ]
    },
    {
     "name": "stdout",
     "output_type": "stream",
     "text": [
      "skipped semisupervised-malay/output-wav/IPGM----Cabaran-VUCA-Dari-Perspektif-Pendidikan-Guru-dan-PAK-21-QOCbT-XH36I.mp3-part-205.wav\n"
     ]
    },
    {
     "name": "stderr",
     "output_type": "stream",
     "text": [
      " 43%|████▎     | 56773/130662 [24:33<20:52, 59.01it/s]"
     ]
    },
    {
     "name": "stdout",
     "output_type": "stream",
     "text": [
      "skipped semisupervised-malay/output-wav/JANGAN-SILAP-Pilih-3-Pekara-Ini-☝️-_-Ustaz-Mohd-Shaffi-s4hfxsYVnpE.mp3-part-9.wav\n"
     ]
    },
    {
     "name": "stderr",
     "output_type": "stream",
     "text": [
      " 44%|████▎     | 57123/130662 [24:39<24:03, 50.96it/s]"
     ]
    },
    {
     "name": "stdout",
     "output_type": "stream",
     "text": [
      "skipped semisupervised-malay/output-wav/Buang-BERHALA-Yang-Duduk-Di-Hati-Kita-😥-_-Ustaz-Ahmad-Rizam-EP2qcEFmFD8.mp3-part-172.wav\n"
     ]
    },
    {
     "name": "stderr",
     "output_type": "stream",
     "text": [
      " 44%|████▍     | 57181/130662 [24:40<24:13, 50.57it/s]"
     ]
    },
    {
     "name": "stdout",
     "output_type": "stream",
     "text": [
      "skipped semisupervised-malay/output-wav/Dunia-Tamat-2038-4sYNZ3vkIbg.mp3-part-37.wav\n"
     ]
    },
    {
     "name": "stderr",
     "output_type": "stream",
     "text": [
      " 44%|████▍     | 57320/130662 [24:42<21:25, 57.07it/s]"
     ]
    },
    {
     "name": "stdout",
     "output_type": "stream",
     "text": [
      "skipped semisupervised-malay/output-wav/Pengalaman-Pertama-Kali-Tidur-Dalam-Kereta-Api-Dari-Malaysia-Ke-Thailand-WKi6VUFzjuo.mp3-part-25.wav\n"
     ]
    },
    {
     "name": "stderr",
     "output_type": "stream",
     "text": [
      " 44%|████▍     | 57785/130662 [24:50<24:32, 49.51it/s]"
     ]
    },
    {
     "name": "stdout",
     "output_type": "stream",
     "text": [
      "skipped semisupervised-malay/output-wav/Ini-Hikmah-Kenapa-Rasulullah-Tidak-Pernah-AZAN-😮-_-Ustaz-Mohd-Shaffi-DfflcWqHY9E.mp3-part-308.wav\n"
     ]
    },
    {
     "name": "stderr",
     "output_type": "stream",
     "text": [
      " 45%|████▍     | 58243/130662 [24:58<23:38, 51.07it/s]"
     ]
    },
    {
     "name": "stdout",
     "output_type": "stream",
     "text": [
      "skipped semisupervised-malay/output-wav/Ini-Bukan-Kuning-iqxyI-eYK3M.mp3-part-4.wav\n"
     ]
    },
    {
     "name": "stderr",
     "output_type": "stream",
     "text": [
      " 45%|████▍     | 58287/130662 [24:58<20:04, 60.07it/s]"
     ]
    },
    {
     "name": "stdout",
     "output_type": "stream",
     "text": [
      "skipped semisupervised-malay/output-wav/65-_-Wahai-Anak,-Allah-Akan-Menguji-Kamu-!-_-Ustaz-Wadi-Annuar-0ZKxMaNusTA.mp3-part-120.wav\n"
     ]
    },
    {
     "name": "stderr",
     "output_type": "stream",
     "text": [
      " 45%|████▌     | 58819/130662 [25:07<17:53, 66.93it/s]"
     ]
    },
    {
     "name": "stdout",
     "output_type": "stream",
     "text": [
      "skipped semisupervised-malay/output-wav/Buang-BERHALA-Yang-Duduk-Di-Hati-Kita-😥-_-Ustaz-Ahmad-Rizam-EP2qcEFmFD8.mp3-part-508.wav\n"
     ]
    },
    {
     "name": "stderr",
     "output_type": "stream",
     "text": [
      " 45%|████▌     | 59123/130662 [25:13<20:05, 59.37it/s]"
     ]
    },
    {
     "name": "stdout",
     "output_type": "stream",
     "text": [
      "skipped semisupervised-malay/output-wav/65-_-Wahai-Anak,-Allah-Akan-Menguji-Kamu-!-_-Ustaz-Wadi-Annuar-0ZKxMaNusTA.mp3-part-89.wav\n"
     ]
    },
    {
     "name": "stderr",
     "output_type": "stream",
     "text": [
      " 45%|████▌     | 59159/130662 [25:13<20:34, 57.90it/s]"
     ]
    },
    {
     "name": "stdout",
     "output_type": "stream",
     "text": [
      "skipped semisupervised-malay/output-wav/IPGM----Cabaran-VUCA-Dari-Perspektif-Pendidikan-Guru-dan-PAK-21-QOCbT-XH36I.mp3-part-264.wav\n"
     ]
    },
    {
     "name": "stderr",
     "output_type": "stream",
     "text": [
      " 45%|████▌     | 59432/130662 [25:18<18:44, 63.34it/s]"
     ]
    },
    {
     "name": "stdout",
     "output_type": "stream",
     "text": [
      "skipped semisupervised-malay/output-wav/Pengalaman-Pertama-Kali-Tidur-Dalam-Kereta-Api-Dari-Malaysia-Ke-Thailand-WKi6VUFzjuo.mp3-part-33.wav\n"
     ]
    },
    {
     "name": "stderr",
     "output_type": "stream",
     "text": [
      " 46%|████▌     | 59491/130662 [25:19<23:59, 49.43it/s]"
     ]
    },
    {
     "name": "stdout",
     "output_type": "stream",
     "text": [
      "skipped semisupervised-malay/output-wav/Konsep-TAWASSUL-Dalam-Islam-_-Ustaz-Mohd-Anuar-mQuUzU8xQ44.mp3-part-349.wav\n"
     ]
    },
    {
     "name": "stderr",
     "output_type": "stream",
     "text": [
      " 46%|████▌     | 60101/130662 [25:29<22:33, 52.13it/s]"
     ]
    },
    {
     "name": "stdout",
     "output_type": "stream",
     "text": [
      "skipped semisupervised-malay/output-wav/Rahsia-Bendera-Malaysia-yang-Tak-Terjawab-Sampai-Sekarang-nWCATzTi0HU.mp3-part-3.wav\n"
     ]
    },
    {
     "name": "stderr",
     "output_type": "stream",
     "text": [
      " 46%|████▌     | 60145/130662 [25:30<22:20, 52.62it/s]"
     ]
    },
    {
     "name": "stdout",
     "output_type": "stream",
     "text": [
      "skipped semisupervised-malay/output-wav/Dunia-Tamat-2038-4sYNZ3vkIbg.mp3-part-33.wav\n"
     ]
    },
    {
     "name": "stderr",
     "output_type": "stream",
     "text": [
      " 46%|████▋     | 60675/130662 [25:39<19:27, 59.94it/s]"
     ]
    },
    {
     "name": "stdout",
     "output_type": "stream",
     "text": [
      "skipped semisupervised-malay/output-wav/KJ-React-First-Video-Sendiri-Di-ML-Studio,-Malu-Tapi-Berbaloi.-e7xE7V11Vwc.mp3-part-71.wav\n",
      "skipped semisupervised-malay/output-wav/Pasal-Kau---Movie-Review-bRUjmsnE5ZU.mp3-part-16.wav\n"
     ]
    },
    {
     "name": "stderr",
     "output_type": "stream",
     "text": [
      " 47%|████▋     | 60831/130662 [25:42<20:02, 58.07it/s]"
     ]
    },
    {
     "name": "stdout",
     "output_type": "stream",
     "text": [
      "skipped semisupervised-malay/output-wav/WACANA-ILMU----KERANGKA-STANDARD-BAHASA-MELAYU-(KSBM)-PENTAKSIRAN-DARIPADA-PERSPEKTIF-KSBM-qbFORSE48cQ.mp3-part-614.wav\n"
     ]
    },
    {
     "name": "stderr",
     "output_type": "stream",
     "text": [
      " 47%|████▋     | 60901/130662 [25:43<19:27, 59.77it/s]"
     ]
    },
    {
     "name": "stdout",
     "output_type": "stream",
     "text": [
      "skipped semisupervised-malay/output-wav/WACANA-ILMU----KERANGKA-STANDARD-BAHASA-MELAYU-(KSBM)-PENTAKSIRAN-DARIPADA-PERSPEKTIF-KSBM-qbFORSE48cQ.mp3-part-95.wav\n"
     ]
    },
    {
     "name": "stderr",
     "output_type": "stream",
     "text": [
      " 47%|████▋     | 61162/130662 [25:47<20:03, 57.73it/s]"
     ]
    },
    {
     "name": "stdout",
     "output_type": "stream",
     "text": [
      "skipped semisupervised-malay/output-wav/Buang-BERHALA-Yang-Duduk-Di-Hati-Kita-😥-_-Ustaz-Ahmad-Rizam-EP2qcEFmFD8.mp3-part-129.wav\n"
     ]
    },
    {
     "name": "stderr",
     "output_type": "stream",
     "text": [
      " 47%|████▋     | 61185/130662 [25:48<22:40, 51.08it/s]"
     ]
    },
    {
     "name": "stdout",
     "output_type": "stream",
     "text": [
      "skipped semisupervised-malay/output-wav/Nak-Sambut-DEKAD-Baru-2020-Tengok-Video-Ni-Dulu.-QO-YWGQvb1Q.mp3-part-22.wav\n",
      "skipped semisupervised-malay/output-wav/Siapa-Buat-Soalan-IQ-Pelik-Ni-Kenapa-HGFCASE37OQ.mp3-part-29.wav\n"
     ]
    },
    {
     "name": "stderr",
     "output_type": "stream",
     "text": [
      " 47%|████▋     | 61207/130662 [25:48<20:56, 55.29it/s]"
     ]
    },
    {
     "name": "stdout",
     "output_type": "stream",
     "text": [
      "skipped semisupervised-malay/output-wav/Siapa-Buat-Soalan-IQ-Pelik-Ni-Kenapa-HGFCASE37OQ.mp3-part-2.wav\n"
     ]
    },
    {
     "name": "stderr",
     "output_type": "stream",
     "text": [
      " 47%|████▋     | 61358/130662 [25:51<21:17, 54.27it/s]"
     ]
    },
    {
     "name": "stdout",
     "output_type": "stream",
     "text": [
      "skipped semisupervised-malay/output-wav/IPGM----Cabaran-VUCA-Dari-Perspektif-Pendidikan-Guru-dan-PAK-21-QOCbT-XH36I.mp3-part-541.wav\n"
     ]
    },
    {
     "name": "stderr",
     "output_type": "stream",
     "text": [
      " 47%|████▋     | 61466/130662 [25:52<17:50, 64.65it/s]"
     ]
    },
    {
     "name": "stdout",
     "output_type": "stream",
     "text": [
      "skipped semisupervised-malay/output-wav/Menurut-Sains,-Gopal-Sebenarnya-Tersangat-OP-(Bahagian-2)-PKJshdf_FnM.mp3-part-97.wav\n"
     ]
    },
    {
     "name": "stderr",
     "output_type": "stream",
     "text": [
      " 47%|████▋     | 61554/130662 [25:54<18:45, 61.41it/s]"
     ]
    },
    {
     "name": "stdout",
     "output_type": "stream",
     "text": [
      "skipped semisupervised-malay/output-wav/Nak-Sambut-DEKAD-Baru-2020-Tengok-Video-Ni-Dulu.-QO-YWGQvb1Q.mp3-part-24.wav\n"
     ]
    },
    {
     "name": "stderr",
     "output_type": "stream",
     "text": [
      " 47%|████▋     | 61905/130662 [26:00<17:39, 64.88it/s]"
     ]
    },
    {
     "name": "stdout",
     "output_type": "stream",
     "text": [
      "skipped semisupervised-malay/output-wav/65-_-Wahai-Anak,-Allah-Akan-Menguji-Kamu-!-_-Ustaz-Wadi-Annuar-0ZKxMaNusTA.mp3-part-191.wav\n"
     ]
    },
    {
     "name": "stderr",
     "output_type": "stream",
     "text": [
      " 47%|████▋     | 61989/130662 [26:01<18:16, 62.62it/s]"
     ]
    },
    {
     "name": "stdout",
     "output_type": "stream",
     "text": [
      "skipped semisupervised-malay/output-wav/WACANA-ILMU----Saya-OK!-Anda-Bagaimana-Te-funnFw3s.mp3-part-104.wav\n"
     ]
    },
    {
     "name": "stderr",
     "output_type": "stream",
     "text": [
      " 48%|████▊     | 62517/130662 [26:10<19:16, 58.90it/s]"
     ]
    },
    {
     "name": "stdout",
     "output_type": "stream",
     "text": [
      "skipped semisupervised-malay/output-wav/Nak-Sambut-DEKAD-Baru-2020-Tengok-Video-Ni-Dulu.-QO-YWGQvb1Q.mp3-part-8.wav\n"
     ]
    },
    {
     "name": "stderr",
     "output_type": "stream",
     "text": [
      " 48%|████▊     | 62807/130662 [26:15<21:30, 52.57it/s]"
     ]
    },
    {
     "name": "stdout",
     "output_type": "stream",
     "text": [
      "skipped semisupervised-malay/output-wav/Podcast-Bekpek---Berbasikal-Malaysia-Ke-Mekah(Ditahan-dan-dibawa-Kem-Askar-Pakistan-Semasa-Di-Gunung)-_bfH3pxuOoM.mp3-part-84.wav\n"
     ]
    },
    {
     "name": "stderr",
     "output_type": "stream",
     "text": [
      " 48%|████▊     | 63172/130662 [26:21<19:44, 56.99it/s]"
     ]
    },
    {
     "name": "stdout",
     "output_type": "stream",
     "text": [
      "skipped semisupervised-malay/output-wav/65-_-Wahai-Anak,-Allah-Akan-Menguji-Kamu-!-_-Ustaz-Wadi-Annuar-0ZKxMaNusTA.mp3-part-131.wav\n",
      "skipped semisupervised-malay/output-wav/Sesi-2----Fahami-Realiti-Kerajaan-Diri-NSRWj5Zz7Qo.mp3-part-520.wav\n"
     ]
    },
    {
     "name": "stderr",
     "output_type": "stream",
     "text": [
      " 49%|████▉     | 64386/130662 [26:42<17:35, 62.76it/s]"
     ]
    },
    {
     "name": "stdout",
     "output_type": "stream",
     "text": [
      "skipped semisupervised-malay/output-wav/IPGM----Cabaran-VUCA-Dari-Perspektif-Pendidikan-Guru-dan-PAK-21-QOCbT-XH36I.mp3-part-2.wav\n"
     ]
    },
    {
     "name": "stderr",
     "output_type": "stream",
     "text": [
      " 50%|████▉     | 64982/130662 [26:52<19:31, 56.09it/s]"
     ]
    },
    {
     "name": "stdout",
     "output_type": "stream",
     "text": [
      "skipped semisupervised-malay/output-wav/Nak-Sambut-DEKAD-Baru-2020-Tengok-Video-Ni-Dulu.-QO-YWGQvb1Q.mp3-part-34.wav\n"
     ]
    },
    {
     "name": "stderr",
     "output_type": "stream",
     "text": [
      " 50%|█████     | 65346/130662 [26:58<18:02, 60.34it/s]"
     ]
    },
    {
     "name": "stdout",
     "output_type": "stream",
     "text": [
      "skipped semisupervised-malay/output-wav/Buang-BERHALA-Yang-Duduk-Di-Hati-Kita-😥-_-Ustaz-Ahmad-Rizam-EP2qcEFmFD8.mp3-part-118.wav\n"
     ]
    },
    {
     "name": "stderr",
     "output_type": "stream",
     "text": [
      " 50%|█████     | 65505/130662 [27:00<18:56, 57.35it/s]"
     ]
    },
    {
     "name": "stdout",
     "output_type": "stream",
     "text": [
      "skipped semisupervised-manglish/output-wav/Mamak-Sessions-Ep6---Names-People-Always-Mispronounce-&-Facebook-Is-A-Spy-8LuihYdx0FQ.mp3-part-117.wav\n"
     ]
    },
    {
     "name": "stderr",
     "output_type": "stream",
     "text": [
      " 50%|█████     | 65605/130662 [27:02<19:54, 54.45it/s]"
     ]
    },
    {
     "name": "stdout",
     "output_type": "stream",
     "text": [
      "skipped semisupervised-manglish/output-wav/The-Fashion-Weak-Podcast-Ep24---Penang-Boys-@tunway-瘦虎-&-@Shawnduabui-肥龍-Talk-Zap-Fan-&-Sneakers-dykz_vuzJh0.mp3-part-323.wav\n"
     ]
    },
    {
     "name": "stderr",
     "output_type": "stream",
     "text": [
      " 50%|█████     | 65711/130662 [27:04<18:55, 57.22it/s]"
     ]
    },
    {
     "name": "stdout",
     "output_type": "stream",
     "text": [
      "skipped semisupervised-manglish/output-wav/Mamak-Sessions---We-May-Not-Always-End-Up-Doing-What-We-Thought-We-Would..And-That's-Not-A-Bad-Thing-IAeN0jG9Hwc.mp3-part-173.wav\n"
     ]
    },
    {
     "name": "stderr",
     "output_type": "stream",
     "text": [
      " 50%|█████     | 65954/130662 [27:08<17:38, 61.15it/s]"
     ]
    },
    {
     "name": "stdout",
     "output_type": "stream",
     "text": [
      "skipped semisupervised-manglish/output-wav/Mamak-Sessions-Ep6---Names-People-Always-Mispronounce-&-Facebook-Is-A-Spy-8LuihYdx0FQ.mp3-part-10.wav\n"
     ]
    },
    {
     "name": "stderr",
     "output_type": "stream",
     "text": [
      " 51%|█████     | 66259/130662 [27:13<23:03, 46.56it/s]"
     ]
    },
    {
     "name": "stdout",
     "output_type": "stream",
     "text": [
      "skipped semisupervised-manglish/output-wav/Burnout-in-the-Media-Industry-+-Passion-in-Theatre--_-Singaporean-Podcast-#16-_-Rennes-Lee-f7qEqPNzGk8.mp3-part-319.wav\n"
     ]
    },
    {
     "name": "stderr",
     "output_type": "stream",
     "text": [
      " 51%|█████     | 66540/130662 [27:18<20:09, 53.01it/s]"
     ]
    },
    {
     "name": "stdout",
     "output_type": "stream",
     "text": [
      "skipped semisupervised-manglish/output-wav/Mamak-Sessions-Ep6---Names-People-Always-Mispronounce-&-Facebook-Is-A-Spy-8LuihYdx0FQ.mp3-part-369.wav\n"
     ]
    },
    {
     "name": "stderr",
     "output_type": "stream",
     "text": [
      " 51%|█████     | 66687/130662 [27:20<20:30, 51.99it/s]"
     ]
    },
    {
     "name": "stdout",
     "output_type": "stream",
     "text": [
      "skipped semisupervised-manglish/output-wav/Mamak-Sessions-Ep6---Names-People-Always-Mispronounce-&-Facebook-Is-A-Spy-8LuihYdx0FQ.mp3-part-167.wav\n",
      "skipped semisupervised-manglish/output-wav/Mamak-Sessions-Ep6---Names-People-Always-Mispronounce-&-Facebook-Is-A-Spy-8LuihYdx0FQ.mp3-part-43.wav\n"
     ]
    },
    {
     "name": "stderr",
     "output_type": "stream",
     "text": [
      " 51%|█████     | 66728/130662 [27:21<19:53, 53.58it/s]"
     ]
    },
    {
     "name": "stdout",
     "output_type": "stream",
     "text": [
      "skipped semisupervised-manglish/output-wav/The-Fashion-Weak-Podcast-Ep-23---Alicia-Amin-On-Being-A-'Malay'-Model-In-2019-3pKA5NvTCOA.mp3-part-119.wav\n"
     ]
    },
    {
     "name": "stderr",
     "output_type": "stream",
     "text": [
      " 51%|█████     | 66927/130662 [27:24<19:41, 53.94it/s]"
     ]
    },
    {
     "name": "stdout",
     "output_type": "stream",
     "text": [
      "skipped semisupervised-manglish/output-wav/The-Fashion-Weak-Podcast-Ep-23---Alicia-Amin-On-Being-A-'Malay'-Model-In-2019-3pKA5NvTCOA.mp3-part-624.wav\n"
     ]
    },
    {
     "name": "stderr",
     "output_type": "stream",
     "text": [
      " 51%|█████     | 66955/130662 [27:25<27:23, 38.77it/s]"
     ]
    },
    {
     "name": "stdout",
     "output_type": "stream",
     "text": [
      "skipped semisupervised-manglish/output-wav/The-Fashion-Weak-Podcast-Ep-23---Alicia-Amin-On-Being-A-'Malay'-Model-In-2019-3pKA5NvTCOA.mp3-part-334.wav\n"
     ]
    },
    {
     "name": "stderr",
     "output_type": "stream",
     "text": [
      " 51%|█████▏    | 67028/130662 [27:26<17:19, 61.24it/s]"
     ]
    },
    {
     "name": "stdout",
     "output_type": "stream",
     "text": [
      "skipped semisupervised-manglish/output-wav/Mamak-Sessions---Nasi-Lemak-Sneakers-zLEmAKdG9vY.mp3-part-20.wav\n"
     ]
    },
    {
     "name": "stderr",
     "output_type": "stream",
     "text": [
      " 51%|█████▏    | 67091/130662 [27:27<17:35, 60.24it/s]"
     ]
    },
    {
     "name": "stdout",
     "output_type": "stream",
     "text": [
      "skipped semisupervised-manglish/output-wav/Burnout-in-the-Media-Industry-+-Passion-in-Theatre--_-Singaporean-Podcast-#16-_-Rennes-Lee-f7qEqPNzGk8.mp3-part-196.wav\n"
     ]
    },
    {
     "name": "stderr",
     "output_type": "stream",
     "text": [
      " 52%|█████▏    | 67375/130662 [27:32<16:38, 63.41it/s]"
     ]
    },
    {
     "name": "stdout",
     "output_type": "stream",
     "text": [
      "skipped semisupervised-manglish/output-wav/Mamak-Sessions-Ep6---Names-People-Always-Mispronounce-&-Facebook-Is-A-Spy-8LuihYdx0FQ.mp3-part-250.wav\n"
     ]
    },
    {
     "name": "stderr",
     "output_type": "stream",
     "text": [
      " 52%|█████▏    | 67437/130662 [27:33<17:51, 59.01it/s]"
     ]
    },
    {
     "name": "stdout",
     "output_type": "stream",
     "text": [
      "skipped semisupervised-manglish/output-wav/Mamak-Sessions---Quitting-The-Medical-Line-To-Make-People-Laugh-ft-Dr.-Jason-Leong-FcD9MpeWqEI.mp3-part-113.wav\n"
     ]
    },
    {
     "name": "stderr",
     "output_type": "stream",
     "text": [
      " 52%|█████▏    | 67684/130662 [27:37<19:34, 53.62it/s]"
     ]
    },
    {
     "name": "stdout",
     "output_type": "stream",
     "text": [
      "skipped semisupervised-manglish/output-wav/The-Fashion-Weak-Podcast-Ep24---Penang-Boys-@tunway-瘦虎-&-@Shawnduabui-肥龍-Talk-Zap-Fan-&-Sneakers-dykz_vuzJh0.mp3-part-733.wav\n",
      "skipped semisupervised-manglish/output-wav/The-Fashion-Weak-Podcast-Ep24---Penang-Boys-@tunway-瘦虎-&-@Shawnduabui-肥龍-Talk-Zap-Fan-&-Sneakers-dykz_vuzJh0.mp3-part-54.wav\n"
     ]
    },
    {
     "name": "stderr",
     "output_type": "stream",
     "text": [
      " 52%|█████▏    | 67781/130662 [27:39<16:51, 62.18it/s]"
     ]
    },
    {
     "name": "stdout",
     "output_type": "stream",
     "text": [
      "skipped semisupervised-manglish/output-wav/Mamak-Sessions---Our-Differences-Is-What-Unites-Us-ft.-Elvin-Romeo-0jySfrZhs50.mp3-part-47.wav\n"
     ]
    },
    {
     "name": "stderr",
     "output_type": "stream",
     "text": [
      " 52%|█████▏    | 67951/130662 [27:42<15:57, 65.48it/s]"
     ]
    },
    {
     "name": "stdout",
     "output_type": "stream",
     "text": [
      "skipped semisupervised-manglish/output-wav/Mamak-Sessions-Ep6---Names-People-Always-Mispronounce-&-Facebook-Is-A-Spy-8LuihYdx0FQ.mp3-part-8.wav\n"
     ]
    },
    {
     "name": "stderr",
     "output_type": "stream",
     "text": [
      " 52%|█████▏    | 68088/130662 [27:45<18:23, 56.73it/s]"
     ]
    },
    {
     "name": "stdout",
     "output_type": "stream",
     "text": [
      "skipped semisupervised-manglish/output-wav/Mamak-Sessions-Ep13---Game-Of-Thrones-Is-OVER!-Malaysian-Accent-is-sexy!--mAdHcMGmEs.mp3-part-87.wav\n"
     ]
    },
    {
     "name": "stderr",
     "output_type": "stream",
     "text": [
      " 52%|█████▏    | 68195/130662 [27:46<16:58, 61.33it/s]"
     ]
    },
    {
     "name": "stdout",
     "output_type": "stream",
     "text": [
      "skipped semisupervised-manglish/output-wav/The-Fashion-Weak-Podcast-Ep-23---Alicia-Amin-On-Being-A-'Malay'-Model-In-2019-3pKA5NvTCOA.mp3-part-291.wav\n"
     ]
    },
    {
     "name": "stderr",
     "output_type": "stream",
     "text": [
      " 53%|█████▎    | 69010/130662 [28:00<17:22, 59.15it/s]"
     ]
    },
    {
     "name": "stdout",
     "output_type": "stream",
     "text": [
      "skipped semisupervised-manglish/output-wav/Mamak-Sessions---The-Miss-World-Crown-is-more-than-$4,000,000!-PazCOj1nb3c.mp3-part-143.wav\n"
     ]
    },
    {
     "name": "stderr",
     "output_type": "stream",
     "text": [
      " 53%|█████▎    | 69247/130662 [28:04<17:49, 57.43it/s]"
     ]
    },
    {
     "name": "stdout",
     "output_type": "stream",
     "text": [
      "skipped semisupervised-manglish/output-wav/Mamak-Sessions-Ep10---Datuk-Nicol-David-is-RETIRING!-n3AR3nQEc7Y.mp3-part-349.wav\n"
     ]
    },
    {
     "name": "stderr",
     "output_type": "stream",
     "text": [
      " 53%|█████▎    | 69418/130662 [28:07<18:49, 54.24it/s]"
     ]
    },
    {
     "name": "stdout",
     "output_type": "stream",
     "text": [
      "skipped semisupervised-manglish/output-wav/The-Fashion-Weak-Podcast-Ep-31----Possibly-Our-Most-NSFW-Episode-Yet-With-@vikarworld-xMm23vU8_og.mp3-part-526.wav\n"
     ]
    },
    {
     "name": "stderr",
     "output_type": "stream",
     "text": [
      " 53%|█████▎    | 69534/130662 [28:09<16:05, 63.30it/s]"
     ]
    },
    {
     "name": "stdout",
     "output_type": "stream",
     "text": [
      "skipped semisupervised-manglish/output-wav/The-Fashion-Weak-Podcast-Ep-45---Finessing-A-New-Phone-Every-Year-With-Mamak-Rap-King-Jiven-Sekar-VlovwtVYuw0.mp3-part-191.wav\n"
     ]
    },
    {
     "name": "stderr",
     "output_type": "stream",
     "text": [
      " 53%|█████▎    | 69562/130662 [28:09<23:16, 43.74it/s]"
     ]
    },
    {
     "name": "stdout",
     "output_type": "stream",
     "text": [
      "skipped semisupervised-manglish/output-wav/Mamak-Sessions---Blaming-Yourself-For-Your-Parents'-Divorce,-And-How-Our-Parents-Punish-Us-x8Gl_zIC9CQ.mp3-part-346.wav\n"
     ]
    },
    {
     "name": "stderr",
     "output_type": "stream",
     "text": [
      " 53%|█████▎    | 69703/130662 [28:12<17:00, 59.73it/s]"
     ]
    },
    {
     "name": "stdout",
     "output_type": "stream",
     "text": [
      "skipped semisupervised-manglish/output-wav/Mamak-Sessions---Can-Guys-And-Girls-Be-Best-Friends-Is-it-ok-to-see-more-than-one-person-at-a-time-IixUPM11VMY.mp3-part-431.wav\n"
     ]
    },
    {
     "name": "stderr",
     "output_type": "stream",
     "text": [
      " 53%|█████▎    | 69862/130662 [28:14<17:49, 56.83it/s]"
     ]
    },
    {
     "name": "stdout",
     "output_type": "stream",
     "text": [
      "skipped semisupervised-manglish/output-wav/Mamak-Sessions---The-Asian-Mom-Of-The-Internet-ft-Tata-Wyb6i3GoJv4.mp3-part-3.wav\n"
     ]
    },
    {
     "name": "stderr",
     "output_type": "stream",
     "text": [
      " 54%|█████▎    | 70076/130662 [28:18<14:38, 69.00it/s]"
     ]
    },
    {
     "name": "stdout",
     "output_type": "stream",
     "text": [
      "skipped semisupervised-manglish/output-wav/Mamak-Sessions---Getting-Married-in-Vegas,-and-Sugar-Babies-ft.-Dennis-Yin-Cq6Yjwsu63U.mp3-part-293.wav\n"
     ]
    },
    {
     "name": "stderr",
     "output_type": "stream",
     "text": [
      " 54%|█████▎    | 70157/130662 [28:19<16:08, 62.47it/s]"
     ]
    },
    {
     "name": "stdout",
     "output_type": "stream",
     "text": [
      "skipped semisupervised-manglish/output-wav/Mamak-Sessions---Our-Differences-Is-What-Unites-Us-ft.-Elvin-Romeo-0jySfrZhs50.mp3-part-22.wav\n"
     ]
    },
    {
     "name": "stderr",
     "output_type": "stream",
     "text": [
      " 54%|█████▍    | 70625/130662 [28:27<22:01, 45.42it/s]"
     ]
    },
    {
     "name": "stdout",
     "output_type": "stream",
     "text": [
      "skipped semisupervised-manglish/output-wav/Mamak-Sessions---Nasi-Lemak-Sneakers-zLEmAKdG9vY.mp3-part-305.wav\n"
     ]
    },
    {
     "name": "stderr",
     "output_type": "stream",
     "text": [
      " 54%|█████▍    | 71172/130662 [28:36<17:26, 56.82it/s]"
     ]
    },
    {
     "name": "stdout",
     "output_type": "stream",
     "text": [
      "skipped semisupervised-manglish/output-wav/Mamak-Sessions-Podcast---How-Do-You-Handle-Long-Distance-Relationships-Do-they-WORK-m7mwwtsblIs.mp3-part-113.wav\n"
     ]
    },
    {
     "name": "stderr",
     "output_type": "stream",
     "text": [
      " 55%|█████▍    | 71289/130662 [28:38<18:31, 53.43it/s]"
     ]
    },
    {
     "name": "stdout",
     "output_type": "stream",
     "text": [
      "skipped semisupervised-manglish/output-wav/Mamak-Sessions---Girls-Are-Such-Complicated-Lil-Creatures-feat.-Talitha.-I2BaN8cm6NY.mp3-part-322.wav\n"
     ]
    },
    {
     "name": "stderr",
     "output_type": "stream",
     "text": [
      " 55%|█████▍    | 71412/130662 [28:40<19:09, 51.53it/s]"
     ]
    },
    {
     "name": "stdout",
     "output_type": "stream",
     "text": [
      "skipped semisupervised-manglish/output-wav/The-Fashion-Weak-Podcast-Ep-46---Premium-Thirst-Trap-Tips-With-Michelle-Lee-(@mich8lee)-MCHDyLJDJrg.mp3-part-12.wav\n"
     ]
    },
    {
     "name": "stderr",
     "output_type": "stream",
     "text": [
      " 55%|█████▍    | 71457/130662 [28:41<16:34, 59.54it/s]"
     ]
    },
    {
     "name": "stdout",
     "output_type": "stream",
     "text": [
      "skipped semisupervised-manglish/output-wav/Mamak-Sessions-Ep6---Names-People-Always-Mispronounce-&-Facebook-Is-A-Spy-8LuihYdx0FQ.mp3-part-51.wav\n"
     ]
    },
    {
     "name": "stderr",
     "output_type": "stream",
     "text": [
      " 55%|█████▍    | 71652/130662 [28:45<23:10, 42.42it/s]"
     ]
    },
    {
     "name": "stdout",
     "output_type": "stream",
     "text": [
      "skipped semisupervised-manglish/output-wav/The-Fashion-Weak-Podcast-EP-27----Peter-Davis-talks-cars,-mixed-rice-and-some-fashion.-rxmMRAzLRJ0.mp3-part-792.wav\n"
     ]
    },
    {
     "name": "stderr",
     "output_type": "stream",
     "text": [
      " 55%|█████▌    | 72148/130662 [28:53<15:51, 61.49it/s]"
     ]
    },
    {
     "name": "stdout",
     "output_type": "stream",
     "text": [
      "skipped semisupervised-manglish/output-wav/Mamak-Sessions-Ep6---Names-People-Always-Mispronounce-&-Facebook-Is-A-Spy-8LuihYdx0FQ.mp3-part-101.wav\n"
     ]
    },
    {
     "name": "stderr",
     "output_type": "stream",
     "text": [
      " 55%|█████▌    | 72495/130662 [28:59<15:49, 61.27it/s]"
     ]
    },
    {
     "name": "stdout",
     "output_type": "stream",
     "text": [
      "skipped semisupervised-manglish/output-wav/Mamak-Sessions---My-Asian-Parents-Were-Initially-Ashamed-Of-My-Career-NqCp8Csl7PE.mp3-part-28.wav\n"
     ]
    },
    {
     "name": "stderr",
     "output_type": "stream",
     "text": [
      " 56%|█████▌    | 72543/130662 [29:00<18:27, 52.50it/s]"
     ]
    },
    {
     "name": "stdout",
     "output_type": "stream",
     "text": [
      "skipped semisupervised-manglish/output-wav/Mamak-Sessions-Ep6---Names-People-Always-Mispronounce-&-Facebook-Is-A-Spy-8LuihYdx0FQ.mp3-part-391.wav\n"
     ]
    },
    {
     "name": "stderr",
     "output_type": "stream",
     "text": [
      " 56%|█████▌    | 73156/130662 [29:10<18:09, 52.77it/s]"
     ]
    },
    {
     "name": "stdout",
     "output_type": "stream",
     "text": [
      "skipped semisupervised-manglish/output-wav/Mamak-Sessions---Can-Guys-And-Girls-Be-Best-Friends-Is-it-ok-to-see-more-than-one-person-at-a-time-IixUPM11VMY.mp3-part-310.wav\n"
     ]
    },
    {
     "name": "stderr",
     "output_type": "stream",
     "text": [
      " 56%|█████▌    | 73178/130662 [29:10<16:18, 58.75it/s]"
     ]
    },
    {
     "name": "stdout",
     "output_type": "stream",
     "text": [
      "skipped semisupervised-manglish/output-wav/The-Fashion-Weak-Podcast-Ep-40---tdcjTfzYSbk.mp3-part-645.wav\n"
     ]
    },
    {
     "name": "stderr",
     "output_type": "stream",
     "text": [
      " 56%|█████▌    | 73341/130662 [29:13<17:02, 56.07it/s]"
     ]
    },
    {
     "name": "stdout",
     "output_type": "stream",
     "text": [
      "skipped semisupervised-manglish/output-wav/Mamak-Sessions---How-I-Got-Quarantined-Because-Of-Covid-19-Feat.-Mark-O'Dea-5zAsyNKfzps.mp3-part-3.wav\n"
     ]
    },
    {
     "name": "stderr",
     "output_type": "stream",
     "text": [
      " 56%|█████▋    | 73530/130662 [29:16<16:54, 56.34it/s]"
     ]
    },
    {
     "name": "stdout",
     "output_type": "stream",
     "text": [
      "skipped semisupervised-manglish/output-wav/The-Fashion-Weak-Podcast-Ep-23---Alicia-Amin-On-Being-A-'Malay'-Model-In-2019-3pKA5NvTCOA.mp3-part-359.wav\n"
     ]
    },
    {
     "name": "stderr",
     "output_type": "stream",
     "text": [
      " 56%|█████▋    | 73667/130662 [29:19<14:44, 64.43it/s]"
     ]
    },
    {
     "name": "stdout",
     "output_type": "stream",
     "text": [
      "skipped semisupervised-manglish/output-wav/The-Fashion-Weak-Podcast-Ep-45---Finessing-A-New-Phone-Every-Year-With-Mamak-Rap-King-Jiven-Sekar-VlovwtVYuw0.mp3-part-889.wav\n"
     ]
    },
    {
     "name": "stderr",
     "output_type": "stream",
     "text": [
      " 57%|█████▋    | 73970/130662 [29:24<15:43, 60.09it/s]"
     ]
    },
    {
     "name": "stdout",
     "output_type": "stream",
     "text": [
      "skipped semisupervised-manglish/output-wav/Mamak-Sessions-Podcast---How-Do-You-Handle-Long-Distance-Relationships-Do-they-WORK-m7mwwtsblIs.mp3-part-349.wav\n"
     ]
    },
    {
     "name": "stderr",
     "output_type": "stream",
     "text": [
      " 57%|█████▋    | 74136/130662 [29:27<17:40, 53.33it/s]"
     ]
    },
    {
     "name": "stdout",
     "output_type": "stream",
     "text": [
      "skipped semisupervised-manglish/output-wav/Mamak-Sessions-Ep6---Names-People-Always-Mispronounce-&-Facebook-Is-A-Spy-8LuihYdx0FQ.mp3-part-30.wav\n"
     ]
    },
    {
     "name": "stderr",
     "output_type": "stream",
     "text": [
      " 57%|█████▋    | 74331/130662 [29:30<15:10, 61.85it/s]"
     ]
    },
    {
     "name": "stdout",
     "output_type": "stream",
     "text": [
      "skipped semisupervised-manglish/output-wav/The-Fashion-Weak-Podcast-Ep-38---TikTok-Royalty-Roshan-Jeet-aka-Roshannnn1-lPnRg9UsP0M.mp3-part-83.wav\n",
      "skipped semisupervised-manglish/output-wav/Mamak-Sessions-Ep6---Names-People-Always-Mispronounce-&-Facebook-Is-A-Spy-8LuihYdx0FQ.mp3-part-9.wav\n"
     ]
    },
    {
     "name": "stderr",
     "output_type": "stream",
     "text": [
      " 57%|█████▋    | 74359/130662 [29:30<17:02, 55.04it/s]"
     ]
    },
    {
     "name": "stdout",
     "output_type": "stream",
     "text": [
      "skipped semisupervised-manglish/output-wav/Mamak-Sessions-Ep6---Names-People-Always-Mispronounce-&-Facebook-Is-A-Spy-8LuihYdx0FQ.mp3-part-155.wav\n"
     ]
    },
    {
     "name": "stderr",
     "output_type": "stream",
     "text": [
      " 57%|█████▋    | 74386/130662 [29:31<20:03, 46.75it/s]"
     ]
    },
    {
     "name": "stdout",
     "output_type": "stream",
     "text": [
      "skipped semisupervised-manglish/output-wav/The-Fashion-Weak-Podcast-Ep-40---tdcjTfzYSbk.mp3-part-1092.wav\n"
     ]
    },
    {
     "name": "stderr",
     "output_type": "stream",
     "text": [
      " 57%|█████▋    | 74488/130662 [29:33<17:17, 54.15it/s]"
     ]
    },
    {
     "name": "stdout",
     "output_type": "stream",
     "text": [
      "skipped semisupervised-manglish/output-wav/Dance-Moves-To-Pick-Up-Girls-At-The-Club-With-Adidas-Creator-Maybelline-Wong-(@definitelyMayb_)-vRnkHzyyBc4.mp3-part-881.wav\n"
     ]
    },
    {
     "name": "stderr",
     "output_type": "stream",
     "text": [
      " 57%|█████▋    | 74575/130662 [29:34<16:59, 55.01it/s]"
     ]
    },
    {
     "name": "stdout",
     "output_type": "stream",
     "text": [
      "skipped semisupervised-manglish/output-wav/Mamak-Sessions---The-Asian-Mom-Of-The-Internet-ft-Tata-Wyb6i3GoJv4.mp3-part-309.wav\n"
     ]
    },
    {
     "name": "stderr",
     "output_type": "stream",
     "text": [
      " 57%|█████▋    | 74596/130662 [29:35<16:57, 55.11it/s]"
     ]
    },
    {
     "name": "stdout",
     "output_type": "stream",
     "text": [
      "skipped semisupervised-manglish/output-wav/The-Fashion-Weak-Podcast-Ep-43---Thirst-Trapping-Simps-&-Loving-Your-Body-From-The-Outside-In-6R87P6YD2c4.mp3-part-551.wav\n"
     ]
    },
    {
     "name": "stderr",
     "output_type": "stream",
     "text": [
      " 57%|█████▋    | 74608/130662 [29:35<18:28, 50.57it/s]"
     ]
    },
    {
     "name": "stdout",
     "output_type": "stream",
     "text": [
      "skipped semisupervised-manglish/output-wav/Mamak-Sessions-Podcast---How-Do-You-Handle-Long-Distance-Relationships-Do-they-WORK-m7mwwtsblIs.mp3-part-147.wav\n",
      "skipped semisupervised-manglish/output-wav/Mamak-Sessions-Ep6---Names-People-Always-Mispronounce-&-Facebook-Is-A-Spy-8LuihYdx0FQ.mp3-part-113.wav\n"
     ]
    },
    {
     "name": "stderr",
     "output_type": "stream",
     "text": [
      " 57%|█████▋    | 74621/130662 [29:35<17:54, 52.14it/s]"
     ]
    },
    {
     "name": "stdout",
     "output_type": "stream",
     "text": [
      "skipped semisupervised-manglish/output-wav/Mamak-Sessions---The-Miss-World-Crown-is-more-than-$4,000,000!-PazCOj1nb3c.mp3-part-112.wav\n"
     ]
    },
    {
     "name": "stderr",
     "output_type": "stream",
     "text": [
      " 57%|█████▋    | 74692/130662 [29:36<16:29, 56.56it/s]"
     ]
    },
    {
     "name": "stdout",
     "output_type": "stream",
     "text": [
      "skipped semisupervised-manglish/output-wav/Mamak-Sessions-Ep10---Datuk-Nicol-David-is-RETIRING!-n3AR3nQEc7Y.mp3-part-531.wav\n"
     ]
    },
    {
     "name": "stderr",
     "output_type": "stream",
     "text": [
      " 57%|█████▋    | 74724/130662 [29:37<19:00, 49.05it/s]"
     ]
    },
    {
     "name": "stdout",
     "output_type": "stream",
     "text": [
      "skipped semisupervised-manglish/output-wav/Mamak-Sessions---Nasi-Lemak-Sneakers-zLEmAKdG9vY.mp3-part-181.wav\n"
     ]
    },
    {
     "name": "stderr",
     "output_type": "stream",
     "text": [
      " 57%|█████▋    | 74738/130662 [29:37<17:42, 52.61it/s]"
     ]
    },
    {
     "name": "stdout",
     "output_type": "stream",
     "text": [
      "skipped semisupervised-manglish/output-wav/The-Fashion-Weak-Podcast-Ep-40---tdcjTfzYSbk.mp3-part-660.wav\n"
     ]
    },
    {
     "name": "stderr",
     "output_type": "stream",
     "text": [
      " 58%|█████▊    | 75338/130662 [29:48<16:26, 56.08it/s]"
     ]
    },
    {
     "name": "stdout",
     "output_type": "stream",
     "text": [
      "skipped semisupervised-manglish/output-wav/The-Fashion-Weak-Podcast-Ep24---Penang-Boys-@tunway-瘦虎-&-@Shawnduabui-肥龍-Talk-Zap-Fan-&-Sneakers-dykz_vuzJh0.mp3-part-663.wav\n"
     ]
    },
    {
     "name": "stderr",
     "output_type": "stream",
     "text": [
      " 58%|█████▊    | 75642/130662 [29:52<16:00, 57.31it/s]"
     ]
    },
    {
     "name": "stdout",
     "output_type": "stream",
     "text": [
      "skipped semisupervised-manglish/output-wav/Mamak-Sessions---Nasi-Lemak-Sneakers-zLEmAKdG9vY.mp3-part-186.wav\n"
     ]
    },
    {
     "name": "stderr",
     "output_type": "stream",
     "text": [
      " 58%|█████▊    | 75663/130662 [29:53<15:10, 60.40it/s]"
     ]
    },
    {
     "name": "stdout",
     "output_type": "stream",
     "text": [
      "skipped semisupervised-manglish/output-wav/Mamak-Sessions-Ep6---Names-People-Always-Mispronounce-&-Facebook-Is-A-Spy-8LuihYdx0FQ.mp3-part-298.wav\n"
     ]
    },
    {
     "name": "stderr",
     "output_type": "stream",
     "text": [
      " 58%|█████▊    | 76079/130662 [30:00<15:41, 57.95it/s]"
     ]
    },
    {
     "name": "stdout",
     "output_type": "stream",
     "text": [
      "skipped semisupervised-manglish/output-wav/Mamak-Sessions---Getting-Married-in-Vegas,-and-Sugar-Babies-ft.-Dennis-Yin-Cq6Yjwsu63U.mp3-part-21.wav\n"
     ]
    },
    {
     "name": "stderr",
     "output_type": "stream",
     "text": [
      " 58%|█████▊    | 76144/130662 [30:01<16:50, 53.95it/s]"
     ]
    },
    {
     "name": "stdout",
     "output_type": "stream",
     "text": [
      "skipped semisupervised-manglish/output-wav/The-Fashion-Weak-Podcast-Ep24---Penang-Boys-@tunway-瘦虎-&-@Shawnduabui-肥龍-Talk-Zap-Fan-&-Sneakers-dykz_vuzJh0.mp3-part-835.wav\n"
     ]
    },
    {
     "name": "stderr",
     "output_type": "stream",
     "text": [
      " 58%|█████▊    | 76414/130662 [30:06<15:17, 59.16it/s]"
     ]
    },
    {
     "name": "stdout",
     "output_type": "stream",
     "text": [
      "skipped semisupervised-manglish/output-wav/Mamak-Sessions---Getting-Married-in-Vegas,-and-Sugar-Babies-ft.-Dennis-Yin-Cq6Yjwsu63U.mp3-part-295.wav\n"
     ]
    },
    {
     "name": "stderr",
     "output_type": "stream",
     "text": [
      " 59%|█████▉    | 76769/130662 [30:12<15:21, 58.46it/s]"
     ]
    },
    {
     "name": "stdout",
     "output_type": "stream",
     "text": [
      "skipped semisupervised-manglish/output-wav/The-Fashion-Weak-Podcast-EP-27----Peter-Davis-talks-cars,-mixed-rice-and-some-fashion.-rxmMRAzLRJ0.mp3-part-667.wav\n"
     ]
    },
    {
     "name": "stderr",
     "output_type": "stream",
     "text": [
      " 59%|█████▉    | 77110/130662 [30:17<15:45, 56.66it/s]"
     ]
    },
    {
     "name": "stdout",
     "output_type": "stream",
     "text": [
      "skipped semisupervised-manglish/output-wav/The-Fashion-Weak-Podcast-Ep24---Penang-Boys-@tunway-瘦虎-&-@Shawnduabui-肥龍-Talk-Zap-Fan-&-Sneakers-dykz_vuzJh0.mp3-part-620.wav\n"
     ]
    },
    {
     "name": "stderr",
     "output_type": "stream",
     "text": [
      " 59%|█████▉    | 77189/130662 [30:19<15:31, 57.42it/s]"
     ]
    },
    {
     "name": "stdout",
     "output_type": "stream",
     "text": [
      "skipped semisupervised-manglish/output-wav/Mamak-Sessions---Can-Guys-And-Girls-Be-Best-Friends-Is-it-ok-to-see-more-than-one-person-at-a-time-IixUPM11VMY.mp3-part-79.wav\n"
     ]
    },
    {
     "name": "stderr",
     "output_type": "stream",
     "text": [
      " 59%|█████▉    | 77226/130662 [30:19<15:15, 58.35it/s]"
     ]
    },
    {
     "name": "stdout",
     "output_type": "stream",
     "text": [
      "skipped semisupervised-manglish/output-wav/The-Fashion-Weak-Podcast-Ep-43---Thirst-Trapping-Simps-&-Loving-Your-Body-From-The-Outside-In-6R87P6YD2c4.mp3-part-679.wav\n"
     ]
    },
    {
     "name": "stderr",
     "output_type": "stream",
     "text": [
      " 60%|█████▉    | 77788/130662 [30:29<20:04, 43.90it/s]"
     ]
    },
    {
     "name": "stdout",
     "output_type": "stream",
     "text": [
      "skipped semisupervised-manglish/output-wav/Mamak-Sessions-Ep6---Names-People-Always-Mispronounce-&-Facebook-Is-A-Spy-8LuihYdx0FQ.mp3-part-387.wav\n"
     ]
    },
    {
     "name": "stderr",
     "output_type": "stream",
     "text": [
      " 60%|█████▉    | 77940/130662 [30:31<13:14, 66.36it/s]"
     ]
    },
    {
     "name": "stdout",
     "output_type": "stream",
     "text": [
      "skipped semisupervised-manglish/output-wav/Mamak-Sessions---Getting-Married-in-Vegas,-and-Sugar-Babies-ft.-Dennis-Yin-Cq6Yjwsu63U.mp3-part-88.wav\n"
     ]
    },
    {
     "name": "stderr",
     "output_type": "stream",
     "text": [
      " 60%|█████▉    | 78010/130662 [30:33<14:22, 61.01it/s]"
     ]
    },
    {
     "name": "stdout",
     "output_type": "stream",
     "text": [
      "skipped semisupervised-manglish/output-wav/The-Fashion-Weak-Podcast-Ep-46---Premium-Thirst-Trap-Tips-With-Michelle-Lee-(@mich8lee)-MCHDyLJDJrg.mp3-part-334.wav\n"
     ]
    },
    {
     "name": "stderr",
     "output_type": "stream",
     "text": [
      " 60%|█████▉    | 78024/130662 [30:33<15:35, 56.24it/s]"
     ]
    },
    {
     "name": "stdout",
     "output_type": "stream",
     "text": [
      "skipped semisupervised-manglish/output-wav/Mamak-Sessions-Ep6---Names-People-Always-Mispronounce-&-Facebook-Is-A-Spy-8LuihYdx0FQ.mp3-part-394.wav\n"
     ]
    },
    {
     "name": "stderr",
     "output_type": "stream",
     "text": [
      " 60%|█████▉    | 78085/130662 [30:34<15:09, 57.80it/s]"
     ]
    },
    {
     "name": "stdout",
     "output_type": "stream",
     "text": [
      "skipped semisupervised-manglish/output-wav/The-Fashion-Weak-Podcast-Ep-31----Possibly-Our-Most-NSFW-Episode-Yet-With-@vikarworld-xMm23vU8_og.mp3-part-573.wav\n",
      "skipped semisupervised-manglish/output-wav/Mamak-Sessions-Ep6---Names-People-Always-Mispronounce-&-Facebook-Is-A-Spy-8LuihYdx0FQ.mp3-part-228.wav\n"
     ]
    },
    {
     "name": "stderr",
     "output_type": "stream",
     "text": [
      " 60%|█████▉    | 78135/130662 [30:35<17:37, 49.67it/s]"
     ]
    },
    {
     "name": "stdout",
     "output_type": "stream",
     "text": [
      "skipped semisupervised-manglish/output-wav/Skin-Care-Routines,-Death,-Life-Purpose-and-More-_-Singaporean-Trio-Podcast-#2-6yW185RJkGw.mp3-part-89.wav\n"
     ]
    },
    {
     "name": "stderr",
     "output_type": "stream",
     "text": [
      " 60%|█████▉    | 78236/130662 [30:37<15:23, 56.78it/s]"
     ]
    },
    {
     "name": "stdout",
     "output_type": "stream",
     "text": [
      "skipped semisupervised-manglish/output-wav/Mamak-Sessions-Ep6---Names-People-Always-Mispronounce-&-Facebook-Is-A-Spy-8LuihYdx0FQ.mp3-part-406.wav\n"
     ]
    },
    {
     "name": "stderr",
     "output_type": "stream",
     "text": [
      " 60%|█████▉    | 78299/130662 [30:38<16:51, 51.79it/s]"
     ]
    },
    {
     "name": "stdout",
     "output_type": "stream",
     "text": [
      "skipped semisupervised-manglish/output-wav/The-Fashion-Weak-Podcast-Ep-23---Alicia-Amin-On-Being-A-'Malay'-Model-In-2019-3pKA5NvTCOA.mp3-part-0.wav\n"
     ]
    },
    {
     "name": "stderr",
     "output_type": "stream",
     "text": [
      " 60%|██████    | 78833/130662 [30:47<18:04, 47.81it/s]"
     ]
    },
    {
     "name": "stdout",
     "output_type": "stream",
     "text": [
      "skipped semisupervised-manglish/output-wav/Conversations-With-A-Cancer-Survivor-ft-Jared-Lee-L2W4inT6j3c.mp3-part-142.wav\n"
     ]
    },
    {
     "name": "stderr",
     "output_type": "stream",
     "text": [
      " 61%|██████    | 79405/130662 [30:57<14:11, 60.19it/s]"
     ]
    },
    {
     "name": "stdout",
     "output_type": "stream",
     "text": [
      "skipped semisupervised-manglish/output-wav/Mamak-Sessions---From-Giving-Up,-To-Getting-A-NETFLIX-Special-Q54z0mutz5Q.mp3-part-627.wav\n"
     ]
    },
    {
     "name": "stderr",
     "output_type": "stream",
     "text": [
      " 61%|██████    | 79590/130662 [31:00<13:35, 62.60it/s]"
     ]
    },
    {
     "name": "stdout",
     "output_type": "stream",
     "text": [
      "skipped semisupervised-manglish/output-wav/The-Fashion-Weak-Podcast-Ep-43---Thirst-Trapping-Simps-&-Loving-Your-Body-From-The-Outside-In-6R87P6YD2c4.mp3-part-570.wav\n"
     ]
    },
    {
     "name": "stderr",
     "output_type": "stream",
     "text": [
      " 61%|██████    | 79676/130662 [31:01<14:20, 59.22it/s]"
     ]
    },
    {
     "name": "stdout",
     "output_type": "stream",
     "text": [
      "skipped semisupervised-manglish/output-wav/Mamak-Sessions-Ep10---Datuk-Nicol-David-is-RETIRING!-n3AR3nQEc7Y.mp3-part-222.wav\n"
     ]
    },
    {
     "name": "stderr",
     "output_type": "stream",
     "text": [
      " 61%|██████    | 79796/130662 [31:03<15:35, 54.40it/s]"
     ]
    },
    {
     "name": "stdout",
     "output_type": "stream",
     "text": [
      "skipped semisupervised-manglish/output-wav/Mamak-Sessions-Podcast---How-Do-You-Handle-Long-Distance-Relationships-Do-they-WORK-m7mwwtsblIs.mp3-part-0.wav\n"
     ]
    },
    {
     "name": "stderr",
     "output_type": "stream",
     "text": [
      " 61%|██████    | 79972/130662 [31:07<14:30, 58.24it/s]"
     ]
    },
    {
     "name": "stdout",
     "output_type": "stream",
     "text": [
      "skipped semisupervised-manglish/output-wav/Mamak-Sessions---Getting-Married-in-Vegas,-and-Sugar-Babies-ft.-Dennis-Yin-Cq6Yjwsu63U.mp3-part-24.wav\n"
     ]
    },
    {
     "name": "stderr",
     "output_type": "stream",
     "text": [
      " 61%|██████    | 80015/130662 [31:07<12:17, 68.69it/s]"
     ]
    },
    {
     "name": "stdout",
     "output_type": "stream",
     "text": [
      "skipped semisupervised-manglish/output-wav/The-Fashion-Weak-Podcast-Ep-40---tdcjTfzYSbk.mp3-part-1107.wav\n"
     ]
    },
    {
     "name": "stderr",
     "output_type": "stream",
     "text": [
      " 61%|██████▏   | 80036/130662 [31:08<17:06, 49.33it/s]"
     ]
    },
    {
     "name": "stdout",
     "output_type": "stream",
     "text": [
      "skipped semisupervised-manglish/output-wav/Burnout-in-the-Media-Industry-+-Passion-in-Theatre--_-Singaporean-Podcast-#16-_-Rennes-Lee-f7qEqPNzGk8.mp3-part-48.wav\n"
     ]
    },
    {
     "name": "stderr",
     "output_type": "stream",
     "text": [
      " 62%|██████▏   | 80372/130662 [31:13<14:46, 56.75it/s]"
     ]
    },
    {
     "name": "stdout",
     "output_type": "stream",
     "text": [
      "skipped semisupervised-manglish/output-wav/Mamak-Sessions---Airing-Dirty-Laundry-Online-and-Social-Justice-Warriors-FFtFXiIgsyk.mp3-part-142.wav\n"
     ]
    },
    {
     "name": "stderr",
     "output_type": "stream",
     "text": [
      " 62%|██████▏   | 80526/130662 [31:16<14:04, 59.38it/s]"
     ]
    },
    {
     "name": "stdout",
     "output_type": "stream",
     "text": [
      "skipped semisupervised-manglish/output-wav/Mamak-Sessions-Ep6---Names-People-Always-Mispronounce-&-Facebook-Is-A-Spy-8LuihYdx0FQ.mp3-part-192.wav\n"
     ]
    },
    {
     "name": "stderr",
     "output_type": "stream",
     "text": [
      " 62%|██████▏   | 80604/130662 [31:17<13:44, 60.71it/s]"
     ]
    },
    {
     "name": "stdout",
     "output_type": "stream",
     "text": [
      "skipped semisupervised-manglish/output-wav/Mamak-Sessions-Ep6---Names-People-Always-Mispronounce-&-Facebook-Is-A-Spy-8LuihYdx0FQ.mp3-part-400.wav\n"
     ]
    },
    {
     "name": "stderr",
     "output_type": "stream",
     "text": [
      " 62%|██████▏   | 80632/130662 [31:18<16:56, 49.21it/s]"
     ]
    },
    {
     "name": "stdout",
     "output_type": "stream",
     "text": [
      "skipped semisupervised-manglish/output-wav/Mamak-Sessions-Ep10---Datuk-Nicol-David-is-RETIRING!-n3AR3nQEc7Y.mp3-part-5.wav\n"
     ]
    },
    {
     "name": "stderr",
     "output_type": "stream",
     "text": [
      " 62%|██████▏   | 80895/130662 [31:22<17:53, 46.35it/s]"
     ]
    },
    {
     "name": "stdout",
     "output_type": "stream",
     "text": [
      "skipped semisupervised-manglish/output-wav/Mamak-Sessions-Ep6---Names-People-Always-Mispronounce-&-Facebook-Is-A-Spy-8LuihYdx0FQ.mp3-part-161.wav\n"
     ]
    },
    {
     "name": "stderr",
     "output_type": "stream",
     "text": [
      " 62%|██████▏   | 80953/130662 [31:23<16:47, 49.33it/s]"
     ]
    },
    {
     "name": "stdout",
     "output_type": "stream",
     "text": [
      "skipped semisupervised-manglish/output-wav/The-Fashion-Weak-Podcast-Ep-23---Alicia-Amin-On-Being-A-'Malay'-Model-In-2019-3pKA5NvTCOA.mp3-part-759.wav\n"
     ]
    },
    {
     "name": "stderr",
     "output_type": "stream",
     "text": [
      " 62%|██████▏   | 81049/130662 [31:25<13:34, 60.89it/s]"
     ]
    },
    {
     "name": "stdout",
     "output_type": "stream",
     "text": [
      "skipped semisupervised-manglish/output-wav/Mamak-Sessions---Coming-Out-ft.-Nigel-Chin-and-Magnum-79ax7ZQss5M.mp3-part-411.wav\n"
     ]
    },
    {
     "name": "stderr",
     "output_type": "stream",
     "text": [
      " 62%|██████▏   | 81062/130662 [31:25<18:44, 44.10it/s]"
     ]
    },
    {
     "name": "stdout",
     "output_type": "stream",
     "text": [
      "skipped semisupervised-manglish/output-wav/The-Fashion-Weak-Podcast-Ep-23---Alicia-Amin-On-Being-A-'Malay'-Model-In-2019-3pKA5NvTCOA.mp3-part-656.wav\n"
     ]
    },
    {
     "name": "stderr",
     "output_type": "stream",
     "text": [
      " 62%|██████▏   | 81497/130662 [31:33<16:22, 50.04it/s]"
     ]
    },
    {
     "name": "stdout",
     "output_type": "stream",
     "text": [
      "skipped semisupervised-manglish/output-wav/Mamak-Sessions---Getting-Married-in-Vegas,-and-Sugar-Babies-ft.-Dennis-Yin-Cq6Yjwsu63U.mp3-part-262.wav\n"
     ]
    },
    {
     "name": "stderr",
     "output_type": "stream",
     "text": [
      " 62%|██████▏   | 81619/130662 [31:35<14:50, 55.08it/s]"
     ]
    },
    {
     "name": "stdout",
     "output_type": "stream",
     "text": [
      "skipped semisupervised-manglish/output-wav/Mamak-Sessions-Ep10---Datuk-Nicol-David-is-RETIRING!-n3AR3nQEc7Y.mp3-part-357.wav\n"
     ]
    },
    {
     "name": "stderr",
     "output_type": "stream",
     "text": [
      " 63%|██████▎   | 81677/130662 [31:36<14:35, 55.96it/s]"
     ]
    },
    {
     "name": "stdout",
     "output_type": "stream",
     "text": [
      "skipped semisupervised-manglish/output-wav/Mamak-Sessions-Ep6---Names-People-Always-Mispronounce-&-Facebook-Is-A-Spy-8LuihYdx0FQ.mp3-part-236.wav\n"
     ]
    },
    {
     "name": "stderr",
     "output_type": "stream",
     "text": [
      " 63%|██████▎   | 81748/130662 [31:37<15:25, 52.86it/s]"
     ]
    },
    {
     "name": "stdout",
     "output_type": "stream",
     "text": [
      "skipped semisupervised-manglish/output-wav/Mamak-Sessions-Ep6---Names-People-Always-Mispronounce-&-Facebook-Is-A-Spy-8LuihYdx0FQ.mp3-part-31.wav\n"
     ]
    },
    {
     "name": "stderr",
     "output_type": "stream",
     "text": [
      " 63%|██████▎   | 81947/130662 [31:41<14:36, 55.57it/s]"
     ]
    },
    {
     "name": "stdout",
     "output_type": "stream",
     "text": [
      "skipped semisupervised-manglish/output-wav/Dance-Moves-To-Pick-Up-Girls-At-The-Club-With-Adidas-Creator-Maybelline-Wong-(@definitelyMayb_)-vRnkHzyyBc4.mp3-part-293.wav\n"
     ]
    },
    {
     "name": "stderr",
     "output_type": "stream",
     "text": [
      " 63%|██████▎   | 82144/130662 [31:44<13:42, 59.02it/s]"
     ]
    },
    {
     "name": "stdout",
     "output_type": "stream",
     "text": [
      "skipped semisupervised-manglish/output-wav/Mamak-Sessions---Blaming-Yourself-For-Your-Parents'-Divorce,-And-How-Our-Parents-Punish-Us-x8Gl_zIC9CQ.mp3-part-389.wav\n"
     ]
    },
    {
     "name": "stderr",
     "output_type": "stream",
     "text": [
      " 63%|██████▎   | 82239/130662 [31:46<13:21, 60.43it/s]"
     ]
    },
    {
     "name": "stdout",
     "output_type": "stream",
     "text": [
      "skipped semisupervised-manglish/output-wav/Mamak-Sessions-Podcast---How-Dean-Lewis-became-who-he-is-today-HkOQy1Nxpis.mp3-part-430.wav\n"
     ]
    },
    {
     "name": "stderr",
     "output_type": "stream",
     "text": [
      " 63%|██████▎   | 82450/130662 [31:49<14:57, 53.74it/s]"
     ]
    },
    {
     "name": "stdout",
     "output_type": "stream",
     "text": [
      "skipped semisupervised-manglish/output-wav/Mamak-Sessions-Ep6---Names-People-Always-Mispronounce-&-Facebook-Is-A-Spy-8LuihYdx0FQ.mp3-part-0.wav\n"
     ]
    },
    {
     "name": "stderr",
     "output_type": "stream",
     "text": [
      " 64%|██████▎   | 83113/130662 [32:00<12:02, 65.84it/s]"
     ]
    },
    {
     "name": "stdout",
     "output_type": "stream",
     "text": [
      "skipped semisupervised-manglish/output-wav/Mamak-Sessions-Ep6---Names-People-Always-Mispronounce-&-Facebook-Is-A-Spy-8LuihYdx0FQ.mp3-part-6.wav\n"
     ]
    },
    {
     "name": "stderr",
     "output_type": "stream",
     "text": [
      " 64%|██████▍   | 83357/130662 [32:05<13:36, 57.92it/s]"
     ]
    },
    {
     "name": "stdout",
     "output_type": "stream",
     "text": [
      "skipped semisupervised-manglish/output-wav/Mamak-Sessions---Nasi-Lemak-Sneakers-zLEmAKdG9vY.mp3-part-245.wav\n"
     ]
    },
    {
     "name": "stderr",
     "output_type": "stream",
     "text": [
      " 64%|██████▍   | 83604/130662 [32:09<13:06, 59.81it/s]"
     ]
    },
    {
     "name": "stdout",
     "output_type": "stream",
     "text": [
      "skipped semisupervised-manglish/output-wav/Mamak-Sessions---Blaming-Yourself-For-Your-Parents'-Divorce,-And-How-Our-Parents-Punish-Us-x8Gl_zIC9CQ.mp3-part-392.wav\n"
     ]
    },
    {
     "name": "stderr",
     "output_type": "stream",
     "text": [
      " 64%|██████▍   | 83689/130662 [32:11<13:28, 58.07it/s]"
     ]
    },
    {
     "name": "stdout",
     "output_type": "stream",
     "text": [
      "skipped semisupervised-manglish/output-wav/Mamak-Sessions---Investigative-Journalism-Brings-Justice-to-Sexual-Crimes-&-Interviewing-Jon-Favreau-RlejfOWnKgQ.mp3-part-488.wav\n"
     ]
    },
    {
     "name": "stderr",
     "output_type": "stream",
     "text": [
      " 64%|██████▍   | 83795/130662 [32:12<13:32, 57.67it/s]"
     ]
    },
    {
     "name": "stdout",
     "output_type": "stream",
     "text": [
      "skipped semisupervised-manglish/output-wav/The-Fashion-Weak-Podcast-EP-27----Peter-Davis-talks-cars,-mixed-rice-and-some-fashion.-rxmMRAzLRJ0.mp3-part-348.wav\n"
     ]
    },
    {
     "name": "stderr",
     "output_type": "stream",
     "text": [
      " 64%|██████▍   | 83860/130662 [32:13<13:14, 58.90it/s]"
     ]
    },
    {
     "name": "stdout",
     "output_type": "stream",
     "text": [
      "skipped semisupervised-manglish/output-wav/Mamak-Sessions---Getting-Married-in-Vegas,-and-Sugar-Babies-ft.-Dennis-Yin-Cq6Yjwsu63U.mp3-part-32.wav\n"
     ]
    },
    {
     "name": "stderr",
     "output_type": "stream",
     "text": [
      " 64%|██████▍   | 84017/130662 [32:16<13:26, 57.84it/s]"
     ]
    },
    {
     "name": "stdout",
     "output_type": "stream",
     "text": [
      "skipped semisupervised-manglish/output-wav/Mamak-Sessions-Ep6---Names-People-Always-Mispronounce-&-Facebook-Is-A-Spy-8LuihYdx0FQ.mp3-part-187.wav\n"
     ]
    },
    {
     "name": "stderr",
     "output_type": "stream",
     "text": [
      " 64%|██████▍   | 84147/130662 [32:18<12:42, 61.02it/s]"
     ]
    },
    {
     "name": "stdout",
     "output_type": "stream",
     "text": [
      "skipped semisupervised-manglish/output-wav/Mamak-Sessions---Our-Differences-Is-What-Unites-Us-ft.-Elvin-Romeo-0jySfrZhs50.mp3-part-278.wav\n",
      "skipped semisupervised-manglish/output-wav/Mamak-Sessions-Ep6---Names-People-Always-Mispronounce-&-Facebook-Is-A-Spy-8LuihYdx0FQ.mp3-part-395.wav\n"
     ]
    },
    {
     "name": "stderr",
     "output_type": "stream",
     "text": [
      " 65%|██████▍   | 84613/130662 [32:26<14:20, 53.52it/s]"
     ]
    },
    {
     "name": "stdout",
     "output_type": "stream",
     "text": [
      "skipped semisupervised-manglish/output-wav/Mamak-Sessions---How-Do-You-Deal-With-Rumors-ft-Elizabeth-Tan-Rkvd5p3I11M.mp3-part-450.wav\n"
     ]
    },
    {
     "name": "stderr",
     "output_type": "stream",
     "text": [
      " 65%|██████▍   | 84626/130662 [32:27<13:59, 54.83it/s]"
     ]
    },
    {
     "name": "stdout",
     "output_type": "stream",
     "text": [
      "skipped semisupervised-manglish/output-wav/Mamak-Sessions-Ep6---Names-People-Always-Mispronounce-&-Facebook-Is-A-Spy-8LuihYdx0FQ.mp3-part-58.wav\n"
     ]
    },
    {
     "name": "stderr",
     "output_type": "stream",
     "text": [
      " 65%|██████▍   | 84654/130662 [32:27<12:43, 60.26it/s]"
     ]
    },
    {
     "name": "stdout",
     "output_type": "stream",
     "text": [
      "skipped semisupervised-manglish/output-wav/Mamak-Sessions---Getting-Married-in-Vegas,-and-Sugar-Babies-ft.-Dennis-Yin-Cq6Yjwsu63U.mp3-part-79.wav\n"
     ]
    },
    {
     "name": "stderr",
     "output_type": "stream",
     "text": [
      " 65%|██████▍   | 84694/130662 [32:28<15:46, 48.58it/s]"
     ]
    },
    {
     "name": "stdout",
     "output_type": "stream",
     "text": [
      "skipped semisupervised-manglish/output-wav/Mamak-Sessions-Ep6---Names-People-Always-Mispronounce-&-Facebook-Is-A-Spy-8LuihYdx0FQ.mp3-part-98.wav\n"
     ]
    },
    {
     "name": "stderr",
     "output_type": "stream",
     "text": [
      " 65%|██████▌   | 84971/130662 [32:33<14:42, 51.75it/s]"
     ]
    },
    {
     "name": "stdout",
     "output_type": "stream",
     "text": [
      "skipped semisupervised-manglish/output-wav/Mamak-Sessions---How-Do-You-Deal-With-Rumors-ft-Elizabeth-Tan-Rkvd5p3I11M.mp3-part-46.wav\n"
     ]
    },
    {
     "name": "stderr",
     "output_type": "stream",
     "text": [
      " 65%|██████▌   | 85035/130662 [32:34<16:18, 46.62it/s]"
     ]
    },
    {
     "name": "stdout",
     "output_type": "stream",
     "text": [
      "skipped semisupervised-manglish/output-wav/Mamak-Sessions-Ep6---Names-People-Always-Mispronounce-&-Facebook-Is-A-Spy-8LuihYdx0FQ.mp3-part-353.wav\n"
     ]
    },
    {
     "name": "stderr",
     "output_type": "stream",
     "text": [
      " 65%|██████▌   | 85070/130662 [32:34<13:37, 55.80it/s]"
     ]
    },
    {
     "name": "stdout",
     "output_type": "stream",
     "text": [
      "skipped semisupervised-manglish/output-wav/Overcoming-Depression-&-Redefining-What-Failure-Means-to-Youths_-Singaporean-Podcast-#10-_-Kevin-Wee-rjjK4aAbKnw.mp3-part-350.wav\n"
     ]
    },
    {
     "name": "stderr",
     "output_type": "stream",
     "text": [
      " 65%|██████▌   | 85141/130662 [32:36<13:47, 54.99it/s]"
     ]
    },
    {
     "name": "stdout",
     "output_type": "stream",
     "text": [
      "skipped semisupervised-manglish/output-wav/Mamak-Sessions---Our-Differences-Is-What-Unites-Us-ft.-Elvin-Romeo-0jySfrZhs50.mp3-part-4.wav\n"
     ]
    },
    {
     "name": "stderr",
     "output_type": "stream",
     "text": [
      " 65%|██████▌   | 85479/130662 [32:41<14:34, 51.68it/s]"
     ]
    },
    {
     "name": "stdout",
     "output_type": "stream",
     "text": [
      "skipped semisupervised-manglish/output-wav/Mamak-Sessions-Ep6---Names-People-Always-Mispronounce-&-Facebook-Is-A-Spy-8LuihYdx0FQ.mp3-part-304.wav\n"
     ]
    },
    {
     "name": "stderr",
     "output_type": "stream",
     "text": [
      " 66%|██████▌   | 85757/130662 [32:46<12:47, 58.52it/s]"
     ]
    },
    {
     "name": "stdout",
     "output_type": "stream",
     "text": [
      "skipped semisupervised-manglish/output-wav/Mamak-Sessions---How-Do-You-Deal-With-Rumors-ft-Elizabeth-Tan-Rkvd5p3I11M.mp3-part-463.wav\n"
     ]
    },
    {
     "name": "stderr",
     "output_type": "stream",
     "text": [
      " 66%|██████▌   | 85946/130662 [32:49<12:58, 57.45it/s]"
     ]
    },
    {
     "name": "stdout",
     "output_type": "stream",
     "text": [
      "skipped semisupervised-manglish/output-wav/Mamak-Sessions-Ep6---Names-People-Always-Mispronounce-&-Facebook-Is-A-Spy-8LuihYdx0FQ.mp3-part-383.wav\n"
     ]
    },
    {
     "name": "stderr",
     "output_type": "stream",
     "text": [
      " 66%|██████▌   | 85989/130662 [32:50<16:47, 44.35it/s]"
     ]
    },
    {
     "name": "stdout",
     "output_type": "stream",
     "text": [
      "skipped semisupervised-manglish/output-wav/The-Fashion-Weak-Podcast-Ep-46---Premium-Thirst-Trap-Tips-With-Michelle-Lee-(@mich8lee)-MCHDyLJDJrg.mp3-part-317.wav\n"
     ]
    },
    {
     "name": "stderr",
     "output_type": "stream",
     "text": [
      " 66%|██████▌   | 86031/130662 [32:51<12:56, 57.50it/s]"
     ]
    },
    {
     "name": "stdout",
     "output_type": "stream",
     "text": [
      "skipped semisupervised-manglish/output-wav/The-Fashion-Weak-Podcast-Ep24---Penang-Boys-@tunway-瘦虎-&-@Shawnduabui-肥龍-Talk-Zap-Fan-&-Sneakers-dykz_vuzJh0.mp3-part-481.wav\n"
     ]
    },
    {
     "name": "stderr",
     "output_type": "stream",
     "text": [
      " 66%|██████▌   | 86122/130662 [32:52<12:59, 57.13it/s]"
     ]
    },
    {
     "name": "stdout",
     "output_type": "stream",
     "text": [
      "skipped semisupervised-manglish/output-wav/The-Fashion-Weak-Podcast-Ep-32---Getting-Surprised-Reading-Melissa-Campbell's-(@heymelbelle)-IG-DMs-mJuKUwFpDgI.mp3-part-500.wav\n"
     ]
    },
    {
     "name": "stderr",
     "output_type": "stream",
     "text": [
      " 66%|██████▌   | 86393/130662 [32:57<11:43, 62.93it/s]"
     ]
    },
    {
     "name": "stdout",
     "output_type": "stream",
     "text": [
      "skipped semisupervised-manglish/output-wav/The-Fashion-Weak-Podcast-Ep-23---Alicia-Amin-On-Being-A-'Malay'-Model-In-2019-3pKA5NvTCOA.mp3-part-324.wav\n"
     ]
    },
    {
     "name": "stderr",
     "output_type": "stream",
     "text": [
      " 66%|██████▌   | 86415/130662 [32:57<11:42, 62.99it/s]"
     ]
    },
    {
     "name": "stdout",
     "output_type": "stream",
     "text": [
      "skipped semisupervised-manglish/output-wav/The-Fashion-Weak-Podcast-Ep-23---Alicia-Amin-On-Being-A-'Malay'-Model-In-2019-3pKA5NvTCOA.mp3-part-550.wav\n"
     ]
    },
    {
     "name": "stderr",
     "output_type": "stream",
     "text": [
      " 66%|██████▌   | 86554/130662 [32:59<13:03, 56.28it/s]"
     ]
    },
    {
     "name": "stdout",
     "output_type": "stream",
     "text": [
      "skipped semisupervised-manglish/output-wav/Mamak-Sessions-Ep6---Names-People-Always-Mispronounce-&-Facebook-Is-A-Spy-8LuihYdx0FQ.mp3-part-35.wav\n"
     ]
    },
    {
     "name": "stderr",
     "output_type": "stream",
     "text": [
      " 66%|██████▋   | 86646/130662 [33:01<12:05, 60.65it/s]"
     ]
    },
    {
     "name": "stdout",
     "output_type": "stream",
     "text": [
      "skipped semisupervised-manglish/output-wav/Mamak-Sessions-Ep6---Names-People-Always-Mispronounce-&-Facebook-Is-A-Spy-8LuihYdx0FQ.mp3-part-413.wav\n"
     ]
    },
    {
     "name": "stderr",
     "output_type": "stream",
     "text": [
      " 66%|██████▋   | 86676/130662 [33:02<16:21, 44.81it/s]"
     ]
    },
    {
     "name": "stdout",
     "output_type": "stream",
     "text": [
      "skipped semisupervised-manglish/output-wav/The-Fashion-Weak-Podcast-EP-27----Peter-Davis-talks-cars,-mixed-rice-and-some-fashion.-rxmMRAzLRJ0.mp3-part-328.wav\n"
     ]
    },
    {
     "name": "stderr",
     "output_type": "stream",
     "text": [
      " 66%|██████▋   | 86721/130662 [33:02<11:47, 62.11it/s]"
     ]
    },
    {
     "name": "stdout",
     "output_type": "stream",
     "text": [
      "skipped semisupervised-manglish/output-wav/The-Fashion-Weak-Podcast-Ep24---Penang-Boys-@tunway-瘦虎-&-@Shawnduabui-肥龍-Talk-Zap-Fan-&-Sneakers-dykz_vuzJh0.mp3-part-807.wav\n"
     ]
    },
    {
     "name": "stderr",
     "output_type": "stream",
     "text": [
      " 67%|██████▋   | 87107/130662 [33:09<13:11, 55.01it/s]"
     ]
    },
    {
     "name": "stdout",
     "output_type": "stream",
     "text": [
      "skipped semisupervised-manglish/output-wav/Mamak-Sessions-Ep6---Names-People-Always-Mispronounce-&-Facebook-Is-A-Spy-8LuihYdx0FQ.mp3-part-255.wav\n"
     ]
    },
    {
     "name": "stderr",
     "output_type": "stream",
     "text": [
      " 67%|██████▋   | 87186/130662 [33:10<12:38, 57.29it/s]"
     ]
    },
    {
     "name": "stdout",
     "output_type": "stream",
     "text": [
      "skipped semisupervised-manglish/output-wav/Dance-Moves-To-Pick-Up-Girls-At-The-Club-With-Adidas-Creator-Maybelline-Wong-(@definitelyMayb_)-vRnkHzyyBc4.mp3-part-107.wav\n"
     ]
    },
    {
     "name": "stderr",
     "output_type": "stream",
     "text": [
      " 67%|██████▋   | 87781/130662 [33:20<12:11, 58.62it/s]"
     ]
    },
    {
     "name": "stdout",
     "output_type": "stream",
     "text": [
      "skipped semisupervised-manglish/output-wav/The-Fashion-Weak-Podcast-Ep-23---Alicia-Amin-On-Being-A-'Malay'-Model-In-2019-3pKA5NvTCOA.mp3-part-669.wav\n"
     ]
    },
    {
     "name": "stderr",
     "output_type": "stream",
     "text": [
      " 67%|██████▋   | 87824/130662 [33:21<14:56, 47.77it/s]"
     ]
    },
    {
     "name": "stdout",
     "output_type": "stream",
     "text": [
      "skipped semisupervised-manglish/output-wav/Mamak-Sessions-Ep10---Datuk-Nicol-David-is-RETIRING!-n3AR3nQEc7Y.mp3-part-133.wav\n"
     ]
    },
    {
     "name": "stderr",
     "output_type": "stream",
     "text": [
      " 67%|██████▋   | 87837/130662 [33:21<13:51, 51.47it/s]"
     ]
    },
    {
     "name": "stdout",
     "output_type": "stream",
     "text": [
      "skipped semisupervised-manglish/output-wav/The-Fashion-Weak-Podcast-Ep-23---Alicia-Amin-On-Being-A-'Malay'-Model-In-2019-3pKA5NvTCOA.mp3-part-452.wav\n"
     ]
    },
    {
     "name": "stderr",
     "output_type": "stream",
     "text": [
      " 67%|██████▋   | 88034/130662 [33:25<12:11, 58.29it/s]"
     ]
    },
    {
     "name": "stdout",
     "output_type": "stream",
     "text": [
      "skipped semisupervised-manglish/output-wav/Mamak-Sessions---Getting-Married-in-Vegas,-and-Sugar-Babies-ft.-Dennis-Yin-Cq6Yjwsu63U.mp3-part-198.wav\n"
     ]
    },
    {
     "name": "stderr",
     "output_type": "stream",
     "text": [
      " 67%|██████▋   | 88063/130662 [33:25<14:31, 48.87it/s]"
     ]
    },
    {
     "name": "stdout",
     "output_type": "stream",
     "text": [
      "skipped semisupervised-manglish/output-wav/Mamak-Sessions---Getting-Married-in-Vegas,-and-Sugar-Babies-ft.-Dennis-Yin-Cq6Yjwsu63U.mp3-part-149.wav\n"
     ]
    },
    {
     "name": "stderr",
     "output_type": "stream",
     "text": [
      " 67%|██████▋   | 88113/130662 [33:26<13:12, 53.67it/s]"
     ]
    },
    {
     "name": "stdout",
     "output_type": "stream",
     "text": [
      "skipped semisupervised-manglish/output-wav/Mamak-Sessions---We-May-Not-Always-End-Up-Doing-What-We-Thought-We-Would..And-That's-Not-A-Bad-Thing-IAeN0jG9Hwc.mp3-part-386.wav\n"
     ]
    },
    {
     "name": "stderr",
     "output_type": "stream",
     "text": [
      " 67%|██████▋   | 88185/130662 [33:27<12:37, 56.10it/s]"
     ]
    },
    {
     "name": "stdout",
     "output_type": "stream",
     "text": [
      "skipped semisupervised-manglish/output-wav/Mamak-Sessions-Ep13---Game-Of-Thrones-Is-OVER!-Malaysian-Accent-is-sexy!--mAdHcMGmEs.mp3-part-252.wav\n"
     ]
    },
    {
     "name": "stderr",
     "output_type": "stream",
     "text": [
      " 68%|██████▊   | 88360/130662 [33:30<11:41, 60.27it/s]"
     ]
    },
    {
     "name": "stdout",
     "output_type": "stream",
     "text": [
      "skipped semisupervised-manglish/output-wav/Mamak-Sessions---How-I-Got-Quarantined-Because-Of-Covid-19-Feat.-Mark-O'Dea-5zAsyNKfzps.mp3-part-17.wav\n"
     ]
    },
    {
     "name": "stderr",
     "output_type": "stream",
     "text": [
      " 68%|██████▊   | 88390/130662 [33:31<11:07, 63.35it/s]"
     ]
    },
    {
     "name": "stdout",
     "output_type": "stream",
     "text": [
      "skipped semisupervised-manglish/output-wav/Mamak-Sessions---Airing-Dirty-Laundry-Online-and-Social-Justice-Warriors-FFtFXiIgsyk.mp3-part-65.wav\n"
     ]
    },
    {
     "name": "stderr",
     "output_type": "stream",
     "text": [
      " 68%|██████▊   | 88963/130662 [33:40<12:05, 57.46it/s]"
     ]
    },
    {
     "name": "stdout",
     "output_type": "stream",
     "text": [
      "skipped semisupervised-manglish/output-wav/Mamak-Sessions-Ep13---Game-Of-Thrones-Is-OVER!-Malaysian-Accent-is-sexy!--mAdHcMGmEs.mp3-part-284.wav\n"
     ]
    },
    {
     "name": "stderr",
     "output_type": "stream",
     "text": [
      " 68%|██████▊   | 89043/130662 [33:42<12:49, 54.08it/s]"
     ]
    },
    {
     "name": "stdout",
     "output_type": "stream",
     "text": [
      "skipped semisupervised-manglish/output-wav/Mamak-Sessions---Getting-Married-in-Vegas,-and-Sugar-Babies-ft.-Dennis-Yin-Cq6Yjwsu63U.mp3-part-14.wav\n"
     ]
    },
    {
     "name": "stderr",
     "output_type": "stream",
     "text": [
      " 68%|██████▊   | 89475/130662 [33:49<13:07, 52.29it/s]"
     ]
    },
    {
     "name": "stdout",
     "output_type": "stream",
     "text": [
      "skipped semisupervised-manglish/output-wav/Mamak-Sessions---Nasi-Lemak-Sneakers-zLEmAKdG9vY.mp3-part-479.wav\n"
     ]
    },
    {
     "name": "stderr",
     "output_type": "stream",
     "text": [
      " 69%|██████▊   | 89607/130662 [33:51<11:35, 59.04it/s]"
     ]
    },
    {
     "name": "stdout",
     "output_type": "stream",
     "text": [
      "skipped semisupervised-manglish/output-wav/Mamak-Sessions-Ep6---Names-People-Always-Mispronounce-&-Facebook-Is-A-Spy-8LuihYdx0FQ.mp3-part-280.wav\n"
     ]
    },
    {
     "name": "stderr",
     "output_type": "stream",
     "text": [
      " 69%|██████▊   | 89769/130662 [33:54<12:24, 54.92it/s]"
     ]
    },
    {
     "name": "stdout",
     "output_type": "stream",
     "text": [
      "skipped semisupervised-manglish/output-wav/Mamak-Sessions---Nasi-Lemak-Sneakers-zLEmAKdG9vY.mp3-part-459.wav\n"
     ]
    },
    {
     "name": "stderr",
     "output_type": "stream",
     "text": [
      " 69%|██████▉   | 90050/130662 [33:59<11:27, 59.08it/s]"
     ]
    },
    {
     "name": "stdout",
     "output_type": "stream",
     "text": [
      "skipped semisupervised-manglish/output-wav/Mamak-Sessions---Getting-Married-in-Vegas,-and-Sugar-Babies-ft.-Dennis-Yin-Cq6Yjwsu63U.mp3-part-272.wav\n"
     ]
    },
    {
     "name": "stderr",
     "output_type": "stream",
     "text": [
      " 69%|██████▉   | 90152/130662 [34:00<11:22, 59.33it/s]"
     ]
    },
    {
     "name": "stdout",
     "output_type": "stream",
     "text": [
      "skipped semisupervised-manglish/output-wav/Mamak-Sessions---Can-Guys-And-Girls-Be-Best-Friends-Is-it-ok-to-see-more-than-one-person-at-a-time-IixUPM11VMY.mp3-part-324.wav\n"
     ]
    },
    {
     "name": "stderr",
     "output_type": "stream",
     "text": [
      " 70%|██████▉   | 90855/130662 [34:12<10:38, 62.36it/s]"
     ]
    },
    {
     "name": "stdout",
     "output_type": "stream",
     "text": [
      "skipped semisupervised-manglish/output-wav/The-Fashion-Weak-Podcast-Ep-32---Getting-Surprised-Reading-Melissa-Campbell's-(@heymelbelle)-IG-DMs-mJuKUwFpDgI.mp3-part-511.wav\n"
     ]
    },
    {
     "name": "stderr",
     "output_type": "stream",
     "text": [
      " 70%|██████▉   | 91184/130662 [34:18<10:36, 62.02it/s]"
     ]
    },
    {
     "name": "stdout",
     "output_type": "stream",
     "text": [
      "skipped semisupervised-manglish/output-wav/NUS-Overseas-College-and-Silicon-Valley-_-Singaporean-Podcast-#6-_-Tony-Tong-1FLelqfAyZU.mp3-part-244.wav\n"
     ]
    },
    {
     "name": "stderr",
     "output_type": "stream",
     "text": [
      " 70%|██████▉   | 91248/130662 [34:19<11:45, 55.91it/s]"
     ]
    },
    {
     "name": "stdout",
     "output_type": "stream",
     "text": [
      "skipped semisupervised-manglish/output-wav/The-Fashion-Weak-Podcast-Ep-43---Thirst-Trapping-Simps-&-Loving-Your-Body-From-The-Outside-In-6R87P6YD2c4.mp3-part-430.wav\n"
     ]
    },
    {
     "name": "stderr",
     "output_type": "stream",
     "text": [
      " 70%|██████▉   | 91289/130662 [34:19<11:26, 57.32it/s]"
     ]
    },
    {
     "name": "stdout",
     "output_type": "stream",
     "text": [
      "skipped semisupervised-manglish/output-wav/Mamak-Sessions---Can-Guys-And-Girls-Be-Best-Friends-Is-it-ok-to-see-more-than-one-person-at-a-time-IixUPM11VMY.mp3-part-268.wav\n"
     ]
    },
    {
     "name": "stderr",
     "output_type": "stream",
     "text": [
      " 70%|██████▉   | 91339/130662 [34:20<11:18, 57.96it/s]"
     ]
    },
    {
     "name": "stdout",
     "output_type": "stream",
     "text": [
      "skipped semisupervised-manglish/output-wav/Mamak-Sessions-Ep10---Datuk-Nicol-David-is-RETIRING!-n3AR3nQEc7Y.mp3-part-521.wav\n"
     ]
    },
    {
     "name": "stderr",
     "output_type": "stream",
     "text": [
      " 71%|███████   | 92246/130662 [34:36<10:36, 60.33it/s]"
     ]
    },
    {
     "name": "stdout",
     "output_type": "stream",
     "text": [
      "skipped semisupervised-manglish/output-wav/The-Fashion-Weak-Podcast-Ep-32---Getting-Surprised-Reading-Melissa-Campbell's-(@heymelbelle)-IG-DMs-mJuKUwFpDgI.mp3-part-308.wav\n"
     ]
    },
    {
     "name": "stderr",
     "output_type": "stream",
     "text": [
      " 71%|███████   | 92261/130662 [34:36<10:52, 58.84it/s]"
     ]
    },
    {
     "name": "stdout",
     "output_type": "stream",
     "text": [
      "skipped semisupervised-manglish/output-wav/Do-You-Know-Your-Attachment-Style!-_-The-Thirsty-Sisters-#21-HKnXUGo_H2U.mp3-part-69.wav\n"
     ]
    },
    {
     "name": "stderr",
     "output_type": "stream",
     "text": [
      " 72%|███████▏  | 93696/130662 [35:00<11:40, 52.81it/s]"
     ]
    },
    {
     "name": "stdout",
     "output_type": "stream",
     "text": [
      "skipped semisupervised-manglish/output-wav/Mamak-Sessions-Ep6---Names-People-Always-Mispronounce-&-Facebook-Is-A-Spy-8LuihYdx0FQ.mp3-part-32.wav\n"
     ]
    },
    {
     "name": "stderr",
     "output_type": "stream",
     "text": [
      " 72%|███████▏  | 93732/130662 [35:01<10:45, 57.17it/s]"
     ]
    },
    {
     "name": "stdout",
     "output_type": "stream",
     "text": [
      "skipped semisupervised-manglish/output-wav/Mamak-Sessions-Ep6---Names-People-Always-Mispronounce-&-Facebook-Is-A-Spy-8LuihYdx0FQ.mp3-part-148.wav\n"
     ]
    },
    {
     "name": "stderr",
     "output_type": "stream",
     "text": [
      " 72%|███████▏  | 94054/130662 [35:06<11:39, 52.36it/s]"
     ]
    },
    {
     "name": "stdout",
     "output_type": "stream",
     "text": [
      "skipped semisupervised-manglish/output-wav/Mamak-Sessions---Getting-Married-in-Vegas,-and-Sugar-Babies-ft.-Dennis-Yin-Cq6Yjwsu63U.mp3-part-85.wav\n"
     ]
    },
    {
     "name": "stderr",
     "output_type": "stream",
     "text": [
      " 72%|███████▏  | 94083/130662 [35:07<10:40, 57.13it/s]"
     ]
    },
    {
     "name": "stdout",
     "output_type": "stream",
     "text": [
      "skipped semisupervised-manglish/output-wav/Conversations-with-a-Young-Singaporean-CEO--Gao-Fei,-CEO-of-LearnSeeker-_-Singaporean-Podcast-#13--b9YHjghfd2E.mp3-part-74.wav\n"
     ]
    },
    {
     "name": "stderr",
     "output_type": "stream",
     "text": [
      " 72%|███████▏  | 94117/130662 [35:07<13:17, 45.80it/s]"
     ]
    },
    {
     "name": "stdout",
     "output_type": "stream",
     "text": [
      "skipped semisupervised-manglish/output-wav/The-Fashion-Weak-Podcast-Ep-39---Talking-Turn-On's-and-Fashion-Bulk-Buy-Deals-With-Tata-Wanqian-WSVo-qvu1GQ.mp3-part-51.wav\n"
     ]
    },
    {
     "name": "stderr",
     "output_type": "stream",
     "text": [
      " 72%|███████▏  | 94181/130662 [35:08<11:25, 53.23it/s]"
     ]
    },
    {
     "name": "stdout",
     "output_type": "stream",
     "text": [
      "skipped semisupervised-manglish/output-wav/The-Fashion-Weak-Podcast-Ep-23---Alicia-Amin-On-Being-A-'Malay'-Model-In-2019-3pKA5NvTCOA.mp3-part-608.wav\n"
     ]
    },
    {
     "name": "stderr",
     "output_type": "stream",
     "text": [
      " 72%|███████▏  | 94200/130662 [35:09<12:49, 47.36it/s]"
     ]
    },
    {
     "name": "stdout",
     "output_type": "stream",
     "text": [
      "skipped semisupervised-manglish/output-wav/The-Fashion-Weak-Podcast-Ep-45---Finessing-A-New-Phone-Every-Year-With-Mamak-Rap-King-Jiven-Sekar-VlovwtVYuw0.mp3-part-209.wav\n"
     ]
    },
    {
     "name": "stderr",
     "output_type": "stream",
     "text": [
      " 72%|███████▏  | 94343/130662 [35:11<09:37, 62.87it/s]"
     ]
    },
    {
     "name": "stdout",
     "output_type": "stream",
     "text": [
      "skipped semisupervised-manglish/output-wav/The-Fashion-Weak-Podcast-Ep-46---Premium-Thirst-Trap-Tips-With-Michelle-Lee-(@mich8lee)-MCHDyLJDJrg.mp3-part-844.wav\n",
      "skipped semisupervised-manglish/output-wav/Dance-Moves-To-Pick-Up-Girls-At-The-Club-With-Adidas-Creator-Maybelline-Wong-(@definitelyMayb_)-vRnkHzyyBc4.mp3-part-692.wav\n"
     ]
    },
    {
     "name": "stderr",
     "output_type": "stream",
     "text": [
      " 72%|███████▏  | 94498/130662 [35:14<10:24, 57.87it/s]"
     ]
    },
    {
     "name": "stdout",
     "output_type": "stream",
     "text": [
      "skipped semisupervised-manglish/output-wav/Mamak-Sessions---Getting-Married-in-Vegas,-and-Sugar-Babies-ft.-Dennis-Yin-Cq6Yjwsu63U.mp3-part-36.wav\n"
     ]
    },
    {
     "name": "stderr",
     "output_type": "stream",
     "text": [
      " 72%|███████▏  | 94595/130662 [35:16<09:18, 64.60it/s]"
     ]
    },
    {
     "name": "stdout",
     "output_type": "stream",
     "text": [
      "skipped semisupervised-manglish/output-wav/Mamak-Sessions-Ep6---Names-People-Always-Mispronounce-&-Facebook-Is-A-Spy-8LuihYdx0FQ.mp3-part-412.wav\n"
     ]
    },
    {
     "name": "stderr",
     "output_type": "stream",
     "text": [
      " 73%|███████▎  | 94784/130662 [35:19<09:39, 61.87it/s]"
     ]
    },
    {
     "name": "stdout",
     "output_type": "stream",
     "text": [
      "skipped semisupervised-manglish/output-wav/Mamak-Sessions-Ep10---Datuk-Nicol-David-is-RETIRING!-n3AR3nQEc7Y.mp3-part-39.wav\n"
     ]
    },
    {
     "name": "stderr",
     "output_type": "stream",
     "text": [
      " 73%|███████▎  | 94966/130662 [35:22<10:44, 55.38it/s]"
     ]
    },
    {
     "name": "stdout",
     "output_type": "stream",
     "text": [
      "skipped semisupervised-manglish/output-wav/Mamak-Sessions-Ep6---Names-People-Always-Mispronounce-&-Facebook-Is-A-Spy-8LuihYdx0FQ.mp3-part-127.wav\n"
     ]
    },
    {
     "name": "stderr",
     "output_type": "stream",
     "text": [
      " 73%|███████▎  | 95276/130662 [35:27<10:47, 54.68it/s]"
     ]
    },
    {
     "name": "stdout",
     "output_type": "stream",
     "text": [
      "skipped semisupervised-manglish/output-wav/Mamak-Sessions---Nasi-Lemak-Sneakers-zLEmAKdG9vY.mp3-part-301.wav\n"
     ]
    },
    {
     "name": "stderr",
     "output_type": "stream",
     "text": [
      " 73%|███████▎  | 95326/130662 [35:28<09:26, 62.42it/s]"
     ]
    },
    {
     "name": "stdout",
     "output_type": "stream",
     "text": [
      "skipped semisupervised-manglish/output-wav/The-Fashion-Weak-Podcast-Ep-45---Finessing-A-New-Phone-Every-Year-With-Mamak-Rap-King-Jiven-Sekar-VlovwtVYuw0.mp3-part-176.wav\n"
     ]
    },
    {
     "name": "stderr",
     "output_type": "stream",
     "text": [
      " 73%|███████▎  | 95413/130662 [35:29<09:24, 62.45it/s]"
     ]
    },
    {
     "name": "stdout",
     "output_type": "stream",
     "text": [
      "skipped semisupervised-manglish/output-wav/The-Fashion-Weak-Podcast-Ep-40---tdcjTfzYSbk.mp3-part-1069.wav\n"
     ]
    },
    {
     "name": "stderr",
     "output_type": "stream",
     "text": [
      " 73%|███████▎  | 95447/130662 [35:30<13:16, 44.23it/s]"
     ]
    },
    {
     "name": "stdout",
     "output_type": "stream",
     "text": [
      "skipped semisupervised-manglish/output-wav/Mamak-Sessions-Ep6---Names-People-Always-Mispronounce-&-Facebook-Is-A-Spy-8LuihYdx0FQ.mp3-part-408.wav\n"
     ]
    },
    {
     "name": "stderr",
     "output_type": "stream",
     "text": [
      " 73%|███████▎  | 95857/130662 [35:37<10:18, 56.25it/s]"
     ]
    },
    {
     "name": "stdout",
     "output_type": "stream",
     "text": [
      "skipped semisupervised-manglish/output-wav/The-Fashion-Weak-Podcast-Ep-23---Alicia-Amin-On-Being-A-'Malay'-Model-In-2019-3pKA5NvTCOA.mp3-part-186.wav\n"
     ]
    },
    {
     "name": "stderr",
     "output_type": "stream",
     "text": [
      " 74%|███████▎  | 96092/130662 [35:41<09:45, 59.00it/s]"
     ]
    },
    {
     "name": "stdout",
     "output_type": "stream",
     "text": [
      "skipped semisupervised-manglish/output-wav/Mamak-Sessions---Nasi-Lemak-Sneakers-zLEmAKdG9vY.mp3-part-191.wav\n"
     ]
    },
    {
     "name": "stderr",
     "output_type": "stream",
     "text": [
      " 74%|███████▎  | 96292/130662 [35:44<09:18, 61.55it/s]"
     ]
    },
    {
     "name": "stdout",
     "output_type": "stream",
     "text": [
      "skipped semisupervised-manglish/output-wav/Mamak-Sessions---Getting-Married-in-Vegas,-and-Sugar-Babies-ft.-Dennis-Yin-Cq6Yjwsu63U.mp3-part-19.wav\n"
     ]
    },
    {
     "name": "stderr",
     "output_type": "stream",
     "text": [
      " 74%|███████▍  | 96508/130662 [35:48<11:34, 49.19it/s]"
     ]
    },
    {
     "name": "stdout",
     "output_type": "stream",
     "text": [
      "skipped semisupervised-manglish/output-wav/Mamak-Sessions-Ep6---Names-People-Always-Mispronounce-&-Facebook-Is-A-Spy-8LuihYdx0FQ.mp3-part-153.wav\n"
     ]
    },
    {
     "name": "stderr",
     "output_type": "stream",
     "text": [
      " 74%|███████▍  | 96678/130662 [35:51<11:15, 50.28it/s]"
     ]
    },
    {
     "name": "stdout",
     "output_type": "stream",
     "text": [
      "skipped semisupervised-manglish/output-wav/How-A-26-Year-Old-Built-A-Multi-Million-YouTube-Empire-g3iwaxDKQGQ.mp3-part-600.wav\n"
     ]
    },
    {
     "name": "stderr",
     "output_type": "stream",
     "text": [
      " 74%|███████▍  | 96730/130662 [35:52<09:11, 61.58it/s]"
     ]
    },
    {
     "name": "stdout",
     "output_type": "stream",
     "text": [
      "skipped semisupervised-manglish/output-wav/Mamak-Sessions-Ep13---Game-Of-Thrones-Is-OVER!-Malaysian-Accent-is-sexy!--mAdHcMGmEs.mp3-part-365.wav\n"
     ]
    },
    {
     "name": "stderr",
     "output_type": "stream",
     "text": [
      " 74%|███████▍  | 96770/130662 [35:52<10:14, 55.12it/s]"
     ]
    },
    {
     "name": "stdout",
     "output_type": "stream",
     "text": [
      "skipped semisupervised-manglish/output-wav/The-Fashion-Weak-Podcast-Ep-43---Thirst-Trapping-Simps-&-Loving-Your-Body-From-The-Outside-In-6R87P6YD2c4.mp3-part-683.wav\n"
     ]
    },
    {
     "name": "stderr",
     "output_type": "stream",
     "text": [
      " 74%|███████▍  | 96800/130662 [35:53<09:16, 60.79it/s]"
     ]
    },
    {
     "name": "stdout",
     "output_type": "stream",
     "text": [
      "skipped semisupervised-manglish/output-wav/Mamak-Sessions---Quitting-The-Medical-Line-To-Make-People-Laugh-ft-Dr.-Jason-Leong-FcD9MpeWqEI.mp3-part-427.wav\n"
     ]
    },
    {
     "name": "stderr",
     "output_type": "stream",
     "text": [
      " 74%|███████▍  | 96986/130662 [35:56<10:39, 52.67it/s]"
     ]
    },
    {
     "name": "stdout",
     "output_type": "stream",
     "text": [
      "skipped semisupervised-manglish/output-wav/Mamak-Sessions---Quitting-The-Medical-Line-To-Make-People-Laugh-ft-Dr.-Jason-Leong-FcD9MpeWqEI.mp3-part-474.wav\n",
      "skipped semisupervised-manglish/output-wav/Mamak-Sessions-Ep6---Names-People-Always-Mispronounce-&-Facebook-Is-A-Spy-8LuihYdx0FQ.mp3-part-102.wav\n"
     ]
    },
    {
     "name": "stderr",
     "output_type": "stream",
     "text": [
      " 74%|███████▍  | 97072/130662 [35:58<10:22, 53.93it/s]"
     ]
    },
    {
     "name": "stdout",
     "output_type": "stream",
     "text": [
      "skipped semisupervised-manglish/output-wav/Mamak-Sessions---How-Do-You-Deal-With-Rumors-ft-Elizabeth-Tan-Rkvd5p3I11M.mp3-part-455.wav\n"
     ]
    },
    {
     "name": "stderr",
     "output_type": "stream",
     "text": [
      " 74%|███████▍  | 97244/130662 [36:01<09:33, 58.24it/s]"
     ]
    },
    {
     "name": "stdout",
     "output_type": "stream",
     "text": [
      "skipped semisupervised-manglish/output-wav/The-Fashion-Weak-Podcast-Ep-40---tdcjTfzYSbk.mp3-part-238.wav\n"
     ]
    },
    {
     "name": "stderr",
     "output_type": "stream",
     "text": [
      " 74%|███████▍  | 97319/130662 [36:02<09:15, 60.03it/s]"
     ]
    },
    {
     "name": "stdout",
     "output_type": "stream",
     "text": [
      "skipped semisupervised-manglish/output-wav/Mamak-Sessions-Ep4---What-Turns-You-On,-Is-it-ok-if-your-Girlfriend-Earns-More-&-The-Ideal-Proposal-1av_p0DPDas.mp3-part-161.wav\n"
     ]
    },
    {
     "name": "stderr",
     "output_type": "stream",
     "text": [
      " 75%|███████▍  | 97476/130662 [36:05<10:01, 55.18it/s]"
     ]
    },
    {
     "name": "stdout",
     "output_type": "stream",
     "text": [
      "skipped semisupervised-manglish/output-wav/The-Fashion-Weak-Podcast-Ep-23---Alicia-Amin-On-Being-A-'Malay'-Model-In-2019-3pKA5NvTCOA.mp3-part-278.wav\n"
     ]
    },
    {
     "name": "stderr",
     "output_type": "stream",
     "text": [
      " 75%|███████▍  | 97728/130662 [36:09<09:14, 59.40it/s]"
     ]
    },
    {
     "name": "stdout",
     "output_type": "stream",
     "text": [
      "skipped semisupervised-manglish/output-wav/The-Fashion-Weak-Podcast-Ep-43---Thirst-Trapping-Simps-&-Loving-Your-Body-From-The-Outside-In-6R87P6YD2c4.mp3-part-715.wav\n"
     ]
    },
    {
     "name": "stderr",
     "output_type": "stream",
     "text": [
      " 75%|███████▍  | 97854/130662 [36:11<10:28, 52.21it/s]"
     ]
    },
    {
     "name": "stdout",
     "output_type": "stream",
     "text": [
      "skipped semisupervised-manglish/output-wav/Mamak-Sessions---Getting-Married-in-Vegas,-and-Sugar-Babies-ft.-Dennis-Yin-Cq6Yjwsu63U.mp3-part-4.wav\n"
     ]
    },
    {
     "name": "stderr",
     "output_type": "stream",
     "text": [
      " 75%|███████▌  | 98248/130662 [36:18<09:31, 56.68it/s]"
     ]
    },
    {
     "name": "stdout",
     "output_type": "stream",
     "text": [
      "skipped semisupervised-manglish/output-wav/Burnout-in-the-Media-Industry-+-Passion-in-Theatre--_-Singaporean-Podcast-#16-_-Rennes-Lee-f7qEqPNzGk8.mp3-part-631.wav\n",
      "skipped semisupervised-manglish/output-wav/The-Fashion-Weak-Podcast-Ep-40---tdcjTfzYSbk.mp3-part-1097.wav\n"
     ]
    },
    {
     "name": "stderr",
     "output_type": "stream",
     "text": [
      " 75%|███████▌  | 98319/130662 [36:19<10:33, 51.07it/s]"
     ]
    },
    {
     "name": "stdout",
     "output_type": "stream",
     "text": [
      "skipped semisupervised-manglish/output-wav/Conversations-with-a-Young-Singaporean-CEO--Gao-Fei,-CEO-of-LearnSeeker-_-Singaporean-Podcast-#13--b9YHjghfd2E.mp3-part-193.wav\n"
     ]
    },
    {
     "name": "stderr",
     "output_type": "stream",
     "text": [
      " 75%|███████▌  | 98521/130662 [36:23<09:33, 56.09it/s]"
     ]
    },
    {
     "name": "stdout",
     "output_type": "stream",
     "text": [
      "skipped semisupervised-manglish/output-wav/The-Fashion-Weak-Podcast-Ep35---Is-New-Balance-Cool-Now-Talking-everything-NOT-Nike-with-@adlysyairi-3b0bYe36KNE.mp3-part-583.wav\n"
     ]
    },
    {
     "name": "stderr",
     "output_type": "stream",
     "text": [
      " 76%|███████▌  | 98669/130662 [36:25<09:34, 55.69it/s]"
     ]
    },
    {
     "name": "stdout",
     "output_type": "stream",
     "text": [
      "skipped semisupervised-manglish/output-wav/Mamak-Sessions-Podcast---Girl-Gets-Caned-For-Calling-her-Teacher-'AH-GUA'-PRN5UrsDF6w.mp3-part-756.wav\n"
     ]
    },
    {
     "name": "stderr",
     "output_type": "stream",
     "text": [
      " 76%|███████▌  | 98975/130662 [36:30<07:58, 66.29it/s]"
     ]
    },
    {
     "name": "stdout",
     "output_type": "stream",
     "text": [
      "skipped semisupervised-manglish/output-wav/The-Fashion-Weak-Podcast-Ep-23---Alicia-Amin-On-Being-A-'Malay'-Model-In-2019-3pKA5NvTCOA.mp3-part-765.wav\n"
     ]
    },
    {
     "name": "stderr",
     "output_type": "stream",
     "text": [
      " 76%|███████▌  | 99118/130662 [36:33<08:42, 60.43it/s]"
     ]
    },
    {
     "name": "stdout",
     "output_type": "stream",
     "text": [
      "skipped semisupervised-manglish/output-wav/Mamak-Sessions---Blaming-Yourself-For-Your-Parents'-Divorce,-And-How-Our-Parents-Punish-Us-x8Gl_zIC9CQ.mp3-part-48.wav\n"
     ]
    },
    {
     "name": "stderr",
     "output_type": "stream",
     "text": [
      " 76%|███████▌  | 99547/130662 [36:40<10:57, 47.32it/s]"
     ]
    },
    {
     "name": "stdout",
     "output_type": "stream",
     "text": [
      "skipped semisupervised-manglish/output-wav/Mamak-Sessions---Airing-Dirty-Laundry-Online-and-Social-Justice-Warriors-FFtFXiIgsyk.mp3-part-60.wav\n"
     ]
    },
    {
     "name": "stderr",
     "output_type": "stream",
     "text": [
      " 77%|███████▋  | 100000/130662 [36:48<08:00, 63.80it/s]"
     ]
    },
    {
     "name": "stdout",
     "output_type": "stream",
     "text": [
      "INFO:tensorflow:Generating case 100000.\n"
     ]
    },
    {
     "name": "stderr",
     "output_type": "stream",
     "text": [
      " 77%|███████▋  | 100044/130662 [36:49<07:34, 67.42it/s]"
     ]
    },
    {
     "name": "stdout",
     "output_type": "stream",
     "text": [
      "skipped semisupervised-manglish/output-wav/Burnout-in-the-Media-Industry-+-Passion-in-Theatre--_-Singaporean-Podcast-#16-_-Rennes-Lee-f7qEqPNzGk8.mp3-part-181.wav\n"
     ]
    },
    {
     "name": "stderr",
     "output_type": "stream",
     "text": [
      " 77%|███████▋  | 100273/130662 [36:52<08:26, 60.00it/s]"
     ]
    },
    {
     "name": "stdout",
     "output_type": "stream",
     "text": [
      "skipped semisupervised-manglish/output-wav/Mamak-Sessions---Airing-Dirty-Laundry-Online-and-Social-Justice-Warriors-FFtFXiIgsyk.mp3-part-319.wav\n"
     ]
    },
    {
     "name": "stderr",
     "output_type": "stream",
     "text": [
      " 77%|███████▋  | 100422/130662 [36:55<09:25, 53.45it/s]"
     ]
    },
    {
     "name": "stdout",
     "output_type": "stream",
     "text": [
      "skipped semisupervised-manglish/output-wav/Mamak-Sessions---Investigative-Journalism-Brings-Justice-to-Sexual-Crimes-&-Interviewing-Jon-Favreau-RlejfOWnKgQ.mp3-part-465.wav\n"
     ]
    },
    {
     "name": "stderr",
     "output_type": "stream",
     "text": [
      " 77%|███████▋  | 100465/130662 [36:56<09:42, 51.82it/s]"
     ]
    },
    {
     "name": "stdout",
     "output_type": "stream",
     "text": [
      "skipped semisupervised-manglish/output-wav/Mamak-Sessions---Getting-Married-in-Vegas,-and-Sugar-Babies-ft.-Dennis-Yin-Cq6Yjwsu63U.mp3-part-321.wav\n"
     ]
    },
    {
     "name": "stderr",
     "output_type": "stream",
     "text": [
      " 77%|███████▋  | 100489/130662 [36:56<13:32, 37.14it/s]"
     ]
    },
    {
     "name": "stdout",
     "output_type": "stream",
     "text": [
      "skipped semisupervised-manglish/output-wav/Mamak-Sessions---Getting-Married-in-Vegas,-and-Sugar-Babies-ft.-Dennis-Yin-Cq6Yjwsu63U.mp3-part-169.wav\n"
     ]
    },
    {
     "name": "stderr",
     "output_type": "stream",
     "text": [
      " 77%|███████▋  | 100636/130662 [36:59<08:25, 59.35it/s]"
     ]
    },
    {
     "name": "stdout",
     "output_type": "stream",
     "text": [
      "skipped semisupervised-manglish/output-wav/Mamak-Sessions-Ep6---Names-People-Always-Mispronounce-&-Facebook-Is-A-Spy-8LuihYdx0FQ.mp3-part-348.wav\n"
     ]
    },
    {
     "name": "stderr",
     "output_type": "stream",
     "text": [
      " 77%|███████▋  | 100643/130662 [36:59<12:36, 39.68it/s]"
     ]
    },
    {
     "name": "stdout",
     "output_type": "stream",
     "text": [
      "skipped semisupervised-manglish/output-wav/Mamak-Sessions-Ep6---Names-People-Always-Mispronounce-&-Facebook-Is-A-Spy-8LuihYdx0FQ.mp3-part-11.wav\n"
     ]
    },
    {
     "name": "stderr",
     "output_type": "stream",
     "text": [
      " 77%|███████▋  | 100663/130662 [37:00<09:47, 51.08it/s]"
     ]
    },
    {
     "name": "stdout",
     "output_type": "stream",
     "text": [
      "skipped semisupervised-manglish/output-wav/Mamak-Sessions---Getting-Married-in-Vegas,-and-Sugar-Babies-ft.-Dennis-Yin-Cq6Yjwsu63U.mp3-part-317.wav\n"
     ]
    },
    {
     "name": "stderr",
     "output_type": "stream",
     "text": [
      " 77%|███████▋  | 100751/130662 [37:01<08:39, 57.53it/s]"
     ]
    },
    {
     "name": "stdout",
     "output_type": "stream",
     "text": [
      "skipped semisupervised-manglish/output-wav/Skin-Care-Routines,-Death,-Life-Purpose-and-More-_-Singaporean-Trio-Podcast-#2-6yW185RJkGw.mp3-part-50.wav\n"
     ]
    },
    {
     "name": "stderr",
     "output_type": "stream",
     "text": [
      " 77%|███████▋  | 101039/130662 [37:06<08:01, 61.55it/s]"
     ]
    },
    {
     "name": "stdout",
     "output_type": "stream",
     "text": [
      "skipped semisupervised-manglish/output-wav/The-Fashion-Weak-Podcast-Ep-23---Alicia-Amin-On-Being-A-'Malay'-Model-In-2019-3pKA5NvTCOA.mp3-part-781.wav\n"
     ]
    },
    {
     "name": "stderr",
     "output_type": "stream",
     "text": [
      " 77%|███████▋  | 101127/130662 [37:07<08:08, 60.48it/s]"
     ]
    },
    {
     "name": "stdout",
     "output_type": "stream",
     "text": [
      "skipped semisupervised-manglish/output-wav/The-Fashion-Weak-Podcast-Ep-45---Finessing-A-New-Phone-Every-Year-With-Mamak-Rap-King-Jiven-Sekar-VlovwtVYuw0.mp3-part-586.wav\n"
     ]
    },
    {
     "name": "stderr",
     "output_type": "stream",
     "text": [
      " 78%|███████▊  | 101341/130662 [37:11<07:48, 62.61it/s]"
     ]
    },
    {
     "name": "stdout",
     "output_type": "stream",
     "text": [
      "skipped semisupervised-manglish/output-wav/The-Fashion-Weak-Podcast-Ep-23---Alicia-Amin-On-Being-A-'Malay'-Model-In-2019-3pKA5NvTCOA.mp3-part-390.wav\n"
     ]
    },
    {
     "name": "stderr",
     "output_type": "stream",
     "text": [
      " 78%|███████▊  | 101379/130662 [37:12<10:10, 47.95it/s]"
     ]
    },
    {
     "name": "stdout",
     "output_type": "stream",
     "text": [
      "skipped semisupervised-manglish/output-wav/Mamak-Sessions-Ep6---Names-People-Always-Mispronounce-&-Facebook-Is-A-Spy-8LuihYdx0FQ.mp3-part-82.wav\n"
     ]
    },
    {
     "name": "stderr",
     "output_type": "stream",
     "text": [
      " 78%|███████▊  | 101614/130662 [37:16<08:04, 59.94it/s]"
     ]
    },
    {
     "name": "stdout",
     "output_type": "stream",
     "text": [
      "skipped semisupervised-manglish/output-wav/Mamak-Sessions-Ep10---Datuk-Nicol-David-is-RETIRING!-n3AR3nQEc7Y.mp3-part-502.wav\n"
     ]
    },
    {
     "name": "stderr",
     "output_type": "stream",
     "text": [
      " 78%|███████▊  | 101777/130662 [37:18<09:04, 53.04it/s]"
     ]
    },
    {
     "name": "stdout",
     "output_type": "stream",
     "text": [
      "skipped semisupervised-manglish/output-wav/Mamak-Sessions-Ep8---Man-Sues-Colleague-for-$1.8-Million-for-Farting-OWbPqC2i71c.mp3-part-565.wav\n",
      "skipped semisupervised-manglish/output-wav/The-Fashion-Weak-Podcast-Ep-43A---Keeping-Fair-On-The-Fairway-With-Natalia-Ng-CSP1XPZu4YY.mp3-part-629.wav\n"
     ]
    },
    {
     "name": "stderr",
     "output_type": "stream",
     "text": [
      " 78%|███████▊  | 102024/130662 [37:23<08:40, 55.04it/s]"
     ]
    },
    {
     "name": "stdout",
     "output_type": "stream",
     "text": [
      "skipped semisupervised-manglish/output-wav/The-Fashion-Weak-Podcast-Ep-40---tdcjTfzYSbk.mp3-part-324.wav\n"
     ]
    },
    {
     "name": "stderr",
     "output_type": "stream",
     "text": [
      " 78%|███████▊  | 102118/130662 [37:24<08:48, 54.00it/s]"
     ]
    },
    {
     "name": "stdout",
     "output_type": "stream",
     "text": [
      "skipped semisupervised-manglish/output-wav/Mamak-Sessions-Ep6---Names-People-Always-Mispronounce-&-Facebook-Is-A-Spy-8LuihYdx0FQ.mp3-part-15.wav\n"
     ]
    },
    {
     "name": "stderr",
     "output_type": "stream",
     "text": [
      " 78%|███████▊  | 102194/130662 [37:26<08:44, 54.32it/s]"
     ]
    },
    {
     "name": "stdout",
     "output_type": "stream",
     "text": [
      "skipped semisupervised-manglish/output-wav/Mamak-Sessions---How-Do-You-Deal-With-Rumors-ft-Elizabeth-Tan-Rkvd5p3I11M.mp3-part-71.wav\n"
     ]
    },
    {
     "name": "stderr",
     "output_type": "stream",
     "text": [
      " 78%|███████▊  | 102540/130662 [37:32<09:17, 50.43it/s]"
     ]
    },
    {
     "name": "stdout",
     "output_type": "stream",
     "text": [
      "skipped semisupervised-manglish/output-wav/The-Fashion-Weak-Podcast-Ep-23---Alicia-Amin-On-Being-A-'Malay'-Model-In-2019-3pKA5NvTCOA.mp3-part-633.wav\n"
     ]
    },
    {
     "name": "stderr",
     "output_type": "stream",
     "text": [
      " 79%|███████▊  | 102816/130662 [37:36<07:42, 60.14it/s]"
     ]
    },
    {
     "name": "stdout",
     "output_type": "stream",
     "text": [
      "skipped semisupervised-manglish/output-wav/Mamak-Sessions-Ep6---Names-People-Always-Mispronounce-&-Facebook-Is-A-Spy-8LuihYdx0FQ.mp3-part-382.wav\n",
      "skipped semisupervised-manglish/output-wav/Mamak-Sessions---Airing-Dirty-Laundry-Online-and-Social-Justice-Warriors-FFtFXiIgsyk.mp3-part-9.wav\n"
     ]
    },
    {
     "name": "stderr",
     "output_type": "stream",
     "text": [
      " 79%|███████▉  | 102905/130662 [37:38<07:39, 60.34it/s]"
     ]
    },
    {
     "name": "stdout",
     "output_type": "stream",
     "text": [
      "skipped semisupervised-manglish/output-wav/Mamak-Sessions---Nasi-Lemak-Sneakers-zLEmAKdG9vY.mp3-part-2.wav\n"
     ]
    },
    {
     "name": "stderr",
     "output_type": "stream",
     "text": [
      " 79%|███████▉  | 103070/130662 [37:41<07:56, 57.86it/s]"
     ]
    },
    {
     "name": "stdout",
     "output_type": "stream",
     "text": [
      "skipped semisupervised-manglish/output-wav/The-Fashion-Weak-Podcast-Ep24---Penang-Boys-@tunway-瘦虎-&-@Shawnduabui-肥龍-Talk-Zap-Fan-&-Sneakers-dykz_vuzJh0.mp3-part-463.wav\n"
     ]
    },
    {
     "name": "stderr",
     "output_type": "stream",
     "text": [
      " 79%|███████▉  | 103351/130662 [37:46<10:16, 44.31it/s]"
     ]
    },
    {
     "name": "stdout",
     "output_type": "stream",
     "text": [
      "skipped semisupervised-manglish/output-wav/Mamak-Sessions---Are-Social-Media-Influencers-Entitled-ZJ8jw3C9vB8.mp3-part-13.wav\n"
     ]
    },
    {
     "name": "stderr",
     "output_type": "stream",
     "text": [
      " 79%|███████▉  | 103436/130662 [37:47<07:03, 64.31it/s]"
     ]
    },
    {
     "name": "stdout",
     "output_type": "stream",
     "text": [
      "skipped semisupervised-manglish/output-wav/Mamak-Sessions-Ep6---Names-People-Always-Mispronounce-&-Facebook-Is-A-Spy-8LuihYdx0FQ.mp3-part-78.wav\n"
     ]
    },
    {
     "name": "stderr",
     "output_type": "stream",
     "text": [
      " 79%|███████▉  | 103458/130662 [37:47<08:58, 50.53it/s]"
     ]
    },
    {
     "name": "stdout",
     "output_type": "stream",
     "text": [
      "skipped semisupervised-manglish/output-wav/Mamak-Sessions-Ep10---Datuk-Nicol-David-is-RETIRING!-n3AR3nQEc7Y.mp3-part-127.wav\n"
     ]
    },
    {
     "name": "stderr",
     "output_type": "stream",
     "text": [
      " 79%|███████▉  | 103634/130662 [37:50<08:21, 53.94it/s]"
     ]
    },
    {
     "name": "stdout",
     "output_type": "stream",
     "text": [
      "skipped semisupervised-manglish/output-wav/Mamak-Sessions---How-Do-You-Deal-With-Rumors-ft-Elizabeth-Tan-Rkvd5p3I11M.mp3-part-409.wav\n"
     ]
    },
    {
     "name": "stderr",
     "output_type": "stream",
     "text": [
      " 79%|███████▉  | 103789/130662 [37:53<09:14, 48.44it/s]"
     ]
    },
    {
     "name": "stdout",
     "output_type": "stream",
     "text": [
      "skipped semisupervised-manglish/output-wav/Mamak-Sessions---Nasi-Lemak-Sneakers-zLEmAKdG9vY.mp3-part-16.wav\n"
     ]
    },
    {
     "name": "stderr",
     "output_type": "stream",
     "text": [
      " 80%|███████▉  | 103896/130662 [37:55<08:14, 54.16it/s]"
     ]
    },
    {
     "name": "stdout",
     "output_type": "stream",
     "text": [
      "skipped semisupervised-manglish/output-wav/The-Fashion-Weak-Podcast-Ep-23---Alicia-Amin-On-Being-A-'Malay'-Model-In-2019-3pKA5NvTCOA.mp3-part-529.wav\n"
     ]
    },
    {
     "name": "stderr",
     "output_type": "stream",
     "text": [
      " 80%|████████  | 104675/130662 [38:08<09:07, 47.49it/s]"
     ]
    },
    {
     "name": "stdout",
     "output_type": "stream",
     "text": [
      "skipped semisupervised-manglish/output-wav/Mamak-Sessions-Ep1---Girls-Are-Happier-With-Less-Attractive-Men,-And-The-Dramatic-Pizza-Order-2M8U_mxGbcw.mp3-part-213.wav\n",
      "skipped semisupervised-manglish/output-wav/The-Fashion-Weak-Podcast-Ep-40---tdcjTfzYSbk.mp3-part-38.wav\n",
      "skipped semisupervised-manglish/output-wav/Mamak-Sessions---Getting-Married-in-Vegas,-and-Sugar-Babies-ft.-Dennis-Yin-Cq6Yjwsu63U.mp3-part-101.wav\n"
     ]
    },
    {
     "name": "stderr",
     "output_type": "stream",
     "text": [
      " 80%|████████  | 104856/130662 [38:11<07:49, 54.92it/s]"
     ]
    },
    {
     "name": "stdout",
     "output_type": "stream",
     "text": [
      "skipped semisupervised-manglish/output-wav/The-Fashion-Weak-Podcast-Ep-23---Alicia-Amin-On-Being-A-'Malay'-Model-In-2019-3pKA5NvTCOA.mp3-part-782.wav\n"
     ]
    },
    {
     "name": "stderr",
     "output_type": "stream",
     "text": [
      " 80%|████████  | 104963/130662 [38:13<07:34, 56.57it/s]"
     ]
    },
    {
     "name": "stdout",
     "output_type": "stream",
     "text": [
      "skipped semisupervised-manglish/output-wav/The-Fashion-Weak-Podcast-Ep-23---Alicia-Amin-On-Being-A-'Malay'-Model-In-2019-3pKA5NvTCOA.mp3-part-159.wav\n"
     ]
    },
    {
     "name": "stderr",
     "output_type": "stream",
     "text": [
      " 80%|████████  | 105133/130662 [38:16<07:08, 59.56it/s]"
     ]
    },
    {
     "name": "stdout",
     "output_type": "stream",
     "text": [
      "skipped semisupervised-manglish/output-wav/The-Fashion-Weak-Podcast-Ep-28-@dreamrocketeers-on-that-Rolex-you-should-cop-to-flex-on-poor-friends-shV1F1JlDzk.mp3-part-645.wav\n"
     ]
    },
    {
     "name": "stderr",
     "output_type": "stream",
     "text": [
      " 80%|████████  | 105149/130662 [38:16<06:50, 62.19it/s]"
     ]
    },
    {
     "name": "stdout",
     "output_type": "stream",
     "text": [
      "skipped semisupervised-manglish/output-wav/Dance-Moves-To-Pick-Up-Girls-At-The-Club-With-Adidas-Creator-Maybelline-Wong-(@definitelyMayb_)-vRnkHzyyBc4.mp3-part-245.wav\n"
     ]
    },
    {
     "name": "stderr",
     "output_type": "stream",
     "text": [
      " 81%|████████  | 105476/130662 [38:22<08:40, 48.39it/s]"
     ]
    },
    {
     "name": "stdout",
     "output_type": "stream",
     "text": [
      "skipped semisupervised-manglish/output-wav/Mamak-Sessions-Ep6---Names-People-Always-Mispronounce-&-Facebook-Is-A-Spy-8LuihYdx0FQ.mp3-part-195.wav\n"
     ]
    },
    {
     "name": "stderr",
     "output_type": "stream",
     "text": [
      " 81%|████████  | 105496/130662 [38:22<08:22, 50.05it/s]"
     ]
    },
    {
     "name": "stdout",
     "output_type": "stream",
     "text": [
      "skipped semisupervised-manglish/output-wav/Mamak-Sessions---How-Do-You-Deal-With-Rumors-ft-Elizabeth-Tan-Rkvd5p3I11M.mp3-part-465.wav\n"
     ]
    },
    {
     "name": "stderr",
     "output_type": "stream",
     "text": [
      " 81%|████████  | 105554/130662 [38:23<07:34, 55.26it/s]"
     ]
    },
    {
     "name": "stdout",
     "output_type": "stream",
     "text": [
      "skipped semisupervised-manglish/output-wav/Mamak-Sessions---Quitting-The-Medical-Line-To-Make-People-Laugh-ft-Dr.-Jason-Leong-FcD9MpeWqEI.mp3-part-365.wav\n"
     ]
    },
    {
     "name": "stderr",
     "output_type": "stream",
     "text": [
      " 81%|████████  | 105591/130662 [38:24<06:46, 61.69it/s]"
     ]
    },
    {
     "name": "stdout",
     "output_type": "stream",
     "text": [
      "skipped semisupervised-manglish/output-wav/Mamak-Sessions---Getting-Married-in-Vegas,-and-Sugar-Babies-ft.-Dennis-Yin-Cq6Yjwsu63U.mp3-part-31.wav\n"
     ]
    },
    {
     "name": "stderr",
     "output_type": "stream",
     "text": [
      " 81%|████████  | 105772/130662 [38:27<06:51, 60.47it/s]"
     ]
    },
    {
     "name": "stdout",
     "output_type": "stream",
     "text": [
      "skipped semisupervised-manglish/output-wav/The-Fashion-Weak-Podcast-EP-27----Peter-Davis-talks-cars,-mixed-rice-and-some-fashion.-rxmMRAzLRJ0.mp3-part-640.wav\n"
     ]
    },
    {
     "name": "stderr",
     "output_type": "stream",
     "text": [
      " 81%|████████  | 105831/130662 [38:28<07:12, 57.48it/s]"
     ]
    },
    {
     "name": "stdout",
     "output_type": "stream",
     "text": [
      "skipped semisupervised-manglish/output-wav/Conversations-with-a-Young-Singaporean-CEO--Gao-Fei,-CEO-of-LearnSeeker-_-Singaporean-Podcast-#13--b9YHjghfd2E.mp3-part-50.wav\n"
     ]
    },
    {
     "name": "stderr",
     "output_type": "stream",
     "text": [
      " 81%|████████  | 106070/130662 [38:32<07:36, 53.91it/s]"
     ]
    },
    {
     "name": "stdout",
     "output_type": "stream",
     "text": [
      "skipped semisupervised-manglish/output-wav/Dance-Moves-To-Pick-Up-Girls-At-The-Club-With-Adidas-Creator-Maybelline-Wong-(@definitelyMayb_)-vRnkHzyyBc4.mp3-part-247.wav\n"
     ]
    },
    {
     "name": "stderr",
     "output_type": "stream",
     "text": [
      " 81%|████████  | 106096/130662 [38:33<07:07, 57.41it/s]"
     ]
    },
    {
     "name": "stdout",
     "output_type": "stream",
     "text": [
      "skipped semisupervised-manglish/output-wav/The-Fashion-Weak-Podcast-Ep-23---Alicia-Amin-On-Being-A-'Malay'-Model-In-2019-3pKA5NvTCOA.mp3-part-71.wav\n"
     ]
    },
    {
     "name": "stderr",
     "output_type": "stream",
     "text": [
      " 81%|████████▏ | 106239/130662 [38:35<07:36, 53.48it/s]"
     ]
    },
    {
     "name": "stdout",
     "output_type": "stream",
     "text": [
      "skipped semisupervised-manglish/output-wav/The-Fashion-Weak-Podcast-Ep-23---Alicia-Amin-On-Being-A-'Malay'-Model-In-2019-3pKA5NvTCOA.mp3-part-319.wav\n",
      "skipped semisupervised-manglish/output-wav/Mamak-Sessions---How-I-Got-Quarantined-Because-Of-Covid-19-Feat.-Mark-O'Dea-5zAsyNKfzps.mp3-part-18.wav\n"
     ]
    },
    {
     "name": "stderr",
     "output_type": "stream",
     "text": [
      " 81%|████████▏ | 106339/130662 [38:37<07:03, 57.37it/s]"
     ]
    },
    {
     "name": "stdout",
     "output_type": "stream",
     "text": [
      "skipped semisupervised-manglish/output-wav/Mamak-Sessions-Ep6---Names-People-Always-Mispronounce-&-Facebook-Is-A-Spy-8LuihYdx0FQ.mp3-part-370.wav\n"
     ]
    },
    {
     "name": "stderr",
     "output_type": "stream",
     "text": [
      " 81%|████████▏ | 106445/130662 [38:39<06:44, 59.85it/s]"
     ]
    },
    {
     "name": "stdout",
     "output_type": "stream",
     "text": [
      "skipped semisupervised-manglish/output-wav/Dance-Moves-To-Pick-Up-Girls-At-The-Club-With-Adidas-Creator-Maybelline-Wong-(@definitelyMayb_)-vRnkHzyyBc4.mp3-part-197.wav\n"
     ]
    },
    {
     "name": "stderr",
     "output_type": "stream",
     "text": [
      " 82%|████████▏ | 107058/130662 [38:49<06:19, 62.17it/s]"
     ]
    },
    {
     "name": "stdout",
     "output_type": "stream",
     "text": [
      "skipped semisupervised-manglish/output-wav/The-Fashion-Weak-Podcast-Ep-43---Thirst-Trapping-Simps-&-Loving-Your-Body-From-The-Outside-In-6R87P6YD2c4.mp3-part-111.wav\n"
     ]
    },
    {
     "name": "stderr",
     "output_type": "stream",
     "text": [
      " 82%|████████▏ | 107218/130662 [38:52<06:55, 56.39it/s]"
     ]
    },
    {
     "name": "stdout",
     "output_type": "stream",
     "text": [
      "skipped semisupervised-manglish/output-wav/The-Fashion-Weak-Podcast-Ep-23---Alicia-Amin-On-Being-A-'Malay'-Model-In-2019-3pKA5NvTCOA.mp3-part-153.wav\n"
     ]
    },
    {
     "name": "stderr",
     "output_type": "stream",
     "text": [
      " 82%|████████▏ | 107693/130662 [39:00<06:23, 59.87it/s]"
     ]
    },
    {
     "name": "stdout",
     "output_type": "stream",
     "text": [
      "skipped semisupervised-manglish/output-wav/The-Fashion-Weak-Podcast-Ep-46---Premium-Thirst-Trap-Tips-With-Michelle-Lee-(@mich8lee)-MCHDyLJDJrg.mp3-part-0.wav\n"
     ]
    },
    {
     "name": "stderr",
     "output_type": "stream",
     "text": [
      " 82%|████████▏ | 107755/130662 [39:01<06:32, 58.39it/s]"
     ]
    },
    {
     "name": "stdout",
     "output_type": "stream",
     "text": [
      "skipped semisupervised-manglish/output-wav/Why-Singaporean-Female-Entrepreneurship-Matters-_-Huda-Hamid-_-Singaporean-Podcast-#44-myPdnyUGvUk.mp3-part-464.wav\n"
     ]
    },
    {
     "name": "stderr",
     "output_type": "stream",
     "text": [
      " 83%|████████▎ | 107812/130662 [39:02<06:50, 55.71it/s]"
     ]
    },
    {
     "name": "stdout",
     "output_type": "stream",
     "text": [
      "skipped semisupervised-manglish/output-wav/The-Fashion-Weak-Podcast-Ep-43---Thirst-Trapping-Simps-&-Loving-Your-Body-From-The-Outside-In-6R87P6YD2c4.mp3-part-197.wav\n"
     ]
    },
    {
     "name": "stderr",
     "output_type": "stream",
     "text": [
      " 83%|████████▎ | 107924/130662 [39:04<06:42, 56.48it/s]"
     ]
    },
    {
     "name": "stdout",
     "output_type": "stream",
     "text": [
      "skipped semisupervised-manglish/output-wav/Conversations-with-a-Young-Singaporean-CEO--Gao-Fei,-CEO-of-LearnSeeker-_-Singaporean-Podcast-#13--b9YHjghfd2E.mp3-part-61.wav\n"
     ]
    },
    {
     "name": "stderr",
     "output_type": "stream",
     "text": [
      " 83%|████████▎ | 108263/130662 [39:10<06:35, 56.59it/s]"
     ]
    },
    {
     "name": "stdout",
     "output_type": "stream",
     "text": [
      "skipped semisupervised-manglish/output-wav/Mamak-Sessions---How-I-Got-Quarantined-Because-Of-Covid-19-Feat.-Mark-O'Dea-5zAsyNKfzps.mp3-part-359.wav\n"
     ]
    },
    {
     "name": "stderr",
     "output_type": "stream",
     "text": [
      " 83%|████████▎ | 108379/130662 [39:11<05:51, 63.35it/s]"
     ]
    },
    {
     "name": "stdout",
     "output_type": "stream",
     "text": [
      "skipped semisupervised-manglish/output-wav/Mamak-Sessions---We-May-Not-Always-End-Up-Doing-What-We-Thought-We-Would..And-That's-Not-A-Bad-Thing-IAeN0jG9Hwc.mp3-part-275.wav\n"
     ]
    },
    {
     "name": "stderr",
     "output_type": "stream",
     "text": [
      " 83%|████████▎ | 108574/130662 [39:15<05:56, 62.01it/s]"
     ]
    },
    {
     "name": "stdout",
     "output_type": "stream",
     "text": [
      "skipped semisupervised-manglish/output-wav/Mamak-Sessions-Ep6---Names-People-Always-Mispronounce-&-Facebook-Is-A-Spy-8LuihYdx0FQ.mp3-part-410.wav\n"
     ]
    },
    {
     "name": "stderr",
     "output_type": "stream",
     "text": [
      " 83%|████████▎ | 108765/130662 [39:18<06:31, 55.89it/s]"
     ]
    },
    {
     "name": "stdout",
     "output_type": "stream",
     "text": [
      "skipped semisupervised-manglish/output-wav/Mamak-Sessions-Ep13---Game-Of-Thrones-Is-OVER!-Malaysian-Accent-is-sexy!--mAdHcMGmEs.mp3-part-24.wav\n"
     ]
    },
    {
     "name": "stderr",
     "output_type": "stream",
     "text": [
      " 83%|████████▎ | 108973/130662 [39:22<05:58, 60.42it/s]"
     ]
    },
    {
     "name": "stdout",
     "output_type": "stream",
     "text": [
      "skipped semisupervised-manglish/output-wav/The-Fashion-Weak-Podcast-Ep-40---tdcjTfzYSbk.mp3-part-1098.wav\n"
     ]
    },
    {
     "name": "stderr",
     "output_type": "stream",
     "text": [
      " 83%|████████▎ | 109001/130662 [39:22<06:00, 60.11it/s]"
     ]
    },
    {
     "name": "stdout",
     "output_type": "stream",
     "text": [
      "skipped semisupervised-manglish/output-wav/Mamak-Sessions-Ep6---Names-People-Always-Mispronounce-&-Facebook-Is-A-Spy-8LuihYdx0FQ.mp3-part-3.wav\n"
     ]
    },
    {
     "name": "stderr",
     "output_type": "stream",
     "text": [
      " 84%|████████▍ | 109437/130662 [39:29<06:18, 56.01it/s]"
     ]
    },
    {
     "name": "stdout",
     "output_type": "stream",
     "text": [
      "skipped semisupervised-manglish/output-wav/Mamak-Sessions---Blaming-Yourself-For-Your-Parents'-Divorce,-And-How-Our-Parents-Punish-Us-x8Gl_zIC9CQ.mp3-part-381.wav\n"
     ]
    },
    {
     "name": "stderr",
     "output_type": "stream",
     "text": [
      " 84%|████████▍ | 109771/130662 [39:35<06:16, 55.45it/s]"
     ]
    },
    {
     "name": "stdout",
     "output_type": "stream",
     "text": [
      "skipped semisupervised-manglish/output-wav/The-Fashion-Weak-Podcast-Ep24---Penang-Boys-@tunway-瘦虎-&-@Shawnduabui-肥龍-Talk-Zap-Fan-&-Sneakers-dykz_vuzJh0.mp3-part-385.wav\n"
     ]
    },
    {
     "name": "stderr",
     "output_type": "stream",
     "text": [
      " 85%|████████▍ | 110606/130662 [39:49<06:55, 48.28it/s]"
     ]
    },
    {
     "name": "stdout",
     "output_type": "stream",
     "text": [
      "skipped semisupervised-manglish/output-wav/Mamak-Sessions---Getting-Married-in-Vegas,-and-Sugar-Babies-ft.-Dennis-Yin-Cq6Yjwsu63U.mp3-part-84.wav\n"
     ]
    },
    {
     "name": "stderr",
     "output_type": "stream",
     "text": [
      " 85%|████████▍ | 110732/130662 [39:52<05:30, 60.35it/s]"
     ]
    },
    {
     "name": "stdout",
     "output_type": "stream",
     "text": [
      "skipped semisupervised-manglish/output-wav/Mamak-Sessions-Ep6---Names-People-Always-Mispronounce-&-Facebook-Is-A-Spy-8LuihYdx0FQ.mp3-part-241.wav\n"
     ]
    },
    {
     "name": "stderr",
     "output_type": "stream",
     "text": [
      " 85%|████████▍ | 110761/130662 [39:52<05:09, 64.21it/s]"
     ]
    },
    {
     "name": "stdout",
     "output_type": "stream",
     "text": [
      "skipped semisupervised-manglish/output-wav/Mamak-Sessions---Airing-Dirty-Laundry-Online-and-Social-Justice-Warriors-FFtFXiIgsyk.mp3-part-128.wav\n"
     ]
    },
    {
     "name": "stderr",
     "output_type": "stream",
     "text": [
      " 85%|████████▌ | 111157/130662 [39:59<05:45, 56.39it/s]"
     ]
    },
    {
     "name": "stdout",
     "output_type": "stream",
     "text": [
      "skipped semisupervised-manglish/output-wav/Mamak-Sessions-Ep2---Bringing-A-Girl-Home-For-The-First-Time-Jn2oeTajYCw.mp3-part-457.wav\n"
     ]
    },
    {
     "name": "stderr",
     "output_type": "stream",
     "text": [
      " 85%|████████▌ | 111244/130662 [40:00<05:26, 59.45it/s]"
     ]
    },
    {
     "name": "stdout",
     "output_type": "stream",
     "text": [
      "skipped semisupervised-manglish/output-wav/The-Fashion-Weak-Podcast-Ep24---Penang-Boys-@tunway-瘦虎-&-@Shawnduabui-肥龍-Talk-Zap-Fan-&-Sneakers-dykz_vuzJh0.mp3-part-267.wav\n"
     ]
    },
    {
     "name": "stderr",
     "output_type": "stream",
     "text": [
      " 85%|████████▌ | 111313/130662 [40:02<06:43, 47.97it/s]"
     ]
    },
    {
     "name": "stdout",
     "output_type": "stream",
     "text": [
      "skipped semisupervised-manglish/output-wav/Mamak-Sessions---Getting-Married-in-Vegas,-and-Sugar-Babies-ft.-Dennis-Yin-Cq6Yjwsu63U.mp3-part-57.wav\n"
     ]
    },
    {
     "name": "stderr",
     "output_type": "stream",
     "text": [
      " 85%|████████▌ | 111366/130662 [40:02<05:46, 55.70it/s]"
     ]
    },
    {
     "name": "stdout",
     "output_type": "stream",
     "text": [
      "skipped semisupervised-manglish/output-wav/The-Fashion-Weak-Podcast-Ep-23---Alicia-Amin-On-Being-A-'Malay'-Model-In-2019-3pKA5NvTCOA.mp3-part-313.wav\n"
     ]
    },
    {
     "name": "stderr",
     "output_type": "stream",
     "text": [
      " 85%|████████▌ | 111658/130662 [40:07<06:29, 48.82it/s]"
     ]
    },
    {
     "name": "stdout",
     "output_type": "stream",
     "text": [
      "skipped semisupervised-manglish/output-wav/Mamak-Sessions---Have-You-Been-Rejected,-and-Have-You-Rejected-Someone-sZFykBDVjOI.mp3-part-296.wav\n"
     ]
    },
    {
     "name": "stderr",
     "output_type": "stream",
     "text": [
      " 86%|████████▌ | 112230/130662 [40:17<05:32, 55.36it/s]"
     ]
    },
    {
     "name": "stdout",
     "output_type": "stream",
     "text": [
      "skipped semisupervised-manglish/output-wav/Mamak-Sessions---Nasi-Lemak-Sneakers-zLEmAKdG9vY.mp3-part-494.wav\n"
     ]
    },
    {
     "name": "stderr",
     "output_type": "stream",
     "text": [
      " 86%|████████▌ | 112279/130662 [40:18<05:51, 52.31it/s]"
     ]
    },
    {
     "name": "stdout",
     "output_type": "stream",
     "text": [
      "skipped semisupervised-manglish/output-wav/Mamak-Sessions---Airing-Dirty-Laundry-Online-and-Social-Justice-Warriors-FFtFXiIgsyk.mp3-part-121.wav\n"
     ]
    },
    {
     "name": "stderr",
     "output_type": "stream",
     "text": [
      " 86%|████████▌ | 112343/130662 [40:19<06:49, 44.75it/s]"
     ]
    },
    {
     "name": "stdout",
     "output_type": "stream",
     "text": [
      "skipped semisupervised-manglish/output-wav/Mamak-Sessions-Podcast---Is-it-ok-to-move-in-with-your-Partner-before-MARRIAGE-nGnyZ5c00Mo.mp3-part-11.wav\n"
     ]
    },
    {
     "name": "stderr",
     "output_type": "stream",
     "text": [
      " 86%|████████▌ | 112377/130662 [40:20<05:27, 55.89it/s]"
     ]
    },
    {
     "name": "stdout",
     "output_type": "stream",
     "text": [
      "skipped semisupervised-manglish/output-wav/Mamak-Sessions-Ep2---Bringing-A-Girl-Home-For-The-First-Time-Jn2oeTajYCw.mp3-part-55.wav\n"
     ]
    },
    {
     "name": "stderr",
     "output_type": "stream",
     "text": [
      " 86%|████████▌ | 112472/130662 [40:21<05:16, 57.39it/s]"
     ]
    },
    {
     "name": "stdout",
     "output_type": "stream",
     "text": [
      "skipped semisupervised-manglish/output-wav/Mamak-Sessions-Ep10---Datuk-Nicol-David-is-RETIRING!-n3AR3nQEc7Y.mp3-part-457.wav\n"
     ]
    },
    {
     "name": "stderr",
     "output_type": "stream",
     "text": [
      " 86%|████████▌ | 112626/130662 [40:24<05:52, 51.16it/s]"
     ]
    },
    {
     "name": "stdout",
     "output_type": "stream",
     "text": [
      "skipped semisupervised-manglish/output-wav/Mamak-Sessions---Can-Guys-And-Girls-Be-Best-Friends-Is-it-ok-to-see-more-than-one-person-at-a-time-IixUPM11VMY.mp3-part-239.wav\n"
     ]
    },
    {
     "name": "stderr",
     "output_type": "stream",
     "text": [
      " 86%|████████▋ | 112889/130662 [40:29<05:42, 51.84it/s]"
     ]
    },
    {
     "name": "stdout",
     "output_type": "stream",
     "text": [
      "skipped semisupervised-manglish/output-wav/Mamak-Sessions-Ep6---Names-People-Always-Mispronounce-&-Facebook-Is-A-Spy-8LuihYdx0FQ.mp3-part-243.wav\n"
     ]
    },
    {
     "name": "stderr",
     "output_type": "stream",
     "text": [
      " 87%|████████▋ | 113270/130662 [40:35<05:24, 53.60it/s]"
     ]
    },
    {
     "name": "stdout",
     "output_type": "stream",
     "text": [
      "skipped semisupervised-manglish/output-wav/Mamak-Sessions---Airing-Dirty-Laundry-Online-and-Social-Justice-Warriors-FFtFXiIgsyk.mp3-part-58.wav\n"
     ]
    },
    {
     "name": "stderr",
     "output_type": "stream",
     "text": [
      " 87%|████████▋ | 113324/130662 [40:36<05:21, 53.99it/s]"
     ]
    },
    {
     "name": "stdout",
     "output_type": "stream",
     "text": [
      "skipped semisupervised-manglish/output-wav/Mamak-Sessions-Ep6---Names-People-Always-Mispronounce-&-Facebook-Is-A-Spy-8LuihYdx0FQ.mp3-part-12.wav\n"
     ]
    },
    {
     "name": "stderr",
     "output_type": "stream",
     "text": [
      " 87%|████████▋ | 113346/130662 [40:36<04:59, 57.74it/s]"
     ]
    },
    {
     "name": "stdout",
     "output_type": "stream",
     "text": [
      "skipped semisupervised-manglish/output-wav/Mamak-Sessions---Quitting-The-Medical-Line-To-Make-People-Laugh-ft-Dr.-Jason-Leong-FcD9MpeWqEI.mp3-part-208.wav\n"
     ]
    },
    {
     "name": "stderr",
     "output_type": "stream",
     "text": [
      " 87%|████████▋ | 113413/130662 [40:38<05:10, 55.62it/s]"
     ]
    },
    {
     "name": "stdout",
     "output_type": "stream",
     "text": [
      "skipped semisupervised-manglish/output-wav/Mamak-Sessions-Ep6---Names-People-Always-Mispronounce-&-Facebook-Is-A-Spy-8LuihYdx0FQ.mp3-part-258.wav\n"
     ]
    },
    {
     "name": "stderr",
     "output_type": "stream",
     "text": [
      " 87%|████████▋ | 113681/130662 [40:42<04:41, 60.34it/s]"
     ]
    },
    {
     "name": "stdout",
     "output_type": "stream",
     "text": [
      "skipped semisupervised-manglish/output-wav/Conversations-with-a-Young-Singaporean-CEO--Gao-Fei,-CEO-of-LearnSeeker-_-Singaporean-Podcast-#13--b9YHjghfd2E.mp3-part-28.wav\n"
     ]
    },
    {
     "name": "stderr",
     "output_type": "stream",
     "text": [
      " 87%|████████▋ | 113811/130662 [40:44<04:19, 64.94it/s]"
     ]
    },
    {
     "name": "stdout",
     "output_type": "stream",
     "text": [
      "skipped semisupervised-manglish/output-wav/Mamak-Sessions---Getting-Married-in-Vegas,-and-Sugar-Babies-ft.-Dennis-Yin-Cq6Yjwsu63U.mp3-part-68.wav\n"
     ]
    },
    {
     "name": "stderr",
     "output_type": "stream",
     "text": [
      " 87%|████████▋ | 114015/130662 [40:48<05:44, 48.39it/s]"
     ]
    },
    {
     "name": "stdout",
     "output_type": "stream",
     "text": [
      "skipped semisupervised-manglish/output-wav/The-Fashion-Weak-Podcast-EP-27----Peter-Davis-talks-cars,-mixed-rice-and-some-fashion.-rxmMRAzLRJ0.mp3-part-332.wav\n",
      "skipped semisupervised-manglish/output-wav/Mamak-Sessions-Ep10---Datuk-Nicol-David-is-RETIRING!-n3AR3nQEc7Y.mp3-part-405.wav\n"
     ]
    },
    {
     "name": "stderr",
     "output_type": "stream",
     "text": [
      " 87%|████████▋ | 114076/130662 [40:49<08:17, 33.35it/s]"
     ]
    },
    {
     "name": "stdout",
     "output_type": "stream",
     "text": [
      "skipped semisupervised-manglish/output-wav/The-Fashion-Weak-Podcast-Ep24---Penang-Boys-@tunway-瘦虎-&-@Shawnduabui-肥龍-Talk-Zap-Fan-&-Sneakers-dykz_vuzJh0.mp3-part-508.wav\n",
      "skipped semisupervised-manglish/output-wav/Mamak-Sessions-Ep10---Datuk-Nicol-David-is-RETIRING!-n3AR3nQEc7Y.mp3-part-128.wav\n"
     ]
    },
    {
     "name": "stderr",
     "output_type": "stream",
     "text": [
      " 87%|████████▋ | 114265/130662 [40:53<04:52, 56.09it/s]"
     ]
    },
    {
     "name": "stdout",
     "output_type": "stream",
     "text": [
      "skipped semisupervised-manglish/output-wav/Mamak-Sessions-Ep6---Names-People-Always-Mispronounce-&-Facebook-Is-A-Spy-8LuihYdx0FQ.mp3-part-118.wav\n"
     ]
    },
    {
     "name": "stderr",
     "output_type": "stream",
     "text": [
      " 88%|████████▊ | 114422/130662 [40:55<05:25, 49.82it/s]"
     ]
    },
    {
     "name": "stdout",
     "output_type": "stream",
     "text": [
      "skipped semisupervised-manglish/output-wav/Dance-Moves-To-Pick-Up-Girls-At-The-Club-With-Adidas-Creator-Maybelline-Wong-(@definitelyMayb_)-vRnkHzyyBc4.mp3-part-289.wav\n"
     ]
    },
    {
     "name": "stderr",
     "output_type": "stream",
     "text": [
      " 88%|████████▊ | 114472/130662 [40:56<04:19, 62.31it/s]"
     ]
    },
    {
     "name": "stdout",
     "output_type": "stream",
     "text": [
      "skipped semisupervised-manglish/output-wav/The-Fashion-Weak-Podcast-Ep-31----Possibly-Our-Most-NSFW-Episode-Yet-With-@vikarworld-xMm23vU8_og.mp3-part-517.wav\n"
     ]
    },
    {
     "name": "stderr",
     "output_type": "stream",
     "text": [
      " 88%|████████▊ | 114520/130662 [40:57<04:53, 55.02it/s]"
     ]
    },
    {
     "name": "stdout",
     "output_type": "stream",
     "text": [
      "skipped semisupervised-manglish/output-wav/Mamak-Sessions---Getting-Married-in-Vegas,-and-Sugar-Babies-ft.-Dennis-Yin-Cq6Yjwsu63U.mp3-part-320.wav\n"
     ]
    },
    {
     "name": "stderr",
     "output_type": "stream",
     "text": [
      " 88%|████████▊ | 114703/130662 [41:00<04:47, 55.53it/s]"
     ]
    },
    {
     "name": "stdout",
     "output_type": "stream",
     "text": [
      "skipped semisupervised-manglish/output-wav/Mamak-Sessions-Ep6---Names-People-Always-Mispronounce-&-Facebook-Is-A-Spy-8LuihYdx0FQ.mp3-part-56.wav\n"
     ]
    },
    {
     "name": "stderr",
     "output_type": "stream",
     "text": [
      " 88%|████████▊ | 114783/130662 [41:01<04:55, 53.75it/s]"
     ]
    },
    {
     "name": "stdout",
     "output_type": "stream",
     "text": [
      "skipped semisupervised-manglish/output-wav/Dance-Moves-To-Pick-Up-Girls-At-The-Club-With-Adidas-Creator-Maybelline-Wong-(@definitelyMayb_)-vRnkHzyyBc4.mp3-part-493.wav\n"
     ]
    },
    {
     "name": "stderr",
     "output_type": "stream",
     "text": [
      " 88%|████████▊ | 115128/130662 [41:07<04:42, 54.97it/s]"
     ]
    },
    {
     "name": "stdout",
     "output_type": "stream",
     "text": [
      "skipped semisupervised-manglish/output-wav/The-Fashion-Weak-Podcast-Ep-38---TikTok-Royalty-Roshan-Jeet-aka-Roshannnn1-lPnRg9UsP0M.mp3-part-358.wav\n"
     ]
    },
    {
     "name": "stderr",
     "output_type": "stream",
     "text": [
      " 88%|████████▊ | 115286/130662 [41:10<05:28, 46.88it/s]"
     ]
    },
    {
     "name": "stdout",
     "output_type": "stream",
     "text": [
      "skipped semisupervised-manglish/output-wav/Mamak-Sessions-Podcast---How-Do-You-Handle-Long-Distance-Relationships-Do-they-WORK-m7mwwtsblIs.mp3-part-338.wav\n"
     ]
    },
    {
     "name": "stderr",
     "output_type": "stream",
     "text": [
      " 88%|████████▊ | 115533/130662 [41:14<04:00, 63.00it/s]"
     ]
    },
    {
     "name": "stdout",
     "output_type": "stream",
     "text": [
      "skipped semisupervised-manglish/output-wav/Dance-Moves-To-Pick-Up-Girls-At-The-Club-With-Adidas-Creator-Maybelline-Wong-(@definitelyMayb_)-vRnkHzyyBc4.mp3-part-355.wav\n"
     ]
    },
    {
     "name": "stderr",
     "output_type": "stream",
     "text": [
      " 88%|████████▊ | 115568/130662 [41:15<05:01, 50.09it/s]"
     ]
    },
    {
     "name": "stdout",
     "output_type": "stream",
     "text": [
      "skipped semisupervised-manglish/output-wav/Mamak-Sessions---We-May-Not-Always-End-Up-Doing-What-We-Thought-We-Would..And-That's-Not-A-Bad-Thing-IAeN0jG9Hwc.mp3-part-246.wav\n"
     ]
    },
    {
     "name": "stderr",
     "output_type": "stream",
     "text": [
      " 88%|████████▊ | 115610/130662 [41:15<04:21, 57.65it/s]"
     ]
    },
    {
     "name": "stdout",
     "output_type": "stream",
     "text": [
      "skipped semisupervised-manglish/output-wav/Mamak-Sessions---Body-Shaming-Will-Land-You-In-Jail-XMx9tqwzQS4.mp3-part-132.wav\n"
     ]
    },
    {
     "name": "stderr",
     "output_type": "stream",
     "text": [
      " 89%|████████▊ | 115647/130662 [41:16<04:13, 59.34it/s]"
     ]
    },
    {
     "name": "stdout",
     "output_type": "stream",
     "text": [
      "skipped semisupervised-manglish/output-wav/Mamak-Sessions---Are-Social-Media-Influencers-Entitled-ZJ8jw3C9vB8.mp3-part-289.wav\n"
     ]
    },
    {
     "name": "stderr",
     "output_type": "stream",
     "text": [
      " 89%|████████▊ | 115731/130662 [41:18<04:34, 54.40it/s]"
     ]
    },
    {
     "name": "stdout",
     "output_type": "stream",
     "text": [
      "skipped semisupervised-manglish/output-wav/Conversations-with-a-Young-Singaporean-CEO--Gao-Fei,-CEO-of-LearnSeeker-_-Singaporean-Podcast-#13--b9YHjghfd2E.mp3-part-101.wav\n"
     ]
    },
    {
     "name": "stderr",
     "output_type": "stream",
     "text": [
      " 89%|████████▊ | 115793/130662 [41:19<04:27, 55.68it/s]"
     ]
    },
    {
     "name": "stdout",
     "output_type": "stream",
     "text": [
      "skipped semisupervised-manglish/output-wav/Conversations-with-a-Young-Singaporean-CEO--Gao-Fei,-CEO-of-LearnSeeker-_-Singaporean-Podcast-#13--b9YHjghfd2E.mp3-part-79.wav\n"
     ]
    },
    {
     "name": "stderr",
     "output_type": "stream",
     "text": [
      " 89%|████████▊ | 115938/130662 [41:21<04:24, 55.77it/s]"
     ]
    },
    {
     "name": "stdout",
     "output_type": "stream",
     "text": [
      "skipped semisupervised-manglish/output-wav/Mamak-Sessions---How-I-Got-Quarantined-Because-Of-Covid-19-Feat.-Mark-O'Dea-5zAsyNKfzps.mp3-part-10.wav\n"
     ]
    },
    {
     "name": "stderr",
     "output_type": "stream",
     "text": [
      " 89%|████████▉ | 116257/130662 [41:26<03:57, 60.65it/s]"
     ]
    },
    {
     "name": "stdout",
     "output_type": "stream",
     "text": [
      "skipped semisupervised-manglish/output-wav/Mamak-Sessions---Body-Shaming-Will-Land-You-In-Jail-XMx9tqwzQS4.mp3-part-279.wav\n"
     ]
    },
    {
     "name": "stderr",
     "output_type": "stream",
     "text": [
      " 89%|████████▉ | 116440/130662 [41:30<04:39, 50.90it/s]"
     ]
    },
    {
     "name": "stdout",
     "output_type": "stream",
     "text": [
      "skipped semisupervised-manglish/output-wav/The-Fashion-Weak-Podcast-Ep-23---Alicia-Amin-On-Being-A-'Malay'-Model-In-2019-3pKA5NvTCOA.mp3-part-73.wav\n",
      "skipped semisupervised-manglish/output-wav/Mamak-Sessions---Getting-Married-in-Vegas,-and-Sugar-Babies-ft.-Dennis-Yin-Cq6Yjwsu63U.mp3-part-183.wav\n"
     ]
    },
    {
     "name": "stderr",
     "output_type": "stream",
     "text": [
      " 89%|████████▉ | 116538/130662 [41:31<03:45, 62.77it/s]"
     ]
    },
    {
     "name": "stdout",
     "output_type": "stream",
     "text": [
      "skipped semisupervised-manglish/output-wav/Mamak-Sessions-Ep10---Datuk-Nicol-David-is-RETIRING!-n3AR3nQEc7Y.mp3-part-530.wav\n"
     ]
    },
    {
     "name": "stderr",
     "output_type": "stream",
     "text": [
      " 89%|████████▉ | 116578/130662 [41:32<03:38, 64.33it/s]"
     ]
    },
    {
     "name": "stdout",
     "output_type": "stream",
     "text": [
      "skipped semisupervised-manglish/output-wav/Mamak-Sessions-Ep6---Names-People-Always-Mispronounce-&-Facebook-Is-A-Spy-8LuihYdx0FQ.mp3-part-79.wav\n"
     ]
    },
    {
     "name": "stderr",
     "output_type": "stream",
     "text": [
      " 89%|████████▉ | 116762/130662 [41:35<03:52, 59.68it/s]"
     ]
    },
    {
     "name": "stdout",
     "output_type": "stream",
     "text": [
      "skipped semisupervised-manglish/output-wav/The-Fashion-Weak-Podcast-Ep-31----Possibly-Our-Most-NSFW-Episode-Yet-With-@vikarworld-xMm23vU8_og.mp3-part-168.wav\n"
     ]
    },
    {
     "name": "stderr",
     "output_type": "stream",
     "text": [
      " 90%|████████▉ | 116997/130662 [41:39<04:27, 51.18it/s]"
     ]
    },
    {
     "name": "stdout",
     "output_type": "stream",
     "text": [
      "skipped semisupervised-manglish/output-wav/Why-Singaporean-Female-Entrepreneurship-Matters-_-Huda-Hamid-_-Singaporean-Podcast-#44-myPdnyUGvUk.mp3-part-50.wav\n"
     ]
    },
    {
     "name": "stderr",
     "output_type": "stream",
     "text": [
      " 90%|█████████ | 117674/130662 [41:51<03:56, 54.81it/s]"
     ]
    },
    {
     "name": "stdout",
     "output_type": "stream",
     "text": [
      "skipped semisupervised-manglish/output-wav/The-Fashion-Weak-Podcast-Ep-40---tdcjTfzYSbk.mp3-part-540.wav\n"
     ]
    },
    {
     "name": "stderr",
     "output_type": "stream",
     "text": [
      " 90%|█████████ | 117760/130662 [41:52<03:23, 63.34it/s]"
     ]
    },
    {
     "name": "stdout",
     "output_type": "stream",
     "text": [
      "skipped semisupervised-manglish/output-wav/Mamak-Sessions---Getting-Married-in-Vegas,-and-Sugar-Babies-ft.-Dennis-Yin-Cq6Yjwsu63U.mp3-part-297.wav\n"
     ]
    },
    {
     "name": "stderr",
     "output_type": "stream",
     "text": [
      " 90%|█████████ | 118016/130662 [41:57<03:20, 63.08it/s]"
     ]
    },
    {
     "name": "stdout",
     "output_type": "stream",
     "text": [
      "skipped semisupervised-manglish/output-wav/Burnout-in-the-Media-Industry-+-Passion-in-Theatre--_-Singaporean-Podcast-#16-_-Rennes-Lee-f7qEqPNzGk8.mp3-part-918.wav\n"
     ]
    },
    {
     "name": "stderr",
     "output_type": "stream",
     "text": [
      " 90%|█████████ | 118042/130662 [41:57<04:17, 49.09it/s]"
     ]
    },
    {
     "name": "stdout",
     "output_type": "stream",
     "text": [
      "skipped semisupervised-manglish/output-wav/The-Fashion-Weak-Podcast-Ep24---Penang-Boys-@tunway-瘦虎-&-@Shawnduabui-肥龍-Talk-Zap-Fan-&-Sneakers-dykz_vuzJh0.mp3-part-10.wav\n"
     ]
    },
    {
     "name": "stderr",
     "output_type": "stream",
     "text": [
      " 90%|█████████ | 118069/130662 [41:58<03:37, 57.95it/s]"
     ]
    },
    {
     "name": "stdout",
     "output_type": "stream",
     "text": [
      "skipped semisupervised-manglish/output-wav/The-Fashion-Weak-Podcast-Ep-38---TikTok-Royalty-Roshan-Jeet-aka-Roshannnn1-lPnRg9UsP0M.mp3-part-492.wav\n"
     ]
    },
    {
     "name": "stderr",
     "output_type": "stream",
     "text": [
      " 90%|█████████ | 118120/130662 [41:59<03:46, 55.29it/s]"
     ]
    },
    {
     "name": "stdout",
     "output_type": "stream",
     "text": [
      "skipped semisupervised-manglish/output-wav/Mamak-Sessions---Have-You-Been-Rejected,-and-Have-You-Rejected-Someone-sZFykBDVjOI.mp3-part-263.wav\n"
     ]
    },
    {
     "name": "stderr",
     "output_type": "stream",
     "text": [
      " 91%|█████████ | 118390/130662 [42:03<04:01, 50.82it/s]"
     ]
    },
    {
     "name": "stdout",
     "output_type": "stream",
     "text": [
      "skipped semisupervised-manglish/output-wav/Mamak-Sessions-Ep6---Names-People-Always-Mispronounce-&-Facebook-Is-A-Spy-8LuihYdx0FQ.mp3-part-235.wav\n"
     ]
    },
    {
     "name": "stderr",
     "output_type": "stream",
     "text": [
      " 91%|█████████ | 118451/130662 [42:04<03:36, 56.48it/s]"
     ]
    },
    {
     "name": "stdout",
     "output_type": "stream",
     "text": [
      "skipped semisupervised-manglish/output-wav/Ghost-Stories-From-Our-Childhood!-_-The-Thirsty-Sisters-#23-Hioy9UvH4yE.mp3-part-66.wav\n"
     ]
    },
    {
     "name": "stderr",
     "output_type": "stream",
     "text": [
      " 91%|█████████ | 118531/130662 [42:05<03:15, 62.12it/s]"
     ]
    },
    {
     "name": "stdout",
     "output_type": "stream",
     "text": [
      "skipped semisupervised-manglish/output-wav/Mamak-Sessions---How-Do-You-Deal-With-Rumors-ft-Elizabeth-Tan-Rkvd5p3I11M.mp3-part-276.wav\n"
     ]
    },
    {
     "name": "stderr",
     "output_type": "stream",
     "text": [
      " 91%|█████████ | 119032/130662 [42:14<03:14, 59.72it/s]"
     ]
    },
    {
     "name": "stdout",
     "output_type": "stream",
     "text": [
      "skipped semisupervised-manglish/output-wav/Dance-Moves-To-Pick-Up-Girls-At-The-Club-With-Adidas-Creator-Maybelline-Wong-(@definitelyMayb_)-vRnkHzyyBc4.mp3-part-840.wav\n"
     ]
    },
    {
     "name": "stderr",
     "output_type": "stream",
     "text": [
      " 91%|█████████ | 119047/130662 [42:14<03:19, 58.22it/s]"
     ]
    },
    {
     "name": "stdout",
     "output_type": "stream",
     "text": [
      "skipped semisupervised-manglish/output-wav/Mamak-Sessions-Ep6---Names-People-Always-Mispronounce-&-Facebook-Is-A-Spy-8LuihYdx0FQ.mp3-part-409.wav\n"
     ]
    },
    {
     "name": "stderr",
     "output_type": "stream",
     "text": [
      " 91%|█████████ | 119119/130662 [42:15<03:15, 59.16it/s]"
     ]
    },
    {
     "name": "stdout",
     "output_type": "stream",
     "text": [
      "skipped semisupervised-manglish/output-wav/The-Fashion-Weak-Podcast-Ep-40---tdcjTfzYSbk.mp3-part-314.wav\n"
     ]
    },
    {
     "name": "stderr",
     "output_type": "stream",
     "text": [
      " 91%|█████████▏| 119415/130662 [42:20<03:03, 61.26it/s]"
     ]
    },
    {
     "name": "stdout",
     "output_type": "stream",
     "text": [
      "skipped semisupervised-manglish/output-wav/Mamak-Sessions---Body-Shaming-Will-Land-You-In-Jail-XMx9tqwzQS4.mp3-part-161.wav\n"
     ]
    },
    {
     "name": "stderr",
     "output_type": "stream",
     "text": [
      " 92%|█████████▏| 119768/130662 [42:26<03:33, 50.98it/s]"
     ]
    },
    {
     "name": "stdout",
     "output_type": "stream",
     "text": [
      "skipped semisupervised-manglish/output-wav/The-Fashion-Weak-Podcast-Ep-40---tdcjTfzYSbk.mp3-part-734.wav\n"
     ]
    },
    {
     "name": "stderr",
     "output_type": "stream",
     "text": [
      " 92%|█████████▏| 119891/130662 [42:28<03:08, 57.01it/s]"
     ]
    },
    {
     "name": "stdout",
     "output_type": "stream",
     "text": [
      "skipped semisupervised-manglish/output-wav/Mamak-Sessions-Podcast---How-Dean-Lewis-became-who-he-is-today-HkOQy1Nxpis.mp3-part-169.wav\n"
     ]
    },
    {
     "name": "stderr",
     "output_type": "stream",
     "text": [
      " 92%|█████████▏| 120006/130662 [42:30<03:17, 53.96it/s]"
     ]
    },
    {
     "name": "stdout",
     "output_type": "stream",
     "text": [
      "skipped semisupervised-manglish/output-wav/Mamak-Sessions---Airing-Dirty-Laundry-Online-and-Social-Justice-Warriors-FFtFXiIgsyk.mp3-part-122.wav\n",
      "skipped semisupervised-manglish/output-wav/Mamak-Sessions---Getting-Married-in-Vegas,-and-Sugar-Babies-ft.-Dennis-Yin-Cq6Yjwsu63U.mp3-part-239.wav\n"
     ]
    },
    {
     "name": "stderr",
     "output_type": "stream",
     "text": [
      " 92%|█████████▏| 120067/130662 [42:32<03:11, 55.34it/s]"
     ]
    },
    {
     "name": "stdout",
     "output_type": "stream",
     "text": [
      "skipped semisupervised-manglish/output-wav/Mamak-Sessions---The-Miss-World-Crown-is-more-than-$4,000,000!-PazCOj1nb3c.mp3-part-368.wav\n"
     ]
    },
    {
     "name": "stderr",
     "output_type": "stream",
     "text": [
      " 92%|█████████▏| 120552/130662 [42:40<03:37, 46.55it/s]"
     ]
    },
    {
     "name": "stdout",
     "output_type": "stream",
     "text": [
      "skipped semisupervised-manglish/output-wav/The-Fashion-Weak-Podcast-Ep24---Penang-Boys-@tunway-瘦虎-&-@Shawnduabui-肥龍-Talk-Zap-Fan-&-Sneakers-dykz_vuzJh0.mp3-part-579.wav\n"
     ]
    },
    {
     "name": "stderr",
     "output_type": "stream",
     "text": [
      " 92%|█████████▏| 120672/130662 [42:42<02:58, 55.85it/s]"
     ]
    },
    {
     "name": "stdout",
     "output_type": "stream",
     "text": [
      "skipped semisupervised-manglish/output-wav/Mamak-Sessions---How-Do-You-Deal-With-Rumors-ft-Elizabeth-Tan-Rkvd5p3I11M.mp3-part-467.wav\n"
     ]
    },
    {
     "name": "stderr",
     "output_type": "stream",
     "text": [
      " 93%|█████████▎| 120871/130662 [42:45<02:40, 60.96it/s]"
     ]
    },
    {
     "name": "stdout",
     "output_type": "stream",
     "text": [
      "skipped semisupervised-manglish/output-wav/The-Fashion-Weak-Podcast-Ep-46---Premium-Thirst-Trap-Tips-With-Michelle-Lee-(@mich8lee)-MCHDyLJDJrg.mp3-part-631.wav\n"
     ]
    },
    {
     "name": "stderr",
     "output_type": "stream",
     "text": [
      " 93%|█████████▎| 121085/130662 [42:49<03:03, 52.29it/s]"
     ]
    },
    {
     "name": "stdout",
     "output_type": "stream",
     "text": [
      "skipped semisupervised-manglish/output-wav/Mamak-Sessions-Ep10---Datuk-Nicol-David-is-RETIRING!-n3AR3nQEc7Y.mp3-part-372.wav\n"
     ]
    },
    {
     "name": "stderr",
     "output_type": "stream",
     "text": [
      " 93%|█████████▎| 121122/130662 [42:49<02:38, 60.21it/s]"
     ]
    },
    {
     "name": "stdout",
     "output_type": "stream",
     "text": [
      "skipped semisupervised-manglish/output-wav/Mamak-Sessions---Nasi-Lemak-Sneakers-zLEmAKdG9vY.mp3-part-193.wav\n"
     ]
    },
    {
     "name": "stderr",
     "output_type": "stream",
     "text": [
      " 93%|█████████▎| 121576/130662 [42:57<02:39, 56.94it/s]"
     ]
    },
    {
     "name": "stdout",
     "output_type": "stream",
     "text": [
      "skipped semisupervised-manglish/output-wav/Mamak-Sessions-Ep6---Names-People-Always-Mispronounce-&-Facebook-Is-A-Spy-8LuihYdx0FQ.mp3-part-416.wav\n"
     ]
    },
    {
     "name": "stderr",
     "output_type": "stream",
     "text": [
      " 93%|█████████▎| 121715/130662 [42:59<02:35, 57.58it/s]"
     ]
    },
    {
     "name": "stdout",
     "output_type": "stream",
     "text": [
      "skipped semisupervised-manglish/output-wav/Mamak-Sessions---My-Asian-Parents-Were-Initially-Ashamed-Of-My-Career-NqCp8Csl7PE.mp3-part-304.wav\n",
      "skipped semisupervised-manglish/output-wav/The-Fashion-Weak-Podcast-Ep24---Penang-Boys-@tunway-瘦虎-&-@Shawnduabui-肥龍-Talk-Zap-Fan-&-Sneakers-dykz_vuzJh0.mp3-part-215.wav\n"
     ]
    },
    {
     "name": "stderr",
     "output_type": "stream",
     "text": [
      " 93%|█████████▎| 121757/130662 [43:00<02:24, 61.74it/s]"
     ]
    },
    {
     "name": "stdout",
     "output_type": "stream",
     "text": [
      "skipped semisupervised-manglish/output-wav/Mamak-Sessions---Nasi-Lemak-Sneakers-zLEmAKdG9vY.mp3-part-435.wav\n"
     ]
    },
    {
     "name": "stderr",
     "output_type": "stream",
     "text": [
      " 93%|█████████▎| 122080/130662 [43:06<02:23, 59.61it/s]"
     ]
    },
    {
     "name": "stdout",
     "output_type": "stream",
     "text": [
      "skipped semisupervised-manglish/output-wav/Mamak-Sessions---Blaming-Yourself-For-Your-Parents'-Divorce,-And-How-Our-Parents-Punish-Us-x8Gl_zIC9CQ.mp3-part-466.wav\n"
     ]
    },
    {
     "name": "stderr",
     "output_type": "stream",
     "text": [
      " 93%|█████████▎| 122158/130662 [43:07<02:30, 56.53it/s]"
     ]
    },
    {
     "name": "stdout",
     "output_type": "stream",
     "text": [
      "skipped semisupervised-manglish/output-wav/Mamak-Sessions---We-May-Not-Always-End-Up-Doing-What-We-Thought-We-Would..And-That's-Not-A-Bad-Thing-IAeN0jG9Hwc.mp3-part-272.wav\n"
     ]
    },
    {
     "name": "stderr",
     "output_type": "stream",
     "text": [
      " 94%|█████████▎| 122320/130662 [43:10<02:44, 50.65it/s]"
     ]
    },
    {
     "name": "stdout",
     "output_type": "stream",
     "text": [
      "skipped semisupervised-manglish/output-wav/@Juanitadr-shows-us-what-Arnold's-Tongue-Can-Do---The-Fashion-Weak-Podcast-Episode-10-N5EfPvQKW90.mp3-part-331.wav\n",
      "skipped semisupervised-manglish/output-wav/Mamak-Sessions---Getting-Married-in-Vegas,-and-Sugar-Babies-ft.-Dennis-Yin-Cq6Yjwsu63U.mp3-part-245.wav\n"
     ]
    },
    {
     "name": "stderr",
     "output_type": "stream",
     "text": [
      " 94%|█████████▍| 122895/130662 [43:19<02:15, 57.13it/s]"
     ]
    },
    {
     "name": "stdout",
     "output_type": "stream",
     "text": [
      "skipped semisupervised-manglish/output-wav/Mamak-Sessions---Nasi-Lemak-Sneakers-zLEmAKdG9vY.mp3-part-327.wav\n"
     ]
    },
    {
     "name": "stderr",
     "output_type": "stream",
     "text": [
      " 94%|█████████▍| 123068/130662 [43:22<02:07, 59.45it/s]"
     ]
    },
    {
     "name": "stdout",
     "output_type": "stream",
     "text": [
      "skipped semisupervised-manglish/output-wav/Mamak-Sessions---Getting-Married-in-Vegas,-and-Sugar-Babies-ft.-Dennis-Yin-Cq6Yjwsu63U.mp3-part-176.wav\n"
     ]
    },
    {
     "name": "stderr",
     "output_type": "stream",
     "text": [
      " 94%|█████████▍| 123245/130662 [43:25<02:00, 61.70it/s]"
     ]
    },
    {
     "name": "stdout",
     "output_type": "stream",
     "text": [
      "skipped semisupervised-manglish/output-wav/Mamak-Sessions---Getting-Married-in-Vegas,-and-Sugar-Babies-ft.-Dennis-Yin-Cq6Yjwsu63U.mp3-part-193.wav\n"
     ]
    },
    {
     "name": "stderr",
     "output_type": "stream",
     "text": [
      " 94%|█████████▍| 123294/130662 [43:26<02:14, 54.61it/s]"
     ]
    },
    {
     "name": "stdout",
     "output_type": "stream",
     "text": [
      "skipped semisupervised-manglish/output-wav/The-Fashion-Weak-Podcast-Ep-23---Alicia-Amin-On-Being-A-'Malay'-Model-In-2019-3pKA5NvTCOA.mp3-part-155.wav\n"
     ]
    },
    {
     "name": "stderr",
     "output_type": "stream",
     "text": [
      " 94%|█████████▍| 123416/130662 [43:28<02:17, 52.53it/s]"
     ]
    },
    {
     "name": "stdout",
     "output_type": "stream",
     "text": [
      "skipped semisupervised-manglish/output-wav/Mamak-Sessions-Ep6---Names-People-Always-Mispronounce-&-Facebook-Is-A-Spy-8LuihYdx0FQ.mp3-part-81.wav\n",
      "skipped semisupervised-manglish/output-wav/Mamak-Sessions---How-Do-You-Deal-With-Rumors-ft-Elizabeth-Tan-Rkvd5p3I11M.mp3-part-16.wav\n"
     ]
    },
    {
     "name": "stderr",
     "output_type": "stream",
     "text": [
      " 95%|█████████▍| 123547/130662 [43:30<02:31, 47.02it/s]"
     ]
    },
    {
     "name": "stdout",
     "output_type": "stream",
     "text": [
      "skipped semisupervised-manglish/output-wav/The-Fashion-Weak-Podcast-Ep-43---Thirst-Trapping-Simps-&-Loving-Your-Body-From-The-Outside-In-6R87P6YD2c4.mp3-part-278.wav\n"
     ]
    },
    {
     "name": "stderr",
     "output_type": "stream",
     "text": [
      " 95%|█████████▍| 123579/130662 [43:31<02:31, 46.70it/s]"
     ]
    },
    {
     "name": "stdout",
     "output_type": "stream",
     "text": [
      "skipped semisupervised-manglish/output-wav/The-Fashion-Weak-Podcast-EP-27----Peter-Davis-talks-cars,-mixed-rice-and-some-fashion.-rxmMRAzLRJ0.mp3-part-150.wav\n"
     ]
    },
    {
     "name": "stderr",
     "output_type": "stream",
     "text": [
      " 95%|█████████▍| 123592/130662 [43:31<02:20, 50.41it/s]"
     ]
    },
    {
     "name": "stdout",
     "output_type": "stream",
     "text": [
      "skipped semisupervised-manglish/output-wav/Mamak-Sessions-Podcast---Committing-Suicide,-Mental-Health-And-How-To-Seek-Help-EHlGktcfDZc.mp3-part-4.wav\n"
     ]
    },
    {
     "name": "stderr",
     "output_type": "stream",
     "text": [
      " 95%|█████████▍| 123724/130662 [43:33<02:03, 56.05it/s]"
     ]
    },
    {
     "name": "stdout",
     "output_type": "stream",
     "text": [
      "skipped semisupervised-manglish/output-wav/Mamak-Sessions---Blaming-Yourself-For-Your-Parents'-Divorce,-And-How-Our-Parents-Punish-Us-x8Gl_zIC9CQ.mp3-part-158.wav\n"
     ]
    },
    {
     "name": "stderr",
     "output_type": "stream",
     "text": [
      " 95%|█████████▍| 123951/130662 [43:37<01:49, 61.08it/s]"
     ]
    },
    {
     "name": "stdout",
     "output_type": "stream",
     "text": [
      "skipped semisupervised-manglish/output-wav/Mamak-Sessions-Ep6---Names-People-Always-Mispronounce-&-Facebook-Is-A-Spy-8LuihYdx0FQ.mp3-part-108.wav\n"
     ]
    },
    {
     "name": "stderr",
     "output_type": "stream",
     "text": [
      " 95%|█████████▍| 124118/130662 [43:40<01:49, 59.69it/s]"
     ]
    },
    {
     "name": "stdout",
     "output_type": "stream",
     "text": [
      "skipped semisupervised-manglish/output-wav/Mamak-Sessions-Podcast---How-Dean-Lewis-became-who-he-is-today-HkOQy1Nxpis.mp3-part-399.wav\n"
     ]
    },
    {
     "name": "stderr",
     "output_type": "stream",
     "text": [
      " 95%|█████████▌| 124192/130662 [43:41<01:49, 59.16it/s]"
     ]
    },
    {
     "name": "stdout",
     "output_type": "stream",
     "text": [
      "skipped semisupervised-manglish/output-wav/The-Fashion-Weak-Podcast-Ep24---Penang-Boys-@tunway-瘦虎-&-@Shawnduabui-肥龍-Talk-Zap-Fan-&-Sneakers-dykz_vuzJh0.mp3-part-831.wav\n"
     ]
    },
    {
     "name": "stderr",
     "output_type": "stream",
     "text": [
      " 95%|█████████▌| 124241/130662 [43:42<02:03, 52.16it/s]"
     ]
    },
    {
     "name": "stdout",
     "output_type": "stream",
     "text": [
      "skipped semisupervised-manglish/output-wav/Mamak-Sessions---Quitting-The-Medical-Line-To-Make-People-Laugh-ft-Dr.-Jason-Leong-FcD9MpeWqEI.mp3-part-435.wav\n"
     ]
    },
    {
     "name": "stderr",
     "output_type": "stream",
     "text": [
      " 95%|█████████▌| 124429/130662 [43:45<01:33, 67.00it/s]"
     ]
    },
    {
     "name": "stdout",
     "output_type": "stream",
     "text": [
      "skipped semisupervised-manglish/output-wav/Mamak-Sessions-Podcast---How-Do-You-Handle-Long-Distance-Relationships-Do-they-WORK-m7mwwtsblIs.mp3-part-63.wav\n"
     ]
    },
    {
     "name": "stderr",
     "output_type": "stream",
     "text": [
      " 95%|█████████▌| 124663/130662 [43:49<01:46, 56.47it/s]"
     ]
    },
    {
     "name": "stdout",
     "output_type": "stream",
     "text": [
      "skipped semisupervised-manglish/output-wav/Mamak-Sessions-Ep6---Names-People-Always-Mispronounce-&-Facebook-Is-A-Spy-8LuihYdx0FQ.mp3-part-200.wav\n"
     ]
    },
    {
     "name": "stderr",
     "output_type": "stream",
     "text": [
      " 96%|█████████▌| 125290/130662 [44:00<01:31, 58.65it/s]"
     ]
    },
    {
     "name": "stdout",
     "output_type": "stream",
     "text": [
      "skipped semisupervised-manglish/output-wav/The-Fashion-Weak-Podcast-Ep-23---Alicia-Amin-On-Being-A-'Malay'-Model-In-2019-3pKA5NvTCOA.mp3-part-6.wav\n"
     ]
    },
    {
     "name": "stderr",
     "output_type": "stream",
     "text": [
      " 96%|█████████▌| 125468/130662 [44:03<01:29, 58.10it/s]"
     ]
    },
    {
     "name": "stdout",
     "output_type": "stream",
     "text": [
      "skipped semisupervised-manglish/output-wav/The-Fashion-Weak-Podcast-Ep-45---Finessing-A-New-Phone-Every-Year-With-Mamak-Rap-King-Jiven-Sekar-VlovwtVYuw0.mp3-part-702.wav\n"
     ]
    },
    {
     "name": "stderr",
     "output_type": "stream",
     "text": [
      " 96%|█████████▌| 125480/130662 [44:03<01:34, 55.10it/s]"
     ]
    },
    {
     "name": "stdout",
     "output_type": "stream",
     "text": [
      "skipped semisupervised-manglish/output-wav/The-Fashion-Weak-Podcast-Ep-23---Alicia-Amin-On-Being-A-'Malay'-Model-In-2019-3pKA5NvTCOA.mp3-part-450.wav\n"
     ]
    },
    {
     "name": "stderr",
     "output_type": "stream",
     "text": [
      " 96%|█████████▋| 126043/130662 [44:13<01:23, 55.55it/s]"
     ]
    },
    {
     "name": "stdout",
     "output_type": "stream",
     "text": [
      "skipped semisupervised-manglish/output-wav/Mamak-Sessions---How-I-Got-Quarantined-Because-Of-Covid-19-Feat.-Mark-O'Dea-5zAsyNKfzps.mp3-part-293.wav\n"
     ]
    },
    {
     "name": "stderr",
     "output_type": "stream",
     "text": [
      " 97%|█████████▋| 126183/130662 [44:15<01:18, 57.18it/s]"
     ]
    },
    {
     "name": "stdout",
     "output_type": "stream",
     "text": [
      "skipped semisupervised-manglish/output-wav/Mamak-Sessions-Ep6---Names-People-Always-Mispronounce-&-Facebook-Is-A-Spy-8LuihYdx0FQ.mp3-part-282.wav\n"
     ]
    },
    {
     "name": "stderr",
     "output_type": "stream",
     "text": [
      " 97%|█████████▋| 126322/130662 [44:17<01:12, 59.52it/s]"
     ]
    },
    {
     "name": "stdout",
     "output_type": "stream",
     "text": [
      "skipped semisupervised-manglish/output-wav/Dance-Moves-To-Pick-Up-Girls-At-The-Club-With-Adidas-Creator-Maybelline-Wong-(@definitelyMayb_)-vRnkHzyyBc4.mp3-part-794.wav\n"
     ]
    },
    {
     "name": "stderr",
     "output_type": "stream",
     "text": [
      " 97%|█████████▋| 126423/130662 [44:19<01:07, 62.81it/s]"
     ]
    },
    {
     "name": "stdout",
     "output_type": "stream",
     "text": [
      "skipped semisupervised-manglish/output-wav/The-Fashion-Weak-Podcast-Ep24---Penang-Boys-@tunway-瘦虎-&-@Shawnduabui-肥龍-Talk-Zap-Fan-&-Sneakers-dykz_vuzJh0.mp3-part-661.wav\n"
     ]
    },
    {
     "name": "stderr",
     "output_type": "stream",
     "text": [
      " 97%|█████████▋| 126512/130662 [44:20<01:09, 60.09it/s]"
     ]
    },
    {
     "name": "stdout",
     "output_type": "stream",
     "text": [
      "skipped semisupervised-manglish/output-wav/Mamak-Sessions---How-I-Got-Quarantined-Because-Of-Covid-19-Feat.-Mark-O'Dea-5zAsyNKfzps.mp3-part-318.wav\n"
     ]
    },
    {
     "name": "stderr",
     "output_type": "stream",
     "text": [
      " 97%|█████████▋| 127131/130662 [44:31<01:03, 55.57it/s]"
     ]
    },
    {
     "name": "stdout",
     "output_type": "stream",
     "text": [
      "skipped semisupervised-manglish/output-wav/Mamak-Sessions-Ep10---Datuk-Nicol-David-is-RETIRING!-n3AR3nQEc7Y.mp3-part-319.wav\n"
     ]
    },
    {
     "name": "stderr",
     "output_type": "stream",
     "text": [
      " 97%|█████████▋| 127207/130662 [44:32<01:00, 56.83it/s]"
     ]
    },
    {
     "name": "stdout",
     "output_type": "stream",
     "text": [
      "skipped semisupervised-manglish/output-wav/Conversations-With-A-Cancer-Survivor-ft-Jared-Lee-L2W4inT6j3c.mp3-part-165.wav\n"
     ]
    },
    {
     "name": "stderr",
     "output_type": "stream",
     "text": [
      " 97%|█████████▋| 127272/130662 [44:33<01:02, 54.67it/s]"
     ]
    },
    {
     "name": "stdout",
     "output_type": "stream",
     "text": [
      "skipped semisupervised-manglish/output-wav/The-Fashion-Weak-Podcast-Ep-23---Alicia-Amin-On-Being-A-'Malay'-Model-In-2019-3pKA5NvTCOA.mp3-part-506.wav\n",
      "skipped semisupervised-manglish/output-wav/Mamak-Sessions-Ep6---Names-People-Always-Mispronounce-&-Facebook-Is-A-Spy-8LuihYdx0FQ.mp3-part-157.wav\n"
     ]
    },
    {
     "name": "stderr",
     "output_type": "stream",
     "text": [
      " 98%|█████████▊| 127396/130662 [44:36<00:57, 56.85it/s]"
     ]
    },
    {
     "name": "stdout",
     "output_type": "stream",
     "text": [
      "skipped semisupervised-manglish/output-wav/Mamak-Sessions-Ep6---Names-People-Always-Mispronounce-&-Facebook-Is-A-Spy-8LuihYdx0FQ.mp3-part-112.wav\n"
     ]
    },
    {
     "name": "stderr",
     "output_type": "stream",
     "text": [
      " 98%|█████████▊| 127491/130662 [44:37<00:48, 65.39it/s]"
     ]
    },
    {
     "name": "stdout",
     "output_type": "stream",
     "text": [
      "skipped semisupervised-manglish/output-wav/Mamak-Sessions---Getting-Married-in-Vegas,-and-Sugar-Babies-ft.-Dennis-Yin-Cq6Yjwsu63U.mp3-part-33.wav\n"
     ]
    },
    {
     "name": "stderr",
     "output_type": "stream",
     "text": [
      " 98%|█████████▊| 127561/130662 [44:38<00:49, 62.36it/s]"
     ]
    },
    {
     "name": "stdout",
     "output_type": "stream",
     "text": [
      "skipped semisupervised-manglish/output-wav/Mamak-Sessions---Airing-Dirty-Laundry-Online-and-Social-Justice-Warriors-FFtFXiIgsyk.mp3-part-136.wav\n"
     ]
    },
    {
     "name": "stderr",
     "output_type": "stream",
     "text": [
      " 98%|█████████▊| 127656/130662 [44:40<00:55, 54.60it/s]"
     ]
    },
    {
     "name": "stdout",
     "output_type": "stream",
     "text": [
      "skipped semisupervised-manglish/output-wav/Mamak-Sessions-Ep6---Names-People-Always-Mispronounce-&-Facebook-Is-A-Spy-8LuihYdx0FQ.mp3-part-121.wav\n"
     ]
    },
    {
     "name": "stderr",
     "output_type": "stream",
     "text": [
      " 98%|█████████▊| 127714/130662 [44:41<00:52, 55.93it/s]"
     ]
    },
    {
     "name": "stdout",
     "output_type": "stream",
     "text": [
      "skipped semisupervised-manglish/output-wav/Mamak-Sessions-Ep6---Names-People-Always-Mispronounce-&-Facebook-Is-A-Spy-8LuihYdx0FQ.mp3-part-114.wav\n"
     ]
    },
    {
     "name": "stderr",
     "output_type": "stream",
     "text": [
      " 98%|█████████▊| 128106/130662 [44:48<00:54, 47.14it/s]"
     ]
    },
    {
     "name": "stdout",
     "output_type": "stream",
     "text": [
      "skipped semisupervised-manglish/output-wav/The-Fashion-Weak-Podcast-Ep24---Penang-Boys-@tunway-瘦虎-&-@Shawnduabui-肥龍-Talk-Zap-Fan-&-Sneakers-dykz_vuzJh0.mp3-part-622.wav\n"
     ]
    },
    {
     "name": "stderr",
     "output_type": "stream",
     "text": [
      " 98%|█████████▊| 128199/130662 [44:50<00:44, 54.76it/s]"
     ]
    },
    {
     "name": "stdout",
     "output_type": "stream",
     "text": [
      "skipped semisupervised-manglish/output-wav/Mamak-Sessions---Blaming-Yourself-For-Your-Parents'-Divorce,-And-How-Our-Parents-Punish-Us-x8Gl_zIC9CQ.mp3-part-22.wav\n"
     ]
    },
    {
     "name": "stderr",
     "output_type": "stream",
     "text": [
      " 98%|█████████▊| 128236/130662 [44:50<00:41, 58.09it/s]"
     ]
    },
    {
     "name": "stdout",
     "output_type": "stream",
     "text": [
      "skipped semisupervised-manglish/output-wav/The-Fashion-Weak-Podcast-Ep-43---Thirst-Trapping-Simps-&-Loving-Your-Body-From-The-Outside-In-6R87P6YD2c4.mp3-part-455.wav\n"
     ]
    },
    {
     "name": "stderr",
     "output_type": "stream",
     "text": [
      " 98%|█████████▊| 128474/130662 [44:54<00:38, 56.32it/s]"
     ]
    },
    {
     "name": "stdout",
     "output_type": "stream",
     "text": [
      "skipped semisupervised-manglish/output-wav/The-Fashion-Weak-Podcast-Ep-46---Premium-Thirst-Trap-Tips-With-Michelle-Lee-(@mich8lee)-MCHDyLJDJrg.mp3-part-98.wav\n"
     ]
    },
    {
     "name": "stderr",
     "output_type": "stream",
     "text": [
      " 98%|█████████▊| 128532/130662 [44:55<00:44, 47.38it/s]"
     ]
    },
    {
     "name": "stdout",
     "output_type": "stream",
     "text": [
      "skipped semisupervised-manglish/output-wav/The-Fashion-Weak-Podcast-Ep-40---tdcjTfzYSbk.mp3-part-4.wav\n"
     ]
    },
    {
     "name": "stderr",
     "output_type": "stream",
     "text": [
      " 98%|█████████▊| 128574/130662 [44:56<00:37, 56.04it/s]"
     ]
    },
    {
     "name": "stdout",
     "output_type": "stream",
     "text": [
      "skipped semisupervised-manglish/output-wav/The-Fashion-Weak-Podcast-Ep-32---Getting-Surprised-Reading-Melissa-Campbell's-(@heymelbelle)-IG-DMs-mJuKUwFpDgI.mp3-part-700.wav\n"
     ]
    },
    {
     "name": "stderr",
     "output_type": "stream",
     "text": [
      " 99%|█████████▊| 128751/130662 [44:59<00:31, 60.47it/s]"
     ]
    },
    {
     "name": "stdout",
     "output_type": "stream",
     "text": [
      "skipped semisupervised-manglish/output-wav/The-Fashion-Weak-Podcast-Ep-32---Getting-Surprised-Reading-Melissa-Campbell's-(@heymelbelle)-IG-DMs-mJuKUwFpDgI.mp3-part-598.wav\n"
     ]
    },
    {
     "name": "stderr",
     "output_type": "stream",
     "text": [
      " 99%|█████████▊| 128963/130662 [45:03<00:36, 46.09it/s]"
     ]
    },
    {
     "name": "stdout",
     "output_type": "stream",
     "text": [
      "skipped semisupervised-manglish/output-wav/Mamak-Sessions---We-May-Not-Always-End-Up-Doing-What-We-Thought-We-Would..And-That's-Not-A-Bad-Thing-IAeN0jG9Hwc.mp3-part-329.wav\n"
     ]
    },
    {
     "name": "stderr",
     "output_type": "stream",
     "text": [
      " 99%|█████████▉| 129139/130662 [45:06<00:32, 47.14it/s]"
     ]
    },
    {
     "name": "stdout",
     "output_type": "stream",
     "text": [
      "skipped semisupervised-manglish/output-wav/Dance-Moves-To-Pick-Up-Girls-At-The-Club-With-Adidas-Creator-Maybelline-Wong-(@definitelyMayb_)-vRnkHzyyBc4.mp3-part-291.wav\n",
      "skipped semisupervised-manglish/output-wav/Mamak-Sessions-Podcast---Is-it-ok-to-move-in-with-your-Partner-before-MARRIAGE-nGnyZ5c00Mo.mp3-part-28.wav\n"
     ]
    },
    {
     "name": "stderr",
     "output_type": "stream",
     "text": [
      " 99%|█████████▉| 129152/130662 [45:06<00:30, 49.82it/s]"
     ]
    },
    {
     "name": "stdout",
     "output_type": "stream",
     "text": [
      "skipped semisupervised-manglish/output-wav/Mamak-Sessions-Ep6---Names-People-Always-Mispronounce-&-Facebook-Is-A-Spy-8LuihYdx0FQ.mp3-part-239.wav\n"
     ]
    },
    {
     "name": "stderr",
     "output_type": "stream",
     "text": [
      " 99%|█████████▉| 129549/130662 [45:13<00:19, 57.36it/s]"
     ]
    },
    {
     "name": "stdout",
     "output_type": "stream",
     "text": [
      "skipped semisupervised-manglish/output-wav/Mamak-Sessions---How-Do-You-Deal-With-Rumors-ft-Elizabeth-Tan-Rkvd5p3I11M.mp3-part-410.wav\n"
     ]
    },
    {
     "name": "stderr",
     "output_type": "stream",
     "text": [
      " 99%|█████████▉| 129591/130662 [45:13<00:19, 56.01it/s]"
     ]
    },
    {
     "name": "stdout",
     "output_type": "stream",
     "text": [
      "skipped semisupervised-manglish/output-wav/Mamak-Sessions-Ep6---Names-People-Always-Mispronounce-&-Facebook-Is-A-Spy-8LuihYdx0FQ.mp3-part-135.wav\n"
     ]
    },
    {
     "name": "stderr",
     "output_type": "stream",
     "text": [
      " 99%|█████████▉| 129622/130662 [45:14<00:15, 67.08it/s]"
     ]
    },
    {
     "name": "stdout",
     "output_type": "stream",
     "text": [
      "skipped semisupervised-manglish/output-wav/Mamak-Sessions-Ep6---Names-People-Always-Mispronounce-&-Facebook-Is-A-Spy-8LuihYdx0FQ.mp3-part-96.wav\n"
     ]
    },
    {
     "name": "stderr",
     "output_type": "stream",
     "text": [
      " 99%|█████████▉| 129991/130662 [45:20<00:11, 56.68it/s]"
     ]
    },
    {
     "name": "stdout",
     "output_type": "stream",
     "text": [
      "skipped semisupervised-manglish/output-wav/The-Fashion-Weak-Podcast-Ep24---Penang-Boys-@tunway-瘦虎-&-@Shawnduabui-肥龍-Talk-Zap-Fan-&-Sneakers-dykz_vuzJh0.mp3-part-839.wav\n"
     ]
    },
    {
     "name": "stderr",
     "output_type": "stream",
     "text": [
      "100%|█████████▉| 130071/130662 [45:22<00:11, 53.09it/s]"
     ]
    },
    {
     "name": "stdout",
     "output_type": "stream",
     "text": [
      "skipped semisupervised-manglish/output-wav/Mamak-Sessions-Ep6---Names-People-Always-Mispronounce-&-Facebook-Is-A-Spy-8LuihYdx0FQ.mp3-part-7.wav\n"
     ]
    },
    {
     "name": "stderr",
     "output_type": "stream",
     "text": [
      "100%|█████████▉| 130172/130662 [45:23<00:08, 55.67it/s]"
     ]
    },
    {
     "name": "stdout",
     "output_type": "stream",
     "text": [
      "skipped semisupervised-manglish/output-wav/Mamak-Sessions-Ep10---Datuk-Nicol-David-is-RETIRING!-n3AR3nQEc7Y.mp3-part-306.wav\n"
     ]
    },
    {
     "name": "stderr",
     "output_type": "stream",
     "text": [
      "100%|█████████▉| 130390/130662 [45:27<00:04, 55.80it/s]"
     ]
    },
    {
     "name": "stdout",
     "output_type": "stream",
     "text": [
      "skipped semisupervised-manglish/output-wav/The-Fashion-Weak-Podcast-Ep-43---Thirst-Trapping-Simps-&-Loving-Your-Body-From-The-Outside-In-6R87P6YD2c4.mp3-part-98.wav\n"
     ]
    },
    {
     "name": "stderr",
     "output_type": "stream",
     "text": [
      "100%|█████████▉| 130518/130662 [45:29<00:02, 60.12it/s]"
     ]
    },
    {
     "name": "stdout",
     "output_type": "stream",
     "text": [
      "skipped semisupervised-manglish/output-wav/Mamak-Sessions-Podcast---How-Do-You-Handle-Long-Distance-Relationships-Do-they-WORK-m7mwwtsblIs.mp3-part-5.wav\n"
     ]
    },
    {
     "name": "stderr",
     "output_type": "stream",
     "text": [
      "100%|██████████| 130662/130662 [45:32<00:00, 47.82it/s]"
     ]
    },
    {
     "name": "stdout",
     "output_type": "stream",
     "text": [
      "WARNING:tensorflow:From /home/husein/.local/lib/python3.6/site-packages/malaya_speech/train/prepare_data.py:218: The name tf.gfile.Rename is deprecated. Please use tf.io.gfile.rename instead.\n",
      "\n",
      "INFO:tensorflow:Generated 130662 Examples\n",
      "INFO:tensorflow:Shuffling data...\n",
      "WARNING:tensorflow:From /home/husein/.local/lib/python3.6/site-packages/malaya_speech/train/prepare_data.py:26: tf_record_iterator (from tensorflow.python.lib.io.tf_record) is deprecated and will be removed in a future version.\n",
      "Instructions for updating:\n",
      "Use eager execution and: \n",
      "`tf.data.TFRecordDataset(path)`\n"
     ]
    },
    {
     "name": "stderr",
     "output_type": "stream",
     "text": [
      "\n"
     ]
    },
    {
     "name": "stdout",
     "output_type": "stream",
     "text": [
      "WARNING:tensorflow:From /home/husein/.local/lib/python3.6/site-packages/malaya_speech/train/prepare_data.py:57: The name tf.gfile.Remove is deprecated. Please use tf.io.gfile.remove instead.\n",
      "\n",
      "INFO:tensorflow:Data shuffled.\n"
     ]
    }
   ],
   "source": [
    "train.prepare_dataset(generator, DATA_DIR, shards, prefix = 'bahasa-asr')"
   ]
  }
 ],
 "metadata": {
  "kernelspec": {
   "display_name": "Python 3",
   "language": "python",
   "name": "python3"
  },
  "language_info": {
   "codemirror_mode": {
    "name": "ipython",
    "version": 3
   },
   "file_extension": ".py",
   "mimetype": "text/x-python",
   "name": "python",
   "nbconvert_exporter": "python",
   "pygments_lexer": "ipython3",
   "version": "3.7.7"
  }
 },
 "nbformat": 4,
 "nbformat_minor": 2
}

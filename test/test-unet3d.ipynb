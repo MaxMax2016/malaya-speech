{
 "cells": [
  {
   "cell_type": "code",
   "execution_count": 1,
   "metadata": {},
   "outputs": [],
   "source": [
    "import os\n",
    "\n",
    "os.environ['CUDA_VISIBLE_DEVICES'] = '1'"
   ]
  },
  {
   "cell_type": "code",
   "execution_count": 2,
   "metadata": {},
   "outputs": [],
   "source": [
    "import sys\n",
    "\n",
    "SOURCE_DIR = os.path.dirname(os.path.dirname(os.path.abspath(__name__)))\n",
    "sys.path.insert(0, SOURCE_DIR)"
   ]
  },
  {
   "cell_type": "code",
   "execution_count": 3,
   "metadata": {
    "scrolled": true
   },
   "outputs": [
    {
     "name": "stdout",
     "output_type": "stream",
     "text": [
      "WARNING:tensorflow:From /Users/huseinzolkepli/Documents/malaya-speech/malaya_speech/train/optimizer/__init__.py:38: The name tf.train.AdagradOptimizer is deprecated. Please use tf.compat.v1.train.AdagradOptimizer instead.\n",
      "\n",
      "WARNING:tensorflow:From /Users/huseinzolkepli/Documents/malaya-speech/malaya_speech/train/optimizer/__init__.py:39: The name tf.train.AdamOptimizer is deprecated. Please use tf.compat.v1.train.AdamOptimizer instead.\n",
      "\n",
      "WARNING:tensorflow:From /Users/huseinzolkepli/Documents/malaya-speech/malaya_speech/train/optimizer/__init__.py:40: The name tf.train.FtrlOptimizer is deprecated. Please use tf.compat.v1.train.FtrlOptimizer instead.\n",
      "\n",
      "WARNING:tensorflow:From /Users/huseinzolkepli/Documents/malaya-speech/malaya_speech/train/optimizer/__init__.py:42: The name tf.train.RMSPropOptimizer is deprecated. Please use tf.compat.v1.train.RMSPropOptimizer instead.\n",
      "\n",
      "WARNING:tensorflow:From /Users/huseinzolkepli/Documents/malaya-speech/malaya_speech/train/optimizer/__init__.py:43: The name tf.train.GradientDescentOptimizer is deprecated. Please use tf.compat.v1.train.GradientDescentOptimizer instead.\n",
      "\n",
      "WARNING:tensorflow:\n",
      "The TensorFlow contrib module will not be included in TensorFlow 2.0.\n",
      "For more information, please see:\n",
      "  * https://github.com/tensorflow/community/blob/master/rfcs/20180907-contrib-sunset.md\n",
      "  * https://github.com/tensorflow/addons\n",
      "  * https://github.com/tensorflow/io (for I/O related ops)\n",
      "If you depend on functionality not listed there, please file an issue.\n",
      "\n"
     ]
    }
   ],
   "source": [
    "import tensorflow as tf\n",
    "import malaya_speech\n",
    "import malaya_speech.train\n",
    "from malaya_speech.train.model import unet\n",
    "from malaya_speech.utils import tf_featurization\n",
    "from tensorflow.keras.layers import Multiply\n",
    "import IPython.display as ipd\n",
    "import numpy as np"
   ]
  },
  {
   "cell_type": "code",
   "execution_count": 4,
   "metadata": {},
   "outputs": [],
   "source": [
    "def get_stft(X):\n",
    "    batch_size = tf.shape(X)[0]\n",
    "    stft_X = tf.TensorArray(dtype = tf.complex64, size = batch_size, dynamic_size = False, infer_shape = False)\n",
    "    D_X = tf.TensorArray(dtype = tf.float32, size = batch_size, dynamic_size = False, infer_shape = False)\n",
    "\n",
    "    init_state = (0, stft_X, D_X)\n",
    "    def condition(i, features, features_len):\n",
    "        return i < batch_size\n",
    "\n",
    "    def body(i, features, features_len):\n",
    "        stft_x, D_x = tf_featurization.get_stft(X[i])\n",
    "        return i + 1, stft_X.write(i, stft_x), D_X.write(i, D_x)\n",
    "\n",
    "    _, stft_X, D_X = tf.while_loop(condition, body, init_state)\n",
    "    stft_X = stft_X.stack()\n",
    "    stft_X.set_shape((None, None, 2049, 1))\n",
    "    D_X = D_X.stack()\n",
    "    D_X.set_shape((None, None, 512, 1024, 1))\n",
    "    return stft_X, D_X\n",
    "\n",
    "class Model:\n",
    "    def __init__(self, size = 4):\n",
    "        self.X = tf.placeholder(tf.float32, (None, None))\n",
    "        self.Y = tf.placeholder(tf.float32, (None, size, None))\n",
    "        \n",
    "        stft_X, D_X = get_stft(self.X)\n",
    "        \n",
    "        self.stft = []\n",
    "        for i in range(size):\n",
    "            self.stft.append(get_stft(self.Y[:, i]))\n",
    "            \n",
    "        self.outputs = unet.Model3D(D_X, dropout = 0.0, training = True, cout = size,\n",
    "                                   kernel_size = 5).logits\n",
    "        \n",
    "        self.loss = []\n",
    "        for i in range(size):\n",
    "            self.loss.append(tf.reduce_mean(tf.abs(self.outputs[:, :, :, :, i: i + 1] - self.stft[i][1])))        \n",
    "        \n",
    "        self.cost = tf.reduce_sum(self.loss)\n",
    "        \n",
    "#         separation_exponent = 2\n",
    "#         EPSILON = 1e-10\n",
    "        \n",
    "#         output_sum = tf.reduce_sum([o[0] ** separation_exponent for o in self.outputs], axis=0) + EPSILON\n",
    "        \n",
    "#         self.istft = []\n",
    "#         for no, D in enumerate(self.outputs):\n",
    "#             D = D[0]\n",
    "\n",
    "#             instrument_mask = (D ** separation_exponent + (EPSILON / size)) / output_sum\n",
    "#             instrument_mask = tf_featurization.extend_mask(instrument_mask)\n",
    "#             old_shape = tf.shape(instrument_mask)\n",
    "#             new_shape = tf.concat(\n",
    "#                 [[old_shape[0] * old_shape[1]], old_shape[2:]],\n",
    "#                 axis=0)\n",
    "#             instrument_mask = tf.reshape(instrument_mask, new_shape)\n",
    "\n",
    "#             instrument_mask = instrument_mask[:tf.shape(stft_X[0])[0]]\n",
    "#             masked_stft = tf.cast(instrument_mask, dtype=tf.complex64) * stft_X[0]\n",
    "#             self.istft.append(tf_featurization.istft(masked_stft, self.X)[:,0])"
   ]
  },
  {
   "cell_type": "code",
   "execution_count": 5,
   "metadata": {},
   "outputs": [
    {
     "name": "stdout",
     "output_type": "stream",
     "text": [
      "WARNING:tensorflow:From /Users/huseinzolkepli/Documents/tf-1.15/env/lib/python3.7/site-packages/tensorflow_core/python/ops/resource_variable_ops.py:1630: calling BaseResourceVariable.__init__ (from tensorflow.python.ops.resource_variable_ops) with constraint is deprecated and will be removed in a future version.\n",
      "Instructions for updating:\n",
      "If using Keras pass *_constraint arguments to layers.\n"
     ]
    }
   ],
   "source": [
    "tf.compat.v1.reset_default_graph()\n",
    "model = Model()\n",
    "sess = tf.InteractiveSession()\n",
    "sess.run(tf.global_variables_initializer())"
   ]
  },
  {
   "cell_type": "code",
   "execution_count": 6,
   "metadata": {},
   "outputs": [
    {
     "data": {
      "text/plain": [
       "(<tf.Tensor 'output/mul:0' shape=(?, ?, 512, 1024, 4) dtype=float32>,\n",
       " [(<tf.Tensor 'TensorArrayStack_2/TensorArrayGatherV3:0' shape=(?, ?, 2049, 1) dtype=complex64>,\n",
       "   <tf.Tensor 'TensorArrayStack_3/TensorArrayGatherV3:0' shape=(?, ?, 512, 1024, 1) dtype=float32>),\n",
       "  (<tf.Tensor 'TensorArrayStack_4/TensorArrayGatherV3:0' shape=(?, ?, 2049, 1) dtype=complex64>,\n",
       "   <tf.Tensor 'TensorArrayStack_5/TensorArrayGatherV3:0' shape=(?, ?, 512, 1024, 1) dtype=float32>),\n",
       "  (<tf.Tensor 'TensorArrayStack_6/TensorArrayGatherV3:0' shape=(?, ?, 2049, 1) dtype=complex64>,\n",
       "   <tf.Tensor 'TensorArrayStack_7/TensorArrayGatherV3:0' shape=(?, ?, 512, 1024, 1) dtype=float32>),\n",
       "  (<tf.Tensor 'TensorArrayStack_8/TensorArrayGatherV3:0' shape=(?, ?, 2049, 1) dtype=complex64>,\n",
       "   <tf.Tensor 'TensorArrayStack_9/TensorArrayGatherV3:0' shape=(?, ?, 512, 1024, 1) dtype=float32>)])"
      ]
     },
     "execution_count": 6,
     "metadata": {},
     "output_type": "execute_result"
    }
   ],
   "source": [
    "model.outputs, model.stft"
   ]
  },
  {
   "cell_type": "code",
   "execution_count": 7,
   "metadata": {
    "scrolled": true
   },
   "outputs": [
    {
     "data": {
      "text/plain": [
       "5.630680272108844"
      ]
     },
     "execution_count": 7,
     "metadata": {},
     "output_type": "execute_result"
    }
   ],
   "source": [
    "y, sr = malaya_speech.load('../speech/example-speaker/husein-zolkepli.wav', sr = 44100)\n",
    "len(y) / sr"
   ]
  },
  {
   "cell_type": "code",
   "execution_count": 8,
   "metadata": {},
   "outputs": [],
   "source": [
    "# ipd.Audio(y, rate = sr)"
   ]
  },
  {
   "cell_type": "code",
   "execution_count": 9,
   "metadata": {},
   "outputs": [],
   "source": [
    "# y_ = malaya_speech.augmentation.waveform.sox_augment_high(y, min_bass_gain = 70,\n",
    "#                                                           reverberance = 50, \n",
    "#                                                           negate = 0)\n",
    "# ipd.Audio(y_, rate = sr)"
   ]
  },
  {
   "cell_type": "code",
   "execution_count": 10,
   "metadata": {},
   "outputs": [],
   "source": [
    "# noise = y - y_"
   ]
  },
  {
   "cell_type": "code",
   "execution_count": 11,
   "metadata": {},
   "outputs": [
    {
     "data": {
      "text/plain": [
       "[0.2172515, 0.24013034, 0.25318438, 0.35383564]"
      ]
     },
     "execution_count": 11,
     "metadata": {},
     "output_type": "execute_result"
    }
   ],
   "source": [
    "sess.run(model.loss, feed_dict = {model.X: [y],\n",
    "                                         model.Y: [[y] * 4]})"
   ]
  },
  {
   "cell_type": "code",
   "execution_count": 12,
   "metadata": {},
   "outputs": [],
   "source": [
    "# stft[0][1].shape"
   ]
  },
  {
   "cell_type": "code",
   "execution_count": 13,
   "metadata": {},
   "outputs": [],
   "source": [
    "# outputs = sess.run(model.outputs, feed_dict = {model.X: y_})\n",
    "# [o.shape for o in outputs]"
   ]
  },
  {
   "cell_type": "code",
   "execution_count": 14,
   "metadata": {},
   "outputs": [],
   "source": [
    "# sess.run(model.loss, feed_dict = {model.X: y_, model.Y: [y, noise]})"
   ]
  },
  {
   "cell_type": "code",
   "execution_count": 15,
   "metadata": {},
   "outputs": [],
   "source": [
    "# istft = sess.run(model.istft, feed_dict = {model.X: y_})\n",
    "# [s.shape for s in istft]"
   ]
  },
  {
   "cell_type": "code",
   "execution_count": 16,
   "metadata": {},
   "outputs": [],
   "source": [
    "# ipd.Audio(istft[0], rate = sr)"
   ]
  },
  {
   "cell_type": "code",
   "execution_count": 17,
   "metadata": {},
   "outputs": [],
   "source": [
    "# ipd.Audio(istft[1], rate = sr)"
   ]
  },
  {
   "cell_type": "code",
   "execution_count": 18,
   "metadata": {},
   "outputs": [],
   "source": [
    "# ipd.Audio(y_, rate = sr)"
   ]
  },
  {
   "cell_type": "code",
   "execution_count": 19,
   "metadata": {},
   "outputs": [],
   "source": [
    "saver = tf.train.Saver()"
   ]
  },
  {
   "cell_type": "code",
   "execution_count": 20,
   "metadata": {},
   "outputs": [
    {
     "data": {
      "text/plain": [
       "'test/model.ckpt'"
      ]
     },
     "execution_count": 20,
     "metadata": {},
     "output_type": "execute_result"
    }
   ],
   "source": [
    "saver.save(sess, 'test/model.ckpt')"
   ]
  },
  {
   "cell_type": "code",
   "execution_count": 21,
   "metadata": {},
   "outputs": [
    {
     "name": "stdout",
     "output_type": "stream",
     "text": [
      "total 384544\r\n",
      "-rw-r--r--  1 huseinzolkepli  staff    77B Mar  1 21:44 checkpoint\r\n",
      "-rw-r--r--  1 huseinzolkepli  staff   187M Mar  1 21:44 model.ckpt.data-00000-of-00001\r\n",
      "-rw-r--r--  1 huseinzolkepli  staff   2.6K Mar  1 21:44 model.ckpt.index\r\n",
      "-rw-r--r--  1 huseinzolkepli  staff   454K Mar  1 21:44 model.ckpt.meta\r\n"
     ]
    }
   ],
   "source": [
    "!ls -lh test"
   ]
  },
  {
   "cell_type": "code",
   "execution_count": 22,
   "metadata": {},
   "outputs": [
    {
     "data": {
      "text/plain": [
       "[<tf.Variable 'conv3d/kernel:0' shape=(5, 5, 5, 1, 16) dtype=float32>,\n",
       " <tf.Variable 'conv3d/bias:0' shape=(16,) dtype=float32>,\n",
       " <tf.Variable 'batch_normalization/gamma:0' shape=(16,) dtype=float32>,\n",
       " <tf.Variable 'batch_normalization/beta:0' shape=(16,) dtype=float32>,\n",
       " <tf.Variable 'conv3d_1/kernel:0' shape=(5, 5, 5, 16, 32) dtype=float32>,\n",
       " <tf.Variable 'conv3d_1/bias:0' shape=(32,) dtype=float32>,\n",
       " <tf.Variable 'batch_normalization_1/gamma:0' shape=(32,) dtype=float32>,\n",
       " <tf.Variable 'batch_normalization_1/beta:0' shape=(32,) dtype=float32>,\n",
       " <tf.Variable 'conv3d_2/kernel:0' shape=(5, 5, 5, 32, 64) dtype=float32>,\n",
       " <tf.Variable 'conv3d_2/bias:0' shape=(64,) dtype=float32>,\n",
       " <tf.Variable 'batch_normalization_2/gamma:0' shape=(64,) dtype=float32>,\n",
       " <tf.Variable 'batch_normalization_2/beta:0' shape=(64,) dtype=float32>,\n",
       " <tf.Variable 'conv3d_3/kernel:0' shape=(5, 5, 5, 64, 128) dtype=float32>,\n",
       " <tf.Variable 'conv3d_3/bias:0' shape=(128,) dtype=float32>,\n",
       " <tf.Variable 'batch_normalization_3/gamma:0' shape=(128,) dtype=float32>,\n",
       " <tf.Variable 'batch_normalization_3/beta:0' shape=(128,) dtype=float32>,\n",
       " <tf.Variable 'conv3d_4/kernel:0' shape=(5, 5, 5, 128, 256) dtype=float32>,\n",
       " <tf.Variable 'conv3d_4/bias:0' shape=(256,) dtype=float32>,\n",
       " <tf.Variable 'batch_normalization_4/gamma:0' shape=(256,) dtype=float32>,\n",
       " <tf.Variable 'batch_normalization_4/beta:0' shape=(256,) dtype=float32>,\n",
       " <tf.Variable 'conv3d_5/kernel:0' shape=(5, 5, 5, 256, 512) dtype=float32>,\n",
       " <tf.Variable 'conv3d_5/bias:0' shape=(512,) dtype=float32>,\n",
       " <tf.Variable 'batch_normalization_5/gamma:0' shape=(512,) dtype=float32>,\n",
       " <tf.Variable 'batch_normalization_5/beta:0' shape=(512,) dtype=float32>,\n",
       " <tf.Variable 'conv3d_transpose/kernel:0' shape=(5, 5, 5, 256, 512) dtype=float32>,\n",
       " <tf.Variable 'conv3d_transpose/bias:0' shape=(256,) dtype=float32>,\n",
       " <tf.Variable 'batch_normalization_6/gamma:0' shape=(256,) dtype=float32>,\n",
       " <tf.Variable 'batch_normalization_6/beta:0' shape=(256,) dtype=float32>,\n",
       " <tf.Variable 'conv3d_transpose_1/kernel:0' shape=(5, 5, 5, 128, 512) dtype=float32>,\n",
       " <tf.Variable 'conv3d_transpose_1/bias:0' shape=(128,) dtype=float32>,\n",
       " <tf.Variable 'batch_normalization_7/gamma:0' shape=(128,) dtype=float32>,\n",
       " <tf.Variable 'batch_normalization_7/beta:0' shape=(128,) dtype=float32>,\n",
       " <tf.Variable 'conv3d_transpose_2/kernel:0' shape=(5, 5, 5, 64, 256) dtype=float32>,\n",
       " <tf.Variable 'conv3d_transpose_2/bias:0' shape=(64,) dtype=float32>,\n",
       " <tf.Variable 'batch_normalization_8/gamma:0' shape=(64,) dtype=float32>,\n",
       " <tf.Variable 'batch_normalization_8/beta:0' shape=(64,) dtype=float32>,\n",
       " <tf.Variable 'conv3d_transpose_3/kernel:0' shape=(5, 5, 5, 32, 128) dtype=float32>,\n",
       " <tf.Variable 'conv3d_transpose_3/bias:0' shape=(32,) dtype=float32>,\n",
       " <tf.Variable 'batch_normalization_9/gamma:0' shape=(32,) dtype=float32>,\n",
       " <tf.Variable 'batch_normalization_9/beta:0' shape=(32,) dtype=float32>,\n",
       " <tf.Variable 'conv3d_transpose_4/kernel:0' shape=(5, 5, 5, 16, 64) dtype=float32>,\n",
       " <tf.Variable 'conv3d_transpose_4/bias:0' shape=(16,) dtype=float32>,\n",
       " <tf.Variable 'batch_normalization_10/gamma:0' shape=(16,) dtype=float32>,\n",
       " <tf.Variable 'batch_normalization_10/beta:0' shape=(16,) dtype=float32>,\n",
       " <tf.Variable 'conv3d_transpose_5/kernel:0' shape=(5, 5, 5, 1, 32) dtype=float32>,\n",
       " <tf.Variable 'conv3d_transpose_5/bias:0' shape=(1,) dtype=float32>,\n",
       " <tf.Variable 'batch_normalization_11/gamma:0' shape=(1,) dtype=float32>,\n",
       " <tf.Variable 'batch_normalization_11/beta:0' shape=(1,) dtype=float32>,\n",
       " <tf.Variable 'conv3d_6/kernel:0' shape=(5, 5, 5, 1, 4) dtype=float32>,\n",
       " <tf.Variable 'conv3d_6/bias:0' shape=(4,) dtype=float32>]"
      ]
     },
     "execution_count": 22,
     "metadata": {},
     "output_type": "execute_result"
    }
   ],
   "source": [
    "tf.trainable_variables()"
   ]
  },
  {
   "cell_type": "code",
   "execution_count": 23,
   "metadata": {},
   "outputs": [],
   "source": [
    "!rm -rf test"
   ]
  },
  {
   "cell_type": "code",
   "execution_count": null,
   "metadata": {},
   "outputs": [],
   "source": []
  }
 ],
 "metadata": {
  "kernelspec": {
   "display_name": "Python 3",
   "language": "python",
   "name": "python3"
  },
  "language_info": {
   "codemirror_mode": {
    "name": "ipython",
    "version": 3
   },
   "file_extension": ".py",
   "mimetype": "text/x-python",
   "name": "python",
   "nbconvert_exporter": "python",
   "pygments_lexer": "ipython3",
   "version": "3.7.7"
  }
 },
 "nbformat": 4,
 "nbformat_minor": 4
}

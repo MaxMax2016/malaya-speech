{
 "cells": [
  {
   "cell_type": "code",
   "execution_count": 1,
   "metadata": {},
   "outputs": [],
   "source": [
    "import os\n",
    "\n",
    "os.environ['CUDA_VISIBLE_DEVICES'] = '1'"
   ]
  },
  {
   "cell_type": "code",
   "execution_count": 2,
   "metadata": {},
   "outputs": [],
   "source": [
    "import sys\n",
    "\n",
    "SOURCE_DIR = os.path.dirname(os.path.dirname(os.path.abspath(__name__)))\n",
    "sys.path.insert(0, SOURCE_DIR)"
   ]
  },
  {
   "cell_type": "code",
   "execution_count": 3,
   "metadata": {},
   "outputs": [],
   "source": [
    "# import logging\n",
    "# import warnings\n",
    "\n",
    "# logging.basicConfig(level=logging.DEBUG)\n",
    "# warnings.filterwarnings('ignore')"
   ]
  },
  {
   "cell_type": "code",
   "execution_count": 4,
   "metadata": {},
   "outputs": [],
   "source": [
    "# import tensorflow as tf\n",
    "\n",
    "# tf.compat.v1.enable_eager_execution()"
   ]
  },
  {
   "cell_type": "code",
   "execution_count": 5,
   "metadata": {
    "scrolled": false
   },
   "outputs": [
    {
     "name": "stdout",
     "output_type": "stream",
     "text": [
      "WARNING:tensorflow:From /Users/huseinzolkepli/Documents/malaya-speech/malaya_speech/train/optimizer/__init__.py:39: The name tf.train.AdagradOptimizer is deprecated. Please use tf.compat.v1.train.AdagradOptimizer instead.\n",
      "\n",
      "WARNING:tensorflow:From /Users/huseinzolkepli/Documents/malaya-speech/malaya_speech/train/optimizer/__init__.py:40: The name tf.train.AdamOptimizer is deprecated. Please use tf.compat.v1.train.AdamOptimizer instead.\n",
      "\n",
      "WARNING:tensorflow:From /Users/huseinzolkepli/Documents/malaya-speech/malaya_speech/train/optimizer/__init__.py:41: The name tf.train.FtrlOptimizer is deprecated. Please use tf.compat.v1.train.FtrlOptimizer instead.\n",
      "\n",
      "WARNING:tensorflow:From /Users/huseinzolkepli/Documents/malaya-speech/malaya_speech/train/optimizer/__init__.py:43: The name tf.train.RMSPropOptimizer is deprecated. Please use tf.compat.v1.train.RMSPropOptimizer instead.\n",
      "\n",
      "WARNING:tensorflow:From /Users/huseinzolkepli/Documents/malaya-speech/malaya_speech/train/optimizer/__init__.py:44: The name tf.train.GradientDescentOptimizer is deprecated. Please use tf.compat.v1.train.GradientDescentOptimizer instead.\n",
      "\n",
      "WARNING:tensorflow:\n",
      "The TensorFlow contrib module will not be included in TensorFlow 2.0.\n",
      "For more information, please see:\n",
      "  * https://github.com/tensorflow/community/blob/master/rfcs/20180907-contrib-sunset.md\n",
      "  * https://github.com/tensorflow/addons\n",
      "  * https://github.com/tensorflow/io (for I/O related ops)\n",
      "If you depend on functionality not listed there, please file an issue.\n",
      "\n"
     ]
    }
   ],
   "source": [
    "import malaya_speech\n",
    "import malaya_speech.config\n",
    "from malaya_speech.train.model import glowtts\n",
    "import tensorflow as tf\n",
    "import numpy as np\n",
    "import math"
   ]
  },
  {
   "cell_type": "code",
   "execution_count": 6,
   "metadata": {
    "scrolled": true
   },
   "outputs": [],
   "source": [
    "config = malaya_speech.config.fastspeech2_config\n",
    "config['encoder_hidden_size'] = 192\n",
    "config['encoder_num_hidden_layers'] = 6\n",
    "config['encoder_attention_head_size'] = 32\n",
    "config['encoder_intermediate_size'] = 768\n",
    "config = glowtts.Config(vocab_size = 66, **config)\n",
    "config_glowtts = glowtts.Config_GlowTTS(malaya_speech.config.glowtts_config)"
   ]
  },
  {
   "cell_type": "code",
   "execution_count": 7,
   "metadata": {},
   "outputs": [],
   "source": [
    "i = tf.placeholder(tf.int32, [None, None])\n",
    "i_lengths = tf.placeholder(tf.int32, [None])\n",
    "mel_outputs = tf.placeholder(tf.float32, [None, None, 80])\n",
    "mel_lengths = tf.placeholder(tf.int32, [None])"
   ]
  },
  {
   "cell_type": "code",
   "execution_count": 8,
   "metadata": {},
   "outputs": [
    {
     "data": {
      "text/plain": [
       "dict_keys(['mel', 'text_ids', 'len_mel', 'len_text_ids', 'stop_token_target', 'f0', 'len_f0', 'energy', 'len_energy', 'g'])"
      ]
     },
     "execution_count": 8,
     "metadata": {},
     "output_type": "execute_result"
    }
   ],
   "source": [
    "import pickle\n",
    "\n",
    "with open('dataset-mel.pkl', 'rb') as fopen:\n",
    "    data, d = pickle.load(fopen)\n",
    "    \n",
    "with open('dataset-mel-wav.pkl', 'rb') as fopen:\n",
    "    wav = pickle.load(fopen)\n",
    "    \n",
    "data.keys()"
   ]
  },
  {
   "cell_type": "code",
   "execution_count": 9,
   "metadata": {},
   "outputs": [],
   "source": [
    "# i = tf.convert_to_tensor(data['text_ids'])\n",
    "# mel_outputs = tf.convert_to_tensor(data['mel'].astype(np.float32))\n",
    "# mel_lengths = tf.convert_to_tensor(data['len_mel'][:,0])"
   ]
  },
  {
   "cell_type": "code",
   "execution_count": 10,
   "metadata": {
    "scrolled": false
   },
   "outputs": [
    {
     "name": "stdout",
     "output_type": "stream",
     "text": [
      "WARNING:tensorflow:From /Library/Frameworks/Python.framework/Versions/3.7/lib/python3.7/site-packages/tensorflow_core/python/keras/initializers.py:119: calling RandomUniform.__init__ (from tensorflow.python.ops.init_ops) with dtype is deprecated and will be removed in a future version.\n",
      "Instructions for updating:\n",
      "Call initializer instance with the dtype argument instead of passing it to the constructor\n",
      "WARNING:tensorflow:From /Users/huseinzolkepli/Documents/malaya-speech/malaya_speech/train/model/fastspeech/layer.py:11: The name tf.keras.initializers.TruncatedNormal is deprecated. Please use tf.compat.v1.keras.initializers.TruncatedNormal instead.\n",
      "\n",
      "WARNING:tensorflow:From /Library/Frameworks/Python.framework/Versions/3.7/lib/python3.7/site-packages/tensorflow_core/python/keras/initializers.py:94: calling TruncatedNormal.__init__ (from tensorflow.python.ops.init_ops) with dtype is deprecated and will be removed in a future version.\n",
      "Instructions for updating:\n",
      "Call initializer instance with the dtype argument instead of passing it to the constructor\n",
      "WARNING:tensorflow:From /Users/huseinzolkepli/Documents/malaya-speech/malaya_speech/train/model/glowtts/model.py:80: The name tf.variable_scope is deprecated. Please use tf.compat.v1.variable_scope instead.\n",
      "\n",
      "WARNING:tensorflow:From /Users/huseinzolkepli/Documents/malaya-speech/malaya_speech/train/model/glowtts/modules.py:135: The name tf.get_variable is deprecated. Please use tf.compat.v1.get_variable instead.\n",
      "\n"
     ]
    }
   ],
   "source": [
    "model = glowtts.Model(config, config_glowtts)"
   ]
  },
  {
   "cell_type": "code",
   "execution_count": 11,
   "metadata": {},
   "outputs": [
    {
     "name": "stdout",
     "output_type": "stream",
     "text": [
      "WARNING:tensorflow:From /Library/Frameworks/Python.framework/Versions/3.7/lib/python3.7/site-packages/tensorflow_core/python/ops/resource_variable_ops.py:1630: calling BaseResourceVariable.__init__ (from tensorflow.python.ops.resource_variable_ops) with constraint is deprecated and will be removed in a future version.\n",
      "Instructions for updating:\n",
      "If using Keras pass *_constraint arguments to layers.\n",
      "WARNING:tensorflow:From /Users/huseinzolkepli/Documents/malaya-speech/malaya_speech/train/model/utils.py:469: The name tf.debugging.assert_equal is deprecated. Please use tf.compat.v1.debugging.assert_equal instead.\n",
      "\n"
     ]
    }
   ],
   "source": [
    "o_ = model(i, gen = True, training = False, noise_scale=0.0)"
   ]
  },
  {
   "cell_type": "code",
   "execution_count": 12,
   "metadata": {},
   "outputs": [
    {
     "data": {
      "text/plain": [
       "<tf.Tensor 'Placeholder_4:0' shape=() dtype=float32>"
      ]
     },
     "execution_count": 12,
     "metadata": {},
     "output_type": "execute_result"
    }
   ],
   "source": [
    "noise = tf.placeholder(tf.float32, shape=())\n",
    "noise"
   ]
  },
  {
   "cell_type": "code",
   "execution_count": 13,
   "metadata": {},
   "outputs": [],
   "source": [
    "sess = tf.InteractiveSession()\n",
    "sess.run(tf.global_variables_initializer())"
   ]
  },
  {
   "cell_type": "code",
   "execution_count": 14,
   "metadata": {},
   "outputs": [],
   "source": [
    "model.decoder.store_inverse()"
   ]
  },
  {
   "cell_type": "code",
   "execution_count": 15,
   "metadata": {
    "scrolled": true
   },
   "outputs": [
    {
     "data": {
      "text/plain": [
       "((<tf.Tensor 'glowtts_1/FlowSpecDecoder/mul_4:0' shape=(?, ?, 80) dtype=float32>,\n",
       "  <tf.Tensor 'glowtts_1/MatMul:0' shape=(?, ?, 80) dtype=float32>,\n",
       "  <tf.Tensor 'glowtts_1/MatMul_1:0' shape=(?, ?, 80) dtype=float32>,\n",
       "  None,\n",
       "  <tf.Tensor 'glowtts_1/transpose_1:0' shape=(?, ?, 1) dtype=float32>),\n",
       " (<tf.Tensor 'glowtts_1/Encoder/mul:0' shape=(?, ?, 80) dtype=float32>,\n",
       "  <tf.Tensor 'glowtts_1/Encoder/zeros_like:0' shape=(?, ?, 80) dtype=float32>,\n",
       "  <tf.Tensor 'glowtts_1/Encoder/ExpandDims:0' shape=(?, ?, 1) dtype=float32>),\n",
       " (<tf.Tensor 'glowtts_1/ExpandDims_3:0' shape=(?, 1, ?, ?) dtype=float32>,\n",
       "  <tf.Tensor 'glowtts_1/Encoder/ExpandDims_1:0' shape=(?, ?, 1) dtype=float32>,\n",
       "  <tf.Tensor 'glowtts_1/mul_6:0' shape=(?, ?, 1) dtype=float32>))"
      ]
     },
     "execution_count": 15,
     "metadata": {},
     "output_type": "execute_result"
    }
   ],
   "source": [
    "(z, z_m, z_logs, logdet, z_mask), (x_m, x_logs, x_mask), (attn, logw, logw_) = model(i, \n",
    "                                                                                     gen = True, training = False,\n",
    "                                                                                     noise_scale=noise)\n",
    "(z, z_m, z_logs, logdet, z_mask), (x_m, x_logs, x_mask), (attn, logw, logw_)"
   ]
  },
  {
   "cell_type": "code",
   "execution_count": 16,
   "metadata": {},
   "outputs": [
    {
     "data": {
      "text/plain": [
       "516"
      ]
     },
     "execution_count": 16,
     "metadata": {},
     "output_type": "execute_result"
    }
   ],
   "source": [
    "len(tf.trainable_variables())"
   ]
  },
  {
   "cell_type": "code",
   "execution_count": 17,
   "metadata": {},
   "outputs": [],
   "source": [
    "import collections\n",
    "import re\n",
    "\n",
    "def get_assignment_map_from_checkpoint(tvars, init_checkpoint, logging=True):\n",
    "    \"\"\"Compute the union of the current variables and checkpoint variables.\"\"\"\n",
    "    assignment_map = {}\n",
    "    initialized_variable_names = {}\n",
    "\n",
    "    name_to_variable = collections.OrderedDict()\n",
    "    for var in tvars:\n",
    "        name = var.name\n",
    "        m = re.match('^(.*):\\\\d+$', name)\n",
    "        if m is not None:\n",
    "            name = m.group(1)\n",
    "        name_to_variable[name] = var\n",
    "\n",
    "    init_vars = tf.train.list_variables(init_checkpoint)\n",
    "\n",
    "    assignment_map = collections.OrderedDict()\n",
    "    for x in init_vars:\n",
    "        (name, var) = (x[0], x[1])\n",
    "        if name not in name_to_variable:\n",
    "            continue\n",
    "\n",
    "        assignment_map[name] = name\n",
    "        assignment_map[name] = name_to_variable[name]\n",
    "        initialized_variable_names[name] = 1\n",
    "        initialized_variable_names[name + ':0'] = 1\n",
    "\n",
    "    if logging:\n",
    "        tf.logging.info('**** Trainable Variables ****')\n",
    "        for var in tvars:\n",
    "            init_string = ''\n",
    "            if var.name in initialized_variable_names:\n",
    "                init_string = ', *INIT_FROM_CKPT*'\n",
    "            tf.logging.info(\n",
    "                '  name = %s, shape = %s%s', var.name, var.shape, init_string\n",
    "            )\n",
    "\n",
    "    return (assignment_map, initialized_variable_names, name_to_variable)"
   ]
  },
  {
   "cell_type": "code",
   "execution_count": 18,
   "metadata": {},
   "outputs": [
    {
     "name": "stdout",
     "output_type": "stream",
     "text": [
      "INFO:tensorflow:**** Trainable Variables ****\n"
     ]
    },
    {
     "name": "stderr",
     "output_type": "stream",
     "text": [
      "INFO:tensorflow:**** Trainable Variables ****\n"
     ]
    },
    {
     "name": "stdout",
     "output_type": "stream",
     "text": [
      "INFO:tensorflow:  name = n_blocks_1/logs:0, shape = (1, 1, 160), *INIT_FROM_CKPT*\n"
     ]
    },
    {
     "name": "stderr",
     "output_type": "stream",
     "text": [
      "INFO:tensorflow:  name = n_blocks_1/logs:0, shape = (1, 1, 160), *INIT_FROM_CKPT*\n"
     ]
    },
    {
     "name": "stdout",
     "output_type": "stream",
     "text": [
      "INFO:tensorflow:  name = n_blocks_1/bias:0, shape = (1, 1, 160), *INIT_FROM_CKPT*\n"
     ]
    },
    {
     "name": "stderr",
     "output_type": "stream",
     "text": [
      "INFO:tensorflow:  name = n_blocks_1/bias:0, shape = (1, 1, 160), *INIT_FROM_CKPT*\n"
     ]
    },
    {
     "name": "stdout",
     "output_type": "stream",
     "text": [
      "INFO:tensorflow:  name = n_blocks_1/w_init:0, shape = (4, 4), *INIT_FROM_CKPT*\n"
     ]
    },
    {
     "name": "stderr",
     "output_type": "stream",
     "text": [
      "INFO:tensorflow:  name = n_blocks_1/w_init:0, shape = (4, 4), *INIT_FROM_CKPT*\n"
     ]
    },
    {
     "name": "stdout",
     "output_type": "stream",
     "text": [
      "INFO:tensorflow:  name = n_blocks_2/logs:0, shape = (1, 1, 160), *INIT_FROM_CKPT*\n"
     ]
    },
    {
     "name": "stderr",
     "output_type": "stream",
     "text": [
      "INFO:tensorflow:  name = n_blocks_2/logs:0, shape = (1, 1, 160), *INIT_FROM_CKPT*\n"
     ]
    },
    {
     "name": "stdout",
     "output_type": "stream",
     "text": [
      "INFO:tensorflow:  name = n_blocks_2/bias:0, shape = (1, 1, 160), *INIT_FROM_CKPT*\n"
     ]
    },
    {
     "name": "stderr",
     "output_type": "stream",
     "text": [
      "INFO:tensorflow:  name = n_blocks_2/bias:0, shape = (1, 1, 160), *INIT_FROM_CKPT*\n"
     ]
    },
    {
     "name": "stdout",
     "output_type": "stream",
     "text": [
      "INFO:tensorflow:  name = n_blocks_2/w_init:0, shape = (4, 4), *INIT_FROM_CKPT*\n"
     ]
    },
    {
     "name": "stderr",
     "output_type": "stream",
     "text": [
      "INFO:tensorflow:  name = n_blocks_2/w_init:0, shape = (4, 4), *INIT_FROM_CKPT*\n"
     ]
    },
    {
     "name": "stdout",
     "output_type": "stream",
     "text": [
      "INFO:tensorflow:  name = n_blocks_3/logs:0, shape = (1, 1, 160), *INIT_FROM_CKPT*\n"
     ]
    },
    {
     "name": "stderr",
     "output_type": "stream",
     "text": [
      "INFO:tensorflow:  name = n_blocks_3/logs:0, shape = (1, 1, 160), *INIT_FROM_CKPT*\n"
     ]
    },
    {
     "name": "stdout",
     "output_type": "stream",
     "text": [
      "INFO:tensorflow:  name = n_blocks_3/bias:0, shape = (1, 1, 160), *INIT_FROM_CKPT*\n"
     ]
    },
    {
     "name": "stderr",
     "output_type": "stream",
     "text": [
      "INFO:tensorflow:  name = n_blocks_3/bias:0, shape = (1, 1, 160), *INIT_FROM_CKPT*\n"
     ]
    },
    {
     "name": "stdout",
     "output_type": "stream",
     "text": [
      "INFO:tensorflow:  name = n_blocks_3/w_init:0, shape = (4, 4), *INIT_FROM_CKPT*\n"
     ]
    },
    {
     "name": "stderr",
     "output_type": "stream",
     "text": [
      "INFO:tensorflow:  name = n_blocks_3/w_init:0, shape = (4, 4), *INIT_FROM_CKPT*\n"
     ]
    },
    {
     "name": "stdout",
     "output_type": "stream",
     "text": [
      "INFO:tensorflow:  name = n_blocks_4/logs:0, shape = (1, 1, 160), *INIT_FROM_CKPT*\n"
     ]
    },
    {
     "name": "stderr",
     "output_type": "stream",
     "text": [
      "INFO:tensorflow:  name = n_blocks_4/logs:0, shape = (1, 1, 160), *INIT_FROM_CKPT*\n"
     ]
    },
    {
     "name": "stdout",
     "output_type": "stream",
     "text": [
      "INFO:tensorflow:  name = n_blocks_4/bias:0, shape = (1, 1, 160), *INIT_FROM_CKPT*\n"
     ]
    },
    {
     "name": "stderr",
     "output_type": "stream",
     "text": [
      "INFO:tensorflow:  name = n_blocks_4/bias:0, shape = (1, 1, 160), *INIT_FROM_CKPT*\n"
     ]
    },
    {
     "name": "stdout",
     "output_type": "stream",
     "text": [
      "INFO:tensorflow:  name = n_blocks_4/w_init:0, shape = (4, 4), *INIT_FROM_CKPT*\n"
     ]
    },
    {
     "name": "stderr",
     "output_type": "stream",
     "text": [
      "INFO:tensorflow:  name = n_blocks_4/w_init:0, shape = (4, 4), *INIT_FROM_CKPT*\n"
     ]
    },
    {
     "name": "stdout",
     "output_type": "stream",
     "text": [
      "INFO:tensorflow:  name = n_blocks_5/logs:0, shape = (1, 1, 160), *INIT_FROM_CKPT*\n"
     ]
    },
    {
     "name": "stderr",
     "output_type": "stream",
     "text": [
      "INFO:tensorflow:  name = n_blocks_5/logs:0, shape = (1, 1, 160), *INIT_FROM_CKPT*\n"
     ]
    },
    {
     "name": "stdout",
     "output_type": "stream",
     "text": [
      "INFO:tensorflow:  name = n_blocks_5/bias:0, shape = (1, 1, 160), *INIT_FROM_CKPT*\n"
     ]
    },
    {
     "name": "stderr",
     "output_type": "stream",
     "text": [
      "INFO:tensorflow:  name = n_blocks_5/bias:0, shape = (1, 1, 160), *INIT_FROM_CKPT*\n"
     ]
    },
    {
     "name": "stdout",
     "output_type": "stream",
     "text": [
      "INFO:tensorflow:  name = n_blocks_5/w_init:0, shape = (4, 4), *INIT_FROM_CKPT*\n"
     ]
    },
    {
     "name": "stderr",
     "output_type": "stream",
     "text": [
      "INFO:tensorflow:  name = n_blocks_5/w_init:0, shape = (4, 4), *INIT_FROM_CKPT*\n"
     ]
    },
    {
     "name": "stdout",
     "output_type": "stream",
     "text": [
      "INFO:tensorflow:  name = n_blocks_6/logs:0, shape = (1, 1, 160), *INIT_FROM_CKPT*\n"
     ]
    },
    {
     "name": "stderr",
     "output_type": "stream",
     "text": [
      "INFO:tensorflow:  name = n_blocks_6/logs:0, shape = (1, 1, 160), *INIT_FROM_CKPT*\n"
     ]
    },
    {
     "name": "stdout",
     "output_type": "stream",
     "text": [
      "INFO:tensorflow:  name = n_blocks_6/bias:0, shape = (1, 1, 160), *INIT_FROM_CKPT*\n"
     ]
    },
    {
     "name": "stderr",
     "output_type": "stream",
     "text": [
      "INFO:tensorflow:  name = n_blocks_6/bias:0, shape = (1, 1, 160), *INIT_FROM_CKPT*\n"
     ]
    },
    {
     "name": "stdout",
     "output_type": "stream",
     "text": [
      "INFO:tensorflow:  name = n_blocks_6/w_init:0, shape = (4, 4), *INIT_FROM_CKPT*\n"
     ]
    },
    {
     "name": "stderr",
     "output_type": "stream",
     "text": [
      "INFO:tensorflow:  name = n_blocks_6/w_init:0, shape = (4, 4), *INIT_FROM_CKPT*\n"
     ]
    },
    {
     "name": "stdout",
     "output_type": "stream",
     "text": [
      "INFO:tensorflow:  name = n_blocks_7/logs:0, shape = (1, 1, 160), *INIT_FROM_CKPT*\n"
     ]
    },
    {
     "name": "stderr",
     "output_type": "stream",
     "text": [
      "INFO:tensorflow:  name = n_blocks_7/logs:0, shape = (1, 1, 160), *INIT_FROM_CKPT*\n"
     ]
    },
    {
     "name": "stdout",
     "output_type": "stream",
     "text": [
      "INFO:tensorflow:  name = n_blocks_7/bias:0, shape = (1, 1, 160), *INIT_FROM_CKPT*\n"
     ]
    },
    {
     "name": "stderr",
     "output_type": "stream",
     "text": [
      "INFO:tensorflow:  name = n_blocks_7/bias:0, shape = (1, 1, 160), *INIT_FROM_CKPT*\n"
     ]
    },
    {
     "name": "stdout",
     "output_type": "stream",
     "text": [
      "INFO:tensorflow:  name = n_blocks_7/w_init:0, shape = (4, 4), *INIT_FROM_CKPT*\n"
     ]
    },
    {
     "name": "stderr",
     "output_type": "stream",
     "text": [
      "INFO:tensorflow:  name = n_blocks_7/w_init:0, shape = (4, 4), *INIT_FROM_CKPT*\n"
     ]
    },
    {
     "name": "stdout",
     "output_type": "stream",
     "text": [
      "INFO:tensorflow:  name = n_blocks_8/logs:0, shape = (1, 1, 160), *INIT_FROM_CKPT*\n"
     ]
    },
    {
     "name": "stderr",
     "output_type": "stream",
     "text": [
      "INFO:tensorflow:  name = n_blocks_8/logs:0, shape = (1, 1, 160), *INIT_FROM_CKPT*\n"
     ]
    },
    {
     "name": "stdout",
     "output_type": "stream",
     "text": [
      "INFO:tensorflow:  name = n_blocks_8/bias:0, shape = (1, 1, 160), *INIT_FROM_CKPT*\n"
     ]
    },
    {
     "name": "stderr",
     "output_type": "stream",
     "text": [
      "INFO:tensorflow:  name = n_blocks_8/bias:0, shape = (1, 1, 160), *INIT_FROM_CKPT*\n"
     ]
    },
    {
     "name": "stdout",
     "output_type": "stream",
     "text": [
      "INFO:tensorflow:  name = n_blocks_8/w_init:0, shape = (4, 4), *INIT_FROM_CKPT*\n"
     ]
    },
    {
     "name": "stderr",
     "output_type": "stream",
     "text": [
      "INFO:tensorflow:  name = n_blocks_8/w_init:0, shape = (4, 4), *INIT_FROM_CKPT*\n"
     ]
    },
    {
     "name": "stdout",
     "output_type": "stream",
     "text": [
      "INFO:tensorflow:  name = n_blocks_9/logs:0, shape = (1, 1, 160), *INIT_FROM_CKPT*\n"
     ]
    },
    {
     "name": "stderr",
     "output_type": "stream",
     "text": [
      "INFO:tensorflow:  name = n_blocks_9/logs:0, shape = (1, 1, 160), *INIT_FROM_CKPT*\n"
     ]
    },
    {
     "name": "stdout",
     "output_type": "stream",
     "text": [
      "INFO:tensorflow:  name = n_blocks_9/bias:0, shape = (1, 1, 160), *INIT_FROM_CKPT*\n"
     ]
    },
    {
     "name": "stderr",
     "output_type": "stream",
     "text": [
      "INFO:tensorflow:  name = n_blocks_9/bias:0, shape = (1, 1, 160), *INIT_FROM_CKPT*\n"
     ]
    },
    {
     "name": "stdout",
     "output_type": "stream",
     "text": [
      "INFO:tensorflow:  name = n_blocks_9/w_init:0, shape = (4, 4), *INIT_FROM_CKPT*\n"
     ]
    },
    {
     "name": "stderr",
     "output_type": "stream",
     "text": [
      "INFO:tensorflow:  name = n_blocks_9/w_init:0, shape = (4, 4), *INIT_FROM_CKPT*\n"
     ]
    },
    {
     "name": "stdout",
     "output_type": "stream",
     "text": [
      "INFO:tensorflow:  name = n_blocks_10/logs:0, shape = (1, 1, 160), *INIT_FROM_CKPT*\n"
     ]
    },
    {
     "name": "stderr",
     "output_type": "stream",
     "text": [
      "INFO:tensorflow:  name = n_blocks_10/logs:0, shape = (1, 1, 160), *INIT_FROM_CKPT*\n"
     ]
    },
    {
     "name": "stdout",
     "output_type": "stream",
     "text": [
      "INFO:tensorflow:  name = n_blocks_10/bias:0, shape = (1, 1, 160), *INIT_FROM_CKPT*\n"
     ]
    },
    {
     "name": "stderr",
     "output_type": "stream",
     "text": [
      "INFO:tensorflow:  name = n_blocks_10/bias:0, shape = (1, 1, 160), *INIT_FROM_CKPT*\n"
     ]
    },
    {
     "name": "stdout",
     "output_type": "stream",
     "text": [
      "INFO:tensorflow:  name = n_blocks_10/w_init:0, shape = (4, 4), *INIT_FROM_CKPT*\n"
     ]
    },
    {
     "name": "stderr",
     "output_type": "stream",
     "text": [
      "INFO:tensorflow:  name = n_blocks_10/w_init:0, shape = (4, 4), *INIT_FROM_CKPT*\n"
     ]
    },
    {
     "name": "stdout",
     "output_type": "stream",
     "text": [
      "INFO:tensorflow:  name = n_blocks_11/logs:0, shape = (1, 1, 160), *INIT_FROM_CKPT*\n"
     ]
    },
    {
     "name": "stderr",
     "output_type": "stream",
     "text": [
      "INFO:tensorflow:  name = n_blocks_11/logs:0, shape = (1, 1, 160), *INIT_FROM_CKPT*\n"
     ]
    },
    {
     "name": "stdout",
     "output_type": "stream",
     "text": [
      "INFO:tensorflow:  name = n_blocks_11/bias:0, shape = (1, 1, 160), *INIT_FROM_CKPT*\n"
     ]
    },
    {
     "name": "stderr",
     "output_type": "stream",
     "text": [
      "INFO:tensorflow:  name = n_blocks_11/bias:0, shape = (1, 1, 160), *INIT_FROM_CKPT*\n"
     ]
    },
    {
     "name": "stdout",
     "output_type": "stream",
     "text": [
      "INFO:tensorflow:  name = n_blocks_11/w_init:0, shape = (4, 4), *INIT_FROM_CKPT*\n"
     ]
    },
    {
     "name": "stderr",
     "output_type": "stream",
     "text": [
      "INFO:tensorflow:  name = n_blocks_11/w_init:0, shape = (4, 4), *INIT_FROM_CKPT*\n"
     ]
    },
    {
     "name": "stdout",
     "output_type": "stream",
     "text": [
      "INFO:tensorflow:  name = n_blocks_12/logs:0, shape = (1, 1, 160), *INIT_FROM_CKPT*\n"
     ]
    },
    {
     "name": "stderr",
     "output_type": "stream",
     "text": [
      "INFO:tensorflow:  name = n_blocks_12/logs:0, shape = (1, 1, 160), *INIT_FROM_CKPT*\n"
     ]
    },
    {
     "name": "stdout",
     "output_type": "stream",
     "text": [
      "INFO:tensorflow:  name = n_blocks_12/bias:0, shape = (1, 1, 160), *INIT_FROM_CKPT*\n"
     ]
    },
    {
     "name": "stderr",
     "output_type": "stream",
     "text": [
      "INFO:tensorflow:  name = n_blocks_12/bias:0, shape = (1, 1, 160), *INIT_FROM_CKPT*\n"
     ]
    },
    {
     "name": "stdout",
     "output_type": "stream",
     "text": [
      "INFO:tensorflow:  name = n_blocks_12/w_init:0, shape = (4, 4), *INIT_FROM_CKPT*\n"
     ]
    },
    {
     "name": "stderr",
     "output_type": "stream",
     "text": [
      "INFO:tensorflow:  name = n_blocks_12/w_init:0, shape = (4, 4), *INIT_FROM_CKPT*\n"
     ]
    },
    {
     "name": "stdout",
     "output_type": "stream",
     "text": [
      "INFO:tensorflow:  name = weight:0, shape = (66, 192), *INIT_FROM_CKPT*\n"
     ]
    },
    {
     "name": "stderr",
     "output_type": "stream",
     "text": [
      "INFO:tensorflow:  name = weight:0, shape = (66, 192), *INIT_FROM_CKPT*\n"
     ]
    },
    {
     "name": "stdout",
     "output_type": "stream",
     "text": [
      "INFO:tensorflow:  name = glowtts/Encoder/embeddings/position_embeddings/embeddings:0, shape = (2049, 192), *INIT_FROM_CKPT*\n"
     ]
    },
    {
     "name": "stderr",
     "output_type": "stream",
     "text": [
      "INFO:tensorflow:  name = glowtts/Encoder/embeddings/position_embeddings/embeddings:0, shape = (2049, 192), *INIT_FROM_CKPT*\n"
     ]
    },
    {
     "name": "stdout",
     "output_type": "stream",
     "text": [
      "INFO:tensorflow:  name = glowtts/Encoder/ConvReluNorm_0/conv_._0/kernel:0, shape = (5, 192, 192), *INIT_FROM_CKPT*\n"
     ]
    },
    {
     "name": "stderr",
     "output_type": "stream",
     "text": [
      "INFO:tensorflow:  name = glowtts/Encoder/ConvReluNorm_0/conv_._0/kernel:0, shape = (5, 192, 192), *INIT_FROM_CKPT*\n"
     ]
    },
    {
     "name": "stdout",
     "output_type": "stream",
     "text": [
      "INFO:tensorflow:  name = glowtts/Encoder/ConvReluNorm_0/conv_._0/bias:0, shape = (192,), *INIT_FROM_CKPT*\n"
     ]
    },
    {
     "name": "stderr",
     "output_type": "stream",
     "text": [
      "INFO:tensorflow:  name = glowtts/Encoder/ConvReluNorm_0/conv_._0/bias:0, shape = (192,), *INIT_FROM_CKPT*\n"
     ]
    },
    {
     "name": "stdout",
     "output_type": "stream",
     "text": [
      "INFO:tensorflow:  name = glowtts/Encoder/ConvReluNorm_0/conv_._1/kernel:0, shape = (5, 192, 192), *INIT_FROM_CKPT*\n"
     ]
    },
    {
     "name": "stderr",
     "output_type": "stream",
     "text": [
      "INFO:tensorflow:  name = glowtts/Encoder/ConvReluNorm_0/conv_._1/kernel:0, shape = (5, 192, 192), *INIT_FROM_CKPT*\n"
     ]
    },
    {
     "name": "stdout",
     "output_type": "stream",
     "text": [
      "INFO:tensorflow:  name = glowtts/Encoder/ConvReluNorm_0/conv_._1/bias:0, shape = (192,), *INIT_FROM_CKPT*\n"
     ]
    },
    {
     "name": "stderr",
     "output_type": "stream",
     "text": [
      "INFO:tensorflow:  name = glowtts/Encoder/ConvReluNorm_0/conv_._1/bias:0, shape = (192,), *INIT_FROM_CKPT*\n"
     ]
    },
    {
     "name": "stdout",
     "output_type": "stream",
     "text": [
      "INFO:tensorflow:  name = glowtts/Encoder/ConvReluNorm_0/conv_._2/kernel:0, shape = (5, 192, 192), *INIT_FROM_CKPT*\n"
     ]
    },
    {
     "name": "stderr",
     "output_type": "stream",
     "text": [
      "INFO:tensorflow:  name = glowtts/Encoder/ConvReluNorm_0/conv_._2/kernel:0, shape = (5, 192, 192), *INIT_FROM_CKPT*\n"
     ]
    },
    {
     "name": "stdout",
     "output_type": "stream",
     "text": [
      "INFO:tensorflow:  name = glowtts/Encoder/ConvReluNorm_0/conv_._2/bias:0, shape = (192,), *INIT_FROM_CKPT*\n"
     ]
    },
    {
     "name": "stderr",
     "output_type": "stream",
     "text": [
      "INFO:tensorflow:  name = glowtts/Encoder/ConvReluNorm_0/conv_._2/bias:0, shape = (192,), *INIT_FROM_CKPT*\n"
     ]
    },
    {
     "name": "stdout",
     "output_type": "stream",
     "text": [
      "INFO:tensorflow:  name = glowtts/Encoder/ConvReluNorm_0/LayerNorm_._2/gamma:0, shape = (192,), *INIT_FROM_CKPT*\n"
     ]
    },
    {
     "name": "stderr",
     "output_type": "stream",
     "text": [
      "INFO:tensorflow:  name = glowtts/Encoder/ConvReluNorm_0/LayerNorm_._2/gamma:0, shape = (192,), *INIT_FROM_CKPT*\n"
     ]
    },
    {
     "name": "stdout",
     "output_type": "stream",
     "text": [
      "INFO:tensorflow:  name = glowtts/Encoder/ConvReluNorm_0/LayerNorm_._2/beta:0, shape = (192,), *INIT_FROM_CKPT*\n"
     ]
    },
    {
     "name": "stderr",
     "output_type": "stream",
     "text": [
      "INFO:tensorflow:  name = glowtts/Encoder/ConvReluNorm_0/LayerNorm_._2/beta:0, shape = (192,), *INIT_FROM_CKPT*\n"
     ]
    },
    {
     "name": "stdout",
     "output_type": "stream",
     "text": [
      "INFO:tensorflow:  name = glowtts/Encoder/ConvReluNorm_0/conv1d/kernel:0, shape = (1, 192, 192), *INIT_FROM_CKPT*\n"
     ]
    },
    {
     "name": "stderr",
     "output_type": "stream",
     "text": [
      "INFO:tensorflow:  name = glowtts/Encoder/ConvReluNorm_0/conv1d/kernel:0, shape = (1, 192, 192), *INIT_FROM_CKPT*\n"
     ]
    },
    {
     "name": "stdout",
     "output_type": "stream",
     "text": [
      "INFO:tensorflow:  name = glowtts/Encoder/ConvReluNorm_0/conv1d/bias:0, shape = (192,), *INIT_FROM_CKPT*\n"
     ]
    },
    {
     "name": "stderr",
     "output_type": "stream",
     "text": [
      "INFO:tensorflow:  name = glowtts/Encoder/ConvReluNorm_0/conv1d/bias:0, shape = (192,), *INIT_FROM_CKPT*\n"
     ]
    },
    {
     "name": "stdout",
     "output_type": "stream",
     "text": [
      "INFO:tensorflow:  name = glowtts/Encoder/encoder/layer_._0/attention/self/query/kernel:0, shape = (192, 64), *INIT_FROM_CKPT*\n"
     ]
    },
    {
     "name": "stderr",
     "output_type": "stream",
     "text": [
      "INFO:tensorflow:  name = glowtts/Encoder/encoder/layer_._0/attention/self/query/kernel:0, shape = (192, 64), *INIT_FROM_CKPT*\n"
     ]
    },
    {
     "name": "stdout",
     "output_type": "stream",
     "text": [
      "INFO:tensorflow:  name = glowtts/Encoder/encoder/layer_._0/attention/self/query/bias:0, shape = (64,), *INIT_FROM_CKPT*\n"
     ]
    },
    {
     "name": "stderr",
     "output_type": "stream",
     "text": [
      "INFO:tensorflow:  name = glowtts/Encoder/encoder/layer_._0/attention/self/query/bias:0, shape = (64,), *INIT_FROM_CKPT*\n"
     ]
    },
    {
     "name": "stdout",
     "output_type": "stream",
     "text": [
      "INFO:tensorflow:  name = glowtts/Encoder/encoder/layer_._0/attention/self/key/kernel:0, shape = (192, 64), *INIT_FROM_CKPT*\n"
     ]
    },
    {
     "name": "stderr",
     "output_type": "stream",
     "text": [
      "INFO:tensorflow:  name = glowtts/Encoder/encoder/layer_._0/attention/self/key/kernel:0, shape = (192, 64), *INIT_FROM_CKPT*\n"
     ]
    },
    {
     "name": "stdout",
     "output_type": "stream",
     "text": [
      "INFO:tensorflow:  name = glowtts/Encoder/encoder/layer_._0/attention/self/key/bias:0, shape = (64,), *INIT_FROM_CKPT*\n"
     ]
    },
    {
     "name": "stderr",
     "output_type": "stream",
     "text": [
      "INFO:tensorflow:  name = glowtts/Encoder/encoder/layer_._0/attention/self/key/bias:0, shape = (64,), *INIT_FROM_CKPT*\n"
     ]
    },
    {
     "name": "stdout",
     "output_type": "stream",
     "text": [
      "INFO:tensorflow:  name = glowtts/Encoder/encoder/layer_._0/attention/self/value/kernel:0, shape = (192, 64), *INIT_FROM_CKPT*\n"
     ]
    },
    {
     "name": "stderr",
     "output_type": "stream",
     "text": [
      "INFO:tensorflow:  name = glowtts/Encoder/encoder/layer_._0/attention/self/value/kernel:0, shape = (192, 64), *INIT_FROM_CKPT*\n"
     ]
    },
    {
     "name": "stdout",
     "output_type": "stream",
     "text": [
      "INFO:tensorflow:  name = glowtts/Encoder/encoder/layer_._0/attention/self/value/bias:0, shape = (64,), *INIT_FROM_CKPT*\n"
     ]
    },
    {
     "name": "stderr",
     "output_type": "stream",
     "text": [
      "INFO:tensorflow:  name = glowtts/Encoder/encoder/layer_._0/attention/self/value/bias:0, shape = (64,), *INIT_FROM_CKPT*\n"
     ]
    },
    {
     "name": "stdout",
     "output_type": "stream",
     "text": [
      "INFO:tensorflow:  name = glowtts/Encoder/encoder/layer_._0/attention/output/dense/kernel:0, shape = (64, 192), *INIT_FROM_CKPT*\n"
     ]
    },
    {
     "name": "stderr",
     "output_type": "stream",
     "text": [
      "INFO:tensorflow:  name = glowtts/Encoder/encoder/layer_._0/attention/output/dense/kernel:0, shape = (64, 192), *INIT_FROM_CKPT*\n"
     ]
    },
    {
     "name": "stdout",
     "output_type": "stream",
     "text": [
      "INFO:tensorflow:  name = glowtts/Encoder/encoder/layer_._0/attention/output/dense/bias:0, shape = (192,), *INIT_FROM_CKPT*\n"
     ]
    },
    {
     "name": "stderr",
     "output_type": "stream",
     "text": [
      "INFO:tensorflow:  name = glowtts/Encoder/encoder/layer_._0/attention/output/dense/bias:0, shape = (192,), *INIT_FROM_CKPT*\n"
     ]
    },
    {
     "name": "stdout",
     "output_type": "stream",
     "text": [
      "INFO:tensorflow:  name = glowtts/Encoder/encoder/layer_._0/attention/output/LayerNorm/gamma:0, shape = (192,), *INIT_FROM_CKPT*\n"
     ]
    },
    {
     "name": "stderr",
     "output_type": "stream",
     "text": [
      "INFO:tensorflow:  name = glowtts/Encoder/encoder/layer_._0/attention/output/LayerNorm/gamma:0, shape = (192,), *INIT_FROM_CKPT*\n"
     ]
    },
    {
     "name": "stdout",
     "output_type": "stream",
     "text": [
      "INFO:tensorflow:  name = glowtts/Encoder/encoder/layer_._0/attention/output/LayerNorm/beta:0, shape = (192,), *INIT_FROM_CKPT*\n"
     ]
    },
    {
     "name": "stderr",
     "output_type": "stream",
     "text": [
      "INFO:tensorflow:  name = glowtts/Encoder/encoder/layer_._0/attention/output/LayerNorm/beta:0, shape = (192,), *INIT_FROM_CKPT*\n"
     ]
    },
    {
     "name": "stdout",
     "output_type": "stream",
     "text": [
      "INFO:tensorflow:  name = glowtts/Encoder/encoder/layer_._0/intermediate/conv1d_1/kernel:0, shape = (3, 192, 768), *INIT_FROM_CKPT*\n"
     ]
    },
    {
     "name": "stderr",
     "output_type": "stream",
     "text": [
      "INFO:tensorflow:  name = glowtts/Encoder/encoder/layer_._0/intermediate/conv1d_1/kernel:0, shape = (3, 192, 768), *INIT_FROM_CKPT*\n"
     ]
    },
    {
     "name": "stdout",
     "output_type": "stream",
     "text": [
      "INFO:tensorflow:  name = glowtts/Encoder/encoder/layer_._0/intermediate/conv1d_1/bias:0, shape = (768,), *INIT_FROM_CKPT*\n"
     ]
    },
    {
     "name": "stderr",
     "output_type": "stream",
     "text": [
      "INFO:tensorflow:  name = glowtts/Encoder/encoder/layer_._0/intermediate/conv1d_1/bias:0, shape = (768,), *INIT_FROM_CKPT*\n"
     ]
    },
    {
     "name": "stdout",
     "output_type": "stream",
     "text": [
      "INFO:tensorflow:  name = glowtts/Encoder/encoder/layer_._0/intermediate/conv1d_2/kernel:0, shape = (3, 768, 192), *INIT_FROM_CKPT*\n"
     ]
    },
    {
     "name": "stderr",
     "output_type": "stream",
     "text": [
      "INFO:tensorflow:  name = glowtts/Encoder/encoder/layer_._0/intermediate/conv1d_2/kernel:0, shape = (3, 768, 192), *INIT_FROM_CKPT*\n"
     ]
    },
    {
     "name": "stdout",
     "output_type": "stream",
     "text": [
      "INFO:tensorflow:  name = glowtts/Encoder/encoder/layer_._0/intermediate/conv1d_2/bias:0, shape = (192,), *INIT_FROM_CKPT*\n"
     ]
    },
    {
     "name": "stderr",
     "output_type": "stream",
     "text": [
      "INFO:tensorflow:  name = glowtts/Encoder/encoder/layer_._0/intermediate/conv1d_2/bias:0, shape = (192,), *INIT_FROM_CKPT*\n"
     ]
    },
    {
     "name": "stdout",
     "output_type": "stream",
     "text": [
      "INFO:tensorflow:  name = glowtts/Encoder/encoder/layer_._0/output/LayerNorm/gamma:0, shape = (192,), *INIT_FROM_CKPT*\n"
     ]
    },
    {
     "name": "stderr",
     "output_type": "stream",
     "text": [
      "INFO:tensorflow:  name = glowtts/Encoder/encoder/layer_._0/output/LayerNorm/gamma:0, shape = (192,), *INIT_FROM_CKPT*\n"
     ]
    },
    {
     "name": "stdout",
     "output_type": "stream",
     "text": [
      "INFO:tensorflow:  name = glowtts/Encoder/encoder/layer_._0/output/LayerNorm/beta:0, shape = (192,), *INIT_FROM_CKPT*\n"
     ]
    },
    {
     "name": "stderr",
     "output_type": "stream",
     "text": [
      "INFO:tensorflow:  name = glowtts/Encoder/encoder/layer_._0/output/LayerNorm/beta:0, shape = (192,), *INIT_FROM_CKPT*\n"
     ]
    },
    {
     "name": "stdout",
     "output_type": "stream",
     "text": [
      "INFO:tensorflow:  name = glowtts/Encoder/encoder/layer_._1/attention/self/query/kernel:0, shape = (192, 64), *INIT_FROM_CKPT*\n"
     ]
    },
    {
     "name": "stderr",
     "output_type": "stream",
     "text": [
      "INFO:tensorflow:  name = glowtts/Encoder/encoder/layer_._1/attention/self/query/kernel:0, shape = (192, 64), *INIT_FROM_CKPT*\n"
     ]
    },
    {
     "name": "stdout",
     "output_type": "stream",
     "text": [
      "INFO:tensorflow:  name = glowtts/Encoder/encoder/layer_._1/attention/self/query/bias:0, shape = (64,), *INIT_FROM_CKPT*\n"
     ]
    },
    {
     "name": "stderr",
     "output_type": "stream",
     "text": [
      "INFO:tensorflow:  name = glowtts/Encoder/encoder/layer_._1/attention/self/query/bias:0, shape = (64,), *INIT_FROM_CKPT*\n"
     ]
    },
    {
     "name": "stdout",
     "output_type": "stream",
     "text": [
      "INFO:tensorflow:  name = glowtts/Encoder/encoder/layer_._1/attention/self/key/kernel:0, shape = (192, 64), *INIT_FROM_CKPT*\n"
     ]
    },
    {
     "name": "stderr",
     "output_type": "stream",
     "text": [
      "INFO:tensorflow:  name = glowtts/Encoder/encoder/layer_._1/attention/self/key/kernel:0, shape = (192, 64), *INIT_FROM_CKPT*\n"
     ]
    },
    {
     "name": "stdout",
     "output_type": "stream",
     "text": [
      "INFO:tensorflow:  name = glowtts/Encoder/encoder/layer_._1/attention/self/key/bias:0, shape = (64,), *INIT_FROM_CKPT*\n"
     ]
    },
    {
     "name": "stderr",
     "output_type": "stream",
     "text": [
      "INFO:tensorflow:  name = glowtts/Encoder/encoder/layer_._1/attention/self/key/bias:0, shape = (64,), *INIT_FROM_CKPT*\n"
     ]
    },
    {
     "name": "stdout",
     "output_type": "stream",
     "text": [
      "INFO:tensorflow:  name = glowtts/Encoder/encoder/layer_._1/attention/self/value/kernel:0, shape = (192, 64), *INIT_FROM_CKPT*\n"
     ]
    },
    {
     "name": "stderr",
     "output_type": "stream",
     "text": [
      "INFO:tensorflow:  name = glowtts/Encoder/encoder/layer_._1/attention/self/value/kernel:0, shape = (192, 64), *INIT_FROM_CKPT*\n"
     ]
    },
    {
     "name": "stdout",
     "output_type": "stream",
     "text": [
      "INFO:tensorflow:  name = glowtts/Encoder/encoder/layer_._1/attention/self/value/bias:0, shape = (64,), *INIT_FROM_CKPT*\n"
     ]
    },
    {
     "name": "stderr",
     "output_type": "stream",
     "text": [
      "INFO:tensorflow:  name = glowtts/Encoder/encoder/layer_._1/attention/self/value/bias:0, shape = (64,), *INIT_FROM_CKPT*\n"
     ]
    },
    {
     "name": "stdout",
     "output_type": "stream",
     "text": [
      "INFO:tensorflow:  name = glowtts/Encoder/encoder/layer_._1/attention/output/dense/kernel:0, shape = (64, 192), *INIT_FROM_CKPT*\n"
     ]
    },
    {
     "name": "stderr",
     "output_type": "stream",
     "text": [
      "INFO:tensorflow:  name = glowtts/Encoder/encoder/layer_._1/attention/output/dense/kernel:0, shape = (64, 192), *INIT_FROM_CKPT*\n"
     ]
    },
    {
     "name": "stdout",
     "output_type": "stream",
     "text": [
      "INFO:tensorflow:  name = glowtts/Encoder/encoder/layer_._1/attention/output/dense/bias:0, shape = (192,), *INIT_FROM_CKPT*\n"
     ]
    },
    {
     "name": "stderr",
     "output_type": "stream",
     "text": [
      "INFO:tensorflow:  name = glowtts/Encoder/encoder/layer_._1/attention/output/dense/bias:0, shape = (192,), *INIT_FROM_CKPT*\n"
     ]
    },
    {
     "name": "stdout",
     "output_type": "stream",
     "text": [
      "INFO:tensorflow:  name = glowtts/Encoder/encoder/layer_._1/attention/output/LayerNorm/gamma:0, shape = (192,), *INIT_FROM_CKPT*\n"
     ]
    },
    {
     "name": "stderr",
     "output_type": "stream",
     "text": [
      "INFO:tensorflow:  name = glowtts/Encoder/encoder/layer_._1/attention/output/LayerNorm/gamma:0, shape = (192,), *INIT_FROM_CKPT*\n"
     ]
    },
    {
     "name": "stdout",
     "output_type": "stream",
     "text": [
      "INFO:tensorflow:  name = glowtts/Encoder/encoder/layer_._1/attention/output/LayerNorm/beta:0, shape = (192,), *INIT_FROM_CKPT*\n"
     ]
    },
    {
     "name": "stderr",
     "output_type": "stream",
     "text": [
      "INFO:tensorflow:  name = glowtts/Encoder/encoder/layer_._1/attention/output/LayerNorm/beta:0, shape = (192,), *INIT_FROM_CKPT*\n"
     ]
    },
    {
     "name": "stdout",
     "output_type": "stream",
     "text": [
      "INFO:tensorflow:  name = glowtts/Encoder/encoder/layer_._1/intermediate/conv1d_1/kernel:0, shape = (3, 192, 768), *INIT_FROM_CKPT*\n"
     ]
    },
    {
     "name": "stderr",
     "output_type": "stream",
     "text": [
      "INFO:tensorflow:  name = glowtts/Encoder/encoder/layer_._1/intermediate/conv1d_1/kernel:0, shape = (3, 192, 768), *INIT_FROM_CKPT*\n"
     ]
    },
    {
     "name": "stdout",
     "output_type": "stream",
     "text": [
      "INFO:tensorflow:  name = glowtts/Encoder/encoder/layer_._1/intermediate/conv1d_1/bias:0, shape = (768,), *INIT_FROM_CKPT*\n"
     ]
    },
    {
     "name": "stderr",
     "output_type": "stream",
     "text": [
      "INFO:tensorflow:  name = glowtts/Encoder/encoder/layer_._1/intermediate/conv1d_1/bias:0, shape = (768,), *INIT_FROM_CKPT*\n"
     ]
    },
    {
     "name": "stdout",
     "output_type": "stream",
     "text": [
      "INFO:tensorflow:  name = glowtts/Encoder/encoder/layer_._1/intermediate/conv1d_2/kernel:0, shape = (3, 768, 192), *INIT_FROM_CKPT*\n"
     ]
    },
    {
     "name": "stderr",
     "output_type": "stream",
     "text": [
      "INFO:tensorflow:  name = glowtts/Encoder/encoder/layer_._1/intermediate/conv1d_2/kernel:0, shape = (3, 768, 192), *INIT_FROM_CKPT*\n"
     ]
    },
    {
     "name": "stdout",
     "output_type": "stream",
     "text": [
      "INFO:tensorflow:  name = glowtts/Encoder/encoder/layer_._1/intermediate/conv1d_2/bias:0, shape = (192,), *INIT_FROM_CKPT*\n"
     ]
    },
    {
     "name": "stderr",
     "output_type": "stream",
     "text": [
      "INFO:tensorflow:  name = glowtts/Encoder/encoder/layer_._1/intermediate/conv1d_2/bias:0, shape = (192,), *INIT_FROM_CKPT*\n"
     ]
    },
    {
     "name": "stdout",
     "output_type": "stream",
     "text": [
      "INFO:tensorflow:  name = glowtts/Encoder/encoder/layer_._1/output/LayerNorm/gamma:0, shape = (192,), *INIT_FROM_CKPT*\n"
     ]
    },
    {
     "name": "stderr",
     "output_type": "stream",
     "text": [
      "INFO:tensorflow:  name = glowtts/Encoder/encoder/layer_._1/output/LayerNorm/gamma:0, shape = (192,), *INIT_FROM_CKPT*\n"
     ]
    },
    {
     "name": "stdout",
     "output_type": "stream",
     "text": [
      "INFO:tensorflow:  name = glowtts/Encoder/encoder/layer_._1/output/LayerNorm/beta:0, shape = (192,), *INIT_FROM_CKPT*\n"
     ]
    },
    {
     "name": "stderr",
     "output_type": "stream",
     "text": [
      "INFO:tensorflow:  name = glowtts/Encoder/encoder/layer_._1/output/LayerNorm/beta:0, shape = (192,), *INIT_FROM_CKPT*\n"
     ]
    },
    {
     "name": "stdout",
     "output_type": "stream",
     "text": [
      "INFO:tensorflow:  name = glowtts/Encoder/encoder/layer_._2/attention/self/query/kernel:0, shape = (192, 64), *INIT_FROM_CKPT*\n"
     ]
    },
    {
     "name": "stderr",
     "output_type": "stream",
     "text": [
      "INFO:tensorflow:  name = glowtts/Encoder/encoder/layer_._2/attention/self/query/kernel:0, shape = (192, 64), *INIT_FROM_CKPT*\n"
     ]
    },
    {
     "name": "stdout",
     "output_type": "stream",
     "text": [
      "INFO:tensorflow:  name = glowtts/Encoder/encoder/layer_._2/attention/self/query/bias:0, shape = (64,), *INIT_FROM_CKPT*\n"
     ]
    },
    {
     "name": "stderr",
     "output_type": "stream",
     "text": [
      "INFO:tensorflow:  name = glowtts/Encoder/encoder/layer_._2/attention/self/query/bias:0, shape = (64,), *INIT_FROM_CKPT*\n"
     ]
    },
    {
     "name": "stdout",
     "output_type": "stream",
     "text": [
      "INFO:tensorflow:  name = glowtts/Encoder/encoder/layer_._2/attention/self/key/kernel:0, shape = (192, 64), *INIT_FROM_CKPT*\n"
     ]
    },
    {
     "name": "stderr",
     "output_type": "stream",
     "text": [
      "INFO:tensorflow:  name = glowtts/Encoder/encoder/layer_._2/attention/self/key/kernel:0, shape = (192, 64), *INIT_FROM_CKPT*\n"
     ]
    },
    {
     "name": "stdout",
     "output_type": "stream",
     "text": [
      "INFO:tensorflow:  name = glowtts/Encoder/encoder/layer_._2/attention/self/key/bias:0, shape = (64,), *INIT_FROM_CKPT*\n"
     ]
    },
    {
     "name": "stderr",
     "output_type": "stream",
     "text": [
      "INFO:tensorflow:  name = glowtts/Encoder/encoder/layer_._2/attention/self/key/bias:0, shape = (64,), *INIT_FROM_CKPT*\n"
     ]
    },
    {
     "name": "stdout",
     "output_type": "stream",
     "text": [
      "INFO:tensorflow:  name = glowtts/Encoder/encoder/layer_._2/attention/self/value/kernel:0, shape = (192, 64), *INIT_FROM_CKPT*\n"
     ]
    },
    {
     "name": "stderr",
     "output_type": "stream",
     "text": [
      "INFO:tensorflow:  name = glowtts/Encoder/encoder/layer_._2/attention/self/value/kernel:0, shape = (192, 64), *INIT_FROM_CKPT*\n"
     ]
    },
    {
     "name": "stdout",
     "output_type": "stream",
     "text": [
      "INFO:tensorflow:  name = glowtts/Encoder/encoder/layer_._2/attention/self/value/bias:0, shape = (64,), *INIT_FROM_CKPT*\n"
     ]
    },
    {
     "name": "stderr",
     "output_type": "stream",
     "text": [
      "INFO:tensorflow:  name = glowtts/Encoder/encoder/layer_._2/attention/self/value/bias:0, shape = (64,), *INIT_FROM_CKPT*\n"
     ]
    },
    {
     "name": "stdout",
     "output_type": "stream",
     "text": [
      "INFO:tensorflow:  name = glowtts/Encoder/encoder/layer_._2/attention/output/dense/kernel:0, shape = (64, 192), *INIT_FROM_CKPT*\n"
     ]
    },
    {
     "name": "stderr",
     "output_type": "stream",
     "text": [
      "INFO:tensorflow:  name = glowtts/Encoder/encoder/layer_._2/attention/output/dense/kernel:0, shape = (64, 192), *INIT_FROM_CKPT*\n"
     ]
    },
    {
     "name": "stdout",
     "output_type": "stream",
     "text": [
      "INFO:tensorflow:  name = glowtts/Encoder/encoder/layer_._2/attention/output/dense/bias:0, shape = (192,), *INIT_FROM_CKPT*\n"
     ]
    },
    {
     "name": "stderr",
     "output_type": "stream",
     "text": [
      "INFO:tensorflow:  name = glowtts/Encoder/encoder/layer_._2/attention/output/dense/bias:0, shape = (192,), *INIT_FROM_CKPT*\n"
     ]
    },
    {
     "name": "stdout",
     "output_type": "stream",
     "text": [
      "INFO:tensorflow:  name = glowtts/Encoder/encoder/layer_._2/attention/output/LayerNorm/gamma:0, shape = (192,), *INIT_FROM_CKPT*\n"
     ]
    },
    {
     "name": "stderr",
     "output_type": "stream",
     "text": [
      "INFO:tensorflow:  name = glowtts/Encoder/encoder/layer_._2/attention/output/LayerNorm/gamma:0, shape = (192,), *INIT_FROM_CKPT*\n"
     ]
    },
    {
     "name": "stdout",
     "output_type": "stream",
     "text": [
      "INFO:tensorflow:  name = glowtts/Encoder/encoder/layer_._2/attention/output/LayerNorm/beta:0, shape = (192,), *INIT_FROM_CKPT*\n"
     ]
    },
    {
     "name": "stderr",
     "output_type": "stream",
     "text": [
      "INFO:tensorflow:  name = glowtts/Encoder/encoder/layer_._2/attention/output/LayerNorm/beta:0, shape = (192,), *INIT_FROM_CKPT*\n"
     ]
    },
    {
     "name": "stdout",
     "output_type": "stream",
     "text": [
      "INFO:tensorflow:  name = glowtts/Encoder/encoder/layer_._2/intermediate/conv1d_1/kernel:0, shape = (3, 192, 768), *INIT_FROM_CKPT*\n"
     ]
    },
    {
     "name": "stderr",
     "output_type": "stream",
     "text": [
      "INFO:tensorflow:  name = glowtts/Encoder/encoder/layer_._2/intermediate/conv1d_1/kernel:0, shape = (3, 192, 768), *INIT_FROM_CKPT*\n"
     ]
    },
    {
     "name": "stdout",
     "output_type": "stream",
     "text": [
      "INFO:tensorflow:  name = glowtts/Encoder/encoder/layer_._2/intermediate/conv1d_1/bias:0, shape = (768,), *INIT_FROM_CKPT*\n"
     ]
    },
    {
     "name": "stderr",
     "output_type": "stream",
     "text": [
      "INFO:tensorflow:  name = glowtts/Encoder/encoder/layer_._2/intermediate/conv1d_1/bias:0, shape = (768,), *INIT_FROM_CKPT*\n"
     ]
    },
    {
     "name": "stdout",
     "output_type": "stream",
     "text": [
      "INFO:tensorflow:  name = glowtts/Encoder/encoder/layer_._2/intermediate/conv1d_2/kernel:0, shape = (3, 768, 192), *INIT_FROM_CKPT*\n"
     ]
    },
    {
     "name": "stderr",
     "output_type": "stream",
     "text": [
      "INFO:tensorflow:  name = glowtts/Encoder/encoder/layer_._2/intermediate/conv1d_2/kernel:0, shape = (3, 768, 192), *INIT_FROM_CKPT*\n"
     ]
    },
    {
     "name": "stdout",
     "output_type": "stream",
     "text": [
      "INFO:tensorflow:  name = glowtts/Encoder/encoder/layer_._2/intermediate/conv1d_2/bias:0, shape = (192,), *INIT_FROM_CKPT*\n"
     ]
    },
    {
     "name": "stderr",
     "output_type": "stream",
     "text": [
      "INFO:tensorflow:  name = glowtts/Encoder/encoder/layer_._2/intermediate/conv1d_2/bias:0, shape = (192,), *INIT_FROM_CKPT*\n"
     ]
    },
    {
     "name": "stdout",
     "output_type": "stream",
     "text": [
      "INFO:tensorflow:  name = glowtts/Encoder/encoder/layer_._2/output/LayerNorm/gamma:0, shape = (192,), *INIT_FROM_CKPT*\n"
     ]
    },
    {
     "name": "stderr",
     "output_type": "stream",
     "text": [
      "INFO:tensorflow:  name = glowtts/Encoder/encoder/layer_._2/output/LayerNorm/gamma:0, shape = (192,), *INIT_FROM_CKPT*\n"
     ]
    },
    {
     "name": "stdout",
     "output_type": "stream",
     "text": [
      "INFO:tensorflow:  name = glowtts/Encoder/encoder/layer_._2/output/LayerNorm/beta:0, shape = (192,), *INIT_FROM_CKPT*\n"
     ]
    },
    {
     "name": "stderr",
     "output_type": "stream",
     "text": [
      "INFO:tensorflow:  name = glowtts/Encoder/encoder/layer_._2/output/LayerNorm/beta:0, shape = (192,), *INIT_FROM_CKPT*\n"
     ]
    },
    {
     "name": "stdout",
     "output_type": "stream",
     "text": [
      "INFO:tensorflow:  name = glowtts/Encoder/encoder/layer_._3/attention/self/query/kernel:0, shape = (192, 64), *INIT_FROM_CKPT*\n"
     ]
    },
    {
     "name": "stderr",
     "output_type": "stream",
     "text": [
      "INFO:tensorflow:  name = glowtts/Encoder/encoder/layer_._3/attention/self/query/kernel:0, shape = (192, 64), *INIT_FROM_CKPT*\n"
     ]
    },
    {
     "name": "stdout",
     "output_type": "stream",
     "text": [
      "INFO:tensorflow:  name = glowtts/Encoder/encoder/layer_._3/attention/self/query/bias:0, shape = (64,), *INIT_FROM_CKPT*\n"
     ]
    },
    {
     "name": "stderr",
     "output_type": "stream",
     "text": [
      "INFO:tensorflow:  name = glowtts/Encoder/encoder/layer_._3/attention/self/query/bias:0, shape = (64,), *INIT_FROM_CKPT*\n"
     ]
    },
    {
     "name": "stdout",
     "output_type": "stream",
     "text": [
      "INFO:tensorflow:  name = glowtts/Encoder/encoder/layer_._3/attention/self/key/kernel:0, shape = (192, 64), *INIT_FROM_CKPT*\n"
     ]
    },
    {
     "name": "stderr",
     "output_type": "stream",
     "text": [
      "INFO:tensorflow:  name = glowtts/Encoder/encoder/layer_._3/attention/self/key/kernel:0, shape = (192, 64), *INIT_FROM_CKPT*\n"
     ]
    },
    {
     "name": "stdout",
     "output_type": "stream",
     "text": [
      "INFO:tensorflow:  name = glowtts/Encoder/encoder/layer_._3/attention/self/key/bias:0, shape = (64,), *INIT_FROM_CKPT*\n"
     ]
    },
    {
     "name": "stderr",
     "output_type": "stream",
     "text": [
      "INFO:tensorflow:  name = glowtts/Encoder/encoder/layer_._3/attention/self/key/bias:0, shape = (64,), *INIT_FROM_CKPT*\n"
     ]
    },
    {
     "name": "stdout",
     "output_type": "stream",
     "text": [
      "INFO:tensorflow:  name = glowtts/Encoder/encoder/layer_._3/attention/self/value/kernel:0, shape = (192, 64), *INIT_FROM_CKPT*\n"
     ]
    },
    {
     "name": "stderr",
     "output_type": "stream",
     "text": [
      "INFO:tensorflow:  name = glowtts/Encoder/encoder/layer_._3/attention/self/value/kernel:0, shape = (192, 64), *INIT_FROM_CKPT*\n"
     ]
    },
    {
     "name": "stdout",
     "output_type": "stream",
     "text": [
      "INFO:tensorflow:  name = glowtts/Encoder/encoder/layer_._3/attention/self/value/bias:0, shape = (64,), *INIT_FROM_CKPT*\n"
     ]
    },
    {
     "name": "stderr",
     "output_type": "stream",
     "text": [
      "INFO:tensorflow:  name = glowtts/Encoder/encoder/layer_._3/attention/self/value/bias:0, shape = (64,), *INIT_FROM_CKPT*\n"
     ]
    },
    {
     "name": "stdout",
     "output_type": "stream",
     "text": [
      "INFO:tensorflow:  name = glowtts/Encoder/encoder/layer_._3/attention/output/dense/kernel:0, shape = (64, 192), *INIT_FROM_CKPT*\n"
     ]
    },
    {
     "name": "stderr",
     "output_type": "stream",
     "text": [
      "INFO:tensorflow:  name = glowtts/Encoder/encoder/layer_._3/attention/output/dense/kernel:0, shape = (64, 192), *INIT_FROM_CKPT*\n"
     ]
    },
    {
     "name": "stdout",
     "output_type": "stream",
     "text": [
      "INFO:tensorflow:  name = glowtts/Encoder/encoder/layer_._3/attention/output/dense/bias:0, shape = (192,), *INIT_FROM_CKPT*\n"
     ]
    },
    {
     "name": "stderr",
     "output_type": "stream",
     "text": [
      "INFO:tensorflow:  name = glowtts/Encoder/encoder/layer_._3/attention/output/dense/bias:0, shape = (192,), *INIT_FROM_CKPT*\n"
     ]
    },
    {
     "name": "stdout",
     "output_type": "stream",
     "text": [
      "INFO:tensorflow:  name = glowtts/Encoder/encoder/layer_._3/attention/output/LayerNorm/gamma:0, shape = (192,), *INIT_FROM_CKPT*\n"
     ]
    },
    {
     "name": "stderr",
     "output_type": "stream",
     "text": [
      "INFO:tensorflow:  name = glowtts/Encoder/encoder/layer_._3/attention/output/LayerNorm/gamma:0, shape = (192,), *INIT_FROM_CKPT*\n"
     ]
    },
    {
     "name": "stdout",
     "output_type": "stream",
     "text": [
      "INFO:tensorflow:  name = glowtts/Encoder/encoder/layer_._3/attention/output/LayerNorm/beta:0, shape = (192,), *INIT_FROM_CKPT*\n"
     ]
    },
    {
     "name": "stderr",
     "output_type": "stream",
     "text": [
      "INFO:tensorflow:  name = glowtts/Encoder/encoder/layer_._3/attention/output/LayerNorm/beta:0, shape = (192,), *INIT_FROM_CKPT*\n"
     ]
    },
    {
     "name": "stdout",
     "output_type": "stream",
     "text": [
      "INFO:tensorflow:  name = glowtts/Encoder/encoder/layer_._3/intermediate/conv1d_1/kernel:0, shape = (3, 192, 768), *INIT_FROM_CKPT*\n"
     ]
    },
    {
     "name": "stderr",
     "output_type": "stream",
     "text": [
      "INFO:tensorflow:  name = glowtts/Encoder/encoder/layer_._3/intermediate/conv1d_1/kernel:0, shape = (3, 192, 768), *INIT_FROM_CKPT*\n"
     ]
    },
    {
     "name": "stdout",
     "output_type": "stream",
     "text": [
      "INFO:tensorflow:  name = glowtts/Encoder/encoder/layer_._3/intermediate/conv1d_1/bias:0, shape = (768,), *INIT_FROM_CKPT*\n"
     ]
    },
    {
     "name": "stderr",
     "output_type": "stream",
     "text": [
      "INFO:tensorflow:  name = glowtts/Encoder/encoder/layer_._3/intermediate/conv1d_1/bias:0, shape = (768,), *INIT_FROM_CKPT*\n"
     ]
    },
    {
     "name": "stdout",
     "output_type": "stream",
     "text": [
      "INFO:tensorflow:  name = glowtts/Encoder/encoder/layer_._3/intermediate/conv1d_2/kernel:0, shape = (3, 768, 192), *INIT_FROM_CKPT*\n"
     ]
    },
    {
     "name": "stderr",
     "output_type": "stream",
     "text": [
      "INFO:tensorflow:  name = glowtts/Encoder/encoder/layer_._3/intermediate/conv1d_2/kernel:0, shape = (3, 768, 192), *INIT_FROM_CKPT*\n"
     ]
    },
    {
     "name": "stdout",
     "output_type": "stream",
     "text": [
      "INFO:tensorflow:  name = glowtts/Encoder/encoder/layer_._3/intermediate/conv1d_2/bias:0, shape = (192,), *INIT_FROM_CKPT*\n"
     ]
    },
    {
     "name": "stderr",
     "output_type": "stream",
     "text": [
      "INFO:tensorflow:  name = glowtts/Encoder/encoder/layer_._3/intermediate/conv1d_2/bias:0, shape = (192,), *INIT_FROM_CKPT*\n"
     ]
    },
    {
     "name": "stdout",
     "output_type": "stream",
     "text": [
      "INFO:tensorflow:  name = glowtts/Encoder/encoder/layer_._3/output/LayerNorm/gamma:0, shape = (192,), *INIT_FROM_CKPT*\n"
     ]
    },
    {
     "name": "stderr",
     "output_type": "stream",
     "text": [
      "INFO:tensorflow:  name = glowtts/Encoder/encoder/layer_._3/output/LayerNorm/gamma:0, shape = (192,), *INIT_FROM_CKPT*\n"
     ]
    },
    {
     "name": "stdout",
     "output_type": "stream",
     "text": [
      "INFO:tensorflow:  name = glowtts/Encoder/encoder/layer_._3/output/LayerNorm/beta:0, shape = (192,), *INIT_FROM_CKPT*\n"
     ]
    },
    {
     "name": "stderr",
     "output_type": "stream",
     "text": [
      "INFO:tensorflow:  name = glowtts/Encoder/encoder/layer_._3/output/LayerNorm/beta:0, shape = (192,), *INIT_FROM_CKPT*\n"
     ]
    },
    {
     "name": "stdout",
     "output_type": "stream",
     "text": [
      "INFO:tensorflow:  name = glowtts/Encoder/encoder/layer_._4/attention/self/query/kernel:0, shape = (192, 64), *INIT_FROM_CKPT*\n"
     ]
    },
    {
     "name": "stderr",
     "output_type": "stream",
     "text": [
      "INFO:tensorflow:  name = glowtts/Encoder/encoder/layer_._4/attention/self/query/kernel:0, shape = (192, 64), *INIT_FROM_CKPT*\n"
     ]
    },
    {
     "name": "stdout",
     "output_type": "stream",
     "text": [
      "INFO:tensorflow:  name = glowtts/Encoder/encoder/layer_._4/attention/self/query/bias:0, shape = (64,), *INIT_FROM_CKPT*\n"
     ]
    },
    {
     "name": "stderr",
     "output_type": "stream",
     "text": [
      "INFO:tensorflow:  name = glowtts/Encoder/encoder/layer_._4/attention/self/query/bias:0, shape = (64,), *INIT_FROM_CKPT*\n"
     ]
    },
    {
     "name": "stdout",
     "output_type": "stream",
     "text": [
      "INFO:tensorflow:  name = glowtts/Encoder/encoder/layer_._4/attention/self/key/kernel:0, shape = (192, 64), *INIT_FROM_CKPT*\n"
     ]
    },
    {
     "name": "stderr",
     "output_type": "stream",
     "text": [
      "INFO:tensorflow:  name = glowtts/Encoder/encoder/layer_._4/attention/self/key/kernel:0, shape = (192, 64), *INIT_FROM_CKPT*\n"
     ]
    },
    {
     "name": "stdout",
     "output_type": "stream",
     "text": [
      "INFO:tensorflow:  name = glowtts/Encoder/encoder/layer_._4/attention/self/key/bias:0, shape = (64,), *INIT_FROM_CKPT*\n"
     ]
    },
    {
     "name": "stderr",
     "output_type": "stream",
     "text": [
      "INFO:tensorflow:  name = glowtts/Encoder/encoder/layer_._4/attention/self/key/bias:0, shape = (64,), *INIT_FROM_CKPT*\n"
     ]
    },
    {
     "name": "stdout",
     "output_type": "stream",
     "text": [
      "INFO:tensorflow:  name = glowtts/Encoder/encoder/layer_._4/attention/self/value/kernel:0, shape = (192, 64), *INIT_FROM_CKPT*\n"
     ]
    },
    {
     "name": "stderr",
     "output_type": "stream",
     "text": [
      "INFO:tensorflow:  name = glowtts/Encoder/encoder/layer_._4/attention/self/value/kernel:0, shape = (192, 64), *INIT_FROM_CKPT*\n"
     ]
    },
    {
     "name": "stdout",
     "output_type": "stream",
     "text": [
      "INFO:tensorflow:  name = glowtts/Encoder/encoder/layer_._4/attention/self/value/bias:0, shape = (64,), *INIT_FROM_CKPT*\n"
     ]
    },
    {
     "name": "stderr",
     "output_type": "stream",
     "text": [
      "INFO:tensorflow:  name = glowtts/Encoder/encoder/layer_._4/attention/self/value/bias:0, shape = (64,), *INIT_FROM_CKPT*\n"
     ]
    },
    {
     "name": "stdout",
     "output_type": "stream",
     "text": [
      "INFO:tensorflow:  name = glowtts/Encoder/encoder/layer_._4/attention/output/dense/kernel:0, shape = (64, 192), *INIT_FROM_CKPT*\n"
     ]
    },
    {
     "name": "stderr",
     "output_type": "stream",
     "text": [
      "INFO:tensorflow:  name = glowtts/Encoder/encoder/layer_._4/attention/output/dense/kernel:0, shape = (64, 192), *INIT_FROM_CKPT*\n"
     ]
    },
    {
     "name": "stdout",
     "output_type": "stream",
     "text": [
      "INFO:tensorflow:  name = glowtts/Encoder/encoder/layer_._4/attention/output/dense/bias:0, shape = (192,), *INIT_FROM_CKPT*\n"
     ]
    },
    {
     "name": "stderr",
     "output_type": "stream",
     "text": [
      "INFO:tensorflow:  name = glowtts/Encoder/encoder/layer_._4/attention/output/dense/bias:0, shape = (192,), *INIT_FROM_CKPT*\n"
     ]
    },
    {
     "name": "stdout",
     "output_type": "stream",
     "text": [
      "INFO:tensorflow:  name = glowtts/Encoder/encoder/layer_._4/attention/output/LayerNorm/gamma:0, shape = (192,), *INIT_FROM_CKPT*\n"
     ]
    },
    {
     "name": "stderr",
     "output_type": "stream",
     "text": [
      "INFO:tensorflow:  name = glowtts/Encoder/encoder/layer_._4/attention/output/LayerNorm/gamma:0, shape = (192,), *INIT_FROM_CKPT*\n"
     ]
    },
    {
     "name": "stdout",
     "output_type": "stream",
     "text": [
      "INFO:tensorflow:  name = glowtts/Encoder/encoder/layer_._4/attention/output/LayerNorm/beta:0, shape = (192,), *INIT_FROM_CKPT*\n"
     ]
    },
    {
     "name": "stderr",
     "output_type": "stream",
     "text": [
      "INFO:tensorflow:  name = glowtts/Encoder/encoder/layer_._4/attention/output/LayerNorm/beta:0, shape = (192,), *INIT_FROM_CKPT*\n"
     ]
    },
    {
     "name": "stdout",
     "output_type": "stream",
     "text": [
      "INFO:tensorflow:  name = glowtts/Encoder/encoder/layer_._4/intermediate/conv1d_1/kernel:0, shape = (3, 192, 768), *INIT_FROM_CKPT*\n"
     ]
    },
    {
     "name": "stderr",
     "output_type": "stream",
     "text": [
      "INFO:tensorflow:  name = glowtts/Encoder/encoder/layer_._4/intermediate/conv1d_1/kernel:0, shape = (3, 192, 768), *INIT_FROM_CKPT*\n"
     ]
    },
    {
     "name": "stdout",
     "output_type": "stream",
     "text": [
      "INFO:tensorflow:  name = glowtts/Encoder/encoder/layer_._4/intermediate/conv1d_1/bias:0, shape = (768,), *INIT_FROM_CKPT*\n"
     ]
    },
    {
     "name": "stderr",
     "output_type": "stream",
     "text": [
      "INFO:tensorflow:  name = glowtts/Encoder/encoder/layer_._4/intermediate/conv1d_1/bias:0, shape = (768,), *INIT_FROM_CKPT*\n"
     ]
    },
    {
     "name": "stdout",
     "output_type": "stream",
     "text": [
      "INFO:tensorflow:  name = glowtts/Encoder/encoder/layer_._4/intermediate/conv1d_2/kernel:0, shape = (3, 768, 192), *INIT_FROM_CKPT*\n"
     ]
    },
    {
     "name": "stderr",
     "output_type": "stream",
     "text": [
      "INFO:tensorflow:  name = glowtts/Encoder/encoder/layer_._4/intermediate/conv1d_2/kernel:0, shape = (3, 768, 192), *INIT_FROM_CKPT*\n"
     ]
    },
    {
     "name": "stdout",
     "output_type": "stream",
     "text": [
      "INFO:tensorflow:  name = glowtts/Encoder/encoder/layer_._4/intermediate/conv1d_2/bias:0, shape = (192,), *INIT_FROM_CKPT*\n"
     ]
    },
    {
     "name": "stderr",
     "output_type": "stream",
     "text": [
      "INFO:tensorflow:  name = glowtts/Encoder/encoder/layer_._4/intermediate/conv1d_2/bias:0, shape = (192,), *INIT_FROM_CKPT*\n"
     ]
    },
    {
     "name": "stdout",
     "output_type": "stream",
     "text": [
      "INFO:tensorflow:  name = glowtts/Encoder/encoder/layer_._4/output/LayerNorm/gamma:0, shape = (192,), *INIT_FROM_CKPT*\n"
     ]
    },
    {
     "name": "stderr",
     "output_type": "stream",
     "text": [
      "INFO:tensorflow:  name = glowtts/Encoder/encoder/layer_._4/output/LayerNorm/gamma:0, shape = (192,), *INIT_FROM_CKPT*\n"
     ]
    },
    {
     "name": "stdout",
     "output_type": "stream",
     "text": [
      "INFO:tensorflow:  name = glowtts/Encoder/encoder/layer_._4/output/LayerNorm/beta:0, shape = (192,), *INIT_FROM_CKPT*\n"
     ]
    },
    {
     "name": "stderr",
     "output_type": "stream",
     "text": [
      "INFO:tensorflow:  name = glowtts/Encoder/encoder/layer_._4/output/LayerNorm/beta:0, shape = (192,), *INIT_FROM_CKPT*\n"
     ]
    },
    {
     "name": "stdout",
     "output_type": "stream",
     "text": [
      "INFO:tensorflow:  name = glowtts/Encoder/encoder/layer_._5/attention/self/query/kernel:0, shape = (192, 64), *INIT_FROM_CKPT*\n"
     ]
    },
    {
     "name": "stderr",
     "output_type": "stream",
     "text": [
      "INFO:tensorflow:  name = glowtts/Encoder/encoder/layer_._5/attention/self/query/kernel:0, shape = (192, 64), *INIT_FROM_CKPT*\n"
     ]
    },
    {
     "name": "stdout",
     "output_type": "stream",
     "text": [
      "INFO:tensorflow:  name = glowtts/Encoder/encoder/layer_._5/attention/self/query/bias:0, shape = (64,), *INIT_FROM_CKPT*\n"
     ]
    },
    {
     "name": "stderr",
     "output_type": "stream",
     "text": [
      "INFO:tensorflow:  name = glowtts/Encoder/encoder/layer_._5/attention/self/query/bias:0, shape = (64,), *INIT_FROM_CKPT*\n"
     ]
    },
    {
     "name": "stdout",
     "output_type": "stream",
     "text": [
      "INFO:tensorflow:  name = glowtts/Encoder/encoder/layer_._5/attention/self/key/kernel:0, shape = (192, 64), *INIT_FROM_CKPT*\n"
     ]
    },
    {
     "name": "stderr",
     "output_type": "stream",
     "text": [
      "INFO:tensorflow:  name = glowtts/Encoder/encoder/layer_._5/attention/self/key/kernel:0, shape = (192, 64), *INIT_FROM_CKPT*\n"
     ]
    },
    {
     "name": "stdout",
     "output_type": "stream",
     "text": [
      "INFO:tensorflow:  name = glowtts/Encoder/encoder/layer_._5/attention/self/key/bias:0, shape = (64,), *INIT_FROM_CKPT*\n"
     ]
    },
    {
     "name": "stderr",
     "output_type": "stream",
     "text": [
      "INFO:tensorflow:  name = glowtts/Encoder/encoder/layer_._5/attention/self/key/bias:0, shape = (64,), *INIT_FROM_CKPT*\n"
     ]
    },
    {
     "name": "stdout",
     "output_type": "stream",
     "text": [
      "INFO:tensorflow:  name = glowtts/Encoder/encoder/layer_._5/attention/self/value/kernel:0, shape = (192, 64), *INIT_FROM_CKPT*\n"
     ]
    },
    {
     "name": "stderr",
     "output_type": "stream",
     "text": [
      "INFO:tensorflow:  name = glowtts/Encoder/encoder/layer_._5/attention/self/value/kernel:0, shape = (192, 64), *INIT_FROM_CKPT*\n"
     ]
    },
    {
     "name": "stdout",
     "output_type": "stream",
     "text": [
      "INFO:tensorflow:  name = glowtts/Encoder/encoder/layer_._5/attention/self/value/bias:0, shape = (64,), *INIT_FROM_CKPT*\n"
     ]
    },
    {
     "name": "stderr",
     "output_type": "stream",
     "text": [
      "INFO:tensorflow:  name = glowtts/Encoder/encoder/layer_._5/attention/self/value/bias:0, shape = (64,), *INIT_FROM_CKPT*\n"
     ]
    },
    {
     "name": "stdout",
     "output_type": "stream",
     "text": [
      "INFO:tensorflow:  name = glowtts/Encoder/encoder/layer_._5/attention/output/dense/kernel:0, shape = (64, 192), *INIT_FROM_CKPT*\n"
     ]
    },
    {
     "name": "stderr",
     "output_type": "stream",
     "text": [
      "INFO:tensorflow:  name = glowtts/Encoder/encoder/layer_._5/attention/output/dense/kernel:0, shape = (64, 192), *INIT_FROM_CKPT*\n"
     ]
    },
    {
     "name": "stdout",
     "output_type": "stream",
     "text": [
      "INFO:tensorflow:  name = glowtts/Encoder/encoder/layer_._5/attention/output/dense/bias:0, shape = (192,), *INIT_FROM_CKPT*\n"
     ]
    },
    {
     "name": "stderr",
     "output_type": "stream",
     "text": [
      "INFO:tensorflow:  name = glowtts/Encoder/encoder/layer_._5/attention/output/dense/bias:0, shape = (192,), *INIT_FROM_CKPT*\n"
     ]
    },
    {
     "name": "stdout",
     "output_type": "stream",
     "text": [
      "INFO:tensorflow:  name = glowtts/Encoder/encoder/layer_._5/attention/output/LayerNorm/gamma:0, shape = (192,), *INIT_FROM_CKPT*\n"
     ]
    },
    {
     "name": "stderr",
     "output_type": "stream",
     "text": [
      "INFO:tensorflow:  name = glowtts/Encoder/encoder/layer_._5/attention/output/LayerNorm/gamma:0, shape = (192,), *INIT_FROM_CKPT*\n"
     ]
    },
    {
     "name": "stdout",
     "output_type": "stream",
     "text": [
      "INFO:tensorflow:  name = glowtts/Encoder/encoder/layer_._5/attention/output/LayerNorm/beta:0, shape = (192,), *INIT_FROM_CKPT*\n"
     ]
    },
    {
     "name": "stderr",
     "output_type": "stream",
     "text": [
      "INFO:tensorflow:  name = glowtts/Encoder/encoder/layer_._5/attention/output/LayerNorm/beta:0, shape = (192,), *INIT_FROM_CKPT*\n"
     ]
    },
    {
     "name": "stdout",
     "output_type": "stream",
     "text": [
      "INFO:tensorflow:  name = glowtts/Encoder/encoder/layer_._5/intermediate/conv1d_1/kernel:0, shape = (3, 192, 768), *INIT_FROM_CKPT*\n"
     ]
    },
    {
     "name": "stderr",
     "output_type": "stream",
     "text": [
      "INFO:tensorflow:  name = glowtts/Encoder/encoder/layer_._5/intermediate/conv1d_1/kernel:0, shape = (3, 192, 768), *INIT_FROM_CKPT*\n"
     ]
    },
    {
     "name": "stdout",
     "output_type": "stream",
     "text": [
      "INFO:tensorflow:  name = glowtts/Encoder/encoder/layer_._5/intermediate/conv1d_1/bias:0, shape = (768,), *INIT_FROM_CKPT*\n"
     ]
    },
    {
     "name": "stderr",
     "output_type": "stream",
     "text": [
      "INFO:tensorflow:  name = glowtts/Encoder/encoder/layer_._5/intermediate/conv1d_1/bias:0, shape = (768,), *INIT_FROM_CKPT*\n"
     ]
    },
    {
     "name": "stdout",
     "output_type": "stream",
     "text": [
      "INFO:tensorflow:  name = glowtts/Encoder/encoder/layer_._5/intermediate/conv1d_2/kernel:0, shape = (3, 768, 192), *INIT_FROM_CKPT*\n"
     ]
    },
    {
     "name": "stderr",
     "output_type": "stream",
     "text": [
      "INFO:tensorflow:  name = glowtts/Encoder/encoder/layer_._5/intermediate/conv1d_2/kernel:0, shape = (3, 768, 192), *INIT_FROM_CKPT*\n"
     ]
    },
    {
     "name": "stdout",
     "output_type": "stream",
     "text": [
      "INFO:tensorflow:  name = glowtts/Encoder/encoder/layer_._5/intermediate/conv1d_2/bias:0, shape = (192,), *INIT_FROM_CKPT*\n"
     ]
    },
    {
     "name": "stderr",
     "output_type": "stream",
     "text": [
      "INFO:tensorflow:  name = glowtts/Encoder/encoder/layer_._5/intermediate/conv1d_2/bias:0, shape = (192,), *INIT_FROM_CKPT*\n"
     ]
    },
    {
     "name": "stdout",
     "output_type": "stream",
     "text": [
      "INFO:tensorflow:  name = glowtts/Encoder/encoder/layer_._5/output/LayerNorm/gamma:0, shape = (192,), *INIT_FROM_CKPT*\n"
     ]
    },
    {
     "name": "stderr",
     "output_type": "stream",
     "text": [
      "INFO:tensorflow:  name = glowtts/Encoder/encoder/layer_._5/output/LayerNorm/gamma:0, shape = (192,), *INIT_FROM_CKPT*\n"
     ]
    },
    {
     "name": "stdout",
     "output_type": "stream",
     "text": [
      "INFO:tensorflow:  name = glowtts/Encoder/encoder/layer_._5/output/LayerNorm/beta:0, shape = (192,), *INIT_FROM_CKPT*\n"
     ]
    },
    {
     "name": "stderr",
     "output_type": "stream",
     "text": [
      "INFO:tensorflow:  name = glowtts/Encoder/encoder/layer_._5/output/LayerNorm/beta:0, shape = (192,), *INIT_FROM_CKPT*\n"
     ]
    },
    {
     "name": "stdout",
     "output_type": "stream",
     "text": [
      "INFO:tensorflow:  name = glowtts/Encoder/conv1d_1/kernel:0, shape = (1, 192, 80), *INIT_FROM_CKPT*\n"
     ]
    },
    {
     "name": "stderr",
     "output_type": "stream",
     "text": [
      "INFO:tensorflow:  name = glowtts/Encoder/conv1d_1/kernel:0, shape = (1, 192, 80), *INIT_FROM_CKPT*\n"
     ]
    },
    {
     "name": "stdout",
     "output_type": "stream",
     "text": [
      "INFO:tensorflow:  name = glowtts/Encoder/conv1d_1/bias:0, shape = (80,), *INIT_FROM_CKPT*\n"
     ]
    },
    {
     "name": "stderr",
     "output_type": "stream",
     "text": [
      "INFO:tensorflow:  name = glowtts/Encoder/conv1d_1/bias:0, shape = (80,), *INIT_FROM_CKPT*\n"
     ]
    },
    {
     "name": "stdout",
     "output_type": "stream",
     "text": [
      "INFO:tensorflow:  name = glowtts/Encoder/duration_predictor/sequential/conv_._0/kernel:0, shape = (3, 192, 256), *INIT_FROM_CKPT*\n"
     ]
    },
    {
     "name": "stderr",
     "output_type": "stream",
     "text": [
      "INFO:tensorflow:  name = glowtts/Encoder/duration_predictor/sequential/conv_._0/kernel:0, shape = (3, 192, 256), *INIT_FROM_CKPT*\n"
     ]
    },
    {
     "name": "stdout",
     "output_type": "stream",
     "text": [
      "INFO:tensorflow:  name = glowtts/Encoder/duration_predictor/sequential/conv_._0/bias:0, shape = (256,), *INIT_FROM_CKPT*\n"
     ]
    },
    {
     "name": "stderr",
     "output_type": "stream",
     "text": [
      "INFO:tensorflow:  name = glowtts/Encoder/duration_predictor/sequential/conv_._0/bias:0, shape = (256,), *INIT_FROM_CKPT*\n"
     ]
    },
    {
     "name": "stdout",
     "output_type": "stream",
     "text": [
      "INFO:tensorflow:  name = glowtts/Encoder/duration_predictor/sequential/LayerNorm_._0/gamma:0, shape = (256,), *INIT_FROM_CKPT*\n"
     ]
    },
    {
     "name": "stderr",
     "output_type": "stream",
     "text": [
      "INFO:tensorflow:  name = glowtts/Encoder/duration_predictor/sequential/LayerNorm_._0/gamma:0, shape = (256,), *INIT_FROM_CKPT*\n"
     ]
    },
    {
     "name": "stdout",
     "output_type": "stream",
     "text": [
      "INFO:tensorflow:  name = glowtts/Encoder/duration_predictor/sequential/LayerNorm_._0/beta:0, shape = (256,), *INIT_FROM_CKPT*\n"
     ]
    },
    {
     "name": "stderr",
     "output_type": "stream",
     "text": [
      "INFO:tensorflow:  name = glowtts/Encoder/duration_predictor/sequential/LayerNorm_._0/beta:0, shape = (256,), *INIT_FROM_CKPT*\n"
     ]
    },
    {
     "name": "stdout",
     "output_type": "stream",
     "text": [
      "INFO:tensorflow:  name = glowtts/Encoder/duration_predictor/sequential/conv_._1/kernel:0, shape = (3, 256, 256), *INIT_FROM_CKPT*\n"
     ]
    },
    {
     "name": "stderr",
     "output_type": "stream",
     "text": [
      "INFO:tensorflow:  name = glowtts/Encoder/duration_predictor/sequential/conv_._1/kernel:0, shape = (3, 256, 256), *INIT_FROM_CKPT*\n"
     ]
    },
    {
     "name": "stdout",
     "output_type": "stream",
     "text": [
      "INFO:tensorflow:  name = glowtts/Encoder/duration_predictor/sequential/conv_._1/bias:0, shape = (256,), *INIT_FROM_CKPT*\n"
     ]
    },
    {
     "name": "stderr",
     "output_type": "stream",
     "text": [
      "INFO:tensorflow:  name = glowtts/Encoder/duration_predictor/sequential/conv_._1/bias:0, shape = (256,), *INIT_FROM_CKPT*\n"
     ]
    },
    {
     "name": "stdout",
     "output_type": "stream",
     "text": [
      "INFO:tensorflow:  name = glowtts/Encoder/duration_predictor/sequential/LayerNorm_._1/gamma:0, shape = (256,), *INIT_FROM_CKPT*\n"
     ]
    },
    {
     "name": "stderr",
     "output_type": "stream",
     "text": [
      "INFO:tensorflow:  name = glowtts/Encoder/duration_predictor/sequential/LayerNorm_._1/gamma:0, shape = (256,), *INIT_FROM_CKPT*\n"
     ]
    },
    {
     "name": "stdout",
     "output_type": "stream",
     "text": [
      "INFO:tensorflow:  name = glowtts/Encoder/duration_predictor/sequential/LayerNorm_._1/beta:0, shape = (256,), *INIT_FROM_CKPT*\n"
     ]
    },
    {
     "name": "stderr",
     "output_type": "stream",
     "text": [
      "INFO:tensorflow:  name = glowtts/Encoder/duration_predictor/sequential/LayerNorm_._1/beta:0, shape = (256,), *INIT_FROM_CKPT*\n"
     ]
    },
    {
     "name": "stdout",
     "output_type": "stream",
     "text": [
      "INFO:tensorflow:  name = glowtts/Encoder/duration_predictor/dense/kernel:0, shape = (256, 1), *INIT_FROM_CKPT*\n"
     ]
    },
    {
     "name": "stderr",
     "output_type": "stream",
     "text": [
      "INFO:tensorflow:  name = glowtts/Encoder/duration_predictor/dense/kernel:0, shape = (256, 1), *INIT_FROM_CKPT*\n"
     ]
    },
    {
     "name": "stdout",
     "output_type": "stream",
     "text": [
      "INFO:tensorflow:  name = glowtts/Encoder/duration_predictor/dense/bias:0, shape = (1,), *INIT_FROM_CKPT*\n"
     ]
    },
    {
     "name": "stderr",
     "output_type": "stream",
     "text": [
      "INFO:tensorflow:  name = glowtts/Encoder/duration_predictor/dense/bias:0, shape = (1,), *INIT_FROM_CKPT*\n"
     ]
    },
    {
     "name": "stdout",
     "output_type": "stream",
     "text": [
      "INFO:tensorflow:  name = glowtts/FlowSpecDecoder/CouplingBlock_11/weight_normalization_99/kernel:0, shape = (1, 80, 192), *INIT_FROM_CKPT*\n"
     ]
    },
    {
     "name": "stderr",
     "output_type": "stream",
     "text": [
      "INFO:tensorflow:  name = glowtts/FlowSpecDecoder/CouplingBlock_11/weight_normalization_99/kernel:0, shape = (1, 80, 192), *INIT_FROM_CKPT*\n"
     ]
    },
    {
     "name": "stdout",
     "output_type": "stream",
     "text": [
      "INFO:tensorflow:  name = glowtts/FlowSpecDecoder/CouplingBlock_11/weight_normalization_99/bias:0, shape = (192,), *INIT_FROM_CKPT*\n"
     ]
    },
    {
     "name": "stderr",
     "output_type": "stream",
     "text": [
      "INFO:tensorflow:  name = glowtts/FlowSpecDecoder/CouplingBlock_11/weight_normalization_99/bias:0, shape = (192,), *INIT_FROM_CKPT*\n"
     ]
    },
    {
     "name": "stdout",
     "output_type": "stream",
     "text": [
      "INFO:tensorflow:  name = glowtts/FlowSpecDecoder/CouplingBlock_11/weight_normalization_99/g:0, shape = (192,), *INIT_FROM_CKPT*\n"
     ]
    },
    {
     "name": "stderr",
     "output_type": "stream",
     "text": [
      "INFO:tensorflow:  name = glowtts/FlowSpecDecoder/CouplingBlock_11/weight_normalization_99/g:0, shape = (192,), *INIT_FROM_CKPT*\n"
     ]
    },
    {
     "name": "stdout",
     "output_type": "stream",
     "text": [
      "INFO:tensorflow:  name = glowtts/FlowSpecDecoder/CouplingBlock_11/WN_0/weight_normalization_100/kernel:0, shape = (3, 192, 384), *INIT_FROM_CKPT*\n"
     ]
    },
    {
     "name": "stderr",
     "output_type": "stream",
     "text": [
      "INFO:tensorflow:  name = glowtts/FlowSpecDecoder/CouplingBlock_11/WN_0/weight_normalization_100/kernel:0, shape = (3, 192, 384), *INIT_FROM_CKPT*\n"
     ]
    },
    {
     "name": "stdout",
     "output_type": "stream",
     "text": [
      "INFO:tensorflow:  name = glowtts/FlowSpecDecoder/CouplingBlock_11/WN_0/weight_normalization_100/bias:0, shape = (384,), *INIT_FROM_CKPT*\n"
     ]
    },
    {
     "name": "stderr",
     "output_type": "stream",
     "text": [
      "INFO:tensorflow:  name = glowtts/FlowSpecDecoder/CouplingBlock_11/WN_0/weight_normalization_100/bias:0, shape = (384,), *INIT_FROM_CKPT*\n"
     ]
    },
    {
     "name": "stdout",
     "output_type": "stream",
     "text": [
      "INFO:tensorflow:  name = glowtts/FlowSpecDecoder/CouplingBlock_11/WN_0/weight_normalization_100/g:0, shape = (384,), *INIT_FROM_CKPT*\n"
     ]
    },
    {
     "name": "stderr",
     "output_type": "stream",
     "text": [
      "INFO:tensorflow:  name = glowtts/FlowSpecDecoder/CouplingBlock_11/WN_0/weight_normalization_100/g:0, shape = (384,), *INIT_FROM_CKPT*\n"
     ]
    },
    {
     "name": "stdout",
     "output_type": "stream",
     "text": [
      "INFO:tensorflow:  name = glowtts/FlowSpecDecoder/CouplingBlock_11/WN_0/weight_normalization_101/kernel:0, shape = (1, 192, 384), *INIT_FROM_CKPT*\n"
     ]
    },
    {
     "name": "stderr",
     "output_type": "stream",
     "text": [
      "INFO:tensorflow:  name = glowtts/FlowSpecDecoder/CouplingBlock_11/WN_0/weight_normalization_101/kernel:0, shape = (1, 192, 384), *INIT_FROM_CKPT*\n"
     ]
    },
    {
     "name": "stdout",
     "output_type": "stream",
     "text": [
      "INFO:tensorflow:  name = glowtts/FlowSpecDecoder/CouplingBlock_11/WN_0/weight_normalization_101/bias:0, shape = (384,), *INIT_FROM_CKPT*\n"
     ]
    },
    {
     "name": "stderr",
     "output_type": "stream",
     "text": [
      "INFO:tensorflow:  name = glowtts/FlowSpecDecoder/CouplingBlock_11/WN_0/weight_normalization_101/bias:0, shape = (384,), *INIT_FROM_CKPT*\n"
     ]
    },
    {
     "name": "stdout",
     "output_type": "stream",
     "text": [
      "INFO:tensorflow:  name = glowtts/FlowSpecDecoder/CouplingBlock_11/WN_0/weight_normalization_101/g:0, shape = (384,), *INIT_FROM_CKPT*\n"
     ]
    },
    {
     "name": "stderr",
     "output_type": "stream",
     "text": [
      "INFO:tensorflow:  name = glowtts/FlowSpecDecoder/CouplingBlock_11/WN_0/weight_normalization_101/g:0, shape = (384,), *INIT_FROM_CKPT*\n"
     ]
    },
    {
     "name": "stdout",
     "output_type": "stream",
     "text": [
      "INFO:tensorflow:  name = glowtts/FlowSpecDecoder/CouplingBlock_11/WN_0/weight_normalization_102/kernel:0, shape = (3, 192, 384), *INIT_FROM_CKPT*\n"
     ]
    },
    {
     "name": "stderr",
     "output_type": "stream",
     "text": [
      "INFO:tensorflow:  name = glowtts/FlowSpecDecoder/CouplingBlock_11/WN_0/weight_normalization_102/kernel:0, shape = (3, 192, 384), *INIT_FROM_CKPT*\n"
     ]
    },
    {
     "name": "stdout",
     "output_type": "stream",
     "text": [
      "INFO:tensorflow:  name = glowtts/FlowSpecDecoder/CouplingBlock_11/WN_0/weight_normalization_102/bias:0, shape = (384,), *INIT_FROM_CKPT*\n"
     ]
    },
    {
     "name": "stderr",
     "output_type": "stream",
     "text": [
      "INFO:tensorflow:  name = glowtts/FlowSpecDecoder/CouplingBlock_11/WN_0/weight_normalization_102/bias:0, shape = (384,), *INIT_FROM_CKPT*\n"
     ]
    },
    {
     "name": "stdout",
     "output_type": "stream",
     "text": [
      "INFO:tensorflow:  name = glowtts/FlowSpecDecoder/CouplingBlock_11/WN_0/weight_normalization_102/g:0, shape = (384,), *INIT_FROM_CKPT*\n"
     ]
    },
    {
     "name": "stderr",
     "output_type": "stream",
     "text": [
      "INFO:tensorflow:  name = glowtts/FlowSpecDecoder/CouplingBlock_11/WN_0/weight_normalization_102/g:0, shape = (384,), *INIT_FROM_CKPT*\n"
     ]
    },
    {
     "name": "stdout",
     "output_type": "stream",
     "text": [
      "INFO:tensorflow:  name = glowtts/FlowSpecDecoder/CouplingBlock_11/WN_0/weight_normalization_103/kernel:0, shape = (1, 192, 384), *INIT_FROM_CKPT*\n"
     ]
    },
    {
     "name": "stderr",
     "output_type": "stream",
     "text": [
      "INFO:tensorflow:  name = glowtts/FlowSpecDecoder/CouplingBlock_11/WN_0/weight_normalization_103/kernel:0, shape = (1, 192, 384), *INIT_FROM_CKPT*\n"
     ]
    },
    {
     "name": "stdout",
     "output_type": "stream",
     "text": [
      "INFO:tensorflow:  name = glowtts/FlowSpecDecoder/CouplingBlock_11/WN_0/weight_normalization_103/bias:0, shape = (384,), *INIT_FROM_CKPT*\n"
     ]
    },
    {
     "name": "stderr",
     "output_type": "stream",
     "text": [
      "INFO:tensorflow:  name = glowtts/FlowSpecDecoder/CouplingBlock_11/WN_0/weight_normalization_103/bias:0, shape = (384,), *INIT_FROM_CKPT*\n"
     ]
    },
    {
     "name": "stdout",
     "output_type": "stream",
     "text": [
      "INFO:tensorflow:  name = glowtts/FlowSpecDecoder/CouplingBlock_11/WN_0/weight_normalization_103/g:0, shape = (384,), *INIT_FROM_CKPT*\n"
     ]
    },
    {
     "name": "stderr",
     "output_type": "stream",
     "text": [
      "INFO:tensorflow:  name = glowtts/FlowSpecDecoder/CouplingBlock_11/WN_0/weight_normalization_103/g:0, shape = (384,), *INIT_FROM_CKPT*\n"
     ]
    },
    {
     "name": "stdout",
     "output_type": "stream",
     "text": [
      "INFO:tensorflow:  name = glowtts/FlowSpecDecoder/CouplingBlock_11/WN_0/weight_normalization_104/kernel:0, shape = (3, 192, 384), *INIT_FROM_CKPT*\n"
     ]
    },
    {
     "name": "stderr",
     "output_type": "stream",
     "text": [
      "INFO:tensorflow:  name = glowtts/FlowSpecDecoder/CouplingBlock_11/WN_0/weight_normalization_104/kernel:0, shape = (3, 192, 384), *INIT_FROM_CKPT*\n"
     ]
    },
    {
     "name": "stdout",
     "output_type": "stream",
     "text": [
      "INFO:tensorflow:  name = glowtts/FlowSpecDecoder/CouplingBlock_11/WN_0/weight_normalization_104/bias:0, shape = (384,), *INIT_FROM_CKPT*\n"
     ]
    },
    {
     "name": "stderr",
     "output_type": "stream",
     "text": [
      "INFO:tensorflow:  name = glowtts/FlowSpecDecoder/CouplingBlock_11/WN_0/weight_normalization_104/bias:0, shape = (384,), *INIT_FROM_CKPT*\n"
     ]
    },
    {
     "name": "stdout",
     "output_type": "stream",
     "text": [
      "INFO:tensorflow:  name = glowtts/FlowSpecDecoder/CouplingBlock_11/WN_0/weight_normalization_104/g:0, shape = (384,), *INIT_FROM_CKPT*\n"
     ]
    },
    {
     "name": "stderr",
     "output_type": "stream",
     "text": [
      "INFO:tensorflow:  name = glowtts/FlowSpecDecoder/CouplingBlock_11/WN_0/weight_normalization_104/g:0, shape = (384,), *INIT_FROM_CKPT*\n"
     ]
    },
    {
     "name": "stdout",
     "output_type": "stream",
     "text": [
      "INFO:tensorflow:  name = glowtts/FlowSpecDecoder/CouplingBlock_11/WN_0/weight_normalization_105/kernel:0, shape = (1, 192, 384), *INIT_FROM_CKPT*\n"
     ]
    },
    {
     "name": "stderr",
     "output_type": "stream",
     "text": [
      "INFO:tensorflow:  name = glowtts/FlowSpecDecoder/CouplingBlock_11/WN_0/weight_normalization_105/kernel:0, shape = (1, 192, 384), *INIT_FROM_CKPT*\n"
     ]
    },
    {
     "name": "stdout",
     "output_type": "stream",
     "text": [
      "INFO:tensorflow:  name = glowtts/FlowSpecDecoder/CouplingBlock_11/WN_0/weight_normalization_105/bias:0, shape = (384,), *INIT_FROM_CKPT*\n"
     ]
    },
    {
     "name": "stderr",
     "output_type": "stream",
     "text": [
      "INFO:tensorflow:  name = glowtts/FlowSpecDecoder/CouplingBlock_11/WN_0/weight_normalization_105/bias:0, shape = (384,), *INIT_FROM_CKPT*\n"
     ]
    },
    {
     "name": "stdout",
     "output_type": "stream",
     "text": [
      "INFO:tensorflow:  name = glowtts/FlowSpecDecoder/CouplingBlock_11/WN_0/weight_normalization_105/g:0, shape = (384,), *INIT_FROM_CKPT*\n"
     ]
    },
    {
     "name": "stderr",
     "output_type": "stream",
     "text": [
      "INFO:tensorflow:  name = glowtts/FlowSpecDecoder/CouplingBlock_11/WN_0/weight_normalization_105/g:0, shape = (384,), *INIT_FROM_CKPT*\n"
     ]
    },
    {
     "name": "stdout",
     "output_type": "stream",
     "text": [
      "INFO:tensorflow:  name = glowtts/FlowSpecDecoder/CouplingBlock_11/WN_0/weight_normalization_106/kernel:0, shape = (3, 192, 384), *INIT_FROM_CKPT*\n"
     ]
    },
    {
     "name": "stderr",
     "output_type": "stream",
     "text": [
      "INFO:tensorflow:  name = glowtts/FlowSpecDecoder/CouplingBlock_11/WN_0/weight_normalization_106/kernel:0, shape = (3, 192, 384), *INIT_FROM_CKPT*\n"
     ]
    },
    {
     "name": "stdout",
     "output_type": "stream",
     "text": [
      "INFO:tensorflow:  name = glowtts/FlowSpecDecoder/CouplingBlock_11/WN_0/weight_normalization_106/bias:0, shape = (384,), *INIT_FROM_CKPT*\n"
     ]
    },
    {
     "name": "stderr",
     "output_type": "stream",
     "text": [
      "INFO:tensorflow:  name = glowtts/FlowSpecDecoder/CouplingBlock_11/WN_0/weight_normalization_106/bias:0, shape = (384,), *INIT_FROM_CKPT*\n"
     ]
    },
    {
     "name": "stdout",
     "output_type": "stream",
     "text": [
      "INFO:tensorflow:  name = glowtts/FlowSpecDecoder/CouplingBlock_11/WN_0/weight_normalization_106/g:0, shape = (384,), *INIT_FROM_CKPT*\n"
     ]
    },
    {
     "name": "stderr",
     "output_type": "stream",
     "text": [
      "INFO:tensorflow:  name = glowtts/FlowSpecDecoder/CouplingBlock_11/WN_0/weight_normalization_106/g:0, shape = (384,), *INIT_FROM_CKPT*\n"
     ]
    },
    {
     "name": "stdout",
     "output_type": "stream",
     "text": [
      "INFO:tensorflow:  name = glowtts/FlowSpecDecoder/CouplingBlock_11/WN_0/weight_normalization_107/kernel:0, shape = (1, 192, 192), *INIT_FROM_CKPT*\n"
     ]
    },
    {
     "name": "stderr",
     "output_type": "stream",
     "text": [
      "INFO:tensorflow:  name = glowtts/FlowSpecDecoder/CouplingBlock_11/WN_0/weight_normalization_107/kernel:0, shape = (1, 192, 192), *INIT_FROM_CKPT*\n"
     ]
    },
    {
     "name": "stdout",
     "output_type": "stream",
     "text": [
      "INFO:tensorflow:  name = glowtts/FlowSpecDecoder/CouplingBlock_11/WN_0/weight_normalization_107/bias:0, shape = (192,), *INIT_FROM_CKPT*\n"
     ]
    },
    {
     "name": "stderr",
     "output_type": "stream",
     "text": [
      "INFO:tensorflow:  name = glowtts/FlowSpecDecoder/CouplingBlock_11/WN_0/weight_normalization_107/bias:0, shape = (192,), *INIT_FROM_CKPT*\n"
     ]
    },
    {
     "name": "stdout",
     "output_type": "stream",
     "text": [
      "INFO:tensorflow:  name = glowtts/FlowSpecDecoder/CouplingBlock_11/WN_0/weight_normalization_107/g:0, shape = (192,), *INIT_FROM_CKPT*\n"
     ]
    },
    {
     "name": "stderr",
     "output_type": "stream",
     "text": [
      "INFO:tensorflow:  name = glowtts/FlowSpecDecoder/CouplingBlock_11/WN_0/weight_normalization_107/g:0, shape = (192,), *INIT_FROM_CKPT*\n"
     ]
    },
    {
     "name": "stdout",
     "output_type": "stream",
     "text": [
      "INFO:tensorflow:  name = glowtts/FlowSpecDecoder/CouplingBlock_11/conv1d_113/kernel:0, shape = (1, 192, 160), *INIT_FROM_CKPT*\n"
     ]
    },
    {
     "name": "stderr",
     "output_type": "stream",
     "text": [
      "INFO:tensorflow:  name = glowtts/FlowSpecDecoder/CouplingBlock_11/conv1d_113/kernel:0, shape = (1, 192, 160), *INIT_FROM_CKPT*\n"
     ]
    },
    {
     "name": "stdout",
     "output_type": "stream",
     "text": [
      "INFO:tensorflow:  name = glowtts/FlowSpecDecoder/CouplingBlock_11/conv1d_113/bias:0, shape = (160,), *INIT_FROM_CKPT*\n"
     ]
    },
    {
     "name": "stderr",
     "output_type": "stream",
     "text": [
      "INFO:tensorflow:  name = glowtts/FlowSpecDecoder/CouplingBlock_11/conv1d_113/bias:0, shape = (160,), *INIT_FROM_CKPT*\n"
     ]
    },
    {
     "name": "stdout",
     "output_type": "stream",
     "text": [
      "INFO:tensorflow:  name = glowtts/FlowSpecDecoder/CouplingBlock_10/weight_normalization_90/kernel:0, shape = (1, 80, 192), *INIT_FROM_CKPT*\n"
     ]
    },
    {
     "name": "stderr",
     "output_type": "stream",
     "text": [
      "INFO:tensorflow:  name = glowtts/FlowSpecDecoder/CouplingBlock_10/weight_normalization_90/kernel:0, shape = (1, 80, 192), *INIT_FROM_CKPT*\n"
     ]
    },
    {
     "name": "stdout",
     "output_type": "stream",
     "text": [
      "INFO:tensorflow:  name = glowtts/FlowSpecDecoder/CouplingBlock_10/weight_normalization_90/bias:0, shape = (192,), *INIT_FROM_CKPT*\n"
     ]
    },
    {
     "name": "stderr",
     "output_type": "stream",
     "text": [
      "INFO:tensorflow:  name = glowtts/FlowSpecDecoder/CouplingBlock_10/weight_normalization_90/bias:0, shape = (192,), *INIT_FROM_CKPT*\n"
     ]
    },
    {
     "name": "stdout",
     "output_type": "stream",
     "text": [
      "INFO:tensorflow:  name = glowtts/FlowSpecDecoder/CouplingBlock_10/weight_normalization_90/g:0, shape = (192,), *INIT_FROM_CKPT*\n"
     ]
    },
    {
     "name": "stderr",
     "output_type": "stream",
     "text": [
      "INFO:tensorflow:  name = glowtts/FlowSpecDecoder/CouplingBlock_10/weight_normalization_90/g:0, shape = (192,), *INIT_FROM_CKPT*\n"
     ]
    },
    {
     "name": "stdout",
     "output_type": "stream",
     "text": [
      "INFO:tensorflow:  name = glowtts/FlowSpecDecoder/CouplingBlock_10/WN_0/weight_normalization_91/kernel:0, shape = (3, 192, 384), *INIT_FROM_CKPT*\n"
     ]
    },
    {
     "name": "stderr",
     "output_type": "stream",
     "text": [
      "INFO:tensorflow:  name = glowtts/FlowSpecDecoder/CouplingBlock_10/WN_0/weight_normalization_91/kernel:0, shape = (3, 192, 384), *INIT_FROM_CKPT*\n"
     ]
    },
    {
     "name": "stdout",
     "output_type": "stream",
     "text": [
      "INFO:tensorflow:  name = glowtts/FlowSpecDecoder/CouplingBlock_10/WN_0/weight_normalization_91/bias:0, shape = (384,), *INIT_FROM_CKPT*\n"
     ]
    },
    {
     "name": "stderr",
     "output_type": "stream",
     "text": [
      "INFO:tensorflow:  name = glowtts/FlowSpecDecoder/CouplingBlock_10/WN_0/weight_normalization_91/bias:0, shape = (384,), *INIT_FROM_CKPT*\n"
     ]
    },
    {
     "name": "stdout",
     "output_type": "stream",
     "text": [
      "INFO:tensorflow:  name = glowtts/FlowSpecDecoder/CouplingBlock_10/WN_0/weight_normalization_91/g:0, shape = (384,), *INIT_FROM_CKPT*\n"
     ]
    },
    {
     "name": "stderr",
     "output_type": "stream",
     "text": [
      "INFO:tensorflow:  name = glowtts/FlowSpecDecoder/CouplingBlock_10/WN_0/weight_normalization_91/g:0, shape = (384,), *INIT_FROM_CKPT*\n"
     ]
    },
    {
     "name": "stdout",
     "output_type": "stream",
     "text": [
      "INFO:tensorflow:  name = glowtts/FlowSpecDecoder/CouplingBlock_10/WN_0/weight_normalization_92/kernel:0, shape = (1, 192, 384), *INIT_FROM_CKPT*\n"
     ]
    },
    {
     "name": "stderr",
     "output_type": "stream",
     "text": [
      "INFO:tensorflow:  name = glowtts/FlowSpecDecoder/CouplingBlock_10/WN_0/weight_normalization_92/kernel:0, shape = (1, 192, 384), *INIT_FROM_CKPT*\n"
     ]
    },
    {
     "name": "stdout",
     "output_type": "stream",
     "text": [
      "INFO:tensorflow:  name = glowtts/FlowSpecDecoder/CouplingBlock_10/WN_0/weight_normalization_92/bias:0, shape = (384,), *INIT_FROM_CKPT*\n"
     ]
    },
    {
     "name": "stderr",
     "output_type": "stream",
     "text": [
      "INFO:tensorflow:  name = glowtts/FlowSpecDecoder/CouplingBlock_10/WN_0/weight_normalization_92/bias:0, shape = (384,), *INIT_FROM_CKPT*\n"
     ]
    },
    {
     "name": "stdout",
     "output_type": "stream",
     "text": [
      "INFO:tensorflow:  name = glowtts/FlowSpecDecoder/CouplingBlock_10/WN_0/weight_normalization_92/g:0, shape = (384,), *INIT_FROM_CKPT*\n"
     ]
    },
    {
     "name": "stderr",
     "output_type": "stream",
     "text": [
      "INFO:tensorflow:  name = glowtts/FlowSpecDecoder/CouplingBlock_10/WN_0/weight_normalization_92/g:0, shape = (384,), *INIT_FROM_CKPT*\n"
     ]
    },
    {
     "name": "stdout",
     "output_type": "stream",
     "text": [
      "INFO:tensorflow:  name = glowtts/FlowSpecDecoder/CouplingBlock_10/WN_0/weight_normalization_93/kernel:0, shape = (3, 192, 384), *INIT_FROM_CKPT*\n"
     ]
    },
    {
     "name": "stderr",
     "output_type": "stream",
     "text": [
      "INFO:tensorflow:  name = glowtts/FlowSpecDecoder/CouplingBlock_10/WN_0/weight_normalization_93/kernel:0, shape = (3, 192, 384), *INIT_FROM_CKPT*\n"
     ]
    },
    {
     "name": "stdout",
     "output_type": "stream",
     "text": [
      "INFO:tensorflow:  name = glowtts/FlowSpecDecoder/CouplingBlock_10/WN_0/weight_normalization_93/bias:0, shape = (384,), *INIT_FROM_CKPT*\n"
     ]
    },
    {
     "name": "stderr",
     "output_type": "stream",
     "text": [
      "INFO:tensorflow:  name = glowtts/FlowSpecDecoder/CouplingBlock_10/WN_0/weight_normalization_93/bias:0, shape = (384,), *INIT_FROM_CKPT*\n"
     ]
    },
    {
     "name": "stdout",
     "output_type": "stream",
     "text": [
      "INFO:tensorflow:  name = glowtts/FlowSpecDecoder/CouplingBlock_10/WN_0/weight_normalization_93/g:0, shape = (384,), *INIT_FROM_CKPT*\n"
     ]
    },
    {
     "name": "stderr",
     "output_type": "stream",
     "text": [
      "INFO:tensorflow:  name = glowtts/FlowSpecDecoder/CouplingBlock_10/WN_0/weight_normalization_93/g:0, shape = (384,), *INIT_FROM_CKPT*\n"
     ]
    },
    {
     "name": "stdout",
     "output_type": "stream",
     "text": [
      "INFO:tensorflow:  name = glowtts/FlowSpecDecoder/CouplingBlock_10/WN_0/weight_normalization_94/kernel:0, shape = (1, 192, 384), *INIT_FROM_CKPT*\n"
     ]
    },
    {
     "name": "stderr",
     "output_type": "stream",
     "text": [
      "INFO:tensorflow:  name = glowtts/FlowSpecDecoder/CouplingBlock_10/WN_0/weight_normalization_94/kernel:0, shape = (1, 192, 384), *INIT_FROM_CKPT*\n"
     ]
    },
    {
     "name": "stdout",
     "output_type": "stream",
     "text": [
      "INFO:tensorflow:  name = glowtts/FlowSpecDecoder/CouplingBlock_10/WN_0/weight_normalization_94/bias:0, shape = (384,), *INIT_FROM_CKPT*\n"
     ]
    },
    {
     "name": "stderr",
     "output_type": "stream",
     "text": [
      "INFO:tensorflow:  name = glowtts/FlowSpecDecoder/CouplingBlock_10/WN_0/weight_normalization_94/bias:0, shape = (384,), *INIT_FROM_CKPT*\n"
     ]
    },
    {
     "name": "stdout",
     "output_type": "stream",
     "text": [
      "INFO:tensorflow:  name = glowtts/FlowSpecDecoder/CouplingBlock_10/WN_0/weight_normalization_94/g:0, shape = (384,), *INIT_FROM_CKPT*\n"
     ]
    },
    {
     "name": "stderr",
     "output_type": "stream",
     "text": [
      "INFO:tensorflow:  name = glowtts/FlowSpecDecoder/CouplingBlock_10/WN_0/weight_normalization_94/g:0, shape = (384,), *INIT_FROM_CKPT*\n"
     ]
    },
    {
     "name": "stdout",
     "output_type": "stream",
     "text": [
      "INFO:tensorflow:  name = glowtts/FlowSpecDecoder/CouplingBlock_10/WN_0/weight_normalization_95/kernel:0, shape = (3, 192, 384), *INIT_FROM_CKPT*\n"
     ]
    },
    {
     "name": "stderr",
     "output_type": "stream",
     "text": [
      "INFO:tensorflow:  name = glowtts/FlowSpecDecoder/CouplingBlock_10/WN_0/weight_normalization_95/kernel:0, shape = (3, 192, 384), *INIT_FROM_CKPT*\n"
     ]
    },
    {
     "name": "stdout",
     "output_type": "stream",
     "text": [
      "INFO:tensorflow:  name = glowtts/FlowSpecDecoder/CouplingBlock_10/WN_0/weight_normalization_95/bias:0, shape = (384,), *INIT_FROM_CKPT*\n"
     ]
    },
    {
     "name": "stderr",
     "output_type": "stream",
     "text": [
      "INFO:tensorflow:  name = glowtts/FlowSpecDecoder/CouplingBlock_10/WN_0/weight_normalization_95/bias:0, shape = (384,), *INIT_FROM_CKPT*\n"
     ]
    },
    {
     "name": "stdout",
     "output_type": "stream",
     "text": [
      "INFO:tensorflow:  name = glowtts/FlowSpecDecoder/CouplingBlock_10/WN_0/weight_normalization_95/g:0, shape = (384,), *INIT_FROM_CKPT*\n"
     ]
    },
    {
     "name": "stderr",
     "output_type": "stream",
     "text": [
      "INFO:tensorflow:  name = glowtts/FlowSpecDecoder/CouplingBlock_10/WN_0/weight_normalization_95/g:0, shape = (384,), *INIT_FROM_CKPT*\n"
     ]
    },
    {
     "name": "stdout",
     "output_type": "stream",
     "text": [
      "INFO:tensorflow:  name = glowtts/FlowSpecDecoder/CouplingBlock_10/WN_0/weight_normalization_96/kernel:0, shape = (1, 192, 384), *INIT_FROM_CKPT*\n"
     ]
    },
    {
     "name": "stderr",
     "output_type": "stream",
     "text": [
      "INFO:tensorflow:  name = glowtts/FlowSpecDecoder/CouplingBlock_10/WN_0/weight_normalization_96/kernel:0, shape = (1, 192, 384), *INIT_FROM_CKPT*\n"
     ]
    },
    {
     "name": "stdout",
     "output_type": "stream",
     "text": [
      "INFO:tensorflow:  name = glowtts/FlowSpecDecoder/CouplingBlock_10/WN_0/weight_normalization_96/bias:0, shape = (384,), *INIT_FROM_CKPT*\n"
     ]
    },
    {
     "name": "stderr",
     "output_type": "stream",
     "text": [
      "INFO:tensorflow:  name = glowtts/FlowSpecDecoder/CouplingBlock_10/WN_0/weight_normalization_96/bias:0, shape = (384,), *INIT_FROM_CKPT*\n"
     ]
    },
    {
     "name": "stdout",
     "output_type": "stream",
     "text": [
      "INFO:tensorflow:  name = glowtts/FlowSpecDecoder/CouplingBlock_10/WN_0/weight_normalization_96/g:0, shape = (384,), *INIT_FROM_CKPT*\n"
     ]
    },
    {
     "name": "stderr",
     "output_type": "stream",
     "text": [
      "INFO:tensorflow:  name = glowtts/FlowSpecDecoder/CouplingBlock_10/WN_0/weight_normalization_96/g:0, shape = (384,), *INIT_FROM_CKPT*\n"
     ]
    },
    {
     "name": "stdout",
     "output_type": "stream",
     "text": [
      "INFO:tensorflow:  name = glowtts/FlowSpecDecoder/CouplingBlock_10/WN_0/weight_normalization_97/kernel:0, shape = (3, 192, 384), *INIT_FROM_CKPT*\n"
     ]
    },
    {
     "name": "stderr",
     "output_type": "stream",
     "text": [
      "INFO:tensorflow:  name = glowtts/FlowSpecDecoder/CouplingBlock_10/WN_0/weight_normalization_97/kernel:0, shape = (3, 192, 384), *INIT_FROM_CKPT*\n"
     ]
    },
    {
     "name": "stdout",
     "output_type": "stream",
     "text": [
      "INFO:tensorflow:  name = glowtts/FlowSpecDecoder/CouplingBlock_10/WN_0/weight_normalization_97/bias:0, shape = (384,), *INIT_FROM_CKPT*\n"
     ]
    },
    {
     "name": "stderr",
     "output_type": "stream",
     "text": [
      "INFO:tensorflow:  name = glowtts/FlowSpecDecoder/CouplingBlock_10/WN_0/weight_normalization_97/bias:0, shape = (384,), *INIT_FROM_CKPT*\n"
     ]
    },
    {
     "name": "stdout",
     "output_type": "stream",
     "text": [
      "INFO:tensorflow:  name = glowtts/FlowSpecDecoder/CouplingBlock_10/WN_0/weight_normalization_97/g:0, shape = (384,), *INIT_FROM_CKPT*\n"
     ]
    },
    {
     "name": "stderr",
     "output_type": "stream",
     "text": [
      "INFO:tensorflow:  name = glowtts/FlowSpecDecoder/CouplingBlock_10/WN_0/weight_normalization_97/g:0, shape = (384,), *INIT_FROM_CKPT*\n"
     ]
    },
    {
     "name": "stdout",
     "output_type": "stream",
     "text": [
      "INFO:tensorflow:  name = glowtts/FlowSpecDecoder/CouplingBlock_10/WN_0/weight_normalization_98/kernel:0, shape = (1, 192, 192), *INIT_FROM_CKPT*\n"
     ]
    },
    {
     "name": "stderr",
     "output_type": "stream",
     "text": [
      "INFO:tensorflow:  name = glowtts/FlowSpecDecoder/CouplingBlock_10/WN_0/weight_normalization_98/kernel:0, shape = (1, 192, 192), *INIT_FROM_CKPT*\n"
     ]
    },
    {
     "name": "stdout",
     "output_type": "stream",
     "text": [
      "INFO:tensorflow:  name = glowtts/FlowSpecDecoder/CouplingBlock_10/WN_0/weight_normalization_98/bias:0, shape = (192,), *INIT_FROM_CKPT*\n"
     ]
    },
    {
     "name": "stderr",
     "output_type": "stream",
     "text": [
      "INFO:tensorflow:  name = glowtts/FlowSpecDecoder/CouplingBlock_10/WN_0/weight_normalization_98/bias:0, shape = (192,), *INIT_FROM_CKPT*\n"
     ]
    },
    {
     "name": "stdout",
     "output_type": "stream",
     "text": [
      "INFO:tensorflow:  name = glowtts/FlowSpecDecoder/CouplingBlock_10/WN_0/weight_normalization_98/g:0, shape = (192,), *INIT_FROM_CKPT*\n"
     ]
    },
    {
     "name": "stderr",
     "output_type": "stream",
     "text": [
      "INFO:tensorflow:  name = glowtts/FlowSpecDecoder/CouplingBlock_10/WN_0/weight_normalization_98/g:0, shape = (192,), *INIT_FROM_CKPT*\n"
     ]
    },
    {
     "name": "stdout",
     "output_type": "stream",
     "text": [
      "INFO:tensorflow:  name = glowtts/FlowSpecDecoder/CouplingBlock_10/conv1d_103/kernel:0, shape = (1, 192, 160), *INIT_FROM_CKPT*\n"
     ]
    },
    {
     "name": "stderr",
     "output_type": "stream",
     "text": [
      "INFO:tensorflow:  name = glowtts/FlowSpecDecoder/CouplingBlock_10/conv1d_103/kernel:0, shape = (1, 192, 160), *INIT_FROM_CKPT*\n"
     ]
    },
    {
     "name": "stdout",
     "output_type": "stream",
     "text": [
      "INFO:tensorflow:  name = glowtts/FlowSpecDecoder/CouplingBlock_10/conv1d_103/bias:0, shape = (160,), *INIT_FROM_CKPT*\n"
     ]
    },
    {
     "name": "stderr",
     "output_type": "stream",
     "text": [
      "INFO:tensorflow:  name = glowtts/FlowSpecDecoder/CouplingBlock_10/conv1d_103/bias:0, shape = (160,), *INIT_FROM_CKPT*\n"
     ]
    },
    {
     "name": "stdout",
     "output_type": "stream",
     "text": [
      "INFO:tensorflow:  name = glowtts/FlowSpecDecoder/CouplingBlock_9/weight_normalization_81/kernel:0, shape = (1, 80, 192), *INIT_FROM_CKPT*\n"
     ]
    },
    {
     "name": "stderr",
     "output_type": "stream",
     "text": [
      "INFO:tensorflow:  name = glowtts/FlowSpecDecoder/CouplingBlock_9/weight_normalization_81/kernel:0, shape = (1, 80, 192), *INIT_FROM_CKPT*\n"
     ]
    },
    {
     "name": "stdout",
     "output_type": "stream",
     "text": [
      "INFO:tensorflow:  name = glowtts/FlowSpecDecoder/CouplingBlock_9/weight_normalization_81/bias:0, shape = (192,), *INIT_FROM_CKPT*\n"
     ]
    },
    {
     "name": "stderr",
     "output_type": "stream",
     "text": [
      "INFO:tensorflow:  name = glowtts/FlowSpecDecoder/CouplingBlock_9/weight_normalization_81/bias:0, shape = (192,), *INIT_FROM_CKPT*\n"
     ]
    },
    {
     "name": "stdout",
     "output_type": "stream",
     "text": [
      "INFO:tensorflow:  name = glowtts/FlowSpecDecoder/CouplingBlock_9/weight_normalization_81/g:0, shape = (192,), *INIT_FROM_CKPT*\n"
     ]
    },
    {
     "name": "stderr",
     "output_type": "stream",
     "text": [
      "INFO:tensorflow:  name = glowtts/FlowSpecDecoder/CouplingBlock_9/weight_normalization_81/g:0, shape = (192,), *INIT_FROM_CKPT*\n"
     ]
    },
    {
     "name": "stdout",
     "output_type": "stream",
     "text": [
      "INFO:tensorflow:  name = glowtts/FlowSpecDecoder/CouplingBlock_9/WN_0/weight_normalization_82/kernel:0, shape = (3, 192, 384), *INIT_FROM_CKPT*\n"
     ]
    },
    {
     "name": "stderr",
     "output_type": "stream",
     "text": [
      "INFO:tensorflow:  name = glowtts/FlowSpecDecoder/CouplingBlock_9/WN_0/weight_normalization_82/kernel:0, shape = (3, 192, 384), *INIT_FROM_CKPT*\n"
     ]
    },
    {
     "name": "stdout",
     "output_type": "stream",
     "text": [
      "INFO:tensorflow:  name = glowtts/FlowSpecDecoder/CouplingBlock_9/WN_0/weight_normalization_82/bias:0, shape = (384,), *INIT_FROM_CKPT*\n"
     ]
    },
    {
     "name": "stderr",
     "output_type": "stream",
     "text": [
      "INFO:tensorflow:  name = glowtts/FlowSpecDecoder/CouplingBlock_9/WN_0/weight_normalization_82/bias:0, shape = (384,), *INIT_FROM_CKPT*\n"
     ]
    },
    {
     "name": "stdout",
     "output_type": "stream",
     "text": [
      "INFO:tensorflow:  name = glowtts/FlowSpecDecoder/CouplingBlock_9/WN_0/weight_normalization_82/g:0, shape = (384,), *INIT_FROM_CKPT*\n"
     ]
    },
    {
     "name": "stderr",
     "output_type": "stream",
     "text": [
      "INFO:tensorflow:  name = glowtts/FlowSpecDecoder/CouplingBlock_9/WN_0/weight_normalization_82/g:0, shape = (384,), *INIT_FROM_CKPT*\n"
     ]
    },
    {
     "name": "stdout",
     "output_type": "stream",
     "text": [
      "INFO:tensorflow:  name = glowtts/FlowSpecDecoder/CouplingBlock_9/WN_0/weight_normalization_83/kernel:0, shape = (1, 192, 384), *INIT_FROM_CKPT*\n"
     ]
    },
    {
     "name": "stderr",
     "output_type": "stream",
     "text": [
      "INFO:tensorflow:  name = glowtts/FlowSpecDecoder/CouplingBlock_9/WN_0/weight_normalization_83/kernel:0, shape = (1, 192, 384), *INIT_FROM_CKPT*\n"
     ]
    },
    {
     "name": "stdout",
     "output_type": "stream",
     "text": [
      "INFO:tensorflow:  name = glowtts/FlowSpecDecoder/CouplingBlock_9/WN_0/weight_normalization_83/bias:0, shape = (384,), *INIT_FROM_CKPT*\n"
     ]
    },
    {
     "name": "stderr",
     "output_type": "stream",
     "text": [
      "INFO:tensorflow:  name = glowtts/FlowSpecDecoder/CouplingBlock_9/WN_0/weight_normalization_83/bias:0, shape = (384,), *INIT_FROM_CKPT*\n"
     ]
    },
    {
     "name": "stdout",
     "output_type": "stream",
     "text": [
      "INFO:tensorflow:  name = glowtts/FlowSpecDecoder/CouplingBlock_9/WN_0/weight_normalization_83/g:0, shape = (384,), *INIT_FROM_CKPT*\n"
     ]
    },
    {
     "name": "stderr",
     "output_type": "stream",
     "text": [
      "INFO:tensorflow:  name = glowtts/FlowSpecDecoder/CouplingBlock_9/WN_0/weight_normalization_83/g:0, shape = (384,), *INIT_FROM_CKPT*\n"
     ]
    },
    {
     "name": "stdout",
     "output_type": "stream",
     "text": [
      "INFO:tensorflow:  name = glowtts/FlowSpecDecoder/CouplingBlock_9/WN_0/weight_normalization_84/kernel:0, shape = (3, 192, 384), *INIT_FROM_CKPT*\n"
     ]
    },
    {
     "name": "stderr",
     "output_type": "stream",
     "text": [
      "INFO:tensorflow:  name = glowtts/FlowSpecDecoder/CouplingBlock_9/WN_0/weight_normalization_84/kernel:0, shape = (3, 192, 384), *INIT_FROM_CKPT*\n"
     ]
    },
    {
     "name": "stdout",
     "output_type": "stream",
     "text": [
      "INFO:tensorflow:  name = glowtts/FlowSpecDecoder/CouplingBlock_9/WN_0/weight_normalization_84/bias:0, shape = (384,), *INIT_FROM_CKPT*\n"
     ]
    },
    {
     "name": "stderr",
     "output_type": "stream",
     "text": [
      "INFO:tensorflow:  name = glowtts/FlowSpecDecoder/CouplingBlock_9/WN_0/weight_normalization_84/bias:0, shape = (384,), *INIT_FROM_CKPT*\n"
     ]
    },
    {
     "name": "stdout",
     "output_type": "stream",
     "text": [
      "INFO:tensorflow:  name = glowtts/FlowSpecDecoder/CouplingBlock_9/WN_0/weight_normalization_84/g:0, shape = (384,), *INIT_FROM_CKPT*\n"
     ]
    },
    {
     "name": "stderr",
     "output_type": "stream",
     "text": [
      "INFO:tensorflow:  name = glowtts/FlowSpecDecoder/CouplingBlock_9/WN_0/weight_normalization_84/g:0, shape = (384,), *INIT_FROM_CKPT*\n"
     ]
    },
    {
     "name": "stdout",
     "output_type": "stream",
     "text": [
      "INFO:tensorflow:  name = glowtts/FlowSpecDecoder/CouplingBlock_9/WN_0/weight_normalization_85/kernel:0, shape = (1, 192, 384), *INIT_FROM_CKPT*\n"
     ]
    },
    {
     "name": "stderr",
     "output_type": "stream",
     "text": [
      "INFO:tensorflow:  name = glowtts/FlowSpecDecoder/CouplingBlock_9/WN_0/weight_normalization_85/kernel:0, shape = (1, 192, 384), *INIT_FROM_CKPT*\n"
     ]
    },
    {
     "name": "stdout",
     "output_type": "stream",
     "text": [
      "INFO:tensorflow:  name = glowtts/FlowSpecDecoder/CouplingBlock_9/WN_0/weight_normalization_85/bias:0, shape = (384,), *INIT_FROM_CKPT*\n"
     ]
    },
    {
     "name": "stderr",
     "output_type": "stream",
     "text": [
      "INFO:tensorflow:  name = glowtts/FlowSpecDecoder/CouplingBlock_9/WN_0/weight_normalization_85/bias:0, shape = (384,), *INIT_FROM_CKPT*\n"
     ]
    },
    {
     "name": "stdout",
     "output_type": "stream",
     "text": [
      "INFO:tensorflow:  name = glowtts/FlowSpecDecoder/CouplingBlock_9/WN_0/weight_normalization_85/g:0, shape = (384,), *INIT_FROM_CKPT*\n"
     ]
    },
    {
     "name": "stderr",
     "output_type": "stream",
     "text": [
      "INFO:tensorflow:  name = glowtts/FlowSpecDecoder/CouplingBlock_9/WN_0/weight_normalization_85/g:0, shape = (384,), *INIT_FROM_CKPT*\n"
     ]
    },
    {
     "name": "stdout",
     "output_type": "stream",
     "text": [
      "INFO:tensorflow:  name = glowtts/FlowSpecDecoder/CouplingBlock_9/WN_0/weight_normalization_86/kernel:0, shape = (3, 192, 384), *INIT_FROM_CKPT*\n"
     ]
    },
    {
     "name": "stderr",
     "output_type": "stream",
     "text": [
      "INFO:tensorflow:  name = glowtts/FlowSpecDecoder/CouplingBlock_9/WN_0/weight_normalization_86/kernel:0, shape = (3, 192, 384), *INIT_FROM_CKPT*\n"
     ]
    },
    {
     "name": "stdout",
     "output_type": "stream",
     "text": [
      "INFO:tensorflow:  name = glowtts/FlowSpecDecoder/CouplingBlock_9/WN_0/weight_normalization_86/bias:0, shape = (384,), *INIT_FROM_CKPT*\n"
     ]
    },
    {
     "name": "stderr",
     "output_type": "stream",
     "text": [
      "INFO:tensorflow:  name = glowtts/FlowSpecDecoder/CouplingBlock_9/WN_0/weight_normalization_86/bias:0, shape = (384,), *INIT_FROM_CKPT*\n"
     ]
    },
    {
     "name": "stdout",
     "output_type": "stream",
     "text": [
      "INFO:tensorflow:  name = glowtts/FlowSpecDecoder/CouplingBlock_9/WN_0/weight_normalization_86/g:0, shape = (384,), *INIT_FROM_CKPT*\n"
     ]
    },
    {
     "name": "stderr",
     "output_type": "stream",
     "text": [
      "INFO:tensorflow:  name = glowtts/FlowSpecDecoder/CouplingBlock_9/WN_0/weight_normalization_86/g:0, shape = (384,), *INIT_FROM_CKPT*\n"
     ]
    },
    {
     "name": "stdout",
     "output_type": "stream",
     "text": [
      "INFO:tensorflow:  name = glowtts/FlowSpecDecoder/CouplingBlock_9/WN_0/weight_normalization_87/kernel:0, shape = (1, 192, 384), *INIT_FROM_CKPT*\n"
     ]
    },
    {
     "name": "stderr",
     "output_type": "stream",
     "text": [
      "INFO:tensorflow:  name = glowtts/FlowSpecDecoder/CouplingBlock_9/WN_0/weight_normalization_87/kernel:0, shape = (1, 192, 384), *INIT_FROM_CKPT*\n"
     ]
    },
    {
     "name": "stdout",
     "output_type": "stream",
     "text": [
      "INFO:tensorflow:  name = glowtts/FlowSpecDecoder/CouplingBlock_9/WN_0/weight_normalization_87/bias:0, shape = (384,), *INIT_FROM_CKPT*\n"
     ]
    },
    {
     "name": "stderr",
     "output_type": "stream",
     "text": [
      "INFO:tensorflow:  name = glowtts/FlowSpecDecoder/CouplingBlock_9/WN_0/weight_normalization_87/bias:0, shape = (384,), *INIT_FROM_CKPT*\n"
     ]
    },
    {
     "name": "stdout",
     "output_type": "stream",
     "text": [
      "INFO:tensorflow:  name = glowtts/FlowSpecDecoder/CouplingBlock_9/WN_0/weight_normalization_87/g:0, shape = (384,), *INIT_FROM_CKPT*\n"
     ]
    },
    {
     "name": "stderr",
     "output_type": "stream",
     "text": [
      "INFO:tensorflow:  name = glowtts/FlowSpecDecoder/CouplingBlock_9/WN_0/weight_normalization_87/g:0, shape = (384,), *INIT_FROM_CKPT*\n"
     ]
    },
    {
     "name": "stdout",
     "output_type": "stream",
     "text": [
      "INFO:tensorflow:  name = glowtts/FlowSpecDecoder/CouplingBlock_9/WN_0/weight_normalization_88/kernel:0, shape = (3, 192, 384), *INIT_FROM_CKPT*\n"
     ]
    },
    {
     "name": "stderr",
     "output_type": "stream",
     "text": [
      "INFO:tensorflow:  name = glowtts/FlowSpecDecoder/CouplingBlock_9/WN_0/weight_normalization_88/kernel:0, shape = (3, 192, 384), *INIT_FROM_CKPT*\n"
     ]
    },
    {
     "name": "stdout",
     "output_type": "stream",
     "text": [
      "INFO:tensorflow:  name = glowtts/FlowSpecDecoder/CouplingBlock_9/WN_0/weight_normalization_88/bias:0, shape = (384,), *INIT_FROM_CKPT*\n"
     ]
    },
    {
     "name": "stderr",
     "output_type": "stream",
     "text": [
      "INFO:tensorflow:  name = glowtts/FlowSpecDecoder/CouplingBlock_9/WN_0/weight_normalization_88/bias:0, shape = (384,), *INIT_FROM_CKPT*\n"
     ]
    },
    {
     "name": "stdout",
     "output_type": "stream",
     "text": [
      "INFO:tensorflow:  name = glowtts/FlowSpecDecoder/CouplingBlock_9/WN_0/weight_normalization_88/g:0, shape = (384,), *INIT_FROM_CKPT*\n"
     ]
    },
    {
     "name": "stderr",
     "output_type": "stream",
     "text": [
      "INFO:tensorflow:  name = glowtts/FlowSpecDecoder/CouplingBlock_9/WN_0/weight_normalization_88/g:0, shape = (384,), *INIT_FROM_CKPT*\n"
     ]
    },
    {
     "name": "stdout",
     "output_type": "stream",
     "text": [
      "INFO:tensorflow:  name = glowtts/FlowSpecDecoder/CouplingBlock_9/WN_0/weight_normalization_89/kernel:0, shape = (1, 192, 192), *INIT_FROM_CKPT*\n"
     ]
    },
    {
     "name": "stderr",
     "output_type": "stream",
     "text": [
      "INFO:tensorflow:  name = glowtts/FlowSpecDecoder/CouplingBlock_9/WN_0/weight_normalization_89/kernel:0, shape = (1, 192, 192), *INIT_FROM_CKPT*\n"
     ]
    },
    {
     "name": "stdout",
     "output_type": "stream",
     "text": [
      "INFO:tensorflow:  name = glowtts/FlowSpecDecoder/CouplingBlock_9/WN_0/weight_normalization_89/bias:0, shape = (192,), *INIT_FROM_CKPT*\n"
     ]
    },
    {
     "name": "stderr",
     "output_type": "stream",
     "text": [
      "INFO:tensorflow:  name = glowtts/FlowSpecDecoder/CouplingBlock_9/WN_0/weight_normalization_89/bias:0, shape = (192,), *INIT_FROM_CKPT*\n"
     ]
    },
    {
     "name": "stdout",
     "output_type": "stream",
     "text": [
      "INFO:tensorflow:  name = glowtts/FlowSpecDecoder/CouplingBlock_9/WN_0/weight_normalization_89/g:0, shape = (192,), *INIT_FROM_CKPT*\n"
     ]
    },
    {
     "name": "stderr",
     "output_type": "stream",
     "text": [
      "INFO:tensorflow:  name = glowtts/FlowSpecDecoder/CouplingBlock_9/WN_0/weight_normalization_89/g:0, shape = (192,), *INIT_FROM_CKPT*\n"
     ]
    },
    {
     "name": "stdout",
     "output_type": "stream",
     "text": [
      "INFO:tensorflow:  name = glowtts/FlowSpecDecoder/CouplingBlock_9/conv1d_93/kernel:0, shape = (1, 192, 160), *INIT_FROM_CKPT*\n"
     ]
    },
    {
     "name": "stderr",
     "output_type": "stream",
     "text": [
      "INFO:tensorflow:  name = glowtts/FlowSpecDecoder/CouplingBlock_9/conv1d_93/kernel:0, shape = (1, 192, 160), *INIT_FROM_CKPT*\n"
     ]
    },
    {
     "name": "stdout",
     "output_type": "stream",
     "text": [
      "INFO:tensorflow:  name = glowtts/FlowSpecDecoder/CouplingBlock_9/conv1d_93/bias:0, shape = (160,), *INIT_FROM_CKPT*\n"
     ]
    },
    {
     "name": "stderr",
     "output_type": "stream",
     "text": [
      "INFO:tensorflow:  name = glowtts/FlowSpecDecoder/CouplingBlock_9/conv1d_93/bias:0, shape = (160,), *INIT_FROM_CKPT*\n"
     ]
    },
    {
     "name": "stdout",
     "output_type": "stream",
     "text": [
      "INFO:tensorflow:  name = glowtts/FlowSpecDecoder/CouplingBlock_8/weight_normalization_72/kernel:0, shape = (1, 80, 192), *INIT_FROM_CKPT*\n"
     ]
    },
    {
     "name": "stderr",
     "output_type": "stream",
     "text": [
      "INFO:tensorflow:  name = glowtts/FlowSpecDecoder/CouplingBlock_8/weight_normalization_72/kernel:0, shape = (1, 80, 192), *INIT_FROM_CKPT*\n"
     ]
    },
    {
     "name": "stdout",
     "output_type": "stream",
     "text": [
      "INFO:tensorflow:  name = glowtts/FlowSpecDecoder/CouplingBlock_8/weight_normalization_72/bias:0, shape = (192,), *INIT_FROM_CKPT*\n"
     ]
    },
    {
     "name": "stderr",
     "output_type": "stream",
     "text": [
      "INFO:tensorflow:  name = glowtts/FlowSpecDecoder/CouplingBlock_8/weight_normalization_72/bias:0, shape = (192,), *INIT_FROM_CKPT*\n"
     ]
    },
    {
     "name": "stdout",
     "output_type": "stream",
     "text": [
      "INFO:tensorflow:  name = glowtts/FlowSpecDecoder/CouplingBlock_8/weight_normalization_72/g:0, shape = (192,), *INIT_FROM_CKPT*\n"
     ]
    },
    {
     "name": "stderr",
     "output_type": "stream",
     "text": [
      "INFO:tensorflow:  name = glowtts/FlowSpecDecoder/CouplingBlock_8/weight_normalization_72/g:0, shape = (192,), *INIT_FROM_CKPT*\n"
     ]
    },
    {
     "name": "stdout",
     "output_type": "stream",
     "text": [
      "INFO:tensorflow:  name = glowtts/FlowSpecDecoder/CouplingBlock_8/WN_0/weight_normalization_73/kernel:0, shape = (3, 192, 384), *INIT_FROM_CKPT*\n"
     ]
    },
    {
     "name": "stderr",
     "output_type": "stream",
     "text": [
      "INFO:tensorflow:  name = glowtts/FlowSpecDecoder/CouplingBlock_8/WN_0/weight_normalization_73/kernel:0, shape = (3, 192, 384), *INIT_FROM_CKPT*\n"
     ]
    },
    {
     "name": "stdout",
     "output_type": "stream",
     "text": [
      "INFO:tensorflow:  name = glowtts/FlowSpecDecoder/CouplingBlock_8/WN_0/weight_normalization_73/bias:0, shape = (384,), *INIT_FROM_CKPT*\n"
     ]
    },
    {
     "name": "stderr",
     "output_type": "stream",
     "text": [
      "INFO:tensorflow:  name = glowtts/FlowSpecDecoder/CouplingBlock_8/WN_0/weight_normalization_73/bias:0, shape = (384,), *INIT_FROM_CKPT*\n"
     ]
    },
    {
     "name": "stdout",
     "output_type": "stream",
     "text": [
      "INFO:tensorflow:  name = glowtts/FlowSpecDecoder/CouplingBlock_8/WN_0/weight_normalization_73/g:0, shape = (384,), *INIT_FROM_CKPT*\n"
     ]
    },
    {
     "name": "stderr",
     "output_type": "stream",
     "text": [
      "INFO:tensorflow:  name = glowtts/FlowSpecDecoder/CouplingBlock_8/WN_0/weight_normalization_73/g:0, shape = (384,), *INIT_FROM_CKPT*\n"
     ]
    },
    {
     "name": "stdout",
     "output_type": "stream",
     "text": [
      "INFO:tensorflow:  name = glowtts/FlowSpecDecoder/CouplingBlock_8/WN_0/weight_normalization_74/kernel:0, shape = (1, 192, 384), *INIT_FROM_CKPT*\n"
     ]
    },
    {
     "name": "stderr",
     "output_type": "stream",
     "text": [
      "INFO:tensorflow:  name = glowtts/FlowSpecDecoder/CouplingBlock_8/WN_0/weight_normalization_74/kernel:0, shape = (1, 192, 384), *INIT_FROM_CKPT*\n"
     ]
    },
    {
     "name": "stdout",
     "output_type": "stream",
     "text": [
      "INFO:tensorflow:  name = glowtts/FlowSpecDecoder/CouplingBlock_8/WN_0/weight_normalization_74/bias:0, shape = (384,), *INIT_FROM_CKPT*\n"
     ]
    },
    {
     "name": "stderr",
     "output_type": "stream",
     "text": [
      "INFO:tensorflow:  name = glowtts/FlowSpecDecoder/CouplingBlock_8/WN_0/weight_normalization_74/bias:0, shape = (384,), *INIT_FROM_CKPT*\n"
     ]
    },
    {
     "name": "stdout",
     "output_type": "stream",
     "text": [
      "INFO:tensorflow:  name = glowtts/FlowSpecDecoder/CouplingBlock_8/WN_0/weight_normalization_74/g:0, shape = (384,), *INIT_FROM_CKPT*\n"
     ]
    },
    {
     "name": "stderr",
     "output_type": "stream",
     "text": [
      "INFO:tensorflow:  name = glowtts/FlowSpecDecoder/CouplingBlock_8/WN_0/weight_normalization_74/g:0, shape = (384,), *INIT_FROM_CKPT*\n"
     ]
    },
    {
     "name": "stdout",
     "output_type": "stream",
     "text": [
      "INFO:tensorflow:  name = glowtts/FlowSpecDecoder/CouplingBlock_8/WN_0/weight_normalization_75/kernel:0, shape = (3, 192, 384), *INIT_FROM_CKPT*\n"
     ]
    },
    {
     "name": "stderr",
     "output_type": "stream",
     "text": [
      "INFO:tensorflow:  name = glowtts/FlowSpecDecoder/CouplingBlock_8/WN_0/weight_normalization_75/kernel:0, shape = (3, 192, 384), *INIT_FROM_CKPT*\n"
     ]
    },
    {
     "name": "stdout",
     "output_type": "stream",
     "text": [
      "INFO:tensorflow:  name = glowtts/FlowSpecDecoder/CouplingBlock_8/WN_0/weight_normalization_75/bias:0, shape = (384,), *INIT_FROM_CKPT*\n"
     ]
    },
    {
     "name": "stderr",
     "output_type": "stream",
     "text": [
      "INFO:tensorflow:  name = glowtts/FlowSpecDecoder/CouplingBlock_8/WN_0/weight_normalization_75/bias:0, shape = (384,), *INIT_FROM_CKPT*\n"
     ]
    },
    {
     "name": "stdout",
     "output_type": "stream",
     "text": [
      "INFO:tensorflow:  name = glowtts/FlowSpecDecoder/CouplingBlock_8/WN_0/weight_normalization_75/g:0, shape = (384,), *INIT_FROM_CKPT*\n"
     ]
    },
    {
     "name": "stderr",
     "output_type": "stream",
     "text": [
      "INFO:tensorflow:  name = glowtts/FlowSpecDecoder/CouplingBlock_8/WN_0/weight_normalization_75/g:0, shape = (384,), *INIT_FROM_CKPT*\n"
     ]
    },
    {
     "name": "stdout",
     "output_type": "stream",
     "text": [
      "INFO:tensorflow:  name = glowtts/FlowSpecDecoder/CouplingBlock_8/WN_0/weight_normalization_76/kernel:0, shape = (1, 192, 384), *INIT_FROM_CKPT*\n"
     ]
    },
    {
     "name": "stderr",
     "output_type": "stream",
     "text": [
      "INFO:tensorflow:  name = glowtts/FlowSpecDecoder/CouplingBlock_8/WN_0/weight_normalization_76/kernel:0, shape = (1, 192, 384), *INIT_FROM_CKPT*\n"
     ]
    },
    {
     "name": "stdout",
     "output_type": "stream",
     "text": [
      "INFO:tensorflow:  name = glowtts/FlowSpecDecoder/CouplingBlock_8/WN_0/weight_normalization_76/bias:0, shape = (384,), *INIT_FROM_CKPT*\n"
     ]
    },
    {
     "name": "stderr",
     "output_type": "stream",
     "text": [
      "INFO:tensorflow:  name = glowtts/FlowSpecDecoder/CouplingBlock_8/WN_0/weight_normalization_76/bias:0, shape = (384,), *INIT_FROM_CKPT*\n"
     ]
    },
    {
     "name": "stdout",
     "output_type": "stream",
     "text": [
      "INFO:tensorflow:  name = glowtts/FlowSpecDecoder/CouplingBlock_8/WN_0/weight_normalization_76/g:0, shape = (384,), *INIT_FROM_CKPT*\n"
     ]
    },
    {
     "name": "stderr",
     "output_type": "stream",
     "text": [
      "INFO:tensorflow:  name = glowtts/FlowSpecDecoder/CouplingBlock_8/WN_0/weight_normalization_76/g:0, shape = (384,), *INIT_FROM_CKPT*\n"
     ]
    },
    {
     "name": "stdout",
     "output_type": "stream",
     "text": [
      "INFO:tensorflow:  name = glowtts/FlowSpecDecoder/CouplingBlock_8/WN_0/weight_normalization_77/kernel:0, shape = (3, 192, 384), *INIT_FROM_CKPT*\n"
     ]
    },
    {
     "name": "stderr",
     "output_type": "stream",
     "text": [
      "INFO:tensorflow:  name = glowtts/FlowSpecDecoder/CouplingBlock_8/WN_0/weight_normalization_77/kernel:0, shape = (3, 192, 384), *INIT_FROM_CKPT*\n"
     ]
    },
    {
     "name": "stdout",
     "output_type": "stream",
     "text": [
      "INFO:tensorflow:  name = glowtts/FlowSpecDecoder/CouplingBlock_8/WN_0/weight_normalization_77/bias:0, shape = (384,), *INIT_FROM_CKPT*\n"
     ]
    },
    {
     "name": "stderr",
     "output_type": "stream",
     "text": [
      "INFO:tensorflow:  name = glowtts/FlowSpecDecoder/CouplingBlock_8/WN_0/weight_normalization_77/bias:0, shape = (384,), *INIT_FROM_CKPT*\n"
     ]
    },
    {
     "name": "stdout",
     "output_type": "stream",
     "text": [
      "INFO:tensorflow:  name = glowtts/FlowSpecDecoder/CouplingBlock_8/WN_0/weight_normalization_77/g:0, shape = (384,), *INIT_FROM_CKPT*\n"
     ]
    },
    {
     "name": "stderr",
     "output_type": "stream",
     "text": [
      "INFO:tensorflow:  name = glowtts/FlowSpecDecoder/CouplingBlock_8/WN_0/weight_normalization_77/g:0, shape = (384,), *INIT_FROM_CKPT*\n"
     ]
    },
    {
     "name": "stdout",
     "output_type": "stream",
     "text": [
      "INFO:tensorflow:  name = glowtts/FlowSpecDecoder/CouplingBlock_8/WN_0/weight_normalization_78/kernel:0, shape = (1, 192, 384), *INIT_FROM_CKPT*\n"
     ]
    },
    {
     "name": "stderr",
     "output_type": "stream",
     "text": [
      "INFO:tensorflow:  name = glowtts/FlowSpecDecoder/CouplingBlock_8/WN_0/weight_normalization_78/kernel:0, shape = (1, 192, 384), *INIT_FROM_CKPT*\n"
     ]
    },
    {
     "name": "stdout",
     "output_type": "stream",
     "text": [
      "INFO:tensorflow:  name = glowtts/FlowSpecDecoder/CouplingBlock_8/WN_0/weight_normalization_78/bias:0, shape = (384,), *INIT_FROM_CKPT*\n"
     ]
    },
    {
     "name": "stderr",
     "output_type": "stream",
     "text": [
      "INFO:tensorflow:  name = glowtts/FlowSpecDecoder/CouplingBlock_8/WN_0/weight_normalization_78/bias:0, shape = (384,), *INIT_FROM_CKPT*\n"
     ]
    },
    {
     "name": "stdout",
     "output_type": "stream",
     "text": [
      "INFO:tensorflow:  name = glowtts/FlowSpecDecoder/CouplingBlock_8/WN_0/weight_normalization_78/g:0, shape = (384,), *INIT_FROM_CKPT*\n"
     ]
    },
    {
     "name": "stderr",
     "output_type": "stream",
     "text": [
      "INFO:tensorflow:  name = glowtts/FlowSpecDecoder/CouplingBlock_8/WN_0/weight_normalization_78/g:0, shape = (384,), *INIT_FROM_CKPT*\n"
     ]
    },
    {
     "name": "stdout",
     "output_type": "stream",
     "text": [
      "INFO:tensorflow:  name = glowtts/FlowSpecDecoder/CouplingBlock_8/WN_0/weight_normalization_79/kernel:0, shape = (3, 192, 384), *INIT_FROM_CKPT*\n"
     ]
    },
    {
     "name": "stderr",
     "output_type": "stream",
     "text": [
      "INFO:tensorflow:  name = glowtts/FlowSpecDecoder/CouplingBlock_8/WN_0/weight_normalization_79/kernel:0, shape = (3, 192, 384), *INIT_FROM_CKPT*\n"
     ]
    },
    {
     "name": "stdout",
     "output_type": "stream",
     "text": [
      "INFO:tensorflow:  name = glowtts/FlowSpecDecoder/CouplingBlock_8/WN_0/weight_normalization_79/bias:0, shape = (384,), *INIT_FROM_CKPT*\n"
     ]
    },
    {
     "name": "stderr",
     "output_type": "stream",
     "text": [
      "INFO:tensorflow:  name = glowtts/FlowSpecDecoder/CouplingBlock_8/WN_0/weight_normalization_79/bias:0, shape = (384,), *INIT_FROM_CKPT*\n"
     ]
    },
    {
     "name": "stdout",
     "output_type": "stream",
     "text": [
      "INFO:tensorflow:  name = glowtts/FlowSpecDecoder/CouplingBlock_8/WN_0/weight_normalization_79/g:0, shape = (384,), *INIT_FROM_CKPT*\n"
     ]
    },
    {
     "name": "stderr",
     "output_type": "stream",
     "text": [
      "INFO:tensorflow:  name = glowtts/FlowSpecDecoder/CouplingBlock_8/WN_0/weight_normalization_79/g:0, shape = (384,), *INIT_FROM_CKPT*\n"
     ]
    },
    {
     "name": "stdout",
     "output_type": "stream",
     "text": [
      "INFO:tensorflow:  name = glowtts/FlowSpecDecoder/CouplingBlock_8/WN_0/weight_normalization_80/kernel:0, shape = (1, 192, 192), *INIT_FROM_CKPT*\n"
     ]
    },
    {
     "name": "stderr",
     "output_type": "stream",
     "text": [
      "INFO:tensorflow:  name = glowtts/FlowSpecDecoder/CouplingBlock_8/WN_0/weight_normalization_80/kernel:0, shape = (1, 192, 192), *INIT_FROM_CKPT*\n"
     ]
    },
    {
     "name": "stdout",
     "output_type": "stream",
     "text": [
      "INFO:tensorflow:  name = glowtts/FlowSpecDecoder/CouplingBlock_8/WN_0/weight_normalization_80/bias:0, shape = (192,), *INIT_FROM_CKPT*\n"
     ]
    },
    {
     "name": "stderr",
     "output_type": "stream",
     "text": [
      "INFO:tensorflow:  name = glowtts/FlowSpecDecoder/CouplingBlock_8/WN_0/weight_normalization_80/bias:0, shape = (192,), *INIT_FROM_CKPT*\n"
     ]
    },
    {
     "name": "stdout",
     "output_type": "stream",
     "text": [
      "INFO:tensorflow:  name = glowtts/FlowSpecDecoder/CouplingBlock_8/WN_0/weight_normalization_80/g:0, shape = (192,), *INIT_FROM_CKPT*\n"
     ]
    },
    {
     "name": "stderr",
     "output_type": "stream",
     "text": [
      "INFO:tensorflow:  name = glowtts/FlowSpecDecoder/CouplingBlock_8/WN_0/weight_normalization_80/g:0, shape = (192,), *INIT_FROM_CKPT*\n"
     ]
    },
    {
     "name": "stdout",
     "output_type": "stream",
     "text": [
      "INFO:tensorflow:  name = glowtts/FlowSpecDecoder/CouplingBlock_8/conv1d_83/kernel:0, shape = (1, 192, 160), *INIT_FROM_CKPT*\n"
     ]
    },
    {
     "name": "stderr",
     "output_type": "stream",
     "text": [
      "INFO:tensorflow:  name = glowtts/FlowSpecDecoder/CouplingBlock_8/conv1d_83/kernel:0, shape = (1, 192, 160), *INIT_FROM_CKPT*\n"
     ]
    },
    {
     "name": "stdout",
     "output_type": "stream",
     "text": [
      "INFO:tensorflow:  name = glowtts/FlowSpecDecoder/CouplingBlock_8/conv1d_83/bias:0, shape = (160,), *INIT_FROM_CKPT*\n"
     ]
    },
    {
     "name": "stderr",
     "output_type": "stream",
     "text": [
      "INFO:tensorflow:  name = glowtts/FlowSpecDecoder/CouplingBlock_8/conv1d_83/bias:0, shape = (160,), *INIT_FROM_CKPT*\n"
     ]
    },
    {
     "name": "stdout",
     "output_type": "stream",
     "text": [
      "INFO:tensorflow:  name = glowtts/FlowSpecDecoder/CouplingBlock_7/weight_normalization_63/kernel:0, shape = (1, 80, 192), *INIT_FROM_CKPT*\n"
     ]
    },
    {
     "name": "stderr",
     "output_type": "stream",
     "text": [
      "INFO:tensorflow:  name = glowtts/FlowSpecDecoder/CouplingBlock_7/weight_normalization_63/kernel:0, shape = (1, 80, 192), *INIT_FROM_CKPT*\n"
     ]
    },
    {
     "name": "stdout",
     "output_type": "stream",
     "text": [
      "INFO:tensorflow:  name = glowtts/FlowSpecDecoder/CouplingBlock_7/weight_normalization_63/bias:0, shape = (192,), *INIT_FROM_CKPT*\n"
     ]
    },
    {
     "name": "stderr",
     "output_type": "stream",
     "text": [
      "INFO:tensorflow:  name = glowtts/FlowSpecDecoder/CouplingBlock_7/weight_normalization_63/bias:0, shape = (192,), *INIT_FROM_CKPT*\n"
     ]
    },
    {
     "name": "stdout",
     "output_type": "stream",
     "text": [
      "INFO:tensorflow:  name = glowtts/FlowSpecDecoder/CouplingBlock_7/weight_normalization_63/g:0, shape = (192,), *INIT_FROM_CKPT*\n"
     ]
    },
    {
     "name": "stderr",
     "output_type": "stream",
     "text": [
      "INFO:tensorflow:  name = glowtts/FlowSpecDecoder/CouplingBlock_7/weight_normalization_63/g:0, shape = (192,), *INIT_FROM_CKPT*\n"
     ]
    },
    {
     "name": "stdout",
     "output_type": "stream",
     "text": [
      "INFO:tensorflow:  name = glowtts/FlowSpecDecoder/CouplingBlock_7/WN_0/weight_normalization_64/kernel:0, shape = (3, 192, 384), *INIT_FROM_CKPT*\n"
     ]
    },
    {
     "name": "stderr",
     "output_type": "stream",
     "text": [
      "INFO:tensorflow:  name = glowtts/FlowSpecDecoder/CouplingBlock_7/WN_0/weight_normalization_64/kernel:0, shape = (3, 192, 384), *INIT_FROM_CKPT*\n"
     ]
    },
    {
     "name": "stdout",
     "output_type": "stream",
     "text": [
      "INFO:tensorflow:  name = glowtts/FlowSpecDecoder/CouplingBlock_7/WN_0/weight_normalization_64/bias:0, shape = (384,), *INIT_FROM_CKPT*\n"
     ]
    },
    {
     "name": "stderr",
     "output_type": "stream",
     "text": [
      "INFO:tensorflow:  name = glowtts/FlowSpecDecoder/CouplingBlock_7/WN_0/weight_normalization_64/bias:0, shape = (384,), *INIT_FROM_CKPT*\n"
     ]
    },
    {
     "name": "stdout",
     "output_type": "stream",
     "text": [
      "INFO:tensorflow:  name = glowtts/FlowSpecDecoder/CouplingBlock_7/WN_0/weight_normalization_64/g:0, shape = (384,), *INIT_FROM_CKPT*\n"
     ]
    },
    {
     "name": "stderr",
     "output_type": "stream",
     "text": [
      "INFO:tensorflow:  name = glowtts/FlowSpecDecoder/CouplingBlock_7/WN_0/weight_normalization_64/g:0, shape = (384,), *INIT_FROM_CKPT*\n"
     ]
    },
    {
     "name": "stdout",
     "output_type": "stream",
     "text": [
      "INFO:tensorflow:  name = glowtts/FlowSpecDecoder/CouplingBlock_7/WN_0/weight_normalization_65/kernel:0, shape = (1, 192, 384), *INIT_FROM_CKPT*\n"
     ]
    },
    {
     "name": "stderr",
     "output_type": "stream",
     "text": [
      "INFO:tensorflow:  name = glowtts/FlowSpecDecoder/CouplingBlock_7/WN_0/weight_normalization_65/kernel:0, shape = (1, 192, 384), *INIT_FROM_CKPT*\n"
     ]
    },
    {
     "name": "stdout",
     "output_type": "stream",
     "text": [
      "INFO:tensorflow:  name = glowtts/FlowSpecDecoder/CouplingBlock_7/WN_0/weight_normalization_65/bias:0, shape = (384,), *INIT_FROM_CKPT*\n"
     ]
    },
    {
     "name": "stderr",
     "output_type": "stream",
     "text": [
      "INFO:tensorflow:  name = glowtts/FlowSpecDecoder/CouplingBlock_7/WN_0/weight_normalization_65/bias:0, shape = (384,), *INIT_FROM_CKPT*\n"
     ]
    },
    {
     "name": "stdout",
     "output_type": "stream",
     "text": [
      "INFO:tensorflow:  name = glowtts/FlowSpecDecoder/CouplingBlock_7/WN_0/weight_normalization_65/g:0, shape = (384,), *INIT_FROM_CKPT*\n"
     ]
    },
    {
     "name": "stderr",
     "output_type": "stream",
     "text": [
      "INFO:tensorflow:  name = glowtts/FlowSpecDecoder/CouplingBlock_7/WN_0/weight_normalization_65/g:0, shape = (384,), *INIT_FROM_CKPT*\n"
     ]
    },
    {
     "name": "stdout",
     "output_type": "stream",
     "text": [
      "INFO:tensorflow:  name = glowtts/FlowSpecDecoder/CouplingBlock_7/WN_0/weight_normalization_66/kernel:0, shape = (3, 192, 384), *INIT_FROM_CKPT*\n"
     ]
    },
    {
     "name": "stderr",
     "output_type": "stream",
     "text": [
      "INFO:tensorflow:  name = glowtts/FlowSpecDecoder/CouplingBlock_7/WN_0/weight_normalization_66/kernel:0, shape = (3, 192, 384), *INIT_FROM_CKPT*\n"
     ]
    },
    {
     "name": "stdout",
     "output_type": "stream",
     "text": [
      "INFO:tensorflow:  name = glowtts/FlowSpecDecoder/CouplingBlock_7/WN_0/weight_normalization_66/bias:0, shape = (384,), *INIT_FROM_CKPT*\n"
     ]
    },
    {
     "name": "stderr",
     "output_type": "stream",
     "text": [
      "INFO:tensorflow:  name = glowtts/FlowSpecDecoder/CouplingBlock_7/WN_0/weight_normalization_66/bias:0, shape = (384,), *INIT_FROM_CKPT*\n"
     ]
    },
    {
     "name": "stdout",
     "output_type": "stream",
     "text": [
      "INFO:tensorflow:  name = glowtts/FlowSpecDecoder/CouplingBlock_7/WN_0/weight_normalization_66/g:0, shape = (384,), *INIT_FROM_CKPT*\n"
     ]
    },
    {
     "name": "stderr",
     "output_type": "stream",
     "text": [
      "INFO:tensorflow:  name = glowtts/FlowSpecDecoder/CouplingBlock_7/WN_0/weight_normalization_66/g:0, shape = (384,), *INIT_FROM_CKPT*\n"
     ]
    },
    {
     "name": "stdout",
     "output_type": "stream",
     "text": [
      "INFO:tensorflow:  name = glowtts/FlowSpecDecoder/CouplingBlock_7/WN_0/weight_normalization_67/kernel:0, shape = (1, 192, 384), *INIT_FROM_CKPT*\n"
     ]
    },
    {
     "name": "stderr",
     "output_type": "stream",
     "text": [
      "INFO:tensorflow:  name = glowtts/FlowSpecDecoder/CouplingBlock_7/WN_0/weight_normalization_67/kernel:0, shape = (1, 192, 384), *INIT_FROM_CKPT*\n"
     ]
    },
    {
     "name": "stdout",
     "output_type": "stream",
     "text": [
      "INFO:tensorflow:  name = glowtts/FlowSpecDecoder/CouplingBlock_7/WN_0/weight_normalization_67/bias:0, shape = (384,), *INIT_FROM_CKPT*\n"
     ]
    },
    {
     "name": "stderr",
     "output_type": "stream",
     "text": [
      "INFO:tensorflow:  name = glowtts/FlowSpecDecoder/CouplingBlock_7/WN_0/weight_normalization_67/bias:0, shape = (384,), *INIT_FROM_CKPT*\n"
     ]
    },
    {
     "name": "stdout",
     "output_type": "stream",
     "text": [
      "INFO:tensorflow:  name = glowtts/FlowSpecDecoder/CouplingBlock_7/WN_0/weight_normalization_67/g:0, shape = (384,), *INIT_FROM_CKPT*\n"
     ]
    },
    {
     "name": "stderr",
     "output_type": "stream",
     "text": [
      "INFO:tensorflow:  name = glowtts/FlowSpecDecoder/CouplingBlock_7/WN_0/weight_normalization_67/g:0, shape = (384,), *INIT_FROM_CKPT*\n"
     ]
    },
    {
     "name": "stdout",
     "output_type": "stream",
     "text": [
      "INFO:tensorflow:  name = glowtts/FlowSpecDecoder/CouplingBlock_7/WN_0/weight_normalization_68/kernel:0, shape = (3, 192, 384), *INIT_FROM_CKPT*\n"
     ]
    },
    {
     "name": "stderr",
     "output_type": "stream",
     "text": [
      "INFO:tensorflow:  name = glowtts/FlowSpecDecoder/CouplingBlock_7/WN_0/weight_normalization_68/kernel:0, shape = (3, 192, 384), *INIT_FROM_CKPT*\n"
     ]
    },
    {
     "name": "stdout",
     "output_type": "stream",
     "text": [
      "INFO:tensorflow:  name = glowtts/FlowSpecDecoder/CouplingBlock_7/WN_0/weight_normalization_68/bias:0, shape = (384,), *INIT_FROM_CKPT*\n"
     ]
    },
    {
     "name": "stderr",
     "output_type": "stream",
     "text": [
      "INFO:tensorflow:  name = glowtts/FlowSpecDecoder/CouplingBlock_7/WN_0/weight_normalization_68/bias:0, shape = (384,), *INIT_FROM_CKPT*\n"
     ]
    },
    {
     "name": "stdout",
     "output_type": "stream",
     "text": [
      "INFO:tensorflow:  name = glowtts/FlowSpecDecoder/CouplingBlock_7/WN_0/weight_normalization_68/g:0, shape = (384,), *INIT_FROM_CKPT*\n"
     ]
    },
    {
     "name": "stderr",
     "output_type": "stream",
     "text": [
      "INFO:tensorflow:  name = glowtts/FlowSpecDecoder/CouplingBlock_7/WN_0/weight_normalization_68/g:0, shape = (384,), *INIT_FROM_CKPT*\n"
     ]
    },
    {
     "name": "stdout",
     "output_type": "stream",
     "text": [
      "INFO:tensorflow:  name = glowtts/FlowSpecDecoder/CouplingBlock_7/WN_0/weight_normalization_69/kernel:0, shape = (1, 192, 384), *INIT_FROM_CKPT*\n"
     ]
    },
    {
     "name": "stderr",
     "output_type": "stream",
     "text": [
      "INFO:tensorflow:  name = glowtts/FlowSpecDecoder/CouplingBlock_7/WN_0/weight_normalization_69/kernel:0, shape = (1, 192, 384), *INIT_FROM_CKPT*\n"
     ]
    },
    {
     "name": "stdout",
     "output_type": "stream",
     "text": [
      "INFO:tensorflow:  name = glowtts/FlowSpecDecoder/CouplingBlock_7/WN_0/weight_normalization_69/bias:0, shape = (384,), *INIT_FROM_CKPT*\n"
     ]
    },
    {
     "name": "stderr",
     "output_type": "stream",
     "text": [
      "INFO:tensorflow:  name = glowtts/FlowSpecDecoder/CouplingBlock_7/WN_0/weight_normalization_69/bias:0, shape = (384,), *INIT_FROM_CKPT*\n"
     ]
    },
    {
     "name": "stdout",
     "output_type": "stream",
     "text": [
      "INFO:tensorflow:  name = glowtts/FlowSpecDecoder/CouplingBlock_7/WN_0/weight_normalization_69/g:0, shape = (384,), *INIT_FROM_CKPT*\n"
     ]
    },
    {
     "name": "stderr",
     "output_type": "stream",
     "text": [
      "INFO:tensorflow:  name = glowtts/FlowSpecDecoder/CouplingBlock_7/WN_0/weight_normalization_69/g:0, shape = (384,), *INIT_FROM_CKPT*\n"
     ]
    },
    {
     "name": "stdout",
     "output_type": "stream",
     "text": [
      "INFO:tensorflow:  name = glowtts/FlowSpecDecoder/CouplingBlock_7/WN_0/weight_normalization_70/kernel:0, shape = (3, 192, 384), *INIT_FROM_CKPT*\n"
     ]
    },
    {
     "name": "stderr",
     "output_type": "stream",
     "text": [
      "INFO:tensorflow:  name = glowtts/FlowSpecDecoder/CouplingBlock_7/WN_0/weight_normalization_70/kernel:0, shape = (3, 192, 384), *INIT_FROM_CKPT*\n"
     ]
    },
    {
     "name": "stdout",
     "output_type": "stream",
     "text": [
      "INFO:tensorflow:  name = glowtts/FlowSpecDecoder/CouplingBlock_7/WN_0/weight_normalization_70/bias:0, shape = (384,), *INIT_FROM_CKPT*\n"
     ]
    },
    {
     "name": "stderr",
     "output_type": "stream",
     "text": [
      "INFO:tensorflow:  name = glowtts/FlowSpecDecoder/CouplingBlock_7/WN_0/weight_normalization_70/bias:0, shape = (384,), *INIT_FROM_CKPT*\n"
     ]
    },
    {
     "name": "stdout",
     "output_type": "stream",
     "text": [
      "INFO:tensorflow:  name = glowtts/FlowSpecDecoder/CouplingBlock_7/WN_0/weight_normalization_70/g:0, shape = (384,), *INIT_FROM_CKPT*\n"
     ]
    },
    {
     "name": "stderr",
     "output_type": "stream",
     "text": [
      "INFO:tensorflow:  name = glowtts/FlowSpecDecoder/CouplingBlock_7/WN_0/weight_normalization_70/g:0, shape = (384,), *INIT_FROM_CKPT*\n"
     ]
    },
    {
     "name": "stdout",
     "output_type": "stream",
     "text": [
      "INFO:tensorflow:  name = glowtts/FlowSpecDecoder/CouplingBlock_7/WN_0/weight_normalization_71/kernel:0, shape = (1, 192, 192), *INIT_FROM_CKPT*\n"
     ]
    },
    {
     "name": "stderr",
     "output_type": "stream",
     "text": [
      "INFO:tensorflow:  name = glowtts/FlowSpecDecoder/CouplingBlock_7/WN_0/weight_normalization_71/kernel:0, shape = (1, 192, 192), *INIT_FROM_CKPT*\n"
     ]
    },
    {
     "name": "stdout",
     "output_type": "stream",
     "text": [
      "INFO:tensorflow:  name = glowtts/FlowSpecDecoder/CouplingBlock_7/WN_0/weight_normalization_71/bias:0, shape = (192,), *INIT_FROM_CKPT*\n"
     ]
    },
    {
     "name": "stderr",
     "output_type": "stream",
     "text": [
      "INFO:tensorflow:  name = glowtts/FlowSpecDecoder/CouplingBlock_7/WN_0/weight_normalization_71/bias:0, shape = (192,), *INIT_FROM_CKPT*\n"
     ]
    },
    {
     "name": "stdout",
     "output_type": "stream",
     "text": [
      "INFO:tensorflow:  name = glowtts/FlowSpecDecoder/CouplingBlock_7/WN_0/weight_normalization_71/g:0, shape = (192,), *INIT_FROM_CKPT*\n"
     ]
    },
    {
     "name": "stderr",
     "output_type": "stream",
     "text": [
      "INFO:tensorflow:  name = glowtts/FlowSpecDecoder/CouplingBlock_7/WN_0/weight_normalization_71/g:0, shape = (192,), *INIT_FROM_CKPT*\n"
     ]
    },
    {
     "name": "stdout",
     "output_type": "stream",
     "text": [
      "INFO:tensorflow:  name = glowtts/FlowSpecDecoder/CouplingBlock_7/conv1d_73/kernel:0, shape = (1, 192, 160), *INIT_FROM_CKPT*\n"
     ]
    },
    {
     "name": "stderr",
     "output_type": "stream",
     "text": [
      "INFO:tensorflow:  name = glowtts/FlowSpecDecoder/CouplingBlock_7/conv1d_73/kernel:0, shape = (1, 192, 160), *INIT_FROM_CKPT*\n"
     ]
    },
    {
     "name": "stdout",
     "output_type": "stream",
     "text": [
      "INFO:tensorflow:  name = glowtts/FlowSpecDecoder/CouplingBlock_7/conv1d_73/bias:0, shape = (160,), *INIT_FROM_CKPT*\n"
     ]
    },
    {
     "name": "stderr",
     "output_type": "stream",
     "text": [
      "INFO:tensorflow:  name = glowtts/FlowSpecDecoder/CouplingBlock_7/conv1d_73/bias:0, shape = (160,), *INIT_FROM_CKPT*\n"
     ]
    },
    {
     "name": "stdout",
     "output_type": "stream",
     "text": [
      "INFO:tensorflow:  name = glowtts/FlowSpecDecoder/CouplingBlock_6/weight_normalization_54/kernel:0, shape = (1, 80, 192), *INIT_FROM_CKPT*\n"
     ]
    },
    {
     "name": "stderr",
     "output_type": "stream",
     "text": [
      "INFO:tensorflow:  name = glowtts/FlowSpecDecoder/CouplingBlock_6/weight_normalization_54/kernel:0, shape = (1, 80, 192), *INIT_FROM_CKPT*\n"
     ]
    },
    {
     "name": "stdout",
     "output_type": "stream",
     "text": [
      "INFO:tensorflow:  name = glowtts/FlowSpecDecoder/CouplingBlock_6/weight_normalization_54/bias:0, shape = (192,), *INIT_FROM_CKPT*\n"
     ]
    },
    {
     "name": "stderr",
     "output_type": "stream",
     "text": [
      "INFO:tensorflow:  name = glowtts/FlowSpecDecoder/CouplingBlock_6/weight_normalization_54/bias:0, shape = (192,), *INIT_FROM_CKPT*\n"
     ]
    },
    {
     "name": "stdout",
     "output_type": "stream",
     "text": [
      "INFO:tensorflow:  name = glowtts/FlowSpecDecoder/CouplingBlock_6/weight_normalization_54/g:0, shape = (192,), *INIT_FROM_CKPT*\n"
     ]
    },
    {
     "name": "stderr",
     "output_type": "stream",
     "text": [
      "INFO:tensorflow:  name = glowtts/FlowSpecDecoder/CouplingBlock_6/weight_normalization_54/g:0, shape = (192,), *INIT_FROM_CKPT*\n"
     ]
    },
    {
     "name": "stdout",
     "output_type": "stream",
     "text": [
      "INFO:tensorflow:  name = glowtts/FlowSpecDecoder/CouplingBlock_6/WN_0/weight_normalization_55/kernel:0, shape = (3, 192, 384), *INIT_FROM_CKPT*\n"
     ]
    },
    {
     "name": "stderr",
     "output_type": "stream",
     "text": [
      "INFO:tensorflow:  name = glowtts/FlowSpecDecoder/CouplingBlock_6/WN_0/weight_normalization_55/kernel:0, shape = (3, 192, 384), *INIT_FROM_CKPT*\n"
     ]
    },
    {
     "name": "stdout",
     "output_type": "stream",
     "text": [
      "INFO:tensorflow:  name = glowtts/FlowSpecDecoder/CouplingBlock_6/WN_0/weight_normalization_55/bias:0, shape = (384,), *INIT_FROM_CKPT*\n"
     ]
    },
    {
     "name": "stderr",
     "output_type": "stream",
     "text": [
      "INFO:tensorflow:  name = glowtts/FlowSpecDecoder/CouplingBlock_6/WN_0/weight_normalization_55/bias:0, shape = (384,), *INIT_FROM_CKPT*\n"
     ]
    },
    {
     "name": "stdout",
     "output_type": "stream",
     "text": [
      "INFO:tensorflow:  name = glowtts/FlowSpecDecoder/CouplingBlock_6/WN_0/weight_normalization_55/g:0, shape = (384,), *INIT_FROM_CKPT*\n"
     ]
    },
    {
     "name": "stderr",
     "output_type": "stream",
     "text": [
      "INFO:tensorflow:  name = glowtts/FlowSpecDecoder/CouplingBlock_6/WN_0/weight_normalization_55/g:0, shape = (384,), *INIT_FROM_CKPT*\n"
     ]
    },
    {
     "name": "stdout",
     "output_type": "stream",
     "text": [
      "INFO:tensorflow:  name = glowtts/FlowSpecDecoder/CouplingBlock_6/WN_0/weight_normalization_56/kernel:0, shape = (1, 192, 384), *INIT_FROM_CKPT*\n"
     ]
    },
    {
     "name": "stderr",
     "output_type": "stream",
     "text": [
      "INFO:tensorflow:  name = glowtts/FlowSpecDecoder/CouplingBlock_6/WN_0/weight_normalization_56/kernel:0, shape = (1, 192, 384), *INIT_FROM_CKPT*\n"
     ]
    },
    {
     "name": "stdout",
     "output_type": "stream",
     "text": [
      "INFO:tensorflow:  name = glowtts/FlowSpecDecoder/CouplingBlock_6/WN_0/weight_normalization_56/bias:0, shape = (384,), *INIT_FROM_CKPT*\n"
     ]
    },
    {
     "name": "stderr",
     "output_type": "stream",
     "text": [
      "INFO:tensorflow:  name = glowtts/FlowSpecDecoder/CouplingBlock_6/WN_0/weight_normalization_56/bias:0, shape = (384,), *INIT_FROM_CKPT*\n"
     ]
    },
    {
     "name": "stdout",
     "output_type": "stream",
     "text": [
      "INFO:tensorflow:  name = glowtts/FlowSpecDecoder/CouplingBlock_6/WN_0/weight_normalization_56/g:0, shape = (384,), *INIT_FROM_CKPT*\n"
     ]
    },
    {
     "name": "stderr",
     "output_type": "stream",
     "text": [
      "INFO:tensorflow:  name = glowtts/FlowSpecDecoder/CouplingBlock_6/WN_0/weight_normalization_56/g:0, shape = (384,), *INIT_FROM_CKPT*\n"
     ]
    },
    {
     "name": "stdout",
     "output_type": "stream",
     "text": [
      "INFO:tensorflow:  name = glowtts/FlowSpecDecoder/CouplingBlock_6/WN_0/weight_normalization_57/kernel:0, shape = (3, 192, 384), *INIT_FROM_CKPT*\n"
     ]
    },
    {
     "name": "stderr",
     "output_type": "stream",
     "text": [
      "INFO:tensorflow:  name = glowtts/FlowSpecDecoder/CouplingBlock_6/WN_0/weight_normalization_57/kernel:0, shape = (3, 192, 384), *INIT_FROM_CKPT*\n"
     ]
    },
    {
     "name": "stdout",
     "output_type": "stream",
     "text": [
      "INFO:tensorflow:  name = glowtts/FlowSpecDecoder/CouplingBlock_6/WN_0/weight_normalization_57/bias:0, shape = (384,), *INIT_FROM_CKPT*\n"
     ]
    },
    {
     "name": "stderr",
     "output_type": "stream",
     "text": [
      "INFO:tensorflow:  name = glowtts/FlowSpecDecoder/CouplingBlock_6/WN_0/weight_normalization_57/bias:0, shape = (384,), *INIT_FROM_CKPT*\n"
     ]
    },
    {
     "name": "stdout",
     "output_type": "stream",
     "text": [
      "INFO:tensorflow:  name = glowtts/FlowSpecDecoder/CouplingBlock_6/WN_0/weight_normalization_57/g:0, shape = (384,), *INIT_FROM_CKPT*\n"
     ]
    },
    {
     "name": "stderr",
     "output_type": "stream",
     "text": [
      "INFO:tensorflow:  name = glowtts/FlowSpecDecoder/CouplingBlock_6/WN_0/weight_normalization_57/g:0, shape = (384,), *INIT_FROM_CKPT*\n"
     ]
    },
    {
     "name": "stdout",
     "output_type": "stream",
     "text": [
      "INFO:tensorflow:  name = glowtts/FlowSpecDecoder/CouplingBlock_6/WN_0/weight_normalization_58/kernel:0, shape = (1, 192, 384), *INIT_FROM_CKPT*\n"
     ]
    },
    {
     "name": "stderr",
     "output_type": "stream",
     "text": [
      "INFO:tensorflow:  name = glowtts/FlowSpecDecoder/CouplingBlock_6/WN_0/weight_normalization_58/kernel:0, shape = (1, 192, 384), *INIT_FROM_CKPT*\n"
     ]
    },
    {
     "name": "stdout",
     "output_type": "stream",
     "text": [
      "INFO:tensorflow:  name = glowtts/FlowSpecDecoder/CouplingBlock_6/WN_0/weight_normalization_58/bias:0, shape = (384,), *INIT_FROM_CKPT*\n"
     ]
    },
    {
     "name": "stderr",
     "output_type": "stream",
     "text": [
      "INFO:tensorflow:  name = glowtts/FlowSpecDecoder/CouplingBlock_6/WN_0/weight_normalization_58/bias:0, shape = (384,), *INIT_FROM_CKPT*\n"
     ]
    },
    {
     "name": "stdout",
     "output_type": "stream",
     "text": [
      "INFO:tensorflow:  name = glowtts/FlowSpecDecoder/CouplingBlock_6/WN_0/weight_normalization_58/g:0, shape = (384,), *INIT_FROM_CKPT*\n"
     ]
    },
    {
     "name": "stderr",
     "output_type": "stream",
     "text": [
      "INFO:tensorflow:  name = glowtts/FlowSpecDecoder/CouplingBlock_6/WN_0/weight_normalization_58/g:0, shape = (384,), *INIT_FROM_CKPT*\n"
     ]
    },
    {
     "name": "stdout",
     "output_type": "stream",
     "text": [
      "INFO:tensorflow:  name = glowtts/FlowSpecDecoder/CouplingBlock_6/WN_0/weight_normalization_59/kernel:0, shape = (3, 192, 384), *INIT_FROM_CKPT*\n"
     ]
    },
    {
     "name": "stderr",
     "output_type": "stream",
     "text": [
      "INFO:tensorflow:  name = glowtts/FlowSpecDecoder/CouplingBlock_6/WN_0/weight_normalization_59/kernel:0, shape = (3, 192, 384), *INIT_FROM_CKPT*\n"
     ]
    },
    {
     "name": "stdout",
     "output_type": "stream",
     "text": [
      "INFO:tensorflow:  name = glowtts/FlowSpecDecoder/CouplingBlock_6/WN_0/weight_normalization_59/bias:0, shape = (384,), *INIT_FROM_CKPT*\n"
     ]
    },
    {
     "name": "stderr",
     "output_type": "stream",
     "text": [
      "INFO:tensorflow:  name = glowtts/FlowSpecDecoder/CouplingBlock_6/WN_0/weight_normalization_59/bias:0, shape = (384,), *INIT_FROM_CKPT*\n"
     ]
    },
    {
     "name": "stdout",
     "output_type": "stream",
     "text": [
      "INFO:tensorflow:  name = glowtts/FlowSpecDecoder/CouplingBlock_6/WN_0/weight_normalization_59/g:0, shape = (384,), *INIT_FROM_CKPT*\n"
     ]
    },
    {
     "name": "stderr",
     "output_type": "stream",
     "text": [
      "INFO:tensorflow:  name = glowtts/FlowSpecDecoder/CouplingBlock_6/WN_0/weight_normalization_59/g:0, shape = (384,), *INIT_FROM_CKPT*\n"
     ]
    },
    {
     "name": "stdout",
     "output_type": "stream",
     "text": [
      "INFO:tensorflow:  name = glowtts/FlowSpecDecoder/CouplingBlock_6/WN_0/weight_normalization_60/kernel:0, shape = (1, 192, 384), *INIT_FROM_CKPT*\n"
     ]
    },
    {
     "name": "stderr",
     "output_type": "stream",
     "text": [
      "INFO:tensorflow:  name = glowtts/FlowSpecDecoder/CouplingBlock_6/WN_0/weight_normalization_60/kernel:0, shape = (1, 192, 384), *INIT_FROM_CKPT*\n"
     ]
    },
    {
     "name": "stdout",
     "output_type": "stream",
     "text": [
      "INFO:tensorflow:  name = glowtts/FlowSpecDecoder/CouplingBlock_6/WN_0/weight_normalization_60/bias:0, shape = (384,), *INIT_FROM_CKPT*\n"
     ]
    },
    {
     "name": "stderr",
     "output_type": "stream",
     "text": [
      "INFO:tensorflow:  name = glowtts/FlowSpecDecoder/CouplingBlock_6/WN_0/weight_normalization_60/bias:0, shape = (384,), *INIT_FROM_CKPT*\n"
     ]
    },
    {
     "name": "stdout",
     "output_type": "stream",
     "text": [
      "INFO:tensorflow:  name = glowtts/FlowSpecDecoder/CouplingBlock_6/WN_0/weight_normalization_60/g:0, shape = (384,), *INIT_FROM_CKPT*\n"
     ]
    },
    {
     "name": "stderr",
     "output_type": "stream",
     "text": [
      "INFO:tensorflow:  name = glowtts/FlowSpecDecoder/CouplingBlock_6/WN_0/weight_normalization_60/g:0, shape = (384,), *INIT_FROM_CKPT*\n"
     ]
    },
    {
     "name": "stdout",
     "output_type": "stream",
     "text": [
      "INFO:tensorflow:  name = glowtts/FlowSpecDecoder/CouplingBlock_6/WN_0/weight_normalization_61/kernel:0, shape = (3, 192, 384), *INIT_FROM_CKPT*\n"
     ]
    },
    {
     "name": "stderr",
     "output_type": "stream",
     "text": [
      "INFO:tensorflow:  name = glowtts/FlowSpecDecoder/CouplingBlock_6/WN_0/weight_normalization_61/kernel:0, shape = (3, 192, 384), *INIT_FROM_CKPT*\n"
     ]
    },
    {
     "name": "stdout",
     "output_type": "stream",
     "text": [
      "INFO:tensorflow:  name = glowtts/FlowSpecDecoder/CouplingBlock_6/WN_0/weight_normalization_61/bias:0, shape = (384,), *INIT_FROM_CKPT*\n"
     ]
    },
    {
     "name": "stderr",
     "output_type": "stream",
     "text": [
      "INFO:tensorflow:  name = glowtts/FlowSpecDecoder/CouplingBlock_6/WN_0/weight_normalization_61/bias:0, shape = (384,), *INIT_FROM_CKPT*\n"
     ]
    },
    {
     "name": "stdout",
     "output_type": "stream",
     "text": [
      "INFO:tensorflow:  name = glowtts/FlowSpecDecoder/CouplingBlock_6/WN_0/weight_normalization_61/g:0, shape = (384,), *INIT_FROM_CKPT*\n"
     ]
    },
    {
     "name": "stderr",
     "output_type": "stream",
     "text": [
      "INFO:tensorflow:  name = glowtts/FlowSpecDecoder/CouplingBlock_6/WN_0/weight_normalization_61/g:0, shape = (384,), *INIT_FROM_CKPT*\n"
     ]
    },
    {
     "name": "stdout",
     "output_type": "stream",
     "text": [
      "INFO:tensorflow:  name = glowtts/FlowSpecDecoder/CouplingBlock_6/WN_0/weight_normalization_62/kernel:0, shape = (1, 192, 192), *INIT_FROM_CKPT*\n"
     ]
    },
    {
     "name": "stderr",
     "output_type": "stream",
     "text": [
      "INFO:tensorflow:  name = glowtts/FlowSpecDecoder/CouplingBlock_6/WN_0/weight_normalization_62/kernel:0, shape = (1, 192, 192), *INIT_FROM_CKPT*\n"
     ]
    },
    {
     "name": "stdout",
     "output_type": "stream",
     "text": [
      "INFO:tensorflow:  name = glowtts/FlowSpecDecoder/CouplingBlock_6/WN_0/weight_normalization_62/bias:0, shape = (192,), *INIT_FROM_CKPT*\n"
     ]
    },
    {
     "name": "stderr",
     "output_type": "stream",
     "text": [
      "INFO:tensorflow:  name = glowtts/FlowSpecDecoder/CouplingBlock_6/WN_0/weight_normalization_62/bias:0, shape = (192,), *INIT_FROM_CKPT*\n"
     ]
    },
    {
     "name": "stdout",
     "output_type": "stream",
     "text": [
      "INFO:tensorflow:  name = glowtts/FlowSpecDecoder/CouplingBlock_6/WN_0/weight_normalization_62/g:0, shape = (192,), *INIT_FROM_CKPT*\n"
     ]
    },
    {
     "name": "stderr",
     "output_type": "stream",
     "text": [
      "INFO:tensorflow:  name = glowtts/FlowSpecDecoder/CouplingBlock_6/WN_0/weight_normalization_62/g:0, shape = (192,), *INIT_FROM_CKPT*\n"
     ]
    },
    {
     "name": "stdout",
     "output_type": "stream",
     "text": [
      "INFO:tensorflow:  name = glowtts/FlowSpecDecoder/CouplingBlock_6/conv1d_63/kernel:0, shape = (1, 192, 160), *INIT_FROM_CKPT*\n"
     ]
    },
    {
     "name": "stderr",
     "output_type": "stream",
     "text": [
      "INFO:tensorflow:  name = glowtts/FlowSpecDecoder/CouplingBlock_6/conv1d_63/kernel:0, shape = (1, 192, 160), *INIT_FROM_CKPT*\n"
     ]
    },
    {
     "name": "stdout",
     "output_type": "stream",
     "text": [
      "INFO:tensorflow:  name = glowtts/FlowSpecDecoder/CouplingBlock_6/conv1d_63/bias:0, shape = (160,), *INIT_FROM_CKPT*\n"
     ]
    },
    {
     "name": "stderr",
     "output_type": "stream",
     "text": [
      "INFO:tensorflow:  name = glowtts/FlowSpecDecoder/CouplingBlock_6/conv1d_63/bias:0, shape = (160,), *INIT_FROM_CKPT*\n"
     ]
    },
    {
     "name": "stdout",
     "output_type": "stream",
     "text": [
      "INFO:tensorflow:  name = glowtts/FlowSpecDecoder/CouplingBlock_5/weight_normalization_45/kernel:0, shape = (1, 80, 192), *INIT_FROM_CKPT*\n"
     ]
    },
    {
     "name": "stderr",
     "output_type": "stream",
     "text": [
      "INFO:tensorflow:  name = glowtts/FlowSpecDecoder/CouplingBlock_5/weight_normalization_45/kernel:0, shape = (1, 80, 192), *INIT_FROM_CKPT*\n"
     ]
    },
    {
     "name": "stdout",
     "output_type": "stream",
     "text": [
      "INFO:tensorflow:  name = glowtts/FlowSpecDecoder/CouplingBlock_5/weight_normalization_45/bias:0, shape = (192,), *INIT_FROM_CKPT*\n"
     ]
    },
    {
     "name": "stderr",
     "output_type": "stream",
     "text": [
      "INFO:tensorflow:  name = glowtts/FlowSpecDecoder/CouplingBlock_5/weight_normalization_45/bias:0, shape = (192,), *INIT_FROM_CKPT*\n"
     ]
    },
    {
     "name": "stdout",
     "output_type": "stream",
     "text": [
      "INFO:tensorflow:  name = glowtts/FlowSpecDecoder/CouplingBlock_5/weight_normalization_45/g:0, shape = (192,), *INIT_FROM_CKPT*\n"
     ]
    },
    {
     "name": "stderr",
     "output_type": "stream",
     "text": [
      "INFO:tensorflow:  name = glowtts/FlowSpecDecoder/CouplingBlock_5/weight_normalization_45/g:0, shape = (192,), *INIT_FROM_CKPT*\n"
     ]
    },
    {
     "name": "stdout",
     "output_type": "stream",
     "text": [
      "INFO:tensorflow:  name = glowtts/FlowSpecDecoder/CouplingBlock_5/WN_0/weight_normalization_46/kernel:0, shape = (3, 192, 384), *INIT_FROM_CKPT*\n"
     ]
    },
    {
     "name": "stderr",
     "output_type": "stream",
     "text": [
      "INFO:tensorflow:  name = glowtts/FlowSpecDecoder/CouplingBlock_5/WN_0/weight_normalization_46/kernel:0, shape = (3, 192, 384), *INIT_FROM_CKPT*\n"
     ]
    },
    {
     "name": "stdout",
     "output_type": "stream",
     "text": [
      "INFO:tensorflow:  name = glowtts/FlowSpecDecoder/CouplingBlock_5/WN_0/weight_normalization_46/bias:0, shape = (384,), *INIT_FROM_CKPT*\n"
     ]
    },
    {
     "name": "stderr",
     "output_type": "stream",
     "text": [
      "INFO:tensorflow:  name = glowtts/FlowSpecDecoder/CouplingBlock_5/WN_0/weight_normalization_46/bias:0, shape = (384,), *INIT_FROM_CKPT*\n"
     ]
    },
    {
     "name": "stdout",
     "output_type": "stream",
     "text": [
      "INFO:tensorflow:  name = glowtts/FlowSpecDecoder/CouplingBlock_5/WN_0/weight_normalization_46/g:0, shape = (384,), *INIT_FROM_CKPT*\n"
     ]
    },
    {
     "name": "stderr",
     "output_type": "stream",
     "text": [
      "INFO:tensorflow:  name = glowtts/FlowSpecDecoder/CouplingBlock_5/WN_0/weight_normalization_46/g:0, shape = (384,), *INIT_FROM_CKPT*\n"
     ]
    },
    {
     "name": "stdout",
     "output_type": "stream",
     "text": [
      "INFO:tensorflow:  name = glowtts/FlowSpecDecoder/CouplingBlock_5/WN_0/weight_normalization_47/kernel:0, shape = (1, 192, 384), *INIT_FROM_CKPT*\n"
     ]
    },
    {
     "name": "stderr",
     "output_type": "stream",
     "text": [
      "INFO:tensorflow:  name = glowtts/FlowSpecDecoder/CouplingBlock_5/WN_0/weight_normalization_47/kernel:0, shape = (1, 192, 384), *INIT_FROM_CKPT*\n"
     ]
    },
    {
     "name": "stdout",
     "output_type": "stream",
     "text": [
      "INFO:tensorflow:  name = glowtts/FlowSpecDecoder/CouplingBlock_5/WN_0/weight_normalization_47/bias:0, shape = (384,), *INIT_FROM_CKPT*\n"
     ]
    },
    {
     "name": "stderr",
     "output_type": "stream",
     "text": [
      "INFO:tensorflow:  name = glowtts/FlowSpecDecoder/CouplingBlock_5/WN_0/weight_normalization_47/bias:0, shape = (384,), *INIT_FROM_CKPT*\n"
     ]
    },
    {
     "name": "stdout",
     "output_type": "stream",
     "text": [
      "INFO:tensorflow:  name = glowtts/FlowSpecDecoder/CouplingBlock_5/WN_0/weight_normalization_47/g:0, shape = (384,), *INIT_FROM_CKPT*\n"
     ]
    },
    {
     "name": "stderr",
     "output_type": "stream",
     "text": [
      "INFO:tensorflow:  name = glowtts/FlowSpecDecoder/CouplingBlock_5/WN_0/weight_normalization_47/g:0, shape = (384,), *INIT_FROM_CKPT*\n"
     ]
    },
    {
     "name": "stdout",
     "output_type": "stream",
     "text": [
      "INFO:tensorflow:  name = glowtts/FlowSpecDecoder/CouplingBlock_5/WN_0/weight_normalization_48/kernel:0, shape = (3, 192, 384), *INIT_FROM_CKPT*\n"
     ]
    },
    {
     "name": "stderr",
     "output_type": "stream",
     "text": [
      "INFO:tensorflow:  name = glowtts/FlowSpecDecoder/CouplingBlock_5/WN_0/weight_normalization_48/kernel:0, shape = (3, 192, 384), *INIT_FROM_CKPT*\n"
     ]
    },
    {
     "name": "stdout",
     "output_type": "stream",
     "text": [
      "INFO:tensorflow:  name = glowtts/FlowSpecDecoder/CouplingBlock_5/WN_0/weight_normalization_48/bias:0, shape = (384,), *INIT_FROM_CKPT*\n"
     ]
    },
    {
     "name": "stderr",
     "output_type": "stream",
     "text": [
      "INFO:tensorflow:  name = glowtts/FlowSpecDecoder/CouplingBlock_5/WN_0/weight_normalization_48/bias:0, shape = (384,), *INIT_FROM_CKPT*\n"
     ]
    },
    {
     "name": "stdout",
     "output_type": "stream",
     "text": [
      "INFO:tensorflow:  name = glowtts/FlowSpecDecoder/CouplingBlock_5/WN_0/weight_normalization_48/g:0, shape = (384,), *INIT_FROM_CKPT*\n"
     ]
    },
    {
     "name": "stderr",
     "output_type": "stream",
     "text": [
      "INFO:tensorflow:  name = glowtts/FlowSpecDecoder/CouplingBlock_5/WN_0/weight_normalization_48/g:0, shape = (384,), *INIT_FROM_CKPT*\n"
     ]
    },
    {
     "name": "stdout",
     "output_type": "stream",
     "text": [
      "INFO:tensorflow:  name = glowtts/FlowSpecDecoder/CouplingBlock_5/WN_0/weight_normalization_49/kernel:0, shape = (1, 192, 384), *INIT_FROM_CKPT*\n"
     ]
    },
    {
     "name": "stderr",
     "output_type": "stream",
     "text": [
      "INFO:tensorflow:  name = glowtts/FlowSpecDecoder/CouplingBlock_5/WN_0/weight_normalization_49/kernel:0, shape = (1, 192, 384), *INIT_FROM_CKPT*\n"
     ]
    },
    {
     "name": "stdout",
     "output_type": "stream",
     "text": [
      "INFO:tensorflow:  name = glowtts/FlowSpecDecoder/CouplingBlock_5/WN_0/weight_normalization_49/bias:0, shape = (384,), *INIT_FROM_CKPT*\n"
     ]
    },
    {
     "name": "stderr",
     "output_type": "stream",
     "text": [
      "INFO:tensorflow:  name = glowtts/FlowSpecDecoder/CouplingBlock_5/WN_0/weight_normalization_49/bias:0, shape = (384,), *INIT_FROM_CKPT*\n"
     ]
    },
    {
     "name": "stdout",
     "output_type": "stream",
     "text": [
      "INFO:tensorflow:  name = glowtts/FlowSpecDecoder/CouplingBlock_5/WN_0/weight_normalization_49/g:0, shape = (384,), *INIT_FROM_CKPT*\n"
     ]
    },
    {
     "name": "stderr",
     "output_type": "stream",
     "text": [
      "INFO:tensorflow:  name = glowtts/FlowSpecDecoder/CouplingBlock_5/WN_0/weight_normalization_49/g:0, shape = (384,), *INIT_FROM_CKPT*\n"
     ]
    },
    {
     "name": "stdout",
     "output_type": "stream",
     "text": [
      "INFO:tensorflow:  name = glowtts/FlowSpecDecoder/CouplingBlock_5/WN_0/weight_normalization_50/kernel:0, shape = (3, 192, 384), *INIT_FROM_CKPT*\n"
     ]
    },
    {
     "name": "stderr",
     "output_type": "stream",
     "text": [
      "INFO:tensorflow:  name = glowtts/FlowSpecDecoder/CouplingBlock_5/WN_0/weight_normalization_50/kernel:0, shape = (3, 192, 384), *INIT_FROM_CKPT*\n"
     ]
    },
    {
     "name": "stdout",
     "output_type": "stream",
     "text": [
      "INFO:tensorflow:  name = glowtts/FlowSpecDecoder/CouplingBlock_5/WN_0/weight_normalization_50/bias:0, shape = (384,), *INIT_FROM_CKPT*\n"
     ]
    },
    {
     "name": "stderr",
     "output_type": "stream",
     "text": [
      "INFO:tensorflow:  name = glowtts/FlowSpecDecoder/CouplingBlock_5/WN_0/weight_normalization_50/bias:0, shape = (384,), *INIT_FROM_CKPT*\n"
     ]
    },
    {
     "name": "stdout",
     "output_type": "stream",
     "text": [
      "INFO:tensorflow:  name = glowtts/FlowSpecDecoder/CouplingBlock_5/WN_0/weight_normalization_50/g:0, shape = (384,), *INIT_FROM_CKPT*\n"
     ]
    },
    {
     "name": "stderr",
     "output_type": "stream",
     "text": [
      "INFO:tensorflow:  name = glowtts/FlowSpecDecoder/CouplingBlock_5/WN_0/weight_normalization_50/g:0, shape = (384,), *INIT_FROM_CKPT*\n"
     ]
    },
    {
     "name": "stdout",
     "output_type": "stream",
     "text": [
      "INFO:tensorflow:  name = glowtts/FlowSpecDecoder/CouplingBlock_5/WN_0/weight_normalization_51/kernel:0, shape = (1, 192, 384), *INIT_FROM_CKPT*\n"
     ]
    },
    {
     "name": "stderr",
     "output_type": "stream",
     "text": [
      "INFO:tensorflow:  name = glowtts/FlowSpecDecoder/CouplingBlock_5/WN_0/weight_normalization_51/kernel:0, shape = (1, 192, 384), *INIT_FROM_CKPT*\n"
     ]
    },
    {
     "name": "stdout",
     "output_type": "stream",
     "text": [
      "INFO:tensorflow:  name = glowtts/FlowSpecDecoder/CouplingBlock_5/WN_0/weight_normalization_51/bias:0, shape = (384,), *INIT_FROM_CKPT*\n"
     ]
    },
    {
     "name": "stderr",
     "output_type": "stream",
     "text": [
      "INFO:tensorflow:  name = glowtts/FlowSpecDecoder/CouplingBlock_5/WN_0/weight_normalization_51/bias:0, shape = (384,), *INIT_FROM_CKPT*\n"
     ]
    },
    {
     "name": "stdout",
     "output_type": "stream",
     "text": [
      "INFO:tensorflow:  name = glowtts/FlowSpecDecoder/CouplingBlock_5/WN_0/weight_normalization_51/g:0, shape = (384,), *INIT_FROM_CKPT*\n"
     ]
    },
    {
     "name": "stderr",
     "output_type": "stream",
     "text": [
      "INFO:tensorflow:  name = glowtts/FlowSpecDecoder/CouplingBlock_5/WN_0/weight_normalization_51/g:0, shape = (384,), *INIT_FROM_CKPT*\n"
     ]
    },
    {
     "name": "stdout",
     "output_type": "stream",
     "text": [
      "INFO:tensorflow:  name = glowtts/FlowSpecDecoder/CouplingBlock_5/WN_0/weight_normalization_52/kernel:0, shape = (3, 192, 384), *INIT_FROM_CKPT*\n"
     ]
    },
    {
     "name": "stderr",
     "output_type": "stream",
     "text": [
      "INFO:tensorflow:  name = glowtts/FlowSpecDecoder/CouplingBlock_5/WN_0/weight_normalization_52/kernel:0, shape = (3, 192, 384), *INIT_FROM_CKPT*\n"
     ]
    },
    {
     "name": "stdout",
     "output_type": "stream",
     "text": [
      "INFO:tensorflow:  name = glowtts/FlowSpecDecoder/CouplingBlock_5/WN_0/weight_normalization_52/bias:0, shape = (384,), *INIT_FROM_CKPT*\n"
     ]
    },
    {
     "name": "stderr",
     "output_type": "stream",
     "text": [
      "INFO:tensorflow:  name = glowtts/FlowSpecDecoder/CouplingBlock_5/WN_0/weight_normalization_52/bias:0, shape = (384,), *INIT_FROM_CKPT*\n"
     ]
    },
    {
     "name": "stdout",
     "output_type": "stream",
     "text": [
      "INFO:tensorflow:  name = glowtts/FlowSpecDecoder/CouplingBlock_5/WN_0/weight_normalization_52/g:0, shape = (384,), *INIT_FROM_CKPT*\n"
     ]
    },
    {
     "name": "stderr",
     "output_type": "stream",
     "text": [
      "INFO:tensorflow:  name = glowtts/FlowSpecDecoder/CouplingBlock_5/WN_0/weight_normalization_52/g:0, shape = (384,), *INIT_FROM_CKPT*\n"
     ]
    },
    {
     "name": "stdout",
     "output_type": "stream",
     "text": [
      "INFO:tensorflow:  name = glowtts/FlowSpecDecoder/CouplingBlock_5/WN_0/weight_normalization_53/kernel:0, shape = (1, 192, 192), *INIT_FROM_CKPT*\n"
     ]
    },
    {
     "name": "stderr",
     "output_type": "stream",
     "text": [
      "INFO:tensorflow:  name = glowtts/FlowSpecDecoder/CouplingBlock_5/WN_0/weight_normalization_53/kernel:0, shape = (1, 192, 192), *INIT_FROM_CKPT*\n"
     ]
    },
    {
     "name": "stdout",
     "output_type": "stream",
     "text": [
      "INFO:tensorflow:  name = glowtts/FlowSpecDecoder/CouplingBlock_5/WN_0/weight_normalization_53/bias:0, shape = (192,), *INIT_FROM_CKPT*\n"
     ]
    },
    {
     "name": "stderr",
     "output_type": "stream",
     "text": [
      "INFO:tensorflow:  name = glowtts/FlowSpecDecoder/CouplingBlock_5/WN_0/weight_normalization_53/bias:0, shape = (192,), *INIT_FROM_CKPT*\n"
     ]
    },
    {
     "name": "stdout",
     "output_type": "stream",
     "text": [
      "INFO:tensorflow:  name = glowtts/FlowSpecDecoder/CouplingBlock_5/WN_0/weight_normalization_53/g:0, shape = (192,), *INIT_FROM_CKPT*\n"
     ]
    },
    {
     "name": "stderr",
     "output_type": "stream",
     "text": [
      "INFO:tensorflow:  name = glowtts/FlowSpecDecoder/CouplingBlock_5/WN_0/weight_normalization_53/g:0, shape = (192,), *INIT_FROM_CKPT*\n"
     ]
    },
    {
     "name": "stdout",
     "output_type": "stream",
     "text": [
      "INFO:tensorflow:  name = glowtts/FlowSpecDecoder/CouplingBlock_5/conv1d_53/kernel:0, shape = (1, 192, 160), *INIT_FROM_CKPT*\n"
     ]
    },
    {
     "name": "stderr",
     "output_type": "stream",
     "text": [
      "INFO:tensorflow:  name = glowtts/FlowSpecDecoder/CouplingBlock_5/conv1d_53/kernel:0, shape = (1, 192, 160), *INIT_FROM_CKPT*\n"
     ]
    },
    {
     "name": "stdout",
     "output_type": "stream",
     "text": [
      "INFO:tensorflow:  name = glowtts/FlowSpecDecoder/CouplingBlock_5/conv1d_53/bias:0, shape = (160,), *INIT_FROM_CKPT*\n"
     ]
    },
    {
     "name": "stderr",
     "output_type": "stream",
     "text": [
      "INFO:tensorflow:  name = glowtts/FlowSpecDecoder/CouplingBlock_5/conv1d_53/bias:0, shape = (160,), *INIT_FROM_CKPT*\n"
     ]
    },
    {
     "name": "stdout",
     "output_type": "stream",
     "text": [
      "INFO:tensorflow:  name = glowtts/FlowSpecDecoder/CouplingBlock_4/weight_normalization_36/kernel:0, shape = (1, 80, 192), *INIT_FROM_CKPT*\n"
     ]
    },
    {
     "name": "stderr",
     "output_type": "stream",
     "text": [
      "INFO:tensorflow:  name = glowtts/FlowSpecDecoder/CouplingBlock_4/weight_normalization_36/kernel:0, shape = (1, 80, 192), *INIT_FROM_CKPT*\n"
     ]
    },
    {
     "name": "stdout",
     "output_type": "stream",
     "text": [
      "INFO:tensorflow:  name = glowtts/FlowSpecDecoder/CouplingBlock_4/weight_normalization_36/bias:0, shape = (192,), *INIT_FROM_CKPT*\n"
     ]
    },
    {
     "name": "stderr",
     "output_type": "stream",
     "text": [
      "INFO:tensorflow:  name = glowtts/FlowSpecDecoder/CouplingBlock_4/weight_normalization_36/bias:0, shape = (192,), *INIT_FROM_CKPT*\n"
     ]
    },
    {
     "name": "stdout",
     "output_type": "stream",
     "text": [
      "INFO:tensorflow:  name = glowtts/FlowSpecDecoder/CouplingBlock_4/weight_normalization_36/g:0, shape = (192,), *INIT_FROM_CKPT*\n"
     ]
    },
    {
     "name": "stderr",
     "output_type": "stream",
     "text": [
      "INFO:tensorflow:  name = glowtts/FlowSpecDecoder/CouplingBlock_4/weight_normalization_36/g:0, shape = (192,), *INIT_FROM_CKPT*\n"
     ]
    },
    {
     "name": "stdout",
     "output_type": "stream",
     "text": [
      "INFO:tensorflow:  name = glowtts/FlowSpecDecoder/CouplingBlock_4/WN_0/weight_normalization_37/kernel:0, shape = (3, 192, 384), *INIT_FROM_CKPT*\n"
     ]
    },
    {
     "name": "stderr",
     "output_type": "stream",
     "text": [
      "INFO:tensorflow:  name = glowtts/FlowSpecDecoder/CouplingBlock_4/WN_0/weight_normalization_37/kernel:0, shape = (3, 192, 384), *INIT_FROM_CKPT*\n"
     ]
    },
    {
     "name": "stdout",
     "output_type": "stream",
     "text": [
      "INFO:tensorflow:  name = glowtts/FlowSpecDecoder/CouplingBlock_4/WN_0/weight_normalization_37/bias:0, shape = (384,), *INIT_FROM_CKPT*\n"
     ]
    },
    {
     "name": "stderr",
     "output_type": "stream",
     "text": [
      "INFO:tensorflow:  name = glowtts/FlowSpecDecoder/CouplingBlock_4/WN_0/weight_normalization_37/bias:0, shape = (384,), *INIT_FROM_CKPT*\n"
     ]
    },
    {
     "name": "stdout",
     "output_type": "stream",
     "text": [
      "INFO:tensorflow:  name = glowtts/FlowSpecDecoder/CouplingBlock_4/WN_0/weight_normalization_37/g:0, shape = (384,), *INIT_FROM_CKPT*\n"
     ]
    },
    {
     "name": "stderr",
     "output_type": "stream",
     "text": [
      "INFO:tensorflow:  name = glowtts/FlowSpecDecoder/CouplingBlock_4/WN_0/weight_normalization_37/g:0, shape = (384,), *INIT_FROM_CKPT*\n"
     ]
    },
    {
     "name": "stdout",
     "output_type": "stream",
     "text": [
      "INFO:tensorflow:  name = glowtts/FlowSpecDecoder/CouplingBlock_4/WN_0/weight_normalization_38/kernel:0, shape = (1, 192, 384), *INIT_FROM_CKPT*\n"
     ]
    },
    {
     "name": "stderr",
     "output_type": "stream",
     "text": [
      "INFO:tensorflow:  name = glowtts/FlowSpecDecoder/CouplingBlock_4/WN_0/weight_normalization_38/kernel:0, shape = (1, 192, 384), *INIT_FROM_CKPT*\n"
     ]
    },
    {
     "name": "stdout",
     "output_type": "stream",
     "text": [
      "INFO:tensorflow:  name = glowtts/FlowSpecDecoder/CouplingBlock_4/WN_0/weight_normalization_38/bias:0, shape = (384,), *INIT_FROM_CKPT*\n"
     ]
    },
    {
     "name": "stderr",
     "output_type": "stream",
     "text": [
      "INFO:tensorflow:  name = glowtts/FlowSpecDecoder/CouplingBlock_4/WN_0/weight_normalization_38/bias:0, shape = (384,), *INIT_FROM_CKPT*\n"
     ]
    },
    {
     "name": "stdout",
     "output_type": "stream",
     "text": [
      "INFO:tensorflow:  name = glowtts/FlowSpecDecoder/CouplingBlock_4/WN_0/weight_normalization_38/g:0, shape = (384,), *INIT_FROM_CKPT*\n"
     ]
    },
    {
     "name": "stderr",
     "output_type": "stream",
     "text": [
      "INFO:tensorflow:  name = glowtts/FlowSpecDecoder/CouplingBlock_4/WN_0/weight_normalization_38/g:0, shape = (384,), *INIT_FROM_CKPT*\n"
     ]
    },
    {
     "name": "stdout",
     "output_type": "stream",
     "text": [
      "INFO:tensorflow:  name = glowtts/FlowSpecDecoder/CouplingBlock_4/WN_0/weight_normalization_39/kernel:0, shape = (3, 192, 384), *INIT_FROM_CKPT*\n"
     ]
    },
    {
     "name": "stderr",
     "output_type": "stream",
     "text": [
      "INFO:tensorflow:  name = glowtts/FlowSpecDecoder/CouplingBlock_4/WN_0/weight_normalization_39/kernel:0, shape = (3, 192, 384), *INIT_FROM_CKPT*\n"
     ]
    },
    {
     "name": "stdout",
     "output_type": "stream",
     "text": [
      "INFO:tensorflow:  name = glowtts/FlowSpecDecoder/CouplingBlock_4/WN_0/weight_normalization_39/bias:0, shape = (384,), *INIT_FROM_CKPT*\n"
     ]
    },
    {
     "name": "stderr",
     "output_type": "stream",
     "text": [
      "INFO:tensorflow:  name = glowtts/FlowSpecDecoder/CouplingBlock_4/WN_0/weight_normalization_39/bias:0, shape = (384,), *INIT_FROM_CKPT*\n"
     ]
    },
    {
     "name": "stdout",
     "output_type": "stream",
     "text": [
      "INFO:tensorflow:  name = glowtts/FlowSpecDecoder/CouplingBlock_4/WN_0/weight_normalization_39/g:0, shape = (384,), *INIT_FROM_CKPT*\n"
     ]
    },
    {
     "name": "stderr",
     "output_type": "stream",
     "text": [
      "INFO:tensorflow:  name = glowtts/FlowSpecDecoder/CouplingBlock_4/WN_0/weight_normalization_39/g:0, shape = (384,), *INIT_FROM_CKPT*\n"
     ]
    },
    {
     "name": "stdout",
     "output_type": "stream",
     "text": [
      "INFO:tensorflow:  name = glowtts/FlowSpecDecoder/CouplingBlock_4/WN_0/weight_normalization_40/kernel:0, shape = (1, 192, 384), *INIT_FROM_CKPT*\n"
     ]
    },
    {
     "name": "stderr",
     "output_type": "stream",
     "text": [
      "INFO:tensorflow:  name = glowtts/FlowSpecDecoder/CouplingBlock_4/WN_0/weight_normalization_40/kernel:0, shape = (1, 192, 384), *INIT_FROM_CKPT*\n"
     ]
    },
    {
     "name": "stdout",
     "output_type": "stream",
     "text": [
      "INFO:tensorflow:  name = glowtts/FlowSpecDecoder/CouplingBlock_4/WN_0/weight_normalization_40/bias:0, shape = (384,), *INIT_FROM_CKPT*\n"
     ]
    },
    {
     "name": "stderr",
     "output_type": "stream",
     "text": [
      "INFO:tensorflow:  name = glowtts/FlowSpecDecoder/CouplingBlock_4/WN_0/weight_normalization_40/bias:0, shape = (384,), *INIT_FROM_CKPT*\n"
     ]
    },
    {
     "name": "stdout",
     "output_type": "stream",
     "text": [
      "INFO:tensorflow:  name = glowtts/FlowSpecDecoder/CouplingBlock_4/WN_0/weight_normalization_40/g:0, shape = (384,), *INIT_FROM_CKPT*\n"
     ]
    },
    {
     "name": "stderr",
     "output_type": "stream",
     "text": [
      "INFO:tensorflow:  name = glowtts/FlowSpecDecoder/CouplingBlock_4/WN_0/weight_normalization_40/g:0, shape = (384,), *INIT_FROM_CKPT*\n"
     ]
    },
    {
     "name": "stdout",
     "output_type": "stream",
     "text": [
      "INFO:tensorflow:  name = glowtts/FlowSpecDecoder/CouplingBlock_4/WN_0/weight_normalization_41/kernel:0, shape = (3, 192, 384), *INIT_FROM_CKPT*\n"
     ]
    },
    {
     "name": "stderr",
     "output_type": "stream",
     "text": [
      "INFO:tensorflow:  name = glowtts/FlowSpecDecoder/CouplingBlock_4/WN_0/weight_normalization_41/kernel:0, shape = (3, 192, 384), *INIT_FROM_CKPT*\n"
     ]
    },
    {
     "name": "stdout",
     "output_type": "stream",
     "text": [
      "INFO:tensorflow:  name = glowtts/FlowSpecDecoder/CouplingBlock_4/WN_0/weight_normalization_41/bias:0, shape = (384,), *INIT_FROM_CKPT*\n"
     ]
    },
    {
     "name": "stderr",
     "output_type": "stream",
     "text": [
      "INFO:tensorflow:  name = glowtts/FlowSpecDecoder/CouplingBlock_4/WN_0/weight_normalization_41/bias:0, shape = (384,), *INIT_FROM_CKPT*\n"
     ]
    },
    {
     "name": "stdout",
     "output_type": "stream",
     "text": [
      "INFO:tensorflow:  name = glowtts/FlowSpecDecoder/CouplingBlock_4/WN_0/weight_normalization_41/g:0, shape = (384,), *INIT_FROM_CKPT*\n"
     ]
    },
    {
     "name": "stderr",
     "output_type": "stream",
     "text": [
      "INFO:tensorflow:  name = glowtts/FlowSpecDecoder/CouplingBlock_4/WN_0/weight_normalization_41/g:0, shape = (384,), *INIT_FROM_CKPT*\n"
     ]
    },
    {
     "name": "stdout",
     "output_type": "stream",
     "text": [
      "INFO:tensorflow:  name = glowtts/FlowSpecDecoder/CouplingBlock_4/WN_0/weight_normalization_42/kernel:0, shape = (1, 192, 384), *INIT_FROM_CKPT*\n"
     ]
    },
    {
     "name": "stderr",
     "output_type": "stream",
     "text": [
      "INFO:tensorflow:  name = glowtts/FlowSpecDecoder/CouplingBlock_4/WN_0/weight_normalization_42/kernel:0, shape = (1, 192, 384), *INIT_FROM_CKPT*\n"
     ]
    },
    {
     "name": "stdout",
     "output_type": "stream",
     "text": [
      "INFO:tensorflow:  name = glowtts/FlowSpecDecoder/CouplingBlock_4/WN_0/weight_normalization_42/bias:0, shape = (384,), *INIT_FROM_CKPT*\n"
     ]
    },
    {
     "name": "stderr",
     "output_type": "stream",
     "text": [
      "INFO:tensorflow:  name = glowtts/FlowSpecDecoder/CouplingBlock_4/WN_0/weight_normalization_42/bias:0, shape = (384,), *INIT_FROM_CKPT*\n"
     ]
    },
    {
     "name": "stdout",
     "output_type": "stream",
     "text": [
      "INFO:tensorflow:  name = glowtts/FlowSpecDecoder/CouplingBlock_4/WN_0/weight_normalization_42/g:0, shape = (384,), *INIT_FROM_CKPT*\n"
     ]
    },
    {
     "name": "stderr",
     "output_type": "stream",
     "text": [
      "INFO:tensorflow:  name = glowtts/FlowSpecDecoder/CouplingBlock_4/WN_0/weight_normalization_42/g:0, shape = (384,), *INIT_FROM_CKPT*\n"
     ]
    },
    {
     "name": "stdout",
     "output_type": "stream",
     "text": [
      "INFO:tensorflow:  name = glowtts/FlowSpecDecoder/CouplingBlock_4/WN_0/weight_normalization_43/kernel:0, shape = (3, 192, 384), *INIT_FROM_CKPT*\n"
     ]
    },
    {
     "name": "stderr",
     "output_type": "stream",
     "text": [
      "INFO:tensorflow:  name = glowtts/FlowSpecDecoder/CouplingBlock_4/WN_0/weight_normalization_43/kernel:0, shape = (3, 192, 384), *INIT_FROM_CKPT*\n"
     ]
    },
    {
     "name": "stdout",
     "output_type": "stream",
     "text": [
      "INFO:tensorflow:  name = glowtts/FlowSpecDecoder/CouplingBlock_4/WN_0/weight_normalization_43/bias:0, shape = (384,), *INIT_FROM_CKPT*\n"
     ]
    },
    {
     "name": "stderr",
     "output_type": "stream",
     "text": [
      "INFO:tensorflow:  name = glowtts/FlowSpecDecoder/CouplingBlock_4/WN_0/weight_normalization_43/bias:0, shape = (384,), *INIT_FROM_CKPT*\n"
     ]
    },
    {
     "name": "stdout",
     "output_type": "stream",
     "text": [
      "INFO:tensorflow:  name = glowtts/FlowSpecDecoder/CouplingBlock_4/WN_0/weight_normalization_43/g:0, shape = (384,), *INIT_FROM_CKPT*\n"
     ]
    },
    {
     "name": "stderr",
     "output_type": "stream",
     "text": [
      "INFO:tensorflow:  name = glowtts/FlowSpecDecoder/CouplingBlock_4/WN_0/weight_normalization_43/g:0, shape = (384,), *INIT_FROM_CKPT*\n"
     ]
    },
    {
     "name": "stdout",
     "output_type": "stream",
     "text": [
      "INFO:tensorflow:  name = glowtts/FlowSpecDecoder/CouplingBlock_4/WN_0/weight_normalization_44/kernel:0, shape = (1, 192, 192), *INIT_FROM_CKPT*\n"
     ]
    },
    {
     "name": "stderr",
     "output_type": "stream",
     "text": [
      "INFO:tensorflow:  name = glowtts/FlowSpecDecoder/CouplingBlock_4/WN_0/weight_normalization_44/kernel:0, shape = (1, 192, 192), *INIT_FROM_CKPT*\n"
     ]
    },
    {
     "name": "stdout",
     "output_type": "stream",
     "text": [
      "INFO:tensorflow:  name = glowtts/FlowSpecDecoder/CouplingBlock_4/WN_0/weight_normalization_44/bias:0, shape = (192,), *INIT_FROM_CKPT*\n"
     ]
    },
    {
     "name": "stderr",
     "output_type": "stream",
     "text": [
      "INFO:tensorflow:  name = glowtts/FlowSpecDecoder/CouplingBlock_4/WN_0/weight_normalization_44/bias:0, shape = (192,), *INIT_FROM_CKPT*\n"
     ]
    },
    {
     "name": "stdout",
     "output_type": "stream",
     "text": [
      "INFO:tensorflow:  name = glowtts/FlowSpecDecoder/CouplingBlock_4/WN_0/weight_normalization_44/g:0, shape = (192,), *INIT_FROM_CKPT*\n"
     ]
    },
    {
     "name": "stderr",
     "output_type": "stream",
     "text": [
      "INFO:tensorflow:  name = glowtts/FlowSpecDecoder/CouplingBlock_4/WN_0/weight_normalization_44/g:0, shape = (192,), *INIT_FROM_CKPT*\n"
     ]
    },
    {
     "name": "stdout",
     "output_type": "stream",
     "text": [
      "INFO:tensorflow:  name = glowtts/FlowSpecDecoder/CouplingBlock_4/conv1d_43/kernel:0, shape = (1, 192, 160), *INIT_FROM_CKPT*\n"
     ]
    },
    {
     "name": "stderr",
     "output_type": "stream",
     "text": [
      "INFO:tensorflow:  name = glowtts/FlowSpecDecoder/CouplingBlock_4/conv1d_43/kernel:0, shape = (1, 192, 160), *INIT_FROM_CKPT*\n"
     ]
    },
    {
     "name": "stdout",
     "output_type": "stream",
     "text": [
      "INFO:tensorflow:  name = glowtts/FlowSpecDecoder/CouplingBlock_4/conv1d_43/bias:0, shape = (160,), *INIT_FROM_CKPT*\n"
     ]
    },
    {
     "name": "stderr",
     "output_type": "stream",
     "text": [
      "INFO:tensorflow:  name = glowtts/FlowSpecDecoder/CouplingBlock_4/conv1d_43/bias:0, shape = (160,), *INIT_FROM_CKPT*\n"
     ]
    },
    {
     "name": "stdout",
     "output_type": "stream",
     "text": [
      "INFO:tensorflow:  name = glowtts/FlowSpecDecoder/CouplingBlock_3/weight_normalization_27/kernel:0, shape = (1, 80, 192), *INIT_FROM_CKPT*\n"
     ]
    },
    {
     "name": "stderr",
     "output_type": "stream",
     "text": [
      "INFO:tensorflow:  name = glowtts/FlowSpecDecoder/CouplingBlock_3/weight_normalization_27/kernel:0, shape = (1, 80, 192), *INIT_FROM_CKPT*\n"
     ]
    },
    {
     "name": "stdout",
     "output_type": "stream",
     "text": [
      "INFO:tensorflow:  name = glowtts/FlowSpecDecoder/CouplingBlock_3/weight_normalization_27/bias:0, shape = (192,), *INIT_FROM_CKPT*\n"
     ]
    },
    {
     "name": "stderr",
     "output_type": "stream",
     "text": [
      "INFO:tensorflow:  name = glowtts/FlowSpecDecoder/CouplingBlock_3/weight_normalization_27/bias:0, shape = (192,), *INIT_FROM_CKPT*\n"
     ]
    },
    {
     "name": "stdout",
     "output_type": "stream",
     "text": [
      "INFO:tensorflow:  name = glowtts/FlowSpecDecoder/CouplingBlock_3/weight_normalization_27/g:0, shape = (192,), *INIT_FROM_CKPT*\n"
     ]
    },
    {
     "name": "stderr",
     "output_type": "stream",
     "text": [
      "INFO:tensorflow:  name = glowtts/FlowSpecDecoder/CouplingBlock_3/weight_normalization_27/g:0, shape = (192,), *INIT_FROM_CKPT*\n"
     ]
    },
    {
     "name": "stdout",
     "output_type": "stream",
     "text": [
      "INFO:tensorflow:  name = glowtts/FlowSpecDecoder/CouplingBlock_3/WN_0/weight_normalization_28/kernel:0, shape = (3, 192, 384), *INIT_FROM_CKPT*\n"
     ]
    },
    {
     "name": "stderr",
     "output_type": "stream",
     "text": [
      "INFO:tensorflow:  name = glowtts/FlowSpecDecoder/CouplingBlock_3/WN_0/weight_normalization_28/kernel:0, shape = (3, 192, 384), *INIT_FROM_CKPT*\n"
     ]
    },
    {
     "name": "stdout",
     "output_type": "stream",
     "text": [
      "INFO:tensorflow:  name = glowtts/FlowSpecDecoder/CouplingBlock_3/WN_0/weight_normalization_28/bias:0, shape = (384,), *INIT_FROM_CKPT*\n"
     ]
    },
    {
     "name": "stderr",
     "output_type": "stream",
     "text": [
      "INFO:tensorflow:  name = glowtts/FlowSpecDecoder/CouplingBlock_3/WN_0/weight_normalization_28/bias:0, shape = (384,), *INIT_FROM_CKPT*\n"
     ]
    },
    {
     "name": "stdout",
     "output_type": "stream",
     "text": [
      "INFO:tensorflow:  name = glowtts/FlowSpecDecoder/CouplingBlock_3/WN_0/weight_normalization_28/g:0, shape = (384,), *INIT_FROM_CKPT*\n"
     ]
    },
    {
     "name": "stderr",
     "output_type": "stream",
     "text": [
      "INFO:tensorflow:  name = glowtts/FlowSpecDecoder/CouplingBlock_3/WN_0/weight_normalization_28/g:0, shape = (384,), *INIT_FROM_CKPT*\n"
     ]
    },
    {
     "name": "stdout",
     "output_type": "stream",
     "text": [
      "INFO:tensorflow:  name = glowtts/FlowSpecDecoder/CouplingBlock_3/WN_0/weight_normalization_29/kernel:0, shape = (1, 192, 384), *INIT_FROM_CKPT*\n"
     ]
    },
    {
     "name": "stderr",
     "output_type": "stream",
     "text": [
      "INFO:tensorflow:  name = glowtts/FlowSpecDecoder/CouplingBlock_3/WN_0/weight_normalization_29/kernel:0, shape = (1, 192, 384), *INIT_FROM_CKPT*\n"
     ]
    },
    {
     "name": "stdout",
     "output_type": "stream",
     "text": [
      "INFO:tensorflow:  name = glowtts/FlowSpecDecoder/CouplingBlock_3/WN_0/weight_normalization_29/bias:0, shape = (384,), *INIT_FROM_CKPT*\n"
     ]
    },
    {
     "name": "stderr",
     "output_type": "stream",
     "text": [
      "INFO:tensorflow:  name = glowtts/FlowSpecDecoder/CouplingBlock_3/WN_0/weight_normalization_29/bias:0, shape = (384,), *INIT_FROM_CKPT*\n"
     ]
    },
    {
     "name": "stdout",
     "output_type": "stream",
     "text": [
      "INFO:tensorflow:  name = glowtts/FlowSpecDecoder/CouplingBlock_3/WN_0/weight_normalization_29/g:0, shape = (384,), *INIT_FROM_CKPT*\n"
     ]
    },
    {
     "name": "stderr",
     "output_type": "stream",
     "text": [
      "INFO:tensorflow:  name = glowtts/FlowSpecDecoder/CouplingBlock_3/WN_0/weight_normalization_29/g:0, shape = (384,), *INIT_FROM_CKPT*\n"
     ]
    },
    {
     "name": "stdout",
     "output_type": "stream",
     "text": [
      "INFO:tensorflow:  name = glowtts/FlowSpecDecoder/CouplingBlock_3/WN_0/weight_normalization_30/kernel:0, shape = (3, 192, 384), *INIT_FROM_CKPT*\n"
     ]
    },
    {
     "name": "stderr",
     "output_type": "stream",
     "text": [
      "INFO:tensorflow:  name = glowtts/FlowSpecDecoder/CouplingBlock_3/WN_0/weight_normalization_30/kernel:0, shape = (3, 192, 384), *INIT_FROM_CKPT*\n"
     ]
    },
    {
     "name": "stdout",
     "output_type": "stream",
     "text": [
      "INFO:tensorflow:  name = glowtts/FlowSpecDecoder/CouplingBlock_3/WN_0/weight_normalization_30/bias:0, shape = (384,), *INIT_FROM_CKPT*\n"
     ]
    },
    {
     "name": "stderr",
     "output_type": "stream",
     "text": [
      "INFO:tensorflow:  name = glowtts/FlowSpecDecoder/CouplingBlock_3/WN_0/weight_normalization_30/bias:0, shape = (384,), *INIT_FROM_CKPT*\n"
     ]
    },
    {
     "name": "stdout",
     "output_type": "stream",
     "text": [
      "INFO:tensorflow:  name = glowtts/FlowSpecDecoder/CouplingBlock_3/WN_0/weight_normalization_30/g:0, shape = (384,), *INIT_FROM_CKPT*\n"
     ]
    },
    {
     "name": "stderr",
     "output_type": "stream",
     "text": [
      "INFO:tensorflow:  name = glowtts/FlowSpecDecoder/CouplingBlock_3/WN_0/weight_normalization_30/g:0, shape = (384,), *INIT_FROM_CKPT*\n"
     ]
    },
    {
     "name": "stdout",
     "output_type": "stream",
     "text": [
      "INFO:tensorflow:  name = glowtts/FlowSpecDecoder/CouplingBlock_3/WN_0/weight_normalization_31/kernel:0, shape = (1, 192, 384), *INIT_FROM_CKPT*\n"
     ]
    },
    {
     "name": "stderr",
     "output_type": "stream",
     "text": [
      "INFO:tensorflow:  name = glowtts/FlowSpecDecoder/CouplingBlock_3/WN_0/weight_normalization_31/kernel:0, shape = (1, 192, 384), *INIT_FROM_CKPT*\n"
     ]
    },
    {
     "name": "stdout",
     "output_type": "stream",
     "text": [
      "INFO:tensorflow:  name = glowtts/FlowSpecDecoder/CouplingBlock_3/WN_0/weight_normalization_31/bias:0, shape = (384,), *INIT_FROM_CKPT*\n"
     ]
    },
    {
     "name": "stderr",
     "output_type": "stream",
     "text": [
      "INFO:tensorflow:  name = glowtts/FlowSpecDecoder/CouplingBlock_3/WN_0/weight_normalization_31/bias:0, shape = (384,), *INIT_FROM_CKPT*\n"
     ]
    },
    {
     "name": "stdout",
     "output_type": "stream",
     "text": [
      "INFO:tensorflow:  name = glowtts/FlowSpecDecoder/CouplingBlock_3/WN_0/weight_normalization_31/g:0, shape = (384,), *INIT_FROM_CKPT*\n"
     ]
    },
    {
     "name": "stderr",
     "output_type": "stream",
     "text": [
      "INFO:tensorflow:  name = glowtts/FlowSpecDecoder/CouplingBlock_3/WN_0/weight_normalization_31/g:0, shape = (384,), *INIT_FROM_CKPT*\n"
     ]
    },
    {
     "name": "stdout",
     "output_type": "stream",
     "text": [
      "INFO:tensorflow:  name = glowtts/FlowSpecDecoder/CouplingBlock_3/WN_0/weight_normalization_32/kernel:0, shape = (3, 192, 384), *INIT_FROM_CKPT*\n"
     ]
    },
    {
     "name": "stderr",
     "output_type": "stream",
     "text": [
      "INFO:tensorflow:  name = glowtts/FlowSpecDecoder/CouplingBlock_3/WN_0/weight_normalization_32/kernel:0, shape = (3, 192, 384), *INIT_FROM_CKPT*\n"
     ]
    },
    {
     "name": "stdout",
     "output_type": "stream",
     "text": [
      "INFO:tensorflow:  name = glowtts/FlowSpecDecoder/CouplingBlock_3/WN_0/weight_normalization_32/bias:0, shape = (384,), *INIT_FROM_CKPT*\n"
     ]
    },
    {
     "name": "stderr",
     "output_type": "stream",
     "text": [
      "INFO:tensorflow:  name = glowtts/FlowSpecDecoder/CouplingBlock_3/WN_0/weight_normalization_32/bias:0, shape = (384,), *INIT_FROM_CKPT*\n"
     ]
    },
    {
     "name": "stdout",
     "output_type": "stream",
     "text": [
      "INFO:tensorflow:  name = glowtts/FlowSpecDecoder/CouplingBlock_3/WN_0/weight_normalization_32/g:0, shape = (384,), *INIT_FROM_CKPT*\n"
     ]
    },
    {
     "name": "stderr",
     "output_type": "stream",
     "text": [
      "INFO:tensorflow:  name = glowtts/FlowSpecDecoder/CouplingBlock_3/WN_0/weight_normalization_32/g:0, shape = (384,), *INIT_FROM_CKPT*\n"
     ]
    },
    {
     "name": "stdout",
     "output_type": "stream",
     "text": [
      "INFO:tensorflow:  name = glowtts/FlowSpecDecoder/CouplingBlock_3/WN_0/weight_normalization_33/kernel:0, shape = (1, 192, 384), *INIT_FROM_CKPT*\n"
     ]
    },
    {
     "name": "stderr",
     "output_type": "stream",
     "text": [
      "INFO:tensorflow:  name = glowtts/FlowSpecDecoder/CouplingBlock_3/WN_0/weight_normalization_33/kernel:0, shape = (1, 192, 384), *INIT_FROM_CKPT*\n"
     ]
    },
    {
     "name": "stdout",
     "output_type": "stream",
     "text": [
      "INFO:tensorflow:  name = glowtts/FlowSpecDecoder/CouplingBlock_3/WN_0/weight_normalization_33/bias:0, shape = (384,), *INIT_FROM_CKPT*\n"
     ]
    },
    {
     "name": "stderr",
     "output_type": "stream",
     "text": [
      "INFO:tensorflow:  name = glowtts/FlowSpecDecoder/CouplingBlock_3/WN_0/weight_normalization_33/bias:0, shape = (384,), *INIT_FROM_CKPT*\n"
     ]
    },
    {
     "name": "stdout",
     "output_type": "stream",
     "text": [
      "INFO:tensorflow:  name = glowtts/FlowSpecDecoder/CouplingBlock_3/WN_0/weight_normalization_33/g:0, shape = (384,), *INIT_FROM_CKPT*\n"
     ]
    },
    {
     "name": "stderr",
     "output_type": "stream",
     "text": [
      "INFO:tensorflow:  name = glowtts/FlowSpecDecoder/CouplingBlock_3/WN_0/weight_normalization_33/g:0, shape = (384,), *INIT_FROM_CKPT*\n"
     ]
    },
    {
     "name": "stdout",
     "output_type": "stream",
     "text": [
      "INFO:tensorflow:  name = glowtts/FlowSpecDecoder/CouplingBlock_3/WN_0/weight_normalization_34/kernel:0, shape = (3, 192, 384), *INIT_FROM_CKPT*\n"
     ]
    },
    {
     "name": "stderr",
     "output_type": "stream",
     "text": [
      "INFO:tensorflow:  name = glowtts/FlowSpecDecoder/CouplingBlock_3/WN_0/weight_normalization_34/kernel:0, shape = (3, 192, 384), *INIT_FROM_CKPT*\n"
     ]
    },
    {
     "name": "stdout",
     "output_type": "stream",
     "text": [
      "INFO:tensorflow:  name = glowtts/FlowSpecDecoder/CouplingBlock_3/WN_0/weight_normalization_34/bias:0, shape = (384,), *INIT_FROM_CKPT*\n"
     ]
    },
    {
     "name": "stderr",
     "output_type": "stream",
     "text": [
      "INFO:tensorflow:  name = glowtts/FlowSpecDecoder/CouplingBlock_3/WN_0/weight_normalization_34/bias:0, shape = (384,), *INIT_FROM_CKPT*\n"
     ]
    },
    {
     "name": "stdout",
     "output_type": "stream",
     "text": [
      "INFO:tensorflow:  name = glowtts/FlowSpecDecoder/CouplingBlock_3/WN_0/weight_normalization_34/g:0, shape = (384,), *INIT_FROM_CKPT*\n"
     ]
    },
    {
     "name": "stderr",
     "output_type": "stream",
     "text": [
      "INFO:tensorflow:  name = glowtts/FlowSpecDecoder/CouplingBlock_3/WN_0/weight_normalization_34/g:0, shape = (384,), *INIT_FROM_CKPT*\n"
     ]
    },
    {
     "name": "stdout",
     "output_type": "stream",
     "text": [
      "INFO:tensorflow:  name = glowtts/FlowSpecDecoder/CouplingBlock_3/WN_0/weight_normalization_35/kernel:0, shape = (1, 192, 192), *INIT_FROM_CKPT*\n"
     ]
    },
    {
     "name": "stderr",
     "output_type": "stream",
     "text": [
      "INFO:tensorflow:  name = glowtts/FlowSpecDecoder/CouplingBlock_3/WN_0/weight_normalization_35/kernel:0, shape = (1, 192, 192), *INIT_FROM_CKPT*\n"
     ]
    },
    {
     "name": "stdout",
     "output_type": "stream",
     "text": [
      "INFO:tensorflow:  name = glowtts/FlowSpecDecoder/CouplingBlock_3/WN_0/weight_normalization_35/bias:0, shape = (192,), *INIT_FROM_CKPT*\n"
     ]
    },
    {
     "name": "stderr",
     "output_type": "stream",
     "text": [
      "INFO:tensorflow:  name = glowtts/FlowSpecDecoder/CouplingBlock_3/WN_0/weight_normalization_35/bias:0, shape = (192,), *INIT_FROM_CKPT*\n"
     ]
    },
    {
     "name": "stdout",
     "output_type": "stream",
     "text": [
      "INFO:tensorflow:  name = glowtts/FlowSpecDecoder/CouplingBlock_3/WN_0/weight_normalization_35/g:0, shape = (192,), *INIT_FROM_CKPT*\n"
     ]
    },
    {
     "name": "stderr",
     "output_type": "stream",
     "text": [
      "INFO:tensorflow:  name = glowtts/FlowSpecDecoder/CouplingBlock_3/WN_0/weight_normalization_35/g:0, shape = (192,), *INIT_FROM_CKPT*\n"
     ]
    },
    {
     "name": "stdout",
     "output_type": "stream",
     "text": [
      "INFO:tensorflow:  name = glowtts/FlowSpecDecoder/CouplingBlock_3/conv1d_33/kernel:0, shape = (1, 192, 160), *INIT_FROM_CKPT*\n"
     ]
    },
    {
     "name": "stderr",
     "output_type": "stream",
     "text": [
      "INFO:tensorflow:  name = glowtts/FlowSpecDecoder/CouplingBlock_3/conv1d_33/kernel:0, shape = (1, 192, 160), *INIT_FROM_CKPT*\n"
     ]
    },
    {
     "name": "stdout",
     "output_type": "stream",
     "text": [
      "INFO:tensorflow:  name = glowtts/FlowSpecDecoder/CouplingBlock_3/conv1d_33/bias:0, shape = (160,), *INIT_FROM_CKPT*\n"
     ]
    },
    {
     "name": "stderr",
     "output_type": "stream",
     "text": [
      "INFO:tensorflow:  name = glowtts/FlowSpecDecoder/CouplingBlock_3/conv1d_33/bias:0, shape = (160,), *INIT_FROM_CKPT*\n"
     ]
    },
    {
     "name": "stdout",
     "output_type": "stream",
     "text": [
      "INFO:tensorflow:  name = glowtts/FlowSpecDecoder/CouplingBlock_2/weight_normalization_18/kernel:0, shape = (1, 80, 192), *INIT_FROM_CKPT*\n"
     ]
    },
    {
     "name": "stderr",
     "output_type": "stream",
     "text": [
      "INFO:tensorflow:  name = glowtts/FlowSpecDecoder/CouplingBlock_2/weight_normalization_18/kernel:0, shape = (1, 80, 192), *INIT_FROM_CKPT*\n"
     ]
    },
    {
     "name": "stdout",
     "output_type": "stream",
     "text": [
      "INFO:tensorflow:  name = glowtts/FlowSpecDecoder/CouplingBlock_2/weight_normalization_18/bias:0, shape = (192,), *INIT_FROM_CKPT*\n"
     ]
    },
    {
     "name": "stderr",
     "output_type": "stream",
     "text": [
      "INFO:tensorflow:  name = glowtts/FlowSpecDecoder/CouplingBlock_2/weight_normalization_18/bias:0, shape = (192,), *INIT_FROM_CKPT*\n"
     ]
    },
    {
     "name": "stdout",
     "output_type": "stream",
     "text": [
      "INFO:tensorflow:  name = glowtts/FlowSpecDecoder/CouplingBlock_2/weight_normalization_18/g:0, shape = (192,), *INIT_FROM_CKPT*\n"
     ]
    },
    {
     "name": "stderr",
     "output_type": "stream",
     "text": [
      "INFO:tensorflow:  name = glowtts/FlowSpecDecoder/CouplingBlock_2/weight_normalization_18/g:0, shape = (192,), *INIT_FROM_CKPT*\n"
     ]
    },
    {
     "name": "stdout",
     "output_type": "stream",
     "text": [
      "INFO:tensorflow:  name = glowtts/FlowSpecDecoder/CouplingBlock_2/WN_0/weight_normalization_19/kernel:0, shape = (3, 192, 384), *INIT_FROM_CKPT*\n"
     ]
    },
    {
     "name": "stderr",
     "output_type": "stream",
     "text": [
      "INFO:tensorflow:  name = glowtts/FlowSpecDecoder/CouplingBlock_2/WN_0/weight_normalization_19/kernel:0, shape = (3, 192, 384), *INIT_FROM_CKPT*\n"
     ]
    },
    {
     "name": "stdout",
     "output_type": "stream",
     "text": [
      "INFO:tensorflow:  name = glowtts/FlowSpecDecoder/CouplingBlock_2/WN_0/weight_normalization_19/bias:0, shape = (384,), *INIT_FROM_CKPT*\n"
     ]
    },
    {
     "name": "stderr",
     "output_type": "stream",
     "text": [
      "INFO:tensorflow:  name = glowtts/FlowSpecDecoder/CouplingBlock_2/WN_0/weight_normalization_19/bias:0, shape = (384,), *INIT_FROM_CKPT*\n"
     ]
    },
    {
     "name": "stdout",
     "output_type": "stream",
     "text": [
      "INFO:tensorflow:  name = glowtts/FlowSpecDecoder/CouplingBlock_2/WN_0/weight_normalization_19/g:0, shape = (384,), *INIT_FROM_CKPT*\n"
     ]
    },
    {
     "name": "stderr",
     "output_type": "stream",
     "text": [
      "INFO:tensorflow:  name = glowtts/FlowSpecDecoder/CouplingBlock_2/WN_0/weight_normalization_19/g:0, shape = (384,), *INIT_FROM_CKPT*\n"
     ]
    },
    {
     "name": "stdout",
     "output_type": "stream",
     "text": [
      "INFO:tensorflow:  name = glowtts/FlowSpecDecoder/CouplingBlock_2/WN_0/weight_normalization_20/kernel:0, shape = (1, 192, 384), *INIT_FROM_CKPT*\n"
     ]
    },
    {
     "name": "stderr",
     "output_type": "stream",
     "text": [
      "INFO:tensorflow:  name = glowtts/FlowSpecDecoder/CouplingBlock_2/WN_0/weight_normalization_20/kernel:0, shape = (1, 192, 384), *INIT_FROM_CKPT*\n"
     ]
    },
    {
     "name": "stdout",
     "output_type": "stream",
     "text": [
      "INFO:tensorflow:  name = glowtts/FlowSpecDecoder/CouplingBlock_2/WN_0/weight_normalization_20/bias:0, shape = (384,), *INIT_FROM_CKPT*\n"
     ]
    },
    {
     "name": "stderr",
     "output_type": "stream",
     "text": [
      "INFO:tensorflow:  name = glowtts/FlowSpecDecoder/CouplingBlock_2/WN_0/weight_normalization_20/bias:0, shape = (384,), *INIT_FROM_CKPT*\n"
     ]
    },
    {
     "name": "stdout",
     "output_type": "stream",
     "text": [
      "INFO:tensorflow:  name = glowtts/FlowSpecDecoder/CouplingBlock_2/WN_0/weight_normalization_20/g:0, shape = (384,), *INIT_FROM_CKPT*\n"
     ]
    },
    {
     "name": "stderr",
     "output_type": "stream",
     "text": [
      "INFO:tensorflow:  name = glowtts/FlowSpecDecoder/CouplingBlock_2/WN_0/weight_normalization_20/g:0, shape = (384,), *INIT_FROM_CKPT*\n"
     ]
    },
    {
     "name": "stdout",
     "output_type": "stream",
     "text": [
      "INFO:tensorflow:  name = glowtts/FlowSpecDecoder/CouplingBlock_2/WN_0/weight_normalization_21/kernel:0, shape = (3, 192, 384), *INIT_FROM_CKPT*\n"
     ]
    },
    {
     "name": "stderr",
     "output_type": "stream",
     "text": [
      "INFO:tensorflow:  name = glowtts/FlowSpecDecoder/CouplingBlock_2/WN_0/weight_normalization_21/kernel:0, shape = (3, 192, 384), *INIT_FROM_CKPT*\n"
     ]
    },
    {
     "name": "stdout",
     "output_type": "stream",
     "text": [
      "INFO:tensorflow:  name = glowtts/FlowSpecDecoder/CouplingBlock_2/WN_0/weight_normalization_21/bias:0, shape = (384,), *INIT_FROM_CKPT*\n"
     ]
    },
    {
     "name": "stderr",
     "output_type": "stream",
     "text": [
      "INFO:tensorflow:  name = glowtts/FlowSpecDecoder/CouplingBlock_2/WN_0/weight_normalization_21/bias:0, shape = (384,), *INIT_FROM_CKPT*\n"
     ]
    },
    {
     "name": "stdout",
     "output_type": "stream",
     "text": [
      "INFO:tensorflow:  name = glowtts/FlowSpecDecoder/CouplingBlock_2/WN_0/weight_normalization_21/g:0, shape = (384,), *INIT_FROM_CKPT*\n"
     ]
    },
    {
     "name": "stderr",
     "output_type": "stream",
     "text": [
      "INFO:tensorflow:  name = glowtts/FlowSpecDecoder/CouplingBlock_2/WN_0/weight_normalization_21/g:0, shape = (384,), *INIT_FROM_CKPT*\n"
     ]
    },
    {
     "name": "stdout",
     "output_type": "stream",
     "text": [
      "INFO:tensorflow:  name = glowtts/FlowSpecDecoder/CouplingBlock_2/WN_0/weight_normalization_22/kernel:0, shape = (1, 192, 384), *INIT_FROM_CKPT*\n"
     ]
    },
    {
     "name": "stderr",
     "output_type": "stream",
     "text": [
      "INFO:tensorflow:  name = glowtts/FlowSpecDecoder/CouplingBlock_2/WN_0/weight_normalization_22/kernel:0, shape = (1, 192, 384), *INIT_FROM_CKPT*\n"
     ]
    },
    {
     "name": "stdout",
     "output_type": "stream",
     "text": [
      "INFO:tensorflow:  name = glowtts/FlowSpecDecoder/CouplingBlock_2/WN_0/weight_normalization_22/bias:0, shape = (384,), *INIT_FROM_CKPT*\n"
     ]
    },
    {
     "name": "stderr",
     "output_type": "stream",
     "text": [
      "INFO:tensorflow:  name = glowtts/FlowSpecDecoder/CouplingBlock_2/WN_0/weight_normalization_22/bias:0, shape = (384,), *INIT_FROM_CKPT*\n"
     ]
    },
    {
     "name": "stdout",
     "output_type": "stream",
     "text": [
      "INFO:tensorflow:  name = glowtts/FlowSpecDecoder/CouplingBlock_2/WN_0/weight_normalization_22/g:0, shape = (384,), *INIT_FROM_CKPT*\n"
     ]
    },
    {
     "name": "stderr",
     "output_type": "stream",
     "text": [
      "INFO:tensorflow:  name = glowtts/FlowSpecDecoder/CouplingBlock_2/WN_0/weight_normalization_22/g:0, shape = (384,), *INIT_FROM_CKPT*\n"
     ]
    },
    {
     "name": "stdout",
     "output_type": "stream",
     "text": [
      "INFO:tensorflow:  name = glowtts/FlowSpecDecoder/CouplingBlock_2/WN_0/weight_normalization_23/kernel:0, shape = (3, 192, 384), *INIT_FROM_CKPT*\n"
     ]
    },
    {
     "name": "stderr",
     "output_type": "stream",
     "text": [
      "INFO:tensorflow:  name = glowtts/FlowSpecDecoder/CouplingBlock_2/WN_0/weight_normalization_23/kernel:0, shape = (3, 192, 384), *INIT_FROM_CKPT*\n"
     ]
    },
    {
     "name": "stdout",
     "output_type": "stream",
     "text": [
      "INFO:tensorflow:  name = glowtts/FlowSpecDecoder/CouplingBlock_2/WN_0/weight_normalization_23/bias:0, shape = (384,), *INIT_FROM_CKPT*\n"
     ]
    },
    {
     "name": "stderr",
     "output_type": "stream",
     "text": [
      "INFO:tensorflow:  name = glowtts/FlowSpecDecoder/CouplingBlock_2/WN_0/weight_normalization_23/bias:0, shape = (384,), *INIT_FROM_CKPT*\n"
     ]
    },
    {
     "name": "stdout",
     "output_type": "stream",
     "text": [
      "INFO:tensorflow:  name = glowtts/FlowSpecDecoder/CouplingBlock_2/WN_0/weight_normalization_23/g:0, shape = (384,), *INIT_FROM_CKPT*\n"
     ]
    },
    {
     "name": "stderr",
     "output_type": "stream",
     "text": [
      "INFO:tensorflow:  name = glowtts/FlowSpecDecoder/CouplingBlock_2/WN_0/weight_normalization_23/g:0, shape = (384,), *INIT_FROM_CKPT*\n"
     ]
    },
    {
     "name": "stdout",
     "output_type": "stream",
     "text": [
      "INFO:tensorflow:  name = glowtts/FlowSpecDecoder/CouplingBlock_2/WN_0/weight_normalization_24/kernel:0, shape = (1, 192, 384), *INIT_FROM_CKPT*\n"
     ]
    },
    {
     "name": "stderr",
     "output_type": "stream",
     "text": [
      "INFO:tensorflow:  name = glowtts/FlowSpecDecoder/CouplingBlock_2/WN_0/weight_normalization_24/kernel:0, shape = (1, 192, 384), *INIT_FROM_CKPT*\n"
     ]
    },
    {
     "name": "stdout",
     "output_type": "stream",
     "text": [
      "INFO:tensorflow:  name = glowtts/FlowSpecDecoder/CouplingBlock_2/WN_0/weight_normalization_24/bias:0, shape = (384,), *INIT_FROM_CKPT*\n"
     ]
    },
    {
     "name": "stderr",
     "output_type": "stream",
     "text": [
      "INFO:tensorflow:  name = glowtts/FlowSpecDecoder/CouplingBlock_2/WN_0/weight_normalization_24/bias:0, shape = (384,), *INIT_FROM_CKPT*\n"
     ]
    },
    {
     "name": "stdout",
     "output_type": "stream",
     "text": [
      "INFO:tensorflow:  name = glowtts/FlowSpecDecoder/CouplingBlock_2/WN_0/weight_normalization_24/g:0, shape = (384,), *INIT_FROM_CKPT*\n"
     ]
    },
    {
     "name": "stderr",
     "output_type": "stream",
     "text": [
      "INFO:tensorflow:  name = glowtts/FlowSpecDecoder/CouplingBlock_2/WN_0/weight_normalization_24/g:0, shape = (384,), *INIT_FROM_CKPT*\n"
     ]
    },
    {
     "name": "stdout",
     "output_type": "stream",
     "text": [
      "INFO:tensorflow:  name = glowtts/FlowSpecDecoder/CouplingBlock_2/WN_0/weight_normalization_25/kernel:0, shape = (3, 192, 384), *INIT_FROM_CKPT*\n"
     ]
    },
    {
     "name": "stderr",
     "output_type": "stream",
     "text": [
      "INFO:tensorflow:  name = glowtts/FlowSpecDecoder/CouplingBlock_2/WN_0/weight_normalization_25/kernel:0, shape = (3, 192, 384), *INIT_FROM_CKPT*\n"
     ]
    },
    {
     "name": "stdout",
     "output_type": "stream",
     "text": [
      "INFO:tensorflow:  name = glowtts/FlowSpecDecoder/CouplingBlock_2/WN_0/weight_normalization_25/bias:0, shape = (384,), *INIT_FROM_CKPT*\n"
     ]
    },
    {
     "name": "stderr",
     "output_type": "stream",
     "text": [
      "INFO:tensorflow:  name = glowtts/FlowSpecDecoder/CouplingBlock_2/WN_0/weight_normalization_25/bias:0, shape = (384,), *INIT_FROM_CKPT*\n"
     ]
    },
    {
     "name": "stdout",
     "output_type": "stream",
     "text": [
      "INFO:tensorflow:  name = glowtts/FlowSpecDecoder/CouplingBlock_2/WN_0/weight_normalization_25/g:0, shape = (384,), *INIT_FROM_CKPT*\n"
     ]
    },
    {
     "name": "stderr",
     "output_type": "stream",
     "text": [
      "INFO:tensorflow:  name = glowtts/FlowSpecDecoder/CouplingBlock_2/WN_0/weight_normalization_25/g:0, shape = (384,), *INIT_FROM_CKPT*\n"
     ]
    },
    {
     "name": "stdout",
     "output_type": "stream",
     "text": [
      "INFO:tensorflow:  name = glowtts/FlowSpecDecoder/CouplingBlock_2/WN_0/weight_normalization_26/kernel:0, shape = (1, 192, 192), *INIT_FROM_CKPT*\n"
     ]
    },
    {
     "name": "stderr",
     "output_type": "stream",
     "text": [
      "INFO:tensorflow:  name = glowtts/FlowSpecDecoder/CouplingBlock_2/WN_0/weight_normalization_26/kernel:0, shape = (1, 192, 192), *INIT_FROM_CKPT*\n"
     ]
    },
    {
     "name": "stdout",
     "output_type": "stream",
     "text": [
      "INFO:tensorflow:  name = glowtts/FlowSpecDecoder/CouplingBlock_2/WN_0/weight_normalization_26/bias:0, shape = (192,), *INIT_FROM_CKPT*\n"
     ]
    },
    {
     "name": "stderr",
     "output_type": "stream",
     "text": [
      "INFO:tensorflow:  name = glowtts/FlowSpecDecoder/CouplingBlock_2/WN_0/weight_normalization_26/bias:0, shape = (192,), *INIT_FROM_CKPT*\n"
     ]
    },
    {
     "name": "stdout",
     "output_type": "stream",
     "text": [
      "INFO:tensorflow:  name = glowtts/FlowSpecDecoder/CouplingBlock_2/WN_0/weight_normalization_26/g:0, shape = (192,), *INIT_FROM_CKPT*\n"
     ]
    },
    {
     "name": "stderr",
     "output_type": "stream",
     "text": [
      "INFO:tensorflow:  name = glowtts/FlowSpecDecoder/CouplingBlock_2/WN_0/weight_normalization_26/g:0, shape = (192,), *INIT_FROM_CKPT*\n"
     ]
    },
    {
     "name": "stdout",
     "output_type": "stream",
     "text": [
      "INFO:tensorflow:  name = glowtts/FlowSpecDecoder/CouplingBlock_2/conv1d_23/kernel:0, shape = (1, 192, 160), *INIT_FROM_CKPT*\n"
     ]
    },
    {
     "name": "stderr",
     "output_type": "stream",
     "text": [
      "INFO:tensorflow:  name = glowtts/FlowSpecDecoder/CouplingBlock_2/conv1d_23/kernel:0, shape = (1, 192, 160), *INIT_FROM_CKPT*\n"
     ]
    },
    {
     "name": "stdout",
     "output_type": "stream",
     "text": [
      "INFO:tensorflow:  name = glowtts/FlowSpecDecoder/CouplingBlock_2/conv1d_23/bias:0, shape = (160,), *INIT_FROM_CKPT*\n"
     ]
    },
    {
     "name": "stderr",
     "output_type": "stream",
     "text": [
      "INFO:tensorflow:  name = glowtts/FlowSpecDecoder/CouplingBlock_2/conv1d_23/bias:0, shape = (160,), *INIT_FROM_CKPT*\n"
     ]
    },
    {
     "name": "stdout",
     "output_type": "stream",
     "text": [
      "INFO:tensorflow:  name = glowtts/FlowSpecDecoder/CouplingBlock_1/weight_normalization_9/kernel:0, shape = (1, 80, 192), *INIT_FROM_CKPT*\n"
     ]
    },
    {
     "name": "stderr",
     "output_type": "stream",
     "text": [
      "INFO:tensorflow:  name = glowtts/FlowSpecDecoder/CouplingBlock_1/weight_normalization_9/kernel:0, shape = (1, 80, 192), *INIT_FROM_CKPT*\n"
     ]
    },
    {
     "name": "stdout",
     "output_type": "stream",
     "text": [
      "INFO:tensorflow:  name = glowtts/FlowSpecDecoder/CouplingBlock_1/weight_normalization_9/bias:0, shape = (192,), *INIT_FROM_CKPT*\n"
     ]
    },
    {
     "name": "stderr",
     "output_type": "stream",
     "text": [
      "INFO:tensorflow:  name = glowtts/FlowSpecDecoder/CouplingBlock_1/weight_normalization_9/bias:0, shape = (192,), *INIT_FROM_CKPT*\n"
     ]
    },
    {
     "name": "stdout",
     "output_type": "stream",
     "text": [
      "INFO:tensorflow:  name = glowtts/FlowSpecDecoder/CouplingBlock_1/weight_normalization_9/g:0, shape = (192,), *INIT_FROM_CKPT*\n"
     ]
    },
    {
     "name": "stderr",
     "output_type": "stream",
     "text": [
      "INFO:tensorflow:  name = glowtts/FlowSpecDecoder/CouplingBlock_1/weight_normalization_9/g:0, shape = (192,), *INIT_FROM_CKPT*\n"
     ]
    },
    {
     "name": "stdout",
     "output_type": "stream",
     "text": [
      "INFO:tensorflow:  name = glowtts/FlowSpecDecoder/CouplingBlock_1/WN_0/weight_normalization_10/kernel:0, shape = (3, 192, 384), *INIT_FROM_CKPT*\n"
     ]
    },
    {
     "name": "stderr",
     "output_type": "stream",
     "text": [
      "INFO:tensorflow:  name = glowtts/FlowSpecDecoder/CouplingBlock_1/WN_0/weight_normalization_10/kernel:0, shape = (3, 192, 384), *INIT_FROM_CKPT*\n"
     ]
    },
    {
     "name": "stdout",
     "output_type": "stream",
     "text": [
      "INFO:tensorflow:  name = glowtts/FlowSpecDecoder/CouplingBlock_1/WN_0/weight_normalization_10/bias:0, shape = (384,), *INIT_FROM_CKPT*\n"
     ]
    },
    {
     "name": "stderr",
     "output_type": "stream",
     "text": [
      "INFO:tensorflow:  name = glowtts/FlowSpecDecoder/CouplingBlock_1/WN_0/weight_normalization_10/bias:0, shape = (384,), *INIT_FROM_CKPT*\n"
     ]
    },
    {
     "name": "stdout",
     "output_type": "stream",
     "text": [
      "INFO:tensorflow:  name = glowtts/FlowSpecDecoder/CouplingBlock_1/WN_0/weight_normalization_10/g:0, shape = (384,), *INIT_FROM_CKPT*\n"
     ]
    },
    {
     "name": "stderr",
     "output_type": "stream",
     "text": [
      "INFO:tensorflow:  name = glowtts/FlowSpecDecoder/CouplingBlock_1/WN_0/weight_normalization_10/g:0, shape = (384,), *INIT_FROM_CKPT*\n"
     ]
    },
    {
     "name": "stdout",
     "output_type": "stream",
     "text": [
      "INFO:tensorflow:  name = glowtts/FlowSpecDecoder/CouplingBlock_1/WN_0/weight_normalization_11/kernel:0, shape = (1, 192, 384), *INIT_FROM_CKPT*\n"
     ]
    },
    {
     "name": "stderr",
     "output_type": "stream",
     "text": [
      "INFO:tensorflow:  name = glowtts/FlowSpecDecoder/CouplingBlock_1/WN_0/weight_normalization_11/kernel:0, shape = (1, 192, 384), *INIT_FROM_CKPT*\n"
     ]
    },
    {
     "name": "stdout",
     "output_type": "stream",
     "text": [
      "INFO:tensorflow:  name = glowtts/FlowSpecDecoder/CouplingBlock_1/WN_0/weight_normalization_11/bias:0, shape = (384,), *INIT_FROM_CKPT*\n"
     ]
    },
    {
     "name": "stderr",
     "output_type": "stream",
     "text": [
      "INFO:tensorflow:  name = glowtts/FlowSpecDecoder/CouplingBlock_1/WN_0/weight_normalization_11/bias:0, shape = (384,), *INIT_FROM_CKPT*\n"
     ]
    },
    {
     "name": "stdout",
     "output_type": "stream",
     "text": [
      "INFO:tensorflow:  name = glowtts/FlowSpecDecoder/CouplingBlock_1/WN_0/weight_normalization_11/g:0, shape = (384,), *INIT_FROM_CKPT*\n"
     ]
    },
    {
     "name": "stderr",
     "output_type": "stream",
     "text": [
      "INFO:tensorflow:  name = glowtts/FlowSpecDecoder/CouplingBlock_1/WN_0/weight_normalization_11/g:0, shape = (384,), *INIT_FROM_CKPT*\n"
     ]
    },
    {
     "name": "stdout",
     "output_type": "stream",
     "text": [
      "INFO:tensorflow:  name = glowtts/FlowSpecDecoder/CouplingBlock_1/WN_0/weight_normalization_12/kernel:0, shape = (3, 192, 384), *INIT_FROM_CKPT*\n"
     ]
    },
    {
     "name": "stderr",
     "output_type": "stream",
     "text": [
      "INFO:tensorflow:  name = glowtts/FlowSpecDecoder/CouplingBlock_1/WN_0/weight_normalization_12/kernel:0, shape = (3, 192, 384), *INIT_FROM_CKPT*\n"
     ]
    },
    {
     "name": "stdout",
     "output_type": "stream",
     "text": [
      "INFO:tensorflow:  name = glowtts/FlowSpecDecoder/CouplingBlock_1/WN_0/weight_normalization_12/bias:0, shape = (384,), *INIT_FROM_CKPT*\n"
     ]
    },
    {
     "name": "stderr",
     "output_type": "stream",
     "text": [
      "INFO:tensorflow:  name = glowtts/FlowSpecDecoder/CouplingBlock_1/WN_0/weight_normalization_12/bias:0, shape = (384,), *INIT_FROM_CKPT*\n"
     ]
    },
    {
     "name": "stdout",
     "output_type": "stream",
     "text": [
      "INFO:tensorflow:  name = glowtts/FlowSpecDecoder/CouplingBlock_1/WN_0/weight_normalization_12/g:0, shape = (384,), *INIT_FROM_CKPT*\n"
     ]
    },
    {
     "name": "stderr",
     "output_type": "stream",
     "text": [
      "INFO:tensorflow:  name = glowtts/FlowSpecDecoder/CouplingBlock_1/WN_0/weight_normalization_12/g:0, shape = (384,), *INIT_FROM_CKPT*\n"
     ]
    },
    {
     "name": "stdout",
     "output_type": "stream",
     "text": [
      "INFO:tensorflow:  name = glowtts/FlowSpecDecoder/CouplingBlock_1/WN_0/weight_normalization_13/kernel:0, shape = (1, 192, 384), *INIT_FROM_CKPT*\n"
     ]
    },
    {
     "name": "stderr",
     "output_type": "stream",
     "text": [
      "INFO:tensorflow:  name = glowtts/FlowSpecDecoder/CouplingBlock_1/WN_0/weight_normalization_13/kernel:0, shape = (1, 192, 384), *INIT_FROM_CKPT*\n"
     ]
    },
    {
     "name": "stdout",
     "output_type": "stream",
     "text": [
      "INFO:tensorflow:  name = glowtts/FlowSpecDecoder/CouplingBlock_1/WN_0/weight_normalization_13/bias:0, shape = (384,), *INIT_FROM_CKPT*\n"
     ]
    },
    {
     "name": "stderr",
     "output_type": "stream",
     "text": [
      "INFO:tensorflow:  name = glowtts/FlowSpecDecoder/CouplingBlock_1/WN_0/weight_normalization_13/bias:0, shape = (384,), *INIT_FROM_CKPT*\n"
     ]
    },
    {
     "name": "stdout",
     "output_type": "stream",
     "text": [
      "INFO:tensorflow:  name = glowtts/FlowSpecDecoder/CouplingBlock_1/WN_0/weight_normalization_13/g:0, shape = (384,), *INIT_FROM_CKPT*\n"
     ]
    },
    {
     "name": "stderr",
     "output_type": "stream",
     "text": [
      "INFO:tensorflow:  name = glowtts/FlowSpecDecoder/CouplingBlock_1/WN_0/weight_normalization_13/g:0, shape = (384,), *INIT_FROM_CKPT*\n"
     ]
    },
    {
     "name": "stdout",
     "output_type": "stream",
     "text": [
      "INFO:tensorflow:  name = glowtts/FlowSpecDecoder/CouplingBlock_1/WN_0/weight_normalization_14/kernel:0, shape = (3, 192, 384), *INIT_FROM_CKPT*\n"
     ]
    },
    {
     "name": "stderr",
     "output_type": "stream",
     "text": [
      "INFO:tensorflow:  name = glowtts/FlowSpecDecoder/CouplingBlock_1/WN_0/weight_normalization_14/kernel:0, shape = (3, 192, 384), *INIT_FROM_CKPT*\n"
     ]
    },
    {
     "name": "stdout",
     "output_type": "stream",
     "text": [
      "INFO:tensorflow:  name = glowtts/FlowSpecDecoder/CouplingBlock_1/WN_0/weight_normalization_14/bias:0, shape = (384,), *INIT_FROM_CKPT*\n"
     ]
    },
    {
     "name": "stderr",
     "output_type": "stream",
     "text": [
      "INFO:tensorflow:  name = glowtts/FlowSpecDecoder/CouplingBlock_1/WN_0/weight_normalization_14/bias:0, shape = (384,), *INIT_FROM_CKPT*\n"
     ]
    },
    {
     "name": "stdout",
     "output_type": "stream",
     "text": [
      "INFO:tensorflow:  name = glowtts/FlowSpecDecoder/CouplingBlock_1/WN_0/weight_normalization_14/g:0, shape = (384,), *INIT_FROM_CKPT*\n"
     ]
    },
    {
     "name": "stderr",
     "output_type": "stream",
     "text": [
      "INFO:tensorflow:  name = glowtts/FlowSpecDecoder/CouplingBlock_1/WN_0/weight_normalization_14/g:0, shape = (384,), *INIT_FROM_CKPT*\n"
     ]
    },
    {
     "name": "stdout",
     "output_type": "stream",
     "text": [
      "INFO:tensorflow:  name = glowtts/FlowSpecDecoder/CouplingBlock_1/WN_0/weight_normalization_15/kernel:0, shape = (1, 192, 384), *INIT_FROM_CKPT*\n"
     ]
    },
    {
     "name": "stderr",
     "output_type": "stream",
     "text": [
      "INFO:tensorflow:  name = glowtts/FlowSpecDecoder/CouplingBlock_1/WN_0/weight_normalization_15/kernel:0, shape = (1, 192, 384), *INIT_FROM_CKPT*\n"
     ]
    },
    {
     "name": "stdout",
     "output_type": "stream",
     "text": [
      "INFO:tensorflow:  name = glowtts/FlowSpecDecoder/CouplingBlock_1/WN_0/weight_normalization_15/bias:0, shape = (384,), *INIT_FROM_CKPT*\n"
     ]
    },
    {
     "name": "stderr",
     "output_type": "stream",
     "text": [
      "INFO:tensorflow:  name = glowtts/FlowSpecDecoder/CouplingBlock_1/WN_0/weight_normalization_15/bias:0, shape = (384,), *INIT_FROM_CKPT*\n"
     ]
    },
    {
     "name": "stdout",
     "output_type": "stream",
     "text": [
      "INFO:tensorflow:  name = glowtts/FlowSpecDecoder/CouplingBlock_1/WN_0/weight_normalization_15/g:0, shape = (384,), *INIT_FROM_CKPT*\n"
     ]
    },
    {
     "name": "stderr",
     "output_type": "stream",
     "text": [
      "INFO:tensorflow:  name = glowtts/FlowSpecDecoder/CouplingBlock_1/WN_0/weight_normalization_15/g:0, shape = (384,), *INIT_FROM_CKPT*\n"
     ]
    },
    {
     "name": "stdout",
     "output_type": "stream",
     "text": [
      "INFO:tensorflow:  name = glowtts/FlowSpecDecoder/CouplingBlock_1/WN_0/weight_normalization_16/kernel:0, shape = (3, 192, 384), *INIT_FROM_CKPT*\n"
     ]
    },
    {
     "name": "stderr",
     "output_type": "stream",
     "text": [
      "INFO:tensorflow:  name = glowtts/FlowSpecDecoder/CouplingBlock_1/WN_0/weight_normalization_16/kernel:0, shape = (3, 192, 384), *INIT_FROM_CKPT*\n"
     ]
    },
    {
     "name": "stdout",
     "output_type": "stream",
     "text": [
      "INFO:tensorflow:  name = glowtts/FlowSpecDecoder/CouplingBlock_1/WN_0/weight_normalization_16/bias:0, shape = (384,), *INIT_FROM_CKPT*\n"
     ]
    },
    {
     "name": "stderr",
     "output_type": "stream",
     "text": [
      "INFO:tensorflow:  name = glowtts/FlowSpecDecoder/CouplingBlock_1/WN_0/weight_normalization_16/bias:0, shape = (384,), *INIT_FROM_CKPT*\n"
     ]
    },
    {
     "name": "stdout",
     "output_type": "stream",
     "text": [
      "INFO:tensorflow:  name = glowtts/FlowSpecDecoder/CouplingBlock_1/WN_0/weight_normalization_16/g:0, shape = (384,), *INIT_FROM_CKPT*\n"
     ]
    },
    {
     "name": "stderr",
     "output_type": "stream",
     "text": [
      "INFO:tensorflow:  name = glowtts/FlowSpecDecoder/CouplingBlock_1/WN_0/weight_normalization_16/g:0, shape = (384,), *INIT_FROM_CKPT*\n"
     ]
    },
    {
     "name": "stdout",
     "output_type": "stream",
     "text": [
      "INFO:tensorflow:  name = glowtts/FlowSpecDecoder/CouplingBlock_1/WN_0/weight_normalization_17/kernel:0, shape = (1, 192, 192), *INIT_FROM_CKPT*\n"
     ]
    },
    {
     "name": "stderr",
     "output_type": "stream",
     "text": [
      "INFO:tensorflow:  name = glowtts/FlowSpecDecoder/CouplingBlock_1/WN_0/weight_normalization_17/kernel:0, shape = (1, 192, 192), *INIT_FROM_CKPT*\n"
     ]
    },
    {
     "name": "stdout",
     "output_type": "stream",
     "text": [
      "INFO:tensorflow:  name = glowtts/FlowSpecDecoder/CouplingBlock_1/WN_0/weight_normalization_17/bias:0, shape = (192,), *INIT_FROM_CKPT*\n"
     ]
    },
    {
     "name": "stderr",
     "output_type": "stream",
     "text": [
      "INFO:tensorflow:  name = glowtts/FlowSpecDecoder/CouplingBlock_1/WN_0/weight_normalization_17/bias:0, shape = (192,), *INIT_FROM_CKPT*\n"
     ]
    },
    {
     "name": "stdout",
     "output_type": "stream",
     "text": [
      "INFO:tensorflow:  name = glowtts/FlowSpecDecoder/CouplingBlock_1/WN_0/weight_normalization_17/g:0, shape = (192,), *INIT_FROM_CKPT*\n"
     ]
    },
    {
     "name": "stderr",
     "output_type": "stream",
     "text": [
      "INFO:tensorflow:  name = glowtts/FlowSpecDecoder/CouplingBlock_1/WN_0/weight_normalization_17/g:0, shape = (192,), *INIT_FROM_CKPT*\n"
     ]
    },
    {
     "name": "stdout",
     "output_type": "stream",
     "text": [
      "INFO:tensorflow:  name = glowtts/FlowSpecDecoder/CouplingBlock_1/conv1d_13/kernel:0, shape = (1, 192, 160), *INIT_FROM_CKPT*\n"
     ]
    },
    {
     "name": "stderr",
     "output_type": "stream",
     "text": [
      "INFO:tensorflow:  name = glowtts/FlowSpecDecoder/CouplingBlock_1/conv1d_13/kernel:0, shape = (1, 192, 160), *INIT_FROM_CKPT*\n"
     ]
    },
    {
     "name": "stdout",
     "output_type": "stream",
     "text": [
      "INFO:tensorflow:  name = glowtts/FlowSpecDecoder/CouplingBlock_1/conv1d_13/bias:0, shape = (160,), *INIT_FROM_CKPT*\n"
     ]
    },
    {
     "name": "stderr",
     "output_type": "stream",
     "text": [
      "INFO:tensorflow:  name = glowtts/FlowSpecDecoder/CouplingBlock_1/conv1d_13/bias:0, shape = (160,), *INIT_FROM_CKPT*\n"
     ]
    },
    {
     "name": "stdout",
     "output_type": "stream",
     "text": [
      "INFO:tensorflow:  name = glowtts/FlowSpecDecoder/CouplingBlock_0/weight_normalization/kernel:0, shape = (1, 80, 192), *INIT_FROM_CKPT*\n"
     ]
    },
    {
     "name": "stderr",
     "output_type": "stream",
     "text": [
      "INFO:tensorflow:  name = glowtts/FlowSpecDecoder/CouplingBlock_0/weight_normalization/kernel:0, shape = (1, 80, 192), *INIT_FROM_CKPT*\n"
     ]
    },
    {
     "name": "stdout",
     "output_type": "stream",
     "text": [
      "INFO:tensorflow:  name = glowtts/FlowSpecDecoder/CouplingBlock_0/weight_normalization/bias:0, shape = (192,), *INIT_FROM_CKPT*\n"
     ]
    },
    {
     "name": "stderr",
     "output_type": "stream",
     "text": [
      "INFO:tensorflow:  name = glowtts/FlowSpecDecoder/CouplingBlock_0/weight_normalization/bias:0, shape = (192,), *INIT_FROM_CKPT*\n"
     ]
    },
    {
     "name": "stdout",
     "output_type": "stream",
     "text": [
      "INFO:tensorflow:  name = glowtts/FlowSpecDecoder/CouplingBlock_0/weight_normalization/g:0, shape = (192,), *INIT_FROM_CKPT*\n"
     ]
    },
    {
     "name": "stderr",
     "output_type": "stream",
     "text": [
      "INFO:tensorflow:  name = glowtts/FlowSpecDecoder/CouplingBlock_0/weight_normalization/g:0, shape = (192,), *INIT_FROM_CKPT*\n"
     ]
    },
    {
     "name": "stdout",
     "output_type": "stream",
     "text": [
      "INFO:tensorflow:  name = glowtts/FlowSpecDecoder/CouplingBlock_0/WN_0/weight_normalization_1/kernel:0, shape = (3, 192, 384), *INIT_FROM_CKPT*\n"
     ]
    },
    {
     "name": "stderr",
     "output_type": "stream",
     "text": [
      "INFO:tensorflow:  name = glowtts/FlowSpecDecoder/CouplingBlock_0/WN_0/weight_normalization_1/kernel:0, shape = (3, 192, 384), *INIT_FROM_CKPT*\n"
     ]
    },
    {
     "name": "stdout",
     "output_type": "stream",
     "text": [
      "INFO:tensorflow:  name = glowtts/FlowSpecDecoder/CouplingBlock_0/WN_0/weight_normalization_1/bias:0, shape = (384,), *INIT_FROM_CKPT*\n"
     ]
    },
    {
     "name": "stderr",
     "output_type": "stream",
     "text": [
      "INFO:tensorflow:  name = glowtts/FlowSpecDecoder/CouplingBlock_0/WN_0/weight_normalization_1/bias:0, shape = (384,), *INIT_FROM_CKPT*\n"
     ]
    },
    {
     "name": "stdout",
     "output_type": "stream",
     "text": [
      "INFO:tensorflow:  name = glowtts/FlowSpecDecoder/CouplingBlock_0/WN_0/weight_normalization_1/g:0, shape = (384,), *INIT_FROM_CKPT*\n"
     ]
    },
    {
     "name": "stderr",
     "output_type": "stream",
     "text": [
      "INFO:tensorflow:  name = glowtts/FlowSpecDecoder/CouplingBlock_0/WN_0/weight_normalization_1/g:0, shape = (384,), *INIT_FROM_CKPT*\n"
     ]
    },
    {
     "name": "stdout",
     "output_type": "stream",
     "text": [
      "INFO:tensorflow:  name = glowtts/FlowSpecDecoder/CouplingBlock_0/WN_0/weight_normalization_2/kernel:0, shape = (1, 192, 384), *INIT_FROM_CKPT*\n"
     ]
    },
    {
     "name": "stderr",
     "output_type": "stream",
     "text": [
      "INFO:tensorflow:  name = glowtts/FlowSpecDecoder/CouplingBlock_0/WN_0/weight_normalization_2/kernel:0, shape = (1, 192, 384), *INIT_FROM_CKPT*\n"
     ]
    },
    {
     "name": "stdout",
     "output_type": "stream",
     "text": [
      "INFO:tensorflow:  name = glowtts/FlowSpecDecoder/CouplingBlock_0/WN_0/weight_normalization_2/bias:0, shape = (384,), *INIT_FROM_CKPT*\n"
     ]
    },
    {
     "name": "stderr",
     "output_type": "stream",
     "text": [
      "INFO:tensorflow:  name = glowtts/FlowSpecDecoder/CouplingBlock_0/WN_0/weight_normalization_2/bias:0, shape = (384,), *INIT_FROM_CKPT*\n"
     ]
    },
    {
     "name": "stdout",
     "output_type": "stream",
     "text": [
      "INFO:tensorflow:  name = glowtts/FlowSpecDecoder/CouplingBlock_0/WN_0/weight_normalization_2/g:0, shape = (384,), *INIT_FROM_CKPT*\n"
     ]
    },
    {
     "name": "stderr",
     "output_type": "stream",
     "text": [
      "INFO:tensorflow:  name = glowtts/FlowSpecDecoder/CouplingBlock_0/WN_0/weight_normalization_2/g:0, shape = (384,), *INIT_FROM_CKPT*\n"
     ]
    },
    {
     "name": "stdout",
     "output_type": "stream",
     "text": [
      "INFO:tensorflow:  name = glowtts/FlowSpecDecoder/CouplingBlock_0/WN_0/weight_normalization_3/kernel:0, shape = (3, 192, 384), *INIT_FROM_CKPT*\n"
     ]
    },
    {
     "name": "stderr",
     "output_type": "stream",
     "text": [
      "INFO:tensorflow:  name = glowtts/FlowSpecDecoder/CouplingBlock_0/WN_0/weight_normalization_3/kernel:0, shape = (3, 192, 384), *INIT_FROM_CKPT*\n"
     ]
    },
    {
     "name": "stdout",
     "output_type": "stream",
     "text": [
      "INFO:tensorflow:  name = glowtts/FlowSpecDecoder/CouplingBlock_0/WN_0/weight_normalization_3/bias:0, shape = (384,), *INIT_FROM_CKPT*\n"
     ]
    },
    {
     "name": "stderr",
     "output_type": "stream",
     "text": [
      "INFO:tensorflow:  name = glowtts/FlowSpecDecoder/CouplingBlock_0/WN_0/weight_normalization_3/bias:0, shape = (384,), *INIT_FROM_CKPT*\n"
     ]
    },
    {
     "name": "stdout",
     "output_type": "stream",
     "text": [
      "INFO:tensorflow:  name = glowtts/FlowSpecDecoder/CouplingBlock_0/WN_0/weight_normalization_3/g:0, shape = (384,), *INIT_FROM_CKPT*\n"
     ]
    },
    {
     "name": "stderr",
     "output_type": "stream",
     "text": [
      "INFO:tensorflow:  name = glowtts/FlowSpecDecoder/CouplingBlock_0/WN_0/weight_normalization_3/g:0, shape = (384,), *INIT_FROM_CKPT*\n"
     ]
    },
    {
     "name": "stdout",
     "output_type": "stream",
     "text": [
      "INFO:tensorflow:  name = glowtts/FlowSpecDecoder/CouplingBlock_0/WN_0/weight_normalization_4/kernel:0, shape = (1, 192, 384), *INIT_FROM_CKPT*\n"
     ]
    },
    {
     "name": "stderr",
     "output_type": "stream",
     "text": [
      "INFO:tensorflow:  name = glowtts/FlowSpecDecoder/CouplingBlock_0/WN_0/weight_normalization_4/kernel:0, shape = (1, 192, 384), *INIT_FROM_CKPT*\n"
     ]
    },
    {
     "name": "stdout",
     "output_type": "stream",
     "text": [
      "INFO:tensorflow:  name = glowtts/FlowSpecDecoder/CouplingBlock_0/WN_0/weight_normalization_4/bias:0, shape = (384,), *INIT_FROM_CKPT*\n"
     ]
    },
    {
     "name": "stderr",
     "output_type": "stream",
     "text": [
      "INFO:tensorflow:  name = glowtts/FlowSpecDecoder/CouplingBlock_0/WN_0/weight_normalization_4/bias:0, shape = (384,), *INIT_FROM_CKPT*\n"
     ]
    },
    {
     "name": "stdout",
     "output_type": "stream",
     "text": [
      "INFO:tensorflow:  name = glowtts/FlowSpecDecoder/CouplingBlock_0/WN_0/weight_normalization_4/g:0, shape = (384,), *INIT_FROM_CKPT*\n"
     ]
    },
    {
     "name": "stderr",
     "output_type": "stream",
     "text": [
      "INFO:tensorflow:  name = glowtts/FlowSpecDecoder/CouplingBlock_0/WN_0/weight_normalization_4/g:0, shape = (384,), *INIT_FROM_CKPT*\n"
     ]
    },
    {
     "name": "stdout",
     "output_type": "stream",
     "text": [
      "INFO:tensorflow:  name = glowtts/FlowSpecDecoder/CouplingBlock_0/WN_0/weight_normalization_5/kernel:0, shape = (3, 192, 384), *INIT_FROM_CKPT*\n"
     ]
    },
    {
     "name": "stderr",
     "output_type": "stream",
     "text": [
      "INFO:tensorflow:  name = glowtts/FlowSpecDecoder/CouplingBlock_0/WN_0/weight_normalization_5/kernel:0, shape = (3, 192, 384), *INIT_FROM_CKPT*\n"
     ]
    },
    {
     "name": "stdout",
     "output_type": "stream",
     "text": [
      "INFO:tensorflow:  name = glowtts/FlowSpecDecoder/CouplingBlock_0/WN_0/weight_normalization_5/bias:0, shape = (384,), *INIT_FROM_CKPT*\n"
     ]
    },
    {
     "name": "stderr",
     "output_type": "stream",
     "text": [
      "INFO:tensorflow:  name = glowtts/FlowSpecDecoder/CouplingBlock_0/WN_0/weight_normalization_5/bias:0, shape = (384,), *INIT_FROM_CKPT*\n"
     ]
    },
    {
     "name": "stdout",
     "output_type": "stream",
     "text": [
      "INFO:tensorflow:  name = glowtts/FlowSpecDecoder/CouplingBlock_0/WN_0/weight_normalization_5/g:0, shape = (384,), *INIT_FROM_CKPT*\n"
     ]
    },
    {
     "name": "stderr",
     "output_type": "stream",
     "text": [
      "INFO:tensorflow:  name = glowtts/FlowSpecDecoder/CouplingBlock_0/WN_0/weight_normalization_5/g:0, shape = (384,), *INIT_FROM_CKPT*\n"
     ]
    },
    {
     "name": "stdout",
     "output_type": "stream",
     "text": [
      "INFO:tensorflow:  name = glowtts/FlowSpecDecoder/CouplingBlock_0/WN_0/weight_normalization_6/kernel:0, shape = (1, 192, 384), *INIT_FROM_CKPT*\n"
     ]
    },
    {
     "name": "stderr",
     "output_type": "stream",
     "text": [
      "INFO:tensorflow:  name = glowtts/FlowSpecDecoder/CouplingBlock_0/WN_0/weight_normalization_6/kernel:0, shape = (1, 192, 384), *INIT_FROM_CKPT*\n"
     ]
    },
    {
     "name": "stdout",
     "output_type": "stream",
     "text": [
      "INFO:tensorflow:  name = glowtts/FlowSpecDecoder/CouplingBlock_0/WN_0/weight_normalization_6/bias:0, shape = (384,), *INIT_FROM_CKPT*\n"
     ]
    },
    {
     "name": "stderr",
     "output_type": "stream",
     "text": [
      "INFO:tensorflow:  name = glowtts/FlowSpecDecoder/CouplingBlock_0/WN_0/weight_normalization_6/bias:0, shape = (384,), *INIT_FROM_CKPT*\n"
     ]
    },
    {
     "name": "stdout",
     "output_type": "stream",
     "text": [
      "INFO:tensorflow:  name = glowtts/FlowSpecDecoder/CouplingBlock_0/WN_0/weight_normalization_6/g:0, shape = (384,), *INIT_FROM_CKPT*\n"
     ]
    },
    {
     "name": "stderr",
     "output_type": "stream",
     "text": [
      "INFO:tensorflow:  name = glowtts/FlowSpecDecoder/CouplingBlock_0/WN_0/weight_normalization_6/g:0, shape = (384,), *INIT_FROM_CKPT*\n"
     ]
    },
    {
     "name": "stdout",
     "output_type": "stream",
     "text": [
      "INFO:tensorflow:  name = glowtts/FlowSpecDecoder/CouplingBlock_0/WN_0/weight_normalization_7/kernel:0, shape = (3, 192, 384), *INIT_FROM_CKPT*\n"
     ]
    },
    {
     "name": "stderr",
     "output_type": "stream",
     "text": [
      "INFO:tensorflow:  name = glowtts/FlowSpecDecoder/CouplingBlock_0/WN_0/weight_normalization_7/kernel:0, shape = (3, 192, 384), *INIT_FROM_CKPT*\n"
     ]
    },
    {
     "name": "stdout",
     "output_type": "stream",
     "text": [
      "INFO:tensorflow:  name = glowtts/FlowSpecDecoder/CouplingBlock_0/WN_0/weight_normalization_7/bias:0, shape = (384,), *INIT_FROM_CKPT*\n"
     ]
    },
    {
     "name": "stderr",
     "output_type": "stream",
     "text": [
      "INFO:tensorflow:  name = glowtts/FlowSpecDecoder/CouplingBlock_0/WN_0/weight_normalization_7/bias:0, shape = (384,), *INIT_FROM_CKPT*\n"
     ]
    },
    {
     "name": "stdout",
     "output_type": "stream",
     "text": [
      "INFO:tensorflow:  name = glowtts/FlowSpecDecoder/CouplingBlock_0/WN_0/weight_normalization_7/g:0, shape = (384,), *INIT_FROM_CKPT*\n"
     ]
    },
    {
     "name": "stderr",
     "output_type": "stream",
     "text": [
      "INFO:tensorflow:  name = glowtts/FlowSpecDecoder/CouplingBlock_0/WN_0/weight_normalization_7/g:0, shape = (384,), *INIT_FROM_CKPT*\n"
     ]
    },
    {
     "name": "stdout",
     "output_type": "stream",
     "text": [
      "INFO:tensorflow:  name = glowtts/FlowSpecDecoder/CouplingBlock_0/WN_0/weight_normalization_8/kernel:0, shape = (1, 192, 192), *INIT_FROM_CKPT*\n"
     ]
    },
    {
     "name": "stderr",
     "output_type": "stream",
     "text": [
      "INFO:tensorflow:  name = glowtts/FlowSpecDecoder/CouplingBlock_0/WN_0/weight_normalization_8/kernel:0, shape = (1, 192, 192), *INIT_FROM_CKPT*\n"
     ]
    },
    {
     "name": "stdout",
     "output_type": "stream",
     "text": [
      "INFO:tensorflow:  name = glowtts/FlowSpecDecoder/CouplingBlock_0/WN_0/weight_normalization_8/bias:0, shape = (192,), *INIT_FROM_CKPT*\n"
     ]
    },
    {
     "name": "stderr",
     "output_type": "stream",
     "text": [
      "INFO:tensorflow:  name = glowtts/FlowSpecDecoder/CouplingBlock_0/WN_0/weight_normalization_8/bias:0, shape = (192,), *INIT_FROM_CKPT*\n"
     ]
    },
    {
     "name": "stdout",
     "output_type": "stream",
     "text": [
      "INFO:tensorflow:  name = glowtts/FlowSpecDecoder/CouplingBlock_0/WN_0/weight_normalization_8/g:0, shape = (192,), *INIT_FROM_CKPT*\n"
     ]
    },
    {
     "name": "stderr",
     "output_type": "stream",
     "text": [
      "INFO:tensorflow:  name = glowtts/FlowSpecDecoder/CouplingBlock_0/WN_0/weight_normalization_8/g:0, shape = (192,), *INIT_FROM_CKPT*\n"
     ]
    },
    {
     "name": "stdout",
     "output_type": "stream",
     "text": [
      "INFO:tensorflow:  name = glowtts/FlowSpecDecoder/CouplingBlock_0/conv1d_3/kernel:0, shape = (1, 192, 160), *INIT_FROM_CKPT*\n"
     ]
    },
    {
     "name": "stderr",
     "output_type": "stream",
     "text": [
      "INFO:tensorflow:  name = glowtts/FlowSpecDecoder/CouplingBlock_0/conv1d_3/kernel:0, shape = (1, 192, 160), *INIT_FROM_CKPT*\n"
     ]
    },
    {
     "name": "stdout",
     "output_type": "stream",
     "text": [
      "INFO:tensorflow:  name = glowtts/FlowSpecDecoder/CouplingBlock_0/conv1d_3/bias:0, shape = (160,), *INIT_FROM_CKPT*\n"
     ]
    },
    {
     "name": "stderr",
     "output_type": "stream",
     "text": [
      "INFO:tensorflow:  name = glowtts/FlowSpecDecoder/CouplingBlock_0/conv1d_3/bias:0, shape = (160,), *INIT_FROM_CKPT*\n"
     ]
    },
    {
     "name": "stdout",
     "output_type": "stream",
     "text": [
      "INFO:tensorflow:  name = kernel:0, shape = (1, 80, 192)\n"
     ]
    },
    {
     "name": "stderr",
     "output_type": "stream",
     "text": [
      "INFO:tensorflow:  name = kernel:0, shape = (1, 80, 192)\n"
     ]
    },
    {
     "name": "stdout",
     "output_type": "stream",
     "text": [
      "INFO:tensorflow:  name = kernel_1:0, shape = (1, 80, 192)\n"
     ]
    },
    {
     "name": "stderr",
     "output_type": "stream",
     "text": [
      "INFO:tensorflow:  name = kernel_1:0, shape = (1, 80, 192)\n"
     ]
    },
    {
     "name": "stdout",
     "output_type": "stream",
     "text": [
      "INFO:tensorflow:  name = kernel_2:0, shape = (1, 80, 192)\n"
     ]
    },
    {
     "name": "stderr",
     "output_type": "stream",
     "text": [
      "INFO:tensorflow:  name = kernel_2:0, shape = (1, 80, 192)\n"
     ]
    },
    {
     "name": "stdout",
     "output_type": "stream",
     "text": [
      "INFO:tensorflow:  name = kernel_3:0, shape = (1, 80, 192)\n"
     ]
    },
    {
     "name": "stderr",
     "output_type": "stream",
     "text": [
      "INFO:tensorflow:  name = kernel_3:0, shape = (1, 80, 192)\n"
     ]
    },
    {
     "name": "stdout",
     "output_type": "stream",
     "text": [
      "INFO:tensorflow:  name = kernel_4:0, shape = (1, 80, 192)\n"
     ]
    },
    {
     "name": "stderr",
     "output_type": "stream",
     "text": [
      "INFO:tensorflow:  name = kernel_4:0, shape = (1, 80, 192)\n"
     ]
    },
    {
     "name": "stdout",
     "output_type": "stream",
     "text": [
      "INFO:tensorflow:  name = kernel_5:0, shape = (1, 80, 192)\n"
     ]
    },
    {
     "name": "stderr",
     "output_type": "stream",
     "text": [
      "INFO:tensorflow:  name = kernel_5:0, shape = (1, 80, 192)\n"
     ]
    },
    {
     "name": "stdout",
     "output_type": "stream",
     "text": [
      "INFO:tensorflow:  name = kernel_6:0, shape = (1, 80, 192)\n"
     ]
    },
    {
     "name": "stderr",
     "output_type": "stream",
     "text": [
      "INFO:tensorflow:  name = kernel_6:0, shape = (1, 80, 192)\n"
     ]
    },
    {
     "name": "stdout",
     "output_type": "stream",
     "text": [
      "INFO:tensorflow:  name = kernel_7:0, shape = (1, 80, 192)\n"
     ]
    },
    {
     "name": "stderr",
     "output_type": "stream",
     "text": [
      "INFO:tensorflow:  name = kernel_7:0, shape = (1, 80, 192)\n"
     ]
    },
    {
     "name": "stdout",
     "output_type": "stream",
     "text": [
      "INFO:tensorflow:  name = kernel_8:0, shape = (1, 80, 192)\n"
     ]
    },
    {
     "name": "stderr",
     "output_type": "stream",
     "text": [
      "INFO:tensorflow:  name = kernel_8:0, shape = (1, 80, 192)\n"
     ]
    },
    {
     "name": "stdout",
     "output_type": "stream",
     "text": [
      "INFO:tensorflow:  name = kernel_9:0, shape = (1, 80, 192)\n"
     ]
    },
    {
     "name": "stderr",
     "output_type": "stream",
     "text": [
      "INFO:tensorflow:  name = kernel_9:0, shape = (1, 80, 192)\n"
     ]
    },
    {
     "name": "stdout",
     "output_type": "stream",
     "text": [
      "INFO:tensorflow:  name = kernel_10:0, shape = (1, 80, 192)\n"
     ]
    },
    {
     "name": "stderr",
     "output_type": "stream",
     "text": [
      "INFO:tensorflow:  name = kernel_10:0, shape = (1, 80, 192)\n"
     ]
    },
    {
     "name": "stdout",
     "output_type": "stream",
     "text": [
      "INFO:tensorflow:  name = kernel_11:0, shape = (1, 80, 192)\n"
     ]
    },
    {
     "name": "stderr",
     "output_type": "stream",
     "text": [
      "INFO:tensorflow:  name = kernel_11:0, shape = (1, 80, 192)\n"
     ]
    },
    {
     "data": {
      "text/plain": [
       "504"
      ]
     },
     "execution_count": 18,
     "metadata": {},
     "output_type": "execute_result"
    }
   ],
   "source": [
    "assignment_map, _, name_to_variable = get_assignment_map_from_checkpoint(tf.trainable_variables(), \n",
    "                                                                         'test/model.ckpt')\n",
    "len(assignment_map)"
   ]
  },
  {
   "cell_type": "code",
   "execution_count": 19,
   "metadata": {},
   "outputs": [],
   "source": [
    "init_vars = tf.train.list_variables('test/model.ckpt')\n",
    "kernels = []\n",
    "for v in init_vars:\n",
    "    if v[1] == [1, 80, 192]:\n",
    "        kernels.append(v[0])\n",
    "        \n",
    "kernels = sorted(kernels, key=lambda k: int(k.split('glowtts/FlowSpecDecoder/CouplingBlock_')[1].split('/')[0]))"
   ]
  },
  {
   "cell_type": "code",
   "execution_count": 20,
   "metadata": {},
   "outputs": [],
   "source": [
    "for no, k in enumerate(kernels):\n",
    "    base = 'kernel'\n",
    "    if no > 0:\n",
    "        base = f'{base}_{no}'\n",
    "    assignment_map[k] = name_to_variable[base]"
   ]
  },
  {
   "cell_type": "code",
   "execution_count": 21,
   "metadata": {},
   "outputs": [
    {
     "name": "stdout",
     "output_type": "stream",
     "text": [
      "INFO:tensorflow:Restoring parameters from test/model.ckpt\n"
     ]
    },
    {
     "name": "stderr",
     "output_type": "stream",
     "text": [
      "INFO:tensorflow:Restoring parameters from test/model.ckpt\n"
     ]
    }
   ],
   "source": [
    "saver = tf.train.Saver(assignment_map)\n",
    "saver.restore(sess, 'test/model.ckpt')"
   ]
  },
  {
   "cell_type": "code",
   "execution_count": 35,
   "metadata": {},
   "outputs": [
    {
     "data": {
      "text/plain": [
       "(1, 370, 80)"
      ]
     },
     "execution_count": 35,
     "metadata": {},
     "output_type": "execute_result"
    }
   ],
   "source": [
    "o_ = sess.run(z, feed_dict = {i: data['text_ids'], noise: 1.0})\n",
    "o_.shape"
   ]
  },
  {
   "cell_type": "code",
   "execution_count": 36,
   "metadata": {},
   "outputs": [],
   "source": [
    "import matplotlib.pyplot as plt"
   ]
  },
  {
   "cell_type": "code",
   "execution_count": 37,
   "metadata": {},
   "outputs": [
    {
     "data": {
      "image/png": "[encoded data removed]",
      "text/plain": [
       "<Figure size 720x576 with 2 Axes>"
      ]
     },
     "metadata": {
      "needs_background": "light"
     },
     "output_type": "display_data"
    }
   ],
   "source": [
    "mel_outputs_ = np.reshape(o_, [-1, 80])\n",
    "fig = plt.figure(figsize=(10, 8))\n",
    "ax1 = fig.add_subplot(311)\n",
    "ax1.set_title(f'Predicted Mel-before-Spectrogram')\n",
    "im = ax1.imshow(np.rot90(mel_outputs_), aspect='auto', interpolation='none')\n",
    "fig.colorbar(mappable=im, shrink=0.65, orientation='horizontal', ax=ax1)\n",
    "plt.show()"
   ]
  },
  {
   "cell_type": "code",
   "execution_count": null,
   "metadata": {},
   "outputs": [],
   "source": [
    "o_ = sess.run(z_mask, feed_dict = {i: data['text_ids']})\n",
    "o_.shape"
   ]
  },
  {
   "cell_type": "code",
   "execution_count": null,
   "metadata": {},
   "outputs": [],
   "source": [
    "o_ = sess.run(logw, feed_dict = {i: data['text_ids']})\n",
    "o_.shape"
   ]
  },
  {
   "cell_type": "code",
   "execution_count": null,
   "metadata": {},
   "outputs": [],
   "source": [
    "o_ = sess.run(z_logs, feed_dict = {i: data['text_ids']})\n",
    "o_.shape"
   ]
  },
  {
   "cell_type": "code",
   "execution_count": null,
   "metadata": {},
   "outputs": [],
   "source": [
    "o_[0]"
   ]
  },
  {
   "cell_type": "code",
   "execution_count": null,
   "metadata": {},
   "outputs": [],
   "source": []
  },
  {
   "cell_type": "code",
   "execution_count": null,
   "metadata": {},
   "outputs": [],
   "source": [
    "!ls -lh test\n",
    "!rm -rf test"
   ]
  }
 ],
 "metadata": {
  "kernelspec": {
   "display_name": "Python 3",
   "language": "python",
   "name": "python3"
  },
  "language_info": {
   "codemirror_mode": {
    "name": "ipython",
    "version": 3
   },
   "file_extension": ".py",
   "mimetype": "text/x-python",
   "name": "python",
   "nbconvert_exporter": "python",
   "pygments_lexer": "ipython3",
   "version": "3.7.7"
  }
 },
 "nbformat": 4,
 "nbformat_minor": 4
}

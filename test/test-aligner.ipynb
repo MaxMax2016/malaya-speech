{
 "cells": [
  {
   "cell_type": "code",
   "execution_count": 1,
   "metadata": {},
   "outputs": [],
   "source": [
    "import os\n",
    "import sys\n",
    "\n",
    "SOURCE_DIR = os.path.dirname(os.path.dirname(os.path.abspath(__name__)))\n",
    "sys.path.insert(0, SOURCE_DIR)"
   ]
  },
  {
   "cell_type": "code",
   "execution_count": 2,
   "metadata": {},
   "outputs": [
    {
     "name": "stdout",
     "output_type": "stream",
     "text": [
      "WARNING:tensorflow:From /Users/huseinzolkepli/Documents/malaya-speech/malaya_speech/train/optimizer/__init__.py:39: The name tf.train.AdagradOptimizer is deprecated. Please use tf.compat.v1.train.AdagradOptimizer instead.\n",
      "\n",
      "WARNING:tensorflow:From /Users/huseinzolkepli/Documents/malaya-speech/malaya_speech/train/optimizer/__init__.py:40: The name tf.train.AdamOptimizer is deprecated. Please use tf.compat.v1.train.AdamOptimizer instead.\n",
      "\n",
      "WARNING:tensorflow:From /Users/huseinzolkepli/Documents/malaya-speech/malaya_speech/train/optimizer/__init__.py:41: The name tf.train.FtrlOptimizer is deprecated. Please use tf.compat.v1.train.FtrlOptimizer instead.\n",
      "\n",
      "WARNING:tensorflow:From /Users/huseinzolkepli/Documents/malaya-speech/malaya_speech/train/optimizer/__init__.py:43: The name tf.train.RMSPropOptimizer is deprecated. Please use tf.compat.v1.train.RMSPropOptimizer instead.\n",
      "\n",
      "WARNING:tensorflow:From /Users/huseinzolkepli/Documents/malaya-speech/malaya_speech/train/optimizer/__init__.py:44: The name tf.train.GradientDescentOptimizer is deprecated. Please use tf.compat.v1.train.GradientDescentOptimizer instead.\n",
      "\n",
      "WARNING:tensorflow:\n",
      "The TensorFlow contrib module will not be included in TensorFlow 2.0.\n",
      "For more information, please see:\n",
      "  * https://github.com/tensorflow/community/blob/master/rfcs/20180907-contrib-sunset.md\n",
      "  * https://github.com/tensorflow/addons\n",
      "  * https://github.com/tensorflow/io (for I/O related ops)\n",
      "If you depend on functionality not listed there, please file an issue.\n",
      "\n"
     ]
    }
   ],
   "source": [
    "from malaya_speech.train.model import aligner\n",
    "import tensorflow as tf"
   ]
  },
  {
   "cell_type": "code",
   "execution_count": 3,
   "metadata": {},
   "outputs": [
    {
     "data": {
      "text/plain": [
       "(TensorShape([Dimension(1), Dimension(100), Dimension(50)]),\n",
       " 4.968e-41,\n",
       " 0.6666667)"
      ]
     },
     "execution_count": 3,
     "metadata": {},
     "output_type": "execute_result"
    }
   ],
   "source": [
    "from scipy.stats import betabinom\n",
    "import numpy as np\n",
    "\n",
    "def beta_binomial_prior_distribution(phoneme_count, mel_count, scaling_factor=1.0):\n",
    "    x = np.arange(0, phoneme_count)\n",
    "    mel_text_probs = []\n",
    "    for i in range(1, mel_count + 1):\n",
    "        a, b = scaling_factor * i, scaling_factor * (mel_count + 1 - i)\n",
    "        mel_i_prob = betabinom(phoneme_count, a, b).pmf(x)\n",
    "        mel_text_probs.append(mel_i_prob)\n",
    "    return np.array(mel_text_probs)\n",
    "\n",
    "attn_prior = np.expand_dims(beta_binomial_prior_distribution(50, 100), 0).astype(np.float32)\n",
    "attn_prior_tf = tf.convert_to_tensor(attn_prior)\n",
    "attn_prior_tf.shape, attn_prior.min(), attn_prior.max()"
   ]
  },
  {
   "cell_type": "code",
   "execution_count": 4,
   "metadata": {},
   "outputs": [],
   "source": [
    "i = tf.placeholder(tf.int32, [None, None])\n",
    "lens = tf.placeholder(tf.int32, [None])\n",
    "mel = tf.placeholder(tf.float32, [None, None, 80])\n",
    "mel_lengths = tf.placeholder(tf.int32, [None])"
   ]
  },
  {
   "cell_type": "code",
   "execution_count": 5,
   "metadata": {},
   "outputs": [
    {
     "name": "stdout",
     "output_type": "stream",
     "text": [
      "WARNING:tensorflow:From /Users/huseinzolkepli/Documents/malaya-speech/malaya_speech/train/model/aligner/model.py:102: The name tf.get_variable is deprecated. Please use tf.compat.v1.get_variable instead.\n",
      "\n",
      "WARNING:tensorflow:From /Users/huseinzolkepli/Documents/malaya-speech/malaya_speech/train/model/aligner/model.py:54: The name tf.keras.initializers.TruncatedNormal is deprecated. Please use tf.compat.v1.keras.initializers.TruncatedNormal instead.\n",
      "\n",
      "WARNING:tensorflow:From /Library/Frameworks/Python.framework/Versions/3.7/lib/python3.7/site-packages/tensorflow_core/python/keras/initializers.py:94: calling TruncatedNormal.__init__ (from tensorflow.python.ops.init_ops) with dtype is deprecated and will be removed in a future version.\n",
      "Instructions for updating:\n",
      "Call initializer instance with the dtype argument instead of passing it to the constructor\n"
     ]
    }
   ],
   "source": [
    "encoder = aligner.AlignmentEncoder(vocab_size = 100, vocab_embedding = 512)"
   ]
  },
  {
   "cell_type": "code",
   "execution_count": 6,
   "metadata": {},
   "outputs": [
    {
     "data": {
      "text/plain": [
       "<tf.Tensor 'ExpandDims:0' shape=(?, ?, 1) dtype=bool>"
      ]
     },
     "execution_count": 6,
     "metadata": {},
     "output_type": "execute_result"
    }
   ],
   "source": [
    "attention_mask = tf.expand_dims(tf.math.not_equal(i, 0), -1)\n",
    "attention_mask"
   ]
  },
  {
   "cell_type": "code",
   "execution_count": 7,
   "metadata": {},
   "outputs": [
    {
     "name": "stdout",
     "output_type": "stream",
     "text": [
      "WARNING:tensorflow:From /Library/Frameworks/Python.framework/Versions/3.7/lib/python3.7/site-packages/tensorflow_core/python/ops/resource_variable_ops.py:1630: calling BaseResourceVariable.__init__ (from tensorflow.python.ops.resource_variable_ops) with constraint is deprecated and will be removed in a future version.\n",
      "Instructions for updating:\n",
      "If using Keras pass *_constraint arguments to layers.\n",
      "WARNING:tensorflow:From /Users/huseinzolkepli/Documents/malaya-speech/malaya_speech/train/model/aligner/model.py:139: where (from tensorflow.python.ops.array_ops) is deprecated and will be removed in a future version.\n",
      "Instructions for updating:\n",
      "Use tf.where in 2.0, which has the same broadcast rule as np.where\n"
     ]
    },
    {
     "data": {
      "text/plain": [
       "(<tf.Tensor 'AlignmentEncoder/transpose_4:0' shape=(?, 1, ?, ?) dtype=float32>,\n",
       " <tf.Tensor 'AlignmentEncoder/Identity:0' shape=(?, 1, ?, ?) dtype=float32>)"
      ]
     },
     "execution_count": 7,
     "metadata": {},
     "output_type": "execute_result"
    }
   ],
   "source": [
    "attn_soft, attn_logprob = encoder(mel, i, mask = attention_mask)\n",
    "attn_soft, attn_logprob"
   ]
  },
  {
   "cell_type": "code",
   "execution_count": 8,
   "metadata": {},
   "outputs": [
    {
     "data": {
      "text/plain": [
       "<tf.Tensor 'PyFunc:0' shape=(?, 1, ?, ?) dtype=float32>"
      ]
     },
     "execution_count": 8,
     "metadata": {},
     "output_type": "execute_result"
    }
   ],
   "source": [
    "attn_hard = encoder.get_hard_attention(attn_soft, lens, mel_lengths)\n",
    "attn_hard"
   ]
  },
  {
   "cell_type": "code",
   "execution_count": 9,
   "metadata": {},
   "outputs": [
    {
     "name": "stdout",
     "output_type": "stream",
     "text": [
      "WARNING:tensorflow:From /Users/huseinzolkepli/Documents/malaya-speech/malaya_speech/train/model/ctc/loss.py:21: to_int32 (from tensorflow.python.ops.math_ops) is deprecated and will be removed in a future version.\n",
      "Instructions for updating:\n",
      "Use `tf.cast` instead.\n",
      "WARNING:tensorflow:From /Users/huseinzolkepli/Documents/malaya-speech/malaya_speech/train/model/ctc/loss.py:26: The name tf.nn.ctc_loss is deprecated. Please use tf.compat.v1.nn.ctc_loss instead.\n",
      "\n"
     ]
    },
    {
     "data": {
      "text/plain": [
       "<tf.Tensor 'truediv:0' shape=() dtype=float32>"
      ]
     },
     "execution_count": 9,
     "metadata": {},
     "output_type": "execute_result"
    }
   ],
   "source": [
    "forwardsum_loss = aligner.forwardsum_loss(attn_logprob, lens, mel_lengths)\n",
    "forwardsum_loss"
   ]
  },
  {
   "cell_type": "code",
   "execution_count": 10,
   "metadata": {},
   "outputs": [
    {
     "data": {
      "text/plain": [
       "<tf.Tensor 'truediv_1:0' shape=() dtype=float32>"
      ]
     },
     "execution_count": 10,
     "metadata": {},
     "output_type": "execute_result"
    }
   ],
   "source": [
    "bin_loss = aligner.bin_loss(attn_hard, attn_soft)\n",
    "bin_loss"
   ]
  },
  {
   "cell_type": "code",
   "execution_count": 11,
   "metadata": {},
   "outputs": [],
   "source": [
    "optimizer = tf.train.AdamOptimizer(learning_rate = 1e-3).minimize(forwardsum_loss + bin_loss)"
   ]
  },
  {
   "cell_type": "code",
   "execution_count": 12,
   "metadata": {},
   "outputs": [],
   "source": [
    "sess = tf.InteractiveSession()\n",
    "sess.run(tf.global_variables_initializer())"
   ]
  },
  {
   "cell_type": "code",
   "execution_count": 13,
   "metadata": {},
   "outputs": [],
   "source": [
    "import pickle\n",
    "\n",
    "with open('dataset-mel.pkl', 'rb') as fopen:\n",
    "    data, d = pickle.load(fopen)"
   ]
  },
  {
   "cell_type": "code",
   "execution_count": 14,
   "metadata": {},
   "outputs": [
    {
     "data": {
      "text/plain": [
       "dict_keys(['mel', 'text_ids', 'len_mel', 'len_text_ids', 'stop_token_target', 'f0', 'len_f0', 'energy', 'len_energy', 'g'])"
      ]
     },
     "execution_count": 14,
     "metadata": {},
     "output_type": "execute_result"
    }
   ],
   "source": [
    "data.keys()"
   ]
  },
  {
   "cell_type": "code",
   "execution_count": 15,
   "metadata": {},
   "outputs": [
    {
     "data": {
      "text/plain": [
       "((1, 1, 408, 72), (1, 1, 408, 72))"
      ]
     },
     "execution_count": 15,
     "metadata": {},
     "output_type": "execute_result"
    }
   ],
   "source": [
    "o = sess.run([attn_soft, attn_logprob], feed_dict = {i: data['text_ids'],\n",
    "                                                    lens: data['len_text_ids'][:,0],\n",
    "                                                    mel: data['mel'],\n",
    "                                                    mel_lengths: data['len_mel'][:,0]})\n",
    "o[0].shape, o[1].shape"
   ]
  },
  {
   "cell_type": "code",
   "execution_count": 16,
   "metadata": {},
   "outputs": [
    {
     "name": "stdout",
     "output_type": "stream",
     "text": [
      "0 [1459.0544, 6.00924, None]\n",
      "1 [1458.922, 6.010376, None]\n",
      "2 [1458.725, 6.009456, None]\n",
      "3 [1458.3358, 6.007429, None]\n",
      "4 [1457.6276, 6.0045724, None]\n",
      "5 [1456.4135, 6.001406, None]\n",
      "6 [1454.4264, 5.9989, None]\n",
      "7 [1451.3136, 5.9970064, None]\n",
      "8 [1446.8091, 5.9959426, None]\n",
      "9 [1441.2488, 5.99627, None]\n",
      "10 [1432.3127, 5.99477, None]\n",
      "11 [1419.6083, 5.993242, None]\n",
      "12 [1401.8644, 5.993187, None]\n",
      "13 [1376.2357, 5.9956164, None]\n",
      "14 [1339.6927, 6.001824, None]\n",
      "15 [1289.0574, 6.0142713, None]\n",
      "16 [1221.0515, 6.0310707, None]\n",
      "17 [1134.6243, 6.053431, None]\n",
      "18 [1033.6254, 6.0804873, None]\n",
      "19 [929.02783, 6.1214333, None]\n",
      "20 [838.6264, 6.179869, None]\n",
      "21 [782.5479, 6.254599, None]\n",
      "22 [769.0967, 6.3337784, None]\n",
      "23 [783.69055, 6.400559, None]\n",
      "24 [801.9633, 6.4450502, None]\n",
      "25 [808.2735, 6.4687514, None]\n",
      "26 [796.81964, 6.477003, None]\n",
      "27 [768.8204, 6.4584885, None]\n",
      "28 [732.1786, 6.4360266, None]\n",
      "29 [694.6295, 6.4119573, None]\n",
      "30 [661.8169, 6.3863454, None]\n",
      "31 [634.8101, 6.3593745, None]\n",
      "32 [612.2522, 6.33108, None]\n",
      "33 [593.69, 6.30129, None]\n",
      "34 [578.44666, 6.2701583, None]\n",
      "35 [565.2155, 6.238195, None]\n",
      "36 [552.28174, 6.206832, None]\n",
      "37 [538.6891, 6.179713, None]\n",
      "38 [524.0329, 6.1596704, None]\n",
      "39 [507.51065, 6.1452756, None]\n",
      "40 [489.80316, 6.13346, None]\n",
      "41 [473.8551, 6.123017, None]\n",
      "42 [462.21127, 6.114153, None]\n",
      "43 [455.0131, 6.107168, None]\n",
      "44 [450.18036, 6.1022205, None]\n",
      "45 [445.68625, 6.0991664, None]\n",
      "46 [440.68823, 6.097745, None]\n",
      "47 [435.66653, 6.097487, None]\n",
      "48 [431.6537, 6.0980296, None]\n",
      "49 [429.25583, 6.098879, None]\n",
      "50 [428.3451, 6.099565, None]\n",
      "51 [428.35132, 6.099771, None]\n",
      "52 [428.65805, 6.099397, None]\n",
      "53 [428.87216, 6.098457, None]\n",
      "54 [428.84818, 6.097157, None]\n",
      "55 [428.6129, 6.095719, None]\n",
      "56 [428.25415, 6.0943303, None]\n",
      "57 [427.85638, 6.093154, None]\n",
      "58 [427.49167, 6.0922527, None]\n",
      "59 [427.20117, 6.091534, None]\n",
      "60 [426.97495, 6.09089, None]\n",
      "61 [426.74255, 6.0901937, None]\n",
      "62 [426.40747, 6.089329, None]\n",
      "63 [425.91083, 6.088252, None]\n",
      "64 [425.26978, 6.087008, None]\n",
      "65 [424.55945, 6.0856752, None]\n",
      "66 [423.85828, 6.0843716, None]\n",
      "67 [423.20377, 6.0831923, None]\n",
      "68 [422.5962, 6.0821977, None]\n",
      "69 [422.02252, 6.0813694, None]\n",
      "70 [421.46985, 6.080632, None]\n",
      "71 [420.9277, 6.079888, None]\n",
      "72 [420.38037, 6.079041, None]\n",
      "73 [419.8198, 6.0780354, None]\n",
      "74 [419.2596, 6.0768695, None]\n",
      "75 [418.7311, 6.0755897, None]\n",
      "76 [418.26334, 6.074281, None]\n",
      "77 [417.8659, 6.073028, None]\n",
      "78 [417.52325, 6.0718846, None]\n",
      "79 [417.2185, 6.0708604, None]\n",
      "80 [416.9377, 6.069933, None]\n",
      "81 [416.6742, 6.0690465, None]\n",
      "82 [416.42273, 6.0681367, None]\n",
      "83 [416.1789, 6.067165, None]\n",
      "84 [415.9475, 6.066129, None]\n",
      "85 [415.74042, 6.065054, None]\n",
      "86 [415.5638, 6.063979, None]\n",
      "87 [415.4143, 6.0629387, None]\n",
      "88 [415.28192, 6.0619483, None]\n",
      "89 [415.1565, 6.0609922, None]\n",
      "90 [415.0302, 6.060049, None]\n",
      "91 [414.90152, 6.059086, None]\n",
      "92 [414.7671, 6.0580745, None]\n",
      "93 [414.6297, 6.0570135, None]\n",
      "94 [414.49408, 6.055931, None]\n",
      "95 [414.36392, 6.054866, None]\n",
      "96 [414.2392, 6.0538545, None]\n",
      "97 [414.11694, 6.0529065, None]\n",
      "98 [413.99228, 6.0520225, None]\n",
      "99 [413.8668, 6.0511775, None]\n"
     ]
    }
   ],
   "source": [
    "for no in range(100):\n",
    "    o = sess.run([forwardsum_loss, bin_loss, optimizer], feed_dict = {i: data['text_ids'],\n",
    "                                                        lens: data['len_text_ids'][:,0],\n",
    "                                                        mel: data['mel'],\n",
    "                                                        mel_lengths: data['len_mel'][:,0]})\n",
    "    print(no, o)"
   ]
  },
  {
   "cell_type": "code",
   "execution_count": 17,
   "metadata": {},
   "outputs": [
    {
     "data": {
      "text/plain": [
       "[<tf.Variable 'AlignmentEncoder/embeddings:0' shape=(100, 512) dtype=float32_ref>,\n",
       " <tf.Variable 'AlignmentEncoder/sequential/ConvNorm/conv1d/kernel:0' shape=(3, 512, 1024) dtype=float32>,\n",
       " <tf.Variable 'AlignmentEncoder/sequential/ConvNorm/conv1d/bias:0' shape=(1024,) dtype=float32>,\n",
       " <tf.Variable 'AlignmentEncoder/sequential/ConvNorm_1/conv1d_1/kernel:0' shape=(1, 1024, 80) dtype=float32>,\n",
       " <tf.Variable 'AlignmentEncoder/sequential/ConvNorm_1/conv1d_1/bias:0' shape=(80,) dtype=float32>,\n",
       " <tf.Variable 'AlignmentEncoder/sequential_1/ConvNorm/conv1d_2/kernel:0' shape=(3, 80, 160) dtype=float32>,\n",
       " <tf.Variable 'AlignmentEncoder/sequential_1/ConvNorm/conv1d_2/bias:0' shape=(160,) dtype=float32>,\n",
       " <tf.Variable 'AlignmentEncoder/sequential_1/ConvNorm_1/conv1d_3/kernel:0' shape=(1, 160, 80) dtype=float32>,\n",
       " <tf.Variable 'AlignmentEncoder/sequential_1/ConvNorm_1/conv1d_3/bias:0' shape=(80,) dtype=float32>,\n",
       " <tf.Variable 'AlignmentEncoder/sequential_1/ConvNorm_2/conv1d_4/kernel:0' shape=(1, 80, 80) dtype=float32>,\n",
       " <tf.Variable 'AlignmentEncoder/sequential_1/ConvNorm_2/conv1d_4/bias:0' shape=(80,) dtype=float32>]"
      ]
     },
     "execution_count": 17,
     "metadata": {},
     "output_type": "execute_result"
    }
   ],
   "source": [
    "tf.trainable_variables()"
   ]
  },
  {
   "cell_type": "code",
   "execution_count": 18,
   "metadata": {},
   "outputs": [
    {
     "data": {
      "text/plain": [
       "'test/model.ckpt'"
      ]
     },
     "execution_count": 18,
     "metadata": {},
     "output_type": "execute_result"
    }
   ],
   "source": [
    "saver = tf.train.Saver(tf.trainable_variables())\n",
    "saver.save(sess, 'test/model.ckpt')"
   ]
  },
  {
   "cell_type": "code",
   "execution_count": 19,
   "metadata": {},
   "outputs": [
    {
     "name": "stdout",
     "output_type": "stream",
     "text": [
      "total 14360\r\n",
      "-rw-r--r--  1 huseinzolkepli  staff    77B Sep 23 01:31 checkpoint\r\n",
      "-rw-r--r--  1 huseinzolkepli  staff   6.7M Sep 23 01:31 model.ckpt.data-00000-of-00001\r\n",
      "-rw-r--r--  1 huseinzolkepli  staff   579B Sep 23 01:31 model.ckpt.index\r\n",
      "-rw-r--r--  1 huseinzolkepli  staff   274K Sep 23 01:31 model.ckpt.meta\r\n"
     ]
    }
   ],
   "source": [
    "!ls -lh test\n",
    "!rm -rf test"
   ]
  }
 ],
 "metadata": {
  "kernelspec": {
   "display_name": "Python 3",
   "language": "python",
   "name": "python3"
  },
  "language_info": {
   "codemirror_mode": {
    "name": "ipython",
    "version": 3
   },
   "file_extension": ".py",
   "mimetype": "text/x-python",
   "name": "python",
   "nbconvert_exporter": "python",
   "pygments_lexer": "ipython3",
   "version": "3.7.7"
  }
 },
 "nbformat": 4,
 "nbformat_minor": 4
}

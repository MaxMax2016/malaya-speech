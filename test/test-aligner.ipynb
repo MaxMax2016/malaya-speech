{
 "cells": [
  {
   "cell_type": "code",
   "execution_count": 1,
   "metadata": {},
   "outputs": [],
   "source": [
    "import os\n",
    "import sys\n",
    "\n",
    "SOURCE_DIR = os.path.dirname(os.path.dirname(os.path.abspath(__name__)))\n",
    "sys.path.insert(0, SOURCE_DIR)"
   ]
  },
  {
   "cell_type": "code",
   "execution_count": 2,
   "metadata": {},
   "outputs": [
    {
     "name": "stdout",
     "output_type": "stream",
     "text": [
      "WARNING:tensorflow:From /Users/huseinzolkepli/Documents/malaya-speech/malaya_speech/train/optimizer/__init__.py:39: The name tf.train.AdagradOptimizer is deprecated. Please use tf.compat.v1.train.AdagradOptimizer instead.\n",
      "\n",
      "WARNING:tensorflow:From /Users/huseinzolkepli/Documents/malaya-speech/malaya_speech/train/optimizer/__init__.py:40: The name tf.train.AdamOptimizer is deprecated. Please use tf.compat.v1.train.AdamOptimizer instead.\n",
      "\n",
      "WARNING:tensorflow:From /Users/huseinzolkepli/Documents/malaya-speech/malaya_speech/train/optimizer/__init__.py:41: The name tf.train.FtrlOptimizer is deprecated. Please use tf.compat.v1.train.FtrlOptimizer instead.\n",
      "\n",
      "WARNING:tensorflow:From /Users/huseinzolkepli/Documents/malaya-speech/malaya_speech/train/optimizer/__init__.py:43: The name tf.train.RMSPropOptimizer is deprecated. Please use tf.compat.v1.train.RMSPropOptimizer instead.\n",
      "\n",
      "WARNING:tensorflow:From /Users/huseinzolkepli/Documents/malaya-speech/malaya_speech/train/optimizer/__init__.py:44: The name tf.train.GradientDescentOptimizer is deprecated. Please use tf.compat.v1.train.GradientDescentOptimizer instead.\n",
      "\n",
      "WARNING:tensorflow:\n",
      "The TensorFlow contrib module will not be included in TensorFlow 2.0.\n",
      "For more information, please see:\n",
      "  * https://github.com/tensorflow/community/blob/master/rfcs/20180907-contrib-sunset.md\n",
      "  * https://github.com/tensorflow/addons\n",
      "  * https://github.com/tensorflow/io (for I/O related ops)\n",
      "If you depend on functionality not listed there, please file an issue.\n",
      "\n"
     ]
    }
   ],
   "source": [
    "from malaya_speech.train.model import aligner, fastvc, fastspeech\n",
    "import malaya_speech\n",
    "import tensorflow as tf\n",
    "import matplotlib.pyplot as plt"
   ]
  },
  {
   "cell_type": "code",
   "execution_count": 3,
   "metadata": {},
   "outputs": [
    {
     "data": {
      "text/plain": [
       "((1, 100, 50), 4.968e-41, 0.6666667)"
      ]
     },
     "execution_count": 3,
     "metadata": {},
     "output_type": "execute_result"
    }
   ],
   "source": [
    "from scipy.stats import betabinom\n",
    "import numpy as np\n",
    "\n",
    "def beta_binomial_prior_distribution(phoneme_count, mel_count, scaling_factor=1.0):\n",
    "    x = np.arange(0, phoneme_count)\n",
    "    mel_text_probs = []\n",
    "    for i in range(1, mel_count + 1):\n",
    "        a, b = scaling_factor * i, scaling_factor * (mel_count + 1 - i)\n",
    "        mel_i_prob = betabinom(phoneme_count, a, b).pmf(x)\n",
    "        mel_text_probs.append(mel_i_prob)\n",
    "    return np.array(mel_text_probs)\n",
    "\n",
    "attn_prior = np.expand_dims(beta_binomial_prior_distribution(50, 100), 0).astype(np.float32)\n",
    "attn_prior.shape, attn_prior.min(), attn_prior.max()"
   ]
  },
  {
   "cell_type": "code",
   "execution_count": 4,
   "metadata": {},
   "outputs": [],
   "source": [
    "i = tf.placeholder(tf.int32, [None, None])\n",
    "lens = tf.placeholder(tf.int32, [None])\n",
    "mel = tf.placeholder(tf.float32, [None, None, 80])\n",
    "mel_lengths = tf.placeholder(tf.int32, [None])\n",
    "prior = tf.placeholder(tf.float32, [None, None, None])"
   ]
  },
  {
   "cell_type": "code",
   "execution_count": 5,
   "metadata": {},
   "outputs": [
    {
     "name": "stdout",
     "output_type": "stream",
     "text": [
      "WARNING:tensorflow:From /Users/huseinzolkepli/Documents/malaya-speech/malaya_speech/train/model/aligner/model.py:103: The name tf.get_variable is deprecated. Please use tf.compat.v1.get_variable instead.\n",
      "\n",
      "WARNING:tensorflow:From /Users/huseinzolkepli/Documents/malaya-speech/malaya_speech/train/model/aligner/model.py:54: The name tf.keras.initializers.TruncatedNormal is deprecated. Please use tf.compat.v1.keras.initializers.TruncatedNormal instead.\n",
      "\n",
      "WARNING:tensorflow:From /Library/Frameworks/Python.framework/Versions/3.7/lib/python3.7/site-packages/tensorflow_core/python/keras/initializers.py:94: calling TruncatedNormal.__init__ (from tensorflow.python.ops.init_ops) with dtype is deprecated and will be removed in a future version.\n",
      "Instructions for updating:\n",
      "Call initializer instance with the dtype argument instead of passing it to the constructor\n"
     ]
    }
   ],
   "source": [
    "encoder = aligner.AlignmentEncoder(vocab_size = 100, vocab_embedding = 512)"
   ]
  },
  {
   "cell_type": "code",
   "execution_count": 6,
   "metadata": {},
   "outputs": [
    {
     "data": {
      "text/plain": [
       "<tf.Tensor 'ExpandDims:0' shape=(?, ?, 1) dtype=bool>"
      ]
     },
     "execution_count": 6,
     "metadata": {},
     "output_type": "execute_result"
    }
   ],
   "source": [
    "attention_mask = tf.expand_dims(tf.math.not_equal(i, 0), -1)\n",
    "attention_mask"
   ]
  },
  {
   "cell_type": "code",
   "execution_count": 7,
   "metadata": {},
   "outputs": [
    {
     "name": "stdout",
     "output_type": "stream",
     "text": [
      "WARNING:tensorflow:From /Library/Frameworks/Python.framework/Versions/3.7/lib/python3.7/site-packages/tensorflow_core/python/ops/resource_variable_ops.py:1630: calling BaseResourceVariable.__init__ (from tensorflow.python.ops.resource_variable_ops) with constraint is deprecated and will be removed in a future version.\n",
      "Instructions for updating:\n",
      "If using Keras pass *_constraint arguments to layers.\n",
      "WARNING:tensorflow:From /Users/huseinzolkepli/Documents/malaya-speech/malaya_speech/train/model/aligner/model.py:177: where (from tensorflow.python.ops.array_ops) is deprecated and will be removed in a future version.\n",
      "Instructions for updating:\n",
      "Use tf.where in 2.0, which has the same broadcast rule as np.where\n"
     ]
    },
    {
     "data": {
      "text/plain": [
       "(<tf.Tensor 'AlignmentEncoder/Softmax:0' shape=(?, 1, ?, ?) dtype=float32>,\n",
       " <tf.Tensor 'AlignmentEncoder/Identity:0' shape=(?, 1, ?, ?) dtype=float32>)"
      ]
     },
     "execution_count": 7,
     "metadata": {},
     "output_type": "execute_result"
    }
   ],
   "source": [
    "attn_soft, attn_logprob = encoder(mel, i, mask = attention_mask, attn_prior = prior)\n",
    "attn_soft, attn_logprob"
   ]
  },
  {
   "cell_type": "code",
   "execution_count": 8,
   "metadata": {},
   "outputs": [
    {
     "data": {
      "text/plain": [
       "<tf.Tensor 'PyFunc:0' shape=(?, 1, ?, ?) dtype=float32>"
      ]
     },
     "execution_count": 8,
     "metadata": {},
     "output_type": "execute_result"
    }
   ],
   "source": [
    "attn_hard = encoder.get_hard_attention(attn_soft, lens, mel_lengths)\n",
    "attn_hard"
   ]
  },
  {
   "cell_type": "code",
   "execution_count": 9,
   "metadata": {},
   "outputs": [
    {
     "name": "stdout",
     "output_type": "stream",
     "text": [
      "WARNING:tensorflow:From /Users/huseinzolkepli/Documents/malaya-speech/malaya_speech/train/model/ctc/loss.py:21: to_int32 (from tensorflow.python.ops.math_ops) is deprecated and will be removed in a future version.\n",
      "Instructions for updating:\n",
      "Use `tf.cast` instead.\n",
      "WARNING:tensorflow:From /Users/huseinzolkepli/Documents/malaya-speech/malaya_speech/train/model/ctc/loss.py:26: The name tf.nn.ctc_loss is deprecated. Please use tf.compat.v1.nn.ctc_loss instead.\n",
      "\n"
     ]
    },
    {
     "data": {
      "text/plain": [
       "<tf.Tensor 'truediv:0' shape=() dtype=float32>"
      ]
     },
     "execution_count": 9,
     "metadata": {},
     "output_type": "execute_result"
    }
   ],
   "source": [
    "forwardsum_loss = aligner.forwardsum_loss(attn_logprob, lens, mel_lengths)\n",
    "forwardsum_loss"
   ]
  },
  {
   "cell_type": "code",
   "execution_count": 10,
   "metadata": {},
   "outputs": [
    {
     "data": {
      "text/plain": [
       "<tf.Tensor 'truediv_1:0' shape=() dtype=float32>"
      ]
     },
     "execution_count": 10,
     "metadata": {},
     "output_type": "execute_result"
    }
   ],
   "source": [
    "bin_loss = aligner.bin_loss(attn_hard, attn_soft)\n",
    "bin_loss"
   ]
  },
  {
   "cell_type": "code",
   "execution_count": 11,
   "metadata": {},
   "outputs": [],
   "source": [
    "optimizer = tf.train.AdamOptimizer(learning_rate = 1e-3).minimize(forwardsum_loss + bin_loss)"
   ]
  },
  {
   "cell_type": "code",
   "execution_count": 12,
   "metadata": {},
   "outputs": [],
   "source": [
    "sess = tf.InteractiveSession()\n",
    "sess.run(tf.global_variables_initializer())"
   ]
  },
  {
   "cell_type": "code",
   "execution_count": 13,
   "metadata": {},
   "outputs": [],
   "source": [
    "import pickle\n",
    "\n",
    "with open('dataset-mel.pkl', 'rb') as fopen:\n",
    "    data, d = pickle.load(fopen)"
   ]
  },
  {
   "cell_type": "code",
   "execution_count": 14,
   "metadata": {},
   "outputs": [
    {
     "data": {
      "text/plain": [
       "dict_keys(['mel', 'text_ids', 'len_mel', 'len_text_ids', 'stop_token_target', 'f0', 'len_f0', 'energy', 'len_energy', 'g'])"
      ]
     },
     "execution_count": 14,
     "metadata": {},
     "output_type": "execute_result"
    }
   ],
   "source": [
    "data.keys()"
   ]
  },
  {
   "cell_type": "code",
   "execution_count": 15,
   "metadata": {},
   "outputs": [
    {
     "data": {
      "text/plain": [
       "(72, 408)"
      ]
     },
     "execution_count": 15,
     "metadata": {},
     "output_type": "execute_result"
    }
   ],
   "source": [
    "l_text = data['len_text_ids'][0,0]\n",
    "l_mel = data['len_mel'][0,0]\n",
    "l_text, l_mel"
   ]
  },
  {
   "cell_type": "code",
   "execution_count": 16,
   "metadata": {},
   "outputs": [
    {
     "data": {
      "text/plain": [
       "(1, 408, 72)"
      ]
     },
     "execution_count": 16,
     "metadata": {},
     "output_type": "execute_result"
    }
   ],
   "source": [
    "prior_ = np.expand_dims(beta_binomial_prior_distribution(l_text, l_mel), 0).astype(np.float32)\n",
    "prior_.shape"
   ]
  },
  {
   "cell_type": "code",
   "execution_count": 17,
   "metadata": {},
   "outputs": [
    {
     "data": {
      "text/plain": [
       "((1, 1, 408, 72), (1, 1, 408, 72))"
      ]
     },
     "execution_count": 17,
     "metadata": {},
     "output_type": "execute_result"
    }
   ],
   "source": [
    "o = sess.run([attn_soft, attn_logprob], feed_dict = {i: data['text_ids'],\n",
    "                                                    lens: data['len_text_ids'][:,0],\n",
    "                                                    mel: data['mel'],\n",
    "                                                    mel_lengths: data['len_mel'][:,0],\n",
    "                                                    prior: prior_})\n",
    "o[0].shape, o[1].shape"
   ]
  },
  {
   "cell_type": "code",
   "execution_count": 18,
   "metadata": {
    "scrolled": true
   },
   "outputs": [
    {
     "name": "stderr",
     "output_type": "stream",
     "text": [
      "/Users/huseinzolkepli/Documents/malaya-speech/malaya_speech/train/model/aligner/model.py:20: RuntimeWarning: divide by zero encountered in log\n",
      "  attn_map = np.log(attn_map)\n"
     ]
    },
    {
     "name": "stdout",
     "output_type": "stream",
     "text": [
      "0 [2063.8103, 2.2990923, None]\n",
      "1 [2060.8247, 2.2980132, None]\n",
      "2 [2056.2263, 2.2962835, None]\n",
      "3 [2049.4294, 2.2934864, None]\n",
      "4 [2040.027, 2.290047, None]\n",
      "5 [2029.5034, 2.283527, None]\n",
      "6 [2019.9266, 2.2654493, None]\n",
      "7 [2011.5076, 2.2538977, None]\n",
      "8 [1999.2281, 2.219731, None]\n",
      "9 [1986.2776, 2.1822305, None]\n",
      "10 [1972.8312, 2.1398208, None]\n",
      "11 [1950.7552, 2.0664113, None]\n",
      "12 [1925.9686, 1.9855087, None]\n",
      "13 [1900.4688, 1.8933192, None]\n",
      "14 [1870.2916, 1.7814972, None]\n",
      "15 [1839.0175, 1.7257565, None]\n",
      "16 [1815.3284, 1.669061, None]\n",
      "17 [1794.2671, 1.617562, None]\n",
      "18 [1776.5856, 1.5834988, None]\n",
      "19 [1774.5529, 1.5556587, None]\n",
      "20 [1743.9736, 1.544278, None]\n",
      "21 [1718.282, 1.5281963, None]\n",
      "22 [1705.8799, 1.5178617, None]\n",
      "23 [1678.4879, 1.5032719, None]\n",
      "24 [1669.0098, 1.4854486, None]\n",
      "25 [1642.8765, 1.4694555, None]\n",
      "26 [1628.4594, 1.454557, None]\n",
      "27 [1602.9614, 1.4289554, None]\n",
      "28 [1588.6158, 1.399158, None]\n",
      "29 [1565.2682, 1.3699123, None]\n",
      "30 [1551.0558, 1.3482428, None]\n",
      "31 [1527.5813, 1.3207865, None]\n",
      "32 [1515.3414, 1.2961297, None]\n",
      "33 [1493.3402, 1.2742902, None]\n",
      "34 [1482.1927, 1.2589153, None]\n",
      "35 [1463.1787, 1.2328742, None]\n",
      "36 [1447.2552, 1.215834, None]\n",
      "37 [1433.5771, 1.2059554, None]\n",
      "38 [1413.9297, 1.1833879, None]\n",
      "39 [1400.2054, 1.1688404, None]\n",
      "40 [1382.9794, 1.1592349, None]\n",
      "41 [1365.4076, 1.1407974, None]\n",
      "42 [1350.3103, 1.1316051, None]\n",
      "43 [1332.0643, 1.1205862, None]\n",
      "44 [1315.3861, 1.1092577, None]\n",
      "45 [1300.6879, 1.1012232, None]\n",
      "46 [1284.725, 1.08952, None]\n",
      "47 [1268.9841, 1.077526, None]\n",
      "48 [1256.0597, 1.0632249, None]\n",
      "49 [1243.0593, 1.0558527, None]\n",
      "50 [1226.8295, 1.0431011, None]\n",
      "51 [1213.0221, 1.0328169, None]\n",
      "52 [1202.5415, 1.0164723, None]\n",
      "53 [1188.732, 1.0107211, None]\n",
      "54 [1175.649, 0.9900902, None]\n",
      "55 [1160.435, 0.9809039, None]\n",
      "56 [1152.1642, 0.9777536, None]\n",
      "57 [1146.2556, 0.95488393, None]\n",
      "58 [1125.0066, 0.9621456, None]\n",
      "59 [1121.3416, 0.97049093, None]\n",
      "60 [1121.0527, 0.9224894, None]\n",
      "61 [1093.4552, 0.9261756, None]\n",
      "62 [1107.914, 0.9421915, None]\n",
      "63 [1088.0559, 0.90496504, None]\n",
      "64 [1082.2743, 0.8807193, None]\n",
      "65 [1052.1676, 0.901503, None]\n",
      "66 [1063.6683, 0.9076314, None]\n",
      "67 [1041.0922, 0.86121225, None]\n",
      "68 [1047.5481, 0.83677214, None]\n",
      "69 [1018.1938, 0.83823574, None]\n",
      "70 [1025.7117, 0.8559944, None]\n",
      "71 [1002.92126, 0.8420305, None]\n",
      "72 [997.1193, 0.81604767, None]\n",
      "73 [993.0806, 0.8140169, None]\n",
      "74 [978.952, 0.82485294, None]\n",
      "75 [976.8381, 0.8230262, None]\n",
      "76 [965.75586, 0.7993455, None]\n",
      "77 [960.7946, 0.78826636, None]\n",
      "78 [954.1588, 0.78513545, None]\n",
      "79 [946.80054, 0.78635, None]\n",
      "80 [942.39465, 0.78923184, None]\n",
      "81 [932.91425, 0.77965, None]\n",
      "82 [930.2315, 0.77153, None]\n",
      "83 [923.4735, 0.76845026, None]\n",
      "84 [916.5106, 0.76847273, None]\n",
      "85 [913.9038, 0.7688366, None]\n",
      "86 [906.3607, 0.759739, None]\n",
      "87 [901.86334, 0.7500105, None]\n",
      "88 [898.3606, 0.7454881, None]\n",
      "89 [892.02423, 0.7484425, None]\n",
      "90 [887.9457, 0.7494607, None]\n",
      "91 [883.5302, 0.74417764, None]\n",
      "92 [878.7921, 0.7372465, None]\n",
      "93 [874.64545, 0.73061997, None]\n",
      "94 [870.45, 0.7313247, None]\n",
      "95 [866.3829, 0.73030585, None]\n",
      "96 [862.2206, 0.7235252, None]\n",
      "97 [858.44574, 0.71929854, None]\n",
      "98 [854.6215, 0.71224797, None]\n",
      "99 [850.7081, 0.7116617, None]\n",
      "100 [847.17896, 0.71202344, None]\n",
      "101 [843.4893, 0.7087206, None]\n",
      "102 [839.90356, 0.7051809, None]\n",
      "103 [836.5061, 0.69364464, None]\n",
      "104 [833.18823, 0.69102204, None]\n",
      "105 [829.7499, 0.6886121, None]\n",
      "106 [826.5845, 0.6864202, None]\n",
      "107 [823.5592, 0.68290037, None]\n",
      "108 [820.36597, 0.67220014, None]\n",
      "109 [817.4402, 0.6688531, None]\n",
      "110 [814.47266, 0.6617194, None]\n",
      "111 [811.575, 0.65920603, None]\n",
      "112 [808.7819, 0.6568332, None]\n",
      "113 [806.0206, 0.6471531, None]\n",
      "114 [803.3859, 0.64275444, None]\n",
      "115 [800.6505, 0.6345086, None]\n",
      "116 [798.08704, 0.6300972, None]\n",
      "117 [795.61957, 0.6265472, None]\n",
      "118 [793.1058, 0.616259, None]\n",
      "119 [790.6771, 0.61065996, None]\n",
      "120 [788.3168, 0.6046143, None]\n",
      "121 [785.979, 0.59928703, None]\n",
      "122 [783.6743, 0.59707075, None]\n",
      "123 [781.43475, 0.5894961, None]\n",
      "124 [779.2223, 0.5828549, None]\n",
      "125 [777.07605, 0.57778764, None]\n",
      "126 [774.96936, 0.57138455, None]\n",
      "127 [772.90295, 0.5673075, None]\n",
      "128 [770.8914, 0.56228083, None]\n",
      "129 [768.91205, 0.55441463, None]\n",
      "130 [766.99976, 0.5489799, None]\n",
      "131 [765.1141, 0.54454476, None]\n",
      "132 [763.2729, 0.5394141, None]\n",
      "133 [761.4765, 0.53607285, None]\n",
      "134 [759.70483, 0.5312805, None]\n",
      "135 [757.98975, 0.5250691, None]\n",
      "136 [756.3055, 0.5209521, None]\n",
      "137 [754.6573, 0.51804507, None]\n",
      "138 [753.0531, 0.51493055, None]\n",
      "139 [751.48193, 0.5131274, None]\n",
      "140 [749.94946, 0.5114378, None]\n",
      "141 [748.4484, 0.5085023, None]\n",
      "142 [746.9782, 0.50688475, None]\n",
      "143 [745.52985, 0.507155, None]\n",
      "144 [744.1107, 0.5071676, None]\n",
      "145 [742.72504, 0.507738, None]\n",
      "146 [741.36316, 0.50963, None]\n",
      "147 [740.0265, 0.51098627, None]\n",
      "148 [738.7194, 0.51166624, None]\n",
      "149 [737.4371, 0.5138004, None]\n",
      "150 [736.17773, 0.51669246, None]\n",
      "151 [734.93335, 0.51844186, None]\n",
      "152 [733.70026, 0.520669, None]\n",
      "153 [732.4749, 0.52381444, None]\n",
      "154 [731.2625, 0.5257252, None]\n",
      "155 [730.0669, 0.52670413, None]\n",
      "156 [728.90186, 0.5285009, None]\n",
      "157 [727.7778, 0.53061557, None]\n",
      "158 [726.68866, 0.532152, None]\n",
      "159 [725.62897, 0.5334805, None]\n",
      "160 [724.5936, 0.5356038, None]\n",
      "161 [723.5777, 0.53783816, None]\n",
      "162 [722.5802, 0.539823, None]\n",
      "163 [721.6005, 0.54172045, None]\n",
      "164 [720.64746, 0.5437604, None]\n",
      "165 [719.716, 0.5457389, None]\n",
      "166 [718.804, 0.54702306, None]\n",
      "167 [717.9125, 0.54756457, None]\n",
      "168 [717.04755, 0.54861593, None]\n",
      "169 [716.1981, 0.5503083, None]\n",
      "170 [715.3688, 0.55184597, None]\n",
      "171 [714.5601, 0.55360967, None]\n",
      "172 [713.7618, 0.55655575, None]\n",
      "173 [712.98, 0.55946195, None]\n",
      "174 [712.2165, 0.56171215, None]\n",
      "175 [711.46344, 0.56398606, None]\n",
      "176 [710.72125, 0.56626815, None]\n",
      "177 [709.99945, 0.56830406, None]\n",
      "178 [709.29095, 0.5694709, None]\n",
      "179 [708.59064, 0.57083476, None]\n",
      "180 [707.9035, 0.5732594, None]\n",
      "181 [707.2294, 0.575576, None]\n",
      "182 [706.5659, 0.5769199, None]\n",
      "183 [705.92053, 0.5782847, None]\n",
      "184 [705.28674, 0.5801365, None]\n",
      "185 [704.6617, 0.5818217, None]\n",
      "186 [704.04565, 0.58322036, None]\n",
      "187 [703.4369, 0.5845046, None]\n",
      "188 [702.8398, 0.58513814, None]\n",
      "189 [702.24506, 0.5853674, None]\n",
      "190 [701.65283, 0.58625036, None]\n",
      "191 [701.0635, 0.5878886, None]\n",
      "192 [700.46826, 0.58940107, None]\n",
      "193 [699.86865, 0.58958846, None]\n",
      "194 [699.2727, 0.5891295, None]\n",
      "195 [698.69305, 0.58953863, None]\n",
      "196 [698.14453, 0.58861005, None]\n",
      "197 [697.61755, 0.587893, None]\n",
      "198 [697.095, 0.58856195, None]\n",
      "199 [696.575, 0.5908509, None]\n"
     ]
    }
   ],
   "source": [
    "for no in range(200):\n",
    "    o = sess.run([forwardsum_loss, bin_loss, optimizer], feed_dict = {i: data['text_ids'],\n",
    "                                                        lens: data['len_text_ids'][:,0],\n",
    "                                                        mel: data['mel'],\n",
    "                                                        mel_lengths: data['len_mel'][:,0],\n",
    "                                                        prior: prior_})\n",
    "    print(no, o)"
   ]
  },
  {
   "cell_type": "code",
   "execution_count": 19,
   "metadata": {},
   "outputs": [
    {
     "data": {
      "text/plain": [
       "((1, 1, 408, 72), (1, 1, 408, 72), (1, 1, 408, 72))"
      ]
     },
     "execution_count": 19,
     "metadata": {},
     "output_type": "execute_result"
    }
   ],
   "source": [
    "o = sess.run([attn_soft, attn_logprob, attn_hard], feed_dict = {i: data['text_ids'],\n",
    "                                                    lens: data['len_text_ids'][:,0],\n",
    "                                                    mel: data['mel'],\n",
    "                                                    mel_lengths: data['len_mel'][:,0],\n",
    "                                                    prior: prior_})\n",
    "o[0].shape, o[1].shape, o[2].shape"
   ]
  },
  {
   "cell_type": "code",
   "execution_count": 20,
   "metadata": {},
   "outputs": [
    {
     "data": {
      "text/plain": [
       "(408, 72)"
      ]
     },
     "execution_count": 20,
     "metadata": {},
     "output_type": "execute_result"
    }
   ],
   "source": [
    "o[0][0,0].shape"
   ]
  },
  {
   "cell_type": "code",
   "execution_count": 21,
   "metadata": {},
   "outputs": [
    {
     "data": {
      "image/png": "[encoded data removed]",
      "text/plain": [
       "<Figure size 576x432 with 2 Axes>"
      ]
     },
     "metadata": {
      "needs_background": "light"
     },
     "output_type": "display_data"
    }
   ],
   "source": [
    "fig = plt.figure(figsize=(8, 6))\n",
    "ax = fig.add_subplot(111)\n",
    "ax.set_title('Alignment steps')\n",
    "im = ax.imshow(\n",
    "    o[0][0,0],\n",
    "    aspect='auto',\n",
    "    origin='lower',\n",
    "    interpolation='none')\n",
    "fig.colorbar(im, ax=ax)\n",
    "xlabel = 'Decoder timestep'\n",
    "plt.xlabel(xlabel)\n",
    "plt.ylabel('Encoder timestep')\n",
    "plt.tight_layout()\n",
    "plt.show()"
   ]
  },
  {
   "cell_type": "code",
   "execution_count": 22,
   "metadata": {},
   "outputs": [
    {
     "data": {
      "image/png": "[encoded data removed]",
      "text/plain": [
       "<Figure size 576x432 with 2 Axes>"
      ]
     },
     "metadata": {
      "needs_background": "light"
     },
     "output_type": "display_data"
    }
   ],
   "source": [
    "fig = plt.figure(figsize=(8, 6))\n",
    "ax = fig.add_subplot(111)\n",
    "ax.set_title('Alignment steps')\n",
    "im = ax.imshow(\n",
    "    o[2][0,0],\n",
    "    aspect='auto',\n",
    "    origin='lower',\n",
    "    interpolation='none')\n",
    "fig.colorbar(im, ax=ax)\n",
    "xlabel = 'Decoder timestep'\n",
    "plt.xlabel(xlabel)\n",
    "plt.ylabel('Encoder timestep')\n",
    "plt.tight_layout()\n",
    "plt.show()"
   ]
  },
  {
   "cell_type": "code",
   "execution_count": 23,
   "metadata": {},
   "outputs": [
    {
     "data": {
      "text/plain": [
       "[<tf.Variable 'AlignmentEncoder/embeddings:0' shape=(100, 512) dtype=float32_ref>,\n",
       " <tf.Variable 'AlignmentEncoder/sequential/ConvNorm/conv1d/kernel:0' shape=(3, 512, 1024) dtype=float32>,\n",
       " <tf.Variable 'AlignmentEncoder/sequential/ConvNorm/conv1d/bias:0' shape=(1024,) dtype=float32>,\n",
       " <tf.Variable 'AlignmentEncoder/sequential/ConvNorm_1/conv1d_1/kernel:0' shape=(1, 1024, 80) dtype=float32>,\n",
       " <tf.Variable 'AlignmentEncoder/sequential/ConvNorm_1/conv1d_1/bias:0' shape=(80,) dtype=float32>,\n",
       " <tf.Variable 'AlignmentEncoder/sequential_1/ConvNorm/conv1d_2/kernel:0' shape=(3, 80, 160) dtype=float32>,\n",
       " <tf.Variable 'AlignmentEncoder/sequential_1/ConvNorm/conv1d_2/bias:0' shape=(160,) dtype=float32>,\n",
       " <tf.Variable 'AlignmentEncoder/sequential_1/ConvNorm_1/conv1d_3/kernel:0' shape=(1, 160, 80) dtype=float32>,\n",
       " <tf.Variable 'AlignmentEncoder/sequential_1/ConvNorm_1/conv1d_3/bias:0' shape=(80,) dtype=float32>,\n",
       " <tf.Variable 'AlignmentEncoder/sequential_1/ConvNorm_2/conv1d_4/kernel:0' shape=(1, 80, 80) dtype=float32>,\n",
       " <tf.Variable 'AlignmentEncoder/sequential_1/ConvNorm_2/conv1d_4/bias:0' shape=(80,) dtype=float32>]"
      ]
     },
     "execution_count": 23,
     "metadata": {},
     "output_type": "execute_result"
    }
   ],
   "source": [
    "tf.trainable_variables()"
   ]
  },
  {
   "cell_type": "code",
   "execution_count": 24,
   "metadata": {},
   "outputs": [
    {
     "data": {
      "text/plain": [
       "'test/model.ckpt'"
      ]
     },
     "execution_count": 24,
     "metadata": {},
     "output_type": "execute_result"
    }
   ],
   "source": [
    "saver = tf.train.Saver(tf.trainable_variables())\n",
    "saver.save(sess, 'test/model.ckpt')"
   ]
  },
  {
   "cell_type": "code",
   "execution_count": 25,
   "metadata": {},
   "outputs": [
    {
     "name": "stdout",
     "output_type": "stream",
     "text": [
      "total 30720\r\n",
      "-rw-r--r--  1 huseinzolkepli  staff    77B Sep 23 21:12 checkpoint\r\n",
      "-rw-r--r--  1 huseinzolkepli  staff   6.7M Sep 23 21:12 model.ckpt.data-00000-of-00001\r\n",
      "-rw-r--r--  1 huseinzolkepli  staff   579B Sep 23 21:12 model.ckpt.index\r\n",
      "-rw-r--r--  1 huseinzolkepli  staff   8.3M Sep 23 21:12 model.ckpt.meta\r\n"
     ]
    }
   ],
   "source": [
    "!ls -lh test\n",
    "!rm -rf test"
   ]
  },
  {
   "cell_type": "code",
   "execution_count": null,
   "metadata": {},
   "outputs": [],
   "source": []
  }
 ],
 "metadata": {
  "kernelspec": {
   "display_name": "Python 3",
   "language": "python",
   "name": "python3"
  },
  "language_info": {
   "codemirror_mode": {
    "name": "ipython",
    "version": 3
   },
   "file_extension": ".py",
   "mimetype": "text/x-python",
   "name": "python",
   "nbconvert_exporter": "python",
   "pygments_lexer": "ipython3",
   "version": "3.7.7"
  }
 },
 "nbformat": 4,
 "nbformat_minor": 4
}

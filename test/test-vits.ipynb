{
 "cells": [
  {
   "cell_type": "code",
   "execution_count": 1,
   "metadata": {},
   "outputs": [],
   "source": [
    "import os\n",
    "\n",
    "os.environ['CUDA_VISIBLE_DEVICES'] = '1'"
   ]
  },
  {
   "cell_type": "code",
   "execution_count": 2,
   "metadata": {},
   "outputs": [],
   "source": [
    "import sys\n",
    "\n",
    "SOURCE_DIR = os.path.dirname(os.path.dirname(os.path.abspath(__name__)))\n",
    "sys.path.insert(0, SOURCE_DIR)"
   ]
  },
  {
   "cell_type": "code",
   "execution_count": 3,
   "metadata": {},
   "outputs": [],
   "source": [
    "# import tensorflow as tf\n",
    "\n",
    "# tf.compat.v1.enable_eager_execution()"
   ]
  },
  {
   "cell_type": "code",
   "execution_count": 4,
   "metadata": {},
   "outputs": [],
   "source": [
    "import tensorflow as tf\n",
    "import malaya_speech"
   ]
  },
  {
   "cell_type": "code",
   "execution_count": 5,
   "metadata": {},
   "outputs": [],
   "source": [
    "from malaya_speech.train.model.vits import model\n",
    "from malaya_speech.train.model import vits"
   ]
  },
  {
   "cell_type": "code",
   "execution_count": 6,
   "metadata": {},
   "outputs": [
    {
     "data": {
      "text/plain": [
       "{'model': {'inter_channels': 192, 'hidden_channels': 192, 'filter_channels': 768, 'n_heads': 2, 'n_layers': 6, 'kernel_size': 3, 'p_dropout': 0.1, 'resblock': '1', 'resblock_kernel_sizes': [3, 7, 11], 'resblock_dilation_sizes': [[1, 3, 5], [1, 3, 5], [1, 3, 5]], 'upsample_rates': [8, 8, 2, 2], 'upsample_initial_channel': 512, 'upsample_kernel_sizes': [16, 16, 4, 4], 'n_layers_q': 3, 'use_spectral_norm': False}, 'train': {'log_interval': 200, 'eval_interval': 1000, 'seed': 1234, 'epochs': 20000, 'learning_rate': 0.0002, 'betas': [0.8, 0.99], 'eps': 1e-09, 'batch_size': 64, 'fp16_run': True, 'lr_decay': 0.999875, 'segment_size': 8192, 'init_lr_ratio': 1, 'warmup_epochs': 0, 'c_mel': 45, 'c_kl': 1.0}, 'data': {'max_wav_value': 32768.0, 'sampling_rate': 22050, 'filter_length': 1024, 'hop_length': 256, 'win_length': 1024, 'n_mel_channels': 80, 'mel_fmin': 0.0, 'mel_fmax': None, 'add_blank': True, 'n_speakers': 0}}"
      ]
     },
     "execution_count": 6,
     "metadata": {},
     "output_type": "execute_result"
    }
   ],
   "source": [
    "hparams = vits.HParams(**malaya_speech.config.vits_base_config)\n",
    "hparams"
   ]
  },
  {
   "cell_type": "code",
   "execution_count": 7,
   "metadata": {},
   "outputs": [
    {
     "data": {
      "text/plain": [
       "(513, 32)"
      ]
     },
     "execution_count": 7,
     "metadata": {},
     "output_type": "execute_result"
    }
   ],
   "source": [
    "spec_channels = hparams.data.filter_length // 2 + 1\n",
    "segment_size = hparams.train.segment_size // hparams.data.hop_length\n",
    "spec_channels, segment_size"
   ]
  },
  {
   "cell_type": "code",
   "execution_count": 8,
   "metadata": {},
   "outputs": [],
   "source": [
    "import json\n",
    "import os\n",
    "from glob import glob\n",
    "\n",
    "with open('../speech/imda/output.json') as fopen:\n",
    "    data = json.load(fopen)\n",
    "    \n",
    "wavs = glob('../speech/imda/*.WAV')"
   ]
  },
  {
   "cell_type": "code",
   "execution_count": 9,
   "metadata": {},
   "outputs": [],
   "source": [
    "vocab = malaya_speech.utils.text.TTS_SYMBOLS\n",
    "\n",
    "batch = []\n",
    "for w in wavs:\n",
    "    t = data[os.path.split(w)[1]]\n",
    "    y, _ = malaya_speech.load(w)\n",
    "    batch.append((y, malaya_speech.utils.text.tts_encode(t, vocab)))"
   ]
  },
  {
   "cell_type": "code",
   "execution_count": 10,
   "metadata": {},
   "outputs": [],
   "source": [
    "from librosa.filters import mel as librosa_mel_fn\n",
    "\n",
    "MEL = None\n",
    "\n",
    "def dynamic_range_compression(x, C=1, clip_val=1e-5):\n",
    "    \"\"\"\n",
    "    PARAMS\n",
    "    ------\n",
    "    C: compression factor\n",
    "    \"\"\"\n",
    "    return tf.log(tf.clip_by_value(x, clip_val, tf.reduce_max(x)) * C)\n",
    "\n",
    "\n",
    "def dynamic_range_decompression(x, C=1):\n",
    "    \"\"\"\n",
    "    PARAMS\n",
    "    ------\n",
    "    C: compression factor used to compress\n",
    "    \"\"\"\n",
    "    return tf.exp(x) / C\n",
    "\n",
    "\n",
    "def spectral_normalize(magnitudes):\n",
    "    output = dynamic_range_compression(magnitudes)\n",
    "    return output\n",
    "\n",
    "\n",
    "def spectral_de_normalize_torch(magnitudes):\n",
    "    output = dynamic_range_decompression(magnitudes)\n",
    "    return output\n",
    "\n",
    "def spectrogram_tf(audio_norm, filter_length, hop_length):\n",
    "    spec = tf.abs(tf.signal.stft(\n",
    "        audio_norm,\n",
    "        filter_length,\n",
    "        hop_length,\n",
    "        fft_length=None,\n",
    "        window_fn=tf.signal.hann_window,\n",
    "        pad_end=False,\n",
    "    ))\n",
    "    spec = tf.sqrt(spec ** 2 + 1e-6)\n",
    "    return spec\n",
    "\n",
    "def spec_to_mel(spec, n_fft, num_mels, sampling_rate, fmin, fmax):\n",
    "    global MEL\n",
    "    if MEL is None:\n",
    "        MEL = tf.convert_to_tensor(librosa_mel_fn(sampling_rate, n_fft, num_mels, fmin, fmax))\n",
    "    \n",
    "    spec = tf.matmul(spec, tf.transpose(MEL))\n",
    "    spec = spectral_normalize(spec)\n",
    "    return spec"
   ]
  },
  {
   "cell_type": "code",
   "execution_count": 11,
   "metadata": {},
   "outputs": [],
   "source": [
    "X = tf.compat.v1.placeholder(tf.float32, [None, None], name = 'X_placeholder')\n",
    "X_len = tf.compat.v1.placeholder(tf.int32, [None], name = 'X_len_placeholder')"
   ]
  },
  {
   "cell_type": "code",
   "execution_count": 12,
   "metadata": {},
   "outputs": [
    {
     "data": {
      "text/plain": [
       "(<tf.Tensor 'TensorArrayStack_1/TensorArrayGatherV3:0' shape=(?, ?, 513) dtype=float32>,\n",
       " <tf.Tensor 'TensorArrayStack_2/TensorArrayGatherV3:0' shape=(?,) dtype=int32>)"
      ]
     },
     "execution_count": 12,
     "metadata": {},
     "output_type": "execute_result"
    }
   ],
   "source": [
    "batch_size = tf.shape(X)[0]\n",
    "features = tf.TensorArray(dtype = tf.float32, size = batch_size, dynamic_size = True, infer_shape = False)\n",
    "features_len = tf.TensorArray(dtype = tf.int32, size = batch_size)\n",
    "\n",
    "init_state = (0, features, features_len)\n",
    "\n",
    "def condition(i, features, features_len):\n",
    "    return i < batch_size\n",
    "\n",
    "def body(i, features, features_len):\n",
    "    f = spectrogram_tf(X[i, :X_len[i]], hparams.data.filter_length, hparams.data.hop_length)\n",
    "#     f = spec_to_mel(f, hparams.data.filter_length, hparams.data.n_mel_channels, hparams.data.sampling_rate,\n",
    "#                   hparams.data.mel_fmin, hparams.data.mel_fmax)\n",
    "    f_len = tf.shape(f)[0]\n",
    "    return i + 1, features.write(i, f), features_len.write(i, f_len)\n",
    "\n",
    "_, features, features_len = tf.while_loop(condition, body, init_state)\n",
    "features_len = features_len.stack()\n",
    "padded_features = tf.TensorArray(dtype = tf.float32, size = batch_size)\n",
    "padded_lens = tf.TensorArray(dtype = tf.int32, size = batch_size)\n",
    "maxlen = tf.reduce_max(features_len)\n",
    "\n",
    "init_state = (0, padded_features, padded_lens)\n",
    "\n",
    "def condition(i, padded_features, padded_lens):\n",
    "    return i < batch_size\n",
    "\n",
    "def body(i, padded_features, padded_lens):\n",
    "    f = features.read(i)\n",
    "    len_f = tf.shape(f)[0]\n",
    "    f = tf.pad(f, [[0, maxlen - tf.shape(f)[0]], [0,0]])\n",
    "    return i + 1, padded_features.write(i, f), padded_lens.write(i, len_f)\n",
    "\n",
    "_, padded_features, padded_lens = tf.while_loop(condition, body, init_state)\n",
    "padded_features = padded_features.stack()\n",
    "padded_lens = padded_lens.stack()\n",
    "padded_lens.set_shape((None,))\n",
    "padded_features.set_shape((None, None, spec_channels))\n",
    "padded_features, padded_lens"
   ]
  },
  {
   "cell_type": "code",
   "execution_count": 13,
   "metadata": {},
   "outputs": [],
   "source": [
    "batch_x, batch_y = [b[0] for b in batch[:2]], [b[1] for b in batch[:2]]\n",
    "x, x_len = malaya_speech.utils.padding.sequence_1d(batch_x, return_len = True)"
   ]
  },
  {
   "cell_type": "code",
   "execution_count": 14,
   "metadata": {},
   "outputs": [],
   "source": [
    "y, y_len = malaya_speech.utils.padding.sequence_1d(batch_y, return_len = True)"
   ]
  },
  {
   "cell_type": "code",
   "execution_count": 15,
   "metadata": {},
   "outputs": [],
   "source": [
    "# sess = tf.Session()\n",
    "# sess.run([padded_features, padded_lens], feed_dict = {X: x, X_len: x_len})"
   ]
  },
  {
   "cell_type": "code",
   "execution_count": 16,
   "metadata": {},
   "outputs": [
    {
     "name": "stdout",
     "output_type": "stream",
     "text": [
      "WARNING:tensorflow:From /Library/Frameworks/Python.framework/Versions/3.7/lib/python3.7/site-packages/tensorflow_core/python/keras/initializers.py:119: calling RandomUniform.__init__ (from tensorflow.python.ops.init_ops) with dtype is deprecated and will be removed in a future version.\n",
      "Instructions for updating:\n",
      "Call initializer instance with the dtype argument instead of passing it to the constructor\n",
      "WARNING:tensorflow:From /Users/huseinzolkepli/Documents/malaya-speech/malaya_speech/train/model/vits/model.py:235: The name tf.keras.initializers.RandomNormal is deprecated. Please use tf.compat.v1.keras.initializers.RandomNormal instead.\n",
      "\n",
      "WARNING:tensorflow:From /Library/Frameworks/Python.framework/Versions/3.7/lib/python3.7/site-packages/tensorflow_core/python/keras/initializers.py:143: calling RandomNormal.__init__ (from tensorflow.python.ops.init_ops) with dtype is deprecated and will be removed in a future version.\n",
      "Instructions for updating:\n",
      "Call initializer instance with the dtype argument instead of passing it to the constructor\n"
     ]
    }
   ],
   "source": [
    "model = vits.Model(len(vocab), spec_channels, segment_size, **hparams.model)"
   ]
  },
  {
   "cell_type": "code",
   "execution_count": 17,
   "metadata": {},
   "outputs": [],
   "source": [
    "# x = tf.constant([[1,2,3,4,5], [2,3,0,0,0]])\n",
    "# x_lengths = tf.constant([5, 2])\n",
    "# y = tf.random.normal(shape = (2, 100, spec_channels))\n",
    "# y_lengths = tf.constant([50, 100])"
   ]
  },
  {
   "cell_type": "code",
   "execution_count": 18,
   "metadata": {},
   "outputs": [],
   "source": [
    "T = tf.placeholder(tf.int32, [None, None])\n",
    "T_lengths = tf.placeholder(tf.int32, [None])"
   ]
  },
  {
   "cell_type": "code",
   "execution_count": 19,
   "metadata": {},
   "outputs": [
    {
     "name": "stdout",
     "output_type": "stream",
     "text": [
      "WARNING:tensorflow:From /Library/Frameworks/Python.framework/Versions/3.7/lib/python3.7/site-packages/tensorflow_core/python/autograph/converters/directives.py:119: The name tf.log is deprecated. Please use tf.math.log instead.\n",
      "\n",
      "WARNING:tensorflow:From /Library/Frameworks/Python.framework/Versions/3.7/lib/python3.7/site-packages/tensorflow_core/python/ops/resource_variable_ops.py:1630: calling BaseResourceVariable.__init__ (from tensorflow.python.ops.resource_variable_ops) with constraint is deprecated and will be removed in a future version.\n",
      "Instructions for updating:\n",
      "If using Keras pass *_constraint arguments to layers.\n",
      "WARNING:tensorflow:From /Users/huseinzolkepli/Documents/malaya-speech/malaya_speech/train/model/vits/attentions.py:8: where (from tensorflow.python.ops.array_ops) is deprecated and will be removed in a future version.\n",
      "Instructions for updating:\n",
      "Use tf.where in 2.0, which has the same broadcast rule as np.where\n"
     ]
    }
   ],
   "source": [
    "y_hat, l_length, attn, ids_slice, x_mask, z_mask,\\\n",
    "      (z, z_p, m_p, logs_p, m_q, logs_q) = model(T, T_lengths, padded_features, padded_lens)"
   ]
  },
  {
   "cell_type": "code",
   "execution_count": 20,
   "metadata": {},
   "outputs": [
    {
     "data": {
      "text/plain": [
       "(<tf.Tensor 'generator/Tanh:0' shape=(?, ?, 1) dtype=float32>,\n",
       " <tf.Tensor 'transpose:0' shape=(?, ?, ?) dtype=float32>,\n",
       " <tf.Tensor 'ExpandDims:0' shape=(?, ?, 1) dtype=float32>,\n",
       " (<tf.Tensor 'residual_coupling_block/residual_coupling_layer/concat:0' shape=(?, ?, 192) dtype=float32>,\n",
       "  <tf.Tensor 'add:0' shape=(?, ?, 192) dtype=float32>,\n",
       "  <tf.Tensor 'MatMul:0' shape=(?, ?, 192) dtype=float32>,\n",
       "  <tf.Tensor 'MatMul_1:0' shape=(?, ?, 192) dtype=float32>))"
      ]
     },
     "execution_count": 20,
     "metadata": {},
     "output_type": "execute_result"
    }
   ],
   "source": [
    "outputs = model.infer(T, T_lengths)\n",
    "outputs"
   ]
  },
  {
   "cell_type": "code",
   "execution_count": 28,
   "metadata": {},
   "outputs": [
    {
     "data": {
      "text/plain": [
       "(<tf.Tensor 'generator/Tanh:0' shape=(?, ?, 1) dtype=float32>,\n",
       " <tf.Tensor 'transpose:0' shape=(?, ?, ?) dtype=float32>)"
      ]
     },
     "execution_count": 28,
     "metadata": {},
     "output_type": "execute_result"
    }
   ],
   "source": [
    "outputs[:2]"
   ]
  },
  {
   "cell_type": "code",
   "execution_count": 21,
   "metadata": {},
   "outputs": [],
   "source": [
    "from malaya_speech.train.model.vits import commons"
   ]
  },
  {
   "cell_type": "code",
   "execution_count": 22,
   "metadata": {},
   "outputs": [],
   "source": [
    "def kl_loss(z_p, logs_q, m_p, logs_p, z_mask):\n",
    "    kl = logs_p - logs_q - 0.5\n",
    "    kl += 0.5 * ((z_p - m_p)**2) * tf.exp(-2. * logs_p)\n",
    "    kl = tf.reduce_sum(kl * z_mask)\n",
    "    l = kl / tf.reduce_sum(z_mask)\n",
    "    return l\n",
    "\n",
    "loss_kl = kl_loss(z_p, logs_q, m_p, logs_p, z_mask) * hparams.train.c_kl"
   ]
  },
  {
   "cell_type": "code",
   "execution_count": 23,
   "metadata": {},
   "outputs": [
    {
     "data": {
      "text/plain": [
       "(TensorShape([Dimension(None), Dimension(None), Dimension(192)]),\n",
       " TensorShape([Dimension(None), Dimension(None), Dimension(192)]))"
      ]
     },
     "execution_count": 23,
     "metadata": {},
     "output_type": "execute_result"
    }
   ],
   "source": [
    "z_p.shape, m_p.shape"
   ]
  },
  {
   "cell_type": "code",
   "execution_count": 24,
   "metadata": {},
   "outputs": [],
   "source": [
    "loss_dur = tf.reduce_sum(l_length)"
   ]
  },
  {
   "cell_type": "code",
   "execution_count": 25,
   "metadata": {},
   "outputs": [
    {
     "data": {
      "text/plain": [
       "(<tf.Tensor 'mul_21:0' shape=() dtype=float32>,\n",
       " <tf.Tensor 'Sum_4:0' shape=() dtype=float32>)"
      ]
     },
     "execution_count": 25,
     "metadata": {},
     "output_type": "execute_result"
    }
   ],
   "source": [
    "loss_kl, loss_dur"
   ]
  },
  {
   "cell_type": "code",
   "execution_count": 26,
   "metadata": {},
   "outputs": [],
   "source": [
    "optimizer = malaya_speech.train.optimizer.adamw.create_optimizer(loss_kl + loss_dur, 1e-4, 10000, 1000)"
   ]
  },
  {
   "cell_type": "code",
   "execution_count": 27,
   "metadata": {},
   "outputs": [],
   "source": [
    "sess = tf.Session()\n",
    "sess.run(tf.global_variables_initializer())"
   ]
  },
  {
   "cell_type": "code",
   "execution_count": 30,
   "metadata": {},
   "outputs": [],
   "source": [
    "o_ = sess.run(outputs[:2], feed_dict = {T: y, T_lengths: y_len})\n",
    "o_[0].shape, o_[1].shape"
   ]
  },
  {
   "cell_type": "code",
   "execution_count": 31,
   "metadata": {},
   "outputs": [
    {
     "data": {
      "text/plain": [
       "((2, 15616, 1), (2, 61, 61))"
      ]
     },
     "execution_count": 31,
     "metadata": {},
     "output_type": "execute_result"
    }
   ],
   "source": [
    "o_[0].shape, o_[1].shape"
   ]
  },
  {
   "cell_type": "code",
   "execution_count": 33,
   "metadata": {},
   "outputs": [
    {
     "name": "stdout",
     "output_type": "stream",
     "text": [
      "0 [51544.19, 9.168989, None]\n",
      "1 [41915.035, 9.62646, None]\n",
      "2 [36852.77, 9.57003, None]\n",
      "3 [38734.258, 7.606784, None]\n",
      "4 [29665.8, 8.324625, None]\n",
      "5 [24615.021, 8.29758, None]\n",
      "6 [18310.604, 9.107053, None]\n",
      "7 [14995.623, 10.621237, None]\n",
      "8 [11428.391, 9.412462, None]\n",
      "9 [9430.883, 10.378833, None]\n",
      "10 [7287.7007, 7.838971, None]\n",
      "11 [5100.747, 10.144326, None]\n",
      "12 [4324.5845, 9.158051, None]\n",
      "13 [3318.5347, 8.06123, None]\n",
      "14 [2644.5652, 7.010334, None]\n",
      "15 [1980.0608, 7.7255516, None]\n",
      "16 [1621.77, 6.74211, None]\n",
      "17 [1371.23, 5.651843, None]\n",
      "18 [1055.5049, 7.013368, None]\n",
      "19 [909.50305, 5.644163, None]\n",
      "20 [735.5644, 6.1008005, None]\n",
      "21 [644.1857, 4.916815, None]\n",
      "22 [560.1258, 5.2424135, None]\n",
      "23 [493.04727, 5.932761, None]\n",
      "24 [448.78198, 5.039339, None]\n",
      "25 [389.4655, 4.6366715, None]\n",
      "26 [354.9195, 5.818202, None]\n",
      "27 [322.6205, 4.1776686, None]\n",
      "28 [301.2597, 4.943224, None]\n",
      "29 [278.6023, 4.06209, None]\n",
      "30 [262.08142, 5.2701607, None]\n",
      "31 [246.40277, 3.4813304, None]\n",
      "32 [233.30838, 4.1537075, None]\n",
      "33 [221.51807, 4.3063335, None]\n",
      "34 [210.01132, 5.257142, None]\n",
      "35 [196.62027, 4.5950775, None]\n",
      "36 [188.21968, 3.826606, None]\n",
      "37 [176.6676, 5.082305, None]\n",
      "38 [170.73454, 4.349389, None]\n",
      "39 [161.84273, 4.082911, None]\n",
      "40 [154.47774, 3.5890555, None]\n",
      "41 [147.98898, 3.5017738, None]\n",
      "42 [139.997, 3.9496899, None]\n",
      "43 [132.95776, 4.008934, None]\n",
      "44 [128.13567, 4.277899, None]\n",
      "45 [122.08607, 4.334291, None]\n",
      "46 [116.88207, 4.000583, None]\n",
      "47 [111.61916, 4.389103, None]\n",
      "48 [107.346596, 4.7220774, None]\n",
      "49 [102.10768, 4.3008337, None]\n",
      "50 [99.20077, 4.671585, None]\n",
      "51 [92.95197, 3.7496152, None]\n",
      "52 [90.24603, 4.1757174, None]\n",
      "53 [85.442116, 3.760317, None]\n",
      "54 [82.91523, 4.8817253, None]\n",
      "55 [78.89871, 4.5786405, None]\n",
      "56 [76.56992, 3.718915, None]\n",
      "57 [72.87399, 3.5111847, None]\n",
      "58 [70.378685, 3.6634054, None]\n",
      "59 [68.09222, 3.6073234, None]\n",
      "60 [64.562836, 3.97272, None]\n",
      "61 [62.476204, 3.9672558, None]\n",
      "62 [59.648323, 4.00753, None]\n",
      "63 [57.190464, 3.3399172, None]\n",
      "64 [55.080498, 3.9167747, None]\n",
      "65 [51.74047, 3.3294234, None]\n",
      "66 [50.191483, 3.5133176, None]\n",
      "67 [49.77474, 3.362527, None]\n",
      "68 [47.856937, 3.0790472, None]\n",
      "69 [45.760735, 3.7428756, None]\n",
      "70 [43.048912, 2.7684755, None]\n",
      "71 [42.262386, 2.8152027, None]\n",
      "72 [41.76127, 3.209989, None]\n",
      "73 [39.181038, 3.3717365, None]\n",
      "74 [37.865757, 2.792879, None]\n",
      "75 [37.780827, 3.3706017, None]\n",
      "76 [35.51555, 2.6855521, None]\n",
      "77 [34.472065, 2.939046, None]\n",
      "78 [33.32424, 3.3475142, None]\n",
      "79 [33.100174, 2.25771, None]\n",
      "80 [33.292816, 2.8421447, None]\n",
      "81 [32.17359, 2.6204696, None]\n",
      "82 [29.720589, 2.362575, None]\n",
      "83 [28.84046, 2.7137032, None]\n",
      "84 [28.860798, 2.5629356, None]\n",
      "85 [28.2371, 2.5257711, None]\n",
      "86 [27.655771, 3.018387, None]\n",
      "87 [26.304949, 2.293768, None]\n",
      "88 [25.621899, 2.8328462, None]\n",
      "89 [25.326145, 1.834082, None]\n",
      "90 [24.69089, 2.8925247, None]\n",
      "91 [24.165457, 2.6882894, None]\n",
      "92 [24.289928, 2.3599427, None]\n",
      "93 [24.364828, 3.1657002, None]\n",
      "94 [23.524073, 2.2236888, None]\n",
      "95 [22.36761, 2.267312, None]\n",
      "96 [21.7675, 2.3573854, None]\n",
      "97 [22.185034, 2.7477732, None]\n",
      "98 [21.807926, 1.9978318, None]\n",
      "99 [21.49097, 2.4411745, None]\n"
     ]
    }
   ],
   "source": [
    "for i in range(100):\n",
    "    print(i, sess.run([loss_kl, loss_dur, optimizer], feed_dict = {X: x,\n",
    "                                                        X_len: x_len,\n",
    "                                                        T: y,\n",
    "                                                        T_lengths: y_len}))"
   ]
  },
  {
   "cell_type": "code",
   "execution_count": 34,
   "metadata": {},
   "outputs": [
    {
     "data": {
      "text/plain": [
       "((2, 32768, 1), (2, 128, 61))"
      ]
     },
     "execution_count": 34,
     "metadata": {},
     "output_type": "execute_result"
    }
   ],
   "source": [
    "o_ = sess.run(outputs[:2], feed_dict = {T: y, T_lengths: y_len})\n",
    "o_[0].shape, o_[1].shape"
   ]
  },
  {
   "cell_type": "code",
   "execution_count": 35,
   "metadata": {},
   "outputs": [],
   "source": [
    "import matplotlib.pyplot as plt"
   ]
  },
  {
   "cell_type": "code",
   "execution_count": 38,
   "metadata": {},
   "outputs": [
    {
     "data": {
      "image/png": "[encoded data removed]",
      "text/plain": [
       "<Figure size 576x432 with 2 Axes>"
      ]
     },
     "metadata": {
      "needs_background": "light"
     },
     "output_type": "display_data"
    }
   ],
   "source": [
    "fig = plt.figure(figsize=(8, 6))\n",
    "ax = fig.add_subplot(111)\n",
    "ax.set_title('Alignment steps')\n",
    "im = ax.imshow(\n",
    "    o_[1][1].T,\n",
    "    aspect='auto',\n",
    "    origin='lower',\n",
    "    interpolation='none')\n",
    "fig.colorbar(im, ax=ax)\n",
    "xlabel = 'Decoder timestep'\n",
    "plt.xlabel(xlabel)\n",
    "plt.ylabel('Encoder timestep')\n",
    "plt.tight_layout()\n",
    "plt.show()"
   ]
  },
  {
   "cell_type": "code",
   "execution_count": null,
   "metadata": {},
   "outputs": [],
   "source": []
  }
 ],
 "metadata": {
  "kernelspec": {
   "display_name": "Python 3",
   "language": "python",
   "name": "python3"
  },
  "language_info": {
   "codemirror_mode": {
    "name": "ipython",
    "version": 3
   },
   "file_extension": ".py",
   "mimetype": "text/x-python",
   "name": "python",
   "nbconvert_exporter": "python",
   "pygments_lexer": "ipython3",
   "version": "3.7.7"
  },
  "varInspector": {
   "cols": {
    "lenName": 16,
    "lenType": 16,
    "lenVar": 40
   },
   "kernels_config": {
    "python": {
     "delete_cmd_postfix": "",
     "delete_cmd_prefix": "del ",
     "library": "var_list.py",
     "varRefreshCmd": "print(var_dic_list())"
    },
    "r": {
     "delete_cmd_postfix": ") ",
     "delete_cmd_prefix": "rm(",
     "library": "var_list.r",
     "varRefreshCmd": "cat(var_dic_list()) "
    }
   },
   "types_to_exclude": [
    "module",
    "function",
    "builtin_function_or_method",
    "instance",
    "_Feature"
   ],
   "window_display": false
  }
 },
 "nbformat": 4,
 "nbformat_minor": 4
}

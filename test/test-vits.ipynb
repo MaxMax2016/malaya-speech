{
 "cells": [
  {
   "cell_type": "code",
   "execution_count": 1,
   "metadata": {},
   "outputs": [],
   "source": [
    "import os\n",
    "\n",
    "os.environ['CUDA_VISIBLE_DEVICES'] = '1'"
   ]
  },
  {
   "cell_type": "code",
   "execution_count": 2,
   "metadata": {},
   "outputs": [],
   "source": [
    "import sys\n",
    "\n",
    "SOURCE_DIR = os.path.dirname(os.path.dirname(os.path.abspath(__name__)))\n",
    "sys.path.insert(0, SOURCE_DIR)"
   ]
  },
  {
   "cell_type": "code",
   "execution_count": 3,
   "metadata": {},
   "outputs": [],
   "source": [
    "import tensorflow as tf\n",
    "tf.compat.v1.enable_eager_execution()"
   ]
  },
  {
   "cell_type": "code",
   "execution_count": 32,
   "metadata": {},
   "outputs": [],
   "source": [
    "import malaya_speech\n",
    "import malaya_speech.config\n",
    "from malaya_speech.train.model import vits, melgan, hifigan\n",
    "import tensorflow as tf\n",
    "import numpy as np\n",
    "import math\n",
    "import matplotlib.pyplot as plt\n",
    "from malaya_speech.train.loss import calculate_3d_loss"
   ]
  },
  {
   "cell_type": "code",
   "execution_count": 5,
   "metadata": {},
   "outputs": [
    {
     "data": {
      "text/plain": [
       "dict_keys(['mel', 'text_ids', 'len_mel', 'len_text_ids', 'stop_token_target', 'f0', 'len_f0', 'energy', 'len_energy', 'g'])"
      ]
     },
     "execution_count": 5,
     "metadata": {},
     "output_type": "execute_result"
    }
   ],
   "source": [
    "import pickle\n",
    "\n",
    "with open('dataset-mel.pkl', 'rb') as fopen:\n",
    "    data, d = pickle.load(fopen)\n",
    "    \n",
    "with open('dataset-mel-wav.pkl', 'rb') as fopen:\n",
    "    wav = pickle.load(fopen)\n",
    "    \n",
    "data.keys()"
   ]
  },
  {
   "cell_type": "code",
   "execution_count": 6,
   "metadata": {},
   "outputs": [
    {
     "data": {
      "text/plain": [
       "(1, 104448)"
      ]
     },
     "execution_count": 6,
     "metadata": {},
     "output_type": "execute_result"
    }
   ],
   "source": [
    "wav['wav'].shape"
   ]
  },
  {
   "cell_type": "code",
   "execution_count": 7,
   "metadata": {},
   "outputs": [],
   "source": [
    "config = vits.Config(mel = 80, vocabs = 66)"
   ]
  },
  {
   "cell_type": "code",
   "execution_count": 8,
   "metadata": {},
   "outputs": [],
   "source": [
    "model = vits.Model(config)"
   ]
  },
  {
   "cell_type": "code",
   "execution_count": 9,
   "metadata": {},
   "outputs": [
    {
     "data": {
      "text/plain": [
       "TensorShape([Dimension(2), Dimension(104448)])"
      ]
     },
     "execution_count": 9,
     "metadata": {},
     "output_type": "execute_result"
    }
   ],
   "source": [
    "i = tf.convert_to_tensor([data['text_ids'][0],data['text_ids'][0]])\n",
    "i_lengths = tf.convert_to_tensor([data['len_text_ids'][0,0], data['len_text_ids'][0,0]])\n",
    "mel_outputs = tf.convert_to_tensor([data['mel'].astype(np.float32)[0],data['mel'].astype(np.float32)[0]])\n",
    "mel_lengths = tf.convert_to_tensor([408,408])\n",
    "wavs = tf.convert_to_tensor([wav['wav'].astype(np.float32)] * 2)[:,0]\n",
    "wavs.shape"
   ]
  },
  {
   "cell_type": "code",
   "execution_count": 10,
   "metadata": {},
   "outputs": [],
   "source": [
    "# i = tf.placeholder(tf.int32, [None, None])\n",
    "# i_lengths = tf.placeholder(tf.int32, [None])\n",
    "# mel_outputs = tf.placeholder(tf.float32, [None, None, 80])\n",
    "# mel_lengths = tf.placeholder(tf.int32, [None])"
   ]
  },
  {
   "cell_type": "code",
   "execution_count": 11,
   "metadata": {},
   "outputs": [
    {
     "name": "stdout",
     "output_type": "stream",
     "text": [
      "WARNING:tensorflow:From /Users/huseinzolkepli/Documents/malaya-speech/malaya_speech/train/model/utils.py:469: The name tf.debugging.assert_equal is deprecated. Please use tf.compat.v1.debugging.assert_equal instead.\n",
      "\n",
      "WARNING:tensorflow:From /Users/huseinzolkepli/Documents/malaya-speech/malaya_speech/train/model/vits/model.py:267: where (from tensorflow.python.ops.array_ops) is deprecated and will be removed in a future version.\n",
      "Instructions for updating:\n",
      "Use tf.where in 2.0, which has the same broadcast rule as np.where\n"
     ]
    },
    {
     "data": {
      "text/plain": [
       "(<tf.Tensor: id=41685, shape=(), dtype=float32, numpy=2.013537>,\n",
       " {'nll': <tf.Tensor: id=41415, shape=(), dtype=float32, numpy=1.7886044>,\n",
       "  'durloss': <tf.Tensor: id=41614, shape=(), dtype=float32, numpy=0.22493249>},\n",
       " <tf.Tensor: id=41396, shape=(2, 408, 72), dtype=float32, numpy=\n",
       " array([[[1., 0., 0., ..., 0., 0., 0.],\n",
       "         [1., 0., 0., ..., 0., 0., 0.],\n",
       "         [1., 0., 0., ..., 0., 0., 0.],\n",
       "         ...,\n",
       "         [0., 0., 0., ..., 1., 0., 0.],\n",
       "         [0., 0., 0., ..., 0., 1., 0.],\n",
       "         [0., 0., 0., ..., 0., 0., 1.]],\n",
       " \n",
       "        [[1., 0., 0., ..., 0., 0., 0.],\n",
       "         [1., 0., 0., ..., 0., 0., 0.],\n",
       "         [0., 1., 0., ..., 0., 0., 0.],\n",
       "         ...,\n",
       "         [0., 0., 0., ..., 1., 0., 0.],\n",
       "         [0., 0., 0., ..., 0., 1., 0.],\n",
       "         [0., 0., 0., ..., 0., 0., 1.]]], dtype=float32)>)"
      ]
     },
     "execution_count": 11,
     "metadata": {},
     "output_type": "execute_result"
    }
   ],
   "source": [
    "losses, attn, latent, mel_hat, ids_slice = model.compute_loss(text = i, textlen = i_lengths, mel = mel_outputs, mellen = mel_lengths)\n",
    "loss = losses['nll'] + losses['durloss']\n",
    "loss, losses, attn"
   ]
  },
  {
   "cell_type": "code",
   "execution_count": 12,
   "metadata": {},
   "outputs": [],
   "source": [
    "mel = vits.slice_segments(mel_outputs, ids_slice, model.segment_size // model.hop_size, np.log(1e-2))"
   ]
  },
  {
   "cell_type": "code",
   "execution_count": 13,
   "metadata": {},
   "outputs": [],
   "source": [
    "y = vits.slice_segments(tf.expand_dims(wavs, -1), ids_slice * model.hop_size, model.segment_size)"
   ]
  },
  {
   "cell_type": "code",
   "execution_count": 14,
   "metadata": {},
   "outputs": [
    {
     "data": {
      "text/plain": [
       "<tf.Tensor: id=41797, shape=(2, 104448, 1), dtype=float32, numpy=\n",
       "array([[[-0.00032019],\n",
       "        [-0.00045306],\n",
       "        [-0.00029016],\n",
       "        ...,\n",
       "        [ 0.        ],\n",
       "        [ 0.        ],\n",
       "        [ 0.        ]],\n",
       "\n",
       "       [[ 0.05932664],\n",
       "        [ 0.04855074],\n",
       "        [ 0.0359837 ],\n",
       "        ...,\n",
       "        [ 0.        ],\n",
       "        [ 0.        ],\n",
       "        [ 0.        ]]], dtype=float32)>"
      ]
     },
     "execution_count": 14,
     "metadata": {},
     "output_type": "execute_result"
    }
   ],
   "source": [
    "y"
   ]
  },
  {
   "cell_type": "code",
   "execution_count": 19,
   "metadata": {},
   "outputs": [],
   "source": [
    "hifigan_config = malaya_speech.config.hifigan_config\n",
    "generator = hifigan.Generator(\n",
    "    hifigan.GeneratorConfig(**hifigan_config['hifigan_generator_params']),\n",
    "    name='hifigan_generator',\n",
    ")\n",
    "multiperiod_discriminator = hifigan.MultiPeriodDiscriminator(\n",
    "    hifigan.DiscriminatorConfig(\n",
    "        **hifigan_config['hifigan_discriminator_params']\n",
    "    ),\n",
    "    name='hifigan_multiperiod_discriminator',\n",
    ")\n",
    "multiscale_discriminator = melgan.MultiScaleDiscriminator(\n",
    "    melgan.DiscriminatorConfig(\n",
    "        **hifigan_config['melgan_discriminator_params'],\n",
    "        name='melgan_multiscale_discriminator',\n",
    "    )\n",
    ")\n",
    "discriminator = hifigan.Discriminator(\n",
    "    multiperiod_discriminator, multiscale_discriminator\n",
    ")"
   ]
  },
  {
   "cell_type": "code",
   "execution_count": 22,
   "metadata": {},
   "outputs": [
    {
     "data": {
      "text/plain": [
       "TensorShape([Dimension(2), Dimension(104448), Dimension(1)])"
      ]
     },
     "execution_count": 22,
     "metadata": {},
     "output_type": "execute_result"
    }
   ],
   "source": [
    "y_hat = generator(mel_hat, training = True)\n",
    "y_hat.shape"
   ]
  },
  {
   "cell_type": "code",
   "execution_count": 25,
   "metadata": {},
   "outputs": [
    {
     "data": {
      "text/plain": [
       "(TensorShape([Dimension(2), Dimension(104448), Dimension(1)]),\n",
       " TensorShape([Dimension(2), Dimension(104448), Dimension(1)]))"
      ]
     },
     "execution_count": 25,
     "metadata": {},
     "output_type": "execute_result"
    }
   ],
   "source": [
    "y.shape, y_hat.shape"
   ]
  },
  {
   "cell_type": "code",
   "execution_count": 28,
   "metadata": {},
   "outputs": [],
   "source": [
    "# p = discriminator(y)\n",
    "# p_hat = discriminator(y_hat)\n",
    "\n",
    "# real_loss = 0.0\n",
    "# fake_loss = 0.0\n",
    "# for i in range(len(p)):\n",
    "#     real_loss += calculate_3d_loss(\n",
    "#         tf.ones_like(p[i][-1]), p[i][-1], loss_fn=mse_loss\n",
    "#     )\n",
    "#     fake_loss += calculate_3d_loss(\n",
    "#         tf.zeros_like(p_hat[i][-1]), p_hat[i][-1], loss_fn=mse_loss\n",
    "#     )\n",
    "# real_loss /= i + 1\n",
    "# fake_loss /= i + 1\n",
    "# dis_loss = real_loss + fake_loss"
   ]
  },
  {
   "cell_type": "code",
   "execution_count": 34,
   "metadata": {},
   "outputs": [],
   "source": [
    "mae_loss = tf.keras.losses.MeanAbsoluteError()\n",
    "\n",
    "# p = discriminator(y)\n",
    "# p_hat = discriminator(y_hat)\n",
    "\n",
    "# adv_loss = 0.0\n",
    "# for i in range(len(p_hat)):\n",
    "#     adv_loss += calculate_3d_loss(\n",
    "#         tf.ones_like(p_hat[i][-1]), p_hat[i][-1], loss_fn=mse_loss\n",
    "#     )\n",
    "# adv_loss /= i + 1\n",
    "\n",
    "# fm_loss = 0.0\n",
    "# for i in range(len(p_hat)):\n",
    "#     for j in range(len(p_hat[i]) - 1):\n",
    "#         fm_loss += calculate_3d_loss(\n",
    "#             p[i][j], p_hat[i][j], loss_fn=mae_loss\n",
    "#         )\n",
    "\n",
    "# fm_loss /= (i + 1) * (j + 1)\n",
    "# adv_loss += 1.0 * fm_loss\n",
    "# generator_loss = 1.0 * adv_loss\n",
    "\n",
    "mel_loss = calculate_3d_loss(mel, mel_hat, loss_fn=mae_loss)"
   ]
  },
  {
   "cell_type": "code",
   "execution_count": 35,
   "metadata": {},
   "outputs": [
    {
     "data": {
      "text/plain": [
       "(<tf.Tensor: id=55092, shape=(2, 72, 80), dtype=float32, numpy=\n",
       " array([[[ 1.3382952 , -2.3203902 , -0.05735631, ..., -2.0966027 ,\n",
       "           1.1668291 , -3.0503705 ],\n",
       "         [ 0.91121674, -2.056521  , -0.6015806 , ..., -1.854808  ,\n",
       "           1.0289947 , -3.2254581 ],\n",
       "         [ 1.1407169 , -2.5102491 , -0.2700694 , ..., -1.6935581 ,\n",
       "           0.53416264, -2.4997473 ],\n",
       "         ...,\n",
       "         [ 1.166632  , -2.294219  , -0.24967219, ..., -2.1218557 ,\n",
       "           0.37705684, -2.1272073 ],\n",
       "         [ 0.9751956 , -1.3155334 , -0.3481895 , ..., -2.3949215 ,\n",
       "           0.23429692, -2.4079933 ],\n",
       "         [ 0.87337714, -2.344386  , -0.31554428, ..., -2.1807084 ,\n",
       "           1.1234126 , -2.752566  ]],\n",
       " \n",
       "        [[ 1.4086277 , -2.0349698 , -0.1914409 , ..., -2.3998785 ,\n",
       "           1.1674811 , -3.0897782 ],\n",
       "         [ 0.63280755, -2.0530264 ,  0.1899319 , ..., -1.4064708 ,\n",
       "           1.2321851 , -3.3552773 ],\n",
       "         [ 1.427983  , -2.0271006 ,  0.22411273, ..., -2.2650537 ,\n",
       "           1.296613  , -2.4921522 ],\n",
       "         ...,\n",
       "         [ 0.97170883, -2.4251585 , -0.35443234, ..., -1.9481248 ,\n",
       "           1.2428782 , -2.570922  ],\n",
       "         [ 0.6137315 , -1.8322895 , -0.27009296, ..., -2.4626956 ,\n",
       "           0.7174928 , -2.243503  ],\n",
       "         [ 0.52028024, -2.2372756 ,  0.10896051, ..., -2.4138367 ,\n",
       "           0.673552  , -2.9884584 ]]], dtype=float32)>,\n",
       " <tf.Tensor: id=55095, shape=(2,), dtype=int32, numpy=array([72, 72], dtype=int32)>,\n",
       " <tf.Tensor: id=50385, shape=(2, 72, 72), dtype=float32, numpy=\n",
       " array([[[1., 0., 0., ..., 0., 0., 0.],\n",
       "         [0., 1., 0., ..., 0., 0., 0.],\n",
       "         [0., 0., 1., ..., 0., 0., 0.],\n",
       "         ...,\n",
       "         [0., 0., 0., ..., 1., 0., 0.],\n",
       "         [0., 0., 0., ..., 0., 1., 0.],\n",
       "         [0., 0., 0., ..., 0., 0., 1.]],\n",
       " \n",
       "        [[1., 0., 0., ..., 0., 0., 0.],\n",
       "         [0., 1., 0., ..., 0., 0., 0.],\n",
       "         [0., 0., 1., ..., 0., 0., 0.],\n",
       "         ...,\n",
       "         [0., 0., 0., ..., 1., 0., 0.],\n",
       "         [0., 0., 0., ..., 0., 1., 0.],\n",
       "         [0., 0., 0., ..., 0., 0., 1.]]], dtype=float32)>)"
      ]
     },
     "execution_count": 35,
     "metadata": {},
     "output_type": "execute_result"
    }
   ],
   "source": [
    "mel_, mellen_, attn_out = model(inputs = i, lengths = i_lengths)\n",
    "mel_, mellen_, attn_out"
   ]
  },
  {
   "cell_type": "code",
   "execution_count": 36,
   "metadata": {},
   "outputs": [],
   "source": [
    "# optimizer = tf.train.AdamOptimizer(learning_rate = 1e-6, beta1 = 0.9, \n",
    "#                                    beta2 = 0.98, epsilon = 1e-9).minimize(loss)"
   ]
  },
  {
   "cell_type": "code",
   "execution_count": 38,
   "metadata": {},
   "outputs": [],
   "source": [
    "optimizer = tf.train.AdamOptimizer(learning_rate = 1e-4, beta1 = 0.9, \n",
    "                                   beta2 = 0.98, epsilon = 1e-9)"
   ]
  },
  {
   "cell_type": "code",
   "execution_count": 39,
   "metadata": {},
   "outputs": [
    {
     "name": "stdout",
     "output_type": "stream",
     "text": [
      "0 {'nll': <tf.Tensor: id=79411, shape=(), dtype=float32, numpy=1.7853608>, 'durloss': <tf.Tensor: id=79505, shape=(), dtype=float32, numpy=0.21968488>}\n",
      "1 {'nll': <tf.Tensor: id=133129, shape=(), dtype=float32, numpy=1.2437187>, 'durloss': <tf.Tensor: id=133223, shape=(), dtype=float32, numpy=0.19173023>}\n",
      "2 {'nll': <tf.Tensor: id=173546, shape=(), dtype=float32, numpy=0.91510737>, 'durloss': <tf.Tensor: id=173640, shape=(), dtype=float32, numpy=0.22489491>}\n",
      "3 {'nll': <tf.Tensor: id=213963, shape=(), dtype=float32, numpy=0.76319677>, 'durloss': <tf.Tensor: id=214057, shape=(), dtype=float32, numpy=0.21980402>}\n",
      "4 {'nll': <tf.Tensor: id=254380, shape=(), dtype=float32, numpy=0.64597>, 'durloss': <tf.Tensor: id=254474, shape=(), dtype=float32, numpy=0.21788907>}\n",
      "5 {'nll': <tf.Tensor: id=294797, shape=(), dtype=float32, numpy=0.5251219>, 'durloss': <tf.Tensor: id=294891, shape=(), dtype=float32, numpy=0.2176168>}\n",
      "6 {'nll': <tf.Tensor: id=335214, shape=(), dtype=float32, numpy=0.4347808>, 'durloss': <tf.Tensor: id=335308, shape=(), dtype=float32, numpy=0.23692562>}\n",
      "7 {'nll': <tf.Tensor: id=375631, shape=(), dtype=float32, numpy=0.38344282>, 'durloss': <tf.Tensor: id=375725, shape=(), dtype=float32, numpy=0.23673895>}\n",
      "8 {'nll': <tf.Tensor: id=416048, shape=(), dtype=float32, numpy=0.35578203>, 'durloss': <tf.Tensor: id=416142, shape=(), dtype=float32, numpy=0.24078569>}\n",
      "9 {'nll': <tf.Tensor: id=456465, shape=(), dtype=float32, numpy=0.3470605>, 'durloss': <tf.Tensor: id=456559, shape=(), dtype=float32, numpy=0.2341957>}\n",
      "10 {'nll': <tf.Tensor: id=496882, shape=(), dtype=float32, numpy=0.32931048>, 'durloss': <tf.Tensor: id=496976, shape=(), dtype=float32, numpy=0.21625444>}\n",
      "11 {'nll': <tf.Tensor: id=537299, shape=(), dtype=float32, numpy=0.32508144>, 'durloss': <tf.Tensor: id=537393, shape=(), dtype=float32, numpy=0.18708822>}\n",
      "12 {'nll': <tf.Tensor: id=577716, shape=(), dtype=float32, numpy=0.31543976>, 'durloss': <tf.Tensor: id=577810, shape=(), dtype=float32, numpy=0.17759296>}\n",
      "13 {'nll': <tf.Tensor: id=618133, shape=(), dtype=float32, numpy=0.3116977>, 'durloss': <tf.Tensor: id=618227, shape=(), dtype=float32, numpy=0.22519974>}\n",
      "14 {'nll': <tf.Tensor: id=658550, shape=(), dtype=float32, numpy=0.30790877>, 'durloss': <tf.Tensor: id=658644, shape=(), dtype=float32, numpy=0.22327304>}\n",
      "15 {'nll': <tf.Tensor: id=698967, shape=(), dtype=float32, numpy=0.298907>, 'durloss': <tf.Tensor: id=699061, shape=(), dtype=float32, numpy=0.20779538>}\n",
      "16 {'nll': <tf.Tensor: id=739384, shape=(), dtype=float32, numpy=0.29854864>, 'durloss': <tf.Tensor: id=739478, shape=(), dtype=float32, numpy=0.2073257>}\n",
      "17 {'nll': <tf.Tensor: id=779801, shape=(), dtype=float32, numpy=0.2898717>, 'durloss': <tf.Tensor: id=779895, shape=(), dtype=float32, numpy=0.22855806>}\n",
      "18 {'nll': <tf.Tensor: id=820218, shape=(), dtype=float32, numpy=0.28982526>, 'durloss': <tf.Tensor: id=820312, shape=(), dtype=float32, numpy=0.2109291>}\n",
      "19 {'nll': <tf.Tensor: id=860635, shape=(), dtype=float32, numpy=0.2881289>, 'durloss': <tf.Tensor: id=860729, shape=(), dtype=float32, numpy=0.21969637>}\n",
      "20 {'nll': <tf.Tensor: id=901052, shape=(), dtype=float32, numpy=0.2863621>, 'durloss': <tf.Tensor: id=901146, shape=(), dtype=float32, numpy=0.19786191>}\n",
      "21 {'nll': <tf.Tensor: id=941469, shape=(), dtype=float32, numpy=0.28274637>, 'durloss': <tf.Tensor: id=941563, shape=(), dtype=float32, numpy=0.23821825>}\n",
      "22 {'nll': <tf.Tensor: id=981886, shape=(), dtype=float32, numpy=0.2830875>, 'durloss': <tf.Tensor: id=981980, shape=(), dtype=float32, numpy=0.20487803>}\n",
      "23 {'nll': <tf.Tensor: id=1022303, shape=(), dtype=float32, numpy=0.27985314>, 'durloss': <tf.Tensor: id=1022397, shape=(), dtype=float32, numpy=0.19694732>}\n",
      "24 {'nll': <tf.Tensor: id=1062720, shape=(), dtype=float32, numpy=0.2769944>, 'durloss': <tf.Tensor: id=1062814, shape=(), dtype=float32, numpy=0.20974049>}\n",
      "25 {'nll': <tf.Tensor: id=1103137, shape=(), dtype=float32, numpy=0.27470684>, 'durloss': <tf.Tensor: id=1103231, shape=(), dtype=float32, numpy=0.20069548>}\n",
      "26 {'nll': <tf.Tensor: id=1143554, shape=(), dtype=float32, numpy=0.27073258>, 'durloss': <tf.Tensor: id=1143648, shape=(), dtype=float32, numpy=0.20737004>}\n",
      "27 {'nll': <tf.Tensor: id=1183971, shape=(), dtype=float32, numpy=0.2733645>, 'durloss': <tf.Tensor: id=1184065, shape=(), dtype=float32, numpy=0.20152771>}\n",
      "28 {'nll': <tf.Tensor: id=1224388, shape=(), dtype=float32, numpy=0.27059644>, 'durloss': <tf.Tensor: id=1224482, shape=(), dtype=float32, numpy=0.19755937>}\n",
      "29 {'nll': <tf.Tensor: id=1264805, shape=(), dtype=float32, numpy=0.2656884>, 'durloss': <tf.Tensor: id=1264899, shape=(), dtype=float32, numpy=0.21156484>}\n",
      "30 {'nll': <tf.Tensor: id=1305222, shape=(), dtype=float32, numpy=0.2674091>, 'durloss': <tf.Tensor: id=1305316, shape=(), dtype=float32, numpy=0.20239198>}\n",
      "31 {'nll': <tf.Tensor: id=1345639, shape=(), dtype=float32, numpy=0.27002108>, 'durloss': <tf.Tensor: id=1345733, shape=(), dtype=float32, numpy=0.19962111>}\n",
      "32 {'nll': <tf.Tensor: id=1386056, shape=(), dtype=float32, numpy=0.2689104>, 'durloss': <tf.Tensor: id=1386150, shape=(), dtype=float32, numpy=0.20284581>}\n",
      "33 {'nll': <tf.Tensor: id=1426473, shape=(), dtype=float32, numpy=0.26986408>, 'durloss': <tf.Tensor: id=1426567, shape=(), dtype=float32, numpy=0.19143285>}\n",
      "34 {'nll': <tf.Tensor: id=1466890, shape=(), dtype=float32, numpy=0.26691824>, 'durloss': <tf.Tensor: id=1466984, shape=(), dtype=float32, numpy=0.21330465>}\n",
      "35 {'nll': <tf.Tensor: id=1507307, shape=(), dtype=float32, numpy=0.26972026>, 'durloss': <tf.Tensor: id=1507401, shape=(), dtype=float32, numpy=0.19521138>}\n",
      "36 {'nll': <tf.Tensor: id=1547724, shape=(), dtype=float32, numpy=0.26210132>, 'durloss': <tf.Tensor: id=1547818, shape=(), dtype=float32, numpy=0.20884094>}\n",
      "37 {'nll': <tf.Tensor: id=1588141, shape=(), dtype=float32, numpy=0.26373032>, 'durloss': <tf.Tensor: id=1588235, shape=(), dtype=float32, numpy=0.20933394>}\n",
      "38 {'nll': <tf.Tensor: id=1628558, shape=(), dtype=float32, numpy=0.2673865>, 'durloss': <tf.Tensor: id=1628652, shape=(), dtype=float32, numpy=0.20465602>}\n",
      "39 {'nll': <tf.Tensor: id=1668975, shape=(), dtype=float32, numpy=0.2651062>, 'durloss': <tf.Tensor: id=1669069, shape=(), dtype=float32, numpy=0.18742707>}\n",
      "40 {'nll': <tf.Tensor: id=1709392, shape=(), dtype=float32, numpy=0.2655453>, 'durloss': <tf.Tensor: id=1709486, shape=(), dtype=float32, numpy=0.21031213>}\n",
      "41 {'nll': <tf.Tensor: id=1749809, shape=(), dtype=float32, numpy=0.26230812>, 'durloss': <tf.Tensor: id=1749903, shape=(), dtype=float32, numpy=0.19086286>}\n",
      "42 {'nll': <tf.Tensor: id=1790226, shape=(), dtype=float32, numpy=0.26499438>, 'durloss': <tf.Tensor: id=1790320, shape=(), dtype=float32, numpy=0.21048453>}\n",
      "43 {'nll': <tf.Tensor: id=1830643, shape=(), dtype=float32, numpy=0.26079264>, 'durloss': <tf.Tensor: id=1830737, shape=(), dtype=float32, numpy=0.18448094>}\n",
      "44 {'nll': <tf.Tensor: id=1871060, shape=(), dtype=float32, numpy=0.2624764>, 'durloss': <tf.Tensor: id=1871154, shape=(), dtype=float32, numpy=0.21001336>}\n",
      "45 {'nll': <tf.Tensor: id=1911477, shape=(), dtype=float32, numpy=0.26352322>, 'durloss': <tf.Tensor: id=1911571, shape=(), dtype=float32, numpy=0.19019032>}\n",
      "46 {'nll': <tf.Tensor: id=1951894, shape=(), dtype=float32, numpy=0.26502937>, 'durloss': <tf.Tensor: id=1951988, shape=(), dtype=float32, numpy=0.20383388>}\n",
      "47 {'nll': <tf.Tensor: id=1992311, shape=(), dtype=float32, numpy=0.2646296>, 'durloss': <tf.Tensor: id=1992405, shape=(), dtype=float32, numpy=0.1905548>}\n",
      "48 {'nll': <tf.Tensor: id=2032728, shape=(), dtype=float32, numpy=0.25992745>, 'durloss': <tf.Tensor: id=2032822, shape=(), dtype=float32, numpy=0.21582125>}\n",
      "49 {'nll': <tf.Tensor: id=2073145, shape=(), dtype=float32, numpy=0.26274008>, 'durloss': <tf.Tensor: id=2073239, shape=(), dtype=float32, numpy=0.20181218>}\n",
      "50 {'nll': <tf.Tensor: id=2113562, shape=(), dtype=float32, numpy=0.2606781>, 'durloss': <tf.Tensor: id=2113656, shape=(), dtype=float32, numpy=0.18932746>}\n",
      "51 {'nll': <tf.Tensor: id=2153979, shape=(), dtype=float32, numpy=0.26082295>, 'durloss': <tf.Tensor: id=2154073, shape=(), dtype=float32, numpy=0.20317188>}\n",
      "52 {'nll': <tf.Tensor: id=2194396, shape=(), dtype=float32, numpy=0.26182944>, 'durloss': <tf.Tensor: id=2194490, shape=(), dtype=float32, numpy=0.18370596>}\n"
     ]
    },
    {
     "name": "stdout",
     "output_type": "stream",
     "text": [
      "53 {'nll': <tf.Tensor: id=2234813, shape=(), dtype=float32, numpy=0.25852984>, 'durloss': <tf.Tensor: id=2234907, shape=(), dtype=float32, numpy=0.19974402>}\n",
      "54 {'nll': <tf.Tensor: id=2275230, shape=(), dtype=float32, numpy=0.26121074>, 'durloss': <tf.Tensor: id=2275324, shape=(), dtype=float32, numpy=0.21683714>}\n",
      "55 {'nll': <tf.Tensor: id=2315647, shape=(), dtype=float32, numpy=0.26133424>, 'durloss': <tf.Tensor: id=2315741, shape=(), dtype=float32, numpy=0.20105423>}\n",
      "56 {'nll': <tf.Tensor: id=2356064, shape=(), dtype=float32, numpy=0.2605756>, 'durloss': <tf.Tensor: id=2356158, shape=(), dtype=float32, numpy=0.20217243>}\n",
      "57 {'nll': <tf.Tensor: id=2396481, shape=(), dtype=float32, numpy=0.26237714>, 'durloss': <tf.Tensor: id=2396575, shape=(), dtype=float32, numpy=0.20868622>}\n",
      "58 {'nll': <tf.Tensor: id=2436898, shape=(), dtype=float32, numpy=0.26067123>, 'durloss': <tf.Tensor: id=2436992, shape=(), dtype=float32, numpy=0.20356953>}\n",
      "59 {'nll': <tf.Tensor: id=2477315, shape=(), dtype=float32, numpy=0.26158425>, 'durloss': <tf.Tensor: id=2477409, shape=(), dtype=float32, numpy=0.197925>}\n",
      "60 {'nll': <tf.Tensor: id=2517732, shape=(), dtype=float32, numpy=0.25927302>, 'durloss': <tf.Tensor: id=2517826, shape=(), dtype=float32, numpy=0.19399118>}\n",
      "61 {'nll': <tf.Tensor: id=2558149, shape=(), dtype=float32, numpy=0.2624475>, 'durloss': <tf.Tensor: id=2558243, shape=(), dtype=float32, numpy=0.21596307>}\n",
      "62 {'nll': <tf.Tensor: id=2598566, shape=(), dtype=float32, numpy=0.2595268>, 'durloss': <tf.Tensor: id=2598660, shape=(), dtype=float32, numpy=0.1861023>}\n",
      "63 {'nll': <tf.Tensor: id=2638983, shape=(), dtype=float32, numpy=0.26186347>, 'durloss': <tf.Tensor: id=2639077, shape=(), dtype=float32, numpy=0.19540626>}\n",
      "64 {'nll': <tf.Tensor: id=2679400, shape=(), dtype=float32, numpy=0.2618907>, 'durloss': <tf.Tensor: id=2679494, shape=(), dtype=float32, numpy=0.20205301>}\n",
      "65 {'nll': <tf.Tensor: id=2719817, shape=(), dtype=float32, numpy=0.2627619>, 'durloss': <tf.Tensor: id=2719911, shape=(), dtype=float32, numpy=0.19029158>}\n",
      "66 {'nll': <tf.Tensor: id=2760234, shape=(), dtype=float32, numpy=0.26252848>, 'durloss': <tf.Tensor: id=2760328, shape=(), dtype=float32, numpy=0.19328558>}\n",
      "67 {'nll': <tf.Tensor: id=2800651, shape=(), dtype=float32, numpy=0.26078677>, 'durloss': <tf.Tensor: id=2800745, shape=(), dtype=float32, numpy=0.20239332>}\n",
      "68 {'nll': <tf.Tensor: id=2841068, shape=(), dtype=float32, numpy=0.26179823>, 'durloss': <tf.Tensor: id=2841162, shape=(), dtype=float32, numpy=0.19438028>}\n",
      "69 {'nll': <tf.Tensor: id=2881485, shape=(), dtype=float32, numpy=0.26062864>, 'durloss': <tf.Tensor: id=2881579, shape=(), dtype=float32, numpy=0.21333328>}\n",
      "70 {'nll': <tf.Tensor: id=2921902, shape=(), dtype=float32, numpy=0.26027092>, 'durloss': <tf.Tensor: id=2921996, shape=(), dtype=float32, numpy=0.19795325>}\n",
      "71 {'nll': <tf.Tensor: id=2962319, shape=(), dtype=float32, numpy=0.26255128>, 'durloss': <tf.Tensor: id=2962413, shape=(), dtype=float32, numpy=0.20843199>}\n",
      "72 {'nll': <tf.Tensor: id=3002736, shape=(), dtype=float32, numpy=0.25892368>, 'durloss': <tf.Tensor: id=3002830, shape=(), dtype=float32, numpy=0.17041312>}\n",
      "73 {'nll': <tf.Tensor: id=3043153, shape=(), dtype=float32, numpy=0.25971133>, 'durloss': <tf.Tensor: id=3043247, shape=(), dtype=float32, numpy=0.19917244>}\n",
      "74 {'nll': <tf.Tensor: id=3083570, shape=(), dtype=float32, numpy=0.26034164>, 'durloss': <tf.Tensor: id=3083664, shape=(), dtype=float32, numpy=0.23165742>}\n",
      "75 {'nll': <tf.Tensor: id=3123987, shape=(), dtype=float32, numpy=0.26113972>, 'durloss': <tf.Tensor: id=3124081, shape=(), dtype=float32, numpy=0.20701082>}\n",
      "76 {'nll': <tf.Tensor: id=3164404, shape=(), dtype=float32, numpy=0.26356605>, 'durloss': <tf.Tensor: id=3164498, shape=(), dtype=float32, numpy=0.21431686>}\n",
      "77 {'nll': <tf.Tensor: id=3204821, shape=(), dtype=float32, numpy=0.26267833>, 'durloss': <tf.Tensor: id=3204915, shape=(), dtype=float32, numpy=0.19984764>}\n",
      "78 {'nll': <tf.Tensor: id=3245238, shape=(), dtype=float32, numpy=0.26227754>, 'durloss': <tf.Tensor: id=3245332, shape=(), dtype=float32, numpy=0.20125219>}\n",
      "79 {'nll': <tf.Tensor: id=3285655, shape=(), dtype=float32, numpy=0.2598296>, 'durloss': <tf.Tensor: id=3285749, shape=(), dtype=float32, numpy=0.20773752>}\n",
      "80 {'nll': <tf.Tensor: id=3326072, shape=(), dtype=float32, numpy=0.26536733>, 'durloss': <tf.Tensor: id=3326166, shape=(), dtype=float32, numpy=0.21338326>}\n",
      "81 {'nll': <tf.Tensor: id=3366489, shape=(), dtype=float32, numpy=0.26371402>, 'durloss': <tf.Tensor: id=3366583, shape=(), dtype=float32, numpy=0.21466237>}\n",
      "82 {'nll': <tf.Tensor: id=3406906, shape=(), dtype=float32, numpy=0.25906122>, 'durloss': <tf.Tensor: id=3407000, shape=(), dtype=float32, numpy=0.18582396>}\n",
      "83 {'nll': <tf.Tensor: id=3447323, shape=(), dtype=float32, numpy=0.26212645>, 'durloss': <tf.Tensor: id=3447417, shape=(), dtype=float32, numpy=0.19858186>}\n",
      "84 {'nll': <tf.Tensor: id=3487740, shape=(), dtype=float32, numpy=0.2610153>, 'durloss': <tf.Tensor: id=3487834, shape=(), dtype=float32, numpy=0.19411549>}\n",
      "85 {'nll': <tf.Tensor: id=3528157, shape=(), dtype=float32, numpy=0.26028228>, 'durloss': <tf.Tensor: id=3528251, shape=(), dtype=float32, numpy=0.18999466>}\n",
      "86 {'nll': <tf.Tensor: id=3568574, shape=(), dtype=float32, numpy=0.26127934>, 'durloss': <tf.Tensor: id=3568668, shape=(), dtype=float32, numpy=0.20443875>}\n",
      "87 {'nll': <tf.Tensor: id=3608991, shape=(), dtype=float32, numpy=0.2589128>, 'durloss': <tf.Tensor: id=3609085, shape=(), dtype=float32, numpy=0.17727748>}\n",
      "88 {'nll': <tf.Tensor: id=3649408, shape=(), dtype=float32, numpy=0.25837982>, 'durloss': <tf.Tensor: id=3649502, shape=(), dtype=float32, numpy=0.17507643>}\n",
      "89 {'nll': <tf.Tensor: id=3689825, shape=(), dtype=float32, numpy=0.25931537>, 'durloss': <tf.Tensor: id=3689919, shape=(), dtype=float32, numpy=0.17116451>}\n",
      "90 {'nll': <tf.Tensor: id=3730242, shape=(), dtype=float32, numpy=0.25710487>, 'durloss': <tf.Tensor: id=3730336, shape=(), dtype=float32, numpy=0.17689683>}\n",
      "91 {'nll': <tf.Tensor: id=3770659, shape=(), dtype=float32, numpy=0.25863576>, 'durloss': <tf.Tensor: id=3770753, shape=(), dtype=float32, numpy=0.19054216>}\n",
      "92 {'nll': <tf.Tensor: id=3811076, shape=(), dtype=float32, numpy=0.2564827>, 'durloss': <tf.Tensor: id=3811170, shape=(), dtype=float32, numpy=0.1712888>}\n",
      "93 {'nll': <tf.Tensor: id=3851493, shape=(), dtype=float32, numpy=0.26211613>, 'durloss': <tf.Tensor: id=3851587, shape=(), dtype=float32, numpy=0.2124692>}\n",
      "94 {'nll': <tf.Tensor: id=3891910, shape=(), dtype=float32, numpy=0.2609446>, 'durloss': <tf.Tensor: id=3892004, shape=(), dtype=float32, numpy=0.1834008>}\n",
      "95 {'nll': <tf.Tensor: id=3932327, shape=(), dtype=float32, numpy=0.26030937>, 'durloss': <tf.Tensor: id=3932421, shape=(), dtype=float32, numpy=0.17951046>}\n",
      "96 {'nll': <tf.Tensor: id=3972744, shape=(), dtype=float32, numpy=0.2596513>, 'durloss': <tf.Tensor: id=3972838, shape=(), dtype=float32, numpy=0.17957751>}\n",
      "97 {'nll': <tf.Tensor: id=4013161, shape=(), dtype=float32, numpy=0.25838357>, 'durloss': <tf.Tensor: id=4013255, shape=(), dtype=float32, numpy=0.20427293>}\n",
      "98 {'nll': <tf.Tensor: id=4053578, shape=(), dtype=float32, numpy=0.2565634>, 'durloss': <tf.Tensor: id=4053672, shape=(), dtype=float32, numpy=0.196732>}\n",
      "99 {'nll': <tf.Tensor: id=4093995, shape=(), dtype=float32, numpy=0.25855106>, 'durloss': <tf.Tensor: id=4094089, shape=(), dtype=float32, numpy=0.1989251>}\n"
     ]
    }
   ],
   "source": [
    "for k in range(100):\n",
    "    with tf.GradientTape() as tape:\n",
    "        losses, attn, latent, mel_hat, ids_slice = model.compute_loss(text = i, textlen = i_lengths, mel = mel_outputs, mellen = mel_lengths)\n",
    "        mel = vits.slice_segments(mel_outputs, ids_slice, model.segment_size // model.hop_size, np.log(1e-2))\n",
    "        mel_loss = calculate_3d_loss(mel, mel_hat, loss_fn=mae_loss)\n",
    "        loss = losses['nll'] + losses['durloss'] + mel_loss\n",
    "    print(k, losses)\n",
    "    grads = tape.gradient(loss, model.trainable_variables)\n",
    "    optimizer.apply_gradients(zip(grads, model.trainable_variables))"
   ]
  },
  {
   "cell_type": "code",
   "execution_count": 40,
   "metadata": {},
   "outputs": [
    {
     "data": {
      "text/plain": [
       "(<tf.Tensor: id=4116169, shape=(2, 218, 80), dtype=float32, numpy=\n",
       " array([[[ 9.4672465e-01, -3.3797920e-03, -3.7902865e-01, ...,\n",
       "          -8.5847458e+01, -7.9032860e+01,  7.6018364e+01],\n",
       "         [ 5.8684081e-01,  2.1966729e-01,  7.3977387e-01, ...,\n",
       "           7.3723090e+02,  1.8463542e+02, -2.6185391e+02],\n",
       "         [ 7.4838996e-01,  5.0120705e-01, -1.8145433e-01, ...,\n",
       "          -5.4223779e+02, -1.6927847e+03,  7.5599097e+02],\n",
       "         ...,\n",
       "         [ 3.6053675e-01, -1.6885073e-01,  1.2564379e-01, ...,\n",
       "           1.6034093e+02,  5.4373633e+03,  2.0267687e+03],\n",
       "         [ 5.1232374e-01,  1.9848317e-01,  1.0724964e+00, ...,\n",
       "          -1.1422634e+03, -4.4234940e+02,  2.9410373e+02],\n",
       "         [ 2.7083257e-01,  1.0857319e+00,  6.9677079e-01, ...,\n",
       "          -3.4140240e+02, -3.0056938e+01,  1.5914828e+02]],\n",
       " \n",
       "        [[ 2.7015722e-01,  4.5537531e-01,  4.2889267e-01, ...,\n",
       "           7.0915169e+01, -2.0491516e+01,  1.6757983e+02],\n",
       "         [ 1.8108496e-01,  2.5254357e-01,  2.0423849e-01, ...,\n",
       "          -9.4335608e+02,  1.5311652e+03, -1.5364526e+03],\n",
       "         [ 6.8071723e-01, -6.1788869e-01,  5.1665407e-01, ...,\n",
       "          -1.8294729e+03,  3.6237915e+02, -2.8762053e+03],\n",
       "         ...,\n",
       "         [ 9.5580256e-01,  3.6754903e-01,  5.6172711e-01, ...,\n",
       "           7.8271912e+01, -3.7427244e+03, -6.9298865e+02],\n",
       "         [ 2.9539436e-01,  6.5484297e-01,  4.0634552e-01, ...,\n",
       "          -6.8830652e+02,  3.6533670e+02,  6.6407265e+01],\n",
       "         [ 4.8246801e-02,  4.8821449e-01,  3.7084725e-01, ...,\n",
       "           1.6940384e+01,  6.6158340e+01,  2.1066064e+02]]], dtype=float32)>,\n",
       " <tf.Tensor: id=4116172, shape=(2,), dtype=int32, numpy=array([218, 218], dtype=int32)>,\n",
       " <tf.Tensor: id=4111462, shape=(2, 218, 72), dtype=float32, numpy=\n",
       " array([[[1., 0., 0., ..., 0., 0., 0.],\n",
       "         [1., 0., 0., ..., 0., 0., 0.],\n",
       "         [1., 0., 0., ..., 0., 0., 0.],\n",
       "         ...,\n",
       "         [0., 0., 0., ..., 0., 0., 1.],\n",
       "         [0., 0., 0., ..., 0., 0., 1.],\n",
       "         [0., 0., 0., ..., 0., 0., 1.]],\n",
       " \n",
       "        [[1., 0., 0., ..., 0., 0., 0.],\n",
       "         [1., 0., 0., ..., 0., 0., 0.],\n",
       "         [1., 0., 0., ..., 0., 0., 0.],\n",
       "         ...,\n",
       "         [0., 0., 0., ..., 0., 0., 1.],\n",
       "         [0., 0., 0., ..., 0., 0., 1.],\n",
       "         [0., 0., 0., ..., 0., 0., 1.]]], dtype=float32)>)"
      ]
     },
     "execution_count": 40,
     "metadata": {},
     "output_type": "execute_result"
    }
   ],
   "source": [
    "mel_, mellen_, attn_out = model(inputs = i, lengths = i_lengths)\n",
    "mel_, mellen_, attn_out"
   ]
  },
  {
   "cell_type": "code",
   "execution_count": 41,
   "metadata": {},
   "outputs": [],
   "source": [
    "# sess = tf.InteractiveSession()\n",
    "# sess.run(tf.global_variables_initializer())"
   ]
  },
  {
   "cell_type": "code",
   "execution_count": 42,
   "metadata": {},
   "outputs": [],
   "source": [
    "# %%time\n",
    "\n",
    "# o = sess.run([loss, losses, attn], feed_dict = {i: [data['text_ids'][0],data['text_ids'][0]],\n",
    "#                                                i_lengths: [data['len_text_ids'][0,0], data['len_text_ids'][0,0]],\n",
    "#                                                mel_outputs: [data['mel'].astype(np.float32)[0],data['mel'].astype(np.float32)[0]],\n",
    "#                                                mel_lengths: [408, 408]})"
   ]
  },
  {
   "cell_type": "code",
   "execution_count": 43,
   "metadata": {},
   "outputs": [],
   "source": [
    "# o = sess.run([mel, mellen, attn_out], feed_dict = {i: [data['text_ids'][0],data['text_ids'][0]],\n",
    "#                                                i_lengths: [data['len_text_ids'][0,0], data['len_text_ids'][0,0]],\n",
    "#                                         mel_outputs: [data['mel'].astype(np.float32)[0],data['mel'].astype(np.float32)[0]],\n",
    "#                                                mel_lengths: [408, 408]})\n",
    "# o[1]"
   ]
  },
  {
   "cell_type": "code",
   "execution_count": 44,
   "metadata": {
    "scrolled": true
   },
   "outputs": [],
   "source": [
    "# for k in range(50):\n",
    "#     o = sess.run([loss, losses, optimizer], feed_dict = {i: [data['text_ids'][0],data['text_ids'][0]],\n",
    "#                                                i_lengths: [data['len_text_ids'][0,0], data['len_text_ids'][0,0]],\n",
    "#                                                mel_outputs: [data['mel'].astype(np.float32)[0],data['mel'].astype(np.float32)[0]],\n",
    "#                                                mel_lengths: [408, 408]})\n",
    "#     print(k, o)"
   ]
  },
  {
   "cell_type": "code",
   "execution_count": 45,
   "metadata": {},
   "outputs": [],
   "source": [
    "# o = sess.run([mel, mellen, attn_out], feed_dict = {i: [data['text_ids'][0],data['text_ids'][0]],\n",
    "#                                                i_lengths: [data['len_text_ids'][0,0], data['len_text_ids'][0,0]],\n",
    "#                                         mel_outputs: [data['mel'].astype(np.float32)[0],data['mel'].astype(np.float32)[0]],\n",
    "#                                                mel_lengths: [408, 408]})"
   ]
  },
  {
   "cell_type": "code",
   "execution_count": 46,
   "metadata": {},
   "outputs": [
    {
     "data": {
      "image/png": "[encoded data removed]",
      "text/plain": [
       "<Figure size 720x576 with 2 Axes>"
      ]
     },
     "metadata": {
      "needs_background": "light"
     },
     "output_type": "display_data"
    }
   ],
   "source": [
    "mel_outputs_ = np.reshape(mel_[0], [-1, 80])\n",
    "fig = plt.figure(figsize=(10, 8))\n",
    "ax1 = fig.add_subplot(311)\n",
    "ax1.set_title(f'Predicted Mel-before-Spectrogram')\n",
    "im = ax1.imshow(np.rot90(mel_outputs_), aspect='auto', interpolation='none')\n",
    "fig.colorbar(mappable=im, shrink=0.65, orientation='horizontal', ax=ax1)\n",
    "plt.show()"
   ]
  },
  {
   "cell_type": "code",
   "execution_count": null,
   "metadata": {},
   "outputs": [],
   "source": [
    "fig = plt.figure(figsize=(8, 6))\n",
    "ax = fig.add_subplot(111)\n",
    "ax.set_title('Alignment steps')\n",
    "im = ax.imshow(\n",
    "    o[-1][0],\n",
    "    aspect='auto',\n",
    "    origin='lower',\n",
    "    interpolation='none')\n",
    "fig.colorbar(im, ax=ax)\n",
    "xlabel = 'Decoder timestep'\n",
    "plt.xlabel(xlabel)\n",
    "plt.ylabel('Encoder timestep')\n",
    "plt.tight_layout()\n",
    "plt.show()"
   ]
  },
  {
   "cell_type": "code",
   "execution_count": null,
   "metadata": {},
   "outputs": [],
   "source": [
    "saver = tf.train.Saver()\n",
    "saver.save(sess, 'test/model.ckpt')"
   ]
  }
 ],
 "metadata": {
  "kernelspec": {
   "display_name": "Python 3",
   "language": "python",
   "name": "python3"
  },
  "language_info": {
   "codemirror_mode": {
    "name": "ipython",
    "version": 3
   },
   "file_extension": ".py",
   "mimetype": "text/x-python",
   "name": "python",
   "nbconvert_exporter": "python",
   "pygments_lexer": "ipython3",
   "version": "3.7.7"
  }
 },
 "nbformat": 4,
 "nbformat_minor": 4
}

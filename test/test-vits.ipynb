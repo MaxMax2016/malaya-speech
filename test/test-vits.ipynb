{
 "cells": [
  {
   "cell_type": "code",
   "execution_count": 1,
   "metadata": {},
   "outputs": [],
   "source": [
    "import os\n",
    "\n",
    "os.environ['CUDA_VISIBLE_DEVICES'] = '0'\n",
    "os.environ['TF_FORCE_GPU_ALLOW_GROWTH'] = 'true'"
   ]
  },
  {
   "cell_type": "code",
   "execution_count": 2,
   "metadata": {},
   "outputs": [],
   "source": [
    "import sys\n",
    "\n",
    "SOURCE_DIR = os.path.dirname(os.path.dirname(os.path.abspath(__name__)))\n",
    "sys.path.insert(0, SOURCE_DIR)"
   ]
  },
  {
   "cell_type": "code",
   "execution_count": 3,
   "metadata": {},
   "outputs": [],
   "source": [
    "# import tensorflow as tf\n",
    "\n",
    "# tf.compat.v1.enable_eager_execution()"
   ]
  },
  {
   "cell_type": "code",
   "execution_count": 4,
   "metadata": {},
   "outputs": [
    {
     "name": "stdout",
     "output_type": "stream",
     "text": [
      "WARNING:tensorflow:Deprecation warnings have been disabled. Set TF_ENABLE_DEPRECATION_WARNINGS=1 to re-enable them.\n"
     ]
    },
    {
     "name": "stderr",
     "output_type": "stream",
     "text": [
      "2022-06-16 00:09:23.547065: I tensorflow/stream_executor/platform/default/dso_loader.cc:49] Successfully opened dynamic library libcudart.so.11.0\n",
      "/home/ubuntu/tf-nvidia/lib/python3.8/site-packages/tqdm/auto.py:22: TqdmWarning: IProgress not found. Please update jupyter and ipywidgets. See https://ipywidgets.readthedocs.io/en/stable/user_install.html\n",
      "  from .autonotebook import tqdm as notebook_tqdm\n"
     ]
    }
   ],
   "source": [
    "import tensorflow as tf\n",
    "import malaya_speech\n",
    "import numpy as np"
   ]
  },
  {
   "cell_type": "code",
   "execution_count": 5,
   "metadata": {},
   "outputs": [],
   "source": [
    "from malaya_speech.train.model.vits import model\n",
    "from malaya_speech.train.model.vits.model import MultiPeriodDiscriminator\n",
    "from malaya_speech.train.model import vits"
   ]
  },
  {
   "cell_type": "code",
   "execution_count": 6,
   "metadata": {},
   "outputs": [
    {
     "data": {
      "text/plain": [
       "{'model': {'inter_channels': 192, 'hidden_channels': 192, 'filter_channels': 768, 'n_heads': 2, 'n_layers': 6, 'kernel_size': 3, 'p_dropout': 0.1, 'resblock': '1', 'resblock_kernel_sizes': [3, 7, 11], 'resblock_dilation_sizes': [[1, 3, 5], [1, 3, 5], [1, 3, 5]], 'upsample_rates': [8, 8, 2, 2], 'upsample_initial_channel': 512, 'upsample_kernel_sizes': [16, 16, 4, 4], 'n_layers_q': 3, 'use_spectral_norm': False}, 'train': {'log_interval': 200, 'eval_interval': 1000, 'seed': 1234, 'epochs': 20000, 'learning_rate': 0.0002, 'betas': [0.8, 0.99], 'eps': 1e-09, 'batch_size': 64, 'fp16_run': True, 'lr_decay': 0.999875, 'segment_size': 8192, 'init_lr_ratio': 1, 'warmup_epochs': 0, 'c_mel': 45, 'c_kl': 1.0}, 'data': {'max_wav_value': 32768.0, 'sampling_rate': 22050, 'filter_length': 1024, 'hop_length': 256, 'win_length': 1024, 'n_mel_channels': 80, 'mel_fmin': 0.0, 'mel_fmax': None, 'add_blank': True, 'n_speakers': 0}}"
      ]
     },
     "execution_count": 6,
     "metadata": {},
     "output_type": "execute_result"
    }
   ],
   "source": [
    "hparams = vits.HParams(**malaya_speech.config.vits_base_config)\n",
    "hparams"
   ]
  },
  {
   "cell_type": "code",
   "execution_count": 7,
   "metadata": {},
   "outputs": [
    {
     "data": {
      "text/plain": [
       "(513, 32)"
      ]
     },
     "execution_count": 7,
     "metadata": {},
     "output_type": "execute_result"
    }
   ],
   "source": [
    "spec_channels = hparams.data.filter_length // 2 + 1\n",
    "segment_size = hparams.train.segment_size // hparams.data.hop_length\n",
    "spec_channels, segment_size"
   ]
  },
  {
   "cell_type": "code",
   "execution_count": 8,
   "metadata": {},
   "outputs": [],
   "source": [
    "import json\n",
    "import os\n",
    "from glob import glob\n",
    "\n",
    "with open('../speech/imda/output.json') as fopen:\n",
    "    data = json.load(fopen)\n",
    "    \n",
    "wavs = glob('../speech/imda/*.WAV')"
   ]
  },
  {
   "cell_type": "code",
   "execution_count": 9,
   "metadata": {},
   "outputs": [],
   "source": [
    "vocab = malaya_speech.utils.text.TTS_SYMBOLS\n",
    "\n",
    "batch = []\n",
    "for w in wavs:\n",
    "    t = data[os.path.split(w)[1]]\n",
    "    y, _ = malaya_speech.load(w)\n",
    "    batch.append((y, malaya_speech.utils.text.tts_encode(t, vocab)))"
   ]
  },
  {
   "cell_type": "code",
   "execution_count": 10,
   "metadata": {},
   "outputs": [
    {
     "name": "stderr",
     "output_type": "stream",
     "text": [
      "/tmp/ipykernel_2375951/600007807.py:3: FutureWarning: Pass sr=22050, n_fft=1024, n_mels=80, fmin=0.0, fmax=None as keyword args. From version 0.10 passing these as positional arguments will result in an error\n",
      "  melbank = librosa_mel_fn(hparams.data.sampling_rate, hparams.data.filter_length,\n"
     ]
    }
   ],
   "source": [
    "from librosa.filters import mel as librosa_mel_fn\n",
    "\n",
    "melbank = librosa_mel_fn(hparams.data.sampling_rate, hparams.data.filter_length, \n",
    "                          hparams.data.n_mel_channels,hparams.data.mel_fmin, hparams.data.mel_fmax)\n",
    "\n",
    "MEL = tf.convert_to_tensor(melbank)\n",
    "\n",
    "def dynamic_range_compression(x, C=1, clip_val=1e-5):\n",
    "    \"\"\"\n",
    "    PARAMS\n",
    "    ------\n",
    "    C: compression factor\n",
    "    \"\"\"\n",
    "    return tf.log(tf.clip_by_value(x, clip_val, tf.reduce_max(x)) * C)\n",
    "\n",
    "\n",
    "def dynamic_range_decompression(x, C=1):\n",
    "    \"\"\"\n",
    "    PARAMS\n",
    "    ------\n",
    "    C: compression factor used to compress\n",
    "    \"\"\"\n",
    "    return tf.exp(x) / C\n",
    "\n",
    "\n",
    "def spectral_normalize(magnitudes):\n",
    "    output = dynamic_range_compression(magnitudes)\n",
    "    return output\n",
    "\n",
    "\n",
    "def spectral_de_normalize_torch(magnitudes):\n",
    "    output = dynamic_range_decompression(magnitudes)\n",
    "    return output\n",
    "\n",
    "def spectrogram_tf(audio_norm, filter_length, hop_length):\n",
    "    p = int((filter_length-hop_length)/2)\n",
    "    padded = tf.pad(audio_norm, [[p, p]], mode ='reflect')\n",
    "    spec = tf.abs(tf.signal.stft(\n",
    "        padded,\n",
    "        filter_length,\n",
    "        hop_length,\n",
    "        fft_length=None,\n",
    "        window_fn=tf.signal.hann_window,\n",
    "        pad_end=False,\n",
    "    ))\n",
    "    spec = tf.sqrt(spec ** 2 + 1e-6)\n",
    "    return spec\n",
    "\n",
    "def spec_to_mel(spec):\n",
    "    spec = tf.matmul(spec, tf.transpose(MEL))\n",
    "    spec = spectral_normalize(spec)\n",
    "    return spec"
   ]
  },
  {
   "cell_type": "code",
   "execution_count": 11,
   "metadata": {},
   "outputs": [],
   "source": [
    "X = tf.compat.v1.placeholder(tf.float32, [None, None], name = 'X_placeholder')\n",
    "X_len = tf.compat.v1.placeholder(tf.int32, [None], name = 'X_len_placeholder')"
   ]
  },
  {
   "cell_type": "code",
   "execution_count": 12,
   "metadata": {},
   "outputs": [
    {
     "name": "stdout",
     "output_type": "stream",
     "text": [
      "WARNING:tensorflow:From /tmp/ipykernel_2375951/600007807.py:14: The name tf.log is deprecated. Please use tf.math.log instead.\n",
      "\n"
     ]
    },
    {
     "data": {
      "text/plain": [
       "(<tf.Tensor 'TensorArrayStack_2/TensorArrayGatherV3:0' shape=(?, ?, 513) dtype=float32>,\n",
       " <tf.Tensor 'TensorArrayStack_3/TensorArrayGatherV3:0' shape=(?,) dtype=int32>)"
      ]
     },
     "execution_count": 12,
     "metadata": {},
     "output_type": "execute_result"
    }
   ],
   "source": [
    "batch_size = tf.shape(X)[0]\n",
    "features = tf.TensorArray(dtype = tf.float32, size = batch_size, dynamic_size = True, infer_shape = False)\n",
    "features_len = tf.TensorArray(dtype = tf.int32, size = batch_size)\n",
    "\n",
    "init_state = (0, features, features_len)\n",
    "\n",
    "def condition(i, features, features_len):\n",
    "    return i < batch_size\n",
    "\n",
    "def body(i, features, features_len):\n",
    "    f = spectrogram_tf(X[i, :X_len[i]], hparams.data.filter_length, hparams.data.hop_length)\n",
    "    f_len = tf.shape(f)[0]\n",
    "    return i + 1, features.write(i, f), features_len.write(i, f_len)\n",
    "\n",
    "_, features, features_len = tf.while_loop(condition, body, init_state)\n",
    "features_len = features_len.stack()\n",
    "\n",
    "padded_features_mel = tf.TensorArray(dtype = tf.float32, size = batch_size)\n",
    "padded_features = tf.TensorArray(dtype = tf.float32, size = batch_size)\n",
    "padded_lens = tf.TensorArray(dtype = tf.int32, size = batch_size)\n",
    "maxlen = tf.reduce_max(features_len)\n",
    "\n",
    "init_state = (0, padded_features_mel, padded_features, padded_lens)\n",
    "\n",
    "def condition(i, padded_features_mel, padded_features, padded_lens):\n",
    "    return i < batch_size\n",
    "\n",
    "def body(i, padded_features_mel, padded_features, padded_lens):\n",
    "    f = features.read(i)\n",
    "    f_mel = spec_to_mel(f)\n",
    "    len_f = tf.shape(f)[0]\n",
    "    f = tf.pad(f, [[0, maxlen - tf.shape(f)[0]], [0,0]])\n",
    "    f_mel = tf.pad(f_mel, [[0, maxlen - tf.shape(f)[0]], [0,0]])\n",
    "    return i + 1, padded_features_mel.write(i, f), padded_features.write(i, f), padded_lens.write(i, len_f)\n",
    "\n",
    "_, padded_features_mel, padded_features, padded_lens = tf.while_loop(condition, body, init_state)\n",
    "padded_features_mel = padded_features_mel.stack()\n",
    "padded_features = padded_features.stack()\n",
    "padded_lens = padded_lens.stack()\n",
    "padded_lens.set_shape((None,))\n",
    "padded_features_mel.set_shape((None, None, hparams.data.n_mel_channels))\n",
    "padded_features.set_shape((None, None, spec_channels))\n",
    "padded_features, padded_lens"
   ]
  },
  {
   "cell_type": "code",
   "execution_count": 13,
   "metadata": {},
   "outputs": [],
   "source": [
    "batch_x, batch_y = [b[0] for b in batch], [b[1] for b in batch]\n",
    "x, x_len = malaya_speech.utils.padding.sequence_1d(batch_x, return_len = True)"
   ]
  },
  {
   "cell_type": "code",
   "execution_count": 14,
   "metadata": {},
   "outputs": [],
   "source": [
    "y, y_len = malaya_speech.utils.padding.sequence_1d(batch_y, return_len = True)"
   ]
  },
  {
   "cell_type": "code",
   "execution_count": 15,
   "metadata": {},
   "outputs": [],
   "source": [
    "# sess = tf.Session()\n",
    "# o = sess.run([padded_features, padded_lens], feed_dict = {X: x, X_len: x_len})"
   ]
  },
  {
   "cell_type": "code",
   "execution_count": 16,
   "metadata": {},
   "outputs": [
    {
     "name": "stdout",
     "output_type": "stream",
     "text": [
      "WARNING:tensorflow:From /home/ubuntu/malaya-speech/malaya_speech/train/model/vits/model.py:211: The name tf.keras.initializers.RandomNormal is deprecated. Please use tf.compat.v1.keras.initializers.RandomNormal instead.\n",
      "\n"
     ]
    }
   ],
   "source": [
    "model = vits.Model(len(vocab), spec_channels, segment_size, **hparams.model)"
   ]
  },
  {
   "cell_type": "code",
   "execution_count": 17,
   "metadata": {},
   "outputs": [],
   "source": [
    "# x = tf.constant([[1,2,3,4,5], [2,3,0,0,0]])\n",
    "# x_lengths = tf.constant([5, 2])\n",
    "# y = tf.random.normal(shape = (2, 100, spec_channels))\n",
    "# y_lengths = tf.constant([50, 100])"
   ]
  },
  {
   "cell_type": "code",
   "execution_count": 18,
   "metadata": {},
   "outputs": [
    {
     "name": "stdout",
     "output_type": "stream",
     "text": [
      "WARNING:tensorflow:From /tmp/ipykernel_2375951/2135076712.py:1: The name tf.placeholder is deprecated. Please use tf.compat.v1.placeholder instead.\n",
      "\n"
     ]
    }
   ],
   "source": [
    "T = tf.placeholder(tf.int32, [None, None])\n",
    "T_lengths = tf.placeholder(tf.int32, [None])"
   ]
  },
  {
   "cell_type": "code",
   "execution_count": 19,
   "metadata": {},
   "outputs": [],
   "source": [
    "Y = tf.placeholder(tf.float32, [None, None, 1])"
   ]
  },
  {
   "cell_type": "code",
   "execution_count": 20,
   "metadata": {},
   "outputs": [],
   "source": [
    "y_hat, l_length, attn, ids_slice, x_mask, z_mask,\\\n",
    "      (z, z_p, m_p, logs_p, m_q, logs_q) = model(T, T_lengths, padded_features, padded_lens)"
   ]
  },
  {
   "cell_type": "code",
   "execution_count": 22,
   "metadata": {},
   "outputs": [],
   "source": [
    "from malaya_speech.train.model.vits import commons"
   ]
  },
  {
   "cell_type": "code",
   "execution_count": 25,
   "metadata": {},
   "outputs": [
    {
     "data": {
      "text/plain": [
       "<tf.Tensor 'TensorArrayStack_4/TensorArrayGatherV3:0' shape=(?, ?, 1) dtype=float32>"
      ]
     },
     "execution_count": 25,
     "metadata": {},
     "output_type": "execute_result"
    }
   ],
   "source": [
    "Y_ = commons.slice_segments(Y, ids_slice * hparams.data.hop_length, hparams.train.segment_size)\n",
    "Y_"
   ]
  },
  {
   "cell_type": "code",
   "execution_count": 26,
   "metadata": {},
   "outputs": [
    {
     "data": {
      "text/plain": [
       "(<tf.Tensor 'generator/Tanh:0' shape=(?, ?, 1) dtype=float32>,\n",
       " <tf.Tensor 'transpose:0' shape=(?, ?, ?) dtype=float32>,\n",
       " <tf.Tensor 'ExpandDims:0' shape=(?, ?, 1) dtype=float32>,\n",
       " (<tf.Tensor 'residual_coupling_block/residual_coupling_layer/concat:0' shape=(?, ?, 192) dtype=float32>,\n",
       "  <tf.Tensor 'add:0' shape=(?, ?, 192) dtype=float32>,\n",
       "  <tf.Tensor 'MatMul:0' shape=(?, ?, 192) dtype=float32>,\n",
       "  <tf.Tensor 'MatMul_1:0' shape=(?, ?, 192) dtype=float32>))"
      ]
     },
     "execution_count": 26,
     "metadata": {},
     "output_type": "execute_result"
    }
   ],
   "source": [
    "outputs = model.infer(T, T_lengths)\n",
    "outputs"
   ]
  },
  {
   "cell_type": "code",
   "execution_count": 27,
   "metadata": {},
   "outputs": [
    {
     "data": {
      "text/plain": [
       "(<tf.Tensor 'generator/Tanh:0' shape=(?, ?, 1) dtype=float32>,\n",
       " <tf.Tensor 'transpose:0' shape=(?, ?, ?) dtype=float32>)"
      ]
     },
     "execution_count": 27,
     "metadata": {},
     "output_type": "execute_result"
    }
   ],
   "source": [
    "outputs[:2]"
   ]
  },
  {
   "cell_type": "code",
   "execution_count": 28,
   "metadata": {},
   "outputs": [],
   "source": [
    "net_d = MultiPeriodDiscriminator(name = 'mp_discriminator')"
   ]
  },
  {
   "cell_type": "code",
   "execution_count": 29,
   "metadata": {
    "scrolled": true
   },
   "outputs": [],
   "source": [
    "y_d_hat_r, y_d_hat_g, _, _ = net_d(Y_, tf.stop_gradient(y_hat))"
   ]
  },
  {
   "cell_type": "code",
   "execution_count": 30,
   "metadata": {},
   "outputs": [
    {
     "data": {
      "text/plain": [
       "([<tf.Tensor 'mp_discriminator/discriminator_s/Reshape:0' shape=(?, ?) dtype=float32>,\n",
       "  <tf.Tensor 'mp_discriminator/discriminator_p/Reshape_1:0' shape=(?, ?) dtype=float32>,\n",
       "  <tf.Tensor 'mp_discriminator/discriminator_p_1_1/Reshape_1:0' shape=(?, ?) dtype=float32>,\n",
       "  <tf.Tensor 'mp_discriminator/discriminator_p_2/Reshape_1:0' shape=(?, ?) dtype=float32>,\n",
       "  <tf.Tensor 'mp_discriminator/discriminator_p_3/Reshape_1:0' shape=(?, ?) dtype=float32>,\n",
       "  <tf.Tensor 'mp_discriminator/discriminator_p_4/Reshape_1:0' shape=(?, ?) dtype=float32>],\n",
       " [<tf.Tensor 'mp_discriminator/discriminator_s_1/Reshape:0' shape=(?, ?) dtype=float32>,\n",
       "  <tf.Tensor 'mp_discriminator/discriminator_p_1/Reshape_1:0' shape=(?, ?) dtype=float32>,\n",
       "  <tf.Tensor 'mp_discriminator/discriminator_p_1_2/Reshape_1:0' shape=(?, ?) dtype=float32>,\n",
       "  <tf.Tensor 'mp_discriminator/discriminator_p_2_1/Reshape_1:0' shape=(?, ?) dtype=float32>,\n",
       "  <tf.Tensor 'mp_discriminator/discriminator_p_3_1/Reshape_1:0' shape=(?, ?) dtype=float32>,\n",
       "  <tf.Tensor 'mp_discriminator/discriminator_p_4_1/Reshape_1:0' shape=(?, ?) dtype=float32>])"
      ]
     },
     "execution_count": 30,
     "metadata": {},
     "output_type": "execute_result"
    }
   ],
   "source": [
    "y_d_hat_r, y_d_hat_g"
   ]
  },
  {
   "cell_type": "code",
   "execution_count": 31,
   "metadata": {},
   "outputs": [],
   "source": [
    "from malaya_speech.train.model.vits import commons"
   ]
  },
  {
   "cell_type": "code",
   "execution_count": 32,
   "metadata": {},
   "outputs": [],
   "source": [
    "def kl_loss(z_p, logs_q, m_p, logs_p, z_mask):\n",
    "    kl = logs_p - logs_q - 0.5\n",
    "    kl += 0.5 * ((z_p - m_p)**2) * tf.exp(-2. * logs_p)\n",
    "    kl = tf.reduce_sum(kl * z_mask)\n",
    "    l = kl / tf.reduce_sum(z_mask)\n",
    "    return l\n",
    "\n",
    "loss_kl = kl_loss(z_p, logs_q, m_p, logs_p, z_mask) * hparams.train.c_kl"
   ]
  },
  {
   "cell_type": "code",
   "execution_count": 33,
   "metadata": {},
   "outputs": [],
   "source": [
    "def discriminator_loss(disc_real_outputs, disc_generated_outputs):\n",
    "    loss = 0\n",
    "    r_losses = []\n",
    "    g_losses = []\n",
    "    for dr, dg in zip(disc_real_outputs, disc_generated_outputs):\n",
    "        r_loss = tf.reduce_mean((1-dr)**2)\n",
    "        g_loss = tf.reduce_mean(dg**2)\n",
    "        loss += (r_loss + g_loss)\n",
    "        r_losses.append(r_loss)\n",
    "        g_losses.append(g_loss)\n",
    "\n",
    "    return loss, r_losses, g_losses"
   ]
  },
  {
   "cell_type": "code",
   "execution_count": 34,
   "metadata": {},
   "outputs": [],
   "source": [
    "loss_disc, losses_disc_r, losses_disc_g = discriminator_loss(y_d_hat_r, y_d_hat_g)"
   ]
  },
  {
   "cell_type": "code",
   "execution_count": 35,
   "metadata": {},
   "outputs": [
    {
     "data": {
      "text/plain": [
       "<tf.Tensor 'add_13:0' shape=() dtype=float32>"
      ]
     },
     "execution_count": 35,
     "metadata": {},
     "output_type": "execute_result"
    }
   ],
   "source": [
    "loss_disc"
   ]
  },
  {
   "cell_type": "code",
   "execution_count": 36,
   "metadata": {},
   "outputs": [
    {
     "name": "stdout",
     "output_type": "stream",
     "text": [
      "WARNING:tensorflow:From /tmp/ipykernel_2375951/850364047.py:1: The name tf.trainable_variables is deprecated. Please use tf.compat.v1.trainable_variables instead.\n",
      "\n"
     ]
    }
   ],
   "source": [
    "t_vars = tf.trainable_variables()\n",
    "d_vars = [var for var in t_vars if 'mp_discriminator' in var.name]\n",
    "g_vars = [var for var in t_vars if 'mp_discriminator' not in var.name]"
   ]
  },
  {
   "cell_type": "code",
   "execution_count": 37,
   "metadata": {},
   "outputs": [],
   "source": [
    "global_step_generator = tf.Variable(\n",
    "    0, trainable=False, name='global_step_generator'\n",
    ")\n",
    "global_step_discriminator = tf.Variable(\n",
    "    0, trainable=False, name='global_step_discriminator'\n",
    ")\n",
    "d_optimizer = malaya_speech.train.optimizer.adamw.create_optimizer(loss_disc, \n",
    "                                                                   1e-5, 10000, 1000, tvars = d_vars, global_step=global_step_discriminator)"
   ]
  },
  {
   "cell_type": "code",
   "execution_count": 38,
   "metadata": {},
   "outputs": [],
   "source": [
    "y_hat_mel = tf.TensorArray(dtype = tf.float32, size = batch_size)\n",
    "init_state = (0, y_hat_mel)\n",
    "\n",
    "def condition1(i, y_hat_mel):\n",
    "    return i < batch_size\n",
    "\n",
    "def body1(i, y_hat_mel):\n",
    "    f = spectrogram_tf(y_hat[i,:,0], hparams.data.filter_length, hparams.data.hop_length)\n",
    "    f = spec_to_mel(f)\n",
    "    return i + 1, y_hat_mel.write(i, f)\n",
    "\n",
    "_, y_hat_mel = tf.while_loop(condition1, body1, init_state)\n",
    "y_hat_mel = y_hat_mel.stack()\n",
    "y_hat_mel.set_shape((None, None, hparams.data.n_mel_channels))"
   ]
  },
  {
   "cell_type": "code",
   "execution_count": 40,
   "metadata": {},
   "outputs": [],
   "source": [
    "y_hat_mel_out = tf.TensorArray(dtype = tf.float32, size = batch_size)\n",
    "init_state = (0, y_hat_mel_out)\n",
    "\n",
    "def condition2(i, y_hat_mel_out):\n",
    "    return i < batch_size\n",
    "\n",
    "def body2(i, y_hat_mel_out):\n",
    "    f = spectrogram_tf(outputs[0][i,:,0], hparams.data.filter_length, hparams.data.hop_length)\n",
    "    f = spec_to_mel(f)\n",
    "    return i + 1, y_hat_mel_out.write(i, f)\n",
    "\n",
    "_, y_hat_mel_out = tf.while_loop(condition2, body2, init_state)\n",
    "y_hat_mel_out = y_hat_mel_out.stack()\n",
    "y_hat_mel_out.set_shape((None, None, hparams.data.n_mel_channels))"
   ]
  },
  {
   "cell_type": "code",
   "execution_count": 41,
   "metadata": {},
   "outputs": [],
   "source": [
    "mel = tf.matmul(padded_features, tf.transpose(MEL))\n",
    "mel = spectral_normalize(mel)\n",
    "y_mel = commons.slice_segments(mel, ids_slice, hparams.train.segment_size // hparams.data.hop_length)"
   ]
  },
  {
   "cell_type": "code",
   "execution_count": 42,
   "metadata": {},
   "outputs": [
    {
     "name": "stdout",
     "output_type": "stream",
     "text": [
      "WARNING:tensorflow:From /tmp/ipykernel_2375951/1728581466.py:1: The name tf.losses.absolute_difference is deprecated. Please use tf.compat.v1.losses.absolute_difference instead.\n",
      "\n"
     ]
    }
   ],
   "source": [
    "mae = tf.losses.absolute_difference"
   ]
  },
  {
   "cell_type": "code",
   "execution_count": 43,
   "metadata": {},
   "outputs": [
    {
     "data": {
      "text/plain": [
       "<tf.Tensor 'mul_27:0' shape=() dtype=float32>"
      ]
     },
     "execution_count": 43,
     "metadata": {},
     "output_type": "execute_result"
    }
   ],
   "source": [
    "loss_mel = mae(labels=y_mel, predictions=y_hat_mel) * hparams.train.c_mel\n",
    "loss_mel"
   ]
  },
  {
   "cell_type": "code",
   "execution_count": 44,
   "metadata": {},
   "outputs": [],
   "source": [
    "y_d_hat_r, y_d_hat_g, fmap_r, fmap_g = net_d(Y_, y_hat)"
   ]
  },
  {
   "cell_type": "code",
   "execution_count": 45,
   "metadata": {},
   "outputs": [],
   "source": [
    "def feature_loss(fmap_r, fmap_g):\n",
    "    loss = 0\n",
    "    for dr, dg in zip(fmap_r, fmap_g):\n",
    "        for rl, gl in zip(dr, dg):\n",
    "            rl = tf.stop_gradient(rl)\n",
    "            loss += tf.reduce_mean(tf.abs(rl - gl))\n",
    "    \n",
    "    return loss * 2 \n",
    "\n",
    "def generator_loss(disc_outputs):\n",
    "    loss = 0\n",
    "    gen_losses = []\n",
    "    for dg in disc_outputs:\n",
    "        l = tf.reduce_mean((1-dg)**2)\n",
    "        gen_losses.append(l)\n",
    "        loss += l\n",
    "\n",
    "    return loss, gen_losses\n",
    "\n",
    "loss_fm = feature_loss(fmap_r, fmap_g)\n",
    "loss_gen, losses_gen = generator_loss(y_d_hat_g)"
   ]
  },
  {
   "cell_type": "code",
   "execution_count": 46,
   "metadata": {},
   "outputs": [],
   "source": [
    "loss_dur = l_length\n",
    "loss = loss_gen + loss_fm + loss_mel + loss_dur + loss_kl"
   ]
  },
  {
   "cell_type": "code",
   "execution_count": 47,
   "metadata": {},
   "outputs": [],
   "source": [
    "g_optimizer = malaya_speech.train.optimizer.adamw.create_optimizer(loss, 1e-5, 10000, 1000, tvars = g_vars,\n",
    "                                                                  global_step = global_step_generator)"
   ]
  },
  {
   "cell_type": "code",
   "execution_count": 48,
   "metadata": {
    "scrolled": true
   },
   "outputs": [
    {
     "name": "stdout",
     "output_type": "stream",
     "text": [
      "WARNING:tensorflow:From /tmp/ipykernel_2375951/2303108271.py:1: The name tf.Session is deprecated. Please use tf.compat.v1.Session instead.\n",
      "\n"
     ]
    },
    {
     "name": "stderr",
     "output_type": "stream",
     "text": [
      "2022-06-16 00:11:20.599450: I tensorflow/stream_executor/platform/default/dso_loader.cc:49] Successfully opened dynamic library libcuda.so.1\n",
      "2022-06-16 00:11:20.612003: I tensorflow/stream_executor/cuda/cuda_gpu_executor.cc:1082] successful NUMA node read from SysFS had negative value (-1), but there must be at least one NUMA node, so returning NUMA node zero\n",
      "2022-06-16 00:11:20.612730: I tensorflow/core/common_runtime/gpu/gpu_device.cc:1666] Found device 0 with properties: \n",
      "name: NVIDIA GeForce RTX 3090 Ti major: 8 minor: 6 memoryClockRate(GHz): 1.86\n",
      "pciBusID: 0000:01:00.0\n",
      "2022-06-16 00:11:20.612745: I tensorflow/stream_executor/platform/default/dso_loader.cc:49] Successfully opened dynamic library libcudart.so.11.0\n",
      "2022-06-16 00:11:20.615256: I tensorflow/stream_executor/platform/default/dso_loader.cc:49] Successfully opened dynamic library libcublas.so.11\n",
      "2022-06-16 00:11:20.631022: I tensorflow/stream_executor/platform/default/dso_loader.cc:49] Successfully opened dynamic library libcufft.so.10\n",
      "2022-06-16 00:11:20.631168: I tensorflow/stream_executor/platform/default/dso_loader.cc:49] Successfully opened dynamic library libcurand.so.10\n",
      "2022-06-16 00:11:20.631511: I tensorflow/stream_executor/platform/default/dso_loader.cc:49] Successfully opened dynamic library libcusolver.so.11\n",
      "2022-06-16 00:11:20.631952: I tensorflow/stream_executor/platform/default/dso_loader.cc:49] Successfully opened dynamic library libcusparse.so.11\n",
      "2022-06-16 00:11:20.632014: I tensorflow/stream_executor/platform/default/dso_loader.cc:49] Successfully opened dynamic library libcudnn.so.8\n",
      "2022-06-16 00:11:20.632069: I tensorflow/stream_executor/cuda/cuda_gpu_executor.cc:1082] successful NUMA node read from SysFS had negative value (-1), but there must be at least one NUMA node, so returning NUMA node zero\n",
      "2022-06-16 00:11:20.632833: I tensorflow/stream_executor/cuda/cuda_gpu_executor.cc:1082] successful NUMA node read from SysFS had negative value (-1), but there must be at least one NUMA node, so returning NUMA node zero\n",
      "2022-06-16 00:11:20.633529: I tensorflow/core/common_runtime/gpu/gpu_device.cc:1794] Adding visible gpu devices: 0\n",
      "2022-06-16 00:11:20.638970: I tensorflow/core/platform/profile_utils/cpu_utils.cc:109] CPU Frequency: 2496000000 Hz\n",
      "2022-06-16 00:11:20.639317: I tensorflow/compiler/xla/service/service.cc:168] XLA service 0x686bdf0 initialized for platform Host (this does not guarantee that XLA will be used). Devices:\n",
      "2022-06-16 00:11:20.639340: I tensorflow/compiler/xla/service/service.cc:176]   StreamExecutor device (0): Host, Default Version\n",
      "2022-06-16 00:11:20.693962: I tensorflow/stream_executor/cuda/cuda_gpu_executor.cc:1082] successful NUMA node read from SysFS had negative value (-1), but there must be at least one NUMA node, so returning NUMA node zero\n",
      "2022-06-16 00:11:20.694750: I tensorflow/compiler/xla/service/service.cc:168] XLA service 0x5f99010 initialized for platform CUDA (this does not guarantee that XLA will be used). Devices:\n",
      "2022-06-16 00:11:20.694765: I tensorflow/compiler/xla/service/service.cc:176]   StreamExecutor device (0): NVIDIA GeForce RTX 3090 Ti, Compute Capability 8.6\n",
      "2022-06-16 00:11:20.694918: I tensorflow/stream_executor/cuda/cuda_gpu_executor.cc:1082] successful NUMA node read from SysFS had negative value (-1), but there must be at least one NUMA node, so returning NUMA node zero\n",
      "2022-06-16 00:11:20.695738: I tensorflow/core/common_runtime/gpu/gpu_device.cc:1666] Found device 0 with properties: \n",
      "name: NVIDIA GeForce RTX 3090 Ti major: 8 minor: 6 memoryClockRate(GHz): 1.86\n",
      "pciBusID: 0000:01:00.0\n",
      "2022-06-16 00:11:20.695767: I tensorflow/stream_executor/platform/default/dso_loader.cc:49] Successfully opened dynamic library libcudart.so.11.0\n",
      "2022-06-16 00:11:20.695805: I tensorflow/stream_executor/platform/default/dso_loader.cc:49] Successfully opened dynamic library libcublas.so.11\n",
      "2022-06-16 00:11:20.695820: I tensorflow/stream_executor/platform/default/dso_loader.cc:49] Successfully opened dynamic library libcufft.so.10\n",
      "2022-06-16 00:11:20.695834: I tensorflow/stream_executor/platform/default/dso_loader.cc:49] Successfully opened dynamic library libcurand.so.10\n",
      "2022-06-16 00:11:20.695849: I tensorflow/stream_executor/platform/default/dso_loader.cc:49] Successfully opened dynamic library libcusolver.so.11\n",
      "2022-06-16 00:11:20.695861: I tensorflow/stream_executor/platform/default/dso_loader.cc:49] Successfully opened dynamic library libcusparse.so.11\n",
      "2022-06-16 00:11:20.695874: I tensorflow/stream_executor/platform/default/dso_loader.cc:49] Successfully opened dynamic library libcudnn.so.8\n",
      "2022-06-16 00:11:20.695919: I tensorflow/stream_executor/cuda/cuda_gpu_executor.cc:1082] successful NUMA node read from SysFS had negative value (-1), but there must be at least one NUMA node, so returning NUMA node zero\n",
      "2022-06-16 00:11:20.696644: I tensorflow/stream_executor/cuda/cuda_gpu_executor.cc:1082] successful NUMA node read from SysFS had negative value (-1), but there must be at least one NUMA node, so returning NUMA node zero\n",
      "2022-06-16 00:11:20.697332: I tensorflow/core/common_runtime/gpu/gpu_device.cc:1794] Adding visible gpu devices: 0\n",
      "2022-06-16 00:11:20.697356: I tensorflow/stream_executor/platform/default/dso_loader.cc:49] Successfully opened dynamic library libcudart.so.11.0\n"
     ]
    },
    {
     "name": "stdout",
     "output_type": "stream",
     "text": [
      "WARNING:tensorflow:From /tmp/ipykernel_2375951/2303108271.py:2: The name tf.global_variables_initializer is deprecated. Please use tf.compat.v1.global_variables_initializer instead.\n",
      "\n"
     ]
    },
    {
     "name": "stderr",
     "output_type": "stream",
     "text": [
      "2022-06-16 00:11:20.867466: I tensorflow/core/common_runtime/gpu/gpu_device.cc:1206] Device interconnect StreamExecutor with strength 1 edge matrix:\n",
      "2022-06-16 00:11:20.867492: I tensorflow/core/common_runtime/gpu/gpu_device.cc:1212]      0 \n",
      "2022-06-16 00:11:20.867510: I tensorflow/core/common_runtime/gpu/gpu_device.cc:1225] 0:   N \n",
      "2022-06-16 00:11:20.867738: I tensorflow/stream_executor/cuda/cuda_gpu_executor.cc:1082] successful NUMA node read from SysFS had negative value (-1), but there must be at least one NUMA node, so returning NUMA node zero\n",
      "2022-06-16 00:11:20.868634: I tensorflow/stream_executor/cuda/cuda_gpu_executor.cc:1082] successful NUMA node read from SysFS had negative value (-1), but there must be at least one NUMA node, so returning NUMA node zero\n",
      "2022-06-16 00:11:20.869528: W tensorflow/core/common_runtime/gpu/gpu_bfc_allocator.cc:39] Overriding allow_growth setting because the TF_FORCE_GPU_ALLOW_GROWTH environment variable is set. Original config value was 0.\n",
      "2022-06-16 00:11:20.869555: I tensorflow/core/common_runtime/gpu/gpu_device.cc:1351] Created TensorFlow device (/job:localhost/replica:0/task:0/device:GPU:0 with 21770 MB memory) -> physical GPU (device: 0, name: NVIDIA GeForce RTX 3090 Ti, pci bus id: 0000:01:00.0, compute capability: 8.6)\n"
     ]
    }
   ],
   "source": [
    "sess = tf.Session()\n",
    "sess.run(tf.global_variables_initializer())"
   ]
  },
  {
   "cell_type": "code",
   "execution_count": 49,
   "metadata": {},
   "outputs": [
    {
     "name": "stderr",
     "output_type": "stream",
     "text": [
      "2022-06-16 00:11:30.606315: I tensorflow/stream_executor/platform/default/dso_loader.cc:49] Successfully opened dynamic library libcufft.so.10\n",
      "2022-06-16 00:11:30.618749: I tensorflow/stream_executor/platform/default/dso_loader.cc:49] Successfully opened dynamic library libcudnn.so.8\n",
      "2022-06-16 00:11:32.070178: I tensorflow/stream_executor/platform/default/dso_loader.cc:49] Successfully opened dynamic library libcublas.so.11\n"
     ]
    },
    {
     "data": {
      "text/plain": [
       "[2, 5.978207, None]"
      ]
     },
     "execution_count": 49,
     "metadata": {},
     "output_type": "execute_result"
    }
   ],
   "source": [
    "sess.run([global_step_discriminator, loss_disc, d_optimizer], feed_dict = {X: x,\n",
    "                                                        X_len: x_len,\n",
    "                                                        T: y,\n",
    "                                                        T_lengths: y_len, Y: np.expand_dims(x, -1)})"
   ]
  },
  {
   "cell_type": "code",
   "execution_count": 51,
   "metadata": {},
   "outputs": [
    {
     "name": "stdout",
     "output_type": "stream",
     "text": [
      "[4, 5.9977965, None]\n",
      "[4, 5.946399, 1.3141253, 110.85459, 0.6810527, 25854.006, None]\n",
      "[6, 5.9755507, None]\n",
      "[6, 5.8990726, 2.7361236, 118.38861, 0.57655627, 26164.713, None]\n",
      "[8, 5.983362, None]\n",
      "[8, 5.8190417, 4.347843, 130.41835, 0.6042038, 27226.96, None]\n",
      "[10, 5.9912024, None]\n",
      "[10, 5.8125215, 4.2541184, 138.04486, 0.6044487, 27052.334, None]\n",
      "[12, 5.9631543, None]\n",
      "[12, 5.8598213, 3.029897, 118.84114, 0.6705783, 25738.01, None]\n",
      "[14, 5.9581566, None]\n",
      "[14, 5.7075844, 5.237488, 141.53929, 0.6278655, 25308.56, None]\n",
      "[16, 5.9764, None]\n",
      "[16, 5.656866, 5.8528585, 147.6406, 0.8217551, 24811.38, None]\n",
      "[18, 5.9620395, None]\n",
      "[18, 5.8231053, 2.5756733, 128.40872, 0.69402474, 27044.11, None]\n",
      "[20, 5.931521, None]\n",
      "[20, 5.850278, 2.0753832, 111.6913, 0.5859037, 21329.83, None]\n",
      "[22, 5.943781, None]\n",
      "[22, 5.77566, 2.562218, 134.25551, 0.6220002, 21018.297, None]\n",
      "[24, 5.904721, None]\n",
      "[24, 5.69232, 3.432078, 122.487305, 0.70951825, 17447.898, None]\n",
      "[26, 5.8731933, None]\n",
      "[26, 5.782147, 2.0593605, 104.048195, 0.6141955, 17859.865, None]\n",
      "[28, 5.8907003, None]\n",
      "[28, 5.422152, 4.9553747, 141.04398, 0.59314746, 16954.166, None]\n",
      "[30, 5.894666, None]\n",
      "[30, 5.5711837, 3.3612585, 135.66454, 0.6782851, 15666.196, None]\n",
      "[32, 5.8975687, None]\n",
      "[32, 5.2800145, 4.9999876, 147.44234, 0.6271065, 15176.367, None]\n",
      "[34, 5.73044, None]\n",
      "[34, 5.5628896, 2.9554396, 120.71612, 0.6093473, 13451.914, None]\n",
      "[36, 5.71187, None]\n",
      "[36, 5.631422, 2.155809, 107.40903, 0.7223944, 13921.069, None]\n",
      "[38, 5.798069, None]\n",
      "[38, 5.7942305, 1.1294222, 101.22007, 0.6014114, 11758.359, None]\n",
      "[40, 5.775563, None]\n",
      "[40, 5.1343603, 4.3686953, 141.78358, 0.7002899, 11802.889, None]\n",
      "[42, 5.544149, None]\n",
      "[42, 5.3249426, 3.1999755, 121.37659, 0.66603345, 11551.464, None]\n",
      "[44, 5.8141217, None]\n",
      "[44, 5.2288823, 3.3748956, 127.69842, 0.74115855, 10379.386, None]\n",
      "[46, 5.625428, None]\n",
      "[46, 5.1514015, 3.518373, 122.14291, 0.6905694, 9413.892, None]\n",
      "[48, 5.901975, None]\n",
      "[48, 4.9860086, 4.228514, 134.20337, 0.6981645, 8749.549, None]\n",
      "[50, 5.776796, None]\n",
      "[50, 4.9408584, 3.943081, 119.80812, 0.7733733, 8533.003, None]\n",
      "[52, 5.3454876, None]\n",
      "[52, 5.221771, 2.7395422, 115.26629, 0.7815024, 7687.9883, None]\n",
      "[54, 5.7401495, None]\n",
      "[54, 4.877422, 3.9947557, 130.94577, 0.6439421, 7697.3887, None]\n",
      "[56, 5.446227, None]\n",
      "[56, 4.980858, 3.1439788, 127.73664, 0.6117678, 6783.2246, None]\n",
      "[58, 5.4496512, None]\n",
      "[58, 5.260153, 2.3259459, 106.701416, 0.62797344, 6246.5425, None]\n",
      "[60, 5.260266, None]\n",
      "[60, 5.663411, 1.0126026, 101.32857, 0.7808797, 5817.9863, None]\n",
      "[62, 5.2200236, None]\n",
      "[62, 5.069406, 2.726182, 113.4233, 0.52980095, 5356.5674, None]\n",
      "[64, 5.343171, None]\n",
      "[64, 5.5818596, 1.1149746, 102.38482, 0.7315609, 5001.6875, None]\n",
      "[66, 5.630041, None]\n",
      "[66, 5.1299057, 2.1153321, 117.21451, 0.6866357, 4735.8647, None]\n",
      "[68, 5.4152536, None]\n",
      "[68, 5.597676, 0.9637777, 97.496445, 0.7077777, 4302.0947, None]\n",
      "[70, 4.681992, None]\n",
      "[70, 5.217965, 2.1715493, 109.4205, 0.58265215, 4198.229, None]\n",
      "[72, 5.469186, None]\n",
      "[72, 5.2941494, 1.7159426, 101.43345, 0.7864006, 3914.8164, None]\n",
      "[74, 5.4169884, None]\n",
      "[74, 4.7633986, 3.1666667, 118.5293, 0.74734575, 3612.678, None]\n",
      "[76, 5.500753, None]\n",
      "[76, 5.1451435, 2.072244, 105.16037, 0.6456509, 3416.535, None]\n",
      "[78, 5.321593, None]\n",
      "[78, 5.4591722, 1.1330194, 87.15412, 0.6805256, 3255.6187, None]\n",
      "[80, 5.574131, None]\n",
      "[80, 4.9079638, 2.962439, 107.118645, 0.58636594, 3062.7869, None]\n",
      "[82, 5.4051075, None]\n",
      "[82, 5.313937, 1.7937677, 94.87543, 0.75957936, 2910.3513, None]\n",
      "[84, 5.366499, None]\n",
      "[84, 4.8047037, 2.3737488, 122.36559, 0.623826, 2652.0278, None]\n",
      "[86, 5.407682, None]\n",
      "[86, 5.2625694, 2.0007887, 100.008224, 0.60419774, 2437.2212, None]\n",
      "[88, 4.888691, None]\n",
      "[88, 5.1542377, 1.6955105, 108.77241, 0.696207, 2296.5537, None]\n",
      "[90, 5.1967807, None]\n",
      "[90, 5.4591146, 1.2951386, 93.50981, 0.8097625, 2128.8464, None]\n",
      "[92, 5.6290894, None]\n",
      "[92, 5.280279, 1.3061944, 92.64472, 0.70588857, 2078.4172, None]\n",
      "[94, 5.4341965, None]\n",
      "[94, 5.0346527, 2.1027923, 105.50086, 0.5770331, 1875.1533, None]\n",
      "[96, 4.1825767, None]\n",
      "[96, 5.4111614, 1.7916863, 87.87996, 0.7380993, 1838.99, None]\n",
      "[98, 4.8066435, None]\n",
      "[98, 4.9941993, 2.7433643, 105.94906, 0.71774435, 1731.2267, None]\n",
      "[100, 5.4841537, None]\n",
      "[100, 5.2733088, 1.9500029, 85.21096, 0.79274577, 1625.1713, None]\n",
      "[102, 4.302587, None]\n",
      "[102, 5.165101, 2.578827, 94.99798, 0.67546916, 1500.9152, None]\n",
      "[104, 4.443336, None]\n",
      "[104, 5.222181, 1.8873354, 92.17793, 0.66256934, 1419.7313, None]\n",
      "[106, 5.302775, None]\n",
      "[106, 5.363292, 2.3909452, 83.06081, 0.8089697, 1322.3186, None]\n",
      "[108, 4.1109924, None]\n",
      "[108, 5.409713, 1.764762, 82.55607, 0.58821005, 1243.884, None]\n",
      "[110, 4.042422, None]\n",
      "[110, 4.9878445, 3.7779214, 93.97265, 0.68194866, 1185.5885, None]\n",
      "[112, 5.3672404, None]\n",
      "[112, 5.4646297, 1.2905143, 71.45247, 0.6167657, 1136.2373, None]\n",
      "[114, 4.7670712, None]\n",
      "[114, 4.965336, 3.7297304, 92.16715, 0.72098285, 1076.6365, None]\n",
      "[116, 3.7927368, None]\n",
      "[116, 5.0847545, 4.4374413, 95.92886, 0.6556154, 1017.42737, None]\n",
      "[118, 4.344643, None]\n",
      "[118, 5.5608454, 1.0577935, 69.23541, 0.77153367, 944.1049, None]\n",
      "[120, 3.6381955, None]\n",
      "[120, 5.4600964, 1.0171875, 77.88613, 0.63424456, 934.32306, None]\n",
      "[122, 4.503847, None]\n",
      "[122, 5.3576946, 2.8622034, 73.23652, 0.651335, 874.7621, None]\n",
      "[124, 4.3630185, None]\n",
      "[124, 5.463068, 1.4992703, 72.963486, 0.7910319, 823.49304, None]\n",
      "[126, 4.271637, None]\n",
      "[126, 5.3791313, 2.5422404, 71.964005, 0.87163115, 798.37177, None]\n",
      "[128, 2.8357985, None]\n",
      "[128, 5.3726025, 3.4757864, 74.24453, 0.64677215, 748.5429, None]\n",
      "[130, 4.4032726, None]\n",
      "[130, 5.3289742, 2.5930138, 75.80665, 0.6983125, 710.5603, None]\n",
      "[132, 4.819092, None]\n",
      "[132, 4.99412, 7.2385716, 81.78077, 0.6798136, 680.175, None]\n",
      "[134, 3.2740226, None]\n",
      "[134, 5.3055615, 3.885725, 64.773186, 0.6244727, 641.26385, None]\n",
      "[136, 2.274964, None]\n",
      "[136, 5.2824154, 3.7763677, 71.54262, 0.7975857, 619.45526, None]\n",
      "[138, 2.5294697, None]\n",
      "[138, 5.268946, 5.5122547, 80.323074, 0.71155804, 578.5647, None]\n",
      "[140, 3.6060388, None]\n",
      "[140, 5.2428617, 4.15972, 71.99677, 0.6119732, 572.1648, None]\n",
      "[142, 5.471062, None]\n",
      "[142, 5.401829, 3.5392861, 59.14849, 0.661377, 538.1502, None]\n",
      "[144, 3.7094076, None]\n",
      "[144, 5.2068067, 5.5129414, 72.148155, 0.6452763, 531.62274, None]\n",
      "[146, 3.6975026, None]\n",
      "[146, 5.3342576, 2.2767973, 71.29515, 0.6603827, 509.62787, None]\n",
      "[148, 3.0255108, None]\n",
      "[148, 5.1685953, 5.963747, 69.57428, 0.5861842, 484.1954, None]\n",
      "[150, 1.9228823, None]\n",
      "[150, 5.293568, 4.3272266, 68.21146, 0.6242111, 467.773, None]\n",
      "[152, 3.0385122, None]\n",
      "[152, 5.388355, 3.573039, 59.573128, 0.56026214, 448.03433, None]\n",
      "[154, 3.7487423, None]\n",
      "[154, 5.348276, 5.5621047, 61.6109, 0.67875, 430.82797, None]\n",
      "[156, 4.255764, None]\n",
      "[156, 5.232687, 5.96935, 66.407684, 0.51888484, 424.4794, None]\n",
      "[158, 3.4852467, None]\n",
      "[158, 5.3788853, 3.432299, 54.635773, 0.6069817, 408.12726, None]\n",
      "[160, 3.5930653, None]\n",
      "[160, 5.0736966, 9.766683, 72.49938, 0.624675, 394.58682, None]\n",
      "[162, 3.34715, None]\n",
      "[162, 5.489361, 1.7609692, 44.43478, 0.64571637, 384.02097, None]\n",
      "[164, 4.3597994, None]\n",
      "[164, 5.2639694, 5.9754663, 59.28954, 0.56003696, 366.66003, None]\n",
      "[166, 2.0738537, None]\n",
      "[166, 5.114957, 7.609357, 66.50809, 0.78813523, 359.7314, None]\n",
      "[168, 2.5976658, None]\n",
      "[168, 5.4258432, 1.7182505, 50.044815, 0.6006035, 348.75662, None]\n",
      "[170, 2.4976306, None]\n",
      "[170, 5.3737473, 2.56535, 49.180405, 0.7439237, 338.25546, None]\n",
      "[172, 2.6047115, None]\n",
      "[172, 5.141729, 8.754986, 62.656322, 0.5934436, 335.05157, None]\n",
      "[174, 1.566238, None]\n",
      "[174, 5.1576633, 5.6433992, 57.198563, 0.6098262, 322.71527, None]\n",
      "[176, 2.0801835, None]\n",
      "[176, 5.206211, 4.9279995, 57.64386, 0.702076, 317.12454, None]\n",
      "[178, 4.923143, None]\n",
      "[178, 5.289244, 3.2253265, 46.73539, 0.6484306, 306.95535, None]\n",
      "[180, 1.8128235, None]\n",
      "[180, 5.0897684, 6.5745487, 56.73513, 0.6132671, 301.82507, None]\n",
      "[182, 2.4774313, None]\n",
      "[182, 5.18073, 5.0716853, 53.323586, 0.6604268, 294.7767, None]\n",
      "[184, 2.662235, None]\n",
      "[184, 5.108839, 4.8428135, 56.187435, 0.52067596, 291.5355, None]\n",
      "[186, 2.7799869, None]\n",
      "[186, 5.343466, 1.5061783, 42.13211, 0.74132603, 285.38293, None]\n",
      "[188, 3.405446, None]\n",
      "[188, 5.0863976, 7.4651403, 54.087147, 0.67566997, 277.21027, None]\n",
      "[190, 4.076237, None]\n",
      "[190, 4.8874025, 9.835629, 56.511635, 0.6177136, 269.92157, None]\n",
      "[192, 3.0354447, None]\n",
      "[192, 4.8457136, 11.320804, 61.814537, 0.6638859, 267.07217, None]\n",
      "[194, 1.0582622, None]\n",
      "[194, 5.024061, 5.2720346, 55.35316, 0.5757926, 261.58154, None]\n",
      "[196, 1.3048098, None]\n",
      "[196, 5.204368, 3.6475756, 41.121536, 0.6230337, 257.92932, None]\n",
      "[198, 4.180951, None]\n",
      "[198, 5.134065, 5.487498, 46.29643, 0.6687217, 254.08115, None]\n",
      "[200, 2.6922235, None]\n",
      "[200, 5.216816, 2.2497184, 37.793392, 0.577766, 249.15764, None]\n",
      "[202, 4.3587246, None]\n",
      "[202, 4.935862, 8.776974, 48.163822, 0.6572304, 244.28766, None]\n",
      "[204, 3.2291238, None]\n",
      "[204, 4.9412723, 7.1561613, 48.771767, 0.62688464, 241.2966, None]\n",
      "[206, 2.1664512, None]\n",
      "[206, 4.9113398, 8.436915, 53.975647, 0.6900175, 236.14386, None]\n",
      "[208, 2.6428955, None]\n",
      "[208, 4.953541, 5.21768, 48.433437, 0.77325153, 231.51363, None]\n",
      "[210, 3.236777, None]\n",
      "[210, 4.8869905, 9.011103, 52.96074, 0.64665276, 228.50676, None]\n",
      "[212, 3.5470574, None]\n",
      "[212, 4.966476, 6.2320633, 47.516003, 0.6781842, 224.58159, None]\n",
      "[214, 4.7202444, None]\n",
      "[214, 4.9056664, 7.9110737, 53.62464, 0.61158496, 221.86682, None]\n",
      "[216, 1.7761744, None]\n",
      "[216, 5.0356197, 4.6414266, 38.858738, 0.61189026, 221.10103, None]\n",
      "[218, 4.1575027, None]\n",
      "[218, 4.7163296, 14.53303, 54.482967, 0.6671203, 215.6532, None]\n",
      "[220, 1.3918126, None]\n",
      "[220, 4.762206, 13.375353, 55.826626, 0.7198849, 212.4692, None]\n",
      "[222, 1.1531274, None]\n",
      "[222, 4.685337, 10.058304, 51.089638, 0.6002464, 210.26395, None]\n",
      "[224, 3.4006333, None]\n",
      "[224, 5.080395, 3.5264268, 35.15843, 0.4819496, 208.04788, None]\n",
      "[226, 2.1247292, None]\n",
      "[226, 4.9712315, 4.508917, 37.360023, 0.6434421, 205.17969, None]\n",
      "[228, 2.1224933, None]\n",
      "[228, 4.9533567, 5.7660666, 45.684853, 0.5876898, 201.75098, None]\n",
      "[230, 2.1364496, None]\n",
      "[230, 5.018893, 3.5230756, 39.906338, 0.47141805, 198.32745, None]\n",
      "[232, 2.8639126, None]\n",
      "[232, 4.6745114, 10.584072, 56.151913, 0.6470516, 194.27104, None]\n",
      "[234, 2.287528, None]\n",
      "[234, 4.8592668, 6.083001, 46.76131, 0.61825985, 195.03926, None]\n",
      "[236, 1.9622718, None]\n",
      "[236, 4.911615, 5.35255, 45.993774, 0.51691, 189.71501, None]\n",
      "[238, 2.5427728, None]\n",
      "[238, 4.994178, 3.7033725, 41.534733, 0.72152376, 190.1138, None]\n",
      "[240, 1.7706894, None]\n",
      "[240, 5.083383, 2.2649436, 40.32562, 0.50697917, 186.67717, None]\n",
      "[242, 2.1393542, None]\n",
      "[242, 4.960542, 7.482978, 45.29853, 0.5737876, 184.60686, None]\n",
      "[244, 3.1452837, None]\n",
      "[244, 5.0390415, 5.6950116, 42.563377, 0.59127504, 181.23387, None]\n",
      "[246, 2.7102, None]\n",
      "[246, 4.926845, 7.8260756, 49.66651, 0.6008401, 180.57506, None]\n",
      "[248, 3.9861603, None]\n",
      "[248, 5.0411615, 6.9115095, 45.398594, 0.65592974, 178.23358, None]\n",
      "[250, 1.8752441, None]\n",
      "[250, 5.1762266, 2.4800558, 35.968586, 0.6051721, 176.87593, None]\n",
      "[252, 2.6765623, None]\n",
      "[252, 5.0513964, 5.7239404, 44.15787, 0.6078489, 173.82388, None]\n",
      "[254, 2.8754072, None]\n",
      "[254, 5.052599, 7.700191, 45.981285, 0.602815, 172.67049, None]\n",
      "[256, 2.701096, None]\n",
      "[256, 5.039157, 8.418591, 47.667526, 0.56049293, 170.76105, None]\n",
      "[258, 1.5876402, None]\n",
      "[258, 4.943204, 8.874123, 57.417892, 0.5610891, 168.44675, None]\n",
      "[260, 3.177784, None]\n",
      "[260, 4.960559, 7.1282005, 47.59781, 0.49627396, 165.75148, None]\n",
      "[262, 5.151598, None]\n",
      "[262, 5.0182667, 6.932358, 44.80988, 0.604761, 165.57341, None]\n",
      "[264, 4.019635, None]\n",
      "[264, 5.092257, 3.6079023, 42.923183, 0.7629377, 163.55849, None]\n",
      "[266, 2.6143541, None]\n",
      "[266, 4.875102, 10.15218, 50.59188, 0.56270003, 160.90315, None]\n",
      "[268, 1.3996829, None]\n",
      "[268, 5.1474547, 1.899421, 33.7439, 0.5669971, 159.29208, None]\n",
      "[270, 2.5800183, None]\n",
      "[270, 5.1582794, 0.45729214, 29.272396, 0.67233706, 157.41841, None]\n",
      "[272, 1.87708, None]\n",
      "[272, 4.9795637, 4.300322, 40.663578, 0.58417314, 156.133, None]\n",
      "[274, 3.489172, None]\n",
      "[274, 4.9136724, 6.1428633, 43.204247, 0.4847261, 154.71913, None]\n",
      "[276, 1.263538, None]\n",
      "[276, 5.0137277, 2.692802, 37.43342, 0.574779, 152.6695, None]\n",
      "[278, 3.3690276, None]\n",
      "[278, 5.135065, 0.3293505, 30.453888, 0.57900125, 152.76086, None]\n",
      "[280, 3.0215225, None]\n",
      "[280, 4.899754, 8.791852, 43.420166, 0.6947229, 150.87077, None]\n",
      "[282, 1.0534567, None]\n",
      "[282, 5.135292, 1.1454344, 28.891586, 0.53838855, 149.05574, None]\n",
      "[284, 2.8496997, None]\n",
      "[284, 4.930823, 3.7561846, 40.726143, 0.5825831, 147.89278, None]\n",
      "[286, 4.0477886, None]\n",
      "[286, 5.035246, 2.3158495, 32.468643, 0.6347396, 147.66498, None]\n",
      "[288, 3.91077, None]\n",
      "[288, 4.768981, 10.622213, 51.337597, 0.49122703, 146.14331, None]\n",
      "[290, 2.3202085, None]\n",
      "[290, 4.845784, 11.158166, 47.118332, 0.44611636, 145.17885, None]\n",
      "[292, 2.9723015, None]\n",
      "[292, 4.7896237, 10.053326, 49.484665, 0.5951424, 143.21028, None]\n",
      "[294, 1.3467002, None]\n",
      "[294, 4.7637243, 11.8802395, 49.74583, 0.6385439, 143.97693, None]\n",
      "[296, 3.1740956, None]\n",
      "[296, 5.0387816, 1.2268622, 31.395927, 0.61804014, 141.28635, None]\n",
      "[298, 1.8000373, None]\n",
      "[298, 4.9010754, 6.2328553, 41.111458, 0.61838514, 140.78215, None]\n",
      "[300, 2.8116074, None]\n",
      "[300, 5.0105963, 1.9196038, 30.91842, 0.6473229, 140.57506, None]\n",
      "[302, 3.8316855, None]\n",
      "[302, 4.887537, 4.5167055, 39.17006, 0.5973319, 139.72127, None]\n",
      "[304, 2.2145257, None]\n",
      "[304, 4.762805, 12.608767, 49.031788, 0.7114561, 139.1928, None]\n",
      "[306, 2.5213835, None]\n",
      "[306, 4.8886847, 5.614409, 39.699085, 0.57963043, 137.17693, None]\n",
      "[308, 3.936011, None]\n",
      "[308, 4.7531123, 11.020834, 46.94641, 0.62642336, 136.744, None]\n",
      "[310, 3.780115, None]\n",
      "[310, 4.89725, 7.4972143, 37.66514, 0.6099793, 135.81581, None]\n",
      "[312, 4.3459682, None]\n",
      "[312, 4.9185915, 2.714766, 32.950287, 0.5682114, 135.10062, None]\n",
      "[314, 2.0270164, None]\n",
      "[314, 4.899924, 5.4937677, 37.303368, 0.5750182, 133.8532, None]\n",
      "[316, 2.6489577, None]\n",
      "[316, 4.822096, 5.6648254, 45.136738, 0.5224912, 134.78528, None]\n",
      "[318, 2.1249995, None]\n",
      "[318, 4.782463, 9.966153, 42.76974, 0.4563986, 132.54018, None]\n",
      "[320, 2.6419218, None]\n",
      "[320, 4.717476, 8.976929, 48.657787, 0.56824, 132.35878, None]\n",
      "[322, 2.0152433, None]\n",
      "[322, 4.7329636, 11.140618, 45.788254, 0.5351653, 130.847, None]\n",
      "[324, 2.732154, None]\n",
      "[324, 4.839052, 4.3573837, 34.590034, 0.62634254, 131.25618, None]\n",
      "[326, 1.8086709, None]\n",
      "[326, 4.664653, 12.163865, 49.388466, 0.50453955, 129.89328, None]\n",
      "[328, 2.8006327, None]\n",
      "[328, 4.6752443, 7.581892, 43.97366, 0.74502945, 129.3941, None]\n",
      "[330, 1.2733071, None]\n",
      "[330, 4.6629553, 10.4014, 47.101402, 0.49255124, 129.36803, None]\n",
      "[332, 3.928845, None]\n",
      "[332, 4.682255, 9.325615, 40.98155, 0.60254467, 128.36433, None]\n",
      "[334, 1.2237933, None]\n",
      "[334, 4.652344, 9.34591, 42.082367, 0.6383948, 128.66092, None]\n",
      "[336, 3.7656012, None]\n",
      "[336, 4.7107778, 4.7232966, 36.074184, 0.68009645, 127.4792, None]\n",
      "[338, 2.5184805, None]\n",
      "[338, 4.7966967, 3.3911023, 34.448303, 0.61650705, 126.10864, None]\n",
      "[340, 3.705942, None]\n",
      "[340, 4.724637, 5.311163, 40.71849, 0.6377699, 126.06846, None]\n",
      "[342, 1.2442896, None]\n",
      "[342, 4.7654576, 4.192972, 36.86052, 0.5317958, 125.04227, None]\n",
      "[344, 1.907608, None]\n",
      "[344, 4.643872, 6.52173, 43.08878, 0.68555593, 125.653725, None]\n",
      "[346, 3.8152332, None]\n",
      "[346, 4.6994295, 8.644603, 41.09095, 0.5528768, 123.70917, None]\n",
      "[348, 2.3597834, None]\n",
      "[348, 4.728101, 6.4373007, 37.002914, 0.5232021, 123.753624, None]\n",
      "[350, 1.536702, None]\n",
      "[350, 4.6229267, 9.561411, 47.079147, 0.51109594, 123.44872, None]\n",
      "[352, 2.8102486, None]\n",
      "[352, 4.6929903, 8.67853, 42.620136, 0.59759223, 123.605865, None]\n",
      "[354, 3.277916, None]\n",
      "[354, 4.778661, 5.861393, 36.60176, 0.5711854, 121.25876, None]\n",
      "[356, 1.5654471, None]\n",
      "[356, 4.8090963, 6.6377077, 38.345802, 0.6187679, 121.05917, None]\n",
      "[358, 1.8684258, None]\n",
      "[358, 4.71202, 8.745667, 44.22181, 0.632592, 120.50866, None]\n",
      "[360, 2.214819, None]\n",
      "[360, 4.743363, 6.8854446, 46.505222, 0.5046372, 119.57167, None]\n",
      "[362, 2.6137595, None]\n",
      "[362, 4.7670307, 8.68425, 45.024586, 0.45985314, 118.67672, None]\n",
      "[364, 2.621363, None]\n",
      "[364, 4.805374, 5.8494983, 39.065365, 0.7081769, 119.06506, None]\n",
      "[366, 2.5359669, None]\n",
      "[366, 4.791833, 5.1317396, 40.19598, 0.6065976, 119.098236, None]\n",
      "[368, 2.4510274, None]\n",
      "[368, 4.8701863, 2.8665476, 29.628, 0.45902658, 118.36904, None]\n",
      "[370, 2.4640522, None]\n",
      "[370, 4.7101283, 8.850191, 47.34993, 0.57281005, 116.513245, None]\n",
      "[372, 1.0670252, None]\n",
      "[372, 4.7883816, 6.4464035, 42.437958, 0.48873243, 116.41757, None]\n",
      "[374, 2.3873708, None]\n",
      "[374, 4.8084607, 7.1845613, 40.643845, 0.59826285, 116.42641, None]\n",
      "[376, 1.1994463, None]\n",
      "[376, 4.816256, 6.2436676, 36.685112, 0.5383107, 115.563675, None]\n",
      "[378, 1.9242365, None]\n",
      "[378, 4.793374, 5.482273, 43.18872, 0.5954128, 114.28581, None]\n",
      "[380, 4.0129614, None]\n",
      "[380, 4.7774673, 8.700028, 41.29415, 0.58299613, 114.025604, None]\n",
      "[382, 1.6078256, None]\n",
      "[382, 4.7160225, 11.018412, 44.710743, 0.4936626, 113.47415, None]\n",
      "[384, 3.8243992, None]\n",
      "[384, 4.815764, 4.191708, 36.37028, 0.6349594, 113.38321, None]\n",
      "[386, 1.3909287, None]\n",
      "[386, 4.7885103, 4.635557, 39.799026, 0.61312646, 113.00138, None]\n",
      "[388, 2.2009451, None]\n",
      "[388, 4.81423, 2.93516, 36.9288, 0.50548285, 112.83463, None]\n",
      "[390, 1.8427334, None]\n",
      "[390, 4.8883944, 0.31176782, 28.867348, 0.54045755, 111.76036, None]\n",
      "[392, 3.6916294, None]\n",
      "[392, 4.727003, 9.265211, 40.37806, 0.6100202, 111.628944, None]\n",
      "[394, 3.055459, None]\n",
      "[394, 4.8122897, 4.465391, 33.843445, 0.5131201, 109.690704, None]\n",
      "[396, 2.3568025, None]\n",
      "[396, 4.7229342, 6.789622, 40.677612, 0.47732082, 110.669876, None]\n",
      "[398, 2.0620542, None]\n",
      "[398, 4.6924, 4.6066933, 42.258774, 0.56413555, 108.92493, None]\n",
      "[400, 1.4672678, None]\n",
      "[400, 4.642443, 7.742355, 42.99926, 0.61640316, 109.65578, None]\n",
      "[402, 1.3125223, None]\n",
      "[402, 4.641597, 6.829033, 40.17052, 0.4823072, 107.84624, None]\n"
     ]
    }
   ],
   "source": [
    "for i in range(200):\n",
    "    print(sess.run([global_step_discriminator, loss_disc, d_optimizer], feed_dict = {X: x,\n",
    "                                                        X_len: x_len,\n",
    "                                                        T: y,\n",
    "                                                        T_lengths: y_len, Y: np.expand_dims(x, -1)}))\n",
    "    print(sess.run([global_step_generator, loss_gen, loss_fm, loss_mel, loss_dur, loss_kl, g_optimizer], feed_dict = {X: x,\n",
    "                                                        X_len: x_len,\n",
    "                                                        T: y,\n",
    "                                                        T_lengths: y_len, Y: np.expand_dims(x, -1)}))"
   ]
  },
  {
   "cell_type": "code",
   "execution_count": 52,
   "metadata": {},
   "outputs": [
    {
     "data": {
      "text/plain": [
       "((3, 32, 80), (3, 32, 80))"
      ]
     },
     "execution_count": 52,
     "metadata": {},
     "output_type": "execute_result"
    }
   ],
   "source": [
    "o_ = sess.run([y_mel, y_hat_mel, outputs[1], y_hat_mel_out], feed_dict = {X: x,\n",
    "                                                        X_len: x_len,\n",
    "                                                        T: y,\n",
    "                                                        T_lengths: y_len})\n",
    "o_[0].shape, o_[1].shape"
   ]
  },
  {
   "cell_type": "code",
   "execution_count": 53,
   "metadata": {},
   "outputs": [
    {
     "data": {
      "text/plain": [
       "((3, 292, 61), (3, 292, 80))"
      ]
     },
     "execution_count": 53,
     "metadata": {},
     "output_type": "execute_result"
    }
   ],
   "source": [
    "o_[2].shape, o_[3].shape"
   ]
  },
  {
   "cell_type": "code",
   "execution_count": 54,
   "metadata": {},
   "outputs": [],
   "source": [
    "import matplotlib.pyplot as plt"
   ]
  },
  {
   "cell_type": "code",
   "execution_count": 55,
   "metadata": {
    "scrolled": false
   },
   "outputs": [
    {
     "data": {
      "image/png": "[encoded data removed]",
      "text/plain": [
       "<Figure size 576x432 with 2 Axes>"
      ]
     },
     "metadata": {
      "needs_background": "light"
     },
     "output_type": "display_data"
    }
   ],
   "source": [
    "fig = plt.figure(figsize=(8, 6))\n",
    "ax = fig.add_subplot(111)\n",
    "ax.set_title('Alignment steps')\n",
    "im = ax.imshow(\n",
    "    o_[-2][1].T,\n",
    "    aspect='auto',\n",
    "    origin='lower',\n",
    "    interpolation='none')\n",
    "fig.colorbar(im, ax=ax)\n",
    "xlabel = 'Decoder timestep'\n",
    "plt.xlabel(xlabel)\n",
    "plt.ylabel('Encoder timestep')\n",
    "plt.tight_layout()\n",
    "plt.show()"
   ]
  },
  {
   "cell_type": "code",
   "execution_count": 56,
   "metadata": {},
   "outputs": [
    {
     "data": {
      "image/png": "[encoded data removed]",
      "text/plain": [
       "<Figure size 720x576 with 2 Axes>"
      ]
     },
     "metadata": {
      "needs_background": "light"
     },
     "output_type": "display_data"
    }
   ],
   "source": [
    "fig = plt.figure(figsize=(10, 8))\n",
    "ax1 = fig.add_subplot(311)\n",
    "im = ax1.imshow(np.rot90(o_[3][0]), aspect='auto', interpolation='none')\n",
    "fig.colorbar(mappable=im, shrink=0.65, orientation='horizontal', ax=ax1)\n",
    "plt.show()"
   ]
  },
  {
   "cell_type": "code",
   "execution_count": 57,
   "metadata": {},
   "outputs": [
    {
     "data": {
      "image/png": "[encoded data removed]",
      "text/plain": [
       "<Figure size 720x576 with 2 Axes>"
      ]
     },
     "metadata": {
      "needs_background": "light"
     },
     "output_type": "display_data"
    }
   ],
   "source": [
    "fig = plt.figure(figsize=(10, 8))\n",
    "ax1 = fig.add_subplot(311)\n",
    "im = ax1.imshow(np.rot90(o_[3][1]), aspect='auto', interpolation='none')\n",
    "fig.colorbar(mappable=im, shrink=0.65, orientation='horizontal', ax=ax1)\n",
    "plt.show()"
   ]
  },
  {
   "cell_type": "code",
   "execution_count": 58,
   "metadata": {},
   "outputs": [
    {
     "data": {
      "image/png": "[encoded data removed]",
      "text/plain": [
       "<Figure size 720x576 with 2 Axes>"
      ]
     },
     "metadata": {
      "needs_background": "light"
     },
     "output_type": "display_data"
    }
   ],
   "source": [
    "fig = plt.figure(figsize=(10, 8))\n",
    "ax1 = fig.add_subplot(311)\n",
    "im = ax1.imshow(np.rot90(o_[3][2]), aspect='auto', interpolation='none')\n",
    "fig.colorbar(mappable=im, shrink=0.65, orientation='horizontal', ax=ax1)\n",
    "plt.show()"
   ]
  },
  {
   "cell_type": "code",
   "execution_count": null,
   "metadata": {},
   "outputs": [],
   "source": []
  }
 ],
 "metadata": {
  "kernelspec": {
   "display_name": "Python 3",
   "language": "python",
   "name": "python3"
  },
  "language_info": {
   "codemirror_mode": {
    "name": "ipython",
    "version": 3
   },
   "file_extension": ".py",
   "mimetype": "text/x-python",
   "name": "python",
   "nbconvert_exporter": "python",
   "pygments_lexer": "ipython3",
   "version": "3.7.7"
  },
  "varInspector": {
   "cols": {
    "lenName": 16,
    "lenType": 16,
    "lenVar": 40
   },
   "kernels_config": {
    "python": {
     "delete_cmd_postfix": "",
     "delete_cmd_prefix": "del ",
     "library": "var_list.py",
     "varRefreshCmd": "print(var_dic_list())"
    },
    "r": {
     "delete_cmd_postfix": ") ",
     "delete_cmd_prefix": "rm(",
     "library": "var_list.r",
     "varRefreshCmd": "cat(var_dic_list()) "
    }
   },
   "types_to_exclude": [
    "module",
    "function",
    "builtin_function_or_method",
    "instance",
    "_Feature"
   ],
   "window_display": false
  }
 },
 "nbformat": 4,
 "nbformat_minor": 4
}

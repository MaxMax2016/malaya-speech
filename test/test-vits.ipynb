{
 "cells": [
  {
   "cell_type": "code",
   "execution_count": 1,
   "metadata": {},
   "outputs": [],
   "source": [
    "import os\n",
    "\n",
    "os.environ['CUDA_VISIBLE_DEVICES'] = '1'"
   ]
  },
  {
   "cell_type": "code",
   "execution_count": 2,
   "metadata": {},
   "outputs": [],
   "source": [
    "import sys\n",
    "\n",
    "SOURCE_DIR = os.path.dirname(os.path.dirname(os.path.abspath(__name__)))\n",
    "sys.path.insert(0, SOURCE_DIR)"
   ]
  },
  {
   "cell_type": "code",
   "execution_count": 3,
   "metadata": {},
   "outputs": [],
   "source": [
    "# import tensorflow as tf\n",
    "# tf.compat.v1.enable_eager_execution()"
   ]
  },
  {
   "cell_type": "code",
   "execution_count": 4,
   "metadata": {},
   "outputs": [],
   "source": [
    "import malaya_speech\n",
    "import malaya_speech.config\n",
    "from malaya_speech.train.model import vits\n",
    "import tensorflow as tf\n",
    "import numpy as np\n",
    "import math\n",
    "import matplotlib.pyplot as plt"
   ]
  },
  {
   "cell_type": "code",
   "execution_count": 5,
   "metadata": {},
   "outputs": [
    {
     "data": {
      "text/plain": [
       "dict_keys(['mel', 'text_ids', 'len_mel', 'len_text_ids', 'stop_token_target', 'f0', 'len_f0', 'energy', 'len_energy', 'g'])"
      ]
     },
     "execution_count": 5,
     "metadata": {},
     "output_type": "execute_result"
    }
   ],
   "source": [
    "import pickle\n",
    "\n",
    "with open('dataset-mel.pkl', 'rb') as fopen:\n",
    "    data, d = pickle.load(fopen)\n",
    "    \n",
    "with open('dataset-mel-wav.pkl', 'rb') as fopen:\n",
    "    wav = pickle.load(fopen)\n",
    "    \n",
    "data.keys()"
   ]
  },
  {
   "cell_type": "code",
   "execution_count": 6,
   "metadata": {},
   "outputs": [],
   "source": [
    "config = vits.Config(mel = 80, vocabs = 66)"
   ]
  },
  {
   "cell_type": "code",
   "execution_count": 7,
   "metadata": {},
   "outputs": [
    {
     "name": "stdout",
     "output_type": "stream",
     "text": [
      "WARNING:tensorflow:From /Library/Frameworks/Python.framework/Versions/3.7/lib/python3.7/site-packages/tensorflow_core/python/keras/initializers.py:119: calling RandomUniform.__init__ (from tensorflow.python.ops.init_ops) with dtype is deprecated and will be removed in a future version.\n",
      "Instructions for updating:\n",
      "Call initializer instance with the dtype argument instead of passing it to the constructor\n"
     ]
    }
   ],
   "source": [
    "model = vits.Model(config)"
   ]
  },
  {
   "cell_type": "code",
   "execution_count": 8,
   "metadata": {},
   "outputs": [],
   "source": [
    "# i = tf.convert_to_tensor([data['text_ids'][0],data['text_ids'][0]])\n",
    "# i_lengths = tf.convert_to_tensor([data['len_text_ids'][0,0], data['len_text_ids'][0,0]])\n",
    "# mel_outputs = tf.convert_to_tensor([data['mel'].astype(np.float32)[0],data['mel'].astype(np.float32)[0]])\n",
    "# mel_lengths = tf.convert_to_tensor([408,408])"
   ]
  },
  {
   "cell_type": "code",
   "execution_count": 9,
   "metadata": {},
   "outputs": [],
   "source": [
    "i = tf.placeholder(tf.int32, [None, None])\n",
    "i_lengths = tf.placeholder(tf.int32, [None])\n",
    "mel_outputs = tf.placeholder(tf.float32, [None, None, 80])\n",
    "mel_lengths = tf.placeholder(tf.int32, [None])"
   ]
  },
  {
   "cell_type": "code",
   "execution_count": 10,
   "metadata": {},
   "outputs": [
    {
     "name": "stdout",
     "output_type": "stream",
     "text": [
      "WARNING:tensorflow:From /Library/Frameworks/Python.framework/Versions/3.7/lib/python3.7/site-packages/tensorflow_core/python/ops/resource_variable_ops.py:1630: calling BaseResourceVariable.__init__ (from tensorflow.python.ops.resource_variable_ops) with constraint is deprecated and will be removed in a future version.\n",
      "Instructions for updating:\n",
      "If using Keras pass *_constraint arguments to layers.\n",
      "WARNING:tensorflow:From /Users/huseinzolkepli/Documents/malaya-speech/malaya_speech/train/model/utils.py:469: The name tf.debugging.assert_equal is deprecated. Please use tf.compat.v1.debugging.assert_equal instead.\n",
      "\n",
      "WARNING:tensorflow:From /Library/Frameworks/Python.framework/Versions/3.7/lib/python3.7/site-packages/tensorflow_core/python/ops/init_ops.py:97: calling GlorotUniform.__init__ (from tensorflow.python.ops.init_ops) with dtype is deprecated and will be removed in a future version.\n",
      "Instructions for updating:\n",
      "Call initializer instance with the dtype argument instead of passing it to the constructor\n",
      "WARNING:tensorflow:From /Library/Frameworks/Python.framework/Versions/3.7/lib/python3.7/site-packages/tensorflow_core/python/ops/init_ops.py:97: calling Zeros.__init__ (from tensorflow.python.ops.init_ops) with dtype is deprecated and will be removed in a future version.\n",
      "Instructions for updating:\n",
      "Call initializer instance with the dtype argument instead of passing it to the constructor\n"
     ]
    },
    {
     "data": {
      "text/plain": [
       "(<tf.Tensor 'model/mul_42:0' shape=(?, ?, 80) dtype=float32>,\n",
       " <tf.Tensor 'model/Cast_3:0' shape=(?,) dtype=int32>,\n",
       " <tf.Tensor 'model/transpose:0' shape=(?, ?, ?) dtype=float32>)"
      ]
     },
     "execution_count": 10,
     "metadata": {},
     "output_type": "execute_result"
    }
   ],
   "source": [
    "mel, mellen, attn_out = model(inputs = i, lengths = i_lengths)\n",
    "mel, mellen, attn_out"
   ]
  },
  {
   "cell_type": "code",
   "execution_count": 11,
   "metadata": {},
   "outputs": [
    {
     "name": "stdout",
     "output_type": "stream",
     "text": [
      "WARNING:tensorflow:From /Users/huseinzolkepli/Documents/malaya-speech/malaya_speech/train/model/vits/model.py:271: where (from tensorflow.python.ops.array_ops) is deprecated and will be removed in a future version.\n",
      "Instructions for updating:\n",
      "Use tf.where in 2.0, which has the same broadcast rule as np.where\n"
     ]
    },
    {
     "data": {
      "text/plain": [
       "(<tf.Tensor 'add_4:0' shape=() dtype=float32>,\n",
       " {'kl': <tf.Tensor 'Mean:0' shape=() dtype=float32>,\n",
       "  'durloss': <tf.Tensor 'Mean_1:0' shape=() dtype=float32>},\n",
       " <tf.Tensor 'StopGradient:0' shape=(?, ?, ?) dtype=float32>)"
      ]
     },
     "execution_count": 11,
     "metadata": {},
     "output_type": "execute_result"
    }
   ],
   "source": [
    "losses, attn = model.compute_loss(text = i, textlen = i_lengths, mel = mel_outputs, mellen = mel_lengths)\n",
    "loss = losses['kl'] + losses['durloss']\n",
    "loss, losses, attn"
   ]
  },
  {
   "cell_type": "code",
   "execution_count": 12,
   "metadata": {},
   "outputs": [],
   "source": [
    "optimizer = tf.train.AdamOptimizer(learning_rate = 1e-4, beta1 = 0.9, \n",
    "                                   beta2 = 0.98, epsilon = 1e-9).minimize(loss)"
   ]
  },
  {
   "cell_type": "code",
   "execution_count": 13,
   "metadata": {},
   "outputs": [],
   "source": [
    "sess = tf.InteractiveSession()\n",
    "sess.run(tf.global_variables_initializer())"
   ]
  },
  {
   "cell_type": "code",
   "execution_count": 14,
   "metadata": {},
   "outputs": [
    {
     "name": "stdout",
     "output_type": "stream",
     "text": [
      "CPU times: user 5.18 s, sys: 349 ms, total: 5.53 s\n",
      "Wall time: 3.8 s\n"
     ]
    }
   ],
   "source": [
    "%%time\n",
    "\n",
    "o = sess.run([loss, losses, attn], feed_dict = {i: [data['text_ids'][0],data['text_ids'][0]],\n",
    "                                               i_lengths: [data['len_text_ids'][0,0], data['len_text_ids'][0,0]],\n",
    "                                               mel_outputs: [data['mel'].astype(np.float32)[0],data['mel'].astype(np.float32)[0]],\n",
    "                                               mel_lengths: [408, 408]})"
   ]
  },
  {
   "cell_type": "code",
   "execution_count": null,
   "metadata": {
    "scrolled": true
   },
   "outputs": [
    {
     "name": "stdout",
     "output_type": "stream",
     "text": [
      "0 [221.98409, {'kl': 220.4744, 'durloss': 1.5096879}, None]\n",
      "1 [57.02971, {'kl': 56.48719, 'durloss': 0.54251814}, None]\n",
      "2 [11.559829, {'kl': 11.415147, 'durloss': 0.14468169}, None]\n",
      "3 [10.376647, {'kl': 10.208508, 'durloss': 0.16813923}, None]\n",
      "4 [8.034849, {'kl': 7.8232937, 'durloss': 0.21155569}, None]\n",
      "5 [6.0414124, {'kl': 5.8270736, 'durloss': 0.21433875}, None]\n",
      "6 [4.339792, {'kl': 4.102727, 'durloss': 0.23706499}, None]\n",
      "7 [3.227149, {'kl': 2.9773474, 'durloss': 0.24980167}, None]\n",
      "8 [2.5313945, {'kl': 2.289832, 'durloss': 0.24156243}, None]\n",
      "9 [1.9673915, {'kl': 1.7300569, 'durloss': 0.23733458}, None]\n",
      "10 [1.6723088, {'kl': 1.4673156, 'durloss': 0.20499328}, None]\n",
      "11 [1.4841914, {'kl': 1.2999163, 'durloss': 0.18427515}, None]\n",
      "12 [1.4156601, {'kl': 1.2019105, 'durloss': 0.2137497}, None]\n",
      "13 [1.3528669, {'kl': 1.1701275, 'durloss': 0.18273933}, None]\n",
      "14 [1.3036985, {'kl': 1.1405373, 'durloss': 0.16316126}, None]\n",
      "15 [1.2857294, {'kl': 1.1338165, 'durloss': 0.15191294}, None]\n",
      "16 [1.2632713, {'kl': 1.1156163, 'durloss': 0.14765504}, None]\n",
      "17 [1.2236015, {'kl': 1.1009659, 'durloss': 0.12263557}, None]\n",
      "18 [1.201385, {'kl': 1.0858593, 'durloss': 0.11552576}, None]\n",
      "19 [1.1733447, {'kl': 1.0716913, 'durloss': 0.10165343}, None]\n",
      "20 [1.1446112, {'kl': 1.0523257, 'durloss': 0.09228551}, None]\n",
      "21 [1.121459, {'kl': 1.0338447, 'durloss': 0.08761425}, None]\n",
      "22 [1.1010015, {'kl': 1.0153794, 'durloss': 0.0856221}, None]\n",
      "23 [1.0814819, {'kl': 0.9964682, 'durloss': 0.08501369}, None]\n",
      "24 [1.0595582, {'kl': 0.9737248, 'durloss': 0.08583337}, None]\n",
      "25 [1.0447994, {'kl': 0.9520831, 'durloss': 0.09271632}, None]\n",
      "26 [1.0127819, {'kl': 0.9260285, 'durloss': 0.086753376}, None]\n",
      "27 [0.9881698, {'kl': 0.90175533, 'durloss': 0.08641443}, None]\n",
      "28 [0.95834273, {'kl': 0.8738692, 'durloss': 0.08447356}, None]\n",
      "29 [0.9317227, {'kl': 0.84542656, 'durloss': 0.08629615}, None]\n",
      "30 [0.9014969, {'kl': 0.8157058, 'durloss': 0.08579114}, None]\n",
      "31 [0.8694392, {'kl': 0.78375304, 'durloss': 0.08568615}, None]\n",
      "32 [0.8439176, {'kl': 0.7540428, 'durloss': 0.089874804}, None]\n",
      "33 [0.80601376, {'kl': 0.72085893, 'durloss': 0.08515485}, None]\n",
      "34 [0.7663182, {'kl': 0.68282735, 'durloss': 0.08349088}, None]\n",
      "35 [0.7312966, {'kl': 0.64505994, 'durloss': 0.08623668}, None]\n",
      "36 [0.6932918, {'kl': 0.60860276, 'durloss': 0.084689006}, None]\n",
      "37 [0.6552077, {'kl': 0.5670195, 'durloss': 0.08818817}, None]\n",
      "38 [0.60979384, {'kl': 0.5256557, 'durloss': 0.08413814}, None]\n",
      "39 [0.57049656, {'kl': 0.48593163, 'durloss': 0.08456492}, None]\n",
      "40 [0.5361048, {'kl': 0.4504509, 'durloss': 0.08565393}, None]\n",
      "41 [0.48355404, {'kl': 0.39985156, 'durloss': 0.08370248}, None]\n",
      "42 [0.43788958, {'kl': 0.35445684, 'durloss': 0.08343274}, None]\n",
      "43 [0.39657435, {'kl': 0.3095004, 'durloss': 0.08707395}, None]\n",
      "44 [0.3452394, {'kl': 0.26215, 'durloss': 0.083089426}, None]\n",
      "45 [0.29660636, {'kl': 0.2130565, 'durloss': 0.08354987}, None]\n",
      "46 [0.25079536, {'kl': 0.16597977, 'durloss': 0.08481561}, None]\n",
      "47 [0.1965935, {'kl': 0.11332404, 'durloss': 0.08326946}, None]\n",
      "48 [0.14948806, {'kl': 0.06541238, 'durloss': 0.08407569}, None]\n",
      "49 [0.09659926, {'kl': 0.010892043, 'durloss': 0.08570722}, None]\n",
      "50 [0.044602837, {'kl': -0.041109893, 'durloss': 0.08571273}, None]\n",
      "51 [-0.015623182, {'kl': -0.09842426, 'durloss': 0.08280108}, None]\n",
      "52 [-0.06068097, {'kl': -0.14749372, 'durloss': 0.08681275}, None]\n",
      "53 [-0.118400685, {'kl': -0.20784885, 'durloss': 0.08944816}, None]\n",
      "54 [-0.1833818, {'kl': -0.2688837, 'durloss': 0.08550191}, None]\n",
      "55 [-0.021522313, {'kl': -0.12875637, 'durloss': 0.10723406}, None]\n",
      "56 [-0.28444785, {'kl': -0.36940968, 'durloss': 0.08496185}, None]\n",
      "57 [-0.33125114, {'kl': -0.41491425, 'durloss': 0.0836631}, None]\n",
      "58 [-0.37765932, {'kl': -0.4626547, 'durloss': 0.08499539}, None]\n",
      "59 [-0.42998856, {'kl': -0.5125293, 'durloss': 0.08254075}, None]\n",
      "60 [-0.48265195, {'kl': -0.565212, 'durloss': 0.08256005}, None]\n",
      "61 [-0.53126687, {'kl': -0.61813474, 'durloss': 0.08686787}, None]\n",
      "62 [-0.5925458, {'kl': -0.67459893, 'durloss': 0.082053125}, None]\n",
      "63 [-0.6513897, {'kl': -0.7341606, 'durloss': 0.082770854}, None]\n",
      "64 [-0.7117183, {'kl': -0.79409003, 'durloss': 0.082371734}, None]\n",
      "65 [-0.75914764, {'kl': -0.8486072, 'durloss': 0.08945955}, None]\n",
      "66 [-0.82862556, {'kl': -0.91562855, 'durloss': 0.08700301}, None]\n",
      "67 [-0.8953819, {'kl': -0.9774507, 'durloss': 0.08206883}, None]\n",
      "68 [-0.96802133, {'kl': -1.0503765, 'durloss': 0.082355216}, None]\n",
      "69 [-1.0322309, {'kl': -1.1143656, 'durloss': 0.082134664}, None]\n",
      "70 [-0.9825404, {'kl': -1.1015075, 'durloss': 0.11896712}, None]\n",
      "71 [-1.0417475, {'kl': -1.1491914, 'durloss': 0.107443884}, None]\n",
      "72 [-1.2141138, {'kl': -1.3021233, 'durloss': 0.08800946}, None]\n",
      "73 [-1.257072, {'kl': -1.3546538, 'durloss': 0.09758182}, None]\n",
      "74 [-1.3269327, {'kl': -1.4083636, 'durloss': 0.08143094}, None]\n",
      "75 [-1.3807248, {'kl': -1.4682889, 'durloss': 0.087564096}, None]\n",
      "76 [-1.44505, {'kl': -1.5265578, 'durloss': 0.081507765}, None]\n",
      "77 [-1.5057174, {'kl': -1.5883585, 'durloss': 0.082641155}, None]\n",
      "78 [-1.5653716, {'kl': -1.6477333, 'durloss': 0.08236174}, None]\n",
      "79 [-1.6134284, {'kl': -1.7088742, 'durloss': 0.09544581}, None]\n",
      "80 [-1.6867405, {'kl': -1.7687099, 'durloss': 0.08196933}, None]\n",
      "81 [-1.7237302, {'kl': -1.8211868, 'durloss': 0.097456604}, None]\n",
      "82 [-1.8050072, {'kl': -1.8884103, 'durloss': 0.08340305}, None]\n",
      "83 [-1.8524308, {'kl': -1.9437199, 'durloss': 0.09128909}, None]\n",
      "84 [25.853884, {'kl': 25.698753, 'durloss': 0.1551302}, None]\n",
      "85 [-1.6388727, {'kl': -1.7258376, 'durloss': 0.086964816}, None]\n",
      "86 [1.1528996, {'kl': 1.0475491, 'durloss': 0.10535044}, None]\n",
      "87 [-1.5290964, {'kl': -1.6123445, 'durloss': 0.08324813}, None]\n",
      "88 [-1.4271784, {'kl': -1.521615, 'durloss': 0.09443667}, None]\n",
      "89 [-1.256563, {'kl': -1.4075024, 'durloss': 0.15093948}, None]\n",
      "90 [-1.1757337, {'kl': -1.2626855, 'durloss': 0.0869518}, None]\n",
      "91 [-0.8355801, {'kl': -0.924292, 'durloss': 0.08871195}, None]\n",
      "92 [-1.0497862, {'kl': -1.1363487, 'durloss': 0.0865625}, None]\n",
      "93 [-0.81496084, {'kl': -0.9536562, 'durloss': 0.13869536}, None]\n",
      "94 [-0.91623604, {'kl': -1.0172544, 'durloss': 0.10101828}, None]\n",
      "95 [-0.65201306, {'kl': -0.78253204, 'durloss': 0.13051899}, None]\n",
      "96 [-0.8734259, {'kl': -0.9822862, 'durloss': 0.108860314}, None]\n"
     ]
    }
   ],
   "source": [
    "for k in range(200):\n",
    "    o = sess.run([loss, losses, optimizer], feed_dict = {i: [data['text_ids'][0],data['text_ids'][0]],\n",
    "                                               i_lengths: [data['len_text_ids'][0,0], data['len_text_ids'][0,0]],\n",
    "                                               mel_outputs: [data['mel'].astype(np.float32)[0],data['mel'].astype(np.float32)[0]],\n",
    "                                               mel_lengths: [408, 408]})\n",
    "    print(k, o)"
   ]
  },
  {
   "cell_type": "code",
   "execution_count": null,
   "metadata": {},
   "outputs": [],
   "source": [
    "o = sess.run([mel, mellen, attn_out], feed_dict = {i: [data['text_ids'][0],data['text_ids'][0]],\n",
    "                                               i_lengths: [data['len_text_ids'][0,0], data['len_text_ids'][0,0]],\n",
    "                                        mel_outputs: [data['mel'].astype(np.float32)[0],data['mel'].astype(np.float32)[0]],\n",
    "                                               mel_lengths: [408, 408]})"
   ]
  },
  {
   "cell_type": "code",
   "execution_count": null,
   "metadata": {},
   "outputs": [],
   "source": [
    "mel_outputs_ = np.reshape(o[0][0], [-1, 80])\n",
    "fig = plt.figure(figsize=(10, 8))\n",
    "ax1 = fig.add_subplot(311)\n",
    "ax1.set_title(f'Predicted Mel-before-Spectrogram')\n",
    "im = ax1.imshow(np.rot90(mel_outputs_), aspect='auto', interpolation='none')\n",
    "fig.colorbar(mappable=im, shrink=0.65, orientation='horizontal', ax=ax1)\n",
    "plt.show()"
   ]
  },
  {
   "cell_type": "code",
   "execution_count": null,
   "metadata": {},
   "outputs": [],
   "source": [
    "fig = plt.figure(figsize=(8, 6))\n",
    "ax = fig.add_subplot(111)\n",
    "ax.set_title('Alignment steps')\n",
    "im = ax.imshow(\n",
    "    o[-1][0],\n",
    "    aspect='auto',\n",
    "    origin='lower',\n",
    "    interpolation='none')\n",
    "fig.colorbar(im, ax=ax)\n",
    "xlabel = 'Decoder timestep'\n",
    "plt.xlabel(xlabel)\n",
    "plt.ylabel('Encoder timestep')\n",
    "plt.tight_layout()\n",
    "plt.show()"
   ]
  },
  {
   "cell_type": "code",
   "execution_count": null,
   "metadata": {},
   "outputs": [],
   "source": [
    "saver = tf.train.Saver()\n",
    "saver.save(sess, 'test/model.ckpt')"
   ]
  },
  {
   "cell_type": "code",
   "execution_count": null,
   "metadata": {},
   "outputs": [],
   "source": [
    "!ls -lh test"
   ]
  },
  {
   "cell_type": "code",
   "execution_count": null,
   "metadata": {},
   "outputs": [],
   "source": []
  }
 ],
 "metadata": {
  "kernelspec": {
   "display_name": "Python 3",
   "language": "python",
   "name": "python3"
  },
  "language_info": {
   "codemirror_mode": {
    "name": "ipython",
    "version": 3
   },
   "file_extension": ".py",
   "mimetype": "text/x-python",
   "name": "python",
   "nbconvert_exporter": "python",
   "pygments_lexer": "ipython3",
   "version": "3.7.7"
  }
 },
 "nbformat": 4,
 "nbformat_minor": 4
}

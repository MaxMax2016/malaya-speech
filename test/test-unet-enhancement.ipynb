{
 "cells": [
  {
   "cell_type": "code",
   "execution_count": 1,
   "metadata": {},
   "outputs": [],
   "source": [
    "import os\n",
    "\n",
    "os.environ['CUDA_VISIBLE_DEVICES'] = '1'"
   ]
  },
  {
   "cell_type": "code",
   "execution_count": 2,
   "metadata": {},
   "outputs": [],
   "source": [
    "import sys\n",
    "\n",
    "SOURCE_DIR = os.path.dirname(os.path.dirname(os.path.abspath(__name__)))\n",
    "sys.path.insert(0, SOURCE_DIR)"
   ]
  },
  {
   "cell_type": "code",
   "execution_count": 3,
   "metadata": {
    "scrolled": true
   },
   "outputs": [
    {
     "name": "stdout",
     "output_type": "stream",
     "text": [
      "WARNING:tensorflow:From /Users/huseinzolkepli/Documents/malaya-speech/malaya_speech/train/optimizer.py:34: The name tf.train.AdagradOptimizer is deprecated. Please use tf.compat.v1.train.AdagradOptimizer instead.\n",
      "\n",
      "WARNING:tensorflow:From /Users/huseinzolkepli/Documents/malaya-speech/malaya_speech/train/optimizer.py:35: The name tf.train.AdamOptimizer is deprecated. Please use tf.compat.v1.train.AdamOptimizer instead.\n",
      "\n",
      "WARNING:tensorflow:From /Users/huseinzolkepli/Documents/malaya-speech/malaya_speech/train/optimizer.py:36: The name tf.train.FtrlOptimizer is deprecated. Please use tf.compat.v1.train.FtrlOptimizer instead.\n",
      "\n",
      "WARNING:tensorflow:From /Users/huseinzolkepli/Documents/malaya-speech/malaya_speech/train/optimizer.py:38: The name tf.train.RMSPropOptimizer is deprecated. Please use tf.compat.v1.train.RMSPropOptimizer instead.\n",
      "\n",
      "WARNING:tensorflow:From /Users/huseinzolkepli/Documents/malaya-speech/malaya_speech/train/optimizer.py:39: The name tf.train.GradientDescentOptimizer is deprecated. Please use tf.compat.v1.train.GradientDescentOptimizer instead.\n",
      "\n",
      "WARNING:tensorflow:\n",
      "The TensorFlow contrib module will not be included in TensorFlow 2.0.\n",
      "For more information, please see:\n",
      "  * https://github.com/tensorflow/community/blob/master/rfcs/20180907-contrib-sunset.md\n",
      "  * https://github.com/tensorflow/addons\n",
      "  * https://github.com/tensorflow/io (for I/O related ops)\n",
      "If you depend on functionality not listed there, please file an issue.\n",
      "\n",
      "WARNING:tensorflow:From /Users/huseinzolkepli/Documents/malaya-speech/malaya_speech/train/model/quartznet/layer.py:6: The name tf.layers.Conv1D is deprecated. Please use tf.compat.v1.layers.Conv1D instead.\n",
      "\n"
     ]
    }
   ],
   "source": [
    "import malaya_speech\n",
    "import malaya_speech.config\n",
    "import malaya_speech.train.model.unet_enhancement as unet\n",
    "import tensorflow as tf"
   ]
  },
  {
   "cell_type": "code",
   "execution_count": 7,
   "metadata": {
    "scrolled": true
   },
   "outputs": [
    {
     "name": "stdout",
     "output_type": "stream",
     "text": [
      "WARNING:tensorflow:From /Library/Frameworks/Python.framework/Versions/3.7/lib/python3.7/site-packages/tensorflow_core/python/ops/resource_variable_ops.py:1630: calling BaseResourceVariable.__init__ (from tensorflow.python.ops.resource_variable_ops) with constraint is deprecated and will be removed in a future version.\n",
      "Instructions for updating:\n",
      "If using Keras pass *_constraint arguments to layers.\n",
      "Tensor(\"strided_slice_4:0\", shape=(?, 8192, 24), dtype=float32)\n",
      "Tensor(\"strided_slice_5:0\", shape=(?, 4096, 48), dtype=float32)\n",
      "Tensor(\"strided_slice_6:0\", shape=(?, 2048, 72), dtype=float32)\n",
      "Tensor(\"strided_slice_7:0\", shape=(?, 1024, 96), dtype=float32)\n",
      "Tensor(\"strided_slice_8:0\", shape=(?, 512, 120), dtype=float32)\n",
      "Tensor(\"strided_slice_9:0\", shape=(?, 256, 144), dtype=float32)\n",
      "Tensor(\"strided_slice_10:0\", shape=(?, 128, 168), dtype=float32)\n",
      "Tensor(\"strided_slice_11:0\", shape=(?, 64, 192), dtype=float32)\n",
      "Tensor(\"strided_slice_12:0\", shape=(?, 32, 216), dtype=float32)\n",
      "Tensor(\"strided_slice_13:0\", shape=(?, 16, 240), dtype=float32)\n",
      "Tensor(\"strided_slice_14:0\", shape=(?, 8, 264), dtype=float32)\n",
      "Tensor(\"strided_slice_15:0\", shape=(?, 4, 288), dtype=float32)\n",
      "Tensor(\"sequential_12/leaky_re_lu_12/LeakyRelu:0\", shape=(?, 4, 288), dtype=float32)\n",
      "Tensor(\"sequential_13/leaky_re_lu_13/LeakyRelu:0\", shape=(?, 8, 288), dtype=float32)\n",
      "Tensor(\"sequential_14/leaky_re_lu_14/LeakyRelu:0\", shape=(?, 16, 264), dtype=float32)\n",
      "Tensor(\"sequential_15/leaky_re_lu_15/LeakyRelu:0\", shape=(?, 32, 240), dtype=float32)\n",
      "Tensor(\"sequential_16/leaky_re_lu_16/LeakyRelu:0\", shape=(?, 64, 216), dtype=float32)\n",
      "Tensor(\"sequential_17/leaky_re_lu_17/LeakyRelu:0\", shape=(?, 128, 192), dtype=float32)\n",
      "Tensor(\"sequential_18/leaky_re_lu_18/LeakyRelu:0\", shape=(?, 256, 168), dtype=float32)\n",
      "Tensor(\"sequential_19/leaky_re_lu_19/LeakyRelu:0\", shape=(?, 512, 144), dtype=float32)\n",
      "Tensor(\"sequential_20/leaky_re_lu_20/LeakyRelu:0\", shape=(?, 1024, 120), dtype=float32)\n",
      "Tensor(\"sequential_21/leaky_re_lu_21/LeakyRelu:0\", shape=(?, 2048, 96), dtype=float32)\n",
      "Tensor(\"sequential_22/leaky_re_lu_22/LeakyRelu:0\", shape=(?, 4096, 72), dtype=float32)\n",
      "Tensor(\"sequential_23/leaky_re_lu_23/LeakyRelu:0\", shape=(?, 8192, 48), dtype=float32)\n",
      "Tensor(\"sequential_24/leaky_re_lu_24/LeakyRelu:0\", shape=(?, 16384, 24), dtype=float32)\n"
     ]
    }
   ],
   "source": [
    "x = tf.placeholder(tf.float32, (None, 1))\n",
    "partitioned_x = malaya_speech.tf_featurization.pad_and_partition(x, 16384)\n",
    "model = unet.Model(partitioned_x)"
   ]
  },
  {
   "cell_type": "code",
   "execution_count": null,
   "metadata": {},
   "outputs": [],
   "source": [
    "logits = "
   ]
  }
 ],
 "metadata": {
  "kernelspec": {
   "display_name": "Python 3",
   "language": "python",
   "name": "python3"
  },
  "language_info": {
   "codemirror_mode": {
    "name": "ipython",
    "version": 3
   },
   "file_extension": ".py",
   "mimetype": "text/x-python",
   "name": "python",
   "nbconvert_exporter": "python",
   "pygments_lexer": "ipython3",
   "version": "3.7.7"
  }
 },
 "nbformat": 4,
 "nbformat_minor": 4
}

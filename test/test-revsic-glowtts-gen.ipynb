{
 "cells": [
  {
   "cell_type": "code",
   "execution_count": 1,
   "metadata": {},
   "outputs": [],
   "source": [
    "import os\n",
    "\n",
    "os.environ['CUDA_VISIBLE_DEVICES'] = '1'"
   ]
  },
  {
   "cell_type": "code",
   "execution_count": 2,
   "metadata": {},
   "outputs": [],
   "source": [
    "import sys\n",
    "\n",
    "SOURCE_DIR = os.path.dirname(os.path.dirname(os.path.abspath(__name__)))\n",
    "sys.path.insert(0, SOURCE_DIR)"
   ]
  },
  {
   "cell_type": "code",
   "execution_count": 3,
   "metadata": {},
   "outputs": [
    {
     "name": "stdout",
     "output_type": "stream",
     "text": [
      "WARNING:tensorflow:From /Users/huseinzolkepli/Documents/malaya-speech/malaya_speech/train/optimizer/__init__.py:39: The name tf.train.AdagradOptimizer is deprecated. Please use tf.compat.v1.train.AdagradOptimizer instead.\n",
      "\n",
      "WARNING:tensorflow:From /Users/huseinzolkepli/Documents/malaya-speech/malaya_speech/train/optimizer/__init__.py:40: The name tf.train.AdamOptimizer is deprecated. Please use tf.compat.v1.train.AdamOptimizer instead.\n",
      "\n",
      "WARNING:tensorflow:From /Users/huseinzolkepli/Documents/malaya-speech/malaya_speech/train/optimizer/__init__.py:41: The name tf.train.FtrlOptimizer is deprecated. Please use tf.compat.v1.train.FtrlOptimizer instead.\n",
      "\n",
      "WARNING:tensorflow:From /Users/huseinzolkepli/Documents/malaya-speech/malaya_speech/train/optimizer/__init__.py:43: The name tf.train.RMSPropOptimizer is deprecated. Please use tf.compat.v1.train.RMSPropOptimizer instead.\n",
      "\n",
      "WARNING:tensorflow:From /Users/huseinzolkepli/Documents/malaya-speech/malaya_speech/train/optimizer/__init__.py:44: The name tf.train.GradientDescentOptimizer is deprecated. Please use tf.compat.v1.train.GradientDescentOptimizer instead.\n",
      "\n",
      "WARNING:tensorflow:\n",
      "The TensorFlow contrib module will not be included in TensorFlow 2.0.\n",
      "For more information, please see:\n",
      "  * https://github.com/tensorflow/community/blob/master/rfcs/20180907-contrib-sunset.md\n",
      "  * https://github.com/tensorflow/addons\n",
      "  * https://github.com/tensorflow/io (for I/O related ops)\n",
      "If you depend on functionality not listed there, please file an issue.\n",
      "\n"
     ]
    }
   ],
   "source": [
    "import malaya_speech\n",
    "import malaya_speech.config\n",
    "from malaya_speech.train.model import revsic_glowtts as glowtts\n",
    "import tensorflow as tf\n",
    "import numpy as np\n",
    "import math\n",
    "import matplotlib.pyplot as plt"
   ]
  },
  {
   "cell_type": "code",
   "execution_count": 4,
   "metadata": {},
   "outputs": [
    {
     "data": {
      "text/plain": [
       "dict_keys(['mel', 'text_ids', 'len_mel', 'len_text_ids', 'stop_token_target', 'f0', 'len_f0', 'energy', 'len_energy', 'g'])"
      ]
     },
     "execution_count": 4,
     "metadata": {},
     "output_type": "execute_result"
    }
   ],
   "source": [
    "import pickle\n",
    "\n",
    "with open('dataset-mel.pkl', 'rb') as fopen:\n",
    "    data, d = pickle.load(fopen)\n",
    "    \n",
    "with open('dataset-mel-wav.pkl', 'rb') as fopen:\n",
    "    wav = pickle.load(fopen)\n",
    "    \n",
    "data.keys()"
   ]
  },
  {
   "cell_type": "code",
   "execution_count": 5,
   "metadata": {},
   "outputs": [],
   "source": [
    "i = tf.placeholder(tf.int32, [None, None])\n",
    "i_lengths = tf.placeholder(tf.int32, [None])\n",
    "mel_outputs = tf.placeholder(tf.float32, [None, None, 80])\n",
    "mel_lengths = tf.placeholder(tf.int32, [None])\n",
    "temperature = tf.placeholder(tf.float32, ())\n",
    "length_scale = tf.placeholder(tf.float32, ())"
   ]
  },
  {
   "cell_type": "code",
   "execution_count": 6,
   "metadata": {},
   "outputs": [],
   "source": [
    "config = glowtts.Config(mel = 80, vocabs = 66)\n",
    "config.temperature = temperature\n",
    "config.length_scale = length_scale"
   ]
  },
  {
   "cell_type": "code",
   "execution_count": 7,
   "metadata": {},
   "outputs": [
    {
     "name": "stdout",
     "output_type": "stream",
     "text": [
      "WARNING:tensorflow:From /Library/Frameworks/Python.framework/Versions/3.7/lib/python3.7/site-packages/tensorflow_core/python/keras/initializers.py:119: calling RandomUniform.__init__ (from tensorflow.python.ops.init_ops) with dtype is deprecated and will be removed in a future version.\n",
      "Instructions for updating:\n",
      "Call initializer instance with the dtype argument instead of passing it to the constructor\n"
     ]
    }
   ],
   "source": [
    "model = glowtts.Model(config)"
   ]
  },
  {
   "cell_type": "code",
   "execution_count": 8,
   "metadata": {},
   "outputs": [],
   "source": [
    "instance = malaya_speech.train.model.revsic_glowtts.flow.actnorm.ActNorm\n",
    "\n",
    "for k in range(len(model.decoder.flows)):\n",
    "    if isinstance(model.decoder.flows[k], instance):\n",
    "        model.decoder.flows[k].init = 1"
   ]
  },
  {
   "cell_type": "code",
   "execution_count": 9,
   "metadata": {},
   "outputs": [
    {
     "name": "stdout",
     "output_type": "stream",
     "text": [
      "WARNING:tensorflow:From /Library/Frameworks/Python.framework/Versions/3.7/lib/python3.7/site-packages/tensorflow_core/python/ops/resource_variable_ops.py:1630: calling BaseResourceVariable.__init__ (from tensorflow.python.ops.resource_variable_ops) with constraint is deprecated and will be removed in a future version.\n",
      "Instructions for updating:\n",
      "If using Keras pass *_constraint arguments to layers.\n",
      "WARNING:tensorflow:From /Users/huseinzolkepli/Documents/malaya-speech/malaya_speech/train/model/utils.py:469: The name tf.debugging.assert_equal is deprecated. Please use tf.compat.v1.debugging.assert_equal instead.\n",
      "\n",
      "WARNING:tensorflow:From /Library/Frameworks/Python.framework/Versions/3.7/lib/python3.7/site-packages/tensorflow_core/python/ops/init_ops.py:97: calling GlorotUniform.__init__ (from tensorflow.python.ops.init_ops) with dtype is deprecated and will be removed in a future version.\n",
      "Instructions for updating:\n",
      "Call initializer instance with the dtype argument instead of passing it to the constructor\n",
      "WARNING:tensorflow:From /Library/Frameworks/Python.framework/Versions/3.7/lib/python3.7/site-packages/tensorflow_core/python/ops/init_ops.py:97: calling Zeros.__init__ (from tensorflow.python.ops.init_ops) with dtype is deprecated and will be removed in a future version.\n",
      "Instructions for updating:\n",
      "Call initializer instance with the dtype argument instead of passing it to the constructor\n",
      "WARNING:tensorflow:From /Users/huseinzolkepli/Documents/malaya-speech/malaya_speech/train/model/revsic_glowtts/model.py:292: where (from tensorflow.python.ops.array_ops) is deprecated and will be removed in a future version.\n",
      "Instructions for updating:\n",
      "Use tf.where in 2.0, which has the same broadcast rule as np.where\n"
     ]
    },
    {
     "data": {
      "text/plain": [
       "(<tf.Tensor 'add_4:0' shape=() dtype=float32>,\n",
       " {'nll': <tf.Tensor 'Mean:0' shape=() dtype=float32>,\n",
       "  'durloss': <tf.Tensor 'Mean_1:0' shape=() dtype=float32>},\n",
       " <tf.Tensor 'StopGradient:0' shape=(?, ?, ?) dtype=float32>)"
      ]
     },
     "execution_count": 9,
     "metadata": {},
     "output_type": "execute_result"
    }
   ],
   "source": [
    "loss, losses, attn = model.compute_loss(text = i, textlen = i_lengths, mel = mel_outputs, mellen = mel_lengths)\n",
    "loss, losses, attn"
   ]
  },
  {
   "cell_type": "code",
   "execution_count": 10,
   "metadata": {},
   "outputs": [
    {
     "data": {
      "text/plain": [
       "(<tf.Tensor 'model/Reshape_50:0' shape=(?, ?, 80) dtype=float32>,\n",
       " <tf.Tensor 'model/mul_90:0' shape=(?,) dtype=int32>,\n",
       " <tf.Tensor 'model/transpose:0' shape=(?, ?, ?) dtype=float32>)"
      ]
     },
     "execution_count": 10,
     "metadata": {},
     "output_type": "execute_result"
    }
   ],
   "source": [
    "mel, mellen, attn_out = model(inputs = i, lengths = i_lengths, training = True)\n",
    "mel, mellen, attn_out"
   ]
  },
  {
   "cell_type": "code",
   "execution_count": 11,
   "metadata": {},
   "outputs": [],
   "source": [
    "sess = tf.InteractiveSession()\n",
    "sess.run(tf.global_variables_initializer())"
   ]
  },
  {
   "cell_type": "code",
   "execution_count": 12,
   "metadata": {},
   "outputs": [
    {
     "name": "stdout",
     "output_type": "stream",
     "text": [
      "INFO:tensorflow:Restoring parameters from test/model.ckpt\n"
     ]
    }
   ],
   "source": [
    "saver = tf.train.Saver(tf.trainable_variables())\n",
    "saver.restore(sess, 'test/model.ckpt')"
   ]
  },
  {
   "cell_type": "code",
   "execution_count": 15,
   "metadata": {},
   "outputs": [
    {
     "data": {
      "text/plain": [
       "{'_self_setattr_tracking': True,\n",
       " '_thread_local': <_thread._local at 0x148edb470>,\n",
       " '_name': 'act_norm',\n",
       " '_activity_regularizer': None,\n",
       " '_trainable': True,\n",
       " '_dynamic': False,\n",
       " '_is_compiled': False,\n",
       " '_layers': [],\n",
       " '_compute_output_and_mask_jointly': False,\n",
       " 'supports_masking': False,\n",
       " 'optimizer': None,\n",
       " '_trainable_weights': [<tf.Variable 'Variable:0' shape=(160,) dtype=float32_ref>,\n",
       "  <tf.Variable 'Variable_1:0' shape=(160,) dtype=float32_ref>],\n",
       " '_non_trainable_weights': [],\n",
       " '_updates': [],\n",
       " '_losses': [],\n",
       " '_callable_losses': [],\n",
       " '_metrics': [],\n",
       " '_scope': None,\n",
       " '_reuse': None,\n",
       " '_graph': <tensorflow.python.framework.ops.Graph at 0x148d0b250>,\n",
       " '_dtype_defaulted_to_floatx': False,\n",
       " '_outbound_nodes': [],\n",
       " '_inbound_nodes': [],\n",
       " '_trackable_saver': <tensorflow.python.training.tracking.util.TrackableSaver at 0x148edd190>,\n",
       " '_is_graph_network': False,\n",
       " '_expects_training_arg': False,\n",
       " '_expects_mask_arg': True,\n",
       " '_autocast': False,\n",
       " 'outputs': [<tf.Tensor 'wave_net_flow/act_norm/mul_1:0' shape=(?, ?, 160) dtype=float32>,\n",
       "  <tf.Tensor 'wave_net_flow/act_norm/mul_2:0' shape=(?,) dtype=float32>],\n",
       " 'inputs': [<tf.Tensor 'Reshape_1:0' shape=(?, ?, 160) dtype=float32>],\n",
       " '_obj_reference_counts_dict': ObjectIdentityDictionary({<_ObjectIdentityWrapper wrapping False>: 1, <_ObjectIdentityWrapper wrapping <tf.Variable 'Variable:0' shape=(160,) dtype=float32_ref>>: 1, <_ObjectIdentityWrapper wrapping <tf.Variable 'Variable_1:0' shape=(160,) dtype=float32_ref>>: 1, <_ObjectIdentityWrapper wrapping 1>: 1, <_ObjectIdentityWrapper wrapping <Policy \"float32\", loss_scale=None>>: 1, <_ObjectIdentityWrapper wrapping True>: 1}),\n",
       " '_distribution_strategy': None,\n",
       " '_compile_time_distribution_strategy': None,\n",
       " '_compile_distribution': False,\n",
       " '_run_eagerly': None,\n",
       " '_experimental_run_tf_function': False,\n",
       " '_self_unconditional_checkpoint_dependencies': [TrackableReference(name='mean', ref=<tf.Variable 'Variable:0' shape=(160,) dtype=float32_ref>),\n",
       "  TrackableReference(name='logstd', ref=<tf.Variable 'Variable_1:0' shape=(160,) dtype=float32_ref>)],\n",
       " '_self_unconditional_dependency_names': {'mean': <tf.Variable 'Variable:0' shape=(160,) dtype=float32_ref>,\n",
       "  'logstd': <tf.Variable 'Variable_1:0' shape=(160,) dtype=float32_ref>},\n",
       " '_self_unconditional_deferred_dependencies': {},\n",
       " '_self_update_uid': -1,\n",
       " '_self_name_based_restores': set(),\n",
       " 'mean': <tf.Variable 'Variable:0' shape=(160,) dtype=float32_ref>,\n",
       " 'logstd': <tf.Variable 'Variable_1:0' shape=(160,) dtype=float32_ref>,\n",
       " 'init': 1,\n",
       " '_dtype_policy': <Policy \"float32\", loss_scale=None>,\n",
       " 'built': True,\n",
       " 'input_names': ['input_1'],\n",
       " '_feed_inputs': [],\n",
       " '_feed_input_names': [],\n",
       " '_feed_input_shapes': [],\n",
       " 'output_names': ['output_1', 'output_2']}"
      ]
     },
     "execution_count": 15,
     "metadata": {},
     "output_type": "execute_result"
    }
   ],
   "source": [
    "model.decoder.flows[0].__dict__"
   ]
  },
  {
   "cell_type": "code",
   "execution_count": 17,
   "metadata": {},
   "outputs": [
    {
     "data": {
      "text/plain": [
       "array([ 0.0299217 ,  0.19960962,  0.20560375, -0.15650569, -0.36380604,\n",
       "       -0.10345751,  0.07087696,  0.00522035, -0.14481053, -0.13235515,\n",
       "       -0.03788777,  0.0165018 ,  0.06727644,  0.05593168,  0.01498509,\n",
       "       -0.04493959, -0.10923576, -0.21821247, -0.29080167, -0.23386347,\n",
       "       -0.17064199, -0.08692405, -0.01107275, -0.03613515, -0.09736277,\n",
       "       -0.1057246 , -0.05382246,  0.01573698,  0.03963028,  0.02326913,\n",
       "        0.02029485, -0.00150512,  0.13507879,  0.10002128, -0.04363774,\n",
       "        0.04085201,  0.03625071, -0.09780262, -0.10029259, -0.1820373 ,\n",
       "       -0.11201596, -0.07085683, -0.08767848,  0.02845128, -0.12590718,\n",
       "       -0.21824795, -0.0272032 ,  0.15397914,  0.30798328,  0.11245985,\n",
       "       -0.00079177, -0.01463543,  0.10447139,  0.01199795, -0.22843876,\n",
       "       -0.41049954, -0.39303407, -0.1597876 , -0.01205103,  0.07867768,\n",
       "        0.08941675,  0.07804105,  0.09109098, -0.04148684, -0.16185702,\n",
       "       -0.20832643, -0.08153377, -0.09128031, -0.1697478 , -0.10264522,\n",
       "       -0.08795204, -0.07800237, -0.00866971, -0.02677004, -0.1474556 ,\n",
       "       -0.24118997, -0.23820023, -0.16675694, -0.15730044, -0.25934842,\n",
       "        0.02185097,  0.20416486,  0.22282882, -0.15328178, -0.3778665 ,\n",
       "       -0.11905988,  0.07209784, -0.00609527, -0.15705864, -0.15523694,\n",
       "       -0.04812154,  0.00976252,  0.03623643,  0.03866357, -0.01534682,\n",
       "       -0.05451393, -0.13073944, -0.21192208, -0.29345253, -0.24485876,\n",
       "       -0.17167464, -0.09166126, -0.00915986, -0.04297612, -0.10139818,\n",
       "       -0.11570834, -0.0794815 ,  0.0162951 ,  0.0321931 ,  0.01409337,\n",
       "        0.00163365, -0.00726545,  0.11546125,  0.08424036, -0.05635537,\n",
       "        0.01845266,  0.02987407, -0.10154501, -0.11105646, -0.19384126,\n",
       "       -0.11720079, -0.08298646, -0.09489768, -0.0007014 , -0.13583344,\n",
       "       -0.22788632, -0.04237789,  0.1313319 ,  0.272947  ,  0.0937841 ,\n",
       "       -0.00760429, -0.01241044,  0.10863661, -0.00196363, -0.25090882,\n",
       "       -0.40729696, -0.40014842, -0.1731477 , -0.02577306,  0.07110228,\n",
       "        0.07212084,  0.06588716,  0.08294259, -0.04941981, -0.16700685,\n",
       "       -0.22329868, -0.08834035, -0.09393286, -0.18139987, -0.11909244,\n",
       "       -0.10402425, -0.09606359, -0.02289058, -0.03844409, -0.1591336 ,\n",
       "       -0.25684756, -0.25889614, -0.18458278, -0.17118864, -0.270863  ],\n",
       "      dtype=float32)"
      ]
     },
     "execution_count": 17,
     "metadata": {},
     "output_type": "execute_result"
    }
   ],
   "source": [
    "sess.run(model.decoder.flows[0].mean)"
   ]
  },
  {
   "cell_type": "code",
   "execution_count": 22,
   "metadata": {},
   "outputs": [],
   "source": [
    "o = sess.run([mel, mellen, attn_out], feed_dict = {i: [data['text_ids'][0]],\n",
    "                                               i_lengths: [data['len_text_ids'][0,0]],\n",
    "                                                  temperature: 0.333, length_scale: 1.0})"
   ]
  },
  {
   "cell_type": "code",
   "execution_count": 23,
   "metadata": {},
   "outputs": [
    {
     "data": {
      "image/png": "[encoded data removed]",
      "text/plain": [
       "<Figure size 576x432 with 2 Axes>"
      ]
     },
     "metadata": {
      "needs_background": "light"
     },
     "output_type": "display_data"
    }
   ],
   "source": [
    "fig = plt.figure(figsize=(8, 6))\n",
    "ax = fig.add_subplot(111)\n",
    "ax.set_title('Alignment steps')\n",
    "im = ax.imshow(\n",
    "    o[-1][0],\n",
    "    aspect='auto',\n",
    "    origin='lower',\n",
    "    interpolation='none')\n",
    "fig.colorbar(im, ax=ax)\n",
    "xlabel = 'Decoder timestep'\n",
    "plt.xlabel(xlabel)\n",
    "plt.ylabel('Encoder timestep')\n",
    "plt.tight_layout()\n",
    "plt.show()"
   ]
  },
  {
   "cell_type": "code",
   "execution_count": 24,
   "metadata": {},
   "outputs": [
    {
     "data": {
      "text/plain": [
       "((1, 242, 80), array([242], dtype=int32))"
      ]
     },
     "execution_count": 24,
     "metadata": {},
     "output_type": "execute_result"
    }
   ],
   "source": [
    "o[0].shape, o[1]"
   ]
  },
  {
   "cell_type": "code",
   "execution_count": 25,
   "metadata": {},
   "outputs": [
    {
     "data": {
      "image/png": "[encoded data removed]",
      "text/plain": [
       "<Figure size 720x576 with 2 Axes>"
      ]
     },
     "metadata": {
      "needs_background": "light"
     },
     "output_type": "display_data"
    }
   ],
   "source": [
    "mel_outputs_ = np.reshape(o[0][0], [-1, 80])\n",
    "fig = plt.figure(figsize=(10, 8))\n",
    "ax1 = fig.add_subplot(311)\n",
    "ax1.set_title(f'Predicted Mel-before-Spectrogram')\n",
    "im = ax1.imshow(np.rot90(mel_outputs_), aspect='auto', interpolation='none')\n",
    "fig.colorbar(mappable=im, shrink=0.65, orientation='horizontal', ax=ax1)\n",
    "plt.show()"
   ]
  },
  {
   "cell_type": "code",
   "execution_count": null,
   "metadata": {},
   "outputs": [],
   "source": [
    "fig = plt.figure(figsize=(8, 6))\n",
    "ax = fig.add_subplot(111)\n",
    "ax.set_title('Alignment steps')\n",
    "im = ax.imshow(\n",
    "    o[-1][0],\n",
    "    aspect='auto',\n",
    "    origin='lower',\n",
    "    interpolation='none')\n",
    "fig.colorbar(im, ax=ax)\n",
    "xlabel = 'Decoder timestep'\n",
    "plt.xlabel(xlabel)\n",
    "plt.ylabel('Encoder timestep')\n",
    "plt.tight_layout()\n",
    "plt.show()"
   ]
  }
 ],
 "metadata": {
  "kernelspec": {
   "display_name": "Python 3",
   "language": "python",
   "name": "python3"
  },
  "language_info": {
   "codemirror_mode": {
    "name": "ipython",
    "version": 3
   },
   "file_extension": ".py",
   "mimetype": "text/x-python",
   "name": "python",
   "nbconvert_exporter": "python",
   "pygments_lexer": "ipython3",
   "version": "3.7.7"
  }
 },
 "nbformat": 4,
 "nbformat_minor": 4
}

{
 "cells": [
  {
   "cell_type": "code",
   "execution_count": 1,
   "metadata": {},
   "outputs": [],
   "source": [
    "import os\n",
    "\n",
    "os.environ['CUDA_VISIBLE_DEVICES'] = '1'"
   ]
  },
  {
   "cell_type": "code",
   "execution_count": 2,
   "metadata": {},
   "outputs": [],
   "source": [
    "import sys\n",
    "\n",
    "SOURCE_DIR = os.path.dirname(os.path.dirname(os.path.abspath(__name__)))\n",
    "sys.path.insert(0, SOURCE_DIR)"
   ]
  },
  {
   "cell_type": "code",
   "execution_count": 3,
   "metadata": {},
   "outputs": [],
   "source": [
    "import malaya_speech\n",
    "import malaya_speech.config\n",
    "from malaya_speech.train.model import squeezeformer, transducer\n",
    "import tensorflow as tf"
   ]
  },
  {
   "cell_type": "code",
   "execution_count": 4,
   "metadata": {},
   "outputs": [],
   "source": [
    "config = malaya_speech.config.transducer_featurizer_config\n",
    "featurizer = malaya_speech.utils.tf_featurization.STTFeaturizer(**config)"
   ]
  },
  {
   "cell_type": "code",
   "execution_count": 5,
   "metadata": {},
   "outputs": [
    {
     "name": "stdout",
     "output_type": "stream",
     "text": [
      "WARNING:tensorflow:From /Users/huseinzolkepli/Documents/malaya-speech/malaya_speech/train/model/squeezeformer/subsampling.py:40: The name tf.keras.initializers.RandomUniform is deprecated. Please use tf.compat.v1.keras.initializers.RandomUniform instead.\n",
      "\n",
      "WARNING:tensorflow:From /Library/Frameworks/Python.framework/Versions/3.7/lib/python3.7/site-packages/tensorflow_core/python/keras/initializers.py:119: calling RandomUniform.__init__ (from tensorflow.python.ops.init_ops) with dtype is deprecated and will be removed in a future version.\n",
      "Instructions for updating:\n",
      "Call initializer instance with the dtype argument instead of passing it to the constructor\n",
      "INFO:tensorflow:Subsampling with DS conv\n",
      "INFO:tensorflow:Initialize block 0\n",
      "['M', 's', 'C', 's']\n",
      "INFO:tensorflow:layer type: M\n",
      "INFO:tensorflow:Use scaling, no preLN\n",
      "INFO:tensorflow:fc factor set as 1.0\n",
      "INFO:tensorflow:Use scaling, no preLN\n",
      "INFO:tensorflow:layer type: s\n",
      "INFO:tensorflow:layer type: C\n",
      "INFO:tensorflow:Use scaling, no preLN\n",
      "INFO:tensorflow:Replace GLU with swish for Conv\n",
      "INFO:tensorflow:fc factor set as 1.0\n",
      "INFO:tensorflow:Use scaling, no preLN\n",
      "INFO:tensorflow:layer type: s\n",
      "INFO:tensorflow:Skipping post ln\n",
      "INFO:tensorflow:Initialize block 1\n",
      "['M', 's', 'C', 's']\n",
      "INFO:tensorflow:layer type: M\n",
      "INFO:tensorflow:Use scaling, no preLN\n",
      "INFO:tensorflow:fc factor set as 1.0\n",
      "INFO:tensorflow:Use scaling, no preLN\n",
      "INFO:tensorflow:layer type: s\n",
      "INFO:tensorflow:layer type: C\n",
      "INFO:tensorflow:Use scaling, no preLN\n",
      "INFO:tensorflow:Replace GLU with swish for Conv\n",
      "INFO:tensorflow:fc factor set as 1.0\n",
      "INFO:tensorflow:Use scaling, no preLN\n",
      "INFO:tensorflow:layer type: s\n",
      "INFO:tensorflow:Skipping post ln\n",
      "INFO:tensorflow:Initialize block 2\n",
      "['M', 's', 'C', 's']\n",
      "INFO:tensorflow:layer type: M\n",
      "INFO:tensorflow:Use scaling, no preLN\n",
      "INFO:tensorflow:fc factor set as 1.0\n",
      "INFO:tensorflow:Use scaling, no preLN\n",
      "INFO:tensorflow:layer type: s\n",
      "INFO:tensorflow:layer type: C\n",
      "INFO:tensorflow:Use scaling, no preLN\n",
      "INFO:tensorflow:Replace GLU with swish for Conv\n",
      "INFO:tensorflow:fc factor set as 1.0\n",
      "INFO:tensorflow:Use scaling, no preLN\n",
      "INFO:tensorflow:layer type: s\n",
      "INFO:tensorflow:Skipping post ln\n",
      "INFO:tensorflow:Initialize block 3\n",
      "['M', 's', 'C', 's']\n",
      "INFO:tensorflow:layer type: M\n",
      "INFO:tensorflow:Use scaling, no preLN\n",
      "INFO:tensorflow:fc factor set as 1.0\n",
      "INFO:tensorflow:Use scaling, no preLN\n",
      "INFO:tensorflow:layer type: s\n",
      "INFO:tensorflow:layer type: C\n",
      "INFO:tensorflow:Use scaling, no preLN\n",
      "INFO:tensorflow:Replace GLU with swish for Conv\n",
      "INFO:tensorflow:fc factor set as 1.0\n",
      "INFO:tensorflow:Use scaling, no preLN\n",
      "INFO:tensorflow:layer type: s\n",
      "INFO:tensorflow:Skipping post ln\n",
      "INFO:tensorflow:Initialize block 4\n",
      "['M', 's', 'C', 's']\n",
      "INFO:tensorflow:layer type: M\n",
      "INFO:tensorflow:Use scaling, no preLN\n",
      "INFO:tensorflow:fc factor set as 1.0\n",
      "INFO:tensorflow:Use scaling, no preLN\n",
      "INFO:tensorflow:layer type: s\n",
      "INFO:tensorflow:layer type: C\n",
      "INFO:tensorflow:Use scaling, no preLN\n",
      "INFO:tensorflow:Replace GLU with swish for Conv\n",
      "INFO:tensorflow:fc factor set as 1.0\n",
      "INFO:tensorflow:Use scaling, no preLN\n",
      "INFO:tensorflow:layer type: s\n",
      "INFO:tensorflow:Skipping post ln\n",
      "INFO:tensorflow:Initialize block 5\n",
      "['M', 's', 'C', 's']\n",
      "INFO:tensorflow:layer type: M\n",
      "INFO:tensorflow:Use scaling, no preLN\n",
      "INFO:tensorflow:fc factor set as 1.0\n",
      "INFO:tensorflow:Use scaling, no preLN\n",
      "INFO:tensorflow:layer type: s\n",
      "INFO:tensorflow:layer type: C\n",
      "INFO:tensorflow:Use scaling, no preLN\n",
      "INFO:tensorflow:Replace GLU with swish for Conv\n",
      "INFO:tensorflow:fc factor set as 1.0\n",
      "INFO:tensorflow:Use scaling, no preLN\n",
      "INFO:tensorflow:layer type: s\n",
      "INFO:tensorflow:Skipping post ln\n",
      "INFO:tensorflow:Initialize block 6\n",
      "['M', 's', 'C', 's']\n",
      "INFO:tensorflow:layer type: M\n",
      "INFO:tensorflow:Use scaling, no preLN\n",
      "INFO:tensorflow:fc factor set as 1.0\n",
      "INFO:tensorflow:Use scaling, no preLN\n",
      "INFO:tensorflow:layer type: s\n",
      "INFO:tensorflow:layer type: C\n",
      "INFO:tensorflow:Use scaling, no preLN\n",
      "INFO:tensorflow:Replace GLU with swish for Conv\n",
      "INFO:tensorflow:fc factor set as 1.0\n",
      "INFO:tensorflow:Use scaling, no preLN\n",
      "INFO:tensorflow:layer type: s\n",
      "INFO:tensorflow:Skipping post ln\n",
      "INFO:tensorflow:Initialize block 7\n",
      "['M', 's', 'C', 's']\n",
      "INFO:tensorflow:layer type: M\n",
      "INFO:tensorflow:Use scaling, no preLN\n",
      "INFO:tensorflow:fc factor set as 1.0\n",
      "INFO:tensorflow:Use scaling, no preLN\n",
      "INFO:tensorflow:layer type: s\n",
      "INFO:tensorflow:layer type: C\n",
      "INFO:tensorflow:Use scaling, no preLN\n",
      "INFO:tensorflow:Replace GLU with swish for Conv\n",
      "INFO:tensorflow:fc factor set as 1.0\n",
      "INFO:tensorflow:Use scaling, no preLN\n",
      "INFO:tensorflow:layer type: s\n",
      "INFO:tensorflow:Skipping post ln\n",
      "INFO:tensorflow:Initialize block 8\n",
      "INFO:tensorflow:Reducing to dmodel 196, head_size 49\n",
      "['M', 's', 'C', 's']\n",
      "INFO:tensorflow:layer type: M\n",
      "INFO:tensorflow:Use scaling, no preLN\n",
      "INFO:tensorflow:fc factor set as 1.0\n",
      "INFO:tensorflow:Use scaling, no preLN\n",
      "INFO:tensorflow:layer type: s\n",
      "INFO:tensorflow:layer type: C\n",
      "INFO:tensorflow:Use scaling, no preLN\n",
      "INFO:tensorflow:Replace GLU with swish for Conv\n",
      "INFO:tensorflow:fc factor set as 1.0\n",
      "INFO:tensorflow:Use scaling, no preLN\n",
      "INFO:tensorflow:layer type: s\n",
      "INFO:tensorflow:Skipping post ln\n",
      "INFO:tensorflow:Initialize block 9\n",
      "['M', 's', 'C', 's']\n",
      "INFO:tensorflow:layer type: M\n",
      "INFO:tensorflow:Use scaling, no preLN\n",
      "INFO:tensorflow:fc factor set as 1.0\n",
      "INFO:tensorflow:Use scaling, no preLN\n",
      "INFO:tensorflow:layer type: s\n",
      "INFO:tensorflow:layer type: C\n",
      "INFO:tensorflow:Use scaling, no preLN\n",
      "INFO:tensorflow:Replace GLU with swish for Conv\n",
      "INFO:tensorflow:fc factor set as 1.0\n",
      "INFO:tensorflow:Use scaling, no preLN\n",
      "INFO:tensorflow:layer type: s\n",
      "INFO:tensorflow:Skipping post ln\n",
      "INFO:tensorflow:Initialize block 10\n",
      "['M', 's', 'C', 's']\n",
      "INFO:tensorflow:layer type: M\n",
      "INFO:tensorflow:Use scaling, no preLN\n",
      "INFO:tensorflow:fc factor set as 1.0\n",
      "INFO:tensorflow:Use scaling, no preLN\n",
      "INFO:tensorflow:layer type: s\n",
      "INFO:tensorflow:layer type: C\n",
      "INFO:tensorflow:Use scaling, no preLN\n",
      "INFO:tensorflow:Replace GLU with swish for Conv\n",
      "INFO:tensorflow:fc factor set as 1.0\n",
      "INFO:tensorflow:Use scaling, no preLN\n",
      "INFO:tensorflow:layer type: s\n",
      "INFO:tensorflow:Skipping post ln\n",
      "INFO:tensorflow:Initialize block 11\n",
      "['M', 's', 'C', 's']\n",
      "INFO:tensorflow:layer type: M\n",
      "INFO:tensorflow:Use scaling, no preLN\n",
      "INFO:tensorflow:fc factor set as 1.0\n",
      "INFO:tensorflow:Use scaling, no preLN\n",
      "INFO:tensorflow:layer type: s\n",
      "INFO:tensorflow:layer type: C\n",
      "INFO:tensorflow:Use scaling, no preLN\n",
      "INFO:tensorflow:Replace GLU with swish for Conv\n",
      "INFO:tensorflow:fc factor set as 1.0\n",
      "INFO:tensorflow:Use scaling, no preLN\n",
      "INFO:tensorflow:layer type: s\n",
      "INFO:tensorflow:Skipping post ln\n",
      "INFO:tensorflow:Initialize block 12\n",
      "['M', 's', 'C', 's']\n",
      "INFO:tensorflow:layer type: M\n",
      "INFO:tensorflow:Use scaling, no preLN\n",
      "INFO:tensorflow:fc factor set as 1.0\n",
      "INFO:tensorflow:Use scaling, no preLN\n",
      "INFO:tensorflow:layer type: s\n",
      "INFO:tensorflow:layer type: C\n",
      "INFO:tensorflow:Use scaling, no preLN\n",
      "INFO:tensorflow:Replace GLU with swish for Conv\n",
      "INFO:tensorflow:fc factor set as 1.0\n",
      "INFO:tensorflow:Use scaling, no preLN\n",
      "INFO:tensorflow:layer type: s\n",
      "INFO:tensorflow:Skipping post ln\n",
      "INFO:tensorflow:Initialize block 13\n",
      "['M', 's', 'C', 's']\n",
      "INFO:tensorflow:layer type: M\n",
      "INFO:tensorflow:Use scaling, no preLN\n",
      "INFO:tensorflow:fc factor set as 1.0\n",
      "INFO:tensorflow:Use scaling, no preLN\n",
      "INFO:tensorflow:layer type: s\n",
      "INFO:tensorflow:layer type: C\n",
      "INFO:tensorflow:Use scaling, no preLN\n",
      "INFO:tensorflow:Replace GLU with swish for Conv\n",
      "INFO:tensorflow:fc factor set as 1.0\n",
      "INFO:tensorflow:Use scaling, no preLN\n",
      "INFO:tensorflow:layer type: s\n",
      "INFO:tensorflow:Skipping post ln\n",
      "INFO:tensorflow:Initialize block 14\n",
      "['M', 's', 'C', 's']\n",
      "INFO:tensorflow:layer type: M\n",
      "INFO:tensorflow:Use scaling, no preLN\n",
      "INFO:tensorflow:fc factor set as 1.0\n",
      "INFO:tensorflow:Use scaling, no preLN\n",
      "INFO:tensorflow:layer type: s\n",
      "INFO:tensorflow:layer type: C\n",
      "INFO:tensorflow:Use scaling, no preLN\n",
      "INFO:tensorflow:Replace GLU with swish for Conv\n",
      "INFO:tensorflow:fc factor set as 1.0\n",
      "INFO:tensorflow:Use scaling, no preLN\n",
      "INFO:tensorflow:layer type: s\n",
      "INFO:tensorflow:Skipping post ln\n",
      "INFO:tensorflow:Initialize block 15\n",
      "['M', 's', 'C', 's']\n",
      "INFO:tensorflow:layer type: M\n",
      "INFO:tensorflow:Use scaling, no preLN\n",
      "INFO:tensorflow:fc factor set as 1.0\n",
      "INFO:tensorflow:Use scaling, no preLN\n"
     ]
    },
    {
     "name": "stdout",
     "output_type": "stream",
     "text": [
      "INFO:tensorflow:layer type: s\n",
      "INFO:tensorflow:layer type: C\n",
      "INFO:tensorflow:Use scaling, no preLN\n",
      "INFO:tensorflow:Replace GLU with swish for Conv\n",
      "INFO:tensorflow:fc factor set as 1.0\n",
      "INFO:tensorflow:Use scaling, no preLN\n",
      "INFO:tensorflow:layer type: s\n",
      "INFO:tensorflow:Skipping post ln\n",
      "INFO:tensorflow:Initialize block 16\n",
      "['M', 's', 'C', 's']\n",
      "INFO:tensorflow:layer type: M\n",
      "INFO:tensorflow:Use scaling, no preLN\n",
      "INFO:tensorflow:fc factor set as 1.0\n",
      "INFO:tensorflow:Use scaling, no preLN\n",
      "INFO:tensorflow:layer type: s\n",
      "INFO:tensorflow:layer type: C\n",
      "INFO:tensorflow:Use scaling, no preLN\n",
      "INFO:tensorflow:Replace GLU with swish for Conv\n",
      "INFO:tensorflow:fc factor set as 1.0\n",
      "INFO:tensorflow:Use scaling, no preLN\n",
      "INFO:tensorflow:layer type: s\n",
      "INFO:tensorflow:Skipping post ln\n",
      "INFO:tensorflow:Initialize block 17\n",
      "INFO:tensorflow:recovering to dmodel 196, head_size 49\n",
      "['M', 's', 'C', 's']\n",
      "INFO:tensorflow:layer type: M\n",
      "INFO:tensorflow:Use scaling, no preLN\n",
      "INFO:tensorflow:fc factor set as 1.0\n",
      "INFO:tensorflow:Use scaling, no preLN\n",
      "INFO:tensorflow:layer type: s\n",
      "INFO:tensorflow:layer type: C\n",
      "INFO:tensorflow:Use scaling, no preLN\n",
      "INFO:tensorflow:Replace GLU with swish for Conv\n",
      "INFO:tensorflow:fc factor set as 1.0\n",
      "INFO:tensorflow:Use scaling, no preLN\n",
      "INFO:tensorflow:layer type: s\n",
      "INFO:tensorflow:Skipping post ln\n"
     ]
    }
   ],
   "source": [
    "config = malaya_speech.config.squeezeformer_s_encoder_config\n",
    "small_model = squeezeformer.Model(**config)"
   ]
  },
  {
   "cell_type": "code",
   "execution_count": 6,
   "metadata": {},
   "outputs": [
    {
     "data": {
      "text/plain": [
       "(<tf.Tensor 'ExpandDims_3:0' shape=(1, ?, 80, 1) dtype=float32>,\n",
       " <tf.Tensor 'ExpandDims_1:0' shape=(1,) dtype=int32>)"
      ]
     },
     "execution_count": 6,
     "metadata": {},
     "output_type": "execute_result"
    }
   ],
   "source": [
    "i = tf.placeholder(tf.float32, [None])\n",
    "v = featurizer.vectorize(i)\n",
    "length_v = tf.cast(tf.shape(v)[0], tf.int32)\n",
    "length_v = tf.expand_dims(length_v, 0)\n",
    "v = tf.expand_dims(v, 0)\n",
    "v = tf.expand_dims(v, -1)\n",
    "v, length_v"
   ]
  },
  {
   "cell_type": "code",
   "execution_count": 8,
   "metadata": {},
   "outputs": [],
   "source": [
    "config = malaya_speech.config.conformer_small_decoder_config\n",
    "small_transducer = transducer.rnn.Model(small_model, vocabulary_size = 100, **config)"
   ]
  },
  {
   "cell_type": "code",
   "execution_count": 9,
   "metadata": {},
   "outputs": [],
   "source": [
    "p = tf.placeholder(tf.int32, [None, None])\n",
    "p_len = tf.placeholder(tf.int32, [None])"
   ]
  },
  {
   "cell_type": "code",
   "execution_count": 10,
   "metadata": {
    "scrolled": true
   },
   "outputs": [
    {
     "name": "stdout",
     "output_type": "stream",
     "text": [
      "WARNING:tensorflow:From /Library/Frameworks/Python.framework/Versions/3.7/lib/python3.7/site-packages/tensorflow_core/python/ops/resource_variable_ops.py:1630: calling BaseResourceVariable.__init__ (from tensorflow.python.ops.resource_variable_ops) with constraint is deprecated and will be removed in a future version.\n",
      "Instructions for updating:\n",
      "If using Keras pass *_constraint arguments to layers.\n",
      "WARNING:tensorflow:From /Library/Frameworks/Python.framework/Versions/3.7/lib/python3.7/site-packages/tensorflow_core/python/ops/array_ops.py:1475: where (from tensorflow.python.ops.array_ops) is deprecated and will be removed in a future version.\n",
      "Instructions for updating:\n",
      "Use tf.where in 2.0, which has the same broadcast rule as np.where\n",
      "WARNING:tensorflow:From /Users/huseinzolkepli/Documents/malaya-speech/malaya_speech/train/model/transducer/layer.py:37: The name tf.get_variable is deprecated. Please use tf.compat.v1.get_variable instead.\n",
      "\n"
     ]
    },
    {
     "data": {
      "text/plain": [
       "<tf.Tensor 'transducer/transducer_joint/transducer_joint_vocab/BiasAdd:0' shape=(?, ?, ?, 100) dtype=float32>"
      ]
     },
     "execution_count": 10,
     "metadata": {},
     "output_type": "execute_result"
    }
   ],
   "source": [
    "small_logits = small_transducer([v, length_v, p, p_len], training = True)\n",
    "small_logits"
   ]
  },
  {
   "cell_type": "code",
   "execution_count": null,
   "metadata": {},
   "outputs": [],
   "source": [
    "tf.trainable_variables()"
   ]
  },
  {
   "cell_type": "code",
   "execution_count": 11,
   "metadata": {},
   "outputs": [],
   "source": [
    "sess = tf.InteractiveSession()\n",
    "sess.run(tf.global_variables_initializer())"
   ]
  },
  {
   "cell_type": "code",
   "execution_count": 12,
   "metadata": {},
   "outputs": [
    {
     "data": {
      "text/plain": [
       "(90090, 56298)"
      ]
     },
     "execution_count": 12,
     "metadata": {},
     "output_type": "execute_result"
    }
   ],
   "source": [
    "y, sr = malaya_speech.load('../speech/example-speaker/husein-zolkepli.wav', sr = 16000)\n",
    "y1, sr = malaya_speech.load('../speech/example-speaker/shafiqah-idayu.wav', sr = 16000)\n",
    "len(y), len(y1)"
   ]
  },
  {
   "cell_type": "code",
   "execution_count": 19,
   "metadata": {},
   "outputs": [
    {
     "name": "stdout",
     "output_type": "stream",
     "text": [
      "CPU times: user 2.53 s, sys: 184 ms, total: 2.72 s\n",
      "Wall time: 2.37 s\n"
     ]
    },
    {
     "data": {
      "text/plain": [
       "(1, 140, 6, 100)"
      ]
     },
     "execution_count": 19,
     "metadata": {},
     "output_type": "execute_result"
    }
   ],
   "source": [
    "%%time\n",
    "\n",
    "t = [[1,1,1,1,1,1]]\n",
    "sess.run(small_logits, feed_dict = {i: y, p: t, p_len: [6]}).shape"
   ]
  },
  {
   "cell_type": "code",
   "execution_count": null,
   "metadata": {},
   "outputs": [],
   "source": []
  }
 ],
 "metadata": {
  "kernelspec": {
   "display_name": "Python 3",
   "language": "python",
   "name": "python3"
  },
  "language_info": {
   "codemirror_mode": {
    "name": "ipython",
    "version": 3
   },
   "file_extension": ".py",
   "mimetype": "text/x-python",
   "name": "python",
   "nbconvert_exporter": "python",
   "pygments_lexer": "ipython3",
   "version": "3.7.7"
  },
  "varInspector": {
   "cols": {
    "lenName": 16,
    "lenType": 16,
    "lenVar": 40
   },
   "kernels_config": {
    "python": {
     "delete_cmd_postfix": "",
     "delete_cmd_prefix": "del ",
     "library": "var_list.py",
     "varRefreshCmd": "print(var_dic_list())"
    },
    "r": {
     "delete_cmd_postfix": ") ",
     "delete_cmd_prefix": "rm(",
     "library": "var_list.r",
     "varRefreshCmd": "cat(var_dic_list()) "
    }
   },
   "types_to_exclude": [
    "module",
    "function",
    "builtin_function_or_method",
    "instance",
    "_Feature"
   ],
   "window_display": false
  }
 },
 "nbformat": 4,
 "nbformat_minor": 4
}

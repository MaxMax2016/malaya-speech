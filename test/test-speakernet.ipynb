{
 "cells": [
  {
   "cell_type": "code",
   "execution_count": 1,
   "metadata": {},
   "outputs": [],
   "source": [
    "import os\n",
    "\n",
    "os.environ['CUDA_VISIBLE_DEVICES'] = '1'"
   ]
  },
  {
   "cell_type": "code",
   "execution_count": 2,
   "metadata": {},
   "outputs": [],
   "source": [
    "import sys\n",
    "\n",
    "SOURCE_DIR = os.path.dirname(os.path.dirname(os.path.abspath(__name__)))\n",
    "sys.path.insert(0, SOURCE_DIR)"
   ]
  },
  {
   "cell_type": "code",
   "execution_count": 3,
   "metadata": {
    "scrolled": false
   },
   "outputs": [
    {
     "name": "stdout",
     "output_type": "stream",
     "text": [
      "WARNING:tensorflow:From /Users/huseinzolkepli/Documents/malaya-speech/malaya_speech/train/model/quartznet/layer.py:6: The name tf.layers.Conv1D is deprecated. Please use tf.compat.v1.layers.Conv1D instead.\n",
      "\n",
      "WARNING:tensorflow:\n",
      "The TensorFlow contrib module will not be included in TensorFlow 2.0.\n",
      "For more information, please see:\n",
      "  * https://github.com/tensorflow/community/blob/master/rfcs/20180907-contrib-sunset.md\n",
      "  * https://github.com/tensorflow/addons\n",
      "  * https://github.com/tensorflow/io (for I/O related ops)\n",
      "If you depend on functionality not listed there, please file an issue.\n",
      "\n"
     ]
    }
   ],
   "source": [
    "import malaya_speech\n",
    "import malaya_speech.config\n",
    "import malaya_speech.train.model.speakernet as speakernet\n",
    "import tensorflow as tf"
   ]
  },
  {
   "cell_type": "code",
   "execution_count": 4,
   "metadata": {},
   "outputs": [],
   "source": [
    "config = malaya_speech.config.speakernet_featurizer_config\n",
    "featurizer = malaya_speech.featurization.SpeakerNetFeaturizer(config)"
   ]
  },
  {
   "cell_type": "code",
   "execution_count": 5,
   "metadata": {},
   "outputs": [
    {
     "data": {
      "text/plain": [
       "(90090, 56298)"
      ]
     },
     "execution_count": 5,
     "metadata": {},
     "output_type": "execute_result"
    }
   ],
   "source": [
    "y, sr = malaya_speech.load('../speech/example-speaker/husein-zolkepli.wav', sr = 16000)\n",
    "y1, sr = malaya_speech.load('../speech/example-speaker/shafiqah-idayu.wav', sr = 16000)\n",
    "len(y), len(y1)"
   ]
  },
  {
   "cell_type": "code",
   "execution_count": 6,
   "metadata": {},
   "outputs": [
    {
     "name": "stdout",
     "output_type": "stream",
     "text": [
      "CPU times: user 11.1 ms, sys: 3.76 ms, total: 14.9 ms\n",
      "Wall time: 8.22 ms\n"
     ]
    },
    {
     "data": {
      "text/plain": [
       "(564, 64)"
      ]
     },
     "execution_count": 6,
     "metadata": {},
     "output_type": "execute_result"
    }
   ],
   "source": [
    "%%time\n",
    "featurizer.vectorize(y).shape"
   ]
  },
  {
   "cell_type": "code",
   "execution_count": 7,
   "metadata": {},
   "outputs": [],
   "source": [
    "v = tf.placeholder(tf.float32, [None, None, 64])"
   ]
  },
  {
   "cell_type": "code",
   "execution_count": 8,
   "metadata": {},
   "outputs": [
    {
     "name": "stdout",
     "output_type": "stream",
     "text": [
      "WARNING:tensorflow:From /Users/huseinzolkepli/Documents/malaya-speech/malaya_speech/train/model/speakernet/abstract.py:141: The name tf.variable_scope is deprecated. Please use tf.compat.v1.variable_scope instead.\n",
      "\n",
      "WARNING:tensorflow:From /Users/huseinzolkepli/Documents/malaya-speech/malaya_speech/train/model/speakernet/layer.py:205: conv1d (from tensorflow.python.layers.convolutional) is deprecated and will be removed in a future version.\n",
      "Instructions for updating:\n",
      "Use `tf.keras.layers.Conv1D` instead.\n",
      "WARNING:tensorflow:From /Library/Frameworks/Python.framework/Versions/3.7/lib/python3.7/site-packages/tensorflow_core/python/layers/convolutional.py:218: Layer.apply (from tensorflow.python.keras.engine.base_layer) is deprecated and will be removed in a future version.\n",
      "Instructions for updating:\n",
      "Please use `layer.__call__` method instead.\n",
      "WARNING:tensorflow:From /Users/huseinzolkepli/Documents/malaya-speech/malaya_speech/train/model/speakernet/layer.py:219: batch_normalization (from tensorflow.python.layers.normalization) is deprecated and will be removed in a future version.\n",
      "Instructions for updating:\n",
      "Use keras.layers.BatchNormalization instead.  In particular, `tf.control_dependencies(tf.GraphKeys.UPDATE_OPS)` should not be used (consult the `tf.keras.layers.batch_normalization` documentation).\n",
      "WARNING:tensorflow:From /Users/huseinzolkepli/Documents/malaya-speech/malaya_speech/train/model/speakernet/layer.py:238: separable_conv1d (from tensorflow.python.layers.convolutional) is deprecated and will be removed in a future version.\n",
      "Instructions for updating:\n",
      "Use `tf.keras.layers.SeparableConv1D` instead.\n",
      "WARNING:tensorflow:From /Users/huseinzolkepli/Documents/malaya-speech/malaya_speech/train/model/speakernet/abstract.py:369: calling dropout (from tensorflow.python.ops.nn_ops) with keep_prob is deprecated and will be removed in a future version.\n",
      "Instructions for updating:\n",
      "Please use `rate` instead of `keep_prob`. Rate should be set to `rate = 1 - keep_prob`.\n",
      "WARNING:tensorflow:From /Users/huseinzolkepli/Documents/malaya-speech/malaya_speech/train/model/speakernet/model.py:88: dense (from tensorflow.python.layers.core) is deprecated and will be removed in a future version.\n",
      "Instructions for updating:\n",
      "Use keras.layers.Dense instead.\n"
     ]
    },
    {
     "data": {
      "text/plain": [
       "<tf.Tensor 'Relu_1:0' shape=(?, 512) dtype=float32>"
      ]
     },
     "execution_count": 8,
     "metadata": {},
     "output_type": "execute_result"
    }
   ],
   "source": [
    "model = speakernet.Model(v)\n",
    "model.logits"
   ]
  },
  {
   "cell_type": "code",
   "execution_count": 9,
   "metadata": {},
   "outputs": [],
   "source": [
    "sess = tf.InteractiveSession()\n",
    "sess.run(tf.global_variables_initializer())"
   ]
  },
  {
   "cell_type": "code",
   "execution_count": 10,
   "metadata": {},
   "outputs": [
    {
     "data": {
      "text/plain": [
       "[<tf.Variable 'w2l_encoder/conv11/res/kernel:0' shape=(1, 64, 512) dtype=float32_ref>,\n",
       " <tf.Variable 'w2l_encoder/conv11/res_bn/gamma:0' shape=(512,) dtype=float32_ref>,\n",
       " <tf.Variable 'w2l_encoder/conv11/res_bn/beta:0' shape=(512,) dtype=float32_ref>,\n",
       " <tf.Variable 'w2l_encoder/conv11/res_bn/moving_mean:0' shape=(512,) dtype=float32_ref>,\n",
       " <tf.Variable 'w2l_encoder/conv11/res_bn/moving_variance:0' shape=(512,) dtype=float32_ref>,\n",
       " <tf.Variable 'w2l_encoder/conv11/depthwise_kernel:0' shape=(3, 64, 1) dtype=float32_ref>,\n",
       " <tf.Variable 'w2l_encoder/conv11/pointwise_kernel:0' shape=(1, 64, 512) dtype=float32_ref>,\n",
       " <tf.Variable 'w2l_encoder/conv11/bn/gamma:0' shape=(512,) dtype=float32_ref>,\n",
       " <tf.Variable 'w2l_encoder/conv11/bn/beta:0' shape=(512,) dtype=float32_ref>,\n",
       " <tf.Variable 'w2l_encoder/conv11/bn/moving_mean:0' shape=(512,) dtype=float32_ref>,\n",
       " <tf.Variable 'w2l_encoder/conv11/bn/moving_variance:0' shape=(512,) dtype=float32_ref>,\n",
       " <tf.Variable 'w2l_encoder/conv21/depthwise_kernel:0' shape=(7, 512, 1) dtype=float32_ref>,\n",
       " <tf.Variable 'w2l_encoder/conv21/pointwise_kernel:0' shape=(1, 512, 512) dtype=float32_ref>,\n",
       " <tf.Variable 'w2l_encoder/conv21/bn/gamma:0' shape=(512,) dtype=float32_ref>,\n",
       " <tf.Variable 'w2l_encoder/conv21/bn/beta:0' shape=(512,) dtype=float32_ref>,\n",
       " <tf.Variable 'w2l_encoder/conv21/bn/moving_mean:0' shape=(512,) dtype=float32_ref>,\n",
       " <tf.Variable 'w2l_encoder/conv21/bn/moving_variance:0' shape=(512,) dtype=float32_ref>,\n",
       " <tf.Variable 'w2l_encoder/conv22/res/kernel:0' shape=(1, 512, 512) dtype=float32_ref>,\n",
       " <tf.Variable 'w2l_encoder/conv22/res_bn/gamma:0' shape=(512,) dtype=float32_ref>,\n",
       " <tf.Variable 'w2l_encoder/conv22/res_bn/beta:0' shape=(512,) dtype=float32_ref>,\n",
       " <tf.Variable 'w2l_encoder/conv22/res_bn/moving_mean:0' shape=(512,) dtype=float32_ref>,\n",
       " <tf.Variable 'w2l_encoder/conv22/res_bn/moving_variance:0' shape=(512,) dtype=float32_ref>,\n",
       " <tf.Variable 'w2l_encoder/conv22/depthwise_kernel:0' shape=(7, 512, 1) dtype=float32_ref>,\n",
       " <tf.Variable 'w2l_encoder/conv22/pointwise_kernel:0' shape=(1, 512, 512) dtype=float32_ref>,\n",
       " <tf.Variable 'w2l_encoder/conv22/bn/gamma:0' shape=(512,) dtype=float32_ref>,\n",
       " <tf.Variable 'w2l_encoder/conv22/bn/beta:0' shape=(512,) dtype=float32_ref>,\n",
       " <tf.Variable 'w2l_encoder/conv22/bn/moving_mean:0' shape=(512,) dtype=float32_ref>,\n",
       " <tf.Variable 'w2l_encoder/conv22/bn/moving_variance:0' shape=(512,) dtype=float32_ref>,\n",
       " <tf.Variable 'w2l_encoder/conv31/depthwise_kernel:0' shape=(11, 512, 1) dtype=float32_ref>,\n",
       " <tf.Variable 'w2l_encoder/conv31/pointwise_kernel:0' shape=(1, 512, 512) dtype=float32_ref>,\n",
       " <tf.Variable 'w2l_encoder/conv31/bn/gamma:0' shape=(512,) dtype=float32_ref>,\n",
       " <tf.Variable 'w2l_encoder/conv31/bn/beta:0' shape=(512,) dtype=float32_ref>,\n",
       " <tf.Variable 'w2l_encoder/conv31/bn/moving_mean:0' shape=(512,) dtype=float32_ref>,\n",
       " <tf.Variable 'w2l_encoder/conv31/bn/moving_variance:0' shape=(512,) dtype=float32_ref>,\n",
       " <tf.Variable 'w2l_encoder/conv32/res/kernel:0' shape=(1, 512, 512) dtype=float32_ref>,\n",
       " <tf.Variable 'w2l_encoder/conv32/res_bn/gamma:0' shape=(512,) dtype=float32_ref>,\n",
       " <tf.Variable 'w2l_encoder/conv32/res_bn/beta:0' shape=(512,) dtype=float32_ref>,\n",
       " <tf.Variable 'w2l_encoder/conv32/res_bn/moving_mean:0' shape=(512,) dtype=float32_ref>,\n",
       " <tf.Variable 'w2l_encoder/conv32/res_bn/moving_variance:0' shape=(512,) dtype=float32_ref>,\n",
       " <tf.Variable 'w2l_encoder/conv32/depthwise_kernel:0' shape=(11, 512, 1) dtype=float32_ref>,\n",
       " <tf.Variable 'w2l_encoder/conv32/pointwise_kernel:0' shape=(1, 512, 512) dtype=float32_ref>,\n",
       " <tf.Variable 'w2l_encoder/conv32/bn/gamma:0' shape=(512,) dtype=float32_ref>,\n",
       " <tf.Variable 'w2l_encoder/conv32/bn/beta:0' shape=(512,) dtype=float32_ref>,\n",
       " <tf.Variable 'w2l_encoder/conv32/bn/moving_mean:0' shape=(512,) dtype=float32_ref>,\n",
       " <tf.Variable 'w2l_encoder/conv32/bn/moving_variance:0' shape=(512,) dtype=float32_ref>,\n",
       " <tf.Variable 'w2l_encoder/conv41/depthwise_kernel:0' shape=(15, 512, 1) dtype=float32_ref>,\n",
       " <tf.Variable 'w2l_encoder/conv41/pointwise_kernel:0' shape=(1, 512, 512) dtype=float32_ref>,\n",
       " <tf.Variable 'w2l_encoder/conv41/bn/gamma:0' shape=(512,) dtype=float32_ref>,\n",
       " <tf.Variable 'w2l_encoder/conv41/bn/beta:0' shape=(512,) dtype=float32_ref>,\n",
       " <tf.Variable 'w2l_encoder/conv41/bn/moving_mean:0' shape=(512,) dtype=float32_ref>,\n",
       " <tf.Variable 'w2l_encoder/conv41/bn/moving_variance:0' shape=(512,) dtype=float32_ref>,\n",
       " <tf.Variable 'w2l_encoder/conv42/res/kernel:0' shape=(1, 512, 512) dtype=float32_ref>,\n",
       " <tf.Variable 'w2l_encoder/conv42/res_bn/gamma:0' shape=(512,) dtype=float32_ref>,\n",
       " <tf.Variable 'w2l_encoder/conv42/res_bn/beta:0' shape=(512,) dtype=float32_ref>,\n",
       " <tf.Variable 'w2l_encoder/conv42/res_bn/moving_mean:0' shape=(512,) dtype=float32_ref>,\n",
       " <tf.Variable 'w2l_encoder/conv42/res_bn/moving_variance:0' shape=(512,) dtype=float32_ref>,\n",
       " <tf.Variable 'w2l_encoder/conv42/depthwise_kernel:0' shape=(15, 512, 1) dtype=float32_ref>,\n",
       " <tf.Variable 'w2l_encoder/conv42/pointwise_kernel:0' shape=(1, 512, 512) dtype=float32_ref>,\n",
       " <tf.Variable 'w2l_encoder/conv42/bn/gamma:0' shape=(512,) dtype=float32_ref>,\n",
       " <tf.Variable 'w2l_encoder/conv42/bn/beta:0' shape=(512,) dtype=float32_ref>,\n",
       " <tf.Variable 'w2l_encoder/conv42/bn/moving_mean:0' shape=(512,) dtype=float32_ref>,\n",
       " <tf.Variable 'w2l_encoder/conv42/bn/moving_variance:0' shape=(512,) dtype=float32_ref>,\n",
       " <tf.Variable 'w2l_encoder/conv51/depthwise_kernel:0' shape=(1, 512, 1) dtype=float32_ref>,\n",
       " <tf.Variable 'w2l_encoder/conv51/pointwise_kernel:0' shape=(1, 512, 1500) dtype=float32_ref>,\n",
       " <tf.Variable 'w2l_encoder/conv51/bn/gamma:0' shape=(1500,) dtype=float32_ref>,\n",
       " <tf.Variable 'w2l_encoder/conv51/bn/beta:0' shape=(1500,) dtype=float32_ref>,\n",
       " <tf.Variable 'w2l_encoder/conv51/bn/moving_mean:0' shape=(1500,) dtype=float32_ref>,\n",
       " <tf.Variable 'w2l_encoder/conv51/bn/moving_variance:0' shape=(1500,) dtype=float32_ref>,\n",
       " <tf.Variable 'dense/kernel:0' shape=(3000, 512) dtype=float32_ref>,\n",
       " <tf.Variable 'dense/bias:0' shape=(512,) dtype=float32_ref>,\n",
       " <tf.Variable 'batch_normalization/gamma:0' shape=(512,) dtype=float32_ref>,\n",
       " <tf.Variable 'batch_normalization/beta:0' shape=(512,) dtype=float32_ref>,\n",
       " <tf.Variable 'batch_normalization/moving_mean:0' shape=(512,) dtype=float32_ref>,\n",
       " <tf.Variable 'batch_normalization/moving_variance:0' shape=(512,) dtype=float32_ref>,\n",
       " <tf.Variable 'dense_1/kernel:0' shape=(3000, 512) dtype=float32_ref>,\n",
       " <tf.Variable 'dense_1/bias:0' shape=(512,) dtype=float32_ref>,\n",
       " <tf.Variable 'batch_normalization_1/gamma:0' shape=(512,) dtype=float32_ref>,\n",
       " <tf.Variable 'batch_normalization_1/beta:0' shape=(512,) dtype=float32_ref>,\n",
       " <tf.Variable 'batch_normalization_1/moving_mean:0' shape=(512,) dtype=float32_ref>,\n",
       " <tf.Variable 'batch_normalization_1/moving_variance:0' shape=(512,) dtype=float32_ref>]"
      ]
     },
     "execution_count": 10,
     "metadata": {},
     "output_type": "execute_result"
    }
   ],
   "source": [
    "variables = [v for v in tf.get_collection('variables')]\n",
    "variables"
   ]
  },
  {
   "cell_type": "code",
   "execution_count": 11,
   "metadata": {},
   "outputs": [
    {
     "data": {
      "text/plain": [
       "array([[0.00000000e+00, 7.62331784e-02, 0.00000000e+00, 8.66109729e-01,\n",
       "        0.00000000e+00, 2.73512304e-01, 0.00000000e+00, 2.06320677e-02,\n",
       "        3.64124179e-01, 5.57018161e-01, 0.00000000e+00, 0.00000000e+00,\n",
       "        2.42066339e-01, 1.12497532e+00, 0.00000000e+00, 5.00702739e-01,\n",
       "        0.00000000e+00, 3.51215780e-01, 0.00000000e+00, 2.97812313e-01,\n",
       "        0.00000000e+00, 0.00000000e+00, 7.08153129e-01, 0.00000000e+00,\n",
       "        0.00000000e+00, 0.00000000e+00, 0.00000000e+00, 4.99005675e-01,\n",
       "        3.28914255e-01, 1.81570023e-01, 7.11804450e-01, 0.00000000e+00,\n",
       "        0.00000000e+00, 4.69534665e-01, 0.00000000e+00, 0.00000000e+00,\n",
       "        1.85359135e-01, 7.79104948e-01, 0.00000000e+00, 4.23218638e-01,\n",
       "        0.00000000e+00, 0.00000000e+00, 0.00000000e+00, 0.00000000e+00,\n",
       "        1.04629278e+00, 7.56509364e-01, 4.95470226e-01, 0.00000000e+00,\n",
       "        8.02800715e-01, 4.11561131e-01, 0.00000000e+00, 3.34725350e-01,\n",
       "        4.16403174e-01, 3.77843887e-01, 6.30379200e-01, 0.00000000e+00,\n",
       "        0.00000000e+00, 9.71977832e-04, 0.00000000e+00, 0.00000000e+00,\n",
       "        0.00000000e+00, 3.11175063e-02, 0.00000000e+00, 0.00000000e+00,\n",
       "        0.00000000e+00, 0.00000000e+00, 2.25715131e-01, 0.00000000e+00,\n",
       "        8.44885767e-01, 6.55697048e-01, 5.47933221e-01, 0.00000000e+00,\n",
       "        3.72375578e-01, 0.00000000e+00, 0.00000000e+00, 1.73958212e-01,\n",
       "        8.14467251e-01, 2.41399929e-01, 3.94938663e-02, 1.10181205e-01,\n",
       "        6.81904927e-02, 0.00000000e+00, 0.00000000e+00, 0.00000000e+00,\n",
       "        6.48858488e-01, 0.00000000e+00, 1.32847697e-01, 0.00000000e+00,\n",
       "        0.00000000e+00, 4.56726849e-01, 0.00000000e+00, 0.00000000e+00,\n",
       "        1.50669053e-01, 8.05330276e-01, 0.00000000e+00, 4.65133578e-01,\n",
       "        0.00000000e+00, 0.00000000e+00, 6.73934579e-01, 8.52391347e-02,\n",
       "        1.39639080e-01, 0.00000000e+00, 0.00000000e+00, 1.73222199e-01,\n",
       "        0.00000000e+00, 6.11845613e-01, 0.00000000e+00, 0.00000000e+00,\n",
       "        0.00000000e+00, 0.00000000e+00, 0.00000000e+00, 0.00000000e+00,\n",
       "        0.00000000e+00, 0.00000000e+00, 9.66098845e-01, 5.98588325e-02,\n",
       "        0.00000000e+00, 0.00000000e+00, 0.00000000e+00, 1.63749039e-01,\n",
       "        1.03663489e-01, 0.00000000e+00, 1.45546824e-01, 4.29640144e-01,\n",
       "        0.00000000e+00, 0.00000000e+00, 0.00000000e+00, 0.00000000e+00,\n",
       "        7.09966123e-01, 0.00000000e+00, 2.62778848e-01, 7.14710832e-01,\n",
       "        7.47454345e-01, 1.90180874e+00, 0.00000000e+00, 5.32622814e-01,\n",
       "        6.02621973e-01, 0.00000000e+00, 0.00000000e+00, 9.24203932e-01,\n",
       "        0.00000000e+00, 1.15276150e-01, 0.00000000e+00, 0.00000000e+00,\n",
       "        7.17350185e-01, 8.46156676e-04, 7.49673694e-02, 0.00000000e+00,\n",
       "        0.00000000e+00, 0.00000000e+00, 0.00000000e+00, 7.89463401e-01,\n",
       "        0.00000000e+00, 0.00000000e+00, 0.00000000e+00, 3.96013781e-02,\n",
       "        0.00000000e+00, 0.00000000e+00, 0.00000000e+00, 0.00000000e+00,\n",
       "        0.00000000e+00, 0.00000000e+00, 1.45201862e+00, 8.84828269e-02,\n",
       "        0.00000000e+00, 8.62573534e-02, 0.00000000e+00, 0.00000000e+00,\n",
       "        0.00000000e+00, 8.87591362e-01, 0.00000000e+00, 1.16918897e-02,\n",
       "        0.00000000e+00, 4.66347039e-02, 8.29941258e-02, 0.00000000e+00,\n",
       "        0.00000000e+00, 0.00000000e+00, 2.41080821e-01, 8.46837312e-02,\n",
       "        0.00000000e+00, 5.04940450e-01, 0.00000000e+00, 1.47019420e-02,\n",
       "        1.37417710e+00, 0.00000000e+00, 0.00000000e+00, 3.55180562e-01,\n",
       "        0.00000000e+00, 0.00000000e+00, 6.76948071e-01, 8.10036302e-01,\n",
       "        2.40079820e-01, 0.00000000e+00, 0.00000000e+00, 3.83239001e-01,\n",
       "        0.00000000e+00, 0.00000000e+00, 3.12944651e-01, 0.00000000e+00,\n",
       "        1.07169735e+00, 0.00000000e+00, 0.00000000e+00, 0.00000000e+00,\n",
       "        0.00000000e+00, 0.00000000e+00, 0.00000000e+00, 0.00000000e+00,\n",
       "        0.00000000e+00, 6.25538707e-01, 1.58653423e-01, 3.63269478e-01,\n",
       "        0.00000000e+00, 0.00000000e+00, 0.00000000e+00, 0.00000000e+00,\n",
       "        0.00000000e+00, 0.00000000e+00, 2.07208678e-01, 0.00000000e+00,\n",
       "        5.02985954e-01, 0.00000000e+00, 4.05672193e-01, 0.00000000e+00,\n",
       "        0.00000000e+00, 4.24923778e-01, 1.40735459e+00, 1.65904999e-01,\n",
       "        2.26692148e-02, 0.00000000e+00, 0.00000000e+00, 0.00000000e+00,\n",
       "        3.73867691e-01, 0.00000000e+00, 0.00000000e+00, 0.00000000e+00,\n",
       "        0.00000000e+00, 5.58872998e-01, 0.00000000e+00, 0.00000000e+00,\n",
       "        0.00000000e+00, 1.19701791e+00, 1.25683084e-01, 0.00000000e+00,\n",
       "        5.11028409e-01, 0.00000000e+00, 0.00000000e+00, 0.00000000e+00,\n",
       "        3.58810276e-01, 0.00000000e+00, 6.85340911e-02, 3.90536219e-01,\n",
       "        0.00000000e+00, 0.00000000e+00, 0.00000000e+00, 0.00000000e+00,\n",
       "        1.16778500e-01, 6.72606528e-02, 2.73861766e-01, 1.31886065e-01,\n",
       "        5.93744874e-01, 0.00000000e+00, 1.76433414e-01, 0.00000000e+00,\n",
       "        4.50582325e-01, 0.00000000e+00, 0.00000000e+00, 3.19319546e-01,\n",
       "        2.76642650e-01, 0.00000000e+00, 0.00000000e+00, 0.00000000e+00,\n",
       "        0.00000000e+00, 0.00000000e+00, 6.20498776e-01, 0.00000000e+00,\n",
       "        6.09734476e-01, 5.93935728e-01, 0.00000000e+00, 0.00000000e+00,\n",
       "        0.00000000e+00, 0.00000000e+00, 8.10256660e-01, 7.66424119e-01,\n",
       "        0.00000000e+00, 5.73092520e-01, 1.75738096e-01, 0.00000000e+00,\n",
       "        0.00000000e+00, 0.00000000e+00, 2.36192435e-01, 0.00000000e+00,\n",
       "        4.95491356e-01, 4.52681482e-01, 0.00000000e+00, 4.30154145e-01,\n",
       "        1.37687290e+00, 0.00000000e+00, 0.00000000e+00, 2.00739667e-01,\n",
       "        0.00000000e+00, 2.68951394e-02, 7.60014713e-01, 4.79851440e-02,\n",
       "        0.00000000e+00, 7.08637908e-02, 4.78981882e-01, 0.00000000e+00,\n",
       "        0.00000000e+00, 0.00000000e+00, 0.00000000e+00, 0.00000000e+00,\n",
       "        0.00000000e+00, 5.72494507e-01, 2.19871804e-01, 4.49444383e-01,\n",
       "        1.11638725e+00, 4.10888940e-01, 0.00000000e+00, 0.00000000e+00,\n",
       "        0.00000000e+00, 5.26943207e-01, 3.31125082e-03, 0.00000000e+00,\n",
       "        8.38605106e-01, 5.28074563e-01, 0.00000000e+00, 1.02538690e-02,\n",
       "        0.00000000e+00, 0.00000000e+00, 0.00000000e+00, 0.00000000e+00,\n",
       "        0.00000000e+00, 0.00000000e+00, 0.00000000e+00, 0.00000000e+00,\n",
       "        6.72222018e-01, 7.85133541e-01, 0.00000000e+00, 0.00000000e+00,\n",
       "        0.00000000e+00, 5.70113719e-01, 5.47693729e-01, 0.00000000e+00,\n",
       "        1.12217426e+00, 6.30566478e-01, 1.10390522e-01, 4.04841065e-01,\n",
       "        1.24942029e+00, 0.00000000e+00, 0.00000000e+00, 0.00000000e+00,\n",
       "        9.38226357e-02, 3.55179489e-01, 2.79594779e-01, 4.05438066e-01,\n",
       "        0.00000000e+00, 6.73189580e-01, 6.55337036e-01, 0.00000000e+00,\n",
       "        9.41698313e-01, 0.00000000e+00, 7.77418166e-02, 9.02123570e-01,\n",
       "        1.84182897e-01, 0.00000000e+00, 1.52394861e-01, 1.55340925e-01,\n",
       "        4.39195782e-01, 0.00000000e+00, 0.00000000e+00, 4.84241396e-01,\n",
       "        0.00000000e+00, 0.00000000e+00, 1.10365164e+00, 2.46937200e-03,\n",
       "        0.00000000e+00, 1.69976398e-01, 0.00000000e+00, 5.08703113e-01,\n",
       "        0.00000000e+00, 0.00000000e+00, 3.84191692e-01, 1.13991462e-01,\n",
       "        3.58579189e-01, 1.26249897e+00, 1.03207827e+00, 0.00000000e+00,\n",
       "        0.00000000e+00, 0.00000000e+00, 0.00000000e+00, 2.12402165e-01,\n",
       "        0.00000000e+00, 8.83389078e-03, 0.00000000e+00, 0.00000000e+00,\n",
       "        4.25174505e-01, 1.11663699e-01, 8.71424735e-01, 0.00000000e+00,\n",
       "        0.00000000e+00, 0.00000000e+00, 6.73426390e-01, 0.00000000e+00,\n",
       "        0.00000000e+00, 0.00000000e+00, 2.88729966e-01, 0.00000000e+00,\n",
       "        1.18088758e+00, 1.48190558e+00, 0.00000000e+00, 1.05537593e+00,\n",
       "        0.00000000e+00, 9.40899644e-03, 0.00000000e+00, 0.00000000e+00,\n",
       "        0.00000000e+00, 0.00000000e+00, 1.06458569e+00, 4.52406079e-01,\n",
       "        1.52969630e-02, 8.56900066e-02, 0.00000000e+00, 0.00000000e+00,\n",
       "        0.00000000e+00, 6.45323038e-01, 0.00000000e+00, 5.30776918e-01,\n",
       "        0.00000000e+00, 2.55182147e-01, 0.00000000e+00, 0.00000000e+00,\n",
       "        0.00000000e+00, 0.00000000e+00, 0.00000000e+00, 5.50518274e-01,\n",
       "        6.38361692e-01, 1.20478198e-01, 8.62028897e-02, 0.00000000e+00,\n",
       "        7.94785097e-02, 0.00000000e+00, 9.08049703e-01, 0.00000000e+00,\n",
       "        0.00000000e+00, 0.00000000e+00, 0.00000000e+00, 3.14155370e-01,\n",
       "        0.00000000e+00, 0.00000000e+00, 0.00000000e+00, 0.00000000e+00,\n",
       "        1.89513892e-01, 0.00000000e+00, 0.00000000e+00, 1.12101614e+00,\n",
       "        8.84341180e-01, 1.44718558e-01, 0.00000000e+00, 3.74446005e-01,\n",
       "        5.66151083e-01, 7.56535903e-02, 0.00000000e+00, 0.00000000e+00,\n",
       "        0.00000000e+00, 4.58677173e-01, 0.00000000e+00, 2.55995721e-01,\n",
       "        0.00000000e+00, 0.00000000e+00, 0.00000000e+00, 9.19912934e-01,\n",
       "        0.00000000e+00, 0.00000000e+00, 0.00000000e+00, 0.00000000e+00,\n",
       "        0.00000000e+00, 6.57786250e-01, 3.86192560e-01, 7.97722042e-01,\n",
       "        0.00000000e+00, 4.56428796e-01, 4.18319255e-01, 0.00000000e+00,\n",
       "        7.67119303e-02, 2.07226947e-01, 0.00000000e+00, 0.00000000e+00,\n",
       "        2.93348283e-01, 6.64140165e-01, 1.02291696e-01, 8.91614616e-01,\n",
       "        9.05792475e-01, 0.00000000e+00, 7.45157003e-01, 0.00000000e+00,\n",
       "        0.00000000e+00, 7.98114777e-01, 5.11396706e-01, 7.15447843e-01,\n",
       "        2.00387508e-01, 1.21371746e-01, 0.00000000e+00, 2.55849630e-01,\n",
       "        0.00000000e+00, 0.00000000e+00, 1.43157315e+00, 8.89190197e-01,\n",
       "        0.00000000e+00, 4.32077870e-02, 0.00000000e+00, 0.00000000e+00]],\n",
       "      dtype=float32)"
      ]
     },
     "execution_count": 11,
     "metadata": {},
     "output_type": "execute_result"
    }
   ],
   "source": [
    "sess.run(model.logits, feed_dict = {v: [featurizer.vectorize(y)]})"
   ]
  },
  {
   "cell_type": "code",
   "execution_count": null,
   "metadata": {},
   "outputs": [],
   "source": []
  }
 ],
 "metadata": {
  "kernelspec": {
   "display_name": "Python 3",
   "language": "python",
   "name": "python3"
  },
  "language_info": {
   "codemirror_mode": {
    "name": "ipython",
    "version": 3
   },
   "file_extension": ".py",
   "mimetype": "text/x-python",
   "name": "python",
   "nbconvert_exporter": "python",
   "pygments_lexer": "ipython3",
   "version": "3.7.7"
  }
 },
 "nbformat": 4,
 "nbformat_minor": 4
}

{
 "cells": [
  {
   "cell_type": "code",
   "execution_count": 1,
   "metadata": {},
   "outputs": [],
   "source": [
    "import os\n",
    "\n",
    "os.environ['CUDA_VISIBLE_DEVICES'] = '1'"
   ]
  },
  {
   "cell_type": "code",
   "execution_count": 2,
   "metadata": {},
   "outputs": [],
   "source": [
    "import sys\n",
    "\n",
    "SOURCE_DIR = os.path.dirname(os.path.dirname(os.path.abspath(__name__)))\n",
    "sys.path.insert(0, SOURCE_DIR)"
   ]
  },
  {
   "cell_type": "code",
   "execution_count": 3,
   "metadata": {
    "scrolled": false
   },
   "outputs": [
    {
     "name": "stdout",
     "output_type": "stream",
     "text": [
      "WARNING:tensorflow:From /Users/huseinzolkepli/Documents/malaya-speech/malaya_speech/train/model/quartznet/layer.py:6: The name tf.layers.Conv1D is deprecated. Please use tf.compat.v1.layers.Conv1D instead.\n",
      "\n",
      "WARNING:tensorflow:\n",
      "The TensorFlow contrib module will not be included in TensorFlow 2.0.\n",
      "For more information, please see:\n",
      "  * https://github.com/tensorflow/community/blob/master/rfcs/20180907-contrib-sunset.md\n",
      "  * https://github.com/tensorflow/addons\n",
      "  * https://github.com/tensorflow/io (for I/O related ops)\n",
      "If you depend on functionality not listed there, please file an issue.\n",
      "\n"
     ]
    }
   ],
   "source": [
    "import malaya_speech\n",
    "import malaya_speech.config\n",
    "import malaya_speech.train.model.speakernet as speakernet\n",
    "import tensorflow as tf"
   ]
  },
  {
   "cell_type": "code",
   "execution_count": 4,
   "metadata": {},
   "outputs": [],
   "source": [
    "config = malaya_speech.config.speakernet_featurizer_config\n",
    "featurizer = malaya_speech.featurization.SpeakerNetFeaturizer(config)"
   ]
  },
  {
   "cell_type": "code",
   "execution_count": 5,
   "metadata": {},
   "outputs": [
    {
     "data": {
      "text/plain": [
       "(90090, 56298)"
      ]
     },
     "execution_count": 5,
     "metadata": {},
     "output_type": "execute_result"
    }
   ],
   "source": [
    "y, sr = malaya_speech.load('../speech/example-speaker/husein-zolkepli.wav', sr = 16000)\n",
    "y1, sr = malaya_speech.load('../speech/example-speaker/shafiqah-idayu.wav', sr = 16000)\n",
    "len(y), len(y1)"
   ]
  },
  {
   "cell_type": "code",
   "execution_count": 6,
   "metadata": {},
   "outputs": [
    {
     "name": "stdout",
     "output_type": "stream",
     "text": [
      "CPU times: user 16.8 ms, sys: 4.67 ms, total: 21.4 ms\n",
      "Wall time: 13.1 ms\n"
     ]
    },
    {
     "data": {
      "text/plain": [
       "(564, 64)"
      ]
     },
     "execution_count": 6,
     "metadata": {},
     "output_type": "execute_result"
    }
   ],
   "source": [
    "%%time\n",
    "featurizer.vectorize(y).shape"
   ]
  },
  {
   "cell_type": "code",
   "execution_count": 9,
   "metadata": {},
   "outputs": [],
   "source": [
    "v = tf.placeholder(tf.float32, [None, None, 64])\n",
    "v_length = tf.placeholder(tf.int32, [None])"
   ]
  },
  {
   "cell_type": "code",
   "execution_count": 11,
   "metadata": {},
   "outputs": [
    {
     "name": "stdout",
     "output_type": "stream",
     "text": [
      "WARNING:tensorflow:From /Users/huseinzolkepli/Documents/malaya-speech/malaya_speech/train/model/speakernet/abstract.py:141: The name tf.variable_scope is deprecated. Please use tf.compat.v1.variable_scope instead.\n",
      "\n",
      "WARNING:tensorflow:From /Users/huseinzolkepli/Documents/malaya-speech/malaya_speech/train/model/speakernet/layer.py:205: conv1d (from tensorflow.python.layers.convolutional) is deprecated and will be removed in a future version.\n",
      "Instructions for updating:\n",
      "Use `tf.keras.layers.Conv1D` instead.\n",
      "WARNING:tensorflow:From /Library/Frameworks/Python.framework/Versions/3.7/lib/python3.7/site-packages/tensorflow_core/python/layers/convolutional.py:218: Layer.apply (from tensorflow.python.keras.engine.base_layer) is deprecated and will be removed in a future version.\n",
      "Instructions for updating:\n",
      "Please use `layer.__call__` method instead.\n",
      "WARNING:tensorflow:From /Users/huseinzolkepli/Documents/malaya-speech/malaya_speech/train/model/speakernet/layer.py:219: batch_normalization (from tensorflow.python.layers.normalization) is deprecated and will be removed in a future version.\n",
      "Instructions for updating:\n",
      "Use keras.layers.BatchNormalization instead.  In particular, `tf.control_dependencies(tf.GraphKeys.UPDATE_OPS)` should not be used (consult the `tf.keras.layers.batch_normalization` documentation).\n",
      "WARNING:tensorflow:From /Users/huseinzolkepli/Documents/malaya-speech/malaya_speech/train/model/speakernet/layer.py:238: separable_conv1d (from tensorflow.python.layers.convolutional) is deprecated and will be removed in a future version.\n",
      "Instructions for updating:\n",
      "Use `tf.keras.layers.SeparableConv1D` instead.\n",
      "WARNING:tensorflow:From /Users/huseinzolkepli/Documents/malaya-speech/malaya_speech/train/model/speakernet/abstract.py:369: calling dropout (from tensorflow.python.ops.nn_ops) with keep_prob is deprecated and will be removed in a future version.\n",
      "Instructions for updating:\n",
      "Please use `rate` instead of `keep_prob`. Rate should be set to `rate = 1 - keep_prob`.\n",
      "WARNING:tensorflow:From /Users/huseinzolkepli/Documents/malaya-speech/malaya_speech/train/model/speakernet/model.py:86: dense (from tensorflow.python.layers.core) is deprecated and will be removed in a future version.\n",
      "Instructions for updating:\n",
      "Use keras.layers.Dense instead.\n"
     ]
    },
    {
     "data": {
      "text/plain": [
       "<tf.Tensor 'Relu_1:0' shape=(?, 512) dtype=float32>"
      ]
     },
     "execution_count": 11,
     "metadata": {},
     "output_type": "execute_result"
    }
   ],
   "source": [
    "model = speakernet.Model(v, v_length)\n",
    "model.logits"
   ]
  },
  {
   "cell_type": "code",
   "execution_count": 12,
   "metadata": {},
   "outputs": [],
   "source": [
    "sess = tf.InteractiveSession()\n",
    "sess.run(tf.global_variables_initializer())"
   ]
  },
  {
   "cell_type": "code",
   "execution_count": 13,
   "metadata": {
    "scrolled": false
   },
   "outputs": [
    {
     "data": {
      "text/plain": [
       "[<tf.Variable 'w2l_encoder/conv11/res/kernel:0' shape=(1, 64, 512) dtype=float32_ref>,\n",
       " <tf.Variable 'w2l_encoder/conv11/res_bn/gamma:0' shape=(512,) dtype=float32_ref>,\n",
       " <tf.Variable 'w2l_encoder/conv11/res_bn/beta:0' shape=(512,) dtype=float32_ref>,\n",
       " <tf.Variable 'w2l_encoder/conv11/res_bn/moving_mean:0' shape=(512,) dtype=float32_ref>,\n",
       " <tf.Variable 'w2l_encoder/conv11/res_bn/moving_variance:0' shape=(512,) dtype=float32_ref>,\n",
       " <tf.Variable 'w2l_encoder/conv11/depthwise_kernel:0' shape=(3, 64, 1) dtype=float32_ref>,\n",
       " <tf.Variable 'w2l_encoder/conv11/pointwise_kernel:0' shape=(1, 64, 512) dtype=float32_ref>,\n",
       " <tf.Variable 'w2l_encoder/conv11/bn/gamma:0' shape=(512,) dtype=float32_ref>,\n",
       " <tf.Variable 'w2l_encoder/conv11/bn/beta:0' shape=(512,) dtype=float32_ref>,\n",
       " <tf.Variable 'w2l_encoder/conv11/bn/moving_mean:0' shape=(512,) dtype=float32_ref>,\n",
       " <tf.Variable 'w2l_encoder/conv11/bn/moving_variance:0' shape=(512,) dtype=float32_ref>,\n",
       " <tf.Variable 'w2l_encoder/conv21/depthwise_kernel:0' shape=(7, 512, 1) dtype=float32_ref>,\n",
       " <tf.Variable 'w2l_encoder/conv21/pointwise_kernel:0' shape=(1, 512, 512) dtype=float32_ref>,\n",
       " <tf.Variable 'w2l_encoder/conv21/bn/gamma:0' shape=(512,) dtype=float32_ref>,\n",
       " <tf.Variable 'w2l_encoder/conv21/bn/beta:0' shape=(512,) dtype=float32_ref>,\n",
       " <tf.Variable 'w2l_encoder/conv21/bn/moving_mean:0' shape=(512,) dtype=float32_ref>,\n",
       " <tf.Variable 'w2l_encoder/conv21/bn/moving_variance:0' shape=(512,) dtype=float32_ref>,\n",
       " <tf.Variable 'w2l_encoder/conv22/res/kernel:0' shape=(1, 512, 512) dtype=float32_ref>,\n",
       " <tf.Variable 'w2l_encoder/conv22/res_bn/gamma:0' shape=(512,) dtype=float32_ref>,\n",
       " <tf.Variable 'w2l_encoder/conv22/res_bn/beta:0' shape=(512,) dtype=float32_ref>,\n",
       " <tf.Variable 'w2l_encoder/conv22/res_bn/moving_mean:0' shape=(512,) dtype=float32_ref>,\n",
       " <tf.Variable 'w2l_encoder/conv22/res_bn/moving_variance:0' shape=(512,) dtype=float32_ref>,\n",
       " <tf.Variable 'w2l_encoder/conv22/depthwise_kernel:0' shape=(7, 512, 1) dtype=float32_ref>,\n",
       " <tf.Variable 'w2l_encoder/conv22/pointwise_kernel:0' shape=(1, 512, 512) dtype=float32_ref>,\n",
       " <tf.Variable 'w2l_encoder/conv22/bn/gamma:0' shape=(512,) dtype=float32_ref>,\n",
       " <tf.Variable 'w2l_encoder/conv22/bn/beta:0' shape=(512,) dtype=float32_ref>,\n",
       " <tf.Variable 'w2l_encoder/conv22/bn/moving_mean:0' shape=(512,) dtype=float32_ref>,\n",
       " <tf.Variable 'w2l_encoder/conv22/bn/moving_variance:0' shape=(512,) dtype=float32_ref>,\n",
       " <tf.Variable 'w2l_encoder/conv31/depthwise_kernel:0' shape=(11, 512, 1) dtype=float32_ref>,\n",
       " <tf.Variable 'w2l_encoder/conv31/pointwise_kernel:0' shape=(1, 512, 512) dtype=float32_ref>,\n",
       " <tf.Variable 'w2l_encoder/conv31/bn/gamma:0' shape=(512,) dtype=float32_ref>,\n",
       " <tf.Variable 'w2l_encoder/conv31/bn/beta:0' shape=(512,) dtype=float32_ref>,\n",
       " <tf.Variable 'w2l_encoder/conv31/bn/moving_mean:0' shape=(512,) dtype=float32_ref>,\n",
       " <tf.Variable 'w2l_encoder/conv31/bn/moving_variance:0' shape=(512,) dtype=float32_ref>,\n",
       " <tf.Variable 'w2l_encoder/conv32/res/kernel:0' shape=(1, 512, 512) dtype=float32_ref>,\n",
       " <tf.Variable 'w2l_encoder/conv32/res_bn/gamma:0' shape=(512,) dtype=float32_ref>,\n",
       " <tf.Variable 'w2l_encoder/conv32/res_bn/beta:0' shape=(512,) dtype=float32_ref>,\n",
       " <tf.Variable 'w2l_encoder/conv32/res_bn/moving_mean:0' shape=(512,) dtype=float32_ref>,\n",
       " <tf.Variable 'w2l_encoder/conv32/res_bn/moving_variance:0' shape=(512,) dtype=float32_ref>,\n",
       " <tf.Variable 'w2l_encoder/conv32/depthwise_kernel:0' shape=(11, 512, 1) dtype=float32_ref>,\n",
       " <tf.Variable 'w2l_encoder/conv32/pointwise_kernel:0' shape=(1, 512, 512) dtype=float32_ref>,\n",
       " <tf.Variable 'w2l_encoder/conv32/bn/gamma:0' shape=(512,) dtype=float32_ref>,\n",
       " <tf.Variable 'w2l_encoder/conv32/bn/beta:0' shape=(512,) dtype=float32_ref>,\n",
       " <tf.Variable 'w2l_encoder/conv32/bn/moving_mean:0' shape=(512,) dtype=float32_ref>,\n",
       " <tf.Variable 'w2l_encoder/conv32/bn/moving_variance:0' shape=(512,) dtype=float32_ref>,\n",
       " <tf.Variable 'w2l_encoder/conv41/depthwise_kernel:0' shape=(15, 512, 1) dtype=float32_ref>,\n",
       " <tf.Variable 'w2l_encoder/conv41/pointwise_kernel:0' shape=(1, 512, 512) dtype=float32_ref>,\n",
       " <tf.Variable 'w2l_encoder/conv41/bn/gamma:0' shape=(512,) dtype=float32_ref>,\n",
       " <tf.Variable 'w2l_encoder/conv41/bn/beta:0' shape=(512,) dtype=float32_ref>,\n",
       " <tf.Variable 'w2l_encoder/conv41/bn/moving_mean:0' shape=(512,) dtype=float32_ref>,\n",
       " <tf.Variable 'w2l_encoder/conv41/bn/moving_variance:0' shape=(512,) dtype=float32_ref>,\n",
       " <tf.Variable 'w2l_encoder/conv42/res/kernel:0' shape=(1, 512, 512) dtype=float32_ref>,\n",
       " <tf.Variable 'w2l_encoder/conv42/res_bn/gamma:0' shape=(512,) dtype=float32_ref>,\n",
       " <tf.Variable 'w2l_encoder/conv42/res_bn/beta:0' shape=(512,) dtype=float32_ref>,\n",
       " <tf.Variable 'w2l_encoder/conv42/res_bn/moving_mean:0' shape=(512,) dtype=float32_ref>,\n",
       " <tf.Variable 'w2l_encoder/conv42/res_bn/moving_variance:0' shape=(512,) dtype=float32_ref>,\n",
       " <tf.Variable 'w2l_encoder/conv42/depthwise_kernel:0' shape=(15, 512, 1) dtype=float32_ref>,\n",
       " <tf.Variable 'w2l_encoder/conv42/pointwise_kernel:0' shape=(1, 512, 512) dtype=float32_ref>,\n",
       " <tf.Variable 'w2l_encoder/conv42/bn/gamma:0' shape=(512,) dtype=float32_ref>,\n",
       " <tf.Variable 'w2l_encoder/conv42/bn/beta:0' shape=(512,) dtype=float32_ref>,\n",
       " <tf.Variable 'w2l_encoder/conv42/bn/moving_mean:0' shape=(512,) dtype=float32_ref>,\n",
       " <tf.Variable 'w2l_encoder/conv42/bn/moving_variance:0' shape=(512,) dtype=float32_ref>,\n",
       " <tf.Variable 'w2l_encoder/conv51/depthwise_kernel:0' shape=(1, 512, 1) dtype=float32_ref>,\n",
       " <tf.Variable 'w2l_encoder/conv51/pointwise_kernel:0' shape=(1, 512, 1500) dtype=float32_ref>,\n",
       " <tf.Variable 'w2l_encoder/conv51/bn/gamma:0' shape=(1500,) dtype=float32_ref>,\n",
       " <tf.Variable 'w2l_encoder/conv51/bn/beta:0' shape=(1500,) dtype=float32_ref>,\n",
       " <tf.Variable 'w2l_encoder/conv51/bn/moving_mean:0' shape=(1500,) dtype=float32_ref>,\n",
       " <tf.Variable 'w2l_encoder/conv51/bn/moving_variance:0' shape=(1500,) dtype=float32_ref>,\n",
       " <tf.Variable 'dense/kernel:0' shape=(3000, 512) dtype=float32_ref>,\n",
       " <tf.Variable 'dense/bias:0' shape=(512,) dtype=float32_ref>,\n",
       " <tf.Variable 'batch_normalization/gamma:0' shape=(512,) dtype=float32_ref>,\n",
       " <tf.Variable 'batch_normalization/beta:0' shape=(512,) dtype=float32_ref>,\n",
       " <tf.Variable 'batch_normalization/moving_mean:0' shape=(512,) dtype=float32_ref>,\n",
       " <tf.Variable 'batch_normalization/moving_variance:0' shape=(512,) dtype=float32_ref>,\n",
       " <tf.Variable 'dense_1/kernel:0' shape=(3000, 512) dtype=float32_ref>,\n",
       " <tf.Variable 'dense_1/bias:0' shape=(512,) dtype=float32_ref>,\n",
       " <tf.Variable 'batch_normalization_1/gamma:0' shape=(512,) dtype=float32_ref>,\n",
       " <tf.Variable 'batch_normalization_1/beta:0' shape=(512,) dtype=float32_ref>,\n",
       " <tf.Variable 'batch_normalization_1/moving_mean:0' shape=(512,) dtype=float32_ref>,\n",
       " <tf.Variable 'batch_normalization_1/moving_variance:0' shape=(512,) dtype=float32_ref>]"
      ]
     },
     "execution_count": 13,
     "metadata": {},
     "output_type": "execute_result"
    }
   ],
   "source": [
    "variables = [v for v in tf.get_collection('variables')]\n",
    "variables"
   ]
  },
  {
   "cell_type": "code",
   "execution_count": 18,
   "metadata": {},
   "outputs": [],
   "source": [
    "padded, l = malaya_speech.padding.sequence_nd([featurizer.vectorize(y), featurizer.vectorize(y1)], \n",
    "                                              dim = 0, return_len = True)"
   ]
  },
  {
   "cell_type": "code",
   "execution_count": 20,
   "metadata": {},
   "outputs": [
    {
     "data": {
      "text/plain": [
       "(2, 512)"
      ]
     },
     "execution_count": 20,
     "metadata": {},
     "output_type": "execute_result"
    }
   ],
   "source": [
    "sess.run(model.logits, feed_dict = {v: padded, v_length: l}).shape"
   ]
  },
  {
   "cell_type": "code",
   "execution_count": null,
   "metadata": {},
   "outputs": [],
   "source": []
  }
 ],
 "metadata": {
  "kernelspec": {
   "display_name": "Python 3",
   "language": "python",
   "name": "python3"
  },
  "language_info": {
   "codemirror_mode": {
    "name": "ipython",
    "version": 3
   },
   "file_extension": ".py",
   "mimetype": "text/x-python",
   "name": "python",
   "nbconvert_exporter": "python",
   "pygments_lexer": "ipython3",
   "version": "3.7.7"
  }
 },
 "nbformat": 4,
 "nbformat_minor": 4
}

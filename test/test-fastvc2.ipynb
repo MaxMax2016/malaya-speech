{
 "cells": [
  {
   "cell_type": "code",
   "execution_count": 1,
   "metadata": {},
   "outputs": [],
   "source": [
    "import os\n",
    "\n",
    "os.environ['CUDA_VISIBLE_DEVICES'] = '1'"
   ]
  },
  {
   "cell_type": "code",
   "execution_count": 2,
   "metadata": {},
   "outputs": [],
   "source": [
    "import sys\n",
    "\n",
    "SOURCE_DIR = os.path.dirname(os.path.dirname(os.path.abspath(__name__)))\n",
    "sys.path.insert(0, SOURCE_DIR)"
   ]
  },
  {
   "cell_type": "code",
   "execution_count": 3,
   "metadata": {},
   "outputs": [],
   "source": [
    "import pickle\n",
    "\n",
    "metadata = pickle.load(open('metadata.pkl', \"rb\"))"
   ]
  },
  {
   "cell_type": "code",
   "execution_count": 4,
   "metadata": {},
   "outputs": [],
   "source": [
    "# import tensorflow as tf\n",
    "# tf.compat.v1.enable_eager_execution()"
   ]
  },
  {
   "cell_type": "code",
   "execution_count": 5,
   "metadata": {},
   "outputs": [
    {
     "name": "stdout",
     "output_type": "stream",
     "text": [
      "WARNING:tensorflow:From /Users/huseinzolkepli/Documents/malaya-speech/malaya_speech/train/optimizer/__init__.py:38: The name tf.train.AdagradOptimizer is deprecated. Please use tf.compat.v1.train.AdagradOptimizer instead.\n",
      "\n",
      "WARNING:tensorflow:From /Users/huseinzolkepli/Documents/malaya-speech/malaya_speech/train/optimizer/__init__.py:39: The name tf.train.AdamOptimizer is deprecated. Please use tf.compat.v1.train.AdamOptimizer instead.\n",
      "\n",
      "WARNING:tensorflow:From /Users/huseinzolkepli/Documents/malaya-speech/malaya_speech/train/optimizer/__init__.py:40: The name tf.train.FtrlOptimizer is deprecated. Please use tf.compat.v1.train.FtrlOptimizer instead.\n",
      "\n",
      "WARNING:tensorflow:From /Users/huseinzolkepli/Documents/malaya-speech/malaya_speech/train/optimizer/__init__.py:42: The name tf.train.RMSPropOptimizer is deprecated. Please use tf.compat.v1.train.RMSPropOptimizer instead.\n",
      "\n",
      "WARNING:tensorflow:From /Users/huseinzolkepli/Documents/malaya-speech/malaya_speech/train/optimizer/__init__.py:43: The name tf.train.GradientDescentOptimizer is deprecated. Please use tf.compat.v1.train.GradientDescentOptimizer instead.\n",
      "\n",
      "WARNING:tensorflow:\n",
      "The TensorFlow contrib module will not be included in TensorFlow 2.0.\n",
      "For more information, please see:\n",
      "  * https://github.com/tensorflow/community/blob/master/rfcs/20180907-contrib-sunset.md\n",
      "  * https://github.com/tensorflow/addons\n",
      "  * https://github.com/tensorflow/io (for I/O related ops)\n",
      "If you depend on functionality not listed there, please file an issue.\n",
      "\n"
     ]
    }
   ],
   "source": [
    "import numpy as np\n",
    "from math import ceil\n",
    "import tensorflow as tf\n",
    "from malaya_speech.train.model import fastspeech, fastvc2 as fastvc\n",
    "import malaya_speech\n",
    "import random"
   ]
  },
  {
   "cell_type": "code",
   "execution_count": 6,
   "metadata": {},
   "outputs": [],
   "source": [
    "speaker_model = malaya_speech.speaker_vector.deep_model('vggvox-v2')\n",
    "sr = 22050\n",
    "\n",
    "def generate(f, hop_size = 256):\n",
    "    audio, _ = malaya_speech.load(f, sr = sr)\n",
    "    mel = malaya_speech.featurization.universal_mel(audio)\n",
    "    batch_max_steps = random.randint(16384, 110250)\n",
    "    batch_max_frames = batch_max_steps // hop_size\n",
    "\n",
    "    if len(mel) > batch_max_frames:\n",
    "        interval_start = 0\n",
    "        interval_end = len(mel) - batch_max_frames\n",
    "        start_frame = random.randint(interval_start, interval_end)\n",
    "        start_step = start_frame * hop_size\n",
    "        mel = mel[start_frame : start_frame + batch_max_frames, :]\n",
    "        audio = audio[start_step : start_step + batch_max_steps]\n",
    "\n",
    "    audio_16k = malaya_speech.resample(audio, sr, 16000)\n",
    "    v = speaker_model([audio_16k])\n",
    "\n",
    "    return {\n",
    "        'mel': mel,\n",
    "        'mel_length': [len(mel)],\n",
    "        'audio': audio,\n",
    "        'v': v[0] * 30 - 3.5,\n",
    "    }"
   ]
  },
  {
   "cell_type": "code",
   "execution_count": 7,
   "metadata": {},
   "outputs": [],
   "source": [
    "out = generate('../speech/example-speaker/female.wav')"
   ]
  },
  {
   "cell_type": "code",
   "execution_count": 8,
   "metadata": {},
   "outputs": [],
   "source": [
    "mel = tf.placeholder(tf.float32, (None, None, 80))\n",
    "ori_vector = tf.placeholder(tf.float32, (None, 512))\n",
    "target_vector = tf.placeholder(tf.float32, (None, 512))\n",
    "mel_lengths = tf.placeholder(tf.int32, (None))"
   ]
  },
  {
   "cell_type": "code",
   "execution_count": 9,
   "metadata": {},
   "outputs": [],
   "source": [
    "dim_neck = 32\n",
    "dim_speaker = 512\n",
    "dim_input = 80\n",
    "config = malaya_speech.config.fastspeech_config\n",
    "config['encoder_hidden_size'] = dim_speaker + dim_input\n",
    "config['decoder_hidden_size'] = dim_speaker + dim_neck\n",
    "config = fastspeech.Config(vocab_size = 1, **config)"
   ]
  },
  {
   "cell_type": "code",
   "execution_count": 11,
   "metadata": {
    "scrolled": true
   },
   "outputs": [
    {
     "name": "stdout",
     "output_type": "stream",
     "text": [
      "WARNING:tensorflow:From /Users/huseinzolkepli/Documents/malaya-speech/malaya_speech/train/model/fastspeech/layer.py:11: The name tf.keras.initializers.TruncatedNormal is deprecated. Please use tf.compat.v1.keras.initializers.TruncatedNormal instead.\n",
      "\n",
      "WARNING:tensorflow:From /Users/huseinzolkepli/Documents/tf-1.15/env/lib/python3.7/site-packages/tensorflow_core/python/keras/initializers.py:94: calling TruncatedNormal.__init__ (from tensorflow.python.ops.init_ops) with dtype is deprecated and will be removed in a future version.\n",
      "Instructions for updating:\n",
      "Call initializer instance with the dtype argument instead of passing it to the constructor\n"
     ]
    }
   ],
   "source": [
    "model = fastvc.model.Model(dim_neck, config, dim_input, dim_speaker, \n",
    "                           skip = 6)"
   ]
  },
  {
   "cell_type": "code",
   "execution_count": 12,
   "metadata": {},
   "outputs": [
    {
     "name": "stdout",
     "output_type": "stream",
     "text": [
      "WARNING:tensorflow:From /Users/huseinzolkepli/Documents/tf-1.15/env/lib/python3.7/site-packages/tensorflow_core/python/ops/resource_variable_ops.py:1630: calling BaseResourceVariable.__init__ (from tensorflow.python.ops.resource_variable_ops) with constraint is deprecated and will be removed in a future version.\n",
      "Instructions for updating:\n",
      "If using Keras pass *_constraint arguments to layers.\n"
     ]
    }
   ],
   "source": [
    "encoder_outputs, mel_before, mel_after, codes = model(mel, ori_vector, target_vector, mel_lengths)"
   ]
  },
  {
   "cell_type": "code",
   "execution_count": 13,
   "metadata": {},
   "outputs": [],
   "source": [
    "codes_ = model.call_second(mel_after, ori_vector, mel_lengths)"
   ]
  },
  {
   "cell_type": "code",
   "execution_count": 14,
   "metadata": {},
   "outputs": [
    {
     "data": {
      "text/plain": [
       "(<tf.Tensor 'fastvc2/GatherV2:0' shape=(?, ?, 544) dtype=float32>,\n",
       " <tf.Tensor 'fastvc2/mel_before/BiasAdd:0' shape=(?, ?, 80) dtype=float32>,\n",
       " <tf.Tensor 'fastvc2/add:0' shape=(?, ?, 80) dtype=float32>,\n",
       " <tf.Tensor 'fastvc2/Encoder/encoder_dense/BiasAdd:0' shape=(?, ?, 32) dtype=float32>,\n",
       " <tf.Tensor 'Encoder/encoder_dense/BiasAdd:0' shape=(?, ?, 32) dtype=float32>)"
      ]
     },
     "execution_count": 14,
     "metadata": {},
     "output_type": "execute_result"
    }
   ],
   "source": [
    "encoder_outputs, mel_before, mel_after, codes, codes_"
   ]
  },
  {
   "cell_type": "code",
   "execution_count": 15,
   "metadata": {},
   "outputs": [
    {
     "data": {
      "text/plain": [
       "<tf.Tensor 'ExpandDims:0' shape=<unknown> dtype=float32>"
      ]
     },
     "execution_count": 15,
     "metadata": {},
     "output_type": "execute_result"
    }
   ],
   "source": [
    "loss_f = tf.losses.mean_squared_error\n",
    "max_length = tf.cast(tf.reduce_max(mel_lengths), tf.int32)\n",
    "mask = tf.sequence_mask(\n",
    "    lengths = mel_lengths, maxlen = max_length, dtype = tf.float32\n",
    ")\n",
    "mask = tf.expand_dims(mask, axis = -1)\n",
    "mask"
   ]
  },
  {
   "cell_type": "code",
   "execution_count": 16,
   "metadata": {},
   "outputs": [],
   "source": [
    "from functools import partial\n",
    "from malaya_speech.train.loss import calculate_2d_loss, calculate_3d_loss\n",
    "\n",
    "mse_mel = partial(\n",
    "    loss_f,\n",
    "    weights = mask\n",
    ")"
   ]
  },
  {
   "cell_type": "code",
   "execution_count": 17,
   "metadata": {},
   "outputs": [
    {
     "name": "stdout",
     "output_type": "stream",
     "text": [
      "WARNING:tensorflow:From /Users/huseinzolkepli/Documents/tf-1.15/env/lib/python3.7/site-packages/tensorflow_core/python/ops/losses/losses_impl.py:121: where (from tensorflow.python.ops.array_ops) is deprecated and will be removed in a future version.\n",
      "Instructions for updating:\n",
      "Use tf.where in 2.0, which has the same broadcast rule as np.where\n"
     ]
    },
    {
     "data": {
      "text/plain": [
       "<tf.Tensor 'mean_squared_error/value:0' shape=() dtype=float32>"
      ]
     },
     "execution_count": 17,
     "metadata": {},
     "output_type": "execute_result"
    }
   ],
   "source": [
    "mel_loss_before = calculate_3d_loss(mel, mel_before, mse_mel)\n",
    "mel_loss_before"
   ]
  },
  {
   "cell_type": "code",
   "execution_count": 18,
   "metadata": {},
   "outputs": [
    {
     "data": {
      "text/plain": [
       "<tf.Tensor 'mean_squared_error_1/value:0' shape=() dtype=float32>"
      ]
     },
     "execution_count": 18,
     "metadata": {},
     "output_type": "execute_result"
    }
   ],
   "source": [
    "mel_loss_after = calculate_3d_loss(mel, mel_after, mse_mel)\n",
    "mel_loss_after"
   ]
  },
  {
   "cell_type": "code",
   "execution_count": 19,
   "metadata": {},
   "outputs": [],
   "source": [
    "g_loss_cd = tf.losses.absolute_difference(codes, codes_)"
   ]
  },
  {
   "cell_type": "code",
   "execution_count": 20,
   "metadata": {},
   "outputs": [],
   "source": [
    "loss = mel_loss_before + mel_loss_after + g_loss_cd"
   ]
  },
  {
   "cell_type": "code",
   "execution_count": 21,
   "metadata": {},
   "outputs": [],
   "source": [
    "sess = tf.InteractiveSession()\n",
    "sess.run(tf.global_variables_initializer())"
   ]
  },
  {
   "cell_type": "code",
   "execution_count": 22,
   "metadata": {},
   "outputs": [
    {
     "data": {
      "text/plain": [
       "array([-1.4128842 , -2.6862488 , -1.8681563 , -3.5       , -2.9106512 ,\n",
       "       -3.5       , -2.3515642 , -0.32666993, -3.5       , -3.5       ,\n",
       "       -3.5       , -3.5       , -0.64072704, -0.63027906, -2.298681  ,\n",
       "       -3.2594745 , -3.5       , -3.5       , -2.2684307 , -1.2218156 ,\n",
       "       -3.4247363 , -3.5       , -2.8968592 , -1.7511622 , -3.5       ,\n",
       "       -3.5       , -1.9463224 , -2.3840632 , -2.2428694 , -2.4803588 ,\n",
       "       -3.5       , -2.6251397 , -2.1627355 , -2.5082788 , -3.3075376 ,\n",
       "       -3.5       , -3.0802298 , -1.6013491 , -3.5       , -3.5       ,\n",
       "       -2.6971645 , -1.2823968 , -3.29696   , -0.7826619 , -1.2687757 ,\n",
       "       -2.7185807 , -3.5       , -2.9811304 , -2.5543706 , -3.2090967 ,\n",
       "       -3.5       , -0.8101382 , -2.1358407 , -2.285047  , -1.3020527 ,\n",
       "       -2.8850653 , -3.5       , -0.2703488 , -3.5       , -1.5684094 ,\n",
       "       -3.5       , -1.5791595 , -2.1582024 , -1.8104577 , -2.2746637 ,\n",
       "       -2.2444797 , -3.5       , -2.945047  , -2.714364  , -2.5754213 ,\n",
       "       -1.8064728 , -3.5       , -3.5       ,  0.4296844 , -0.53142285,\n",
       "       -2.3088074 , -3.5       , -2.533838  , -3.5       , -2.5686898 ,\n",
       "       -3.5       , -1.6764084 , -3.5       , -2.592503  , -3.5       ,\n",
       "       -3.5       , -3.5       , -2.5792153 , -2.067524  , -3.0222256 ,\n",
       "       -3.5       , -3.0160286 , -0.93426895,  0.00747299, -1.5595899 ,\n",
       "       -2.5553844 , -3.5       , -3.5       , -2.4786026 , -1.9714348 ,\n",
       "       -2.9287238 , -3.5       , -2.299274  , -3.5       , -1.6105391 ,\n",
       "       -0.9826412 , -3.3116045 , -3.1789482 , -2.8352962 , -2.6242387 ,\n",
       "        0.7143111 , -3.499887  , -3.5       , -2.9238548 , -3.5       ,\n",
       "       -3.1820877 , -3.3345277 , -3.5       , -2.6302347 , -1.9241531 ,\n",
       "       -3.5       , -1.777944  , -3.5       , -2.1195645 , -0.78374124,\n",
       "       -3.5       , -3.5       , -3.5       , -3.5       , -2.9241786 ,\n",
       "       -3.5       , -1.1421337 , -2.0295696 , -3.5       , -3.5       ,\n",
       "       -2.357388  , -3.5       , -1.2715058 , -3.159517  , -3.5       ,\n",
       "       -3.2199428 , -3.5       , -1.7529485 , -3.5       , -2.961013  ,\n",
       "       -3.5       , -3.5       , -1.8174052 , -3.5       , -2.1624212 ,\n",
       "       -2.4794376 , -3.2282183 , -3.5       , -3.5       , -2.3314624 ,\n",
       "       -3.5       , -2.6096528 , -0.56031895, -0.21913028, -3.449491  ,\n",
       "       -3.5       , -3.5       , -2.955864  , -2.7914996 , -3.5       ,\n",
       "       -3.5       , -3.5       , -2.3311262 , -0.46203685, -3.5       ,\n",
       "       -3.5       , -2.978701  , -0.07791066, -3.203874  , -2.108456  ,\n",
       "       -3.5       , -3.5       , -1.1422133 , -3.5       , -1.6630793 ,\n",
       "       -1.0046439 , -3.5       , -1.5163212 , -2.3896537 , -2.0368373 ,\n",
       "       -1.1261113 , -1.2067208 , -3.3443828 , -3.5       , -3.5       ,\n",
       "       -3.142253  , -3.5       , -2.5063004 , -1.9613658 , -2.3488636 ,\n",
       "       -3.5       , -1.6792575 , -3.5       , -3.5       , -3.5       ,\n",
       "       -3.2430954 , -2.4162376 , -2.1365712 , -3.5       ,  0.91832733,\n",
       "       -3.5       , -3.5       , -2.0467412 , -2.130899  , -2.3187613 ,\n",
       "       -2.511609  , -2.693064  , -2.8027282 , -3.5       , -3.5       ,\n",
       "       -3.5       , -3.5       , -2.722819  , -3.5       , -3.5       ,\n",
       "       -2.6079285 , -2.1955233 , -2.7947888 , -3.5       , -3.5       ,\n",
       "       -3.5       , -3.5       , -2.7092092 , -1.5187615 , -3.5       ,\n",
       "       -3.5       , -2.2195458 , -2.6286328 , -3.5       , -3.5       ,\n",
       "       -3.5       , -2.551298  , -3.3377576 , -3.5       , -1.7863668 ,\n",
       "       -2.0354505 , -3.4439955 , -3.5       , -2.8868017 , -3.5       ,\n",
       "       -2.6417828 , -3.5       , -2.5632133 , -2.997067  , -3.2181115 ,\n",
       "       -1.1423633 , -2.0912297 , -2.329463  , -3.5       , -3.5       ,\n",
       "       -3.0350528 , -3.5       , -2.75604   , -3.5       , -1.4498308 ,\n",
       "       -1.0725553 , -3.5       , -1.1641173 , -3.5       , -2.1106493 ,\n",
       "       -3.5       , -2.3922582 , -0.9263177 , -3.5       , -3.5       ,\n",
       "       -2.3779335 , -3.4196627 , -1.8814383 , -2.9537306 , -2.771731  ,\n",
       "       -1.967603  , -2.3021727 , -2.787074  , -0.3057661 , -1.877571  ,\n",
       "       -1.9681871 , -1.935781  , -3.0573065 , -1.8322835 , -1.6543196 ,\n",
       "       -3.5       , -3.5       , -1.5791199 , -2.0141044 , -3.5       ,\n",
       "       -3.5       , -1.95481   , -2.8813775 , -1.1091168 , -3.4093938 ,\n",
       "       -1.90097   , -2.9593995 , -3.5       , -3.1426525 , -3.5       ,\n",
       "       -0.95296097, -2.2747056 , -2.8596754 , -1.9647962 , -3.5       ,\n",
       "       -2.2663684 , -3.5       , -3.5       , -3.1717997 , -3.5       ,\n",
       "       -2.4844198 , -3.0476215 , -2.878589  , -2.3921983 , -2.200181  ,\n",
       "       -1.8255253 , -3.3702164 , -3.5       , -3.5       , -2.114246  ,\n",
       "       -2.6130338 , -3.5       , -3.5       , -3.5       , -2.3970695 ,\n",
       "       -3.5       , -3.3684542 , -3.5       , -1.2831345 , -3.4349446 ,\n",
       "       -3.5       , -2.2995586 , -1.5897207 , -3.5       , -2.9888525 ,\n",
       "        2.3181362 , -3.5       , -3.5       , -2.363059  , -3.1167982 ,\n",
       "       -3.5       , -3.5       , -0.98928595, -3.5       , -1.8927934 ,\n",
       "       -3.5       , -2.591298  , -3.0975904 , -3.5       , -3.5       ,\n",
       "       -0.87426543, -3.4730284 , -2.203133  , -3.5       , -3.5       ,\n",
       "       -1.5914214 , -3.5       , -3.5       , -3.5       , -0.06728816,\n",
       "       -0.694437  , -3.5       , -3.2323158 , -3.5       , -2.6824327 ,\n",
       "       -2.1576962 , -3.262813  , -2.3959513 , -3.5       , -2.0318756 ,\n",
       "       -2.1684875 , -0.4549713 , -3.5       , -3.2254965 , -2.5501637 ,\n",
       "       -3.5       , -2.1561599 , -3.5       , -3.5       , -3.411377  ,\n",
       "       -3.5       , -1.483643  , -1.8566898 , -3.5       , -2.8903546 ,\n",
       "       -2.212424  , -1.7419716 , -1.9470965 , -1.6210395 , -2.5314422 ,\n",
       "       -3.5       , -3.5       , -3.2986903 , -2.3854861 , -1.9714708 ,\n",
       "       -3.5       , -3.5       , -3.5       , -2.5055995 , -3.5       ,\n",
       "       -2.6508224 , -2.1989198 , -3.4513724 , -3.5       , -3.5       ,\n",
       "       -1.9653481 , -3.5       , -1.8489116 , -2.1719313 , -3.5       ,\n",
       "       -3.5       , -3.5       , -3.0474234 , -0.02822685, -2.4454393 ,\n",
       "       -3.5       , -0.24486756, -0.33465552, -2.2349093 , -3.112571  ,\n",
       "       -3.4044595 , -3.5       , -2.622707  , -3.5       , -3.325895  ,\n",
       "       -2.011626  , -3.5       , -3.5       ,  0.13913989, -3.5       ,\n",
       "       -0.71885943, -1.7994019 , -3.5       , -3.5       , -1.511129  ,\n",
       "       -3.5       , -2.2101467 , -2.305379  , -2.9168687 , -3.5       ,\n",
       "       -3.047028  , -3.5       , -0.49849343, -2.2172403 , -2.3976774 ,\n",
       "       -3.5       , -3.5       , -1.0892689 , -2.02305   , -3.5       ,\n",
       "       -1.2553422 , -3.290833  , -1.7297219 , -3.5       , -3.5       ,\n",
       "       -1.5092379 , -1.9364218 ,  0.14715362, -3.5       , -2.3915496 ,\n",
       "       -1.109314  , -2.1347322 , -3.5       , -2.8448446 ,  1.7565804 ,\n",
       "       -1.7261167 , -3.3933578 , -3.5       , -3.24291   , -2.4688983 ,\n",
       "       -1.640851  , -2.9971023 , -3.5       , -2.8961458 , -2.2906706 ,\n",
       "       -2.8893657 , -3.1713777 , -3.5       ,  2.152125  , -3.361603  ,\n",
       "       -3.1865602 , -2.9751682 , -3.5       , -3.1534312 , -2.9750333 ,\n",
       "       -2.4036903 , -1.0653708 , -0.22213888, -1.6784526 , -3.0018508 ,\n",
       "       -1.4083197 , -2.2675526 , -2.5251331 , -1.1524491 , -3.5       ,\n",
       "       -3.5       , -3.5       , -2.9852495 , -2.6868486 , -1.328578  ,\n",
       "       -1.8398556 , -3.4960625 , -1.859034  , -3.3800516 , -2.3927436 ,\n",
       "       -3.5       , -1.4001856 , -1.3929298 , -2.969642  , -3.0795474 ,\n",
       "       -3.1662946 , -2.4788833 ], dtype=float32)"
      ]
     },
     "execution_count": 22,
     "metadata": {},
     "output_type": "execute_result"
    }
   ],
   "source": [
    "out['v']"
   ]
  },
  {
   "cell_type": "code",
   "execution_count": 23,
   "metadata": {},
   "outputs": [],
   "source": [
    "o = sess.run([encoder_outputs, mel_before, mel_after], feed_dict = {mel: [out['mel']],\n",
    "                                                                    ori_vector: [out['v']],\n",
    "                                                                    target_vector: [out['v']],\n",
    "                                                                    mel_lengths: [len(out['mel'])]})"
   ]
  },
  {
   "cell_type": "code",
   "execution_count": 24,
   "metadata": {},
   "outputs": [
    {
     "data": {
      "text/plain": [
       "((1, 143, 544), (1, 143, 80), (1, 143, 80))"
      ]
     },
     "execution_count": 24,
     "metadata": {},
     "output_type": "execute_result"
    }
   ],
   "source": [
    "o[0].shape, o[1].shape, o[2].shape"
   ]
  },
  {
   "cell_type": "code",
   "execution_count": 25,
   "metadata": {},
   "outputs": [],
   "source": [
    "o = sess.run([mel_loss_before, mel_loss_after, g_loss_cd], feed_dict = {mel: [out['mel']],\n",
    "                                                                    ori_vector: [out['v']],\n",
    "                                                                    target_vector: [out['v']],\n",
    "                                                                    mel_lengths: [len(out['mel'])]})"
   ]
  },
  {
   "cell_type": "code",
   "execution_count": 26,
   "metadata": {},
   "outputs": [
    {
     "data": {
      "text/plain": [
       "[2.3281944, 3.4384787, 0.8277846]"
      ]
     },
     "execution_count": 26,
     "metadata": {},
     "output_type": "execute_result"
    }
   ],
   "source": [
    "o"
   ]
  },
  {
   "cell_type": "code",
   "execution_count": 27,
   "metadata": {},
   "outputs": [
    {
     "data": {
      "text/plain": [
       "[<tf.Variable 'fastvc2/Encoder/encoder/layer_._0/attention/self/query/kernel:0' shape=(592, 384) dtype=float32>,\n",
       " <tf.Variable 'fastvc2/Encoder/encoder/layer_._0/attention/self/query/bias:0' shape=(384,) dtype=float32>,\n",
       " <tf.Variable 'fastvc2/Encoder/encoder/layer_._0/attention/self/key/kernel:0' shape=(592, 384) dtype=float32>,\n",
       " <tf.Variable 'fastvc2/Encoder/encoder/layer_._0/attention/self/key/bias:0' shape=(384,) dtype=float32>,\n",
       " <tf.Variable 'fastvc2/Encoder/encoder/layer_._0/attention/self/value/kernel:0' shape=(592, 384) dtype=float32>,\n",
       " <tf.Variable 'fastvc2/Encoder/encoder/layer_._0/attention/self/value/bias:0' shape=(384,) dtype=float32>,\n",
       " <tf.Variable 'fastvc2/Encoder/encoder/layer_._0/attention/output/dense/kernel:0' shape=(384, 592) dtype=float32>,\n",
       " <tf.Variable 'fastvc2/Encoder/encoder/layer_._0/attention/output/dense/bias:0' shape=(592,) dtype=float32>,\n",
       " <tf.Variable 'fastvc2/Encoder/encoder/layer_._0/attention/output/LayerNorm/gamma:0' shape=(592,) dtype=float32>,\n",
       " <tf.Variable 'fastvc2/Encoder/encoder/layer_._0/attention/output/LayerNorm/beta:0' shape=(592,) dtype=float32>,\n",
       " <tf.Variable 'fastvc2/Encoder/encoder/layer_._0/intermediate/conv1d_1/kernel:0' shape=(3, 592, 1024) dtype=float32>,\n",
       " <tf.Variable 'fastvc2/Encoder/encoder/layer_._0/intermediate/conv1d_1/bias:0' shape=(1024,) dtype=float32>,\n",
       " <tf.Variable 'fastvc2/Encoder/encoder/layer_._0/intermediate/conv1d_2/kernel:0' shape=(3, 1024, 592) dtype=float32>,\n",
       " <tf.Variable 'fastvc2/Encoder/encoder/layer_._0/intermediate/conv1d_2/bias:0' shape=(592,) dtype=float32>,\n",
       " <tf.Variable 'fastvc2/Encoder/encoder/layer_._0/output/LayerNorm/gamma:0' shape=(592,) dtype=float32>,\n",
       " <tf.Variable 'fastvc2/Encoder/encoder/layer_._0/output/LayerNorm/beta:0' shape=(592,) dtype=float32>,\n",
       " <tf.Variable 'fastvc2/Encoder/encoder/layer_._1/attention/self/query/kernel:0' shape=(592, 384) dtype=float32>,\n",
       " <tf.Variable 'fastvc2/Encoder/encoder/layer_._1/attention/self/query/bias:0' shape=(384,) dtype=float32>,\n",
       " <tf.Variable 'fastvc2/Encoder/encoder/layer_._1/attention/self/key/kernel:0' shape=(592, 384) dtype=float32>,\n",
       " <tf.Variable 'fastvc2/Encoder/encoder/layer_._1/attention/self/key/bias:0' shape=(384,) dtype=float32>,\n",
       " <tf.Variable 'fastvc2/Encoder/encoder/layer_._1/attention/self/value/kernel:0' shape=(592, 384) dtype=float32>,\n",
       " <tf.Variable 'fastvc2/Encoder/encoder/layer_._1/attention/self/value/bias:0' shape=(384,) dtype=float32>,\n",
       " <tf.Variable 'fastvc2/Encoder/encoder/layer_._1/attention/output/dense/kernel:0' shape=(384, 592) dtype=float32>,\n",
       " <tf.Variable 'fastvc2/Encoder/encoder/layer_._1/attention/output/dense/bias:0' shape=(592,) dtype=float32>,\n",
       " <tf.Variable 'fastvc2/Encoder/encoder/layer_._1/attention/output/LayerNorm/gamma:0' shape=(592,) dtype=float32>,\n",
       " <tf.Variable 'fastvc2/Encoder/encoder/layer_._1/attention/output/LayerNorm/beta:0' shape=(592,) dtype=float32>,\n",
       " <tf.Variable 'fastvc2/Encoder/encoder/layer_._1/intermediate/conv1d_1/kernel:0' shape=(3, 592, 1024) dtype=float32>,\n",
       " <tf.Variable 'fastvc2/Encoder/encoder/layer_._1/intermediate/conv1d_1/bias:0' shape=(1024,) dtype=float32>,\n",
       " <tf.Variable 'fastvc2/Encoder/encoder/layer_._1/intermediate/conv1d_2/kernel:0' shape=(3, 1024, 592) dtype=float32>,\n",
       " <tf.Variable 'fastvc2/Encoder/encoder/layer_._1/intermediate/conv1d_2/bias:0' shape=(592,) dtype=float32>,\n",
       " <tf.Variable 'fastvc2/Encoder/encoder/layer_._1/output/LayerNorm/gamma:0' shape=(592,) dtype=float32>,\n",
       " <tf.Variable 'fastvc2/Encoder/encoder/layer_._1/output/LayerNorm/beta:0' shape=(592,) dtype=float32>,\n",
       " <tf.Variable 'fastvc2/Encoder/encoder/layer_._2/attention/self/query/kernel:0' shape=(592, 384) dtype=float32>,\n",
       " <tf.Variable 'fastvc2/Encoder/encoder/layer_._2/attention/self/query/bias:0' shape=(384,) dtype=float32>,\n",
       " <tf.Variable 'fastvc2/Encoder/encoder/layer_._2/attention/self/key/kernel:0' shape=(592, 384) dtype=float32>,\n",
       " <tf.Variable 'fastvc2/Encoder/encoder/layer_._2/attention/self/key/bias:0' shape=(384,) dtype=float32>,\n",
       " <tf.Variable 'fastvc2/Encoder/encoder/layer_._2/attention/self/value/kernel:0' shape=(592, 384) dtype=float32>,\n",
       " <tf.Variable 'fastvc2/Encoder/encoder/layer_._2/attention/self/value/bias:0' shape=(384,) dtype=float32>,\n",
       " <tf.Variable 'fastvc2/Encoder/encoder/layer_._2/attention/output/dense/kernel:0' shape=(384, 592) dtype=float32>,\n",
       " <tf.Variable 'fastvc2/Encoder/encoder/layer_._2/attention/output/dense/bias:0' shape=(592,) dtype=float32>,\n",
       " <tf.Variable 'fastvc2/Encoder/encoder/layer_._2/attention/output/LayerNorm/gamma:0' shape=(592,) dtype=float32>,\n",
       " <tf.Variable 'fastvc2/Encoder/encoder/layer_._2/attention/output/LayerNorm/beta:0' shape=(592,) dtype=float32>,\n",
       " <tf.Variable 'fastvc2/Encoder/encoder/layer_._2/intermediate/conv1d_1/kernel:0' shape=(3, 592, 1024) dtype=float32>,\n",
       " <tf.Variable 'fastvc2/Encoder/encoder/layer_._2/intermediate/conv1d_1/bias:0' shape=(1024,) dtype=float32>,\n",
       " <tf.Variable 'fastvc2/Encoder/encoder/layer_._2/intermediate/conv1d_2/kernel:0' shape=(3, 1024, 592) dtype=float32>,\n",
       " <tf.Variable 'fastvc2/Encoder/encoder/layer_._2/intermediate/conv1d_2/bias:0' shape=(592,) dtype=float32>,\n",
       " <tf.Variable 'fastvc2/Encoder/encoder/layer_._2/output/LayerNorm/gamma:0' shape=(592,) dtype=float32>,\n",
       " <tf.Variable 'fastvc2/Encoder/encoder/layer_._2/output/LayerNorm/beta:0' shape=(592,) dtype=float32>,\n",
       " <tf.Variable 'fastvc2/Encoder/encoder/layer_._3/attention/self/query/kernel:0' shape=(592, 384) dtype=float32>,\n",
       " <tf.Variable 'fastvc2/Encoder/encoder/layer_._3/attention/self/query/bias:0' shape=(384,) dtype=float32>,\n",
       " <tf.Variable 'fastvc2/Encoder/encoder/layer_._3/attention/self/key/kernel:0' shape=(592, 384) dtype=float32>,\n",
       " <tf.Variable 'fastvc2/Encoder/encoder/layer_._3/attention/self/key/bias:0' shape=(384,) dtype=float32>,\n",
       " <tf.Variable 'fastvc2/Encoder/encoder/layer_._3/attention/self/value/kernel:0' shape=(592, 384) dtype=float32>,\n",
       " <tf.Variable 'fastvc2/Encoder/encoder/layer_._3/attention/self/value/bias:0' shape=(384,) dtype=float32>,\n",
       " <tf.Variable 'fastvc2/Encoder/encoder/layer_._3/attention/output/dense/kernel:0' shape=(384, 592) dtype=float32>,\n",
       " <tf.Variable 'fastvc2/Encoder/encoder/layer_._3/attention/output/dense/bias:0' shape=(592,) dtype=float32>,\n",
       " <tf.Variable 'fastvc2/Encoder/encoder/layer_._3/attention/output/LayerNorm/gamma:0' shape=(592,) dtype=float32>,\n",
       " <tf.Variable 'fastvc2/Encoder/encoder/layer_._3/attention/output/LayerNorm/beta:0' shape=(592,) dtype=float32>,\n",
       " <tf.Variable 'fastvc2/Encoder/encoder/layer_._3/intermediate/conv1d_1/kernel:0' shape=(3, 592, 1024) dtype=float32>,\n",
       " <tf.Variable 'fastvc2/Encoder/encoder/layer_._3/intermediate/conv1d_1/bias:0' shape=(1024,) dtype=float32>,\n",
       " <tf.Variable 'fastvc2/Encoder/encoder/layer_._3/intermediate/conv1d_2/kernel:0' shape=(3, 1024, 592) dtype=float32>,\n",
       " <tf.Variable 'fastvc2/Encoder/encoder/layer_._3/intermediate/conv1d_2/bias:0' shape=(592,) dtype=float32>,\n",
       " <tf.Variable 'fastvc2/Encoder/encoder/layer_._3/output/LayerNorm/gamma:0' shape=(592,) dtype=float32>,\n",
       " <tf.Variable 'fastvc2/Encoder/encoder/layer_._3/output/LayerNorm/beta:0' shape=(592,) dtype=float32>,\n",
       " <tf.Variable 'fastvc2/Encoder/encoder_dense/kernel:0' shape=(592, 32) dtype=float32>,\n",
       " <tf.Variable 'fastvc2/Encoder/encoder_dense/bias:0' shape=(32,) dtype=float32>,\n",
       " <tf.Variable 'fastvc2/Decoder/encoder/layer_._0/attention/self/query/kernel:0' shape=(544, 384) dtype=float32>,\n",
       " <tf.Variable 'fastvc2/Decoder/encoder/layer_._0/attention/self/query/bias:0' shape=(384,) dtype=float32>,\n",
       " <tf.Variable 'fastvc2/Decoder/encoder/layer_._0/attention/self/key/kernel:0' shape=(544, 384) dtype=float32>,\n",
       " <tf.Variable 'fastvc2/Decoder/encoder/layer_._0/attention/self/key/bias:0' shape=(384,) dtype=float32>,\n",
       " <tf.Variable 'fastvc2/Decoder/encoder/layer_._0/attention/self/value/kernel:0' shape=(544, 384) dtype=float32>,\n",
       " <tf.Variable 'fastvc2/Decoder/encoder/layer_._0/attention/self/value/bias:0' shape=(384,) dtype=float32>,\n",
       " <tf.Variable 'fastvc2/Decoder/encoder/layer_._0/attention/output/dense/kernel:0' shape=(384, 544) dtype=float32>,\n",
       " <tf.Variable 'fastvc2/Decoder/encoder/layer_._0/attention/output/dense/bias:0' shape=(544,) dtype=float32>,\n",
       " <tf.Variable 'fastvc2/Decoder/encoder/layer_._0/attention/output/LayerNorm/gamma:0' shape=(544,) dtype=float32>,\n",
       " <tf.Variable 'fastvc2/Decoder/encoder/layer_._0/attention/output/LayerNorm/beta:0' shape=(544,) dtype=float32>,\n",
       " <tf.Variable 'fastvc2/Decoder/encoder/layer_._0/intermediate/conv1d_1/kernel:0' shape=(3, 544, 1024) dtype=float32>,\n",
       " <tf.Variable 'fastvc2/Decoder/encoder/layer_._0/intermediate/conv1d_1/bias:0' shape=(1024,) dtype=float32>,\n",
       " <tf.Variable 'fastvc2/Decoder/encoder/layer_._0/intermediate/conv1d_2/kernel:0' shape=(3, 1024, 544) dtype=float32>,\n",
       " <tf.Variable 'fastvc2/Decoder/encoder/layer_._0/intermediate/conv1d_2/bias:0' shape=(544,) dtype=float32>,\n",
       " <tf.Variable 'fastvc2/Decoder/encoder/layer_._0/output/LayerNorm/gamma:0' shape=(544,) dtype=float32>,\n",
       " <tf.Variable 'fastvc2/Decoder/encoder/layer_._0/output/LayerNorm/beta:0' shape=(544,) dtype=float32>,\n",
       " <tf.Variable 'fastvc2/Decoder/encoder/layer_._1/attention/self/query/kernel:0' shape=(544, 384) dtype=float32>,\n",
       " <tf.Variable 'fastvc2/Decoder/encoder/layer_._1/attention/self/query/bias:0' shape=(384,) dtype=float32>,\n",
       " <tf.Variable 'fastvc2/Decoder/encoder/layer_._1/attention/self/key/kernel:0' shape=(544, 384) dtype=float32>,\n",
       " <tf.Variable 'fastvc2/Decoder/encoder/layer_._1/attention/self/key/bias:0' shape=(384,) dtype=float32>,\n",
       " <tf.Variable 'fastvc2/Decoder/encoder/layer_._1/attention/self/value/kernel:0' shape=(544, 384) dtype=float32>,\n",
       " <tf.Variable 'fastvc2/Decoder/encoder/layer_._1/attention/self/value/bias:0' shape=(384,) dtype=float32>,\n",
       " <tf.Variable 'fastvc2/Decoder/encoder/layer_._1/attention/output/dense/kernel:0' shape=(384, 544) dtype=float32>,\n",
       " <tf.Variable 'fastvc2/Decoder/encoder/layer_._1/attention/output/dense/bias:0' shape=(544,) dtype=float32>,\n",
       " <tf.Variable 'fastvc2/Decoder/encoder/layer_._1/attention/output/LayerNorm/gamma:0' shape=(544,) dtype=float32>,\n",
       " <tf.Variable 'fastvc2/Decoder/encoder/layer_._1/attention/output/LayerNorm/beta:0' shape=(544,) dtype=float32>,\n",
       " <tf.Variable 'fastvc2/Decoder/encoder/layer_._1/intermediate/conv1d_1/kernel:0' shape=(3, 544, 1024) dtype=float32>,\n",
       " <tf.Variable 'fastvc2/Decoder/encoder/layer_._1/intermediate/conv1d_1/bias:0' shape=(1024,) dtype=float32>,\n",
       " <tf.Variable 'fastvc2/Decoder/encoder/layer_._1/intermediate/conv1d_2/kernel:0' shape=(3, 1024, 544) dtype=float32>,\n",
       " <tf.Variable 'fastvc2/Decoder/encoder/layer_._1/intermediate/conv1d_2/bias:0' shape=(544,) dtype=float32>,\n",
       " <tf.Variable 'fastvc2/Decoder/encoder/layer_._1/output/LayerNorm/gamma:0' shape=(544,) dtype=float32>,\n",
       " <tf.Variable 'fastvc2/Decoder/encoder/layer_._1/output/LayerNorm/beta:0' shape=(544,) dtype=float32>,\n",
       " <tf.Variable 'fastvc2/Decoder/encoder/layer_._2/attention/self/query/kernel:0' shape=(544, 384) dtype=float32>,\n",
       " <tf.Variable 'fastvc2/Decoder/encoder/layer_._2/attention/self/query/bias:0' shape=(384,) dtype=float32>,\n",
       " <tf.Variable 'fastvc2/Decoder/encoder/layer_._2/attention/self/key/kernel:0' shape=(544, 384) dtype=float32>,\n",
       " <tf.Variable 'fastvc2/Decoder/encoder/layer_._2/attention/self/key/bias:0' shape=(384,) dtype=float32>,\n",
       " <tf.Variable 'fastvc2/Decoder/encoder/layer_._2/attention/self/value/kernel:0' shape=(544, 384) dtype=float32>,\n",
       " <tf.Variable 'fastvc2/Decoder/encoder/layer_._2/attention/self/value/bias:0' shape=(384,) dtype=float32>,\n",
       " <tf.Variable 'fastvc2/Decoder/encoder/layer_._2/attention/output/dense/kernel:0' shape=(384, 544) dtype=float32>,\n",
       " <tf.Variable 'fastvc2/Decoder/encoder/layer_._2/attention/output/dense/bias:0' shape=(544,) dtype=float32>,\n",
       " <tf.Variable 'fastvc2/Decoder/encoder/layer_._2/attention/output/LayerNorm/gamma:0' shape=(544,) dtype=float32>,\n",
       " <tf.Variable 'fastvc2/Decoder/encoder/layer_._2/attention/output/LayerNorm/beta:0' shape=(544,) dtype=float32>,\n",
       " <tf.Variable 'fastvc2/Decoder/encoder/layer_._2/intermediate/conv1d_1/kernel:0' shape=(3, 544, 1024) dtype=float32>,\n",
       " <tf.Variable 'fastvc2/Decoder/encoder/layer_._2/intermediate/conv1d_1/bias:0' shape=(1024,) dtype=float32>,\n",
       " <tf.Variable 'fastvc2/Decoder/encoder/layer_._2/intermediate/conv1d_2/kernel:0' shape=(3, 1024, 544) dtype=float32>,\n",
       " <tf.Variable 'fastvc2/Decoder/encoder/layer_._2/intermediate/conv1d_2/bias:0' shape=(544,) dtype=float32>,\n",
       " <tf.Variable 'fastvc2/Decoder/encoder/layer_._2/output/LayerNorm/gamma:0' shape=(544,) dtype=float32>,\n",
       " <tf.Variable 'fastvc2/Decoder/encoder/layer_._2/output/LayerNorm/beta:0' shape=(544,) dtype=float32>,\n",
       " <tf.Variable 'fastvc2/Decoder/encoder/layer_._3/attention/self/query/kernel:0' shape=(544, 384) dtype=float32>,\n",
       " <tf.Variable 'fastvc2/Decoder/encoder/layer_._3/attention/self/query/bias:0' shape=(384,) dtype=float32>,\n",
       " <tf.Variable 'fastvc2/Decoder/encoder/layer_._3/attention/self/key/kernel:0' shape=(544, 384) dtype=float32>,\n",
       " <tf.Variable 'fastvc2/Decoder/encoder/layer_._3/attention/self/key/bias:0' shape=(384,) dtype=float32>,\n",
       " <tf.Variable 'fastvc2/Decoder/encoder/layer_._3/attention/self/value/kernel:0' shape=(544, 384) dtype=float32>,\n",
       " <tf.Variable 'fastvc2/Decoder/encoder/layer_._3/attention/self/value/bias:0' shape=(384,) dtype=float32>,\n",
       " <tf.Variable 'fastvc2/Decoder/encoder/layer_._3/attention/output/dense/kernel:0' shape=(384, 544) dtype=float32>,\n",
       " <tf.Variable 'fastvc2/Decoder/encoder/layer_._3/attention/output/dense/bias:0' shape=(544,) dtype=float32>,\n",
       " <tf.Variable 'fastvc2/Decoder/encoder/layer_._3/attention/output/LayerNorm/gamma:0' shape=(544,) dtype=float32>,\n",
       " <tf.Variable 'fastvc2/Decoder/encoder/layer_._3/attention/output/LayerNorm/beta:0' shape=(544,) dtype=float32>,\n",
       " <tf.Variable 'fastvc2/Decoder/encoder/layer_._3/intermediate/conv1d_1/kernel:0' shape=(3, 544, 1024) dtype=float32>,\n",
       " <tf.Variable 'fastvc2/Decoder/encoder/layer_._3/intermediate/conv1d_1/bias:0' shape=(1024,) dtype=float32>,\n",
       " <tf.Variable 'fastvc2/Decoder/encoder/layer_._3/intermediate/conv1d_2/kernel:0' shape=(3, 1024, 544) dtype=float32>,\n",
       " <tf.Variable 'fastvc2/Decoder/encoder/layer_._3/intermediate/conv1d_2/bias:0' shape=(544,) dtype=float32>,\n",
       " <tf.Variable 'fastvc2/Decoder/encoder/layer_._3/output/LayerNorm/gamma:0' shape=(544,) dtype=float32>,\n",
       " <tf.Variable 'fastvc2/Decoder/encoder/layer_._3/output/LayerNorm/beta:0' shape=(544,) dtype=float32>,\n",
       " <tf.Variable 'fastvc2/mel_before/kernel:0' shape=(544, 80) dtype=float32>,\n",
       " <tf.Variable 'fastvc2/mel_before/bias:0' shape=(80,) dtype=float32>,\n",
       " <tf.Variable 'fastvc2/postnet/conv_._0/kernel:0' shape=(5, 80, 512) dtype=float32>,\n",
       " <tf.Variable 'fastvc2/postnet/conv_._0/bias:0' shape=(512,) dtype=float32>,\n",
       " <tf.Variable 'fastvc2/postnet/batch_norm_._0/gamma:0' shape=(512,) dtype=float32>,\n",
       " <tf.Variable 'fastvc2/postnet/batch_norm_._0/beta:0' shape=(512,) dtype=float32>,\n",
       " <tf.Variable 'fastvc2/postnet/conv_._1/kernel:0' shape=(5, 512, 512) dtype=float32>,\n",
       " <tf.Variable 'fastvc2/postnet/conv_._1/bias:0' shape=(512,) dtype=float32>,\n",
       " <tf.Variable 'fastvc2/postnet/batch_norm_._1/gamma:0' shape=(512,) dtype=float32>,\n",
       " <tf.Variable 'fastvc2/postnet/batch_norm_._1/beta:0' shape=(512,) dtype=float32>,\n",
       " <tf.Variable 'fastvc2/postnet/conv_._2/kernel:0' shape=(5, 512, 512) dtype=float32>,\n",
       " <tf.Variable 'fastvc2/postnet/conv_._2/bias:0' shape=(512,) dtype=float32>,\n",
       " <tf.Variable 'fastvc2/postnet/batch_norm_._2/gamma:0' shape=(512,) dtype=float32>,\n",
       " <tf.Variable 'fastvc2/postnet/batch_norm_._2/beta:0' shape=(512,) dtype=float32>,\n",
       " <tf.Variable 'fastvc2/postnet/conv_._3/kernel:0' shape=(5, 512, 512) dtype=float32>,\n",
       " <tf.Variable 'fastvc2/postnet/conv_._3/bias:0' shape=(512,) dtype=float32>,\n",
       " <tf.Variable 'fastvc2/postnet/batch_norm_._3/gamma:0' shape=(512,) dtype=float32>,\n",
       " <tf.Variable 'fastvc2/postnet/batch_norm_._3/beta:0' shape=(512,) dtype=float32>,\n",
       " <tf.Variable 'fastvc2/postnet/conv_._4/kernel:0' shape=(5, 512, 80) dtype=float32>,\n",
       " <tf.Variable 'fastvc2/postnet/conv_._4/bias:0' shape=(80,) dtype=float32>,\n",
       " <tf.Variable 'fastvc2/postnet/batch_norm_._4/gamma:0' shape=(80,) dtype=float32>,\n",
       " <tf.Variable 'fastvc2/postnet/batch_norm_._4/beta:0' shape=(80,) dtype=float32>]"
      ]
     },
     "execution_count": 27,
     "metadata": {},
     "output_type": "execute_result"
    }
   ],
   "source": [
    "tf.trainable_variables()"
   ]
  },
  {
   "cell_type": "code",
   "execution_count": 28,
   "metadata": {},
   "outputs": [
    {
     "data": {
      "text/plain": [
       "'test/model.ckpt'"
      ]
     },
     "execution_count": 28,
     "metadata": {},
     "output_type": "execute_result"
    }
   ],
   "source": [
    "saver = tf.train.Saver(tf.trainable_variables())\n",
    "saver.save(sess, \"test/model.ckpt\")"
   ]
  },
  {
   "cell_type": "code",
   "execution_count": 29,
   "metadata": {},
   "outputs": [
    {
     "name": "stdout",
     "output_type": "stream",
     "text": [
      "total 314264\r\n",
      "-rw-r--r--  1 huseinzolkepli  staff    77B May 20 00:43 checkpoint\r\n",
      "-rw-r--r--  1 huseinzolkepli  staff   150M May 20 00:43 model.ckpt.data-00000-of-00001\r\n",
      "-rw-r--r--  1 huseinzolkepli  staff   6.3K May 20 00:43 model.ckpt.index\r\n",
      "-rw-r--r--  1 huseinzolkepli  staff   1.4M May 20 00:43 model.ckpt.meta\r\n"
     ]
    }
   ],
   "source": [
    "!ls -lh test\n",
    "!rm -rf test"
   ]
  },
  {
   "cell_type": "code",
   "execution_count": null,
   "metadata": {},
   "outputs": [],
   "source": []
  }
 ],
 "metadata": {
  "kernelspec": {
   "display_name": "Python 3",
   "language": "python",
   "name": "python3"
  },
  "language_info": {
   "codemirror_mode": {
    "name": "ipython",
    "version": 3
   },
   "file_extension": ".py",
   "mimetype": "text/x-python",
   "name": "python",
   "nbconvert_exporter": "python",
   "pygments_lexer": "ipython3",
   "version": "3.7.7"
  }
 },
 "nbformat": 4,
 "nbformat_minor": 4
}

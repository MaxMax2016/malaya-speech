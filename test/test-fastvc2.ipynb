{
 "cells": [
  {
   "cell_type": "code",
   "execution_count": 1,
   "metadata": {},
   "outputs": [],
   "source": [
    "import os\n",
    "\n",
    "os.environ['CUDA_VISIBLE_DEVICES'] = '1'"
   ]
  },
  {
   "cell_type": "code",
   "execution_count": 2,
   "metadata": {},
   "outputs": [],
   "source": [
    "import sys\n",
    "\n",
    "SOURCE_DIR = os.path.dirname(os.path.dirname(os.path.abspath(__name__)))\n",
    "sys.path.insert(0, SOURCE_DIR)"
   ]
  },
  {
   "cell_type": "code",
   "execution_count": 3,
   "metadata": {},
   "outputs": [],
   "source": [
    "import pickle\n",
    "\n",
    "metadata = pickle.load(open('metadata.pkl', \"rb\"))"
   ]
  },
  {
   "cell_type": "code",
   "execution_count": 4,
   "metadata": {},
   "outputs": [],
   "source": [
    "# import tensorflow as tf\n",
    "# tf.compat.v1.enable_eager_execution()"
   ]
  },
  {
   "cell_type": "code",
   "execution_count": 5,
   "metadata": {},
   "outputs": [
    {
     "name": "stdout",
     "output_type": "stream",
     "text": [
      "WARNING:tensorflow:From /Users/huseinzolkepli/Documents/malaya-speech/malaya_speech/train/optimizer/__init__.py:38: The name tf.train.AdagradOptimizer is deprecated. Please use tf.compat.v1.train.AdagradOptimizer instead.\n",
      "\n",
      "WARNING:tensorflow:From /Users/huseinzolkepli/Documents/malaya-speech/malaya_speech/train/optimizer/__init__.py:39: The name tf.train.AdamOptimizer is deprecated. Please use tf.compat.v1.train.AdamOptimizer instead.\n",
      "\n",
      "WARNING:tensorflow:From /Users/huseinzolkepli/Documents/malaya-speech/malaya_speech/train/optimizer/__init__.py:40: The name tf.train.FtrlOptimizer is deprecated. Please use tf.compat.v1.train.FtrlOptimizer instead.\n",
      "\n",
      "WARNING:tensorflow:From /Users/huseinzolkepli/Documents/malaya-speech/malaya_speech/train/optimizer/__init__.py:42: The name tf.train.RMSPropOptimizer is deprecated. Please use tf.compat.v1.train.RMSPropOptimizer instead.\n",
      "\n",
      "WARNING:tensorflow:From /Users/huseinzolkepli/Documents/malaya-speech/malaya_speech/train/optimizer/__init__.py:43: The name tf.train.GradientDescentOptimizer is deprecated. Please use tf.compat.v1.train.GradientDescentOptimizer instead.\n",
      "\n",
      "WARNING:tensorflow:\n",
      "The TensorFlow contrib module will not be included in TensorFlow 2.0.\n",
      "For more information, please see:\n",
      "  * https://github.com/tensorflow/community/blob/master/rfcs/20180907-contrib-sunset.md\n",
      "  * https://github.com/tensorflow/addons\n",
      "  * https://github.com/tensorflow/io (for I/O related ops)\n",
      "If you depend on functionality not listed there, please file an issue.\n",
      "\n"
     ]
    }
   ],
   "source": [
    "import numpy as np\n",
    "from math import ceil\n",
    "import tensorflow as tf\n",
    "from malaya_speech.train.model import fastspeech, fastvc2 as fastvc\n",
    "import malaya_speech\n",
    "import random"
   ]
  },
  {
   "cell_type": "code",
   "execution_count": 6,
   "metadata": {},
   "outputs": [],
   "source": [
    "speaker_model = malaya_speech.speaker_vector.deep_model('vggvox-v2')\n",
    "sr = 22050\n",
    "\n",
    "def generate(f, hop_size = 256):\n",
    "    audio, _ = malaya_speech.load(f, sr = sr)\n",
    "    mel = malaya_speech.featurization.universal_mel(audio)\n",
    "    batch_max_steps = random.randint(16384, 110250)\n",
    "    batch_max_frames = batch_max_steps // hop_size\n",
    "\n",
    "    if len(mel) > batch_max_frames:\n",
    "        interval_start = 0\n",
    "        interval_end = len(mel) - batch_max_frames\n",
    "        start_frame = random.randint(interval_start, interval_end)\n",
    "        start_step = start_frame * hop_size\n",
    "        mel = mel[start_frame : start_frame + batch_max_frames, :]\n",
    "        audio = audio[start_step : start_step + batch_max_steps]\n",
    "\n",
    "    audio_16k = malaya_speech.resample(audio, sr, 16000)\n",
    "    v = speaker_model([audio_16k])\n",
    "\n",
    "    return {\n",
    "        'mel': mel,\n",
    "        'mel_length': [len(mel)],\n",
    "        'audio': audio,\n",
    "        'v': v[0] * 30 - 3.5,\n",
    "    }"
   ]
  },
  {
   "cell_type": "code",
   "execution_count": 7,
   "metadata": {},
   "outputs": [],
   "source": [
    "out = generate('../speech/example-speaker/female.wav')"
   ]
  },
  {
   "cell_type": "code",
   "execution_count": 8,
   "metadata": {},
   "outputs": [],
   "source": [
    "mel = tf.placeholder(tf.float32, (None, None, 80))\n",
    "ori_vector = tf.placeholder(tf.float32, (None, 512))\n",
    "target_vector = tf.placeholder(tf.float32, (None, 512))\n",
    "mel_lengths = tf.placeholder(tf.int32, (None))"
   ]
  },
  {
   "cell_type": "code",
   "execution_count": 9,
   "metadata": {},
   "outputs": [],
   "source": [
    "dim_neck = 32\n",
    "dim_speaker = 512\n",
    "dim_input = 80\n",
    "config = malaya_speech.config.fastspeech_config\n",
    "config['encoder_hidden_size'] = dim_speaker + dim_input\n",
    "config['decoder_hidden_size'] = dim_speaker + dim_neck\n",
    "config = fastspeech.Config(vocab_size = 1, **config)"
   ]
  },
  {
   "cell_type": "code",
   "execution_count": 10,
   "metadata": {
    "scrolled": true
   },
   "outputs": [
    {
     "name": "stdout",
     "output_type": "stream",
     "text": [
      "WARNING:tensorflow:From /Users/huseinzolkepli/Documents/malaya-speech/malaya_speech/train/model/fastspeech/layer.py:11: The name tf.keras.initializers.TruncatedNormal is deprecated. Please use tf.compat.v1.keras.initializers.TruncatedNormal instead.\n",
      "\n",
      "WARNING:tensorflow:From /Users/huseinzolkepli/Documents/tf-1.15/env/lib/python3.7/site-packages/tensorflow_core/python/keras/initializers.py:94: calling TruncatedNormal.__init__ (from tensorflow.python.ops.init_ops) with dtype is deprecated and will be removed in a future version.\n",
      "Instructions for updating:\n",
      "Call initializer instance with the dtype argument instead of passing it to the constructor\n"
     ]
    }
   ],
   "source": [
    "model = fastvc.model.Model(dim_neck, config, dim_input, dim_speaker, \n",
    "                           dim_neck_dropout = 0.05, skip = 6)"
   ]
  },
  {
   "cell_type": "code",
   "execution_count": 11,
   "metadata": {},
   "outputs": [
    {
     "name": "stdout",
     "output_type": "stream",
     "text": [
      "WARNING:tensorflow:From /Users/huseinzolkepli/Documents/tf-1.15/env/lib/python3.7/site-packages/tensorflow_core/python/ops/resource_variable_ops.py:1630: calling BaseResourceVariable.__init__ (from tensorflow.python.ops.resource_variable_ops) with constraint is deprecated and will be removed in a future version.\n",
      "Instructions for updating:\n",
      "If using Keras pass *_constraint arguments to layers.\n"
     ]
    }
   ],
   "source": [
    "encoder_outputs, mel_before, mel_after, codes = model(mel, ori_vector, target_vector, mel_lengths)"
   ]
  },
  {
   "cell_type": "code",
   "execution_count": 12,
   "metadata": {},
   "outputs": [],
   "source": [
    "codes_ = model.call_second(mel_after, ori_vector, mel_lengths)"
   ]
  },
  {
   "cell_type": "code",
   "execution_count": 13,
   "metadata": {},
   "outputs": [
    {
     "data": {
      "text/plain": [
       "(<tf.Tensor 'fastvc2/dropout_25/dropout/mul_1:0' shape=(?, ?, 544) dtype=float32>,\n",
       " <tf.Tensor 'fastvc2/mel_before/BiasAdd:0' shape=(?, ?, 80) dtype=float32>,\n",
       " <tf.Tensor 'fastvc2/add:0' shape=(?, ?, 80) dtype=float32>,\n",
       " <tf.Tensor 'fastvc2/Encoder/encoder_dense/BiasAdd:0' shape=(?, ?, 32) dtype=float32>,\n",
       " <tf.Tensor 'Encoder/encoder_dense/BiasAdd:0' shape=(?, ?, 32) dtype=float32>)"
      ]
     },
     "execution_count": 13,
     "metadata": {},
     "output_type": "execute_result"
    }
   ],
   "source": [
    "encoder_outputs, mel_before, mel_after, codes, codes_"
   ]
  },
  {
   "cell_type": "code",
   "execution_count": 14,
   "metadata": {},
   "outputs": [
    {
     "data": {
      "text/plain": [
       "<tf.Tensor 'ExpandDims:0' shape=<unknown> dtype=float32>"
      ]
     },
     "execution_count": 14,
     "metadata": {},
     "output_type": "execute_result"
    }
   ],
   "source": [
    "loss_f = tf.losses.mean_squared_error\n",
    "max_length = tf.cast(tf.reduce_max(mel_lengths), tf.int32)\n",
    "mask = tf.sequence_mask(\n",
    "    lengths = mel_lengths, maxlen = max_length, dtype = tf.float32\n",
    ")\n",
    "mask = tf.expand_dims(mask, axis = -1)\n",
    "mask"
   ]
  },
  {
   "cell_type": "code",
   "execution_count": 15,
   "metadata": {},
   "outputs": [],
   "source": [
    "from functools import partial\n",
    "from malaya_speech.train.loss import calculate_2d_loss, calculate_3d_loss\n",
    "\n",
    "mse_mel = partial(\n",
    "    loss_f,\n",
    "    weights = mask\n",
    ")"
   ]
  },
  {
   "cell_type": "code",
   "execution_count": 16,
   "metadata": {},
   "outputs": [
    {
     "name": "stdout",
     "output_type": "stream",
     "text": [
      "WARNING:tensorflow:From /Users/huseinzolkepli/Documents/tf-1.15/env/lib/python3.7/site-packages/tensorflow_core/python/ops/losses/losses_impl.py:121: where (from tensorflow.python.ops.array_ops) is deprecated and will be removed in a future version.\n",
      "Instructions for updating:\n",
      "Use tf.where in 2.0, which has the same broadcast rule as np.where\n"
     ]
    },
    {
     "data": {
      "text/plain": [
       "<tf.Tensor 'mean_squared_error/value:0' shape=() dtype=float32>"
      ]
     },
     "execution_count": 16,
     "metadata": {},
     "output_type": "execute_result"
    }
   ],
   "source": [
    "mel_loss_before = calculate_3d_loss(mel, mel_before, mse_mel)\n",
    "mel_loss_before"
   ]
  },
  {
   "cell_type": "code",
   "execution_count": 17,
   "metadata": {},
   "outputs": [
    {
     "data": {
      "text/plain": [
       "<tf.Tensor 'mean_squared_error_1/value:0' shape=() dtype=float32>"
      ]
     },
     "execution_count": 17,
     "metadata": {},
     "output_type": "execute_result"
    }
   ],
   "source": [
    "mel_loss_after = calculate_3d_loss(mel, mel_after, mse_mel)\n",
    "mel_loss_after"
   ]
  },
  {
   "cell_type": "code",
   "execution_count": 18,
   "metadata": {},
   "outputs": [],
   "source": [
    "g_loss_cd = tf.losses.absolute_difference(codes, codes_)"
   ]
  },
  {
   "cell_type": "code",
   "execution_count": 19,
   "metadata": {},
   "outputs": [],
   "source": [
    "loss = mel_loss_before + mel_loss_after + g_loss_cd"
   ]
  },
  {
   "cell_type": "code",
   "execution_count": 20,
   "metadata": {},
   "outputs": [],
   "source": [
    "sess = tf.InteractiveSession()\n",
    "sess.run(tf.global_variables_initializer())"
   ]
  },
  {
   "cell_type": "code",
   "execution_count": 21,
   "metadata": {},
   "outputs": [
    {
     "data": {
      "text/plain": [
       "array([-1.6075896 , -2.610291  , -1.6646521 , -3.5       , -2.33016   ,\n",
       "       -3.5       , -2.4365082 , -0.60510325, -3.5       , -3.3640294 ,\n",
       "       -3.5       , -3.5       , -0.6677234 , -0.66841173, -2.9554267 ,\n",
       "       -2.6881845 , -3.5       , -3.5       , -2.133858  , -1.4137208 ,\n",
       "       -3.5       , -3.5       , -3.2543778 , -1.7783164 , -3.5       ,\n",
       "       -3.5       , -2.617505  , -2.4093153 , -2.2654963 , -2.4193592 ,\n",
       "       -3.5       , -3.080307  , -2.1955807 , -2.1810064 , -2.9653115 ,\n",
       "       -3.5       , -2.3504589 , -0.4370823 , -3.5       , -3.5       ,\n",
       "       -2.6115823 , -1.4119697 , -3.164143  , -0.6623893 , -1.8049464 ,\n",
       "       -3.3915186 , -3.5       , -2.8164551 , -2.129594  , -2.4167213 ,\n",
       "       -3.5       , -0.95596075, -2.1184654 , -2.1862502 , -0.9601853 ,\n",
       "       -3.322373  , -3.5       , -0.3254478 , -3.5       , -1.2525616 ,\n",
       "       -3.5       , -1.5046189 , -1.8971282 , -2.0832956 , -2.345399  ,\n",
       "       -1.4806335 , -3.5       , -2.6399302 , -2.5344164 , -2.826858  ,\n",
       "       -1.7822337 , -3.5       , -3.5       , -0.24514508, -0.5204351 ,\n",
       "       -2.7211428 , -3.5       , -2.4287844 , -3.5       , -2.4710593 ,\n",
       "       -3.5       , -1.4581568 , -3.5       , -3.3706784 , -3.5       ,\n",
       "       -3.5       , -3.5       , -2.5088654 , -1.5543971 , -3.5       ,\n",
       "       -3.5       , -3.0629277 , -1.3468425 ,  0.03017354, -1.9271022 ,\n",
       "       -2.3586555 , -3.5       , -3.3383732 , -2.638174  , -1.8320124 ,\n",
       "       -3.3470633 , -3.5       , -2.4521298 , -3.5       , -1.9243686 ,\n",
       "       -1.4444602 , -2.971536  , -2.7051802 , -1.66638   , -2.390616  ,\n",
       "        0.997653  , -3.5       , -3.5       , -2.5504355 , -3.5       ,\n",
       "       -2.7287927 , -2.8744326 , -3.5       , -2.4927125 , -0.5191941 ,\n",
       "       -3.5       , -1.5930464 , -3.5       , -2.0124574 , -1.1344001 ,\n",
       "       -3.5       , -3.5       , -3.5       , -3.5       , -3.354739  ,\n",
       "       -3.5       , -1.5131973 , -1.6806498 , -3.5       , -3.5       ,\n",
       "       -1.3245754 , -3.5       , -1.14729   , -2.567318  , -3.5       ,\n",
       "       -2.9399946 , -3.5       , -1.6694375 , -3.5       , -2.9474444 ,\n",
       "       -3.5       , -3.5       , -1.2793965 , -3.5       , -2.4655113 ,\n",
       "       -1.733931  , -3.4232244 , -3.5       , -3.5       , -1.2160051 ,\n",
       "       -3.5       , -3.0892687 , -0.93784785, -0.66467905, -2.8791432 ,\n",
       "       -3.5       , -3.5       , -2.0902727 , -2.926485  , -3.5       ,\n",
       "       -3.5       , -3.5       , -2.5228631 , -0.8386681 , -3.5       ,\n",
       "       -3.5       , -2.6042566 ,  0.38720536, -3.1557977 , -1.4946733 ,\n",
       "       -3.5       , -3.5       , -1.146668  , -3.5       , -2.1606603 ,\n",
       "       -1.2028506 , -3.5       , -1.4626632 , -2.6545722 , -1.9953313 ,\n",
       "       -1.6459492 , -1.78613   , -2.5368094 , -3.3368878 , -3.5       ,\n",
       "       -3.1342466 , -3.5       , -2.2966437 , -2.3735938 , -1.8617519 ,\n",
       "       -3.5       , -2.1118143 , -3.5       , -3.5       , -3.5       ,\n",
       "       -3.2139707 , -2.5752761 , -1.9733868 , -3.5       ,  1.3271632 ,\n",
       "       -3.5       , -3.5       , -2.0848756 , -2.7110767 , -2.3272443 ,\n",
       "       -2.2643168 , -3.2101212 , -2.9769058 , -3.432243  , -3.5       ,\n",
       "       -3.4642031 , -3.5       , -2.9270778 , -3.5       , -3.5       ,\n",
       "       -2.4257648 , -1.8634404 , -2.6882358 , -3.5       , -3.5       ,\n",
       "       -3.5       , -3.5       , -2.6730366 , -1.4651132 , -3.5       ,\n",
       "       -2.6727734 , -2.1431236 , -2.269014  , -3.5       , -3.5       ,\n",
       "       -3.5       , -2.7857165 , -3.1867611 , -3.5       , -1.3659537 ,\n",
       "       -2.2180705 , -3.1530507 , -3.5       , -2.155466  , -3.5       ,\n",
       "       -3.4803915 , -3.5       , -2.1010475 , -2.687388  , -2.808829  ,\n",
       "       -0.7659743 , -2.8280897 , -2.4084282 , -3.181745  , -3.5       ,\n",
       "       -2.7640667 , -3.5       , -2.226079  , -3.5       , -2.0227551 ,\n",
       "       -1.4273887 , -3.4853096 , -2.391655  , -3.5       , -2.7897878 ,\n",
       "       -3.5       , -2.5150852 , -1.6420524 , -3.5       , -3.5       ,\n",
       "       -2.20732   , -3.5       , -2.1251566 , -2.6116886 , -1.9540974 ,\n",
       "       -2.2155042 , -1.8096544 , -2.8615868 , -0.3290844 , -2.1706157 ,\n",
       "       -2.0171232 , -1.7923858 , -2.765984  , -2.1717935 , -1.8715034 ,\n",
       "       -3.5       , -3.5       , -1.1532924 , -2.0517306 , -3.5       ,\n",
       "       -3.5       , -2.1129785 , -2.689567  , -2.1959577 , -3.4893627 ,\n",
       "       -1.9770272 , -2.703543  , -3.4105663 , -2.9090943 , -3.5       ,\n",
       "       -0.80262876, -2.103695  , -2.9056306 , -1.9541204 , -3.5       ,\n",
       "       -1.7121714 , -3.5       , -3.5       , -3.0066993 , -3.5       ,\n",
       "       -2.4960501 , -2.1728477 , -2.7155542 , -2.8777997 , -2.1429963 ,\n",
       "       -2.1819236 , -3.5       , -3.5       , -3.5       , -1.1732843 ,\n",
       "       -2.2783136 , -3.5       , -3.5       , -3.5       , -2.9681423 ,\n",
       "       -3.5       , -2.782061  , -3.5       , -0.30876517, -3.5       ,\n",
       "       -3.5       , -2.6923823 , -0.71564126, -3.5       , -2.8480167 ,\n",
       "        1.9984221 , -3.5       , -3.5       , -2.9774692 , -2.8225062 ,\n",
       "       -3.1585624 , -3.5       , -1.2302818 , -3.5       , -2.94207   ,\n",
       "       -3.5       , -3.289     , -3.4484425 , -3.5       , -3.5       ,\n",
       "       -1.1549702 , -3.3154209 , -2.282755  , -3.5       , -3.5       ,\n",
       "       -0.5089419 , -3.5       , -3.5       , -3.5       , -0.28592587,\n",
       "       -1.0549157 , -3.5       , -2.9353976 , -3.1703844 , -2.3485408 ,\n",
       "       -1.7811493 , -2.8693404 , -2.4886875 , -3.5       , -1.8177853 ,\n",
       "       -1.6429294 , -0.16752052, -3.5       , -3.5       , -2.08818   ,\n",
       "       -3.5       , -2.4047165 , -3.5       , -3.5       , -3.3716981 ,\n",
       "       -3.5       , -1.5276204 , -2.28329   , -3.5       , -2.7463443 ,\n",
       "       -1.6521484 , -2.157949  , -1.8497951 , -2.7811637 , -2.0263834 ,\n",
       "       -3.5       , -3.5       , -3.1920938 , -3.0088696 , -1.4569478 ,\n",
       "       -3.5       , -3.5       , -3.5       , -2.6690586 , -3.5       ,\n",
       "       -2.4884074 , -1.5657285 , -3.5       , -3.5       , -3.5       ,\n",
       "       -2.752411  , -3.5       , -1.1710393 , -2.2984073 , -3.5       ,\n",
       "       -3.5       , -3.5       , -3.5       ,  0.89458895, -2.14388   ,\n",
       "       -3.5       , -0.96374965, -0.8044529 , -2.268765  , -2.7931557 ,\n",
       "       -3.5       , -3.5       , -2.1733422 , -3.445169  , -3.4118578 ,\n",
       "       -1.3303647 , -3.5       , -3.5       , -0.06687641, -3.5       ,\n",
       "       -0.9428389 , -2.1770687 , -3.5       , -3.5       , -1.8882914 ,\n",
       "       -3.5       , -2.17998   , -2.371943  , -2.3157282 , -3.5       ,\n",
       "       -2.7227767 , -3.5       , -0.69743514, -2.1257603 , -2.151286  ,\n",
       "       -3.5       , -3.0877914 , -1.676852  , -1.681195  , -2.8536084 ,\n",
       "       -1.8581024 , -3.4122488 , -1.5889018 , -3.5       , -3.5       ,\n",
       "       -2.1363196 , -2.3939579 ,  0.23421097, -3.5       , -2.9713845 ,\n",
       "       -0.6866479 , -2.3788977 , -3.5       , -2.9067492 ,  1.5235453 ,\n",
       "       -1.8699098 , -2.7391121 , -3.5       , -2.2597268 , -2.931721  ,\n",
       "       -2.3155696 , -2.4026554 , -3.5       , -2.4783854 , -2.9112802 ,\n",
       "       -3.035287  , -3.3189428 , -3.5       ,  0.97375536, -3.4823847 ,\n",
       "       -3.5       , -2.6711497 , -3.5       , -2.942185  , -2.8604898 ,\n",
       "       -2.2476861 , -0.9952302 , -1.7939425 , -1.3673344 , -2.6257613 ,\n",
       "       -1.6888928 , -1.4440906 , -3.0084958 , -1.9178799 , -3.5       ,\n",
       "       -3.5       , -3.5       , -2.4050431 , -2.4299498 , -1.2292664 ,\n",
       "       -1.8436693 , -3.4914687 , -2.5531826 , -2.921156  , -1.9924335 ,\n",
       "       -3.5       , -1.5801401 , -2.138851  , -2.434544  , -3.0213177 ,\n",
       "       -3.427049  , -3.0876741 ], dtype=float32)"
      ]
     },
     "execution_count": 21,
     "metadata": {},
     "output_type": "execute_result"
    }
   ],
   "source": [
    "out['v']"
   ]
  },
  {
   "cell_type": "code",
   "execution_count": 22,
   "metadata": {},
   "outputs": [],
   "source": [
    "o = sess.run([encoder_outputs, mel_before, mel_after], feed_dict = {mel: [out['mel']],\n",
    "                                                                    ori_vector: [out['v']],\n",
    "                                                                    target_vector: [out['v']],\n",
    "                                                                    mel_lengths: [len(out['mel'])]})"
   ]
  },
  {
   "cell_type": "code",
   "execution_count": 23,
   "metadata": {},
   "outputs": [
    {
     "data": {
      "text/plain": [
       "((1, 391, 544), (1, 391, 80), (1, 391, 80))"
      ]
     },
     "execution_count": 23,
     "metadata": {},
     "output_type": "execute_result"
    }
   ],
   "source": [
    "o[0].shape, o[1].shape, o[2].shape"
   ]
  },
  {
   "cell_type": "code",
   "execution_count": 24,
   "metadata": {},
   "outputs": [],
   "source": [
    "o = sess.run([mel_loss_before, mel_loss_after, g_loss_cd], feed_dict = {mel: [out['mel']],\n",
    "                                                                    ori_vector: [out['v']],\n",
    "                                                                    target_vector: [out['v']],\n",
    "                                                                    mel_lengths: [len(out['mel'])]})"
   ]
  },
  {
   "cell_type": "code",
   "execution_count": 25,
   "metadata": {},
   "outputs": [
    {
     "data": {
      "text/plain": [
       "[2.6752949, 3.749106, 1.048138]"
      ]
     },
     "execution_count": 25,
     "metadata": {},
     "output_type": "execute_result"
    }
   ],
   "source": [
    "o"
   ]
  },
  {
   "cell_type": "code",
   "execution_count": 26,
   "metadata": {},
   "outputs": [
    {
     "data": {
      "text/plain": [
       "[<tf.Variable 'fastvc2/Encoder/encoder/layer_._0/attention/self/query/kernel:0' shape=(592, 384) dtype=float32>,\n",
       " <tf.Variable 'fastvc2/Encoder/encoder/layer_._0/attention/self/query/bias:0' shape=(384,) dtype=float32>,\n",
       " <tf.Variable 'fastvc2/Encoder/encoder/layer_._0/attention/self/key/kernel:0' shape=(592, 384) dtype=float32>,\n",
       " <tf.Variable 'fastvc2/Encoder/encoder/layer_._0/attention/self/key/bias:0' shape=(384,) dtype=float32>,\n",
       " <tf.Variable 'fastvc2/Encoder/encoder/layer_._0/attention/self/value/kernel:0' shape=(592, 384) dtype=float32>,\n",
       " <tf.Variable 'fastvc2/Encoder/encoder/layer_._0/attention/self/value/bias:0' shape=(384,) dtype=float32>,\n",
       " <tf.Variable 'fastvc2/Encoder/encoder/layer_._0/attention/output/dense/kernel:0' shape=(384, 592) dtype=float32>,\n",
       " <tf.Variable 'fastvc2/Encoder/encoder/layer_._0/attention/output/dense/bias:0' shape=(592,) dtype=float32>,\n",
       " <tf.Variable 'fastvc2/Encoder/encoder/layer_._0/attention/output/LayerNorm/gamma:0' shape=(592,) dtype=float32>,\n",
       " <tf.Variable 'fastvc2/Encoder/encoder/layer_._0/attention/output/LayerNorm/beta:0' shape=(592,) dtype=float32>,\n",
       " <tf.Variable 'fastvc2/Encoder/encoder/layer_._0/intermediate/conv1d_1/kernel:0' shape=(3, 592, 1024) dtype=float32>,\n",
       " <tf.Variable 'fastvc2/Encoder/encoder/layer_._0/intermediate/conv1d_1/bias:0' shape=(1024,) dtype=float32>,\n",
       " <tf.Variable 'fastvc2/Encoder/encoder/layer_._0/intermediate/conv1d_2/kernel:0' shape=(3, 1024, 592) dtype=float32>,\n",
       " <tf.Variable 'fastvc2/Encoder/encoder/layer_._0/intermediate/conv1d_2/bias:0' shape=(592,) dtype=float32>,\n",
       " <tf.Variable 'fastvc2/Encoder/encoder/layer_._0/output/LayerNorm/gamma:0' shape=(592,) dtype=float32>,\n",
       " <tf.Variable 'fastvc2/Encoder/encoder/layer_._0/output/LayerNorm/beta:0' shape=(592,) dtype=float32>,\n",
       " <tf.Variable 'fastvc2/Encoder/encoder/layer_._1/attention/self/query/kernel:0' shape=(592, 384) dtype=float32>,\n",
       " <tf.Variable 'fastvc2/Encoder/encoder/layer_._1/attention/self/query/bias:0' shape=(384,) dtype=float32>,\n",
       " <tf.Variable 'fastvc2/Encoder/encoder/layer_._1/attention/self/key/kernel:0' shape=(592, 384) dtype=float32>,\n",
       " <tf.Variable 'fastvc2/Encoder/encoder/layer_._1/attention/self/key/bias:0' shape=(384,) dtype=float32>,\n",
       " <tf.Variable 'fastvc2/Encoder/encoder/layer_._1/attention/self/value/kernel:0' shape=(592, 384) dtype=float32>,\n",
       " <tf.Variable 'fastvc2/Encoder/encoder/layer_._1/attention/self/value/bias:0' shape=(384,) dtype=float32>,\n",
       " <tf.Variable 'fastvc2/Encoder/encoder/layer_._1/attention/output/dense/kernel:0' shape=(384, 592) dtype=float32>,\n",
       " <tf.Variable 'fastvc2/Encoder/encoder/layer_._1/attention/output/dense/bias:0' shape=(592,) dtype=float32>,\n",
       " <tf.Variable 'fastvc2/Encoder/encoder/layer_._1/attention/output/LayerNorm/gamma:0' shape=(592,) dtype=float32>,\n",
       " <tf.Variable 'fastvc2/Encoder/encoder/layer_._1/attention/output/LayerNorm/beta:0' shape=(592,) dtype=float32>,\n",
       " <tf.Variable 'fastvc2/Encoder/encoder/layer_._1/intermediate/conv1d_1/kernel:0' shape=(3, 592, 1024) dtype=float32>,\n",
       " <tf.Variable 'fastvc2/Encoder/encoder/layer_._1/intermediate/conv1d_1/bias:0' shape=(1024,) dtype=float32>,\n",
       " <tf.Variable 'fastvc2/Encoder/encoder/layer_._1/intermediate/conv1d_2/kernel:0' shape=(3, 1024, 592) dtype=float32>,\n",
       " <tf.Variable 'fastvc2/Encoder/encoder/layer_._1/intermediate/conv1d_2/bias:0' shape=(592,) dtype=float32>,\n",
       " <tf.Variable 'fastvc2/Encoder/encoder/layer_._1/output/LayerNorm/gamma:0' shape=(592,) dtype=float32>,\n",
       " <tf.Variable 'fastvc2/Encoder/encoder/layer_._1/output/LayerNorm/beta:0' shape=(592,) dtype=float32>,\n",
       " <tf.Variable 'fastvc2/Encoder/encoder/layer_._2/attention/self/query/kernel:0' shape=(592, 384) dtype=float32>,\n",
       " <tf.Variable 'fastvc2/Encoder/encoder/layer_._2/attention/self/query/bias:0' shape=(384,) dtype=float32>,\n",
       " <tf.Variable 'fastvc2/Encoder/encoder/layer_._2/attention/self/key/kernel:0' shape=(592, 384) dtype=float32>,\n",
       " <tf.Variable 'fastvc2/Encoder/encoder/layer_._2/attention/self/key/bias:0' shape=(384,) dtype=float32>,\n",
       " <tf.Variable 'fastvc2/Encoder/encoder/layer_._2/attention/self/value/kernel:0' shape=(592, 384) dtype=float32>,\n",
       " <tf.Variable 'fastvc2/Encoder/encoder/layer_._2/attention/self/value/bias:0' shape=(384,) dtype=float32>,\n",
       " <tf.Variable 'fastvc2/Encoder/encoder/layer_._2/attention/output/dense/kernel:0' shape=(384, 592) dtype=float32>,\n",
       " <tf.Variable 'fastvc2/Encoder/encoder/layer_._2/attention/output/dense/bias:0' shape=(592,) dtype=float32>,\n",
       " <tf.Variable 'fastvc2/Encoder/encoder/layer_._2/attention/output/LayerNorm/gamma:0' shape=(592,) dtype=float32>,\n",
       " <tf.Variable 'fastvc2/Encoder/encoder/layer_._2/attention/output/LayerNorm/beta:0' shape=(592,) dtype=float32>,\n",
       " <tf.Variable 'fastvc2/Encoder/encoder/layer_._2/intermediate/conv1d_1/kernel:0' shape=(3, 592, 1024) dtype=float32>,\n",
       " <tf.Variable 'fastvc2/Encoder/encoder/layer_._2/intermediate/conv1d_1/bias:0' shape=(1024,) dtype=float32>,\n",
       " <tf.Variable 'fastvc2/Encoder/encoder/layer_._2/intermediate/conv1d_2/kernel:0' shape=(3, 1024, 592) dtype=float32>,\n",
       " <tf.Variable 'fastvc2/Encoder/encoder/layer_._2/intermediate/conv1d_2/bias:0' shape=(592,) dtype=float32>,\n",
       " <tf.Variable 'fastvc2/Encoder/encoder/layer_._2/output/LayerNorm/gamma:0' shape=(592,) dtype=float32>,\n",
       " <tf.Variable 'fastvc2/Encoder/encoder/layer_._2/output/LayerNorm/beta:0' shape=(592,) dtype=float32>,\n",
       " <tf.Variable 'fastvc2/Encoder/encoder/layer_._3/attention/self/query/kernel:0' shape=(592, 384) dtype=float32>,\n",
       " <tf.Variable 'fastvc2/Encoder/encoder/layer_._3/attention/self/query/bias:0' shape=(384,) dtype=float32>,\n",
       " <tf.Variable 'fastvc2/Encoder/encoder/layer_._3/attention/self/key/kernel:0' shape=(592, 384) dtype=float32>,\n",
       " <tf.Variable 'fastvc2/Encoder/encoder/layer_._3/attention/self/key/bias:0' shape=(384,) dtype=float32>,\n",
       " <tf.Variable 'fastvc2/Encoder/encoder/layer_._3/attention/self/value/kernel:0' shape=(592, 384) dtype=float32>,\n",
       " <tf.Variable 'fastvc2/Encoder/encoder/layer_._3/attention/self/value/bias:0' shape=(384,) dtype=float32>,\n",
       " <tf.Variable 'fastvc2/Encoder/encoder/layer_._3/attention/output/dense/kernel:0' shape=(384, 592) dtype=float32>,\n",
       " <tf.Variable 'fastvc2/Encoder/encoder/layer_._3/attention/output/dense/bias:0' shape=(592,) dtype=float32>,\n",
       " <tf.Variable 'fastvc2/Encoder/encoder/layer_._3/attention/output/LayerNorm/gamma:0' shape=(592,) dtype=float32>,\n",
       " <tf.Variable 'fastvc2/Encoder/encoder/layer_._3/attention/output/LayerNorm/beta:0' shape=(592,) dtype=float32>,\n",
       " <tf.Variable 'fastvc2/Encoder/encoder/layer_._3/intermediate/conv1d_1/kernel:0' shape=(3, 592, 1024) dtype=float32>,\n",
       " <tf.Variable 'fastvc2/Encoder/encoder/layer_._3/intermediate/conv1d_1/bias:0' shape=(1024,) dtype=float32>,\n",
       " <tf.Variable 'fastvc2/Encoder/encoder/layer_._3/intermediate/conv1d_2/kernel:0' shape=(3, 1024, 592) dtype=float32>,\n",
       " <tf.Variable 'fastvc2/Encoder/encoder/layer_._3/intermediate/conv1d_2/bias:0' shape=(592,) dtype=float32>,\n",
       " <tf.Variable 'fastvc2/Encoder/encoder/layer_._3/output/LayerNorm/gamma:0' shape=(592,) dtype=float32>,\n",
       " <tf.Variable 'fastvc2/Encoder/encoder/layer_._3/output/LayerNorm/beta:0' shape=(592,) dtype=float32>,\n",
       " <tf.Variable 'fastvc2/Encoder/encoder_dense/kernel:0' shape=(592, 32) dtype=float32>,\n",
       " <tf.Variable 'fastvc2/Encoder/encoder_dense/bias:0' shape=(32,) dtype=float32>,\n",
       " <tf.Variable 'fastvc2/Decoder/encoder/layer_._0/attention/self/query/kernel:0' shape=(544, 384) dtype=float32>,\n",
       " <tf.Variable 'fastvc2/Decoder/encoder/layer_._0/attention/self/query/bias:0' shape=(384,) dtype=float32>,\n",
       " <tf.Variable 'fastvc2/Decoder/encoder/layer_._0/attention/self/key/kernel:0' shape=(544, 384) dtype=float32>,\n",
       " <tf.Variable 'fastvc2/Decoder/encoder/layer_._0/attention/self/key/bias:0' shape=(384,) dtype=float32>,\n",
       " <tf.Variable 'fastvc2/Decoder/encoder/layer_._0/attention/self/value/kernel:0' shape=(544, 384) dtype=float32>,\n",
       " <tf.Variable 'fastvc2/Decoder/encoder/layer_._0/attention/self/value/bias:0' shape=(384,) dtype=float32>,\n",
       " <tf.Variable 'fastvc2/Decoder/encoder/layer_._0/attention/output/dense/kernel:0' shape=(384, 544) dtype=float32>,\n",
       " <tf.Variable 'fastvc2/Decoder/encoder/layer_._0/attention/output/dense/bias:0' shape=(544,) dtype=float32>,\n",
       " <tf.Variable 'fastvc2/Decoder/encoder/layer_._0/attention/output/LayerNorm/gamma:0' shape=(544,) dtype=float32>,\n",
       " <tf.Variable 'fastvc2/Decoder/encoder/layer_._0/attention/output/LayerNorm/beta:0' shape=(544,) dtype=float32>,\n",
       " <tf.Variable 'fastvc2/Decoder/encoder/layer_._0/intermediate/conv1d_1/kernel:0' shape=(3, 544, 1024) dtype=float32>,\n",
       " <tf.Variable 'fastvc2/Decoder/encoder/layer_._0/intermediate/conv1d_1/bias:0' shape=(1024,) dtype=float32>,\n",
       " <tf.Variable 'fastvc2/Decoder/encoder/layer_._0/intermediate/conv1d_2/kernel:0' shape=(3, 1024, 544) dtype=float32>,\n",
       " <tf.Variable 'fastvc2/Decoder/encoder/layer_._0/intermediate/conv1d_2/bias:0' shape=(544,) dtype=float32>,\n",
       " <tf.Variable 'fastvc2/Decoder/encoder/layer_._0/output/LayerNorm/gamma:0' shape=(544,) dtype=float32>,\n",
       " <tf.Variable 'fastvc2/Decoder/encoder/layer_._0/output/LayerNorm/beta:0' shape=(544,) dtype=float32>,\n",
       " <tf.Variable 'fastvc2/Decoder/encoder/layer_._1/attention/self/query/kernel:0' shape=(544, 384) dtype=float32>,\n",
       " <tf.Variable 'fastvc2/Decoder/encoder/layer_._1/attention/self/query/bias:0' shape=(384,) dtype=float32>,\n",
       " <tf.Variable 'fastvc2/Decoder/encoder/layer_._1/attention/self/key/kernel:0' shape=(544, 384) dtype=float32>,\n",
       " <tf.Variable 'fastvc2/Decoder/encoder/layer_._1/attention/self/key/bias:0' shape=(384,) dtype=float32>,\n",
       " <tf.Variable 'fastvc2/Decoder/encoder/layer_._1/attention/self/value/kernel:0' shape=(544, 384) dtype=float32>,\n",
       " <tf.Variable 'fastvc2/Decoder/encoder/layer_._1/attention/self/value/bias:0' shape=(384,) dtype=float32>,\n",
       " <tf.Variable 'fastvc2/Decoder/encoder/layer_._1/attention/output/dense/kernel:0' shape=(384, 544) dtype=float32>,\n",
       " <tf.Variable 'fastvc2/Decoder/encoder/layer_._1/attention/output/dense/bias:0' shape=(544,) dtype=float32>,\n",
       " <tf.Variable 'fastvc2/Decoder/encoder/layer_._1/attention/output/LayerNorm/gamma:0' shape=(544,) dtype=float32>,\n",
       " <tf.Variable 'fastvc2/Decoder/encoder/layer_._1/attention/output/LayerNorm/beta:0' shape=(544,) dtype=float32>,\n",
       " <tf.Variable 'fastvc2/Decoder/encoder/layer_._1/intermediate/conv1d_1/kernel:0' shape=(3, 544, 1024) dtype=float32>,\n",
       " <tf.Variable 'fastvc2/Decoder/encoder/layer_._1/intermediate/conv1d_1/bias:0' shape=(1024,) dtype=float32>,\n",
       " <tf.Variable 'fastvc2/Decoder/encoder/layer_._1/intermediate/conv1d_2/kernel:0' shape=(3, 1024, 544) dtype=float32>,\n",
       " <tf.Variable 'fastvc2/Decoder/encoder/layer_._1/intermediate/conv1d_2/bias:0' shape=(544,) dtype=float32>,\n",
       " <tf.Variable 'fastvc2/Decoder/encoder/layer_._1/output/LayerNorm/gamma:0' shape=(544,) dtype=float32>,\n",
       " <tf.Variable 'fastvc2/Decoder/encoder/layer_._1/output/LayerNorm/beta:0' shape=(544,) dtype=float32>,\n",
       " <tf.Variable 'fastvc2/Decoder/encoder/layer_._2/attention/self/query/kernel:0' shape=(544, 384) dtype=float32>,\n",
       " <tf.Variable 'fastvc2/Decoder/encoder/layer_._2/attention/self/query/bias:0' shape=(384,) dtype=float32>,\n",
       " <tf.Variable 'fastvc2/Decoder/encoder/layer_._2/attention/self/key/kernel:0' shape=(544, 384) dtype=float32>,\n",
       " <tf.Variable 'fastvc2/Decoder/encoder/layer_._2/attention/self/key/bias:0' shape=(384,) dtype=float32>,\n",
       " <tf.Variable 'fastvc2/Decoder/encoder/layer_._2/attention/self/value/kernel:0' shape=(544, 384) dtype=float32>,\n",
       " <tf.Variable 'fastvc2/Decoder/encoder/layer_._2/attention/self/value/bias:0' shape=(384,) dtype=float32>,\n",
       " <tf.Variable 'fastvc2/Decoder/encoder/layer_._2/attention/output/dense/kernel:0' shape=(384, 544) dtype=float32>,\n",
       " <tf.Variable 'fastvc2/Decoder/encoder/layer_._2/attention/output/dense/bias:0' shape=(544,) dtype=float32>,\n",
       " <tf.Variable 'fastvc2/Decoder/encoder/layer_._2/attention/output/LayerNorm/gamma:0' shape=(544,) dtype=float32>,\n",
       " <tf.Variable 'fastvc2/Decoder/encoder/layer_._2/attention/output/LayerNorm/beta:0' shape=(544,) dtype=float32>,\n",
       " <tf.Variable 'fastvc2/Decoder/encoder/layer_._2/intermediate/conv1d_1/kernel:0' shape=(3, 544, 1024) dtype=float32>,\n",
       " <tf.Variable 'fastvc2/Decoder/encoder/layer_._2/intermediate/conv1d_1/bias:0' shape=(1024,) dtype=float32>,\n",
       " <tf.Variable 'fastvc2/Decoder/encoder/layer_._2/intermediate/conv1d_2/kernel:0' shape=(3, 1024, 544) dtype=float32>,\n",
       " <tf.Variable 'fastvc2/Decoder/encoder/layer_._2/intermediate/conv1d_2/bias:0' shape=(544,) dtype=float32>,\n",
       " <tf.Variable 'fastvc2/Decoder/encoder/layer_._2/output/LayerNorm/gamma:0' shape=(544,) dtype=float32>,\n",
       " <tf.Variable 'fastvc2/Decoder/encoder/layer_._2/output/LayerNorm/beta:0' shape=(544,) dtype=float32>,\n",
       " <tf.Variable 'fastvc2/Decoder/encoder/layer_._3/attention/self/query/kernel:0' shape=(544, 384) dtype=float32>,\n",
       " <tf.Variable 'fastvc2/Decoder/encoder/layer_._3/attention/self/query/bias:0' shape=(384,) dtype=float32>,\n",
       " <tf.Variable 'fastvc2/Decoder/encoder/layer_._3/attention/self/key/kernel:0' shape=(544, 384) dtype=float32>,\n",
       " <tf.Variable 'fastvc2/Decoder/encoder/layer_._3/attention/self/key/bias:0' shape=(384,) dtype=float32>,\n",
       " <tf.Variable 'fastvc2/Decoder/encoder/layer_._3/attention/self/value/kernel:0' shape=(544, 384) dtype=float32>,\n",
       " <tf.Variable 'fastvc2/Decoder/encoder/layer_._3/attention/self/value/bias:0' shape=(384,) dtype=float32>,\n",
       " <tf.Variable 'fastvc2/Decoder/encoder/layer_._3/attention/output/dense/kernel:0' shape=(384, 544) dtype=float32>,\n",
       " <tf.Variable 'fastvc2/Decoder/encoder/layer_._3/attention/output/dense/bias:0' shape=(544,) dtype=float32>,\n",
       " <tf.Variable 'fastvc2/Decoder/encoder/layer_._3/attention/output/LayerNorm/gamma:0' shape=(544,) dtype=float32>,\n",
       " <tf.Variable 'fastvc2/Decoder/encoder/layer_._3/attention/output/LayerNorm/beta:0' shape=(544,) dtype=float32>,\n",
       " <tf.Variable 'fastvc2/Decoder/encoder/layer_._3/intermediate/conv1d_1/kernel:0' shape=(3, 544, 1024) dtype=float32>,\n",
       " <tf.Variable 'fastvc2/Decoder/encoder/layer_._3/intermediate/conv1d_1/bias:0' shape=(1024,) dtype=float32>,\n",
       " <tf.Variable 'fastvc2/Decoder/encoder/layer_._3/intermediate/conv1d_2/kernel:0' shape=(3, 1024, 544) dtype=float32>,\n",
       " <tf.Variable 'fastvc2/Decoder/encoder/layer_._3/intermediate/conv1d_2/bias:0' shape=(544,) dtype=float32>,\n",
       " <tf.Variable 'fastvc2/Decoder/encoder/layer_._3/output/LayerNorm/gamma:0' shape=(544,) dtype=float32>,\n",
       " <tf.Variable 'fastvc2/Decoder/encoder/layer_._3/output/LayerNorm/beta:0' shape=(544,) dtype=float32>,\n",
       " <tf.Variable 'fastvc2/mel_before/kernel:0' shape=(544, 80) dtype=float32>,\n",
       " <tf.Variable 'fastvc2/mel_before/bias:0' shape=(80,) dtype=float32>,\n",
       " <tf.Variable 'fastvc2/postnet/conv_._0/kernel:0' shape=(5, 80, 512) dtype=float32>,\n",
       " <tf.Variable 'fastvc2/postnet/conv_._0/bias:0' shape=(512,) dtype=float32>,\n",
       " <tf.Variable 'fastvc2/postnet/batch_norm_._0/gamma:0' shape=(512,) dtype=float32>,\n",
       " <tf.Variable 'fastvc2/postnet/batch_norm_._0/beta:0' shape=(512,) dtype=float32>,\n",
       " <tf.Variable 'fastvc2/postnet/conv_._1/kernel:0' shape=(5, 512, 512) dtype=float32>,\n",
       " <tf.Variable 'fastvc2/postnet/conv_._1/bias:0' shape=(512,) dtype=float32>,\n",
       " <tf.Variable 'fastvc2/postnet/batch_norm_._1/gamma:0' shape=(512,) dtype=float32>,\n",
       " <tf.Variable 'fastvc2/postnet/batch_norm_._1/beta:0' shape=(512,) dtype=float32>,\n",
       " <tf.Variable 'fastvc2/postnet/conv_._2/kernel:0' shape=(5, 512, 512) dtype=float32>,\n",
       " <tf.Variable 'fastvc2/postnet/conv_._2/bias:0' shape=(512,) dtype=float32>,\n",
       " <tf.Variable 'fastvc2/postnet/batch_norm_._2/gamma:0' shape=(512,) dtype=float32>,\n",
       " <tf.Variable 'fastvc2/postnet/batch_norm_._2/beta:0' shape=(512,) dtype=float32>,\n",
       " <tf.Variable 'fastvc2/postnet/conv_._3/kernel:0' shape=(5, 512, 512) dtype=float32>,\n",
       " <tf.Variable 'fastvc2/postnet/conv_._3/bias:0' shape=(512,) dtype=float32>,\n",
       " <tf.Variable 'fastvc2/postnet/batch_norm_._3/gamma:0' shape=(512,) dtype=float32>,\n",
       " <tf.Variable 'fastvc2/postnet/batch_norm_._3/beta:0' shape=(512,) dtype=float32>,\n",
       " <tf.Variable 'fastvc2/postnet/conv_._4/kernel:0' shape=(5, 512, 80) dtype=float32>,\n",
       " <tf.Variable 'fastvc2/postnet/conv_._4/bias:0' shape=(80,) dtype=float32>,\n",
       " <tf.Variable 'fastvc2/postnet/batch_norm_._4/gamma:0' shape=(80,) dtype=float32>,\n",
       " <tf.Variable 'fastvc2/postnet/batch_norm_._4/beta:0' shape=(80,) dtype=float32>]"
      ]
     },
     "execution_count": 26,
     "metadata": {},
     "output_type": "execute_result"
    }
   ],
   "source": [
    "tf.trainable_variables()"
   ]
  },
  {
   "cell_type": "code",
   "execution_count": 27,
   "metadata": {},
   "outputs": [
    {
     "data": {
      "text/plain": [
       "'test/model.ckpt'"
      ]
     },
     "execution_count": 27,
     "metadata": {},
     "output_type": "execute_result"
    }
   ],
   "source": [
    "saver = tf.train.Saver(tf.trainable_variables())\n",
    "saver.save(sess, \"test/model.ckpt\")"
   ]
  },
  {
   "cell_type": "code",
   "execution_count": 28,
   "metadata": {},
   "outputs": [
    {
     "name": "stdout",
     "output_type": "stream",
     "text": [
      "total 310424\r\n",
      "-rw-r--r--  1 huseinzolkepli  staff    77B May 19 23:13 checkpoint\r\n",
      "-rw-r--r--  1 huseinzolkepli  staff   150M May 19 23:13 model.ckpt.data-00000-of-00001\r\n",
      "-rw-r--r--  1 huseinzolkepli  staff   6.3K May 19 23:13 model.ckpt.index\r\n",
      "-rw-r--r--  1 huseinzolkepli  staff   1.4M May 19 23:13 model.ckpt.meta\r\n"
     ]
    }
   ],
   "source": [
    "!ls -lh test\n",
    "!rm -rf test"
   ]
  }
 ],
 "metadata": {
  "kernelspec": {
   "display_name": "Python 3",
   "language": "python",
   "name": "python3"
  },
  "language_info": {
   "codemirror_mode": {
    "name": "ipython",
    "version": 3
   },
   "file_extension": ".py",
   "mimetype": "text/x-python",
   "name": "python",
   "nbconvert_exporter": "python",
   "pygments_lexer": "ipython3",
   "version": "3.7.7"
  }
 },
 "nbformat": 4,
 "nbformat_minor": 4
}

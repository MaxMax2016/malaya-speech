{
 "cells": [
  {
   "cell_type": "code",
   "execution_count": 1,
   "id": "unable-deadline",
   "metadata": {},
   "outputs": [],
   "source": [
    "import os\n",
    "\n",
    "os.environ['CUDA_VISIBLE_DEVICES'] = '1'"
   ]
  },
  {
   "cell_type": "code",
   "execution_count": 2,
   "id": "mobile-porter",
   "metadata": {},
   "outputs": [],
   "source": [
    "import sys\n",
    "\n",
    "SOURCE_DIR = os.path.dirname(os.path.dirname(os.path.abspath(__name__)))\n",
    "sys.path.insert(0, SOURCE_DIR)"
   ]
  },
  {
   "cell_type": "code",
   "execution_count": 3,
   "id": "identified-measurement",
   "metadata": {},
   "outputs": [],
   "source": [
    "import pickle\n",
    "\n",
    "metadata = pickle.load(open('metadata.pkl', \"rb\"))"
   ]
  },
  {
   "cell_type": "code",
   "execution_count": 4,
   "id": "temporal-costa",
   "metadata": {},
   "outputs": [
    {
     "name": "stdout",
     "output_type": "stream",
     "text": [
      "WARNING:tensorflow:From /Users/huseinzolkepli/Documents/malaya-speech/malaya_speech/train/optimizer/__init__.py:38: The name tf.train.AdagradOptimizer is deprecated. Please use tf.compat.v1.train.AdagradOptimizer instead.\n",
      "\n",
      "WARNING:tensorflow:From /Users/huseinzolkepli/Documents/malaya-speech/malaya_speech/train/optimizer/__init__.py:39: The name tf.train.AdamOptimizer is deprecated. Please use tf.compat.v1.train.AdamOptimizer instead.\n",
      "\n",
      "WARNING:tensorflow:From /Users/huseinzolkepli/Documents/malaya-speech/malaya_speech/train/optimizer/__init__.py:40: The name tf.train.FtrlOptimizer is deprecated. Please use tf.compat.v1.train.FtrlOptimizer instead.\n",
      "\n",
      "WARNING:tensorflow:From /Users/huseinzolkepli/Documents/malaya-speech/malaya_speech/train/optimizer/__init__.py:42: The name tf.train.RMSPropOptimizer is deprecated. Please use tf.compat.v1.train.RMSPropOptimizer instead.\n",
      "\n",
      "WARNING:tensorflow:From /Users/huseinzolkepli/Documents/malaya-speech/malaya_speech/train/optimizer/__init__.py:43: The name tf.train.GradientDescentOptimizer is deprecated. Please use tf.compat.v1.train.GradientDescentOptimizer instead.\n",
      "\n",
      "WARNING:tensorflow:\n",
      "The TensorFlow contrib module will not be included in TensorFlow 2.0.\n",
      "For more information, please see:\n",
      "  * https://github.com/tensorflow/community/blob/master/rfcs/20180907-contrib-sunset.md\n",
      "  * https://github.com/tensorflow/addons\n",
      "  * https://github.com/tensorflow/io (for I/O related ops)\n",
      "If you depend on functionality not listed there, please file an issue.\n",
      "\n"
     ]
    }
   ],
   "source": [
    "import numpy as np\n",
    "from math import ceil\n",
    "import tensorflow as tf\n",
    "from malaya_speech.train.model import fastspeech, fastvc2 as fastvc\n",
    "import malaya_speech"
   ]
  },
  {
   "cell_type": "code",
   "execution_count": 5,
   "id": "appointed-boating",
   "metadata": {},
   "outputs": [],
   "source": [
    "sbmt_i = metadata[0]\n",
    "x_org = sbmt_i[2]\n",
    "c = np.random.normal(size = (2, 512)).astype(np.float32)"
   ]
  },
  {
   "cell_type": "code",
   "execution_count": 6,
   "id": "furnished-given",
   "metadata": {},
   "outputs": [],
   "source": [
    "mel = tf.placeholder(tf.float32, (None, None, 80))\n",
    "ori_vector = tf.placeholder(tf.float32, (None, 512))\n",
    "target_vector = tf.placeholder(tf.float32, (None, 512))\n",
    "mel_lengths = tf.placeholder(tf.int32, (None))"
   ]
  },
  {
   "cell_type": "code",
   "execution_count": 7,
   "id": "noble-maintenance",
   "metadata": {},
   "outputs": [],
   "source": [
    "dim_neck = 32\n",
    "dim_speaker = 256\n",
    "config = malaya_speech.config.fastspeech_config\n",
    "config['encoder_hidden_size'] = dim_speaker + 80\n",
    "config['decoder_hidden_size'] = dim_speaker + dim_neck\n",
    "config['output_attentions'] = True\n",
    "config = fastspeech.Config(vocab_size = 1, **config)"
   ]
  },
  {
   "cell_type": "code",
   "execution_count": 8,
   "id": "precise-survey",
   "metadata": {},
   "outputs": [
    {
     "name": "stdout",
     "output_type": "stream",
     "text": [
      "WARNING:tensorflow:From /Users/huseinzolkepli/Documents/malaya-speech/malaya_speech/train/model/fastspeech/layer.py:11: The name tf.keras.initializers.TruncatedNormal is deprecated. Please use tf.compat.v1.keras.initializers.TruncatedNormal instead.\n",
      "\n",
      "WARNING:tensorflow:From /Users/huseinzolkepli/Documents/tf-1.15/env/lib/python3.7/site-packages/tensorflow_core/python/keras/initializers.py:94: calling TruncatedNormal.__init__ (from tensorflow.python.ops.init_ops) with dtype is deprecated and will be removed in a future version.\n",
      "Instructions for updating:\n",
      "Call initializer instance with the dtype argument instead of passing it to the constructor\n"
     ]
    }
   ],
   "source": [
    "model = fastvc.model.Model(dim_neck, config, dim_speaker = dim_speaker)"
   ]
  },
  {
   "cell_type": "code",
   "execution_count": 9,
   "id": "coordinate-wellington",
   "metadata": {},
   "outputs": [
    {
     "name": "stdout",
     "output_type": "stream",
     "text": [
      "WARNING:tensorflow:From /Users/huseinzolkepli/Documents/tf-1.15/env/lib/python3.7/site-packages/tensorflow_core/python/ops/resource_variable_ops.py:1630: calling BaseResourceVariable.__init__ (from tensorflow.python.ops.resource_variable_ops) with constraint is deprecated and will be removed in a future version.\n",
      "Instructions for updating:\n",
      "If using Keras pass *_constraint arguments to layers.\n"
     ]
    }
   ],
   "source": [
    "encoder_outputs, mel_before, mel_after, codes, attention = model(mel, ori_vector, target_vector, mel_lengths)"
   ]
  },
  {
   "cell_type": "code",
   "execution_count": 10,
   "id": "french-place",
   "metadata": {
    "scrolled": true
   },
   "outputs": [
    {
     "data": {
      "text/plain": [
       "(<tf.Tensor 'fastvc/Encoder/encoder/layer_._0/attention/self/dropout/dropout/mul_1:0' shape=(?, 2, ?, ?) dtype=float32>,\n",
       " <tf.Tensor 'fastvc/Encoder/encoder/layer_._1/attention/self/dropout_3/dropout/mul_1:0' shape=(?, 2, ?, ?) dtype=float32>,\n",
       " <tf.Tensor 'fastvc/Encoder/encoder/layer_._2/attention/self/dropout_6/dropout/mul_1:0' shape=(?, 2, ?, ?) dtype=float32>,\n",
       " <tf.Tensor 'fastvc/Encoder/encoder/layer_._3/attention/self/dropout_9/dropout/mul_1:0' shape=(?, 2, ?, ?) dtype=float32>)"
      ]
     },
     "execution_count": 10,
     "metadata": {},
     "output_type": "execute_result"
    }
   ],
   "source": [
    "attention"
   ]
  },
  {
   "cell_type": "code",
   "execution_count": 11,
   "id": "injured-rainbow",
   "metadata": {},
   "outputs": [],
   "source": [
    "codes_, attention_ = model.call_second(mel_after, ori_vector, mel_lengths)"
   ]
  },
  {
   "cell_type": "code",
   "execution_count": 12,
   "id": "acceptable-category",
   "metadata": {},
   "outputs": [
    {
     "data": {
      "text/plain": [
       "<tf.Tensor 'ExpandDims:0' shape=<unknown> dtype=float32>"
      ]
     },
     "execution_count": 12,
     "metadata": {},
     "output_type": "execute_result"
    }
   ],
   "source": [
    "loss_f = tf.losses.absolute_difference\n",
    "max_length = tf.cast(tf.reduce_max(mel_lengths), tf.int32)\n",
    "mask = tf.sequence_mask(\n",
    "    lengths = mel_lengths, maxlen = max_length, dtype = tf.float32\n",
    ")\n",
    "mask = tf.expand_dims(mask, axis = -1)\n",
    "mask"
   ]
  },
  {
   "cell_type": "code",
   "execution_count": 13,
   "id": "adult-ghana",
   "metadata": {},
   "outputs": [],
   "source": [
    "from functools import partial\n",
    "from malaya_speech.train.loss import calculate_2d_loss, calculate_3d_loss\n",
    "\n",
    "mse_mel = partial(\n",
    "    loss_f,\n",
    "    weights = mask\n",
    ")"
   ]
  },
  {
   "cell_type": "code",
   "execution_count": 14,
   "id": "equipped-quarterly",
   "metadata": {},
   "outputs": [
    {
     "name": "stdout",
     "output_type": "stream",
     "text": [
      "WARNING:tensorflow:From /Users/huseinzolkepli/Documents/tf-1.15/env/lib/python3.7/site-packages/tensorflow_core/python/ops/losses/losses_impl.py:121: where (from tensorflow.python.ops.array_ops) is deprecated and will be removed in a future version.\n",
      "Instructions for updating:\n",
      "Use tf.where in 2.0, which has the same broadcast rule as np.where\n"
     ]
    },
    {
     "data": {
      "text/plain": [
       "<tf.Tensor 'absolute_difference/value:0' shape=() dtype=float32>"
      ]
     },
     "execution_count": 14,
     "metadata": {},
     "output_type": "execute_result"
    }
   ],
   "source": [
    "mel_loss_before = calculate_3d_loss(mel, mel_before, mse_mel)\n",
    "mel_loss_before"
   ]
  },
  {
   "cell_type": "code",
   "execution_count": 15,
   "id": "tracked-advocate",
   "metadata": {},
   "outputs": [
    {
     "data": {
      "text/plain": [
       "<tf.Tensor 'absolute_difference_1/value:0' shape=() dtype=float32>"
      ]
     },
     "execution_count": 15,
     "metadata": {},
     "output_type": "execute_result"
    }
   ],
   "source": [
    "mel_loss_after = calculate_3d_loss(mel, mel_after, mse_mel)\n",
    "mel_loss_after"
   ]
  },
  {
   "cell_type": "code",
   "execution_count": 16,
   "id": "constitutional-distinction",
   "metadata": {},
   "outputs": [],
   "source": [
    "g_loss_cd = tf.losses.absolute_difference(codes, codes_)"
   ]
  },
  {
   "cell_type": "code",
   "execution_count": 17,
   "id": "generous-european",
   "metadata": {},
   "outputs": [
    {
     "data": {
      "text/plain": [
       "<tf.Tensor 'absolute_difference_3/value:0' shape=() dtype=float32>"
      ]
     },
     "execution_count": 17,
     "metadata": {},
     "output_type": "execute_result"
    }
   ],
   "source": [
    "g_loss_attention = tf.losses.absolute_difference(attention, attention_)\n",
    "g_loss_attention"
   ]
  },
  {
   "cell_type": "code",
   "execution_count": 18,
   "id": "dominican-omaha",
   "metadata": {},
   "outputs": [],
   "source": [
    "sess = tf.Session()\n",
    "sess.run(tf.global_variables_initializer())"
   ]
  },
  {
   "cell_type": "code",
   "execution_count": 19,
   "id": "golden-african",
   "metadata": {},
   "outputs": [],
   "source": [
    "o = sess.run([encoder_outputs, mel_before, mel_after, attention], feed_dict = {mel: [x_org] * 2,\n",
    "                                                                    ori_vector: c,\n",
    "                                                                    target_vector: c,\n",
    "                                                                    mel_lengths: [len(x_org)] * 2})"
   ]
  },
  {
   "cell_type": "code",
   "execution_count": 20,
   "id": "unique-mineral",
   "metadata": {},
   "outputs": [
    {
     "data": {
      "text/plain": [
       "((2, 90, 288), (2, 90, 80), (2, 90, 80))"
      ]
     },
     "execution_count": 20,
     "metadata": {},
     "output_type": "execute_result"
    }
   ],
   "source": [
    "o[0].shape, o[1].shape, o[2].shape"
   ]
  },
  {
   "cell_type": "code",
   "execution_count": 21,
   "id": "average-wesley",
   "metadata": {},
   "outputs": [
    {
     "data": {
      "text/plain": [
       "(2, 2, 90, 90)"
      ]
     },
     "execution_count": 21,
     "metadata": {},
     "output_type": "execute_result"
    }
   ],
   "source": [
    "o[3][0].shape"
   ]
  },
  {
   "cell_type": "code",
   "execution_count": 22,
   "id": "competent-prevention",
   "metadata": {},
   "outputs": [
    {
     "data": {
      "text/plain": [
       "(2, 2, 90, 90)"
      ]
     },
     "execution_count": 22,
     "metadata": {},
     "output_type": "execute_result"
    }
   ],
   "source": [
    "o[3][1].shape"
   ]
  },
  {
   "cell_type": "code",
   "execution_count": 23,
   "id": "noble-hazard",
   "metadata": {},
   "outputs": [
    {
     "data": {
      "text/plain": [
       "(2, 2, 90, 90)"
      ]
     },
     "execution_count": 23,
     "metadata": {},
     "output_type": "execute_result"
    }
   ],
   "source": [
    "o[3][2].shape"
   ]
  },
  {
   "cell_type": "code",
   "execution_count": 24,
   "id": "static-giant",
   "metadata": {},
   "outputs": [],
   "source": [
    "def average_by_duration(x, durs):\n",
    "    mel_len = durs.sum()\n",
    "    durs_cum = np.cumsum(np.pad(durs, (1, 0)))\n",
    "    \n",
    "    x_char = np.zeros((durs.shape[0],), dtype=np.float32)\n",
    "    for idx, start, end in zip(range(mel_len), durs_cum[:-1], durs_cum[1:]):\n",
    "        values = x[start:end][np.where(x[start:end] != 0.0)[0]]\n",
    "        x_char[idx] = np.mean(values) if len(values) > 0 else 0.0\n",
    "\n",
    "    return x_char.astype(np.float32)\n",
    "\n",
    "def get_duration_from_alignment(alignment):\n",
    "    D = np.array([0 for _ in range(np.shape(alignment)[0])])\n",
    "\n",
    "    for i in range(np.shape(alignment)[1]):\n",
    "        max_index = list(alignment[:, i]).index(alignment[:, i].max())\n",
    "        D[max_index] = D[max_index] + 1\n",
    "\n",
    "    return D"
   ]
  },
  {
   "cell_type": "code",
   "execution_count": 25,
   "id": "southern-practitioner",
   "metadata": {},
   "outputs": [
    {
     "data": {
      "text/plain": [
       "array([2, 3, 0, 0, 0, 1, 1, 2, 2, 0, 0, 1, 3, 0, 1, 0, 1, 2, 1, 2, 0, 0,\n",
       "       1, 0, 0, 1, 0, 0, 0, 3, 2, 0, 1, 0, 2, 0, 2, 1, 0, 0, 0, 6, 1, 1,\n",
       "       2, 0, 1, 0, 1, 0, 0, 2, 1, 2, 0, 0, 0, 1, 3, 1, 0, 2, 1, 0, 0, 0,\n",
       "       0, 1, 1, 6, 0, 1, 1, 1, 1, 0, 0, 3, 0, 0, 1, 1, 1, 0, 4, 3, 1, 0,\n",
       "       1, 3])"
      ]
     },
     "execution_count": 25,
     "metadata": {},
     "output_type": "execute_result"
    }
   ],
   "source": [
    "get_duration_from_alignment(o[3][-1][0,0])"
   ]
  },
  {
   "cell_type": "code",
   "execution_count": 26,
   "id": "configured-arrangement",
   "metadata": {},
   "outputs": [],
   "source": [
    "o = sess.run([mel_loss_before, mel_loss_after, g_loss_cd, g_loss_attention], feed_dict = {mel: [x_org] * 2,\n",
    "                                                                    ori_vector: c,\n",
    "                                                                    target_vector: c,\n",
    "                                                                    mel_lengths: [len(x_org)] * 2})"
   ]
  },
  {
   "cell_type": "code",
   "execution_count": 27,
   "id": "accurate-eight",
   "metadata": {},
   "outputs": [
    {
     "data": {
      "text/plain": [
       "[1.0245656, 1.3156967, 0.79576325, 0.0027572378]"
      ]
     },
     "execution_count": 27,
     "metadata": {},
     "output_type": "execute_result"
    }
   ],
   "source": [
    "o"
   ]
  }
 ],
 "metadata": {
  "kernelspec": {
   "display_name": "Python 3",
   "language": "python",
   "name": "python3"
  },
  "language_info": {
   "codemirror_mode": {
    "name": "ipython",
    "version": 3
   },
   "file_extension": ".py",
   "mimetype": "text/x-python",
   "name": "python",
   "nbconvert_exporter": "python",
   "pygments_lexer": "ipython3",
   "version": "3.7.7"
  }
 },
 "nbformat": 4,
 "nbformat_minor": 5
}

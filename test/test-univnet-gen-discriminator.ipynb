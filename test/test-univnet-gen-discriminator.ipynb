{
 "cells": [
  {
   "cell_type": "code",
   "execution_count": 1,
   "metadata": {},
   "outputs": [],
   "source": [
    "import os\n",
    "\n",
    "os.environ['CUDA_VISIBLE_DEVICES'] = '1'"
   ]
  },
  {
   "cell_type": "code",
   "execution_count": 2,
   "metadata": {},
   "outputs": [],
   "source": [
    "# !pip3 install tensorflow==1.15.5"
   ]
  },
  {
   "cell_type": "code",
   "execution_count": 3,
   "metadata": {},
   "outputs": [],
   "source": [
    "import tensorflow.compat.v1 as tf\n",
    "tf.disable_eager_execution()"
   ]
  },
  {
   "cell_type": "code",
   "execution_count": 4,
   "metadata": {},
   "outputs": [],
   "source": [
    "import sys\n",
    "\n",
    "SOURCE_DIR = os.path.dirname(os.path.dirname(os.path.abspath(__name__)))\n",
    "sys.path.insert(0, SOURCE_DIR)"
   ]
  },
  {
   "cell_type": "code",
   "execution_count": 5,
   "metadata": {},
   "outputs": [],
   "source": [
    "import malaya_speech\n",
    "import malaya_speech.config\n",
    "from malaya_speech.train.model.univnet import discriminator\n",
    "from malaya_speech.train.model.univnet import model\n",
    "from malaya_boilerplate.train import config\n",
    "import tensorflow as tf"
   ]
  },
  {
   "cell_type": "code",
   "execution_count": 6,
   "metadata": {},
   "outputs": [],
   "source": [
    "hparams = config.HParams(**malaya_speech.config.univnet_config_c16)"
   ]
  },
  {
   "cell_type": "code",
   "execution_count": 7,
   "metadata": {},
   "outputs": [],
   "source": [
    "discriminator = discriminator.Discriminator(hparams)"
   ]
  },
  {
   "cell_type": "code",
   "execution_count": 8,
   "metadata": {},
   "outputs": [],
   "source": [
    "generator = model.Generator(hparams)"
   ]
  },
  {
   "cell_type": "code",
   "execution_count": 9,
   "metadata": {},
   "outputs": [],
   "source": [
    "MEL = tf.placeholder(tf.float32, (None, None, 80))\n",
    "Y = tf.placeholder(tf.float32, (None, None))"
   ]
  },
  {
   "cell_type": "code",
   "execution_count": 10,
   "metadata": {},
   "outputs": [],
   "source": [
    "z = tf.random.normal(shape = (tf.shape(MEL)[0], tf.shape(MEL)[1], 64))"
   ]
  },
  {
   "cell_type": "code",
   "execution_count": 11,
   "metadata": {
    "scrolled": true
   },
   "outputs": [
    {
     "name": "stdout",
     "output_type": "stream",
     "text": [
      "WARNING:tensorflow:From /Library/Frameworks/Python.framework/Versions/3.7/lib/python3.7/site-packages/tensorflow_core/python/ops/resource_variable_ops.py:1630: calling BaseResourceVariable.__init__ (from tensorflow.python.ops.resource_variable_ops) with constraint is deprecated and will be removed in a future version.\n",
      "Instructions for updating:\n",
      "If using Keras pass *_constraint arguments to layers.\n"
     ]
    },
    {
     "data": {
      "text/plain": [
       "<tf.Tensor 'generator/sequential_1/activation/Tanh:0' shape=(?, ?, 1) dtype=float32>"
      ]
     },
     "execution_count": 11,
     "metadata": {},
     "output_type": "execute_result"
    }
   ],
   "source": [
    "y_ = generator(MEL, z = z)\n",
    "y_"
   ]
  },
  {
   "cell_type": "code",
   "execution_count": 12,
   "metadata": {},
   "outputs": [],
   "source": [
    "from malaya_speech.train.model import stft\n",
    "from malaya_boilerplate.train.loss import calculate_2d_loss, calculate_3d_loss\n",
    "\n",
    "stft_loss = stft.loss.MultiResolutionSTFT()\n",
    "sc_loss, mag_loss = calculate_2d_loss(\n",
    "    Y, tf.squeeze(y_, -1), stft_loss\n",
    ")"
   ]
  },
  {
   "cell_type": "code",
   "execution_count": 13,
   "metadata": {},
   "outputs": [],
   "source": [
    "stft_loss = (sc_loss + mag_loss) * hparams.train.stft_lamb"
   ]
  },
  {
   "cell_type": "code",
   "execution_count": 14,
   "metadata": {
    "scrolled": false
   },
   "outputs": [],
   "source": [
    "res_fake, period_fake = discriminator(y_)"
   ]
  },
  {
   "cell_type": "code",
   "execution_count": 15,
   "metadata": {},
   "outputs": [],
   "source": [
    "score_loss = 0.0\n",
    "for (_, score_fake) in res_fake + period_fake:\n",
    "    score_loss += tf.reduce_mean(tf.pow(score_fake - 1.0, 2))"
   ]
  },
  {
   "cell_type": "code",
   "execution_count": 16,
   "metadata": {},
   "outputs": [],
   "source": [
    "score_loss = score_loss / len(res_fake + period_fake)\n",
    "loss_g = score_loss + stft_loss"
   ]
  },
  {
   "cell_type": "code",
   "execution_count": 17,
   "metadata": {},
   "outputs": [],
   "source": [
    "res_fake, period_fake = discriminator(tf.stop_gradient(y_))\n",
    "res_real, period_real = discriminator(tf.expand_dims(Y, -1))"
   ]
  },
  {
   "cell_type": "code",
   "execution_count": 18,
   "metadata": {
    "scrolled": true
   },
   "outputs": [],
   "source": [
    "loss_d = 0.0\n",
    "for (_, score_fake), (_, score_real) in zip(res_fake + period_fake, res_real + period_real):\n",
    "    loss_d += tf.reduce_mean(tf.pow(score_real - 1.0, 2))\n",
    "    loss_d += tf.reduce_mean(tf.pow(score_fake, 2))\n",
    "    \n",
    "loss_d = loss_d / len(res_fake + period_fake)"
   ]
  },
  {
   "cell_type": "code",
   "execution_count": 19,
   "metadata": {},
   "outputs": [],
   "source": [
    "sess = tf.Session()\n",
    "sess.run(tf.global_variables_initializer())"
   ]
  },
  {
   "cell_type": "code",
   "execution_count": 20,
   "metadata": {},
   "outputs": [
    {
     "data": {
      "text/plain": [
       "['../speech/example-speaker/haqkiem.wav',\n",
       " '../speech/example-speaker/husein-generated.wav',\n",
       " '../speech/example-speaker/khalil-nooh.wav',\n",
       " '../speech/example-speaker/muhyiddin-yassin.wav',\n",
       " '../speech/example-speaker/mas-aisyah.wav',\n",
       " '../speech/example-speaker/female.wav',\n",
       " '../speech/example-speaker/shafiqah-idayu.wav',\n",
       " '../speech/example-speaker/husein-zolkepli.wav']"
      ]
     },
     "execution_count": 20,
     "metadata": {},
     "output_type": "execute_result"
    }
   ],
   "source": [
    "from glob import glob\n",
    "\n",
    "audios = glob('../speech/example-speaker/*.wav')\n",
    "audios"
   ]
  },
  {
   "cell_type": "code",
   "execution_count": 28,
   "metadata": {},
   "outputs": [
    {
     "data": {
      "text/plain": [
       "(181504,)"
      ]
     },
     "execution_count": 28,
     "metadata": {},
     "output_type": "execute_result"
    }
   ],
   "source": [
    "audio, _ = malaya_speech.load(audios[0], sr = 22050)\n",
    "audio.shape"
   ]
  },
  {
   "cell_type": "code",
   "execution_count": 29,
   "metadata": {},
   "outputs": [
    {
     "data": {
      "text/plain": [
       "(710, 80)"
      ]
     },
     "execution_count": 29,
     "metadata": {},
     "output_type": "execute_result"
    }
   ],
   "source": [
    "from malaya_speech.utils.featurization import universal_mel\n",
    "\n",
    "mel = universal_mel(audio)\n",
    "mel.shape"
   ]
  },
  {
   "cell_type": "code",
   "execution_count": 30,
   "metadata": {},
   "outputs": [
    {
     "data": {
      "text/plain": [
       "(1, 181760, 1)"
      ]
     },
     "execution_count": 30,
     "metadata": {},
     "output_type": "execute_result"
    }
   ],
   "source": [
    "out_ = sess.run(y_, feed_dict = {MEL: [mel]})\n",
    "out_.shape"
   ]
  },
  {
   "cell_type": "code",
   "execution_count": 26,
   "metadata": {},
   "outputs": [],
   "source": [
    "import random\n",
    "\n",
    "batch_max_steps=8192\n",
    "hop_size=256\n",
    "\n",
    "batch_max_frames = batch_max_steps // hop_size\n",
    "if len(audio) < len(mel) * hop_size:\n",
    "    audio = np.pad(audio, [[0, len(mel) * hop_size - len(audio)]])\n",
    "\n",
    "if len(mel) > batch_max_frames:\n",
    "    interval_start = 0\n",
    "    interval_end = len(mel) - batch_max_frames\n",
    "    start_frame = random.randint(interval_start, interval_end)\n",
    "    start_step = start_frame * hop_size\n",
    "    audio = audio[start_step: start_step + batch_max_steps]\n",
    "    mel = mel[start_frame: start_frame + batch_max_frames, :]\n",
    "else:\n",
    "    audio = np.pad(audio, [[0, batch_max_steps - len(audio)]])\n",
    "    mel = np.pad(mel, [[0, batch_max_frames - len(mel)], [0, 0]])"
   ]
  },
  {
   "cell_type": "code",
   "execution_count": 27,
   "metadata": {},
   "outputs": [
    {
     "data": {
      "text/plain": [
       "((8192,), (32, 80))"
      ]
     },
     "execution_count": 27,
     "metadata": {},
     "output_type": "execute_result"
    }
   ],
   "source": [
    "audio.shape, mel.shape"
   ]
  },
  {
   "cell_type": "code",
   "execution_count": 31,
   "metadata": {},
   "outputs": [
    {
     "data": {
      "text/plain": [
       "<tf.Tensor 'add_9:0' shape=(?,) dtype=float32>"
      ]
     },
     "execution_count": 31,
     "metadata": {},
     "output_type": "execute_result"
    }
   ],
   "source": [
    "loss_g"
   ]
  },
  {
   "cell_type": "code",
   "execution_count": 35,
   "metadata": {},
   "outputs": [
    {
     "data": {
      "text/plain": [
       "array([25.581398], dtype=float32)"
      ]
     },
     "execution_count": 35,
     "metadata": {},
     "output_type": "execute_result"
    }
   ],
   "source": [
    "out_ = sess.run(loss_g, feed_dict = {MEL: [mel], Y: [audio]})\n",
    "out_"
   ]
  },
  {
   "cell_type": "code",
   "execution_count": 34,
   "metadata": {},
   "outputs": [
    {
     "data": {
      "text/plain": [
       "1.4679272"
      ]
     },
     "execution_count": 34,
     "metadata": {},
     "output_type": "execute_result"
    }
   ],
   "source": [
    "out_ = sess.run(loss_d, feed_dict = {MEL: [mel], Y: [audio]})\n",
    "out_"
   ]
  }
 ],
 "metadata": {
  "kernelspec": {
   "display_name": "Python 3",
   "language": "python",
   "name": "python3"
  },
  "language_info": {
   "codemirror_mode": {
    "name": "ipython",
    "version": 3
   },
   "file_extension": ".py",
   "mimetype": "text/x-python",
   "name": "python",
   "nbconvert_exporter": "python",
   "pygments_lexer": "ipython3",
   "version": "3.7.7"
  },
  "varInspector": {
   "cols": {
    "lenName": 16,
    "lenType": 16,
    "lenVar": 40
   },
   "kernels_config": {
    "python": {
     "delete_cmd_postfix": "",
     "delete_cmd_prefix": "del ",
     "library": "var_list.py",
     "varRefreshCmd": "print(var_dic_list())"
    },
    "r": {
     "delete_cmd_postfix": ") ",
     "delete_cmd_prefix": "rm(",
     "library": "var_list.r",
     "varRefreshCmd": "cat(var_dic_list()) "
    }
   },
   "types_to_exclude": [
    "module",
    "function",
    "builtin_function_or_method",
    "instance",
    "_Feature"
   ],
   "window_display": false
  }
 },
 "nbformat": 4,
 "nbformat_minor": 4
}

{
 "cells": [
  {
   "cell_type": "code",
   "execution_count": 1,
   "metadata": {},
   "outputs": [],
   "source": [
    "import os\n",
    "\n",
    "os.environ['CUDA_VISIBLE_DEVICES'] = '1'"
   ]
  },
  {
   "cell_type": "code",
   "execution_count": 2,
   "metadata": {},
   "outputs": [],
   "source": [
    "# !pip3 install tensorflow==1.15.5"
   ]
  },
  {
   "cell_type": "code",
   "execution_count": 3,
   "metadata": {},
   "outputs": [],
   "source": [
    "import tensorflow.compat.v1 as tf\n",
    "tf.disable_eager_execution()"
   ]
  },
  {
   "cell_type": "code",
   "execution_count": 4,
   "metadata": {},
   "outputs": [],
   "source": [
    "import sys\n",
    "\n",
    "SOURCE_DIR = os.path.dirname(os.path.dirname(os.path.abspath(__name__)))\n",
    "sys.path.insert(0, SOURCE_DIR)"
   ]
  },
  {
   "cell_type": "code",
   "execution_count": 5,
   "metadata": {},
   "outputs": [],
   "source": [
    "import malaya_speech\n",
    "import malaya_speech.config\n",
    "from malaya_speech.train.model.univnet import discriminator\n",
    "from malaya_speech.train.model.univnet import model\n",
    "from malaya_boilerplate.train import config"
   ]
  },
  {
   "cell_type": "code",
   "execution_count": 6,
   "metadata": {},
   "outputs": [],
   "source": [
    "hparams = config.HParams(**malaya_speech.config.univnet_config_c16)"
   ]
  },
  {
   "cell_type": "code",
   "execution_count": 7,
   "metadata": {},
   "outputs": [],
   "source": [
    "discriminator = discriminator.Discriminator(hparams)"
   ]
  },
  {
   "cell_type": "code",
   "execution_count": 8,
   "metadata": {},
   "outputs": [],
   "source": [
    "generator = model.Generator(hparams)"
   ]
  },
  {
   "cell_type": "code",
   "execution_count": 9,
   "metadata": {},
   "outputs": [],
   "source": [
    "x = tf.random.normal(shape = (3, 16000, 1))"
   ]
  },
  {
   "cell_type": "code",
   "execution_count": 10,
   "metadata": {
    "scrolled": true
   },
   "outputs": [
    {
     "name": "stdout",
     "output_type": "stream",
     "text": [
      "<malaya_speech.train.model.melgan.layer.WeightNormalization object at 0x1550412d0>\n",
      "WARNING:tensorflow:From /Library/Frameworks/Python.framework/Versions/3.7/lib/python3.7/site-packages/tensorflow_core/python/ops/resource_variable_ops.py:1630: calling BaseResourceVariable.__init__ (from tensorflow.python.ops.resource_variable_ops) with constraint is deprecated and will be removed in a future version.\n",
      "Instructions for updating:\n",
      "If using Keras pass *_constraint arguments to layers.\n",
      "<malaya_speech.train.model.melgan.layer.WeightNormalization object at 0x155055990>\n",
      "<malaya_speech.train.model.melgan.layer.WeightNormalization object at 0x155063ad0>\n",
      "<malaya_speech.train.model.melgan.layer.WeightNormalization object at 0x1550a4310>\n",
      "<malaya_speech.train.model.melgan.layer.WeightNormalization object at 0x1550a49d0>\n",
      "<malaya_speech.train.model.melgan.layer.WeightNormalization object at 0x1550afa50>\n",
      "<malaya_speech.train.model.melgan.layer.WeightNormalization object at 0x1550aff50>\n",
      "<malaya_speech.train.model.melgan.layer.WeightNormalization object at 0x1550b9890>\n",
      "<malaya_speech.train.model.melgan.layer.WeightNormalization object at 0x1550b9f90>\n",
      "<malaya_speech.train.model.melgan.layer.WeightNormalization object at 0x1550c1690>\n",
      "<malaya_speech.train.model.melgan.layer.WeightNormalization object at 0x1550cb6d0>\n",
      "<malaya_speech.train.model.melgan.layer.WeightNormalization object at 0x1550cbdd0>\n",
      "<malaya_speech.train.model.melgan.layer.WeightNormalization object at 0x1550d2510>\n",
      "<malaya_speech.train.model.melgan.layer.WeightNormalization object at 0x1550d2b90>\n",
      "<malaya_speech.train.model.melgan.layer.WeightNormalization object at 0x1550da290>\n"
     ]
    },
    {
     "data": {
      "text/plain": [
       "([([<tf.Tensor 'discriminator/multi_resolution_discriminator/discriminator_r/leaky_re_lu_49/LeakyRelu:0' shape=(3, 136, 513, 32) dtype=float32>,\n",
       "    <tf.Tensor 'discriminator/multi_resolution_discriminator/discriminator_r/leaky_re_lu_50/LeakyRelu:0' shape=(3, 136, 257, 32) dtype=float32>,\n",
       "    <tf.Tensor 'discriminator/multi_resolution_discriminator/discriminator_r/leaky_re_lu_51/LeakyRelu:0' shape=(3, 136, 129, 32) dtype=float32>,\n",
       "    <tf.Tensor 'discriminator/multi_resolution_discriminator/discriminator_r/leaky_re_lu_52/LeakyRelu:0' shape=(3, 136, 65, 32) dtype=float32>,\n",
       "    <tf.Tensor 'discriminator/multi_resolution_discriminator/discriminator_r/leaky_re_lu_53/LeakyRelu:0' shape=(3, 136, 65, 32) dtype=float32>,\n",
       "    <tf.Tensor 'discriminator/multi_resolution_discriminator/discriminator_r/weight_normalization_5/conv2d_5/BiasAdd:0' shape=(3, 136, 65, 1) dtype=float32>],\n",
       "   <tf.Tensor 'discriminator/multi_resolution_discriminator/discriminator_r/Reshape:0' shape=(3, 8840) dtype=float32>),\n",
       "  ([<tf.Tensor 'discriminator/multi_resolution_discriminator/discriminator_r_1/leaky_re_lu_54/LeakyRelu:0' shape=(3, 70, 1025, 32) dtype=float32>,\n",
       "    <tf.Tensor 'discriminator/multi_resolution_discriminator/discriminator_r_1/leaky_re_lu_55/LeakyRelu:0' shape=(3, 70, 513, 32) dtype=float32>,\n",
       "    <tf.Tensor 'discriminator/multi_resolution_discriminator/discriminator_r_1/leaky_re_lu_56/LeakyRelu:0' shape=(3, 70, 257, 32) dtype=float32>,\n",
       "    <tf.Tensor 'discriminator/multi_resolution_discriminator/discriminator_r_1/leaky_re_lu_57/LeakyRelu:0' shape=(3, 70, 129, 32) dtype=float32>,\n",
       "    <tf.Tensor 'discriminator/multi_resolution_discriminator/discriminator_r_1/leaky_re_lu_58/LeakyRelu:0' shape=(3, 70, 129, 32) dtype=float32>,\n",
       "    <tf.Tensor 'discriminator/multi_resolution_discriminator/discriminator_r_1/weight_normalization_11/conv2d_11/BiasAdd:0' shape=(3, 70, 129, 1) dtype=float32>],\n",
       "   <tf.Tensor 'discriminator/multi_resolution_discriminator/discriminator_r_1/Reshape:0' shape=(3, 9030) dtype=float32>),\n",
       "  ([<tf.Tensor 'discriminator/multi_resolution_discriminator/discriminator_r_2/leaky_re_lu_59/LeakyRelu:0' shape=(3, 325, 257, 32) dtype=float32>,\n",
       "    <tf.Tensor 'discriminator/multi_resolution_discriminator/discriminator_r_2/leaky_re_lu_60/LeakyRelu:0' shape=(3, 325, 129, 32) dtype=float32>,\n",
       "    <tf.Tensor 'discriminator/multi_resolution_discriminator/discriminator_r_2/leaky_re_lu_61/LeakyRelu:0' shape=(3, 325, 65, 32) dtype=float32>,\n",
       "    <tf.Tensor 'discriminator/multi_resolution_discriminator/discriminator_r_2/leaky_re_lu_62/LeakyRelu:0' shape=(3, 325, 33, 32) dtype=float32>,\n",
       "    <tf.Tensor 'discriminator/multi_resolution_discriminator/discriminator_r_2/leaky_re_lu_63/LeakyRelu:0' shape=(3, 325, 33, 32) dtype=float32>,\n",
       "    <tf.Tensor 'discriminator/multi_resolution_discriminator/discriminator_r_2/weight_normalization_17/conv2d_17/BiasAdd:0' shape=(3, 325, 33, 1) dtype=float32>],\n",
       "   <tf.Tensor 'discriminator/multi_resolution_discriminator/discriminator_r_2/Reshape:0' shape=(3, 10725) dtype=float32>)],\n",
       " [([<tf.Tensor 'discriminator/multi_period_discriminator/discriminator_p/leaky_re_lu_64/LeakyRelu:0' shape=(3, ?, 2, 64) dtype=float32>,\n",
       "    <tf.Tensor 'discriminator/multi_period_discriminator/discriminator_p/leaky_re_lu_65/LeakyRelu:0' shape=(3, ?, 2, 128) dtype=float32>,\n",
       "    <tf.Tensor 'discriminator/multi_period_discriminator/discriminator_p/leaky_re_lu_66/LeakyRelu:0' shape=(3, ?, 2, 256) dtype=float32>,\n",
       "    <tf.Tensor 'discriminator/multi_period_discriminator/discriminator_p/leaky_re_lu_67/LeakyRelu:0' shape=(3, ?, 2, 512) dtype=float32>,\n",
       "    <tf.Tensor 'discriminator/multi_period_discriminator/discriminator_p/leaky_re_lu_68/LeakyRelu:0' shape=(3, ?, 2, 1024) dtype=float32>,\n",
       "    <tf.Tensor 'discriminator/multi_period_discriminator/discriminator_p/weight_normalization_23/conv2d_23/BiasAdd:0' shape=(3, ?, 2, 1) dtype=float32>],\n",
       "   <tf.Tensor 'discriminator/multi_period_discriminator/discriminator_p/Reshape_1:0' shape=(3, ?) dtype=float32>),\n",
       "  ([<tf.Tensor 'discriminator/multi_period_discriminator/discriminator_p_1/leaky_re_lu_69/LeakyRelu:0' shape=(3, ?, 3, 64) dtype=float32>,\n",
       "    <tf.Tensor 'discriminator/multi_period_discriminator/discriminator_p_1/leaky_re_lu_70/LeakyRelu:0' shape=(3, ?, 3, 128) dtype=float32>,\n",
       "    <tf.Tensor 'discriminator/multi_period_discriminator/discriminator_p_1/leaky_re_lu_71/LeakyRelu:0' shape=(3, ?, 3, 256) dtype=float32>,\n",
       "    <tf.Tensor 'discriminator/multi_period_discriminator/discriminator_p_1/leaky_re_lu_72/LeakyRelu:0' shape=(3, ?, 3, 512) dtype=float32>,\n",
       "    <tf.Tensor 'discriminator/multi_period_discriminator/discriminator_p_1/leaky_re_lu_73/LeakyRelu:0' shape=(3, ?, 3, 1024) dtype=float32>,\n",
       "    <tf.Tensor 'discriminator/multi_period_discriminator/discriminator_p_1/weight_normalization_29/conv2d_29/BiasAdd:0' shape=(3, ?, 3, 1) dtype=float32>],\n",
       "   <tf.Tensor 'discriminator/multi_period_discriminator/discriminator_p_1/Reshape_1:0' shape=(3, ?) dtype=float32>),\n",
       "  ([<tf.Tensor 'discriminator/multi_period_discriminator/discriminator_p_2/leaky_re_lu_74/LeakyRelu:0' shape=(3, ?, 5, 64) dtype=float32>,\n",
       "    <tf.Tensor 'discriminator/multi_period_discriminator/discriminator_p_2/leaky_re_lu_75/LeakyRelu:0' shape=(3, ?, 5, 128) dtype=float32>,\n",
       "    <tf.Tensor 'discriminator/multi_period_discriminator/discriminator_p_2/leaky_re_lu_76/LeakyRelu:0' shape=(3, ?, 5, 256) dtype=float32>,\n",
       "    <tf.Tensor 'discriminator/multi_period_discriminator/discriminator_p_2/leaky_re_lu_77/LeakyRelu:0' shape=(3, ?, 5, 512) dtype=float32>,\n",
       "    <tf.Tensor 'discriminator/multi_period_discriminator/discriminator_p_2/leaky_re_lu_78/LeakyRelu:0' shape=(3, ?, 5, 1024) dtype=float32>,\n",
       "    <tf.Tensor 'discriminator/multi_period_discriminator/discriminator_p_2/weight_normalization_35/conv2d_35/BiasAdd:0' shape=(3, ?, 5, 1) dtype=float32>],\n",
       "   <tf.Tensor 'discriminator/multi_period_discriminator/discriminator_p_2/Reshape_1:0' shape=(3, ?) dtype=float32>),\n",
       "  ([<tf.Tensor 'discriminator/multi_period_discriminator/discriminator_p_3/leaky_re_lu_79/LeakyRelu:0' shape=(3, ?, 7, 64) dtype=float32>,\n",
       "    <tf.Tensor 'discriminator/multi_period_discriminator/discriminator_p_3/leaky_re_lu_80/LeakyRelu:0' shape=(3, ?, 7, 128) dtype=float32>,\n",
       "    <tf.Tensor 'discriminator/multi_period_discriminator/discriminator_p_3/leaky_re_lu_81/LeakyRelu:0' shape=(3, ?, 7, 256) dtype=float32>,\n",
       "    <tf.Tensor 'discriminator/multi_period_discriminator/discriminator_p_3/leaky_re_lu_82/LeakyRelu:0' shape=(3, ?, 7, 512) dtype=float32>,\n",
       "    <tf.Tensor 'discriminator/multi_period_discriminator/discriminator_p_3/leaky_re_lu_83/LeakyRelu:0' shape=(3, ?, 7, 1024) dtype=float32>,\n",
       "    <tf.Tensor 'discriminator/multi_period_discriminator/discriminator_p_3/weight_normalization_41/conv2d_41/BiasAdd:0' shape=(3, ?, 7, 1) dtype=float32>],\n",
       "   <tf.Tensor 'discriminator/multi_period_discriminator/discriminator_p_3/Reshape_1:0' shape=(3, ?) dtype=float32>),\n",
       "  ([<tf.Tensor 'discriminator/multi_period_discriminator/discriminator_p_4/leaky_re_lu_84/LeakyRelu:0' shape=(3, ?, 11, 64) dtype=float32>,\n",
       "    <tf.Tensor 'discriminator/multi_period_discriminator/discriminator_p_4/leaky_re_lu_85/LeakyRelu:0' shape=(3, ?, 11, 128) dtype=float32>,\n",
       "    <tf.Tensor 'discriminator/multi_period_discriminator/discriminator_p_4/leaky_re_lu_86/LeakyRelu:0' shape=(3, ?, 11, 256) dtype=float32>,\n",
       "    <tf.Tensor 'discriminator/multi_period_discriminator/discriminator_p_4/leaky_re_lu_87/LeakyRelu:0' shape=(3, ?, 11, 512) dtype=float32>,\n",
       "    <tf.Tensor 'discriminator/multi_period_discriminator/discriminator_p_4/leaky_re_lu_88/LeakyRelu:0' shape=(3, ?, 11, 1024) dtype=float32>,\n",
       "    <tf.Tensor 'discriminator/multi_period_discriminator/discriminator_p_4/weight_normalization_47/conv2d_47/BiasAdd:0' shape=(3, ?, 11, 1) dtype=float32>],\n",
       "   <tf.Tensor 'discriminator/multi_period_discriminator/discriminator_p_4/Reshape_1:0' shape=(3, ?) dtype=float32>)])"
      ]
     },
     "execution_count": 10,
     "metadata": {},
     "output_type": "execute_result"
    }
   ],
   "source": [
    "out = discriminator(x)\n",
    "out"
   ]
  },
  {
   "cell_type": "code",
   "execution_count": 11,
   "metadata": {},
   "outputs": [],
   "source": [
    "c = tf.placeholder(tf.float32, (None, None, 80))\n",
    "z = tf.random.normal(shape = (tf.shape(c)[0], tf.shape(c)[1], 64))"
   ]
  },
  {
   "cell_type": "code",
   "execution_count": 13,
   "metadata": {},
   "outputs": [
    {
     "data": {
      "text/plain": [
       "<tf.Tensor 'random_normal_1:0' shape=(?, ?, 64) dtype=float32>"
      ]
     },
     "execution_count": 13,
     "metadata": {},
     "output_type": "execute_result"
    }
   ],
   "source": [
    "z"
   ]
  },
  {
   "cell_type": "code",
   "execution_count": 12,
   "metadata": {},
   "outputs": [],
   "source": [
    "out_gen = generator(c, z = z)"
   ]
  },
  {
   "cell_type": "code",
   "execution_count": 14,
   "metadata": {},
   "outputs": [
    {
     "data": {
      "text/plain": [
       "<tf.Tensor 'generator/sequential_1/activation/Tanh:0' shape=(?, ?, 1) dtype=float32>"
      ]
     },
     "execution_count": 14,
     "metadata": {},
     "output_type": "execute_result"
    }
   ],
   "source": [
    "out_gen"
   ]
  },
  {
   "cell_type": "code",
   "execution_count": 15,
   "metadata": {},
   "outputs": [],
   "source": [
    "sess = tf.Session()\n",
    "sess.run(tf.global_variables_initializer())"
   ]
  },
  {
   "cell_type": "code",
   "execution_count": 16,
   "metadata": {},
   "outputs": [],
   "source": [
    "out_ = sess.run(out)"
   ]
  },
  {
   "cell_type": "code",
   "execution_count": 19,
   "metadata": {},
   "outputs": [
    {
     "name": "stdout",
     "output_type": "stream",
     "text": [
      "CPU times: user 922 ms, sys: 474 ms, total: 1.4 s\n",
      "Wall time: 295 ms\n"
     ]
    }
   ],
   "source": [
    "%%time\n",
    "\n",
    "out_gen_ = sess.run(out_gen, feed_dict = {c: np.random.normal(size = (2, 100, 80))})\n",
    "out_gen_.shape"
   ]
  },
  {
   "cell_type": "code",
   "execution_count": 25,
   "metadata": {},
   "outputs": [
    {
     "name": "stdout",
     "output_type": "stream",
     "text": [
      "CPU times: user 8.56 s, sys: 4.09 s, total: 12.6 s\n",
      "Wall time: 2.63 s\n"
     ]
    },
    {
     "data": {
      "text/plain": [
       "(2, 256000, 1)"
      ]
     },
     "execution_count": 25,
     "metadata": {},
     "output_type": "execute_result"
    }
   ],
   "source": [
    "%%time\n",
    "\n",
    "out_gen_ = sess.run(out_gen, feed_dict = {c: np.random.normal(size = (2, 1000, 80))})\n",
    "out_gen_.shape"
   ]
  },
  {
   "cell_type": "code",
   "execution_count": 21,
   "metadata": {},
   "outputs": [],
   "source": [
    "from malaya_speech.utils.featurization import universal_mel"
   ]
  },
  {
   "cell_type": "code",
   "execution_count": 26,
   "metadata": {},
   "outputs": [
    {
     "data": {
      "text/plain": [
       "(1001, 80)"
      ]
     },
     "execution_count": 26,
     "metadata": {},
     "output_type": "execute_result"
    }
   ],
   "source": [
    "universal_mel(out_gen_[0,:,0]).shape"
   ]
  }
 ],
 "metadata": {
  "kernelspec": {
   "display_name": "Python 3",
   "language": "python",
   "name": "python3"
  },
  "language_info": {
   "codemirror_mode": {
    "name": "ipython",
    "version": 3
   },
   "file_extension": ".py",
   "mimetype": "text/x-python",
   "name": "python",
   "nbconvert_exporter": "python",
   "pygments_lexer": "ipython3",
   "version": "3.7.7"
  },
  "varInspector": {
   "cols": {
    "lenName": 16,
    "lenType": 16,
    "lenVar": 40
   },
   "kernels_config": {
    "python": {
     "delete_cmd_postfix": "",
     "delete_cmd_prefix": "del ",
     "library": "var_list.py",
     "varRefreshCmd": "print(var_dic_list())"
    },
    "r": {
     "delete_cmd_postfix": ") ",
     "delete_cmd_prefix": "rm(",
     "library": "var_list.r",
     "varRefreshCmd": "cat(var_dic_list()) "
    }
   },
   "types_to_exclude": [
    "module",
    "function",
    "builtin_function_or_method",
    "instance",
    "_Feature"
   ],
   "window_display": false
  }
 },
 "nbformat": 4,
 "nbformat_minor": 4
}

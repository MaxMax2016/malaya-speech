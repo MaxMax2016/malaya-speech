{
 "cells": [
  {
   "cell_type": "code",
   "execution_count": 5,
   "metadata": {},
   "outputs": [],
   "source": [
    "from ctc_decoders import ctc_greedy_decoder, ctc_beam_search_decoder\n",
    "import numpy as np"
   ]
  },
  {
   "cell_type": "code",
   "execution_count": 6,
   "metadata": {},
   "outputs": [],
   "source": [
    "vocab_list = [\"\\'\", ' ', 'a', 'b', 'c', 'd']\n",
    "beam_size = 20\n",
    "probs_seq1 = [[\n",
    "    0.06390443, 0.21124858, 0.27323887, 0.06870235, 0.0361254,\n",
    "    0.18184413, 0.16493624\n",
    "], [\n",
    "    0.03309247, 0.22866108, 0.24390638, 0.09699597, 0.31895462,\n",
    "    0.0094893, 0.06890021\n",
    "], [\n",
    "    0.218104, 0.19992557, 0.18245131, 0.08503348, 0.14903535,\n",
    "    0.08424043, 0.08120984\n",
    "], [\n",
    "    0.12094152, 0.19162472, 0.01473646, 0.28045061, 0.24246305,\n",
    "    0.05206269, 0.09772094\n",
    "], [\n",
    "    0.1333387, 0.00550838, 0.00301669, 0.21745861, 0.20803985,\n",
    "    0.41317442, 0.01946335\n",
    "], [\n",
    "    0.16468227, 0.1980699, 0.1906545, 0.18963251, 0.19860937,\n",
    "    0.04377724, 0.01457421\n",
    "]]\n",
    "probs_seq2 = [[\n",
    "    0.08034842, 0.22671944, 0.05799633, 0.36814645, 0.11307441,\n",
    "    0.04468023, 0.10903471\n",
    "], [\n",
    "    0.09742457, 0.12959763, 0.09435383, 0.21889204, 0.15113123,\n",
    "    0.10219457, 0.20640612\n",
    "], [\n",
    "    0.45033529, 0.09091417, 0.15333208, 0.07939558, 0.08649316,\n",
    "    0.12298585, 0.01654384\n",
    "], [\n",
    "    0.02512238, 0.22079203, 0.19664364, 0.11906379, 0.07816055,\n",
    "    0.22538587, 0.13483174\n",
    "], [\n",
    "    0.17928453, 0.06065261, 0.41153005, 0.1172041, 0.11880313,\n",
    "    0.07113197, 0.04139363\n",
    "], [\n",
    "    0.15882358, 0.1235788, 0.23376776, 0.20510435, 0.00279306,\n",
    "    0.05294827, 0.22298418\n",
    "]]\n",
    "greedy_result = [\"ac'bdc\", \"b'da\"]\n",
    "beam_search_result = ['acdc', \"b'a\"]"
   ]
  },
  {
   "cell_type": "code",
   "execution_count": 14,
   "metadata": {},
   "outputs": [
    {
     "data": {
      "text/plain": [
       "True"
      ]
     },
     "execution_count": 14,
     "metadata": {},
     "output_type": "execute_result"
    }
   ],
   "source": [
    "ctc_greedy_decoder(np.array(probs_seq1), vocab_list) == greedy_result[0]"
   ]
  }
 ],
 "metadata": {
  "kernelspec": {
   "display_name": "Python 3",
   "language": "python",
   "name": "python3"
  },
  "language_info": {
   "codemirror_mode": {
    "name": "ipython",
    "version": 3
   },
   "file_extension": ".py",
   "mimetype": "text/x-python",
   "name": "python",
   "nbconvert_exporter": "python",
   "pygments_lexer": "ipython3",
   "version": "3.7.7"
  }
 },
 "nbformat": 4,
 "nbformat_minor": 4
}

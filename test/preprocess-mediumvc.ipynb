{
 "cells": [
  {
   "cell_type": "code",
   "execution_count": 1,
   "metadata": {},
   "outputs": [],
   "source": [
    "import os\n",
    "\n",
    "os.environ['CUDA_VISIBLE_DEVICES'] = '1'\n",
    "os.environ['TF_FORCE_GPU_ALLOW_GROWTH'] = 'true'"
   ]
  },
  {
   "cell_type": "code",
   "execution_count": 2,
   "metadata": {},
   "outputs": [],
   "source": [
    "# !wget https://huggingface.co/huseinzol05/jik876-UNIVERSAL_V1/raw/main/config.json -O hifigan-config.json"
   ]
  },
  {
   "cell_type": "code",
   "execution_count": 3,
   "metadata": {},
   "outputs": [
    {
     "name": "stderr",
     "output_type": "stream",
     "text": [
      "`pyaudio` is not available, `malaya_speech.streaming.pyaudio` is not able to use.\n"
     ]
    }
   ],
   "source": [
    "import malaya_speech\n",
    "import torch\n",
    "import json\n",
    "from librosa.util import normalize\n",
    "from torch.nn.utils.rnn import pad_sequence\n",
    "from malaya_speech.augmentation.waveform import random_sampling\n",
    "from malaya_speech.torch_model.hifivoice.env import AttrDict\n",
    "from malaya_speech.torch_model.hifivoice.meldataset import mel_spectrogram, mel_normalize\n",
    "from malaya_speech.torch_model.mediumvc.any2any import MagicModel"
   ]
  },
  {
   "cell_type": "code",
   "execution_count": 4,
   "metadata": {},
   "outputs": [],
   "source": [
    "speaker_v = malaya_speech.speaker_vector.nemo(model = 'huseinzol05/nemo-titanet_large', \n",
    "                                              local_files_only=True)\n",
    "\n",
    "_ = speaker_v.cuda()\n",
    "_ = speaker_v.eval()"
   ]
  },
  {
   "cell_type": "code",
   "execution_count": 5,
   "metadata": {},
   "outputs": [],
   "source": [
    "config = 'hifigan-config.json'\n",
    "with open(config) as fopen:\n",
    "    json_config = json.load(fopen)\n",
    "    \n",
    "config = AttrDict(json_config)"
   ]
  },
  {
   "cell_type": "code",
   "execution_count": 6,
   "metadata": {},
   "outputs": [],
   "source": [
    "y, _ = malaya_speech.load('speech/example-speaker/husein-zolkepli.wav', sr = 22050)\n",
    "y = random_sampling(y, 22050, length = 8000)\n",
    "y_16k, _ = malaya_speech.load('speech/example-speaker/husein-zolkepli.wav')\n",
    "spk_emb = speaker_v([y_16k])[0]\n",
    "spk_emb = normalize(spk_emb)"
   ]
  },
  {
   "cell_type": "code",
   "execution_count": 7,
   "metadata": {},
   "outputs": [
    {
     "name": "stderr",
     "output_type": "stream",
     "text": [
      "/home/husein/.local/lib/python3.8/site-packages/torch/functional.py:632: UserWarning: stft will soon require the return_complex parameter be given for real inputs, and will further require that return_complex=True in a future PyTorch release. (Triggered internally at ../aten/src/ATen/native/SpectralOps.cpp:801.)\n",
      "  return _VF.stft(input, n_fft, hop_length, win_length, window,  # type: ignore[attr-defined]\n"
     ]
    }
   ],
   "source": [
    "audio = normalize(y) * 0.95\n",
    "audio = torch.FloatTensor(audio)\n",
    "audio = audio.unsqueeze(0)\n",
    "\n",
    "mel = mel_spectrogram(audio, config[\"n_fft\"], config[\"num_mels\"], config[\"sampling_rate\"],\n",
    "                                          config[\"hop_size\"], config[\"win_size\"], config[\"fmin\"], config[\"fmax\"],\n",
    "                                          center=False)\n",
    "\n",
    "mel = mel.squeeze(0).transpose(0, 1)\n",
    "mel = mel_normalize(mel)"
   ]
  },
  {
   "cell_type": "code",
   "execution_count": 8,
   "metadata": {},
   "outputs": [
    {
     "data": {
      "text/plain": [
       "torch.Size([484, 80])"
      ]
     },
     "execution_count": 8,
     "metadata": {},
     "output_type": "execute_result"
    }
   ],
   "source": [
    "mel.shape"
   ]
  },
  {
   "cell_type": "code",
   "execution_count": 9,
   "metadata": {},
   "outputs": [],
   "source": [
    "Generator = MagicModel(d_model = 192)"
   ]
  },
  {
   "cell_type": "code",
   "execution_count": 10,
   "metadata": {},
   "outputs": [],
   "source": [
    "ori_mels = [mel]\n",
    "spk_input_mels = [torch.tensor(spk_emb)]\n",
    "spk_input_mels = torch.stack(spk_input_mels)\n",
    "ori_lens = [len(ori_mel) for ori_mel in ori_mels]\n",
    "overlap_lens = ori_lens\n",
    "ori_mels = pad_sequence(ori_mels, batch_first=True)\n",
    "mel_masks = [torch.arange(ori_mels.size(1)) >= mel_len for mel_len in ori_lens]\n",
    "mel_masks = torch.stack(mel_masks)"
   ]
  },
  {
   "cell_type": "code",
   "execution_count": 11,
   "metadata": {},
   "outputs": [],
   "source": [
    "fake_mels = Generator(spk_input_mels,ori_mels,mel_masks)"
   ]
  },
  {
   "cell_type": "code",
   "execution_count": 12,
   "metadata": {},
   "outputs": [
    {
     "data": {
      "text/plain": [
       "torch.Size([1, 484, 80])"
      ]
     },
     "execution_count": 12,
     "metadata": {},
     "output_type": "execute_result"
    }
   ],
   "source": [
    "fake_mels.shape"
   ]
  },
  {
   "cell_type": "code",
   "execution_count": 13,
   "metadata": {},
   "outputs": [],
   "source": [
    "from glob import glob\n",
    "from tqdm import tqdm\n",
    "import random\n",
    "\n",
    "base_directory = '/home/husein/ssd1/speech-bahasa'"
   ]
  },
  {
   "cell_type": "code",
   "execution_count": 14,
   "metadata": {},
   "outputs": [
    {
     "data": {
      "text/plain": [
       "(565, 200, 698)"
      ]
     },
     "execution_count": 14,
     "metadata": {},
     "output_type": "execute_result"
    }
   ],
   "source": [
    "khalil = glob(f'{base_directory}/tolong-sebut/*.wav')\n",
    "mas = glob(f'{base_directory}/sebut-perkataan-woman/*.wav')\n",
    "husein = glob(f'{base_directory}/sebut-perkataan-man/*.wav')\n",
    "len(khalil), len(mas), len(husein)"
   ]
  },
  {
   "cell_type": "code",
   "execution_count": 15,
   "metadata": {},
   "outputs": [],
   "source": [
    "salina = glob('/home/husein/ssd1/speech-bahasa/combined/salina*.wav')\n",
    "pasentran = glob('/home/husein/ssd1/speech-bahasa/combined/dari-pasentran-ke-istana*.wav')\n",
    "salina = random.sample(salina, 1500)\n",
    "pasentran = random.sample(pasentran, 1500)"
   ]
  },
  {
   "cell_type": "code",
   "execution_count": 16,
   "metadata": {},
   "outputs": [],
   "source": [
    "import pandas as pd"
   ]
  },
  {
   "cell_type": "code",
   "execution_count": 17,
   "metadata": {},
   "outputs": [
    {
     "data": {
      "text/plain": [
       "1500"
      ]
     },
     "execution_count": 17,
     "metadata": {},
     "output_type": "execute_result"
    }
   ],
   "source": [
    "df = pd.read_csv(f'{base_directory}/haqkiem/metadata.csv', header = None, sep = '|')\n",
    "txts = df.values.tolist()\n",
    "haqkiem = []\n",
    "for f in txts:\n",
    "    f = f[0]\n",
    "    r = f'{base_directory}/haqkiem/{f}.wav'\n",
    "    if os.path.exists(r):\n",
    "        haqkiem.append(r)\n",
    "        \n",
    "haqkiem = random.sample(haqkiem, 1500)\n",
    "len(haqkiem)"
   ]
  },
  {
   "cell_type": "code",
   "execution_count": 18,
   "metadata": {},
   "outputs": [],
   "source": [
    "my_a = random.sample(glob('/home/husein/ssd2/ms-MY-Wavenet-A/*.mp3'), 1500)\n",
    "my_b = random.sample(glob('/home/husein/ssd2/ms-MY-Wavenet-B/*.mp3'), 1500)\n",
    "my_c = random.sample(glob('/home/husein/ssd2/ms-MY-Wavenet-C/*.mp3'), 1500)\n",
    "my_d = random.sample(glob('/home/husein/ssd2/ms-MY-Wavenet-D/*.mp3'), 1500)"
   ]
  },
  {
   "cell_type": "code",
   "execution_count": 19,
   "metadata": {},
   "outputs": [],
   "source": [
    "osman = random.sample(glob('/home/husein/ssd2/osman-news-edge-tts-wav/*'), 1500)\n",
    "yasmin = random.sample(glob('/home/husein/ssd2/yasmin-news-edge-tts-wav/*'), 1500)"
   ]
  },
  {
   "cell_type": "code",
   "execution_count": 20,
   "metadata": {},
   "outputs": [
    {
     "data": {
      "text/plain": [
       "(192,)"
      ]
     },
     "execution_count": 20,
     "metadata": {},
     "output_type": "execute_result"
    }
   ],
   "source": [
    "y, _ = malaya_speech.load(khalil[0])\n",
    "v = speaker_v([y])[0]\n",
    "v.shape"
   ]
  },
  {
   "cell_type": "code",
   "execution_count": 21,
   "metadata": {},
   "outputs": [],
   "source": [
    "dicts = {\n",
    "    'khalil': khalil,\n",
    "    'mas': mas,\n",
    "    'husein': husein,\n",
    "    'salina': salina,\n",
    "    'pasentran': pasentran,\n",
    "    'haqkiem': haqkiem,\n",
    "    'my_a': my_a,\n",
    "    'my_b': my_b,\n",
    "    'my_c': my_c,\n",
    "    'my_d': my_d,\n",
    "    'osman': osman,\n",
    "    'yasmin': yasmin,\n",
    "}"
   ]
  },
  {
   "cell_type": "code",
   "execution_count": 23,
   "metadata": {},
   "outputs": [],
   "source": [
    "import pickle\n",
    "from datasets import Audio\n",
    "\n",
    "audio = Audio(sampling_rate=16000)"
   ]
  },
  {
   "cell_type": "code",
   "execution_count": 25,
   "metadata": {},
   "outputs": [
    {
     "name": "stderr",
     "output_type": "stream",
     "text": [
      "100%|█████████████████████████████████████████| 565/565 [00:52<00:00, 10.70it/s]\n",
      "100%|█████████████████████████████████████████| 200/200 [00:19<00:00, 10.49it/s]\n",
      "100%|█████████████████████████████████████████| 698/698 [00:47<00:00, 14.84it/s]\n",
      "100%|███████████████████████████████████████| 1500/1500 [01:07<00:00, 22.32it/s]\n",
      "100%|███████████████████████████████████████| 1500/1500 [01:18<00:00, 19.04it/s]\n",
      "100%|███████████████████████████████████████| 1500/1500 [03:41<00:00,  6.76it/s]\n",
      "100%|███████████████████████████████████████| 1500/1500 [00:28<00:00, 52.34it/s]\n",
      "100%|███████████████████████████████████████| 1500/1500 [00:27<00:00, 54.18it/s]\n",
      "100%|███████████████████████████████████████| 1500/1500 [00:28<00:00, 52.43it/s]\n",
      "100%|███████████████████████████████████████| 1500/1500 [00:27<00:00, 53.64it/s]\n",
      "100%|███████████████████████████████████████| 1500/1500 [02:26<00:00, 10.22it/s]\n",
      "100%|███████████████████████████████████████| 1500/1500 [02:31<00:00,  9.93it/s]\n"
     ]
    }
   ],
   "source": [
    "for k, v in dicts.items():\n",
    "    r = []\n",
    "    for f in tqdm(v):\n",
    "        y = audio.decode_example(audio.encode_example(f))\n",
    "        y = y['array']\n",
    "        r.append({\n",
    "            'wav_data': f,\n",
    "            'classification_model': (speaker_v([y])[0], 'speaker 0'),\n",
    "            'asr_model': 'very legit',\n",
    "        })\n",
    "    \n",
    "    with open(f'random-embedding-{k}.pkl', 'wb') as fopen:\n",
    "        pickle.dump(r, fopen)"
   ]
  },
  {
   "cell_type": "code",
   "execution_count": null,
   "metadata": {},
   "outputs": [],
   "source": []
  }
 ],
 "metadata": {
  "kernelspec": {
   "display_name": "Python 3 (ipykernel)",
   "language": "python",
   "name": "python3"
  },
  "language_info": {
   "codemirror_mode": {
    "name": "ipython",
    "version": 3
   },
   "file_extension": ".py",
   "mimetype": "text/x-python",
   "name": "python",
   "nbconvert_exporter": "python",
   "pygments_lexer": "ipython3",
   "version": "3.8.10"
  }
 },
 "nbformat": 4,
 "nbformat_minor": 4
}

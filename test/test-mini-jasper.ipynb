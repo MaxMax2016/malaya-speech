{
 "cells": [
  {
   "cell_type": "code",
   "execution_count": 1,
   "metadata": {},
   "outputs": [],
   "source": [
    "import os\n",
    "\n",
    "os.environ['CUDA_VISIBLE_DEVICES'] = '1'"
   ]
  },
  {
   "cell_type": "code",
   "execution_count": 2,
   "metadata": {},
   "outputs": [],
   "source": [
    "import sys\n",
    "\n",
    "SOURCE_DIR = os.path.dirname(os.path.dirname(os.path.abspath(__name__)))\n",
    "sys.path.insert(0, SOURCE_DIR)"
   ]
  },
  {
   "cell_type": "code",
   "execution_count": 4,
   "metadata": {
    "scrolled": true
   },
   "outputs": [],
   "source": [
    "import malaya_speech\n",
    "import malaya_speech.config\n",
    "import malaya_speech.train.model.mini_jasper as mini_jasper\n",
    "import tensorflow as tf"
   ]
  },
  {
   "cell_type": "code",
   "execution_count": 5,
   "metadata": {},
   "outputs": [],
   "source": [
    "config = malaya_speech.config.ctc_featurizer_config\n",
    "featurizer = malaya_speech.tf_featurization.STTFeaturizer(config)"
   ]
  },
  {
   "cell_type": "code",
   "execution_count": 6,
   "metadata": {},
   "outputs": [
    {
     "data": {
      "text/plain": [
       "(<tf.Tensor 'ExpandDims_3:0' shape=(1, ?, 80) dtype=float32>,\n",
       " <tf.Tensor 'ExpandDims_2:0' shape=(1,) dtype=int32>)"
      ]
     },
     "execution_count": 6,
     "metadata": {},
     "output_type": "execute_result"
    }
   ],
   "source": [
    "i = tf.placeholder(tf.float32, [None])\n",
    "v = featurizer.vectorize(i)\n",
    "length_v = tf.cast(tf.shape(v)[0], tf.int32)\n",
    "length_v = tf.expand_dims(length_v, 0)\n",
    "v = tf.expand_dims(v[:,:,0], 0)\n",
    "v, length_v"
   ]
  },
  {
   "cell_type": "code",
   "execution_count": 7,
   "metadata": {},
   "outputs": [
    {
     "name": "stdout",
     "output_type": "stream",
     "text": [
      "WARNING:tensorflow:From /Users/huseinzolkepli/Documents/malaya-speech/malaya_speech/train/model/quartznet/abstract.py:141: The name tf.variable_scope is deprecated. Please use tf.compat.v1.variable_scope instead.\n",
      "\n",
      "WARNING:tensorflow:From /Users/huseinzolkepli/Documents/malaya-speech/malaya_speech/train/model/quartznet/layer.py:327: separable_conv1d (from tensorflow.python.layers.convolutional) is deprecated and will be removed in a future version.\n",
      "Instructions for updating:\n",
      "Use `tf.keras.layers.SeparableConv1D` instead.\n",
      "WARNING:tensorflow:From /Library/Frameworks/Python.framework/Versions/3.7/lib/python3.7/site-packages/tensorflow_core/python/layers/convolutional.py:971: Layer.apply (from tensorflow.python.keras.engine.base_layer) is deprecated and will be removed in a future version.\n",
      "Instructions for updating:\n",
      "Please use `layer.__call__` method instead.\n",
      "WARNING:tensorflow:From /Users/huseinzolkepli/Documents/malaya-speech/malaya_speech/train/model/quartznet/layer.py:358: batch_normalization (from tensorflow.python.layers.normalization) is deprecated and will be removed in a future version.\n",
      "Instructions for updating:\n",
      "Use keras.layers.BatchNormalization instead.  In particular, `tf.control_dependencies(tf.GraphKeys.UPDATE_OPS)` should not be used (consult the `tf.keras.layers.batch_normalization` documentation).\n",
      "WARNING:tensorflow:From /Users/huseinzolkepli/Documents/malaya-speech/malaya_speech/train/model/quartznet/abstract.py:369: calling dropout (from tensorflow.python.ops.nn_ops) with keep_prob is deprecated and will be removed in a future version.\n",
      "Instructions for updating:\n",
      "Please use `rate` instead of `keep_prob`. Rate should be set to `rate = 1 - keep_prob`.\n"
     ]
    },
    {
     "data": {
      "text/plain": [
       "{'outputs': <tf.Tensor 'w2l_encoder/Relu_32:0' shape=(1, ?, 1024) dtype=float32>,\n",
       " 'src_length': <tf.Tensor 'w2l_encoder/floordiv_64:0' shape=(1,) dtype=int32>}"
      ]
     },
     "execution_count": 7,
     "metadata": {},
     "output_type": "execute_result"
    }
   ],
   "source": [
    "model = mini_jasper.Model(v, length_v)\n",
    "model.logits"
   ]
  },
  {
   "cell_type": "code",
   "execution_count": 8,
   "metadata": {},
   "outputs": [],
   "source": [
    "sess = tf.InteractiveSession()\n",
    "sess.run(tf.global_variables_initializer())"
   ]
  },
  {
   "cell_type": "code",
   "execution_count": 9,
   "metadata": {},
   "outputs": [
    {
     "data": {
      "text/plain": [
       "(90090, 56298)"
      ]
     },
     "execution_count": 9,
     "metadata": {},
     "output_type": "execute_result"
    }
   ],
   "source": [
    "y, sr = malaya_speech.load('../speech/example-speaker/husein-zolkepli.wav', sr = 16000)\n",
    "y1, sr = malaya_speech.load('../speech/example-speaker/shafiqah-idayu.wav', sr = 16000)\n",
    "len(y), len(y1)"
   ]
  },
  {
   "cell_type": "code",
   "execution_count": 10,
   "metadata": {},
   "outputs": [
    {
     "data": {
      "text/plain": [
       "{'outputs': array([[[0.        , 0.6317533 , 0.10515396, ..., 0.3214997 ,\n",
       "          0.5601878 , 0.        ],\n",
       "         [0.33427903, 0.        , 0.20191172, ..., 0.        ,\n",
       "          0.        , 0.29395312],\n",
       "         [0.01223818, 0.        , 0.        , ..., 0.42618653,\n",
       "          0.        , 0.42700604],\n",
       "         ...,\n",
       "         [0.        , 0.20838247, 0.        , ..., 0.04816762,\n",
       "          0.        , 0.22514023],\n",
       "         [0.30086166, 0.04810698, 0.        , ..., 0.        ,\n",
       "          0.01121054, 0.40134066],\n",
       "         [0.        , 0.00588636, 0.        , ..., 0.        ,\n",
       "          0.6042735 , 0.        ]]], dtype=float32),\n",
       " 'src_length': array([281], dtype=int32)}"
      ]
     },
     "execution_count": 10,
     "metadata": {},
     "output_type": "execute_result"
    }
   ],
   "source": [
    "l = sess.run(model.logits, feed_dict = {i: y})\n",
    "l"
   ]
  },
  {
   "cell_type": "code",
   "execution_count": 11,
   "metadata": {},
   "outputs": [
    {
     "data": {
      "text/plain": [
       "{'outputs': array([[[1.0852382 , 0.45527968, 0.        , ..., 0.        ,\n",
       "          0.        , 0.21996805],\n",
       "         [0.        , 0.4513943 , 0.        , ..., 0.        ,\n",
       "          0.04817728, 0.        ],\n",
       "         [1.0196781 , 0.7700624 , 0.        , ..., 0.        ,\n",
       "          0.        , 0.        ],\n",
       "         ...,\n",
       "         [0.05882587, 0.        , 0.        , ..., 0.        ,\n",
       "          0.        , 0.05844028],\n",
       "         [0.0147314 , 0.7054979 , 0.6539781 , ..., 0.11781625,\n",
       "          0.        , 0.        ],\n",
       "         [0.13955884, 0.4923342 , 0.        , ..., 0.        ,\n",
       "          0.        , 0.41774893]]], dtype=float32),\n",
       " 'src_length': array([175], dtype=int32)}"
      ]
     },
     "execution_count": 11,
     "metadata": {},
     "output_type": "execute_result"
    }
   ],
   "source": [
    "l = sess.run(model.logits, feed_dict = {i: y1})\n",
    "l"
   ]
  }
 ],
 "metadata": {
  "kernelspec": {
   "display_name": "Python 3",
   "language": "python",
   "name": "python3"
  },
  "language_info": {
   "codemirror_mode": {
    "name": "ipython",
    "version": 3
   },
   "file_extension": ".py",
   "mimetype": "text/x-python",
   "name": "python",
   "nbconvert_exporter": "python",
   "pygments_lexer": "ipython3",
   "version": "3.7.7"
  }
 },
 "nbformat": 4,
 "nbformat_minor": 4
}

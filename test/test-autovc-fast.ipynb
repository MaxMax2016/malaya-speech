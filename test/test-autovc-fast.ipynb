{
 "cells": [
  {
   "cell_type": "code",
   "execution_count": 1,
   "metadata": {},
   "outputs": [],
   "source": [
    "import os\n",
    "\n",
    "os.environ['CUDA_VISIBLE_DEVICES'] = '1'"
   ]
  },
  {
   "cell_type": "code",
   "execution_count": 1,
   "metadata": {},
   "outputs": [],
   "source": [
    "import tensorflow as tf"
   ]
  },
  {
   "cell_type": "code",
   "execution_count": 2,
   "metadata": {},
   "outputs": [],
   "source": [
    "x = tf.random.normal(shape = (1, 10, 1))"
   ]
  },
  {
   "cell_type": "code",
   "execution_count": 5,
   "metadata": {},
   "outputs": [
    {
     "data": {
      "text/plain": [
       "<tf.Tensor 'resize_2/Squeeze:0' shape=(1, 20, 1) dtype=float32>"
      ]
     },
     "execution_count": 5,
     "metadata": {},
     "output_type": "execute_result"
    }
   ],
   "source": [
    "tf.image.resize(x, [1, 16])"
   ]
  },
  {
   "cell_type": "code",
   "execution_count": 6,
   "metadata": {},
   "outputs": [],
   "source": [
    "sess = tf.Session()"
   ]
  },
  {
   "cell_type": "code",
   "execution_count": 12,
   "metadata": {},
   "outputs": [
    {
     "data": {
      "text/plain": [
       "[array([[[-0.50713724],\n",
       "         [-0.43177643],\n",
       "         [ 0.03711988],\n",
       "         [ 1.6818367 ],\n",
       "         [-0.66351444],\n",
       "         [-0.6343261 ],\n",
       "         [ 0.8212245 ],\n",
       "         [-0.63036644],\n",
       "         [-1.2326638 ],\n",
       "         [-0.075799  ]]], dtype=float32),\n",
       " array([[[-0.50713724],\n",
       "         [-0.43177643],\n",
       "         [ 0.03711988],\n",
       "         [ 1.6818367 ],\n",
       "         [-0.66351444],\n",
       "         [-0.6343261 ],\n",
       "         [ 0.8212245 ],\n",
       "         [-0.63036644],\n",
       "         [-1.2326638 ],\n",
       "         [-0.075799  ]]], dtype=float32)]"
      ]
     },
     "execution_count": 12,
     "metadata": {},
     "output_type": "execute_result"
    }
   ],
   "source": [
    "sess.run([tf.image.resize(x, [1, 10], method = 'nearest'), x])"
   ]
  },
  {
   "cell_type": "code",
   "execution_count": 2,
   "metadata": {},
   "outputs": [],
   "source": [
    "import sys\n",
    "\n",
    "SOURCE_DIR = os.path.dirname(os.path.dirname(os.path.abspath(__name__)))\n",
    "sys.path.insert(0, SOURCE_DIR)"
   ]
  },
  {
   "cell_type": "code",
   "execution_count": 3,
   "metadata": {},
   "outputs": [],
   "source": [
    "import pickle\n",
    "\n",
    "metadata = pickle.load(open('metadata.pkl', \"rb\"))"
   ]
  },
  {
   "cell_type": "code",
   "execution_count": 4,
   "metadata": {},
   "outputs": [
    {
     "name": "stdout",
     "output_type": "stream",
     "text": [
      "WARNING:tensorflow:From /Users/huseinzolkepli/Documents/malaya-speech/malaya_speech/train/optimizer/__init__.py:38: The name tf.train.AdagradOptimizer is deprecated. Please use tf.compat.v1.train.AdagradOptimizer instead.\n",
      "\n",
      "WARNING:tensorflow:From /Users/huseinzolkepli/Documents/malaya-speech/malaya_speech/train/optimizer/__init__.py:39: The name tf.train.AdamOptimizer is deprecated. Please use tf.compat.v1.train.AdamOptimizer instead.\n",
      "\n",
      "WARNING:tensorflow:From /Users/huseinzolkepli/Documents/malaya-speech/malaya_speech/train/optimizer/__init__.py:40: The name tf.train.FtrlOptimizer is deprecated. Please use tf.compat.v1.train.FtrlOptimizer instead.\n",
      "\n",
      "WARNING:tensorflow:From /Users/huseinzolkepli/Documents/malaya-speech/malaya_speech/train/optimizer/__init__.py:42: The name tf.train.RMSPropOptimizer is deprecated. Please use tf.compat.v1.train.RMSPropOptimizer instead.\n",
      "\n",
      "WARNING:tensorflow:From /Users/huseinzolkepli/Documents/malaya-speech/malaya_speech/train/optimizer/__init__.py:43: The name tf.train.GradientDescentOptimizer is deprecated. Please use tf.compat.v1.train.GradientDescentOptimizer instead.\n",
      "\n",
      "WARNING:tensorflow:\n",
      "The TensorFlow contrib module will not be included in TensorFlow 2.0.\n",
      "For more information, please see:\n",
      "  * https://github.com/tensorflow/community/blob/master/rfcs/20180907-contrib-sunset.md\n",
      "  * https://github.com/tensorflow/addons\n",
      "  * https://github.com/tensorflow/io (for I/O related ops)\n",
      "If you depend on functionality not listed there, please file an issue.\n",
      "\n",
      "WARNING:tensorflow:From /Users/huseinzolkepli/Documents/malaya-speech/malaya_speech/train/model/openseq2seq/layer.py:6: The name tf.layers.Conv1D is deprecated. Please use tf.compat.v1.layers.Conv1D instead.\n",
      "\n",
      "WARNING:tensorflow:From /Users/huseinzolkepli/Documents/malaya-speech/malaya_speech/train/model/openseq2seq/attention.py:4: The name tf.layers.Layer is deprecated. Please use tf.compat.v1.layers.Layer instead.\n",
      "\n"
     ]
    }
   ],
   "source": [
    "import numpy as np\n",
    "from math import ceil\n",
    "import tensorflow as tf\n",
    "import malaya_speech\n",
    "from malaya_speech.train.model import fastspeech, autovc_fast"
   ]
  },
  {
   "cell_type": "code",
   "execution_count": 5,
   "metadata": {},
   "outputs": [],
   "source": [
    "def pad_seq(x, base = 32):\n",
    "    len_out = int(base * ceil(float(x.shape[0])/base))\n",
    "    len_pad = len_out - x.shape[0]\n",
    "    assert len_pad >= 0\n",
    "    return np.pad(x, ((0,len_pad),(0,0)), 'constant'), len_pad"
   ]
  },
  {
   "cell_type": "code",
   "execution_count": 6,
   "metadata": {},
   "outputs": [],
   "source": [
    "sbmt_i = metadata[0]\n",
    "x_org = sbmt_i[2]\n",
    "x_org, len_pad = pad_seq(x_org)\n",
    "c = np.random.normal(size = (2, 512)).astype(np.float32)"
   ]
  },
  {
   "cell_type": "code",
   "execution_count": 7,
   "metadata": {},
   "outputs": [
    {
     "data": {
      "text/plain": [
       "(96, 80)"
      ]
     },
     "execution_count": 7,
     "metadata": {},
     "output_type": "execute_result"
    }
   ],
   "source": [
    "x_org.shape"
   ]
  },
  {
   "cell_type": "code",
   "execution_count": 8,
   "metadata": {},
   "outputs": [
    {
     "data": {
      "text/plain": [
       "6"
      ]
     },
     "execution_count": 8,
     "metadata": {},
     "output_type": "execute_result"
    }
   ],
   "source": [
    "len_pad"
   ]
  },
  {
   "cell_type": "code",
   "execution_count": 9,
   "metadata": {},
   "outputs": [],
   "source": [
    "mel = tf.placeholder(tf.float32, (None, None, 80))\n",
    "ori_vector = tf.placeholder(tf.float32, (None, 512))\n",
    "target_vector = tf.placeholder(tf.float32, (None, 512))\n",
    "mel_lengths = tf.placeholder(tf.int32, (None))"
   ]
  },
  {
   "cell_type": "code",
   "execution_count": 10,
   "metadata": {},
   "outputs": [
    {
     "data": {
      "text/plain": [
       "<tf.Tensor 'Placeholder_3:0' shape=<unknown> dtype=int32>"
      ]
     },
     "execution_count": 10,
     "metadata": {},
     "output_type": "execute_result"
    }
   ],
   "source": [
    "mel_lengths"
   ]
  },
  {
   "cell_type": "code",
   "execution_count": 11,
   "metadata": {},
   "outputs": [],
   "source": [
    "dim_neck = 32\n",
    "dim_speaker = 512\n",
    "config = malaya_speech.config.fastspeech_config\n",
    "config['encoder_hidden_size'] = dim_speaker + 80\n",
    "config['decoder_hidden_size'] = dim_speaker + dim_neck\n",
    "config = fastspeech.Config(vocab_size = 1, **config)"
   ]
  },
  {
   "cell_type": "code",
   "execution_count": 12,
   "metadata": {
    "scrolled": true
   },
   "outputs": [
    {
     "name": "stdout",
     "output_type": "stream",
     "text": [
      "WARNING:tensorflow:From /Users/huseinzolkepli/Documents/tf-1.15/env/lib/python3.7/site-packages/tensorflow_core/python/ops/init_ops.py:97: calling GlorotUniform.__init__ (from tensorflow.python.ops.init_ops) with dtype is deprecated and will be removed in a future version.\n",
      "Instructions for updating:\n",
      "Call initializer instance with the dtype argument instead of passing it to the constructor\n",
      "WARNING:tensorflow:From /Users/huseinzolkepli/Documents/tf-1.15/env/lib/python3.7/site-packages/tensorflow_core/python/ops/init_ops.py:97: calling Orthogonal.__init__ (from tensorflow.python.ops.init_ops) with dtype is deprecated and will be removed in a future version.\n",
      "Instructions for updating:\n",
      "Call initializer instance with the dtype argument instead of passing it to the constructor\n",
      "WARNING:tensorflow:From /Users/huseinzolkepli/Documents/tf-1.15/env/lib/python3.7/site-packages/tensorflow_core/python/ops/init_ops.py:97: calling Zeros.__init__ (from tensorflow.python.ops.init_ops) with dtype is deprecated and will be removed in a future version.\n",
      "Instructions for updating:\n",
      "Call initializer instance with the dtype argument instead of passing it to the constructor\n",
      "WARNING:tensorflow:From /Users/huseinzolkepli/Documents/malaya-speech/malaya_speech/train/model/fastspeech/layer.py:11: The name tf.keras.initializers.TruncatedNormal is deprecated. Please use tf.compat.v1.keras.initializers.TruncatedNormal instead.\n",
      "\n",
      "WARNING:tensorflow:From /Users/huseinzolkepli/Documents/tf-1.15/env/lib/python3.7/site-packages/tensorflow_core/python/keras/initializers.py:94: calling TruncatedNormal.__init__ (from tensorflow.python.ops.init_ops) with dtype is deprecated and will be removed in a future version.\n",
      "Instructions for updating:\n",
      "Call initializer instance with the dtype argument instead of passing it to the constructor\n"
     ]
    }
   ],
   "source": [
    "model = autovc_fast.Model(16, 512, 16, config)"
   ]
  },
  {
   "cell_type": "code",
   "execution_count": 13,
   "metadata": {},
   "outputs": [
    {
     "name": "stdout",
     "output_type": "stream",
     "text": [
      "WARNING:tensorflow:From /Users/huseinzolkepli/Documents/tf-1.15/env/lib/python3.7/site-packages/tensorflow_core/python/ops/resource_variable_ops.py:1630: calling BaseResourceVariable.__init__ (from tensorflow.python.ops.resource_variable_ops) with constraint is deprecated and will be removed in a future version.\n",
      "Instructions for updating:\n",
      "If using Keras pass *_constraint arguments to layers.\n"
     ]
    }
   ],
   "source": [
    "encoder_outputs, mel_before, mel_after, codes = model(mel, ori_vector, target_vector, mel_lengths)"
   ]
  },
  {
   "cell_type": "code",
   "execution_count": 14,
   "metadata": {},
   "outputs": [],
   "source": [
    "codes_ = model.call_second(mel_after, ori_vector)"
   ]
  },
  {
   "cell_type": "code",
   "execution_count": 15,
   "metadata": {},
   "outputs": [
    {
     "data": {
      "text/plain": [
       "(<tf.Tensor 'autovc/concat:0' shape=(?, ?, 544) dtype=float32>,\n",
       " <tf.Tensor 'autovc/add_3:0' shape=(?, ?, 80) dtype=float32>,\n",
       " <tf.Tensor 'autovc/add_5:0' shape=(?, ?, 80) dtype=float32>,\n",
       " <tf.Tensor 'autovc/Encoder/TensorArrayStack/TensorArrayGatherV3:0' shape=(?, ?, 32) dtype=float32>,\n",
       " <tf.Tensor 'Encoder/TensorArrayStack/TensorArrayGatherV3:0' shape=(?, ?, 32) dtype=float32>)"
      ]
     },
     "execution_count": 15,
     "metadata": {},
     "output_type": "execute_result"
    }
   ],
   "source": [
    "encoder_outputs, mel_before, mel_after, codes, codes_"
   ]
  },
  {
   "cell_type": "code",
   "execution_count": 16,
   "metadata": {},
   "outputs": [
    {
     "data": {
      "text/plain": [
       "<tf.Tensor 'ExpandDims:0' shape=<unknown> dtype=float32>"
      ]
     },
     "execution_count": 16,
     "metadata": {},
     "output_type": "execute_result"
    }
   ],
   "source": [
    "loss_f = tf.losses.mean_squared_error\n",
    "max_length = tf.cast(tf.reduce_max(mel_lengths), tf.int32)\n",
    "mask = tf.sequence_mask(\n",
    "    lengths = mel_lengths, maxlen = max_length, dtype = tf.float32\n",
    ")\n",
    "mask = tf.expand_dims(mask, axis = -1)\n",
    "mask"
   ]
  },
  {
   "cell_type": "code",
   "execution_count": 17,
   "metadata": {},
   "outputs": [
    {
     "data": {
      "text/plain": [
       "<tf.Tensor 'SequenceMask_1/Cast_1:0' shape=<unknown> dtype=float32>"
      ]
     },
     "execution_count": 17,
     "metadata": {},
     "output_type": "execute_result"
    }
   ],
   "source": [
    "tf.sequence_mask(\n",
    "    lengths = mel_lengths, maxlen = max_length, dtype = tf.float32\n",
    ")"
   ]
  },
  {
   "cell_type": "code",
   "execution_count": 18,
   "metadata": {},
   "outputs": [],
   "source": [
    "from functools import partial\n",
    "from malaya_speech.train.loss import calculate_2d_loss, calculate_3d_loss\n",
    "\n",
    "mse_mel = partial(\n",
    "    loss_f,\n",
    "    weights = mask\n",
    ")"
   ]
  },
  {
   "cell_type": "code",
   "execution_count": 19,
   "metadata": {},
   "outputs": [
    {
     "name": "stdout",
     "output_type": "stream",
     "text": [
      "WARNING:tensorflow:From /Users/huseinzolkepli/Documents/tf-1.15/env/lib/python3.7/site-packages/tensorflow_core/python/ops/losses/losses_impl.py:121: where (from tensorflow.python.ops.array_ops) is deprecated and will be removed in a future version.\n",
      "Instructions for updating:\n",
      "Use tf.where in 2.0, which has the same broadcast rule as np.where\n"
     ]
    },
    {
     "data": {
      "text/plain": [
       "<tf.Tensor 'mean_squared_error/value:0' shape=() dtype=float32>"
      ]
     },
     "execution_count": 19,
     "metadata": {},
     "output_type": "execute_result"
    }
   ],
   "source": [
    "mel_loss_before = calculate_3d_loss(mel, mel_before, mse_mel)\n",
    "mel_loss_before"
   ]
  },
  {
   "cell_type": "code",
   "execution_count": 20,
   "metadata": {},
   "outputs": [
    {
     "data": {
      "text/plain": [
       "<tf.Tensor 'mean_squared_error_1/value:0' shape=() dtype=float32>"
      ]
     },
     "execution_count": 20,
     "metadata": {},
     "output_type": "execute_result"
    }
   ],
   "source": [
    "mel_loss_after = calculate_3d_loss(mel, mel_after, mse_mel)\n",
    "mel_loss_after"
   ]
  },
  {
   "cell_type": "code",
   "execution_count": 21,
   "metadata": {},
   "outputs": [],
   "source": [
    "g_loss_cd = tf.losses.absolute_difference(codes, codes_)"
   ]
  },
  {
   "cell_type": "code",
   "execution_count": 22,
   "metadata": {},
   "outputs": [],
   "source": [
    "loss = mel_loss_before + mel_loss_after + g_loss_cd"
   ]
  },
  {
   "cell_type": "code",
   "execution_count": 23,
   "metadata": {},
   "outputs": [],
   "source": [
    "sess = tf.InteractiveSession()\n",
    "sess.run(tf.global_variables_initializer())"
   ]
  },
  {
   "cell_type": "code",
   "execution_count": 34,
   "metadata": {},
   "outputs": [],
   "source": [
    "o = sess.run([encoder_outputs, mel_before, mel_after], feed_dict = {mel: [x_org] * 2,\n",
    "                                                                    ori_vector: c,\n",
    "                                                                    target_vector: c,\n",
    "                                                                    mel_lengths: [len(x_org)] * 2})"
   ]
  },
  {
   "cell_type": "code",
   "execution_count": 32,
   "metadata": {},
   "outputs": [
    {
     "data": {
      "text/plain": [
       "array([0.39463845, 0.28340304, 0.26415357, 0.2532913 , 0.23593669,\n",
       "       0.27531558, 0.2601337 , 0.20799784, 0.17925   , 0.16225114,\n",
       "       0.21628033, 0.19391258, 0.16690125, 0.23933716, 0.26766717,\n",
       "       0.23639701, 0.16513656, 0.24623321, 0.2517523 , 0.25785658,\n",
       "       0.14969628, 0.24087207, 0.33559245, 0.18417373, 0.28367934,\n",
       "       0.31905246, 0.27308086, 0.27488646, 0.33587086, 0.3004063 ,\n",
       "       0.2561785 , 0.28301883, 0.282115  , 0.19620728, 0.15127781,\n",
       "       0.20626858, 0.22624898, 0.24989904, 0.24906628, 0.20903952,\n",
       "       0.19618066, 0.22475033, 0.21816216, 0.2561646 , 0.22669327,\n",
       "       0.29271293, 0.274277  , 0.23617537, 0.20653298, 0.2006858 ,\n",
       "       0.29317287, 0.31299165, 0.25377366, 0.26970923, 0.2563963 ,\n",
       "       0.29354194, 0.27708203, 0.25875154, 0.25198594, 0.24439889,\n",
       "       0.2782202 , 0.26452845, 0.2619485 , 0.27706414, 0.2742338 ,\n",
       "       0.25750852, 0.19870667, 0.21669863, 0.17528968, 0.19980377,\n",
       "       0.24140976, 0.24160649, 0.2322267 , 0.2224023 , 0.20069559,\n",
       "       0.1815591 , 0.20059095, 0.23898794, 0.22161914, 0.17438681],\n",
       "      dtype=float32)"
      ]
     },
     "execution_count": 32,
     "metadata": {},
     "output_type": "execute_result"
    }
   ],
   "source": [
    "x_org[0]"
   ]
  },
  {
   "cell_type": "code",
   "execution_count": 36,
   "metadata": {},
   "outputs": [
    {
     "data": {
      "text/plain": [
       "array([[[ 3.94638479e-01,  2.83403009e-01,  2.64153600e-01, ...,\n",
       "          2.38987952e-01,  2.21619144e-01,  1.74386799e-01],\n",
       "        [ 3.96624953e-01,  3.27039301e-01,  2.58440435e-01, ...,\n",
       "          2.40468159e-01,  2.21521184e-01,  1.80433363e-01],\n",
       "        [ 4.12980884e-01,  3.14762771e-01,  2.50771791e-01, ...,\n",
       "          2.22262159e-01,  2.07013756e-01,  1.88533172e-01],\n",
       "        ...,\n",
       "        [ 2.80758954e-08, -1.02210640e-08,  6.75946898e-09, ...,\n",
       "          1.94705692e-08,  1.10775993e-08, -9.87868631e-09],\n",
       "        [ 2.13840785e-08, -1.53924751e-09,  9.29438393e-09, ...,\n",
       "          2.35977549e-08,  5.63882940e-09, -1.52365676e-08],\n",
       "        [ 3.29520375e-08, -1.33449589e-08,  3.56345109e-09, ...,\n",
       "          1.22765496e-08,  3.60267904e-09, -1.52606852e-08]],\n",
       "\n",
       "       [[ 3.94638419e-01,  2.83403039e-01,  2.64153570e-01, ...,\n",
       "          2.38987952e-01,  2.21619129e-01,  1.74386799e-01],\n",
       "        [ 3.96624893e-01,  3.27039331e-01,  2.58440435e-01, ...,\n",
       "          2.40468159e-01,  2.21521169e-01,  1.80433363e-01],\n",
       "        [ 4.12980855e-01,  3.14762771e-01,  2.50771791e-01, ...,\n",
       "          2.22262144e-01,  2.07013741e-01,  1.88533172e-01],\n",
       "        ...,\n",
       "        [ 2.67441713e-09,  1.99647548e-10,  1.71536563e-09, ...,\n",
       "          6.61340671e-09, -2.05269242e-08, -1.28083038e-08],\n",
       "        [-1.18645693e-09, -5.55590407e-10,  6.37180575e-09, ...,\n",
       "          1.87925675e-08, -9.42519396e-09, -8.22402768e-09],\n",
       "        [-1.03762265e-09, -7.48458717e-09,  1.24647856e-08, ...,\n",
       "          2.05384421e-08, -1.42285010e-08, -1.37793394e-08]]],\n",
       "      dtype=float32)"
      ]
     },
     "execution_count": 36,
     "metadata": {},
     "output_type": "execute_result"
    }
   ],
   "source": [
    "o[1]"
   ]
  },
  {
   "cell_type": "code",
   "execution_count": 27,
   "metadata": {},
   "outputs": [
    {
     "data": {
      "text/plain": [
       "((2, 96, 544), (2, 96, 80), (2, 96, 80))"
      ]
     },
     "execution_count": 27,
     "metadata": {},
     "output_type": "execute_result"
    }
   ],
   "source": [
    "o[0].shape, o[1].shape, o[2].shape"
   ]
  },
  {
   "cell_type": "code",
   "execution_count": 28,
   "metadata": {},
   "outputs": [],
   "source": [
    "o = sess.run([mel_loss_before, mel_loss_after, g_loss_cd], feed_dict = {mel: [x_org] * 2,\n",
    "                                                                    ori_vector: c,\n",
    "                                                                    target_vector: c,\n",
    "                                                                    mel_lengths: [len(x_org)] * 2})"
   ]
  },
  {
   "cell_type": "code",
   "execution_count": 29,
   "metadata": {},
   "outputs": [
    {
     "data": {
      "text/plain": [
       "[1.6455271e-16, 3.1047273e-16, 0.06792629]"
      ]
     },
     "execution_count": 29,
     "metadata": {},
     "output_type": "execute_result"
    }
   ],
   "source": [
    "o"
   ]
  },
  {
   "cell_type": "code",
   "execution_count": 30,
   "metadata": {},
   "outputs": [
    {
     "data": {
      "text/plain": [
       "[<tf.Variable 'autovc/Encoder/sequential/ConvNorm/conv1d/kernel:0' shape=(5, 592, 512) dtype=float32>,\n",
       " <tf.Variable 'autovc/Encoder/sequential/ConvNorm/conv1d/bias:0' shape=(512,) dtype=float32>,\n",
       " <tf.Variable 'autovc/Encoder/sequential/batch_normalization/gamma:0' shape=(512,) dtype=float32>,\n",
       " <tf.Variable 'autovc/Encoder/sequential/batch_normalization/beta:0' shape=(512,) dtype=float32>,\n",
       " <tf.Variable 'autovc/Encoder/sequential_1/ConvNorm/conv1d_1/kernel:0' shape=(5, 512, 512) dtype=float32>,\n",
       " <tf.Variable 'autovc/Encoder/sequential_1/ConvNorm/conv1d_1/bias:0' shape=(512,) dtype=float32>,\n",
       " <tf.Variable 'autovc/Encoder/sequential_1/batch_normalization_1/gamma:0' shape=(512,) dtype=float32>,\n",
       " <tf.Variable 'autovc/Encoder/sequential_1/batch_normalization_1/beta:0' shape=(512,) dtype=float32>,\n",
       " <tf.Variable 'autovc/Encoder/sequential_2/ConvNorm/conv1d_2/kernel:0' shape=(5, 512, 512) dtype=float32>,\n",
       " <tf.Variable 'autovc/Encoder/sequential_2/ConvNorm/conv1d_2/bias:0' shape=(512,) dtype=float32>,\n",
       " <tf.Variable 'autovc/Encoder/sequential_2/batch_normalization_2/gamma:0' shape=(512,) dtype=float32>,\n",
       " <tf.Variable 'autovc/Encoder/sequential_2/batch_normalization_2/beta:0' shape=(512,) dtype=float32>,\n",
       " <tf.Variable 'autovc/Encoder/sequential_3/bidirectional/forward_lstm/kernel:0' shape=(512, 64) dtype=float32>,\n",
       " <tf.Variable 'autovc/Encoder/sequential_3/bidirectional/forward_lstm/recurrent_kernel:0' shape=(16, 64) dtype=float32>,\n",
       " <tf.Variable 'autovc/Encoder/sequential_3/bidirectional/forward_lstm/bias:0' shape=(64,) dtype=float32>,\n",
       " <tf.Variable 'autovc/Encoder/sequential_3/bidirectional/backward_lstm/kernel:0' shape=(512, 64) dtype=float32>,\n",
       " <tf.Variable 'autovc/Encoder/sequential_3/bidirectional/backward_lstm/recurrent_kernel:0' shape=(16, 64) dtype=float32>,\n",
       " <tf.Variable 'autovc/Encoder/sequential_3/bidirectional/backward_lstm/bias:0' shape=(64,) dtype=float32>,\n",
       " <tf.Variable 'autovc/Encoder/sequential_3/bidirectional_1/forward_lstm_1/kernel:0' shape=(32, 64) dtype=float32>,\n",
       " <tf.Variable 'autovc/Encoder/sequential_3/bidirectional_1/forward_lstm_1/recurrent_kernel:0' shape=(16, 64) dtype=float32>,\n",
       " <tf.Variable 'autovc/Encoder/sequential_3/bidirectional_1/forward_lstm_1/bias:0' shape=(64,) dtype=float32>,\n",
       " <tf.Variable 'autovc/Encoder/sequential_3/bidirectional_1/backward_lstm_1/kernel:0' shape=(32, 64) dtype=float32>,\n",
       " <tf.Variable 'autovc/Encoder/sequential_3/bidirectional_1/backward_lstm_1/recurrent_kernel:0' shape=(16, 64) dtype=float32>,\n",
       " <tf.Variable 'autovc/Encoder/sequential_3/bidirectional_1/backward_lstm_1/bias:0' shape=(64,) dtype=float32>,\n",
       " <tf.Variable 'autovc/Decoder/encoder/layer_._0/attention/self/query/kernel:0' shape=(544, 384) dtype=float32>,\n",
       " <tf.Variable 'autovc/Decoder/encoder/layer_._0/attention/self/query/bias:0' shape=(384,) dtype=float32>,\n",
       " <tf.Variable 'autovc/Decoder/encoder/layer_._0/attention/self/key/kernel:0' shape=(544, 384) dtype=float32>,\n",
       " <tf.Variable 'autovc/Decoder/encoder/layer_._0/attention/self/key/bias:0' shape=(384,) dtype=float32>,\n",
       " <tf.Variable 'autovc/Decoder/encoder/layer_._0/attention/self/value/kernel:0' shape=(544, 384) dtype=float32>,\n",
       " <tf.Variable 'autovc/Decoder/encoder/layer_._0/attention/self/value/bias:0' shape=(384,) dtype=float32>,\n",
       " <tf.Variable 'autovc/Decoder/encoder/layer_._0/attention/output/dense/kernel:0' shape=(384, 544) dtype=float32>,\n",
       " <tf.Variable 'autovc/Decoder/encoder/layer_._0/attention/output/dense/bias:0' shape=(544,) dtype=float32>,\n",
       " <tf.Variable 'autovc/Decoder/encoder/layer_._0/attention/output/LayerNorm/gamma:0' shape=(544,) dtype=float32>,\n",
       " <tf.Variable 'autovc/Decoder/encoder/layer_._0/attention/output/LayerNorm/beta:0' shape=(544,) dtype=float32>,\n",
       " <tf.Variable 'autovc/Decoder/encoder/layer_._0/intermediate/conv1d_1/kernel:0' shape=(3, 544, 1024) dtype=float32>,\n",
       " <tf.Variable 'autovc/Decoder/encoder/layer_._0/intermediate/conv1d_1/bias:0' shape=(1024,) dtype=float32>,\n",
       " <tf.Variable 'autovc/Decoder/encoder/layer_._0/intermediate/conv1d_2/kernel:0' shape=(3, 1024, 544) dtype=float32>,\n",
       " <tf.Variable 'autovc/Decoder/encoder/layer_._0/intermediate/conv1d_2/bias:0' shape=(544,) dtype=float32>,\n",
       " <tf.Variable 'autovc/Decoder/encoder/layer_._0/output/LayerNorm/gamma:0' shape=(544,) dtype=float32>,\n",
       " <tf.Variable 'autovc/Decoder/encoder/layer_._0/output/LayerNorm/beta:0' shape=(544,) dtype=float32>,\n",
       " <tf.Variable 'autovc/Decoder/encoder/layer_._1/attention/self/query/kernel:0' shape=(544, 384) dtype=float32>,\n",
       " <tf.Variable 'autovc/Decoder/encoder/layer_._1/attention/self/query/bias:0' shape=(384,) dtype=float32>,\n",
       " <tf.Variable 'autovc/Decoder/encoder/layer_._1/attention/self/key/kernel:0' shape=(544, 384) dtype=float32>,\n",
       " <tf.Variable 'autovc/Decoder/encoder/layer_._1/attention/self/key/bias:0' shape=(384,) dtype=float32>,\n",
       " <tf.Variable 'autovc/Decoder/encoder/layer_._1/attention/self/value/kernel:0' shape=(544, 384) dtype=float32>,\n",
       " <tf.Variable 'autovc/Decoder/encoder/layer_._1/attention/self/value/bias:0' shape=(384,) dtype=float32>,\n",
       " <tf.Variable 'autovc/Decoder/encoder/layer_._1/attention/output/dense/kernel:0' shape=(384, 544) dtype=float32>,\n",
       " <tf.Variable 'autovc/Decoder/encoder/layer_._1/attention/output/dense/bias:0' shape=(544,) dtype=float32>,\n",
       " <tf.Variable 'autovc/Decoder/encoder/layer_._1/attention/output/LayerNorm/gamma:0' shape=(544,) dtype=float32>,\n",
       " <tf.Variable 'autovc/Decoder/encoder/layer_._1/attention/output/LayerNorm/beta:0' shape=(544,) dtype=float32>,\n",
       " <tf.Variable 'autovc/Decoder/encoder/layer_._1/intermediate/conv1d_1/kernel:0' shape=(3, 544, 1024) dtype=float32>,\n",
       " <tf.Variable 'autovc/Decoder/encoder/layer_._1/intermediate/conv1d_1/bias:0' shape=(1024,) dtype=float32>,\n",
       " <tf.Variable 'autovc/Decoder/encoder/layer_._1/intermediate/conv1d_2/kernel:0' shape=(3, 1024, 544) dtype=float32>,\n",
       " <tf.Variable 'autovc/Decoder/encoder/layer_._1/intermediate/conv1d_2/bias:0' shape=(544,) dtype=float32>,\n",
       " <tf.Variable 'autovc/Decoder/encoder/layer_._1/output/LayerNorm/gamma:0' shape=(544,) dtype=float32>,\n",
       " <tf.Variable 'autovc/Decoder/encoder/layer_._1/output/LayerNorm/beta:0' shape=(544,) dtype=float32>,\n",
       " <tf.Variable 'autovc/Decoder/encoder/layer_._2/attention/self/query/kernel:0' shape=(544, 384) dtype=float32>,\n",
       " <tf.Variable 'autovc/Decoder/encoder/layer_._2/attention/self/query/bias:0' shape=(384,) dtype=float32>,\n",
       " <tf.Variable 'autovc/Decoder/encoder/layer_._2/attention/self/key/kernel:0' shape=(544, 384) dtype=float32>,\n",
       " <tf.Variable 'autovc/Decoder/encoder/layer_._2/attention/self/key/bias:0' shape=(384,) dtype=float32>,\n",
       " <tf.Variable 'autovc/Decoder/encoder/layer_._2/attention/self/value/kernel:0' shape=(544, 384) dtype=float32>,\n",
       " <tf.Variable 'autovc/Decoder/encoder/layer_._2/attention/self/value/bias:0' shape=(384,) dtype=float32>,\n",
       " <tf.Variable 'autovc/Decoder/encoder/layer_._2/attention/output/dense/kernel:0' shape=(384, 544) dtype=float32>,\n",
       " <tf.Variable 'autovc/Decoder/encoder/layer_._2/attention/output/dense/bias:0' shape=(544,) dtype=float32>,\n",
       " <tf.Variable 'autovc/Decoder/encoder/layer_._2/attention/output/LayerNorm/gamma:0' shape=(544,) dtype=float32>,\n",
       " <tf.Variable 'autovc/Decoder/encoder/layer_._2/attention/output/LayerNorm/beta:0' shape=(544,) dtype=float32>,\n",
       " <tf.Variable 'autovc/Decoder/encoder/layer_._2/intermediate/conv1d_1/kernel:0' shape=(3, 544, 1024) dtype=float32>,\n",
       " <tf.Variable 'autovc/Decoder/encoder/layer_._2/intermediate/conv1d_1/bias:0' shape=(1024,) dtype=float32>,\n",
       " <tf.Variable 'autovc/Decoder/encoder/layer_._2/intermediate/conv1d_2/kernel:0' shape=(3, 1024, 544) dtype=float32>,\n",
       " <tf.Variable 'autovc/Decoder/encoder/layer_._2/intermediate/conv1d_2/bias:0' shape=(544,) dtype=float32>,\n",
       " <tf.Variable 'autovc/Decoder/encoder/layer_._2/output/LayerNorm/gamma:0' shape=(544,) dtype=float32>,\n",
       " <tf.Variable 'autovc/Decoder/encoder/layer_._2/output/LayerNorm/beta:0' shape=(544,) dtype=float32>,\n",
       " <tf.Variable 'autovc/Decoder/encoder/layer_._3/attention/self/query/kernel:0' shape=(544, 384) dtype=float32>,\n",
       " <tf.Variable 'autovc/Decoder/encoder/layer_._3/attention/self/query/bias:0' shape=(384,) dtype=float32>,\n",
       " <tf.Variable 'autovc/Decoder/encoder/layer_._3/attention/self/key/kernel:0' shape=(544, 384) dtype=float32>,\n",
       " <tf.Variable 'autovc/Decoder/encoder/layer_._3/attention/self/key/bias:0' shape=(384,) dtype=float32>,\n",
       " <tf.Variable 'autovc/Decoder/encoder/layer_._3/attention/self/value/kernel:0' shape=(544, 384) dtype=float32>,\n",
       " <tf.Variable 'autovc/Decoder/encoder/layer_._3/attention/self/value/bias:0' shape=(384,) dtype=float32>,\n",
       " <tf.Variable 'autovc/Decoder/encoder/layer_._3/attention/output/dense/kernel:0' shape=(384, 544) dtype=float32>,\n",
       " <tf.Variable 'autovc/Decoder/encoder/layer_._3/attention/output/dense/bias:0' shape=(544,) dtype=float32>,\n",
       " <tf.Variable 'autovc/Decoder/encoder/layer_._3/attention/output/LayerNorm/gamma:0' shape=(544,) dtype=float32>,\n",
       " <tf.Variable 'autovc/Decoder/encoder/layer_._3/attention/output/LayerNorm/beta:0' shape=(544,) dtype=float32>,\n",
       " <tf.Variable 'autovc/Decoder/encoder/layer_._3/intermediate/conv1d_1/kernel:0' shape=(3, 544, 1024) dtype=float32>,\n",
       " <tf.Variable 'autovc/Decoder/encoder/layer_._3/intermediate/conv1d_1/bias:0' shape=(1024,) dtype=float32>,\n",
       " <tf.Variable 'autovc/Decoder/encoder/layer_._3/intermediate/conv1d_2/kernel:0' shape=(3, 1024, 544) dtype=float32>,\n",
       " <tf.Variable 'autovc/Decoder/encoder/layer_._3/intermediate/conv1d_2/bias:0' shape=(544,) dtype=float32>,\n",
       " <tf.Variable 'autovc/Decoder/encoder/layer_._3/output/LayerNorm/gamma:0' shape=(544,) dtype=float32>,\n",
       " <tf.Variable 'autovc/Decoder/encoder/layer_._3/output/LayerNorm/beta:0' shape=(544,) dtype=float32>,\n",
       " <tf.Variable 'autovc/mel_before/kernel:0' shape=(544, 80) dtype=float32>,\n",
       " <tf.Variable 'autovc/mel_before/bias:0' shape=(80,) dtype=float32>,\n",
       " <tf.Variable 'autovc/postnet/conv_._0/kernel:0' shape=(5, 80, 512) dtype=float32>,\n",
       " <tf.Variable 'autovc/postnet/conv_._0/bias:0' shape=(512,) dtype=float32>,\n",
       " <tf.Variable 'autovc/postnet/batch_norm_._0/gamma:0' shape=(512,) dtype=float32>,\n",
       " <tf.Variable 'autovc/postnet/batch_norm_._0/beta:0' shape=(512,) dtype=float32>,\n",
       " <tf.Variable 'autovc/postnet/conv_._1/kernel:0' shape=(5, 512, 512) dtype=float32>,\n",
       " <tf.Variable 'autovc/postnet/conv_._1/bias:0' shape=(512,) dtype=float32>,\n",
       " <tf.Variable 'autovc/postnet/batch_norm_._1/gamma:0' shape=(512,) dtype=float32>,\n",
       " <tf.Variable 'autovc/postnet/batch_norm_._1/beta:0' shape=(512,) dtype=float32>,\n",
       " <tf.Variable 'autovc/postnet/conv_._2/kernel:0' shape=(5, 512, 512) dtype=float32>,\n",
       " <tf.Variable 'autovc/postnet/conv_._2/bias:0' shape=(512,) dtype=float32>,\n",
       " <tf.Variable 'autovc/postnet/batch_norm_._2/gamma:0' shape=(512,) dtype=float32>,\n",
       " <tf.Variable 'autovc/postnet/batch_norm_._2/beta:0' shape=(512,) dtype=float32>,\n",
       " <tf.Variable 'autovc/postnet/conv_._3/kernel:0' shape=(5, 512, 512) dtype=float32>,\n",
       " <tf.Variable 'autovc/postnet/conv_._3/bias:0' shape=(512,) dtype=float32>,\n",
       " <tf.Variable 'autovc/postnet/batch_norm_._3/gamma:0' shape=(512,) dtype=float32>,\n",
       " <tf.Variable 'autovc/postnet/batch_norm_._3/beta:0' shape=(512,) dtype=float32>,\n",
       " <tf.Variable 'autovc/postnet/conv_._4/kernel:0' shape=(5, 512, 80) dtype=float32>,\n",
       " <tf.Variable 'autovc/postnet/conv_._4/bias:0' shape=(80,) dtype=float32>,\n",
       " <tf.Variable 'autovc/postnet/batch_norm_._4/gamma:0' shape=(80,) dtype=float32>,\n",
       " <tf.Variable 'autovc/postnet/batch_norm_._4/beta:0' shape=(80,) dtype=float32>]"
      ]
     },
     "execution_count": 30,
     "metadata": {},
     "output_type": "execute_result"
    }
   ],
   "source": [
    "tf.trainable_variables()"
   ]
  },
  {
   "cell_type": "code",
   "execution_count": 27,
   "metadata": {},
   "outputs": [
    {
     "data": {
      "text/plain": [
       "'test/model.ckpt'"
      ]
     },
     "execution_count": 27,
     "metadata": {},
     "output_type": "execute_result"
    }
   ],
   "source": [
    "saver = tf.train.Saver(tf.trainable_variables())\n",
    "saver.save(sess, \"test/model.ckpt\")"
   ]
  },
  {
   "cell_type": "code",
   "execution_count": 28,
   "metadata": {},
   "outputs": [
    {
     "name": "stdout",
     "output_type": "stream",
     "text": [
      "total 218496\r\n",
      "-rw-r--r--  1 huseinzolkepli  staff    77B Feb 12 01:23 checkpoint\r\n",
      "-rw-r--r--  1 huseinzolkepli  staff    97M Feb 12 01:23 model.ckpt.data-00000-of-00001\r\n",
      "-rw-r--r--  1 huseinzolkepli  staff   4.6K Feb 12 01:23 model.ckpt.index\r\n",
      "-rw-r--r--  1 huseinzolkepli  staff    10M Feb 12 01:23 model.ckpt.meta\r\n"
     ]
    }
   ],
   "source": [
    "!ls -lh test"
   ]
  },
  {
   "cell_type": "code",
   "execution_count": 29,
   "metadata": {},
   "outputs": [],
   "source": [
    "!rm -rf test"
   ]
  },
  {
   "cell_type": "code",
   "execution_count": null,
   "metadata": {},
   "outputs": [],
   "source": []
  }
 ],
 "metadata": {
  "kernelspec": {
   "display_name": "Python 3",
   "language": "python",
   "name": "python3"
  },
  "language_info": {
   "codemirror_mode": {
    "name": "ipython",
    "version": 3
   },
   "file_extension": ".py",
   "mimetype": "text/x-python",
   "name": "python",
   "nbconvert_exporter": "python",
   "pygments_lexer": "ipython3",
   "version": "3.7.7"
  }
 },
 "nbformat": 4,
 "nbformat_minor": 4
}

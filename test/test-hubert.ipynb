{
 "cells": [
  {
   "cell_type": "code",
   "execution_count": 14,
   "id": "uniform-italy",
   "metadata": {},
   "outputs": [],
   "source": [
    "# run test-mfcc-kmean.ipynb first to get the data"
   ]
  },
  {
   "cell_type": "code",
   "execution_count": 1,
   "id": "raised-grace",
   "metadata": {},
   "outputs": [],
   "source": [
    "import os\n",
    "\n",
    "os.environ['CUDA_VISIBLE_DEVICES'] = '1'"
   ]
  },
  {
   "cell_type": "code",
   "execution_count": 2,
   "id": "criminal-membership",
   "metadata": {},
   "outputs": [],
   "source": [
    "import sys\n",
    "\n",
    "SOURCE_DIR = os.path.dirname(os.path.dirname(os.path.abspath(__name__)))\n",
    "sys.path.insert(0, SOURCE_DIR)"
   ]
  },
  {
   "cell_type": "code",
   "execution_count": 3,
   "id": "latter-investigator",
   "metadata": {},
   "outputs": [],
   "source": [
    "import tensorflow as tf\n",
    "# tf.compat.v1.enable_eager_execution()"
   ]
  },
  {
   "cell_type": "code",
   "execution_count": 4,
   "id": "worst-composer",
   "metadata": {},
   "outputs": [
    {
     "name": "stdout",
     "output_type": "stream",
     "text": [
      "WARNING:tensorflow:From /Users/huseinzolkepli/Documents/malaya-speech/malaya_speech/train/optimizer/__init__.py:39: The name tf.train.AdagradOptimizer is deprecated. Please use tf.compat.v1.train.AdagradOptimizer instead.\n",
      "\n",
      "WARNING:tensorflow:From /Users/huseinzolkepli/Documents/malaya-speech/malaya_speech/train/optimizer/__init__.py:40: The name tf.train.AdamOptimizer is deprecated. Please use tf.compat.v1.train.AdamOptimizer instead.\n",
      "\n",
      "WARNING:tensorflow:From /Users/huseinzolkepli/Documents/malaya-speech/malaya_speech/train/optimizer/__init__.py:41: The name tf.train.FtrlOptimizer is deprecated. Please use tf.compat.v1.train.FtrlOptimizer instead.\n",
      "\n",
      "WARNING:tensorflow:From /Users/huseinzolkepli/Documents/malaya-speech/malaya_speech/train/optimizer/__init__.py:43: The name tf.train.RMSPropOptimizer is deprecated. Please use tf.compat.v1.train.RMSPropOptimizer instead.\n",
      "\n",
      "WARNING:tensorflow:From /Users/huseinzolkepli/Documents/malaya-speech/malaya_speech/train/optimizer/__init__.py:44: The name tf.train.GradientDescentOptimizer is deprecated. Please use tf.compat.v1.train.GradientDescentOptimizer instead.\n",
      "\n",
      "WARNING:tensorflow:\n",
      "The TensorFlow contrib module will not be included in TensorFlow 2.0.\n",
      "For more information, please see:\n",
      "  * https://github.com/tensorflow/community/blob/master/rfcs/20180907-contrib-sunset.md\n",
      "  * https://github.com/tensorflow/addons\n",
      "  * https://github.com/tensorflow/io (for I/O related ops)\n",
      "If you depend on functionality not listed there, please file an issue.\n",
      "\n"
     ]
    }
   ],
   "source": [
    "import numpy as np\n",
    "import malaya_speech\n",
    "import malaya_speech.config\n",
    "from malaya_speech.train.model import hubert, bert, fastspeech"
   ]
  },
  {
   "cell_type": "code",
   "execution_count": 5,
   "id": "taken-damages",
   "metadata": {},
   "outputs": [],
   "source": [
    "from malaya_speech.train.model.conformer.model import Model as ConformerModel\n",
    "\n",
    "class Encoder:\n",
    "    def __init__(self, config):\n",
    "        self.config = config\n",
    "        self.encoder = ConformerModel(**self.config)\n",
    "\n",
    "    def __call__(self, x, input_mask, training = True):\n",
    "        return self.encoder(x)\n",
    "    \n",
    "config_conformer = malaya_speech.config.conformer_base_encoder_config\n",
    "config_conformer['subsampling']['type'] = 'none'\n",
    "config_conformer['dropout'] = 0.0\n",
    "encoder = Encoder(config_conformer)"
   ]
  },
  {
   "cell_type": "code",
   "execution_count": 6,
   "id": "valued-chapter",
   "metadata": {},
   "outputs": [
    {
     "name": "stdout",
     "output_type": "stream",
     "text": [
      "WARNING:tensorflow:From /Users/huseinzolkepli/Documents/malaya-speech/malaya_speech/train/model/hubert/model.py:59: The name tf.get_variable is deprecated. Please use tf.compat.v1.get_variable instead.\n",
      "\n"
     ]
    }
   ],
   "source": [
    "cfg = hubert.HuBERTConfig()\n",
    "model = hubert.Model(cfg, encoder, ['pad', 'eos', 'unk'] + [str(i) for i in range(100)])"
   ]
  },
  {
   "cell_type": "code",
   "execution_count": 7,
   "id": "sized-apparel",
   "metadata": {},
   "outputs": [],
   "source": [
    "X = tf.placeholder(tf.float32, (None, None))\n",
    "Y = tf.placeholder(tf.int32, (None, None))\n",
    "X_len = tf.placeholder(tf.int32, (None,))"
   ]
  },
  {
   "cell_type": "code",
   "execution_count": 8,
   "id": "south-undergraduate",
   "metadata": {},
   "outputs": [
    {
     "name": "stdout",
     "output_type": "stream",
     "text": [
      "WARNING:tensorflow:From /Users/huseinzolkepli/Documents/tf-1.15/env/lib/python3.7/site-packages/tensorflow_core/python/ops/resource_variable_ops.py:1630: calling BaseResourceVariable.__init__ (from tensorflow.python.ops.resource_variable_ops) with constraint is deprecated and will be removed in a future version.\n",
      "Instructions for updating:\n",
      "If using Keras pass *_constraint arguments to layers.\n",
      "WARNING:tensorflow:From /Users/huseinzolkepli/Documents/malaya-speech/malaya_speech/train/model/hubert/masking.py:10: where (from tensorflow.python.ops.array_ops) is deprecated and will be removed in a future version.\n",
      "Instructions for updating:\n",
      "Use tf.where in 2.0, which has the same broadcast rule as np.where\n",
      "WARNING:tensorflow:From /Users/huseinzolkepli/Documents/malaya-speech/malaya_speech/train/model/hubert/model.py:155: calling cosine_distance (from tensorflow.python.ops.losses.losses_impl) with dim is deprecated and will be removed in a future version.\n",
      "Instructions for updating:\n",
      "dim is deprecated, use axis instead\n"
     ]
    },
    {
     "data": {
      "text/plain": [
       "{'logit_m_list': <tf.Tensor 'hubert/transpose:0' shape=(?, 104) dtype=float32>,\n",
       " 'logit_u_list': <tf.Tensor 'hubert/transpose_1:0' shape=(?, 104) dtype=float32>,\n",
       " 'padding_mask': <tf.Tensor 'hubert/LogicalNot:0' shape=(?, ?) dtype=bool>,\n",
       " 'features_pen': <tf.Tensor 'hubert/Mean:0' shape=() dtype=float32>}"
      ]
     },
     "execution_count": 8,
     "metadata": {},
     "output_type": "execute_result"
    }
   ],
   "source": [
    "r = model(X, padding_mask = X_len, target_list = Y)\n",
    "r"
   ]
  },
  {
   "cell_type": "code",
   "execution_count": 9,
   "id": "stock-parts",
   "metadata": {},
   "outputs": [],
   "source": [
    "target_m = tf.zeros((tf.shape(r['logit_m_list'])[0],),dtype=tf.int32)\n",
    "target_u = tf.zeros((tf.shape(r['logit_u_list'])[0],),dtype=tf.int32)"
   ]
  },
  {
   "cell_type": "code",
   "execution_count": 10,
   "id": "leading-clarity",
   "metadata": {},
   "outputs": [],
   "source": [
    "sample_size = tf.cast(tf.shape(target_m)[0], tf.float32)\n",
    "entropy = tf.nn.sparse_softmax_cross_entropy_with_logits(labels = target_m, logits = r['logit_m_list'])\n",
    "entropy_m = tf.reduce_sum(entropy) / sample_size"
   ]
  },
  {
   "cell_type": "code",
   "execution_count": 11,
   "id": "north-reduction",
   "metadata": {},
   "outputs": [],
   "source": [
    "sample_size = tf.cast(tf.shape(target_u)[0], tf.float32)\n",
    "entropy = tf.nn.sparse_softmax_cross_entropy_with_logits(labels = target_u, logits = r['logit_u_list'])\n",
    "entropy_u = tf.reduce_sum(entropy) / sample_size"
   ]
  },
  {
   "cell_type": "code",
   "execution_count": 12,
   "id": "speaking-framing",
   "metadata": {},
   "outputs": [],
   "source": [
    "loss = entropy_m * 0.95 + entropy_u * 0.05"
   ]
  },
  {
   "cell_type": "code",
   "execution_count": 13,
   "id": "returning-mandate",
   "metadata": {},
   "outputs": [],
   "source": [
    "optimizer = tf.train.AdamOptimizer().minimize(loss)"
   ]
  },
  {
   "cell_type": "code",
   "execution_count": 15,
   "id": "built-values",
   "metadata": {},
   "outputs": [],
   "source": [
    "sess = tf.Session()\n",
    "sess.run(tf.global_variables_initializer())"
   ]
  },
  {
   "cell_type": "code",
   "execution_count": 16,
   "id": "bearing-hardware",
   "metadata": {},
   "outputs": [
    {
     "data": {
      "text/plain": [
       "(456, 90)"
      ]
     },
     "execution_count": 16,
     "metadata": {},
     "output_type": "execute_result"
    }
   ],
   "source": [
    "feat = np.load('out.npy', mmap_mode=\"r\")\n",
    "leng_path = 'out.len'\n",
    "with open(leng_path, \"r\") as f:\n",
    "    lengs = [int(line.rstrip()) for line in f]\n",
    "    offsets = [0] + np.cumsum(lengs[:-1]).tolist()\n",
    "feat.shape"
   ]
  },
  {
   "cell_type": "code",
   "execution_count": 17,
   "id": "romance-theorem",
   "metadata": {},
   "outputs": [],
   "source": [
    "kmean = hubert.kmeans.ApplyKmeans_TF('kmean.km')"
   ]
  },
  {
   "cell_type": "code",
   "execution_count": 18,
   "id": "decimal-venice",
   "metadata": {},
   "outputs": [
    {
     "data": {
      "text/plain": [
       "(2, 2)"
      ]
     },
     "execution_count": 18,
     "metadata": {},
     "output_type": "execute_result"
    }
   ],
   "source": [
    "xs, ys = [], []\n",
    "for offset, leng in zip(offsets, lengs):\n",
    "    x = feat[offset: offset + leng]\n",
    "    y = kmean(x) + 3\n",
    "    ys.append(y)\n",
    "    xs.append(x)\n",
    "len(ys), len(xs)"
   ]
  },
  {
   "cell_type": "code",
   "execution_count": 19,
   "id": "living-turning",
   "metadata": {},
   "outputs": [
    {
     "data": {
      "text/plain": [
       "(90090, 56298)"
      ]
     },
     "execution_count": 19,
     "metadata": {},
     "output_type": "execute_result"
    }
   ],
   "source": [
    "y, sr = malaya_speech.load('../speech/example-speaker/husein-zolkepli.wav', sr = 16000)\n",
    "y1, sr = malaya_speech.load('../speech/example-speaker/shafiqah-idayu.wav', sr = 16000)\n",
    "len(y), len(y1)"
   ]
  },
  {
   "cell_type": "code",
   "execution_count": 20,
   "id": "affiliated-invite",
   "metadata": {},
   "outputs": [
    {
     "data": {
      "text/plain": [
       "(2, 90090)"
      ]
     },
     "execution_count": 20,
     "metadata": {},
     "output_type": "execute_result"
    }
   ],
   "source": [
    "X_ = malaya_speech.padding.sequence_1d([y, y1])\n",
    "X_.shape"
   ]
  },
  {
   "cell_type": "code",
   "execution_count": 21,
   "id": "statistical-magnet",
   "metadata": {},
   "outputs": [
    {
     "data": {
      "text/plain": [
       "(2, 281)"
      ]
     },
     "execution_count": 21,
     "metadata": {},
     "output_type": "execute_result"
    }
   ],
   "source": [
    "Y_ = malaya_speech.padding.sequence_1d(ys)\n",
    "Y_.shape"
   ]
  },
  {
   "cell_type": "code",
   "execution_count": 22,
   "id": "previous-wales",
   "metadata": {},
   "outputs": [],
   "source": [
    "o = sess.run([r, loss, optimizer], feed_dict = {X: X_, X_len: [len(y), len(y1)], Y: Y_})"
   ]
  },
  {
   "cell_type": "code",
   "execution_count": 23,
   "id": "after-blink",
   "metadata": {},
   "outputs": [
    {
     "data": {
      "text/plain": [
       "[4.6806192, None]"
      ]
     },
     "execution_count": 23,
     "metadata": {},
     "output_type": "execute_result"
    }
   ],
   "source": [
    "o[1:]"
   ]
  }
 ],
 "metadata": {
  "kernelspec": {
   "display_name": "Python 3",
   "language": "python",
   "name": "python3"
  },
  "language_info": {
   "codemirror_mode": {
    "name": "ipython",
    "version": 3
   },
   "file_extension": ".py",
   "mimetype": "text/x-python",
   "name": "python",
   "nbconvert_exporter": "python",
   "pygments_lexer": "ipython3",
   "version": "3.7.7"
  }
 },
 "nbformat": 4,
 "nbformat_minor": 5
}

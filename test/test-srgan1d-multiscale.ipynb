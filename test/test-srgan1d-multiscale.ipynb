{
 "cells": [
  {
   "cell_type": "code",
   "execution_count": 1,
   "metadata": {},
   "outputs": [],
   "source": [
    "import os\n",
    "\n",
    "os.environ['CUDA_VISIBLE_DEVICES'] = '1'"
   ]
  },
  {
   "cell_type": "code",
   "execution_count": 2,
   "metadata": {},
   "outputs": [],
   "source": [
    "import sys\n",
    "\n",
    "SOURCE_DIR = os.path.dirname(os.path.dirname(os.path.abspath(__name__)))\n",
    "sys.path.insert(0, SOURCE_DIR)"
   ]
  },
  {
   "cell_type": "code",
   "execution_count": 3,
   "metadata": {
    "scrolled": false
   },
   "outputs": [
    {
     "name": "stdout",
     "output_type": "stream",
     "text": [
      "WARNING:tensorflow:From /Users/huseinzolkepli/Documents/malaya-speech/malaya_speech/train/optimizer/__init__.py:38: The name tf.train.AdagradOptimizer is deprecated. Please use tf.compat.v1.train.AdagradOptimizer instead.\n",
      "\n",
      "WARNING:tensorflow:From /Users/huseinzolkepli/Documents/malaya-speech/malaya_speech/train/optimizer/__init__.py:39: The name tf.train.AdamOptimizer is deprecated. Please use tf.compat.v1.train.AdamOptimizer instead.\n",
      "\n",
      "WARNING:tensorflow:From /Users/huseinzolkepli/Documents/malaya-speech/malaya_speech/train/optimizer/__init__.py:40: The name tf.train.FtrlOptimizer is deprecated. Please use tf.compat.v1.train.FtrlOptimizer instead.\n",
      "\n",
      "WARNING:tensorflow:From /Users/huseinzolkepli/Documents/malaya-speech/malaya_speech/train/optimizer/__init__.py:42: The name tf.train.RMSPropOptimizer is deprecated. Please use tf.compat.v1.train.RMSPropOptimizer instead.\n",
      "\n",
      "WARNING:tensorflow:From /Users/huseinzolkepli/Documents/malaya-speech/malaya_speech/train/optimizer/__init__.py:43: The name tf.train.GradientDescentOptimizer is deprecated. Please use tf.compat.v1.train.GradientDescentOptimizer instead.\n",
      "\n",
      "WARNING:tensorflow:\n",
      "The TensorFlow contrib module will not be included in TensorFlow 2.0.\n",
      "For more information, please see:\n",
      "  * https://github.com/tensorflow/community/blob/master/rfcs/20180907-contrib-sunset.md\n",
      "  * https://github.com/tensorflow/addons\n",
      "  * https://github.com/tensorflow/io (for I/O related ops)\n",
      "If you depend on functionality not listed there, please file an issue.\n",
      "\n"
     ]
    }
   ],
   "source": [
    "import malaya_speech\n",
    "import malaya_speech.config\n",
    "from malaya_speech.train.model import srgan\n",
    "from malaya_speech.train.model import enhancement\n",
    "import tensorflow as tf\n",
    "import numpy as np"
   ]
  },
  {
   "cell_type": "code",
   "execution_count": 4,
   "metadata": {},
   "outputs": [],
   "source": [
    "partition_size = 2048\n",
    "reduction_factor = 4"
   ]
  },
  {
   "cell_type": "code",
   "execution_count": 5,
   "metadata": {},
   "outputs": [
    {
     "name": "stdout",
     "output_type": "stream",
     "text": [
      "WARNING:tensorflow:From /Users/huseinzolkepli/Documents/tf-1.15/env/lib/python3.7/site-packages/tensorflow_core/python/ops/resource_variable_ops.py:1630: calling BaseResourceVariable.__init__ (from tensorflow.python.ops.resource_variable_ops) with constraint is deprecated and will be removed in a future version.\n",
      "Instructions for updating:\n",
      "If using Keras pass *_constraint arguments to layers.\n"
     ]
    }
   ],
   "source": [
    "with tf.variable_scope('generator') as gen:\n",
    "    generator = srgan.Model_Keras(partition_size // 4, training = True)"
   ]
  },
  {
   "cell_type": "code",
   "execution_count": 6,
   "metadata": {},
   "outputs": [],
   "source": [
    "with tf.variable_scope('discriminator') as dis:\n",
    "    discriminator = srgan.MultiScaleDiscriminator(\n",
    "        partition_size, num_filters = 24, training = True\n",
    "    )"
   ]
  },
  {
   "cell_type": "code",
   "execution_count": 8,
   "metadata": {},
   "outputs": [],
   "source": [
    "x = tf.placeholder(tf.float32, (None, 1))\n",
    "y = tf.placeholder(tf.float32, (None, 1))\n",
    "partitioned_x = malaya_speech.tf_featurization.pad_and_partition(x, partition_size // reduction_factor)\n",
    "partitioned_y = malaya_speech.tf_featurization.pad_and_partition(y, partition_size)"
   ]
  },
  {
   "cell_type": "code",
   "execution_count": 9,
   "metadata": {},
   "outputs": [],
   "source": [
    "mse_loss = tf.keras.losses.MeanSquaredError()\n",
    "mae_loss = tf.keras.losses.MeanAbsoluteError()"
   ]
  },
  {
   "cell_type": "code",
   "execution_count": 10,
   "metadata": {},
   "outputs": [],
   "source": [
    "y_hat = generator.model(partitioned_x)\n",
    "y_hat.set_shape((None, partition_size, 1))\n",
    "p_hat = discriminator.model(y_hat)\n",
    "p = discriminator.model(partitioned_y)"
   ]
  },
  {
   "cell_type": "code",
   "execution_count": 11,
   "metadata": {},
   "outputs": [
    {
     "data": {
      "text/plain": [
       "[<tf.Tensor 'model_1_1/leaky_re_lu/LeakyRelu:0' shape=(?, 2048, 24) dtype=float32>,\n",
       " <tf.Tensor 'model_1_1/leaky_re_lu_1/LeakyRelu:0' shape=(?, 1024, 24) dtype=float32>,\n",
       " <tf.Tensor 'model_1_1/leaky_re_lu_3/LeakyRelu:0' shape=(?, 512, 48) dtype=float32>,\n",
       " <tf.Tensor 'model_1_1/leaky_re_lu_5/LeakyRelu:0' shape=(?, 256, 96) dtype=float32>,\n",
       " <tf.Tensor 'model_1_1/leaky_re_lu_7/LeakyRelu:0' shape=(?, 128, 192) dtype=float32>,\n",
       " <tf.Tensor 'model_1_1/leaky_re_lu_9/LeakyRelu:0' shape=(?, 64, 240) dtype=float32>,\n",
       " <tf.Tensor 'model_1_1/leaky_re_lu_11/LeakyRelu:0' shape=(?, 32, 288) dtype=float32>,\n",
       " <tf.Tensor 'model_1_1/leaky_re_lu_13/LeakyRelu:0' shape=(?, 16, 336) dtype=float32>]"
      ]
     },
     "execution_count": 11,
     "metadata": {},
     "output_type": "execute_result"
    }
   ],
   "source": [
    "p"
   ]
  },
  {
   "cell_type": "code",
   "execution_count": 12,
   "metadata": {},
   "outputs": [
    {
     "data": {
      "text/plain": [
       "(<tf.Tensor 'truediv:0' shape=() dtype=float32>,\n",
       " <tf.Tensor 'add_12:0' shape=() dtype=float32>)"
      ]
     },
     "execution_count": 12,
     "metadata": {},
     "output_type": "execute_result"
    }
   ],
   "source": [
    "y_hat = generator.model(partitioned_x)\n",
    "y_hat.set_shape((None, partition_size, 1))\n",
    "p_hat = discriminator.model(y_hat)\n",
    "p = discriminator.model(partitioned_y)\n",
    "fm_loss, adv_loss = 0.0, 0.0\n",
    "for i in range(len(p_hat)):\n",
    "    fm_loss += mae_loss(tf.ones_like(p_hat[i]), p_hat[i])\n",
    "fm_loss /= i + 1\n",
    "adv_loss += 10 * fm_loss\n",
    "fm_loss, adv_loss"
   ]
  },
  {
   "cell_type": "code",
   "execution_count": 13,
   "metadata": {},
   "outputs": [],
   "source": [
    "y_hat = generator.model(partitioned_x)\n",
    "y_hat.set_shape((None, partition_size, 1))\n",
    "p_hat = discriminator.model(y_hat)\n",
    "p = discriminator.model(partitioned_y)\n",
    "real_loss = 0.0\n",
    "fake_loss = 0.0\n",
    "for i in range(len(p)):\n",
    "    real_loss += mse_loss(tf.ones_like(p[i]), p[i])\n",
    "    fake_loss += mse_loss(tf.zeros_like(p[i]), p[i])\n",
    "\n",
    "real_loss /= i + 1\n",
    "fake_loss /= i + 1\n",
    "dis_loss = real_loss + fake_loss"
   ]
  },
  {
   "cell_type": "code",
   "execution_count": 14,
   "metadata": {},
   "outputs": [
    {
     "data": {
      "text/plain": [
       "(<tf.Tensor 'add_12:0' shape=() dtype=float32>,\n",
       " <tf.Tensor 'add_29:0' shape=() dtype=float32>)"
      ]
     },
     "execution_count": 14,
     "metadata": {},
     "output_type": "execute_result"
    }
   ],
   "source": [
    "adv_loss, dis_loss"
   ]
  },
  {
   "cell_type": "code",
   "execution_count": 15,
   "metadata": {},
   "outputs": [
    {
     "data": {
      "text/plain": [
       "[<tf.Variable 'generator/conv1d/kernel:0' shape=(9, 1, 256) dtype=float32>,\n",
       " <tf.Variable 'generator/conv1d/bias:0' shape=(256,) dtype=float32>,\n",
       " <tf.Variable 'generator/p_re_lu/alpha:0' shape=(1, 256) dtype=float32>,\n",
       " <tf.Variable 'generator/conv1d_1/kernel:0' shape=(3, 256, 256) dtype=float32>,\n",
       " <tf.Variable 'generator/conv1d_1/bias:0' shape=(256,) dtype=float32>,\n",
       " <tf.Variable 'generator/batch_normalization/gamma:0' shape=(256,) dtype=float32>,\n",
       " <tf.Variable 'generator/batch_normalization/beta:0' shape=(256,) dtype=float32>,\n",
       " <tf.Variable 'generator/p_re_lu_1/alpha:0' shape=(1, 1) dtype=float32>,\n",
       " <tf.Variable 'generator/conv1d_2/kernel:0' shape=(3, 256, 256) dtype=float32>,\n",
       " <tf.Variable 'generator/conv1d_2/bias:0' shape=(256,) dtype=float32>,\n",
       " <tf.Variable 'generator/batch_normalization_1/gamma:0' shape=(256,) dtype=float32>,\n",
       " <tf.Variable 'generator/batch_normalization_1/beta:0' shape=(256,) dtype=float32>,\n",
       " <tf.Variable 'generator/conv1d_3/kernel:0' shape=(3, 256, 256) dtype=float32>,\n",
       " <tf.Variable 'generator/conv1d_3/bias:0' shape=(256,) dtype=float32>,\n",
       " <tf.Variable 'generator/batch_normalization_2/gamma:0' shape=(256,) dtype=float32>,\n",
       " <tf.Variable 'generator/batch_normalization_2/beta:0' shape=(256,) dtype=float32>,\n",
       " <tf.Variable 'generator/p_re_lu_2/alpha:0' shape=(1, 1) dtype=float32>,\n",
       " <tf.Variable 'generator/conv1d_4/kernel:0' shape=(3, 256, 256) dtype=float32>,\n",
       " <tf.Variable 'generator/conv1d_4/bias:0' shape=(256,) dtype=float32>,\n",
       " <tf.Variable 'generator/batch_normalization_3/gamma:0' shape=(256,) dtype=float32>,\n",
       " <tf.Variable 'generator/batch_normalization_3/beta:0' shape=(256,) dtype=float32>,\n",
       " <tf.Variable 'generator/conv1d_5/kernel:0' shape=(3, 256, 256) dtype=float32>,\n",
       " <tf.Variable 'generator/conv1d_5/bias:0' shape=(256,) dtype=float32>,\n",
       " <tf.Variable 'generator/batch_normalization_4/gamma:0' shape=(256,) dtype=float32>,\n",
       " <tf.Variable 'generator/batch_normalization_4/beta:0' shape=(256,) dtype=float32>,\n",
       " <tf.Variable 'generator/p_re_lu_3/alpha:0' shape=(1, 1) dtype=float32>,\n",
       " <tf.Variable 'generator/conv1d_6/kernel:0' shape=(3, 256, 256) dtype=float32>,\n",
       " <tf.Variable 'generator/conv1d_6/bias:0' shape=(256,) dtype=float32>,\n",
       " <tf.Variable 'generator/batch_normalization_5/gamma:0' shape=(256,) dtype=float32>,\n",
       " <tf.Variable 'generator/batch_normalization_5/beta:0' shape=(256,) dtype=float32>,\n",
       " <tf.Variable 'generator/conv1d_7/kernel:0' shape=(3, 256, 256) dtype=float32>,\n",
       " <tf.Variable 'generator/conv1d_7/bias:0' shape=(256,) dtype=float32>,\n",
       " <tf.Variable 'generator/batch_normalization_6/gamma:0' shape=(256,) dtype=float32>,\n",
       " <tf.Variable 'generator/batch_normalization_6/beta:0' shape=(256,) dtype=float32>,\n",
       " <tf.Variable 'generator/p_re_lu_4/alpha:0' shape=(1, 1) dtype=float32>,\n",
       " <tf.Variable 'generator/conv1d_8/kernel:0' shape=(3, 256, 256) dtype=float32>,\n",
       " <tf.Variable 'generator/conv1d_8/bias:0' shape=(256,) dtype=float32>,\n",
       " <tf.Variable 'generator/batch_normalization_7/gamma:0' shape=(256,) dtype=float32>,\n",
       " <tf.Variable 'generator/batch_normalization_7/beta:0' shape=(256,) dtype=float32>,\n",
       " <tf.Variable 'generator/conv1d_9/kernel:0' shape=(3, 256, 256) dtype=float32>,\n",
       " <tf.Variable 'generator/conv1d_9/bias:0' shape=(256,) dtype=float32>,\n",
       " <tf.Variable 'generator/batch_normalization_8/gamma:0' shape=(256,) dtype=float32>,\n",
       " <tf.Variable 'generator/batch_normalization_8/beta:0' shape=(256,) dtype=float32>,\n",
       " <tf.Variable 'generator/p_re_lu_5/alpha:0' shape=(1, 1) dtype=float32>,\n",
       " <tf.Variable 'generator/conv1d_10/kernel:0' shape=(3, 256, 256) dtype=float32>,\n",
       " <tf.Variable 'generator/conv1d_10/bias:0' shape=(256,) dtype=float32>,\n",
       " <tf.Variable 'generator/batch_normalization_9/gamma:0' shape=(256,) dtype=float32>,\n",
       " <tf.Variable 'generator/batch_normalization_9/beta:0' shape=(256,) dtype=float32>,\n",
       " <tf.Variable 'generator/conv1d_11/kernel:0' shape=(3, 256, 256) dtype=float32>,\n",
       " <tf.Variable 'generator/conv1d_11/bias:0' shape=(256,) dtype=float32>,\n",
       " <tf.Variable 'generator/batch_normalization_10/gamma:0' shape=(256,) dtype=float32>,\n",
       " <tf.Variable 'generator/batch_normalization_10/beta:0' shape=(256,) dtype=float32>,\n",
       " <tf.Variable 'generator/p_re_lu_6/alpha:0' shape=(1, 1) dtype=float32>,\n",
       " <tf.Variable 'generator/conv1d_12/kernel:0' shape=(3, 256, 256) dtype=float32>,\n",
       " <tf.Variable 'generator/conv1d_12/bias:0' shape=(256,) dtype=float32>,\n",
       " <tf.Variable 'generator/batch_normalization_11/gamma:0' shape=(256,) dtype=float32>,\n",
       " <tf.Variable 'generator/batch_normalization_11/beta:0' shape=(256,) dtype=float32>,\n",
       " <tf.Variable 'generator/conv1d_13/kernel:0' shape=(3, 256, 256) dtype=float32>,\n",
       " <tf.Variable 'generator/conv1d_13/bias:0' shape=(256,) dtype=float32>,\n",
       " <tf.Variable 'generator/batch_normalization_12/gamma:0' shape=(256,) dtype=float32>,\n",
       " <tf.Variable 'generator/batch_normalization_12/beta:0' shape=(256,) dtype=float32>,\n",
       " <tf.Variable 'generator/p_re_lu_7/alpha:0' shape=(1, 1) dtype=float32>,\n",
       " <tf.Variable 'generator/conv1d_14/kernel:0' shape=(3, 256, 256) dtype=float32>,\n",
       " <tf.Variable 'generator/conv1d_14/bias:0' shape=(256,) dtype=float32>,\n",
       " <tf.Variable 'generator/batch_normalization_13/gamma:0' shape=(256,) dtype=float32>,\n",
       " <tf.Variable 'generator/batch_normalization_13/beta:0' shape=(256,) dtype=float32>,\n",
       " <tf.Variable 'generator/conv1d_15/kernel:0' shape=(3, 256, 256) dtype=float32>,\n",
       " <tf.Variable 'generator/conv1d_15/bias:0' shape=(256,) dtype=float32>,\n",
       " <tf.Variable 'generator/batch_normalization_14/gamma:0' shape=(256,) dtype=float32>,\n",
       " <tf.Variable 'generator/batch_normalization_14/beta:0' shape=(256,) dtype=float32>,\n",
       " <tf.Variable 'generator/p_re_lu_8/alpha:0' shape=(1, 1) dtype=float32>,\n",
       " <tf.Variable 'generator/conv1d_16/kernel:0' shape=(3, 256, 256) dtype=float32>,\n",
       " <tf.Variable 'generator/conv1d_16/bias:0' shape=(256,) dtype=float32>,\n",
       " <tf.Variable 'generator/batch_normalization_15/gamma:0' shape=(256,) dtype=float32>,\n",
       " <tf.Variable 'generator/batch_normalization_15/beta:0' shape=(256,) dtype=float32>,\n",
       " <tf.Variable 'generator/conv1d_17/kernel:0' shape=(3, 256, 256) dtype=float32>,\n",
       " <tf.Variable 'generator/conv1d_17/bias:0' shape=(256,) dtype=float32>,\n",
       " <tf.Variable 'generator/batch_normalization_16/gamma:0' shape=(256,) dtype=float32>,\n",
       " <tf.Variable 'generator/batch_normalization_16/beta:0' shape=(256,) dtype=float32>,\n",
       " <tf.Variable 'generator/p_re_lu_9/alpha:0' shape=(1, 1) dtype=float32>,\n",
       " <tf.Variable 'generator/conv1d_18/kernel:0' shape=(3, 256, 256) dtype=float32>,\n",
       " <tf.Variable 'generator/conv1d_18/bias:0' shape=(256,) dtype=float32>,\n",
       " <tf.Variable 'generator/batch_normalization_17/gamma:0' shape=(256,) dtype=float32>,\n",
       " <tf.Variable 'generator/batch_normalization_17/beta:0' shape=(256,) dtype=float32>,\n",
       " <tf.Variable 'generator/conv1d_19/kernel:0' shape=(3, 256, 256) dtype=float32>,\n",
       " <tf.Variable 'generator/conv1d_19/bias:0' shape=(256,) dtype=float32>,\n",
       " <tf.Variable 'generator/batch_normalization_18/gamma:0' shape=(256,) dtype=float32>,\n",
       " <tf.Variable 'generator/batch_normalization_18/beta:0' shape=(256,) dtype=float32>,\n",
       " <tf.Variable 'generator/p_re_lu_10/alpha:0' shape=(1, 1) dtype=float32>,\n",
       " <tf.Variable 'generator/conv1d_20/kernel:0' shape=(3, 256, 256) dtype=float32>,\n",
       " <tf.Variable 'generator/conv1d_20/bias:0' shape=(256,) dtype=float32>,\n",
       " <tf.Variable 'generator/batch_normalization_19/gamma:0' shape=(256,) dtype=float32>,\n",
       " <tf.Variable 'generator/batch_normalization_19/beta:0' shape=(256,) dtype=float32>,\n",
       " <tf.Variable 'generator/conv1d_21/kernel:0' shape=(3, 256, 256) dtype=float32>,\n",
       " <tf.Variable 'generator/conv1d_21/bias:0' shape=(256,) dtype=float32>,\n",
       " <tf.Variable 'generator/batch_normalization_20/gamma:0' shape=(256,) dtype=float32>,\n",
       " <tf.Variable 'generator/batch_normalization_20/beta:0' shape=(256,) dtype=float32>,\n",
       " <tf.Variable 'generator/p_re_lu_11/alpha:0' shape=(1, 1) dtype=float32>,\n",
       " <tf.Variable 'generator/conv1d_22/kernel:0' shape=(3, 256, 256) dtype=float32>,\n",
       " <tf.Variable 'generator/conv1d_22/bias:0' shape=(256,) dtype=float32>,\n",
       " <tf.Variable 'generator/batch_normalization_21/gamma:0' shape=(256,) dtype=float32>,\n",
       " <tf.Variable 'generator/batch_normalization_21/beta:0' shape=(256,) dtype=float32>,\n",
       " <tf.Variable 'generator/conv1d_23/kernel:0' shape=(3, 256, 256) dtype=float32>,\n",
       " <tf.Variable 'generator/conv1d_23/bias:0' shape=(256,) dtype=float32>,\n",
       " <tf.Variable 'generator/batch_normalization_22/gamma:0' shape=(256,) dtype=float32>,\n",
       " <tf.Variable 'generator/batch_normalization_22/beta:0' shape=(256,) dtype=float32>,\n",
       " <tf.Variable 'generator/p_re_lu_12/alpha:0' shape=(1, 1) dtype=float32>,\n",
       " <tf.Variable 'generator/conv1d_24/kernel:0' shape=(3, 256, 256) dtype=float32>,\n",
       " <tf.Variable 'generator/conv1d_24/bias:0' shape=(256,) dtype=float32>,\n",
       " <tf.Variable 'generator/batch_normalization_23/gamma:0' shape=(256,) dtype=float32>,\n",
       " <tf.Variable 'generator/batch_normalization_23/beta:0' shape=(256,) dtype=float32>,\n",
       " <tf.Variable 'generator/conv1d_25/kernel:0' shape=(3, 256, 256) dtype=float32>,\n",
       " <tf.Variable 'generator/conv1d_25/bias:0' shape=(256,) dtype=float32>,\n",
       " <tf.Variable 'generator/batch_normalization_24/gamma:0' shape=(256,) dtype=float32>,\n",
       " <tf.Variable 'generator/batch_normalization_24/beta:0' shape=(256,) dtype=float32>,\n",
       " <tf.Variable 'generator/p_re_lu_13/alpha:0' shape=(1, 1) dtype=float32>,\n",
       " <tf.Variable 'generator/conv1d_26/kernel:0' shape=(3, 256, 256) dtype=float32>,\n",
       " <tf.Variable 'generator/conv1d_26/bias:0' shape=(256,) dtype=float32>,\n",
       " <tf.Variable 'generator/batch_normalization_25/gamma:0' shape=(256,) dtype=float32>,\n",
       " <tf.Variable 'generator/batch_normalization_25/beta:0' shape=(256,) dtype=float32>,\n",
       " <tf.Variable 'generator/conv1d_27/kernel:0' shape=(3, 256, 256) dtype=float32>,\n",
       " <tf.Variable 'generator/conv1d_27/bias:0' shape=(256,) dtype=float32>,\n",
       " <tf.Variable 'generator/batch_normalization_26/gamma:0' shape=(256,) dtype=float32>,\n",
       " <tf.Variable 'generator/batch_normalization_26/beta:0' shape=(256,) dtype=float32>,\n",
       " <tf.Variable 'generator/p_re_lu_14/alpha:0' shape=(1, 1) dtype=float32>,\n",
       " <tf.Variable 'generator/conv1d_28/kernel:0' shape=(3, 256, 256) dtype=float32>,\n",
       " <tf.Variable 'generator/conv1d_28/bias:0' shape=(256,) dtype=float32>,\n",
       " <tf.Variable 'generator/batch_normalization_27/gamma:0' shape=(256,) dtype=float32>,\n",
       " <tf.Variable 'generator/batch_normalization_27/beta:0' shape=(256,) dtype=float32>,\n",
       " <tf.Variable 'generator/conv1d_29/kernel:0' shape=(3, 256, 256) dtype=float32>,\n",
       " <tf.Variable 'generator/conv1d_29/bias:0' shape=(256,) dtype=float32>,\n",
       " <tf.Variable 'generator/batch_normalization_28/gamma:0' shape=(256,) dtype=float32>,\n",
       " <tf.Variable 'generator/batch_normalization_28/beta:0' shape=(256,) dtype=float32>,\n",
       " <tf.Variable 'generator/p_re_lu_15/alpha:0' shape=(1, 1) dtype=float32>,\n",
       " <tf.Variable 'generator/conv1d_30/kernel:0' shape=(3, 256, 256) dtype=float32>,\n",
       " <tf.Variable 'generator/conv1d_30/bias:0' shape=(256,) dtype=float32>,\n",
       " <tf.Variable 'generator/batch_normalization_29/gamma:0' shape=(256,) dtype=float32>,\n",
       " <tf.Variable 'generator/batch_normalization_29/beta:0' shape=(256,) dtype=float32>,\n",
       " <tf.Variable 'generator/conv1d_31/kernel:0' shape=(3, 256, 256) dtype=float32>,\n",
       " <tf.Variable 'generator/conv1d_31/bias:0' shape=(256,) dtype=float32>,\n",
       " <tf.Variable 'generator/batch_normalization_30/gamma:0' shape=(256,) dtype=float32>,\n",
       " <tf.Variable 'generator/batch_normalization_30/beta:0' shape=(256,) dtype=float32>,\n",
       " <tf.Variable 'generator/p_re_lu_16/alpha:0' shape=(1, 1) dtype=float32>,\n",
       " <tf.Variable 'generator/conv1d_32/kernel:0' shape=(3, 256, 256) dtype=float32>,\n",
       " <tf.Variable 'generator/conv1d_32/bias:0' shape=(256,) dtype=float32>,\n",
       " <tf.Variable 'generator/batch_normalization_31/gamma:0' shape=(256,) dtype=float32>,\n",
       " <tf.Variable 'generator/batch_normalization_31/beta:0' shape=(256,) dtype=float32>,\n",
       " <tf.Variable 'generator/conv1d_33/kernel:0' shape=(3, 256, 256) dtype=float32>,\n",
       " <tf.Variable 'generator/conv1d_33/bias:0' shape=(256,) dtype=float32>,\n",
       " <tf.Variable 'generator/batch_normalization_32/gamma:0' shape=(256,) dtype=float32>,\n",
       " <tf.Variable 'generator/batch_normalization_32/beta:0' shape=(256,) dtype=float32>,\n",
       " <tf.Variable 'generator/conv1d_34/kernel:0' shape=(3, 256, 512) dtype=float32>,\n",
       " <tf.Variable 'generator/conv1d_34/bias:0' shape=(512,) dtype=float32>,\n",
       " <tf.Variable 'generator/p_re_lu_17/alpha:0' shape=(1, 1) dtype=float32>,\n",
       " <tf.Variable 'generator/conv1d_35/kernel:0' shape=(3, 256, 512) dtype=float32>,\n",
       " <tf.Variable 'generator/conv1d_35/bias:0' shape=(512,) dtype=float32>,\n",
       " <tf.Variable 'generator/p_re_lu_18/alpha:0' shape=(1, 1) dtype=float32>,\n",
       " <tf.Variable 'generator/conv1d_36/kernel:0' shape=(9, 256, 1) dtype=float32>,\n",
       " <tf.Variable 'generator/conv1d_36/bias:0' shape=(1,) dtype=float32>,\n",
       " <tf.Variable 'discriminator/conv1d_37/kernel:0' shape=(3, 1, 24) dtype=float32>,\n",
       " <tf.Variable 'discriminator/conv1d_37/bias:0' shape=(24,) dtype=float32>,\n",
       " <tf.Variable 'discriminator/conv1d_38/kernel:0' shape=(3, 24, 24) dtype=float32>,\n",
       " <tf.Variable 'discriminator/conv1d_38/bias:0' shape=(24,) dtype=float32>,\n",
       " <tf.Variable 'discriminator/batch_normalization_33/gamma:0' shape=(24,) dtype=float32>,\n",
       " <tf.Variable 'discriminator/batch_normalization_33/beta:0' shape=(24,) dtype=float32>,\n",
       " <tf.Variable 'discriminator/conv1d_39/kernel:0' shape=(3, 24, 48) dtype=float32>,\n",
       " <tf.Variable 'discriminator/conv1d_39/bias:0' shape=(48,) dtype=float32>,\n",
       " <tf.Variable 'discriminator/batch_normalization_34/gamma:0' shape=(48,) dtype=float32>,\n",
       " <tf.Variable 'discriminator/batch_normalization_34/beta:0' shape=(48,) dtype=float32>,\n",
       " <tf.Variable 'discriminator/conv1d_40/kernel:0' shape=(3, 48, 48) dtype=float32>,\n",
       " <tf.Variable 'discriminator/conv1d_40/bias:0' shape=(48,) dtype=float32>,\n",
       " <tf.Variable 'discriminator/batch_normalization_35/gamma:0' shape=(48,) dtype=float32>,\n",
       " <tf.Variable 'discriminator/batch_normalization_35/beta:0' shape=(48,) dtype=float32>,\n",
       " <tf.Variable 'discriminator/conv1d_41/kernel:0' shape=(3, 48, 96) dtype=float32>,\n",
       " <tf.Variable 'discriminator/conv1d_41/bias:0' shape=(96,) dtype=float32>,\n",
       " <tf.Variable 'discriminator/batch_normalization_36/gamma:0' shape=(96,) dtype=float32>,\n",
       " <tf.Variable 'discriminator/batch_normalization_36/beta:0' shape=(96,) dtype=float32>,\n",
       " <tf.Variable 'discriminator/conv1d_42/kernel:0' shape=(3, 96, 96) dtype=float32>,\n",
       " <tf.Variable 'discriminator/conv1d_42/bias:0' shape=(96,) dtype=float32>,\n",
       " <tf.Variable 'discriminator/batch_normalization_37/gamma:0' shape=(96,) dtype=float32>,\n",
       " <tf.Variable 'discriminator/batch_normalization_37/beta:0' shape=(96,) dtype=float32>,\n",
       " <tf.Variable 'discriminator/conv1d_43/kernel:0' shape=(3, 96, 192) dtype=float32>,\n",
       " <tf.Variable 'discriminator/conv1d_43/bias:0' shape=(192,) dtype=float32>,\n",
       " <tf.Variable 'discriminator/batch_normalization_38/gamma:0' shape=(192,) dtype=float32>,\n",
       " <tf.Variable 'discriminator/batch_normalization_38/beta:0' shape=(192,) dtype=float32>,\n",
       " <tf.Variable 'discriminator/conv1d_44/kernel:0' shape=(3, 192, 192) dtype=float32>,\n",
       " <tf.Variable 'discriminator/conv1d_44/bias:0' shape=(192,) dtype=float32>,\n",
       " <tf.Variable 'discriminator/batch_normalization_39/gamma:0' shape=(192,) dtype=float32>,\n",
       " <tf.Variable 'discriminator/batch_normalization_39/beta:0' shape=(192,) dtype=float32>,\n",
       " <tf.Variable 'discriminator/conv1d_45/kernel:0' shape=(3, 192, 240) dtype=float32>,\n",
       " <tf.Variable 'discriminator/conv1d_45/bias:0' shape=(240,) dtype=float32>,\n",
       " <tf.Variable 'discriminator/batch_normalization_40/gamma:0' shape=(240,) dtype=float32>,\n",
       " <tf.Variable 'discriminator/batch_normalization_40/beta:0' shape=(240,) dtype=float32>,\n",
       " <tf.Variable 'discriminator/conv1d_46/kernel:0' shape=(3, 240, 240) dtype=float32>,\n",
       " <tf.Variable 'discriminator/conv1d_46/bias:0' shape=(240,) dtype=float32>,\n",
       " <tf.Variable 'discriminator/batch_normalization_41/gamma:0' shape=(240,) dtype=float32>,\n",
       " <tf.Variable 'discriminator/batch_normalization_41/beta:0' shape=(240,) dtype=float32>,\n",
       " <tf.Variable 'discriminator/conv1d_47/kernel:0' shape=(3, 240, 288) dtype=float32>,\n",
       " <tf.Variable 'discriminator/conv1d_47/bias:0' shape=(288,) dtype=float32>,\n",
       " <tf.Variable 'discriminator/batch_normalization_42/gamma:0' shape=(288,) dtype=float32>,\n",
       " <tf.Variable 'discriminator/batch_normalization_42/beta:0' shape=(288,) dtype=float32>,\n",
       " <tf.Variable 'discriminator/conv1d_48/kernel:0' shape=(3, 288, 288) dtype=float32>,\n",
       " <tf.Variable 'discriminator/conv1d_48/bias:0' shape=(288,) dtype=float32>,\n",
       " <tf.Variable 'discriminator/batch_normalization_43/gamma:0' shape=(288,) dtype=float32>,\n",
       " <tf.Variable 'discriminator/batch_normalization_43/beta:0' shape=(288,) dtype=float32>,\n",
       " <tf.Variable 'discriminator/conv1d_49/kernel:0' shape=(3, 288, 336) dtype=float32>,\n",
       " <tf.Variable 'discriminator/conv1d_49/bias:0' shape=(336,) dtype=float32>,\n",
       " <tf.Variable 'discriminator/batch_normalization_44/gamma:0' shape=(336,) dtype=float32>,\n",
       " <tf.Variable 'discriminator/batch_normalization_44/beta:0' shape=(336,) dtype=float32>,\n",
       " <tf.Variable 'discriminator/conv1d_50/kernel:0' shape=(3, 336, 336) dtype=float32>,\n",
       " <tf.Variable 'discriminator/conv1d_50/bias:0' shape=(336,) dtype=float32>,\n",
       " <tf.Variable 'discriminator/batch_normalization_45/gamma:0' shape=(336,) dtype=float32>,\n",
       " <tf.Variable 'discriminator/batch_normalization_45/beta:0' shape=(336,) dtype=float32>]"
      ]
     },
     "execution_count": 15,
     "metadata": {},
     "output_type": "execute_result"
    }
   ],
   "source": [
    "tf.trainable_variables()"
   ]
  },
  {
   "cell_type": "code",
   "execution_count": 16,
   "metadata": {},
   "outputs": [],
   "source": [
    "sess = tf.InteractiveSession()\n",
    "sess.run(tf.global_variables_initializer())"
   ]
  },
  {
   "cell_type": "code",
   "execution_count": 17,
   "metadata": {},
   "outputs": [],
   "source": [
    "y_lr, sr_lr = malaya_speech.load('../speech/record/savewav_2020-09-06_21-48-43_174842.wav', sr = 11025)\n",
    "y_hr, sr_hr = malaya_speech.load('../speech/record/savewav_2020-09-06_21-48-43_174842.wav', sr = 44100)"
   ]
  },
  {
   "cell_type": "code",
   "execution_count": 18,
   "metadata": {},
   "outputs": [
    {
     "name": "stdout",
     "output_type": "stream",
     "text": [
      "CPU times: user 1min 19s, sys: 4.76 s, total: 1min 23s\n",
      "Wall time: 13.5 s\n"
     ]
    },
    {
     "data": {
      "text/plain": [
       "[8.802048, 1.38012]"
      ]
     },
     "execution_count": 18,
     "metadata": {},
     "output_type": "execute_result"
    }
   ],
   "source": [
    "%%time\n",
    "\n",
    "sess.run([adv_loss, dis_loss], feed_dict = {x: np.expand_dims(y_lr, -1), y: np.expand_dims(y_hr, -1)})"
   ]
  },
  {
   "cell_type": "code",
   "execution_count": 20,
   "metadata": {},
   "outputs": [],
   "source": [
    "# y_[1].shape"
   ]
  },
  {
   "cell_type": "code",
   "execution_count": 21,
   "metadata": {},
   "outputs": [],
   "source": [
    "# y_.reshape((-1)).shape"
   ]
  },
  {
   "cell_type": "code",
   "execution_count": null,
   "metadata": {},
   "outputs": [],
   "source": [
    "import IPython.display as ipd\n",
    "\n",
    "ipd.Audio(y_.reshape((-1)), rate = 44100)"
   ]
  },
  {
   "cell_type": "code",
   "execution_count": 22,
   "metadata": {},
   "outputs": [],
   "source": [
    "saver = tf.train.Saver()"
   ]
  },
  {
   "cell_type": "code",
   "execution_count": 23,
   "metadata": {},
   "outputs": [
    {
     "data": {
      "text/plain": [
       "'test/model.ckpt'"
      ]
     },
     "execution_count": 23,
     "metadata": {},
     "output_type": "execute_result"
    }
   ],
   "source": [
    "saver.save(sess, 'test/model.ckpt')"
   ]
  },
  {
   "cell_type": "code",
   "execution_count": 24,
   "metadata": {},
   "outputs": [
    {
     "name": "stdout",
     "output_type": "stream",
     "text": [
      "total 75080\r\n",
      "-rw-r--r--  1 huseinzolkepli  staff    77B Feb 26 00:30 checkpoint\r\n",
      "-rw-r--r--  1 huseinzolkepli  staff    34M Feb 26 00:30 model.ckpt.data-00000-of-00001\r\n",
      "-rw-r--r--  1 huseinzolkepli  staff    11K Feb 26 00:30 model.ckpt.index\r\n",
      "-rw-r--r--  1 huseinzolkepli  staff   2.5M Feb 26 00:30 model.ckpt.meta\r\n"
     ]
    }
   ],
   "source": [
    "!ls -lh test"
   ]
  },
  {
   "cell_type": "code",
   "execution_count": 25,
   "metadata": {},
   "outputs": [],
   "source": [
    "!rm -rf test"
   ]
  }
 ],
 "metadata": {
  "kernelspec": {
   "display_name": "Python 3",
   "language": "python",
   "name": "python3"
  },
  "language_info": {
   "codemirror_mode": {
    "name": "ipython",
    "version": 3
   },
   "file_extension": ".py",
   "mimetype": "text/x-python",
   "name": "python",
   "nbconvert_exporter": "python",
   "pygments_lexer": "ipython3",
   "version": "3.7.7"
  }
 },
 "nbformat": 4,
 "nbformat_minor": 4
}

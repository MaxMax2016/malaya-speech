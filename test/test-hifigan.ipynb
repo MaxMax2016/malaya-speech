{
 "cells": [
  {
   "cell_type": "code",
   "execution_count": 1,
   "metadata": {},
   "outputs": [],
   "source": [
    "# !wget https://raw.githubusercontent.com/TensorSpeech/TensorFlowTTS/master/examples/hifigan/conf/hifigan.v2.yaml"
   ]
  },
  {
   "cell_type": "code",
   "execution_count": 2,
   "metadata": {},
   "outputs": [],
   "source": [
    "import os\n",
    "\n",
    "os.environ['CUDA_VISIBLE_DEVICES'] = '1'"
   ]
  },
  {
   "cell_type": "code",
   "execution_count": 3,
   "metadata": {},
   "outputs": [],
   "source": [
    "import sys\n",
    "\n",
    "SOURCE_DIR = os.path.dirname(os.path.dirname(os.path.abspath(__name__)))\n",
    "sys.path.insert(0, SOURCE_DIR)"
   ]
  },
  {
   "cell_type": "code",
   "execution_count": 4,
   "metadata": {},
   "outputs": [],
   "source": [
    "import malaya_speech\n",
    "import malaya_speech.train\n",
    "from malaya_speech.train.model import melgan, hifigan\n",
    "from malaya_speech.train.model import stft\n",
    "import malaya_speech.config\n",
    "from malaya_speech.train.loss import calculate_2d_loss, calculate_3d_loss\n",
    "import tensorflow as tf"
   ]
  },
  {
   "cell_type": "code",
   "execution_count": 5,
   "metadata": {},
   "outputs": [],
   "source": [
    "hifigan_config = malaya_speech.config.hifigan_config_v2\n",
    "hifigan_config['hifigan_generator_params']['filters'] = 512"
   ]
  },
  {
   "cell_type": "code",
   "execution_count": 6,
   "metadata": {},
   "outputs": [],
   "source": [
    "generator = hifigan.MultiGenerator(\n",
    "    hifigan.GeneratorConfig(**hifigan_config[\"hifigan_generator_params\"]),\n",
    "    name=\"hifigan_generator\",\n",
    ")"
   ]
  },
  {
   "cell_type": "code",
   "execution_count": 7,
   "metadata": {},
   "outputs": [],
   "source": [
    "multiperiod_discriminator = hifigan.MultiPeriodDiscriminator(\n",
    "    hifigan.DiscriminatorConfig(**hifigan_config[\"hifigan_discriminator_params\"]),\n",
    "    name=\"hifigan_multiperiod_discriminator\",\n",
    ")\n",
    "multiscale_discriminator = melgan.MultiScaleDiscriminator(\n",
    "    melgan.DiscriminatorConfig(\n",
    "        **hifigan_config[\"melgan_discriminator_params\"],\n",
    "        name=\"melgan_multiscale_discriminator\",\n",
    "    )\n",
    ")"
   ]
  },
  {
   "cell_type": "code",
   "execution_count": 8,
   "metadata": {},
   "outputs": [],
   "source": [
    "discriminator = hifigan.Discriminator(multiperiod_discriminator, multiscale_discriminator)"
   ]
  },
  {
   "cell_type": "code",
   "execution_count": 7,
   "metadata": {},
   "outputs": [
    {
     "name": "stdout",
     "output_type": "stream",
     "text": [
      "WARNING:tensorflow:From /Library/Frameworks/Python.framework/Versions/3.7/lib/python3.7/site-packages/tensorflow_core/python/ops/resource_variable_ops.py:1630: calling BaseResourceVariable.__init__ (from tensorflow.python.ops.resource_variable_ops) with constraint is deprecated and will be removed in a future version.\n",
      "Instructions for updating:\n",
      "If using Keras pass *_constraint arguments to layers.\n"
     ]
    }
   ],
   "source": [
    "y = tf.placeholder(tf.float32, (None, None))\n",
    "x = tf.placeholder(tf.float32, (None, None, 80))\n",
    "y_hat = generator(x)\n",
    "# p_hat = discriminator(y_hat)\n",
    "# p = discriminator(tf.expand_dims(y, -1))"
   ]
  },
  {
   "cell_type": "code",
   "execution_count": 8,
   "metadata": {},
   "outputs": [
    {
     "data": {
      "text/plain": [
       "<tf.Tensor 'hifigan_generator/sequential/activation/Tanh:0' shape=(?, ?, 1) dtype=float32>"
      ]
     },
     "execution_count": 8,
     "metadata": {},
     "output_type": "execute_result"
    }
   ],
   "source": [
    "y_hat"
   ]
  },
  {
   "cell_type": "code",
   "execution_count": 9,
   "metadata": {},
   "outputs": [],
   "source": [
    "sess = tf.InteractiveSession()\n",
    "sess.run(tf.global_variables_initializer())"
   ]
  },
  {
   "cell_type": "code",
   "execution_count": 11,
   "metadata": {},
   "outputs": [
    {
     "data": {
      "text/plain": [
       "(1, 51200, 1)"
      ]
     },
     "execution_count": 11,
     "metadata": {},
     "output_type": "execute_result"
    }
   ],
   "source": [
    "import numpy as np\n",
    "\n",
    "sess.run(y_hat, feed_dict = {x: np.random.uniform(size=(1,200,80))}).shape"
   ]
  },
  {
   "cell_type": "code",
   "execution_count": 12,
   "metadata": {},
   "outputs": [
    {
     "data": {
      "text/plain": [
       "'test/model.ckpt'"
      ]
     },
     "execution_count": 12,
     "metadata": {},
     "output_type": "execute_result"
    }
   ],
   "source": [
    "saver = tf.train.Saver()\n",
    "saver.save(sess, 'test/model.ckpt')"
   ]
  },
  {
   "cell_type": "code",
   "execution_count": 13,
   "metadata": {},
   "outputs": [
    {
     "name": "stdout",
     "output_type": "stream",
     "text": [
      "total 65256\r\n",
      "-rw-r--r--  1 huseinzolkepli  staff    77B Nov  4 13:20 checkpoint\r\n",
      "-rw-r--r--  1 huseinzolkepli  staff    31M Nov  4 13:20 model.ckpt.data-00000-of-00001\r\n",
      "-rw-r--r--  1 huseinzolkepli  staff   3.7K Nov  4 13:20 model.ckpt.index\r\n",
      "-rw-r--r--  1 huseinzolkepli  staff   815K Nov  4 13:20 model.ckpt.meta\r\n"
     ]
    }
   ],
   "source": [
    "!ls -lh test\n",
    "!rm -rf test"
   ]
  },
  {
   "cell_type": "code",
   "execution_count": 14,
   "metadata": {},
   "outputs": [
    {
     "data": {
      "text/plain": [
       "[<tf.Variable 'hifigan_generator/sequential/conv1d/kernel:0' shape=(7, 80, 512) dtype=float32>,\n",
       " <tf.Variable 'hifigan_generator/sequential/conv1d/bias:0' shape=(512,) dtype=float32>,\n",
       " <tf.Variable 'hifigan_generator/sequential/conv_transpose_._0/conv2d_transpose/kernel:0' shape=(16, 1, 256, 512) dtype=float32>,\n",
       " <tf.Variable 'hifigan_generator/sequential/conv_transpose_._0/conv2d_transpose/bias:0' shape=(256,) dtype=float32>,\n",
       " <tf.Variable 'hifigan_generator/sequential/multi_hifigan_resblock_._0/hifigan_resblock_._0/conv1d_1/kernel:0' shape=(3, 256, 256) dtype=float32>,\n",
       " <tf.Variable 'hifigan_generator/sequential/multi_hifigan_resblock_._0/hifigan_resblock_._0/conv1d_1/bias:0' shape=(256,) dtype=float32>,\n",
       " <tf.Variable 'hifigan_generator/sequential/multi_hifigan_resblock_._0/hifigan_resblock_._0/conv1d_2/kernel:0' shape=(3, 256, 256) dtype=float32>,\n",
       " <tf.Variable 'hifigan_generator/sequential/multi_hifigan_resblock_._0/hifigan_resblock_._0/conv1d_2/bias:0' shape=(256,) dtype=float32>,\n",
       " <tf.Variable 'hifigan_generator/sequential/multi_hifigan_resblock_._0/hifigan_resblock_._0/conv1d_3/kernel:0' shape=(3, 256, 256) dtype=float32>,\n",
       " <tf.Variable 'hifigan_generator/sequential/multi_hifigan_resblock_._0/hifigan_resblock_._0/conv1d_3/bias:0' shape=(256,) dtype=float32>,\n",
       " <tf.Variable 'hifigan_generator/sequential/multi_hifigan_resblock_._0/hifigan_resblock_._0/conv1d_4/kernel:0' shape=(3, 256, 256) dtype=float32>,\n",
       " <tf.Variable 'hifigan_generator/sequential/multi_hifigan_resblock_._0/hifigan_resblock_._0/conv1d_4/bias:0' shape=(256,) dtype=float32>,\n",
       " <tf.Variable 'hifigan_generator/sequential/multi_hifigan_resblock_._0/hifigan_resblock_._1/conv1d_5/kernel:0' shape=(5, 256, 256) dtype=float32>,\n",
       " <tf.Variable 'hifigan_generator/sequential/multi_hifigan_resblock_._0/hifigan_resblock_._1/conv1d_5/bias:0' shape=(256,) dtype=float32>,\n",
       " <tf.Variable 'hifigan_generator/sequential/multi_hifigan_resblock_._0/hifigan_resblock_._1/conv1d_6/kernel:0' shape=(5, 256, 256) dtype=float32>,\n",
       " <tf.Variable 'hifigan_generator/sequential/multi_hifigan_resblock_._0/hifigan_resblock_._1/conv1d_6/bias:0' shape=(256,) dtype=float32>,\n",
       " <tf.Variable 'hifigan_generator/sequential/multi_hifigan_resblock_._0/hifigan_resblock_._1/conv1d_7/kernel:0' shape=(5, 256, 256) dtype=float32>,\n",
       " <tf.Variable 'hifigan_generator/sequential/multi_hifigan_resblock_._0/hifigan_resblock_._1/conv1d_7/bias:0' shape=(256,) dtype=float32>,\n",
       " <tf.Variable 'hifigan_generator/sequential/multi_hifigan_resblock_._0/hifigan_resblock_._1/conv1d_8/kernel:0' shape=(5, 256, 256) dtype=float32>,\n",
       " <tf.Variable 'hifigan_generator/sequential/multi_hifigan_resblock_._0/hifigan_resblock_._1/conv1d_8/bias:0' shape=(256,) dtype=float32>,\n",
       " <tf.Variable 'hifigan_generator/sequential/multi_hifigan_resblock_._0/hifigan_resblock_._2/conv1d_9/kernel:0' shape=(7, 256, 256) dtype=float32>,\n",
       " <tf.Variable 'hifigan_generator/sequential/multi_hifigan_resblock_._0/hifigan_resblock_._2/conv1d_9/bias:0' shape=(256,) dtype=float32>,\n",
       " <tf.Variable 'hifigan_generator/sequential/multi_hifigan_resblock_._0/hifigan_resblock_._2/conv1d_10/kernel:0' shape=(7, 256, 256) dtype=float32>,\n",
       " <tf.Variable 'hifigan_generator/sequential/multi_hifigan_resblock_._0/hifigan_resblock_._2/conv1d_10/bias:0' shape=(256,) dtype=float32>,\n",
       " <tf.Variable 'hifigan_generator/sequential/multi_hifigan_resblock_._0/hifigan_resblock_._2/conv1d_11/kernel:0' shape=(7, 256, 256) dtype=float32>,\n",
       " <tf.Variable 'hifigan_generator/sequential/multi_hifigan_resblock_._0/hifigan_resblock_._2/conv1d_11/bias:0' shape=(256,) dtype=float32>,\n",
       " <tf.Variable 'hifigan_generator/sequential/multi_hifigan_resblock_._0/hifigan_resblock_._2/conv1d_12/kernel:0' shape=(7, 256, 256) dtype=float32>,\n",
       " <tf.Variable 'hifigan_generator/sequential/multi_hifigan_resblock_._0/hifigan_resblock_._2/conv1d_12/bias:0' shape=(256,) dtype=float32>,\n",
       " <tf.Variable 'hifigan_generator/sequential/conv_transpose_._1/conv2d_transpose_1/kernel:0' shape=(16, 1, 128, 256) dtype=float32>,\n",
       " <tf.Variable 'hifigan_generator/sequential/conv_transpose_._1/conv2d_transpose_1/bias:0' shape=(128,) dtype=float32>,\n",
       " <tf.Variable 'hifigan_generator/sequential/multi_hifigan_resblock_._1/hifigan_resblock_._0/conv1d_13/kernel:0' shape=(3, 128, 128) dtype=float32>,\n",
       " <tf.Variable 'hifigan_generator/sequential/multi_hifigan_resblock_._1/hifigan_resblock_._0/conv1d_13/bias:0' shape=(128,) dtype=float32>,\n",
       " <tf.Variable 'hifigan_generator/sequential/multi_hifigan_resblock_._1/hifigan_resblock_._0/conv1d_14/kernel:0' shape=(3, 128, 128) dtype=float32>,\n",
       " <tf.Variable 'hifigan_generator/sequential/multi_hifigan_resblock_._1/hifigan_resblock_._0/conv1d_14/bias:0' shape=(128,) dtype=float32>,\n",
       " <tf.Variable 'hifigan_generator/sequential/multi_hifigan_resblock_._1/hifigan_resblock_._0/conv1d_15/kernel:0' shape=(3, 128, 128) dtype=float32>,\n",
       " <tf.Variable 'hifigan_generator/sequential/multi_hifigan_resblock_._1/hifigan_resblock_._0/conv1d_15/bias:0' shape=(128,) dtype=float32>,\n",
       " <tf.Variable 'hifigan_generator/sequential/multi_hifigan_resblock_._1/hifigan_resblock_._0/conv1d_16/kernel:0' shape=(3, 128, 128) dtype=float32>,\n",
       " <tf.Variable 'hifigan_generator/sequential/multi_hifigan_resblock_._1/hifigan_resblock_._0/conv1d_16/bias:0' shape=(128,) dtype=float32>,\n",
       " <tf.Variable 'hifigan_generator/sequential/multi_hifigan_resblock_._1/hifigan_resblock_._1/conv1d_17/kernel:0' shape=(5, 128, 128) dtype=float32>,\n",
       " <tf.Variable 'hifigan_generator/sequential/multi_hifigan_resblock_._1/hifigan_resblock_._1/conv1d_17/bias:0' shape=(128,) dtype=float32>,\n",
       " <tf.Variable 'hifigan_generator/sequential/multi_hifigan_resblock_._1/hifigan_resblock_._1/conv1d_18/kernel:0' shape=(5, 128, 128) dtype=float32>,\n",
       " <tf.Variable 'hifigan_generator/sequential/multi_hifigan_resblock_._1/hifigan_resblock_._1/conv1d_18/bias:0' shape=(128,) dtype=float32>,\n",
       " <tf.Variable 'hifigan_generator/sequential/multi_hifigan_resblock_._1/hifigan_resblock_._1/conv1d_19/kernel:0' shape=(5, 128, 128) dtype=float32>,\n",
       " <tf.Variable 'hifigan_generator/sequential/multi_hifigan_resblock_._1/hifigan_resblock_._1/conv1d_19/bias:0' shape=(128,) dtype=float32>,\n",
       " <tf.Variable 'hifigan_generator/sequential/multi_hifigan_resblock_._1/hifigan_resblock_._1/conv1d_20/kernel:0' shape=(5, 128, 128) dtype=float32>,\n",
       " <tf.Variable 'hifigan_generator/sequential/multi_hifigan_resblock_._1/hifigan_resblock_._1/conv1d_20/bias:0' shape=(128,) dtype=float32>,\n",
       " <tf.Variable 'hifigan_generator/sequential/multi_hifigan_resblock_._1/hifigan_resblock_._2/conv1d_21/kernel:0' shape=(7, 128, 128) dtype=float32>,\n",
       " <tf.Variable 'hifigan_generator/sequential/multi_hifigan_resblock_._1/hifigan_resblock_._2/conv1d_21/bias:0' shape=(128,) dtype=float32>,\n",
       " <tf.Variable 'hifigan_generator/sequential/multi_hifigan_resblock_._1/hifigan_resblock_._2/conv1d_22/kernel:0' shape=(7, 128, 128) dtype=float32>,\n",
       " <tf.Variable 'hifigan_generator/sequential/multi_hifigan_resblock_._1/hifigan_resblock_._2/conv1d_22/bias:0' shape=(128,) dtype=float32>,\n",
       " <tf.Variable 'hifigan_generator/sequential/multi_hifigan_resblock_._1/hifigan_resblock_._2/conv1d_23/kernel:0' shape=(7, 128, 128) dtype=float32>,\n",
       " <tf.Variable 'hifigan_generator/sequential/multi_hifigan_resblock_._1/hifigan_resblock_._2/conv1d_23/bias:0' shape=(128,) dtype=float32>,\n",
       " <tf.Variable 'hifigan_generator/sequential/multi_hifigan_resblock_._1/hifigan_resblock_._2/conv1d_24/kernel:0' shape=(7, 128, 128) dtype=float32>,\n",
       " <tf.Variable 'hifigan_generator/sequential/multi_hifigan_resblock_._1/hifigan_resblock_._2/conv1d_24/bias:0' shape=(128,) dtype=float32>,\n",
       " <tf.Variable 'hifigan_generator/sequential/conv_transpose_._2/conv2d_transpose_2/kernel:0' shape=(8, 1, 64, 128) dtype=float32>,\n",
       " <tf.Variable 'hifigan_generator/sequential/conv_transpose_._2/conv2d_transpose_2/bias:0' shape=(64,) dtype=float32>,\n",
       " <tf.Variable 'hifigan_generator/sequential/multi_hifigan_resblock_._2/hifigan_resblock_._0/conv1d_25/kernel:0' shape=(3, 64, 64) dtype=float32>,\n",
       " <tf.Variable 'hifigan_generator/sequential/multi_hifigan_resblock_._2/hifigan_resblock_._0/conv1d_25/bias:0' shape=(64,) dtype=float32>,\n",
       " <tf.Variable 'hifigan_generator/sequential/multi_hifigan_resblock_._2/hifigan_resblock_._0/conv1d_26/kernel:0' shape=(3, 64, 64) dtype=float32>,\n",
       " <tf.Variable 'hifigan_generator/sequential/multi_hifigan_resblock_._2/hifigan_resblock_._0/conv1d_26/bias:0' shape=(64,) dtype=float32>,\n",
       " <tf.Variable 'hifigan_generator/sequential/multi_hifigan_resblock_._2/hifigan_resblock_._0/conv1d_27/kernel:0' shape=(3, 64, 64) dtype=float32>,\n",
       " <tf.Variable 'hifigan_generator/sequential/multi_hifigan_resblock_._2/hifigan_resblock_._0/conv1d_27/bias:0' shape=(64,) dtype=float32>,\n",
       " <tf.Variable 'hifigan_generator/sequential/multi_hifigan_resblock_._2/hifigan_resblock_._0/conv1d_28/kernel:0' shape=(3, 64, 64) dtype=float32>,\n",
       " <tf.Variable 'hifigan_generator/sequential/multi_hifigan_resblock_._2/hifigan_resblock_._0/conv1d_28/bias:0' shape=(64,) dtype=float32>,\n",
       " <tf.Variable 'hifigan_generator/sequential/multi_hifigan_resblock_._2/hifigan_resblock_._1/conv1d_29/kernel:0' shape=(5, 64, 64) dtype=float32>,\n",
       " <tf.Variable 'hifigan_generator/sequential/multi_hifigan_resblock_._2/hifigan_resblock_._1/conv1d_29/bias:0' shape=(64,) dtype=float32>,\n",
       " <tf.Variable 'hifigan_generator/sequential/multi_hifigan_resblock_._2/hifigan_resblock_._1/conv1d_30/kernel:0' shape=(5, 64, 64) dtype=float32>,\n",
       " <tf.Variable 'hifigan_generator/sequential/multi_hifigan_resblock_._2/hifigan_resblock_._1/conv1d_30/bias:0' shape=(64,) dtype=float32>,\n",
       " <tf.Variable 'hifigan_generator/sequential/multi_hifigan_resblock_._2/hifigan_resblock_._1/conv1d_31/kernel:0' shape=(5, 64, 64) dtype=float32>,\n",
       " <tf.Variable 'hifigan_generator/sequential/multi_hifigan_resblock_._2/hifigan_resblock_._1/conv1d_31/bias:0' shape=(64,) dtype=float32>,\n",
       " <tf.Variable 'hifigan_generator/sequential/multi_hifigan_resblock_._2/hifigan_resblock_._1/conv1d_32/kernel:0' shape=(5, 64, 64) dtype=float32>,\n",
       " <tf.Variable 'hifigan_generator/sequential/multi_hifigan_resblock_._2/hifigan_resblock_._1/conv1d_32/bias:0' shape=(64,) dtype=float32>,\n",
       " <tf.Variable 'hifigan_generator/sequential/multi_hifigan_resblock_._2/hifigan_resblock_._2/conv1d_33/kernel:0' shape=(7, 64, 64) dtype=float32>,\n",
       " <tf.Variable 'hifigan_generator/sequential/multi_hifigan_resblock_._2/hifigan_resblock_._2/conv1d_33/bias:0' shape=(64,) dtype=float32>,\n",
       " <tf.Variable 'hifigan_generator/sequential/multi_hifigan_resblock_._2/hifigan_resblock_._2/conv1d_34/kernel:0' shape=(7, 64, 64) dtype=float32>,\n",
       " <tf.Variable 'hifigan_generator/sequential/multi_hifigan_resblock_._2/hifigan_resblock_._2/conv1d_34/bias:0' shape=(64,) dtype=float32>,\n",
       " <tf.Variable 'hifigan_generator/sequential/multi_hifigan_resblock_._2/hifigan_resblock_._2/conv1d_35/kernel:0' shape=(7, 64, 64) dtype=float32>,\n",
       " <tf.Variable 'hifigan_generator/sequential/multi_hifigan_resblock_._2/hifigan_resblock_._2/conv1d_35/bias:0' shape=(64,) dtype=float32>,\n",
       " <tf.Variable 'hifigan_generator/sequential/multi_hifigan_resblock_._2/hifigan_resblock_._2/conv1d_36/kernel:0' shape=(7, 64, 64) dtype=float32>,\n",
       " <tf.Variable 'hifigan_generator/sequential/multi_hifigan_resblock_._2/hifigan_resblock_._2/conv1d_36/bias:0' shape=(64,) dtype=float32>,\n",
       " <tf.Variable 'hifigan_generator/sequential/conv1d_37/kernel:0' shape=(7, 64, 1) dtype=float32>,\n",
       " <tf.Variable 'hifigan_generator/sequential/conv1d_37/bias:0' shape=(1,) dtype=float32>]"
      ]
     },
     "execution_count": 14,
     "metadata": {},
     "output_type": "execute_result"
    }
   ],
   "source": [
    "tf.global_variables()"
   ]
  },
  {
   "cell_type": "code",
   "execution_count": null,
   "metadata": {},
   "outputs": [],
   "source": []
  }
 ],
 "metadata": {
  "kernelspec": {
   "display_name": "Python 3",
   "language": "python",
   "name": "python3"
  },
  "language_info": {
   "codemirror_mode": {
    "name": "ipython",
    "version": 3
   },
   "file_extension": ".py",
   "mimetype": "text/x-python",
   "name": "python",
   "nbconvert_exporter": "python",
   "pygments_lexer": "ipython3",
   "version": "3.7.7"
  }
 },
 "nbformat": 4,
 "nbformat_minor": 4
}

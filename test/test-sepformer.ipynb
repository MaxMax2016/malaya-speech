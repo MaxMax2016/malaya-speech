{
 "cells": [
  {
   "cell_type": "code",
   "execution_count": 1,
   "id": "pressed-penalty",
   "metadata": {},
   "outputs": [],
   "source": [
    "import os\n",
    "\n",
    "os.environ['CUDA_VISIBLE_DEVICES'] = '1'"
   ]
  },
  {
   "cell_type": "code",
   "execution_count": 2,
   "id": "searching-carrier",
   "metadata": {},
   "outputs": [],
   "source": [
    "import sys\n",
    "\n",
    "SOURCE_DIR = os.path.dirname(os.path.dirname(os.path.abspath(__name__)))\n",
    "sys.path.insert(0, SOURCE_DIR)"
   ]
  },
  {
   "cell_type": "code",
   "execution_count": 3,
   "id": "alert-designation",
   "metadata": {},
   "outputs": [],
   "source": [
    "# import tensorflow as tf\n",
    "\n",
    "# tf.compat.v1.enable_eager_execution()"
   ]
  },
  {
   "cell_type": "code",
   "execution_count": 4,
   "id": "animal-strategy",
   "metadata": {},
   "outputs": [
    {
     "name": "stdout",
     "output_type": "stream",
     "text": [
      "WARNING:tensorflow:From /Users/huseinzolkepli/Documents/malaya-speech/malaya_speech/train/optimizer/__init__.py:38: The name tf.train.AdagradOptimizer is deprecated. Please use tf.compat.v1.train.AdagradOptimizer instead.\n",
      "\n",
      "WARNING:tensorflow:From /Users/huseinzolkepli/Documents/malaya-speech/malaya_speech/train/optimizer/__init__.py:39: The name tf.train.AdamOptimizer is deprecated. Please use tf.compat.v1.train.AdamOptimizer instead.\n",
      "\n",
      "WARNING:tensorflow:From /Users/huseinzolkepli/Documents/malaya-speech/malaya_speech/train/optimizer/__init__.py:40: The name tf.train.FtrlOptimizer is deprecated. Please use tf.compat.v1.train.FtrlOptimizer instead.\n",
      "\n",
      "WARNING:tensorflow:From /Users/huseinzolkepli/Documents/malaya-speech/malaya_speech/train/optimizer/__init__.py:42: The name tf.train.RMSPropOptimizer is deprecated. Please use tf.compat.v1.train.RMSPropOptimizer instead.\n",
      "\n",
      "WARNING:tensorflow:From /Users/huseinzolkepli/Documents/malaya-speech/malaya_speech/train/optimizer/__init__.py:43: The name tf.train.GradientDescentOptimizer is deprecated. Please use tf.compat.v1.train.GradientDescentOptimizer instead.\n",
      "\n",
      "WARNING:tensorflow:\n",
      "The TensorFlow contrib module will not be included in TensorFlow 2.0.\n",
      "For more information, please see:\n",
      "  * https://github.com/tensorflow/community/blob/master/rfcs/20180907-contrib-sunset.md\n",
      "  * https://github.com/tensorflow/addons\n",
      "  * https://github.com/tensorflow/io (for I/O related ops)\n",
      "If you depend on functionality not listed there, please file an issue.\n",
      "\n"
     ]
    }
   ],
   "source": [
    "import malaya_speech\n",
    "import tensorflow as tf\n",
    "from malaya_speech.train.model import fastsplit, fastspeech, sepformer\n",
    "import malaya_speech.augmentation.waveform as augmentation\n",
    "import numpy as np"
   ]
  },
  {
   "cell_type": "code",
   "execution_count": 5,
   "id": "false-evening",
   "metadata": {},
   "outputs": [
    {
     "data": {
      "text/plain": [
       "8"
      ]
     },
     "execution_count": 5,
     "metadata": {},
     "output_type": "execute_result"
    }
   ],
   "source": [
    "from glob import glob\n",
    "\n",
    "wavs = glob('../speech/example-speaker/*.wav')\n",
    "len(wavs)"
   ]
  },
  {
   "cell_type": "code",
   "execution_count": 6,
   "id": "burning-testing",
   "metadata": {},
   "outputs": [],
   "source": [
    "import random\n",
    "\n",
    "sr = 8000\n",
    "speakers_size = 4\n",
    "\n",
    "# noise = malaya_speech.load('noise.wav', sr = sr)[0]\n",
    "\n",
    "def read_wav(f):\n",
    "    return malaya_speech.load(f, sr = sr)\n",
    "\n",
    "\n",
    "def random_sampling(s, length):\n",
    "    return augmentation.random_sampling(s, sr = sr, length = length)\n",
    "\n",
    "def to_mel(y):\n",
    "    mel = malaya_speech.featurization.universal_mel(y)\n",
    "    mel[mel <= np.log(1e-2)] = np.log(1e-2)\n",
    "    return mel\n",
    "\n",
    "def combine_speakers(files, n = 5, limit = 4):\n",
    "    w_samples = random.sample(files, n)\n",
    "    w_samples = [read_wav(f)[0] for f in w_samples]\n",
    "    w_lens = [len(w) / sr for w in w_samples]\n",
    "    w_lens = int(min(min(w_lens) * 1000, random.randint(2000, 10000)))\n",
    "    w_samples = [random_sampling(w, length = w_lens) for w in w_samples]\n",
    "    y = [w_samples[0]]\n",
    "    left = w_samples[0].copy()\n",
    "\n",
    "    combined = None\n",
    "\n",
    "    for i in range(1, n):\n",
    "        right = w_samples[i].copy()\n",
    "        overlap = random.uniform(0.98, 1.0)\n",
    "        print(i, overlap)\n",
    "        len_overlap = int(overlap * len(right))\n",
    "        minus = len(left) - len_overlap\n",
    "        if minus < 0:\n",
    "            minus = 0\n",
    "        padded_right = np.pad(right, (minus, 0))\n",
    "        left = np.pad(left, (0, len(padded_right) - len(left)))\n",
    "\n",
    "        left = left + padded_right\n",
    "\n",
    "        if i >= (limit - 1):\n",
    "            if combined is None:\n",
    "                combined = padded_right\n",
    "            else:\n",
    "                combined = np.pad(\n",
    "                    combined, (0, len(padded_right) - len(combined))\n",
    "                )\n",
    "                combined += padded_right\n",
    "\n",
    "        else:\n",
    "            y.append(padded_right)\n",
    "\n",
    "    if combined is not None:\n",
    "        y.append(combined)\n",
    "        \n",
    "    maxs = [max(left)]\n",
    "    for i in range(len(y)):\n",
    "        if len(y[i]) != len(left):\n",
    "            y[i] = np.pad(y[i], (0, len(left) - len(y[i])))\n",
    "            maxs.append(max(y[i]))\n",
    "            \n",
    "    max_amp = max(maxs)\n",
    "    mix_scaling = 1 / max_amp * 0.95\n",
    "    left = left * mix_scaling\n",
    "    \n",
    "    for i in range(len(y)):\n",
    "        y[i] = y[i] * mix_scaling\n",
    "\n",
    "#     for i in range(len(y)):\n",
    "#         if len(y[i]) != len(left):\n",
    "#             y[i] = np.pad(y[i], (0, len(left) - len(y[i])))\n",
    "#             y[i] = y[i] / np.max(np.abs(y[i]))\n",
    "\n",
    "#     left = left / np.max(np.abs(left))\n",
    "        \n",
    "    return left, y\n",
    "\n",
    "# y, _ = malaya_speech.load('../speech/example-speaker/husein-zolkepli.wav')\n",
    "# y = np.expand_dims(y, 0).astype(np.float32)\n",
    "# y.shape"
   ]
  },
  {
   "cell_type": "code",
   "execution_count": 7,
   "id": "afraid-russian",
   "metadata": {},
   "outputs": [
    {
     "name": "stdout",
     "output_type": "stream",
     "text": [
      "1 0.9900321306850058\n",
      "2 0.9874616888798119\n",
      "3 0.9946001361499269\n",
      "4 0.9832727936996404\n",
      "5 0.9913906519057755\n"
     ]
    },
    {
     "data": {
      "text/plain": [
       "(3.03575, 4)"
      ]
     },
     "execution_count": 7,
     "metadata": {},
     "output_type": "execute_result"
    }
   ],
   "source": [
    "left, y = combine_speakers(wavs, 6)\n",
    "len(left) / sr, len(y)"
   ]
  },
  {
   "cell_type": "code",
   "execution_count": 8,
   "id": "closing-constitution",
   "metadata": {
    "scrolled": true
   },
   "outputs": [
    {
     "data": {
      "text/plain": [
       "[<matplotlib.lines.Line2D at 0x1467d8790>]"
      ]
     },
     "execution_count": 8,
     "metadata": {},
     "output_type": "execute_result"
    },
    {
     "data": {
      "image/png": "[encoded data removed]",
      "text/plain": [
       "<Figure size 432x288 with 1 Axes>"
      ]
     },
     "metadata": {
      "needs_background": "light"
     },
     "output_type": "display_data"
    }
   ],
   "source": [
    "import matplotlib.pyplot as plt\n",
    "\n",
    "plt.plot(left)\n",
    "plt.plot(y[2])"
   ]
  },
  {
   "cell_type": "code",
   "execution_count": 9,
   "id": "prompt-march",
   "metadata": {},
   "outputs": [
    {
     "data": {
      "text/html": [
       "\n",
       "                <audio  controls=\"controls\" >\n",
       "                    <source src=\"data:audio/wav;base64,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\" type=\"audio/wav\" />\n",
       "                    Your browser does not support the audio element.\n",
       "                </audio>\n",
       "              "
      ],
      "text/plain": [
       "<IPython.lib.display.Audio object>"
      ]
     },
     "execution_count": 9,
     "metadata": {},
     "output_type": "execute_result"
    }
   ],
   "source": [
    "import IPython.display as ipd\n",
    "\n",
    "ipd.Audio(left, rate = sr)"
   ]
  },
  {
   "cell_type": "code",
   "execution_count": 10,
   "id": "champion-creation",
   "metadata": {},
   "outputs": [],
   "source": [
    "config = malaya_speech.config.fastspeech_config\n",
    "dim = 256\n",
    "config['encoder_hidden_size'] = dim\n",
    "config['decoder_hidden_size'] = dim\n",
    "config['encoder_num_hidden_layers'] = 4\n",
    "config['encoder_num_attention_heads'] = 4\n",
    "config['max_position_embeddings'] = sr * 3\n",
    "config = fastspeech.Config(vocab_size = 1, **config)"
   ]
  },
  {
   "cell_type": "code",
   "execution_count": 11,
   "id": "mounted-strength",
   "metadata": {},
   "outputs": [],
   "source": [
    "transformer = lambda: sepformer.Encoder_FastSpeech(config.encoder_self_attention_params)"
   ]
  },
  {
   "cell_type": "code",
   "execution_count": 12,
   "id": "strong-sudan",
   "metadata": {},
   "outputs": [
    {
     "name": "stdout",
     "output_type": "stream",
     "text": [
      "WARNING:tensorflow:From /Users/huseinzolkepli/Documents/malaya-speech/malaya_speech/train/model/fastspeech/layer.py:11: The name tf.keras.initializers.TruncatedNormal is deprecated. Please use tf.compat.v1.keras.initializers.TruncatedNormal instead.\n",
      "\n",
      "WARNING:tensorflow:From /Users/huseinzolkepli/Documents/tf-1.15/env/lib/python3.7/site-packages/tensorflow_core/python/keras/initializers.py:94: calling TruncatedNormal.__init__ (from tensorflow.python.ops.init_ops) with dtype is deprecated and will be removed in a future version.\n",
      "Instructions for updating:\n",
      "Call initializer instance with the dtype argument instead of passing it to the constructor\n"
     ]
    }
   ],
   "source": [
    "model = sepformer.Model(transformer, transformer)"
   ]
  },
  {
   "cell_type": "code",
   "execution_count": 13,
   "id": "ordinary-ratio",
   "metadata": {},
   "outputs": [
    {
     "name": "stdout",
     "output_type": "stream",
     "text": [
      "WARNING:tensorflow:From /Users/huseinzolkepli/Documents/tf-1.15/env/lib/python3.7/site-packages/tensorflow_core/python/ops/resource_variable_ops.py:1630: calling BaseResourceVariable.__init__ (from tensorflow.python.ops.resource_variable_ops) with constraint is deprecated and will be removed in a future version.\n",
      "Instructions for updating:\n",
      "If using Keras pass *_constraint arguments to layers.\n"
     ]
    }
   ],
   "source": [
    "X = tf.placeholder(tf.float32, [None, None, 1])\n",
    "len_X = tf.placeholder(tf.int32, [None])\n",
    "logits = model(X)"
   ]
  },
  {
   "cell_type": "code",
   "execution_count": 14,
   "id": "hybrid-employee",
   "metadata": {},
   "outputs": [],
   "source": [
    "estimate_source = tf.transpose(logits[:,:,:,0], [1, 0, 2])"
   ]
  },
  {
   "cell_type": "code",
   "execution_count": 15,
   "id": "prescription-horse",
   "metadata": {},
   "outputs": [],
   "source": [
    "C = 4\n",
    "Y = tf.placeholder(tf.float32, [None, C, None])"
   ]
  },
  {
   "cell_type": "code",
   "execution_count": 16,
   "id": "nearby-leonard",
   "metadata": {},
   "outputs": [
    {
     "name": "stdout",
     "output_type": "stream",
     "text": [
      "WARNING:tensorflow:From /Users/huseinzolkepli/Documents/malaya-speech/malaya_speech/train/model/utils.py:32: The name tf.log is deprecated. Please use tf.math.log instead.\n",
      "\n"
     ]
    }
   ],
   "source": [
    "loss, max_snr, _ = sepformer.calculate_loss(Y, Y, len_X, C = C)"
   ]
  },
  {
   "cell_type": "code",
   "execution_count": 17,
   "id": "figured-olive",
   "metadata": {},
   "outputs": [],
   "source": [
    "# X = tf.convert_to_tensor(np.expand_dims([left], axis = -1).astype(np.float32))\n",
    "# logits = model(X)"
   ]
  },
  {
   "cell_type": "code",
   "execution_count": 18,
   "id": "governmental-study",
   "metadata": {},
   "outputs": [],
   "source": [
    "sess = tf.Session()\n",
    "sess.run(tf.global_variables_initializer())"
   ]
  },
  {
   "cell_type": "code",
   "execution_count": 19,
   "id": "african-peter",
   "metadata": {},
   "outputs": [
    {
     "data": {
      "text/plain": [
       "(4, 2, 24286, 1)"
      ]
     },
     "execution_count": 19,
     "metadata": {},
     "output_type": "execute_result"
    }
   ],
   "source": [
    "l = sess.run(logits, feed_dict = {X: np.expand_dims([left, left], axis = -1)})\n",
    "l.shape"
   ]
  },
  {
   "cell_type": "code",
   "execution_count": 20,
   "id": "bored-advice",
   "metadata": {},
   "outputs": [
    {
     "data": {
      "text/plain": [
       "-102.05133"
      ]
     },
     "execution_count": 20,
     "metadata": {},
     "output_type": "execute_result"
    }
   ],
   "source": [
    "sess.run(loss, feed_dict = {X: np.expand_dims([left], axis = -1), len_X: [len(left)], Y: [y]})"
   ]
  },
  {
   "cell_type": "code",
   "execution_count": 21,
   "id": "retained-fighter",
   "metadata": {},
   "outputs": [
    {
     "data": {
      "text/plain": [
       "array([[102.05133]], dtype=float32)"
      ]
     },
     "execution_count": 21,
     "metadata": {},
     "output_type": "execute_result"
    }
   ],
   "source": [
    "sess.run(max_snr, feed_dict = {X: np.expand_dims([left], axis = -1), len_X: [len(left)], Y: [y]})"
   ]
  },
  {
   "cell_type": "code",
   "execution_count": 21,
   "id": "domestic-sierra",
   "metadata": {},
   "outputs": [],
   "source": [
    "saver = tf.train.Saver()"
   ]
  },
  {
   "cell_type": "code",
   "execution_count": 22,
   "id": "moved-design",
   "metadata": {},
   "outputs": [
    {
     "data": {
      "text/plain": [
       "'test/model.ckpt'"
      ]
     },
     "execution_count": 22,
     "metadata": {},
     "output_type": "execute_result"
    }
   ],
   "source": [
    "saver.save(sess, 'test/model.ckpt')"
   ]
  },
  {
   "cell_type": "code",
   "execution_count": 23,
   "id": "unusual-strain",
   "metadata": {},
   "outputs": [
    {
     "name": "stdout",
     "output_type": "stream",
     "text": [
      "total 305872\r\n",
      "-rw-r--r--  1 huseinzolkepli  staff    77B Mar 24 16:31 checkpoint\r\n",
      "-rw-r--r--  1 huseinzolkepli  staff   146M Mar 24 16:31 model.ckpt.data-00000-of-00001\r\n",
      "-rw-r--r--  1 huseinzolkepli  staff    13K Mar 24 16:31 model.ckpt.index\r\n",
      "-rw-r--r--  1 huseinzolkepli  staff   3.0M Mar 24 16:31 model.ckpt.meta\r\n"
     ]
    }
   ],
   "source": [
    "!ls -lh test"
   ]
  },
  {
   "cell_type": "code",
   "execution_count": 24,
   "id": "coastal-recipient",
   "metadata": {},
   "outputs": [],
   "source": [
    "!rm -rf test"
   ]
  },
  {
   "cell_type": "code",
   "execution_count": 25,
   "id": "eight-latvia",
   "metadata": {},
   "outputs": [],
   "source": [
    "# tf.trainable_variables()"
   ]
  }
 ],
 "metadata": {
  "kernelspec": {
   "display_name": "Python 3",
   "language": "python",
   "name": "python3"
  },
  "language_info": {
   "codemirror_mode": {
    "name": "ipython",
    "version": 3
   },
   "file_extension": ".py",
   "mimetype": "text/x-python",
   "name": "python",
   "nbconvert_exporter": "python",
   "pygments_lexer": "ipython3",
   "version": "3.7.7"
  }
 },
 "nbformat": 4,
 "nbformat_minor": 5
}

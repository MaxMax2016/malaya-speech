{
 "cells": [
  {
   "cell_type": "code",
   "execution_count": 1,
   "id": "pressed-penalty",
   "metadata": {},
   "outputs": [],
   "source": [
    "import os\n",
    "\n",
    "os.environ['CUDA_VISIBLE_DEVICES'] = '1'"
   ]
  },
  {
   "cell_type": "code",
   "execution_count": 2,
   "id": "searching-carrier",
   "metadata": {},
   "outputs": [],
   "source": [
    "import sys\n",
    "\n",
    "SOURCE_DIR = os.path.dirname(os.path.dirname(os.path.abspath(__name__)))\n",
    "sys.path.insert(0, SOURCE_DIR)"
   ]
  },
  {
   "cell_type": "code",
   "execution_count": 3,
   "id": "alert-designation",
   "metadata": {},
   "outputs": [],
   "source": [
    "# import tensorflow as tf\n",
    "\n",
    "# tf.compat.v1.enable_eager_execution()"
   ]
  },
  {
   "cell_type": "code",
   "execution_count": 4,
   "id": "animal-strategy",
   "metadata": {},
   "outputs": [
    {
     "name": "stdout",
     "output_type": "stream",
     "text": [
      "WARNING:tensorflow:From /Users/huseinzolkepli/Documents/malaya-speech/malaya_speech/train/optimizer/__init__.py:38: The name tf.train.AdagradOptimizer is deprecated. Please use tf.compat.v1.train.AdagradOptimizer instead.\n",
      "\n",
      "WARNING:tensorflow:From /Users/huseinzolkepli/Documents/malaya-speech/malaya_speech/train/optimizer/__init__.py:39: The name tf.train.AdamOptimizer is deprecated. Please use tf.compat.v1.train.AdamOptimizer instead.\n",
      "\n",
      "WARNING:tensorflow:From /Users/huseinzolkepli/Documents/malaya-speech/malaya_speech/train/optimizer/__init__.py:40: The name tf.train.FtrlOptimizer is deprecated. Please use tf.compat.v1.train.FtrlOptimizer instead.\n",
      "\n",
      "WARNING:tensorflow:From /Users/huseinzolkepli/Documents/malaya-speech/malaya_speech/train/optimizer/__init__.py:42: The name tf.train.RMSPropOptimizer is deprecated. Please use tf.compat.v1.train.RMSPropOptimizer instead.\n",
      "\n",
      "WARNING:tensorflow:From /Users/huseinzolkepli/Documents/malaya-speech/malaya_speech/train/optimizer/__init__.py:43: The name tf.train.GradientDescentOptimizer is deprecated. Please use tf.compat.v1.train.GradientDescentOptimizer instead.\n",
      "\n",
      "WARNING:tensorflow:\n",
      "The TensorFlow contrib module will not be included in TensorFlow 2.0.\n",
      "For more information, please see:\n",
      "  * https://github.com/tensorflow/community/blob/master/rfcs/20180907-contrib-sunset.md\n",
      "  * https://github.com/tensorflow/addons\n",
      "  * https://github.com/tensorflow/io (for I/O related ops)\n",
      "If you depend on functionality not listed there, please file an issue.\n",
      "\n",
      "WARNING:tensorflow:From /Users/huseinzolkepli/Documents/malaya-speech/malaya_speech/train/model/transformer/attention_layer.py:24: The name tf.layers.Layer is deprecated. Please use tf.compat.v1.layers.Layer instead.\n",
      "\n"
     ]
    }
   ],
   "source": [
    "import malaya_speech\n",
    "import tensorflow as tf\n",
    "from malaya_speech.train.model import fastsplit, fastspeech, sepformer\n",
    "from malaya_speech.train.model.transformer import encoder\n",
    "import malaya_speech.augmentation.waveform as augmentation\n",
    "import numpy as np"
   ]
  },
  {
   "cell_type": "code",
   "execution_count": 5,
   "id": "false-evening",
   "metadata": {},
   "outputs": [
    {
     "data": {
      "text/plain": [
       "8"
      ]
     },
     "execution_count": 5,
     "metadata": {},
     "output_type": "execute_result"
    }
   ],
   "source": [
    "from glob import glob\n",
    "\n",
    "wavs = glob('../speech/example-speaker/*.wav')\n",
    "len(wavs)"
   ]
  },
  {
   "cell_type": "code",
   "execution_count": 6,
   "id": "burning-testing",
   "metadata": {},
   "outputs": [],
   "source": [
    "import random\n",
    "\n",
    "sr = 8000\n",
    "speakers_size = 4\n",
    "\n",
    "# noise = malaya_speech.load('noise.wav', sr = sr)[0]\n",
    "\n",
    "def read_wav(f):\n",
    "    return malaya_speech.load(f, sr = sr)\n",
    "\n",
    "\n",
    "def random_sampling(s, length):\n",
    "    return augmentation.random_sampling(s, sr = sr, length = length)\n",
    "\n",
    "def to_mel(y):\n",
    "    mel = malaya_speech.featurization.universal_mel(y)\n",
    "    mel[mel <= np.log(1e-2)] = np.log(1e-2)\n",
    "    return mel\n",
    "\n",
    "def combine_speakers(files, n = 5, limit = 4):\n",
    "    w_samples = random.sample(files, n)\n",
    "    w_samples = [read_wav(f)[0] for f in w_samples]\n",
    "    w_lens = [len(w) / sr for w in w_samples]\n",
    "    w_lens = int(min(min(w_lens) * 1000, random.randint(2000, 10000)))\n",
    "    w_samples = [random_sampling(w, length = w_lens) for w in w_samples]\n",
    "    y = [w_samples[0]]\n",
    "    left = w_samples[0].copy()\n",
    "\n",
    "    combined = None\n",
    "\n",
    "    for i in range(1, n):\n",
    "        right = w_samples[i].copy()\n",
    "        overlap = random.uniform(0.98, 1.0)\n",
    "        print(i, overlap)\n",
    "        len_overlap = int(overlap * len(right))\n",
    "        minus = len(left) - len_overlap\n",
    "        if minus < 0:\n",
    "            minus = 0\n",
    "        padded_right = np.pad(right, (minus, 0))\n",
    "        left = np.pad(left, (0, len(padded_right) - len(left)))\n",
    "\n",
    "        left = left + padded_right\n",
    "\n",
    "        if i >= (limit - 1):\n",
    "            if combined is None:\n",
    "                combined = padded_right\n",
    "            else:\n",
    "                combined = np.pad(\n",
    "                    combined, (0, len(padded_right) - len(combined))\n",
    "                )\n",
    "                combined += padded_right\n",
    "\n",
    "        else:\n",
    "            y.append(padded_right)\n",
    "\n",
    "    if combined is not None:\n",
    "        y.append(combined)\n",
    "        \n",
    "    maxs = [max(left)]\n",
    "    for i in range(len(y)):\n",
    "        if len(y[i]) != len(left):\n",
    "            y[i] = np.pad(y[i], (0, len(left) - len(y[i])))\n",
    "            maxs.append(max(y[i]))\n",
    "            \n",
    "    max_amp = max(maxs)\n",
    "    mix_scaling = 1 / max_amp * 0.95\n",
    "    left = left * mix_scaling\n",
    "    \n",
    "    for i in range(len(y)):\n",
    "        y[i] = y[i] * mix_scaling\n",
    "\n",
    "#     for i in range(len(y)):\n",
    "#         if len(y[i]) != len(left):\n",
    "#             y[i] = np.pad(y[i], (0, len(left) - len(y[i])))\n",
    "#             y[i] = y[i] / np.max(np.abs(y[i]))\n",
    "\n",
    "#     left = left / np.max(np.abs(left))\n",
    "        \n",
    "    return left, y\n",
    "\n",
    "# y, _ = malaya_speech.load('../speech/example-speaker/husein-zolkepli.wav')\n",
    "# y = np.expand_dims(y, 0).astype(np.float32)\n",
    "# y.shape"
   ]
  },
  {
   "cell_type": "code",
   "execution_count": 7,
   "id": "afraid-russian",
   "metadata": {},
   "outputs": [
    {
     "name": "stdout",
     "output_type": "stream",
     "text": [
      "1 0.9842002459365695\n",
      "2 0.9965253686912678\n",
      "3 0.9862580505403438\n",
      "4 0.9849841905629431\n",
      "5 0.9855110208221116\n"
     ]
    },
    {
     "data": {
      "text/plain": [
       "(3.738125, 4)"
      ]
     },
     "execution_count": 7,
     "metadata": {},
     "output_type": "execute_result"
    }
   ],
   "source": [
    "left, y = combine_speakers(wavs, 6)\n",
    "len(left) / sr, len(y)"
   ]
  },
  {
   "cell_type": "code",
   "execution_count": 8,
   "id": "closing-constitution",
   "metadata": {
    "scrolled": true
   },
   "outputs": [
    {
     "data": {
      "text/plain": [
       "[<matplotlib.lines.Line2D at 0x14ac9c910>]"
      ]
     },
     "execution_count": 8,
     "metadata": {},
     "output_type": "execute_result"
    },
    {
     "data": {
      "image/png": "[encoded data removed]",
      "text/plain": [
       "<Figure size 432x288 with 1 Axes>"
      ]
     },
     "metadata": {
      "needs_background": "light"
     },
     "output_type": "display_data"
    }
   ],
   "source": [
    "import matplotlib.pyplot as plt\n",
    "\n",
    "plt.plot(left)\n",
    "plt.plot(y[2])"
   ]
  },
  {
   "cell_type": "code",
   "execution_count": 9,
   "id": "prompt-march",
   "metadata": {},
   "outputs": [
    {
     "data": {
      "text/html": [
       "\n",
       "                <audio  controls=\"controls\" >\n",
       "                    <source src=\"data:audio/wav;base64,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\" type=\"audio/wav\" />\n",
       "                    Your browser does not support the audio element.\n",
       "                </audio>\n",
       "              "
      ],
      "text/plain": [
       "<IPython.lib.display.Audio object>"
      ]
     },
     "execution_count": 9,
     "metadata": {},
     "output_type": "execute_result"
    }
   ],
   "source": [
    "import IPython.display as ipd\n",
    "\n",
    "ipd.Audio(left, rate = sr)"
   ]
  },
  {
   "cell_type": "code",
   "execution_count": 10,
   "id": "champion-creation",
   "metadata": {},
   "outputs": [],
   "source": [
    "# https://github.com/speechbrain/speechbrain/blob/develop/recipes/WSJ0Mix/separation/hparams/sepformer-wham.yaml#L111\n",
    "config = malaya_speech.config.transformer_config\n",
    "dim = 256\n",
    "config['hidden_size'] = dim\n",
    "config['num_hidden_layers'] = 10\n",
    "config['attention_dropout'] = 0.0\n",
    "config['relu_dropout'] = 0.0\n",
    "config['filter_size'] = 1024\n",
    "config['norm_before'] = True"
   ]
  },
  {
   "cell_type": "code",
   "execution_count": 11,
   "id": "mounted-strength",
   "metadata": {},
   "outputs": [],
   "source": [
    "transformer = lambda: encoder.Encoder(config, train = True)"
   ]
  },
  {
   "cell_type": "code",
   "execution_count": 12,
   "id": "strong-sudan",
   "metadata": {},
   "outputs": [
    {
     "name": "stdout",
     "output_type": "stream",
     "text": [
      "WARNING:tensorflow:From /Users/huseinzolkepli/Documents/malaya-speech/malaya_speech/train/model/transformer/attention_layer.py:41: The name tf.layers.Dense is deprecated. Please use tf.compat.v1.layers.Dense instead.\n",
      "\n"
     ]
    }
   ],
   "source": [
    "model = sepformer.Model(transformer, transformer)"
   ]
  },
  {
   "cell_type": "code",
   "execution_count": 13,
   "id": "ordinary-ratio",
   "metadata": {
    "scrolled": true
   },
   "outputs": [
    {
     "name": "stdout",
     "output_type": "stream",
     "text": [
      "WARNING:tensorflow:From /Users/huseinzolkepli/Documents/tf-1.15/env/lib/python3.7/site-packages/tensorflow_core/python/ops/resource_variable_ops.py:1630: calling BaseResourceVariable.__init__ (from tensorflow.python.ops.resource_variable_ops) with constraint is deprecated and will be removed in a future version.\n",
      "Instructions for updating:\n",
      "If using Keras pass *_constraint arguments to layers.\n",
      "WARNING:tensorflow:From /Users/huseinzolkepli/Documents/tf-1.15/env/lib/python3.7/site-packages/tensorflow_core/python/autograph/converters/directives.py:119: The name tf.variable_scope is deprecated. Please use tf.compat.v1.variable_scope instead.\n",
      "\n",
      "WARNING:tensorflow:From /Users/huseinzolkepli/Documents/malaya-speech/malaya_speech/train/model/transformer/model_utils.py:31: to_float (from tensorflow.python.ops.math_ops) is deprecated and will be removed in a future version.\n",
      "Instructions for updating:\n",
      "Use `tf.cast` instead.\n",
      "WARNING:tensorflow:From /Users/huseinzolkepli/Documents/malaya-speech/malaya_speech/train/model/transformer/encoder.py:58: calling dropout (from tensorflow.python.ops.nn_ops) with keep_prob is deprecated and will be removed in a future version.\n",
      "Instructions for updating:\n",
      "Please use `rate` instead of `keep_prob`. Rate should be set to `rate = 1 - keep_prob`.\n",
      "WARNING:tensorflow:From /Users/huseinzolkepli/Documents/malaya-speech/malaya_speech/train/model/transformer/transformer.py:139: The name tf.get_variable is deprecated. Please use tf.compat.v1.get_variable instead.\n",
      "\n",
      "WARNING:tensorflow:From /Users/huseinzolkepli/Documents/tf-1.15/env/lib/python3.7/site-packages/tensorflow_core/python/autograph/converters/directives.py:119: The name tf.rsqrt is deprecated. Please use tf.math.rsqrt instead.\n",
      "\n",
      "WARNING:tensorflow:From /Users/huseinzolkepli/Documents/malaya-speech/malaya_speech/train/model/transformer/ffn_layer.py:81: where (from tensorflow.python.ops.array_ops) is deprecated and will be removed in a future version.\n",
      "Instructions for updating:\n",
      "Use tf.where in 2.0, which has the same broadcast rule as np.where\n",
      "WARNING:tensorflow:From /Users/huseinzolkepli/Documents/malaya-speech/malaya_speech/train/model/transformer/ffn_layer.py:81: to_int32 (from tensorflow.python.ops.math_ops) is deprecated and will be removed in a future version.\n",
      "Instructions for updating:\n",
      "Use `tf.cast` instead.\n"
     ]
    }
   ],
   "source": [
    "X = tf.placeholder(tf.float32, [None, None, 1])\n",
    "len_X = tf.placeholder(tf.int32, [None])\n",
    "logits = model(X)"
   ]
  },
  {
   "cell_type": "code",
   "execution_count": 14,
   "id": "balanced-wagon",
   "metadata": {},
   "outputs": [
    {
     "data": {
      "text/plain": [
       "<tf.Tensor 'sepformer/cond/Merge:0' shape=(4, ?, ?, 1) dtype=float32>"
      ]
     },
     "execution_count": 14,
     "metadata": {},
     "output_type": "execute_result"
    }
   ],
   "source": [
    "logits"
   ]
  },
  {
   "cell_type": "code",
   "execution_count": 15,
   "id": "hybrid-employee",
   "metadata": {},
   "outputs": [],
   "source": [
    "estimate_source = tf.transpose(logits[:,:,:,0], [1, 0, 2])"
   ]
  },
  {
   "cell_type": "code",
   "execution_count": 16,
   "id": "prescription-horse",
   "metadata": {},
   "outputs": [],
   "source": [
    "C = 4\n",
    "Y = tf.placeholder(tf.float32, [None, C, None])"
   ]
  },
  {
   "cell_type": "code",
   "execution_count": 17,
   "id": "nearby-leonard",
   "metadata": {},
   "outputs": [
    {
     "name": "stdout",
     "output_type": "stream",
     "text": [
      "WARNING:tensorflow:From /Users/huseinzolkepli/Documents/malaya-speech/malaya_speech/train/model/utils.py:40: The name tf.log is deprecated. Please use tf.math.log instead.\n",
      "\n"
     ]
    }
   ],
   "source": [
    "loss, max_snr, _ = sepformer.calculate_loss(Y, Y, len_X, C = C)"
   ]
  },
  {
   "cell_type": "code",
   "execution_count": 18,
   "id": "figured-olive",
   "metadata": {},
   "outputs": [],
   "source": [
    "# X = tf.convert_to_tensor(np.expand_dims([left], axis = -1).astype(np.float32))\n",
    "# logits = model(X)"
   ]
  },
  {
   "cell_type": "code",
   "execution_count": 19,
   "id": "governmental-study",
   "metadata": {},
   "outputs": [],
   "source": [
    "sess = tf.Session()\n",
    "sess.run(tf.global_variables_initializer())"
   ]
  },
  {
   "cell_type": "code",
   "execution_count": 20,
   "id": "african-peter",
   "metadata": {},
   "outputs": [
    {
     "data": {
      "text/plain": [
       "(4, 2, 29905, 1)"
      ]
     },
     "execution_count": 20,
     "metadata": {},
     "output_type": "execute_result"
    }
   ],
   "source": [
    "l = sess.run(logits, feed_dict = {X: np.expand_dims([left, left], axis = -1)})\n",
    "l.shape"
   ]
  },
  {
   "cell_type": "code",
   "execution_count": 21,
   "id": "bored-advice",
   "metadata": {},
   "outputs": [
    {
     "data": {
      "text/plain": [
       "-102.97557"
      ]
     },
     "execution_count": 21,
     "metadata": {},
     "output_type": "execute_result"
    }
   ],
   "source": [
    "sess.run(loss, feed_dict = {X: np.expand_dims([left], axis = -1), len_X: [len(left)], Y: [y]})"
   ]
  },
  {
   "cell_type": "code",
   "execution_count": 22,
   "id": "retained-fighter",
   "metadata": {},
   "outputs": [
    {
     "data": {
      "text/plain": [
       "array([[102.97557]], dtype=float32)"
      ]
     },
     "execution_count": 22,
     "metadata": {},
     "output_type": "execute_result"
    }
   ],
   "source": [
    "sess.run(max_snr, feed_dict = {X: np.expand_dims([left], axis = -1), len_X: [len(left)], Y: [y]})"
   ]
  },
  {
   "cell_type": "code",
   "execution_count": 23,
   "id": "domestic-sierra",
   "metadata": {},
   "outputs": [],
   "source": [
    "saver = tf.train.Saver()"
   ]
  },
  {
   "cell_type": "code",
   "execution_count": 24,
   "id": "moved-design",
   "metadata": {},
   "outputs": [
    {
     "data": {
      "text/plain": [
       "'test/model.ckpt'"
      ]
     },
     "execution_count": 24,
     "metadata": {},
     "output_type": "execute_result"
    }
   ],
   "source": [
    "saver.save(sess, 'test/model.ckpt')"
   ]
  },
  {
   "cell_type": "code",
   "execution_count": 25,
   "id": "unusual-strain",
   "metadata": {},
   "outputs": [
    {
     "name": "stdout",
     "output_type": "stream",
     "text": [
      "total 266688\r\n",
      "-rw-r--r--  1 huseinzolkepli  staff    77B May  4 22:40 checkpoint\r\n",
      "-rw-r--r--  1 huseinzolkepli  staff   122M May  4 22:40 model.ckpt.data-00000-of-00001\r\n",
      "-rw-r--r--  1 huseinzolkepli  staff    26K May  4 22:40 model.ckpt.index\r\n",
      "-rw-r--r--  1 huseinzolkepli  staff   7.8M May  4 22:40 model.ckpt.meta\r\n"
     ]
    }
   ],
   "source": [
    "!ls -lh test"
   ]
  },
  {
   "cell_type": "code",
   "execution_count": 26,
   "id": "coastal-recipient",
   "metadata": {},
   "outputs": [],
   "source": [
    "!rm -rf test"
   ]
  },
  {
   "cell_type": "code",
   "execution_count": 27,
   "id": "eight-latvia",
   "metadata": {},
   "outputs": [],
   "source": [
    "# tf.trainable_variables()"
   ]
  }
 ],
 "metadata": {
  "kernelspec": {
   "display_name": "Python 3",
   "language": "python",
   "name": "python3"
  },
  "language_info": {
   "codemirror_mode": {
    "name": "ipython",
    "version": 3
   },
   "file_extension": ".py",
   "mimetype": "text/x-python",
   "name": "python",
   "nbconvert_exporter": "python",
   "pygments_lexer": "ipython3",
   "version": "3.7.7"
  }
 },
 "nbformat": 4,
 "nbformat_minor": 5
}

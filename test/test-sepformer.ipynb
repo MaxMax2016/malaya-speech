{
 "cells": [
  {
   "cell_type": "code",
   "execution_count": 1,
   "id": "pressed-penalty",
   "metadata": {},
   "outputs": [],
   "source": [
    "import os\n",
    "\n",
    "os.environ['CUDA_VISIBLE_DEVICES'] = '1'"
   ]
  },
  {
   "cell_type": "code",
   "execution_count": 2,
   "id": "searching-carrier",
   "metadata": {},
   "outputs": [],
   "source": [
    "import sys\n",
    "\n",
    "SOURCE_DIR = os.path.dirname(os.path.dirname(os.path.abspath(__name__)))\n",
    "sys.path.insert(0, SOURCE_DIR)"
   ]
  },
  {
   "cell_type": "code",
   "execution_count": 3,
   "id": "alert-designation",
   "metadata": {},
   "outputs": [],
   "source": [
    "# import tensorflow as tf\n",
    "\n",
    "# tf.compat.v1.enable_eager_execution()"
   ]
  },
  {
   "cell_type": "code",
   "execution_count": 4,
   "id": "animal-strategy",
   "metadata": {},
   "outputs": [
    {
     "name": "stdout",
     "output_type": "stream",
     "text": [
      "WARNING:tensorflow:From /Users/huseinzolkepli/Documents/malaya-speech/malaya_speech/train/optimizer/__init__.py:38: The name tf.train.AdagradOptimizer is deprecated. Please use tf.compat.v1.train.AdagradOptimizer instead.\n",
      "\n",
      "WARNING:tensorflow:From /Users/huseinzolkepli/Documents/malaya-speech/malaya_speech/train/optimizer/__init__.py:39: The name tf.train.AdamOptimizer is deprecated. Please use tf.compat.v1.train.AdamOptimizer instead.\n",
      "\n",
      "WARNING:tensorflow:From /Users/huseinzolkepli/Documents/malaya-speech/malaya_speech/train/optimizer/__init__.py:40: The name tf.train.FtrlOptimizer is deprecated. Please use tf.compat.v1.train.FtrlOptimizer instead.\n",
      "\n",
      "WARNING:tensorflow:From /Users/huseinzolkepli/Documents/malaya-speech/malaya_speech/train/optimizer/__init__.py:42: The name tf.train.RMSPropOptimizer is deprecated. Please use tf.compat.v1.train.RMSPropOptimizer instead.\n",
      "\n",
      "WARNING:tensorflow:From /Users/huseinzolkepli/Documents/malaya-speech/malaya_speech/train/optimizer/__init__.py:43: The name tf.train.GradientDescentOptimizer is deprecated. Please use tf.compat.v1.train.GradientDescentOptimizer instead.\n",
      "\n",
      "WARNING:tensorflow:\n",
      "The TensorFlow contrib module will not be included in TensorFlow 2.0.\n",
      "For more information, please see:\n",
      "  * https://github.com/tensorflow/community/blob/master/rfcs/20180907-contrib-sunset.md\n",
      "  * https://github.com/tensorflow/addons\n",
      "  * https://github.com/tensorflow/io (for I/O related ops)\n",
      "If you depend on functionality not listed there, please file an issue.\n",
      "\n",
      "WARNING:tensorflow:From /Users/huseinzolkepli/Documents/malaya-speech/malaya_speech/train/model/transformer/attention_layer.py:24: The name tf.layers.Layer is deprecated. Please use tf.compat.v1.layers.Layer instead.\n",
      "\n"
     ]
    }
   ],
   "source": [
    "import malaya_speech\n",
    "import tensorflow as tf\n",
    "from malaya_speech.train.model import fastsplit, fastspeech, sepformer\n",
    "from malaya_speech.train.model.transformer import encoder\n",
    "import malaya_speech.augmentation.waveform as augmentation\n",
    "import numpy as np"
   ]
  },
  {
   "cell_type": "code",
   "execution_count": 5,
   "id": "false-evening",
   "metadata": {},
   "outputs": [
    {
     "data": {
      "text/plain": [
       "8"
      ]
     },
     "execution_count": 5,
     "metadata": {},
     "output_type": "execute_result"
    }
   ],
   "source": [
    "from glob import glob\n",
    "\n",
    "wavs = glob('../speech/example-speaker/*.wav')\n",
    "len(wavs)"
   ]
  },
  {
   "cell_type": "code",
   "execution_count": 6,
   "id": "burning-testing",
   "metadata": {},
   "outputs": [],
   "source": [
    "import random\n",
    "\n",
    "sr = 8000\n",
    "speakers_size = 4\n",
    "\n",
    "# noise = malaya_speech.load('noise.wav', sr = sr)[0]\n",
    "\n",
    "def read_wav(f):\n",
    "    return malaya_speech.load(f, sr = sr)\n",
    "\n",
    "\n",
    "def random_sampling(s, length):\n",
    "    return augmentation.random_sampling(s, sr = sr, length = length)\n",
    "\n",
    "def to_mel(y):\n",
    "    mel = malaya_speech.featurization.universal_mel(y)\n",
    "    mel[mel <= np.log(1e-2)] = np.log(1e-2)\n",
    "    return mel\n",
    "\n",
    "def combine_speakers(files, n = 5, limit = 4):\n",
    "    w_samples = random.sample(files, n)\n",
    "    w_samples = [read_wav(f)[0] for f in w_samples]\n",
    "    w_lens = [len(w) / sr for w in w_samples]\n",
    "    w_lens = int(min(min(w_lens) * 1000, random.randint(2000, 10000)))\n",
    "    w_samples = [random_sampling(w, length = w_lens) for w in w_samples]\n",
    "    y = [w_samples[0]]\n",
    "    left = w_samples[0].copy()\n",
    "\n",
    "    combined = None\n",
    "\n",
    "    for i in range(1, n):\n",
    "        right = w_samples[i].copy()\n",
    "        overlap = random.uniform(0.98, 1.0)\n",
    "        print(i, overlap)\n",
    "        len_overlap = int(overlap * len(right))\n",
    "        minus = len(left) - len_overlap\n",
    "        if minus < 0:\n",
    "            minus = 0\n",
    "        padded_right = np.pad(right, (minus, 0))\n",
    "        left = np.pad(left, (0, len(padded_right) - len(left)))\n",
    "\n",
    "        left = left + padded_right\n",
    "\n",
    "        if i >= (limit - 1):\n",
    "            if combined is None:\n",
    "                combined = padded_right\n",
    "            else:\n",
    "                combined = np.pad(\n",
    "                    combined, (0, len(padded_right) - len(combined))\n",
    "                )\n",
    "                combined += padded_right\n",
    "\n",
    "        else:\n",
    "            y.append(padded_right)\n",
    "\n",
    "    if combined is not None:\n",
    "        y.append(combined)\n",
    "        \n",
    "    maxs = [max(left)]\n",
    "    for i in range(len(y)):\n",
    "        if len(y[i]) != len(left):\n",
    "            y[i] = np.pad(y[i], (0, len(left) - len(y[i])))\n",
    "            maxs.append(max(y[i]))\n",
    "            \n",
    "    max_amp = max(maxs)\n",
    "    mix_scaling = 1 / max_amp * 0.95\n",
    "    left = left * mix_scaling\n",
    "    \n",
    "    for i in range(len(y)):\n",
    "        y[i] = y[i] * mix_scaling\n",
    "\n",
    "#     for i in range(len(y)):\n",
    "#         if len(y[i]) != len(left):\n",
    "#             y[i] = np.pad(y[i], (0, len(left) - len(y[i])))\n",
    "#             y[i] = y[i] / np.max(np.abs(y[i]))\n",
    "\n",
    "#     left = left / np.max(np.abs(left))\n",
    "        \n",
    "    return left, y\n",
    "\n",
    "# y, _ = malaya_speech.load('../speech/example-speaker/husein-zolkepli.wav')\n",
    "# y = np.expand_dims(y, 0).astype(np.float32)\n",
    "# y.shape"
   ]
  },
  {
   "cell_type": "code",
   "execution_count": 7,
   "id": "afraid-russian",
   "metadata": {},
   "outputs": [
    {
     "name": "stdout",
     "output_type": "stream",
     "text": [
      "1 0.9878920709206004\n",
      "2 0.9923591290150175\n",
      "3 0.9855727092885309\n",
      "4 0.9956191873329464\n",
      "5 0.9946154584062601\n"
     ]
    },
    {
     "data": {
      "text/plain": [
       "(3.009125, 4)"
      ]
     },
     "execution_count": 7,
     "metadata": {},
     "output_type": "execute_result"
    }
   ],
   "source": [
    "left, y = combine_speakers(wavs, 6)\n",
    "len(left) / sr, len(y)"
   ]
  },
  {
   "cell_type": "code",
   "execution_count": 8,
   "id": "closing-constitution",
   "metadata": {
    "scrolled": true
   },
   "outputs": [
    {
     "data": {
      "text/plain": [
       "[<matplotlib.lines.Line2D at 0x14beed210>]"
      ]
     },
     "execution_count": 8,
     "metadata": {},
     "output_type": "execute_result"
    },
    {
     "data": {
      "image/png": "[encoded data removed]",
      "text/plain": [
       "<Figure size 432x288 with 1 Axes>"
      ]
     },
     "metadata": {
      "needs_background": "light"
     },
     "output_type": "display_data"
    }
   ],
   "source": [
    "import matplotlib.pyplot as plt\n",
    "\n",
    "plt.plot(left)\n",
    "plt.plot(y[2])"
   ]
  },
  {
   "cell_type": "code",
   "execution_count": 9,
   "id": "prompt-march",
   "metadata": {},
   "outputs": [
    {
     "data": {
      "text/html": [
       "\n",
       "                <audio  controls=\"controls\" >\n",
       "                    <source src=\"data:audio/wav;base64,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\" type=\"audio/wav\" />\n",
       "                    Your browser does not support the audio element.\n",
       "                </audio>\n",
       "              "
      ],
      "text/plain": [
       "<IPython.lib.display.Audio object>"
      ]
     },
     "execution_count": 9,
     "metadata": {},
     "output_type": "execute_result"
    }
   ],
   "source": [
    "import IPython.display as ipd\n",
    "\n",
    "ipd.Audio(left, rate = sr)"
   ]
  },
  {
   "cell_type": "code",
   "execution_count": 10,
   "id": "champion-creation",
   "metadata": {},
   "outputs": [],
   "source": [
    "# https://github.com/speechbrain/speechbrain/blob/develop/recipes/WSJ0Mix/separation/hparams/sepformer-wham.yaml#L111\n",
    "config = malaya_speech.config.transformer_config\n",
    "dim = 256\n",
    "config['hidden_size'] = dim\n",
    "config['num_hidden_layers'] = 10\n",
    "config['attention_dropout'] = 0.0\n",
    "config['relu_dropout'] = 0.0\n",
    "config['filter_size'] = 1024\n",
    "config['norm_before'] = True"
   ]
  },
  {
   "cell_type": "code",
   "execution_count": 11,
   "id": "mounted-strength",
   "metadata": {},
   "outputs": [],
   "source": [
    "transformer = lambda: encoder.Encoder(config, train = True)"
   ]
  },
  {
   "cell_type": "code",
   "execution_count": 12,
   "id": "strong-sudan",
   "metadata": {},
   "outputs": [
    {
     "name": "stdout",
     "output_type": "stream",
     "text": [
      "WARNING:tensorflow:From /Users/huseinzolkepli/Documents/malaya-speech/malaya_speech/train/model/transformer/attention_layer.py:41: The name tf.layers.Dense is deprecated. Please use tf.compat.v1.layers.Dense instead.\n",
      "\n"
     ]
    }
   ],
   "source": [
    "model = sepformer.Model(transformer, transformer)"
   ]
  },
  {
   "cell_type": "code",
   "execution_count": 13,
   "id": "ordinary-ratio",
   "metadata": {
    "scrolled": true
   },
   "outputs": [
    {
     "name": "stdout",
     "output_type": "stream",
     "text": [
      "WARNING:tensorflow:From /Users/huseinzolkepli/Documents/tf-1.15/env/lib/python3.7/site-packages/tensorflow_core/python/ops/resource_variable_ops.py:1630: calling BaseResourceVariable.__init__ (from tensorflow.python.ops.resource_variable_ops) with constraint is deprecated and will be removed in a future version.\n",
      "Instructions for updating:\n",
      "If using Keras pass *_constraint arguments to layers.\n",
      "WARNING:tensorflow:From /Users/huseinzolkepli/Documents/tf-1.15/env/lib/python3.7/site-packages/tensorflow_core/python/autograph/converters/directives.py:119: The name tf.variable_scope is deprecated. Please use tf.compat.v1.variable_scope instead.\n",
      "\n",
      "WARNING:tensorflow:From /Users/huseinzolkepli/Documents/malaya-speech/malaya_speech/train/model/transformer/model_utils.py:31: to_float (from tensorflow.python.ops.math_ops) is deprecated and will be removed in a future version.\n",
      "Instructions for updating:\n",
      "Use `tf.cast` instead.\n",
      "WARNING:tensorflow:From /Users/huseinzolkepli/Documents/malaya-speech/malaya_speech/train/model/transformer/encoder.py:58: calling dropout (from tensorflow.python.ops.nn_ops) with keep_prob is deprecated and will be removed in a future version.\n",
      "Instructions for updating:\n",
      "Please use `rate` instead of `keep_prob`. Rate should be set to `rate = 1 - keep_prob`.\n",
      "WARNING:tensorflow:From /Users/huseinzolkepli/Documents/malaya-speech/malaya_speech/train/model/transformer/transformer.py:139: The name tf.get_variable is deprecated. Please use tf.compat.v1.get_variable instead.\n",
      "\n",
      "WARNING:tensorflow:From /Users/huseinzolkepli/Documents/tf-1.15/env/lib/python3.7/site-packages/tensorflow_core/python/autograph/converters/directives.py:119: The name tf.rsqrt is deprecated. Please use tf.math.rsqrt instead.\n",
      "\n",
      "WARNING:tensorflow:From /Users/huseinzolkepli/Documents/malaya-speech/malaya_speech/train/model/transformer/ffn_layer.py:81: where (from tensorflow.python.ops.array_ops) is deprecated and will be removed in a future version.\n",
      "Instructions for updating:\n",
      "Use tf.where in 2.0, which has the same broadcast rule as np.where\n",
      "WARNING:tensorflow:From /Users/huseinzolkepli/Documents/malaya-speech/malaya_speech/train/model/transformer/ffn_layer.py:81: to_int32 (from tensorflow.python.ops.math_ops) is deprecated and will be removed in a future version.\n",
      "Instructions for updating:\n",
      "Use `tf.cast` instead.\n"
     ]
    }
   ],
   "source": [
    "X = tf.placeholder(tf.float32, [None, None, 1])\n",
    "len_X = tf.placeholder(tf.int32, [None])\n",
    "logits = model(X)"
   ]
  },
  {
   "cell_type": "code",
   "execution_count": 14,
   "id": "balanced-wagon",
   "metadata": {},
   "outputs": [
    {
     "data": {
      "text/plain": [
       "<tf.Tensor 'sepformer/cond/Merge:0' shape=(4, ?, ?, 1) dtype=float32>"
      ]
     },
     "execution_count": 14,
     "metadata": {},
     "output_type": "execute_result"
    }
   ],
   "source": [
    "logits"
   ]
  },
  {
   "cell_type": "code",
   "execution_count": 15,
   "id": "hybrid-employee",
   "metadata": {},
   "outputs": [],
   "source": [
    "estimate_source = tf.transpose(logits[:,:,:,0], [1, 0, 2])"
   ]
  },
  {
   "cell_type": "code",
   "execution_count": 16,
   "id": "prescription-horse",
   "metadata": {},
   "outputs": [],
   "source": [
    "C = 4\n",
    "Y = tf.placeholder(tf.float32, [None, C, None])"
   ]
  },
  {
   "cell_type": "code",
   "execution_count": 17,
   "id": "nearby-leonard",
   "metadata": {},
   "outputs": [
    {
     "name": "stdout",
     "output_type": "stream",
     "text": [
      "WARNING:tensorflow:From /Users/huseinzolkepli/Documents/malaya-speech/malaya_speech/train/model/utils.py:40: The name tf.log is deprecated. Please use tf.math.log instead.\n",
      "\n"
     ]
    }
   ],
   "source": [
    "loss, max_snr, _ = sepformer.calculate_loss(Y, Y, len_X, C = C)"
   ]
  },
  {
   "cell_type": "code",
   "execution_count": 18,
   "id": "figured-olive",
   "metadata": {},
   "outputs": [],
   "source": [
    "# X = tf.convert_to_tensor(np.expand_dims([left], axis = -1).astype(np.float32))\n",
    "# logits = model(X)"
   ]
  },
  {
   "cell_type": "code",
   "execution_count": 19,
   "id": "governmental-study",
   "metadata": {},
   "outputs": [],
   "source": [
    "sess = tf.Session()\n",
    "sess.run(tf.global_variables_initializer())"
   ]
  },
  {
   "cell_type": "code",
   "execution_count": 20,
   "id": "african-peter",
   "metadata": {},
   "outputs": [
    {
     "data": {
      "text/plain": [
       "(4, 2, 24073, 1)"
      ]
     },
     "execution_count": 20,
     "metadata": {},
     "output_type": "execute_result"
    }
   ],
   "source": [
    "l = sess.run(logits, feed_dict = {X: np.expand_dims([left, left], axis = -1)})\n",
    "l.shape"
   ]
  },
  {
   "cell_type": "code",
   "execution_count": 21,
   "id": "bored-advice",
   "metadata": {},
   "outputs": [
    {
     "data": {
      "text/plain": [
       "-104.51417"
      ]
     },
     "execution_count": 21,
     "metadata": {},
     "output_type": "execute_result"
    }
   ],
   "source": [
    "sess.run(loss, feed_dict = {X: np.expand_dims([left], axis = -1), len_X: [len(left)], Y: [y]})"
   ]
  },
  {
   "cell_type": "code",
   "execution_count": 22,
   "id": "retained-fighter",
   "metadata": {},
   "outputs": [
    {
     "data": {
      "text/plain": [
       "array([[104.51417]], dtype=float32)"
      ]
     },
     "execution_count": 22,
     "metadata": {},
     "output_type": "execute_result"
    }
   ],
   "source": [
    "sess.run(max_snr, feed_dict = {X: np.expand_dims([left], axis = -1), len_X: [len(left)], Y: [y]})"
   ]
  },
  {
   "cell_type": "code",
   "execution_count": 23,
   "id": "domestic-sierra",
   "metadata": {},
   "outputs": [],
   "source": [
    "saver = tf.train.Saver()"
   ]
  },
  {
   "cell_type": "code",
   "execution_count": 24,
   "id": "moved-design",
   "metadata": {},
   "outputs": [
    {
     "data": {
      "text/plain": [
       "'test/model.ckpt'"
      ]
     },
     "execution_count": 24,
     "metadata": {},
     "output_type": "execute_result"
    }
   ],
   "source": [
    "saver.save(sess, 'test/model.ckpt')"
   ]
  },
  {
   "cell_type": "code",
   "execution_count": 25,
   "id": "unusual-strain",
   "metadata": {},
   "outputs": [
    {
     "name": "stdout",
     "output_type": "stream",
     "text": [
      "total 266680\r\n",
      "-rw-r--r--  1 huseinzolkepli  staff    77B May  9 14:01 checkpoint\r\n",
      "-rw-r--r--  1 huseinzolkepli  staff   122M May  9 14:01 model.ckpt.data-00000-of-00001\r\n",
      "-rw-r--r--  1 huseinzolkepli  staff    26K May  9 14:01 model.ckpt.index\r\n",
      "-rw-r--r--  1 huseinzolkepli  staff   7.8M May  9 14:01 model.ckpt.meta\r\n"
     ]
    }
   ],
   "source": [
    "!ls -lh test"
   ]
  },
  {
   "cell_type": "code",
   "execution_count": 26,
   "id": "coastal-recipient",
   "metadata": {},
   "outputs": [],
   "source": [
    "!rm -rf test"
   ]
  },
  {
   "cell_type": "code",
   "execution_count": 27,
   "id": "eight-latvia",
   "metadata": {},
   "outputs": [],
   "source": [
    "# tf.trainable_variables()"
   ]
  }
 ],
 "metadata": {
  "kernelspec": {
   "display_name": "Python 3",
   "language": "python",
   "name": "python3"
  },
  "language_info": {
   "codemirror_mode": {
    "name": "ipython",
    "version": 3
   },
   "file_extension": ".py",
   "mimetype": "text/x-python",
   "name": "python",
   "nbconvert_exporter": "python",
   "pygments_lexer": "ipython3",
   "version": "3.7.7"
  }
 },
 "nbformat": 4,
 "nbformat_minor": 5
}

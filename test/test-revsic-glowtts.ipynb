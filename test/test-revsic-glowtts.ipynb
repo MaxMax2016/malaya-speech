{
 "cells": [
  {
   "cell_type": "code",
   "execution_count": 1,
   "metadata": {},
   "outputs": [],
   "source": [
    "import os\n",
    "\n",
    "os.environ['CUDA_VISIBLE_DEVICES'] = '1'"
   ]
  },
  {
   "cell_type": "code",
   "execution_count": 2,
   "metadata": {},
   "outputs": [],
   "source": [
    "import sys\n",
    "\n",
    "SOURCE_DIR = os.path.dirname(os.path.dirname(os.path.abspath(__name__)))\n",
    "sys.path.insert(0, SOURCE_DIR)"
   ]
  },
  {
   "cell_type": "code",
   "execution_count": 3,
   "metadata": {},
   "outputs": [
    {
     "name": "stdout",
     "output_type": "stream",
     "text": [
      "WARNING:tensorflow:From /Users/huseinzolkepli/Documents/malaya-speech/malaya_speech/train/optimizer/__init__.py:39: The name tf.train.AdagradOptimizer is deprecated. Please use tf.compat.v1.train.AdagradOptimizer instead.\n",
      "\n",
      "WARNING:tensorflow:From /Users/huseinzolkepli/Documents/malaya-speech/malaya_speech/train/optimizer/__init__.py:40: The name tf.train.AdamOptimizer is deprecated. Please use tf.compat.v1.train.AdamOptimizer instead.\n",
      "\n",
      "WARNING:tensorflow:From /Users/huseinzolkepli/Documents/malaya-speech/malaya_speech/train/optimizer/__init__.py:41: The name tf.train.FtrlOptimizer is deprecated. Please use tf.compat.v1.train.FtrlOptimizer instead.\n",
      "\n",
      "WARNING:tensorflow:From /Users/huseinzolkepli/Documents/malaya-speech/malaya_speech/train/optimizer/__init__.py:43: The name tf.train.RMSPropOptimizer is deprecated. Please use tf.compat.v1.train.RMSPropOptimizer instead.\n",
      "\n",
      "WARNING:tensorflow:From /Users/huseinzolkepli/Documents/malaya-speech/malaya_speech/train/optimizer/__init__.py:44: The name tf.train.GradientDescentOptimizer is deprecated. Please use tf.compat.v1.train.GradientDescentOptimizer instead.\n",
      "\n",
      "WARNING:tensorflow:\n",
      "The TensorFlow contrib module will not be included in TensorFlow 2.0.\n",
      "For more information, please see:\n",
      "  * https://github.com/tensorflow/community/blob/master/rfcs/20180907-contrib-sunset.md\n",
      "  * https://github.com/tensorflow/addons\n",
      "  * https://github.com/tensorflow/io (for I/O related ops)\n",
      "If you depend on functionality not listed there, please file an issue.\n",
      "\n"
     ]
    }
   ],
   "source": [
    "import malaya_speech\n",
    "import malaya_speech.config\n",
    "from malaya_speech.train.model import revsic_glowtts as glowtts\n",
    "import tensorflow as tf\n",
    "import numpy as np\n",
    "import math\n",
    "import matplotlib.pyplot as plt"
   ]
  },
  {
   "cell_type": "code",
   "execution_count": 4,
   "metadata": {},
   "outputs": [
    {
     "data": {
      "text/plain": [
       "dict_keys(['mel', 'text_ids', 'len_mel', 'len_text_ids', 'stop_token_target', 'f0', 'len_f0', 'energy', 'len_energy', 'g'])"
      ]
     },
     "execution_count": 4,
     "metadata": {},
     "output_type": "execute_result"
    }
   ],
   "source": [
    "import pickle\n",
    "\n",
    "with open('dataset-mel.pkl', 'rb') as fopen:\n",
    "    data, d = pickle.load(fopen)\n",
    "    \n",
    "with open('dataset-mel-wav.pkl', 'rb') as fopen:\n",
    "    wav = pickle.load(fopen)\n",
    "    \n",
    "data.keys()"
   ]
  },
  {
   "cell_type": "code",
   "execution_count": 5,
   "metadata": {},
   "outputs": [],
   "source": [
    "i = tf.placeholder(tf.int32, [None, None])\n",
    "i_lengths = tf.placeholder(tf.int32, [None])\n",
    "mel_outputs = tf.placeholder(tf.float32, [None, None, 80])\n",
    "mel_lengths = tf.placeholder(tf.int32, [None])"
   ]
  },
  {
   "cell_type": "code",
   "execution_count": 6,
   "metadata": {},
   "outputs": [],
   "source": [
    "config = glowtts.Config(mel = 80, vocabs = 66)"
   ]
  },
  {
   "cell_type": "code",
   "execution_count": 7,
   "metadata": {},
   "outputs": [
    {
     "name": "stdout",
     "output_type": "stream",
     "text": [
      "WARNING:tensorflow:From /Library/Frameworks/Python.framework/Versions/3.7/lib/python3.7/site-packages/tensorflow_core/python/keras/initializers.py:119: calling RandomUniform.__init__ (from tensorflow.python.ops.init_ops) with dtype is deprecated and will be removed in a future version.\n",
      "Instructions for updating:\n",
      "Call initializer instance with the dtype argument instead of passing it to the constructor\n"
     ]
    }
   ],
   "source": [
    "model = glowtts.Model(config)"
   ]
  },
  {
   "cell_type": "code",
   "execution_count": 8,
   "metadata": {
    "scrolled": true
   },
   "outputs": [
    {
     "name": "stdout",
     "output_type": "stream",
     "text": [
      "WARNING:tensorflow:From /Library/Frameworks/Python.framework/Versions/3.7/lib/python3.7/site-packages/tensorflow_core/python/ops/resource_variable_ops.py:1630: calling BaseResourceVariable.__init__ (from tensorflow.python.ops.resource_variable_ops) with constraint is deprecated and will be removed in a future version.\n",
      "Instructions for updating:\n",
      "If using Keras pass *_constraint arguments to layers.\n",
      "WARNING:tensorflow:From /Users/huseinzolkepli/Documents/malaya-speech/malaya_speech/train/model/utils.py:469: The name tf.debugging.assert_equal is deprecated. Please use tf.compat.v1.debugging.assert_equal instead.\n",
      "\n",
      "WARNING:tensorflow:From /Library/Frameworks/Python.framework/Versions/3.7/lib/python3.7/site-packages/tensorflow_core/python/ops/init_ops.py:97: calling GlorotUniform.__init__ (from tensorflow.python.ops.init_ops) with dtype is deprecated and will be removed in a future version.\n",
      "Instructions for updating:\n",
      "Call initializer instance with the dtype argument instead of passing it to the constructor\n",
      "WARNING:tensorflow:From /Library/Frameworks/Python.framework/Versions/3.7/lib/python3.7/site-packages/tensorflow_core/python/ops/init_ops.py:97: calling Zeros.__init__ (from tensorflow.python.ops.init_ops) with dtype is deprecated and will be removed in a future version.\n",
      "Instructions for updating:\n",
      "Call initializer instance with the dtype argument instead of passing it to the constructor\n",
      "WARNING:tensorflow:From /Users/huseinzolkepli/Documents/malaya-speech/malaya_speech/train/model/revsic_glowtts/model.py:291: where (from tensorflow.python.ops.array_ops) is deprecated and will be removed in a future version.\n",
      "Instructions for updating:\n",
      "Use tf.where in 2.0, which has the same broadcast rule as np.where\n"
     ]
    },
    {
     "data": {
      "text/plain": [
       "(<tf.Tensor 'add_4:0' shape=() dtype=float32>,\n",
       " {'nll': <tf.Tensor 'Mean:0' shape=() dtype=float32>,\n",
       "  'durloss': <tf.Tensor 'Mean_1:0' shape=() dtype=float32>},\n",
       " <tf.Tensor 'StopGradient:0' shape=(?, ?, ?) dtype=float32>)"
      ]
     },
     "execution_count": 8,
     "metadata": {},
     "output_type": "execute_result"
    }
   ],
   "source": [
    "loss, losses, attn = model.compute_loss(text = i, textlen = i_lengths, mel = mel_outputs, mellen = mel_lengths)\n",
    "loss, losses, attn"
   ]
  },
  {
   "cell_type": "code",
   "execution_count": 9,
   "metadata": {},
   "outputs": [],
   "source": [
    "parameters = {\n",
    "    'optimizer_params': {'beta1': 0.9, 'beta2': 0.98, 'epsilon': 10e-9},\n",
    "    'lr_policy_params': {\n",
    "        'warmup_steps': 40000,\n",
    "    },\n",
    "}\n",
    "\n",
    "def noam_schedule(step, learning_rate, channels, warmup_steps=4000):\n",
    "    return learning_rate * channels ** -0.5 * \\\n",
    "            tf.minimum(step ** -0.5, step * warmup_steps ** -1.5)\n",
    "\n",
    "def learning_rate_scheduler(global_step):\n",
    "    return transformer_schedule(\n",
    "        tf.cast(global_step, tf.float32),\n",
    "        config.channels,\n",
    "        **parameters['lr_policy_params'],\n",
    "    )"
   ]
  },
  {
   "cell_type": "code",
   "execution_count": 21,
   "metadata": {},
   "outputs": [
    {
     "data": {
      "text/plain": [
       "{'mel': 80,\n",
       " 'factor': 2,\n",
       " 'neck': 160,\n",
       " 'vocabs': 66,\n",
       " 'temperature': 0.333,\n",
       " 'channels': 192,\n",
       " 'prenet_kernel': 5,\n",
       " 'prenet_layers': 3,\n",
       " 'prenet_groups': 4,\n",
       " 'prenet_dropout': 0.5,\n",
       " 'block_num': 6,\n",
       " 'block_ffn': 768,\n",
       " 'block_heads': 2,\n",
       " 'block_dropout': 0.1,\n",
       " 'flow_groups': 4,\n",
       " 'flow_block_num': 12,\n",
       " 'wavenet_block_num': 4,\n",
       " 'wavenet_cycle': 1,\n",
       " 'wavenet_kernel_size': 5,\n",
       " 'wavenet_dilation': 1,\n",
       " 'dur_kernel': 3,\n",
       " 'dur_layers': 2,\n",
       " 'dur_dropout': 0.1}"
      ]
     },
     "execution_count": 21,
     "metadata": {},
     "output_type": "execute_result"
    }
   ],
   "source": [
    "config.__dict__"
   ]
  },
  {
   "cell_type": "code",
   "execution_count": 10,
   "metadata": {},
   "outputs": [],
   "source": [
    "optimizer = tf.train.AdamOptimizer(learning_rate = 1e-5).minimize(loss)"
   ]
  },
  {
   "cell_type": "code",
   "execution_count": 11,
   "metadata": {},
   "outputs": [
    {
     "data": {
      "text/plain": [
       "(<tf.Tensor 'model/Reshape_50:0' shape=(?, ?, 80) dtype=float32>,\n",
       " <tf.Tensor 'model/mul_89:0' shape=(?,) dtype=int32>,\n",
       " <tf.Tensor 'model/transpose:0' shape=(?, ?, ?) dtype=float32>)"
      ]
     },
     "execution_count": 11,
     "metadata": {},
     "output_type": "execute_result"
    }
   ],
   "source": [
    "mel, mellen, attn_out = model(inputs = i, lengths = i_lengths)\n",
    "mel, mellen, attn_out"
   ]
  },
  {
   "cell_type": "code",
   "execution_count": 12,
   "metadata": {},
   "outputs": [],
   "source": [
    "sess = tf.InteractiveSession()\n",
    "sess.run(tf.global_variables_initializer())"
   ]
  },
  {
   "cell_type": "code",
   "execution_count": 13,
   "metadata": {},
   "outputs": [
    {
     "name": "stdout",
     "output_type": "stream",
     "text": [
      "CPU times: user 3.16 s, sys: 206 ms, total: 3.37 s\n",
      "Wall time: 2.56 s\n"
     ]
    }
   ],
   "source": [
    "%%time\n",
    "\n",
    "o = sess.run([loss, losses, attn], feed_dict = {i: [data['text_ids'][0],data['text_ids'][0]],\n",
    "                                               i_lengths: [data['len_text_ids'][0,0], data['len_text_ids'][0,0]],\n",
    "                                               mel_outputs: [data['mel'].astype(np.float32)[0],data['mel'].astype(np.float32)[0]],\n",
    "                                               mel_lengths: [408, 408]})"
   ]
  },
  {
   "cell_type": "code",
   "execution_count": 24,
   "metadata": {
    "scrolled": true
   },
   "outputs": [
    {
     "name": "stdout",
     "output_type": "stream",
     "text": [
      "0 [-0.3452416, {'nll': -0.6147642, 'durloss': 0.2695226}, None]\n",
      "1 [-0.37006316, {'nll': -0.6182613, 'durloss': 0.24819812}, None]\n",
      "2 [-0.36028975, {'nll': -0.6232129, 'durloss': 0.26292312}, None]\n",
      "3 [-0.3637225, {'nll': -0.6246279, 'durloss': 0.26090539}, None]\n",
      "4 [-0.29575592, {'nll': -0.62299937, 'durloss': 0.32724345}, None]\n",
      "5 [-0.31508756, {'nll': -0.63018394, 'durloss': 0.31509638}, None]\n",
      "6 [-0.34693784, {'nll': -0.63525194, 'durloss': 0.2883141}, None]\n",
      "7 [-0.34989706, {'nll': -0.6299924, 'durloss': 0.28009537}, None]\n",
      "8 [-0.33791023, {'nll': -0.633808, 'durloss': 0.29589778}, None]\n",
      "9 [-0.350506, {'nll': -0.6356213, 'durloss': 0.2851153}, None]\n",
      "10 [-0.37251988, {'nll': -0.63249123, 'durloss': 0.25997135}, None]\n",
      "11 [-0.36047757, {'nll': -0.6416061, 'durloss': 0.28112853}, None]\n",
      "12 [-0.368831, {'nll': -0.63921416, 'durloss': 0.27038315}, None]\n",
      "13 [-0.37979347, {'nll': -0.64559454, 'durloss': 0.26580107}, None]\n",
      "14 [-0.34377143, {'nll': -0.6435407, 'durloss': 0.29976925}, None]\n",
      "15 [-0.3603997, {'nll': -0.64261734, 'durloss': 0.28221765}, None]\n",
      "16 [-0.3945784, {'nll': -0.6466598, 'durloss': 0.2520814}, None]\n",
      "17 [-0.36421984, {'nll': -0.6451229, 'durloss': 0.28090304}, None]\n",
      "18 [-0.39748767, {'nll': -0.6525034, 'durloss': 0.2550157}, None]\n",
      "19 [-0.3764679, {'nll': -0.6522386, 'durloss': 0.2757707}, None]\n",
      "20 [-0.35602972, {'nll': -0.6479902, 'durloss': 0.2919605}, None]\n",
      "21 [-0.35420024, {'nll': -0.6472119, 'durloss': 0.29301167}, None]\n",
      "22 [-0.4191675, {'nll': -0.65067613, 'durloss': 0.23150864}, None]\n",
      "23 [-0.3829015, {'nll': -0.6494057, 'durloss': 0.26650423}, None]\n",
      "24 [-0.3969433, {'nll': -0.65254295, 'durloss': 0.25559965}, None]\n",
      "25 [-0.38253736, {'nll': -0.6447713, 'durloss': 0.2622339}, None]\n",
      "26 [-0.39692163, {'nll': -0.65328085, 'durloss': 0.25635922}, None]\n",
      "27 [-0.38155568, {'nll': -0.6519568, 'durloss': 0.27040112}, None]\n",
      "28 [-0.43569472, {'nll': -0.64979196, 'durloss': 0.21409723}, None]\n",
      "29 [-0.36906338, {'nll': -0.65294635, 'durloss': 0.28388298}, None]\n",
      "30 [-0.35321748, {'nll': -0.6493466, 'durloss': 0.2961291}, None]\n",
      "31 [-0.37344766, {'nll': -0.647509, 'durloss': 0.27406132}, None]\n",
      "32 [-0.3801971, {'nll': -0.6488805, 'durloss': 0.26868337}, None]\n",
      "33 [-0.37684882, {'nll': -0.6467612, 'durloss': 0.26991236}, None]\n",
      "34 [-0.42292815, {'nll': -0.64681953, 'durloss': 0.22389138}, None]\n",
      "35 [-0.37387145, {'nll': -0.64592946, 'durloss': 0.272058}, None]\n",
      "36 [-0.39071995, {'nll': -0.64409435, 'durloss': 0.2533744}, None]\n",
      "37 [-0.39804915, {'nll': -0.6454233, 'durloss': 0.24737415}, None]\n",
      "38 [-0.41393578, {'nll': -0.6416581, 'durloss': 0.22772235}, None]\n",
      "39 [-0.36874437, {'nll': -0.64082414, 'durloss': 0.27207977}, None]\n",
      "40 [-0.43919238, {'nll': -0.6454917, 'durloss': 0.20629933}, None]\n",
      "41 [-0.37799567, {'nll': -0.64180243, 'durloss': 0.26380676}, None]\n",
      "42 [-0.3640202, {'nll': -0.6412498, 'durloss': 0.27722958}, None]\n",
      "43 [-0.36314505, {'nll': -0.6330178, 'durloss': 0.26987273}, None]\n",
      "44 [-0.35788935, {'nll': -0.63561475, 'durloss': 0.2777254}, None]\n",
      "45 [-0.37684235, {'nll': -0.6312189, 'durloss': 0.25437656}, None]\n",
      "46 [-0.35012367, {'nll': -0.63173336, 'durloss': 0.28160968}, None]\n",
      "47 [-0.3487704, {'nll': -0.6291399, 'durloss': 0.2803695}, None]\n",
      "48 [-0.3646084, {'nll': -0.6258091, 'durloss': 0.26120067}, None]\n",
      "49 [-0.40590802, {'nll': -0.6216845, 'durloss': 0.21577647}, None]\n",
      "50 [-0.39352548, {'nll': -0.62227607, 'durloss': 0.22875057}, None]\n",
      "51 [-0.36036676, {'nll': -0.625197, 'durloss': 0.26483023}, None]\n",
      "52 [-0.36990148, {'nll': -0.6166253, 'durloss': 0.24672382}, None]\n",
      "53 [-0.36318204, {'nll': -0.61696434, 'durloss': 0.2537823}, None]\n",
      "54 [-0.34856567, {'nll': -0.61305976, 'durloss': 0.2644941}, None]\n",
      "55 [-0.35516572, {'nll': -0.60875636, 'durloss': 0.25359064}, None]\n",
      "56 [-0.34034032, {'nll': -0.6106155, 'durloss': 0.27027518}, None]\n",
      "57 [-0.3685443, {'nll': -0.606232, 'durloss': 0.23768768}, None]\n",
      "58 [-0.373812, {'nll': -0.6074238, 'durloss': 0.23361179}, None]\n",
      "59 [-0.36692455, {'nll': -0.59618974, 'durloss': 0.22926518}, None]\n",
      "60 [-0.32932848, {'nll': -0.600709, 'durloss': 0.27138054}, None]\n",
      "61 [-0.31564838, {'nll': -0.5920783, 'durloss': 0.27642995}, None]\n",
      "62 [-0.31191945, {'nll': -0.5886008, 'durloss': 0.27668136}, None]\n",
      "63 [-0.2991718, {'nll': -0.588129, 'durloss': 0.28895718}, None]\n",
      "64 [-0.34895474, {'nll': -0.58521, 'durloss': 0.23625529}, None]\n",
      "65 [-0.3054723, {'nll': -0.58102584, 'durloss': 0.27555352}, None]\n",
      "66 [-0.33054742, {'nll': -0.5799298, 'durloss': 0.2493824}, None]\n",
      "67 [-0.31404907, {'nll': -0.57144916, 'durloss': 0.2574001}, None]\n",
      "68 [-0.28422475, {'nll': -0.5722922, 'durloss': 0.28806746}, None]\n",
      "69 [-0.31877056, {'nll': -0.57584834, 'durloss': 0.25707778}, None]\n",
      "70 [-0.30072096, {'nll': -0.5677953, 'durloss': 0.26707432}, None]\n",
      "71 [-0.34151363, {'nll': -0.56978416, 'durloss': 0.22827052}, None]\n",
      "72 [-0.29542094, {'nll': -0.5673181, 'durloss': 0.27189714}, None]\n",
      "73 [-0.27806064, {'nll': -0.563305, 'durloss': 0.28524438}, None]\n",
      "74 [-0.3219881, {'nll': -0.5624296, 'durloss': 0.24044149}, None]\n",
      "75 [-0.3010058, {'nll': -0.55428386, 'durloss': 0.25327805}, None]\n",
      "76 [-0.25131452, {'nll': -0.5474766, 'durloss': 0.29616207}, None]\n",
      "77 [-0.3086477, {'nll': -0.55539876, 'durloss': 0.24675107}, None]\n",
      "78 [-0.31561893, {'nll': -0.54747605, 'durloss': 0.2318571}, None]\n",
      "79 [-0.26986325, {'nll': -0.5326184, 'durloss': 0.26275516}, None]\n",
      "80 [-0.27010965, {'nll': -0.545111, 'durloss': 0.27500135}, None]\n",
      "81 [-0.24613625, {'nll': -0.53233755, 'durloss': 0.2862013}, None]\n",
      "82 [-0.25901246, {'nll': -0.5272193, 'durloss': 0.26820683}, None]\n",
      "83 [-0.31641433, {'nll': -0.5347214, 'durloss': 0.21830705}, None]\n",
      "84 [-0.27198464, {'nll': -0.5149257, 'durloss': 0.24294108}, None]\n",
      "85 [-0.27194643, {'nll': -0.5108662, 'durloss': 0.2389198}, None]\n",
      "86 [-0.29846692, {'nll': -0.5227107, 'durloss': 0.22424378}, None]\n",
      "87 [-0.27983373, {'nll': -0.50053537, 'durloss': 0.22070163}, None]\n",
      "88 [-0.23726329, {'nll': -0.5103573, 'durloss': 0.27309403}, None]\n",
      "89 [-0.22973648, {'nll': -0.5099142, 'durloss': 0.28017774}, None]\n",
      "90 [-0.22214836, {'nll': -0.5041057, 'durloss': 0.28195733}, None]\n",
      "91 [-0.20488316, {'nll': -0.5002551, 'durloss': 0.29537195}, None]\n",
      "92 [-0.26921654, {'nll': -0.50128365, 'durloss': 0.23206711}, None]\n",
      "93 [-0.19070134, {'nll': -0.5028927, 'durloss': 0.31219134}, None]\n",
      "94 [-0.250876, {'nll': -0.49351656, 'durloss': 0.24264055}, None]\n",
      "95 [-0.22296566, {'nll': -0.49279553, 'durloss': 0.26982987}, None]\n",
      "96 [-0.24913776, {'nll': -0.48549932, 'durloss': 0.23636156}, None]\n",
      "97 [-0.2603915, {'nll': -0.5006465, 'durloss': 0.24025497}, None]\n",
      "98 [-0.2535686, {'nll': -0.47762814, 'durloss': 0.22405954}, None]\n",
      "99 [-0.24907188, {'nll': -0.49496484, 'durloss': 0.24589296}, None]\n"
     ]
    }
   ],
   "source": [
    "for k in range(100):\n",
    "    o = sess.run([loss, losses, optimizer], feed_dict = {i: [data['text_ids'][0],data['text_ids'][0]],\n",
    "                                               i_lengths: [data['len_text_ids'][0,0], data['len_text_ids'][0,0]],\n",
    "                                               mel_outputs: [data['mel'].astype(np.float32)[0],data['mel'].astype(np.float32)[0]],\n",
    "                                               mel_lengths: [408, 408]})\n",
    "    print(k, o)"
   ]
  },
  {
   "cell_type": "code",
   "execution_count": 25,
   "metadata": {},
   "outputs": [
    {
     "name": "stdout",
     "output_type": "stream",
     "text": [
      "CPU times: user 767 ms, sys: 192 ms, total: 959 ms\n",
      "Wall time: 218 ms\n"
     ]
    }
   ],
   "source": [
    "%%time\n",
    "\n",
    "o = sess.run([loss, losses, attn], feed_dict = {i: [data['text_ids'][0],data['text_ids'][0]],\n",
    "                                               i_lengths: [data['len_text_ids'][0,0], data['len_text_ids'][0,0]],\n",
    "                                               mel_outputs: [data['mel'].astype(np.float32)[0],data['mel'].astype(np.float32)[0]],\n",
    "                                               mel_lengths: [408, 408]})"
   ]
  },
  {
   "cell_type": "code",
   "execution_count": 26,
   "metadata": {},
   "outputs": [
    {
     "data": {
      "image/png": "[encoded data removed]",
      "text/plain": [
       "<Figure size 576x432 with 2 Axes>"
      ]
     },
     "metadata": {
      "needs_background": "light"
     },
     "output_type": "display_data"
    }
   ],
   "source": [
    "fig = plt.figure(figsize=(8, 6))\n",
    "ax = fig.add_subplot(111)\n",
    "ax.set_title('Alignment steps')\n",
    "im = ax.imshow(\n",
    "    o[-1][0],\n",
    "    aspect='auto',\n",
    "    origin='lower',\n",
    "    interpolation='none')\n",
    "fig.colorbar(im, ax=ax)\n",
    "xlabel = 'Decoder timestep'\n",
    "plt.xlabel(xlabel)\n",
    "plt.ylabel('Encoder timestep')\n",
    "plt.tight_layout()\n",
    "plt.show()"
   ]
  },
  {
   "cell_type": "code",
   "execution_count": 31,
   "metadata": {},
   "outputs": [],
   "source": [
    "o = sess.run([mel, mellen], feed_dict = {i: [data['text_ids'][0],data['text_ids'][0]],\n",
    "                                               i_lengths: [data['len_text_ids'][0,0], data['len_text_ids'][0,0]],\n",
    "                                        mel_outputs: [data['mel'].astype(np.float32)[0],data['mel'].astype(np.float32)[0]],\n",
    "                                               mel_lengths: [408, 408]})"
   ]
  },
  {
   "cell_type": "code",
   "execution_count": 32,
   "metadata": {},
   "outputs": [
    {
     "data": {
      "image/png": "[encoded data removed]",
      "text/plain": [
       "<Figure size 720x576 with 2 Axes>"
      ]
     },
     "metadata": {
      "needs_background": "light"
     },
     "output_type": "display_data"
    }
   ],
   "source": [
    "mel_outputs_ = np.reshape(o[0][0], [-1, 80])\n",
    "fig = plt.figure(figsize=(10, 8))\n",
    "ax1 = fig.add_subplot(311)\n",
    "ax1.set_title(f'Predicted Mel-before-Spectrogram')\n",
    "im = ax1.imshow(np.rot90(mel_outputs_), aspect='auto', interpolation='none')\n",
    "fig.colorbar(mappable=im, shrink=0.65, orientation='horizontal', ax=ax1)\n",
    "plt.show()"
   ]
  },
  {
   "cell_type": "code",
   "execution_count": 29,
   "metadata": {},
   "outputs": [
    {
     "data": {
      "text/plain": [
       "'test/model.ckpt'"
      ]
     },
     "execution_count": 29,
     "metadata": {},
     "output_type": "execute_result"
    }
   ],
   "source": [
    "saver = tf.train.Saver(tf.trainable_variables())\n",
    "saver.save(sess, 'test/model.ckpt')"
   ]
  },
  {
   "cell_type": "code",
   "execution_count": 23,
   "metadata": {},
   "outputs": [
    {
     "name": "stdout",
     "output_type": "stream",
     "text": [
      "total 282864\r\n",
      "-rw-r--r--  1 huseinzolkepli  staff    77B Oct  9 14:25 checkpoint\r\n",
      "-rw-r--r--  1 huseinzolkepli  staff   109M Oct  9 14:25 model.ckpt.data-00000-of-00001\r\n",
      "-rw-r--r--  1 huseinzolkepli  staff    33K Oct  9 14:25 model.ckpt.index\r\n",
      "-rw-r--r--  1 huseinzolkepli  staff    29M Oct  9 14:25 model.ckpt.meta\r\n"
     ]
    }
   ],
   "source": [
    "!ls -lh test"
   ]
  }
 ],
 "metadata": {
  "kernelspec": {
   "display_name": "Python 3",
   "language": "python",
   "name": "python3"
  },
  "language_info": {
   "codemirror_mode": {
    "name": "ipython",
    "version": 3
   },
   "file_extension": ".py",
   "mimetype": "text/x-python",
   "name": "python",
   "nbconvert_exporter": "python",
   "pygments_lexer": "ipython3",
   "version": "3.7.7"
  }
 },
 "nbformat": 4,
 "nbformat_minor": 4
}

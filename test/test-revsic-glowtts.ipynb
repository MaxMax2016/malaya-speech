{
 "cells": [
  {
   "cell_type": "code",
   "execution_count": 1,
   "metadata": {},
   "outputs": [],
   "source": [
    "import os\n",
    "\n",
    "os.environ['CUDA_VISIBLE_DEVICES'] = '1'"
   ]
  },
  {
   "cell_type": "code",
   "execution_count": 2,
   "metadata": {},
   "outputs": [],
   "source": [
    "import sys\n",
    "\n",
    "SOURCE_DIR = os.path.dirname(os.path.dirname(os.path.abspath(__name__)))\n",
    "sys.path.insert(0, SOURCE_DIR)"
   ]
  },
  {
   "cell_type": "code",
   "execution_count": 3,
   "metadata": {},
   "outputs": [],
   "source": [
    "import malaya_speech\n",
    "import malaya_speech.config\n",
    "from malaya_speech.train.model import revsic_glowtts as glowtts\n",
    "import tensorflow as tf\n",
    "import numpy as np\n",
    "import math\n",
    "import matplotlib.pyplot as plt"
   ]
  },
  {
   "cell_type": "code",
   "execution_count": 4,
   "metadata": {},
   "outputs": [
    {
     "data": {
      "text/plain": [
       "dict_keys(['mel', 'text_ids', 'len_mel', 'len_text_ids', 'stop_token_target', 'f0', 'len_f0', 'energy', 'len_energy', 'g'])"
      ]
     },
     "execution_count": 4,
     "metadata": {},
     "output_type": "execute_result"
    }
   ],
   "source": [
    "import pickle\n",
    "\n",
    "with open('dataset-mel.pkl', 'rb') as fopen:\n",
    "    data, d = pickle.load(fopen)\n",
    "    \n",
    "with open('dataset-mel-wav.pkl', 'rb') as fopen:\n",
    "    wav = pickle.load(fopen)\n",
    "    \n",
    "data.keys()"
   ]
  },
  {
   "cell_type": "code",
   "execution_count": 5,
   "metadata": {},
   "outputs": [],
   "source": [
    "i = tf.placeholder(tf.int32, [None, None])\n",
    "i_lengths = tf.placeholder(tf.int32, [None])\n",
    "mel_outputs = tf.placeholder(tf.float32, [None, None, 80])\n",
    "mel_lengths = tf.placeholder(tf.int32, [None])"
   ]
  },
  {
   "cell_type": "code",
   "execution_count": 6,
   "metadata": {},
   "outputs": [],
   "source": [
    "config = glowtts.Config(mel = 80, vocabs = 66)"
   ]
  },
  {
   "cell_type": "code",
   "execution_count": 7,
   "metadata": {
    "scrolled": true
   },
   "outputs": [
    {
     "name": "stdout",
     "output_type": "stream",
     "text": [
      "WARNING:tensorflow:From /Library/Frameworks/Python.framework/Versions/3.7/lib/python3.7/site-packages/tensorflow_core/python/keras/initializers.py:119: calling RandomUniform.__init__ (from tensorflow.python.ops.init_ops) with dtype is deprecated and will be removed in a future version.\n",
      "Instructions for updating:\n",
      "Call initializer instance with the dtype argument instead of passing it to the constructor\n"
     ]
    }
   ],
   "source": [
    "model = glowtts.Model(config)"
   ]
  },
  {
   "cell_type": "code",
   "execution_count": 9,
   "metadata": {
    "scrolled": true
   },
   "outputs": [
    {
     "name": "stdout",
     "output_type": "stream",
     "text": [
      "WARNING:tensorflow:From /Library/Frameworks/Python.framework/Versions/3.7/lib/python3.7/site-packages/tensorflow_core/python/ops/resource_variable_ops.py:1630: calling BaseResourceVariable.__init__ (from tensorflow.python.ops.resource_variable_ops) with constraint is deprecated and will be removed in a future version.\n",
      "Instructions for updating:\n",
      "If using Keras pass *_constraint arguments to layers.\n",
      "WARNING:tensorflow:From /Users/huseinzolkepli/Documents/malaya-speech/malaya_speech/train/model/utils.py:469: The name tf.debugging.assert_equal is deprecated. Please use tf.compat.v1.debugging.assert_equal instead.\n",
      "\n"
     ]
    },
    {
     "name": "stderr",
     "output_type": "stream",
     "text": [
      "WARNING:tensorflow:From /Users/huseinzolkepli/Documents/malaya-speech/malaya_speech/train/model/utils.py:469: The name tf.debugging.assert_equal is deprecated. Please use tf.compat.v1.debugging.assert_equal instead.\n",
      "\n"
     ]
    },
    {
     "name": "stdout",
     "output_type": "stream",
     "text": [
      "WARNING:tensorflow:From /Library/Frameworks/Python.framework/Versions/3.7/lib/python3.7/site-packages/tensorflow_core/python/ops/init_ops.py:97: calling GlorotUniform.__init__ (from tensorflow.python.ops.init_ops) with dtype is deprecated and will be removed in a future version.\n",
      "Instructions for updating:\n",
      "Call initializer instance with the dtype argument instead of passing it to the constructor\n"
     ]
    },
    {
     "name": "stderr",
     "output_type": "stream",
     "text": [
      "WARNING:tensorflow:From /Library/Frameworks/Python.framework/Versions/3.7/lib/python3.7/site-packages/tensorflow_core/python/ops/init_ops.py:97: calling GlorotUniform.__init__ (from tensorflow.python.ops.init_ops) with dtype is deprecated and will be removed in a future version.\n",
      "Instructions for updating:\n",
      "Call initializer instance with the dtype argument instead of passing it to the constructor\n"
     ]
    },
    {
     "name": "stdout",
     "output_type": "stream",
     "text": [
      "WARNING:tensorflow:From /Library/Frameworks/Python.framework/Versions/3.7/lib/python3.7/site-packages/tensorflow_core/python/ops/init_ops.py:97: calling Zeros.__init__ (from tensorflow.python.ops.init_ops) with dtype is deprecated and will be removed in a future version.\n",
      "Instructions for updating:\n",
      "Call initializer instance with the dtype argument instead of passing it to the constructor\n"
     ]
    },
    {
     "name": "stderr",
     "output_type": "stream",
     "text": [
      "WARNING:tensorflow:From /Library/Frameworks/Python.framework/Versions/3.7/lib/python3.7/site-packages/tensorflow_core/python/ops/init_ops.py:97: calling Zeros.__init__ (from tensorflow.python.ops.init_ops) with dtype is deprecated and will be removed in a future version.\n",
      "Instructions for updating:\n",
      "Call initializer instance with the dtype argument instead of passing it to the constructor\n"
     ]
    },
    {
     "name": "stdout",
     "output_type": "stream",
     "text": [
      "WARNING:tensorflow:From /Users/huseinzolkepli/Documents/malaya-speech/malaya_speech/train/model/revsic_glowtts/model.py:268: where (from tensorflow.python.ops.array_ops) is deprecated and will be removed in a future version.\n",
      "Instructions for updating:\n",
      "Use tf.where in 2.0, which has the same broadcast rule as np.where\n"
     ]
    },
    {
     "name": "stderr",
     "output_type": "stream",
     "text": [
      "WARNING:tensorflow:From /Users/huseinzolkepli/Documents/malaya-speech/malaya_speech/train/model/revsic_glowtts/model.py:268: where (from tensorflow.python.ops.array_ops) is deprecated and will be removed in a future version.\n",
      "Instructions for updating:\n",
      "Use tf.where in 2.0, which has the same broadcast rule as np.where\n"
     ]
    },
    {
     "data": {
      "text/plain": [
       "(<tf.Tensor 'add_4:0' shape=() dtype=float32>,\n",
       " {'nll': <tf.Tensor 'Mean:0' shape=() dtype=float32>,\n",
       "  'durloss': <tf.Tensor 'Mean_1:0' shape=() dtype=float32>},\n",
       " <tf.Tensor 'StopGradient:0' shape=(?, ?, ?) dtype=float32>)"
      ]
     },
     "execution_count": 9,
     "metadata": {},
     "output_type": "execute_result"
    }
   ],
   "source": [
    "loss, losses, attn = model.compute_loss(text = i, textlen = i_lengths, mel = mel_outputs, mellen = mel_lengths)\n",
    "loss, losses, attn"
   ]
  },
  {
   "cell_type": "code",
   "execution_count": 10,
   "metadata": {},
   "outputs": [
    {
     "data": {
      "text/plain": [
       "(<tf.Tensor 'model/Reshape_50:0' shape=(?, ?, ?) dtype=float32>,\n",
       " <tf.Tensor 'model/mul_90:0' shape=(?,) dtype=int32>,\n",
       " <tf.Tensor 'model/transpose:0' shape=(?, ?, ?) dtype=float32>)"
      ]
     },
     "execution_count": 10,
     "metadata": {},
     "output_type": "execute_result"
    }
   ],
   "source": [
    "mel, mellen, attn_out = model(inputs = i, lengths = i_lengths)\n",
    "mel, mellen, attn_out"
   ]
  },
  {
   "cell_type": "code",
   "execution_count": 11,
   "metadata": {},
   "outputs": [],
   "source": [
    "parameters = {\n",
    "    'optimizer_params': {'beta1': 0.9, 'beta2': 0.98, 'epsilon': 10e-9},\n",
    "    'lr_policy_params': {\n",
    "        'warmup_steps': 40000,\n",
    "    },\n",
    "}\n",
    "\n",
    "def noam_schedule(step, learning_rate, channels, warmup_steps=4000):\n",
    "    return learning_rate * channels ** -0.5 * \\\n",
    "            tf.minimum(step ** -0.5, step * warmup_steps ** -1.5)\n",
    "\n",
    "def learning_rate_scheduler(global_step):\n",
    "    return transformer_schedule(\n",
    "        tf.cast(global_step, tf.float32),\n",
    "        config.channels,\n",
    "        **parameters['lr_policy_params'],\n",
    "    )"
   ]
  },
  {
   "cell_type": "code",
   "execution_count": 12,
   "metadata": {},
   "outputs": [],
   "source": [
    "optimizer = tf.train.AdamOptimizer(learning_rate = 1e-4, beta1 = 0.9, \n",
    "                                   beta2 = 0.98, epsilon = 1e-9).minimize(loss)"
   ]
  },
  {
   "cell_type": "code",
   "execution_count": 13,
   "metadata": {},
   "outputs": [],
   "source": [
    "sess = tf.InteractiveSession()\n",
    "sess.run(tf.global_variables_initializer())"
   ]
  },
  {
   "cell_type": "code",
   "execution_count": 14,
   "metadata": {},
   "outputs": [
    {
     "name": "stdout",
     "output_type": "stream",
     "text": [
      "CPU times: user 3.61 s, sys: 231 ms, total: 3.84 s\n",
      "Wall time: 3.08 s\n"
     ]
    }
   ],
   "source": [
    "%%time\n",
    "\n",
    "o = sess.run([loss, losses, attn], feed_dict = {i: [data['text_ids'][0],data['text_ids'][0]],\n",
    "                                               i_lengths: [data['len_text_ids'][0,0], data['len_text_ids'][0,0]],\n",
    "                                               mel_outputs: [data['mel'].astype(np.float32)[0],data['mel'].astype(np.float32)[0]],\n",
    "                                               mel_lengths: [408, 408]})"
   ]
  },
  {
   "cell_type": "code",
   "execution_count": 15,
   "metadata": {
    "scrolled": true
   },
   "outputs": [
    {
     "name": "stdout",
     "output_type": "stream",
     "text": [
      "0 [1.5699323, {'nll': 1.211306, 'durloss': 0.3586264}, None]\n",
      "1 [1.0083202, {'nll': 0.83189213, 'durloss': 0.17642806}, None]\n",
      "2 [0.7693584, {'nll': 0.61710554, 'durloss': 0.15225288}, None]\n",
      "3 [0.6011621, {'nll': 0.4528559, 'durloss': 0.14830618}, None]\n",
      "4 [0.45718062, {'nll': 0.3213082, 'durloss': 0.13587244}, None]\n",
      "5 [0.44244003, {'nll': 0.19927748, 'durloss': 0.24316257}, None]\n",
      "6 [0.3217426, {'nll': 0.07830867, 'durloss': 0.24343394}, None]\n",
      "7 [0.20398791, {'nll': -0.028031383, 'durloss': 0.23201929}, None]\n",
      "8 [0.14600836, {'nll': -0.100734934, 'durloss': 0.24674329}, None]\n",
      "9 [0.065987825, {'nll': -0.18512481, 'durloss': 0.25111264}, None]\n",
      "10 [-0.01136142, {'nll': -0.2676414, 'durloss': 0.25627998}, None]\n",
      "11 [-0.12761481, {'nll': -0.33790287, 'durloss': 0.21028806}, None]\n",
      "12 [-0.1754086, {'nll': -0.39530578, 'durloss': 0.21989718}, None]\n",
      "13 [-0.1880947, {'nll': -0.44292247, 'durloss': 0.25482777}, None]\n",
      "14 [-0.18436912, {'nll': -0.4722441, 'durloss': 0.287875}, None]\n",
      "15 [-0.27009338, {'nll': -0.5108603, 'durloss': 0.24076694}, None]\n",
      "16 [-0.31046146, {'nll': -0.5428905, 'durloss': 0.23242904}, None]\n",
      "17 [-0.3497827, {'nll': -0.57541025, 'durloss': 0.22562756}, None]\n",
      "18 [-0.37612045, {'nll': -0.61341363, 'durloss': 0.2372932}, None]\n",
      "19 [-0.3732075, {'nll': -0.64388335, 'durloss': 0.27067584}, None]\n",
      "20 [-0.41939065, {'nll': -0.67441154, 'durloss': 0.2550209}, None]\n",
      "21 [-0.46265942, {'nll': -0.71227765, 'durloss': 0.24961822}, None]\n",
      "22 [-0.48589778, {'nll': -0.73570424, 'durloss': 0.24980645}, None]\n",
      "23 [-0.5246762, {'nll': -0.7617756, 'durloss': 0.23709944}, None]\n",
      "24 [-0.5429042, {'nll': -0.7910248, 'durloss': 0.2481206}, None]\n",
      "25 [-0.5468813, {'nll': -0.8100593, 'durloss': 0.263178}, None]\n",
      "26 [-0.569716, {'nll': -0.838251, 'durloss': 0.26853502}, None]\n",
      "27 [-0.6033542, {'nll': -0.860069, 'durloss': 0.25671473}, None]\n",
      "28 [-0.6554296, {'nll': -0.887713, 'durloss': 0.23228343}, None]\n",
      "29 [-0.6894001, {'nll': -0.91193825, 'durloss': 0.22253819}, None]\n",
      "30 [-0.6971489, {'nll': -0.9242863, 'durloss': 0.2271374}, None]\n",
      "31 [-0.7190701, {'nll': -0.95767766, 'durloss': 0.23860757}, None]\n",
      "32 [-0.7347795, {'nll': -0.9744717, 'durloss': 0.23969223}, None]\n",
      "33 [-0.76465964, {'nll': -0.99844944, 'durloss': 0.2337898}, None]\n",
      "34 [-0.80305547, {'nll': -1.020394, 'durloss': 0.21733849}, None]\n",
      "35 [-0.834095, {'nll': -1.0476081, 'durloss': 0.21351314}, None]\n",
      "36 [-0.8581059, {'nll': -1.066557, 'durloss': 0.20845118}, None]\n",
      "37 [-0.87338674, {'nll': -1.0940119, 'durloss': 0.22062516}, None]\n",
      "38 [-0.90402603, {'nll': -1.118541, 'durloss': 0.21451496}, None]\n",
      "39 [-0.93734396, {'nll': -1.1412287, 'durloss': 0.20388472}, None]\n",
      "40 [-0.968707, {'nll': -1.1687949, 'durloss': 0.20008783}, None]\n",
      "41 [-0.98628986, {'nll': -1.1876118, 'durloss': 0.20132197}, None]\n",
      "42 [-1.0110203, {'nll': -1.2100364, 'durloss': 0.19901608}, None]\n",
      "43 [-1.0401504, {'nll': -1.2396958, 'durloss': 0.19954543}, None]\n",
      "44 [-1.044312, {'nll': -1.2461423, 'durloss': 0.20183025}, None]\n",
      "45 [-1.0921137, {'nll': -1.273675, 'durloss': 0.1815612}, None]\n",
      "46 [-1.0631194, {'nll': -1.2622553, 'durloss': 0.19913584}, None]\n",
      "47 [-1.0841702, {'nll': -1.276419, 'durloss': 0.1922488}, None]\n",
      "48 [-1.1255864, {'nll': -1.3191414, 'durloss': 0.193555}, None]\n",
      "49 [-1.1501482, {'nll': -1.3429482, 'durloss': 0.19280006}, None]\n",
      "50 [-1.180013, {'nll': -1.3688227, 'durloss': 0.18880978}, None]\n",
      "51 [-1.2278855, {'nll': -1.408769, 'durloss': 0.18088348}, None]\n",
      "52 [-1.2309221, {'nll': -1.4234891, 'durloss': 0.19256702}, None]\n",
      "53 [-1.2678163, {'nll': -1.4546652, 'durloss': 0.18684888}, None]\n",
      "54 [-1.2918252, {'nll': -1.4770856, 'durloss': 0.18526039}, None]\n",
      "55 [-1.2586102, {'nll': -1.4360967, 'durloss': 0.17748646}, None]\n",
      "56 [-1.2059232, {'nll': -1.45758, 'durloss': 0.25165677}, None]\n",
      "57 [-1.3056536, {'nll': -1.4959372, 'durloss': 0.19028369}, None]\n",
      "58 [-1.2834605, {'nll': -1.4670403, 'durloss': 0.18357979}, None]\n",
      "59 [-1.3382092, {'nll': -1.5160366, 'durloss': 0.17782746}, None]\n",
      "60 [-1.3190056, {'nll': -1.495312, 'durloss': 0.17630641}, None]\n",
      "61 [-1.3836291, {'nll': -1.5679715, 'durloss': 0.18434237}, None]\n",
      "62 [-1.3934547, {'nll': -1.564199, 'durloss': 0.17074431}, None]\n",
      "63 [-1.4176883, {'nll': -1.5978479, 'durloss': 0.1801597}, None]\n",
      "64 [-1.4652716, {'nll': -1.638602, 'durloss': 0.17333047}, None]\n",
      "65 [-1.477961, {'nll': -1.6497793, 'durloss': 0.17181838}, None]\n",
      "66 [-1.4968476, {'nll': -1.6819593, 'durloss': 0.18511161}, None]\n",
      "67 [-1.5201129, {'nll': -1.7043327, 'durloss': 0.18421982}, None]\n",
      "68 [-1.5325193, {'nll': -1.7119548, 'durloss': 0.17943543}, None]\n",
      "69 [-1.3402586, {'nll': -1.612819, 'durloss': 0.2725604}, None]\n",
      "70 [-1.5061263, {'nll': -1.6767508, 'durloss': 0.1706245}, None]\n",
      "71 [-1.5326949, {'nll': -1.6911762, 'durloss': 0.15848121}, None]\n",
      "72 [-1.529845, {'nll': -1.7362192, 'durloss': 0.20637423}, None]\n",
      "73 [-1.5525644, {'nll': -1.7491575, 'durloss': 0.19659321}, None]\n",
      "74 [-1.6169254, {'nll': -1.7889084, 'durloss': 0.17198303}, None]\n",
      "75 [-1.6315327, {'nll': -1.8013725, 'durloss': 0.1698399}, None]\n",
      "76 [-1.4501175, {'nll': -1.6921707, 'durloss': 0.24205324}, None]\n",
      "77 [-1.4711093, {'nll': -1.6098729, 'durloss': 0.13876365}, None]\n",
      "78 [-1.4082212, {'nll': -1.5736734, 'durloss': 0.16545206}, None]\n",
      "79 [-1.41326, {'nll': -1.5973091, 'durloss': 0.18404916}, None]\n",
      "80 [-1.429594, {'nll': -1.6483641, 'durloss': 0.21877001}, None]\n",
      "81 [-1.5049233, {'nll': -1.6951351, 'durloss': 0.19021179}, None]\n",
      "82 [-1.5778546, {'nll': -1.7395655, 'durloss': 0.16171087}, None]\n",
      "83 [-1.6098567, {'nll': -1.7755003, 'durloss': 0.16564357}, None]\n",
      "84 [-1.6165962, {'nll': -1.8053309, 'durloss': 0.1887347}, None]\n",
      "85 [-1.6527115, {'nll': -1.846861, 'durloss': 0.19414946}, None]\n",
      "86 [-1.6668768, {'nll': -1.868776, 'durloss': 0.20189919}, None]\n",
      "87 [-1.7431772, {'nll': -1.9025242, 'durloss': 0.15934707}, None]\n",
      "88 [-1.771548, {'nll': -1.9307603, 'durloss': 0.15921223}, None]\n",
      "89 [-1.7498882, {'nll': -1.910224, 'durloss': 0.16033584}, None]\n",
      "90 [-1.5451399, {'nll': -1.7385719, 'durloss': 0.193432}, None]\n",
      "91 [-1.5242468, {'nll': -1.7591357, 'durloss': 0.23488887}, None]\n",
      "92 [-1.5363572, {'nll': -1.7457044, 'durloss': 0.20934726}, None]\n",
      "93 [-1.5094799, {'nll': -1.7580754, 'durloss': 0.24859552}, None]\n",
      "94 [-1.5171107, {'nll': -1.7837639, 'durloss': 0.26665315}, None]\n",
      "95 [-1.4918157, {'nll': -1.8250576, 'durloss': 0.33324194}, None]\n",
      "96 [-1.6919463, {'nll': -1.852043, 'durloss': 0.16009682}, None]\n",
      "97 [-1.724751, {'nll': -1.8907045, 'durloss': 0.16595356}, None]\n",
      "98 [-1.7598097, {'nll': -1.9290854, 'durloss': 0.16927558}, None]\n",
      "99 [-1.7712153, {'nll': -1.968318, 'durloss': 0.19710262}, None]\n",
      "100 [-1.8118385, {'nll': -1.9934912, 'durloss': 0.18165267}, None]\n",
      "101 [-1.8217916, {'nll': -2.0034752, 'durloss': 0.1816836}, None]\n",
      "102 [-1.6009213, {'nll': -1.7922442, 'durloss': 0.19132292}, None]\n",
      "103 [-1.5029316, {'nll': -1.6788182, 'durloss': 0.17588659}, None]\n",
      "104 [-1.4871573, {'nll': -1.6660082, 'durloss': 0.17885089}, None]\n",
      "105 [-1.5254612, {'nll': -1.7048972, 'durloss': 0.17943597}, None]\n",
      "106 [-1.4932919, {'nll': -1.7289046, 'durloss': 0.23561272}, None]\n",
      "107 [-1.6045507, {'nll': -1.7786604, 'durloss': 0.17410968}, None]\n",
      "108 [-1.6263043, {'nll': -1.8181171, 'durloss': 0.19181286}, None]\n",
      "109 [-1.641008, {'nll': -1.8378831, 'durloss': 0.19687514}, None]\n",
      "110 [-1.6494894, {'nll': -1.8583113, 'durloss': 0.20882186}, None]\n",
      "111 [-1.7432116, {'nll': -1.9147843, 'durloss': 0.17157267}, None]\n",
      "112 [-1.7844855, {'nll': -1.9512402, 'durloss': 0.16675474}, None]\n",
      "113 [-1.7695955, {'nll': -1.9709636, 'durloss': 0.20136811}, None]\n",
      "114 [-1.695793, {'nll': -2.0153592, 'durloss': 0.31956616}, None]\n",
      "115 [-1.8767741, {'nll': -2.0595946, 'durloss': 0.18282062}, None]\n",
      "116 [-1.9178358, {'nll': -2.088211, 'durloss': 0.17037521}, None]\n",
      "117 [-1.9647412, {'nll': -2.1279035, 'durloss': 0.16316223}, None]\n",
      "118 [-1.9889665, {'nll': -2.1613963, 'durloss': 0.17242977}, None]\n",
      "119 [-1.922089, {'nll': -2.103319, 'durloss': 0.18122993}, None]\n",
      "120 [-1.5592434, {'nll': -1.8509241, 'durloss': 0.29168066}, None]\n",
      "121 [-1.7598786, {'nll': -1.9271442, 'durloss': 0.16726552}, None]\n",
      "122 [-1.7484202, {'nll': -1.9099389, 'durloss': 0.16151863}, None]\n",
      "123 [-1.8533033, {'nll': -2.0294623, 'durloss': 0.17615907}, None]\n",
      "124 [-1.7025123, {'nll': -2.0418434, 'durloss': 0.3393311}, None]\n"
     ]
    },
    {
     "name": "stdout",
     "output_type": "stream",
     "text": [
      "125 [-1.7336853, {'nll': -2.034759, 'durloss': 0.30107385}, None]\n",
      "126 [-1.8754997, {'nll': -2.0740469, 'durloss': 0.19854714}, None]\n",
      "127 [-1.9294102, {'nll': -2.106569, 'durloss': 0.17715879}, None]\n",
      "128 [-1.9731785, {'nll': -2.1414785, 'durloss': 0.16830006}, None]\n",
      "129 [-1.9833845, {'nll': -2.1769485, 'durloss': 0.19356406}, None]\n",
      "130 [-2.0406883, {'nll': -2.216874, 'durloss': 0.17618552}, None]\n",
      "131 [-2.0645788, {'nll': -2.2380128, 'durloss': 0.17343391}, None]\n",
      "132 [-2.0677028, {'nll': -2.2737312, 'durloss': 0.2060285}, None]\n",
      "133 [-2.1059246, {'nll': -2.2790854, 'durloss': 0.17316087}, None]\n",
      "134 [-1.8018725, {'nll': -2.0245893, 'durloss': 0.22271675}, None]\n",
      "135 [-1.7318438, {'nll': -1.908966, 'durloss': 0.17712212}, None]\n",
      "136 [-1.7119683, {'nll': -1.8888704, 'durloss': 0.17690201}, None]\n",
      "137 [-1.7705725, {'nll': -1.9880248, 'durloss': 0.21745226}, None]\n",
      "138 [-1.7684288, {'nll': -1.973346, 'durloss': 0.20491718}, None]\n",
      "139 [-1.8546621, {'nll': -2.0881872, 'durloss': 0.23352519}, None]\n",
      "140 [-1.8905463, {'nll': -2.092815, 'durloss': 0.2022686}, None]\n",
      "141 [-1.930803, {'nll': -2.1059508, 'durloss': 0.17514794}, None]\n",
      "142 [-1.939424, {'nll': -2.129595, 'durloss': 0.19017105}, None]\n",
      "143 [-1.951319, {'nll': -2.1628435, 'durloss': 0.2115245}, None]\n",
      "144 [-1.9834242, {'nll': -2.1957698, 'durloss': 0.21234559}, None]\n",
      "145 [-2.0665076, {'nll': -2.2323318, 'durloss': 0.16582423}, None]\n",
      "146 [-2.0943816, {'nll': -2.2599447, 'durloss': 0.16556317}, None]\n",
      "147 [-2.1326163, {'nll': -2.2975187, 'durloss': 0.16490248}, None]\n",
      "148 [-2.145441, {'nll': -2.330204, 'durloss': 0.18476295}, None]\n",
      "149 [-2.1862125, {'nll': -2.3700418, 'durloss': 0.18382925}, None]\n",
      "150 [-2.1896214, {'nll': -2.3610353, 'durloss': 0.17141385}, None]\n",
      "151 [-1.5911005, {'nll': -1.8503118, 'durloss': 0.25921133}, None]\n",
      "152 [-1.2691041, {'nll': -1.392258, 'durloss': 0.12315397}, None]\n",
      "153 [-1.6662683, {'nll': -1.8616693, 'durloss': 0.19540091}, None]\n",
      "154 [-1.5413233, {'nll': -1.75715, 'durloss': 0.21582675}, None]\n",
      "155 [-1.5258404, {'nll': -1.7232103, 'durloss': 0.19736993}, None]\n",
      "156 [-1.5938799, {'nll': -1.7163717, 'durloss': 0.122491665}, None]\n",
      "157 [-1.6016996, {'nll': -1.722537, 'durloss': 0.12083746}, None]\n",
      "158 [-1.6110983, {'nll': -1.7511384, 'durloss': 0.14004013}, None]\n",
      "159 [-1.680743, {'nll': -1.7904196, 'durloss': 0.109676614}, None]\n",
      "160 [-1.720795, {'nll': -1.8245288, 'durloss': 0.10373381}, None]\n",
      "161 [-1.6816237, {'nll': -1.8522384, 'durloss': 0.1706147}, None]\n",
      "162 [-1.7044028, {'nll': -1.8799965, 'durloss': 0.17559369}, None]\n",
      "163 [-1.7254436, {'nll': -1.9104234, 'durloss': 0.18497975}, None]\n",
      "164 [-1.7582012, {'nll': -1.9425887, 'durloss': 0.18438748}, None]\n",
      "165 [-1.7894161, {'nll': -1.9774345, 'durloss': 0.18801843}, None]\n",
      "166 [-1.8313156, {'nll': -2.0150182, 'durloss': 0.18370254}, None]\n",
      "167 [-1.8681207, {'nll': -2.0530336, 'durloss': 0.18491288}, None]\n",
      "168 [-1.9044912, {'nll': -2.0929801, 'durloss': 0.18848898}, None]\n",
      "169 [-1.9199736, {'nll': -2.1383696, 'durloss': 0.2183959}, None]\n",
      "170 [-2.0116737, {'nll': -2.1874747, 'durloss': 0.17580101}, None]\n",
      "171 [-2.0437093, {'nll': -2.2257524, 'durloss': 0.18204315}, None]\n",
      "172 [-2.0966966, {'nll': -2.2714212, 'durloss': 0.1747245}, None]\n",
      "173 [-2.1427937, {'nll': -2.3203127, 'durloss': 0.17751905}, None]\n",
      "174 [-2.1732924, {'nll': -2.352495, 'durloss': 0.17920259}, None]\n",
      "175 [-2.1404762, {'nll': -2.3153996, 'durloss': 0.17492338}, None]\n",
      "176 [-1.6956464, {'nll': -1.9641587, 'durloss': 0.26851228}, None]\n",
      "177 [-1.6214306, {'nll': -1.9269263, 'durloss': 0.30549568}, None]\n",
      "178 [-1.7936485, {'nll': -2.025985, 'durloss': 0.23233655}, None]\n",
      "179 [-1.7923135, {'nll': -2.0168061, 'durloss': 0.22449264}, None]\n",
      "180 [-1.8719709, {'nll': -2.022073, 'durloss': 0.15010217}, None]\n",
      "181 [-1.8825501, {'nll': -2.054427, 'durloss': 0.17187677}, None]\n",
      "182 [-1.9227625, {'nll': -2.0960264, 'durloss': 0.17326392}, None]\n",
      "183 [-1.9300051, {'nll': -2.1283853, 'durloss': 0.19838025}, None]\n",
      "184 [-1.9628756, {'nll': -2.1517873, 'durloss': 0.18891165}, None]\n",
      "185 [-1.9984735, {'nll': -2.1756344, 'durloss': 0.1771609}, None]\n",
      "186 [-2.0406215, {'nll': -2.199239, 'durloss': 0.15861759}, None]\n",
      "187 [-2.0636299, {'nll': -2.235414, 'durloss': 0.17178413}, None]\n",
      "188 [-2.117863, {'nll': -2.2751276, 'durloss': 0.15726466}, None]\n",
      "189 [-2.1319675, {'nll': -2.3042407, 'durloss': 0.17227307}, None]\n",
      "190 [-2.1637664, {'nll': -2.3354158, 'durloss': 0.17164956}, None]\n",
      "191 [-2.1932855, {'nll': -2.3713381, 'durloss': 0.17805277}, None]\n",
      "192 [-2.2448144, {'nll': -2.4094481, 'durloss': 0.16463384}, None]\n",
      "193 [-2.2750401, {'nll': -2.4532309, 'durloss': 0.17819075}, None]\n",
      "194 [-2.3183916, {'nll': -2.491204, 'durloss': 0.17281245}, None]\n",
      "195 [-2.3380933, {'nll': -2.5066442, 'durloss': 0.16855091}, None]\n",
      "196 [-1.9976137, {'nll': -2.2054935, 'durloss': 0.20787983}, None]\n",
      "197 [-1.273628, {'nll': -1.4513991, 'durloss': 0.17777105}, None]\n",
      "198 [-1.6311009, {'nll': -1.825814, 'durloss': 0.19471307}, None]\n",
      "199 [-1.4056113, {'nll': -1.6438297, 'durloss': 0.23821846}, None]\n"
     ]
    }
   ],
   "source": [
    "for k in range(200):\n",
    "    o = sess.run([loss, losses, optimizer], feed_dict = {i: [data['text_ids'][0],data['text_ids'][0]],\n",
    "                                               i_lengths: [data['len_text_ids'][0,0], data['len_text_ids'][0,0]],\n",
    "                                               mel_outputs: [data['mel'].astype(np.float32)[0],data['mel'].astype(np.float32)[0]],\n",
    "                                               mel_lengths: [408, 408]})\n",
    "    print(k, o)"
   ]
  },
  {
   "cell_type": "code",
   "execution_count": 16,
   "metadata": {},
   "outputs": [
    {
     "name": "stdout",
     "output_type": "stream",
     "text": [
      "CPU times: user 734 ms, sys: 156 ms, total: 890 ms\n",
      "Wall time: 188 ms\n"
     ]
    }
   ],
   "source": [
    "%%time\n",
    "\n",
    "o = sess.run([loss, losses, attn], feed_dict = {i: [data['text_ids'][0],data['text_ids'][0]],\n",
    "                                               i_lengths: [data['len_text_ids'][0,0], data['len_text_ids'][0,0]],\n",
    "                                               mel_outputs: [data['mel'].astype(np.float32)[0],data['mel'].astype(np.float32)[0]],\n",
    "                                               mel_lengths: [408, 408]})"
   ]
  },
  {
   "cell_type": "code",
   "execution_count": 17,
   "metadata": {},
   "outputs": [],
   "source": [
    "o = sess.run([mel, mellen, attn_out], feed_dict = {i: [data['text_ids'][0],data['text_ids'][0]],\n",
    "                                               i_lengths: [data['len_text_ids'][0,0], data['len_text_ids'][0,0]],\n",
    "                                        mel_outputs: [data['mel'].astype(np.float32)[0],data['mel'].astype(np.float32)[0]],\n",
    "                                               mel_lengths: [408, 408]})"
   ]
  },
  {
   "cell_type": "code",
   "execution_count": 18,
   "metadata": {},
   "outputs": [
    {
     "data": {
      "image/png": "[encoded data removed]",
      "text/plain": [
       "<Figure size 720x576 with 2 Axes>"
      ]
     },
     "metadata": {
      "needs_background": "light"
     },
     "output_type": "display_data"
    }
   ],
   "source": [
    "mel_outputs_ = np.reshape(o[0][0], [-1, 80])\n",
    "fig = plt.figure(figsize=(10, 8))\n",
    "ax1 = fig.add_subplot(311)\n",
    "ax1.set_title(f'Predicted Mel-before-Spectrogram')\n",
    "im = ax1.imshow(np.rot90(mel_outputs_), aspect='auto', interpolation='none')\n",
    "fig.colorbar(mappable=im, shrink=0.65, orientation='horizontal', ax=ax1)\n",
    "plt.show()"
   ]
  },
  {
   "cell_type": "code",
   "execution_count": 19,
   "metadata": {},
   "outputs": [
    {
     "data": {
      "image/png": "[encoded data removed]",
      "text/plain": [
       "<Figure size 576x432 with 2 Axes>"
      ]
     },
     "metadata": {
      "needs_background": "light"
     },
     "output_type": "display_data"
    }
   ],
   "source": [
    "fig = plt.figure(figsize=(8, 6))\n",
    "ax = fig.add_subplot(111)\n",
    "ax.set_title('Alignment steps')\n",
    "im = ax.imshow(\n",
    "    o[-1][0],\n",
    "    aspect='auto',\n",
    "    origin='lower',\n",
    "    interpolation='none')\n",
    "fig.colorbar(im, ax=ax)\n",
    "xlabel = 'Decoder timestep'\n",
    "plt.xlabel(xlabel)\n",
    "plt.ylabel('Encoder timestep')\n",
    "plt.tight_layout()\n",
    "plt.show()"
   ]
  },
  {
   "cell_type": "code",
   "execution_count": 20,
   "metadata": {},
   "outputs": [
    {
     "data": {
      "text/plain": [
       "'test/model.ckpt'"
      ]
     },
     "execution_count": 20,
     "metadata": {},
     "output_type": "execute_result"
    }
   ],
   "source": [
    "saver = tf.train.Saver()\n",
    "saver.save(sess, 'test/model.ckpt')"
   ]
  },
  {
   "cell_type": "code",
   "execution_count": 21,
   "metadata": {},
   "outputs": [
    {
     "name": "stdout",
     "output_type": "stream",
     "text": [
      "total 714544\r\n",
      "-rw-r--r--  1 huseinzolkepli  staff    77B Oct  9 23:40 checkpoint\r\n",
      "-rw-r--r--  1 huseinzolkepli  staff   304M Oct  9 23:40 model.ckpt.data-00000-of-00001\r\n",
      "-rw-r--r--  1 huseinzolkepli  staff    83K Oct  9 23:40 model.ckpt.index\r\n",
      "-rw-r--r--  1 huseinzolkepli  staff    30M Oct  9 23:40 model.ckpt.meta\r\n"
     ]
    }
   ],
   "source": [
    "!ls -lh test"
   ]
  }
 ],
 "metadata": {
  "kernelspec": {
   "display_name": "Python 3",
   "language": "python",
   "name": "python3"
  },
  "language_info": {
   "codemirror_mode": {
    "name": "ipython",
    "version": 3
   },
   "file_extension": ".py",
   "mimetype": "text/x-python",
   "name": "python",
   "nbconvert_exporter": "python",
   "pygments_lexer": "ipython3",
   "version": "3.7.7"
  }
 },
 "nbformat": 4,
 "nbformat_minor": 4
}

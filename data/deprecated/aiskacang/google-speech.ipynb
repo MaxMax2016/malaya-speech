{
 "cells": [
  {
   "cell_type": "code",
   "execution_count": 1,
   "metadata": {},
   "outputs": [],
   "source": [
    "# !pip3 install pydub\n",
    "# !pip3 install SpeechRecognition"
   ]
  },
  {
   "cell_type": "code",
   "execution_count": 2,
   "metadata": {},
   "outputs": [],
   "source": [
    "from pydub import AudioSegment\n",
    "from pydub.silence import split_on_silence, detect_nonsilent\n",
    "import os"
   ]
  },
  {
   "cell_type": "code",
   "execution_count": 3,
   "metadata": {},
   "outputs": [],
   "source": [
    "import speech_recognition as sr\n",
    "import os\n",
    "import uuid\n",
    "\n",
    "r = sr.Recognizer()"
   ]
  },
  {
   "cell_type": "code",
   "execution_count": 4,
   "metadata": {},
   "outputs": [],
   "source": [
    "def audiosegment_google_speech(audio, filename):\n",
    "    if os.path.exists('output-wav/' + filename):\n",
    "        return False\n",
    "    \n",
    "    audio.export(filename, format=\"wav\")\n",
    "    try:\n",
    "        with sr.AudioFile(filename) as source:\n",
    "            audio = r.record(source)\n",
    "\n",
    "        text = r.recognize_google(audio,language=\"ms\")\n",
    "    except:\n",
    "        text = ''\n",
    "        \n",
    "    if len(text):\n",
    "        text_filename = f'output-text/{filename}.txt'\n",
    "        with open(text_filename, 'w') as fopen:\n",
    "            fopen.write(text)\n",
    "            \n",
    "        os.replace(filename, 'output-wav/' + filename)\n",
    "        \n",
    "    else:\n",
    "        os.remove(filename)\n",
    "    \n",
    "    return True"
   ]
  },
  {
   "cell_type": "code",
   "execution_count": 5,
   "metadata": {},
   "outputs": [],
   "source": [
    "def split(file, min_silence_len=50, silence_thresh=-20, max_len = 10, keep_silence = 500):\n",
    "    audio = AudioSegment.from_mp3(file)\n",
    "    audio_chunks = split_on_silence(audio, min_silence_len=min_silence_len, silence_thresh=silence_thresh,\n",
    "                                   keep_silence = keep_silence)\n",
    "    \n",
    "    audios, temp, length = [], [], 0\n",
    "    for i in range(len(audio_chunks)):\n",
    "        if length + audio_chunks[i].duration_seconds >= max_len and len(temp):\n",
    "            audios.append(sum(temp))\n",
    "            temp = []\n",
    "            length = 0\n",
    "        temp.append(audio_chunks[i])\n",
    "        length += audio_chunks[i].duration_seconds\n",
    "\n",
    "    if len(temp):\n",
    "        audios.append(sum(temp))\n",
    "        \n",
    "    return audios, audio"
   ]
  },
  {
   "cell_type": "code",
   "execution_count": 6,
   "metadata": {},
   "outputs": [],
   "source": [
    "# !mkdir output-wav\n",
    "# !mkdir output-text"
   ]
  },
  {
   "cell_type": "code",
   "execution_count": 7,
   "metadata": {},
   "outputs": [],
   "source": [
    "from boto3 import client\n",
    "\n",
    "conn = client('s3')\n",
    "contents = conn.list_objects(Bucket='huseinhouse-storage',Prefix='speech/')['Contents']\n",
    "contents = [f for f in contents if '.mp3' in f['Key']]\n",
    "contents = sorted(contents, key=lambda k: k['Size']) "
   ]
  },
  {
   "cell_type": "code",
   "execution_count": 9,
   "metadata": {
    "scrolled": true
   },
   "outputs": [
    {
     "name": "stderr",
     "output_type": "stream",
     "text": [
      "\r",
      "  0%|          | 0/41 [00:00<?, ?it/s]"
     ]
    },
    {
     "name": "stdout",
     "output_type": "stream",
     "text": [
      "HM_27_Feb_2019.mp3 speech/HM_27_Feb_2019.mp3 https://huseinhouse-storage.s3-ap-southeast-1.amazonaws.com/speech/HM_27_Feb_2019.mp3 41\n"
     ]
    },
    {
     "name": "stderr",
     "output_type": "stream",
     "text": [
      "100%|██████████| 41/41 [01:12<00:00,  1.78s/it]\n",
      "  0%|          | 0/43 [00:00<?, ?it/s]"
     ]
    },
    {
     "name": "stdout",
     "output_type": "stream",
     "text": [
      "SH1_18_Feb_2019.mp3 speech/SH1_18_Feb_2019.mp3 https://huseinhouse-storage.s3-ap-southeast-1.amazonaws.com/speech/SH1_18_Feb_2019.mp3 43\n"
     ]
    },
    {
     "name": "stderr",
     "output_type": "stream",
     "text": [
      "100%|██████████| 43/43 [01:16<00:00,  1.79s/it]\n",
      "  0%|          | 0/50 [00:00<?, ?it/s]"
     ]
    },
    {
     "name": "stdout",
     "output_type": "stream",
     "text": [
      "Paranormal--Episode-17---Serik-1--Rumah-Pawang-bernam.mp3 speech/Paranormal%20%20Episode%2017%20-%20Serik%201%20%20Rumah%20Pawang%20bernam.mp3 https://huseinhouse-storage.s3-ap-southeast-1.amazonaws.com/speech/Paranormal%2520%2520Episode%252017%2520-%2520Serik%25201%2520%2520Rumah%2520Pawang%2520bernam.mp3 50\n"
     ]
    },
    {
     "name": "stderr",
     "output_type": "stream",
     "text": [
      "100%|██████████| 50/50 [01:15<00:00,  1.52s/it]\n",
      "  0%|          | 0/43 [00:00<?, ?it/s]"
     ]
    },
    {
     "name": "stdout",
     "output_type": "stream",
     "text": [
      "HM_15_Jun_2019.mp3 speech/HM_15_Jun_2019.mp3 https://huseinhouse-storage.s3-ap-southeast-1.amazonaws.com/speech/HM_15_Jun_2019.mp3 43\n"
     ]
    },
    {
     "name": "stderr",
     "output_type": "stream",
     "text": [
      "100%|██████████| 43/43 [01:14<00:00,  1.73s/it]\n",
      "  0%|          | 0/43 [00:00<?, ?it/s]"
     ]
    },
    {
     "name": "stdout",
     "output_type": "stream",
     "text": [
      "HM_1_Mar_2019.mp3 speech/HM_1_Mar_2019.mp3 https://huseinhouse-storage.s3-ap-southeast-1.amazonaws.com/speech/HM_1_Mar_2019.mp3 43\n"
     ]
    },
    {
     "name": "stderr",
     "output_type": "stream",
     "text": [
      "100%|██████████| 43/43 [01:19<00:00,  1.85s/it]\n",
      "  0%|          | 0/43 [00:00<?, ?it/s]"
     ]
    },
    {
     "name": "stdout",
     "output_type": "stream",
     "text": [
      "MW6_V2_Mar_2019.mp3 speech/MW6_V2_Mar_2019.mp3 https://huseinhouse-storage.s3-ap-southeast-1.amazonaws.com/speech/MW6_V2_Mar_2019.mp3 43\n"
     ]
    },
    {
     "name": "stderr",
     "output_type": "stream",
     "text": [
      "100%|██████████| 43/43 [01:21<00:00,  1.89s/it]\n",
      "  0%|          | 0/44 [00:00<?, ?it/s]"
     ]
    },
    {
     "name": "stdout",
     "output_type": "stream",
     "text": [
      "MW8_V2_Apr_2019.mp3 speech/MW8_V2_Apr_2019.mp3 https://huseinhouse-storage.s3-ap-southeast-1.amazonaws.com/speech/MW8_V2_Apr_2019.mp3 44\n"
     ]
    },
    {
     "name": "stderr",
     "output_type": "stream",
     "text": [
      "100%|██████████| 44/44 [01:14<00:00,  1.70s/it]\n",
      "  0%|          | 0/51 [00:00<?, ?it/s]"
     ]
    },
    {
     "name": "stdout",
     "output_type": "stream",
     "text": [
      "Tahu-Nak-Makan-Je--Episode-29---Kari-Kambing-Kashmir-.mp3 speech/Tahu%20Nak%20Makan%20Je%20%20Episode%2029%20-%20Kari%20Kambing%20Kashmir%20.mp3 https://huseinhouse-storage.s3-ap-southeast-1.amazonaws.com/speech/Tahu%2520Nak%2520Makan%2520Je%2520%2520Episode%252029%2520-%2520Kari%2520Kambing%2520Kashmir%2520.mp3 51\n"
     ]
    },
    {
     "name": "stderr",
     "output_type": "stream",
     "text": [
      "100%|██████████| 51/51 [01:18<00:00,  1.54s/it]\n",
      "  0%|          | 0/52 [00:00<?, ?it/s]"
     ]
    },
    {
     "name": "stdout",
     "output_type": "stream",
     "text": [
      "Tahu-Nak-Makan-Je--Episode-23---Ayam-Percik-.mp3 speech/Tahu%20Nak%20Makan%20Je%20%20Episode%2023%20-%20Ayam%20Percik%20.mp3 https://huseinhouse-storage.s3-ap-southeast-1.amazonaws.com/speech/Tahu%2520Nak%2520Makan%2520Je%2520%2520Episode%252023%2520-%2520Ayam%2520Percik%2520.mp3 52\n"
     ]
    },
    {
     "name": "stderr",
     "output_type": "stream",
     "text": [
      "100%|██████████| 52/52 [01:09<00:00,  1.34s/it]\n",
      "  0%|          | 0/54 [00:00<?, ?it/s]"
     ]
    },
    {
     "name": "stdout",
     "output_type": "stream",
     "text": [
      "Paranormal--Episode-18---Serik-2--Rumah-beradik-berdarah.mp3 speech/Paranormal%20%20Episode%2018%20-%20Serik%202%20%20Rumah%20beradik%20berdarah.mp3 https://huseinhouse-storage.s3-ap-southeast-1.amazonaws.com/speech/Paranormal%2520%2520Episode%252018%2520-%2520Serik%25202%2520%2520Rumah%2520beradik%2520berdarah.mp3 54\n"
     ]
    },
    {
     "name": "stderr",
     "output_type": "stream",
     "text": [
      "100%|██████████| 54/54 [01:33<00:00,  1.73s/it]\n",
      "  0%|          | 0/53 [00:00<?, ?it/s]"
     ]
    },
    {
     "name": "stdout",
     "output_type": "stream",
     "text": [
      "Tahu-Nak-Makan-Je--Episode-22---Mee-Jawa-.mp3 speech/Tahu%20Nak%20Makan%20Je%20%20Episode%2022%20-%20Mee%20Jawa%20.mp3 https://huseinhouse-storage.s3-ap-southeast-1.amazonaws.com/speech/Tahu%2520Nak%2520Makan%2520Je%2520%2520Episode%252022%2520-%2520Mee%2520Jawa%2520.mp3 53\n"
     ]
    },
    {
     "name": "stderr",
     "output_type": "stream",
     "text": [
      "100%|██████████| 53/53 [01:08<00:00,  1.29s/it]\n",
      "  0%|          | 0/54 [00:00<?, ?it/s]"
     ]
    },
    {
     "name": "stdout",
     "output_type": "stream",
     "text": [
      "bfe17aba-6ed2-455a-814e-115956b79b35.mp3 speech/bfe17aba-6ed2-455a-814e-115956b79b35.mp3 https://huseinhouse-storage.s3-ap-southeast-1.amazonaws.com/speech/bfe17aba-6ed2-455a-814e-115956b79b35.mp3 54\n"
     ]
    },
    {
     "name": "stderr",
     "output_type": "stream",
     "text": [
      "100%|██████████| 54/54 [01:19<00:00,  1.48s/it]\n",
      "  0%|          | 0/54 [00:00<?, ?it/s]"
     ]
    },
    {
     "name": "stdout",
     "output_type": "stream",
     "text": [
      "Paranormal--Episode-26---Rumah-Bomoh-Siam-Part-1.mp3 speech/Paranormal%20%20Episode%2026%20-%20Rumah%20Bomoh%20Siam%20Part%201.mp3 https://huseinhouse-storage.s3-ap-southeast-1.amazonaws.com/speech/Paranormal%2520%2520Episode%252026%2520-%2520Rumah%2520Bomoh%2520Siam%2520Part%25201.mp3 54\n"
     ]
    },
    {
     "name": "stderr",
     "output_type": "stream",
     "text": [
      "100%|██████████| 54/54 [02:27<00:00,  2.74s/it]\n",
      "  0%|          | 0/20 [00:00<?, ?it/s]"
     ]
    },
    {
     "name": "stdout",
     "output_type": "stream",
     "text": [
      "Cinta-Biasa-Ep4.mp3 speech/Cinta%20Biasa%20Ep4.mp3 https://huseinhouse-storage.s3-ap-southeast-1.amazonaws.com/speech/Cinta%2520Biasa%2520Ep4.mp3 20\n"
     ]
    },
    {
     "name": "stderr",
     "output_type": "stream",
     "text": [
      "100%|██████████| 20/20 [00:30<00:00,  1.51s/it]\n",
      "  0%|          | 0/56 [00:00<?, ?it/s]"
     ]
    },
    {
     "name": "stdout",
     "output_type": "stream",
     "text": [
      "Tahu-Nak-Makan-Je--Episode-24---Murtabak-Daging_Ayam-.mp3 speech/Tahu%20Nak%20Makan%20Je%20%20Episode%2024%20-%20Murtabak%20Daging_Ayam%20.mp3 https://huseinhouse-storage.s3-ap-southeast-1.amazonaws.com/speech/Tahu%2520Nak%2520Makan%2520Je%2520%2520Episode%252024%2520-%2520Murtabak%2520Daging_Ayam%2520.mp3 56\n"
     ]
    },
    {
     "name": "stderr",
     "output_type": "stream",
     "text": [
      "100%|██████████| 56/56 [01:17<00:00,  1.39s/it]\n",
      "  0%|          | 0/21 [00:00<?, ?it/s]"
     ]
    },
    {
     "name": "stdout",
     "output_type": "stream",
     "text": [
      "Cinta-Biasa-Ep-3.mp3 speech/Cinta%20Biasa%20Ep%203.mp3 https://huseinhouse-storage.s3-ap-southeast-1.amazonaws.com/speech/Cinta%2520Biasa%2520Ep%25203.mp3 21\n"
     ]
    },
    {
     "name": "stderr",
     "output_type": "stream",
     "text": [
      "100%|██████████| 21/21 [00:39<00:00,  1.89s/it]\n",
      "  0%|          | 0/56 [00:00<?, ?it/s]"
     ]
    },
    {
     "name": "stdout",
     "output_type": "stream",
     "text": [
      "b4068b48-2fbf-4fdc-9f21-d363da63d885.mp3 speech/b4068b48-2fbf-4fdc-9f21-d363da63d885.mp3 https://huseinhouse-storage.s3-ap-southeast-1.amazonaws.com/speech/b4068b48-2fbf-4fdc-9f21-d363da63d885.mp3 56\n"
     ]
    },
    {
     "name": "stderr",
     "output_type": "stream",
     "text": [
      "100%|██████████| 56/56 [01:26<00:00,  1.54s/it]\n",
      "  0%|          | 0/56 [00:00<?, ?it/s]"
     ]
    },
    {
     "name": "stdout",
     "output_type": "stream",
     "text": [
      "cefd2a94-b62f-42cc-9eb3-c8cc15831065.mp3 speech/cefd2a94-b62f-42cc-9eb3-c8cc15831065.mp3 https://huseinhouse-storage.s3-ap-southeast-1.amazonaws.com/speech/cefd2a94-b62f-42cc-9eb3-c8cc15831065.mp3 56\n"
     ]
    },
    {
     "name": "stderr",
     "output_type": "stream",
     "text": [
      "100%|██████████| 56/56 [01:20<00:00,  1.44s/it]\n",
      "  0%|          | 0/49 [00:00<?, ?it/s]"
     ]
    },
    {
     "name": "stdout",
     "output_type": "stream",
     "text": [
      "MW6_V1_Apr_2019.mp3 speech/MW6_V1_Apr_2019.mp3 https://huseinhouse-storage.s3-ap-southeast-1.amazonaws.com/speech/MW6_V1_Apr_2019.mp3 49\n"
     ]
    },
    {
     "name": "stderr",
     "output_type": "stream",
     "text": [
      "100%|██████████| 49/49 [01:18<00:00,  1.61s/it]\n",
      "  0%|          | 0/57 [00:00<?, ?it/s]"
     ]
    },
    {
     "name": "stdout",
     "output_type": "stream",
     "text": [
      "Tahu-Nak-Makan-Je--Episode-20---Mee-rebus-.mp3 speech/Tahu%20Nak%20Makan%20Je%20%20Episode%2020%20-%20Mee%20rebus%20.mp3 https://huseinhouse-storage.s3-ap-southeast-1.amazonaws.com/speech/Tahu%2520Nak%2520Makan%2520Je%2520%2520Episode%252020%2520-%2520Mee%2520rebus%2520.mp3 57\n"
     ]
    },
    {
     "name": "stderr",
     "output_type": "stream",
     "text": [
      "100%|██████████| 57/57 [01:21<00:00,  1.43s/it]\n",
      "  0%|          | 0/57 [00:00<?, ?it/s]"
     ]
    },
    {
     "name": "stdout",
     "output_type": "stream",
     "text": [
      "15f04857-88ff-4f72-91af-b7b4de3d943b.mp3 speech/15f04857-88ff-4f72-91af-b7b4de3d943b.mp3 https://huseinhouse-storage.s3-ap-southeast-1.amazonaws.com/speech/15f04857-88ff-4f72-91af-b7b4de3d943b.mp3 57\n"
     ]
    },
    {
     "name": "stderr",
     "output_type": "stream",
     "text": [
      "100%|██████████| 57/57 [01:19<00:00,  1.40s/it]\n",
      "  0%|          | 0/21 [00:00<?, ?it/s]"
     ]
    },
    {
     "name": "stdout",
     "output_type": "stream",
     "text": [
      "Cinta-Biasa-Ep-7.mp3 speech/Cinta%20Biasa%20Ep%207.mp3 https://huseinhouse-storage.s3-ap-southeast-1.amazonaws.com/speech/Cinta%2520Biasa%2520Ep%25207.mp3 21\n"
     ]
    },
    {
     "name": "stderr",
     "output_type": "stream",
     "text": [
      "100%|██████████| 21/21 [00:32<00:00,  1.57s/it]\n",
      "  0%|          | 0/57 [00:00<?, ?it/s]"
     ]
    },
    {
     "name": "stdout",
     "output_type": "stream",
     "text": [
      "09eae451-8611-4d28-a3b4-ef14003cf668.mp3 speech/09eae451-8611-4d28-a3b4-ef14003cf668.mp3 https://huseinhouse-storage.s3-ap-southeast-1.amazonaws.com/speech/09eae451-8611-4d28-a3b4-ef14003cf668.mp3 57\n"
     ]
    },
    {
     "name": "stderr",
     "output_type": "stream",
     "text": [
      "100%|██████████| 57/57 [01:56<00:00,  2.05s/it]\n",
      "  0%|          | 0/50 [00:00<?, ?it/s]"
     ]
    },
    {
     "name": "stdout",
     "output_type": "stream",
     "text": [
      "MW3_V1_Apr_2019.mp3 speech/MW3_V1_Apr_2019.mp3 https://huseinhouse-storage.s3-ap-southeast-1.amazonaws.com/speech/MW3_V1_Apr_2019.mp3 50\n"
     ]
    },
    {
     "name": "stderr",
     "output_type": "stream",
     "text": [
      "100%|██████████| 50/50 [01:18<00:00,  1.56s/it]\n",
      "  0%|          | 0/51 [00:00<?, ?it/s]"
     ]
    },
    {
     "name": "stdout",
     "output_type": "stream",
     "text": [
      "MW9_V1_Apr_2019.mp3 speech/MW9_V1_Apr_2019.mp3 https://huseinhouse-storage.s3-ap-southeast-1.amazonaws.com/speech/MW9_V1_Apr_2019.mp3 51\n"
     ]
    },
    {
     "name": "stderr",
     "output_type": "stream",
     "text": [
      "100%|██████████| 51/51 [01:24<00:00,  1.66s/it]\n",
      "  0%|          | 0/12 [00:00<?, ?it/s]"
     ]
    },
    {
     "name": "stdout",
     "output_type": "stream",
     "text": [
      "2019-02-08T00_16_12-08_00.mp3 speech/2019-02-08T00_16_12-08_00.mp3 https://huseinhouse-storage.s3-ap-southeast-1.amazonaws.com/speech/2019-02-08T00_16_12-08_00.mp3 12\n"
     ]
    },
    {
     "name": "stderr",
     "output_type": "stream",
     "text": [
      "100%|██████████| 12/12 [00:25<00:00,  2.15s/it]\n",
      "  0%|          | 0/59 [00:00<?, ?it/s]"
     ]
    },
    {
     "name": "stdout",
     "output_type": "stream",
     "text": [
      "Tahu-Nak-Makan-Je--Episode-30---Daging-Dendeng-.mp3 speech/Tahu%20Nak%20Makan%20Je%20%20Episode%2030%20-%20Daging%20Dendeng%20.mp3 https://huseinhouse-storage.s3-ap-southeast-1.amazonaws.com/speech/Tahu%2520Nak%2520Makan%2520Je%2520%2520Episode%252030%2520-%2520Daging%2520Dendeng%2520.mp3 59\n"
     ]
    },
    {
     "name": "stderr",
     "output_type": "stream",
     "text": [
      "100%|██████████| 59/59 [01:28<00:00,  1.49s/it]\n",
      "  0%|          | 0/51 [00:00<?, ?it/s]"
     ]
    },
    {
     "name": "stdout",
     "output_type": "stream",
     "text": [
      "DCCK_17_Feb_2019.mp3 speech/DCCK_17_Feb_2019.mp3 https://huseinhouse-storage.s3-ap-southeast-1.amazonaws.com/speech/DCCK_17_Feb_2019.mp3 51\n"
     ]
    },
    {
     "name": "stderr",
     "output_type": "stream",
     "text": [
      "100%|██████████| 51/51 [01:15<00:00,  1.49s/it]\n",
      "  0%|          | 0/58 [00:00<?, ?it/s]"
     ]
    },
    {
     "name": "stdout",
     "output_type": "stream",
     "text": [
      "0b44e3d3-a9f2-4123-99c8-fe6e2cd0b2e2.mp3 speech/0b44e3d3-a9f2-4123-99c8-fe6e2cd0b2e2.mp3 https://huseinhouse-storage.s3-ap-southeast-1.amazonaws.com/speech/0b44e3d3-a9f2-4123-99c8-fe6e2cd0b2e2.mp3 58\n"
     ]
    },
    {
     "name": "stderr",
     "output_type": "stream",
     "text": [
      "100%|██████████| 58/58 [02:04<00:00,  2.15s/it]\n",
      "  0%|          | 0/60 [00:00<?, ?it/s]"
     ]
    },
    {
     "name": "stdout",
     "output_type": "stream",
     "text": [
      "Tahu-Nak-Makan-Je--Episode-18---Ayam-Kurma.mp3 speech/Tahu%20Nak%20Makan%20Je%20%20Episode%2018%20-%20Ayam%20Kurma.mp3 https://huseinhouse-storage.s3-ap-southeast-1.amazonaws.com/speech/Tahu%2520Nak%2520Makan%2520Je%2520%2520Episode%252018%2520-%2520Ayam%2520Kurma.mp3 60\n"
     ]
    },
    {
     "name": "stderr",
     "output_type": "stream",
     "text": [
      "100%|██████████| 60/60 [01:34<00:00,  1.58s/it]\n",
      "  0%|          | 0/60 [00:00<?, ?it/s]"
     ]
    },
    {
     "name": "stdout",
     "output_type": "stream",
     "text": [
      "a595dd63-938f-446e-b3cb-ad5e8dcebe64.mp3 speech/a595dd63-938f-446e-b3cb-ad5e8dcebe64.mp3 https://huseinhouse-storage.s3-ap-southeast-1.amazonaws.com/speech/a595dd63-938f-446e-b3cb-ad5e8dcebe64.mp3 60\n"
     ]
    },
    {
     "name": "stderr",
     "output_type": "stream",
     "text": [
      "100%|██████████| 60/60 [01:34<00:00,  1.57s/it]\n",
      "  0%|          | 0/60 [00:00<?, ?it/s]"
     ]
    },
    {
     "name": "stdout",
     "output_type": "stream",
     "text": [
      "c65aa14b-737a-44d8-9aa2-f44e7d6fff7e.mp3 speech/c65aa14b-737a-44d8-9aa2-f44e7d6fff7e.mp3 https://huseinhouse-storage.s3-ap-southeast-1.amazonaws.com/speech/c65aa14b-737a-44d8-9aa2-f44e7d6fff7e.mp3 60\n"
     ]
    },
    {
     "name": "stderr",
     "output_type": "stream",
     "text": [
      "100%|██████████| 60/60 [02:04<00:00,  2.08s/it]\n",
      "  0%|          | 0/60 [00:00<?, ?it/s]"
     ]
    },
    {
     "name": "stdout",
     "output_type": "stream",
     "text": [
      "5991a55d-76cf-40d1-a026-2700fb35edc9.mp3 speech/5991a55d-76cf-40d1-a026-2700fb35edc9.mp3 https://huseinhouse-storage.s3-ap-southeast-1.amazonaws.com/speech/5991a55d-76cf-40d1-a026-2700fb35edc9.mp3 60\n"
     ]
    },
    {
     "name": "stderr",
     "output_type": "stream",
     "text": [
      "100%|██████████| 60/60 [01:27<00:00,  1.45s/it]\n",
      "  0%|          | 0/60 [00:00<?, ?it/s]"
     ]
    },
    {
     "name": "stdout",
     "output_type": "stream",
     "text": [
      "c2f08a70-3b8a-414e-acfb-c65dbf001d39.mp3 speech/c2f08a70-3b8a-414e-acfb-c65dbf001d39.mp3 https://huseinhouse-storage.s3-ap-southeast-1.amazonaws.com/speech/c2f08a70-3b8a-414e-acfb-c65dbf001d39.mp3 60\n"
     ]
    },
    {
     "name": "stderr",
     "output_type": "stream",
     "text": [
      "100%|██████████| 60/60 [01:31<00:00,  1.52s/it]\n",
      "  0%|          | 0/61 [00:00<?, ?it/s]"
     ]
    },
    {
     "name": "stdout",
     "output_type": "stream",
     "text": [
      "Paranormal--Episode-24---Misteri-Rumah-Siam-Part-1.mp3 speech/Paranormal%20%20Episode%2024%20-%20Misteri%20Rumah%20Siam%20Part%201.mp3 https://huseinhouse-storage.s3-ap-southeast-1.amazonaws.com/speech/Paranormal%2520%2520Episode%252024%2520-%2520Misteri%2520Rumah%2520Siam%2520Part%25201.mp3 61\n"
     ]
    },
    {
     "name": "stderr",
     "output_type": "stream",
     "text": [
      "100%|██████████| 61/61 [02:20<00:00,  2.30s/it]\n",
      "  0%|          | 0/60 [00:00<?, ?it/s]"
     ]
    },
    {
     "name": "stdout",
     "output_type": "stream",
     "text": [
      "Tahu-Nak-Makan-Je--Episode-19---Sate-dan-Kuah-Sate-.mp3 speech/Tahu%20Nak%20Makan%20Je%20%20Episode%2019%20-%20Sate%20dan%20Kuah%20Sate%20.mp3 https://huseinhouse-storage.s3-ap-southeast-1.amazonaws.com/speech/Tahu%2520Nak%2520Makan%2520Je%2520%2520Episode%252019%2520-%2520Sate%2520dan%2520Kuah%2520Sate%2520.mp3 60\n"
     ]
    },
    {
     "name": "stderr",
     "output_type": "stream",
     "text": [
      "100%|██████████| 60/60 [01:34<00:00,  1.58s/it]\n",
      "  0%|          | 0/54 [00:00<?, ?it/s]"
     ]
    },
    {
     "name": "stdout",
     "output_type": "stream",
     "text": [
      "DCCK_10_Feb_2019.mp3 speech/DCCK_10_Feb_2019.mp3 https://huseinhouse-storage.s3-ap-southeast-1.amazonaws.com/speech/DCCK_10_Feb_2019.mp3 54\n"
     ]
    },
    {
     "name": "stderr",
     "output_type": "stream",
     "text": [
      "100%|██████████| 54/54 [01:24<00:00,  1.57s/it]\n",
      "  0%|          | 0/62 [00:00<?, ?it/s]"
     ]
    },
    {
     "name": "stdout",
     "output_type": "stream",
     "text": [
      "Paranormal--Episode-11---Impak-dan-implikasi-Part-1-.mp3 speech/Paranormal%20%20Episode%2011%20-%20Impak%20dan%20implikasi%20Part%201%20.mp3 https://huseinhouse-storage.s3-ap-southeast-1.amazonaws.com/speech/Paranormal%2520%2520Episode%252011%2520-%2520Impak%2520dan%2520implikasi%2520Part%25201%2520.mp3 62\n"
     ]
    },
    {
     "name": "stderr",
     "output_type": "stream",
     "text": [
      "100%|██████████| 62/62 [02:20<00:00,  2.27s/it]\n",
      "  0%|          | 0/54 [00:00<?, ?it/s]"
     ]
    },
    {
     "name": "stdout",
     "output_type": "stream",
     "text": [
      "MW4_V2_Mar_2019.mp3 speech/MW4_V2_Mar_2019.mp3 https://huseinhouse-storage.s3-ap-southeast-1.amazonaws.com/speech/MW4_V2_Mar_2019.mp3 54\n"
     ]
    },
    {
     "name": "stderr",
     "output_type": "stream",
     "text": [
      "100%|██████████| 54/54 [01:34<00:00,  1.75s/it]\n",
      "  0%|          | 0/62 [00:00<?, ?it/s]"
     ]
    },
    {
     "name": "stdout",
     "output_type": "stream",
     "text": [
      "Tahu-Nak-Makan-Je--Episode-28---Ikan-Kerapu-Masak-Asam-Manis-.mp3 speech/Tahu%20Nak%20Makan%20Je%20%20Episode%2028%20-%20Ikan%20Kerapu%20Masak%20Asam%20Manis%20.mp3 https://huseinhouse-storage.s3-ap-southeast-1.amazonaws.com/speech/Tahu%2520Nak%2520Makan%2520Je%2520%2520Episode%252028%2520-%2520Ikan%2520Kerapu%2520Masak%2520Asam%2520Manis%2520.mp3 62\n"
     ]
    },
    {
     "name": "stderr",
     "output_type": "stream",
     "text": [
      "100%|██████████| 62/62 [01:36<00:00,  1.55s/it]\n",
      "  0%|          | 0/63 [00:00<?, ?it/s]"
     ]
    },
    {
     "name": "stdout",
     "output_type": "stream",
     "text": [
      "Paranormal--Episode-19---Pengalaman-Ikhwan-KoolFm.mp3 speech/Paranormal%20%20Episode%2019%20-%20Pengalaman%20Ikhwan%20KoolFm.mp3 https://huseinhouse-storage.s3-ap-southeast-1.amazonaws.com/speech/Paranormal%2520%2520Episode%252019%2520-%2520Pengalaman%2520Ikhwan%2520KoolFm.mp3 63\n"
     ]
    },
    {
     "name": "stderr",
     "output_type": "stream",
     "text": [
      "100%|██████████| 63/63 [02:53<00:00,  2.75s/it]\n",
      "  0%|          | 0/54 [00:00<?, ?it/s]"
     ]
    },
    {
     "name": "stdout",
     "output_type": "stream",
     "text": [
      "UM_23_Feb_2019.mp3 speech/UM_23_Feb_2019.mp3 https://huseinhouse-storage.s3-ap-southeast-1.amazonaws.com/speech/UM_23_Feb_2019.mp3 54\n"
     ]
    },
    {
     "name": "stderr",
     "output_type": "stream",
     "text": [
      "100%|██████████| 54/54 [01:38<00:00,  1.82s/it]\n",
      "  0%|          | 0/55 [00:00<?, ?it/s]"
     ]
    },
    {
     "name": "stdout",
     "output_type": "stream",
     "text": [
      "MW3_V2_Apr_2019.mp3 speech/MW3_V2_Apr_2019.mp3 https://huseinhouse-storage.s3-ap-southeast-1.amazonaws.com/speech/MW3_V2_Apr_2019.mp3 55\n"
     ]
    },
    {
     "name": "stderr",
     "output_type": "stream",
     "text": [
      "100%|██████████| 55/55 [01:25<00:00,  1.56s/it]\n",
      "  0%|          | 0/24 [00:00<?, ?it/s]"
     ]
    },
    {
     "name": "stdout",
     "output_type": "stream",
     "text": [
      "Cinta-Biasa-Ep1.mp3 speech/Cinta%20Biasa%20Ep1.mp3 https://huseinhouse-storage.s3-ap-southeast-1.amazonaws.com/speech/Cinta%2520Biasa%2520Ep1.mp3 24\n"
     ]
    },
    {
     "name": "stderr",
     "output_type": "stream",
     "text": [
      "100%|██████████| 24/24 [00:41<00:00,  1.75s/it]\n",
      "  0%|          | 0/62 [00:00<?, ?it/s]"
     ]
    },
    {
     "name": "stdout",
     "output_type": "stream",
     "text": [
      "Paranormal--Episode-29---Bidan-Orang-Asli_4.mp3 speech/Paranormal%20%20Episode%2029%20-%20Bidan%20Orang%20Asli_4.mp3 https://huseinhouse-storage.s3-ap-southeast-1.amazonaws.com/speech/Paranormal%2520%2520Episode%252029%2520-%2520Bidan%2520Orang%2520Asli_4.mp3 62\n"
     ]
    },
    {
     "name": "stderr",
     "output_type": "stream",
     "text": [
      "100%|██████████| 62/62 [02:45<00:00,  2.67s/it]\n",
      "  0%|          | 0/55 [00:00<?, ?it/s]"
     ]
    },
    {
     "name": "stdout",
     "output_type": "stream",
     "text": [
      "DCCK_10_Mar_2019.mp3 speech/DCCK_10_Mar_2019.mp3 https://huseinhouse-storage.s3-ap-southeast-1.amazonaws.com/speech/DCCK_10_Mar_2019.mp3 55\n"
     ]
    },
    {
     "name": "stderr",
     "output_type": "stream",
     "text": [
      "100%|██████████| 55/55 [01:25<00:00,  1.56s/it]\n",
      "  0%|          | 0/62 [00:00<?, ?it/s]"
     ]
    },
    {
     "name": "stdout",
     "output_type": "stream",
     "text": [
      "Tahu-Nak-Makan-Je--Episode-17---Pulut-Panggang-.mp3 speech/Tahu%20Nak%20Makan%20Je%20%20Episode%2017%20-%20Pulut%20Panggang%20.mp3 https://huseinhouse-storage.s3-ap-southeast-1.amazonaws.com/speech/Tahu%2520Nak%2520Makan%2520Je%2520%2520Episode%252017%2520-%2520Pulut%2520Panggang%2520.mp3 62\n"
     ]
    },
    {
     "name": "stderr",
     "output_type": "stream",
     "text": [
      "100%|██████████| 62/62 [01:36<00:00,  1.55s/it]\n",
      "  0%|          | 0/63 [00:00<?, ?it/s]"
     ]
    },
    {
     "name": "stdout",
     "output_type": "stream",
     "text": [
      "5c3c22a6-cea9-417f-8669-cc4443765e21.mp3 speech/5c3c22a6-cea9-417f-8669-cc4443765e21.mp3 https://huseinhouse-storage.s3-ap-southeast-1.amazonaws.com/speech/5c3c22a6-cea9-417f-8669-cc4443765e21.mp3 63\n"
     ]
    },
    {
     "name": "stderr",
     "output_type": "stream",
     "text": [
      "100%|██████████| 63/63 [02:36<00:00,  2.49s/it]\n",
      "  0%|          | 0/62 [00:00<?, ?it/s]"
     ]
    },
    {
     "name": "stdout",
     "output_type": "stream",
     "text": [
      "e5597d0f-b7d2-4e39-930b-0868b462972d.mp3 speech/e5597d0f-b7d2-4e39-930b-0868b462972d.mp3 https://huseinhouse-storage.s3-ap-southeast-1.amazonaws.com/speech/e5597d0f-b7d2-4e39-930b-0868b462972d.mp3 62\n"
     ]
    },
    {
     "name": "stderr",
     "output_type": "stream",
     "text": [
      "100%|██████████| 62/62 [01:39<00:00,  1.60s/it]\n",
      "  0%|          | 0/55 [00:00<?, ?it/s]"
     ]
    },
    {
     "name": "stdout",
     "output_type": "stream",
     "text": [
      "HM_17_Jun_2019.mp3 speech/HM_17_Jun_2019.mp3 https://huseinhouse-storage.s3-ap-southeast-1.amazonaws.com/speech/HM_17_Jun_2019.mp3 55\n"
     ]
    },
    {
     "name": "stderr",
     "output_type": "stream",
     "text": [
      "100%|██████████| 55/55 [01:32<00:00,  1.69s/it]\n",
      "  0%|          | 0/55 [00:00<?, ?it/s]"
     ]
    },
    {
     "name": "stdout",
     "output_type": "stream",
     "text": [
      "DCCK_24_Feb_2019.mp3 speech/DCCK_24_Feb_2019.mp3 https://huseinhouse-storage.s3-ap-southeast-1.amazonaws.com/speech/DCCK_24_Feb_2019.mp3 55\n"
     ]
    },
    {
     "name": "stderr",
     "output_type": "stream",
     "text": [
      "100%|██████████| 55/55 [01:40<00:00,  1.83s/it]\n",
      "  0%|          | 0/56 [00:00<?, ?it/s]"
     ]
    },
    {
     "name": "stdout",
     "output_type": "stream",
     "text": [
      "DCCK_3_Mar_2019.mp3 speech/DCCK_3_Mar_2019.mp3 https://huseinhouse-storage.s3-ap-southeast-1.amazonaws.com/speech/DCCK_3_Mar_2019.mp3 56\n"
     ]
    },
    {
     "name": "stderr",
     "output_type": "stream",
     "text": [
      "100%|██████████| 56/56 [01:33<00:00,  1.68s/it]\n",
      "  0%|          | 0/63 [00:00<?, ?it/s]"
     ]
    },
    {
     "name": "stdout",
     "output_type": "stream",
     "text": [
      "Tahu-Nak-Makan-Je--Episode-16---Mee-Kari-.mp3 speech/Tahu%20Nak%20Makan%20Je%20%20Episode%2016%20-%20Mee%20Kari%20.mp3 https://huseinhouse-storage.s3-ap-southeast-1.amazonaws.com/speech/Tahu%2520Nak%2520Makan%2520Je%2520%2520Episode%252016%2520-%2520Mee%2520Kari%2520.mp3 63\n"
     ]
    },
    {
     "name": "stderr",
     "output_type": "stream",
     "text": [
      "100%|██████████| 63/63 [01:32<00:00,  1.46s/it]\n",
      "  0%|          | 0/64 [00:00<?, ?it/s]"
     ]
    },
    {
     "name": "stdout",
     "output_type": "stream",
     "text": [
      "056c01a1-e7f1-4de2-9334-8475859ab40b.mp3 speech/056c01a1-e7f1-4de2-9334-8475859ab40b.mp3 https://huseinhouse-storage.s3-ap-southeast-1.amazonaws.com/speech/056c01a1-e7f1-4de2-9334-8475859ab40b.mp3 64\n"
     ]
    },
    {
     "name": "stderr",
     "output_type": "stream",
     "text": [
      "100%|██████████| 64/64 [01:45<00:00,  1.65s/it]\n",
      "  0%|          | 0/47 [00:00<?, ?it/s]"
     ]
    },
    {
     "name": "stdout",
     "output_type": "stream",
     "text": [
      "2019-02-19T15_43_39-08_00.mp3 speech/2019-02-19T15_43_39-08_00.mp3 https://huseinhouse-storage.s3-ap-southeast-1.amazonaws.com/speech/2019-02-19T15_43_39-08_00.mp3 47\n"
     ]
    },
    {
     "name": "stderr",
     "output_type": "stream",
     "text": [
      "100%|██████████| 47/47 [04:40<00:00,  5.96s/it]\n",
      "  0%|          | 0/64 [00:00<?, ?it/s]"
     ]
    },
    {
     "name": "stdout",
     "output_type": "stream",
     "text": [
      "937e8fd2-e597-4782-a141-3e6f3bead6c4.mp3 speech/937e8fd2-e597-4782-a141-3e6f3bead6c4.mp3 https://huseinhouse-storage.s3-ap-southeast-1.amazonaws.com/speech/937e8fd2-e597-4782-a141-3e6f3bead6c4.mp3 64\n"
     ]
    },
    {
     "name": "stderr",
     "output_type": "stream",
     "text": [
      "100%|██████████| 64/64 [02:30<00:00,  2.36s/it]\n",
      "  0%|          | 0/64 [00:00<?, ?it/s]"
     ]
    },
    {
     "name": "stdout",
     "output_type": "stream",
     "text": [
      "b0626c33-9e8b-4391-a65f-8b78f6f588b9.mp3 speech/b0626c33-9e8b-4391-a65f-8b78f6f588b9.mp3 https://huseinhouse-storage.s3-ap-southeast-1.amazonaws.com/speech/b0626c33-9e8b-4391-a65f-8b78f6f588b9.mp3 64\n"
     ]
    },
    {
     "name": "stderr",
     "output_type": "stream",
     "text": [
      "100%|██████████| 64/64 [02:44<00:00,  2.57s/it]\n",
      "  0%|          | 0/64 [00:00<?, ?it/s]"
     ]
    },
    {
     "name": "stdout",
     "output_type": "stream",
     "text": [
      "fcc0a0fb-6b59-4d41-bc91-909267ead3cb.mp3 speech/fcc0a0fb-6b59-4d41-bc91-909267ead3cb.mp3 https://huseinhouse-storage.s3-ap-southeast-1.amazonaws.com/speech/fcc0a0fb-6b59-4d41-bc91-909267ead3cb.mp3 64\n"
     ]
    },
    {
     "name": "stderr",
     "output_type": "stream",
     "text": [
      "100%|██████████| 64/64 [02:34<00:00,  2.41s/it]\n",
      "  0%|          | 0/31 [00:00<?, ?it/s]"
     ]
    },
    {
     "name": "stdout",
     "output_type": "stream",
     "text": [
      "2018-01-31T05_53_41-08_00.mp3 speech/2018-01-31T05_53_41-08_00.mp3 https://huseinhouse-storage.s3-ap-southeast-1.amazonaws.com/speech/2018-01-31T05_53_41-08_00.mp3 31\n"
     ]
    },
    {
     "name": "stderr",
     "output_type": "stream",
     "text": [
      "100%|██████████| 31/31 [01:54<00:00,  3.70s/it]\n",
      "  0%|          | 0/57 [00:00<?, ?it/s]"
     ]
    },
    {
     "name": "stdout",
     "output_type": "stream",
     "text": [
      "Kosmo_18_Feb_2019.mp3 speech/Kosmo_18_Feb_2019.mp3 https://huseinhouse-storage.s3-ap-southeast-1.amazonaws.com/speech/Kosmo_18_Feb_2019.mp3 57\n"
     ]
    },
    {
     "name": "stderr",
     "output_type": "stream",
     "text": [
      "100%|██████████| 57/57 [01:52<00:00,  1.98s/it]\n",
      "  0%|          | 0/57 [00:00<?, ?it/s]"
     ]
    },
    {
     "name": "stdout",
     "output_type": "stream",
     "text": [
      "KL4_MA_2019.mp3 speech/KL4_MA_2019.mp3 https://huseinhouse-storage.s3-ap-southeast-1.amazonaws.com/speech/KL4_MA_2019.mp3 57\n"
     ]
    },
    {
     "name": "stderr",
     "output_type": "stream",
     "text": [
      "100%|██████████| 57/57 [01:30<00:00,  1.59s/it]\n",
      "  0%|          | 0/66 [00:00<?, ?it/s]"
     ]
    },
    {
     "name": "stdout",
     "output_type": "stream",
     "text": [
      "Paranormal--Episode-14---Pengalaman-Krew-part-1.mp3 speech/Paranormal%20%20Episode%2014%20-%20Pengalaman%20Krew%20part%201.mp3 https://huseinhouse-storage.s3-ap-southeast-1.amazonaws.com/speech/Paranormal%2520%2520Episode%252014%2520-%2520Pengalaman%2520Krew%2520part%25201.mp3 66\n"
     ]
    },
    {
     "name": "stderr",
     "output_type": "stream",
     "text": [
      "100%|██████████| 66/66 [03:16<00:00,  2.97s/it]\n",
      "  0%|          | 0/65 [00:00<?, ?it/s]"
     ]
    },
    {
     "name": "stdout",
     "output_type": "stream",
     "text": [
      "28baa8bf-dacf-4506-a924-c6e575814caf.mp3 speech/28baa8bf-dacf-4506-a924-c6e575814caf.mp3 https://huseinhouse-storage.s3-ap-southeast-1.amazonaws.com/speech/28baa8bf-dacf-4506-a924-c6e575814caf.mp3 65\n"
     ]
    },
    {
     "name": "stderr",
     "output_type": "stream",
     "text": [
      "100%|██████████| 65/65 [02:11<00:00,  2.02s/it]\n",
      "  0%|          | 0/61 [00:00<?, ?it/s]"
     ]
    },
    {
     "name": "stdout",
     "output_type": "stream",
     "text": [
      "4d6be5ca-e247-4a50-8d19-b4338b5a308d.mp3 speech/4d6be5ca-e247-4a50-8d19-b4338b5a308d.mp3 https://huseinhouse-storage.s3-ap-southeast-1.amazonaws.com/speech/4d6be5ca-e247-4a50-8d19-b4338b5a308d.mp3 61\n"
     ]
    },
    {
     "name": "stderr",
     "output_type": "stream",
     "text": [
      "100%|██████████| 61/61 [02:04<00:00,  2.04s/it]\n",
      "  0%|          | 0/24 [00:00<?, ?it/s]"
     ]
    },
    {
     "name": "stdout",
     "output_type": "stream",
     "text": [
      "Cinta-Biasa-Ep-6.mp3 speech/Cinta%20Biasa%20Ep%206.mp3 https://huseinhouse-storage.s3-ap-southeast-1.amazonaws.com/speech/Cinta%2520Biasa%2520Ep%25206.mp3 24\n"
     ]
    },
    {
     "name": "stderr",
     "output_type": "stream",
     "text": [
      "100%|██████████| 24/24 [00:47<00:00,  2.00s/it]\n",
      "  0%|          | 0/67 [00:00<?, ?it/s]"
     ]
    },
    {
     "name": "stdout",
     "output_type": "stream",
     "text": [
      "Paranormal--Episode-15---Pengalaman-Krew-part-2_2.mp3 speech/Paranormal%20%20Episode%2015%20-%20Pengalaman%20Krew%20part%202_2.mp3 https://huseinhouse-storage.s3-ap-southeast-1.amazonaws.com/speech/Paranormal%2520%2520Episode%252015%2520-%2520Pengalaman%2520Krew%2520part%25202_2.mp3 67\n"
     ]
    },
    {
     "name": "stderr",
     "output_type": "stream",
     "text": [
      "100%|██████████| 67/67 [03:15<00:00,  2.91s/it]\n",
      "  0%|          | 0/26 [00:00<?, ?it/s]"
     ]
    },
    {
     "name": "stdout",
     "output_type": "stream",
     "text": [
      "Cinta-Sup-Bunjut-2-Ep-14.mp3 speech/Cinta%20Sup%20Bunjut%202%20Ep%2014.mp3 https://huseinhouse-storage.s3-ap-southeast-1.amazonaws.com/speech/Cinta%2520Sup%2520Bunjut%25202%2520Ep%252014.mp3 26\n"
     ]
    },
    {
     "name": "stderr",
     "output_type": "stream",
     "text": [
      "100%|██████████| 26/26 [00:54<00:00,  2.11s/it]\n",
      "  0%|          | 0/67 [00:00<?, ?it/s]"
     ]
    },
    {
     "name": "stdout",
     "output_type": "stream",
     "text": [
      "Paranormal--Episode-22---Misteri-Kuarters-Guru-Part-1.mp3 speech/Paranormal%20%20Episode%2022%20-%20Misteri%20Kuarters%20Guru%20Part%201.mp3 https://huseinhouse-storage.s3-ap-southeast-1.amazonaws.com/speech/Paranormal%2520%2520Episode%252022%2520-%2520Misteri%2520Kuarters%2520Guru%2520Part%25201.mp3 67\n"
     ]
    },
    {
     "name": "stderr",
     "output_type": "stream",
     "text": [
      "100%|██████████| 67/67 [02:37<00:00,  2.35s/it]\n",
      "  0%|          | 0/67 [00:00<?, ?it/s]"
     ]
    },
    {
     "name": "stdout",
     "output_type": "stream",
     "text": [
      "Paranormal--Episode-12---Impak-dan-implikasi-Part-2-.mp3 speech/Paranormal%20%20Episode%2012%20-%20Impak%20dan%20implikasi%20Part%202%20.mp3 https://huseinhouse-storage.s3-ap-southeast-1.amazonaws.com/speech/Paranormal%2520%2520Episode%252012%2520-%2520Impak%2520dan%2520implikasi%2520Part%25202%2520.mp3 67\n"
     ]
    },
    {
     "name": "stderr",
     "output_type": "stream",
     "text": [
      "100%|██████████| 67/67 [02:39<00:00,  2.37s/it]\n",
      "  0%|          | 0/25 [00:00<?, ?it/s]"
     ]
    },
    {
     "name": "stdout",
     "output_type": "stream",
     "text": [
      "Cinta-Biasa-Ep-11.mp3 speech/Cinta%20Biasa%20Ep%2011.mp3 https://huseinhouse-storage.s3-ap-southeast-1.amazonaws.com/speech/Cinta%2520Biasa%2520Ep%252011.mp3 25\n"
     ]
    },
    {
     "name": "stderr",
     "output_type": "stream",
     "text": [
      "100%|██████████| 25/25 [00:59<00:00,  2.37s/it]\n",
      "  0%|          | 0/26 [00:00<?, ?it/s]"
     ]
    },
    {
     "name": "stdout",
     "output_type": "stream",
     "text": [
      "Cinta-Sup-Bunjut-Ep-5.mp3 speech/Cinta%20Sup%20Bunjut%20Ep%205.mp3 https://huseinhouse-storage.s3-ap-southeast-1.amazonaws.com/speech/Cinta%2520Sup%2520Bunjut%2520Ep%25205.mp3 26\n"
     ]
    },
    {
     "name": "stderr",
     "output_type": "stream",
     "text": [
      "100%|██████████| 26/26 [01:07<00:00,  2.59s/it]\n",
      "  0%|          | 0/26 [00:00<?, ?it/s]"
     ]
    },
    {
     "name": "stdout",
     "output_type": "stream",
     "text": [
      "Cinta-Biasa-Ep-5.mp3 speech/Cinta%20Biasa%20Ep%205.mp3 https://huseinhouse-storage.s3-ap-southeast-1.amazonaws.com/speech/Cinta%2520Biasa%2520Ep%25205.mp3 26\n"
     ]
    },
    {
     "name": "stderr",
     "output_type": "stream",
     "text": [
      "100%|██████████| 26/26 [00:39<00:00,  1.53s/it]\n",
      "  0%|          | 0/69 [00:00<?, ?it/s]"
     ]
    },
    {
     "name": "stdout",
     "output_type": "stream",
     "text": [
      "Paranormal--Episode-20---Kisah-di-Kolam-renang-Muar.mp3 speech/Paranormal%20%20Episode%2020%20-%20Kisah%20di%20Kolam%20renang%20Muar.mp3 https://huseinhouse-storage.s3-ap-southeast-1.amazonaws.com/speech/Paranormal%2520%2520Episode%252020%2520-%2520Kisah%2520di%2520Kolam%2520renang%2520Muar.mp3 69\n"
     ]
    },
    {
     "name": "stderr",
     "output_type": "stream",
     "text": [
      "100%|██████████| 69/69 [03:41<00:00,  3.20s/it]\n",
      "  0%|          | 0/61 [00:00<?, ?it/s]"
     ]
    },
    {
     "name": "stdout",
     "output_type": "stream",
     "text": [
      "UM_9_Feb_2019.mp3 speech/UM_9_Feb_2019.mp3 https://huseinhouse-storage.s3-ap-southeast-1.amazonaws.com/speech/UM_9_Feb_2019.mp3 61\n"
     ]
    },
    {
     "name": "stderr",
     "output_type": "stream",
     "text": [
      "100%|██████████| 61/61 [01:41<00:00,  1.66s/it]\n",
      "  0%|          | 0/67 [00:00<?, ?it/s]"
     ]
    },
    {
     "name": "stdout",
     "output_type": "stream",
     "text": [
      "7e4bf1dd-8bc5-45ad-a0b3-71ef58deecc0.mp3 speech/7e4bf1dd-8bc5-45ad-a0b3-71ef58deecc0.mp3 https://huseinhouse-storage.s3-ap-southeast-1.amazonaws.com/speech/7e4bf1dd-8bc5-45ad-a0b3-71ef58deecc0.mp3 67\n"
     ]
    },
    {
     "name": "stderr",
     "output_type": "stream",
     "text": [
      "100%|██████████| 67/67 [03:30<00:00,  3.14s/it]\n",
      "  0%|          | 0/68 [00:00<?, ?it/s]"
     ]
    },
    {
     "name": "stdout",
     "output_type": "stream",
     "text": [
      "Tahu-Nak-Makan-Je--Episode-12---Roti-Jala-Kari-Ayam.mp3 speech/Tahu%20Nak%20Makan%20Je%20%20Episode%2012%20-%20Roti%20Jala%20Kari%20Ayam.mp3 https://huseinhouse-storage.s3-ap-southeast-1.amazonaws.com/speech/Tahu%2520Nak%2520Makan%2520Je%2520%2520Episode%252012%2520-%2520Roti%2520Jala%2520Kari%2520Ayam.mp3 68\n"
     ]
    },
    {
     "name": "stderr",
     "output_type": "stream",
     "text": [
      "100%|██████████| 68/68 [01:45<00:00,  1.55s/it]\n",
      "  0%|          | 0/69 [00:00<?, ?it/s]"
     ]
    },
    {
     "name": "stdout",
     "output_type": "stream",
     "text": [
      "46906a65-ed6e-4897-891e-1e08f7aa7eec.mp3 speech/46906a65-ed6e-4897-891e-1e08f7aa7eec.mp3 https://huseinhouse-storage.s3-ap-southeast-1.amazonaws.com/speech/46906a65-ed6e-4897-891e-1e08f7aa7eec.mp3 69\n"
     ]
    },
    {
     "name": "stderr",
     "output_type": "stream",
     "text": [
      "100%|██████████| 69/69 [03:07<00:00,  2.72s/it]\n",
      "  0%|          | 0/69 [00:00<?, ?it/s]"
     ]
    },
    {
     "name": "stdout",
     "output_type": "stream",
     "text": [
      "51b4f03a-3ea7-4bfd-b2fc-e825f66d3cd7.mp3 speech/51b4f03a-3ea7-4bfd-b2fc-e825f66d3cd7.mp3 https://huseinhouse-storage.s3-ap-southeast-1.amazonaws.com/speech/51b4f03a-3ea7-4bfd-b2fc-e825f66d3cd7.mp3 69\n"
     ]
    },
    {
     "name": "stderr",
     "output_type": "stream",
     "text": [
      "100%|██████████| 69/69 [04:09<00:00,  3.61s/it]\n",
      "  0%|          | 0/72 [00:00<?, ?it/s]"
     ]
    },
    {
     "name": "stdout",
     "output_type": "stream",
     "text": [
      "Paranormal--Episode-13---Aura-Lukisan.mp3 speech/Paranormal%20%20Episode%2013%20-%20Aura%20Lukisan.mp3 https://huseinhouse-storage.s3-ap-southeast-1.amazonaws.com/speech/Paranormal%2520%2520Episode%252013%2520-%2520Aura%2520Lukisan.mp3 72\n"
     ]
    },
    {
     "name": "stderr",
     "output_type": "stream",
     "text": [
      "100%|██████████| 72/72 [03:12<00:00,  2.67s/it]\n",
      "  0%|          | 0/72 [00:00<?, ?it/s]"
     ]
    },
    {
     "name": "stdout",
     "output_type": "stream",
     "text": [
      "Paranormal--Episode-27---Rumah-Bomoh-Siam-Part-2.mp3 speech/Paranormal%20%20Episode%2027%20-%20Rumah%20Bomoh%20Siam%20Part%202.mp3 https://huseinhouse-storage.s3-ap-southeast-1.amazonaws.com/speech/Paranormal%2520%2520Episode%252027%2520-%2520Rumah%2520Bomoh%2520Siam%2520Part%25202.mp3 72\n"
     ]
    },
    {
     "name": "stderr",
     "output_type": "stream",
     "text": [
      "100%|██████████| 72/72 [03:01<00:00,  2.51s/it]\n",
      "  0%|          | 0/26 [00:00<?, ?it/s]"
     ]
    },
    {
     "name": "stdout",
     "output_type": "stream",
     "text": [
      "Cinta-Sup-Bunjut-2-Ep-13.mp3 speech/Cinta%20Sup%20Bunjut%202%20Ep%2013.mp3 https://huseinhouse-storage.s3-ap-southeast-1.amazonaws.com/speech/Cinta%2520Sup%2520Bunjut%25202%2520Ep%252013.mp3 26\n"
     ]
    },
    {
     "name": "stderr",
     "output_type": "stream",
     "text": [
      "100%|██████████| 26/26 [01:01<00:00,  2.35s/it]\n",
      "  0%|          | 0/72 [00:00<?, ?it/s]"
     ]
    },
    {
     "name": "stdout",
     "output_type": "stream",
     "text": [
      "7e78055a-f936-4496-bac9-4c10b730e5ab.mp3 speech/7e78055a-f936-4496-bac9-4c10b730e5ab.mp3 https://huseinhouse-storage.s3-ap-southeast-1.amazonaws.com/speech/7e78055a-f936-4496-bac9-4c10b730e5ab.mp3 72\n"
     ]
    },
    {
     "name": "stderr",
     "output_type": "stream",
     "text": [
      "100%|██████████| 72/72 [03:21<00:00,  2.80s/it]\n",
      "  0%|          | 0/73 [00:00<?, ?it/s]"
     ]
    },
    {
     "name": "stdout",
     "output_type": "stream",
     "text": [
      "Tahu-Nak-Makan-Je--Episode-14---Kek-Coklat-Kukus.mp3 speech/Tahu%20Nak%20Makan%20Je%20%20Episode%2014%20-%20Kek%20Coklat%20Kukus.mp3 https://huseinhouse-storage.s3-ap-southeast-1.amazonaws.com/speech/Tahu%2520Nak%2520Makan%2520Je%2520%2520Episode%252014%2520-%2520Kek%2520Coklat%2520Kukus.mp3 73\n"
     ]
    },
    {
     "name": "stderr",
     "output_type": "stream",
     "text": [
      "100%|██████████| 73/73 [01:56<00:00,  1.59s/it]\n",
      "  0%|          | 0/72 [00:00<?, ?it/s]"
     ]
    },
    {
     "name": "stdout",
     "output_type": "stream",
     "text": [
      "ed455e34-7283-4679-a4a8-295f539dee14.mp3 speech/ed455e34-7283-4679-a4a8-295f539dee14.mp3 https://huseinhouse-storage.s3-ap-southeast-1.amazonaws.com/speech/ed455e34-7283-4679-a4a8-295f539dee14.mp3 72\n"
     ]
    },
    {
     "name": "stderr",
     "output_type": "stream",
     "text": [
      "100%|██████████| 72/72 [02:12<00:00,  1.85s/it]\n",
      "  0%|          | 0/73 [00:00<?, ?it/s]"
     ]
    },
    {
     "name": "stdout",
     "output_type": "stream",
     "text": [
      "b2792ca0-5dfa-4f5d-af0b-cd01731a64c8.mp3 speech/b2792ca0-5dfa-4f5d-af0b-cd01731a64c8.mp3 https://huseinhouse-storage.s3-ap-southeast-1.amazonaws.com/speech/b2792ca0-5dfa-4f5d-af0b-cd01731a64c8.mp3 73\n"
     ]
    },
    {
     "name": "stderr",
     "output_type": "stream",
     "text": [
      "100%|██████████| 73/73 [02:22<00:00,  1.95s/it]\n",
      "  0%|          | 0/74 [00:00<?, ?it/s]"
     ]
    },
    {
     "name": "stdout",
     "output_type": "stream",
     "text": [
      "Tahu-Nak-Makan-Je--Episode-13---Nasi-Daging.mp3 speech/Tahu%20Nak%20Makan%20Je%20%20Episode%2013%20-%20Nasi%20Daging.mp3 https://huseinhouse-storage.s3-ap-southeast-1.amazonaws.com/speech/Tahu%2520Nak%2520Makan%2520Je%2520%2520Episode%252013%2520-%2520Nasi%2520Daging.mp3 74\n"
     ]
    },
    {
     "name": "stderr",
     "output_type": "stream",
     "text": [
      "100%|██████████| 74/74 [01:58<00:00,  1.60s/it]\n",
      "  0%|          | 0/27 [00:00<?, ?it/s]"
     ]
    },
    {
     "name": "stdout",
     "output_type": "stream",
     "text": [
      "Cinta-Biasa-Ep-10.mp3 speech/Cinta%20Biasa%20Ep%2010.mp3 https://huseinhouse-storage.s3-ap-southeast-1.amazonaws.com/speech/Cinta%2520Biasa%2520Ep%252010.mp3 27\n"
     ]
    },
    {
     "name": "stderr",
     "output_type": "stream",
     "text": [
      "100%|██████████| 27/27 [00:43<00:00,  1.62s/it]\n",
      "  0%|          | 0/26 [00:00<?, ?it/s]"
     ]
    },
    {
     "name": "stdout",
     "output_type": "stream",
     "text": [
      "Cinta-Biasa-Ep-8.mp3 speech/Cinta%20Biasa%20Ep%208.mp3 https://huseinhouse-storage.s3-ap-southeast-1.amazonaws.com/speech/Cinta%2520Biasa%2520Ep%25208.mp3 26\n"
     ]
    },
    {
     "name": "stderr",
     "output_type": "stream",
     "text": [
      "100%|██████████| 26/26 [00:49<00:00,  1.89s/it]\n",
      "  0%|          | 0/74 [00:00<?, ?it/s]"
     ]
    },
    {
     "name": "stdout",
     "output_type": "stream",
     "text": [
      "99ed1160-e73b-4acc-897c-3b336c2e66d8.mp3 speech/99ed1160-e73b-4acc-897c-3b336c2e66d8.mp3 https://huseinhouse-storage.s3-ap-southeast-1.amazonaws.com/speech/99ed1160-e73b-4acc-897c-3b336c2e66d8.mp3 74\n"
     ]
    },
    {
     "name": "stderr",
     "output_type": "stream",
     "text": [
      "100%|██████████| 74/74 [03:16<00:00,  2.65s/it]\n",
      "  0%|          | 0/75 [00:00<?, ?it/s]"
     ]
    },
    {
     "name": "stdout",
     "output_type": "stream",
     "text": [
      "Paranormal--Episode-21---Rumah-Pusaka-Hutan-Kampung.mp3 speech/Paranormal%20%20Episode%2021%20-%20Rumah%20Pusaka%20Hutan%20Kampung.mp3 https://huseinhouse-storage.s3-ap-southeast-1.amazonaws.com/speech/Paranormal%2520%2520Episode%252021%2520-%2520Rumah%2520Pusaka%2520Hutan%2520Kampung.mp3 75\n"
     ]
    },
    {
     "name": "stderr",
     "output_type": "stream",
     "text": [
      "100%|██████████| 75/75 [03:00<00:00,  2.41s/it]\n",
      "  0%|          | 0/26 [00:00<?, ?it/s]"
     ]
    },
    {
     "name": "stdout",
     "output_type": "stream",
     "text": [
      "Cinta-Sup-Bunjut-2-Ep-11.mp3 speech/Cinta%20Sup%20Bunjut%202%20Ep%2011.mp3 https://huseinhouse-storage.s3-ap-southeast-1.amazonaws.com/speech/Cinta%2520Sup%2520Bunjut%25202%2520Ep%252011.mp3 26\n"
     ]
    },
    {
     "name": "stderr",
     "output_type": "stream",
     "text": [
      "100%|██████████| 26/26 [01:11<00:00,  2.74s/it]\n",
      "  0%|          | 0/77 [00:00<?, ?it/s]"
     ]
    },
    {
     "name": "stdout",
     "output_type": "stream",
     "text": [
      "Paranormal--Episode-30---Cerita-Lama-Amir.mp3 speech/Paranormal%20%20Episode%2030%20-%20Cerita%20Lama%20Amir.mp3 https://huseinhouse-storage.s3-ap-southeast-1.amazonaws.com/speech/Paranormal%2520%2520Episode%252030%2520-%2520Cerita%2520Lama%2520Amir.mp3 77\n"
     ]
    },
    {
     "name": "stderr",
     "output_type": "stream",
     "text": [
      "100%|██████████| 77/77 [03:35<00:00,  2.80s/it]\n",
      "  0%|          | 0/76 [00:00<?, ?it/s]"
     ]
    },
    {
     "name": "stdout",
     "output_type": "stream",
     "text": [
      "Tahu-Nak-Makan-Je--Episode-15---Laksa-Penang_2.mp3 speech/Tahu%20Nak%20Makan%20Je%20%20Episode%2015%20-%20Laksa%20Penang_2.mp3 https://huseinhouse-storage.s3-ap-southeast-1.amazonaws.com/speech/Tahu%2520Nak%2520Makan%2520Je%2520%2520Episode%252015%2520-%2520Laksa%2520Penang_2.mp3 76\n"
     ]
    },
    {
     "name": "stderr",
     "output_type": "stream",
     "text": [
      "100%|██████████| 76/76 [02:01<00:00,  1.60s/it]\n",
      "  0%|          | 0/28 [00:00<?, ?it/s]"
     ]
    },
    {
     "name": "stdout",
     "output_type": "stream",
     "text": [
      "Cinta-Sup-Bunjut-Ep-4.mp3 speech/Cinta%20Sup%20Bunjut%20Ep%204.mp3 https://huseinhouse-storage.s3-ap-southeast-1.amazonaws.com/speech/Cinta%2520Sup%2520Bunjut%2520Ep%25204.mp3 28\n"
     ]
    },
    {
     "name": "stderr",
     "output_type": "stream",
     "text": [
      "100%|██████████| 28/28 [01:06<00:00,  2.37s/it]\n",
      "  0%|          | 0/76 [00:00<?, ?it/s]"
     ]
    },
    {
     "name": "stdout",
     "output_type": "stream",
     "text": [
      "Paranormal--Episode-25---Misteri-Rumah-Siam-Part-2.mp3 speech/Paranormal%20%20Episode%2025%20-%20Misteri%20Rumah%20Siam%20Part%202.mp3 https://huseinhouse-storage.s3-ap-southeast-1.amazonaws.com/speech/Paranormal%2520%2520Episode%252025%2520-%2520Misteri%2520Rumah%2520Siam%2520Part%25202.mp3 76\n"
     ]
    },
    {
     "name": "stderr",
     "output_type": "stream",
     "text": [
      "100%|██████████| 76/76 [03:05<00:00,  2.44s/it]\n",
      "  0%|          | 0/77 [00:00<?, ?it/s]"
     ]
    },
    {
     "name": "stdout",
     "output_type": "stream",
     "text": [
      "e1bebac5-ed54-48f0-a4c7-76f05d3ff720.mp3 speech/e1bebac5-ed54-48f0-a4c7-76f05d3ff720.mp3 https://huseinhouse-storage.s3-ap-southeast-1.amazonaws.com/speech/e1bebac5-ed54-48f0-a4c7-76f05d3ff720.mp3 77\n"
     ]
    },
    {
     "name": "stderr",
     "output_type": "stream",
     "text": [
      "100%|██████████| 77/77 [02:43<00:00,  2.13s/it]\n",
      "  0%|          | 0/29 [00:00<?, ?it/s]"
     ]
    },
    {
     "name": "stdout",
     "output_type": "stream",
     "text": [
      "2x5-Ep-11.mp3 speech/2x5%20Ep%2011.mp3 https://huseinhouse-storage.s3-ap-southeast-1.amazonaws.com/speech/2x5%2520Ep%252011.mp3 29\n"
     ]
    },
    {
     "name": "stderr",
     "output_type": "stream",
     "text": [
      "100%|██████████| 29/29 [01:06<00:00,  2.29s/it]\n",
      "  0%|          | 0/78 [00:00<?, ?it/s]"
     ]
    },
    {
     "name": "stdout",
     "output_type": "stream",
     "text": [
      "75bb0223-2afa-4510-af83-0894e9ca987a.mp3 speech/75bb0223-2afa-4510-af83-0894e9ca987a.mp3 https://huseinhouse-storage.s3-ap-southeast-1.amazonaws.com/speech/75bb0223-2afa-4510-af83-0894e9ca987a.mp3 78\n"
     ]
    },
    {
     "name": "stderr",
     "output_type": "stream",
     "text": [
      "100%|██████████| 78/78 [02:41<00:00,  2.08s/it]\n",
      "  0%|          | 0/70 [00:00<?, ?it/s]"
     ]
    },
    {
     "name": "stdout",
     "output_type": "stream",
     "text": [
      "HM_8_Feb_2019.mp3 speech/HM_8_Feb_2019.mp3 https://huseinhouse-storage.s3-ap-southeast-1.amazonaws.com/speech/HM_8_Feb_2019.mp3 70\n"
     ]
    },
    {
     "name": "stderr",
     "output_type": "stream",
     "text": [
      "100%|██████████| 70/70 [01:51<00:00,  1.60s/it]\n",
      "  0%|          | 0/30 [00:00<?, ?it/s]"
     ]
    },
    {
     "name": "stdout",
     "output_type": "stream",
     "text": [
      "2x5-Ep-14.mp3 speech/2x5%20Ep%2014.mp3 https://huseinhouse-storage.s3-ap-southeast-1.amazonaws.com/speech/2x5%2520Ep%252014.mp3 30\n"
     ]
    },
    {
     "name": "stderr",
     "output_type": "stream",
     "text": [
      "100%|██████████| 30/30 [01:03<00:00,  2.11s/it]\n",
      "  0%|          | 0/82 [00:00<?, ?it/s]"
     ]
    },
    {
     "name": "stdout",
     "output_type": "stream",
     "text": [
      "Paranormal--Episode-16---Pengalaman-Krew-Part-3.mp3 speech/Paranormal%20%20Episode%2016%20-%20Pengalaman%20Krew%20Part%203.mp3 https://huseinhouse-storage.s3-ap-southeast-1.amazonaws.com/speech/Paranormal%2520%2520Episode%252016%2520-%2520Pengalaman%2520Krew%2520Part%25203.mp3 82\n"
     ]
    },
    {
     "name": "stderr",
     "output_type": "stream",
     "text": [
      "100%|██████████| 82/82 [04:00<00:00,  2.94s/it]\n",
      "  0%|          | 0/28 [00:00<?, ?it/s]"
     ]
    },
    {
     "name": "stdout",
     "output_type": "stream",
     "text": [
      "Cinta-Biasa-Ep-12.mp3 speech/Cinta%20Biasa%20Ep%2012.mp3 https://huseinhouse-storage.s3-ap-southeast-1.amazonaws.com/speech/Cinta%2520Biasa%2520Ep%252012.mp3 28\n"
     ]
    },
    {
     "name": "stderr",
     "output_type": "stream",
     "text": [
      "100%|██████████| 28/28 [00:53<00:00,  1.93s/it]\n",
      "  0%|          | 0/30 [00:00<?, ?it/s]"
     ]
    },
    {
     "name": "stdout",
     "output_type": "stream",
     "text": [
      "Cinta-Sup-Bunjut-Ep-1.mp3 speech/Cinta%20Sup%20Bunjut%20Ep%201.mp3 https://huseinhouse-storage.s3-ap-southeast-1.amazonaws.com/speech/Cinta%2520Sup%2520Bunjut%2520Ep%25201.mp3 30\n"
     ]
    },
    {
     "name": "stderr",
     "output_type": "stream",
     "text": [
      "100%|██████████| 30/30 [01:05<00:00,  2.17s/it]\n",
      "  0%|          | 0/83 [00:00<?, ?it/s]"
     ]
    },
    {
     "name": "stdout",
     "output_type": "stream",
     "text": [
      "Paranormal--Episode-23---Misteri-Kuarters-Guru-Part-2_2.mp3 speech/Paranormal%20%20Episode%2023%20-%20Misteri%20Kuarters%20Guru%20Part%202_2.mp3 https://huseinhouse-storage.s3-ap-southeast-1.amazonaws.com/speech/Paranormal%2520%2520Episode%252023%2520-%2520Misteri%2520Kuarters%2520Guru%2520Part%25202_2.mp3 83\n"
     ]
    },
    {
     "name": "stderr",
     "output_type": "stream",
     "text": [
      "100%|██████████| 83/83 [03:30<00:00,  2.54s/it]\n",
      "  0%|          | 0/31 [00:00<?, ?it/s]"
     ]
    },
    {
     "name": "stdout",
     "output_type": "stream",
     "text": [
      "Cinta-Sup-Bunjut-2.mp3 speech/Cinta%20Sup%20Bunjut%202.mp3 https://huseinhouse-storage.s3-ap-southeast-1.amazonaws.com/speech/Cinta%2520Sup%2520Bunjut%25202.mp3 31\n"
     ]
    },
    {
     "name": "stderr",
     "output_type": "stream",
     "text": [
      "100%|██████████| 31/31 [01:06<00:00,  2.16s/it]\n",
      "  0%|          | 0/31 [00:00<?, ?it/s]"
     ]
    },
    {
     "name": "stdout",
     "output_type": "stream",
     "text": [
      "Cinta-Sup-Bunjut-Ep7.mp3 speech/Cinta%20Sup%20Bunjut%20Ep7.mp3 https://huseinhouse-storage.s3-ap-southeast-1.amazonaws.com/speech/Cinta%2520Sup%2520Bunjut%2520Ep7.mp3 31\n"
     ]
    },
    {
     "name": "stderr",
     "output_type": "stream",
     "text": [
      "100%|██████████| 31/31 [01:34<00:00,  3.04s/it]\n",
      "  0%|          | 0/32 [00:00<?, ?it/s]"
     ]
    },
    {
     "name": "stdout",
     "output_type": "stream",
     "text": [
      "Cinta-Sup-Bunjut-2-Ep-10_2.mp3 speech/Cinta%20Sup%20Bunjut%202%20Ep%2010_2.mp3 https://huseinhouse-storage.s3-ap-southeast-1.amazonaws.com/speech/Cinta%2520Sup%2520Bunjut%25202%2520Ep%252010_2.mp3 32\n"
     ]
    },
    {
     "name": "stderr",
     "output_type": "stream",
     "text": [
      "100%|██████████| 32/32 [01:25<00:00,  2.66s/it]\n",
      "  0%|          | 0/32 [00:00<?, ?it/s]"
     ]
    },
    {
     "name": "stdout",
     "output_type": "stream",
     "text": [
      "Cinta-Biasa-Ep-2.mp3 speech/Cinta%20Biasa%20Ep%202.mp3 https://huseinhouse-storage.s3-ap-southeast-1.amazonaws.com/speech/Cinta%2520Biasa%2520Ep%25202.mp3 32\n"
     ]
    },
    {
     "name": "stderr",
     "output_type": "stream",
     "text": [
      "100%|██████████| 32/32 [01:05<00:00,  2.06s/it]\n",
      "  0%|          | 0/32 [00:00<?, ?it/s]"
     ]
    },
    {
     "name": "stdout",
     "output_type": "stream",
     "text": [
      "Cinta-Biasa-Ep-15.mp3 speech/Cinta%20Biasa%20Ep%2015.mp3 https://huseinhouse-storage.s3-ap-southeast-1.amazonaws.com/speech/Cinta%2520Biasa%2520Ep%252015.mp3 32\n"
     ]
    },
    {
     "name": "stderr",
     "output_type": "stream",
     "text": [
      "100%|██████████| 32/32 [01:11<00:00,  2.22s/it]\n",
      "  0%|          | 0/33 [00:00<?, ?it/s]"
     ]
    },
    {
     "name": "stdout",
     "output_type": "stream",
     "text": [
      "Cinta-Sup-Bunjut-Ep-6.mp3 speech/Cinta%20Sup%20Bunjut%20Ep%206.mp3 https://huseinhouse-storage.s3-ap-southeast-1.amazonaws.com/speech/Cinta%2520Sup%2520Bunjut%2520Ep%25206.mp3 33\n"
     ]
    },
    {
     "name": "stderr",
     "output_type": "stream",
     "text": [
      "100%|██████████| 33/33 [01:23<00:00,  2.52s/it]\n",
      "  0%|          | 0/30 [00:00<?, ?it/s]"
     ]
    },
    {
     "name": "stdout",
     "output_type": "stream",
     "text": [
      "Cinta-Biasa-Ep-14.mp3 speech/Cinta%20Biasa%20Ep%2014.mp3 https://huseinhouse-storage.s3-ap-southeast-1.amazonaws.com/speech/Cinta%2520Biasa%2520Ep%252014.mp3 30\n"
     ]
    },
    {
     "name": "stderr",
     "output_type": "stream",
     "text": [
      "100%|██████████| 30/30 [00:46<00:00,  1.54s/it]\n",
      "  0%|          | 0/32 [00:00<?, ?it/s]"
     ]
    },
    {
     "name": "stdout",
     "output_type": "stream",
     "text": [
      "Cinta-Sup-Bunjut-2-Ep-9.mp3 speech/Cinta%20Sup%20Bunjut%202%20Ep%209.mp3 https://huseinhouse-storage.s3-ap-southeast-1.amazonaws.com/speech/Cinta%2520Sup%2520Bunjut%25202%2520Ep%25209.mp3 32\n"
     ]
    },
    {
     "name": "stderr",
     "output_type": "stream",
     "text": [
      "100%|██████████| 32/32 [01:07<00:00,  2.12s/it]\n",
      "  0%|          | 0/89 [00:00<?, ?it/s]"
     ]
    },
    {
     "name": "stdout",
     "output_type": "stream",
     "text": [
      "1cb6f578-0847-4603-b7f5-e7a6d6d2c745.mp3 speech/1cb6f578-0847-4603-b7f5-e7a6d6d2c745.mp3 https://huseinhouse-storage.s3-ap-southeast-1.amazonaws.com/speech/1cb6f578-0847-4603-b7f5-e7a6d6d2c745.mp3 89\n"
     ]
    },
    {
     "name": "stderr",
     "output_type": "stream",
     "text": [
      "100%|██████████| 89/89 [01:57<00:00,  1.33s/it]\n",
      "  0%|          | 0/33 [00:00<?, ?it/s]"
     ]
    },
    {
     "name": "stdout",
     "output_type": "stream",
     "text": [
      "Cinta-Biasa-Ep-13.mp3 speech/Cinta%20Biasa%20Ep%2013.mp3 https://huseinhouse-storage.s3-ap-southeast-1.amazonaws.com/speech/Cinta%2520Biasa%2520Ep%252013.mp3 33\n"
     ]
    },
    {
     "name": "stderr",
     "output_type": "stream",
     "text": [
      "100%|██████████| 33/33 [01:05<00:00,  1.97s/it]\n",
      "  0%|          | 0/34 [00:00<?, ?it/s]"
     ]
    },
    {
     "name": "stdout",
     "output_type": "stream",
     "text": [
      "Cinta-Biasa-Ep-9.mp3 speech/Cinta%20Biasa%20Ep%209.mp3 https://huseinhouse-storage.s3-ap-southeast-1.amazonaws.com/speech/Cinta%2520Biasa%2520Ep%25209.mp3 34\n"
     ]
    },
    {
     "name": "stderr",
     "output_type": "stream",
     "text": [
      "100%|██████████| 34/34 [00:59<00:00,  1.74s/it]\n",
      "  0%|          | 0/36 [00:00<?, ?it/s]"
     ]
    },
    {
     "name": "stdout",
     "output_type": "stream",
     "text": [
      "2x5-Ep-13.mp3 speech/2x5%20Ep%2013.mp3 https://huseinhouse-storage.s3-ap-southeast-1.amazonaws.com/speech/2x5%2520Ep%252013.mp3 36\n"
     ]
    },
    {
     "name": "stderr",
     "output_type": "stream",
     "text": [
      "100%|██████████| 36/36 [01:41<00:00,  2.83s/it]\n",
      "  0%|          | 0/36 [00:00<?, ?it/s]"
     ]
    },
    {
     "name": "stdout",
     "output_type": "stream",
     "text": [
      "Cinta-Sup-Bunjut-2-Ep-15.mp3 speech/Cinta%20Sup%20Bunjut%202%20Ep%2015.mp3 https://huseinhouse-storage.s3-ap-southeast-1.amazonaws.com/speech/Cinta%2520Sup%2520Bunjut%25202%2520Ep%252015.mp3 36\n"
     ]
    },
    {
     "name": "stderr",
     "output_type": "stream",
     "text": [
      "100%|██████████| 36/36 [01:11<00:00,  1.98s/it]\n",
      "  0%|          | 0/37 [00:00<?, ?it/s]"
     ]
    },
    {
     "name": "stdout",
     "output_type": "stream",
     "text": [
      "Cinta-Sup-Bunjut-2-Ep-12.mp3 speech/Cinta%20Sup%20Bunjut%202%20Ep%2012.mp3 https://huseinhouse-storage.s3-ap-southeast-1.amazonaws.com/speech/Cinta%2520Sup%2520Bunjut%25202%2520Ep%252012.mp3 37\n"
     ]
    },
    {
     "name": "stderr",
     "output_type": "stream",
     "text": [
      "100%|██████████| 37/37 [01:27<00:00,  2.38s/it]\n",
      "  0%|          | 0/37 [00:00<?, ?it/s]"
     ]
    },
    {
     "name": "stdout",
     "output_type": "stream",
     "text": [
      "2x5-Ep-5.mp3 speech/2x5%20Ep%205.mp3 https://huseinhouse-storage.s3-ap-southeast-1.amazonaws.com/speech/2x5%2520Ep%25205.mp3 37\n"
     ]
    },
    {
     "name": "stderr",
     "output_type": "stream",
     "text": [
      "100%|██████████| 37/37 [01:16<00:00,  2.05s/it]\n",
      "  0%|          | 0/36 [00:00<?, ?it/s]"
     ]
    },
    {
     "name": "stdout",
     "output_type": "stream",
     "text": [
      "2x5-Ep-12.mp3 speech/2x5%20Ep%2012.mp3 https://huseinhouse-storage.s3-ap-southeast-1.amazonaws.com/speech/2x5%2520Ep%252012.mp3 36\n"
     ]
    },
    {
     "name": "stderr",
     "output_type": "stream",
     "text": [
      "100%|██████████| 36/36 [01:07<00:00,  1.88s/it]\n",
      "  0%|          | 0/34 [00:00<?, ?it/s]"
     ]
    },
    {
     "name": "stdout",
     "output_type": "stream",
     "text": [
      "Cinta-Sup-Bunjut-Ep-8.mp3 speech/Cinta%20Sup%20Bunjut%20Ep%208.mp3 https://huseinhouse-storage.s3-ap-southeast-1.amazonaws.com/speech/Cinta%2520Sup%2520Bunjut%2520Ep%25208.mp3 34\n"
     ]
    },
    {
     "name": "stderr",
     "output_type": "stream",
     "text": [
      "100%|██████████| 34/34 [01:08<00:00,  2.02s/it]\n",
      "  0%|          | 0/39 [00:00<?, ?it/s]"
     ]
    },
    {
     "name": "stdout",
     "output_type": "stream",
     "text": [
      "2x5-Ep-2.mp3 speech/2x5%20Ep%202.mp3 https://huseinhouse-storage.s3-ap-southeast-1.amazonaws.com/speech/2x5%2520Ep%25202.mp3 39\n"
     ]
    },
    {
     "name": "stderr",
     "output_type": "stream",
     "text": [
      "100%|██████████| 39/39 [01:29<00:00,  2.29s/it]\n",
      "  0%|          | 0/38 [00:00<?, ?it/s]"
     ]
    },
    {
     "name": "stdout",
     "output_type": "stream",
     "text": [
      "2x5-Ep-9.mp3 speech/2x5%20Ep%209.mp3 https://huseinhouse-storage.s3-ap-southeast-1.amazonaws.com/speech/2x5%2520Ep%25209.mp3 38\n"
     ]
    },
    {
     "name": "stderr",
     "output_type": "stream",
     "text": [
      "100%|██████████| 38/38 [01:24<00:00,  2.24s/it]\n",
      "  0%|          | 0/38 [00:00<?, ?it/s]"
     ]
    },
    {
     "name": "stdout",
     "output_type": "stream",
     "text": [
      "2x5-Ep-3.mp3 speech/2x5%20Ep%203.mp3 https://huseinhouse-storage.s3-ap-southeast-1.amazonaws.com/speech/2x5%2520Ep%25203.mp3 38\n"
     ]
    },
    {
     "name": "stderr",
     "output_type": "stream",
     "text": [
      "100%|██████████| 38/38 [01:30<00:00,  2.39s/it]\n",
      "  0%|          | 0/39 [00:00<?, ?it/s]"
     ]
    },
    {
     "name": "stdout",
     "output_type": "stream",
     "text": [
      "2x5-Ep-8.mp3 speech/2x5%20Ep%208.mp3 https://huseinhouse-storage.s3-ap-southeast-1.amazonaws.com/speech/2x5%2520Ep%25208.mp3 39\n"
     ]
    },
    {
     "name": "stderr",
     "output_type": "stream",
     "text": [
      "100%|██████████| 39/39 [01:27<00:00,  2.24s/it]\n",
      "  0%|          | 0/39 [00:00<?, ?it/s]"
     ]
    },
    {
     "name": "stdout",
     "output_type": "stream",
     "text": [
      "2x5-Ep-4.mp3 speech/2x5%20Ep%204.mp3 https://huseinhouse-storage.s3-ap-southeast-1.amazonaws.com/speech/2x5%2520Ep%25204.mp3 39\n"
     ]
    },
    {
     "name": "stderr",
     "output_type": "stream",
     "text": [
      "100%|██████████| 39/39 [01:33<00:00,  2.40s/it]\n",
      "  0%|          | 0/38 [00:00<?, ?it/s]"
     ]
    },
    {
     "name": "stdout",
     "output_type": "stream",
     "text": [
      "Cinta-Sup-Bunjut-3.mp3 speech/Cinta%20Sup%20Bunjut%203.mp3 https://huseinhouse-storage.s3-ap-southeast-1.amazonaws.com/speech/Cinta%2520Sup%2520Bunjut%25203.mp3 38\n"
     ]
    },
    {
     "name": "stderr",
     "output_type": "stream",
     "text": [
      "100%|██████████| 38/38 [01:17<00:00,  2.03s/it]\n",
      "  0%|          | 0/42 [00:00<?, ?it/s]"
     ]
    },
    {
     "name": "stdout",
     "output_type": "stream",
     "text": [
      "2x5-Ep-1.mp3 speech/2x5%20Ep%201.mp3 https://huseinhouse-storage.s3-ap-southeast-1.amazonaws.com/speech/2x5%2520Ep%25201.mp3 42\n"
     ]
    },
    {
     "name": "stderr",
     "output_type": "stream",
     "text": [
      "100%|██████████| 42/42 [01:27<00:00,  2.09s/it]\n",
      "  0%|          | 0/42 [00:00<?, ?it/s]"
     ]
    },
    {
     "name": "stdout",
     "output_type": "stream",
     "text": [
      "2x5-Ep-6.mp3 speech/2x5%20Ep%206.mp3 https://huseinhouse-storage.s3-ap-southeast-1.amazonaws.com/speech/2x5%2520Ep%25206.mp3 42\n"
     ]
    },
    {
     "name": "stderr",
     "output_type": "stream",
     "text": [
      "100%|██████████| 42/42 [01:21<00:00,  1.93s/it]\n",
      "  0%|          | 0/43 [00:00<?, ?it/s]"
     ]
    },
    {
     "name": "stdout",
     "output_type": "stream",
     "text": [
      "Tahu-Nak-Makan-Je--Episode-67---Butter-chicken-Fikree.mp3 speech/Tahu%20Nak%20Makan%20Je%20%20Episode%2067%20-%20Butter%20chicken%20Fikree.mp3 https://huseinhouse-storage.s3-ap-southeast-1.amazonaws.com/speech/Tahu%2520Nak%2520Makan%2520Je%2520%2520Episode%252067%2520-%2520Butter%2520chicken%2520Fikree.mp3 43\n"
     ]
    },
    {
     "name": "stderr",
     "output_type": "stream",
     "text": [
      "100%|██████████| 43/43 [00:56<00:00,  1.31s/it]\n",
      "  0%|          | 0/42 [00:00<?, ?it/s]"
     ]
    },
    {
     "name": "stdout",
     "output_type": "stream",
     "text": [
      "2x5-Ep-15.mp3 speech/2x5%20Ep%2015.mp3 https://huseinhouse-storage.s3-ap-southeast-1.amazonaws.com/speech/2x5%2520Ep%252015.mp3 42\n"
     ]
    },
    {
     "name": "stderr",
     "output_type": "stream",
     "text": [
      "100%|██████████| 42/42 [02:15<00:00,  3.23s/it]\n",
      "  0%|          | 0/43 [00:00<?, ?it/s]"
     ]
    },
    {
     "name": "stdout",
     "output_type": "stream",
     "text": [
      "2x5-Ep-7_2.mp3 speech/2x5%20Ep%207_2.mp3 https://huseinhouse-storage.s3-ap-southeast-1.amazonaws.com/speech/2x5%2520Ep%25207_2.mp3 43\n"
     ]
    },
    {
     "name": "stderr",
     "output_type": "stream",
     "text": [
      "100%|██████████| 43/43 [01:30<00:00,  2.10s/it]\n",
      "  0%|          | 0/46 [00:00<?, ?it/s]"
     ]
    },
    {
     "name": "stdout",
     "output_type": "stream",
     "text": [
      "Tahu-Nak-Makan-Je--Episode-70---Ayam-mentega-telur-masin.mp3 speech/Tahu%20Nak%20Makan%20Je%20%20Episode%2070%20-%20Ayam%20mentega%20telur%20masin.mp3 https://huseinhouse-storage.s3-ap-southeast-1.amazonaws.com/speech/Tahu%2520Nak%2520Makan%2520Je%2520%2520Episode%252070%2520-%2520Ayam%2520mentega%2520telur%2520masin.mp3 46\n"
     ]
    },
    {
     "name": "stderr",
     "output_type": "stream",
     "text": [
      "100%|██████████| 46/46 [01:00<00:00,  1.32s/it]\n",
      "  0%|          | 0/49 [00:00<?, ?it/s]"
     ]
    },
    {
     "name": "stdout",
     "output_type": "stream",
     "text": [
      "Tahu-Nak-Makan-Je--Episode-68---Masak-kicap-pedas-ikan-tenggiri.mp3 speech/Tahu%20Nak%20Makan%20Je%20%20Episode%2068%20-%20Masak%20kicap%20pedas%20ikan%20tenggiri.mp3 https://huseinhouse-storage.s3-ap-southeast-1.amazonaws.com/speech/Tahu%2520Nak%2520Makan%2520Je%2520%2520Episode%252068%2520-%2520Masak%2520kicap%2520pedas%2520ikan%2520tenggiri.mp3 49\n"
     ]
    },
    {
     "name": "stderr",
     "output_type": "stream",
     "text": [
      "100%|██████████| 49/49 [01:12<00:00,  1.48s/it]\n",
      "  0%|          | 0/50 [00:00<?, ?it/s]"
     ]
    },
    {
     "name": "stdout",
     "output_type": "stream",
     "text": [
      "Tahu-Nak-Makan-Je--Episode-72---Ikan-masak-asam.mp3 speech/Tahu%20Nak%20Makan%20Je%20%20Episode%2072%20-%20Ikan%20masak%20asam.mp3 https://huseinhouse-storage.s3-ap-southeast-1.amazonaws.com/speech/Tahu%2520Nak%2520Makan%2520Je%2520%2520Episode%252072%2520-%2520Ikan%2520masak%2520asam.mp3 50\n"
     ]
    },
    {
     "name": "stderr",
     "output_type": "stream",
     "text": [
      "100%|██████████| 50/50 [01:06<00:00,  1.33s/it]\n",
      "  0%|          | 0/50 [00:00<?, ?it/s]"
     ]
    },
    {
     "name": "stdout",
     "output_type": "stream",
     "text": [
      "Tahu-Nak-Makan-Je--Episode-58---Bubur-Lambok.mp3 speech/Tahu%20Nak%20Makan%20Je%20%20Episode%2058%20-%20Bubur%20Lambok.mp3 https://huseinhouse-storage.s3-ap-southeast-1.amazonaws.com/speech/Tahu%2520Nak%2520Makan%2520Je%2520%2520Episode%252058%2520-%2520Bubur%2520Lambok.mp3 50\n"
     ]
    },
    {
     "name": "stderr",
     "output_type": "stream",
     "text": [
      "100%|██████████| 50/50 [01:04<00:00,  1.29s/it]\n",
      "  0%|          | 0/51 [00:00<?, ?it/s]"
     ]
    },
    {
     "name": "stdout",
     "output_type": "stream",
     "text": [
      "Tahu-Nak-Makan-Je--Episode-43---Daging-Kerutup.mp3 speech/Tahu%20Nak%20Makan%20Je%20%20Episode%2043%20-%20Daging%20Kerutup.mp3 https://huseinhouse-storage.s3-ap-southeast-1.amazonaws.com/speech/Tahu%2520Nak%2520Makan%2520Je%2520%2520Episode%252043%2520-%2520Daging%2520Kerutup.mp3 51\n"
     ]
    },
    {
     "name": "stderr",
     "output_type": "stream",
     "text": [
      "100%|██████████| 51/51 [01:08<00:00,  1.35s/it]\n",
      "  0%|          | 0/52 [00:00<?, ?it/s]"
     ]
    },
    {
     "name": "stdout",
     "output_type": "stream",
     "text": [
      "Episode-05---Seram-doh!--Ada-ke-patut_2.mp3 speech/Episode%2005%20-%20Seram%20doh!%20%20Ada%20ke%20patut_2.mp3 https://huseinhouse-storage.s3-ap-southeast-1.amazonaws.com/speech/Episode%252005%2520-%2520Seram%2520doh%21%2520%2520Ada%2520ke%2520patut_2.mp3 52\n"
     ]
    },
    {
     "name": "stderr",
     "output_type": "stream",
     "text": [
      "100%|██████████| 52/52 [02:57<00:00,  3.41s/it]\n",
      "  0%|          | 0/51 [00:00<?, ?it/s]"
     ]
    },
    {
     "name": "stdout",
     "output_type": "stream",
     "text": [
      "Tahu-Nak-Makan-Je--Episode-69---Sup-tahu-telur.mp3 speech/Tahu%20Nak%20Makan%20Je%20%20Episode%2069%20-%20Sup%20tahu%20telur.mp3 https://huseinhouse-storage.s3-ap-southeast-1.amazonaws.com/speech/Tahu%2520Nak%2520Makan%2520Je%2520%2520Episode%252069%2520-%2520Sup%2520tahu%2520telur.mp3 51\n"
     ]
    },
    {
     "name": "stderr",
     "output_type": "stream",
     "text": [
      "100%|██████████| 51/51 [01:08<00:00,  1.35s/it]\n",
      "  0%|          | 0/49 [00:00<?, ?it/s]"
     ]
    },
    {
     "name": "stdout",
     "output_type": "stream",
     "text": [
      "Paranormal--Episode-84---Maghrib-di-Rumah-Banglo-Cameron-Highland.mp3 speech/Paranormal%20%20Episode%2084%20-%20Maghrib%20di%20Rumah%20Banglo%20Cameron%20Highland.mp3 https://huseinhouse-storage.s3-ap-southeast-1.amazonaws.com/speech/Paranormal%2520%2520Episode%252084%2520-%2520Maghrib%2520di%2520Rumah%2520Banglo%2520Cameron%2520Highland.mp3 49\n"
     ]
    },
    {
     "name": "stderr",
     "output_type": "stream",
     "text": [
      "100%|██████████| 49/49 [01:52<00:00,  2.29s/it]\n",
      "  0%|          | 0/53 [00:00<?, ?it/s]"
     ]
    },
    {
     "name": "stdout",
     "output_type": "stream",
     "text": [
      "Tahu-Nak-Makan-Je--Episode-64---Kek-Sarang-Lebah.mp3 speech/Tahu%20Nak%20Makan%20Je%20%20Episode%2064%20-%20Kek%20Sarang%20Lebah.mp3 https://huseinhouse-storage.s3-ap-southeast-1.amazonaws.com/speech/Tahu%2520Nak%2520Makan%2520Je%2520%2520Episode%252064%2520-%2520Kek%2520Sarang%2520Lebah.mp3 53\n"
     ]
    },
    {
     "name": "stderr",
     "output_type": "stream",
     "text": [
      "100%|██████████| 53/53 [01:10<00:00,  1.33s/it]\n",
      "  0%|          | 0/55 [00:00<?, ?it/s]"
     ]
    },
    {
     "name": "stdout",
     "output_type": "stream",
     "text": [
      "Episode-12---Drama-peminat-fanatik-di-Malaysia--Ada-ke-patut.mp3 speech/Episode%2012%20-%20Drama%20peminat%20fanatik%20di%20Malaysia%20%20Ada%20ke%20patut.mp3 https://huseinhouse-storage.s3-ap-southeast-1.amazonaws.com/speech/Episode%252012%2520-%2520Drama%2520peminat%2520fanatik%2520di%2520Malaysia%2520%2520Ada%2520ke%2520patut.mp3 55\n"
     ]
    },
    {
     "name": "stderr",
     "output_type": "stream",
     "text": [
      "100%|██████████| 55/55 [03:29<00:00,  3.80s/it]\n",
      "  0%|          | 0/54 [00:00<?, ?it/s]"
     ]
    },
    {
     "name": "stdout",
     "output_type": "stream",
     "text": [
      "Paranormal--Episode-65---Gangguan-Berek-tentera.mp3 speech/Paranormal%20%20Episode%2065%20-%20Gangguan%20Berek%20tentera.mp3 https://huseinhouse-storage.s3-ap-southeast-1.amazonaws.com/speech/Paranormal%2520%2520Episode%252065%2520-%2520Gangguan%2520Berek%2520tentera.mp3 54\n"
     ]
    },
    {
     "name": "stderr",
     "output_type": "stream",
     "text": [
      "100%|██████████| 54/54 [01:59<00:00,  2.22s/it]\n",
      "  0%|          | 0/55 [00:00<?, ?it/s]"
     ]
    },
    {
     "name": "stdout",
     "output_type": "stream",
     "text": [
      "Tahu-Nak-Makan-Je--Episode-63---Kek-Marble-lembut.mp3 speech/Tahu%20Nak%20Makan%20Je%20%20Episode%2063%20-%20Kek%20Marble%20lembut.mp3 https://huseinhouse-storage.s3-ap-southeast-1.amazonaws.com/speech/Tahu%2520Nak%2520Makan%2520Je%2520%2520Episode%252063%2520-%2520Kek%2520Marble%2520lembut.mp3 55\n"
     ]
    },
    {
     "name": "stderr",
     "output_type": "stream",
     "text": [
      "100%|██████████| 55/55 [01:06<00:00,  1.22s/it]\n",
      "  0%|          | 0/55 [00:00<?, ?it/s]"
     ]
    },
    {
     "name": "stdout",
     "output_type": "stream",
     "text": [
      "Tahu-Nak-Makan-Je--Episode-50---Daging-goreng-cili-berhalia.mp3 speech/Tahu%20Nak%20Makan%20Je%20%20Episode%2050%20-%20Daging%20goreng%20cili%20berhalia.mp3 https://huseinhouse-storage.s3-ap-southeast-1.amazonaws.com/speech/Tahu%2520Nak%2520Makan%2520Je%2520%2520Episode%252050%2520-%2520Daging%2520goreng%2520cili%2520berhalia.mp3 55\n"
     ]
    },
    {
     "name": "stderr",
     "output_type": "stream",
     "text": [
      "100%|██████████| 55/55 [01:18<00:00,  1.43s/it]\n",
      "  0%|          | 0/55 [00:00<?, ?it/s]"
     ]
    },
    {
     "name": "stdout",
     "output_type": "stream",
     "text": [
      "Episode-02---Azam-kau-yang-kecundang!--Ada-ke-patut.mp3 speech/Episode%2002%20-%20Azam%20kau%20yang%20kecundang!%20%20Ada%20ke%20patut.mp3 https://huseinhouse-storage.s3-ap-southeast-1.amazonaws.com/speech/Episode%252002%2520-%2520Azam%2520kau%2520yang%2520kecundang%21%2520%2520Ada%2520ke%2520patut.mp3 55\n"
     ]
    },
    {
     "name": "stderr",
     "output_type": "stream",
     "text": [
      "100%|██████████| 55/55 [03:12<00:00,  3.50s/it]\n",
      "  0%|          | 0/56 [00:00<?, ?it/s]"
     ]
    },
    {
     "name": "stdout",
     "output_type": "stream",
     "text": [
      "Tahu-Nak-Makan-Je--Episode-65---Kek-Pisang.mp3 speech/Tahu%20Nak%20Makan%20Je%20%20Episode%2065%20-%20Kek%20Pisang.mp3 https://huseinhouse-storage.s3-ap-southeast-1.amazonaws.com/speech/Tahu%2520Nak%2520Makan%2520Je%2520%2520Episode%252065%2520-%2520Kek%2520Pisang.mp3 56\n"
     ]
    },
    {
     "name": "stderr",
     "output_type": "stream",
     "text": [
      "100%|██████████| 56/56 [01:11<00:00,  1.27s/it]\n",
      "  0%|          | 0/56 [00:00<?, ?it/s]"
     ]
    },
    {
     "name": "stdout",
     "output_type": "stream",
     "text": [
      "Tahu-Nak-Makan-Je--Episode-66---Sambal-hijau-petai.mp3 speech/Tahu%20Nak%20Makan%20Je%20%20Episode%2066%20-%20Sambal%20hijau%20petai.mp3 https://huseinhouse-storage.s3-ap-southeast-1.amazonaws.com/speech/Tahu%2520Nak%2520Makan%2520Je%2520%2520Episode%252066%2520-%2520Sambal%2520hijau%2520petai.mp3 56\n"
     ]
    },
    {
     "name": "stderr",
     "output_type": "stream",
     "text": [
      "100%|██████████| 56/56 [01:12<00:00,  1.29s/it]\n",
      "  0%|          | 0/56 [00:00<?, ?it/s]"
     ]
    },
    {
     "name": "stdout",
     "output_type": "stream",
     "text": [
      "Tahu-Nak-Makan-Je--Episode-41---Mee-Bandung.mp3 speech/Tahu%20Nak%20Makan%20Je%20%20Episode%2041%20-%20Mee%20Bandung.mp3 https://huseinhouse-storage.s3-ap-southeast-1.amazonaws.com/speech/Tahu%2520Nak%2520Makan%2520Je%2520%2520Episode%252041%2520-%2520Mee%2520Bandung.mp3 56\n"
     ]
    },
    {
     "name": "stderr",
     "output_type": "stream",
     "text": [
      "100%|██████████| 56/56 [01:10<00:00,  1.26s/it]\n",
      "  0%|          | 0/57 [00:00<?, ?it/s]"
     ]
    },
    {
     "name": "stdout",
     "output_type": "stream",
     "text": [
      "Tahu-Nak-Makan-Je--Episode-56---Ayam-Pakrapow-pakapow!.mp3 speech/Tahu%20Nak%20Makan%20Je%20%20Episode%2056%20-%20Ayam%20Pakrapow%20pakapow!.mp3 https://huseinhouse-storage.s3-ap-southeast-1.amazonaws.com/speech/Tahu%2520Nak%2520Makan%2520Je%2520%2520Episode%252056%2520-%2520Ayam%2520Pakrapow%2520pakapow%21.mp3 57\n"
     ]
    },
    {
     "name": "stderr",
     "output_type": "stream",
     "text": [
      "100%|██████████| 57/57 [01:26<00:00,  1.51s/it]\n",
      "  0%|          | 0/57 [00:00<?, ?it/s]"
     ]
    },
    {
     "name": "stdout",
     "output_type": "stream",
     "text": [
      "Episode-15---Superhero,-superpower-apa-kau-nak--Ada-ke-patut.mp3 speech/Episode%2015%20-%20Superhero%2C%20superpower%20apa%20kau%20nak%20%20Ada%20ke%20patut.mp3 https://huseinhouse-storage.s3-ap-southeast-1.amazonaws.com/speech/Episode%252015%2520-%2520Superhero%252C%2520superpower%2520apa%2520kau%2520nak%2520%2520Ada%2520ke%2520patut.mp3 57\n"
     ]
    },
    {
     "name": "stderr",
     "output_type": "stream",
     "text": [
      "100%|██████████| 57/57 [02:55<00:00,  3.07s/it]\n",
      "  0%|          | 0/56 [00:00<?, ?it/s]"
     ]
    },
    {
     "name": "stdout",
     "output_type": "stream",
     "text": [
      "Tahu-Nak-Makan-Je--Episode-60---Stew-Kambing.mp3 speech/Tahu%20Nak%20Makan%20Je%20%20Episode%2060%20-%20Stew%20Kambing.mp3 https://huseinhouse-storage.s3-ap-southeast-1.amazonaws.com/speech/Tahu%2520Nak%2520Makan%2520Je%2520%2520Episode%252060%2520-%2520Stew%2520Kambing.mp3 56\n"
     ]
    },
    {
     "name": "stderr",
     "output_type": "stream",
     "text": [
      "100%|██████████| 56/56 [01:09<00:00,  1.25s/it]\n",
      "  0%|          | 0/56 [00:00<?, ?it/s]"
     ]
    },
    {
     "name": "stdout",
     "output_type": "stream",
     "text": [
      "Tahu-Nak-Makan-Je--Episode-31---Ayam-Masak-Merah-.mp3 speech/Tahu%20Nak%20Makan%20Je%20%20Episode%2031%20-%20Ayam%20Masak%20Merah%20.mp3 https://huseinhouse-storage.s3-ap-southeast-1.amazonaws.com/speech/Tahu%2520Nak%2520Makan%2520Je%2520%2520Episode%252031%2520-%2520Ayam%2520Masak%2520Merah%2520.mp3 56\n"
     ]
    },
    {
     "name": "stderr",
     "output_type": "stream",
     "text": [
      "100%|██████████| 56/56 [01:13<00:00,  1.32s/it]\n",
      "  0%|          | 0/58 [00:00<?, ?it/s]"
     ]
    },
    {
     "name": "stdout",
     "output_type": "stream",
     "text": [
      "Episode-14---Drama-break-up!--Ada-ke-patut.mp3 speech/Episode%2014%20-%20Drama%20break-up%21%20%20Ada%20ke%20patut.mp3 https://huseinhouse-storage.s3-ap-southeast-1.amazonaws.com/speech/Episode%252014%2520-%2520Drama%2520break-up%2521%2520%2520Ada%2520ke%2520patut.mp3 58\n"
     ]
    },
    {
     "name": "stderr",
     "output_type": "stream",
     "text": [
      "100%|██████████| 58/58 [03:15<00:00,  3.38s/it]\n",
      "  0%|          | 0/57 [00:00<?, ?it/s]"
     ]
    },
    {
     "name": "stdout",
     "output_type": "stream",
     "text": [
      "Tahu-Nak-Makan-Je--Episode-49---Ayam-Masam-manis.mp3 speech/Tahu%20Nak%20Makan%20Je%20%20Episode%2049%20-%20Ayam%20Masam%20manis.mp3 https://huseinhouse-storage.s3-ap-southeast-1.amazonaws.com/speech/Tahu%2520Nak%2520Makan%2520Je%2520%2520Episode%252049%2520-%2520Ayam%2520Masam%2520manis.mp3 57\n"
     ]
    },
    {
     "name": "stderr",
     "output_type": "stream",
     "text": [
      "100%|██████████| 57/57 [01:16<00:00,  1.35s/it]\n",
      "  0%|          | 0/57 [00:00<?, ?it/s]"
     ]
    },
    {
     "name": "stdout",
     "output_type": "stream",
     "text": [
      "Episode-06---Budak-90an-jer-tahu!--Ada-ke-patut.mp3 speech/Episode%2006%20-%20Budak%2090an%20jer%20tahu!%20%20Ada%20ke%20patut.mp3 https://huseinhouse-storage.s3-ap-southeast-1.amazonaws.com/speech/Episode%252006%2520-%2520Budak%252090an%2520jer%2520tahu%21%2520%2520Ada%2520ke%2520patut.mp3 57\n"
     ]
    },
    {
     "name": "stderr",
     "output_type": "stream",
     "text": [
      "100%|██████████| 57/57 [03:26<00:00,  3.62s/it]\n",
      "  0%|          | 0/57 [00:00<?, ?it/s]"
     ]
    },
    {
     "name": "stdout",
     "output_type": "stream",
     "text": [
      "Episode-01----Zaman-fantasi-kanak-kanak-aku!--Ada-ke-patut.mp3 speech/Episode%2001%20-%20%20Zaman%20fantasi%20kanak-kanak%20aku!%20%20Ada%20ke%20patut.mp3 https://huseinhouse-storage.s3-ap-southeast-1.amazonaws.com/speech/Episode%252001%2520-%2520%2520Zaman%2520fantasi%2520kanak-kanak%2520aku%21%2520%2520Ada%2520ke%2520patut.mp3 57\n"
     ]
    },
    {
     "name": "stderr",
     "output_type": "stream",
     "text": [
      "100%|██████████| 57/57 [03:42<00:00,  3.90s/it]\n",
      "  0%|          | 0/57 [00:00<?, ?it/s]"
     ]
    },
    {
     "name": "stdout",
     "output_type": "stream",
     "text": [
      "Paranormal--Episode-41---Mimpi-Ngeri-3.mp3 speech/Paranormal%20%20Episode%2041%20-%20Mimpi%20Ngeri%203.mp3 https://huseinhouse-storage.s3-ap-southeast-1.amazonaws.com/speech/Paranormal%2520%2520Episode%252041%2520-%2520Mimpi%2520Ngeri%25203.mp3 57\n"
     ]
    },
    {
     "name": "stderr",
     "output_type": "stream",
     "text": [
      "100%|██████████| 57/57 [01:41<00:00,  1.77s/it]\n",
      "  0%|          | 0/57 [00:00<?, ?it/s]"
     ]
    },
    {
     "name": "stdout",
     "output_type": "stream",
     "text": [
      "Tahu-Nak-Makan-Je--Episode-52---Daging-goreng-masak-merah.mp3 speech/Tahu%20Nak%20Makan%20Je%20%20Episode%2052%20-%20Daging%20goreng%20masak%20merah.mp3 https://huseinhouse-storage.s3-ap-southeast-1.amazonaws.com/speech/Tahu%2520Nak%2520Makan%2520Je%2520%2520Episode%252052%2520-%2520Daging%2520goreng%2520masak%2520merah.mp3 57\n"
     ]
    },
    {
     "name": "stderr",
     "output_type": "stream",
     "text": [
      "100%|██████████| 57/57 [01:16<00:00,  1.35s/it]\n",
      "  0%|          | 0/58 [00:00<?, ?it/s]"
     ]
    },
    {
     "name": "stdout",
     "output_type": "stream",
     "text": [
      "Paranormal--Episode-39---Mimpi-Ngeri-.mp3 speech/Paranormal%20%20Episode%2039%20-%20Mimpi%20Ngeri%20.mp3 https://huseinhouse-storage.s3-ap-southeast-1.amazonaws.com/speech/Paranormal%2520%2520Episode%252039%2520-%2520Mimpi%2520Ngeri%2520.mp3 58\n"
     ]
    },
    {
     "name": "stderr",
     "output_type": "stream",
     "text": [
      "100%|██████████| 58/58 [01:42<00:00,  1.77s/it]\n",
      "  0%|          | 0/57 [00:00<?, ?it/s]"
     ]
    },
    {
     "name": "stdout",
     "output_type": "stream",
     "text": [
      "Tahu-Nak-Makan-Je--Episode-61---Rendang-Tok.mp3 speech/Tahu%20Nak%20Makan%20Je%20%20Episode%2061%20-%20Rendang%20Tok.mp3 https://huseinhouse-storage.s3-ap-southeast-1.amazonaws.com/speech/Tahu%2520Nak%2520Makan%2520Je%2520%2520Episode%252061%2520-%2520Rendang%2520Tok.mp3 57\n"
     ]
    },
    {
     "name": "stderr",
     "output_type": "stream",
     "text": [
      "100%|██████████| 57/57 [01:11<00:00,  1.25s/it]\n",
      "  0%|          | 0/57 [00:00<?, ?it/s]"
     ]
    },
    {
     "name": "stdout",
     "output_type": "stream",
     "text": [
      "Tahu-Nak-Makan-Je--Episode-62---Kari-itik-Utara.mp3 speech/Tahu%20Nak%20Makan%20Je%20%20Episode%2062%20-%20Kari%20itik%20Utara.mp3 https://huseinhouse-storage.s3-ap-southeast-1.amazonaws.com/speech/Tahu%2520Nak%2520Makan%2520Je%2520%2520Episode%252062%2520-%2520Kari%2520itik%2520Utara.mp3 57\n"
     ]
    },
    {
     "name": "stderr",
     "output_type": "stream",
     "text": [
      "100%|██████████| 57/57 [01:07<00:00,  1.19s/it]\n",
      "  0%|          | 0/58 [00:00<?, ?it/s]"
     ]
    },
    {
     "name": "stdout",
     "output_type": "stream",
     "text": [
      "Episode-02---Mitos-mitos-dalam-Sukan--Perang-Melawan-Mitos.mp3 speech/Episode%2002%20-%20Mitos-mitos%20dalam%20Sukan%20%20Perang%20Melawan%20Mitos.mp3 https://huseinhouse-storage.s3-ap-southeast-1.amazonaws.com/speech/Episode%252002%2520-%2520Mitos-mitos%2520dalam%2520Sukan%2520%2520Perang%2520Melawan%2520Mitos.mp3 58\n"
     ]
    },
    {
     "name": "stderr",
     "output_type": "stream",
     "text": [
      "100%|██████████| 58/58 [01:18<00:00,  1.35s/it]\n",
      "  0%|          | 0/58 [00:00<?, ?it/s]"
     ]
    },
    {
     "name": "stdout",
     "output_type": "stream",
     "text": [
      "Tahu-Nak-Makan-Je--Episode-55---Tempoyak-Perak.mp3 speech/Tahu%20Nak%20Makan%20Je%20%20Episode%2055%20-%20Tempoyak%20Perak.mp3 https://huseinhouse-storage.s3-ap-southeast-1.amazonaws.com/speech/Tahu%2520Nak%2520Makan%2520Je%2520%2520Episode%252055%2520-%2520Tempoyak%2520Perak.mp3 58\n"
     ]
    },
    {
     "name": "stderr",
     "output_type": "stream",
     "text": [
      "100%|██████████| 58/58 [01:21<00:00,  1.41s/it]\n",
      "  0%|          | 0/58 [00:00<?, ?it/s]"
     ]
    },
    {
     "name": "stdout",
     "output_type": "stream",
     "text": [
      "Episode-01---Mitos-Kesihatan-membawa-padah!--Perang-Melawan-Mitos.mp3 speech/Episode%2001%20-%20Mitos%20Kesihatan%20membawa%20padah!%20%20Perang%20Melawan%20Mitos.mp3 https://huseinhouse-storage.s3-ap-southeast-1.amazonaws.com/speech/Episode%252001%2520-%2520Mitos%2520Kesihatan%2520membawa%2520padah%21%2520%2520Perang%2520Melawan%2520Mitos.mp3 58\n"
     ]
    },
    {
     "name": "stderr",
     "output_type": "stream",
     "text": [
      "100%|██████████| 58/58 [01:30<00:00,  1.57s/it]\n",
      "  0%|          | 0/58 [00:00<?, ?it/s]"
     ]
    },
    {
     "name": "stdout",
     "output_type": "stream",
     "text": [
      "Tahu-Nak-Makan-Je--Episode-59---Nasi-Mandi-Kambing.mp3 speech/Tahu%20Nak%20Makan%20Je%20%20Episode%2059%20-%20Nasi%20Mandi%20Kambing.mp3 https://huseinhouse-storage.s3-ap-southeast-1.amazonaws.com/speech/Tahu%2520Nak%2520Makan%2520Je%2520%2520Episode%252059%2520-%2520Nasi%2520Mandi%2520Kambing.mp3 58\n"
     ]
    },
    {
     "name": "stderr",
     "output_type": "stream",
     "text": [
      "100%|██████████| 58/58 [01:10<00:00,  1.21s/it]\n",
      "  0%|          | 0/58 [00:00<?, ?it/s]"
     ]
    },
    {
     "name": "stdout",
     "output_type": "stream",
     "text": [
      "Tahu-Nak-Makan-Je--Episode-47---Daging-Salai-Pisang-Muda.mp3 speech/Tahu%20Nak%20Makan%20Je%20%20Episode%2047%20-%20Daging%20Salai%20Pisang%20Muda.mp3 https://huseinhouse-storage.s3-ap-southeast-1.amazonaws.com/speech/Tahu%2520Nak%2520Makan%2520Je%2520%2520Episode%252047%2520-%2520Daging%2520Salai%2520Pisang%2520Muda.mp3 58\n"
     ]
    },
    {
     "name": "stderr",
     "output_type": "stream",
     "text": [
      "100%|██████████| 58/58 [01:18<00:00,  1.36s/it]\n",
      "  0%|          | 0/59 [00:00<?, ?it/s]"
     ]
    },
    {
     "name": "stdout",
     "output_type": "stream",
     "text": [
      "Tahu-Nak-Makan-Je--Episode-40---Kuah-Asam-Laksa---.mp3 speech/Tahu%20Nak%20Makan%20Je%20%20Episode%2040%20-%20Kuah%20Asam%20Laksa%20%20%20.mp3 https://huseinhouse-storage.s3-ap-southeast-1.amazonaws.com/speech/Tahu%2520Nak%2520Makan%2520Je%2520%2520Episode%252040%2520-%2520Kuah%2520Asam%2520Laksa%2520%2520%2520.mp3 59\n"
     ]
    },
    {
     "name": "stderr",
     "output_type": "stream",
     "text": [
      "100%|██████████| 59/59 [01:08<00:00,  1.16s/it]\n",
      "  0%|          | 0/59 [00:00<?, ?it/s]"
     ]
    },
    {
     "name": "stdout",
     "output_type": "stream",
     "text": [
      "Tahu-Nak-Makan-Je--Episode-51---Kari-Sardin-dengan-terung.mp3 speech/Tahu%20Nak%20Makan%20Je%20%20Episode%2051%20-%20Kari%20Sardin%20dengan%20terung.mp3 https://huseinhouse-storage.s3-ap-southeast-1.amazonaws.com/speech/Tahu%2520Nak%2520Makan%2520Je%2520%2520Episode%252051%2520-%2520Kari%2520Sardin%2520dengan%2520terung.mp3 59\n"
     ]
    },
    {
     "name": "stderr",
     "output_type": "stream",
     "text": [
      "100%|██████████| 59/59 [01:24<00:00,  1.42s/it]\n",
      "  0%|          | 0/58 [00:00<?, ?it/s]"
     ]
    },
    {
     "name": "stdout",
     "output_type": "stream",
     "text": [
      "Tahu-Nak-Makan-Je--Episode-42---Beriyani-Ayam-berempah.mp3 speech/Tahu%20Nak%20Makan%20Je%20%20Episode%2042%20-%20Beriyani%20Ayam%20berempah.mp3 https://huseinhouse-storage.s3-ap-southeast-1.amazonaws.com/speech/Tahu%2520Nak%2520Makan%2520Je%2520%2520Episode%252042%2520-%2520Beriyani%2520Ayam%2520berempah.mp3 58\n"
     ]
    },
    {
     "name": "stderr",
     "output_type": "stream",
     "text": [
      "100%|██████████| 58/58 [01:15<00:00,  1.31s/it]\n",
      "  0%|          | 0/60 [00:00<?, ?it/s]"
     ]
    },
    {
     "name": "stdout",
     "output_type": "stream",
     "text": [
      "Paranormal--Episode-71---Kisah-belakang-tabir-entiti..mp3 speech/Paranormal%20%20Episode%2071%20-%20Kisah%20belakang%20tabir%20entiti..mp3 https://huseinhouse-storage.s3-ap-southeast-1.amazonaws.com/speech/Paranormal%2520%2520Episode%252071%2520-%2520Kisah%2520belakang%2520tabir%2520entiti..mp3 60\n"
     ]
    },
    {
     "name": "stderr",
     "output_type": "stream",
     "text": [
      "100%|██████████| 60/60 [02:02<00:00,  2.05s/it]\n",
      "  0%|          | 0/61 [00:00<?, ?it/s]"
     ]
    },
    {
     "name": "stdout",
     "output_type": "stream",
     "text": [
      "Episode-81---Rumah-sewa-Cameron-Highland.mp3 speech/Episode%2081%20-%20Rumah%20sewa%20Cameron%20Highland.mp3 https://huseinhouse-storage.s3-ap-southeast-1.amazonaws.com/speech/Episode%252081%2520-%2520Rumah%2520sewa%2520Cameron%2520Highland.mp3 61\n"
     ]
    },
    {
     "name": "stderr",
     "output_type": "stream",
     "text": [
      "100%|██████████| 61/61 [01:45<00:00,  1.73s/it]\n",
      "  0%|          | 0/60 [00:00<?, ?it/s]"
     ]
    },
    {
     "name": "stdout",
     "output_type": "stream",
     "text": [
      "Tahu-Nak-Makan-Je--Episode-33---Udang-Masak-Serai-Wangi-.mp3 speech/Tahu%20Nak%20Makan%20Je%20%20Episode%2033%20-%20Udang%20Masak%20Serai%20Wangi%20.mp3 https://huseinhouse-storage.s3-ap-southeast-1.amazonaws.com/speech/Tahu%2520Nak%2520Makan%2520Je%2520%2520Episode%252033%2520-%2520Udang%2520Masak%2520Serai%2520Wangi%2520.mp3 60\n"
     ]
    },
    {
     "name": "stderr",
     "output_type": "stream",
     "text": [
      "100%|██████████| 60/60 [01:18<00:00,  1.30s/it]\n",
      "  0%|          | 0/59 [00:00<?, ?it/s]"
     ]
    },
    {
     "name": "stdout",
     "output_type": "stream",
     "text": [
      "Tahu-Nak-Makan-Je--Episode-46---Daging-Goreng-Kailan.mp3 speech/Tahu%20Nak%20Makan%20Je%20%20Episode%2046%20-%20Daging%20Goreng%20Kailan.mp3 https://huseinhouse-storage.s3-ap-southeast-1.amazonaws.com/speech/Tahu%2520Nak%2520Makan%2520Je%2520%2520Episode%252046%2520-%2520Daging%2520Goreng%2520Kailan.mp3 59\n"
     ]
    },
    {
     "name": "stderr",
     "output_type": "stream",
     "text": [
      "100%|██████████| 59/59 [01:19<00:00,  1.35s/it]\n",
      "  0%|          | 0/60 [00:00<?, ?it/s]"
     ]
    },
    {
     "name": "stdout",
     "output_type": "stream",
     "text": [
      "Episode-07---Drama-bila-Mak-mak-marah!--Ada-ke-patut_2.mp3 speech/Episode%2007%20-%20Drama%20bila%20Mak-mak%20marah!%20%20Ada%20ke%20patut_2.mp3 https://huseinhouse-storage.s3-ap-southeast-1.amazonaws.com/speech/Episode%252007%2520-%2520Drama%2520bila%2520Mak-mak%2520marah%21%2520%2520Ada%2520ke%2520patut_2.mp3 60\n"
     ]
    },
    {
     "name": "stderr",
     "output_type": "stream",
     "text": [
      "100%|██████████| 60/60 [03:22<00:00,  3.38s/it]\n",
      "  0%|          | 0/60 [00:00<?, ?it/s]"
     ]
    },
    {
     "name": "stdout",
     "output_type": "stream",
     "text": [
      "Episode-03---Meruang--Perang-Melawan-Mitos.mp3 speech/Episode%2003%20-%20Meruang%20%20Perang%20Melawan%20Mitos.mp3 https://huseinhouse-storage.s3-ap-southeast-1.amazonaws.com/speech/Episode%252003%2520-%2520Meruang%2520%2520Perang%2520Melawan%2520Mitos.mp3 60\n"
     ]
    },
    {
     "name": "stderr",
     "output_type": "stream",
     "text": [
      "100%|██████████| 60/60 [02:06<00:00,  2.11s/it]\n",
      "  0%|          | 0/61 [00:00<?, ?it/s]"
     ]
    },
    {
     "name": "stdout",
     "output_type": "stream",
     "text": [
      "Episode-03---Zaman-sekolah-aku,-hambar--Ada-ke-patut_2.mp3 speech/Episode%2003%20-%20Zaman%20sekolah%20aku,%20hambar%20%20Ada%20ke%20patut_2.mp3 https://huseinhouse-storage.s3-ap-southeast-1.amazonaws.com/speech/Episode%252003%2520-%2520Zaman%2520sekolah%2520aku%2C%2520hambar%2520%2520Ada%2520ke%2520patut_2.mp3 61\n"
     ]
    },
    {
     "name": "stderr",
     "output_type": "stream",
     "text": [
      "100%|██████████| 61/61 [03:16<00:00,  3.22s/it]\n",
      "  0%|          | 0/61 [00:00<?, ?it/s]"
     ]
    },
    {
     "name": "stdout",
     "output_type": "stream",
     "text": [
      "Paranormal--Episode-74---Askar-celupar-bawa-padah!.mp3 speech/Paranormal%20%20Episode%2074%20-%20Askar%20celupar%20bawa%20padah%21.mp3 https://huseinhouse-storage.s3-ap-southeast-1.amazonaws.com/speech/Paranormal%2520%2520Episode%252074%2520-%2520Askar%2520celupar%2520bawa%2520padah%2521.mp3 61\n"
     ]
    },
    {
     "name": "stderr",
     "output_type": "stream",
     "text": [
      "100%|██████████| 61/61 [01:48<00:00,  1.79s/it]\n",
      "  0%|          | 0/60 [00:00<?, ?it/s]"
     ]
    },
    {
     "name": "stdout",
     "output_type": "stream",
     "text": [
      "Paranormal--Episode-40---Mimpi-Ngeri-2.mp3 speech/Paranormal%20%20Episode%2040%20-%20Mimpi%20Ngeri%202.mp3 https://huseinhouse-storage.s3-ap-southeast-1.amazonaws.com/speech/Paranormal%2520%2520Episode%252040%2520-%2520Mimpi%2520Ngeri%25202.mp3 60\n"
     ]
    },
    {
     "name": "stderr",
     "output_type": "stream",
     "text": [
      "100%|██████████| 60/60 [01:43<00:00,  1.73s/it]\n",
      "  0%|          | 0/62 [00:00<?, ?it/s]"
     ]
    },
    {
     "name": "stdout",
     "output_type": "stream",
     "text": [
      "Episode-11---Drama-drama-kahwin!--Ada-ke-patut.mp3 speech/Episode%2011%20-%20Drama-drama%20kahwin%21%20%20Ada%20ke%20patut.mp3 https://huseinhouse-storage.s3-ap-southeast-1.amazonaws.com/speech/Episode%252011%2520-%2520Drama-drama%2520kahwin%2521%2520%2520Ada%2520ke%2520patut.mp3 62\n"
     ]
    },
    {
     "name": "stderr",
     "output_type": "stream",
     "text": [
      "100%|██████████| 62/62 [03:22<00:00,  3.26s/it]\n",
      "  0%|          | 0/61 [00:00<?, ?it/s]"
     ]
    },
    {
     "name": "stdout",
     "output_type": "stream",
     "text": [
      "Tahu-Nak-Makan-Je--Episode-32---Nasi-AL-Ambra-.mp3 speech/Tahu%20Nak%20Makan%20Je%20%20Episode%2032%20-%20Nasi%20AL%20Ambra%20.mp3 https://huseinhouse-storage.s3-ap-southeast-1.amazonaws.com/speech/Tahu%2520Nak%2520Makan%2520Je%2520%2520Episode%252032%2520-%2520Nasi%2520AL%2520Ambra%2520.mp3 61\n"
     ]
    },
    {
     "name": "stderr",
     "output_type": "stream",
     "text": [
      "100%|██████████| 61/61 [01:18<00:00,  1.29s/it]\n",
      "  0%|          | 0/61 [00:00<?, ?it/s]"
     ]
    },
    {
     "name": "stdout",
     "output_type": "stream",
     "text": [
      "Tahu-Nak-Makan-Je--Episode-36---Ketam-goreng-cili-kering-.mp3 speech/Tahu%20Nak%20Makan%20Je%20%20Episode%2036%20-%20Ketam%20goreng%20cili%20kering%20.mp3 https://huseinhouse-storage.s3-ap-southeast-1.amazonaws.com/speech/Tahu%2520Nak%2520Makan%2520Je%2520%2520Episode%252036%2520-%2520Ketam%2520goreng%2520cili%2520kering%2520.mp3 61\n"
     ]
    },
    {
     "name": "stderr",
     "output_type": "stream",
     "text": [
      "100%|██████████| 61/61 [01:17<00:00,  1.27s/it]\n",
      "  0%|          | 0/60 [00:00<?, ?it/s]"
     ]
    },
    {
     "name": "stdout",
     "output_type": "stream",
     "text": [
      "Paranormal--Episode-42---Roh!_2.mp3 speech/Paranormal%20%20Episode%2042%20-%20Roh!_2.mp3 https://huseinhouse-storage.s3-ap-southeast-1.amazonaws.com/speech/Paranormal%2520%2520Episode%252042%2520-%2520Roh%21_2.mp3 60\n"
     ]
    },
    {
     "name": "stderr",
     "output_type": "stream",
     "text": [
      "100%|██████████| 60/60 [01:40<00:00,  1.68s/it]\n",
      "  0%|          | 0/62 [00:00<?, ?it/s]"
     ]
    },
    {
     "name": "stdout",
     "output_type": "stream",
     "text": [
      "Episode-11---Perancangan-Keluarga--Perang-Melawan-Mitos.mp3 speech/Episode%2011%20-%20Perancangan%20Keluarga%20%20Perang%20Melawan%20Mitos.mp3 https://huseinhouse-storage.s3-ap-southeast-1.amazonaws.com/speech/Episode%252011%2520-%2520Perancangan%2520Keluarga%2520%2520Perang%2520Melawan%2520Mitos.mp3 62\n"
     ]
    },
    {
     "name": "stderr",
     "output_type": "stream",
     "text": [
      "100%|██████████| 62/62 [01:34<00:00,  1.52s/it]\n",
      "  0%|          | 0/61 [00:00<?, ?it/s]"
     ]
    },
    {
     "name": "stdout",
     "output_type": "stream",
     "text": [
      "Tahu-Nak-Makan-Je--Episode-35---Sotong-Udang-sumbat-.mp3 speech/Tahu%20Nak%20Makan%20Je%20%20Episode%2035%20-%20Sotong%20Udang%20sumbat%20.mp3 https://huseinhouse-storage.s3-ap-southeast-1.amazonaws.com/speech/Tahu%2520Nak%2520Makan%2520Je%2520%2520Episode%252035%2520-%2520Sotong%2520Udang%2520sumbat%2520.mp3 61\n"
     ]
    },
    {
     "name": "stderr",
     "output_type": "stream",
     "text": [
      "100%|██████████| 61/61 [01:18<00:00,  1.29s/it]\n",
      "  0%|          | 0/63 [00:00<?, ?it/s]"
     ]
    },
    {
     "name": "stdout",
     "output_type": "stream",
     "text": [
      "Episode-04---Kawan-sehidup-semati-jadi-musuh!--Ada-ke-patut.mp3 speech/Episode%2004%20-%20Kawan%20sehidup%20semati%20jadi%20musuh!%20%20Ada%20ke%20patut.mp3 https://huseinhouse-storage.s3-ap-southeast-1.amazonaws.com/speech/Episode%252004%2520-%2520Kawan%2520sehidup%2520semati%2520jadi%2520musuh%21%2520%2520Ada%2520ke%2520patut.mp3 63\n"
     ]
    },
    {
     "name": "stderr",
     "output_type": "stream",
     "text": [
      "100%|██████████| 63/63 [03:37<00:00,  3.45s/it]\n",
      "  0%|          | 0/62 [00:00<?, ?it/s]"
     ]
    },
    {
     "name": "stdout",
     "output_type": "stream",
     "text": [
      "Paranormal--Episode-50---Penunggu-Hotel.mp3 speech/Paranormal%20%20Episode%2050%20-%20Penunggu%20Hotel.mp3 https://huseinhouse-storage.s3-ap-southeast-1.amazonaws.com/speech/Paranormal%2520%2520Episode%252050%2520-%2520Penunggu%2520Hotel.mp3 62\n"
     ]
    },
    {
     "name": "stderr",
     "output_type": "stream",
     "text": [
      "100%|██████████| 62/62 [02:04<00:00,  2.00s/it]\n",
      "  0%|          | 0/62 [00:00<?, ?it/s]"
     ]
    },
    {
     "name": "stdout",
     "output_type": "stream",
     "text": [
      "Tahu-Nak-Makan-Je--Episode-45---Kalio-Ayam.mp3 speech/Tahu%20Nak%20Makan%20Je%20%20Episode%2045%20-%20Kalio%20Ayam.mp3 https://huseinhouse-storage.s3-ap-southeast-1.amazonaws.com/speech/Tahu%2520Nak%2520Makan%2520Je%2520%2520Episode%252045%2520-%2520Kalio%2520Ayam.mp3 62\n"
     ]
    },
    {
     "name": "stderr",
     "output_type": "stream",
     "text": [
      "100%|██████████| 62/62 [01:12<00:00,  1.17s/it]\n",
      "  0%|          | 0/62 [00:00<?, ?it/s]"
     ]
    },
    {
     "name": "stdout",
     "output_type": "stream",
     "text": [
      "Tahu-Nak-Makan-Je--Episode-48---Kupang-goreng-hainan.mp3 speech/Tahu%20Nak%20Makan%20Je%20%20Episode%2048%20-%20Kupang%20goreng%20hainan.mp3 https://huseinhouse-storage.s3-ap-southeast-1.amazonaws.com/speech/Tahu%2520Nak%2520Makan%2520Je%2520%2520Episode%252048%2520-%2520Kupang%2520goreng%2520hainan.mp3 62\n"
     ]
    },
    {
     "name": "stderr",
     "output_type": "stream",
     "text": [
      "100%|██████████| 62/62 [01:19<00:00,  1.28s/it]\n",
      "  0%|          | 0/62 [00:00<?, ?it/s]"
     ]
    },
    {
     "name": "stdout",
     "output_type": "stream",
     "text": [
      "Tahu-Nak-Makan-Je--Episode-44---Rendang-Jantung-Pisang-dan-hati-mempedal.mp3 speech/Tahu%20Nak%20Makan%20Je%20%20Episode%2044%20-%20Rendang%20Jantung%20Pisang%20dan%20hati%20mempedal.mp3 https://huseinhouse-storage.s3-ap-southeast-1.amazonaws.com/speech/Tahu%2520Nak%2520Makan%2520Je%2520%2520Episode%252044%2520-%2520Rendang%2520Jantung%2520Pisang%2520dan%2520hati%2520mempedal.mp3 62\n"
     ]
    },
    {
     "name": "stderr",
     "output_type": "stream",
     "text": [
      "100%|██████████| 62/62 [01:13<00:00,  1.19s/it]\n",
      "  0%|          | 0/62 [00:00<?, ?it/s]"
     ]
    },
    {
     "name": "stdout",
     "output_type": "stream",
     "text": [
      "Tahu-Nak-Makan-Je--Episode-39---Ayam-Masala-bakar-.mp3 speech/Tahu%20Nak%20Makan%20Je%20%20Episode%2039%20-%20Ayam%20Masala%20bakar%20.mp3 https://huseinhouse-storage.s3-ap-southeast-1.amazonaws.com/speech/Tahu%2520Nak%2520Makan%2520Je%2520%2520Episode%252039%2520-%2520Ayam%2520Masala%2520bakar%2520.mp3 62\n"
     ]
    },
    {
     "name": "stderr",
     "output_type": "stream",
     "text": [
      "100%|██████████| 62/62 [01:18<00:00,  1.27s/it]\n",
      "  0%|          | 0/62 [00:00<?, ?it/s]"
     ]
    },
    {
     "name": "stdout",
     "output_type": "stream",
     "text": [
      "Tahu-Nak-Makan-Je--Episode-38---Ikan-steam--.mp3 speech/Tahu%20Nak%20Makan%20Je%20%20Episode%2038%20-%20Ikan%20steam%20%20.mp3 https://huseinhouse-storage.s3-ap-southeast-1.amazonaws.com/speech/Tahu%2520Nak%2520Makan%2520Je%2520%2520Episode%252038%2520-%2520Ikan%2520steam%2520%2520.mp3 62\n"
     ]
    },
    {
     "name": "stderr",
     "output_type": "stream",
     "text": [
      "100%|██████████| 62/62 [01:23<00:00,  1.35s/it]\n",
      "  0%|          | 0/62 [00:00<?, ?it/s]"
     ]
    },
    {
     "name": "stdout",
     "output_type": "stream",
     "text": [
      "Tahu-Nak-Makan-Je--Episode-54---Daging-masak-tauchu.mp3 speech/Tahu%20Nak%20Makan%20Je%20%20Episode%2054%20-%20Daging%20masak%20tauchu.mp3 https://huseinhouse-storage.s3-ap-southeast-1.amazonaws.com/speech/Tahu%2520Nak%2520Makan%2520Je%2520%2520Episode%252054%2520-%2520Daging%2520masak%2520tauchu.mp3 62\n"
     ]
    },
    {
     "name": "stderr",
     "output_type": "stream",
     "text": [
      "100%|██████████| 62/62 [01:25<00:00,  1.38s/it]\n",
      "  0%|          | 0/64 [00:00<?, ?it/s]"
     ]
    },
    {
     "name": "stdout",
     "output_type": "stream",
     "text": [
      "Paranormal--Episode-63---Orang-Tua-India-di-pasung.mp3 speech/Paranormal%20%20Episode%2063%20-%20Orang%20Tua%20India%20di%20pasung.mp3 https://huseinhouse-storage.s3-ap-southeast-1.amazonaws.com/speech/Paranormal%2520%2520Episode%252063%2520-%2520Orang%2520Tua%2520India%2520di%2520pasung.mp3 64\n"
     ]
    },
    {
     "name": "stderr",
     "output_type": "stream",
     "text": [
      "100%|██████████| 64/64 [01:55<00:00,  1.81s/it]\n",
      "  0%|          | 0/63 [00:00<?, ?it/s]"
     ]
    },
    {
     "name": "stdout",
     "output_type": "stream",
     "text": [
      "Episode-08---Mimpi-mimpi-pelik--Ada-ke-patut.mp3 speech/Episode%2008%20-%20Mimpi-mimpi%20pelik%20%20Ada%20ke%20patut.mp3 https://huseinhouse-storage.s3-ap-southeast-1.amazonaws.com/speech/Episode%252008%2520-%2520Mimpi-mimpi%2520pelik%2520%2520Ada%2520ke%2520patut.mp3 63\n"
     ]
    },
    {
     "name": "stderr",
     "output_type": "stream",
     "text": [
      "100%|██████████| 63/63 [03:12<00:00,  3.06s/it]\n",
      "  0%|          | 0/62 [00:00<?, ?it/s]"
     ]
    },
    {
     "name": "stdout",
     "output_type": "stream",
     "text": [
      "Tahu-Nak-Makan-Je--Episode-53---Ikan-masak-asam-Penang.mp3 speech/Tahu%20Nak%20Makan%20Je%20%20Episode%2053%20-%20Ikan%20masak%20asam%20Penang.mp3 https://huseinhouse-storage.s3-ap-southeast-1.amazonaws.com/speech/Tahu%2520Nak%2520Makan%2520Je%2520%2520Episode%252053%2520-%2520Ikan%2520masak%2520asam%2520Penang.mp3 62\n"
     ]
    },
    {
     "name": "stderr",
     "output_type": "stream",
     "text": [
      "100%|██████████| 62/62 [01:20<00:00,  1.31s/it]\n",
      "  0%|          | 0/62 [00:00<?, ?it/s]"
     ]
    },
    {
     "name": "stdout",
     "output_type": "stream",
     "text": [
      "Tahu-Nak-Makan-Je--Episode-57---Sup-Kambing-ala-mamak.mp3 speech/Tahu%20Nak%20Makan%20Je%20%20Episode%2057%20-%20Sup%20Kambing%20ala%20mamak.mp3 https://huseinhouse-storage.s3-ap-southeast-1.amazonaws.com/speech/Tahu%2520Nak%2520Makan%2520Je%2520%2520Episode%252057%2520-%2520Sup%2520Kambing%2520ala%2520mamak.mp3 62\n"
     ]
    },
    {
     "name": "stderr",
     "output_type": "stream",
     "text": [
      "100%|██████████| 62/62 [01:17<00:00,  1.25s/it]\n",
      "  0%|          | 0/63 [00:00<?, ?it/s]"
     ]
    },
    {
     "name": "stdout",
     "output_type": "stream",
     "text": [
      "Episode-17---Puasa-zaman-budak-budak-kitorang!.mp3 speech/Episode%2017%20-%20Puasa%20zaman%20budak-budak%20kitorang%21.mp3 https://huseinhouse-storage.s3-ap-southeast-1.amazonaws.com/speech/Episode%252017%2520-%2520Puasa%2520zaman%2520budak-budak%2520kitorang%2521.mp3 63\n"
     ]
    },
    {
     "name": "stderr",
     "output_type": "stream",
     "text": [
      "100%|██████████| 63/63 [03:29<00:00,  3.33s/it]\n",
      "  0%|          | 0/49 [00:00<?, ?it/s]"
     ]
    },
    {
     "name": "stdout",
     "output_type": "stream",
     "text": [
      "Paranormal--Episode-83---Bomoh-penipu-Gunung-Ledang!.mp3 speech/Paranormal%20%20Episode%2083%20-%20Bomoh%20penipu%20Gunung%20Ledang%21.mp3 https://huseinhouse-storage.s3-ap-southeast-1.amazonaws.com/speech/Paranormal%2520%2520Episode%252083%2520-%2520Bomoh%2520penipu%2520Gunung%2520Ledang%2521.mp3 49\n"
     ]
    },
    {
     "name": "stderr",
     "output_type": "stream",
     "text": [
      "100%|██████████| 49/49 [02:11<00:00,  2.69s/it]\n",
      "  0%|          | 0/64 [00:00<?, ?it/s]"
     ]
    },
    {
     "name": "stdout",
     "output_type": "stream",
     "text": [
      "Episode-18---3-permintaan-yang-korang-hajati--Ada-ke-patut.mp3 speech/Episode%2018%20-%203%20permintaan%20yang%20korang%20hajati%20%20Ada%20ke%20patut.mp3 https://huseinhouse-storage.s3-ap-southeast-1.amazonaws.com/speech/Episode%252018%2520-%25203%2520permintaan%2520yang%2520korang%2520hajati%2520%2520Ada%2520ke%2520patut.mp3 64\n"
     ]
    },
    {
     "name": "stderr",
     "output_type": "stream",
     "text": [
      "100%|██████████| 64/64 [03:29<00:00,  3.28s/it]\n",
      "  0%|          | 0/63 [00:00<?, ?it/s]"
     ]
    },
    {
     "name": "stdout",
     "output_type": "stream",
     "text": [
      "Paranormal--Episode-43---‘Tegur’-di-Gombak-bersama-Kelibat-Hitam...mp3 speech/Paranormal%20%20Episode%2043%20-%20%E2%80%98Tegur%E2%80%99%20di%20Gombak%20bersama%20Kelibat%20Hitam...mp3 https://huseinhouse-storage.s3-ap-southeast-1.amazonaws.com/speech/Paranormal%2520%2520Episode%252043%2520-%2520%25E2%2580%2598Tegur%25E2%2580%2599%2520di%2520Gombak%2520bersama%2520Kelibat%2520Hitam...mp3 63\n"
     ]
    },
    {
     "name": "stderr",
     "output_type": "stream",
     "text": [
      "100%|██████████| 63/63 [01:54<00:00,  1.82s/it]\n",
      "  0%|          | 0/65 [00:00<?, ?it/s]"
     ]
    },
    {
     "name": "stdout",
     "output_type": "stream",
     "text": [
      "Paranormal--Episode-33---Pengalaman-mistik-bersama-ketua-Poseidon-Pranormal-Part-3.mp3 speech/Paranormal%20%20Episode%2033%20-%20Pengalaman%20mistik%20bersama%20ketua%20Poseidon%20Pranormal%20Part%203.mp3 https://huseinhouse-storage.s3-ap-southeast-1.amazonaws.com/speech/Paranormal%2520%2520Episode%252033%2520-%2520Pengalaman%2520mistik%2520bersama%2520ketua%2520Poseidon%2520Pranormal%2520Part%25203.mp3 65\n"
     ]
    },
    {
     "name": "stderr",
     "output_type": "stream",
     "text": [
      "100%|██████████| 65/65 [01:59<00:00,  1.84s/it]\n",
      "  0%|          | 0/65 [00:00<?, ?it/s]"
     ]
    },
    {
     "name": "stdout",
     "output_type": "stream",
     "text": [
      "Paranormal--Episode-62---Mistik-pokok-hindu.mp3 speech/Paranormal%20%20Episode%2062%20-%20Mistik%20pokok%20hindu.mp3 https://huseinhouse-storage.s3-ap-southeast-1.amazonaws.com/speech/Paranormal%2520%2520Episode%252062%2520-%2520Mistik%2520pokok%2520hindu.mp3 65\n"
     ]
    },
    {
     "name": "stderr",
     "output_type": "stream",
     "text": [
      "100%|██████████| 65/65 [02:07<00:00,  1.96s/it]\n",
      "  0%|          | 0/65 [00:00<?, ?it/s]"
     ]
    },
    {
     "name": "stdout",
     "output_type": "stream",
     "text": [
      "Episode-14---Mitos-Agama-dan-Kesihatan--Perang-Melawan-Mitos.mp3 speech/Episode%2014%20-%20Mitos%20Agama%20dan%20Kesihatan%20%20Perang%20Melawan%20Mitos.mp3 https://huseinhouse-storage.s3-ap-southeast-1.amazonaws.com/speech/Episode%252014%2520-%2520Mitos%2520Agama%2520dan%2520Kesihatan%2520%2520Perang%2520Melawan%2520Mitos.mp3 65\n"
     ]
    },
    {
     "name": "stderr",
     "output_type": "stream",
     "text": [
      "100%|██████████| 65/65 [01:33<00:00,  1.45s/it]\n",
      "  0%|          | 0/65 [00:00<?, ?it/s]"
     ]
    },
    {
     "name": "stdout",
     "output_type": "stream",
     "text": [
      "Tahu-Nak-Makan-Je--Episode-37---Ayam-Bakar-Chef-Fikree-.mp3 speech/Tahu%20Nak%20Makan%20Je%20%20Episode%2037%20-%20Ayam%20Bakar%20Chef%20Fikree%20.mp3 https://huseinhouse-storage.s3-ap-southeast-1.amazonaws.com/speech/Tahu%2520Nak%2520Makan%2520Je%2520%2520Episode%252037%2520-%2520Ayam%2520Bakar%2520Chef%2520Fikree%2520.mp3 65\n"
     ]
    },
    {
     "name": "stderr",
     "output_type": "stream",
     "text": [
      "100%|██████████| 65/65 [01:16<00:00,  1.18s/it]\n",
      "  0%|          | 0/66 [00:00<?, ?it/s]"
     ]
    },
    {
     "name": "stdout",
     "output_type": "stream",
     "text": [
      "Episode-09---Kawan-korang-yang-mental-lebih!--Ada-ke-patut.mp3 speech/Episode%2009%20-%20Kawan%20korang%20yang%20mental%20lebih%21%20%20Ada%20ke%20patut.mp3 https://huseinhouse-storage.s3-ap-southeast-1.amazonaws.com/speech/Episode%252009%2520-%2520Kawan%2520korang%2520yang%2520mental%2520lebih%2521%2520%2520Ada%2520ke%2520patut.mp3 66\n"
     ]
    },
    {
     "name": "stderr",
     "output_type": "stream",
     "text": [
      "100%|██████████| 66/66 [03:31<00:00,  3.20s/it]\n",
      "  0%|          | 0/66 [00:00<?, ?it/s]"
     ]
    },
    {
     "name": "stdout",
     "output_type": "stream",
     "text": [
      "Paranormal--Episode-47---Ketukan-dan-misteri-bayangan-kaki.mp3 speech/Paranormal%20%20Episode%2047%20-%20Ketukan%20dan%20misteri%20bayangan%20kaki.mp3 https://huseinhouse-storage.s3-ap-southeast-1.amazonaws.com/speech/Paranormal%2520%2520Episode%252047%2520-%2520Ketukan%2520dan%2520misteri%2520bayangan%2520kaki.mp3 66\n"
     ]
    },
    {
     "name": "stderr",
     "output_type": "stream",
     "text": [
      "100%|██████████| 66/66 [01:59<00:00,  1.81s/it]\n",
      "  0%|          | 0/65 [00:00<?, ?it/s]"
     ]
    },
    {
     "name": "stdout",
     "output_type": "stream",
     "text": [
      "Ada-ke-patut--Episode-16---Stereotype-lelaki-cantik-or-lembut.mp3 speech/Ada%20ke%20patut%20%20Episode%2016%20-%20Stereotype%20lelaki%20cantik%20or%20lembut.mp3 https://huseinhouse-storage.s3-ap-southeast-1.amazonaws.com/speech/Ada%2520ke%2520patut%2520%2520Episode%252016%2520-%2520Stereotype%2520lelaki%2520cantik%2520or%2520lembut.mp3 65\n"
     ]
    },
    {
     "name": "stderr",
     "output_type": "stream",
     "text": [
      "100%|██████████| 65/65 [02:38<00:00,  2.44s/it]\n",
      "  0%|          | 0/64 [00:00<?, ?it/s]"
     ]
    },
    {
     "name": "stdout",
     "output_type": "stream",
     "text": [
      "Paranormal--Episode-80---Rumah-Penginapan-Cameron-Highlands-Part-2.mp3 speech/Paranormal%20%20Episode%2080%20-%20Rumah%20Penginapan%20Cameron%20Highlands%20Part%202.mp3 https://huseinhouse-storage.s3-ap-southeast-1.amazonaws.com/speech/Paranormal%2520%2520Episode%252080%2520-%2520Rumah%2520Penginapan%2520Cameron%2520Highlands%2520Part%25202.mp3 64\n"
     ]
    },
    {
     "name": "stderr",
     "output_type": "stream",
     "text": [
      "100%|██████████| 64/64 [01:45<00:00,  1.65s/it]\n",
      "  0%|          | 0/66 [00:00<?, ?it/s]"
     ]
    },
    {
     "name": "stdout",
     "output_type": "stream",
     "text": [
      "Episode-12---Breast-Feeding--Perang-Melawan-Mitos.mp3 speech/Episode%2012%20-%20Breast%20Feeding%20%20Perang%20Melawan%20Mitos.mp3 https://huseinhouse-storage.s3-ap-southeast-1.amazonaws.com/speech/Episode%252012%2520-%2520Breast%2520Feeding%2520%2520Perang%2520Melawan%2520Mitos.mp3 66\n"
     ]
    },
    {
     "name": "stderr",
     "output_type": "stream",
     "text": [
      "100%|██████████| 66/66 [01:41<00:00,  1.53s/it]\n",
      "  0%|          | 0/66 [00:00<?, ?it/s]"
     ]
    },
    {
     "name": "stdout",
     "output_type": "stream",
     "text": [
      "Paranormal--Episode-32----Pengalaman-mistik-bersama-ketua-Poseidon-Pranormal-Part-2.mp3 speech/Paranormal%20%20Episode%2032%20-%20%20Pengalaman%20mistik%20bersama%20ketua%20Poseidon%20Pranormal%20Part%202.mp3 https://huseinhouse-storage.s3-ap-southeast-1.amazonaws.com/speech/Paranormal%2520%2520Episode%252032%2520-%2520%2520Pengalaman%2520mistik%2520bersama%2520ketua%2520Poseidon%2520Pranormal%2520Part%25202.mp3 66\n"
     ]
    },
    {
     "name": "stderr",
     "output_type": "stream",
     "text": [
      "100%|██████████| 66/66 [02:16<00:00,  2.07s/it]\n",
      "  0%|          | 0/66 [00:00<?, ?it/s]"
     ]
    },
    {
     "name": "stdout",
     "output_type": "stream",
     "text": [
      "Paranormal--Episode-69---Mata-batin-anak-aku.mp3 speech/Paranormal%20%20Episode%2069%20-%20Mata%20batin%20anak%20aku.mp3 https://huseinhouse-storage.s3-ap-southeast-1.amazonaws.com/speech/Paranormal%2520%2520Episode%252069%2520-%2520Mata%2520batin%2520anak%2520aku.mp3 66\n"
     ]
    },
    {
     "name": "stderr",
     "output_type": "stream",
     "text": [
      "100%|██████████| 66/66 [01:20<00:00,  1.21s/it]\n",
      "  0%|          | 0/65 [00:00<?, ?it/s]"
     ]
    },
    {
     "name": "stdout",
     "output_type": "stream",
     "text": [
      "Paranormal--Episode-44---‘Tegur’-di-Gombak-Part-2.mp3 speech/Paranormal%20%20Episode%2044%20-%20%E2%80%98Tegur%E2%80%99%20di%20Gombak%20Part%202.mp3 https://huseinhouse-storage.s3-ap-southeast-1.amazonaws.com/speech/Paranormal%2520%2520Episode%252044%2520-%2520%25E2%2580%2598Tegur%25E2%2580%2599%2520di%2520Gombak%2520Part%25202.mp3 65\n"
     ]
    },
    {
     "name": "stderr",
     "output_type": "stream",
     "text": [
      "100%|██████████| 65/65 [01:43<00:00,  1.60s/it]\n",
      "  0%|          | 0/67 [00:00<?, ?it/s]"
     ]
    },
    {
     "name": "stdout",
     "output_type": "stream",
     "text": [
      "Episode-13---Stereotype-zaman-sekolah-dulu--Ada-ke-patut.mp3 speech/Episode%2013%20-%20Stereotype%20zaman%20sekolah%20dulu%20%20Ada%20ke%20patut.mp3 https://huseinhouse-storage.s3-ap-southeast-1.amazonaws.com/speech/Episode%252013%2520-%2520Stereotype%2520zaman%2520sekolah%2520dulu%2520%2520Ada%2520ke%2520patut.mp3 67\n"
     ]
    },
    {
     "name": "stderr",
     "output_type": "stream",
     "text": [
      "100%|██████████| 67/67 [03:01<00:00,  2.71s/it]\n",
      "  0%|          | 0/67 [00:00<?, ?it/s]"
     ]
    },
    {
     "name": "stdout",
     "output_type": "stream",
     "text": [
      "Paranormal--Episode-67---Hobi-cari-hantu!.mp3 speech/Paranormal%20%20Episode%2067%20-%20Hobi%20cari%20hantu!.mp3 https://huseinhouse-storage.s3-ap-southeast-1.amazonaws.com/speech/Paranormal%2520%2520Episode%252067%2520-%2520Hobi%2520cari%2520hantu%21.mp3 67\n"
     ]
    },
    {
     "name": "stderr",
     "output_type": "stream",
     "text": [
      "100%|██████████| 67/67 [01:32<00:00,  1.39s/it]\n",
      "  0%|          | 0/69 [00:00<?, ?it/s]"
     ]
    },
    {
     "name": "stdout",
     "output_type": "stream",
     "text": [
      "Episode-06---Mitos-pergigian--Perang-Melawan-Mitos.mp3 speech/Episode%2006%20-%20Mitos%20pergigian%20%20Perang%20Melawan%20Mitos.mp3 https://huseinhouse-storage.s3-ap-southeast-1.amazonaws.com/speech/Episode%252006%2520-%2520Mitos%2520pergigian%2520%2520Perang%2520Melawan%2520Mitos.mp3 69\n"
     ]
    },
    {
     "name": "stderr",
     "output_type": "stream",
     "text": [
      "100%|██████████| 69/69 [02:39<00:00,  2.32s/it]\n",
      "  0%|          | 0/68 [00:00<?, ?it/s]"
     ]
    },
    {
     "name": "stdout",
     "output_type": "stream",
     "text": [
      "Episode-19---16-Mei,-Typical-Hari-Guru!--Ada-ke-patut.mp3 speech/Episode%2019%20-%2016%20Mei%2C%20Typical%20Hari%20Guru%21%20%20Ada%20ke%20patut.mp3 https://huseinhouse-storage.s3-ap-southeast-1.amazonaws.com/speech/Episode%252019%2520-%252016%2520Mei%252C%2520Typical%2520Hari%2520Guru%2521%2520%2520Ada%2520ke%2520patut.mp3 68\n"
     ]
    },
    {
     "name": "stderr",
     "output_type": "stream",
     "text": [
      "100%|██████████| 68/68 [03:04<00:00,  2.71s/it]\n",
      "  0%|          | 0/68 [00:00<?, ?it/s]"
     ]
    },
    {
     "name": "stdout",
     "output_type": "stream",
     "text": [
      "Paranormal--Episode-36---Pengalaman-mistik-bersama-ketua-Poseidon-Paranormal-Part-6.mp3 speech/Paranormal%20%20Episode%2036%20-%20Pengalaman%20mistik%20bersama%20ketua%20Poseidon%20Paranormal%20Part%206.mp3 https://huseinhouse-storage.s3-ap-southeast-1.amazonaws.com/speech/Paranormal%2520%2520Episode%252036%2520-%2520Pengalaman%2520mistik%2520bersama%2520ketua%2520Poseidon%2520Paranormal%2520Part%25206.mp3 68\n"
     ]
    },
    {
     "name": "stderr",
     "output_type": "stream",
     "text": [
      "100%|██████████| 68/68 [01:45<00:00,  1.55s/it]\n",
      "  0%|          | 0/68 [00:00<?, ?it/s]"
     ]
    },
    {
     "name": "stdout",
     "output_type": "stream",
     "text": [
      "Episode-13---Derma-Organ,-kurang-pendedahan--Perang-Melawan-Mitos.mp3 speech/Episode%2013%20-%20Derma%20Organ,%20kurang%20pendedahan%20%20Perang%20Melawan%20Mitos.mp3 https://huseinhouse-storage.s3-ap-southeast-1.amazonaws.com/speech/Episode%252013%2520-%2520Derma%2520Organ%2C%2520kurang%2520pendedahan%2520%2520Perang%2520Melawan%2520Mitos.mp3 68\n"
     ]
    },
    {
     "name": "stderr",
     "output_type": "stream",
     "text": [
      "100%|██████████| 68/68 [01:34<00:00,  1.40s/it]\n",
      "  0%|          | 0/68 [00:00<?, ?it/s]"
     ]
    },
    {
     "name": "stdout",
     "output_type": "stream",
     "text": [
      "Paranormal--Episode-53---Misteri-Lif-tingkat-11.mp3 speech/Paranormal%20%20Episode%2053%20-%20Misteri%20Lif%20tingkat%2011.mp3 https://huseinhouse-storage.s3-ap-southeast-1.amazonaws.com/speech/Paranormal%2520%2520Episode%252053%2520-%2520Misteri%2520Lif%2520tingkat%252011.mp3 68\n"
     ]
    },
    {
     "name": "stderr",
     "output_type": "stream",
     "text": [
      "100%|██████████| 68/68 [01:49<00:00,  1.61s/it]\n",
      "  0%|          | 0/69 [00:00<?, ?it/s]"
     ]
    },
    {
     "name": "stdout",
     "output_type": "stream",
     "text": [
      "Paranormal--Episode-45---Lukisan-maut-!.mp3 speech/Paranormal%20%20Episode%2045%20-%20Lukisan%20maut%20!.mp3 https://huseinhouse-storage.s3-ap-southeast-1.amazonaws.com/speech/Paranormal%2520%2520Episode%252045%2520-%2520Lukisan%2520maut%2520%21.mp3 69\n"
     ]
    },
    {
     "name": "stderr",
     "output_type": "stream",
     "text": [
      "100%|██████████| 69/69 [02:01<00:00,  1.77s/it]\n",
      "  0%|          | 0/69 [00:00<?, ?it/s]"
     ]
    },
    {
     "name": "stdout",
     "output_type": "stream",
     "text": [
      "Episode-05---Kencing-Manis-!--Perang-Melawan-Mitos.mp3 speech/Episode%2005%20-%20Kencing%20Manis%20!%20%20Perang%20Melawan%20Mitos.mp3 https://huseinhouse-storage.s3-ap-southeast-1.amazonaws.com/speech/Episode%252005%2520-%2520Kencing%2520Manis%2520%21%2520%2520Perang%2520Melawan%2520Mitos.mp3 69\n"
     ]
    },
    {
     "name": "stderr",
     "output_type": "stream",
     "text": [
      "100%|██████████| 69/69 [01:42<00:00,  1.48s/it]\n",
      "  0%|          | 0/62 [00:00<?, ?it/s]"
     ]
    },
    {
     "name": "stdout",
     "output_type": "stream",
     "text": [
      "Paranormal--Episode-85---Tempat-lepak-berhantu.mp3 speech/Paranormal%20%20Episode%2085%20-%20Tempat%20lepak%20berhantu.mp3 https://huseinhouse-storage.s3-ap-southeast-1.amazonaws.com/speech/Paranormal%2520%2520Episode%252085%2520-%2520Tempat%2520lepak%2520berhantu.mp3 62\n"
     ]
    },
    {
     "name": "stderr",
     "output_type": "stream",
     "text": [
      "100%|██████████| 62/62 [01:55<00:00,  1.86s/it]\n",
      "  0%|          | 0/68 [00:00<?, ?it/s]"
     ]
    },
    {
     "name": "stdout",
     "output_type": "stream",
     "text": [
      "Paranormal--Episode-76---Ekspedisi-Gunung-Mistik.mp3 speech/Paranormal%20%20Episode%2076%20-%20Ekspedisi%20Gunung%20Mistik.mp3 https://huseinhouse-storage.s3-ap-southeast-1.amazonaws.com/speech/Paranormal%2520%2520Episode%252076%2520-%2520Ekspedisi%2520Gunung%2520Mistik.mp3 68\n"
     ]
    },
    {
     "name": "stderr",
     "output_type": "stream",
     "text": [
      "100%|██████████| 68/68 [02:36<00:00,  2.30s/it]\n",
      "  0%|          | 0/70 [00:00<?, ?it/s]"
     ]
    },
    {
     "name": "stdout",
     "output_type": "stream",
     "text": [
      "Paranormal--Episode-31---Pengalaman-mistik-bersama-ketua-Poseidon-Pranormal-Part-1_2.mp3 speech/Paranormal%20%20Episode%2031%20-%20Pengalaman%20mistik%20bersama%20ketua%20Poseidon%20Pranormal%20Part%201_2.mp3 https://huseinhouse-storage.s3-ap-southeast-1.amazonaws.com/speech/Paranormal%2520%2520Episode%252031%2520-%2520Pengalaman%2520mistik%2520bersama%2520ketua%2520Poseidon%2520Pranormal%2520Part%25201_2.mp3 70\n"
     ]
    },
    {
     "name": "stderr",
     "output_type": "stream",
     "text": [
      "100%|██████████| 70/70 [01:52<00:00,  1.61s/it]\n",
      "  0%|          | 0/72 [00:00<?, ?it/s]"
     ]
    },
    {
     "name": "stdout",
     "output_type": "stream",
     "text": [
      "Paranormal--Episode-49---Pusat-Beli-belah-Kuala-Lumpur.mp3 speech/Paranormal%20%20Episode%2049%20-%20Pusat%20Beli-belah%20Kuala%20Lumpur.mp3 https://huseinhouse-storage.s3-ap-southeast-1.amazonaws.com/speech/Paranormal%2520%2520Episode%252049%2520-%2520Pusat%2520Beli-belah%2520Kuala%2520Lumpur.mp3 72\n"
     ]
    },
    {
     "name": "stderr",
     "output_type": "stream",
     "text": [
      "100%|██████████| 72/72 [01:46<00:00,  1.48s/it]\n",
      "  0%|          | 0/70 [00:00<?, ?it/s]"
     ]
    },
    {
     "name": "stdout",
     "output_type": "stream",
     "text": [
      "Paranormal--Episode-46---Lukisan-Maut-part-2.mp3 speech/Paranormal%20%20Episode%2046%20-%20Lukisan%20Maut%20part%202.mp3 https://huseinhouse-storage.s3-ap-southeast-1.amazonaws.com/speech/Paranormal%2520%2520Episode%252046%2520-%2520Lukisan%2520Maut%2520part%25202.mp3 70\n"
     ]
    },
    {
     "name": "stderr",
     "output_type": "stream",
     "text": [
      "100%|██████████| 70/70 [01:55<00:00,  1.64s/it]\n",
      "  0%|          | 0/71 [00:00<?, ?it/s]"
     ]
    },
    {
     "name": "stdout",
     "output_type": "stream",
     "text": [
      "Paranormal--Episode-64---Foto-penampakan.mp3 speech/Paranormal%20%20Episode%2064%20-%20Foto%20penampakan.mp3 https://huseinhouse-storage.s3-ap-southeast-1.amazonaws.com/speech/Paranormal%2520%2520Episode%252064%2520-%2520Foto%2520penampakan.mp3 71\n"
     ]
    },
    {
     "name": "stderr",
     "output_type": "stream",
     "text": [
      "100%|██████████| 71/71 [01:59<00:00,  1.68s/it]\n",
      "  0%|          | 0/73 [00:00<?, ?it/s]"
     ]
    },
    {
     "name": "stdout",
     "output_type": "stream",
     "text": [
      "168a0fbc-024e-419c-a2f7-53fce9f88861-Paranormal--Episode-73---Puaka-Pokok-Damar.mp3 speech/168a0fbc-024e-419c-a2f7-53fce9f88861-Paranormal%20%20Episode%2073%20-%20Puaka%20Pokok%20Damar.mp3 https://huseinhouse-storage.s3-ap-southeast-1.amazonaws.com/speech/168a0fbc-024e-419c-a2f7-53fce9f88861-Paranormal%2520%2520Episode%252073%2520-%2520Puaka%2520Pokok%2520Damar.mp3 73\n"
     ]
    },
    {
     "name": "stderr",
     "output_type": "stream",
     "text": [
      "100%|██████████| 73/73 [01:42<00:00,  1.40s/it]\n",
      "  0%|          | 0/72 [00:00<?, ?it/s]"
     ]
    },
    {
     "name": "stdout",
     "output_type": "stream",
     "text": [
      "Paranormal--Episode-60---Jom-jadi-Penyiasat-Paranormal.mp3 speech/Paranormal%20%20Episode%2060%20-%20Jom%20jadi%20Penyiasat%20Paranormal.mp3 https://huseinhouse-storage.s3-ap-southeast-1.amazonaws.com/speech/Paranormal%2520%2520Episode%252060%2520-%2520Jom%2520jadi%2520Penyiasat%2520Paranormal.mp3 72\n"
     ]
    },
    {
     "name": "stderr",
     "output_type": "stream",
     "text": [
      "100%|██████████| 72/72 [01:23<00:00,  1.16s/it]\n",
      "  0%|          | 0/73 [00:00<?, ?it/s]"
     ]
    },
    {
     "name": "stdout",
     "output_type": "stream",
     "text": [
      "Episode-04---Resdung-!--Perang-Melawan-Mitos.mp3 speech/Episode%2004%20-%20Resdung%20!%20%20Perang%20Melawan%20Mitos.mp3 https://huseinhouse-storage.s3-ap-southeast-1.amazonaws.com/speech/Episode%252004%2520-%2520Resdung%2520%21%2520%2520Perang%2520Melawan%2520Mitos.mp3 73\n"
     ]
    },
    {
     "name": "stderr",
     "output_type": "stream",
     "text": [
      "100%|██████████| 73/73 [02:31<00:00,  2.08s/it]\n",
      "  0%|          | 0/73 [00:00<?, ?it/s]"
     ]
    },
    {
     "name": "stdout",
     "output_type": "stream",
     "text": [
      "Paranormal--Episode-35---Pengalaman-mistik-bersama-ketua-Poseidon-Pranormal-Part-5.mp3 speech/Paranormal%20%20Episode%2035%20-%20Pengalaman%20mistik%20bersama%20ketua%20Poseidon%20Pranormal%20Part%205.mp3 https://huseinhouse-storage.s3-ap-southeast-1.amazonaws.com/speech/Paranormal%2520%2520Episode%252035%2520-%2520Pengalaman%2520mistik%2520bersama%2520ketua%2520Poseidon%2520Pranormal%2520Part%25205.mp3 73\n"
     ]
    },
    {
     "name": "stderr",
     "output_type": "stream",
     "text": [
      "100%|██████████| 73/73 [02:03<00:00,  1.69s/it]\n",
      "  0%|          | 0/74 [00:00<?, ?it/s]"
     ]
    },
    {
     "name": "stdout",
     "output_type": "stream",
     "text": [
      "Paranormal--Episode-54---Dexter-di-Highland-tower.mp3 speech/Paranormal%20%20Episode%2054%20-%20Dexter%20di%20Highland%20tower.mp3 https://huseinhouse-storage.s3-ap-southeast-1.amazonaws.com/speech/Paranormal%2520%2520Episode%252054%2520-%2520Dexter%2520di%2520Highland%2520tower.mp3 74\n"
     ]
    },
    {
     "name": "stderr",
     "output_type": "stream",
     "text": [
      "100%|██████████| 74/74 [02:03<00:00,  1.66s/it]\n",
      "  0%|          | 0/74 [00:00<?, ?it/s]"
     ]
    },
    {
     "name": "stdout",
     "output_type": "stream",
     "text": [
      "Episode-08---Mitos-mitos-kehamilan--Perang-Melawan-Mitos.mp3 speech/Episode%2008%20-%20Mitos-mitos%20kehamilan%20%20Perang%20Melawan%20Mitos.mp3 https://huseinhouse-storage.s3-ap-southeast-1.amazonaws.com/speech/Episode%252008%2520-%2520Mitos-mitos%2520kehamilan%2520%2520Perang%2520Melawan%2520Mitos.mp3 74\n"
     ]
    },
    {
     "name": "stderr",
     "output_type": "stream",
     "text": [
      "100%|██████████| 74/74 [02:02<00:00,  1.66s/it]\n",
      "  0%|          | 0/74 [00:00<?, ?it/s]"
     ]
    },
    {
     "name": "stdout",
     "output_type": "stream",
     "text": [
      "Episode-20---Hari-hari-di-Sekolah--Ada-ke-patut.mp3 speech/Episode%2020%20-%20Hari-hari%20di%20Sekolah%20%20Ada%20ke%20patut.mp3 https://huseinhouse-storage.s3-ap-southeast-1.amazonaws.com/speech/Episode%252020%2520-%2520Hari-hari%2520di%2520Sekolah%2520%2520Ada%2520ke%2520patut.mp3 74\n"
     ]
    },
    {
     "name": "stderr",
     "output_type": "stream",
     "text": [
      "100%|██████████| 74/74 [03:08<00:00,  2.55s/it]\n",
      "  0%|          | 0/78 [00:00<?, ?it/s]"
     ]
    },
    {
     "name": "stdout",
     "output_type": "stream",
     "text": [
      "Paranormal--Episode-75---Gangguan-Asrama-yang-pelik..mp3 speech/Paranormal%20%20Episode%2075%20-%20Gangguan%20Asrama%20yang%20pelik..mp3 https://huseinhouse-storage.s3-ap-southeast-1.amazonaws.com/speech/Paranormal%2520%2520Episode%252075%2520-%2520Gangguan%2520Asrama%2520yang%2520pelik..mp3 78\n"
     ]
    },
    {
     "name": "stderr",
     "output_type": "stream",
     "text": [
      "100%|██████████| 78/78 [02:56<00:00,  2.27s/it]\n",
      "  0%|          | 0/76 [00:00<?, ?it/s]"
     ]
    },
    {
     "name": "stdout",
     "output_type": "stream",
     "text": [
      "Episode-10---Jenis-jenis-boyfriend-dalam-dunia-ni!--Ada-ke-patut.mp3 speech/Episode%2010%20-%20Jenis-jenis%20boyfriend%20dalam%20dunia%20ni%21%20%20Ada%20ke%20patut.mp3 https://huseinhouse-storage.s3-ap-southeast-1.amazonaws.com/speech/Episode%252010%2520-%2520Jenis-jenis%2520boyfriend%2520dalam%2520dunia%2520ni%2521%2520%2520Ada%2520ke%2520patut.mp3 76\n"
     ]
    },
    {
     "name": "stderr",
     "output_type": "stream",
     "text": [
      "100%|██████████| 76/76 [03:46<00:00,  2.98s/it]\n",
      "  0%|          | 0/77 [00:00<?, ?it/s]"
     ]
    },
    {
     "name": "stdout",
     "output_type": "stream",
     "text": [
      "Paranormal--Episode-34---Pengalaman-mistik-bersama-ketua-Poseidon-Pranormal-Part-4.mp3 speech/Paranormal%20%20Episode%2034%20-%20Pengalaman%20mistik%20bersama%20ketua%20Poseidon%20Pranormal%20Part%204.mp3 https://huseinhouse-storage.s3-ap-southeast-1.amazonaws.com/speech/Paranormal%2520%2520Episode%252034%2520-%2520Pengalaman%2520mistik%2520bersama%2520ketua%2520Poseidon%2520Pranormal%2520Part%25204.mp3 77\n"
     ]
    },
    {
     "name": "stderr",
     "output_type": "stream",
     "text": [
      "100%|██████████| 77/77 [02:05<00:00,  1.62s/it]\n",
      "  0%|          | 0/78 [00:00<?, ?it/s]"
     ]
    },
    {
     "name": "stdout",
     "output_type": "stream",
     "text": [
      "Paranormal--Episode-82---Hotel-lama-di-Phuket.mp3 speech/Paranormal%20%20Episode%2082%20-%20Hotel%20lama%20di%20Phuket.mp3 https://huseinhouse-storage.s3-ap-southeast-1.amazonaws.com/speech/Paranormal%2520%2520Episode%252082%2520-%2520Hotel%2520lama%2520di%2520Phuket.mp3 78\n"
     ]
    },
    {
     "name": "stderr",
     "output_type": "stream",
     "text": [
      "100%|██████████| 78/78 [02:33<00:00,  1.97s/it]\n",
      "  0%|          | 0/78 [00:00<?, ?it/s]"
     ]
    },
    {
     "name": "stdout",
     "output_type": "stream",
     "text": [
      "Episode-09---Rehabilitasi-strok--Perang-Melawan-Mitos.mp3 speech/Episode%2009%20-%20Rehabilitasi%20strok%20%20Perang%20Melawan%20Mitos.mp3 https://huseinhouse-storage.s3-ap-southeast-1.amazonaws.com/speech/Episode%252009%2520-%2520Rehabilitasi%2520strok%2520%2520Perang%2520Melawan%2520Mitos.mp3 78\n"
     ]
    },
    {
     "name": "stderr",
     "output_type": "stream",
     "text": [
      "100%|██████████| 78/78 [02:02<00:00,  1.57s/it]\n",
      "  0%|          | 0/78 [00:00<?, ?it/s]"
     ]
    },
    {
     "name": "stdout",
     "output_type": "stream",
     "text": [
      "Paranormal--Episode-37---Pengalaman-mistik-bersama-ketua-Poseidon-Paranormal-Part-7.mp3 speech/Paranormal%20%20Episode%2037%20-%20Pengalaman%20mistik%20bersama%20ketua%20Poseidon%20Paranormal%20Part%207.mp3 https://huseinhouse-storage.s3-ap-southeast-1.amazonaws.com/speech/Paranormal%2520%2520Episode%252037%2520-%2520Pengalaman%2520mistik%2520bersama%2520ketua%2520Poseidon%2520Paranormal%2520Part%25207.mp3 78\n"
     ]
    },
    {
     "name": "stderr",
     "output_type": "stream",
     "text": [
      "100%|██████████| 78/78 [02:39<00:00,  2.04s/it]\n",
      "  0%|          | 0/77 [00:00<?, ?it/s]"
     ]
    },
    {
     "name": "stdout",
     "output_type": "stream",
     "text": [
      "Paranormal--Episode-48---Hantu-Hostel-VS-Hantu-Universiti.mp3 speech/Paranormal%20%20Episode%2048%20-%20Hantu%20Hostel%20VS%20Hantu%20Universiti.mp3 https://huseinhouse-storage.s3-ap-southeast-1.amazonaws.com/speech/Paranormal%2520%2520Episode%252048%2520-%2520Hantu%2520Hostel%2520VS%2520Hantu%2520Universiti.mp3 77\n"
     ]
    },
    {
     "name": "stderr",
     "output_type": "stream",
     "text": [
      "100%|██████████| 77/77 [02:33<00:00,  2.00s/it]\n",
      "  0%|          | 0/80 [00:00<?, ?it/s]"
     ]
    },
    {
     "name": "stdout",
     "output_type": "stream",
     "text": [
      "Paranormal--Episode-58---Misteri-Thousand-corner-part-2.mp3 speech/Paranormal%20%20Episode%2058%20-%20Misteri%20Thousand%20corner%20part%202.mp3 https://huseinhouse-storage.s3-ap-southeast-1.amazonaws.com/speech/Paranormal%2520%2520Episode%252058%2520-%2520Misteri%2520Thousand%2520corner%2520part%25202.mp3 80\n"
     ]
    },
    {
     "name": "stderr",
     "output_type": "stream",
     "text": [
      "100%|██████████| 80/80 [01:46<00:00,  1.33s/it]\n",
      "  0%|          | 0/80 [00:00<?, ?it/s]"
     ]
    },
    {
     "name": "stdout",
     "output_type": "stream",
     "text": [
      "Paranormal--Episode-38---Misteri-Sulawesi...mp3 speech/Paranormal%20%20Episode%2038%20-%20Misteri%20Sulawesi...mp3 https://huseinhouse-storage.s3-ap-southeast-1.amazonaws.com/speech/Paranormal%2520%2520Episode%252038%2520-%2520Misteri%2520Sulawesi...mp3 80\n"
     ]
    },
    {
     "name": "stderr",
     "output_type": "stream",
     "text": [
      "100%|██████████| 80/80 [01:38<00:00,  1.23s/it]\n",
      "  0%|          | 0/81 [00:00<?, ?it/s]"
     ]
    },
    {
     "name": "stdout",
     "output_type": "stream",
     "text": [
      "Paranormal--Episode-70---Gadget-Aktiviti-Paranormal.mp3 speech/Paranormal%20%20Episode%2070%20-%20Gadget%20Aktiviti%20Paranormal.mp3 https://huseinhouse-storage.s3-ap-southeast-1.amazonaws.com/speech/Paranormal%2520%2520Episode%252070%2520-%2520Gadget%2520Aktiviti%2520Paranormal.mp3 81\n"
     ]
    },
    {
     "name": "stderr",
     "output_type": "stream",
     "text": [
      "100%|██████████| 81/81 [02:10<00:00,  1.61s/it]\n",
      "  0%|          | 0/82 [00:00<?, ?it/s]"
     ]
    },
    {
     "name": "stdout",
     "output_type": "stream",
     "text": [
      "Paranormal--Episode-72---Masuk-je,-sakit!.mp3 speech/Paranormal%20%20Episode%2072%20-%20Masuk%20je,%20sakit!.mp3 https://huseinhouse-storage.s3-ap-southeast-1.amazonaws.com/speech/Paranormal%2520%2520Episode%252072%2520-%2520Masuk%2520je%2C%2520sakit%21.mp3 82\n"
     ]
    },
    {
     "name": "stderr",
     "output_type": "stream",
     "text": [
      "100%|██████████| 82/82 [02:11<00:00,  1.60s/it]\n",
      "  0%|          | 0/83 [00:00<?, ?it/s]"
     ]
    },
    {
     "name": "stdout",
     "output_type": "stream",
     "text": [
      "Paranormal--Episode-52---Ideologi-cina-.mp3 speech/Paranormal%20%20Episode%2052%20-%20Ideologi%20cina%20.mp3 https://huseinhouse-storage.s3-ap-southeast-1.amazonaws.com/speech/Paranormal%2520%2520Episode%252052%2520-%2520Ideologi%2520cina%2520.mp3 83\n"
     ]
    },
    {
     "name": "stderr",
     "output_type": "stream",
     "text": [
      "100%|██████████| 83/83 [02:52<00:00,  2.08s/it]\n",
      "  0%|          | 0/82 [00:00<?, ?it/s]"
     ]
    },
    {
     "name": "stdout",
     "output_type": "stream",
     "text": [
      "Episode-10---Rabun--Perang-Melawan-Mitos.mp3 speech/Episode%2010%20-%20Rabun%20%20Perang%20Melawan%20Mitos.mp3 https://huseinhouse-storage.s3-ap-southeast-1.amazonaws.com/speech/Episode%252010%2520-%2520Rabun%2520%2520Perang%2520Melawan%2520Mitos.mp3 82\n"
     ]
    },
    {
     "name": "stderr",
     "output_type": "stream",
     "text": [
      "100%|██████████| 82/82 [02:19<00:00,  1.70s/it]\n",
      "  0%|          | 0/127 [00:00<?, ?it/s]"
     ]
    },
    {
     "name": "stdout",
     "output_type": "stream",
     "text": [
      "2018-02-02T16_47_07-08_00.mp3 speech/2018-02-02T16_47_07-08_00.mp3 https://huseinhouse-storage.s3-ap-southeast-1.amazonaws.com/speech/2018-02-02T16_47_07-08_00.mp3 127\n"
     ]
    },
    {
     "name": "stderr",
     "output_type": "stream",
     "text": [
      "100%|██████████| 127/127 [02:57<00:00,  1.40s/it]\n",
      "  0%|          | 0/82 [00:00<?, ?it/s]"
     ]
    },
    {
     "name": "stdout",
     "output_type": "stream",
     "text": [
      "Paranormal--Episode-57---Misteri-Thousand-corner....mp3 speech/Paranormal%20%20Episode%2057%20-%20Misteri%20Thousand%20corner....mp3 https://huseinhouse-storage.s3-ap-southeast-1.amazonaws.com/speech/Paranormal%2520%2520Episode%252057%2520-%2520Misteri%2520Thousand%2520corner....mp3 82\n"
     ]
    },
    {
     "name": "stderr",
     "output_type": "stream",
     "text": [
      "100%|██████████| 82/82 [01:52<00:00,  1.38s/it]\n",
      "  0%|          | 0/83 [00:00<?, ?it/s]"
     ]
    },
    {
     "name": "stdout",
     "output_type": "stream",
     "text": [
      "Paranormal--Episode-68---Hotspot-paling-power!.mp3 speech/Paranormal%20%20Episode%2068%20-%20Hotspot%20paling%20power!.mp3 https://huseinhouse-storage.s3-ap-southeast-1.amazonaws.com/speech/Paranormal%2520%2520Episode%252068%2520-%2520Hotspot%2520paling%2520power%21.mp3 83\n"
     ]
    },
    {
     "name": "stderr",
     "output_type": "stream",
     "text": [
      "100%|██████████| 83/83 [02:07<00:00,  1.53s/it]\n",
      "  0%|          | 0/83 [00:00<?, ?it/s]"
     ]
    },
    {
     "name": "stdout",
     "output_type": "stream",
     "text": [
      "Paranormal--Episode-56---Hostel-lama-Bangi!.mp3 speech/Paranormal%20%20Episode%2056%20-%20Hostel%20lama%20Bangi!.mp3 https://huseinhouse-storage.s3-ap-southeast-1.amazonaws.com/speech/Paranormal%2520%2520Episode%252056%2520-%2520Hostel%2520lama%2520Bangi%21.mp3 83\n"
     ]
    },
    {
     "name": "stderr",
     "output_type": "stream",
     "text": [
      "100%|██████████| 83/83 [02:30<00:00,  1.82s/it]\n",
      "  0%|          | 0/86 [00:00<?, ?it/s]"
     ]
    },
    {
     "name": "stdout",
     "output_type": "stream",
     "text": [
      "Episode-07---Mitos-Mata!--Perang-Melawan-Mitos.mp3 speech/Episode%2007%20-%20Mitos%20Mata!%20%20Perang%20Melawan%20Mitos.mp3 https://huseinhouse-storage.s3-ap-southeast-1.amazonaws.com/speech/Episode%252007%2520-%2520Mitos%2520Mata%21%2520%2520Perang%2520Melawan%2520Mitos.mp3 86\n"
     ]
    },
    {
     "name": "stderr",
     "output_type": "stream",
     "text": [
      "100%|██████████| 86/86 [03:09<00:00,  2.20s/it]\n",
      "  0%|          | 0/87 [00:00<?, ?it/s]"
     ]
    },
    {
     "name": "stdout",
     "output_type": "stream",
     "text": [
      "Paranormal--Episode-51---Penunggu-Hotel-part-2.mp3 speech/Paranormal%20%20Episode%2051%20-%20Penunggu%20Hotel%20part%202.mp3 https://huseinhouse-storage.s3-ap-southeast-1.amazonaws.com/speech/Paranormal%2520%2520Episode%252051%2520-%2520Penunggu%2520Hotel%2520part%25202.mp3 87\n"
     ]
    },
    {
     "name": "stderr",
     "output_type": "stream",
     "text": [
      "100%|██████████| 87/87 [02:27<00:00,  1.70s/it]\n",
      "  0%|          | 0/89 [00:00<?, ?it/s]"
     ]
    },
    {
     "name": "stdout",
     "output_type": "stream",
     "text": [
      "Paranormal--Episode-59---Leyaa-dan-Imaginary-friends-nya...mp3 speech/Paranormal%20%20Episode%2059%20-%20Leyaa%20dan%20Imaginary%20friends%20nya...mp3 https://huseinhouse-storage.s3-ap-southeast-1.amazonaws.com/speech/Paranormal%2520%2520Episode%252059%2520-%2520Leyaa%2520dan%2520Imaginary%2520friends%2520nya...mp3 89\n"
     ]
    },
    {
     "name": "stderr",
     "output_type": "stream",
     "text": [
      "100%|██████████| 89/89 [01:59<00:00,  1.34s/it]\n",
      "  0%|          | 0/90 [00:00<?, ?it/s]"
     ]
    },
    {
     "name": "stdout",
     "output_type": "stream",
     "text": [
      "Paranormal--Episode-79---Rumah-penginapan-Cameron-Highland….mp3 speech/Paranormal%20%20Episode%2079%20-%20Rumah%20penginapan%20Cameron%20Highland%E2%80%A6.mp3 https://huseinhouse-storage.s3-ap-southeast-1.amazonaws.com/speech/Paranormal%2520%2520Episode%252079%2520-%2520Rumah%2520penginapan%2520Cameron%2520Highland%25E2%2580%25A6.mp3 90\n"
     ]
    },
    {
     "name": "stderr",
     "output_type": "stream",
     "text": [
      "100%|██████████| 90/90 [02:21<00:00,  1.57s/it]\n",
      "  0%|          | 0/94 [00:00<?, ?it/s]"
     ]
    },
    {
     "name": "stdout",
     "output_type": "stream",
     "text": [
      "Paranormal--Episode-78---Anak-tiada-kashaf.mp3 speech/Paranormal%20%20Episode%2078%20-%20Anak%20tiada%20kashaf.mp3 https://huseinhouse-storage.s3-ap-southeast-1.amazonaws.com/speech/Paranormal%2520%2520Episode%252078%2520-%2520Anak%2520tiada%2520kashaf.mp3 94\n"
     ]
    },
    {
     "name": "stderr",
     "output_type": "stream",
     "text": [
      "100%|██████████| 94/94 [02:12<00:00,  1.41s/it]\n",
      "  0%|          | 0/93 [00:00<?, ?it/s]"
     ]
    },
    {
     "name": "stdout",
     "output_type": "stream",
     "text": [
      "Paranormal--Episode-55---Bangunan-‘Malaysia-Medicine-Institute’...mp3 speech/Paranormal%20%20Episode%2055%20-%20Bangunan%20%E2%80%98Malaysia%20Medicine%20Institute%E2%80%99...mp3 https://huseinhouse-storage.s3-ap-southeast-1.amazonaws.com/speech/Paranormal%2520%2520Episode%252055%2520-%2520Bangunan%2520%25E2%2580%2598Malaysia%2520Medicine%2520Institute%25E2%2580%2599...mp3 93\n"
     ]
    },
    {
     "name": "stderr",
     "output_type": "stream",
     "text": [
      "100%|██████████| 93/93 [02:37<00:00,  1.69s/it]\n",
      "  0%|          | 0/95 [00:00<?, ?it/s]"
     ]
    },
    {
     "name": "stdout",
     "output_type": "stream",
     "text": [
      "Paranormal--Episode-66---Jin-Kedai-makan.mp3 speech/Paranormal%20%20Episode%2066%20-%20Jin%20Kedai%20makan.mp3 https://huseinhouse-storage.s3-ap-southeast-1.amazonaws.com/speech/Paranormal%2520%2520Episode%252066%2520-%2520Jin%2520Kedai%2520makan.mp3 95\n"
     ]
    },
    {
     "name": "stderr",
     "output_type": "stream",
     "text": [
      "100%|██████████| 95/95 [02:47<00:00,  1.76s/it]\n",
      "  0%|          | 0/116 [00:00<?, ?it/s]"
     ]
    },
    {
     "name": "stdout",
     "output_type": "stream",
     "text": [
      "Paranormal--Episode-61---Mata-batin-Wan.mp3 speech/Paranormal%20%20Episode%2061%20-%20Mata%20batin%20Wan.mp3 https://huseinhouse-storage.s3-ap-southeast-1.amazonaws.com/speech/Paranormal%2520%2520Episode%252061%2520-%2520Mata%2520batin%2520Wan.mp3 116\n"
     ]
    },
    {
     "name": "stderr",
     "output_type": "stream",
     "text": [
      "100%|██████████| 116/116 [04:13<00:00,  2.18s/it]\n",
      "  0%|          | 0/127 [00:00<?, ?it/s]"
     ]
    },
    {
     "name": "stdout",
     "output_type": "stream",
     "text": [
      "9f07f40e-c335-4394-ac9c-eb18998947a6-Borak-Kool-Pinjam-Wang-Untuk-Majlis-Kahwin..PHD-Bersama-Pelakon-Gundala.Iran-Saran-Wujudkan-Mata-Wang-Krypto_201219.mp3 speech/9f07f40e-c335-4394-ac9c-eb18998947a6-Borak%20Kool%20Pinjam%20Wang%20Untuk%20Majlis%20Kahwin..PHD%20Bersama%20Pelakon%20Gundala.Iran%20Saran%20Wujudkan%20Mata%20Wang%20Krypto_201219.mp3 https://huseinhouse-storage.s3-ap-southeast-1.amazonaws.com/speech/9f07f40e-c335-4394-ac9c-eb18998947a6-Borak%2520Kool%2520Pinjam%2520Wang%2520Untuk%2520Majlis%2520Kahwin..PHD%2520Bersama%2520Pelakon%2520Gundala.Iran%2520Saran%2520Wujudkan%2520Mata%2520Wang%2520Krypto_201219.mp3 127\n"
     ]
    },
    {
     "name": "stderr",
     "output_type": "stream",
     "text": [
      "100%|██████████| 127/127 [04:20<00:00,  2.05s/it]\n",
      "  0%|          | 0/140 [00:00<?, ?it/s]"
     ]
    },
    {
     "name": "stdout",
     "output_type": "stream",
     "text": [
      "6114ed27-3c06-49d6-9132-34223f207aa0-Pelajar-Pakai-Kotak-Untuk-Elak-Meniru.--Idea-Makan-Belalang-Goreng-Kunyit.--Tapak-Sulaiman-Sama-Mcam-Cicak_221019-.mp3 speech/6114ed27-3c06-49d6-9132-34223f207aa0-Pelajar%20Pakai%20Kotak%20Untuk%20Elak%20Meniru.%20%20Idea%20Makan%20Belalang%20Goreng%20Kunyit.%20%20Tapak%20Sulaiman%20Sama%20Mcam%20Cicak_221019%20.mp3 https://huseinhouse-storage.s3-ap-southeast-1.amazonaws.com/speech/6114ed27-3c06-49d6-9132-34223f207aa0-Pelajar%2520Pakai%2520Kotak%2520Untuk%2520Elak%2520Meniru.%2520%2520Idea%2520Makan%2520Belalang%2520Goreng%2520Kunyit.%2520%2520Tapak%2520Sulaiman%2520Sama%2520Mcam%2520Cicak_221019%2520.mp3 140\n"
     ]
    },
    {
     "name": "stderr",
     "output_type": "stream",
     "text": [
      "100%|██████████| 140/140 [04:44<00:00,  2.04s/it]\n",
      "  0%|          | 0/200 [00:00<?, ?it/s]"
     ]
    },
    {
     "name": "stdout",
     "output_type": "stream",
     "text": [
      "67b39612-94ec-44d5-8628-fd0fdb1b405f-La-Obe-Bersama-Jatt-Ali.-Wanita-IQ-Paling-Tinggi.-Negeri-Yang-Bakal-Hadapi-Banjir-Perlu-Bersiap-Sedia_081119.mp3 speech/67b39612-94ec-44d5-8628-fd0fdb1b405f-La%20Obe%20Bersama%20Jatt%20Ali.%20Wanita%20IQ%20Paling%20Tinggi.%20Negeri%20Yang%20Bakal%20Hadapi%20Banjir%20Perlu%20Bersiap%20Sedia_081119.mp3 https://huseinhouse-storage.s3-ap-southeast-1.amazonaws.com/speech/67b39612-94ec-44d5-8628-fd0fdb1b405f-La%2520Obe%2520Bersama%2520Jatt%2520Ali.%2520Wanita%2520IQ%2520Paling%2520Tinggi.%2520Negeri%2520Yang%2520Bakal%2520Hadapi%2520Banjir%2520Perlu%2520Bersiap%2520Sedia_081119.mp3 200\n"
     ]
    },
    {
     "name": "stderr",
     "output_type": "stream",
     "text": [
      "100%|██████████| 200/200 [07:09<00:00,  2.15s/it]\n",
      "  0%|          | 0/213 [00:00<?, ?it/s]"
     ]
    },
    {
     "name": "stdout",
     "output_type": "stream",
     "text": [
      "Subsidi-Minyak-Untuk-B40.-Bersanding-Tapi-Tiada-Pengantin.-Bayi-Dibekukan-6-Tahun-Selamat_09102019.mp3 speech/Subsidi%20Minyak%20Untuk%20B40.%20Bersanding%20Tapi%20Tiada%20Pengantin.%20Bayi%20Dibekukan%206%20Tahun%20Selamat_09102019.mp3 https://huseinhouse-storage.s3-ap-southeast-1.amazonaws.com/speech/Subsidi%2520Minyak%2520Untuk%2520B40.%2520Bersanding%2520Tapi%2520Tiada%2520Pengantin.%2520Bayi%2520Dibekukan%25206%2520Tahun%2520Selamat_09102019.mp3 213\n"
     ]
    },
    {
     "name": "stderr",
     "output_type": "stream",
     "text": [
      "100%|██████████| 213/213 [07:04<00:00,  1.99s/it]\n",
      "  0%|          | 0/219 [00:00<?, ?it/s]"
     ]
    },
    {
     "name": "stdout",
     "output_type": "stream",
     "text": [
      "Fasha-Sandha-Tolong-Cuci-Periuk,-Isteri-Kena-Tendang-Suami,--Burger-King-Tarik-Balik-Iklan-Makan-Burger-Dengan-Chopstick_100419.mp3 speech/Fasha%20Sandha%20Tolong%20Cuci%20Periuk%2C%20Isteri%20Kena%20Tendang%20Suami%2C%20%20Burger%20King%20Tarik%20Balik%20Iklan%20Makan%20Burger%20Dengan%20Chopstick_100419.mp3 https://huseinhouse-storage.s3-ap-southeast-1.amazonaws.com/speech/Fasha%2520Sandha%2520Tolong%2520Cuci%2520Periuk%252C%2520Isteri%2520Kena%2520Tendang%2520Suami%252C%2520%2520Burger%2520King%2520Tarik%2520Balik%2520Iklan%2520Makan%2520Burger%2520Dengan%2520Chopstick_100419.mp3 219\n"
     ]
    },
    {
     "name": "stderr",
     "output_type": "stream",
     "text": [
      "100%|██████████| 219/219 [08:58<00:00,  2.46s/it]\n",
      "  0%|          | 0/209 [00:00<?, ?it/s]"
     ]
    },
    {
     "name": "stdout",
     "output_type": "stream",
     "text": [
      "Parlimen-Lulus-Rang-Undang-Undang-Undi18.--Cop-PArking-Boleh-Di-Penjara.--Bulan-Purnama-Muncul-Setiap-Bulan_170719.mp3 speech/Parlimen%20Lulus%20Rang%20Undang-Undang%20Undi18.%20%20Cop%20PArking%20Boleh%20Di%20Penjara.%20%20Bulan%20Purnama%20Muncul%20Setiap%20Bulan_170719.mp3 https://huseinhouse-storage.s3-ap-southeast-1.amazonaws.com/speech/Parlimen%2520Lulus%2520Rang%2520Undang-Undang%2520Undi18.%2520%2520Cop%2520PArking%2520Boleh%2520Di%2520Penjara.%2520%2520Bulan%2520Purnama%2520Muncul%2520Setiap%2520Bulan_170719.mp3 209\n"
     ]
    },
    {
     "name": "stderr",
     "output_type": "stream",
     "text": [
      "100%|██████████| 209/209 [07:56<00:00,  2.28s/it]\n",
      "  0%|          | 0/221 [00:00<?, ?it/s]"
     ]
    },
    {
     "name": "stdout",
     "output_type": "stream",
     "text": [
      "Masyarakat-Tidak-Beradab.--Biji-Getah-Jadi-Rebutan-Kampung.--Perang-Dunia-Kedua-Paling-Boros_101019.mp3 speech/Masyarakat%20Tidak%20Beradab.%20%20Biji%20Getah%20Jadi%20Rebutan%20Kampung.%20%20Perang%20Dunia%20Kedua%20Paling%20Boros_101019.mp3 https://huseinhouse-storage.s3-ap-southeast-1.amazonaws.com/speech/Masyarakat%2520Tidak%2520Beradab.%2520%2520Biji%2520Getah%2520Jadi%2520Rebutan%2520Kampung.%2520%2520Perang%2520Dunia%2520Kedua%2520Paling%2520Boros_101019.mp3 221\n"
     ]
    },
    {
     "name": "stderr",
     "output_type": "stream",
     "text": [
      "100%|██████████| 221/221 [08:26<00:00,  2.29s/it]\n",
      "  0%|          | 0/220 [00:00<?, ?it/s]"
     ]
    },
    {
     "name": "stdout",
     "output_type": "stream",
     "text": [
      "Anda-Team-Raya-Mana--Keterujaan-Menyambut-Aidilfitri-Berakhir-Tercucuk-Besi-Pagar.--Aktiviti-Di-Hari-Raya_040619.mp3 speech/Anda%20Team%20Raya%20Mana%20%20Keterujaan%20Menyambut%20Aidilfitri%20Berakhir%20Tercucuk%20Besi%20Pagar.%20%20Aktiviti%20Di%20Hari%20Raya_040619.mp3 https://huseinhouse-storage.s3-ap-southeast-1.amazonaws.com/speech/Anda%2520Team%2520Raya%2520Mana%2520%2520Keterujaan%2520Menyambut%2520Aidilfitri%2520Berakhir%2520Tercucuk%2520Besi%2520Pagar.%2520%2520Aktiviti%2520Di%2520Hari%2520Raya_040619.mp3 220\n"
     ]
    },
    {
     "name": "stderr",
     "output_type": "stream",
     "text": [
      "100%|██████████| 220/220 [07:49<00:00,  2.14s/it]\n",
      "  0%|          | 0/183 [00:00<?, ?it/s]"
     ]
    },
    {
     "name": "stdout",
     "output_type": "stream",
     "text": [
      "Khat-Adalah-Seni,Bukan-Agama.--Pembinaan-Tembok-Cina-Hampir-2000-Tahun.--Muaz-Tak-Kenal-Sayur_060819.mp3 speech/Khat%20Adalah%20Seni%2CBukan%20Agama.%20%20Pembinaan%20Tembok%20Cina%20Hampir%202000%20Tahun.%20%20Muaz%20Tak%20Kenal%20Sayur_060819.mp3 https://huseinhouse-storage.s3-ap-southeast-1.amazonaws.com/speech/Khat%2520Adalah%2520Seni%252CBukan%2520Agama.%2520%2520Pembinaan%2520Tembok%2520Cina%2520Hampir%25202000%2520Tahun.%2520%2520Muaz%2520Tak%2520Kenal%2520Sayur_060819.mp3 183\n"
     ]
    },
    {
     "name": "stderr",
     "output_type": "stream",
     "text": [
      "100%|██████████| 183/183 [05:47<00:00,  1.90s/it]\n",
      "  0%|          | 0/225 [00:00<?, ?it/s]"
     ]
    },
    {
     "name": "stdout",
     "output_type": "stream",
     "text": [
      "262a3746-9bce-4c5c-96a8-305fa2ce35fe-Bangkit-Dari-Kesilapan.--Kucing-Boleh-Buat-Banyak-Bunyi-Vokal.--Makanan-Beracun-Dan-Yang-Paling-Bahaya-Di-Dunia_291119-.mp3 speech/262a3746-9bce-4c5c-96a8-305fa2ce35fe-Bangkit%20Dari%20Kesilapan.%20%20Kucing%20Boleh%20Buat%20Banyak%20Bunyi%20Vokal.%20%20Makanan%20Beracun%20Dan%20Yang%20Paling%20Bahaya%20Di%20Dunia_291119%20.mp3 https://huseinhouse-storage.s3-ap-southeast-1.amazonaws.com/speech/262a3746-9bce-4c5c-96a8-305fa2ce35fe-Bangkit%2520Dari%2520Kesilapan.%2520%2520Kucing%2520Boleh%2520Buat%2520Banyak%2520Bunyi%2520Vokal.%2520%2520Makanan%2520Beracun%2520Dan%2520Yang%2520Paling%2520Bahaya%2520Di%2520Dunia_291119%2520.mp3 225\n"
     ]
    },
    {
     "name": "stderr",
     "output_type": "stream",
     "text": [
      "100%|██████████| 225/225 [06:57<00:00,  1.86s/it]\n",
      "  0%|          | 0/233 [00:00<?, ?it/s]"
     ]
    },
    {
     "name": "stdout",
     "output_type": "stream",
     "text": [
      "RIMAS-SUAMI-TIDUR-BERDENGKUR,-SHUK-JUARA-BINTANG-BERSAMA-BINTANG,-JUSTIN-BIEBER-MENEMPLAK-PEMINAT-DI-MEDIA-SOSIAL_290419.mp3 speech/RIMAS%20SUAMI%20TIDUR%20BERDENGKUR%2C%20SHUK%20JUARA%20BINTANG%20BERSAMA%20BINTANG%2C%20JUSTIN%20BIEBER%20MENEMPLAK%20PEMINAT%20DI%20MEDIA%20SOSIAL_290419.mp3 https://huseinhouse-storage.s3-ap-southeast-1.amazonaws.com/speech/RIMAS%2520SUAMI%2520TIDUR%2520BERDENGKUR%252C%2520SHUK%2520JUARA%2520BINTANG%2520BERSAMA%2520BINTANG%252C%2520JUSTIN%2520BIEBER%2520MENEMPLAK%2520PEMINAT%2520DI%2520MEDIA%2520SOSIAL_290419.mp3 233\n"
     ]
    },
    {
     "name": "stderr",
     "output_type": "stream",
     "text": [
      "100%|██████████| 233/233 [09:10<00:00,  2.36s/it]\n",
      "  0%|          | 0/217 [00:00<?, ?it/s]"
     ]
    },
    {
     "name": "stdout",
     "output_type": "stream",
     "text": [
      "IsNotOkay-Gangguan-Seksual-Di-Pejabat.-Pencuci-Mulut-Paling-Mahal-Di-Dunia.-10-Tahun-Guna-Air-Tercemar_270919.mp3 speech/IsNotOkay%20Gangguan%20Seksual%20Di%20Pejabat.%20Pencuci%20Mulut%20Paling%20Mahal%20Di%20Dunia.%2010%20Tahun%20Guna%20Air%20Tercemar_270919.mp3 https://huseinhouse-storage.s3-ap-southeast-1.amazonaws.com/speech/IsNotOkay%2520Gangguan%2520Seksual%2520Di%2520Pejabat.%2520Pencuci%2520Mulut%2520Paling%2520Mahal%2520Di%2520Dunia.%252010%2520Tahun%2520Guna%2520Air%2520Tercemar_270919.mp3 217\n"
     ]
    },
    {
     "name": "stderr",
     "output_type": "stream",
     "text": [
      "100%|██████████| 217/217 [07:13<00:00,  2.00s/it]\n",
      "  0%|          | 0/227 [00:00<?, ?it/s]"
     ]
    },
    {
     "name": "stdout",
     "output_type": "stream",
     "text": [
      "Duduk-2-Tahun-Je-Orang-Jepun-Dah-Pandai-Cakap-Melayu.--Sister-Kool-Bengang-Orang-Tumpang-Populariti-Orang-Lain.--Usia-Muda-16-Tahun-Dah-Berjaya-Hafaz-Al-Quran_080219.mp3 speech/Duduk%202%20Tahun%20Je%20Orang%20Jepun%20Dah%20Pandai%20Cakap%20Melayu.%20%20Sister%20Kool%20Bengang%20Orang%20Tumpang%20Populariti%20Orang%20Lain.%20%20Usia%20Muda%2016%20Tahun%20Dah%20Berjaya%20Hafaz%20Al%20Quran_080219.mp3 https://huseinhouse-storage.s3-ap-southeast-1.amazonaws.com/speech/Duduk%25202%2520Tahun%2520Je%2520Orang%2520Jepun%2520Dah%2520Pandai%2520Cakap%2520Melayu.%2520%2520Sister%2520Kool%2520Bengang%2520Orang%2520Tumpang%2520Populariti%2520Orang%2520Lain.%2520%2520Usia%2520Muda%252016%2520Tahun%2520Dah%2520Berjaya%2520Hafaz%2520Al%2520Quran_080219.mp3 227\n"
     ]
    },
    {
     "name": "stderr",
     "output_type": "stream",
     "text": [
      "100%|██████████| 227/227 [08:30<00:00,  2.25s/it]\n",
      "  0%|          | 0/232 [00:00<?, ?it/s]"
     ]
    },
    {
     "name": "stdout",
     "output_type": "stream",
     "text": [
      "Kahwin-Wanita-Tempatan-Untuk-Buka-Perniagaan.--Kopi-Air-Liur-Monyet-Terhad.--Jangan-Tutup-Mulut-Ketika-Bersin_011019.mp3 speech/Kahwin%20Wanita%20Tempatan%20Untuk%20Buka%20Perniagaan.%20%20Kopi%20Air%20Liur%20Monyet%20Terhad.%20%20Jangan%20Tutup%20Mulut%20Ketika%20Bersin_011019.mp3 https://huseinhouse-storage.s3-ap-southeast-1.amazonaws.com/speech/Kahwin%2520Wanita%2520Tempatan%2520Untuk%2520Buka%2520Perniagaan.%2520%2520Kopi%2520Air%2520Liur%2520Monyet%2520Terhad.%2520%2520Jangan%2520Tutup%2520Mulut%2520Ketika%2520Bersin_011019.mp3 232\n"
     ]
    },
    {
     "name": "stderr",
     "output_type": "stream",
     "text": [
      "100%|██████████| 232/232 [07:46<00:00,  2.01s/it]\n",
      "  0%|          | 0/231 [00:00<?, ?it/s]"
     ]
    },
    {
     "name": "stdout",
     "output_type": "stream",
     "text": [
      "Perkara-Yang-Tak-Di-Duga.--Muaz-Pergi-Hanoi.--Elvis-Kawal-Traffic-Di-Jerman_171218.mp3 speech/Perkara%20Yang%20Tak%20Di%20Duga.%20%20Muaz%20Pergi%20Hanoi.%20%20Elvis%20Kawal%20Traffic%20Di%20Jerman_171218.mp3 https://huseinhouse-storage.s3-ap-southeast-1.amazonaws.com/speech/Perkara%2520Yang%2520Tak%2520Di%2520Duga.%2520%2520Muaz%2520Pergi%2520Hanoi.%2520%2520Elvis%2520Kawal%2520Traffic%2520Di%2520Jerman_171218.mp3 231\n"
     ]
    },
    {
     "name": "stderr",
     "output_type": "stream",
     "text": [
      "100%|██████████| 231/231 [08:26<00:00,  2.19s/it]\n",
      "  0%|          | 0/210 [00:00<?, ?it/s]"
     ]
    },
    {
     "name": "stdout",
     "output_type": "stream",
     "text": [
      "NAMA-Asia-Got-Talent-3-Bersama-PHD.--Pakaian-Batik-Ke-Parlimen--Susu-Formula-Penyebab-Bayi-Obesiti_070319.mp3 speech/NAMA%20Asia%20Got%20Talent%203%20Bersama%20PHD.%20%20Pakaian%20Batik%20Ke%20Parlimen%20%20Susu%20Formula%20Penyebab%20Bayi%20Obesiti_070319.mp3 https://huseinhouse-storage.s3-ap-southeast-1.amazonaws.com/speech/NAMA%2520Asia%2520Got%2520Talent%25203%2520Bersama%2520PHD.%2520%2520Pakaian%2520Batik%2520Ke%2520Parlimen%2520%2520Susu%2520Formula%2520Penyebab%2520Bayi%2520Obesiti_070319.mp3 210\n"
     ]
    },
    {
     "name": "stderr",
     "output_type": "stream",
     "text": [
      "100%|██████████| 210/210 [08:53<00:00,  2.54s/it]\n",
      "  0%|          | 0/233 [00:00<?, ?it/s]"
     ]
    },
    {
     "name": "stdout",
     "output_type": "stream",
     "text": [
      "Angkara-Mulut-Celupar--Surau-Dibina-Dari-13,000-Batu-Sungai.--Putus-Tunang-Dapat-40K_240419.mp3 speech/Angkara%20Mulut%20Celupar%20%20Surau%20Dibina%20Dari%2013%2C000%20Batu%20Sungai.%20%20Putus%20Tunang%20Dapat%2040K_240419.mp3 https://huseinhouse-storage.s3-ap-southeast-1.amazonaws.com/speech/Angkara%2520Mulut%2520Celupar%2520%2520Surau%2520Dibina%2520Dari%252013%252C000%2520Batu%2520Sungai.%2520%2520Putus%2520Tunang%2520Dapat%252040K_240419.mp3 233\n"
     ]
    },
    {
     "name": "stderr",
     "output_type": "stream",
     "text": [
      "100%|██████████| 233/233 [09:24<00:00,  2.42s/it]\n",
      "  0%|          | 0/235 [00:00<?, ?it/s]"
     ]
    },
    {
     "name": "stdout",
     "output_type": "stream",
     "text": [
      "d2db878d-c7a3-4017-bae2-80da4c9f02d1-Bagaimana-Hendak-Memupuk-Generasi-Mentaliti-Hebat--10-Universiti-Terbaik-Di-Malaysia.--Air-India-Ditutup_281119.mp3 speech/d2db878d-c7a3-4017-bae2-80da4c9f02d1-Bagaimana%20Hendak%20Memupuk%20Generasi%20Mentaliti%20Hebat%20%2010%20Universiti%20Terbaik%20Di%20Malaysia.%20%20Air%20India%20Ditutup_281119.mp3 https://huseinhouse-storage.s3-ap-southeast-1.amazonaws.com/speech/d2db878d-c7a3-4017-bae2-80da4c9f02d1-Bagaimana%2520Hendak%2520Memupuk%2520Generasi%2520Mentaliti%2520Hebat%2520%252010%2520Universiti%2520Terbaik%2520Di%2520Malaysia.%2520%2520Air%2520India%2520Ditutup_281119.mp3 235\n"
     ]
    },
    {
     "name": "stderr",
     "output_type": "stream",
     "text": [
      "100%|██████████| 235/235 [07:52<00:00,  2.01s/it]\n",
      "  0%|          | 0/221 [00:00<?, ?it/s]"
     ]
    },
    {
     "name": "stdout",
     "output_type": "stream",
     "text": [
      "CERITA-RAYA-KOOL.-S.-SURESH-JUARA-MEMANAH-PARA-DUNIA.-ZAHIRAH-MACWILSON-DAN-AIMAN-HAKIM-BERTUNANG_100619-.mp3 speech/CERITA%20RAYA%20KOOL.%20S.%20SURESH%20JUARA%20MEMANAH%20PARA%20DUNIA.%20ZAHIRAH%20MACWILSON%20DAN%20AIMAN%20HAKIM%20BERTUNANG_100619%20.mp3 https://huseinhouse-storage.s3-ap-southeast-1.amazonaws.com/speech/CERITA%2520RAYA%2520KOOL.%2520S.%2520SURESH%2520JUARA%2520MEMANAH%2520PARA%2520DUNIA.%2520ZAHIRAH%2520MACWILSON%2520DAN%2520AIMAN%2520HAKIM%2520BERTUNANG_100619%2520.mp3 221\n"
     ]
    },
    {
     "name": "stderr",
     "output_type": "stream",
     "text": [
      "100%|██████████| 221/221 [07:55<00:00,  2.15s/it]\n",
      "  0%|          | 0/235 [00:00<?, ?it/s]"
     ]
    },
    {
     "name": "stdout",
     "output_type": "stream",
     "text": [
      "KARAOKE-KHAMIS-BERSAMA-SHARIFAH-ZARINA.-PENGANTIN-MAIN-PUBG.-BERHENTI-KERJA-SELEPAS-MENANG-LOTERI_020519.mp3 speech/KARAOKE%20KHAMIS%20BERSAMA%20SHARIFAH%20ZARINA.%20PENGANTIN%20MAIN%20PUBG.%20BERHENTI%20KERJA%20SELEPAS%20MENANG%20LOTERI_020519.mp3 https://huseinhouse-storage.s3-ap-southeast-1.amazonaws.com/speech/KARAOKE%2520KHAMIS%2520BERSAMA%2520SHARIFAH%2520ZARINA.%2520PENGANTIN%2520MAIN%2520PUBG.%2520BERHENTI%2520KERJA%2520SELEPAS%2520MENANG%2520LOTERI_020519.mp3 235\n"
     ]
    },
    {
     "name": "stderr",
     "output_type": "stream",
     "text": [
      "100%|██████████| 235/235 [10:06<00:00,  2.58s/it]\n",
      "  0%|          | 0/208 [00:00<?, ?it/s]"
     ]
    },
    {
     "name": "stdout",
     "output_type": "stream",
     "text": [
      "BumiPutra-Rockers-Nak-Buat-Showcase.--Anggota-Paskal-Maut-Terkena-Bom-Ikan.--Kenapa-Bola-Golf-Berlubang-Lubang_070219.mp3 speech/BumiPutra%20Rockers%20Nak%20Buat%20Showcase.%20%20Anggota%20Paskal%20Maut%20Terkena%20Bom%20Ikan.%20%20Kenapa%20Bola%20Golf%20Berlubang%20Lubang_070219.mp3 https://huseinhouse-storage.s3-ap-southeast-1.amazonaws.com/speech/BumiPutra%2520Rockers%2520Nak%2520Buat%2520Showcase.%2520%2520Anggota%2520Paskal%2520Maut%2520Terkena%2520Bom%2520Ikan.%2520%2520Kenapa%2520Bola%2520Golf%2520Berlubang%2520Lubang_070219.mp3 208\n"
     ]
    },
    {
     "name": "stderr",
     "output_type": "stream",
     "text": [
      "100%|██████████| 208/208 [09:13<00:00,  2.66s/it]\n",
      "  0%|          | 0/235 [00:00<?, ?it/s]"
     ]
    },
    {
     "name": "stdout",
     "output_type": "stream",
     "text": [
      "Perlukah-Insurans-Perlindungan-Bencana-Alam.-Haiwan-Di-Zoo-Gaza-Dipindahkan.-Pelawak-Pukul-Pengawal-Keselamatan_080419.mp3 speech/Perlukah%20Insurans%20Perlindungan%20Bencana%20Alam.%20Haiwan%20Di%20Zoo%20Gaza%20Dipindahkan.%20Pelawak%20Pukul%20Pengawal%20Keselamatan_080419.mp3 https://huseinhouse-storage.s3-ap-southeast-1.amazonaws.com/speech/Perlukah%2520Insurans%2520Perlindungan%2520Bencana%2520Alam.%2520Haiwan%2520Di%2520Zoo%2520Gaza%2520Dipindahkan.%2520Pelawak%2520Pukul%2520Pengawal%2520Keselamatan_080419.mp3 235\n"
     ]
    },
    {
     "name": "stderr",
     "output_type": "stream",
     "text": [
      "100%|██████████| 235/235 [08:12<00:00,  2.09s/it]\n",
      "  0%|          | 0/122 [00:00<?, ?it/s]"
     ]
    },
    {
     "name": "stdout",
     "output_type": "stream",
     "text": [
      "35def517-48af-4328-a686-330df1246618-Wanita-Pilih-Kerja-Gaji-Tinggi-Berbanding-Lelaki.-Tempat-Bungee-Jumping-Paling-Tinggi.-Haiza-Lupa-Park-Ji-Suung_211019.mp3 speech/35def517-48af-4328-a686-330df1246618-Wanita%20Pilih%20Kerja%20Gaji%20Tinggi%20Berbanding%20Lelaki.%20Tempat%20Bungee%20Jumping%20Paling%20Tinggi.%20Haiza%20Lupa%20Park%20Ji%20Suung_211019.mp3 https://huseinhouse-storage.s3-ap-southeast-1.amazonaws.com/speech/35def517-48af-4328-a686-330df1246618-Wanita%2520Pilih%2520Kerja%2520Gaji%2520Tinggi%2520Berbanding%2520Lelaki.%2520Tempat%2520Bungee%2520Jumping%2520Paling%2520Tinggi.%2520Haiza%2520Lupa%2520Park%2520Ji%2520Suung_211019.mp3 122\n"
     ]
    },
    {
     "name": "stderr",
     "output_type": "stream",
     "text": [
      "100%|██████████| 122/122 [04:38<00:00,  2.28s/it]\n",
      "  0%|          | 0/235 [00:00<?, ?it/s]"
     ]
    },
    {
     "name": "stdout",
     "output_type": "stream",
     "text": [
      "b2fd81ed-3b48-4fce-9ad4-355eba437f89-Mengadu-Pada-Siapa--Durian-Berharga-Setengah-Juta--Nama-Jalan-Yang-Rare-Di-Indonesia_131219.mp3 speech/b2fd81ed-3b48-4fce-9ad4-355eba437f89-Mengadu%20Pada%20Siapa%20%20Durian%20Berharga%20Setengah%20Juta%20%20Nama%20Jalan%20Yang%20Rare%20Di%20Indonesia_131219.mp3 https://huseinhouse-storage.s3-ap-southeast-1.amazonaws.com/speech/b2fd81ed-3b48-4fce-9ad4-355eba437f89-Mengadu%2520Pada%2520Siapa%2520%2520Durian%2520Berharga%2520Setengah%2520Juta%2520%2520Nama%2520Jalan%2520Yang%2520Rare%2520Di%2520Indonesia_131219.mp3 235\n"
     ]
    },
    {
     "name": "stderr",
     "output_type": "stream",
     "text": [
      "100%|██████████| 235/235 [07:21<00:00,  1.88s/it]\n",
      "  0%|          | 0/239 [00:00<?, ?it/s]"
     ]
    },
    {
     "name": "stdout",
     "output_type": "stream",
     "text": [
      "AMALAN-DAN-TIPS-DIET.-RACHEL-ARNOLD-JUARAI-TERBUKA-MALAYSIA.-BAYI-BARU-LAHIR-HANYA-BOLEH-MELIHAT-WARNA-HITAM_300919.mp3 speech/AMALAN%20DAN%20TIPS%20DIET.%20RACHEL%20ARNOLD%20JUARAI%20TERBUKA%20MALAYSIA.%20BAYI%20BARU%20LAHIR%20HANYA%20BOLEH%20MELIHAT%20WARNA%20HITAM_300919.mp3 https://huseinhouse-storage.s3-ap-southeast-1.amazonaws.com/speech/AMALAN%2520DAN%2520TIPS%2520DIET.%2520RACHEL%2520ARNOLD%2520JUARAI%2520TERBUKA%2520MALAYSIA.%2520BAYI%2520BARU%2520LAHIR%2520HANYA%2520BOLEH%2520MELIHAT%2520WARNA%2520HITAM_300919.mp3 239\n"
     ]
    },
    {
     "name": "stderr",
     "output_type": "stream",
     "text": [
      "100%|██████████| 239/239 [09:32<00:00,  2.39s/it]\n",
      "  0%|          | 0/236 [00:00<?, ?it/s]"
     ]
    },
    {
     "name": "stdout",
     "output_type": "stream",
     "text": [
      "Hari-Pertama-Ramadhan.--Brunei-Batal-Hukuman-Mati.--Lelaki-Jadi-Santapan-Singa_060519.mp3 speech/Hari%20Pertama%20Ramadhan.%20%20Brunei%20Batal%20Hukuman%20Mati.%20%20Lelaki%20Jadi%20Santapan%20Singa_060519.mp3 https://huseinhouse-storage.s3-ap-southeast-1.amazonaws.com/speech/Hari%2520Pertama%2520Ramadhan.%2520%2520Brunei%2520Batal%2520Hukuman%2520Mati.%2520%2520Lelaki%2520Jadi%2520Santapan%2520Singa_060519.mp3 236\n"
     ]
    },
    {
     "name": "stderr",
     "output_type": "stream",
     "text": [
      "100%|██████████| 236/236 [08:20<00:00,  2.12s/it]\n",
      "  0%|          | 0/241 [00:00<?, ?it/s]"
     ]
    },
    {
     "name": "stdout",
     "output_type": "stream",
     "text": [
      "Shiha-Nak-Ajar-Step-Pipiyama.--Wanita-Maut-Dibaham-Buaya.--Bapa-Warning-Jangan-Buli-Anak!_170119.mp3 speech/Shiha%20Nak%20Ajar%20Step%20Pipiyama.%20%20Wanita%20Maut%20Dibaham%20Buaya.%20%20Bapa%20Warning%20Jangan%20Buli%20Anak!_170119.mp3 https://huseinhouse-storage.s3-ap-southeast-1.amazonaws.com/speech/Shiha%2520Nak%2520Ajar%2520Step%2520Pipiyama.%2520%2520Wanita%2520Maut%2520Dibaham%2520Buaya.%2520%2520Bapa%2520Warning%2520Jangan%2520Buli%2520Anak%21_170119.mp3 241\n"
     ]
    },
    {
     "name": "stderr",
     "output_type": "stream",
     "text": [
      "100%|██████████| 241/241 [11:09<00:00,  2.78s/it]\n",
      "  0%|          | 0/246 [00:00<?, ?it/s]"
     ]
    },
    {
     "name": "stdout",
     "output_type": "stream",
     "text": [
      "Pengalaman-Berniaga-Di-Bazar-Ramadhan.-Bahasa-Inggeris-Loghat-Terengganu.-Altimet-Terharu-Karya-Beliau-Jadi-Kajian-Pelajar_030519.mp3 speech/Pengalaman%20Berniaga%20Di%20Bazar%20Ramadhan.%20Bahasa%20Inggeris%20Loghat%20Terengganu.%20Altimet%20Terharu%20Karya%20Beliau%20Jadi%20Kajian%20Pelajar_030519.mp3 https://huseinhouse-storage.s3-ap-southeast-1.amazonaws.com/speech/Pengalaman%2520Berniaga%2520Di%2520Bazar%2520Ramadhan.%2520Bahasa%2520Inggeris%2520Loghat%2520Terengganu.%2520Altimet%2520Terharu%2520Karya%2520Beliau%2520Jadi%2520Kajian%2520Pelajar_030519.mp3 246\n"
     ]
    },
    {
     "name": "stderr",
     "output_type": "stream",
     "text": [
      "100%|██████████| 246/246 [08:59<00:00,  2.19s/it]\n",
      "  0%|          | 0/241 [00:00<?, ?it/s]"
     ]
    },
    {
     "name": "stdout",
     "output_type": "stream",
     "text": [
      "812b06ee-61ce-413f-81fc-6b7b96cbc189-BERAPA-TAHUN-ANDA-MAMPU-BERTAHAN-UNTUK-BERCINTA.-TAKUT-DIHUKUM-GANTUNG-WANITA-RUGI-RM476,000.-MALAYSIA-MENUJU-FASA-BARU,-SETANDING-KOREA---PEMBEDAHAN-PLASTIK_270219.mp3 speech/812b06ee-61ce-413f-81fc-6b7b96cbc189-BERAPA%20TAHUN%20ANDA%20MAMPU%20BERTAHAN%20UNTUK%20BERCINTA.%20TAKUT%20DIHUKUM%20GANTUNG%20WANITA%20RUGI%20RM476%2C000.%20MALAYSIA%20MENUJU%20FASA%20BARU%2C%20SETANDING%20KOREA%20-%20PEMBEDAHAN%20PLASTIK_270219.mp3 https://huseinhouse-storage.s3-ap-southeast-1.amazonaws.com/speech/812b06ee-61ce-413f-81fc-6b7b96cbc189-BERAPA%2520TAHUN%2520ANDA%2520MAMPU%2520BERTAHAN%2520UNTUK%2520BERCINTA.%2520TAKUT%2520DIHUKUM%2520GANTUNG%2520WANITA%2520RUGI%2520RM476%252C000.%2520MALAYSIA%2520MENUJU%2520FASA%2520BARU%252C%2520SETANDING%2520KOREA%2520-%2520PEMBEDAHAN%2520PLASTIK_270219.mp3 241\n"
     ]
    },
    {
     "name": "stderr",
     "output_type": "stream",
     "text": [
      "100%|██████████| 241/241 [09:44<00:00,  2.43s/it]\n",
      "  0%|          | 0/239 [00:00<?, ?it/s]"
     ]
    },
    {
     "name": "stdout",
     "output_type": "stream",
     "text": [
      "Apa-Hadiah-Hari-Jadi-Impian-Anda.--Safawi-Top-10-Pemain-Muda-Terbaik-Asia.--Waratwan-Ditikam-Pemutar-Skru-Ketika-Bersiaran_040319.mp3 speech/Apa%20Hadiah%20Hari%20Jadi%20Impian%20Anda.%20%20Safawi%20Top%2010%20Pemain%20Muda%20Terbaik%20Asia.%20%20Waratwan%20Ditikam%20Pemutar%20Skru%20Ketika%20Bersiaran_040319.mp3 https://huseinhouse-storage.s3-ap-southeast-1.amazonaws.com/speech/Apa%2520Hadiah%2520Hari%2520Jadi%2520Impian%2520Anda.%2520%2520Safawi%2520Top%252010%2520Pemain%2520Muda%2520Terbaik%2520Asia.%2520%2520Waratwan%2520Ditikam%2520Pemutar%2520Skru%2520Ketika%2520Bersiaran_040319.mp3 239\n"
     ]
    },
    {
     "name": "stderr",
     "output_type": "stream",
     "text": [
      "100%|██████████| 239/239 [09:12<00:00,  2.31s/it]\n",
      "  0%|          | 0/240 [00:00<?, ?it/s]"
     ]
    },
    {
     "name": "stdout",
     "output_type": "stream",
     "text": [
      "44c72483-2752-402b-b228-fdaf6d4dc132-Kerusi-Keselamatan-Kanak-Kanak-Wajib-Januari-2020.--Korek-Biji-Mata-Sebab-Cemburu.--Kambing-Biri-Biri-Rekod-Dunia-Mati_241019.mp3 speech/44c72483-2752-402b-b228-fdaf6d4dc132-Kerusi%20Keselamatan%20Kanak-Kanak%20Wajib%20Januari%202020.%20%20Korek%20Biji%20Mata%20Sebab%20Cemburu.%20%20Kambing%20Biri-Biri%20Rekod%20Dunia%20Mati_241019.mp3 https://huseinhouse-storage.s3-ap-southeast-1.amazonaws.com/speech/44c72483-2752-402b-b228-fdaf6d4dc132-Kerusi%2520Keselamatan%2520Kanak-Kanak%2520Wajib%2520Januari%25202020.%2520%2520Korek%2520Biji%2520Mata%2520Sebab%2520Cemburu.%2520%2520Kambing%2520Biri-Biri%2520Rekod%2520Dunia%2520Mati_241019.mp3 240\n"
     ]
    },
    {
     "name": "stderr",
     "output_type": "stream",
     "text": [
      "100%|██████████| 240/240 [07:56<00:00,  1.99s/it]\n",
      "  0%|          | 0/238 [00:00<?, ?it/s]"
     ]
    },
    {
     "name": "stdout",
     "output_type": "stream",
     "text": [
      "Kepentingan-DashCam.--Gua-Terbesar-Di-Dunia,-Di-Vietnam.--RM-6.4-Juta-Tunggakan-Gaji-Pemain-Bola_050819.mp3 speech/Kepentingan%20DashCam.%20%20Gua%20Terbesar%20Di%20Dunia%2C%20Di%20Vietnam.%20%20RM%206.4%20Juta%20Tunggakan%20Gaji%20Pemain%20Bola_050819.mp3 https://huseinhouse-storage.s3-ap-southeast-1.amazonaws.com/speech/Kepentingan%2520DashCam.%2520%2520Gua%2520Terbesar%2520Di%2520Dunia%252C%2520Di%2520Vietnam.%2520%2520RM%25206.4%2520Juta%2520Tunggakan%2520Gaji%2520Pemain%2520Bola_050819.mp3 238\n"
     ]
    },
    {
     "name": "stderr",
     "output_type": "stream",
     "text": [
      "100%|██████████| 238/238 [07:30<00:00,  1.89s/it]\n",
      "  0%|          | 0/241 [00:00<?, ?it/s]"
     ]
    },
    {
     "name": "stdout",
     "output_type": "stream",
     "text": [
      "b9186197-8409-43c3-923c-1220691502a5-Kesedaran-Masyarakat---Hormati-OKU.--Makan-Fast-Food-Cenderung-Kena-Depression.--Durian-Runtuh-Buat-Imam-Dan-Bilal_121119.mp3 speech/b9186197-8409-43c3-923c-1220691502a5-Kesedaran%20Masyarakat%20-%20Hormati%20OKU.%20%20Makan%20Fast%20Food%20Cenderung%20Kena%20Depression.%20%20Durian%20Runtuh%20Buat%20Imam%20Dan%20Bilal_121119.mp3 https://huseinhouse-storage.s3-ap-southeast-1.amazonaws.com/speech/b9186197-8409-43c3-923c-1220691502a5-Kesedaran%2520Masyarakat%2520-%2520Hormati%2520OKU.%2520%2520Makan%2520Fast%2520Food%2520Cenderung%2520Kena%2520Depression.%2520%2520Durian%2520Runtuh%2520Buat%2520Imam%2520Dan%2520Bilal_121119.mp3 241\n"
     ]
    },
    {
     "name": "stderr",
     "output_type": "stream",
     "text": [
      "100%|██████████| 241/241 [06:30<00:00,  1.62s/it]\n",
      "  0%|          | 0/212 [00:00<?, ?it/s]"
     ]
    },
    {
     "name": "stdout",
     "output_type": "stream",
     "text": [
      "Pencemaran-Udara-Di-Pasir-Gudang-Kembali--Lukaku-Tinggalkan-United.--Remaja-Lelaki-Rosakkan-Barang-Di-Kedai-Serbaneka-Dikecam-Netizen_210619-.mp3 speech/Pencemaran%20Udara%20Di%20Pasir%20Gudang%20Kembali%20%20Lukaku%20Tinggalkan%20United.%20%20Remaja%20Lelaki%20Rosakkan%20Barang%20Di%20Kedai%20Serbaneka%20Dikecam%20Netizen_210619%20.mp3 https://huseinhouse-storage.s3-ap-southeast-1.amazonaws.com/speech/Pencemaran%2520Udara%2520Di%2520Pasir%2520Gudang%2520Kembali%2520%2520Lukaku%2520Tinggalkan%2520United.%2520%2520Remaja%2520Lelaki%2520Rosakkan%2520Barang%2520Di%2520Kedai%2520Serbaneka%2520Dikecam%2520Netizen_210619%2520.mp3 212\n"
     ]
    },
    {
     "name": "stderr",
     "output_type": "stream",
     "text": [
      "100%|██████████| 212/212 [06:22<00:00,  1.80s/it]\n",
      "  0%|          | 0/238 [00:00<?, ?it/s]"
     ]
    },
    {
     "name": "stdout",
     "output_type": "stream",
     "text": [
      "Apa-Yang-Membuatkan-Anda-Tersenyum--Imam-Ditikam-Ketika-Bca-Al-Quran.--Pelajar-Malaysia-Juara-Robotik-Antarabangsa-Turki_130519.mp3 speech/Apa%20Yang%20Membuatkan%20Anda%20Tersenyum%20%20Imam%20Ditikam%20Ketika%20Bca%20Al-Quran.%20%20Pelajar%20Malaysia%20Juara%20Robotik%20Antarabangsa%20Turki_130519.mp3 https://huseinhouse-storage.s3-ap-southeast-1.amazonaws.com/speech/Apa%2520Yang%2520Membuatkan%2520Anda%2520Tersenyum%2520%2520Imam%2520Ditikam%2520Ketika%2520Bca%2520Al-Quran.%2520%2520Pelajar%2520Malaysia%2520Juara%2520Robotik%2520Antarabangsa%2520Turki_130519.mp3 238\n"
     ]
    },
    {
     "name": "stderr",
     "output_type": "stream",
     "text": [
      "100%|██████████| 238/238 [09:16<00:00,  2.34s/it]\n",
      "  0%|          | 0/241 [00:00<?, ?it/s]"
     ]
    },
    {
     "name": "stdout",
     "output_type": "stream",
     "text": [
      "Mampu-Ke-Simpan-Rahsia-Lama-Lama.--Dendam-Kesumat-20-Tahun,Pelajar-Pukul-Guru--Malaysia-Negara-Asia-Tenggara-Paling-Banyak-Cuti_241218.mp3 speech/Mampu%20Ke%20Simpan%20Rahsia%20Lama%20Lama.%20%20Dendam%20Kesumat%2020%20Tahun,Pelajar%20Pukul%20Guru%20%20Malaysia%20Negara%20Asia%20Tenggara%20Paling%20Banyak%20Cuti_241218.mp3 https://huseinhouse-storage.s3-ap-southeast-1.amazonaws.com/speech/Mampu%2520Ke%2520Simpan%2520Rahsia%2520Lama%2520Lama.%2520%2520Dendam%2520Kesumat%252020%2520Tahun%2CPelajar%2520Pukul%2520Guru%2520%2520Malaysia%2520Negara%2520Asia%2520Tenggara%2520Paling%2520Banyak%2520Cuti_241218.mp3 241\n"
     ]
    },
    {
     "name": "stderr",
     "output_type": "stream",
     "text": [
      "100%|██████████| 241/241 [07:23<00:00,  1.84s/it]\n",
      "  0%|          | 0/242 [00:00<?, ?it/s]"
     ]
    },
    {
     "name": "stdout",
     "output_type": "stream",
     "text": [
      "6c567ba4-e198-4635-8f87-dda53e6af649-Pemburu-Viral-Terima-Padah.-Lebah-Perlukan-4000-Kuntum-Bunga-Demi-Sesudu-Madu.-Minggu-Stress-Sedunia_051119.mp3 speech/6c567ba4-e198-4635-8f87-dda53e6af649-Pemburu%20Viral%20Terima%20Padah.%20Lebah%20Perlukan%204000%20Kuntum%20Bunga%20Demi%20Sesudu%20Madu.%20Minggu%20Stress%20Sedunia_051119.mp3 https://huseinhouse-storage.s3-ap-southeast-1.amazonaws.com/speech/6c567ba4-e198-4635-8f87-dda53e6af649-Pemburu%2520Viral%2520Terima%2520Padah.%2520Lebah%2520Perlukan%25204000%2520Kuntum%2520Bunga%2520Demi%2520Sesudu%2520Madu.%2520Minggu%2520Stress%2520Sedunia_051119.mp3 242\n"
     ]
    },
    {
     "name": "stderr",
     "output_type": "stream",
     "text": [
      "100%|██████████| 242/242 [09:37<00:00,  2.39s/it]\n",
      "  0%|          | 0/242 [00:00<?, ?it/s]"
     ]
    },
    {
     "name": "stdout",
     "output_type": "stream",
     "text": [
      "Altimet-Nak-Belanja-Tiket.--Perompak-Larikan-RM4.61-Juta-Dari-Van-Berperisai.--Tips-Nak-Elak-Gangguan-Seksual-Di-Tempat-Kerja_120219-.mp3 speech/Altimet%20Nak%20Belanja%20Tiket.%20%20Perompak%20Larikan%20RM4.61%20Juta%20Dari%20Van%20Berperisai.%20%20Tips%20Nak%20Elak%20Gangguan%20Seksual%20Di%20Tempat%20Kerja_120219%20.mp3 https://huseinhouse-storage.s3-ap-southeast-1.amazonaws.com/speech/Altimet%2520Nak%2520Belanja%2520Tiket.%2520%2520Perompak%2520Larikan%2520RM4.61%2520Juta%2520Dari%2520Van%2520Berperisai.%2520%2520Tips%2520Nak%2520Elak%2520Gangguan%2520Seksual%2520Di%2520Tempat%2520Kerja_120219%2520.mp3 242\n"
     ]
    },
    {
     "name": "stderr",
     "output_type": "stream",
     "text": [
      "100%|██████████| 242/242 [09:15<00:00,  2.30s/it]\n",
      "  0%|          | 0/245 [00:00<?, ?it/s]"
     ]
    },
    {
     "name": "stdout",
     "output_type": "stream",
     "text": [
      "Haiza-Bengang-Orang-Suka-Potong-Cue.-Beli-Cerek-Dapat-Anak-Ular.-Restoran-Makan-Secara-Bogel,-Gulung-Tikar_100119.mp3 speech/Haiza%20Bengang%20Orang%20Suka%20Potong%20Cue.%20Beli%20Cerek%20Dapat%20Anak%20Ular.%20Restoran%20Makan%20Secara%20Bogel,%20Gulung%20Tikar_100119.mp3 https://huseinhouse-storage.s3-ap-southeast-1.amazonaws.com/speech/Haiza%2520Bengang%2520Orang%2520Suka%2520Potong%2520Cue.%2520Beli%2520Cerek%2520Dapat%2520Anak%2520Ular.%2520Restoran%2520Makan%2520Secara%2520Bogel%2C%2520Gulung%2520Tikar_100119.mp3 245\n"
     ]
    },
    {
     "name": "stderr",
     "output_type": "stream",
     "text": [
      "100%|██████████| 245/245 [13:03<00:00,  3.20s/it]\n",
      "  0%|          | 0/238 [00:00<?, ?it/s]"
     ]
    },
    {
     "name": "stdout",
     "output_type": "stream",
     "text": [
      "Lan-Laga-Bersama-PHD-Kool-FM.--Pesawat-Untuk-Haiwan-Peliharaan.--Apa-YB-Nik-Nazmi-Buat-Di-UK_050419--.mp3 speech/Lan%20Laga%20Bersama%20PHD%20Kool%20FM.%20%20Pesawat%20Untuk%20Haiwan%20Peliharaan.%20%20Apa%20YB%20Nik%20Nazmi%20Buat%20Di%20UK_050419%20%20.mp3 https://huseinhouse-storage.s3-ap-southeast-1.amazonaws.com/speech/Lan%2520Laga%2520Bersama%2520PHD%2520Kool%2520FM.%2520%2520Pesawat%2520Untuk%2520Haiwan%2520Peliharaan.%2520%2520Apa%2520YB%2520Nik%2520Nazmi%2520Buat%2520Di%2520UK_050419%2520%2520.mp3 238\n"
     ]
    },
    {
     "name": "stderr",
     "output_type": "stream",
     "text": [
      "100%|██████████| 238/238 [09:40<00:00,  2.44s/it]\n",
      "  0%|          | 0/236 [00:00<?, ?it/s]"
     ]
    },
    {
     "name": "stdout",
     "output_type": "stream",
     "text": [
      "Siti-Nordiana-Bergabung-Dengan-Khai-Bahar.--Budak-Lelaki-Diculik,-Harap-Dipulangkan.--Makanan-Pelik-Tapi-Wujud_030719.mp3 speech/Siti%20Nordiana%20Bergabung%20Dengan%20Khai%20Bahar.%20%20Budak%20Lelaki%20Diculik%2C%20Harap%20Dipulangkan.%20%20Makanan%20Pelik%20Tapi%20Wujud_030719.mp3 https://huseinhouse-storage.s3-ap-southeast-1.amazonaws.com/speech/Siti%2520Nordiana%2520Bergabung%2520Dengan%2520Khai%2520Bahar.%2520%2520Budak%2520Lelaki%2520Diculik%252C%2520Harap%2520Dipulangkan.%2520%2520Makanan%2520Pelik%2520Tapi%2520Wujud_030719.mp3 236\n"
     ]
    },
    {
     "name": "stderr",
     "output_type": "stream",
     "text": [
      "100%|██████████| 236/236 [11:36<00:00,  2.95s/it]\n",
      "  0%|          | 0/243 [00:00<?, ?it/s]"
     ]
    },
    {
     "name": "stdout",
     "output_type": "stream",
     "text": [
      "f6683f9e-47f8-4173-90b0-8232bf137429-Sukan-Sea-2019-Gagal-Capai-Sasaran.-Jack-The-Ripper-Thailand.-Fakta-Jantung-Bayi-Berdegup-Lebih-Laju-Daripada-Orang-Dewasa_181219-.mp3 speech/f6683f9e-47f8-4173-90b0-8232bf137429-Sukan%20Sea%202019%20Gagal%20Capai%20Sasaran.%20Jack%20The%20Ripper%20Thailand.%20Fakta%20Jantung%20Bayi%20Berdegup%20Lebih%20Laju%20Daripada%20Orang%20Dewasa_181219%20.mp3 https://huseinhouse-storage.s3-ap-southeast-1.amazonaws.com/speech/f6683f9e-47f8-4173-90b0-8232bf137429-Sukan%2520Sea%25202019%2520Gagal%2520Capai%2520Sasaran.%2520Jack%2520The%2520Ripper%2520Thailand.%2520Fakta%2520Jantung%2520Bayi%2520Berdegup%2520Lebih%2520Laju%2520Daripada%2520Orang%2520Dewasa_181219%2520.mp3 243\n"
     ]
    },
    {
     "name": "stderr",
     "output_type": "stream",
     "text": [
      "100%|██████████| 243/243 [09:16<00:00,  2.29s/it]\n",
      "  0%|          | 0/246 [00:00<?, ?it/s]"
     ]
    },
    {
     "name": "stdout",
     "output_type": "stream",
     "text": [
      "Empayar-Ulat-Parkir-RM1.--Salam-Takziah-BJ-Habibie.--Konsert-Percuma,-3.6-juta-Penonton_120919.mp3 speech/Empayar%20Ulat%20Parkir%20RM1.%20%20Salam%20Takziah%20BJ%20Habibie.%20%20Konsert%20Percuma%2C%203.6%20juta%20Penonton_120919.mp3 https://huseinhouse-storage.s3-ap-southeast-1.amazonaws.com/speech/Empayar%2520Ulat%2520Parkir%2520RM1.%2520%2520Salam%2520Takziah%2520BJ%2520Habibie.%2520%2520Konsert%2520Percuma%252C%25203.6%2520juta%2520Penonton_120919.mp3 246\n"
     ]
    },
    {
     "name": "stderr",
     "output_type": "stream",
     "text": [
      "100%|██████████| 246/246 [10:25<00:00,  2.54s/it]\n",
      "  0%|          | 0/232 [00:00<?, ?it/s]"
     ]
    },
    {
     "name": "stdout",
     "output_type": "stream",
     "text": [
      "Dua-Kerja-Halalkan-Hubungan.--Tak-Bole-Move-On-ke-Atau-Nak-Berdendam.--Aliff-Satar-Dapat-Tempat-Duduk-Khas-Dekat-Masjid-Hari-Jumaat_080819.mp3 speech/Dua%20Kerja%20Halalkan%20Hubungan.%20%20Tak%20Bole%20Move%20On%20ke%20Atau%20Nak%20Berdendam.%20%20Aliff%20Satar%20Dapat%20Tempat%20Duduk%20Khas%20Dekat%20Masjid%20Hari%20Jumaat_080819.mp3 https://huseinhouse-storage.s3-ap-southeast-1.amazonaws.com/speech/Dua%2520Kerja%2520Halalkan%2520Hubungan.%2520%2520Tak%2520Bole%2520Move%2520On%2520ke%2520Atau%2520Nak%2520Berdendam.%2520%2520Aliff%2520Satar%2520Dapat%2520Tempat%2520Duduk%2520Khas%2520Dekat%2520Masjid%2520Hari%2520Jumaat_080819.mp3 232\n"
     ]
    },
    {
     "name": "stderr",
     "output_type": "stream",
     "text": [
      "100%|██████████| 232/232 [10:27<00:00,  2.71s/it]\n",
      "  0%|          | 0/244 [00:00<?, ?it/s]"
     ]
    },
    {
     "name": "stdout",
     "output_type": "stream",
     "text": [
      "Jangan-Aniaya-Kucing.--Tempat-Paling-Panas-Di-Dunia.--P.Maniam-Bangga-Dengan-Anak-Buah_020819.mp3 speech/Jangan%20Aniaya%20Kucing.%20%20Tempat%20Paling%20Panas%20Di%20Dunia.%20%20P.Maniam%20Bangga%20Dengan%20Anak%20Buah_020819.mp3 https://huseinhouse-storage.s3-ap-southeast-1.amazonaws.com/speech/Jangan%2520Aniaya%2520Kucing.%2520%2520Tempat%2520Paling%2520Panas%2520Di%2520Dunia.%2520%2520P.Maniam%2520Bangga%2520Dengan%2520Anak%2520Buah_020819.mp3 244\n"
     ]
    },
    {
     "name": "stderr",
     "output_type": "stream",
     "text": [
      "100%|██████████| 244/244 [10:29<00:00,  2.58s/it]\n",
      "  0%|          | 0/245 [00:00<?, ?it/s]"
     ]
    },
    {
     "name": "stdout",
     "output_type": "stream",
     "text": [
      "Perempuan-Kuat-Pendam--Pikat-Anak,Dapat-RM-1.28-Juta.--RIP-Luke-Perry_050319.mp3 speech/Perempuan%20Kuat%20Pendam%20%20Pikat%20Anak%2CDapat%20RM%201.28%20Juta.%20%20RIP%20Luke%20Perry_050319.mp3 https://huseinhouse-storage.s3-ap-southeast-1.amazonaws.com/speech/Perempuan%2520Kuat%2520Pendam%2520%2520Pikat%2520Anak%252CDapat%2520RM%25201.28%2520Juta.%2520%2520RIP%2520Luke%2520Perry_050319.mp3 245\n"
     ]
    },
    {
     "name": "stderr",
     "output_type": "stream",
     "text": [
      "100%|██████████| 245/245 [11:08<00:00,  2.73s/it]\n",
      "  0%|          | 0/230 [00:00<?, ?it/s]"
     ]
    },
    {
     "name": "stdout",
     "output_type": "stream",
     "text": [
      "Kotak-Muzik-Bersama-Lan-Solo.--Escort-Girl-Ke-Sis--Ular-Sawa-26-KG-Di-Tingkat-14_210319-.mp3 speech/Kotak%20Muzik%20Bersama%20Lan%20Solo.%20%20Escort%20Girl%20Ke%20Sis%20%20Ular%20Sawa%2026%20KG%20Di%20Tingkat%2014_210319%20.mp3 https://huseinhouse-storage.s3-ap-southeast-1.amazonaws.com/speech/Kotak%2520Muzik%2520Bersama%2520Lan%2520Solo.%2520%2520Escort%2520Girl%2520Ke%2520Sis%2520%2520Ular%2520Sawa%252026%2520KG%2520Di%2520Tingkat%252014_210319%2520.mp3 230\n"
     ]
    },
    {
     "name": "stderr",
     "output_type": "stream",
     "text": [
      "100%|██████████| 230/230 [10:02<00:00,  2.62s/it]\n",
      "  0%|          | 0/259 [00:00<?, ?it/s]"
     ]
    },
    {
     "name": "stdout",
     "output_type": "stream",
     "text": [
      "Ramlah-Ram-Bersama-PHD.-Sultan-Johor-Tumpangkan-Tun-M-Ke-Airport.-Catwalk-Sambil-Berbogel_110119.mp3 speech/Ramlah%20Ram%20Bersama%20PHD.%20Sultan%20Johor%20Tumpangkan%20Tun%20M%20Ke%20Airport.%20Catwalk%20Sambil%20Berbogel_110119.mp3 https://huseinhouse-storage.s3-ap-southeast-1.amazonaws.com/speech/Ramlah%2520Ram%2520Bersama%2520PHD.%2520Sultan%2520Johor%2520Tumpangkan%2520Tun%2520M%2520Ke%2520Airport.%2520Catwalk%2520Sambil%2520Berbogel_110119.mp3 259\n"
     ]
    },
    {
     "name": "stderr",
     "output_type": "stream",
     "text": [
      "100%|██████████| 259/259 [13:54<00:00,  3.22s/it]\n",
      "  0%|          | 0/246 [00:00<?, ?it/s]"
     ]
    },
    {
     "name": "stdout",
     "output_type": "stream",
     "text": [
      "PENGARUH-PORNOGRAFI-SEMAKIN-MENULAR.-FAKTA-MENGENAI-AIR-LIUR.-ARTIS-BBNU-TAK-TAHAN-PANAS_040719.mp3 speech/PENGARUH%20PORNOGRAFI%20SEMAKIN%20MENULAR.%20FAKTA%20MENGENAI%20AIR%20LIUR.%20ARTIS%20BBNU%20TAK%20TAHAN%20PANAS_040719.mp3 https://huseinhouse-storage.s3-ap-southeast-1.amazonaws.com/speech/PENGARUH%2520PORNOGRAFI%2520SEMAKIN%2520MENULAR.%2520FAKTA%2520MENGENAI%2520AIR%2520LIUR.%2520ARTIS%2520BBNU%2520TAK%2520TAHAN%2520PANAS_040719.mp3 246\n"
     ]
    },
    {
     "name": "stderr",
     "output_type": "stream",
     "text": [
      "100%|██████████| 246/246 [08:42<00:00,  2.13s/it]\n",
      "  0%|          | 0/249 [00:00<?, ?it/s]"
     ]
    },
    {
     "name": "stdout",
     "output_type": "stream",
     "text": [
      "70-Gagal-Kawal-Kewangan.--Nenek-Mangsa-Gangguan-Seksual.--Filem-Tun-Dr.-Siti-Hasmah_081019.mp3 speech/70%20Gagal%20Kawal%20Kewangan.%20%20Nenek%20Mangsa%20Gangguan%20Seksual.%20%20Filem%20Tun%20Dr.%20Siti%20Hasmah_081019.mp3 https://huseinhouse-storage.s3-ap-southeast-1.amazonaws.com/speech/70%2520Gagal%2520Kawal%2520Kewangan.%2520%2520Nenek%2520Mangsa%2520Gangguan%2520Seksual.%2520%2520Filem%2520Tun%2520Dr.%2520Siti%2520Hasmah_081019.mp3 249\n"
     ]
    },
    {
     "name": "stderr",
     "output_type": "stream",
     "text": [
      "100%|██████████| 249/249 [10:18<00:00,  2.49s/it]\n",
      "  0%|          | 0/248 [00:00<?, ?it/s]"
     ]
    },
    {
     "name": "stdout",
     "output_type": "stream",
     "text": [
      "d9278c00-7c63-4acf-84bc-389ffddec598-Pantau-Kandungan-Digital-Untuk-Anak-Anak.--Cium-Anak-Beri-Aura-Positif.--Adat-Pelik-Ketika-Majlis-Perkahwinan_181119.mp3 speech/d9278c00-7c63-4acf-84bc-389ffddec598-Pantau%20Kandungan%20Digital%20Untuk%20Anak-Anak.%20%20Cium%20Anak%20Beri%20Aura%20Positif.%20%20Adat%20Pelik%20Ketika%20Majlis%20Perkahwinan_181119.mp3 https://huseinhouse-storage.s3-ap-southeast-1.amazonaws.com/speech/d9278c00-7c63-4acf-84bc-389ffddec598-Pantau%2520Kandungan%2520Digital%2520Untuk%2520Anak-Anak.%2520%2520Cium%2520Anak%2520Beri%2520Aura%2520Positif.%2520%2520Adat%2520Pelik%2520Ketika%2520Majlis%2520Perkahwinan_181119.mp3 248\n"
     ]
    },
    {
     "name": "stderr",
     "output_type": "stream",
     "text": [
      "100%|██████████| 248/248 [09:30<00:00,  2.30s/it]\n",
      "  0%|          | 0/249 [00:00<?, ?it/s]"
     ]
    },
    {
     "name": "stdout",
     "output_type": "stream",
     "text": [
      "00aea1f3-7385-4fcb-9ccc-0b7dbd822460-Marketing-Menjatuhkan-Maruah.-Pakai-Earphone-Galak-Perkembangan-Bakteria.-Penjara-Paling-Kejam-Di-Dunia_061119.mp3 speech/00aea1f3-7385-4fcb-9ccc-0b7dbd822460-Marketing%20Menjatuhkan%20Maruah.%20Pakai%20Earphone%20Galak%20Perkembangan%20Bakteria.%20Penjara%20Paling%20Kejam%20Di%20Dunia_061119.mp3 https://huseinhouse-storage.s3-ap-southeast-1.amazonaws.com/speech/00aea1f3-7385-4fcb-9ccc-0b7dbd822460-Marketing%2520Menjatuhkan%2520Maruah.%2520Pakai%2520Earphone%2520Galak%2520Perkembangan%2520Bakteria.%2520Penjara%2520Paling%2520Kejam%2520Di%2520Dunia_061119.mp3 249\n"
     ]
    },
    {
     "name": "stderr",
     "output_type": "stream",
     "text": [
      "100%|██████████| 249/249 [11:17<00:00,  2.72s/it]\n",
      "  0%|          | 0/240 [00:00<?, ?it/s]"
     ]
    },
    {
     "name": "stdout",
     "output_type": "stream",
     "text": [
      "Gangguan-Bekalan-Air-Di-Selangor.--Bangunan-Misteri-Ciptaan--Manusia.--Basuh-Baju-Dalam-Shhopping-Mall_220719.mp3 speech/Gangguan%20Bekalan%20Air%20Di%20Selangor.%20%20Bangunan%20Misteri%20Ciptaan%20%20Manusia.%20%20Basuh%20Baju%20Dalam%20Shhopping%20Mall_220719.mp3 https://huseinhouse-storage.s3-ap-southeast-1.amazonaws.com/speech/Gangguan%2520Bekalan%2520Air%2520Di%2520Selangor.%2520%2520Bangunan%2520Misteri%2520Ciptaan%2520%2520Manusia.%2520%2520Basuh%2520Baju%2520Dalam%2520Shhopping%2520Mall_220719.mp3 240\n"
     ]
    },
    {
     "name": "stderr",
     "output_type": "stream",
     "text": [
      "100%|██████████| 240/240 [11:36<00:00,  2.90s/it]\n",
      "  0%|          | 0/255 [00:00<?, ?it/s]"
     ]
    },
    {
     "name": "stdout",
     "output_type": "stream",
     "text": [
      "Abang-Abu,-Mekanik-Wang-Bersama-PHD!.-21-Tahun-Ditipu-Isteri!.-Hack-Akaun-IG-Isteri!_07012019.mp3 speech/Abang%20Abu,%20Mekanik%20Wang%20Bersama%20PHD!.%2021%20Tahun%20Ditipu%20Isteri!.%20Hack%20Akaun%20IG%20Isteri!_07012019.mp3 https://huseinhouse-storage.s3-ap-southeast-1.amazonaws.com/speech/Abang%2520Abu%2C%2520Mekanik%2520Wang%2520Bersama%2520PHD%21.%252021%2520Tahun%2520Ditipu%2520Isteri%21.%2520Hack%2520Akaun%2520IG%2520Isteri%21_07012019.mp3 255\n"
     ]
    },
    {
     "name": "stderr",
     "output_type": "stream",
     "text": [
      "100%|██████████| 255/255 [13:38<00:00,  3.21s/it]\n",
      "  0%|          | 0/257 [00:00<?, ?it/s]"
     ]
    },
    {
     "name": "stdout",
     "output_type": "stream",
     "text": [
      "Azam-Tahun-Baru-2019.-Kelibat-Buaya-Di-Sungai-Batu-Pahat.-Taylor-Swift-Sewa-Istana-Sambut-Hari-Natal_02012019.mp3 speech/Azam%20Tahun%20Baru%202019.%20Kelibat%20Buaya%20Di%20Sungai%20Batu%20Pahat.%20Taylor%20Swift%20Sewa%20Istana%20Sambut%20Hari%20Natal_02012019.mp3 https://huseinhouse-storage.s3-ap-southeast-1.amazonaws.com/speech/Azam%2520Tahun%2520Baru%25202019.%2520Kelibat%2520Buaya%2520Di%2520Sungai%2520Batu%2520Pahat.%2520Taylor%2520Swift%2520Sewa%2520Istana%2520Sambut%2520Hari%2520Natal_02012019.mp3 257\n"
     ]
    },
    {
     "name": "stderr",
     "output_type": "stream",
     "text": [
      "100%|██████████| 257/257 [11:44<00:00,  2.74s/it]\n",
      "  0%|          | 0/242 [00:00<?, ?it/s]"
     ]
    },
    {
     "name": "stdout",
     "output_type": "stream",
     "text": [
      "ADAB-DI-HARI-RAYA.-LATHEEFA-KOYA-KETUA-BARU-SPRM.-SKUAD-HARIMAU-MALAYA-DI-TANGGA-KE-168_110619.mp3 speech/ADAB%20DI%20HARI%20RAYA.%20LATHEEFA%20KOYA%20KETUA%20BARU%20SPRM.%20SKUAD%20HARIMAU%20MALAYA%20DI%20TANGGA%20KE%20168_110619.mp3 https://huseinhouse-storage.s3-ap-southeast-1.amazonaws.com/speech/ADAB%2520DI%2520HARI%2520RAYA.%2520LATHEEFA%2520KOYA%2520KETUA%2520BARU%2520SPRM.%2520SKUAD%2520HARIMAU%2520MALAYA%2520DI%2520TANGGA%2520KE%2520168_110619.mp3 242\n"
     ]
    },
    {
     "name": "stderr",
     "output_type": "stream",
     "text": [
      "100%|██████████| 242/242 [10:24<00:00,  2.58s/it]\n",
      "  0%|          | 0/251 [00:00<?, ?it/s]"
     ]
    },
    {
     "name": "stdout",
     "output_type": "stream",
     "text": [
      "Perlu-Ke-Cincin-Kahwin--Perompak-Mulia-Pulangkan-Duit.--Apa-Perlu-Buat-Ketika-Cuaca-Panas-Ekstrem_130319.mp3 speech/Perlu%20Ke%20Cincin%20Kahwin%20%20Perompak%20Mulia%20Pulangkan%20Duit.%20%20Apa%20Perlu%20Buat%20Ketika%20Cuaca%20Panas%20Ekstrem_130319.mp3 https://huseinhouse-storage.s3-ap-southeast-1.amazonaws.com/speech/Perlu%2520Ke%2520Cincin%2520Kahwin%2520%2520Perompak%2520Mulia%2520Pulangkan%2520Duit.%2520%2520Apa%2520Perlu%2520Buat%2520Ketika%2520Cuaca%2520Panas%2520Ekstrem_130319.mp3 251\n"
     ]
    },
    {
     "name": "stderr",
     "output_type": "stream",
     "text": [
      "100%|██████████| 251/251 [11:17<00:00,  2.70s/it]\n",
      "  0%|          | 0/251 [00:00<?, ?it/s]"
     ]
    },
    {
     "name": "stdout",
     "output_type": "stream",
     "text": [
      "cfb6b243-a999-449a-b168-fbfed9de73e7-Pengalaman-Derma-Darah.--Makan-Pisang-Berlebihan-Boleh-Rosakkan-Buah-Pinggang.--Bilik-Gelap-Bersama-Hardy-Mirza_121219.mp3 speech/cfb6b243-a999-449a-b168-fbfed9de73e7-Pengalaman%20Derma%20Darah.%20%20Makan%20Pisang%20Berlebihan%20Boleh%20Rosakkan%20Buah%20Pinggang.%20%20Bilik%20Gelap%20Bersama%20Hardy%20Mirza_121219.mp3 https://huseinhouse-storage.s3-ap-southeast-1.amazonaws.com/speech/cfb6b243-a999-449a-b168-fbfed9de73e7-Pengalaman%2520Derma%2520Darah.%2520%2520Makan%2520Pisang%2520Berlebihan%2520Boleh%2520Rosakkan%2520Buah%2520Pinggang.%2520%2520Bilik%2520Gelap%2520Bersama%2520Hardy%2520Mirza_121219.mp3 251\n"
     ]
    },
    {
     "name": "stderr",
     "output_type": "stream",
     "text": [
      "100%|██████████| 251/251 [10:48<00:00,  2.58s/it]\n",
      "  0%|          | 0/253 [00:00<?, ?it/s]"
     ]
    },
    {
     "name": "stdout",
     "output_type": "stream",
     "text": [
      "Baran-Bawa-Maut,Kawal-Emosi-Anda.--Masjid-Paling-Ekstrem-Dalam-Dunia.--Kucing-Bengal-Curi-Perhatian-Bomba_240919.mp3 speech/Baran%20Bawa%20Maut%2CKawal%20Emosi%20Anda.%20%20Masjid%20Paling%20Ekstrem%20Dalam%20Dunia.%20%20Kucing%20Bengal%20Curi%20Perhatian%20Bomba_240919.mp3 https://huseinhouse-storage.s3-ap-southeast-1.amazonaws.com/speech/Baran%2520Bawa%2520Maut%252CKawal%2520Emosi%2520Anda.%2520%2520Masjid%2520Paling%2520Ekstrem%2520Dalam%2520Dunia.%2520%2520Kucing%2520Bengal%2520Curi%2520Perhatian%2520Bomba_240919.mp3 253\n"
     ]
    },
    {
     "name": "stderr",
     "output_type": "stream",
     "text": [
      "100%|██████████| 253/253 [11:22<00:00,  2.70s/it]\n",
      "  0%|          | 0/253 [00:00<?, ?it/s]"
     ]
    },
    {
     "name": "stdout",
     "output_type": "stream",
     "text": [
      "Peminjam-PTPTN-Bole-Miliki-Rumah-Pertama--Ukraine-Negara-Populasi-Merosot.--Anggur-Berharga-RM45,000_120719.mp3 speech/Peminjam%20PTPTN%20Bole%20Miliki%20Rumah%20Pertama%20%20Ukraine%20Negara%20Populasi%20Merosot.%20%20Anggur%20Berharga%20RM45%2C000_120719.mp3 https://huseinhouse-storage.s3-ap-southeast-1.amazonaws.com/speech/Peminjam%2520PTPTN%2520Bole%2520Miliki%2520Rumah%2520Pertama%2520%2520Ukraine%2520Negara%2520Populasi%2520Merosot.%2520%2520Anggur%2520Berharga%2520RM45%252C000_120719.mp3 253\n"
     ]
    },
    {
     "name": "stderr",
     "output_type": "stream",
     "text": [
      "100%|██████████| 253/253 [11:22<00:00,  2.70s/it]\n",
      "  0%|          | 0/246 [00:00<?, ?it/s]"
     ]
    },
    {
     "name": "stdout",
     "output_type": "stream",
     "text": [
      "Lelaki-Bawah-33-Tahun-Tak-Matang--Rakyat-Nigeria-Beli-Pizza-Dari-London--Jenis-Jenis-LEMBAGA-Dlama-PHD-321_010419.mp3 speech/Lelaki%20Bawah%2033%20Tahun%20Tak%20Matang%20%20Rakyat%20Nigeria%20Beli%20Pizza%20Dari%20London%20%20Jenis-Jenis%20LEMBAGA%20Dlama%20PHD%20321_010419.mp3 https://huseinhouse-storage.s3-ap-southeast-1.amazonaws.com/speech/Lelaki%2520Bawah%252033%2520Tahun%2520Tak%2520Matang%2520%2520Rakyat%2520Nigeria%2520Beli%2520Pizza%2520Dari%2520London%2520%2520Jenis-Jenis%2520LEMBAGA%2520Dlama%2520PHD%2520321_010419.mp3 246\n"
     ]
    },
    {
     "name": "stderr",
     "output_type": "stream",
     "text": [
      "100%|██████████| 246/246 [11:50<00:00,  2.89s/it]\n",
      "  0%|          | 0/251 [00:00<?, ?it/s]"
     ]
    },
    {
     "name": "stdout",
     "output_type": "stream",
     "text": [
      "Karaoke-Bersama-Nizam-Laksamana.--Gelombang-Ketiga-Banjir-Perlu-Buat-Persiapan.--Mural-Terbesar-Di-Dunia-Dilakar-Di-Tangki-Simpanan-Gandum-Di-Korea-Selatan_201218.mp3 speech/Karaoke%20Bersama%20Nizam%20Laksamana.%20%20Gelombang%20Ketiga%20Banjir%20Perlu%20Buat%20Persiapan.%20%20Mural%20Terbesar%20Di%20Dunia%20Dilakar%20Di%20Tangki%20Simpanan%20Gandum%20Di%20Korea%20Selatan_201218.mp3 https://huseinhouse-storage.s3-ap-southeast-1.amazonaws.com/speech/Karaoke%2520Bersama%2520Nizam%2520Laksamana.%2520%2520Gelombang%2520Ketiga%2520Banjir%2520Perlu%2520Buat%2520Persiapan.%2520%2520Mural%2520Terbesar%2520Di%2520Dunia%2520Dilakar%2520Di%2520Tangki%2520Simpanan%2520Gandum%2520Di%2520Korea%2520Selatan_201218.mp3 251\n"
     ]
    },
    {
     "name": "stderr",
     "output_type": "stream",
     "text": [
      "100%|██████████| 251/251 [12:06<00:00,  2.89s/it]\n",
      "  0%|          | 0/255 [00:00<?, ?it/s]"
     ]
    },
    {
     "name": "stdout",
     "output_type": "stream",
     "text": [
      "Nilai-Sivik-Masyarakat-Kita-Di-Tahap-Rendah.--Wujud-Tasik-Air-Berwarna-Pink.--Penunggang-Motosikal-DiKehendaki-Polis_140819-.mp3 speech/Nilai%20Sivik%20Masyarakat%20Kita%20Di%20Tahap%20Rendah.%20%20Wujud%20Tasik%20Air%20Berwarna%20Pink.%20%20Penunggang%20Motosikal%20DiKehendaki%20Polis_140819%20.mp3 https://huseinhouse-storage.s3-ap-southeast-1.amazonaws.com/speech/Nilai%2520Sivik%2520Masyarakat%2520Kita%2520Di%2520Tahap%2520Rendah.%2520%2520Wujud%2520Tasik%2520Air%2520Berwarna%2520Pink.%2520%2520Penunggang%2520Motosikal%2520DiKehendaki%2520Polis_140819%2520.mp3 255\n"
     ]
    },
    {
     "name": "stderr",
     "output_type": "stream",
     "text": [
      "100%|██████████| 255/255 [10:07<00:00,  2.38s/it]\n",
      "  0%|          | 0/253 [00:00<?, ?it/s]"
     ]
    },
    {
     "name": "stdout",
     "output_type": "stream",
     "text": [
      "f50c25cf-b95b-46bb-b624-43812ec43d92-2020-Masih-Single.--Basikal-Paling-Mahal-Di-Dunia.--77-Pesakit-AIDS-Di-Malaysia-Berumur-20-40-Tahun_021219.mp3 speech/f50c25cf-b95b-46bb-b624-43812ec43d92-2020%20Masih%20Single.%20%20Basikal%20Paling%20Mahal%20Di%20Dunia.%20%2077%20Pesakit%20AIDS%20Di%20Malaysia%20Berumur%2020-40%20Tahun_021219.mp3 https://huseinhouse-storage.s3-ap-southeast-1.amazonaws.com/speech/f50c25cf-b95b-46bb-b624-43812ec43d92-2020%2520Masih%2520Single.%2520%2520Basikal%2520Paling%2520Mahal%2520Di%2520Dunia.%2520%252077%2520Pesakit%2520AIDS%2520Di%2520Malaysia%2520Berumur%252020-40%2520Tahun_021219.mp3 253\n"
     ]
    },
    {
     "name": "stderr",
     "output_type": "stream",
     "text": [
      "100%|██████████| 253/253 [10:06<00:00,  2.40s/it]\n",
      "  0%|          | 0/253 [00:00<?, ?it/s]"
     ]
    },
    {
     "name": "stdout",
     "output_type": "stream",
     "text": [
      "Ratu-Etnik-Malaysia-Bersama-PHD.--Telan-Batu-Permata-Sebab-Terpukau.--Muaz-Pakai-Tuala-6-Bulan_290119.mp3 speech/Ratu%20Etnik%20Malaysia%20Bersama%20PHD.%20%20Telan%20Batu%20Permata%20Sebab%20Terpukau.%20%20Muaz%20Pakai%20Tuala%206%20Bulan_290119.mp3 https://huseinhouse-storage.s3-ap-southeast-1.amazonaws.com/speech/Ratu%2520Etnik%2520Malaysia%2520Bersama%2520PHD.%2520%2520Telan%2520Batu%2520Permata%2520Sebab%2520Terpukau.%2520%2520Muaz%2520Pakai%2520Tuala%25206%2520Bulan_290119.mp3 253\n"
     ]
    },
    {
     "name": "stderr",
     "output_type": "stream",
     "text": [
      "100%|██████████| 253/253 [13:01<00:00,  3.09s/it]\n",
      "  0%|          | 0/253 [00:00<?, ?it/s]"
     ]
    },
    {
     "name": "stdout",
     "output_type": "stream",
     "text": [
      "487b6fad-314f-41fa-884f-8694f4e4cdee-PHD-X-Dato-M.nasir.-Wartawan-Ditembak-Di-Mata-Oleh-Tentera-Israel.--Safawi-Rasid-Ucap-Terima-Kasih-Kepada-Rakyat-Malaysia_201119-.mp3 speech/487b6fad-314f-41fa-884f-8694f4e4cdee-PHD%20X%20Dato%20M.nasir.%20Wartawan%20Ditembak%20Di%20Mata%20Oleh%20Tentera%20Israel.%20%20Safawi%20Rasid%20Ucap%20Terima%20Kasih%20Kepada%20Rakyat%20Malaysia_201119%20.mp3 https://huseinhouse-storage.s3-ap-southeast-1.amazonaws.com/speech/487b6fad-314f-41fa-884f-8694f4e4cdee-PHD%2520X%2520Dato%2520M.nasir.%2520Wartawan%2520Ditembak%2520Di%2520Mata%2520Oleh%2520Tentera%2520Israel.%2520%2520Safawi%2520Rasid%2520Ucap%2520Terima%2520Kasih%2520Kepada%2520Rakyat%2520Malaysia_201119%2520.mp3 253\n"
     ]
    },
    {
     "name": "stderr",
     "output_type": "stream",
     "text": [
      "100%|██████████| 253/253 [11:03<00:00,  2.62s/it]\n",
      "  0%|          | 0/260 [00:00<?, ?it/s]"
     ]
    },
    {
     "name": "stdout",
     "output_type": "stream",
     "text": [
      "Petisyen-Pelajar-Lelaki-Boleh-Berambut-Panjang.-Pembuatan-Kaca-Ambil-Masa-10-Bulan.-Gantung-Diri-Sebab-Banyak-Homework_260819.mp3 speech/Petisyen%20Pelajar%20Lelaki%20Boleh%20Berambut%20Panjang.%20Pembuatan%20Kaca%20Ambil%20Masa%2010%20Bulan.%20Gantung%20Diri%20Sebab%20Banyak%20Homework_260819.mp3 https://huseinhouse-storage.s3-ap-southeast-1.amazonaws.com/speech/Petisyen%2520Pelajar%2520Lelaki%2520Boleh%2520Berambut%2520Panjang.%2520Pembuatan%2520Kaca%2520Ambil%2520Masa%252010%2520Bulan.%2520Gantung%2520Diri%2520Sebab%2520Banyak%2520Homework_260819.mp3 260\n"
     ]
    },
    {
     "name": "stderr",
     "output_type": "stream",
     "text": [
      "100%|██████████| 260/260 [12:26<00:00,  2.87s/it]\n",
      "  0%|          | 0/256 [00:00<?, ?it/s]"
     ]
    },
    {
     "name": "stdout",
     "output_type": "stream",
     "text": [
      "Perlu-Ke-Memilih-Kerjaya-Pasangan--KL-Dilanda-Banjir-Kilat.--Bas-Dua-Alam-Dibatalkan_030419-.mp3 speech/Perlu%20Ke%20Memilih%20Kerjaya%20Pasangan%20%20KL%20Dilanda%20Banjir%20Kilat.%20%20Bas%20Dua%20Alam%20Dibatalkan_030419%20.mp3 https://huseinhouse-storage.s3-ap-southeast-1.amazonaws.com/speech/Perlu%2520Ke%2520Memilih%2520Kerjaya%2520Pasangan%2520%2520KL%2520Dilanda%2520Banjir%2520Kilat.%2520%2520Bas%2520Dua%2520Alam%2520Dibatalkan_030419%2520.mp3 256\n"
     ]
    },
    {
     "name": "stderr",
     "output_type": "stream",
     "text": [
      "100%|██████████| 256/256 [10:45<00:00,  2.52s/it]\n",
      "  0%|          | 0/252 [00:00<?, ?it/s]"
     ]
    },
    {
     "name": "stdout",
     "output_type": "stream",
     "text": [
      "Abang-Acap-Tolak-Bantuan-Yang-Langgar-Syariah-Islam.--Pencarian-Acap-Takkan-Berhenti-Buat-Masa-Ini.--Nasihat-Kepada-Makcik-Dan-Pakcik-Bawang_110419.mp3 speech/Abang%20Acap%20Tolak%20Bantuan%20Yang%20Langgar%20Syariah%20Islam.%20%20Pencarian%20Acap%20Takkan%20Berhenti%20Buat%20Masa%20Ini.%20%20Nasihat%20Kepada%20Makcik%20Dan%20Pakcik%20Bawang_110419.mp3 https://huseinhouse-storage.s3-ap-southeast-1.amazonaws.com/speech/Abang%2520Acap%2520Tolak%2520Bantuan%2520Yang%2520Langgar%2520Syariah%2520Islam.%2520%2520Pencarian%2520Acap%2520Takkan%2520Berhenti%2520Buat%2520Masa%2520Ini.%2520%2520Nasihat%2520Kepada%2520Makcik%2520Dan%2520Pakcik%2520Bawang_110419.mp3 252\n"
     ]
    },
    {
     "name": "stderr",
     "output_type": "stream",
     "text": [
      "100%|██████████| 252/252 [11:32<00:00,  2.75s/it]\n",
      "  0%|          | 0/258 [00:00<?, ?it/s]"
     ]
    },
    {
     "name": "stdout",
     "output_type": "stream",
     "text": [
      "Kerja-Sebab-Gaji-Atau-Minat--Tanah-Banglo-Murah-Di-Kelantan--Manusia-Pertama-Tanpa-Jantung-dan-Nadi_010219.mp3 speech/Kerja%20Sebab%20Gaji%20Atau%20Minat%20%20Tanah%20Banglo%20Murah%20Di%20Kelantan%20%20Manusia%20Pertama%20Tanpa%20Jantung%20dan%20Nadi_010219.mp3 https://huseinhouse-storage.s3-ap-southeast-1.amazonaws.com/speech/Kerja%2520Sebab%2520Gaji%2520Atau%2520Minat%2520%2520Tanah%2520Banglo%2520Murah%2520Di%2520Kelantan%2520%2520Manusia%2520Pertama%2520Tanpa%2520Jantung%2520dan%2520Nadi_010219.mp3 258\n"
     ]
    },
    {
     "name": "stderr",
     "output_type": "stream",
     "text": [
      "100%|██████████| 258/258 [11:31<00:00,  2.68s/it]\n",
      "  0%|          | 0/254 [00:00<?, ?it/s]"
     ]
    },
    {
     "name": "stdout",
     "output_type": "stream",
     "text": [
      "Elyana-Datang-Konti-Kool.--Messi-Lelaki-Paling-Setia.--Mulut-Jangan-Celupar_230419.mp3 speech/Elyana%20Datang%20Konti%20Kool.%20%20Messi%20Lelaki%20Paling%20Setia.%20%20Mulut%20Jangan%20Celupar_230419.mp3 https://huseinhouse-storage.s3-ap-southeast-1.amazonaws.com/speech/Elyana%2520Datang%2520Konti%2520Kool.%2520%2520Messi%2520Lelaki%2520Paling%2520Setia.%2520%2520Mulut%2520Jangan%2520Celupar_230419.mp3 254\n"
     ]
    },
    {
     "name": "stderr",
     "output_type": "stream",
     "text": [
      "100%|██████████| 254/254 [10:10<00:00,  2.40s/it]\n",
      "  0%|          | 0/257 [00:00<?, ?it/s]"
     ]
    },
    {
     "name": "stdout",
     "output_type": "stream",
     "text": [
      "f48e1375-c119-436e-9c96-381a0854281f-Aktiviti-Cuti-Sekolah.--Perkahwinan-Pelik-Di-Dunia.--Kucing-Boleh-Kesan-Gempa-Bumi_221119.mp3 speech/f48e1375-c119-436e-9c96-381a0854281f-Aktiviti%20Cuti%20Sekolah.%20%20Perkahwinan%20Pelik%20Di%20Dunia.%20%20Kucing%20Boleh%20Kesan%20Gempa%20Bumi_221119.mp3 https://huseinhouse-storage.s3-ap-southeast-1.amazonaws.com/speech/f48e1375-c119-436e-9c96-381a0854281f-Aktiviti%2520Cuti%2520Sekolah.%2520%2520Perkahwinan%2520Pelik%2520Di%2520Dunia.%2520%2520Kucing%2520Boleh%2520Kesan%2520Gempa%2520Bumi_221119.mp3 257\n"
     ]
    },
    {
     "name": "stderr",
     "output_type": "stream",
     "text": [
      "100%|██████████| 257/257 [09:18<00:00,  2.17s/it]\n",
      "  0%|          | 0/250 [00:00<?, ?it/s]"
     ]
    },
    {
     "name": "stdout",
     "output_type": "stream",
     "text": [
      "Gurau-Biar-Kena-Tempat.--Jersi-Obama-Dijual-Dengan-Harga-Yang-Tinggi.--The-Rock-Kahwin-Selepas-12-Tahun-Bercinta_210819.mp3 speech/Gurau%20Biar%20Kena%20Tempat.%20%20Jersi%20Obama%20Dijual%20Dengan%20Harga%20Yang%20Tinggi.%20%20The%20Rock%20Kahwin%20Selepas%2012%20Tahun%20Bercinta_210819.mp3 https://huseinhouse-storage.s3-ap-southeast-1.amazonaws.com/speech/Gurau%2520Biar%2520Kena%2520Tempat.%2520%2520Jersi%2520Obama%2520Dijual%2520Dengan%2520Harga%2520Yang%2520Tinggi.%2520%2520The%2520Rock%2520Kahwin%2520Selepas%252012%2520Tahun%2520Bercinta_210819.mp3 250\n"
     ]
    },
    {
     "name": "stderr",
     "output_type": "stream",
     "text": [
      "100%|██████████| 250/250 [09:26<00:00,  2.26s/it]\n",
      "  0%|          | 0/259 [00:00<?, ?it/s]"
     ]
    },
    {
     "name": "stdout",
     "output_type": "stream",
     "text": [
      "Adira-Jawab-Isu-Kontroversi-Muzik-Video.--Lelaki-Gigit-Kaki-Buaya-Demi-Anak.--Artis-Masuk-Toilet-Tak-Tutup-Pintu_310119.mp3 speech/Adira%20Jawab%20Isu%20Kontroversi%20Muzik%20Video.%20%20Lelaki%20Gigit%20Kaki%20Buaya%20Demi%20Anak.%20%20Artis%20Masuk%20Toilet%20Tak%20Tutup%20Pintu_310119.mp3 https://huseinhouse-storage.s3-ap-southeast-1.amazonaws.com/speech/Adira%2520Jawab%2520Isu%2520Kontroversi%2520Muzik%2520Video.%2520%2520Lelaki%2520Gigit%2520Kaki%2520Buaya%2520Demi%2520Anak.%2520%2520Artis%2520Masuk%2520Toilet%2520Tak%2520Tutup%2520Pintu_310119.mp3 259\n"
     ]
    },
    {
     "name": "stderr",
     "output_type": "stream",
     "text": [
      "100%|██████████| 259/259 [12:47<00:00,  2.96s/it]\n",
      "  0%|          | 0/258 [00:00<?, ?it/s]"
     ]
    },
    {
     "name": "stdout",
     "output_type": "stream",
     "text": [
      "Pasangan-Melepaskan-Kemarahan-Boleh-Hidup-Lebih-Lama.--Undang-Undang-Merokok-3-Meter-Dari-Restoran.--Kerajaan-Bagi-Bayaran-Khas-Kepada-Penjawat-Awam_181218--.mp3 speech/Pasangan%20Melepaskan%20Kemarahan%20Boleh%20Hidup%20Lebih%20Lama.%20%20Undang%20Undang%20Merokok%203%20Meter%20Dari%20Restoran.%20%20Kerajaan%20Bagi%20Bayaran%20Khas%20Kepada%20Penjawat%20Awam_181218%20%20.mp3 https://huseinhouse-storage.s3-ap-southeast-1.amazonaws.com/speech/Pasangan%2520Melepaskan%2520Kemarahan%2520Boleh%2520Hidup%2520Lebih%2520Lama.%2520%2520Undang%2520Undang%2520Merokok%25203%2520Meter%2520Dari%2520Restoran.%2520%2520Kerajaan%2520Bagi%2520Bayaran%2520Khas%2520Kepada%2520Penjawat%2520Awam_181218%2520%2520.mp3 258\n"
     ]
    },
    {
     "name": "stderr",
     "output_type": "stream",
     "text": [
      "100%|██████████| 258/258 [10:46<00:00,  2.51s/it]\n",
      "  0%|          | 0/259 [00:00<?, ?it/s]"
     ]
    },
    {
     "name": "stdout",
     "output_type": "stream",
     "text": [
      "Tiada-Skim-Pencen-Mulai-2020--Suspek-MH17-DiBebaskan.--Lady-Gaga-Jadi-Subjek-Pelajaran_060919.mp3 speech/Tiada%20Skim%20Pencen%20Mulai%202020%20%20Suspek%20MH17%20DiBebaskan.%20%20Lady%20Gaga%20Jadi%20Subjek%20Pelajaran_060919.mp3 https://huseinhouse-storage.s3-ap-southeast-1.amazonaws.com/speech/Tiada%2520Skim%2520Pencen%2520Mulai%25202020%2520%2520Suspek%2520MH17%2520DiBebaskan.%2520%2520Lady%2520Gaga%2520Jadi%2520Subjek%2520Pelajaran_060919.mp3 259\n"
     ]
    },
    {
     "name": "stderr",
     "output_type": "stream",
     "text": [
      "100%|██████████| 259/259 [11:47<00:00,  2.73s/it]\n",
      "  0%|          | 0/257 [00:00<?, ?it/s]"
     ]
    },
    {
     "name": "stdout",
     "output_type": "stream",
     "text": [
      "Rakyat-Malaysia-Takut-Hadapi-Hari-Tua.--Lelaki-Tak-Mandi-60-Tahun.--Wang-RM108k-Lesap_160819.mp3 speech/Rakyat%20Malaysia%20Takut%20Hadapi%20Hari%20Tua.%20%20Lelaki%20Tak%20Mandi%2060%20Tahun.%20%20Wang%20RM108k%20Lesap_160819.mp3 https://huseinhouse-storage.s3-ap-southeast-1.amazonaws.com/speech/Rakyat%2520Malaysia%2520Takut%2520Hadapi%2520Hari%2520Tua.%2520%2520Lelaki%2520Tak%2520Mandi%252060%2520Tahun.%2520%2520Wang%2520RM108k%2520Lesap_160819.mp3 257\n"
     ]
    },
    {
     "name": "stderr",
     "output_type": "stream",
     "text": [
      "100%|██████████| 257/257 [11:55<00:00,  2.79s/it]\n",
      "  0%|          | 0/256 [00:00<?, ?it/s]"
     ]
    },
    {
     "name": "stdout",
     "output_type": "stream",
     "text": [
      "cfa44da1-c015-4d8e-a89a-386669c5aa1b-Kasih-Sayang-Seorang-Ibu.--Upin-Ipin-Masuk-Anugerah-Oscar.--Pencuri-Jambatan_181019.mp3 speech/cfa44da1-c015-4d8e-a89a-386669c5aa1b-Kasih%20Sayang%20Seorang%20Ibu.%20%20Upin%20Ipin%20Masuk%20Anugerah%20Oscar.%20%20Pencuri%20Jambatan_181019.mp3 https://huseinhouse-storage.s3-ap-southeast-1.amazonaws.com/speech/cfa44da1-c015-4d8e-a89a-386669c5aa1b-Kasih%2520Sayang%2520Seorang%2520Ibu.%2520%2520Upin%2520Ipin%2520Masuk%2520Anugerah%2520Oscar.%2520%2520Pencuri%2520Jambatan_181019.mp3 256\n"
     ]
    },
    {
     "name": "stderr",
     "output_type": "stream",
     "text": [
      "100%|██████████| 256/256 [10:39<00:00,  2.50s/it]\n",
      "  0%|          | 0/247 [00:00<?, ?it/s]"
     ]
    },
    {
     "name": "stdout",
     "output_type": "stream",
     "text": [
      "Buli-Warga-Emas,-Dimana-Rasa-Hormat--Tolak-Isteri-Hamil-Jatuh-Tebing.--UM-Universiti-70-Terbaik-Dunia_200619.mp3 speech/Buli%20Warga%20Emas%2C%20Dimana%20Rasa%20Hormat%20%20Tolak%20Isteri%20Hamil%20Jatuh%20Tebing.%20%20UM%20Universiti%2070%20Terbaik%20Dunia_200619.mp3 https://huseinhouse-storage.s3-ap-southeast-1.amazonaws.com/speech/Buli%2520Warga%2520Emas%252C%2520Dimana%2520Rasa%2520Hormat%2520%2520Tolak%2520Isteri%2520Hamil%2520Jatuh%2520Tebing.%2520%2520UM%2520Universiti%252070%2520Terbaik%2520Dunia_200619.mp3 247\n"
     ]
    },
    {
     "name": "stderr",
     "output_type": "stream",
     "text": [
      "100%|██████████| 247/247 [08:58<00:00,  2.18s/it]\n",
      "  0%|          | 0/146 [00:00<?, ?it/s]"
     ]
    },
    {
     "name": "stdout",
     "output_type": "stream",
     "text": [
      "016700ca-acc3-42ca-a460-8f0427250f09-Borak-Kool-Pengalaman-Diberhentikan-Kerja.-Kos-Filem-Termahal.-Vandalisme-Di-Taman-Tasik-Titiwangsa_171219.mp3 speech/016700ca-acc3-42ca-a460-8f0427250f09-Borak%20Kool%20Pengalaman%20Diberhentikan%20Kerja.%20Kos%20Filem%20Termahal.%20Vandalisme%20Di%20Taman%20Tasik%20Titiwangsa_171219.mp3 https://huseinhouse-storage.s3-ap-southeast-1.amazonaws.com/speech/016700ca-acc3-42ca-a460-8f0427250f09-Borak%2520Kool%2520Pengalaman%2520Diberhentikan%2520Kerja.%2520Kos%2520Filem%2520Termahal.%2520Vandalisme%2520Di%2520Taman%2520Tasik%2520Titiwangsa_171219.mp3 146\n"
     ]
    },
    {
     "name": "stderr",
     "output_type": "stream",
     "text": [
      "100%|██████████| 146/146 [07:10<00:00,  2.95s/it]\n",
      "  0%|          | 0/233 [00:00<?, ?it/s]"
     ]
    },
    {
     "name": "stdout",
     "output_type": "stream",
     "text": [
      "46ac8e18-7a4a-4c6e-bce3-45b2708f0724-Papan-Iklan-Berbaur-Negatif.-Jumlah-Pengagihan-ASB-Tahun-2019-Rendah.-Usahawan-Perkenal-Penyedut-Minuman-Daripada-Rumput_19122019.mp3 speech/46ac8e18-7a4a-4c6e-bce3-45b2708f0724-Papan%20Iklan%20Berbaur%20Negatif.%20Jumlah%20Pengagihan%20ASB%20Tahun%202019%20Rendah.%20Usahawan%20Perkenal%20Penyedut%20Minuman%20Daripada%20Rumput_19122019.mp3 https://huseinhouse-storage.s3-ap-southeast-1.amazonaws.com/speech/46ac8e18-7a4a-4c6e-bce3-45b2708f0724-Papan%2520Iklan%2520Berbaur%2520Negatif.%2520Jumlah%2520Pengagihan%2520ASB%2520Tahun%25202019%2520Rendah.%2520Usahawan%2520Perkenal%2520Penyedut%2520Minuman%2520Daripada%2520Rumput_19122019.mp3 233\n"
     ]
    },
    {
     "name": "stderr",
     "output_type": "stream",
     "text": [
      "100%|██████████| 233/233 [10:14<00:00,  2.64s/it]\n",
      "  0%|          | 0/259 [00:00<?, ?it/s]"
     ]
    },
    {
     "name": "stdout",
     "output_type": "stream",
     "text": [
      "be711207-9a92-47ba-8ddc-89db3ba6aa97-Kahwini-Anak-Sulung.--Kereta-Paling-Pelik-Dan-Aneh.--Cuti-Bersalin-7-Hari-Untuk-Suami_141119.mp3 speech/be711207-9a92-47ba-8ddc-89db3ba6aa97-Kahwini%20Anak%20Sulung.%20%20Kereta%20Paling%20Pelik%20Dan%20Aneh.%20%20Cuti%20Bersalin%207%20Hari%20Untuk%20Suami_141119.mp3 https://huseinhouse-storage.s3-ap-southeast-1.amazonaws.com/speech/be711207-9a92-47ba-8ddc-89db3ba6aa97-Kahwini%2520Anak%2520Sulung.%2520%2520Kereta%2520Paling%2520Pelik%2520Dan%2520Aneh.%2520%2520Cuti%2520Bersalin%25207%2520Hari%2520Untuk%2520Suami_141119.mp3 259\n"
     ]
    },
    {
     "name": "stderr",
     "output_type": "stream",
     "text": [
      "100%|██████████| 259/259 [09:55<00:00,  2.30s/it]\n",
      "  0%|          | 0/258 [00:00<?, ?it/s]"
     ]
    },
    {
     "name": "stdout",
     "output_type": "stream",
     "text": [
      "Rasai-Berita-Sebenar-Bersama-Harian-Metro.--Muaz-Menyanyi-Lagu-Search.--Mesin-Layan-Diri,-Jual-Emas_190919.mp3 speech/Rasai%20Berita%20Sebenar%20Bersama%20Harian%20Metro.%20%20Muaz%20Menyanyi%20Lagu%20Search.%20%20Mesin%20Layan%20Diri%2C%20Jual%20Emas_190919.mp3 https://huseinhouse-storage.s3-ap-southeast-1.amazonaws.com/speech/Rasai%2520Berita%2520Sebenar%2520Bersama%2520Harian%2520Metro.%2520%2520Muaz%2520Menyanyi%2520Lagu%2520Search.%2520%2520Mesin%2520Layan%2520Diri%252C%2520Jual%2520Emas_190919.mp3 258\n"
     ]
    },
    {
     "name": "stderr",
     "output_type": "stream",
     "text": [
      "100%|██████████| 258/258 [11:13<00:00,  2.61s/it]\n",
      "  0%|          | 0/259 [00:00<?, ?it/s]"
     ]
    },
    {
     "name": "stdout",
     "output_type": "stream",
     "text": [
      "9e2a002a-2bcd-4ae3-bdae-261286c351c6-Masyarakat-Tanpa-Tunai.--Bendera-Russia-Diharamkan.--Tamadun-Yang-Sudah-Lama-Bertapak-Di-Dunia_101219.mp3 speech/9e2a002a-2bcd-4ae3-bdae-261286c351c6-Masyarakat%20Tanpa%20Tunai.%20%20Bendera%20Russia%20Diharamkan.%20%20Tamadun%20Yang%20Sudah%20Lama%20Bertapak%20Di%20Dunia_101219.mp3 https://huseinhouse-storage.s3-ap-southeast-1.amazonaws.com/speech/9e2a002a-2bcd-4ae3-bdae-261286c351c6-Masyarakat%2520Tanpa%2520Tunai.%2520%2520Bendera%2520Russia%2520Diharamkan.%2520%2520Tamadun%2520Yang%2520Sudah%2520Lama%2520Bertapak%2520Di%2520Dunia_101219.mp3 259\n"
     ]
    },
    {
     "name": "stderr",
     "output_type": "stream",
     "text": [
      "100%|██████████| 259/259 [10:24<00:00,  2.41s/it]\n",
      "  0%|          | 0/252 [00:00<?, ?it/s]"
     ]
    },
    {
     "name": "stdout",
     "output_type": "stream",
     "text": [
      "Tindakan-Pertama-Selepas-Terjadinya-Kecemasan.--Jalan-Raya-Paling-Bahaya-Di-Dunia.--Apa-Maksud-Keli-Dua-Selubang_240719-.mp3 speech/Tindakan%20Pertama%20Selepas%20Terjadinya%20Kecemasan.%20%20Jalan%20Raya%20Paling%20Bahaya%20Di%20Dunia.%20%20Apa%20Maksud%20Keli%20Dua%20Selubang_240719%20.mp3 https://huseinhouse-storage.s3-ap-southeast-1.amazonaws.com/speech/Tindakan%2520Pertama%2520Selepas%2520Terjadinya%2520Kecemasan.%2520%2520Jalan%2520Raya%2520Paling%2520Bahaya%2520Di%2520Dunia.%2520%2520Apa%2520Maksud%2520Keli%2520Dua%2520Selubang_240719%2520.mp3 252\n"
     ]
    },
    {
     "name": "stderr",
     "output_type": "stream",
     "text": [
      "100%|██████████| 252/252 [10:09<00:00,  2.42s/it]\n",
      "  0%|          | 0/257 [00:00<?, ?it/s]"
     ]
    },
    {
     "name": "stdout",
     "output_type": "stream",
     "text": [
      "Perlu-Ke-Baju-Raya-Sedondon--Bunyi-Meriam-Tanda-Berbuka-Di-Abu-Dhabi.--3-Jun-2019,-Tarikh-Tengok-Anak-Bulan-Syawal_300519--.mp3 speech/Perlu%20Ke%20Baju%20Raya%20Sedondon%20%20Bunyi%20Meriam%20Tanda%20Berbuka%20Di%20Abu%20Dhabi.%20%203%20Jun%202019%2C%20Tarikh%20Tengok%20Anak%20Bulan%20Syawal_300519%20%20.mp3 https://huseinhouse-storage.s3-ap-southeast-1.amazonaws.com/speech/Perlu%2520Ke%2520Baju%2520Raya%2520Sedondon%2520%2520Bunyi%2520Meriam%2520Tanda%2520Berbuka%2520Di%2520Abu%2520Dhabi.%2520%25203%2520Jun%25202019%252C%2520Tarikh%2520Tengok%2520Anak%2520Bulan%2520Syawal_300519%2520%2520.mp3 257\n"
     ]
    },
    {
     "name": "stderr",
     "output_type": "stream",
     "text": [
      "100%|██████████| 257/257 [11:56<00:00,  2.79s/it]\n",
      "  0%|          | 0/252 [00:00<?, ?it/s]"
     ]
    },
    {
     "name": "stdout",
     "output_type": "stream",
     "text": [
      "Ratu-Rock-Ella-Bersama-PHD.--Kolam-Renang-Paling-Dalam-Di-Dunia.--Haiza-Kembali-Dengan-Berita-Sukan_120319.mp3 speech/Ratu%20Rock%20Ella%20Bersama%20PHD.%20%20Kolam%20Renang%20Paling%20Dalam%20Di%20Dunia.%20%20Haiza%20Kembali%20Dengan%20Berita%20Sukan_120319.mp3 https://huseinhouse-storage.s3-ap-southeast-1.amazonaws.com/speech/Ratu%2520Rock%2520Ella%2520Bersama%2520PHD.%2520%2520Kolam%2520Renang%2520Paling%2520Dalam%2520Di%2520Dunia.%2520%2520Haiza%2520Kembali%2520Dengan%2520Berita%2520Sukan_120319.mp3 252\n"
     ]
    },
    {
     "name": "stderr",
     "output_type": "stream",
     "text": [
      "100%|██████████| 252/252 [12:03<00:00,  2.87s/it]\n",
      "  0%|          | 0/257 [00:00<?, ?it/s]"
     ]
    },
    {
     "name": "stdout",
     "output_type": "stream",
     "text": [
      "Tragedi-Sungai-Kim-Kim-Semakin-Kritikal.--Mak-Nyah-Bogel-Di-Tengah-Jalan--Semak-Keputusan-Spm-Melalui-Online-Dan-Sms_140319-.mp3 speech/Tragedi%20Sungai%20Kim%20Kim%20Semakin%20Kritikal.%20%20Mak%20Nyah%20Bogel%20Di%20Tengah%20Jalan%20%20Semak%20Keputusan%20Spm%20Melalui%20Online%20Dan%20Sms_140319%20.mp3 https://huseinhouse-storage.s3-ap-southeast-1.amazonaws.com/speech/Tragedi%2520Sungai%2520Kim%2520Kim%2520Semakin%2520Kritikal.%2520%2520Mak%2520Nyah%2520Bogel%2520Di%2520Tengah%2520Jalan%2520%2520Semak%2520Keputusan%2520Spm%2520Melalui%2520Online%2520Dan%2520Sms_140319%2520.mp3 257\n"
     ]
    },
    {
     "name": "stderr",
     "output_type": "stream",
     "text": [
      "100%|██████████| 257/257 [09:53<00:00,  2.31s/it]\n",
      "  0%|          | 0/261 [00:00<?, ?it/s]"
     ]
    },
    {
     "name": "stdout",
     "output_type": "stream",
     "text": [
      "07625f23-79bd-48e7-9026-d33d361ffead-Harga-Rumah-Sangat-Tidak-Mampu-Milik.--Keinginan-Potong-Tangan-Kaki-Sendiri.--Perenang-Mati-Kemurungan_251019.mp3 speech/07625f23-79bd-48e7-9026-d33d361ffead-Harga%20Rumah%20Sangat%20Tidak%20Mampu%20Milik.%20%20Keinginan%20Potong%20Tangan%20Kaki%20Sendiri.%20%20Perenang%20Mati%20Kemurungan_251019.mp3 https://huseinhouse-storage.s3-ap-southeast-1.amazonaws.com/speech/07625f23-79bd-48e7-9026-d33d361ffead-Harga%2520Rumah%2520Sangat%2520Tidak%2520Mampu%2520Milik.%2520%2520Keinginan%2520Potong%2520Tangan%2520Kaki%2520Sendiri.%2520%2520Perenang%2520Mati%2520Kemurungan_251019.mp3 261\n"
     ]
    },
    {
     "name": "stderr",
     "output_type": "stream",
     "text": [
      "100%|██████████| 261/261 [11:01<00:00,  2.54s/it]\n",
      "  0%|          | 0/269 [00:00<?, ?it/s]"
     ]
    },
    {
     "name": "stdout",
     "output_type": "stream",
     "text": [
      "29e89a3f-8585-4dc7-b5de-c496f02e5db3-BORAK-KOOL-TENTANG-ANAK-SUSUT-ATAU-BANTUT.-PENYANYI-KPOP-GOO-HARA-MENINGGAL-DUNIA.-SIMPAN-UBAT-DALAM-PETI-SEJUK-TAHAN-LAMA_251119-.mp3 speech/29e89a3f-8585-4dc7-b5de-c496f02e5db3-BORAK%20KOOL%20TENTANG%20ANAK%20SUSUT%20ATAU%20BANTUT.%20PENYANYI%20KPOP%20GOO%20HARA%20MENINGGAL%20DUNIA.%20SIMPAN%20UBAT%20DALAM%20PETI%20SEJUK%20TAHAN%20LAMA_251119%20.mp3 https://huseinhouse-storage.s3-ap-southeast-1.amazonaws.com/speech/29e89a3f-8585-4dc7-b5de-c496f02e5db3-BORAK%2520KOOL%2520TENTANG%2520ANAK%2520SUSUT%2520ATAU%2520BANTUT.%2520PENYANYI%2520KPOP%2520GOO%2520HARA%2520MENINGGAL%2520DUNIA.%2520SIMPAN%2520UBAT%2520DALAM%2520PETI%2520SEJUK%2520TAHAN%2520LAMA_251119%2520.mp3 269\n"
     ]
    },
    {
     "name": "stderr",
     "output_type": "stream",
     "text": [
      "100%|██████████| 269/269 [11:49<00:00,  2.64s/it]\n",
      "  0%|          | 0/259 [00:00<?, ?it/s]"
     ]
    },
    {
     "name": "stdout",
     "output_type": "stream",
     "text": [
      "d438db13-622f-4d1a-9f3e-5b588bf0911a-I-Suri-Caruman-Sukarela-Kwsp-Suami-Kepada-Isteri.--Makanan-Pelik-Yang-Tak-Sangka-Memang-Wujud.--Ikan-Paus-Di-Pulau-Pinang_051219.mp3 speech/d438db13-622f-4d1a-9f3e-5b588bf0911a-I%20Suri%20Caruman%20Sukarela%20Kwsp%20Suami%20Kepada%20Isteri.%20%20Makanan%20Pelik%20Yang%20Tak%20Sangka%20Memang%20Wujud.%20%20Ikan%20Paus%20Di%20Pulau%20Pinang_051219.mp3 https://huseinhouse-storage.s3-ap-southeast-1.amazonaws.com/speech/d438db13-622f-4d1a-9f3e-5b588bf0911a-I%2520Suri%2520Caruman%2520Sukarela%2520Kwsp%2520Suami%2520Kepada%2520Isteri.%2520%2520Makanan%2520Pelik%2520Yang%2520Tak%2520Sangka%2520Memang%2520Wujud.%2520%2520Ikan%2520Paus%2520Di%2520Pulau%2520Pinang_051219.mp3 259\n"
     ]
    },
    {
     "name": "stderr",
     "output_type": "stream",
     "text": [
      "100%|██████████| 259/259 [10:10<00:00,  2.36s/it]\n",
      "  0%|          | 0/261 [00:00<?, ?it/s]"
     ]
    },
    {
     "name": "stdout",
     "output_type": "stream",
     "text": [
      "9c280dc4-f7c9-43c4-a800-ad9f09c823bf-Kaedah-Tenangkan-Anak-Ketika-Berkhatan.--Undang-Undang-Yang-Pelik.--Buah-Dan-Sayuran-Akan-Rosak-Jika-Disejukkan_031219.mp3 speech/9c280dc4-f7c9-43c4-a800-ad9f09c823bf-Kaedah%20Tenangkan%20Anak%20Ketika%20Berkhatan.%20%20Undang-Undang%20Yang%20Pelik.%20%20Buah%20Dan%20Sayuran%20Akan%20Rosak%20Jika%20Disejukkan_031219.mp3 https://huseinhouse-storage.s3-ap-southeast-1.amazonaws.com/speech/9c280dc4-f7c9-43c4-a800-ad9f09c823bf-Kaedah%2520Tenangkan%2520Anak%2520Ketika%2520Berkhatan.%2520%2520Undang-Undang%2520Yang%2520Pelik.%2520%2520Buah%2520Dan%2520Sayuran%2520Akan%2520Rosak%2520Jika%2520Disejukkan_031219.mp3 261\n"
     ]
    },
    {
     "name": "stderr",
     "output_type": "stream",
     "text": [
      "100%|██████████| 261/261 [10:34<00:00,  2.43s/it]\n",
      "  0%|          | 0/262 [00:00<?, ?it/s]"
     ]
    },
    {
     "name": "stdout",
     "output_type": "stream",
     "text": [
      "525ac7c9-fdd7-4adb-8d81-f89dc8f61e18-Borak-Kool-Dugaan-Pertunangan.-Dr.-Amalina-Pertahan-Syed-Saadiq-Yang-Di-Serang-Netizen.-Taman-Tema-Air-Luarbiasa-Di-Dunia_161219---.mp3 speech/525ac7c9-fdd7-4adb-8d81-f89dc8f61e18-Borak%20Kool%20Dugaan%20Pertunangan.%20Dr.%20Amalina%20Pertahan%20Syed%20Saadiq%20Yang%20Di%20Serang%20Netizen.%20Taman%20Tema%20Air%20Luarbiasa%20Di%20Dunia_161219%20%20%20.mp3 https://huseinhouse-storage.s3-ap-southeast-1.amazonaws.com/speech/525ac7c9-fdd7-4adb-8d81-f89dc8f61e18-Borak%2520Kool%2520Dugaan%2520Pertunangan.%2520Dr.%2520Amalina%2520Pertahan%2520Syed%2520Saadiq%2520Yang%2520Di%2520Serang%2520Netizen.%2520Taman%2520Tema%2520Air%2520Luarbiasa%2520Di%2520Dunia_161219%2520%2520%2520.mp3 262\n"
     ]
    },
    {
     "name": "stderr",
     "output_type": "stream",
     "text": [
      "100%|██████████| 262/262 [11:26<00:00,  2.62s/it]\n",
      "  0%|          | 0/260 [00:00<?, ?it/s]"
     ]
    },
    {
     "name": "stdout",
     "output_type": "stream",
     "text": [
      "Bajet-Perbelanjaan-Di-Bazar-Ramadhan.--66-Tahun-Pendam-Masuk-Islam.--Pertandingan-Tangisan-Bayi-Paling-Panjang_070519-.mp3 speech/Bajet%20Perbelanjaan%20Di%20Bazar%20Ramadhan.%20%2066%20Tahun%20Pendam%20Masuk%20Islam.%20%20Pertandingan%20Tangisan%20Bayi%20Paling%20Panjang_070519%20.mp3 https://huseinhouse-storage.s3-ap-southeast-1.amazonaws.com/speech/Bajet%2520Perbelanjaan%2520Di%2520Bazar%2520Ramadhan.%2520%252066%2520Tahun%2520Pendam%2520Masuk%2520Islam.%2520%2520Pertandingan%2520Tangisan%2520Bayi%2520Paling%2520Panjang_070519%2520.mp3 260\n"
     ]
    },
    {
     "name": "stderr",
     "output_type": "stream",
     "text": [
      "100%|██████████| 260/260 [10:41<00:00,  2.47s/it]\n",
      "  0%|          | 0/230 [00:00<?, ?it/s]"
     ]
    },
    {
     "name": "stdout",
     "output_type": "stream",
     "text": [
      "Ada-Orang-Keempat-Di-PHD.--Ratu-Anai-Anai-Mapu-Hidup-500-Tahun.--Jual-Durian-Tanpa-Kulit_090719.mp3 speech/Ada%20Orang%20Keempat%20Di%20PHD.%20%20Ratu%20Anai-Anai%20Mapu%20Hidup%20500%20Tahun.%20%20Jual%20Durian%20Tanpa%20Kulit_090719.mp3 https://huseinhouse-storage.s3-ap-southeast-1.amazonaws.com/speech/Ada%2520Orang%2520Keempat%2520Di%2520PHD.%2520%2520Ratu%2520Anai-Anai%2520Mapu%2520Hidup%2520500%2520Tahun.%2520%2520Jual%2520Durian%2520Tanpa%2520Kulit_090719.mp3 230\n"
     ]
    },
    {
     "name": "stderr",
     "output_type": "stream",
     "text": [
      "100%|██████████| 230/230 [10:37<00:00,  2.77s/it]\n",
      "  0%|          | 0/251 [00:00<?, ?it/s]"
     ]
    },
    {
     "name": "stdout",
     "output_type": "stream",
     "text": [
      "2eaf85c8-27d6-418c-b104-3bcd1b175736-Hady-Mirza-Di-Kool-FM.--Kos-Pembinaan-Paling-Mahal-Di-Dunia.--Motorsikal-Boleh-Bergerak-Di-Dalam-Air_061219-.mp3 speech/2eaf85c8-27d6-418c-b104-3bcd1b175736-Hady%20Mirza%20Di%20Kool%20FM.%20%20Kos%20Pembinaan%20Paling%20Mahal%20Di%20Dunia.%20%20Motorsikal%20Boleh%20Bergerak%20Di%20Dalam%20Air_061219%20.mp3 https://huseinhouse-storage.s3-ap-southeast-1.amazonaws.com/speech/2eaf85c8-27d6-418c-b104-3bcd1b175736-Hady%2520Mirza%2520Di%2520Kool%2520FM.%2520%2520Kos%2520Pembinaan%2520Paling%2520Mahal%2520Di%2520Dunia.%2520%2520Motorsikal%2520Boleh%2520Bergerak%2520Di%2520Dalam%2520Air_061219%2520.mp3 251\n"
     ]
    },
    {
     "name": "stderr",
     "output_type": "stream",
     "text": [
      "100%|██████████| 251/251 [10:44<00:00,  2.57s/it]\n",
      "  0%|          | 0/229 [00:00<?, ?it/s]"
     ]
    },
    {
     "name": "stdout",
     "output_type": "stream",
     "text": [
      "Korban-Dalam-Islam.--Kasut-Tumit-Tinggi-Paling-Mahal-Di-Dunia.--Jual-Buah-Pinggang-Nak-Bayar-Hutang_090819.mp3 speech/Korban%20Dalam%20Islam.%20%20Kasut%20Tumit%20Tinggi%20Paling%20Mahal%20Di%20Dunia.%20%20Jual%20Buah%20Pinggang%20Nak%20Bayar%20Hutang_090819.mp3 https://huseinhouse-storage.s3-ap-southeast-1.amazonaws.com/speech/Korban%2520Dalam%2520Islam.%2520%2520Kasut%2520Tumit%2520Tinggi%2520Paling%2520Mahal%2520Di%2520Dunia.%2520%2520Jual%2520Buah%2520Pinggang%2520Nak%2520Bayar%2520Hutang_090819.mp3 229\n"
     ]
    },
    {
     "name": "stderr",
     "output_type": "stream",
     "text": [
      "100%|██████████| 229/229 [09:20<00:00,  2.45s/it]\n",
      "  0%|          | 0/263 [00:00<?, ?it/s]"
     ]
    },
    {
     "name": "stdout",
     "output_type": "stream",
     "text": [
      "Orang-Kita-Suka-Protes--Sejarah-Rompakan-Dunia.--Pesawat-Terbang-Rendah-Di-KLCC_111019.mp3 speech/Orang%20Kita%20Suka%20Protes%20%20Sejarah%20Rompakan%20Dunia.%20%20Pesawat%20Terbang%20Rendah%20Di%20KLCC_111019.mp3 https://huseinhouse-storage.s3-ap-southeast-1.amazonaws.com/speech/Orang%2520Kita%2520Suka%2520Protes%2520%2520Sejarah%2520Rompakan%2520Dunia.%2520%2520Pesawat%2520Terbang%2520Rendah%2520Di%2520KLCC_111019.mp3 263\n"
     ]
    },
    {
     "name": "stderr",
     "output_type": "stream",
     "text": [
      "100%|██████████| 263/263 [11:11<00:00,  2.55s/it]\n",
      "  0%|          | 0/265 [00:00<?, ?it/s]"
     ]
    },
    {
     "name": "stdout",
     "output_type": "stream",
     "text": [
      "Calon-18-Tahun-Boleh-Bertanding.--Brazil-Negara-Paling-Banyak-Banduan.--Mayhat-Beku-Di-Tayar-Pesawat_0310149.mp3 speech/Calon%2018%20Tahun%20Boleh%20Bertanding.%20%20Brazil%20Negara%20Paling%20Banyak%20Banduan.%20%20Mayhat%20Beku%20Di%20Tayar%20Pesawat_0310149.mp3 https://huseinhouse-storage.s3-ap-southeast-1.amazonaws.com/speech/Calon%252018%2520Tahun%2520Boleh%2520Bertanding.%2520%2520Brazil%2520Negara%2520Paling%2520Banyak%2520Banduan.%2520%2520Mayhat%2520Beku%2520Di%2520Tayar%2520Pesawat_0310149.mp3 265\n"
     ]
    },
    {
     "name": "stderr",
     "output_type": "stream",
     "text": [
      "100%|██████████| 265/265 [11:52<00:00,  2.69s/it]\n",
      "  0%|          | 0/278 [00:00<?, ?it/s]"
     ]
    },
    {
     "name": "stdout",
     "output_type": "stream",
     "text": [
      "KOTAK-MUZIK-PHD-BERSAMA-WINGS.-KEMPEN-RAMADAN-TANPA-PEMBAZIRAN.-GADIS-TERPAUT-HATI-DENGAN-JEJAKA-AFRIKA_300419--.mp3 speech/KOTAK%20MUZIK%20PHD%20BERSAMA%20WINGS.%20KEMPEN%20RAMADAN%20TANPA%20PEMBAZIRAN.%20GADIS%20TERPAUT%20HATI%20DENGAN%20JEJAKA%20AFRIKA_300419%20%20.mp3 https://huseinhouse-storage.s3-ap-southeast-1.amazonaws.com/speech/KOTAK%2520MUZIK%2520PHD%2520BERSAMA%2520WINGS.%2520KEMPEN%2520RAMADAN%2520TANPA%2520PEMBAZIRAN.%2520GADIS%2520TERPAUT%2520HATI%2520DENGAN%2520JEJAKA%2520AFRIKA_300419%2520%2520.mp3 278\n"
     ]
    },
    {
     "name": "stderr",
     "output_type": "stream",
     "text": [
      "100%|██████████| 278/278 [13:04<00:00,  2.82s/it]\n",
      "  0%|          | 0/269 [00:00<?, ?it/s]"
     ]
    },
    {
     "name": "stdout",
     "output_type": "stream",
     "text": [
      "Mark-Adam-Rela-Jadi-Guru-Vokal-Muaz--Perut-Mak-Dirodok-Lembing-Komunis.--Bercerai-Sebab-Burung-Nuri_300819.mp3 speech/Mark%20Adam%20Rela%20Jadi%20Guru%20Vokal%20Muaz%20%20Perut%20Mak%20Dirodok%20Lembing%20Komunis.%20%20Bercerai%20Sebab%20Burung%20Nuri_300819.mp3 https://huseinhouse-storage.s3-ap-southeast-1.amazonaws.com/speech/Mark%2520Adam%2520Rela%2520Jadi%2520Guru%2520Vokal%2520Muaz%2520%2520Perut%2520Mak%2520Dirodok%2520Lembing%2520Komunis.%2520%2520Bercerai%2520Sebab%2520Burung%2520Nuri_300819.mp3 269\n"
     ]
    },
    {
     "name": "stderr",
     "output_type": "stream",
     "text": [
      "100%|██████████| 269/269 [11:37<00:00,  2.59s/it]\n",
      "  0%|          | 0/262 [00:00<?, ?it/s]"
     ]
    },
    {
     "name": "stdout",
     "output_type": "stream",
     "text": [
      "Sosial-Media-Platform-Jejak-Kasih.--Selamat-Tinggal-Analog.--Muzium-Kematian-Di-Bangkok_070819.mp3 speech/Sosial%20Media%20Platform%20Jejak%20Kasih.%20%20Selamat%20Tinggal%20Analog.%20%20Muzium%20Kematian%20Di%20Bangkok_070819.mp3 https://huseinhouse-storage.s3-ap-southeast-1.amazonaws.com/speech/Sosial%2520Media%2520Platform%2520Jejak%2520Kasih.%2520%2520Selamat%2520Tinggal%2520Analog.%2520%2520Muzium%2520Kematian%2520Di%2520Bangkok_070819.mp3 262\n"
     ]
    },
    {
     "name": "stderr",
     "output_type": "stream",
     "text": [
      "100%|██████████| 262/262 [09:56<00:00,  2.28s/it]\n",
      "  0%|          | 0/265 [00:00<?, ?it/s]"
     ]
    },
    {
     "name": "stdout",
     "output_type": "stream",
     "text": [
      "9dff10a7-c8f0-44ad-b4f9-ed36b24aed3c-Jerat-Pakej-Pelancongan.--Pembeli-Rumah-Tertipu-Dengan-Pemaju--Taylor-Swift-Kalahkan-Michael-Jackson_261119.mp3 speech/9dff10a7-c8f0-44ad-b4f9-ed36b24aed3c-Jerat%20Pakej%20Pelancongan.%20%20Pembeli%20Rumah%20Tertipu%20Dengan%20Pemaju%20%20Taylor%20Swift%20Kalahkan%20Michael%20Jackson_261119.mp3 https://huseinhouse-storage.s3-ap-southeast-1.amazonaws.com/speech/9dff10a7-c8f0-44ad-b4f9-ed36b24aed3c-Jerat%2520Pakej%2520Pelancongan.%2520%2520Pembeli%2520Rumah%2520Tertipu%2520Dengan%2520Pemaju%2520%2520Taylor%2520Swift%2520Kalahkan%2520Michael%2520Jackson_261119.mp3 265\n"
     ]
    },
    {
     "name": "stderr",
     "output_type": "stream",
     "text": [
      "100%|██████████| 265/265 [10:25<00:00,  2.36s/it]\n",
      "  0%|          | 0/271 [00:00<?, ?it/s]"
     ]
    },
    {
     "name": "stdout",
     "output_type": "stream",
     "text": [
      "Cabaran-Terbesar-Untuk-Muaz.--Hospital-Dijangka-Terima-Ramai-Pesakit-JEREBU.--Malaysia-Ada-140-Bahasa_110919.mp3 speech/Cabaran%20Terbesar%20Untuk%20Muaz.%20%20Hospital%20Dijangka%20Terima%20Ramai%20Pesakit%20JEREBU.%20%20Malaysia%20Ada%20140%20Bahasa_110919.mp3 https://huseinhouse-storage.s3-ap-southeast-1.amazonaws.com/speech/Cabaran%2520Terbesar%2520Untuk%2520Muaz.%2520%2520Hospital%2520Dijangka%2520Terima%2520Ramai%2520Pesakit%2520JEREBU.%2520%2520Malaysia%2520Ada%2520140%2520Bahasa_110919.mp3 271\n"
     ]
    },
    {
     "name": "stderr",
     "output_type": "stream",
     "text": [
      "100%|██████████| 271/271 [12:46<00:00,  2.83s/it]\n",
      "  0%|          | 0/262 [00:00<?, ?it/s]"
     ]
    },
    {
     "name": "stdout",
     "output_type": "stream",
     "text": [
      "Tia-Masih-Baik-Dengan-Jinbara.--Nyanyi-Dalam-Bilik-Air-Lagi-Sedap-DaripadaNyanyi-Dekat-Luar.--Budak-Tujuh-Tahun-Lari-Pecut-13.48-saat-Dalam-100-Meter_210219--.mp3 speech/Tia%20Masih%20Baik%20Dengan%20Jinbara.%20%20Nyanyi%20Dalam%20Bilik%20Air%20Lagi%20Sedap%20DaripadaNyanyi%20Dekat%20Luar.%20%20Budak%20Tujuh%20Tahun%20Lari%20Pecut%2013.48%20saat%20Dalam%20100%20Meter_210219%20%20.mp3 https://huseinhouse-storage.s3-ap-southeast-1.amazonaws.com/speech/Tia%2520Masih%2520Baik%2520Dengan%2520Jinbara.%2520%2520Nyanyi%2520Dalam%2520Bilik%2520Air%2520Lagi%2520Sedap%2520DaripadaNyanyi%2520Dekat%2520Luar.%2520%2520Budak%2520Tujuh%2520Tahun%2520Lari%2520Pecut%252013.48%2520saat%2520Dalam%2520100%2520Meter_210219%2520%2520.mp3 262\n"
     ]
    },
    {
     "name": "stderr",
     "output_type": "stream",
     "text": [
      "100%|██████████| 262/262 [11:35<00:00,  2.65s/it]\n",
      "  0%|          | 0/263 [00:00<?, ?it/s]"
     ]
    },
    {
     "name": "stdout",
     "output_type": "stream",
     "text": [
      "Kerjaya-Turun-Temurun.--The-Speedy-Jantan-Dapat-Tiket-Ke-Filipina.--Rambut-Manusia-Tahan-Selama-5-Tahun_190819---.mp3 speech/Kerjaya%20Turun%20Temurun.%20%20The%20Speedy%20Jantan%20Dapat%20Tiket%20Ke%20Filipina.%20%20Rambut%20Manusia%20Tahan%20Selama%205%20Tahun_190819%20%20%20.mp3 https://huseinhouse-storage.s3-ap-southeast-1.amazonaws.com/speech/Kerjaya%2520Turun%2520Temurun.%2520%2520The%2520Speedy%2520Jantan%2520Dapat%2520Tiket%2520Ke%2520Filipina.%2520%2520Rambut%2520Manusia%2520Tahan%2520Selama%25205%2520Tahun_190819%2520%2520%2520.mp3 263\n"
     ]
    },
    {
     "name": "stderr",
     "output_type": "stream",
     "text": [
      "100%|██████████| 263/263 [12:21<00:00,  2.82s/it]\n",
      "  0%|          | 0/266 [00:00<?, ?it/s]"
     ]
    },
    {
     "name": "stdout",
     "output_type": "stream",
     "text": [
      "dbbeab21-cdff-432f-bdc2-a05d2d9ec7ee-Gejala-Basikal-Lajak-Semakin-Serius!--Anjing-Laut-Boleh-Menyelam-Ke-Dalam-1000-Kaki.--Lambung-Bayi-Tanda-Rezeki_301019-.mp3 speech/dbbeab21-cdff-432f-bdc2-a05d2d9ec7ee-Gejala%20Basikal%20Lajak%20Semakin%20Serius%21%20%20Anjing%20Laut%20Boleh%20Menyelam%20Ke%20Dalam%201000%20Kaki.%20%20Lambung%20Bayi%20Tanda%20Rezeki_301019%20.mp3 https://huseinhouse-storage.s3-ap-southeast-1.amazonaws.com/speech/dbbeab21-cdff-432f-bdc2-a05d2d9ec7ee-Gejala%2520Basikal%2520Lajak%2520Semakin%2520Serius%2521%2520%2520Anjing%2520Laut%2520Boleh%2520Menyelam%2520Ke%2520Dalam%25201000%2520Kaki.%2520%2520Lambung%2520Bayi%2520Tanda%2520Rezeki_301019%2520.mp3 266\n"
     ]
    },
    {
     "name": "stderr",
     "output_type": "stream",
     "text": [
      "100%|██████████| 266/266 [08:59<00:00,  2.03s/it]\n",
      "  0%|          | 0/267 [00:00<?, ?it/s]"
     ]
    },
    {
     "name": "stdout",
     "output_type": "stream",
     "text": [
      "Mertua-Oh-Mertua!--Nasa-Rancang-Perjalanan-Ke-Marikh-Tahun-2033.--Isteri-Lapor-Polis-Suami-Salah-Beli-Ayam_040419.mp3 speech/Mertua%20Oh%20Mertua%21%20%20Nasa%20Rancang%20Perjalanan%20Ke%20Marikh%20Tahun%202033.%20%20Isteri%20Lapor%20Polis%20Suami%20Salah%20Beli%20Ayam_040419.mp3 https://huseinhouse-storage.s3-ap-southeast-1.amazonaws.com/speech/Mertua%2520Oh%2520Mertua%2521%2520%2520Nasa%2520Rancang%2520Perjalanan%2520Ke%2520Marikh%2520Tahun%25202033.%2520%2520Isteri%2520Lapor%2520Polis%2520Suami%2520Salah%2520Beli%2520Ayam_040419.mp3 267\n"
     ]
    },
    {
     "name": "stderr",
     "output_type": "stream",
     "text": [
      "100%|██████████| 267/267 [09:27<00:00,  2.13s/it]\n",
      "  0%|          | 0/263 [00:00<?, ?it/s]"
     ]
    },
    {
     "name": "stdout",
     "output_type": "stream",
     "text": [
      "Tribute-Seniman-Agung-P.Ramlee.--Wanita-Mohon-Di-Telan-Polis.--Saman-RM30-Juta-Roboh-Rumah-Pusaka_220319.mp3 speech/Tribute%20Seniman%20Agung%20P.Ramlee.%20%20Wanita%20Mohon%20Di%20Telan%20Polis.%20%20Saman%20RM30%20Juta%20Roboh%20Rumah%20Pusaka_220319.mp3 https://huseinhouse-storage.s3-ap-southeast-1.amazonaws.com/speech/Tribute%2520Seniman%2520Agung%2520P.Ramlee.%2520%2520Wanita%2520Mohon%2520Di%2520Telan%2520Polis.%2520%2520Saman%2520RM30%2520Juta%2520Roboh%2520Rumah%2520Pusaka_220319.mp3 263\n"
     ]
    },
    {
     "name": "stderr",
     "output_type": "stream",
     "text": [
      "100%|██████████| 263/263 [10:02<00:00,  2.29s/it]\n",
      "  0%|          | 0/261 [00:00<?, ?it/s]"
     ]
    },
    {
     "name": "stdout",
     "output_type": "stream",
     "text": [
      "Sheeda-Dangdut-Belanja-Hindustan.--Gadis-Misteri-Depan-Cermin.--Dah-Bayar,-Tak-Review-Pun_271218_2.mp3 speech/Sheeda%20Dangdut%20Belanja%20Hindustan.%20%20Gadis%20Misteri%20Depan%20Cermin.%20%20Dah%20Bayar,%20Tak%20Review%20Pun_271218_2.mp3 https://huseinhouse-storage.s3-ap-southeast-1.amazonaws.com/speech/Sheeda%2520Dangdut%2520Belanja%2520Hindustan.%2520%2520Gadis%2520Misteri%2520Depan%2520Cermin.%2520%2520Dah%2520Bayar%2C%2520Tak%2520Review%2520Pun_271218_2.mp3 261\n"
     ]
    },
    {
     "name": "stderr",
     "output_type": "stream",
     "text": [
      "100%|██████████| 261/261 [10:45<00:00,  2.47s/it]\n",
      "  0%|          | 0/279 [00:00<?, ?it/s]"
     ]
    },
    {
     "name": "stdout",
     "output_type": "stream",
     "text": [
      "Linda-Onn-Jumpa-Lipas-Dalam-Ayam-Sambal.-Tips-Menabung-PHD.-Macam-Mana-Nak-Kejut-Anak-Awal_080119.mp3 speech/Linda%20Onn%20Jumpa%20Lipas%20Dalam%20Ayam%20Sambal.%20Tips%20Menabung%20PHD.%20Macam%20Mana%20Nak%20Kejut%20Anak%20Awal_080119.mp3 https://huseinhouse-storage.s3-ap-southeast-1.amazonaws.com/speech/Linda%2520Onn%2520Jumpa%2520Lipas%2520Dalam%2520Ayam%2520Sambal.%2520Tips%2520Menabung%2520PHD.%2520Macam%2520Mana%2520Nak%2520Kejut%2520Anak%2520Awal_080119.mp3 279\n"
     ]
    },
    {
     "name": "stderr",
     "output_type": "stream",
     "text": [
      "100%|██████████| 279/279 [14:45<00:00,  3.17s/it]\n",
      "  0%|          | 0/269 [00:00<?, ?it/s]"
     ]
    },
    {
     "name": "stdout",
     "output_type": "stream",
     "text": [
      "e5f38b87-c95c-4e1e-9e2f-63643c08d5d7-Jodoh-Rahsia-Tuhan.-Pekerja-PBB-Mogok!.-Angkasawan-Tak-Boleh-Makan-Kacang_041119.mp3 speech/e5f38b87-c95c-4e1e-9e2f-63643c08d5d7-Jodoh%20Rahsia%20Tuhan.%20Pekerja%20PBB%20Mogok%21.%20Angkasawan%20Tak%20Boleh%20Makan%20Kacang_041119.mp3 https://huseinhouse-storage.s3-ap-southeast-1.amazonaws.com/speech/e5f38b87-c95c-4e1e-9e2f-63643c08d5d7-Jodoh%2520Rahsia%2520Tuhan.%2520Pekerja%2520PBB%2520Mogok%2521.%2520Angkasawan%2520Tak%2520Boleh%2520Makan%2520Kacang_041119.mp3 269\n"
     ]
    },
    {
     "name": "stderr",
     "output_type": "stream",
     "text": [
      "100%|██████████| 269/269 [09:56<00:00,  2.22s/it]\n",
      "  0%|          | 0/279 [00:00<?, ?it/s]"
     ]
    },
    {
     "name": "stdout",
     "output_type": "stream",
     "text": [
      "Raja-Ema-Seorang-Yang-Garang.-Dah-Kenapa-Campak-Barang-Percuma.-Kenapa-Kau-Tak-Mati_03012019.mp3 speech/Raja%20Ema%20Seorang%20Yang%20Garang.%20Dah%20Kenapa%20Campak%20Barang%20Percuma.%20Kenapa%20Kau%20Tak%20Mati_03012019.mp3 https://huseinhouse-storage.s3-ap-southeast-1.amazonaws.com/speech/Raja%2520Ema%2520Seorang%2520Yang%2520Garang.%2520Dah%2520Kenapa%2520Campak%2520Barang%2520Percuma.%2520Kenapa%2520Kau%2520Tak%2520Mati_03012019.mp3 279\n"
     ]
    },
    {
     "name": "stderr",
     "output_type": "stream",
     "text": [
      "100%|██████████| 279/279 [12:03<00:00,  2.59s/it]\n",
      "  0%|          | 0/277 [00:00<?, ?it/s]"
     ]
    },
    {
     "name": "stdout",
     "output_type": "stream",
     "text": [
      "Semangat-Tahun-Baru-Bersama-Puan-Hana.-Wanita-Mati-20-Minit.-Pengantin-Saman-Teman-Baik.mp3 speech/Semangat%20Tahun%20Baru%20Bersama%20Puan%20Hana.%20Wanita%20Mati%2020%20Minit.%20Pengantin%20Saman%20Teman%20Baik.mp3 https://huseinhouse-storage.s3-ap-southeast-1.amazonaws.com/speech/Semangat%2520Tahun%2520Baru%2520Bersama%2520Puan%2520Hana.%2520Wanita%2520Mati%252020%2520Minit.%2520Pengantin%2520Saman%2520Teman%2520Baik.mp3 277\n"
     ]
    },
    {
     "name": "stderr",
     "output_type": "stream",
     "text": [
      "100%|██████████| 277/277 [12:51<00:00,  2.79s/it]\n",
      "  0%|          | 0/271 [00:00<?, ?it/s]"
     ]
    },
    {
     "name": "stdout",
     "output_type": "stream",
     "text": [
      "Mark-Adam-Bangga-Dengan-Muaz.--Pasar-Jual-Pengantin.--Lipas-Boleh-Hidup-Tanpa-Kepala_260919.mp3 speech/Mark%20Adam%20Bangga%20Dengan%20Muaz.%20%20Pasar%20Jual%20Pengantin.%20%20Lipas%20Boleh%20Hidup%20Tanpa%20Kepala_260919.mp3 https://huseinhouse-storage.s3-ap-southeast-1.amazonaws.com/speech/Mark%2520Adam%2520Bangga%2520Dengan%2520Muaz.%2520%2520Pasar%2520Jual%2520Pengantin.%2520%2520Lipas%2520Boleh%2520Hidup%2520Tanpa%2520Kepala_260919.mp3 271\n"
     ]
    },
    {
     "name": "stderr",
     "output_type": "stream",
     "text": [
      "100%|██████████| 271/271 [10:34<00:00,  2.34s/it]\n",
      "  0%|          | 0/266 [00:00<?, ?it/s]"
     ]
    },
    {
     "name": "stdout",
     "output_type": "stream",
     "text": [
      "Cabaran-Kerja-Di-Luar-Negara-Bersama-NurFatima.--New-Zealand-Negara-Paling-Banyak-Kambing-Biri-Biri--Messi-Dapat-Kasut-Emas_171019.mp3 speech/Cabaran%20Kerja%20Di%20Luar%20Negara%20Bersama%20NurFatima.%20%20New%20Zealand%20Negara%20Paling%20Banyak%20Kambing%20Biri%20Biri%20%20Messi%20Dapat%20Kasut%20Emas_171019.mp3 https://huseinhouse-storage.s3-ap-southeast-1.amazonaws.com/speech/Cabaran%2520Kerja%2520Di%2520Luar%2520Negara%2520Bersama%2520NurFatima.%2520%2520New%2520Zealand%2520Negara%2520Paling%2520Banyak%2520Kambing%2520Biri%2520Biri%2520%2520Messi%2520Dapat%2520Kasut%2520Emas_171019.mp3 266\n"
     ]
    },
    {
     "name": "stderr",
     "output_type": "stream",
     "text": [
      "100%|██████████| 266/266 [11:03<00:00,  2.49s/it]\n",
      "  0%|          | 0/269 [00:00<?, ?it/s]"
     ]
    },
    {
     "name": "stdout",
     "output_type": "stream",
     "text": [
      "Istiqamah-Bersama-Uztaz-Elyas.--Siapa-Idola-PHD--Lelaki-Lakukan-Seks-Luar-Tabii-Dengan-12-Haiwan_260419.mp3 speech/Istiqamah%20Bersama%20Uztaz%20Elyas.%20%20Siapa%20Idola%20PHD%20%20Lelaki%20Lakukan%20Seks%20Luar%20Tabii%20Dengan%2012%20Haiwan_260419.mp3 https://huseinhouse-storage.s3-ap-southeast-1.amazonaws.com/speech/Istiqamah%2520Bersama%2520Uztaz%2520Elyas.%2520%2520Siapa%2520Idola%2520PHD%2520%2520Lelaki%2520Lakukan%2520Seks%2520Luar%2520Tabii%2520Dengan%252012%2520Haiwan_260419.mp3 269\n"
     ]
    },
    {
     "name": "stderr",
     "output_type": "stream",
     "text": [
      "100%|██████████| 269/269 [10:27<00:00,  2.33s/it]\n",
      "  0%|          | 0/272 [00:00<?, ?it/s]"
     ]
    },
    {
     "name": "stdout",
     "output_type": "stream",
     "text": [
      "Post-Dekat-Media-Sosial-Ni-Nak-Menunjuk-ke-Atau-Bagi-Inspirasi--Cerita-Pembedahan-Luar-Biasa.--Belajar-Peribahasa-Alim-Bagai-Katak-Di-Tepi-Air_160719.mp3 speech/Post%20Dekat%20Media%20Sosial%20Ni%20Nak%20Menunjuk%20ke%20Atau%20Bagi%20Inspirasi%20%20Cerita%20Pembedahan%20Luar%20Biasa.%20%20Belajar%20Peribahasa%20Alim%20Bagai%20Katak%20Di%20Tepi%20Air_160719.mp3 https://huseinhouse-storage.s3-ap-southeast-1.amazonaws.com/speech/Post%2520Dekat%2520Media%2520Sosial%2520Ni%2520Nak%2520Menunjuk%2520ke%2520Atau%2520Bagi%2520Inspirasi%2520%2520Cerita%2520Pembedahan%2520Luar%2520Biasa.%2520%2520Belajar%2520Peribahasa%2520Alim%2520Bagai%2520Katak%2520Di%2520Tepi%2520Air_160719.mp3 272\n"
     ]
    },
    {
     "name": "stderr",
     "output_type": "stream",
     "text": [
      "100%|██████████| 272/272 [10:53<00:00,  2.40s/it]\n",
      "  0%|          | 0/273 [00:00<?, ?it/s]"
     ]
    },
    {
     "name": "stdout",
     "output_type": "stream",
     "text": [
      "Kucing-Dipos-Sejauh-1126km-Merentasi-Canada.--Kenapa-2018-Anda-Masih-Single--Pengantin-Kecewa-Dengan-Bridesmaid-Yang-Tidak-Membantu_191218.mp3 speech/Kucing%20Dipos%20Sejauh%201126km%20Merentasi%20Canada.%20%20Kenapa%202018%20Anda%20Masih%20Single%20%20Pengantin%20Kecewa%20Dengan%20Bridesmaid%20Yang%20Tidak%20Membantu_191218.mp3 https://huseinhouse-storage.s3-ap-southeast-1.amazonaws.com/speech/Kucing%2520Dipos%2520Sejauh%25201126km%2520Merentasi%2520Canada.%2520%2520Kenapa%25202018%2520Anda%2520Masih%2520Single%2520%2520Pengantin%2520Kecewa%2520Dengan%2520Bridesmaid%2520Yang%2520Tidak%2520Membantu_191218.mp3 273\n"
     ]
    },
    {
     "name": "stderr",
     "output_type": "stream",
     "text": [
      "100%|██████████| 273/273 [09:40<00:00,  2.13s/it]\n",
      "  0%|          | 0/273 [00:00<?, ?it/s]"
     ]
    },
    {
     "name": "stdout",
     "output_type": "stream",
     "text": [
      "dec2312f-3c32-4852-823f-c50850cd97c6-Henti-Banding-Anak-Orang-Lain-Dengan-Anak-Sendiri.--Nama-PelikYang-Wujud-Di-Dunia.--Banyak-Duduk-,Galak-Lemak-Berkumpul_131119.mp3 speech/dec2312f-3c32-4852-823f-c50850cd97c6-Henti%20Banding%20Anak%20Orang%20Lain%20Dengan%20Anak%20Sendiri.%20%20Nama%20PelikYang%20Wujud%20Di%20Dunia.%20%20Banyak%20Duduk%20%2CGalak%20Lemak%20Berkumpul_131119.mp3 https://huseinhouse-storage.s3-ap-southeast-1.amazonaws.com/speech/dec2312f-3c32-4852-823f-c50850cd97c6-Henti%2520Banding%2520Anak%2520Orang%2520Lain%2520Dengan%2520Anak%2520Sendiri.%2520%2520Nama%2520PelikYang%2520Wujud%2520Di%2520Dunia.%2520%2520Banyak%2520Duduk%2520%252CGalak%2520Lemak%2520Berkumpul_131119.mp3 273\n"
     ]
    },
    {
     "name": "stderr",
     "output_type": "stream",
     "text": [
      "100%|██████████| 273/273 [09:38<00:00,  2.12s/it]\n",
      "  0%|          | 0/267 [00:00<?, ?it/s]"
     ]
    },
    {
     "name": "stdout",
     "output_type": "stream",
     "text": [
      "TERIMA-KASIH-DLCW!-DRAWBRIDGE-DITUTUP-SEMULA.-HARI-BAPA-BERSAMA-ROY-AZMAN_140619.mp3 speech/TERIMA%20KASIH%20DLCW%21%20DRAWBRIDGE%20DITUTUP%20SEMULA.%20HARI%20BAPA%20BERSAMA%20ROY%20AZMAN_140619.mp3 https://huseinhouse-storage.s3-ap-southeast-1.amazonaws.com/speech/TERIMA%2520KASIH%2520DLCW%2521%2520DRAWBRIDGE%2520DITUTUP%2520SEMULA.%2520HARI%2520BAPA%2520BERSAMA%2520ROY%2520AZMAN_140619.mp3 267\n"
     ]
    },
    {
     "name": "stderr",
     "output_type": "stream",
     "text": [
      "100%|██████████| 267/267 [09:48<00:00,  2.20s/it]\n",
      "  0%|          | 0/271 [00:00<?, ?it/s]"
     ]
    },
    {
     "name": "stdout",
     "output_type": "stream",
     "text": [
      "Karaoke-Bersama-PHD.--Bahaya-Cairkan-Lemak.--Artis-Wanita-Masalah-Disiplin_280319.mp3 speech/Karaoke%20Bersama%20PHD.%20%20Bahaya%20Cairkan%20Lemak.%20%20Artis%20Wanita%20Masalah%20Disiplin_280319.mp3 https://huseinhouse-storage.s3-ap-southeast-1.amazonaws.com/speech/Karaoke%2520Bersama%2520PHD.%2520%2520Bahaya%2520Cairkan%2520Lemak.%2520%2520Artis%2520Wanita%2520Masalah%2520Disiplin_280319.mp3 271\n"
     ]
    },
    {
     "name": "stderr",
     "output_type": "stream",
     "text": [
      "100%|██████████| 271/271 [10:43<00:00,  2.37s/it]\n",
      "  0%|          | 0/273 [00:00<?, ?it/s]"
     ]
    },
    {
     "name": "stdout",
     "output_type": "stream",
     "text": [
      "Siti-Nordiana-Bawa-Zaim-Masuk-Konti.--Abby-Abadi-Kembali-Jadi-Inspektor-Aliza.--Fakta-Kutu-Rambut_281218.mp3 speech/Siti%20Nordiana%20Bawa%20Zaim%20Masuk%20Konti.%20%20Abby%20Abadi%20Kembali%20Jadi%20Inspektor%20Aliza.%20%20Fakta%20Kutu%20Rambut_281218.mp3 https://huseinhouse-storage.s3-ap-southeast-1.amazonaws.com/speech/Siti%2520Nordiana%2520Bawa%2520Zaim%2520Masuk%2520Konti.%2520%2520Abby%2520Abadi%2520Kembali%2520Jadi%2520Inspektor%2520Aliza.%2520%2520Fakta%2520Kutu%2520Rambut_281218.mp3 273\n"
     ]
    },
    {
     "name": "stderr",
     "output_type": "stream",
     "text": [
      "100%|██████████| 273/273 [10:00<00:00,  2.20s/it]\n",
      "  0%|          | 0/277 [00:00<?, ?it/s]"
     ]
    },
    {
     "name": "stdout",
     "output_type": "stream",
     "text": [
      "Boss-Anda-Ok-Ke-Tak--Bunuh-Isteri-Sebab-Sosial-Media.--PHD-Nak-1M-Views-Di-Live-IG_280119.mp3 speech/Boss%20Anda%20Ok%20Ke%20Tak%20%20Bunuh%20Isteri%20Sebab%20Sosial%20Media.%20%20PHD%20Nak%201M%20Views%20Di%20Live%20IG_280119.mp3 https://huseinhouse-storage.s3-ap-southeast-1.amazonaws.com/speech/Boss%2520Anda%2520Ok%2520Ke%2520Tak%2520%2520Bunuh%2520Isteri%2520Sebab%2520Sosial%2520Media.%2520%2520PHD%2520Nak%25201M%2520Views%2520Di%2520Live%2520IG_280119.mp3 277\n"
     ]
    },
    {
     "name": "stderr",
     "output_type": "stream",
     "text": [
      "100%|██████████| 277/277 [10:42<00:00,  2.32s/it]\n",
      "  0%|          | 0/277 [00:00<?, ?it/s]"
     ]
    },
    {
     "name": "stdout",
     "output_type": "stream",
     "text": [
      "5ad6fb2d-ccbb-408f-a767-9137d9027f67-Terlepas-Pandang--Minum-Air-Sejuk-Bole-Buatkan-Berat-Badan-Bertambah.--Bangunan-Bangunan-Pelik-Di-Dunia_151119.mp3 speech/5ad6fb2d-ccbb-408f-a767-9137d9027f67-Terlepas%20Pandang%20%20Minum%20Air%20Sejuk%20Bole%20Buatkan%20Berat%20Badan%20Bertambah.%20%20Bangunan%20Bangunan%20Pelik%20Di%20Dunia_151119.mp3 https://huseinhouse-storage.s3-ap-southeast-1.amazonaws.com/speech/5ad6fb2d-ccbb-408f-a767-9137d9027f67-Terlepas%2520Pandang%2520%2520Minum%2520Air%2520Sejuk%2520Bole%2520Buatkan%2520Berat%2520Badan%2520Bertambah.%2520%2520Bangunan%2520Bangunan%2520Pelik%2520Di%2520Dunia_151119.mp3 277\n"
     ]
    },
    {
     "name": "stderr",
     "output_type": "stream",
     "text": [
      "100%|██████████| 277/277 [08:23<00:00,  1.82s/it]\n",
      "  0%|          | 0/275 [00:00<?, ?it/s]"
     ]
    },
    {
     "name": "stdout",
     "output_type": "stream",
     "text": [
      "Adab-Ziarah-Bayi.--Maut-Langgar-Lampu-Merah.--Sri-Lanka-Isytihar-Perintah-Berkurung_220419.mp3 speech/Adab%20Ziarah%20Bayi.%20%20Maut%20Langgar%20Lampu%20Merah.%20%20Sri%20Lanka%20Isytihar%20Perintah%20Berkurung_220419.mp3 https://huseinhouse-storage.s3-ap-southeast-1.amazonaws.com/speech/Adab%2520Ziarah%2520Bayi.%2520%2520Maut%2520Langgar%2520Lampu%2520Merah.%2520%2520Sri%2520Lanka%2520Isytihar%2520Perintah%2520Berkurung_220419.mp3 275\n"
     ]
    },
    {
     "name": "stderr",
     "output_type": "stream",
     "text": [
      "100%|██████████| 275/275 [08:49<00:00,  1.92s/it]\n",
      "  0%|          | 0/271 [00:00<?, ?it/s]"
     ]
    },
    {
     "name": "stdout",
     "output_type": "stream",
     "text": [
      "c280b519-cfa0-4d30-b981-ac623a7e1cef-Dato-Seri-Siti-Nurhaliza-Bersama-PHD.-Kereta-Terbang--Makan-Banyak-Coklat-Bole-Meyebabkan-Maut_211119.mp3 speech/c280b519-cfa0-4d30-b981-ac623a7e1cef-Dato%20Seri%20Siti%20Nurhaliza%20Bersama%20PHD.%20Kereta%20Terbang%20%20Makan%20Banyak%20Coklat%20Bole%20Meyebabkan%20Maut_211119.mp3 https://huseinhouse-storage.s3-ap-southeast-1.amazonaws.com/speech/c280b519-cfa0-4d30-b981-ac623a7e1cef-Dato%2520Seri%2520Siti%2520Nurhaliza%2520Bersama%2520PHD.%2520Kereta%2520Terbang%2520%2520Makan%2520Banyak%2520Coklat%2520Bole%2520Meyebabkan%2520Maut_211119.mp3 271\n"
     ]
    },
    {
     "name": "stderr",
     "output_type": "stream",
     "text": [
      "100%|██████████| 271/271 [09:32<00:00,  2.11s/it]\n",
      "  0%|          | 0/275 [00:00<?, ?it/s]"
     ]
    },
    {
     "name": "stdout",
     "output_type": "stream",
     "text": [
      "Filem-Bu-Angkat-Nilai-Kasih-Sayang.--PM-New-Zealand-Jijik-Sebut-Nama-Pengganas.--Artis-Ada-Fake-Account_200319.mp3 speech/Filem%20Bu%20Angkat%20Nilai%20Kasih%20Sayang.%20%20PM%20New%20Zealand%20Jijik%20Sebut%20Nama%20Pengganas.%20%20Artis%20Ada%20Fake%20Account_200319.mp3 https://huseinhouse-storage.s3-ap-southeast-1.amazonaws.com/speech/Filem%2520Bu%2520Angkat%2520Nilai%2520Kasih%2520Sayang.%2520%2520PM%2520New%2520Zealand%2520Jijik%2520Sebut%2520Nama%2520Pengganas.%2520%2520Artis%2520Ada%2520Fake%2520Account_200319.mp3 275\n"
     ]
    },
    {
     "name": "stderr",
     "output_type": "stream",
     "text": [
      "100%|██████████| 275/275 [09:24<00:00,  2.05s/it]\n",
      "  0%|          | 0/245 [00:00<?, ?it/s]"
     ]
    },
    {
     "name": "stdout",
     "output_type": "stream",
     "text": [
      "Kotak-Muzik-Bersama-In-Team.--Didenda-Kerana-Melastik-Dua-Gelang-Getah.--Konsert-Spice-Girl-Mengecewakan-Penonton_280519.mp3 speech/Kotak%20Muzik%20Bersama%20In%20Team.%20%20Didenda%20Kerana%20Melastik%20Dua%20Gelang%20Getah.%20%20Konsert%20Spice%20Girl%20Mengecewakan%20Penonton_280519.mp3 https://huseinhouse-storage.s3-ap-southeast-1.amazonaws.com/speech/Kotak%2520Muzik%2520Bersama%2520In%2520Team.%2520%2520Didenda%2520Kerana%2520Melastik%2520Dua%2520Gelang%2520Getah.%2520%2520Konsert%2520Spice%2520Girl%2520Mengecewakan%2520Penonton_280519.mp3 245\n"
     ]
    },
    {
     "name": "stderr",
     "output_type": "stream",
     "text": [
      "100%|██████████| 245/245 [08:28<00:00,  2.07s/it]\n",
      "  0%|          | 0/266 [00:00<?, ?it/s]"
     ]
    },
    {
     "name": "stdout",
     "output_type": "stream",
     "text": [
      "Hafiz-Suip-Dan-Buah-Tangan-Baru!--McGregor-Bersara-Lagi--Chef-Wan-Tegur-Jutawan-Buat-Review_270319.mp3 speech/Hafiz%20Suip%20Dan%20Buah%20Tangan%20Baru%21%20%20McGregor%20Bersara%20Lagi%20%20Chef%20Wan%20Tegur%20Jutawan%20Buat%20Review_270319.mp3 https://huseinhouse-storage.s3-ap-southeast-1.amazonaws.com/speech/Hafiz%2520Suip%2520Dan%2520Buah%2520Tangan%2520Baru%2521%2520%2520McGregor%2520Bersara%2520Lagi%2520%2520Chef%2520Wan%2520Tegur%2520Jutawan%2520Buat%2520Review_270319.mp3 266\n"
     ]
    },
    {
     "name": "stderr",
     "output_type": "stream",
     "text": [
      "100%|██████████| 266/266 [10:39<00:00,  2.40s/it]\n",
      "  0%|          | 0/277 [00:00<?, ?it/s]"
     ]
    },
    {
     "name": "stdout",
     "output_type": "stream",
     "text": [
      "5a2a8183-4007-425c-9b79-824b50e5fac1-Lelaki-Dayus,-Kaki-Pukul.--Bayi-Lelaki-Terkecil-Di-Dunia-Dibenar-Pulang.--Pelajar-Wanita-Pertama-Malaysia-Diterima-Masuk-Akademi-Laut-AS_280219.mp3 speech/5a2a8183-4007-425c-9b79-824b50e5fac1-Lelaki%20Dayus%2C%20Kaki%20Pukul.%20%20Bayi%20Lelaki%20Terkecil%20Di%20Dunia%20Dibenar%20Pulang.%20%20Pelajar%20Wanita%20Pertama%20Malaysia%20Diterima%20Masuk%20Akademi%20Laut%20AS_280219.mp3 https://huseinhouse-storage.s3-ap-southeast-1.amazonaws.com/speech/5a2a8183-4007-425c-9b79-824b50e5fac1-Lelaki%2520Dayus%252C%2520Kaki%2520Pukul.%2520%2520Bayi%2520Lelaki%2520Terkecil%2520Di%2520Dunia%2520Dibenar%2520Pulang.%2520%2520Pelajar%2520Wanita%2520Pertama%2520Malaysia%2520Diterima%2520Masuk%2520Akademi%2520Laut%2520AS_280219.mp3 277\n"
     ]
    },
    {
     "name": "stderr",
     "output_type": "stream",
     "text": [
      "100%|██████████| 277/277 [08:55<00:00,  1.93s/it]\n",
      "  0%|          | 0/279 [00:00<?, ?it/s]"
     ]
    },
    {
     "name": "stdout",
     "output_type": "stream",
     "text": [
      "Hari-Pertama-UPSR.--Nora-Danish-Wish-Muaz--Tun-M---Kekal-Bersara-Usia-60-Tahun_040919.mp3 speech/Hari%20Pertama%20UPSR.%20%20Nora%20Danish%20Wish%20Muaz%20%20Tun%20M%20-%20Kekal%20Bersara%20Usia%2060%20Tahun_040919.mp3 https://huseinhouse-storage.s3-ap-southeast-1.amazonaws.com/speech/Hari%2520Pertama%2520UPSR.%2520%2520Nora%2520Danish%2520Wish%2520Muaz%2520%2520Tun%2520M%2520-%2520Kekal%2520Bersara%2520Usia%252060%2520Tahun_040919.mp3 279\n"
     ]
    },
    {
     "name": "stderr",
     "output_type": "stream",
     "text": [
      "100%|██████████| 279/279 [09:49<00:00,  2.11s/it]\n",
      "  0%|          | 0/278 [00:00<?, ?it/s]"
     ]
    },
    {
     "name": "stdout",
     "output_type": "stream",
     "text": [
      "Pengangguran,Salah-Pekerja-Atau-Majikan--Bandar-Bandar-Unik-Di-Dunia.--Ronaldinho-Dilanda-Masalah-Kewangan_310719.mp3 speech/Pengangguran%2CSalah%20Pekerja%20Atau%20Majikan%20%20Bandar-Bandar%20Unik%20Di%20Dunia.%20%20Ronaldinho%20Dilanda%20Masalah%20Kewangan_310719.mp3 https://huseinhouse-storage.s3-ap-southeast-1.amazonaws.com/speech/Pengangguran%252CSalah%2520Pekerja%2520Atau%2520Majikan%2520%2520Bandar-Bandar%2520Unik%2520Di%2520Dunia.%2520%2520Ronaldinho%2520Dilanda%2520Masalah%2520Kewangan_310719.mp3 278\n"
     ]
    },
    {
     "name": "stderr",
     "output_type": "stream",
     "text": [
      "100%|██████████| 278/278 [09:38<00:00,  2.08s/it]\n",
      "  0%|          | 0/281 [00:00<?, ?it/s]"
     ]
    },
    {
     "name": "stdout",
     "output_type": "stream",
     "text": [
      "Susahnya-Jiran-Bela-Kucing-Tapi-Kotor!--Hadiah-HandPhone-Selepas-Perkosa--Haiza-Buat-Hal-Lagi-Dalam-Berita-Sukan_250119-.mp3 speech/Susahnya%20Jiran%20Bela%20Kucing%20Tapi%20Kotor!%20%20Hadiah%20HandPhone%20Selepas%20Perkosa%20%20Haiza%20Buat%20Hal%20Lagi%20Dalam%20Berita%20Sukan_250119%20.mp3 https://huseinhouse-storage.s3-ap-southeast-1.amazonaws.com/speech/Susahnya%2520Jiran%2520Bela%2520Kucing%2520Tapi%2520Kotor%21%2520%2520Hadiah%2520HandPhone%2520Selepas%2520Perkosa%2520%2520Haiza%2520Buat%2520Hal%2520Lagi%2520Dalam%2520Berita%2520Sukan_250119%2520.mp3 281\n"
     ]
    },
    {
     "name": "stderr",
     "output_type": "stream",
     "text": [
      "100%|██████████| 281/281 [10:11<00:00,  2.18s/it]\n",
      "  0%|          | 0/271 [00:00<?, ?it/s]"
     ]
    },
    {
     "name": "stdout",
     "output_type": "stream",
     "text": [
      "Bahana-Pinjam-Along.--Chikungunya-Serang-Alor-Setar.--Nasi-Takan-Gemukkan-Anda_270619.mp3 speech/Bahana%20Pinjam%20Along.%20%20Chikungunya%20Serang%20Alor%20Setar.%20%20Nasi%20Takan%20Gemukkan%20Anda_270619.mp3 https://huseinhouse-storage.s3-ap-southeast-1.amazonaws.com/speech/Bahana%2520Pinjam%2520Along.%2520%2520Chikungunya%2520Serang%2520Alor%2520Setar.%2520%2520Nasi%2520Takan%2520Gemukkan%2520Anda_270619.mp3 271\n"
     ]
    },
    {
     "name": "stderr",
     "output_type": "stream",
     "text": [
      "100%|██████████| 271/271 [09:51<00:00,  2.18s/it]\n",
      "  0%|          | 0/246 [00:00<?, ?it/s]"
     ]
    },
    {
     "name": "stdout",
     "output_type": "stream",
     "text": [
      "Gabungan-Hebat-Raihan-X-Aliff-Satar.--Malaysia-Tetap-Pendirian-Halang-LGBT.--Ragam-Pembeli-Di-Bazar-Ramadhan_150519.mp3 speech/Gabungan%20Hebat%20Raihan%20X%20Aliff%20Satar.%20%20Malaysia%20Tetap%20Pendirian%20Halang%20LGBT.%20%20Ragam%20Pembeli%20Di%20Bazar%20Ramadhan_150519.mp3 https://huseinhouse-storage.s3-ap-southeast-1.amazonaws.com/speech/Gabungan%2520Hebat%2520Raihan%2520X%2520Aliff%2520Satar.%2520%2520Malaysia%2520Tetap%2520Pendirian%2520Halang%2520LGBT.%2520%2520Ragam%2520Pembeli%2520Di%2520Bazar%2520Ramadhan_150519.mp3 246\n"
     ]
    },
    {
     "name": "stderr",
     "output_type": "stream",
     "text": [
      "100%|██████████| 246/246 [08:47<00:00,  2.14s/it]\n",
      "  0%|          | 0/281 [00:00<?, ?it/s]"
     ]
    },
    {
     "name": "stdout",
     "output_type": "stream",
     "text": [
      "Muaz-Relax-Tunggu-Baby-Baru.--Mike-Tyson-Nak-Lawan-Gorilla.--Ratu-Skuash-Negara-Nak-Bersara_190219.mp3 speech/Muaz%20Relax%20Tunggu%20Baby%20Baru.%20%20Mike%20Tyson%20Nak%20Lawan%20Gorilla.%20%20Ratu%20Skuash%20Negara%20Nak%20Bersara_190219.mp3 https://huseinhouse-storage.s3-ap-southeast-1.amazonaws.com/speech/Muaz%2520Relax%2520Tunggu%2520Baby%2520Baru.%2520%2520Mike%2520Tyson%2520Nak%2520Lawan%2520Gorilla.%2520%2520Ratu%2520Skuash%2520Negara%2520Nak%2520Bersara_190219.mp3 281\n"
     ]
    },
    {
     "name": "stderr",
     "output_type": "stream",
     "text": [
      "100%|██████████| 281/281 [08:50<00:00,  1.89s/it]\n",
      "  0%|          | 0/218 [00:00<?, ?it/s]"
     ]
    },
    {
     "name": "stdout",
     "output_type": "stream",
     "text": [
      "Seawal-Usia-Berapa-Kanak-Kanak-Dibolehkan-Berpuasa--Keju-Guna-Bakteria-Ketiak.--30-Gerai-Di-Masjid-India-Hangus-Terbakar_210519.mp3 speech/Seawal%20Usia%20Berapa%20Kanak-Kanak%20Dibolehkan%20Berpuasa%20%20Keju%20Guna%20Bakteria%20Ketiak.%20%2030%20Gerai%20Di%20Masjid%20India%20Hangus%20Terbakar_210519.mp3 https://huseinhouse-storage.s3-ap-southeast-1.amazonaws.com/speech/Seawal%2520Usia%2520Berapa%2520Kanak-Kanak%2520Dibolehkan%2520Berpuasa%2520%2520Keju%2520Guna%2520Bakteria%2520Ketiak.%2520%252030%2520Gerai%2520Di%2520Masjid%2520India%2520Hangus%2520Terbakar_210519.mp3 218\n"
     ]
    },
    {
     "name": "stderr",
     "output_type": "stream",
     "text": [
      "100%|██████████| 218/218 [06:28<00:00,  1.78s/it]\n",
      "  0%|          | 0/282 [00:00<?, ?it/s]"
     ]
    },
    {
     "name": "stdout",
     "output_type": "stream",
     "text": [
      "Cara-Hapuskan-Dendam.--Sri-Lanka-Perintah-Berkurung.--Denda-Untuk-Peniaga-Bazar_140519.mp3 speech/Cara%20Hapuskan%20Dendam.%20%20Sri%20Lanka%20Perintah%20Berkurung.%20%20Denda%20Untuk%20Peniaga%20Bazar_140519.mp3 https://huseinhouse-storage.s3-ap-southeast-1.amazonaws.com/speech/Cara%2520Hapuskan%2520Dendam.%2520%2520Sri%2520Lanka%2520Perintah%2520Berkurung.%2520%2520Denda%2520Untuk%2520Peniaga%2520Bazar_140519.mp3 282\n"
     ]
    },
    {
     "name": "stderr",
     "output_type": "stream",
     "text": [
      "100%|██████████| 282/282 [09:17<00:00,  1.98s/it]\n",
      "  0%|          | 0/289 [00:00<?, ?it/s]"
     ]
    },
    {
     "name": "stdout",
     "output_type": "stream",
     "text": [
      "d3d63c6a-3768-4f0b-aaa6-006ef734867d-Jalur-Gemilang-Bendera-Malaysia.--Tempat-Tempat-Misteri-Di-Dunia.--Upah-RM20-Untuk-Jaga-Seliapr_271119.mp3 speech/d3d63c6a-3768-4f0b-aaa6-006ef734867d-Jalur%20Gemilang%20Bendera%20Malaysia.%20%20Tempat%20Tempat%20Misteri%20Di%20Dunia.%20%20Upah%20RM20%20Untuk%20Jaga%20Seliapr_271119.mp3 https://huseinhouse-storage.s3-ap-southeast-1.amazonaws.com/speech/d3d63c6a-3768-4f0b-aaa6-006ef734867d-Jalur%2520Gemilang%2520Bendera%2520Malaysia.%2520%2520Tempat%2520Tempat%2520Misteri%2520Di%2520Dunia.%2520%2520Upah%2520RM20%2520Untuk%2520Jaga%2520Seliapr_271119.mp3 289\n"
     ]
    },
    {
     "name": "stderr",
     "output_type": "stream",
     "text": [
      "100%|██████████| 289/289 [07:56<00:00,  1.65s/it]\n",
      "  0%|          | 0/257 [00:00<?, ?it/s]"
     ]
    },
    {
     "name": "stdout",
     "output_type": "stream",
     "text": [
      "Flop-Poppy-One-Last-Night-In-JB.--Ella-Cipta-Rekod-Malaysia-Book-Of-Record.--Instafamous-Jangan-Sorok-Harga!!_260219.mp3 speech/Flop%20Poppy%20One%20Last%20Night%20In%20JB.%20%20Ella%20Cipta%20Rekod%20Malaysia%20Book%20Of%20Record.%20%20Instafamous%20Jangan%20Sorok%20Harga!!_260219.mp3 https://huseinhouse-storage.s3-ap-southeast-1.amazonaws.com/speech/Flop%2520Poppy%2520One%2520Last%2520Night%2520In%2520JB.%2520%2520Ella%2520Cipta%2520Rekod%2520Malaysia%2520Book%2520Of%2520Record.%2520%2520Instafamous%2520Jangan%2520Sorok%2520Harga%21%21_260219.mp3 257\n"
     ]
    },
    {
     "name": "stderr",
     "output_type": "stream",
     "text": [
      "100%|██████████| 257/257 [10:05<00:00,  2.36s/it]\n",
      "  0%|          | 0/286 [00:00<?, ?it/s]"
     ]
    },
    {
     "name": "stdout",
     "output_type": "stream",
     "text": [
      "Samseng-Jalanan-Dalam-Masyarakat.--Haiza-Suka-Picit-Roti--Pengenalan-Jawi-Diteruskan_150819--.mp3 speech/Samseng%20Jalanan%20Dalam%20Masyarakat.%20%20Haiza%20Suka%20Picit%20Roti%20%20Pengenalan%20Jawi%20Diteruskan_150819%20%20.mp3 https://huseinhouse-storage.s3-ap-southeast-1.amazonaws.com/speech/Samseng%2520Jalanan%2520Dalam%2520Masyarakat.%2520%2520Haiza%2520Suka%2520Picit%2520Roti%2520%2520Pengenalan%2520Jawi%2520Diteruskan_150819%2520%2520.mp3 286\n"
     ]
    },
    {
     "name": "stderr",
     "output_type": "stream",
     "text": [
      "100%|██████████| 286/286 [09:09<00:00,  1.92s/it]\n",
      "  0%|          | 0/286 [00:00<?, ?it/s]"
     ]
    },
    {
     "name": "stdout",
     "output_type": "stream",
     "text": [
      "9f6569b3-242e-439a-a19c-63203b56cf20-Waspada-Pilih-Tempat-Cuti.--Wabak-Paling-Teruk-Dalam-Dunia.--Manusia-Suka-Cakap-Dengan-Diri-Sendiri_191119.mp3 speech/9f6569b3-242e-439a-a19c-63203b56cf20-Waspada%20Pilih%20Tempat%20Cuti.%20%20Wabak%20Paling%20Teruk%20Dalam%20Dunia.%20%20Manusia%20Suka%20Cakap%20Dengan%20Diri%20Sendiri_191119.mp3 https://huseinhouse-storage.s3-ap-southeast-1.amazonaws.com/speech/9f6569b3-242e-439a-a19c-63203b56cf20-Waspada%2520Pilih%2520Tempat%2520Cuti.%2520%2520Wabak%2520Paling%2520Teruk%2520Dalam%2520Dunia.%2520%2520Manusia%2520Suka%2520Cakap%2520Dengan%2520Diri%2520Sendiri_191119.mp3 286\n"
     ]
    },
    {
     "name": "stderr",
     "output_type": "stream",
     "text": [
      "100%|██████████| 286/286 [08:38<00:00,  1.81s/it]\n",
      "  0%|          | 0/289 [00:00<?, ?it/s]"
     ]
    },
    {
     "name": "stdout",
     "output_type": "stream",
     "text": [
      "f4651a0e-1a6d-4620-9a3e-a1ddf1c9880c-Penagih-Bukan-Penjenayah---Syed-Saddiq.--30-Sahaja-Malaysia-Bayar-Saman.--Tak-Payah-Obses-Sangat-Sister!_011119.mp3 speech/f4651a0e-1a6d-4620-9a3e-a1ddf1c9880c-Penagih%20Bukan%20Penjenayah%20-%20Syed%20Saddiq.%20%2030%20Sahaja%20Malaysia%20Bayar%20Saman.%20%20Tak%20Payah%20Obses%20Sangat%20Sister%21_011119.mp3 https://huseinhouse-storage.s3-ap-southeast-1.amazonaws.com/speech/f4651a0e-1a6d-4620-9a3e-a1ddf1c9880c-Penagih%2520Bukan%2520Penjenayah%2520-%2520Syed%2520Saddiq.%2520%252030%2520Sahaja%2520Malaysia%2520Bayar%2520Saman.%2520%2520Tak%2520Payah%2520Obses%2520Sangat%2520Sister%2521_011119.mp3 289\n"
     ]
    },
    {
     "name": "stderr",
     "output_type": "stream",
     "text": [
      "100%|██████████| 289/289 [09:11<00:00,  1.91s/it]\n",
      "  0%|          | 0/287 [00:00<?, ?it/s]"
     ]
    },
    {
     "name": "stdout",
     "output_type": "stream",
     "text": [
      "Di-Sebalik-Suara-Radio-Bersama-Lagenda-Radio.--10-Minit-Kutip-Cebisan-Otak.--Doakan-Anak-Lana-Nordin_130219.mp3 speech/Di%20Sebalik%20Suara%20Radio%20Bersama%20Lagenda%20Radio.%20%2010%20Minit%20Kutip%20Cebisan%20Otak.%20%20Doakan%20Anak%20Lana%20Nordin_130219.mp3 https://huseinhouse-storage.s3-ap-southeast-1.amazonaws.com/speech/Di%2520Sebalik%2520Suara%2520Radio%2520Bersama%2520Lagenda%2520Radio.%2520%252010%2520Minit%2520Kutip%2520Cebisan%2520Otak.%2520%2520Doakan%2520Anak%2520Lana%2520Nordin_130219.mp3 287\n"
     ]
    },
    {
     "name": "stderr",
     "output_type": "stream",
     "text": [
      "100%|██████████| 287/287 [09:29<00:00,  1.99s/it]\n",
      "  0%|          | 0/286 [00:00<?, ?it/s]"
     ]
    },
    {
     "name": "stdout",
     "output_type": "stream",
     "text": [
      "Jejak-Rasul-Ulul-Azmi-Bersama-Fedtry-Yahya.--Liverpool-Menang-Besar.--Anda-Setuju-Cermin-Gelap_080519.mp3 speech/Jejak%20Rasul%20Ulul%20Azmi%20Bersama%20Fedtry%20Yahya.%20%20Liverpool%20Menang%20Besar.%20%20Anda%20Setuju%20Cermin%20Gelap_080519.mp3 https://huseinhouse-storage.s3-ap-southeast-1.amazonaws.com/speech/Jejak%2520Rasul%2520Ulul%2520Azmi%2520Bersama%2520Fedtry%2520Yahya.%2520%2520Liverpool%2520Menang%2520Besar.%2520%2520Anda%2520Setuju%2520Cermin%2520Gelap_080519.mp3 286\n"
     ]
    },
    {
     "name": "stderr",
     "output_type": "stream",
     "text": [
      "100%|██████████| 286/286 [08:53<00:00,  1.87s/it]\n",
      "  0%|          | 0/295 [00:00<?, ?it/s]"
     ]
    },
    {
     "name": "stdout",
     "output_type": "stream",
     "text": [
      "9e651b28-add6-4442-bf38-9acffa0a015a-Atlet-perlu-pakai-baju-patuh-syariah-Fakta-tentang-tidur!-Kedah-nak-tebus-kekalahan-2017..mp3 speech/9e651b28-add6-4442-bf38-9acffa0a015a-Atlet%20perlu%20pakai%20baju%20patuh%20syariah%20Fakta%20tentang%20tidur%21%20Kedah%20nak%20tebus%20kekalahan%202017..mp3 https://huseinhouse-storage.s3-ap-southeast-1.amazonaws.com/speech/9e651b28-add6-4442-bf38-9acffa0a015a-Atlet%2520perlu%2520pakai%2520baju%2520patuh%2520syariah%2520Fakta%2520tentang%2520tidur%2521%2520Kedah%2520nak%2520tebus%2520kekalahan%25202017..mp3 295\n"
     ]
    },
    {
     "name": "stderr",
     "output_type": "stream",
     "text": [
      "100%|██████████| 295/295 [10:49<00:00,  2.20s/it]\n",
      "  0%|          | 0/278 [00:00<?, ?it/s]"
     ]
    },
    {
     "name": "stdout",
     "output_type": "stream",
     "text": [
      "Undi-18-Tahun,-Anda-Setuju-Atau-Tidak--Kepala-Firaun-Di-Lelong--Pengurus-Artis-Rosakkan-Rumah-Sewa_050719.mp3 speech/Undi%2018%20Tahun%2C%20Anda%20Setuju%20Atau%20Tidak%20%20Kepala%20Firaun%20Di%20Lelong%20%20Pengurus%20Artis%20Rosakkan%20Rumah%20Sewa_050719.mp3 https://huseinhouse-storage.s3-ap-southeast-1.amazonaws.com/speech/Undi%252018%2520Tahun%252C%2520Anda%2520Setuju%2520Atau%2520Tidak%2520%2520Kepala%2520Firaun%2520Di%2520Lelong%2520%2520Pengurus%2520Artis%2520Rosakkan%2520Rumah%2520Sewa_050719.mp3 278\n"
     ]
    },
    {
     "name": "stderr",
     "output_type": "stream",
     "text": [
      "100%|██████████| 278/278 [08:03<00:00,  1.74s/it]\n",
      "  0%|          | 0/292 [00:00<?, ?it/s]"
     ]
    },
    {
     "name": "stdout",
     "output_type": "stream",
     "text": [
      "Anak-Sulung-Serasi-Kahwin-Dengan-Anak-Bongsu--Aku-Ada-Jawapan-Depan-Allah---Yatt-Hamzah.--Tunggakan-Gaji-Pemain-Bola-YB-Nik-Nazmi_150219.mp3 speech/Anak%20Sulung%20Serasi%20Kahwin%20Dengan%20Anak%20Bongsu%20%20Aku%20Ada%20Jawapan%20Depan%20Allah%20-%20Yatt%20Hamzah.%20%20Tunggakan%20Gaji%20Pemain%20Bola%20YB%20Nik%20Nazmi_150219.mp3 https://huseinhouse-storage.s3-ap-southeast-1.amazonaws.com/speech/Anak%2520Sulung%2520Serasi%2520Kahwin%2520Dengan%2520Anak%2520Bongsu%2520%2520Aku%2520Ada%2520Jawapan%2520Depan%2520Allah%2520-%2520Yatt%2520Hamzah.%2520%2520Tunggakan%2520Gaji%2520Pemain%2520Bola%2520YB%2520Nik%2520Nazmi_150219.mp3 292\n"
     ]
    },
    {
     "name": "stderr",
     "output_type": "stream",
     "text": [
      "100%|██████████| 292/292 [09:57<00:00,  2.05s/it]\n",
      "  0%|          | 0/287 [00:00<?, ?it/s]"
     ]
    },
    {
     "name": "stdout",
     "output_type": "stream",
     "text": [
      "Tony-Eusoff-Jadi-Coach-Baru-Ola-Bola.--Jadi-Hamba-Jiran-Dari-Neraka.--Betul-Ke-Instagram-Bersihkan-Followers_140219_2.mp3 speech/Tony%20Eusoff%20Jadi%20Coach%20Baru%20Ola%20Bola.%20%20Jadi%20Hamba%20Jiran%20Dari%20Neraka.%20%20Betul%20Ke%20Instagram%20Bersihkan%20Followers_140219_2.mp3 https://huseinhouse-storage.s3-ap-southeast-1.amazonaws.com/speech/Tony%2520Eusoff%2520Jadi%2520Coach%2520Baru%2520Ola%2520Bola.%2520%2520Jadi%2520Hamba%2520Jiran%2520Dari%2520Neraka.%2520%2520Betul%2520Ke%2520Instagram%2520Bersihkan%2520Followers_140219_2.mp3 287\n"
     ]
    },
    {
     "name": "stderr",
     "output_type": "stream",
     "text": [
      "100%|██████████| 287/287 [10:47<00:00,  2.26s/it]\n",
      "  0%|          | 0/293 [00:00<?, ?it/s]"
     ]
    },
    {
     "name": "stdout",
     "output_type": "stream",
     "text": [
      "b59e5554-cbcc-4980-9e36-e822846435a2-56-Kanak-Kanak-Mengadu-Sunyi.-Virus-Paling-Dasyat-Di-Muka-Bumi.-Penanaman-Ganja-Dibenarkan_071119.mp3 speech/b59e5554-cbcc-4980-9e36-e822846435a2-56%20Kanak-Kanak%20Mengadu%20Sunyi.%20Virus%20Paling%20Dasyat%20Di%20Muka%20Bumi.%20Penanaman%20Ganja%20Dibenarkan_071119.mp3 https://huseinhouse-storage.s3-ap-southeast-1.amazonaws.com/speech/b59e5554-cbcc-4980-9e36-e822846435a2-56%2520Kanak-Kanak%2520Mengadu%2520Sunyi.%2520Virus%2520Paling%2520Dasyat%2520Di%2520Muka%2520Bumi.%2520Penanaman%2520Ganja%2520Dibenarkan_071119.mp3 293\n"
     ]
    },
    {
     "name": "stderr",
     "output_type": "stream",
     "text": [
      "100%|██████████| 293/293 [09:10<00:00,  1.88s/it]\n",
      "  0%|          | 0/291 [00:00<?, ?it/s]"
     ]
    },
    {
     "name": "stdout",
     "output_type": "stream",
     "text": [
      "Bila-Anda-Balik-Kampung--Pahang-Cuti-Umum-30-Julai.--Abang-Botak-Selamat-Ditangkap_310519.mp3 speech/Bila%20Anda%20Balik%20Kampung%20%20Pahang%20Cuti%20Umum%2030%20Julai.%20%20Abang%20Botak%20Selamat%20Ditangkap_310519.mp3 https://huseinhouse-storage.s3-ap-southeast-1.amazonaws.com/speech/Bila%2520Anda%2520Balik%2520Kampung%2520%2520Pahang%2520Cuti%2520Umum%252030%2520Julai.%2520%2520Abang%2520Botak%2520Selamat%2520Ditangkap_310519.mp3 291\n"
     ]
    },
    {
     "name": "stderr",
     "output_type": "stream",
     "text": [
      "100%|██████████| 291/291 [10:04<00:00,  2.08s/it]\n",
      "  0%|          | 0/206 [00:00<?, ?it/s]"
     ]
    },
    {
     "name": "stdout",
     "output_type": "stream",
     "text": [
      "Penceraian-Dalam-Islam.--Naikkan-Followers-Di-Instagram.--Sedar-Selepas-27-Tahun-Koma_250419.mp3 speech/Penceraian%20Dalam%20Islam.%20%20Naikkan%20Followers%20Di%20Instagram.%20%20Sedar%20Selepas%2027%20Tahun%20Koma_250419.mp3 https://huseinhouse-storage.s3-ap-southeast-1.amazonaws.com/speech/Penceraian%2520Dalam%2520Islam.%2520%2520Naikkan%2520Followers%2520Di%2520Instagram.%2520%2520Sedar%2520Selepas%252027%2520Tahun%2520Koma_250419.mp3 206\n"
     ]
    },
    {
     "name": "stderr",
     "output_type": "stream",
     "text": [
      "100%|██████████| 206/206 [07:12<00:00,  2.10s/it]\n",
      "  0%|          | 0/288 [00:00<?, ?it/s]"
     ]
    },
    {
     "name": "stdout",
     "output_type": "stream",
     "text": [
      "Exist-Reunion-Kembali!.-Mira-Filzah-Berlakon-Filem-Pertama-MMA.-Madonna-Bawa-Sekampung-Nak-Buat-Show_230819.mp3 speech/Exist%20Reunion%20Kembali%21.%20Mira%20Filzah%20Berlakon%20Filem%20Pertama%20MMA.%20Madonna%20Bawa%20Sekampung%20Nak%20Buat%20Show_230819.mp3 https://huseinhouse-storage.s3-ap-southeast-1.amazonaws.com/speech/Exist%2520Reunion%2520Kembali%2521.%2520Mira%2520Filzah%2520Berlakon%2520Filem%2520Pertama%2520MMA.%2520Madonna%2520Bawa%2520Sekampung%2520Nak%2520Buat%2520Show_230819.mp3 288\n"
     ]
    },
    {
     "name": "stderr",
     "output_type": "stream",
     "text": [
      "100%|██████████| 288/288 [13:27<00:00,  2.80s/it]\n",
      "  0%|          | 0/294 [00:00<?, ?it/s]"
     ]
    },
    {
     "name": "stdout",
     "output_type": "stream",
     "text": [
      "Hala-Tuju-Selepas-SPM.--PubG-Diharamkan-Di-India.--A.Aida-Tarik-Balik-Kereta-Anak_150319.mp3 speech/Hala%20Tuju%20Selepas%20SPM.%20%20PubG%20Diharamkan%20Di%20India.%20%20A.Aida%20Tarik%20Balik%20Kereta%20Anak_150319.mp3 https://huseinhouse-storage.s3-ap-southeast-1.amazonaws.com/speech/Hala%2520Tuju%2520Selepas%2520SPM.%2520%2520PubG%2520Diharamkan%2520Di%2520India.%2520%2520A.Aida%2520Tarik%2520Balik%2520Kereta%2520Anak_150319.mp3 294\n"
     ]
    },
    {
     "name": "stderr",
     "output_type": "stream",
     "text": [
      "100%|██████████| 294/294 [09:53<00:00,  2.02s/it]\n",
      "  0%|          | 0/288 [00:00<?, ?it/s]"
     ]
    },
    {
     "name": "stdout",
     "output_type": "stream",
     "text": [
      "Campur-Tangan-Keluarga-Dalam-Urusan-Rumah-Tangga.--Pecah-Rekod-Duduk-Atas-Tandas-5-Hari--Buah-Pelik-Tapi-Wujud_150719.mp3 speech/Campur%20Tangan%20Keluarga%20Dalam%20Urusan%20Rumah%20Tangga.%20%20Pecah%20Rekod%20Duduk%20Atas%20Tandas%205%20Hari%20%20Buah%20Pelik%20Tapi%20Wujud_150719.mp3 https://huseinhouse-storage.s3-ap-southeast-1.amazonaws.com/speech/Campur%2520Tangan%2520Keluarga%2520Dalam%2520Urusan%2520Rumah%2520Tangga.%2520%2520Pecah%2520Rekod%2520Duduk%2520Atas%2520Tandas%25205%2520Hari%2520%2520Buah%2520Pelik%2520Tapi%2520Wujud_150719.mp3 288\n"
     ]
    },
    {
     "name": "stderr",
     "output_type": "stream",
     "text": [
      "100%|██████████| 288/288 [10:09<00:00,  2.12s/it]\n",
      "  0%|          | 0/288 [00:00<?, ?it/s]"
     ]
    },
    {
     "name": "stdout",
     "output_type": "stream",
     "text": [
      "Jangan-Merungut!---Uztaz-Zafiri.--Hukuman-Mati-Untuk-Pemabuk!--Kali-Pertama-Masuk-Gym-Bersama-PHD_290319.mp3 speech/Jangan%20Merungut%21%20-%20Uztaz%20Zafiri.%20%20Hukuman%20Mati%20Untuk%20Pemabuk%21%20%20Kali%20Pertama%20Masuk%20Gym%20Bersama%20PHD_290319.mp3 https://huseinhouse-storage.s3-ap-southeast-1.amazonaws.com/speech/Jangan%2520Merungut%2521%2520-%2520Uztaz%2520Zafiri.%2520%2520Hukuman%2520Mati%2520Untuk%2520Pemabuk%2521%2520%2520Kali%2520Pertama%2520Masuk%2520Gym%2520Bersama%2520PHD_290319.mp3 288\n"
     ]
    },
    {
     "name": "stderr",
     "output_type": "stream",
     "text": [
      "100%|██████████| 288/288 [10:35<00:00,  2.21s/it]\n",
      "  0%|          | 0/301 [00:00<?, ?it/s]"
     ]
    },
    {
     "name": "stdout",
     "output_type": "stream",
     "text": [
      "GoJek-Diluluskan-Parlimen.--Air-Hujan-Seberat-1KG--Pantai-Pasir-Berkaca-Di-California_220819.mp3 speech/GoJek%20Diluluskan%20Parlimen.%20%20Air%20Hujan%20Seberat%201KG%20%20Pantai%20Pasir%20Berkaca%20Di%20California_220819.mp3 https://huseinhouse-storage.s3-ap-southeast-1.amazonaws.com/speech/GoJek%2520Diluluskan%2520Parlimen.%2520%2520Air%2520Hujan%2520Seberat%25201KG%2520%2520Pantai%2520Pasir%2520Berkaca%2520Di%2520California_220819.mp3 301\n"
     ]
    },
    {
     "name": "stderr",
     "output_type": "stream",
     "text": [
      "100%|██████████| 301/301 [10:55<00:00,  2.18s/it]\n",
      "  0%|          | 0/298 [00:00<?, ?it/s]"
     ]
    },
    {
     "name": "stdout",
     "output_type": "stream",
     "text": [
      "Harga-Hantaran-Ikut-Tahap-Pendidikan--Pelajar-Mabuk-Minum-Alkohol.--Pura-Pura-Mati-Jadi-Hobi_020719.mp3 speech/Harga%20Hantaran%20Ikut%20Tahap%20Pendidikan%20%20Pelajar%20Mabuk%20Minum%20Alkohol.%20%20Pura-Pura%20Mati%20Jadi%20Hobi_020719.mp3 https://huseinhouse-storage.s3-ap-southeast-1.amazonaws.com/speech/Harga%2520Hantaran%2520Ikut%2520Tahap%2520Pendidikan%2520%2520Pelajar%2520Mabuk%2520Minum%2520Alkohol.%2520%2520Pura-Pura%2520Mati%2520Jadi%2520Hobi_020719.mp3 298\n"
     ]
    },
    {
     "name": "stderr",
     "output_type": "stream",
     "text": [
      "100%|██████████| 298/298 [11:27<00:00,  2.31s/it]\n",
      "  0%|          | 0/302 [00:00<?, ?it/s]"
     ]
    },
    {
     "name": "stdout",
     "output_type": "stream",
     "text": [
      "Borak-Kool-Bersama-Noryn-Aziz.--Lelaki-Sayang-Pasangan-Melebihi-Kasih-Sayang-Wanita.--Sumareh-Tidak-Mahu-Wanita-Yang-Pentingkan-Kebendaan_211218-.mp3 speech/Borak%20Kool%20Bersama%20Noryn%20Aziz.%20%20Lelaki%20Sayang%20Pasangan%20Melebihi%20Kasih%20Sayang%20Wanita.%20%20Sumareh%20Tidak%20Mahu%20Wanita%20Yang%20Pentingkan%20Kebendaan_211218%20.mp3 https://huseinhouse-storage.s3-ap-southeast-1.amazonaws.com/speech/Borak%2520Kool%2520Bersama%2520Noryn%2520Aziz.%2520%2520Lelaki%2520Sayang%2520Pasangan%2520Melebihi%2520Kasih%2520Sayang%2520Wanita.%2520%2520Sumareh%2520Tidak%2520Mahu%2520Wanita%2520Yang%2520Pentingkan%2520Kebendaan_211218%2520.mp3 302\n"
     ]
    },
    {
     "name": "stderr",
     "output_type": "stream",
     "text": [
      "100%|██████████| 302/302 [10:52<00:00,  2.16s/it]\n",
      "  0%|          | 0/304 [00:00<?, ?it/s]"
     ]
    },
    {
     "name": "stdout",
     "output_type": "stream",
     "text": [
      "Fenomena-Orang-Berniaga.--Tembok-Cina-Bole-Dilihat-Dari-Angkasa.--Ramlah-Ram-Singgah-Konti_180919.mp3 speech/Fenomena%20Orang%20Berniaga.%20%20Tembok%20Cina%20Bole%20Dilihat%20Dari%20Angkasa.%20%20Ramlah%20Ram%20Singgah%20Konti_180919.mp3 https://huseinhouse-storage.s3-ap-southeast-1.amazonaws.com/speech/Fenomena%2520Orang%2520Berniaga.%2520%2520Tembok%2520Cina%2520Bole%2520Dilihat%2520Dari%2520Angkasa.%2520%2520Ramlah%2520Ram%2520Singgah%2520Konti_180919.mp3 304\n"
     ]
    },
    {
     "name": "stderr",
     "output_type": "stream",
     "text": [
      "100%|██████████| 304/304 [13:45<00:00,  2.72s/it]\n",
      "  0%|          | 0/301 [00:00<?, ?it/s]"
     ]
    },
    {
     "name": "stdout",
     "output_type": "stream",
     "text": [
      "Hadkan-Masa-Keluar-Malam-Untuk-Remaja-Bawah-18-Tahun--Jangan-Sampai-Syirik---Mufti-Kelantan.--Menggeletis-Di-Khalayak-Umum_300119.mp3 speech/Hadkan%20Masa%20Keluar%20Malam%20Untuk%20Remaja%20Bawah%2018%20Tahun%20%20Jangan%20Sampai%20Syirik%20-%20Mufti%20Kelantan.%20%20Menggeletis%20Di%20Khalayak%20Umum_300119.mp3 https://huseinhouse-storage.s3-ap-southeast-1.amazonaws.com/speech/Hadkan%2520Masa%2520Keluar%2520Malam%2520Untuk%2520Remaja%2520Bawah%252018%2520Tahun%2520%2520Jangan%2520Sampai%2520Syirik%2520-%2520Mufti%2520Kelantan.%2520%2520Menggeletis%2520Di%2520Khalayak%2520Umum_300119.mp3 301\n"
     ]
    },
    {
     "name": "stderr",
     "output_type": "stream",
     "text": [
      "100%|██████████| 301/301 [12:26<00:00,  2.48s/it]\n",
      "  0%|          | 0/294 [00:00<?, ?it/s]"
     ]
    },
    {
     "name": "stdout",
     "output_type": "stream",
     "text": [
      "Faizal-Tahir-In-The-House.--Mesin-ATM-Untuk-Golongan-Asnaf.--Nyaris-Maut-Sebab-Selfie_250219.mp3 speech/Faizal%20Tahir%20In%20The%20House.%20%20Mesin%20ATM%20Untuk%20Golongan%20Asnaf.%20%20Nyaris%20Maut%20Sebab%20Selfie_250219.mp3 https://huseinhouse-storage.s3-ap-southeast-1.amazonaws.com/speech/Faizal%2520Tahir%2520In%2520The%2520House.%2520%2520Mesin%2520ATM%2520Untuk%2520Golongan%2520Asnaf.%2520%2520Nyaris%2520Maut%2520Sebab%2520Selfie_250219.mp3 294\n"
     ]
    },
    {
     "name": "stderr",
     "output_type": "stream",
     "text": [
      "100%|██████████| 294/294 [13:28<00:00,  2.75s/it]\n",
      "  0%|          | 0/294 [00:00<?, ?it/s]"
     ]
    },
    {
     "name": "stdout",
     "output_type": "stream",
     "text": [
      "Tips-Penjagaan-Mata.--Mufti-Kedah---Nasihat-Kaki-Ponteng-Puasa.--Curang-Bukan-Kesilapan!_160519.mp3 speech/Tips%20Penjagaan%20Mata.%20%20Mufti%20Kedah%20-%20Nasihat%20Kaki%20Ponteng%20Puasa.%20%20Curang%20Bukan%20Kesilapan%21_160519.mp3 https://huseinhouse-storage.s3-ap-southeast-1.amazonaws.com/speech/Tips%2520Penjagaan%2520Mata.%2520%2520Mufti%2520Kedah%2520-%2520Nasihat%2520Kaki%2520Ponteng%2520Puasa.%2520%2520Curang%2520Bukan%2520Kesilapan%2521_160519.mp3 294\n"
     ]
    },
    {
     "name": "stderr",
     "output_type": "stream",
     "text": [
      "100%|██████████| 294/294 [12:34<00:00,  2.56s/it]\n",
      "  0%|          | 0/298 [00:00<?, ?it/s]"
     ]
    },
    {
     "name": "stdout",
     "output_type": "stream",
     "text": [
      "Hari-Kesedaran-Autisma-Sedunia.--Maut-Dek-Topi-Keledar.--Ciri-Ciri-Suami-Mithali_020419.mp3 speech/Hari%20Kesedaran%20Autisma%20Sedunia.%20%20Maut%20Dek%20Topi%20Keledar.%20%20Ciri%20Ciri%20Suami%20Mithali_020419.mp3 https://huseinhouse-storage.s3-ap-southeast-1.amazonaws.com/speech/Hari%2520Kesedaran%2520Autisma%2520Sedunia.%2520%2520Maut%2520Dek%2520Topi%2520Keledar.%2520%2520Ciri%2520Ciri%2520Suami%2520Mithali_020419.mp3 298\n"
     ]
    },
    {
     "name": "stderr",
     "output_type": "stream",
     "text": [
      "100%|██████████| 298/298 [12:31<00:00,  2.52s/it]\n",
      "  0%|          | 0/314 [00:00<?, ?it/s]"
     ]
    },
    {
     "name": "stdout",
     "output_type": "stream",
     "text": [
      "Penderaan-Seksual-Terhadap-Wanita.--Doakan-Vokalis-Azzara-Band.--Braces-Palsu-Terdedah-HIV_151019.mp3 speech/Penderaan%20Seksual%20Terhadap%20Wanita.%20%20Doakan%20Vokalis%20Azzara%20Band.%20%20Braces%20Palsu%20Terdedah%20HIV_151019.mp3 https://huseinhouse-storage.s3-ap-southeast-1.amazonaws.com/speech/Penderaan%2520Seksual%2520Terhadap%2520Wanita.%2520%2520Doakan%2520Vokalis%2520Azzara%2520Band.%2520%2520Braces%2520Palsu%2520Terdedah%2520HIV_151019.mp3 314\n"
     ]
    },
    {
     "name": "stderr",
     "output_type": "stream",
     "text": [
      "100%|██████████| 314/314 [11:44<00:00,  2.25s/it]\n",
      "  0%|          | 0/283 [00:00<?, ?it/s]"
     ]
    },
    {
     "name": "stdout",
     "output_type": "stream",
     "text": [
      "Dato-M.Nasir-Bersama-PHD-Kool-FM.--Ronaldo-Mengadu-Pada-Ibu-Selepas-Perlawanan.--Artis-Banyak-Hal_190419.mp3 speech/Dato%20M.Nasir%20Bersama%20PHD%20Kool%20FM.%20%20Ronaldo%20Mengadu%20Pada%20Ibu%20Selepas%20Perlawanan.%20%20Artis%20Banyak%20Hal_190419.mp3 https://huseinhouse-storage.s3-ap-southeast-1.amazonaws.com/speech/Dato%2520M.Nasir%2520Bersama%2520PHD%2520Kool%2520FM.%2520%2520Ronaldo%2520Mengadu%2520Pada%2520Ibu%2520Selepas%2520Perlawanan.%2520%2520Artis%2520Banyak%2520Hal_190419.mp3 283\n"
     ]
    },
    {
     "name": "stderr",
     "output_type": "stream",
     "text": [
      "100%|██████████| 283/283 [13:12<00:00,  2.80s/it]\n",
      "  0%|          | 0/290 [00:00<?, ?it/s]"
     ]
    },
    {
     "name": "stdout",
     "output_type": "stream",
     "text": [
      "Hari-Polis-Ke-212.--Lukisan-Dibida-RM-250,000.--Pulangkan-Rambut-Anak-Saya!---Mak-Merayu_250319.mp3 speech/Hari%20Polis%20Ke%20212.%20%20Lukisan%20Dibida%20RM%20250%2C000.%20%20Pulangkan%20Rambut%20Anak%20Saya%21%20-%20Mak%20Merayu_250319.mp3 https://huseinhouse-storage.s3-ap-southeast-1.amazonaws.com/speech/Hari%2520Polis%2520Ke%2520212.%2520%2520Lukisan%2520Dibida%2520RM%2520250%252C000.%2520%2520Pulangkan%2520Rambut%2520Anak%2520Saya%2521%2520-%2520Mak%2520Merayu_250319.mp3 290\n"
     ]
    },
    {
     "name": "stderr",
     "output_type": "stream",
     "text": [
      "100%|██████████| 290/290 [13:34<00:00,  2.81s/it]\n",
      "  0%|          | 0/323 [00:00<?, ?it/s]"
     ]
    },
    {
     "name": "stdout",
     "output_type": "stream",
     "text": [
      "Fazura-Jadi-Pontianak-Moden.--Ramai-Bantah-Had-Usia-Persaraan-65-Tahun.--Negara-Paling-Kecil,-Penduduk-Paling-Obesiti_030919.mp3 speech/Fazura%20Jadi%20Pontianak%20Moden.%20%20Ramai%20Bantah%20Had%20Usia%20Persaraan%2065%20Tahun.%20%20Negara%20Paling%20Kecil%2C%20Penduduk%20Paling%20Obesiti_030919.mp3 https://huseinhouse-storage.s3-ap-southeast-1.amazonaws.com/speech/Fazura%2520Jadi%2520Pontianak%2520Moden.%2520%2520Ramai%2520Bantah%2520Had%2520Usia%2520Persaraan%252065%2520Tahun.%2520%2520Negara%2520Paling%2520Kecil%252C%2520Penduduk%2520Paling%2520Obesiti_030919.mp3 323\n"
     ]
    },
    {
     "name": "stderr",
     "output_type": "stream",
     "text": [
      "100%|██████████| 323/323 [15:56<00:00,  2.96s/it]\n",
      "  0%|          | 0/253 [00:00<?, ?it/s]"
     ]
    },
    {
     "name": "stdout",
     "output_type": "stream",
     "text": [
      "Sindrom-Takut-Jumpa-Doktor.--Perempuan-Kuasai-Algeria.--Tahniah,-BH-Sudah-62-Tahun_180719.mp3 speech/Sindrom%20Takut%20Jumpa%20Doktor.%20%20Perempuan%20Kuasai%20Algeria.%20%20Tahniah%2C%20BH%20Sudah%2062%20Tahun_180719.mp3 https://huseinhouse-storage.s3-ap-southeast-1.amazonaws.com/speech/Sindrom%2520Takut%2520Jumpa%2520Doktor.%2520%2520Perempuan%2520Kuasai%2520Algeria.%2520%2520Tahniah%252C%2520BH%2520Sudah%252062%2520Tahun_180719.mp3 253\n"
     ]
    },
    {
     "name": "stderr",
     "output_type": "stream",
     "text": [
      "100%|██████████| 253/253 [13:32<00:00,  3.21s/it]\n",
      "  0%|          | 0/330 [00:00<?, ?it/s]"
     ]
    },
    {
     "name": "stdout",
     "output_type": "stream",
     "text": [
      "Isu-Keselamatan-Di-MRT-Bersama-Ally-Iskandar.--Siti-Sarah-Nak-Jumpa-Misha-Omar--Ah-Long-Kacau-Penyewa-Sebab-Hutang_200219.mp3 speech/Isu%20Keselamatan%20Di%20MRT%20Bersama%20Ally%20Iskandar.%20%20Siti%20Sarah%20Nak%20Jumpa%20Misha%20Omar%20%20Ah%20Long%20Kacau%20Penyewa%20Sebab%20Hutang_200219.mp3 https://huseinhouse-storage.s3-ap-southeast-1.amazonaws.com/speech/Isu%2520Keselamatan%2520Di%2520MRT%2520Bersama%2520Ally%2520Iskandar.%2520%2520Siti%2520Sarah%2520Nak%2520Jumpa%2520Misha%2520Omar%2520%2520Ah%2520Long%2520Kacau%2520Penyewa%2520Sebab%2520Hutang_200219.mp3 330\n"
     ]
    },
    {
     "name": "stderr",
     "output_type": "stream",
     "text": [
      "100%|██████████| 330/330 [12:50<00:00,  2.34s/it]\n",
      "  0%|          | 0/311 [00:00<?, ?it/s]"
     ]
    },
    {
     "name": "stdout",
     "output_type": "stream",
     "text": [
      "Hari-Ungu-Bersama-Dr.-Sherrini-Ahmad.--Justin-Bieber-Beli-Rumah-RM34-Juta.--Mak-Mak-Gaduh,-Anak-Tanggung_260319.mp3 speech/Hari%20Ungu%20Bersama%20Dr.%20Sherrini%20Ahmad.%20%20Justin%20Bieber%20Beli%20Rumah%20RM34%20Juta.%20%20Mak-Mak%20Gaduh%2C%20Anak%20Tanggung_260319.mp3 https://huseinhouse-storage.s3-ap-southeast-1.amazonaws.com/speech/Hari%2520Ungu%2520Bersama%2520Dr.%2520Sherrini%2520Ahmad.%2520%2520Justin%2520Bieber%2520Beli%2520Rumah%2520RM34%2520Juta.%2520%2520Mak-Mak%2520Gaduh%252C%2520Anak%2520Tanggung_260319.mp3 311\n"
     ]
    },
    {
     "name": "stderr",
     "output_type": "stream",
     "text": [
      "100%|██████████| 311/311 [13:22<00:00,  2.58s/it]\n",
      "  0%|          | 0/354 [00:00<?, ?it/s]"
     ]
    },
    {
     "name": "stdout",
     "output_type": "stream",
     "text": [
      "Fenomena-YSuku.--Meriahkan-KeretapiSarong-Pada-16-September.--Bencana-Alam-Paling-Teruk-Dalam-Sejarah_130919.mp3 speech/Fenomena%20YSuku.%20%20Meriahkan%20KeretapiSarong%20Pada%2016%20September.%20%20Bencana%20Alam%20Paling%20Teruk%20Dalam%20Sejarah_130919.mp3 https://huseinhouse-storage.s3-ap-southeast-1.amazonaws.com/speech/Fenomena%2520YSuku.%2520%2520Meriahkan%2520KeretapiSarong%2520Pada%252016%2520September.%2520%2520Bencana%2520Alam%2520Paling%2520Teruk%2520Dalam%2520Sejarah_130919.mp3 354\n"
     ]
    },
    {
     "name": "stderr",
     "output_type": "stream",
     "text": [
      "100%|██████████| 354/354 [18:24<00:00,  3.12s/it]\n",
      "  0%|          | 0/338 [00:00<?, ?it/s]"
     ]
    },
    {
     "name": "stdout",
     "output_type": "stream",
     "text": [
      "a127fc1c-4201-4a36-9802-d4522b5e7309-Anak-Penebar-Roti-Canai-Dapat-Anugerah-Diraja.--Gigi-Tikus-Sebagai-Pisau.--Cardigan-Kurt-Cobain-Dilelong-Berjuta_291019.mp3 speech/a127fc1c-4201-4a36-9802-d4522b5e7309-Anak%20Penebar%20Roti%20Canai%20Dapat%20Anugerah%20Diraja.%20%20Gigi%20Tikus%20Sebagai%20Pisau.%20%20Cardigan%20Kurt%20Cobain%20Dilelong%20Berjuta_291019.mp3 https://huseinhouse-storage.s3-ap-southeast-1.amazonaws.com/speech/a127fc1c-4201-4a36-9802-d4522b5e7309-Anak%2520Penebar%2520Roti%2520Canai%2520Dapat%2520Anugerah%2520Diraja.%2520%2520Gigi%2520Tikus%2520Sebagai%2520Pisau.%2520%2520Cardigan%2520Kurt%2520Cobain%2520Dilelong%2520Berjuta_291019.mp3 338\n"
     ]
    },
    {
     "name": "stderr",
     "output_type": "stream",
     "text": [
      "100%|██████████| 338/338 [14:25<00:00,  2.56s/it]\n",
      "  0%|          | 0/362 [00:00<?, ?it/s]"
     ]
    },
    {
     "name": "stdout",
     "output_type": "stream",
     "text": [
      "Penyewa-Dari-Neraka.--Tempat-Percutian-Paling-Mahal-Di-Dunia.--Pisang-Goreng-Nipis_280819.mp3 speech/Penyewa%20Dari%20Neraka.%20%20Tempat%20Percutian%20Paling%20Mahal%20Di%20Dunia.%20%20Pisang%20Goreng%20Nipis_280819.mp3 https://huseinhouse-storage.s3-ap-southeast-1.amazonaws.com/speech/Penyewa%2520Dari%2520Neraka.%2520%2520Tempat%2520Percutian%2520Paling%2520Mahal%2520Di%2520Dunia.%2520%2520Pisang%2520Goreng%2520Nipis_280819.mp3 362\n"
     ]
    },
    {
     "name": "stderr",
     "output_type": "stream",
     "text": [
      "100%|██████████| 362/362 [18:49<00:00,  3.12s/it]\n",
      "  0%|          | 0/395 [00:00<?, ?it/s]"
     ]
    },
    {
     "name": "stdout",
     "output_type": "stream",
     "text": [
      "Mas-Idayu-Komen-Nyanyian-Muaz--Pedofil-Dapat-Habuan.--Sekolah-Paling-Mahal-Di-Dunia_290819.mp3 speech/Mas%20Idayu%20Komen%20Nyanyian%20Muaz%20%20Pedofil%20Dapat%20Habuan.%20%20Sekolah%20Paling%20Mahal%20Di%20Dunia_290819.mp3 https://huseinhouse-storage.s3-ap-southeast-1.amazonaws.com/speech/Mas%2520Idayu%2520Komen%2520Nyanyian%2520Muaz%2520%2520Pedofil%2520Dapat%2520Habuan.%2520%2520Sekolah%2520Paling%2520Mahal%2520Di%2520Dunia_290819.mp3 395\n"
     ]
    },
    {
     "name": "stderr",
     "output_type": "stream",
     "text": [
      "100%|██████████| 395/395 [18:40<00:00,  2.84s/it]\n",
      "  0%|          | 0/303 [00:00<?, ?it/s]"
     ]
    },
    {
     "name": "stdout",
     "output_type": "stream",
     "text": [
      "Remaja-Dan-Seks---Apa-Peranan-Masyarakat.--RM10k-Buru-Penyamun-MRT.--Ada-Tak-Vaksin-Untuk-Orang-Bodoh_180219.mp3 speech/Remaja%20Dan%20Seks%20-%20Apa%20Peranan%20Masyarakat.%20%20RM10k%20Buru%20Penyamun%20MRT.%20%20Ada%20Tak%20Vaksin%20Untuk%20Orang%20Bodoh_180219.mp3 https://huseinhouse-storage.s3-ap-southeast-1.amazonaws.com/speech/Remaja%2520Dan%2520Seks%2520-%2520Apa%2520Peranan%2520Masyarakat.%2520%2520RM10k%2520Buru%2520Penyamun%2520MRT.%2520%2520Ada%2520Tak%2520Vaksin%2520Untuk%2520Orang%2520Bodoh_180219.mp3 303\n"
     ]
    },
    {
     "name": "stderr",
     "output_type": "stream",
     "text": [
      "100%|██████████| 303/303 [12:53<00:00,  2.55s/it]\n"
     ]
    }
   ],
   "source": [
    "import urllib.parse\n",
    "from tqdm import tqdm\n",
    "\n",
    "for c in contents:\n",
    "    key = c['Key']\n",
    "    filename = urllib.parse.unquote(os.path.split(key)[1])\n",
    "    filename = filename.replace(' ', '-')\n",
    "    \n",
    "    if os.path.exists(filename):\n",
    "        continue\n",
    "        \n",
    "    if 'DrAmerSiddiqonMentalHealth' in filename:\n",
    "        continue\n",
    "        \n",
    "    url = f'https://huseinhouse-storage.s3-ap-southeast-1.amazonaws.com/{urllib.parse.quote(key)}'\n",
    "    os.system(f'wget {url} -O {filename}')\n",
    "    \n",
    "    try:\n",
    "    \n",
    "        audios, audio = split(filename)\n",
    "        audios = audios[1:]\n",
    "        print(filename, key, url, len(audios))\n",
    "\n",
    "        for part in tqdm(range(len(audios))):\n",
    "            temp_filename = f'{filename}-part-{part}.wav'\n",
    "            audiosegment_google_speech(audios[part], temp_filename)\n",
    "    except:\n",
    "        pass"
   ]
  },
  {
   "cell_type": "code",
   "execution_count": null,
   "metadata": {},
   "outputs": [],
   "source": []
  }
 ],
 "metadata": {
  "kernelspec": {
   "display_name": "Python 3",
   "language": "python",
   "name": "python3"
  },
  "language_info": {
   "codemirror_mode": {
    "name": "ipython",
    "version": 3
   },
   "file_extension": ".py",
   "mimetype": "text/x-python",
   "name": "python",
   "nbconvert_exporter": "python",
   "pygments_lexer": "ipython3",
   "version": "3.6.8"
  }
 },
 "nbformat": 4,
 "nbformat_minor": 2
}

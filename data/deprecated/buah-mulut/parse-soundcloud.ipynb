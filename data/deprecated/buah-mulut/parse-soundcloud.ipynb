{
 "cells": [
  {
   "cell_type": "code",
   "execution_count": 1,
   "metadata": {},
   "outputs": [],
   "source": [
    "# !pip3 install bs4\n",
    "from bs4 import BeautifulSoup"
   ]
  },
  {
   "cell_type": "code",
   "execution_count": 2,
   "metadata": {},
   "outputs": [
    {
     "data": {
      "text/plain": [
       "164"
      ]
     },
     "execution_count": 2,
     "metadata": {},
     "output_type": "execute_result"
    }
   ],
   "source": [
    "with open('Buah Mulut Podcast _ Free Listening on SoundCloud.htm') as fopen:\n",
    "    response = fopen.read()\n",
    "    \n",
    "bs = BeautifulSoup(response)\n",
    "titles = bs.find_all('a', {'class': 'soundTitle__title sc-link-dark'})\n",
    "len(titles)"
   ]
  },
  {
   "cell_type": "code",
   "execution_count": 3,
   "metadata": {},
   "outputs": [
    {
     "data": {
      "text/plain": [
       "<a class=\"soundTitle__title sc-link-dark\" href=\"https://soundcloud.com/buahmulutpodcast/163-of-content-creation-as-a-career-and-being-an-empty-bowl\">\n",
       "<span class=\"\">163 - Of Content Creation As A Career And Being An Empty Bowl</span>\n",
       "</a>"
      ]
     },
     "execution_count": 3,
     "metadata": {},
     "output_type": "execute_result"
    }
   ],
   "source": [
    "titles[0]"
   ]
  },
  {
   "cell_type": "code",
   "execution_count": 4,
   "metadata": {},
   "outputs": [],
   "source": [
    "# !pip3 install soundcloud-lib\n",
    "\n",
    "from sclib import SoundcloudAPI, Track, Playlist\n",
    "\n",
    "api = SoundcloudAPI()"
   ]
  },
  {
   "cell_type": "code",
   "execution_count": 5,
   "metadata": {},
   "outputs": [
    {
     "data": {
      "text/plain": [
       "'https://soundcloud.com/buahmulutpodcast/163-of-content-creation-as-a-career-and-being-an-empty-bowl'"
      ]
     },
     "execution_count": 5,
     "metadata": {},
     "output_type": "execute_result"
    }
   ],
   "source": [
    "titles[0].get('href')"
   ]
  },
  {
   "cell_type": "code",
   "execution_count": 6,
   "metadata": {},
   "outputs": [
    {
     "name": "stderr",
     "output_type": "stream",
     "text": [
      "100%|██████████| 164/164 [27:22<00:00, 10.02s/it]\n"
     ]
    }
   ],
   "source": [
    "from tqdm import tqdm\n",
    "import os\n",
    "\n",
    "for i in tqdm(range(len(titles))):\n",
    "    \n",
    "    try:\n",
    "        url = titles[i].get('href')\n",
    "        track = api.resolve(url)\n",
    "        filename = f'./{track.artist} - {track.title}.mp3'\n",
    "        filename = filename.replace(' ', '-')\n",
    "\n",
    "        if os.path.exists(filename):\n",
    "            continue\n",
    "\n",
    "        with open(filename, 'wb+') as fp:\n",
    "            track.write_mp3_to(fp)\n",
    "    except:\n",
    "        pass"
   ]
  },
  {
   "cell_type": "code",
   "execution_count": null,
   "metadata": {},
   "outputs": [],
   "source": []
  }
 ],
 "metadata": {
  "kernelspec": {
   "display_name": "Python 3",
   "language": "python",
   "name": "python3"
  },
  "language_info": {
   "codemirror_mode": {
    "name": "ipython",
    "version": 3
   },
   "file_extension": ".py",
   "mimetype": "text/x-python",
   "name": "python",
   "nbconvert_exporter": "python",
   "pygments_lexer": "ipython3",
   "version": "3.6.8"
  }
 },
 "nbformat": 4,
 "nbformat_minor": 2
}

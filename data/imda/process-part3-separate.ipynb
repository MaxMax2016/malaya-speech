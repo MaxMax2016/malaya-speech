{
 "cells": [
  {
   "cell_type": "code",
   "execution_count": 1,
   "metadata": {},
   "outputs": [
    {
     "data": {
      "text/plain": [
       "(418, 431)"
      ]
     },
     "execution_count": 1,
     "metadata": {},
     "output_type": "execute_result"
    }
   ],
   "source": [
    "from glob import glob\n",
    "import soundfile as sf\n",
    "import os\n",
    "\n",
    "textgrids = glob('Scripts-Separate/*.TextGrid')\n",
    "wavs = glob('imda-part3-Audio-Separate-StandingMic/*.wav')\n",
    "len(textgrids), len(wavs)"
   ]
  },
  {
   "cell_type": "code",
   "execution_count": 2,
   "metadata": {},
   "outputs": [
    {
     "data": {
      "text/plain": [
       "('imda-part3-Audio-Separate-StandingMic/conf_2500_2500_00862025.wav',\n",
       " 'Scripts-Separate/conf_2661_2661_00862458.TextGrid')"
      ]
     },
     "execution_count": 2,
     "metadata": {},
     "output_type": "execute_result"
    }
   ],
   "source": [
    "wavs[0], textgrids[0]"
   ]
  },
  {
   "cell_type": "code",
   "execution_count": 3,
   "metadata": {},
   "outputs": [],
   "source": [
    "# !pip3 install textgrid\n",
    "import textgrid"
   ]
  },
  {
   "cell_type": "code",
   "execution_count": 6,
   "metadata": {},
   "outputs": [],
   "source": [
    "from tqdm import tqdm\n",
    "\n",
    "directory = 'part3-separate-splitted'\n",
    "\n",
    "os.system(f'mkdir {directory}')\n",
    "os.system(f'mkdir {directory}/wav')\n",
    "os.system(f'mkdir {directory}/text')\n",
    "\n",
    "def split(path):\n",
    "    new_path = os.path.split(path)[1].replace(' ', '-').replace('.TextGrid', '')\n",
    "    f = os.path.split(path)[1].split('-')[0].replace('.TextGrid', '')\n",
    "    file = f'imda-part3-Audio-Separate-StandingMic/{f}.wav'\n",
    "    y, sr = sf.read(file)\n",
    "    index = 0\n",
    "    tg = textgrid.TextGrid.fromFile(path)\n",
    "    for i in range(len(tg)):\n",
    "        for k in range(len(tg[i])):\n",
    "            try:\n",
    "                splitted = y[int(sr * tg[i][k].minTime): int(sr * tg[i][k].maxTime)]\n",
    "                sf.write(f'{directory}/wav/{new_path}-{i}-{k}.wav', splitted, sr)\n",
    "                with open(f'{directory}/text/{new_path}-{i}-{k}.wav.txt', 'w') as fopen:\n",
    "                    fopen.write(tg[i][k].mark)\n",
    "            except Exception as e:\n",
    "                print('nested exception', e)\n",
    "\n",
    "split(textgrids[0])"
   ]
  },
  {
   "cell_type": "code",
   "execution_count": 9,
   "metadata": {},
   "outputs": [],
   "source": [
    "def loop(paths):\n",
    "    paths = paths[0]\n",
    "    for i in tqdm(range(len(paths))):\n",
    "        try:\n",
    "            split(paths[i])\n",
    "        except Exception as e:\n",
    "            print(e)"
   ]
  },
  {
   "cell_type": "code",
   "execution_count": 10,
   "metadata": {},
   "outputs": [
    {
     "name": "stderr",
     "output_type": "stream",
     "text": [
      "  4%|▎         | 1/27 [00:51<22:19, 51.51s/it]"
     ]
    },
    {
     "name": "stdout",
     "output_type": "stream",
     "text": [
      "(Interval(2459.378, 2461.393, you know who is #Feng-Shao-Feng#), Interval(2461.39, 2463.39, <S>))\n"
     ]
    },
    {
     "name": "stderr",
     "output_type": "stream",
     "text": [
      " 15%|█▍        | 4/27 [03:10<17:38, 46.03s/it]"
     ]
    },
    {
     "name": "stdout",
     "output_type": "stream",
     "text": [
      "8601.8\n"
     ]
    },
    {
     "name": "stderr",
     "output_type": "stream",
     "text": [
      " 41%|████      | 11/27 [10:08<14:38, 54.88s/it]"
     ]
    },
    {
     "name": "stdout",
     "output_type": "stream",
     "text": [
      "8169.627\n"
     ]
    },
    {
     "name": "stderr",
     "output_type": "stream",
     "text": [
      " 52%|█████▏    | 14/27 [11:53<11:28, 52.93s/it]"
     ]
    },
    {
     "name": "stdout",
     "output_type": "stream",
     "text": [
      "(Interval(5758.301, 5758.701, <S>), Interval(5758.5, 5762.164, like you can't even spend like would spend like a lot of your time trying to))\n"
     ]
    },
    {
     "name": "stderr",
     "output_type": "stream",
     "text": [
      " 56%|█████▌    | 15/27 [13:04<10:26, 52.19s/it]"
     ]
    },
    {
     "name": "stdout",
     "output_type": "stream",
     "text": [
      "8169.627\n"
     ]
    },
    {
     "name": "stderr",
     "output_type": "stream",
     "text": [
      " 59%|█████▉    | 16/27 [13:48<10:05, 55.07s/it]"
     ]
    },
    {
     "name": "stdout",
     "output_type": "stream",
     "text": [
      "The file could not be parsed as a Praat text file as it is lacking a proper header.\n"
     ]
    },
    {
     "name": "stderr",
     "output_type": "stream",
     "text": [
      " 63%|██████▎   | 17/27 [14:05<08:53, 53.35s/it]"
     ]
    },
    {
     "name": "stdout",
     "output_type": "stream",
     "text": [
      "The file could not be parsed as a Praat text file as it is lacking a proper header.\n"
     ]
    },
    {
     "name": "stderr",
     "output_type": "stream",
     "text": [
      " 67%|██████▋   | 18/27 [15:47<08:09, 54.41s/it]"
     ]
    },
    {
     "name": "stdout",
     "output_type": "stream",
     "text": [
      "Error opening 'imda-part3-Audio-Separate-StandingMic/conf_2580_2580_00862487__1_.wav': System error.\n"
     ]
    },
    {
     "name": "stderr",
     "output_type": "stream",
     "text": [
      " 89%|████████▉ | 24/27 [20:39<02:50, 57.00s/it]"
     ]
    },
    {
     "name": "stdout",
     "output_type": "stream",
     "text": [
      "(Interval(2281.992, 2285.442, don't know [leh] that day I saw documentary is still there [ah] that one the), Interval(2285.0, 2287.59, <S>))\n"
     ]
    },
    {
     "name": "stderr",
     "output_type": "stream",
     "text": [
      " 89%|████████▉ | 24/27 [21:14<02:40, 53.60s/it]"
     ]
    },
    {
     "name": "stdout",
     "output_type": "stream",
     "text": [
      "Error opening 'imda-part3-Audio-Separate-StandingMic/conf_2573_2573_00862433_edited__1.wav': System error.\n"
     ]
    },
    {
     "name": "stderr",
     "output_type": "stream",
     "text": [
      "100%|██████████| 27/27 [22:26<00:00, 49.88s/it]\n",
      "100%|██████████| 27/27 [22:50<00:00, 50.77s/it]\n",
      "100%|██████████| 27/27 [22:56<00:00, 50.98s/it]\n",
      "100%|██████████| 27/27 [23:00<00:00, 51.12s/it]\n",
      "100%|██████████| 27/27 [23:01<00:00, 51.17s/it]\n",
      "100%|██████████| 27/27 [23:07<00:00, 51.38s/it]\n",
      "100%|██████████| 27/27 [23:08<00:00, 51.44s/it]\n",
      "100%|██████████| 27/27 [23:09<00:00, 51.47s/it]\n",
      "100%|██████████| 27/27 [23:37<00:00, 52.48s/it]\n",
      "100%|██████████| 27/27 [23:47<00:00, 52.88s/it]\n",
      "100%|██████████| 27/27 [23:48<00:00, 52.90s/it]\n",
      "100%|██████████| 27/27 [23:53<00:00, 53.10s/it]\n",
      "100%|██████████| 27/27 [23:53<00:00, 53.11s/it]\n",
      "100%|██████████| 27/27 [24:01<00:00, 53.37s/it]\n",
      "100%|██████████| 27/27 [24:03<00:00, 53.48s/it]\n",
      "100%|██████████| 13/13 [02:27<00:00, 11.37s/it]\n"
     ]
    }
   ],
   "source": [
    "import mp\n",
    "mp.multiprocessing(textgrids, loop, cores = 15, returned = False)"
   ]
  },
  {
   "cell_type": "code",
   "execution_count": null,
   "metadata": {},
   "outputs": [],
   "source": []
  }
 ],
 "metadata": {
  "kernelspec": {
   "display_name": "Python 3",
   "language": "python",
   "name": "python3"
  },
  "language_info": {
   "codemirror_mode": {
    "name": "ipython",
    "version": 3
   },
   "file_extension": ".py",
   "mimetype": "text/x-python",
   "name": "python",
   "nbconvert_exporter": "python",
   "pygments_lexer": "ipython3",
   "version": "3.6.9"
  }
 },
 "nbformat": 4,
 "nbformat_minor": 2
}

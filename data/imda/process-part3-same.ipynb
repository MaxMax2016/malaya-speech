{
 "cells": [
  {
   "cell_type": "code",
   "execution_count": 1,
   "metadata": {},
   "outputs": [
    {
     "data": {
      "text/plain": [
       "(494, 246)"
      ]
     },
     "execution_count": 1,
     "metadata": {},
     "output_type": "execute_result"
    }
   ],
   "source": [
    "from glob import glob\n",
    "import soundfile as sf\n",
    "import os\n",
    "\n",
    "textgrids = glob('Scripts-Same/*.TextGrid')\n",
    "wavs = glob('imda-part3-Audio-Same-BoundaryMic/*.wav')\n",
    "len(textgrids), len(wavs)"
   ]
  },
  {
   "cell_type": "code",
   "execution_count": 8,
   "metadata": {},
   "outputs": [],
   "source": [
    "!rm -rf Scripts-Same imda-part3-Audio-Same-BoundaryMic"
   ]
  },
  {
   "cell_type": "code",
   "execution_count": 2,
   "metadata": {},
   "outputs": [],
   "source": [
    "!rm -rf part3-splitted"
   ]
  },
  {
   "cell_type": "code",
   "execution_count": 3,
   "metadata": {},
   "outputs": [
    {
     "data": {
      "text/plain": [
       "('imda-part3-Audio-Same-BoundaryMic/3055.wav',)"
      ]
     },
     "execution_count": 3,
     "metadata": {},
     "output_type": "execute_result"
    }
   ],
   "source": [
    "wavs[0], "
   ]
  },
  {
   "cell_type": "code",
   "execution_count": 4,
   "metadata": {},
   "outputs": [],
   "source": [
    "# !pip3 install textgrid\n",
    "import textgrid"
   ]
  },
  {
   "cell_type": "code",
   "execution_count": 5,
   "metadata": {},
   "outputs": [],
   "source": [
    "from tqdm import tqdm\n",
    "\n",
    "directory = 'part3-splitted'\n",
    "\n",
    "os.system(f'mkdir {directory}')\n",
    "os.system(f'mkdir {directory}/wav')\n",
    "os.system(f'mkdir {directory}/text')\n",
    "\n",
    "def split(path):\n",
    "    new_path = os.path.split(path)[1].replace(' ', '-').replace('.TextGrid', '')\n",
    "    f = os.path.split(path)[1].split('-')[0]\n",
    "    file = f'imda-part3-Audio-Same-BoundaryMic/{f}.wav'\n",
    "    y, sr = sf.read(file)\n",
    "    index = 0\n",
    "    tg = textgrid.TextGrid.fromFile(path)\n",
    "    for i in range(len(tg)):\n",
    "        for k in range(len(tg[i])):\n",
    "            try:\n",
    "                splitted = y[int(sr * tg[i][k].minTime): int(sr * tg[i][k].maxTime)]\n",
    "                sf.write(f'{directory}/wav/{new_path}-{i}-{k}.wav', splitted, sr)\n",
    "                with open(f'{directory}/text/{new_path}-{i}-{k}.wav.txt', 'w') as fopen:\n",
    "                    fopen.write(tg[i][k].mark)\n",
    "            except Exception as e:\n",
    "                print('nested exception', e)\n",
    "\n",
    "split(textgrids[0])"
   ]
  },
  {
   "cell_type": "code",
   "execution_count": 6,
   "metadata": {},
   "outputs": [],
   "source": [
    "def loop(paths):\n",
    "    paths = paths[0]\n",
    "    for i in tqdm(range(len(paths))):\n",
    "        try:\n",
    "            split(paths[i])\n",
    "        except Exception as e:\n",
    "            print(e)"
   ]
  },
  {
   "cell_type": "code",
   "execution_count": 7,
   "metadata": {},
   "outputs": [
    {
     "name": "stderr",
     "output_type": "stream",
     "text": [
      "  0%|          | 0/32 [00:00<?, ?it/s]"
     ]
    },
    {
     "name": "stdout",
     "output_type": "stream",
     "text": [
      "The file could not be parsed as a Praat text file as it is lacking a proper header.\n"
     ]
    },
    {
     "name": "stderr",
     "output_type": "stream",
     "text": [
      "  3%|▎         | 1/32 [00:42<22:09, 42.88s/it]"
     ]
    },
    {
     "name": "stdout",
     "output_type": "stream",
     "text": [
      "The file could not be parsed as a Praat text file as it is lacking a proper header.\n"
     ]
    },
    {
     "name": "stderr",
     "output_type": "stream",
     "text": [
      "  6%|▋         | 2/32 [01:43<23:43, 47.46s/it]"
     ]
    },
    {
     "name": "stdout",
     "output_type": "stream",
     "text": [
      "(Interval(6414.084, 6418.1359, I dare not talk one [ah] you know I I been through my life (uh)), Interval(6418.135, 6419.022, first))\n"
     ]
    },
    {
     "name": "stderr",
     "output_type": "stream",
     "text": [
      "  9%|▉         | 3/32 [01:45<17:27, 36.13s/it]"
     ]
    },
    {
     "name": "stdout",
     "output_type": "stream",
     "text": [
      "The file could not be parsed as a Praat text file as it is lacking a proper header.\n"
     ]
    },
    {
     "name": "stderr",
     "output_type": "stream",
     "text": [
      " 19%|█▉        | 6/32 [05:30<23:58, 55.32s/it]"
     ]
    },
    {
     "name": "stdout",
     "output_type": "stream",
     "text": [
      "'NoneType' object has no attribute 'groups'\n"
     ]
    },
    {
     "name": "stderr",
     "output_type": "stream",
     "text": [
      " 19%|█▉        | 6/32 [05:47<25:01, 57.74s/it]"
     ]
    },
    {
     "name": "stdout",
     "output_type": "stream",
     "text": [
      "The file could not be parsed as a Praat text file as it is lacking a proper header.\n"
     ]
    },
    {
     "name": "stderr",
     "output_type": "stream",
     "text": [
      " 25%|██▌       | 8/32 [06:51<21:08, 52.85s/it]"
     ]
    },
    {
     "name": "stdout",
     "output_type": "stream",
     "text": [
      "8732.361\n"
     ]
    },
    {
     "name": "stderr",
     "output_type": "stream",
     "text": [
      " 31%|███▏      | 10/32 [07:57<19:06, 52.09s/it]"
     ]
    },
    {
     "name": "stdout",
     "output_type": "stream",
     "text": [
      "The file could not be parsed as a Praat text file as it is lacking a proper header.\n"
     ]
    },
    {
     "name": "stderr",
     "output_type": "stream",
     "text": [
      " 28%|██▊       | 9/32 [08:08<19:43, 51.48s/it]]"
     ]
    },
    {
     "name": "stdout",
     "output_type": "stream",
     "text": [
      "The file could not be parsed as a Praat text file as it is lacking a proper header.\n"
     ]
    },
    {
     "name": "stderr",
     "output_type": "stream",
     "text": [
      " 31%|███▏      | 10/32 [08:10<13:28, 36.77s/it]"
     ]
    },
    {
     "name": "stdout",
     "output_type": "stream",
     "text": [
      "'NoneType' object has no attribute 'groups'\n"
     ]
    },
    {
     "name": "stderr",
     "output_type": "stream",
     "text": [
      " 34%|███▍      | 11/32 [08:18<17:05, 48.84s/it]"
     ]
    },
    {
     "name": "stdout",
     "output_type": "stream",
     "text": [
      "The file could not be parsed as a Praat text file as it is lacking a proper header.\n"
     ]
    },
    {
     "name": "stderr",
     "output_type": "stream",
     "text": [
      " 31%|███▏      | 10/32 [09:19<20:25, 55.72s/it]"
     ]
    },
    {
     "name": "stdout",
     "output_type": "stream",
     "text": [
      "The file could not be parsed as a Praat text file as it is lacking a proper header.\n"
     ]
    },
    {
     "name": "stderr",
     "output_type": "stream",
     "text": [
      " 38%|███▊      | 12/32 [09:34<15:59, 47.98s/it]"
     ]
    },
    {
     "name": "stdout",
     "output_type": "stream",
     "text": [
      "The file could not be parsed as a Praat text file as it is lacking a proper header.\n"
     ]
    },
    {
     "name": "stderr",
     "output_type": "stream",
     "text": [
      " 38%|███▊      | 12/32 [10:39<17:52, 53.65s/it]"
     ]
    },
    {
     "name": "stdout",
     "output_type": "stream",
     "text": [
      "'NoneType' object has no attribute 'groups'\n"
     ]
    },
    {
     "name": "stderr",
     "output_type": "stream",
     "text": [
      " 41%|████      | 13/32 [10:47<16:45, 52.91s/it]"
     ]
    },
    {
     "name": "stdout",
     "output_type": "stream",
     "text": [
      "The file could not be parsed as a Praat text file as it is lacking a proper header.\n"
     ]
    },
    {
     "name": "stderr",
     "output_type": "stream",
     "text": [
      " 44%|████▍     | 14/32 [11:26<14:17, 47.63s/it]"
     ]
    },
    {
     "name": "stdout",
     "output_type": "stream",
     "text": [
      "The file could not be parsed as a Praat text file as it is lacking a proper header.\n"
     ]
    },
    {
     "name": "stderr",
     "output_type": "stream",
     "text": [
      " 44%|████▍     | 14/32 [11:40<13:18, 44.39s/it]"
     ]
    },
    {
     "name": "stdout",
     "output_type": "stream",
     "text": [
      "The file could not be parsed as a Praat text file as it is lacking a proper header.\n"
     ]
    },
    {
     "name": "stderr",
     "output_type": "stream",
     "text": [
      " 44%|████▍     | 14/32 [11:43<14:53, 49.66s/it]"
     ]
    },
    {
     "name": "stdout",
     "output_type": "stream",
     "text": [
      "The file could not be parsed as a Praat text file as it is lacking a proper header.\n"
     ]
    },
    {
     "name": "stderr",
     "output_type": "stream",
     "text": [
      " 53%|█████▎    | 17/32 [13:31<11:20, 45.36s/it]"
     ]
    },
    {
     "name": "stdout",
     "output_type": "stream",
     "text": [
      "The file could not be parsed as a Praat text file as it is lacking a proper header.\n"
     ]
    },
    {
     "name": "stderr",
     "output_type": "stream",
     "text": [
      " 56%|█████▋    | 18/32 [13:43<10:52, 46.61s/it]"
     ]
    },
    {
     "name": "stdout",
     "output_type": "stream",
     "text": [
      "The file could not be parsed as a Praat text file as it is lacking a proper header.\n"
     ]
    },
    {
     "name": "stderr",
     "output_type": "stream",
     "text": [
      " 66%|██████▌   | 21/32 [16:38<08:54, 48.63s/it]"
     ]
    },
    {
     "name": "stdout",
     "output_type": "stream",
     "text": [
      "The file could not be parsed as a Praat text file as it is lacking a proper header.\n"
     ]
    },
    {
     "name": "stderr",
     "output_type": "stream",
     "text": [
      " 59%|█████▉    | 19/32 [16:39<12:18, 56.80s/it]"
     ]
    },
    {
     "name": "stdout",
     "output_type": "stream",
     "text": [
      "The file could not be parsed as a Praat text file as it is lacking a proper header.\n"
     ]
    },
    {
     "name": "stderr",
     "output_type": "stream",
     "text": [
      " 62%|██████▎   | 20/32 [16:55<09:49, 49.10s/it]"
     ]
    },
    {
     "name": "stdout",
     "output_type": "stream",
     "text": [
      "The file could not be parsed as a Praat text file as it is lacking a proper header.\n"
     ]
    },
    {
     "name": "stderr",
     "output_type": "stream",
     "text": [
      " 72%|███████▏  | 23/32 [17:32<04:53, 32.58s/it]"
     ]
    },
    {
     "name": "stdout",
     "output_type": "stream",
     "text": [
      "The file could not be parsed as a Praat text file as it is lacking a proper header.\n"
     ]
    },
    {
     "name": "stderr",
     "output_type": "stream",
     "text": [
      " 69%|██████▉   | 22/32 [18:45<07:26, 44.63s/it]"
     ]
    },
    {
     "name": "stdout",
     "output_type": "stream",
     "text": [
      "The file could not be parsed as a Praat text file as it is lacking a proper header.\n"
     ]
    },
    {
     "name": "stderr",
     "output_type": "stream",
     "text": [
      " 75%|███████▌  | 24/32 [18:48<06:31, 48.95s/it]"
     ]
    },
    {
     "name": "stdout",
     "output_type": "stream",
     "text": [
      "The file could not be parsed as a Praat text file as it is lacking a proper header.\n"
     ]
    },
    {
     "name": "stderr",
     "output_type": "stream",
     "text": [
      " 78%|███████▊  | 25/32 [19:09<05:21, 45.90s/it]"
     ]
    },
    {
     "name": "stdout",
     "output_type": "stream",
     "text": [
      "The file could not be parsed as a Praat text file as it is lacking a proper header.\n"
     ]
    },
    {
     "name": "stderr",
     "output_type": "stream",
     "text": [
      " 84%|████████▍ | 27/32 [20:36<04:07, 49.51s/it]"
     ]
    },
    {
     "name": "stdout",
     "output_type": "stream",
     "text": [
      "The file could not be parsed as a Praat text file as it is lacking a proper header.\n"
     ]
    },
    {
     "name": "stderr",
     "output_type": "stream",
     "text": [
      " 84%|████████▍ | 27/32 [20:48<04:04, 48.97s/it]"
     ]
    },
    {
     "name": "stdout",
     "output_type": "stream",
     "text": [
      "The file could not be parsed as a Praat text file as it is lacking a proper header.\n"
     ]
    },
    {
     "name": "stderr",
     "output_type": "stream",
     "text": [
      " 81%|████████▏ | 26/32 [21:42<05:16, 52.82s/it]"
     ]
    },
    {
     "name": "stdout",
     "output_type": "stream",
     "text": [
      "The file could not be parsed as a Praat text file as it is lacking a proper header.\n"
     ]
    },
    {
     "name": "stderr",
     "output_type": "stream",
     "text": [
      " 88%|████████▊ | 28/32 [21:46<02:48, 42.02s/it]"
     ]
    },
    {
     "name": "stdout",
     "output_type": "stream",
     "text": [
      "The file could not be parsed as a Praat text file as it is lacking a proper header.\n"
     ]
    },
    {
     "name": "stderr",
     "output_type": "stream",
     "text": [
      " 91%|█████████ | 29/32 [21:47<01:28, 29.52s/it]"
     ]
    },
    {
     "name": "stdout",
     "output_type": "stream",
     "text": [
      "The file could not be parsed as a Praat text file as it is lacking a proper header.\n"
     ]
    },
    {
     "name": "stderr",
     "output_type": "stream",
     "text": [
      "100%|██████████| 32/32 [23:17<00:00, 43.68s/it]\n",
      "100%|██████████| 32/32 [23:50<00:00, 44.69s/it]\n",
      "100%|██████████| 32/32 [24:06<00:00, 45.20s/it]\n",
      " 91%|█████████ | 29/32 [24:06<02:58, 59.59s/it]"
     ]
    },
    {
     "name": "stdout",
     "output_type": "stream",
     "text": [
      "The file could not be parsed as a Praat text file as it is lacking a proper header.\n"
     ]
    },
    {
     "name": "stderr",
     "output_type": "stream",
     "text": [
      " 97%|█████████▋| 31/32 [24:50<00:42, 42.29s/it]"
     ]
    },
    {
     "name": "stdout",
     "output_type": "stream",
     "text": [
      "The file could not be parsed as a Praat text file as it is lacking a proper header.\n"
     ]
    },
    {
     "name": "stderr",
     "output_type": "stream",
     "text": [
      "100%|██████████| 32/32 [24:52<00:00, 46.64s/it]\n",
      "100%|██████████| 32/32 [25:03<00:00, 47.00s/it]\n",
      "100%|██████████| 32/32 [25:11<00:00, 47.23s/it]\n",
      "100%|██████████| 32/32 [25:18<00:00, 47.46s/it]\n",
      "100%|██████████| 32/32 [25:19<00:00, 47.47s/it]\n",
      "100%|██████████| 32/32 [25:20<00:00, 47.52s/it]\n",
      "100%|██████████| 32/32 [25:27<00:00, 47.72s/it]\n",
      "100%|██████████| 32/32 [25:34<00:00, 47.97s/it]\n",
      " 94%|█████████▍| 30/32 [25:35<01:21, 40.70s/it]"
     ]
    },
    {
     "name": "stdout",
     "output_type": "stream",
     "text": [
      "The file could not be parsed as a Praat text file as it is lacking a proper header.\n"
     ]
    },
    {
     "name": "stderr",
     "output_type": "stream",
     "text": [
      "100%|██████████| 32/32 [25:43<00:00, 48.24s/it]\n",
      "100%|██████████| 32/32 [25:46<00:00, 48.31s/it]\n",
      "100%|██████████| 32/32 [25:50<00:00, 48.47s/it]\n",
      "100%|██████████| 32/32 [25:52<00:00, 48.52s/it]\n",
      " 79%|███████▊  | 11/14 [03:08<00:23,  7.97s/it]"
     ]
    },
    {
     "name": "stdout",
     "output_type": "stream",
     "text": [
      "The file could not be parsed as a Praat text file as it is lacking a proper header.\n"
     ]
    },
    {
     "name": "stderr",
     "output_type": "stream",
     "text": [
      "100%|██████████| 14/14 [03:19<00:00, 14.28s/it]\n"
     ]
    }
   ],
   "source": [
    "import mp\n",
    "mp.multiprocessing(textgrids, loop, cores = 15, returned = False)"
   ]
  },
  {
   "cell_type": "code",
   "execution_count": null,
   "metadata": {},
   "outputs": [],
   "source": []
  }
 ],
 "metadata": {
  "kernelspec": {
   "display_name": "Python 3",
   "language": "python",
   "name": "python3"
  },
  "language_info": {
   "codemirror_mode": {
    "name": "ipython",
    "version": 3
   },
   "file_extension": ".py",
   "mimetype": "text/x-python",
   "name": "python",
   "nbconvert_exporter": "python",
   "pygments_lexer": "ipython3",
   "version": "3.6.9"
  }
 },
 "nbformat": 4,
 "nbformat_minor": 2
}

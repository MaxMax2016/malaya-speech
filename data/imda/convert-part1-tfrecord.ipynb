{
 "cells": [
  {
   "cell_type": "code",
   "execution_count": 1,
   "id": "b74112a6",
   "metadata": {},
   "outputs": [],
   "source": [
    "import os\n",
    "os.environ['GOOGLE_APPLICATION_CREDENTIALS'] = 'mesolitica-tpu.json'"
   ]
  },
  {
   "cell_type": "code",
   "execution_count": 5,
   "id": "fd455e33",
   "metadata": {},
   "outputs": [],
   "source": [
    "from glob import glob\n",
    "import tensorflow as tf\n",
    "from tqdm import tqdm\n",
    "import malaya_speech\n",
    "from malaya_speech.utils import subword\n",
    "import numpy as np\n",
    "import mp\n",
    "from google.cloud import storage\n",
    "from unidecode import unidecode"
   ]
  },
  {
   "cell_type": "code",
   "execution_count": 3,
   "id": "b5941e20",
   "metadata": {},
   "outputs": [],
   "source": [
    "subwords = subword.load('transducer-singlish.subword')"
   ]
  },
  {
   "cell_type": "code",
   "execution_count": 6,
   "id": "15813e4e",
   "metadata": {},
   "outputs": [
    {
     "name": "stderr",
     "output_type": "stream",
     "text": [
      "100%|██████████| 2034/2034 [00:47<00:00, 43.10it/s]\n"
     ]
    }
   ],
   "source": [
    "wave_texts = glob('WAVE-text/*.TXT')\n",
    "\n",
    "singlishs = []\n",
    "for f in tqdm(wave_texts):\n",
    "    speaker = f.split('/')[1].replace('.TXT', '')\n",
    "    channel = speaker[-1]\n",
    "    speaker = speaker[1:-1]\n",
    "    \n",
    "    with open(f) as fopen:\n",
    "        texts = list(filter(None, fopen.read().split('\\n')))\n",
    "        texts = [texts[i: i + 2] for i in range(0, len(texts), 2)]\n",
    "    \n",
    "    for text in texts:\n",
    "        splitted = text[0].split('\\t')\n",
    "        wav = unidecode(splitted[0])\n",
    "        t = text[1].split('\\t')[1]\n",
    "        path = f'WAVE/SPEAKER{speaker}/SESSION{channel}/{wav}.WAV'\n",
    "        \n",
    "        if os.path.exists(path) and len(t):\n",
    "            singlishs.append((path, t))\n",
    "        else:\n",
    "            print(splitted, path)"
   ]
  },
  {
   "cell_type": "code",
   "execution_count": 7,
   "id": "3cd5af31",
   "metadata": {},
   "outputs": [
    {
     "data": {
      "text/plain": [
       "756342"
      ]
     },
     "execution_count": 7,
     "metadata": {},
     "output_type": "execute_result"
    }
   ],
   "source": [
    "len(singlishs)"
   ]
  },
  {
   "cell_type": "code",
   "execution_count": 8,
   "id": "5ba2effd",
   "metadata": {},
   "outputs": [],
   "source": [
    "import unicodedata\n",
    "import re\n",
    "import itertools\n",
    "\n",
    "vocabs = [\" \", \"a\", \"e\", \"n\", \"i\", \"t\", \"o\", \"u\", \"s\", \"k\", \"r\", \"l\", \"h\", \"d\", \"m\", \"g\", \"y\", \"b\", \"p\", \"w\", \"c\", \"f\", \"j\", \"v\", \"z\", \"0\", \"1\", \"x\", \"2\", \"q\", \"5\", \"3\", \"4\", \"6\", \"9\", \"8\", \"7\"]\n",
    "\n",
    "def preprocessing_text(string):\n",
    "    \n",
    "    string = unicodedata.normalize('NFC', string.lower())\n",
    "    string = string.replace('\\'', '')\n",
    "    string = ''.join([c if c in vocabs else ' ' for c in string])\n",
    "    string = re.sub(r'[ ]+', ' ', string).strip()\n",
    "    string = (\n",
    "        ''.join(''.join(s)[:2] for _, s in itertools.groupby(string))\n",
    "    )\n",
    "    return string"
   ]
  },
  {
   "cell_type": "code",
   "execution_count": 9,
   "id": "1e537316",
   "metadata": {},
   "outputs": [],
   "source": [
    "def get_after_mandarin(word):\n",
    "    if '<mandarin>' in word:\n",
    "        w = word.split('>')[1].split(':')[1]\n",
    "        return w.split('</')[0]\n",
    "    else:\n",
    "        return word\n",
    "    \n",
    "def get_before_mandarin(word):\n",
    "    if '</mandarin>' in word:\n",
    "        return word.split('</')[0]\n",
    "    else:\n",
    "        return word\n",
    "\n",
    "def replace_paralinguistic(string, replaces = ['(ppb)', '(ppc)', '(ppl)', '(ppo)', '<UNK>', '<MANDARIN>']):\n",
    "    for r in replaces:\n",
    "        string = string.replace(r, ' ')\n",
    "    string = string.split()\n",
    "    string = [get_after_mandarin(w) for w in string]\n",
    "    string = [get_before_mandarin(w) for w in string]\n",
    "    string = [w for w in string if w[0] not in '<[(' and w[-1] not in '>])']\n",
    "    return ' '.join(string)"
   ]
  },
  {
   "cell_type": "code",
   "execution_count": 10,
   "id": "39e9f4a2",
   "metadata": {},
   "outputs": [
    {
     "data": {
      "text/plain": [
       "('WAVE/SPEAKER0882/SESSION1/008821401.WAV',\n",
       " 'a smile can often lift up a weary spirit')"
      ]
     },
     "execution_count": 10,
     "metadata": {},
     "output_type": "execute_result"
    }
   ],
   "source": [
    "singlishs[0]"
   ]
  },
  {
   "cell_type": "code",
   "execution_count": 11,
   "id": "85d7b7fa",
   "metadata": {},
   "outputs": [],
   "source": [
    "def loop(files):\n",
    "    files, index = files\n",
    "    results = []\n",
    "    for i in tqdm(files):\n",
    "        try:\n",
    "            text = i[1]\n",
    "            if len(text) < 2:\n",
    "                continue\n",
    "            if text[0] == '<' and text[-1] == '>':\n",
    "                continue\n",
    "            text = replace_paralinguistic(text)\n",
    "            text = preprocessing_text(text)\n",
    "            if len(text):\n",
    "                results.append((i[0], text))\n",
    "        except Exception as e:\n",
    "            pass\n",
    "    return results"
   ]
  },
  {
   "cell_type": "code",
   "execution_count": 12,
   "id": "d174c371",
   "metadata": {},
   "outputs": [
    {
     "name": "stderr",
     "output_type": "stream",
     "text": [
      "100%|██████████| 10/10 [00:00<00:00, 4674.88it/s]\n"
     ]
    },
    {
     "data": {
      "text/plain": [
       "[('WAVE/SPEAKER0882/SESSION1/008821401.WAV',\n",
       "  'a smile can often lift up a weary spirit'),\n",
       " ('WAVE/SPEAKER0882/SESSION1/008821402.WAV',\n",
       "  'i was so tired from work i could not even bother to brush my teeth'),\n",
       " ('WAVE/SPEAKER0882/SESSION1/008821403.WAV',\n",
       "  'a comma can change the meaning of a sentence entirely'),\n",
       " ('WAVE/SPEAKER0882/SESSION1/008821404.WAV',\n",
       "  'before the internet we wrote letters to our pen pals and read magazines'),\n",
       " ('WAVE/SPEAKER0882/SESSION1/008821405.WAV',\n",
       "  'it is easy to book flights and hotels on the computer'),\n",
       " ('WAVE/SPEAKER0882/SESSION1/008821406.WAV',\n",
       "  'heavy rains caused a flood in the village'),\n",
       " ('WAVE/SPEAKER0882/SESSION1/008821407.WAV',\n",
       "  'i get free snacks whenever i go to the supermarket'),\n",
       " ('WAVE/SPEAKER0882/SESSION1/008821408.WAV',\n",
       "  'it is not safe to freeze something again after it has thawed'),\n",
       " ('WAVE/SPEAKER0882/SESSION1/008821409.WAV', 'we visited the persian gulf'),\n",
       " ('WAVE/SPEAKER0882/SESSION1/008821410.WAV',\n",
       "  'the crowd guffawed at the comedians jokes')]"
      ]
     },
     "execution_count": 12,
     "metadata": {},
     "output_type": "execute_result"
    }
   ],
   "source": [
    "loop((singlishs[:10], 0))"
   ]
  },
  {
   "cell_type": "code",
   "execution_count": 13,
   "id": "e4ed9a7f",
   "metadata": {},
   "outputs": [
    {
     "name": "stderr",
     "output_type": "stream",
     "text": [
      "100%|██████████| 63028/63028 [01:02<00:00, 1004.43it/s]\n",
      "100%|██████████| 6/6 [00:00<00:00, 39.48it/s]1.78it/s] \n",
      "100%|██████████| 63028/63028 [01:04<00:00, 978.65it/s]]\n",
      "100%|██████████| 63028/63028 [01:04<00:00, 972.88it/s] \n",
      "100%|██████████| 63028/63028 [01:06<00:00, 944.33it/s]]\n",
      "100%|██████████| 63028/63028 [01:04<00:00, 982.84it/s] \n",
      "100%|██████████| 63028/63028 [01:05<00:00, 967.33it/s] \n",
      "100%|██████████| 63028/63028 [01:06<00:00, 942.44it/s] \n",
      "100%|██████████| 63028/63028 [01:08<00:00, 913.49it/s] \n",
      "100%|██████████| 63028/63028 [01:08<00:00, 918.91it/s] \n",
      "100%|██████████| 63028/63028 [01:10<00:00, 895.03it/s] \n",
      "100%|██████████| 63028/63028 [01:08<00:00, 920.04it/s] \n",
      "100%|██████████| 63028/63028 [01:07<00:00, 931.54it/s] \n"
     ]
    }
   ],
   "source": [
    "singlishs = mp.multiprocessing(singlishs, loop, cores = 12)"
   ]
  },
  {
   "cell_type": "code",
   "execution_count": 14,
   "id": "a80d3d5d",
   "metadata": {},
   "outputs": [
    {
     "data": {
      "text/plain": [
       "755913"
      ]
     },
     "execution_count": 14,
     "metadata": {},
     "output_type": "execute_result"
    }
   ],
   "source": [
    "len(singlishs)"
   ]
  },
  {
   "cell_type": "code",
   "execution_count": 15,
   "id": "e22acc6b",
   "metadata": {},
   "outputs": [],
   "source": [
    "import six\n",
    "\n",
    "def to_example(dictionary):\n",
    "    \"\"\"Helper: build tf.Example from (string -> int/float/str list) dictionary.\"\"\"\n",
    "    features = {}\n",
    "    for (k, v) in six.iteritems(dictionary):\n",
    "        if not v:\n",
    "            raise ValueError('Empty generated field: %s' % str((k, v)))\n",
    "        # Subtly in PY2 vs PY3, map is not scriptable in py3. As a result,\n",
    "        # map objects will fail with TypeError, unless converted to a list.\n",
    "        if six.PY3 and isinstance(v, map):\n",
    "            v = list(v)\n",
    "        if isinstance(v[0], six.integer_types) or np.issubdtype(\n",
    "            type(v[0]), np.integer\n",
    "        ):\n",
    "            features[k] = tf.train.Feature(\n",
    "                int64_list=tf.train.Int64List(value=v)\n",
    "            )\n",
    "        elif isinstance(v[0], float):\n",
    "            features[k] = tf.train.Feature(\n",
    "                float_list=tf.train.FloatList(value=v)\n",
    "            )\n",
    "        elif isinstance(v[0], six.string_types):\n",
    "            if not six.PY2:  # Convert in python 3.\n",
    "                v = [bytes(x, 'utf-8') for x in v]\n",
    "            features[k] = tf.train.Feature(\n",
    "                bytes_list=tf.train.BytesList(value=v)\n",
    "            )\n",
    "        elif isinstance(v[0], bytes):\n",
    "            features[k] = tf.train.Feature(\n",
    "                bytes_list=tf.train.BytesList(value=v)\n",
    "            )\n",
    "        else:\n",
    "            raise ValueError(\n",
    "                'Value for %s is not a recognized type; v: %s type: %s'\n",
    "                % (k, str(v[0]), str(type(v[0])))\n",
    "            )\n",
    "    return tf.train.Example(features=tf.train.Features(feature=features))"
   ]
  },
  {
   "cell_type": "code",
   "execution_count": 16,
   "id": "c4465c2b",
   "metadata": {},
   "outputs": [],
   "source": [
    "sr = 16000\n",
    "maxlen = 18\n",
    "minlen_text = 1\n",
    "global_count = 0"
   ]
  },
  {
   "cell_type": "code",
   "execution_count": 17,
   "id": "5d99241e",
   "metadata": {},
   "outputs": [],
   "source": [
    "def loop(files):\n",
    "    client = storage.Client()\n",
    "    bucket = client.bucket('mesolitica-tpu-general')\n",
    "    files, index = files\n",
    "    output_file = f'{index}-{global_count}.tfrecord'\n",
    "    writer = tf.io.TFRecordWriter(output_file)\n",
    "    for s in tqdm(files):\n",
    "        try:\n",
    "            if len(s[1]) < minlen_text:\n",
    "                continue\n",
    "            y, _ = malaya_speech.load(s[0])\n",
    "            if (len(y) / sr) > maxlen:\n",
    "                continue\n",
    "            t = subword.encode(subwords, s[1], add_blank=False)\n",
    "            example = to_example({'waveforms': y.tolist(), \n",
    "                                  'targets': t, \n",
    "                                  'targets_length': [len(t)]})\n",
    "            writer.write(example.SerializeToString())\n",
    "        except Exception as e:\n",
    "            print(e)\n",
    "            pass\n",
    "    writer.close()\n",
    "    blob = bucket.blob(f'imda/part1/{output_file}')\n",
    "    blob.upload_from_filename(output_file)\n",
    "    os.system(f'rm {output_file}')"
   ]
  },
  {
   "cell_type": "code",
   "execution_count": 18,
   "id": "b59083dd",
   "metadata": {},
   "outputs": [
    {
     "name": "stderr",
     "output_type": "stream",
     "text": [
      "100%|██████████| 10/10 [00:00<00:00, 22.34it/s]\n"
     ]
    }
   ],
   "source": [
    "loop((singlishs[:10], 0))"
   ]
  },
  {
   "cell_type": "code",
   "execution_count": 19,
   "id": "91a441ba",
   "metadata": {},
   "outputs": [
    {
     "name": "stderr",
     "output_type": "stream",
     "text": [
      "100%|██████████| 4166/4166 [06:06<00:00, 11.36it/s]\n",
      "100%|██████████| 4166/4166 [06:16<00:00, 11.07it/s]\n",
      "100%|██████████| 4166/4166 [06:17<00:00, 11.04it/s]\n",
      "100%|██████████| 4166/4166 [06:17<00:00, 11.03it/s]\n",
      "100%|██████████| 4166/4166 [06:20<00:00, 10.94it/s]\n",
      "100%|██████████| 4166/4166 [06:22<00:00, 10.90it/s]\n",
      "100%|██████████| 4/4 [00:00<00:00, 62.77it/s]\n",
      "100%|██████████| 4166/4166 [04:37<00:00, 15.02it/s]\n",
      "100%|██████████| 4166/4166 [04:43<00:00, 14.67it/s]\n",
      "100%|██████████| 4166/4166 [04:44<00:00, 14.63it/s]\n",
      "100%|██████████| 4166/4166 [04:44<00:00, 14.63it/s]\n",
      "100%|██████████| 4166/4166 [04:49<00:00, 14.38it/s]\n",
      "100%|██████████| 4166/4166 [04:50<00:00, 14.35it/s]\n",
      "100%|██████████| 4/4 [00:00<00:00, 43.29it/s]\n",
      "100%|██████████| 4166/4166 [05:35<00:00, 12.42it/s]\n",
      "100%|██████████| 4166/4166 [05:38<00:00, 12.30it/s]\n",
      "100%|██████████| 4166/4166 [05:40<00:00, 12.22it/s]\n",
      "100%|██████████| 4166/4166 [05:41<00:00, 12.21it/s]\n",
      "100%|██████████| 4166/4166 [05:47<00:00, 11.99it/s]\n",
      "100%|██████████| 4166/4166 [05:52<00:00, 11.80it/s]\n",
      "100%|██████████| 4/4 [00:00<00:00, 37.19it/s]\n",
      "100%|██████████| 4166/4166 [04:53<00:00, 14.19it/s]\n",
      "100%|██████████| 4166/4166 [04:58<00:00, 13.94it/s]\n",
      "100%|██████████| 4166/4166 [04:59<00:00, 13.91it/s]\n",
      "100%|██████████| 4166/4166 [05:09<00:00, 13.47it/s]\n",
      "100%|██████████| 4166/4166 [05:11<00:00, 13.38it/s]\n",
      "100%|██████████| 4166/4166 [05:12<00:00, 13.34it/s]\n",
      "100%|██████████| 4/4 [00:00<00:00, 31.48it/s]\n",
      "100%|██████████| 4166/4166 [04:19<00:00, 16.06it/s]\n",
      "100%|██████████| 4166/4166 [04:26<00:00, 15.65it/s]\n",
      "100%|██████████| 4166/4166 [04:26<00:00, 15.64it/s]\n",
      "100%|██████████| 4166/4166 [04:28<00:00, 15.54it/s]\n",
      "100%|██████████| 4166/4166 [04:31<00:00, 15.33it/s]\n",
      "100%|██████████| 4166/4166 [04:36<00:00, 15.07it/s]\n",
      "100%|██████████| 4/4 [00:00<00:00, 36.20it/s]\n",
      "100%|██████████| 4166/4166 [03:57<00:00, 17.57it/s]\n",
      "100%|██████████| 4166/4166 [04:02<00:00, 17.18it/s]\n",
      "100%|██████████| 4166/4166 [04:04<00:00, 17.01it/s]\n",
      "100%|██████████| 4166/4166 [04:05<00:00, 16.94it/s]\n",
      "100%|██████████| 4166/4166 [04:06<00:00, 16.91it/s]\n",
      "100%|██████████| 4166/4166 [04:08<00:00, 16.74it/s]\n",
      "100%|██████████| 4/4 [00:00<00:00, 43.14it/s]\n",
      "100%|██████████| 4166/4166 [04:07<00:00, 16.82it/s]\n",
      "100%|██████████| 4166/4166 [04:11<00:00, 16.59it/s]\n",
      "100%|██████████| 4166/4166 [04:12<00:00, 16.49it/s]\n",
      "100%|██████████| 4166/4166 [04:14<00:00, 16.40it/s]\n",
      "100%|██████████| 4166/4166 [04:14<00:00, 16.38it/s]\n",
      "100%|██████████| 4166/4166 [04:17<00:00, 16.20it/s]\n",
      "100%|██████████| 4/4 [00:00<00:00, 53.76it/s]\n",
      "100%|██████████| 4166/4166 [03:57<00:00, 17.52it/s]\n",
      "100%|██████████| 4166/4166 [04:00<00:00, 17.29it/s]\n",
      "100%|██████████| 4166/4166 [04:02<00:00, 17.21it/s]\n",
      "100%|██████████| 4166/4166 [04:05<00:00, 16.97it/s]\n",
      "100%|██████████| 4166/4166 [04:05<00:00, 16.94it/s]\n",
      "100%|██████████| 4166/4166 [04:06<00:00, 16.89it/s]\n",
      "100%|██████████| 4/4 [00:00<00:00, 29.28it/s]\n",
      "100%|██████████| 4166/4166 [04:13<00:00, 16.46it/s]\n",
      "100%|██████████| 4166/4166 [04:21<00:00, 15.95it/s]\n",
      "100%|██████████| 4166/4166 [04:27<00:00, 15.58it/s]\n",
      "100%|██████████| 4166/4166 [04:27<00:00, 15.56it/s]\n",
      "100%|██████████| 4166/4166 [04:27<00:00, 15.55it/s]\n",
      "100%|██████████| 4166/4166 [04:28<00:00, 15.51it/s]\n",
      "100%|██████████| 4/4 [00:00<00:00, 54.80it/s]\n",
      "100%|██████████| 4166/4166 [03:54<00:00, 17.80it/s]\n",
      "100%|██████████| 4166/4166 [03:56<00:00, 17.60it/s]\n",
      "100%|██████████| 4166/4166 [04:00<00:00, 17.30it/s]\n",
      "100%|██████████| 4166/4166 [04:02<00:00, 17.16it/s]\n",
      "100%|██████████| 4166/4166 [04:04<00:00, 17.05it/s]\n",
      "100%|██████████| 4166/4166 [04:06<00:00, 16.88it/s]\n",
      "100%|██████████| 4/4 [00:00<00:00, 36.68it/s]\n",
      "100%|██████████| 4166/4166 [03:56<00:00, 17.60it/s]\n",
      "100%|██████████| 4166/4166 [04:01<00:00, 17.26it/s]\n",
      "100%|██████████| 4166/4166 [04:01<00:00, 17.25it/s]\n",
      "100%|██████████| 4166/4166 [04:04<00:00, 17.03it/s]\n",
      "100%|██████████| 4166/4166 [04:06<00:00, 16.88it/s]\n",
      "100%|██████████| 4166/4166 [04:12<00:00, 16.50it/s]\n",
      "100%|██████████| 4/4 [00:00<00:00, 30.93it/s]\n",
      "100%|██████████| 4166/4166 [04:11<00:00, 16.57it/s]\n",
      "100%|██████████| 4166/4166 [04:13<00:00, 16.42it/s]\n",
      "100%|██████████| 4166/4166 [04:16<00:00, 16.21it/s]\n",
      "100%|██████████| 4166/4166 [04:18<00:00, 16.11it/s]\n",
      "100%|██████████| 4166/4166 [04:19<00:00, 16.05it/s]\n",
      "100%|██████████| 4166/4166 [04:20<00:00, 15.97it/s]\n",
      "100%|██████████| 4/4 [00:00<00:00, 37.76it/s]\n",
      "100%|██████████| 4166/4166 [04:02<00:00, 17.19it/s]\n",
      "100%|██████████| 4166/4166 [04:03<00:00, 17.12it/s]\n",
      "100%|██████████| 4166/4166 [04:07<00:00, 16.86it/s]\n",
      "100%|██████████| 4166/4166 [04:07<00:00, 16.82it/s]\n",
      "100%|██████████| 4166/4166 [04:09<00:00, 16.72it/s]\n",
      "100%|██████████| 4166/4166 [04:11<00:00, 16.59it/s]\n",
      "100%|██████████| 4/4 [00:00<00:00, 52.07it/s]\n",
      "100%|██████████| 4166/4166 [04:08<00:00, 16.79it/s]\n",
      "100%|██████████| 4166/4166 [04:09<00:00, 16.71it/s]\n",
      "100%|██████████| 4166/4166 [04:10<00:00, 16.62it/s]\n",
      "100%|██████████| 4166/4166 [04:13<00:00, 16.42it/s]\n",
      "100%|██████████| 4166/4166 [04:17<00:00, 16.20it/s]\n",
      "100%|██████████| 4166/4166 [04:21<00:00, 15.94it/s]\n",
      "100%|██████████| 4/4 [00:00<00:00, 36.56it/s]\n",
      "100%|██████████| 4166/4166 [03:49<00:00, 18.17it/s]\n",
      "100%|██████████| 4166/4166 [03:54<00:00, 17.75it/s]\n",
      "100%|██████████| 4166/4166 [03:58<00:00, 17.47it/s]\n",
      "100%|██████████| 4166/4166 [03:59<00:00, 17.39it/s]\n",
      "100%|██████████| 4166/4166 [03:59<00:00, 17.38it/s]\n",
      "100%|██████████| 4166/4166 [04:00<00:00, 17.35it/s]\n",
      "100%|██████████| 4/4 [00:00<00:00, 44.66it/s]\n",
      "100%|██████████| 4166/4166 [03:43<00:00, 18.67it/s]\n",
      "100%|██████████| 4166/4166 [03:54<00:00, 17.80it/s]\n",
      "100%|██████████| 4166/4166 [03:54<00:00, 17.78it/s]\n",
      "100%|██████████| 4166/4166 [03:56<00:00, 17.61it/s]\n",
      "100%|██████████| 4166/4166 [03:57<00:00, 17.56it/s]\n",
      "100%|██████████| 4166/4166 [03:57<00:00, 17.51it/s]\n",
      "100%|██████████| 4/4 [00:00<00:00, 48.54it/s]\n",
      "100%|██████████| 4166/4166 [04:39<00:00, 14.90it/s]\n",
      "100%|██████████| 4166/4166 [04:41<00:00, 14.82it/s]\n",
      "100%|██████████| 4166/4166 [04:43<00:00, 14.72it/s]\n",
      "100%|██████████| 4166/4166 [04:45<00:00, 14.57it/s]\n",
      "100%|██████████| 4166/4166 [04:50<00:00, 14.32it/s]\n",
      "100%|██████████| 4166/4166 [04:53<00:00, 14.17it/s]\n",
      "100%|██████████| 4/4 [00:00<00:00, 32.65it/s]\n",
      "100%|██████████| 4166/4166 [05:59<00:00, 11.60it/s]\n",
      "100%|██████████| 4166/4166 [06:09<00:00, 11.27it/s]\n",
      "100%|██████████| 4166/4166 [06:10<00:00, 11.23it/s]\n",
      "100%|██████████| 4166/4166 [06:12<00:00, 11.19it/s]\n",
      "100%|██████████| 4166/4166 [06:23<00:00, 10.85it/s]\n",
      "100%|██████████| 4166/4166 [06:24<00:00, 10.85it/s]\n",
      "100%|██████████| 4/4 [00:00<00:00, 31.13it/s]\n",
      "100%|██████████| 4166/4166 [04:41<00:00, 14.82it/s]\n",
      "100%|██████████| 4166/4166 [04:43<00:00, 14.70it/s]\n",
      "100%|██████████| 4166/4166 [04:43<00:00, 14.70it/s]\n",
      "100%|██████████| 4166/4166 [04:44<00:00, 14.62it/s]\n",
      "100%|██████████| 4166/4166 [04:45<00:00, 14.58it/s]\n",
      "100%|██████████| 4166/4166 [04:48<00:00, 14.45it/s]\n",
      "100%|██████████| 4/4 [00:00<00:00, 45.57it/s]\n",
      "100%|██████████| 4166/4166 [04:15<00:00, 16.29it/s]\n",
      "100%|██████████| 4166/4166 [04:22<00:00, 15.90it/s]\n",
      "100%|██████████| 4166/4166 [04:24<00:00, 15.76it/s]\n",
      "100%|██████████| 4166/4166 [04:25<00:00, 15.72it/s]\n",
      "100%|██████████| 4166/4166 [04:26<00:00, 15.61it/s]\n",
      "100%|██████████| 4166/4166 [04:30<00:00, 15.41it/s]\n",
      "100%|██████████| 4/4 [00:00<00:00, 37.60it/s]\n",
      "100%|██████████| 4166/4166 [03:56<00:00, 17.61it/s]\n",
      "100%|██████████| 4166/4166 [03:57<00:00, 17.56it/s]\n",
      "100%|██████████| 4166/4166 [04:00<00:00, 17.32it/s]\n",
      "100%|██████████| 4166/4166 [04:02<00:00, 17.20it/s]\n",
      "100%|██████████| 4166/4166 [04:06<00:00, 16.93it/s]\n",
      "100%|██████████| 4166/4166 [04:07<00:00, 16.84it/s]\n",
      "100%|██████████| 4/4 [00:00<00:00, 43.84it/s]\n",
      "100%|██████████| 4166/4166 [03:52<00:00, 17.88it/s]\n",
      "100%|██████████| 4166/4166 [03:58<00:00, 17.45it/s]\n",
      "100%|██████████| 4166/4166 [04:02<00:00, 17.15it/s]\n",
      "100%|██████████| 4166/4166 [04:03<00:00, 17.11it/s]\n",
      "100%|██████████| 4166/4166 [04:04<00:00, 17.06it/s]\n",
      "100%|██████████| 4166/4166 [04:12<00:00, 16.52it/s]\n",
      "100%|██████████| 4/4 [00:00<00:00, 53.63it/s]\n",
      "100%|██████████| 4166/4166 [03:49<00:00, 18.12it/s]\n",
      "100%|██████████| 4166/4166 [03:55<00:00, 17.72it/s]\n",
      "100%|██████████| 4166/4166 [03:59<00:00, 17.42it/s]\n",
      "100%|██████████| 4166/4166 [04:01<00:00, 17.26it/s]\n",
      "100%|██████████| 4166/4166 [04:03<00:00, 17.08it/s]\n",
      "100%|██████████| 4166/4166 [04:04<00:00, 17.07it/s]\n",
      "100%|██████████| 4/4 [00:00<00:00, 35.05it/s]\n",
      "100%|██████████| 4166/4166 [03:52<00:00, 17.95it/s]\n",
      "100%|██████████| 4166/4166 [03:53<00:00, 17.83it/s]\n",
      "100%|██████████| 4166/4166 [03:56<00:00, 17.59it/s]\n",
      "100%|██████████| 4166/4166 [03:57<00:00, 17.51it/s]\n",
      "100%|██████████| 4166/4166 [04:00<00:00, 17.35it/s]\n",
      "100%|██████████| 4166/4166 [04:01<00:00, 17.24it/s]\n",
      "100%|██████████| 4/4 [00:00<00:00, 63.88it/s]\n",
      "100%|██████████| 4166/4166 [04:11<00:00, 16.59it/s]\n",
      "100%|██████████| 4166/4166 [04:11<00:00, 16.57it/s]\n",
      "100%|██████████| 4166/4166 [04:14<00:00, 16.34it/s]\n",
      "100%|██████████| 4166/4166 [04:15<00:00, 16.29it/s]\n",
      "100%|██████████| 4166/4166 [04:16<00:00, 16.27it/s]\n",
      "100%|██████████| 4166/4166 [04:17<00:00, 16.16it/s]\n",
      "100%|██████████| 4/4 [00:00<00:00, 33.26it/s]\n",
      "100%|██████████| 4166/4166 [03:59<00:00, 17.40it/s]\n",
      "100%|██████████| 4166/4166 [04:01<00:00, 17.28it/s]\n",
      "100%|██████████| 4166/4166 [04:01<00:00, 17.27it/s]\n",
      "100%|██████████| 4166/4166 [04:03<00:00, 17.13it/s]\n",
      "100%|██████████| 4166/4166 [04:04<00:00, 17.07it/s]\n",
      "100%|██████████| 4166/4166 [04:05<00:00, 16.95it/s]\n",
      "100%|██████████| 4/4 [00:00<00:00, 47.88it/s]\n",
      "100%|██████████| 4166/4166 [04:05<00:00, 17.00it/s]\n",
      "100%|██████████| 4166/4166 [04:07<00:00, 16.86it/s]\n",
      "100%|██████████| 4166/4166 [04:10<00:00, 16.61it/s]\n",
      "100%|██████████| 4166/4166 [04:16<00:00, 16.25it/s]\n",
      "100%|██████████| 4166/4166 [04:18<00:00, 16.13it/s]\n",
      "100%|██████████| 4166/4166 [04:18<00:00, 16.11it/s]\n",
      "100%|██████████| 4/4 [00:00<00:00, 48.00it/s]\n",
      "100%|██████████| 4166/4166 [03:53<00:00, 17.83it/s]\n",
      "100%|██████████| 4166/4166 [03:55<00:00, 17.72it/s]\n",
      "100%|██████████| 4166/4166 [03:56<00:00, 17.65it/s]\n",
      "100%|██████████| 4166/4166 [04:04<00:00, 17.04it/s]\n",
      "100%|██████████| 4166/4166 [04:05<00:00, 16.97it/s]\n",
      "100%|██████████| 4166/4166 [04:06<00:00, 16.93it/s]\n",
      "100%|██████████| 4/4 [00:00<00:00, 31.38it/s]\n",
      "100%|██████████| 4166/4166 [03:56<00:00, 17.62it/s]\n",
      "100%|██████████| 4166/4166 [03:58<00:00, 17.49it/s]\n",
      "100%|██████████| 4166/4166 [04:01<00:00, 17.25it/s]\n",
      "100%|██████████| 4166/4166 [04:04<00:00, 17.05it/s]\n",
      "100%|██████████| 4166/4166 [04:04<00:00, 17.02it/s]\n",
      "100%|██████████| 4166/4166 [04:05<00:00, 16.94it/s]\n",
      "100%|██████████| 4/4 [00:00<00:00, 46.05it/s]\n",
      "100%|██████████| 4166/4166 [04:02<00:00, 17.16it/s]\n",
      "100%|██████████| 4166/4166 [04:08<00:00, 16.77it/s]\n",
      "100%|██████████| 4166/4166 [04:08<00:00, 16.74it/s]\n",
      "100%|██████████| 4166/4166 [04:10<00:00, 16.61it/s]\n",
      "100%|██████████| 4166/4166 [04:11<00:00, 16.57it/s]\n",
      "100%|██████████| 4166/4166 [04:13<00:00, 16.43it/s]\n",
      "100%|██████████| 4/4 [00:00<00:00, 49.34it/s]\n",
      "100%|██████████| 985/985 [00:51<00:00, 19.23it/s]\n",
      "100%|██████████| 985/985 [00:52<00:00, 18.67it/s]\n",
      "100%|██████████| 985/985 [00:54<00:00, 18.03it/s]\n",
      "100%|██████████| 985/985 [00:55<00:00, 17.81it/s]\n",
      "100%|██████████| 985/985 [00:55<00:00, 17.64it/s]\n",
      "100%|██████████| 985/985 [00:56<00:00, 17.55it/s]\n",
      "100%|██████████| 3/3 [00:00<00:00, 45.34it/s]\n"
     ]
    }
   ],
   "source": [
    "batch_size = 25000\n",
    "for i in range(0, len(singlishs), batch_size):\n",
    "    batch = singlishs[i: i + batch_size]\n",
    "    mp.multiprocessing(batch, loop, cores = 6, returned = False)\n",
    "    global_count += 1"
   ]
  },
  {
   "cell_type": "code",
   "execution_count": 20,
   "id": "aa68b24b",
   "metadata": {},
   "outputs": [],
   "source": [
    "from malaya_speech.utils import tf_featurization\n",
    "\n",
    "config = malaya_speech.config.transducer_featurizer_config\n",
    "featurizer = tf_featurization.STTFeaturizer(**config)"
   ]
  },
  {
   "cell_type": "code",
   "execution_count": 21,
   "id": "6228ceca",
   "metadata": {},
   "outputs": [],
   "source": [
    "n_mels = 80\n",
    "\n",
    "def preprocess_inputs(example):\n",
    "    s = featurizer.vectorize(example['waveforms'])\n",
    "    mel_fbanks = tf.reshape(s, (-1, n_mels))\n",
    "    example['inputs'] = mel_fbanks\n",
    "    return example\n",
    "\n",
    "def parse(serialized_example):\n",
    "\n",
    "    data_fields = {\n",
    "        'waveforms': tf.compat.v1.VarLenFeature(tf.float32),\n",
    "        'targets': tf.compat.v1.VarLenFeature(tf.int64),\n",
    "        'targets_length': tf.compat.v1.VarLenFeature(tf.int64),\n",
    "    }\n",
    "    features = tf.compat.v1.parse_single_example(\n",
    "        serialized_example, features = data_fields\n",
    "    )\n",
    "    for k in features.keys():\n",
    "        features[k] = features[k].values\n",
    "        \n",
    "    features = preprocess_inputs(features)\n",
    "\n",
    "    keys = list(features.keys())\n",
    "    for k in keys:\n",
    "        if k not in ['waveforms', 'inputs', 'targets', 'targets_length']:\n",
    "            features.pop(k, None)\n",
    "\n",
    "    return features\n",
    "\n",
    "def get_dataset(files, batch_size = 2, shuffle_size = 32, thread_count = 24):\n",
    "    def get():\n",
    "        dataset = tf.data.TFRecordDataset(files)\n",
    "        dataset = dataset.shuffle(shuffle_size)\n",
    "        dataset = dataset.map(parse, num_parallel_calls = thread_count)\n",
    "        dataset = dataset.repeat()\n",
    "        return dataset\n",
    "\n",
    "    return get"
   ]
  },
  {
   "cell_type": "code",
   "execution_count": 22,
   "id": "f2359fd3",
   "metadata": {},
   "outputs": [],
   "source": [
    "files = tf.io.gfile.glob('gs://mesolitica-tpu-general/imda/part1/*.tfrecord')\n",
    "d = get_dataset(files)()\n",
    "d = d.as_numpy_iterator()"
   ]
  },
  {
   "cell_type": "code",
   "execution_count": 23,
   "id": "a2d5cad6",
   "metadata": {},
   "outputs": [
    {
     "data": {
      "text/plain": [
       "{'targets': array([  7, 568, 151,  13, 105, 299, 795,  20,   5, 168, 444,  19,   4,\n",
       "        236,   2,   7, 403, 133, 278,  56, 177, 389, 884]),\n",
       " 'targets_length': array([23]),\n",
       " 'waveforms': array([-0.00017538, -0.00026307, -0.00026307, ..., -0.00017538,\n",
       "        -0.00017538, -0.00026307], dtype=float32),\n",
       " 'inputs': array([[-2.2310197, -2.2621276, -2.3545487, ..., -1.1028278, -1.209693 ,\n",
       "         -1.302464 ],\n",
       "        [-2.756736 , -2.1352987, -1.8970875, ..., -1.2289646, -1.2374092,\n",
       "         -1.4299338],\n",
       "        [-2.2006068, -2.2834134, -2.8744638, ..., -1.0061882, -1.1931208,\n",
       "         -1.4570584],\n",
       "        ...,\n",
       "        [-1.6727058, -1.6292751, -1.5672526, ..., -1.251422 , -1.2502371,\n",
       "         -1.2261595],\n",
       "        [-2.3043866, -2.2051554, -2.0876248, ..., -1.1450766, -1.1473254,\n",
       "         -1.1928668],\n",
       "        [-2.6993673, -2.6790707, -2.650311 , ..., -1.1693419, -1.1078019,\n",
       "         -1.2259248]], dtype=float32)}"
      ]
     },
     "execution_count": 23,
     "metadata": {},
     "output_type": "execute_result"
    }
   ],
   "source": [
    "next(d)"
   ]
  }
 ],
 "metadata": {
  "kernelspec": {
   "display_name": "Python 3",
   "language": "python",
   "name": "python3"
  },
  "language_info": {
   "codemirror_mode": {
    "name": "ipython",
    "version": 3
   },
   "file_extension": ".py",
   "mimetype": "text/x-python",
   "name": "python",
   "nbconvert_exporter": "python",
   "pygments_lexer": "ipython3",
   "version": "3.7.10"
  }
 },
 "nbformat": 4,
 "nbformat_minor": 5
}

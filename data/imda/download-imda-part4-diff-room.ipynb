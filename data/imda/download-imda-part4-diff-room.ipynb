{
 "cells": [
  {
   "cell_type": "code",
   "execution_count": 1,
   "id": "4ae43244",
   "metadata": {},
   "outputs": [],
   "source": [
    "import dropbox\n",
    "import os\n",
    "import mp\n",
    "from tqdm import tqdm\n",
    "\n",
    "access_token = ''\n",
    "dbx = dropbox.Dropbox(access_token)"
   ]
  },
  {
   "cell_type": "code",
   "execution_count": 2,
   "id": "ad08fd60",
   "metadata": {},
   "outputs": [],
   "source": [
    "from bs4 import BeautifulSoup\n",
    "\n",
    "with open('Diff Room Scripts - Dropbox.html') as fopen:\n",
    "    html = fopen.read()\n",
    "    \n",
    "bs = BeautifulSoup(html)\n",
    "hrefs = bs.select('a[href*=\".TextGrid\"]')\n",
    "hrefs_text = [href['href'] for href in hrefs]"
   ]
  },
  {
   "cell_type": "code",
   "execution_count": 3,
   "id": "2b3e0c2d",
   "metadata": {},
   "outputs": [
    {
     "data": {
      "text/plain": [
       "972"
      ]
     },
     "execution_count": 3,
     "metadata": {},
     "output_type": "execute_result"
    }
   ],
   "source": [
    "len(hrefs_text)"
   ]
  },
  {
   "cell_type": "code",
   "execution_count": 4,
   "id": "62dac90f",
   "metadata": {},
   "outputs": [
    {
     "data": {
      "text/plain": [
       "256"
      ]
     },
     "execution_count": 4,
     "metadata": {},
     "output_type": "execute_result"
    }
   ],
   "source": [
    "local_directory = 'TEXT'\n",
    "os.system(f'mkdir {local_directory}')"
   ]
  },
  {
   "cell_type": "code",
   "execution_count": 5,
   "id": "109244a4",
   "metadata": {},
   "outputs": [],
   "source": [
    "def loop(hrefs):\n",
    "    hrefs = hrefs[0]\n",
    "    for i in tqdm(range(len(hrefs))):\n",
    "        href = hrefs[i]\n",
    "        while True:\n",
    "            try:\n",
    "                name = dbx.sharing_get_shared_link_metadata(href).name\n",
    "                break\n",
    "            except Exception as e:\n",
    "                print(e)\n",
    "        d = f'{local_directory}/{name}'\n",
    "        if os.path.exists(d):\n",
    "            print(f'{d} exists, skip')\n",
    "            continue\n",
    "        while True:\n",
    "            try:\n",
    "                dbx.sharing_get_shared_link_file_to_file(d, href)\n",
    "                break\n",
    "            except Exception as e:\n",
    "                print(e)"
   ]
  },
  {
   "cell_type": "code",
   "execution_count": 6,
   "id": "08b90b14",
   "metadata": {},
   "outputs": [
    {
     "name": "stderr",
     "output_type": "stream",
     "text": [
      "100%|██████████| 1/1 [00:00<00:00,  2.07it/s]"
     ]
    },
    {
     "name": "stdout",
     "output_type": "stream",
     "text": [
      "TEXT/sur_0007_1014_phnd_cs-chn.TextGrid exists, skip\n"
     ]
    },
    {
     "name": "stderr",
     "output_type": "stream",
     "text": [
      "\n"
     ]
    }
   ],
   "source": [
    "loop((hrefs_text[:1],))"
   ]
  },
  {
   "cell_type": "code",
   "execution_count": 7,
   "id": "ce2ec0c0",
   "metadata": {},
   "outputs": [],
   "source": [
    "# mp.multiprocessing(hrefs_text, loop, cores = 6, returned = False)"
   ]
  },
  {
   "cell_type": "code",
   "execution_count": 8,
   "id": "fc07ed03",
   "metadata": {},
   "outputs": [],
   "source": [
    "with open('Diff Room Audio - Dropbox.html') as fopen:\n",
    "    html = fopen.read()\n",
    "    \n",
    "bs = BeautifulSoup(html)\n",
    "hrefs = bs.select('a[href*=\".wav\"]')\n",
    "hrefs = [href['href'] for href in hrefs]"
   ]
  },
  {
   "cell_type": "code",
   "execution_count": 9,
   "id": "d5b23432",
   "metadata": {},
   "outputs": [],
   "source": [
    "from collections import defaultdict\n",
    "from glob import glob\n",
    "import os\n",
    "\n",
    "speakers = {}\n",
    "files = glob('TEXT/*.TextGrid')\n",
    "for path in files:\n",
    "    new_path = os.path.split(path)[1].replace(' ', '-').replace('.TextGrid', '')\n",
    "    f = os.path.split(path)[1].replace('.TextGrid', '')\n",
    "    speakers[f] = path"
   ]
  },
  {
   "cell_type": "code",
   "execution_count": 10,
   "id": "88f2b605",
   "metadata": {},
   "outputs": [
    {
     "data": {
      "text/plain": [
       "256"
      ]
     },
     "execution_count": 10,
     "metadata": {},
     "output_type": "execute_result"
    }
   ],
   "source": [
    "from tqdm import tqdm\n",
    "\n",
    "directory = 'part4-diff-room'\n",
    "\n",
    "os.system(f'mkdir {directory}')\n",
    "os.system(f'mkdir {directory}/wav')\n",
    "os.system(f'mkdir {directory}/text')"
   ]
  },
  {
   "cell_type": "code",
   "execution_count": 21,
   "id": "857f955f",
   "metadata": {},
   "outputs": [],
   "source": [
    "import soundfile as sf\n",
    "import textgrid"
   ]
  },
  {
   "cell_type": "code",
   "execution_count": 22,
   "id": "db18bbfb",
   "metadata": {},
   "outputs": [],
   "source": [
    "def split(path):\n",
    "    new_path = os.path.split(path)[1].replace(' ', '-').replace('.wav', '')\n",
    "    f = os.path.split(path)[1].replace('.wav', '')\n",
    "    y, sr = sf.read(path)\n",
    "    index = 0\n",
    "    path_textgrid = speakers[f]\n",
    "    tg = textgrid.TextGrid.fromFile(path_textgrid)\n",
    "    for i in range(len(tg)):\n",
    "        for k in range(len(tg[i])):\n",
    "            try:\n",
    "                splitted = y[int(sr * tg[i][k].minTime): int(sr * tg[i][k].maxTime)]\n",
    "                sf.write(f'{directory}/wav/{new_path}-{i}-{k}.wav', splitted, sr)\n",
    "                with open(f'{directory}/text/{new_path}-{i}-{k}.wav.txt', 'w') as fopen:\n",
    "                    fopen.write(tg[i][k].mark)\n",
    "            except Exception as e:\n",
    "                print('nested exception', e)"
   ]
  },
  {
   "cell_type": "code",
   "execution_count": 23,
   "id": "8fe0dd94",
   "metadata": {},
   "outputs": [],
   "source": [
    "split('WAVE/sur_0007_1014_phnd_cs-chn.wav')"
   ]
  },
  {
   "cell_type": "code",
   "execution_count": 26,
   "id": "1ac000e1",
   "metadata": {},
   "outputs": [
    {
     "data": {
      "text/plain": [
       "'part4-diff-room/wav/sur_0007_1014_phnd_cs-chn-0-427.wav'"
      ]
     },
     "execution_count": 26,
     "metadata": {},
     "output_type": "execute_result"
    }
   ],
   "source": [
    "wavs = glob(f'{directory}/wav/*.wav')\n",
    "wavs[0]"
   ]
  },
  {
   "cell_type": "code",
   "execution_count": 27,
   "id": "8305cfee",
   "metadata": {},
   "outputs": [
    {
     "data": {
      "text/html": [
       "\n",
       "                <audio  controls=\"controls\" >\n",
       "                    <source src=\"data:audio/x-wav;base64,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\" type=\"audio/x-wav\" />\n",
       "                    Your browser does not support the audio element.\n",
       "                </audio>\n",
       "              "
      ],
      "text/plain": [
       "<IPython.lib.display.Audio object>"
      ]
     },
     "execution_count": 27,
     "metadata": {},
     "output_type": "execute_result"
    }
   ],
   "source": [
    "import IPython.display as ipd\n",
    "ipd.Audio(wavs[0])"
   ]
  },
  {
   "cell_type": "code",
   "execution_count": 30,
   "id": "d81413ab",
   "metadata": {},
   "outputs": [
    {
     "name": "stdout",
     "output_type": "stream",
     "text": [
      "like photography [ah]"
     ]
    }
   ],
   "source": [
    "!cat {wavs[0].replace('/wav/', '/text/') + '.txt'}"
   ]
  },
  {
   "cell_type": "code",
   "execution_count": 31,
   "id": "efe31c53",
   "metadata": {},
   "outputs": [],
   "source": [
    "local_directory = 'WAVE'\n",
    "os.system(f'mkdir {local_directory}')\n",
    "\n",
    "def loop(hrefs):\n",
    "    hrefs = hrefs[0]\n",
    "    for i in tqdm(range(len(hrefs))):\n",
    "        href = hrefs[i]\n",
    "        while True:\n",
    "            try:\n",
    "                name = dbx.sharing_get_shared_link_metadata(href).name\n",
    "                break\n",
    "            except:\n",
    "                pass\n",
    "        d = f'{local_directory}/{name}'\n",
    "        if not os.path.exists(d):\n",
    "            while True:\n",
    "                try:\n",
    "                    dbx.sharing_get_shared_link_file_to_file(d, href)\n",
    "                    break\n",
    "                except Exception as e:\n",
    "                    print(e)\n",
    "        \n",
    "        print(d, name)\n",
    "        try:\n",
    "            split(d)\n",
    "        except:\n",
    "            pass\n",
    "        os.remove(d)"
   ]
  },
  {
   "cell_type": "code",
   "execution_count": 32,
   "id": "d9526019",
   "metadata": {},
   "outputs": [
    {
     "name": "stderr",
     "output_type": "stream",
     "text": [
      "  0%|          | 0/1 [00:00<?, ?it/s]"
     ]
    },
    {
     "name": "stdout",
     "output_type": "stream",
     "text": [
      "WAVE/sur_0007_1014_phnd_cs-chn.wav sur_0007_1014_phnd_cs-chn.wav\n"
     ]
    },
    {
     "name": "stderr",
     "output_type": "stream",
     "text": [
      "100%|██████████| 1/1 [00:09<00:00,  9.68s/it]\n"
     ]
    }
   ],
   "source": [
    "loop((hrefs[:1],))"
   ]
  },
  {
   "cell_type": "code",
   "execution_count": 46,
   "id": "e879d15e",
   "metadata": {},
   "outputs": [],
   "source": [
    "mp.multiprocessing(hrefs, loop, cores = 4, returned = False)"
   ]
  },
  {
   "cell_type": "code",
   "execution_count": 47,
   "id": "c11c1877",
   "metadata": {},
   "outputs": [],
   "source": [
    "# !tar --use-compress-program=\"pigz -0 -k \" -cf part4-diff-room.tar.gz part4-diff-room "
   ]
  }
 ],
 "metadata": {
  "kernelspec": {
   "display_name": "Python 3",
   "language": "python",
   "name": "python3"
  },
  "language_info": {
   "codemirror_mode": {
    "name": "ipython",
    "version": 3
   },
   "file_extension": ".py",
   "mimetype": "text/x-python",
   "name": "python",
   "nbconvert_exporter": "python",
   "pygments_lexer": "ipython3",
   "version": "3.7.10"
  }
 },
 "nbformat": 4,
 "nbformat_minor": 5
}

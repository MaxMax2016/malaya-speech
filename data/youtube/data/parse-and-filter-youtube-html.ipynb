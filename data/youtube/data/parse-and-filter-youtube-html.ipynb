{
 "cells": [
  {
   "cell_type": "code",
   "execution_count": 15,
   "metadata": {},
   "outputs": [],
   "source": [
    "from glob import glob\n",
    "from bs4 import BeautifulSoup\n",
    "from tqdm import tqdm\n",
    "import os\n",
    "import json"
   ]
  },
  {
   "cell_type": "code",
   "execution_count": 18,
   "metadata": {},
   "outputs": [
    {
     "data": {
      "text/plain": [
       "['Bing - Bahasa Melayu - YouTube.html',\n",
       " \"Les' Copaque Production - YouTube.html\",\n",
       " 'EjenAli - YouTube.html',\n",
       " 'Wumbology MY - YouTube.html',\n",
       " 'Dunia Kartun Malaysia - YouTube.html',\n",
       " 'Didi & Friends - Lagu Kanak Kanak - YouTube.html',\n",
       " 'ML Studios - YouTube.html',\n",
       " 'yunz cartoon channel - YouTube.html',\n",
       " 'Crayon Shin Chan Malay HD - YouTube.html',\n",
       " 'Smurf - Bahasa Melayu - YouTube.html']"
      ]
     },
     "execution_count": 18,
     "metadata": {},
     "output_type": "execute_result"
    }
   ],
   "source": [
    "htmls = glob('*.html')\n",
    "htmls"
   ]
  },
  {
   "cell_type": "code",
   "execution_count": 31,
   "metadata": {},
   "outputs": [
    {
     "name": "stderr",
     "output_type": "stream",
     "text": [
      "100%|███████████████████████████████████████████| 10/10 [00:11<00:00,  1.18s/it]\n"
     ]
    }
   ],
   "source": [
    "for f in tqdm(htmls):\n",
    "    with open(f) as fopen:\n",
    "        htm = fopen.read()\n",
    "    \n",
    "    bs = BeautifulSoup(htm)\n",
    "    bs = bs.find_all('ytd-two-column-browse-results-renderer')[-1]\n",
    "    \n",
    "    videos = bs.find_all('a', {'id': 'video-title-link'})\n",
    "    \n",
    "    filtered_videos = {}\n",
    "    for video in videos:\n",
    "        label = video.get('title')\n",
    "        filtered_videos[label] = video.get('href')\n",
    "    \n",
    "    with open(f.replace(' ', '_').replace('.html', '.json'), 'w') as fopen:\n",
    "        json.dump(filtered_videos, fopen)"
   ]
  },
  {
   "cell_type": "code",
   "execution_count": 33,
   "metadata": {},
   "outputs": [],
   "source": [
    "with open('Didi_&_Friends_-_Lagu_Kanak_Kanak_-_YouTube.json') as fopen:\n",
    "    data = json.load(fopen)\n",
    "    \n",
    "data = {k: v for k, v in data.items() if 'Rescue Squad' in k}\n",
    "\n",
    "with open('Didi_&_Friends_-_Lagu_Kanak_Kanak_-_YouTube.json.filtered', 'w') as fopen:\n",
    "    json.dump(data, fopen)"
   ]
  },
  {
   "cell_type": "code",
   "execution_count": 34,
   "metadata": {},
   "outputs": [],
   "source": [
    "with open('EjenAli_-_YouTube.json') as fopen:\n",
    "    data = json.load(fopen)\n",
    "    \n",
    "data = {k: v for k, v in data.items() if '(EP' in k}\n",
    "\n",
    "with open('EjenAli_-_YouTube.json.filtered', 'w') as fopen:\n",
    "    json.dump(data, fopen)"
   ]
  },
  {
   "cell_type": "code",
   "execution_count": 36,
   "metadata": {},
   "outputs": [],
   "source": [
    "with open(\"Les'_Copaque_Production_-_YouTube.json\") as fopen:\n",
    "    data = json.load(fopen)\n",
    "    \n",
    "data = {k: v for k, v in data.items() if 'Musim' in k}\n",
    "\n",
    "with open(\"Les'_Copaque_Production_-_YouTube.json.filtered\", 'w') as fopen:\n",
    "    json.dump(data, fopen)"
   ]
  },
  {
   "cell_type": "code",
   "execution_count": null,
   "metadata": {},
   "outputs": [],
   "source": []
  }
 ],
 "metadata": {
  "kernelspec": {
   "display_name": "Python 3 (ipykernel)",
   "language": "python",
   "name": "python3"
  },
  "language_info": {
   "codemirror_mode": {
    "name": "ipython",
    "version": 3
   },
   "file_extension": ".py",
   "mimetype": "text/x-python",
   "name": "python",
   "nbconvert_exporter": "python",
   "pygments_lexer": "ipython3",
   "version": "3.8.10"
  }
 },
 "nbformat": 4,
 "nbformat_minor": 4
}

{
 "cells": [
  {
   "cell_type": "code",
   "execution_count": 1,
   "metadata": {},
   "outputs": [],
   "source": [
    "from bs4 import BeautifulSoup"
   ]
  },
  {
   "cell_type": "code",
   "execution_count": 2,
   "metadata": {},
   "outputs": [],
   "source": [
    "with open('Thinker Studios - YouTube.htm') as fopen:\n",
    "    htm = fopen.read()\n",
    "    \n",
    "bs = BeautifulSoup(htm)"
   ]
  },
  {
   "cell_type": "code",
   "execution_count": 3,
   "metadata": {},
   "outputs": [
    {
     "data": {
      "text/plain": [
       "780"
      ]
     },
     "execution_count": 3,
     "metadata": {},
     "output_type": "execute_result"
    }
   ],
   "source": [
    "videos = bs.find_all('a', {'id': 'video-title'})\n",
    "len(videos)"
   ]
  },
  {
   "cell_type": "code",
   "execution_count": 4,
   "metadata": {},
   "outputs": [
    {
     "data": {
      "text/plain": [
       "<a aria-label=\"PROSTATE CANCER AWARENESS - Cara Check Prostate, Gold Finger, &amp; FAQ About Men by Thinker Studios 23 hours ago 1 hour, 13 minutes 8,473 views\" class=\"yt-simple-endpoint style-scope ytd-grid-video-renderer\" href=\"https://www.youtube.com/watch?v=PeyDoH8HjVI&amp;t=2579s\" id=\"video-title\" title=\"PROSTATE CANCER AWARENESS - Cara Check Prostate, Gold Finger, &amp; FAQ About Men\">PROSTATE CANCER AWARENESS - Cara Check Prostate, Gold Finger, &amp; FAQ About Men</a>"
      ]
     },
     "execution_count": 4,
     "metadata": {},
     "output_type": "execute_result"
    }
   ],
   "source": [
    "videos[0]"
   ]
  },
  {
   "cell_type": "code",
   "execution_count": 5,
   "metadata": {},
   "outputs": [
    {
     "data": {
      "text/plain": [
       "28"
      ]
     },
     "execution_count": 5,
     "metadata": {},
     "output_type": "execute_result"
    }
   ],
   "source": [
    "filtered_videos = {}\n",
    "for video in videos:\n",
    "    if '1 hour' in video.get('aria-label').lower():\n",
    "        label = video.get('title')\n",
    "        filtered_videos[label] = video.get('href')\n",
    "        \n",
    "len(filtered_videos)"
   ]
  },
  {
   "cell_type": "code",
   "execution_count": 6,
   "metadata": {},
   "outputs": [
    {
     "data": {
      "text/plain": [
       "{'PROSTATE CANCER AWARENESS - Cara Check Prostate, Gold Finger, & FAQ About Men': 'https://www.youtube.com/watch?v=PeyDoH8HjVI&t=2579s',\n",
       " 'SUMMIT SUBANG - Apps Yang Dirindui, Faa Masuk Taska, & Shortform': 'https://www.youtube.com/watch?v=maAODgiga-w',\n",
       " 'KAMERAMAN JATUH BOAT - Show Makan, Wartawan Kelakar, & Host Macam Mana Kita Mahu?': 'https://www.youtube.com/watch?v=W_hkNP_yJxg',\n",
       " 'WOMEN JAGA WOMEN - Bagi Nombor, Seni Tandas, & SPM Penting Ke Tak?': 'https://www.youtube.com/watch?v=L5O9cAlwLZk&t=737s',\n",
       " 'BERBASIKAL - Apai Accident, Hobi Basikal, & Main Bola Mental': 'https://www.youtube.com/watch?v=qk415OMoRVU',\n",
       " 'LAMBAT SEMINGGU - Juicy Kap Air Mat, Curi Ikan Di laut, & Shopping Girl vs Boy': 'https://www.youtube.com/watch?v=NohKZW3XKBI',\n",
       " 'TAHNIAH SYAFA! - Syafa Mengandung, Kerja Dengan Family, & Abang DJ Pasaraya': 'https://www.youtube.com/watch?v=rBpDnNNTgjw',\n",
       " 'HEALTHY TEROK! - Pengalaman Gym, Badan Sador, & Period Tak Keluar': 'https://www.youtube.com/watch?v=Iypo3xYwqH4',\n",
       " 'JET SETTER - Pengalaman Travel Aqid, Ben, & Haiqal': 'https://www.youtube.com/watch?v=ImXcvqgSO2A',\n",
       " 'G-Dragon Turki - Buku Adly, Sejarah Feride, & Pakai Mask Ye Gais': 'https://www.youtube.com/watch?v=sTm_NgfNEYo',\n",
       " 'Cara Adly - Cara Ajar Anak, Toxic Parenting, & Menunjuk Anak': 'https://www.youtube.com/watch?v=HA-B19xDDys',\n",
       " \"Adik Angkat Ke? - Gamer's Life, Adik Angkat & What's Happening Last Week\": 'https://www.youtube.com/watch?v=rY-UPp0wb2s',\n",
       " 'SYAFA IS BEK! - PDA, Harga 99, & Kenapa Adly Minum Pokka': 'https://www.youtube.com/watch?v=yWgIbRLYPGU',\n",
       " 'Istiqomah Hendaknya! -  Influencer Mahal, Norma Baharu & Reseller Too Pricey!': 'https://www.youtube.com/watch?v=IU0ASVlYCHk',\n",
       " 'Thinker Bagi Isaac Makan Burger Je - Mukbang Artist, Puasa & Banjiran Di Banjaran': 'https://www.youtube.com/watch?v=h6BplWn-Czo',\n",
       " 'Terkedu Lapar - Motif Viral, GeoPolitik & Lukisan Di Dinding': 'https://www.youtube.com/watch?v=EFkuf7N0rWA',\n",
       " '#HajarBeanieBen - Childhood Memories, Pasca SPM & Last Day On Earth': 'https://www.youtube.com/watch?v=5-qY5WlYvYc',\n",
       " 'KAU BODOH KE APA?! - Sterk 101, Masalah Twitter, & Sains Dan Sastera Mansuh': 'https://www.youtube.com/watch?v=UiPr4wvOCxo',\n",
       " 'Dahlia Pura-Pura Lembab - Cerita Seram, Cara Jadi Host, & Rezeki Orang Lain-lain': 'https://www.youtube.com/watch?v=GdXjk97i72s',\n",
       " 'Ranchak! - Hentak Melantak, Erti Sahabat & Surrrrrr!': 'https://www.youtube.com/watch?v=jHjZENnYYXE',\n",
       " \"Let's Go - LDR, Bayar Sama Rata & Hantaran... Again?\": 'https://www.youtube.com/watch?v=sgN2PdiB1eo',\n",
       " 'Tenang Tapi Bertenang - Harum Manis, Cinta 90an & Surat Cinta Untuk Nana': 'https://www.youtube.com/watch?v=uFx4SikeCOM',\n",
       " 'Tenang-Tenang Aja - Masalah C!rit, Kultus Perbajuan & Masalah Bapak!': 'https://www.youtube.com/watch?v=Ec_or5tnK8U',\n",
       " 'Podcaster - Segalanya Raya, Gaduh Adik-Beradik & Mencari Arah Hidup': 'https://www.youtube.com/watch?v=5wG9zy6Numc',\n",
       " 'ShalsArbok - Falsafah Youtube, Entrepreneurpek, & Haze Jumpa PU Abu?': 'https://www.youtube.com/watch?v=F0H5hh2dCiQ',\n",
       " 'Welcome To The Show - Coachella, Yaya Wanita Pelik, & Apai Malu Dengan Gadis?': 'https://www.youtube.com/watch?v=thqnc3gke3o',\n",
       " 'Dah Makan Kew - Bubble Tea Craze, Jess Cakap Melayu, & Ben Suka Famous?': 'https://www.youtube.com/watch?v=TpYC1Y3MgcA',\n",
       " 'PodcasThinker - Intern Tak Function? Thinker Dah Tak Best?': 'https://www.youtube.com/watch?v=ycyZ5KQgIeg'}"
      ]
     },
     "execution_count": 6,
     "metadata": {},
     "output_type": "execute_result"
    }
   ],
   "source": [
    "filtered_videos"
   ]
  },
  {
   "cell_type": "code",
   "execution_count": 7,
   "metadata": {},
   "outputs": [],
   "source": [
    "import json\n",
    "\n",
    "with open('thinker-studios.json', 'w') as fopen:\n",
    "    json.dump(filtered_videos, fopen)"
   ]
  }
 ],
 "metadata": {
  "kernelspec": {
   "display_name": "Python 3",
   "language": "python",
   "name": "python3"
  },
  "language_info": {
   "codemirror_mode": {
    "name": "ipython",
    "version": 3
   },
   "file_extension": ".py",
   "mimetype": "text/x-python",
   "name": "python",
   "nbconvert_exporter": "python",
   "pygments_lexer": "ipython3",
   "version": "3.6.8"
  }
 },
 "nbformat": 4,
 "nbformat_minor": 2
}

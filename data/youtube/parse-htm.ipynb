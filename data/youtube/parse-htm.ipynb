{
 "cells": [
  {
   "cell_type": "code",
   "execution_count": 1,
   "id": "therapeutic-plain",
   "metadata": {},
   "outputs": [
    {
     "data": {
      "text/plain": [
       "14"
      ]
     },
     "execution_count": 1,
     "metadata": {},
     "output_type": "execute_result"
    }
   ],
   "source": [
    "from glob import glob\n",
    "\n",
    "htm = glob('*.htm')\n",
    "len(htm)"
   ]
  },
  {
   "cell_type": "code",
   "execution_count": 4,
   "id": "canadian-workstation",
   "metadata": {},
   "outputs": [
    {
     "name": "stdout",
     "output_type": "stream",
     "text": [
      "downloading frozen model to /Users/huseinzolkepli/Malaya/language-detection/fasttext-quantized/fasstext.tfz\n"
     ]
    },
    {
     "name": "stderr",
     "output_type": "stream",
     "text": [
      "101%|██████████| 30.0/29.6 [00:33<00:00, 1.12s/MB]\n",
      "Warning : `load_model` does not return WordVectorModel or SupervisedModel any more, but a `FastText` object which is very similar.\n"
     ]
    }
   ],
   "source": [
    "import malaya\n",
    "fast_text = malaya.language_detection.fasttext()"
   ]
  },
  {
   "cell_type": "code",
   "execution_count": 16,
   "id": "informational-persian",
   "metadata": {},
   "outputs": [],
   "source": [
    "from bs4 import BeautifulSoup\n",
    "from tqdm import tqdm\n",
    "import json"
   ]
  },
  {
   "cell_type": "code",
   "execution_count": 17,
   "id": "racial-ensemble",
   "metadata": {},
   "outputs": [
    {
     "name": "stderr",
     "output_type": "stream",
     "text": [
      "100%|██████████| 648/648 [00:00<00:00, 12245.81it/s]"
     ]
    },
    {
     "name": "stdout",
     "output_type": "stream",
     "text": [
      "Al-Kahfi Production - YouTube.htm 648\n"
     ]
    },
    {
     "name": "stderr",
     "output_type": "stream",
     "text": [
      "\n",
      "100%|██████████| 211/211 [00:00<00:00, 11837.22it/s]"
     ]
    },
    {
     "name": "stdout",
     "output_type": "stream",
     "text": [
      "Ajar - YouTube.htm 211\n"
     ]
    },
    {
     "name": "stderr",
     "output_type": "stream",
     "text": [
      "\n",
      "100%|██████████| 156/156 [00:00<00:00, 11123.02it/s]"
     ]
    },
    {
     "name": "stdout",
     "output_type": "stream",
     "text": [
      "MUSICOLABORASI - YouTube.htm 156\n"
     ]
    },
    {
     "name": "stderr",
     "output_type": "stream",
     "text": [
      "\n",
      "100%|██████████| 2280/2280 [00:00<00:00, 11431.09it/s]"
     ]
    },
    {
     "name": "stdout",
     "output_type": "stream",
     "text": [
      "Abu Khadijah - YouTube.htm 2280\n"
     ]
    },
    {
     "name": "stderr",
     "output_type": "stream",
     "text": [
      "\n",
      " 43%|████▎     | 1196/2773 [00:00<00:00, 11959.30it/s]"
     ]
    },
    {
     "name": "stdout",
     "output_type": "stream",
     "text": [
      "THE MALAYSIAN INSIGHT - YouTube.htm 2773\n"
     ]
    },
    {
     "name": "stderr",
     "output_type": "stream",
     "text": [
      "100%|██████████| 2773/2773 [00:00<00:00, 11710.15it/s]\n",
      "100%|██████████| 24/24 [00:00<00:00, 278845.70it/s]"
     ]
    },
    {
     "name": "stdout",
     "output_type": "stream",
     "text": [
      "ONZZ - YouTube.htm 24\n"
     ]
    },
    {
     "name": "stderr",
     "output_type": "stream",
     "text": [
      "\n",
      "100%|██████████| 33/33 [00:00<00:00, 311738.81it/s]"
     ]
    },
    {
     "name": "stdout",
     "output_type": "stream",
     "text": [
      "Faizdickie VP - YouTube.htm 33\n"
     ]
    },
    {
     "name": "stderr",
     "output_type": "stream",
     "text": [
      "\n",
      "100%|██████████| 81/81 [00:00<00:00, 11142.99it/s]"
     ]
    },
    {
     "name": "stdout",
     "output_type": "stream",
     "text": [
      "Moshed Mohamad - YouTube.htm 81\n"
     ]
    },
    {
     "name": "stderr",
     "output_type": "stream",
     "text": [
      "\n",
      "100%|██████████| 181/181 [00:00<00:00, 12008.37it/s]"
     ]
    },
    {
     "name": "stdout",
     "output_type": "stream",
     "text": [
      "APHD Channel - YouTube.htm 181\n"
     ]
    },
    {
     "name": "stderr",
     "output_type": "stream",
     "text": [
      "\n",
      "100%|██████████| 230/230 [00:00<00:00, 11342.35it/s]"
     ]
    },
    {
     "name": "stdout",
     "output_type": "stream",
     "text": [
      "khairul jamain - YouTube.htm 230\n"
     ]
    },
    {
     "name": "stderr",
     "output_type": "stream",
     "text": [
      "\n",
      "100%|██████████| 112/112 [00:00<00:00, 8376.19it/s]"
     ]
    },
    {
     "name": "stdout",
     "output_type": "stream",
     "text": [
      "MUSIKOLABORAI - YouTube.htm 112\n"
     ]
    },
    {
     "name": "stderr",
     "output_type": "stream",
     "text": [
      "\n",
      "100%|██████████| 8/8 [00:00<00:00, 5434.80it/s]"
     ]
    },
    {
     "name": "stdout",
     "output_type": "stream",
     "text": [
      "SAHAS Production - YouTube.htm 8\n"
     ]
    },
    {
     "name": "stderr",
     "output_type": "stream",
     "text": [
      "\n",
      "100%|██████████| 875/875 [00:00<00:00, 11902.50it/s]"
     ]
    },
    {
     "name": "stdout",
     "output_type": "stream",
     "text": [
      "Thinker Studios - YouTube.htm 875\n"
     ]
    },
    {
     "name": "stderr",
     "output_type": "stream",
     "text": [
      "\n",
      " 68%|██████▊   | 2167/3180 [00:00<00:00, 10898.57it/s]"
     ]
    },
    {
     "name": "stdout",
     "output_type": "stream",
     "text": [
      "mStar Online Malaysia - YouTube.htm 3180\n"
     ]
    },
    {
     "name": "stderr",
     "output_type": "stream",
     "text": [
      "100%|██████████| 3180/3180 [00:00<00:00, 11219.62it/s]\n"
     ]
    }
   ],
   "source": [
    "filtered_videos = {}\n",
    "for h in htm:\n",
    "    with open(h) as fopen:\n",
    "        data = fopen.read()\n",
    "\n",
    "    bs = BeautifulSoup(data)\n",
    "    videos = bs.find_all('a', {'id': 'video-title'})\n",
    "    print(h, len(videos))\n",
    "    \n",
    "    for video in tqdm(videos):\n",
    "        label = video.get('title')\n",
    "        if len(videos) < 40 or fast_text.predict([label])[0] in ['malay', 'ind']:\n",
    "            filtered_videos[label] = video.get('href')"
   ]
  },
  {
   "cell_type": "code",
   "execution_count": 18,
   "id": "large-universe",
   "metadata": {},
   "outputs": [
    {
     "data": {
      "text/plain": [
       "8568"
      ]
     },
     "execution_count": 18,
     "metadata": {},
     "output_type": "execute_result"
    }
   ],
   "source": [
    "len(filtered_videos)"
   ]
  },
  {
   "cell_type": "code",
   "execution_count": 21,
   "id": "wrong-trademark",
   "metadata": {},
   "outputs": [],
   "source": [
    "with open('youtube-htm.json', 'w') as fopen:\n",
    "    json.dump(filtered_videos, fopen)"
   ]
  }
 ],
 "metadata": {
  "kernelspec": {
   "display_name": "Python 3",
   "language": "python",
   "name": "python3"
  },
  "language_info": {
   "codemirror_mode": {
    "name": "ipython",
    "version": 3
   },
   "file_extension": ".py",
   "mimetype": "text/x-python",
   "name": "python",
   "nbconvert_exporter": "python",
   "pygments_lexer": "ipython3",
   "version": "3.7.7"
  }
 },
 "nbformat": 4,
 "nbformat_minor": 5
}

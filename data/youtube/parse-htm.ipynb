{
 "cells": [
  {
   "cell_type": "code",
   "execution_count": 1,
   "id": "therapeutic-plain",
   "metadata": {},
   "outputs": [
    {
     "data": {
      "text/plain": [
       "3"
      ]
     },
     "execution_count": 1,
     "metadata": {},
     "output_type": "execute_result"
    }
   ],
   "source": [
    "from glob import glob\n",
    "\n",
    "htm = glob('*.htm')\n",
    "len(htm)"
   ]
  },
  {
   "cell_type": "code",
   "execution_count": 2,
   "id": "canadian-workstation",
   "metadata": {},
   "outputs": [
    {
     "name": "stderr",
     "output_type": "stream",
     "text": [
      "Warning : `load_model` does not return WordVectorModel or SupervisedModel any more, but a `FastText` object which is very similar.\n"
     ]
    }
   ],
   "source": [
    "import malaya\n",
    "fast_text = malaya.language_detection.fasttext()"
   ]
  },
  {
   "cell_type": "code",
   "execution_count": 3,
   "id": "informational-persian",
   "metadata": {},
   "outputs": [],
   "source": [
    "from bs4 import BeautifulSoup\n",
    "from tqdm import tqdm\n",
    "import json"
   ]
  },
  {
   "cell_type": "code",
   "execution_count": 4,
   "id": "convertible-extent",
   "metadata": {},
   "outputs": [],
   "source": [
    "with open('youtube-htm.json') as fopen:\n",
    "    filtered_videos = json.load(fopen)"
   ]
  },
  {
   "cell_type": "code",
   "execution_count": 5,
   "id": "racial-ensemble",
   "metadata": {},
   "outputs": [
    {
     "name": "stderr",
     "output_type": "stream",
     "text": [
      " 24%|██▍       | 1139/4650 [00:00<00:00, 11384.88it/s]"
     ]
    },
    {
     "name": "stdout",
     "output_type": "stream",
     "text": [
      "(1) Berita Harian Online - YouTube.htm 4650\n"
     ]
    },
    {
     "name": "stderr",
     "output_type": "stream",
     "text": [
      "100%|██████████| 4650/4650 [00:00<00:00, 11478.85it/s]\n",
      "100%|██████████| 555/555 [00:00<00:00, 12805.10it/s]"
     ]
    },
    {
     "name": "stdout",
     "output_type": "stream",
     "text": [
      "(1) ASA Production - YouTube.htm 555\n"
     ]
    },
    {
     "name": "stderr",
     "output_type": "stream",
     "text": [
      "\n",
      "100%|██████████| 38/38 [00:00<00:00, 50742.93it/s]"
     ]
    },
    {
     "name": "stdout",
     "output_type": "stream",
     "text": [
      "(1) DBPMalaysia - YouTube.htm 38\n"
     ]
    },
    {
     "name": "stderr",
     "output_type": "stream",
     "text": [
      "\n"
     ]
    }
   ],
   "source": [
    "# filtered_videos = {}\n",
    "for h in htm:\n",
    "    with open(h) as fopen:\n",
    "        data = fopen.read()\n",
    "\n",
    "    bs = BeautifulSoup(data)\n",
    "    videos = bs.find_all('a', {'id': 'video-title'})\n",
    "    print(h, len(videos))\n",
    "    \n",
    "    for video in tqdm(videos):\n",
    "        label = video.get('title')\n",
    "        if len(videos) < 40 or fast_text.predict([label])[0] in ['malay', 'ind']:\n",
    "            filtered_videos[label] = video.get('href')"
   ]
  },
  {
   "cell_type": "code",
   "execution_count": 6,
   "id": "neural-spotlight",
   "metadata": {},
   "outputs": [
    {
     "data": {
      "text/plain": [
       "[<a aria-label=\"Rancangan Sembang Orang Muda: Seronoknya Membaca: Ceritalah Lagi! by DBPMalaysia Streamed 7 hours ago 1 hour, 6 minutes 116 views\" class=\"yt-simple-endpoint style-scope ytd-video-renderer\" href=\"https://www.youtube.com/watch?v=LoM_msEiQPA\" id=\"video-title\" title=\"Rancangan Sembang Orang Muda: Seronoknya Membaca: Ceritalah Lagi!\">\n",
       " <yt-icon class=\"style-scope ytd-video-renderer\" hidden=\"\" id=\"inline-title-icon\"><!--css-build:shady--></yt-icon>\n",
       " <yt-formatted-string aria-label=\"Rancangan Sembang Orang Muda: Seronoknya Membaca: Ceritalah Lagi! by DBPMalaysia Streamed 7 hours ago 1 hour, 6 minutes 116 views\" class=\"style-scope ytd-video-renderer\">Rancangan Sembang Orang Muda: Seronoknya Membaca: Ceritalah Lagi!</yt-formatted-string>\n",
       " </a>,\n",
       " <a aria-label=\"Rancangan Bicara Karyawan: Dewan Sastera Mengharungi Cabaran Dunia Digital by DBPMalaysia Streamed 10 hours ago 1 hour, 3 minutes 48 views\" class=\"yt-simple-endpoint style-scope ytd-video-renderer\" href=\"https://www.youtube.com/watch?v=XdEZAHp36CU\" id=\"video-title\" title=\"Rancangan Bicara Karyawan: Dewan Sastera Mengharungi Cabaran Dunia Digital\">\n",
       " <yt-icon class=\"style-scope ytd-video-renderer\" hidden=\"\" id=\"inline-title-icon\"><!--css-build:shady--></yt-icon>\n",
       " <yt-formatted-string aria-label=\"Rancangan Bicara Karyawan: Dewan Sastera Mengharungi Cabaran Dunia Digital by DBPMalaysia Streamed 10 hours ago 1 hour, 3 minutes 48 views\" class=\"style-scope ytd-video-renderer\">Rancangan Bicara Karyawan: Dewan Sastera Mengharungi Cabaran Dunia Digital</yt-formatted-string>\n",
       " </a>,\n",
       " <a aria-label=\"Rancangan Dialek Kita: Indahnya Dialek Kelantan by DBPMalaysia Streamed 2 days ago 1 hour, 13 minutes 113 views\" class=\"yt-simple-endpoint style-scope ytd-video-renderer\" href=\"https://www.youtube.com/watch?v=2q-t7oNDyVU\" id=\"video-title\" title=\"Rancangan Dialek Kita: Indahnya Dialek Kelantan\">\n",
       " <yt-icon class=\"style-scope ytd-video-renderer\" hidden=\"\" id=\"inline-title-icon\"><!--css-build:shady--></yt-icon>\n",
       " <yt-formatted-string aria-label=\"Rancangan Dialek Kita: Indahnya Dialek Kelantan by DBPMalaysia Streamed 2 days ago 1 hour, 13 minutes 113 views\" class=\"style-scope ytd-video-renderer\">Rancangan Dialek Kita: Indahnya Dialek Kelantan</yt-formatted-string>\n",
       " </a>,\n",
       " <a aria-label=\"DBP Cuit Hati Netizen by Berita TV9 4 months ago 1 minute, 55 seconds 1,788 views\" class=\"yt-simple-endpoint style-scope ytd-video-renderer\" href=\"https://www.youtube.com/watch?v=37theJvAOCo\" id=\"video-title\" title=\"DBP Cuit Hati Netizen\">\n",
       " <yt-icon class=\"style-scope ytd-video-renderer\" hidden=\"\" id=\"inline-title-icon\"><!--css-build:shady--></yt-icon>\n",
       " <yt-formatted-string aria-label=\"DBP Cuit Hati Netizen by Berita TV9 4 months ago 1 minute, 55 seconds 1,788 views\" class=\"style-scope ytd-video-renderer\">DBP Cuit Hati Netizen</yt-formatted-string>\n",
       " </a>,\n",
       " <a aria-label=\"Kerajaan mahu DBP setaraf British Council by KiniTV 2 years ago 2 minutes, 40 seconds 3,196 views\" class=\"yt-simple-endpoint style-scope ytd-video-renderer\" href=\"https://www.youtube.com/watch?v=iB21ijAxN7g\" id=\"video-title\" title=\"Kerajaan mahu DBP setaraf British Council\">\n",
       " <yt-icon class=\"style-scope ytd-video-renderer\" hidden=\"\" id=\"inline-title-icon\"><!--css-build:shady--></yt-icon>\n",
       " <yt-formatted-string aria-label=\"Kerajaan mahu DBP setaraf British Council by KiniTV 2 years ago 2 minutes, 40 seconds 3,196 views\" class=\"style-scope ytd-video-renderer\">Kerajaan mahu DBP setaraf British Council</yt-formatted-string>\n",
       " </a>,\n",
       " <a aria-label=\"Program Bimbingan Teknik Pengucapan Awam Secara Maya - I by DBPMalaysia 4 months ago 1 hour, 55 minutes 336 views\" class=\"yt-simple-endpoint style-scope ytd-video-renderer\" href=\"https://www.youtube.com/watch?v=4NcnL1wf4GE\" id=\"video-title\" title=\"Program Bimbingan Teknik Pengucapan Awam Secara Maya - I\">\n",
       " <yt-icon class=\"style-scope ytd-video-renderer\" hidden=\"\" id=\"inline-title-icon\"><!--css-build:shady--></yt-icon>\n",
       " <yt-formatted-string aria-label=\"Program Bimbingan Teknik Pengucapan Awam Secara Maya - I by DBPMalaysia 4 months ago 1 hour, 55 minutes 336 views\" class=\"style-scope ytd-video-renderer\">Program Bimbingan Teknik Pengucapan Awam Secara Maya - I</yt-formatted-string>\n",
       " </a>,\n",
       " <a aria-label=\"Dekad Bahasa Kebangsaan: Apabila Generasi Akan Datang Budak Wechat by DBPMalaysia 3 months ago 6 minutes, 20 seconds 1,860 views\" class=\"yt-simple-endpoint style-scope ytd-video-renderer\" href=\"https://www.youtube.com/watch?v=zUEHw12OdZ4\" id=\"video-title\" title=\"Dekad Bahasa Kebangsaan: Apabila Generasi Akan Datang Budak Wechat\">\n",
       " <yt-icon class=\"style-scope ytd-video-renderer\" hidden=\"\" id=\"inline-title-icon\"><!--css-build:shady--></yt-icon>\n",
       " <yt-formatted-string aria-label=\"Dekad Bahasa Kebangsaan: Apabila Generasi Akan Datang Budak Wechat by DBPMalaysia 3 months ago 6 minutes, 20 seconds 1,860 views\" class=\"style-scope ytd-video-renderer\">Dekad Bahasa Kebangsaan: Apabila Generasi Akan Datang Budak Wechat</yt-formatted-string>\n",
       " </a>,\n",
       " <a aria-label=\"Kerajaan perlu serius mendaulatkan Bahasa Melayu by Astro AWANI 5 years ago 2 minutes, 16 seconds 8,684 views\" class=\"yt-simple-endpoint style-scope ytd-video-renderer\" href=\"https://www.youtube.com/watch?v=MeIfF28SdGc\" id=\"video-title\" title=\"Kerajaan perlu serius mendaulatkan Bahasa Melayu\">\n",
       " <yt-icon class=\"style-scope ytd-video-renderer\" hidden=\"\" id=\"inline-title-icon\"><!--css-build:shady--></yt-icon>\n",
       " <yt-formatted-string aria-label=\"Kerajaan perlu serius mendaulatkan Bahasa Melayu by Astro AWANI 5 years ago 2 minutes, 16 seconds 8,684 views\" class=\"style-scope ytd-video-renderer\">Kerajaan perlu serius mendaulatkan Bahasa Melayu</yt-formatted-string>\n",
       " </a>,\n",
       " <a aria-label=\"Ke arah memartabatkan Bahasa Melayu by Astro AWANI 6 years ago 1 minute, 50 seconds 2,048 views\" class=\"yt-simple-endpoint style-scope ytd-video-renderer\" href=\"https://www.youtube.com/watch?v=N6GLCRYfKpw\" id=\"video-title\" title=\"Ke arah memartabatkan Bahasa Melayu\">\n",
       " <yt-icon class=\"style-scope ytd-video-renderer\" hidden=\"\" id=\"inline-title-icon\"><!--css-build:shady--></yt-icon>\n",
       " <yt-formatted-string aria-label=\"Ke arah memartabatkan Bahasa Melayu by Astro AWANI 6 years ago 1 minute, 50 seconds 2,048 views\" class=\"style-scope ytd-video-renderer\">Ke arah memartabatkan Bahasa Melayu</yt-formatted-string>\n",
       " </a>,\n",
       " <a aria-label=\"Penggunaan Bahasa Melayu semakin dipinggirkan? by Astro AWANI 5 years ago 8 minutes, 47 seconds 80,379 views\" class=\"yt-simple-endpoint style-scope ytd-video-renderer\" href=\"https://www.youtube.com/watch?v=68nMQNHVn9Y\" id=\"video-title\" title=\"Penggunaan Bahasa Melayu semakin dipinggirkan?\">\n",
       " <yt-icon class=\"style-scope ytd-video-renderer\" hidden=\"\" id=\"inline-title-icon\"><!--css-build:shady--></yt-icon>\n",
       " <yt-formatted-string aria-label=\"Penggunaan Bahasa Melayu semakin dipinggirkan? by Astro AWANI 5 years ago 8 minutes, 47 seconds 80,379 views\" class=\"style-scope ytd-video-renderer\">Penggunaan Bahasa Melayu semakin dipinggirkan?</yt-formatted-string>\n",
       " </a>,\n",
       " <a aria-label=\"DBP Hanya Menyemak Bahasa, Bukan Meluluskan Iklan by Buletin TV3 1 year ago 45 seconds 1,119 views\" class=\"yt-simple-endpoint style-scope ytd-video-renderer\" href=\"https://www.youtube.com/watch?v=tEEsy6d14ew\" id=\"video-title\" title=\"DBP Hanya Menyemak Bahasa, Bukan Meluluskan Iklan\">\n",
       " <yt-icon class=\"style-scope ytd-video-renderer\" hidden=\"\" id=\"inline-title-icon\"><!--css-build:shady--></yt-icon>\n",
       " <yt-formatted-string aria-label=\"DBP Hanya Menyemak Bahasa, Bukan Meluluskan Iklan by Buletin TV3 1 year ago 45 seconds 1,119 views\" class=\"style-scope ytd-video-renderer\">DBP Hanya Menyemak Bahasa, Bukan Meluluskan Iklan</yt-formatted-string>\n",
       " </a>,\n",
       " <a aria-label=\"Program Wacana Bahasa : Santun Berbahasa Anjuran DBP &amp; Parlimen Malaysia 2018. by PARLIMEN MALAYSIA 2 years ago 29 minutes 549 views\" class=\"yt-simple-endpoint style-scope ytd-video-renderer\" href=\"https://www.youtube.com/watch?v=iajE2237xHQ\" id=\"video-title\" title=\"Program Wacana Bahasa : Santun Berbahasa Anjuran DBP &amp; Parlimen Malaysia 2018.\">\n",
       " <yt-icon class=\"style-scope ytd-video-renderer\" hidden=\"\" id=\"inline-title-icon\"><!--css-build:shady--></yt-icon>\n",
       " <yt-formatted-string aria-label=\"Program Wacana Bahasa : Santun Berbahasa Anjuran DBP &amp; Parlimen Malaysia 2018. by PARLIMEN MALAYSIA 2 years ago 29 minutes 549 views\" class=\"style-scope ytd-video-renderer\">Program Wacana Bahasa : Santun Berbahasa Anjuran DBP &amp; Parlimen Malaysia 2018.</yt-formatted-string>\n",
       " </a>,\n",
       " <a aria-label=\"Program Wacana Bahasa : Santun Berbahasa Anjuran DBP &amp; Parlimen Malaysia by PARLIMEN MALAYSIA 2 years ago 8 minutes, 51 seconds 409 views\" class=\"yt-simple-endpoint style-scope ytd-video-renderer\" href=\"https://www.youtube.com/watch?v=cF3vxUlHA8w\" id=\"video-title\" title=\"Program Wacana Bahasa : Santun Berbahasa Anjuran DBP &amp; Parlimen Malaysia\">\n",
       " <yt-icon class=\"style-scope ytd-video-renderer\" hidden=\"\" id=\"inline-title-icon\"><!--css-build:shady--></yt-icon>\n",
       " <yt-formatted-string aria-label=\"Program Wacana Bahasa : Santun Berbahasa Anjuran DBP &amp; Parlimen Malaysia by PARLIMEN MALAYSIA 2 years ago 8 minutes, 51 seconds 409 views\" class=\"style-scope ytd-video-renderer\">Program Wacana Bahasa : Santun Berbahasa Anjuran DBP &amp; Parlimen Malaysia</yt-formatted-string>\n",
       " </a>,\n",
       " <a aria-label=\"SEMUA PERKARA MAHU SENSASI SAMPAI JADI BEBAL | REPLIKA BUKU DBP by Jom Channel 1 year ago 3 minutes, 54 seconds 3,756 views\" class=\"yt-simple-endpoint style-scope ytd-video-renderer\" href=\"https://www.youtube.com/watch?v=tnbwwn5Uv54\" id=\"video-title\" title=\"SEMUA PERKARA MAHU SENSASI SAMPAI JADI BEBAL | REPLIKA BUKU DBP\">\n",
       " <yt-icon class=\"style-scope ytd-video-renderer\" hidden=\"\" id=\"inline-title-icon\"><!--css-build:shady--></yt-icon>\n",
       " <yt-formatted-string aria-label=\"SEMUA PERKARA MAHU SENSASI SAMPAI JADI BEBAL | REPLIKA BUKU DBP by Jom Channel 1 year ago 3 minutes, 54 seconds 3,756 views\" class=\"style-scope ytd-video-renderer\">SEMUA PERKARA MAHU SENSASI SAMPAI JADI BEBAL | REPLIKA BUKU DBP</yt-formatted-string>\n",
       " </a>,\n",
       " <a aria-label=\"Teater perdana DBP kembali dengan Pokok by THE MALAYSIAN INSIGHT 2 years ago 2 minutes, 2 seconds 158 views\" class=\"yt-simple-endpoint style-scope ytd-video-renderer\" href=\"https://www.youtube.com/watch?v=fvw_WuwkhEA\" id=\"video-title\" title=\"Teater perdana DBP kembali dengan Pokok\">\n",
       " <yt-icon class=\"style-scope ytd-video-renderer\" hidden=\"\" id=\"inline-title-icon\"><!--css-build:shady--></yt-icon>\n",
       " <yt-formatted-string aria-label=\"Teater perdana DBP kembali dengan Pokok by THE MALAYSIAN INSIGHT 2 years ago 2 minutes, 2 seconds 158 views\" class=\"style-scope ytd-video-renderer\">Teater perdana DBP kembali dengan Pokok</yt-formatted-string>\n",
       " </a>,\n",
       " <a aria-label=\"SPM - JELAJAH UJANA BUKU DBP [12 MAC 2016] by Berita RTM 4 years ago 9 minutes, 44 seconds 97 views\" class=\"yt-simple-endpoint style-scope ytd-video-renderer\" href=\"https://www.youtube.com/watch?v=fmXg_Rqal64\" id=\"video-title\" title=\"SPM - JELAJAH UJANA BUKU DBP [12 MAC 2016]\">\n",
       " <yt-icon class=\"style-scope ytd-video-renderer\" hidden=\"\" id=\"inline-title-icon\"><!--css-build:shady--></yt-icon>\n",
       " <yt-formatted-string aria-label=\"SPM - JELAJAH UJANA BUKU DBP [12 MAC 2016] by Berita RTM 4 years ago 9 minutes, 44 seconds 97 views\" class=\"style-scope ytd-video-renderer\">SPM - JELAJAH UJANA BUKU DBP [12 MAC 2016]</yt-formatted-string>\n",
       " </a>,\n",
       " <a aria-label=\"DBP Hanya Menyemak Bahasa, Bukan Meluluskan Iklan by Buletin TV3 1 year ago 45 seconds 73 views\" class=\"yt-simple-endpoint style-scope ytd-video-renderer\" href=\"https://www.youtube.com/watch?v=n67p9tA5UPU\" id=\"video-title\" title=\"DBP Hanya Menyemak Bahasa, Bukan Meluluskan Iklan\">\n",
       " <yt-icon class=\"style-scope ytd-video-renderer\" hidden=\"\" id=\"inline-title-icon\"><!--css-build:shady--></yt-icon>\n",
       " <yt-formatted-string aria-label=\"DBP Hanya Menyemak Bahasa, Bukan Meluluskan Iklan by Buletin TV3 1 year ago 45 seconds 73 views\" class=\"style-scope ytd-video-renderer\">DBP Hanya Menyemak Bahasa, Bukan Meluluskan Iklan</yt-formatted-string>\n",
       " </a>,\n",
       " <a aria-label=\"IQIE’S MUSIC 101: Reminisensi Acoustic Guitar Tutorial by Insomniacks MY 5 months ago 11 minutes, 12 seconds 24,333 views\" class=\"yt-simple-endpoint style-scope ytd-video-renderer\" href=\"https://www.youtube.com/watch?v=-Ukmz3OrKTk\" id=\"video-title\" title=\"IQIE’S MUSIC 101: Reminisensi Acoustic Guitar Tutorial\">\n",
       " <yt-icon class=\"style-scope ytd-video-renderer\" hidden=\"\" id=\"inline-title-icon\"><!--css-build:shady--></yt-icon>\n",
       " <yt-formatted-string aria-label=\"IQIE’S MUSIC 101: Reminisensi Acoustic Guitar Tutorial by Insomniacks MY 5 months ago 11 minutes, 12 seconds 24,333 views\" class=\"style-scope ytd-video-renderer\">IQIE’S MUSIC 101: Reminisensi Acoustic Guitar Tutorial</yt-formatted-string>\n",
       " </a>,\n",
       " <a aria-label=\"Fazura - Can't Forget Me (Official Music Video) by Fazura Official 2 years ago 3 minutes, 27 seconds 1,602,918 views\" class=\"yt-simple-endpoint style-scope ytd-video-renderer\" href=\"https://www.youtube.com/watch?v=9zrW6vPJGB4\" id=\"video-title\" title=\"Fazura - Can't Forget Me (Official Music Video)\">\n",
       " <yt-icon class=\"style-scope ytd-video-renderer\" hidden=\"\" id=\"inline-title-icon\"><!--css-build:shady--></yt-icon>\n",
       " <yt-formatted-string aria-label=\"Fazura - Can't Forget Me (Official Music Video) by Fazura Official 2 years ago 3 minutes, 27 seconds 1,602,918 views\" class=\"style-scope ytd-video-renderer\">Fazura - Can't Forget Me (Official Music Video)</yt-formatted-string>\n",
       " </a>,\n",
       " <a aria-label=\"Fazura - Be Honest feat. Jesse Ruben (Official Music Video) by Fazura Official 1 year ago 3 minutes, 25 seconds 344,626 views\" class=\"yt-simple-endpoint style-scope ytd-video-renderer\" href=\"https://www.youtube.com/watch?v=Z8VQ_K3L2Rc\" id=\"video-title\" title=\"Fazura - Be Honest feat. Jesse Ruben (Official Music Video)\">\n",
       " <yt-icon class=\"style-scope ytd-video-renderer\" hidden=\"\" id=\"inline-title-icon\"><!--css-build:shady--></yt-icon>\n",
       " <yt-formatted-string aria-label=\"Fazura - Be Honest feat. Jesse Ruben (Official Music Video) by Fazura Official 1 year ago 3 minutes, 25 seconds 344,626 views\" class=\"style-scope ytd-video-renderer\">Fazura - Be Honest feat. Jesse Ruben (Official Music Video)</yt-formatted-string>\n",
       " </a>,\n",
       " <a aria-label=\"Tunafoto antara istilah baharu DBP by Astro AWANI 3 years ago 1 minute, 9 seconds 379 views\" class=\"yt-simple-endpoint style-scope ytd-video-renderer\" href=\"https://www.youtube.com/watch?v=xswQFGh1f-Y\" id=\"video-title\" title=\"Tunafoto antara istilah baharu DBP\">\n",
       " <yt-icon class=\"style-scope ytd-video-renderer\" hidden=\"\" id=\"inline-title-icon\"><!--css-build:shady--></yt-icon>\n",
       " <yt-formatted-string aria-label=\"Tunafoto antara istilah baharu DBP by Astro AWANI 3 years ago 1 minute, 9 seconds 379 views\" class=\"style-scope ytd-video-renderer\">Tunafoto antara istilah baharu DBP</yt-formatted-string>\n",
       " </a>,\n",
       " <a aria-label=\"Dewan Bahasa dan Pustaka by Audiopedia 6 years ago 2 minutes, 43 seconds 1,356 views\" class=\"yt-simple-endpoint style-scope ytd-video-renderer\" href=\"https://www.youtube.com/watch?v=L92iPrxF448\" id=\"video-title\" title=\"Dewan Bahasa dan Pustaka\">\n",
       " <yt-icon class=\"style-scope ytd-video-renderer\" hidden=\"\" id=\"inline-title-icon\"><!--css-build:shady--></yt-icon>\n",
       " <yt-formatted-string aria-label=\"Dewan Bahasa dan Pustaka by Audiopedia 6 years ago 2 minutes, 43 seconds 1,356 views\" class=\"style-scope ytd-video-renderer\">Dewan Bahasa dan Pustaka</yt-formatted-string>\n",
       " </a>,\n",
       " <a aria-label=\"Bual Bicara Pelita Bahasa: Amboi, Cantiknya Bahasa! by DBPMalaysia 4 months ago 1 hour, 47 minutes 290 views\" class=\"yt-simple-endpoint style-scope ytd-video-renderer\" href=\"https://www.youtube.com/watch?v=9XPFVNQGpMY&amp;t=4495s\" id=\"video-title\" title=\"Bual Bicara Pelita Bahasa: Amboi, Cantiknya Bahasa!\">\n",
       " <yt-icon class=\"style-scope ytd-video-renderer\" hidden=\"\" id=\"inline-title-icon\"><!--css-build:shady--></yt-icon>\n",
       " <yt-formatted-string aria-label=\"Bual Bicara Pelita Bahasa: Amboi, Cantiknya Bahasa! by DBPMalaysia 4 months ago 1 hour, 47 minutes 290 views\" class=\"style-scope ytd-video-renderer\">Bual Bicara Pelita Bahasa: Amboi, Cantiknya Bahasa!</yt-formatted-string>\n",
       " </a>,\n",
       " <a aria-label=\"Cikgu Alex Jatuh Cinta dengan Bahasa Melayu by DBPMalaysia 1 month ago 10 minutes, 1 second 884 views\" class=\"yt-simple-endpoint style-scope ytd-video-renderer\" href=\"https://www.youtube.com/watch?v=1r73vvOWD28&amp;t=42s\" id=\"video-title\" title=\"Cikgu Alex Jatuh Cinta dengan Bahasa Melayu\">\n",
       " <yt-icon class=\"style-scope ytd-video-renderer\" hidden=\"\" id=\"inline-title-icon\"><!--css-build:shady--></yt-icon>\n",
       " <yt-formatted-string aria-label=\"Cikgu Alex Jatuh Cinta dengan Bahasa Melayu by DBPMalaysia 1 month ago 10 minutes, 1 second 884 views\" class=\"style-scope ytd-video-renderer\">Cikgu Alex Jatuh Cinta dengan Bahasa Melayu</yt-formatted-string>\n",
       " </a>,\n",
       " <a aria-label=\"Program Cakap-cakap Bersempena dengan DBK Siri 6 by DBPMalaysia Streamed 2 months ago 1 hour, 4 minutes 51 views\" class=\"yt-simple-endpoint style-scope ytd-video-renderer\" href=\"https://www.youtube.com/watch?v=VPpjnKB2Gsg&amp;t=2679s\" id=\"video-title\" title=\"Program Cakap-cakap Bersempena dengan DBK Siri 6\">\n",
       " <yt-icon class=\"style-scope ytd-video-renderer\" hidden=\"\" id=\"inline-title-icon\"><!--css-build:shady--></yt-icon>\n",
       " <yt-formatted-string aria-label=\"Program Cakap-cakap Bersempena dengan DBK Siri 6 by DBPMalaysia Streamed 2 months ago 1 hour, 4 minutes 51 views\" class=\"style-scope ytd-video-renderer\">Program Cakap-cakap Bersempena dengan DBK Siri 6</yt-formatted-string>\n",
       " </a>,\n",
       " <a aria-label=\"Seronoknya Membaca: Sesi Bercerita Dengarlah Sayang by DBPMalaysia 5 months ago 37 minutes 999 views\" class=\"yt-simple-endpoint style-scope ytd-video-renderer\" href=\"https://www.youtube.com/watch?v=CHfycnQZQGo\" id=\"video-title\" title=\"Seronoknya Membaca: Sesi Bercerita Dengarlah Sayang\">\n",
       " <yt-icon class=\"style-scope ytd-video-renderer\" hidden=\"\" id=\"inline-title-icon\"><!--css-build:shady--></yt-icon>\n",
       " <yt-formatted-string aria-label=\"Seronoknya Membaca: Sesi Bercerita Dengarlah Sayang by DBPMalaysia 5 months ago 37 minutes 999 views\" class=\"style-scope ytd-video-renderer\">Seronoknya Membaca: Sesi Bercerita Dengarlah Sayang</yt-formatted-string>\n",
       " </a>,\n",
       " <a aria-label=\"Martabat Bahasa: DBP-Dong Zong meterai MoU by KiniTV 2 years ago 1 minute, 18 seconds 2,381 views\" class=\"yt-simple-endpoint style-scope ytd-video-renderer\" href=\"https://www.youtube.com/watch?v=lGwIM4GlN04\" id=\"video-title\" title=\"Martabat Bahasa: DBP-Dong Zong meterai MoU\">\n",
       " <yt-icon class=\"style-scope ytd-video-renderer\" hidden=\"\" id=\"inline-title-icon\"><!--css-build:shady--></yt-icon>\n",
       " <yt-formatted-string aria-label=\"Martabat Bahasa: DBP-Dong Zong meterai MoU by KiniTV 2 years ago 1 minute, 18 seconds 2,381 views\" class=\"style-scope ytd-video-renderer\">Martabat Bahasa: DBP-Dong Zong meterai MoU</yt-formatted-string>\n",
       " </a>,\n",
       " <a aria-label=\"PENGESAHAN PENGGUNAAN BAHASA MELAYU PADA IKLAN, PAPAN TANDA, PENAMAAN DAN DOKUMEN DALAM TALIAN by DBPMalaysia 7 months ago 2 minutes, 1 second 4,688 views\" class=\"yt-simple-endpoint style-scope ytd-video-renderer\" href=\"https://www.youtube.com/watch?v=b8MyuPLwlks\" id=\"video-title\" title=\"PENGESAHAN PENGGUNAAN BAHASA MELAYU PADA IKLAN, PAPAN TANDA, PENAMAAN DAN DOKUMEN DALAM TALIAN\">\n",
       " <yt-icon class=\"style-scope ytd-video-renderer\" hidden=\"\" id=\"inline-title-icon\"><!--css-build:shady--></yt-icon>\n",
       " <yt-formatted-string aria-label=\"PENGESAHAN PENGGUNAAN BAHASA MELAYU PADA IKLAN, PAPAN TANDA, PENAMAAN DAN DOKUMEN DALAM TALIAN by DBPMalaysia 7 months ago 2 minutes, 1 second 4,688 views\" class=\"style-scope ytd-video-renderer\">PENGESAHAN PENGGUNAAN BAHASA MELAYU PADA IKLAN, PAPAN TANDA, PENAMAAN DAN DOKUMEN DALAM TALIAN</yt-formatted-string>\n",
       " </a>,\n",
       " <a aria-label=\"Anwar: DBP perlu tampil idea segar by SelangorTV 2 years ago 1 minute, 50 seconds 453 views\" class=\"yt-simple-endpoint style-scope ytd-video-renderer\" href=\"https://www.youtube.com/watch?v=JkiuUG4yy-c\" id=\"video-title\" title=\"Anwar: DBP perlu tampil idea segar\">\n",
       " <yt-icon class=\"style-scope ytd-video-renderer\" hidden=\"\" id=\"inline-title-icon\"><!--css-build:shady--></yt-icon>\n",
       " <yt-formatted-string aria-label=\"Anwar: DBP perlu tampil idea segar by SelangorTV 2 years ago 1 minute, 50 seconds 453 views\" class=\"style-scope ytd-video-renderer\">Anwar: DBP perlu tampil idea segar</yt-formatted-string>\n",
       " </a>,\n",
       " <a aria-label=\"'DBP boleh buat apa saja untuk daulatkan bahasa' by KiniTV 3 years ago 2 minutes, 33 seconds 1,184 views\" class=\"yt-simple-endpoint style-scope ytd-video-renderer\" href=\"https://www.youtube.com/watch?v=Kq6vnlBwF2Y\" id=\"video-title\" title=\"'DBP boleh buat apa saja untuk daulatkan bahasa'\">\n",
       " <yt-icon class=\"style-scope ytd-video-renderer\" hidden=\"\" id=\"inline-title-icon\"><!--css-build:shady--></yt-icon>\n",
       " <yt-formatted-string aria-label=\"'DBP boleh buat apa saja untuk daulatkan bahasa' by KiniTV 3 years ago 2 minutes, 33 seconds 1,184 views\" class=\"style-scope ytd-video-renderer\">'DBP boleh buat apa saja untuk daulatkan bahasa'</yt-formatted-string>\n",
       " </a>,\n",
       " <a class=\"yt-simple-endpoint style-scope ytd-grid-playlist-renderer\" href=\"https://www.youtube.com/watch?v=CLTQevzO3Rk&amp;list=PLNqZkUmdsK5kSgz6bI6CX-pyFscHMkzAp\" id=\"video-title\" title=\"Rancangan Bicara Karyawan\">Rancangan Bicara Karyawan</a>,\n",
       " <a class=\"yt-simple-endpoint style-scope ytd-grid-playlist-renderer\" href=\"https://www.youtube.com/watch?v=dVKHrFJ8hic&amp;list=PLNqZkUmdsK5m0TyTiG-51Kvjb1kfYLx81\" id=\"video-title\" title=\"Rancangan Sembang Orang Muda\">Rancangan Sembang Orang Muda</a>,\n",
       " <a class=\"yt-simple-endpoint style-scope ytd-grid-playlist-renderer\" href=\"https://www.youtube.com/watch?v=4qazt_mT0es&amp;list=PLNqZkUmdsK5mAMTy7CVhrviIBcubpMoWr\" id=\"video-title\" title=\"Rancangan Tabik Dia\">Rancangan Tabik Dia</a>,\n",
       " <a class=\"yt-simple-endpoint style-scope ytd-grid-playlist-renderer\" href=\"https://www.youtube.com/watch?v=53FkmqqBSxM&amp;list=PLNqZkUmdsK5nT45CtOIZhIubr7m8JsOLL\" id=\"video-title\" title=\"Rancangan Peka Bahasa\">Rancangan Peka Bahasa</a>,\n",
       " <a class=\"yt-simple-endpoint style-scope ytd-grid-playlist-renderer\" href=\"https://www.youtube.com/watch?v=aIRhyMmEg54&amp;list=PLNqZkUmdsK5m9mZxQHsOb4NIUAjercsmf\" id=\"video-title\" title=\"Rancangan Sembang Tamu\">Rancangan Sembang Tamu</a>,\n",
       " <a class=\"yt-simple-endpoint style-scope ytd-grid-playlist-renderer\" href=\"https://www.youtube.com/watch?v=en0pWYnffw0&amp;list=PLNqZkUmdsK5lgH8aQRc_BMX5_7BKA9M7-\" id=\"video-title\" title=\"Rancangan Luar Jendela\">Rancangan Luar Jendela</a>,\n",
       " <a class=\"yt-simple-endpoint style-scope ytd-grid-playlist-renderer\" href=\"https://www.youtube.com/watch?v=2q-t7oNDyVU&amp;list=PLNqZkUmdsK5kjJno3AYl99ppLO09gHdva\" id=\"video-title\" title=\"Rancangan Dialek Kita\">Rancangan Dialek Kita</a>,\n",
       " <a class=\"yt-simple-endpoint style-scope ytd-grid-playlist-renderer\" href=\"https://www.youtube.com/watch?v=sRDKpKHgz5k&amp;list=PLNqZkUmdsK5lOXXwML5OwT5GEbG0A_xKS\" id=\"video-title\" title=\"Rancangan Yang Lama Dijunjung\">Rancangan Yang Lama Dijunjung</a>]"
      ]
     },
     "execution_count": 6,
     "metadata": {},
     "output_type": "execute_result"
    }
   ],
   "source": [
    "videos"
   ]
  },
  {
   "cell_type": "code",
   "execution_count": 18,
   "id": "large-universe",
   "metadata": {},
   "outputs": [
    {
     "data": {
      "text/plain": [
       "8568"
      ]
     },
     "execution_count": 18,
     "metadata": {},
     "output_type": "execute_result"
    }
   ],
   "source": [
    "len(filtered_videos)"
   ]
  },
  {
   "cell_type": "code",
   "execution_count": 21,
   "id": "wrong-trademark",
   "metadata": {},
   "outputs": [],
   "source": [
    "with open('youtube-htm.json', 'w') as fopen:\n",
    "    json.dump(filtered_videos, fopen)"
   ]
  }
 ],
 "metadata": {
  "kernelspec": {
   "display_name": "Python 3",
   "language": "python",
   "name": "python3"
  },
  "language_info": {
   "codemirror_mode": {
    "name": "ipython",
    "version": 3
   },
   "file_extension": ".py",
   "mimetype": "text/x-python",
   "name": "python",
   "nbconvert_exporter": "python",
   "pygments_lexer": "ipython3",
   "version": "3.7.7"
  }
 },
 "nbformat": 4,
 "nbformat_minor": 5
}

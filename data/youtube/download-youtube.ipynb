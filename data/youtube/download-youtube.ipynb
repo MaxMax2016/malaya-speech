{
 "cells": [
  {
   "cell_type": "code",
   "execution_count": null,
   "metadata": {},
   "outputs": [],
   "source": [
    "from glob import glob\n",
    "import youtube_dl\n",
    "import os\n",
    "from tqdm import tqdm\n",
    "\n",
    "ydl_opts = {\n",
    "    'format': 'bestaudio/best',\n",
    "    'postprocessors': [{\n",
    "        'key': 'FFmpegExtractAudio',\n",
    "        'preferredcodec': 'mp3',\n",
    "        'preferredquality': '128',\n",
    "    }],\n",
    "    'no-check-certificate': True,\n",
    "    'quiet': True,\n",
    "}"
   ]
  },
  {
   "cell_type": "code",
   "execution_count": null,
   "metadata": {},
   "outputs": [],
   "source": [
    "# !pip3 uninstall youtube-dl -y\n",
    "# !pip3 install git+https://github.com/ytdl-org/youtube-dl"
   ]
  },
  {
   "cell_type": "code",
   "execution_count": null,
   "metadata": {},
   "outputs": [],
   "source": [
    "!rm 'Didi_&_Friends_-_Lagu_Kanak_Kanak_-_YouTube-filtered.json'"
   ]
  },
  {
   "cell_type": "code",
   "execution_count": null,
   "metadata": {},
   "outputs": [],
   "source": [
    "import json\n",
    "\n",
    "files = glob('*.json')\n",
    "files = [f for f in files if 'Didi' not in f and 'studios' not in f.lower()]\n",
    "files = [f for f in files if 'Copaque' not in f and 'Ali' not in f]\n",
    "files = files + glob('*.filtered')\n",
    "files"
   ]
  },
  {
   "cell_type": "code",
   "execution_count": null,
   "metadata": {},
   "outputs": [],
   "source": [
    "data = {}\n",
    "for f in files:\n",
    "    with open(f) as fopen:\n",
    "        data.update(json.load(fopen))\n",
    "        \n",
    "len(data)"
   ]
  },
  {
   "cell_type": "code",
   "execution_count": null,
   "metadata": {},
   "outputs": [],
   "source": [
    "# import json\n",
    "\n",
    "# with open('Bing_-_Bahasa_Melayu_-_YouTube.json') as fopen:\n",
    "#     data = json.load(fopen)"
   ]
  },
  {
   "cell_type": "code",
   "execution_count": null,
   "metadata": {},
   "outputs": [],
   "source": [
    "# urls = list(set(list(data.values())))\n",
    "# len(urls)"
   ]
  },
  {
   "cell_type": "code",
   "execution_count": null,
   "metadata": {},
   "outputs": [],
   "source": [
    "# with open('ML_Studios_-_YouTube.json') as fopen:\n",
    "#     data = json.load(fopen)\n",
    "    \n",
    "# with open('ml-studios.json') as fopen:\n",
    "#     data = {**data, **json.load(fopen)}\n",
    "    \n",
    "# len(data)"
   ]
  },
  {
   "cell_type": "code",
   "execution_count": null,
   "metadata": {},
   "outputs": [],
   "source": [
    "urls = list(set(list(data.values())))\n",
    "len(urls)"
   ]
  },
  {
   "cell_type": "code",
   "execution_count": null,
   "metadata": {},
   "outputs": [],
   "source": [
    "!du -hs audio"
   ]
  },
  {
   "cell_type": "code",
   "execution_count": null,
   "metadata": {},
   "outputs": [],
   "source": [
    "# new_urls = []\n",
    "# for f in glob('*.txt'):\n",
    "#     with open(f) as fopen:\n",
    "#         data = fopen.read().split('\\n')\n",
    "#         data = list(filter(None, data))\n",
    "#         new_urls.extend(data)"
   ]
  },
  {
   "cell_type": "code",
   "execution_count": null,
   "metadata": {},
   "outputs": [],
   "source": [
    "with youtube_dl.YoutubeDL(ydl_opts) as ydl:\n",
    "    for url in tqdm(urls):\n",
    "        try:\n",
    "            info = ydl.extract_info(url, download=False)\n",
    "            filename = ydl.prepare_filename(info).replace('.m4a', '.mp3')\n",
    "            if os.path.exists(filename):\n",
    "                continue\n",
    "            ydl.download([url])\n",
    "        except Exception as e:\n",
    "            print(e)"
   ]
  },
  {
   "cell_type": "code",
   "execution_count": 1,
   "metadata": {},
   "outputs": [
    {
     "name": "stdout",
     "output_type": "stream",
     "text": [
      "mkdir: cannot create directory ‘audio’: File exists\r\n"
     ]
    }
   ],
   "source": [
    "!mkdir audio\n",
    "!mv *.mp3 audio"
   ]
  },
  {
   "cell_type": "code",
   "execution_count": null,
   "metadata": {},
   "outputs": [],
   "source": []
  }
 ],
 "metadata": {
  "kernelspec": {
   "display_name": "Python 3 (ipykernel)",
   "language": "python",
   "name": "python3"
  },
  "language_info": {
   "codemirror_mode": {
    "name": "ipython",
    "version": 3
   },
   "file_extension": ".py",
   "mimetype": "text/x-python",
   "name": "python",
   "nbconvert_exporter": "python",
   "pygments_lexer": "ipython3",
   "version": "3.8.10"
  }
 },
 "nbformat": 4,
 "nbformat_minor": 4
}

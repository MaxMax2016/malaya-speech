{
 "cells": [
  {
   "cell_type": "code",
   "execution_count": 1,
   "metadata": {},
   "outputs": [],
   "source": [
    "from bs4 import BeautifulSoup"
   ]
  },
  {
   "cell_type": "code",
   "execution_count": 2,
   "metadata": {},
   "outputs": [],
   "source": [
    "with open('Farit Ismeth Emir - YouTube.html') as fopen:\n",
    "    htm = fopen.read()\n",
    "    \n",
    "bs = BeautifulSoup(htm)"
   ]
  },
  {
   "cell_type": "code",
   "execution_count": 3,
   "metadata": {},
   "outputs": [
    {
     "data": {
      "text/plain": [
       "279"
      ]
     },
     "execution_count": 3,
     "metadata": {},
     "output_type": "execute_result"
    }
   ],
   "source": [
    "videos = bs.find_all('a', {'id': 'video-title'})\n",
    "len(videos)"
   ]
  },
  {
   "cell_type": "code",
   "execution_count": 5,
   "metadata": {},
   "outputs": [
    {
     "data": {
      "text/plain": [
       "<a aria-label=\"20  APR 2020 BERITA PERDANA-ALLAHYARHAM FARID ISMETH GURU &amp; IDOLA RAKAN-RAKAN by Berita RTM 1 year ago 4 minutes, 17 seconds 29,098 views\" class=\"yt-simple-endpoint style-scope ytd-video-renderer\" href=\"https://www.youtube.com/watch?v=7o9_ycRAgBs\" id=\"video-title\" title=\"20  APR 2020 BERITA PERDANA-ALLAHYARHAM FARID ISMETH GURU &amp; IDOLA RAKAN-RAKAN\">\n",
       "<yt-icon class=\"style-scope ytd-video-renderer\" hidden=\"\" id=\"inline-title-icon\"><!--css-build:shady--></yt-icon>\n",
       "<yt-formatted-string aria-label=\"20  APR 2020 BERITA PERDANA-ALLAHYARHAM FARID ISMETH GURU &amp; IDOLA RAKAN-RAKAN by Berita RTM 1 year ago 4 minutes, 17 seconds 29,098 views\" class=\"style-scope ytd-video-renderer\">20  APR 2020 BERITA PERDANA-ALLAHYARHAM FARID ISMETH GURU &amp; IDOLA RAKAN-RAKAN</yt-formatted-string>\n",
       "</a>"
      ]
     },
     "execution_count": 5,
     "metadata": {},
     "output_type": "execute_result"
    }
   ],
   "source": [
    "videos[1]"
   ]
  },
  {
   "cell_type": "code",
   "execution_count": 6,
   "metadata": {},
   "outputs": [
    {
     "data": {
      "text/plain": [
       "257"
      ]
     },
     "execution_count": 6,
     "metadata": {},
     "output_type": "execute_result"
    }
   ],
   "source": [
    "filtered_videos = {}\n",
    "for video in videos:\n",
    "    label = video.get('title')\n",
    "    filtered_videos[label] = video.get('href')\n",
    "        \n",
    "len(filtered_videos)"
   ]
  },
  {
   "cell_type": "code",
   "execution_count": 7,
   "metadata": {},
   "outputs": [],
   "source": [
    "import json\n",
    "\n",
    "with open('farit-ismeth.json', 'w') as fopen:\n",
    "    json.dump(filtered_videos, fopen)"
   ]
  }
 ],
 "metadata": {
  "kernelspec": {
   "display_name": "Python 3",
   "language": "python",
   "name": "python3"
  },
  "language_info": {
   "codemirror_mode": {
    "name": "ipython",
    "version": 3
   },
   "file_extension": ".py",
   "mimetype": "text/x-python",
   "name": "python",
   "nbconvert_exporter": "python",
   "pygments_lexer": "ipython3",
   "version": "3.7.7"
  }
 },
 "nbformat": 4,
 "nbformat_minor": 2
}

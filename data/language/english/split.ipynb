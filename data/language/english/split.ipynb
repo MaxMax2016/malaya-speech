{
 "cells": [
  {
   "cell_type": "code",
   "execution_count": 10,
   "metadata": {},
   "outputs": [
    {
     "data": {
      "text/plain": [
       "936"
      ]
     },
     "execution_count": 10,
     "metadata": {},
     "output_type": "execute_result"
    }
   ],
   "source": [
    "from glob import glob\n",
    "\n",
    "mp3s = list(set(glob('*.mp3')))\n",
    "len(mp3s)"
   ]
  },
  {
   "cell_type": "code",
   "execution_count": 3,
   "metadata": {},
   "outputs": [],
   "source": [
    "!rm -rf clean-wav\n",
    "!mkdir clean-wav"
   ]
  },
  {
   "cell_type": "code",
   "execution_count": null,
   "metadata": {},
   "outputs": [],
   "source": [
    "!cp ../mp.py ."
   ]
  },
  {
   "cell_type": "code",
   "execution_count": 4,
   "metadata": {},
   "outputs": [],
   "source": [
    "from pydub import AudioSegment\n",
    "from tqdm import tqdm\n",
    "import os"
   ]
  },
  {
   "cell_type": "code",
   "execution_count": 5,
   "metadata": {},
   "outputs": [
    {
     "data": {
      "text/plain": [
       "('',\n",
       " 'The Insane Benefits of Water-Only Fasting - Dr. Alan Goldhamer _ Rich Roll Podcast-yaWVflQolmM.mp3')"
      ]
     },
     "execution_count": 5,
     "metadata": {},
     "output_type": "execute_result"
    }
   ],
   "source": [
    "os.path.split(mp3s[0])"
   ]
  },
  {
   "cell_type": "code",
   "execution_count": 6,
   "metadata": {},
   "outputs": [],
   "source": [
    "def loop(mp3s):\n",
    "    mp3s = mp3s[0]\n",
    "    for f in tqdm(mp3s):\n",
    "        try:\n",
    "            replace = f.replace(' ', '-').replace('--', '_').replace('.mp3', '')\n",
    "            os.system(f'ffmpeg -ss {60 * 5} -i \"{f}\" -f segment -segment_time {60 * 10}  -c copy \"{replace}-part-%03d.mp3\"')\n",
    "            globed = glob(f'{replace}*')\n",
    "            for g in globed:\n",
    "                audio = AudioSegment.from_mp3(g)\n",
    "                audio.set_frame_rate(16000).set_channels(1).export(f\"clean-wav/{g.replace('.mp3','.wav')}\", format = 'wav')            \n",
    "        except Exception as e:\n",
    "            print(f, e)"
   ]
  },
  {
   "cell_type": "code",
   "execution_count": 7,
   "metadata": {},
   "outputs": [
    {
     "name": "stderr",
     "output_type": "stream",
     "text": [
      "100%|██████████| 7/7 [08:51<00:00, 75.87s/it]]\n",
      "100%|██████████| 7/7 [08:57<00:00, 76.72s/it] \n",
      "100%|██████████| 7/7 [09:52<00:00, 84.66s/it] \n",
      "100%|██████████| 7/7 [11:53<00:00, 101.87s/it]\n",
      "100%|██████████| 7/7 [13:28<00:00, 115.51s/it]\n",
      "100%|██████████| 3/3 [06:39<00:00, 133.14s/it]\n"
     ]
    }
   ],
   "source": [
    "from mp import multiprocessing\n",
    "\n",
    "multiprocessing(mp3s, loop, cores = 5, returned = False)"
   ]
  },
  {
   "cell_type": "code",
   "execution_count": 8,
   "metadata": {},
   "outputs": [],
   "source": [
    "!rm *-part-*.mp3"
   ]
  },
  {
   "cell_type": "code",
   "execution_count": null,
   "metadata": {},
   "outputs": [],
   "source": []
  }
 ],
 "metadata": {
  "kernelspec": {
   "display_name": "Python 3",
   "language": "python",
   "name": "python3"
  },
  "language_info": {
   "codemirror_mode": {
    "name": "ipython",
    "version": 3
   },
   "file_extension": ".py",
   "mimetype": "text/x-python",
   "name": "python",
   "nbconvert_exporter": "python",
   "pygments_lexer": "ipython3",
   "version": "3.6.9"
  }
 },
 "nbformat": 4,
 "nbformat_minor": 4
}

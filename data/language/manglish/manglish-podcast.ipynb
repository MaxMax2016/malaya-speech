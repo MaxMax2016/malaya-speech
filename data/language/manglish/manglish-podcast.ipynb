{
 "cells": [
  {
   "cell_type": "code",
   "execution_count": 1,
   "metadata": {},
   "outputs": [
    {
     "data": {
      "text/plain": [
       "224"
      ]
     },
     "execution_count": 1,
     "metadata": {},
     "output_type": "execute_result"
    }
   ],
   "source": [
    "videos = \"\"\"\n",
    "\n",
    "https://www.youtube.com/watch?v=4CSV7cIXAS8&ab_channel=TheSmartLocal\n",
    "\n",
    "https://www.youtube.com/watch?v=-SibiwunZ14&ab_channel=SneakySushii\n",
    "\n",
    "https://www.youtube.com/watch?v=kO9uBkW_OIA&ab_channel=SneakySushii\n",
    "\n",
    "https://www.youtube.com/watch?v=li1bIAhRp_I&ab_channel=SneakySushii\n",
    "\n",
    "https://www.youtube.com/watch?v=Nk9AzEx3rU8&ab_channel=WORLDOFBUZZ\n",
    "\n",
    "https://www.youtube.com/watch?v=CceSkvU4sUM&ab_channel=JianHaoTan\n",
    "\n",
    "https://www.youtube.com/watch?v=ieZwYjMcP20&ab_channel=TheMingThing\n",
    "\n",
    "https://www.youtube.com/watch?v=qQyjWXTGkcM&ab_channel=BertVaux\n",
    "\n",
    "https://www.youtube.com/watch?v=F15a-MH_Hzg&t=1290s&ab_channel=TheThirstySisters\n",
    "\n",
    "https://www.youtube.com/watch?v=-mAdHcMGmEs&t=996s&ab_channel=JinnyboyTVHangouts\n",
    "\n",
    "https://www.youtube.com/watch?v=WnipnOcDkx8\n",
    "\n",
    "https://www.youtube.com/watch?v=fzuKoKTxfEs\n",
    "\n",
    "https://www.youtube.com/watch?v=Hioy9UvH4yE\n",
    "\n",
    "https://www.youtube.com/watch?v=98CiTQQtqak\n",
    "\n",
    "https://www.youtube.com/watch?v=HKnXUGo_H2U\n",
    "\n",
    "https://www.youtube.com/watch?v=3-DoQSmz5aI\n",
    "\n",
    "https://www.youtube.com/watch?v=ViJXVHWTRz8\n",
    "\n",
    "https://www.youtube.com/watch?v=XLV720mng6w\n",
    "\n",
    "https://www.youtube.com/watch?v=gvPiF-zXur4\n",
    "\n",
    "https://www.youtube.com/watch?v=mIc0MmSoaiI\n",
    "\n",
    "https://www.youtube.com/watch?v=oW3yttdKVm0\n",
    "\n",
    "https://www.youtube.com/watch?v=zHC1MPeSP34\n",
    "\n",
    "https://www.youtube.com/watch?v=6i8PG2cTAUU\n",
    "\n",
    "https://www.youtube.com/watch?v=gvPiF-zXur4\n",
    "\n",
    "https://www.youtube.com/watch?v=mIc0MmSoaiI\n",
    "\n",
    "https://www.youtube.com/watch?v=oW3yttdKVm0\n",
    "\n",
    "https://www.youtube.com/watch?v=zHC1MPeSP34\n",
    "\n",
    "https://www.youtube.com/watch?v=6i8PG2cTAUU\n",
    "\n",
    "https://www.youtube.com/watch?v=8DMyfcjyrZQ\n",
    "\n",
    "https://www.youtube.com/watch?v=rkwCky94IhQ\n",
    "\n",
    "https://www.youtube.com/watch?v=Y6RYZpbANJI&t=1451s\n",
    "\n",
    "https://www.youtube.com/watch?v=oJPtCCTzs_o\n",
    "\n",
    "https://www.youtube.com/watch?v=O_rK97AUOIA\n",
    "\n",
    "https://www.youtube.com/watch?v=ekKcn3QCU5E\n",
    "\n",
    "https://www.youtube.com/watch?v=OZMsLGKDv14\n",
    "\n",
    "https://www.youtube.com/watch?v=TxeBIVuXRHM\n",
    "\n",
    "https://www.youtube.com/watch?v=Q54z0mutz5Q&ab_channel=JinnyboyTVHangouts\n",
    "\n",
    "https://www.youtube.com/watch?v=ZcVRJSDCof0\n",
    "\n",
    "https://www.youtube.com/watch?v=te2Be5GNNys\n",
    "\n",
    "https://www.youtube.com/watch?v=jcvIfHTy1H0&t=1148s\n",
    "\n",
    "https://www.youtube.com/watch?v=O19y2ZG8Y-k&t=1464s\n",
    "\n",
    "https://www.youtube.com/watch?v=qVpcfmZF1oY\n",
    "\n",
    "https://www.youtube.com/watch?v=L2W4inT6j3c\n",
    "\n",
    "https://www.youtube.com/watch?v=g3iwaxDKQGQ&t=1940s\n",
    "\n",
    "https://www.youtube.com/watch?v=XldSJLh8kMk&t=592s\n",
    "\n",
    "https://www.youtube.com/watch?v=shr5NaEWQqk\n",
    "\n",
    "https://www.youtube.com/watch?v=6Oq9APAIYLg\n",
    "\n",
    "https://www.youtube.com/watch?v=TJjJ1MqyUpQ\n",
    "\n",
    "https://www.youtube.com/watch?v=Ra_xW9MwRKQ&t=894s\n",
    "\n",
    "https://www.youtube.com/watch?v=x8Gl_zIC9CQ\n",
    "\n",
    "https://www.youtube.com/watch?v=QLz7USNFnng\n",
    "\n",
    "https://www.youtube.com/watch?v=vshZhU5dbto\n",
    "\n",
    "https://www.youtube.com/watch?v=skGDf57Q9xs\n",
    "\n",
    "https://www.youtube.com/watch?v=r6f3OoHVkgU\n",
    "\n",
    "https://www.youtube.com/watch?v=Zz3NcuK7QHM&ab_channel=AlastairPang\n",
    "\n",
    "https://www.youtube.com/watch?v=NZXHVJEkxm8\n",
    "\n",
    "https://www.youtube.com/watch?v=ezFAYdIwu_8&ab_channel=AlastairPang\n",
    "\n",
    "https://www.youtube.com/watch?v=ZDloTzTfenM&ab_channel=TEAMTITAN\n",
    "\n",
    "https://www.youtube.com/watch?v=Hioy9UvH4yE\n",
    "\n",
    "https://www.youtube.com/watch?v=-L7y6_6Ar4s\n",
    "\n",
    "https://www.youtube.com/watch?v=gW9sv26g4Io\n",
    "\n",
    "https://www.youtube.com/watch?v=T218uk6pi4E\n",
    "\n",
    "https://www.youtube.com/watch?v=281TVct4AvE\n",
    "\n",
    "https://www.youtube.com/watch?v=luGvazsVsHc\n",
    "\n",
    "https://www.youtube.com/watch?v=q6EyuUemq5U\n",
    "\n",
    "https://www.youtube.com/watch?v=r8sUO3VXPks\n",
    "\n",
    "https://www.youtube.com/watch?v=LsV8tnGSPEQ\n",
    "\n",
    "https://www.youtube.com/watch?v=ezYaMrChz4M&ab_channel=AlastairPang\n",
    "\n",
    "https://www.youtube.com/watch?v=U4dYpNf8oWY\n",
    "\n",
    "https://www.youtube.com/watch?v=e4mNzKOZrJ0\n",
    "\n",
    "https://www.youtube.com/watch?v=R7nCJrdRWyc\n",
    "\n",
    "https://www.youtube.com/watch?v=7izYax1bCwg\n",
    "\n",
    "https://www.youtube.com/watch?v=1EqlSuT6vUY\n",
    "\n",
    "https://www.youtube.com/watch?v=kbOrRjEDnDU\n",
    "\n",
    "https://www.youtube.com/watch?v=V2k9OWeTX84\n",
    "\n",
    "https://www.youtube.com/watch?v=kmDb6Q-afPc\n",
    "\n",
    "https://www.youtube.com/watch?v=roNgntnM3EI\n",
    "\n",
    "https://www.youtube.com/watch?v=OYasARh1cBQ\n",
    "\n",
    "https://www.youtube.com/watch?v=6RWRMNiBpJA\n",
    "\n",
    "https://www.youtube.com/watch?v=nMQZmuINIDk\n",
    "\n",
    "https://www.youtube.com/watch?v=-L7y6_6Ar4s\n",
    "\n",
    "https://www.youtube.com/watch?v=NZXHVJEkxm8\n",
    "\n",
    "https://www.youtube.com/watch?v=C3U2AtbBjHY\n",
    "\n",
    "https://www.youtube.com/watch?v=9SKGSMRpymc\n",
    "\n",
    "https://www.youtube.com/watch?v=h1v-4x0YP70\n",
    "\n",
    "https://www.youtube.com/watch?v=TqLaI2X4jj0\n",
    "\n",
    "https://www.youtube.com/watch?v=745rfUlGzgM\n",
    "\n",
    "https://www.youtube.com/watch?v=BHF0ift4aRA\n",
    "\n",
    "https://www.youtube.com/watch?v=LsV8tnGSPEQ\n",
    "\n",
    "https://www.youtube.com/watch?v=r8sUO3VXPks\n",
    "\n",
    "https://www.youtube.com/watch?v=b9YHjghfd2E&ab_channel=watermelon\n",
    "\n",
    "https://www.youtube.com/watch?v=vpaZHhpn8CY&ab_channel=watermelon\n",
    "\n",
    "https://www.youtube.com/watch?v=rjjK4aAbKnw\n",
    "\n",
    "https://www.youtube.com/watch?v=TYL7mmbpsbo\n",
    "\n",
    "https://www.youtube.com/watch?v=-2d7wzvNOCE\n",
    "\n",
    "https://www.youtube.com/watch?v=f7qEqPNzGk8\n",
    "\n",
    "https://www.youtube.com/watch?v=v-RunsFvf8o\n",
    "\n",
    "https://www.youtube.com/watch?v=cs2LkcSpNpw\n",
    "\n",
    "https://www.youtube.com/watch?v=vKpmE4ZFnGE\n",
    "\n",
    "https://www.youtube.com/watch?v=YtCn4hNLk7o\n",
    "\n",
    "https://www.youtube.com/watch?v=attPdWb6UVo\n",
    "\n",
    "https://www.youtube.com/watch?v=8QNgzWcc7U4\n",
    "\n",
    "https://www.youtube.com/watch?v=LXSNbZF9ag4\n",
    "\n",
    "https://www.youtube.com/watch?v=alUMLUEUdCM\n",
    "\n",
    "https://www.youtube.com/watch?v=sT3vpK8npYk\n",
    "\n",
    "https://www.youtube.com/watch?v=uaSWgcKn0RM\n",
    "\n",
    "https://www.youtube.com/watch?v=OpDeoZzKHBM\n",
    "\n",
    "https://www.youtube.com/watch?v=jzUidmnXGu8\n",
    "\n",
    "https://www.youtube.com/watch?v=cSxV6oacgaE\n",
    "\n",
    "https://www.youtube.com/watch?v=myPdnyUGvUk\n",
    "\n",
    "https://www.youtube.com/watch?v=YaeQ27BgUN0\n",
    "\n",
    "https://www.youtube.com/watch?v=JyAEITJk1AI\n",
    "\n",
    "https://www.youtube.com/watch?v=hi4MpQZVzYY\n",
    "\n",
    "https://www.youtube.com/watch?v=m1kmhgWoQVE\n",
    "\n",
    "https://www.youtube.com/watch?v=50EHWNk7aBc\n",
    "\n",
    "https://www.youtube.com/watch?v=2hHAMAA614w&ab_channel=TEAMTITAN\n",
    "\n",
    "https://www.youtube.com/watch?v=8QhPCqS5aBA\n",
    "\n",
    "https://www.youtube.com/watch?v=RBShCX3-BtQ&t=1099s\n",
    "https://www.youtube.com/watch?v=WnipnOcDkx8\n",
    "https://www.youtube.com/watch?v=fzuKoKTxfEs\n",
    "https://www.youtube.com/watch?v=Hioy9UvH4yE\n",
    "https://www.youtube.com/watch?v=98CiTQQtqak\n",
    "https://www.youtube.com/watch?v=HKnXUGo_H2U\n",
    "https://www.youtube.com/watch?v=F15a-MH_Hzg&t=1142s\n",
    "https://www.youtube.com/watch?v=3-DoQSmz5aI\n",
    "https://www.youtube.com/watch?v=ViJXVHWTRz8&t=1649s\n",
    "https://www.youtube.com/watch?v=XLV720mng6w\n",
    "https://www.youtube.com/watch?v=gvPiF-zXur4\n",
    "https://www.youtube.com/watch?v=mIc0MmSoaiI\n",
    "https://www.youtube.com/watch?v=oW3yttdKVm0\n",
    "https://www.youtube.com/watch?v=zHC1MPeSP34\n",
    "https://www.youtube.com/watch?v=6i8PG2cTAUU\n",
    "https://www.youtube.com/watch?v=8DMyfcjyrZQ&t=756s\n",
    "https://www.youtube.com/watch?v=rkwCky94IhQ\n",
    "https://www.youtube.com/watch?v=Y6RYZpbANJI&t=1451s\n",
    "https://www.youtube.com/watch?v=oJPtCCTzs_o\n",
    "https://www.youtube.com/watch?v=O_rK97AUOIA\n",
    "https://www.youtube.com/watch?v=Jw7B8efygWI\n",
    "https://www.youtube.com/watch?v=TxeBIVuXRHM\n",
    "https://www.youtube.com/watch?v=EYBSXaK3cjI\n",
    "https://www.youtube.com/watch?v=ekKcn3QCU5E\n",
    "https://www.youtube.com/watch?v=OZMsLGKDv14\n",
    "https://www.youtube.com/watch?v=jJN0vH42wcs\n",
    "https://www.youtube.com/watch?v=Q54z0mutz5Q&t=321s\n",
    "https://www.youtube.com/watch?v=ZcVRJSDCof0\n",
    "https://www.youtube.com/watch?v=te2Be5GNNys&t=1915s\n",
    "https://www.youtube.com/watch?v=jcvIfHTy1H0&t=1148s\n",
    "https://www.youtube.com/watch?v=O19y2ZG8Y-k&t=1464s\n",
    "https://www.youtube.com/watch?v=5zAsyNKfzps\n",
    "https://www.youtube.com/watch?v=qVpcfmZF1oY\n",
    "https://www.youtube.com/watch?v=L2W4inT6j3c\n",
    "https://www.youtube.com/watch?v=g3iwaxDKQGQ&t=1940s\n",
    "https://www.youtube.com/watch?v=XldSJLh8kMk&t=592s\n",
    "https://www.youtube.com/watch?v=DFFHEbk_iYs&t=1158s\n",
    "https://www.youtube.com/watch?v=x8Gl_zIC9CQ\n",
    "https://www.youtube.com/watch?v=QLz7USNFnng\n",
    "https://www.youtube.com/watch?v=vshZhU5dbto\n",
    "https://www.youtube.com/watch?v=skGDf57Q9xs\n",
    "https://www.youtube.com/watch?v=r6f3OoHVkgU\n",
    "https://www.youtube.com/watch?v=QxVzXbS1WFE\n",
    "https://www.youtube.com/watch?v=WJkSAHvYyqk\n",
    "https://www.youtube.com/watch?v=FFtFXiIgsyk\n",
    "https://www.youtube.com/watch?v=Cq6Yjwsu63U\n",
    "https://www.youtube.com/watch?v=FcD9MpeWqEI\n",
    "https://www.youtube.com/watch?v=79ax7ZQss5M\n",
    "https://www.youtube.com/watch?v=Wyb6i3GoJv4\n",
    "https://www.youtube.com/watch?v=I2BaN8cm6NY\n",
    "https://www.youtube.com/watch?v=ZJ8jw3C9vB8\n",
    "https://www.youtube.com/watch?v=PazCOj1nb3c\n",
    "https://www.youtube.com/watch?v=XMx9tqwzQS4\n",
    "https://www.youtube.com/watch?v=sZFykBDVjOI\n",
    "https://www.youtube.com/watch?v=NqCp8Csl7PE\n",
    "https://www.youtube.com/watch?v=zLEmAKdG9vY\n",
    "https://www.youtube.com/watch?v=IAeN0jG9Hwc\n",
    "https://www.youtube.com/watch?v=0jySfrZhs50\n",
    "https://www.youtube.com/watch?v=CXnW4hJDp54\n",
    "https://www.youtube.com/watch?v=Rkvd5p3I11M\n",
    "https://www.youtube.com/watch?v=PRN5UrsDF6w\n",
    "https://www.youtube.com/watch?v=RlejfOWnKgQ\n",
    "https://www.youtube.com/watch?v=FNfbmh93DFo\n",
    "https://www.youtube.com/watch?v=nGnyZ5c00Mo\n",
    "https://www.youtube.com/watch?v=EHlGktcfDZc\n",
    "https://www.youtube.com/watch?v=HkOQy1Nxpis&t=1571s\n",
    "https://www.youtube.com/watch?v=m7mwwtsblIs\n",
    "https://www.youtube.com/watch?v=-mAdHcMGmEs&t=92s\n",
    "https://www.youtube.com/watch?v=IixUPM11VMY\n",
    "https://www.youtube.com/watch?v=n3AR3nQEc7Y\n",
    "https://www.youtube.com/watch?v=OWbPqC2i71c\n",
    "https://www.youtube.com/watch?v=670FyeJhnps\n",
    "https://www.youtube.com/watch?v=8LuihYdx0FQ\n",
    "https://www.youtube.com/watch?v=1av_p0DPDas\n",
    "https://www.youtube.com/watch?v=Jn2oeTajYCw\n",
    "https://www.youtube.com/watch?v=2M8U_mxGbcw&ab_channel=JinnyboyTVHangouts\n",
    "https://www.youtube.com/watch?v=7_-4TXv6pvY\n",
    "https://www.youtube.com/watch?v=rMpf5j7683M\n",
    "https://www.youtube.com/watch?v=lfoBmafO37A\n",
    "https://www.youtube.com/watch?v=wnxWhWRk4Sc\n",
    "https://www.youtube.com/watch?v=Zz3NcuK7QHM&t=175s\n",
    "https://www.youtube.com/watch?v=X4QapKCCneQ\n",
    "https://www.youtube.com/watch?v=281TVct4AvE\n",
    "https://www.youtube.com/watch?v=T218uk6pi4E&t=1097s\n",
    "https://www.youtube.com/watch?v=3pImfMhLYhA\n",
    "https://www.youtube.com/watch?v=luGvazsVsHc&t=1839s\n",
    "https://www.youtube.com/watch?v=6syqXC_o6gs\n",
    "https://www.youtube.com/watch?v=rMpf5j7683M\n",
    "https://www.youtube.com/watch?v=lfoBmafO37A\n",
    "https://www.youtube.com/watch?v=wnxWhWRk4Sc\n",
    "https://www.youtube.com/watch?v=LsV8tnGSPEQ\n",
    "https://www.youtube.com/watch?v=BHF0ift4aRA\n",
    "https://www.youtube.com/watch?v=745rfUlGzgM\n",
    "https://www.youtube.com/watch?v=TqLaI2X4jj0\n",
    "https://www.youtube.com/watch?v=9SKGSMRpymc\n",
    "https://www.youtube.com/watch?v=C3U2AtbBjHY\n",
    "https://www.youtube.com/watch?v=NZXHVJEkxm8\n",
    "https://www.youtube.com/watch?v=-L7y6_6Ar4s\n",
    "https://www.youtube.com/watch?v=6RWRMNiBpJA\n",
    "https://www.youtube.com/watch?v=7izYax1bCwg\n",
    "https://www.youtube.com/watch?v=ezYaMrChz4M&t=2265s\n",
    "https://www.youtube.com/watch?v=e4mNzKOZrJ0\n",
    "https://www.youtube.com/watch?v=R7nCJrdRWyc\n",
    "https://www.youtube.com/watch?v=V2k9OWeTX84\n",
    "https://www.youtube.com/watch?v=kbOrRjEDnDU\n",
    "https://www.youtube.com/watch?v=1EqlSuT6vUY\n",
    "https://www.youtube.com/watch?v=ezFAYdIwu_8&t=4264s\n",
    "https://www.youtube.com/watch?v=U4dYpNf8oWY\n",
    "https://www.youtube.com/watch?v=e4mNzKOZrJ0\n",
    "https://www.youtube.com/watch?v=eXpirKKPBUA\n",
    "https://www.youtube.com/watch?v=5cG8wHdaKIU\n",
    "https://www.youtube.com/watch?v=EjzkQeWKwQw\n",
    "https://www.youtube.com/watch?v=adq-khQo2eQ\n",
    "https://www.youtube.com/watch?v=xsjayMqoC0Y\n",
    "https://www.youtube.com/watch?v=aa5r9pws0AI\n",
    "https://www.youtube.com/watch?v=NCiDUw4mQgE\n",
    "https://www.youtube.com/watch?v=6K1feeFnKpQ\n",
    "https://www.youtube.com/watch?v=7wiSVCBFmFc\n",
    "https://www.youtube.com/watch?v=N5EfPvQKW90\t\n",
    "https://www.youtube.com/watch?v=iugevNPFp2Y\n",
    "https://www.youtube.com/watch?v=fgaCmnMdZ0c\n",
    "https://www.youtube.com/watch?v=UryaihXnjBk\n",
    "https://www.youtube.com/watch?v=lvIbeZ3qgsU\n",
    "https://www.youtube.com/watch?v=l6bf4RFE31o\n",
    "https://www.youtube.com/watch?v=7dPzh9PpLs8\n",
    "https://www.youtube.com/watch?v=HDuY9UdkkaE\n",
    "https://www.youtube.com/watch?v=-XwvfCTnseI\n",
    "https://www.youtube.com/watch?v=jhLgzHQnAHU\n",
    "https://www.youtube.com/watch?v=TzfCaQ8vUMc\n",
    "https://www.youtube.com/watch?v=Pkv6d83oe8s\n",
    "https://www.youtube.com/watch?v=woDYSE37_rI\n",
    "https://www.youtube.com/watch?v=3pKA5NvTCOA&t=1035s\n",
    "https://www.youtube.com/watch?v=shV1F1JlDzk\n",
    "https://www.youtube.com/watch?v=rxmMRAzLRJ0\n",
    "https://www.youtube.com/watch?v=Yv7uONh96tc\n",
    "https://www.youtube.com/watch?v=H4M_ZUDAT3k\n",
    "https://www.youtube.com/watch?v=dykz_vuzJh0&t=2554s\n",
    "https://www.youtube.com/watch?v=UWm1ESejkzs\n",
    "https://www.youtube.com/watch?v=otK3Gl_XX4c\n",
    "https://www.youtube.com/watch?v=xMm23vU8_og\n",
    "https://www.youtube.com/watch?v=mJuKUwFpDgI\n",
    "https://www.youtube.com/watch?v=_7Un0q6a9zg&t=1931s\n",
    "https://www.youtube.com/watch?v=3b0bYe36KNE\n",
    "https://www.youtube.com/watch?v=RqG0tHR9D1g\n",
    "https://www.youtube.com/watch?v=eWNQhDNoSsY\n",
    "https://www.youtube.com/watch?v=tdcjTfzYSbk\n",
    "https://www.youtube.com/watch?v=WSVo-qvu1GQ&t=1505s\n",
    "https://www.youtube.com/watch?v=lPnRg9UsP0M&t=2400s\n",
    "https://www.youtube.com/watch?v=vRnkHzyyBc4\n",
    "https://www.youtube.com/watch?v=6R87P6YD2c4&t=1061s\n",
    "https://www.youtube.com/watch?v=CSP1XPZu4YY\n",
    "https://www.youtube.com/watch?v=VlovwtVYuw0&t=619s\n",
    "https://www.youtube.com/watch?v=MCHDyLJDJrg&t=2610s\n",
    "https://www.youtube.com/watch?v=7byI9tIJeRk\n",
    "https://www.youtube.com/watch?v=gW9sv26g4Io\n",
    "https://www.youtube.com/watch?v=pFBohAGNYWU\n",
    "https://www.youtube.com/watch?v=8QhPCqS5aBA\n",
    "https://www.youtube.com/watch?v=hi4MpQZVzYY\n",
    "https://www.youtube.com/watch?v=ZDloTzTfenM&t=4143s\n",
    "https://www.youtube.com/watch?v=cSxV6oacgaE\n",
    "https://www.youtube.com/watch?v=myPdnyUGvUk\n",
    "https://www.youtube.com/watch?v=JyAEITJk1AI\n",
    "https://www.youtube.com/watch?v=YaeQ27BgUN0\n",
    "https://www.youtube.com/watch?v=OpDeoZzKHBM\n",
    "https://www.youtube.com/watch?v=jzUidmnXGu8\n",
    "https://www.youtube.com/watch?v=3mt-_JgTm2E\n",
    "https://www.youtube.com/watch?v=6yW185RJkGw\n",
    "https://www.youtube.com/watch?v=QIkOzfAcsmE&t=1783s\n",
    "https://www.youtube.com/watch?v=eFDcnTupdeQ\n",
    "https://www.youtube.com/watch?v=sT3vpK8npYk\n",
    "https://www.youtube.com/watch?v=uaSWgcKn0RM\n",
    "https://www.youtube.com/watch?v=BrYHWQ4xmSc\n",
    "https://www.youtube.com/watch?v=alUMLUEUdCM\n",
    "https://www.youtube.com/watch?v=LXSNbZF9ag4\n",
    "https://www.youtube.com/watch?v=8QNgzWcc7U4\n",
    "https://www.youtube.com/watch?v=5VpSUeWPEuo\n",
    "https://www.youtube.com/watch?v=YtCn4hNLk7o\n",
    "https://www.youtube.com/watch?v=attPdWb6UVo\n",
    "https://www.youtube.com/watch?v=Yzagxa4bn-M\n",
    "https://www.youtube.com/watch?v=vKpmE4ZFnGE\n",
    "https://www.youtube.com/watch?v=b9YHjghfd2E&t=4654s\n",
    "https://www.youtube.com/watch?v=cs2LkcSpNpw\n",
    "https://www.youtube.com/watch?v=v-RunsFvf8o\n",
    "https://www.youtube.com/watch?v=f7qEqPNzGk8\n",
    "https://www.youtube.com/watch?v=rjjK4aAbKnw\n",
    "https://www.youtube.com/watch?v=TYL7mmbpsbo\n",
    "https://www.youtube.com/watch?v=-2d7wzvNOCE\n",
    "https://www.youtube.com/watch?v=1FLelqfAyZU\n",
    "https://www.youtube.com/watch?v=HRd3RMQtkDs\n",
    "https://www.youtube.com/watch?v=5SOInBKNP18\n",
    "https://www.youtube.com/watch?v=ONUgGzCm00E\n",
    "https://www.youtube.com/watch?v=5t_yyrP2OdI\n",
    "\"\"\"\n",
    "videos = list(set(filter(None, videos.split('\\n'))))\n",
    "len(videos)"
   ]
  },
  {
   "cell_type": "code",
   "execution_count": 2,
   "metadata": {},
   "outputs": [],
   "source": [
    "import youtube_dl"
   ]
  },
  {
   "cell_type": "code",
   "execution_count": 5,
   "metadata": {},
   "outputs": [],
   "source": [
    "import mp\n",
    "from tqdm import tqdm\n",
    "\n",
    "def loop(urls):\n",
    "    urls = urls[0]\n",
    "    ydl_opts = {\n",
    "        'format': 'bestaudio/best',\n",
    "        'postprocessors': [{\n",
    "            'key': 'FFmpegExtractAudio',\n",
    "            'preferredcodec': 'mp3',\n",
    "            'preferredquality': '192',\n",
    "        }],\n",
    "        'no-check-certificate': True\n",
    "    }\n",
    "\n",
    "    for i in tqdm(range(len(urls))):\n",
    "        try:\n",
    "            with youtube_dl.YoutubeDL(ydl_opts) as ydl:\n",
    "                ydl.download([urls[i]])\n",
    "        except:\n",
    "            pass"
   ]
  },
  {
   "cell_type": "code",
   "execution_count": 6,
   "metadata": {},
   "outputs": [
    {
     "name": "stderr",
     "output_type": "stream",
     "text": [
      "  0%|          | 0/18 [00:00<?, ?it/s]"
     ]
    },
    {
     "name": "stdout",
     "output_type": "stream",
     "text": [
      "[youtube] CSP1XPZu4YY: Downloading webpage\n",
      "[youtube] 3pImfMhLYhA: Downloading webpage\n",
      "[youtube] ezFAYdIwu_8: Downloading webpage\n",
      "[youtube] vRnkHzyyBc4: Downloading webpage\n",
      "[youtube] Cq6Yjwsu63U: Downloading webpage\n",
      "[youtube] 50EHWNk7aBc: Downloading webpage\n",
      "[youtube] eXpirKKPBUA: Downloading webpage\n",
      "[youtube] 7izYax1bCwg: Downloading webpage\n",
      "[youtube] ZJ8jw3C9vB8: Downloading webpage\n",
      "[youtube] rMpf5j7683M: Downloading webpage\n",
      "[youtube] TJjJ1MqyUpQ: Downloading webpage\n",
      "[youtube] Nk9AzEx3rU8: Downloading webpage\n",
      "[youtube] eXpirKKPBUA: Downloading MPD manifest\n",
      "[download] Destination: The Fashion Weak Podcast Ep 43A - Keeping Fair On The Fairway With Natalia Ng-CSP1XPZu4YY.webm\n",
      "[download] Destination: Is Mulan Really That Bad _ IMO Ep.32-rMpf5j7683M.webm\n",
      "[download] Destination: University Survival Tips (ft. Daryl Goh) _ IMO Ep.26-3pImfMhLYhA.webm\n",
      "[download]   0.6% of 82.99MiB at  3.23MiB/s ETA 00:251[download] Destination: Living Alone In New York, Chasing Dreams And The Future _ HTHT - Xenia Tan-ezFAYdIwu_8.m4a\n",
      "[download]   2.0% of 50.34MiB at  7.74MiB/s ETA 00:06[download] Destination: Dance Moves To Pick Up Girls At The Club With Adidas Creator Maybelline Wong (@definitelyMayb_)-vRnkHzyyBc4.webm\n",
      "[download]   0.3% of 82.00MiB at  3.24MiB/s ETA 00:251[download] Destination: Mamak Sessions - Getting Married in Vegas, and Sugar Babies ft. Dennis Yin-Cq6Yjwsu63U.webm\n",
      "[download]  17.1% of 69.65MiB at 29.33MiB/s ETA 00:017nown ETA[download] Destination: How Trevmonki Joined Titan - Team Titan Show #1-50EHWNk7aBc.webm\n",
      "[download]   0.0% of 65.65MiB at 607.56KiB/s ETA 01:50[download] Destination: Mamak Sessions - Comparing Ourselves To Others and Overcoming Anxiety ft. Marianne Tan-TJjJ1MqyUpQ.webm\n",
      "[download]  12.2% of 83.06MiB at 22.91MiB/s ETA 00:03known ETA[download] Destination: Breaking Perspectives in Malaysia - Singaporeans-Nk9AzEx3rU8.webm\n",
      "[download]  23.9% of 41.39MiB at  3.88MiB/s ETA 00:08known ETA[download] Destination: Mamak Sessions - Are Social Media Influencers Entitled-ZJ8jw3C9vB8.webm\n",
      "[download] 100% of 3.49MiB in 00:00.41MiB/s ETA 00:004nown ETA\n",
      "[download]  11.9% of 82.99MiB at 488.56KiB/s ETA 02:33[dashsegments] Total fragments: 314\n",
      "[download]  12.0% of 82.99MiB at  1.49MiB/s ETA 00:487[download] Destination: MILF hunting with Audrey Ooi aka @fourfeetnine - The Fashion Weak Podcast Episode 1-eXpirKKPBUA.webm\n",
      "[download]  42.8% of 69.65MiB at 50.47MiB/s ETA 00:0013[download] Destination: Should Influencers Be Expected To Do More For Society (ft. Celeste Loh) _ IMO Ep.4-7izYax1bCwg.m4a\n",
      "[download]  42.8% of 69.65MiB at  1.06MiB/s ETA 00:373nown ETA[ffmpeg] Destination: Breaking Perspectives in Malaysia - Singaporeans-Nk9AzEx3rU8.mp3\n",
      "[download] 100% of 41.39MiB in 00:0127MiB/s ETA 00:0031own ETA\n",
      "[download]  58.4% of 83.06MiB at  2.51MiB/s ETA 00:138nown ETA[ffmpeg] Destination: Mamak Sessions - Getting Married in Vegas, and Sugar Babies ft. Dennis Yin-Cq6Yjwsu63U.mp3\n",
      "[download] 100% of 29.49MiB in 00:0189MiB/s ETA 00:149nown ETA\n",
      "[download]  99.2% of 69.65MiB at  6.23MiB/s ETA 00:0036own ETA[ffmpeg] Destination: Mamak Sessions - Comparing Ourselves To Others and Overcoming Anxiety ft. Marianne Tan-TJjJ1MqyUpQ.mp3\n",
      "[download] 100% of 69.65MiB in 00:01nown speed ETA Unknown ETA\n",
      "[download]   5.1% of ~42.63MiB at  1.93MiB/s ETA 00:267own ETA[ffmpeg] Destination: Is Mulan Really That Bad _ IMO Ep.32-rMpf5j7683M.mp3\n",
      "[download] 100% of 83.06MiB in 00:02.71MiB/s ETA 00:288own ETA\n",
      "[download] 100% of 65.65MiB in 00:0215MiB/s ETA 00:008\n",
      "[download] 100% of 29.16MiB in 00:02.21KiB/s ETA 00:320own ETA\n",
      "[download]  59.4% of 82.99MiB at Unknown speed ETA Unknown ETA[ffmpeg] Destination: Dance Moves To Pick Up Girls At The Club With Adidas Creator Maybelline Wong (@definitelyMayb_)-vRnkHzyyBc4.mp3\n",
      "[download]  59.4% of 82.99MiB at 278.91KiB/s ETA 02:030[ffmpeg] Destination: How Trevmonki Joined Titan - Team Titan Show #1-50EHWNk7aBc.mp3\n",
      "[download]   7.0% of ~43.23MiB at  1.00MiB/s ETA 00:3029[ffmpeg] Destination: Mamak Sessions - Are Social Media Influencers Entitled-ZJ8jw3C9vB8.mp3\n",
      "[download] 100% of 50.34MiB in 00:03.38KiB/s ETA 00:221own ETA\n",
      "[download]  71.1% of 82.99MiB at 626.75KiB/s ETA 00:391own ETA[ffmpeg] Destination: University Survival Tips (ft. Daryl Goh) _ IMO Ep.26-3pImfMhLYhA.mp3\n",
      "[download] 100% of 82.00MiB in 00:0396MiB/s ETA 00:0134own ETA\n",
      "[download]   9.9% of ~43.52MiB at 216.26KiB/s ETA 00:34own ETA[ffmpeg] Correcting container in \"Living Alone In New York, Chasing Dreams And The Future _ HTHT - Xenia Tan-ezFAYdIwu_8.m4a\"\n",
      "[download] 100% of 82.99MiB in 00:045.64KiB/s ETA 00:35\n",
      "[download]  10.5% of ~43.59MiB at 202.33KiB/s ETA 00:35[ffmpeg] Destination: The Fashion Weak Podcast Ep 43A - Keeping Fair On The Fairway With Natalia Ng-CSP1XPZu4YY.mp3\n",
      "[download]  16.0% of ~43.58MiB at 269.64KiB/s ETA 00:399wn ETA[ffmpeg] Destination: Living Alone In New York, Chasing Dreams And The Future _ HTHT - Xenia Tan-ezFAYdIwu_8.mp3\n",
      "[download] 100% of 51.93MiB in 00:1134MiB/s ETA 00:0040own ETA\n",
      "[download]  21.7% of ~43.44MiB at 841.92KiB/s ETA 00:40[ffmpeg] Correcting container in \"Should Influencers Be Expected To Do More For Society (ft. Celeste Loh) _ IMO Ep.4-7izYax1bCwg.m4a\"\n",
      "[download]  25.5% of ~43.35MiB at 174.09KiB/s ETA 00:39[ffmpeg] Destination: Should Influencers Be Expected To Do More For Society (ft. Celeste Loh) _ IMO Ep.4-7izYax1bCwg.mp3\n",
      "[download]  33.8% of ~43.46MiB at 928.00KiB/s ETA 00:377Deleting original file Breaking Perspectives in Malaysia - Singaporeans-Nk9AzEx3rU8.webm (pass -k to keep)\n",
      "[download]  33.7% of ~43.49MiB at 255.64KiB/s ETA 00:37"
     ]
    },
    {
     "name": "stderr",
     "output_type": "stream",
     "text": [
      "\r",
      "  6%|▌         | 1/18 [00:21<06:13, 21.97s/it]"
     ]
    },
    {
     "name": "stdout",
     "output_type": "stream",
     "text": [
      "[download]  34.7% of ~43.51MiB at 806.18KiB/s ETA 00:36[youtube] vshZhU5dbto: Downloading webpage\n",
      "[download]  36.3% of ~43.41MiB at 1015.26KiB/s ETA 00:35[download] Destination: Mamak Sessions - Real Talk, Is it safe to record yourself featuring Dew-vshZhU5dbto.webm\n",
      "[download] 100% of 66.10MiB in 00:0319MiB/s ETA 00:00333wn ETA\n",
      "[download]  41.5% of ~43.16MiB at 544.53KiB/s ETA 00:33[ffmpeg] Destination: Mamak Sessions - Real Talk, Is it safe to record yourself featuring Dew-vshZhU5dbto.mp3\n",
      "[download] 100% of 43.22MiB in 01:022.22KiB/s ETA 00:001\n",
      "[ffmpeg] Destination: MILF hunting with Audrey Ooi aka @fourfeetnine - The Fashion Weak Podcast Episode 1-eXpirKKPBUA.mp3\n",
      "Deleting original file Mamak Sessions - Comparing Ourselves To Others and Overcoming Anxiety ft. Marianne Tan-TJjJ1MqyUpQ.webm (pass -k to keep)\n"
     ]
    },
    {
     "name": "stderr",
     "output_type": "stream",
     "text": [
      "\r",
      "  6%|▌         | 1/18 [02:47<47:32, 167.78s/it]"
     ]
    },
    {
     "name": "stdout",
     "output_type": "stream",
     "text": [
      "[youtube] QLz7USNFnng: Downloading webpage\n",
      "[download] Destination: Mamak Sessions - Should You Be Spending Crazily For Valentine's Day-QLz7USNFnng.webm\n",
      "[download]  80.0% of 33.96MiB at 21.13MiB/s ETA 00:005nown ETADeleting original file Mamak Sessions - Are Social Media Influencers Entitled-ZJ8jw3C9vB8.webm (pass -k to keep)\n"
     ]
    },
    {
     "name": "stderr",
     "output_type": "stream",
     "text": [
      "\r",
      "  6%|▌         | 1/18 [02:51<48:33, 171.38s/it]"
     ]
    },
    {
     "name": "stdout",
     "output_type": "stream",
     "text": [
      "[download] 100% of 33.96MiB in 00:0165MiB/s ETA 00:008nown ETA\n",
      "[youtube] Hioy9UvH4yE: Downloading webpage\n",
      "[ffmpeg] Destination: Mamak Sessions - Should You Be Spending Crazily For Valentine's Day-QLz7USNFnng.mp3\n",
      "[download] Destination: Ghost Stories From Our Childhood! _ The Thirsty Sisters #23-Hioy9UvH4yE.m4a\n",
      "[download] 100% of 37.25MiB in 00:0175MiB/s ETA 00:002nown ETA\n",
      "[ffmpeg] Correcting container in \"Ghost Stories From Our Childhood! _ The Thirsty Sisters #23-Hioy9UvH4yE.m4a\"\n",
      "[ffmpeg] Destination: Ghost Stories From Our Childhood! _ The Thirsty Sisters #23-Hioy9UvH4yE.mp3\n",
      "Deleting original file Mamak Sessions - Getting Married in Vegas, and Sugar Babies ft. Dennis Yin-Cq6Yjwsu63U.webm (pass -k to keep)\n"
     ]
    },
    {
     "name": "stderr",
     "output_type": "stream",
     "text": [
      "\r",
      "  6%|▌         | 1/18 [04:00<1:08:03, 240.21s/it]"
     ]
    },
    {
     "name": "stdout",
     "output_type": "stream",
     "text": [
      "[youtube] m7mwwtsblIs: Downloading webpage\n",
      "[download] Destination: Mamak Sessions Podcast - How Do You Handle Long Distance Relationships Do they WORK-m7mwwtsblIs.webm\n",
      "[download] 100% of 36.41MiB in 00:0161MiB/s ETA 00:000nown ETA\n",
      "[ffmpeg] Destination: Mamak Sessions Podcast - How Do You Handle Long Distance Relationships Do they WORK-m7mwwtsblIs.mp3\n",
      "Deleting original file Should Influencers Be Expected To Do More For Society (ft. Celeste Loh) _ IMO Ep.4-7izYax1bCwg.m4a (pass -k to keep)\n"
     ]
    },
    {
     "name": "stderr",
     "output_type": "stream",
     "text": [
      "\r",
      "  6%|▌         | 1/18 [04:33<1:17:25, 273.27s/it]"
     ]
    },
    {
     "name": "stdout",
     "output_type": "stream",
     "text": [
      "[youtube] RlejfOWnKgQ: Downloading webpage\n",
      "[download] Destination: Mamak Sessions - Investigative Journalism Brings Justice to Sexual Crimes & Interviewing Jon Favreau-RlejfOWnKgQ.webm\n",
      "[download] 100% of 52.96MiB in 00:0250MiB/s ETA 00:004nown ETA\n",
      "[ffmpeg] Destination: Mamak Sessions - Investigative Journalism Brings Justice to Sexual Crimes & Interviewing Jon Favreau-RlejfOWnKgQ.mp3\n",
      "Deleting original file University Survival Tips (ft. Daryl Goh) _ IMO Ep.26-3pImfMhLYhA.webm (pass -k to keep)\n"
     ]
    },
    {
     "name": "stderr",
     "output_type": "stream",
     "text": [
      "\r",
      "  6%|▌         | 1/18 [04:59<1:24:50, 299.44s/it]"
     ]
    },
    {
     "name": "stdout",
     "output_type": "stream",
     "text": [
      "[youtube] TYL7mmbpsbo: Downloading webpage\n",
      "[youtube] TYL7mmbpsbo: Downloading MPD manifest\n",
      "[dashsegments] Total fragments: 431\n",
      "[download] Destination: Priorities as University Graduates and The MALAYSIA Hustle _ Singaporean Podcast #12 _ Zhi Rong-TYL7mmbpsbo.webm\n",
      "[download]  20.0% of ~63.32MiB at 157.14KiB/s ETA 01:1435228Deleting original file MILF hunting with Audrey Ooi aka @fourfeetnine - The Fashion Weak Podcast Episode 1-eXpirKKPBUA.webm (pass -k to keep)\n",
      "[download]  20.0% of ~63.32MiB at 224.16KiB/s ETA 01:15"
     ]
    },
    {
     "name": "stderr",
     "output_type": "stream",
     "text": [
      "\r",
      "  6%|▌         | 1/18 [05:20<1:30:56, 320.94s/it]"
     ]
    },
    {
     "name": "stdout",
     "output_type": "stream",
     "text": [
      "[download]  20.7% of ~63.28MiB at 102.61KiB/s ETA 01:14[youtube] 98CiTQQtqak: Downloading webpage\n",
      "[download]  22.0% of ~63.36MiB at 931.11KiB/s ETA 01:123[download] Destination: Relatives Ruin My Wedding! _ The Thirsty Sisters #22-98CiTQQtqak.m4a\n",
      "[download]  93.6% of 41.63MiB at 249.19KiB/s ETA 00:110own ETADeleting original file Ghost Stories From Our Childhood! _ The Thirsty Sisters #23-Hioy9UvH4yE.m4a (pass -k to keep)\n"
     ]
    },
    {
     "name": "stderr",
     "output_type": "stream",
     "text": [
      "\r",
      " 11%|█         | 2/18 [05:24<44:13, 165.82s/it]"
     ]
    },
    {
     "name": "stdout",
     "output_type": "stream",
     "text": [
      "[download] 100% of 41.63MiB in 00:017.15KiB/s ETA 01:10\n",
      "[download]  24.4% of ~63.35MiB at 937.00KiB/s ETA 01:09[youtube] O_rK97AUOIA: Downloading webpage\n",
      "[download]  24.5% of ~63.34MiB at 539.51KiB/s ETA 01:10[ffmpeg] Correcting container in \"Relatives Ruin My Wedding! _ The Thirsty Sisters #22-98CiTQQtqak.m4a\"\n",
      "[download]  25.3% of ~63.35MiB at  1.14MiB/s ETA 01:0899[download] Destination: How We Deal With Hate! _ The Thirsty Sisters #7-O_rK97AUOIA.m4a\n",
      "[download] 100% of 38.41MiB in 00:012.52KiB/s ETA 01:06own ETA\n",
      "[download]  27.9% of ~63.37MiB at 663.26KiB/s ETA 01:05[ffmpeg] Destination: Relatives Ruin My Wedding! _ The Thirsty Sisters #22-98CiTQQtqak.mp3\n",
      "[download]  28.3% of ~63.37MiB at  1.50MiB/s ETA 01:045[ffmpeg] Correcting container in \"How We Deal With Hate! _ The Thirsty Sisters #7-O_rK97AUOIA.m4a\"\n",
      "[download]  30.2% of ~63.52MiB at 339.31KiB/s ETA 01:03[ffmpeg] Destination: How We Deal With Hate! _ The Thirsty Sisters #7-O_rK97AUOIA.mp3\n",
      "[download]  75.4% of ~63.29MiB at 209.60KiB/s ETA 00:223Deleting original file Mamak Sessions - Should You Be Spending Crazily For Valentine's Day-QLz7USNFnng.webm (pass -k to keep)\n",
      "[download]  75.5% of ~63.29MiB at 304.36KiB/s ETA 00:22"
     ]
    },
    {
     "name": "stderr",
     "output_type": "stream",
     "text": [
      "\r",
      " 11%|█         | 2/18 [06:11<47:35, 178.47s/it]"
     ]
    },
    {
     "name": "stdout",
     "output_type": "stream",
     "text": [
      "[download]  76.1% of ~63.30MiB at 966.10KiB/s ETA 00:21[youtube] 670FyeJhnps: Downloading webpage\n",
      "[download]  77.0% of ~63.31MiB at  1.14MiB/s ETA 00:201[download] Destination: Mamak Sessions Ep9 - Sibling Rivalry ft Julian Yee-670FyeJhnps.webm\n",
      "[download] 100% of 41.22MiB in 00:027.42KiB/s ETA 00:18own ETA\n",
      "[download]  80.0% of ~63.27MiB at 966.52KiB/s ETA 00:188[ffmpeg] Destination: Mamak Sessions Ep9 - Sibling Rivalry ft Julian Yee-670FyeJhnps.mp3\n",
      "[download] 100% of 63.16MiB in 01:311.44KiB/s ETA 00:000\n",
      "Deleting original file Living Alone In New York, Chasing Dreams And The Future _ HTHT - Xenia Tan-ezFAYdIwu_8.m4a (pass -k to keep)\n"
     ]
    },
    {
     "name": "stderr",
     "output_type": "stream",
     "text": [
      "\r",
      "  6%|▌         | 1/18 [06:33<1:51:36, 393.91s/it]"
     ]
    },
    {
     "name": "stdout",
     "output_type": "stream",
     "text": [
      "[ffmpeg] Destination: Priorities as University Graduates and The MALAYSIA Hustle _ Singaporean Podcast #12 _ Zhi Rong-TYL7mmbpsbo.mp3\n",
      "[youtube] Wyb6i3GoJv4: Downloading webpage\n",
      "[download] Destination: Mamak Sessions - The Asian Mom Of The Internet ft Tata-Wyb6i3GoJv4.webm\n",
      "[download] 100% of 53.58MiB in 00:0281MiB/s ETA 00:0005own ETA\n",
      "[ffmpeg] Destination: Mamak Sessions - The Asian Mom Of The Internet ft Tata-Wyb6i3GoJv4.mp3\n",
      "Deleting original file Mamak Sessions - Real Talk, Is it safe to record yourself featuring Dew-vshZhU5dbto.webm (pass -k to keep)\n"
     ]
    },
    {
     "name": "stderr",
     "output_type": "stream",
     "text": [
      "\r",
      " 11%|█         | 2/18 [06:55<35:36, 133.50s/it]"
     ]
    },
    {
     "name": "stdout",
     "output_type": "stream",
     "text": [
      "[youtube] I2BaN8cm6NY: Downloading webpage\n",
      "[download] Destination: Mamak Sessions - Girls Are Such Complicated Lil Creatures feat. Talitha.-I2BaN8cm6NY.webm\n",
      "[download] 100% of 34.25MiB in 00:0178MiB/s ETA 00:005nown ETA\n",
      "[ffmpeg] Destination: Mamak Sessions - Girls Are Such Complicated Lil Creatures feat. Talitha.-I2BaN8cm6NY.mp3\n",
      "Deleting original file Is Mulan Really That Bad _ IMO Ep.32-rMpf5j7683M.webm (pass -k to keep)\n"
     ]
    },
    {
     "name": "stderr",
     "output_type": "stream",
     "text": [
      "\r",
      "  6%|▌         | 1/18 [06:59<1:58:46, 419.23s/it]"
     ]
    },
    {
     "name": "stdout",
     "output_type": "stream",
     "text": [
      "[youtube] XLV720mng6w: Downloading webpage\n",
      "[download] Destination: Most Accurate Personality Test! _ The Thirsty Sisters #17-XLV720mng6w.m4a\n",
      "[download] 100% of 38.70MiB in 00:0263MiB/s ETA 00:001nown ETA\n",
      "[ffmpeg] Correcting container in \"Most Accurate Personality Test! _ The Thirsty Sisters #17-XLV720mng6w.m4a\"\n",
      "[ffmpeg] Destination: Most Accurate Personality Test! _ The Thirsty Sisters #17-XLV720mng6w.mp3\n",
      "Deleting original file Mamak Sessions Podcast - How Do You Handle Long Distance Relationships Do they WORK-m7mwwtsblIs.webm (pass -k to keep)\n"
     ]
    },
    {
     "name": "stderr",
     "output_type": "stream",
     "text": [
      "\r",
      " 11%|█         | 2/18 [07:29<1:01:34, 230.89s/it]"
     ]
    },
    {
     "name": "stdout",
     "output_type": "stream",
     "text": [
      "[youtube] -SibiwunZ14: Downloading webpage\n",
      "[download] Destination: Joining A Gang in Singapore--SibiwunZ14.m4a\n",
      "[download] 100% of 8.61MiB in 00:0067MiB/s ETA 00:001\n",
      "[ffmpeg] Correcting container in \"Joining A Gang in Singapore--SibiwunZ14.m4a\"\n",
      "Deleting original file How Trevmonki Joined Titan - Team Titan Show #1-50EHWNk7aBc.webm (pass -k to keep)\n"
     ]
    },
    {
     "name": "stderr",
     "output_type": "stream",
     "text": [
      "\r",
      "  6%|▌         | 1/18 [07:31<2:08:03, 451.99s/it]"
     ]
    },
    {
     "name": "stdout",
     "output_type": "stream",
     "text": [
      "[ffmpeg] Destination: Joining A Gang in Singapore--SibiwunZ14.mp3\n",
      "[youtube] attPdWb6UVo: Downloading webpage\n",
      "[youtube] attPdWb6UVo: Downloading MPD manifest\n",
      "[dashsegments] Total fragments: 349\n",
      "[download] Destination: Polytechnic VS University, Hospitality Industry + Solo Travel _ Singaporean Podcast #21 _ Veron Ng-attPdWb6UVo.webm\n",
      "[download]  26.9% of ~49.23MiB at 770.17KiB/s ETA 00:5489Deleting original file How We Deal With Hate! _ The Thirsty Sisters #7-O_rK97AUOIA.m4a (pass -k to keep)\n",
      "[download]  27.0% of ~49.23MiB at 145.40KiB/s ETA 00:54"
     ]
    },
    {
     "name": "stderr",
     "output_type": "stream",
     "text": [
      "\r",
      " 17%|█▋        | 3/18 [07:54<40:19, 161.29s/it]"
     ]
    },
    {
     "name": "stdout",
     "output_type": "stream",
     "text": [
      "[download]  27.8% of ~49.17MiB at 844.01KiB/s ETA 00:53[youtube] IAeN0jG9Hwc: Downloading webpage\n",
      "[download]  29.0% of ~49.18MiB at 183.81KiB/s ETA 00:53[download] Destination: Mamak Sessions - We May Not Always End Up Doing What We Thought We Would..And That's Not A Bad Thing-IAeN0jG9Hwc.webm\n",
      "[download] 100% of 38.11MiB in 00:015.18KiB/s ETA 00:50own ETA\n",
      "[download]  31.8% of ~49.10MiB at 151.91KiB/s ETA 00:50[ffmpeg] Destination: Mamak Sessions - We May Not Always End Up Doing What We Thought We Would..And That's Not A Bad Thing-IAeN0jG9Hwc.mp3\n",
      "[download]  39.0% of ~48.92MiB at 922.07KiB/s ETA 00:455Deleting original file Relatives Ruin My Wedding! _ The Thirsty Sisters #22-98CiTQQtqak.m4a (pass -k to keep)\n",
      "[download]  39.0% of ~48.91MiB at 197.17KiB/s ETA 00:45"
     ]
    },
    {
     "name": "stderr",
     "output_type": "stream",
     "text": [
      "\r",
      " 11%|█         | 2/18 [08:03<1:12:55, 273.50s/it]"
     ]
    },
    {
     "name": "stdout",
     "output_type": "stream",
     "text": [
      "[download]  39.8% of ~48.88MiB at 990.34KiB/s ETA 00:44[youtube] ezYaMrChz4M: Downloading webpage\n",
      "[download]  40.5% of ~48.85MiB at 519.60KiB/s ETA 00:44[download] Destination: Self Love, Social Media And Education _ HTHT - Chow Jia Hui-ezYaMrChz4M.webm\n",
      "[download] 100% of 60.79MiB in 00:0360MiB/s ETA 00:0039own ETA\n",
      "[download]  46.3% of ~48.67MiB at 520.83KiB/s ETA 00:39[ffmpeg] Destination: Self Love, Social Media And Education _ HTHT - Chow Jia Hui-ezYaMrChz4M.mp3\n",
      "[download]  47.0% of ~48.65MiB at 772.92KiB/s ETA 00:388Deleting original file Dance Moves To Pick Up Girls At The Club With Adidas Creator Maybelline Wong (@definitelyMayb_)-vRnkHzyyBc4.webm (pass -k to keep)\n"
     ]
    },
    {
     "name": "stderr",
     "output_type": "stream",
     "text": [
      "\r",
      "  6%|▌         | 1/18 [08:09<2:18:35, 489.16s/it]"
     ]
    },
    {
     "name": "stdout",
     "output_type": "stream",
     "text": [
      "[download]  47.7% of ~48.60MiB at 547.73KiB/s ETA 00:38[youtube] kO9uBkW_OIA: Downloading webpage\n",
      "[download]  49.2% of ~48.61MiB at 899.42KiB/s ETA 00:367[download] Destination: Reading Singapore's Nastiest Confessions (Dreary Community)-kO9uBkW_OIA.webm\n",
      "[download] 100% of 9.83MiB in 00:0067MiB/s ETA 00:00:36wn ETA\n",
      "[download]  50.2% of ~48.61MiB at 234.32KiB/s ETA 00:36[ffmpeg] Destination: Reading Singapore's Nastiest Confessions (Dreary Community)-kO9uBkW_OIA.mp3\n",
      "[download]  56.8% of ~48.39MiB at 752.01KiB/s ETA 00:315Deleting original file Joining A Gang in Singapore--SibiwunZ14.m4a (pass -k to keep)\n",
      "[download]  56.8% of ~48.39MiB at 163.91KiB/s ETA 00:31"
     ]
    },
    {
     "name": "stderr",
     "output_type": "stream",
     "text": [
      "\r",
      " 17%|█▋        | 3/18 [08:16<43:55, 175.68s/it]  "
     ]
    },
    {
     "name": "stdout",
     "output_type": "stream",
     "text": [
      "[download]  57.4% of ~48.39MiB at 496.06KiB/s ETA 00:31Deleting original file The Fashion Weak Podcast Ep 43A - Keeping Fair On The Fairway With Natalia Ng-CSP1XPZu4YY.webm (pass -k to keep)\n",
      "[download]  57.6% of ~48.39MiB at 762.02KiB/s ETA 00:30[youtube] 4CSV7cIXAS8: Downloading webpage\n"
     ]
    },
    {
     "name": "stderr",
     "output_type": "stream",
     "text": [
      "\r",
      "  6%|▌         | 1/18 [08:16<2:20:45, 496.77s/it]"
     ]
    },
    {
     "name": "stdout",
     "output_type": "stream",
     "text": [
      "[download]  58.2% of ~48.37MiB at 77.20KiB/s ETA 00:300[youtube] R7nCJrdRWyc: Downloading webpage\n",
      "[download]  58.7% of ~48.36MiB at 233.12KiB/s ETA 00:30[download] Destination: Why Singlish Is The Most Efficient Language In The World - TSL Comedy-4CSV7cIXAS8.webm\n",
      "[download] 100% of 2.53MiB in 00:0087MiB/s ETA 00:00299\n",
      "[download]  59.6% of ~48.34MiB at 272.72KiB/s ETA 00:29[ffmpeg] Destination: Why Singlish Is The Most Efficient Language In The World - TSL Comedy-4CSV7cIXAS8.mp3\n",
      "[download]  59.9% of ~48.34MiB at 175.00KiB/s ETA 00:29[download] Destination: What You Should Think About After A Levels _ IMO Ep.3-R7nCJrdRWyc.webm\n",
      "[download] 100% of 44.35MiB in 00:026.47KiB/s ETA 00:26own ETA\n",
      "[download]  63.6% of ~48.24MiB at 860.49KiB/s ETA 00:26[ffmpeg] Destination: What You Should Think About After A Levels _ IMO Ep.3-R7nCJrdRWyc.mp3\n",
      "[download]  83.1% of ~47.90MiB at 159.96KiB/s ETA 00:122Deleting original file Why Singlish Is The Most Efficient Language In The World - TSL Comedy-4CSV7cIXAS8.webm (pass -k to keep)\n",
      "[download]  83.1% of ~47.90MiB at 222.67KiB/s ETA 00:12"
     ]
    },
    {
     "name": "stderr",
     "output_type": "stream",
     "text": [
      "\r",
      " 22%|██▏       | 4/18 [08:35<30:03, 128.79s/it]"
     ]
    },
    {
     "name": "stdout",
     "output_type": "stream",
     "text": [
      "[download]  83.7% of ~47.90MiB at 720.51KiB/s ETA 00:11[youtube] e4mNzKOZrJ0: Downloading webpage\n",
      "[download]  84.5% of ~47.90MiB at  1.02MiB/s ETA 00:111[download] Destination: Is The Panic Behaviour Really Inexcusable _ IMO Ep.2-e4mNzKOZrJ0.webm\n",
      "[download] 100% of 39.16MiB in 00:013.87KiB/s ETA 00:09own ETA\n",
      "[download]  87.7% of ~47.87MiB at 310.90KiB/s ETA 00:08[ffmpeg] Destination: Is The Panic Behaviour Really Inexcusable _ IMO Ep.2-e4mNzKOZrJ0.mp3\n",
      "[download] 100% of 47.53MiB in 01:127.76KiB/s ETA 00:001\n",
      "[ffmpeg] Destination: Polytechnic VS University, Hospitality Industry + Solo Travel _ Singaporean Podcast #21 _ Veron Ng-attPdWb6UVo.mp3\n",
      "Deleting original file Reading Singapore's Nastiest Confessions (Dreary Community)-kO9uBkW_OIA.webm (pass -k to keep)\n"
     ]
    },
    {
     "name": "stderr",
     "output_type": "stream",
     "text": [
      "\r",
      " 11%|█         | 2/18 [09:19<1:36:54, 363.43s/it]"
     ]
    },
    {
     "name": "stdout",
     "output_type": "stream",
     "text": [
      "[youtube] b9YHjghfd2E: Downloading webpage\n",
      "[youtube] b9YHjghfd2E: Downloading MPD manifest\n",
      "[dashsegments] Total fragments: 525\n",
      "[download] Destination: Conversations with a Young Singaporean CEO -Gao Fei, CEO of LearnSeeker _ Singaporean Podcast #13 -b9YHjghfd2E.webm\n",
      "[download]   9.9% of ~75.02MiB at 116.15KiB/s ETA 01:39599Deleting original file Most Accurate Personality Test! _ The Thirsty Sisters #17-XLV720mng6w.m4a (pass -k to keep)\n",
      "[download]   9.9% of ~75.02MiB at 161.39KiB/s ETA 01:39"
     ]
    },
    {
     "name": "stderr",
     "output_type": "stream",
     "text": [
      "\r",
      " 11%|█         | 2/18 [09:32<1:30:30, 339.43s/it]"
     ]
    },
    {
     "name": "stdout",
     "output_type": "stream",
     "text": [
      "[download]  10.5% of ~75.13MiB at 913.95KiB/s ETA 01:379[youtube] q6EyuUemq5U: Downloading webpage\n",
      "[download]  11.0% of ~75.41MiB at  1.12MiB/s ETA 01:3788[download] Destination: The Problem With Sex Education _ IMO Ep.23-q6EyuUemq5U.webm\n",
      "[download] 100% of 46.99MiB in 00:020.23KiB/s ETA 01:344wn ETA\n",
      "[download]  13.1% of ~75.72MiB at 128.54KiB/s ETA 01:34[ffmpeg] Destination: The Problem With Sex Education _ IMO Ep.23-q6EyuUemq5U.mp3\n",
      "[download]  20.6% of ~76.25MiB at 338.91KiB/s ETA 01:266Deleting original file Mamak Sessions - Investigative Journalism Brings Justice to Sexual Crimes & Interviewing Jon Favreau-RlejfOWnKgQ.webm (pass -k to keep)\n",
      "[download]  20.6% of ~76.25MiB at 584.67KiB/s ETA 01:26"
     ]
    },
    {
     "name": "stderr",
     "output_type": "stream",
     "text": [
      "\r",
      " 11%|█         | 2/18 [09:43<1:15:51, 284.48s/it]"
     ]
    },
    {
     "name": "stdout",
     "output_type": "stream",
     "text": [
      "[download]  21.1% of ~76.31MiB at  1.05MiB/s ETA 01:255[youtube] eFDcnTupdeQ: Downloading webpage\n",
      "[download]  21.7% of ~76.32MiB at 110.08KiB/s ETA 01:25[youtube] eFDcnTupdeQ: Downloading MPD manifest\n",
      "[download]  22.9% of ~76.32MiB at 992.56KiB/s ETA 01:233[dashsegments] Total fragments: 346\n",
      "[download]  22.9% of ~76.35MiB at 992.56KiB/s ETA 01:23[download] Destination: Respond, Don't React - Finding The Silver Lining in Covid-19 _ Singaporean Podcast #29 _ Kevin Wee-eFDcnTupdeQ.webm\n",
      "[download]  46.1% of ~76.55MiB at 195.64KiB/s ETA 00:5501325Deleting original file Mamak Sessions Ep9 - Sibling Rivalry ft Julian Yee-670FyeJhnps.webm (pass -k to keep)\n",
      "[download]  46.1% of ~76.55MiB at 179.40KiB/s ETA 00:55"
     ]
    },
    {
     "name": "stderr",
     "output_type": "stream",
     "text": [
      "\r",
      " 17%|█▋        | 3/18 [10:08<49:03, 196.26s/it]"
     ]
    },
    {
     "name": "stdout",
     "output_type": "stream",
     "text": [
      "[download]  46.9% of ~76.55MiB at  1.63MiB/s ETA 00:545[youtube] ekKcn3QCU5E: Downloading webpage\n",
      "[download]  47.8% of ~76.59MiB at 131.44KiB/s ETA 00:53[download] Destination: Bend Over! Or Pay Sit Forward! We Create Our Own Movements! _ The Thirsty Sisters #3-ekKcn3QCU5E.m4a\n",
      "[download] 100% of 38.51MiB in 00:013.34KiB/s ETA 00:51own ETA\n",
      "[download]  38.2% of ~47.68MiB at 392.73KiB/s ETA 00:411[ffmpeg] Correcting container in \"Bend Over! Or Pay Sit Forward! We Create Our Own Movements! _ The Thirsty Sisters #3-ekKcn3QCU5E.m4a\"\n",
      "[download]  51.7% of ~76.61MiB at 583.15KiB/s ETA 00:499[ffmpeg] Destination: Bend Over! Or Pay Sit Forward! We Create Our Own Movements! _ The Thirsty Sisters #3-ekKcn3QCU5E.mp3\n",
      "[download]  57.0% of ~76.61MiB at  1.49MiB/s ETA 00:4345Deleting original file Mamak Sessions - Girls Are Such Complicated Lil Creatures feat. Talitha.-I2BaN8cm6NY.webm (pass -k to keep)\n",
      "[download]  48.8% of ~48.06MiB at  1.56MiB/s ETA 00:344"
     ]
    },
    {
     "name": "stderr",
     "output_type": "stream",
     "text": [
      "\r",
      " 17%|█▋        | 3/18 [10:18<38:36, 154.43s/it]"
     ]
    },
    {
     "name": "stdout",
     "output_type": "stream",
     "text": [
      "[download]  49.4% of ~48.06MiB at 968.70KiB/s ETA 00:33[youtube] ViJXVHWTRz8: Downloading webpage\n",
      "[download]  50.9% of ~48.06MiB at  1.09MiB/s ETA 00:321[download] Destination: My Future In-Laws Threw Me Out! _ The Thirsty Sisters #18-ViJXVHWTRz8.m4a\n",
      "[download] 100% of 39.82MiB in 00:023.59KiB/s ETA 00:39own ETA\n",
      "[download]  61.0% of ~76.47MiB at 375.71KiB/s ETA 00:39[ffmpeg] Correcting container in \"My Future In-Laws Threw Me Out! _ The Thirsty Sisters #18-ViJXVHWTRz8.m4a\"\n",
      "[download]  57.5% of ~48.07MiB at 199.52KiB/s ETA 00:289[ffmpeg] Destination: My Future In-Laws Threw Me Out! _ The Thirsty Sisters #18-ViJXVHWTRz8.mp3\n",
      "[download] 100% of 48.09MiB in 01:0619.65KiB/s ETA 00:07\n",
      "[download]  92.2% of ~76.14MiB at 978.57KiB/s ETA 00:07[ffmpeg] Destination: Respond, Don't React - Finding The Silver Lining in Covid-19 _ Singaporean Podcast #29 _ Kevin Wee-eFDcnTupdeQ.mp3\n",
      "[download] 100% of 75.98MiB in 01:400.56KiB/s ETA 00:002\n",
      "[ffmpeg] Destination: Conversations with a Young Singaporean CEO -Gao Fei, CEO of LearnSeeker _ Singaporean Podcast #13 -b9YHjghfd2E.mp3\n",
      "Deleting original file Mamak Sessions - We May Not Always End Up Doing What We Thought We Would..And That's Not A Bad Thing-IAeN0jG9Hwc.webm (pass -k to keep)\n"
     ]
    },
    {
     "name": "stderr",
     "output_type": "stream",
     "text": [
      "\r",
      " 22%|██▏       | 4/18 [11:39<42:04, 180.32s/it]"
     ]
    },
    {
     "name": "stdout",
     "output_type": "stream",
     "text": [
      "[youtube] b9YHjghfd2E: Downloading webpage\n",
      "[youtube] b9YHjghfd2E: Downloading MPD manifest\n",
      "[download] Conversations with a Young Singaporean CEO -Gao Fei, CEO of LearnSeeker _ Singaporean Podcast #13 -b9YHjghfd2E.webm has already been downloaded\n",
      "[download] 100% of 75.98MiB\n",
      "[ffmpeg] Destination: Conversations with a Young Singaporean CEO -Gao Fei, CEO of LearnSeeker _ Singaporean Podcast #13 -b9YHjghfd2E.mp3\n",
      "Deleting original file Mamak Sessions - The Asian Mom Of The Internet ft Tata-Wyb6i3GoJv4.webm (pass -k to keep)\n"
     ]
    },
    {
     "name": "stderr",
     "output_type": "stream",
     "text": [
      "\r",
      " 11%|█         | 2/18 [11:42<1:38:15, 368.45s/it]"
     ]
    },
    {
     "name": "stdout",
     "output_type": "stream",
     "text": [
      "[youtube] r8sUO3VXPks: Downloading webpage\n",
      "[download] Destination: Answering Love Questions On NTU Confessions _ IMO Ep.22-r8sUO3VXPks.webm\n",
      "[download] 100% of 39.03MiB in 00:0244MiB/s ETA 00:001nown ETA\n",
      "[ffmpeg] Destination: Answering Love Questions On NTU Confessions _ IMO Ep.22-r8sUO3VXPks.mp3\n",
      "Deleting original file Priorities as University Graduates and The MALAYSIA Hustle _ Singaporean Podcast #12 _ Zhi Rong-TYL7mmbpsbo.webm (pass -k to keep)\n"
     ]
    },
    {
     "name": "stderr",
     "output_type": "stream",
     "text": [
      "\r",
      " 11%|█         | 2/18 [12:25<1:31:32, 343.31s/it]"
     ]
    },
    {
     "name": "stdout",
     "output_type": "stream",
     "text": [
      "[youtube] Jw7B8efygWI: Downloading webpage\n",
      "[download] Destination: Burning Hot Fever! 4 Doctors Tried To Save Me In The Hospital! _ The Thirsty Sisters #6-Jw7B8efygWI.m4a\n",
      "[download] 100% of 36.98MiB in 00:0110MiB/s ETA 00:008nown ETA\n",
      "[ffmpeg] Correcting container in \"Burning Hot Fever! 4 Doctors Tried To Save Me In The Hospital! _ The Thirsty Sisters #6-Jw7B8efygWI.m4a\"\n",
      "[ffmpeg] Destination: Burning Hot Fever! 4 Doctors Tried To Save Me In The Hospital! _ The Thirsty Sisters #6-Jw7B8efygWI.mp3\n",
      "Deleting original file Bend Over! Or Pay Sit Forward! We Create Our Own Movements! _ The Thirsty Sisters #3-ekKcn3QCU5E.m4a (pass -k to keep)\n"
     ]
    },
    {
     "name": "stderr",
     "output_type": "stream",
     "text": [
      "\r",
      " 22%|██▏       | 4/18 [12:42<42:46, 183.34s/it]"
     ]
    },
    {
     "name": "stdout",
     "output_type": "stream",
     "text": [
      "[youtube] 2M8U_mxGbcw: Downloading webpage\n",
      "[download] Destination: Mamak Sessions Ep1 - Girls Are Happier With Less Attractive Men, And The Dramatic Pizza Order-2M8U_mxGbcw.webm\n",
      "[download] 100% of 33.62MiB in 00:0173MiB/s ETA 00:007nown ETA\n",
      "[ffmpeg] Destination: Mamak Sessions Ep1 - Girls Are Happier With Less Attractive Men, And The Dramatic Pizza Order-2M8U_mxGbcw.mp3\n",
      "Deleting original file My Future In-Laws Threw Me Out! _ The Thirsty Sisters #18-ViJXVHWTRz8.m4a (pass -k to keep)\n"
     ]
    },
    {
     "name": "stderr",
     "output_type": "stream",
     "text": [
      "\r",
      " 22%|██▏       | 4/18 [12:56<36:15, 155.41s/it]"
     ]
    },
    {
     "name": "stdout",
     "output_type": "stream",
     "text": [
      "[youtube] FNfbmh93DFo: Downloading webpage\n",
      "[download] Destination: Mamak Sessions Podcast - A Dog Was Slashed In The Mouth And Abused, But This Kind Soul Saved It-FNfbmh93DFo.webm\n",
      "[download] 100% of 51.52MiB in 00:0699MiB/s ETA 00:002nown ETA\n",
      "[ffmpeg] Destination: Mamak Sessions Podcast - A Dog Was Slashed In The Mouth And Abused, But This Kind Soul Saved It-FNfbmh93DFo.mp3\n",
      "Deleting original file Is The Panic Behaviour Really Inexcusable _ IMO Ep.2-e4mNzKOZrJ0.webm (pass -k to keep)\n"
     ]
    },
    {
     "name": "stderr",
     "output_type": "stream",
     "text": [
      "\r",
      " 28%|██▊       | 5/18 [13:04<37:00, 170.78s/it]"
     ]
    },
    {
     "name": "stdout",
     "output_type": "stream",
     "text": [
      "[youtube] ZDloTzTfenM: Downloading webpage\n",
      "[download] Destination: Xia Xue's Honest Thoughts on Influencers - The Team Titan Show-ZDloTzTfenM.m4a\n",
      "[download] 100% of 80.93MiB in 00:0668MiB/s ETA 00:004nown ETA\n",
      "[ffmpeg] Correcting container in \"Xia Xue's Honest Thoughts on Influencers - The Team Titan Show-ZDloTzTfenM.m4a\"\n",
      "[ffmpeg] Destination: Xia Xue's Honest Thoughts on Influencers - The Team Titan Show-ZDloTzTfenM.mp3\n",
      "Deleting original file What You Should Think About After A Levels _ IMO Ep.3-R7nCJrdRWyc.webm (pass -k to keep)\n"
     ]
    },
    {
     "name": "stderr",
     "output_type": "stream",
     "text": [
      "\r",
      " 11%|█         | 2/18 [13:25<1:57:24, 440.29s/it]"
     ]
    },
    {
     "name": "stdout",
     "output_type": "stream",
     "text": [
      "[youtube] 5cG8wHdaKIU: Downloading webpage\n",
      "[youtube] 5cG8wHdaKIU: Downloading MPD manifest\n",
      "[dashsegments] Total fragments: 311\n",
      "[download] Destination: The Lansi Taikor Who Sells Pins For A Living - The Fashion Weak Podcast Episode 2-5cG8wHdaKIU.webm\n",
      "[download]  68.8% of ~44.52MiB at 890.83KiB/s ETA 00:2023Deleting original file The Problem With Sex Education _ IMO Ep.23-q6EyuUemq5U.webm (pass -k to keep)\n",
      "[download]  68.8% of ~44.51MiB at 890.83KiB/s ETA 00:20"
     ]
    },
    {
     "name": "stderr",
     "output_type": "stream",
     "text": [
      "\r",
      " 17%|█▋        | 3/18 [14:12<1:20:22, 321.50s/it]"
     ]
    },
    {
     "name": "stdout",
     "output_type": "stream",
     "text": [
      "[download]  69.4% of ~44.50MiB at 821.20KiB/s ETA 00:19[youtube] EYBSXaK3cjI: Downloading webpage\n",
      "[download]  70.7% of ~44.49MiB at 850.65KiB/s ETA 00:189[download] Destination: Perverts Lusting Over Sexy Supermarket Girls _ The Thirsty Sisters #4-EYBSXaK3cjI.m4a\n",
      "[download] 100% of 34.22MiB in 00:019.34KiB/s ETA 00:177wn ETA\n",
      "[download]  74.3% of ~44.51MiB at 808.38KiB/s ETA 00:16[ffmpeg] Correcting container in \"Perverts Lusting Over Sexy Supermarket Girls _ The Thirsty Sisters #4-EYBSXaK3cjI.m4a\"\n",
      "[download]  77.2% of ~44.47MiB at 823.26KiB/s ETA 00:145Deleting original file Polytechnic VS University, Hospitality Industry + Solo Travel _ Singaporean Podcast #21 _ Veron Ng-attPdWb6UVo.webm (pass -k to keep)\n",
      "[download]  77.2% of ~44.46MiB at 823.26KiB/s ETA 00:14"
     ]
    },
    {
     "name": "stderr",
     "output_type": "stream",
     "text": [
      "\r",
      " 11%|█         | 2/18 [14:17<1:56:47, 437.95s/it]"
     ]
    },
    {
     "name": "stdout",
     "output_type": "stream",
     "text": [
      "[download]  77.2% of ~44.46MiB at 162.17KiB/s ETA 00:14[ffmpeg] Destination: Perverts Lusting Over Sexy Supermarket Girls _ The Thirsty Sisters #4-EYBSXaK3cjI.mp3\n",
      "[download]  78.1% of ~44.46MiB at  1.10MiB/s ETA 00:1444[youtube] 7byI9tIJeRk: Downloading webpage\n",
      "[download]  80.1% of ~44.41MiB at 893.56KiB/s ETA 00:12[download] Destination: Amander Reveals Why She Left Titan - The Team Titan Show-7byI9tIJeRk.webm\n",
      "[download] 100% of 71.23MiB in 00:026.63KiB/s ETA 00:099wn ETA\n",
      "[download]  85.3% of ~44.29MiB at 149.39KiB/s ETA 00:09[ffmpeg] Destination: Amander Reveals Why She Left Titan - The Team Titan Show-7byI9tIJeRk.mp3\n",
      "[download] 100% of 44.08MiB in 01:044.78KiB/s ETA 00:000\n",
      "[ffmpeg] Destination: The Lansi Taikor Who Sells Pins For A Living - The Fashion Weak Podcast Episode 2-5cG8wHdaKIU.mp3\n",
      "Deleting original file Burning Hot Fever! 4 Doctors Tried To Save Me In The Hospital! _ The Thirsty Sisters #6-Jw7B8efygWI.m4a (pass -k to keep)\n"
     ]
    },
    {
     "name": "stderr",
     "output_type": "stream",
     "text": [
      "\r",
      " 17%|█▋        | 3/18 [14:50<1:11:00, 284.02s/it]"
     ]
    },
    {
     "name": "stdout",
     "output_type": "stream",
     "text": [
      "[youtube] JyAEITJk1AI: Downloading webpage\n",
      "[youtube] JyAEITJk1AI: Downloading MPD manifest\n",
      "[dashsegments] Total fragments: 296\n",
      "[download] Destination: Why Random Hobbies Can Make You More Productive In Life _ Informal Convos. with Xin Yee and Leonard-JyAEITJk1AI.m4a\n",
      "[download]  30.1% of ~45.10MiB at 1009.60KiB/s ETA 00:4314Deleting original file Self Love, Social Media And Education _ HTHT - Chow Jia Hui-ezYaMrChz4M.webm (pass -k to keep)\n",
      "[download]  30.1% of ~45.11MiB at 111.03KiB/s ETA 00:433"
     ]
    },
    {
     "name": "stderr",
     "output_type": "stream",
     "text": [
      "\r",
      " 17%|█▋        | 3/18 [15:11<1:19:56, 319.78s/it]"
     ]
    },
    {
     "name": "stdout",
     "output_type": "stream",
     "text": [
      "[download]  30.8% of ~45.12MiB at 352.45KiB/s ETA 00:42[youtube] 6i8PG2cTAUU: Downloading webpage\n",
      "[download]  32.4% of ~45.14MiB at  1.15MiB/s ETA 00:4112[download] Destination: How To Date Alpha Women _ The Thirsty Sisters #12-6i8PG2cTAUU.m4a\n",
      "[download] 100% of 40.67MiB in 00:026.90KiB/s ETA 00:39own ETA\n",
      "[download]  37.0% of ~45.20MiB at 685.01KiB/s ETA 00:38[ffmpeg] Correcting container in \"How To Date Alpha Women _ The Thirsty Sisters #12-6i8PG2cTAUU.m4a\"\n",
      "[download]  40.6% of ~45.24MiB at 234.47KiB/s ETA 00:36[ffmpeg] Destination: How To Date Alpha Women _ The Thirsty Sisters #12-6i8PG2cTAUU.mp3\n",
      "[download]  60.8% of ~45.36MiB at 985.70KiB/s ETA 00:244Deleting original file Answering Love Questions On NTU Confessions _ IMO Ep.22-r8sUO3VXPks.webm (pass -k to keep)\n",
      "[download]  60.8% of ~45.36MiB at 985.70KiB/s ETA 00:24"
     ]
    },
    {
     "name": "stderr",
     "output_type": "stream",
     "text": [
      "\r",
      " 17%|█▋        | 3/18 [15:30<1:21:31, 326.12s/it]"
     ]
    },
    {
     "name": "stdout",
     "output_type": "stream",
     "text": [
      "[download]  61.5% of ~45.36MiB at  1.18MiB/s ETA 00:233[youtube] TqLaI2X4jj0: Downloading webpage\n",
      "[download]  62.2% of ~45.37MiB at 198.18KiB/s ETA 00:23"
     ]
    },
    {
     "name": "stderr",
     "output_type": "stream",
     "text": [
      "ERROR: TqLaI2X4jj0: YouTube said: Unable to extract video data\n"
     ]
    },
    {
     "name": "stdout",
     "output_type": "stream",
     "text": [
      "\r",
      "[download]  62.2% of ~45.37MiB at 259.40KiB/s ETA 00:23"
     ]
    },
    {
     "name": "stderr",
     "output_type": "stream",
     "text": [
      "\r",
      " 22%|██▏       | 4/18 [15:31<53:19, 228.53s/it]  "
     ]
    },
    {
     "name": "stdout",
     "output_type": "stream",
     "text": [
      "[download]  63.2% of ~45.37MiB at 1009.99KiB/s ETA 00:22[youtube] myPdnyUGvUk: Downloading webpage\n",
      "[download]  64.5% of ~45.37MiB at  1.04MiB/s ETA 00:2121[youtube] myPdnyUGvUk: Downloading MPD manifest\n",
      "[download]  66.2% of ~45.38MiB at 983.63KiB/s ETA 00:201[dashsegments] Total fragments: 403\n",
      "[download] Destination: Why Singaporean Female Entrepreneurship Matters _ Huda Hamid _ Singaporean Podcast #44-myPdnyUGvUk.webm\n",
      "[download]   7.0% of ~59.42MiB at 435.74KiB/s ETA 01:13577Deleting original file Respond, Don't React - Finding The Silver Lining in Covid-19 _ Singaporean Podcast #29 _ Kevin Wee-eFDcnTupdeQ.webm (pass -k to keep)\n",
      "[download]  76.3% of ~45.41MiB at  1.22MiB/s ETA 00:144"
     ]
    },
    {
     "name": "stderr",
     "output_type": "stream",
     "text": [
      "\r",
      " 17%|█▋        | 3/18 [15:38<1:16:24, 305.66s/it]"
     ]
    },
    {
     "name": "stdout",
     "output_type": "stream",
     "text": [
      "[download]   7.8% of ~59.41MiB at 635.34KiB/s ETA 01:111[youtube] HkOQy1Nxpis: Downloading webpage\n",
      "[download]   8.7% of ~59.48MiB at 239.50KiB/s ETA 01:103[download] Destination: Mamak Sessions Podcast - How Dean Lewis became who he is today-HkOQy1Nxpis.webm\n",
      "[download] 100% of 39.89MiB in 00:0203MiB/s ETA 00:00088wn ETA\n",
      "[download]  84.1% of ~45.43MiB at 1018.78KiB/s ETA 00:09[ffmpeg] Destination: Mamak Sessions Podcast - How Dean Lewis became who he is today-HkOQy1Nxpis.mp3\n",
      "[download] 100% of 45.45MiB in 00:58.48MiB/s ETA 00:5779\n",
      "[download]  24.6% of ~59.36MiB at 427.43KiB/s ETA 00:57[ffmpeg] Correcting container in \"Why Random Hobbies Can Make You More Productive In Life _ Informal Convos. with Xin Yee and Leonard-JyAEITJk1AI.m4a\"\n",
      "[download]  26.3% of ~59.19MiB at 839.38KiB/s ETA 00:56Deleting original file Mamak Sessions Ep1 - Girls Are Happier With Less Attractive Men, And The Dramatic Pizza Order-2M8U_mxGbcw.webm (pass -k to keep)\n",
      "[download]  26.3% of ~59.19MiB at 278.41KiB/s ETA 00:56"
     ]
    },
    {
     "name": "stderr",
     "output_type": "stream",
     "text": [
      "\r",
      " 28%|██▊       | 5/18 [15:53<40:15, 185.77s/it]"
     ]
    },
    {
     "name": "stdout",
     "output_type": "stream",
     "text": [
      "[download]  27.0% of ~59.19MiB at 933.63KiB/s ETA 00:55[youtube] Y6RYZpbANJI: Downloading webpage\n",
      "[download]  27.1% of ~59.19MiB at 215.59KiB/s ETA 00:55[ffmpeg] Destination: Why Random Hobbies Can Make You More Productive In Life _ Informal Convos. with Xin Yee and Leonard-JyAEITJk1AI.mp3\n",
      "[download]  28.0% of ~59.19MiB at 1022.68KiB/s ETA 00:54[download] Destination: My First Boyfriend Cheated On Me With Several Girls _ The Thirsty Sisters #9-Y6RYZpbANJI.m4a\n",
      "[download] 100% of 41.15MiB in 00:0160MiB/s ETA 00:00533wn ETA\n",
      "[download]  31.0% of ~59.15MiB at 174.28KiB/s ETA 00:522[ffmpeg] Correcting container in \"My First Boyfriend Cheated On Me With Several Girls _ The Thirsty Sisters #9-Y6RYZpbANJI.m4a\"\n",
      "[download]  33.5% of ~59.19MiB at 182.67KiB/s ETA 00:51[ffmpeg] Destination: My First Boyfriend Cheated On Me With Several Girls _ The Thirsty Sisters #9-Y6RYZpbANJI.mp3\n",
      "[download]  63.5% of ~59.13MiB at 968.73KiB/s ETA 00:290Deleting original file Perverts Lusting Over Sexy Supermarket Girls _ The Thirsty Sisters #4-EYBSXaK3cjI.m4a (pass -k to keep)\n",
      "[download]  63.5% of ~59.13MiB at 999.39KiB/s ETA 00:29"
     ]
    },
    {
     "name": "stderr",
     "output_type": "stream",
     "text": [
      "\r",
      " 22%|██▏       | 4/18 [16:24<1:01:47, 264.79s/it]"
     ]
    },
    {
     "name": "stdout",
     "output_type": "stream",
     "text": [
      "[download]  64.3% of ~59.14MiB at 183.29KiB/s ETA 00:28[youtube] qVpcfmZF1oY: Downloading webpage\n",
      "[download]  66.0% of ~59.14MiB at 231.92KiB/s ETA 00:277[download] Destination: Mamak Sessions - This Guy Made Millions Out Of Passion-qVpcfmZF1oY.webm\n",
      "[download] 100% of 40.65MiB in 00:02.04MiB/s ETA 00:2555wn ETA\n",
      "[download]  69.0% of ~59.10MiB at  1.02MiB/s ETA 00:245[ffmpeg] Destination: Mamak Sessions - This Guy Made Millions Out Of Passion-qVpcfmZF1oY.mp3\n",
      "[download] 100% of 58.99MiB in 01:213.48KiB/s ETA 00:000\n",
      "[ffmpeg] Destination: Why Singaporean Female Entrepreneurship Matters _ Huda Hamid _ Singaporean Podcast #44-myPdnyUGvUk.mp3\n",
      "Deleting original file How To Date Alpha Women _ The Thirsty Sisters #12-6i8PG2cTAUU.m4a (pass -k to keep)\n"
     ]
    },
    {
     "name": "stderr",
     "output_type": "stream",
     "text": [
      "\r",
      " 22%|██▏       | 4/18 [17:48<1:03:14, 271.01s/it]"
     ]
    },
    {
     "name": "stdout",
     "output_type": "stream",
     "text": [
      "[youtube] vpaZHhpn8CY: Downloading webpage\n",
      "[youtube] vpaZHhpn8CY: Downloading MPD manifest\n",
      "[dashsegments] Total fragments: 350\n",
      "[download] Destination: Making Architectural Studies Accessible _ Singaporean Podcast #9 _ Gabriel Chek-vpaZHhpn8CY.webm\n",
      "[download]   7.4% of ~47.23MiB at 137.17KiB/s ETA 01:1234:25Deleting original file Mamak Sessions Podcast - A Dog Was Slashed In The Mouth And Abused, But This Kind Soul Saved It-FNfbmh93DFo.webm (pass -k to keep)\n",
      "[download]   7.4% of ~47.23MiB at 251.93KiB/s ETA 01:12"
     ]
    },
    {
     "name": "stderr",
     "output_type": "stream",
     "text": [
      "\r",
      " 28%|██▊       | 5/18 [17:57<43:07, 199.00s/it]"
     ]
    },
    {
     "name": "stdout",
     "output_type": "stream",
     "text": [
      "[download]   8.3% of ~47.03MiB at 810.55KiB/s ETA 01:10[youtube] BHF0ift4aRA: Downloading webpage\n",
      "[download]   8.9% of ~46.82MiB at 165.16KiB/s ETA 01:11[download] Destination: Should Influencers Be Expected To Do More For Society Pt.2 (ft. Tammy Gan) _ IMO Ep.20-BHF0ift4aRA.webm\n",
      "[download] 100% of 57.87MiB in 00:0279MiB/s ETA 00:0045own ETA\n",
      "[download]  13.4% of ~46.40MiB at  1.19MiB/s ETA 01:034[ffmpeg] Destination: Should Influencers Be Expected To Do More For Society Pt.2 (ft. Tammy Gan) _ IMO Ep.20-BHF0ift4aRA.mp3\n",
      "[download]  22.7% of ~46.73MiB at 800.29KiB/s ETA 00:578Deleting original file Conversations with a Young Singaporean CEO -Gao Fei, CEO of LearnSeeker _ Singaporean Podcast #13 -b9YHjghfd2E.webm (pass -k to keep)\n"
     ]
    },
    {
     "name": "stderr",
     "output_type": "stream",
     "text": [
      "\r",
      " 17%|█▋        | 3/18 [18:08<1:43:17, 413.17s/it]"
     ]
    },
    {
     "name": "stdout",
     "output_type": "stream",
     "text": [
      "[download]  23.4% of ~46.69MiB at 793.90KiB/s ETA 00:566[youtube] 5t_yyrP2OdI: Downloading webpage\n",
      "[download]  24.3% of ~46.64MiB at 1000.59KiB/s ETA 00:56[youtube] 5t_yyrP2OdI: Downloading MPD manifest\n",
      "[download]  25.4% of ~46.74MiB at 484.00KiB/s ETA 00:556[dashsegments] Total fragments: 321\n",
      "[download] Destination: Perspective from an American hustling in SG _ Singaporean Podcast #5 _ Peter Lam-5t_yyrP2OdI.webm\n",
      "[download]  33.4% of ~49.13MiB at 266.67KiB/s ETA 00:4203626Deleting original file Xia Xue's Honest Thoughts on Influencers - The Team Titan Show-ZDloTzTfenM.m4a (pass -k to keep)\n",
      "[download]  58.0% of ~46.43MiB at 972.86KiB/s ETA 00:29"
     ]
    },
    {
     "name": "stderr",
     "output_type": "stream",
     "text": [
      "\r",
      " 33%|███▎      | 6/18 [18:31<43:34, 217.84s/it]"
     ]
    },
    {
     "name": "stdout",
     "output_type": "stream",
     "text": [
      "[download]  34.0% of ~49.09MiB at 273.87KiB/s ETA 00:422[youtube] 5VpSUeWPEuo: Downloading webpage\n",
      "[download]  35.4% of ~49.22MiB at  1.35MiB/s ETA 00:418[youtube] 5VpSUeWPEuo: Downloading MPD manifest\n",
      "[download]  60.9% of ~46.41MiB at  1.00MiB/s ETA 00:2707[dashsegments] Total fragments: 314\n",
      "[download]  36.6% of ~49.26MiB at 547.49KiB/s ETA 00:40[download] Destination: Career Tips for Singaporean Youths & Life as an MP - Mr Zainal Sapari _ Singaporean Podcast#18-5VpSUeWPEuo.webm\n",
      "[download]  64.6% of ~46.32MiB at 988.61KiB/s ETA 00:2441Deleting original file My First Boyfriend Cheated On Me With Several Girls _ The Thirsty Sisters #9-Y6RYZpbANJI.m4a (pass -k to keep)\n",
      "[download]   4.3% of ~44.28MiB at 556.40KiB/s ETA 00:49"
     ]
    },
    {
     "name": "stderr",
     "output_type": "stream",
     "text": [
      "\r",
      " 33%|███▎      | 6/18 [18:36<35:46, 178.89s/it]"
     ]
    },
    {
     "name": "stdout",
     "output_type": "stream",
     "text": [
      "[download]  65.6% of ~46.30MiB at 755.28KiB/s ETA 00:237[youtube] OYasARh1cBQ: Downloading webpage\n",
      "[download]  67.1% of ~46.37MiB at 199.65KiB/s ETA 00:223[download] Destination: Love And Relationships In Modern Society (ft. Psychology Professor Andy Ho) _ IMO Ep.10-OYasARh1cBQ.m4a\n",
      "[download] 100% of 25.27MiB in 00:01.41MiB/s ETA 00:200own ETA\n",
      "[download]  11.0% of ~46.55MiB at  1.10MiB/s ETA 00:473[ffmpeg] Correcting container in \"Love And Relationships In Modern Society (ft. Psychology Professor Andy Ho) _ IMO Ep.10-OYasARh1cBQ.m4a\"\n",
      "[download]  13.1% of ~46.88MiB at 193.66KiB/s ETA 00:469[ffmpeg] Destination: Love And Relationships In Modern Society (ft. Psychology Professor Andy Ho) _ IMO Ep.10-OYasARh1cBQ.mp3\n",
      "[download]  13.8% of ~46.89MiB at 650.34KiB/s ETA 00:466Deleting original file Conversations with a Young Singaporean CEO -Gao Fei, CEO of LearnSeeker _ Singaporean Podcast #13 -b9YHjghfd2E.webm (pass -k to keep)\n",
      "[download]  49.8% of ~49.59MiB at  1.13MiB/s ETA 00:31"
     ]
    },
    {
     "name": "stderr",
     "output_type": "stream",
     "text": [
      "WARNING: Unable to remove downloaded original file\n"
     ]
    },
    {
     "name": "stdout",
     "output_type": "stream",
     "text": [
      "[download]  73.1% of ~46.40MiB at  1.24MiB/s ETA 00:18"
     ]
    },
    {
     "name": "stderr",
     "output_type": "stream",
     "text": [
      "\r",
      " 28%|██▊       | 5/18 [18:41<54:46, 252.82s/it]"
     ]
    },
    {
     "name": "stdout",
     "output_type": "stream",
     "text": [
      "[download]  73.8% of ~46.39MiB at 698.20KiB/s ETA 00:175[youtube] H4M_ZUDAT3k: Downloading webpage\n",
      "[download]  16.0% of ~46.75MiB at 306.77KiB/s ETA 00:454[download] Destination: The Fashion Weak Podcast EP 25 - Don't Mess With @zamaeraaa's Hello Kitty Cup-H4M_ZUDAT3k.webm\n",
      "[download] 100% of 77.46MiB in 00:03.34MiB/s ETA 00:253own ETA\n",
      "[download]  81.0% of ~46.41MiB at 783.09KiB/s ETA 00:12[ffmpeg] Destination: The Fashion Weak Podcast EP 25 - Don't Mess With @zamaeraaa's Hello Kitty Cup-H4M_ZUDAT3k.mp3\n",
      "[download]  35.0% of ~46.40MiB at  1.25MiB/s ETA 00:3440Deleting original file Why Random Hobbies Can Make You More Productive In Life _ Informal Convos. with Xin Yee and Leonard-JyAEITJk1AI.m4a (pass -k to keep)\n",
      "[download]  35.0% of ~46.40MiB at  1.18MiB/s ETA 00:34"
     ]
    },
    {
     "name": "stderr",
     "output_type": "stream",
     "text": [
      "\r",
      " 22%|██▏       | 4/18 [18:52<1:03:19, 271.38s/it]"
     ]
    },
    {
     "name": "stdout",
     "output_type": "stream",
     "text": [
      "[download]  35.8% of ~46.43MiB at 728.14KiB/s ETA 00:33[youtube] DFFHEbk_iYs: Downloading webpage\n",
      "[download]  37.3% of ~46.48MiB at 278.97KiB/s ETA 00:33"
     ]
    },
    {
     "name": "stderr",
     "output_type": "stream",
     "text": [
      "ERROR: DFFHEbk_iYs: YouTube said: Unable to extract video data\n"
     ]
    },
    {
     "name": "stdout",
     "output_type": "stream",
     "text": [
      "[download]  70.8% of ~49.49MiB at 336.84KiB/s ETA 00:17"
     ]
    },
    {
     "name": "stderr",
     "output_type": "stream",
     "text": [
      "\r",
      " 28%|██▊       | 5/18 [18:53<41:14, 190.34s/it]  "
     ]
    },
    {
     "name": "stdout",
     "output_type": "stream",
     "text": [
      "[download]  37.6% of ~46.50MiB at 150.52KiB/s ETA 00:32Deleting original file The Lansi Taikor Who Sells Pins For A Living - The Fashion Weak Podcast Episode 2-5cG8wHdaKIU.webm (pass -k to keep)\n",
      "[download]  37.6% of ~46.50MiB at 261.65KiB/s ETA 00:32"
     ]
    },
    {
     "name": "stderr",
     "output_type": "stream",
     "text": [
      "\r",
      " 17%|█▋        | 3/18 [18:54<1:41:42, 406.84s/it]"
     ]
    },
    {
     "name": "stdout",
     "output_type": "stream",
     "text": [
      "[download]  93.4% of ~46.34MiB at 975.30KiB/s ETA 00:04[youtube] 8QhPCqS5aBA: Downloading webpage\n",
      "[download]  38.2% of ~46.52MiB at 415.21KiB/s ETA 00:32[youtube] vKpmE4ZFnGE: Downloading webpage\n",
      "[download]  94.3% of ~46.36MiB at 154.99KiB/s ETA 00:034"
     ]
    },
    {
     "name": "stderr",
     "output_type": "stream",
     "text": [
      "ERROR: vKpmE4ZFnGE: YouTube said: Unable to extract video data\n"
     ]
    },
    {
     "name": "stdout",
     "output_type": "stream",
     "text": [
      "[download]  94.3% of ~46.36MiB at 221.32KiB/s ETA 00:03"
     ]
    },
    {
     "name": "stderr",
     "output_type": "stream",
     "text": [
      "\r",
      " 22%|██▏       | 4/18 [18:54<1:06:30, 285.05s/it]"
     ]
    },
    {
     "name": "stdout",
     "output_type": "stream",
     "text": [
      "[download]  94.9% of ~46.36MiB at  1.12MiB/s ETA 00:031[download] Destination: Debbie on Marriage, Quarantine and Being a Young Mom - The Team Titan Show-8QhPCqS5aBA.webm\n",
      "[download]  40.8% of ~46.55MiB at  1.03MiB/s ETA 00:3115[youtube] QxVzXbS1WFE: Downloading webpage\n",
      "[download]  96.9% of ~46.34MiB at  1.09MiB/s ETA 00:0252wn ETA[download] Destination: Mamak Sessions - How Do You Maximize Your Income In The Year Of The Rat Ft Dato' Joey Yap-QxVzXbS1WFE.webm\n",
      "[download] 100% of 55.24MiB in 00:022.63KiB/s ETA 00:28own ETA\n",
      "[download]  99.8% of ~46.34MiB at 296.16KiB/s ETA 00:003wn ETA[ffmpeg] Destination: Debbie on Marriage, Quarantine and Being a Young Mom - The Team Titan Show-8QhPCqS5aBA.mp3\n",
      "[download] 100% of 46.34MiB in 01:069.65KiB/s ETA 00:13\n",
      "[download] 100% of 43.03MiB in 00:01\n",
      "[download]  78.8% of ~49.60MiB at  1.25MiB/s ETA 00:128[ffmpeg] Destination: Making Architectural Studies Accessible _ Singaporean Podcast #9 _ Gabriel Chek-vpaZHhpn8CY.mp3\n",
      "[ffmpeg] Destination: Mamak Sessions - How Do You Maximize Your Income In The Year Of The Rat Ft Dato' Joey Yap-QxVzXbS1WFE.mp3\n",
      "[download] 100% of 49.81MiB in 01:00.00MiB/s ETA 00:1600\n",
      "[download]  69.5% of ~45.99MiB at 220.29KiB/s ETA 00:16[ffmpeg] Destination: Perspective from an American hustling in SG _ Singaporean Podcast #5 _ Peter Lam-5t_yyrP2OdI.mp3\n",
      "[download]  95.0% of ~45.60MiB at 398.18KiB/s ETA 00:023Deleting original file Mamak Sessions Podcast - How Dean Lewis became who he is today-HkOQy1Nxpis.webm (pass -k to keep)\n",
      "[download]  95.0% of ~45.60MiB at 698.25KiB/s ETA 00:02"
     ]
    },
    {
     "name": "stderr",
     "output_type": "stream",
     "text": [
      "\r",
      " 22%|██▏       | 4/18 [19:28<1:05:58, 282.77s/it]"
     ]
    },
    {
     "name": "stdout",
     "output_type": "stream",
     "text": [
      "[download]  95.9% of ~45.60MiB at 870.35KiB/s ETA 00:02[youtube] HDuY9UdkkaE: Downloading webpage\n",
      "[download]  97.1% of ~45.61MiB at 929.33KiB/s ETA 00:01[download] Destination: The Fashion Weak Podcast Ep 15 - Underwear Sneakers & Fruits With @OhZooey-HDuY9UdkkaE.webm\n",
      "[download] 100% of 45.43MiB in 00:5728MiB/s ETA 00:0600own ETA\n",
      "[download]  59.8% of 62.35MiB at 20.42MiB/s ETA 00:01[ffmpeg] Destination: Career Tips for Singaporean Youths & Life as an MP - Mr Zainal Sapari _ Singaporean Podcast#18-5VpSUeWPEuo.mp3\n",
      "[download] 100% of 62.35MiB in 00:0397MiB/s ETA 00:004nown ETA\n",
      "[ffmpeg] Destination: The Fashion Weak Podcast Ep 15 - Underwear Sneakers & Fruits With @OhZooey-HDuY9UdkkaE.mp3\n",
      "Deleting original file Mamak Sessions - This Guy Made Millions Out Of Passion-qVpcfmZF1oY.webm (pass -k to keep)\n"
     ]
    },
    {
     "name": "stderr",
     "output_type": "stream",
     "text": [
      "\r",
      " 28%|██▊       | 5/18 [20:19<55:25, 255.81s/it]  "
     ]
    },
    {
     "name": "stdout",
     "output_type": "stream",
     "text": [
      "[youtube] te2Be5GNNys: Downloading webpage\n",
      "[download] Destination: Mamak Sessions - How Dating Has Changed & Tenet ft Elizabeth Debicki and John David Washington-te2Be5GNNys.webm\n",
      "[download] 100% of 50.81MiB in 00:0217MiB/s ETA 00:002nown ETA\n",
      "[ffmpeg] Destination: Mamak Sessions - How Dating Has Changed & Tenet ft Elizabeth Debicki and John David Washington-te2Be5GNNys.mp3\n",
      "Deleting original file Love And Relationships In Modern Society (ft. Psychology Professor Andy Ho) _ IMO Ep.10-OYasARh1cBQ.m4a (pass -k to keep)\n"
     ]
    },
    {
     "name": "stderr",
     "output_type": "stream",
     "text": [
      "\r",
      " 39%|███▉      | 7/18 [20:38<29:38, 161.72s/it]"
     ]
    },
    {
     "name": "stdout",
     "output_type": "stream",
     "text": [
      "[youtube] -2d7wzvNOCE: Downloading webpage\n",
      "[youtube] -2d7wzvNOCE: Downloading MPD manifest\n",
      "[dashsegments] Total fragments: 835\n",
      "[download] Destination: Why Blockchain & Crypo Matters _ Singaporean Podcast #15 _ Royal Pek--2d7wzvNOCE.webm\n",
      "[download]  36.6% of ~117.50MiB at 301.47KiB/s ETA 01:533246Deleting original file Amander Reveals Why She Left Titan - The Team Titan Show-7byI9tIJeRk.webm (pass -k to keep)\n",
      "[download]  36.7% of ~117.50MiB at 342.89KiB/s ETA 01:53"
     ]
    },
    {
     "name": "stderr",
     "output_type": "stream",
     "text": [
      "\r",
      " 17%|█▋        | 3/18 [21:46<1:50:20, 441.37s/it]"
     ]
    },
    {
     "name": "stdout",
     "output_type": "stream",
     "text": [
      "[download]  36.9% of ~117.44MiB at 258.46KiB/s ETA 01:52[youtube] YtCn4hNLk7o: Downloading webpage\n",
      "[download]  37.4% of ~117.44MiB at 906.07KiB/s ETA 01:511[youtube] YtCn4hNLk7o: Downloading MPD manifest\n",
      "[download]  37.8% of ~117.47MiB at 126.43KiB/s ETA 01:50[dashsegments] Total fragments: 382\n",
      "[download]  37.9% of ~117.47MiB at 175.37KiB/s ETA 01:50[download] Destination: Why Human Resources Matters + Life as a Singapore Solopreneur _ Lauren Ong _ Singaporean Podcast #20-YtCn4hNLk7o.webm\n",
      "[download]  60.0% of ~117.20MiB at 559.06KiB/s ETA 01:089Deleting original file Why Singaporean Female Entrepreneurship Matters _ Huda Hamid _ Singaporean Podcast #44-myPdnyUGvUk.webm (pass -k to keep)\n",
      "[download]  60.1% of ~117.20MiB at  1.02MiB/s ETA 01:088"
     ]
    },
    {
     "name": "stderr",
     "output_type": "stream",
     "text": [
      "\r",
      " 28%|██▊       | 5/18 [22:23<1:01:28, 283.73s/it]"
     ]
    },
    {
     "name": "stdout",
     "output_type": "stream",
     "text": [
      "[download]  60.5% of ~117.19MiB at 568.33KiB/s ETA 01:07[youtube] NqCp8Csl7PE: Downloading webpage\n",
      "[download]  61.1% of ~117.17MiB at  1.20MiB/s ETA 01:066[download] Destination: Mamak Sessions - My Asian Parents Were Initially Ashamed Of My Career-NqCp8Csl7PE.webm\n",
      "[download] 100% of 35.80MiB in 00:0121.96KiB/s ETA 01:04wn ETA\n",
      "[download]  62.2% of ~117.19MiB at 256.18KiB/s ETA 01:04[ffmpeg] Destination: Mamak Sessions - My Asian Parents Were Initially Ashamed Of My Career-NqCp8Csl7PE.mp3\n",
      "[download] 100% of 52.66MiB in 01:0980.76KiB/s ETA 00:300\n",
      "[download]  82.2% of ~116.99MiB at 152.35KiB/s ETA 00:29[ffmpeg] Destination: Why Human Resources Matters + Life as a Singapore Solopreneur _ Lauren Ong _ Singaporean Podcast #20-YtCn4hNLk7o.mp3\n",
      "[download]  84.5% of ~117.00MiB at 352.21KiB/s ETA 00:266Deleting original file Mamak Sessions - How Do You Maximize Your Income In The Year Of The Rat Ft Dato' Joey Yap-QxVzXbS1WFE.webm (pass -k to keep)\n",
      "[download]  84.5% of ~117.00MiB at 960.22KiB/s ETA 00:25"
     ]
    },
    {
     "name": "stderr",
     "output_type": "stream",
     "text": [
      "\r",
      " 28%|██▊       | 5/18 [23:02<59:20, 273.91s/it]  "
     ]
    },
    {
     "name": "stdout",
     "output_type": "stream",
     "text": [
      "[download]  84.8% of ~117.01MiB at 881.51KiB/s ETA 00:25[youtube] kmDb6Q-afPc: Downloading webpage\n",
      "[download]  85.1% of ~116.99MiB at 351.07KiB/s ETA 00:25[download] Destination: Is Online Vigilantism Justified _ IMO Ep.8-kmDb6Q-afPc.webm\n",
      "[download] 100% of 26.32MiB in 00:021.01MiB/s ETA 00:223wn ETA\n",
      "[download]  86.5% of ~117.02MiB at 827.50KiB/s ETA 00:22[ffmpeg] Destination: Is Online Vigilantism Justified _ IMO Ep.8-kmDb6Q-afPc.mp3\n",
      "[download]  93.4% of ~117.00MiB at 391.36KiB/s ETA 00:111Deleting original file Should Influencers Be Expected To Do More For Society Pt.2 (ft. Tammy Gan) _ IMO Ep.20-BHF0ift4aRA.webm (pass -k to keep)\n",
      "[download]  93.4% of ~117.00MiB at 113.19KiB/s ETA 00:11"
     ]
    },
    {
     "name": "stderr",
     "output_type": "stream",
     "text": [
      "\r",
      " 33%|███▎      | 6/18 [23:18<47:08, 235.71s/it]"
     ]
    },
    {
     "name": "stdout",
     "output_type": "stream",
     "text": [
      "[download]  93.8% of ~116.99MiB at  1.17MiB/s ETA 00:100[youtube] TzfCaQ8vUMc: Downloading webpage\n",
      "[download]  94.1% of ~117.00MiB at 963.10KiB/s ETA 00:09[download] Destination: The Fashion Weak Podcast Ep 20 - Couple Goals With Maggy Wang & Jobroseph-TzfCaQ8vUMc.m4a\n",
      "[download] 100% of 76.56MiB in 00:0422.52KiB/s ETA 00:05wn ETA\n",
      "[download]  97.1% of ~117.04MiB at  1.01MiB/s ETA 00:0404[ffmpeg] Correcting container in \"The Fashion Weak Podcast Ep 20 - Couple Goals With Maggy Wang & Jobroseph-TzfCaQ8vUMc.m4a\"\n",
      "[download]  99.1% of ~117.11MiB at 815.63KiB/s ETA 00:01[ffmpeg] Destination: The Fashion Weak Podcast Ep 20 - Couple Goals With Maggy Wang & Jobroseph-TzfCaQ8vUMc.mp3\n",
      "[download] 100% of 116.98MiB in 02:481.78KiB/s ETA 00:00\n",
      "[ffmpeg] Destination: Why Blockchain & Crypo Matters _ Singaporean Podcast #15 _ Royal Pek--2d7wzvNOCE.mp3\n",
      "Deleting original file Making Architectural Studies Accessible _ Singaporean Podcast #9 _ Gabriel Chek-vpaZHhpn8CY.webm (pass -k to keep)\n"
     ]
    },
    {
     "name": "stderr",
     "output_type": "stream",
     "text": [
      "\r",
      " 28%|██▊       | 5/18 [23:34<1:03:33, 293.31s/it]"
     ]
    },
    {
     "name": "stdout",
     "output_type": "stream",
     "text": [
      "Deleting original file Perspective from an American hustling in SG _ Singaporean Podcast #5 _ Peter Lam-5t_yyrP2OdI.webm (pass -k to keep)\n"
     ]
    },
    {
     "name": "stderr",
     "output_type": "stream",
     "text": [
      "\r",
      " 22%|██▏       | 4/18 [23:34<1:30:18, 387.07s/it]"
     ]
    },
    {
     "name": "stdout",
     "output_type": "stream",
     "text": [
      "[youtube] fgaCmnMdZ0c: Downloading webpage\n",
      "[youtube] g3iwaxDKQGQ: Downloading webpage\n",
      "[download] Destination: 8 Wheels Vs 4 Wheels With Sukeats From Wheel Love - The Fashion Weak Podcast ep 12-fgaCmnMdZ0c.webm\n",
      "[download]  15.7% of 68.47MiB at  4.36MiB/s ETA 00:131nown ETA[download] Destination: How A 26 Year Old Built A Multi Million YouTube Empire-g3iwaxDKQGQ.webm\n",
      "[download] 100% of 52.55MiB in 00:0229MiB/s ETA 00:005nown ETA\n",
      "[download]  88.5% of 68.47MiB at  8.66MiB/s ETA 00:000nown ETA[ffmpeg] Destination: How A 26 Year Old Built A Multi Million YouTube Empire-g3iwaxDKQGQ.mp3\n",
      "[download] 100% of 68.47MiB in 00:0337MiB/s ETA 00:0000own ETA\n",
      "[ffmpeg] Destination: 8 Wheels Vs 4 Wheels With Sukeats From Wheel Love - The Fashion Weak Podcast ep 12-fgaCmnMdZ0c.mp3\n",
      "Deleting original file Career Tips for Singaporean Youths & Life as an MP - Mr Zainal Sapari _ Singaporean Podcast#18-5VpSUeWPEuo.webm (pass -k to keep)\n"
     ]
    },
    {
     "name": "stderr",
     "output_type": "stream",
     "text": [
      "\r",
      " 39%|███▉      | 7/18 [23:45<45:10, 246.44s/it]"
     ]
    },
    {
     "name": "stdout",
     "output_type": "stream",
     "text": [
      "[youtube] 7dPzh9PpLs8: Downloading webpage\n",
      "[download] Destination: The Fashion Weak Podcast EP16 - Podcast Wars With The From The Thread Boys-7dPzh9PpLs8.webm\n",
      "[download] 100% of 80.89MiB in 00:0509MiB/s ETA 00:002nown ETA\n",
      "[ffmpeg] Destination: The Fashion Weak Podcast EP16 - Podcast Wars With The From The Thread Boys-7dPzh9PpLs8.mp3\n",
      "Deleting original file Debbie on Marriage, Quarantine and Being a Young Mom - The Team Titan Show-8QhPCqS5aBA.webm (pass -k to keep)\n"
     ]
    },
    {
     "name": "stderr",
     "output_type": "stream",
     "text": [
      "\r",
      " 33%|███▎      | 6/18 [24:04<45:18, 226.52s/it]"
     ]
    },
    {
     "name": "stdout",
     "output_type": "stream",
     "text": [
      "[youtube] li1bIAhRp_I: Downloading webpage\n",
      "[download] Destination: Sketchy Beauty Salon Scams Dirty Old Man-li1bIAhRp_I.webm\n",
      "[download] 100% of 7.95MiB in 00:0077MiB/s ETA 00:000\n",
      "[ffmpeg] Destination: Sketchy Beauty Salon Scams Dirty Old Man-li1bIAhRp_I.mp3\n",
      "Deleting original file Sketchy Beauty Salon Scams Dirty Old Man-li1bIAhRp_I.webm (pass -k to keep)\n"
     ]
    },
    {
     "name": "stderr",
     "output_type": "stream",
     "text": [
      "\r",
      " 39%|███▉      | 7/18 [25:01<32:10, 175.53s/it]"
     ]
    },
    {
     "name": "stdout",
     "output_type": "stream",
     "text": [
      "[youtube] jzUidmnXGu8: Downloading webpage\n",
      "[youtube] jzUidmnXGu8: Downloading MPD manifest\n",
      "[dashsegments] Total fragments: 316\n",
      "[download] Destination: Why Arts Management Matters + Leadership Lessons From the Arts _ Singaporean Podcast #42 _ Elvia Goh-jzUidmnXGu8.webm\n",
      "[download]  13.0% of ~45.99MiB at 839.15KiB/s ETA 00:5705Deleting original file Mamak Sessions - How Dating Has Changed & Tenet ft Elizabeth Debicki and John David Washington-te2Be5GNNys.webm (pass -k to keep)\n"
     ]
    },
    {
     "name": "stderr",
     "output_type": "stream",
     "text": [
      "\r",
      " 33%|███▎      | 6/18 [25:12<53:22, 266.90s/it]"
     ]
    },
    {
     "name": "stdout",
     "output_type": "stream",
     "text": [
      "[download]  13.7% of ~45.70MiB at 213.56KiB/s ETA 00:58[youtube] dykz_vuzJh0: Downloading webpage\n",
      "[download]  14.9% of ~45.54MiB at 867.29KiB/s ETA 00:56[download] Destination: The Fashion Weak Podcast Ep24 - Penang Boys @tunway 瘦虎 & @Shawnduabui 肥龍 Talk Zap Fan & Sneakers-dykz_vuzJh0.webm\n",
      "[download] 100% of 83.23MiB in 00:0825MiB/s ETA 00:00499wn ETA\n",
      "[download]  27.6% of ~44.54MiB at 178.74KiB/s ETA 00:48[ffmpeg] Destination: The Fashion Weak Podcast Ep24 - Penang Boys @tunway 瘦虎 & @Shawnduabui 肥龍 Talk Zap Fan & Sneakers-dykz_vuzJh0.mp3\n",
      "[download]  32.6% of ~44.12MiB at  1.04MiB/s ETA 00:4555Deleting original file The Fashion Weak Podcast Ep 15 - Underwear Sneakers & Fruits With @OhZooey-HDuY9UdkkaE.webm (pass -k to keep)\n",
      "[download]  32.6% of ~44.12MiB at 947.14KiB/s ETA 00:45"
     ]
    },
    {
     "name": "stderr",
     "output_type": "stream",
     "text": [
      "\r",
      " 28%|██▊       | 5/18 [25:25<1:06:05, 305.04s/it]"
     ]
    },
    {
     "name": "stdout",
     "output_type": "stream",
     "text": [
      "[download]  33.3% of ~44.07MiB at 128.18KiB/s ETA 00:44[youtube] pFBohAGNYWU: Downloading webpage\n",
      "[download]  34.5% of ~43.99MiB at 269.62KiB/s ETA 00:43[download] Destination: Ryan Tan on Starting YouTube, Struggles and Failures - Team Titan Show #5-pFBohAGNYWU.m4a\n",
      "[download] 100% of 100.22MiB in 00:04.59KiB/s ETA 00:38nown ETA\n",
      "[download]  42.4% of ~43.92MiB at 932.27KiB/s ETA 00:37[ffmpeg] Correcting container in \"Ryan Tan on Starting YouTube, Struggles and Failures - Team Titan Show #5-pFBohAGNYWU.m4a\"\n",
      "[download]  49.7% of ~43.78MiB at 112.83KiB/s ETA 00:336[ffmpeg] Destination: Ryan Tan on Starting YouTube, Struggles and Failures - Team Titan Show #5-pFBohAGNYWU.mp3\n",
      "[download]  68.4% of ~43.62MiB at 990.75KiB/s ETA 00:201Deleting original file Mamak Sessions - My Asian Parents Were Initially Ashamed Of My Career-NqCp8Csl7PE.webm (pass -k to keep)\n",
      "[download]  68.4% of ~43.62MiB at 184.30KiB/s ETA 00:20"
     ]
    },
    {
     "name": "stderr",
     "output_type": "stream",
     "text": [
      "\r",
      " 33%|███▎      | 6/18 [25:48<52:00, 260.02s/it]  "
     ]
    },
    {
     "name": "stdout",
     "output_type": "stream",
     "text": [
      "[download]  69.0% of ~43.59MiB at 138.27KiB/s ETA 00:20[youtube] lPnRg9UsP0M: Downloading webpage\n",
      "[download]  70.0% of ~43.64MiB at 356.28KiB/s ETA 00:19[download] Destination: The Fashion Weak Podcast Ep 38 - TikTok Royalty Roshan Jeet aka Roshannnn1-lPnRg9UsP0M.webm\n",
      "[download]  75.6% of ~43.53MiB at 1003.75KiB/s ETA 00:15wn ETADeleting original file Is Online Vigilantism Justified _ IMO Ep.8-kmDb6Q-afPc.webm (pass -k to keep)\n",
      "[download]  62.4% of 91.08MiB at 18.18MiB/s ETA 00:01"
     ]
    },
    {
     "name": "stderr",
     "output_type": "stream",
     "text": [
      "\r",
      " 33%|███▎      | 6/18 [25:52<48:32, 242.73s/it]"
     ]
    },
    {
     "name": "stdout",
     "output_type": "stream",
     "text": [
      "[download]  76.3% of ~43.50MiB at 165.76KiB/s ETA 00:155wn ETA[youtube] HRd3RMQtkDs: Downloading webpage\n",
      "[download]  77.5% of ~43.50MiB at  1.02MiB/s ETA 00:144own ETA[youtube] HRd3RMQtkDs: Downloading MPD manifest\n",
      "[download] 100% of 91.08MiB in 00:055.49KiB/s ETA 00:13own ETA\n",
      "[download]  79.2% of ~43.53MiB at 149.19KiB/s ETA 00:13[dashsegments] Total fragments: 356\n",
      "[download]  79.2% of ~43.53MiB at 324.84KiB/s ETA 00:13[ffmpeg] Destination: The Fashion Weak Podcast Ep 38 - TikTok Royalty Roshan Jeet aka Roshannnn1-lPnRg9UsP0M.mp3\n",
      "[download] Destination: Become a Software Developer in 90 days and Running His Own Company _ Singaporean Podcast #8 _ Haris-HRd3RMQtkDs.webm\n",
      "[download]  17.4% of ~52.50MiB at  1.09MiB/s ETA 01:01125417Deleting original file The Fashion Weak Podcast EP 25 - Don't Mess With @zamaeraaa's Hello Kitty Cup-H4M_ZUDAT3k.webm (pass -k to keep)\n",
      "[download]  98.4% of ~43.40MiB at 831.73KiB/s ETA 00:01"
     ]
    },
    {
     "name": "stderr",
     "output_type": "stream",
     "text": [
      "\r",
      " 33%|███▎      | 6/18 [26:07<1:02:10, 310.87s/it]"
     ]
    },
    {
     "name": "stdout",
     "output_type": "stream",
     "text": [
      "[download]  17.9% of ~52.58MiB at 1017.18KiB/s ETA 01:01[youtube] _7Un0q6a9zg: Downloading webpage\n",
      "[download] 100% of 43.29MiB in 01:05.03MiB/s ETA 00:590\n",
      "[download]  19.1% of ~52.80MiB at 1021.37KiB/s ETA 01:00[ffmpeg] Destination: Why Arts Management Matters + Leadership Lessons From the Arts _ Singaporean Podcast #42 _ Elvia Goh-jzUidmnXGu8.mp3\n",
      "[download]  19.4% of ~52.75MiB at  1.22MiB/s ETA 00:590[download] Destination: The Fashion Weak Podcast Ep 33 - Lingerie & Bikini Talk With Talitha Tan (@talithabe)-_7Un0q6a9zg.webm\n",
      "[download] 100% of 79.91MiB in 00:07.11MiB/s ETA 00:501own ETA\n",
      "[download]  30.1% of ~53.37MiB at 111.50KiB/s ETA 00:50[ffmpeg] Destination: The Fashion Weak Podcast Ep 33 - Lingerie & Bikini Talk With Talitha Tan (@talithabe)-_7Un0q6a9zg.mp3\n",
      "[download] 100% of 52.69MiB in 01:193.16KiB/s ETA 00:002\n",
      "[ffmpeg] Destination: Become a Software Developer in 90 days and Running His Own Company _ Singaporean Podcast #8 _ Haris-HRd3RMQtkDs.mp3\n",
      "Deleting original file Why Human Resources Matters + Life as a Singapore Solopreneur _ Lauren Ong _ Singaporean Podcast #20-YtCn4hNLk7o.webm (pass -k to keep)\n"
     ]
    },
    {
     "name": "stderr",
     "output_type": "stream",
     "text": [
      "\r",
      " 22%|██▏       | 4/18 [27:58<1:38:08, 420.64s/it]"
     ]
    },
    {
     "name": "stdout",
     "output_type": "stream",
     "text": [
      "[youtube] 6RWRMNiBpJA: Downloading webpage\n",
      "[download] Destination: Is There Truly Original Art Anymore _ IMO Ep.11-6RWRMNiBpJA.webm\n",
      "[download] 100% of 33.12MiB in 00:0409MiB/s ETA 00:006nown ETA\n",
      "[ffmpeg] Destination: Is There Truly Original Art Anymore _ IMO Ep.11-6RWRMNiBpJA.mp3\n",
      "Deleting original file The Fashion Weak Podcast Ep 20 - Couple Goals With Maggy Wang & Jobroseph-TzfCaQ8vUMc.m4a (pass -k to keep)\n"
     ]
    },
    {
     "name": "stderr",
     "output_type": "stream",
     "text": [
      "\r",
      " 39%|███▉      | 7/18 [28:24<47:04, 256.77s/it]"
     ]
    },
    {
     "name": "stdout",
     "output_type": "stream",
     "text": [
      "[youtube] mJuKUwFpDgI: Downloading webpage\n",
      "[download] Destination: The Fashion Weak Podcast Ep 32 - Getting Surprised Reading Melissa Campbell's (@heymelbelle) IG DMs-mJuKUwFpDgI.m4a\n",
      "[download] 100% of 91.62MiB in 00:0411MiB/s ETA 00:004nown ETA\n",
      "[ffmpeg] Correcting container in \"The Fashion Weak Podcast Ep 32 - Getting Surprised Reading Melissa Campbell's (@heymelbelle) IG DMs-mJuKUwFpDgI.m4a\"\n",
      "[ffmpeg] Destination: The Fashion Weak Podcast Ep 32 - Getting Surprised Reading Melissa Campbell's (@heymelbelle) IG DMs-mJuKUwFpDgI.mp3\n",
      "Deleting original file How A 26 Year Old Built A Multi Million YouTube Empire-g3iwaxDKQGQ.webm (pass -k to keep)\n"
     ]
    },
    {
     "name": "stderr",
     "output_type": "stream",
     "text": [
      "\r",
      " 28%|██▊       | 5/18 [28:46<1:18:58, 364.53s/it]"
     ]
    },
    {
     "name": "stdout",
     "output_type": "stream",
     "text": [
      "[youtube] NCiDUw4mQgE: Downloading webpage\n",
      "[download] Destination: Butts and D_ck Pics, MILF Hunting Part 2 With Nor Soraya - The Fashion Weak Podcast Episode 5-NCiDUw4mQgE.webm\n",
      "[download] 100% of 54.35MiB in 00:0300MiB/s ETA 00:009nown ETA\n",
      "[ffmpeg] Destination: Butts and D_ck Pics, MILF Hunting Part 2 With Nor Soraya - The Fashion Weak Podcast Episode 5-NCiDUw4mQgE.mp3\n",
      "Deleting original file 8 Wheels Vs 4 Wheels With Sukeats From Wheel Love - The Fashion Weak Podcast ep 12-fgaCmnMdZ0c.webm (pass -k to keep)\n"
     ]
    },
    {
     "name": "stderr",
     "output_type": "stream",
     "text": [
      "\r",
      " 33%|███▎      | 6/18 [30:02<1:04:23, 321.98s/it]"
     ]
    },
    {
     "name": "stdout",
     "output_type": "stream",
     "text": [
      "[youtube] PazCOj1nb3c: Downloading webpage\n",
      "[download] Destination: Mamak Sessions - The Miss World Crown is more than $4,000,000!-PazCOj1nb3c.webm\n",
      "[download] 100% of 35.84MiB in 00:13.72KiB/s ETA 00:00nown ETA\n",
      "[ffmpeg] Destination: Mamak Sessions - The Miss World Crown is more than $4,000,000!-PazCOj1nb3c.mp3\n",
      "Deleting original file Why Arts Management Matters + Leadership Lessons From the Arts _ Singaporean Podcast #42 _ Elvia Goh-jzUidmnXGu8.webm (pass -k to keep)\n"
     ]
    },
    {
     "name": "stderr",
     "output_type": "stream",
     "text": [
      "\r",
      " 44%|████▍     | 8/18 [30:21<36:30, 219.04s/it]"
     ]
    },
    {
     "name": "stdout",
     "output_type": "stream",
     "text": [
      "[youtube] lfoBmafO37A: Downloading webpage\n",
      "[download] Destination: Tips For First Job-ers _ IMO Ep.31-lfoBmafO37A.webm\n",
      "[download] 100% of 33.83MiB in 00:0211MiB/s ETA 00:006nown ETA\n",
      "[ffmpeg] Destination: Tips For First Job-ers _ IMO Ep.31-lfoBmafO37A.mp3\n",
      "Deleting original file Is There Truly Original Art Anymore _ IMO Ep.11-6RWRMNiBpJA.webm (pass -k to keep)\n"
     ]
    },
    {
     "name": "stderr",
     "output_type": "stream",
     "text": [
      "\r",
      " 28%|██▊       | 5/18 [31:38<1:18:05, 360.42s/it]"
     ]
    },
    {
     "name": "stdout",
     "output_type": "stream",
     "text": [
      "[youtube] 3-DoQSmz5aI: Downloading webpage\n",
      "[download] Destination: I Dated A Guy Twice My Age Our First Date Don'ts _ The Thirsty Sisters #19-3-DoQSmz5aI.m4a\n",
      "[download] 100% of 35.15MiB in 00:0181MiB/s ETA 00:006nown ETA\n",
      "[ffmpeg] Correcting container in \"I Dated A Guy Twice My Age Our First Date Don'ts _ The Thirsty Sisters #19-3-DoQSmz5aI.m4a\"\n",
      "Deleting original file The Fashion Weak Podcast EP16 - Podcast Wars With The From The Thread Boys-7dPzh9PpLs8.webm (pass -k to keep)\n"
     ]
    },
    {
     "name": "stderr",
     "output_type": "stream",
     "text": [
      "\r",
      " 44%|████▍     | 8/18 [31:44<52:42, 316.24s/it]"
     ]
    },
    {
     "name": "stdout",
     "output_type": "stream",
     "text": [
      "[ffmpeg] Destination: I Dated A Guy Twice My Age Our First Date Don'ts _ The Thirsty Sisters #19-3-DoQSmz5aI.mp3\n",
      "[youtube] Pkv6d83oe8s: Downloading webpage\n",
      "[download] Destination: The Fashion Weak Podcast Ep 21 - Suitmaker To The Stars, Shahrin Bahar aka @sbahar.my-Pkv6d83oe8s.m4a\n",
      "[download] 100% of 102.38MiB in 00:0881MiB/s ETA 00:004nown ETA\n",
      "[ffmpeg] Correcting container in \"The Fashion Weak Podcast Ep 21 - Suitmaker To The Stars, Shahrin Bahar aka @sbahar.my-Pkv6d83oe8s.m4a\"\n",
      "[ffmpeg] Destination: The Fashion Weak Podcast Ep 21 - Suitmaker To The Stars, Shahrin Bahar aka @sbahar.my-Pkv6d83oe8s.mp3\n",
      "Deleting original file Become a Software Developer in 90 days and Running His Own Company _ Singaporean Podcast #8 _ Haris-HRd3RMQtkDs.webm (pass -k to keep)\n"
     ]
    },
    {
     "name": "stderr",
     "output_type": "stream",
     "text": [
      "\r",
      " 39%|███▉      | 7/18 [32:06<51:43, 282.10s/it]"
     ]
    },
    {
     "name": "stdout",
     "output_type": "stream",
     "text": [
      "[youtube] Yv7uONh96tc: Downloading webpage\n"
     ]
    },
    {
     "name": "stderr",
     "output_type": "stream",
     "text": [
      "ERROR: Yv7uONh96tc: YouTube said: Unable to extract video data\n",
      " 44%|████▍     | 8/18 [32:07<32:57, 197.79s/it]"
     ]
    },
    {
     "name": "stdout",
     "output_type": "stream",
     "text": [
      "[youtube] rxmMRAzLRJ0: Downloading webpage\n",
      "[download] Destination: The Fashion Weak Podcast EP 27 -  Peter Davis talks cars, mixed rice and some fashion.-rxmMRAzLRJ0.webm\n",
      "[download] 100% of 76.81MiB in 00:0347MiB/s ETA 00:009nown ETA\n",
      "[ffmpeg] Destination: The Fashion Weak Podcast EP 27 -  Peter Davis talks cars, mixed rice and some fashion.-rxmMRAzLRJ0.mp3\n",
      "Deleting original file Ryan Tan on Starting YouTube, Struggles and Failures - Team Titan Show #5-pFBohAGNYWU.m4a (pass -k to keep)\n"
     ]
    },
    {
     "name": "stderr",
     "output_type": "stream",
     "text": [
      "\r",
      " 33%|███▎      | 6/18 [32:24<1:07:50, 339.22s/it]"
     ]
    },
    {
     "name": "stdout",
     "output_type": "stream",
     "text": [
      "[youtube] Jn2oeTajYCw: Downloading webpage\n",
      "[download] Destination: Mamak Sessions Ep2 - Bringing A Girl Home For The First Time-Jn2oeTajYCw.webm\n",
      "[download] 100% of 44.53MiB in 00:0268MiB/s ETA 00:006nown ETA\n",
      "[ffmpeg] Destination: Mamak Sessions Ep2 - Bringing A Girl Home For The First Time-Jn2oeTajYCw.mp3\n",
      "Deleting original file The Fashion Weak Podcast Ep24 - Penang Boys @tunway 瘦虎 & @Shawnduabui 肥龍 Talk Zap Fan & Sneakers-dykz_vuzJh0.webm (pass -k to keep)\n"
     ]
    },
    {
     "name": "stderr",
     "output_type": "stream",
     "text": [
      "\r",
      " 39%|███▉      | 7/18 [33:28<1:01:32, 335.71s/it]"
     ]
    },
    {
     "name": "stdout",
     "output_type": "stream",
     "text": [
      "[youtube] 6syqXC_o6gs: Downloading webpage\n",
      "[download] Destination: Being Bullied, Toxic Masculinity And Theatre _ HTHT - Fauzi Aziz-6syqXC_o6gs.webm\n",
      "[download] 100% of 88.66MiB in 00:0542MiB/s ETA 00:000nown ETA\n",
      "[ffmpeg] Destination: Being Bullied, Toxic Masculinity And Theatre _ HTHT - Fauzi Aziz-6syqXC_o6gs.mp3\n",
      "Deleting original file Mamak Sessions - The Miss World Crown is more than $4,000,000!-PazCOj1nb3c.webm (pass -k to keep)\n"
     ]
    },
    {
     "name": "stderr",
     "output_type": "stream",
     "text": [
      "\r",
      " 39%|███▉      | 7/18 [33:52<53:55, 294.15s/it]  "
     ]
    },
    {
     "name": "stdout",
     "output_type": "stream",
     "text": [
      "[youtube] eWNQhDNoSsY: Downloading webpage\n",
      "[download] Destination: The Fashion Weak Podcast EP 41 - Investment Tips For Chee Seng With Fuad & Shaq From Kyoto Protocol-eWNQhDNoSsY.webm\n",
      "[download]  10.0% of 98.73MiB at  1.39MiB/s ETA 01:038nown ETADeleting original file Tips For First Job-ers _ IMO Ep.31-lfoBmafO37A.webm (pass -k to keep)\n",
      "[download]  11.8% of 98.73MiB at  8.12MiB/s ETA 00:10"
     ]
    },
    {
     "name": "stderr",
     "output_type": "stream",
     "text": [
      "\r",
      " 50%|█████     | 9/18 [33:54<32:33, 217.01s/it]"
     ]
    },
    {
     "name": "stdout",
     "output_type": "stream",
     "text": [
      "[download]  20.2% of 98.73MiB at  2.72MiB/s ETA 00:281nown ETA[youtube] Ra_xW9MwRKQ: Downloading webpage\n",
      "[download]  33.5% of 98.73MiB at 15.48MiB/s ETA 00:042nown ETA[download] Destination: Mamak Sessions - What Did This Business Do To Overcome The Pandemic-Ra_xW9MwRKQ.webm\n",
      "[download] 100% of 29.09MiB in 00:0282MiB/s ETA 00:004nown ETA\n",
      "[download]  77.3% of 98.73MiB at 18.25MiB/s ETA 00:01[ffmpeg] Destination: Mamak Sessions - What Did This Business Do To Overcome The Pandemic-Ra_xW9MwRKQ.mp3\n",
      "[download]  90.8% of 98.73MiB at 10.32MiB/s ETA 00:008nown ETADeleting original file I Dated A Guy Twice My Age Our First Date Don'ts _ The Thirsty Sisters #19-3-DoQSmz5aI.m4a (pass -k to keep)\n"
     ]
    },
    {
     "name": "stderr",
     "output_type": "stream",
     "text": [
      "\r",
      " 33%|███▎      | 6/18 [33:58<58:52, 294.36s/it]  "
     ]
    },
    {
     "name": "stdout",
     "output_type": "stream",
     "text": [
      "[download]  98.9% of 98.73MiB at  1.82MiB/s ETA 00:001nown ETA[youtube] mIc0MmSoaiI: Downloading webpage\n",
      "[download] 100% of 98.73MiB in 00:0672MiB/s ETA 00:00\n",
      "[ffmpeg] Destination: The Fashion Weak Podcast EP 41 - Investment Tips For Chee Seng With Fuad & Shaq From Kyoto Protocol-eWNQhDNoSsY.mp3\n"
     ]
    },
    {
     "name": "stderr",
     "output_type": "stream",
     "text": [
      "ERROR: mIc0MmSoaiI: YouTube said: Unable to extract video data\n",
      " 39%|███▉      | 7/18 [33:59<37:49, 206.36s/it]"
     ]
    },
    {
     "name": "stdout",
     "output_type": "stream",
     "text": [
      "[youtube] wnxWhWRk4Sc: Downloading webpage\n",
      "[download] Destination: tFreedom - Sex Education In Singapore _ IMO Ep.30-wnxWhWRk4Sc.webm\n",
      "[download] 100% of 47.88MiB in 00:0367MiB/s ETA 00:003nown ETA\n",
      "Deleting original file Butts and D_ck Pics, MILF Hunting Part 2 With Nor Soraya - The Fashion Weak Podcast Episode 5-NCiDUw4mQgE.webm (pass -k to keep)\n"
     ]
    },
    {
     "name": "stderr",
     "output_type": "stream",
     "text": [
      "\r",
      " 33%|███▎      | 6/18 [34:04<1:10:08, 350.68s/it]"
     ]
    },
    {
     "name": "stdout",
     "output_type": "stream",
     "text": [
      "[ffmpeg] Destination: tFreedom - Sex Education In Singapore _ IMO Ep.30-wnxWhWRk4Sc.mp3\n",
      "[youtube] shV1F1JlDzk: Downloading webpage\n",
      "Deleting original file The Fashion Weak Podcast Ep 33 - Lingerie & Bikini Talk With Talitha Tan (@talithabe)-_7Un0q6a9zg.webm (pass -k to keep)\n"
     ]
    },
    {
     "name": "stderr",
     "output_type": "stream",
     "text": [
      "\r",
      " 39%|███▉      | 7/18 [34:05<1:06:09, 360.90s/it]"
     ]
    },
    {
     "name": "stdout",
     "output_type": "stream",
     "text": [
      "[download] Destination: The Fashion Weak Podcast Ep 28 @dreamrocketeers on that Rolex you should cop to flex on poor friends-shV1F1JlDzk.webm\n",
      "[download]   0.3% of 85.69MiB at  1.20MiB/s ETA 01:113[youtube] m1kmhgWoQVE: Downloading webpage\n",
      "[download]  16.1% of 85.69MiB at 13.72MiB/s ETA 00:054nown ETA[download] Destination: How JianHao and Debbie Met and What Happened to WooW - The Team Titan Show-m1kmhgWoQVE.webm\n",
      "[download] 100% of 41.58MiB in 00:0261MiB/s ETA 00:229nown ETA\n",
      "[download]  61.4% of 85.69MiB at 12.83MiB/s ETA 00:02[ffmpeg] Destination: How JianHao and Debbie Met and What Happened to WooW - The Team Titan Show-m1kmhgWoQVE.mp3\n",
      "[download] 100% of 85.69MiB in 00:0562MiB/s ETA 00:0008own ETA\n",
      "[ffmpeg] Destination: The Fashion Weak Podcast Ep 28 @dreamrocketeers on that Rolex you should cop to flex on poor friends-shV1F1JlDzk.mp3\n",
      "Deleting original file The Fashion Weak Podcast Ep 38 - TikTok Royalty Roshan Jeet aka Roshannnn1-lPnRg9UsP0M.webm (pass -k to keep)\n"
     ]
    },
    {
     "name": "stderr",
     "output_type": "stream",
     "text": [
      "\r",
      " 39%|███▉      | 7/18 [34:43<1:02:49, 342.67s/it]"
     ]
    },
    {
     "name": "stdout",
     "output_type": "stream",
     "text": [
      "[youtube] BrYHWQ4xmSc: Downloading webpage\n",
      "[youtube] BrYHWQ4xmSc: Downloading MPD manifest\n",
      "[dashsegments] Total fragments: 276\n",
      "[download] Destination: How To Be A Facebook Video Content Creator with 50M+ Views _ Singaporean Podcast #27 _ Mitch Summers-BrYHWQ4xmSc.webm\n",
      "[download]   1.1% of ~28.17MiB at 902.92KiB/s ETA 01:1310:56Deleting original file The Fashion Weak Podcast Ep 32 - Getting Surprised Reading Melissa Campbell's (@heymelbelle) IG DMs-mJuKUwFpDgI.m4a (pass -k to keep)\n",
      "[download]   1.1% of ~28.17MiB at 902.92KiB/s ETA 01:13"
     ]
    },
    {
     "name": "stderr",
     "output_type": "stream",
     "text": [
      "\r",
      " 44%|████▍     | 8/18 [34:47<49:04, 294.45s/it]"
     ]
    },
    {
     "name": "stdout",
     "output_type": "stream",
     "text": [
      "[download]   1.9% of ~36.06MiB at 519.17KiB/s ETA 01:13[youtube] rjjK4aAbKnw: Downloading webpage\n",
      "[download]   2.9% of ~37.70MiB at 1004.50KiB/s ETA 01:02[youtube] rjjK4aAbKnw: Downloading MPD manifest\n",
      "[download]   4.7% of ~39.68MiB at  1.07MiB/s ETA 00:5922[dashsegments] Total fragments: 425\n",
      "[download]   4.7% of ~39.68MiB at  1.07MiB/s ETA 00:59[download] Destination: Overcoming Depression & Redefining What Failure Means to Youths_ Singaporean Podcast #10 _ Kevin Wee-rjjK4aAbKnw.webm\n",
      "[download]  28.7% of ~42.77MiB at 256.24KiB/s ETA 00:3960013Deleting original file Why Blockchain & Crypo Matters _ Singaporean Podcast #15 _ Royal Pek--2d7wzvNOCE.webm (pass -k to keep)\n",
      "[download]  28.8% of ~42.77MiB at 792.47KiB/s ETA 00:39"
     ]
    },
    {
     "name": "stderr",
     "output_type": "stream",
     "text": [
      "\r",
      " 44%|████▍     | 8/18 [35:02<1:02:04, 372.41s/it]"
     ]
    },
    {
     "name": "stdout",
     "output_type": "stream",
     "text": [
      "[download]  30.1% of ~42.81MiB at  1.82MiB/s ETA 00:385[youtube] 79ax7ZQss5M: Downloading webpage\n",
      "[download]  16.3% of ~55.06MiB at 242.37KiB/s ETA 01:137[download] Destination: Mamak Sessions - Coming Out ft. Nigel Chin and Magnum-79ax7ZQss5M.webm\n",
      "[download] 100% of 39.91MiB in 00:020.44KiB/s ETA 00:34own ETA\n",
      "[download]  37.0% of ~42.76MiB at 240.05KiB/s ETA 00:34[ffmpeg] Destination: Mamak Sessions - Coming Out ft. Nigel Chin and Magnum-79ax7ZQss5M.mp3\n",
      "[download] 100% of 43.17MiB in 00:530.17KiB/s ETA 00:007\n",
      "[download]  58.1% of ~55.19MiB at  1.05MiB/s ETA 00:366[ffmpeg] Destination: How To Be A Facebook Video Content Creator with 50M+ Views _ Singaporean Podcast #27 _ Mitch Summers-BrYHWQ4xmSc.mp3\n",
      "[download] 100% of 55.42MiB in 01:319.52KiB/s ETA 00:000\n",
      "[ffmpeg] Destination: Overcoming Depression & Redefining What Failure Means to Youths_ Singaporean Podcast #10 _ Kevin Wee-rjjK4aAbKnw.mp3\n",
      "Deleting original file Mamak Sessions Ep2 - Bringing A Girl Home For The First Time-Jn2oeTajYCw.webm (pass -k to keep)\n"
     ]
    },
    {
     "name": "stderr",
     "output_type": "stream",
     "text": [
      "\r",
      " 39%|███▉      | 7/18 [36:40<57:36, 314.19s/it]  "
     ]
    },
    {
     "name": "stdout",
     "output_type": "stream",
     "text": [
      "[youtube] 5SOInBKNP18: Downloading webpage\n",
      "Deleting original file Mamak Sessions - What Did This Business Do To Overcome The Pandemic-Ra_xW9MwRKQ.webm (pass -k to keep)\n"
     ]
    },
    {
     "name": "stderr",
     "output_type": "stream",
     "text": [
      "\r",
      " 56%|█████▌    | 10/18 [36:40<26:55, 201.89s/it]"
     ]
    },
    {
     "name": "stdout",
     "output_type": "stream",
     "text": [
      "[youtube] 5SOInBKNP18: Downloading MPD manifest\n",
      "[youtube] 8DMyfcjyrZQ: Downloading webpage\n",
      "[dashsegments] Total fragments: 280\n",
      "[download] Destination: Being A Single Divorced Woman At 32 _ The Thirsty Sisters #11-8DMyfcjyrZQ.m4a\n",
      "[download] Destination: Real Estate Major + NUS Overseas College in Beijing _ Singaporean Podcast #7 _ Danial Arun-5SOInBKNP18.webm\n",
      "[download] 100% of 45.79MiB in 00:0217.70KiB/s ETA 00:50wn ETA\n",
      "[download]   5.0% of ~40.45MiB at 171.33KiB/s ETA 00:52[ffmpeg] Correcting container in \"Being A Single Divorced Woman At 32 _ The Thirsty Sisters #11-8DMyfcjyrZQ.m4a\"\n",
      "[download]   9.6% of ~41.59MiB at 897.94KiB/s ETA 00:50[ffmpeg] Destination: Being A Single Divorced Woman At 32 _ The Thirsty Sisters #11-8DMyfcjyrZQ.mp3\n",
      "[download] 100% of 42.08MiB in 00:594.69KiB/s ETA 00:004\n",
      "[ffmpeg] Destination: Real Estate Major + NUS Overseas College in Beijing _ Singaporean Podcast #7 _ Danial Arun-5SOInBKNP18.mp3\n",
      "Deleting original file How JianHao and Debbie Met and What Happened to WooW - The Team Titan Show-m1kmhgWoQVE.webm (pass -k to keep)\n"
     ]
    },
    {
     "name": "stderr",
     "output_type": "stream",
     "text": [
      "\r",
      " 44%|████▍     | 8/18 [38:11<54:23, 326.33s/it]  "
     ]
    },
    {
     "name": "stdout",
     "output_type": "stream",
     "text": [
      "[youtube] 1FLelqfAyZU: Downloading webpage\n",
      "[youtube] 1FLelqfAyZU: Downloading MPD manifest\n",
      "[dashsegments] Total fragments: 336\n",
      "[download] Destination: NUS Overseas College and Silicon Valley _ Singaporean Podcast #6 _ Tony Tong-1FLelqfAyZU.webm\n",
      "[download]  47.0% of ~50.73MiB at 162.94KiB/s ETA 00:3676Deleting original file tFreedom - Sex Education In Singapore _ IMO Ep.30-wnxWhWRk4Sc.webm (pass -k to keep)\n",
      "[download]  47.1% of ~50.73MiB at 370.96KiB/s ETA 00:36"
     ]
    },
    {
     "name": "stderr",
     "output_type": "stream",
     "text": [
      "\r",
      " 44%|████▍     | 8/18 [38:46<38:23, 230.34s/it]"
     ]
    },
    {
     "name": "stdout",
     "output_type": "stream",
     "text": [
      "[download]  47.6% of ~50.74MiB at 156.22KiB/s ETA 00:366Deleting original file The Fashion Weak Podcast Ep 21 - Suitmaker To The Stars, Shahrin Bahar aka @sbahar.my-Pkv6d83oe8s.m4a (pass -k to keep)\n",
      "[download]  47.7% of ~50.74MiB at 347.56KiB/s ETA 00:36"
     ]
    },
    {
     "name": "stderr",
     "output_type": "stream",
     "text": [
      "\r",
      " 50%|█████     | 9/18 [38:46<52:12, 348.08s/it]"
     ]
    },
    {
     "name": "stdout",
     "output_type": "stream",
     "text": [
      "[download]  47.9% of ~50.74MiB at  1.00MiB/s ETA 00:366[youtube] IixUPM11VMY: Downloading webpage\n",
      "[download]  48.6% of ~50.69MiB at 152.37KiB/s ETA 00:35[youtube] MCHDyLJDJrg: Downloading webpage\n",
      "[download]  48.6% of ~50.69MiB at 221.24KiB/s ETA 00:35[download] Destination: Mamak Sessions - Can Guys And Girls Be Best Friends Is it ok to see more than one person at a time-IixUPM11VMY.webm\n",
      "[download]  49.7% of ~50.65MiB at 905.31KiB/s ETA 00:345wn ETA[download] Destination: The Fashion Weak Podcast Ep 46 - Premium Thirst Trap Tips With Michelle Lee (@mich8lee)-MCHDyLJDJrg.webm\n",
      "[download] 100% of 42.61MiB in 00:01.13MiB/s ETA 00:3333wn ETA\n",
      "[download]  34.3% of 86.22MiB at 280.12KiB/s ETA 03:273own ETA[ffmpeg] Destination: Mamak Sessions - Can Guys And Girls Be Best Friends Is it ok to see more than one person at a time-IixUPM11VMY.mp3\n",
      "[download] 100% of 86.22MiB in 00:0351MiB/s ETA 00:0000own ETA\n",
      "[download]  55.9% of ~50.49MiB at 119.90KiB/s ETA 00:30[ffmpeg] Destination: The Fashion Weak Podcast Ep 46 - Premium Thirst Trap Tips With Michelle Lee (@mich8lee)-MCHDyLJDJrg.mp3\n",
      "[download]  65.7% of ~50.54MiB at 808.88KiB/s ETA 00:235Deleting original file Mamak Sessions - Coming Out ft. Nigel Chin and Magnum-79ax7ZQss5M.webm (pass -k to keep)\n",
      "[download]  65.8% of ~50.54MiB at 813.59KiB/s ETA 00:23"
     ]
    },
    {
     "name": "stderr",
     "output_type": "stream",
     "text": [
      "\r",
      " 50%|█████     | 9/18 [38:59<49:45, 331.78s/it]  "
     ]
    },
    {
     "name": "stdout",
     "output_type": "stream",
     "text": [
      "[download]  66.4% of ~50.50MiB at 118.63KiB/s ETA 00:23[youtube] LXSNbZF9ag4: Downloading webpage\n",
      "[download]  67.3% of ~50.54MiB at 119.75KiB/s ETA 00:22[youtube] LXSNbZF9ag4: Downloading MPD manifest\n",
      "[download]  69.3% of ~50.52MiB at  1.09MiB/s ETA 00:211[dashsegments] Total fragments: 598\n",
      "[download]  69.3% of ~50.52MiB at  1.09MiB/s ETA 00:21[download] Destination: How to Find a Fulfilling Career & Deal with Self-Judgement _ Singaporean Podcast #24 _ Khye Chan-LXSNbZF9ag4.webm\n",
      "[download] 100% of 49.79MiB in 01:077.76KiB/s ETA 01:3020:00\n",
      "[download]  18.1% of ~86.39MiB at 819.43KiB/s ETA 01:30[ffmpeg] Destination: NUS Overseas College and Silicon Valley _ Singaporean Podcast #6 _ Tony Tong-1FLelqfAyZU.mp3\n",
      "[download]  28.3% of ~85.42MiB at 156.63KiB/s ETA 01:223Deleting original file How To Be A Facebook Video Content Creator with 50M+ Views _ Singaporean Podcast #27 _ Mitch Summers-BrYHWQ4xmSc.webm (pass -k to keep)\n",
      "[download]  28.3% of ~85.42MiB at 174.21KiB/s ETA 01:22"
     ]
    },
    {
     "name": "stderr",
     "output_type": "stream",
     "text": [
      "\r",
      " 44%|████▍     | 8/18 [39:34<54:30, 327.00s/it]  "
     ]
    },
    {
     "name": "stdout",
     "output_type": "stream",
     "text": [
      "[download]  28.8% of ~85.33MiB at 864.87KiB/s ETA 01:222[youtube] 5zAsyNKfzps: Downloading webpage\n",
      "[download]  29.6% of ~85.16MiB at 936.28KiB/s ETA 01:211[download] Destination: Mamak Sessions - How I Got Quarantined Because Of Covid-19 Feat. Mark O'Dea-5zAsyNKfzps.webm\n",
      "[download] 100% of 35.26MiB in 00:01.03MiB/s ETA 01:199own ETA\n",
      "[download]  31.1% of ~85.08MiB at  1.05MiB/s ETA 01:199[ffmpeg] Destination: Mamak Sessions - How I Got Quarantined Because Of Covid-19 Feat. Mark O'Dea-5zAsyNKfzps.mp3\n",
      "[download]  31.8% of ~84.97MiB at 1004.35KiB/s ETA 01:18Deleting original file Being A Single Divorced Woman At 32 _ The Thirsty Sisters #11-8DMyfcjyrZQ.m4a (pass -k to keep)\n",
      "[download]  31.8% of ~84.98MiB at 209.27KiB/s ETA 01:188"
     ]
    },
    {
     "name": "stderr",
     "output_type": "stream",
     "text": [
      "\r",
      " 61%|██████    | 11/18 [39:38<22:41, 194.57s/it]"
     ]
    },
    {
     "name": "stdout",
     "output_type": "stream",
     "text": [
      "[download]  32.3% of ~84.91MiB at 878.56KiB/s ETA 01:188[youtube] WSVo-qvu1GQ: Downloading webpage\n",
      "[download]  32.8% of ~84.95MiB at 377.00KiB/s ETA 01:17[download] Destination: The Fashion Weak Podcast Ep 39 - Talking Turn-On's and Fashion Bulk Buy Deals With Tata Wanqian-WSVo-qvu1GQ.webm\n",
      "[download] 100% of 77.61MiB in 00:036.10KiB/s ETA 01:13own ETA\n",
      "[download]  36.0% of ~84.68MiB at 744.29KiB/s ETA 01:13[ffmpeg] Destination: The Fashion Weak Podcast Ep 39 - Talking Turn-On's and Fashion Bulk Buy Deals With Tata Wanqian-WSVo-qvu1GQ.mp3\n",
      "[download]  41.8% of ~84.44MiB at 929.65KiB/s ETA 01:079Deleting original file The Fashion Weak Podcast EP 27 -  Peter Davis talks cars, mixed rice and some fashion.-rxmMRAzLRJ0.webm (pass -k to keep)\n",
      "[download]  41.8% of ~84.43MiB at 929.65KiB/s ETA 01:07"
     ]
    },
    {
     "name": "stderr",
     "output_type": "stream",
     "text": [
      "\r",
      " 50%|█████     | 9/18 [39:49<41:33, 277.09s/it]"
     ]
    },
    {
     "name": "stdout",
     "output_type": "stream",
     "text": [
      "[download]  42.2% of ~84.43MiB at 603.60KiB/s ETA 01:067[youtube] 1av_p0DPDas: Downloading webpage\n",
      "[download]  42.7% of ~84.43MiB at 365.77KiB/s ETA 01:06[download] Destination: Mamak Sessions Ep4 - What Turns You On, Is it ok if your Girlfriend Earns More & The Ideal Proposal-1av_p0DPDas.webm\n",
      "[download] 100% of 49.92MiB in 00:02.37MiB/s ETA 01:033own ETA\n",
      "[download]  45.3% of ~84.32MiB at 806.32KiB/s ETA 01:03[ffmpeg] Destination: Mamak Sessions Ep4 - What Turns You On, Is it ok if your Girlfriend Earns More & The Ideal Proposal-1av_p0DPDas.mp3\n",
      "[download] 100% of 84.36MiB in 02:009.74KiB/s ETA 00:000\n",
      "[ffmpeg] Destination: How to Find a Fulfilling Career & Deal with Self-Judgement _ Singaporean Podcast #24 _ Khye Chan-LXSNbZF9ag4.mp3\n",
      "Deleting original file Real Estate Major + NUS Overseas College in Beijing _ Singaporean Podcast #7 _ Danial Arun-5SOInBKNP18.webm (pass -k to keep)\n"
     ]
    },
    {
     "name": "stderr",
     "output_type": "stream",
     "text": [
      "\r",
      " 44%|████▍     | 8/18 [41:24<50:51, 305.19s/it]"
     ]
    },
    {
     "name": "stdout",
     "output_type": "stream",
     "text": [
      "[youtube] UryaihXnjBk: Downloading webpage\n",
      "[youtube] UryaihXnjBk: Downloading MPD manifest\n",
      "[dashsegments] Total fragments: 447\n",
      "[download] Destination: Thinking Long And Hard With @prakashdanielcomedy - The Fashion Weak Podcast Episode 13-UryaihXnjBk.webm\n",
      "[download]  19.0% of ~63.50MiB at 310.90KiB/s ETA 01:1661:25Deleting original file Overcoming Depression & Redefining What Failure Means to Youths_ Singaporean Podcast #10 _ Kevin Wee-rjjK4aAbKnw.webm (pass -k to keep)\n",
      "[download]  19.2% of ~63.50MiB at 826.53KiB/s ETA 01:16"
     ]
    },
    {
     "name": "stderr",
     "output_type": "stream",
     "text": [
      "\r",
      " 50%|█████     | 9/18 [41:44<49:42, 331.39s/it]"
     ]
    },
    {
     "name": "stdout",
     "output_type": "stream",
     "text": [
      "[download]  19.7% of ~63.54MiB at 872.34KiB/s ETA 01:15[youtube] 6Oq9APAIYLg: Downloading webpage\n",
      "[download]  20.4% of ~63.70MiB at 1014.86KiB/s ETA 01:14[download] Destination: Mamak Sessions - Is It Too Soon For The Conditional MCO ft. Ernest Ng-6Oq9APAIYLg.webm\n",
      "[download] 100% of 35.47MiB in 00:0237MiB/s ETA 00:00122wn ETA\n",
      "[download]  22.8% of ~63.74MiB at 338.39KiB/s ETA 01:12[ffmpeg] Destination: Mamak Sessions - Is It Too Soon For The Conditional MCO ft. Ernest Ng-6Oq9APAIYLg.mp3\n",
      "[download]  24.2% of ~63.90MiB at 157.76KiB/s ETA 01:10Deleting original file Being Bullied, Toxic Masculinity And Theatre _ HTHT - Fauzi Aziz-6syqXC_o6gs.webm (pass -k to keep)\n",
      "[download]  24.2% of ~63.90MiB at 167.48KiB/s ETA 01:10"
     ]
    },
    {
     "name": "stderr",
     "output_type": "stream",
     "text": [
      "\r",
      " 44%|████▍     | 8/18 [41:49<1:04:11, 385.19s/it]"
     ]
    },
    {
     "name": "stdout",
     "output_type": "stream",
     "text": [
      "[download]  25.1% of ~63.92MiB at  1.27MiB/s ETA 01:099[youtube] gW9sv26g4Io: Downloading webpage\n",
      "[download]  26.2% of ~63.82MiB at 346.19KiB/s ETA 01:08[download] Destination: Nicole Choo on What Went Wrong with Ridhwan - Team Titan Show #4-gW9sv26g4Io.webm\n",
      "[download] 100% of 84.13MiB in 00:1142MiB/s ETA 00:0044own ETA\n",
      "[download]  39.6% of ~63.94MiB at 986.59KiB/s ETA 00:54[ffmpeg] Destination: Nicole Choo on What Went Wrong with Ridhwan - Team Titan Show #4-gW9sv26g4Io.mp3\n",
      "[download]  61.6% of ~63.86MiB at 626.29KiB/s ETA 00:355Deleting original file The Fashion Weak Podcast Ep 28 @dreamrocketeers on that Rolex you should cop to flex on poor friends-shV1F1JlDzk.webm (pass -k to keep)\n",
      "[download]  61.7% of ~63.86MiB at  1.05MiB/s ETA 00:344"
     ]
    },
    {
     "name": "stderr",
     "output_type": "stream",
     "text": [
      "\r",
      " 39%|███▉      | 7/18 [42:22<1:12:23, 394.85s/it]"
     ]
    },
    {
     "name": "stdout",
     "output_type": "stream",
     "text": [
      "[download]  62.2% of ~63.91MiB at 842.74KiB/s ETA 00:34[youtube] 281TVct4AvE: Downloading webpage\n",
      "[download]  62.9% of ~63.94MiB at 637.97KiB/s ETA 00:33[download] Destination: Our Must-Watch Movies _ IMO Ep.28-281TVct4AvE.webm\n",
      "[download] 100% of 41.56MiB in 00:0273MiB/s ETA 00:00311wn ETA\n",
      "[download]  66.1% of ~64.10MiB at 564.62KiB/s ETA 00:301[ffmpeg] Destination: Our Must-Watch Movies _ IMO Ep.28-281TVct4AvE.mp3\n",
      "[download]  87.9% of ~64.55MiB at 209.72KiB/s ETA 00:111Deleting original file Mamak Sessions - Can Guys And Girls Be Best Friends Is it ok to see more than one person at a time-IixUPM11VMY.webm (pass -k to keep)\n",
      "[download]  88.0% of ~64.55MiB at 543.57KiB/s ETA 00:11"
     ]
    },
    {
     "name": "stderr",
     "output_type": "stream",
     "text": [
      "\r",
      " 50%|█████     | 9/18 [42:47<35:01, 233.56s/it]"
     ]
    },
    {
     "name": "stdout",
     "output_type": "stream",
     "text": [
      "[download]  88.6% of ~64.57MiB at 336.91KiB/s ETA 00:100[youtube] VlovwtVYuw0: Downloading webpage\n",
      "[download]  89.3% of ~64.56MiB at 885.73KiB/s ETA 00:09[download] Destination: The Fashion Weak Podcast Ep 45 - Finessing A New Phone Every Year With Mamak Rap King Jiven Sekar-VlovwtVYuw0.webm\n",
      "[download] 100% of 83.21MiB in 00:03.12MiB/s ETA 00:056own ETA\n",
      "[download]  93.7% of ~64.56MiB at 210.74KiB/s ETA 00:05[ffmpeg] Destination: The Fashion Weak Podcast Ep 45 - Finessing A New Phone Every Year With Mamak Rap King Jiven Sekar-VlovwtVYuw0.mp3\n",
      "[download] 100% of 64.42MiB in 01:316.03KiB/s ETA 00:001\n",
      "[ffmpeg] Destination: Thinking Long And Hard With @prakashdanielcomedy - The Fashion Weak Podcast Episode 13-UryaihXnjBk.mp3\n",
      "Deleting original file Mamak Sessions - How I Got Quarantined Because Of Covid-19 Feat. Mark O'Dea-5zAsyNKfzps.webm (pass -k to keep)\n"
     ]
    },
    {
     "name": "stderr",
     "output_type": "stream",
     "text": [
      "\r",
      " 50%|█████     | 9/18 [43:03<43:43, 291.51s/it]"
     ]
    },
    {
     "name": "stdout",
     "output_type": "stream",
     "text": [
      "[youtube] tdcjTfzYSbk: Downloading webpage\n",
      "[download] Destination: The Fashion Weak Podcast Ep 40 --tdcjTfzYSbk.webm\n",
      "[download] 100% of 101.59MiB in 00:0547MiB/s ETA 00:004nown ETA\n",
      "[ffmpeg] Destination: The Fashion Weak Podcast Ep 40 --tdcjTfzYSbk.mp3\n",
      "Deleting original file The Fashion Weak Podcast EP 41 - Investment Tips For Chee Seng With Fuad & Shaq From Kyoto Protocol-eWNQhDNoSsY.webm (pass -k to keep)\n"
     ]
    },
    {
     "name": "stderr",
     "output_type": "stream",
     "text": [
      "\r",
      " 44%|████▍     | 8/18 [43:25<1:03:00, 378.00s/it]"
     ]
    },
    {
     "name": "stdout",
     "output_type": "stream",
     "text": [
      "[youtube] nMQZmuINIDk: Downloading webpage\n",
      "[download] Destination: Is Good Art Sad (ft. Wong Ling Yun) _ IMO Ep.12-nMQZmuINIDk.webm\n",
      "[download] 100% of 32.04MiB in 00:0183MiB/s ETA 00:005nown ETA\n",
      "[ffmpeg] Destination: Is Good Art Sad (ft. Wong Ling Yun) _ IMO Ep.12-nMQZmuINIDk.mp3\n",
      "Deleting original file NUS Overseas College and Silicon Valley _ Singaporean Podcast #6 _ Tony Tong-1FLelqfAyZU.webm (pass -k to keep)\n"
     ]
    },
    {
     "name": "stderr",
     "output_type": "stream",
     "text": [
      "\r",
      " 50%|█████     | 9/18 [43:51<49:35, 330.58s/it]"
     ]
    },
    {
     "name": "stdout",
     "output_type": "stream",
     "text": [
      "[youtube] PRN5UrsDF6w: Downloading webpage\n",
      "[download] Destination: Mamak Sessions Podcast - Girl Gets Caned For Calling her Teacher 'AH GUA'-PRN5UrsDF6w.webm\n",
      "[download] 100% of 69.30MiB in 00:0333MiB/s ETA 00:002nown ETA\n",
      "[ffmpeg] Destination: Mamak Sessions Podcast - Girl Gets Caned For Calling her Teacher 'AH GUA'-PRN5UrsDF6w.mp3\n",
      "Deleting original file Mamak Sessions Ep4 - What Turns You On, Is it ok if your Girlfriend Earns More & The Ideal Proposal-1av_p0DPDas.webm (pass -k to keep)\n"
     ]
    },
    {
     "name": "stderr",
     "output_type": "stream",
     "text": [
      "\r",
      " 56%|█████▌    | 10/18 [44:32<37:09, 278.63s/it]"
     ]
    },
    {
     "name": "stdout",
     "output_type": "stream",
     "text": [
      "[youtube] zHC1MPeSP34: Downloading webpage\n",
      "[download] Destination: Are We Still Sexualising Women in 2020 _ Thirsty Sisters #13-zHC1MPeSP34.m4a\n",
      "[download] 100% of 47.71MiB in 00:0299MiB/s ETA 00:0008own ETA\n",
      "[ffmpeg] Correcting container in \"Are We Still Sexualising Women in 2020 _ Thirsty Sisters #13-zHC1MPeSP34.m4a\"\n",
      "[ffmpeg] Destination: Are We Still Sexualising Women in 2020 _ Thirsty Sisters #13-zHC1MPeSP34.mp3\n",
      "Deleting original file Mamak Sessions - Is It Too Soon For The Conditional MCO ft. Ernest Ng-6Oq9APAIYLg.webm (pass -k to keep)\n"
     ]
    },
    {
     "name": "stderr",
     "output_type": "stream",
     "text": [
      "\r",
      " 56%|█████▌    | 10/18 [45:05<38:58, 292.36s/it]"
     ]
    },
    {
     "name": "stdout",
     "output_type": "stream",
     "text": [
      "[youtube] FFtFXiIgsyk: Downloading webpage\n",
      "[download] Destination: Mamak Sessions - Airing Dirty Laundry Online and Social Justice Warriors-FFtFXiIgsyk.webm\n",
      "[download] 100% of 34.16MiB in 00:0283MiB/s ETA 00:005nown ETA\n",
      "[ffmpeg] Destination: Mamak Sessions - Airing Dirty Laundry Online and Social Justice Warriors-FFtFXiIgsyk.mp3\n",
      "Deleting original file Our Must-Watch Movies _ IMO Ep.28-281TVct4AvE.webm (pass -k to keep)\n"
     ]
    },
    {
     "name": "stderr",
     "output_type": "stream",
     "text": [
      "\r",
      " 44%|████▍     | 8/18 [46:30<58:26, 350.68s/it]  "
     ]
    },
    {
     "name": "stdout",
     "output_type": "stream",
     "text": [
      "[youtube] h1v-4x0YP70: Downloading webpage\n",
      "[download] Destination: Reacting To r_AmItheAsshole _ IMO Ep.17-h1v-4x0YP70.webm\n",
      "[download] 100% of 27.47MiB in 00:0123MiB/s ETA 00:000nown ETA\n",
      "[ffmpeg] Destination: Reacting To r_AmItheAsshole _ IMO Ep.17-h1v-4x0YP70.mp3\n",
      "Deleting original file Is Good Art Sad (ft. Wong Ling Yun) _ IMO Ep.12-nMQZmuINIDk.webm (pass -k to keep)\n"
     ]
    },
    {
     "name": "stderr",
     "output_type": "stream",
     "text": [
      "\r",
      " 50%|█████     | 9/18 [47:05<49:34, 330.53s/it]  "
     ]
    },
    {
     "name": "stdout",
     "output_type": "stream",
     "text": [
      "[youtube] xsjayMqoC0Y: Downloading webpage\n",
      "[youtube] xsjayMqoC0Y: Downloading MPD manifest\n",
      "[dashsegments] Total fragments: 372\n",
      "[download] Destination: Blessing The Pod, Calling Mofo's OUT! with @soimjenn - The Fashion Weak Podcast Episode 7-xsjayMqoC0Y.webm\n",
      "[download]   7.3% of ~49.28MiB at 776.49KiB/s ETA 01:0992Deleting original file The Fashion Weak Podcast Ep 46 - Premium Thirst Trap Tips With Michelle Lee (@mich8lee)-MCHDyLJDJrg.webm (pass -k to keep)\n",
      "[download]   7.2% of ~49.41MiB at 776.49KiB/s ETA 01:10"
     ]
    },
    {
     "name": "stderr",
     "output_type": "stream",
     "text": [
      "\r",
      " 56%|█████▌    | 10/18 [47:13<52:45, 395.65s/it]"
     ]
    },
    {
     "name": "stdout",
     "output_type": "stream",
     "text": [
      "[download]   8.1% of ~49.51MiB at  1.14MiB/s ETA 01:0890[youtube] 3mt-_JgTm2E: Downloading webpage\n",
      "[download]   9.1% of ~49.77MiB at  1.39MiB/s ETA 01:078Deleting original file The Fashion Weak Podcast Ep 39 - Talking Turn-On's and Fashion Bulk Buy Deals With Tata Wanqian-WSVo-qvu1GQ.webm (pass -k to keep)\n",
      "[download]   9.1% of ~49.77MiB at  1.39MiB/s ETA 01:07"
     ]
    },
    {
     "name": "stderr",
     "output_type": "stream",
     "text": [
      "\r",
      " 67%|██████▋   | 12/18 [47:14<27:18, 273.07s/it]"
     ]
    },
    {
     "name": "stdout",
     "output_type": "stream",
     "text": [
      "[download]   9.7% of ~49.68MiB at 900.64KiB/s ETA 01:076[download] Destination: Life as a Political Candidate with the Progress Singapore Party _ Terence Soon _ Singaporean Podcast-3mt-_JgTm2E.webm\n",
      "[download]   9.9% of ~49.68MiB at 923.98KiB/s ETA 01:06[youtube] ZcVRJSDCof0: Downloading webpage\n",
      "[download]  37.3% of 53.56MiB at  3.11MiB/s ETA 00:1005own ETA[download] Destination: Mamak Sessions - Here's What You Should Know About Buying Properties-ZcVRJSDCof0.webm\n",
      "[download] 100% of 53.56MiB in 00:028.29KiB/s ETA 01:033wn ETA\n",
      "[download]  14.1% of ~49.89MiB at 701.50KiB/s ETA 01:02own ETA[ffmpeg] Destination: Life as a Political Candidate with the Progress Singapore Party _ Terence Soon _ Singaporean Podcast-3mt-_JgTm2E.mp3\n",
      "[download] 100% of 55.02MiB in 00:0297MiB/s ETA 00:00011wn ETA\n",
      "[download]  15.1% of ~50.05MiB at 872.30KiB/s ETA 01:02[ffmpeg] Destination: Mamak Sessions - Here's What You Should Know About Buying Properties-ZcVRJSDCof0.mp3\n",
      "[download]  46.2% of ~51.14MiB at 968.37KiB/s ETA 00:413Deleting original file Are We Still Sexualising Women in 2020 _ Thirsty Sisters #13-zHC1MPeSP34.m4a (pass -k to keep)\n",
      "[download]  46.2% of ~51.14MiB at 968.37KiB/s ETA 00:41"
     ]
    },
    {
     "name": "stderr",
     "output_type": "stream",
     "text": [
      "\r",
      " 61%|██████    | 11/18 [47:43<29:27, 252.45s/it]"
     ]
    },
    {
     "name": "stdout",
     "output_type": "stream",
     "text": [
      "[download]  46.8% of ~51.12MiB at 827.33KiB/s ETA 00:41[youtube] 7_-4TXv6pvY: Downloading webpage\n",
      "[download]  47.6% of ~51.12MiB at 836.38KiB/s ETA 00:40[download] Destination: Elitism In Singapore Schools _ IMO Ep.33-7_-4TXv6pvY.webm\n",
      "[download] 100% of 39.03MiB in 00:0105.85KiB/s ETA 00:38wn ETA\n",
      "[download]  50.6% of ~51.23MiB at 243.23KiB/s ETA 00:38[ffmpeg] Destination: Elitism In Singapore Schools _ IMO Ep.33-7_-4TXv6pvY.mp3\n",
      "[download] 100% of 51.17MiB in 01:175.08KiB/s ETA 00:002\n",
      "[ffmpeg] Destination: Blessing The Pod, Calling Mofo's OUT! with @soimjenn - The Fashion Weak Podcast Episode 7-xsjayMqoC0Y.mp3\n",
      "Deleting original file Mamak Sessions - Airing Dirty Laundry Online and Social Justice Warriors-FFtFXiIgsyk.webm (pass -k to keep)\n"
     ]
    },
    {
     "name": "stderr",
     "output_type": "stream",
     "text": [
      "\r",
      " 61%|██████    | 11/18 [48:28<30:57, 265.40s/it]"
     ]
    },
    {
     "name": "stdout",
     "output_type": "stream",
     "text": [
      "[youtube] 9SKGSMRpymc: Downloading webpage\n",
      "[download] Destination: What We Need To Learn From Celebrity Suicides _ IMO Ep.16-9SKGSMRpymc.webm\n",
      "[download] 100% of 47.21MiB in 00:0224MiB/s ETA 00:008nown ETA\n",
      "[ffmpeg] Destination: What We Need To Learn From Celebrity Suicides _ IMO Ep.16-9SKGSMRpymc.mp3\n",
      "Deleting original file Thinking Long And Hard With @prakashdanielcomedy - The Fashion Weak Podcast Episode 13-UryaihXnjBk.webm (pass -k to keep)\n"
     ]
    },
    {
     "name": "stderr",
     "output_type": "stream",
     "text": [
      "\r",
      " 50%|█████     | 9/18 [49:06<52:51, 352.37s/it]"
     ]
    },
    {
     "name": "stdout",
     "output_type": "stream",
     "text": [
      "[youtube] jJN0vH42wcs: Downloading webpage\n",
      "[download] Destination: Wanna Die We Call Out CB Rule Breakers And Idiots _ The Thirsty Sisters #1-jJN0vH42wcs.m4a\n",
      "[download] 100% of 35.01MiB in 00:0167MiB/s ETA 00:007nown ETA\n",
      "[ffmpeg] Correcting container in \"Wanna Die We Call Out CB Rule Breakers And Idiots _ The Thirsty Sisters #1-jJN0vH42wcs.m4a\"\n",
      "[ffmpeg] Destination: Wanna Die We Call Out CB Rule Breakers And Idiots _ The Thirsty Sisters #1-jJN0vH42wcs.mp3\n",
      "Deleting original file How to Find a Fulfilling Career & Deal with Self-Judgement _ Singaporean Podcast #24 _ Khye Chan-LXSNbZF9ag4.webm (pass -k to keep)\n"
     ]
    },
    {
     "name": "stderr",
     "output_type": "stream",
     "text": [
      "\r",
      " 56%|█████▌    | 10/18 [49:19<55:46, 418.33s/it]"
     ]
    },
    {
     "name": "stdout",
     "output_type": "stream",
     "text": [
      "Deleting original file Reacting To r_AmItheAsshole _ IMO Ep.17-h1v-4x0YP70.webm (pass -k to keep)\n"
     ]
    },
    {
     "name": "stderr",
     "output_type": "stream",
     "text": [
      "\r",
      " 50%|█████     | 9/18 [49:19<44:26, 296.28s/it]"
     ]
    },
    {
     "name": "stdout",
     "output_type": "stream",
     "text": [
      "[youtube] Yzagxa4bn-M: Downloading webpage\n",
      "[youtube] cSxV6oacgaE: Downloading webpage\n",
      "[youtube] Yzagxa4bn-M: Downloading MPD manifest\n",
      "[youtube] cSxV6oacgaE: Downloading MPD manifest\n",
      "[dashsegments] Total fragments: 347\n",
      "[download] Destination: What is a Friend _ Singaporean Trio Podcast #01-Yzagxa4bn-M.m4a\n",
      "[download]   0.5% of ~35.73MiB at 313.91KiB/s ETA 03:13:1228[dashsegments] Total fragments: 407\n",
      "[download] Destination: Why Enneagram Will Change Your Perspective On ALL Relationships Forever _ Cindy Leong _ SG Podcast-cSxV6oacgaE.webm\n",
      "[download]  78.6% of ~57.95MiB at 992.44KiB/s ETA 00:16750Deleting original file Nicole Choo on What Went Wrong with Ridhwan - Team Titan Show #4-gW9sv26g4Io.webm (pass -k to keep)\n",
      "[download]  85.3% of ~53.29MiB at  1.05MiB/s ETA 00:10"
     ]
    },
    {
     "name": "stderr",
     "output_type": "stream",
     "text": [
      "\r",
      " 50%|█████     | 9/18 [50:23<1:03:35, 423.90s/it]"
     ]
    },
    {
     "name": "stdout",
     "output_type": "stream",
     "text": [
      "[download]  85.9% of ~53.29MiB at 459.46KiB/s ETA 00:106[youtube] jhLgzHQnAHU: Downloading webpage\n",
      "[download]  80.3% of ~57.94MiB at  1.48MiB/s ETA 00:159[download] Destination: The Fashion Weak Podcast Ep 19 - Butt Stuff & Actual Fashion With Zane Gan-jhLgzHQnAHU.webm\n",
      "[download]  95.1% of ~53.31MiB at 203.39KiB/s ETA 00:03own ETADeleting original file Mamak Sessions Podcast - Girl Gets Caned For Calling her Teacher 'AH GUA'-PRN5UrsDF6w.webm (pass -k to keep)\n",
      "[download]  87.7% of ~57.82MiB at  1.03MiB/s ETA 00:093"
     ]
    },
    {
     "name": "stderr",
     "output_type": "stream",
     "text": [
      "\r",
      " 56%|█████▌    | 10/18 [50:30<46:47, 350.90s/it]"
     ]
    },
    {
     "name": "stdout",
     "output_type": "stream",
     "text": [
      "[download]  88.3% of ~57.83MiB at 343.48KiB/s ETA 00:09own ETA[youtube] XMx9tqwzQS4: Downloading webpage\n",
      "[download]  97.4% of ~53.31MiB at  2.08MiB/s ETA 00:012own ETA[download] Destination: Mamak Sessions - Body Shaming Will Land You In Jail-XMx9tqwzQS4.webm\n",
      "[download] 100% of 83.53MiB in 00:0890MiB/s ETA 00:00066wn ETA\n",
      "[download]  97.7% of 29.60MiB at 287.32KiB/s ETA 00:026own ETA[ffmpeg] Destination: The Fashion Weak Podcast Ep 19 - Butt Stuff & Actual Fashion With Zane Gan-jhLgzHQnAHU.mp3\n",
      "[download] 100% of 29.60MiB in 00:01.19MiB/s ETA 00:060\n",
      "[download] 100% of 53.28MiB in 01:114.24KiB/s ETA 00:06\n",
      "[download]  91.9% of ~57.79MiB at 267.48KiB/s ETA 00:06[ffmpeg] Destination: Mamak Sessions - Body Shaming Will Land You In Jail-XMx9tqwzQS4.mp3\n",
      "[download]  92.6% of ~57.77MiB at 787.27KiB/s ETA 00:05[ffmpeg] Correcting container in \"What is a Friend _ Singaporean Trio Podcast #01-Yzagxa4bn-M.m4a\"\n",
      "[download]  95.3% of ~57.74MiB at 144.24KiB/s ETA 00:03[ffmpeg] Destination: What is a Friend _ Singaporean Trio Podcast #01-Yzagxa4bn-M.mp3\n",
      "[download] 100% of 57.63MiB in 01:176.29KiB/s ETA 00:002\n",
      "[ffmpeg] Destination: Why Enneagram Will Change Your Perspective On ALL Relationships Forever _ Cindy Leong _ SG Podcast-cSxV6oacgaE.mp3\n",
      "Deleting original file The Fashion Weak Podcast Ep 45 - Finessing A New Phone Every Year With Mamak Rap King Jiven Sekar-VlovwtVYuw0.webm (pass -k to keep)\n"
     ]
    },
    {
     "name": "stderr",
     "output_type": "stream",
     "text": [
      "\r",
      " 56%|█████▌    | 10/18 [50:51<41:09, 308.71s/it]"
     ]
    },
    {
     "name": "stdout",
     "output_type": "stream",
     "text": [
      "[youtube] gvPiF-zXur4: Downloading webpage\n",
      "[download] Destination: Best Way to Get Women to Fall For You Every Month! _ The Thirsty Sisters #16-gvPiF-zXur4.m4a\n",
      "[download] 100% of 41.69MiB in 00:0259MiB/s ETA 00:003nown ETA\n",
      "[ffmpeg] Correcting container in \"Best Way to Get Women to Fall For You Every Month! _ The Thirsty Sisters #16-gvPiF-zXur4.m4a\"\n",
      "[ffmpeg] Destination: Best Way to Get Women to Fall For You Every Month! _ The Thirsty Sisters #16-gvPiF-zXur4.mp3\n",
      "Deleting original file Wanna Die We Call Out CB Rule Breakers And Idiots _ The Thirsty Sisters #1-jJN0vH42wcs.m4a (pass -k to keep)\n"
     ]
    },
    {
     "name": "stderr",
     "output_type": "stream",
     "text": [
      "\r",
      " 56%|█████▌    | 10/18 [51:19<38:12, 286.56s/it]"
     ]
    },
    {
     "name": "stdout",
     "output_type": "stream",
     "text": [
      "[youtube] ieZwYjMcP20: Downloading webpage\n",
      "[download] Destination: How To Know You're Malaysian-ieZwYjMcP20.webm\n",
      "[download] 100% of 4.47MiB in 00:0069MiB/s ETA 00:004\n",
      "[ffmpeg] Destination: How To Know You're Malaysian-ieZwYjMcP20.mp3\n",
      "Deleting original file Elitism In Singapore Schools _ IMO Ep.33-7_-4TXv6pvY.webm (pass -k to keep)\n"
     ]
    },
    {
     "name": "stderr",
     "output_type": "stream",
     "text": [
      "\r",
      " 67%|██████▋   | 12/18 [51:29<24:27, 244.57s/it]"
     ]
    },
    {
     "name": "stdout",
     "output_type": "stream",
     "text": [
      "[youtube] TxeBIVuXRHM: Downloading webpage\n",
      "[download] Destination: Exposed! Our Favourite Night Activity We Miss The Most! _ The Thirsty Sisters #5-TxeBIVuXRHM.m4a\n",
      "[download] 100% of 37.06MiB in 00:0199MiB/s ETA 00:000nown ETA\n",
      "[ffmpeg] Correcting container in \"Exposed! Our Favourite Night Activity We Miss The Most! _ The Thirsty Sisters #5-TxeBIVuXRHM.m4a\"\n",
      "[ffmpeg] Destination: Exposed! Our Favourite Night Activity We Miss The Most! _ The Thirsty Sisters #5-TxeBIVuXRHM.mp3\n",
      "Deleting original file How To Know You're Malaysian-ieZwYjMcP20.webm (pass -k to keep)\n"
     ]
    },
    {
     "name": "stderr",
     "output_type": "stream",
     "text": [
      "\r",
      " 61%|██████    | 11/18 [51:54<24:37, 211.07s/it]"
     ]
    },
    {
     "name": "stdout",
     "output_type": "stream",
     "text": [
      "[youtube] iugevNPFp2Y: Downloading webpage\n",
      "[download] Destination: Talking Sneakers & Strong Sperm With @bryanbotakchin - The Fashion Weak Podcast Episode 11-iugevNPFp2Y.webm\n",
      "[download] 100% of 79.08MiB in 00:0489MiB/s ETA 00:001nown ETA\n",
      "[ffmpeg] Destination: Talking Sneakers & Strong Sperm With @bryanbotakchin - The Fashion Weak Podcast Episode 11-iugevNPFp2Y.mp3\n",
      "Deleting original file Mamak Sessions - Here's What You Should Know About Buying Properties-ZcVRJSDCof0.webm (pass -k to keep)\n"
     ]
    },
    {
     "name": "stderr",
     "output_type": "stream",
     "text": [
      "\r",
      " 72%|███████▏  | 13/18 [52:25<23:42, 284.43s/it]"
     ]
    },
    {
     "name": "stdout",
     "output_type": "stream",
     "text": [
      "[youtube] alUMLUEUdCM: Downloading webpage\n",
      "[youtube] alUMLUEUdCM: Downloading MPD manifest\n",
      "[dashsegments] Total fragments: 468\n",
      "[download] Destination: Truths about NUS Business School + Fin-Tech Crypto Trading Career_ Singaporean Podcast #25 _ Daryn-alUMLUEUdCM.webm\n",
      "[download]   8.3% of ~69.73MiB at 904.20KiB/s ETA 01:31368Deleting original file Life as a Political Candidate with the Progress Singapore Party _ Terence Soon _ Singaporean Podcast-3mt-_JgTm2E.webm (pass -k to keep)\n",
      "[download]   8.3% of ~69.73MiB at 904.20KiB/s ETA 01:32"
     ]
    },
    {
     "name": "stderr",
     "output_type": "stream",
     "text": [
      "\r",
      " 61%|██████    | 11/18 [52:36<43:37, 373.88s/it]"
     ]
    },
    {
     "name": "stdout",
     "output_type": "stream",
     "text": [
      "[download]   9.0% of ~69.73MiB at  1.23MiB/s ETA 01:3122[youtube] fzuKoKTxfEs: Downloading webpage\n",
      "[download]  10.0% of ~70.12MiB at  1.05MiB/s ETA 01:3001[download] Destination: We Are Finally Dating Again! We Found New Men _ The Thirsty Sisters #24-fzuKoKTxfEs.m4a\n",
      "[download] 100% of 34.68MiB in 00:018.70KiB/s ETA 01:308wn ETA\n",
      "[download]  12.0% of ~70.51MiB at 968.35KiB/s ETA 01:28[ffmpeg] Correcting container in \"We Are Finally Dating Again! We Found New Men _ The Thirsty Sisters #24-fzuKoKTxfEs.m4a\"\n",
      "[download]  14.1% of ~70.89MiB at 330.30KiB/s ETA 01:267[ffmpeg] Destination: We Are Finally Dating Again! We Found New Men _ The Thirsty Sisters #24-fzuKoKTxfEs.mp3\n",
      "[download]  22.6% of ~71.51MiB at 959.09KiB/s ETA 02:018Deleting original file The Fashion Weak Podcast Ep 40 --tdcjTfzYSbk.webm (pass -k to keep)\n",
      "[download]  22.6% of ~71.51MiB at 967.38KiB/s ETA 02:00"
     ]
    },
    {
     "name": "stderr",
     "output_type": "stream",
     "text": [
      "\r",
      " 56%|█████▌    | 10/18 [53:03<51:13, 384.18s/it]"
     ]
    },
    {
     "name": "stdout",
     "output_type": "stream",
     "text": [
      "[download]  22.7% of ~71.50MiB at 967.38KiB/s ETA 02:02[youtube] UWm1ESejkzs: Downloading webpage\n",
      "[download]  23.1% of ~71.53MiB at  1.04MiB/s ETA 02:012[download] Destination: The Fashion Weak Podcast Ep 29 - Valentines Day With Becca Lee and Leonard Chua-UWm1ESejkzs.m4a\n",
      "[download]  24.4% of ~71.74MiB at 312.46KiB/s ETA 02:05own ETADeleting original file What We Need To Learn From Celebrity Suicides _ IMO Ep.16-9SKGSMRpymc.webm (pass -k to keep)\n",
      "[download]  24.5% of ~71.74MiB at 916.51KiB/s ETA 02:04"
     ]
    },
    {
     "name": "stderr",
     "output_type": "stream",
     "text": [
      "\r",
      " 67%|██████▋   | 12/18 [53:08<26:58, 269.78s/it]"
     ]
    },
    {
     "name": "stdout",
     "output_type": "stream",
     "text": [
      "[download]  24.6% of ~71.78MiB at 1007.18KiB/s ETA 02:05[youtube] ZDloTzTfenM: Downloading webpage\n",
      "[download] 100% of 79.53MiB in 00:041.32KiB/s ETA 02:05own ETA\n",
      "[download]  25.0% of ~71.76MiB at  1.06MiB/s ETA 02:0404[ffmpeg] Correcting container in \"The Fashion Weak Podcast Ep 29 - Valentines Day With Becca Lee and Leonard Chua-UWm1ESejkzs.m4a\"\n",
      "[download] Destination: Xia Xue's Honest Thoughts on Influencers - The Team Titan Show-ZDloTzTfenM.m4a\n",
      "[download]  94.7% of 80.93MiB at 15.55MiB/s ETA 00:0078own ETA[ffmpeg] Destination: The Fashion Weak Podcast Ep 29 - Valentines Day With Becca Lee and Leonard Chua-UWm1ESejkzs.mp3\n",
      "[download]  26.3% of ~71.78MiB at 388.24KiB/s ETA 02:08own ETADeleting original file Blessing The Pod, Calling Mofo's OUT! with @soimjenn - The Fashion Weak Podcast Episode 7-xsjayMqoC0Y.webm (pass -k to keep)\n",
      "[download]  99.2% of 80.93MiB at  9.92MiB/s ETA 00:0008"
     ]
    },
    {
     "name": "stderr",
     "output_type": "stream",
     "text": [
      "\r",
      " 56%|█████▌    | 10/18 [53:13<45:34, 341.87s/it]"
     ]
    },
    {
     "name": "stdout",
     "output_type": "stream",
     "text": [
      "[download] 100% of 80.93MiB in 00:03.06MiB/s ETA 02:077\n",
      "[download]  26.5% of ~71.77MiB at 197.68KiB/s ETA 02:08[ffmpeg] Correcting container in \"Xia Xue's Honest Thoughts on Influencers - The Team Titan Show-ZDloTzTfenM.m4a\"\n",
      "[download]  26.6% of ~71.77MiB at 593.69KiB/s ETA 02:08[youtube] RBShCX3-BtQ: Downloading webpage\n",
      "[download]  26.9% of ~71.81MiB at 1016.65KiB/s ETA 02:07[download] Destination: My Ex-Husband And His New Puppy's Mummy _ The Thirsty Sisters #26-RBShCX3-BtQ.m4a\n",
      "[download] 100% of 34.29MiB in 00:0187MiB/s ETA 00:0088own ETA\n",
      "[download]  27.8% of ~71.94MiB at  1.20MiB/s ETA 02:089[ffmpeg] Correcting container in \"My Ex-Husband And His New Puppy's Mummy _ The Thirsty Sisters #26-RBShCX3-BtQ.m4a\"\n",
      "[ffmpeg] Destination: Xia Xue's Honest Thoughts on Influencers - The Team Titan Show-ZDloTzTfenM.mp3\n",
      "[download]  28.3% of ~72.02MiB at 534.62KiB/s ETA 02:10[ffmpeg] Destination: My Ex-Husband And His New Puppy's Mummy _ The Thirsty Sisters #26-RBShCX3-BtQ.mp3\n",
      "[download]  29.5% of ~72.16MiB at 125.24KiB/s ETA 02:11Deleting original file Mamak Sessions - Body Shaming Will Land You In Jail-XMx9tqwzQS4.webm (pass -k to keep)\n",
      "[download]  29.5% of ~72.16MiB at 193.32KiB/s ETA 02:11"
     ]
    },
    {
     "name": "stderr",
     "output_type": "stream",
     "text": [
      "\r",
      " 61%|██████    | 11/18 [53:22<34:42, 297.45s/it]"
     ]
    },
    {
     "name": "stdout",
     "output_type": "stream",
     "text": [
      "[download]  29.7% of ~72.16MiB at 939.64KiB/s ETA 02:10[youtube] WJkSAHvYyqk: Downloading webpage\n",
      "[download]  30.1% of ~72.21MiB at 1020.10KiB/s ETA 02:10[download] Destination: Mamak Sessions - Do You Check Your Partner's Text Messages Featuring Lizz Chloe-WJkSAHvYyqk.webm\n",
      "[download] 100% of 54.22MiB in 00:0392MiB/s ETA 00:0012own ETA\n",
      "[ffmpeg] Destination: Mamak Sessions - Do You Check Your Partner's Text Messages Featuring Lizz Chloe-WJkSAHvYyqk.mp3\n",
      "[download]  33.1% of ~72.31MiB at  1.02MiB/s ETA 02:1223Deleting original file Best Way to Get Women to Fall For You Every Month! _ The Thirsty Sisters #16-gvPiF-zXur4.m4a (pass -k to keep)\n"
     ]
    },
    {
     "name": "stderr",
     "output_type": "stream",
     "text": [
      "\r",
      " 61%|██████    | 11/18 [53:33<30:53, 264.84s/it]"
     ]
    },
    {
     "name": "stdout",
     "output_type": "stream",
     "text": [
      "[youtube] f7qEqPNzGk8: Downloading webpage\n",
      "[download]  33.3% of ~72.35MiB at 976.89KiB/s ETA 02:13[youtube] f7qEqPNzGk8: Downloading MPD manifest\n",
      "[download]  33.8% of ~72.40MiB at  1.13MiB/s ETA 02:1313[dashsegments] Total fragments: 591\n",
      "[download] Destination: Burnout in the Media Industry + Passion in Theatre  _ Singaporean Podcast #16 _ Rennes Lee-f7qEqPNzGk8.webm\n",
      "[download]  13.9% of ~79.90MiB at  1.53MiB/s ETA 01:39013118Deleting original file Exposed! Our Favourite Night Activity We Miss The Most! _ The Thirsty Sisters #5-TxeBIVuXRHM.m4a (pass -k to keep)\n",
      "[download]  13.9% of ~79.90MiB at  1.28MiB/s ETA 01:39"
     ]
    },
    {
     "name": "stderr",
     "output_type": "stream",
     "text": [
      "\r",
      " 72%|███████▏  | 13/18 [53:52<17:49, 213.90s/it]"
     ]
    },
    {
     "name": "stdout",
     "output_type": "stream",
     "text": [
      "[download]  14.1% of ~79.92MiB at 133.07KiB/s ETA 01:41[youtube] te2Be5GNNys: Downloading webpage\n",
      "[download]  14.7% of ~79.94MiB at  2.03MiB/s ETA 01:390[download] Destination: Mamak Sessions - How Dating Has Changed & Tenet ft Elizabeth Debicki and John David Washington-te2Be5GNNys.webm\n",
      "[download] 100% of 50.81MiB in 00:021.56KiB/s ETA 01:58own ETA\n",
      "[download]  17.1% of ~80.19MiB at  1.28MiB/s ETA 01:366[ffmpeg] Destination: Mamak Sessions - How Dating Has Changed & Tenet ft Elizabeth Debicki and John David Washington-te2Be5GNNys.mp3\n",
      "[download]  20.8% of ~80.15MiB at 253.17KiB/s ETA 01:323Deleting original file What is a Friend _ Singaporean Trio Podcast #01-Yzagxa4bn-M.m4a (pass -k to keep)\n",
      "[download]  44.9% of ~72.70MiB at 1001.98KiB/s ETA 01:53"
     ]
    },
    {
     "name": "stderr",
     "output_type": "stream",
     "text": [
      "\r",
      " 61%|██████    | 11/18 [54:00<43:59, 377.14s/it]"
     ]
    },
    {
     "name": "stdout",
     "output_type": "stream",
     "text": [
      "[download]  45.1% of ~72.71MiB at  1.12MiB/s ETA 01:5311[youtube] OZMsLGKDv14: Downloading webpage\n",
      "[download]  45.5% of ~72.69MiB at 238.96KiB/s ETA 01:520[download] Destination: Desperate times! CB Extended Till June! Our CB Cannot Tahan _ The Thirsty Sisters #2-OZMsLGKDv14.m4a\n",
      "[download] 100% of 37.06MiB in 00:01.04MiB/s ETA 01:290own ETA\n",
      "[download]  23.7% of ~80.00MiB at 387.21KiB/s ETA 01:299[ffmpeg] Correcting container in \"Desperate times! CB Extended Till June! Our CB Cannot Tahan _ The Thirsty Sisters #2-OZMsLGKDv14.m4a\"\n",
      "[download]  25.0% of ~79.95MiB at 255.04KiB/s ETA 01:289[ffmpeg] Destination: Desperate times! CB Extended Till June! Our CB Cannot Tahan _ The Thirsty Sisters #2-OZMsLGKDv14.mp3\n",
      "[download]  55.7% of ~79.95MiB at 863.97KiB/s ETA 00:556Deleting original file We Are Finally Dating Again! We Found New Men _ The Thirsty Sisters #24-fzuKoKTxfEs.m4a (pass -k to keep)\n"
     ]
    },
    {
     "name": "stderr",
     "output_type": "stream",
     "text": [
      "\r",
      " 67%|██████▋   | 12/18 [54:45<30:02, 300.36s/it]"
     ]
    },
    {
     "name": "stdout",
     "output_type": "stream",
     "text": [
      "[download]  66.5% of ~72.40MiB at  1.01MiB/s ETA 01:0949[youtube] T218uk6pi4E: Downloading webpage\n",
      "[download]  56.7% of ~79.95MiB at 991.98KiB/s ETA 00:533[download] Destination: Should NS Be Abolished _ IMO Ep.27-T218uk6pi4E.webm\n",
      "[download] 100% of 47.11MiB in 00:011.03KiB/s ETA 01:072wn ETA\n",
      "[download]  58.2% of ~80.09MiB at 259.82KiB/s ETA 00:522[ffmpeg] Destination: Should NS Be Abolished _ IMO Ep.27-T218uk6pi4E.mp3\n",
      "[download]  81.4% of ~79.64MiB at 209.73KiB/s ETA 00:237Deleting original file My Ex-Husband And His New Puppy's Mummy _ The Thirsty Sisters #26-RBShCX3-BtQ.m4a (pass -k to keep)\n",
      "[download]  81.4% of ~79.64MiB at 311.08KiB/s ETA 00:23"
     ]
    },
    {
     "name": "stderr",
     "output_type": "stream",
     "text": [
      "\r",
      " 61%|██████    | 11/18 [55:18<32:17, 276.73s/it]"
     ]
    },
    {
     "name": "stdout",
     "output_type": "stream",
     "text": [
      "[download]  82.1% of ~79.64MiB at  1.10MiB/s ETA 00:2277[youtube] 2hHAMAA614w: Downloading webpage\n",
      "[download]  82.5% of ~72.30MiB at 391.11KiB/s ETA 00:36[download] Destination: Ridhwan's Honest Thoughts On Nicole Choo and Ah Boys to Men - Team Titan Show #2-2hHAMAA614w.webm\n",
      "[download] 100% of 100.00MiB in 00:04.87KiB/s ETA 00:171own ETA\n",
      "[download]  86.3% of ~79.62MiB at 420.04KiB/s ETA 00:17[ffmpeg] Destination: Ridhwan's Honest Thoughts On Nicole Choo and Ah Boys to Men - Team Titan Show #2-2hHAMAA614w.mp3\n",
      "[download] 100% of 79.33MiB in 02:066.26KiB/s ETA 00:000\n",
      "[download]  92.9% of ~72.25MiB at 1011.99KiB/s ETA 00:14[ffmpeg] Destination: Burnout in the Media Industry + Passion in Theatre  _ Singaporean Podcast #16 _ Rennes Lee-f7qEqPNzGk8.mp3\n",
      "[download] 100.0% of ~71.98MiB at 146.50KiB/s ETA 00:004Deleting original file Why Enneagram Will Change Your Perspective On ALL Relationships Forever _ Cindy Leong _ SG Podcast-cSxV6oacgaE.webm (pass -k to keep)\n",
      "[download] 100% of 71.98MiB in 03:30\n"
     ]
    },
    {
     "name": "stderr",
     "output_type": "stream",
     "text": [
      "\r",
      " 56%|█████▌    | 10/18 [55:58<43:35, 327.00s/it]"
     ]
    },
    {
     "name": "stdout",
     "output_type": "stream",
     "text": [
      "[ffmpeg] Destination: Truths about NUS Business School + Fin-Tech Crypto Trading Career_ Singaporean Podcast #25 _ Daryn-alUMLUEUdCM.mp3\n",
      "[youtube] LsV8tnGSPEQ: Downloading webpage\n",
      "[download] Destination: OKLETSGO - Misogyny And Cancel Culture _ IMO Ep.21-LsV8tnGSPEQ.webm\n",
      "[download] 100% of 45.49MiB in 00:0209MiB/s ETA 00:006nown ETA\n",
      "[ffmpeg] Destination: OKLETSGO - Misogyny And Cancel Culture _ IMO Ep.21-LsV8tnGSPEQ.mp3\n",
      "Deleting original file Desperate times! CB Extended Till June! Our CB Cannot Tahan _ The Thirsty Sisters #2-OZMsLGKDv14.m4a (pass -k to keep)\n"
     ]
    },
    {
     "name": "stderr",
     "output_type": "stream",
     "text": [
      "\r",
      " 67%|██████▋   | 12/18 [56:16<30:29, 304.89s/it]"
     ]
    },
    {
     "name": "stdout",
     "output_type": "stream",
     "text": [
      "[youtube] 8LuihYdx0FQ: Downloading webpage\n",
      "[download] Destination: Mamak Sessions Ep6 - Names People Always Mispronounce & Facebook Is A Spy-8LuihYdx0FQ.webm\n",
      "[download] 100% of 69.08MiB in 00:0407MiB/s ETA 00:000nown ETA\n",
      "[ffmpeg] Destination: Mamak Sessions Ep6 - Names People Always Mispronounce & Facebook Is A Spy-8LuihYdx0FQ.mp3\n",
      "Deleting original file The Fashion Weak Podcast Ep 19 - Butt Stuff & Actual Fashion With Zane Gan-jhLgzHQnAHU.webm (pass -k to keep)\n"
     ]
    },
    {
     "name": "stderr",
     "output_type": "stream",
     "text": [
      "\r",
      " 56%|█████▌    | 10/18 [58:11<58:16, 437.09s/it] "
     ]
    },
    {
     "name": "stdout",
     "output_type": "stream",
     "text": [
      "[youtube] rkwCky94IhQ: Downloading webpage\n",
      "[download] Destination: The Truth Behind Our Relationship! Are We Really Sisters _ The Thirsty Sisters #10-rkwCky94IhQ.m4a\n",
      "[download] 100% of 38.27MiB in 00:0109MiB/s ETA 00:001nown ETA\n",
      "[ffmpeg] Correcting container in \"The Truth Behind Our Relationship! Are We Really Sisters _ The Thirsty Sisters #10-rkwCky94IhQ.m4a\"\n",
      "[ffmpeg] Destination: The Truth Behind Our Relationship! Are We Really Sisters _ The Thirsty Sisters #10-rkwCky94IhQ.mp3\n",
      "Deleting original file The Fashion Weak Podcast Ep 29 - Valentines Day With Becca Lee and Leonard Chua-UWm1ESejkzs.m4a (pass -k to keep)\n"
     ]
    },
    {
     "name": "stderr",
     "output_type": "stream",
     "text": [
      "\r",
      " 61%|██████    | 11/18 [58:20<42:27, 363.91s/it]"
     ]
    },
    {
     "name": "stdout",
     "output_type": "stream",
     "text": [
      "[youtube] qQyjWXTGkcM: Downloading webpage\n",
      "[download] Destination: Manglish (Malaysian English)-qQyjWXTGkcM.m4a\n",
      "[download] 100% of 787.82KiB in 00:0024MiB/s ETA 00:000\n",
      "[ffmpeg] Correcting container in \"Manglish (Malaysian English)-qQyjWXTGkcM.m4a\"\n",
      "[ffmpeg] Destination: Manglish (Malaysian English)-qQyjWXTGkcM.mp3\n",
      "Deleting original file Manglish (Malaysian English)-qQyjWXTGkcM.m4a (pass -k to keep)\n"
     ]
    },
    {
     "name": "stderr",
     "output_type": "stream",
     "text": [
      "\r",
      " 67%|██████▋   | 12/18 [58:25<25:39, 256.52s/it]"
     ]
    },
    {
     "name": "stdout",
     "output_type": "stream",
     "text": [
      "[youtube] EjzkQeWKwQw: Downloading webpage\n",
      "Deleting original file Xia Xue's Honest Thoughts on Influencers - The Team Titan Show-ZDloTzTfenM.m4a (pass -k to keep)\n"
     ]
    },
    {
     "name": "stderr",
     "output_type": "stream",
     "text": [
      "\r",
      " 72%|███████▏  | 13/18 [58:27<23:43, 284.68s/it]"
     ]
    },
    {
     "name": "stdout",
     "output_type": "stream",
     "text": [
      "[download] Destination: Musings of the OG Sneaker Uncle @bungactiongirl - The Fashion Weak Podcast Episode 3-EjzkQeWKwQw.m4a\n",
      "[download]   6.3% of 63.20MiB at 13.82MiB/s ETA 00:048Deleting original file Mamak Sessions - Do You Check Your Partner's Text Messages Featuring Lizz Chloe-WJkSAHvYyqk.webm (pass -k to keep)\n"
     ]
    },
    {
     "name": "stderr",
     "output_type": "stream",
     "text": [
      "\r",
      " 67%|██████▋   | 12/18 [58:28<29:59, 299.86s/it]"
     ]
    },
    {
     "name": "stdout",
     "output_type": "stream",
     "text": [
      "[youtube] CXnW4hJDp54: Downloading webpage\n",
      "[youtube] jcvIfHTy1H0: Downloading webpage\n",
      "[download]  15.7% of 63.20MiB at  7.19MiB/s ETA 00:07[download] Destination: Mamak Sessions - 'Chinese Whispers'-CXnW4hJDp54.webm\n",
      "[download]   1.9% of 52.76MiB at  4.77MiB/s ETA 00:103nown ETA[download] Destination: Mamak Sessions - The Man Behind The Six Pack, Jordan Yeoh-jcvIfHTy1H0.webm\n",
      "[download] 100% of 52.76MiB in 00:02.12KiB/s ETA 02:12nown ETA\n",
      "[download]  64.7% of 46.25MiB at  3.05MiB/s ETA 00:059[ffmpeg] Destination: Mamak Sessions - 'Chinese Whispers'-CXnW4hJDp54.mp3\n",
      "[download] 100% of 46.25MiB in 00:0382MiB/s ETA 00:007nown ETA\n",
      "[download]  52.5% of 63.20MiB at  7.31MiB/s ETA 00:04[ffmpeg] Destination: Mamak Sessions - The Man Behind The Six Pack, Jordan Yeoh-jcvIfHTy1H0.mp3\n",
      "[download] 100% of 63.20MiB in 00:1128MiB/s ETA 00:007nown ETA\n",
      "[ffmpeg] Correcting container in \"Musings of the OG Sneaker Uncle @bungactiongirl - The Fashion Weak Podcast Episode 3-EjzkQeWKwQw.m4a\"\n",
      "Deleting original file Mamak Sessions - How Dating Has Changed & Tenet ft Elizabeth Debicki and John David Washington-te2Be5GNNys.webm (pass -k to keep)\n"
     ]
    },
    {
     "name": "stderr",
     "output_type": "stream",
     "text": [
      "\r",
      " 78%|███████▊  | 14/18 [58:40<15:45, 236.35s/it]"
     ]
    },
    {
     "name": "stdout",
     "output_type": "stream",
     "text": [
      "[youtube] -XwvfCTnseI: Downloading webpage\n",
      "[download] Destination: The Fashion Weak Podcast EP14 - Faking it on the gram and faking Gasms with Sandra Woo (@sandrawooo)--XwvfCTnseI.webm\n",
      "[download]   6.7% of 59.76MiB at 13.57MiB/s ETA 00:047[ffmpeg] Destination: Musings of the OG Sneaker Uncle @bungactiongirl - The Fashion Weak Podcast Episode 3-EjzkQeWKwQw.mp3\n",
      "[download] 100% of 59.76MiB in 00:0276MiB/s ETA 00:001nown ETA\n",
      "[ffmpeg] Destination: The Fashion Weak Podcast EP14 - Faking it on the gram and faking Gasms with Sandra Woo (@sandrawooo)--XwvfCTnseI.mp3\n",
      "Deleting original file Talking Sneakers & Strong Sperm With @bryanbotakchin - The Fashion Weak Podcast Episode 11-iugevNPFp2Y.webm (pass -k to keep)\n"
     ]
    },
    {
     "name": "stderr",
     "output_type": "stream",
     "text": [
      "\r",
      " 67%|██████▋   | 12/18 [59:08<27:47, 277.93s/it]"
     ]
    },
    {
     "name": "stdout",
     "output_type": "stream",
     "text": [
      "[youtube] WnipnOcDkx8: Downloading webpage\n",
      "[download] Destination: We Try Online Dating And Fall In Love With Strangers _ The Thirsty Sisters #25-WnipnOcDkx8.m4a\n",
      "[download] 100% of 38.52MiB in 00:0171MiB/s ETA 00:009nown ETA\n",
      "[ffmpeg] Correcting container in \"We Try Online Dating And Fall In Love With Strangers _ The Thirsty Sisters #25-WnipnOcDkx8.m4a\"\n",
      "[ffmpeg] Destination: We Try Online Dating And Fall In Love With Strangers _ The Thirsty Sisters #25-WnipnOcDkx8.mp3\n",
      "Deleting original file Should NS Be Abolished _ IMO Ep.27-T218uk6pi4E.webm (pass -k to keep)\n"
     ]
    },
    {
     "name": "stderr",
     "output_type": "stream",
     "text": [
      "\r",
      " 72%|███████▏  | 13/18 [59:22<24:26, 293.39s/it]"
     ]
    },
    {
     "name": "stdout",
     "output_type": "stream",
     "text": [
      "[youtube] luGvazsVsHc: Downloading webpage\n",
      "[download] Destination: Is Cancel Culture Problematic _ IMO Ep.25-luGvazsVsHc.webm\n",
      "[download] 100% of 36.45MiB in 00:0224MiB/s ETA 00:0006own ETA\n",
      "[ffmpeg] Destination: Is Cancel Culture Problematic _ IMO Ep.25-luGvazsVsHc.mp3\n",
      "Deleting original file OKLETSGO - Misogyny And Cancel Culture _ IMO Ep.21-LsV8tnGSPEQ.webm (pass -k to keep)\n"
     ]
    },
    {
     "name": "stderr",
     "output_type": "stream",
     "text": [
      "\r",
      " 61%|██████    | 11/18 [1:00:29<36:11, 310.19s/it]"
     ]
    },
    {
     "name": "stdout",
     "output_type": "stream",
     "text": [
      "[youtube] r6f3OoHVkgU: Downloading webpage\n",
      "[download] Destination: Mamak Sessions - From A Transport Assistant to a Multi-Award Winning Film Director-r6f3OoHVkgU.webm\n",
      "[download] 100% of 54.95MiB in 00:0267MiB/s ETA 00:009nown ETA\n",
      "[ffmpeg] Destination: Mamak Sessions - From A Transport Assistant to a Multi-Award Winning Film Director-r6f3OoHVkgU.mp3\n",
      "Deleting original file The Truth Behind Our Relationship! Are We Really Sisters _ The Thirsty Sisters #10-rkwCky94IhQ.m4a (pass -k to keep)\n"
     ]
    },
    {
     "name": "stderr",
     "output_type": "stream",
     "text": [
      "\r",
      " 61%|██████    | 11/18 [1:00:43<41:01, 351.70s/it]"
     ]
    },
    {
     "name": "stdout",
     "output_type": "stream",
     "text": [
      "[youtube] Rkvd5p3I11M: Downloading webpage\n",
      "[download] Destination: Mamak Sessions - How Do You Deal With Rumors ft Elizabeth Tan-Rkvd5p3I11M.webm\n",
      "[download] 100% of 48.91MiB in 00:0223MiB/s ETA 00:001nown ETA\n",
      "[ffmpeg] Destination: Mamak Sessions - How Do You Deal With Rumors ft Elizabeth Tan-Rkvd5p3I11M.mp3\n",
      "Deleting original file We Try Online Dating And Fall In Love With Strangers _ The Thirsty Sisters #25-WnipnOcDkx8.m4a (pass -k to keep)\n"
     ]
    },
    {
     "name": "stderr",
     "output_type": "stream",
     "text": [
      "\r",
      " 72%|███████▏  | 13/18 [1:01:43<20:05, 241.11s/it]"
     ]
    },
    {
     "name": "stdout",
     "output_type": "stream",
     "text": [
      "[youtube] l6bf4RFE31o: Downloading webpage\n",
      "[download] Destination: The Fashion Weak Podcast Ep 17 - Our Longest Yet! The Brothers Ming-l6bf4RFE31o.webm\n",
      "[download] 100% of 81.92MiB in 00:1786MiB/s ETA 00:003nown ETA\n",
      "[ffmpeg] Destination: The Fashion Weak Podcast Ep 17 - Our Longest Yet! The Brothers Ming-l6bf4RFE31o.mp3\n",
      "Deleting original file Truths about NUS Business School + Fin-Tech Crypto Trading Career_ Singaporean Podcast #25 _ Daryn-alUMLUEUdCM.webm (pass -k to keep)\n"
     ]
    },
    {
     "name": "stderr",
     "output_type": "stream",
     "text": [
      "\r",
      " 78%|███████▊  | 14/18 [1:02:49<25:44, 386.22s/it]"
     ]
    },
    {
     "name": "stdout",
     "output_type": "stream",
     "text": [
      "[youtube] 1EqlSuT6vUY: Downloading webpage\n",
      "[download] Destination: How To Be Happy (ft. Psychology Professor Andy Ho) _ IMO Ep.5-1EqlSuT6vUY.m4a\n",
      "[download]  93.4% of 25.26MiB at  3.91MiB/s ETA 00:0065own ETADeleting original file Mamak Sessions Ep6 - Names People Always Mispronounce & Facebook Is A Spy-8LuihYdx0FQ.webm (pass -k to keep)\n"
     ]
    },
    {
     "name": "stderr",
     "output_type": "stream",
     "text": [
      "\r",
      " 72%|███████▏  | 13/18 [1:02:52<27:40, 332.19s/it]"
     ]
    },
    {
     "name": "stdout",
     "output_type": "stream",
     "text": [
      "[youtube] 6K1feeFnKpQ: Downloading webpage\n",
      "[download] 100% of 25.26MiB in 00:0396MiB/s ETA 00:00\n",
      "[download] Destination: Playing Basketball With Dr Jason Leong - The Fashion Weak Podcast Episode 4 --6K1feeFnKpQ.webm\n",
      "[download]   0.8% of 60.00MiB at  2.46MiB/s ETA 00:247[ffmpeg] Correcting container in \"How To Be Happy (ft. Psychology Professor Andy Ho) _ IMO Ep.5-1EqlSuT6vUY.m4a\"\n",
      "[download]  65.2% of 60.00MiB at  1.81MiB/s ETA 00:113nown ETA[ffmpeg] Destination: How To Be Happy (ft. Psychology Professor Andy Ho) _ IMO Ep.5-1EqlSuT6vUY.mp3\n",
      "[download]  97.6% of 60.00MiB at 169.81KiB/s ETA 00:08nown ETADeleting original file Musings of the OG Sneaker Uncle @bungactiongirl - The Fashion Weak Podcast Episode 3-EjzkQeWKwQw.m4a (pass -k to keep)\n",
      "[download]  97.6% of 60.00MiB at 355.77KiB/s ETA 00:04"
     ]
    },
    {
     "name": "stderr",
     "output_type": "stream",
     "text": [
      "\r",
      " 72%|███████▏  | 13/18 [1:02:56<21:43, 260.78s/it]"
     ]
    },
    {
     "name": "stdout",
     "output_type": "stream",
     "text": [
      "[download] 100% of 60.00MiB in 00:0338MiB/s ETA 00:001\n",
      "[ffmpeg] Destination: Playing Basketball With Dr Jason Leong - The Fashion Weak Podcast Episode 4 --6K1feeFnKpQ.mp3\n",
      "[youtube] Zz3NcuK7QHM: Downloading webpage\n",
      "[download] Destination: The Reaction To Dee Kosh _ IMO Ep.29-Zz3NcuK7QHM.webm\n",
      "[download] 100% of 39.28MiB in 00:0163MiB/s ETA 00:005nown ETA\n",
      "[ffmpeg] Destination: The Reaction To Dee Kosh _ IMO Ep.29-Zz3NcuK7QHM.mp3\n",
      "Deleting original file Mamak Sessions - The Man Behind The Six Pack, Jordan Yeoh-jcvIfHTy1H0.webm (pass -k to keep)\n"
     ]
    },
    {
     "name": "stderr",
     "output_type": "stream",
     "text": [
      "\r",
      " 72%|███████▏  | 13/18 [1:03:04<24:23, 292.79s/it]"
     ]
    },
    {
     "name": "stdout",
     "output_type": "stream",
     "text": [
      "[youtube] L2W4inT6j3c: Downloading webpage\n",
      "Deleting original file Is Cancel Culture Problematic _ IMO Ep.25-luGvazsVsHc.webm (pass -k to keep)\n"
     ]
    },
    {
     "name": "stderr",
     "output_type": "stream",
     "text": [
      "\r",
      " 78%|███████▊  | 14/18 [1:03:05<18:09, 272.37s/it]"
     ]
    },
    {
     "name": "stdout",
     "output_type": "stream",
     "text": [
      "[download] Destination: Conversations With A Cancer Survivor ft Jared Lee-L2W4inT6j3c.webm\n",
      "[download]  21.0% of 38.09MiB at 20.53MiB/s ETA 00:013[youtube] EHlGktcfDZc: Downloading webpage\n",
      "[download]  51.1% of 38.09MiB at Unknown speed ETA Unknown ETA[download] Destination: Mamak Sessions Podcast - Committing Suicide, Mental Health And How To Seek Help-EHlGktcfDZc.webm\n",
      "[download] 100% of 38.09MiB in 00:01.66KiB/s ETA 01:37nown ETA\n",
      "[download]  41.1% of 57.27MiB at 17.15MiB/s ETA 00:012[ffmpeg] Destination: Conversations With A Cancer Survivor ft Jared Lee-L2W4inT6j3c.mp3\n",
      "[download] 100% of 57.27MiB in 00:0263MiB/s ETA 00:008nown ETA\n",
      "[ffmpeg] Destination: Mamak Sessions Podcast - Committing Suicide, Mental Health And How To Seek Help-EHlGktcfDZc.mp3\n",
      "Deleting original file Burnout in the Media Industry + Passion in Theatre  _ Singaporean Podcast #16 _ Rennes Lee-f7qEqPNzGk8.webm (pass -k to keep)\n"
     ]
    },
    {
     "name": "stderr",
     "output_type": "stream",
     "text": [
      "\r",
      " 67%|██████▋   | 12/18 [1:03:25<36:17, 362.85s/it]"
     ]
    },
    {
     "name": "stdout",
     "output_type": "stream",
     "text": [
      "[youtube] -mAdHcMGmEs: Downloading webpage\n",
      "[download] Destination: Mamak Sessions Ep13 - Game Of Thrones Is OVER! Malaysian Accent is sexy!--mAdHcMGmEs.webm\n",
      "[download] 100% of 36.22MiB in 00:0211MiB/s ETA 00:002nown ETA\n",
      "[ffmpeg] Destination: Mamak Sessions Ep13 - Game Of Thrones Is OVER! Malaysian Accent is sexy!--mAdHcMGmEs.mp3\n",
      "Deleting original file Mamak Sessions - 'Chinese Whispers'-CXnW4hJDp54.webm (pass -k to keep)\n"
     ]
    },
    {
     "name": "stderr",
     "output_type": "stream",
     "text": [
      "\r",
      " 78%|███████▊  | 14/18 [1:03:36<19:27, 291.81s/it]"
     ]
    },
    {
     "name": "stdout",
     "output_type": "stream",
     "text": [
      "[youtube] Q54z0mutz5Q: Downloading webpage\n",
      "[download] Destination: Mamak Sessions - From Giving Up, To Getting A NETFLIX Special-Q54z0mutz5Q.webm\n",
      "[download] 100% of 65.84MiB in 00:0382MiB/s ETA 00:001nown ETA\n",
      "[ffmpeg] Destination: Mamak Sessions - From Giving Up, To Getting A NETFLIX Special-Q54z0mutz5Q.mp3\n",
      "Deleting original file The Fashion Weak Podcast EP14 - Faking it on the gram and faking Gasms with Sandra Woo (@sandrawooo)--XwvfCTnseI.webm (pass -k to keep)\n"
     ]
    },
    {
     "name": "stderr",
     "output_type": "stream",
     "text": [
      "\r",
      " 83%|████████▎ | 15/18 [1:04:33<13:33, 271.33s/it]"
     ]
    },
    {
     "name": "stdout",
     "output_type": "stream",
     "text": [
      "[youtube] XldSJLh8kMk: Downloading webpage\n",
      "[download] Destination: Mamak Sessions - The Best Method To Start Saving, To Meet your Goals-XldSJLh8kMk.webm\n",
      "[download] 100% of 29.68MiB in 00:01.88KiB/s ETA 00:00nown ETA\n",
      "[ffmpeg] Destination: Mamak Sessions - The Best Method To Start Saving, To Meet your Goals-XldSJLh8kMk.mp3\n",
      "Deleting original file How To Be Happy (ft. Psychology Professor Andy Ho) _ IMO Ep.5-1EqlSuT6vUY.m4a (pass -k to keep)\n"
     ]
    },
    {
     "name": "stderr",
     "output_type": "stream",
     "text": [
      "\r",
      " 83%|████████▎ | 15/18 [1:05:00<15:29, 309.78s/it]"
     ]
    },
    {
     "name": "stdout",
     "output_type": "stream",
     "text": [
      "[youtube] adq-khQo2eQ: Downloading webpage\n",
      "[download] Destination: Click Bait And 24k Shoe Shopping With Harvinth Skin - The Fashion Weak Podcast Episode 08-adq-khQo2eQ.webm\n",
      "[download] 100% of 55.97MiB in 00:0341MiB/s ETA 00:009nown ETA\n",
      "[ffmpeg] Destination: Click Bait And 24k Shoe Shopping With Harvinth Skin - The Fashion Weak Podcast Episode 08-adq-khQo2eQ.mp3\n",
      "Deleting original file Mamak Sessions - How Do You Deal With Rumors ft Elizabeth Tan-Rkvd5p3I11M.webm (pass -k to keep)\n"
     ]
    },
    {
     "name": "stderr",
     "output_type": "stream",
     "text": [
      "\r",
      " 67%|██████▋   | 12/18 [1:05:26<33:06, 331.11s/it]"
     ]
    },
    {
     "name": "stdout",
     "output_type": "stream",
     "text": [
      "[youtube] YaeQ27BgUN0: Downloading webpage\n",
      "[youtube] YaeQ27BgUN0: Downloading MPD manifest\n",
      "[dashsegments] Total fragments: 336\n",
      "[download] Destination: Dream Internships You Wish You Had - Xiaomi, Amazon, TikTok _ Hao Yuan _ Singaporean Podcast #43-YaeQ27BgUN0.m4a\n",
      "[download]  38.4% of ~51.38MiB at 922.52KiB/s ETA 00:45606Deleting original file Mamak Sessions - From A Transport Assistant to a Multi-Award Winning Film Director-r6f3OoHVkgU.webm (pass -k to keep)\n",
      "[download]  38.4% of ~51.38MiB at 155.71KiB/s ETA 00:45"
     ]
    },
    {
     "name": "stderr",
     "output_type": "stream",
     "text": [
      "\r",
      " 67%|██████▋   | 12/18 [1:05:57<31:33, 315.53s/it]"
     ]
    },
    {
     "name": "stdout",
     "output_type": "stream",
     "text": [
      "[download]  39.0% of ~51.38MiB at 355.33KiB/s ETA 00:455[youtube] T218uk6pi4E: Downloading webpage\n",
      "[download]  40.5% of ~51.40MiB at  1.03MiB/s ETA 00:4444[download] Destination: Should NS Be Abolished _ IMO Ep.27-T218uk6pi4E.webm\n",
      "[download] 100% of 47.11MiB in 00:0220.20KiB/s ETA 00:41wn ETA\n",
      "[download]  44.0% of ~51.43MiB at  1.04MiB/s ETA 00:4111[ffmpeg] Destination: Should NS Be Abolished _ IMO Ep.27-T218uk6pi4E.mp3\n",
      "[download]  95.0% of ~51.61MiB at 370.52KiB/s ETA 00:036Deleting original file Ridhwan's Honest Thoughts On Nicole Choo and Ah Boys to Men - Team Titan Show #2-2hHAMAA614w.webm (pass -k to keep)\n",
      "[download]  95.2% of ~51.61MiB at 927.53KiB/s ETA 00:03"
     ]
    },
    {
     "name": "stderr",
     "output_type": "stream",
     "text": [
      "\r",
      " 67%|██████▋   | 12/18 [1:06:38<39:46, 397.69s/it]"
     ]
    },
    {
     "name": "stdout",
     "output_type": "stream",
     "text": [
      "[download]  95.8% of ~51.62MiB at 934.99KiB/s ETA 00:03[youtube] oW3yttdKVm0: Downloading webpage\n",
      "[download]  96.7% of ~51.62MiB at 904.54KiB/s ETA 00:02[download] Destination: Sexual Predators Running Free In Singapore! _ The Thirsty Sisters #14-oW3yttdKVm0.m4a\n",
      "[download] 100% of 43.91MiB in 00:025.21KiB/s ETA 00:00own ETA\n",
      "[download] 100% of 51.61MiB in 01:13.11MiB/s ETA 00:000\n",
      "[ffmpeg] Correcting container in \"Sexual Predators Running Free In Singapore! _ The Thirsty Sisters #14-oW3yttdKVm0.m4a\"\n",
      "[ffmpeg] Correcting container in \"Dream Internships You Wish You Had - Xiaomi, Amazon, TikTok _ Hao Yuan _ Singaporean Podcast #43-YaeQ27BgUN0.m4a\"\n",
      "[ffmpeg] Destination: Sexual Predators Running Free In Singapore! _ The Thirsty Sisters #14-oW3yttdKVm0.mp3\n",
      "[ffmpeg] Destination: Dream Internships You Wish You Had - Xiaomi, Amazon, TikTok _ Hao Yuan _ Singaporean Podcast #43-YaeQ27BgUN0.mp3\n",
      "Deleting original file The Reaction To Dee Kosh _ IMO Ep.29-Zz3NcuK7QHM.webm (pass -k to keep)\n"
     ]
    },
    {
     "name": "stderr",
     "output_type": "stream",
     "text": [
      "\r",
      " 78%|███████▊  | 14/18 [1:06:46<16:45, 251.46s/it]"
     ]
    },
    {
     "name": "stdout",
     "output_type": "stream",
     "text": [
      "[youtube] shr5NaEWQqk: Downloading webpage\n",
      "[download] Destination: Ryan Tan Opens Up About His Divorce - The Team Titan Show-shr5NaEWQqk.m4a\n",
      "[download] 100% of 68.23MiB in 00:03.65KiB/s ETA 00:00nown ETA\n",
      "[ffmpeg] Correcting container in \"Ryan Tan Opens Up About His Divorce - The Team Titan Show-shr5NaEWQqk.m4a\"\n",
      "[ffmpeg] Destination: Ryan Tan Opens Up About His Divorce - The Team Titan Show-shr5NaEWQqk.mp3\n",
      "Deleting original file Conversations With A Cancer Survivor ft Jared Lee-L2W4inT6j3c.webm (pass -k to keep)\n"
     ]
    },
    {
     "name": "stderr",
     "output_type": "stream",
     "text": [
      "\r",
      " 78%|███████▊  | 14/18 [1:06:59<18:21, 275.39s/it]"
     ]
    },
    {
     "name": "stdout",
     "output_type": "stream",
     "text": [
      "[youtube] ezYaMrChz4M: Downloading webpage\n",
      "[download] Destination: Self Love, Social Media And Education _ HTHT - Chow Jia Hui-ezYaMrChz4M.webm\n",
      "[download]   0.8% of 60.79MiB at  2.56MiB/s ETA 00:230Deleting original file Mamak Sessions Ep13 - Game Of Thrones Is OVER! Malaysian Accent is sexy!--mAdHcMGmEs.webm (pass -k to keep)\n",
      "[download]   1.6% of 60.79MiB at  4.47MiB/s ETA 00:13"
     ]
    },
    {
     "name": "stderr",
     "output_type": "stream",
     "text": [
      "\r",
      " 72%|███████▏  | 13/18 [1:07:00<26:33, 318.65s/it]"
     ]
    },
    {
     "name": "stdout",
     "output_type": "stream",
     "text": [
      "[download]  22.5% of 60.79MiB at 15.41MiB/s ETA 00:033nown ETA[youtube] NZXHVJEkxm8: Downloading webpage\n",
      "[download]  45.2% of 60.79MiB at 15.28MiB/s ETA 00:029nown ETA[download] Destination: JianHao On The Hate and Singapore YouTube Scene (ft. JianHao Tan) _ IMO Ep.14-NZXHVJEkxm8.webm\n",
      "[download] 100% of 60.79MiB in 00:0369MiB/s ETA 00:1321own ETA\n",
      "[download]  64.4% of 51.26MiB at 11.11MiB/s ETA 00:01[ffmpeg] Destination: Self Love, Social Media And Education _ HTHT - Chow Jia Hui-ezYaMrChz4M.mp3\n",
      "[download] 100% of 51.26MiB in 00:0342MiB/s ETA 00:0002own ETA\n",
      "[ffmpeg] Destination: JianHao On The Hate and Singapore YouTube Scene (ft. JianHao Tan) _ IMO Ep.14-NZXHVJEkxm8.mp3\n",
      "Deleting original file Mamak Sessions - The Best Method To Start Saving, To Meet your Goals-XldSJLh8kMk.webm (pass -k to keep)\n"
     ]
    },
    {
     "name": "stderr",
     "output_type": "stream",
     "text": [
      "\r",
      " 89%|████████▉ | 16/18 [1:07:31<08:06, 243.10s/it]"
     ]
    },
    {
     "name": "stdout",
     "output_type": "stream",
     "text": [
      "[youtube] 8DMyfcjyrZQ: Downloading webpage\n",
      "[download] Destination: Being A Single Divorced Woman At 32 _ The Thirsty Sisters #11-8DMyfcjyrZQ.m4a\n",
      "[download] 100% of 45.79MiB in 00:0191MiB/s ETA 00:007nown ETA\n",
      "[ffmpeg] Correcting container in \"Being A Single Divorced Woman At 32 _ The Thirsty Sisters #11-8DMyfcjyrZQ.m4a\"\n",
      "[ffmpeg] Destination: Being A Single Divorced Woman At 32 _ The Thirsty Sisters #11-8DMyfcjyrZQ.mp3\n",
      "Deleting original file Playing Basketball With Dr Jason Leong - The Fashion Weak Podcast Episode 4 --6K1feeFnKpQ.webm (pass -k to keep)\n"
     ]
    },
    {
     "name": "stderr",
     "output_type": "stream",
     "text": [
      "\r",
      " 78%|███████▊  | 14/18 [1:08:30<22:15, 333.79s/it]"
     ]
    },
    {
     "name": "stdout",
     "output_type": "stream",
     "text": [
      "[youtube] 3b0bYe36KNE: Downloading webpage\n",
      "[download] Destination: The Fashion Weak Podcast Ep35 - Is New Balance Cool Now Talking everything NOT Nike with @adlysyairi-3b0bYe36KNE.m4a\n",
      "[download] 100% of 80.92MiB in 00:0441MiB/s ETA 00:002nown ETA\n",
      "[ffmpeg] Correcting container in \"The Fashion Weak Podcast Ep35 - Is New Balance Cool Now Talking everything NOT Nike with @adlysyairi-3b0bYe36KNE.m4a\"\n",
      "[ffmpeg] Destination: The Fashion Weak Podcast Ep35 - Is New Balance Cool Now Talking everything NOT Nike with @adlysyairi-3b0bYe36KNE.mp3\n",
      "Deleting original file Mamak Sessions Podcast - Committing Suicide, Mental Health And How To Seek Help-EHlGktcfDZc.webm (pass -k to keep)\n"
     ]
    },
    {
     "name": "stderr",
     "output_type": "stream",
     "text": [
      "\r",
      " 83%|████████▎ | 15/18 [1:08:42<14:35, 291.74s/it]"
     ]
    },
    {
     "name": "stdout",
     "output_type": "stream",
     "text": [
      "[youtube] ezFAYdIwu_8: Downloading webpage\n",
      "[download] Destination: Living Alone In New York, Chasing Dreams And The Future _ HTHT - Xenia Tan-ezFAYdIwu_8.m4a\n",
      "[download] 100% of 82.00MiB in 00:0334MiB/s ETA 00:0004own ETA\n",
      "[ffmpeg] Correcting container in \"Living Alone In New York, Chasing Dreams And The Future _ HTHT - Xenia Tan-ezFAYdIwu_8.m4a\"\n",
      "[ffmpeg] Destination: Living Alone In New York, Chasing Dreams And The Future _ HTHT - Xenia Tan-ezFAYdIwu_8.mp3\n",
      "Deleting original file Sexual Predators Running Free In Singapore! _ The Thirsty Sisters #14-oW3yttdKVm0.m4a (pass -k to keep)\n"
     ]
    },
    {
     "name": "stderr",
     "output_type": "stream",
     "text": [
      "\r",
      " 72%|███████▏  | 13/18 [1:09:34<27:36, 331.28s/it]"
     ]
    },
    {
     "name": "stdout",
     "output_type": "stream",
     "text": [
      "[youtube] zLEmAKdG9vY: Downloading webpage\n",
      "[download] Destination: Mamak Sessions - Nasi Lemak Sneakers-zLEmAKdG9vY.webm\n",
      "[download] 100% of 53.86MiB in 00:0230MiB/s ETA 00:008nown ETA\n",
      "[ffmpeg] Destination: Mamak Sessions - Nasi Lemak Sneakers-zLEmAKdG9vY.mp3\n",
      "Deleting original file The Fashion Weak Podcast Ep 17 - Our Longest Yet! The Brothers Ming-l6bf4RFE31o.webm (pass -k to keep)\n"
     ]
    },
    {
     "name": "stderr",
     "output_type": "stream",
     "text": [
      "\r",
      " 78%|███████▊  | 14/18 [1:09:54<21:03, 315.95s/it]"
     ]
    },
    {
     "name": "stdout",
     "output_type": "stream",
     "text": [
      "Deleting original file Mamak Sessions - From Giving Up, To Getting A NETFLIX Special-Q54z0mutz5Q.webm (pass -k to keep)\n"
     ]
    },
    {
     "name": "stderr",
     "output_type": "stream",
     "text": [
      "\r",
      " 83%|████████▎ | 15/18 [1:09:54<15:53, 317.77s/it]"
     ]
    },
    {
     "name": "stdout",
     "output_type": "stream",
     "text": [
      "[youtube] C3U2AtbBjHY: Downloading webpage\n",
      "[youtube] xMm23vU8_og: Downloading webpage\n",
      "[download] Destination: Improving The Migrant Worker Situation Beyond COVID-19 (ft. Subhas Nair) _ IMO Ep.15-C3U2AtbBjHY.webm\n",
      "[download]  19.8% of 49.89MiB at 347.70KiB/s ETA 01:57nown ETA[download] Destination: The Fashion Weak Podcast Ep 31 -  Possibly Our Most NSFW Episode Yet With @vikarworld-xMm23vU8_og.webm\n",
      "[download] 100% of 49.89MiB in 00:0352MiB/s ETA 00:001nown ETA\n",
      "[download]  35.3% of 66.59MiB at 16.03MiB/s ETA 00:02[ffmpeg] Destination: Improving The Migrant Worker Situation Beyond COVID-19 (ft. Subhas Nair) _ IMO Ep.15-C3U2AtbBjHY.mp3\n",
      "[download] 100% of 66.59MiB in 00:0704MiB/s ETA 00:003nown ETA\n",
      "[ffmpeg] Destination: The Fashion Weak Podcast Ep 31 -  Possibly Our Most NSFW Episode Yet With @vikarworld-xMm23vU8_og.mp3\n",
      "Deleting original file Dream Internships You Wish You Had - Xiaomi, Amazon, TikTok _ Hao Yuan _ Singaporean Podcast #43-YaeQ27BgUN0.m4a (pass -k to keep)\n"
     ]
    },
    {
     "name": "stderr",
     "output_type": "stream",
     "text": [
      "\r",
      " 72%|███████▏  | 13/18 [1:10:09<26:23, 316.71s/it]"
     ]
    },
    {
     "name": "stdout",
     "output_type": "stream",
     "text": [
      "[youtube] oJPtCCTzs_o: Downloading webpage\n",
      "[download] Destination: Crazy Jobs We Had Before Youtube! _ The Thirsty Sisters #8-oJPtCCTzs_o.m4a\n",
      "[download] 100% of 39.15MiB in 00:0184MiB/s ETA 00:000nown ETA\n",
      "[ffmpeg] Correcting container in \"Crazy Jobs We Had Before Youtube! _ The Thirsty Sisters #8-oJPtCCTzs_o.m4a\"\n",
      "[ffmpeg] Destination: Crazy Jobs We Had Before Youtube! _ The Thirsty Sisters #8-oJPtCCTzs_o.mp3\n",
      "Deleting original file Click Bait And 24k Shoe Shopping With Harvinth Skin - The Fashion Weak Podcast Episode 08-adq-khQo2eQ.webm (pass -k to keep)\n"
     ]
    },
    {
     "name": "stderr",
     "output_type": "stream",
     "text": [
      "\r",
      " 89%|████████▉ | 16/18 [1:10:27<10:29, 314.95s/it]"
     ]
    },
    {
     "name": "stdout",
     "output_type": "stream",
     "text": [
      "[youtube] aa5r9pws0AI: Downloading webpage\n",
      "[youtube] aa5r9pws0AI: Downloading MPD manifest\n",
      "[dashsegments] Total fragments: 346\n",
      "[download] Destination: If the girl is not interested, go for her Mom. Or her Aunt - The Fashion Weak Podcast Ep6-aa5r9pws0AI.webm\n",
      "[download]   2.3% of ~41.61MiB at  1.04MiB/s ETA 01:11621:35Deleting original file Being A Single Divorced Woman At 32 _ The Thirsty Sisters #11-8DMyfcjyrZQ.m4a (pass -k to keep)\n",
      "[download]   2.3% of ~42.65MiB at  1.04MiB/s ETA 01:18"
     ]
    },
    {
     "name": "stderr",
     "output_type": "stream",
     "text": [
      "\r",
      " 94%|█████████▍| 17/18 [1:10:31<03:44, 224.28s/it]"
     ]
    },
    {
     "name": "stdout",
     "output_type": "stream",
     "text": [
      "[download]   2.9% of ~44.16MiB at 370.33KiB/s ETA 01:17[youtube] skGDf57Q9xs: Downloading webpage\n",
      "[download]   4.0% of ~45.06MiB at 1014.11KiB/s ETA 01:10[download] Destination: Mamak Sessions - Are We Safe From The Wuhan Virus and Are Spiritual Healers Scammers-skGDf57Q9xs.webm\n",
      "[download] 100% of 47.70MiB in 00:021.31KiB/s ETA 01:06own ETA\n",
      "[download]   7.3% of ~47.20MiB at 508.59KiB/s ETA 01:05[ffmpeg] Destination: Mamak Sessions - Are We Safe From The Wuhan Virus and Are Spiritual Healers Scammers-skGDf57Q9xs.mp3\n",
      "[download]  11.2% of ~48.02MiB at 748.89KiB/s ETA 01:022Deleting original file Should NS Be Abolished _ IMO Ep.27-T218uk6pi4E.webm (pass -k to keep)\n",
      "[download]  11.3% of ~48.02MiB at 777.00KiB/s ETA 01:02"
     ]
    },
    {
     "name": "stderr",
     "output_type": "stream",
     "text": [
      "\r",
      " 72%|███████▏  | 13/18 [1:10:37<25:24, 304.89s/it]"
     ]
    },
    {
     "name": "stdout",
     "output_type": "stream",
     "text": [
      "[download]  11.8% of ~48.01MiB at 979.30KiB/s ETA 01:02[youtube] lvIbeZ3qgsU: Downloading webpage\n",
      "[download]  14.2% of ~48.65MiB at 907.14KiB/s ETA 00:590[download] Destination: The Fashion Weak Podcast Ep 18 - Putting The Deep In Deepavali With Keren Bala-lvIbeZ3qgsU.webm\n",
      "[download] 100% of 73.48MiB in 00:087.95KiB/s ETA 00:51own ETA\n",
      "[download]  25.7% of ~49.18MiB at  1.18MiB/s ETA 00:511[ffmpeg] Destination: The Fashion Weak Podcast Ep 18 - Putting The Deep In Deepavali With Keren Bala-lvIbeZ3qgsU.mp3\n",
      "[download]  82.8% of ~49.24MiB at 597.67KiB/s ETA 00:123Deleting original file Ryan Tan Opens Up About His Divorce - The Team Titan Show-shr5NaEWQqk.m4a (pass -k to keep)\n",
      "[download]  82.9% of ~49.24MiB at 880.42KiB/s ETA 00:12"
     ]
    },
    {
     "name": "stderr",
     "output_type": "stream",
     "text": [
      "\r",
      " 83%|████████▎ | 15/18 [1:11:28<13:01, 260.64s/it]"
     ]
    },
    {
     "name": "stdout",
     "output_type": "stream",
     "text": [
      "[download]  83.5% of ~49.23MiB at 185.32KiB/s ETA 00:11[youtube] uaSWgcKn0RM: Downloading webpage\n",
      "[download]  84.2% of ~49.21MiB at 609.97KiB/s ETA 00:11[youtube] uaSWgcKn0RM: Downloading MPD manifest\n",
      "[download]  85.8% of ~49.21MiB at 161.17KiB/s ETA 00:100[dashsegments] Total fragments: 391\n",
      "[download]  85.9% of ~49.21MiB at 324.24KiB/s ETA 00:10[download] Destination: How to Start a Podcast + Why You Should Enjoy The Process_ Singaporean Podcast#28 _ Nicholas Patrick-uaSWgcKn0RM.webm\n",
      "[download] 100% of 49.10MiB in 01:09.01MiB/s ETA 01:030621\n",
      "[download]  12.2% of ~58.63MiB at 951.85KiB/s ETA 01:03[ffmpeg] Destination: If the girl is not interested, go for her Mom. Or her Aunt - The Fashion Weak Podcast Ep6-aa5r9pws0AI.mp3\n",
      "[download]  36.1% of ~58.97MiB at  1.63MiB/s ETA 00:4902Deleting original file JianHao On The Hate and Singapore YouTube Scene (ft. JianHao Tan) _ IMO Ep.14-NZXHVJEkxm8.webm (pass -k to keep)\n",
      "[download]  36.1% of ~58.97MiB at 228.99KiB/s ETA 00:49"
     ]
    },
    {
     "name": "stderr",
     "output_type": "stream",
     "text": [
      "\r",
      " 78%|███████▊  | 14/18 [1:11:58<20:49, 312.48s/it]"
     ]
    },
    {
     "name": "stdout",
     "output_type": "stream",
     "text": [
      "[download]  36.8% of ~58.95MiB at 926.31KiB/s ETA 00:49[youtube] CceSkvU4sUM: Downloading webpage\n",
      "[download]  38.2% of ~58.93MiB at 359.58KiB/s ETA 00:48[download] Destination: DO MALAYSIANS REALLY HATE SINGAPOREANS-CceSkvU4sUM.webm\n",
      "[download] 100% of 9.15MiB in 00:0057.24KiB/s ETA 00:47\n",
      "[download]  39.4% of ~58.89MiB at 198.83KiB/s ETA 00:47[ffmpeg] Destination: DO MALAYSIANS REALLY HATE SINGAPOREANS-CceSkvU4sUM.mp3\n",
      "[download]  85.7% of ~58.60MiB at  1.15MiB/s ETA 00:1113Deleting original file Crazy Jobs We Had Before Youtube! _ The Thirsty Sisters #8-oJPtCCTzs_o.m4a (pass -k to keep)\n",
      "[download]  85.7% of ~58.61MiB at  1.15MiB/s ETA 00:11"
     ]
    },
    {
     "name": "stderr",
     "output_type": "stream",
     "text": [
      "\r",
      " 78%|███████▊  | 14/18 [1:12:39<17:45, 266.46s/it]"
     ]
    },
    {
     "name": "stdout",
     "output_type": "stream",
     "text": [
      "[download]  86.2% of ~58.59MiB at  1.02MiB/s ETA 00:1011[youtube] -mAdHcMGmEs: Downloading webpage\n",
      "[download]  87.0% of ~58.60MiB at 667.28KiB/s ETA 00:100[download] Destination: Mamak Sessions Ep13 - Game Of Thrones Is OVER! Malaysian Accent is sexy!--mAdHcMGmEs.webm\n",
      "[download] 100% of 36.22MiB in 00:016.76KiB/s ETA 00:088wn ETA\n",
      "[download]  89.5% of ~58.64MiB at 899.65KiB/s ETA 00:08[ffmpeg] Destination: Mamak Sessions Ep13 - Game Of Thrones Is OVER! Malaysian Accent is sexy!--mAdHcMGmEs.mp3\n",
      "[download] 100% of 58.56MiB in 01:197.37KiB/s ETA 00:003\n",
      "[ffmpeg] Destination: How to Start a Podcast + Why You Should Enjoy The Process_ Singaporean Podcast#28 _ Nicholas Patrick-uaSWgcKn0RM.mp3\n",
      "Deleting original file DO MALAYSIANS REALLY HATE SINGAPOREANS-CceSkvU4sUM.webm (pass -k to keep)\n"
     ]
    },
    {
     "name": "stderr",
     "output_type": "stream",
     "text": [
      "\r",
      " 83%|████████▎ | 15/18 [1:13:06<11:57, 239.14s/it]"
     ]
    },
    {
     "name": "stdout",
     "output_type": "stream",
     "text": [
      "[youtube] N5EfPvQKW90: Downloading webpage\n",
      "[download] Destination: @Juanitadr shows us what Arnold's Tongue Can Do - The Fashion Weak Podcast Episode 10-N5EfPvQKW90.m4a\n",
      "[download] 100% of 60.43MiB in 00:0346MiB/s ETA 00:001nown ETA\n",
      "[ffmpeg] Correcting container in \"@Juanitadr shows us what Arnold's Tongue Can Do - The Fashion Weak Podcast Episode 10-N5EfPvQKW90.m4a\"\n",
      "[ffmpeg] Destination: @Juanitadr shows us what Arnold's Tongue Can Do - The Fashion Weak Podcast Episode 10-N5EfPvQKW90.mp3\n",
      "Deleting original file The Fashion Weak Podcast Ep35 - Is New Balance Cool Now Talking everything NOT Nike with @adlysyairi-3b0bYe36KNE.m4a (pass -k to keep)\n"
     ]
    },
    {
     "name": "stderr",
     "output_type": "stream",
     "text": [
      "\r",
      " 83%|████████▎ | 15/18 [1:14:00<16:38, 332.68s/it]"
     ]
    },
    {
     "name": "stdout",
     "output_type": "stream",
     "text": [
      "[youtube] 0jySfrZhs50: Downloading webpage\n",
      "[download] Destination: Mamak Sessions - Our Differences Is What Unites Us ft. Elvin Romeo-0jySfrZhs50.webm\n",
      "[download] 100% of 27.19MiB in 00:0116MiB/s ETA 00:008nown ETA\n",
      "[ffmpeg] Destination: Mamak Sessions - Our Differences Is What Unites Us ft. Elvin Romeo-0jySfrZhs50.mp3\n",
      "Deleting original file Self Love, Social Media And Education _ HTHT - Chow Jia Hui-ezYaMrChz4M.webm (pass -k to keep)\n"
     ]
    },
    {
     "name": "stderr",
     "output_type": "stream",
     "text": [
      "\r",
      " 83%|████████▎ | 15/18 [1:14:13<16:08, 322.94s/it]"
     ]
    },
    {
     "name": "stdout",
     "output_type": "stream",
     "text": [
      "[youtube] RqG0tHR9D1g: Downloading webpage\n",
      "[download] Destination: The Fashion Weak Podcast EP 36 - Why guys REALLY go for spin class with Oxygen Cycle-RqG0tHR9D1g.webm\n",
      "[download] 100% of 65.22MiB in 00:0314MiB/s ETA 00:008nown ETA\n",
      "[ffmpeg] Destination: The Fashion Weak Podcast EP 36 - Why guys REALLY go for spin class with Oxygen Cycle-RqG0tHR9D1g.mp3\n",
      "Deleting original file Mamak Sessions - Nasi Lemak Sneakers-zLEmAKdG9vY.webm (pass -k to keep)\n"
     ]
    },
    {
     "name": "stderr",
     "output_type": "stream",
     "text": [
      "\r",
      " 78%|███████▊  | 14/18 [1:14:42<21:36, 324.22s/it]"
     ]
    },
    {
     "name": "stdout",
     "output_type": "stream",
     "text": [
      "[youtube] otK3Gl_XX4c: Downloading webpage\n",
      "[download] Destination: The Fashion Weak Podcast Ep 30 - On her way to Supermodel-dom, ASNTM  Cycle 5 Runner Up @shikingomez-otK3Gl_XX4c.webm\n",
      "[download]  45.0% of 73.75MiB at  7.75MiB/s ETA 00:050nown ETADeleting original file Improving The Migrant Worker Situation Beyond COVID-19 (ft. Subhas Nair) _ IMO Ep.15-C3U2AtbBjHY.webm (pass -k to keep)\n"
     ]
    },
    {
     "name": "stderr",
     "output_type": "stream",
     "text": [
      "\r",
      " 83%|████████▎ | 15/18 [1:14:49<15:29, 309.77s/it]"
     ]
    },
    {
     "name": "stdout",
     "output_type": "stream",
     "text": [
      "[download]  50.4% of 73.75MiB at  7.86MiB/s ETA 00:04[youtube] OWbPqC2i71c: Downloading webpage\n",
      "[download]  58.4% of 73.75MiB at  6.79MiB/s ETA 00:046nown ETA[download] Destination: Mamak Sessions Ep8 - Man Sues Colleague for $1.8 Million for Farting-OWbPqC2i71c.webm\n",
      "[download] 100% of 57.88MiB in 00:0214MiB/s ETA 00:001nown ETA\n",
      "[download]  80.5% of 73.75MiB at  4.90MiB/s ETA 00:026nown ETA[ffmpeg] Destination: Mamak Sessions Ep8 - Man Sues Colleague for $1.8 Million for Farting-OWbPqC2i71c.mp3\n",
      "[download] 100% of 73.75MiB in 00:1185MiB/s ETA 00:005nown ETA\n",
      "[ffmpeg] Destination: The Fashion Weak Podcast Ep 30 - On her way to Supermodel-dom, ASNTM  Cycle 5 Runner Up @shikingomez-otK3Gl_XX4c.mp3\n",
      "Deleting original file Mamak Sessions - Are We Safe From The Wuhan Virus and Are Spiritual Healers Scammers-skGDf57Q9xs.webm (pass -k to keep)\n"
     ]
    },
    {
     "name": "stderr",
     "output_type": "stream",
     "text": [
      "100%|██████████| 18/18 [1:15:03<00:00, 250.18s/it]\n",
      "  0%|          | 0/8 [00:00<?, ?it/s]"
     ]
    },
    {
     "name": "stdout",
     "output_type": "stream",
     "text": [
      "[youtube] nGnyZ5c00Mo: Downloading webpage\n",
      "[download] Destination: Mamak Sessions Podcast - Is it ok to move in with your Partner before MARRIAGE-nGnyZ5c00Mo.webm\n",
      "[download] 100% of 37.51MiB in 00:0161MiB/s ETA 00:003nown ETA\n",
      "[ffmpeg] Destination: Mamak Sessions Podcast - Is it ok to move in with your Partner before MARRIAGE-nGnyZ5c00Mo.mp3\n",
      "Deleting original file Living Alone In New York, Chasing Dreams And The Future _ HTHT - Xenia Tan-ezFAYdIwu_8.m4a (pass -k to keep)\n"
     ]
    },
    {
     "name": "stderr",
     "output_type": "stream",
     "text": [
      "\r",
      " 89%|████████▉ | 16/18 [1:15:12<10:42, 321.06s/it]"
     ]
    },
    {
     "name": "stdout",
     "output_type": "stream",
     "text": [
      "[youtube] QIkOzfAcsmE: Downloading webpage\n",
      "[youtube] QIkOzfAcsmE: Downloading MPD manifest\n",
      "[dashsegments] Total fragments: 506\n",
      "[download] Destination: An Unconventional Journey To Get a PHD + Why Start-Ups Crash & Burn _ Dr Nisha Kohli _SG Podcast #23-QIkOzfAcsmE.webm\n",
      "[download]  56.7% of ~68.52MiB at 962.58KiB/s ETA 00:4566:20Deleting original file Mamak Sessions Ep13 - Game Of Thrones Is OVER! Malaysian Accent is sexy!--mAdHcMGmEs.webm (pass -k to keep)\n",
      "[download]  56.7% of ~68.52MiB at 894.31KiB/s ETA 00:45"
     ]
    },
    {
     "name": "stderr",
     "output_type": "stream",
     "text": [
      "\r",
      " 83%|████████▎ | 15/18 [1:16:15<12:34, 251.43s/it]"
     ]
    },
    {
     "name": "stdout",
     "output_type": "stream",
     "text": [
      "[download]  57.2% of ~68.47MiB at 215.28KiB/s ETA 00:45[youtube] V2k9OWeTX84: Downloading webpage\n",
      "[download]  58.0% of ~68.48MiB at 606.10KiB/s ETA 00:44[download] Destination: Is The Singapore Government Doing Enough _ IMO Ep.7-V2k9OWeTX84.webm\n",
      "[download] 100% of 25.95MiB in 00:014.25KiB/s ETA 00:42own ETA\n",
      "[download]  59.9% of ~68.48MiB at 981.82KiB/s ETA 00:42[ffmpeg] Destination: Is The Singapore Government Doing Enough _ IMO Ep.7-V2k9OWeTX84.mp3\n",
      "[download]  61.7% of ~68.53MiB at  1.02MiB/s ETA 00:400Deleting original file If the girl is not interested, go for her Mom. Or her Aunt - The Fashion Weak Podcast Ep6-aa5r9pws0AI.webm (pass -k to keep)\n",
      "[download]  61.7% of ~68.53MiB at  1.02MiB/s ETA 00:40"
     ]
    },
    {
     "name": "stderr",
     "output_type": "stream",
     "text": [
      "\r",
      " 94%|█████████▍| 17/18 [1:16:20<05:26, 326.31s/it]"
     ]
    },
    {
     "name": "stdout",
     "output_type": "stream",
     "text": [
      "[download]  62.3% of ~68.56MiB at 168.38KiB/s ETA 00:39[youtube] X4QapKCCneQ: Downloading webpage\n",
      "[download]  62.9% of ~68.57MiB at 604.71KiB/s ETA 00:399[download] Destination: Ben Kheng Reflects On The Sam Willows, Anxiety, And Religion _ HTHT - Ben Kheng-X4QapKCCneQ.webm\n",
      "[download] 100% of 92.31MiB in 00:050.33KiB/s ETA 00:333wn ETA\n",
      "[download]  68.6% of ~68.61MiB at 898.88KiB/s ETA 00:32[ffmpeg] Destination: Ben Kheng Reflects On The Sam Willows, Anxiety, And Religion _ HTHT - Ben Kheng-X4QapKCCneQ.mp3\n",
      "[download]  71.4% of ~68.59MiB at 251.54KiB/s ETA 00:300Deleting original file The Fashion Weak Podcast Ep 31 -  Possibly Our Most NSFW Episode Yet With @vikarworld-xMm23vU8_og.webm (pass -k to keep)\n",
      "[download]  71.4% of ~68.59MiB at 370.44KiB/s ETA 00:29"
     ]
    },
    {
     "name": "stderr",
     "output_type": "stream",
     "text": [
      "\r",
      " 89%|████████▉ | 16/18 [1:16:30<11:22, 341.11s/it]"
     ]
    },
    {
     "name": "stdout",
     "output_type": "stream",
     "text": [
      "[download]  72.0% of ~68.56MiB at 323.81KiB/s ETA 00:29[youtube] -L7y6_6Ar4s: Downloading webpage\n",
      "[download]  72.7% of ~68.57MiB at 878.28KiB/s ETA 00:28[download] Destination: Does JianHao Deserve All The Hate _ IMO Ep.13--L7y6_6Ar4s.webm\n",
      "[download] 100% of 46.41MiB in 00:028.80KiB/s ETA 00:26own ETA\n",
      "[download]  75.2% of ~68.57MiB at 605.63KiB/s ETA 00:25[ffmpeg] Destination: Does JianHao Deserve All The Hate _ IMO Ep.13--L7y6_6Ar4s.mp3\n",
      "[download]  85.5% of ~68.62MiB at 625.23KiB/s ETA 00:159Deleting original file Mamak Sessions - Our Differences Is What Unites Us ft. Elvin Romeo-0jySfrZhs50.webm (pass -k to keep)\n",
      "[download]  85.5% of ~68.62MiB at  1.05MiB/s ETA 00:15"
     ]
    },
    {
     "name": "stderr",
     "output_type": "stream",
     "text": [
      "\r",
      " 89%|████████▉ | 16/18 [1:16:44<09:24, 282.20s/it]"
     ]
    },
    {
     "name": "stdout",
     "output_type": "stream",
     "text": [
      "[download]  86.0% of ~68.62MiB at 897.43KiB/s ETA 00:145[youtube] HKnXUGo_H2U: Downloading webpage\n",
      "[download]  87.0% of ~68.61MiB at 151.60KiB/s ETA 00:13[download] Destination: Do You Know Your Attachment Style! _ The Thirsty Sisters #21-HKnXUGo_H2U.m4a\n",
      "[download] 100% of 36.26MiB in 00:0118MiB/s ETA 00:0011own ETA\n",
      "[download]  89.3% of ~68.60MiB at 852.97KiB/s ETA 00:11[ffmpeg] Correcting container in \"Do You Know Your Attachment Style! _ The Thirsty Sisters #21-HKnXUGo_H2U.m4a\"\n",
      "[download]  91.1% of ~68.63MiB at 893.20KiB/s ETA 00:090[ffmpeg] Destination: Do You Know Your Attachment Style! _ The Thirsty Sisters #21-HKnXUGo_H2U.mp3\n",
      "[download] 100% of 68.41MiB in 01:444.00KiB/s ETA 00:000\n",
      "[ffmpeg] Destination: An Unconventional Journey To Get a PHD + Why Start-Ups Crash & Burn _ Dr Nisha Kohli _SG Podcast #23-QIkOzfAcsmE.mp3\n",
      "Deleting original file @Juanitadr shows us what Arnold's Tongue Can Do - The Fashion Weak Podcast Episode 10-N5EfPvQKW90.m4a (pass -k to keep)\n"
     ]
    },
    {
     "name": "stderr",
     "output_type": "stream",
     "text": [
      "\r",
      " 89%|████████▉ | 16/18 [1:17:12<08:02, 241.09s/it]"
     ]
    },
    {
     "name": "stdout",
     "output_type": "stream",
     "text": [
      "[youtube] 6yW185RJkGw: Downloading webpage\n",
      "[youtube] 6yW185RJkGw: Downloading MPD manifest\n",
      "[dashsegments] Total fragments: 260\n",
      "[download] Destination: Skin Care Routines, Death, Life Purpose and More _ Singaporean Trio Podcast #2-6yW185RJkGw.webm\n",
      "[download]  73.5% of ~40.67MiB at 804.86KiB/s ETA 00:1476:12Deleting original file The Fashion Weak Podcast Ep 18 - Putting The Deep In Deepavali With Keren Bala-lvIbeZ3qgsU.webm (pass -k to keep)\n",
      "[download]  73.5% of ~40.63MiB at 804.86KiB/s ETA 00:14"
     ]
    },
    {
     "name": "stderr",
     "output_type": "stream",
     "text": [
      "\r",
      " 78%|███████▊  | 14/18 [1:17:55<22:59, 344.79s/it]"
     ]
    },
    {
     "name": "stdout",
     "output_type": "stream",
     "text": [
      "[download]  74.6% of ~40.55MiB at 808.94KiB/s ETA 00:13[youtube] Q54z0mutz5Q: Downloading webpage\n",
      "[download]  76.2% of ~40.43MiB at 179.49KiB/s ETA 00:123[download] Destination: Mamak Sessions - From Giving Up, To Getting A NETFLIX Special-Q54z0mutz5Q.webm\n",
      "[download] 100% of 65.84MiB in 00:02.34MiB/s ETA 00:100own ETA\n",
      "[download]  82.3% of ~40.53MiB at  1.19MiB/s ETA 00:099[ffmpeg] Destination: Mamak Sessions - From Giving Up, To Getting A NETFLIX Special-Q54z0mutz5Q.mp3\n",
      "[download] 100% of 40.01MiB in 00:548.92KiB/s ETA 00:005\n",
      "[ffmpeg] Destination: Skin Care Routines, Death, Life Purpose and More _ Singaporean Trio Podcast #2-6yW185RJkGw.mp3\n",
      "Deleting original file How to Start a Podcast + Why You Should Enjoy The Process_ Singaporean Podcast#28 _ Nicholas Patrick-uaSWgcKn0RM.webm (pass -k to keep)\n"
     ]
    },
    {
     "name": "stderr",
     "output_type": "stream",
     "text": [
      "\r",
      " 89%|████████▉ | 16/18 [1:18:16<10:09, 304.88s/it]"
     ]
    },
    {
     "name": "stdout",
     "output_type": "stream",
     "text": [
      "[youtube] 6R87P6YD2c4: Downloading webpage\n",
      "[download] Destination: The Fashion Weak Podcast Ep 43 - Thirst Trapping Simps & Loving Your Body From The Outside In-6R87P6YD2c4.webm\n",
      "[download] 100% of 73.10MiB in 00:0346MiB/s ETA 00:004nown ETA\n",
      "[ffmpeg] Destination: The Fashion Weak Podcast Ep 43 - Thirst Trapping Simps & Loving Your Body From The Outside In-6R87P6YD2c4.mp3\n",
      "Deleting original file Mamak Sessions Podcast - Is it ok to move in with your Partner before MARRIAGE-nGnyZ5c00Mo.webm (pass -k to keep)\n"
     ]
    },
    {
     "name": "stderr",
     "output_type": "stream",
     "text": [
      "\r",
      " 12%|█▎        | 1/8 [03:41<25:47, 221.03s/it]"
     ]
    },
    {
     "name": "stdout",
     "output_type": "stream",
     "text": [
      "[youtube] sZFykBDVjOI: Downloading webpage\n",
      "[download] Destination: Mamak Sessions - Have You Been Rejected, and Have You Rejected Someone-sZFykBDVjOI.webm\n",
      "[download] 100% of 37.70MiB in 00:0167MiB/s ETA 00:008nown ETA\n",
      "[ffmpeg] Destination: Mamak Sessions - Have You Been Rejected, and Have You Rejected Someone-sZFykBDVjOI.mp3\n",
      "Deleting original file Is The Singapore Government Doing Enough _ IMO Ep.7-V2k9OWeTX84.webm (pass -k to keep)\n"
     ]
    },
    {
     "name": "stderr",
     "output_type": "stream",
     "text": [
      "\r",
      " 89%|████████▉ | 16/18 [1:19:04<07:33, 226.81s/it]"
     ]
    },
    {
     "name": "stdout",
     "output_type": "stream",
     "text": [
      "[youtube] ViJXVHWTRz8: Downloading webpage\n",
      "[download] Destination: My Future In-Laws Threw Me Out! _ The Thirsty Sisters #18-ViJXVHWTRz8.m4a\n",
      "[download]  72.7% of 39.82MiB at 618.61KiB/s ETA 00:18nown ETADeleting original file Do You Know Your Attachment Style! _ The Thirsty Sisters #21-HKnXUGo_H2U.m4a (pass -k to keep)\n",
      "[download]  72.7% of 39.82MiB at 778.89KiB/s ETA 00:14"
     ]
    },
    {
     "name": "stderr",
     "output_type": "stream",
     "text": [
      "\r",
      " 94%|█████████▍| 17/18 [1:19:07<04:00, 240.46s/it]"
     ]
    },
    {
     "name": "stdout",
     "output_type": "stream",
     "text": [
      "[download]  96.8% of 39.82MiB at 643.60KiB/s ETA 00:02nown ETA[youtube] OpDeoZzKHBM: Downloading webpage\n",
      "[download] 100% of 39.82MiB in 00:0233MiB/s ETA 00:00\n",
      "[ffmpeg] Correcting container in \"My Future In-Laws Threw Me Out! _ The Thirsty Sisters #18-ViJXVHWTRz8.m4a\"\n",
      "[youtube] OpDeoZzKHBM: Downloading MPD manifest\n",
      "[dashsegments] Total fragments: 360\n",
      "[download] Destination: An Unconventional Degree And Life as an Assistant Producer in SG Film & TV Industry  _ Xuan Kai _ 41-OpDeoZzKHBM.webm\n",
      "[download]   0.1% of ~27.41MiB at 241.53KiB/s ETA 24:26:4211[ffmpeg] Destination: My Future In-Laws Threw Me Out! _ The Thirsty Sisters #18-ViJXVHWTRz8.mp3\n",
      "[download]  95.3% of ~54.75MiB at 1017.45KiB/s ETA 00:03Deleting original file Mamak Sessions Ep8 - Man Sues Colleague for $1.8 Million for Farting-OWbPqC2i71c.webm (pass -k to keep)\n",
      "[download]  95.3% of ~54.75MiB at 1017.45KiB/s ETA 00:03"
     ]
    },
    {
     "name": "stderr",
     "output_type": "stream",
     "text": [
      "\r",
      " 89%|████████▉ | 16/18 [1:20:24<10:34, 317.13s/it]"
     ]
    },
    {
     "name": "stdout",
     "output_type": "stream",
     "text": [
      "[download]  96.1% of ~54.74MiB at 877.08KiB/s ETA 00:033[youtube] 7wiSVCBFmFc: Downloading webpage\n",
      "[download]  97.0% of ~54.73MiB at 1018.36KiB/s ETA 00:02[download] Destination: Grown Up Flex With YouTube Superstar @JinnyBoy - The Fashion Weak Podcast Episode 9-7wiSVCBFmFc.webm\n",
      "[download] 100% of 54.63MiB in 01:174.41KiB/s ETA 00:00own ETA\n",
      "[download]  74.0% of 66.11MiB at 482.05KiB/s ETA 00:36nown ETA[ffmpeg] Destination: An Unconventional Degree And Life as an Assistant Producer in SG Film & TV Industry  _ Xuan Kai _ 41-OpDeoZzKHBM.mp3\n",
      "[download] 100% of 66.11MiB in 00:0331MiB/s ETA 00:007nown ETA\n",
      "[ffmpeg] Destination: Grown Up Flex With YouTube Superstar @JinnyBoy - The Fashion Weak Podcast Episode 9-7wiSVCBFmFc.mp3\n",
      "Deleting original file The Fashion Weak Podcast EP 36 - Why guys REALLY go for spin class with Oxygen Cycle-RqG0tHR9D1g.webm (pass -k to keep)\n"
     ]
    },
    {
     "name": "stderr",
     "output_type": "stream",
     "text": [
      "\r",
      " 89%|████████▉ | 16/18 [1:20:33<11:20, 340.14s/it]"
     ]
    },
    {
     "name": "stdout",
     "output_type": "stream",
     "text": [
      "[youtube] x8Gl_zIC9CQ: Downloading webpage\n",
      "[download] Destination: Mamak Sessions - Blaming Yourself For Your Parents' Divorce, And How Our Parents Punish Us-x8Gl_zIC9CQ.webm\n",
      "[download] 100% of 47.00MiB in 00:0278MiB/s ETA 00:009nown ETA\n",
      "[ffmpeg] Destination: Mamak Sessions - Blaming Yourself For Your Parents' Divorce, And How Our Parents Punish Us-x8Gl_zIC9CQ.mp3\n",
      "Deleting original file Does JianHao Deserve All The Hate _ IMO Ep.13--L7y6_6Ar4s.webm (pass -k to keep)\n"
     ]
    },
    {
     "name": "stderr",
     "output_type": "stream",
     "text": [
      "\r",
      " 94%|█████████▍| 17/18 [1:21:35<05:30, 330.36s/it]"
     ]
    },
    {
     "name": "stdout",
     "output_type": "stream",
     "text": [
      "[youtube] woDYSE37_rI: Downloading webpage\n",
      "[youtube] woDYSE37_rI: Downloading MPD manifest\n",
      "[dashsegments] Total fragments: 401\n",
      "[download] Destination: The Fashion Weak Podcast Ep 22 - Why Fashion School Didn't Work Out For Zee Avi-woDYSE37_rI.m4a\n",
      "[download]   6.0% of ~59.23MiB at 945.11KiB/s ETA 01:2539:55Deleting original file My Future In-Laws Threw Me Out! _ The Thirsty Sisters #18-ViJXVHWTRz8.m4a (pass -k to keep)\n"
     ]
    },
    {
     "name": "stderr",
     "output_type": "stream",
     "text": [
      "\r",
      " 94%|█████████▍| 17/18 [1:21:43<03:26, 206.38s/it]"
     ]
    },
    {
     "name": "stdout",
     "output_type": "stream",
     "text": [
      "[download]   6.7% of ~59.52MiB at  1.13MiB/s ETA 01:245[youtube] n3AR3nQEc7Y: Downloading webpage\n",
      "[download]   8.0% of ~59.93MiB at 883.00KiB/s ETA 01:23[download] Destination: Mamak Sessions Ep10 - Datuk Nicol David is RETIRING!-n3AR3nQEc7Y.webm\n",
      "[download] 100% of 55.50MiB in 00:03.05MiB/s ETA 01:156own ETA\n",
      "[download]  12.7% of ~60.61MiB at 158.71KiB/s ETA 01:16[ffmpeg] Destination: Mamak Sessions Ep10 - Datuk Nicol David is RETIRING!-n3AR3nQEc7Y.mp3\n",
      "[download]  42.9% of ~61.44MiB at 273.44KiB/s ETA 00:488Deleting original file The Fashion Weak Podcast Ep 30 - On her way to Supermodel-dom, ASNTM  Cycle 5 Runner Up @shikingomez-otK3Gl_XX4c.webm (pass -k to keep)\n",
      "[download]  43.1% of ~61.44MiB at 787.84KiB/s ETA 00:48"
     ]
    },
    {
     "name": "stderr",
     "output_type": "stream",
     "text": [
      "\r",
      " 83%|████████▎ | 15/18 [1:22:14<18:07, 362.59s/it]"
     ]
    },
    {
     "name": "stdout",
     "output_type": "stream",
     "text": [
      "[download]  43.7% of ~61.44MiB at 136.83KiB/s ETA 00:48[youtube] ONUgGzCm00E: Downloading webpage\n",
      "[download]  44.4% of ~61.45MiB at 822.96KiB/s ETA 00:477[youtube] ONUgGzCm00E: Downloading MPD manifest\n",
      "[download]  45.6% of ~61.46MiB at  1.00MiB/s ETA 00:466[dashsegments] Total fragments: 293\n",
      "[download]  45.6% of ~61.46MiB at  1.00MiB/s ETA 00:46[download] Destination: Life After NUS Business School in the FMCG Industry _ Singaporean Podcast #4_ Leonard Yap-ONUgGzCm00E.webm\n",
      "[download]  18.1% of ~40.46MiB at  1.02MiB/s ETA 00:49398:27Deleting original file Mamak Sessions - Have You Been Rejected, and Have You Rejected Someone-sZFykBDVjOI.webm (pass -k to keep)\n",
      "[download]  60.3% of ~61.54MiB at  1.05MiB/s ETA 00:32"
     ]
    },
    {
     "name": "stderr",
     "output_type": "stream",
     "text": [
      "\r",
      " 25%|██▌       | 2/8 [07:24<22:10, 221.80s/it]"
     ]
    },
    {
     "name": "stdout",
     "output_type": "stream",
     "text": [
      "[download]  60.9% of ~61.54MiB at 578.17KiB/s ETA 00:329[youtube] kbOrRjEDnDU: Downloading webpage\n",
      "[download]  19.8% of ~40.40MiB at 132.30KiB/s ETA 00:492[download] Destination: How To Improve Singapore's Mental Health (ft. Psychology Professor Andy Ho) _ IMO Ep.6-kbOrRjEDnDU.m4a\n",
      "[download] 100% of 26.46MiB in 00:062.21KiB/s ETA 00:244wn ETA\n",
      "[download]  70.8% of ~61.57MiB at 986.05KiB/s ETA 00:23[ffmpeg] Correcting container in \"How To Improve Singapore's Mental Health (ft. Psychology Professor Andy Ho) _ IMO Ep.6-kbOrRjEDnDU.m4a\"\n",
      "[download]  73.1% of ~61.58MiB at  1.02MiB/s ETA 00:2102[ffmpeg] Destination: How To Improve Singapore's Mental Health (ft. Psychology Professor Andy Ho) _ IMO Ep.6-kbOrRjEDnDU.mp3\n",
      "[download]  36.5% of ~40.00MiB at 156.10KiB/s ETA 00:380Deleting original file Skin Care Routines, Death, Life Purpose and More _ Singaporean Trio Podcast #2-6yW185RJkGw.webm (pass -k to keep)\n",
      "[download]  75.8% of ~61.59MiB at 870.18KiB/s ETA 00:19"
     ]
    },
    {
     "name": "stderr",
     "output_type": "stream",
     "text": [
      "\r",
      " 94%|█████████▍| 17/18 [1:22:39<04:26, 266.79s/it]"
     ]
    },
    {
     "name": "stdout",
     "output_type": "stream",
     "text": [
      "[download]  76.6% of ~61.59MiB at 958.83KiB/s ETA 00:18[youtube] luGvazsVsHc: Downloading webpage\n",
      "[download]  77.3% of ~61.59MiB at 136.05KiB/s ETA 00:187[download] Destination: Is Cancel Culture Problematic _ IMO Ep.25-luGvazsVsHc.webm\n",
      "[download] 100% of 36.45MiB in 00:01.07MiB/s ETA 00:3566wn ETA\n",
      "[download]  41.6% of ~39.93MiB at 995.11KiB/s ETA 00:35[ffmpeg] Destination: Is Cancel Culture Problematic _ IMO Ep.25-luGvazsVsHc.mp3\n",
      "[download] 100% of 61.55MiB in 01:195.32KiB/s ETA 00:009\n",
      "[download]  67.9% of ~39.71MiB at  1.24MiB/s ETA 00:199[ffmpeg] Correcting container in \"The Fashion Weak Podcast Ep 22 - Why Fashion School Didn't Work Out For Zee Avi-woDYSE37_rI.m4a\"\n",
      "[download]  73.1% of ~39.66MiB at 292.65KiB/s ETA 00:166[ffmpeg] Destination: The Fashion Weak Podcast Ep 22 - Why Fashion School Didn't Work Out For Zee Avi-woDYSE37_rI.mp3\n",
      "[download] 100% of 39.45MiB in 01:022.04KiB/s ETA 00:008\n",
      "[ffmpeg] Destination: Life After NUS Business School in the FMCG Industry _ Singaporean Podcast #4_ Leonard Yap-ONUgGzCm00E.mp3\n",
      "Deleting original file An Unconventional Journey To Get a PHD + Why Start-Ups Crash & Burn _ Dr Nisha Kohli _SG Podcast #23-QIkOzfAcsmE.webm (pass -k to keep)\n"
     ]
    },
    {
     "name": "stderr",
     "output_type": "stream",
     "text": [
      "\r",
      " 94%|█████████▍| 17/18 [1:23:50<06:20, 380.16s/it]"
     ]
    },
    {
     "name": "stdout",
     "output_type": "stream",
     "text": [
      "[youtube] U4dYpNf8oWY: Downloading webpage\n",
      "[download] Destination: Singapore's Reaction to the Wuhan Virus _ IMO Ep.1-U4dYpNf8oWY.m4a\n",
      "[download] 100% of 26.47MiB in 00:0532MiB/s ETA 00:001nown ETA\n",
      "[ffmpeg] Correcting container in \"Singapore's Reaction to the Wuhan Virus _ IMO Ep.1-U4dYpNf8oWY.m4a\"\n",
      "[ffmpeg] Destination: Singapore's Reaction to the Wuhan Virus _ IMO Ep.1-U4dYpNf8oWY.mp3\n",
      "Deleting original file Mamak Sessions - From Giving Up, To Getting A NETFLIX Special-Q54z0mutz5Q.webm (pass -k to keep)\n"
     ]
    },
    {
     "name": "stderr",
     "output_type": "stream",
     "text": [
      "\r",
      " 83%|████████▎ | 15/18 [1:24:16<17:47, 355.73s/it]"
     ]
    },
    {
     "name": "stdout",
     "output_type": "stream",
     "text": [
      "[youtube] F15a-MH_Hzg: Downloading webpage\n",
      "[download] Destination: Why We Love Our Malay Community! _ The Thirsty Sisters #20-F15a-MH_Hzg.m4a\n",
      "[download] 100% of 31.09MiB in 00:0101MiB/s ETA 00:001nown ETA\n",
      "[ffmpeg] Correcting container in \"Why We Love Our Malay Community! _ The Thirsty Sisters #20-F15a-MH_Hzg.m4a\"\n",
      "[ffmpeg] Destination: Why We Love Our Malay Community! _ The Thirsty Sisters #20-F15a-MH_Hzg.mp3\n",
      "Deleting original file How To Improve Singapore's Mental Health (ft. Psychology Professor Andy Ho) _ IMO Ep.6-kbOrRjEDnDU.m4a (pass -k to keep)\n"
     ]
    },
    {
     "name": "stderr",
     "output_type": "stream",
     "text": [
      "\r",
      " 38%|███▊      | 3/8 [09:38<16:17, 195.46s/it]"
     ]
    },
    {
     "name": "stdout",
     "output_type": "stream",
     "text": [
      "[youtube] roNgntnM3EI: Downloading webpage\n",
      "[download] Destination: COVID-19 From A Global Perspective (ft. Wang Peixuan) _ IMO Ep.9-roNgntnM3EI.webm\n",
      "[download] 100% of 30.98MiB in 00:0177MiB/s ETA 00:002nown ETA\n",
      "[ffmpeg] Destination: COVID-19 From A Global Perspective (ft. Wang Peixuan) _ IMO Ep.9-roNgntnM3EI.mp3\n",
      "Deleting original file Mamak Sessions - Blaming Yourself For Your Parents' Divorce, And How Our Parents Punish Us-x8Gl_zIC9CQ.webm (pass -k to keep)\n"
     ]
    },
    {
     "name": "stderr",
     "output_type": "stream",
     "text": [
      "\r",
      " 94%|█████████▍| 17/18 [1:25:10<05:21, 321.20s/it]"
     ]
    },
    {
     "name": "stdout",
     "output_type": "stream",
     "text": [
      "[youtube] sT3vpK8npYk: Downloading webpage\n",
      "[youtube] sT3vpK8npYk: Downloading MPD manifest\n",
      "[dashsegments] Total fragments: 244\n",
      "[download] Destination: How to Build Meaningful Relationships with Big Clients _ Singaporean Podcast #26 _ Jeremiah Su-sT3vpK8npYk.webm\n",
      "[download]  27.0% of ~35.73MiB at 983.41KiB/s ETA 00:3671Deleting original file The Fashion Weak Podcast Ep 43 - Thirst Trapping Simps & Loving Your Body From The Outside In-6R87P6YD2c4.webm (pass -k to keep)\n",
      "[download]  27.0% of ~35.73MiB at 930.95KiB/s ETA 00:36"
     ]
    },
    {
     "name": "stderr",
     "output_type": "stream",
     "text": [
      "\r",
      " 94%|█████████▍| 17/18 [1:25:26<05:42, 342.49s/it]"
     ]
    },
    {
     "name": "stdout",
     "output_type": "stream",
     "text": [
      "[download]  27.9% of ~35.70MiB at 941.29KiB/s ETA 00:36[youtube] 8QNgzWcc7U4: Downloading webpage\n",
      "[download]  29.5% of ~35.82MiB at 891.80KiB/s ETA 00:35[youtube] 8QNgzWcc7U4: Downloading MPD manifest\n",
      "[download]  31.6% of ~35.88MiB at 835.71KiB/s ETA 00:345[dashsegments] Total fragments: 352\n",
      "[download]  31.6% of ~35.85MiB at 835.71KiB/s ETA 00:34[download] Destination: Why NUS Business School + Unilever & P&G Case Competitions _ Singaporean Podcast #22 _ Sherrine Fu-8QNgzWcc7U4.webm\n",
      "[download]   4.1% of ~50.84MiB at 755.26KiB/s ETA 01:0339:09Deleting original file An Unconventional Degree And Life as an Assistant Producer in SG Film & TV Industry  _ Xuan Kai _ 41-OpDeoZzKHBM.webm (pass -k to keep)\n",
      "[download]   4.3% of ~50.84MiB at  1.24MiB/s ETA 01:0130"
     ]
    },
    {
     "name": "stderr",
     "output_type": "stream",
     "text": [
      "\r",
      "100%|██████████| 18/18 [1:25:31<00:00, 283.60s/it]"
     ]
    },
    {
     "name": "stdout",
     "output_type": "stream",
     "text": [
      "[download]   4.3% of ~50.84MiB at  1.24MiB/s ETA 01:01"
     ]
    },
    {
     "name": "stderr",
     "output_type": "stream",
     "text": [
      "100%|██████████| 18/18 [1:25:31<00:00, 285.11s/it]\n"
     ]
    },
    {
     "name": "stdout",
     "output_type": "stream",
     "text": [
      "[download]  24.7% of ~48.26MiB at  1.82MiB/s ETA 00:4657Deleting original file Ben Kheng Reflects On The Sam Willows, Anxiety, And Religion _ HTHT - Ben Kheng-X4QapKCCneQ.webm (pass -k to keep)\n",
      "[download]  24.7% of ~48.25MiB at  1.76MiB/s ETA 00:465"
     ]
    },
    {
     "name": "stderr",
     "output_type": "stream",
     "text": [
      "\r",
      "100%|██████████| 18/18 [1:25:44<00:00, 397.64s/it]"
     ]
    },
    {
     "name": "stdout",
     "output_type": "stream",
     "text": [
      "[download]  24.7% of ~48.25MiB at 217.89KiB/s ETA 00:46"
     ]
    },
    {
     "name": "stderr",
     "output_type": "stream",
     "text": [
      "\r",
      "100%|██████████| 18/18 [1:25:44<00:00, 285.81s/it]"
     ]
    },
    {
     "name": "stdout",
     "output_type": "stream",
     "text": [
      "[download]  67.6% of ~35.91MiB at 163.22KiB/s ETA 00:15"
     ]
    },
    {
     "name": "stderr",
     "output_type": "stream",
     "text": [
      "\n"
     ]
    },
    {
     "name": "stdout",
     "output_type": "stream",
     "text": [
      "[download] 100% of 35.63MiB in 00:45.17MiB/s ETA 00:3101\n",
      "[download]  48.3% of ~47.87MiB at 356.75KiB/s ETA 00:31Deleting original file Singapore's Reaction to the Wuhan Virus _ IMO Ep.1-U4dYpNf8oWY.m4a (pass -k to keep)\n",
      "[download]  48.3% of ~47.87MiB at 380.03KiB/s ETA 00:31"
     ]
    },
    {
     "name": "stderr",
     "output_type": "stream",
     "text": [
      "100%|██████████| 18/18 [1:25:58<00:00, 286.59s/it]"
     ]
    },
    {
     "name": "stdout",
     "output_type": "stream",
     "text": [
      "\r",
      "[download]  48.4% of ~47.87MiB at 488.44KiB/s ETA 00:31"
     ]
    },
    {
     "name": "stderr",
     "output_type": "stream",
     "text": [
      "\n"
     ]
    },
    {
     "name": "stdout",
     "output_type": "stream",
     "text": [
      "[download]  48.6% of ~47.87MiB at  1.13MiB/s ETA 00:311[ffmpeg] Destination: How to Build Meaningful Relationships with Big Clients _ Singaporean Podcast #26 _ Jeremiah Su-sT3vpK8npYk.mp3\n",
      "[download]  66.2% of ~47.76MiB at  1.23MiB/s ETA 00:2002Deleting original file Is Cancel Culture Problematic _ IMO Ep.25-luGvazsVsHc.webm (pass -k to keep)\n",
      "[download]  66.2% of ~47.76MiB at 131.30KiB/s ETA 00:20"
     ]
    },
    {
     "name": "stderr",
     "output_type": "stream",
     "text": [
      "\r",
      "100%|██████████| 18/18 [1:26:10<00:00, 249.95s/it]"
     ]
    },
    {
     "name": "stdout",
     "output_type": "stream",
     "text": [
      "\r",
      "[download]  66.2% of ~47.76MiB at 171.79KiB/s ETA 00:20"
     ]
    },
    {
     "name": "stderr",
     "output_type": "stream",
     "text": [
      "\r",
      "100%|██████████| 18/18 [1:26:10<00:00, 287.23s/it]"
     ]
    },
    {
     "name": "stdout",
     "output_type": "stream",
     "text": [
      "\r",
      "[download]  66.2% of ~47.76MiB at 272.53KiB/s ETA 00:20"
     ]
    },
    {
     "name": "stderr",
     "output_type": "stream",
     "text": [
      "\n"
     ]
    },
    {
     "name": "stdout",
     "output_type": "stream",
     "text": [
      "[download]  68.3% of ~47.71MiB at 637.35KiB/s ETA 00:199Deleting original file Why We Love Our Malay Community! _ The Thirsty Sisters #20-F15a-MH_Hzg.m4a (pass -k to keep)\n",
      "[download]  68.4% of ~47.71MiB at  1.10MiB/s ETA 00:19"
     ]
    },
    {
     "name": "stderr",
     "output_type": "stream",
     "text": [
      "\r",
      " 89%|████████▉ | 16/18 [1:26:11<09:26, 283.41s/it]"
     ]
    },
    {
     "name": "stdout",
     "output_type": "stream",
     "text": [
      "[download]  69.0% of ~47.71MiB at  1.06MiB/s ETA 00:1999[youtube] 745rfUlGzgM: Downloading webpage\n",
      "[download]  70.2% of ~47.71MiB at  1.09MiB/s ETA 00:188[download] Destination: Dear Straight People And Rallying For Gay Rights (ft. Sean Foo) _ IMO Ep.19-745rfUlGzgM.webm\n",
      "[download] 100% of 38.51MiB in 00:01.24MiB/s ETA 00:166own ETA\n",
      "[download]  73.6% of ~47.67MiB at  1.00MiB/s ETA 00:166[ffmpeg] Destination: Dear Straight People And Rallying For Gay Rights (ft. Sean Foo) _ IMO Ep.19-745rfUlGzgM.mp3\n",
      "[download]  86.9% of ~47.70MiB at 915.07KiB/s ETA 00:072Deleting original file Grown Up Flex With YouTube Superstar @JinnyBoy - The Fashion Weak Podcast Episode 9-7wiSVCBFmFc.webm (pass -k to keep)\n",
      "[download]  86.9% of ~47.69MiB at 915.07KiB/s ETA 00:07"
     ]
    },
    {
     "name": "stderr",
     "output_type": "stream",
     "text": [
      "\r",
      " 94%|█████████▍| 17/18 [1:26:22<05:29, 329.50s/it]"
     ]
    },
    {
     "name": "stdout",
     "output_type": "stream",
     "text": [
      "[download]  87.5% of ~47.68MiB at 226.75KiB/s ETA 00:07[youtube] Zz3NcuK7QHM: Downloading webpage\n",
      "[download]  88.9% of ~47.66MiB at  1.09MiB/s ETA 00:066[download] Destination: The Reaction To Dee Kosh _ IMO Ep.29-Zz3NcuK7QHM.webm\n",
      "[download] 100% of 39.28MiB in 00:011.62KiB/s ETA 00:05own ETA\n",
      "[download]  92.1% of ~47.63MiB at 269.13KiB/s ETA 00:04[ffmpeg] Destination: The Reaction To Dee Kosh _ IMO Ep.29-Zz3NcuK7QHM.mp3\n",
      "[download] 100% of 47.61MiB in 01:00.06MiB/s ETA 00:0002\n",
      "[ffmpeg] Destination: Why NUS Business School + Unilever & P&G Case Competitions _ Singaporean Podcast #22 _ Sherrine Fu-8QNgzWcc7U4.mp3\n",
      "Deleting original file The Fashion Weak Podcast Ep 22 - Why Fashion School Didn't Work Out For Zee Avi-woDYSE37_rI.m4a (pass -k to keep)\n"
     ]
    },
    {
     "name": "stderr",
     "output_type": "stream",
     "text": [
      "100%|██████████| 18/18 [1:26:38<00:00, 288.83s/it]\n"
     ]
    },
    {
     "name": "stdout",
     "output_type": "stream",
     "text": [
      "Deleting original file Mamak Sessions Ep10 - Datuk Nicol David is RETIRING!-n3AR3nQEc7Y.webm (pass -k to keep)\n"
     ]
    },
    {
     "name": "stderr",
     "output_type": "stream",
     "text": [
      "100%|██████████| 18/18 [1:26:40<00:00, 288.90s/it]\n"
     ]
    },
    {
     "name": "stdout",
     "output_type": "stream",
     "text": [
      "Deleting original file Life After NUS Business School in the FMCG Industry _ Singaporean Podcast #4_ Leonard Yap-ONUgGzCm00E.webm (pass -k to keep)\n"
     ]
    },
    {
     "name": "stderr",
     "output_type": "stream",
     "text": [
      "\r",
      " 89%|████████▉ | 16/18 [1:26:42<11:08, 334.17s/it]"
     ]
    },
    {
     "name": "stdout",
     "output_type": "stream",
     "text": [
      "[youtube] v-RunsFvf8o: Downloading webpage\n",
      "[youtube] v-RunsFvf8o: Downloading MPD manifest\n",
      "[dashsegments] Total fragments: 349\n",
      "[download] Destination: Community Service, Entrepreneurial Ventures & Being a Father _ Singaporean Podcast #14 _ Andy Ang-v-RunsFvf8o.webm\n",
      "[download]  21.2% of ~54.16MiB at 225.90KiB/s ETA 00:4469Deleting original file COVID-19 From A Global Perspective (ft. Wang Peixuan) _ IMO Ep.9-roNgntnM3EI.webm (pass -k to keep)\n",
      "[download]  21.2% of ~54.16MiB at 257.38KiB/s ETA 00:44"
     ]
    },
    {
     "name": "stderr",
     "output_type": "stream",
     "text": [
      "\r",
      " 50%|█████     | 4/8 [11:53<11:48, 177.22s/it]"
     ]
    },
    {
     "name": "stdout",
     "output_type": "stream",
     "text": [
      "[download]  22.1% of ~54.16MiB at  1.51MiB/s ETA 00:433[youtube] hi4MpQZVzYY: Downloading webpage\n",
      "[download]  22.7% of ~54.14MiB at 461.29KiB/s ETA 00:45"
     ]
    },
    {
     "name": "stderr",
     "output_type": "stream",
     "text": [
      "ERROR: hi4MpQZVzYY: YouTube said: Unable to extract video data\n"
     ]
    },
    {
     "name": "stdout",
     "output_type": "stream",
     "text": [
      "\r",
      "[download]  22.7% of ~54.14MiB at 620.90KiB/s ETA 00:45"
     ]
    },
    {
     "name": "stderr",
     "output_type": "stream",
     "text": [
      "\r",
      " 62%|██████▎   | 5/8 [11:54<06:13, 124.47s/it]"
     ]
    },
    {
     "name": "stdout",
     "output_type": "stream",
     "text": [
      "[download]  23.5% of ~54.12MiB at 387.54KiB/s ETA 00:44[youtube] 3pKA5NvTCOA: Downloading webpage\n",
      "[download]  24.4% of ~54.10MiB at 500.43KiB/s ETA 00:44[youtube] 3pKA5NvTCOA: Downloading MPD manifest\n",
      "[download]  25.8% of ~54.07MiB at  1.49MiB/s ETA 00:4223[dashsegments] Total fragments: 559\n",
      "[download] Destination: The Fashion Weak Podcast Ep 23 - Alicia Amin On Being A 'Malay' Model In 2019-3pKA5NvTCOA.m4a\n",
      "[download]  99.7% of ~52.31MiB at  1.35MiB/s ETA 00:000186Deleting original file How to Build Meaningful Relationships with Big Clients _ Singaporean Podcast #26 _ Jeremiah Su-sT3vpK8npYk.webm (pass -k to keep)\n",
      "[download]  50.6% of ~85.84MiB at 235.01KiB/s ETA 00:39"
     ]
    },
    {
     "name": "stderr",
     "output_type": "stream",
     "text": [
      "100%|██████████| 18/18 [1:27:40<00:00, 292.23s/it]"
     ]
    },
    {
     "name": "stdout",
     "output_type": "stream",
     "text": [
      "\r",
      "[download]  99.9% of ~52.21MiB at  1.35MiB/s ETA 00:00"
     ]
    },
    {
     "name": "stderr",
     "output_type": "stream",
     "text": [
      "\n"
     ]
    },
    {
     "name": "stdout",
     "output_type": "stream",
     "text": [
      "[download] 100% of 52.21MiB in 00:55.08MiB/s ETA 00:390\n",
      "[download]  51.0% of ~85.84MiB at  1.91MiB/s ETA 00:399[ffmpeg] Destination: Community Service, Entrepreneurial Ventures & Being a Father _ Singaporean Podcast #14 _ Andy Ang-v-RunsFvf8o.mp3\n",
      "[download]  67.8% of ~85.91MiB at  1.76MiB/s ETA 00:255Deleting original file Dear Straight People And Rallying For Gay Rights (ft. Sean Foo) _ IMO Ep.19-745rfUlGzgM.webm (pass -k to keep)\n",
      "[download]  67.8% of ~85.91MiB at  1.76MiB/s ETA 00:25"
     ]
    },
    {
     "name": "stderr",
     "output_type": "stream",
     "text": [
      "\r",
      " 94%|█████████▍| 17/18 [1:27:53<03:49, 229.10s/it]"
     ]
    },
    {
     "name": "stdout",
     "output_type": "stream",
     "text": [
      "[download]  68.0% of ~85.91MiB at 198.89KiB/s ETA 00:25[youtube] FcD9MpeWqEI: Downloading webpage\n",
      "[download]  70.5% of ~85.92MiB at  3.27MiB/s ETA 00:2223[download] Destination: Mamak Sessions - Quitting The Medical Line To Make People Laugh ft Dr. Jason Leong-FcD9MpeWqEI.webm\n",
      "[download] 100% of 48.73MiB in 00:02.29MiB/s ETA 00:1667wn ETA\n",
      "[download]  77.5% of ~85.94MiB at 961.28KiB/s ETA 00:16[ffmpeg] Destination: Mamak Sessions - Quitting The Medical Line To Make People Laugh ft Dr. Jason Leong-FcD9MpeWqEI.mp3\n",
      "[download]  79.1% of ~85.94MiB at 176.76KiB/s ETA 00:15Deleting original file The Reaction To Dee Kosh _ IMO Ep.29-Zz3NcuK7QHM.webm (pass -k to keep)\n",
      "[download]  79.3% of ~85.94MiB at  2.27MiB/s ETA 00:155"
     ]
    },
    {
     "name": "stderr",
     "output_type": "stream",
     "text": [
      "100%|██████████| 18/18 [1:27:57<00:00, 293.19s/it]"
     ]
    },
    {
     "name": "stdout",
     "output_type": "stream",
     "text": [
      "[download]  79.4% of ~85.94MiB at  5.98MiB/s ETA 00:1415"
     ]
    },
    {
     "name": "stderr",
     "output_type": "stream",
     "text": [
      "\n"
     ]
    },
    {
     "name": "stdout",
     "output_type": "stream",
     "text": [
      "[download] 100% of 85.97MiB in 01:01.97MiB/s ETA 00:00\n",
      "[ffmpeg] Correcting container in \"The Fashion Weak Podcast Ep 23 - Alicia Amin On Being A 'Malay' Model In 2019-3pKA5NvTCOA.m4a\"\n",
      "[ffmpeg] Destination: The Fashion Weak Podcast Ep 23 - Alicia Amin On Being A 'Malay' Model In 2019-3pKA5NvTCOA.mp3\n",
      "Deleting original file Why NUS Business School + Unilever & P&G Case Competitions _ Singaporean Podcast #22 _ Sherrine Fu-8QNgzWcc7U4.webm (pass -k to keep)\n"
     ]
    },
    {
     "name": "stderr",
     "output_type": "stream",
     "text": [
      "100%|██████████| 18/18 [1:28:20<00:00, 294.45s/it]\n"
     ]
    },
    {
     "name": "stdout",
     "output_type": "stream",
     "text": [
      "Deleting original file Community Service, Entrepreneurial Ventures & Being a Father _ Singaporean Podcast #14 _ Andy Ang-v-RunsFvf8o.webm (pass -k to keep)\n"
     ]
    },
    {
     "name": "stderr",
     "output_type": "stream",
     "text": [
      "\r",
      " 94%|█████████▍| 17/18 [1:29:09<04:38, 278.10s/it]"
     ]
    },
    {
     "name": "stdout",
     "output_type": "stream",
     "text": [
      "[youtube] O19y2ZG8Y-k: Downloading webpage\n",
      "[download] Destination: Mamak Sessions - How Bryan Loo Created His Bubble Tea Empire-O19y2ZG8Y-k.webm\n",
      "[download] 100% of 41.68MiB in 00:0158MiB/s ETA 00:002nown ETA\n",
      "[ffmpeg] Destination: Mamak Sessions - How Bryan Loo Created His Bubble Tea Empire-O19y2ZG8Y-k.mp3\n",
      "Deleting original file Mamak Sessions - Quitting The Medical Line To Make People Laugh ft Dr. Jason Leong-FcD9MpeWqEI.webm (pass -k to keep)\n"
     ]
    },
    {
     "name": "stderr",
     "output_type": "stream",
     "text": [
      "100%|██████████| 18/18 [1:29:18<00:00, 297.69s/it]\n"
     ]
    },
    {
     "name": "stdout",
     "output_type": "stream",
     "text": [
      "Deleting original file The Fashion Weak Podcast Ep 23 - Alicia Amin On Being A 'Malay' Model In 2019-3pKA5NvTCOA.m4a (pass -k to keep)\n"
     ]
    },
    {
     "name": "stderr",
     "output_type": "stream",
     "text": [
      "\r",
      " 75%|███████▌  | 6/8 [14:40<04:33, 136.98s/it]"
     ]
    },
    {
     "name": "stdout",
     "output_type": "stream",
     "text": [
      "[youtube] F15a-MH_Hzg: Downloading webpage\n",
      "[download] Destination: Why We Love Our Malay Community! _ The Thirsty Sisters #20-F15a-MH_Hzg.m4a\n",
      "[download] 100% of 31.09MiB in 00:0040MiB/s ETA 00:00known ETA\n",
      "[ffmpeg] Correcting container in \"Why We Love Our Malay Community! _ The Thirsty Sisters #20-F15a-MH_Hzg.m4a\"\n",
      "[ffmpeg] Destination: Why We Love Our Malay Community! _ The Thirsty Sisters #20-F15a-MH_Hzg.mp3\n",
      "Deleting original file Why We Love Our Malay Community! _ The Thirsty Sisters #20-F15a-MH_Hzg.m4a (pass -k to keep)\n"
     ]
    },
    {
     "name": "stderr",
     "output_type": "stream",
     "text": [
      "\r",
      " 88%|████████▊ | 7/8 [15:08<01:44, 104.19s/it]"
     ]
    },
    {
     "name": "stdout",
     "output_type": "stream",
     "text": [
      "[youtube] cs2LkcSpNpw: Downloading webpage\n",
      "[youtube] cs2LkcSpNpw: Downloading MPD manifest\n",
      "Deleting original file Mamak Sessions - How Bryan Loo Created His Bubble Tea Empire-O19y2ZG8Y-k.webm (pass -k to keep)\n"
     ]
    },
    {
     "name": "stderr",
     "output_type": "stream",
     "text": [
      "100%|██████████| 18/18 [1:30:12<00:00, 300.69s/it]\n"
     ]
    },
    {
     "name": "stdout",
     "output_type": "stream",
     "text": [
      "[dashsegments] Total fragments: 486\n",
      "[download] Destination: How To Be A Damn Good Software Developer + Israel Startup Culture _ Singaporean Podcast #11 _ Mark-cs2LkcSpNpw.webm\n",
      "[download] 100% of 67.14MiB in 00:13.41MiB/s ETA 00:00142:34\n",
      "[ffmpeg] Destination: How To Be A Damn Good Software Developer + Israel Startup Culture _ Singaporean Podcast #11 _ Mark-cs2LkcSpNpw.mp3\n",
      "Deleting original file How To Be A Damn Good Software Developer + Israel Startup Culture _ Singaporean Podcast #11 _ Mark-cs2LkcSpNpw.webm (pass -k to keep)\n"
     ]
    },
    {
     "name": "stderr",
     "output_type": "stream",
     "text": [
      "100%|██████████| 8/8 [16:48<00:00, 126.00s/it]\n"
     ]
    }
   ],
   "source": [
    "import mp\n",
    "mp.multiprocessing(videos, loop, cores = 12, returned = False)"
   ]
  },
  {
   "cell_type": "code",
   "execution_count": null,
   "metadata": {},
   "outputs": [],
   "source": []
  }
 ],
 "metadata": {
  "kernelspec": {
   "display_name": "Python 3",
   "language": "python",
   "name": "python3"
  },
  "language_info": {
   "codemirror_mode": {
    "name": "ipython",
    "version": 3
   },
   "file_extension": ".py",
   "mimetype": "text/x-python",
   "name": "python",
   "nbconvert_exporter": "python",
   "pygments_lexer": "ipython3",
   "version": "3.6.9"
  }
 },
 "nbformat": 4,
 "nbformat_minor": 4
}

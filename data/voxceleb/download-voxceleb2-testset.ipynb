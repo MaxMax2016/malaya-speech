{
 "cells": [
  {
   "cell_type": "code",
   "execution_count": 10,
   "metadata": {},
   "outputs": [],
   "source": [
    "# !wget https://f000.backblazeb2.com/file/malay-dataset/voxceleb/vox2_test_aac.zip\n",
    "# !unzip vox2_test_aac.zip"
   ]
  },
  {
   "cell_type": "code",
   "execution_count": 12,
   "metadata": {},
   "outputs": [],
   "source": [
    "# !wget https://www.robots.ox.ac.uk/~vgg/data/voxceleb/meta/vox2_meta.csv"
   ]
  },
  {
   "cell_type": "code",
   "execution_count": 13,
   "metadata": {},
   "outputs": [
    {
     "data": {
      "text/plain": [
       "36237"
      ]
     },
     "execution_count": 13,
     "metadata": {},
     "output_type": "execute_result"
    }
   ],
   "source": [
    "from glob import glob\n",
    "\n",
    "files = glob('aac/**/*.m4a', recursive = True)\n",
    "len(files)"
   ]
  },
  {
   "cell_type": "code",
   "execution_count": 14,
   "metadata": {},
   "outputs": [],
   "source": [
    "!mkdir voxceleb-wav"
   ]
  },
  {
   "cell_type": "code",
   "execution_count": 15,
   "metadata": {},
   "outputs": [],
   "source": [
    "import mp\n",
    "from tqdm import tqdm\n",
    "from pydub import AudioSegment"
   ]
  },
  {
   "cell_type": "code",
   "execution_count": 16,
   "metadata": {},
   "outputs": [],
   "source": [
    "def loop(args):\n",
    "    files = args[0]\n",
    "    index = args[1]\n",
    "    for file in tqdm(files):\n",
    "        audio = AudioSegment.from_file(file)\n",
    "        new_file = file.replace('dev', 'wav').replace('/', '-').replace('.m4a', '.wav')\n",
    "        new_file = f'voxceleb-wav/{new_file}'\n",
    "        audio.set_frame_rate(16000).set_channels(1).export(new_file, format=\"wav\")"
   ]
  },
  {
   "cell_type": "code",
   "execution_count": 17,
   "metadata": {},
   "outputs": [
    {
     "name": "stderr",
     "output_type": "stream",
     "text": [
      " 97%|█████████▋| 350/362 [02:47<00:05,  2.16it/s]\n",
      " 98%|█████████▊| 355/362 [02:49<00:03,  2.03it/s]\n",
      "100%|██████████| 362/362 [02:49<00:00,  2.13it/s]\n",
      " 99%|█████████▉| 358/362 [02:49<00:02,  1.88it/s]\n",
      " 99%|█████████▊| 357/362 [02:50<00:02,  2.04it/s]\n",
      " 98%|█████████▊| 353/362 [02:50<00:04,  1.93it/s]\n",
      " 98%|█████████▊| 355/362 [02:50<00:03,  1.97it/s]\n",
      " 99%|█████████▉| 359/362 [02:50<00:01,  2.26it/s]\n",
      "100%|██████████| 362/362 [02:50<00:00,  2.12it/s]\n",
      " 98%|█████████▊| 356/362 [02:50<00:02,  2.34it/s]\n",
      "100%|██████████| 362/362 [02:50<00:00,  1.76it/s]\n",
      " 99%|█████████▉| 359/362 [02:50<00:01,  2.17it/s]\n",
      " 98%|█████████▊| 356/362 [02:50<00:02,  2.14it/s]\n",
      "100%|██████████| 362/362 [02:51<00:00,  2.12it/s]\n",
      " 99%|█████████▉| 358/362 [02:51<00:02,  1.93it/s]\n",
      " 99%|█████████▉| 358/362 [02:51<00:01,  2.13it/s]\n",
      "100%|██████████| 362/362 [02:51<00:00,  2.11it/s]\n",
      " 98%|█████████▊| 354/362 [02:51<00:04,  1.97it/s]\n",
      " 98%|█████████▊| 355/362 [02:51<00:03,  1.87it/s]\n",
      " 99%|█████████▉| 359/362 [02:51<00:01,  2.22it/s]\n",
      " 98%|█████████▊| 353/362 [02:51<00:05,  1.79it/s]\n",
      " 99%|█████████▉| 358/362 [02:51<00:01,  2.12it/s]\n",
      " 99%|█████████▉| 358/362 [02:51<00:01,  2.25it/s]\n",
      "100%|██████████| 362/362 [02:51<00:00,  2.11it/s]\n",
      " 99%|█████████▉| 360/362 [02:52<00:00,  2.07it/s]\n",
      " 99%|█████████▉| 360/362 [02:52<00:01,  1.90it/s]\n",
      " 99%|█████████▊| 357/362 [02:52<00:02,  2.40it/s]\n",
      " 99%|█████████▊| 357/362 [02:52<00:02,  1.81it/s]\n",
      " 99%|█████████▊| 357/362 [02:52<00:02,  1.71it/s]\n",
      " 99%|█████████▉| 358/362 [02:52<00:01,  2.24it/s]\n",
      "100%|██████████| 362/362 [02:52<00:00,  2.16it/s]\n",
      "100%|██████████| 362/362 [02:52<00:00,  2.11it/s]\n",
      "\n",
      "100%|██████████| 362/362 [02:52<00:00,  2.04it/s]\n",
      "100%|█████████▉| 361/362 [02:52<00:00,  2.05it/s]\n",
      " 99%|█████████▉| 360/362 [02:52<00:00,  2.24it/s]\n",
      "100%|█████████▉| 361/362 [02:52<00:00,  2.68it/s]\n",
      " 99%|█████████▊| 357/362 [02:52<00:02,  2.13it/s]\n",
      " 97%|█████████▋| 352/362 [02:52<00:05,  1.99it/s]\n",
      "100%|██████████| 362/362 [02:52<00:00,  2.10it/s]\n",
      "\n",
      "100%|██████████| 362/362 [02:52<00:00,  2.10it/s]\n",
      " 98%|█████████▊| 355/362 [02:52<00:03,  1.91it/s]\n",
      "100%|██████████| 362/362 [02:52<00:00,  2.09it/s]\n",
      " 98%|█████████▊| 354/362 [02:52<00:03,  2.01it/s]\n",
      " 99%|█████████▉| 359/362 [02:53<00:01,  2.08it/s]\n",
      " 99%|█████████▉| 359/362 [02:53<00:01,  2.16it/s]\n",
      "100%|██████████| 362/362 [02:53<00:00,  2.47it/s]\n",
      "100%|██████████| 362/362 [02:53<00:00,  2.09it/s]\n",
      "100%|██████████| 362/362 [02:53<00:00,  2.09it/s]\n",
      "100%|██████████| 362/362 [02:53<00:00,  2.09it/s]\n",
      "100%|██████████| 362/362 [02:53<00:00,  2.09it/s]\n",
      "100%|██████████| 362/362 [02:53<00:00,  2.34it/s]\n",
      "100%|██████████| 362/362 [02:53<00:00,  2.09it/s]\n",
      "\n",
      "100%|██████████| 362/362 [02:53<00:00,  2.09it/s]\n",
      " 98%|█████████▊| 354/362 [02:53<00:03,  2.21it/s]\n",
      "100%|██████████| 362/362 [02:53<00:00,  2.09it/s]\n",
      "\n",
      "100%|██████████| 362/362 [02:53<00:00,  2.08it/s]\n",
      "\n",
      "\n",
      "100%|█████████▉| 361/362 [02:53<00:00,  2.31it/s]\n",
      " 99%|█████████▉| 360/362 [02:53<00:00,  2.16it/s]\n",
      " 98%|█████████▊| 356/362 [02:53<00:02,  2.00it/s]\n",
      "100%|██████████| 362/362 [02:54<00:00,  2.08it/s]\n",
      " 99%|█████████▉| 359/362 [02:54<00:01,  2.64it/s]\n",
      "100%|██████████| 362/362 [02:54<00:00,  2.37it/s]\n",
      "100%|██████████| 362/362 [02:54<00:00,  2.08it/s]\n",
      "\n",
      " 98%|█████████▊| 354/362 [02:54<00:03,  2.50it/s]\n",
      "100%|██████████| 362/362 [02:54<00:00,  2.08it/s]\n",
      "100%|██████████| 362/362 [02:54<00:00,  2.08it/s]\n",
      "100%|██████████| 362/362 [02:54<00:00,  2.08it/s]\n",
      " 99%|█████████▉| 359/362 [02:54<00:01,  2.66it/s]\n",
      " 99%|█████████▉| 358/362 [02:54<00:01,  2.54it/s]\n",
      "100%|██████████| 362/362 [02:54<00:00,  2.07it/s]\n",
      "\n",
      "100%|██████████| 362/362 [02:54<00:00,  2.07it/s]\n",
      "\n",
      "100%|██████████| 362/362 [02:54<00:00,  2.07it/s]\n",
      "100%|██████████| 362/362 [02:54<00:00,  2.07it/s]\n",
      " 99%|█████████▉| 359/362 [02:54<00:01,  2.73it/s]\n",
      "100%|██████████| 362/362 [02:54<00:00,  2.07it/s]\n",
      "100%|██████████| 362/362 [02:54<00:00,  2.07it/s]\n",
      "100%|██████████| 362/362 [02:54<00:00,  2.07it/s]\n",
      "100%|██████████| 362/362 [02:54<00:00,  3.52it/s]\n",
      "100%|██████████| 362/362 [02:54<00:00,  2.07it/s]\n",
      "\n",
      "100%|██████████| 362/362 [02:55<00:00,  2.07it/s]\n",
      "100%|█████████▉| 361/362 [02:55<00:00,  2.94it/s]\n",
      "100%|██████████| 362/362 [02:55<00:00,  2.06it/s]\n",
      "100%|██████████| 362/362 [02:55<00:00,  2.06it/s]\n",
      "\n",
      "100%|██████████| 362/362 [02:55<00:00,  2.06it/s]\n",
      "\n",
      "100%|██████████| 362/362 [02:55<00:00,  2.06it/s]\n",
      "100%|██████████| 362/362 [02:56<00:00,  2.05it/s]\n",
      "\n",
      "100%|██████████| 362/362 [02:58<00:00,  2.02it/s]\n",
      "100%|██████████| 37/37 [00:12<00:00,  2.96it/s]\n"
     ]
    }
   ],
   "source": [
    "r = mp.multiprocessing(files, loop, cores = 100, returned = False)"
   ]
  },
  {
   "cell_type": "code",
   "execution_count": 18,
   "metadata": {},
   "outputs": [
    {
     "name": "stdout",
     "output_type": "stream",
     "text": [
      "8.7G\tvoxceleb-wav\r\n"
     ]
    }
   ],
   "source": [
    "!du -hs voxceleb-wav"
   ]
  },
  {
   "cell_type": "code",
   "execution_count": 19,
   "metadata": {},
   "outputs": [],
   "source": [
    "!tar -cf voxceleb2-test-wav.tar voxceleb-wav"
   ]
  },
  {
   "cell_type": "code",
   "execution_count": 22,
   "metadata": {},
   "outputs": [],
   "source": [
    "from b2sdk.v1 import *\n",
    "info = InMemoryAccountInfo()\n",
    "b2_api = B2Api(info)\n",
    "application_key_id = b2_application_key_id\n",
    "application_key = b2_application_key\n",
    "b2_api.authorize_account(\"production\", application_key_id, application_key)\n",
    "file_info = {'how': 'good-file'}\n",
    "b2_bucket = b2_api.get_bucket_by_name('malay-dataset')"
   ]
  },
  {
   "cell_type": "code",
   "execution_count": 23,
   "metadata": {},
   "outputs": [
    {
     "data": {
      "text/plain": [
       "<b2sdk.file_version.FileVersionInfo at 0x7ff18a238748>"
      ]
     },
     "execution_count": 23,
     "metadata": {},
     "output_type": "execute_result"
    }
   ],
   "source": [
    "file = 'voxceleb2-test-wav.tar'\n",
    "outPutname = 'voxceleb/voxceleb2-test-wav.tar'\n",
    "b2_bucket.upload_local_file(\n",
    "    local_file=file,\n",
    "    file_name=outPutname,\n",
    "    file_infos=file_info,\n",
    ")"
   ]
  },
  {
   "cell_type": "code",
   "execution_count": null,
   "metadata": {},
   "outputs": [],
   "source": []
  }
 ],
 "metadata": {
  "kernelspec": {
   "display_name": "Python 3",
   "language": "python",
   "name": "python3"
  },
  "language_info": {
   "codemirror_mode": {
    "name": "ipython",
    "version": 3
   },
   "file_extension": ".py",
   "mimetype": "text/x-python",
   "name": "python",
   "nbconvert_exporter": "python",
   "pygments_lexer": "ipython3",
   "version": "3.6.9"
  }
 },
 "nbformat": 4,
 "nbformat_minor": 2
}

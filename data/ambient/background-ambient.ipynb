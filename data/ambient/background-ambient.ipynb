{
 "cells": [
  {
   "cell_type": "code",
   "execution_count": 2,
   "metadata": {},
   "outputs": [],
   "source": [
    "videos = \"\"\"\n",
    "https://www.youtube.com/watch?v=AJZmie7z4_c&ab_channel=EasyEnglishConversation\n",
    "https://www.youtube.com/watch?v=LZbEIxhiJRM&ab_channel=TheMSsoundeffects\n",
    "https://www.youtube.com/watch?v=4vIQON2fDWM&ab_channel=TheGuildofAmbience\n",
    "https://www.youtube.com/watch?v=xNN7iTA57jM&ab_channel=TheGuildofAmbience\n",
    "https://www.youtube.com/watch?v=ih4_1FyVjaY&ab_channel=TheGuildofAmbience\n",
    "https://www.youtube.com/watch?v=3sL0omwElxw&ab_channel=TheGuildofAmbience\n",
    "https://www.youtube.com/watch?v=fuwGT88P-RU&ab_channel=SoundsOnTheHouse\n",
    "https://www.youtube.com/watch?v=y6So7hlDTIo&ab_channel=BIGBRAIN\n",
    "https://www.youtube.com/watch?v=jpPcfNLYlfQ&t=1949s&ab_channel=GloriaLam\n",
    "https://www.youtube.com/watch?v=IJQdnHT3MCA&t=4s&ab_channel=EpidemicAmbience\n",
    "https://www.youtube.com/watch?v=EULoybB2Nsw&ab_channel=SwordCoastSoundscapes\n",
    "https://www.youtube.com/watch?v=YsiaBSHGenE&ab_channel=HQSFX\n",
    "https://www.youtube.com/watch?v=zRrkB2DeqBQ&ab_channel=SoundDoom\n",
    "https://www.youtube.com/watch?v=G2Hrh_4daro&ab_channel=NomadicAmbience\n",
    "https://www.youtube.com/watch?v=frEJTGfLOhM&ab_channel=TheGuildofAmbience\n",
    "https://www.youtube.com/watch?v=dcEiFOLXy0c&ab_channel=NomadicAmbience\n",
    "https://www.youtube.com/watch?v=IKB3Qiglyro&ab_channel=Ambience\n",
    "\"\"\"\n",
    "videos = list(set(filter(None, videos.split('\\n'))))"
   ]
  },
  {
   "cell_type": "code",
   "execution_count": 3,
   "metadata": {},
   "outputs": [],
   "source": [
    "import youtube_dl"
   ]
  },
  {
   "cell_type": "code",
   "execution_count": 4,
   "metadata": {},
   "outputs": [],
   "source": [
    "import mp\n",
    "from tqdm import tqdm\n",
    "\n",
    "def loop(urls):\n",
    "    urls = urls[0]\n",
    "    ydl_opts = {\n",
    "        'format': 'bestaudio/best',\n",
    "        'postprocessors': [{\n",
    "            'key': 'FFmpegExtractAudio',\n",
    "            'preferredcodec': 'mp3',\n",
    "            'preferredquality': '192',\n",
    "        }],\n",
    "        'no-check-certificate': True\n",
    "    }\n",
    "\n",
    "    for i in tqdm(range(len(urls))):\n",
    "        try:\n",
    "            with youtube_dl.YoutubeDL(ydl_opts) as ydl:\n",
    "                ydl.download([urls[i]])\n",
    "        except:\n",
    "            pass"
   ]
  },
  {
   "cell_type": "code",
   "execution_count": 5,
   "metadata": {
    "scrolled": true
   },
   "outputs": [
    {
     "name": "stderr",
     "output_type": "stream",
     "text": [
      "\r",
      "  0%|          | 0/17 [00:00<?, ?it/s]"
     ]
    },
    {
     "name": "stdout",
     "output_type": "stream",
     "text": [
      "[youtube] ih4_1FyVjaY: Downloading webpage\n",
      "[download] Destination: Swamp Sounds at Night - Frogs, Crickets, Light Rain, Forest Nature Sounds _ 3 Hours-ih4_1FyVjaY.webm\n",
      "[download] 100% of 156.36MiB in 00:1020MiB/s ETA 00:00known ETA\n",
      "[ffmpeg] Destination: Swamp Sounds at Night - Frogs, Crickets, Light Rain, Forest Nature Sounds _ 3 Hours-ih4_1FyVjaY.mp3\n",
      "Deleting original file Swamp Sounds at Night - Frogs, Crickets, Light Rain, Forest Nature Sounds _ 3 Hours-ih4_1FyVjaY.webm (pass -k to keep)\n"
     ]
    },
    {
     "name": "stderr",
     "output_type": "stream",
     "text": [
      "\r",
      "  6%|▌         | 1/17 [09:03<2:24:53, 543.37s/it]"
     ]
    },
    {
     "name": "stdout",
     "output_type": "stream",
     "text": [
      "[youtube] EULoybB2Nsw: Downloading webpage\n",
      "[download] Destination: D&D Ambience - Crowded Local Tavern-EULoybB2Nsw.m4a\n",
      "[download] 100% of 162.22MiB in 00:3292MiB/s ETA 00:00known ETA\n",
      "[ffmpeg] Correcting container in \"D&D Ambience - Crowded Local Tavern-EULoybB2Nsw.m4a\"\n",
      "[ffmpeg] Destination: D&D Ambience - Crowded Local Tavern-EULoybB2Nsw.mp3\n",
      "Deleting original file D&D Ambience - Crowded Local Tavern-EULoybB2Nsw.m4a (pass -k to keep)\n"
     ]
    },
    {
     "name": "stderr",
     "output_type": "stream",
     "text": [
      "\r",
      " 12%|█▏        | 2/17 [13:50<1:56:38, 466.60s/it]"
     ]
    },
    {
     "name": "stdout",
     "output_type": "stream",
     "text": [
      "[youtube] dcEiFOLXy0c: Downloading webpage\n",
      "[download] Destination: Manhattan View - City Rain Open WIndow City Sounds in New York City _ 4k ASMR-dcEiFOLXy0c.m4a\n",
      "[download] 100% of 27.85MiB in 00:0178MiB/s ETA 00:00known ETA\n",
      "[ffmpeg] Correcting container in \"Manhattan View - City Rain Open WIndow City Sounds in New York City _ 4k ASMR-dcEiFOLXy0c.m4a\"\n",
      "[ffmpeg] Destination: Manhattan View - City Rain Open WIndow City Sounds in New York City _ 4k ASMR-dcEiFOLXy0c.mp3\n",
      "Deleting original file Manhattan View - City Rain Open WIndow City Sounds in New York City _ 4k ASMR-dcEiFOLXy0c.m4a (pass -k to keep)\n"
     ]
    },
    {
     "name": "stderr",
     "output_type": "stream",
     "text": [
      "\r",
      " 18%|█▊        | 3/17 [14:35<1:19:19, 339.94s/it]"
     ]
    },
    {
     "name": "stdout",
     "output_type": "stream",
     "text": [
      "[youtube] LZbEIxhiJRM: Downloading webpage\n",
      "[download] Destination: City sound effect 1 - downtown-LZbEIxhiJRM.webm\n",
      "[download] 100% of 2.39MiB in 00:0081MiB/s ETA 00:003\n",
      "[ffmpeg] Destination: City sound effect 1 - downtown-LZbEIxhiJRM.mp3\n",
      "Deleting original file City sound effect 1 - downtown-LZbEIxhiJRM.webm (pass -k to keep)\n"
     ]
    },
    {
     "name": "stderr",
     "output_type": "stream",
     "text": [
      "\r",
      " 24%|██▎       | 4/17 [14:41<51:57, 239.80s/it]  "
     ]
    },
    {
     "name": "stdout",
     "output_type": "stream",
     "text": [
      "[youtube] IJQdnHT3MCA: Downloading webpage\n",
      "[download] Destination: Small Crowd Talking Ambience-IJQdnHT3MCA.m4a\n",
      "[download] 100% of 2.73MiB in 00:0049MiB/s ETA 00:003\n",
      "[ffmpeg] Correcting container in \"Small Crowd Talking Ambience-IJQdnHT3MCA.m4a\"\n",
      "[ffmpeg] Destination: Small Crowd Talking Ambience-IJQdnHT3MCA.mp3\n",
      "Deleting original file Small Crowd Talking Ambience-IJQdnHT3MCA.m4a (pass -k to keep)\n"
     ]
    },
    {
     "name": "stderr",
     "output_type": "stream",
     "text": [
      "\r",
      " 29%|██▉       | 5/17 [14:47<33:55, 169.64s/it]"
     ]
    },
    {
     "name": "stdout",
     "output_type": "stream",
     "text": [
      "[youtube] zRrkB2DeqBQ: Downloading webpage\n",
      "[download] Destination: Restaurant with Background Music Sound Effect HD-zRrkB2DeqBQ.webm\n",
      "[download] 100% of 8.78MiB in 00:0003MiB/s ETA 00:001\n",
      "[ffmpeg] Destination: Restaurant with Background Music Sound Effect HD-zRrkB2DeqBQ.mp3\n",
      "Deleting original file Restaurant with Background Music Sound Effect HD-zRrkB2DeqBQ.webm (pass -k to keep)\n"
     ]
    },
    {
     "name": "stderr",
     "output_type": "stream",
     "text": [
      "\r",
      " 35%|███▌      | 6/17 [15:05<22:46, 124.22s/it]"
     ]
    },
    {
     "name": "stdout",
     "output_type": "stream",
     "text": [
      "[youtube] 3sL0omwElxw: Downloading webpage\n",
      "[download] Rain & Thunderstorm Sounds _ Crackling Fireplace _ 3 Hours-3sL0omwElxw.webm has already been downloaded\n",
      "[download] 100% of 167.25MiB\n",
      "[ffmpeg] Destination: Rain & Thunderstorm Sounds _ Crackling Fireplace _ 3 Hours-3sL0omwElxw.mp3\n",
      "Deleting original file Rain & Thunderstorm Sounds _ Crackling Fireplace _ 3 Hours-3sL0omwElxw.webm (pass -k to keep)\n"
     ]
    },
    {
     "name": "stderr",
     "output_type": "stream",
     "text": [
      "\r",
      " 41%|████      | 7/17 [20:16<30:01, 180.17s/it]"
     ]
    },
    {
     "name": "stdout",
     "output_type": "stream",
     "text": [
      "[youtube] fuwGT88P-RU: Downloading webpage\n",
      "[download] Destination: Office Sounds Ambience - People Chatter, Typing, Air Conditioning, Computer Fans-fuwGT88P-RU.m4a\n",
      "[download] 100% of 55.56MiB in 00:1640MiB/s ETA 00:00known ETA\n",
      "[ffmpeg] Correcting container in \"Office Sounds Ambience - People Chatter, Typing, Air Conditioning, Computer Fans-fuwGT88P-RU.m4a\"\n",
      "[ffmpeg] Destination: Office Sounds Ambience - People Chatter, Typing, Air Conditioning, Computer Fans-fuwGT88P-RU.mp3\n",
      "Deleting original file Office Sounds Ambience - People Chatter, Typing, Air Conditioning, Computer Fans-fuwGT88P-RU.m4a (pass -k to keep)\n"
     ]
    },
    {
     "name": "stderr",
     "output_type": "stream",
     "text": [
      "\r",
      " 47%|████▋     | 8/17 [21:53<23:18, 155.36s/it]"
     ]
    },
    {
     "name": "stdout",
     "output_type": "stream",
     "text": [
      "[youtube] G2Hrh_4daro: Downloading webpage\n",
      "[youtube] G2Hrh_4daro: Downloading MPD manifest\n",
      "[dashsegments] Total fragments: 183\n",
      "[download] Destination: Shopping Mall Ambience Sound Effects 3D Noises-G2Hrh_4daro.webm\n",
      "[download] 100% of 25.68MiB in 00:10.56MiB/s ETA 00:00023\n",
      "[ffmpeg] Destination: Shopping Mall Ambience Sound Effects 3D Noises-G2Hrh_4daro.mp3\n",
      "Deleting original file Shopping Mall Ambience Sound Effects 3D Noises-G2Hrh_4daro.webm (pass -k to keep)\n"
     ]
    },
    {
     "name": "stderr",
     "output_type": "stream",
     "text": [
      "\r",
      " 53%|█████▎    | 9/17 [22:53<16:53, 126.69s/it]"
     ]
    },
    {
     "name": "stdout",
     "output_type": "stream",
     "text": [
      "[youtube] y6So7hlDTIo: Downloading webpage\n",
      "[download] Destination: OFFICE AMBIENT TYPING BACKGROUND-y6So7hlDTIo.m4a\n",
      "[download] 100% of 56.30MiB in 00:1429MiB/s ETA 00:001nown ETA\n",
      "[ffmpeg] Correcting container in \"OFFICE AMBIENT TYPING BACKGROUND-y6So7hlDTIo.m4a\"\n",
      "[ffmpeg] Destination: OFFICE AMBIENT TYPING BACKGROUND-y6So7hlDTIo.mp3\n",
      "Deleting original file OFFICE AMBIENT TYPING BACKGROUND-y6So7hlDTIo.m4a (pass -k to keep)\n"
     ]
    },
    {
     "name": "stderr",
     "output_type": "stream",
     "text": [
      "\r",
      " 59%|█████▉    | 10/17 [24:35<13:54, 119.15s/it]"
     ]
    },
    {
     "name": "stdout",
     "output_type": "stream",
     "text": [
      "[youtube] jpPcfNLYlfQ: Downloading webpage\n",
      "[youtube] jpPcfNLYlfQ: Downloading MPD manifest\n",
      "[dashsegments] Total fragments: 344\n",
      "[download] Destination: use me as background noise-jpPcfNLYlfQ.m4a\n",
      "[download] 100% of 52.71MiB in 00:26.71MiB/s ETA 00:00042:18\n",
      "[ffmpeg] Correcting container in \"use me as background noise-jpPcfNLYlfQ.m4a\"\n",
      "[ffmpeg] Destination: use me as background noise-jpPcfNLYlfQ.mp3\n",
      "Deleting original file use me as background noise-jpPcfNLYlfQ.m4a (pass -k to keep)\n"
     ]
    },
    {
     "name": "stderr",
     "output_type": "stream",
     "text": [
      "\r",
      " 65%|██████▍   | 11/17 [25:54<10:43, 107.23s/it]"
     ]
    },
    {
     "name": "stdout",
     "output_type": "stream",
     "text": [
      "[youtube] frEJTGfLOhM: Downloading webpage\n",
      "[download] Destination: Harbor Sounds _ Seaside Market Ambience _ 1 Hour-frEJTGfLOhM.m4a\n",
      "[download] 100% of 54.53MiB in 00:0573MiB/s ETA 00:00known ETA\n",
      "[ffmpeg] Correcting container in \"Harbor Sounds _ Seaside Market Ambience _ 1 Hour-frEJTGfLOhM.m4a\"\n",
      "[ffmpeg] Destination: Harbor Sounds _ Seaside Market Ambience _ 1 Hour-frEJTGfLOhM.mp3\n",
      "Deleting original file Harbor Sounds _ Seaside Market Ambience _ 1 Hour-frEJTGfLOhM.m4a (pass -k to keep)\n"
     ]
    },
    {
     "name": "stderr",
     "output_type": "stream",
     "text": [
      "\r",
      " 71%|███████   | 12/17 [27:20<08:24, 100.97s/it]"
     ]
    },
    {
     "name": "stdout",
     "output_type": "stream",
     "text": [
      "[youtube] AJZmie7z4_c: Downloading webpage\n",
      "[youtube] AJZmie7z4_c: Downloading MPD manifest\n",
      "[dashsegments] Total fragments: 38\n",
      "[download] Destination: Busy Restaurant Sound Effects-AJZmie7z4_c.m4a\n",
      "[download] 100% of 5.56MiB in 00:02.61MiB/s ETA 00:000:04\n",
      "[ffmpeg] Correcting container in \"Busy Restaurant Sound Effects-AJZmie7z4_c.m4a\"\n",
      "[ffmpeg] Destination: Busy Restaurant Sound Effects-AJZmie7z4_c.mp3\n",
      "Deleting original file Busy Restaurant Sound Effects-AJZmie7z4_c.m4a (pass -k to keep)\n"
     ]
    },
    {
     "name": "stderr",
     "output_type": "stream",
     "text": [
      "\r",
      " 76%|███████▋  | 13/17 [27:33<04:57, 74.44s/it] "
     ]
    },
    {
     "name": "stdout",
     "output_type": "stream",
     "text": [
      "[youtube] IKB3Qiglyro: Downloading webpage\n",
      "[download] Destination: Crowd Noise 1 Hour White Noise-IKB3Qiglyro.m4a\n",
      "[download] 100% of 54.58MiB in 00:0505MiB/s ETA 00:00known ETA\n",
      "[ffmpeg] Correcting container in \"Crowd Noise 1 Hour White Noise-IKB3Qiglyro.m4a\"\n",
      "[ffmpeg] Destination: Crowd Noise 1 Hour White Noise-IKB3Qiglyro.mp3\n",
      "Deleting original file Crowd Noise 1 Hour White Noise-IKB3Qiglyro.m4a (pass -k to keep)\n"
     ]
    },
    {
     "name": "stderr",
     "output_type": "stream",
     "text": [
      "\r",
      " 82%|████████▏ | 14/17 [29:03<03:57, 79.07s/it]"
     ]
    },
    {
     "name": "stdout",
     "output_type": "stream",
     "text": [
      "[youtube] xNN7iTA57jM: Downloading webpage\n",
      "[download] Destination: Forest Sounds _ Woodland Ambience, Bird Song, Nearby Village _ 3 Hours-xNN7iTA57jM.m4a\n",
      "[download] 100% of 166.69MiB in 00:1986MiB/s ETA 00:00known ETA\n",
      "[ffmpeg] Correcting container in \"Forest Sounds _ Woodland Ambience, Bird Song, Nearby Village _ 3 Hours-xNN7iTA57jM.m4a\"\n",
      "[ffmpeg] Destination: Forest Sounds _ Woodland Ambience, Bird Song, Nearby Village _ 3 Hours-xNN7iTA57jM.mp3\n",
      "Deleting original file Forest Sounds _ Woodland Ambience, Bird Song, Nearby Village _ 3 Hours-xNN7iTA57jM.m4a (pass -k to keep)\n"
     ]
    },
    {
     "name": "stderr",
     "output_type": "stream",
     "text": [
      "\r",
      " 88%|████████▊ | 15/17 [33:28<04:29, 134.98s/it]"
     ]
    },
    {
     "name": "stdout",
     "output_type": "stream",
     "text": [
      "[youtube] YsiaBSHGenE: Downloading webpage\n",
      "[download] Destination: People Talking in Background Ambience-YsiaBSHGenE.m4a\n",
      "[download] 100% of 2.60MiB in 00:0053MiB/s ETA 00:003\n",
      "[ffmpeg] Correcting container in \"People Talking in Background Ambience-YsiaBSHGenE.m4a\"\n",
      "[ffmpeg] Destination: People Talking in Background Ambience-YsiaBSHGenE.mp3\n",
      "Deleting original file People Talking in Background Ambience-YsiaBSHGenE.m4a (pass -k to keep)\n"
     ]
    },
    {
     "name": "stderr",
     "output_type": "stream",
     "text": [
      "\r",
      " 94%|█████████▍| 16/17 [33:33<01:35, 95.92s/it] "
     ]
    },
    {
     "name": "stdout",
     "output_type": "stream",
     "text": [
      "[youtube] 4vIQON2fDWM: Downloading webpage\n",
      "[download] Resuming download at byte 8387584\n",
      "[download] Destination: Library Sounds _ Study Ambience _ 2 Hours-4vIQON2fDWM.webm\n",
      "[download] 100% of 101.94MiB in 00:0596MiB/s ETA 00:00known ETA\n",
      "[ffmpeg] Destination: Library Sounds _ Study Ambience _ 2 Hours-4vIQON2fDWM.mp3\n",
      "Deleting original file Library Sounds _ Study Ambience _ 2 Hours-4vIQON2fDWM.webm (pass -k to keep)\n"
     ]
    },
    {
     "name": "stderr",
     "output_type": "stream",
     "text": [
      "100%|██████████| 17/17 [36:47<00:00, 129.86s/it]\n"
     ]
    }
   ],
   "source": [
    "loop((videos,))"
   ]
  },
  {
   "cell_type": "code",
   "execution_count": 6,
   "metadata": {},
   "outputs": [],
   "source": [
    "# !rm *.mp3"
   ]
  },
  {
   "cell_type": "code",
   "execution_count": 8,
   "metadata": {},
   "outputs": [
    {
     "name": "stderr",
     "output_type": "stream",
     "text": [
      "100%|██████████| 17/17 [03:59<00:00, 14.06s/it]\n"
     ]
    }
   ],
   "source": [
    "from glob import glob\n",
    "from tqdm import tqdm\n",
    "from pydub import AudioSegment\n",
    "\n",
    "mp3s = glob('*.mp3')\n",
    "mp3s = [AudioSegment.from_mp3(f).set_frame_rate(16000).set_channels(1) for f in tqdm(mp3s)]"
   ]
  },
  {
   "cell_type": "code",
   "execution_count": 9,
   "metadata": {},
   "outputs": [],
   "source": [
    "import numpy as np\n",
    "\n",
    "arr = [np.array(f.get_array_of_samples()) for f in mp3s]"
   ]
  },
  {
   "cell_type": "code",
   "execution_count": 11,
   "metadata": {},
   "outputs": [],
   "source": [
    "import pickle\n",
    "\n",
    "with open('ambient.pkl', 'wb') as fopen:\n",
    "    pickle.dump(arr, fopen)"
   ]
  },
  {
   "cell_type": "code",
   "execution_count": 1,
   "metadata": {},
   "outputs": [],
   "source": [
    "import pickle\n",
    "\n",
    "with open('ambient.pkl', 'rb') as fopen:\n",
    "    ambient = pickle.load(fopen)"
   ]
  },
  {
   "cell_type": "code",
   "execution_count": 6,
   "metadata": {},
   "outputs": [],
   "source": [
    "import numpy as np\n",
    "\n",
    "def int_to_float(array, type = np.float32):\n",
    "    \"\"\"\n",
    "    Change np.array int16 into np.float32\n",
    "\n",
    "    Parameters\n",
    "    ----------\n",
    "    array: np.array\n",
    "    type: np.float32\n",
    "\n",
    "    Returns\n",
    "    -------\n",
    "    result : np.array\n",
    "    \"\"\"\n",
    "\n",
    "    if array.dtype == type:\n",
    "        return array\n",
    "\n",
    "    if array.dtype not in [np.float16, np.float32, np.float64]:\n",
    "        array = array.astype(np.float32) / np.max(np.abs(array))\n",
    "\n",
    "    return array"
   ]
  },
  {
   "cell_type": "code",
   "execution_count": 10,
   "metadata": {},
   "outputs": [],
   "source": [
    "ambients = [int_to_float(a) for a in ambient]"
   ]
  },
  {
   "cell_type": "code",
   "execution_count": 11,
   "metadata": {},
   "outputs": [],
   "source": [
    "import pickle\n",
    "\n",
    "with open('ambients.pkl', 'wb') as fopen:\n",
    "    pickle.dump(ambients, fopen)"
   ]
  },
  {
   "cell_type": "code",
   "execution_count": null,
   "metadata": {},
   "outputs": [],
   "source": []
  }
 ],
 "metadata": {
  "kernelspec": {
   "display_name": "Python 3",
   "language": "python",
   "name": "python3"
  },
  "language_info": {
   "codemirror_mode": {
    "name": "ipython",
    "version": 3
   },
   "file_extension": ".py",
   "mimetype": "text/x-python",
   "name": "python",
   "nbconvert_exporter": "python",
   "pygments_lexer": "ipython3",
   "version": "3.6.8"
  }
 },
 "nbformat": 4,
 "nbformat_minor": 2
}

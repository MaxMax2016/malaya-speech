{
 "cells": [
  {
   "cell_type": "code",
   "execution_count": 1,
   "metadata": {},
   "outputs": [],
   "source": [
    "from glob import glob"
   ]
  },
  {
   "cell_type": "code",
   "execution_count": 3,
   "metadata": {},
   "outputs": [
    {
     "data": {
      "text/plain": [
       "['/home/husein/ssd3/siti-nurhaliza/40 Lagu Hits Siti Nurhaliza ｜｜ Wajah Kekasih, Kau Kekasihku, Seribu Kemanisan [BVUFA23UO8U].mp3',\n",
       " '/home/husein/ssd3/siti-nurhaliza/Lagu Pop Terbaik Siti Nurhaliza [Cu4rLpUz_h8].mp3',\n",
       " '/home/husein/ssd3/siti-nurhaliza/Lagu Pilihan Terbaik Siti Nurhaliza ｜｜ Kesilapanku Keegoanmu , Cindai , Purnama Merindu [isiXP5wsmxw].mp3']"
      ]
     },
     "execution_count": 3,
     "metadata": {},
     "output_type": "execute_result"
    }
   ],
   "source": [
    "files = glob('/home/husein/ssd3/siti-nurhaliza/*.mp3')\n",
    "files"
   ]
  },
  {
   "cell_type": "code",
   "execution_count": 4,
   "metadata": {},
   "outputs": [],
   "source": [
    "!mkdir siti-nurhaliza"
   ]
  },
  {
   "cell_type": "code",
   "execution_count": 6,
   "metadata": {},
   "outputs": [],
   "source": [
    "import malaya_speech\n",
    "from malaya_speech import Pipeline\n",
    "from malaya_speech.utils.astype import float_to_int"
   ]
  },
  {
   "cell_type": "code",
   "execution_count": 7,
   "metadata": {
    "scrolled": false
   },
   "outputs": [
    {
     "data": {
      "image/png": "[encoded data removed]",
      "text/plain": [
       "<IPython.core.display.Image object>"
      ]
     },
     "execution_count": 7,
     "metadata": {},
     "output_type": "execute_result"
    }
   ],
   "source": [
    "vad_model = malaya_speech.vad.webrtc()\n",
    "p_vad = Pipeline()\n",
    "pipeline = (\n",
    "    p_vad.map(lambda x: malaya_speech.resample(x, old_samplerate = 44100, new_samplerate = 16000))\n",
    "    .map(lambda x: float_to_int(x, divide_max_abs=False))\n",
    "    .map(vad_model)\n",
    ")\n",
    "p_vad.visualize()"
   ]
  },
  {
   "cell_type": "code",
   "execution_count": 20,
   "metadata": {},
   "outputs": [],
   "source": [
    "from unidecode import unidecode\n",
    "import os\n",
    "import torch\n",
    "import torchaudio"
   ]
  },
  {
   "cell_type": "code",
   "execution_count": 71,
   "metadata": {},
   "outputs": [],
   "source": [
    "parent_dir = 'siti-nurhaliza'\n",
    "!rm -rf {parent_dir}\n",
    "!mkdir {parent_dir}"
   ]
  },
  {
   "cell_type": "code",
   "execution_count": 72,
   "metadata": {},
   "outputs": [],
   "source": [
    "parent_dir_done = 'siti-nurhaliza-done'\n",
    "!rm -rf {parent_dir_done}\n",
    "!mkdir {parent_dir_done}"
   ]
  },
  {
   "cell_type": "code",
   "execution_count": 73,
   "metadata": {},
   "outputs": [],
   "source": [
    "from scipy.io.wavfile import write"
   ]
  },
  {
   "cell_type": "code",
   "execution_count": 74,
   "metadata": {},
   "outputs": [],
   "source": [
    "for f in files:\n",
    "    new_f = unidecode(os.path.split(f)[1].replace('.mp3', '').replace(' ', '_'))\n",
    "    f_done = os.path.join(parent_dir_done, new_f)\n",
    "    if os.path.exists(f_done):\n",
    "        continue\n",
    "    samples = malaya_speech.streaming.torchaudio.stream(f, mode_utterence = False,\n",
    "                                                            vad_model = p_vad,\n",
    "                                                            segment_length = 882,\n",
    "                                                            realtime_print = False,\n",
    "                                                            sample_rate = 44100,\n",
    "                                                            min_length = 10.0,\n",
    "                                                            max_length = 10.0\n",
    "                                                           )\n",
    "    \n",
    "    if len(samples):\n",
    "        parent_new_f = os.path.join(parent_dir, new_f)\n",
    "        os.makedirs(parent_new_f, exist_ok=True)\n",
    "\n",
    "        for i in range(len(samples)):\n",
    "            audio_path = os.path.join(parent_new_f, f'{i}.wav')\n",
    "            write(audio_path, 44100, samples[i]['wav_data'])\n",
    "    \n",
    "    with open(f_done, 'w') as fopen:\n",
    "        fopen.write('done')"
   ]
  },
  {
   "cell_type": "code",
   "execution_count": 75,
   "metadata": {},
   "outputs": [
    {
     "data": {
      "text/plain": [
       "3"
      ]
     },
     "execution_count": 75,
     "metadata": {},
     "output_type": "execute_result"
    }
   ],
   "source": [
    "songs = glob('siti-nurhaliza/*/')\n",
    "len(songs)"
   ]
  },
  {
   "cell_type": "code",
   "execution_count": 40,
   "metadata": {},
   "outputs": [],
   "source": [
    "# import IPython.display as ipd\n",
    "# ipd.Audio(songs[0])"
   ]
  },
  {
   "cell_type": "code",
   "execution_count": 41,
   "metadata": {},
   "outputs": [],
   "source": [
    "# ipd.Audio(samples[1]['wav_data'], rate = 44100)"
   ]
  }
 ],
 "metadata": {
  "kernelspec": {
   "display_name": "Python 3 (ipykernel)",
   "language": "python",
   "name": "python3"
  },
  "language_info": {
   "codemirror_mode": {
    "name": "ipython",
    "version": 3
   },
   "file_extension": ".py",
   "mimetype": "text/x-python",
   "name": "python",
   "nbconvert_exporter": "python",
   "pygments_lexer": "ipython3",
   "version": "3.8.10"
  }
 },
 "nbformat": 4,
 "nbformat_minor": 4
}

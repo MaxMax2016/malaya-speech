{
 "cells": [
  {
   "cell_type": "code",
   "execution_count": 1,
   "metadata": {},
   "outputs": [],
   "source": [
    "from bs4 import BeautifulSoup"
   ]
  },
  {
   "cell_type": "code",
   "execution_count": 2,
   "metadata": {},
   "outputs": [],
   "source": [
    "with open('The Thirsty Sisters - YouTube.htm') as fopen:\n",
    "    htm = fopen.read()\n",
    "    \n",
    "bs = BeautifulSoup(htm)"
   ]
  },
  {
   "cell_type": "code",
   "execution_count": 3,
   "metadata": {},
   "outputs": [],
   "source": [
    "rejected = ['1539', '1538', '1536', '1520', '1508', '1498', '1479', '1476', '1456',\n",
    "           '1454', '1451', 'in review', 'best of the', 'toons']"
   ]
  },
  {
   "cell_type": "code",
   "execution_count": 4,
   "metadata": {},
   "outputs": [
    {
     "data": {
      "text/plain": [
       "27"
      ]
     },
     "execution_count": 4,
     "metadata": {},
     "output_type": "execute_result"
    }
   ],
   "source": [
    "videos = bs.find_all('a', {'id': 'video-title'})\n",
    "len(videos)"
   ]
  },
  {
   "cell_type": "code",
   "execution_count": 5,
   "metadata": {},
   "outputs": [
    {
     "data": {
      "text/plain": [
       "[<a aria-label=\"Divorced Woman Can't Find A Boyfriend? We React To Men’s Hate | The Thirsty Sisters #27 by The Thirsty Sisters 6 days ago 43 minutes 34,441 views\" class=\"yt-simple-endpoint style-scope ytd-grid-video-renderer\" href=\"https://www.youtube.com/watch?v=ph3Eu8Qwhos\" id=\"video-title\" title=\"Divorced Woman Can't Find A Boyfriend? We React To Men’s Hate | The Thirsty Sisters #27\">Divorced Woman Can't Find A Boyfriend? We React To Men’s Hate | The Thirsty Sisters #27</a>,\n",
       " <a aria-label=\"My Ex-Husband And His New Puppy's Mummy?? | The Thirsty Sisters #26 by The Thirsty Sisters 1 week ago 37 minutes 230,553 views\" class=\"yt-simple-endpoint style-scope ytd-grid-video-renderer\" href=\"https://www.youtube.com/watch?v=RBShCX3-BtQ&amp;t=1099s\" id=\"video-title\" title=\"My Ex-Husband And His New Puppy's Mummy?? | The Thirsty Sisters #26\">My Ex-Husband And His New Puppy's Mummy?? | The Thirsty Sisters #26</a>,\n",
       " <a aria-label=\"We Try Online Dating And Fall In Love With Strangers? | The Thirsty Sisters #25 by The Thirsty Sisters 2 weeks ago 41 minutes 43,150 views\" class=\"yt-simple-endpoint style-scope ytd-grid-video-renderer\" href=\"https://www.youtube.com/watch?v=WnipnOcDkx8&amp;t=1s\" id=\"video-title\" title=\"We Try Online Dating And Fall In Love With Strangers? | The Thirsty Sisters #25\">We Try Online Dating And Fall In Love With Strangers? | The Thirsty Sisters #25</a>,\n",
       " <a aria-label=\"We Are Finally Dating Again! We Found New Men | The Thirsty Sisters #24 by The Thirsty Sisters 3 weeks ago 37 minutes 95,470 views\" class=\"yt-simple-endpoint style-scope ytd-grid-video-renderer\" href=\"https://www.youtube.com/watch?v=fzuKoKTxfEs\" id=\"video-title\" title=\"We Are Finally Dating Again! We Found New Men | The Thirsty Sisters #24\">We Are Finally Dating Again! We Found New Men | The Thirsty Sisters #24</a>,\n",
       " <a aria-label=\"Ghost Stories From Our Childhood?! | The Thirsty Sisters #23 by The Thirsty Sisters 2 months ago 40 minutes 93,440 views\" class=\"yt-simple-endpoint style-scope ytd-grid-video-renderer\" href=\"https://www.youtube.com/watch?v=Hioy9UvH4yE\" id=\"video-title\" title=\"Ghost Stories From Our Childhood?! | The Thirsty Sisters #23\">Ghost Stories From Our Childhood?! | The Thirsty Sisters #23</a>,\n",
       " <a aria-label=\"Relatives Ruin My Wedding?! | The Thirsty Sisters #22 by The Thirsty Sisters 2 months ago 44 minutes 30,605 views\" class=\"yt-simple-endpoint style-scope ytd-grid-video-renderer\" href=\"https://www.youtube.com/watch?v=98CiTQQtqak\" id=\"video-title\" title=\"Relatives Ruin My Wedding?! | The Thirsty Sisters #22\">Relatives Ruin My Wedding?! | The Thirsty Sisters #22</a>,\n",
       " <a aria-label=\"Do You Know Your Attachment Style?! | The Thirsty Sisters #21 by The Thirsty Sisters 2 months ago 39 minutes 23,917 views\" class=\"yt-simple-endpoint style-scope ytd-grid-video-renderer\" href=\"https://www.youtube.com/watch?v=HKnXUGo_H2U\" id=\"video-title\" title=\"Do You Know Your Attachment Style?! | The Thirsty Sisters #21\">Do You Know Your Attachment Style?! | The Thirsty Sisters #21</a>,\n",
       " <a aria-label=\"Why We Love Our Malay Community?! | The Thirsty Sisters #20 by The Thirsty Sisters 2 months ago 33 minutes 19,092 views\" class=\"yt-simple-endpoint style-scope ytd-grid-video-renderer\" href=\"https://www.youtube.com/watch?v=F15a-MH_Hzg&amp;t=1142s\" id=\"video-title\" title=\"Why We Love Our Malay Community?! | The Thirsty Sisters #20\">Why We Love Our Malay Community?! | The Thirsty Sisters #20</a>,\n",
       " <a aria-label=\"I Dated A Guy Twice My Age? Our First Date Don'ts | The Thirsty Sisters #19 by The Thirsty Sisters 2 months ago 37 minutes 48,201 views\" class=\"yt-simple-endpoint style-scope ytd-grid-video-renderer\" href=\"https://www.youtube.com/watch?v=3-DoQSmz5aI\" id=\"video-title\" title=\"I Dated A Guy Twice My Age? Our First Date Don'ts | The Thirsty Sisters #19\">I Dated A Guy Twice My Age? Our First Date Don'ts | The Thirsty Sisters #19</a>,\n",
       " <a aria-label=\"My Future In-Laws Threw Me Out?! | The Thirsty Sisters #18 by The Thirsty Sisters 3 months ago 43 minutes 37,416 views\" class=\"yt-simple-endpoint style-scope ytd-grid-video-renderer\" href=\"https://www.youtube.com/watch?v=ViJXVHWTRz8&amp;t=1649s\" id=\"video-title\" title=\"My Future In-Laws Threw Me Out?! | The Thirsty Sisters #18\">My Future In-Laws Threw Me Out?! | The Thirsty Sisters #18</a>,\n",
       " <a aria-label=\"Most Accurate Personality Test?! | The Thirsty Sisters #17 by The Thirsty Sisters 3 months ago 41 minutes 43,488 views\" class=\"yt-simple-endpoint style-scope ytd-grid-video-renderer\" href=\"https://www.youtube.com/watch?v=XLV720mng6w\" id=\"video-title\" title=\"Most Accurate Personality Test?! | The Thirsty Sisters #17\">Most Accurate Personality Test?! | The Thirsty Sisters #17</a>,\n",
       " <a aria-label=\"Best Way to Get Women to Fall For You Every Month! | The Thirsty Sisters #16 by The Thirsty Sisters 3 months ago 45 minutes 30,996 views\" class=\"yt-simple-endpoint style-scope ytd-grid-video-renderer\" href=\"https://www.youtube.com/watch?v=gvPiF-zXur4\" id=\"video-title\" title=\"Best Way to Get Women to Fall For You Every Month! | The Thirsty Sisters #16\">Best Way to Get Women to Fall For You Every Month! | The Thirsty Sisters #16</a>,\n",
       " <a aria-label=\"How To Get Away With A Sex Crime! | The Thirsty Sisters #15 by The Thirsty Sisters 3 months ago 51 minutes 24,144 views\" class=\"yt-simple-endpoint style-scope ytd-grid-video-renderer\" href=\"https://www.youtube.com/watch?v=mIc0MmSoaiI\" id=\"video-title\" title=\"How To Get Away With A Sex Crime! | The Thirsty Sisters #15\">How To Get Away With A Sex Crime! | The Thirsty Sisters #15</a>,\n",
       " <a aria-label=\"Sexual Predators Running Free In Singapore?! | The Thirsty Sisters #14 by The Thirsty Sisters 3 months ago 47 minutes 23,257 views\" class=\"yt-simple-endpoint style-scope ytd-grid-video-renderer\" href=\"https://www.youtube.com/watch?v=oW3yttdKVm0\" id=\"video-title\" title=\"Sexual Predators Running Free In Singapore?! | The Thirsty Sisters #14\">Sexual Predators Running Free In Singapore?! | The Thirsty Sisters #14</a>,\n",
       " <a aria-label=\"Are We Still Sexualising Women in 2020? | Thirsty Sisters #13 by The Thirsty Sisters 3 months ago 51 minutes 38,512 views\" class=\"yt-simple-endpoint style-scope ytd-grid-video-renderer\" href=\"https://www.youtube.com/watch?v=zHC1MPeSP34\" id=\"video-title\" title=\"Are We Still Sexualising Women in 2020? | Thirsty Sisters #13\">Are We Still Sexualising Women in 2020? | Thirsty Sisters #13</a>,\n",
       " <a aria-label=\"How To Date Alpha Women? | The Thirsty Sisters #12 by The Thirsty Sisters 4 months ago 43 minutes 54,590 views\" class=\"yt-simple-endpoint style-scope ytd-grid-video-renderer\" href=\"https://www.youtube.com/watch?v=6i8PG2cTAUU\" id=\"video-title\" title=\"How To Date Alpha Women? | The Thirsty Sisters #12\">How To Date Alpha Women? | The Thirsty Sisters #12</a>,\n",
       " <a aria-label=\"Being A Single Divorced Woman At 32 | The Thirsty Sisters #11 by The Thirsty Sisters 4 months ago 49 minutes 206,530 views\" class=\"yt-simple-endpoint style-scope ytd-grid-video-renderer\" href=\"https://www.youtube.com/watch?v=8DMyfcjyrZQ&amp;t=756s\" id=\"video-title\" title=\"Being A Single Divorced Woman At 32 | The Thirsty Sisters #11\">Being A Single Divorced Woman At 32 | The Thirsty Sisters #11</a>,\n",
       " <a aria-label=\"The Truth Behind Our Relationship?! Are We Really Sisters? | The Thirsty Sisters #10 by The Thirsty Sisters 4 months ago 41 minutes 104,658 views\" class=\"yt-simple-endpoint style-scope ytd-grid-video-renderer\" href=\"https://www.youtube.com/watch?v=rkwCky94IhQ\" id=\"video-title\" title=\"The Truth Behind Our Relationship?! Are We Really Sisters? | The Thirsty Sisters #10\">The Truth Behind Our Relationship?! Are We Really Sisters? | The Thirsty Sisters #10</a>,\n",
       " <a aria-label=\"My First Boyfriend Cheated On Me With Several Girls | The Thirsty Sisters #9 by The Thirsty Sisters 4 months ago 44 minutes 75,964 views\" class=\"yt-simple-endpoint style-scope ytd-grid-video-renderer\" href=\"https://www.youtube.com/watch?v=Y6RYZpbANJI&amp;t=1451s\" id=\"video-title\" title=\"My First Boyfriend Cheated On Me With Several Girls | The Thirsty Sisters #9\">My First Boyfriend Cheated On Me With Several Girls | The Thirsty Sisters #9</a>,\n",
       " <a aria-label=\"Crazy Jobs We Had Before Youtube! | The Thirsty Sisters #8 by The Thirsty Sisters 4 months ago 42 minutes 57,214 views\" class=\"yt-simple-endpoint style-scope ytd-grid-video-renderer\" href=\"https://www.youtube.com/watch?v=oJPtCCTzs_o\" id=\"video-title\" title=\"Crazy Jobs We Had Before Youtube! | The Thirsty Sisters #8\">Crazy Jobs We Had Before Youtube! | The Thirsty Sisters #8</a>,\n",
       " <a aria-label=\"How We Deal With Hate?! | The Thirsty Sisters #7 by The Thirsty Sisters 4 months ago 41 minutes 38,448 views\" class=\"yt-simple-endpoint style-scope ytd-grid-video-renderer\" href=\"https://www.youtube.com/watch?v=O_rK97AUOIA\" id=\"video-title\" title=\"How We Deal With Hate?! | The Thirsty Sisters #7\">How We Deal With Hate?! | The Thirsty Sisters #7</a>,\n",
       " <a aria-label=\"Burning Hot Fever?! 4 Doctors Tried To Save Me In The Hospital! | The Thirsty Sisters #6 by The Thirsty Sisters 5 months ago 39 minutes 73,878 views\" class=\"yt-simple-endpoint style-scope ytd-grid-video-renderer\" href=\"https://www.youtube.com/watch?v=Jw7B8efygWI\" id=\"video-title\" title=\"Burning Hot Fever?! 4 Doctors Tried To Save Me In The Hospital! | The Thirsty Sisters #6\">Burning Hot Fever?! 4 Doctors Tried To Save Me In The Hospital! | The Thirsty Sisters #6</a>,\n",
       " <a aria-label=\"Exposed! Our Favourite Night Activity We Miss The Most?! | The Thirsty Sisters #5 by The Thirsty Sisters 5 months ago 40 minutes 30,721 views\" class=\"yt-simple-endpoint style-scope ytd-grid-video-renderer\" href=\"https://www.youtube.com/watch?v=TxeBIVuXRHM\" id=\"video-title\" title=\"Exposed! Our Favourite Night Activity We Miss The Most?! | The Thirsty Sisters #5\">Exposed! Our Favourite Night Activity We Miss The Most?! | The Thirsty Sisters #5</a>,\n",
       " <a aria-label=\"Perverts Lusting Over Sexy Supermarket Girls | The Thirsty Sisters #4 by The Thirsty Sisters 5 months ago 36 minutes 42,442 views\" class=\"yt-simple-endpoint style-scope ytd-grid-video-renderer\" href=\"https://www.youtube.com/watch?v=EYBSXaK3cjI\" id=\"video-title\" title=\"Perverts Lusting Over Sexy Supermarket Girls | The Thirsty Sisters #4\">Perverts Lusting Over Sexy Supermarket Girls | The Thirsty Sisters #4</a>,\n",
       " <a aria-label=\"Bend Over?! Or Pay Sit Forward?! We Create Our Own Movements! | The Thirsty Sisters #3 by The Thirsty Sisters 5 months ago 41 minutes 22,247 views\" class=\"yt-simple-endpoint style-scope ytd-grid-video-renderer\" href=\"https://www.youtube.com/watch?v=ekKcn3QCU5E\" id=\"video-title\" title=\"Bend Over?! Or Pay Sit Forward?! We Create Our Own Movements! | The Thirsty Sisters #3\">Bend Over?! Or Pay Sit Forward?! We Create Our Own Movements! | The Thirsty Sisters #3</a>,\n",
       " <a aria-label=\"Desperate times! CB Extended Till June?! Our CB Cannot Tahan | The Thirsty Sisters #2 by The Thirsty Sisters 5 months ago 40 minutes 31,938 views\" class=\"yt-simple-endpoint style-scope ytd-grid-video-renderer\" href=\"https://www.youtube.com/watch?v=OZMsLGKDv14\" id=\"video-title\" title=\"Desperate times! CB Extended Till June?! Our CB Cannot Tahan | The Thirsty Sisters #2\">Desperate times! CB Extended Till June?! Our CB Cannot Tahan | The Thirsty Sisters #2</a>,\n",
       " <a aria-label=\"Wanna Die? We Call Out CB Rule Breakers And Idiots | The Thirsty Sisters #1 by The Thirsty Sisters 5 months ago 37 minutes 39,695 views\" class=\"yt-simple-endpoint style-scope ytd-grid-video-renderer\" href=\"https://www.youtube.com/watch?v=jJN0vH42wcs\" id=\"video-title\" title=\"Wanna Die? We Call Out CB Rule Breakers And Idiots | The Thirsty Sisters #1\">Wanna Die? We Call Out CB Rule Breakers And Idiots | The Thirsty Sisters #1</a>]"
      ]
     },
     "execution_count": 5,
     "metadata": {},
     "output_type": "execute_result"
    }
   ],
   "source": [
    "videos"
   ]
  },
  {
   "cell_type": "code",
   "execution_count": 8,
   "metadata": {},
   "outputs": [
    {
     "data": {
      "text/plain": [
       "27"
      ]
     },
     "execution_count": 8,
     "metadata": {},
     "output_type": "execute_result"
    }
   ],
   "source": [
    "filtered_videos = []\n",
    "for video in videos:\n",
    "    label = video.get('aria-label').lower()\n",
    "    if not any([r in label for r in rejected]) and 'the thirsty sisters' in label:\n",
    "        filtered_videos.append(video.get('href'))\n",
    "        \n",
    "len(filtered_videos)"
   ]
  },
  {
   "cell_type": "code",
   "execution_count": 9,
   "metadata": {},
   "outputs": [],
   "source": [
    "with open('the-thirsty-sisters-podcast.txt', 'w') as fopen:\n",
    "    fopen.write('\\n'.join(filtered_videos))"
   ]
  }
 ],
 "metadata": {
  "kernelspec": {
   "display_name": "Python 3",
   "language": "python",
   "name": "python3"
  },
  "language_info": {
   "codemirror_mode": {
    "name": "ipython",
    "version": 3
   },
   "file_extension": ".py",
   "mimetype": "text/x-python",
   "name": "python",
   "nbconvert_exporter": "python",
   "pygments_lexer": "ipython3",
   "version": "3.7.7"
  }
 },
 "nbformat": 4,
 "nbformat_minor": 4
}

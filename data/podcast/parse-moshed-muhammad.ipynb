{
 "cells": [
  {
   "cell_type": "code",
   "execution_count": 1,
   "metadata": {},
   "outputs": [],
   "source": [
    "from bs4 import BeautifulSoup"
   ]
  },
  {
   "cell_type": "code",
   "execution_count": 2,
   "metadata": {},
   "outputs": [],
   "source": [
    "with open('Moshed Mohamad - YouTube.htm') as fopen:\n",
    "    htm = fopen.read()\n",
    "    \n",
    "bs = BeautifulSoup(htm)"
   ]
  },
  {
   "cell_type": "code",
   "execution_count": 3,
   "metadata": {},
   "outputs": [
    {
     "data": {
      "text/plain": [
       "74"
      ]
     },
     "execution_count": 3,
     "metadata": {},
     "output_type": "execute_result"
    }
   ],
   "source": [
    "videos = bs.find_all('a', {'id': 'video-title'})\n",
    "len(videos)"
   ]
  },
  {
   "cell_type": "code",
   "execution_count": 9,
   "metadata": {},
   "outputs": [
    {
     "name": "stdout",
     "output_type": "stream",
     "text": [
      "<a aria-label=\"Moshed Bagi Hadiah Laptop RM7099 - Asus Rog Scar 3 Laptop Gaming by Moshed Mohamad 1 year ago 14 minutes, 44 seconds 57,989 views\" class=\"yt-simple-endpoint style-scope ytd-grid-video-renderer\" href=\"https://www.youtube.com/watch?v=z8AYRrVppkA\" id=\"video-title\" title=\"Moshed Bagi Hadiah Laptop RM7099 - Asus Rog Scar 3 Laptop Gaming\">Moshed Bagi Hadiah Laptop RM7099 - Asus Rog Scar 3 Laptop Gaming</a>\n",
      "<a aria-label=\"Support Kedai Alat Memancing Hampir Gulung Tikar, Saya Buat Joran RM1000 Untuk Bagi Giveaway by Moshed Mohamad 1 year ago 27 minutes 358,018 views\" class=\"yt-simple-endpoint style-scope ytd-grid-video-renderer\" href=\"https://www.youtube.com/watch?v=diUNczBYsbE\" id=\"video-title\" title=\"Support Kedai Alat Memancing Hampir Gulung Tikar, Saya Buat Joran RM1000 Untuk Bagi Giveaway\">Support Kedai Alat Memancing Hampir Gulung Tikar, Saya Buat Joran RM1000 Untuk Bagi Giveaway</a>\n",
      "<a aria-label=\"Moshed Buat Bisnes Apa? | Moshed Vlog by Moshed Mohamad 1 year ago 16 minutes 45,175 views\" class=\"yt-simple-endpoint style-scope ytd-grid-video-renderer\" href=\"https://www.youtube.com/watch?v=bbG4lBqJnZQ\" id=\"video-title\" title=\"Moshed Buat Bisnes Apa? | Moshed Vlog\">Moshed Buat Bisnes Apa? | Moshed Vlog</a>\n",
      "<a aria-label=\"Moshed Beli MUSTANG | Moshed Vlog by Moshed Mohamad 1 year ago 14 minutes, 39 seconds 316,122 views\" class=\"yt-simple-endpoint style-scope ytd-grid-video-renderer\" href=\"https://www.youtube.com/watch?v=YXd-XGGeTko\" id=\"video-title\" title=\"Moshed Beli MUSTANG | Moshed Vlog\">Moshed Beli MUSTANG | Moshed Vlog</a>\n",
      "<a aria-label=\"Moshed Potong Rambut RM1000 | Moshed Vlog by Moshed Mohamad 1 year ago 20 minutes 413,835 views\" class=\"yt-simple-endpoint style-scope ytd-grid-video-renderer\" href=\"https://www.youtube.com/watch?v=pa_ruFVkuWw\" id=\"video-title\" title=\"Moshed Potong Rambut RM1000 | Moshed Vlog\">Moshed Potong Rambut RM1000 | Moshed Vlog</a>\n",
      "<a aria-label=\"Berapa Banyak Duit Yang Saya Perlukan Untuk Mula Trade Forex | Moshed Vlog by Moshed Mohamad 1 year ago 12 minutes, 54 seconds 106,821 views\" class=\"yt-simple-endpoint style-scope ytd-grid-video-renderer\" href=\"https://www.youtube.com/watch?v=G7Pqy0N7kZ0\" id=\"video-title\" title=\"Berapa Banyak Duit Yang Saya Perlukan Untuk Mula Trade Forex | Moshed Vlog\">Berapa Banyak Duit Yang Saya Perlukan Untuk Mula Trade Forex | Moshed Vlog</a>\n",
      "<a aria-label=\"BORONG SEMUA!! PAKCIK JUAL NASI LEMAK SARA 6 ORANG ANAK by Moshed Mohamad 1 year ago 12 minutes, 17 seconds 166,163 views\" class=\"yt-simple-endpoint style-scope ytd-grid-video-renderer\" href=\"https://www.youtube.com/watch?v=-edo1xX1c7Y\" id=\"video-title\" title=\"BORONG SEMUA!! PAKCIK JUAL NASI LEMAK SARA 6 ORANG ANAK\">BORONG SEMUA!! PAKCIK JUAL NASI LEMAK SARA 6 ORANG ANAK</a>\n",
      "<a aria-label=\"Forex Trading Disahkan di Malaysia? Sedutan Diusulkan di Parlimen Oleh Dato Sri Shahidan Kassim by Moshed Mohamad 1 year ago 16 minutes 48,452 views\" class=\"yt-simple-endpoint style-scope ytd-grid-video-renderer\" href=\"https://www.youtube.com/watch?v=7h8PZQZAoPk\" id=\"video-title\" title=\"Forex Trading Disahkan di Malaysia? Sedutan Diusulkan di Parlimen Oleh Dato Sri Shahidan Kassim\">Forex Trading Disahkan di Malaysia? Sedutan Diusulkan di Parlimen Oleh Dato Sri Shahidan Kassim</a>\n",
      "<a aria-label=\"Modal Free $100 US DOLLAR Untuk Mula Trading Forex - Moshed Tutorial by Moshed Mohamad 1 year ago 23 minutes 206,832 views\" class=\"yt-simple-endpoint style-scope ytd-grid-video-renderer\" href=\"https://www.youtube.com/watch?v=4sX59KUL9qk\" id=\"video-title\" title=\"Modal Free $100 US DOLLAR Untuk Mula Trading Forex - Moshed Tutorial\">Modal Free $100 US DOLLAR Untuk Mula Trading Forex - Moshed Tutorial</a>\n",
      "<a aria-label=\"Moshed Bagi Cash Kepada Orang Ramai Cuba Trade Forex Tepi Jalan by Moshed Mohamad 1 year ago 28 minutes 117,516 views\" class=\"yt-simple-endpoint style-scope ytd-grid-video-renderer\" href=\"https://www.youtube.com/watch?v=_Fu5c8t6cdw\" id=\"video-title\" title=\"Moshed Bagi Cash Kepada Orang Ramai Cuba Trade Forex Tepi Jalan\">Moshed Bagi Cash Kepada Orang Ramai Cuba Trade Forex Tepi Jalan</a>\n",
      "<a aria-label=\"Saya Bagi Rider Food Panda RM1000 | Moshed Vlog by Moshed Mohamad 1 year ago 33 minutes 90,711 views\" class=\"yt-simple-endpoint style-scope ytd-grid-video-renderer\" href=\"https://www.youtube.com/watch?v=Sb_kjLK91fs\" id=\"video-title\" title=\"Saya Bagi Rider Food Panda RM1000 | Moshed Vlog\">Saya Bagi Rider Food Panda RM1000 | Moshed Vlog</a>\n",
      "<a aria-label=\"Moshed Belanja Pyan Padu Beb Minum Teh RM1000 | Moshed Vlog 024 by Moshed Mohamad 1 year ago 1 hour, 55 minutes 480,346 views\" class=\"yt-simple-endpoint style-scope ytd-grid-video-renderer\" href=\"https://www.youtube.com/watch?v=McTM1fn6zGw\" id=\"video-title\" title=\"Moshed Belanja Pyan Padu Beb Minum Teh RM1000 | Moshed Vlog 024\">Moshed Belanja Pyan Padu Beb Minum Teh RM1000 | Moshed Vlog 024</a>\n",
      "<a aria-label=\"Moshed Tower Dah Naik Signboard | Moshed Vlog 023 by Moshed Mohamad 1 year ago 9 minutes 42,776 views\" class=\"yt-simple-endpoint style-scope ytd-grid-video-renderer\" href=\"https://www.youtube.com/watch?v=b-I0RJ0PW84\" id=\"video-title\" title=\"Moshed Tower Dah Naik Signboard | Moshed Vlog 023\">Moshed Tower Dah Naik Signboard | Moshed Vlog 023</a>\n",
      "<a aria-label=\"Bagi RM1000 Duit Raya Untuk Pekerja KFC | Moshed Vlog 022 by Moshed Mohamad 1 year ago 22 minutes 218,560 views\" class=\"yt-simple-endpoint style-scope ytd-grid-video-renderer\" href=\"https://www.youtube.com/watch?v=WcJWH_Jc8U8\" id=\"video-title\" title=\"Bagi RM1000 Duit Raya Untuk Pekerja KFC | Moshed Vlog 022\">Bagi RM1000 Duit Raya Untuk Pekerja KFC | Moshed Vlog 022</a>\n",
      "<a aria-label=\"Kenapa Saya Buat Semua Ini? Belanja dan Derma RM1000 | Moshed Vlog 021 by Moshed Mohamad 1 year ago 10 minutes, 43 seconds 73,919 views\" class=\"yt-simple-endpoint style-scope ytd-grid-video-renderer\" href=\"https://www.youtube.com/watch?v=iOwthGmNRb4\" id=\"video-title\" title=\"Kenapa Saya Buat Semua Ini? Belanja dan Derma RM1000 | Moshed Vlog 021\">Kenapa Saya Buat Semua Ini? Belanja dan Derma RM1000 | Moshed Vlog 021</a>\n",
      "<a aria-label=\"Belanja Orang RM1000 Isi Minyak Motor dan Duit Raya | Moshed Vlog 020 by Moshed Mohamad 1 year ago 18 minutes 244,206 views\" class=\"yt-simple-endpoint style-scope ytd-grid-video-renderer\" href=\"https://www.youtube.com/watch?v=VuvYggAHRpk\" id=\"video-title\" title=\"Belanja Orang RM1000 Isi Minyak Motor dan Duit Raya | Moshed Vlog 020\">Belanja Orang RM1000 Isi Minyak Motor dan Duit Raya | Moshed Vlog 020</a>\n",
      "<a aria-label=\"Saya Habiskan RM1000 Belanja Orang Ramai Di Bazar Ramadhan Seksyen 13 Shah Alam by Moshed Mohamad 1 year ago 49 minutes 486,589 views\" class=\"yt-simple-endpoint style-scope ytd-grid-video-renderer\" href=\"https://www.youtube.com/watch?v=YvSs8M5wwTc\" id=\"video-title\" title=\"Saya Habiskan RM1000 Belanja Orang Ramai Di Bazar Ramadhan Seksyen 13 Shah Alam\">Saya Habiskan RM1000 Belanja Orang Ramai Di Bazar Ramadhan Seksyen 13 Shah Alam</a>\n",
      "<a aria-label=\"Gangster Ceroboh Office Saya | Moshed Vlog 018 by Moshed Mohamad 1 year ago 9 minutes, 35 seconds 259,937 views\" class=\"yt-simple-endpoint style-scope ytd-grid-video-renderer\" href=\"https://www.youtube.com/watch?v=_udRsounOA8\" id=\"video-title\" title=\"Gangster Ceroboh Office Saya | Moshed Vlog 018\">Gangster Ceroboh Office Saya | Moshed Vlog 018</a>\n",
      "<a aria-label=\"Semua Orang Boleh Trade Forex, Saham, Indeks, Saham Global, Bitcoin | Moshed Vlog 017 by Moshed Mohamad 1 year ago 13 minutes, 17 seconds 33,630 views\" class=\"yt-simple-endpoint style-scope ytd-grid-video-renderer\" href=\"https://www.youtube.com/watch?v=pksTB0wAaJc\" id=\"video-title\" title=\"Semua Orang Boleh Trade Forex, Saham, Indeks, Saham Global, Bitcoin | Moshed Vlog 017\">Semua Orang Boleh Trade Forex, Saham, Indeks, Saham Global, Bitcoin | Moshed Vlog 017</a>\n",
      "<a aria-label=\"Saya Kena Bayar Office Lama Sampai 2 Tahun? | Moshed Vlog 016 by Moshed Mohamad 1 year ago 13 minutes, 53 seconds 24,119 views\" class=\"yt-simple-endpoint style-scope ytd-grid-video-renderer\" href=\"https://www.youtube.com/watch?v=0ZMcC-j3obY\" id=\"video-title\" title=\"Saya Kena Bayar Office Lama Sampai 2 Tahun? | Moshed Vlog 016\">Saya Kena Bayar Office Lama Sampai 2 Tahun? | Moshed Vlog 016</a>\n",
      "<a aria-label=\"Busy Menguruskan Media Company | Moshed Vlog 015 by Moshed Mohamad 1 year ago 8 minutes, 17 seconds 7,450 views\" class=\"yt-simple-endpoint style-scope ytd-grid-video-renderer\" href=\"https://www.youtube.com/watch?v=ipravcRRdMI\" id=\"video-title\" title=\"Busy Menguruskan Media Company | Moshed Vlog 015\">Busy Menguruskan Media Company | Moshed Vlog 015</a>\n",
      "<a aria-label=\"Berpindah ke Moshed Tower | Moshed Vlog 014 by Moshed Mohamad 1 year ago 9 minutes, 34 seconds 14,264 views\" class=\"yt-simple-endpoint style-scope ytd-grid-video-renderer\" href=\"https://www.youtube.com/watch?v=kZFzYCmF4qA\" id=\"video-title\" title=\"Berpindah ke Moshed Tower | Moshed Vlog 014\">Berpindah ke Moshed Tower | Moshed Vlog 014</a>\n",
      "<a aria-label=\"Something Big is Coming, 2019 | Moshed Vlog by Moshed Mohamad 1 year ago 16 minutes 5,314 views\" class=\"yt-simple-endpoint style-scope ytd-grid-video-renderer\" href=\"https://www.youtube.com/watch?v=zI6agBDZ_qs\" id=\"video-title\" title=\"Something Big is Coming, 2019 | Moshed Vlog\">Something Big is Coming, 2019 | Moshed Vlog</a>\n",
      "<a aria-label=\"Cara Install Indicator Moshed Magic Line dan Sedikit Penerangan Ringkas Penggunaannya by Moshed Mohamad 1 year ago 17 minutes 72,307 views\" class=\"yt-simple-endpoint style-scope ytd-grid-video-renderer\" href=\"https://www.youtube.com/watch?v=7pWrFGC9OxY\" id=\"video-title\" title=\"Cara Install Indicator Moshed Magic Line dan Sedikit Penerangan Ringkas Penggunaannya\">Cara Install Indicator Moshed Magic Line dan Sedikit Penerangan Ringkas Penggunaannya</a>\n",
      "<a aria-label=\"Unboxing Mystery Box dari BROKER FOREX RUSSIA | Moshed Vlog 012 by Moshed Mohamad 1 year ago 15 minutes 71,787 views\" class=\"yt-simple-endpoint style-scope ytd-grid-video-renderer\" href=\"https://www.youtube.com/watch?v=00egWipNTuI\" id=\"video-title\" title=\"Unboxing Mystery Box dari BROKER FOREX RUSSIA | Moshed Vlog 012\">Unboxing Mystery Box dari BROKER FOREX RUSSIA | Moshed Vlog 012</a>\n",
      "<a aria-label=\"Kenapa Saya Trade Forex dan Nak Share dengan Anda Tentang Forex? | Moshed Vlog 011 by Moshed Mohamad 1 year ago 16 minutes 77,122 views\" class=\"yt-simple-endpoint style-scope ytd-grid-video-renderer\" href=\"https://www.youtube.com/watch?v=D8BSjVLi7xg\" id=\"video-title\" title=\"Kenapa Saya Trade Forex dan Nak Share dengan Anda Tentang Forex? | Moshed Vlog 011\">Kenapa Saya Trade Forex dan Nak Share dengan Anda Tentang Forex? | Moshed Vlog 011</a>\n",
      "<a aria-label=\"Part 3 - Moshed ke iFX Expo Hong Kong 2019 by Moshed Mohamad 1 year ago 3 minutes, 30 seconds 2,845 views\" class=\"yt-simple-endpoint style-scope ytd-grid-video-renderer\" href=\"https://www.youtube.com/watch?v=3Xnc1gMbR0Q\" id=\"video-title\" title=\"Part 3 - Moshed ke iFX Expo Hong Kong 2019\">Part 3 - Moshed ke iFX Expo Hong Kong 2019</a>\n",
      "<a aria-label=\"Part 2 - Moshed ke iFX Expo Asia Hong Kong 2019 by Moshed Mohamad 1 year ago 15 minutes 6,561 views\" class=\"yt-simple-endpoint style-scope ytd-grid-video-renderer\" href=\"https://www.youtube.com/watch?v=yPhMlcrRQRA\" id=\"video-title\" title=\"Part 2 - Moshed ke iFX Expo Asia Hong Kong 2019\">Part 2 - Moshed ke iFX Expo Asia Hong Kong 2019</a>\n",
      "<a aria-label=\"Moshed ke iFX Expo Asia Hong Kong 2019 - Part 1 by Moshed Mohamad 1 year ago 8 minutes, 55 seconds 6,665 views\" class=\"yt-simple-endpoint style-scope ytd-grid-video-renderer\" href=\"https://www.youtube.com/watch?v=WpWoPr4cmNw\" id=\"video-title\" title=\"Moshed ke iFX Expo Asia Hong Kong 2019 - Part 1\">Moshed ke iFX Expo Asia Hong Kong 2019 - Part 1</a>\n",
      "<a aria-label=\"Saya Bagi Hadiah Moto Yamaha Lagenda 115Z, Next Y15ZR Pulak? | Moshed Vlog 007 by Moshed Mohamad 1 year ago 9 minutes, 41 seconds 150,579 views\" class=\"yt-simple-endpoint style-scope ytd-grid-video-renderer\" href=\"https://www.youtube.com/watch?v=g40WRjhtbNE\" id=\"video-title\" title=\"Saya Bagi Hadiah Moto Yamaha Lagenda 115Z, Next Y15ZR Pulak? | Moshed Vlog 007\">Saya Bagi Hadiah Moto Yamaha Lagenda 115Z, Next Y15ZR Pulak? | Moshed Vlog 007</a>\n",
      "<a aria-label=\"INTRO | Moshed Mohamad, The Real Hustler Entrepreneur. by Moshed Mohamad 1 year ago 1 minute, 34 seconds 42,584 views\" class=\"yt-simple-endpoint style-scope ytd-grid-video-renderer\" href=\"https://www.youtube.com/watch?v=6Zsb6AEHSQk\" id=\"video-title\" title=\"INTRO | Moshed Mohamad, The Real Hustler Entrepreneur.\">INTRO | Moshed Mohamad, The Real Hustler Entrepreneur.</a>\n",
      "<a aria-label=\"Bagaimana Nak Buat Duit Dari Esports dan Gaming? Moshed Gaming | Moshed Vlog 005 by Moshed Mohamad 1 year ago 50 minutes 7,707 views\" class=\"yt-simple-endpoint style-scope ytd-grid-video-renderer\" href=\"https://www.youtube.com/watch?v=eYJqoYLrGww\" id=\"video-title\" title=\"Bagaimana Nak Buat Duit Dari Esports dan Gaming? Moshed Gaming | Moshed Vlog 005\">Bagaimana Nak Buat Duit Dari Esports dan Gaming? Moshed Gaming | Moshed Vlog 005</a>\n",
      "<a aria-label=\"St Petersburg to Doha to Kuala Lumpur - Done 2017 Hustle! Part 4 by Moshed Mohamad 2 years ago 6 minutes, 48 seconds 7,196 views\" class=\"yt-simple-endpoint style-scope ytd-grid-video-renderer\" href=\"https://www.youtube.com/watch?v=YoRngJ7p2Ac\" id=\"video-title\" title=\"St Petersburg to Doha to Kuala Lumpur - Done 2017 Hustle! Part 4\">St Petersburg to Doha to Kuala Lumpur - Done 2017 Hustle! Part 4</a>\n",
      "<a aria-label=\"Moshed to Leningrad Part 3 - St Petersburg Business Meeting dan Salji by Moshed Mohamad 2 years ago 13 minutes, 27 seconds 10,783 views\" class=\"yt-simple-endpoint style-scope ytd-grid-video-renderer\" href=\"https://www.youtube.com/watch?v=Y8YriS5PN2Y\" id=\"video-title\" title=\"Moshed to Leningrad Part 3 - St Petersburg Business Meeting dan Salji\">Moshed to Leningrad Part 3 - St Petersburg Business Meeting dan Salji</a>\n",
      "<a aria-label=\"Moshed to Leningrad Part 2 - Transit Hamad International Airport Doha Qatar by Moshed Mohamad 2 years ago 15 minutes 12,121 views\" class=\"yt-simple-endpoint style-scope ytd-grid-video-renderer\" href=\"https://www.youtube.com/watch?v=dNZMpHGxgG8\" id=\"video-title\" title=\"Moshed to Leningrad Part 2 - Transit Hamad International Airport Doha Qatar\">Moshed to Leningrad Part 2 - Transit Hamad International Airport Doha Qatar</a>\n",
      "<a aria-label=\"Moshed to Leningrad - St Petersburg, Russia - A330 Qatar Airways Business Class Review by Moshed Mohamad 2 years ago 15 minutes 20,854 views\" class=\"yt-simple-endpoint style-scope ytd-grid-video-renderer\" href=\"https://www.youtube.com/watch?v=4uVmPui89yA\" id=\"video-title\" title=\"Moshed to Leningrad - St Petersburg, Russia - A330 Qatar Airways Business Class Review\">Moshed to Leningrad - St Petersburg, Russia - A330 Qatar Airways Business Class Review</a>\n"
     ]
    },
    {
     "data": {
      "text/plain": [
       "38"
      ]
     },
     "execution_count": 9,
     "metadata": {},
     "output_type": "execute_result"
    }
   ],
   "source": [
    "filtered_videos = {}\n",
    "for video in videos:\n",
    "    if 'year' in video.get('aria-label').lower():\n",
    "        print(video)\n",
    "        continue\n",
    "    label = video.get('title')\n",
    "    filtered_videos[label] = video.get('href')\n",
    "        \n",
    "len(filtered_videos)"
   ]
  },
  {
   "cell_type": "code",
   "execution_count": 10,
   "metadata": {},
   "outputs": [],
   "source": [
    "import json\n",
    "\n",
    "with open('moshed-muhammad.json', 'w') as fopen:\n",
    "    json.dump(filtered_videos, fopen)"
   ]
  },
  {
   "cell_type": "code",
   "execution_count": null,
   "metadata": {},
   "outputs": [],
   "source": []
  }
 ],
 "metadata": {
  "kernelspec": {
   "display_name": "Python 3",
   "language": "python",
   "name": "python3"
  },
  "language_info": {
   "codemirror_mode": {
    "name": "ipython",
    "version": 3
   },
   "file_extension": ".py",
   "mimetype": "text/x-python",
   "name": "python",
   "nbconvert_exporter": "python",
   "pygments_lexer": "ipython3",
   "version": "3.6.8"
  }
 },
 "nbformat": 4,
 "nbformat_minor": 2
}

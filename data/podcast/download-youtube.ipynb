{
 "cells": [
  {
   "cell_type": "code",
   "execution_count": 1,
   "metadata": {},
   "outputs": [],
   "source": [
    "from glob import glob\n",
    "import yt_dlp as youtube_dl\n",
    "import os\n",
    "from tqdm import tqdm\n",
    "\n",
    "ydl_opts = {\n",
    "    'format': 'bestaudio/best',\n",
    "    'postprocessors': [{\n",
    "        'key': 'FFmpegExtractAudio',\n",
    "        'preferredcodec': 'mp3',\n",
    "        'preferredquality': '192',\n",
    "    }],\n",
    "    'no-check-certificate': True,\n",
    "    'quiet': True,\n",
    "}"
   ]
  },
  {
   "cell_type": "code",
   "execution_count": 2,
   "metadata": {},
   "outputs": [
    {
     "name": "stdout",
     "output_type": "stream",
     "text": [
      "rm: cannot remove '*.webm': No such file or directory\r\n"
     ]
    }
   ],
   "source": [
    "!rm *.webm"
   ]
  },
  {
   "cell_type": "code",
   "execution_count": 16,
   "metadata": {},
   "outputs": [],
   "source": [
    "import json\n",
    "\n",
    "files = glob('*.json')\n",
    "urls = []\n",
    "for f in files:\n",
    "    with open(f) as fopen:\n",
    "        data = json.load(fopen)\n",
    "        urls.extend(data.values())"
   ]
  },
  {
   "cell_type": "code",
   "execution_count": 17,
   "metadata": {},
   "outputs": [],
   "source": [
    "files = glob('*.txt')\n",
    "for f in files:\n",
    "    with open(f) as fopen:\n",
    "        data = fopen.read().split('\\n')\n",
    "        urls.extend(data)"
   ]
  },
  {
   "cell_type": "code",
   "execution_count": 18,
   "metadata": {},
   "outputs": [],
   "source": [
    "urls = list(set(urls))\n",
    "urls = [u.split('&t=')[0] for u in urls]\n",
    "urls = list(set(urls))"
   ]
  },
  {
   "cell_type": "code",
   "execution_count": 19,
   "metadata": {},
   "outputs": [
    {
     "data": {
      "text/plain": [
       "986"
      ]
     },
     "execution_count": 19,
     "metadata": {},
     "output_type": "execute_result"
    }
   ],
   "source": [
    "len(urls)"
   ]
  },
  {
   "cell_type": "code",
   "execution_count": 20,
   "metadata": {},
   "outputs": [
    {
     "data": {
      "text/plain": [
       "['https://www.youtube.com/watch?v=t06rkOOUa7g',\n",
       " 'https://www.youtube.com/watch?v=TP5W2MG8Jjs',\n",
       " 'https://www.youtube.com/watch?v=79ax7ZQss5M',\n",
       " 'https://www.youtube.com/watch?v=gEAMi3p1hO0',\n",
       " 'https://www.youtube.com/watch?v=uy1fX2vOAEE',\n",
       " 'https://www.youtube.com/watch?v=r4wQsmAtZoc',\n",
       " 'https://www.youtube.com/watch?v=fJjsbgk6e0A',\n",
       " 'https://www.youtube.com/watch?v=5zAsyNKfzps',\n",
       " 'https://www.youtube.com/watch?v=g3iwaxDKQGQ',\n",
       " 'https://www.youtube.com/watch?v=6Zo_FTUNDBI',\n",
       " 'https://www.youtube.com/watch?v=Y7QgYVMJ5u4',\n",
       " 'https://www.youtube.com/watch?v=0kOtvoX88J0',\n",
       " 'https://www.youtube.com/watch?v=E8-7NvQWOzE',\n",
       " 'https://www.youtube.com/watch?v=a2z82oM5Oys',\n",
       " 'https://www.youtube.com/watch?v=8MMvRz9LyhQ',\n",
       " 'https://www.youtube.com/watch?v=bxdMrA36qhE',\n",
       " 'https://www.youtube.com/watch?v=g4OJooMbgRE',\n",
       " 'https://www.youtube.com/watch?v=fy29eXpK0TM',\n",
       " 'https://www.youtube.com/watch?v=DxREm3s1scA',\n",
       " 'https://www.youtube.com/watch?v=OZN7xRCAz58',\n",
       " 'https://www.youtube.com/watch?v=roROKlZhZyo',\n",
       " 'https://www.youtube.com/watch?v=OlFJm2wK7eo',\n",
       " 'https://www.youtube.com/watch?v=whRVyywTov4',\n",
       " 'https://www.youtube.com/watch?v=vNhSCF9i8Qs',\n",
       " 'https://www.youtube.com/watch?v=7uHGlfeCBbE',\n",
       " 'https://www.youtube.com/watch?v=oJNvxYEcVAY',\n",
       " 'https://www.youtube.com/watch?v=HKnXUGo_H2U',\n",
       " 'https://www.youtube.com/watch?v=DYpotjw_KTw',\n",
       " 'https://www.youtube.com/watch?v=hy2G3PhGm-g',\n",
       " 'https://www.youtube.com/watch?v=VAoo7oXtyy4',\n",
       " 'https://www.youtube.com/watch?v=INSy7D2LBfU',\n",
       " 'https://www.youtube.com/watch?v=aJoRMFWn2Jk',\n",
       " 'https://www.youtube.com/watch?v=PazCOj1nb3c',\n",
       " 'https://www.youtube.com/watch?v=OZMsLGKDv14',\n",
       " 'https://www.youtube.com/watch?v=gk4tEO4jDUM',\n",
       " 'https://www.youtube.com/watch?v=6yjJKElk3mM',\n",
       " 'https://www.youtube.com/watch?v=yImlXr5Tr8g',\n",
       " 'https://www.youtube.com/watch?v=2oHH4aClJQs',\n",
       " 'https://www.youtube.com/watch?v=FB7wydtEYxk',\n",
       " 'https://www.youtube.com/watch?v=j1i4WkJ4qFo',\n",
       " 'https://www.youtube.com/watch?v=H4M_ZUDAT3k',\n",
       " 'https://www.youtube.com/watch?v=uNfihFalU90',\n",
       " 'https://www.youtube.com/watch?v=SwQhKFMxmDY',\n",
       " 'https://www.youtube.com/watch?v=amlNEOyPhSQ',\n",
       " 'https://www.youtube.com/watch?v=Gfr50f6ZBvo',\n",
       " 'https://www.youtube.com/watch?v=B2tXN7ZnSfU',\n",
       " 'https://www.youtube.com/watch?v=PonRK3jF3RI',\n",
       " 'https://www.youtube.com/watch?v=AVblCpr_qAc',\n",
       " 'https://www.youtube.com/watch?v=_CLli3_Vlrc',\n",
       " 'https://www.youtube.com/watch?v=2a7CDKqWcZ0',\n",
       " 'https://www.youtube.com/watch?v=Kj6ZssVhzW4',\n",
       " 'https://www.youtube.com/watch?v=pRCzZp1J0v0',\n",
       " 'https://www.youtube.com/watch?v=H5iWRD1sex0',\n",
       " 'https://www.youtube.com/watch?v=VQpETBh0GOc',\n",
       " 'https://www.youtube.com/watch?v=_wSO42jYP6Y',\n",
       " 'https://www.youtube.com/watch?v=qDw8zT7pCdQ',\n",
       " 'https://www.youtube.com/watch?v=efs3QRr8LWw',\n",
       " 'https://www.youtube.com/watch?v=85F0FDsPHf8',\n",
       " 'https://www.youtube.com/watch?v=U-NJZJOAz88',\n",
       " 'https://www.youtube.com/watch?v=FxHvCbGfHvU',\n",
       " 'https://www.youtube.com/watch?v=plcc6E-E1uU',\n",
       " 'https://www.youtube.com/watch?v=teVW3Vw_B20',\n",
       " 'https://www.youtube.com/watch?v=eA9Tpf5Uuxs',\n",
       " 'https://www.youtube.com/watch?v=NWOUxMr6W4Q',\n",
       " 'https://www.youtube.com/watch?v=1C2tPFCGL1U',\n",
       " 'https://www.youtube.com/watch?v=mgL4nID44pI',\n",
       " 'https://www.youtube.com/watch?v=7zn7WqAyhiU',\n",
       " 'https://www.youtube.com/watch?v=WJ6HdT84uWg',\n",
       " 'https://www.youtube.com/watch?v=1hftSRfqt9k',\n",
       " 'https://www.youtube.com/watch?v=y3cw_9ELpQw',\n",
       " 'https://www.youtube.com/watch?v=tOtdJcco3YM',\n",
       " 'https://www.youtube.com/watch?v=WSapDxtf6jI',\n",
       " 'https://www.youtube.com/watch?v=IAeN0jG9Hwc',\n",
       " 'https://www.youtube.com/watch?v=O19y2ZG8Y-k',\n",
       " 'https://www.youtube.com/watch?v=KdDPhoyypcg',\n",
       " 'https://www.youtube.com/watch?v=8xRz8ra9mdI',\n",
       " 'https://www.youtube.com/watch?v=belS2Ek4-ow',\n",
       " 'https://www.youtube.com/watch?v=MgHirgzxqfw',\n",
       " 'https://www.youtube.com/watch?v=iSMpTmibeDw',\n",
       " 'https://www.youtube.com/watch?v=GW2si8__T7c',\n",
       " 'https://www.youtube.com/watch?v=klxViOMU-Jk',\n",
       " 'https://www.youtube.com/watch?v=NY3Zg37nIHo',\n",
       " 'https://www.youtube.com/watch?v=shV1F1JlDzk',\n",
       " 'https://www.youtube.com/watch?v=3LWNY70Oj4A',\n",
       " 'https://www.youtube.com/watch?v=133n0BTYXOQ',\n",
       " 'https://www.youtube.com/watch?v=NcaQUH2K-wo',\n",
       " 'https://www.youtube.com/watch?v=ClxRHJPz8aQ',\n",
       " 'https://www.youtube.com/watch?v=3pvpNKUPbIY',\n",
       " 'https://www.youtube.com/watch?v=Lks97-GLElk',\n",
       " 'https://www.youtube.com/watch?v=Iz040_vXVAw',\n",
       " 'https://www.youtube.com/watch?v=xyP0ypFKtZ0',\n",
       " 'https://www.youtube.com/watch?v=oJHb5a3ggzE',\n",
       " 'https://www.youtube.com/watch?v=arrokG3wCdE',\n",
       " 'https://www.youtube.com/watch?v=1XGiTDWfdpM',\n",
       " 'https://www.youtube.com/watch?v=Rhs1BB7MbHo',\n",
       " 'https://www.youtube.com/watch?v=QLz7USNFnng',\n",
       " 'https://www.youtube.com/watch?v=7ZpOiu2PtbE',\n",
       " 'https://www.youtube.com/watch?v=H9AAnV59ddE',\n",
       " 'https://www.youtube.com/watch?v=0AEyQTHvmZg',\n",
       " 'https://www.youtube.com/watch?v=xJ6Ym719urg',\n",
       " 'https://www.youtube.com/watch?v=4ZamJraVSxo',\n",
       " 'https://www.youtube.com/watch?v=G433fa01oMU',\n",
       " 'https://www.youtube.com/watch?v=D27OchSqU-Q',\n",
       " 'https://www.youtube.com/watch?v=H4gh63mJI1c',\n",
       " 'https://www.youtube.com/watch?v=N5EfPvQKW90',\n",
       " 'https://www.youtube.com/watch?v=WoM2j5bwxVk',\n",
       " 'https://www.youtube.com/watch?v=GO_rW0Bvy1I',\n",
       " 'https://www.youtube.com/watch?v=NXU_M4030nE',\n",
       " 'https://www.youtube.com/watch?v=97HiavAClUk',\n",
       " 'https://www.youtube.com/watch?v=TxEZcP5hmP8',\n",
       " 'https://www.youtube.com/watch?v=aa5r9pws0AI',\n",
       " 'https://www.youtube.com/watch?v=ct2k6iXLurg',\n",
       " 'https://www.youtube.com/watch?v=_ySbzVXiwzQ',\n",
       " 'https://www.youtube.com/watch?v=asii6CKzhfU',\n",
       " 'https://www.youtube.com/watch?v=Ck2yqXMofoc',\n",
       " 'https://www.youtube.com/watch?v=nLgGWILHEc0',\n",
       " 'https://www.youtube.com/watch?v=IixUPM11VMY',\n",
       " 'https://www.youtube.com/watch?v=d2bYwYxqJCM',\n",
       " 'https://www.youtube.com/watch?v=S_AFc_BXht4',\n",
       " 'https://www.youtube.com/watch?v=nhGwJLXzHs8',\n",
       " 'https://www.youtube.com/watch?v=nWTvXbQHwWs',\n",
       " 'https://www.youtube.com/watch?v=jLEs6P-b3xs',\n",
       " 'https://www.youtube.com/watch?v=Pkv6d83oe8s',\n",
       " 'https://www.youtube.com/watch?v=pktiT3JVpVU',\n",
       " 'https://www.youtube.com/watch?v=KDLeJ5Rasuo',\n",
       " 'https://www.youtube.com/watch?v=Iau6W5pjy9Y',\n",
       " 'https://www.youtube.com/watch?v=2cOnu-HMmUk',\n",
       " 'https://www.youtube.com/watch?v=bqeuFiAUU4o',\n",
       " 'https://www.youtube.com/watch?v=2GJaLAIM1Ho',\n",
       " 'https://www.youtube.com/watch?v=BOKCNUqbpH0',\n",
       " 'https://www.youtube.com/watch?v=-mAdHcMGmEs',\n",
       " 'https://www.youtube.com/watch?v=uTCc2-1tbBQ',\n",
       " 'https://www.youtube.com/watch?v=YJF01_ztxwY',\n",
       " 'https://www.youtube.com/watch?v=amyaoTtZaRE',\n",
       " 'https://www.youtube.com/watch?v=DEWgei2u6vM',\n",
       " 'https://www.youtube.com/watch?v=o8Hxf-smPcY',\n",
       " 'https://www.youtube.com/watch?v=VHg9sfOzBbY',\n",
       " 'https://www.youtube.com/watch?v=K8UgjzJTdHw',\n",
       " 'https://www.youtube.com/watch?v=7QvwHr5RrrY',\n",
       " 'https://www.youtube.com/watch?v=a3Wpy6gE4So',\n",
       " 'https://www.youtube.com/watch?v=_EYc2VTjQLA',\n",
       " 'https://www.youtube.com/watch?v=uPup-1pDepY',\n",
       " 'https://www.youtube.com/watch?v=G42RJ4mKj1k',\n",
       " 'https://www.youtube.com/watch?v=yXZn2DkrXig',\n",
       " 'https://www.youtube.com/watch?v=FFSUcXCMDF0',\n",
       " 'https://www.youtube.com/watch?v=TzfCaQ8vUMc',\n",
       " 'https://www.youtube.com/watch?v=yzMVEbs8Zz0',\n",
       " 'https://www.youtube.com/watch?v=At4kjSXFr-U',\n",
       " 'https://www.youtube.com/watch?v=Fx0G6DHMfXM',\n",
       " 'https://www.youtube.com/watch?v=Ktj050DxG7Q',\n",
       " 'https://www.youtube.com/watch?v=TISMidxdZoc',\n",
       " 'https://www.youtube.com/watch?v=UtLmyxVGHgY',\n",
       " 'https://www.youtube.com/watch?v=oFgzQMsKFbA',\n",
       " 'https://www.youtube.com/watch?v=yTWa-Z1UQwU',\n",
       " 'https://www.youtube.com/watch?v=H4EYLof2_HU',\n",
       " 'https://www.youtube.com/watch?v=5lWl7mwyEbA',\n",
       " 'https://www.youtube.com/watch?v=_TStVaAMT3U',\n",
       " 'https://www.youtube.com/watch?v=HKa6m9HpWUU',\n",
       " 'https://www.youtube.com/watch?v=qVpcfmZF1oY',\n",
       " 'https://www.youtube.com/watch?v=etd4Ot9GhhA',\n",
       " 'https://www.youtube.com/watch?v=ca5h47tJsdE',\n",
       " 'https://www.youtube.com/watch?v=0KDESUdPRXs',\n",
       " 'https://www.youtube.com/watch?v=j7T6__UbhBI',\n",
       " 'https://www.youtube.com/watch?v=ICj8p5jPd3Y',\n",
       " 'https://www.youtube.com/watch?v=WoU86yeKc3U',\n",
       " 'https://www.youtube.com/watch?v=Hc4XvHTlW3s',\n",
       " 'https://www.youtube.com/watch?v=cyj5AfaJfVo',\n",
       " 'https://www.youtube.com/watch?v=nre0QT9LN6w',\n",
       " 'https://www.youtube.com/watch?v=qC-U7qy7cH4',\n",
       " 'https://www.youtube.com/watch?v=9hhc90mpKNc',\n",
       " 'https://www.youtube.com/watch?v=qLDp-aYnR1Y',\n",
       " 'https://www.youtube.com/watch?v=HgOZZpq1-wc',\n",
       " 'https://www.youtube.com/watch?v=br5jH40svQ4',\n",
       " 'https://www.youtube.com/watch?v=wCSDF0RNuXY',\n",
       " 'https://www.youtube.com/watch?v=tdcjTfzYSbk',\n",
       " 'https://www.youtube.com/watch?v=sqsBfhCbMjw',\n",
       " 'https://www.youtube.com/watch?v=PdYud9re7-Q',\n",
       " 'https://www.youtube.com/watch?v=bzilnhq3Mkg',\n",
       " 'https://www.youtube.com/watch?v=4oDZyOf6CW4',\n",
       " 'https://www.youtube.com/watch?v=JVPjFDRlZf4',\n",
       " 'https://www.youtube.com/watch?v=hwYzrSF9unk',\n",
       " 'https://www.youtube.com/watch?v=TxeBIVuXRHM',\n",
       " 'https://www.youtube.com/watch?v=zCOIMOCSwnA',\n",
       " 'https://www.youtube.com/watch?v=EURQLMDNdw8',\n",
       " 'https://www.youtube.com/watch?v=DETj3ncN19g',\n",
       " 'https://www.youtube.com/watch?v=Vd4N5d_rpL0',\n",
       " 'https://www.youtube.com/watch?v=EnFAfg4gQDQ',\n",
       " 'https://www.youtube.com/watch?v=5UXpbbX9-Wo',\n",
       " 'https://www.youtube.com/watch?v=p6Dp0KJzMPI',\n",
       " 'https://www.youtube.com/watch?v=MoxkayJ8SnA',\n",
       " 'https://www.youtube.com/watch?v=TRdL6ZzWBS0',\n",
       " 'https://www.youtube.com/watch?v=NOReE-3EBhI',\n",
       " 'https://www.youtube.com/watch?v=aGBLRlLe7X8',\n",
       " 'https://www.youtube.com/watch?v=BOIxl0kJmV4',\n",
       " 'https://www.youtube.com/watch?v=Vrz8YDl9CeA',\n",
       " 'https://www.youtube.com/watch?v=aJgZgisiUsY',\n",
       " 'https://www.youtube.com/watch?v=E3URhJx0NSw',\n",
       " 'https://www.youtube.com/watch?v=MTvitMu7lho',\n",
       " 'https://www.youtube.com/watch?v=Xb-g4cACOEc',\n",
       " 'https://www.youtube.com/watch?v=XPf0swdYOxI',\n",
       " 'https://www.youtube.com/watch?v=3wMKoSRbGVs',\n",
       " 'https://www.youtube.com/watch?v=4kUOHHMBp4Y',\n",
       " 'https://www.youtube.com/watch?v=s5VMgGWNrO0',\n",
       " 'https://www.youtube.com/watch?v=5ihph3nrgt0',\n",
       " 'https://www.youtube.com/watch?v=OaeYUm06in0',\n",
       " 'https://www.youtube.com/watch?v=Yp5UbOFVDZM',\n",
       " 'https://www.youtube.com/watch?v=m7mwwtsblIs',\n",
       " 'https://www.youtube.com/watch?v=XiCxj-bXu5M',\n",
       " 'https://www.youtube.com/watch?v=brslF-Cy3HU',\n",
       " 'https://www.youtube.com/watch?v=DFFHEbk_iYs',\n",
       " 'https://www.youtube.com/watch?v=lDDNI3irZMg',\n",
       " 'https://www.youtube.com/watch?v=iqBh7G4uDR8',\n",
       " 'https://www.youtube.com/watch?v=ViWvAnvT17c',\n",
       " 'https://www.youtube.com/watch?v=hGRNUw559SE',\n",
       " 'https://www.youtube.com/watch?v=8EguLJgkc54',\n",
       " 'https://www.youtube.com/watch?v=q6zEzZCtkXw',\n",
       " 'https://www.youtube.com/watch?v=n2RcVEftY48',\n",
       " 'https://www.youtube.com/watch?v=HrehEWYj16s',\n",
       " 'https://www.youtube.com/watch?v=qE8XryTeSnI',\n",
       " 'https://www.youtube.com/watch?v=NqCp8Csl7PE',\n",
       " 'https://www.youtube.com/watch?v=cj8ojSVgU9I',\n",
       " 'https://www.youtube.com/watch?v=o2nG7-eXxko',\n",
       " 'https://www.youtube.com/watch?v=sndW9hzX-wA',\n",
       " 'https://www.youtube.com/watch?v=iLzO5x_1PNc',\n",
       " 'https://www.youtube.com/watch?v=UWm1ESejkzs',\n",
       " 'https://www.youtube.com/watch?v=T3FC7qIAGZk',\n",
       " 'https://www.youtube.com/watch?v=tWvF2RzSnd4',\n",
       " 'https://www.youtube.com/watch?v=Z1KwkpTUbkg',\n",
       " 'https://www.youtube.com/watch?v=-tDQ74I3Ovs',\n",
       " 'https://www.youtube.com/watch?v=bEhrajW_uGg',\n",
       " 'https://www.youtube.com/watch?v=-Mk8Yq6ptxI',\n",
       " 'https://www.youtube.com/watch?v=Kj5yp0PrfqA',\n",
       " 'https://www.youtube.com/watch?v=Xd1IF8_FKBo',\n",
       " 'https://www.youtube.com/watch?v=4dC_nRYIDZU',\n",
       " 'https://www.youtube.com/watch?v=acjj3NsokSo',\n",
       " 'https://www.youtube.com/watch?v=P51RrJvsWXE',\n",
       " 'https://www.youtube.com/watch?v=ck5dsmTs3K4',\n",
       " 'https://www.youtube.com/watch?v=5zOHSysMmH0',\n",
       " 'https://www.youtube.com/watch?v=_kDKAOncclU',\n",
       " 'https://www.youtube.com/watch?v=1OnBVqeW5JA',\n",
       " 'https://www.youtube.com/watch?v=OdJSVauAM54',\n",
       " 'https://www.youtube.com/watch?v=kSbMU5CbFM0',\n",
       " 'https://www.youtube.com/watch?v=uViyOJsc6O4',\n",
       " 'https://www.youtube.com/watch?v=OMk_Bb67lsk',\n",
       " 'https://www.youtube.com/watch?v=qWwrcivl3qQ',\n",
       " 'https://www.youtube.com/watch?v=4-SGpEInX_c',\n",
       " 'https://www.youtube.com/watch?v=amCsM265Lw0',\n",
       " 'https://www.youtube.com/watch?v=bGmzcVR8ms0',\n",
       " 'https://www.youtube.com/watch?v=qfKyNxfyWbo',\n",
       " 'https://www.youtube.com/watch?v=5rOHOGA4oME',\n",
       " 'https://www.youtube.com/watch?v=0pmviUS1Zac',\n",
       " 'https://www.youtube.com/watch?v=kFQUDCgMjRc',\n",
       " 'https://www.youtube.com/watch?v=4me69rP0mPM',\n",
       " 'https://www.youtube.com/watch?v=NbdRIVCBqNI',\n",
       " 'https://www.youtube.com/watch?v=A22Ej6kb2wo',\n",
       " 'https://www.youtube.com/watch?v=M_m25IcXSTc',\n",
       " 'https://www.youtube.com/watch?v=17pIBFcGB0k',\n",
       " 'https://www.youtube.com/watch?v=cRUy8E6ueeo',\n",
       " 'https://www.youtube.com/watch?v=--SCDa1zsYI',\n",
       " 'https://www.youtube.com/watch?v=-eOSj-gsAf8',\n",
       " 'https://www.youtube.com/watch?v=xPBejhoKlb8',\n",
       " 'https://www.youtube.com/watch?v=RsLCmp3KiQI',\n",
       " 'https://www.youtube.com/watch?v=jHGuXMzaARY',\n",
       " 'https://www.youtube.com/watch?v=v9VtjcRaRWc',\n",
       " 'https://www.youtube.com/watch?v=hOY8x7qxRQI',\n",
       " 'https://www.youtube.com/watch?v=pDSEjaDCtOU',\n",
       " 'https://www.youtube.com/watch?v=Jw7B8efygWI',\n",
       " 'https://www.youtube.com/watch?v=2hv4Pew3bOA',\n",
       " 'https://www.youtube.com/watch?v=HaEDlGzrVIg',\n",
       " 'https://www.youtube.com/watch?v=hppbxV9C63g',\n",
       " 'https://www.youtube.com/watch?v=GpefLuYdzXY',\n",
       " 'https://www.youtube.com/watch?v=RqG0tHR9D1g',\n",
       " 'https://www.youtube.com/watch?v=vPDRlhgblZg',\n",
       " 'https://www.youtube.com/watch?v=OWbPqC2i71c',\n",
       " 'https://www.youtube.com/watch?v=reYdQYZ9Rj4',\n",
       " 'https://www.youtube.com/watch?v=HNGrisnTiwM',\n",
       " 'https://www.youtube.com/watch?v=0HWh52wdUmY',\n",
       " 'https://www.youtube.com/watch?v=_L3gNaAVjQ4',\n",
       " 'https://www.youtube.com/watch?v=4LIsLD3j0oQ',\n",
       " 'https://www.youtube.com/watch?v=avZpWVEpiV8',\n",
       " 'https://www.youtube.com/watch?v=-k-ztNsBM54',\n",
       " 'https://www.youtube.com/watch?v=OqLAZuie06U',\n",
       " 'https://www.youtube.com/watch?v=oIOGUYOPAsA',\n",
       " 'https://www.youtube.com/watch?v=LhhQLcdiwlw',\n",
       " 'https://www.youtube.com/watch?v=cP0D2_jhqPU',\n",
       " 'https://www.youtube.com/watch?v=AZCUFvVQyLo',\n",
       " 'https://www.youtube.com/watch?v=Jn5S-eX5twE',\n",
       " 'https://www.youtube.com/watch?v=fTPQ9KR5j8k',\n",
       " 'https://www.youtube.com/watch?v=csA9YhzYvmk',\n",
       " 'https://www.youtube.com/watch?v=nVWz4x5EgBQ',\n",
       " 'https://www.youtube.com/watch?v=NpmAsMs_m2g',\n",
       " 'https://www.youtube.com/watch?v=FhfmGM6hswI',\n",
       " 'https://www.youtube.com/watch?v=2PeHDoThIp8',\n",
       " 'https://www.youtube.com/watch?v=yXmOHP5sBxs',\n",
       " 'https://www.youtube.com/watch?v=GZt1acKg_bI',\n",
       " 'https://www.youtube.com/watch?v=cwPKlERwcGk',\n",
       " 'https://www.youtube.com/watch?v=I2BaN8cm6NY',\n",
       " 'https://www.youtube.com/watch?v=waIoSS1VjtI',\n",
       " 'https://www.youtube.com/watch?v=GGTtZpswgfg',\n",
       " 'https://www.youtube.com/watch?v=Ui38ZzTymDY',\n",
       " 'https://www.youtube.com/watch?v=Y6RYZpbANJI',\n",
       " 'https://www.youtube.com/watch?v=0sVw_RQfAeQ',\n",
       " 'https://www.youtube.com/watch?v=Y3VBCWIDEzk',\n",
       " 'https://www.youtube.com/watch?v=Iuven0crywo',\n",
       " 'https://www.youtube.com/watch?v=PhRRq6SXSB8',\n",
       " 'https://www.youtube.com/watch?v=kMouTbVeRNY',\n",
       " 'https://www.youtube.com/watch?v=4AdiNyAfVDk',\n",
       " 'https://www.youtube.com/watch?v=BY3CY36WAec',\n",
       " 'https://www.youtube.com/watch?v=hamusgU4ScU',\n",
       " 'https://www.youtube.com/watch?v=KRDKcKiJbMc',\n",
       " 'https://www.youtube.com/watch?v=KZnGSVwIpeU',\n",
       " 'https://www.youtube.com/watch?v=zNdhgOk4-fE',\n",
       " 'https://www.youtube.com/watch?v=E3nSqQhlCmA',\n",
       " 'https://www.youtube.com/watch?v=0jySfrZhs50',\n",
       " 'https://www.youtube.com/watch?v=skGDf57Q9xs',\n",
       " 'https://www.youtube.com/watch?v=ABbDB6xri8o',\n",
       " 'https://www.youtube.com/watch?v=YHtZZ-kSGU8',\n",
       " 'https://www.youtube.com/watch?v=bgNzUxyS-kQ',\n",
       " 'https://www.youtube.com/watch?v=vHpZEMesriU',\n",
       " 'https://www.youtube.com/watch?v=JTmxA2MvEqk',\n",
       " 'https://www.youtube.com/watch?v=rxmMRAzLRJ0',\n",
       " 'https://www.youtube.com/watch?v=AF8DOS4C2KM',\n",
       " 'https://www.youtube.com/watch?v=21JshfFFH7Q',\n",
       " 'https://www.youtube.com/watch?v=n3AR3nQEc7Y',\n",
       " 'https://www.youtube.com/watch?v=U5OD8MjYnOM',\n",
       " 'https://www.youtube.com/watch?v=QlRsc_HXLbE',\n",
       " 'https://www.youtube.com/watch?v=uiNpESmPioQ',\n",
       " 'https://www.youtube.com/watch?v=sZFykBDVjOI',\n",
       " 'https://www.youtube.com/watch?v=XDYAYrvI5LM',\n",
       " 'https://www.youtube.com/watch?v=f0un-l1L8Zw',\n",
       " 'https://www.youtube.com/watch?v=fdlJddbV9RM',\n",
       " 'https://www.youtube.com/watch?v=ZAYg2zQ0arE',\n",
       " 'https://www.youtube.com/watch?v=XOPO9J7DIXw',\n",
       " 'https://www.youtube.com/watch?v=Ww6pfsWmkdY',\n",
       " 'https://www.youtube.com/watch?v=Mvcu6UfY7d4',\n",
       " 'https://www.youtube.com/watch?v=zLEmAKdG9vY',\n",
       " 'https://www.youtube.com/watch?v=SK4kMPmgKW0',\n",
       " 'https://www.youtube.com/watch?v=dHTgffkpeYo',\n",
       " 'https://www.youtube.com/watch?v=W7wJDJ56c88',\n",
       " 'https://www.youtube.com/watch?v=iDsYrU2o2R8',\n",
       " 'https://www.youtube.com/watch?v=6ZA9pCkc7Qk',\n",
       " 'https://www.youtube.com/watch?v=CDiqA4SJNpA',\n",
       " 'https://www.youtube.com/watch?v=4-7O3fOXXKo',\n",
       " 'https://www.youtube.com/watch?v=C0CVcdzfkuQ',\n",
       " 'https://www.youtube.com/watch?v=ktuw6Ow4sd0',\n",
       " 'https://www.youtube.com/watch?v=PUAdj3w3wO4',\n",
       " 'https://www.youtube.com/watch?v=OSRDheEe0ik',\n",
       " 'https://www.youtube.com/watch?v=8yVP1cCM4AU',\n",
       " 'https://www.youtube.com/watch?v=670FyeJhnps',\n",
       " 'https://www.youtube.com/watch?v=nDDJFvuFXdc',\n",
       " 'https://www.youtube.com/watch?v=ji_N6orURuw',\n",
       " 'https://www.youtube.com/watch?v=0G64Hs7iZpU',\n",
       " 'https://www.youtube.com/watch?v=3j0TeHIZxHo',\n",
       " 'https://www.youtube.com/watch?v=b0owBw4oeXs',\n",
       " 'https://www.youtube.com/watch?v=0ZO28NtkwwQ',\n",
       " 'https://www.youtube.com/watch?v=NZd9luVXB80',\n",
       " 'https://www.youtube.com/watch?v=s_Ig-M8IAAY',\n",
       " 'https://www.youtube.com/watch?v=5eK5A_43pkE',\n",
       " 'https://www.youtube.com/watch?v=lvIbeZ3qgsU',\n",
       " 'https://www.youtube.com/watch?v=PlDUYhZvU9s',\n",
       " 'https://www.youtube.com/watch?v=jOQkgKT64Do',\n",
       " 'https://www.youtube.com/watch?v=jcvIfHTy1H0',\n",
       " 'https://www.youtube.com/watch?v=B98Jh045qWo',\n",
       " 'https://www.youtube.com/watch?v=ifw03u4IrS8',\n",
       " 'https://www.youtube.com/watch?v=XW0QZmtbjvs',\n",
       " 'https://www.youtube.com/watch?v=CY_LEa9xQtg',\n",
       " 'https://www.youtube.com/watch?v=adq-khQo2eQ',\n",
       " 'https://www.youtube.com/watch?v=fIPxfzfOTxk',\n",
       " 'https://www.youtube.com/watch?v=hi9Rf0oLdHk',\n",
       " 'https://www.youtube.com/watch?v=7q44OJasErI',\n",
       " 'https://www.youtube.com/watch?v=WJkSAHvYyqk',\n",
       " 'https://www.youtube.com/watch?v=NO_GdfSe9To',\n",
       " 'https://www.youtube.com/watch?v=nvBEXXnNaNQ',\n",
       " 'https://www.youtube.com/watch?v=3lkcGdU7BlY',\n",
       " 'https://www.youtube.com/watch?v=X4G3gjQWECE',\n",
       " 'https://www.youtube.com/watch?v=2lhZsg7hjcc',\n",
       " 'https://www.youtube.com/watch?v=IXFlwSr5u_k',\n",
       " 'https://www.youtube.com/watch?v=PRN5UrsDF6w',\n",
       " 'https://www.youtube.com/watch?v=cYPz_kisGws',\n",
       " 'https://www.youtube.com/watch?v=qeEwAKeB4Ow',\n",
       " 'https://www.youtube.com/watch?v=HAxSo38-2Kg',\n",
       " 'https://www.youtube.com/watch?v=pgIOyfac8-M',\n",
       " 'https://www.youtube.com/watch?v=XLV720mng6w',\n",
       " 'https://www.youtube.com/watch?v=h9XzuUXj6Gc',\n",
       " 'https://www.youtube.com/watch?v=TB0yceuXmrI',\n",
       " 'https://www.youtube.com/watch?v=KUCkrZKslr4',\n",
       " 'https://www.youtube.com/watch?v=EATOIfG2ISk',\n",
       " 'https://www.youtube.com/watch?v=D7WUMXKV-FE',\n",
       " 'https://www.youtube.com/watch?v=GSd5Tbo5fnE',\n",
       " 'https://www.youtube.com/watch?v=-t1_ffaFXao',\n",
       " 'https://www.youtube.com/watch?v=KN2TTiGpDvM',\n",
       " 'https://www.youtube.com/watch?v=oW3yttdKVm0',\n",
       " 'https://www.youtube.com/watch?v=ZFntEFXKDHM',\n",
       " 'https://www.youtube.com/watch?v=TovCz1Qh_24',\n",
       " 'https://www.youtube.com/watch?v=EYBSXaK3cjI',\n",
       " 'https://www.youtube.com/watch?v=Q0V6KIZiXco',\n",
       " 'https://www.youtube.com/watch?v=R5rNoV1Qy_Q',\n",
       " 'https://www.youtube.com/watch?v=KOwm7GUjcg8',\n",
       " 'https://www.youtube.com/watch?v=Udh22kuLebg',\n",
       " 'https://www.youtube.com/watch?v=cFSrxSBrgSc',\n",
       " 'https://www.youtube.com/watch?v=EWkbhM9EQMI',\n",
       " 'https://www.youtube.com/watch?v=DGC-Cyz0X_4',\n",
       " 'https://www.youtube.com/watch?v=7T4DK7kXETc&ab_channel=naddyepul',\n",
       " 'https://www.youtube.com/watch?v=hl0iNRXcUbE',\n",
       " 'https://www.youtube.com/watch?v=bsrvIIsXBVo',\n",
       " 'https://www.youtube.com/watch?v=tXuPfMXsIyw',\n",
       " 'https://www.youtube.com/watch?v=rkwCky94IhQ',\n",
       " 'https://www.youtube.com/watch?v=FN4rFi15z-s',\n",
       " 'https://www.youtube.com/watch?v=4ZiC_Tg6hmU',\n",
       " 'https://www.youtube.com/watch?v=At-WKdApIhs',\n",
       " 'https://www.youtube.com/watch?v=KMgPxVnKLSk',\n",
       " 'https://www.youtube.com/watch?v=fM5IYSZeGCY',\n",
       " 'https://www.youtube.com/watch?v=FohRREpww2k',\n",
       " 'https://www.youtube.com/watch?v=xsjayMqoC0Y',\n",
       " 'https://www.youtube.com/watch?v=ndMahzDCH1Y',\n",
       " 'https://www.youtube.com/watch?v=GX51Wwv2GM0',\n",
       " 'https://www.youtube.com/watch?v=krB0enBeSiE',\n",
       " 'https://www.youtube.com/watch?v=MCHDyLJDJrg',\n",
       " 'https://www.youtube.com/watch?v=3N4p8VY8Mi8',\n",
       " 'https://www.youtube.com/watch?v=jn5qfwxNVWA',\n",
       " 'https://www.youtube.com/watch?v=3XP9J3UyTUo',\n",
       " 'https://www.youtube.com/watch?v=W8ASnyzZ534',\n",
       " 'https://www.youtube.com/watch?v=vE1KnWX2thQ',\n",
       " 'https://www.youtube.com/watch?v=OYsYgzzsdT0',\n",
       " 'https://www.youtube.com/watch?v=KSqmY8ZfmDo',\n",
       " 'https://www.youtube.com/watch?v=JF-_w4gvZec',\n",
       " 'https://www.youtube.com/watch?v=ziQSpuST6Es',\n",
       " 'https://www.youtube.com/watch?v=cLTUA1lneS0',\n",
       " 'https://www.youtube.com/watch?v=lW81anyze8w',\n",
       " 'https://www.youtube.com/watch?v=otK3Gl_XX4c',\n",
       " 'https://www.youtube.com/watch?v=ycPr5-27vSI',\n",
       " 'https://www.youtube.com/watch?v=ofj3EHrK96U',\n",
       " 'https://www.youtube.com/watch?v=8DMyfcjyrZQ',\n",
       " 'https://www.youtube.com/watch?v=RlejfOWnKgQ',\n",
       " 'https://www.youtube.com/watch?v=kXGYIFuQ2Es',\n",
       " 'https://www.youtube.com/watch?v=_AGPbvCDBCk',\n",
       " 'https://www.youtube.com/watch?v=O_rK97AUOIA',\n",
       " 'https://www.youtube.com/watch?v=mDyBbGCiBUU',\n",
       " 'https://www.youtube.com/watch?v=zHC1MPeSP34',\n",
       " 'https://www.youtube.com/watch?v=ekKcn3QCU5E',\n",
       " 'https://www.youtube.com/watch?v=MIWrmgPNUqQ',\n",
       " 'https://www.youtube.com/watch?v=vzx6h2sAGTU',\n",
       " 'https://www.youtube.com/watch?v=5cG8wHdaKIU',\n",
       " 'https://www.youtube.com/watch?v=wKaySfPomOI',\n",
       " 'https://www.youtube.com/watch?v=tueAcSiiqYA',\n",
       " 'https://www.youtube.com/watch?v=iLlrIi9-NfQ',\n",
       " 'https://www.youtube.com/watch?v=1mgN8r1mwvM',\n",
       " 'https://www.youtube.com/watch?v=9LE2F1j4LV0',\n",
       " 'https://www.youtube.com/watch?v=A9PfeA9qFp8',\n",
       " 'https://www.youtube.com/watch?v=rIpUf-Vy2JA',\n",
       " 'https://www.youtube.com/watch?v=FITWkI6f4uQ',\n",
       " 'https://www.youtube.com/watch?v=ykY69lSpDdo',\n",
       " 'https://www.youtube.com/watch?v=0JNOViPgBag',\n",
       " 'https://www.youtube.com/watch?v=lGSZqhFFhoI',\n",
       " 'https://www.youtube.com/watch?v=PjSFlFqxyGc',\n",
       " 'https://www.youtube.com/watch?v=I845O57ZSy4',\n",
       " 'https://www.youtube.com/watch?v=J36xPWBLcG8',\n",
       " 'https://www.youtube.com/watch?v=gelTkUE_YdE',\n",
       " 'https://www.youtube.com/watch?v=3qqytD4_vfE',\n",
       " 'https://www.youtube.com/watch?v=80OvNaEgmmw',\n",
       " 'https://www.youtube.com/watch?v=SOr1YYRljV8',\n",
       " 'https://www.youtube.com/watch?v=J1lN9zkK_k0',\n",
       " 'https://www.youtube.com/watch?v=WnipnOcDkx8',\n",
       " 'https://www.youtube.com/watch?v=OUqb6qhU2NY',\n",
       " 'https://www.youtube.com/watch?v=P6prRXkI5HM',\n",
       " 'https://www.youtube.com/watch?v=7khdWxWLtY8',\n",
       " 'https://www.youtube.com/watch?v=iHHJfwmR-RQ',\n",
       " 'https://www.youtube.com/watch?v=xewD1apJNhw',\n",
       " 'https://www.youtube.com/watch?v=WgytXF0SPh0',\n",
       " 'https://www.youtube.com/watch?v=-jA2ABHBc6Y',\n",
       " 'https://www.youtube.com/watch?v=FtNW3I1FZ5o',\n",
       " 'https://www.youtube.com/watch?v=hLZ6PACCBy8',\n",
       " 'https://www.youtube.com/watch?v=EjzkQeWKwQw',\n",
       " 'https://www.youtube.com/watch?v=joGS1O-Uto4',\n",
       " 'https://www.youtube.com/watch?v=L3-8rYgDGuU',\n",
       " 'https://www.youtube.com/watch?v=CMHvJadrKZY',\n",
       " 'https://www.youtube.com/watch?v=UryaihXnjBk',\n",
       " 'https://www.youtube.com/watch?v=qdYMLBaCl-8',\n",
       " 'https://www.youtube.com/watch?v=f2aYNheer8I',\n",
       " 'https://www.youtube.com/watch?v=NCiDUw4mQgE',\n",
       " 'https://www.youtube.com/watch?v=TvHqvYesr9M',\n",
       " 'https://www.youtube.com/watch?v=LDTe8uFqbws',\n",
       " 'https://www.youtube.com/watch?v=NIxhH85cQMY',\n",
       " 'https://www.youtube.com/watch?v=3Z7WimACqG8',\n",
       " 'https://www.youtube.com/watch?v=EToUmoEYGuU',\n",
       " 'https://www.youtube.com/watch?v=nV3miitxG08',\n",
       " 'https://www.youtube.com/watch?v=2q69Id3-Amk',\n",
       " 'https://www.youtube.com/watch?v=OfEUrEUS9Qk',\n",
       " 'https://www.youtube.com/watch?v=izjGX8XJZ4g',\n",
       " 'https://www.youtube.com/watch?v=Iaf5g9oT0mA',\n",
       " 'https://www.youtube.com/watch?v=SvI7YxUnEb8',\n",
       " 'https://www.youtube.com/watch?v=MdLTWICADhM',\n",
       " 'https://www.youtube.com/watch?v=tOTenjh_8hw',\n",
       " 'https://www.youtube.com/watch?v=X1C8uh-rcKM',\n",
       " 'https://www.youtube.com/watch?v=7eRR7j1OCOs',\n",
       " 'https://www.youtube.com/watch?v=NlQ3rejXCRI',\n",
       " 'https://www.youtube.com/watch?v=oGTQ0Wj6yIg',\n",
       " 'https://www.youtube.com/watch?v=6qGhSAeFV0Y',\n",
       " 'https://www.youtube.com/watch?v=Okg2LH6XKzY',\n",
       " 'https://www.youtube.com/watch?v=bXVvXLHpmS8',\n",
       " 'https://www.youtube.com/watch?v=HDuY9UdkkaE',\n",
       " 'https://www.youtube.com/watch?v=0DZK1nawEXQ',\n",
       " 'https://www.youtube.com/watch?v=TPXTmVdlyoc',\n",
       " 'https://www.youtube.com/watch?v=h706HvOB5mY',\n",
       " 'https://www.youtube.com/watch?v=iugevNPFp2Y',\n",
       " 'https://www.youtube.com/watch?v=mgEs61k2mxY',\n",
       " 'https://www.youtube.com/watch?v=srUlKNLZTas',\n",
       " 'https://www.youtube.com/watch?v=e4Bet29PVPY',\n",
       " 'https://www.youtube.com/watch?v=xvwqg1NzTyE',\n",
       " 'https://www.youtube.com/watch?v=amXXYgu0eFY',\n",
       " 'https://www.youtube.com/watch?v=9-w-LFBw8Co',\n",
       " 'https://www.youtube.com/watch?v=bYmfnvCbqzY',\n",
       " 'https://www.youtube.com/watch?v=dTuSEyiqzzk',\n",
       " 'https://www.youtube.com/watch?v=6R87P6YD2c4',\n",
       " 'https://www.youtube.com/watch?v=66hWntvp0_4',\n",
       " 'https://www.youtube.com/watch?v=Q54z0mutz5Q',\n",
       " 'https://www.youtube.com/watch?v=6adKh-LYk3s',\n",
       " 'https://www.youtube.com/watch?v=FFtFXiIgsyk',\n",
       " 'https://www.youtube.com/watch?v=Q6tDV3BhrcM',\n",
       " 'https://www.youtube.com/watch?v=ZJ8jw3C9vB8',\n",
       " 'https://www.youtube.com/watch?v=eDzGRT06er0',\n",
       " 'https://www.youtube.com/watch?v=-KQGZa773sI',\n",
       " 'https://www.youtube.com/watch?v=A1Q4vhC4Ink',\n",
       " 'https://www.youtube.com/watch?v=usDqSEKDVsA',\n",
       " 'https://www.youtube.com/watch?v=sO9KE_HDZvI',\n",
       " 'https://www.youtube.com/watch?v=ygn3tMlp1-M',\n",
       " 'https://www.youtube.com/watch?v=BuuDztcqnko',\n",
       " 'https://www.youtube.com/watch?v=j3sT8WpkDco',\n",
       " 'https://www.youtube.com/watch?v=_bN4spt3744',\n",
       " 'https://www.youtube.com/watch?v=CwpSViM8MaY',\n",
       " 'https://www.youtube.com/watch?v=J48bm21q8_A',\n",
       " 'https://www.youtube.com/watch?v=PYkkRlx-IK4',\n",
       " 'https://www.youtube.com/watch?v=Iq8Ss9yg6bo',\n",
       " 'https://www.youtube.com/watch?v=yH5YplNDjJM',\n",
       " 'https://www.youtube.com/watch?v=3pKA5NvTCOA',\n",
       " 'https://www.youtube.com/watch?v=XW_KhFq4LQo',\n",
       " 'https://www.youtube.com/watch?v=hhEwWghH_XM',\n",
       " 'https://www.youtube.com/watch?v=WxfA1OSev4c',\n",
       " 'https://www.youtube.com/watch?v=Ic0l2dowhPg',\n",
       " 'https://www.youtube.com/watch?v=iZjby1LkTWQ',\n",
       " 'https://www.youtube.com/watch?v=Rkvd5p3I11M',\n",
       " 'https://www.youtube.com/watch?v=gJS5YvX9PIw',\n",
       " 'https://www.youtube.com/watch?v=U41dkEpj6NU',\n",
       " 'https://www.youtube.com/watch?v=jR8Zq0xuCz8',\n",
       " 'https://www.youtube.com/watch?v=CtftWcgXjdg',\n",
       " 'https://www.youtube.com/watch?v=It5DFXULOq0',\n",
       " 'https://www.youtube.com/watch?v=FPbvy8PrAVs',\n",
       " 'https://www.youtube.com/watch?v=9yji9vIxkwY',\n",
       " 'https://www.youtube.com/watch?v=dZFUv3ai42Q',\n",
       " 'https://www.youtube.com/watch?v=fgxaD7u28A4',\n",
       " 'https://www.youtube.com/watch?v=eXpirKKPBUA',\n",
       " 'https://www.youtube.com/watch?v=Cs_mDpIkUOY',\n",
       " 'https://www.youtube.com/watch?v=8LuihYdx0FQ',\n",
       " 'https://www.youtube.com/watch?v=98CiTQQtqak',\n",
       " 'https://www.youtube.com/watch?v=kEzvE_L6yLo',\n",
       " 'https://www.youtube.com/watch?v=ahDpoDhAh0k',\n",
       " 'https://www.youtube.com/watch?v=jdIyNMkusLE',\n",
       " 'https://www.youtube.com/watch?v=xF6x1ftN-H4',\n",
       " 'https://www.youtube.com/watch?v=eWNQhDNoSsY',\n",
       " 'https://www.youtube.com/watch?v=OMfc98lOw_M',\n",
       " 'https://www.youtube.com/watch?v=mJuKUwFpDgI',\n",
       " 'https://www.youtube.com/watch?v=Aal1tzmnVIw',\n",
       " 'https://www.youtube.com/watch?v=UbkB-vhjhHA',\n",
       " 'https://www.youtube.com/watch?v=BVLUvzbNDFc',\n",
       " 'https://www.youtube.com/watch?v=yyBosLx7bbM',\n",
       " 'https://www.youtube.com/watch?v=iZRbD7q1n-U',\n",
       " 'https://www.youtube.com/watch?v=jeiOFE2nijU',\n",
       " 'https://www.youtube.com/watch?v=WzsivT_Ap1w',\n",
       " 'https://www.youtube.com/watch?v=kpiY_LemaTc',\n",
       " 'https://www.youtube.com/watch?v=LAyZ8IYfGxQ',\n",
       " 'https://www.youtube.com/watch?v=ktl0UdZtL1A',\n",
       " 'https://www.youtube.com/watch?v=l6bf4RFE31o',\n",
       " 'https://www.youtube.com/watch?v=KW8Vjs84Fxg',\n",
       " 'https://www.youtube.com/watch?v=ls9be-9C-uk',\n",
       " 'https://www.youtube.com/watch?v=U40hKJ7xFrM',\n",
       " 'https://www.youtube.com/watch?v=wvwCZO9UKZE',\n",
       " 'https://www.youtube.com/watch?v=6g5UqgSdA9o',\n",
       " 'https://www.youtube.com/watch?v=U_AREIyd0Fc',\n",
       " 'https://www.youtube.com/watch?v=1UsBOOwgq28',\n",
       " 'https://www.youtube.com/watch?v=ALV6ItXdUYI',\n",
       " 'https://www.youtube.com/watch?v=Z_LhPMhkEdw',\n",
       " 'https://www.youtube.com/watch?v=wMj1A_OnSHk',\n",
       " 'https://www.youtube.com/watch?v=27wmpMUlZ18',\n",
       " 'https://www.youtube.com/watch?v=7wiSVCBFmFc',\n",
       " 'https://www.youtube.com/watch?v=Rm0GNWSKzYs',\n",
       " 'https://www.youtube.com/watch?v=5Gk9gIpGvSE',\n",
       " 'https://www.youtube.com/watch?v=xMm23vU8_og',\n",
       " 'https://www.youtube.com/watch?v=mC43pZkpTec',\n",
       " 'https://www.youtube.com/watch?v=Pl3x4GINtBQ',\n",
       " 'https://www.youtube.com/watch?v=y3Umo_jd5AA',\n",
       " 'https://www.youtube.com/watch?v=-0sKkbjQYqw',\n",
       " 'https://www.youtube.com/watch?v=Z0JH5UokMmw',\n",
       " 'https://www.youtube.com/watch?v=Wyb6i3GoJv4',\n",
       " 'https://www.youtube.com/watch?v=uykM3NhJbso',\n",
       " 'https://www.youtube.com/watch?v=8U0XzOco7D0',\n",
       " 'https://www.youtube.com/watch?v=VkaBfJ8SC_w',\n",
       " 'https://www.youtube.com/watch?v=jhKZIq3SlYE',\n",
       " 'https://www.youtube.com/watch?v=6z1JwZbX4dQ',\n",
       " 'https://www.youtube.com/watch?v=Imi5ODmIckw',\n",
       " 'https://www.youtube.com/watch?v=98mh3jxcuxI',\n",
       " 'https://www.youtube.com/watch?v=ZTA2RJ6dEFc',\n",
       " 'https://www.youtube.com/watch?v=8rc0QljS_sM',\n",
       " 'https://www.youtube.com/watch?v=sV51ft7rkE0',\n",
       " 'https://www.youtube.com/watch?v=FCRsVcCAdRg',\n",
       " 'https://www.youtube.com/watch?v=xaBHLCIBoEc',\n",
       " 'https://www.youtube.com/watch?v=7Y7WQ7P7Pqw&ab_channel=RichRoll',\n",
       " 'https://www.youtube.com/watch?v=2LQFV0ct3X8',\n",
       " 'https://www.youtube.com/watch?v=c0HN0IzKKYY',\n",
       " 'https://www.youtube.com/watch?v=gFEE3w7F0ww',\n",
       " 'https://www.youtube.com/watch?v=kKg4CJk24Qo',\n",
       " 'https://www.youtube.com/watch?v=TG6BuSjwP4o',\n",
       " 'https://www.youtube.com/watch?v=lPnRg9UsP0M',\n",
       " 'https://www.youtube.com/watch?v=U_yasKdeo8c',\n",
       " 'https://www.youtube.com/watch?v=0RTWSJAqTPg',\n",
       " 'https://www.youtube.com/watch?v=mQ7ECcjXazw',\n",
       " 'https://www.youtube.com/watch?v=GvX-heRWFfA',\n",
       " 'https://www.youtube.com/watch?v=nhBePYuPZ9E',\n",
       " 'https://www.youtube.com/watch?v=BIk1zUy8ehU',\n",
       " 'https://www.youtube.com/watch?v=Eco2s3-0zsQ',\n",
       " 'https://www.youtube.com/watch?v=dSVLjAdo8UA',\n",
       " 'https://www.youtube.com/watch?v=udlMSe5-zP8',\n",
       " 'https://www.youtube.com/watch?v=ew8U43IXTfk',\n",
       " 'https://www.youtube.com/watch?v=Us8n8VBQn_c',\n",
       " 'https://www.youtube.com/watch?v=j-bSjzIPRro',\n",
       " 'https://www.youtube.com/watch?v=PbN3HzKkW4M',\n",
       " 'https://www.youtube.com/watch?v=FKCJWkPehdY',\n",
       " 'https://www.youtube.com/watch?v=hZenJc1fa70',\n",
       " 'https://www.youtube.com/watch?v=x8Gl_zIC9CQ',\n",
       " 'https://www.youtube.com/watch?v=c9AbECvRt20',\n",
       " 'https://www.youtube.com/watch?v=ExTFPDITHww',\n",
       " 'https://www.youtube.com/watch?v=WSHL2nyN-wA',\n",
       " 'https://www.youtube.com/watch?v=UjMGOaDPav8',\n",
       " 'https://www.youtube.com/watch?v=1av_p0DPDas',\n",
       " 'https://www.youtube.com/watch?v=YWnaf_Zd5_Y',\n",
       " 'https://www.youtube.com/watch?v=7Sk6lTLSZcA',\n",
       " 'https://www.youtube.com/watch?v=UAx1Sq6usRg',\n",
       " 'https://www.youtube.com/watch?v=NaPKrZTUoUs',\n",
       " 'https://www.youtube.com/watch?v=XldSJLh8kMk',\n",
       " 'https://www.youtube.com/watch?v=KdmDtqB46Jc',\n",
       " 'https://www.youtube.com/watch?v=4AWLcxTGZPA',\n",
       " 'https://www.youtube.com/watch?v=UnMGuZUPCxg',\n",
       " 'https://www.youtube.com/watch?v=R0ibd_SSXH0',\n",
       " 'https://www.youtube.com/watch?v=iBe_mb7ZmGs',\n",
       " 'https://www.youtube.com/watch?v=OX1nWE9K9a8',\n",
       " 'https://www.youtube.com/watch?v=H6KD0356lAY',\n",
       " 'https://www.youtube.com/watch?v=QqRV5FD8ob4',\n",
       " 'https://www.youtube.com/watch?v=lvh3g7eszVQ',\n",
       " 'https://www.youtube.com/watch?v=nTiqySjdD6s',\n",
       " 'https://www.youtube.com/watch?v=8OW6fYFCxAg',\n",
       " 'https://www.youtube.com/watch?v=Jn2oeTajYCw',\n",
       " 'https://www.youtube.com/watch?v=_7Un0q6a9zg',\n",
       " 'https://www.youtube.com/watch?v=DbXjoXnIxQo',\n",
       " 'https://www.youtube.com/watch?v=ygAqYC8JOQI',\n",
       " 'https://www.youtube.com/watch?v=Xf66poLfy_E',\n",
       " 'https://www.youtube.com/watch?v=50r-5ULcWgY',\n",
       " 'https://www.youtube.com/watch?v=Iy_oYCNhiUI',\n",
       " 'https://www.youtube.com/watch?v=lFc0mR0IY5U',\n",
       " 'https://www.youtube.com/watch?v=aOcPryqRdYs',\n",
       " 'https://www.youtube.com/watch?v=FDzDNcglUdo',\n",
       " 'https://www.youtube.com/watch?v=e4Xx24EqAFU',\n",
       " 'https://www.youtube.com/watch?v=CejJ2aVRUE8',\n",
       " 'https://www.youtube.com/watch?v=5zhEVdBuPDo',\n",
       " 'https://www.youtube.com/watch?v=Mcle87Uvh8Y',\n",
       " 'https://www.youtube.com/watch?v=pRzelZlKl7E',\n",
       " 'https://www.youtube.com/watch?v=QSPtSNqUCUw',\n",
       " 'https://www.youtube.com/watch?v=EX1aYF0VZjw',\n",
       " 'https://www.youtube.com/watch?v=6m_UrMIN3rI',\n",
       " 'https://www.youtube.com/watch?v=gzUuvAa2jPY',\n",
       " 'https://www.youtube.com/watch?v=L-RuvUkcyJI',\n",
       " 'https://www.youtube.com/watch?v=74TaVlSuipo',\n",
       " 'https://www.youtube.com/watch?v=r3atRG5wvtg',\n",
       " 'https://www.youtube.com/watch?v=UL3RvjhFu_s',\n",
       " 'https://www.youtube.com/watch?v=pw8dkF-jotk',\n",
       " 'https://www.youtube.com/watch?v=G4hL5Om4IJ4',\n",
       " 'https://www.youtube.com/watch?v=iS3te7kM6DY',\n",
       " 'https://www.youtube.com/watch?v=6i8PG2cTAUU',\n",
       " 'https://www.youtube.com/watch?v=rKnoNfajUgM',\n",
       " 'https://www.youtube.com/watch?v=RcYjXbSJBN8',\n",
       " 'https://www.youtube.com/watch?v=NXb_5GHwTco',\n",
       " 'https://www.youtube.com/watch?v=cdiD-9MMpb0',\n",
       " 'https://www.youtube.com/watch?v=NUkXluf3OYA',\n",
       " 'https://www.youtube.com/watch?v=rBSKYMabsX8',\n",
       " 'https://www.youtube.com/watch?v=3-DoQSmz5aI',\n",
       " 'https://www.youtube.com/watch?v=nGnyZ5c00Mo',\n",
       " 'https://www.youtube.com/watch?v=OIEIr4wtVvU',\n",
       " 'https://www.youtube.com/watch?v=w-IO3WEFYWQ',\n",
       " 'https://www.youtube.com/watch?v=SGzMElJ11Cc',\n",
       " 'https://www.youtube.com/watch?v=tm7poMupE8k',\n",
       " 'https://www.youtube.com/watch?v=kTuUtxjMCRA',\n",
       " 'https://www.youtube.com/watch?v=Trh7YWo2Bmo',\n",
       " 'https://www.youtube.com/watch?v=k8voKz-2vBU',\n",
       " 'https://www.youtube.com/watch?v=5ETN9aLI2Ac',\n",
       " 'https://www.youtube.com/watch?v=3RG5pXTpLBI',\n",
       " 'https://www.youtube.com/watch?v=FruPG2M156w',\n",
       " 'https://www.youtube.com/watch?v=cMCucLELzd0',\n",
       " 'https://www.youtube.com/watch?v=QNYPRdyVq0s',\n",
       " 'https://www.youtube.com/watch?v=vozksPnN8xk',\n",
       " 'https://www.youtube.com/watch?v=8bUGVETockI',\n",
       " 'https://www.youtube.com/watch?v=SFxIazwNP_0',\n",
       " 'https://www.youtube.com/watch?v=foScUA0qbNs',\n",
       " 'https://www.youtube.com/watch?v=xAfdSak2fs8',\n",
       " 'https://www.youtube.com/watch?v=j4_VyRDOmN4',\n",
       " 'https://www.youtube.com/watch?v=NpOxxzOhZyg',\n",
       " 'https://www.youtube.com/watch?v=2M8U_mxGbcw',\n",
       " 'https://www.youtube.com/watch?v=_5gfJdpgXvc',\n",
       " 'https://www.youtube.com/watch?v=VlovwtVYuw0',\n",
       " 'https://www.youtube.com/watch?v=aGhP-11ALDY',\n",
       " 'https://www.youtube.com/watch?v=nYrjhv-AFZA',\n",
       " 'https://www.youtube.com/watch?v=jJN0vH42wcs',\n",
       " 'https://www.youtube.com/watch?v=tg_m_LxxRwM',\n",
       " 'https://www.youtube.com/watch?v=Z3_PwvvfxIU',\n",
       " 'https://www.youtube.com/watch?v=6WgIOKFLrHY',\n",
       " 'https://www.youtube.com/watch?v=BtMFosYvRNc',\n",
       " 'https://www.youtube.com/watch?v=gp4U5aH_T6A',\n",
       " 'https://www.youtube.com/watch?v=Gy_vcL1cpP8',\n",
       " 'https://www.youtube.com/watch?v=G1hqsr5mkzA',\n",
       " 'https://www.youtube.com/watch?v=8IaSgq6hV54',\n",
       " 'https://www.youtube.com/watch?v=x02fjnpqiyA',\n",
       " 'https://www.youtube.com/watch?v=QxVzXbS1WFE',\n",
       " 'https://www.youtube.com/watch?v=y2c-GQP2Rcs',\n",
       " 'https://www.youtube.com/watch?v=TDKYSLDq6es',\n",
       " 'https://www.youtube.com/watch?v=PjLW5irADoM',\n",
       " 'https://www.youtube.com/watch?v=2O-iLk1G_ng',\n",
       " 'https://www.youtube.com/watch?v=3uLDin9A9pc',\n",
       " 'https://www.youtube.com/watch?v=e6d9PJLAQmE',\n",
       " 'https://www.youtube.com/watch?v=CSP1XPZu4YY',\n",
       " 'https://www.youtube.com/watch?v=s0zgNY_kqlI',\n",
       " 'https://www.youtube.com/watch?v=1DV6I5hK6ro',\n",
       " 'https://www.youtube.com/watch?v=8wYZjOzfTUk',\n",
       " 'https://www.youtube.com/watch?v=BCdV6BMMpOo',\n",
       " 'https://www.youtube.com/watch?v=kvzbh_HY1Yw',\n",
       " 'https://www.youtube.com/watch?v=ApZZxvw0muo',\n",
       " 'https://www.youtube.com/watch?v=xBdx88P_yEE',\n",
       " 'https://www.youtube.com/watch?v=oJPtCCTzs_o',\n",
       " 'https://www.youtube.com/watch?v=K78jqx9fx2I',\n",
       " 'https://www.youtube.com/watch?v=fgaCmnMdZ0c',\n",
       " 'https://www.youtube.com/watch?v=fzuKoKTxfEs',\n",
       " 'https://www.youtube.com/watch?v=dmVqpx4YOY4',\n",
       " 'https://www.youtube.com/watch?v=vshZhU5dbto',\n",
       " 'https://www.youtube.com/watch?v=jpUBLvrn2NA',\n",
       " 'https://www.youtube.com/watch?v=GbOf_E5Yn_A',\n",
       " 'https://www.youtube.com/watch?v=xCSVI6gfjs8',\n",
       " 'https://www.youtube.com/watch?v=q6KGsI6QzD4',\n",
       " 'https://www.youtube.com/watch?v=amx14K9N5CY',\n",
       " 'https://www.youtube.com/watch?v=RvhpncC5jZ8',\n",
       " 'https://www.youtube.com/watch?v=xlYbp36HPb0',\n",
       " 'https://www.youtube.com/watch?v=QOrOYUxzX3o',\n",
       " 'https://www.youtube.com/watch?v=DYCPtL43VE4',\n",
       " 'https://www.youtube.com/watch?v=gxwgwaLS7KI',\n",
       " 'https://www.youtube.com/watch?v=BCB0eI7TjFc&ab_channel=RichRoll',\n",
       " 'https://www.youtube.com/watch?v=9-z0kglwpwo',\n",
       " 'https://www.youtube.com/watch?v=ig9yh8iVZWI',\n",
       " 'https://www.youtube.com/watch?v=XiWYB_xTd9k',\n",
       " 'https://www.youtube.com/watch?v=6iYxbRZ21bw',\n",
       " 'https://www.youtube.com/watch?v=ack8IjOdo3c',\n",
       " 'https://www.youtube.com/watch?v=xyE_w00AYXw',\n",
       " 'https://www.youtube.com/watch?v=Qyrjgf-_Vdk',\n",
       " 'https://www.youtube.com/watch?v=ikJq6wcgrXI',\n",
       " 'https://www.youtube.com/watch?v=4YqZ08GxV1c',\n",
       " 'https://www.youtube.com/watch?v=X0-SXS6zdEQ',\n",
       " 'https://www.youtube.com/watch?v=RL4j4KPwNGM',\n",
       " 'https://www.youtube.com/watch?v=pNlfHgHJweQ',\n",
       " 'https://www.youtube.com/watch?v=L2W4inT6j3c',\n",
       " 'https://www.youtube.com/watch?v=VmgYeeE31_8',\n",
       " 'https://www.youtube.com/watch?v=VeH7qKZr0WI',\n",
       " 'https://www.youtube.com/watch?v=LqekBp6LmX4',\n",
       " 'https://www.youtube.com/watch?v=Yv7uONh96tc',\n",
       " 'https://www.youtube.com/watch?v=0m3hGZvD-0s',\n",
       " 'https://www.youtube.com/watch?v=QRTimA9lvZI',\n",
       " 'https://www.youtube.com/watch?v=HPfPFM1wNmE',\n",
       " 'https://www.youtube.com/watch?v=78_jmynAjLw',\n",
       " 'https://www.youtube.com/watch?v=mW6jgKCKqiA',\n",
       " 'https://www.youtube.com/watch?v=6ePR2TWYVkI',\n",
       " 'https://www.youtube.com/watch?v=o2YAqL0YkGc',\n",
       " 'https://www.youtube.com/watch?v=18iBvgUbSMk',\n",
       " 'https://www.youtube.com/watch?v=IHg6ixt3CKc',\n",
       " 'https://www.youtube.com/watch?v=OpANpfEjNw8',\n",
       " 'https://www.youtube.com/watch?v=mIc0MmSoaiI',\n",
       " 'https://www.youtube.com/watch?v=R0ufbsXbsEM',\n",
       " 'https://www.youtube.com/watch?v=x5hNJ0GR_Wk',\n",
       " 'https://www.youtube.com/watch?v=Hc6pbG4wICA',\n",
       " 'https://www.youtube.com/watch?v=PwNs626zKUI',\n",
       " 'https://www.youtube.com/watch?v=8m4XEPgkVOM',\n",
       " 'https://www.youtube.com/watch?v=jRBksDVs4tg',\n",
       " 'https://www.youtube.com/watch?v=98HZanvAJ8Y',\n",
       " 'https://www.youtube.com/watch?v=CLcqXg0fFvY',\n",
       " 'https://www.youtube.com/watch?v=auZDWTMLM8I',\n",
       " 'https://www.youtube.com/watch?v=w8267OmP22E',\n",
       " 'https://www.youtube.com/watch?v=nWwnm-z6mOw',\n",
       " 'https://www.youtube.com/watch?v=Ra4522ikFoU',\n",
       " 'https://www.youtube.com/watch?v=woDYSE37_rI',\n",
       " 'https://www.youtube.com/watch?v=qEcWyjJ20k0',\n",
       " 'https://www.youtube.com/watch?v=prw1xtkdfhs',\n",
       " 'https://www.youtube.com/watch?v=wf0_nMaQ6tA',\n",
       " 'https://www.youtube.com/watch?v=LimytC6bNZ0',\n",
       " 'https://www.youtube.com/watch?v=jvGZkf87aCs',\n",
       " 'https://www.youtube.com/watch?v=IT__Nrr3PNI',\n",
       " 'https://www.youtube.com/watch?v=-Fmiqik4jh0',\n",
       " 'https://www.youtube.com/watch?v=0Jd7fJgFkPU',\n",
       " 'https://www.youtube.com/watch?v=vPktBJzi88g',\n",
       " 'https://www.youtube.com/watch?v=mi5OlUE3BLc',\n",
       " 'https://www.youtube.com/watch?v=vUw8dqDHcB4',\n",
       " 'https://www.youtube.com/watch?v=te2Be5GNNys',\n",
       " 'https://www.youtube.com/watch?v=EG7I6Bt_NZY',\n",
       " 'https://www.youtube.com/watch?v=ee0g-oz26TM',\n",
       " 'https://www.youtube.com/watch?v=SXCN2jnlIJI',\n",
       " 'https://www.youtube.com/watch?v=QNXQjq5RaFs',\n",
       " 'https://www.youtube.com/watch?v=-VZEcwBCNwM',\n",
       " 'https://www.youtube.com/watch?v=XMx9tqwzQS4',\n",
       " 'https://www.youtube.com/watch?v=ckjwkCbGIu8',\n",
       " 'https://www.youtube.com/watch?v=VBPTFlpv31k',\n",
       " 'https://www.youtube.com/watch?v=LpxzVPmWeAY&ab_channel=RichRoll',\n",
       " 'https://www.youtube.com/watch?v=KqXYKjkVf9Q',\n",
       " 'https://www.youtube.com/watch?v=wQ0GD9SpH_o',\n",
       " 'https://www.youtube.com/watch?v=U6-TaGK_d4o',\n",
       " 'https://www.youtube.com/watch?v=FKh8hjJNhWc',\n",
       " 'https://www.youtube.com/watch?v=BLyd37CvdRI',\n",
       " 'https://www.youtube.com/watch?v=yaWVflQolmM',\n",
       " 'https://www.youtube.com/watch?v=9kPq9ZPnnhg',\n",
       " 'https://www.youtube.com/watch?v=2tUiLxtrLxk',\n",
       " 'https://www.youtube.com/watch?v=gvPiF-zXur4',\n",
       " 'https://www.youtube.com/watch?v=ipQBP1wRFNM',\n",
       " 'https://www.youtube.com/watch?v=dfzFFQgG2zU',\n",
       " 'https://www.youtube.com/watch?v=-9wsK91D90s',\n",
       " 'https://www.youtube.com/watch?v=H_szemxPcTI',\n",
       " 'https://www.youtube.com/watch?v=_yZiNnQftxU',\n",
       " 'https://www.youtube.com/watch?v=gLJowTOkZVo',\n",
       " 'https://www.youtube.com/watch?v=YJWPowbCK_I',\n",
       " 'https://www.youtube.com/watch?v=HkOQy1Nxpis',\n",
       " 'https://www.youtube.com/watch?v=u9kyC-ObWWM',\n",
       " 'https://www.youtube.com/watch?v=G9p_Zyh-fmg',\n",
       " 'https://www.youtube.com/watch?v=tKIFHQShPnA',\n",
       " 'https://www.youtube.com/watch?v=wEZaPeMCLL4',\n",
       " 'https://www.youtube.com/watch?v=wUn1TbCINpk',\n",
       " 'https://www.youtube.com/watch?v=F15a-MH_Hzg',\n",
       " 'https://www.youtube.com/watch?v=jhLgzHQnAHU',\n",
       " 'https://www.youtube.com/watch?v=NffaKHVk-yE',\n",
       " 'https://www.youtube.com/watch?v=ZGLL77wYxe8',\n",
       " 'https://www.youtube.com/watch?v=bL5RzI5LyVc',\n",
       " 'https://www.youtube.com/watch?v=9iOGfAAticY',\n",
       " 'https://www.youtube.com/watch?v=-DVyjdw4t9I',\n",
       " 'https://www.youtube.com/watch?v=FbdNgLahTqc',\n",
       " 'https://www.youtube.com/watch?v=Hioy9UvH4yE',\n",
       " 'https://www.youtube.com/watch?v=mRZE-SJShkE',\n",
       " 'https://www.youtube.com/watch?v=e_TO4e5MlWg',\n",
       " 'https://www.youtube.com/watch?v=4KiO8GRgwDk',\n",
       " 'https://www.youtube.com/watch?v=nAMjv0NAESM',\n",
       " 'https://www.youtube.com/watch?v=vrCNpDigVxA',\n",
       " 'https://www.youtube.com/watch?v=ylQrshWAjuE',\n",
       " 'https://www.youtube.com/watch?v=boIidT4Nn-A',\n",
       " 'https://www.youtube.com/watch?v=VuKd0xTsjkw',\n",
       " 'https://www.youtube.com/watch?v=gzAQ7SklDxo',\n",
       " 'https://www.youtube.com/watch?v=urdNsyZBqhQ',\n",
       " 'https://www.youtube.com/watch?v=tApj7Q37P2k',\n",
       " 'https://www.youtube.com/watch?v=3b0gEURMMVk',\n",
       " 'https://www.youtube.com/watch?v=d5XTDmm0KUQ',\n",
       " 'https://www.youtube.com/watch?v=KBZP4rLk6bk',\n",
       " 'https://www.youtube.com/watch?v=AehL3u-H7FI',\n",
       " 'https://www.youtube.com/watch?v=uZN5xjoS6TU',\n",
       " 'https://www.youtube.com/watch?v=ZDni5sKbAII',\n",
       " 'https://www.youtube.com/watch?v=44iAPrQoYU8',\n",
       " 'https://www.youtube.com/watch?v=ke6KS8WuPUk',\n",
       " 'https://www.youtube.com/watch?v=4H_5J4qcij4',\n",
       " 'https://www.youtube.com/watch?v=zIIoNZkUYdo',\n",
       " 'https://www.youtube.com/watch?v=UYp5KoDc3mE',\n",
       " 'https://www.youtube.com/watch?v=UrKVi92v2SA',\n",
       " 'https://www.youtube.com/watch?v=-XwvfCTnseI',\n",
       " 'https://www.youtube.com/watch?v=dykz_vuzJh0',\n",
       " 'https://www.youtube.com/watch?v=tCRjz1fyOE4',\n",
       " 'https://www.youtube.com/watch?v=FUS6ceIvUnI',\n",
       " 'https://www.youtube.com/watch?v=EHlGktcfDZc',\n",
       " 'https://www.youtube.com/watch?v=grceJbuPUXI',\n",
       " 'https://www.youtube.com/watch?v=386s-y1aRRo',\n",
       " 'https://www.youtube.com/watch?v=IVI5i55NfN4',\n",
       " 'https://www.youtube.com/watch?v=cC1LFC0KFSw',\n",
       " 'https://www.youtube.com/watch?v=Aq9UPIXbtKI',\n",
       " 'https://www.youtube.com/watch?v=CzqONHtFiHQ',\n",
       " 'https://www.youtube.com/watch?v=yW4UhVG68JM',\n",
       " 'https://www.youtube.com/watch?v=j4PEu4sVD40',\n",
       " 'https://www.youtube.com/watch?v=LRYkH-fAVGE',\n",
       " 'https://www.youtube.com/watch?v=o0Bi-q89j5Y',\n",
       " 'https://www.youtube.com/watch?v=PNocQzhPyac',\n",
       " 'https://www.youtube.com/watch?v=Hz3RWxJck68',\n",
       " 'https://www.youtube.com/watch?v=Q24cpnHzx8I',\n",
       " 'https://www.youtube.com/watch?v=VcFNahUxd3k',\n",
       " 'https://www.youtube.com/watch?v=AmB5ja_zLN8',\n",
       " 'https://www.youtube.com/watch?v=Kv3dsPkTvhY',\n",
       " 'https://www.youtube.com/watch?v=UOEpe17nPhE',\n",
       " 'https://www.youtube.com/watch?v=qrX3fPA9eps',\n",
       " 'https://www.youtube.com/watch?v=Jpw_DbRqy5Q',\n",
       " 'https://www.youtube.com/watch?v=FR570m_YzNg',\n",
       " 'https://www.youtube.com/watch?v=ph3Eu8Qwhos',\n",
       " 'https://www.youtube.com/watch?v=kISlB3pjGRU',\n",
       " 'https://www.youtube.com/watch?v=r6f3OoHVkgU',\n",
       " 'https://www.youtube.com/watch?v=FNfbmh93DFo',\n",
       " 'https://www.youtube.com/watch?v=I1i1kXw8L4M',\n",
       " 'https://www.youtube.com/watch?v=z1RRgH2KSTA',\n",
       " 'https://www.youtube.com/watch?v=TqUAIrhzDP8',\n",
       " 'https://www.youtube.com/watch?v=ZIcQwDkcaWk',\n",
       " 'https://www.youtube.com/watch?v=CGAvsmokB4c',\n",
       " 'https://www.youtube.com/watch?v=d8nQ2dZBR48',\n",
       " 'https://www.youtube.com/watch?v=ViJXVHWTRz8',\n",
       " 'https://www.youtube.com/watch?v=2zPjz59OYgU',\n",
       " 'https://www.youtube.com/watch?v=ko7FGIi294U',\n",
       " 'https://www.youtube.com/watch?v=kSmFjdisM6Y',\n",
       " 'https://www.youtube.com/watch?v=ZcVRJSDCof0',\n",
       " 'https://www.youtube.com/watch?v=CXnW4hJDp54',\n",
       " 'https://www.youtube.com/watch?v=U5o9b2RVC2E',\n",
       " 'https://www.youtube.com/watch?v=nL-YwrjKqZU',\n",
       " 'https://www.youtube.com/watch?v=6SLVjWbER4M',\n",
       " 'https://www.youtube.com/watch?v=BivZV5f6nsA',\n",
       " 'https://www.youtube.com/watch?v=FcD9MpeWqEI',\n",
       " 'https://www.youtube.com/watch?v=USnqkUAr_3w',\n",
       " 'https://www.youtube.com/watch?v=gP2_QOCrVO4',\n",
       " 'https://www.youtube.com/watch?v=FfBhj5H93pI',\n",
       " 'https://www.youtube.com/watch?v=8I_NT8BB3Ng',\n",
       " 'https://www.youtube.com/watch?v=U_6AYX42gkU',\n",
       " 'https://www.youtube.com/watch?v=kNOX7a7-kwQ',\n",
       " 'https://www.youtube.com/watch?v=RGLgfGT032s',\n",
       " 'https://www.youtube.com/watch?v=KllCrlfLuzs',\n",
       " 'https://www.youtube.com/watch?v=zOT7UCaCJHY',\n",
       " 'https://www.youtube.com/watch?v=Lv6cft3pREs',\n",
       " 'https://www.youtube.com/watch?v=SgPVgPYnT_M',\n",
       " 'https://www.youtube.com/watch?v=mrNZUaaaEtI',\n",
       " 'https://www.youtube.com/watch?v=wdpiD1_kaUo',\n",
       " 'https://www.youtube.com/watch?v=qw79r3Jc7Eo',\n",
       " 'https://www.youtube.com/watch?v=UbF4p4yTfIY',\n",
       " 'https://www.youtube.com/watch?v=Q-zuTZuYeCg',\n",
       " 'https://www.youtube.com/watch?v=zAveV-BT8b0',\n",
       " 'https://www.youtube.com/watch?v=9PIOoJMMptA',\n",
       " 'https://www.youtube.com/watch?v=cC1HszE5Hcw',\n",
       " 'https://www.youtube.com/watch?v=7Grseeycor4',\n",
       " 'https://www.youtube.com/watch?v=CS5SnpWs1g4',\n",
       " 'https://www.youtube.com/watch?v=yR-GXnXw2wU',\n",
       " 'https://www.youtube.com/watch?v=YbJZnShMQAo',\n",
       " 'https://www.youtube.com/watch?v=cI2EHMy1lgs',\n",
       " 'https://www.youtube.com/watch?v=MNvjRzcfcx0',\n",
       " 'https://www.youtube.com/watch?v=hcPUoxTvw5g',\n",
       " 'https://www.youtube.com/watch?v=ifX_JnBfxTY',\n",
       " 'https://www.youtube.com/watch?v=GkZz2I6sK08',\n",
       " 'https://www.youtube.com/watch?v=oYQh1ZNkC70',\n",
       " 'https://www.youtube.com/watch?v=VYta88JUbBs',\n",
       " 'https://www.youtube.com/watch?v=I51DuprOb0o',\n",
       " 'https://www.youtube.com/watch?v=bseWFCHATzU',\n",
       " 'https://www.youtube.com/watch?v=7dPzh9PpLs8',\n",
       " 'https://www.youtube.com/watch?v=V8UeCXCjKZg',\n",
       " 'https://www.youtube.com/watch?v=sY8aFSY2zv4',\n",
       " 'https://www.youtube.com/watch?v=6K1feeFnKpQ',\n",
       " 'https://www.youtube.com/watch?v=H4gdLhOp3OE',\n",
       " 'https://www.youtube.com/watch?v=Dq4Apc2Xk7Q',\n",
       " 'https://www.youtube.com/watch?v=vRnkHzyyBc4',\n",
       " 'https://www.youtube.com/watch?v=ZecQ64l-gKM',\n",
       " 'https://www.youtube.com/watch?v=iw1obNGEt5E',\n",
       " 'https://www.youtube.com/watch?v=eF-E40pxxbI',\n",
       " 'https://www.youtube.com/watch?v=Cq6Yjwsu63U',\n",
       " 'https://www.youtube.com/watch?v=DAVw-yQRUjE',\n",
       " 'https://www.youtube.com/watch?v=Vmq87QcvSno',\n",
       " 'https://www.youtube.com/watch?v=3MoiMCWhGuw',\n",
       " 'https://www.youtube.com/watch?v=lJAx6M7RiwI',\n",
       " 'https://www.youtube.com/watch?v=2dlGt0FgmMo',\n",
       " 'https://www.youtube.com/watch?v=V6mZJRb9MZY',\n",
       " 'https://www.youtube.com/watch?v=cuD9uNFXnU8',\n",
       " 'https://www.youtube.com/watch?v=ffwbNfjNRTw',\n",
       " 'https://www.youtube.com/watch?v=k9JMjZKK05U',\n",
       " 'https://www.youtube.com/watch?v=yx7EjrIrOng',\n",
       " 'https://www.youtube.com/watch?v=pJnuqq7oAeY',\n",
       " 'https://www.youtube.com/watch?v=83ysf_GO2aw',\n",
       " 'https://www.youtube.com/watch?v=h2fUl0Ldxgg',\n",
       " 'https://www.youtube.com/watch?v=1YbcB6b4A2U',\n",
       " 'https://www.youtube.com/watch?v=aB8zcAttP1E',\n",
       " 'https://www.youtube.com/watch?v=p3lsYlod5OU',\n",
       " 'https://www.youtube.com/watch?v=36_rM7wpN5A',\n",
       " 'https://www.youtube.com/watch?v=3b0bYe36KNE',\n",
       " 'https://www.youtube.com/watch?v=s3OLTXitJ0k',\n",
       " 'https://www.youtube.com/watch?v=EwueqdgIvq4',\n",
       " 'https://www.youtube.com/watch?v=RBShCX3-BtQ',\n",
       " 'https://www.youtube.com/watch?v=_vSymiIrKP8',\n",
       " 'https://www.youtube.com/watch?v=1o343YfhaYU',\n",
       " 'https://www.youtube.com/watch?v=4_ZJ8YDOX6g',\n",
       " 'https://www.youtube.com/watch?v=WSVo-qvu1GQ',\n",
       " 'https://www.youtube.com/watch?v=5c4cv7rVlE8',\n",
       " 'https://www.youtube.com/watch?v=Tnr4EyTegcs',\n",
       " 'https://www.youtube.com/watch?v=EE1R8FYUJm0',\n",
       " 'https://www.youtube.com/watch?v=Ncpp6eRgFUY',\n",
       " 'https://www.youtube.com/watch?v=r4iO0GpgnlQ',\n",
       " 'https://www.youtube.com/watch?v=EWU5mt0DFDc']"
      ]
     },
     "execution_count": 20,
     "metadata": {},
     "output_type": "execute_result"
    }
   ],
   "source": [
    "urls"
   ]
  },
  {
   "cell_type": "code",
   "execution_count": 21,
   "metadata": {},
   "outputs": [],
   "source": [
    "# !wget https://gist.githubusercontent.com/huseinzol05/98974ae8c6c7a65d4bc0af9f5003786a/raw/5aa5257608b61e8fcc828e99fbd070d5ca7358e3/mp.py"
   ]
  },
  {
   "cell_type": "code",
   "execution_count": 22,
   "metadata": {},
   "outputs": [],
   "source": [
    "import mp"
   ]
  },
  {
   "cell_type": "code",
   "execution_count": 23,
   "metadata": {},
   "outputs": [],
   "source": [
    "def loop(rows):\n",
    "    urls, _ = rows\n",
    "    with youtube_dl.YoutubeDL(ydl_opts) as ydl:\n",
    "        for url in tqdm(urls):\n",
    "            try:\n",
    "                info = ydl.extract_info(url, download=False)\n",
    "                filename = ydl.prepare_filename(info).replace('.m4a', '.mp3')\n",
    "                if os.path.exists(filename):\n",
    "                    print(f'{filename} exists')\n",
    "                    continue\n",
    "                ydl.download([url])\n",
    "            except Exception as e:\n",
    "                print(url, e)"
   ]
  },
  {
   "cell_type": "code",
   "execution_count": null,
   "metadata": {
    "scrolled": false
   },
   "outputs": [
    {
     "name": "stderr",
     "output_type": "stream",
     "text": [
      "  0%|                                                                                                            | 0/140 [00:00<?, ?it/s]"
     ]
    },
    {
     "name": "stdout",
     "output_type": "stream",
     "text": [
      "                                                                         \r"
     ]
    },
    {
     "name": "stderr",
     "output_type": "stream",
     "text": [
      "  1%|▋                                                                                                 | 1/140 [01:01<2:21:24, 61.04s/it]ERROR: [youtube] W8ASnyzZ534: Private video. Sign in if you've been granted access to this video\n"
     ]
    },
    {
     "name": "stdout",
     "output_type": "stream",
     "text": [
      "https://www.youtube.com/watch?v=W8ASnyzZ534 ERROR: [youtube] W8ASnyzZ534: Private video. Sign in if you've been granted access to this video\n"
     ]
    },
    {
     "name": "stderr",
     "output_type": "stream",
     "text": [
      "  1%|█▍                                                                                                  | 2/140 [01:01<58:12, 25.31s/it]"
     ]
    },
    {
     "name": "stdout",
     "output_type": "stream",
     "text": [
      "[download]  23.3% of ~  90.00MiB at    6.02MiB/s ETA 00:06 (frag 2/9))   "
     ]
    },
    {
     "name": "stderr",
     "output_type": "stream",
     "text": [
      "  1%|▋                                                                                                 | 1/140 [01:05<2:30:36, 65.01s/it]"
     ]
    },
    {
     "name": "stdout",
     "output_type": "stream",
     "text": [
      "                                                                         \r"
     ]
    },
    {
     "name": "stderr",
     "output_type": "stream",
     "text": [
      "  1%|▋                                                                                                | 1/140 [01:41<3:54:00, 101.01s/it]ERROR: [youtube] TP5W2MG8Jjs: Private video. Sign in if you've been granted access to this video\n"
     ]
    },
    {
     "name": "stdout",
     "output_type": "stream",
     "text": [
      "https://www.youtube.com/watch?v=TP5W2MG8Jjs ERROR: [youtube] TP5W2MG8Jjs: Private video. Sign in if you've been granted access to this video\n"
     ]
    },
    {
     "name": "stderr",
     "output_type": "stream",
     "text": [
      "  1%|█▍                                                                                                | 2/140 [01:41<1:36:03, 41.76s/it]"
     ]
    },
    {
     "name": "stdout",
     "output_type": "stream",
     "text": [
      "                                                                        \r"
     ]
    },
    {
     "name": "stderr",
     "output_type": "stream",
     "text": [
      "  1%|▋                                                                                                | 1/140 [01:53<4:23:32, 113.76s/it]"
     ]
    },
    {
     "name": "stdout",
     "output_type": "stream",
     "text": [
      "[download] 100.0% of ~ 108.60MiB at   11.16MiB/s ETA 00:00 (frag 11/11)  "
     ]
    },
    {
     "name": "stderr",
     "output_type": "stream",
     "text": [
      "  2%|██                                                                                                | 3/140 [02:06<1:39:40, 43.65s/it]"
     ]
    },
    {
     "name": "stdout",
     "output_type": "stream",
     "text": [
      "[download]   4.7% of ~ 170.00MiB at    7.55MiB/s ETA 00:21 (frag 0/17)   "
     ]
    },
    {
     "name": "stderr",
     "output_type": "stream",
     "text": [
      "  2%|██                                                                                                | 3/140 [02:09<1:21:14, 35.58s/it]"
     ]
    },
    {
     "name": "stdout",
     "output_type": "stream",
     "text": [
      "[download]  35.3% of ~ 170.00MiB at    7.71MiB/s ETA 00:15 (frag 6/17)  "
     ]
    },
    {
     "name": "stderr",
     "output_type": "stream",
     "text": [
      "  1%|▋                                                                                                | 1/140 [02:16<5:16:50, 136.76s/it]"
     ]
    },
    {
     "name": "stdout",
     "output_type": "stream",
     "text": [
      "[download]  36.5% of ~ 170.00MiB at    6.64MiB/s ETA 00:15 (frag 6/17)"
     ]
    },
    {
     "name": "stderr",
     "output_type": "stream",
     "text": [
      "  1%|█▍                                                                                                | 2/140 [02:17<2:40:47, 69.91s/it]"
     ]
    },
    {
     "name": "stdout",
     "output_type": "stream",
     "text": [
      "[download]  11.7% of ~  90.00MiB at    2.61MiB/s ETA 00:06 (frag 1/9))   "
     ]
    },
    {
     "name": "stderr",
     "output_type": "stream",
     "text": [
      "  1%|▋                                                                                                | 1/140 [02:19<5:22:15, 139.11s/it]"
     ]
    },
    {
     "name": "stdout",
     "output_type": "stream",
     "text": [
      "[download]  11.1% of ~ 180.00MiB at    4.26MiB/s ETA 00:23 (frag 2/18)  "
     ]
    },
    {
     "name": "stderr",
     "output_type": "stream",
     "text": [
      "  1%|█▍                                                                                                | 2/140 [02:21<2:45:17, 71.87s/it]"
     ]
    },
    {
     "name": "stdout",
     "output_type": "stream",
     "text": [
      "[download]  67.5% of ~  80.00MiB at   12.17MiB/s ETA 00:05 (frag 5/8)))"
     ]
    },
    {
     "name": "stderr",
     "output_type": "stream",
     "text": [
      "  2%|██                                                                                                | 3/140 [02:32<1:40:20, 43.95s/it]"
     ]
    },
    {
     "name": "stdout",
     "output_type": "stream",
     "text": [
      "                                                                       \r"
     ]
    },
    {
     "name": "stderr",
     "output_type": "stream",
     "text": [
      "  3%|██▊                                                                                               | 4/140 [02:54<1:20:18, 35.43s/it]"
     ]
    },
    {
     "name": "stdout",
     "output_type": "stream",
     "text": [
      "[download]  36.4% of ~ 110.00MiB at  102.46KiB/s ETA 00:07 (frag 4/11)   "
     ]
    },
    {
     "name": "stderr",
     "output_type": "stream",
     "text": [
      "IOPub message rate exceeded.\n",
      "The notebook server will temporarily stop sending output\n",
      "to the client in order to avoid crashing it.\n",
      "To change this limit, set the config variable\n",
      "`--NotebookApp.iopub_msg_rate_limit`.\n",
      "\n",
      "Current values:\n",
      "NotebookApp.iopub_msg_rate_limit=1000.0 (msgs/sec)\n",
      "NotebookApp.rate_limit_window=3.0 (secs)\n",
      "\n"
     ]
    },
    {
     "name": "stdout",
     "output_type": "stream",
     "text": [
      "[download]  74.5% of ~ 110.00MiB at    7.06MiB/s ETA 00:03 (frag 8/11)"
     ]
    },
    {
     "name": "stderr",
     "output_type": "stream",
     "text": [
      "  3%|██▊                                                                                               | 4/140 [03:06<1:39:26, 43.87s/it]"
     ]
    },
    {
     "name": "stdout",
     "output_type": "stream",
     "text": [
      "                                                                         \r"
     ]
    },
    {
     "name": "stderr",
     "output_type": "stream",
     "text": [
      "  1%|█▍                                                                                                | 2/140 [03:18<3:31:47, 92.08s/it]"
     ]
    },
    {
     "name": "stdout",
     "output_type": "stream",
     "text": [
      "                                                                        \r"
     ]
    },
    {
     "name": "stderr",
     "output_type": "stream",
     "text": [
      "  1%|█▍                                                                                               | 2/140 [03:24<3:50:36, 100.26s/it]ERROR: [youtube] NpOxxzOhZyg: Private video. Sign in if you've been granted access to this video\n"
     ]
    },
    {
     "name": "stdout",
     "output_type": "stream",
     "text": [
      "https://www.youtube.com/watch?v=NpOxxzOhZyg ERROR: [youtube] NpOxxzOhZyg: Private video. Sign in if you've been granted access to this video\n"
     ]
    },
    {
     "name": "stderr",
     "output_type": "stream",
     "text": [
      "  2%|██                                                                                                | 3/140 [03:24<2:04:46, 54.65s/it]"
     ]
    },
    {
     "name": "stdout",
     "output_type": "stream",
     "text": [
      "                                                                        \r"
     ]
    },
    {
     "name": "stderr",
     "output_type": "stream",
     "text": [
      "  1%|█▍                                                                                               | 2/140 [03:31<3:51:05, 100.47s/it]"
     ]
    },
    {
     "name": "stdout",
     "output_type": "stream",
     "text": [
      "[download]  28.0% of ~ 130.00MiB at    1.97MiB/s ETA 00:24 (frag 3/13)   "
     ]
    },
    {
     "name": "stderr",
     "output_type": "stream",
     "text": [
      "  2%|██                                                                                                | 3/140 [03:42<2:19:59, 61.31s/it]"
     ]
    },
    {
     "name": "stdout",
     "output_type": "stream",
     "text": [
      "[download]  54.3% of ~  70.00MiB at    6.69MiB/s ETA 00:06 (frag 3/7))  "
     ]
    },
    {
     "name": "stderr",
     "output_type": "stream",
     "text": [
      "  3%|██▊                                                                                               | 4/140 [03:51<1:39:06, 43.72s/it]"
     ]
    },
    {
     "name": "stdout",
     "output_type": "stream",
     "text": [
      "                                                                         \r"
     ]
    },
    {
     "name": "stderr",
     "output_type": "stream",
     "text": [
      "  4%|███▌                                                                                              | 5/140 [04:23<2:03:05, 54.71s/it]"
     ]
    },
    {
     "name": "stdout",
     "output_type": "stream",
     "text": [
      "[download]  66.8% of ~ 240.00MiB at    1.32MiB/s ETA 00:04 (frag 16/24)  "
     ]
    },
    {
     "name": "stderr",
     "output_type": "stream",
     "text": [
      "  2%|██                                                                                               | 3/140 [04:35<3:50:38, 101.01s/it]"
     ]
    },
    {
     "name": "stdout",
     "output_type": "stream",
     "text": [
      "[download]  68.3% of ~ 240.00MiB at   10.47MiB/s ETA 00:04 (frag 16/24)"
     ]
    },
    {
     "name": "stderr",
     "output_type": "stream",
     "text": [
      "ERROR: [youtube] yXZn2DkrXig: Private video. Sign in if you've been granted access to this video\n"
     ]
    },
    {
     "name": "stdout",
     "output_type": "stream",
     "text": [
      "https://www.youtube.com/watch?v=yXZn2DkrXig ERROR: [youtube] yXZn2DkrXig: Private video. Sign in if you've been granted access to this video\n"
     ]
    },
    {
     "name": "stderr",
     "output_type": "stream",
     "text": [
      "  3%|██▊                                                                                               | 4/140 [04:35<2:18:50, 61.25s/it]"
     ]
    },
    {
     "name": "stdout",
     "output_type": "stream",
     "text": [
      "[download]  80.0% of ~ 240.00MiB at    8.28MiB/s ETA 00:02 (frag 19/24)"
     ]
    },
    {
     "name": "stderr",
     "output_type": "stream",
     "text": [
      "  4%|███▌                                                                                              | 5/140 [04:37<2:16:54, 60.85s/it]"
     ]
    },
    {
     "name": "stdout",
     "output_type": "stream",
     "text": [
      "[download]  83.3% of ~ 240.00MiB at   16.37MiB/s ETA 00:02 (frag 19/24)  "
     ]
    },
    {
     "name": "stderr",
     "output_type": "stream",
     "text": [
      "  3%|██▊                                                                                               | 4/140 [04:37<3:14:39, 85.88s/it]"
     ]
    },
    {
     "name": "stdout",
     "output_type": "stream",
     "text": [
      "[download]  30.0% of ~ 140.00MiB at    7.10MiB/s ETA 00:07 (frag 4/14)   "
     ]
    },
    {
     "name": "stderr",
     "output_type": "stream",
     "text": [
      "  4%|███▌                                                                                              | 5/140 [04:40<2:06:02, 56.02s/it]"
     ]
    },
    {
     "name": "stdout",
     "output_type": "stream",
     "text": [
      "[download]  36.4% of ~ 140.00MiB at    4.44MiB/s ETA 00:08 (frag 5/14)  "
     ]
    },
    {
     "name": "stderr",
     "output_type": "stream",
     "text": [
      "  3%|██▊                                                                                               | 4/140 [04:44<2:19:14, 61.43s/it]"
     ]
    },
    {
     "name": "stdout",
     "output_type": "stream",
     "text": [
      "[download]  75.3% of ~  80.00MiB at    2.17MiB/s ETA 00:03 (frag 6/8)   "
     ]
    },
    {
     "name": "stderr",
     "output_type": "stream",
     "text": [
      "  4%|███▌                                                                                              | 5/140 [04:57<1:56:15, 51.67s/it]"
     ]
    },
    {
     "name": "stdout",
     "output_type": "stream",
     "text": [
      "                                                                        \r"
     ]
    },
    {
     "name": "stderr",
     "output_type": "stream",
     "text": [
      "  2%|██                                                                                               | 3/140 [05:32<4:10:40, 109.78s/it]"
     ]
    },
    {
     "name": "stdout",
     "output_type": "stream",
     "text": [
      "                                                                     \r"
     ]
    },
    {
     "name": "stderr",
     "output_type": "stream",
     "text": [
      "  4%|████▏                                                                                             | 6/140 [05:44<2:11:00, 58.66s/it]"
     ]
    },
    {
     "name": "stdout",
     "output_type": "stream",
     "text": [
      "[download]  18.0% of ~ 100.00MiB at    9.59MiB/s ETA 00:09 (frag 1/10)   "
     ]
    },
    {
     "name": "stderr",
     "output_type": "stream",
     "text": [
      "  4%|███▌                                                                                              | 5/140 [05:47<2:19:47, 62.13s/it]"
     ]
    },
    {
     "name": "stdout",
     "output_type": "stream",
     "text": [
      "[download]  62.0% of ~ 100.00MiB at    5.90MiB/s ETA 00:05 (frag 6/10)   "
     ]
    },
    {
     "name": "stderr",
     "output_type": "stream",
     "text": [
      "  4%|████▏                                                                                             | 6/140 [05:54<1:59:13, 53.38s/it]"
     ]
    },
    {
     "name": "stdout",
     "output_type": "stream",
     "text": [
      "[download]  25.6% of ~ 160.00MiB at    1.90MiB/s ETA 00:33 (frag 4/16)  "
     ]
    },
    {
     "name": "stderr",
     "output_type": "stream",
     "text": [
      "  3%|██▊                                                                                               | 4/140 [06:01<2:56:04, 77.68s/it]"
     ]
    },
    {
     "name": "stdout",
     "output_type": "stream",
     "text": [
      "[download]  27.5% of ~ 160.00MiB at    3.09MiB/s ETA 00:32 (frag 4/16)"
     ]
    },
    {
     "name": "stderr",
     "output_type": "stream",
     "text": [
      "ERROR: [youtube] cP0D2_jhqPU: Private video. Sign in if you've been granted access to this video\n"
     ]
    },
    {
     "name": "stdout",
     "output_type": "stream",
     "text": [
      "https://www.youtube.com/watch?v=cP0D2_jhqPU ERROR: [youtube] cP0D2_jhqPU: Private video. Sign in if you've been granted access to this video\n"
     ]
    },
    {
     "name": "stderr",
     "output_type": "stream",
     "text": [
      "  4%|███▌                                                                                              | 5/140 [06:01<1:52:12, 49.87s/it]"
     ]
    },
    {
     "name": "stdout",
     "output_type": "stream",
     "text": [
      "[download]  77.5% of ~ 160.00MiB at    9.46MiB/s ETA 00:07 (frag 12/16) "
     ]
    },
    {
     "name": "stderr",
     "output_type": "stream",
     "text": [
      "  4%|███▌                                                                                              | 5/140 [06:15<2:49:40, 75.41s/it]"
     ]
    },
    {
     "name": "stdout",
     "output_type": "stream",
     "text": [
      "                                                                        \r"
     ]
    },
    {
     "name": "stderr",
     "output_type": "stream",
     "text": [
      "  4%|████▏                                                                                             | 6/140 [06:32<2:57:24, 79.43s/it]"
     ]
    },
    {
     "name": "stdout",
     "output_type": "stream",
     "text": [
      "[download]  17.1% of ~  70.00MiB at    8.08MiB/s ETA 00:06 (frag 1/7)   "
     ]
    },
    {
     "name": "stderr",
     "output_type": "stream",
     "text": [
      "  4%|████▏                                                                                             | 6/140 [06:39<1:41:56, 45.65s/it]"
     ]
    },
    {
     "name": "stdout",
     "output_type": "stream",
     "text": [
      "                                                                        \r"
     ]
    },
    {
     "name": "stderr",
     "output_type": "stream",
     "text": [
      "  5%|████▉                                                                                             | 7/140 [06:48<1:59:08, 53.75s/it]"
     ]
    },
    {
     "name": "stdout",
     "output_type": "stream",
     "text": [
      "                                                                         \r"
     ]
    },
    {
     "name": "stderr",
     "output_type": "stream",
     "text": [
      "  5%|████▉                                                                                             | 7/140 [06:59<2:21:54, 64.02s/it]"
     ]
    },
    {
     "name": "stdout",
     "output_type": "stream",
     "text": [
      "[download]  49.1% of ~ 110.00MiB at   15.56MiB/s ETA 00:02 (frag 5/11)   "
     ]
    },
    {
     "name": "stderr",
     "output_type": "stream",
     "text": [
      "  4%|████▏                                                                                             | 6/140 [07:03<2:27:25, 66.01s/it]"
     ]
    },
    {
     "name": "stdout",
     "output_type": "stream",
     "text": [
      "                                                                         \r"
     ]
    },
    {
     "name": "stderr",
     "output_type": "stream",
     "text": [
      "  5%|████▉                                                                                             | 7/140 [07:23<1:40:07, 45.17s/it]ERROR: [youtube] fTPQ9KR5j8k: Private video. Sign in if you've been granted access to this video\n"
     ]
    },
    {
     "name": "stdout",
     "output_type": "stream",
     "text": [
      "https://www.youtube.com/watch?v=fTPQ9KR5j8k ERROR: [youtube] fTPQ9KR5j8k: Private video. Sign in if you've been granted access to this video\n"
     ]
    },
    {
     "name": "stderr",
     "output_type": "stream",
     "text": [
      "  6%|█████▌                                                                                            | 8/140 [07:23<1:08:01, 30.92s/it]"
     ]
    },
    {
     "name": "stdout",
     "output_type": "stream",
     "text": [
      "[download]  61.8% of ~ 110.00MiB at   16.32MiB/s ETA 00:03 (frag 6/11)   "
     ]
    },
    {
     "name": "stderr",
     "output_type": "stream",
     "text": [
      "  5%|████▉                                                                                             | 7/140 [07:30<2:40:50, 72.56s/it]"
     ]
    },
    {
     "name": "stdout",
     "output_type": "stream",
     "text": [
      "                                                                        \r"
     ]
    },
    {
     "name": "stderr",
     "output_type": "stream",
     "text": [
      "  6%|█████▌                                                                                            | 8/140 [07:54<2:06:43, 57.61s/it]"
     ]
    },
    {
     "name": "stdout",
     "output_type": "stream",
     "text": [
      "                                                                     \r"
     ]
    },
    {
     "name": "stderr",
     "output_type": "stream",
     "text": [
      "  6%|█████▌                                                                                            | 8/140 [07:59<2:08:52, 58.58s/it]"
     ]
    },
    {
     "name": "stdout",
     "output_type": "stream",
     "text": [
      "[download]  56.7% of ~  60.00MiB at   14.07MiB/s ETA 00:01 (frag 3/6)   "
     ]
    },
    {
     "name": "stderr",
     "output_type": "stream",
     "text": [
      "  4%|████▏                                                                                             | 6/140 [08:03<3:14:18, 87.00s/it]"
     ]
    },
    {
     "name": "stdout",
     "output_type": "stream",
     "text": [
      "                                                                         \r"
     ]
    },
    {
     "name": "stderr",
     "output_type": "stream",
     "text": [
      "  6%|██████▎                                                                                           | 9/140 [08:16<1:41:37, 46.54s/it]"
     ]
    },
    {
     "name": "stdout",
     "output_type": "stream",
     "text": [
      "[download]   3.6% of ~ 110.00MiB at    6.59MiB/s ETA 00:16 (frag 0/11)   "
     ]
    },
    {
     "name": "stderr",
     "output_type": "stream",
     "text": [
      "  5%|████▉                                                                                             | 7/140 [08:18<2:32:41, 68.88s/it]"
     ]
    },
    {
     "name": "stdout",
     "output_type": "stream",
     "text": [
      "[download]  63.6% of ~ 110.00MiB at    6.45MiB/s ETA 00:10 (frag 7/11)   "
     ]
    },
    {
     "name": "stderr",
     "output_type": "stream",
     "text": [
      "  6%|██████▎                                                                                           | 9/140 [08:37<1:53:34, 52.02s/it]"
     ]
    },
    {
     "name": "stdout",
     "output_type": "stream",
     "text": [
      "[download]  65.5% of ~ 110.00MiB at    5.48MiB/s ETA 00:09 (frag 7/11)"
     ]
    },
    {
     "name": "stderr",
     "output_type": "stream",
     "text": [
      "ERROR: [youtube] 6Zo_FTUNDBI: Private video. Sign in if you've been granted access to this video\n"
     ]
    },
    {
     "name": "stdout",
     "output_type": "stream",
     "text": [
      "https://www.youtube.com/watch?v=6Zo_FTUNDBI ERROR: [youtube] 6Zo_FTUNDBI: Private video. Sign in if you've been granted access to this video\n"
     ]
    },
    {
     "name": "stderr",
     "output_type": "stream",
     "text": [
      "  7%|██████▉                                                                                          | 10/140 [08:37<1:18:09, 36.08s/it]"
     ]
    },
    {
     "name": "stdout",
     "output_type": "stream",
     "text": [
      "[download]  42.5% of ~  80.00MiB at   15.68MiB/s ETA 00:04 (frag 3/8))  "
     ]
    },
    {
     "name": "stderr",
     "output_type": "stream",
     "text": [
      "  6%|██████▎                                                                                           | 9/140 [08:42<1:40:07, 45.86s/it]"
     ]
    },
    {
     "name": "stdout",
     "output_type": "stream",
     "text": [
      "                                                                         \r"
     ]
    },
    {
     "name": "stderr",
     "output_type": "stream",
     "text": [
      "  6%|██████▎                                                                                           | 9/140 [08:54<2:08:03, 58.65s/it]"
     ]
    },
    {
     "name": "stdout",
     "output_type": "stream",
     "text": [
      "[download]   5.0% of ~  80.00MiB at   10.24MiB/s ETA 00:07 (frag 0/8)   "
     ]
    },
    {
     "name": "stderr",
     "output_type": "stream",
     "text": [
      "  8%|███████▌                                                                                         | 11/140 [10:30<1:21:45, 38.03s/it]ERROR: [youtube] gzAQ7SklDxo: Private video. Sign in if you've been granted access to this video\n"
     ]
    },
    {
     "name": "stdout",
     "output_type": "stream",
     "text": [
      "https://www.youtube.com/watch?v=gzAQ7SklDxo ERROR: [youtube] gzAQ7SklDxo: Private video. Sign in if you've been granted access to this video\n"
     ]
    },
    {
     "name": "stderr",
     "output_type": "stream",
     "text": [
      "  9%|████████▍                                                                                          | 12/140 [10:31<56:43, 26.59s/it]"
     ]
    },
    {
     "name": "stdout",
     "output_type": "stream",
     "text": [
      "                                                                         \r"
     ]
    },
    {
     "name": "stderr",
     "output_type": "stream",
     "text": [
      "  6%|██████▎                                                                                           | 9/140 [10:45<2:37:14, 72.02s/it]"
     ]
    },
    {
     "name": "stdout",
     "output_type": "stream",
     "text": [
      "[download]  71.5% of ~ 140.00MiB at    1.17MiB/s ETA 00:03 (frag 10/14)  "
     ]
    },
    {
     "name": "stderr",
     "output_type": "stream",
     "text": [
      "  9%|████████▎                                                                                        | 12/140 [10:55<1:54:00, 53.44s/it]"
     ]
    },
    {
     "name": "stdout",
     "output_type": "stream",
     "text": [
      "                                                                        \r"
     ]
    },
    {
     "name": "stderr",
     "output_type": "stream",
     "text": [
      "  8%|███████▌                                                                                         | 11/140 [11:10<2:08:44, 59.88s/it]"
     ]
    },
    {
     "name": "stdout",
     "output_type": "stream",
     "text": [
      "                                                                         \r"
     ]
    },
    {
     "name": "stderr",
     "output_type": "stream",
     "text": [
      "  9%|█████████                                                                                        | 13/140 [11:38<1:46:30, 50.32s/it]"
     ]
    },
    {
     "name": "stdout",
     "output_type": "stream",
     "text": [
      "[download]  30.0% of ~ 100.00MiB at   13.40MiB/s ETA 00:07 (frag 2/10)   "
     ]
    },
    {
     "name": "stderr",
     "output_type": "stream",
     "text": [
      "  8%|███████▌                                                                                         | 11/140 [11:42<2:40:47, 74.79s/it]"
     ]
    },
    {
     "name": "stdout",
     "output_type": "stream",
     "text": [
      "[download]  46.7% of ~  60.00MiB at   14.28MiB/s ETA 00:04 (frag 2/6))"
     ]
    },
    {
     "name": "stderr",
     "output_type": "stream",
     "text": [
      "ERROR: [youtube] ofj3EHrK96U: Private video. Sign in if you've been granted access to this video\n"
     ]
    },
    {
     "name": "stdout",
     "output_type": "stream",
     "text": [
      "https://www.youtube.com/watch?v=ofj3EHrK96U ERROR: [youtube] ofj3EHrK96U: Private video. Sign in if you've been granted access to this video\n"
     ]
    },
    {
     "name": "stderr",
     "output_type": "stream",
     "text": [
      "  9%|████████▎                                                                                        | 12/140 [11:43<1:51:19, 52.18s/it]"
     ]
    },
    {
     "name": "stdout",
     "output_type": "stream",
     "text": [
      "[download]  62.0% of ~ 100.00MiB at    6.97MiB/s ETA 00:04 (frag 6/10)"
     ]
    },
    {
     "name": "stderr",
     "output_type": "stream",
     "text": [
      "  8%|███████▌                                                                                         | 11/140 [11:47<2:45:52, 77.15s/it]"
     ]
    },
    {
     "name": "stdout",
     "output_type": "stream",
     "text": [
      "                                                                        \r"
     ]
    },
    {
     "name": "stderr",
     "output_type": "stream",
     "text": [
      "  9%|█████████                                                                                        | 13/140 [12:13<1:36:00, 45.36s/it]"
     ]
    },
    {
     "name": "stdout",
     "output_type": "stream",
     "text": [
      "[download]  58.3% of ~ 120.00MiB at  138.58KiB/s ETA 00:04 (frag 7/12)   "
     ]
    },
    {
     "name": "stderr",
     "output_type": "stream",
     "text": [
      " 10%|█████████▋                                                                                       | 14/140 [12:21<1:41:16, 48.23s/it]"
     ]
    },
    {
     "name": "stdout",
     "output_type": "stream",
     "text": [
      "[download]  58.7% of ~ 120.00MiB at    2.59MiB/s ETA 00:04 (frag 7/12)"
     ]
    },
    {
     "name": "stderr",
     "output_type": "stream",
     "text": [
      "  7%|██████▉                                                                                          | 10/140 [12:21<2:52:02, 79.41s/it]"
     ]
    },
    {
     "name": "stdout",
     "output_type": "stream",
     "text": [
      "[download]   2.2% of ~  90.00MiB at    2.16MiB/s ETA 00:40 (frag 0/9)2) "
     ]
    },
    {
     "name": "stderr",
     "output_type": "stream",
     "text": [
      " 11%|██████████▍                                                                                      | 15/140 [12:24<1:12:00, 34.56s/it]"
     ]
    },
    {
     "name": "stdout",
     "output_type": "stream",
     "text": [
      "                                                                        \r"
     ]
    },
    {
     "name": "stderr",
     "output_type": "stream",
     "text": [
      "  8%|███████▌                                                                                         | 11/140 [12:50<2:36:30, 72.79s/it]"
     ]
    },
    {
     "name": "stdout",
     "output_type": "stream",
     "text": [
      "[download]   0.6% of ~  90.00MiB at    3.66MiB/s ETA 00:24 (frag 0/9)   "
     ]
    },
    {
     "name": "stderr",
     "output_type": "stream",
     "text": [
      " 10%|█████████▋                                                                                       | 14/140 [12:52<1:31:19, 43.49s/it]"
     ]
    },
    {
     "name": "stdout",
     "output_type": "stream",
     "text": [
      "[download]  55.8% of ~  90.00MiB at    2.92MiB/s ETA 00:02 (frag 5/9)   "
     ]
    },
    {
     "name": "stderr",
     "output_type": "stream",
     "text": [
      "  9%|████████▎                                                                                        | 12/140 [12:58<2:40:30, 75.24s/it]"
     ]
    },
    {
     "name": "stdout",
     "output_type": "stream",
     "text": [
      "                                                                         \r"
     ]
    },
    {
     "name": "stderr",
     "output_type": "stream",
     "text": [
      "  9%|████████▎                                                                                        | 12/140 [13:33<3:01:24, 85.03s/it]"
     ]
    },
    {
     "name": "stdout",
     "output_type": "stream",
     "text": [
      "[download]  62.5% of ~  80.00MiB at    6.43MiB/s ETA 00:04 (frag 5/8)   "
     ]
    },
    {
     "name": "stderr",
     "output_type": "stream",
     "text": [
      " 11%|███████████                                                                                      | 16/140 [13:42<1:38:45, 47.79s/it]"
     ]
    },
    {
     "name": "stdout",
     "output_type": "stream",
     "text": [
      "[download]  65.0% of ~  80.00MiB at    5.88MiB/s ETA 00:04 (frag 5/8)"
     ]
    },
    {
     "name": "stderr",
     "output_type": "stream",
     "text": [
      "ERROR: [youtube] g4OJooMbgRE: Private video. Sign in if you've been granted access to this video\n"
     ]
    },
    {
     "name": "stdout",
     "output_type": "stream",
     "text": [
      "https://www.youtube.com/watch?v=g4OJooMbgRE ERROR: [youtube] g4OJooMbgRE: Private video. Sign in if you've been granted access to this video\n"
     ]
    },
    {
     "name": "stderr",
     "output_type": "stream",
     "text": [
      " 12%|███████████▊                                                                                     | 17/140 [13:43<1:08:48, 33.56s/it]"
     ]
    },
    {
     "name": "stdout",
     "output_type": "stream",
     "text": [
      "[download]  67.5% of ~  80.00MiB at    6.34MiB/s ETA 00:04 (frag 5/8)"
     ]
    },
    {
     "name": "stderr",
     "output_type": "stream",
     "text": [
      "ERROR: [youtube] fy29eXpK0TM: Private video. Sign in if you've been granted access to this video\n"
     ]
    },
    {
     "name": "stdout",
     "output_type": "stream",
     "text": [
      "https://www.youtube.com/watch?v=fy29eXpK0TM ERROR: [youtube] fy29eXpK0TM: Private video. Sign in if you've been granted access to this video\n"
     ]
    },
    {
     "name": "stderr",
     "output_type": "stream",
     "text": [
      " 13%|████████████▋                                                                                      | 18/140 [13:43<47:58, 23.59s/it]"
     ]
    },
    {
     "name": "stdout",
     "output_type": "stream",
     "text": [
      "[download]  46.2% of ~ 130.00MiB at   22.35MiB/s ETA 00:04 (frag 5/13)   "
     ]
    },
    {
     "name": "stderr",
     "output_type": "stream",
     "text": [
      " 10%|█████████▋                                                                                       | 14/140 [13:50<2:13:59, 63.81s/it]"
     ]
    },
    {
     "name": "stdout",
     "output_type": "stream",
     "text": [
      "[download]  53.8% of ~ 130.00MiB at   20.78MiB/s ETA 00:04 (frag 6/13)"
     ]
    },
    {
     "name": "stderr",
     "output_type": "stream",
     "text": [
      "  9%|████████▎                                                                                        | 12/140 [13:51<2:27:33, 69.17s/it]"
     ]
    },
    {
     "name": "stdout",
     "output_type": "stream",
     "text": [
      "[download]  20.0% of ~  50.00MiB at   12.69MiB/s ETA 00:03 (frag 0/5))"
     ]
    },
    {
     "name": "stderr",
     "output_type": "stream",
     "text": [
      " 11%|██████████▍                                                                                      | 15/140 [13:52<1:41:25, 48.69s/it]"
     ]
    },
    {
     "name": "stdout",
     "output_type": "stream",
     "text": [
      "[download]  64.3% of ~ 140.00MiB at    3.43MiB/s ETA 00:08 (frag 9/14))  "
     ]
    },
    {
     "name": "stderr",
     "output_type": "stream",
     "text": [
      "  9%|█████████                                                                                        | 13/140 [14:11<2:38:21, 74.82s/it]"
     ]
    },
    {
     "name": "stdout",
     "output_type": "stream",
     "text": [
      "[download]  12.7% of ~  80.00MiB at  663.95KiB/s ETA 00:07 (frag 1/8)))  "
     ]
    },
    {
     "name": "stderr",
     "output_type": "stream",
     "text": [
      "IOPub message rate exceeded.\n",
      "The notebook server will temporarily stop sending output\n",
      "to the client in order to avoid crashing it.\n",
      "To change this limit, set the config variable\n",
      "`--NotebookApp.iopub_msg_rate_limit`.\n",
      "\n",
      "Current values:\n",
      "NotebookApp.iopub_msg_rate_limit=1000.0 (msgs/sec)\n",
      "NotebookApp.rate_limit_window=3.0 (secs)\n",
      "\n"
     ]
    },
    {
     "name": "stdout",
     "output_type": "stream",
     "text": [
      "                                                                     \r"
     ]
    },
    {
     "name": "stderr",
     "output_type": "stream",
     "text": [
      " 14%|█████████████▊                                                                                   | 20/140 [17:00<1:56:52, 58.44s/it]"
     ]
    },
    {
     "name": "stdout",
     "output_type": "stream",
     "text": [
      "                                                                        \r"
     ]
    },
    {
     "name": "stderr",
     "output_type": "stream",
     "text": [
      " 10%|█████████▌                                                                                      | 14/140 [17:16<3:46:28, 107.85s/it]"
     ]
    },
    {
     "name": "stdout",
     "output_type": "stream",
     "text": [
      "                                                                         \r"
     ]
    },
    {
     "name": "stderr",
     "output_type": "stream",
     "text": [
      " 11%|██████████▍                                                                                      | 15/140 [17:31<2:21:15, 67.80s/it]"
     ]
    },
    {
     "name": "stdout",
     "output_type": "stream",
     "text": [
      "[download]  42.9% of ~  70.00MiB at   20.02MiB/s ETA 00:03 (frag 2/7)   "
     ]
    },
    {
     "name": "stderr",
     "output_type": "stream",
     "text": [
      " 11%|███████████                                                                                      | 16/140 [17:36<2:15:41, 65.66s/it]"
     ]
    },
    {
     "name": "stdout",
     "output_type": "stream",
     "text": [
      "                                                                        \r"
     ]
    },
    {
     "name": "stderr",
     "output_type": "stream",
     "text": [
      " 11%|███████████                                                                                      | 16/140 [17:44<2:07:01, 61.46s/it]ERROR: [youtube] 6g5UqgSdA9o: Private video. Sign in if you've been granted access to this video\n"
     ]
    },
    {
     "name": "stdout",
     "output_type": "stream",
     "text": [
      "https://www.youtube.com/watch?v=6g5UqgSdA9o ERROR: [youtube] 6g5UqgSdA9o: Private video. Sign in if you've been granted access to this video\n"
     ]
    },
    {
     "name": "stderr",
     "output_type": "stream",
     "text": [
      " 12%|███████████▊                                                                                     | 17/140 [17:44<1:28:16, 43.06s/it]"
     ]
    },
    {
     "name": "stdout",
     "output_type": "stream",
     "text": [
      "[download]  83.9% of ~ 180.00MiB at    3.13MiB/s ETA 00:02 (frag 15/18)  "
     ]
    },
    {
     "name": "stderr",
     "output_type": "stream",
     "text": [
      " 13%|████████████▍                                                                                    | 18/140 [17:59<2:21:17, 69.49s/it]"
     ]
    },
    {
     "name": "stdout",
     "output_type": "stream",
     "text": [
      "[download]  88.9% of ~ 180.00MiB at    5.89MiB/s ETA 00:01 (frag 16/18)"
     ]
    },
    {
     "name": "stderr",
     "output_type": "stream",
     "text": [
      " 15%|██████████████▌                                                                                  | 21/140 [18:01<1:57:29, 59.24s/it]"
     ]
    },
    {
     "name": "stdout",
     "output_type": "stream",
     "text": [
      "[download]  25.0% of ~  40.00MiB at   20.62MiB/s ETA 00:01 (frag 1/4)8)"
     ]
    },
    {
     "name": "stderr",
     "output_type": "stream",
     "text": [
      "ERROR: [youtube] OlFJm2wK7eo: Private video. Sign in if you've been granted access to this video\n"
     ]
    },
    {
     "name": "stdout",
     "output_type": "stream",
     "text": [
      "https://www.youtube.com/watch?v=OlFJm2wK7eo ERROR: [youtube] OlFJm2wK7eo: Private video. Sign in if you've been granted access to this video\n"
     ]
    },
    {
     "name": "stderr",
     "output_type": "stream",
     "text": [
      " 16%|███████████████▏                                                                                 | 22/140 [18:01<1:21:48, 41.60s/it]"
     ]
    },
    {
     "name": "stdout",
     "output_type": "stream",
     "text": [
      "[download]  35.0% of ~  40.00MiB at   12.53MiB/s ETA 00:01 (frag 1/4)8)"
     ]
    },
    {
     "name": "stderr",
     "output_type": "stream",
     "text": [
      "ERROR: [youtube] whRVyywTov4: Private video. Sign in if you've been granted access to this video\n"
     ]
    },
    {
     "name": "stdout",
     "output_type": "stream",
     "text": [
      "https://www.youtube.com/watch?v=whRVyywTov4 ERROR: [youtube] whRVyywTov4: Private video. Sign in if you've been granted access to this video\n"
     ]
    },
    {
     "name": "stderr",
     "output_type": "stream",
     "text": [
      " 16%|████████████████▎                                                                                  | 23/140 [18:02<57:01, 29.24s/it]"
     ]
    },
    {
     "name": "stdout",
     "output_type": "stream",
     "text": [
      "[download]  13.1% of ~ 160.00MiB at    5.60MiB/s ETA 00:18 (frag 2/16)   "
     ]
    },
    {
     "name": "stderr",
     "output_type": "stream",
     "text": [
      " 12%|███████████▊                                                                                     | 17/140 [18:06<1:53:01, 55.14s/it]"
     ]
    },
    {
     "name": "stdout",
     "output_type": "stream",
     "text": [
      "[download]  76.2% of ~ 160.00MiB at   10.85MiB/s ETA 00:04 (frag 12/16) "
     ]
    },
    {
     "name": "stderr",
     "output_type": "stream",
     "text": [
      " 12%|███████████▊                                                                                     | 17/140 [18:17<3:04:50, 90.17s/it]"
     ]
    },
    {
     "name": "stdout",
     "output_type": "stream",
     "text": [
      "[download]  50.5% of ~ 100.00MiB at    4.41MiB/s ETA 00:03 (frag 5/10)   "
     ]
    },
    {
     "name": "stderr",
     "output_type": "stream",
     "text": [
      " 11%|██████████▍                                                                                      | 15/140 [18:22<3:18:55, 95.49s/it]"
     ]
    },
    {
     "name": "stdout",
     "output_type": "stream",
     "text": [
      "[download]  62.0% of ~ 100.00MiB at   10.85MiB/s ETA 00:02 (frag 6/10)"
     ]
    },
    {
     "name": "stderr",
     "output_type": "stream",
     "text": [
      " 11%|███████████                                                                                      | 16/140 [18:23<2:10:09, 62.98s/it]"
     ]
    },
    {
     "name": "stdout",
     "output_type": "stream",
     "text": [
      "[download]  68.0% of ~ 100.00MiB at   17.03MiB/s ETA 00:02 (frag 6/10)"
     ]
    },
    {
     "name": "stderr",
     "output_type": "stream",
     "text": [
      "ERROR: [youtube] _TStVaAMT3U: Private video. Sign in if you've been granted access to this video\n"
     ]
    },
    {
     "name": "stdout",
     "output_type": "stream",
     "text": [
      "https://www.youtube.com/watch?v=_TStVaAMT3U ERROR: [youtube] _TStVaAMT3U: Private video. Sign in if you've been granted access to this video\n"
     ]
    },
    {
     "name": "stderr",
     "output_type": "stream",
     "text": [
      " 12%|███████████▊                                                                                     | 17/140 [18:24<1:30:29, 44.14s/it]"
     ]
    },
    {
     "name": "stdout",
     "output_type": "stream",
     "text": [
      "[download]  72.0% of ~ 100.00MiB at   11.86MiB/s ETA 00:01 (frag 7/10)"
     ]
    },
    {
     "name": "stderr",
     "output_type": "stream",
     "text": [
      "ERROR: [youtube] HKa6m9HpWUU: Private video. Sign in if you've been granted access to this video\n"
     ]
    },
    {
     "name": "stdout",
     "output_type": "stream",
     "text": [
      "https://www.youtube.com/watch?v=HKa6m9HpWUU ERROR: [youtube] HKa6m9HpWUU: Private video. Sign in if you've been granted access to this video\n"
     ]
    },
    {
     "name": "stderr",
     "output_type": "stream",
     "text": [
      " 13%|████████████▍                                                                                    | 18/140 [18:24<1:02:58, 30.97s/it]"
     ]
    },
    {
     "name": "stdout",
     "output_type": "stream",
     "text": [
      "[download]  58.2% of ~ 110.00MiB at   14.05MiB/s ETA 00:06 (frag 6/11)   "
     ]
    },
    {
     "name": "stderr",
     "output_type": "stream",
     "text": [
      " 14%|█████████████▏                                                                                   | 19/140 [18:33<1:58:25, 58.72s/it]"
     ]
    },
    {
     "name": "stdout",
     "output_type": "stream",
     "text": [
      "                                                                        \r"
     ]
    },
    {
     "name": "stderr",
     "output_type": "stream",
     "text": [
      " 14%|█████████████▏                                                                                   | 19/140 [19:00<1:05:44, 32.60s/it]ERROR: [youtube] MIWrmgPNUqQ: Private video. Sign in if you've been granted access to this video\n"
     ]
    },
    {
     "name": "stdout",
     "output_type": "stream",
     "text": [
      "https://www.youtube.com/watch?v=MIWrmgPNUqQ ERROR: [youtube] MIWrmgPNUqQ: Private video. Sign in if you've been granted access to this video\n"
     ]
    },
    {
     "name": "stderr",
     "output_type": "stream",
     "text": [
      " 15%|██████████████▌                                                                                  | 21/140 [19:01<1:08:32, 34.56s/it]"
     ]
    },
    {
     "name": "stdout",
     "output_type": "stream",
     "text": [
      "[download]   0.3% of ~  80.00MiB at  546.07KiB/s ETA 02:29 (frag 0/8))   "
     ]
    },
    {
     "name": "stderr",
     "output_type": "stream",
     "text": [
      " 14%|██████████████▏                                                                                    | 20/140 [19:02<46:51, 23.43s/it]"
     ]
    },
    {
     "name": "stdout",
     "output_type": "stream",
     "text": [
      "                                                                        \r"
     ]
    },
    {
     "name": "stderr",
     "output_type": "stream",
     "text": [
      " 13%|████████████▍                                                                                    | 18/140 [19:43<3:00:30, 88.78s/it]"
     ]
    },
    {
     "name": "stdout",
     "output_type": "stream",
     "text": [
      "[download]  24.0% of ~ 200.00MiB at   23.77MiB/s ETA 00:07 (frag 4/20)   "
     ]
    },
    {
     "name": "stderr",
     "output_type": "stream",
     "text": [
      " 11%|███████████                                                                                      | 16/140 [19:47<3:10:32, 92.20s/it]"
     ]
    },
    {
     "name": "stdout",
     "output_type": "stream",
     "text": [
      "[download]  60.0% of ~  90.00MiB at   16.26MiB/s ETA 00:04 (frag 5/9)   "
     ]
    },
    {
     "name": "stderr",
     "output_type": "stream",
     "text": [
      " 13%|████████████▍                                                                                    | 18/140 [19:56<2:21:46, 69.73s/it]"
     ]
    },
    {
     "name": "stdout",
     "output_type": "stream",
     "text": [
      "[download]  75.6% of ~  90.00MiB at   20.50MiB/s ETA 00:02 (frag 6/9)"
     ]
    },
    {
     "name": "stderr",
     "output_type": "stream",
     "text": [
      "ERROR: [youtube] 1UsBOOwgq28: Private video. Sign in if you've been granted access to this video\n"
     ]
    },
    {
     "name": "stdout",
     "output_type": "stream",
     "text": [
      "https://www.youtube.com/watch?v=1UsBOOwgq28 ERROR: [youtube] 1UsBOOwgq28: Private video. Sign in if you've been granted access to this video\n"
     ]
    },
    {
     "name": "stderr",
     "output_type": "stream",
     "text": [
      " 14%|█████████████▏                                                                                   | 19/140 [19:56<1:38:44, 48.97s/it]"
     ]
    },
    {
     "name": "stdout",
     "output_type": "stream",
     "text": [
      "[download]  34.3% of ~  70.00MiB at   13.95MiB/s ETA 00:02 (frag 2/7)   "
     ]
    },
    {
     "name": "stderr",
     "output_type": "stream",
     "text": [
      " 15%|██████████████▌                                                                                  | 21/140 [20:00<1:06:40, 33.62s/it]"
     ]
    },
    {
     "name": "stdout",
     "output_type": "stream",
     "text": [
      "                                                                        \r"
     ]
    },
    {
     "name": "stderr",
     "output_type": "stream",
     "text": [
      " 17%|████████████████▋                                                                                | 24/140 [20:06<1:51:47, 57.82s/it]"
     ]
    },
    {
     "name": "stdout",
     "output_type": "stream",
     "text": [
      "[download]  20.0% of ~  40.00MiB at   20.24MiB/s ETA 00:01 (frag 0/4)"
     ]
    },
    {
     "name": "stderr",
     "output_type": "stream",
     "text": [
      " 14%|█████████████▏                                                                                   | 19/140 [20:08<1:58:34, 58.80s/it]"
     ]
    },
    {
     "name": "stdout",
     "output_type": "stream",
     "text": [
      "[download]  16.7% of ~ 120.00MiB at   16.23MiB/s ETA 00:06 (frag 2/12)   "
     ]
    },
    {
     "name": "stderr",
     "output_type": "stream",
     "text": [
      " 16%|███████████████▏                                                                                 | 22/140 [20:12<1:29:45, 45.64s/it]"
     ]
    },
    {
     "name": "stdout",
     "output_type": "stream",
     "text": [
      "                                                                       \r"
     ]
    },
    {
     "name": "stderr",
     "output_type": "stream",
     "text": [
      " 16%|███████████████▉                                                                                 | 23/140 [20:46<1:22:19, 42.22s/it]ERROR: [youtube] wKaySfPomOI: Private video. Sign in if you've been granted access to this video\n"
     ]
    },
    {
     "name": "stdout",
     "output_type": "stream",
     "text": [
      "https://www.youtube.com/watch?v=wKaySfPomOI ERROR: [youtube] wKaySfPomOI: Private video. Sign in if you've been granted access to this video\n"
     ]
    },
    {
     "name": "stderr",
     "output_type": "stream",
     "text": [
      " 17%|████████████████▉                                                                                  | 24/140 [20:47<57:22, 29.68s/it]"
     ]
    },
    {
     "name": "stdout",
     "output_type": "stream",
     "text": [
      "[download]  23.3% of ~  60.00MiB at    7.92MiB/s ETA 00:05 (frag 1/6)   "
     ]
    },
    {
     "name": "stderr",
     "output_type": "stream",
     "text": [
      " 18%|█████████████████▎                                                                               | 25/140 [20:49<1:42:09, 53.30s/it]"
     ]
    },
    {
     "name": "stdout",
     "output_type": "stream",
     "text": [
      "[download]   6.7% of ~ 150.00MiB at  256.71KiB/s ETA 00:30 (frag 1/15)   "
     ]
    },
    {
     "name": "stderr",
     "output_type": "stream",
     "text": [
      " 16%|███████████████▏                                                                                 | 22/140 [20:51<1:16:28, 38.89s/it]"
     ]
    },
    {
     "name": "stdout",
     "output_type": "stream",
     "text": [
      "[download]  32.0% of ~ 200.00MiB at   15.20MiB/s ETA 00:09 (frag 6/20)   "
     ]
    },
    {
     "name": "stderr",
     "output_type": "stream",
     "text": [
      " 12%|███████████▊                                                                                     | 17/140 [20:57<2:55:14, 85.49s/it]"
     ]
    },
    {
     "name": "stdout",
     "output_type": "stream",
     "text": [
      "[download]  68.0% of ~ 150.00MiB at    5.12MiB/s ETA 00:08 (frag 10/15) "
     ]
    },
    {
     "name": "stderr",
     "output_type": "stream",
     "text": [
      " 13%|████████████▍                                                                                    | 18/140 [21:07<2:07:38, 62.78s/it]"
     ]
    },
    {
     "name": "stdout",
     "output_type": "stream",
     "text": [
      "[download]  30.0% of ~ 160.00MiB at  737.15KiB/s ETA 01:36 (frag 4/16)  "
     ]
    },
    {
     "name": "stderr",
     "output_type": "stream",
     "text": [
      " 15%|██████████████▌                                                                                  | 21/140 [21:39<1:39:55, 50.38s/it]"
     ]
    },
    {
     "name": "stdout",
     "output_type": "stream",
     "text": [
      "[download]  71.5% of ~  70.00MiB at  291.13KiB/s ETA 00:01 (frag 5/7))  "
     ]
    },
    {
     "name": "stderr",
     "output_type": "stream",
     "text": [
      " 14%|█████████████▊                                                                                   | 20/140 [21:44<2:19:46, 69.89s/it]"
     ]
    },
    {
     "name": "stdout",
     "output_type": "stream",
     "text": [
      "[download]  45.6% of ~ 160.00MiB at  696.38KiB/s ETA 01:34 (frag 7/16)  "
     ]
    },
    {
     "name": "stderr",
     "output_type": "stream",
     "text": [
      " 15%|██████████████▌                                                                                  | 21/140 [22:11<1:52:45, 56.85s/it]"
     ]
    },
    {
     "name": "stdout",
     "output_type": "stream",
     "text": [
      "[download]  10.0% of ~ 100.00MiB at  113.87KiB/s ETA 00:15 (frag 1/10)   "
     ]
    },
    {
     "name": "stderr",
     "output_type": "stream",
     "text": [
      " 14%|█████████████                                                                                   | 19/140 [22:14<3:36:50, 107.52s/it]"
     ]
    },
    {
     "name": "stdout",
     "output_type": "stream",
     "text": [
      "[download]  14.0% of ~ 100.00MiB at    7.60MiB/s ETA 00:12 (frag 1/10)"
     ]
    },
    {
     "name": "stderr",
     "output_type": "stream",
     "text": [
      "ERROR: [youtube] ZDni5sKbAII: Private video. Sign in if you've been granted access to this video\n"
     ]
    },
    {
     "name": "stdout",
     "output_type": "stream",
     "text": [
      "https://www.youtube.com/watch?v=ZDni5sKbAII ERROR: [youtube] ZDni5sKbAII: Private video. Sign in if you've been granted access to this video\n"
     ]
    },
    {
     "name": "stderr",
     "output_type": "stream",
     "text": [
      " 14%|█████████████▊                                                                                   | 20/140 [22:14<2:30:45, 75.38s/it]"
     ]
    },
    {
     "name": "stdout",
     "output_type": "stream",
     "text": [
      "[download]  55.0% of ~ 160.00MiB at  826.75KiB/s ETA 01:18 (frag 8/16) "
     ]
    },
    {
     "name": "stderr",
     "output_type": "stream",
     "text": [
      " 16%|███████████████▏                                                                                 | 22/140 [22:27<1:37:38, 49.65s/it]"
     ]
    },
    {
     "name": "stdout",
     "output_type": "stream",
     "text": [
      "[download]  63.7% of ~ 160.00MiB at    9.74MiB/s ETA 01:02 (frag 10/16) "
     ]
    },
    {
     "name": "stderr",
     "output_type": "stream",
     "text": [
      " 18%|█████████████████▎                                                                               | 25/140 [22:44<1:47:11, 55.92s/it]"
     ]
    },
    {
     "name": "stdout",
     "output_type": "stream",
     "text": [
      "[download]  55.6% of ~  90.00MiB at   20.17MiB/s ETA 00:03 (frag 4/9)6) "
     ]
    },
    {
     "name": "stderr",
     "output_type": "stream",
     "text": [
      " 15%|██████████████▌                                                                                  | 21/140 [22:50<2:06:03, 63.56s/it]"
     ]
    },
    {
     "name": "stdout",
     "output_type": "stream",
     "text": [
      "[download]  68.8% of ~ 160.00MiB at  952.84KiB/s ETA 00:54 (frag 10/16)"
     ]
    },
    {
     "name": "stderr",
     "output_type": "stream",
     "text": [
      " 14%|█████████████▊                                                                                   | 20/140 [22:51<1:58:08, 59.07s/it]"
     ]
    },
    {
     "name": "stdout",
     "output_type": "stream",
     "text": [
      "[download]  82.5% of ~ 160.00MiB at    7.87MiB/s ETA 00:28 (frag 13/16)  "
     ]
    },
    {
     "name": "stderr",
     "output_type": "stream",
     "text": [
      " 16%|███████████████▉                                                                                 | 23/140 [23:10<2:14:12, 68.82s/it]"
     ]
    },
    {
     "name": "stdout",
     "output_type": "stream",
     "text": [
      "[download]  37.8% of ~ 180.00MiB at   15.39MiB/s ETA 00:10 (frag 6/18))  "
     ]
    },
    {
     "name": "stderr",
     "output_type": "stream",
     "text": [
      " 16%|███████████████▏                                                                                 | 22/140 [23:18<1:58:06, 60.05s/it]"
     ]
    },
    {
     "name": "stdout",
     "output_type": "stream",
     "text": [
      "[download]  72.2% of ~ 180.00MiB at   42.12KiB/s ETA 00:04 (frag 13/18)  "
     ]
    },
    {
     "name": "stderr",
     "output_type": "stream",
     "text": [
      " 16%|███████████████▉                                                                                 | 23/140 [23:24<1:41:07, 51.86s/it]"
     ]
    },
    {
     "name": "stdout",
     "output_type": "stream",
     "text": [
      "                                                                        \r"
     ]
    },
    {
     "name": "stderr",
     "output_type": "stream",
     "text": [
      " 19%|██████████████████                                                                               | 26/140 [23:46<1:49:58, 57.89s/it]"
     ]
    },
    {
     "name": "stdout",
     "output_type": "stream",
     "text": [
      "[download]   2.7% of ~ 150.00MiB at   10.90MiB/s ETA 00:13 (frag 0/15)   "
     ]
    },
    {
     "name": "stderr",
     "output_type": "stream",
     "text": [
      " 16%|███████████████▏                                                                                 | 22/140 [23:48<2:01:41, 61.88s/it]"
     ]
    },
    {
     "name": "stdout",
     "output_type": "stream",
     "text": [
      "[download]   6.7% of ~ 150.00MiB at   13.49MiB/s ETA 00:10 (frag 0/15)"
     ]
    },
    {
     "name": "stderr",
     "output_type": "stream",
     "text": [
      "ERROR: [youtube] 4H_5J4qcij4: Private video. Sign in if you've been granted access to this video\n"
     ]
    },
    {
     "name": "stdout",
     "output_type": "stream",
     "text": [
      "https://www.youtube.com/watch?v=4H_5J4qcij4 ERROR: [youtube] 4H_5J4qcij4: Private video. Sign in if you've been granted access to this video\n"
     ]
    },
    {
     "name": "stderr",
     "output_type": "stream",
     "text": [
      " 16%|███████████████▉                                                                                 | 23/140 [23:49<1:24:44, 43.46s/it]"
     ]
    },
    {
     "name": "stdout",
     "output_type": "stream",
     "text": [
      "                                                                        \r"
     ]
    },
    {
     "name": "stderr",
     "output_type": "stream",
     "text": [
      " 17%|████████████████▋                                                                                | 24/140 [24:17<1:40:56, 52.21s/it]ERROR: [youtube] Rm0GNWSKzYs: Private video. Sign in if you've been granted access to this video\n"
     ]
    },
    {
     "name": "stdout",
     "output_type": "stream",
     "text": [
      "https://www.youtube.com/watch?v=Rm0GNWSKzYs ERROR: [youtube] Rm0GNWSKzYs: Private video. Sign in if you've been granted access to this video\n"
     ]
    },
    {
     "name": "stderr",
     "output_type": "stream",
     "text": [
      " 18%|█████████████████▎                                                                               | 25/140 [24:17<1:10:13, 36.64s/it]"
     ]
    },
    {
     "name": "stdout",
     "output_type": "stream",
     "text": [
      "                                                                         \r"
     ]
    },
    {
     "name": "stderr",
     "output_type": "stream",
     "text": [
      " 17%|████████████████▋                                                                                | 24/140 [24:53<1:35:44, 49.52s/it]ERROR: [youtube] UYp5KoDc3mE: Private video. Sign in if you've been granted access to this video\n"
     ]
    },
    {
     "name": "stdout",
     "output_type": "stream",
     "text": [
      "https://www.youtube.com/watch?v=UYp5KoDc3mE ERROR: [youtube] UYp5KoDc3mE: Private video. Sign in if you've been granted access to this video\n"
     ]
    },
    {
     "name": "stderr",
     "output_type": "stream",
     "text": [
      " 18%|█████████████████▎                                                                               | 25/140 [24:53<1:06:36, 34.75s/it]"
     ]
    },
    {
     "name": "stdout",
     "output_type": "stream",
     "text": [
      "                                                                        \r"
     ]
    },
    {
     "name": "stderr",
     "output_type": "stream",
     "text": [
      " 15%|██████████████▌                                                                                  | 21/140 [25:02<2:40:01, 80.68s/it]ERROR: [youtube] PjLW5irADoM: Private video. Sign in if you've been granted access to this video\n"
     ]
    },
    {
     "name": "stdout",
     "output_type": "stream",
     "text": [
      "https://www.youtube.com/watch?v=PjLW5irADoM ERROR: [youtube] PjLW5irADoM: Private video. Sign in if you've been granted access to this video\n"
     ]
    },
    {
     "name": "stderr",
     "output_type": "stream",
     "text": [
      " 16%|███████████████▏                                                                                 | 22/140 [25:02<1:51:16, 56.58s/it]"
     ]
    },
    {
     "name": "stdout",
     "output_type": "stream",
     "text": [
      "                                                                        \r"
     ]
    },
    {
     "name": "stderr",
     "output_type": "stream",
     "text": [
      " 19%|█████████████████▊                                                                              | 26/140 [25:22<3:46:26, 119.18s/it]"
     ]
    },
    {
     "name": "stdout",
     "output_type": "stream",
     "text": [
      "[download]  66.7% of ~  30.00MiB at   12.59MiB/s ETA 00:00 (frag 1/3)"
     ]
    },
    {
     "name": "stderr",
     "output_type": "stream",
     "text": [
      " 19%|██████████████████                                                                               | 26/140 [25:25<1:04:33, 33.98s/it]"
     ]
    },
    {
     "name": "stdout",
     "output_type": "stream",
     "text": [
      "[download]  66.7% of ~  30.00MiB at    6.97MiB/s ETA 00:00 (frag 2/3)"
     ]
    },
    {
     "name": "stderr",
     "output_type": "stream",
     "text": [
      " 17%|████████████████▋                                                                                | 24/140 [25:25<2:51:59, 88.97s/it]"
     ]
    },
    {
     "name": "stdout",
     "output_type": "stream",
     "text": [
      "[download]  20.0% of ~  60.00MiB at    9.31MiB/s ETA 00:07 (frag 1/6)   "
     ]
    },
    {
     "name": "stderr",
     "output_type": "stream",
     "text": [
      " 16%|███████████████▉                                                                                 | 23/140 [25:28<2:38:08, 81.10s/it]"
     ]
    },
    {
     "name": "stdout",
     "output_type": "stream",
     "text": [
      "                                                                     )   \r"
     ]
    },
    {
     "name": "stderr",
     "output_type": "stream",
     "text": [
      " 19%|██████████████████▋                                                                              | 27/140 [25:33<2:16:40, 72.57s/it]"
     ]
    },
    {
     "name": "stdout",
     "output_type": "stream",
     "text": [
      "[download]  46.3% of ~ 100.00MiB at    4.73MiB/s ETA 00:19 (frag 4/10)  "
     ]
    },
    {
     "name": "stderr",
     "output_type": "stream",
     "text": [
      " 19%|██████████████████▋                                                                              | 27/140 [25:47<2:51:30, 91.06s/it]ERROR: [youtube] DYpotjw_KTw: Private video. Sign in if you've been granted access to this video\n"
     ]
    },
    {
     "name": "stdout",
     "output_type": "stream",
     "text": [
      "https://www.youtube.com/watch?v=DYpotjw_KTw ERROR: [youtube] DYpotjw_KTw: Private video. Sign in if you've been granted access to this video\n"
     ]
    },
    {
     "name": "stderr",
     "output_type": "stream",
     "text": [
      " 20%|███████████████████▍                                                                             | 28/140 [25:48<1:59:10, 63.85s/it]"
     ]
    },
    {
     "name": "stdout",
     "output_type": "stream",
     "text": [
      "[download]  21.8% of ~ 110.00MiB at   11.18MiB/s ETA 00:07 (frag 2/11)   "
     ]
    },
    {
     "name": "stderr",
     "output_type": "stream",
     "text": [
      " 16%|███████████████▉                                                                                 | 23/140 [25:51<1:45:47, 54.25s/it]"
     ]
    },
    {
     "name": "stdout",
     "output_type": "stream",
     "text": [
      "                                                                        \r"
     ]
    },
    {
     "name": "stderr",
     "output_type": "stream",
     "text": [
      " 20%|███████████████████▍                                                                             | 28/140 [26:06<1:53:01, 60.55s/it]ERROR: [youtube] A9PfeA9qFp8: Private video. Sign in if you've been granted access to this video\n"
     ]
    },
    {
     "name": "stdout",
     "output_type": "stream",
     "text": [
      "https://www.youtube.com/watch?v=A9PfeA9qFp8 ERROR: [youtube] A9PfeA9qFp8: Private video. Sign in if you've been granted access to this video\n"
     ]
    },
    {
     "name": "stderr",
     "output_type": "stream",
     "text": [
      " 21%|████████████████████                                                                             | 29/140 [26:06<1:18:34, 42.47s/it]"
     ]
    },
    {
     "name": "stdout",
     "output_type": "stream",
     "text": [
      "[download]   2.5% of ~ 160.00MiB at    9.27MiB/s ETA 00:16 (frag 0/16)   "
     ]
    },
    {
     "name": "stderr",
     "output_type": "stream",
     "text": [
      " 19%|██████████████████▋                                                                              | 27/140 [26:08<1:09:18, 36.80s/it]"
     ]
    },
    {
     "name": "stdout",
     "output_type": "stream",
     "text": [
      "[download]  31.4% of ~ 160.00MiB at    1.51MiB/s ETA 00:07 (frag 5/16)  "
     ]
    },
    {
     "name": "stderr",
     "output_type": "stream",
     "text": [
      " 18%|█████████████████▎                                                                               | 25/140 [26:11<2:25:43, 76.03s/it]"
     ]
    },
    {
     "name": "stdout",
     "output_type": "stream",
     "text": [
      "                                                                         \r"
     ]
    },
    {
     "name": "stderr",
     "output_type": "stream",
     "text": [
      " 17%|████████████████▋                                                                                | 24/140 [26:33<1:37:46, 50.58s/it]"
     ]
    },
    {
     "name": "stdout",
     "output_type": "stream",
     "text": [
      "                                                                        \r"
     ]
    },
    {
     "name": "stderr",
     "output_type": "stream",
     "text": [
      " 19%|██████████████████                                                                               | 26/140 [26:52<2:16:52, 72.04s/it]"
     ]
    },
    {
     "name": "stdout",
     "output_type": "stream",
     "text": [
      "[download] 100.0% of ~  66.59MiB at   13.13MiB/s ETA 00:00 (frag 7/7)   "
     ]
    },
    {
     "name": "stderr",
     "output_type": "stream",
     "text": [
      " 17%|████████████████▋                                                                                | 24/140 [26:59<2:42:28, 84.04s/it]"
     ]
    },
    {
     "name": "stdout",
     "output_type": "stream",
     "text": [
      "                                                                     \r"
     ]
    },
    {
     "name": "stderr",
     "output_type": "stream",
     "text": [
      "ERROR: [youtube] PhRRq6SXSB8: Private video. Sign in if you've been granted access to this video\n"
     ]
    },
    {
     "name": "stdout",
     "output_type": "stream",
     "text": [
      "https://www.youtube.com/watch?v=PhRRq6SXSB8 ERROR: [youtube] PhRRq6SXSB8: Private video. Sign in if you've been granted access to this video\n"
     ]
    },
    {
     "name": "stderr",
     "output_type": "stream",
     "text": [
      " 18%|█████████████████▎                                                                               | 25/140 [26:59<1:52:55, 58.92s/it]"
     ]
    },
    {
     "name": "stdout",
     "output_type": "stream",
     "text": [
      "                                                                         \r"
     ]
    },
    {
     "name": "stderr",
     "output_type": "stream",
     "text": [
      " 21%|████████████████████                                                                             | 29/140 [27:11<2:08:47, 69.62s/it]ERROR: [youtube] VAoo7oXtyy4: Private video. Sign in if you've been granted access to this video\n"
     ]
    },
    {
     "name": "stdout",
     "output_type": "stream",
     "text": [
      "https://www.youtube.com/watch?v=VAoo7oXtyy4 ERROR: [youtube] VAoo7oXtyy4: Private video. Sign in if you've been granted access to this video\n"
     ]
    },
    {
     "name": "stderr",
     "output_type": "stream",
     "text": [
      " 21%|████████████████████▊                                                                            | 30/140 [27:11<1:29:30, 48.83s/it]"
     ]
    },
    {
     "name": "stdout",
     "output_type": "stream",
     "text": [
      "[download]  66.7% of ~ 150.00MiB at   20.00MiB/s ETA 00:02 (frag 10/15)  "
     ]
    },
    {
     "name": "stderr",
     "output_type": "stream",
     "text": [
      " 18%|█████████████████▎                                                                               | 25/140 [27:17<1:33:26, 48.75s/it]"
     ]
    },
    {
     "name": "stdout",
     "output_type": "stream",
     "text": [
      "                                                                        \r"
     ]
    },
    {
     "name": "stderr",
     "output_type": "stream",
     "text": [
      " 19%|██████████████████▋                                                                              | 27/140 [27:41<2:02:40, 65.14s/it]"
     ]
    },
    {
     "name": "stdout",
     "output_type": "stream",
     "text": [
      "                                                                         \r"
     ]
    },
    {
     "name": "stderr",
     "output_type": "stream",
     "text": [
      " 19%|██████████████████                                                                               | 26/140 [28:05<2:46:11, 87.47s/it]ERROR: [youtube] cyj5AfaJfVo: Private video. Sign in if you've been granted access to this video\n"
     ]
    },
    {
     "name": "stdout",
     "output_type": "stream",
     "text": [
      "https://www.youtube.com/watch?v=cyj5AfaJfVo ERROR: [youtube] cyj5AfaJfVo: Private video. Sign in if you've been granted access to this video\n"
     ]
    },
    {
     "name": "stderr",
     "output_type": "stream",
     "text": [
      " 19%|██████████████████▋                                                                              | 27/140 [28:06<1:55:28, 61.31s/it]"
     ]
    },
    {
     "name": "stdout",
     "output_type": "stream",
     "text": [
      "[download]  51.7% of ~ 120.00MiB at    6.81MiB/s ETA 00:07 (frag 6/12)   "
     ]
    },
    {
     "name": "stderr",
     "output_type": "stream",
     "text": [
      " 21%|████████████████████▊                                                                            | 30/140 [28:16<2:05:53, 68.67s/it]"
     ]
    },
    {
     "name": "stdout",
     "output_type": "stream",
     "text": [
      "[download]  66.7% of ~ 120.00MiB at  188.66KiB/s ETA 00:06 (frag 8/12)  "
     ]
    },
    {
     "name": "stderr",
     "output_type": "stream",
     "text": [
      " 19%|██████████████████                                                                               | 26/140 [28:20<2:04:08, 65.34s/it]"
     ]
    },
    {
     "name": "stdout",
     "output_type": "stream",
     "text": [
      "[download]   5.0% of ~  80.00MiB at   16.79MiB/s ETA 00:04 (frag 0/8))  "
     ]
    },
    {
     "name": "stderr",
     "output_type": "stream",
     "text": [
      " 19%|██████████████████                                                                               | 26/140 [28:21<1:41:19, 53.33s/it]"
     ]
    },
    {
     "name": "stdout",
     "output_type": "stream",
     "text": [
      "[download]  13.1% of ~  80.00MiB at    1.47MiB/s ETA 00:05 (frag 1/8))"
     ]
    },
    {
     "name": "stderr",
     "output_type": "stream",
     "text": [
      "ERROR: [youtube] s0zgNY_kqlI: Private video. Sign in if you've been granted access to this video\n"
     ]
    },
    {
     "name": "stdout",
     "output_type": "stream",
     "text": [
      "https://www.youtube.com/watch?v=s0zgNY_kqlI ERROR: [youtube] s0zgNY_kqlI: Private video. Sign in if you've been granted access to this video\n"
     ]
    },
    {
     "name": "stderr",
     "output_type": "stream",
     "text": [
      " 19%|██████████████████▋                                                                              | 27/140 [28:22<1:10:36, 37.49s/it]"
     ]
    },
    {
     "name": "stdout",
     "output_type": "stream",
     "text": [
      "                                                                        \r"
     ]
    },
    {
     "name": "stderr",
     "output_type": "stream",
     "text": [
      " 22%|█████████████████████▍                                                                           | 31/140 [28:54<1:47:59, 59.44s/it]"
     ]
    },
    {
     "name": "stdout",
     "output_type": "stream",
     "text": [
      "                                                                        \r"
     ]
    },
    {
     "name": "stderr",
     "output_type": "stream",
     "text": [
      " 21%|████████████████████                                                                             | 29/140 [29:10<2:04:13, 67.15s/it]"
     ]
    },
    {
     "name": "stdout",
     "output_type": "stream",
     "text": [
      "[download]   7.1% of ~ 140.00MiB at   14.00MiB/s ETA 00:09 (frag 0/14)   "
     ]
    },
    {
     "name": "stderr",
     "output_type": "stream",
     "text": [
      " 22%|█████████████████████▍                                                                           | 31/140 [29:13<2:08:34, 70.77s/it]"
     ]
    },
    {
     "name": "stdout",
     "output_type": "stream",
     "text": [
      "[download]  10.0% of ~ 140.00MiB at    9.61MiB/s ETA 00:18 (frag 1/14)"
     ]
    },
    {
     "name": "stderr",
     "output_type": "stream",
     "text": [
      " 19%|██████████████████▋                                                                              | 27/140 [29:14<1:56:57, 62.10s/it]"
     ]
    },
    {
     "name": "stdout",
     "output_type": "stream",
     "text": [
      "[download]  26.2% of ~ 130.00MiB at    4.76MiB/s ETA 00:15 (frag 3/13)   "
     ]
    },
    {
     "name": "stderr",
     "output_type": "stream",
     "text": [
      " 20%|███████████████████▍                                                                             | 28/140 [29:21<1:22:17, 44.08s/it]"
     ]
    },
    {
     "name": "stdout",
     "output_type": "stream",
     "text": [
      "[download]  81.2% of ~ 170.00MiB at    4.20MiB/s ETA 00:07 (frag 13/17)  "
     ]
    },
    {
     "name": "stderr",
     "output_type": "stream",
     "text": [
      " 20%|███████████████████▍                                                                             | 28/140 [29:47<2:16:36, 73.19s/it]"
     ]
    },
    {
     "name": "stdout",
     "output_type": "stream",
     "text": [
      "[download] 100.0% of ~ 169.78MiB at    1.67MiB/s ETA 00:00 (frag 16/17)  "
     ]
    },
    {
     "name": "stderr",
     "output_type": "stream",
     "text": [
      " 23%|██████████████████████▏                                                                          | 32/140 [30:00<1:50:31, 61.40s/it]"
     ]
    },
    {
     "name": "stdout",
     "output_type": "stream",
     "text": [
      "                                                                        \r"
     ]
    },
    {
     "name": "stderr",
     "output_type": "stream",
     "text": [
      " 24%|██████████████████████▊                                                                          | 33/140 [30:34<1:34:53, 53.21s/it]"
     ]
    },
    {
     "name": "stdout",
     "output_type": "stream",
     "text": [
      "[download]  45.8% of ~ 240.00MiB at   53.25KiB/s ETA 00:21 (frag 11/24)  "
     ]
    },
    {
     "name": "stderr",
     "output_type": "stream",
     "text": [
      " 21%|████████████████████▊                                                                            | 30/140 [30:53<2:22:41, 77.83s/it]"
     ]
    },
    {
     "name": "stdout",
     "output_type": "stream",
     "text": [
      "[download]   1.7% of ~  60.00MiB at    1.48MiB/s ETA 00:39 (frag 0/6)4) "
     ]
    },
    {
     "name": "stderr",
     "output_type": "stream",
     "text": [
      " 20%|███████████████████▍                                                                             | 28/140 [30:56<2:17:53, 73.87s/it]"
     ]
    },
    {
     "name": "stdout",
     "output_type": "stream",
     "text": [
      "[download]  82.5% of ~ 240.00MiB at    5.99MiB/s ETA 00:07 (frag 19/24) "
     ]
    },
    {
     "name": "stderr",
     "output_type": "stream",
     "text": [
      " 21%|████████████████████                                                                             | 29/140 [31:13<2:22:32, 77.05s/it]"
     ]
    },
    {
     "name": "stdout",
     "output_type": "stream",
     "text": [
      "[download]  83.3% of ~ 240.00MiB at    6.77MiB/s ETA 00:07 (frag 20/24)"
     ]
    },
    {
     "name": "stderr",
     "output_type": "stream",
     "text": [
      "ERROR: [youtube] 9hhc90mpKNc: Private video. Sign in if you've been granted access to this video\n"
     ]
    },
    {
     "name": "stdout",
     "output_type": "stream",
     "text": [
      "https://www.youtube.com/watch?v=9hhc90mpKNc ERROR: [youtube] 9hhc90mpKNc: Private video. Sign in if you've been granted access to this video\n"
     ]
    },
    {
     "name": "stderr",
     "output_type": "stream",
     "text": [
      " 21%|████████████████████▊                                                                            | 30/140 [31:13<1:39:06, 54.06s/it]"
     ]
    },
    {
     "name": "stdout",
     "output_type": "stream",
     "text": [
      "[download]  35.8% of ~ 140.00MiB at  152.23KiB/s ETA 00:15 (frag 5/14)   "
     ]
    },
    {
     "name": "stderr",
     "output_type": "stream",
     "text": [
      " 21%|████████████████████                                                                             | 29/140 [31:24<2:04:52, 67.50s/it]"
     ]
    },
    {
     "name": "stdout",
     "output_type": "stream",
     "text": [
      "[download]  50.0% of ~ 140.00MiB at   34.33KiB/s ETA 00:16 (frag 7/14))  "
     ]
    },
    {
     "name": "stderr",
     "output_type": "stream",
     "text": [
      " 21%|████████████████████                                                                             | 29/140 [31:43<2:01:44, 65.80s/it]"
     ]
    },
    {
     "name": "stdout",
     "output_type": "stream",
     "text": [
      "[download]  81.1% of ~ 140.00MiB at    1.44MiB/s ETA 00:06 (frag 11/14) "
     ]
    },
    {
     "name": "stderr",
     "output_type": "stream",
     "text": [
      " 22%|█████████████████████▍                                                                           | 31/140 [31:52<2:10:58, 72.09s/it]"
     ]
    },
    {
     "name": "stdout",
     "output_type": "stream",
     "text": [
      "[download]  54.1% of ~  50.00MiB at    1.64MiB/s ETA 00:05 (frag 2/5)"
     ]
    }
   ],
   "source": [
    "mp.multiprocessing(list(urls), loop, cores = 7, returned = False)"
   ]
  },
  {
   "cell_type": "code",
   "execution_count": 11,
   "metadata": {},
   "outputs": [
    {
     "data": {
      "text/plain": [
       "332"
      ]
     },
     "execution_count": 11,
     "metadata": {},
     "output_type": "execute_result"
    }
   ],
   "source": [
    "mp3s = sorted(glob('*.mp3'))\n",
    "len(mp3s)"
   ]
  }
 ],
 "metadata": {
  "kernelspec": {
   "display_name": "Python 3 (ipykernel)",
   "language": "python",
   "name": "python3"
  },
  "language_info": {
   "codemirror_mode": {
    "name": "ipython",
    "version": 3
   },
   "file_extension": ".py",
   "mimetype": "text/x-python",
   "name": "python",
   "nbconvert_exporter": "python",
   "pygments_lexer": "ipython3",
   "version": "3.8.10"
  }
 },
 "nbformat": 4,
 "nbformat_minor": 4
}

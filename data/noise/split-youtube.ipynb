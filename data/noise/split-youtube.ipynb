{
 "cells": [
  {
   "cell_type": "code",
   "execution_count": 1,
   "metadata": {},
   "outputs": [],
   "source": [
    "import sys\n",
    "import os\n",
    "\n",
    "SOURCE_DIR = os.path.dirname(os.path.dirname(os.path.dirname(os.path.abspath(__name__))))\n",
    "sys.path.insert(0, SOURCE_DIR)"
   ]
  },
  {
   "cell_type": "code",
   "execution_count": 2,
   "metadata": {},
   "outputs": [
    {
     "name": "stderr",
     "output_type": "stream",
     "text": [
      "`pyaudio` is not available, `malaya_speech.streaming.pyaudio` is not able to use.\n"
     ]
    }
   ],
   "source": [
    "import malaya_speech\n",
    "import numpy as np\n",
    "from malaya_speech import Pipeline\n",
    "from malaya_speech.utils.astype import float_to_int"
   ]
  },
  {
   "cell_type": "code",
   "execution_count": 11,
   "metadata": {},
   "outputs": [
    {
     "data": {
      "text/plain": [
       "529"
      ]
     },
     "execution_count": 11,
     "metadata": {},
     "output_type": "execute_result"
    }
   ],
   "source": [
    "from glob import glob\n",
    "from unidecode import unidecode\n",
    "import os\n",
    "import torchaudio\n",
    "import torch\n",
    "\n",
    "youtubes = sorted(glob('/home/husein/ssd2/noise/*.mp3'))\n",
    "youtubes.extend(glob('/home/husein/ssd2/noise/Nonspeech/*.mp3'))\n",
    "youtubes = [f for f in youtubes if 'NCS Release' not in f]\n",
    "len(youtubes)"
   ]
  },
  {
   "cell_type": "code",
   "execution_count": 12,
   "metadata": {},
   "outputs": [
    {
     "name": "stdout",
     "output_type": "stream",
     "text": [
      "mkdir: cannot create directory ‘/home/husein/ssd2/processed-noise’: File exists\n",
      "mkdir: cannot create directory ‘/home/husein/ssd2/processed-noise-done’: File exists\n"
     ]
    }
   ],
   "source": [
    "parent_dir = '/home/husein/ssd2/processed-noise'\n",
    "# !rm -rf {parent_dir}\n",
    "!mkdir {parent_dir}\n",
    "\n",
    "parent_dir_done = '/home/husein/ssd2/processed-noise-done'\n",
    "# !rm -rf {parent_dir_done}\n",
    "!mkdir {parent_dir_done}"
   ]
  },
  {
   "cell_type": "code",
   "execution_count": 13,
   "metadata": {},
   "outputs": [
    {
     "name": "stderr",
     "output_type": "stream",
     "text": [
      "100%|█████████████████████████████████████████| 529/529 [38:18<00:00,  4.35s/it]\n"
     ]
    }
   ],
   "source": [
    "from tqdm import tqdm\n",
    "\n",
    "for f in tqdm(youtubes):\n",
    "\n",
    "    new_f = unidecode(os.path.split(f)[1].replace('.mp3', '').replace(' ', '_'))\n",
    "    f_done = os.path.join(parent_dir_done, new_f)\n",
    "\n",
    "    if os.path.exists(f_done):\n",
    "        continue\n",
    "        \n",
    "    samples = malaya_speech.streaming.torchaudio.stream(f,\n",
    "                                                    segment_length = 882,\n",
    "                                                    realtime_print = False,\n",
    "                                                    sample_rate = 44100,\n",
    "                                                    min_length = 2.0,\n",
    "                                                    max_length = 16.0,\n",
    "                                                   )\n",
    "    if len(samples):\n",
    "        parent_new_f = os.path.join(parent_dir, new_f)\n",
    "        os.makedirs(parent_new_f, exist_ok=True)\n",
    "\n",
    "        for i in range(len(samples)):\n",
    "            audio_path = os.path.join(parent_new_f, f'{i}.mp3')\n",
    "            torchaudio.save(audio_path, \n",
    "                            torch.tensor(samples[i]['wav_data'].astype('float32')).unsqueeze(0), \n",
    "                            44100, format='mp3')\n",
    "\n",
    "    with open(f_done, 'w') as fopen:\n",
    "        fopen.write('done')"
   ]
  },
  {
   "cell_type": "code",
   "execution_count": 15,
   "metadata": {},
   "outputs": [
    {
     "data": {
      "text/plain": [
       "29801"
      ]
     },
     "execution_count": 15,
     "metadata": {},
     "output_type": "execute_result"
    }
   ],
   "source": [
    "files = glob('/home/husein/ssd2/processed-noise/*/*.mp3')\n",
    "\n",
    "len(files)"
   ]
  },
  {
   "cell_type": "code",
   "execution_count": 16,
   "metadata": {},
   "outputs": [],
   "source": [
    "from datasets import Audio\n",
    "\n",
    "sr = 16000\n",
    "audio = Audio(sampling_rate=sr)"
   ]
  },
  {
   "cell_type": "code",
   "execution_count": 17,
   "metadata": {},
   "outputs": [
    {
     "name": "stderr",
     "output_type": "stream",
     "text": [
      "100%|█████████████████████████████████████| 29801/29801 [07:45<00:00, 64.08it/s]\n"
     ]
    }
   ],
   "source": [
    "from tqdm import tqdm\n",
    "\n",
    "ls = 0\n",
    "for x in tqdm(files):\n",
    "    ls += (len(audio.decode_example(audio.encode_example(x))['array']) / sr)"
   ]
  }
 ],
 "metadata": {
  "kernelspec": {
   "display_name": "Python 3 (ipykernel)",
   "language": "python",
   "name": "python3"
  },
  "language_info": {
   "codemirror_mode": {
    "name": "ipython",
    "version": 3
   },
   "file_extension": ".py",
   "mimetype": "text/x-python",
   "name": "python",
   "nbconvert_exporter": "python",
   "pygments_lexer": "ipython3",
   "version": "3.8.10"
  }
 },
 "nbformat": 4,
 "nbformat_minor": 4
}

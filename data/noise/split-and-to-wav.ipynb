{
 "cells": [
  {
   "cell_type": "code",
   "execution_count": 7,
   "metadata": {},
   "outputs": [
    {
     "data": {
      "text/plain": [
       "147"
      ]
     },
     "execution_count": 7,
     "metadata": {},
     "output_type": "execute_result"
    }
   ],
   "source": [
    "from glob import glob\n",
    "\n",
    "mp3s = list(set(glob('*.mp3')))\n",
    "len(mp3s)"
   ]
  },
  {
   "cell_type": "code",
   "execution_count": 8,
   "metadata": {},
   "outputs": [],
   "source": [
    "!rm -rf clean-wav\n",
    "!mkdir clean-wav"
   ]
  },
  {
   "cell_type": "code",
   "execution_count": 9,
   "metadata": {},
   "outputs": [],
   "source": [
    "from pydub import AudioSegment\n",
    "from tqdm import tqdm\n",
    "from unidecode import unidecode\n",
    "import os"
   ]
  },
  {
   "cell_type": "code",
   "execution_count": 10,
   "metadata": {},
   "outputs": [
    {
     "data": {
      "text/plain": [
       "['UpbeatEnergeticBackgroundMusicForSportsandWorkoutVideoslb4orZYrTYk.mp3',\n",
       " 'TORMENTED_EpicIntenseHybridHorrorMusicMix_EpicModernHorrorSoundDesigni5jLt1rTL5k.mp3',\n",
       " '#trendingtiktokbackgroundmusics__top10besttiktokbackgroundmusicsddwIfoo0VOA.mp3',\n",
       " '(nocopyrightmusic)lofitypebeat\"biscuit\"_freevlogmusic_prod.bylukremboEtZ2m2Zm3vY.mp3',\n",
       " 'FunnyQuirkyComedy(FreeDownloadBackgroundMusic)8MgA3SUwFHc.mp3',\n",
       " 'SadBackgroundMusic_NoCopyright_FreeToUseuyogy5IOAg.mp3',\n",
       " 'MusicforVlogs#1(NonCopyrightedSongs)Czf3anzzUjo.mp3',\n",
       " 'DramaticBackgroundMusic_SadCinematicMusicInstrumental_DramabyAShamaluevMusicSzPwubvotx0.mp3',\n",
       " 'InspiringandUpliftingBackgroundMusicForVideos&PresentationsSSqgaFE9igo.mp3',\n",
       " 'POPULARMEMECLIPSFORYOURYOUTUBEVIDEOEDITING(NOCOPYRIGHT)abfRfox10VM.mp3',\n",
       " 'CafeSoundsforStudy,CoffeeShopAmbience(LofiHiphop,Chillhop)4kMckcmhOU5M.mp3',\n",
       " 'GustixaFullAlbum_LofiRemix3gXv6OC2Eo.mp3',\n",
       " 'OldRingingPhoneSound_OldTelephoneRingEffectN2jZmXePKV0.mp3',\n",
       " 'OneHourof_HQCoffeeShopBackgroundNoiseBOdLmxy06H0.mp3',\n",
       " 'LongCreepyScaryHalloweenMusicHorrorMusicSuspenseMusicwP8_mhRkkfc.mp3',\n",
       " 'SubtleTensionMusicforbackground__softsuspenseorscareyscenesVmcociyH0d8.mp3',\n",
       " 'ModernWarfareSeason6LobbyMusic(Warzone_MultiplayerMenuTheme)_FULLVERSION85VrVOBtRzY.mp3',\n",
       " 'UpbeatMusic_HappyMusicBeatstoRelax,Work,Studyp1IChPfD2s.mp3',\n",
       " 'WeddingBackgroundMusic_RomanticandInspirationalPianoInstrumentalbyAShamaluevMusic3in_nnFCV2c.mp3',\n",
       " 'MikePosner_ITookAPillInIbiza(InstrumentalRemix)jw7qC2aPfos.mp3',\n",
       " 'MOSTSEARCHEDTIKTOKSONGSCOMPILATION_TIKTOKTRENDINGSONGS#3DHbKZliVlX4.mp3',\n",
       " 'Top150TrendingTiktokSongs(WithLyrics)_Tiktok9f4cUx8Dgmw.mp3',\n",
       " 'FreeSoundeffectsforVlogerQ6H_2BTlWeQ.mp3',\n",
       " 'CrowdLaughingSoundEffectsAllSoundsq69VePqZRQ.mp3',\n",
       " 'TransformersSounds,RobotSFX,VideoGameSampleLibrary,RoboticAssaultTexturedSFXlX1cvOsyzmw.mp3',\n",
       " 'Adventures_AHimitsu*[FreeCopyrightsafeMusic]MkNeIUgNPQ8.mp3',\n",
       " 'HeavyMetalRockBackgroundMusic[M4CRelease]k9jpEaj2yM0.mp3',\n",
       " \"'MELANCHOLIA'MusicBox_Sad,creepysongu9WsZoceais.mp3\",\n",
       " 'ElectronicBackgroundMusicForStudying_ChillOutInstrumentalStudyMix[Part3]Z4GWph9Sl4s.mp3',\n",
       " '#trendingtiktokbackgroundmusics_top7besttiktokbackgroundmusics_downloadnowHTi17aDs3zQ.mp3',\n",
       " 'cutelofimix_songstohelpyoubehappy_Kuangeru[JAPANESE_LOFI_FUTURE_BASS]XN41UJ7EZ4E.mp3',\n",
       " 'FacetimeSound_RingingRoLWTaUgMM.mp3',\n",
       " 'CoolandInspiringIndieRockBackgroundMusicForVideosJh2K1x7klcY.mp3',\n",
       " 'PodcastBackgroundMusic_RoyaltyFreeZbz82eeyU.mp3',\n",
       " \"World'sMostHeroicEmotionalMusic_bySkyMubsGHSX1lBVDEY.mp3\",\n",
       " 'TikTokSongs2020_TikTokPlaylist(TikTokHits2020)Tfjl7KA9X6c.mp3',\n",
       " 'NOCOPYRIGHTNewsFanfares_NewsBackgroundMusicFreeCopyrightbyMUSIC4VIDEO2X2bBnIkwE.mp3',\n",
       " 'UpbeatandHappyBackgroundMusicW1xwTqgzQ_g.mp3',\n",
       " '1hourofAmbientFantasyMusic_TranquilAtmosphericAmbience_EnchantedLandsRQcLIms75U.mp3',\n",
       " 'PhoneInternalRinging_Calling_SoundEffectforeditingpaFOnXFjNFU.mp3',\n",
       " 'ModernCorporate&BusinessBackgroundMusic_PresentationMusicInstrumental_MUSIC4VIDEOLSfgnfxhXqk.mp3',\n",
       " 'BestMusic2020Mix_BestofEDM_BestGamingMusicNCS,Trap,Bass,Dubstep,DnB,House1pAnxsrpVk.mp3',\n",
       " 'RockBackgroundMusicInstrumentalTWJIJmZEMXc.mp3',\n",
       " 'NOCOPYRIGHTCorporatePresentationBackgroundMusic_BusinessEventMusicFreeCopyrightecmtTCeMgY.mp3',\n",
       " 'SAL_RomanticBackgroundMusicVqRWUdo_mA4.mp3',\n",
       " 'RockBackgroundMusicForCommercialVideoswDE8oUiBn8.mp3',\n",
       " 'SoundEffectsUsedbyYoutubers_Vloggers_TOP5PopularLaughsZXeESiPskyw.mp3',\n",
       " 'CrowdTalking[FreeSoundEffects]mLld3JVwxew.mp3',\n",
       " 'TelephoneRingingsoundEffectNK92DUyyngc.mp3',\n",
       " 'Ikson_NewDay(VlogNoCopyrightMusic)cVA9JHwbFY.mp3',\n",
       " 'PopularVideoMemes(2)ForEditing_NOCOPYRIGHT&NOWATERMARK_SS1912_raRRursUG0.mp3',\n",
       " 'BestofSadCinematicBackgroundMusic_EmotionalDramaticMusicInstrumental_byAShamaluevMusicuIFFF8p11Hk.mp3',\n",
       " 'BestGamingMusic2020Mix_BestofEDM_NCS,Trap,Dubstep,DnB,ElectroHouseKZiSp66SgSo.mp3',\n",
       " 'RockBackgroundMusicforVideo[royaltyfree]xQEaWZ8HJQ.mp3',\n",
       " 'SkynetPrototype,MilitaryRobotSoundEffects,SoundLibraryforDownloadGt0ajtBAiGo.mp3',\n",
       " 'Halloweensoundeffect2017yl1Ez0Q2Q9U.mp3',\n",
       " 'SoundEvery2000sKidsRememberz9OGF0rYlss.mp3',\n",
       " 'CoolMotivationalBackgroundMusicforSports&WorkoutVideos2biM6Szd3g.mp3',\n",
       " 'Ampyx_HoloIv5P21D76bw.mp3',\n",
       " 'PopularTrollSoundEffectsYoutubersuse(HD)2020_30PopularSoundEffects_Memes_lockdownHsXdvP8rSIo.mp3',\n",
       " '(NoCopyright)NewsBackgroundMusicForVideos,TVandRadio_byAShamaluevMusic0uocFiwMD4.mp3',\n",
       " 'CHILLVIBES_Chill&aestheticmusicplaylistoJnF5VxTO5g.mp3',\n",
       " 'RobotArmSOUNDEFFECT_RoboterArmHydraulicsSOUNDS896eFuYsPjM.mp3',\n",
       " 'PeopleTalkingatPartySoundEffectdiosuXDwcg0.mp3',\n",
       " 'HappyBackgroundMusicNoCopyrightRoyaltyFreeFunfBhQzaeU5jo.mp3',\n",
       " 'ChillStudyBeats6_*instrumentalhiphopmix[2019]bQzIQa5YKvw.mp3',\n",
       " 'ElectronicBackgroundMusicForStudying_ChillOutInstrumentalStudyMix[Part2]HIlG2NKnsVA.mp3',\n",
       " 'PiccadillyCircus_ECYYb5PNfs.mp3',\n",
       " 'EpicCinematicBackgroundMusicForVideosgqfHkH3W4lQ.mp3',\n",
       " 'StunningWeddingBrideEntranceMusicWWcDt_xJ7I.mp3',\n",
       " 'POPULARMEMECLIPSFORYOURYOUTUBEVIDEOEDITING(NOCOPYRIGHT)qKHyhAKiPSY.mp3',\n",
       " 'NewsBackgroundMusic_NewsMusicOVlA9UOlSlM.mp3',\n",
       " 'DarkMusic_LucifersHymn_ChoirgfG9aJzFPd4.mp3',\n",
       " 'RobotSoundEffects,AssaultMech,RoboticWarUnitSoundEffects3AXENeFFvAg.mp3',\n",
       " 'That2A.M.FreshAirEJew8Mvgau0.mp3',\n",
       " 'BackgroundMusic_EpicTensionandMysterious2OD13fA9Qu0.mp3',\n",
       " 'RelaxingBackgroundMusic_relaxdailyBSidesNdeg1qycqF1CWcXg.mp3',\n",
       " '(Free)NonCopyrightedBackgroundMusic!T5o_0BoTvWg.mp3',\n",
       " 'CrowdSOUNDEFFECT_TalkingPoepleNoiseAmbienceChattersoundfx2STdV_KGkpc.mp3',\n",
       " 'RoyaltyFreeHappyBackgroundMusicforVlogsNoCopyrightI9Egyq91XlM.mp3',\n",
       " 'PERFECTBACKGROUNDASMR~forstudying,gaming,working,etc[?]UuEMaRgAtZM.mp3',\n",
       " 'NOCOPYRIGHTBusinessBackgroundMusic_CopyrightFreeCorporatePromoMusicBackgroundMUSIC4VIDEOTboWOSW7qCI.mp3',\n",
       " 'ArtofSilence_Dramatic_Cinematic[Freetouse]3VpYCGx0C4.mp3',\n",
       " \"Backgroundmusicfornewsintro_'BreakingNews'_newssound_newsmusicroyaltyfreetrack2B2oV_ZLigs.mp3\",\n",
       " 'aestheticsongs_ruinedbytiktokb9VMm6L476M.mp3',\n",
       " 'NOCOPYRIGHTRockMusicBackground_SportRockBackgroundMusicCopyrightFreebyMUSIC4VIDEOSmv4MrBtgWs.mp3',\n",
       " 'EnergeticRockBackgroundMusicForSports&WorkoutVideosYGSelD1TZWY.mp3',\n",
       " 'CoolMotivatingBackgroundMusicforSports&WorkoutVideoswt8nzHv9Gn8.mp3',\n",
       " 'SmallCrowdTalkingAmbienceIJQdnHT3MCA.mp3',\n",
       " '1hourbackgroundmusic_musicforvloggersnocopyrightDaTmAZLXB9c.mp3',\n",
       " 'InsidiousThemeB1TFVS23z7g.mp3',\n",
       " 'MostHappyBackgroundMusicForVideosMU0Yp0qmYEs.mp3',\n",
       " 'TwoStepsFromHell_25TracksBestofAllTime_MostPowerfulEpicMusicMix[Part1]9O4_awEHh1g.mp3',\n",
       " '25MelhoresMusicasnoViolaoInstrumentalParaOuvireRelaxar_Solosdeviolao2020[FINGERSTYLE]dzhWwYNWQOs.mp3',\n",
       " 'Love_RomanticBackgroundMusicForVideosandFilms_byAShamaluevMusicp_CtUCig6LQ.mp3',\n",
       " 'LaughTrackiYVO5bUFww0.mp3',\n",
       " 'Top10backgroundmusic_mostpopularonYouTube_Nocopyrightsongs_Part_11gKs4pIaJHs.mp3',\n",
       " 'PhoneRinging12GJ1BZxKwc.mp3',\n",
       " 'NOCOPYRIGHTNewsIntroMusic_BreakingNewsBackgroundMusicFreeCopyrightbyMUSIC4VIDEOogS_MELUhsc.mp3',\n",
       " 'PodcastIntromusicnocopyright_CommercialbackgroundmusicCopyrightfree1HG7mutC4eM.mp3',\n",
       " 'GuitarVibe*lofihiphopmixo9PhwcJqBQ.mp3',\n",
       " 'PositiveTropicalVibes_HappyMusicBeatstoRelax,Work,Studyo22uGQefQg.mp3',\n",
       " 'Rick&Morty_EvilMorty_SadPianoVersion1pOQ6QDTTKk.mp3',\n",
       " 'Thexx_Intro1HourZPsaP6prCos.mp3',\n",
       " 'TikTok2020_BestTikTokMusic2020_Top10TikTokSongs2020WQC7oCDpB7U.mp3',\n",
       " 'CoolEnergeticRockBackgroundMusicForVideosvUb9wuU7M.mp3',\n",
       " 'EpicTrapBackgroundMusicForVideos_DealbyAShamaluevMusicZl7JTrJspF4.mp3',\n",
       " '3HoursofScary,Ominous&CreepyHorrorMusic_InstrumentalHalloweenMusicmlLGwW7eHTI.mp3',\n",
       " 'NOCOPYRIGHTTVBroadcastBackgroundMusic_NewsBackgroundMusicFreeCopyrightbyMUSIC4VIDEOgvADzrWBqiM.mp3',\n",
       " 'StrangerThingsC418Remix1hour+BASSBOOSTEDMUSTWATCH!YB9K1C8Ybzk.mp3',\n",
       " 'BestofRomanticCinematicBackgroundMusic_BeautifulLoveMusicInstrumental_byAShamaluevMusicDZXZWmZlzLo.mp3',\n",
       " 'LightMusic_soft,uplifting,work,focusNQKC24th90U.mp3',\n",
       " 'RAININGINOSAKA(LofiHipHop)YOJsKatWTs.mp3',\n",
       " 'Aesthetic_ChillBackgroundMusic(NoCopyright)774yYi0Ta8.mp3',\n",
       " 'BestMusicMix2020BestofEDMMix_GamingMusicNCS,Trap,Dubstep,DnB,ElectroHouseR341OIjwb_I.mp3',\n",
       " 'PopularBackgroundMusicYoutubersUse!!!kyEIjLmEvo.mp3',\n",
       " 'UpbeatDrums&PercussionBackgroundMusicForTypographyVideosZOJMaV_Heg.mp3',\n",
       " 'InspiringCinematicBackgroundMusicForVideos3sCGysVB41k.mp3',\n",
       " 'FunnyBackgroundMusic_FunnyMusicForAwkwardComedyBXeq713R444.mp3',\n",
       " 'RoboticSoundEffectVeg_2Nr30NI.mp3',\n",
       " 'DarkTensionRisingMusic_(DownloadandRoyaltyFREE)_zvQoPyY2XE.mp3',\n",
       " 'EducationalBackgroundMusic_EducationBackgroundMusicNoCopyright0cjxdNnmKNs.mp3',\n",
       " 'AcousticGuitarInstrumentalBackgroundMusicforVideosINoCopyrightMusickUZTWj2Lxo0.mp3',\n",
       " 'THEREISAHEROINUS_EpicMusicMixgbVpNqiR0YA.mp3',\n",
       " 'InspirationalCinematicBackgroundMusic_AmbientPianoInstrumental_byAShamaluevMusicikvSxMtRwnE.mp3',\n",
       " 'TenseCinematicInstrumentalAmbientMusic_FreeMusicbyArgsoundeTz6Qp7QE_c.mp3',\n",
       " 'chillbackgroundmusicforvlogs!!WjfFh2CfIK4.mp3',\n",
       " 'Else_Paris1HourjGEvVxplz8s.mp3',\n",
       " 'RomanticBackgroundMusic_BeautifulPianoandOrchestralMusic_LovelinessbyAShamaluevMusic_ZNcb0NcJ_I.mp3',\n",
       " 'BackgroundMusicforVlogsIHappy,Upbeat&PerfectINoCopyrightMusicrhV_DIoebmU.mp3',\n",
       " 'BassBoostedTrap_AGamingMusicMix_BestOfEDM052zvUHXTKg.mp3',\n",
       " 'StarWars_LofiHipHop78cyAaGaKc.mp3',\n",
       " 'InspiringAcousticBackgroundMusicXXmONTtpfDk.mp3',\n",
       " 'ModernCorporate&BusinessBackgroundMusic_PresentationMusicInstrumental_AShamaluevMusics8SrerotCV8.mp3',\n",
       " 'ScaryHorrorMusic_Haunted(CopyrightandRoyaltyFree)ZOrxwqvfD2E.mp3',\n",
       " 'NOCOPYRIGHTBusinessBackgroundMusic_InstrumentalPresentationMusicNoCopyright_MUSIC4VIDEOnm1xhj47kpc.mp3',\n",
       " 'Coolscarymusic1B3KuVYg6M0.mp3',\n",
       " 'Spooky_HalloweenBackgroundMusic70HCGgKog_U.mp3',\n",
       " 'UpbeatandHappyPopBackgroundMusicForVideosuETADyoN0.mp3',\n",
       " 'TOGETHERWERISE_EpicHeroicMusicMix_PowerfulHybridOrchestralMusicn3VSKnl99Fo.mp3',\n",
       " 'MotivationalUpliftingCinematicBackgroundMusic_RoyaltyFree5hTaTrJowJk.mp3',\n",
       " '(NoCopyrightMusic)PodcastMusic_VlogBackgroundMusicforVideobyAlecKoffrFdy1Gnubxg.mp3',\n",
       " 'EarRingingSoundEffect_FreeDownloadHDrHTinEcgLn0.mp3',\n",
       " 'UpbeatHipHopBackgroundMusicForVlogsandYouTuberskvsFXQFCYbY.mp3',\n",
       " 'RelaxingBossaNova&JazzMusicForStudy_SmoothJazzMusic_BackgroundMusicYJQRCyPpQ.mp3',\n",
       " 'EpicIntenseScaryHorrorMusic_EpicDarkHybridHorrorMusicMixGvEhk0lRsE0.mp3',\n",
       " 'CryingAlone_Sad&EmotionalPianoSongInstrumentalzMvCfm_AjYo.mp3']"
      ]
     },
     "execution_count": 10,
     "metadata": {},
     "output_type": "execute_result"
    }
   ],
   "source": [
    "mp3s"
   ]
  },
  {
   "cell_type": "code",
   "execution_count": 6,
   "metadata": {},
   "outputs": [],
   "source": [
    "for f in mp3s:\n",
    "    r = unidecode(f).replace(' ', '-').replace('--', '_').replace('-','')\n",
    "    os.replace(f, r)"
   ]
  },
  {
   "cell_type": "code",
   "execution_count": 11,
   "metadata": {},
   "outputs": [],
   "source": [
    "def loop(mp3s):\n",
    "    mp3s = mp3s[0]\n",
    "    for f in tqdm(mp3s):\n",
    "        try:\n",
    "            replace = f.replace('.mp3', '')\n",
    "            os.system(f'ffmpeg -i \"{f}\" -f segment -segment_time {60 * 3}  -c copy \"{replace}-part-%03d.mp3\"')\n",
    "            globed = glob(f'{replace}*')\n",
    "            for g in globed:\n",
    "                audio = AudioSegment.from_mp3(g)\n",
    "                audio.set_frame_rate(44100).set_channels(1).export(f\"clean-wav/{g.replace('.mp3','.wav')}\", format = 'wav')            \n",
    "        except Exception as e:\n",
    "            print(f, e)"
   ]
  },
  {
   "cell_type": "code",
   "execution_count": 12,
   "metadata": {},
   "outputs": [
    {
     "name": "stderr",
     "output_type": "stream",
     "text": [
      "100%|██████████| 4/4 [00:08<00:00,  2.05s/it]\n",
      "100%|██████████| 4/4 [00:09<00:00,  2.41s/it]\n",
      "100%|██████████| 4/4 [00:09<00:00,  2.48s/it]\n",
      "100%|██████████| 4/4 [00:11<00:00,  2.76s/it]\n",
      "100%|██████████| 4/4 [00:13<00:00,  3.42s/it]\n",
      "100%|██████████| 4/4 [00:13<00:00,  3.42s/it]\n",
      "100%|██████████| 4/4 [00:15<00:00,  3.88s/it]\n",
      "100%|██████████| 4/4 [00:08<00:00,  2.24s/it]\n",
      "100%|██████████| 4/4 [00:24<00:00,  6.16s/it]\n",
      "100%|██████████| 4/4 [00:29<00:00,  7.26s/it]\n",
      "100%|██████████| 4/4 [00:30<00:00,  7.53s/it]\n",
      "100%|██████████| 4/4 [00:19<00:00,  4.84s/it]\n",
      "100%|██████████| 4/4 [00:42<00:00, 10.55s/it]\n",
      "100%|██████████| 4/4 [00:49<00:00, 12.36s/it]\n",
      "100%|██████████| 4/4 [00:52<00:00, 13.10s/it]\n",
      "100%|██████████| 4/4 [00:46<00:00, 11.68s/it]\n",
      "100%|██████████| 4/4 [01:01<00:00, 15.41s/it]\n",
      " 75%|███████▌  | 3/4 [01:10<00:18, 18.07s/it]"
     ]
    },
    {
     "name": "stdout",
     "output_type": "stream",
     "text": [
      "1hourofAmbientFantasyMusic_TranquilAtmosphericAmbience_EnchantedLandsRQcLIms75U.mp3 Decoding failed. ffmpeg returned error code: 1\n",
      "\n",
      "Output from ffmpeg/avlib:\n",
      "\n",
      "ffmpeg version 4.3.1-static https://johnvansickle.com/ffmpeg/  Copyright (c) 2000-2020 the FFmpeg developers\n",
      "  built with gcc 8 (Debian 8.3.0-6)\n",
      "  configuration: --enable-gpl --enable-version3 --enable-static --disable-debug --disable-ffplay --disable-indev=sndio --disable-outdev=sndio --cc=gcc --enable-fontconfig --enable-frei0r --enable-gnutls --enable-gmp --enable-libgme --enable-gray --enable-libaom --enable-libfribidi --enable-libass --enable-libvmaf --enable-libfreetype --enable-libmp3lame --enable-libopencore-amrnb --enable-libopencore-amrwb --enable-libopenjpeg --enable-librubberband --enable-libsoxr --enable-libspeex --enable-libsrt --enable-libvorbis --enable-libopus --enable-libtheora --enable-libvidstab --enable-libvo-amrwbenc --enable-libvpx --enable-libwebp --enable-libx264 --enable-libx265 --enable-libxml2 --enable-libdav1d --enable-libxvid --enable-libzvbi --enable-libzimg\n",
      "  libavutil      56. 51.100 / 56. 51.100\n",
      "  libavcodec     58. 91.100 / 58. 91.100\n",
      "  libavformat    58. 45.100 / 58. 45.100\n",
      "  libavdevice    58. 10.100 / 58. 10.100\n",
      "  libavfilter     7. 85.100 /  7. 85.100\n",
      "  libswscale      5.  7.100 /  5.  7.100\n",
      "  libswresample   3.  7.100 /  3.  7.100\n",
      "  libpostproc    55.  7.100 / 55.  7.100\n",
      "[mp3 @ 0x555556205500] Invalid frame size (576): Could not seek to 1197.\n",
      "1hourofAmbientFantasyMusic_TranquilAtmosphericAmbience_EnchantedLandsRQcLIms75U-part-020.mp3: Invalid argument\n",
      "\n"
     ]
    },
    {
     "name": "stderr",
     "output_type": "stream",
     "text": [
      "100%|██████████| 4/4 [01:11<00:00, 17.92s/it]\n",
      "100%|██████████| 4/4 [01:12<00:00, 18.18s/it]\n",
      "100%|██████████| 4/4 [01:13<00:00, 18.46s/it]\n",
      "100%|██████████| 4/4 [01:14<00:00, 18.75s/it]\n",
      "100%|██████████| 4/4 [01:20<00:00, 20.06s/it]\n",
      "100%|██████████| 4/4 [01:22<00:00, 20.59s/it]\n",
      "100%|██████████| 4/4 [01:40<00:00, 25.16s/it]\n",
      "100%|██████████| 4/4 [01:59<00:00, 29.88s/it]\n",
      "100%|██████████| 4/4 [02:06<00:00, 31.69s/it]\n",
      "100%|██████████| 4/4 [02:07<00:00, 31.92s/it]\n",
      "100%|██████████| 4/4 [02:26<00:00, 36.62s/it]\n",
      "\n",
      "100%|██████████| 4/4 [02:27<00:00, 36.94s/it]\n",
      "100%|██████████| 4/4 [02:40<00:00, 40.22s/it]]\n",
      "100%|██████████| 4/4 [02:50<00:00, 42.71s/it] \n",
      "100%|██████████| 4/4 [03:15<00:00, 48.95s/it]\n",
      "100%|██████████| 4/4 [03:21<00:00, 50.42s/it]\n",
      "100%|██████████| 4/4 [03:24<00:00, 51.03s/it]\n",
      "100%|██████████| 4/4 [03:26<00:00, 51.68s/it]\n",
      "100%|██████████| 3/3 [03:48<00:00, 76.05s/it] \n"
     ]
    }
   ],
   "source": [
    "from mp import multiprocessing\n",
    "multiprocessing(mp3s, loop, cores = 30, returned = False)"
   ]
  },
  {
   "cell_type": "code",
   "execution_count": 13,
   "metadata": {},
   "outputs": [],
   "source": [
    "!rm *part*.mp3"
   ]
  }
 ],
 "metadata": {
  "kernelspec": {
   "display_name": "Python 3",
   "language": "python",
   "name": "python3"
  },
  "language_info": {
   "codemirror_mode": {
    "name": "ipython",
    "version": 3
   },
   "file_extension": ".py",
   "mimetype": "text/x-python",
   "name": "python",
   "nbconvert_exporter": "python",
   "pygments_lexer": "ipython3",
   "version": "3.6.8"
  }
 },
 "nbformat": 4,
 "nbformat_minor": 2
}

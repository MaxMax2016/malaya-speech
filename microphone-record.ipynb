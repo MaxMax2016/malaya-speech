{
 "cells": [
  {
   "cell_type": "code",
   "execution_count": 1,
   "metadata": {},
   "outputs": [],
   "source": [
    "import malaya_speech"
   ]
  },
  {
   "cell_type": "code",
   "execution_count": 2,
   "metadata": {},
   "outputs": [],
   "source": [
    "vad = malaya_speech.vad.webrtc()"
   ]
  },
  {
   "cell_type": "code",
   "execution_count": 4,
   "metadata": {},
   "outputs": [
    {
     "name": "stdout",
     "output_type": "stream",
     "text": [
      "- Listening (ctrl-C to exit) ...\\ Listening (ctrl-C to exit) ...| Listening (ctrl-C to exit) .../ Listening (ctrl-C to exit) ...- Listening (ctrl-C to exit) ...\\ Listening (ctrl-C to exit) ... Listening (ctrl-C to exit) ...\\ Listening (ctrl-C to exit) ...| Listening (ctrl-C to exit) .../ Listening (ctrl-C to exit) ...- Listening (ctrl-C to exit) ...\\ Listening (ctrl-C to exit) ...| Listening (ctrl-C to exit) .../ Listening (ctrl-C to exit) ...- Listening (ctrl-C to exit) ...\\ Listening (ctrl-C to exit) ...| Listening (ctrl-C to exit) .../ Listening (ctrl-C to exit) ...- Listening (ctrl-C to exit) ...\\ Listening (ctrl-C to exit) ...| Listening (ctrl-C to exit) .../ Listening (ctrl-C to exit) ...- Listening (ctrl-C to exit) ...\\ Listening (ctrl-C to exit) ...| Listening (ctrl-C to exit) .../ Listening (ctrl-C to exit) ...- Listening (ctrl-C to exit) ...\\ Listening (ctrl-C to exit) ...| Listening (ctrl-C to exit) .../ Listening (ctrl-C to exit) ...- Listening (ctrl-C to exit) ...\\ Listening (ctrl-C to exit) ...| Listening (ctrl-C to exit) .../ Listening (ctrl-C to exit) ...- Listening (ctrl-C to exit) ...\\ Listening (ctrl-C to exit) ... Listening (ctrl-C to exit) ...\\ Listening (ctrl-C to exit) ...| Listening (ctrl-C to exit) .../ Listening (ctrl-C to exit) ...- Listening (ctrl-C to exit) ...\\ Listening (ctrl-C to exit) ...| Listening (ctrl-C to exit) .../ Listening (ctrl-C to exit) ...- Listening (ctrl-C to exit) ...\\ Listening (ctrl-C to exit) ...| Listening (ctrl-C to exit) .../ Listening (ctrl-C to exit) ...- Listening (ctrl-C to exit) ...\\ Listening (ctrl-C to exit) ...| Listening (ctrl-C to exit) .../ Listening (ctrl-C to exit) ...- Listening (ctrl-C to exit) ...\\ Listening (ctrl-C to exit) ...| Listening (ctrl-C to exit) .../ Listening (ctrl-C to exit) ...- Listening (ctrl-C to exit) ...\\ Listening (ctrl-C to exit) ...| Listening (ctrl-C to exit) .../ Listening (ctrl-C to exit) ...- Listening (ctrl-C to exit) ...\\ Listening (ctrl-C to exit) ...| Listening (ctrl-C to exit) .../ Listening (ctrl-C to exit) ...- Listening (ctrl-C to exit) ...\\ Listening (ctrl-C to exit) ...| Listening (ctrl-C to exit) ...saved audio to savewav_2020-09-05_23-31-44_299587.wav\n",
      "\r"
     ]
    }
   ],
   "source": [
    "malaya_speech.streaming.record(vad)"
   ]
  }
 ],
 "metadata": {
  "kernelspec": {
   "display_name": "Python 3",
   "language": "python",
   "name": "python3"
  },
  "language_info": {
   "codemirror_mode": {
    "name": "ipython",
    "version": 3
   },
   "file_extension": ".py",
   "mimetype": "text/x-python",
   "name": "python",
   "nbconvert_exporter": "python",
   "pygments_lexer": "ipython3",
   "version": "3.7.7"
  }
 },
 "nbformat": 4,
 "nbformat_minor": 4
}

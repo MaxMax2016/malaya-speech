{
 "cells": [
  {
   "cell_type": "code",
   "execution_count": 1,
   "metadata": {},
   "outputs": [],
   "source": [
    "# !git pull"
   ]
  },
  {
   "cell_type": "code",
   "execution_count": 8,
   "metadata": {},
   "outputs": [],
   "source": [
    "# https://github.com/huseinzol05/Malay-Dataset/tree/master/speech/sebut-perkataan\n",
    "# !wget https://f000.backblazeb2.com/file/malay-dataset/speech-bahasa.zip\n",
    "# !mkdir sebut-perkataan\n",
    "# !unzip speech-bahasa.zip -d sebut-perkataan"
   ]
  },
  {
   "cell_type": "code",
   "execution_count": 9,
   "metadata": {},
   "outputs": [],
   "source": [
    "import malaya_speech.train as train\n",
    "import malaya_speech"
   ]
  },
  {
   "cell_type": "code",
   "execution_count": 10,
   "metadata": {},
   "outputs": [
    {
     "data": {
      "text/plain": [
       "[106,\n",
       " 103,\n",
       " 110,\n",
       " 110,\n",
       " 113,\n",
       " 34,\n",
       " 109,\n",
       " 103,\n",
       " 118,\n",
       " 107,\n",
       " 99,\n",
       " 109,\n",
       " 34,\n",
       " 117,\n",
       " 99,\n",
       " 123,\n",
       " 99,\n",
       " 34,\n",
       " 111,\n",
       " 99,\n",
       " 117,\n",
       " 106,\n",
       " 99,\n",
       " 111,\n",
       " 1]"
      ]
     },
     "execution_count": 10,
     "metadata": {},
     "output_type": "execute_result"
    }
   ],
   "source": [
    "encoded = malaya_speech.char.encode('hello ketiak saya masham')\n",
    "encoded"
   ]
  },
  {
   "cell_type": "code",
   "execution_count": 11,
   "metadata": {},
   "outputs": [
    {
     "data": {
      "text/plain": [
       "1463"
      ]
     },
     "execution_count": 11,
     "metadata": {},
     "output_type": "execute_result"
    }
   ],
   "source": [
    "from glob import glob\n",
    "import os\n",
    "\n",
    "files = glob('sebut-perkataan/*/*.wav', recursive = True)\n",
    "len(files)"
   ]
  },
  {
   "cell_type": "code",
   "execution_count": 25,
   "metadata": {},
   "outputs": [
    {
     "data": {
      "text/plain": [
       "'sebut perkataan amko'"
      ]
     },
     "execution_count": 25,
     "metadata": {},
     "output_type": "execute_result"
    }
   ],
   "source": [
    "def get_text(file):\n",
    "    file = file.replace('.wav', '')\n",
    "    splitted = file.split('/')[1:]\n",
    "    splitted[0] = splitted[0].replace('-woman', '').replace('-man', '').replace('-', ' ')\n",
    "    return ' '.join(splitted).lower().strip()\n",
    "    \n"
   ]
  },
  {
   "cell_type": "code",
   "execution_count": 30,
   "metadata": {},
   "outputs": [
    {
     "data": {
      "text/plain": [
       "(1463, 1463)"
      ]
     },
     "execution_count": 30,
     "metadata": {},
     "output_type": "execute_result"
    }
   ],
   "source": [
    "audios, texts = [], []\n",
    "\n",
    "for file in files:\n",
    "    \n",
    "    text = get_text(file)\n",
    "    audios.append(file)\n",
    "    texts.append(text)\n",
    "\n",
    "    \n",
    "len(audios), len(texts)"
   ]
  },
  {
   "cell_type": "code",
   "execution_count": 34,
   "metadata": {},
   "outputs": [],
   "source": [
    "from tqdm import tqdm\n",
    "\n",
    "def generator():\n",
    "    for i in tqdm(range(len(audios))):\n",
    "        wav_data, sr = malaya_speech.load(audios[i])\n",
    "\n",
    "        yield {\n",
    "            'waveforms': wav_data.tolist(),\n",
    "            'waveform_lens': [len(wav_data)],\n",
    "            'targets': malaya_speech.char.encode(texts[i]),\n",
    "            'raw_transcript': [texts[i]],\n",
    "        }\n",
    "        \n",
    "generator = generator()"
   ]
  },
  {
   "cell_type": "code",
   "execution_count": 35,
   "metadata": {},
   "outputs": [],
   "source": [
    "import os\n",
    "import tensorflow as tf\n",
    "\n",
    "os.system('rm tolong-sebut/data/*')\n",
    "DATA_DIR = os.path.expanduser('tolong-sebut/data')\n",
    "tf.gfile.MakeDirs(DATA_DIR)"
   ]
  },
  {
   "cell_type": "code",
   "execution_count": 36,
   "metadata": {},
   "outputs": [],
   "source": [
    "shards = [{'split': 'train', 'shards': 99}, {'split': 'dev', 'shards': 1}]"
   ]
  },
  {
   "cell_type": "code",
   "execution_count": 37,
   "metadata": {},
   "outputs": [
    {
     "name": "stdout",
     "output_type": "stream",
     "text": [
      "WARNING:tensorflow:From /home/husein/malaya-speech/malaya_speech/train/prepare_data.py:89: The name tf.gfile.Exists is deprecated. Please use tf.io.gfile.exists instead.\n",
      "\n",
      "WARNING:tensorflow:From /home/husein/malaya-speech/malaya_speech/train/prepare_data.py:199: The name tf.python_io.TFRecordWriter is deprecated. Please use tf.io.TFRecordWriter instead.\n",
      "\n"
     ]
    },
    {
     "name": "stderr",
     "output_type": "stream",
     "text": [
      "  0%|          | 0/1463 [00:00<?, ?it/s]"
     ]
    },
    {
     "name": "stdout",
     "output_type": "stream",
     "text": [
      "WARNING:tensorflow:From /home/husein/malaya-speech/malaya_speech/train/prepare_data.py:205: The name tf.logging.info is deprecated. Please use tf.compat.v1.logging.info instead.\n",
      "\n",
      "INFO:tensorflow:Generating case 0.\n"
     ]
    },
    {
     "name": "stderr",
     "output_type": "stream",
     "text": [
      "100%|██████████| 1463/1463 [00:24<00:00, 60.74it/s]"
     ]
    },
    {
     "name": "stdout",
     "output_type": "stream",
     "text": [
      "WARNING:tensorflow:From /home/husein/malaya-speech/malaya_speech/train/prepare_data.py:218: The name tf.gfile.Rename is deprecated. Please use tf.io.gfile.rename instead.\n",
      "\n",
      "INFO:tensorflow:Generated 1463 Examples\n",
      "INFO:tensorflow:Shuffling data...\n",
      "WARNING:tensorflow:From /home/husein/malaya-speech/malaya_speech/train/prepare_data.py:26: tf_record_iterator (from tensorflow.python.lib.io.tf_record) is deprecated and will be removed in a future version.\n",
      "Instructions for updating:\n",
      "Use eager execution and: \n",
      "`tf.data.TFRecordDataset(path)`\n",
      "WARNING:tensorflow:From /home/husein/malaya-speech/malaya_speech/train/prepare_data.py:57: The name tf.gfile.Remove is deprecated. Please use tf.io.gfile.remove instead.\n",
      "\n"
     ]
    },
    {
     "name": "stderr",
     "output_type": "stream",
     "text": [
      "\n"
     ]
    },
    {
     "name": "stdout",
     "output_type": "stream",
     "text": [
      "INFO:tensorflow:Data shuffled.\n"
     ]
    }
   ],
   "source": [
    "train.prepare_dataset(generator, DATA_DIR, shards, prefix = 'tolong-sebut')"
   ]
  },
  {
   "cell_type": "code",
   "execution_count": null,
   "metadata": {},
   "outputs": [],
   "source": []
  }
 ],
 "metadata": {
  "kernelspec": {
   "display_name": "Python 3",
   "language": "python",
   "name": "python3"
  },
  "language_info": {
   "codemirror_mode": {
    "name": "ipython",
    "version": 3
   },
   "file_extension": ".py",
   "mimetype": "text/x-python",
   "name": "python",
   "nbconvert_exporter": "python",
   "pygments_lexer": "ipython3",
   "version": "3.6.8"
  }
 },
 "nbformat": 4,
 "nbformat_minor": 2
}

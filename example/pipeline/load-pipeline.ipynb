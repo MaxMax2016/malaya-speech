{
 "cells": [
  {
   "cell_type": "markdown",
   "metadata": {},
   "source": [
    "# Pipeline"
   ]
  },
  {
   "cell_type": "markdown",
   "metadata": {},
   "source": [
    "<div class=\"alert alert-info\">\n",
    "\n",
    "This tutorial is available as an IPython notebook at [malaya-speech/example/pipeline](https://github.com/huseinzol05/malaya-speech/tree/master/example/pipeline).\n",
    "    \n",
    "</div>"
   ]
  },
  {
   "cell_type": "markdown",
   "metadata": {},
   "source": [
    "### Common way"
   ]
  },
  {
   "cell_type": "markdown",
   "metadata": {},
   "source": [
    "We write python code like,"
   ]
  },
  {
   "cell_type": "code",
   "execution_count": 1,
   "metadata": {},
   "outputs": [
    {
     "data": {
      "text/plain": [
       "2"
      ]
     },
     "execution_count": 1,
     "metadata": {},
     "output_type": "execute_result"
    }
   ],
   "source": [
    "x = 1\n",
    "\n",
    "def foo(x):\n",
    "    a = x + 1\n",
    "    return a\n",
    "\n",
    "foo(x)"
   ]
  },
  {
   "cell_type": "markdown",
   "metadata": {},
   "source": [
    "This is simple, x -> a(x) -> y, If I want to add b after a and b depends on a,"
   ]
  },
  {
   "cell_type": "code",
   "execution_count": 2,
   "metadata": {},
   "outputs": [
    {
     "data": {
      "text/plain": [
       "4"
      ]
     },
     "execution_count": 2,
     "metadata": {},
     "output_type": "execute_result"
    }
   ],
   "source": [
    "x = 1\n",
    "\n",
    "def foo(x):\n",
    "    a = x + 1\n",
    "    b = a + 2\n",
    "    return b\n",
    "\n",
    "foo(x)"
   ]
  },
  {
   "cell_type": "markdown",
   "metadata": {},
   "source": [
    "x -> a(x) -> b(x) -> y, If I need both value from a, b, just simply returned a and b."
   ]
  },
  {
   "cell_type": "code",
   "execution_count": 3,
   "metadata": {},
   "outputs": [
    {
     "data": {
      "text/plain": [
       "(2, 4)"
      ]
     },
     "execution_count": 3,
     "metadata": {},
     "output_type": "execute_result"
    }
   ],
   "source": [
    "x = 1\n",
    "\n",
    "def foo(x):\n",
    "    a = x + 1\n",
    "    b = a + 2\n",
    "    return a, b\n",
    "\n",
    "foo(x)"
   ]
  },
  {
   "cell_type": "markdown",
   "metadata": {},
   "source": [
    "x -> a(x) -> y\n",
    "\n",
    "y -> b(x) -> y1"
   ]
  },
  {
   "cell_type": "markdown",
   "metadata": {},
   "source": [
    "Now, if I want to make a branch, a -> b -> c, b -> d -> e,"
   ]
  },
  {
   "cell_type": "code",
   "execution_count": 4,
   "metadata": {},
   "outputs": [
    {
     "data": {
      "text/plain": [
       "(2, 4, 7, 3, 1)"
      ]
     },
     "execution_count": 4,
     "metadata": {},
     "output_type": "execute_result"
    }
   ],
   "source": [
    "x = 1\n",
    "\n",
    "def foo(x):\n",
    "    a = x + 1\n",
    "    b = a + 2\n",
    "    c = b + 3\n",
    "    \n",
    "    d = b - 1\n",
    "    e = d - 2\n",
    "    return a, b, c, d, e\n",
    "\n",
    "foo(x)"
   ]
  },
  {
   "cell_type": "markdown",
   "metadata": {},
   "source": [
    "These still look simple, what if,\n",
    "\n",
    "`e` as element, `L` as list of elements,\n",
    "\n",
    "x\\[e\\] -> a(x)-> y\\[l\\] -> batch every 3 elements (l\\[e,e,e\\], ..) -> loop every element apply z(x) -> flatten.\n",
    "\n",
    "And do not forget, returned all steps."
   ]
  },
  {
   "cell_type": "code",
   "execution_count": 5,
   "metadata": {},
   "outputs": [
    {
     "data": {
      "text/plain": [
       "([0, 1, 2, 3, 4, 5, 6, 7, 8, 9],\n",
       " [[0, 1, 2], [3, 4, 5], [6, 7, 8], [9]],\n",
       " [(3, 1.0), (12, 4.0), (21, 7.0), (9, 9.0)],\n",
       " [3, 1.0, 12, 4.0, 21, 7.0, 9, 9.0])"
      ]
     },
     "execution_count": 5,
     "metadata": {},
     "output_type": "execute_result"
    }
   ],
   "source": [
    "x = 10\n",
    "\n",
    "def foo(x):\n",
    "    \n",
    "    def a(x):\n",
    "        return [i for i in range(x)]\n",
    "    \n",
    "    y = a(x)\n",
    "    \n",
    "    def batch(x, batch_size):\n",
    "        r = [x[i: i + batch_size] for i in range(0, len(x), batch_size)]\n",
    "        return r\n",
    "    \n",
    "    batched = batch(y, 3)\n",
    "    \n",
    "    def z(x):\n",
    "        return (sum(x), sum(x) / len(x))\n",
    "    \n",
    "    batched_z = [z(i) for i in batched]\n",
    "    \n",
    "    flatten = []\n",
    "    for i in batched_z:\n",
    "        flatten.extend(i)\n",
    "    \n",
    "    return y, batched, batched_z, flatten\n",
    "\n",
    "foo(x)"
   ]
  },
  {
   "cell_type": "markdown",
   "metadata": {},
   "source": [
    "When the code grow, it is very hard to understand especially when we have multiple branches and elements to list and vice versa.\n",
    "\n",
    "So **malaya-speech Pipeline comes to help!**"
   ]
  },
  {
   "cell_type": "markdown",
   "metadata": {},
   "source": [
    "### Initiate pipeline"
   ]
  },
  {
   "cell_type": "markdown",
   "metadata": {},
   "source": [
    "Now, I want to do the same,\n",
    "\n",
    "x\\[e\\] -> a(x)-> y\\[l\\] -> batch every 3 elements (l\\[e,e,e\\], ..) -> loop every element apply z(x) -> flatten.\n",
    "\n",
    "Using malaya-speech Pipeline."
   ]
  },
  {
   "cell_type": "code",
   "execution_count": 6,
   "metadata": {},
   "outputs": [],
   "source": [
    "from malaya_speech import Pipeline\n",
    "\n",
    "p = Pipeline()\n",
    "\n",
    "def a(x):\n",
    "    return [i for i in range(x)]\n",
    "\n",
    "def z(x):\n",
    "    return (sum(x), sum(x) / len(x))\n",
    "\n",
    "pipeline = (\n",
    "    p.map(a).batching(3).foreach_map(z).flatten()\n",
    ")"
   ]
  },
  {
   "cell_type": "markdown",
   "metadata": {},
   "source": [
    "Yep, simple as that! Do not worry, we will look into each interfaces later."
   ]
  },
  {
   "cell_type": "markdown",
   "metadata": {},
   "source": [
    "### Pipeline visualization"
   ]
  },
  {
   "cell_type": "code",
   "execution_count": 7,
   "metadata": {},
   "outputs": [
    {
     "data": {
      "image/png": "[encoded data removed]",
      "text/plain": [
       "<IPython.core.display.Image object>"
      ]
     },
     "execution_count": 7,
     "metadata": {},
     "output_type": "execute_result"
    }
   ],
   "source": [
    "p.visualize()"
   ]
  },
  {
   "cell_type": "markdown",
   "metadata": {},
   "source": [
    "So now, we can understand what our pipeline trying to do."
   ]
  },
  {
   "cell_type": "code",
   "execution_count": 8,
   "metadata": {},
   "outputs": [
    {
     "data": {
      "text/plain": [
       "{'a': [0, 1, 2, 3, 4, 5, 6, 7, 8, 9],\n",
       " 'batching': ([0, 1, 2], [3, 4, 5], [6, 7, 8], [9]),\n",
       " 'z': [(3, 1.0), (12, 4.0), (21, 7.0), (9, 9.0)],\n",
       " 'flatten': [3, 1.0, 12, 4.0, 21, 7.0, 9, 9.0]}"
      ]
     },
     "execution_count": 8,
     "metadata": {},
     "output_type": "execute_result"
    }
   ],
   "source": [
    "result = p.emit(x)\n",
    "result"
   ]
  },
  {
   "cell_type": "markdown",
   "metadata": {},
   "source": [
    "So the results are pretty same and malaya-speech Pipeline will returned dictionary type."
   ]
  },
  {
   "cell_type": "code",
   "execution_count": 9,
   "metadata": {},
   "outputs": [
    {
     "data": {
      "image/png": "[encoded data removed]",
      "text/plain": [
       "<IPython.core.display.Image object>"
      ]
     },
     "execution_count": 9,
     "metadata": {},
     "output_type": "execute_result"
    }
   ],
   "source": [
    "def a(x):\n",
    "    return [i for i in range(x)]\n",
    "\n",
    "def left(x):\n",
    "    return (sum(x), sum(x) / len(x))\n",
    "\n",
    "def right(x):\n",
    "    return [i * i for i in x]\n",
    "\n",
    "p = Pipeline()\n",
    "batched = p.map(a).batching(3)\n",
    "pipe_left = batched.foreach_map(left)\n",
    "pipe_right = batched.foreach_map(right)\n",
    "combined = pipe_left.zip(pipe_right).flatten()\n",
    "p.visualize()"
   ]
  },
  {
   "cell_type": "code",
   "execution_count": 10,
   "metadata": {},
   "outputs": [
    {
     "data": {
      "text/plain": [
       "{'a': [0, 1, 2, 3, 4, 5, 6, 7, 8, 9],\n",
       " 'batching': ([0, 1, 2], [3, 4, 5], [6, 7, 8], [9]),\n",
       " 'left': [(3, 1.0), (12, 4.0), (21, 7.0), (9, 9.0)],\n",
       " 'right': [[0, 1, 4], [9, 16, 25], [36, 49, 64], [81]],\n",
       " 'zip': ([(3, 1.0), (12, 4.0), (21, 7.0), (9, 9.0)],\n",
       "  [[0, 1, 4], [9, 16, 25], [36, 49, 64], [81]]),\n",
       " 'flatten': [(3, 1.0),\n",
       "  (12, 4.0),\n",
       "  (21, 7.0),\n",
       "  (9, 9.0),\n",
       "  [0, 1, 4],\n",
       "  [9, 16, 25],\n",
       "  [36, 49, 64],\n",
       "  [81]]}"
      ]
     },
     "execution_count": 10,
     "metadata": {},
     "output_type": "execute_result"
    }
   ],
   "source": [
    "result = p.emit(x)\n",
    "result"
   ]
  },
  {
   "cell_type": "markdown",
   "metadata": {},
   "source": [
    "### Interface"
   ]
  },
  {
   "cell_type": "markdown",
   "metadata": {},
   "source": [
    "#### map\n",
    "\n",
    "`map` is simply apply a function for input."
   ]
  },
  {
   "cell_type": "code",
   "execution_count": 11,
   "metadata": {},
   "outputs": [
    {
     "data": {
      "text/plain": [
       "{'<lambda>': 3}"
      ]
     },
     "execution_count": 11,
     "metadata": {},
     "output_type": "execute_result"
    }
   ],
   "source": [
    "p = Pipeline()\n",
    "p.map(lambda x: x + 1)\n",
    "p.emit(2)"
   ]
  },
  {
   "cell_type": "code",
   "execution_count": 12,
   "metadata": {},
   "outputs": [
    {
     "data": {
      "text/plain": [
       "{'plus': 3}"
      ]
     },
     "execution_count": 12,
     "metadata": {},
     "output_type": "execute_result"
    }
   ],
   "source": [
    "p = Pipeline()\n",
    "p.map(lambda x: x + 1, name = 'plus')\n",
    "p.emit(2)"
   ]
  },
  {
   "cell_type": "code",
   "execution_count": 13,
   "metadata": {},
   "outputs": [
    {
     "data": {
      "text/plain": [
       "{'x_plus': 5}"
      ]
     },
     "execution_count": 13,
     "metadata": {},
     "output_type": "execute_result"
    }
   ],
   "source": [
    "def x(a, b):\n",
    "    return a + b\n",
    "\n",
    "p = Pipeline()\n",
    "p.map(x, b = 3, name = 'plus')\n",
    "p.emit(2)"
   ]
  },
  {
   "cell_type": "markdown",
   "metadata": {},
   "source": [
    "#### batching\n",
    "\n",
    "`batching` is simply batch elements to size of N."
   ]
  },
  {
   "cell_type": "code",
   "execution_count": 14,
   "metadata": {},
   "outputs": [
    {
     "data": {
      "text/plain": [
       "{'batching': ([1, 2], [3, 4], [5])}"
      ]
     },
     "execution_count": 14,
     "metadata": {},
     "output_type": "execute_result"
    }
   ],
   "source": [
    "p = Pipeline()\n",
    "p.batching(2)\n",
    "p.emit([1,2,3,4,5])"
   ]
  },
  {
   "cell_type": "code",
   "execution_count": 15,
   "metadata": {},
   "outputs": [
    {
     "data": {
      "text/plain": [
       "{'batching': (([1, 2], [3, 4]), ([5],))}"
      ]
     },
     "execution_count": 15,
     "metadata": {},
     "output_type": "execute_result"
    }
   ],
   "source": [
    "p = Pipeline()\n",
    "p.batching(2).batching(2)\n",
    "p.emit([1,2,3,4,5])"
   ]
  },
  {
   "cell_type": "markdown",
   "metadata": {},
   "source": [
    "As you can see, `batching` only returned last `batching` because the key in dictionary is duplicate. So to prevent any duplicate,"
   ]
  },
  {
   "cell_type": "code",
   "execution_count": 16,
   "metadata": {},
   "outputs": [
    {
     "data": {
      "text/plain": [
       "{'batching': ([1, 2], [3, 4], [5]),\n",
       " 'batching_second': (([1, 2], [3, 4]), ([5],))}"
      ]
     },
     "execution_count": 16,
     "metadata": {},
     "output_type": "execute_result"
    }
   ],
   "source": [
    "p = Pipeline()\n",
    "p.batching(2).batching(2, name = 'second')\n",
    "p.emit([1,2,3,4,5])"
   ]
  },
  {
   "cell_type": "markdown",
   "metadata": {},
   "source": [
    "#### foreach_map\n",
    "\n",
    "`foreach_map` is simply apply a function for each elements in a list."
   ]
  },
  {
   "cell_type": "code",
   "execution_count": 36,
   "metadata": {},
   "outputs": [
    {
     "data": {
      "text/plain": [
       "{'generate': [0, 1, 2, 3, 4], 'x': [0, 1, 4, 9, 16]}"
      ]
     },
     "execution_count": 36,
     "metadata": {},
     "output_type": "execute_result"
    }
   ],
   "source": [
    "p = Pipeline()\n",
    "\n",
    "def x(a):\n",
    "    return a * a\n",
    "\n",
    "p.map(lambda x: [i for i in range(x)], name = 'generate').foreach_map(x)\n",
    "p.emit(5)"
   ]
  },
  {
   "cell_type": "code",
   "execution_count": 18,
   "metadata": {},
   "outputs": [
    {
     "data": {
      "text/plain": [
       "{'generate': [0, 1, 2, 3, 4, 5, 6, 7, 8],\n",
       " 'batching': ([0, 1], [2, 3], [4, 5], [6, 7], [8]),\n",
       " 'x': [1, 5, 9, 13, 8]}"
      ]
     },
     "execution_count": 18,
     "metadata": {},
     "output_type": "execute_result"
    }
   ],
   "source": [
    "p = Pipeline()\n",
    "\n",
    "def x(a):\n",
    "    return sum(a)\n",
    "\n",
    "p.map(lambda x: [i for i in range(x)], name = 'generate').batching(2).foreach_map(x)\n",
    "p.emit(9)"
   ]
  },
  {
   "cell_type": "markdown",
   "metadata": {},
   "source": [
    "#### partition\n",
    "\n",
    "`partition` is simply to group multiple `emit` into N size of tuple. Each successful partition, N count will reset."
   ]
  },
  {
   "cell_type": "code",
   "execution_count": 19,
   "metadata": {},
   "outputs": [
    {
     "data": {
      "text/plain": [
       "{}"
      ]
     },
     "execution_count": 19,
     "metadata": {},
     "output_type": "execute_result"
    }
   ],
   "source": [
    "p = Pipeline()\n",
    "p.partition(3).map(lambda x: sum(x), name = 'sum')\n",
    "p.emit(1)"
   ]
  },
  {
   "cell_type": "markdown",
   "metadata": {},
   "source": [
    "First emit nothing happened because `partition` only proceed if we `emit` after N size."
   ]
  },
  {
   "cell_type": "code",
   "execution_count": 20,
   "metadata": {},
   "outputs": [
    {
     "data": {
      "text/plain": [
       "{}"
      ]
     },
     "execution_count": 20,
     "metadata": {},
     "output_type": "execute_result"
    }
   ],
   "source": [
    "p.emit(2)"
   ]
  },
  {
   "cell_type": "code",
   "execution_count": 21,
   "metadata": {},
   "outputs": [
    {
     "data": {
      "text/plain": [
       "{'partition': (1, 2, 3), 'sum': 6}"
      ]
     },
     "execution_count": 21,
     "metadata": {},
     "output_type": "execute_result"
    }
   ],
   "source": [
    "p.emit(3)"
   ]
  },
  {
   "cell_type": "code",
   "execution_count": 22,
   "metadata": {},
   "outputs": [
    {
     "data": {
      "text/plain": [
       "{'partition': (1, 2, 3), 'sum': 6}"
      ]
     },
     "execution_count": 22,
     "metadata": {},
     "output_type": "execute_result"
    }
   ],
   "source": [
    "p.emit(4) # not yet, N count reset, returned last state"
   ]
  },
  {
   "cell_type": "code",
   "execution_count": 23,
   "metadata": {},
   "outputs": [
    {
     "data": {
      "text/plain": [
       "{'partition': (1, 2, 3), 'sum': 6}"
      ]
     },
     "execution_count": 23,
     "metadata": {},
     "output_type": "execute_result"
    }
   ],
   "source": [
    "p.emit(5) # not yet, N count reset, returned last state"
   ]
  },
  {
   "cell_type": "code",
   "execution_count": 24,
   "metadata": {},
   "outputs": [
    {
     "data": {
      "text/plain": [
       "{'partition': (4, 5, 6), 'sum': 15}"
      ]
     },
     "execution_count": 24,
     "metadata": {},
     "output_type": "execute_result"
    }
   ],
   "source": [
    "p.emit(6)"
   ]
  },
  {
   "cell_type": "markdown",
   "metadata": {},
   "source": [
    "#### sliding_window\n",
    "\n",
    "`partition` is simply to group multiple `emit` into N size of tuple."
   ]
  },
  {
   "cell_type": "code",
   "execution_count": 25,
   "metadata": {},
   "outputs": [
    {
     "data": {
      "text/plain": [
       "{'sliding_window': (1,), 'sum': 1}"
      ]
     },
     "execution_count": 25,
     "metadata": {},
     "output_type": "execute_result"
    }
   ],
   "source": [
    "p = Pipeline()\n",
    "p.sliding_window(3).map(lambda x: sum(x), name = 'sum')\n",
    "p.emit(1)"
   ]
  },
  {
   "cell_type": "code",
   "execution_count": 26,
   "metadata": {},
   "outputs": [
    {
     "data": {
      "text/plain": [
       "{'sliding_window': (1, 2), 'sum': 3}"
      ]
     },
     "execution_count": 26,
     "metadata": {},
     "output_type": "execute_result"
    }
   ],
   "source": [
    "p.emit(2)"
   ]
  },
  {
   "cell_type": "code",
   "execution_count": 27,
   "metadata": {},
   "outputs": [
    {
     "data": {
      "text/plain": [
       "{'sliding_window': (1, 2, 3), 'sum': 6}"
      ]
     },
     "execution_count": 27,
     "metadata": {},
     "output_type": "execute_result"
    }
   ],
   "source": [
    "p.emit(3)"
   ]
  },
  {
   "cell_type": "code",
   "execution_count": 28,
   "metadata": {},
   "outputs": [
    {
     "data": {
      "text/plain": [
       "{'sliding_window': (2, 3, 4), 'sum': 9}"
      ]
     },
     "execution_count": 28,
     "metadata": {},
     "output_type": "execute_result"
    }
   ],
   "source": [
    "p.emit(4)"
   ]
  },
  {
   "cell_type": "markdown",
   "metadata": {},
   "source": [
    "If you want exact size of N,"
   ]
  },
  {
   "cell_type": "code",
   "execution_count": 29,
   "metadata": {},
   "outputs": [
    {
     "data": {
      "text/plain": [
       "{}"
      ]
     },
     "execution_count": 29,
     "metadata": {},
     "output_type": "execute_result"
    }
   ],
   "source": [
    "p = Pipeline()\n",
    "p.sliding_window(3, return_partial = False).map(lambda x: sum(x), name = 'sum')\n",
    "p.emit(1)"
   ]
  },
  {
   "cell_type": "code",
   "execution_count": 30,
   "metadata": {},
   "outputs": [
    {
     "data": {
      "text/plain": [
       "{}"
      ]
     },
     "execution_count": 30,
     "metadata": {},
     "output_type": "execute_result"
    }
   ],
   "source": [
    "p.emit(2)"
   ]
  },
  {
   "cell_type": "code",
   "execution_count": 31,
   "metadata": {},
   "outputs": [
    {
     "data": {
      "text/plain": [
       "{'sliding_window': (1, 2, 3), 'sum': 6}"
      ]
     },
     "execution_count": 31,
     "metadata": {},
     "output_type": "execute_result"
    }
   ],
   "source": [
    "p.emit(3)"
   ]
  },
  {
   "cell_type": "code",
   "execution_count": 32,
   "metadata": {},
   "outputs": [
    {
     "data": {
      "text/plain": [
       "{'sliding_window': (2, 3, 4), 'sum': 9}"
      ]
     },
     "execution_count": 32,
     "metadata": {},
     "output_type": "execute_result"
    }
   ],
   "source": [
    "p.emit(4)"
   ]
  },
  {
   "cell_type": "markdown",
   "metadata": {},
   "source": [
    "#### flatten\n",
    "\n",
    "`flatten` simply to flatten nested list."
   ]
  },
  {
   "cell_type": "code",
   "execution_count": 33,
   "metadata": {},
   "outputs": [
    {
     "data": {
      "text/plain": [
       "{'generate': [0, 1, 2, 3, 4, 5, 6, 7, 8, 9],\n",
       " 'batching': ([0, 1], [2, 3], [4, 5], [6, 7], [8, 9]),\n",
       " 'flatten': [0, 1, 2, 3, 4, 5, 6, 7, 8, 9]}"
      ]
     },
     "execution_count": 33,
     "metadata": {},
     "output_type": "execute_result"
    }
   ],
   "source": [
    "p = Pipeline()\n",
    "\n",
    "p.map(lambda x: [i for i in range(x)], name = 'generate').batching(2).flatten()\n",
    "p.emit(10)"
   ]
  },
  {
   "cell_type": "code",
   "execution_count": 34,
   "metadata": {},
   "outputs": [
    {
     "data": {
      "text/plain": [
       "{'generate': [0, 1, 2, 3, 4, 5, 6, 7, 8, 9],\n",
       " 'batching': (([0, 1], [2, 3], [4, 5]), ([6, 7], [8, 9])),\n",
       " 'flatten': [[0, 1], [2, 3], [4, 5], [6, 7], [8, 9]],\n",
       " 'flatten_nested': [0, 1, 2, 3, 4, 5, 6, 7, 8, 9]}"
      ]
     },
     "execution_count": 34,
     "metadata": {},
     "output_type": "execute_result"
    }
   ],
   "source": [
    "p = Pipeline()\n",
    "\n",
    "p.map(lambda x: [i for i in range(x)], name = 'generate').batching(2).batching(3).flatten().flatten(name = 'nested')\n",
    "p.emit(10)"
   ]
  },
  {
   "cell_type": "markdown",
   "metadata": {},
   "source": [
    "#### zip\n",
    "\n",
    "`zip` is to combine 2 branches into 1 branch."
   ]
  },
  {
   "cell_type": "code",
   "execution_count": 43,
   "metadata": {},
   "outputs": [
    {
     "data": {
      "image/png": "[encoded data removed]",
      "text/plain": [
       "<IPython.core.display.Image object>"
      ]
     },
     "execution_count": 43,
     "metadata": {},
     "output_type": "execute_result"
    }
   ],
   "source": [
    "p = Pipeline()\n",
    "\n",
    "left = p.map(lambda x: x + 1, name = 'left')\n",
    "right = p.map(lambda x: x + 10, name = 'right')\n",
    "left.zip(right).map(sum)\n",
    "p.visualize()"
   ]
  },
  {
   "cell_type": "code",
   "execution_count": 44,
   "metadata": {},
   "outputs": [
    {
     "data": {
      "text/plain": [
       "{'left': 3, 'right': 12, 'zip': (3, 12), 'sum': 15}"
      ]
     },
     "execution_count": 44,
     "metadata": {},
     "output_type": "execute_result"
    }
   ],
   "source": [
    "p.emit(2)"
   ]
  },
  {
   "cell_type": "code",
   "execution_count": 47,
   "metadata": {},
   "outputs": [
    {
     "data": {
      "image/png": "[encoded data removed]",
      "text/plain": [
       "<IPython.core.display.Image object>"
      ]
     },
     "execution_count": 47,
     "metadata": {},
     "output_type": "execute_result"
    }
   ],
   "source": [
    "p = Pipeline()\n",
    "\n",
    "left = p.map(lambda x: [i + 1 for i in range(x)], name = 'generate_left')\n",
    "right = p.map(lambda x: [i + 10 for i in range(x)], name = 'generate_right')\n",
    "left.zip(right).flatten()\n",
    "p.visualize()"
   ]
  },
  {
   "cell_type": "code",
   "execution_count": 49,
   "metadata": {},
   "outputs": [
    {
     "data": {
      "text/plain": [
       "{'generate_left': [1, 2, 3, 4, 5],\n",
       " 'generate_right': [10, 11, 12, 13, 14],\n",
       " 'zip': ([1, 2, 3, 4, 5], [10, 11, 12, 13, 14]),\n",
       " 'flatten': [1, 2, 3, 4, 5, 10, 11, 12, 13, 14]}"
      ]
     },
     "execution_count": 49,
     "metadata": {},
     "output_type": "execute_result"
    }
   ],
   "source": [
    "p.emit(5)"
   ]
  },
  {
   "cell_type": "markdown",
   "metadata": {},
   "source": [
    "#### foreach_zip\n",
    "\n",
    "`foreach_zip` same like `zip`, combine 2 branches into 1 branch, but will zip left and right hand sides for each elements."
   ]
  },
  {
   "cell_type": "code",
   "execution_count": 52,
   "metadata": {},
   "outputs": [
    {
     "data": {
      "image/png": "[encoded data removed]",
      "text/plain": [
       "<IPython.core.display.Image object>"
      ]
     },
     "execution_count": 52,
     "metadata": {},
     "output_type": "execute_result"
    }
   ],
   "source": [
    "p = Pipeline()\n",
    "\n",
    "left = p.map(lambda x: [i + 1 for i in range(x)], name = 'generate_left')\n",
    "right = p.map(lambda x: [i + 10 for i in range(x)], name = 'generate_right')\n",
    "left.foreach_zip(right).foreach_map(sum)\n",
    "p.visualize()"
   ]
  },
  {
   "cell_type": "code",
   "execution_count": 53,
   "metadata": {},
   "outputs": [
    {
     "data": {
      "text/plain": [
       "{'generate_left': [1, 2, 3, 4, 5],\n",
       " 'generate_right': [10, 11, 12, 13, 14],\n",
       " 'foreach_zip': ((1, 10), (2, 11), (3, 12), (4, 13), (5, 14)),\n",
       " 'sum': [11, 13, 15, 17, 19]}"
      ]
     },
     "execution_count": 53,
     "metadata": {},
     "output_type": "execute_result"
    }
   ],
   "source": [
    "p.emit(5)"
   ]
  },
  {
   "cell_type": "code",
   "execution_count": null,
   "metadata": {},
   "outputs": [],
   "source": []
  }
 ],
 "metadata": {
  "kernelspec": {
   "display_name": "Python 3",
   "language": "python",
   "name": "python3"
  },
  "language_info": {
   "codemirror_mode": {
    "name": "ipython",
    "version": 3
   },
   "file_extension": ".py",
   "mimetype": "text/x-python",
   "name": "python",
   "nbconvert_exporter": "python",
   "pygments_lexer": "ipython3",
   "version": "3.7.7"
  }
 },
 "nbformat": 4,
 "nbformat_minor": 4
}

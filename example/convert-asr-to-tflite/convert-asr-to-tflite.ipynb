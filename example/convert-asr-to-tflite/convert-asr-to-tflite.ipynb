{
 "cells": [
  {
   "cell_type": "markdown",
   "metadata": {},
   "source": [
    "# Convert to TFLite"
   ]
  },
  {
   "cell_type": "markdown",
   "metadata": {},
   "source": [
    "<div class=\"alert alert-info\">\n",
    "\n",
    "This tutorial is available as an IPython notebook at [malaya-speech/example/convert-asr-to-tflite](https://github.com/huseinzol05/malaya-speech/tree/master/example/convert-asr-to-tflite).\n",
    "    \n",
    "</div>"
   ]
  },
  {
   "cell_type": "markdown",
   "metadata": {},
   "source": [
    "### Purpose"
   ]
  },
  {
   "cell_type": "markdown",
   "metadata": {},
   "source": [
    "We want to deploy our ASR model in smartphone / embedding devices."
   ]
  },
  {
   "cell_type": "markdown",
   "metadata": {},
   "source": [
    "### Download model\n",
    "\n",
    "In this example, I am going to use QuartzNet ASR model to convert to TFLite.\n",
    "\n",
    "**Right now TFLite only supported CTC greedy decoder**."
   ]
  },
  {
   "cell_type": "code",
   "execution_count": 20,
   "metadata": {},
   "outputs": [
    {
     "name": "stdout",
     "output_type": "stream",
     "text": [
      "total 457424\r\n",
      "-rw-r--r--  1 huseinzolkepli  staff    77B Nov 14 22:08 checkpoint\r\n",
      "-rw-r--r--  1 huseinzolkepli  staff    74M Nov 14 22:08 frozen_model.pb\r\n",
      "-rw-r--r--  1 huseinzolkepli  staff    74M Nov 14 22:25 frozen_model.pb.quantized\r\n",
      "-rw-r--r--  1 huseinzolkepli  staff    74M Nov 14 22:08 model.ckpt.data-00000-of-00001\r\n",
      "-rw-r--r--  1 huseinzolkepli  staff    23K Nov 14 22:08 model.ckpt.index\r\n",
      "-rw-r--r--  1 huseinzolkepli  staff   1.7M Nov 14 22:08 model.ckpt.meta\r\n"
     ]
    }
   ],
   "source": [
    "# !wget https://f000.backblazeb2.com/file/malaya-speech-model/pretrained/asr-quartznet-ctc-output-75k.tar.gz\n",
    "# !tar -zxf asr-quartznet-ctc-output-75k.tar.gz\n",
    "!ls -lh asr-quartznet-ctc-output"
   ]
  },
  {
   "cell_type": "code",
   "execution_count": 4,
   "metadata": {},
   "outputs": [],
   "source": [
    "# !wget https://raw.githubusercontent.com/huseinzol05/malaya-speech/master/session/prepare-asr/malaya-speech-sst-vocab.json"
   ]
  },
  {
   "cell_type": "code",
   "execution_count": 5,
   "metadata": {},
   "outputs": [],
   "source": [
    "import tensorflow as tf\n",
    "import malaya_speech\n",
    "import json"
   ]
  },
  {
   "cell_type": "code",
   "execution_count": 6,
   "metadata": {},
   "outputs": [],
   "source": [
    "with open('malaya-speech-sst-vocab.json') as fopen:\n",
    "    unique_vocab = json.load(fopen)"
   ]
  },
  {
   "cell_type": "markdown",
   "metadata": {},
   "source": [
    "### Load frozen graph\n",
    "\n",
    "To make sure our frozen graph not corrupted."
   ]
  },
  {
   "cell_type": "code",
   "execution_count": 7,
   "metadata": {},
   "outputs": [],
   "source": [
    "def load_graph(frozen_graph_filename):\n",
    "    with tf.gfile.GFile(frozen_graph_filename, 'rb') as f:\n",
    "        graph_def = tf.GraphDef()\n",
    "        graph_def.ParseFromString(f.read())\n",
    "    with tf.Graph().as_default() as graph:\n",
    "        tf.import_graph_def(graph_def)\n",
    "    return graph"
   ]
  },
  {
   "cell_type": "code",
   "execution_count": 8,
   "metadata": {},
   "outputs": [],
   "source": [
    "g = load_graph('asr-quartznet-ctc-output/frozen_model.pb')\n",
    "x = g.get_tensor_by_name('import/Placeholder:0')\n",
    "logits = g.get_tensor_by_name('import/logits:0')\n",
    "test_sess = tf.InteractiveSession(graph = g)"
   ]
  },
  {
   "cell_type": "markdown",
   "metadata": {},
   "source": [
    "1. `import/Placeholder`,\n",
    "\n",
    "Accept N-length of float32, this is a placeholder to feed signal.\n",
    "\n",
    "2. `import/logits`,\n",
    "\n",
    "Returned N-length of int32, represent string, need to reverse using provided `unique_vocab`."
   ]
  },
  {
   "cell_type": "code",
   "execution_count": 10,
   "metadata": {},
   "outputs": [
    {
     "data": {
      "text/plain": [
       "10.0"
      ]
     },
     "execution_count": 10,
     "metadata": {},
     "output_type": "execute_result"
    }
   ],
   "source": [
    "y, sr = malaya_speech.load('speech/khutbah/wadi-annuar.wav')\n",
    "len(y) / sr"
   ]
  },
  {
   "cell_type": "code",
   "execution_count": 11,
   "metadata": {},
   "outputs": [
    {
     "data": {
      "text/plain": [
       "array([[24,  3, 15,  6,  2, 15,  3, 13,  3, 16,  2, 20,  4, 12, 24,  3,\n",
       "        13,  3,  5,  3,  5,  2,  6,  5,  6,  2, 15,  9,  5,  6,  3,  2,\n",
       "        18,  3,  5, 17,  2, 10,  4, 10,  3, 14,  2,  6,  5,  6,  2, 11,\n",
       "         4,  7,  6, 11,  3,  2,  5,  3, 19,  6,  2, 16,  4,  5, 17,  3,\n",
       "        24,  3, 12,  2, 16,  9,  3, 10, 19,  6,  5,  2, 24,  3, 19,  3,\n",
       "         7,  2,  7,  3, 15,  6,  5,  6,  2,  3, 13, 13,  3, 14,  2, 16,\n",
       "         3, 11,  6, 13,  5,  6]], dtype=int32)"
      ]
     },
     "execution_count": 11,
     "metadata": {},
     "output_type": "execute_result"
    }
   ],
   "source": [
    "result = test_sess.run(logits, feed_dict = {x: y})\n",
    "result"
   ]
  },
  {
   "cell_type": "code",
   "execution_count": 13,
   "metadata": {},
   "outputs": [
    {
     "data": {
      "text/plain": [
       "'jadi dalam perjalanan ini dunia yang sesah ini ketika nabi mengajar muasbin jabat tadini allah makilni'"
      ]
     },
     "execution_count": 13,
     "metadata": {},
     "output_type": "execute_result"
    }
   ],
   "source": [
    "malaya_speech.char.decode(result[0], lookup = unique_vocab)"
   ]
  },
  {
   "cell_type": "markdown",
   "metadata": {},
   "source": [
    "Looks good!"
   ]
  },
  {
   "cell_type": "markdown",
   "metadata": {},
   "source": [
    "### Optimize frozen graph\n",
    "\n",
    "Before we convert frozen graph to tflite, we need to optimize the frozen graph,\n",
    "\n",
    "1. tflite cannot initiate random values (initiated during dropout, etc), so we need to convert to constants.\n",
    "2. we do not want dropout operation.\n",
    "3. Change batch norm to constants."
   ]
  },
  {
   "cell_type": "code",
   "execution_count": 15,
   "metadata": {},
   "outputs": [],
   "source": [
    "from tensorflow.tools.graph_transforms import TransformGraph"
   ]
  },
  {
   "cell_type": "code",
   "execution_count": 16,
   "metadata": {
    "scrolled": true
   },
   "outputs": [
    {
     "name": "stdout",
     "output_type": "stream",
     "text": [
      "WARNING:tensorflow:From <ipython-input-16-1917439c87c6>:10: FastGFile.__init__ (from tensorflow.python.platform.gfile) is deprecated and will be removed in a future version.\n",
      "Instructions for updating:\n",
      "Use tf.gfile.GFile.\n"
     ]
    }
   ],
   "source": [
    "transforms = ['add_default_attributes',\n",
    "             'remove_nodes(op=Identity, op=CheckNumerics, op=Dropout)',\n",
    "             'fold_constants(ignore_errors=true)',\n",
    "             'fold_batch_norms',\n",
    "             'fold_old_batch_norms',\n",
    "             'strip_unused_nodes',\n",
    "             'sort_by_execution_order']\n",
    "\n",
    "input_graph_def = tf.GraphDef()\n",
    "with tf.gfile.FastGFile('asr-quartznet-ctc-output/frozen_model.pb', 'rb') as f:\n",
    "    input_graph_def.ParseFromString(f.read())\n",
    "    \n",
    "transformed_graph_def = TransformGraph(input_graph_def, \n",
    "                                       ['Placeholder'], \n",
    "                                       ['logits'], \n",
    "                                       transforms)\n",
    "\n",
    "with tf.gfile.GFile('asr-quartznet-ctc-output/frozen_model.pb.quantized', 'wb') as f:\n",
    "    f.write(transformed_graph_def.SerializeToString())"
   ]
  },
  {
   "cell_type": "markdown",
   "metadata": {},
   "source": [
    "### Convert to TFLite\n",
    "\n",
    "Right now, tflite not yet supported dynamic length of input, so in this example, I want the tflite model able to accept 10 seconds of input (16k sample rate)."
   ]
  },
  {
   "cell_type": "code",
   "execution_count": 17,
   "metadata": {},
   "outputs": [],
   "source": [
    "converter = tf.compat.v1.lite.TFLiteConverter.from_frozen_graph(\n",
    "    graph_def_file='asr-quartznet-ctc-output/frozen_model.pb.quantized',\n",
    "    input_arrays=['Placeholder'],\n",
    "    input_shapes={'Placeholder' : [16000 * 10]},\n",
    "    output_arrays=['logits']\n",
    ")"
   ]
  },
  {
   "cell_type": "code",
   "execution_count": 18,
   "metadata": {},
   "outputs": [],
   "source": [
    "converter.target_spec.supported_ops = [tf.lite.OpsSet.TFLITE_BUILTINS, tf.lite.OpsSet.SELECT_TF_OPS]\n",
    "converter.optimizations = [tf.lite.Optimize.OPTIMIZE_FOR_SIZE]\n",
    "converter.experimental_new_converter = True"
   ]
  },
  {
   "cell_type": "code",
   "execution_count": 19,
   "metadata": {},
   "outputs": [
    {
     "data": {
      "text/plain": [
       "19738936"
      ]
     },
     "execution_count": 19,
     "metadata": {},
     "output_type": "execute_result"
    }
   ],
   "source": [
    "tflite_model = converter.convert()\n",
    "open('asr-quartznet-ctc.tflite', 'wb').write(tflite_model)"
   ]
  },
  {
   "cell_type": "markdown",
   "metadata": {},
   "source": [
    "Output size ~19.7MB, original size is 74MB."
   ]
  }
 ],
 "metadata": {
  "kernelspec": {
   "display_name": "Python 3",
   "language": "python",
   "name": "python3"
  },
  "language_info": {
   "codemirror_mode": {
    "name": "ipython",
    "version": 3
   },
   "file_extension": ".py",
   "mimetype": "text/x-python",
   "name": "python",
   "nbconvert_exporter": "python",
   "pygments_lexer": "ipython3",
   "version": "3.7.7"
  }
 },
 "nbformat": 4,
 "nbformat_minor": 4
}

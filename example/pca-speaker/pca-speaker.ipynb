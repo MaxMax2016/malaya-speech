{
 "cells": [
  {
   "cell_type": "markdown",
   "id": "statutory-rings",
   "metadata": {},
   "source": [
    "# Principal Component for Speakers"
   ]
  },
  {
   "cell_type": "markdown",
   "id": "empirical-found",
   "metadata": {},
   "source": [
    "<div class=\"alert alert-info\">\n",
    "\n",
    "This tutorial is available as an IPython notebook at [malaya-speech/example/pca-speaker](https://github.com/huseinzol05/malaya-speech/tree/master/example/pca-speaker).\n",
    "    \n",
    "</div>"
   ]
  },
  {
   "cell_type": "markdown",
   "id": "persistent-assets",
   "metadata": {},
   "source": [
    "<div class=\"alert alert-info\">\n",
    "\n",
    "This module is language independent, so it save to use on different languages. Pretrained models trained on multilanguages.\n",
    "    \n",
    "</div>"
   ]
  },
  {
   "cell_type": "markdown",
   "id": "frank-bracket",
   "metadata": {},
   "source": [
    "<div class=\"alert alert-warning\">\n",
    "\n",
    "This is an application of malaya-speech Pipeline, read more about malaya-speech Pipeline at [malaya-speech/example/pipeline](https://github.com/huseinzol05/malaya-speech/tree/master/example/pipeline).\n",
    "    \n",
    "</div>"
   ]
  },
  {
   "cell_type": "code",
   "execution_count": 1,
   "id": "internal-yukon",
   "metadata": {},
   "outputs": [],
   "source": [
    "from malaya_speech import Pipeline\n",
    "import malaya_speech\n",
    "import numpy as np"
   ]
  },
  {
   "cell_type": "markdown",
   "id": "running-optimization",
   "metadata": {},
   "source": [
    "### List available deep model"
   ]
  },
  {
   "cell_type": "code",
   "execution_count": 2,
   "id": "honey-exhibition",
   "metadata": {},
   "outputs": [
    {
     "name": "stderr",
     "output_type": "stream",
     "text": [
      "INFO:root:tested on VoxCeleb2 test set. Lower EER is better.\n"
     ]
    },
    {
     "data": {
      "text/html": [
       "<div>\n",
       "<style scoped>\n",
       "    .dataframe tbody tr th:only-of-type {\n",
       "        vertical-align: middle;\n",
       "    }\n",
       "\n",
       "    .dataframe tbody tr th {\n",
       "        vertical-align: top;\n",
       "    }\n",
       "\n",
       "    .dataframe thead th {\n",
       "        text-align: right;\n",
       "    }\n",
       "</style>\n",
       "<table border=\"1\" class=\"dataframe\">\n",
       "  <thead>\n",
       "    <tr style=\"text-align: right;\">\n",
       "      <th></th>\n",
       "      <th>Size (MB)</th>\n",
       "      <th>Quantized Size (MB)</th>\n",
       "      <th>Embedding Size</th>\n",
       "      <th>EER</th>\n",
       "    </tr>\n",
       "  </thead>\n",
       "  <tbody>\n",
       "    <tr>\n",
       "      <th>deep-speaker</th>\n",
       "      <td>96.7</td>\n",
       "      <td>24.40</td>\n",
       "      <td>512.0</td>\n",
       "      <td>0.21870</td>\n",
       "    </tr>\n",
       "    <tr>\n",
       "      <th>vggvox-v1</th>\n",
       "      <td>70.8</td>\n",
       "      <td>17.70</td>\n",
       "      <td>1024.0</td>\n",
       "      <td>0.14070</td>\n",
       "    </tr>\n",
       "    <tr>\n",
       "      <th>vggvox-v2</th>\n",
       "      <td>43.2</td>\n",
       "      <td>7.92</td>\n",
       "      <td>512.0</td>\n",
       "      <td>0.04450</td>\n",
       "    </tr>\n",
       "    <tr>\n",
       "      <th>speakernet</th>\n",
       "      <td>35.0</td>\n",
       "      <td>8.88</td>\n",
       "      <td>7205.0</td>\n",
       "      <td>0.02122</td>\n",
       "    </tr>\n",
       "  </tbody>\n",
       "</table>\n",
       "</div>"
      ],
      "text/plain": [
       "              Size (MB)  Quantized Size (MB)  Embedding Size      EER\n",
       "deep-speaker       96.7                24.40           512.0  0.21870\n",
       "vggvox-v1          70.8                17.70          1024.0  0.14070\n",
       "vggvox-v2          43.2                 7.92           512.0  0.04450\n",
       "speakernet         35.0                 8.88          7205.0  0.02122"
      ]
     },
     "execution_count": 2,
     "metadata": {},
     "output_type": "execute_result"
    }
   ],
   "source": [
    "malaya_speech.speaker_vector.available_model()"
   ]
  },
  {
   "cell_type": "markdown",
   "id": "minor-emerald",
   "metadata": {},
   "source": [
    "**Smaller EER the better model is**."
   ]
  },
  {
   "cell_type": "markdown",
   "id": "burning-communist",
   "metadata": {},
   "source": [
    "### Load deep model\n",
    "\n",
    "```python\n",
    "def deep_model(model: str = 'speakernet', quantized: bool = False, **kwargs):\n",
    "    \"\"\"\n",
    "    Load Speaker2Vec model.\n",
    "\n",
    "    Parameters\n",
    "    ----------\n",
    "    model : str, optional (default='speakernet')\n",
    "        Model architecture supported. Allowed values:\n",
    "\n",
    "        * ``'vggvox-v1'`` - VGGVox V1, embedding size 1024\n",
    "        * ``'vggvox-v2'`` - VGGVox V2, embedding size 512\n",
    "        * ``'deep-speaker'`` - Deep Speaker, embedding size 512\n",
    "        * ``'speakernet'`` - SpeakerNet, embedding size 7205\n",
    "\n",
    "    quantized : bool, optional (default=False)\n",
    "        if True, will load 8-bit quantized model. \n",
    "        Quantized model not necessary faster, totally depends on the machine.\n",
    "\n",
    "    Returns\n",
    "    -------\n",
    "    result : malaya_speech.supervised.classification.load function\n",
    "    \"\"\"\n",
    "```"
   ]
  },
  {
   "cell_type": "code",
   "execution_count": 3,
   "id": "packed-shell",
   "metadata": {},
   "outputs": [],
   "source": [
    "model = malaya_speech.speaker_vector.deep_model('speakernet')\n",
    "model_vggvox = malaya_speech.speaker_vector.deep_model('vggvox-v2')"
   ]
  },
  {
   "cell_type": "code",
   "execution_count": 4,
   "id": "raised-round",
   "metadata": {},
   "outputs": [
    {
     "data": {
      "text/plain": [
       "['speech/example-speaker/haqkiem.wav',\n",
       " 'speech/example-speaker/husein-generated.wav',\n",
       " 'speech/example-speaker/khalil-nooh.wav',\n",
       " 'speech/example-speaker/muhyiddin-yassin.wav',\n",
       " 'speech/example-speaker/mas-aisyah.wav',\n",
       " 'speech/example-speaker/female.wav',\n",
       " 'speech/example-speaker/shafiqah-idayu.wav',\n",
       " 'speech/example-speaker/husein-zolkepli.wav']"
      ]
     },
     "execution_count": 4,
     "metadata": {},
     "output_type": "execute_result"
    }
   ],
   "source": [
    "from glob import glob\n",
    "\n",
    "speakers = glob('speech/example-speaker/*.wav')\n",
    "speakers"
   ]
  },
  {
   "cell_type": "markdown",
   "id": "billion-guess",
   "metadata": {},
   "source": [
    "### Pipeline for SpeakerNet"
   ]
  },
  {
   "cell_type": "code",
   "execution_count": 5,
   "id": "traditional-steam",
   "metadata": {},
   "outputs": [],
   "source": [
    "def load_wav(file):\n",
    "    return malaya_speech.load(file)[0]\n",
    "\n",
    "p = Pipeline()\n",
    "frame = p.foreach_map(load_wav).map(model)"
   ]
  },
  {
   "cell_type": "code",
   "execution_count": 7,
   "id": "exclusive-practitioner",
   "metadata": {},
   "outputs": [
    {
     "data": {
      "image/png": "[encoded data removed]",
      "text/plain": [
       "<IPython.core.display.Image object>"
      ]
     },
     "execution_count": 7,
     "metadata": {},
     "output_type": "execute_result"
    }
   ],
   "source": [
    "p.visualize()"
   ]
  },
  {
   "cell_type": "markdown",
   "id": "efficient-tanzania",
   "metadata": {},
   "source": [
    "### Pipeline for VGGVox V2"
   ]
  },
  {
   "cell_type": "code",
   "execution_count": 6,
   "id": "maritime-virtue",
   "metadata": {},
   "outputs": [],
   "source": [
    "p_vggvox = Pipeline()\n",
    "frame_vggvox = p_vggvox.foreach_map(load_wav).map(model_vggvox)"
   ]
  },
  {
   "cell_type": "code",
   "execution_count": 8,
   "id": "secondary-benjamin",
   "metadata": {},
   "outputs": [
    {
     "data": {
      "image/png": "[encoded data removed]",
      "text/plain": [
       "<IPython.core.display.Image object>"
      ]
     },
     "execution_count": 8,
     "metadata": {},
     "output_type": "execute_result"
    }
   ],
   "source": [
    "p_vggvox.visualize()"
   ]
  },
  {
   "cell_type": "code",
   "execution_count": 10,
   "id": "entertaining-landing",
   "metadata": {},
   "outputs": [
    {
     "name": "stdout",
     "output_type": "stream",
     "text": [
      "CPU times: user 2.25 s, sys: 377 ms, total: 2.63 s\n",
      "Wall time: 509 ms\n"
     ]
    }
   ],
   "source": [
    "%%time\n",
    "\n",
    "r = p(speakers)"
   ]
  },
  {
   "cell_type": "code",
   "execution_count": 12,
   "id": "executed-korean",
   "metadata": {},
   "outputs": [
    {
     "name": "stdout",
     "output_type": "stream",
     "text": [
      "CPU times: user 26.6 s, sys: 3.73 s, total: 30.3 s\n",
      "Wall time: 7.48 s\n"
     ]
    }
   ],
   "source": [
    "%%time\n",
    "\n",
    "r_vggvox = p_vggvox(speakers)"
   ]
  },
  {
   "cell_type": "code",
   "execution_count": 16,
   "id": "exclusive-complement",
   "metadata": {},
   "outputs": [
    {
     "data": {
      "text/plain": [
       "((8, 7205), (8, 512))"
      ]
     },
     "execution_count": 16,
     "metadata": {},
     "output_type": "execute_result"
    }
   ],
   "source": [
    "r['speaker-vector'].shape, r_vggvox['speaker-vector'].shape"
   ]
  },
  {
   "cell_type": "markdown",
   "id": "handled-louis",
   "metadata": {},
   "source": [
    "### Component Analysis for SpeakerNet"
   ]
  },
  {
   "cell_type": "code",
   "execution_count": 17,
   "id": "military-onion",
   "metadata": {},
   "outputs": [],
   "source": [
    "from sklearn.decomposition import PCA\n",
    "\n",
    "pca = PCA(n_components = 2)\n",
    "components = pca.fit_transform(r['speaker-vector'])"
   ]
  },
  {
   "cell_type": "code",
   "execution_count": 21,
   "id": "single-blair",
   "metadata": {
    "scrolled": true
   },
   "outputs": [
    {
     "data": {
      "image/png": "[encoded data removed]",
      "text/plain": [
       "<Figure size 432x288 with 1 Axes>"
      ]
     },
     "metadata": {
      "needs_background": "light"
     },
     "output_type": "display_data"
    }
   ],
   "source": [
    "import matplotlib.pyplot as plt\n",
    "\n",
    "fig, ax = plt.subplots()\n",
    "ax.scatter(components[:, 0], components[:, 1])\n",
    "\n",
    "for i, speaker in enumerate(speakers):\n",
    "    speaker = speaker.split('/')[-1].replace('.wav', '')\n",
    "    ax.annotate(speaker, (components[i, 0], components[i, 1]))\n",
    "    \n",
    "plt.xlabel('Principal Component 1')\n",
    "plt.ylabel('Principal Component 2')\n",
    "plt.show()"
   ]
  },
  {
   "cell_type": "markdown",
   "id": "abroad-luxembourg",
   "metadata": {},
   "source": [
    "### Component Analysis for VGGVox V2"
   ]
  },
  {
   "cell_type": "code",
   "execution_count": 22,
   "id": "paperback-burden",
   "metadata": {},
   "outputs": [],
   "source": [
    "components = pca.fit_transform(r_vggvox['speaker-vector'])"
   ]
  },
  {
   "cell_type": "code",
   "execution_count": 23,
   "id": "blond-saudi",
   "metadata": {},
   "outputs": [
    {
     "data": {
      "image/png": "[encoded data removed]",
      "text/plain": [
       "<Figure size 432x288 with 1 Axes>"
      ]
     },
     "metadata": {
      "needs_background": "light"
     },
     "output_type": "display_data"
    }
   ],
   "source": [
    "fig, ax = plt.subplots()\n",
    "ax.scatter(components[:, 0], components[:, 1])\n",
    "\n",
    "for i, speaker in enumerate(speakers):\n",
    "    speaker = speaker.split('/')[-1].replace('.wav', '')\n",
    "    ax.annotate(speaker, (components[i, 0], components[i, 1]))\n",
    "    \n",
    "plt.xlabel('Principal Component 1')\n",
    "plt.ylabel('Principal Component 2')\n",
    "plt.show()"
   ]
  }
 ],
 "metadata": {
  "kernelspec": {
   "display_name": "Python 3",
   "language": "python",
   "name": "python3"
  },
  "language_info": {
   "codemirror_mode": {
    "name": "ipython",
    "version": 3
   },
   "file_extension": ".py",
   "mimetype": "text/x-python",
   "name": "python",
   "nbconvert_exporter": "python",
   "pygments_lexer": "ipython3",
   "version": "3.7.7"
  }
 },
 "nbformat": 4,
 "nbformat_minor": 5
}

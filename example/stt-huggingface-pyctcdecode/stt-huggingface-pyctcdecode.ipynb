{
 "cells": [
  {
   "cell_type": "markdown",
   "metadata": {},
   "source": [
    "# Speech-to-Text HuggingFace + pyctcdecode"
   ]
  },
  {
   "cell_type": "markdown",
   "metadata": {},
   "source": [
    "Finetuned hyperlocal languages on pretrained HuggingFace models + pyctcdecode with KenLM, https://huggingface.co/mesolitica"
   ]
  },
  {
   "cell_type": "markdown",
   "metadata": {},
   "source": [
    "<div class=\"alert alert-info\">\n",
    "\n",
    "This tutorial is available as an IPython notebook at [malaya-speech/example/stt-huggingface-pyctcdecode](https://github.com/huseinzol05/malaya-speech/tree/master/example/stt-huggingface-pyctcdecode).\n",
    "    \n",
    "</div>"
   ]
  },
  {
   "cell_type": "markdown",
   "metadata": {},
   "source": [
    "<div class=\"alert alert-warning\">\n",
    "\n",
    "This module is not language independent, so it not save to use on different languages. Pretrained models trained on hyperlocal languages.\n",
    "    \n",
    "</div>"
   ]
  },
  {
   "cell_type": "markdown",
   "metadata": {},
   "source": [
    "<div class=\"alert alert-warning\">\n",
    "\n",
    "This is an application of malaya-speech Pipeline, read more about malaya-speech Pipeline at [malaya-speech/example/pipeline](https://github.com/huseinzol05/malaya-speech/tree/master/example/pipeline).\n",
    "    \n",
    "</div>"
   ]
  },
  {
   "cell_type": "code",
   "execution_count": 1,
   "metadata": {},
   "outputs": [],
   "source": [
    "import malaya_speech\n",
    "import numpy as np\n",
    "from malaya_speech import Pipeline"
   ]
  },
  {
   "cell_type": "markdown",
   "metadata": {},
   "source": [
    "### Install pyctcdecode\n",
    "\n",
    "#### From PYPI\n",
    "\n",
    "```bash\n",
    "pip3 install pyctcdecode==0.1.0 pypi-kenlm==0.1.20210121\n",
    "```\n",
    "\n",
    "#### From source\n",
    "\n",
    "Check https://github.com/kensho-technologies/pyctcdecode how to build from source incase there is no available wheel for your operating system.\n",
    "\n",
    "Building from source should only take a few minutes.\n",
    "\n",
    "#### Benefit\n",
    "\n",
    "1. pyctcdecode accurate than ctc-decoders for certain cases, but slower than pyctcdecode.\n",
    "2. pip install and done, no need to compile."
   ]
  },
  {
   "cell_type": "markdown",
   "metadata": {},
   "source": [
    "### List available HuggingFace model"
   ]
  },
  {
   "cell_type": "code",
   "execution_count": 2,
   "metadata": {},
   "outputs": [
    {
     "data": {
      "text/html": [
       "<div>\n",
       "<style scoped>\n",
       "    .dataframe tbody tr th:only-of-type {\n",
       "        vertical-align: middle;\n",
       "    }\n",
       "\n",
       "    .dataframe tbody tr th {\n",
       "        vertical-align: top;\n",
       "    }\n",
       "\n",
       "    .dataframe thead th {\n",
       "        text-align: right;\n",
       "    }\n",
       "</style>\n",
       "<table border=\"1\" class=\"dataframe\">\n",
       "  <thead>\n",
       "    <tr style=\"text-align: right;\">\n",
       "      <th></th>\n",
       "      <th>CER</th>\n",
       "      <th>CER-LM</th>\n",
       "      <th>Language</th>\n",
       "      <th>Size (MB)</th>\n",
       "      <th>WER</th>\n",
       "      <th>WER-LM</th>\n",
       "    </tr>\n",
       "  </thead>\n",
       "  <tbody>\n",
       "    <tr>\n",
       "      <th>mesolitica/wav2vec2-xls-r-300m-mixed</th>\n",
       "      <td>0.048105</td>\n",
       "      <td>0.041196</td>\n",
       "      <td>[malay, singlish, mandarin]</td>\n",
       "      <td>1180</td>\n",
       "      <td>0.13222</td>\n",
       "      <td>0.098802</td>\n",
       "    </tr>\n",
       "  </tbody>\n",
       "</table>\n",
       "</div>"
      ],
      "text/plain": [
       "                                           CER    CER-LM  \\\n",
       "mesolitica/wav2vec2-xls-r-300m-mixed  0.048105  0.041196   \n",
       "\n",
       "                                                         Language Size (MB)  \\\n",
       "mesolitica/wav2vec2-xls-r-300m-mixed  [malay, singlish, mandarin]      1180   \n",
       "\n",
       "                                          WER    WER-LM  \n",
       "mesolitica/wav2vec2-xls-r-300m-mixed  0.13222  0.098802  "
      ]
     },
     "execution_count": 2,
     "metadata": {},
     "output_type": "execute_result"
    }
   ],
   "source": [
    "malaya_speech.stt.available_huggingface()"
   ]
  },
  {
   "cell_type": "markdown",
   "metadata": {},
   "source": [
    "### Load HuggingFace model\n",
    "\n",
    "```python\n",
    "def huggingface(model: str = 'mesolitica/wav2vec2-xls-r-300m-mixed', **kwargs):\n",
    "    \"\"\"\n",
    "    Load Finetuned models from HuggingFace. Required Tensorflow >= 2.0.\n",
    "\n",
    "    Parameters\n",
    "    ----------\n",
    "    model : str, optional (default='mesolitica/wav2vec2-xls-r-300m-mixed')\n",
    "        Model architecture supported. Allowed values:\n",
    "\n",
    "        * ``'mesolitica/wav2vec2-xls-r-300m-mixed'`` - wav2vec2 XLS-R 300M finetuned on (Malay + Singlish + Mandarin) languages.\n",
    "\n",
    "    Returns\n",
    "    -------\n",
    "    result : malaya_speech.model.huggingface.CTC class\n",
    "    \"\"\"\n",
    "```"
   ]
  },
  {
   "cell_type": "code",
   "execution_count": 3,
   "metadata": {},
   "outputs": [],
   "source": [
    "model = malaya_speech.stt.huggingface(model = 'mesolitica/wav2vec2-xls-r-300m-mixed')"
   ]
  },
  {
   "cell_type": "markdown",
   "metadata": {},
   "source": [
    "### Load sample"
   ]
  },
  {
   "cell_type": "code",
   "execution_count": 4,
   "metadata": {},
   "outputs": [],
   "source": [
    "ceramah, sr = malaya_speech.load('speech/khutbah/wadi-annuar.wav')\n",
    "record1, sr = malaya_speech.load('speech/record/savewav_2020-11-26_22-36-06_294832.wav')\n",
    "record2, sr = malaya_speech.load('speech/record/savewav_2020-11-26_22-40-56_929661.wav')\n",
    "singlish0, sr = malaya_speech.load('speech/singlish/singlish0.wav')\n",
    "singlish1, sr = malaya_speech.load('speech/singlish/singlish1.wav')\n",
    "singlish2, sr = malaya_speech.load('speech/singlish/singlish2.wav')\n",
    "mandarin0, sr = malaya_speech.load('speech/mandarin/597.wav')\n",
    "mandarin1, sr = malaya_speech.load('speech/mandarin/584.wav')\n",
    "mandarin2, sr = malaya_speech.load('speech/mandarin/509.wav')"
   ]
  },
  {
   "cell_type": "markdown",
   "metadata": {},
   "source": [
    "### Predict logits\n",
    "\n",
    "```python\n",
    "def predict_logits(self, inputs, norm_func=softmax):\n",
    "    \"\"\"\n",
    "    Predict logits from inputs.\n",
    "\n",
    "    Parameters\n",
    "    ----------\n",
    "    input: List[np.array]\n",
    "        List[np.array] or List[malaya_speech.model.frame.Frame].\n",
    "    norm_func: Callable, optional (default=malaya.utils.activation.softmax)\n",
    "\n",
    "\n",
    "    Returns\n",
    "    -------\n",
    "    result: List[np.array]\n",
    "    \"\"\"\n",
    "```"
   ]
  },
  {
   "cell_type": "code",
   "execution_count": 5,
   "metadata": {},
   "outputs": [
    {
     "name": "stdout",
     "output_type": "stream",
     "text": [
      "CPU times: user 35.7 s, sys: 3.31 s, total: 39 s\n",
      "Wall time: 3.63 s\n"
     ]
    }
   ],
   "source": [
    "%%time\n",
    "\n",
    "logits = model.predict_logits([ceramah, record1, record2])"
   ]
  },
  {
   "cell_type": "code",
   "execution_count": 6,
   "metadata": {},
   "outputs": [
    {
     "data": {
      "text/plain": [
       "(3, 499, 40)"
      ]
     },
     "execution_count": 6,
     "metadata": {},
     "output_type": "execute_result"
    }
   ],
   "source": [
    "logits.shape"
   ]
  },
  {
   "cell_type": "markdown",
   "metadata": {},
   "source": [
    "### Load ctc-decoders\n",
    "\n",
    "I will use `dump-combined` for this example."
   ]
  },
  {
   "cell_type": "code",
   "execution_count": 7,
   "metadata": {},
   "outputs": [],
   "source": [
    "from pyctcdecode import build_ctcdecoder\n",
    "from malaya_speech.utils.char import HF_CTC_VOCAB\n",
    "import kenlm"
   ]
  },
  {
   "cell_type": "code",
   "execution_count": 8,
   "metadata": {},
   "outputs": [],
   "source": [
    "lm = malaya_speech.language_model.kenlm(model = 'dump-combined')"
   ]
  },
  {
   "cell_type": "code",
   "execution_count": 9,
   "metadata": {},
   "outputs": [],
   "source": [
    "kenlm_model = kenlm.Model(lm)\n",
    "decoder = build_ctcdecoder(\n",
    "    HF_CTC_VOCAB + ['_'],\n",
    "    kenlm_model,\n",
    "    alpha=0.2,\n",
    "    beta=1.0,\n",
    "    ctc_token_idx=len(HF_CTC_VOCAB)\n",
    ")"
   ]
  },
  {
   "cell_type": "code",
   "execution_count": 10,
   "metadata": {},
   "outputs": [
    {
     "data": {
      "text/plain": [
       "39"
      ]
     },
     "execution_count": 10,
     "metadata": {},
     "output_type": "execute_result"
    }
   ],
   "source": [
    "len(HF_CTC_VOCAB)"
   ]
  },
  {
   "cell_type": "code",
   "execution_count": 14,
   "metadata": {},
   "outputs": [
    {
     "data": {
      "text/plain": [
       "'jadi dalam perjalanan ini dunia yang susah ini ketika nabi mengajar muaz bin jabal tadi ni allah ma ini'"
      ]
     },
     "execution_count": 14,
     "metadata": {},
     "output_type": "execute_result"
    }
   ],
   "source": [
    "out = decoder.decode_beams(logits[0], prune_history=True)\n",
    "d_lm, lm_state, timesteps, logit_score, lm_score = out[0]\n",
    "d_lm"
   ]
  }
 ],
 "metadata": {
  "kernelspec": {
   "display_name": "Python 3 (ipykernel)",
   "language": "python",
   "name": "python3"
  },
  "language_info": {
   "codemirror_mode": {
    "name": "ipython",
    "version": 3
   },
   "file_extension": ".py",
   "mimetype": "text/x-python",
   "name": "python",
   "nbconvert_exporter": "python",
   "pygments_lexer": "ipython3",
   "version": "3.8.10"
  },
  "varInspector": {
   "cols": {
    "lenName": 16,
    "lenType": 16,
    "lenVar": 40
   },
   "kernels_config": {
    "python": {
     "delete_cmd_postfix": "",
     "delete_cmd_prefix": "del ",
     "library": "var_list.py",
     "varRefreshCmd": "print(var_dic_list())"
    },
    "r": {
     "delete_cmd_postfix": ") ",
     "delete_cmd_prefix": "rm(",
     "library": "var_list.r",
     "varRefreshCmd": "cat(var_dic_list()) "
    }
   },
   "types_to_exclude": [
    "module",
    "function",
    "builtin_function_or_method",
    "instance",
    "_Feature"
   ],
   "window_display": false
  }
 },
 "nbformat": 4,
 "nbformat_minor": 4
}
